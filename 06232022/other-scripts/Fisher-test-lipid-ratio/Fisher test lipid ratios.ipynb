{
 "cells": [
  {
   "cell_type": "code",
   "execution_count": 16,
   "metadata": {},
   "outputs": [
    {
     "name": "stdout",
     "output_type": "stream",
     "text": [
      "  matching_pattern not_matching_pattern\n",
      "1                0                   13\n",
      "2               13                    0\n"
     ]
    },
    {
     "data": {
      "text/plain": [
       "\n",
       "\tFisher's Exact Test for Count Data\n",
       "\n",
       "data:  df\n",
       "p-value = 1.923e-07\n",
       "alternative hypothesis: true odds ratio is not equal to 1\n",
       "95 percent confidence interval:\n",
       " 0.00000000 0.05081071\n",
       "sample estimates:\n",
       "odds ratio \n",
       "         0 \n"
      ]
     },
     "metadata": {},
     "output_type": "display_data"
    }
   ],
   "source": [
    "#PC 400-699\n",
    "#NGP24h VS adjuvant\n",
    "#we are comparing whether there are more features that are increased than decreased within a given vaccine group\n",
    "#to see if the pattern is predominantly a pattern of increase or a pattern of decrease\n",
    "#for example, we want to see if there are significantly more increased sig PCs than decreased sig PCs in m/z 400-699.99 for the NGP24h vs adj comparison\n",
    "#first row is pattern of increase\n",
    "#second row is pattern of decrease\n",
    "matching_pattern<-c(0,13)\n",
    "not_matching_pattern<-c(13,0)\n",
    "df<-data.frame(matching_pattern, not_matching_pattern)\n",
    "print(df)\n",
    "fisher.test(df)"
   ]
  },
  {
   "cell_type": "code",
   "execution_count": 18,
   "metadata": {},
   "outputs": [
    {
     "name": "stdout",
     "output_type": "stream",
     "text": [
      "  matching_pattern not_matching_pattern\n",
      "1                6                    9\n",
      "2                9                    6\n"
     ]
    },
    {
     "data": {
      "text/plain": [
       "\n",
       "\tFisher's Exact Test for Count Data\n",
       "\n",
       "data:  df\n",
       "p-value = 0.4661\n",
       "alternative hypothesis: true odds ratio is not equal to 1\n",
       "95 percent confidence interval:\n",
       " 0.0807593 2.3758837\n",
       "sample estimates:\n",
       "odds ratio \n",
       " 0.4569634 \n"
      ]
     },
     "metadata": {},
     "output_type": "display_data"
    }
   ],
   "source": [
    "#PC 700-749\n",
    "#NGP24h VS adjuvant\n",
    "#we are comparing whether there are more features that are increased than decreased within a given vaccine group\n",
    "#to see if the pattern is predominantly a pattern of increase or a pattern of decrease\n",
    "#for example, we want to see if there are significantly more increased sig PCs than decreased sig PCs in m/z 400-699.99 for the NGP24h vs adj comparison\n",
    "#first row is pattern of increase\n",
    "#second row is pattern of decrease\n",
    "matching_pattern<-c(6,9)\n",
    "not_matching_pattern<-c(9,6)\n",
    "df<-data.frame(matching_pattern, not_matching_pattern)\n",
    "print(df)\n",
    "fisher.test(df)"
   ]
  },
  {
   "cell_type": "code",
   "execution_count": 20,
   "metadata": {},
   "outputs": [
    {
     "name": "stdout",
     "output_type": "stream",
     "text": [
      "  matching_pattern not_matching_pattern\n",
      "1               18                   12\n",
      "2               12                   18\n"
     ]
    },
    {
     "data": {
      "text/plain": [
       "\n",
       "\tFisher's Exact Test for Count Data\n",
       "\n",
       "data:  df\n",
       "p-value = 0.1964\n",
       "alternative hypothesis: true odds ratio is not equal to 1\n",
       "95 percent confidence interval:\n",
       " 0.7128948 7.1819129\n",
       "sample estimates:\n",
       "odds ratio \n",
       "  2.218968 \n"
      ]
     },
     "metadata": {},
     "output_type": "display_data"
    }
   ],
   "source": [
    "#PC 750+\n",
    "#NGP24h VS adjuvant\n",
    "#we are comparing whether there are more features that are increased than decreased within a given vaccine group\n",
    "#to see if the pattern is predominantly a pattern of increase or a pattern of decrease\n",
    "#for example, we want to see if there are significantly more increased sig PCs than decreased sig PCs in m/z 400-699.99 for the NGP24h vs adj comparison\n",
    "#first row is pattern of increase\n",
    "#second row is pattern of decrease\n",
    "matching_pattern<-c(18,12)\n",
    "not_matching_pattern<-c(12,18)\n",
    "df<-data.frame(matching_pattern, not_matching_pattern)\n",
    "print(df)\n",
    "fisher.test(df)"
   ]
  },
  {
   "cell_type": "code",
   "execution_count": 23,
   "metadata": {},
   "outputs": [
    {
     "name": "stdout",
     "output_type": "stream",
     "text": [
      "  matching_pattern not_matching_pattern\n",
      "1                2                   50\n",
      "2               50                    2\n"
     ]
    },
    {
     "data": {
      "text/plain": [
       "\n",
       "\tFisher's Exact Test for Count Data\n",
       "\n",
       "data:  df\n",
       "p-value < 2.2e-16\n",
       "alternative hypothesis: true odds ratio is not equal to 1\n",
       "95 percent confidence interval:\n",
       " 0.0001280464 0.0142643448\n",
       "sample estimates:\n",
       " odds ratio \n",
       "0.002042451 \n"
      ]
     },
     "metadata": {},
     "output_type": "display_data"
    }
   ],
   "source": [
    "#CAR\n",
    "#NGP24h VS adjuvant\n",
    "#we are comparing whether there are more features that are increased than decreased within a given vaccine group\n",
    "#to see if the pattern is predominantly a pattern of increase or a pattern of decrease\n",
    "#for example, we want to see if there are significantly more increased sig PCs than decreased sig PCs in m/z 400-699.99 for the NGP24h vs adj comparison\n",
    "#first row is pattern of increase\n",
    "#second row is pattern of decrease\n",
    "matching_pattern<-c(2,50)\n",
    "not_matching_pattern<-c(50,2)\n",
    "df<-data.frame(matching_pattern, not_matching_pattern)\n",
    "print(df)\n",
    "fisher.test(df)"
   ]
  },
  {
   "cell_type": "code",
   "execution_count": 17,
   "metadata": {},
   "outputs": [
    {
     "name": "stdout",
     "output_type": "stream",
     "text": [
      "  matching_pattern not_matching_pattern\n",
      "1                0                    2\n",
      "2                2                    0\n"
     ]
    },
    {
     "data": {
      "text/plain": [
       "\n",
       "\tFisher's Exact Test for Count Data\n",
       "\n",
       "data:  df\n",
       "p-value = 0.3333\n",
       "alternative hypothesis: true odds ratio is not equal to 1\n",
       "95 percent confidence interval:\n",
       " 0.000000 4.557478\n",
       "sample estimates:\n",
       "odds ratio \n",
       "         0 \n"
      ]
     },
     "metadata": {},
     "output_type": "display_data"
    }
   ],
   "source": [
    "#PC 400-699\n",
    "#MASPpepK + NGP24h VS adjuvant\n",
    "#we are comparing whether there are more features that are increased than decreased within a given vaccine group\n",
    "#to see if the pattern is predominantly a pattern of increase or a pattern of decrease\n",
    "#for example, we want to see if there are significantly more increased sig PCs than decreased sig PCs in m/z 400-699.99 for the NGP24h vs adj comparison\n",
    "#first row is pattern of increase\n",
    "#second row is pattern of decrease\n",
    "matching_pattern<-c(0,2)\n",
    "not_matching_pattern<-c(2,0)\n",
    "df<-data.frame(matching_pattern, not_matching_pattern)\n",
    "print(df)\n",
    "fisher.test(df)"
   ]
  },
  {
   "cell_type": "code",
   "execution_count": 19,
   "metadata": {},
   "outputs": [
    {
     "name": "stdout",
     "output_type": "stream",
     "text": [
      "  matching_pattern not_matching_pattern\n",
      "1                0                    2\n",
      "2                2                    0\n"
     ]
    },
    {
     "data": {
      "text/plain": [
       "\n",
       "\tFisher's Exact Test for Count Data\n",
       "\n",
       "data:  df\n",
       "p-value = 0.3333\n",
       "alternative hypothesis: true odds ratio is not equal to 1\n",
       "95 percent confidence interval:\n",
       " 0.000000 4.557478\n",
       "sample estimates:\n",
       "odds ratio \n",
       "         0 \n"
      ]
     },
     "metadata": {},
     "output_type": "display_data"
    }
   ],
   "source": [
    "#PC 700-749\n",
    "#MASPpepK + NGP24h VS adjuvant\n",
    "#we are comparing whether there are more features that are increased than decreased within a given vaccine group\n",
    "#to see if the pattern is predominantly a pattern of increase or a pattern of decrease\n",
    "#for example, we want to see if there are significantly more increased sig PCs than decreased sig PCs in m/z 400-699.99 for the NGP24h vs adj comparison\n",
    "#first row is pattern of increase\n",
    "#second row is pattern of decrease\n",
    "matching_pattern<-c(0,2)\n",
    "not_matching_pattern<-c(2,0)\n",
    "df<-data.frame(matching_pattern, not_matching_pattern)\n",
    "print(df)\n",
    "fisher.test(df)"
   ]
  },
  {
   "cell_type": "code",
   "execution_count": 24,
   "metadata": {},
   "outputs": [
    {
     "name": "stdout",
     "output_type": "stream",
     "text": [
      "  matching_pattern not_matching_pattern\n",
      "1                2                    0\n",
      "2                0                    2\n"
     ]
    },
    {
     "data": {
      "text/plain": [
       "\n",
       "\tFisher's Exact Test for Count Data\n",
       "\n",
       "data:  df\n",
       "p-value = 0.3333\n",
       "alternative hypothesis: true odds ratio is not equal to 1\n",
       "95 percent confidence interval:\n",
       " 0.2194196       Inf\n",
       "sample estimates:\n",
       "odds ratio \n",
       "       Inf \n"
      ]
     },
     "metadata": {},
     "output_type": "display_data"
    }
   ],
   "source": [
    "#PC 750+\n",
    "#MASPpepK + NGP24h VS adjuvant\n",
    "#we are comparing whether there are more features that are increased than decreased within a given vaccine group\n",
    "#to see if the pattern is predominantly a pattern of increase or a pattern of decrease\n",
    "#for example, we want to see if there are significantly more increased sig PCs than decreased sig PCs in m/z 400-699.99 for the NGP24h vs adj comparison\n",
    "#first row is pattern of increase\n",
    "#second row is pattern of decrease\n",
    "matching_pattern<-c(2,0)\n",
    "not_matching_pattern<-c(0,2)\n",
    "df<-data.frame(matching_pattern, not_matching_pattern)\n",
    "print(df)\n",
    "fisher.test(df)"
   ]
  },
  {
   "cell_type": "code",
   "execution_count": 25,
   "metadata": {},
   "outputs": [
    {
     "name": "stdout",
     "output_type": "stream",
     "text": [
      "  matching_pattern not_matching_pattern\n",
      "1                0                    1\n",
      "2                1                    0\n"
     ]
    },
    {
     "data": {
      "text/plain": [
       "\n",
       "\tFisher's Exact Test for Count Data\n",
       "\n",
       "data:  df\n",
       "p-value = 1\n",
       "alternative hypothesis: true odds ratio is not equal to 1\n",
       "95 percent confidence interval:\n",
       "  0.00000 39.00055\n",
       "sample estimates:\n",
       "odds ratio \n",
       "         0 \n"
      ]
     },
     "metadata": {},
     "output_type": "display_data"
    }
   ],
   "source": [
    "#CAR\n",
    "#MASPpepK + NGP24h VS adjuvant\n",
    "#we are comparing whether there are more features that are increased than decreased within a given vaccine group\n",
    "#to see if the pattern is predominantly a pattern of increase or a pattern of decrease\n",
    "#for example, we want to see if there are significantly more increased sig PCs than decreased sig PCs in m/z 400-699.99 for the NGP24h vs adj comparison\n",
    "#first row is pattern of increase\n",
    "#second row is pattern of decrease\n",
    "matching_pattern<-c(0,1)\n",
    "not_matching_pattern<-c(1,0)\n",
    "df<-data.frame(matching_pattern, not_matching_pattern)\n",
    "print(df)\n",
    "fisher.test(df)"
   ]
  },
  {
   "cell_type": "code",
   "execution_count": 26,
   "metadata": {},
   "outputs": [
    {
     "name": "stdout",
     "output_type": "stream",
     "text": [
      "  matching_pattern not_matching_pattern\n",
      "1                2                   41\n",
      "2               41                    2\n"
     ]
    },
    {
     "data": {
      "text/plain": [
       "\n",
       "\tFisher's Exact Test for Count Data\n",
       "\n",
       "data:  df\n",
       "p-value < 2.2e-16\n",
       "alternative hypothesis: true odds ratio is not equal to 1\n",
       "95 percent confidence interval:\n",
       " 0.0001848949 0.0215336548\n",
       "sample estimates:\n",
       " odds ratio \n",
       "0.003031246 \n"
      ]
     },
     "metadata": {},
     "output_type": "display_data"
    }
   ],
   "source": [
    "#CAR\n",
    "#MASPpepK VS adjuvant\n",
    "#we are comparing whether there are more features that are increased than decreased within a given vaccine group\n",
    "#to see if the pattern is predominantly a pattern of increase or a pattern of decrease\n",
    "#for example, we want to see if there are significantly more increased sig PCs than decreased sig PCs in m/z 400-699.99 for the NGP24h vs adj comparison\n",
    "#first row is pattern of increase\n",
    "#second row is pattern of decrease\n",
    "matching_pattern<-c(2,41)\n",
    "not_matching_pattern<-c(41,2)\n",
    "df<-data.frame(matching_pattern, not_matching_pattern)\n",
    "print(df)\n",
    "fisher.test(df)"
   ]
  },
  {
   "cell_type": "code",
   "execution_count": null,
   "metadata": {},
   "outputs": [],
   "source": []
  }
 ],
 "metadata": {
  "kernelspec": {
   "display_name": "R",
   "language": "R",
   "name": "ir"
  },
  "language_info": {
   "codemirror_mode": "r",
   "file_extension": ".r",
   "mimetype": "text/x-r-source",
   "name": "R",
   "pygments_lexer": "r",
   "version": "3.6.1"
  }
 },
 "nbformat": 4,
 "nbformat_minor": 2
}
