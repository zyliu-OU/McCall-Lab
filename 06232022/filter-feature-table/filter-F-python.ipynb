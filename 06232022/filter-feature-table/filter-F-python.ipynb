{
 "cells": [
  {
   "cell_type": "code",
   "execution_count": 14,
   "id": "d4c1e65e",
   "metadata": {},
   "outputs": [
    {
     "name": "stdout",
     "output_type": "stream",
     "text": [
      "Empty DataFrame\n",
      "Columns: [sample_ID, Baboon, Heart.Ventricle, Heart.Section, Inflam.Score, Par.Load, IFNg, CD4, CD68, CD28, miR.29c.3p, miR.142.5p, miR.146b.5p, miR.208a.5p, miR.208b.5p, mir.210.3p, Pos_Overall, Group, animal_ID, Position_Toptobot_1to3, Ventricle, Group_Details, Group_Short, injection_order]\n",
      "Index: []\n",
      "\n",
      "[0 rows x 24 columns]\n"
     ]
    }
   ],
   "source": [
    "import seaborn as sns\n",
    "import numpy as np\n",
    "import pandas as pd\n",
    "import matplotlib.pyplot as plt\n",
    "\n",
    "# import data\n",
    "data_M_F = pd.read_csv(\"06232022-pos-M-F.csv\")\n",
    "data_mass_list = pd.read_csv(\"pos-all-union-wilcox-cutoff-005-mass-list.csv\")\n",
    "mass_list = data_mass_list.filename.to_list()\n",
    "mass_list.insert(0, \"filename\")\n",
    "\n",
    "# careful for the range, [a,b] mean a <= X < b. Also python is 0 based index.\n",
    "data_M = data_M_F.iloc[:, np.r_[0:25]]\n",
    "data_M = data_M.set_index('filename')\n",
    "data_F = data_M_F[mass_list]\n",
    "data_F = data_F.set_index('filename')\n",
    "\n",
    "# check the selected metadata features information\n",
    "print(data_M.head(0))\n",
    "\n",
    "data_M_F_filtered = pd.DataFrame(data_M).join(pd.DataFrame(data_F),how='outer')\n",
    "\n",
    "data_M_F_filtered.to_csv('06232022-pos-M-F-filtered.csv')"
   ]
  },
  {
   "cell_type": "code",
   "execution_count": null,
   "id": "d27fc6c8",
   "metadata": {},
   "outputs": [],
   "source": []
  }
 ],
 "metadata": {
  "kernelspec": {
   "display_name": "Python 3 (ipykernel)",
   "language": "python",
   "name": "python3"
  },
  "language_info": {
   "codemirror_mode": {
    "name": "ipython",
    "version": 3
   },
   "file_extension": ".py",
   "mimetype": "text/x-python",
   "name": "python",
   "nbconvert_exporter": "python",
   "pygments_lexer": "ipython3",
   "version": "3.8.19"
  }
 },
 "nbformat": 4,
 "nbformat_minor": 5
}
