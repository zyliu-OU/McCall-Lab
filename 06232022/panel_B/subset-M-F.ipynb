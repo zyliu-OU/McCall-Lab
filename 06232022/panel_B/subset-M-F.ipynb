{
 "cells": [
  {
   "cell_type": "code",
   "execution_count": null,
   "metadata": {},
   "outputs": [],
   "source": []
  },
  {
   "cell_type": "code",
   "execution_count": 1,
   "metadata": {},
   "outputs": [],
   "source": [
    "a <- read.csv(\"06232022-pos-M-F.csv\")"
   ]
  },
  {
   "cell_type": "code",
   "execution_count": 2,
   "metadata": {},
   "outputs": [
    {
     "name": "stderr",
     "output_type": "stream",
     "text": [
      "ERROR while rich displaying an object: Error in sprintf(wrap, header, body): 'fmt' length exceeds maximal format length 8192\n",
      "\n",
      "Traceback:\n",
      "1. FUN(X[[i]], ...)\n",
      "2. tryCatch(withCallingHandlers({\n",
      " .     if (!mime %in% names(repr::mime2repr)) \n",
      " .         stop(\"No repr_* for mimetype \", mime, \" in repr::mime2repr\")\n",
      " .     rpr <- repr::mime2repr[[mime]](obj)\n",
      " .     if (is.null(rpr)) \n",
      " .         return(NULL)\n",
      " .     prepare_content(is.raw(rpr), rpr)\n",
      " . }, error = error_handler), error = outer_handler)\n",
      "3. tryCatchList(expr, classes, parentenv, handlers)\n",
      "4. tryCatchOne(expr, names, parentenv, handlers[[1L]])\n",
      "5. doTryCatch(return(expr), name, parentenv, handler)\n",
      "6. withCallingHandlers({\n",
      " .     if (!mime %in% names(repr::mime2repr)) \n",
      " .         stop(\"No repr_* for mimetype \", mime, \" in repr::mime2repr\")\n",
      " .     rpr <- repr::mime2repr[[mime]](obj)\n",
      " .     if (is.null(rpr)) \n",
      " .         return(NULL)\n",
      " .     prepare_content(is.raw(rpr), rpr)\n",
      " . }, error = error_handler)\n",
      "7. repr::mime2repr[[mime]](obj)\n",
      "8. repr_latex.data.frame(obj)\n",
      "9. repr_matrix_generic(obj, sprintf(\"\\\\begin{tabular}{%s}\\n%%s%%s\\\\end{tabular}\\n\", \n",
      " .     cols), \"%s\\\\\\\\\\n\\\\hline\\n\", \"  &\", \" %s &\", \"%s\", \"\\t%s\\\\\\\\\\n\", \n",
      " .     \"%s &\", \" %s &\", escape_fun = latex_escape_vec, ...)\n",
      "10. sprintf(wrap, header, body)\n"
     ]
    },
    {
     "data": {
      "text/html": [
       "<table>\n",
       "<thead><tr><th scope=col>sampleid</th><th scope=col>sample_ID</th><th scope=col>Baboon</th><th scope=col>Heart.Ventricle</th><th scope=col>Heart.Section</th><th scope=col>Inflam.Score</th><th scope=col>Par.Load</th><th scope=col>IFNg</th><th scope=col>CD4</th><th scope=col>CD68</th><th scope=col>...</th><th scope=col>org_pos_mass_205.069_0.326_3895</th><th scope=col>org_pos_mass_185.033_0.321_3896</th><th scope=col>org_pos_mass_195.139_3.914_3897</th><th scope=col>org_pos_mass_473.15_0.324_3898</th><th scope=col>org_pos_mass_213.207_0.496_3899</th><th scope=col>org_pos_mass_354.011_0.314_3900</th><th scope=col>org_pos_mass_556.443_4.465_3901</th><th scope=col>org_pos_mass_179.128_0.32_3902</th><th scope=col>org_pos_mass_558.28_3.809_3903</th><th scope=col>org_pos_mass_255.231_4.563_3904</th></tr></thead>\n",
       "<tbody>\n",
       "\t<tr><td>G3_LV1_CV0417</td><td>417          </td><td>1            </td><td>LV           </td><td>Base         </td><td>0.5          </td><td>42.31        </td><td>42.966       </td><td> 9.058       </td><td>5.043        </td><td>...          </td><td> -34081643   </td><td> 1021300.5   </td><td> -91688.98   </td><td> 204773.37   </td><td> 784788.5    </td><td>-402209.1    </td><td>-2513102     </td><td> 3064214     </td><td>  946221.2   </td><td> 1949644     </td></tr>\n",
       "\t<tr><td>G3_LV2_CV0418</td><td>418          </td><td>1            </td><td>LV           </td><td>Medial       </td><td>1.0          </td><td>50.01        </td><td>42.966       </td><td> 9.058       </td><td>5.043        </td><td>...          </td><td> -55769234   </td><td> -664879.2   </td><td>-423097.58   </td><td> 220287.40   </td><td> 712034.8    </td><td>-607914.6    </td><td>-3765794     </td><td> 2263575     </td><td>  824587.1   </td><td> 1741879     </td></tr>\n",
       "\t<tr><td>G3_LV3_CV0419</td><td>419          </td><td>1            </td><td>LV           </td><td>Apex         </td><td>2.5          </td><td>59.48        </td><td>42.966       </td><td> 9.058       </td><td>5.043        </td><td>...          </td><td> -99534245   </td><td>-4385189.8   </td><td>-907296.91   </td><td>-231246.64   </td><td> 477773.3    </td><td>-830092.5    </td><td>-3330517     </td><td> 2441175     </td><td>  253208.0   </td><td>-5034246     </td></tr>\n",
       "\t<tr><td>G3_RV1_CV0420</td><td>420          </td><td>1            </td><td>RV           </td><td>Base         </td><td>0.5          </td><td>57.23        </td><td>47.926       </td><td>12.539       </td><td>8.286        </td><td>...          </td><td> -51075056   </td><td>-2432397.9   </td><td>-525079.20   </td><td>  38523.27   </td><td>6944650.4    </td><td>-454467.3    </td><td>-2584891     </td><td>29386887     </td><td>12191001.3   </td><td> 4374136     </td></tr>\n",
       "\t<tr><td>G3_RV2_CV0421</td><td>421          </td><td>1            </td><td>RV           </td><td>Medial       </td><td>1.5          </td><td> 8.77        </td><td>47.926       </td><td>12.539       </td><td>8.286        </td><td>...          </td><td> -29331156   </td><td> 1354419.0   </td><td> -73114.40   </td><td> 223031.53   </td><td> 775905.7    </td><td>-397823.3    </td><td>-2507150     </td><td> 3082787     </td><td>  895013.7   </td><td> 1376219     </td></tr>\n",
       "\t<tr><td>G3_RV3_CV0422</td><td>422          </td><td>1            </td><td>RV           </td><td>Apex         </td><td>2.0          </td><td> 7.65        </td><td>47.926       </td><td>12.539       </td><td>8.286        </td><td>...          </td><td>-113526470   </td><td>-4452183.2   </td><td>-877053.90   </td><td> -50631.80   </td><td> 739775.3    </td><td>-881650.7    </td><td>-4441844     </td><td> 3870768     </td><td>  891941.1   </td><td> 1345011     </td></tr>\n",
       "</tbody>\n",
       "</table>\n"
      ],
      "text/markdown": [
       "\n",
       "| sampleid | sample_ID | Baboon | Heart.Ventricle | Heart.Section | Inflam.Score | Par.Load | IFNg | CD4 | CD68 | ... | org_pos_mass_205.069_0.326_3895 | org_pos_mass_185.033_0.321_3896 | org_pos_mass_195.139_3.914_3897 | org_pos_mass_473.15_0.324_3898 | org_pos_mass_213.207_0.496_3899 | org_pos_mass_354.011_0.314_3900 | org_pos_mass_556.443_4.465_3901 | org_pos_mass_179.128_0.32_3902 | org_pos_mass_558.28_3.809_3903 | org_pos_mass_255.231_4.563_3904 |\n",
       "|---|---|---|---|---|---|---|---|---|---|---|---|---|---|---|---|---|---|---|---|---|\n",
       "| G3_LV1_CV0417 | 417           | 1             | LV            | Base          | 0.5           | 42.31         | 42.966        |  9.058        | 5.043         | ...           |  -34081643    |  1021300.5    |  -91688.98    |  204773.37    |  784788.5     | -402209.1     | -2513102      |  3064214      |   946221.2    |  1949644      |\n",
       "| G3_LV2_CV0418 | 418           | 1             | LV            | Medial        | 1.0           | 50.01         | 42.966        |  9.058        | 5.043         | ...           |  -55769234    |  -664879.2    | -423097.58    |  220287.40    |  712034.8     | -607914.6     | -3765794      |  2263575      |   824587.1    |  1741879      |\n",
       "| G3_LV3_CV0419 | 419           | 1             | LV            | Apex          | 2.5           | 59.48         | 42.966        |  9.058        | 5.043         | ...           |  -99534245    | -4385189.8    | -907296.91    | -231246.64    |  477773.3     | -830092.5     | -3330517      |  2441175      |   253208.0    | -5034246      |\n",
       "| G3_RV1_CV0420 | 420           | 1             | RV            | Base          | 0.5           | 57.23         | 47.926        | 12.539        | 8.286         | ...           |  -51075056    | -2432397.9    | -525079.20    |   38523.27    | 6944650.4     | -454467.3     | -2584891      | 29386887      | 12191001.3    |  4374136      |\n",
       "| G3_RV2_CV0421 | 421           | 1             | RV            | Medial        | 1.5           |  8.77         | 47.926        | 12.539        | 8.286         | ...           |  -29331156    |  1354419.0    |  -73114.40    |  223031.53    |  775905.7     | -397823.3     | -2507150      |  3082787      |   895013.7    |  1376219      |\n",
       "| G3_RV3_CV0422 | 422           | 1             | RV            | Apex          | 2.0           |  7.65         | 47.926        | 12.539        | 8.286         | ...           | -113526470    | -4452183.2    | -877053.90    |  -50631.80    |  739775.3     | -881650.7     | -4441844      |  3870768      |   891941.1    |  1345011      |\n",
       "\n"
      ],
      "text/plain": [
       "  sampleid      sample_ID Baboon Heart.Ventricle Heart.Section Inflam.Score\n",
       "1 G3_LV1_CV0417 417       1      LV              Base          0.5         \n",
       "2 G3_LV2_CV0418 418       1      LV              Medial        1.0         \n",
       "3 G3_LV3_CV0419 419       1      LV              Apex          2.5         \n",
       "4 G3_RV1_CV0420 420       1      RV              Base          0.5         \n",
       "5 G3_RV2_CV0421 421       1      RV              Medial        1.5         \n",
       "6 G3_RV3_CV0422 422       1      RV              Apex          2.0         \n",
       "  Par.Load IFNg   CD4    CD68  ... org_pos_mass_205.069_0.326_3895\n",
       "1 42.31    42.966  9.058 5.043 ...  -34081643                     \n",
       "2 50.01    42.966  9.058 5.043 ...  -55769234                     \n",
       "3 59.48    42.966  9.058 5.043 ...  -99534245                     \n",
       "4 57.23    47.926 12.539 8.286 ...  -51075056                     \n",
       "5  8.77    47.926 12.539 8.286 ...  -29331156                     \n",
       "6  7.65    47.926 12.539 8.286 ... -113526470                     \n",
       "  org_pos_mass_185.033_0.321_3896 org_pos_mass_195.139_3.914_3897\n",
       "1  1021300.5                       -91688.98                     \n",
       "2  -664879.2                      -423097.58                     \n",
       "3 -4385189.8                      -907296.91                     \n",
       "4 -2432397.9                      -525079.20                     \n",
       "5  1354419.0                       -73114.40                     \n",
       "6 -4452183.2                      -877053.90                     \n",
       "  org_pos_mass_473.15_0.324_3898 org_pos_mass_213.207_0.496_3899\n",
       "1  204773.37                      784788.5                      \n",
       "2  220287.40                      712034.8                      \n",
       "3 -231246.64                      477773.3                      \n",
       "4   38523.27                     6944650.4                      \n",
       "5  223031.53                      775905.7                      \n",
       "6  -50631.80                      739775.3                      \n",
       "  org_pos_mass_354.011_0.314_3900 org_pos_mass_556.443_4.465_3901\n",
       "1 -402209.1                       -2513102                       \n",
       "2 -607914.6                       -3765794                       \n",
       "3 -830092.5                       -3330517                       \n",
       "4 -454467.3                       -2584891                       \n",
       "5 -397823.3                       -2507150                       \n",
       "6 -881650.7                       -4441844                       \n",
       "  org_pos_mass_179.128_0.32_3902 org_pos_mass_558.28_3.809_3903\n",
       "1  3064214                         946221.2                    \n",
       "2  2263575                         824587.1                    \n",
       "3  2441175                         253208.0                    \n",
       "4 29386887                       12191001.3                    \n",
       "5  3082787                         895013.7                    \n",
       "6  3870768                         891941.1                    \n",
       "  org_pos_mass_255.231_4.563_3904\n",
       "1  1949644                       \n",
       "2  1741879                       \n",
       "3 -5034246                       \n",
       "4  4374136                       \n",
       "5  1376219                       \n",
       "6  1345011                       "
      ]
     },
     "metadata": {},
     "output_type": "display_data"
    },
    {
     "data": {
      "text/html": [
       "<ol class=list-inline>\n",
       "\t<li>95</li>\n",
       "\t<li>8976</li>\n",
       "</ol>\n"
      ],
      "text/latex": [
       "\\begin{enumerate*}\n",
       "\\item 95\n",
       "\\item 8976\n",
       "\\end{enumerate*}\n"
      ],
      "text/markdown": [
       "1. 95\n",
       "2. 8976\n",
       "\n",
       "\n"
      ],
      "text/plain": [
       "[1]   95 8976"
      ]
     },
     "metadata": {},
     "output_type": "display_data"
    }
   ],
   "source": [
    "head(a)\n",
    "dim(a)"
   ]
  },
  {
   "cell_type": "code",
   "execution_count": 3,
   "metadata": {},
   "outputs": [
    {
     "data": {
      "text/html": [
       "<table>\n",
       "<thead><tr><th scope=col>sampleid</th><th scope=col>sample_ID</th><th scope=col>Baboon</th><th scope=col>Heart.Ventricle</th><th scope=col>Heart.Section</th><th scope=col>Inflam.Score</th><th scope=col>Par.Load</th><th scope=col>IFNg</th><th scope=col>CD4</th><th scope=col>CD68</th><th scope=col>...</th><th scope=col>miR.208b.5p</th><th scope=col>mir.210.3p</th><th scope=col>Pos_Overall</th><th scope=col>Group</th><th scope=col>animal_ID</th><th scope=col>Position_Toptobot_1to3</th><th scope=col>Ventricle</th><th scope=col>Group_Details</th><th scope=col>Group_Short</th><th scope=col>injection_order</th></tr></thead>\n",
       "<tbody>\n",
       "\t<tr><td>G3_LV1_CV0417                               </td><td>417                                         </td><td>1                                           </td><td>LV                                          </td><td>Base                                        </td><td>0.5                                         </td><td>42.31                                       </td><td>42.966                                      </td><td> 9.058                                      </td><td>5.043                                       </td><td>...                                         </td><td>0.50                                        </td><td>0.83                                        </td><td>LV1                                         </td><td>G3                                          </td><td>30750                                       </td><td>1                                           </td><td>Left                                        </td><td>100 ug of MASP Peptide also known as MASPpep</td><td>MASPpepK                                    </td><td>  9                                         </td></tr>\n",
       "\t<tr><td>G3_LV2_CV0418                               </td><td>418                                         </td><td>1                                           </td><td>LV                                          </td><td>Medial                                      </td><td>1.0                                         </td><td>50.01                                       </td><td>42.966                                      </td><td> 9.058                                      </td><td>5.043                                       </td><td>...                                         </td><td>0.50                                        </td><td>0.83                                        </td><td>LV2                                         </td><td>G3                                          </td><td>30750                                       </td><td>2                                           </td><td>Left                                        </td><td>100 ug of MASP Peptide also known as MASPpep</td><td>MASPpepK                                    </td><td> 98                                         </td></tr>\n",
       "\t<tr><td>G3_LV3_CV0419                               </td><td>419                                         </td><td>1                                           </td><td>LV                                          </td><td>Apex                                        </td><td>2.5                                         </td><td>59.48                                       </td><td>42.966                                      </td><td> 9.058                                      </td><td>5.043                                       </td><td>...                                         </td><td>0.50                                        </td><td>0.83                                        </td><td>LV3                                         </td><td>G3                                          </td><td>30750                                       </td><td>3                                           </td><td>Left                                        </td><td>100 ug of MASP Peptide also known as MASPpep</td><td>MASPpepK                                    </td><td> 66                                         </td></tr>\n",
       "\t<tr><td>G3_RV1_CV0420                               </td><td>420                                         </td><td>1                                           </td><td>RV                                          </td><td>Base                                        </td><td>0.5                                         </td><td>57.23                                       </td><td>47.926                                      </td><td>12.539                                      </td><td>8.286                                       </td><td>...                                         </td><td>0.99                                        </td><td>0.92                                        </td><td>RV1                                         </td><td>G3                                          </td><td>30750                                       </td><td>1                                           </td><td>Right                                       </td><td>100 ug of MASP Peptide also known as MASPpep</td><td>MASPpepK                                    </td><td> 72                                         </td></tr>\n",
       "\t<tr><td>G3_RV2_CV0421                               </td><td>421                                         </td><td>1                                           </td><td>RV                                          </td><td>Medial                                      </td><td>1.5                                         </td><td> 8.77                                       </td><td>47.926                                      </td><td>12.539                                      </td><td>8.286                                       </td><td>...                                         </td><td>0.99                                        </td><td>0.92                                        </td><td>RV2                                         </td><td>G3                                          </td><td>30750                                       </td><td>2                                           </td><td>Right                                       </td><td>100 ug of MASP Peptide also known as MASPpep</td><td>MASPpepK                                    </td><td>  6                                         </td></tr>\n",
       "\t<tr><td>G3_RV3_CV0422                               </td><td>422                                         </td><td>1                                           </td><td>RV                                          </td><td>Apex                                        </td><td>2.0                                         </td><td> 7.65                                       </td><td>47.926                                      </td><td>12.539                                      </td><td>8.286                                       </td><td>...                                         </td><td>0.99                                        </td><td>0.92                                        </td><td>RV3                                         </td><td>G3                                          </td><td>30750                                       </td><td>3                                           </td><td>Right                                       </td><td>100 ug of MASP Peptide also known as MASPpep</td><td>MASPpepK                                    </td><td>109                                         </td></tr>\n",
       "</tbody>\n",
       "</table>\n"
      ],
      "text/latex": [
       "\\begin{tabular}{r|lllllllllllllllllllllllll}\n",
       " sampleid & sample\\_ID & Baboon & Heart.Ventricle & Heart.Section & Inflam.Score & Par.Load & IFNg & CD4 & CD68 & ... & miR.208b.5p & mir.210.3p & Pos\\_Overall & Group & animal\\_ID & Position\\_Toptobot\\_1to3 & Ventricle & Group\\_Details & Group\\_Short & injection\\_order\\\\\n",
       "\\hline\n",
       "\t G3\\_LV1\\_CV0417                            & 417                                          & 1                                            & LV                                           & Base                                         & 0.5                                          & 42.31                                        & 42.966                                       &  9.058                                       & 5.043                                        & ...                                          & 0.50                                         & 0.83                                         & LV1                                          & G3                                           & 30750                                        & 1                                            & Left                                         & 100 ug of MASP Peptide also known as MASPpep & MASPpepK                                     &   9                                         \\\\\n",
       "\t G3\\_LV2\\_CV0418                            & 418                                          & 1                                            & LV                                           & Medial                                       & 1.0                                          & 50.01                                        & 42.966                                       &  9.058                                       & 5.043                                        & ...                                          & 0.50                                         & 0.83                                         & LV2                                          & G3                                           & 30750                                        & 2                                            & Left                                         & 100 ug of MASP Peptide also known as MASPpep & MASPpepK                                     &  98                                         \\\\\n",
       "\t G3\\_LV3\\_CV0419                            & 419                                          & 1                                            & LV                                           & Apex                                         & 2.5                                          & 59.48                                        & 42.966                                       &  9.058                                       & 5.043                                        & ...                                          & 0.50                                         & 0.83                                         & LV3                                          & G3                                           & 30750                                        & 3                                            & Left                                         & 100 ug of MASP Peptide also known as MASPpep & MASPpepK                                     &  66                                         \\\\\n",
       "\t G3\\_RV1\\_CV0420                            & 420                                          & 1                                            & RV                                           & Base                                         & 0.5                                          & 57.23                                        & 47.926                                       & 12.539                                       & 8.286                                        & ...                                          & 0.99                                         & 0.92                                         & RV1                                          & G3                                           & 30750                                        & 1                                            & Right                                        & 100 ug of MASP Peptide also known as MASPpep & MASPpepK                                     &  72                                         \\\\\n",
       "\t G3\\_RV2\\_CV0421                            & 421                                          & 1                                            & RV                                           & Medial                                       & 1.5                                          &  8.77                                        & 47.926                                       & 12.539                                       & 8.286                                        & ...                                          & 0.99                                         & 0.92                                         & RV2                                          & G3                                           & 30750                                        & 2                                            & Right                                        & 100 ug of MASP Peptide also known as MASPpep & MASPpepK                                     &   6                                         \\\\\n",
       "\t G3\\_RV3\\_CV0422                            & 422                                          & 1                                            & RV                                           & Apex                                         & 2.0                                          &  7.65                                        & 47.926                                       & 12.539                                       & 8.286                                        & ...                                          & 0.99                                         & 0.92                                         & RV3                                          & G3                                           & 30750                                        & 3                                            & Right                                        & 100 ug of MASP Peptide also known as MASPpep & MASPpepK                                     & 109                                         \\\\\n",
       "\\end{tabular}\n"
      ],
      "text/markdown": [
       "\n",
       "| sampleid | sample_ID | Baboon | Heart.Ventricle | Heart.Section | Inflam.Score | Par.Load | IFNg | CD4 | CD68 | ... | miR.208b.5p | mir.210.3p | Pos_Overall | Group | animal_ID | Position_Toptobot_1to3 | Ventricle | Group_Details | Group_Short | injection_order |\n",
       "|---|---|---|---|---|---|---|---|---|---|---|---|---|---|---|---|---|---|---|---|---|\n",
       "| G3_LV1_CV0417                                | 417                                          | 1                                            | LV                                           | Base                                         | 0.5                                          | 42.31                                        | 42.966                                       |  9.058                                       | 5.043                                        | ...                                          | 0.50                                         | 0.83                                         | LV1                                          | G3                                           | 30750                                        | 1                                            | Left                                         | 100 ug of MASP Peptide also known as MASPpep | MASPpepK                                     |   9                                          |\n",
       "| G3_LV2_CV0418                                | 418                                          | 1                                            | LV                                           | Medial                                       | 1.0                                          | 50.01                                        | 42.966                                       |  9.058                                       | 5.043                                        | ...                                          | 0.50                                         | 0.83                                         | LV2                                          | G3                                           | 30750                                        | 2                                            | Left                                         | 100 ug of MASP Peptide also known as MASPpep | MASPpepK                                     |  98                                          |\n",
       "| G3_LV3_CV0419                                | 419                                          | 1                                            | LV                                           | Apex                                         | 2.5                                          | 59.48                                        | 42.966                                       |  9.058                                       | 5.043                                        | ...                                          | 0.50                                         | 0.83                                         | LV3                                          | G3                                           | 30750                                        | 3                                            | Left                                         | 100 ug of MASP Peptide also known as MASPpep | MASPpepK                                     |  66                                          |\n",
       "| G3_RV1_CV0420                                | 420                                          | 1                                            | RV                                           | Base                                         | 0.5                                          | 57.23                                        | 47.926                                       | 12.539                                       | 8.286                                        | ...                                          | 0.99                                         | 0.92                                         | RV1                                          | G3                                           | 30750                                        | 1                                            | Right                                        | 100 ug of MASP Peptide also known as MASPpep | MASPpepK                                     |  72                                          |\n",
       "| G3_RV2_CV0421                                | 421                                          | 1                                            | RV                                           | Medial                                       | 1.5                                          |  8.77                                        | 47.926                                       | 12.539                                       | 8.286                                        | ...                                          | 0.99                                         | 0.92                                         | RV2                                          | G3                                           | 30750                                        | 2                                            | Right                                        | 100 ug of MASP Peptide also known as MASPpep | MASPpepK                                     |   6                                          |\n",
       "| G3_RV3_CV0422                                | 422                                          | 1                                            | RV                                           | Apex                                         | 2.0                                          |  7.65                                        | 47.926                                       | 12.539                                       | 8.286                                        | ...                                          | 0.99                                         | 0.92                                         | RV3                                          | G3                                           | 30750                                        | 3                                            | Right                                        | 100 ug of MASP Peptide also known as MASPpep | MASPpepK                                     | 109                                          |\n",
       "\n"
      ],
      "text/plain": [
       "  sampleid      sample_ID Baboon Heart.Ventricle Heart.Section Inflam.Score\n",
       "1 G3_LV1_CV0417 417       1      LV              Base          0.5         \n",
       "2 G3_LV2_CV0418 418       1      LV              Medial        1.0         \n",
       "3 G3_LV3_CV0419 419       1      LV              Apex          2.5         \n",
       "4 G3_RV1_CV0420 420       1      RV              Base          0.5         \n",
       "5 G3_RV2_CV0421 421       1      RV              Medial        1.5         \n",
       "6 G3_RV3_CV0422 422       1      RV              Apex          2.0         \n",
       "  Par.Load IFNg   CD4    CD68  ... miR.208b.5p mir.210.3p Pos_Overall Group\n",
       "1 42.31    42.966  9.058 5.043 ... 0.50        0.83       LV1         G3   \n",
       "2 50.01    42.966  9.058 5.043 ... 0.50        0.83       LV2         G3   \n",
       "3 59.48    42.966  9.058 5.043 ... 0.50        0.83       LV3         G3   \n",
       "4 57.23    47.926 12.539 8.286 ... 0.99        0.92       RV1         G3   \n",
       "5  8.77    47.926 12.539 8.286 ... 0.99        0.92       RV2         G3   \n",
       "6  7.65    47.926 12.539 8.286 ... 0.99        0.92       RV3         G3   \n",
       "  animal_ID Position_Toptobot_1to3 Ventricle\n",
       "1 30750     1                      Left     \n",
       "2 30750     2                      Left     \n",
       "3 30750     3                      Left     \n",
       "4 30750     1                      Right    \n",
       "5 30750     2                      Right    \n",
       "6 30750     3                      Right    \n",
       "  Group_Details                                Group_Short injection_order\n",
       "1 100 ug of MASP Peptide also known as MASPpep MASPpepK      9            \n",
       "2 100 ug of MASP Peptide also known as MASPpep MASPpepK     98            \n",
       "3 100 ug of MASP Peptide also known as MASPpep MASPpepK     66            \n",
       "4 100 ug of MASP Peptide also known as MASPpep MASPpepK     72            \n",
       "5 100 ug of MASP Peptide also known as MASPpep MASPpepK      6            \n",
       "6 100 ug of MASP Peptide also known as MASPpep MASPpepK    109            "
      ]
     },
     "metadata": {},
     "output_type": "display_data"
    },
    {
     "data": {
      "text/html": [
       "<ol class=list-inline>\n",
       "\t<li>95</li>\n",
       "\t<li>25</li>\n",
       "</ol>\n"
      ],
      "text/latex": [
       "\\begin{enumerate*}\n",
       "\\item 95\n",
       "\\item 25\n",
       "\\end{enumerate*}\n"
      ],
      "text/markdown": [
       "1. 95\n",
       "2. 25\n",
       "\n",
       "\n"
      ],
      "text/plain": [
       "[1] 95 25"
      ]
     },
     "metadata": {},
     "output_type": "display_data"
    }
   ],
   "source": [
    "d = a[,c(1:25)]\n",
    "head(d)\n",
    "dim(d)"
   ]
  },
  {
   "cell_type": "code",
   "execution_count": 4,
   "metadata": {},
   "outputs": [],
   "source": [
    "write.csv(d,\"06232022-pos-M.csv\", row.names = FALSE)"
   ]
  },
  {
   "cell_type": "code",
   "execution_count": 5,
   "metadata": {},
   "outputs": [
    {
     "name": "stderr",
     "output_type": "stream",
     "text": [
      "ERROR while rich displaying an object: Error in sprintf(wrap, header, body): 'fmt' length exceeds maximal format length 8192\n",
      "\n",
      "Traceback:\n",
      "1. FUN(X[[i]], ...)\n",
      "2. tryCatch(withCallingHandlers({\n",
      " .     if (!mime %in% names(repr::mime2repr)) \n",
      " .         stop(\"No repr_* for mimetype \", mime, \" in repr::mime2repr\")\n",
      " .     rpr <- repr::mime2repr[[mime]](obj)\n",
      " .     if (is.null(rpr)) \n",
      " .         return(NULL)\n",
      " .     prepare_content(is.raw(rpr), rpr)\n",
      " . }, error = error_handler), error = outer_handler)\n",
      "3. tryCatchList(expr, classes, parentenv, handlers)\n",
      "4. tryCatchOne(expr, names, parentenv, handlers[[1L]])\n",
      "5. doTryCatch(return(expr), name, parentenv, handler)\n",
      "6. withCallingHandlers({\n",
      " .     if (!mime %in% names(repr::mime2repr)) \n",
      " .         stop(\"No repr_* for mimetype \", mime, \" in repr::mime2repr\")\n",
      " .     rpr <- repr::mime2repr[[mime]](obj)\n",
      " .     if (is.null(rpr)) \n",
      " .         return(NULL)\n",
      " .     prepare_content(is.raw(rpr), rpr)\n",
      " . }, error = error_handler)\n",
      "7. repr::mime2repr[[mime]](obj)\n",
      "8. repr_latex.data.frame(obj)\n",
      "9. repr_matrix_generic(obj, sprintf(\"\\\\begin{tabular}{%s}\\n%%s%%s\\\\end{tabular}\\n\", \n",
      " .     cols), \"%s\\\\\\\\\\n\\\\hline\\n\", \"  &\", \" %s &\", \"%s\", \"\\t%s\\\\\\\\\\n\", \n",
      " .     \"%s &\", \" %s &\", escape_fun = latex_escape_vec, ...)\n",
      "10. sprintf(wrap, header, body)\n"
     ]
    },
    {
     "data": {
      "text/html": [
       "<table>\n",
       "<thead><tr><th scope=col>sampleid</th><th scope=col>aq_pos_mass_314.138_4.153_3</th><th scope=col>aq_pos_mass_387.192_4.19_17</th><th scope=col>aq_pos_mass_268.096_4.153_19</th><th scope=col>aq_pos_mass_354.284_4.282_27</th><th scope=col>aq_pos_mass_132.077_0.332_30</th><th scope=col>aq_pos_mass_336.12_4.153_35</th><th scope=col>aq_pos_mass_409.174_4.19_36</th><th scope=col>aq_pos_mass_649.251_4.153_48</th><th scope=col>aq_pos_mass_149.06_4.268_52</th><th scope=col>...</th><th scope=col>org_pos_mass_205.069_0.326_3895</th><th scope=col>org_pos_mass_185.033_0.321_3896</th><th scope=col>org_pos_mass_195.139_3.914_3897</th><th scope=col>org_pos_mass_473.15_0.324_3898</th><th scope=col>org_pos_mass_213.207_0.496_3899</th><th scope=col>org_pos_mass_354.011_0.314_3900</th><th scope=col>org_pos_mass_556.443_4.465_3901</th><th scope=col>org_pos_mass_179.128_0.32_3902</th><th scope=col>org_pos_mass_558.28_3.809_3903</th><th scope=col>org_pos_mass_255.231_4.563_3904</th></tr></thead>\n",
       "<tbody>\n",
       "\t<tr><td>G3_LV1_CV0417</td><td>1086904697   </td><td>3157899210   </td><td>289061772    </td><td>114063522    </td><td>12266349342  </td><td> 78738403    </td><td>253897206    </td><td>40791071     </td><td>43892296     </td><td>...          </td><td> -34081643   </td><td> 1021300.5   </td><td> -91688.98   </td><td> 204773.37   </td><td> 784788.5    </td><td>-402209.1    </td><td>-2513102     </td><td> 3064214     </td><td>  946221.2   </td><td> 1949644     </td></tr>\n",
       "\t<tr><td>G3_LV2_CV0418</td><td>1543497039   </td><td>3757686141   </td><td>483188975    </td><td>104598884    </td><td>12230082141  </td><td>126907663    </td><td>272861670    </td><td>82844987     </td><td>39918622     </td><td>...          </td><td> -55769234   </td><td> -664879.2   </td><td>-423097.58   </td><td> 220287.40   </td><td> 712034.8    </td><td>-607914.6    </td><td>-3765794     </td><td> 2263575     </td><td>  824587.1   </td><td> 1741879     </td></tr>\n",
       "\t<tr><td>G3_LV3_CV0419</td><td>1083591580   </td><td>2347024922   </td><td>284186089    </td><td>108904264    </td><td>11207492745  </td><td> 73316765    </td><td>231356107    </td><td>41866543     </td><td>42611904     </td><td>...          </td><td> -99534245   </td><td>-4385189.8   </td><td>-907296.91   </td><td>-231246.64   </td><td> 477773.3    </td><td>-830092.5    </td><td>-3330517     </td><td> 2441175     </td><td>  253208.0   </td><td>-5034246     </td></tr>\n",
       "\t<tr><td>G3_RV1_CV0420</td><td> 907666912   </td><td>2385656847   </td><td>164205073    </td><td>100709728    </td><td> 8772433557  </td><td> 59705583    </td><td>199780885    </td><td>22298202     </td><td>37390024     </td><td>...          </td><td> -51075056   </td><td>-2432397.9   </td><td>-525079.20   </td><td>  38523.27   </td><td>6944650.4    </td><td>-454467.3    </td><td>-2584891     </td><td>29386887     </td><td>12191001.3   </td><td> 4374136     </td></tr>\n",
       "\t<tr><td>G3_RV2_CV0421</td><td>1913726819   </td><td>3065299883   </td><td>637953087    </td><td> 97608998    </td><td>10889237746  </td><td>131486740    </td><td>207102332    </td><td>99334890     </td><td>35910360     </td><td>...          </td><td> -29331156   </td><td> 1354419.0   </td><td> -73114.40   </td><td> 223031.53   </td><td> 775905.7    </td><td>-397823.3    </td><td>-2507150     </td><td> 3082787     </td><td>  895013.7   </td><td> 1376219     </td></tr>\n",
       "\t<tr><td>G3_RV3_CV0422</td><td>1398025801   </td><td>2783305359   </td><td>440278211    </td><td> 99916017    </td><td>11029392319  </td><td>104496176    </td><td>220133316    </td><td>79586776     </td><td>35917732     </td><td>...          </td><td>-113526470   </td><td>-4452183.2   </td><td>-877053.90   </td><td> -50631.80   </td><td> 739775.3    </td><td>-881650.7    </td><td>-4441844     </td><td> 3870768     </td><td>  891941.1   </td><td> 1345011     </td></tr>\n",
       "</tbody>\n",
       "</table>\n"
      ],
      "text/markdown": [
       "\n",
       "| sampleid | aq_pos_mass_314.138_4.153_3 | aq_pos_mass_387.192_4.19_17 | aq_pos_mass_268.096_4.153_19 | aq_pos_mass_354.284_4.282_27 | aq_pos_mass_132.077_0.332_30 | aq_pos_mass_336.12_4.153_35 | aq_pos_mass_409.174_4.19_36 | aq_pos_mass_649.251_4.153_48 | aq_pos_mass_149.06_4.268_52 | ... | org_pos_mass_205.069_0.326_3895 | org_pos_mass_185.033_0.321_3896 | org_pos_mass_195.139_3.914_3897 | org_pos_mass_473.15_0.324_3898 | org_pos_mass_213.207_0.496_3899 | org_pos_mass_354.011_0.314_3900 | org_pos_mass_556.443_4.465_3901 | org_pos_mass_179.128_0.32_3902 | org_pos_mass_558.28_3.809_3903 | org_pos_mass_255.231_4.563_3904 |\n",
       "|---|---|---|---|---|---|---|---|---|---|---|---|---|---|---|---|---|---|---|---|---|\n",
       "| G3_LV1_CV0417 | 1086904697    | 3157899210    | 289061772     | 114063522     | 12266349342   |  78738403     | 253897206     | 40791071      | 43892296      | ...           |  -34081643    |  1021300.5    |  -91688.98    |  204773.37    |  784788.5     | -402209.1     | -2513102      |  3064214      |   946221.2    |  1949644      |\n",
       "| G3_LV2_CV0418 | 1543497039    | 3757686141    | 483188975     | 104598884     | 12230082141   | 126907663     | 272861670     | 82844987      | 39918622      | ...           |  -55769234    |  -664879.2    | -423097.58    |  220287.40    |  712034.8     | -607914.6     | -3765794      |  2263575      |   824587.1    |  1741879      |\n",
       "| G3_LV3_CV0419 | 1083591580    | 2347024922    | 284186089     | 108904264     | 11207492745   |  73316765     | 231356107     | 41866543      | 42611904      | ...           |  -99534245    | -4385189.8    | -907296.91    | -231246.64    |  477773.3     | -830092.5     | -3330517      |  2441175      |   253208.0    | -5034246      |\n",
       "| G3_RV1_CV0420 |  907666912    | 2385656847    | 164205073     | 100709728     |  8772433557   |  59705583     | 199780885     | 22298202      | 37390024      | ...           |  -51075056    | -2432397.9    | -525079.20    |   38523.27    | 6944650.4     | -454467.3     | -2584891      | 29386887      | 12191001.3    |  4374136      |\n",
       "| G3_RV2_CV0421 | 1913726819    | 3065299883    | 637953087     |  97608998     | 10889237746   | 131486740     | 207102332     | 99334890      | 35910360      | ...           |  -29331156    |  1354419.0    |  -73114.40    |  223031.53    |  775905.7     | -397823.3     | -2507150      |  3082787      |   895013.7    |  1376219      |\n",
       "| G3_RV3_CV0422 | 1398025801    | 2783305359    | 440278211     |  99916017     | 11029392319   | 104496176     | 220133316     | 79586776      | 35917732      | ...           | -113526470    | -4452183.2    | -877053.90    |  -50631.80    |  739775.3     | -881650.7     | -4441844      |  3870768      |   891941.1    |  1345011      |\n",
       "\n"
      ],
      "text/plain": [
       "  sampleid      aq_pos_mass_314.138_4.153_3 aq_pos_mass_387.192_4.19_17\n",
       "1 G3_LV1_CV0417 1086904697                  3157899210                 \n",
       "2 G3_LV2_CV0418 1543497039                  3757686141                 \n",
       "3 G3_LV3_CV0419 1083591580                  2347024922                 \n",
       "4 G3_RV1_CV0420  907666912                  2385656847                 \n",
       "5 G3_RV2_CV0421 1913726819                  3065299883                 \n",
       "6 G3_RV3_CV0422 1398025801                  2783305359                 \n",
       "  aq_pos_mass_268.096_4.153_19 aq_pos_mass_354.284_4.282_27\n",
       "1 289061772                    114063522                   \n",
       "2 483188975                    104598884                   \n",
       "3 284186089                    108904264                   \n",
       "4 164205073                    100709728                   \n",
       "5 637953087                     97608998                   \n",
       "6 440278211                     99916017                   \n",
       "  aq_pos_mass_132.077_0.332_30 aq_pos_mass_336.12_4.153_35\n",
       "1 12266349342                   78738403                  \n",
       "2 12230082141                  126907663                  \n",
       "3 11207492745                   73316765                  \n",
       "4  8772433557                   59705583                  \n",
       "5 10889237746                  131486740                  \n",
       "6 11029392319                  104496176                  \n",
       "  aq_pos_mass_409.174_4.19_36 aq_pos_mass_649.251_4.153_48\n",
       "1 253897206                   40791071                    \n",
       "2 272861670                   82844987                    \n",
       "3 231356107                   41866543                    \n",
       "4 199780885                   22298202                    \n",
       "5 207102332                   99334890                    \n",
       "6 220133316                   79586776                    \n",
       "  aq_pos_mass_149.06_4.268_52 ... org_pos_mass_205.069_0.326_3895\n",
       "1 43892296                    ...  -34081643                     \n",
       "2 39918622                    ...  -55769234                     \n",
       "3 42611904                    ...  -99534245                     \n",
       "4 37390024                    ...  -51075056                     \n",
       "5 35910360                    ...  -29331156                     \n",
       "6 35917732                    ... -113526470                     \n",
       "  org_pos_mass_185.033_0.321_3896 org_pos_mass_195.139_3.914_3897\n",
       "1  1021300.5                       -91688.98                     \n",
       "2  -664879.2                      -423097.58                     \n",
       "3 -4385189.8                      -907296.91                     \n",
       "4 -2432397.9                      -525079.20                     \n",
       "5  1354419.0                       -73114.40                     \n",
       "6 -4452183.2                      -877053.90                     \n",
       "  org_pos_mass_473.15_0.324_3898 org_pos_mass_213.207_0.496_3899\n",
       "1  204773.37                      784788.5                      \n",
       "2  220287.40                      712034.8                      \n",
       "3 -231246.64                      477773.3                      \n",
       "4   38523.27                     6944650.4                      \n",
       "5  223031.53                      775905.7                      \n",
       "6  -50631.80                      739775.3                      \n",
       "  org_pos_mass_354.011_0.314_3900 org_pos_mass_556.443_4.465_3901\n",
       "1 -402209.1                       -2513102                       \n",
       "2 -607914.6                       -3765794                       \n",
       "3 -830092.5                       -3330517                       \n",
       "4 -454467.3                       -2584891                       \n",
       "5 -397823.3                       -2507150                       \n",
       "6 -881650.7                       -4441844                       \n",
       "  org_pos_mass_179.128_0.32_3902 org_pos_mass_558.28_3.809_3903\n",
       "1  3064214                         946221.2                    \n",
       "2  2263575                         824587.1                    \n",
       "3  2441175                         253208.0                    \n",
       "4 29386887                       12191001.3                    \n",
       "5  3082787                         895013.7                    \n",
       "6  3870768                         891941.1                    \n",
       "  org_pos_mass_255.231_4.563_3904\n",
       "1  1949644                       \n",
       "2  1741879                       \n",
       "3 -5034246                       \n",
       "4  4374136                       \n",
       "5  1376219                       \n",
       "6  1345011                       "
      ]
     },
     "metadata": {},
     "output_type": "display_data"
    },
    {
     "data": {
      "text/html": [
       "<ol class=list-inline>\n",
       "\t<li>95</li>\n",
       "\t<li>8952</li>\n",
       "</ol>\n"
      ],
      "text/latex": [
       "\\begin{enumerate*}\n",
       "\\item 95\n",
       "\\item 8952\n",
       "\\end{enumerate*}\n"
      ],
      "text/markdown": [
       "1. 95\n",
       "2. 8952\n",
       "\n",
       "\n"
      ],
      "text/plain": [
       "[1]   95 8952"
      ]
     },
     "metadata": {},
     "output_type": "display_data"
    }
   ],
   "source": [
    "e = a[,c(1, 26:8976)]\n",
    "head(e)\n",
    "dim(e)"
   ]
  },
  {
   "cell_type": "code",
   "execution_count": 6,
   "metadata": {},
   "outputs": [],
   "source": [
    "write.csv(e,\"06232022-pos-F.csv\", row.names = FALSE)"
   ]
  },
  {
   "cell_type": "code",
   "execution_count": null,
   "metadata": {},
   "outputs": [],
   "source": []
  },
  {
   "cell_type": "code",
   "execution_count": null,
   "metadata": {},
   "outputs": [],
   "source": []
  },
  {
   "cell_type": "code",
   "execution_count": null,
   "metadata": {},
   "outputs": [],
   "source": []
  }
 ],
 "metadata": {
  "kernelspec": {
   "display_name": "R",
   "language": "R",
   "name": "ir"
  },
  "language_info": {
   "codemirror_mode": "r",
   "file_extension": ".r",
   "mimetype": "text/x-r-source",
   "name": "R",
   "pygments_lexer": "r",
   "version": "3.6.1"
  }
 },
 "nbformat": 4,
 "nbformat_minor": 4
}
