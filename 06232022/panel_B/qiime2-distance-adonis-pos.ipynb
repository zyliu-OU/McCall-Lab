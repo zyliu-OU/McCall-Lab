{
 "cells": [
  {
   "cell_type": "code",
   "execution_count": 1,
   "metadata": {},
   "outputs": [
    {
     "name": "stdout",
     "output_type": "stream",
     "text": [
      "Saved FeatureTable[Frequency] to: features.qza\n"
     ]
    }
   ],
   "source": [
    "%%bash -e\n",
    "qiime sample-classifier metatable \\\n",
    "--m-metadata-file \"06232022-pos-F.txt\" \\\n",
    "--o-converted-table \"features\""
   ]
  },
  {
   "cell_type": "code",
   "execution_count": 2,
   "metadata": {},
   "outputs": [
    {
     "name": "stdout",
     "output_type": "stream",
     "text": [
      "Saved DistanceMatrix to: braycurtis/distance_matrix.qza\n"
     ]
    }
   ],
   "source": [
    "%%bash -e\n",
    "qiime diversity beta \\\n",
    "--i-table \"features.qza\" \\\n",
    "--p-metric \"braycurtis\" \\\n",
    "--output-dir braycurtis"
   ]
  },
  {
   "cell_type": "code",
   "execution_count": 3,
   "metadata": {},
   "outputs": [
    {
     "name": "stdout",
     "output_type": "stream",
     "text": [
      "Saved PCoAResults to: pcoa/pcoa.qza\n"
     ]
    }
   ],
   "source": [
    "%%bash -e\n",
    "qiime diversity pcoa \\\n",
    "--i-distance-matrix \"braycurtis/distance_matrix.qza\" \\\n",
    "--output-dir pcoa"
   ]
  },
  {
   "cell_type": "code",
   "execution_count": 4,
   "metadata": {},
   "outputs": [
    {
     "name": "stdout",
     "output_type": "stream",
     "text": [
      "Saved Visualization to: emperor/visualization.qzv\n"
     ]
    }
   ],
   "source": [
    "%%bash -e\n",
    "qiime emperor plot \\\n",
    "--i-pcoa \"pcoa/pcoa.qza\" \\\n",
    "--m-metadata-file \"06232022-pos-M.txt\" \\\n",
    "--output-dir emperor"
   ]
  },
  {
   "cell_type": "code",
   "execution_count": 5,
   "metadata": {},
   "outputs": [
    {
     "name": "stdout",
     "output_type": "stream",
     "text": [
      "Saved Visualization to: distance-analysis.qzv\n"
     ]
    }
   ],
   "source": [
    "%%bash -e\n",
    "qiime diversity beta-group-significance \\\n",
    "  --i-distance-matrix \"braycurtis/distance_matrix.qza\" \\\n",
    "  --m-metadata-file \"06232022-pos-M.txt\" \\\n",
    "  --m-metadata-column \"Group_Short\" \\\n",
    "  --o-visualization \"distance-analysis.qzv\" \\\n",
    "  --p-pairwise"
   ]
  },
  {
   "cell_type": "code",
   "execution_count": 6,
   "metadata": {},
   "outputs": [
    {
     "name": "stdout",
     "output_type": "stream",
     "text": [
      "Saved Visualization to: adonis-test.qzv\n"
     ]
    }
   ],
   "source": [
    "%%bash -e\n",
    "qiime diversity adonis \\\n",
    "--i-distance-matrix \"braycurtis/distance_matrix.qza\" \\\n",
    "--m-metadata-file \"06232022-pos-M.txt\" \\\n",
    "--p-formula \"Group_Short\" \\\n",
    "--o-visualization \"adonis-test\""
   ]
  },
  {
   "cell_type": "code",
   "execution_count": null,
   "metadata": {},
   "outputs": [],
   "source": []
  },
  {
   "cell_type": "code",
   "execution_count": null,
   "metadata": {},
   "outputs": [],
   "source": []
  },
  {
   "cell_type": "code",
   "execution_count": null,
   "metadata": {},
   "outputs": [],
   "source": []
  },
  {
   "cell_type": "code",
   "execution_count": null,
   "metadata": {},
   "outputs": [],
   "source": []
  }
 ],
 "metadata": {
  "kernelspec": {
   "display_name": "Python 3 (ipykernel)",
   "language": "python",
   "name": "python3"
  },
  "language_info": {
   "codemirror_mode": {
    "name": "ipython",
    "version": 3
   },
   "file_extension": ".py",
   "mimetype": "text/x-python",
   "name": "python",
   "nbconvert_exporter": "python",
   "pygments_lexer": "ipython3",
   "version": "3.8.16"
  }
 },
 "nbformat": 4,
 "nbformat_minor": 4
}
