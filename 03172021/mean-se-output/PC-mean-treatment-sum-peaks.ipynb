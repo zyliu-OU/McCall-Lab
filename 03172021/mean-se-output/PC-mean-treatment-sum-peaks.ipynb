{
 "cells": [
  {
   "cell_type": "code",
   "execution_count": 1,
   "id": "a9738cf2",
   "metadata": {},
   "outputs": [
    {
     "name": "stdout",
     "output_type": "stream",
     "text": [
      "['mass_400', 'mass_500', 'mass_600', 'mass_700', 'mass_800']\n"
     ]
    }
   ],
   "source": [
    "import pandas\n",
    "import numpy as np\n",
    "\n",
    "def standard_error(data_list):\n",
    "    data_standard = np.std(data_list, ddof=1)\n",
    "    n = len(data_list)\n",
    "    se = data_standard / np.sqrt(n)\n",
    "    return se\n",
    "\n",
    "data_a = pandas.read_csv('03172021-PC-M-F-treatment-sum-peak.csv')\n",
    "mass_list = ['mass_400', 'mass_500', 'mass_600', 'mass_700', 'mass_800']\n",
    "print(mass_list)\n",
    "\n",
    "order_HS = ['LA', 'RA', 'LV_top', 'LV_bottom', 'RV_top', 'RV_bottom']\n",
    "order_treatment = ['naive', 'infected', 'combo', 'BNZ']\n",
    "\n",
    "df_final = pandas.DataFrame(mass_list, columns = ['filename'])\n",
    "\n",
    "for HS in order_HS:\n",
    "    for treatment in order_treatment:\n",
    "        data_HS = data_a[data_a[\"organ\"].isin([str(HS)])]\n",
    "        data_HS_treatment = data_HS[data_HS[\"Treatmentgroup\"].isin([str(treatment)])]\n",
    "        mass_mean_list = []\n",
    "        mass_se_list = []\n",
    "        for mass in mass_list:\n",
    "            mass_mean = np.mean(data_HS_treatment[str(mass)].tolist())\n",
    "            mass_se = standard_error(data_HS_treatment[str(mass)].tolist())\n",
    "            mass_mean_list.append(mass_mean)\n",
    "            mass_se_list.append(mass_se)\n",
    "        df_final[str(HS) + '_' + str(treatment) + '_mean'] = mass_mean_list\n",
    "        df_final[str(HS) + '_' + str(treatment) + '_se'] = mass_se_list\n",
    "                                \n",
    "df_final.to_csv('PC-treatment-sum-peaks-mean-se.csv', index=False)"
   ]
  },
  {
   "cell_type": "code",
   "execution_count": null,
   "id": "9737276b",
   "metadata": {},
   "outputs": [],
   "source": []
  }
 ],
 "metadata": {
  "kernelspec": {
   "display_name": "Python 3",
   "language": "python",
   "name": "python3"
  },
  "language_info": {
   "codemirror_mode": {
    "name": "ipython",
    "version": 3
   },
   "file_extension": ".py",
   "mimetype": "text/x-python",
   "name": "python",
   "nbconvert_exporter": "python",
   "pygments_lexer": "ipython3",
   "version": "3.8.13"
  }
 },
 "nbformat": 4,
 "nbformat_minor": 5
}
