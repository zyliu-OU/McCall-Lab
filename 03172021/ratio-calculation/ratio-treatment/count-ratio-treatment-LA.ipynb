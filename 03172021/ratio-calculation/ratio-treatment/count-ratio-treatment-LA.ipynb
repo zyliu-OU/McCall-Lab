{
 "cells": [
  {
   "cell_type": "code",
   "execution_count": 1,
   "metadata": {},
   "outputs": [
    {
     "name": "stderr",
     "output_type": "stream",
     "text": [
      "<ipython-input-1-7b2d6c6e234d>:9: RuntimeWarning: invalid value encountered in greater\n",
      "  any_group_50D_small_005 = any_group_50D.drop(any_group_50D[(any_group_50D.values > 0.05)].index).dropna()\n",
      "<ipython-input-1-7b2d6c6e234d>:10: RuntimeWarning: invalid value encountered in less_equal\n",
      "  any_group_50D_larger_005 = any_group_50D.drop(any_group_50D[(any_group_50D.values <= 0.05)].index)\n",
      "<ipython-input-1-7b2d6c6e234d>:11: RuntimeWarning: invalid value encountered in greater\n",
      "  any_group_70D_small_005 = any_group_70D.drop(any_group_70D[(any_group_70D.values > 0.05)].index).dropna()\n",
      "<ipython-input-1-7b2d6c6e234d>:12: RuntimeWarning: invalid value encountered in less_equal\n",
      "  any_group_70D_larger_005 = any_group_70D.drop(any_group_70D[(any_group_70D.values <= 0.05)].index)\n",
      "<ipython-input-1-7b2d6c6e234d>:27: RuntimeWarning: invalid value encountered in greater\n",
      "  group_15_50D_small_005 = group_15_50D.drop(group_15_50D[(group_15_50D.values > 0.05)].index).dropna()\n",
      "<ipython-input-1-7b2d6c6e234d>:28: RuntimeWarning: invalid value encountered in less_equal\n",
      "  group_15_50D_larger_005 = group_15_50D.drop(group_15_50D[(group_15_50D.values <= 0.05)].index)\n",
      "<ipython-input-1-7b2d6c6e234d>:29: RuntimeWarning: invalid value encountered in greater\n",
      "  group_15_70D_small_005 = group_15_70D.drop(group_15_70D[(group_15_70D.values > 0.05)].index).dropna()\n",
      "<ipython-input-1-7b2d6c6e234d>:30: RuntimeWarning: invalid value encountered in less_equal\n",
      "  group_15_70D_larger_005 = group_15_70D.drop(group_15_70D[(group_15_70D.values <= 0.05)].index)\n"
     ]
    }
   ],
   "source": [
    "import pandas\n",
    "\n",
    "data_a = pandas.read_csv('wilcox-restore-LA-fix.csv')\n",
    "\n",
    "# restored by any groups infomation \n",
    "any_group = data_a[data_a[\"LA\"].isin([\"group9\",\"group15\",\"group9_group15\"])]\n",
    "any_group_50D = any_group.pop(\"X3A1A_pAdj\")\n",
    "any_group_70D = any_group.pop(\"X3B1B_pAdj\")\n",
    "any_group_50D_small_005 = any_group_50D.drop(any_group_50D[(any_group_50D.values > 0.05)].index).dropna()\n",
    "any_group_50D_larger_005 = any_group_50D.drop(any_group_50D[(any_group_50D.values <= 0.05)].index)\n",
    "any_group_70D_small_005 = any_group_70D.drop(any_group_70D[(any_group_70D.values > 0.05)].index).dropna()\n",
    "any_group_70D_larger_005 = any_group_70D.drop(any_group_70D[(any_group_70D.values <= 0.05)].index)\n",
    "\n",
    "# restored by group 9 infomation \n",
    "group_9 = data_a[data_a[\"LA\"].isin([\"group9\"])]\n",
    "group_9_50D = group_9.pop(\"X3A1A_pAdj\")\n",
    "group_9_70D = group_9.pop(\"X3B1B_pAdj\")\n",
    "group_9_50D_small_005 = group_9_50D.drop(group_9_50D[(group_9_50D.values > 0.05)].index).dropna()\n",
    "group_9_50D_larger_005 = group_9_50D.drop(group_9_50D[(group_9_50D.values <= 0.05)].index)\n",
    "group_9_70D_small_005 = group_9_70D.drop(group_9_70D[(group_9_70D.values > 0.05)].index).dropna()\n",
    "group_9_70D_larger_005 = group_9_70D.drop(group_9_70D[(group_9_70D.values <= 0.05)].index)\n",
    "\n",
    "# restored by group 15 infomation \n",
    "group_15 = data_a[data_a[\"LA\"].isin([\"group15\"])]\n",
    "group_15_50D = group_15.pop(\"X3A1A_pAdj\")\n",
    "group_15_70D = group_15.pop(\"X3B1B_pAdj\")\n",
    "group_15_50D_small_005 = group_15_50D.drop(group_15_50D[(group_15_50D.values > 0.05)].index).dropna()\n",
    "group_15_50D_larger_005 = group_15_50D.drop(group_15_50D[(group_15_50D.values <= 0.05)].index)\n",
    "group_15_70D_small_005 = group_15_70D.drop(group_15_70D[(group_15_70D.values > 0.05)].index).dropna()\n",
    "group_15_70D_larger_005 = group_15_70D.drop(group_15_70D[(group_15_70D.values <= 0.05)].index)\n",
    "\n",
    "# restored by group 9 and 15 infomation \n",
    "group_9_15 = data_a[data_a[\"LA\"].isin([\"group9_group15\"])]\n",
    "group_9_15_50D = group_9_15.pop(\"X3A1A_pAdj\")\n",
    "group_9_15_70D = group_9_15.pop(\"X3B1B_pAdj\")\n",
    "group_9_15_50D_small_005 = group_9_15_50D.drop(group_9_15_50D[(group_9_15_50D.values > 0.05)].index).dropna()\n",
    "group_9_15_50D_larger_005 = group_9_15_50D.drop(group_9_15_50D[(group_9_15_50D.values <= 0.05)].index)\n",
    "group_9_15_70D_small_005 = group_9_15_70D.drop(group_9_15_70D[(group_9_15_70D.values > 0.05)].index).dropna()\n",
    "group_9_15_70D_larger_005 = group_9_15_70D.drop(group_9_15_70D[(group_9_15_70D.values <= 0.05)].index)\n",
    "\n",
    "# not restored features information\n",
    "not_restored = data_a[data_a[\"LA\"].isin([\"not_restored\"])]\n",
    "not_restored_50D = not_restored.pop(\"X3A1A_pAdj\")\n",
    "not_restored_70D = not_restored.pop(\"X3B1B_pAdj\")\n",
    "not_restored_50D_small_005 = not_restored_50D.drop(not_restored_50D[(not_restored_50D.values > 0.05)].index).dropna()\n",
    "not_restored_50D_larger_005 = not_restored_50D.drop(not_restored_50D[(not_restored_50D.values <= 0.05)].index)\n",
    "not_restored_70D_small_005 = not_restored_70D.drop(not_restored_70D[(not_restored_70D.values > 0.05)].index).dropna()\n",
    "not_restored_70D_larger_005 = not_restored_70D.drop(not_restored_70D[(not_restored_70D.values <= 0.05)].index)"
   ]
  },
  {
   "cell_type": "code",
   "execution_count": 2,
   "metadata": {},
   "outputs": [
    {
     "name": "stdout",
     "output_type": "stream",
     "text": [
      "any groups 50D pvalue < 0.05, ratio is 0.42\n",
      "any groups 70D pvalue < 0.05, ratio is 0.0\n",
      "group9 50D pvalue < 0.05, ratio is 1.0\n",
      "group9 70D pvalue < 0.05, ratio is 0.0\n",
      "group15 50D pvalue < 0.05, ratio is 0.33\n",
      "group15 70D pvalue < 0.05, ratio is 0.0\n",
      "group9_group15 50D pvalue < 0.05, ratio is 0.38\n",
      "group9_group15 70D pvalue < 0.05, ratio is 0.0\n",
      "not restored 50D pvalue < 0.05, ratio is 0.84\n",
      "not restored 70D pvalue < 0.05, ratio is 0.0\n"
     ]
    }
   ],
   "source": [
    "# this section show the ratio of features with adjusted p-value smaller or larger than 0.05\n",
    "\n",
    "ratio_any_group_50D_smaller_005 = len(any_group_50D_small_005)/len(any_group_50D)\n",
    "ratio_any_group_70D_smaller_005 = len(any_group_70D_small_005)/len(any_group_70D)\n",
    "\n",
    "ratio_group_9_50D_smaller_005 = len(group_9_50D_small_005)/len(group_9_50D)\n",
    "ratio_group_9_70D_smaller_005 = len(group_9_70D_small_005)/len(group_9_70D)\n",
    "\n",
    "ratio_group_15_50D_smaller_005 = len(group_15_50D_small_005)/len(group_15_50D)\n",
    "ratio_group_15_70D_smaller_005 = len(group_15_70D_small_005)/len(group_15_70D)\n",
    "\n",
    "ratio_group_9_15_50D_smaller_005 = len(group_9_15_50D_small_005)/len(group_9_15_50D)\n",
    "ratio_group_9_15_70D_smaller_005 = len(group_9_15_70D_small_005)/len(group_9_15_70D)\n",
    "\n",
    "ratio_not_restored_50D_smaller_005 = len(not_restored_50D_small_005)/len(not_restored_50D)\n",
    "ratio_not_restored_70D_smaller_005 = len(not_restored_70D_small_005)/len(not_restored_70D)\n",
    "\n",
    "print(\"any groups 50D pvalue < 0.05, ratio is\", round(ratio_any_group_50D_smaller_005,2))\n",
    "print(\"any groups 70D pvalue < 0.05, ratio is\", round(ratio_any_group_70D_smaller_005,2))\n",
    "\n",
    "print(\"group9 50D pvalue < 0.05, ratio is\", round(ratio_group_9_50D_smaller_005,2))\n",
    "print(\"group9 70D pvalue < 0.05, ratio is\", round(ratio_group_9_70D_smaller_005,2))\n",
    "\n",
    "print(\"group15 50D pvalue < 0.05, ratio is\", round(ratio_group_15_50D_smaller_005,2))\n",
    "print(\"group15 70D pvalue < 0.05, ratio is\", round(ratio_group_15_70D_smaller_005,2))\n",
    "\n",
    "print(\"group9_group15 50D pvalue < 0.05, ratio is\", round(ratio_group_9_15_50D_smaller_005,2))\n",
    "print(\"group9_group15 70D pvalue < 0.05, ratio is\", round(ratio_group_9_15_70D_smaller_005,2))\n",
    "\n",
    "print(\"not restored 50D pvalue < 0.05, ratio is\", round(ratio_not_restored_50D_smaller_005,2))\n",
    "print(\"not restored 70D pvalue < 0.05, ratio is\", round(ratio_not_restored_70D_smaller_005,2))"
   ]
  },
  {
   "cell_type": "code",
   "execution_count": 3,
   "metadata": {},
   "outputs": [
    {
     "name": "stdout",
     "output_type": "stream",
     "text": [
      "50D total features restored by any groups: 12 , adjusted p-value < 0.05: 5\n",
      "70D total features restored by any groups: 12 , adjusted p-value < 0.05: 0\n",
      "50D total features restored by group9: 1 , adjusted p-value < 0.05: 1\n",
      "70D total features restored by group9: 1 , adjusted p-value < 0.05: 0\n",
      "50D total features restored by group15: 3 , adjusted p-value < 0.05: 1\n",
      "70D total features restored by group15: 3 , adjusted p-value < 0.05: 0\n",
      "50D total features restored by group9_group15: 8 , adjusted p-value < 0.05: 3\n",
      "70D total features restored by group9_group15: 8 , adjusted p-value < 0.05: 0\n",
      "50D total features not restored: 19 , ,adjusted p-value < 0.05: 16\n",
      "70D total features not restored: 19 , ,adjusted p-value < 0.05: 0\n"
     ]
    }
   ],
   "source": [
    "# check the number of features for different situation\n",
    "print(\"50D total features restored by any groups:\", len(any_group_50D),\",\", \"adjusted p-value < 0.05:\", len(any_group_50D_small_005))\n",
    "print(\"70D total features restored by any groups:\", len(any_group_70D),\",\", \"adjusted p-value < 0.05:\", len(any_group_70D_small_005))\n",
    "\n",
    "print(\"50D total features restored by group9:\", len(group_9_50D),\",\", \"adjusted p-value < 0.05:\", len(group_9_50D_small_005))\n",
    "print(\"70D total features restored by group9:\", len(group_9_70D),\",\", \"adjusted p-value < 0.05:\", len(group_9_70D_small_005))\n",
    "\n",
    "print(\"50D total features restored by group15:\", len(group_15_50D),\",\", \"adjusted p-value < 0.05:\", len(group_15_50D_small_005))\n",
    "print(\"70D total features restored by group15:\", len(group_15_70D),\",\", \"adjusted p-value < 0.05:\", len(group_15_70D_small_005))\n",
    "\n",
    "print(\"50D total features restored by group9_group15:\", len(group_9_15_50D),\",\", \"adjusted p-value < 0.05:\", len(group_9_15_50D_small_005))\n",
    "print(\"70D total features restored by group9_group15:\", len(group_9_15_70D),\",\", \"adjusted p-value < 0.05:\", len(group_9_15_70D_small_005))\n",
    "\n",
    "print(\"50D total features not restored:\", len(not_restored_50D),\",\", \",adjusted p-value < 0.05:\", len(not_restored_50D_small_005))\n",
    "print(\"70D total features not restored:\", len(not_restored_70D),\",\", \",adjusted p-value < 0.05:\", len(not_restored_70D_small_005))"
   ]
  },
  {
   "cell_type": "code",
   "execution_count": 4,
   "metadata": {},
   "outputs": [],
   "source": [
    "# some groups have NAs for wilcox test adjusted p-value, \n",
    "# included in larger than 0.05 since they all zeros so they are similar, no differences"
   ]
  },
  {
   "cell_type": "code",
   "execution_count": 5,
   "metadata": {},
   "outputs": [
    {
     "name": "stdout",
     "output_type": "stream",
     "text": [
      "5     0.017913\n",
      "7     0.005133\n",
      "8     0.030160\n",
      "11    0.014819\n",
      "20    0.014819\n",
      "Name: X3A1A_pAdj, dtype: float64\n",
      "0     0.570563\n",
      "1     0.692411\n",
      "4     0.446569\n",
      "6     0.425781\n",
      "9     0.408039\n",
      "21         NaN\n",
      "27    0.109461\n",
      "Name: X3A1A_pAdj, dtype: float64\n",
      "Series([], Name: X3B1B_pAdj, dtype: float64)\n",
      "0     0.967417\n",
      "1     0.772358\n",
      "4     0.772358\n",
      "5     0.967417\n",
      "6     0.772358\n",
      "7     0.967417\n",
      "8     0.967417\n",
      "9     0.434489\n",
      "11    0.967417\n",
      "20    0.434489\n",
      "21         NaN\n",
      "27    0.101222\n",
      "Name: X3B1B_pAdj, dtype: float64\n",
      "12\n",
      "12\n"
     ]
    }
   ],
   "source": [
    "print(any_group_50D_small_005)\n",
    "print(any_group_50D_larger_005)\n",
    "print(any_group_70D_small_005)\n",
    "print(any_group_70D_larger_005)\n",
    "print(len(any_group_50D_small_005) + len(any_group_50D_larger_005)) \n",
    "print(len(any_group_70D_small_005) + len(any_group_70D_larger_005))"
   ]
  },
  {
   "cell_type": "code",
   "execution_count": 6,
   "metadata": {},
   "outputs": [
    {
     "name": "stdout",
     "output_type": "stream",
     "text": [
      "7    0.005133\n",
      "Name: X3A1A_pAdj, dtype: float64\n",
      "Series([], Name: X3A1A_pAdj, dtype: float64)\n",
      "Series([], Name: X3B1B_pAdj, dtype: float64)\n",
      "7    0.967417\n",
      "Name: X3B1B_pAdj, dtype: float64\n",
      "1\n",
      "1\n"
     ]
    }
   ],
   "source": [
    "print(group_9_50D_small_005)\n",
    "print(group_9_50D_larger_005)\n",
    "print(group_9_70D_small_005)\n",
    "print(group_9_70D_larger_005)\n",
    "print(len(group_9_50D_small_005) + len(group_9_50D_larger_005)) \n",
    "print(len(group_9_70D_small_005) + len(group_9_70D_larger_005))"
   ]
  },
  {
   "cell_type": "code",
   "execution_count": 7,
   "metadata": {},
   "outputs": [
    {
     "name": "stdout",
     "output_type": "stream",
     "text": [
      "20    0.014819\n",
      "Name: X3A1A_pAdj, dtype: float64\n",
      "4     0.446569\n",
      "21         NaN\n",
      "Name: X3A1A_pAdj, dtype: float64\n",
      "Series([], Name: X3B1B_pAdj, dtype: float64)\n",
      "4     0.772358\n",
      "20    0.434489\n",
      "21         NaN\n",
      "Name: X3B1B_pAdj, dtype: float64\n",
      "3\n",
      "3\n"
     ]
    }
   ],
   "source": [
    "print(group_15_50D_small_005)\n",
    "print(group_15_50D_larger_005)\n",
    "print(group_15_70D_small_005)\n",
    "print(group_15_70D_larger_005)\n",
    "print(len(group_15_50D_small_005) + len(group_15_50D_larger_005))\n",
    "print(len(group_15_70D_small_005) + len(group_15_70D_larger_005))"
   ]
  },
  {
   "cell_type": "code",
   "execution_count": 8,
   "metadata": {},
   "outputs": [
    {
     "name": "stdout",
     "output_type": "stream",
     "text": [
      "5     0.017913\n",
      "8     0.030160\n",
      "11    0.014819\n",
      "Name: X3A1A_pAdj, dtype: float64\n",
      "0     0.570563\n",
      "1     0.692411\n",
      "6     0.425781\n",
      "9     0.408039\n",
      "27    0.109461\n",
      "Name: X3A1A_pAdj, dtype: float64\n",
      "Series([], Name: X3B1B_pAdj, dtype: float64)\n",
      "0     0.967417\n",
      "1     0.772358\n",
      "5     0.967417\n",
      "6     0.772358\n",
      "8     0.967417\n",
      "9     0.434489\n",
      "11    0.967417\n",
      "27    0.101222\n",
      "Name: X3B1B_pAdj, dtype: float64\n",
      "8\n",
      "8\n"
     ]
    }
   ],
   "source": [
    "print(group_9_15_50D_small_005)\n",
    "print(group_9_15_50D_larger_005)\n",
    "print(group_9_15_70D_small_005)\n",
    "print(group_9_15_70D_larger_005)\n",
    "print(len(group_9_15_50D_small_005) + len(group_9_15_50D_larger_005))\n",
    "print(len(group_9_15_70D_small_005) + len(group_9_15_70D_larger_005))"
   ]
  },
  {
   "cell_type": "code",
   "execution_count": 9,
   "metadata": {},
   "outputs": [
    {
     "name": "stdout",
     "output_type": "stream",
     "text": [
      "2     0.014819\n",
      "3     0.020558\n",
      "12    0.020558\n",
      "13    0.014819\n",
      "14    0.042138\n",
      "15    0.014819\n",
      "16    0.014819\n",
      "17    0.022587\n",
      "18    0.022512\n",
      "19    0.025945\n",
      "22    0.014819\n",
      "23    0.025945\n",
      "25    0.022587\n",
      "26    0.001362\n",
      "28    0.014819\n",
      "29    0.022512\n",
      "Name: X3A1A_pAdj, dtype: float64\n",
      "10    0.052383\n",
      "24    0.199876\n",
      "30    0.412571\n",
      "Name: X3A1A_pAdj, dtype: float64\n",
      "Series([], Name: X3B1B_pAdj, dtype: float64)\n",
      "2     0.101222\n",
      "3     0.967417\n",
      "10    0.355905\n",
      "12    0.191132\n",
      "13    0.355905\n",
      "14    0.191132\n",
      "15    0.191132\n",
      "16    0.109812\n",
      "17    0.415927\n",
      "18    0.109812\n",
      "19    0.191132\n",
      "22    0.109812\n",
      "23    0.231957\n",
      "24    0.191132\n",
      "25    0.109812\n",
      "26    0.101222\n",
      "28    0.109812\n",
      "29    0.101222\n",
      "30    0.562758\n",
      "Name: X3B1B_pAdj, dtype: float64\n",
      "19\n",
      "19\n"
     ]
    }
   ],
   "source": [
    "print(not_restored_50D_small_005)\n",
    "print(not_restored_50D_larger_005)\n",
    "print(not_restored_70D_small_005)\n",
    "print(not_restored_70D_larger_005)\n",
    "print(len(not_restored_50D_small_005) + len(not_restored_50D_larger_005))\n",
    "print(len(not_restored_70D_small_005) + len(not_restored_70D_larger_005))"
   ]
  },
  {
   "cell_type": "code",
   "execution_count": null,
   "metadata": {},
   "outputs": [],
   "source": []
  },
  {
   "cell_type": "code",
   "execution_count": null,
   "metadata": {},
   "outputs": [],
   "source": []
  },
  {
   "cell_type": "code",
   "execution_count": null,
   "metadata": {},
   "outputs": [],
   "source": []
  },
  {
   "cell_type": "code",
   "execution_count": null,
   "metadata": {},
   "outputs": [],
   "source": []
  }
 ],
 "metadata": {
  "kernelspec": {
   "display_name": "Python 3",
   "language": "python",
   "name": "python3"
  },
  "language_info": {
   "codemirror_mode": {
    "name": "ipython",
    "version": 3
   },
   "file_extension": ".py",
   "mimetype": "text/x-python",
   "name": "python",
   "nbconvert_exporter": "python",
   "pygments_lexer": "ipython3",
   "version": "3.8.5"
  }
 },
 "nbformat": 4,
 "nbformat_minor": 4
}
