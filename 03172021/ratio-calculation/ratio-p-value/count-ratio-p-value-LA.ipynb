{
 "cells": [
  {
   "cell_type": "code",
   "execution_count": 1,
   "metadata": {},
   "outputs": [
    {
     "name": "stdout",
     "output_type": "stream",
     "text": [
      "Int64Index([2, 3, 5, 7, 8, 11, 12, 13, 14, 15, 16, 17, 18, 19, 20, 22, 23, 25,\n",
      "            26, 28, 29],\n",
      "           dtype='int64')\n",
      "Int64Index([], dtype='int64')\n"
     ]
    }
   ],
   "source": [
    "import pandas\n",
    "\n",
    "# read the data file \n",
    "data_a = pandas.read_csv('wilcox-restore-LA-fix.csv')\n",
    "\n",
    "# get the features with adjusted p-value < 0.05\n",
    "data_3A1A = data_a.drop(data_a[(data_a.X3A1A_pAdj > 0.05)].index).dropna()\n",
    "data_3B1B = data_a.drop(data_a[(data_a.X3B1B_pAdj > 0.05)].index).dropna()\n",
    "\n",
    "# check whether they are empty\n",
    "print(data_3A1A.index)\n",
    "print(data_3B1B.index)"
   ]
  },
  {
   "cell_type": "code",
   "execution_count": 2,
   "metadata": {},
   "outputs": [
    {
     "name": "stdout",
     "output_type": "stream",
     "text": [
      "50 days, adjusted p-value < 0.05, restored by any treatment, ratio is 0.24\n",
      "50 days, adjusted p-value < 0.05, restored by group 9, ratio is 0.05\n",
      "50 days, adjusted p-value < 0.05, restored by group 15, ratio is 0.05\n",
      "50 days, adjusted p-value < 0.05, restored by group 9 and 15, ratio is 0.14\n",
      "50 days, adjusted p-value < 0.05, not restored, ratio is 0.76\n"
     ]
    }
   ],
   "source": [
    "# for 50 days, 3A-1A with adjusted p-value < 0.05\n",
    "any_3A1A = data_3A1A[data_3A1A[\"LA\"].isin([\"group9\", \"group15\", \"group9_group15\"])]\n",
    "group_9_3A1A = data_3A1A[data_3A1A[\"LA\"].isin([\"group9\"])]\n",
    "group_15_3A1A = data_3A1A[data_3A1A[\"LA\"].isin([\"group15\"])]\n",
    "group_9_15_3A1A = data_3A1A[data_3A1A[\"LA\"].isin([\"group9_group15\"])]\n",
    "not_restored_3A1A = data_3A1A[data_3A1A[\"LA\"].isin([\"not_restored\"])]\n",
    "\n",
    "# for 70 days, 3B-1B with adjusted p-value < 0.05\n",
    "#any_3B1B = data_3B1B[data_3B1B[\"LA\"].isin([\"group9\", \"group15\", \"group9_group15\"])]\n",
    "#group_9_3B1B = data_3B1B[data_3B1B[\"LA\"].isin([\"group9\"])]\n",
    "#group_15_3B1B = data_3B1B[data_3B1B[\"LA\"].isin([\"group15\"])]\n",
    "#group_9_15_3B1B = data_3B1B[data_3B1B[\"LA\"].isin([\"group9_group15\"])]\n",
    "#not_restored_3B1B = data_3B1B[data_3B1B[\"LA\"].isin([\"not_restored\"])]\n",
    "\n",
    "# calculate the ratio 50 days\n",
    "ratio_any_3A1A = len(any_3A1A.index)/len(data_3A1A.index)\n",
    "ratio_group9_3A1A = len(group_9_3A1A.index)/len(data_3A1A.index)\n",
    "ratio_group15_3A1A = len(group_15_3A1A.index)/len(data_3A1A.index)\n",
    "ratio_group9_group15_3A1A = len(group_9_15_3A1A.index)/len(data_3A1A.index)\n",
    "ratio_not_restored_3A1A = len(not_restored_3A1A.index)/len(data_3A1A.index)\n",
    "\n",
    "# calculate the ratio 70 days\n",
    "#ratio_any_3B1B = len(any_3B1B.index)/len(data_3B1B.index)\n",
    "#ratio_group9_3B1B = len(group_9_3B1B.index)/len(data_3B1B.index)\n",
    "#ratio_group15_3B1B = len(group_15_3B1B.index)/len(data_3B1B.index)\n",
    "#ratio_group9_group15_3B1B = len(group_9_15_3B1B.index)/len(data_3B1B.index)\n",
    "#ratio_not_restored_3B1B = len(not_restored_3B1B.index)/len(data_3B1B.index)\n",
    "\n",
    "print(\"50 days, adjusted p-value < 0.05, restored by any treatment, ratio is\", round(ratio_any_3A1A,2))\n",
    "print(\"50 days, adjusted p-value < 0.05, restored by group 9, ratio is\", round(ratio_group9_3A1A,2))\n",
    "print(\"50 days, adjusted p-value < 0.05, restored by group 15, ratio is\", round(ratio_group15_3A1A,2))\n",
    "print(\"50 days, adjusted p-value < 0.05, restored by group 9 and 15, ratio is\", round(ratio_group9_group15_3A1A,2))\n",
    "print(\"50 days, adjusted p-value < 0.05, not restored, ratio is\", round(ratio_not_restored_3A1A,2))\n",
    "\n",
    "#print(\"70 days, adjusted p-value < 0.05, restored by any treatment, ratio is\", round(ratio_any_3B1B,2))\n",
    "#print(\"70 days, adjusted p-value < 0.05, restored by group 9, ratio is\", round(ratio_group9_3B1B,2))\n",
    "#print(\"70 days, adjusted p-value < 0.05, restored by group 15, ratio is\", round(ratio_group15_3B1B,2))\n",
    "#print(\"70 days, adjusted p-value < 0.05, restored by group 9 and 15, ratio is\", round(ratio_group9_group15_3B1B,2))\n",
    "#print(\"70 days, adjusted p-value < 0.05, not restored, ratio is\", round(ratio_not_restored_3B1B,2))\n"
   ]
  },
  {
   "cell_type": "code",
   "execution_count": null,
   "metadata": {},
   "outputs": [],
   "source": []
  }
 ],
 "metadata": {
  "kernelspec": {
   "display_name": "Python 3",
   "language": "python",
   "name": "python3"
  },
  "language_info": {
   "codemirror_mode": {
    "name": "ipython",
    "version": 3
   },
   "file_extension": ".py",
   "mimetype": "text/x-python",
   "name": "python",
   "nbconvert_exporter": "python",
   "pygments_lexer": "ipython3",
   "version": "3.8.5"
  }
 },
 "nbformat": 4,
 "nbformat_minor": 4
}
