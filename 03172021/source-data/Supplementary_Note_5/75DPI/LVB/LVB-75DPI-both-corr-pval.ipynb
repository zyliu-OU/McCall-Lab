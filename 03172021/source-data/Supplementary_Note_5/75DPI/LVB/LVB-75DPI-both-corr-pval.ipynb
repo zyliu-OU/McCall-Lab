{
 "cells": [
  {
   "cell_type": "code",
   "execution_count": 1,
   "id": "d4c1e65e",
   "metadata": {
    "scrolled": true
   },
   "outputs": [
    {
     "name": "stdout",
     "output_type": "stream",
     "text": [
      "Empty DataFrame\n",
      "Columns: [Heart.weight..Body.weight.ratio, Liver.weight..Body.weight.ratio, Ejection.Fraction, PR.Interval..s., QTc..s., P.Amplitude..V., CD3.CD8.IFNg.]\n",
      "Index: []\n",
      "Empty DataFrame\n",
      "Columns: [X387.193_2.842, X764.524_3.729, X792.329_2.764, X811.309_2.773]\n",
      "Index: []\n",
      "['Heart.weight..Body.weight.ratio-X387.193_2.842', 'Heart.weight..Body.weight.ratio-X764.524_3.729', 'Heart.weight..Body.weight.ratio-X792.329_2.764', 'Heart.weight..Body.weight.ratio-X811.309_2.773', 'Liver.weight..Body.weight.ratio-X387.193_2.842', 'Liver.weight..Body.weight.ratio-X764.524_3.729', 'Liver.weight..Body.weight.ratio-X792.329_2.764', 'Liver.weight..Body.weight.ratio-X811.309_2.773', 'Ejection.Fraction-X387.193_2.842', 'Ejection.Fraction-X764.524_3.729', 'Ejection.Fraction-X792.329_2.764', 'Ejection.Fraction-X811.309_2.773', 'PR.Interval..s.-X387.193_2.842', 'PR.Interval..s.-X764.524_3.729', 'PR.Interval..s.-X792.329_2.764', 'PR.Interval..s.-X811.309_2.773', 'QTc..s.-X387.193_2.842', 'QTc..s.-X764.524_3.729', 'QTc..s.-X792.329_2.764', 'QTc..s.-X811.309_2.773', 'P.Amplitude..V.-X387.193_2.842', 'P.Amplitude..V.-X764.524_3.729', 'P.Amplitude..V.-X792.329_2.764', 'P.Amplitude..V.-X811.309_2.773', 'CD3.CD8.IFNg.-X387.193_2.842', 'CD3.CD8.IFNg.-X764.524_3.729', 'CD3.CD8.IFNg.-X792.329_2.764', 'CD3.CD8.IFNg.-X811.309_2.773']\n",
      "[-0.4341289046988254, 0.2618173462463737, 0.0983347020821218, 0.44343086268385745, -0.0020148145984054022, 0.47578404280078446, -0.09222252733686119, -0.11991101223581756, -0.06917530121191881, 0.4867216070031014, -0.2696276944276171, -0.3650723025583982, -0.1363357878254322, 0.09677366587702112, 0.25038533503417537, 0.17419354838709677, 0.08171192537977465, -0.038757020977775045, 0.051625842275087694, -0.13281423804226916, -0.15515798398983294, -0.2725183277005852, 0.4203280463701197, 0.25586828504086107, -0.13255952063682974, -0.1679051911169213, 0.3188605206530941, 0.21473075743009074]\n",
      "[0.016529772402400618, 0.16222802610412493, 0.6051762707192818, 0.014113681433955546, 0.9915691818821893, 0.007873099496397395, 0.6278925516047399, 0.5279386219751125, 0.7164370008110726, 0.0063815988089066895, 0.14961203439541718, 0.047290803950272506, 0.4725251262772949, 0.610944821589076, 0.1820346231232196, 0.3572478396366079, 0.6677366207542682, 0.8388716848440338, 0.7864435105300952, 0.4841446192155957, 0.4129576362295574, 0.14512718396511864, 0.020738975013297363, 0.17233374906433835, 0.48499070830882796, 0.3751343037947822, 0.08590322149702104, 0.2544915647560847]\n"
     ]
    }
   ],
   "source": [
    "import seaborn as sns\n",
    "import numpy as np\n",
    "import pandas as pd\n",
    "import matplotlib.pyplot as plt\n",
    "from scipy.stats import kendalltau, pearsonr, spearmanr\n",
    "\n",
    "def spearsonr_pval(x,y):\n",
    "    return spearmanr(x,y)[1]\n",
    "\n",
    "data_a = pd.read_csv(\"LVB-75DPI-metadata-feature-table.csv\")\n",
    "\n",
    "data_restore = pd.read_csv(\"LVB-mass-restored-both.csv\")\n",
    "data_restore_list = data_restore.filename.to_list()\n",
    "data_restore_list.insert(0, \"MouseID\")\n",
    "\n",
    "# this is metadata info, which is extra baylor information.\n",
    "# careful for the range, [a,b] mean a <= X < b. Also python is 0 based index.\n",
    "data_M = data_a.iloc[:, np.r_[0, 1:8]]\n",
    "data_M = data_M.set_index('MouseID')\n",
    "# this is metabolites, which is features.\n",
    "data_F = data_a[data_restore_list]\n",
    "data_F = data_F.set_index('MouseID')\n",
    "\n",
    "# get the two part of column names: metadata colum name and features column name.\n",
    "M_column_list = data_M.head(0)\n",
    "print(M_column_list)\n",
    "F_column_list = data_F.head(0)\n",
    "print(F_column_list)\n",
    "\n",
    "df_col_list = []\n",
    "df_corr_list = []\n",
    "df_pval_list = []\n",
    "\n",
    "for m_col in M_column_list:\n",
    "    for f_col in F_column_list:\n",
    "        col_1 = data_M[m_col]\n",
    "        col_2 = data_F[f_col]\n",
    "        corr_col_1_2 = col_1.corr(col_2, method='spearman')\n",
    "        corr_pval_col_1_2 = col_1.corr(col_2, method=spearsonr_pval)\n",
    "        df_col_list.append(m_col + \"-\" + f_col)\n",
    "        df_corr_list.append(corr_col_1_2)\n",
    "        df_pval_list.append(corr_pval_col_1_2)\n",
    "\n",
    "print(df_col_list)\n",
    "print(df_corr_list)\n",
    "print(df_pval_list)\n",
    "\n",
    "import statsmodels.api\n",
    "\n",
    "df_final = pd.DataFrame(list(zip(df_col_list, df_corr_list, df_pval_list)), columns=['col_name','corr', 'corr_pval'])\n",
    "\n",
    "df_final['corr'].replace('', float(\"NaN\"), inplace=True)\n",
    "df_final.dropna(subset=['corr'], inplace=True)\n",
    "\n",
    "dr_fdr_pval = statsmodels.stats.multitest.fdrcorrection(list(df_final[\"corr_pval\"]), method='indep')\n",
    "df_final['FDR_rejected'] = dr_fdr_pval[0]\n",
    "df_final['FDR_pval'] = dr_fdr_pval[1]\n",
    "\n",
    "df_final.to_csv('LVB-75DPI-both-corr-pval.csv', index=False)"
   ]
  },
  {
   "cell_type": "code",
   "execution_count": null,
   "id": "d27fc6c8",
   "metadata": {},
   "outputs": [],
   "source": []
  }
 ],
 "metadata": {
  "kernelspec": {
   "display_name": "Python 3",
   "language": "python",
   "name": "python3"
  },
  "language_info": {
   "codemirror_mode": {
    "name": "ipython",
    "version": 3
   },
   "file_extension": ".py",
   "mimetype": "text/x-python",
   "name": "python",
   "nbconvert_exporter": "python",
   "pygments_lexer": "ipython3",
   "version": "3.8.13"
  }
 },
 "nbformat": 4,
 "nbformat_minor": 5
}
