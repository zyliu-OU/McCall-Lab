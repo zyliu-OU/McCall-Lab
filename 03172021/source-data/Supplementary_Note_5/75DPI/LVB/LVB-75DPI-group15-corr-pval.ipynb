{
 "cells": [
  {
   "cell_type": "code",
   "execution_count": 1,
   "id": "d4c1e65e",
   "metadata": {
    "scrolled": true
   },
   "outputs": [
    {
     "name": "stdout",
     "output_type": "stream",
     "text": [
      "Empty DataFrame\n",
      "Columns: [Heart.weight..Body.weight.ratio, Liver.weight..Body.weight.ratio, Ejection.Fraction, PR.Interval..s., QTc..s., P.Amplitude..V., CD3.CD8.IFNg.]\n",
      "Index: []\n",
      "Empty DataFrame\n",
      "Columns: [X119.049_2.765, X251.037_0.323, X291.146_2.39, X386.717_2.856, X494.325_2.865, X620.356_2.913]\n",
      "Index: []\n",
      "['Heart.weight..Body.weight.ratio-X119.049_2.765', 'Heart.weight..Body.weight.ratio-X251.037_0.323', 'Heart.weight..Body.weight.ratio-X291.146_2.39', 'Heart.weight..Body.weight.ratio-X386.717_2.856', 'Heart.weight..Body.weight.ratio-X494.325_2.865', 'Heart.weight..Body.weight.ratio-X620.356_2.913', 'Liver.weight..Body.weight.ratio-X119.049_2.765', 'Liver.weight..Body.weight.ratio-X251.037_0.323', 'Liver.weight..Body.weight.ratio-X291.146_2.39', 'Liver.weight..Body.weight.ratio-X386.717_2.856', 'Liver.weight..Body.weight.ratio-X494.325_2.865', 'Liver.weight..Body.weight.ratio-X620.356_2.913', 'Ejection.Fraction-X119.049_2.765', 'Ejection.Fraction-X251.037_0.323', 'Ejection.Fraction-X291.146_2.39', 'Ejection.Fraction-X386.717_2.856', 'Ejection.Fraction-X494.325_2.865', 'Ejection.Fraction-X620.356_2.913', 'PR.Interval..s.-X119.049_2.765', 'PR.Interval..s.-X251.037_0.323', 'PR.Interval..s.-X291.146_2.39', 'PR.Interval..s.-X386.717_2.856', 'PR.Interval..s.-X494.325_2.865', 'PR.Interval..s.-X620.356_2.913', 'QTc..s.-X119.049_2.765', 'QTc..s.-X251.037_0.323', 'QTc..s.-X291.146_2.39', 'QTc..s.-X386.717_2.856', 'QTc..s.-X494.325_2.865', 'QTc..s.-X620.356_2.913', 'P.Amplitude..V.-X119.049_2.765', 'P.Amplitude..V.-X251.037_0.323', 'P.Amplitude..V.-X291.146_2.39', 'P.Amplitude..V.-X386.717_2.856', 'P.Amplitude..V.-X494.325_2.865', 'P.Amplitude..V.-X620.356_2.913', 'CD3.CD8.IFNg.-X119.049_2.765', 'CD3.CD8.IFNg.-X251.037_0.323', 'CD3.CD8.IFNg.-X291.146_2.39', 'CD3.CD8.IFNg.-X386.717_2.856', 'CD3.CD8.IFNg.-X494.325_2.865', 'CD3.CD8.IFNg.-X620.356_2.913']\n",
      "[-0.2961487242375724, 0.055370145357481346, -0.031406631212876374, -0.08397038604845401, 0.37191037379990166, -0.03938146648020209, 0.1331141590414078, -0.3545870168831191, -0.7461029124999031, -0.5111745981561093, 0.4880852498184953, -0.6560622914349278, 0.0029887462306360992, -0.42771897969706674, -0.658352301298422, -0.5270887831765356, 0.5685514944894672, -0.23337041156840932, -0.12575724524291895, 0.30669073137820985, 0.08329626545521306, 0.05130952756585746, -0.002528939118230545, 0.17285873192436038, -0.0287379445253471, 0.11459057553593902, -0.008685974205222755, -0.029907692538387497, -0.33129102448820147, -0.10923248053392658, -0.37811846041047187, 0.5150711196044776, 0.45684397601141447, 0.29471959024849553, -0.24521942111752404, 0.2863499850848593, 0.25099557664589334, 0.10482863666560188, 0.09601251305573805, 0.29475238606345805, -0.16303789632793253, -0.05674232450225195]\n",
      "[0.11205363258874136, 0.771348779473512, 0.8691390869796378, 0.6590954249892382, 0.04299816699404967, 0.836310079462387, 0.4831493491482236, 0.05452709360519119, 2.212992644979355e-06, 0.003891174064757358, 0.006213715116560591, 8.276186046411796e-05, 0.9874941129511042, 0.01838685247907685, 7.661202057212752e-05, 0.002764530100217828, 0.001045270614619512, 0.21455668755863272, 0.5078627987338712, 0.09926323281409903, 0.6616702694461352, 0.7877222627767732, 0.9894179792387435, 0.36100144122309663, 0.8801755142767298, 0.5465348414890451, 0.9636655294482712, 0.8753351568949234, 0.07372105041146773, 0.5655669637063159, 0.03937602002486229, 0.003584123915187152, 0.011153379583622556, 0.11387793427038234, 0.1915189826388696, 0.12500809816487388, 0.1809364052583888, 0.5814311647117303, 0.6137658648763326, 0.11383582391004109, 0.38933085718674687, 0.7658371065539749]\n"
     ]
    }
   ],
   "source": [
    "import seaborn as sns\n",
    "import numpy as np\n",
    "import pandas as pd\n",
    "import matplotlib.pyplot as plt\n",
    "from scipy.stats import kendalltau, pearsonr, spearmanr\n",
    "\n",
    "def spearsonr_pval(x,y):\n",
    "    return spearmanr(x,y)[1]\n",
    "\n",
    "data_a = pd.read_csv(\"LVB-75DPI-metadata-feature-table.csv\")\n",
    "\n",
    "data_restore = pd.read_csv(\"LVB-mass-restored-15.csv\")\n",
    "data_restore_list = data_restore.filename.to_list()\n",
    "data_restore_list.insert(0, \"MouseID\")\n",
    "\n",
    "# this is metadata info, which is extra baylor information.\n",
    "# careful for the range, [a,b] mean a <= X < b. Also python is 0 based index.\n",
    "data_M = data_a.iloc[:, np.r_[0, 1:8]]\n",
    "data_M = data_M.set_index('MouseID')\n",
    "# this is metabolites, which is features.\n",
    "data_F = data_a[data_restore_list]\n",
    "data_F = data_F.set_index('MouseID')\n",
    "\n",
    "# get the two part of column names: metadata colum name and features column name.\n",
    "M_column_list = data_M.head(0)\n",
    "print(M_column_list)\n",
    "F_column_list = data_F.head(0)\n",
    "print(F_column_list)\n",
    "\n",
    "df_col_list = []\n",
    "df_corr_list = []\n",
    "df_pval_list = []\n",
    "\n",
    "for m_col in M_column_list:\n",
    "    for f_col in F_column_list:\n",
    "        col_1 = data_M[m_col]\n",
    "        col_2 = data_F[f_col]\n",
    "        corr_col_1_2 = col_1.corr(col_2, method='spearman')\n",
    "        corr_pval_col_1_2 = col_1.corr(col_2, method=spearsonr_pval)\n",
    "        df_col_list.append(m_col + \"-\" + f_col)\n",
    "        df_corr_list.append(corr_col_1_2)\n",
    "        df_pval_list.append(corr_pval_col_1_2)\n",
    "\n",
    "print(df_col_list)\n",
    "print(df_corr_list)\n",
    "print(df_pval_list)\n",
    "\n",
    "import statsmodels.api\n",
    "\n",
    "df_final = pd.DataFrame(list(zip(df_col_list, df_corr_list, df_pval_list)), columns=['col_name','corr', 'corr_pval'])\n",
    "\n",
    "df_final['corr'].replace('', float(\"NaN\"), inplace=True)\n",
    "df_final.dropna(subset=['corr'], inplace=True)\n",
    "\n",
    "dr_fdr_pval = statsmodels.stats.multitest.fdrcorrection(list(df_final[\"corr_pval\"]), method='indep')\n",
    "df_final['FDR_rejected'] = dr_fdr_pval[0]\n",
    "df_final['FDR_pval'] = dr_fdr_pval[1]\n",
    "\n",
    "df_final.to_csv('LVB-75DPI-group15-corr-pval.csv', index=False)"
   ]
  },
  {
   "cell_type": "code",
   "execution_count": null,
   "id": "d27fc6c8",
   "metadata": {},
   "outputs": [],
   "source": []
  }
 ],
 "metadata": {
  "kernelspec": {
   "display_name": "Python 3",
   "language": "python",
   "name": "python3"
  },
  "language_info": {
   "codemirror_mode": {
    "name": "ipython",
    "version": 3
   },
   "file_extension": ".py",
   "mimetype": "text/x-python",
   "name": "python",
   "nbconvert_exporter": "python",
   "pygments_lexer": "ipython3",
   "version": "3.8.13"
  }
 },
 "nbformat": 4,
 "nbformat_minor": 5
}
