{
 "cells": [
  {
   "cell_type": "code",
   "execution_count": 1,
   "id": "d4c1e65e",
   "metadata": {
    "scrolled": true
   },
   "outputs": [
    {
     "name": "stdout",
     "output_type": "stream",
     "text": [
      "Empty DataFrame\n",
      "Columns: [Heart.Weight..Body.Weight, Liver.Weight..Body.Weight, Ejection.Fraction, PR.Interval..s., QTc..s., P.Amplitude..V., CD3.CD8.IFNg.]\n",
      "Index: []\n",
      "Empty DataFrame\n",
      "Columns: [X240.116_2.324, X442.353_2.823]\n",
      "Index: []\n",
      "['Heart.Weight..Body.Weight-X240.116_2.324', 'Heart.Weight..Body.Weight-X442.353_2.823', 'Liver.Weight..Body.Weight-X240.116_2.324', 'Liver.Weight..Body.Weight-X442.353_2.823', 'Ejection.Fraction-X240.116_2.324', 'Ejection.Fraction-X442.353_2.823', 'PR.Interval..s.-X240.116_2.324', 'PR.Interval..s.-X442.353_2.823', 'QTc..s.-X240.116_2.324', 'QTc..s.-X442.353_2.823', 'P.Amplitude..V.-X240.116_2.324', 'P.Amplitude..V.-X442.353_2.823', 'CD3.CD8.IFNg.-X240.116_2.324', 'CD3.CD8.IFNg.-X442.353_2.823']\n",
      "[-0.04001893174188631, -0.1446510985327568, 0.562087962954124, 0.6729488108482902, 0.22621505433265698, 0.5881019944456657, 0.4151648877882422, 0.34904949067842644, 0.16684533571630614, 0.20349627443894563, -0.17670117833245924, -0.22230121069072936, -0.1768775444084078, -0.20804307663163446]\n",
      "[0.8336967560017894, 0.4456748082846119, 0.0012265956056920527, 4.610932299227677e-05, 0.2293476397102945, 0.000631242842542842, 0.022524881869252708, 0.0586861399190434, 0.3781995549462329, 0.2807795555666023, 0.35025931638856844, 0.23772140483076237, 0.3497709075416431, 0.2699380489043774]\n"
     ]
    }
   ],
   "source": [
    "import seaborn as sns\n",
    "import numpy as np\n",
    "import pandas as pd\n",
    "import matplotlib.pyplot as plt\n",
    "from scipy.stats import kendalltau, pearsonr, spearmanr\n",
    "\n",
    "def spearsonr_pval(x,y):\n",
    "    return spearmanr(x,y)[1]\n",
    "\n",
    "data_full = pd.read_csv(\"LVT-142DPI-metadata-feature-table.csv\")\n",
    "data_a = data_full[data_full[\"Treatmentgroup\"].isin([\"Group1C\",\"Group3E\"])]\n",
    "\n",
    "data_not_restore = pd.read_csv(\"LVT-mass-not-restored.csv\")\n",
    "data_not_restore_list = data_not_restore.filename.to_list()\n",
    "data_not_restore_list.insert(0, \"MouseID\")\n",
    "\n",
    "# this is metadata info, which is extra baylor information.\n",
    "# careful for the range, [a,b] mean a <= X < b. Also python is 0 based index.\n",
    "data_M = data_a.iloc[:, np.r_[0, 2:9]]\n",
    "data_M = data_M.set_index('MouseID')\n",
    "# this is metabolites, which is features.\n",
    "data_F = data_a[data_not_restore_list]\n",
    "data_F = data_F.set_index('MouseID')\n",
    "\n",
    "# get the two part of column names: metadata colum name and features column name.\n",
    "M_column_list = data_M.head(0)\n",
    "print(M_column_list)\n",
    "F_column_list = data_F.head(0)\n",
    "print(F_column_list)\n",
    "\n",
    "df_col_list = []\n",
    "df_corr_list = []\n",
    "df_pval_list = []\n",
    "\n",
    "for m_col in M_column_list:\n",
    "    for f_col in F_column_list:\n",
    "        col_1 = data_M[m_col]\n",
    "        col_2 = data_F[f_col]\n",
    "        corr_col_1_2 = col_1.corr(col_2, method='spearman')\n",
    "        corr_pval_col_1_2 = col_1.corr(col_2, method=spearsonr_pval)\n",
    "        df_col_list.append(m_col + \"-\" + f_col)\n",
    "        df_corr_list.append(corr_col_1_2)\n",
    "        df_pval_list.append(corr_pval_col_1_2)\n",
    "\n",
    "print(df_col_list)\n",
    "print(df_corr_list)\n",
    "print(df_pval_list)\n",
    "\n",
    "import statsmodels.api\n",
    "dr_fdr_pval = statsmodels.stats.multitest.fdrcorrection(df_pval_list, method='indep')\n",
    "df_final = pd.DataFrame(list(zip(df_col_list, df_corr_list, df_pval_list, dr_fdr_pval[0], dr_fdr_pval[1])), columns=['col_name','corr', 'corr_pval', 'FDR_rejected', 'FDR_pval'])\n",
    "\n",
    "df_final.to_csv('LVT-142DPI-not-restored-corr-pval.csv', index=False)"
   ]
  },
  {
   "cell_type": "code",
   "execution_count": null,
   "id": "d27fc6c8",
   "metadata": {},
   "outputs": [],
   "source": []
  },
  {
   "cell_type": "code",
   "execution_count": null,
   "id": "5f3f4dcf",
   "metadata": {},
   "outputs": [],
   "source": []
  }
 ],
 "metadata": {
  "kernelspec": {
   "display_name": "Python 3",
   "language": "python",
   "name": "python3"
  },
  "language_info": {
   "codemirror_mode": {
    "name": "ipython",
    "version": 3
   },
   "file_extension": ".py",
   "mimetype": "text/x-python",
   "name": "python",
   "nbconvert_exporter": "python",
   "pygments_lexer": "ipython3",
   "version": "3.8.13"
  }
 },
 "nbformat": 4,
 "nbformat_minor": 5
}
