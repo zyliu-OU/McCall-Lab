{
 "cells": [
  {
   "cell_type": "code",
   "execution_count": 1,
   "id": "d4c1e65e",
   "metadata": {
    "scrolled": true
   },
   "outputs": [
    {
     "name": "stdout",
     "output_type": "stream",
     "text": [
      "Empty DataFrame\n",
      "Columns: [Heart.Weight..Body.Weight, Liver.Weight..Body.Weight, Ejection.Fraction, PR.Interval..s., QTc..s., P.Amplitude..V., CD3.CD8.IFNg.]\n",
      "Index: []\n",
      "Empty DataFrame\n",
      "Columns: [X130.087_0.452, X175.148_2.71, X280.189_2.775, X506.255_3.172, X637.306_3.32, X776.148_2.398, X819.211_2.398, X819.378_2.399]\n",
      "Index: []\n",
      "['Heart.Weight..Body.Weight-X130.087_0.452', 'Heart.Weight..Body.Weight-X175.148_2.71', 'Heart.Weight..Body.Weight-X280.189_2.775', 'Heart.Weight..Body.Weight-X506.255_3.172', 'Heart.Weight..Body.Weight-X637.306_3.32', 'Heart.Weight..Body.Weight-X776.148_2.398', 'Heart.Weight..Body.Weight-X819.211_2.398', 'Heart.Weight..Body.Weight-X819.378_2.399', 'Liver.Weight..Body.Weight-X130.087_0.452', 'Liver.Weight..Body.Weight-X175.148_2.71', 'Liver.Weight..Body.Weight-X280.189_2.775', 'Liver.Weight..Body.Weight-X506.255_3.172', 'Liver.Weight..Body.Weight-X637.306_3.32', 'Liver.Weight..Body.Weight-X776.148_2.398', 'Liver.Weight..Body.Weight-X819.211_2.398', 'Liver.Weight..Body.Weight-X819.378_2.399', 'Ejection.Fraction-X130.087_0.452', 'Ejection.Fraction-X175.148_2.71', 'Ejection.Fraction-X280.189_2.775', 'Ejection.Fraction-X506.255_3.172', 'Ejection.Fraction-X637.306_3.32', 'Ejection.Fraction-X776.148_2.398', 'Ejection.Fraction-X819.211_2.398', 'Ejection.Fraction-X819.378_2.399', 'PR.Interval..s.-X130.087_0.452', 'PR.Interval..s.-X175.148_2.71', 'PR.Interval..s.-X280.189_2.775', 'PR.Interval..s.-X506.255_3.172', 'PR.Interval..s.-X637.306_3.32', 'PR.Interval..s.-X776.148_2.398', 'PR.Interval..s.-X819.211_2.398', 'PR.Interval..s.-X819.378_2.399', 'QTc..s.-X130.087_0.452', 'QTc..s.-X175.148_2.71', 'QTc..s.-X280.189_2.775', 'QTc..s.-X506.255_3.172', 'QTc..s.-X637.306_3.32', 'QTc..s.-X776.148_2.398', 'QTc..s.-X819.211_2.398', 'QTc..s.-X819.378_2.399', 'P.Amplitude..V.-X130.087_0.452', 'P.Amplitude..V.-X175.148_2.71', 'P.Amplitude..V.-X280.189_2.775', 'P.Amplitude..V.-X506.255_3.172', 'P.Amplitude..V.-X637.306_3.32', 'P.Amplitude..V.-X776.148_2.398', 'P.Amplitude..V.-X819.211_2.398', 'P.Amplitude..V.-X819.378_2.399', 'CD3.CD8.IFNg.-X130.087_0.452', 'CD3.CD8.IFNg.-X175.148_2.71', 'CD3.CD8.IFNg.-X280.189_2.775', 'CD3.CD8.IFNg.-X506.255_3.172', 'CD3.CD8.IFNg.-X637.306_3.32', 'CD3.CD8.IFNg.-X776.148_2.398', 'CD3.CD8.IFNg.-X819.211_2.398', 'CD3.CD8.IFNg.-X819.378_2.399']\n",
      "[-0.25878950351419233, 0.09501557867631995, 0.14004242434938072, 0.0009513041989627269, -0.2654650711026925, -0.11510780807448996, -0.056364773788541565, -0.06992974479760626, -0.5843997209995044, -0.5726049056099485, -0.42615352256395483, -0.48664625683218465, -0.4036942474840445, -0.3720013419772907, -0.370098521813724, -0.33374949669418874, -0.020689655172413793, -0.2774193548387097, -0.31105951154235706, -0.2627393139904382, -0.02246941045606229, -0.3378756245976585, -0.3307424305526693, -0.24683988061036877, 0.0028924240917662554, -0.21581933607794368, -0.17325160226165437, -0.3350596193107544, 0.19223495502200344, -0.32911462961397026, -0.23161679858671028, -0.33272390361565574, -0.33748609566184645, -0.3147942157953281, -0.374972700166729, -0.19045628100121356, -0.13726362625139044, -0.2860410812040698, -0.2223178810688323, -0.37263785444744496, 0.12703003337041155, 0.1510567296996663, -0.00804662446709719, 0.4196695829802022, 0.2943270300333704, 0.37924815005859636, 0.3326446156313331, 0.26943119916334085, 0.3387114909981895, 0.2307778029994235, 0.060599812841663304, 0.27900100648296805, 0.08834984357837138, 0.24451239101832153, 0.19337409912246634, 0.15724049701700551]\n",
      "[0.1673172604001807, 0.6174689660651447, 0.4604536047141756, 0.9960192951175083, 0.1562447091280185, 0.5447136226296523, 0.7673525212409865, 0.713472916639331, 0.0006962021090327987, 0.0009439140871667608, 0.01886568891043988, 0.006390986788151779, 0.026946802333426553, 0.04294323494798108, 0.044104010707513644, 0.07147836308054822, 0.9135847422192582, 0.1377469131001395, 0.0942981182298685, 0.16070053741017457, 0.9061823627072852, 0.06783356207210546, 0.07422883278531958, 0.1885076721192961, 0.9878971264233669, 0.25203346929634024, 0.35989424100477174, 0.07030501145102244, 0.3088176304029689, 0.07575144340847369, 0.2181199137819591, 0.07240742525618755, 0.0681713466418342, 0.09020479817153339, 0.04117954820549496, 0.31340060874812226, 0.46948804567056723, 0.12543368388708834, 0.23768531113504288, 0.04256043694135508, 0.5035428796479064, 0.4255651913288613, 0.9663384458574342, 0.02096002686059765, 0.11438288816004179, 0.03874402806364121, 0.07247963768271076, 0.14992048510491462, 0.06711312231334142, 0.21983883224223513, 0.7504033259992777, 0.13542458424318693, 0.6424618112466927, 0.1928432838568046, 0.30590460118096, 0.40663682451405225]\n"
     ]
    }
   ],
   "source": [
    "import seaborn as sns\n",
    "import numpy as np\n",
    "import pandas as pd\n",
    "import matplotlib.pyplot as plt\n",
    "from scipy.stats import kendalltau, pearsonr, spearmanr\n",
    "\n",
    "def spearsonr_pval(x,y):\n",
    "    return spearmanr(x,y)[1]\n",
    "\n",
    "data_full = pd.read_csv(\"RVT-142DPI-metadata-feature-table.csv\")\n",
    "data_a = data_full[data_full[\"Treatmentgroup\"].isin([\"Group1C\",\"Group3E\"])]\n",
    "\n",
    "data_restore = pd.read_csv(\"RVT-mass-restored-9.csv\")\n",
    "data_restore_list = data_restore.filename.to_list()\n",
    "data_restore_list.insert(0, \"MouseID\")\n",
    "\n",
    "# this is metadata info, which is extra baylor information.\n",
    "# careful for the range, [a,b] mean a <= X < b. Also python is 0 based index.\n",
    "data_M = data_a.iloc[:, np.r_[0, 2:9]]\n",
    "data_M = data_M.set_index('MouseID')\n",
    "# this is metabolites, which is features.\n",
    "data_F = data_a[data_restore_list]\n",
    "data_F = data_F.set_index('MouseID')\n",
    "\n",
    "# get the two part of column names: metadata colum name and features column name.\n",
    "M_column_list = data_M.head(0)\n",
    "print(M_column_list)\n",
    "F_column_list = data_F.head(0)\n",
    "print(F_column_list)\n",
    "\n",
    "df_col_list = []\n",
    "df_corr_list = []\n",
    "df_pval_list = []\n",
    "\n",
    "for m_col in M_column_list:\n",
    "    for f_col in F_column_list:\n",
    "        col_1 = data_M[m_col]\n",
    "        col_2 = data_F[f_col]\n",
    "        corr_col_1_2 = col_1.corr(col_2, method='spearman')\n",
    "        corr_pval_col_1_2 = col_1.corr(col_2, method=spearsonr_pval)\n",
    "        df_col_list.append(m_col + \"-\" + f_col)\n",
    "        df_corr_list.append(corr_col_1_2)\n",
    "        df_pval_list.append(corr_pval_col_1_2)\n",
    "\n",
    "print(df_col_list)\n",
    "print(df_corr_list)\n",
    "print(df_pval_list)\n",
    "\n",
    "import statsmodels.api\n",
    "\n",
    "df_final = pd.DataFrame(list(zip(df_col_list, df_corr_list, df_pval_list)), columns=['col_name','corr', 'corr_pval'])\n",
    "\n",
    "df_final['corr'].replace('', float(\"NaN\"), inplace=True)\n",
    "df_final.dropna(subset=['corr'], inplace=True)\n",
    "\n",
    "dr_fdr_pval = statsmodels.stats.multitest.fdrcorrection(list(df_final[\"corr_pval\"]), method='indep')\n",
    "df_final['FDR_rejected'] = dr_fdr_pval[0]\n",
    "df_final['FDR_pval'] = dr_fdr_pval[1]\n",
    "\n",
    "df_final.to_csv('RVT-142DPI-group9-corr-pval.csv', index=False)"
   ]
  },
  {
   "cell_type": "code",
   "execution_count": null,
   "id": "d27fc6c8",
   "metadata": {},
   "outputs": [],
   "source": []
  }
 ],
 "metadata": {
  "kernelspec": {
   "display_name": "Python 3",
   "language": "python",
   "name": "python3"
  },
  "language_info": {
   "codemirror_mode": {
    "name": "ipython",
    "version": 3
   },
   "file_extension": ".py",
   "mimetype": "text/x-python",
   "name": "python",
   "nbconvert_exporter": "python",
   "pygments_lexer": "ipython3",
   "version": "3.8.13"
  }
 },
 "nbformat": 4,
 "nbformat_minor": 5
}
