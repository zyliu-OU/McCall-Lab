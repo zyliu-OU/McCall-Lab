{
 "cells": [
  {
   "cell_type": "code",
   "execution_count": 1,
   "id": "d4c1e65e",
   "metadata": {
    "scrolled": true
   },
   "outputs": [
    {
     "name": "stdout",
     "output_type": "stream",
     "text": [
      "Empty DataFrame\n",
      "Columns: [Heart.Weight..Body.Weight, Liver.Weight..Body.Weight, Ejection.Fraction, PR.Interval..s., QTc..s., P.Amplitude..V., CD3.CD8.IFNg.]\n",
      "Index: []\n",
      "Empty DataFrame\n",
      "Columns: [X258.111_0.302, X608.393_3.098, X616.308_2.766]\n",
      "Index: []\n",
      "['Heart.Weight..Body.Weight-X258.111_0.302', 'Heart.Weight..Body.Weight-X608.393_3.098', 'Heart.Weight..Body.Weight-X616.308_2.766', 'Liver.Weight..Body.Weight-X258.111_0.302', 'Liver.Weight..Body.Weight-X608.393_3.098', 'Liver.Weight..Body.Weight-X616.308_2.766', 'Ejection.Fraction-X258.111_0.302', 'Ejection.Fraction-X608.393_3.098', 'Ejection.Fraction-X616.308_2.766', 'PR.Interval..s.-X258.111_0.302', 'PR.Interval..s.-X608.393_3.098', 'PR.Interval..s.-X616.308_2.766', 'QTc..s.-X258.111_0.302', 'QTc..s.-X608.393_3.098', 'QTc..s.-X616.308_2.766', 'P.Amplitude..V.-X258.111_0.302', 'P.Amplitude..V.-X608.393_3.098', 'P.Amplitude..V.-X616.308_2.766', 'CD3.CD8.IFNg.-X258.111_0.302', 'CD3.CD8.IFNg.-X608.393_3.098', 'CD3.CD8.IFNg.-X616.308_2.766']\n",
      "[-0.06578960620424484, -0.07743658402660268, 0.03331321801016897, 0.3216243094530444, -0.4860354115243403, 0.5392321631372873, 0.39933209629172084, -0.13548387096774192, 0.42134125826838087, 0.17348684261398864, -0.3806875093086202, 0.197575594977355, 0.1687852578966123, -0.4100111234705228, 0.24568734984030657, -0.08138258802148414, 0.36774193548387096, -0.2566372038721865, -0.2801387882614589, 0.5160788092147184, -0.25398451018696605]\n",
      "[0.729788072517043, 0.6842084691324894, 0.8612689557605205, 0.08307016806533529, 0.006467527035576357, 0.0021059232588775995, 0.028803985281091533, 0.4753226725916998, 0.02040258396839433, 0.35923224478136573, 0.03795062045716896, 0.2953099487874524, 0.3726000894751056, 0.024431589611026563, 0.19064601485831684, 0.6690002315574239, 0.04557613759427911, 0.1710031286904527, 0.13377175425842902, 0.0035081916969601327, 0.17562453074532244]\n"
     ]
    }
   ],
   "source": [
    "import seaborn as sns\n",
    "import numpy as np\n",
    "import pandas as pd\n",
    "import matplotlib.pyplot as plt\n",
    "from scipy.stats import kendalltau, pearsonr, spearmanr\n",
    "\n",
    "def spearsonr_pval(x,y):\n",
    "    return spearmanr(x,y)[1]\n",
    "\n",
    "data_full = pd.read_csv(\"LA-142DPI-metadata-feature-table.csv\")\n",
    "data_a = data_full[data_full[\"Treatmentgroup\"].isin([\"Group1C\",\"Group3E\"])]\n",
    "\n",
    "data_restore = pd.read_csv(\"LA-mass-restored-15.csv\")\n",
    "data_restore_list = data_restore.filename.to_list()\n",
    "data_restore_list.insert(0, \"MouseID\")\n",
    "\n",
    "# this is metadata info, which is extra baylor information.\n",
    "# careful for the range, [a,b] mean a <= X < b. Also python is 0 based index.\n",
    "data_M = data_a.iloc[:, np.r_[0, 2:9]]\n",
    "data_M = data_M.set_index('MouseID')\n",
    "# this is metabolites, which is features.\n",
    "data_F = data_a[data_restore_list]\n",
    "data_F = data_F.set_index('MouseID')\n",
    "\n",
    "# get the two part of column names: metadata colum name and features column name.\n",
    "M_column_list = data_M.head(0)\n",
    "print(M_column_list)\n",
    "F_column_list = data_F.head(0)\n",
    "print(F_column_list)\n",
    "\n",
    "df_col_list = []\n",
    "df_corr_list = []\n",
    "df_pval_list = []\n",
    "\n",
    "for m_col in M_column_list:\n",
    "    for f_col in F_column_list:\n",
    "        col_1 = data_M[m_col]\n",
    "        col_2 = data_F[f_col]\n",
    "        corr_col_1_2 = col_1.corr(col_2, method='spearman')\n",
    "        corr_pval_col_1_2 = col_1.corr(col_2, method=spearsonr_pval)\n",
    "        df_col_list.append(m_col + \"-\" + f_col)\n",
    "        df_corr_list.append(corr_col_1_2)\n",
    "        df_pval_list.append(corr_pval_col_1_2)\n",
    "\n",
    "print(df_col_list)\n",
    "print(df_corr_list)\n",
    "print(df_pval_list)\n",
    "\n",
    "import statsmodels.api\n",
    "dr_fdr_pval = statsmodels.stats.multitest.fdrcorrection(df_pval_list, method='indep')\n",
    "df_final = pd.DataFrame(list(zip(df_col_list, df_corr_list, df_pval_list, dr_fdr_pval[0], dr_fdr_pval[1])), columns=['col_name','corr', 'corr_pval', 'FDR_rejected', 'FDR_pval'])\n",
    "\n",
    "df_final.to_csv('LA-142DPI-group15-corr-pval.csv', index=False)"
   ]
  },
  {
   "cell_type": "code",
   "execution_count": null,
   "id": "d27fc6c8",
   "metadata": {},
   "outputs": [],
   "source": []
  }
 ],
 "metadata": {
  "kernelspec": {
   "display_name": "Python 3",
   "language": "python",
   "name": "python3"
  },
  "language_info": {
   "codemirror_mode": {
    "name": "ipython",
    "version": 3
   },
   "file_extension": ".py",
   "mimetype": "text/x-python",
   "name": "python",
   "nbconvert_exporter": "python",
   "pygments_lexer": "ipython3",
   "version": "3.8.13"
  }
 },
 "nbformat": 4,
 "nbformat_minor": 5
}
