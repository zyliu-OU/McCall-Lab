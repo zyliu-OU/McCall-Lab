{
 "cells": [
  {
   "cell_type": "code",
   "execution_count": 1,
   "id": "d4c1e65e",
   "metadata": {
    "scrolled": true
   },
   "outputs": [
    {
     "name": "stdout",
     "output_type": "stream",
     "text": [
      "Empty DataFrame\n",
      "Columns: [Heart.Weight..Body.Weight, Liver.Weight..Body.Weight, Ejection.Fraction, PR.Interval..s., QTc..s., P.Amplitude..V., CD3.CD8.IFNg.]\n",
      "Index: []\n",
      "Empty DataFrame\n",
      "Columns: [X132.102_0.307, X226.181_2.61, X256.227_2.847, X278.186_2.23, X298.2_2.676, X348.288_3.044, X502.294_2.879]\n",
      "Index: []\n",
      "['Heart.Weight..Body.Weight-X132.102_0.307', 'Heart.Weight..Body.Weight-X226.181_2.61', 'Heart.Weight..Body.Weight-X256.227_2.847', 'Heart.Weight..Body.Weight-X278.186_2.23', 'Heart.Weight..Body.Weight-X298.2_2.676', 'Heart.Weight..Body.Weight-X348.288_3.044', 'Heart.Weight..Body.Weight-X502.294_2.879', 'Liver.Weight..Body.Weight-X132.102_0.307', 'Liver.Weight..Body.Weight-X226.181_2.61', 'Liver.Weight..Body.Weight-X256.227_2.847', 'Liver.Weight..Body.Weight-X278.186_2.23', 'Liver.Weight..Body.Weight-X298.2_2.676', 'Liver.Weight..Body.Weight-X348.288_3.044', 'Liver.Weight..Body.Weight-X502.294_2.879', 'Ejection.Fraction-X132.102_0.307', 'Ejection.Fraction-X226.181_2.61', 'Ejection.Fraction-X256.227_2.847', 'Ejection.Fraction-X278.186_2.23', 'Ejection.Fraction-X298.2_2.676', 'Ejection.Fraction-X348.288_3.044', 'Ejection.Fraction-X502.294_2.879', 'PR.Interval..s.-X132.102_0.307', 'PR.Interval..s.-X226.181_2.61', 'PR.Interval..s.-X256.227_2.847', 'PR.Interval..s.-X278.186_2.23', 'PR.Interval..s.-X298.2_2.676', 'PR.Interval..s.-X348.288_3.044', 'PR.Interval..s.-X502.294_2.879', 'QTc..s.-X132.102_0.307', 'QTc..s.-X226.181_2.61', 'QTc..s.-X256.227_2.847', 'QTc..s.-X278.186_2.23', 'QTc..s.-X298.2_2.676', 'QTc..s.-X348.288_3.044', 'QTc..s.-X502.294_2.879', 'P.Amplitude..V.-X132.102_0.307', 'P.Amplitude..V.-X226.181_2.61', 'P.Amplitude..V.-X256.227_2.847', 'P.Amplitude..V.-X278.186_2.23', 'P.Amplitude..V.-X298.2_2.676', 'P.Amplitude..V.-X348.288_3.044', 'P.Amplitude..V.-X502.294_2.879', 'CD3.CD8.IFNg.-X132.102_0.307', 'CD3.CD8.IFNg.-X226.181_2.61', 'CD3.CD8.IFNg.-X256.227_2.847', 'CD3.CD8.IFNg.-X278.186_2.23', 'CD3.CD8.IFNg.-X298.2_2.676', 'CD3.CD8.IFNg.-X348.288_3.044', 'CD3.CD8.IFNg.-X502.294_2.879']\n",
      "[0.08255451917778618, -0.09333931083608873, -0.16622163295365575, 0.22215788207445977, -0.09546061651555329, -0.2312194707443387, -0.0013351135177000462, -0.416379237619982, -0.38364721477653163, -0.3177923844582225, -0.5076279890951318, -0.2821853946029595, -0.42040401470421457, -0.5089574112436658, -0.2582869855394883, -0.3510024448059246, -0.4576195773081201, -0.562956343717888, -0.14660734149054505, -0.31450806488539873, -0.36106785317018913, -0.05339859861722318, -0.38623474129877755, -0.37134275455060617, -0.3056824569497939, -0.4156190925707204, -0.05299866532357177, -0.20513961635449904, -0.13948832035595105, -0.21158142294773374, -0.03136818687430478, -0.17576252665473038, -0.217797552836485, -0.001379421337216661, -0.15506117908787542, 0.22135706340378197, 0.16035644686565081, 0.2164627363737486, 0.03519943791483252, -0.01757508342602892, 0.06920097041703582, 0.29521690767519465, 0.1800378424556737, 0.32405044941490435, 0.2924224041863476, 0.14284006074653768, 0.1784800366495059, 0.1646659051029637, 0.1491042700189139]\n",
      "[0.6645077905789807, 0.6237161772602682, 0.3800101846454148, 0.23803188225736588, 0.6158147350815888, 0.21893281001883766, 0.9944132773782924, 0.02209388608479079, 0.03636018886402831, 0.0870176756914418, 0.004190000711624673, 0.13083589976698656, 0.020713595793165066, 0.004075762041593474, 0.16817274305014462, 0.057191850267333186, 0.010999513706573325, 0.0012007416528275916, 0.4394798230627862, 0.09051356191142867, 0.049958497425618406, 0.7792870238047653, 0.03501413144495644, 0.043342198365496916, 0.10043662887309408, 0.022362874832621327, 0.7809000034261699, 0.2768293505323425, 0.46224773674605024, 0.26169152786953953, 0.869297908673841, 0.35286558838459126, 0.24760667595245606, 0.9942278763035418, 0.41325278844362945, 0.23977158905307694, 0.39728202420708547, 0.2505880032277054, 0.853495686377879, 0.9265556109768435, 0.7163360840678981, 0.1132406143972304, 0.34108849597011914, 0.08064268436617927, 0.11685649293532643, 0.45145162144794115, 0.3453518828707468, 0.38454840506304167, 0.4316409702082543]\n"
     ]
    }
   ],
   "source": [
    "import seaborn as sns\n",
    "import numpy as np\n",
    "import pandas as pd\n",
    "import matplotlib.pyplot as plt\n",
    "from scipy.stats import kendalltau, pearsonr, spearmanr\n",
    "\n",
    "def spearsonr_pval(x,y):\n",
    "    return spearmanr(x,y)[1]\n",
    "\n",
    "data_full = pd.read_csv(\"RVB-142DPI-metadata-feature-table.csv\")\n",
    "data_a = data_full[data_full[\"Treatmentgroup\"].isin([\"Group1C\",\"Group3E\"])]\n",
    "\n",
    "data_restore = pd.read_csv(\"RVB-mass-restored-both.csv\")\n",
    "data_restore_list = data_restore.filename.to_list()\n",
    "data_restore_list.insert(0, \"MouseID\")\n",
    "\n",
    "# this is metadata info, which is extra baylor information.\n",
    "# careful for the range, [a,b] mean a <= X < b. Also python is 0 based index.\n",
    "data_M = data_a.iloc[:, np.r_[0, 2:9]]\n",
    "data_M = data_M.set_index('MouseID')\n",
    "# this is metabolites, which is features.\n",
    "data_F = data_a[data_restore_list]\n",
    "data_F = data_F.set_index('MouseID')\n",
    "\n",
    "# get the two part of column names: metadata colum name and features column name.\n",
    "M_column_list = data_M.head(0)\n",
    "print(M_column_list)\n",
    "F_column_list = data_F.head(0)\n",
    "print(F_column_list)\n",
    "\n",
    "df_col_list = []\n",
    "df_corr_list = []\n",
    "df_pval_list = []\n",
    "\n",
    "for m_col in M_column_list:\n",
    "    for f_col in F_column_list:\n",
    "        col_1 = data_M[m_col]\n",
    "        col_2 = data_F[f_col]\n",
    "        corr_col_1_2 = col_1.corr(col_2, method='spearman')\n",
    "        corr_pval_col_1_2 = col_1.corr(col_2, method=spearsonr_pval)\n",
    "        df_col_list.append(m_col + \"-\" + f_col)\n",
    "        df_corr_list.append(corr_col_1_2)\n",
    "        df_pval_list.append(corr_pval_col_1_2)\n",
    "\n",
    "print(df_col_list)\n",
    "print(df_corr_list)\n",
    "print(df_pval_list)\n",
    "\n",
    "import statsmodels.api\n",
    "dr_fdr_pval = statsmodels.stats.multitest.fdrcorrection(df_pval_list, method='indep')\n",
    "df_final = pd.DataFrame(list(zip(df_col_list, df_corr_list, df_pval_list, dr_fdr_pval[0], dr_fdr_pval[1])), columns=['col_name','corr', 'corr_pval', 'FDR_rejected', 'FDR_pval'])\n",
    "\n",
    "df_final.to_csv('RVB-142DPI-both-corr-pval.csv', index=False)"
   ]
  },
  {
   "cell_type": "code",
   "execution_count": null,
   "id": "d27fc6c8",
   "metadata": {},
   "outputs": [],
   "source": []
  }
 ],
 "metadata": {
  "kernelspec": {
   "display_name": "Python 3",
   "language": "python",
   "name": "python3"
  },
  "language_info": {
   "codemirror_mode": {
    "name": "ipython",
    "version": 3
   },
   "file_extension": ".py",
   "mimetype": "text/x-python",
   "name": "python",
   "nbconvert_exporter": "python",
   "pygments_lexer": "ipython3",
   "version": "3.8.13"
  }
 },
 "nbformat": 4,
 "nbformat_minor": 5
}
