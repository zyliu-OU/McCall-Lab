{
 "cells": [
  {
   "cell_type": "code",
   "execution_count": 1,
   "id": "d4c1e65e",
   "metadata": {
    "scrolled": true
   },
   "outputs": [
    {
     "name": "stdout",
     "output_type": "stream",
     "text": [
      "Empty DataFrame\n",
      "Columns: [Heart.Weight..Body.Weight, Liver.Weight..Body.Weight, Ejection.Fraction, PR.Interval..s., QTc..s., P.Amplitude..V., CD3.CD8.IFNg.]\n",
      "Index: []\n",
      "Empty DataFrame\n",
      "Columns: [X387.193_2.842, X764.524_3.729, X792.329_2.764, X811.309_2.773]\n",
      "Index: []\n",
      "['Heart.Weight..Body.Weight-X387.193_2.842', 'Heart.Weight..Body.Weight-X764.524_3.729', 'Heart.Weight..Body.Weight-X792.329_2.764', 'Heart.Weight..Body.Weight-X811.309_2.773', 'Liver.Weight..Body.Weight-X387.193_2.842', 'Liver.Weight..Body.Weight-X764.524_3.729', 'Liver.Weight..Body.Weight-X792.329_2.764', 'Liver.Weight..Body.Weight-X811.309_2.773', 'Ejection.Fraction-X387.193_2.842', 'Ejection.Fraction-X764.524_3.729', 'Ejection.Fraction-X792.329_2.764', 'Ejection.Fraction-X811.309_2.773', 'PR.Interval..s.-X387.193_2.842', 'PR.Interval..s.-X764.524_3.729', 'PR.Interval..s.-X792.329_2.764', 'PR.Interval..s.-X811.309_2.773', 'QTc..s.-X387.193_2.842', 'QTc..s.-X764.524_3.729', 'QTc..s.-X792.329_2.764', 'QTc..s.-X811.309_2.773', 'P.Amplitude..V.-X387.193_2.842', 'P.Amplitude..V.-X764.524_3.729', 'P.Amplitude..V.-X792.329_2.764', 'P.Amplitude..V.-X811.309_2.773', 'CD3.CD8.IFNg.-X387.193_2.842', 'CD3.CD8.IFNg.-X764.524_3.729', 'CD3.CD8.IFNg.-X792.329_2.764', 'CD3.CD8.IFNg.-X811.309_2.773']\n",
      "[0.1775078216305081, -0.055902317893776705, 0.14074317750627327, 0.14886515722355514, -0.556042543346684, 0.4557116503534332, 0.5840138518152393, 0.5194169645136494, -0.24015726612821373, 0.40263525763058594, 0.3998111106528854, 0.46918798665183536, -0.29228022891461736, 0.44694063575131454, 0.18064541925972877, 0.15708087759899816, -0.25594225075635924, 0.1562635419132869, 0.1440943596769282, 0.2756395995550612, 0.008343491874876909, -0.3127552057855713, -0.47377503862476716, -0.19332591768631813, 0.17166262697234344, -0.26311243508137633, -0.3158050956127212, -0.2801825014236009]\n",
      "[0.348028828207538, 0.7692098746489561, 0.45818992043344153, 0.43238830642691817, 0.0014204245353319715, 0.011381253390376668, 0.000703298606347743, 0.0032664432504030502, 0.20114093936354535, 0.027388430807361423, 0.028595092343362234, 0.008907738976063565, 0.11704272058178769, 0.013282140613881195, 0.3394343598092988, 0.40711935849724146, 0.17220543354336243, 0.4095952401208729, 0.4474464310980846, 0.1403946578031363, 0.9650972921496954, 0.09242250514629534, 0.008176860060846926, 0.30602746122745766, 0.36438475726855013, 0.16008529045354597, 0.08912044448064725, 0.13370854870220325]\n"
     ]
    }
   ],
   "source": [
    "import seaborn as sns\n",
    "import numpy as np\n",
    "import pandas as pd\n",
    "import matplotlib.pyplot as plt\n",
    "from scipy.stats import kendalltau, pearsonr, spearmanr\n",
    "\n",
    "def spearsonr_pval(x,y):\n",
    "    return spearmanr(x,y)[1]\n",
    "\n",
    "data_full = pd.read_csv(\"LVB-142DPI-metadata-feature-table.csv\")\n",
    "data_a = data_full[data_full[\"Treatmentgroup\"].isin([\"Group1C\",\"Group3E\"])]\n",
    "\n",
    "data_restore = pd.read_csv(\"LVB-mass-restored-both.csv\")\n",
    "data_restore_list = data_restore.filename.to_list()\n",
    "data_restore_list.insert(0, \"MouseID\")\n",
    "\n",
    "# this is metadata info, which is extra baylor information.\n",
    "# careful for the range, [a,b] mean a <= X < b. Also python is 0 based index.\n",
    "data_M = data_a.iloc[:, np.r_[0, 2:9]]\n",
    "data_M = data_M.set_index('MouseID')\n",
    "# this is metabolites, which is features.\n",
    "data_F = data_a[data_restore_list]\n",
    "data_F = data_F.set_index('MouseID')\n",
    "\n",
    "# get the two part of column names: metadata colum name and features column name.\n",
    "M_column_list = data_M.head(0)\n",
    "print(M_column_list)\n",
    "F_column_list = data_F.head(0)\n",
    "print(F_column_list)\n",
    "\n",
    "df_col_list = []\n",
    "df_corr_list = []\n",
    "df_pval_list = []\n",
    "\n",
    "for m_col in M_column_list:\n",
    "    for f_col in F_column_list:\n",
    "        col_1 = data_M[m_col]\n",
    "        col_2 = data_F[f_col]\n",
    "        corr_col_1_2 = col_1.corr(col_2, method='spearman')\n",
    "        corr_pval_col_1_2 = col_1.corr(col_2, method=spearsonr_pval)\n",
    "        df_col_list.append(m_col + \"-\" + f_col)\n",
    "        df_corr_list.append(corr_col_1_2)\n",
    "        df_pval_list.append(corr_pval_col_1_2)\n",
    "\n",
    "print(df_col_list)\n",
    "print(df_corr_list)\n",
    "print(df_pval_list)\n",
    "\n",
    "import statsmodels.api\n",
    "\n",
    "df_final = pd.DataFrame(list(zip(df_col_list, df_corr_list, df_pval_list)), columns=['col_name','corr', 'corr_pval'])\n",
    "\n",
    "df_final['corr'].replace('', float(\"NaN\"), inplace=True)\n",
    "df_final.dropna(subset=['corr'], inplace=True)\n",
    "\n",
    "dr_fdr_pval = statsmodels.stats.multitest.fdrcorrection(list(df_final[\"corr_pval\"]), method='indep')\n",
    "df_final['FDR_rejected'] = dr_fdr_pval[0]\n",
    "df_final['FDR_pval'] = dr_fdr_pval[1]\n",
    "\n",
    "df_final.to_csv('LVB-142DPI-both-corr-pval.csv', index=False)"
   ]
  },
  {
   "cell_type": "code",
   "execution_count": null,
   "id": "d27fc6c8",
   "metadata": {},
   "outputs": [],
   "source": []
  }
 ],
 "metadata": {
  "kernelspec": {
   "display_name": "Python 3",
   "language": "python",
   "name": "python3"
  },
  "language_info": {
   "codemirror_mode": {
    "name": "ipython",
    "version": 3
   },
   "file_extension": ".py",
   "mimetype": "text/x-python",
   "name": "python",
   "nbconvert_exporter": "python",
   "pygments_lexer": "ipython3",
   "version": "3.8.13"
  }
 },
 "nbformat": 4,
 "nbformat_minor": 5
}
