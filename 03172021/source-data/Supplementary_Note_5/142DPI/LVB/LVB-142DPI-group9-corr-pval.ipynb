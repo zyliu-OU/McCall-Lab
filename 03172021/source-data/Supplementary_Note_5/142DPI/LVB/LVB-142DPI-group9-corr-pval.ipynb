{
 "cells": [
  {
   "cell_type": "code",
   "execution_count": 1,
   "id": "d4c1e65e",
   "metadata": {
    "scrolled": true
   },
   "outputs": [
    {
     "name": "stdout",
     "output_type": "stream",
     "text": [
      "Empty DataFrame\n",
      "Columns: [Heart.Weight..Body.Weight, Liver.Weight..Body.Weight, Ejection.Fraction, PR.Interval..s., QTc..s., P.Amplitude..V., CD3.CD8.IFNg.]\n",
      "Index: []\n",
      "Empty DataFrame\n",
      "Columns: [X105.07_2.767, X249.112_2.768, X258.207_2.775, X267.123_2.767, X352.306_2.997, X369.17_2.767, X396.332_2.991, X430.223_2.769, X440.359_2.985, X484.385_2.982, X489.228_2.768, X599.241_2.765, X604.362_2.948, X790.38_2.768, X795.335_2.768]\n",
      "Index: []\n",
      "['Heart.Weight..Body.Weight-X105.07_2.767', 'Heart.Weight..Body.Weight-X249.112_2.768', 'Heart.Weight..Body.Weight-X258.207_2.775', 'Heart.Weight..Body.Weight-X267.123_2.767', 'Heart.Weight..Body.Weight-X352.306_2.997', 'Heart.Weight..Body.Weight-X369.17_2.767', 'Heart.Weight..Body.Weight-X396.332_2.991', 'Heart.Weight..Body.Weight-X430.223_2.769', 'Heart.Weight..Body.Weight-X440.359_2.985', 'Heart.Weight..Body.Weight-X484.385_2.982', 'Heart.Weight..Body.Weight-X489.228_2.768', 'Heart.Weight..Body.Weight-X599.241_2.765', 'Heart.Weight..Body.Weight-X604.362_2.948', 'Heart.Weight..Body.Weight-X790.38_2.768', 'Heart.Weight..Body.Weight-X795.335_2.768', 'Liver.Weight..Body.Weight-X105.07_2.767', 'Liver.Weight..Body.Weight-X249.112_2.768', 'Liver.Weight..Body.Weight-X258.207_2.775', 'Liver.Weight..Body.Weight-X267.123_2.767', 'Liver.Weight..Body.Weight-X352.306_2.997', 'Liver.Weight..Body.Weight-X369.17_2.767', 'Liver.Weight..Body.Weight-X396.332_2.991', 'Liver.Weight..Body.Weight-X430.223_2.769', 'Liver.Weight..Body.Weight-X440.359_2.985', 'Liver.Weight..Body.Weight-X484.385_2.982', 'Liver.Weight..Body.Weight-X489.228_2.768', 'Liver.Weight..Body.Weight-X599.241_2.765', 'Liver.Weight..Body.Weight-X604.362_2.948', 'Liver.Weight..Body.Weight-X790.38_2.768', 'Liver.Weight..Body.Weight-X795.335_2.768', 'Ejection.Fraction-X105.07_2.767', 'Ejection.Fraction-X249.112_2.768', 'Ejection.Fraction-X258.207_2.775', 'Ejection.Fraction-X267.123_2.767', 'Ejection.Fraction-X352.306_2.997', 'Ejection.Fraction-X369.17_2.767', 'Ejection.Fraction-X396.332_2.991', 'Ejection.Fraction-X430.223_2.769', 'Ejection.Fraction-X440.359_2.985', 'Ejection.Fraction-X484.385_2.982', 'Ejection.Fraction-X489.228_2.768', 'Ejection.Fraction-X599.241_2.765', 'Ejection.Fraction-X604.362_2.948', 'Ejection.Fraction-X790.38_2.768', 'Ejection.Fraction-X795.335_2.768', 'PR.Interval..s.-X105.07_2.767', 'PR.Interval..s.-X249.112_2.768', 'PR.Interval..s.-X258.207_2.775', 'PR.Interval..s.-X267.123_2.767', 'PR.Interval..s.-X352.306_2.997', 'PR.Interval..s.-X369.17_2.767', 'PR.Interval..s.-X396.332_2.991', 'PR.Interval..s.-X430.223_2.769', 'PR.Interval..s.-X440.359_2.985', 'PR.Interval..s.-X484.385_2.982', 'PR.Interval..s.-X489.228_2.768', 'PR.Interval..s.-X599.241_2.765', 'PR.Interval..s.-X604.362_2.948', 'PR.Interval..s.-X790.38_2.768', 'PR.Interval..s.-X795.335_2.768', 'QTc..s.-X105.07_2.767', 'QTc..s.-X249.112_2.768', 'QTc..s.-X258.207_2.775', 'QTc..s.-X267.123_2.767', 'QTc..s.-X352.306_2.997', 'QTc..s.-X369.17_2.767', 'QTc..s.-X396.332_2.991', 'QTc..s.-X430.223_2.769', 'QTc..s.-X440.359_2.985', 'QTc..s.-X484.385_2.982', 'QTc..s.-X489.228_2.768', 'QTc..s.-X599.241_2.765', 'QTc..s.-X604.362_2.948', 'QTc..s.-X790.38_2.768', 'QTc..s.-X795.335_2.768', 'P.Amplitude..V.-X105.07_2.767', 'P.Amplitude..V.-X249.112_2.768', 'P.Amplitude..V.-X258.207_2.775', 'P.Amplitude..V.-X267.123_2.767', 'P.Amplitude..V.-X352.306_2.997', 'P.Amplitude..V.-X369.17_2.767', 'P.Amplitude..V.-X396.332_2.991', 'P.Amplitude..V.-X430.223_2.769', 'P.Amplitude..V.-X440.359_2.985', 'P.Amplitude..V.-X484.385_2.982', 'P.Amplitude..V.-X489.228_2.768', 'P.Amplitude..V.-X599.241_2.765', 'P.Amplitude..V.-X604.362_2.948', 'P.Amplitude..V.-X790.38_2.768', 'P.Amplitude..V.-X795.335_2.768', 'CD3.CD8.IFNg.-X105.07_2.767', 'CD3.CD8.IFNg.-X249.112_2.768', 'CD3.CD8.IFNg.-X258.207_2.775', 'CD3.CD8.IFNg.-X267.123_2.767', 'CD3.CD8.IFNg.-X352.306_2.997', 'CD3.CD8.IFNg.-X369.17_2.767', 'CD3.CD8.IFNg.-X396.332_2.991', 'CD3.CD8.IFNg.-X430.223_2.769', 'CD3.CD8.IFNg.-X440.359_2.985', 'CD3.CD8.IFNg.-X484.385_2.982', 'CD3.CD8.IFNg.-X489.228_2.768', 'CD3.CD8.IFNg.-X599.241_2.765', 'CD3.CD8.IFNg.-X604.362_2.948', 'CD3.CD8.IFNg.-X790.38_2.768', 'CD3.CD8.IFNg.-X795.335_2.768']\n",
      "[0.241210508864475, 0.088840245427597, 0.2532265305237754, 0.23564753587405815, 0.2506346322192675, 0.1546506491335887, 0.24156401139297862, 0.2229896184890807, 0.2237455642407421, 0.20672929308718105, 0.09612817327440333, 0.19005229893999495, 0.20093458441385695, 0.15754339508860543, 0.1978193195392235, 0.46266832443182393, 0.6250960726418298, -0.454211664341199, 0.4515411401020542, 0.48361386765469866, 0.503393819078781, 0.5440870647270597, 0.5362594924315398, 0.49897205106809944, 0.4965274987671768, 0.5278736246042743, 0.48909415856409144, -0.49226663474901133, 0.5116279354828106, 0.461555605998847, 0.31523915461624025, 0.4370281975162582, -0.31345939933259176, 0.3125695216907675, 0.33221987238573714, 0.3699666295884316, 0.4002621102136895, 0.34966614108204414, 0.39485011548403964, 0.369914821930268, 0.4602892102335928, 0.4044943845254656, -0.2449388209121246, 0.4295884315906563, 0.3543937708565072, 0.02202692192960456, 0.27715970905509646, -0.21448437111251306, 0.022916898573224945, 0.003689009988146231, 0.03938146648020209, 0.10419248901122934, 0.08575569515572629, -0.005863646567731521, -0.004483618107634054, 0.10612971475173105, 0.1105919003115265, -0.15307598270270645, 0.06096340008799647, 0.02669929930861159, 0.20266963292547271, 0.32159526148164536, -0.33036707452725245, 0.1897664071190211, 0.21025017830481516, 0.21601779755283645, 0.19866530653423126, 0.27327411153354664, 0.2212152845744391, 0.2255353886349241, 0.16618464961067853, 0.1828902002639894, -0.18887652947719688, 0.14527252502780869, 0.16974416017797553, -0.39488320355951056, -0.420409447970419, 0.12747497219132367, -0.39265850945494996, -0.35926960292787713, -0.38509454949944383, -0.33351417521467425, -0.46102478473874614, -0.35831915105890294, -0.3443955271917597, -0.37130144605116794, -0.4165090692143408, 0.2422691879866518, -0.4006674082313682, -0.43893214682981085, -0.28752644308124886, -0.3742713592169949, 0.2149772012511505, -0.27995995773700555, -0.2826410650738804, -0.2848559188421042, -0.27520158331965705, -0.3556868631769644, -0.27136680715864536, -0.2757463969531473, -0.29442529736570616, -0.2786556935254801, 0.15177479425805862, -0.27461890925871607, -0.2801825014236009]\n",
      "[0.19911204302582935, 0.6406095387447522, 0.17696106810251014, 0.20998920760310044, 0.18158541369150688, 0.4145057806267789, 0.19843425915097684, 0.23623394907388662, 0.23460774432037287, 0.2730423802900572, 0.6133368463120026, 0.31444738458834054, 0.28700903870282524, 0.40572204260717926, 0.29470258286872286, 0.010040850328004126, 0.0002215113161009617, 0.011689117000113951, 0.012254501928230705, 0.006778663451394138, 0.004572315139828787, 0.00188345940031315, 0.002253083499706303, 0.005003038880768303, 0.005255700717535983, 0.0027171537030971533, 0.006091934974529623, 0.0057221442676887455, 0.0038543287498335487, 0.010245859991018999, 0.08972629031806367, 0.01574244927137542, 0.09165196861373617, 0.09262649946157406, 0.07286742647554872, 0.0441853870777665, 0.028399544671513146, 0.05821104184846394, 0.03081930935213496, 0.044217384695410346, 0.010483454586281214, 0.02661698954408082, 0.1920438013514832, 0.017828242790330857, 0.05466820926126201, 0.9080220708261295, 0.13813090464018463, 0.2550501042740388, 0.9043223519678941, 0.9845642942321848, 0.836310079462387, 0.5837389451753361, 0.6522948197780514, 0.9754672996792504, 0.9812399904950995, 0.5767237948463275, 0.560709893274645, 0.4193315206033079, 0.7489533718730652, 0.8886213478897574, 0.28278021176225804, 0.08309956721336857, 0.07457781828324109, 0.315189482908271, 0.2647746097511541, 0.2515870200745645, 0.2926005130134062, 0.1439707992831955, 0.24008047126569337, 0.2307873720211181, 0.38011770642295883, 0.3333651921923185, 0.3175063206648826, 0.4437018103788164, 0.36985030900798976, 0.03080402303520747, 0.02071178164828871, 0.5020370696480301, 0.0318455929422447, 0.051194598918069684, 0.035602229675140144, 0.07169071511672329, 0.010344892790679891, 0.05185763545889764, 0.0623706285448641, 0.04336732078057541, 0.022048210181047023, 0.19708696405477033, 0.02822474251231027, 0.015242568393486361, 0.1233969974567588, 0.04159051683395505, 0.25393370003486715, 0.13403055564538868, 0.1301887204353581, 0.12707641981572723, 0.1410519295019508, 0.05372940248132504, 0.14690196762012306, 0.1402347395386051, 0.11425632998895138, 0.13592914901464287, 0.42334260643799915, 0.1419297304737391, 0.13370854870220325]\n"
     ]
    }
   ],
   "source": [
    "import seaborn as sns\n",
    "import numpy as np\n",
    "import pandas as pd\n",
    "import matplotlib.pyplot as plt\n",
    "from scipy.stats import kendalltau, pearsonr, spearmanr\n",
    "\n",
    "def spearsonr_pval(x,y):\n",
    "    return spearmanr(x,y)[1]\n",
    "\n",
    "data_full = pd.read_csv(\"LVB-142DPI-metadata-feature-table.csv\")\n",
    "data_a = data_full[data_full[\"Treatmentgroup\"].isin([\"Group1C\",\"Group3E\"])]\n",
    "\n",
    "data_restore = pd.read_csv(\"LVB-mass-restored-9.csv\")\n",
    "data_restore_list = data_restore.filename.to_list()\n",
    "data_restore_list.insert(0, \"MouseID\")\n",
    "\n",
    "# this is metadata info, which is extra baylor information.\n",
    "# careful for the range, [a,b] mean a <= X < b. Also python is 0 based index.\n",
    "data_M = data_a.iloc[:, np.r_[0, 2:9]]\n",
    "data_M = data_M.set_index('MouseID')\n",
    "# this is metabolites, which is features.\n",
    "data_F = data_a[data_restore_list]\n",
    "data_F = data_F.set_index('MouseID')\n",
    "\n",
    "# get the two part of column names: metadata colum name and features column name.\n",
    "M_column_list = data_M.head(0)\n",
    "print(M_column_list)\n",
    "F_column_list = data_F.head(0)\n",
    "print(F_column_list)\n",
    "\n",
    "df_col_list = []\n",
    "df_corr_list = []\n",
    "df_pval_list = []\n",
    "\n",
    "for m_col in M_column_list:\n",
    "    for f_col in F_column_list:\n",
    "        col_1 = data_M[m_col]\n",
    "        col_2 = data_F[f_col]\n",
    "        corr_col_1_2 = col_1.corr(col_2, method='spearman')\n",
    "        corr_pval_col_1_2 = col_1.corr(col_2, method=spearsonr_pval)\n",
    "        df_col_list.append(m_col + \"-\" + f_col)\n",
    "        df_corr_list.append(corr_col_1_2)\n",
    "        df_pval_list.append(corr_pval_col_1_2)\n",
    "\n",
    "print(df_col_list)\n",
    "print(df_corr_list)\n",
    "print(df_pval_list)\n",
    "\n",
    "import statsmodels.api\n",
    "\n",
    "df_final = pd.DataFrame(list(zip(df_col_list, df_corr_list, df_pval_list)), columns=['col_name','corr', 'corr_pval'])\n",
    "\n",
    "df_final['corr'].replace('', float(\"NaN\"), inplace=True)\n",
    "df_final.dropna(subset=['corr'], inplace=True)\n",
    "\n",
    "dr_fdr_pval = statsmodels.stats.multitest.fdrcorrection(list(df_final[\"corr_pval\"]), method='indep')\n",
    "df_final['FDR_rejected'] = dr_fdr_pval[0]\n",
    "df_final['FDR_pval'] = dr_fdr_pval[1]\n",
    "\n",
    "df_final.to_csv('LVB-142DPI-group9-corr-pval.csv', index=False)"
   ]
  },
  {
   "cell_type": "code",
   "execution_count": null,
   "id": "d27fc6c8",
   "metadata": {},
   "outputs": [],
   "source": []
  }
 ],
 "metadata": {
  "kernelspec": {
   "display_name": "Python 3",
   "language": "python",
   "name": "python3"
  },
  "language_info": {
   "codemirror_mode": {
    "name": "ipython",
    "version": 3
   },
   "file_extension": ".py",
   "mimetype": "text/x-python",
   "name": "python",
   "nbconvert_exporter": "python",
   "pygments_lexer": "ipython3",
   "version": "3.8.13"
  }
 },
 "nbformat": 4,
 "nbformat_minor": 5
}
