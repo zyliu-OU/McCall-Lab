{
 "cells": [
  {
   "cell_type": "code",
   "execution_count": 1,
   "metadata": {},
   "outputs": [
    {
     "name": "stdout",
     "output_type": "stream",
     "text": [
      "Saved FeatureTable[Frequency] to: features_BNZ_treatment_postWaveICA.qza\n"
     ]
    }
   ],
   "source": [
    "%%bash -e\n",
    "qiime sample-classifier metatable \\\n",
    "--m-metadata-file \"features_BNZ_treatment_postWaveICA.txt\" \\\n",
    " --o-converted-table \"features_BNZ_treatment_postWaveICA\""
   ]
  },
  {
   "cell_type": "code",
   "execution_count": 2,
   "metadata": {},
   "outputs": [
    {
     "name": "stdout",
     "output_type": "stream",
     "text": [
      "Saved DistanceMatrix to: features_BNZ_treatment_postWaveICA/distance_matrix.qza\n"
     ]
    }
   ],
   "source": [
    "%%bash -e\n",
    "qiime diversity beta \\\n",
    "--i-table \"features_BNZ_treatment_postWaveICA.qza\" \\\n",
    "--p-metric \"braycurtis\" \\\n",
    "--output-dir features_BNZ_treatment_postWaveICA"
   ]
  },
  {
   "cell_type": "code",
   "execution_count": 3,
   "metadata": {},
   "outputs": [
    {
     "name": "stdout",
     "output_type": "stream",
     "text": [
      "Saved PCoAResults to: features_BNZ_treatment_postWaveICA_PCoA/pcoa.qza\n"
     ]
    }
   ],
   "source": [
    "%%bash -e\n",
    "qiime diversity pcoa \\\n",
    "--i-distance-matrix \"features_BNZ_treatment_postWaveICA/distance_matrix.qza\" \\\n",
    "--output-dir \"features_BNZ_treatment_postWaveICA_PCoA\""
   ]
  },
  {
   "cell_type": "code",
   "execution_count": 4,
   "metadata": {},
   "outputs": [
    {
     "name": "stdout",
     "output_type": "stream",
     "text": [
      "Saved Visualization to: features_BNZ_treatment_postWaveICA_emperor/visualization.qzv\n"
     ]
    }
   ],
   "source": [
    " %%bash -e\n",
    "qiime emperor plot \\\n",
    "--i-pcoa \"features_BNZ_treatment_postWaveICA_PCoA/pcoa.qza\" \\\n",
    "--m-metadata-file \"waveICA_metadata.txt\" \\\n",
    "--output-dir \"features_BNZ_treatment_postWaveICA_emperor\"\n",
    "\n",
    "#may need to invert axis 3 in browser visualization to produce figure"
   ]
  },
  {
   "cell_type": "code",
   "execution_count": null,
   "metadata": {},
   "outputs": [],
   "source": []
  },
  {
   "cell_type": "code",
   "execution_count": null,
   "metadata": {},
   "outputs": [],
   "source": []
  }
 ],
 "metadata": {
  "kernelspec": {
   "display_name": "Python 3",
   "language": "python",
   "name": "python3"
  },
  "language_info": {
   "codemirror_mode": {
    "name": "ipython",
    "version": 3
   },
   "file_extension": ".py",
   "mimetype": "text/x-python",
   "name": "python",
   "nbconvert_exporter": "python",
   "pygments_lexer": "ipython3",
   "version": "3.8.13"
  }
 },
 "nbformat": 4,
 "nbformat_minor": 2
}
