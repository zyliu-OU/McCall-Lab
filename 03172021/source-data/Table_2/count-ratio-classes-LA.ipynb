{
 "cells": [
  {
   "cell_type": "code",
   "execution_count": 3,
   "metadata": {},
   "outputs": [],
   "source": [
    "# classes for all\n",
    "\n",
    "#'No matches'\n",
    "\n",
    "#'Benzenoids'\n",
    "#'Organic acids and derivatives' \n",
    "#'Lipids and lipid-like molecules' \n",
    "#'Organoheterocyclic compounds'\n",
    "#'Nucleosides, nucleotides, and analogues'\n",
    "#'Phenylpropanoids and polyketides' \n",
    "#'Organic nitrogen compounds'\n",
    "#'Organic oxygen compounds'\n"
   ]
  },
  {
   "cell_type": "code",
   "execution_count": 4,
   "metadata": {},
   "outputs": [
    {
     "name": "stdout",
     "output_type": "stream",
     "text": [
      "Benzenoids 0\n",
      "Organic acids and derivatives 1\n",
      "Lipids and lipid-like molecules 1\n",
      "Organoheterocyclic compounds 1\n",
      "Nucleosides, nucleotides, and analogues 0\n",
      "Phenylpropanoids and polyketides 0\n",
      "Organic nitrogen compounds 0\n",
      "Organic oxygen compounds 0\n"
     ]
    }
   ],
   "source": [
    "import pandas\n",
    "\n",
    "data_a = pandas.read_csv('LA-annotation-RF-cutoff-2dot1-final-fix-split-mass.csv')\n",
    "\n",
    "Benzenoids_data = data_a[data_a[\"classes\"].isin([\"Benzenoids\"])]\n",
    "Organic_acids_data = data_a[data_a[\"classes\"].isin([\"Organic acids and derivatives\"])]\n",
    "Lipids_data = data_a[data_a[\"classes\"].isin([\"Lipids and lipid-like molecules\"])]\n",
    "Organoheterocyclic_data = data_a[data_a[\"classes\"].isin([\"Organoheterocyclic compounds\"])]\n",
    "Nucleosides_data = data_a[data_a[\"classes\"].isin([\"Nucleosides, nucleotides, and analogues\"])]\n",
    "Phenylpropanoids_data = data_a[data_a[\"classes\"].isin([\"Phenylpropanoids and polyketides\"])]\n",
    "Organic_nitrogen_data = data_a[data_a[\"classes\"].isin([\"Organic nitrogen compounds\"])]\n",
    "Organic_oxygen_data = data_a[data_a[\"classes\"].isin([\"Organic oxygen compounds\"])]\n",
    "\n",
    "Benzenoids_data_any = Benzenoids_data[Benzenoids_data[\"restored\"].isin([\"group9\",\"group15\",\"group9_group15\"])]\n",
    "Benzenoids_data_not = Benzenoids_data[Benzenoids_data[\"restored\"].isin([\"not_restored\"])]\n",
    "\n",
    "Organic_acids_data_any = Organic_acids_data[Organic_acids_data[\"restored\"].isin([\"group9\",\"group15\",\"group9_group15\"])]\n",
    "Organic_acids_data_not = Organic_acids_data[Organic_acids_data[\"restored\"].isin([\"not_restored\"])]\n",
    "\n",
    "Lipids_data_any = Lipids_data[Lipids_data[\"restored\"].isin([\"group9\",\"group15\",\"group9_group15\"])]\n",
    "Lipids_data_not = Lipids_data[Lipids_data[\"restored\"].isin([\"not_restored\"])]\n",
    "\n",
    "Organoheterocyclic_data_any = Organoheterocyclic_data[Organoheterocyclic_data[\"restored\"].isin([\"group9\",\"group15\",\"group9_group15\"])]\n",
    "Organoheterocyclic_data_not = Organoheterocyclic_data[Organoheterocyclic_data[\"restored\"].isin([\"not_restored\"])]\n",
    "\n",
    "Nucleosides_data_any = Nucleosides_data[Nucleosides_data[\"restored\"].isin([\"group9\",\"group15\",\"group9_group15\"])]\n",
    "Nucleosides_data_not = Nucleosides_data[Nucleosides_data[\"restored\"].isin([\"not_restored\"])]\n",
    "\n",
    "Phenylpropanoids_data_any = Phenylpropanoids_data[Phenylpropanoids_data[\"restored\"].isin([\"group9\",\"group15\",\"group9_group15\"])]\n",
    "Phenylpropanoids_data_not = Phenylpropanoids_data[Phenylpropanoids_data[\"restored\"].isin([\"not_restored\"])]\n",
    "\n",
    "Organic_nitrogen_data_any = Organic_nitrogen_data[Organic_nitrogen_data[\"restored\"].isin([\"group9\",\"group15\",\"group9_group15\"])]\n",
    "Organic_nitrogen_data_not = Organic_nitrogen_data[Organic_nitrogen_data[\"restored\"].isin([\"not_restored\"])]\n",
    "\n",
    "Organic_oxygen_data_any = Organic_oxygen_data[Organic_oxygen_data[\"restored\"].isin([\"group9\",\"group15\",\"group9_group15\"])]\n",
    "Organic_oxygen_data_not = Organic_oxygen_data[Organic_oxygen_data[\"restored\"].isin([\"not_restored\"])]\n",
    "\n",
    "print(\"Benzenoids\", len(Benzenoids_data.index))\n",
    "print(\"Organic acids and derivatives\", len(Organic_acids_data.index))\n",
    "print(\"Lipids and lipid-like molecules\", len(Lipids_data.index))\n",
    "print(\"Organoheterocyclic compounds\", len(Organoheterocyclic_data.index))\n",
    "print(\"Nucleosides, nucleotides, and analogues\", len(Nucleosides_data.index))\n",
    "print(\"Phenylpropanoids and polyketides\", len(Phenylpropanoids_data.index))\n",
    "print(\"Organic nitrogen compounds\", len(Organic_nitrogen_data.index))\n",
    "print(\"Organic oxygen compounds\", len(Organic_oxygen_data.index))\n"
   ]
  },
  {
   "cell_type": "code",
   "execution_count": 5,
   "metadata": {},
   "outputs": [
    {
     "name": "stdout",
     "output_type": "stream",
     "text": [
      "Organic acids and derivatives restored 1.0\n",
      "Organic acids and derivatives not restored 0.0\n",
      "Lipids and lipid-like molecules restored 1.0\n",
      "Lipids and lipid-like molecules not restored 0.0\n",
      "Organoheterocyclic compounds restored 0.0\n",
      "Organoheterocyclic compounds not restored 1.0\n"
     ]
    }
   ],
   "source": [
    "#Benzenoids_ratio_any = len(Benzenoids_data_any.index)/len(Benzenoids_data.index)\n",
    "#Benzenoids_ratio_not = len(Benzenoids_data_not.index)/len(Benzenoids_data.index)\n",
    "#print(\"Benzenoids restored\", round(Benzenoids_ratio_any,2))\n",
    "#print(\"Benzenoids not restored\", round(Benzenoids_ratio_not,2))\n",
    "\n",
    "Organic_acids_ratio_any = len(Organic_acids_data_any.index)/len(Organic_acids_data.index)\n",
    "Organic_acids_ratio_not = len(Organic_acids_data_not.index)/len(Organic_acids_data.index)\n",
    "print(\"Organic acids and derivatives restored\", round(Organic_acids_ratio_any,2))\n",
    "print(\"Organic acids and derivatives not restored\", round(Organic_acids_ratio_not,2))\n",
    "\n",
    "Lipids_ratio_any = len(Lipids_data_any.index)/len(Lipids_data.index)\n",
    "Lipids_ratio_not = len(Lipids_data_not.index)/len(Lipids_data.index)\n",
    "print(\"Lipids and lipid-like molecules restored\", round(Lipids_ratio_any,2))\n",
    "print(\"Lipids and lipid-like molecules not restored\", round(Lipids_ratio_not,2))\n",
    "\n",
    "Organoheterocyclic_ratio_any = len(Organoheterocyclic_data_any.index)/len(Organoheterocyclic_data.index)\n",
    "Organoheterocyclic_ratio_not = len(Organoheterocyclic_data_not.index)/len(Organoheterocyclic_data.index)\n",
    "print(\"Organoheterocyclic compounds restored\", round(Organoheterocyclic_ratio_any,2))\n",
    "print(\"Organoheterocyclic compounds not restored\", round(Organoheterocyclic_ratio_not,2))\n",
    "\n",
    "#Nucleosides_ratio_any = len(Nucleosides_data_any.index)/len(Nucleosides_data.index)\n",
    "#Nucleosides_ratio_not = len(Nucleosides_data_not.index)/len(Nucleosides_data.index)\n",
    "#print(\"Nucleosides, nucleotides, and analogues restored\", round(Nucleosides_ratio_any,2))\n",
    "#print(\"Nucleosides, nucleotides, and analogues not restored\", round(Nucleosides_ratio_not,2))\n",
    "\n",
    "#Phenylpropanoids_ratio_any = len(Phenylpropanoids_data_any.index)/len(Phenylpropanoids_data.index)\n",
    "#Phenylpropanoids_ratio_not = len(Phenylpropanoids_data_not.index)/len(Phenylpropanoids_data.index)\n",
    "#print(\"Phenylpropanoids and polyketides restored\", round(Phenylpropanoids_ratio_any,2))\n",
    "#print(\"Phenylpropanoids and polyketides not restored\", round(Phenylpropanoids_ratio_not,2))\n",
    "\n",
    "#Organic_nitrogen_ratio_any = len(Organic_nitrogen_data_any.index)/len(Organic_nitrogen_data.index)\n",
    "#Organic_nitrogen_ratio_not = len(Organic_nitrogen_data_not.index)/len(Organic_nitrogen_data.index)\n",
    "#print(\"Organic nitrogen compounds restored\", round(Organic_nitrogen_ratio_any,2))\n",
    "#print(\"Organic nitrogen compounds not restored\", round(Organic_nitrogen_ratio_not,2))\n",
    "\n",
    "#Organic_oxygen_ratio_any = len(Organic_oxygen_data_any.index)/len(Organic_oxygen_data.index)\n",
    "#Organic_oxygen_ratio_not = len(Organic_oxygen_data_not.index)/len(Organic_oxygen_data.index)\n",
    "#print(\"Organic oxygen compounds restored\", round(Organic_oxygen_ratio_any,2))\n",
    "#print(\"Organic oxygen compounds not restored\", round(Organic_oxygen_ratio_not,2))"
   ]
  },
  {
   "cell_type": "code",
   "execution_count": null,
   "metadata": {},
   "outputs": [],
   "source": []
  },
  {
   "cell_type": "code",
   "execution_count": null,
   "metadata": {},
   "outputs": [],
   "source": []
  },
  {
   "cell_type": "code",
   "execution_count": null,
   "metadata": {},
   "outputs": [],
   "source": []
  }
 ],
 "metadata": {
  "kernelspec": {
   "display_name": "Python 3",
   "language": "python",
   "name": "python3"
  },
  "language_info": {
   "codemirror_mode": {
    "name": "ipython",
    "version": 3
   },
   "file_extension": ".py",
   "mimetype": "text/x-python",
   "name": "python",
   "nbconvert_exporter": "python",
   "pygments_lexer": "ipython3",
   "version": "3.8.13"
  }
 },
 "nbformat": 4,
 "nbformat_minor": 4
}
