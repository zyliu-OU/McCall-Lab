{
 "cells": [
  {
   "cell_type": "code",
   "execution_count": 1,
   "metadata": {},
   "outputs": [],
   "source": [
    "# after I have filtered feature table, I do wilcox p value for filtered mass list. So that the p value will be more accurate"
   ]
  },
  {
   "cell_type": "code",
   "execution_count": 11,
   "metadata": {},
   "outputs": [],
   "source": [
    "a <- read.csv(\"RVT-M-F-final-fix.csv\")"
   ]
  },
  {
   "cell_type": "code",
   "execution_count": 12,
   "metadata": {},
   "outputs": [
    {
     "data": {
      "text/html": [
       "<table>\n",
       "<thead><tr><th scope=col>filename</th><th scope=col>MouseID</th><th scope=col>Treatmentgroup</th><th scope=col>DPI</th><th scope=col>organ</th><th scope=col>well_position</th><th scope=col>plate</th><th scope=col>X268.105_0.35</th><th scope=col>X269.088_0.35</th><th scope=col>X111.044_2.768</th><th scope=col>...</th><th scope=col>X705.141_2.339</th><th scope=col>X776.148_2.398</th><th scope=col>X776.253_2.398</th><th scope=col>X776.411_2.398</th><th scope=col>X792.329_2.764</th><th scope=col>X811.309_2.773</th><th scope=col>X811.31_2.767</th><th scope=col>X819.211_2.398</th><th scope=col>X819.322_2.398</th><th scope=col>X819.378_2.399</th></tr></thead>\n",
       "<tbody>\n",
       "\t<tr><td>X511_Group1C_142dpi_RV_top_161_G_A1_P136.mzXML</td><td>511                                           </td><td>Group1C                                       </td><td>142dpi                                        </td><td>RV_top                                        </td><td>A1                                            </td><td>P136                                          </td><td>0.000163206                                   </td><td>0.001639729                                   </td><td>0.000000000                                   </td><td>...                                           </td><td>0.000179645                                   </td><td>0.000000000                                   </td><td>0.000103564                                   </td><td>0.000000000                                   </td><td>0.000000000                                   </td><td>0.000000000                                   </td><td>0                                             </td><td>0.000069800                                   </td><td>0.000098700                                   </td><td>0.000000000                                   </td></tr>\n",
       "\t<tr><td>X512_Group1C_142dpi_RV_top_162_G_A2_P136.mzXML</td><td>512                                           </td><td>Group1C                                       </td><td>142dpi                                        </td><td>RV_top                                        </td><td>A2                                            </td><td>P136                                          </td><td>0.000425000                                   </td><td>0.003176171                                   </td><td>0.000000000                                   </td><td>...                                           </td><td>0.000096500                                   </td><td>0.000116217                                   </td><td>0.000179520                                   </td><td>0.000077700                                   </td><td>0.000000000                                   </td><td>0.000119473                                   </td><td>0                                             </td><td>0.000152956                                   </td><td>0.000187883                                   </td><td>0.000092000                                   </td></tr>\n",
       "\t<tr><td>X513_Group1C_142dpi_RV_top_163_G_A3_P136.mzXML</td><td>513                                           </td><td>Group1C                                       </td><td>142dpi                                        </td><td>RV_top                                        </td><td>A3                                            </td><td>P136                                          </td><td>0.000842890                                   </td><td>0.001560739                                   </td><td>0.000000000                                   </td><td>...                                           </td><td>0.000161273                                   </td><td>0.000144501                                   </td><td>0.000153052                                   </td><td>0.000081000                                   </td><td>0.000065500                                   </td><td>0.000150147                                   </td><td>0                                             </td><td>0.000158430                                   </td><td>0.000183752                                   </td><td>0.000165912                                   </td></tr>\n",
       "\t<tr><td>X514_Group1C_142dpi_RV_top_164_G_A4_P136.mzXML</td><td>514                                           </td><td>Group1C                                       </td><td>142dpi                                        </td><td>RV_top                                        </td><td>A4                                            </td><td>P136                                          </td><td>0.000302458                                   </td><td>0.001666797                                   </td><td>0.000000000                                   </td><td>...                                           </td><td>0.000084300                                   </td><td>0.000095400                                   </td><td>0.000175538                                   </td><td>0.000173409                                   </td><td>0.000000000                                   </td><td>0.000152011                                   </td><td>0                                             </td><td>0.000165734                                   </td><td>0.000212944                                   </td><td>0.000182069                                   </td></tr>\n",
       "\t<tr><td>X515_Group1C_142dpi_RV_top_165_G_A5_P136.mzXML</td><td>515                                           </td><td>Group1C                                       </td><td>142dpi                                        </td><td>RV_top                                        </td><td>A5                                            </td><td>P136                                          </td><td>0.000000000                                   </td><td>0.002342964                                   </td><td>0.000043200                                   </td><td>...                                           </td><td>0.000194172                                   </td><td>0.000258485                                   </td><td>0.000309987                                   </td><td>0.000176238                                   </td><td>0.000069000                                   </td><td>0.000174876                                   </td><td>0                                             </td><td>0.000182384                                   </td><td>0.000226010                                   </td><td>0.000238047                                   </td></tr>\n",
       "\t<tr><td>X531_Group1C_142dpi_RV_top_166_G_A6_P136.mzXML</td><td>531                                           </td><td>Group1C                                       </td><td>142dpi                                        </td><td>RV_top                                        </td><td>A6                                            </td><td>P136                                          </td><td>0.000070600                                   </td><td>0.001799604                                   </td><td>0.000115117                                   </td><td>...                                           </td><td>0.000000000                                   </td><td>0.000061600                                   </td><td>0.000166923                                   </td><td>0.000000000                                   </td><td>0.000203732                                   </td><td>0.000394644                                   </td><td>0                                             </td><td>0.000067200                                   </td><td>0.000132213                                   </td><td>0.000085100                                   </td></tr>\n",
       "</tbody>\n",
       "</table>\n"
      ],
      "text/latex": [
       "\\begin{tabular}{r|llllllllllllllllllllllllllllllllllllllllllllllllllllllllllllllllllllll}\n",
       " filename & MouseID & Treatmentgroup & DPI & organ & well\\_position & plate & X268.105\\_0.35 & X269.088\\_0.35 & X111.044\\_2.768 & ... & X705.141\\_2.339 & X776.148\\_2.398 & X776.253\\_2.398 & X776.411\\_2.398 & X792.329\\_2.764 & X811.309\\_2.773 & X811.31\\_2.767 & X819.211\\_2.398 & X819.322\\_2.398 & X819.378\\_2.399\\\\\n",
       "\\hline\n",
       "\t X511\\_Group1C\\_142dpi\\_RV\\_top\\_161\\_G\\_A1\\_P136.mzXML & 511                                                            & Group1C                                                        & 142dpi                                                         & RV\\_top                                                       & A1                                                             & P136                                                           & 0.000163206                                                    & 0.001639729                                                    & 0.000000000                                                    & ...                                                            & 0.000179645                                                    & 0.000000000                                                    & 0.000103564                                                    & 0.000000000                                                    & 0.000000000                                                    & 0.000000000                                                    & 0                                                              & 0.000069800                                                    & 0.000098700                                                    & 0.000000000                                                   \\\\\n",
       "\t X512\\_Group1C\\_142dpi\\_RV\\_top\\_162\\_G\\_A2\\_P136.mzXML & 512                                                            & Group1C                                                        & 142dpi                                                         & RV\\_top                                                       & A2                                                             & P136                                                           & 0.000425000                                                    & 0.003176171                                                    & 0.000000000                                                    & ...                                                            & 0.000096500                                                    & 0.000116217                                                    & 0.000179520                                                    & 0.000077700                                                    & 0.000000000                                                    & 0.000119473                                                    & 0                                                              & 0.000152956                                                    & 0.000187883                                                    & 0.000092000                                                   \\\\\n",
       "\t X513\\_Group1C\\_142dpi\\_RV\\_top\\_163\\_G\\_A3\\_P136.mzXML & 513                                                            & Group1C                                                        & 142dpi                                                         & RV\\_top                                                       & A3                                                             & P136                                                           & 0.000842890                                                    & 0.001560739                                                    & 0.000000000                                                    & ...                                                            & 0.000161273                                                    & 0.000144501                                                    & 0.000153052                                                    & 0.000081000                                                    & 0.000065500                                                    & 0.000150147                                                    & 0                                                              & 0.000158430                                                    & 0.000183752                                                    & 0.000165912                                                   \\\\\n",
       "\t X514\\_Group1C\\_142dpi\\_RV\\_top\\_164\\_G\\_A4\\_P136.mzXML & 514                                                            & Group1C                                                        & 142dpi                                                         & RV\\_top                                                       & A4                                                             & P136                                                           & 0.000302458                                                    & 0.001666797                                                    & 0.000000000                                                    & ...                                                            & 0.000084300                                                    & 0.000095400                                                    & 0.000175538                                                    & 0.000173409                                                    & 0.000000000                                                    & 0.000152011                                                    & 0                                                              & 0.000165734                                                    & 0.000212944                                                    & 0.000182069                                                   \\\\\n",
       "\t X515\\_Group1C\\_142dpi\\_RV\\_top\\_165\\_G\\_A5\\_P136.mzXML & 515                                                            & Group1C                                                        & 142dpi                                                         & RV\\_top                                                       & A5                                                             & P136                                                           & 0.000000000                                                    & 0.002342964                                                    & 0.000043200                                                    & ...                                                            & 0.000194172                                                    & 0.000258485                                                    & 0.000309987                                                    & 0.000176238                                                    & 0.000069000                                                    & 0.000174876                                                    & 0                                                              & 0.000182384                                                    & 0.000226010                                                    & 0.000238047                                                   \\\\\n",
       "\t X531\\_Group1C\\_142dpi\\_RV\\_top\\_166\\_G\\_A6\\_P136.mzXML & 531                                                            & Group1C                                                        & 142dpi                                                         & RV\\_top                                                       & A6                                                             & P136                                                           & 0.000070600                                                    & 0.001799604                                                    & 0.000115117                                                    & ...                                                            & 0.000000000                                                    & 0.000061600                                                    & 0.000166923                                                    & 0.000000000                                                    & 0.000203732                                                    & 0.000394644                                                    & 0                                                              & 0.000067200                                                    & 0.000132213                                                    & 0.000085100                                                   \\\\\n",
       "\\end{tabular}\n"
      ],
      "text/markdown": [
       "\n",
       "| filename | MouseID | Treatmentgroup | DPI | organ | well_position | plate | X268.105_0.35 | X269.088_0.35 | X111.044_2.768 | ... | X705.141_2.339 | X776.148_2.398 | X776.253_2.398 | X776.411_2.398 | X792.329_2.764 | X811.309_2.773 | X811.31_2.767 | X819.211_2.398 | X819.322_2.398 | X819.378_2.399 |\n",
       "|---|---|---|---|---|---|---|---|---|---|---|---|---|---|---|---|---|---|---|---|---|\n",
       "| X511_Group1C_142dpi_RV_top_161_G_A1_P136.mzXML | 511                                            | Group1C                                        | 142dpi                                         | RV_top                                         | A1                                             | P136                                           | 0.000163206                                    | 0.001639729                                    | 0.000000000                                    | ...                                            | 0.000179645                                    | 0.000000000                                    | 0.000103564                                    | 0.000000000                                    | 0.000000000                                    | 0.000000000                                    | 0                                              | 0.000069800                                    | 0.000098700                                    | 0.000000000                                    |\n",
       "| X512_Group1C_142dpi_RV_top_162_G_A2_P136.mzXML | 512                                            | Group1C                                        | 142dpi                                         | RV_top                                         | A2                                             | P136                                           | 0.000425000                                    | 0.003176171                                    | 0.000000000                                    | ...                                            | 0.000096500                                    | 0.000116217                                    | 0.000179520                                    | 0.000077700                                    | 0.000000000                                    | 0.000119473                                    | 0                                              | 0.000152956                                    | 0.000187883                                    | 0.000092000                                    |\n",
       "| X513_Group1C_142dpi_RV_top_163_G_A3_P136.mzXML | 513                                            | Group1C                                        | 142dpi                                         | RV_top                                         | A3                                             | P136                                           | 0.000842890                                    | 0.001560739                                    | 0.000000000                                    | ...                                            | 0.000161273                                    | 0.000144501                                    | 0.000153052                                    | 0.000081000                                    | 0.000065500                                    | 0.000150147                                    | 0                                              | 0.000158430                                    | 0.000183752                                    | 0.000165912                                    |\n",
       "| X514_Group1C_142dpi_RV_top_164_G_A4_P136.mzXML | 514                                            | Group1C                                        | 142dpi                                         | RV_top                                         | A4                                             | P136                                           | 0.000302458                                    | 0.001666797                                    | 0.000000000                                    | ...                                            | 0.000084300                                    | 0.000095400                                    | 0.000175538                                    | 0.000173409                                    | 0.000000000                                    | 0.000152011                                    | 0                                              | 0.000165734                                    | 0.000212944                                    | 0.000182069                                    |\n",
       "| X515_Group1C_142dpi_RV_top_165_G_A5_P136.mzXML | 515                                            | Group1C                                        | 142dpi                                         | RV_top                                         | A5                                             | P136                                           | 0.000000000                                    | 0.002342964                                    | 0.000043200                                    | ...                                            | 0.000194172                                    | 0.000258485                                    | 0.000309987                                    | 0.000176238                                    | 0.000069000                                    | 0.000174876                                    | 0                                              | 0.000182384                                    | 0.000226010                                    | 0.000238047                                    |\n",
       "| X531_Group1C_142dpi_RV_top_166_G_A6_P136.mzXML | 531                                            | Group1C                                        | 142dpi                                         | RV_top                                         | A6                                             | P136                                           | 0.000070600                                    | 0.001799604                                    | 0.000115117                                    | ...                                            | 0.000000000                                    | 0.000061600                                    | 0.000166923                                    | 0.000000000                                    | 0.000203732                                    | 0.000394644                                    | 0                                              | 0.000067200                                    | 0.000132213                                    | 0.000085100                                    |\n",
       "\n"
      ],
      "text/plain": [
       "  filename                                       MouseID Treatmentgroup DPI   \n",
       "1 X511_Group1C_142dpi_RV_top_161_G_A1_P136.mzXML 511     Group1C        142dpi\n",
       "2 X512_Group1C_142dpi_RV_top_162_G_A2_P136.mzXML 512     Group1C        142dpi\n",
       "3 X513_Group1C_142dpi_RV_top_163_G_A3_P136.mzXML 513     Group1C        142dpi\n",
       "4 X514_Group1C_142dpi_RV_top_164_G_A4_P136.mzXML 514     Group1C        142dpi\n",
       "5 X515_Group1C_142dpi_RV_top_165_G_A5_P136.mzXML 515     Group1C        142dpi\n",
       "6 X531_Group1C_142dpi_RV_top_166_G_A6_P136.mzXML 531     Group1C        142dpi\n",
       "  organ  well_position plate X268.105_0.35 X269.088_0.35 X111.044_2.768 ...\n",
       "1 RV_top A1            P136  0.000163206   0.001639729   0.000000000    ...\n",
       "2 RV_top A2            P136  0.000425000   0.003176171   0.000000000    ...\n",
       "3 RV_top A3            P136  0.000842890   0.001560739   0.000000000    ...\n",
       "4 RV_top A4            P136  0.000302458   0.001666797   0.000000000    ...\n",
       "5 RV_top A5            P136  0.000000000   0.002342964   0.000043200    ...\n",
       "6 RV_top A6            P136  0.000070600   0.001799604   0.000115117    ...\n",
       "  X705.141_2.339 X776.148_2.398 X776.253_2.398 X776.411_2.398 X792.329_2.764\n",
       "1 0.000179645    0.000000000    0.000103564    0.000000000    0.000000000   \n",
       "2 0.000096500    0.000116217    0.000179520    0.000077700    0.000000000   \n",
       "3 0.000161273    0.000144501    0.000153052    0.000081000    0.000065500   \n",
       "4 0.000084300    0.000095400    0.000175538    0.000173409    0.000000000   \n",
       "5 0.000194172    0.000258485    0.000309987    0.000176238    0.000069000   \n",
       "6 0.000000000    0.000061600    0.000166923    0.000000000    0.000203732   \n",
       "  X811.309_2.773 X811.31_2.767 X819.211_2.398 X819.322_2.398 X819.378_2.399\n",
       "1 0.000000000    0             0.000069800    0.000098700    0.000000000   \n",
       "2 0.000119473    0             0.000152956    0.000187883    0.000092000   \n",
       "3 0.000150147    0             0.000158430    0.000183752    0.000165912   \n",
       "4 0.000152011    0             0.000165734    0.000212944    0.000182069   \n",
       "5 0.000174876    0             0.000182384    0.000226010    0.000238047   \n",
       "6 0.000394644    0             0.000067200    0.000132213    0.000085100   "
      ]
     },
     "metadata": {},
     "output_type": "display_data"
    },
    {
     "data": {
      "text/html": [
       "<ol class=list-inline>\n",
       "\t<li>60</li>\n",
       "\t<li>70</li>\n",
       "</ol>\n"
      ],
      "text/latex": [
       "\\begin{enumerate*}\n",
       "\\item 60\n",
       "\\item 70\n",
       "\\end{enumerate*}\n"
      ],
      "text/markdown": [
       "1. 60\n",
       "2. 70\n",
       "\n",
       "\n"
      ],
      "text/plain": [
       "[1] 60 70"
      ]
     },
     "metadata": {},
     "output_type": "display_data"
    }
   ],
   "source": [
    "head(a)\n",
    "dim(a)"
   ]
  },
  {
   "cell_type": "code",
   "execution_count": 13,
   "metadata": {},
   "outputs": [
    {
     "data": {
      "text/html": [
       "<table>\n",
       "<thead><tr><th></th><th scope=col>filename</th><th scope=col>MouseID</th><th scope=col>Treatmentgroup</th><th scope=col>DPI</th><th scope=col>organ</th><th scope=col>well_position</th><th scope=col>plate</th><th scope=col>X268.105_0.35</th><th scope=col>X269.088_0.35</th><th scope=col>X111.044_2.768</th><th scope=col>...</th><th scope=col>X705.141_2.339</th><th scope=col>X776.148_2.398</th><th scope=col>X776.253_2.398</th><th scope=col>X776.411_2.398</th><th scope=col>X792.329_2.764</th><th scope=col>X811.309_2.773</th><th scope=col>X811.31_2.767</th><th scope=col>X819.211_2.398</th><th scope=col>X819.322_2.398</th><th scope=col>X819.378_2.399</th></tr></thead>\n",
       "<tbody>\n",
       "\t<tr><th scope=row>21</th><td>X611_Group9_142dpi_RV_top_181_G_B9_P136.mzXML </td><td>611                                           </td><td>Group9                                        </td><td>142dpi                                        </td><td>RV_top                                        </td><td>B9                                            </td><td>P136                                          </td><td>0.000000000                                   </td><td>0.000291075                                   </td><td>0.000157565                                   </td><td>...                                           </td><td>0.000133487                                   </td><td>0.000050600                                   </td><td>0.000000000                                   </td><td>0.000000000                                   </td><td>0.000294372                                   </td><td>0                                             </td><td>0.000282893                                   </td><td>0.000000000                                   </td><td>0.00005450                                    </td><td>0.000000000                                   </td></tr>\n",
       "\t<tr><th scope=row>22</th><td>X612_Group9_142dpi_RV_top_182_G_B10_P136.mzXML</td><td>612                                           </td><td>Group9                                        </td><td>142dpi                                        </td><td>RV_top                                        </td><td>B10                                           </td><td>P136                                          </td><td>0.000000000                                   </td><td>0.001152732                                   </td><td>0.000168404                                   </td><td>...                                           </td><td>0.000136490                                   </td><td>0.000000000                                   </td><td>0.000049100                                   </td><td>0.000000000                                   </td><td>0.000323449                                   </td><td>0                                             </td><td>0.000313258                                   </td><td>0.000000000                                   </td><td>0.00005140                                    </td><td>0.000056500                                   </td></tr>\n",
       "\t<tr><th scope=row>23</th><td>X613_Group9_142dpi_RV_top_183_G_B11_P136.mzXML</td><td>613                                           </td><td>Group9                                        </td><td>142dpi                                        </td><td>RV_top                                        </td><td>B11                                           </td><td>P136                                          </td><td>0.000228064                                   </td><td>0.001298637                                   </td><td>0.000041700                                   </td><td>...                                           </td><td>0.000049300                                   </td><td>0.000000000                                   </td><td>0.000000000                                   </td><td>0.000000000                                   </td><td>0.000111765                                   </td><td>0                                             </td><td>0.000199828                                   </td><td>0.000000000                                   </td><td>0.00000000                                    </td><td>0.000000000                                   </td></tr>\n",
       "\t<tr><th scope=row>24</th><td>X614_Group9_142dpi_RV_top_184_G_B12_P136.mzXML</td><td>614                                           </td><td>Group9                                        </td><td>142dpi                                        </td><td>RV_top                                        </td><td>B12                                           </td><td>P136                                          </td><td>0.000000000                                   </td><td>0.001548175                                   </td><td>0.000000000                                   </td><td>...                                           </td><td>0.000082100                                   </td><td>0.000172190                                   </td><td>0.000271134                                   </td><td>0.000181289                                   </td><td>0.000000000                                   </td><td>0                                             </td><td>0.000128677                                   </td><td>0.000207812                                   </td><td>0.00023597                                    </td><td>0.000247892                                   </td></tr>\n",
       "\t<tr><th scope=row>25</th><td>X615_Group9_142dpi_RV_top_185_G_C1_P136.mzXML </td><td>615                                           </td><td>Group9                                        </td><td>142dpi                                        </td><td>RV_top                                        </td><td>C1                                            </td><td>P136                                          </td><td>0.001402512                                   </td><td>0.001330846                                   </td><td>0.000000000                                   </td><td>...                                           </td><td>0.000000000                                   </td><td>0.000164987                                   </td><td>0.000085600                                   </td><td>0.000000000                                   </td><td>0.000000000                                   </td><td>0                                             </td><td>0.000000000                                   </td><td>0.000170816                                   </td><td>0.00008990                                    </td><td>0.000098500                                   </td></tr>\n",
       "\t<tr><th scope=row>26</th><td>X631_Group15_142dpi_RV_top_191_G_C7_P136.mzXML</td><td>631                                           </td><td>Group15                                       </td><td>142dpi                                        </td><td>RV_top                                        </td><td>C7                                            </td><td>P136                                          </td><td>0.000066600                                   </td><td>0.000576991                                   </td><td>0.000135891                                   </td><td>...                                           </td><td>0.000047200                                   </td><td>0.000000000                                   </td><td>0.000034800                                   </td><td>0.000000000                                   </td><td>0.000186446                                   </td><td>0                                             </td><td>0.000203554                                   </td><td>0.000034600                                   </td><td>0.00003810                                    </td><td>0.000039900                                   </td></tr>\n",
       "</tbody>\n",
       "</table>\n"
      ],
      "text/latex": [
       "\\begin{tabular}{r|llllllllllllllllllllllllllllllllllllllllllllllllllllllllllllllllllllll}\n",
       "  & filename & MouseID & Treatmentgroup & DPI & organ & well\\_position & plate & X268.105\\_0.35 & X269.088\\_0.35 & X111.044\\_2.768 & ... & X705.141\\_2.339 & X776.148\\_2.398 & X776.253\\_2.398 & X776.411\\_2.398 & X792.329\\_2.764 & X811.309\\_2.773 & X811.31\\_2.767 & X819.211\\_2.398 & X819.322\\_2.398 & X819.378\\_2.399\\\\\n",
       "\\hline\n",
       "\t21 & X611\\_Group9\\_142dpi\\_RV\\_top\\_181\\_G\\_B9\\_P136.mzXML  & 611                                                            & Group9                                                         & 142dpi                                                         & RV\\_top                                                       & B9                                                             & P136                                                           & 0.000000000                                                    & 0.000291075                                                    & 0.000157565                                                    & ...                                                            & 0.000133487                                                    & 0.000050600                                                    & 0.000000000                                                    & 0.000000000                                                    & 0.000294372                                                    & 0                                                              & 0.000282893                                                    & 0.000000000                                                    & 0.00005450                                                     & 0.000000000                                                   \\\\\n",
       "\t22 & X612\\_Group9\\_142dpi\\_RV\\_top\\_182\\_G\\_B10\\_P136.mzXML & 612                                                            & Group9                                                         & 142dpi                                                         & RV\\_top                                                       & B10                                                            & P136                                                           & 0.000000000                                                    & 0.001152732                                                    & 0.000168404                                                    & ...                                                            & 0.000136490                                                    & 0.000000000                                                    & 0.000049100                                                    & 0.000000000                                                    & 0.000323449                                                    & 0                                                              & 0.000313258                                                    & 0.000000000                                                    & 0.00005140                                                     & 0.000056500                                                   \\\\\n",
       "\t23 & X613\\_Group9\\_142dpi\\_RV\\_top\\_183\\_G\\_B11\\_P136.mzXML & 613                                                            & Group9                                                         & 142dpi                                                         & RV\\_top                                                       & B11                                                            & P136                                                           & 0.000228064                                                    & 0.001298637                                                    & 0.000041700                                                    & ...                                                            & 0.000049300                                                    & 0.000000000                                                    & 0.000000000                                                    & 0.000000000                                                    & 0.000111765                                                    & 0                                                              & 0.000199828                                                    & 0.000000000                                                    & 0.00000000                                                     & 0.000000000                                                   \\\\\n",
       "\t24 & X614\\_Group9\\_142dpi\\_RV\\_top\\_184\\_G\\_B12\\_P136.mzXML & 614                                                            & Group9                                                         & 142dpi                                                         & RV\\_top                                                       & B12                                                            & P136                                                           & 0.000000000                                                    & 0.001548175                                                    & 0.000000000                                                    & ...                                                            & 0.000082100                                                    & 0.000172190                                                    & 0.000271134                                                    & 0.000181289                                                    & 0.000000000                                                    & 0                                                              & 0.000128677                                                    & 0.000207812                                                    & 0.00023597                                                     & 0.000247892                                                   \\\\\n",
       "\t25 & X615\\_Group9\\_142dpi\\_RV\\_top\\_185\\_G\\_C1\\_P136.mzXML  & 615                                                            & Group9                                                         & 142dpi                                                         & RV\\_top                                                       & C1                                                             & P136                                                           & 0.001402512                                                    & 0.001330846                                                    & 0.000000000                                                    & ...                                                            & 0.000000000                                                    & 0.000164987                                                    & 0.000085600                                                    & 0.000000000                                                    & 0.000000000                                                    & 0                                                              & 0.000000000                                                    & 0.000170816                                                    & 0.00008990                                                     & 0.000098500                                                   \\\\\n",
       "\t26 & X631\\_Group15\\_142dpi\\_RV\\_top\\_191\\_G\\_C7\\_P136.mzXML & 631                                                            & Group15                                                        & 142dpi                                                         & RV\\_top                                                       & C7                                                             & P136                                                           & 0.000066600                                                    & 0.000576991                                                    & 0.000135891                                                    & ...                                                            & 0.000047200                                                    & 0.000000000                                                    & 0.000034800                                                    & 0.000000000                                                    & 0.000186446                                                    & 0                                                              & 0.000203554                                                    & 0.000034600                                                    & 0.00003810                                                     & 0.000039900                                                   \\\\\n",
       "\\end{tabular}\n"
      ],
      "text/markdown": [
       "\n",
       "| <!--/--> | filename | MouseID | Treatmentgroup | DPI | organ | well_position | plate | X268.105_0.35 | X269.088_0.35 | X111.044_2.768 | ... | X705.141_2.339 | X776.148_2.398 | X776.253_2.398 | X776.411_2.398 | X792.329_2.764 | X811.309_2.773 | X811.31_2.767 | X819.211_2.398 | X819.322_2.398 | X819.378_2.399 |\n",
       "|---|---|---|---|---|---|---|---|---|---|---|---|---|---|---|---|---|---|---|---|---|---|\n",
       "| 21 | X611_Group9_142dpi_RV_top_181_G_B9_P136.mzXML  | 611                                            | Group9                                         | 142dpi                                         | RV_top                                         | B9                                             | P136                                           | 0.000000000                                    | 0.000291075                                    | 0.000157565                                    | ...                                            | 0.000133487                                    | 0.000050600                                    | 0.000000000                                    | 0.000000000                                    | 0.000294372                                    | 0                                              | 0.000282893                                    | 0.000000000                                    | 0.00005450                                     | 0.000000000                                    |\n",
       "| 22 | X612_Group9_142dpi_RV_top_182_G_B10_P136.mzXML | 612                                            | Group9                                         | 142dpi                                         | RV_top                                         | B10                                            | P136                                           | 0.000000000                                    | 0.001152732                                    | 0.000168404                                    | ...                                            | 0.000136490                                    | 0.000000000                                    | 0.000049100                                    | 0.000000000                                    | 0.000323449                                    | 0                                              | 0.000313258                                    | 0.000000000                                    | 0.00005140                                     | 0.000056500                                    |\n",
       "| 23 | X613_Group9_142dpi_RV_top_183_G_B11_P136.mzXML | 613                                            | Group9                                         | 142dpi                                         | RV_top                                         | B11                                            | P136                                           | 0.000228064                                    | 0.001298637                                    | 0.000041700                                    | ...                                            | 0.000049300                                    | 0.000000000                                    | 0.000000000                                    | 0.000000000                                    | 0.000111765                                    | 0                                              | 0.000199828                                    | 0.000000000                                    | 0.00000000                                     | 0.000000000                                    |\n",
       "| 24 | X614_Group9_142dpi_RV_top_184_G_B12_P136.mzXML | 614                                            | Group9                                         | 142dpi                                         | RV_top                                         | B12                                            | P136                                           | 0.000000000                                    | 0.001548175                                    | 0.000000000                                    | ...                                            | 0.000082100                                    | 0.000172190                                    | 0.000271134                                    | 0.000181289                                    | 0.000000000                                    | 0                                              | 0.000128677                                    | 0.000207812                                    | 0.00023597                                     | 0.000247892                                    |\n",
       "| 25 | X615_Group9_142dpi_RV_top_185_G_C1_P136.mzXML  | 615                                            | Group9                                         | 142dpi                                         | RV_top                                         | C1                                             | P136                                           | 0.001402512                                    | 0.001330846                                    | 0.000000000                                    | ...                                            | 0.000000000                                    | 0.000164987                                    | 0.000085600                                    | 0.000000000                                    | 0.000000000                                    | 0                                              | 0.000000000                                    | 0.000170816                                    | 0.00008990                                     | 0.000098500                                    |\n",
       "| 26 | X631_Group15_142dpi_RV_top_191_G_C7_P136.mzXML | 631                                            | Group15                                        | 142dpi                                         | RV_top                                         | C7                                             | P136                                           | 0.000066600                                    | 0.000576991                                    | 0.000135891                                    | ...                                            | 0.000047200                                    | 0.000000000                                    | 0.000034800                                    | 0.000000000                                    | 0.000186446                                    | 0                                              | 0.000203554                                    | 0.000034600                                    | 0.00003810                                     | 0.000039900                                    |\n",
       "\n"
      ],
      "text/plain": [
       "   filename                                       MouseID Treatmentgroup DPI   \n",
       "21 X611_Group9_142dpi_RV_top_181_G_B9_P136.mzXML  611     Group9         142dpi\n",
       "22 X612_Group9_142dpi_RV_top_182_G_B10_P136.mzXML 612     Group9         142dpi\n",
       "23 X613_Group9_142dpi_RV_top_183_G_B11_P136.mzXML 613     Group9         142dpi\n",
       "24 X614_Group9_142dpi_RV_top_184_G_B12_P136.mzXML 614     Group9         142dpi\n",
       "25 X615_Group9_142dpi_RV_top_185_G_C1_P136.mzXML  615     Group9         142dpi\n",
       "26 X631_Group15_142dpi_RV_top_191_G_C7_P136.mzXML 631     Group15        142dpi\n",
       "   organ  well_position plate X268.105_0.35 X269.088_0.35 X111.044_2.768 ...\n",
       "21 RV_top B9            P136  0.000000000   0.000291075   0.000157565    ...\n",
       "22 RV_top B10           P136  0.000000000   0.001152732   0.000168404    ...\n",
       "23 RV_top B11           P136  0.000228064   0.001298637   0.000041700    ...\n",
       "24 RV_top B12           P136  0.000000000   0.001548175   0.000000000    ...\n",
       "25 RV_top C1            P136  0.001402512   0.001330846   0.000000000    ...\n",
       "26 RV_top C7            P136  0.000066600   0.000576991   0.000135891    ...\n",
       "   X705.141_2.339 X776.148_2.398 X776.253_2.398 X776.411_2.398 X792.329_2.764\n",
       "21 0.000133487    0.000050600    0.000000000    0.000000000    0.000294372   \n",
       "22 0.000136490    0.000000000    0.000049100    0.000000000    0.000323449   \n",
       "23 0.000049300    0.000000000    0.000000000    0.000000000    0.000111765   \n",
       "24 0.000082100    0.000172190    0.000271134    0.000181289    0.000000000   \n",
       "25 0.000000000    0.000164987    0.000085600    0.000000000    0.000000000   \n",
       "26 0.000047200    0.000000000    0.000034800    0.000000000    0.000186446   \n",
       "   X811.309_2.773 X811.31_2.767 X819.211_2.398 X819.322_2.398 X819.378_2.399\n",
       "21 0              0.000282893   0.000000000    0.00005450     0.000000000   \n",
       "22 0              0.000313258   0.000000000    0.00005140     0.000056500   \n",
       "23 0              0.000199828   0.000000000    0.00000000     0.000000000   \n",
       "24 0              0.000128677   0.000207812    0.00023597     0.000247892   \n",
       "25 0              0.000000000   0.000170816    0.00008990     0.000098500   \n",
       "26 0              0.000203554   0.000034600    0.00003810     0.000039900   "
      ]
     },
     "metadata": {},
     "output_type": "display_data"
    },
    {
     "data": {
      "text/html": [
       "<ol class=list-inline>\n",
       "\t<li>30</li>\n",
       "\t<li>70</li>\n",
       "</ol>\n"
      ],
      "text/latex": [
       "\\begin{enumerate*}\n",
       "\\item 30\n",
       "\\item 70\n",
       "\\end{enumerate*}\n"
      ],
      "text/markdown": [
       "1. 30\n",
       "2. 70\n",
       "\n",
       "\n"
      ],
      "text/plain": [
       "[1] 30 70"
      ]
     },
     "metadata": {},
     "output_type": "display_data"
    }
   ],
   "source": [
    "# choose the lung posistion\n",
    "features_pos<-droplevels(subset(a, a$Treatmentgroup==c(\"Group9\")|a$Treatmentgroup==c(\"Group15\")))\n",
    "head(features_pos)\n",
    "dim(features_pos)"
   ]
  },
  {
   "cell_type": "code",
   "execution_count": 14,
   "metadata": {
    "scrolled": false
   },
   "outputs": [
    {
     "data": {
      "text/html": [
       "<table>\n",
       "<thead><tr><th></th><th scope=col>X268.105_0.35</th><th scope=col>X269.088_0.35</th><th scope=col>X111.044_2.768</th><th scope=col>X122.082_0.534</th><th scope=col>X130.087_0.452</th><th scope=col>X137.046_0.35</th><th scope=col>X142.035_0.315</th><th scope=col>X172.134_2.343</th><th scope=col>X175.148_2.71</th><th scope=col>X198.15_2.471</th><th scope=col>...</th><th scope=col>X705.141_2.339</th><th scope=col>X776.148_2.398</th><th scope=col>X776.253_2.398</th><th scope=col>X776.411_2.398</th><th scope=col>X792.329_2.764</th><th scope=col>X811.309_2.773</th><th scope=col>X811.31_2.767</th><th scope=col>X819.211_2.398</th><th scope=col>X819.322_2.398</th><th scope=col>X819.378_2.399</th></tr></thead>\n",
       "<tbody>\n",
       "\t<tr><th scope=row>21</th><td>0.000000000</td><td>0.000291075</td><td>0.000157565</td><td>0.000507299</td><td>0.002120444</td><td>0.003301520</td><td>0.000807527</td><td>0.000201194</td><td>0.000582298</td><td>0.000190987</td><td>...        </td><td>0.000133487</td><td>0.000050600</td><td>0.000000000</td><td>0.000000000</td><td>0.000294372</td><td>0          </td><td>0.000282893</td><td>0.000000000</td><td>0.00005450 </td><td>0.000000000</td></tr>\n",
       "\t<tr><th scope=row>22</th><td>0.000000000</td><td>0.001152732</td><td>0.000168404</td><td>0.000000000</td><td>0.002132402</td><td>0.005181907</td><td>0.001209674</td><td>0.000256615</td><td>0.000590771</td><td>0.000151750</td><td>...        </td><td>0.000136490</td><td>0.000000000</td><td>0.000049100</td><td>0.000000000</td><td>0.000323449</td><td>0          </td><td>0.000313258</td><td>0.000000000</td><td>0.00005140 </td><td>0.000056500</td></tr>\n",
       "\t<tr><th scope=row>23</th><td>0.000228064</td><td>0.001298637</td><td>0.000041700</td><td>0.000286968</td><td>0.000630767</td><td>0.008109856</td><td>0.001176724</td><td>0.000189397</td><td>0.000540657</td><td>0.000125412</td><td>...        </td><td>0.000049300</td><td>0.000000000</td><td>0.000000000</td><td>0.000000000</td><td>0.000111765</td><td>0          </td><td>0.000199828</td><td>0.000000000</td><td>0.00000000 </td><td>0.000000000</td></tr>\n",
       "\t<tr><th scope=row>24</th><td>0.000000000</td><td>0.001548175</td><td>0.000000000</td><td>0.000000000</td><td>0.002295338</td><td>0.006731196</td><td>0.001669337</td><td>0.000146759</td><td>0.000693313</td><td>0.000102044</td><td>...        </td><td>0.000082100</td><td>0.000172190</td><td>0.000271134</td><td>0.000181289</td><td>0.000000000</td><td>0          </td><td>0.000128677</td><td>0.000207812</td><td>0.00023597 </td><td>0.000247892</td></tr>\n",
       "\t<tr><th scope=row>25</th><td>0.001402512</td><td>0.001330846</td><td>0.000000000</td><td>0.000557241</td><td>0.000850856</td><td>0.010376287</td><td>0.001853897</td><td>0.000280669</td><td>0.001099886</td><td>0.000208332</td><td>...        </td><td>0.000000000</td><td>0.000164987</td><td>0.000085600</td><td>0.000000000</td><td>0.000000000</td><td>0          </td><td>0.000000000</td><td>0.000170816</td><td>0.00008990 </td><td>0.000098500</td></tr>\n",
       "\t<tr><th scope=row>26</th><td>0.000066600</td><td>0.000576991</td><td>0.000135891</td><td>0.000096700</td><td>0.000551945</td><td>0.005804324</td><td>0.000751357</td><td>0.000084300</td><td>0.000388142</td><td>0.000039100</td><td>...        </td><td>0.000047200</td><td>0.000000000</td><td>0.000034800</td><td>0.000000000</td><td>0.000186446</td><td>0          </td><td>0.000203554</td><td>0.000034600</td><td>0.00003810 </td><td>0.000039900</td></tr>\n",
       "</tbody>\n",
       "</table>\n"
      ],
      "text/latex": [
       "\\begin{tabular}{r|lllllllllllllllllllllllllllllllllllllllllllllllllllllllllllllll}\n",
       "  & X268.105\\_0.35 & X269.088\\_0.35 & X111.044\\_2.768 & X122.082\\_0.534 & X130.087\\_0.452 & X137.046\\_0.35 & X142.035\\_0.315 & X172.134\\_2.343 & X175.148\\_2.71 & X198.15\\_2.471 & ... & X705.141\\_2.339 & X776.148\\_2.398 & X776.253\\_2.398 & X776.411\\_2.398 & X792.329\\_2.764 & X811.309\\_2.773 & X811.31\\_2.767 & X819.211\\_2.398 & X819.322\\_2.398 & X819.378\\_2.399\\\\\n",
       "\\hline\n",
       "\t21 & 0.000000000 & 0.000291075 & 0.000157565 & 0.000507299 & 0.002120444 & 0.003301520 & 0.000807527 & 0.000201194 & 0.000582298 & 0.000190987 & ...         & 0.000133487 & 0.000050600 & 0.000000000 & 0.000000000 & 0.000294372 & 0           & 0.000282893 & 0.000000000 & 0.00005450  & 0.000000000\\\\\n",
       "\t22 & 0.000000000 & 0.001152732 & 0.000168404 & 0.000000000 & 0.002132402 & 0.005181907 & 0.001209674 & 0.000256615 & 0.000590771 & 0.000151750 & ...         & 0.000136490 & 0.000000000 & 0.000049100 & 0.000000000 & 0.000323449 & 0           & 0.000313258 & 0.000000000 & 0.00005140  & 0.000056500\\\\\n",
       "\t23 & 0.000228064 & 0.001298637 & 0.000041700 & 0.000286968 & 0.000630767 & 0.008109856 & 0.001176724 & 0.000189397 & 0.000540657 & 0.000125412 & ...         & 0.000049300 & 0.000000000 & 0.000000000 & 0.000000000 & 0.000111765 & 0           & 0.000199828 & 0.000000000 & 0.00000000  & 0.000000000\\\\\n",
       "\t24 & 0.000000000 & 0.001548175 & 0.000000000 & 0.000000000 & 0.002295338 & 0.006731196 & 0.001669337 & 0.000146759 & 0.000693313 & 0.000102044 & ...         & 0.000082100 & 0.000172190 & 0.000271134 & 0.000181289 & 0.000000000 & 0           & 0.000128677 & 0.000207812 & 0.00023597  & 0.000247892\\\\\n",
       "\t25 & 0.001402512 & 0.001330846 & 0.000000000 & 0.000557241 & 0.000850856 & 0.010376287 & 0.001853897 & 0.000280669 & 0.001099886 & 0.000208332 & ...         & 0.000000000 & 0.000164987 & 0.000085600 & 0.000000000 & 0.000000000 & 0           & 0.000000000 & 0.000170816 & 0.00008990  & 0.000098500\\\\\n",
       "\t26 & 0.000066600 & 0.000576991 & 0.000135891 & 0.000096700 & 0.000551945 & 0.005804324 & 0.000751357 & 0.000084300 & 0.000388142 & 0.000039100 & ...         & 0.000047200 & 0.000000000 & 0.000034800 & 0.000000000 & 0.000186446 & 0           & 0.000203554 & 0.000034600 & 0.00003810  & 0.000039900\\\\\n",
       "\\end{tabular}\n"
      ],
      "text/markdown": [
       "\n",
       "| <!--/--> | X268.105_0.35 | X269.088_0.35 | X111.044_2.768 | X122.082_0.534 | X130.087_0.452 | X137.046_0.35 | X142.035_0.315 | X172.134_2.343 | X175.148_2.71 | X198.15_2.471 | ... | X705.141_2.339 | X776.148_2.398 | X776.253_2.398 | X776.411_2.398 | X792.329_2.764 | X811.309_2.773 | X811.31_2.767 | X819.211_2.398 | X819.322_2.398 | X819.378_2.399 |\n",
       "|---|---|---|---|---|---|---|---|---|---|---|---|---|---|---|---|---|---|---|---|---|---|\n",
       "| 21 | 0.000000000 | 0.000291075 | 0.000157565 | 0.000507299 | 0.002120444 | 0.003301520 | 0.000807527 | 0.000201194 | 0.000582298 | 0.000190987 | ...         | 0.000133487 | 0.000050600 | 0.000000000 | 0.000000000 | 0.000294372 | 0           | 0.000282893 | 0.000000000 | 0.00005450  | 0.000000000 |\n",
       "| 22 | 0.000000000 | 0.001152732 | 0.000168404 | 0.000000000 | 0.002132402 | 0.005181907 | 0.001209674 | 0.000256615 | 0.000590771 | 0.000151750 | ...         | 0.000136490 | 0.000000000 | 0.000049100 | 0.000000000 | 0.000323449 | 0           | 0.000313258 | 0.000000000 | 0.00005140  | 0.000056500 |\n",
       "| 23 | 0.000228064 | 0.001298637 | 0.000041700 | 0.000286968 | 0.000630767 | 0.008109856 | 0.001176724 | 0.000189397 | 0.000540657 | 0.000125412 | ...         | 0.000049300 | 0.000000000 | 0.000000000 | 0.000000000 | 0.000111765 | 0           | 0.000199828 | 0.000000000 | 0.00000000  | 0.000000000 |\n",
       "| 24 | 0.000000000 | 0.001548175 | 0.000000000 | 0.000000000 | 0.002295338 | 0.006731196 | 0.001669337 | 0.000146759 | 0.000693313 | 0.000102044 | ...         | 0.000082100 | 0.000172190 | 0.000271134 | 0.000181289 | 0.000000000 | 0           | 0.000128677 | 0.000207812 | 0.00023597  | 0.000247892 |\n",
       "| 25 | 0.001402512 | 0.001330846 | 0.000000000 | 0.000557241 | 0.000850856 | 0.010376287 | 0.001853897 | 0.000280669 | 0.001099886 | 0.000208332 | ...         | 0.000000000 | 0.000164987 | 0.000085600 | 0.000000000 | 0.000000000 | 0           | 0.000000000 | 0.000170816 | 0.00008990  | 0.000098500 |\n",
       "| 26 | 0.000066600 | 0.000576991 | 0.000135891 | 0.000096700 | 0.000551945 | 0.005804324 | 0.000751357 | 0.000084300 | 0.000388142 | 0.000039100 | ...         | 0.000047200 | 0.000000000 | 0.000034800 | 0.000000000 | 0.000186446 | 0           | 0.000203554 | 0.000034600 | 0.00003810  | 0.000039900 |\n",
       "\n"
      ],
      "text/plain": [
       "   X268.105_0.35 X269.088_0.35 X111.044_2.768 X122.082_0.534 X130.087_0.452\n",
       "21 0.000000000   0.000291075   0.000157565    0.000507299    0.002120444   \n",
       "22 0.000000000   0.001152732   0.000168404    0.000000000    0.002132402   \n",
       "23 0.000228064   0.001298637   0.000041700    0.000286968    0.000630767   \n",
       "24 0.000000000   0.001548175   0.000000000    0.000000000    0.002295338   \n",
       "25 0.001402512   0.001330846   0.000000000    0.000557241    0.000850856   \n",
       "26 0.000066600   0.000576991   0.000135891    0.000096700    0.000551945   \n",
       "   X137.046_0.35 X142.035_0.315 X172.134_2.343 X175.148_2.71 X198.15_2.471 ...\n",
       "21 0.003301520   0.000807527    0.000201194    0.000582298   0.000190987   ...\n",
       "22 0.005181907   0.001209674    0.000256615    0.000590771   0.000151750   ...\n",
       "23 0.008109856   0.001176724    0.000189397    0.000540657   0.000125412   ...\n",
       "24 0.006731196   0.001669337    0.000146759    0.000693313   0.000102044   ...\n",
       "25 0.010376287   0.001853897    0.000280669    0.001099886   0.000208332   ...\n",
       "26 0.005804324   0.000751357    0.000084300    0.000388142   0.000039100   ...\n",
       "   X705.141_2.339 X776.148_2.398 X776.253_2.398 X776.411_2.398 X792.329_2.764\n",
       "21 0.000133487    0.000050600    0.000000000    0.000000000    0.000294372   \n",
       "22 0.000136490    0.000000000    0.000049100    0.000000000    0.000323449   \n",
       "23 0.000049300    0.000000000    0.000000000    0.000000000    0.000111765   \n",
       "24 0.000082100    0.000172190    0.000271134    0.000181289    0.000000000   \n",
       "25 0.000000000    0.000164987    0.000085600    0.000000000    0.000000000   \n",
       "26 0.000047200    0.000000000    0.000034800    0.000000000    0.000186446   \n",
       "   X811.309_2.773 X811.31_2.767 X819.211_2.398 X819.322_2.398 X819.378_2.399\n",
       "21 0              0.000282893   0.000000000    0.00005450     0.000000000   \n",
       "22 0              0.000313258   0.000000000    0.00005140     0.000056500   \n",
       "23 0              0.000199828   0.000000000    0.00000000     0.000000000   \n",
       "24 0              0.000128677   0.000207812    0.00023597     0.000247892   \n",
       "25 0              0.000000000   0.000170816    0.00008990     0.000098500   \n",
       "26 0              0.000203554   0.000034600    0.00003810     0.000039900   "
      ]
     },
     "metadata": {},
     "output_type": "display_data"
    },
    {
     "data": {
      "text/html": [
       "<dl class=dl-horizontal>\n",
       "\t<dt>X268.105_0.35</dt>\n",
       "\t\t<dd>1</dd>\n",
       "\t<dt>X269.088_0.35</dt>\n",
       "\t\t<dd>2</dd>\n",
       "\t<dt>X111.044_2.768</dt>\n",
       "\t\t<dd>3</dd>\n",
       "\t<dt>X122.082_0.534</dt>\n",
       "\t\t<dd>4</dd>\n",
       "\t<dt>X130.087_0.452</dt>\n",
       "\t\t<dd>5</dd>\n",
       "\t<dt>X137.046_0.35</dt>\n",
       "\t\t<dd>6</dd>\n",
       "</dl>\n"
      ],
      "text/latex": [
       "\\begin{description*}\n",
       "\\item[X268.105\\textbackslash{}\\_0.35] 1\n",
       "\\item[X269.088\\textbackslash{}\\_0.35] 2\n",
       "\\item[X111.044\\textbackslash{}\\_2.768] 3\n",
       "\\item[X122.082\\textbackslash{}\\_0.534] 4\n",
       "\\item[X130.087\\textbackslash{}\\_0.452] 5\n",
       "\\item[X137.046\\textbackslash{}\\_0.35] 6\n",
       "\\end{description*}\n"
      ],
      "text/markdown": [
       "X268.105_0.35\n",
       ":   1X269.088_0.35\n",
       ":   2X111.044_2.768\n",
       ":   3X122.082_0.534\n",
       ":   4X130.087_0.452\n",
       ":   5X137.046_0.35\n",
       ":   6\n",
       "\n"
      ],
      "text/plain": [
       " X268.105_0.35  X269.088_0.35 X111.044_2.768 X122.082_0.534 X130.087_0.452 \n",
       "             1              2              3              4              5 \n",
       " X137.046_0.35 \n",
       "             6 "
      ]
     },
     "metadata": {},
     "output_type": "display_data"
    },
    {
     "data": {
      "text/html": [
       "<table>\n",
       "<thead><tr><th></th><th scope=col>X268.105_0.35</th><th scope=col>X269.088_0.35</th><th scope=col>X111.044_2.768</th><th scope=col>X122.082_0.534</th><th scope=col>X130.087_0.452</th><th scope=col>X137.046_0.35</th><th scope=col>X142.035_0.315</th><th scope=col>X172.134_2.343</th><th scope=col>X175.148_2.71</th><th scope=col>X198.15_2.471</th><th scope=col>...</th><th scope=col>X705.141_2.339</th><th scope=col>X776.148_2.398</th><th scope=col>X776.253_2.398</th><th scope=col>X776.411_2.398</th><th scope=col>X792.329_2.764</th><th scope=col>X811.309_2.773</th><th scope=col>X811.31_2.767</th><th scope=col>X819.211_2.398</th><th scope=col>X819.322_2.398</th><th scope=col>X819.378_2.399</th></tr></thead>\n",
       "<tbody>\n",
       "\t<tr><th scope=row>21</th><td>0.000000000</td><td>0.000291075</td><td>0.000157565</td><td>0.000507299</td><td>0.002120444</td><td>0.003301520</td><td>0.000807527</td><td>0.000201194</td><td>0.000582298</td><td>0.000190987</td><td>...        </td><td>0.000133487</td><td>0.000050600</td><td>0.000000000</td><td>0.000000000</td><td>0.000294372</td><td>0.000000000</td><td>0.000282893</td><td>0.000000000</td><td>0.000054500</td><td>0.000000000</td></tr>\n",
       "\t<tr><th scope=row>22</th><td>0.000000000</td><td>0.001152732</td><td>0.000168404</td><td>0.000000000</td><td>0.002132402</td><td>0.005181907</td><td>0.001209674</td><td>0.000256615</td><td>0.000590771</td><td>0.000151750</td><td>...        </td><td>0.000136490</td><td>0.000000000</td><td>0.000049100</td><td>0.000000000</td><td>0.000323449</td><td>0.000000000</td><td>0.000313258</td><td>0.000000000</td><td>0.000051400</td><td>0.000056500</td></tr>\n",
       "\t<tr><th scope=row>23</th><td>0.000228064</td><td>0.001298637</td><td>0.000041700</td><td>0.000286968</td><td>0.000630767</td><td>0.008109856</td><td>0.001176724</td><td>0.000189397</td><td>0.000540657</td><td>0.000125412</td><td>...        </td><td>0.000049300</td><td>0.000000000</td><td>0.000000000</td><td>0.000000000</td><td>0.000111765</td><td>0.000000000</td><td>0.000199828</td><td>0.000000000</td><td>0.000000000</td><td>0.000000000</td></tr>\n",
       "\t<tr><th scope=row>24</th><td>0.000000000</td><td>0.001548175</td><td>0.000000000</td><td>0.000000000</td><td>0.002295338</td><td>0.006731196</td><td>0.001669337</td><td>0.000146759</td><td>0.000693313</td><td>0.000102044</td><td>...        </td><td>0.000082100</td><td>0.000172190</td><td>0.000271134</td><td>0.000181289</td><td>0.000000000</td><td>0.000000000</td><td>0.000128677</td><td>0.000207812</td><td>0.000235970</td><td>0.000247892</td></tr>\n",
       "\t<tr><th scope=row>25</th><td>0.001402512</td><td>0.001330846</td><td>0.000000000</td><td>0.000557241</td><td>0.000850856</td><td>0.010376287</td><td>0.001853897</td><td>0.000280669</td><td>0.001099886</td><td>0.000208332</td><td>...        </td><td>0.000000000</td><td>0.000164987</td><td>0.000085600</td><td>0.000000000</td><td>0.000000000</td><td>0.000000000</td><td>0.000000000</td><td>0.000170816</td><td>0.000089900</td><td>0.000098500</td></tr>\n",
       "\t<tr><th scope=row>26</th><td>0.000066600</td><td>0.000576991</td><td>0.000135891</td><td>0.000096700</td><td>0.000551945</td><td>0.005804324</td><td>0.000751357</td><td>0.000084300</td><td>0.000388142</td><td>0.000039100</td><td>...        </td><td>0.000047200</td><td>0.000000000</td><td>0.000034800</td><td>0.000000000</td><td>0.000186446</td><td>0.000000000</td><td>0.000203554</td><td>0.000034600</td><td>0.000038100</td><td>0.000039900</td></tr>\n",
       "\t<tr><th scope=row>27</th><td>0.000000000</td><td>0.000000000</td><td>0.000099400</td><td>0.000304705</td><td>0.001991535</td><td>0.002451522</td><td>0.000606347</td><td>0.000121815</td><td>0.000574984</td><td>0.000130283</td><td>...        </td><td>0.000000000</td><td>0.000000000</td><td>0.000000000</td><td>0.000000000</td><td>0.000187176</td><td>0.000096900</td><td>0.000279351</td><td>0.000000000</td><td>0.000000000</td><td>0.000000000</td></tr>\n",
       "\t<tr><th scope=row>28</th><td>0.000130514</td><td>0.001266298</td><td>0.000135900</td><td>0.000000000</td><td>0.002002601</td><td>0.007417040</td><td>0.001179984</td><td>0.000218109</td><td>0.000652266</td><td>0.000088100</td><td>...        </td><td>0.000000000</td><td>0.000000000</td><td>0.000000000</td><td>0.000000000</td><td>0.000298368</td><td>0.000000000</td><td>0.000195352</td><td>0.000000000</td><td>0.000000000</td><td>0.000000000</td></tr>\n",
       "\t<tr><th scope=row>29</th><td>0.000105174</td><td>0.001269362</td><td>0.000080300</td><td>0.000000000</td><td>0.001456173</td><td>0.008622080</td><td>0.001034650</td><td>0.000097300</td><td>0.000467139</td><td>0.000127920</td><td>...        </td><td>0.000043800</td><td>0.000000000</td><td>0.000041000</td><td>0.000000000</td><td>0.000092600</td><td>0.000000000</td><td>0.000155142</td><td>0.000000000</td><td>0.000000000</td><td>0.000038900</td></tr>\n",
       "\t<tr><th scope=row>30</th><td>0.000235018</td><td>0.001779202</td><td>0.000047800</td><td>0.000203930</td><td>0.000806398</td><td>0.011264946</td><td>0.001360412</td><td>0.000286000</td><td>0.000763308</td><td>0.000224575</td><td>...        </td><td>0.000000000</td><td>0.000000000</td><td>0.000000000</td><td>0.000000000</td><td>0.000093100</td><td>0.000000000</td><td>0.000171101</td><td>0.000000000</td><td>0.000000000</td><td>0.000000000</td></tr>\n",
       "\t<tr><th scope=row>36</th><td>0.000245269</td><td>0.001312964</td><td>0.000097400</td><td>0.000304266</td><td>0.001737414</td><td>0.009111520</td><td>0.001069613</td><td>0.000175560</td><td>0.000713076</td><td>0.000164759</td><td>...        </td><td>0.000000000</td><td>0.000000000</td><td>0.000000000</td><td>0.000000000</td><td>0.000229189</td><td>0.000000000</td><td>0.000129372</td><td>0.000000000</td><td>0.000059100</td><td>0.000000000</td></tr>\n",
       "\t<tr><th scope=row>37</th><td>0.000000000</td><td>0.001830019</td><td>0.000057600</td><td>0.000000000</td><td>0.001919767</td><td>0.007639890</td><td>0.001018652</td><td>0.000152516</td><td>0.000705221</td><td>0.000075700</td><td>...        </td><td>0.000000000</td><td>0.000000000</td><td>0.000000000</td><td>0.000000000</td><td>0.000094400</td><td>0.000000000</td><td>0.000222285</td><td>0.000000000</td><td>0.000000000</td><td>0.000000000</td></tr>\n",
       "\t<tr><th scope=row>38</th><td>0.000000000</td><td>0.000923605</td><td>0.000000000</td><td>0.000000000</td><td>0.001712825</td><td>0.003460370</td><td>0.000914278</td><td>0.000146406</td><td>0.000711748</td><td>0.000182702</td><td>...        </td><td>0.000000000</td><td>0.000063600</td><td>0.000075800</td><td>0.000049600</td><td>0.000000000</td><td>0.000000000</td><td>0.000105363</td><td>0.000079800</td><td>0.000074100</td><td>0.000082100</td></tr>\n",
       "\t<tr><th scope=row>39</th><td>0.000000000</td><td>0.001266730</td><td>0.000000000</td><td>0.000317244</td><td>0.001744048</td><td>0.008689645</td><td>0.001083146</td><td>0.000129103</td><td>0.000752695</td><td>0.000142179</td><td>...        </td><td>0.000000000</td><td>0.000073800</td><td>0.000113037</td><td>0.000069800</td><td>0.000000000</td><td>0.000000000</td><td>0.000000000</td><td>0.000138988</td><td>0.000113093</td><td>0.000096800</td></tr>\n",
       "\t<tr><th scope=row>40</th><td>0.000123388</td><td>0.000531395</td><td>0.000057600</td><td>0.000000000</td><td>0.002151341</td><td>0.004393192</td><td>0.000967755</td><td>0.000274783</td><td>0.000800661</td><td>0.000169070</td><td>...        </td><td>0.000000000</td><td>0.000000000</td><td>0.000000000</td><td>0.000000000</td><td>0.000103819</td><td>0.000000000</td><td>0.000199344</td><td>0.000000000</td><td>0.000000000</td><td>0.000000000</td></tr>\n",
       "\t<tr><th scope=row>41</th><td>0.000000000</td><td>0.000372451</td><td>0.000171649</td><td>0.000151070</td><td>0.002014297</td><td>0.008435946</td><td>0.001417468</td><td>0.000168342</td><td>0.000579613</td><td>0.000157488</td><td>...        </td><td>0.000000000</td><td>0.000000000</td><td>0.000000000</td><td>0.000000000</td><td>0.000352920</td><td>0.000000000</td><td>0.000289495</td><td>0.000000000</td><td>0.000000000</td><td>0.000000000</td></tr>\n",
       "\t<tr><th scope=row>42</th><td>0.000000000</td><td>0.000990453</td><td>0.000115571</td><td>0.000162832</td><td>0.001528128</td><td>0.008433001</td><td>0.001007432</td><td>0.000168754</td><td>0.000541205</td><td>0.000069700</td><td>...        </td><td>0.000000000</td><td>0.000000000</td><td>0.000000000</td><td>0.000000000</td><td>0.000241037</td><td>0.000000000</td><td>0.000267129</td><td>0.000000000</td><td>0.000000000</td><td>0.000000000</td></tr>\n",
       "\t<tr><th scope=row>43</th><td>0.000049200</td><td>0.001466376</td><td>0.000108086</td><td>0.000202684</td><td>0.001330234</td><td>0.007759698</td><td>0.000947792</td><td>0.000173910</td><td>0.000548099</td><td>0.000080100</td><td>...        </td><td>0.000000000</td><td>0.000000000</td><td>0.000000000</td><td>0.000000000</td><td>0.000200199</td><td>0.000000000</td><td>0.000115958</td><td>0.000000000</td><td>0.000000000</td><td>0.000000000</td></tr>\n",
       "\t<tr><th scope=row>44</th><td>0.000040400</td><td>0.001199248</td><td>0.000043000</td><td>0.000198858</td><td>0.002019786</td><td>0.010361925</td><td>0.001073012</td><td>0.000168640</td><td>0.000699561</td><td>0.000127907</td><td>...        </td><td>0.000000000</td><td>0.000000000</td><td>0.000000000</td><td>0.000000000</td><td>0.000116016</td><td>0.000000000</td><td>0.000246070</td><td>0.000000000</td><td>0.000000000</td><td>0.000000000</td></tr>\n",
       "\t<tr><th scope=row>45</th><td>0.000000000</td><td>0.001091141</td><td>0.000000000</td><td>0.000000000</td><td>0.000669432</td><td>0.014184836</td><td>0.001166157</td><td>0.000000000</td><td>0.000736520</td><td>0.000075000</td><td>...        </td><td>0.000000000</td><td>0.000182949</td><td>0.000106257</td><td>0.000069000</td><td>0.000000000</td><td>0.000000000</td><td>0.000212008</td><td>0.000158738</td><td>0.000246199</td><td>0.000246686</td></tr>\n",
       "\t<tr><th scope=row>51</th><td>0.000000000</td><td>0.000133900</td><td>0.000087700</td><td>0.000244972</td><td>0.002354349</td><td>0.003708376</td><td>0.000635564</td><td>0.000122238</td><td>0.000779256</td><td>0.000229799</td><td>...        </td><td>0.000000000</td><td>0.000000000</td><td>0.000000000</td><td>0.000000000</td><td>0.000129536</td><td>0.000000000</td><td>0.000169727</td><td>0.000000000</td><td>0.000000000</td><td>0.000000000</td></tr>\n",
       "\t<tr><th scope=row>52</th><td>0.000000000</td><td>0.000899755</td><td>0.000000000</td><td>0.000352282</td><td>0.002044898</td><td>0.007739151</td><td>0.001038179</td><td>0.000122890</td><td>0.000862003</td><td>0.000168215</td><td>...        </td><td>0.000000000</td><td>0.000000000</td><td>0.000000000</td><td>0.000000000</td><td>0.000050900</td><td>0.000000000</td><td>0.000058600</td><td>0.000000000</td><td>0.000000000</td><td>0.000000000</td></tr>\n",
       "\t<tr><th scope=row>53</th><td>0.000000000</td><td>0.001434584</td><td>0.000000000</td><td>0.000000000</td><td>0.000654170</td><td>0.011247137</td><td>0.001359985</td><td>0.000051500</td><td>0.000780414</td><td>0.000161862</td><td>...        </td><td>0.000000000</td><td>0.000174508</td><td>0.000234414</td><td>0.000093500</td><td>0.000000000</td><td>0.000000000</td><td>0.000000000</td><td>0.000139678</td><td>0.000122343</td><td>0.000134707</td></tr>\n",
       "\t<tr><th scope=row>54</th><td>0.000000000</td><td>0.000926858</td><td>0.000043300</td><td>0.000157337</td><td>0.000965101</td><td>0.003185427</td><td>0.000840763</td><td>0.000053500</td><td>0.000657216</td><td>0.000168103</td><td>...        </td><td>0.000000000</td><td>0.000000000</td><td>0.000066600</td><td>0.000000000</td><td>0.000055500</td><td>0.000000000</td><td>0.000097900</td><td>0.000000000</td><td>0.000062900</td><td>0.000000000</td></tr>\n",
       "\t<tr><th scope=row>55</th><td>0.000000000</td><td>0.001930143</td><td>0.000000000</td><td>0.000331552</td><td>0.000882873</td><td>0.007915413</td><td>0.000943761</td><td>0.000047100</td><td>0.000688032</td><td>0.000139150</td><td>...        </td><td>0.000000000</td><td>0.000062500</td><td>0.000068200</td><td>0.000000000</td><td>0.000066500</td><td>0.000145597</td><td>0.000205320</td><td>0.000000000</td><td>0.000067800</td><td>0.000000000</td></tr>\n",
       "\t<tr><th scope=row>56</th><td>0.000285000</td><td>0.002422382</td><td>0.000041700</td><td>0.000151045</td><td>0.001535945</td><td>0.010253250</td><td>0.001013070</td><td>0.000091800</td><td>0.000563725</td><td>0.000121209</td><td>...        </td><td>0.000000000</td><td>0.000000000</td><td>0.000000000</td><td>0.000000000</td><td>0.000120679</td><td>0.000000000</td><td>0.000180477</td><td>0.000000000</td><td>0.000000000</td><td>0.000000000</td></tr>\n",
       "\t<tr><th scope=row>57</th><td>0.000000000</td><td>0.000798492</td><td>0.000000000</td><td>0.000000000</td><td>0.001547361</td><td>0.006947334</td><td>0.000839094</td><td>0.000159892</td><td>0.000649621</td><td>0.000212888</td><td>...        </td><td>0.000000000</td><td>0.000000000</td><td>0.000000000</td><td>0.000000000</td><td>0.000041300</td><td>0.000000000</td><td>0.000144946</td><td>0.000000000</td><td>0.000000000</td><td>0.000000000</td></tr>\n",
       "\t<tr><th scope=row>58</th><td>0.000000000</td><td>0.001686753</td><td>0.000036700</td><td>0.000173325</td><td>0.001953583</td><td>0.014913939</td><td>0.001210268</td><td>0.000102290</td><td>0.000771904</td><td>0.000194342</td><td>...        </td><td>0.000000000</td><td>0.000000000</td><td>0.000044400</td><td>0.000051200</td><td>0.000046800</td><td>0.000000000</td><td>0.000210275</td><td>0.000000000</td><td>0.000000000</td><td>0.000063400</td></tr>\n",
       "\t<tr><th scope=row>59</th><td>0.000000000</td><td>0.000433701</td><td>0.000000000</td><td>0.000000000</td><td>0.002382109</td><td>0.009114154</td><td>0.000897606</td><td>0.000063300</td><td>0.000869987</td><td>0.000121892</td><td>...        </td><td>0.000000000</td><td>0.000086900</td><td>0.000098000</td><td>0.000000000</td><td>0.000000000</td><td>0.000135970</td><td>0.000000000</td><td>0.000000000</td><td>0.000000000</td><td>0.000073400</td></tr>\n",
       "\t<tr><th scope=row>60</th><td>0.000000000</td><td>0.001974663</td><td>0.000000000</td><td>0.000299093</td><td>0.002152383</td><td>0.016192237</td><td>0.001290113</td><td>0.000134439</td><td>0.001125558</td><td>0.000301019</td><td>...        </td><td>0.000000000</td><td>0.000249614</td><td>0.000322983</td><td>0.000224382</td><td>0.000000000</td><td>0.000000000</td><td>0.000056900</td><td>0.000247118</td><td>0.000324736</td><td>0.000287640</td></tr>\n",
       "</tbody>\n",
       "</table>\n"
      ],
      "text/latex": [
       "\\begin{tabular}{r|llllllllllllllllllllllllllllllllllllllllllllllllllllllllllllll}\n",
       "  & X268.105\\_0.35 & X269.088\\_0.35 & X111.044\\_2.768 & X122.082\\_0.534 & X130.087\\_0.452 & X137.046\\_0.35 & X142.035\\_0.315 & X172.134\\_2.343 & X175.148\\_2.71 & X198.15\\_2.471 & ... & X705.141\\_2.339 & X776.148\\_2.398 & X776.253\\_2.398 & X776.411\\_2.398 & X792.329\\_2.764 & X811.309\\_2.773 & X811.31\\_2.767 & X819.211\\_2.398 & X819.322\\_2.398 & X819.378\\_2.399\\\\\n",
       "\\hline\n",
       "\t21 & 0.000000000 & 0.000291075 & 0.000157565 & 0.000507299 & 0.002120444 & 0.003301520 & 0.000807527 & 0.000201194 & 0.000582298 & 0.000190987 & ...         & 0.000133487 & 0.000050600 & 0.000000000 & 0.000000000 & 0.000294372 & 0.000000000 & 0.000282893 & 0.000000000 & 0.000054500 & 0.000000000\\\\\n",
       "\t22 & 0.000000000 & 0.001152732 & 0.000168404 & 0.000000000 & 0.002132402 & 0.005181907 & 0.001209674 & 0.000256615 & 0.000590771 & 0.000151750 & ...         & 0.000136490 & 0.000000000 & 0.000049100 & 0.000000000 & 0.000323449 & 0.000000000 & 0.000313258 & 0.000000000 & 0.000051400 & 0.000056500\\\\\n",
       "\t23 & 0.000228064 & 0.001298637 & 0.000041700 & 0.000286968 & 0.000630767 & 0.008109856 & 0.001176724 & 0.000189397 & 0.000540657 & 0.000125412 & ...         & 0.000049300 & 0.000000000 & 0.000000000 & 0.000000000 & 0.000111765 & 0.000000000 & 0.000199828 & 0.000000000 & 0.000000000 & 0.000000000\\\\\n",
       "\t24 & 0.000000000 & 0.001548175 & 0.000000000 & 0.000000000 & 0.002295338 & 0.006731196 & 0.001669337 & 0.000146759 & 0.000693313 & 0.000102044 & ...         & 0.000082100 & 0.000172190 & 0.000271134 & 0.000181289 & 0.000000000 & 0.000000000 & 0.000128677 & 0.000207812 & 0.000235970 & 0.000247892\\\\\n",
       "\t25 & 0.001402512 & 0.001330846 & 0.000000000 & 0.000557241 & 0.000850856 & 0.010376287 & 0.001853897 & 0.000280669 & 0.001099886 & 0.000208332 & ...         & 0.000000000 & 0.000164987 & 0.000085600 & 0.000000000 & 0.000000000 & 0.000000000 & 0.000000000 & 0.000170816 & 0.000089900 & 0.000098500\\\\\n",
       "\t26 & 0.000066600 & 0.000576991 & 0.000135891 & 0.000096700 & 0.000551945 & 0.005804324 & 0.000751357 & 0.000084300 & 0.000388142 & 0.000039100 & ...         & 0.000047200 & 0.000000000 & 0.000034800 & 0.000000000 & 0.000186446 & 0.000000000 & 0.000203554 & 0.000034600 & 0.000038100 & 0.000039900\\\\\n",
       "\t27 & 0.000000000 & 0.000000000 & 0.000099400 & 0.000304705 & 0.001991535 & 0.002451522 & 0.000606347 & 0.000121815 & 0.000574984 & 0.000130283 & ...         & 0.000000000 & 0.000000000 & 0.000000000 & 0.000000000 & 0.000187176 & 0.000096900 & 0.000279351 & 0.000000000 & 0.000000000 & 0.000000000\\\\\n",
       "\t28 & 0.000130514 & 0.001266298 & 0.000135900 & 0.000000000 & 0.002002601 & 0.007417040 & 0.001179984 & 0.000218109 & 0.000652266 & 0.000088100 & ...         & 0.000000000 & 0.000000000 & 0.000000000 & 0.000000000 & 0.000298368 & 0.000000000 & 0.000195352 & 0.000000000 & 0.000000000 & 0.000000000\\\\\n",
       "\t29 & 0.000105174 & 0.001269362 & 0.000080300 & 0.000000000 & 0.001456173 & 0.008622080 & 0.001034650 & 0.000097300 & 0.000467139 & 0.000127920 & ...         & 0.000043800 & 0.000000000 & 0.000041000 & 0.000000000 & 0.000092600 & 0.000000000 & 0.000155142 & 0.000000000 & 0.000000000 & 0.000038900\\\\\n",
       "\t30 & 0.000235018 & 0.001779202 & 0.000047800 & 0.000203930 & 0.000806398 & 0.011264946 & 0.001360412 & 0.000286000 & 0.000763308 & 0.000224575 & ...         & 0.000000000 & 0.000000000 & 0.000000000 & 0.000000000 & 0.000093100 & 0.000000000 & 0.000171101 & 0.000000000 & 0.000000000 & 0.000000000\\\\\n",
       "\t36 & 0.000245269 & 0.001312964 & 0.000097400 & 0.000304266 & 0.001737414 & 0.009111520 & 0.001069613 & 0.000175560 & 0.000713076 & 0.000164759 & ...         & 0.000000000 & 0.000000000 & 0.000000000 & 0.000000000 & 0.000229189 & 0.000000000 & 0.000129372 & 0.000000000 & 0.000059100 & 0.000000000\\\\\n",
       "\t37 & 0.000000000 & 0.001830019 & 0.000057600 & 0.000000000 & 0.001919767 & 0.007639890 & 0.001018652 & 0.000152516 & 0.000705221 & 0.000075700 & ...         & 0.000000000 & 0.000000000 & 0.000000000 & 0.000000000 & 0.000094400 & 0.000000000 & 0.000222285 & 0.000000000 & 0.000000000 & 0.000000000\\\\\n",
       "\t38 & 0.000000000 & 0.000923605 & 0.000000000 & 0.000000000 & 0.001712825 & 0.003460370 & 0.000914278 & 0.000146406 & 0.000711748 & 0.000182702 & ...         & 0.000000000 & 0.000063600 & 0.000075800 & 0.000049600 & 0.000000000 & 0.000000000 & 0.000105363 & 0.000079800 & 0.000074100 & 0.000082100\\\\\n",
       "\t39 & 0.000000000 & 0.001266730 & 0.000000000 & 0.000317244 & 0.001744048 & 0.008689645 & 0.001083146 & 0.000129103 & 0.000752695 & 0.000142179 & ...         & 0.000000000 & 0.000073800 & 0.000113037 & 0.000069800 & 0.000000000 & 0.000000000 & 0.000000000 & 0.000138988 & 0.000113093 & 0.000096800\\\\\n",
       "\t40 & 0.000123388 & 0.000531395 & 0.000057600 & 0.000000000 & 0.002151341 & 0.004393192 & 0.000967755 & 0.000274783 & 0.000800661 & 0.000169070 & ...         & 0.000000000 & 0.000000000 & 0.000000000 & 0.000000000 & 0.000103819 & 0.000000000 & 0.000199344 & 0.000000000 & 0.000000000 & 0.000000000\\\\\n",
       "\t41 & 0.000000000 & 0.000372451 & 0.000171649 & 0.000151070 & 0.002014297 & 0.008435946 & 0.001417468 & 0.000168342 & 0.000579613 & 0.000157488 & ...         & 0.000000000 & 0.000000000 & 0.000000000 & 0.000000000 & 0.000352920 & 0.000000000 & 0.000289495 & 0.000000000 & 0.000000000 & 0.000000000\\\\\n",
       "\t42 & 0.000000000 & 0.000990453 & 0.000115571 & 0.000162832 & 0.001528128 & 0.008433001 & 0.001007432 & 0.000168754 & 0.000541205 & 0.000069700 & ...         & 0.000000000 & 0.000000000 & 0.000000000 & 0.000000000 & 0.000241037 & 0.000000000 & 0.000267129 & 0.000000000 & 0.000000000 & 0.000000000\\\\\n",
       "\t43 & 0.000049200 & 0.001466376 & 0.000108086 & 0.000202684 & 0.001330234 & 0.007759698 & 0.000947792 & 0.000173910 & 0.000548099 & 0.000080100 & ...         & 0.000000000 & 0.000000000 & 0.000000000 & 0.000000000 & 0.000200199 & 0.000000000 & 0.000115958 & 0.000000000 & 0.000000000 & 0.000000000\\\\\n",
       "\t44 & 0.000040400 & 0.001199248 & 0.000043000 & 0.000198858 & 0.002019786 & 0.010361925 & 0.001073012 & 0.000168640 & 0.000699561 & 0.000127907 & ...         & 0.000000000 & 0.000000000 & 0.000000000 & 0.000000000 & 0.000116016 & 0.000000000 & 0.000246070 & 0.000000000 & 0.000000000 & 0.000000000\\\\\n",
       "\t45 & 0.000000000 & 0.001091141 & 0.000000000 & 0.000000000 & 0.000669432 & 0.014184836 & 0.001166157 & 0.000000000 & 0.000736520 & 0.000075000 & ...         & 0.000000000 & 0.000182949 & 0.000106257 & 0.000069000 & 0.000000000 & 0.000000000 & 0.000212008 & 0.000158738 & 0.000246199 & 0.000246686\\\\\n",
       "\t51 & 0.000000000 & 0.000133900 & 0.000087700 & 0.000244972 & 0.002354349 & 0.003708376 & 0.000635564 & 0.000122238 & 0.000779256 & 0.000229799 & ...         & 0.000000000 & 0.000000000 & 0.000000000 & 0.000000000 & 0.000129536 & 0.000000000 & 0.000169727 & 0.000000000 & 0.000000000 & 0.000000000\\\\\n",
       "\t52 & 0.000000000 & 0.000899755 & 0.000000000 & 0.000352282 & 0.002044898 & 0.007739151 & 0.001038179 & 0.000122890 & 0.000862003 & 0.000168215 & ...         & 0.000000000 & 0.000000000 & 0.000000000 & 0.000000000 & 0.000050900 & 0.000000000 & 0.000058600 & 0.000000000 & 0.000000000 & 0.000000000\\\\\n",
       "\t53 & 0.000000000 & 0.001434584 & 0.000000000 & 0.000000000 & 0.000654170 & 0.011247137 & 0.001359985 & 0.000051500 & 0.000780414 & 0.000161862 & ...         & 0.000000000 & 0.000174508 & 0.000234414 & 0.000093500 & 0.000000000 & 0.000000000 & 0.000000000 & 0.000139678 & 0.000122343 & 0.000134707\\\\\n",
       "\t54 & 0.000000000 & 0.000926858 & 0.000043300 & 0.000157337 & 0.000965101 & 0.003185427 & 0.000840763 & 0.000053500 & 0.000657216 & 0.000168103 & ...         & 0.000000000 & 0.000000000 & 0.000066600 & 0.000000000 & 0.000055500 & 0.000000000 & 0.000097900 & 0.000000000 & 0.000062900 & 0.000000000\\\\\n",
       "\t55 & 0.000000000 & 0.001930143 & 0.000000000 & 0.000331552 & 0.000882873 & 0.007915413 & 0.000943761 & 0.000047100 & 0.000688032 & 0.000139150 & ...         & 0.000000000 & 0.000062500 & 0.000068200 & 0.000000000 & 0.000066500 & 0.000145597 & 0.000205320 & 0.000000000 & 0.000067800 & 0.000000000\\\\\n",
       "\t56 & 0.000285000 & 0.002422382 & 0.000041700 & 0.000151045 & 0.001535945 & 0.010253250 & 0.001013070 & 0.000091800 & 0.000563725 & 0.000121209 & ...         & 0.000000000 & 0.000000000 & 0.000000000 & 0.000000000 & 0.000120679 & 0.000000000 & 0.000180477 & 0.000000000 & 0.000000000 & 0.000000000\\\\\n",
       "\t57 & 0.000000000 & 0.000798492 & 0.000000000 & 0.000000000 & 0.001547361 & 0.006947334 & 0.000839094 & 0.000159892 & 0.000649621 & 0.000212888 & ...         & 0.000000000 & 0.000000000 & 0.000000000 & 0.000000000 & 0.000041300 & 0.000000000 & 0.000144946 & 0.000000000 & 0.000000000 & 0.000000000\\\\\n",
       "\t58 & 0.000000000 & 0.001686753 & 0.000036700 & 0.000173325 & 0.001953583 & 0.014913939 & 0.001210268 & 0.000102290 & 0.000771904 & 0.000194342 & ...         & 0.000000000 & 0.000000000 & 0.000044400 & 0.000051200 & 0.000046800 & 0.000000000 & 0.000210275 & 0.000000000 & 0.000000000 & 0.000063400\\\\\n",
       "\t59 & 0.000000000 & 0.000433701 & 0.000000000 & 0.000000000 & 0.002382109 & 0.009114154 & 0.000897606 & 0.000063300 & 0.000869987 & 0.000121892 & ...         & 0.000000000 & 0.000086900 & 0.000098000 & 0.000000000 & 0.000000000 & 0.000135970 & 0.000000000 & 0.000000000 & 0.000000000 & 0.000073400\\\\\n",
       "\t60 & 0.000000000 & 0.001974663 & 0.000000000 & 0.000299093 & 0.002152383 & 0.016192237 & 0.001290113 & 0.000134439 & 0.001125558 & 0.000301019 & ...         & 0.000000000 & 0.000249614 & 0.000322983 & 0.000224382 & 0.000000000 & 0.000000000 & 0.000056900 & 0.000247118 & 0.000324736 & 0.000287640\\\\\n",
       "\\end{tabular}\n"
      ],
      "text/markdown": [
       "\n",
       "| <!--/--> | X268.105_0.35 | X269.088_0.35 | X111.044_2.768 | X122.082_0.534 | X130.087_0.452 | X137.046_0.35 | X142.035_0.315 | X172.134_2.343 | X175.148_2.71 | X198.15_2.471 | ... | X705.141_2.339 | X776.148_2.398 | X776.253_2.398 | X776.411_2.398 | X792.329_2.764 | X811.309_2.773 | X811.31_2.767 | X819.211_2.398 | X819.322_2.398 | X819.378_2.399 |\n",
       "|---|---|---|---|---|---|---|---|---|---|---|---|---|---|---|---|---|---|---|---|---|---|\n",
       "| 21 | 0.000000000 | 0.000291075 | 0.000157565 | 0.000507299 | 0.002120444 | 0.003301520 | 0.000807527 | 0.000201194 | 0.000582298 | 0.000190987 | ...         | 0.000133487 | 0.000050600 | 0.000000000 | 0.000000000 | 0.000294372 | 0.000000000 | 0.000282893 | 0.000000000 | 0.000054500 | 0.000000000 |\n",
       "| 22 | 0.000000000 | 0.001152732 | 0.000168404 | 0.000000000 | 0.002132402 | 0.005181907 | 0.001209674 | 0.000256615 | 0.000590771 | 0.000151750 | ...         | 0.000136490 | 0.000000000 | 0.000049100 | 0.000000000 | 0.000323449 | 0.000000000 | 0.000313258 | 0.000000000 | 0.000051400 | 0.000056500 |\n",
       "| 23 | 0.000228064 | 0.001298637 | 0.000041700 | 0.000286968 | 0.000630767 | 0.008109856 | 0.001176724 | 0.000189397 | 0.000540657 | 0.000125412 | ...         | 0.000049300 | 0.000000000 | 0.000000000 | 0.000000000 | 0.000111765 | 0.000000000 | 0.000199828 | 0.000000000 | 0.000000000 | 0.000000000 |\n",
       "| 24 | 0.000000000 | 0.001548175 | 0.000000000 | 0.000000000 | 0.002295338 | 0.006731196 | 0.001669337 | 0.000146759 | 0.000693313 | 0.000102044 | ...         | 0.000082100 | 0.000172190 | 0.000271134 | 0.000181289 | 0.000000000 | 0.000000000 | 0.000128677 | 0.000207812 | 0.000235970 | 0.000247892 |\n",
       "| 25 | 0.001402512 | 0.001330846 | 0.000000000 | 0.000557241 | 0.000850856 | 0.010376287 | 0.001853897 | 0.000280669 | 0.001099886 | 0.000208332 | ...         | 0.000000000 | 0.000164987 | 0.000085600 | 0.000000000 | 0.000000000 | 0.000000000 | 0.000000000 | 0.000170816 | 0.000089900 | 0.000098500 |\n",
       "| 26 | 0.000066600 | 0.000576991 | 0.000135891 | 0.000096700 | 0.000551945 | 0.005804324 | 0.000751357 | 0.000084300 | 0.000388142 | 0.000039100 | ...         | 0.000047200 | 0.000000000 | 0.000034800 | 0.000000000 | 0.000186446 | 0.000000000 | 0.000203554 | 0.000034600 | 0.000038100 | 0.000039900 |\n",
       "| 27 | 0.000000000 | 0.000000000 | 0.000099400 | 0.000304705 | 0.001991535 | 0.002451522 | 0.000606347 | 0.000121815 | 0.000574984 | 0.000130283 | ...         | 0.000000000 | 0.000000000 | 0.000000000 | 0.000000000 | 0.000187176 | 0.000096900 | 0.000279351 | 0.000000000 | 0.000000000 | 0.000000000 |\n",
       "| 28 | 0.000130514 | 0.001266298 | 0.000135900 | 0.000000000 | 0.002002601 | 0.007417040 | 0.001179984 | 0.000218109 | 0.000652266 | 0.000088100 | ...         | 0.000000000 | 0.000000000 | 0.000000000 | 0.000000000 | 0.000298368 | 0.000000000 | 0.000195352 | 0.000000000 | 0.000000000 | 0.000000000 |\n",
       "| 29 | 0.000105174 | 0.001269362 | 0.000080300 | 0.000000000 | 0.001456173 | 0.008622080 | 0.001034650 | 0.000097300 | 0.000467139 | 0.000127920 | ...         | 0.000043800 | 0.000000000 | 0.000041000 | 0.000000000 | 0.000092600 | 0.000000000 | 0.000155142 | 0.000000000 | 0.000000000 | 0.000038900 |\n",
       "| 30 | 0.000235018 | 0.001779202 | 0.000047800 | 0.000203930 | 0.000806398 | 0.011264946 | 0.001360412 | 0.000286000 | 0.000763308 | 0.000224575 | ...         | 0.000000000 | 0.000000000 | 0.000000000 | 0.000000000 | 0.000093100 | 0.000000000 | 0.000171101 | 0.000000000 | 0.000000000 | 0.000000000 |\n",
       "| 36 | 0.000245269 | 0.001312964 | 0.000097400 | 0.000304266 | 0.001737414 | 0.009111520 | 0.001069613 | 0.000175560 | 0.000713076 | 0.000164759 | ...         | 0.000000000 | 0.000000000 | 0.000000000 | 0.000000000 | 0.000229189 | 0.000000000 | 0.000129372 | 0.000000000 | 0.000059100 | 0.000000000 |\n",
       "| 37 | 0.000000000 | 0.001830019 | 0.000057600 | 0.000000000 | 0.001919767 | 0.007639890 | 0.001018652 | 0.000152516 | 0.000705221 | 0.000075700 | ...         | 0.000000000 | 0.000000000 | 0.000000000 | 0.000000000 | 0.000094400 | 0.000000000 | 0.000222285 | 0.000000000 | 0.000000000 | 0.000000000 |\n",
       "| 38 | 0.000000000 | 0.000923605 | 0.000000000 | 0.000000000 | 0.001712825 | 0.003460370 | 0.000914278 | 0.000146406 | 0.000711748 | 0.000182702 | ...         | 0.000000000 | 0.000063600 | 0.000075800 | 0.000049600 | 0.000000000 | 0.000000000 | 0.000105363 | 0.000079800 | 0.000074100 | 0.000082100 |\n",
       "| 39 | 0.000000000 | 0.001266730 | 0.000000000 | 0.000317244 | 0.001744048 | 0.008689645 | 0.001083146 | 0.000129103 | 0.000752695 | 0.000142179 | ...         | 0.000000000 | 0.000073800 | 0.000113037 | 0.000069800 | 0.000000000 | 0.000000000 | 0.000000000 | 0.000138988 | 0.000113093 | 0.000096800 |\n",
       "| 40 | 0.000123388 | 0.000531395 | 0.000057600 | 0.000000000 | 0.002151341 | 0.004393192 | 0.000967755 | 0.000274783 | 0.000800661 | 0.000169070 | ...         | 0.000000000 | 0.000000000 | 0.000000000 | 0.000000000 | 0.000103819 | 0.000000000 | 0.000199344 | 0.000000000 | 0.000000000 | 0.000000000 |\n",
       "| 41 | 0.000000000 | 0.000372451 | 0.000171649 | 0.000151070 | 0.002014297 | 0.008435946 | 0.001417468 | 0.000168342 | 0.000579613 | 0.000157488 | ...         | 0.000000000 | 0.000000000 | 0.000000000 | 0.000000000 | 0.000352920 | 0.000000000 | 0.000289495 | 0.000000000 | 0.000000000 | 0.000000000 |\n",
       "| 42 | 0.000000000 | 0.000990453 | 0.000115571 | 0.000162832 | 0.001528128 | 0.008433001 | 0.001007432 | 0.000168754 | 0.000541205 | 0.000069700 | ...         | 0.000000000 | 0.000000000 | 0.000000000 | 0.000000000 | 0.000241037 | 0.000000000 | 0.000267129 | 0.000000000 | 0.000000000 | 0.000000000 |\n",
       "| 43 | 0.000049200 | 0.001466376 | 0.000108086 | 0.000202684 | 0.001330234 | 0.007759698 | 0.000947792 | 0.000173910 | 0.000548099 | 0.000080100 | ...         | 0.000000000 | 0.000000000 | 0.000000000 | 0.000000000 | 0.000200199 | 0.000000000 | 0.000115958 | 0.000000000 | 0.000000000 | 0.000000000 |\n",
       "| 44 | 0.000040400 | 0.001199248 | 0.000043000 | 0.000198858 | 0.002019786 | 0.010361925 | 0.001073012 | 0.000168640 | 0.000699561 | 0.000127907 | ...         | 0.000000000 | 0.000000000 | 0.000000000 | 0.000000000 | 0.000116016 | 0.000000000 | 0.000246070 | 0.000000000 | 0.000000000 | 0.000000000 |\n",
       "| 45 | 0.000000000 | 0.001091141 | 0.000000000 | 0.000000000 | 0.000669432 | 0.014184836 | 0.001166157 | 0.000000000 | 0.000736520 | 0.000075000 | ...         | 0.000000000 | 0.000182949 | 0.000106257 | 0.000069000 | 0.000000000 | 0.000000000 | 0.000212008 | 0.000158738 | 0.000246199 | 0.000246686 |\n",
       "| 51 | 0.000000000 | 0.000133900 | 0.000087700 | 0.000244972 | 0.002354349 | 0.003708376 | 0.000635564 | 0.000122238 | 0.000779256 | 0.000229799 | ...         | 0.000000000 | 0.000000000 | 0.000000000 | 0.000000000 | 0.000129536 | 0.000000000 | 0.000169727 | 0.000000000 | 0.000000000 | 0.000000000 |\n",
       "| 52 | 0.000000000 | 0.000899755 | 0.000000000 | 0.000352282 | 0.002044898 | 0.007739151 | 0.001038179 | 0.000122890 | 0.000862003 | 0.000168215 | ...         | 0.000000000 | 0.000000000 | 0.000000000 | 0.000000000 | 0.000050900 | 0.000000000 | 0.000058600 | 0.000000000 | 0.000000000 | 0.000000000 |\n",
       "| 53 | 0.000000000 | 0.001434584 | 0.000000000 | 0.000000000 | 0.000654170 | 0.011247137 | 0.001359985 | 0.000051500 | 0.000780414 | 0.000161862 | ...         | 0.000000000 | 0.000174508 | 0.000234414 | 0.000093500 | 0.000000000 | 0.000000000 | 0.000000000 | 0.000139678 | 0.000122343 | 0.000134707 |\n",
       "| 54 | 0.000000000 | 0.000926858 | 0.000043300 | 0.000157337 | 0.000965101 | 0.003185427 | 0.000840763 | 0.000053500 | 0.000657216 | 0.000168103 | ...         | 0.000000000 | 0.000000000 | 0.000066600 | 0.000000000 | 0.000055500 | 0.000000000 | 0.000097900 | 0.000000000 | 0.000062900 | 0.000000000 |\n",
       "| 55 | 0.000000000 | 0.001930143 | 0.000000000 | 0.000331552 | 0.000882873 | 0.007915413 | 0.000943761 | 0.000047100 | 0.000688032 | 0.000139150 | ...         | 0.000000000 | 0.000062500 | 0.000068200 | 0.000000000 | 0.000066500 | 0.000145597 | 0.000205320 | 0.000000000 | 0.000067800 | 0.000000000 |\n",
       "| 56 | 0.000285000 | 0.002422382 | 0.000041700 | 0.000151045 | 0.001535945 | 0.010253250 | 0.001013070 | 0.000091800 | 0.000563725 | 0.000121209 | ...         | 0.000000000 | 0.000000000 | 0.000000000 | 0.000000000 | 0.000120679 | 0.000000000 | 0.000180477 | 0.000000000 | 0.000000000 | 0.000000000 |\n",
       "| 57 | 0.000000000 | 0.000798492 | 0.000000000 | 0.000000000 | 0.001547361 | 0.006947334 | 0.000839094 | 0.000159892 | 0.000649621 | 0.000212888 | ...         | 0.000000000 | 0.000000000 | 0.000000000 | 0.000000000 | 0.000041300 | 0.000000000 | 0.000144946 | 0.000000000 | 0.000000000 | 0.000000000 |\n",
       "| 58 | 0.000000000 | 0.001686753 | 0.000036700 | 0.000173325 | 0.001953583 | 0.014913939 | 0.001210268 | 0.000102290 | 0.000771904 | 0.000194342 | ...         | 0.000000000 | 0.000000000 | 0.000044400 | 0.000051200 | 0.000046800 | 0.000000000 | 0.000210275 | 0.000000000 | 0.000000000 | 0.000063400 |\n",
       "| 59 | 0.000000000 | 0.000433701 | 0.000000000 | 0.000000000 | 0.002382109 | 0.009114154 | 0.000897606 | 0.000063300 | 0.000869987 | 0.000121892 | ...         | 0.000000000 | 0.000086900 | 0.000098000 | 0.000000000 | 0.000000000 | 0.000135970 | 0.000000000 | 0.000000000 | 0.000000000 | 0.000073400 |\n",
       "| 60 | 0.000000000 | 0.001974663 | 0.000000000 | 0.000299093 | 0.002152383 | 0.016192237 | 0.001290113 | 0.000134439 | 0.001125558 | 0.000301019 | ...         | 0.000000000 | 0.000249614 | 0.000322983 | 0.000224382 | 0.000000000 | 0.000000000 | 0.000056900 | 0.000247118 | 0.000324736 | 0.000287640 |\n",
       "\n"
      ],
      "text/plain": [
       "   X268.105_0.35 X269.088_0.35 X111.044_2.768 X122.082_0.534 X130.087_0.452\n",
       "21 0.000000000   0.000291075   0.000157565    0.000507299    0.002120444   \n",
       "22 0.000000000   0.001152732   0.000168404    0.000000000    0.002132402   \n",
       "23 0.000228064   0.001298637   0.000041700    0.000286968    0.000630767   \n",
       "24 0.000000000   0.001548175   0.000000000    0.000000000    0.002295338   \n",
       "25 0.001402512   0.001330846   0.000000000    0.000557241    0.000850856   \n",
       "26 0.000066600   0.000576991   0.000135891    0.000096700    0.000551945   \n",
       "27 0.000000000   0.000000000   0.000099400    0.000304705    0.001991535   \n",
       "28 0.000130514   0.001266298   0.000135900    0.000000000    0.002002601   \n",
       "29 0.000105174   0.001269362   0.000080300    0.000000000    0.001456173   \n",
       "30 0.000235018   0.001779202   0.000047800    0.000203930    0.000806398   \n",
       "36 0.000245269   0.001312964   0.000097400    0.000304266    0.001737414   \n",
       "37 0.000000000   0.001830019   0.000057600    0.000000000    0.001919767   \n",
       "38 0.000000000   0.000923605   0.000000000    0.000000000    0.001712825   \n",
       "39 0.000000000   0.001266730   0.000000000    0.000317244    0.001744048   \n",
       "40 0.000123388   0.000531395   0.000057600    0.000000000    0.002151341   \n",
       "41 0.000000000   0.000372451   0.000171649    0.000151070    0.002014297   \n",
       "42 0.000000000   0.000990453   0.000115571    0.000162832    0.001528128   \n",
       "43 0.000049200   0.001466376   0.000108086    0.000202684    0.001330234   \n",
       "44 0.000040400   0.001199248   0.000043000    0.000198858    0.002019786   \n",
       "45 0.000000000   0.001091141   0.000000000    0.000000000    0.000669432   \n",
       "51 0.000000000   0.000133900   0.000087700    0.000244972    0.002354349   \n",
       "52 0.000000000   0.000899755   0.000000000    0.000352282    0.002044898   \n",
       "53 0.000000000   0.001434584   0.000000000    0.000000000    0.000654170   \n",
       "54 0.000000000   0.000926858   0.000043300    0.000157337    0.000965101   \n",
       "55 0.000000000   0.001930143   0.000000000    0.000331552    0.000882873   \n",
       "56 0.000285000   0.002422382   0.000041700    0.000151045    0.001535945   \n",
       "57 0.000000000   0.000798492   0.000000000    0.000000000    0.001547361   \n",
       "58 0.000000000   0.001686753   0.000036700    0.000173325    0.001953583   \n",
       "59 0.000000000   0.000433701   0.000000000    0.000000000    0.002382109   \n",
       "60 0.000000000   0.001974663   0.000000000    0.000299093    0.002152383   \n",
       "   X137.046_0.35 X142.035_0.315 X172.134_2.343 X175.148_2.71 X198.15_2.471 ...\n",
       "21 0.003301520   0.000807527    0.000201194    0.000582298   0.000190987   ...\n",
       "22 0.005181907   0.001209674    0.000256615    0.000590771   0.000151750   ...\n",
       "23 0.008109856   0.001176724    0.000189397    0.000540657   0.000125412   ...\n",
       "24 0.006731196   0.001669337    0.000146759    0.000693313   0.000102044   ...\n",
       "25 0.010376287   0.001853897    0.000280669    0.001099886   0.000208332   ...\n",
       "26 0.005804324   0.000751357    0.000084300    0.000388142   0.000039100   ...\n",
       "27 0.002451522   0.000606347    0.000121815    0.000574984   0.000130283   ...\n",
       "28 0.007417040   0.001179984    0.000218109    0.000652266   0.000088100   ...\n",
       "29 0.008622080   0.001034650    0.000097300    0.000467139   0.000127920   ...\n",
       "30 0.011264946   0.001360412    0.000286000    0.000763308   0.000224575   ...\n",
       "36 0.009111520   0.001069613    0.000175560    0.000713076   0.000164759   ...\n",
       "37 0.007639890   0.001018652    0.000152516    0.000705221   0.000075700   ...\n",
       "38 0.003460370   0.000914278    0.000146406    0.000711748   0.000182702   ...\n",
       "39 0.008689645   0.001083146    0.000129103    0.000752695   0.000142179   ...\n",
       "40 0.004393192   0.000967755    0.000274783    0.000800661   0.000169070   ...\n",
       "41 0.008435946   0.001417468    0.000168342    0.000579613   0.000157488   ...\n",
       "42 0.008433001   0.001007432    0.000168754    0.000541205   0.000069700   ...\n",
       "43 0.007759698   0.000947792    0.000173910    0.000548099   0.000080100   ...\n",
       "44 0.010361925   0.001073012    0.000168640    0.000699561   0.000127907   ...\n",
       "45 0.014184836   0.001166157    0.000000000    0.000736520   0.000075000   ...\n",
       "51 0.003708376   0.000635564    0.000122238    0.000779256   0.000229799   ...\n",
       "52 0.007739151   0.001038179    0.000122890    0.000862003   0.000168215   ...\n",
       "53 0.011247137   0.001359985    0.000051500    0.000780414   0.000161862   ...\n",
       "54 0.003185427   0.000840763    0.000053500    0.000657216   0.000168103   ...\n",
       "55 0.007915413   0.000943761    0.000047100    0.000688032   0.000139150   ...\n",
       "56 0.010253250   0.001013070    0.000091800    0.000563725   0.000121209   ...\n",
       "57 0.006947334   0.000839094    0.000159892    0.000649621   0.000212888   ...\n",
       "58 0.014913939   0.001210268    0.000102290    0.000771904   0.000194342   ...\n",
       "59 0.009114154   0.000897606    0.000063300    0.000869987   0.000121892   ...\n",
       "60 0.016192237   0.001290113    0.000134439    0.001125558   0.000301019   ...\n",
       "   X705.141_2.339 X776.148_2.398 X776.253_2.398 X776.411_2.398 X792.329_2.764\n",
       "21 0.000133487    0.000050600    0.000000000    0.000000000    0.000294372   \n",
       "22 0.000136490    0.000000000    0.000049100    0.000000000    0.000323449   \n",
       "23 0.000049300    0.000000000    0.000000000    0.000000000    0.000111765   \n",
       "24 0.000082100    0.000172190    0.000271134    0.000181289    0.000000000   \n",
       "25 0.000000000    0.000164987    0.000085600    0.000000000    0.000000000   \n",
       "26 0.000047200    0.000000000    0.000034800    0.000000000    0.000186446   \n",
       "27 0.000000000    0.000000000    0.000000000    0.000000000    0.000187176   \n",
       "28 0.000000000    0.000000000    0.000000000    0.000000000    0.000298368   \n",
       "29 0.000043800    0.000000000    0.000041000    0.000000000    0.000092600   \n",
       "30 0.000000000    0.000000000    0.000000000    0.000000000    0.000093100   \n",
       "36 0.000000000    0.000000000    0.000000000    0.000000000    0.000229189   \n",
       "37 0.000000000    0.000000000    0.000000000    0.000000000    0.000094400   \n",
       "38 0.000000000    0.000063600    0.000075800    0.000049600    0.000000000   \n",
       "39 0.000000000    0.000073800    0.000113037    0.000069800    0.000000000   \n",
       "40 0.000000000    0.000000000    0.000000000    0.000000000    0.000103819   \n",
       "41 0.000000000    0.000000000    0.000000000    0.000000000    0.000352920   \n",
       "42 0.000000000    0.000000000    0.000000000    0.000000000    0.000241037   \n",
       "43 0.000000000    0.000000000    0.000000000    0.000000000    0.000200199   \n",
       "44 0.000000000    0.000000000    0.000000000    0.000000000    0.000116016   \n",
       "45 0.000000000    0.000182949    0.000106257    0.000069000    0.000000000   \n",
       "51 0.000000000    0.000000000    0.000000000    0.000000000    0.000129536   \n",
       "52 0.000000000    0.000000000    0.000000000    0.000000000    0.000050900   \n",
       "53 0.000000000    0.000174508    0.000234414    0.000093500    0.000000000   \n",
       "54 0.000000000    0.000000000    0.000066600    0.000000000    0.000055500   \n",
       "55 0.000000000    0.000062500    0.000068200    0.000000000    0.000066500   \n",
       "56 0.000000000    0.000000000    0.000000000    0.000000000    0.000120679   \n",
       "57 0.000000000    0.000000000    0.000000000    0.000000000    0.000041300   \n",
       "58 0.000000000    0.000000000    0.000044400    0.000051200    0.000046800   \n",
       "59 0.000000000    0.000086900    0.000098000    0.000000000    0.000000000   \n",
       "60 0.000000000    0.000249614    0.000322983    0.000224382    0.000000000   \n",
       "   X811.309_2.773 X811.31_2.767 X819.211_2.398 X819.322_2.398 X819.378_2.399\n",
       "21 0.000000000    0.000282893   0.000000000    0.000054500    0.000000000   \n",
       "22 0.000000000    0.000313258   0.000000000    0.000051400    0.000056500   \n",
       "23 0.000000000    0.000199828   0.000000000    0.000000000    0.000000000   \n",
       "24 0.000000000    0.000128677   0.000207812    0.000235970    0.000247892   \n",
       "25 0.000000000    0.000000000   0.000170816    0.000089900    0.000098500   \n",
       "26 0.000000000    0.000203554   0.000034600    0.000038100    0.000039900   \n",
       "27 0.000096900    0.000279351   0.000000000    0.000000000    0.000000000   \n",
       "28 0.000000000    0.000195352   0.000000000    0.000000000    0.000000000   \n",
       "29 0.000000000    0.000155142   0.000000000    0.000000000    0.000038900   \n",
       "30 0.000000000    0.000171101   0.000000000    0.000000000    0.000000000   \n",
       "36 0.000000000    0.000129372   0.000000000    0.000059100    0.000000000   \n",
       "37 0.000000000    0.000222285   0.000000000    0.000000000    0.000000000   \n",
       "38 0.000000000    0.000105363   0.000079800    0.000074100    0.000082100   \n",
       "39 0.000000000    0.000000000   0.000138988    0.000113093    0.000096800   \n",
       "40 0.000000000    0.000199344   0.000000000    0.000000000    0.000000000   \n",
       "41 0.000000000    0.000289495   0.000000000    0.000000000    0.000000000   \n",
       "42 0.000000000    0.000267129   0.000000000    0.000000000    0.000000000   \n",
       "43 0.000000000    0.000115958   0.000000000    0.000000000    0.000000000   \n",
       "44 0.000000000    0.000246070   0.000000000    0.000000000    0.000000000   \n",
       "45 0.000000000    0.000212008   0.000158738    0.000246199    0.000246686   \n",
       "51 0.000000000    0.000169727   0.000000000    0.000000000    0.000000000   \n",
       "52 0.000000000    0.000058600   0.000000000    0.000000000    0.000000000   \n",
       "53 0.000000000    0.000000000   0.000139678    0.000122343    0.000134707   \n",
       "54 0.000000000    0.000097900   0.000000000    0.000062900    0.000000000   \n",
       "55 0.000145597    0.000205320   0.000000000    0.000067800    0.000000000   \n",
       "56 0.000000000    0.000180477   0.000000000    0.000000000    0.000000000   \n",
       "57 0.000000000    0.000144946   0.000000000    0.000000000    0.000000000   \n",
       "58 0.000000000    0.000210275   0.000000000    0.000000000    0.000063400   \n",
       "59 0.000135970    0.000000000   0.000000000    0.000000000    0.000073400   \n",
       "60 0.000000000    0.000056900   0.000247118    0.000324736    0.000287640   "
      ]
     },
     "metadata": {},
     "output_type": "display_data"
    },
    {
     "data": {
      "text/html": [
       "<table>\n",
       "<thead><tr><th></th><th scope=col>filename</th><th scope=col>MouseID</th><th scope=col>Treatmentgroup</th><th scope=col>DPI</th><th scope=col>organ</th><th scope=col>well_position</th><th scope=col>plate</th><th scope=col>X268.105_0.35</th><th scope=col>X269.088_0.35</th><th scope=col>X111.044_2.768</th><th scope=col>...</th><th scope=col>X705.141_2.339</th><th scope=col>X776.148_2.398</th><th scope=col>X776.253_2.398</th><th scope=col>X776.411_2.398</th><th scope=col>X792.329_2.764</th><th scope=col>X811.309_2.773</th><th scope=col>X811.31_2.767</th><th scope=col>X819.211_2.398</th><th scope=col>X819.322_2.398</th><th scope=col>X819.378_2.399</th></tr></thead>\n",
       "<tbody>\n",
       "\t<tr><th scope=row>21</th><td>X611_Group9_142dpi_RV_top_181_G_B9_P136.mzXML </td><td>611                                           </td><td>Group9                                        </td><td>142dpi                                        </td><td>RV_top                                        </td><td>B9                                            </td><td>P136                                          </td><td>0.000000000                                   </td><td>0.000291075                                   </td><td>0.000157565                                   </td><td>...                                           </td><td>0.000133487                                   </td><td>0.000050600                                   </td><td>0.000000000                                   </td><td>0.000000000                                   </td><td>0.000294372                                   </td><td>0                                             </td><td>0.000282893                                   </td><td>0.000000000                                   </td><td>0.00005450                                    </td><td>0.000000000                                   </td></tr>\n",
       "\t<tr><th scope=row>22</th><td>X612_Group9_142dpi_RV_top_182_G_B10_P136.mzXML</td><td>612                                           </td><td>Group9                                        </td><td>142dpi                                        </td><td>RV_top                                        </td><td>B10                                           </td><td>P136                                          </td><td>0.000000000                                   </td><td>0.001152732                                   </td><td>0.000168404                                   </td><td>...                                           </td><td>0.000136490                                   </td><td>0.000000000                                   </td><td>0.000049100                                   </td><td>0.000000000                                   </td><td>0.000323449                                   </td><td>0                                             </td><td>0.000313258                                   </td><td>0.000000000                                   </td><td>0.00005140                                    </td><td>0.000056500                                   </td></tr>\n",
       "\t<tr><th scope=row>23</th><td>X613_Group9_142dpi_RV_top_183_G_B11_P136.mzXML</td><td>613                                           </td><td>Group9                                        </td><td>142dpi                                        </td><td>RV_top                                        </td><td>B11                                           </td><td>P136                                          </td><td>0.000228064                                   </td><td>0.001298637                                   </td><td>0.000041700                                   </td><td>...                                           </td><td>0.000049300                                   </td><td>0.000000000                                   </td><td>0.000000000                                   </td><td>0.000000000                                   </td><td>0.000111765                                   </td><td>0                                             </td><td>0.000199828                                   </td><td>0.000000000                                   </td><td>0.00000000                                    </td><td>0.000000000                                   </td></tr>\n",
       "\t<tr><th scope=row>24</th><td>X614_Group9_142dpi_RV_top_184_G_B12_P136.mzXML</td><td>614                                           </td><td>Group9                                        </td><td>142dpi                                        </td><td>RV_top                                        </td><td>B12                                           </td><td>P136                                          </td><td>0.000000000                                   </td><td>0.001548175                                   </td><td>0.000000000                                   </td><td>...                                           </td><td>0.000082100                                   </td><td>0.000172190                                   </td><td>0.000271134                                   </td><td>0.000181289                                   </td><td>0.000000000                                   </td><td>0                                             </td><td>0.000128677                                   </td><td>0.000207812                                   </td><td>0.00023597                                    </td><td>0.000247892                                   </td></tr>\n",
       "\t<tr><th scope=row>25</th><td>X615_Group9_142dpi_RV_top_185_G_C1_P136.mzXML </td><td>615                                           </td><td>Group9                                        </td><td>142dpi                                        </td><td>RV_top                                        </td><td>C1                                            </td><td>P136                                          </td><td>0.001402512                                   </td><td>0.001330846                                   </td><td>0.000000000                                   </td><td>...                                           </td><td>0.000000000                                   </td><td>0.000164987                                   </td><td>0.000085600                                   </td><td>0.000000000                                   </td><td>0.000000000                                   </td><td>0                                             </td><td>0.000000000                                   </td><td>0.000170816                                   </td><td>0.00008990                                    </td><td>0.000098500                                   </td></tr>\n",
       "\t<tr><th scope=row>26</th><td>X631_Group15_142dpi_RV_top_191_G_C7_P136.mzXML</td><td>631                                           </td><td>Group15                                       </td><td>142dpi                                        </td><td>RV_top                                        </td><td>C7                                            </td><td>P136                                          </td><td>0.000066600                                   </td><td>0.000576991                                   </td><td>0.000135891                                   </td><td>...                                           </td><td>0.000047200                                   </td><td>0.000000000                                   </td><td>0.000034800                                   </td><td>0.000000000                                   </td><td>0.000186446                                   </td><td>0                                             </td><td>0.000203554                                   </td><td>0.000034600                                   </td><td>0.00003810                                    </td><td>0.000039900                                   </td></tr>\n",
       "</tbody>\n",
       "</table>\n"
      ],
      "text/latex": [
       "\\begin{tabular}{r|lllllllllllllllllllllllllllllllllllllllllllllllllllllllllllllllllllll}\n",
       "  & filename & MouseID & Treatmentgroup & DPI & organ & well\\_position & plate & X268.105\\_0.35 & X269.088\\_0.35 & X111.044\\_2.768 & ... & X705.141\\_2.339 & X776.148\\_2.398 & X776.253\\_2.398 & X776.411\\_2.398 & X792.329\\_2.764 & X811.309\\_2.773 & X811.31\\_2.767 & X819.211\\_2.398 & X819.322\\_2.398 & X819.378\\_2.399\\\\\n",
       "\\hline\n",
       "\t21 & X611\\_Group9\\_142dpi\\_RV\\_top\\_181\\_G\\_B9\\_P136.mzXML  & 611                                                            & Group9                                                         & 142dpi                                                         & RV\\_top                                                       & B9                                                             & P136                                                           & 0.000000000                                                    & 0.000291075                                                    & 0.000157565                                                    & ...                                                            & 0.000133487                                                    & 0.000050600                                                    & 0.000000000                                                    & 0.000000000                                                    & 0.000294372                                                    & 0                                                              & 0.000282893                                                    & 0.000000000                                                    & 0.00005450                                                     & 0.000000000                                                   \\\\\n",
       "\t22 & X612\\_Group9\\_142dpi\\_RV\\_top\\_182\\_G\\_B10\\_P136.mzXML & 612                                                            & Group9                                                         & 142dpi                                                         & RV\\_top                                                       & B10                                                            & P136                                                           & 0.000000000                                                    & 0.001152732                                                    & 0.000168404                                                    & ...                                                            & 0.000136490                                                    & 0.000000000                                                    & 0.000049100                                                    & 0.000000000                                                    & 0.000323449                                                    & 0                                                              & 0.000313258                                                    & 0.000000000                                                    & 0.00005140                                                     & 0.000056500                                                   \\\\\n",
       "\t23 & X613\\_Group9\\_142dpi\\_RV\\_top\\_183\\_G\\_B11\\_P136.mzXML & 613                                                            & Group9                                                         & 142dpi                                                         & RV\\_top                                                       & B11                                                            & P136                                                           & 0.000228064                                                    & 0.001298637                                                    & 0.000041700                                                    & ...                                                            & 0.000049300                                                    & 0.000000000                                                    & 0.000000000                                                    & 0.000000000                                                    & 0.000111765                                                    & 0                                                              & 0.000199828                                                    & 0.000000000                                                    & 0.00000000                                                     & 0.000000000                                                   \\\\\n",
       "\t24 & X614\\_Group9\\_142dpi\\_RV\\_top\\_184\\_G\\_B12\\_P136.mzXML & 614                                                            & Group9                                                         & 142dpi                                                         & RV\\_top                                                       & B12                                                            & P136                                                           & 0.000000000                                                    & 0.001548175                                                    & 0.000000000                                                    & ...                                                            & 0.000082100                                                    & 0.000172190                                                    & 0.000271134                                                    & 0.000181289                                                    & 0.000000000                                                    & 0                                                              & 0.000128677                                                    & 0.000207812                                                    & 0.00023597                                                     & 0.000247892                                                   \\\\\n",
       "\t25 & X615\\_Group9\\_142dpi\\_RV\\_top\\_185\\_G\\_C1\\_P136.mzXML  & 615                                                            & Group9                                                         & 142dpi                                                         & RV\\_top                                                       & C1                                                             & P136                                                           & 0.001402512                                                    & 0.001330846                                                    & 0.000000000                                                    & ...                                                            & 0.000000000                                                    & 0.000164987                                                    & 0.000085600                                                    & 0.000000000                                                    & 0.000000000                                                    & 0                                                              & 0.000000000                                                    & 0.000170816                                                    & 0.00008990                                                     & 0.000098500                                                   \\\\\n",
       "\t26 & X631\\_Group15\\_142dpi\\_RV\\_top\\_191\\_G\\_C7\\_P136.mzXML & 631                                                            & Group15                                                        & 142dpi                                                         & RV\\_top                                                       & C7                                                             & P136                                                           & 0.000066600                                                    & 0.000576991                                                    & 0.000135891                                                    & ...                                                            & 0.000047200                                                    & 0.000000000                                                    & 0.000034800                                                    & 0.000000000                                                    & 0.000186446                                                    & 0                                                              & 0.000203554                                                    & 0.000034600                                                    & 0.00003810                                                     & 0.000039900                                                   \\\\\n",
       "\\end{tabular}\n"
      ],
      "text/markdown": [
       "\n",
       "| <!--/--> | filename | MouseID | Treatmentgroup | DPI | organ | well_position | plate | X268.105_0.35 | X269.088_0.35 | X111.044_2.768 | ... | X705.141_2.339 | X776.148_2.398 | X776.253_2.398 | X776.411_2.398 | X792.329_2.764 | X811.309_2.773 | X811.31_2.767 | X819.211_2.398 | X819.322_2.398 | X819.378_2.399 |\n",
       "|---|---|---|---|---|---|---|---|---|---|---|---|---|---|---|---|---|---|---|---|---|---|\n",
       "| 21 | X611_Group9_142dpi_RV_top_181_G_B9_P136.mzXML  | 611                                            | Group9                                         | 142dpi                                         | RV_top                                         | B9                                             | P136                                           | 0.000000000                                    | 0.000291075                                    | 0.000157565                                    | ...                                            | 0.000133487                                    | 0.000050600                                    | 0.000000000                                    | 0.000000000                                    | 0.000294372                                    | 0                                              | 0.000282893                                    | 0.000000000                                    | 0.00005450                                     | 0.000000000                                    |\n",
       "| 22 | X612_Group9_142dpi_RV_top_182_G_B10_P136.mzXML | 612                                            | Group9                                         | 142dpi                                         | RV_top                                         | B10                                            | P136                                           | 0.000000000                                    | 0.001152732                                    | 0.000168404                                    | ...                                            | 0.000136490                                    | 0.000000000                                    | 0.000049100                                    | 0.000000000                                    | 0.000323449                                    | 0                                              | 0.000313258                                    | 0.000000000                                    | 0.00005140                                     | 0.000056500                                    |\n",
       "| 23 | X613_Group9_142dpi_RV_top_183_G_B11_P136.mzXML | 613                                            | Group9                                         | 142dpi                                         | RV_top                                         | B11                                            | P136                                           | 0.000228064                                    | 0.001298637                                    | 0.000041700                                    | ...                                            | 0.000049300                                    | 0.000000000                                    | 0.000000000                                    | 0.000000000                                    | 0.000111765                                    | 0                                              | 0.000199828                                    | 0.000000000                                    | 0.00000000                                     | 0.000000000                                    |\n",
       "| 24 | X614_Group9_142dpi_RV_top_184_G_B12_P136.mzXML | 614                                            | Group9                                         | 142dpi                                         | RV_top                                         | B12                                            | P136                                           | 0.000000000                                    | 0.001548175                                    | 0.000000000                                    | ...                                            | 0.000082100                                    | 0.000172190                                    | 0.000271134                                    | 0.000181289                                    | 0.000000000                                    | 0                                              | 0.000128677                                    | 0.000207812                                    | 0.00023597                                     | 0.000247892                                    |\n",
       "| 25 | X615_Group9_142dpi_RV_top_185_G_C1_P136.mzXML  | 615                                            | Group9                                         | 142dpi                                         | RV_top                                         | C1                                             | P136                                           | 0.001402512                                    | 0.001330846                                    | 0.000000000                                    | ...                                            | 0.000000000                                    | 0.000164987                                    | 0.000085600                                    | 0.000000000                                    | 0.000000000                                    | 0                                              | 0.000000000                                    | 0.000170816                                    | 0.00008990                                     | 0.000098500                                    |\n",
       "| 26 | X631_Group15_142dpi_RV_top_191_G_C7_P136.mzXML | 631                                            | Group15                                        | 142dpi                                         | RV_top                                         | C7                                             | P136                                           | 0.000066600                                    | 0.000576991                                    | 0.000135891                                    | ...                                            | 0.000047200                                    | 0.000000000                                    | 0.000034800                                    | 0.000000000                                    | 0.000186446                                    | 0                                              | 0.000203554                                    | 0.000034600                                    | 0.00003810                                     | 0.000039900                                    |\n",
       "\n"
      ],
      "text/plain": [
       "   filename                                       MouseID Treatmentgroup DPI   \n",
       "21 X611_Group9_142dpi_RV_top_181_G_B9_P136.mzXML  611     Group9         142dpi\n",
       "22 X612_Group9_142dpi_RV_top_182_G_B10_P136.mzXML 612     Group9         142dpi\n",
       "23 X613_Group9_142dpi_RV_top_183_G_B11_P136.mzXML 613     Group9         142dpi\n",
       "24 X614_Group9_142dpi_RV_top_184_G_B12_P136.mzXML 614     Group9         142dpi\n",
       "25 X615_Group9_142dpi_RV_top_185_G_C1_P136.mzXML  615     Group9         142dpi\n",
       "26 X631_Group15_142dpi_RV_top_191_G_C7_P136.mzXML 631     Group15        142dpi\n",
       "   organ  well_position plate X268.105_0.35 X269.088_0.35 X111.044_2.768 ...\n",
       "21 RV_top B9            P136  0.000000000   0.000291075   0.000157565    ...\n",
       "22 RV_top B10           P136  0.000000000   0.001152732   0.000168404    ...\n",
       "23 RV_top B11           P136  0.000228064   0.001298637   0.000041700    ...\n",
       "24 RV_top B12           P136  0.000000000   0.001548175   0.000000000    ...\n",
       "25 RV_top C1            P136  0.001402512   0.001330846   0.000000000    ...\n",
       "26 RV_top C7            P136  0.000066600   0.000576991   0.000135891    ...\n",
       "   X705.141_2.339 X776.148_2.398 X776.253_2.398 X776.411_2.398 X792.329_2.764\n",
       "21 0.000133487    0.000050600    0.000000000    0.000000000    0.000294372   \n",
       "22 0.000136490    0.000000000    0.000049100    0.000000000    0.000323449   \n",
       "23 0.000049300    0.000000000    0.000000000    0.000000000    0.000111765   \n",
       "24 0.000082100    0.000172190    0.000271134    0.000181289    0.000000000   \n",
       "25 0.000000000    0.000164987    0.000085600    0.000000000    0.000000000   \n",
       "26 0.000047200    0.000000000    0.000034800    0.000000000    0.000186446   \n",
       "   X811.309_2.773 X811.31_2.767 X819.211_2.398 X819.322_2.398 X819.378_2.399\n",
       "21 0              0.000282893   0.000000000    0.00005450     0.000000000   \n",
       "22 0              0.000313258   0.000000000    0.00005140     0.000056500   \n",
       "23 0              0.000199828   0.000000000    0.00000000     0.000000000   \n",
       "24 0              0.000128677   0.000207812    0.00023597     0.000247892   \n",
       "25 0              0.000000000   0.000170816    0.00008990     0.000098500   \n",
       "26 0              0.000203554   0.000034600    0.00003810     0.000039900   "
      ]
     },
     "metadata": {},
     "output_type": "display_data"
    },
    {
     "data": {
      "text/html": [
       "<ol class=list-inline>\n",
       "\t<li>30</li>\n",
       "\t<li>70</li>\n",
       "</ol>\n"
      ],
      "text/latex": [
       "\\begin{enumerate*}\n",
       "\\item 30\n",
       "\\item 70\n",
       "\\end{enumerate*}\n"
      ],
      "text/markdown": [
       "1. 30\n",
       "2. 70\n",
       "\n",
       "\n"
      ],
      "text/plain": [
       "[1] 30 70"
      ]
     },
     "metadata": {},
     "output_type": "display_data"
    },
    {
     "data": {
      "text/html": [
       "<ol class=list-inline>\n",
       "\t<li>30</li>\n",
       "\t<li>63</li>\n",
       "</ol>\n"
      ],
      "text/latex": [
       "\\begin{enumerate*}\n",
       "\\item 30\n",
       "\\item 63\n",
       "\\end{enumerate*}\n"
      ],
      "text/markdown": [
       "1. 30\n",
       "2. 63\n",
       "\n",
       "\n"
      ],
      "text/plain": [
       "[1] 30 63"
      ]
     },
     "metadata": {},
     "output_type": "display_data"
    },
    {
     "data": {
      "text/html": [
       "<ol class=list-inline>\n",
       "\t<li>30</li>\n",
       "\t<li>62</li>\n",
       "</ol>\n"
      ],
      "text/latex": [
       "\\begin{enumerate*}\n",
       "\\item 30\n",
       "\\item 62\n",
       "\\end{enumerate*}\n"
      ],
      "text/markdown": [
       "1. 30\n",
       "2. 62\n",
       "\n",
       "\n"
      ],
      "text/plain": [
       "[1] 30 62"
      ]
     },
     "metadata": {},
     "output_type": "display_data"
    },
    {
     "data": {
      "text/html": [
       "<ol class=list-inline>\n",
       "\t<li>30</li>\n",
       "\t<li>69</li>\n",
       "</ol>\n"
      ],
      "text/latex": [
       "\\begin{enumerate*}\n",
       "\\item 30\n",
       "\\item 69\n",
       "\\end{enumerate*}\n"
      ],
      "text/markdown": [
       "1. 30\n",
       "2. 69\n",
       "\n",
       "\n"
      ],
      "text/plain": [
       "[1] 30 69"
      ]
     },
     "metadata": {},
     "output_type": "display_data"
    }
   ],
   "source": [
    "noMeta<-features_pos[,8:70]\n",
    "head(noMeta)\n",
    "not_zero<-which(colSums(noMeta) != 0)\n",
    "head(not_zero)\n",
    "nonzero <- noMeta[, not_zero] # all the non-zero columns\n",
    "nonzero\n",
    "#add back metadata\n",
    "nonzero_wMeta<-cbind(features_pos[,1:7], nonzero)\n",
    "head(nonzero_wMeta)\n",
    "dim(features_pos)\n",
    "dim(noMeta)\n",
    "dim(nonzero)\n",
    "dim(nonzero_wMeta)"
   ]
  },
  {
   "cell_type": "code",
   "execution_count": 15,
   "metadata": {
    "scrolled": true
   },
   "outputs": [
    {
     "name": "stderr",
     "output_type": "stream",
     "text": [
      "Warning message in wilcox.test.default(x = c(6.66e-05, 0, 0.000130514, 0.000105174, :\n",
      "\"cannot compute exact p-value with ties\"Warning message in wilcox.test.default(x = c(0.000135891, 9.94e-05, 0.0001359, 8.03e-05, :\n",
      "\"cannot compute exact p-value with ties\"Warning message in wilcox.test.default(x = c(9.67e-05, 0.000304705, 0, 0, 0.00020393, :\n",
      "\"cannot compute exact p-value with ties\"Warning message in wilcox.test.default(x = c(0.001068281, 0.001416551, 0, 0.001805847, :\n",
      "\"cannot compute exact p-value with ties\"Warning message in wilcox.test.default(x = c(3.35e-05, 5.16e-05, 7.45e-05, 4.91e-05, :\n",
      "\"cannot compute exact p-value with ties\"Warning message in wilcox.test.default(x = c(0.000141577, 0.000123793, 0.000192328, :\n",
      "\"cannot compute exact p-value with ties\"Warning message in wilcox.test.default(x = c(0, 0, 0, 0, 0, 0, 0.000143175, 0.000126504, :\n",
      "\"cannot compute exact p-value with ties\"Warning message in wilcox.test.default(x = c(0, 4.45e-05, 5.72e-05, 0, 5.37e-05, :\n",
      "\"cannot compute exact p-value with ties\"Warning message in wilcox.test.default(x = c(0.000145697, 0, 0, 0, 0, 0, 0.00010654, :\n",
      "\"cannot compute exact p-value with ties\"Warning message in wilcox.test.default(x = c(0, 0, 0, 0, 0, 0.000121494, 0, 0, 4.06e-05, :\n",
      "\"cannot compute exact p-value with ties\"Warning message in wilcox.test.default(x = c(0.000430873, 0, 0.000123273, 0.000187544, :\n",
      "\"cannot compute exact p-value with ties\"Warning message in wilcox.test.default(x = c(0.000343243, 0, 0, 0, 0, 0.000163105, :\n",
      "\"cannot compute exact p-value with ties\"Warning message in wilcox.test.default(x = c(2.67e-05, 0, 0, 0, 0.000100476, 0, :\n",
      "\"cannot compute exact p-value with ties\"Warning message in wilcox.test.default(x = c(0, 0, 0, 0, 0, 0, 0, 0, 4.13e-05, 0, :\n",
      "\"cannot compute exact p-value with ties\"Warning message in wilcox.test.default(x = c(0, 0.000377959, 0.000231313, 0.000113365, :\n",
      "\"cannot compute exact p-value with ties\"Warning message in wilcox.test.default(x = c(0, 4.15e-05, 0, 3.84e-05, 6.23e-05, :\n",
      "\"cannot compute exact p-value with ties\"Warning message in wilcox.test.default(x = c(0.000177392, 0.000356478, 0.000102138, :\n",
      "\"cannot compute exact p-value with ties\"Warning message in wilcox.test.default(x = c(3.38e-05, 0, 0, 0.000250004, 0.000140639, :\n",
      "\"cannot compute exact p-value with ties\"Warning message in wilcox.test.default(x = c(9.92e-05, 6.03e-05, 0, 6.01e-05, 0, :\n",
      "\"cannot compute exact p-value with ties\"Warning message in wilcox.test.default(x = c(4.72e-05, 0, 0, 4.38e-05, 0, 0, 0, :\n",
      "\"cannot compute exact p-value with ties\"Warning message in wilcox.test.default(x = c(0, 0, 0, 0, 0, 0, 0, 0, 0, 0.000182949, :\n",
      "\"cannot compute exact p-value with ties\"Warning message in wilcox.test.default(x = c(3.48e-05, 0, 0, 4.1e-05, 0, 0, 0, 0, :\n",
      "\"cannot compute exact p-value with ties\"Warning message in wilcox.test.default(x = c(0, 0, 0, 0, 0, 0, 0, 0, 0, 6.9e-05, :\n",
      "\"cannot compute exact p-value with ties\"Warning message in wilcox.test.default(x = c(0.000186446, 0.000187176, 0.000298368, :\n",
      "\"cannot compute exact p-value with ties\"Warning message in wilcox.test.default(x = c(0, 9.69e-05, 0, 0, 0, 0, 0, 0, 0, 0, :\n",
      "\"cannot compute exact p-value with ties\"Warning message in wilcox.test.default(x = c(0.000203554, 0.000279351, 0.000195352, :\n",
      "\"cannot compute exact p-value with ties\"Warning message in wilcox.test.default(x = c(3.46e-05, 0, 0, 0, 0, 0, 0, 0, 0, 0.000158738, :\n",
      "\"cannot compute exact p-value with ties\"Warning message in wilcox.test.default(x = c(3.81e-05, 0, 0, 0, 0, 0, 0, 0, 0, 0.000246199, :\n",
      "\"cannot compute exact p-value with ties\"Warning message in wilcox.test.default(x = c(3.99e-05, 0, 0, 3.89e-05, 0, 0, 0, :\n",
      "\"cannot compute exact p-value with ties\""
     ]
    },
    {
     "data": {
      "text/html": [
       "<ol class=list-inline>\n",
       "\t<li>0.501489256916062</li>\n",
       "\t<li>1</li>\n",
       "\t<li>0.317438898334428</li>\n",
       "\t<li>0.287646479773477</li>\n",
       "\t<li>0.682673807575057</li>\n",
       "\t<li>0.0453338990979227</li>\n",
       "</ol>\n"
      ],
      "text/latex": [
       "\\begin{enumerate*}\n",
       "\\item 0.501489256916062\n",
       "\\item 1\n",
       "\\item 0.317438898334428\n",
       "\\item 0.287646479773477\n",
       "\\item 0.682673807575057\n",
       "\\item 0.0453338990979227\n",
       "\\end{enumerate*}\n"
      ],
      "text/markdown": [
       "1. 0.501489256916062\n",
       "2. 1\n",
       "3. 0.317438898334428\n",
       "4. 0.287646479773477\n",
       "5. 0.682673807575057\n",
       "6. 0.0453338990979227\n",
       "\n",
       "\n"
      ],
      "text/plain": [
       "[1] 0.5014893 1.0000000 0.3174389 0.2876465 0.6826738 0.0453339"
      ]
     },
     "metadata": {},
     "output_type": "display_data"
    },
    {
     "data": {
      "text/html": [
       "<ol class=list-inline>\n",
       "\t<li>0.690742474816345</li>\n",
       "\t<li>1</li>\n",
       "\t<li>0.656040389891151</li>\n",
       "\t<li>0.614968336067434</li>\n",
       "\t<li>0.813430901766369</li>\n",
       "\t<li>0.25551834037011</li>\n",
       "</ol>\n"
      ],
      "text/latex": [
       "\\begin{enumerate*}\n",
       "\\item 0.690742474816345\n",
       "\\item 1\n",
       "\\item 0.656040389891151\n",
       "\\item 0.614968336067434\n",
       "\\item 0.813430901766369\n",
       "\\item 0.25551834037011\n",
       "\\end{enumerate*}\n"
      ],
      "text/markdown": [
       "1. 0.690742474816345\n",
       "2. 1\n",
       "3. 0.656040389891151\n",
       "4. 0.614968336067434\n",
       "5. 0.813430901766369\n",
       "6. 0.25551834037011\n",
       "\n",
       "\n"
      ],
      "text/plain": [
       "[1] 0.6907425 1.0000000 0.6560404 0.6149683 0.8134309 0.2555183"
      ]
     },
     "metadata": {},
     "output_type": "display_data"
    }
   ],
   "source": [
    "pval<-c()#create an empty vector with value pval\n",
    "\n",
    "# 8 to the end of each row\n",
    "for (i in 8:ncol(nonzero_wMeta)) \n",
    "pval<-c(pval,wilcox.test(nonzero_wMeta[,i]~nonzero_wMeta$Treatmentgroup)$p.value) #assign to pval the output of the Mann-Whitney-Wilcoxon test\n",
    "    #don't know why there is that first pval in c(pval...) but it doesn't work without it\n",
    "    #$p.value is because there are many output lines from wilcox.test; you want to keep only the one that's called $p.value because that's where the nbr is\n",
    "\n",
    "head(pval) #to check\n",
    "pAdj <- p.adjust(pval, method = c(\"fdr\"), n=length(pval)) \n",
    "head(pAdj) \n",
    "\n"
   ]
  },
  {
   "cell_type": "code",
   "execution_count": 16,
   "metadata": {
    "scrolled": true
   },
   "outputs": [
    {
     "data": {
      "text/html": [
       "62"
      ],
      "text/latex": [
       "62"
      ],
      "text/markdown": [
       "62"
      ],
      "text/plain": [
       "[1] 62"
      ]
     },
     "metadata": {},
     "output_type": "display_data"
    }
   ],
   "source": [
    "length(pval)"
   ]
  },
  {
   "cell_type": "code",
   "execution_count": 17,
   "metadata": {
    "scrolled": true
   },
   "outputs": [
    {
     "data": {
      "text/html": [
       "62"
      ],
      "text/latex": [
       "62"
      ],
      "text/markdown": [
       "62"
      ],
      "text/plain": [
       "[1] 62"
      ]
     },
     "metadata": {},
     "output_type": "display_data"
    }
   ],
   "source": [
    "length(pAdj)"
   ]
  },
  {
   "cell_type": "code",
   "execution_count": 18,
   "metadata": {},
   "outputs": [
    {
     "data": {
      "text/html": [
       "<ol class=list-inline>\n",
       "\t<li>2</li>\n",
       "\t<li>62</li>\n",
       "</ol>\n"
      ],
      "text/latex": [
       "\\begin{enumerate*}\n",
       "\\item 2\n",
       "\\item 62\n",
       "\\end{enumerate*}\n"
      ],
      "text/markdown": [
       "1. 2\n",
       "2. 62\n",
       "\n",
       "\n"
      ],
      "text/plain": [
       "[1]  2 62"
      ]
     },
     "metadata": {},
     "output_type": "display_data"
    },
    {
     "data": {
      "text/html": [
       "<table>\n",
       "<thead><tr><th></th><th scope=col>X268.105_0.35</th><th scope=col>X269.088_0.35</th><th scope=col>X111.044_2.768</th></tr></thead>\n",
       "<tbody>\n",
       "\t<tr><th scope=row>Group15</th><td>6.079373e-05</td><td>0.001155168 </td><td>6.773313e-05</td></tr>\n",
       "\t<tr><th scope=row>Group9</th><td>1.332822e-04</td><td>0.001120761 </td><td>4.741793e-05</td></tr>\n",
       "</tbody>\n",
       "</table>\n"
      ],
      "text/latex": [
       "\\begin{tabular}{r|lll}\n",
       "  & X268.105\\_0.35 & X269.088\\_0.35 & X111.044\\_2.768\\\\\n",
       "\\hline\n",
       "\tGroup15 & 6.079373e-05 & 0.001155168  & 6.773313e-05\\\\\n",
       "\tGroup9 & 1.332822e-04 & 0.001120761  & 4.741793e-05\\\\\n",
       "\\end{tabular}\n"
      ],
      "text/markdown": [
       "\n",
       "| <!--/--> | X268.105_0.35 | X269.088_0.35 | X111.044_2.768 |\n",
       "|---|---|---|---|\n",
       "| Group15 | 6.079373e-05 | 0.001155168  | 6.773313e-05 |\n",
       "| Group9 | 1.332822e-04 | 0.001120761  | 4.741793e-05 |\n",
       "\n"
      ],
      "text/plain": [
       "        X268.105_0.35 X269.088_0.35 X111.044_2.768\n",
       "Group15 6.079373e-05  0.001155168   6.773313e-05  \n",
       "Group9  1.332822e-04  0.001120761   4.741793e-05  "
      ]
     },
     "metadata": {},
     "output_type": "display_data"
    },
    {
     "data": {
      "text/html": [
       "<dl class=dl-horizontal>\n",
       "\t<dt>X268.105_0.35</dt>\n",
       "\t\t<dd>0.45612792505926</dd>\n",
       "\t<dt>X269.088_0.35</dt>\n",
       "\t\t<dd>1.03069907606842</dd>\n",
       "\t<dt>X111.044_2.768</dt>\n",
       "\t\t<dd>1.42842862545675</dd>\n",
       "\t<dt>X122.082_0.534</dt>\n",
       "\t\t<dd>0.635547458927464</dd>\n",
       "\t<dt>X130.087_0.452</dt>\n",
       "\t\t<dd>0.989474427246844</dd>\n",
       "\t<dt>X137.046_0.35</dt>\n",
       "\t\t<dd>1.41040758972585</dd>\n",
       "</dl>\n"
      ],
      "text/latex": [
       "\\begin{description*}\n",
       "\\item[X268.105\\textbackslash{}\\_0.35] 0.45612792505926\n",
       "\\item[X269.088\\textbackslash{}\\_0.35] 1.03069907606842\n",
       "\\item[X111.044\\textbackslash{}\\_2.768] 1.42842862545675\n",
       "\\item[X122.082\\textbackslash{}\\_0.534] 0.635547458927464\n",
       "\\item[X130.087\\textbackslash{}\\_0.452] 0.989474427246844\n",
       "\\item[X137.046\\textbackslash{}\\_0.35] 1.41040758972585\n",
       "\\end{description*}\n"
      ],
      "text/markdown": [
       "X268.105_0.35\n",
       ":   0.45612792505926X269.088_0.35\n",
       ":   1.03069907606842X111.044_2.768\n",
       ":   1.42842862545675X122.082_0.534\n",
       ":   0.635547458927464X130.087_0.452\n",
       ":   0.989474427246844X137.046_0.35\n",
       ":   1.41040758972585\n",
       "\n"
      ],
      "text/plain": [
       " X268.105_0.35  X269.088_0.35 X111.044_2.768 X122.082_0.534 X130.087_0.452 \n",
       "     0.4561279      1.0306991      1.4284286      0.6355475      0.9894744 \n",
       " X137.046_0.35 \n",
       "     1.4104076 "
      ]
     },
     "metadata": {},
     "output_type": "display_data"
    },
    {
     "data": {
      "text/html": [
       "<ol class=list-inline>\n",
       "\t<li>'numeric'</li>\n",
       "\t<li>'vector'</li>\n",
       "</ol>\n"
      ],
      "text/latex": [
       "\\begin{enumerate*}\n",
       "\\item 'numeric'\n",
       "\\item 'vector'\n",
       "\\end{enumerate*}\n"
      ],
      "text/markdown": [
       "1. 'numeric'\n",
       "2. 'vector'\n",
       "\n",
       "\n"
      ],
      "text/plain": [
       "[1] \"numeric\" \"vector\" "
      ]
     },
     "metadata": {},
     "output_type": "display_data"
    }
   ],
   "source": [
    "# change the column name, you want to see infected and naive so it should be State\n",
    "avg<- apply(nonzero_wMeta[,8:ncol(nonzero_wMeta)], 2, function(x) tapply(x, nonzero_wMeta$Treatmentgroup, function(x) mean(x))) \n",
    "\n",
    "dim(avg) #to check\n",
    "\n",
    "avg[,1:3]#to check\n",
    "\n",
    "fch <- apply(avg, 2, function(x) x[1]/x[2]) #calculate fold change\n",
    "\n",
    "head(fch) #to check it's ok\n",
    "is(fch)"
   ]
  },
  {
   "cell_type": "code",
   "execution_count": 19,
   "metadata": {
    "scrolled": true
   },
   "outputs": [
    {
     "data": {
      "text/html": [
       "<dl class=dl-horizontal>\n",
       "\t<dt>X268.105_0.35</dt>\n",
       "\t\t<dd>0.45612792505926</dd>\n",
       "\t<dt>X269.088_0.35</dt>\n",
       "\t\t<dd>1.03069907606842</dd>\n",
       "\t<dt>X111.044_2.768</dt>\n",
       "\t\t<dd>1.42842862545675</dd>\n",
       "\t<dt>X122.082_0.534</dt>\n",
       "\t\t<dd>0.635547458927464</dd>\n",
       "\t<dt>X130.087_0.452</dt>\n",
       "\t\t<dd>0.989474427246844</dd>\n",
       "\t<dt>X137.046_0.35</dt>\n",
       "\t\t<dd>1.41040758972585</dd>\n",
       "\t<dt>X142.035_0.315</dt>\n",
       "\t\t<dd>0.952130933690119</dd>\n",
       "\t<dt>X172.134_2.343</dt>\n",
       "\t\t<dd>0.867528284465776</dd>\n",
       "\t<dt>X175.148_2.71</dt>\n",
       "\t\t<dd>0.906398477646803</dd>\n",
       "\t<dt>X198.15_2.471</dt>\n",
       "\t\t<dd>0.870364410368797</dd>\n",
       "\t<dt>X200.165_3.207</dt>\n",
       "\t\t<dd>0.811317740121393</dd>\n",
       "\t<dt>X214.181_2.634</dt>\n",
       "\t\t<dd>0.897874057367981</dd>\n",
       "\t<dt>X216.16_2.471</dt>\n",
       "\t\t<dd>0.910423159649095</dd>\n",
       "\t<dt>X228.196_2.71</dt>\n",
       "\t\t<dd>0.908203982065328</dd>\n",
       "\t<dt>X230.176_2.586</dt>\n",
       "\t\t<dd>0.547397540659002</dd>\n",
       "\t<dt>X232.191_2.63</dt>\n",
       "\t\t<dd>1.19354883333527</dd>\n",
       "\t<dt>X242.212_2.78</dt>\n",
       "\t\t<dd>0.75938464291633</dd>\n",
       "\t<dt>X249.112_2.768</dt>\n",
       "\t\t<dd>1.52301865495306</dd>\n",
       "\t<dt>X256.227_2.847</dt>\n",
       "\t\t<dd>0.90144822778707</dd>\n",
       "\t<dt>X256.227_3.318</dt>\n",
       "\t\t<dd>0.803301940315443</dd>\n",
       "\t<dt>X258.207_2.775</dt>\n",
       "\t\t<dd>0.810906825029277</dd>\n",
       "\t<dt>X272.222_2.957</dt>\n",
       "\t\t<dd>0.856271767338048</dd>\n",
       "\t<dt>X278.248_3.1</dt>\n",
       "\t\t<dd>0.935455758229533</dd>\n",
       "\t<dt>X280.189_2.775</dt>\n",
       "\t\t<dd>0.439265169301489</dd>\n",
       "\t<dt>X280.264_3.159</dt>\n",
       "\t\t<dd>0.921127101191476</dd>\n",
       "\t<dt>X282.28_3.246</dt>\n",
       "\t\t<dd>0.844008406951876</dd>\n",
       "\t<dt>X296.259_2.971</dt>\n",
       "\t\t<dd>0.724556446827</dd>\n",
       "\t<dt>X303.305_3.529</dt>\n",
       "\t\t<dd>3.59837773294355</dd>\n",
       "\t<dt>X303.648_2.884</dt>\n",
       "\t\t<dd>0.796558357709437</dd>\n",
       "\t<dt>X306.279_2.989</dt>\n",
       "\t\t<dd>0.894451624226179</dd>\n",
       "\t<dt>X306.279_3.212</dt>\n",
       "\t\t<dd>0.643576801416859</dd>\n",
       "\t<dt>X308.295_3.045</dt>\n",
       "\t\t<dd>0.882682755583005</dd>\n",
       "\t<dt>X308.295_3.285</dt>\n",
       "\t\t<dd>0.845414426952425</dd>\n",
       "\t<dt>X324.327_3.455</dt>\n",
       "\t\t<dd>0.893320194369583</dd>\n",
       "\t<dt>X327.232_3.01</dt>\n",
       "\t\t<dd>0.708517286846128</dd>\n",
       "\t<dt>X333.063_2.524</dt>\n",
       "\t\t<dd>0.918453046348199</dd>\n",
       "\t<dt>X334.311_3.335</dt>\n",
       "\t\t<dd>0.899449157827943</dd>\n",
       "\t<dt>X352.321_3.187</dt>\n",
       "\t\t<dd>0.849260299379719</dd>\n",
       "\t<dt>X368.316_2.962</dt>\n",
       "\t\t<dd>0.510942819244516</dd>\n",
       "\t<dt>X368.317_3.315</dt>\n",
       "\t\t<dd>0.668915278432215</dd>\n",
       "\t<dt>X369.17_2.767</dt>\n",
       "\t\t<dd>1.18570542511401</dd>\n",
       "\t<dt>X399.395_3.152</dt>\n",
       "\t\t<dd>1.07127546987158</dd>\n",
       "\t<dt>X489.228_2.768</dt>\n",
       "\t\t<dd>1.2867929143832</dd>\n",
       "\t<dt>X506.255_3.172</dt>\n",
       "\t\t<dd>0.220339530728326</dd>\n",
       "\t<dt>X530.289_2.929</dt>\n",
       "\t\t<dd>0.906438949600256</dd>\n",
       "\t<dt>X568.341_2.887</dt>\n",
       "\t\t<dd>1.01403592371602</dd>\n",
       "\t<dt>X570.357_2.934</dt>\n",
       "\t\t<dd>1.14674680476257</dd>\n",
       "\t<dt>X599.241_2.765</dt>\n",
       "\t\t<dd>1.16798839552951</dd>\n",
       "\t<dt>X602.344_2.984</dt>\n",
       "\t\t<dd>0.952461237867137</dd>\n",
       "\t<dt>X604.362_2.948</dt>\n",
       "\t\t<dd>1.19761942583461</dd>\n",
       "\t<dt>X637.306_3.32</dt>\n",
       "\t\t<dd>0.899982591961643</dd>\n",
       "\t<dt>X666.434_3.024</dt>\n",
       "\t\t<dd>1.0576240490673</dd>\n",
       "\t<dt>X705.141_2.339</dt>\n",
       "\t\t<dd>0.226719518059082</dd>\n",
       "\t<dt>X776.148_2.398</dt>\n",
       "\t\t<dd>0.681544506911052</dd>\n",
       "\t<dt>X776.253_2.398</dt>\n",
       "\t\t<dd>0.671698387255741</dd>\n",
       "\t<dt>X776.411_2.398</dt>\n",
       "\t\t<dd>0.874154276248196</dd>\n",
       "\t<dt>X792.329_2.764</dt>\n",
       "\t\t<dd>1.35439246829242</dd>\n",
       "\t<dt>X811.309_2.773</dt>\n",
       "\t\t<dd>1.59941482310762</dd>\n",
       "\t<dt>X811.31_2.767</dt>\n",
       "\t\t<dd>1.29120543869141</dd>\n",
       "\t<dt>X819.211_2.398</dt>\n",
       "\t\t<dd>0.597557435008289</dd>\n",
       "\t<dt>X819.322_2.398</dt>\n",
       "\t\t<dd>0.654098459251686</dd>\n",
       "\t<dt>X819.378_2.399</dt>\n",
       "\t\t<dd>1.0466532402697</dd>\n",
       "</dl>\n"
      ],
      "text/latex": [
       "\\begin{description*}\n",
       "\\item[X268.105\\textbackslash{}\\_0.35] 0.45612792505926\n",
       "\\item[X269.088\\textbackslash{}\\_0.35] 1.03069907606842\n",
       "\\item[X111.044\\textbackslash{}\\_2.768] 1.42842862545675\n",
       "\\item[X122.082\\textbackslash{}\\_0.534] 0.635547458927464\n",
       "\\item[X130.087\\textbackslash{}\\_0.452] 0.989474427246844\n",
       "\\item[X137.046\\textbackslash{}\\_0.35] 1.41040758972585\n",
       "\\item[X142.035\\textbackslash{}\\_0.315] 0.952130933690119\n",
       "\\item[X172.134\\textbackslash{}\\_2.343] 0.867528284465776\n",
       "\\item[X175.148\\textbackslash{}\\_2.71] 0.906398477646803\n",
       "\\item[X198.15\\textbackslash{}\\_2.471] 0.870364410368797\n",
       "\\item[X200.165\\textbackslash{}\\_3.207] 0.811317740121393\n",
       "\\item[X214.181\\textbackslash{}\\_2.634] 0.897874057367981\n",
       "\\item[X216.16\\textbackslash{}\\_2.471] 0.910423159649095\n",
       "\\item[X228.196\\textbackslash{}\\_2.71] 0.908203982065328\n",
       "\\item[X230.176\\textbackslash{}\\_2.586] 0.547397540659002\n",
       "\\item[X232.191\\textbackslash{}\\_2.63] 1.19354883333527\n",
       "\\item[X242.212\\textbackslash{}\\_2.78] 0.75938464291633\n",
       "\\item[X249.112\\textbackslash{}\\_2.768] 1.52301865495306\n",
       "\\item[X256.227\\textbackslash{}\\_2.847] 0.90144822778707\n",
       "\\item[X256.227\\textbackslash{}\\_3.318] 0.803301940315443\n",
       "\\item[X258.207\\textbackslash{}\\_2.775] 0.810906825029277\n",
       "\\item[X272.222\\textbackslash{}\\_2.957] 0.856271767338048\n",
       "\\item[X278.248\\textbackslash{}\\_3.1] 0.935455758229533\n",
       "\\item[X280.189\\textbackslash{}\\_2.775] 0.439265169301489\n",
       "\\item[X280.264\\textbackslash{}\\_3.159] 0.921127101191476\n",
       "\\item[X282.28\\textbackslash{}\\_3.246] 0.844008406951876\n",
       "\\item[X296.259\\textbackslash{}\\_2.971] 0.724556446827\n",
       "\\item[X303.305\\textbackslash{}\\_3.529] 3.59837773294355\n",
       "\\item[X303.648\\textbackslash{}\\_2.884] 0.796558357709437\n",
       "\\item[X306.279\\textbackslash{}\\_2.989] 0.894451624226179\n",
       "\\item[X306.279\\textbackslash{}\\_3.212] 0.643576801416859\n",
       "\\item[X308.295\\textbackslash{}\\_3.045] 0.882682755583005\n",
       "\\item[X308.295\\textbackslash{}\\_3.285] 0.845414426952425\n",
       "\\item[X324.327\\textbackslash{}\\_3.455] 0.893320194369583\n",
       "\\item[X327.232\\textbackslash{}\\_3.01] 0.708517286846128\n",
       "\\item[X333.063\\textbackslash{}\\_2.524] 0.918453046348199\n",
       "\\item[X334.311\\textbackslash{}\\_3.335] 0.899449157827943\n",
       "\\item[X352.321\\textbackslash{}\\_3.187] 0.849260299379719\n",
       "\\item[X368.316\\textbackslash{}\\_2.962] 0.510942819244516\n",
       "\\item[X368.317\\textbackslash{}\\_3.315] 0.668915278432215\n",
       "\\item[X369.17\\textbackslash{}\\_2.767] 1.18570542511401\n",
       "\\item[X399.395\\textbackslash{}\\_3.152] 1.07127546987158\n",
       "\\item[X489.228\\textbackslash{}\\_2.768] 1.2867929143832\n",
       "\\item[X506.255\\textbackslash{}\\_3.172] 0.220339530728326\n",
       "\\item[X530.289\\textbackslash{}\\_2.929] 0.906438949600256\n",
       "\\item[X568.341\\textbackslash{}\\_2.887] 1.01403592371602\n",
       "\\item[X570.357\\textbackslash{}\\_2.934] 1.14674680476257\n",
       "\\item[X599.241\\textbackslash{}\\_2.765] 1.16798839552951\n",
       "\\item[X602.344\\textbackslash{}\\_2.984] 0.952461237867137\n",
       "\\item[X604.362\\textbackslash{}\\_2.948] 1.19761942583461\n",
       "\\item[X637.306\\textbackslash{}\\_3.32] 0.899982591961643\n",
       "\\item[X666.434\\textbackslash{}\\_3.024] 1.0576240490673\n",
       "\\item[X705.141\\textbackslash{}\\_2.339] 0.226719518059082\n",
       "\\item[X776.148\\textbackslash{}\\_2.398] 0.681544506911052\n",
       "\\item[X776.253\\textbackslash{}\\_2.398] 0.671698387255741\n",
       "\\item[X776.411\\textbackslash{}\\_2.398] 0.874154276248196\n",
       "\\item[X792.329\\textbackslash{}\\_2.764] 1.35439246829242\n",
       "\\item[X811.309\\textbackslash{}\\_2.773] 1.59941482310762\n",
       "\\item[X811.31\\textbackslash{}\\_2.767] 1.29120543869141\n",
       "\\item[X819.211\\textbackslash{}\\_2.398] 0.597557435008289\n",
       "\\item[X819.322\\textbackslash{}\\_2.398] 0.654098459251686\n",
       "\\item[X819.378\\textbackslash{}\\_2.399] 1.0466532402697\n",
       "\\end{description*}\n"
      ],
      "text/markdown": [
       "X268.105_0.35\n",
       ":   0.45612792505926X269.088_0.35\n",
       ":   1.03069907606842X111.044_2.768\n",
       ":   1.42842862545675X122.082_0.534\n",
       ":   0.635547458927464X130.087_0.452\n",
       ":   0.989474427246844X137.046_0.35\n",
       ":   1.41040758972585X142.035_0.315\n",
       ":   0.952130933690119X172.134_2.343\n",
       ":   0.867528284465776X175.148_2.71\n",
       ":   0.906398477646803X198.15_2.471\n",
       ":   0.870364410368797X200.165_3.207\n",
       ":   0.811317740121393X214.181_2.634\n",
       ":   0.897874057367981X216.16_2.471\n",
       ":   0.910423159649095X228.196_2.71\n",
       ":   0.908203982065328X230.176_2.586\n",
       ":   0.547397540659002X232.191_2.63\n",
       ":   1.19354883333527X242.212_2.78\n",
       ":   0.75938464291633X249.112_2.768\n",
       ":   1.52301865495306X256.227_2.847\n",
       ":   0.90144822778707X256.227_3.318\n",
       ":   0.803301940315443X258.207_2.775\n",
       ":   0.810906825029277X272.222_2.957\n",
       ":   0.856271767338048X278.248_3.1\n",
       ":   0.935455758229533X280.189_2.775\n",
       ":   0.439265169301489X280.264_3.159\n",
       ":   0.921127101191476X282.28_3.246\n",
       ":   0.844008406951876X296.259_2.971\n",
       ":   0.724556446827X303.305_3.529\n",
       ":   3.59837773294355X303.648_2.884\n",
       ":   0.796558357709437X306.279_2.989\n",
       ":   0.894451624226179X306.279_3.212\n",
       ":   0.643576801416859X308.295_3.045\n",
       ":   0.882682755583005X308.295_3.285\n",
       ":   0.845414426952425X324.327_3.455\n",
       ":   0.893320194369583X327.232_3.01\n",
       ":   0.708517286846128X333.063_2.524\n",
       ":   0.918453046348199X334.311_3.335\n",
       ":   0.899449157827943X352.321_3.187\n",
       ":   0.849260299379719X368.316_2.962\n",
       ":   0.510942819244516X368.317_3.315\n",
       ":   0.668915278432215X369.17_2.767\n",
       ":   1.18570542511401X399.395_3.152\n",
       ":   1.07127546987158X489.228_2.768\n",
       ":   1.2867929143832X506.255_3.172\n",
       ":   0.220339530728326X530.289_2.929\n",
       ":   0.906438949600256X568.341_2.887\n",
       ":   1.01403592371602X570.357_2.934\n",
       ":   1.14674680476257X599.241_2.765\n",
       ":   1.16798839552951X602.344_2.984\n",
       ":   0.952461237867137X604.362_2.948\n",
       ":   1.19761942583461X637.306_3.32\n",
       ":   0.899982591961643X666.434_3.024\n",
       ":   1.0576240490673X705.141_2.339\n",
       ":   0.226719518059082X776.148_2.398\n",
       ":   0.681544506911052X776.253_2.398\n",
       ":   0.671698387255741X776.411_2.398\n",
       ":   0.874154276248196X792.329_2.764\n",
       ":   1.35439246829242X811.309_2.773\n",
       ":   1.59941482310762X811.31_2.767\n",
       ":   1.29120543869141X819.211_2.398\n",
       ":   0.597557435008289X819.322_2.398\n",
       ":   0.654098459251686X819.378_2.399\n",
       ":   1.0466532402697\n",
       "\n"
      ],
      "text/plain": [
       " X268.105_0.35  X269.088_0.35 X111.044_2.768 X122.082_0.534 X130.087_0.452 \n",
       "     0.4561279      1.0306991      1.4284286      0.6355475      0.9894744 \n",
       " X137.046_0.35 X142.035_0.315 X172.134_2.343  X175.148_2.71  X198.15_2.471 \n",
       "     1.4104076      0.9521309      0.8675283      0.9063985      0.8703644 \n",
       "X200.165_3.207 X214.181_2.634  X216.16_2.471  X228.196_2.71 X230.176_2.586 \n",
       "     0.8113177      0.8978741      0.9104232      0.9082040      0.5473975 \n",
       " X232.191_2.63  X242.212_2.78 X249.112_2.768 X256.227_2.847 X256.227_3.318 \n",
       "     1.1935488      0.7593846      1.5230187      0.9014482      0.8033019 \n",
       "X258.207_2.775 X272.222_2.957   X278.248_3.1 X280.189_2.775 X280.264_3.159 \n",
       "     0.8109068      0.8562718      0.9354558      0.4392652      0.9211271 \n",
       " X282.28_3.246 X296.259_2.971 X303.305_3.529 X303.648_2.884 X306.279_2.989 \n",
       "     0.8440084      0.7245564      3.5983777      0.7965584      0.8944516 \n",
       "X306.279_3.212 X308.295_3.045 X308.295_3.285 X324.327_3.455  X327.232_3.01 \n",
       "     0.6435768      0.8826828      0.8454144      0.8933202      0.7085173 \n",
       "X333.063_2.524 X334.311_3.335 X352.321_3.187 X368.316_2.962 X368.317_3.315 \n",
       "     0.9184530      0.8994492      0.8492603      0.5109428      0.6689153 \n",
       " X369.17_2.767 X399.395_3.152 X489.228_2.768 X506.255_3.172 X530.289_2.929 \n",
       "     1.1857054      1.0712755      1.2867929      0.2203395      0.9064389 \n",
       "X568.341_2.887 X570.357_2.934 X599.241_2.765 X602.344_2.984 X604.362_2.948 \n",
       "     1.0140359      1.1467468      1.1679884      0.9524612      1.1976194 \n",
       " X637.306_3.32 X666.434_3.024 X705.141_2.339 X776.148_2.398 X776.253_2.398 \n",
       "     0.8999826      1.0576240      0.2267195      0.6815445      0.6716984 \n",
       "X776.411_2.398 X792.329_2.764 X811.309_2.773  X811.31_2.767 X819.211_2.398 \n",
       "     0.8741543      1.3543925      1.5994148      1.2912054      0.5975574 \n",
       "X819.322_2.398 X819.378_2.399 \n",
       "     0.6540985      1.0466532 "
      ]
     },
     "metadata": {},
     "output_type": "display_data"
    }
   ],
   "source": [
    "fch"
   ]
  },
  {
   "cell_type": "code",
   "execution_count": 20,
   "metadata": {
    "scrolled": false
   },
   "outputs": [],
   "source": [
    "#Convoluted way to get the names; likely could find a simpler way\n",
    "\n",
    "#make dataframe from pval and fch\n",
    "df <- data.frame(fch,pval, pAdj)\n",
    "write.csv(df, \"RVT-wilcox-9-15.csv\")"
   ]
  },
  {
   "cell_type": "code",
   "execution_count": null,
   "metadata": {},
   "outputs": [],
   "source": []
  },
  {
   "cell_type": "code",
   "execution_count": null,
   "metadata": {},
   "outputs": [],
   "source": []
  }
 ],
 "metadata": {
  "kernelspec": {
   "display_name": "R",
   "language": "R",
   "name": "ir"
  },
  "language_info": {
   "codemirror_mode": "r",
   "file_extension": ".r",
   "mimetype": "text/x-r-source",
   "name": "R",
   "pygments_lexer": "r",
   "version": "3.6.1"
  }
 },
 "nbformat": 4,
 "nbformat_minor": 2
}
