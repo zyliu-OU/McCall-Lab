{
 "cells": [
  {
   "cell_type": "code",
   "execution_count": null,
   "metadata": {},
   "outputs": [],
   "source": [
    "# after I have filtered feature table, I do wilcox p value for filtered mass list. So that the p value will be more accurate"
   ]
  },
  {
   "cell_type": "code",
   "execution_count": 1,
   "metadata": {},
   "outputs": [],
   "source": [
    "a <- read.csv(\"03172021-9-15-3E-1C-LVB-M-F-filtered-fix.csv\")"
   ]
  },
  {
   "cell_type": "code",
   "execution_count": 2,
   "metadata": {},
   "outputs": [
    {
     "data": {
      "text/html": [
       "<table>\n",
       "<thead><tr><th scope=col>filename</th><th scope=col>MouseID</th><th scope=col>Treatmentgroup</th><th scope=col>DPI</th><th scope=col>organ</th><th scope=col>well_position</th><th scope=col>plate</th><th scope=col>X105.07_2.767</th><th scope=col>X119.049_2.765</th><th scope=col>X128.018_0.344</th><th scope=col>...</th><th scope=col>X599.241_2.765</th><th scope=col>X604.362_2.948</th><th scope=col>X620.356_2.913</th><th scope=col>X682.363_3.329</th><th scope=col>X682.364_3.313</th><th scope=col>X764.524_3.729</th><th scope=col>X790.38_2.768</th><th scope=col>X792.329_2.764</th><th scope=col>X795.335_2.768</th><th scope=col>X811.309_2.773</th></tr></thead>\n",
       "<tbody>\n",
       "\t<tr><td>X511_Group1C_142dpi_LV_bottom_161_G_A1_P132.mzXML</td><td>511                                              </td><td>Group1C                                          </td><td>142dpi                                           </td><td>LV_bottom                                        </td><td>A1                                               </td><td>P132                                             </td><td>0.001681762                                      </td><td>0.000000000                                      </td><td>0                                                </td><td>...                                              </td><td>0.000000000                                      </td><td>0.001281931                                      </td><td>0.000659514                                      </td><td>0.000320160                                      </td><td>0                                                </td><td>0                                                </td><td>0.000370969                                      </td><td>0.00e+00                                         </td><td>0.000245626                                      </td><td>0.000038000                                      </td></tr>\n",
       "\t<tr><td>X512_Group1C_142dpi_LV_bottom_162_G_A2_P132.mzXML</td><td>512                                              </td><td>Group1C                                          </td><td>142dpi                                           </td><td>LV_bottom                                        </td><td>A2                                               </td><td>P132                                             </td><td>0.001668227                                      </td><td>0.000020400                                      </td><td>0                                                </td><td>...                                              </td><td>0.000050000                                      </td><td>0.000671298                                      </td><td>0.000483435                                      </td><td>0.000179208                                      </td><td>0                                                </td><td>0                                                </td><td>0.000586134                                      </td><td>0.00e+00                                         </td><td>0.000211682                                      </td><td>0.000020900                                      </td></tr>\n",
       "\t<tr><td>X513_Group1C_142dpi_LV_bottom_163_G_A3_P132.mzXML</td><td>513                                              </td><td>Group1C                                          </td><td>142dpi                                           </td><td>LV_bottom                                        </td><td>A3                                               </td><td>P132                                             </td><td>0.002195508                                      </td><td>0.000000000                                      </td><td>0                                                </td><td>...                                              </td><td>0.000082900                                      </td><td>0.000706708                                      </td><td>0.000317234                                      </td><td>0.000099800                                      </td><td>0                                                </td><td>0                                                </td><td>0.001133874                                      </td><td>0.00e+00                                         </td><td>0.000741259                                      </td><td>0.000095300                                      </td></tr>\n",
       "\t<tr><td>X514_Group1C_142dpi_LV_bottom_164_G_A4_P132.mzXML</td><td>514                                              </td><td>Group1C                                          </td><td>142dpi                                           </td><td>LV_bottom                                        </td><td>A4                                               </td><td>P132                                             </td><td>0.003006615                                      </td><td>0.000063800                                      </td><td>0                                                </td><td>...                                              </td><td>0.000099100                                      </td><td>0.000930076                                      </td><td>0.000245202                                      </td><td>0.000234970                                      </td><td>0                                                </td><td>0                                                </td><td>0.001150258                                      </td><td>0.00e+00                                         </td><td>0.000713691                                      </td><td>0.000174109                                      </td></tr>\n",
       "\t<tr><td>X515_Group1C_142dpi_LV_bottom_165_G_A5_P132.mzXML</td><td>515                                              </td><td>Group1C                                          </td><td>142dpi                                           </td><td>LV_bottom                                        </td><td>A5                                               </td><td>P132                                             </td><td>0.002858430                                      </td><td>0.000000000                                      </td><td>0                                                </td><td>...                                              </td><td>0.000178807                                      </td><td>0.000744165                                      </td><td>0.000302164                                      </td><td>0.000251297                                      </td><td>0                                                </td><td>0                                                </td><td>0.001161454                                      </td><td>4.09e-05                                         </td><td>0.000765030                                      </td><td>0.000136971                                      </td></tr>\n",
       "\t<tr><td>X531_Group1C_142dpi_LV_bottom_166_G_A6_P132.mzXML</td><td>531                                              </td><td>Group1C                                          </td><td>142dpi                                           </td><td>LV_bottom                                        </td><td>A6                                               </td><td>P132                                             </td><td>0.003596194                                      </td><td>0.000107639                                      </td><td>0                                                </td><td>...                                              </td><td>0.000280413                                      </td><td>0.000626765                                      </td><td>0.000345920                                      </td><td>0.000112422                                      </td><td>0                                                </td><td>0                                                </td><td>0.001883720                                      </td><td>8.53e-05                                         </td><td>0.001150782                                      </td><td>0.000161828                                      </td></tr>\n",
       "</tbody>\n",
       "</table>\n"
      ],
      "text/latex": [
       "\\begin{tabular}{r|llllllllllllllllllllllllllllllllllllllllllllllllllllllllllllll}\n",
       " filename & MouseID & Treatmentgroup & DPI & organ & well\\_position & plate & X105.07\\_2.767 & X119.049\\_2.765 & X128.018\\_0.344 & ... & X599.241\\_2.765 & X604.362\\_2.948 & X620.356\\_2.913 & X682.363\\_3.329 & X682.364\\_3.313 & X764.524\\_3.729 & X790.38\\_2.768 & X792.329\\_2.764 & X795.335\\_2.768 & X811.309\\_2.773\\\\\n",
       "\\hline\n",
       "\t X511\\_Group1C\\_142dpi\\_LV\\_bottom\\_161\\_G\\_A1\\_P132.mzXML & 511                                                               & Group1C                                                           & 142dpi                                                            & LV\\_bottom                                                       & A1                                                                & P132                                                              & 0.001681762                                                       & 0.000000000                                                       & 0                                                                 & ...                                                               & 0.000000000                                                       & 0.001281931                                                       & 0.000659514                                                       & 0.000320160                                                       & 0                                                                 & 0                                                                 & 0.000370969                                                       & 0.00e+00                                                          & 0.000245626                                                       & 0.000038000                                                      \\\\\n",
       "\t X512\\_Group1C\\_142dpi\\_LV\\_bottom\\_162\\_G\\_A2\\_P132.mzXML & 512                                                               & Group1C                                                           & 142dpi                                                            & LV\\_bottom                                                       & A2                                                                & P132                                                              & 0.001668227                                                       & 0.000020400                                                       & 0                                                                 & ...                                                               & 0.000050000                                                       & 0.000671298                                                       & 0.000483435                                                       & 0.000179208                                                       & 0                                                                 & 0                                                                 & 0.000586134                                                       & 0.00e+00                                                          & 0.000211682                                                       & 0.000020900                                                      \\\\\n",
       "\t X513\\_Group1C\\_142dpi\\_LV\\_bottom\\_163\\_G\\_A3\\_P132.mzXML & 513                                                               & Group1C                                                           & 142dpi                                                            & LV\\_bottom                                                       & A3                                                                & P132                                                              & 0.002195508                                                       & 0.000000000                                                       & 0                                                                 & ...                                                               & 0.000082900                                                       & 0.000706708                                                       & 0.000317234                                                       & 0.000099800                                                       & 0                                                                 & 0                                                                 & 0.001133874                                                       & 0.00e+00                                                          & 0.000741259                                                       & 0.000095300                                                      \\\\\n",
       "\t X514\\_Group1C\\_142dpi\\_LV\\_bottom\\_164\\_G\\_A4\\_P132.mzXML & 514                                                               & Group1C                                                           & 142dpi                                                            & LV\\_bottom                                                       & A4                                                                & P132                                                              & 0.003006615                                                       & 0.000063800                                                       & 0                                                                 & ...                                                               & 0.000099100                                                       & 0.000930076                                                       & 0.000245202                                                       & 0.000234970                                                       & 0                                                                 & 0                                                                 & 0.001150258                                                       & 0.00e+00                                                          & 0.000713691                                                       & 0.000174109                                                      \\\\\n",
       "\t X515\\_Group1C\\_142dpi\\_LV\\_bottom\\_165\\_G\\_A5\\_P132.mzXML & 515                                                               & Group1C                                                           & 142dpi                                                            & LV\\_bottom                                                       & A5                                                                & P132                                                              & 0.002858430                                                       & 0.000000000                                                       & 0                                                                 & ...                                                               & 0.000178807                                                       & 0.000744165                                                       & 0.000302164                                                       & 0.000251297                                                       & 0                                                                 & 0                                                                 & 0.001161454                                                       & 4.09e-05                                                          & 0.000765030                                                       & 0.000136971                                                      \\\\\n",
       "\t X531\\_Group1C\\_142dpi\\_LV\\_bottom\\_166\\_G\\_A6\\_P132.mzXML & 531                                                               & Group1C                                                           & 142dpi                                                            & LV\\_bottom                                                       & A6                                                                & P132                                                              & 0.003596194                                                       & 0.000107639                                                       & 0                                                                 & ...                                                               & 0.000280413                                                       & 0.000626765                                                       & 0.000345920                                                       & 0.000112422                                                       & 0                                                                 & 0                                                                 & 0.001883720                                                       & 8.53e-05                                                          & 0.001150782                                                       & 0.000161828                                                      \\\\\n",
       "\\end{tabular}\n"
      ],
      "text/markdown": [
       "\n",
       "| filename | MouseID | Treatmentgroup | DPI | organ | well_position | plate | X105.07_2.767 | X119.049_2.765 | X128.018_0.344 | ... | X599.241_2.765 | X604.362_2.948 | X620.356_2.913 | X682.363_3.329 | X682.364_3.313 | X764.524_3.729 | X790.38_2.768 | X792.329_2.764 | X795.335_2.768 | X811.309_2.773 |\n",
       "|---|---|---|---|---|---|---|---|---|---|---|---|---|---|---|---|---|---|---|---|---|\n",
       "| X511_Group1C_142dpi_LV_bottom_161_G_A1_P132.mzXML | 511                                               | Group1C                                           | 142dpi                                            | LV_bottom                                         | A1                                                | P132                                              | 0.001681762                                       | 0.000000000                                       | 0                                                 | ...                                               | 0.000000000                                       | 0.001281931                                       | 0.000659514                                       | 0.000320160                                       | 0                                                 | 0                                                 | 0.000370969                                       | 0.00e+00                                          | 0.000245626                                       | 0.000038000                                       |\n",
       "| X512_Group1C_142dpi_LV_bottom_162_G_A2_P132.mzXML | 512                                               | Group1C                                           | 142dpi                                            | LV_bottom                                         | A2                                                | P132                                              | 0.001668227                                       | 0.000020400                                       | 0                                                 | ...                                               | 0.000050000                                       | 0.000671298                                       | 0.000483435                                       | 0.000179208                                       | 0                                                 | 0                                                 | 0.000586134                                       | 0.00e+00                                          | 0.000211682                                       | 0.000020900                                       |\n",
       "| X513_Group1C_142dpi_LV_bottom_163_G_A3_P132.mzXML | 513                                               | Group1C                                           | 142dpi                                            | LV_bottom                                         | A3                                                | P132                                              | 0.002195508                                       | 0.000000000                                       | 0                                                 | ...                                               | 0.000082900                                       | 0.000706708                                       | 0.000317234                                       | 0.000099800                                       | 0                                                 | 0                                                 | 0.001133874                                       | 0.00e+00                                          | 0.000741259                                       | 0.000095300                                       |\n",
       "| X514_Group1C_142dpi_LV_bottom_164_G_A4_P132.mzXML | 514                                               | Group1C                                           | 142dpi                                            | LV_bottom                                         | A4                                                | P132                                              | 0.003006615                                       | 0.000063800                                       | 0                                                 | ...                                               | 0.000099100                                       | 0.000930076                                       | 0.000245202                                       | 0.000234970                                       | 0                                                 | 0                                                 | 0.001150258                                       | 0.00e+00                                          | 0.000713691                                       | 0.000174109                                       |\n",
       "| X515_Group1C_142dpi_LV_bottom_165_G_A5_P132.mzXML | 515                                               | Group1C                                           | 142dpi                                            | LV_bottom                                         | A5                                                | P132                                              | 0.002858430                                       | 0.000000000                                       | 0                                                 | ...                                               | 0.000178807                                       | 0.000744165                                       | 0.000302164                                       | 0.000251297                                       | 0                                                 | 0                                                 | 0.001161454                                       | 4.09e-05                                          | 0.000765030                                       | 0.000136971                                       |\n",
       "| X531_Group1C_142dpi_LV_bottom_166_G_A6_P132.mzXML | 531                                               | Group1C                                           | 142dpi                                            | LV_bottom                                         | A6                                                | P132                                              | 0.003596194                                       | 0.000107639                                       | 0                                                 | ...                                               | 0.000280413                                       | 0.000626765                                       | 0.000345920                                       | 0.000112422                                       | 0                                                 | 0                                                 | 0.001883720                                       | 8.53e-05                                          | 0.001150782                                       | 0.000161828                                       |\n",
       "\n"
      ],
      "text/plain": [
       "  filename                                          MouseID Treatmentgroup\n",
       "1 X511_Group1C_142dpi_LV_bottom_161_G_A1_P132.mzXML 511     Group1C       \n",
       "2 X512_Group1C_142dpi_LV_bottom_162_G_A2_P132.mzXML 512     Group1C       \n",
       "3 X513_Group1C_142dpi_LV_bottom_163_G_A3_P132.mzXML 513     Group1C       \n",
       "4 X514_Group1C_142dpi_LV_bottom_164_G_A4_P132.mzXML 514     Group1C       \n",
       "5 X515_Group1C_142dpi_LV_bottom_165_G_A5_P132.mzXML 515     Group1C       \n",
       "6 X531_Group1C_142dpi_LV_bottom_166_G_A6_P132.mzXML 531     Group1C       \n",
       "  DPI    organ     well_position plate X105.07_2.767 X119.049_2.765\n",
       "1 142dpi LV_bottom A1            P132  0.001681762   0.000000000   \n",
       "2 142dpi LV_bottom A2            P132  0.001668227   0.000020400   \n",
       "3 142dpi LV_bottom A3            P132  0.002195508   0.000000000   \n",
       "4 142dpi LV_bottom A4            P132  0.003006615   0.000063800   \n",
       "5 142dpi LV_bottom A5            P132  0.002858430   0.000000000   \n",
       "6 142dpi LV_bottom A6            P132  0.003596194   0.000107639   \n",
       "  X128.018_0.344 ... X599.241_2.765 X604.362_2.948 X620.356_2.913\n",
       "1 0              ... 0.000000000    0.001281931    0.000659514   \n",
       "2 0              ... 0.000050000    0.000671298    0.000483435   \n",
       "3 0              ... 0.000082900    0.000706708    0.000317234   \n",
       "4 0              ... 0.000099100    0.000930076    0.000245202   \n",
       "5 0              ... 0.000178807    0.000744165    0.000302164   \n",
       "6 0              ... 0.000280413    0.000626765    0.000345920   \n",
       "  X682.363_3.329 X682.364_3.313 X764.524_3.729 X790.38_2.768 X792.329_2.764\n",
       "1 0.000320160    0              0              0.000370969   0.00e+00      \n",
       "2 0.000179208    0              0              0.000586134   0.00e+00      \n",
       "3 0.000099800    0              0              0.001133874   0.00e+00      \n",
       "4 0.000234970    0              0              0.001150258   0.00e+00      \n",
       "5 0.000251297    0              0              0.001161454   4.09e-05      \n",
       "6 0.000112422    0              0              0.001883720   8.53e-05      \n",
       "  X795.335_2.768 X811.309_2.773\n",
       "1 0.000245626    0.000038000   \n",
       "2 0.000211682    0.000020900   \n",
       "3 0.000741259    0.000095300   \n",
       "4 0.000713691    0.000174109   \n",
       "5 0.000765030    0.000136971   \n",
       "6 0.001150782    0.000161828   "
      ]
     },
     "metadata": {},
     "output_type": "display_data"
    },
    {
     "data": {
      "text/html": [
       "<ol class=list-inline>\n",
       "\t<li>60</li>\n",
       "\t<li>62</li>\n",
       "</ol>\n"
      ],
      "text/latex": [
       "\\begin{enumerate*}\n",
       "\\item 60\n",
       "\\item 62\n",
       "\\end{enumerate*}\n"
      ],
      "text/markdown": [
       "1. 60\n",
       "2. 62\n",
       "\n",
       "\n"
      ],
      "text/plain": [
       "[1] 60 62"
      ]
     },
     "metadata": {},
     "output_type": "display_data"
    }
   ],
   "source": [
    "head(a)\n",
    "dim(a)"
   ]
  },
  {
   "cell_type": "code",
   "execution_count": 3,
   "metadata": {},
   "outputs": [
    {
     "data": {
      "text/html": [
       "<table>\n",
       "<thead><tr><th></th><th scope=col>filename</th><th scope=col>MouseID</th><th scope=col>Treatmentgroup</th><th scope=col>DPI</th><th scope=col>organ</th><th scope=col>well_position</th><th scope=col>plate</th><th scope=col>X105.07_2.767</th><th scope=col>X119.049_2.765</th><th scope=col>X128.018_0.344</th><th scope=col>...</th><th scope=col>X599.241_2.765</th><th scope=col>X604.362_2.948</th><th scope=col>X620.356_2.913</th><th scope=col>X682.363_3.329</th><th scope=col>X682.364_3.313</th><th scope=col>X764.524_3.729</th><th scope=col>X790.38_2.768</th><th scope=col>X792.329_2.764</th><th scope=col>X795.335_2.768</th><th scope=col>X811.309_2.773</th></tr></thead>\n",
       "<tbody>\n",
       "\t<tr><th scope=row>16</th><td>X581_Group3E_142dpi_LV_bottom_176_G_B4_P132.mzXML</td><td>581                                              </td><td>Group3E                                          </td><td>142dpi                                           </td><td>LV_bottom                                        </td><td>B4                                               </td><td>P132                                             </td><td>0.003203513                                      </td><td>0.000128479                                      </td><td>0.000138911                                      </td><td>...                                              </td><td>0.000221365                                      </td><td>0.000534956                                      </td><td>0.000413657                                      </td><td>0                                                </td><td>0.000190736                                      </td><td>0.000184619                                      </td><td>0.001623528                                      </td><td>0.000000000                                      </td><td>0.000945503                                      </td><td>0.000217402                                      </td></tr>\n",
       "\t<tr><th scope=row>17</th><td>X582_Group3E_142dpi_LV_bottom_177_G_B5_P132.mzXML</td><td>582                                              </td><td>Group3E                                          </td><td>142dpi                                           </td><td>LV_bottom                                        </td><td>B5                                               </td><td>P132                                             </td><td>0.003154399                                      </td><td>0.000108881                                      </td><td>0.000054600                                      </td><td>...                                              </td><td>0.000268459                                      </td><td>0.000342286                                      </td><td>0.000076900                                      </td><td>0                                                </td><td>0.000165649                                      </td><td>0.000378080                                      </td><td>0.001671160                                      </td><td>0.000073800                                      </td><td>0.001031332                                      </td><td>0.000176385                                      </td></tr>\n",
       "\t<tr><th scope=row>18</th><td>X583_Group3E_142dpi_LV_bottom_178_G_B6_P132.mzXML</td><td>583                                              </td><td>Group3E                                          </td><td>142dpi                                           </td><td>LV_bottom                                        </td><td>B6                                               </td><td>P132                                             </td><td>0.003181185                                      </td><td>0.000127449                                      </td><td>0.000063000                                      </td><td>...                                              </td><td>0.000318118                                      </td><td>0.000542185                                      </td><td>0.000184548                                      </td><td>0                                                </td><td>0.000051700                                      </td><td>0.001618255                                      </td><td>0.002251726                                      </td><td>0.000094400                                      </td><td>0.001103733                                      </td><td>0.000096100                                      </td></tr>\n",
       "\t<tr><th scope=row>19</th><td>X584_Group3E_142dpi_LV_bottom_179_G_B7_P132.mzXML</td><td>584                                              </td><td>Group3E                                          </td><td>142dpi                                           </td><td>LV_bottom                                        </td><td>B7                                               </td><td>P132                                             </td><td>0.004219694                                      </td><td>0.000194733                                      </td><td>0.000115753                                      </td><td>...                                              </td><td>0.000399313                                      </td><td>0.000404977                                      </td><td>0.000228200                                      </td><td>0                                                </td><td>0.000177511                                      </td><td>0.000082300                                      </td><td>0.002483672                                      </td><td>0.000069700                                      </td><td>0.001435829                                      </td><td>0.000237145                                      </td></tr>\n",
       "\t<tr><th scope=row>20</th><td>X585_Group3E_142dpi_LV_bottom_180_G_B8_P132.mzXML</td><td>585                                              </td><td>Group3E                                          </td><td>142dpi                                           </td><td>LV_bottom                                        </td><td>B8                                               </td><td>P132                                             </td><td>0.004127403                                      </td><td>0.000132620                                      </td><td>0.000103152                                      </td><td>...                                              </td><td>0.000388099                                      </td><td>0.000588309                                      </td><td>0.000174824                                      </td><td>0                                                </td><td>0.000254230                                      </td><td>0.000180185                                      </td><td>0.002624289                                      </td><td>0.000105303                                      </td><td>0.001475393                                      </td><td>0.000225354                                      </td></tr>\n",
       "\t<tr><th scope=row>26</th><td>X631_Group15_142dpi_LV_bottom_191_G_C7_P132.mzXML</td><td>631                                              </td><td>Group15                                          </td><td>142dpi                                           </td><td>LV_bottom                                        </td><td>C7                                               </td><td>P132                                             </td><td>0.005239874                                      </td><td>0.000193567                                      </td><td>0.000000000                                      </td><td>...                                              </td><td>0.000481787                                      </td><td>0.000611905                                      </td><td>0.000393870                                      </td><td>0                                                </td><td>0.000071600                                      </td><td>0.000812356                                      </td><td>0.003150958                                      </td><td>0.000176765                                      </td><td>0.002022099                                      </td><td>0.000231479                                      </td></tr>\n",
       "</tbody>\n",
       "</table>\n"
      ],
      "text/latex": [
       "\\begin{tabular}{r|llllllllllllllllllllllllllllllllllllllllllllllllllllllllllllll}\n",
       "  & filename & MouseID & Treatmentgroup & DPI & organ & well\\_position & plate & X105.07\\_2.767 & X119.049\\_2.765 & X128.018\\_0.344 & ... & X599.241\\_2.765 & X604.362\\_2.948 & X620.356\\_2.913 & X682.363\\_3.329 & X682.364\\_3.313 & X764.524\\_3.729 & X790.38\\_2.768 & X792.329\\_2.764 & X795.335\\_2.768 & X811.309\\_2.773\\\\\n",
       "\\hline\n",
       "\t16 & X581\\_Group3E\\_142dpi\\_LV\\_bottom\\_176\\_G\\_B4\\_P132.mzXML & 581                                                               & Group3E                                                           & 142dpi                                                            & LV\\_bottom                                                       & B4                                                                & P132                                                              & 0.003203513                                                       & 0.000128479                                                       & 0.000138911                                                       & ...                                                               & 0.000221365                                                       & 0.000534956                                                       & 0.000413657                                                       & 0                                                                 & 0.000190736                                                       & 0.000184619                                                       & 0.001623528                                                       & 0.000000000                                                       & 0.000945503                                                       & 0.000217402                                                      \\\\\n",
       "\t17 & X582\\_Group3E\\_142dpi\\_LV\\_bottom\\_177\\_G\\_B5\\_P132.mzXML & 582                                                               & Group3E                                                           & 142dpi                                                            & LV\\_bottom                                                       & B5                                                                & P132                                                              & 0.003154399                                                       & 0.000108881                                                       & 0.000054600                                                       & ...                                                               & 0.000268459                                                       & 0.000342286                                                       & 0.000076900                                                       & 0                                                                 & 0.000165649                                                       & 0.000378080                                                       & 0.001671160                                                       & 0.000073800                                                       & 0.001031332                                                       & 0.000176385                                                      \\\\\n",
       "\t18 & X583\\_Group3E\\_142dpi\\_LV\\_bottom\\_178\\_G\\_B6\\_P132.mzXML & 583                                                               & Group3E                                                           & 142dpi                                                            & LV\\_bottom                                                       & B6                                                                & P132                                                              & 0.003181185                                                       & 0.000127449                                                       & 0.000063000                                                       & ...                                                               & 0.000318118                                                       & 0.000542185                                                       & 0.000184548                                                       & 0                                                                 & 0.000051700                                                       & 0.001618255                                                       & 0.002251726                                                       & 0.000094400                                                       & 0.001103733                                                       & 0.000096100                                                      \\\\\n",
       "\t19 & X584\\_Group3E\\_142dpi\\_LV\\_bottom\\_179\\_G\\_B7\\_P132.mzXML & 584                                                               & Group3E                                                           & 142dpi                                                            & LV\\_bottom                                                       & B7                                                                & P132                                                              & 0.004219694                                                       & 0.000194733                                                       & 0.000115753                                                       & ...                                                               & 0.000399313                                                       & 0.000404977                                                       & 0.000228200                                                       & 0                                                                 & 0.000177511                                                       & 0.000082300                                                       & 0.002483672                                                       & 0.000069700                                                       & 0.001435829                                                       & 0.000237145                                                      \\\\\n",
       "\t20 & X585\\_Group3E\\_142dpi\\_LV\\_bottom\\_180\\_G\\_B8\\_P132.mzXML & 585                                                               & Group3E                                                           & 142dpi                                                            & LV\\_bottom                                                       & B8                                                                & P132                                                              & 0.004127403                                                       & 0.000132620                                                       & 0.000103152                                                       & ...                                                               & 0.000388099                                                       & 0.000588309                                                       & 0.000174824                                                       & 0                                                                 & 0.000254230                                                       & 0.000180185                                                       & 0.002624289                                                       & 0.000105303                                                       & 0.001475393                                                       & 0.000225354                                                      \\\\\n",
       "\t26 & X631\\_Group15\\_142dpi\\_LV\\_bottom\\_191\\_G\\_C7\\_P132.mzXML & 631                                                               & Group15                                                           & 142dpi                                                            & LV\\_bottom                                                       & C7                                                                & P132                                                              & 0.005239874                                                       & 0.000193567                                                       & 0.000000000                                                       & ...                                                               & 0.000481787                                                       & 0.000611905                                                       & 0.000393870                                                       & 0                                                                 & 0.000071600                                                       & 0.000812356                                                       & 0.003150958                                                       & 0.000176765                                                       & 0.002022099                                                       & 0.000231479                                                      \\\\\n",
       "\\end{tabular}\n"
      ],
      "text/markdown": [
       "\n",
       "| <!--/--> | filename | MouseID | Treatmentgroup | DPI | organ | well_position | plate | X105.07_2.767 | X119.049_2.765 | X128.018_0.344 | ... | X599.241_2.765 | X604.362_2.948 | X620.356_2.913 | X682.363_3.329 | X682.364_3.313 | X764.524_3.729 | X790.38_2.768 | X792.329_2.764 | X795.335_2.768 | X811.309_2.773 |\n",
       "|---|---|---|---|---|---|---|---|---|---|---|---|---|---|---|---|---|---|---|---|---|---|\n",
       "| 16 | X581_Group3E_142dpi_LV_bottom_176_G_B4_P132.mzXML | 581                                               | Group3E                                           | 142dpi                                            | LV_bottom                                         | B4                                                | P132                                              | 0.003203513                                       | 0.000128479                                       | 0.000138911                                       | ...                                               | 0.000221365                                       | 0.000534956                                       | 0.000413657                                       | 0                                                 | 0.000190736                                       | 0.000184619                                       | 0.001623528                                       | 0.000000000                                       | 0.000945503                                       | 0.000217402                                       |\n",
       "| 17 | X582_Group3E_142dpi_LV_bottom_177_G_B5_P132.mzXML | 582                                               | Group3E                                           | 142dpi                                            | LV_bottom                                         | B5                                                | P132                                              | 0.003154399                                       | 0.000108881                                       | 0.000054600                                       | ...                                               | 0.000268459                                       | 0.000342286                                       | 0.000076900                                       | 0                                                 | 0.000165649                                       | 0.000378080                                       | 0.001671160                                       | 0.000073800                                       | 0.001031332                                       | 0.000176385                                       |\n",
       "| 18 | X583_Group3E_142dpi_LV_bottom_178_G_B6_P132.mzXML | 583                                               | Group3E                                           | 142dpi                                            | LV_bottom                                         | B6                                                | P132                                              | 0.003181185                                       | 0.000127449                                       | 0.000063000                                       | ...                                               | 0.000318118                                       | 0.000542185                                       | 0.000184548                                       | 0                                                 | 0.000051700                                       | 0.001618255                                       | 0.002251726                                       | 0.000094400                                       | 0.001103733                                       | 0.000096100                                       |\n",
       "| 19 | X584_Group3E_142dpi_LV_bottom_179_G_B7_P132.mzXML | 584                                               | Group3E                                           | 142dpi                                            | LV_bottom                                         | B7                                                | P132                                              | 0.004219694                                       | 0.000194733                                       | 0.000115753                                       | ...                                               | 0.000399313                                       | 0.000404977                                       | 0.000228200                                       | 0                                                 | 0.000177511                                       | 0.000082300                                       | 0.002483672                                       | 0.000069700                                       | 0.001435829                                       | 0.000237145                                       |\n",
       "| 20 | X585_Group3E_142dpi_LV_bottom_180_G_B8_P132.mzXML | 585                                               | Group3E                                           | 142dpi                                            | LV_bottom                                         | B8                                                | P132                                              | 0.004127403                                       | 0.000132620                                       | 0.000103152                                       | ...                                               | 0.000388099                                       | 0.000588309                                       | 0.000174824                                       | 0                                                 | 0.000254230                                       | 0.000180185                                       | 0.002624289                                       | 0.000105303                                       | 0.001475393                                       | 0.000225354                                       |\n",
       "| 26 | X631_Group15_142dpi_LV_bottom_191_G_C7_P132.mzXML | 631                                               | Group15                                           | 142dpi                                            | LV_bottom                                         | C7                                                | P132                                              | 0.005239874                                       | 0.000193567                                       | 0.000000000                                       | ...                                               | 0.000481787                                       | 0.000611905                                       | 0.000393870                                       | 0                                                 | 0.000071600                                       | 0.000812356                                       | 0.003150958                                       | 0.000176765                                       | 0.002022099                                       | 0.000231479                                       |\n",
       "\n"
      ],
      "text/plain": [
       "   filename                                          MouseID Treatmentgroup\n",
       "16 X581_Group3E_142dpi_LV_bottom_176_G_B4_P132.mzXML 581     Group3E       \n",
       "17 X582_Group3E_142dpi_LV_bottom_177_G_B5_P132.mzXML 582     Group3E       \n",
       "18 X583_Group3E_142dpi_LV_bottom_178_G_B6_P132.mzXML 583     Group3E       \n",
       "19 X584_Group3E_142dpi_LV_bottom_179_G_B7_P132.mzXML 584     Group3E       \n",
       "20 X585_Group3E_142dpi_LV_bottom_180_G_B8_P132.mzXML 585     Group3E       \n",
       "26 X631_Group15_142dpi_LV_bottom_191_G_C7_P132.mzXML 631     Group15       \n",
       "   DPI    organ     well_position plate X105.07_2.767 X119.049_2.765\n",
       "16 142dpi LV_bottom B4            P132  0.003203513   0.000128479   \n",
       "17 142dpi LV_bottom B5            P132  0.003154399   0.000108881   \n",
       "18 142dpi LV_bottom B6            P132  0.003181185   0.000127449   \n",
       "19 142dpi LV_bottom B7            P132  0.004219694   0.000194733   \n",
       "20 142dpi LV_bottom B8            P132  0.004127403   0.000132620   \n",
       "26 142dpi LV_bottom C7            P132  0.005239874   0.000193567   \n",
       "   X128.018_0.344 ... X599.241_2.765 X604.362_2.948 X620.356_2.913\n",
       "16 0.000138911    ... 0.000221365    0.000534956    0.000413657   \n",
       "17 0.000054600    ... 0.000268459    0.000342286    0.000076900   \n",
       "18 0.000063000    ... 0.000318118    0.000542185    0.000184548   \n",
       "19 0.000115753    ... 0.000399313    0.000404977    0.000228200   \n",
       "20 0.000103152    ... 0.000388099    0.000588309    0.000174824   \n",
       "26 0.000000000    ... 0.000481787    0.000611905    0.000393870   \n",
       "   X682.363_3.329 X682.364_3.313 X764.524_3.729 X790.38_2.768 X792.329_2.764\n",
       "16 0              0.000190736    0.000184619    0.001623528   0.000000000   \n",
       "17 0              0.000165649    0.000378080    0.001671160   0.000073800   \n",
       "18 0              0.000051700    0.001618255    0.002251726   0.000094400   \n",
       "19 0              0.000177511    0.000082300    0.002483672   0.000069700   \n",
       "20 0              0.000254230    0.000180185    0.002624289   0.000105303   \n",
       "26 0              0.000071600    0.000812356    0.003150958   0.000176765   \n",
       "   X795.335_2.768 X811.309_2.773\n",
       "16 0.000945503    0.000217402   \n",
       "17 0.001031332    0.000176385   \n",
       "18 0.001103733    0.000096100   \n",
       "19 0.001435829    0.000237145   \n",
       "20 0.001475393    0.000225354   \n",
       "26 0.002022099    0.000231479   "
      ]
     },
     "metadata": {},
     "output_type": "display_data"
    },
    {
     "data": {
      "text/html": [
       "<ol class=list-inline>\n",
       "\t<li>30</li>\n",
       "\t<li>62</li>\n",
       "</ol>\n"
      ],
      "text/latex": [
       "\\begin{enumerate*}\n",
       "\\item 30\n",
       "\\item 62\n",
       "\\end{enumerate*}\n"
      ],
      "text/markdown": [
       "1. 30\n",
       "2. 62\n",
       "\n",
       "\n"
      ],
      "text/plain": [
       "[1] 30 62"
      ]
     },
     "metadata": {},
     "output_type": "display_data"
    }
   ],
   "source": [
    "# choose the lung posistion\n",
    "features_pos<-droplevels(subset(a, a$Treatmentgroup==c(\"Group15\")|a$Treatmentgroup==c(\"Group3E\")))\n",
    "head(features_pos)\n",
    "dim(features_pos)"
   ]
  },
  {
   "cell_type": "code",
   "execution_count": 4,
   "metadata": {
    "scrolled": false
   },
   "outputs": [
    {
     "data": {
      "text/html": [
       "<table>\n",
       "<thead><tr><th></th><th scope=col>X105.07_2.767</th><th scope=col>X119.049_2.765</th><th scope=col>X128.018_0.344</th><th scope=col>X136.062_0.301</th><th scope=col>X136.097_0.551</th><th scope=col>X137.046_0.31</th><th scope=col>X137.046_0.42</th><th scope=col>X203.007_0.309</th><th scope=col>X249.112_2.768</th><th scope=col>X251.037_0.323</th><th scope=col>...</th><th scope=col>X599.241_2.765</th><th scope=col>X604.362_2.948</th><th scope=col>X620.356_2.913</th><th scope=col>X682.363_3.329</th><th scope=col>X682.364_3.313</th><th scope=col>X764.524_3.729</th><th scope=col>X790.38_2.768</th><th scope=col>X792.329_2.764</th><th scope=col>X795.335_2.768</th><th scope=col>X811.309_2.773</th></tr></thead>\n",
       "<tbody>\n",
       "\t<tr><th scope=row>16</th><td>0.003203513</td><td>0.000128479</td><td>0.000138911</td><td>0.000000000</td><td>0.000048700</td><td>0.008895191</td><td>0.011818785</td><td>0.000000000</td><td>0.000051500</td><td>0.000023800</td><td>...        </td><td>0.000221365</td><td>0.000534956</td><td>0.000413657</td><td>0          </td><td>0.000190736</td><td>0.000184619</td><td>0.001623528</td><td>0.000000000</td><td>0.000945503</td><td>0.000217402</td></tr>\n",
       "\t<tr><th scope=row>17</th><td>0.003154399</td><td>0.000108881</td><td>0.000054600</td><td>0.000140447</td><td>0.000157467</td><td>0.007203662</td><td>0.006196939</td><td>0.000000000</td><td>0.000083200</td><td>0.000000000</td><td>...        </td><td>0.000268459</td><td>0.000342286</td><td>0.000076900</td><td>0          </td><td>0.000165649</td><td>0.000378080</td><td>0.001671160</td><td>0.000073800</td><td>0.001031332</td><td>0.000176385</td></tr>\n",
       "\t<tr><th scope=row>18</th><td>0.003181185</td><td>0.000127449</td><td>0.000063000</td><td>0.000043700</td><td>0.000080800</td><td>0.006556007</td><td>0.007717831</td><td>0.000100024</td><td>0.000078900</td><td>0.000213059</td><td>...        </td><td>0.000318118</td><td>0.000542185</td><td>0.000184548</td><td>0          </td><td>0.000051700</td><td>0.001618255</td><td>0.002251726</td><td>0.000094400</td><td>0.001103733</td><td>0.000096100</td></tr>\n",
       "\t<tr><th scope=row>19</th><td>0.004219694</td><td>0.000194733</td><td>0.000115753</td><td>0.000314353</td><td>0.000000000</td><td>0.009175710</td><td>0.008382747</td><td>0.000000000</td><td>0.000107251</td><td>0.000000000</td><td>...        </td><td>0.000399313</td><td>0.000404977</td><td>0.000228200</td><td>0          </td><td>0.000177511</td><td>0.000082300</td><td>0.002483672</td><td>0.000069700</td><td>0.001435829</td><td>0.000237145</td></tr>\n",
       "\t<tr><th scope=row>20</th><td>0.004127403</td><td>0.000132620</td><td>0.000103152</td><td>0.000167028</td><td>0.000251822</td><td>0.006437517</td><td>0.011950989</td><td>0.000000000</td><td>0.000077800</td><td>0.000000000</td><td>...        </td><td>0.000388099</td><td>0.000588309</td><td>0.000174824</td><td>0          </td><td>0.000254230</td><td>0.000180185</td><td>0.002624289</td><td>0.000105303</td><td>0.001475393</td><td>0.000225354</td></tr>\n",
       "\t<tr><th scope=row>26</th><td>0.005239874</td><td>0.000193567</td><td>0.000000000</td><td>0.000135214</td><td>0.000000000</td><td>0.013996443</td><td>0.007244390</td><td>0.000067600</td><td>0.000160405</td><td>0.000000000</td><td>...        </td><td>0.000481787</td><td>0.000611905</td><td>0.000393870</td><td>0          </td><td>0.000071600</td><td>0.000812356</td><td>0.003150958</td><td>0.000176765</td><td>0.002022099</td><td>0.000231479</td></tr>\n",
       "</tbody>\n",
       "</table>\n"
      ],
      "text/latex": [
       "\\begin{tabular}{r|lllllllllllllllllllllllllllllllllllllllllllllllllllllll}\n",
       "  & X105.07\\_2.767 & X119.049\\_2.765 & X128.018\\_0.344 & X136.062\\_0.301 & X136.097\\_0.551 & X137.046\\_0.31 & X137.046\\_0.42 & X203.007\\_0.309 & X249.112\\_2.768 & X251.037\\_0.323 & ... & X599.241\\_2.765 & X604.362\\_2.948 & X620.356\\_2.913 & X682.363\\_3.329 & X682.364\\_3.313 & X764.524\\_3.729 & X790.38\\_2.768 & X792.329\\_2.764 & X795.335\\_2.768 & X811.309\\_2.773\\\\\n",
       "\\hline\n",
       "\t16 & 0.003203513 & 0.000128479 & 0.000138911 & 0.000000000 & 0.000048700 & 0.008895191 & 0.011818785 & 0.000000000 & 0.000051500 & 0.000023800 & ...         & 0.000221365 & 0.000534956 & 0.000413657 & 0           & 0.000190736 & 0.000184619 & 0.001623528 & 0.000000000 & 0.000945503 & 0.000217402\\\\\n",
       "\t17 & 0.003154399 & 0.000108881 & 0.000054600 & 0.000140447 & 0.000157467 & 0.007203662 & 0.006196939 & 0.000000000 & 0.000083200 & 0.000000000 & ...         & 0.000268459 & 0.000342286 & 0.000076900 & 0           & 0.000165649 & 0.000378080 & 0.001671160 & 0.000073800 & 0.001031332 & 0.000176385\\\\\n",
       "\t18 & 0.003181185 & 0.000127449 & 0.000063000 & 0.000043700 & 0.000080800 & 0.006556007 & 0.007717831 & 0.000100024 & 0.000078900 & 0.000213059 & ...         & 0.000318118 & 0.000542185 & 0.000184548 & 0           & 0.000051700 & 0.001618255 & 0.002251726 & 0.000094400 & 0.001103733 & 0.000096100\\\\\n",
       "\t19 & 0.004219694 & 0.000194733 & 0.000115753 & 0.000314353 & 0.000000000 & 0.009175710 & 0.008382747 & 0.000000000 & 0.000107251 & 0.000000000 & ...         & 0.000399313 & 0.000404977 & 0.000228200 & 0           & 0.000177511 & 0.000082300 & 0.002483672 & 0.000069700 & 0.001435829 & 0.000237145\\\\\n",
       "\t20 & 0.004127403 & 0.000132620 & 0.000103152 & 0.000167028 & 0.000251822 & 0.006437517 & 0.011950989 & 0.000000000 & 0.000077800 & 0.000000000 & ...         & 0.000388099 & 0.000588309 & 0.000174824 & 0           & 0.000254230 & 0.000180185 & 0.002624289 & 0.000105303 & 0.001475393 & 0.000225354\\\\\n",
       "\t26 & 0.005239874 & 0.000193567 & 0.000000000 & 0.000135214 & 0.000000000 & 0.013996443 & 0.007244390 & 0.000067600 & 0.000160405 & 0.000000000 & ...         & 0.000481787 & 0.000611905 & 0.000393870 & 0           & 0.000071600 & 0.000812356 & 0.003150958 & 0.000176765 & 0.002022099 & 0.000231479\\\\\n",
       "\\end{tabular}\n"
      ],
      "text/markdown": [
       "\n",
       "| <!--/--> | X105.07_2.767 | X119.049_2.765 | X128.018_0.344 | X136.062_0.301 | X136.097_0.551 | X137.046_0.31 | X137.046_0.42 | X203.007_0.309 | X249.112_2.768 | X251.037_0.323 | ... | X599.241_2.765 | X604.362_2.948 | X620.356_2.913 | X682.363_3.329 | X682.364_3.313 | X764.524_3.729 | X790.38_2.768 | X792.329_2.764 | X795.335_2.768 | X811.309_2.773 |\n",
       "|---|---|---|---|---|---|---|---|---|---|---|---|---|---|---|---|---|---|---|---|---|---|\n",
       "| 16 | 0.003203513 | 0.000128479 | 0.000138911 | 0.000000000 | 0.000048700 | 0.008895191 | 0.011818785 | 0.000000000 | 0.000051500 | 0.000023800 | ...         | 0.000221365 | 0.000534956 | 0.000413657 | 0           | 0.000190736 | 0.000184619 | 0.001623528 | 0.000000000 | 0.000945503 | 0.000217402 |\n",
       "| 17 | 0.003154399 | 0.000108881 | 0.000054600 | 0.000140447 | 0.000157467 | 0.007203662 | 0.006196939 | 0.000000000 | 0.000083200 | 0.000000000 | ...         | 0.000268459 | 0.000342286 | 0.000076900 | 0           | 0.000165649 | 0.000378080 | 0.001671160 | 0.000073800 | 0.001031332 | 0.000176385 |\n",
       "| 18 | 0.003181185 | 0.000127449 | 0.000063000 | 0.000043700 | 0.000080800 | 0.006556007 | 0.007717831 | 0.000100024 | 0.000078900 | 0.000213059 | ...         | 0.000318118 | 0.000542185 | 0.000184548 | 0           | 0.000051700 | 0.001618255 | 0.002251726 | 0.000094400 | 0.001103733 | 0.000096100 |\n",
       "| 19 | 0.004219694 | 0.000194733 | 0.000115753 | 0.000314353 | 0.000000000 | 0.009175710 | 0.008382747 | 0.000000000 | 0.000107251 | 0.000000000 | ...         | 0.000399313 | 0.000404977 | 0.000228200 | 0           | 0.000177511 | 0.000082300 | 0.002483672 | 0.000069700 | 0.001435829 | 0.000237145 |\n",
       "| 20 | 0.004127403 | 0.000132620 | 0.000103152 | 0.000167028 | 0.000251822 | 0.006437517 | 0.011950989 | 0.000000000 | 0.000077800 | 0.000000000 | ...         | 0.000388099 | 0.000588309 | 0.000174824 | 0           | 0.000254230 | 0.000180185 | 0.002624289 | 0.000105303 | 0.001475393 | 0.000225354 |\n",
       "| 26 | 0.005239874 | 0.000193567 | 0.000000000 | 0.000135214 | 0.000000000 | 0.013996443 | 0.007244390 | 0.000067600 | 0.000160405 | 0.000000000 | ...         | 0.000481787 | 0.000611905 | 0.000393870 | 0           | 0.000071600 | 0.000812356 | 0.003150958 | 0.000176765 | 0.002022099 | 0.000231479 |\n",
       "\n"
      ],
      "text/plain": [
       "   X105.07_2.767 X119.049_2.765 X128.018_0.344 X136.062_0.301 X136.097_0.551\n",
       "16 0.003203513   0.000128479    0.000138911    0.000000000    0.000048700   \n",
       "17 0.003154399   0.000108881    0.000054600    0.000140447    0.000157467   \n",
       "18 0.003181185   0.000127449    0.000063000    0.000043700    0.000080800   \n",
       "19 0.004219694   0.000194733    0.000115753    0.000314353    0.000000000   \n",
       "20 0.004127403   0.000132620    0.000103152    0.000167028    0.000251822   \n",
       "26 0.005239874   0.000193567    0.000000000    0.000135214    0.000000000   \n",
       "   X137.046_0.31 X137.046_0.42 X203.007_0.309 X249.112_2.768 X251.037_0.323 ...\n",
       "16 0.008895191   0.011818785   0.000000000    0.000051500    0.000023800    ...\n",
       "17 0.007203662   0.006196939   0.000000000    0.000083200    0.000000000    ...\n",
       "18 0.006556007   0.007717831   0.000100024    0.000078900    0.000213059    ...\n",
       "19 0.009175710   0.008382747   0.000000000    0.000107251    0.000000000    ...\n",
       "20 0.006437517   0.011950989   0.000000000    0.000077800    0.000000000    ...\n",
       "26 0.013996443   0.007244390   0.000067600    0.000160405    0.000000000    ...\n",
       "   X599.241_2.765 X604.362_2.948 X620.356_2.913 X682.363_3.329 X682.364_3.313\n",
       "16 0.000221365    0.000534956    0.000413657    0              0.000190736   \n",
       "17 0.000268459    0.000342286    0.000076900    0              0.000165649   \n",
       "18 0.000318118    0.000542185    0.000184548    0              0.000051700   \n",
       "19 0.000399313    0.000404977    0.000228200    0              0.000177511   \n",
       "20 0.000388099    0.000588309    0.000174824    0              0.000254230   \n",
       "26 0.000481787    0.000611905    0.000393870    0              0.000071600   \n",
       "   X764.524_3.729 X790.38_2.768 X792.329_2.764 X795.335_2.768 X811.309_2.773\n",
       "16 0.000184619    0.001623528   0.000000000    0.000945503    0.000217402   \n",
       "17 0.000378080    0.001671160   0.000073800    0.001031332    0.000176385   \n",
       "18 0.001618255    0.002251726   0.000094400    0.001103733    0.000096100   \n",
       "19 0.000082300    0.002483672   0.000069700    0.001435829    0.000237145   \n",
       "20 0.000180185    0.002624289   0.000105303    0.001475393    0.000225354   \n",
       "26 0.000812356    0.003150958   0.000176765    0.002022099    0.000231479   "
      ]
     },
     "metadata": {},
     "output_type": "display_data"
    },
    {
     "data": {
      "text/html": [
       "<dl class=dl-horizontal>\n",
       "\t<dt>X105.07_2.767</dt>\n",
       "\t\t<dd>1</dd>\n",
       "\t<dt>X119.049_2.765</dt>\n",
       "\t\t<dd>2</dd>\n",
       "\t<dt>X128.018_0.344</dt>\n",
       "\t\t<dd>3</dd>\n",
       "\t<dt>X136.062_0.301</dt>\n",
       "\t\t<dd>4</dd>\n",
       "\t<dt>X136.097_0.551</dt>\n",
       "\t\t<dd>5</dd>\n",
       "\t<dt>X137.046_0.31</dt>\n",
       "\t\t<dd>6</dd>\n",
       "</dl>\n"
      ],
      "text/latex": [
       "\\begin{description*}\n",
       "\\item[X105.07\\textbackslash{}\\_2.767] 1\n",
       "\\item[X119.049\\textbackslash{}\\_2.765] 2\n",
       "\\item[X128.018\\textbackslash{}\\_0.344] 3\n",
       "\\item[X136.062\\textbackslash{}\\_0.301] 4\n",
       "\\item[X136.097\\textbackslash{}\\_0.551] 5\n",
       "\\item[X137.046\\textbackslash{}\\_0.31] 6\n",
       "\\end{description*}\n"
      ],
      "text/markdown": [
       "X105.07_2.767\n",
       ":   1X119.049_2.765\n",
       ":   2X128.018_0.344\n",
       ":   3X136.062_0.301\n",
       ":   4X136.097_0.551\n",
       ":   5X137.046_0.31\n",
       ":   6\n",
       "\n"
      ],
      "text/plain": [
       " X105.07_2.767 X119.049_2.765 X128.018_0.344 X136.062_0.301 X136.097_0.551 \n",
       "             1              2              3              4              5 \n",
       " X137.046_0.31 \n",
       "             6 "
      ]
     },
     "metadata": {},
     "output_type": "display_data"
    },
    {
     "data": {
      "text/html": [
       "<table>\n",
       "<thead><tr><th></th><th scope=col>X105.07_2.767</th><th scope=col>X119.049_2.765</th><th scope=col>X128.018_0.344</th><th scope=col>X136.062_0.301</th><th scope=col>X136.097_0.551</th><th scope=col>X137.046_0.31</th><th scope=col>X137.046_0.42</th><th scope=col>X203.007_0.309</th><th scope=col>X249.112_2.768</th><th scope=col>X251.037_0.323</th><th scope=col>...</th><th scope=col>X580.362_2.984</th><th scope=col>X599.241_2.765</th><th scope=col>X604.362_2.948</th><th scope=col>X620.356_2.913</th><th scope=col>X682.364_3.313</th><th scope=col>X764.524_3.729</th><th scope=col>X790.38_2.768</th><th scope=col>X792.329_2.764</th><th scope=col>X795.335_2.768</th><th scope=col>X811.309_2.773</th></tr></thead>\n",
       "<tbody>\n",
       "\t<tr><th scope=row>16</th><td>0.003203513</td><td>0.000128479</td><td>0.000138911</td><td>0.000000000</td><td>0.000048700</td><td>0.008895191</td><td>0.011818785</td><td>0.000000000</td><td>0.000051500</td><td>0.000023800</td><td>...        </td><td>0.007837721</td><td>0.000221365</td><td>0.000534956</td><td>0.000413657</td><td>0.000190736</td><td>0.000184619</td><td>0.001623528</td><td>0.000000000</td><td>0.000945503</td><td>0.000217402</td></tr>\n",
       "\t<tr><th scope=row>17</th><td>0.003154399</td><td>0.000108881</td><td>0.000054600</td><td>0.000140447</td><td>0.000157467</td><td>0.007203662</td><td>0.006196939</td><td>0.000000000</td><td>0.000083200</td><td>0.000000000</td><td>...        </td><td>0.005704764</td><td>0.000268459</td><td>0.000342286</td><td>0.000076900</td><td>0.000165649</td><td>0.000378080</td><td>0.001671160</td><td>0.000073800</td><td>0.001031332</td><td>0.000176385</td></tr>\n",
       "\t<tr><th scope=row>18</th><td>0.003181185</td><td>0.000127449</td><td>0.000063000</td><td>0.000043700</td><td>0.000080800</td><td>0.006556007</td><td>0.007717831</td><td>0.000100024</td><td>0.000078900</td><td>0.000213059</td><td>...        </td><td>0.006417694</td><td>0.000318118</td><td>0.000542185</td><td>0.000184548</td><td>0.000051700</td><td>0.001618255</td><td>0.002251726</td><td>0.000094400</td><td>0.001103733</td><td>0.000096100</td></tr>\n",
       "\t<tr><th scope=row>19</th><td>0.004219694</td><td>0.000194733</td><td>0.000115753</td><td>0.000314353</td><td>0.000000000</td><td>0.009175710</td><td>0.008382747</td><td>0.000000000</td><td>0.000107251</td><td>0.000000000</td><td>...        </td><td>0.006145460</td><td>0.000399313</td><td>0.000404977</td><td>0.000228200</td><td>0.000177511</td><td>0.000082300</td><td>0.002483672</td><td>0.000069700</td><td>0.001435829</td><td>0.000237145</td></tr>\n",
       "\t<tr><th scope=row>20</th><td>0.004127403</td><td>0.000132620</td><td>0.000103152</td><td>0.000167028</td><td>0.000251822</td><td>0.006437517</td><td>0.011950989</td><td>0.000000000</td><td>0.000077800</td><td>0.000000000</td><td>...        </td><td>0.008716830</td><td>0.000388099</td><td>0.000588309</td><td>0.000174824</td><td>0.000254230</td><td>0.000180185</td><td>0.002624289</td><td>0.000105303</td><td>0.001475393</td><td>0.000225354</td></tr>\n",
       "\t<tr><th scope=row>26</th><td>0.005239874</td><td>0.000193567</td><td>0.000000000</td><td>0.000135214</td><td>0.000000000</td><td>0.013996443</td><td>0.007244390</td><td>0.000067600</td><td>0.000160405</td><td>0.000000000</td><td>...        </td><td>0.009811577</td><td>0.000481787</td><td>0.000611905</td><td>0.000393870</td><td>0.000071600</td><td>0.000812356</td><td>0.003150958</td><td>0.000176765</td><td>0.002022099</td><td>0.000231479</td></tr>\n",
       "\t<tr><th scope=row>27</th><td>0.004438980</td><td>0.000184756</td><td>0.000126690</td><td>0.000352842</td><td>0.000304468</td><td>0.010129979</td><td>0.009845429</td><td>0.000000000</td><td>0.000107326</td><td>0.000000000</td><td>...        </td><td>0.008166584</td><td>0.000395524</td><td>0.000520726</td><td>0.000315850</td><td>0.000190062</td><td>0.001266247</td><td>0.002259327</td><td>0.000075900</td><td>0.001573561</td><td>0.000242717</td></tr>\n",
       "\t<tr><th scope=row>28</th><td>0.003986130</td><td>0.000000000</td><td>0.000052200</td><td>0.000475764</td><td>0.000206789</td><td>0.009868887</td><td>0.014401504</td><td>0.000253538</td><td>0.000087700</td><td>0.000401828</td><td>...        </td><td>0.008872355</td><td>0.000304929</td><td>0.000739363</td><td>0.000427545</td><td>0.000074900</td><td>0.000000000</td><td>0.002587770</td><td>0.000097800</td><td>0.001202268</td><td>0.000195685</td></tr>\n",
       "\t<tr><th scope=row>29</th><td>0.004361477</td><td>0.000155738</td><td>0.000133498</td><td>0.000139805</td><td>0.000380764</td><td>0.013049817</td><td>0.007303744</td><td>0.000000000</td><td>0.000094900</td><td>0.000000000</td><td>...        </td><td>0.007822967</td><td>0.000294998</td><td>0.000799604</td><td>0.000253196</td><td>0.000206465</td><td>0.000488070</td><td>0.002506119</td><td>0.000045900</td><td>0.001502287</td><td>0.000176801</td></tr>\n",
       "\t<tr><th scope=row>30</th><td>0.004631478</td><td>0.000154865</td><td>0.000220112</td><td>0.000168725</td><td>0.000290793</td><td>0.012449184</td><td>0.008871832</td><td>0.000000000</td><td>0.000038200</td><td>0.000000000</td><td>...        </td><td>0.009587302</td><td>0.000403666</td><td>0.000701161</td><td>0.000185232</td><td>0.000299202</td><td>0.000329089</td><td>0.002537535</td><td>0.000000000</td><td>0.001612193</td><td>0.000269307</td></tr>\n",
       "\t<tr><th scope=row>31</th><td>0.004555668</td><td>0.000178565</td><td>0.000102290</td><td>0.000310544</td><td>0.000112133</td><td>0.007369463</td><td>0.005527097</td><td>0.000000000</td><td>0.000104473</td><td>0.000000000</td><td>...        </td><td>0.007771433</td><td>0.000455567</td><td>0.000502463</td><td>0.000197796</td><td>0.000178798</td><td>0.000924533</td><td>0.003279411</td><td>0.000152498</td><td>0.001828967</td><td>0.000193993</td></tr>\n",
       "\t<tr><th scope=row>32</th><td>0.006985148</td><td>0.000275656</td><td>0.000245395</td><td>0.000000000</td><td>0.000000000</td><td>0.008119101</td><td>0.006214060</td><td>0.000000000</td><td>0.000260245</td><td>0.000000000</td><td>...        </td><td>0.009434486</td><td>0.000816446</td><td>0.000458117</td><td>0.000087800</td><td>0.000187402</td><td>0.000300403</td><td>0.004299948</td><td>0.000336044</td><td>0.002893847</td><td>0.000239338</td></tr>\n",
       "\t<tr><th scope=row>33</th><td>0.005428003</td><td>0.000203074</td><td>0.000131773</td><td>0.000494135</td><td>0.000112648</td><td>0.009246323</td><td>0.007112556</td><td>0.000000000</td><td>0.000190790</td><td>0.000000000</td><td>...        </td><td>0.012989773</td><td>0.000587722</td><td>0.000640130</td><td>0.000102297</td><td>0.000147922</td><td>0.000228459</td><td>0.003634891</td><td>0.000158965</td><td>0.001946594</td><td>0.000198602</td></tr>\n",
       "\t<tr><th scope=row>34</th><td>0.006490479</td><td>0.000272717</td><td>0.000063600</td><td>0.000453109</td><td>0.000165676</td><td>0.010572542</td><td>0.006408838</td><td>0.000000000</td><td>0.000194342</td><td>0.000000000</td><td>...        </td><td>0.009429564</td><td>0.000653130</td><td>0.000644966</td><td>0.000177403</td><td>0.000116276</td><td>0.000165672</td><td>0.003645282</td><td>0.000184832</td><td>0.002490058</td><td>0.000278129</td></tr>\n",
       "\t<tr><th scope=row>35</th><td>0.005356038</td><td>0.000228270</td><td>0.000143746</td><td>0.000220123</td><td>0.000199201</td><td>0.009078675</td><td>0.004216456</td><td>0.000000000</td><td>0.000139321</td><td>0.000000000</td><td>...        </td><td>0.010256244</td><td>0.000448236</td><td>0.000744527</td><td>0.000275672</td><td>0.000071300</td><td>0.000539402</td><td>0.002955318</td><td>0.000126904</td><td>0.001903103</td><td>0.000202461</td></tr>\n",
       "\t<tr><th scope=row>41</th><td>0.005812134</td><td>0.000000000</td><td>0.000127465</td><td>0.000182777</td><td>0.000000000</td><td>0.014029290</td><td>0.006814226</td><td>0.000195991</td><td>0.000158885</td><td>0.000673406</td><td>...        </td><td>0.007896486</td><td>0.000529105</td><td>0.000541130</td><td>0.000176939</td><td>0.000194786</td><td>0.000000000</td><td>0.003579473</td><td>0.000171731</td><td>0.002228653</td><td>0.000166990</td></tr>\n",
       "\t<tr><th scope=row>42</th><td>0.007131967</td><td>0.000284709</td><td>0.000176959</td><td>0.000911307</td><td>0.000297728</td><td>0.016096454</td><td>0.012728580</td><td>0.000000000</td><td>0.000188164</td><td>0.000000000</td><td>...        </td><td>0.009459762</td><td>0.000713197</td><td>0.000619094</td><td>0.000189996</td><td>0.000148258</td><td>0.000000000</td><td>0.004700164</td><td>0.000248028</td><td>0.002917173</td><td>0.000161741</td></tr>\n",
       "\t<tr><th scope=row>43</th><td>0.005149477</td><td>0.000000000</td><td>0.000099600</td><td>0.000380732</td><td>0.000000000</td><td>0.011637008</td><td>0.011190990</td><td>0.000278428</td><td>0.000125821</td><td>0.000559550</td><td>...        </td><td>0.006163154</td><td>0.000514948</td><td>0.000620370</td><td>0.000330032</td><td>0.000309295</td><td>0.000904200</td><td>0.002842349</td><td>0.000149942</td><td>0.001897603</td><td>0.000200850</td></tr>\n",
       "\t<tr><th scope=row>44</th><td>0.005852056</td><td>0.000205275</td><td>0.000149051</td><td>0.000000000</td><td>0.000000000</td><td>0.013880497</td><td>0.008753903</td><td>0.000185242</td><td>0.000103801</td><td>0.000720625</td><td>...        </td><td>0.009576092</td><td>0.000517496</td><td>0.000657752</td><td>0.000237330</td><td>0.000126837</td><td>0.000078300</td><td>0.002703553</td><td>0.000129350</td><td>0.001789472</td><td>0.000190018</td></tr>\n",
       "\t<tr><th scope=row>45</th><td>0.002441388</td><td>0.000000000</td><td>0.000091500</td><td>0.000404913</td><td>0.000000000</td><td>0.012742854</td><td>0.008018868</td><td>0.000346286</td><td>0.000000000</td><td>0.000571642</td><td>...        </td><td>0.009090697</td><td>0.000156607</td><td>0.000662946</td><td>0.000310745</td><td>0.000276265</td><td>0.000219648</td><td>0.001377499</td><td>0.000000000</td><td>0.000801887</td><td>0.000073400</td></tr>\n",
       "\t<tr><th scope=row>46</th><td>0.005910135</td><td>0.000251804</td><td>0.000140118</td><td>0.000150066</td><td>0.000000000</td><td>0.008091728</td><td>0.005473816</td><td>0.000000000</td><td>0.000169772</td><td>0.000000000</td><td>...        </td><td>0.010669975</td><td>0.000515649</td><td>0.000785374</td><td>0.000338515</td><td>0.000177561</td><td>0.000213886</td><td>0.003153394</td><td>0.000109009</td><td>0.002058631</td><td>0.000250226</td></tr>\n",
       "\t<tr><th scope=row>47</th><td>0.006688525</td><td>0.000000000</td><td>0.000296573</td><td>0.000071900</td><td>0.000000000</td><td>0.010522712</td><td>0.005793882</td><td>0.000235633</td><td>0.000173350</td><td>0.000788138</td><td>...        </td><td>0.009883681</td><td>0.000613470</td><td>0.000424644</td><td>0.000040200</td><td>0.000257677</td><td>0.000039900</td><td>0.004473218</td><td>0.000227324</td><td>0.002730793</td><td>0.000196587</td></tr>\n",
       "\t<tr><th scope=row>48</th><td>0.006605265</td><td>0.000277789</td><td>0.000113672</td><td>0.000112758</td><td>0.000129090</td><td>0.008511482</td><td>0.007491877</td><td>0.000000000</td><td>0.000159697</td><td>0.000000000</td><td>...        </td><td>0.009974393</td><td>0.000633928</td><td>0.000554133</td><td>0.000195587</td><td>0.000232874</td><td>0.000149519</td><td>0.004371001</td><td>0.000214676</td><td>0.002726334</td><td>0.000259807</td></tr>\n",
       "\t<tr><th scope=row>49</th><td>0.006253152</td><td>0.000000000</td><td>0.000100856</td><td>0.000149324</td><td>0.000069700</td><td>0.009754918</td><td>0.005877963</td><td>0.000084200</td><td>0.000174888</td><td>0.000000000</td><td>...        </td><td>0.009796605</td><td>0.000633653</td><td>0.000446058</td><td>0.000050900</td><td>0.000175525</td><td>0.000105094</td><td>0.003184939</td><td>0.000202266</td><td>0.002155253</td><td>0.000183599</td></tr>\n",
       "\t<tr><th scope=row>50</th><td>0.005545005</td><td>0.000218287</td><td>0.000062500</td><td>0.000319101</td><td>0.000390272</td><td>0.009443837</td><td>0.005891568</td><td>0.000000000</td><td>0.000083800</td><td>0.000000000</td><td>...        </td><td>0.010830088</td><td>0.000390814</td><td>0.000610817</td><td>0.000242021</td><td>0.000159362</td><td>0.000000000</td><td>0.002924124</td><td>0.000102198</td><td>0.002131361</td><td>0.000225664</td></tr>\n",
       "\t<tr><th scope=row>56</th><td>0.005268243</td><td>0.000190121</td><td>0.000130381</td><td>0.000619793</td><td>0.000519077</td><td>0.013712926</td><td>0.009335636</td><td>0.000000000</td><td>0.000096400</td><td>0.000000000</td><td>...        </td><td>0.007243834</td><td>0.000468719</td><td>0.000728257</td><td>0.000328769</td><td>0.000085700</td><td>0.000949058</td><td>0.002854923</td><td>0.000128294</td><td>0.001882622</td><td>0.000198014</td></tr>\n",
       "\t<tr><th scope=row>57</th><td>0.001305645</td><td>0.000000000</td><td>0.000000000</td><td>0.000101759</td><td>0.000015900</td><td>0.001026278</td><td>0.002605500</td><td>0.000000000</td><td>0.000017400</td><td>0.000000000</td><td>...        </td><td>0.002677875</td><td>0.000102483</td><td>0.000179490</td><td>0.000119419</td><td>0.000021700</td><td>0.000000000</td><td>0.000662955</td><td>0.000000000</td><td>0.000172253</td><td>0.000000000</td></tr>\n",
       "\t<tr><th scope=row>58</th><td>0.000725512</td><td>0.000007140</td><td>0.000000000</td><td>0.000000000</td><td>0.000050100</td><td>0.000000000</td><td>0.000727491</td><td>0.000000000</td><td>0.000010400</td><td>0.000000000</td><td>...        </td><td>0.001276822</td><td>0.000043200</td><td>0.000040600</td><td>0.000030900</td><td>0.000056900</td><td>0.000109866</td><td>0.000224681</td><td>0.000000000</td><td>0.000028000</td><td>0.000000000</td></tr>\n",
       "\t<tr><th scope=row>59</th><td>0.004263874</td><td>0.000046100</td><td>0.000240828</td><td>0.000688468</td><td>0.000044500</td><td>0.018282009</td><td>0.008620314</td><td>0.000000000</td><td>0.000000000</td><td>0.000000000</td><td>...        </td><td>0.010934493</td><td>0.000191876</td><td>0.000601686</td><td>0.000123428</td><td>0.000406296</td><td>0.000000000</td><td>0.002071190</td><td>0.000000000</td><td>0.001365365</td><td>0.000100461</td></tr>\n",
       "\t<tr><th scope=row>60</th><td>0.002472698</td><td>0.000000000</td><td>0.000000000</td><td>0.001045277</td><td>0.000316268</td><td>0.015398164</td><td>0.012138698</td><td>0.000000000</td><td>0.000000000</td><td>0.000000000</td><td>...        </td><td>0.011351931</td><td>0.000000000</td><td>0.000938501</td><td>0.000372147</td><td>0.000391272</td><td>0.000000000</td><td>0.000977840</td><td>0.000000000</td><td>0.000618174</td><td>0.000047200</td></tr>\n",
       "</tbody>\n",
       "</table>\n"
      ],
      "text/latex": [
       "\\begin{tabular}{r|lllllllllllllllllllllllllllllllllllllllllllllllllllll}\n",
       "  & X105.07\\_2.767 & X119.049\\_2.765 & X128.018\\_0.344 & X136.062\\_0.301 & X136.097\\_0.551 & X137.046\\_0.31 & X137.046\\_0.42 & X203.007\\_0.309 & X249.112\\_2.768 & X251.037\\_0.323 & ... & X580.362\\_2.984 & X599.241\\_2.765 & X604.362\\_2.948 & X620.356\\_2.913 & X682.364\\_3.313 & X764.524\\_3.729 & X790.38\\_2.768 & X792.329\\_2.764 & X795.335\\_2.768 & X811.309\\_2.773\\\\\n",
       "\\hline\n",
       "\t16 & 0.003203513 & 0.000128479 & 0.000138911 & 0.000000000 & 0.000048700 & 0.008895191 & 0.011818785 & 0.000000000 & 0.000051500 & 0.000023800 & ...         & 0.007837721 & 0.000221365 & 0.000534956 & 0.000413657 & 0.000190736 & 0.000184619 & 0.001623528 & 0.000000000 & 0.000945503 & 0.000217402\\\\\n",
       "\t17 & 0.003154399 & 0.000108881 & 0.000054600 & 0.000140447 & 0.000157467 & 0.007203662 & 0.006196939 & 0.000000000 & 0.000083200 & 0.000000000 & ...         & 0.005704764 & 0.000268459 & 0.000342286 & 0.000076900 & 0.000165649 & 0.000378080 & 0.001671160 & 0.000073800 & 0.001031332 & 0.000176385\\\\\n",
       "\t18 & 0.003181185 & 0.000127449 & 0.000063000 & 0.000043700 & 0.000080800 & 0.006556007 & 0.007717831 & 0.000100024 & 0.000078900 & 0.000213059 & ...         & 0.006417694 & 0.000318118 & 0.000542185 & 0.000184548 & 0.000051700 & 0.001618255 & 0.002251726 & 0.000094400 & 0.001103733 & 0.000096100\\\\\n",
       "\t19 & 0.004219694 & 0.000194733 & 0.000115753 & 0.000314353 & 0.000000000 & 0.009175710 & 0.008382747 & 0.000000000 & 0.000107251 & 0.000000000 & ...         & 0.006145460 & 0.000399313 & 0.000404977 & 0.000228200 & 0.000177511 & 0.000082300 & 0.002483672 & 0.000069700 & 0.001435829 & 0.000237145\\\\\n",
       "\t20 & 0.004127403 & 0.000132620 & 0.000103152 & 0.000167028 & 0.000251822 & 0.006437517 & 0.011950989 & 0.000000000 & 0.000077800 & 0.000000000 & ...         & 0.008716830 & 0.000388099 & 0.000588309 & 0.000174824 & 0.000254230 & 0.000180185 & 0.002624289 & 0.000105303 & 0.001475393 & 0.000225354\\\\\n",
       "\t26 & 0.005239874 & 0.000193567 & 0.000000000 & 0.000135214 & 0.000000000 & 0.013996443 & 0.007244390 & 0.000067600 & 0.000160405 & 0.000000000 & ...         & 0.009811577 & 0.000481787 & 0.000611905 & 0.000393870 & 0.000071600 & 0.000812356 & 0.003150958 & 0.000176765 & 0.002022099 & 0.000231479\\\\\n",
       "\t27 & 0.004438980 & 0.000184756 & 0.000126690 & 0.000352842 & 0.000304468 & 0.010129979 & 0.009845429 & 0.000000000 & 0.000107326 & 0.000000000 & ...         & 0.008166584 & 0.000395524 & 0.000520726 & 0.000315850 & 0.000190062 & 0.001266247 & 0.002259327 & 0.000075900 & 0.001573561 & 0.000242717\\\\\n",
       "\t28 & 0.003986130 & 0.000000000 & 0.000052200 & 0.000475764 & 0.000206789 & 0.009868887 & 0.014401504 & 0.000253538 & 0.000087700 & 0.000401828 & ...         & 0.008872355 & 0.000304929 & 0.000739363 & 0.000427545 & 0.000074900 & 0.000000000 & 0.002587770 & 0.000097800 & 0.001202268 & 0.000195685\\\\\n",
       "\t29 & 0.004361477 & 0.000155738 & 0.000133498 & 0.000139805 & 0.000380764 & 0.013049817 & 0.007303744 & 0.000000000 & 0.000094900 & 0.000000000 & ...         & 0.007822967 & 0.000294998 & 0.000799604 & 0.000253196 & 0.000206465 & 0.000488070 & 0.002506119 & 0.000045900 & 0.001502287 & 0.000176801\\\\\n",
       "\t30 & 0.004631478 & 0.000154865 & 0.000220112 & 0.000168725 & 0.000290793 & 0.012449184 & 0.008871832 & 0.000000000 & 0.000038200 & 0.000000000 & ...         & 0.009587302 & 0.000403666 & 0.000701161 & 0.000185232 & 0.000299202 & 0.000329089 & 0.002537535 & 0.000000000 & 0.001612193 & 0.000269307\\\\\n",
       "\t31 & 0.004555668 & 0.000178565 & 0.000102290 & 0.000310544 & 0.000112133 & 0.007369463 & 0.005527097 & 0.000000000 & 0.000104473 & 0.000000000 & ...         & 0.007771433 & 0.000455567 & 0.000502463 & 0.000197796 & 0.000178798 & 0.000924533 & 0.003279411 & 0.000152498 & 0.001828967 & 0.000193993\\\\\n",
       "\t32 & 0.006985148 & 0.000275656 & 0.000245395 & 0.000000000 & 0.000000000 & 0.008119101 & 0.006214060 & 0.000000000 & 0.000260245 & 0.000000000 & ...         & 0.009434486 & 0.000816446 & 0.000458117 & 0.000087800 & 0.000187402 & 0.000300403 & 0.004299948 & 0.000336044 & 0.002893847 & 0.000239338\\\\\n",
       "\t33 & 0.005428003 & 0.000203074 & 0.000131773 & 0.000494135 & 0.000112648 & 0.009246323 & 0.007112556 & 0.000000000 & 0.000190790 & 0.000000000 & ...         & 0.012989773 & 0.000587722 & 0.000640130 & 0.000102297 & 0.000147922 & 0.000228459 & 0.003634891 & 0.000158965 & 0.001946594 & 0.000198602\\\\\n",
       "\t34 & 0.006490479 & 0.000272717 & 0.000063600 & 0.000453109 & 0.000165676 & 0.010572542 & 0.006408838 & 0.000000000 & 0.000194342 & 0.000000000 & ...         & 0.009429564 & 0.000653130 & 0.000644966 & 0.000177403 & 0.000116276 & 0.000165672 & 0.003645282 & 0.000184832 & 0.002490058 & 0.000278129\\\\\n",
       "\t35 & 0.005356038 & 0.000228270 & 0.000143746 & 0.000220123 & 0.000199201 & 0.009078675 & 0.004216456 & 0.000000000 & 0.000139321 & 0.000000000 & ...         & 0.010256244 & 0.000448236 & 0.000744527 & 0.000275672 & 0.000071300 & 0.000539402 & 0.002955318 & 0.000126904 & 0.001903103 & 0.000202461\\\\\n",
       "\t41 & 0.005812134 & 0.000000000 & 0.000127465 & 0.000182777 & 0.000000000 & 0.014029290 & 0.006814226 & 0.000195991 & 0.000158885 & 0.000673406 & ...         & 0.007896486 & 0.000529105 & 0.000541130 & 0.000176939 & 0.000194786 & 0.000000000 & 0.003579473 & 0.000171731 & 0.002228653 & 0.000166990\\\\\n",
       "\t42 & 0.007131967 & 0.000284709 & 0.000176959 & 0.000911307 & 0.000297728 & 0.016096454 & 0.012728580 & 0.000000000 & 0.000188164 & 0.000000000 & ...         & 0.009459762 & 0.000713197 & 0.000619094 & 0.000189996 & 0.000148258 & 0.000000000 & 0.004700164 & 0.000248028 & 0.002917173 & 0.000161741\\\\\n",
       "\t43 & 0.005149477 & 0.000000000 & 0.000099600 & 0.000380732 & 0.000000000 & 0.011637008 & 0.011190990 & 0.000278428 & 0.000125821 & 0.000559550 & ...         & 0.006163154 & 0.000514948 & 0.000620370 & 0.000330032 & 0.000309295 & 0.000904200 & 0.002842349 & 0.000149942 & 0.001897603 & 0.000200850\\\\\n",
       "\t44 & 0.005852056 & 0.000205275 & 0.000149051 & 0.000000000 & 0.000000000 & 0.013880497 & 0.008753903 & 0.000185242 & 0.000103801 & 0.000720625 & ...         & 0.009576092 & 0.000517496 & 0.000657752 & 0.000237330 & 0.000126837 & 0.000078300 & 0.002703553 & 0.000129350 & 0.001789472 & 0.000190018\\\\\n",
       "\t45 & 0.002441388 & 0.000000000 & 0.000091500 & 0.000404913 & 0.000000000 & 0.012742854 & 0.008018868 & 0.000346286 & 0.000000000 & 0.000571642 & ...         & 0.009090697 & 0.000156607 & 0.000662946 & 0.000310745 & 0.000276265 & 0.000219648 & 0.001377499 & 0.000000000 & 0.000801887 & 0.000073400\\\\\n",
       "\t46 & 0.005910135 & 0.000251804 & 0.000140118 & 0.000150066 & 0.000000000 & 0.008091728 & 0.005473816 & 0.000000000 & 0.000169772 & 0.000000000 & ...         & 0.010669975 & 0.000515649 & 0.000785374 & 0.000338515 & 0.000177561 & 0.000213886 & 0.003153394 & 0.000109009 & 0.002058631 & 0.000250226\\\\\n",
       "\t47 & 0.006688525 & 0.000000000 & 0.000296573 & 0.000071900 & 0.000000000 & 0.010522712 & 0.005793882 & 0.000235633 & 0.000173350 & 0.000788138 & ...         & 0.009883681 & 0.000613470 & 0.000424644 & 0.000040200 & 0.000257677 & 0.000039900 & 0.004473218 & 0.000227324 & 0.002730793 & 0.000196587\\\\\n",
       "\t48 & 0.006605265 & 0.000277789 & 0.000113672 & 0.000112758 & 0.000129090 & 0.008511482 & 0.007491877 & 0.000000000 & 0.000159697 & 0.000000000 & ...         & 0.009974393 & 0.000633928 & 0.000554133 & 0.000195587 & 0.000232874 & 0.000149519 & 0.004371001 & 0.000214676 & 0.002726334 & 0.000259807\\\\\n",
       "\t49 & 0.006253152 & 0.000000000 & 0.000100856 & 0.000149324 & 0.000069700 & 0.009754918 & 0.005877963 & 0.000084200 & 0.000174888 & 0.000000000 & ...         & 0.009796605 & 0.000633653 & 0.000446058 & 0.000050900 & 0.000175525 & 0.000105094 & 0.003184939 & 0.000202266 & 0.002155253 & 0.000183599\\\\\n",
       "\t50 & 0.005545005 & 0.000218287 & 0.000062500 & 0.000319101 & 0.000390272 & 0.009443837 & 0.005891568 & 0.000000000 & 0.000083800 & 0.000000000 & ...         & 0.010830088 & 0.000390814 & 0.000610817 & 0.000242021 & 0.000159362 & 0.000000000 & 0.002924124 & 0.000102198 & 0.002131361 & 0.000225664\\\\\n",
       "\t56 & 0.005268243 & 0.000190121 & 0.000130381 & 0.000619793 & 0.000519077 & 0.013712926 & 0.009335636 & 0.000000000 & 0.000096400 & 0.000000000 & ...         & 0.007243834 & 0.000468719 & 0.000728257 & 0.000328769 & 0.000085700 & 0.000949058 & 0.002854923 & 0.000128294 & 0.001882622 & 0.000198014\\\\\n",
       "\t57 & 0.001305645 & 0.000000000 & 0.000000000 & 0.000101759 & 0.000015900 & 0.001026278 & 0.002605500 & 0.000000000 & 0.000017400 & 0.000000000 & ...         & 0.002677875 & 0.000102483 & 0.000179490 & 0.000119419 & 0.000021700 & 0.000000000 & 0.000662955 & 0.000000000 & 0.000172253 & 0.000000000\\\\\n",
       "\t58 & 0.000725512 & 0.000007140 & 0.000000000 & 0.000000000 & 0.000050100 & 0.000000000 & 0.000727491 & 0.000000000 & 0.000010400 & 0.000000000 & ...         & 0.001276822 & 0.000043200 & 0.000040600 & 0.000030900 & 0.000056900 & 0.000109866 & 0.000224681 & 0.000000000 & 0.000028000 & 0.000000000\\\\\n",
       "\t59 & 0.004263874 & 0.000046100 & 0.000240828 & 0.000688468 & 0.000044500 & 0.018282009 & 0.008620314 & 0.000000000 & 0.000000000 & 0.000000000 & ...         & 0.010934493 & 0.000191876 & 0.000601686 & 0.000123428 & 0.000406296 & 0.000000000 & 0.002071190 & 0.000000000 & 0.001365365 & 0.000100461\\\\\n",
       "\t60 & 0.002472698 & 0.000000000 & 0.000000000 & 0.001045277 & 0.000316268 & 0.015398164 & 0.012138698 & 0.000000000 & 0.000000000 & 0.000000000 & ...         & 0.011351931 & 0.000000000 & 0.000938501 & 0.000372147 & 0.000391272 & 0.000000000 & 0.000977840 & 0.000000000 & 0.000618174 & 0.000047200\\\\\n",
       "\\end{tabular}\n"
      ],
      "text/markdown": [
       "\n",
       "| <!--/--> | X105.07_2.767 | X119.049_2.765 | X128.018_0.344 | X136.062_0.301 | X136.097_0.551 | X137.046_0.31 | X137.046_0.42 | X203.007_0.309 | X249.112_2.768 | X251.037_0.323 | ... | X580.362_2.984 | X599.241_2.765 | X604.362_2.948 | X620.356_2.913 | X682.364_3.313 | X764.524_3.729 | X790.38_2.768 | X792.329_2.764 | X795.335_2.768 | X811.309_2.773 |\n",
       "|---|---|---|---|---|---|---|---|---|---|---|---|---|---|---|---|---|---|---|---|---|---|\n",
       "| 16 | 0.003203513 | 0.000128479 | 0.000138911 | 0.000000000 | 0.000048700 | 0.008895191 | 0.011818785 | 0.000000000 | 0.000051500 | 0.000023800 | ...         | 0.007837721 | 0.000221365 | 0.000534956 | 0.000413657 | 0.000190736 | 0.000184619 | 0.001623528 | 0.000000000 | 0.000945503 | 0.000217402 |\n",
       "| 17 | 0.003154399 | 0.000108881 | 0.000054600 | 0.000140447 | 0.000157467 | 0.007203662 | 0.006196939 | 0.000000000 | 0.000083200 | 0.000000000 | ...         | 0.005704764 | 0.000268459 | 0.000342286 | 0.000076900 | 0.000165649 | 0.000378080 | 0.001671160 | 0.000073800 | 0.001031332 | 0.000176385 |\n",
       "| 18 | 0.003181185 | 0.000127449 | 0.000063000 | 0.000043700 | 0.000080800 | 0.006556007 | 0.007717831 | 0.000100024 | 0.000078900 | 0.000213059 | ...         | 0.006417694 | 0.000318118 | 0.000542185 | 0.000184548 | 0.000051700 | 0.001618255 | 0.002251726 | 0.000094400 | 0.001103733 | 0.000096100 |\n",
       "| 19 | 0.004219694 | 0.000194733 | 0.000115753 | 0.000314353 | 0.000000000 | 0.009175710 | 0.008382747 | 0.000000000 | 0.000107251 | 0.000000000 | ...         | 0.006145460 | 0.000399313 | 0.000404977 | 0.000228200 | 0.000177511 | 0.000082300 | 0.002483672 | 0.000069700 | 0.001435829 | 0.000237145 |\n",
       "| 20 | 0.004127403 | 0.000132620 | 0.000103152 | 0.000167028 | 0.000251822 | 0.006437517 | 0.011950989 | 0.000000000 | 0.000077800 | 0.000000000 | ...         | 0.008716830 | 0.000388099 | 0.000588309 | 0.000174824 | 0.000254230 | 0.000180185 | 0.002624289 | 0.000105303 | 0.001475393 | 0.000225354 |\n",
       "| 26 | 0.005239874 | 0.000193567 | 0.000000000 | 0.000135214 | 0.000000000 | 0.013996443 | 0.007244390 | 0.000067600 | 0.000160405 | 0.000000000 | ...         | 0.009811577 | 0.000481787 | 0.000611905 | 0.000393870 | 0.000071600 | 0.000812356 | 0.003150958 | 0.000176765 | 0.002022099 | 0.000231479 |\n",
       "| 27 | 0.004438980 | 0.000184756 | 0.000126690 | 0.000352842 | 0.000304468 | 0.010129979 | 0.009845429 | 0.000000000 | 0.000107326 | 0.000000000 | ...         | 0.008166584 | 0.000395524 | 0.000520726 | 0.000315850 | 0.000190062 | 0.001266247 | 0.002259327 | 0.000075900 | 0.001573561 | 0.000242717 |\n",
       "| 28 | 0.003986130 | 0.000000000 | 0.000052200 | 0.000475764 | 0.000206789 | 0.009868887 | 0.014401504 | 0.000253538 | 0.000087700 | 0.000401828 | ...         | 0.008872355 | 0.000304929 | 0.000739363 | 0.000427545 | 0.000074900 | 0.000000000 | 0.002587770 | 0.000097800 | 0.001202268 | 0.000195685 |\n",
       "| 29 | 0.004361477 | 0.000155738 | 0.000133498 | 0.000139805 | 0.000380764 | 0.013049817 | 0.007303744 | 0.000000000 | 0.000094900 | 0.000000000 | ...         | 0.007822967 | 0.000294998 | 0.000799604 | 0.000253196 | 0.000206465 | 0.000488070 | 0.002506119 | 0.000045900 | 0.001502287 | 0.000176801 |\n",
       "| 30 | 0.004631478 | 0.000154865 | 0.000220112 | 0.000168725 | 0.000290793 | 0.012449184 | 0.008871832 | 0.000000000 | 0.000038200 | 0.000000000 | ...         | 0.009587302 | 0.000403666 | 0.000701161 | 0.000185232 | 0.000299202 | 0.000329089 | 0.002537535 | 0.000000000 | 0.001612193 | 0.000269307 |\n",
       "| 31 | 0.004555668 | 0.000178565 | 0.000102290 | 0.000310544 | 0.000112133 | 0.007369463 | 0.005527097 | 0.000000000 | 0.000104473 | 0.000000000 | ...         | 0.007771433 | 0.000455567 | 0.000502463 | 0.000197796 | 0.000178798 | 0.000924533 | 0.003279411 | 0.000152498 | 0.001828967 | 0.000193993 |\n",
       "| 32 | 0.006985148 | 0.000275656 | 0.000245395 | 0.000000000 | 0.000000000 | 0.008119101 | 0.006214060 | 0.000000000 | 0.000260245 | 0.000000000 | ...         | 0.009434486 | 0.000816446 | 0.000458117 | 0.000087800 | 0.000187402 | 0.000300403 | 0.004299948 | 0.000336044 | 0.002893847 | 0.000239338 |\n",
       "| 33 | 0.005428003 | 0.000203074 | 0.000131773 | 0.000494135 | 0.000112648 | 0.009246323 | 0.007112556 | 0.000000000 | 0.000190790 | 0.000000000 | ...         | 0.012989773 | 0.000587722 | 0.000640130 | 0.000102297 | 0.000147922 | 0.000228459 | 0.003634891 | 0.000158965 | 0.001946594 | 0.000198602 |\n",
       "| 34 | 0.006490479 | 0.000272717 | 0.000063600 | 0.000453109 | 0.000165676 | 0.010572542 | 0.006408838 | 0.000000000 | 0.000194342 | 0.000000000 | ...         | 0.009429564 | 0.000653130 | 0.000644966 | 0.000177403 | 0.000116276 | 0.000165672 | 0.003645282 | 0.000184832 | 0.002490058 | 0.000278129 |\n",
       "| 35 | 0.005356038 | 0.000228270 | 0.000143746 | 0.000220123 | 0.000199201 | 0.009078675 | 0.004216456 | 0.000000000 | 0.000139321 | 0.000000000 | ...         | 0.010256244 | 0.000448236 | 0.000744527 | 0.000275672 | 0.000071300 | 0.000539402 | 0.002955318 | 0.000126904 | 0.001903103 | 0.000202461 |\n",
       "| 41 | 0.005812134 | 0.000000000 | 0.000127465 | 0.000182777 | 0.000000000 | 0.014029290 | 0.006814226 | 0.000195991 | 0.000158885 | 0.000673406 | ...         | 0.007896486 | 0.000529105 | 0.000541130 | 0.000176939 | 0.000194786 | 0.000000000 | 0.003579473 | 0.000171731 | 0.002228653 | 0.000166990 |\n",
       "| 42 | 0.007131967 | 0.000284709 | 0.000176959 | 0.000911307 | 0.000297728 | 0.016096454 | 0.012728580 | 0.000000000 | 0.000188164 | 0.000000000 | ...         | 0.009459762 | 0.000713197 | 0.000619094 | 0.000189996 | 0.000148258 | 0.000000000 | 0.004700164 | 0.000248028 | 0.002917173 | 0.000161741 |\n",
       "| 43 | 0.005149477 | 0.000000000 | 0.000099600 | 0.000380732 | 0.000000000 | 0.011637008 | 0.011190990 | 0.000278428 | 0.000125821 | 0.000559550 | ...         | 0.006163154 | 0.000514948 | 0.000620370 | 0.000330032 | 0.000309295 | 0.000904200 | 0.002842349 | 0.000149942 | 0.001897603 | 0.000200850 |\n",
       "| 44 | 0.005852056 | 0.000205275 | 0.000149051 | 0.000000000 | 0.000000000 | 0.013880497 | 0.008753903 | 0.000185242 | 0.000103801 | 0.000720625 | ...         | 0.009576092 | 0.000517496 | 0.000657752 | 0.000237330 | 0.000126837 | 0.000078300 | 0.002703553 | 0.000129350 | 0.001789472 | 0.000190018 |\n",
       "| 45 | 0.002441388 | 0.000000000 | 0.000091500 | 0.000404913 | 0.000000000 | 0.012742854 | 0.008018868 | 0.000346286 | 0.000000000 | 0.000571642 | ...         | 0.009090697 | 0.000156607 | 0.000662946 | 0.000310745 | 0.000276265 | 0.000219648 | 0.001377499 | 0.000000000 | 0.000801887 | 0.000073400 |\n",
       "| 46 | 0.005910135 | 0.000251804 | 0.000140118 | 0.000150066 | 0.000000000 | 0.008091728 | 0.005473816 | 0.000000000 | 0.000169772 | 0.000000000 | ...         | 0.010669975 | 0.000515649 | 0.000785374 | 0.000338515 | 0.000177561 | 0.000213886 | 0.003153394 | 0.000109009 | 0.002058631 | 0.000250226 |\n",
       "| 47 | 0.006688525 | 0.000000000 | 0.000296573 | 0.000071900 | 0.000000000 | 0.010522712 | 0.005793882 | 0.000235633 | 0.000173350 | 0.000788138 | ...         | 0.009883681 | 0.000613470 | 0.000424644 | 0.000040200 | 0.000257677 | 0.000039900 | 0.004473218 | 0.000227324 | 0.002730793 | 0.000196587 |\n",
       "| 48 | 0.006605265 | 0.000277789 | 0.000113672 | 0.000112758 | 0.000129090 | 0.008511482 | 0.007491877 | 0.000000000 | 0.000159697 | 0.000000000 | ...         | 0.009974393 | 0.000633928 | 0.000554133 | 0.000195587 | 0.000232874 | 0.000149519 | 0.004371001 | 0.000214676 | 0.002726334 | 0.000259807 |\n",
       "| 49 | 0.006253152 | 0.000000000 | 0.000100856 | 0.000149324 | 0.000069700 | 0.009754918 | 0.005877963 | 0.000084200 | 0.000174888 | 0.000000000 | ...         | 0.009796605 | 0.000633653 | 0.000446058 | 0.000050900 | 0.000175525 | 0.000105094 | 0.003184939 | 0.000202266 | 0.002155253 | 0.000183599 |\n",
       "| 50 | 0.005545005 | 0.000218287 | 0.000062500 | 0.000319101 | 0.000390272 | 0.009443837 | 0.005891568 | 0.000000000 | 0.000083800 | 0.000000000 | ...         | 0.010830088 | 0.000390814 | 0.000610817 | 0.000242021 | 0.000159362 | 0.000000000 | 0.002924124 | 0.000102198 | 0.002131361 | 0.000225664 |\n",
       "| 56 | 0.005268243 | 0.000190121 | 0.000130381 | 0.000619793 | 0.000519077 | 0.013712926 | 0.009335636 | 0.000000000 | 0.000096400 | 0.000000000 | ...         | 0.007243834 | 0.000468719 | 0.000728257 | 0.000328769 | 0.000085700 | 0.000949058 | 0.002854923 | 0.000128294 | 0.001882622 | 0.000198014 |\n",
       "| 57 | 0.001305645 | 0.000000000 | 0.000000000 | 0.000101759 | 0.000015900 | 0.001026278 | 0.002605500 | 0.000000000 | 0.000017400 | 0.000000000 | ...         | 0.002677875 | 0.000102483 | 0.000179490 | 0.000119419 | 0.000021700 | 0.000000000 | 0.000662955 | 0.000000000 | 0.000172253 | 0.000000000 |\n",
       "| 58 | 0.000725512 | 0.000007140 | 0.000000000 | 0.000000000 | 0.000050100 | 0.000000000 | 0.000727491 | 0.000000000 | 0.000010400 | 0.000000000 | ...         | 0.001276822 | 0.000043200 | 0.000040600 | 0.000030900 | 0.000056900 | 0.000109866 | 0.000224681 | 0.000000000 | 0.000028000 | 0.000000000 |\n",
       "| 59 | 0.004263874 | 0.000046100 | 0.000240828 | 0.000688468 | 0.000044500 | 0.018282009 | 0.008620314 | 0.000000000 | 0.000000000 | 0.000000000 | ...         | 0.010934493 | 0.000191876 | 0.000601686 | 0.000123428 | 0.000406296 | 0.000000000 | 0.002071190 | 0.000000000 | 0.001365365 | 0.000100461 |\n",
       "| 60 | 0.002472698 | 0.000000000 | 0.000000000 | 0.001045277 | 0.000316268 | 0.015398164 | 0.012138698 | 0.000000000 | 0.000000000 | 0.000000000 | ...         | 0.011351931 | 0.000000000 | 0.000938501 | 0.000372147 | 0.000391272 | 0.000000000 | 0.000977840 | 0.000000000 | 0.000618174 | 0.000047200 |\n",
       "\n"
      ],
      "text/plain": [
       "   X105.07_2.767 X119.049_2.765 X128.018_0.344 X136.062_0.301 X136.097_0.551\n",
       "16 0.003203513   0.000128479    0.000138911    0.000000000    0.000048700   \n",
       "17 0.003154399   0.000108881    0.000054600    0.000140447    0.000157467   \n",
       "18 0.003181185   0.000127449    0.000063000    0.000043700    0.000080800   \n",
       "19 0.004219694   0.000194733    0.000115753    0.000314353    0.000000000   \n",
       "20 0.004127403   0.000132620    0.000103152    0.000167028    0.000251822   \n",
       "26 0.005239874   0.000193567    0.000000000    0.000135214    0.000000000   \n",
       "27 0.004438980   0.000184756    0.000126690    0.000352842    0.000304468   \n",
       "28 0.003986130   0.000000000    0.000052200    0.000475764    0.000206789   \n",
       "29 0.004361477   0.000155738    0.000133498    0.000139805    0.000380764   \n",
       "30 0.004631478   0.000154865    0.000220112    0.000168725    0.000290793   \n",
       "31 0.004555668   0.000178565    0.000102290    0.000310544    0.000112133   \n",
       "32 0.006985148   0.000275656    0.000245395    0.000000000    0.000000000   \n",
       "33 0.005428003   0.000203074    0.000131773    0.000494135    0.000112648   \n",
       "34 0.006490479   0.000272717    0.000063600    0.000453109    0.000165676   \n",
       "35 0.005356038   0.000228270    0.000143746    0.000220123    0.000199201   \n",
       "41 0.005812134   0.000000000    0.000127465    0.000182777    0.000000000   \n",
       "42 0.007131967   0.000284709    0.000176959    0.000911307    0.000297728   \n",
       "43 0.005149477   0.000000000    0.000099600    0.000380732    0.000000000   \n",
       "44 0.005852056   0.000205275    0.000149051    0.000000000    0.000000000   \n",
       "45 0.002441388   0.000000000    0.000091500    0.000404913    0.000000000   \n",
       "46 0.005910135   0.000251804    0.000140118    0.000150066    0.000000000   \n",
       "47 0.006688525   0.000000000    0.000296573    0.000071900    0.000000000   \n",
       "48 0.006605265   0.000277789    0.000113672    0.000112758    0.000129090   \n",
       "49 0.006253152   0.000000000    0.000100856    0.000149324    0.000069700   \n",
       "50 0.005545005   0.000218287    0.000062500    0.000319101    0.000390272   \n",
       "56 0.005268243   0.000190121    0.000130381    0.000619793    0.000519077   \n",
       "57 0.001305645   0.000000000    0.000000000    0.000101759    0.000015900   \n",
       "58 0.000725512   0.000007140    0.000000000    0.000000000    0.000050100   \n",
       "59 0.004263874   0.000046100    0.000240828    0.000688468    0.000044500   \n",
       "60 0.002472698   0.000000000    0.000000000    0.001045277    0.000316268   \n",
       "   X137.046_0.31 X137.046_0.42 X203.007_0.309 X249.112_2.768 X251.037_0.323 ...\n",
       "16 0.008895191   0.011818785   0.000000000    0.000051500    0.000023800    ...\n",
       "17 0.007203662   0.006196939   0.000000000    0.000083200    0.000000000    ...\n",
       "18 0.006556007   0.007717831   0.000100024    0.000078900    0.000213059    ...\n",
       "19 0.009175710   0.008382747   0.000000000    0.000107251    0.000000000    ...\n",
       "20 0.006437517   0.011950989   0.000000000    0.000077800    0.000000000    ...\n",
       "26 0.013996443   0.007244390   0.000067600    0.000160405    0.000000000    ...\n",
       "27 0.010129979   0.009845429   0.000000000    0.000107326    0.000000000    ...\n",
       "28 0.009868887   0.014401504   0.000253538    0.000087700    0.000401828    ...\n",
       "29 0.013049817   0.007303744   0.000000000    0.000094900    0.000000000    ...\n",
       "30 0.012449184   0.008871832   0.000000000    0.000038200    0.000000000    ...\n",
       "31 0.007369463   0.005527097   0.000000000    0.000104473    0.000000000    ...\n",
       "32 0.008119101   0.006214060   0.000000000    0.000260245    0.000000000    ...\n",
       "33 0.009246323   0.007112556   0.000000000    0.000190790    0.000000000    ...\n",
       "34 0.010572542   0.006408838   0.000000000    0.000194342    0.000000000    ...\n",
       "35 0.009078675   0.004216456   0.000000000    0.000139321    0.000000000    ...\n",
       "41 0.014029290   0.006814226   0.000195991    0.000158885    0.000673406    ...\n",
       "42 0.016096454   0.012728580   0.000000000    0.000188164    0.000000000    ...\n",
       "43 0.011637008   0.011190990   0.000278428    0.000125821    0.000559550    ...\n",
       "44 0.013880497   0.008753903   0.000185242    0.000103801    0.000720625    ...\n",
       "45 0.012742854   0.008018868   0.000346286    0.000000000    0.000571642    ...\n",
       "46 0.008091728   0.005473816   0.000000000    0.000169772    0.000000000    ...\n",
       "47 0.010522712   0.005793882   0.000235633    0.000173350    0.000788138    ...\n",
       "48 0.008511482   0.007491877   0.000000000    0.000159697    0.000000000    ...\n",
       "49 0.009754918   0.005877963   0.000084200    0.000174888    0.000000000    ...\n",
       "50 0.009443837   0.005891568   0.000000000    0.000083800    0.000000000    ...\n",
       "56 0.013712926   0.009335636   0.000000000    0.000096400    0.000000000    ...\n",
       "57 0.001026278   0.002605500   0.000000000    0.000017400    0.000000000    ...\n",
       "58 0.000000000   0.000727491   0.000000000    0.000010400    0.000000000    ...\n",
       "59 0.018282009   0.008620314   0.000000000    0.000000000    0.000000000    ...\n",
       "60 0.015398164   0.012138698   0.000000000    0.000000000    0.000000000    ...\n",
       "   X580.362_2.984 X599.241_2.765 X604.362_2.948 X620.356_2.913 X682.364_3.313\n",
       "16 0.007837721    0.000221365    0.000534956    0.000413657    0.000190736   \n",
       "17 0.005704764    0.000268459    0.000342286    0.000076900    0.000165649   \n",
       "18 0.006417694    0.000318118    0.000542185    0.000184548    0.000051700   \n",
       "19 0.006145460    0.000399313    0.000404977    0.000228200    0.000177511   \n",
       "20 0.008716830    0.000388099    0.000588309    0.000174824    0.000254230   \n",
       "26 0.009811577    0.000481787    0.000611905    0.000393870    0.000071600   \n",
       "27 0.008166584    0.000395524    0.000520726    0.000315850    0.000190062   \n",
       "28 0.008872355    0.000304929    0.000739363    0.000427545    0.000074900   \n",
       "29 0.007822967    0.000294998    0.000799604    0.000253196    0.000206465   \n",
       "30 0.009587302    0.000403666    0.000701161    0.000185232    0.000299202   \n",
       "31 0.007771433    0.000455567    0.000502463    0.000197796    0.000178798   \n",
       "32 0.009434486    0.000816446    0.000458117    0.000087800    0.000187402   \n",
       "33 0.012989773    0.000587722    0.000640130    0.000102297    0.000147922   \n",
       "34 0.009429564    0.000653130    0.000644966    0.000177403    0.000116276   \n",
       "35 0.010256244    0.000448236    0.000744527    0.000275672    0.000071300   \n",
       "41 0.007896486    0.000529105    0.000541130    0.000176939    0.000194786   \n",
       "42 0.009459762    0.000713197    0.000619094    0.000189996    0.000148258   \n",
       "43 0.006163154    0.000514948    0.000620370    0.000330032    0.000309295   \n",
       "44 0.009576092    0.000517496    0.000657752    0.000237330    0.000126837   \n",
       "45 0.009090697    0.000156607    0.000662946    0.000310745    0.000276265   \n",
       "46 0.010669975    0.000515649    0.000785374    0.000338515    0.000177561   \n",
       "47 0.009883681    0.000613470    0.000424644    0.000040200    0.000257677   \n",
       "48 0.009974393    0.000633928    0.000554133    0.000195587    0.000232874   \n",
       "49 0.009796605    0.000633653    0.000446058    0.000050900    0.000175525   \n",
       "50 0.010830088    0.000390814    0.000610817    0.000242021    0.000159362   \n",
       "56 0.007243834    0.000468719    0.000728257    0.000328769    0.000085700   \n",
       "57 0.002677875    0.000102483    0.000179490    0.000119419    0.000021700   \n",
       "58 0.001276822    0.000043200    0.000040600    0.000030900    0.000056900   \n",
       "59 0.010934493    0.000191876    0.000601686    0.000123428    0.000406296   \n",
       "60 0.011351931    0.000000000    0.000938501    0.000372147    0.000391272   \n",
       "   X764.524_3.729 X790.38_2.768 X792.329_2.764 X795.335_2.768 X811.309_2.773\n",
       "16 0.000184619    0.001623528   0.000000000    0.000945503    0.000217402   \n",
       "17 0.000378080    0.001671160   0.000073800    0.001031332    0.000176385   \n",
       "18 0.001618255    0.002251726   0.000094400    0.001103733    0.000096100   \n",
       "19 0.000082300    0.002483672   0.000069700    0.001435829    0.000237145   \n",
       "20 0.000180185    0.002624289   0.000105303    0.001475393    0.000225354   \n",
       "26 0.000812356    0.003150958   0.000176765    0.002022099    0.000231479   \n",
       "27 0.001266247    0.002259327   0.000075900    0.001573561    0.000242717   \n",
       "28 0.000000000    0.002587770   0.000097800    0.001202268    0.000195685   \n",
       "29 0.000488070    0.002506119   0.000045900    0.001502287    0.000176801   \n",
       "30 0.000329089    0.002537535   0.000000000    0.001612193    0.000269307   \n",
       "31 0.000924533    0.003279411   0.000152498    0.001828967    0.000193993   \n",
       "32 0.000300403    0.004299948   0.000336044    0.002893847    0.000239338   \n",
       "33 0.000228459    0.003634891   0.000158965    0.001946594    0.000198602   \n",
       "34 0.000165672    0.003645282   0.000184832    0.002490058    0.000278129   \n",
       "35 0.000539402    0.002955318   0.000126904    0.001903103    0.000202461   \n",
       "41 0.000000000    0.003579473   0.000171731    0.002228653    0.000166990   \n",
       "42 0.000000000    0.004700164   0.000248028    0.002917173    0.000161741   \n",
       "43 0.000904200    0.002842349   0.000149942    0.001897603    0.000200850   \n",
       "44 0.000078300    0.002703553   0.000129350    0.001789472    0.000190018   \n",
       "45 0.000219648    0.001377499   0.000000000    0.000801887    0.000073400   \n",
       "46 0.000213886    0.003153394   0.000109009    0.002058631    0.000250226   \n",
       "47 0.000039900    0.004473218   0.000227324    0.002730793    0.000196587   \n",
       "48 0.000149519    0.004371001   0.000214676    0.002726334    0.000259807   \n",
       "49 0.000105094    0.003184939   0.000202266    0.002155253    0.000183599   \n",
       "50 0.000000000    0.002924124   0.000102198    0.002131361    0.000225664   \n",
       "56 0.000949058    0.002854923   0.000128294    0.001882622    0.000198014   \n",
       "57 0.000000000    0.000662955   0.000000000    0.000172253    0.000000000   \n",
       "58 0.000109866    0.000224681   0.000000000    0.000028000    0.000000000   \n",
       "59 0.000000000    0.002071190   0.000000000    0.001365365    0.000100461   \n",
       "60 0.000000000    0.000977840   0.000000000    0.000618174    0.000047200   "
      ]
     },
     "metadata": {},
     "output_type": "display_data"
    },
    {
     "data": {
      "text/html": [
       "<table>\n",
       "<thead><tr><th></th><th scope=col>filename</th><th scope=col>MouseID</th><th scope=col>Treatmentgroup</th><th scope=col>DPI</th><th scope=col>organ</th><th scope=col>well_position</th><th scope=col>plate</th><th scope=col>X105.07_2.767</th><th scope=col>X119.049_2.765</th><th scope=col>X128.018_0.344</th><th scope=col>...</th><th scope=col>X580.362_2.984</th><th scope=col>X599.241_2.765</th><th scope=col>X604.362_2.948</th><th scope=col>X620.356_2.913</th><th scope=col>X682.364_3.313</th><th scope=col>X764.524_3.729</th><th scope=col>X790.38_2.768</th><th scope=col>X792.329_2.764</th><th scope=col>X795.335_2.768</th><th scope=col>X811.309_2.773</th></tr></thead>\n",
       "<tbody>\n",
       "\t<tr><th scope=row>16</th><td>X581_Group3E_142dpi_LV_bottom_176_G_B4_P132.mzXML</td><td>581                                              </td><td>Group3E                                          </td><td>142dpi                                           </td><td>LV_bottom                                        </td><td>B4                                               </td><td>P132                                             </td><td>0.003203513                                      </td><td>0.000128479                                      </td><td>0.000138911                                      </td><td>...                                              </td><td>0.007837721                                      </td><td>0.000221365                                      </td><td>0.000534956                                      </td><td>0.000413657                                      </td><td>0.000190736                                      </td><td>0.000184619                                      </td><td>0.001623528                                      </td><td>0.000000000                                      </td><td>0.000945503                                      </td><td>0.000217402                                      </td></tr>\n",
       "\t<tr><th scope=row>17</th><td>X582_Group3E_142dpi_LV_bottom_177_G_B5_P132.mzXML</td><td>582                                              </td><td>Group3E                                          </td><td>142dpi                                           </td><td>LV_bottom                                        </td><td>B5                                               </td><td>P132                                             </td><td>0.003154399                                      </td><td>0.000108881                                      </td><td>0.000054600                                      </td><td>...                                              </td><td>0.005704764                                      </td><td>0.000268459                                      </td><td>0.000342286                                      </td><td>0.000076900                                      </td><td>0.000165649                                      </td><td>0.000378080                                      </td><td>0.001671160                                      </td><td>0.000073800                                      </td><td>0.001031332                                      </td><td>0.000176385                                      </td></tr>\n",
       "\t<tr><th scope=row>18</th><td>X583_Group3E_142dpi_LV_bottom_178_G_B6_P132.mzXML</td><td>583                                              </td><td>Group3E                                          </td><td>142dpi                                           </td><td>LV_bottom                                        </td><td>B6                                               </td><td>P132                                             </td><td>0.003181185                                      </td><td>0.000127449                                      </td><td>0.000063000                                      </td><td>...                                              </td><td>0.006417694                                      </td><td>0.000318118                                      </td><td>0.000542185                                      </td><td>0.000184548                                      </td><td>0.000051700                                      </td><td>0.001618255                                      </td><td>0.002251726                                      </td><td>0.000094400                                      </td><td>0.001103733                                      </td><td>0.000096100                                      </td></tr>\n",
       "\t<tr><th scope=row>19</th><td>X584_Group3E_142dpi_LV_bottom_179_G_B7_P132.mzXML</td><td>584                                              </td><td>Group3E                                          </td><td>142dpi                                           </td><td>LV_bottom                                        </td><td>B7                                               </td><td>P132                                             </td><td>0.004219694                                      </td><td>0.000194733                                      </td><td>0.000115753                                      </td><td>...                                              </td><td>0.006145460                                      </td><td>0.000399313                                      </td><td>0.000404977                                      </td><td>0.000228200                                      </td><td>0.000177511                                      </td><td>0.000082300                                      </td><td>0.002483672                                      </td><td>0.000069700                                      </td><td>0.001435829                                      </td><td>0.000237145                                      </td></tr>\n",
       "\t<tr><th scope=row>20</th><td>X585_Group3E_142dpi_LV_bottom_180_G_B8_P132.mzXML</td><td>585                                              </td><td>Group3E                                          </td><td>142dpi                                           </td><td>LV_bottom                                        </td><td>B8                                               </td><td>P132                                             </td><td>0.004127403                                      </td><td>0.000132620                                      </td><td>0.000103152                                      </td><td>...                                              </td><td>0.008716830                                      </td><td>0.000388099                                      </td><td>0.000588309                                      </td><td>0.000174824                                      </td><td>0.000254230                                      </td><td>0.000180185                                      </td><td>0.002624289                                      </td><td>0.000105303                                      </td><td>0.001475393                                      </td><td>0.000225354                                      </td></tr>\n",
       "\t<tr><th scope=row>26</th><td>X631_Group15_142dpi_LV_bottom_191_G_C7_P132.mzXML</td><td>631                                              </td><td>Group15                                          </td><td>142dpi                                           </td><td>LV_bottom                                        </td><td>C7                                               </td><td>P132                                             </td><td>0.005239874                                      </td><td>0.000193567                                      </td><td>0.000000000                                      </td><td>...                                              </td><td>0.009811577                                      </td><td>0.000481787                                      </td><td>0.000611905                                      </td><td>0.000393870                                      </td><td>0.000071600                                      </td><td>0.000812356                                      </td><td>0.003150958                                      </td><td>0.000176765                                      </td><td>0.002022099                                      </td><td>0.000231479                                      </td></tr>\n",
       "</tbody>\n",
       "</table>\n"
      ],
      "text/latex": [
       "\\begin{tabular}{r|llllllllllllllllllllllllllllllllllllllllllllllllllllllllllll}\n",
       "  & filename & MouseID & Treatmentgroup & DPI & organ & well\\_position & plate & X105.07\\_2.767 & X119.049\\_2.765 & X128.018\\_0.344 & ... & X580.362\\_2.984 & X599.241\\_2.765 & X604.362\\_2.948 & X620.356\\_2.913 & X682.364\\_3.313 & X764.524\\_3.729 & X790.38\\_2.768 & X792.329\\_2.764 & X795.335\\_2.768 & X811.309\\_2.773\\\\\n",
       "\\hline\n",
       "\t16 & X581\\_Group3E\\_142dpi\\_LV\\_bottom\\_176\\_G\\_B4\\_P132.mzXML & 581                                                               & Group3E                                                           & 142dpi                                                            & LV\\_bottom                                                       & B4                                                                & P132                                                              & 0.003203513                                                       & 0.000128479                                                       & 0.000138911                                                       & ...                                                               & 0.007837721                                                       & 0.000221365                                                       & 0.000534956                                                       & 0.000413657                                                       & 0.000190736                                                       & 0.000184619                                                       & 0.001623528                                                       & 0.000000000                                                       & 0.000945503                                                       & 0.000217402                                                      \\\\\n",
       "\t17 & X582\\_Group3E\\_142dpi\\_LV\\_bottom\\_177\\_G\\_B5\\_P132.mzXML & 582                                                               & Group3E                                                           & 142dpi                                                            & LV\\_bottom                                                       & B5                                                                & P132                                                              & 0.003154399                                                       & 0.000108881                                                       & 0.000054600                                                       & ...                                                               & 0.005704764                                                       & 0.000268459                                                       & 0.000342286                                                       & 0.000076900                                                       & 0.000165649                                                       & 0.000378080                                                       & 0.001671160                                                       & 0.000073800                                                       & 0.001031332                                                       & 0.000176385                                                      \\\\\n",
       "\t18 & X583\\_Group3E\\_142dpi\\_LV\\_bottom\\_178\\_G\\_B6\\_P132.mzXML & 583                                                               & Group3E                                                           & 142dpi                                                            & LV\\_bottom                                                       & B6                                                                & P132                                                              & 0.003181185                                                       & 0.000127449                                                       & 0.000063000                                                       & ...                                                               & 0.006417694                                                       & 0.000318118                                                       & 0.000542185                                                       & 0.000184548                                                       & 0.000051700                                                       & 0.001618255                                                       & 0.002251726                                                       & 0.000094400                                                       & 0.001103733                                                       & 0.000096100                                                      \\\\\n",
       "\t19 & X584\\_Group3E\\_142dpi\\_LV\\_bottom\\_179\\_G\\_B7\\_P132.mzXML & 584                                                               & Group3E                                                           & 142dpi                                                            & LV\\_bottom                                                       & B7                                                                & P132                                                              & 0.004219694                                                       & 0.000194733                                                       & 0.000115753                                                       & ...                                                               & 0.006145460                                                       & 0.000399313                                                       & 0.000404977                                                       & 0.000228200                                                       & 0.000177511                                                       & 0.000082300                                                       & 0.002483672                                                       & 0.000069700                                                       & 0.001435829                                                       & 0.000237145                                                      \\\\\n",
       "\t20 & X585\\_Group3E\\_142dpi\\_LV\\_bottom\\_180\\_G\\_B8\\_P132.mzXML & 585                                                               & Group3E                                                           & 142dpi                                                            & LV\\_bottom                                                       & B8                                                                & P132                                                              & 0.004127403                                                       & 0.000132620                                                       & 0.000103152                                                       & ...                                                               & 0.008716830                                                       & 0.000388099                                                       & 0.000588309                                                       & 0.000174824                                                       & 0.000254230                                                       & 0.000180185                                                       & 0.002624289                                                       & 0.000105303                                                       & 0.001475393                                                       & 0.000225354                                                      \\\\\n",
       "\t26 & X631\\_Group15\\_142dpi\\_LV\\_bottom\\_191\\_G\\_C7\\_P132.mzXML & 631                                                               & Group15                                                           & 142dpi                                                            & LV\\_bottom                                                       & C7                                                                & P132                                                              & 0.005239874                                                       & 0.000193567                                                       & 0.000000000                                                       & ...                                                               & 0.009811577                                                       & 0.000481787                                                       & 0.000611905                                                       & 0.000393870                                                       & 0.000071600                                                       & 0.000812356                                                       & 0.003150958                                                       & 0.000176765                                                       & 0.002022099                                                       & 0.000231479                                                      \\\\\n",
       "\\end{tabular}\n"
      ],
      "text/markdown": [
       "\n",
       "| <!--/--> | filename | MouseID | Treatmentgroup | DPI | organ | well_position | plate | X105.07_2.767 | X119.049_2.765 | X128.018_0.344 | ... | X580.362_2.984 | X599.241_2.765 | X604.362_2.948 | X620.356_2.913 | X682.364_3.313 | X764.524_3.729 | X790.38_2.768 | X792.329_2.764 | X795.335_2.768 | X811.309_2.773 |\n",
       "|---|---|---|---|---|---|---|---|---|---|---|---|---|---|---|---|---|---|---|---|---|---|\n",
       "| 16 | X581_Group3E_142dpi_LV_bottom_176_G_B4_P132.mzXML | 581                                               | Group3E                                           | 142dpi                                            | LV_bottom                                         | B4                                                | P132                                              | 0.003203513                                       | 0.000128479                                       | 0.000138911                                       | ...                                               | 0.007837721                                       | 0.000221365                                       | 0.000534956                                       | 0.000413657                                       | 0.000190736                                       | 0.000184619                                       | 0.001623528                                       | 0.000000000                                       | 0.000945503                                       | 0.000217402                                       |\n",
       "| 17 | X582_Group3E_142dpi_LV_bottom_177_G_B5_P132.mzXML | 582                                               | Group3E                                           | 142dpi                                            | LV_bottom                                         | B5                                                | P132                                              | 0.003154399                                       | 0.000108881                                       | 0.000054600                                       | ...                                               | 0.005704764                                       | 0.000268459                                       | 0.000342286                                       | 0.000076900                                       | 0.000165649                                       | 0.000378080                                       | 0.001671160                                       | 0.000073800                                       | 0.001031332                                       | 0.000176385                                       |\n",
       "| 18 | X583_Group3E_142dpi_LV_bottom_178_G_B6_P132.mzXML | 583                                               | Group3E                                           | 142dpi                                            | LV_bottom                                         | B6                                                | P132                                              | 0.003181185                                       | 0.000127449                                       | 0.000063000                                       | ...                                               | 0.006417694                                       | 0.000318118                                       | 0.000542185                                       | 0.000184548                                       | 0.000051700                                       | 0.001618255                                       | 0.002251726                                       | 0.000094400                                       | 0.001103733                                       | 0.000096100                                       |\n",
       "| 19 | X584_Group3E_142dpi_LV_bottom_179_G_B7_P132.mzXML | 584                                               | Group3E                                           | 142dpi                                            | LV_bottom                                         | B7                                                | P132                                              | 0.004219694                                       | 0.000194733                                       | 0.000115753                                       | ...                                               | 0.006145460                                       | 0.000399313                                       | 0.000404977                                       | 0.000228200                                       | 0.000177511                                       | 0.000082300                                       | 0.002483672                                       | 0.000069700                                       | 0.001435829                                       | 0.000237145                                       |\n",
       "| 20 | X585_Group3E_142dpi_LV_bottom_180_G_B8_P132.mzXML | 585                                               | Group3E                                           | 142dpi                                            | LV_bottom                                         | B8                                                | P132                                              | 0.004127403                                       | 0.000132620                                       | 0.000103152                                       | ...                                               | 0.008716830                                       | 0.000388099                                       | 0.000588309                                       | 0.000174824                                       | 0.000254230                                       | 0.000180185                                       | 0.002624289                                       | 0.000105303                                       | 0.001475393                                       | 0.000225354                                       |\n",
       "| 26 | X631_Group15_142dpi_LV_bottom_191_G_C7_P132.mzXML | 631                                               | Group15                                           | 142dpi                                            | LV_bottom                                         | C7                                                | P132                                              | 0.005239874                                       | 0.000193567                                       | 0.000000000                                       | ...                                               | 0.009811577                                       | 0.000481787                                       | 0.000611905                                       | 0.000393870                                       | 0.000071600                                       | 0.000812356                                       | 0.003150958                                       | 0.000176765                                       | 0.002022099                                       | 0.000231479                                       |\n",
       "\n"
      ],
      "text/plain": [
       "   filename                                          MouseID Treatmentgroup\n",
       "16 X581_Group3E_142dpi_LV_bottom_176_G_B4_P132.mzXML 581     Group3E       \n",
       "17 X582_Group3E_142dpi_LV_bottom_177_G_B5_P132.mzXML 582     Group3E       \n",
       "18 X583_Group3E_142dpi_LV_bottom_178_G_B6_P132.mzXML 583     Group3E       \n",
       "19 X584_Group3E_142dpi_LV_bottom_179_G_B7_P132.mzXML 584     Group3E       \n",
       "20 X585_Group3E_142dpi_LV_bottom_180_G_B8_P132.mzXML 585     Group3E       \n",
       "26 X631_Group15_142dpi_LV_bottom_191_G_C7_P132.mzXML 631     Group15       \n",
       "   DPI    organ     well_position plate X105.07_2.767 X119.049_2.765\n",
       "16 142dpi LV_bottom B4            P132  0.003203513   0.000128479   \n",
       "17 142dpi LV_bottom B5            P132  0.003154399   0.000108881   \n",
       "18 142dpi LV_bottom B6            P132  0.003181185   0.000127449   \n",
       "19 142dpi LV_bottom B7            P132  0.004219694   0.000194733   \n",
       "20 142dpi LV_bottom B8            P132  0.004127403   0.000132620   \n",
       "26 142dpi LV_bottom C7            P132  0.005239874   0.000193567   \n",
       "   X128.018_0.344 ... X580.362_2.984 X599.241_2.765 X604.362_2.948\n",
       "16 0.000138911    ... 0.007837721    0.000221365    0.000534956   \n",
       "17 0.000054600    ... 0.005704764    0.000268459    0.000342286   \n",
       "18 0.000063000    ... 0.006417694    0.000318118    0.000542185   \n",
       "19 0.000115753    ... 0.006145460    0.000399313    0.000404977   \n",
       "20 0.000103152    ... 0.008716830    0.000388099    0.000588309   \n",
       "26 0.000000000    ... 0.009811577    0.000481787    0.000611905   \n",
       "   X620.356_2.913 X682.364_3.313 X764.524_3.729 X790.38_2.768 X792.329_2.764\n",
       "16 0.000413657    0.000190736    0.000184619    0.001623528   0.000000000   \n",
       "17 0.000076900    0.000165649    0.000378080    0.001671160   0.000073800   \n",
       "18 0.000184548    0.000051700    0.001618255    0.002251726   0.000094400   \n",
       "19 0.000228200    0.000177511    0.000082300    0.002483672   0.000069700   \n",
       "20 0.000174824    0.000254230    0.000180185    0.002624289   0.000105303   \n",
       "26 0.000393870    0.000071600    0.000812356    0.003150958   0.000176765   \n",
       "   X795.335_2.768 X811.309_2.773\n",
       "16 0.000945503    0.000217402   \n",
       "17 0.001031332    0.000176385   \n",
       "18 0.001103733    0.000096100   \n",
       "19 0.001435829    0.000237145   \n",
       "20 0.001475393    0.000225354   \n",
       "26 0.002022099    0.000231479   "
      ]
     },
     "metadata": {},
     "output_type": "display_data"
    },
    {
     "data": {
      "text/html": [
       "<ol class=list-inline>\n",
       "\t<li>30</li>\n",
       "\t<li>62</li>\n",
       "</ol>\n"
      ],
      "text/latex": [
       "\\begin{enumerate*}\n",
       "\\item 30\n",
       "\\item 62\n",
       "\\end{enumerate*}\n"
      ],
      "text/markdown": [
       "1. 30\n",
       "2. 62\n",
       "\n",
       "\n"
      ],
      "text/plain": [
       "[1] 30 62"
      ]
     },
     "metadata": {},
     "output_type": "display_data"
    },
    {
     "data": {
      "text/html": [
       "<ol class=list-inline>\n",
       "\t<li>30</li>\n",
       "\t<li>55</li>\n",
       "</ol>\n"
      ],
      "text/latex": [
       "\\begin{enumerate*}\n",
       "\\item 30\n",
       "\\item 55\n",
       "\\end{enumerate*}\n"
      ],
      "text/markdown": [
       "1. 30\n",
       "2. 55\n",
       "\n",
       "\n"
      ],
      "text/plain": [
       "[1] 30 55"
      ]
     },
     "metadata": {},
     "output_type": "display_data"
    },
    {
     "data": {
      "text/html": [
       "<ol class=list-inline>\n",
       "\t<li>30</li>\n",
       "\t<li>53</li>\n",
       "</ol>\n"
      ],
      "text/latex": [
       "\\begin{enumerate*}\n",
       "\\item 30\n",
       "\\item 53\n",
       "\\end{enumerate*}\n"
      ],
      "text/markdown": [
       "1. 30\n",
       "2. 53\n",
       "\n",
       "\n"
      ],
      "text/plain": [
       "[1] 30 53"
      ]
     },
     "metadata": {},
     "output_type": "display_data"
    },
    {
     "data": {
      "text/html": [
       "<ol class=list-inline>\n",
       "\t<li>30</li>\n",
       "\t<li>60</li>\n",
       "</ol>\n"
      ],
      "text/latex": [
       "\\begin{enumerate*}\n",
       "\\item 30\n",
       "\\item 60\n",
       "\\end{enumerate*}\n"
      ],
      "text/markdown": [
       "1. 30\n",
       "2. 60\n",
       "\n",
       "\n"
      ],
      "text/plain": [
       "[1] 30 60"
      ]
     },
     "metadata": {},
     "output_type": "display_data"
    }
   ],
   "source": [
    "noMeta<-features_pos[,8:62]\n",
    "head(noMeta)\n",
    "not_zero<-which(colSums(noMeta) != 0)\n",
    "head(not_zero)\n",
    "nonzero <- noMeta[, not_zero] # all the non-zero columns\n",
    "nonzero\n",
    "#add back metadata\n",
    "nonzero_wMeta<-cbind(features_pos[,1:7], nonzero)\n",
    "head(nonzero_wMeta)\n",
    "dim(features_pos)\n",
    "dim(noMeta)\n",
    "dim(nonzero)\n",
    "dim(nonzero_wMeta)"
   ]
  },
  {
   "cell_type": "code",
   "execution_count": 5,
   "metadata": {
    "scrolled": true
   },
   "outputs": [
    {
     "name": "stderr",
     "output_type": "stream",
     "text": [
      "Warning message in wilcox.test.default(x = c(0.000193567, 0.000184756, 0, 0.000155738, :\n",
      "\"cannot compute exact p-value with ties\"Warning message in wilcox.test.default(x = c(0, 0.00012669, 5.22e-05, 0.000133498, :\n",
      "\"cannot compute exact p-value with ties\"Warning message in wilcox.test.default(x = c(0.000135214, 0.000352842, 0.000475764, :\n",
      "\"cannot compute exact p-value with ties\"Warning message in wilcox.test.default(x = c(0, 0.000304468, 0.000206789, 0.000380764, :\n",
      "\"cannot compute exact p-value with ties\"Warning message in wilcox.test.default(x = c(6.76e-05, 0, 0.000253538, 0, 0, 0.000195991, :\n",
      "\"cannot compute exact p-value with ties\"Warning message in wilcox.test.default(x = c(0.000160405, 0.000107326, 8.77e-05, :\n",
      "\"cannot compute exact p-value with ties\"Warning message in wilcox.test.default(x = c(0, 0, 0.000401828, 0, 0, 0.000673406, :\n",
      "\"cannot compute exact p-value with ties\"Warning message in wilcox.test.default(x = c(0, 0, 0.000912952, 0.000356533, 0, :\n",
      "\"cannot compute exact p-value with ties\"Warning message in wilcox.test.default(x = c(0.000622455, 0.000472353, 0.000655783, :\n",
      "\"cannot compute exact p-value with ties\"Warning message in wilcox.test.default(x = c(0, 0, 0, 0, 0, 0, 0, 0, 0, 0, 0, 0, :\n",
      "\"cannot compute exact p-value with ties\"Warning message in wilcox.test.default(x = c(0.000153428, 0.000183308, 0.000306893, :\n",
      "\"cannot compute exact p-value with ties\"Warning message in wilcox.test.default(x = c(0, 0.0001328, 0.000283549, 0, 0, 0, :\n",
      "\"cannot compute exact p-value with ties\"Warning message in wilcox.test.default(x = c(0.000801806, 0.000406906, 0, 8.82e-05, :\n",
      "\"cannot compute exact p-value with ties\"Warning message in wilcox.test.default(x = c(3.9e-05, 4.95e-05, 8.14e-05, 3.21e-05, :\n",
      "\"cannot compute exact p-value with ties\"Warning message in wilcox.test.default(x = c(6.74e-05, 2.45e-05, 3.83e-05, 2.65e-05, :\n",
      "\"cannot compute exact p-value with ties\"Warning message in wilcox.test.default(x = c(8.73e-05, 3.28e-05, 0, 0, 0, 0, 0, :\n",
      "\"cannot compute exact p-value with ties\"Warning message in wilcox.test.default(x = c(7.98e-05, 6.24e-05, 8.95e-05, 0, 0, :\n",
      "\"cannot compute exact p-value with ties\"Warning message in wilcox.test.default(x = c(0, 0, 0, 9.48e-05, 0.000107359, 0, :\n",
      "\"cannot compute exact p-value with ties\"Warning message in wilcox.test.default(x = c(0.000126836, 6.31e-05, 5.38e-05, 6.48e-05, :\n",
      "\"cannot compute exact p-value with ties\"Warning message in wilcox.test.default(x = c(3.73e-05, 0, 0, 0, 0, 0, 0, 0, 0, 0, :\n",
      "\"cannot compute exact p-value with ties\"Warning message in wilcox.test.default(x = c(4.06e-05, 0, 0, 0, 0, 0, 0, 0, 0, 0, :\n",
      "\"cannot compute exact p-value with ties\"Warning message in wilcox.test.default(x = c(0.000534538, 0.000330078, 0.000209134, :\n",
      "\"cannot compute exact p-value with ties\"Warning message in wilcox.test.default(x = c(0.000121747, 8.7e-05, 5.91e-05, 4.56e-05, :\n",
      "\"cannot compute exact p-value with ties\"Warning message in wilcox.test.default(x = c(0.000101805, 4.3e-05, 0, 0, 0, 0, 0, :\n",
      "\"cannot compute exact p-value with ties\"Warning message in wilcox.test.default(x = c(0.000214529, 0.000161892, 0.000174929, :\n",
      "\"cannot compute exact p-value with ties\"Warning message in wilcox.test.default(x = c(0.000286429, 0.000153336, 0.000142754, :\n",
      "\"cannot compute exact p-value with ties\"Warning message in wilcox.test.default(x = c(0.00012043, 0.000101067, 8.72e-05, :\n",
      "\"cannot compute exact p-value with ties\"Warning message in wilcox.test.default(x = c(0.000271626, 0.000179447, 0.000129207, :\n",
      "\"cannot compute exact p-value with ties\"Warning message in wilcox.test.default(x = c(0.00010927, 3.75e-05, 0, 0, 0, 0, 0, :\n",
      "\"cannot compute exact p-value with ties\"Warning message in wilcox.test.default(x = c(5.65e-05, 0, 2.97e-05, 3.53e-05, 0, :\n",
      "\"cannot compute exact p-value with ties\"Warning message in wilcox.test.default(x = c(0.000439587, 0.000257359, 0.000298379, :\n",
      "\"cannot compute exact p-value with ties\"Warning message in wilcox.test.default(x = c(0.000464204, 0.000355687, 0.0003158, :\n",
      "\"cannot compute exact p-value with ties\"Warning message in wilcox.test.default(x = c(0.000113126, 3.34e-05, 4.28e-05, 5.91e-05, :\n",
      "\"cannot compute exact p-value with ties\"Warning message in wilcox.test.default(x = c(0.000310167, 0.00037276, 0, 0.00039461, :\n",
      "\"cannot compute exact p-value with ties\"Warning message in wilcox.test.default(x = c(0.000812356, 0.001266247, 0, 0.00048807, :\n",
      "\"cannot compute exact p-value with ties\"Warning message in wilcox.test.default(x = c(0.000176765, 7.59e-05, 9.78e-05, 4.59e-05, :\n",
      "\"cannot compute exact p-value with ties\"Warning message in wilcox.test.default(x = c(0.000231479, 0.000242717, 0.000195685, :\n",
      "\"cannot compute exact p-value with ties\""
     ]
    },
    {
     "data": {
      "text/html": [
       "<ol class=list-inline>\n",
       "\t<li>0.126147401015694</li>\n",
       "\t<li>0.0595377219408429</li>\n",
       "\t<li>0.53337373664199</li>\n",
       "\t<li>0.158001313010861</li>\n",
       "\t<li>0.736611100487712</li>\n",
       "\t<li>0.000695550057788443</li>\n",
       "</ol>\n"
      ],
      "text/latex": [
       "\\begin{enumerate*}\n",
       "\\item 0.126147401015694\n",
       "\\item 0.0595377219408429\n",
       "\\item 0.53337373664199\n",
       "\\item 0.158001313010861\n",
       "\\item 0.736611100487712\n",
       "\\item 0.000695550057788443\n",
       "\\end{enumerate*}\n"
      ],
      "text/markdown": [
       "1. 0.126147401015694\n",
       "2. 0.0595377219408429\n",
       "3. 0.53337373664199\n",
       "4. 0.158001313010861\n",
       "5. 0.736611100487712\n",
       "6. 0.000695550057788443\n",
       "\n",
       "\n"
      ],
      "text/plain": [
       "[1] 0.1261474010 0.0595377219 0.5333737366 0.1580013130 0.7366111005\n",
       "[6] 0.0006955501"
      ]
     },
     "metadata": {},
     "output_type": "display_data"
    },
    {
     "data": {
      "text/html": [
       "<ol class=list-inline>\n",
       "\t<li>0.247622676067845</li>\n",
       "\t<li>0.222391334920187</li>\n",
       "\t<li>0.642472910046033</li>\n",
       "\t<li>0.279135652985855</li>\n",
       "\t<li>0.813341423455181</li>\n",
       "\t<li>0.0349395738364476</li>\n",
       "</ol>\n"
      ],
      "text/latex": [
       "\\begin{enumerate*}\n",
       "\\item 0.247622676067845\n",
       "\\item 0.222391334920187\n",
       "\\item 0.642472910046033\n",
       "\\item 0.279135652985855\n",
       "\\item 0.813341423455181\n",
       "\\item 0.0349395738364476\n",
       "\\end{enumerate*}\n"
      ],
      "text/markdown": [
       "1. 0.247622676067845\n",
       "2. 0.222391334920187\n",
       "3. 0.642472910046033\n",
       "4. 0.279135652985855\n",
       "5. 0.813341423455181\n",
       "6. 0.0349395738364476\n",
       "\n",
       "\n"
      ],
      "text/plain": [
       "[1] 0.24762268 0.22239133 0.64247291 0.27913565 0.81334142 0.03493957"
      ]
     },
     "metadata": {},
     "output_type": "display_data"
    }
   ],
   "source": [
    "pval<-c()#create an empty vector with value pval\n",
    "\n",
    "# 8 to the end of each row\n",
    "for (i in 8:ncol(nonzero_wMeta)) \n",
    "pval<-c(pval,wilcox.test(nonzero_wMeta[,i]~nonzero_wMeta$Treatmentgroup)$p.value) #assign to pval the output of the Mann-Whitney-Wilcoxon test\n",
    "    #don't know why there is that first pval in c(pval...) but it doesn't work without it\n",
    "    #$p.value is because there are many output lines from wilcox.test; you want to keep only the one that's called $p.value because that's where the nbr is\n",
    "\n",
    "head(pval) #to check\n",
    "pAdj <- p.adjust(pval, method = c(\"fdr\"), n=length(pval)) \n",
    "head(pAdj) \n",
    "\n"
   ]
  },
  {
   "cell_type": "code",
   "execution_count": 6,
   "metadata": {
    "scrolled": true
   },
   "outputs": [
    {
     "data": {
      "text/html": [
       "53"
      ],
      "text/latex": [
       "53"
      ],
      "text/markdown": [
       "53"
      ],
      "text/plain": [
       "[1] 53"
      ]
     },
     "metadata": {},
     "output_type": "display_data"
    }
   ],
   "source": [
    "length(pval)"
   ]
  },
  {
   "cell_type": "code",
   "execution_count": 7,
   "metadata": {
    "scrolled": true
   },
   "outputs": [
    {
     "data": {
      "text/html": [
       "53"
      ],
      "text/latex": [
       "53"
      ],
      "text/markdown": [
       "53"
      ],
      "text/plain": [
       "[1] 53"
      ]
     },
     "metadata": {},
     "output_type": "display_data"
    }
   ],
   "source": [
    "length(pAdj)"
   ]
  },
  {
   "cell_type": "code",
   "execution_count": 8,
   "metadata": {},
   "outputs": [
    {
     "data": {
      "text/html": [
       "<ol class=list-inline>\n",
       "\t<li>2</li>\n",
       "\t<li>53</li>\n",
       "</ol>\n"
      ],
      "text/latex": [
       "\\begin{enumerate*}\n",
       "\\item 2\n",
       "\\item 53\n",
       "\\end{enumerate*}\n"
      ],
      "text/markdown": [
       "1. 2\n",
       "2. 53\n",
       "\n",
       "\n"
      ],
      "text/plain": [
       "[1]  2 53"
      ]
     },
     "metadata": {},
     "output_type": "display_data"
    },
    {
     "data": {
      "text/html": [
       "<table>\n",
       "<thead><tr><th></th><th scope=col>X105.07_2.767</th><th scope=col>X119.049_2.765</th><th scope=col>X128.018_0.344</th></tr></thead>\n",
       "<tbody>\n",
       "\t<tr><th scope=row>Group15</th><td>0.004205396 </td><td>9.481807e-05</td><td>0.0001032189</td></tr>\n",
       "\t<tr><th scope=row>Group3E</th><td>0.005180241 </td><td>1.732216e-04</td><td>0.0001250626</td></tr>\n",
       "</tbody>\n",
       "</table>\n"
      ],
      "text/latex": [
       "\\begin{tabular}{r|lll}\n",
       "  & X105.07\\_2.767 & X119.049\\_2.765 & X128.018\\_0.344\\\\\n",
       "\\hline\n",
       "\tGroup15 & 0.004205396  & 9.481807e-05 & 0.0001032189\\\\\n",
       "\tGroup3E & 0.005180241  & 1.732216e-04 & 0.0001250626\\\\\n",
       "\\end{tabular}\n"
      ],
      "text/markdown": [
       "\n",
       "| <!--/--> | X105.07_2.767 | X119.049_2.765 | X128.018_0.344 |\n",
       "|---|---|---|---|\n",
       "| Group15 | 0.004205396  | 9.481807e-05 | 0.0001032189 |\n",
       "| Group3E | 0.005180241  | 1.732216e-04 | 0.0001250626 |\n",
       "\n"
      ],
      "text/plain": [
       "        X105.07_2.767 X119.049_2.765 X128.018_0.344\n",
       "Group15 0.004205396   9.481807e-05   0.0001032189  \n",
       "Group3E 0.005180241   1.732216e-04   0.0001250626  "
      ]
     },
     "metadata": {},
     "output_type": "display_data"
    },
    {
     "data": {
      "text/html": [
       "<dl class=dl-horizontal>\n",
       "\t<dt>X105.07_2.767</dt>\n",
       "\t\t<dd>0.811814681150215</dd>\n",
       "\t<dt>X119.049_2.765</dt>\n",
       "\t\t<dd>0.547380157362977</dd>\n",
       "\t<dt>X128.018_0.344</dt>\n",
       "\t\t<dd>0.825338137327493</dd>\n",
       "\t<dt>X136.062_0.301</dt>\n",
       "\t\t<dd>1.90300646035347</dd>\n",
       "\t<dt>X136.097_0.551</dt>\n",
       "\t\t<dd>1.41273611957783</dd>\n",
       "\t<dt>X137.046_0.31</dt>\n",
       "\t\t<dd>1.36688895424326</dd>\n",
       "</dl>\n"
      ],
      "text/latex": [
       "\\begin{description*}\n",
       "\\item[X105.07\\textbackslash{}\\_2.767] 0.811814681150215\n",
       "\\item[X119.049\\textbackslash{}\\_2.765] 0.547380157362977\n",
       "\\item[X128.018\\textbackslash{}\\_0.344] 0.825338137327493\n",
       "\\item[X136.062\\textbackslash{}\\_0.301] 1.90300646035347\n",
       "\\item[X136.097\\textbackslash{}\\_0.551] 1.41273611957783\n",
       "\\item[X137.046\\textbackslash{}\\_0.31] 1.36688895424326\n",
       "\\end{description*}\n"
      ],
      "text/markdown": [
       "X105.07_2.767\n",
       ":   0.811814681150215X119.049_2.765\n",
       ":   0.547380157362977X128.018_0.344\n",
       ":   0.825338137327493X136.062_0.301\n",
       ":   1.90300646035347X136.097_0.551\n",
       ":   1.41273611957783X137.046_0.31\n",
       ":   1.36688895424326\n",
       "\n"
      ],
      "text/plain": [
       " X105.07_2.767 X119.049_2.765 X128.018_0.344 X136.062_0.301 X136.097_0.551 \n",
       "     0.8118147      0.5473802      0.8253381      1.9030065      1.4127361 \n",
       " X137.046_0.31 \n",
       "     1.3668890 "
      ]
     },
     "metadata": {},
     "output_type": "display_data"
    },
    {
     "data": {
      "text/html": [
       "<ol class=list-inline>\n",
       "\t<li>'numeric'</li>\n",
       "\t<li>'vector'</li>\n",
       "</ol>\n"
      ],
      "text/latex": [
       "\\begin{enumerate*}\n",
       "\\item 'numeric'\n",
       "\\item 'vector'\n",
       "\\end{enumerate*}\n"
      ],
      "text/markdown": [
       "1. 'numeric'\n",
       "2. 'vector'\n",
       "\n",
       "\n"
      ],
      "text/plain": [
       "[1] \"numeric\" \"vector\" "
      ]
     },
     "metadata": {},
     "output_type": "display_data"
    }
   ],
   "source": [
    "# change the column name, you want to see infected and naive so it should be State\n",
    "avg<- apply(nonzero_wMeta[,8:ncol(nonzero_wMeta)], 2, function(x) tapply(x, nonzero_wMeta$Treatmentgroup, function(x) mean(x))) \n",
    "\n",
    "dim(avg) #to check\n",
    "\n",
    "avg[,1:3]#to check\n",
    "\n",
    "fch <- apply(avg, 2, function(x) x[1]/x[2]) #calculate fold change\n",
    "\n",
    "head(fch) #to check it's ok\n",
    "is(fch)"
   ]
  },
  {
   "cell_type": "code",
   "execution_count": 9,
   "metadata": {
    "scrolled": true
   },
   "outputs": [
    {
     "data": {
      "text/html": [
       "<dl class=dl-horizontal>\n",
       "\t<dt>X105.07_2.767</dt>\n",
       "\t\t<dd>0.811814681150215</dd>\n",
       "\t<dt>X119.049_2.765</dt>\n",
       "\t\t<dd>0.547380157362977</dd>\n",
       "\t<dt>X128.018_0.344</dt>\n",
       "\t\t<dd>0.825338137327493</dd>\n",
       "\t<dt>X136.062_0.301</dt>\n",
       "\t\t<dd>1.90300646035347</dd>\n",
       "\t<dt>X136.097_0.551</dt>\n",
       "\t\t<dd>1.41273611957783</dd>\n",
       "\t<dt>X137.046_0.31</dt>\n",
       "\t\t<dd>1.36688895424326</dd>\n",
       "\t<dt>X137.046_0.42</dt>\n",
       "\t\t<dd>1.21235555228241</dd>\n",
       "\t<dt>X203.007_0.309</dt>\n",
       "\t\t<dd>3.16080236842544</dd>\n",
       "\t<dt>X249.112_2.768</dt>\n",
       "\t\t<dd>0.580386067830007</dd>\n",
       "\t<dt>X251.037_0.323</dt>\n",
       "\t\t<dd>2.85566787024743</dd>\n",
       "\t<dt>X256.264_3.225</dt>\n",
       "\t\t<dd>2.37056145171202</dd>\n",
       "\t<dt>X258.207_2.775</dt>\n",
       "\t\t<dd>0.947705524961676</dd>\n",
       "\t<dt>X267.123_2.767</dt>\n",
       "\t\t<dd>0.817886243021075</dd>\n",
       "\t<dt>X285.133_2.768</dt>\n",
       "\t\t<dd>0.818913981978976</dd>\n",
       "\t<dt>X291.146_2.39</dt>\n",
       "\t\t<dd>2.81606423730113</dd>\n",
       "\t<dt>X296.258_2.976</dt>\n",
       "\t\t<dd>0</dd>\n",
       "\t<dt>X301.115_0.328</dt>\n",
       "\t\t<dd>1.31136437425256</dd>\n",
       "\t<dt>X301.115_0.413</dt>\n",
       "\t\t<dd>1.40520515392986</dd>\n",
       "\t<dt>X324.327_3.455</dt>\n",
       "\t\t<dd>1.01452729196691</dd>\n",
       "\t<dt>X351.217_2.741</dt>\n",
       "\t\t<dd>0.693017321198708</dd>\n",
       "\t<dt>X352.306_2.997</dt>\n",
       "\t\t<dd>0.662099478035585</dd>\n",
       "\t<dt>X369.17_2.767</dt>\n",
       "\t\t<dd>0.769861187103648</dd>\n",
       "\t<dt>X380.993_2.164</dt>\n",
       "\t\t<dd>7.35714285714286</dd>\n",
       "\t<dt>X386.717_2.856</dt>\n",
       "\t\t<dd>11.3010752688172</dd>\n",
       "\t<dt>X387.193_2.842</dt>\n",
       "\t\t<dd>2.70646897753438</dd>\n",
       "\t<dt>X396.332_2.991</dt>\n",
       "\t\t<dd>0.71218712642395</dd>\n",
       "\t<dt>X397.22_2.071</dt>\n",
       "\t\t<dd>2.9140625</dd>\n",
       "\t<dt>X400.97_2.127</dt>\n",
       "\t\t<dd>Inf</dd>\n",
       "\t<dt>X416.337_2.79</dt>\n",
       "\t\t<dd>0.662625312255566</dd>\n",
       "\t<dt>X420.899_2.103</dt>\n",
       "\t\t<dd>1.81127649769585</dd>\n",
       "\t<dt>X426.484_2.164</dt>\n",
       "\t\t<dd>1.70760613207547</dd>\n",
       "\t<dt>X430.223_2.769</dt>\n",
       "\t\t<dd>0.749372071392439</dd>\n",
       "\t<dt>X440.338_2.763</dt>\n",
       "\t\t<dd>0.449200275149501</dd>\n",
       "\t<dt>X440.359_2.985</dt>\n",
       "\t\t<dd>0.754951638195006</dd>\n",
       "\t<dt>X442.353_2.819</dt>\n",
       "\t\t<dd>0.530457162749026</dd>\n",
       "\t<dt>X458.23_2.165</dt>\n",
       "\t\t<dd>2.80630975143403</dd>\n",
       "\t<dt>X466.25_2.226</dt>\n",
       "\t\t<dd>Inf</dd>\n",
       "\t<dt>X475.989_2.164</dt>\n",
       "\t\t<dd>2.43705379291248</dd>\n",
       "\t<dt>X476.24_2.164</dt>\n",
       "\t\t<dd>2.57187439505116</dd>\n",
       "\t<dt>X484.385_2.982</dt>\n",
       "\t\t<dd>0.626651190742726</dd>\n",
       "\t<dt>X489.228_2.768</dt>\n",
       "\t\t<dd>0.682510255683262</dd>\n",
       "\t<dt>X494.325_2.865</dt>\n",
       "\t\t<dd>0.605882305825437</dd>\n",
       "\t<dt>X570.357_2.934</dt>\n",
       "\t\t<dd>0.878026547344287</dd>\n",
       "\t<dt>X580.362_2.984</dt>\n",
       "\t\t<dd>0.882769534005074</dd>\n",
       "\t<dt>X599.241_2.765</dt>\n",
       "\t\t<dd>0.696971215428605</dd>\n",
       "\t<dt>X604.362_2.948</dt>\n",
       "\t\t<dd>1.08981617331445</dd>\n",
       "\t<dt>X620.356_2.913</dt>\n",
       "\t\t<dd>1.36215438284188</dd>\n",
       "\t<dt>X682.364_3.313</dt>\n",
       "\t\t<dd>1.12380119967475</dd>\n",
       "\t<dt>X764.524_3.729</dt>\n",
       "\t\t<dd>1.00910454107747</dd>\n",
       "\t<dt>X790.38_2.768</dt>\n",
       "\t\t<dd>0.752241722602425</dd>\n",
       "\t<dt>X792.329_2.764</dt>\n",
       "\t\t<dd>0.567078745773127</dd>\n",
       "\t<dt>X795.335_2.768</dt>\n",
       "\t\t<dd>0.74899717504384</dd>\n",
       "\t<dt>X811.309_2.773</dt>\n",
       "\t\t<dd>0.708836981481342</dd>\n",
       "</dl>\n"
      ],
      "text/latex": [
       "\\begin{description*}\n",
       "\\item[X105.07\\textbackslash{}\\_2.767] 0.811814681150215\n",
       "\\item[X119.049\\textbackslash{}\\_2.765] 0.547380157362977\n",
       "\\item[X128.018\\textbackslash{}\\_0.344] 0.825338137327493\n",
       "\\item[X136.062\\textbackslash{}\\_0.301] 1.90300646035347\n",
       "\\item[X136.097\\textbackslash{}\\_0.551] 1.41273611957783\n",
       "\\item[X137.046\\textbackslash{}\\_0.31] 1.36688895424326\n",
       "\\item[X137.046\\textbackslash{}\\_0.42] 1.21235555228241\n",
       "\\item[X203.007\\textbackslash{}\\_0.309] 3.16080236842544\n",
       "\\item[X249.112\\textbackslash{}\\_2.768] 0.580386067830007\n",
       "\\item[X251.037\\textbackslash{}\\_0.323] 2.85566787024743\n",
       "\\item[X256.264\\textbackslash{}\\_3.225] 2.37056145171202\n",
       "\\item[X258.207\\textbackslash{}\\_2.775] 0.947705524961676\n",
       "\\item[X267.123\\textbackslash{}\\_2.767] 0.817886243021075\n",
       "\\item[X285.133\\textbackslash{}\\_2.768] 0.818913981978976\n",
       "\\item[X291.146\\textbackslash{}\\_2.39] 2.81606423730113\n",
       "\\item[X296.258\\textbackslash{}\\_2.976] 0\n",
       "\\item[X301.115\\textbackslash{}\\_0.328] 1.31136437425256\n",
       "\\item[X301.115\\textbackslash{}\\_0.413] 1.40520515392986\n",
       "\\item[X324.327\\textbackslash{}\\_3.455] 1.01452729196691\n",
       "\\item[X351.217\\textbackslash{}\\_2.741] 0.693017321198708\n",
       "\\item[X352.306\\textbackslash{}\\_2.997] 0.662099478035585\n",
       "\\item[X369.17\\textbackslash{}\\_2.767] 0.769861187103648\n",
       "\\item[X380.993\\textbackslash{}\\_2.164] 7.35714285714286\n",
       "\\item[X386.717\\textbackslash{}\\_2.856] 11.3010752688172\n",
       "\\item[X387.193\\textbackslash{}\\_2.842] 2.70646897753438\n",
       "\\item[X396.332\\textbackslash{}\\_2.991] 0.71218712642395\n",
       "\\item[X397.22\\textbackslash{}\\_2.071] 2.9140625\n",
       "\\item[X400.97\\textbackslash{}\\_2.127] Inf\n",
       "\\item[X416.337\\textbackslash{}\\_2.79] 0.662625312255566\n",
       "\\item[X420.899\\textbackslash{}\\_2.103] 1.81127649769585\n",
       "\\item[X426.484\\textbackslash{}\\_2.164] 1.70760613207547\n",
       "\\item[X430.223\\textbackslash{}\\_2.769] 0.749372071392439\n",
       "\\item[X440.338\\textbackslash{}\\_2.763] 0.449200275149501\n",
       "\\item[X440.359\\textbackslash{}\\_2.985] 0.754951638195006\n",
       "\\item[X442.353\\textbackslash{}\\_2.819] 0.530457162749026\n",
       "\\item[X458.23\\textbackslash{}\\_2.165] 2.80630975143403\n",
       "\\item[X466.25\\textbackslash{}\\_2.226] Inf\n",
       "\\item[X475.989\\textbackslash{}\\_2.164] 2.43705379291248\n",
       "\\item[X476.24\\textbackslash{}\\_2.164] 2.57187439505116\n",
       "\\item[X484.385\\textbackslash{}\\_2.982] 0.626651190742726\n",
       "\\item[X489.228\\textbackslash{}\\_2.768] 0.682510255683262\n",
       "\\item[X494.325\\textbackslash{}\\_2.865] 0.605882305825437\n",
       "\\item[X570.357\\textbackslash{}\\_2.934] 0.878026547344287\n",
       "\\item[X580.362\\textbackslash{}\\_2.984] 0.882769534005074\n",
       "\\item[X599.241\\textbackslash{}\\_2.765] 0.696971215428605\n",
       "\\item[X604.362\\textbackslash{}\\_2.948] 1.08981617331445\n",
       "\\item[X620.356\\textbackslash{}\\_2.913] 1.36215438284188\n",
       "\\item[X682.364\\textbackslash{}\\_3.313] 1.12380119967475\n",
       "\\item[X764.524\\textbackslash{}\\_3.729] 1.00910454107747\n",
       "\\item[X790.38\\textbackslash{}\\_2.768] 0.752241722602425\n",
       "\\item[X792.329\\textbackslash{}\\_2.764] 0.567078745773127\n",
       "\\item[X795.335\\textbackslash{}\\_2.768] 0.74899717504384\n",
       "\\item[X811.309\\textbackslash{}\\_2.773] 0.708836981481342\n",
       "\\end{description*}\n"
      ],
      "text/markdown": [
       "X105.07_2.767\n",
       ":   0.811814681150215X119.049_2.765\n",
       ":   0.547380157362977X128.018_0.344\n",
       ":   0.825338137327493X136.062_0.301\n",
       ":   1.90300646035347X136.097_0.551\n",
       ":   1.41273611957783X137.046_0.31\n",
       ":   1.36688895424326X137.046_0.42\n",
       ":   1.21235555228241X203.007_0.309\n",
       ":   3.16080236842544X249.112_2.768\n",
       ":   0.580386067830007X251.037_0.323\n",
       ":   2.85566787024743X256.264_3.225\n",
       ":   2.37056145171202X258.207_2.775\n",
       ":   0.947705524961676X267.123_2.767\n",
       ":   0.817886243021075X285.133_2.768\n",
       ":   0.818913981978976X291.146_2.39\n",
       ":   2.81606423730113X296.258_2.976\n",
       ":   0X301.115_0.328\n",
       ":   1.31136437425256X301.115_0.413\n",
       ":   1.40520515392986X324.327_3.455\n",
       ":   1.01452729196691X351.217_2.741\n",
       ":   0.693017321198708X352.306_2.997\n",
       ":   0.662099478035585X369.17_2.767\n",
       ":   0.769861187103648X380.993_2.164\n",
       ":   7.35714285714286X386.717_2.856\n",
       ":   11.3010752688172X387.193_2.842\n",
       ":   2.70646897753438X396.332_2.991\n",
       ":   0.71218712642395X397.22_2.071\n",
       ":   2.9140625X400.97_2.127\n",
       ":   InfX416.337_2.79\n",
       ":   0.662625312255566X420.899_2.103\n",
       ":   1.81127649769585X426.484_2.164\n",
       ":   1.70760613207547X430.223_2.769\n",
       ":   0.749372071392439X440.338_2.763\n",
       ":   0.449200275149501X440.359_2.985\n",
       ":   0.754951638195006X442.353_2.819\n",
       ":   0.530457162749026X458.23_2.165\n",
       ":   2.80630975143403X466.25_2.226\n",
       ":   InfX475.989_2.164\n",
       ":   2.43705379291248X476.24_2.164\n",
       ":   2.57187439505116X484.385_2.982\n",
       ":   0.626651190742726X489.228_2.768\n",
       ":   0.682510255683262X494.325_2.865\n",
       ":   0.605882305825437X570.357_2.934\n",
       ":   0.878026547344287X580.362_2.984\n",
       ":   0.882769534005074X599.241_2.765\n",
       ":   0.696971215428605X604.362_2.948\n",
       ":   1.08981617331445X620.356_2.913\n",
       ":   1.36215438284188X682.364_3.313\n",
       ":   1.12380119967475X764.524_3.729\n",
       ":   1.00910454107747X790.38_2.768\n",
       ":   0.752241722602425X792.329_2.764\n",
       ":   0.567078745773127X795.335_2.768\n",
       ":   0.74899717504384X811.309_2.773\n",
       ":   0.708836981481342\n",
       "\n"
      ],
      "text/plain": [
       " X105.07_2.767 X119.049_2.765 X128.018_0.344 X136.062_0.301 X136.097_0.551 \n",
       "     0.8118147      0.5473802      0.8253381      1.9030065      1.4127361 \n",
       " X137.046_0.31  X137.046_0.42 X203.007_0.309 X249.112_2.768 X251.037_0.323 \n",
       "     1.3668890      1.2123556      3.1608024      0.5803861      2.8556679 \n",
       "X256.264_3.225 X258.207_2.775 X267.123_2.767 X285.133_2.768  X291.146_2.39 \n",
       "     2.3705615      0.9477055      0.8178862      0.8189140      2.8160642 \n",
       "X296.258_2.976 X301.115_0.328 X301.115_0.413 X324.327_3.455 X351.217_2.741 \n",
       "     0.0000000      1.3113644      1.4052052      1.0145273      0.6930173 \n",
       "X352.306_2.997  X369.17_2.767 X380.993_2.164 X386.717_2.856 X387.193_2.842 \n",
       "     0.6620995      0.7698612      7.3571429     11.3010753      2.7064690 \n",
       "X396.332_2.991  X397.22_2.071  X400.97_2.127  X416.337_2.79 X420.899_2.103 \n",
       "     0.7121871      2.9140625            Inf      0.6626253      1.8112765 \n",
       "X426.484_2.164 X430.223_2.769 X440.338_2.763 X440.359_2.985 X442.353_2.819 \n",
       "     1.7076061      0.7493721      0.4492003      0.7549516      0.5304572 \n",
       " X458.23_2.165  X466.25_2.226 X475.989_2.164  X476.24_2.164 X484.385_2.982 \n",
       "     2.8063098            Inf      2.4370538      2.5718744      0.6266512 \n",
       "X489.228_2.768 X494.325_2.865 X570.357_2.934 X580.362_2.984 X599.241_2.765 \n",
       "     0.6825103      0.6058823      0.8780265      0.8827695      0.6969712 \n",
       "X604.362_2.948 X620.356_2.913 X682.364_3.313 X764.524_3.729  X790.38_2.768 \n",
       "     1.0898162      1.3621544      1.1238012      1.0091045      0.7522417 \n",
       "X792.329_2.764 X795.335_2.768 X811.309_2.773 \n",
       "     0.5670787      0.7489972      0.7088370 "
      ]
     },
     "metadata": {},
     "output_type": "display_data"
    }
   ],
   "source": [
    "fch"
   ]
  },
  {
   "cell_type": "code",
   "execution_count": 10,
   "metadata": {
    "scrolled": false
   },
   "outputs": [],
   "source": [
    "#Convoluted way to get the names; likely could find a simpler way\n",
    "\n",
    "#make dataframe from pval and fch\n",
    "df <- data.frame(fch,pval, pAdj)\n",
    "write.csv(df, \"LVB-wilcox-3E-15.csv\")"
   ]
  },
  {
   "cell_type": "code",
   "execution_count": null,
   "metadata": {},
   "outputs": [],
   "source": []
  },
  {
   "cell_type": "code",
   "execution_count": null,
   "metadata": {},
   "outputs": [],
   "source": []
  },
  {
   "cell_type": "code",
   "execution_count": null,
   "metadata": {},
   "outputs": [],
   "source": []
  }
 ],
 "metadata": {
  "kernelspec": {
   "display_name": "R",
   "language": "R",
   "name": "ir"
  },
  "language_info": {
   "codemirror_mode": "r",
   "file_extension": ".r",
   "mimetype": "text/x-r-source",
   "name": "R",
   "pygments_lexer": "r",
   "version": "3.6.1"
  }
 },
 "nbformat": 4,
 "nbformat_minor": 2
}
