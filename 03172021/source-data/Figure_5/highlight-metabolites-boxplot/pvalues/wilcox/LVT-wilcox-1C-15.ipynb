{
 "cells": [
  {
   "cell_type": "code",
   "execution_count": null,
   "metadata": {},
   "outputs": [],
   "source": [
    "# after I have filtered feature table, I do wilcox p value for filtered mass list. So that the p value will be more accurate"
   ]
  },
  {
   "cell_type": "code",
   "execution_count": 1,
   "metadata": {},
   "outputs": [],
   "source": [
    "a <- read.csv(\"03172021-9-15-3E-1C-LVT-M-F-filtered-fix.csv\")"
   ]
  },
  {
   "cell_type": "code",
   "execution_count": 2,
   "metadata": {},
   "outputs": [
    {
     "data": {
      "text/html": [
       "<table>\n",
       "<thead><tr><th scope=col>filename</th><th scope=col>MouseID</th><th scope=col>Treatmentgroup</th><th scope=col>DPI</th><th scope=col>organ</th><th scope=col>well_position</th><th scope=col>plate</th><th scope=col>X141.091_1.54</th><th scope=col>X203.007_0.309</th><th scope=col>X240.116_2.324</th><th scope=col>...</th><th scope=col>X708.445_3.006</th><th scope=col>X709.936_2.18</th><th scope=col>X720.445_3.09</th><th scope=col>X737.391_2.399</th><th scope=col>X776.042_2.398</th><th scope=col>X776.095_2.398</th><th scope=col>X776.148_2.398</th><th scope=col>X776.359_2.398</th><th scope=col>X819.433_2.399</th><th scope=col>X867.281_2.399</th></tr></thead>\n",
       "<tbody>\n",
       "\t<tr><td>X511_Group1C_142dpi_LV_top_161_G_A1_P128.mzXML</td><td>511                                           </td><td>Group1C                                       </td><td>142dpi                                        </td><td>LV_top                                        </td><td>A1                                            </td><td>P128                                          </td><td>0.000150701                                   </td><td>0.000253054                                   </td><td>3.74e-05                                      </td><td>...                                           </td><td>0.000561014                                   </td><td>0                                             </td><td>0.00000000                                    </td><td>0.000083200                                   </td><td>0.000080700                                   </td><td>0.000135990                                   </td><td>0.000323401                                   </td><td>0.000323462                                   </td><td>0.000265376                                   </td><td>0.000099000                                   </td></tr>\n",
       "\t<tr><td>X512_Group1C_142dpi_LV_top_162_G_A2_P128.mzXML</td><td>512                                           </td><td>Group1C                                       </td><td>142dpi                                        </td><td>LV_top                                        </td><td>A2                                            </td><td>P128                                          </td><td>0.000360521                                   </td><td>0.000326035                                   </td><td>0.00e+00                                      </td><td>...                                           </td><td>0.000621951                                   </td><td>0                                             </td><td>0.00000000                                    </td><td>0.000082400                                   </td><td>0.000120213                                   </td><td>0.000151179                                   </td><td>0.000243702                                   </td><td>0.000214309                                   </td><td>0.000353256                                   </td><td>0.000135352                                   </td></tr>\n",
       "\t<tr><td>X513_Group1C_142dpi_LV_top_163_G_A3_P128.mzXML</td><td>513                                           </td><td>Group1C                                       </td><td>142dpi                                        </td><td>LV_top                                        </td><td>A3                                            </td><td>P128                                          </td><td>0.000115526                                   </td><td>0.000073000                                   </td><td>0.00e+00                                      </td><td>...                                           </td><td>0.000582842                                   </td><td>0                                             </td><td>0.00002720                                    </td><td>0.000042000                                   </td><td>0.000056100                                   </td><td>0.000157763                                   </td><td>0.000178871                                   </td><td>0.000202296                                   </td><td>0.000203821                                   </td><td>0.000092300                                   </td></tr>\n",
       "\t<tr><td>X514_Group1C_142dpi_LV_top_164_G_A4_P128.mzXML</td><td>514                                           </td><td>Group1C                                       </td><td>142dpi                                        </td><td>LV_top                                        </td><td>A4                                            </td><td>P128                                          </td><td>0.000249240                                   </td><td>0.000333486                                   </td><td>0.00e+00                                      </td><td>...                                           </td><td>0.000774688                                   </td><td>0                                             </td><td>0.00015684                                    </td><td>0.000065100                                   </td><td>0.000074200                                   </td><td>0.000248777                                   </td><td>0.000308660                                   </td><td>0.000307198                                   </td><td>0.000339938                                   </td><td>0.000099300                                   </td></tr>\n",
       "\t<tr><td>X515_Group1C_142dpi_LV_top_165_G_A5_P128.mzXML</td><td>515                                           </td><td>Group1C                                       </td><td>142dpi                                        </td><td>LV_top                                        </td><td>A5                                            </td><td>P128                                          </td><td>0.000166425                                   </td><td>0.000000000                                   </td><td>3.27e-05                                      </td><td>...                                           </td><td>0.000321481                                   </td><td>0                                             </td><td>0.00000000                                    </td><td>0.000196736                                   </td><td>0.000188043                                   </td><td>0.000370402                                   </td><td>0.000512506                                   </td><td>0.000582393                                   </td><td>0.000442618                                   </td><td>0.000209434                                   </td></tr>\n",
       "\t<tr><td>X531_Group1C_142dpi_LV_top_166_G_A6_P128.mzXML</td><td>531                                           </td><td>Group1C                                       </td><td>142dpi                                        </td><td>LV_top                                        </td><td>A6                                            </td><td>P128                                          </td><td>0.000142641                                   </td><td>0.000000000                                   </td><td>3.77e-05                                      </td><td>...                                           </td><td>0.000377722                                   </td><td>0                                             </td><td>0.00000000                                    </td><td>0.000247236                                   </td><td>0.000247236                                   </td><td>0.000430374                                   </td><td>0.000666165                                   </td><td>0.000762312                                   </td><td>0.000503630                                   </td><td>0.000338805                                   </td></tr>\n",
       "</tbody>\n",
       "</table>\n"
      ],
      "text/latex": [
       "\\begin{tabular}{r|lllllllllllllllllllllllllllllllllll}\n",
       " filename & MouseID & Treatmentgroup & DPI & organ & well\\_position & plate & X141.091\\_1.54 & X203.007\\_0.309 & X240.116\\_2.324 & ... & X708.445\\_3.006 & X709.936\\_2.18 & X720.445\\_3.09 & X737.391\\_2.399 & X776.042\\_2.398 & X776.095\\_2.398 & X776.148\\_2.398 & X776.359\\_2.398 & X819.433\\_2.399 & X867.281\\_2.399\\\\\n",
       "\\hline\n",
       "\t X511\\_Group1C\\_142dpi\\_LV\\_top\\_161\\_G\\_A1\\_P128.mzXML & 511                                                            & Group1C                                                        & 142dpi                                                         & LV\\_top                                                       & A1                                                             & P128                                                           & 0.000150701                                                    & 0.000253054                                                    & 3.74e-05                                                       & ...                                                            & 0.000561014                                                    & 0                                                              & 0.00000000                                                     & 0.000083200                                                    & 0.000080700                                                    & 0.000135990                                                    & 0.000323401                                                    & 0.000323462                                                    & 0.000265376                                                    & 0.000099000                                                   \\\\\n",
       "\t X512\\_Group1C\\_142dpi\\_LV\\_top\\_162\\_G\\_A2\\_P128.mzXML & 512                                                            & Group1C                                                        & 142dpi                                                         & LV\\_top                                                       & A2                                                             & P128                                                           & 0.000360521                                                    & 0.000326035                                                    & 0.00e+00                                                       & ...                                                            & 0.000621951                                                    & 0                                                              & 0.00000000                                                     & 0.000082400                                                    & 0.000120213                                                    & 0.000151179                                                    & 0.000243702                                                    & 0.000214309                                                    & 0.000353256                                                    & 0.000135352                                                   \\\\\n",
       "\t X513\\_Group1C\\_142dpi\\_LV\\_top\\_163\\_G\\_A3\\_P128.mzXML & 513                                                            & Group1C                                                        & 142dpi                                                         & LV\\_top                                                       & A3                                                             & P128                                                           & 0.000115526                                                    & 0.000073000                                                    & 0.00e+00                                                       & ...                                                            & 0.000582842                                                    & 0                                                              & 0.00002720                                                     & 0.000042000                                                    & 0.000056100                                                    & 0.000157763                                                    & 0.000178871                                                    & 0.000202296                                                    & 0.000203821                                                    & 0.000092300                                                   \\\\\n",
       "\t X514\\_Group1C\\_142dpi\\_LV\\_top\\_164\\_G\\_A4\\_P128.mzXML & 514                                                            & Group1C                                                        & 142dpi                                                         & LV\\_top                                                       & A4                                                             & P128                                                           & 0.000249240                                                    & 0.000333486                                                    & 0.00e+00                                                       & ...                                                            & 0.000774688                                                    & 0                                                              & 0.00015684                                                     & 0.000065100                                                    & 0.000074200                                                    & 0.000248777                                                    & 0.000308660                                                    & 0.000307198                                                    & 0.000339938                                                    & 0.000099300                                                   \\\\\n",
       "\t X515\\_Group1C\\_142dpi\\_LV\\_top\\_165\\_G\\_A5\\_P128.mzXML & 515                                                            & Group1C                                                        & 142dpi                                                         & LV\\_top                                                       & A5                                                             & P128                                                           & 0.000166425                                                    & 0.000000000                                                    & 3.27e-05                                                       & ...                                                            & 0.000321481                                                    & 0                                                              & 0.00000000                                                     & 0.000196736                                                    & 0.000188043                                                    & 0.000370402                                                    & 0.000512506                                                    & 0.000582393                                                    & 0.000442618                                                    & 0.000209434                                                   \\\\\n",
       "\t X531\\_Group1C\\_142dpi\\_LV\\_top\\_166\\_G\\_A6\\_P128.mzXML & 531                                                            & Group1C                                                        & 142dpi                                                         & LV\\_top                                                       & A6                                                             & P128                                                           & 0.000142641                                                    & 0.000000000                                                    & 3.77e-05                                                       & ...                                                            & 0.000377722                                                    & 0                                                              & 0.00000000                                                     & 0.000247236                                                    & 0.000247236                                                    & 0.000430374                                                    & 0.000666165                                                    & 0.000762312                                                    & 0.000503630                                                    & 0.000338805                                                   \\\\\n",
       "\\end{tabular}\n"
      ],
      "text/markdown": [
       "\n",
       "| filename | MouseID | Treatmentgroup | DPI | organ | well_position | plate | X141.091_1.54 | X203.007_0.309 | X240.116_2.324 | ... | X708.445_3.006 | X709.936_2.18 | X720.445_3.09 | X737.391_2.399 | X776.042_2.398 | X776.095_2.398 | X776.148_2.398 | X776.359_2.398 | X819.433_2.399 | X867.281_2.399 |\n",
       "|---|---|---|---|---|---|---|---|---|---|---|---|---|---|---|---|---|---|---|---|---|\n",
       "| X511_Group1C_142dpi_LV_top_161_G_A1_P128.mzXML | 511                                            | Group1C                                        | 142dpi                                         | LV_top                                         | A1                                             | P128                                           | 0.000150701                                    | 0.000253054                                    | 3.74e-05                                       | ...                                            | 0.000561014                                    | 0                                              | 0.00000000                                     | 0.000083200                                    | 0.000080700                                    | 0.000135990                                    | 0.000323401                                    | 0.000323462                                    | 0.000265376                                    | 0.000099000                                    |\n",
       "| X512_Group1C_142dpi_LV_top_162_G_A2_P128.mzXML | 512                                            | Group1C                                        | 142dpi                                         | LV_top                                         | A2                                             | P128                                           | 0.000360521                                    | 0.000326035                                    | 0.00e+00                                       | ...                                            | 0.000621951                                    | 0                                              | 0.00000000                                     | 0.000082400                                    | 0.000120213                                    | 0.000151179                                    | 0.000243702                                    | 0.000214309                                    | 0.000353256                                    | 0.000135352                                    |\n",
       "| X513_Group1C_142dpi_LV_top_163_G_A3_P128.mzXML | 513                                            | Group1C                                        | 142dpi                                         | LV_top                                         | A3                                             | P128                                           | 0.000115526                                    | 0.000073000                                    | 0.00e+00                                       | ...                                            | 0.000582842                                    | 0                                              | 0.00002720                                     | 0.000042000                                    | 0.000056100                                    | 0.000157763                                    | 0.000178871                                    | 0.000202296                                    | 0.000203821                                    | 0.000092300                                    |\n",
       "| X514_Group1C_142dpi_LV_top_164_G_A4_P128.mzXML | 514                                            | Group1C                                        | 142dpi                                         | LV_top                                         | A4                                             | P128                                           | 0.000249240                                    | 0.000333486                                    | 0.00e+00                                       | ...                                            | 0.000774688                                    | 0                                              | 0.00015684                                     | 0.000065100                                    | 0.000074200                                    | 0.000248777                                    | 0.000308660                                    | 0.000307198                                    | 0.000339938                                    | 0.000099300                                    |\n",
       "| X515_Group1C_142dpi_LV_top_165_G_A5_P128.mzXML | 515                                            | Group1C                                        | 142dpi                                         | LV_top                                         | A5                                             | P128                                           | 0.000166425                                    | 0.000000000                                    | 3.27e-05                                       | ...                                            | 0.000321481                                    | 0                                              | 0.00000000                                     | 0.000196736                                    | 0.000188043                                    | 0.000370402                                    | 0.000512506                                    | 0.000582393                                    | 0.000442618                                    | 0.000209434                                    |\n",
       "| X531_Group1C_142dpi_LV_top_166_G_A6_P128.mzXML | 531                                            | Group1C                                        | 142dpi                                         | LV_top                                         | A6                                             | P128                                           | 0.000142641                                    | 0.000000000                                    | 3.77e-05                                       | ...                                            | 0.000377722                                    | 0                                              | 0.00000000                                     | 0.000247236                                    | 0.000247236                                    | 0.000430374                                    | 0.000666165                                    | 0.000762312                                    | 0.000503630                                    | 0.000338805                                    |\n",
       "\n"
      ],
      "text/plain": [
       "  filename                                       MouseID Treatmentgroup DPI   \n",
       "1 X511_Group1C_142dpi_LV_top_161_G_A1_P128.mzXML 511     Group1C        142dpi\n",
       "2 X512_Group1C_142dpi_LV_top_162_G_A2_P128.mzXML 512     Group1C        142dpi\n",
       "3 X513_Group1C_142dpi_LV_top_163_G_A3_P128.mzXML 513     Group1C        142dpi\n",
       "4 X514_Group1C_142dpi_LV_top_164_G_A4_P128.mzXML 514     Group1C        142dpi\n",
       "5 X515_Group1C_142dpi_LV_top_165_G_A5_P128.mzXML 515     Group1C        142dpi\n",
       "6 X531_Group1C_142dpi_LV_top_166_G_A6_P128.mzXML 531     Group1C        142dpi\n",
       "  organ  well_position plate X141.091_1.54 X203.007_0.309 X240.116_2.324 ...\n",
       "1 LV_top A1            P128  0.000150701   0.000253054    3.74e-05       ...\n",
       "2 LV_top A2            P128  0.000360521   0.000326035    0.00e+00       ...\n",
       "3 LV_top A3            P128  0.000115526   0.000073000    0.00e+00       ...\n",
       "4 LV_top A4            P128  0.000249240   0.000333486    0.00e+00       ...\n",
       "5 LV_top A5            P128  0.000166425   0.000000000    3.27e-05       ...\n",
       "6 LV_top A6            P128  0.000142641   0.000000000    3.77e-05       ...\n",
       "  X708.445_3.006 X709.936_2.18 X720.445_3.09 X737.391_2.399 X776.042_2.398\n",
       "1 0.000561014    0             0.00000000    0.000083200    0.000080700   \n",
       "2 0.000621951    0             0.00000000    0.000082400    0.000120213   \n",
       "3 0.000582842    0             0.00002720    0.000042000    0.000056100   \n",
       "4 0.000774688    0             0.00015684    0.000065100    0.000074200   \n",
       "5 0.000321481    0             0.00000000    0.000196736    0.000188043   \n",
       "6 0.000377722    0             0.00000000    0.000247236    0.000247236   \n",
       "  X776.095_2.398 X776.148_2.398 X776.359_2.398 X819.433_2.399 X867.281_2.399\n",
       "1 0.000135990    0.000323401    0.000323462    0.000265376    0.000099000   \n",
       "2 0.000151179    0.000243702    0.000214309    0.000353256    0.000135352   \n",
       "3 0.000157763    0.000178871    0.000202296    0.000203821    0.000092300   \n",
       "4 0.000248777    0.000308660    0.000307198    0.000339938    0.000099300   \n",
       "5 0.000370402    0.000512506    0.000582393    0.000442618    0.000209434   \n",
       "6 0.000430374    0.000666165    0.000762312    0.000503630    0.000338805   "
      ]
     },
     "metadata": {},
     "output_type": "display_data"
    },
    {
     "data": {
      "text/html": [
       "<ol class=list-inline>\n",
       "\t<li>60</li>\n",
       "\t<li>35</li>\n",
       "</ol>\n"
      ],
      "text/latex": [
       "\\begin{enumerate*}\n",
       "\\item 60\n",
       "\\item 35\n",
       "\\end{enumerate*}\n"
      ],
      "text/markdown": [
       "1. 60\n",
       "2. 35\n",
       "\n",
       "\n"
      ],
      "text/plain": [
       "[1] 60 35"
      ]
     },
     "metadata": {},
     "output_type": "display_data"
    }
   ],
   "source": [
    "head(a)\n",
    "dim(a)"
   ]
  },
  {
   "cell_type": "code",
   "execution_count": 3,
   "metadata": {},
   "outputs": [
    {
     "data": {
      "text/html": [
       "<table>\n",
       "<thead><tr><th scope=col>filename</th><th scope=col>MouseID</th><th scope=col>Treatmentgroup</th><th scope=col>DPI</th><th scope=col>organ</th><th scope=col>well_position</th><th scope=col>plate</th><th scope=col>X141.091_1.54</th><th scope=col>X203.007_0.309</th><th scope=col>X240.116_2.324</th><th scope=col>...</th><th scope=col>X708.445_3.006</th><th scope=col>X709.936_2.18</th><th scope=col>X720.445_3.09</th><th scope=col>X737.391_2.399</th><th scope=col>X776.042_2.398</th><th scope=col>X776.095_2.398</th><th scope=col>X776.148_2.398</th><th scope=col>X776.359_2.398</th><th scope=col>X819.433_2.399</th><th scope=col>X867.281_2.399</th></tr></thead>\n",
       "<tbody>\n",
       "\t<tr><td>X511_Group1C_142dpi_LV_top_161_G_A1_P128.mzXML</td><td>511                                           </td><td>Group1C                                       </td><td>142dpi                                        </td><td>LV_top                                        </td><td>A1                                            </td><td>P128                                          </td><td>0.000150701                                   </td><td>0.000253054                                   </td><td>3.74e-05                                      </td><td>...                                           </td><td>0.000561014                                   </td><td>0                                             </td><td>0.00000000                                    </td><td>0.000083200                                   </td><td>0.000080700                                   </td><td>0.000135990                                   </td><td>0.000323401                                   </td><td>0.000323462                                   </td><td>0.000265376                                   </td><td>0.000099000                                   </td></tr>\n",
       "\t<tr><td>X512_Group1C_142dpi_LV_top_162_G_A2_P128.mzXML</td><td>512                                           </td><td>Group1C                                       </td><td>142dpi                                        </td><td>LV_top                                        </td><td>A2                                            </td><td>P128                                          </td><td>0.000360521                                   </td><td>0.000326035                                   </td><td>0.00e+00                                      </td><td>...                                           </td><td>0.000621951                                   </td><td>0                                             </td><td>0.00000000                                    </td><td>0.000082400                                   </td><td>0.000120213                                   </td><td>0.000151179                                   </td><td>0.000243702                                   </td><td>0.000214309                                   </td><td>0.000353256                                   </td><td>0.000135352                                   </td></tr>\n",
       "\t<tr><td>X513_Group1C_142dpi_LV_top_163_G_A3_P128.mzXML</td><td>513                                           </td><td>Group1C                                       </td><td>142dpi                                        </td><td>LV_top                                        </td><td>A3                                            </td><td>P128                                          </td><td>0.000115526                                   </td><td>0.000073000                                   </td><td>0.00e+00                                      </td><td>...                                           </td><td>0.000582842                                   </td><td>0                                             </td><td>0.00002720                                    </td><td>0.000042000                                   </td><td>0.000056100                                   </td><td>0.000157763                                   </td><td>0.000178871                                   </td><td>0.000202296                                   </td><td>0.000203821                                   </td><td>0.000092300                                   </td></tr>\n",
       "\t<tr><td>X514_Group1C_142dpi_LV_top_164_G_A4_P128.mzXML</td><td>514                                           </td><td>Group1C                                       </td><td>142dpi                                        </td><td>LV_top                                        </td><td>A4                                            </td><td>P128                                          </td><td>0.000249240                                   </td><td>0.000333486                                   </td><td>0.00e+00                                      </td><td>...                                           </td><td>0.000774688                                   </td><td>0                                             </td><td>0.00015684                                    </td><td>0.000065100                                   </td><td>0.000074200                                   </td><td>0.000248777                                   </td><td>0.000308660                                   </td><td>0.000307198                                   </td><td>0.000339938                                   </td><td>0.000099300                                   </td></tr>\n",
       "\t<tr><td>X515_Group1C_142dpi_LV_top_165_G_A5_P128.mzXML</td><td>515                                           </td><td>Group1C                                       </td><td>142dpi                                        </td><td>LV_top                                        </td><td>A5                                            </td><td>P128                                          </td><td>0.000166425                                   </td><td>0.000000000                                   </td><td>3.27e-05                                      </td><td>...                                           </td><td>0.000321481                                   </td><td>0                                             </td><td>0.00000000                                    </td><td>0.000196736                                   </td><td>0.000188043                                   </td><td>0.000370402                                   </td><td>0.000512506                                   </td><td>0.000582393                                   </td><td>0.000442618                                   </td><td>0.000209434                                   </td></tr>\n",
       "\t<tr><td>X531_Group1C_142dpi_LV_top_166_G_A6_P128.mzXML</td><td>531                                           </td><td>Group1C                                       </td><td>142dpi                                        </td><td>LV_top                                        </td><td>A6                                            </td><td>P128                                          </td><td>0.000142641                                   </td><td>0.000000000                                   </td><td>3.77e-05                                      </td><td>...                                           </td><td>0.000377722                                   </td><td>0                                             </td><td>0.00000000                                    </td><td>0.000247236                                   </td><td>0.000247236                                   </td><td>0.000430374                                   </td><td>0.000666165                                   </td><td>0.000762312                                   </td><td>0.000503630                                   </td><td>0.000338805                                   </td></tr>\n",
       "</tbody>\n",
       "</table>\n"
      ],
      "text/latex": [
       "\\begin{tabular}{r|lllllllllllllllllllllllllllllllllll}\n",
       " filename & MouseID & Treatmentgroup & DPI & organ & well\\_position & plate & X141.091\\_1.54 & X203.007\\_0.309 & X240.116\\_2.324 & ... & X708.445\\_3.006 & X709.936\\_2.18 & X720.445\\_3.09 & X737.391\\_2.399 & X776.042\\_2.398 & X776.095\\_2.398 & X776.148\\_2.398 & X776.359\\_2.398 & X819.433\\_2.399 & X867.281\\_2.399\\\\\n",
       "\\hline\n",
       "\t X511\\_Group1C\\_142dpi\\_LV\\_top\\_161\\_G\\_A1\\_P128.mzXML & 511                                                            & Group1C                                                        & 142dpi                                                         & LV\\_top                                                       & A1                                                             & P128                                                           & 0.000150701                                                    & 0.000253054                                                    & 3.74e-05                                                       & ...                                                            & 0.000561014                                                    & 0                                                              & 0.00000000                                                     & 0.000083200                                                    & 0.000080700                                                    & 0.000135990                                                    & 0.000323401                                                    & 0.000323462                                                    & 0.000265376                                                    & 0.000099000                                                   \\\\\n",
       "\t X512\\_Group1C\\_142dpi\\_LV\\_top\\_162\\_G\\_A2\\_P128.mzXML & 512                                                            & Group1C                                                        & 142dpi                                                         & LV\\_top                                                       & A2                                                             & P128                                                           & 0.000360521                                                    & 0.000326035                                                    & 0.00e+00                                                       & ...                                                            & 0.000621951                                                    & 0                                                              & 0.00000000                                                     & 0.000082400                                                    & 0.000120213                                                    & 0.000151179                                                    & 0.000243702                                                    & 0.000214309                                                    & 0.000353256                                                    & 0.000135352                                                   \\\\\n",
       "\t X513\\_Group1C\\_142dpi\\_LV\\_top\\_163\\_G\\_A3\\_P128.mzXML & 513                                                            & Group1C                                                        & 142dpi                                                         & LV\\_top                                                       & A3                                                             & P128                                                           & 0.000115526                                                    & 0.000073000                                                    & 0.00e+00                                                       & ...                                                            & 0.000582842                                                    & 0                                                              & 0.00002720                                                     & 0.000042000                                                    & 0.000056100                                                    & 0.000157763                                                    & 0.000178871                                                    & 0.000202296                                                    & 0.000203821                                                    & 0.000092300                                                   \\\\\n",
       "\t X514\\_Group1C\\_142dpi\\_LV\\_top\\_164\\_G\\_A4\\_P128.mzXML & 514                                                            & Group1C                                                        & 142dpi                                                         & LV\\_top                                                       & A4                                                             & P128                                                           & 0.000249240                                                    & 0.000333486                                                    & 0.00e+00                                                       & ...                                                            & 0.000774688                                                    & 0                                                              & 0.00015684                                                     & 0.000065100                                                    & 0.000074200                                                    & 0.000248777                                                    & 0.000308660                                                    & 0.000307198                                                    & 0.000339938                                                    & 0.000099300                                                   \\\\\n",
       "\t X515\\_Group1C\\_142dpi\\_LV\\_top\\_165\\_G\\_A5\\_P128.mzXML & 515                                                            & Group1C                                                        & 142dpi                                                         & LV\\_top                                                       & A5                                                             & P128                                                           & 0.000166425                                                    & 0.000000000                                                    & 3.27e-05                                                       & ...                                                            & 0.000321481                                                    & 0                                                              & 0.00000000                                                     & 0.000196736                                                    & 0.000188043                                                    & 0.000370402                                                    & 0.000512506                                                    & 0.000582393                                                    & 0.000442618                                                    & 0.000209434                                                   \\\\\n",
       "\t X531\\_Group1C\\_142dpi\\_LV\\_top\\_166\\_G\\_A6\\_P128.mzXML & 531                                                            & Group1C                                                        & 142dpi                                                         & LV\\_top                                                       & A6                                                             & P128                                                           & 0.000142641                                                    & 0.000000000                                                    & 3.77e-05                                                       & ...                                                            & 0.000377722                                                    & 0                                                              & 0.00000000                                                     & 0.000247236                                                    & 0.000247236                                                    & 0.000430374                                                    & 0.000666165                                                    & 0.000762312                                                    & 0.000503630                                                    & 0.000338805                                                   \\\\\n",
       "\\end{tabular}\n"
      ],
      "text/markdown": [
       "\n",
       "| filename | MouseID | Treatmentgroup | DPI | organ | well_position | plate | X141.091_1.54 | X203.007_0.309 | X240.116_2.324 | ... | X708.445_3.006 | X709.936_2.18 | X720.445_3.09 | X737.391_2.399 | X776.042_2.398 | X776.095_2.398 | X776.148_2.398 | X776.359_2.398 | X819.433_2.399 | X867.281_2.399 |\n",
       "|---|---|---|---|---|---|---|---|---|---|---|---|---|---|---|---|---|---|---|---|---|\n",
       "| X511_Group1C_142dpi_LV_top_161_G_A1_P128.mzXML | 511                                            | Group1C                                        | 142dpi                                         | LV_top                                         | A1                                             | P128                                           | 0.000150701                                    | 0.000253054                                    | 3.74e-05                                       | ...                                            | 0.000561014                                    | 0                                              | 0.00000000                                     | 0.000083200                                    | 0.000080700                                    | 0.000135990                                    | 0.000323401                                    | 0.000323462                                    | 0.000265376                                    | 0.000099000                                    |\n",
       "| X512_Group1C_142dpi_LV_top_162_G_A2_P128.mzXML | 512                                            | Group1C                                        | 142dpi                                         | LV_top                                         | A2                                             | P128                                           | 0.000360521                                    | 0.000326035                                    | 0.00e+00                                       | ...                                            | 0.000621951                                    | 0                                              | 0.00000000                                     | 0.000082400                                    | 0.000120213                                    | 0.000151179                                    | 0.000243702                                    | 0.000214309                                    | 0.000353256                                    | 0.000135352                                    |\n",
       "| X513_Group1C_142dpi_LV_top_163_G_A3_P128.mzXML | 513                                            | Group1C                                        | 142dpi                                         | LV_top                                         | A3                                             | P128                                           | 0.000115526                                    | 0.000073000                                    | 0.00e+00                                       | ...                                            | 0.000582842                                    | 0                                              | 0.00002720                                     | 0.000042000                                    | 0.000056100                                    | 0.000157763                                    | 0.000178871                                    | 0.000202296                                    | 0.000203821                                    | 0.000092300                                    |\n",
       "| X514_Group1C_142dpi_LV_top_164_G_A4_P128.mzXML | 514                                            | Group1C                                        | 142dpi                                         | LV_top                                         | A4                                             | P128                                           | 0.000249240                                    | 0.000333486                                    | 0.00e+00                                       | ...                                            | 0.000774688                                    | 0                                              | 0.00015684                                     | 0.000065100                                    | 0.000074200                                    | 0.000248777                                    | 0.000308660                                    | 0.000307198                                    | 0.000339938                                    | 0.000099300                                    |\n",
       "| X515_Group1C_142dpi_LV_top_165_G_A5_P128.mzXML | 515                                            | Group1C                                        | 142dpi                                         | LV_top                                         | A5                                             | P128                                           | 0.000166425                                    | 0.000000000                                    | 3.27e-05                                       | ...                                            | 0.000321481                                    | 0                                              | 0.00000000                                     | 0.000196736                                    | 0.000188043                                    | 0.000370402                                    | 0.000512506                                    | 0.000582393                                    | 0.000442618                                    | 0.000209434                                    |\n",
       "| X531_Group1C_142dpi_LV_top_166_G_A6_P128.mzXML | 531                                            | Group1C                                        | 142dpi                                         | LV_top                                         | A6                                             | P128                                           | 0.000142641                                    | 0.000000000                                    | 3.77e-05                                       | ...                                            | 0.000377722                                    | 0                                              | 0.00000000                                     | 0.000247236                                    | 0.000247236                                    | 0.000430374                                    | 0.000666165                                    | 0.000762312                                    | 0.000503630                                    | 0.000338805                                    |\n",
       "\n"
      ],
      "text/plain": [
       "  filename                                       MouseID Treatmentgroup DPI   \n",
       "1 X511_Group1C_142dpi_LV_top_161_G_A1_P128.mzXML 511     Group1C        142dpi\n",
       "2 X512_Group1C_142dpi_LV_top_162_G_A2_P128.mzXML 512     Group1C        142dpi\n",
       "3 X513_Group1C_142dpi_LV_top_163_G_A3_P128.mzXML 513     Group1C        142dpi\n",
       "4 X514_Group1C_142dpi_LV_top_164_G_A4_P128.mzXML 514     Group1C        142dpi\n",
       "5 X515_Group1C_142dpi_LV_top_165_G_A5_P128.mzXML 515     Group1C        142dpi\n",
       "6 X531_Group1C_142dpi_LV_top_166_G_A6_P128.mzXML 531     Group1C        142dpi\n",
       "  organ  well_position plate X141.091_1.54 X203.007_0.309 X240.116_2.324 ...\n",
       "1 LV_top A1            P128  0.000150701   0.000253054    3.74e-05       ...\n",
       "2 LV_top A2            P128  0.000360521   0.000326035    0.00e+00       ...\n",
       "3 LV_top A3            P128  0.000115526   0.000073000    0.00e+00       ...\n",
       "4 LV_top A4            P128  0.000249240   0.000333486    0.00e+00       ...\n",
       "5 LV_top A5            P128  0.000166425   0.000000000    3.27e-05       ...\n",
       "6 LV_top A6            P128  0.000142641   0.000000000    3.77e-05       ...\n",
       "  X708.445_3.006 X709.936_2.18 X720.445_3.09 X737.391_2.399 X776.042_2.398\n",
       "1 0.000561014    0             0.00000000    0.000083200    0.000080700   \n",
       "2 0.000621951    0             0.00000000    0.000082400    0.000120213   \n",
       "3 0.000582842    0             0.00002720    0.000042000    0.000056100   \n",
       "4 0.000774688    0             0.00015684    0.000065100    0.000074200   \n",
       "5 0.000321481    0             0.00000000    0.000196736    0.000188043   \n",
       "6 0.000377722    0             0.00000000    0.000247236    0.000247236   \n",
       "  X776.095_2.398 X776.148_2.398 X776.359_2.398 X819.433_2.399 X867.281_2.399\n",
       "1 0.000135990    0.000323401    0.000323462    0.000265376    0.000099000   \n",
       "2 0.000151179    0.000243702    0.000214309    0.000353256    0.000135352   \n",
       "3 0.000157763    0.000178871    0.000202296    0.000203821    0.000092300   \n",
       "4 0.000248777    0.000308660    0.000307198    0.000339938    0.000099300   \n",
       "5 0.000370402    0.000512506    0.000582393    0.000442618    0.000209434   \n",
       "6 0.000430374    0.000666165    0.000762312    0.000503630    0.000338805   "
      ]
     },
     "metadata": {},
     "output_type": "display_data"
    },
    {
     "data": {
      "text/html": [
       "<ol class=list-inline>\n",
       "\t<li>30</li>\n",
       "\t<li>35</li>\n",
       "</ol>\n"
      ],
      "text/latex": [
       "\\begin{enumerate*}\n",
       "\\item 30\n",
       "\\item 35\n",
       "\\end{enumerate*}\n"
      ],
      "text/markdown": [
       "1. 30\n",
       "2. 35\n",
       "\n",
       "\n"
      ],
      "text/plain": [
       "[1] 30 35"
      ]
     },
     "metadata": {},
     "output_type": "display_data"
    }
   ],
   "source": [
    "# choose the lung posistion\n",
    "features_pos<-droplevels(subset(a, a$Treatmentgroup==c(\"Group15\")|a$Treatmentgroup==c(\"Group1C\")))\n",
    "head(features_pos)\n",
    "dim(features_pos)"
   ]
  },
  {
   "cell_type": "code",
   "execution_count": 4,
   "metadata": {
    "scrolled": false
   },
   "outputs": [
    {
     "data": {
      "text/html": [
       "<table>\n",
       "<thead><tr><th scope=col>X141.091_1.54</th><th scope=col>X203.007_0.309</th><th scope=col>X240.116_2.324</th><th scope=col>X249.112_2.768</th><th scope=col>X272.222_2.957</th><th scope=col>X293.211_2.931</th><th scope=col>X293.211_2.934</th><th scope=col>X296.258_2.976</th><th scope=col>X311.221_2.932</th><th scope=col>X345.243_3.095</th><th scope=col>...</th><th scope=col>X708.445_3.006</th><th scope=col>X709.936_2.18</th><th scope=col>X720.445_3.09</th><th scope=col>X737.391_2.399</th><th scope=col>X776.042_2.398</th><th scope=col>X776.095_2.398</th><th scope=col>X776.148_2.398</th><th scope=col>X776.359_2.398</th><th scope=col>X819.433_2.399</th><th scope=col>X867.281_2.399</th></tr></thead>\n",
       "<tbody>\n",
       "\t<tr><td>0.000150701</td><td>0.000253054</td><td>3.74e-05   </td><td>0.00e+00   </td><td>0.007567170</td><td>0.000782811</td><td>0          </td><td>0.000350953</td><td>0.000752368</td><td>0.000152189</td><td>...        </td><td>0.000561014</td><td>0          </td><td>0.00000000 </td><td>0.000083200</td><td>0.000080700</td><td>0.000135990</td><td>0.000323401</td><td>0.000323462</td><td>0.000265376</td><td>0.000099000</td></tr>\n",
       "\t<tr><td>0.000360521</td><td>0.000326035</td><td>0.00e+00   </td><td>0.00e+00   </td><td>0.001526131</td><td>0.000543553</td><td>0          </td><td>0.000377629</td><td>0.000448609</td><td>0.000046100</td><td>...        </td><td>0.000621951</td><td>0          </td><td>0.00000000 </td><td>0.000082400</td><td>0.000120213</td><td>0.000151179</td><td>0.000243702</td><td>0.000214309</td><td>0.000353256</td><td>0.000135352</td></tr>\n",
       "\t<tr><td>0.000115526</td><td>0.000073000</td><td>0.00e+00   </td><td>0.00e+00   </td><td>0.003657633</td><td>0.000573921</td><td>0          </td><td>0.000186536</td><td>0.000502553</td><td>0.000268739</td><td>...        </td><td>0.000582842</td><td>0          </td><td>0.00002720 </td><td>0.000042000</td><td>0.000056100</td><td>0.000157763</td><td>0.000178871</td><td>0.000202296</td><td>0.000203821</td><td>0.000092300</td></tr>\n",
       "\t<tr><td>0.000249240</td><td>0.000333486</td><td>0.00e+00   </td><td>0.00e+00   </td><td>0.001514945</td><td>0.000671396</td><td>0          </td><td>0.000306359</td><td>0.000682873</td><td>0.000045900</td><td>...        </td><td>0.000774688</td><td>0          </td><td>0.00015684 </td><td>0.000065100</td><td>0.000074200</td><td>0.000248777</td><td>0.000308660</td><td>0.000307198</td><td>0.000339938</td><td>0.000099300</td></tr>\n",
       "\t<tr><td>0.000166425</td><td>0.000000000</td><td>3.27e-05   </td><td>1.86e-05   </td><td>0.001143819</td><td>0.000882907</td><td>0          </td><td>0.000181573</td><td>0.000850293</td><td>0.000384379</td><td>...        </td><td>0.000321481</td><td>0          </td><td>0.00000000 </td><td>0.000196736</td><td>0.000188043</td><td>0.000370402</td><td>0.000512506</td><td>0.000582393</td><td>0.000442618</td><td>0.000209434</td></tr>\n",
       "\t<tr><td>0.000142641</td><td>0.000000000</td><td>3.77e-05   </td><td>4.46e-05   </td><td>0.004051929</td><td>0.000638694</td><td>0          </td><td>0.000244947</td><td>0.000494473</td><td>0.000302178</td><td>...        </td><td>0.000377722</td><td>0          </td><td>0.00000000 </td><td>0.000247236</td><td>0.000247236</td><td>0.000430374</td><td>0.000666165</td><td>0.000762312</td><td>0.000503630</td><td>0.000338805</td></tr>\n",
       "</tbody>\n",
       "</table>\n"
      ],
      "text/latex": [
       "\\begin{tabular}{r|llllllllllllllllllllllllllll}\n",
       " X141.091\\_1.54 & X203.007\\_0.309 & X240.116\\_2.324 & X249.112\\_2.768 & X272.222\\_2.957 & X293.211\\_2.931 & X293.211\\_2.934 & X296.258\\_2.976 & X311.221\\_2.932 & X345.243\\_3.095 & ... & X708.445\\_3.006 & X709.936\\_2.18 & X720.445\\_3.09 & X737.391\\_2.399 & X776.042\\_2.398 & X776.095\\_2.398 & X776.148\\_2.398 & X776.359\\_2.398 & X819.433\\_2.399 & X867.281\\_2.399\\\\\n",
       "\\hline\n",
       "\t 0.000150701 & 0.000253054 & 3.74e-05    & 0.00e+00    & 0.007567170 & 0.000782811 & 0           & 0.000350953 & 0.000752368 & 0.000152189 & ...         & 0.000561014 & 0           & 0.00000000  & 0.000083200 & 0.000080700 & 0.000135990 & 0.000323401 & 0.000323462 & 0.000265376 & 0.000099000\\\\\n",
       "\t 0.000360521 & 0.000326035 & 0.00e+00    & 0.00e+00    & 0.001526131 & 0.000543553 & 0           & 0.000377629 & 0.000448609 & 0.000046100 & ...         & 0.000621951 & 0           & 0.00000000  & 0.000082400 & 0.000120213 & 0.000151179 & 0.000243702 & 0.000214309 & 0.000353256 & 0.000135352\\\\\n",
       "\t 0.000115526 & 0.000073000 & 0.00e+00    & 0.00e+00    & 0.003657633 & 0.000573921 & 0           & 0.000186536 & 0.000502553 & 0.000268739 & ...         & 0.000582842 & 0           & 0.00002720  & 0.000042000 & 0.000056100 & 0.000157763 & 0.000178871 & 0.000202296 & 0.000203821 & 0.000092300\\\\\n",
       "\t 0.000249240 & 0.000333486 & 0.00e+00    & 0.00e+00    & 0.001514945 & 0.000671396 & 0           & 0.000306359 & 0.000682873 & 0.000045900 & ...         & 0.000774688 & 0           & 0.00015684  & 0.000065100 & 0.000074200 & 0.000248777 & 0.000308660 & 0.000307198 & 0.000339938 & 0.000099300\\\\\n",
       "\t 0.000166425 & 0.000000000 & 3.27e-05    & 1.86e-05    & 0.001143819 & 0.000882907 & 0           & 0.000181573 & 0.000850293 & 0.000384379 & ...         & 0.000321481 & 0           & 0.00000000  & 0.000196736 & 0.000188043 & 0.000370402 & 0.000512506 & 0.000582393 & 0.000442618 & 0.000209434\\\\\n",
       "\t 0.000142641 & 0.000000000 & 3.77e-05    & 4.46e-05    & 0.004051929 & 0.000638694 & 0           & 0.000244947 & 0.000494473 & 0.000302178 & ...         & 0.000377722 & 0           & 0.00000000  & 0.000247236 & 0.000247236 & 0.000430374 & 0.000666165 & 0.000762312 & 0.000503630 & 0.000338805\\\\\n",
       "\\end{tabular}\n"
      ],
      "text/markdown": [
       "\n",
       "| X141.091_1.54 | X203.007_0.309 | X240.116_2.324 | X249.112_2.768 | X272.222_2.957 | X293.211_2.931 | X293.211_2.934 | X296.258_2.976 | X311.221_2.932 | X345.243_3.095 | ... | X708.445_3.006 | X709.936_2.18 | X720.445_3.09 | X737.391_2.399 | X776.042_2.398 | X776.095_2.398 | X776.148_2.398 | X776.359_2.398 | X819.433_2.399 | X867.281_2.399 |\n",
       "|---|---|---|---|---|---|---|---|---|---|---|---|---|---|---|---|---|---|---|---|---|\n",
       "| 0.000150701 | 0.000253054 | 3.74e-05    | 0.00e+00    | 0.007567170 | 0.000782811 | 0           | 0.000350953 | 0.000752368 | 0.000152189 | ...         | 0.000561014 | 0           | 0.00000000  | 0.000083200 | 0.000080700 | 0.000135990 | 0.000323401 | 0.000323462 | 0.000265376 | 0.000099000 |\n",
       "| 0.000360521 | 0.000326035 | 0.00e+00    | 0.00e+00    | 0.001526131 | 0.000543553 | 0           | 0.000377629 | 0.000448609 | 0.000046100 | ...         | 0.000621951 | 0           | 0.00000000  | 0.000082400 | 0.000120213 | 0.000151179 | 0.000243702 | 0.000214309 | 0.000353256 | 0.000135352 |\n",
       "| 0.000115526 | 0.000073000 | 0.00e+00    | 0.00e+00    | 0.003657633 | 0.000573921 | 0           | 0.000186536 | 0.000502553 | 0.000268739 | ...         | 0.000582842 | 0           | 0.00002720  | 0.000042000 | 0.000056100 | 0.000157763 | 0.000178871 | 0.000202296 | 0.000203821 | 0.000092300 |\n",
       "| 0.000249240 | 0.000333486 | 0.00e+00    | 0.00e+00    | 0.001514945 | 0.000671396 | 0           | 0.000306359 | 0.000682873 | 0.000045900 | ...         | 0.000774688 | 0           | 0.00015684  | 0.000065100 | 0.000074200 | 0.000248777 | 0.000308660 | 0.000307198 | 0.000339938 | 0.000099300 |\n",
       "| 0.000166425 | 0.000000000 | 3.27e-05    | 1.86e-05    | 0.001143819 | 0.000882907 | 0           | 0.000181573 | 0.000850293 | 0.000384379 | ...         | 0.000321481 | 0           | 0.00000000  | 0.000196736 | 0.000188043 | 0.000370402 | 0.000512506 | 0.000582393 | 0.000442618 | 0.000209434 |\n",
       "| 0.000142641 | 0.000000000 | 3.77e-05    | 4.46e-05    | 0.004051929 | 0.000638694 | 0           | 0.000244947 | 0.000494473 | 0.000302178 | ...         | 0.000377722 | 0           | 0.00000000  | 0.000247236 | 0.000247236 | 0.000430374 | 0.000666165 | 0.000762312 | 0.000503630 | 0.000338805 |\n",
       "\n"
      ],
      "text/plain": [
       "  X141.091_1.54 X203.007_0.309 X240.116_2.324 X249.112_2.768 X272.222_2.957\n",
       "1 0.000150701   0.000253054    3.74e-05       0.00e+00       0.007567170   \n",
       "2 0.000360521   0.000326035    0.00e+00       0.00e+00       0.001526131   \n",
       "3 0.000115526   0.000073000    0.00e+00       0.00e+00       0.003657633   \n",
       "4 0.000249240   0.000333486    0.00e+00       0.00e+00       0.001514945   \n",
       "5 0.000166425   0.000000000    3.27e-05       1.86e-05       0.001143819   \n",
       "6 0.000142641   0.000000000    3.77e-05       4.46e-05       0.004051929   \n",
       "  X293.211_2.931 X293.211_2.934 X296.258_2.976 X311.221_2.932 X345.243_3.095\n",
       "1 0.000782811    0              0.000350953    0.000752368    0.000152189   \n",
       "2 0.000543553    0              0.000377629    0.000448609    0.000046100   \n",
       "3 0.000573921    0              0.000186536    0.000502553    0.000268739   \n",
       "4 0.000671396    0              0.000306359    0.000682873    0.000045900   \n",
       "5 0.000882907    0              0.000181573    0.000850293    0.000384379   \n",
       "6 0.000638694    0              0.000244947    0.000494473    0.000302178   \n",
       "  ... X708.445_3.006 X709.936_2.18 X720.445_3.09 X737.391_2.399 X776.042_2.398\n",
       "1 ... 0.000561014    0             0.00000000    0.000083200    0.000080700   \n",
       "2 ... 0.000621951    0             0.00000000    0.000082400    0.000120213   \n",
       "3 ... 0.000582842    0             0.00002720    0.000042000    0.000056100   \n",
       "4 ... 0.000774688    0             0.00015684    0.000065100    0.000074200   \n",
       "5 ... 0.000321481    0             0.00000000    0.000196736    0.000188043   \n",
       "6 ... 0.000377722    0             0.00000000    0.000247236    0.000247236   \n",
       "  X776.095_2.398 X776.148_2.398 X776.359_2.398 X819.433_2.399 X867.281_2.399\n",
       "1 0.000135990    0.000323401    0.000323462    0.000265376    0.000099000   \n",
       "2 0.000151179    0.000243702    0.000214309    0.000353256    0.000135352   \n",
       "3 0.000157763    0.000178871    0.000202296    0.000203821    0.000092300   \n",
       "4 0.000248777    0.000308660    0.000307198    0.000339938    0.000099300   \n",
       "5 0.000370402    0.000512506    0.000582393    0.000442618    0.000209434   \n",
       "6 0.000430374    0.000666165    0.000762312    0.000503630    0.000338805   "
      ]
     },
     "metadata": {},
     "output_type": "display_data"
    },
    {
     "data": {
      "text/html": [
       "<dl class=dl-horizontal>\n",
       "\t<dt>X141.091_1.54</dt>\n",
       "\t\t<dd>1</dd>\n",
       "\t<dt>X203.007_0.309</dt>\n",
       "\t\t<dd>2</dd>\n",
       "\t<dt>X240.116_2.324</dt>\n",
       "\t\t<dd>3</dd>\n",
       "\t<dt>X249.112_2.768</dt>\n",
       "\t\t<dd>4</dd>\n",
       "\t<dt>X272.222_2.957</dt>\n",
       "\t\t<dd>5</dd>\n",
       "\t<dt>X293.211_2.931</dt>\n",
       "\t\t<dd>6</dd>\n",
       "</dl>\n"
      ],
      "text/latex": [
       "\\begin{description*}\n",
       "\\item[X141.091\\textbackslash{}\\_1.54] 1\n",
       "\\item[X203.007\\textbackslash{}\\_0.309] 2\n",
       "\\item[X240.116\\textbackslash{}\\_2.324] 3\n",
       "\\item[X249.112\\textbackslash{}\\_2.768] 4\n",
       "\\item[X272.222\\textbackslash{}\\_2.957] 5\n",
       "\\item[X293.211\\textbackslash{}\\_2.931] 6\n",
       "\\end{description*}\n"
      ],
      "text/markdown": [
       "X141.091_1.54\n",
       ":   1X203.007_0.309\n",
       ":   2X240.116_2.324\n",
       ":   3X249.112_2.768\n",
       ":   4X272.222_2.957\n",
       ":   5X293.211_2.931\n",
       ":   6\n",
       "\n"
      ],
      "text/plain": [
       " X141.091_1.54 X203.007_0.309 X240.116_2.324 X249.112_2.768 X272.222_2.957 \n",
       "             1              2              3              4              5 \n",
       "X293.211_2.931 \n",
       "             6 "
      ]
     },
     "metadata": {},
     "output_type": "display_data"
    },
    {
     "data": {
      "text/html": [
       "<table>\n",
       "<thead><tr><th></th><th scope=col>X141.091_1.54</th><th scope=col>X203.007_0.309</th><th scope=col>X240.116_2.324</th><th scope=col>X249.112_2.768</th><th scope=col>X272.222_2.957</th><th scope=col>X293.211_2.931</th><th scope=col>X293.211_2.934</th><th scope=col>X296.258_2.976</th><th scope=col>X311.221_2.932</th><th scope=col>X345.243_3.095</th><th scope=col>...</th><th scope=col>X708.445_3.006</th><th scope=col>X709.936_2.18</th><th scope=col>X720.445_3.09</th><th scope=col>X737.391_2.399</th><th scope=col>X776.042_2.398</th><th scope=col>X776.095_2.398</th><th scope=col>X776.148_2.398</th><th scope=col>X776.359_2.398</th><th scope=col>X819.433_2.399</th><th scope=col>X867.281_2.399</th></tr></thead>\n",
       "<tbody>\n",
       "\t<tr><th scope=row>1</th><td>0.000150701</td><td>0.000253054</td><td>0.000037400</td><td>0.000000000</td><td>0.007567170</td><td>0.000782811</td><td>0.000000000</td><td>0.000350953</td><td>0.000752368</td><td>0.000152189</td><td>...        </td><td>0.000561014</td><td>0.00e+00   </td><td>0.000000000</td><td>0.000083200</td><td>0.000080700</td><td>0.000135990</td><td>0.000323401</td><td>0.000323462</td><td>0.000265376</td><td>0.000099000</td></tr>\n",
       "\t<tr><th scope=row>2</th><td>0.000360521</td><td>0.000326035</td><td>0.000000000</td><td>0.000000000</td><td>0.001526131</td><td>0.000543553</td><td>0.000000000</td><td>0.000377629</td><td>0.000448609</td><td>0.000046100</td><td>...        </td><td>0.000621951</td><td>0.00e+00   </td><td>0.000000000</td><td>0.000082400</td><td>0.000120213</td><td>0.000151179</td><td>0.000243702</td><td>0.000214309</td><td>0.000353256</td><td>0.000135352</td></tr>\n",
       "\t<tr><th scope=row>3</th><td>0.000115526</td><td>0.000073000</td><td>0.000000000</td><td>0.000000000</td><td>0.003657633</td><td>0.000573921</td><td>0.000000000</td><td>0.000186536</td><td>0.000502553</td><td>0.000268739</td><td>...        </td><td>0.000582842</td><td>0.00e+00   </td><td>0.000027200</td><td>0.000042000</td><td>0.000056100</td><td>0.000157763</td><td>0.000178871</td><td>0.000202296</td><td>0.000203821</td><td>0.000092300</td></tr>\n",
       "\t<tr><th scope=row>4</th><td>0.000249240</td><td>0.000333486</td><td>0.000000000</td><td>0.000000000</td><td>0.001514945</td><td>0.000671396</td><td>0.000000000</td><td>0.000306359</td><td>0.000682873</td><td>0.000045900</td><td>...        </td><td>0.000774688</td><td>0.00e+00   </td><td>0.000156840</td><td>0.000065100</td><td>0.000074200</td><td>0.000248777</td><td>0.000308660</td><td>0.000307198</td><td>0.000339938</td><td>0.000099300</td></tr>\n",
       "\t<tr><th scope=row>5</th><td>0.000166425</td><td>0.000000000</td><td>0.000032700</td><td>0.000018600</td><td>0.001143819</td><td>0.000882907</td><td>0.000000000</td><td>0.000181573</td><td>0.000850293</td><td>0.000384379</td><td>...        </td><td>0.000321481</td><td>0.00e+00   </td><td>0.000000000</td><td>0.000196736</td><td>0.000188043</td><td>0.000370402</td><td>0.000512506</td><td>0.000582393</td><td>0.000442618</td><td>0.000209434</td></tr>\n",
       "\t<tr><th scope=row>6</th><td>0.000142641</td><td>0.000000000</td><td>0.000037700</td><td>0.000044600</td><td>0.004051929</td><td>0.000638694</td><td>0.000000000</td><td>0.000244947</td><td>0.000494473</td><td>0.000302178</td><td>...        </td><td>0.000377722</td><td>0.00e+00   </td><td>0.000000000</td><td>0.000247236</td><td>0.000247236</td><td>0.000430374</td><td>0.000666165</td><td>0.000762312</td><td>0.000503630</td><td>0.000338805</td></tr>\n",
       "\t<tr><th scope=row>7</th><td>0.000148967</td><td>0.000062100</td><td>0.000000000</td><td>0.000109480</td><td>0.000935383</td><td>0.000510520</td><td>0.000000000</td><td>0.000287227</td><td>0.000441994</td><td>0.000065800</td><td>...        </td><td>0.000000000</td><td>0.00e+00   </td><td>0.000326379</td><td>0.000028500</td><td>0.000000000</td><td>0.000067700</td><td>0.000117461</td><td>0.000094100</td><td>0.000147904</td><td>0.000042800</td></tr>\n",
       "\t<tr><th scope=row>8</th><td>0.000093400</td><td>0.000000000</td><td>0.000000000</td><td>0.000065300</td><td>0.000541719</td><td>0.000350524</td><td>0.000000000</td><td>0.000184514</td><td>0.000307071</td><td>0.000000000</td><td>...        </td><td>0.000559101</td><td>3.47e-05   </td><td>0.000000000</td><td>0.000057100</td><td>0.000000000</td><td>0.000127218</td><td>0.000170687</td><td>0.000213340</td><td>0.000174100</td><td>0.000078200</td></tr>\n",
       "\t<tr><th scope=row>9</th><td>0.000337194</td><td>0.000166560</td><td>0.000000000</td><td>0.000129534</td><td>0.000583531</td><td>0.000555962</td><td>0.000000000</td><td>0.000441417</td><td>0.000592720</td><td>0.000083900</td><td>...        </td><td>0.000702994</td><td>0.00e+00   </td><td>0.000242589</td><td>0.000049000</td><td>0.000089200</td><td>0.000191145</td><td>0.000194474</td><td>0.000306018</td><td>0.000368797</td><td>0.000105409</td></tr>\n",
       "\t<tr><th scope=row>10</th><td>0.000176902</td><td>0.000247122</td><td>0.000000000</td><td>0.000000000</td><td>0.000671746</td><td>0.000514501</td><td>0.000000000</td><td>0.000361244</td><td>0.000462607</td><td>0.000000000</td><td>...        </td><td>0.000318932</td><td>0.00e+00   </td><td>0.000000000</td><td>0.000073500</td><td>0.000160432</td><td>0.000190363</td><td>0.000308303</td><td>0.000324292</td><td>0.000337835</td><td>0.000196282</td></tr>\n",
       "\t<tr><th scope=row>11</th><td>0.000226969</td><td>0.000065000</td><td>0.000000000</td><td>0.000047100</td><td>0.000545247</td><td>0.000437632</td><td>0.000000000</td><td>0.000342466</td><td>0.000394586</td><td>0.000146066</td><td>...        </td><td>0.000376651</td><td>0.00e+00   </td><td>0.000000000</td><td>0.000058500</td><td>0.000063900</td><td>0.000126389</td><td>0.000218605</td><td>0.000299814</td><td>0.000239741</td><td>0.000103383</td></tr>\n",
       "\t<tr><th scope=row>12</th><td>0.000358059</td><td>0.000139934</td><td>0.000000000</td><td>0.000000000</td><td>0.000906517</td><td>0.000437429</td><td>0.000000000</td><td>0.000518914</td><td>0.000476836</td><td>0.000083100</td><td>...        </td><td>0.000291650</td><td>0.00e+00   </td><td>0.000000000</td><td>0.000112275</td><td>0.000147264</td><td>0.000349580</td><td>0.000528022</td><td>0.000454245</td><td>0.000539593</td><td>0.000383944</td></tr>\n",
       "\t<tr><th scope=row>13</th><td>0.000111176</td><td>0.000021100</td><td>0.000029200</td><td>0.000000000</td><td>0.000166369</td><td>0.000216699</td><td>0.000000000</td><td>0.000119757</td><td>0.000091200</td><td>0.000072200</td><td>...        </td><td>0.000012000</td><td>1.61e-05   </td><td>0.000000000</td><td>0.000099700</td><td>0.000176155</td><td>0.000209709</td><td>0.000343922</td><td>0.000348116</td><td>0.000294990</td><td>0.000164971</td></tr>\n",
       "\t<tr><th scope=row>14</th><td>0.000160133</td><td>0.000164546</td><td>0.000072700</td><td>0.000000000</td><td>0.000585121</td><td>0.000571513</td><td>0.000000000</td><td>0.000246269</td><td>0.000521619</td><td>0.000126532</td><td>...        </td><td>0.000675837</td><td>0.00e+00   </td><td>0.000000000</td><td>0.000139390</td><td>0.000286905</td><td>0.000512548</td><td>0.000625943</td><td>0.000807376</td><td>0.000625943</td><td>0.000319603</td></tr>\n",
       "\t<tr><th scope=row>15</th><td>0.000141179</td><td>0.000048700</td><td>0.000034700</td><td>0.000028400</td><td>0.000309823</td><td>0.000551780</td><td>0.000000000</td><td>0.000190907</td><td>0.000557681</td><td>0.000202160</td><td>...        </td><td>0.000460308</td><td>2.86e-05   </td><td>0.000000000</td><td>0.000060300</td><td>0.000069700</td><td>0.000136097</td><td>0.000191824</td><td>0.000232803</td><td>0.000215891</td><td>0.000065700</td></tr>\n",
       "\t<tr><th scope=row>26</th><td>0.000240284</td><td>0.000177127</td><td>0.000062800</td><td>0.000104868</td><td>0.001361236</td><td>0.000000000</td><td>0.000402601</td><td>0.000279231</td><td>0.000370784</td><td>0.000000000</td><td>...        </td><td>0.000871016</td><td>0.00e+00   </td><td>0.000373889</td><td>0.000000000</td><td>0.000000000</td><td>0.000000000</td><td>0.000059700</td><td>0.000088200</td><td>0.000081300</td><td>0.000064400</td></tr>\n",
       "\t<tr><th scope=row>27</th><td>0.000375501</td><td>0.000147563</td><td>0.000153118</td><td>0.000137026</td><td>0.000339494</td><td>0.000364590</td><td>0.000000000</td><td>0.000186292</td><td>0.000354305</td><td>0.000033800</td><td>...        </td><td>0.000928719</td><td>3.99e-05   </td><td>0.000311334</td><td>0.000000000</td><td>0.000000000</td><td>0.000000000</td><td>0.000057900</td><td>0.000118815</td><td>0.000069400</td><td>0.000000000</td></tr>\n",
       "\t<tr><th scope=row>28</th><td>0.000105927</td><td>0.000263935</td><td>0.000000000</td><td>0.000112107</td><td>0.000304102</td><td>0.000000000</td><td>0.000405705</td><td>0.000240063</td><td>0.000328337</td><td>0.000000000</td><td>...        </td><td>0.000887873</td><td>0.00e+00   </td><td>0.000234169</td><td>0.000000000</td><td>0.000000000</td><td>0.000000000</td><td>0.000000000</td><td>0.000048900</td><td>0.000063400</td><td>0.000000000</td></tr>\n",
       "\t<tr><th scope=row>29</th><td>0.000000000</td><td>0.000215369</td><td>0.000051800</td><td>0.000087000</td><td>0.000440346</td><td>0.000644154</td><td>0.000000000</td><td>0.000243784</td><td>0.000658794</td><td>0.000049300</td><td>...        </td><td>0.000805192</td><td>5.55e-05   </td><td>0.000101264</td><td>0.000113950</td><td>0.000224599</td><td>0.000272830</td><td>0.000377007</td><td>0.000433284</td><td>0.000372248</td><td>0.000221177</td></tr>\n",
       "\t<tr><th scope=row>30</th><td>0.000224684</td><td>0.000245962</td><td>0.000080800</td><td>0.000068500</td><td>0.000876452</td><td>0.000000000</td><td>0.000162848</td><td>0.000385755</td><td>0.000232097</td><td>0.000000000</td><td>...        </td><td>0.000396591</td><td>0.00e+00   </td><td>0.000000000</td><td>0.000194323</td><td>0.000305304</td><td>0.000400807</td><td>0.000524310</td><td>0.000651417</td><td>0.000564329</td><td>0.000320164</td></tr>\n",
       "\t<tr><th scope=row>41</th><td>0.000000000</td><td>0.000000000</td><td>0.000096200</td><td>0.000092600</td><td>0.000608048</td><td>0.000000000</td><td>0.000190807</td><td>0.000088600</td><td>0.000192913</td><td>0.000000000</td><td>...        </td><td>0.000402247</td><td>0.00e+00   </td><td>0.000070500</td><td>0.000000000</td><td>0.000049800</td><td>0.000101399</td><td>0.000183668</td><td>0.000190562</td><td>0.000173903</td><td>0.000124823</td></tr>\n",
       "\t<tr><th scope=row>42</th><td>0.000221477</td><td>0.000000000</td><td>0.000000000</td><td>0.000197953</td><td>0.000413256</td><td>0.000000000</td><td>0.000669267</td><td>0.000235545</td><td>0.000659497</td><td>0.000000000</td><td>...        </td><td>0.000493402</td><td>0.00e+00   </td><td>0.000052000</td><td>0.000000000</td><td>0.000086600</td><td>0.000124307</td><td>0.000156928</td><td>0.000260271</td><td>0.000187236</td><td>0.000085100</td></tr>\n",
       "\t<tr><th scope=row>43</th><td>0.000236360</td><td>0.000000000</td><td>0.000000000</td><td>0.000141300</td><td>0.000391504</td><td>0.000438651</td><td>0.000000000</td><td>0.000299534</td><td>0.000332965</td><td>0.000000000</td><td>...        </td><td>0.000217980</td><td>0.00e+00   </td><td>0.000000000</td><td>0.000000000</td><td>0.000000000</td><td>0.000000000</td><td>0.000087700</td><td>0.000100684</td><td>0.000130997</td><td>0.000000000</td></tr>\n",
       "\t<tr><th scope=row>44</th><td>0.000070200</td><td>0.000000000</td><td>0.000037000</td><td>0.000027100</td><td>0.000242299</td><td>0.000305935</td><td>0.000000000</td><td>0.000138378</td><td>0.000298651</td><td>0.000040900</td><td>...        </td><td>0.000580305</td><td>0.00e+00   </td><td>0.000153071</td><td>0.000071700</td><td>0.000032300</td><td>0.000053100</td><td>0.000137415</td><td>0.000155595</td><td>0.000136731</td><td>0.000042500</td></tr>\n",
       "\t<tr><th scope=row>45</th><td>0.000222675</td><td>0.000000000</td><td>0.000038400</td><td>0.000000000</td><td>0.000316609</td><td>0.000782654</td><td>0.000000000</td><td>0.000256725</td><td>0.000822884</td><td>0.000118297</td><td>...        </td><td>0.000789969</td><td>0.00e+00   </td><td>0.000160873</td><td>0.000030200</td><td>0.000048200</td><td>0.000070100</td><td>0.000104832</td><td>0.000077900</td><td>0.000120259</td><td>0.000061800</td></tr>\n",
       "\t<tr><th scope=row>56</th><td>0.000458148</td><td>0.000000000</td><td>0.000043900</td><td>0.000103299</td><td>0.000698342</td><td>0.000260217</td><td>0.000000000</td><td>0.000321889</td><td>0.000275158</td><td>0.000067800</td><td>...        </td><td>0.000427448</td><td>0.00e+00   </td><td>0.000050300</td><td>0.000000000</td><td>0.000000000</td><td>0.000060100</td><td>0.000071700</td><td>0.000079100</td><td>0.000113282</td><td>0.000043600</td></tr>\n",
       "\t<tr><th scope=row>57</th><td>0.000105437</td><td>0.000000000</td><td>0.000086200</td><td>0.000072900</td><td>0.000333056</td><td>0.000650972</td><td>0.000000000</td><td>0.000227415</td><td>0.000678222</td><td>0.000100804</td><td>...        </td><td>0.000590417</td><td>0.00e+00   </td><td>0.000229024</td><td>0.000000000</td><td>0.000000000</td><td>0.000000000</td><td>0.000035300</td><td>0.000036400</td><td>0.000073700</td><td>0.000000000</td></tr>\n",
       "\t<tr><th scope=row>58</th><td>0.000254875</td><td>0.000000000</td><td>0.000000000</td><td>0.000040900</td><td>0.000419256</td><td>0.000591706</td><td>0.000000000</td><td>0.000378858</td><td>0.000627723</td><td>0.000262187</td><td>...        </td><td>0.000571125</td><td>0.00e+00   </td><td>0.000156701</td><td>0.000000000</td><td>0.000000000</td><td>0.000000000</td><td>0.000071100</td><td>0.000053700</td><td>0.000061200</td><td>0.000000000</td></tr>\n",
       "\t<tr><th scope=row>59</th><td>0.000192328</td><td>0.000000000</td><td>0.000000000</td><td>0.000000000</td><td>0.000230257</td><td>0.000000000</td><td>0.000367008</td><td>0.000303764</td><td>0.000429439</td><td>0.000000000</td><td>...        </td><td>0.000545550</td><td>0.00e+00   </td><td>0.000201465</td><td>0.000000000</td><td>0.000048300</td><td>0.000075400</td><td>0.000123848</td><td>0.000167025</td><td>0.000106920</td><td>0.000073500</td></tr>\n",
       "\t<tr><th scope=row>60</th><td>0.000059100</td><td>0.000000000</td><td>0.000062100</td><td>0.000000000</td><td>0.000063000</td><td>0.000000000</td><td>0.000394918</td><td>0.000000000</td><td>0.000262274</td><td>0.000000000</td><td>...        </td><td>0.000195952</td><td>0.00e+00   </td><td>0.000000000</td><td>0.000324074</td><td>0.000351205</td><td>0.000527562</td><td>0.000844099</td><td>0.000740094</td><td>0.000685830</td><td>0.000292420</td></tr>\n",
       "</tbody>\n",
       "</table>\n"
      ],
      "text/latex": [
       "\\begin{tabular}{r|llllllllllllllllllllllllllll}\n",
       "  & X141.091\\_1.54 & X203.007\\_0.309 & X240.116\\_2.324 & X249.112\\_2.768 & X272.222\\_2.957 & X293.211\\_2.931 & X293.211\\_2.934 & X296.258\\_2.976 & X311.221\\_2.932 & X345.243\\_3.095 & ... & X708.445\\_3.006 & X709.936\\_2.18 & X720.445\\_3.09 & X737.391\\_2.399 & X776.042\\_2.398 & X776.095\\_2.398 & X776.148\\_2.398 & X776.359\\_2.398 & X819.433\\_2.399 & X867.281\\_2.399\\\\\n",
       "\\hline\n",
       "\t1 & 0.000150701 & 0.000253054 & 0.000037400 & 0.000000000 & 0.007567170 & 0.000782811 & 0.000000000 & 0.000350953 & 0.000752368 & 0.000152189 & ...         & 0.000561014 & 0.00e+00    & 0.000000000 & 0.000083200 & 0.000080700 & 0.000135990 & 0.000323401 & 0.000323462 & 0.000265376 & 0.000099000\\\\\n",
       "\t2 & 0.000360521 & 0.000326035 & 0.000000000 & 0.000000000 & 0.001526131 & 0.000543553 & 0.000000000 & 0.000377629 & 0.000448609 & 0.000046100 & ...         & 0.000621951 & 0.00e+00    & 0.000000000 & 0.000082400 & 0.000120213 & 0.000151179 & 0.000243702 & 0.000214309 & 0.000353256 & 0.000135352\\\\\n",
       "\t3 & 0.000115526 & 0.000073000 & 0.000000000 & 0.000000000 & 0.003657633 & 0.000573921 & 0.000000000 & 0.000186536 & 0.000502553 & 0.000268739 & ...         & 0.000582842 & 0.00e+00    & 0.000027200 & 0.000042000 & 0.000056100 & 0.000157763 & 0.000178871 & 0.000202296 & 0.000203821 & 0.000092300\\\\\n",
       "\t4 & 0.000249240 & 0.000333486 & 0.000000000 & 0.000000000 & 0.001514945 & 0.000671396 & 0.000000000 & 0.000306359 & 0.000682873 & 0.000045900 & ...         & 0.000774688 & 0.00e+00    & 0.000156840 & 0.000065100 & 0.000074200 & 0.000248777 & 0.000308660 & 0.000307198 & 0.000339938 & 0.000099300\\\\\n",
       "\t5 & 0.000166425 & 0.000000000 & 0.000032700 & 0.000018600 & 0.001143819 & 0.000882907 & 0.000000000 & 0.000181573 & 0.000850293 & 0.000384379 & ...         & 0.000321481 & 0.00e+00    & 0.000000000 & 0.000196736 & 0.000188043 & 0.000370402 & 0.000512506 & 0.000582393 & 0.000442618 & 0.000209434\\\\\n",
       "\t6 & 0.000142641 & 0.000000000 & 0.000037700 & 0.000044600 & 0.004051929 & 0.000638694 & 0.000000000 & 0.000244947 & 0.000494473 & 0.000302178 & ...         & 0.000377722 & 0.00e+00    & 0.000000000 & 0.000247236 & 0.000247236 & 0.000430374 & 0.000666165 & 0.000762312 & 0.000503630 & 0.000338805\\\\\n",
       "\t7 & 0.000148967 & 0.000062100 & 0.000000000 & 0.000109480 & 0.000935383 & 0.000510520 & 0.000000000 & 0.000287227 & 0.000441994 & 0.000065800 & ...         & 0.000000000 & 0.00e+00    & 0.000326379 & 0.000028500 & 0.000000000 & 0.000067700 & 0.000117461 & 0.000094100 & 0.000147904 & 0.000042800\\\\\n",
       "\t8 & 0.000093400 & 0.000000000 & 0.000000000 & 0.000065300 & 0.000541719 & 0.000350524 & 0.000000000 & 0.000184514 & 0.000307071 & 0.000000000 & ...         & 0.000559101 & 3.47e-05    & 0.000000000 & 0.000057100 & 0.000000000 & 0.000127218 & 0.000170687 & 0.000213340 & 0.000174100 & 0.000078200\\\\\n",
       "\t9 & 0.000337194 & 0.000166560 & 0.000000000 & 0.000129534 & 0.000583531 & 0.000555962 & 0.000000000 & 0.000441417 & 0.000592720 & 0.000083900 & ...         & 0.000702994 & 0.00e+00    & 0.000242589 & 0.000049000 & 0.000089200 & 0.000191145 & 0.000194474 & 0.000306018 & 0.000368797 & 0.000105409\\\\\n",
       "\t10 & 0.000176902 & 0.000247122 & 0.000000000 & 0.000000000 & 0.000671746 & 0.000514501 & 0.000000000 & 0.000361244 & 0.000462607 & 0.000000000 & ...         & 0.000318932 & 0.00e+00    & 0.000000000 & 0.000073500 & 0.000160432 & 0.000190363 & 0.000308303 & 0.000324292 & 0.000337835 & 0.000196282\\\\\n",
       "\t11 & 0.000226969 & 0.000065000 & 0.000000000 & 0.000047100 & 0.000545247 & 0.000437632 & 0.000000000 & 0.000342466 & 0.000394586 & 0.000146066 & ...         & 0.000376651 & 0.00e+00    & 0.000000000 & 0.000058500 & 0.000063900 & 0.000126389 & 0.000218605 & 0.000299814 & 0.000239741 & 0.000103383\\\\\n",
       "\t12 & 0.000358059 & 0.000139934 & 0.000000000 & 0.000000000 & 0.000906517 & 0.000437429 & 0.000000000 & 0.000518914 & 0.000476836 & 0.000083100 & ...         & 0.000291650 & 0.00e+00    & 0.000000000 & 0.000112275 & 0.000147264 & 0.000349580 & 0.000528022 & 0.000454245 & 0.000539593 & 0.000383944\\\\\n",
       "\t13 & 0.000111176 & 0.000021100 & 0.000029200 & 0.000000000 & 0.000166369 & 0.000216699 & 0.000000000 & 0.000119757 & 0.000091200 & 0.000072200 & ...         & 0.000012000 & 1.61e-05    & 0.000000000 & 0.000099700 & 0.000176155 & 0.000209709 & 0.000343922 & 0.000348116 & 0.000294990 & 0.000164971\\\\\n",
       "\t14 & 0.000160133 & 0.000164546 & 0.000072700 & 0.000000000 & 0.000585121 & 0.000571513 & 0.000000000 & 0.000246269 & 0.000521619 & 0.000126532 & ...         & 0.000675837 & 0.00e+00    & 0.000000000 & 0.000139390 & 0.000286905 & 0.000512548 & 0.000625943 & 0.000807376 & 0.000625943 & 0.000319603\\\\\n",
       "\t15 & 0.000141179 & 0.000048700 & 0.000034700 & 0.000028400 & 0.000309823 & 0.000551780 & 0.000000000 & 0.000190907 & 0.000557681 & 0.000202160 & ...         & 0.000460308 & 2.86e-05    & 0.000000000 & 0.000060300 & 0.000069700 & 0.000136097 & 0.000191824 & 0.000232803 & 0.000215891 & 0.000065700\\\\\n",
       "\t26 & 0.000240284 & 0.000177127 & 0.000062800 & 0.000104868 & 0.001361236 & 0.000000000 & 0.000402601 & 0.000279231 & 0.000370784 & 0.000000000 & ...         & 0.000871016 & 0.00e+00    & 0.000373889 & 0.000000000 & 0.000000000 & 0.000000000 & 0.000059700 & 0.000088200 & 0.000081300 & 0.000064400\\\\\n",
       "\t27 & 0.000375501 & 0.000147563 & 0.000153118 & 0.000137026 & 0.000339494 & 0.000364590 & 0.000000000 & 0.000186292 & 0.000354305 & 0.000033800 & ...         & 0.000928719 & 3.99e-05    & 0.000311334 & 0.000000000 & 0.000000000 & 0.000000000 & 0.000057900 & 0.000118815 & 0.000069400 & 0.000000000\\\\\n",
       "\t28 & 0.000105927 & 0.000263935 & 0.000000000 & 0.000112107 & 0.000304102 & 0.000000000 & 0.000405705 & 0.000240063 & 0.000328337 & 0.000000000 & ...         & 0.000887873 & 0.00e+00    & 0.000234169 & 0.000000000 & 0.000000000 & 0.000000000 & 0.000000000 & 0.000048900 & 0.000063400 & 0.000000000\\\\\n",
       "\t29 & 0.000000000 & 0.000215369 & 0.000051800 & 0.000087000 & 0.000440346 & 0.000644154 & 0.000000000 & 0.000243784 & 0.000658794 & 0.000049300 & ...         & 0.000805192 & 5.55e-05    & 0.000101264 & 0.000113950 & 0.000224599 & 0.000272830 & 0.000377007 & 0.000433284 & 0.000372248 & 0.000221177\\\\\n",
       "\t30 & 0.000224684 & 0.000245962 & 0.000080800 & 0.000068500 & 0.000876452 & 0.000000000 & 0.000162848 & 0.000385755 & 0.000232097 & 0.000000000 & ...         & 0.000396591 & 0.00e+00    & 0.000000000 & 0.000194323 & 0.000305304 & 0.000400807 & 0.000524310 & 0.000651417 & 0.000564329 & 0.000320164\\\\\n",
       "\t41 & 0.000000000 & 0.000000000 & 0.000096200 & 0.000092600 & 0.000608048 & 0.000000000 & 0.000190807 & 0.000088600 & 0.000192913 & 0.000000000 & ...         & 0.000402247 & 0.00e+00    & 0.000070500 & 0.000000000 & 0.000049800 & 0.000101399 & 0.000183668 & 0.000190562 & 0.000173903 & 0.000124823\\\\\n",
       "\t42 & 0.000221477 & 0.000000000 & 0.000000000 & 0.000197953 & 0.000413256 & 0.000000000 & 0.000669267 & 0.000235545 & 0.000659497 & 0.000000000 & ...         & 0.000493402 & 0.00e+00    & 0.000052000 & 0.000000000 & 0.000086600 & 0.000124307 & 0.000156928 & 0.000260271 & 0.000187236 & 0.000085100\\\\\n",
       "\t43 & 0.000236360 & 0.000000000 & 0.000000000 & 0.000141300 & 0.000391504 & 0.000438651 & 0.000000000 & 0.000299534 & 0.000332965 & 0.000000000 & ...         & 0.000217980 & 0.00e+00    & 0.000000000 & 0.000000000 & 0.000000000 & 0.000000000 & 0.000087700 & 0.000100684 & 0.000130997 & 0.000000000\\\\\n",
       "\t44 & 0.000070200 & 0.000000000 & 0.000037000 & 0.000027100 & 0.000242299 & 0.000305935 & 0.000000000 & 0.000138378 & 0.000298651 & 0.000040900 & ...         & 0.000580305 & 0.00e+00    & 0.000153071 & 0.000071700 & 0.000032300 & 0.000053100 & 0.000137415 & 0.000155595 & 0.000136731 & 0.000042500\\\\\n",
       "\t45 & 0.000222675 & 0.000000000 & 0.000038400 & 0.000000000 & 0.000316609 & 0.000782654 & 0.000000000 & 0.000256725 & 0.000822884 & 0.000118297 & ...         & 0.000789969 & 0.00e+00    & 0.000160873 & 0.000030200 & 0.000048200 & 0.000070100 & 0.000104832 & 0.000077900 & 0.000120259 & 0.000061800\\\\\n",
       "\t56 & 0.000458148 & 0.000000000 & 0.000043900 & 0.000103299 & 0.000698342 & 0.000260217 & 0.000000000 & 0.000321889 & 0.000275158 & 0.000067800 & ...         & 0.000427448 & 0.00e+00    & 0.000050300 & 0.000000000 & 0.000000000 & 0.000060100 & 0.000071700 & 0.000079100 & 0.000113282 & 0.000043600\\\\\n",
       "\t57 & 0.000105437 & 0.000000000 & 0.000086200 & 0.000072900 & 0.000333056 & 0.000650972 & 0.000000000 & 0.000227415 & 0.000678222 & 0.000100804 & ...         & 0.000590417 & 0.00e+00    & 0.000229024 & 0.000000000 & 0.000000000 & 0.000000000 & 0.000035300 & 0.000036400 & 0.000073700 & 0.000000000\\\\\n",
       "\t58 & 0.000254875 & 0.000000000 & 0.000000000 & 0.000040900 & 0.000419256 & 0.000591706 & 0.000000000 & 0.000378858 & 0.000627723 & 0.000262187 & ...         & 0.000571125 & 0.00e+00    & 0.000156701 & 0.000000000 & 0.000000000 & 0.000000000 & 0.000071100 & 0.000053700 & 0.000061200 & 0.000000000\\\\\n",
       "\t59 & 0.000192328 & 0.000000000 & 0.000000000 & 0.000000000 & 0.000230257 & 0.000000000 & 0.000367008 & 0.000303764 & 0.000429439 & 0.000000000 & ...         & 0.000545550 & 0.00e+00    & 0.000201465 & 0.000000000 & 0.000048300 & 0.000075400 & 0.000123848 & 0.000167025 & 0.000106920 & 0.000073500\\\\\n",
       "\t60 & 0.000059100 & 0.000000000 & 0.000062100 & 0.000000000 & 0.000063000 & 0.000000000 & 0.000394918 & 0.000000000 & 0.000262274 & 0.000000000 & ...         & 0.000195952 & 0.00e+00    & 0.000000000 & 0.000324074 & 0.000351205 & 0.000527562 & 0.000844099 & 0.000740094 & 0.000685830 & 0.000292420\\\\\n",
       "\\end{tabular}\n"
      ],
      "text/markdown": [
       "\n",
       "| <!--/--> | X141.091_1.54 | X203.007_0.309 | X240.116_2.324 | X249.112_2.768 | X272.222_2.957 | X293.211_2.931 | X293.211_2.934 | X296.258_2.976 | X311.221_2.932 | X345.243_3.095 | ... | X708.445_3.006 | X709.936_2.18 | X720.445_3.09 | X737.391_2.399 | X776.042_2.398 | X776.095_2.398 | X776.148_2.398 | X776.359_2.398 | X819.433_2.399 | X867.281_2.399 |\n",
       "|---|---|---|---|---|---|---|---|---|---|---|---|---|---|---|---|---|---|---|---|---|---|\n",
       "| 1 | 0.000150701 | 0.000253054 | 0.000037400 | 0.000000000 | 0.007567170 | 0.000782811 | 0.000000000 | 0.000350953 | 0.000752368 | 0.000152189 | ...         | 0.000561014 | 0.00e+00    | 0.000000000 | 0.000083200 | 0.000080700 | 0.000135990 | 0.000323401 | 0.000323462 | 0.000265376 | 0.000099000 |\n",
       "| 2 | 0.000360521 | 0.000326035 | 0.000000000 | 0.000000000 | 0.001526131 | 0.000543553 | 0.000000000 | 0.000377629 | 0.000448609 | 0.000046100 | ...         | 0.000621951 | 0.00e+00    | 0.000000000 | 0.000082400 | 0.000120213 | 0.000151179 | 0.000243702 | 0.000214309 | 0.000353256 | 0.000135352 |\n",
       "| 3 | 0.000115526 | 0.000073000 | 0.000000000 | 0.000000000 | 0.003657633 | 0.000573921 | 0.000000000 | 0.000186536 | 0.000502553 | 0.000268739 | ...         | 0.000582842 | 0.00e+00    | 0.000027200 | 0.000042000 | 0.000056100 | 0.000157763 | 0.000178871 | 0.000202296 | 0.000203821 | 0.000092300 |\n",
       "| 4 | 0.000249240 | 0.000333486 | 0.000000000 | 0.000000000 | 0.001514945 | 0.000671396 | 0.000000000 | 0.000306359 | 0.000682873 | 0.000045900 | ...         | 0.000774688 | 0.00e+00    | 0.000156840 | 0.000065100 | 0.000074200 | 0.000248777 | 0.000308660 | 0.000307198 | 0.000339938 | 0.000099300 |\n",
       "| 5 | 0.000166425 | 0.000000000 | 0.000032700 | 0.000018600 | 0.001143819 | 0.000882907 | 0.000000000 | 0.000181573 | 0.000850293 | 0.000384379 | ...         | 0.000321481 | 0.00e+00    | 0.000000000 | 0.000196736 | 0.000188043 | 0.000370402 | 0.000512506 | 0.000582393 | 0.000442618 | 0.000209434 |\n",
       "| 6 | 0.000142641 | 0.000000000 | 0.000037700 | 0.000044600 | 0.004051929 | 0.000638694 | 0.000000000 | 0.000244947 | 0.000494473 | 0.000302178 | ...         | 0.000377722 | 0.00e+00    | 0.000000000 | 0.000247236 | 0.000247236 | 0.000430374 | 0.000666165 | 0.000762312 | 0.000503630 | 0.000338805 |\n",
       "| 7 | 0.000148967 | 0.000062100 | 0.000000000 | 0.000109480 | 0.000935383 | 0.000510520 | 0.000000000 | 0.000287227 | 0.000441994 | 0.000065800 | ...         | 0.000000000 | 0.00e+00    | 0.000326379 | 0.000028500 | 0.000000000 | 0.000067700 | 0.000117461 | 0.000094100 | 0.000147904 | 0.000042800 |\n",
       "| 8 | 0.000093400 | 0.000000000 | 0.000000000 | 0.000065300 | 0.000541719 | 0.000350524 | 0.000000000 | 0.000184514 | 0.000307071 | 0.000000000 | ...         | 0.000559101 | 3.47e-05    | 0.000000000 | 0.000057100 | 0.000000000 | 0.000127218 | 0.000170687 | 0.000213340 | 0.000174100 | 0.000078200 |\n",
       "| 9 | 0.000337194 | 0.000166560 | 0.000000000 | 0.000129534 | 0.000583531 | 0.000555962 | 0.000000000 | 0.000441417 | 0.000592720 | 0.000083900 | ...         | 0.000702994 | 0.00e+00    | 0.000242589 | 0.000049000 | 0.000089200 | 0.000191145 | 0.000194474 | 0.000306018 | 0.000368797 | 0.000105409 |\n",
       "| 10 | 0.000176902 | 0.000247122 | 0.000000000 | 0.000000000 | 0.000671746 | 0.000514501 | 0.000000000 | 0.000361244 | 0.000462607 | 0.000000000 | ...         | 0.000318932 | 0.00e+00    | 0.000000000 | 0.000073500 | 0.000160432 | 0.000190363 | 0.000308303 | 0.000324292 | 0.000337835 | 0.000196282 |\n",
       "| 11 | 0.000226969 | 0.000065000 | 0.000000000 | 0.000047100 | 0.000545247 | 0.000437632 | 0.000000000 | 0.000342466 | 0.000394586 | 0.000146066 | ...         | 0.000376651 | 0.00e+00    | 0.000000000 | 0.000058500 | 0.000063900 | 0.000126389 | 0.000218605 | 0.000299814 | 0.000239741 | 0.000103383 |\n",
       "| 12 | 0.000358059 | 0.000139934 | 0.000000000 | 0.000000000 | 0.000906517 | 0.000437429 | 0.000000000 | 0.000518914 | 0.000476836 | 0.000083100 | ...         | 0.000291650 | 0.00e+00    | 0.000000000 | 0.000112275 | 0.000147264 | 0.000349580 | 0.000528022 | 0.000454245 | 0.000539593 | 0.000383944 |\n",
       "| 13 | 0.000111176 | 0.000021100 | 0.000029200 | 0.000000000 | 0.000166369 | 0.000216699 | 0.000000000 | 0.000119757 | 0.000091200 | 0.000072200 | ...         | 0.000012000 | 1.61e-05    | 0.000000000 | 0.000099700 | 0.000176155 | 0.000209709 | 0.000343922 | 0.000348116 | 0.000294990 | 0.000164971 |\n",
       "| 14 | 0.000160133 | 0.000164546 | 0.000072700 | 0.000000000 | 0.000585121 | 0.000571513 | 0.000000000 | 0.000246269 | 0.000521619 | 0.000126532 | ...         | 0.000675837 | 0.00e+00    | 0.000000000 | 0.000139390 | 0.000286905 | 0.000512548 | 0.000625943 | 0.000807376 | 0.000625943 | 0.000319603 |\n",
       "| 15 | 0.000141179 | 0.000048700 | 0.000034700 | 0.000028400 | 0.000309823 | 0.000551780 | 0.000000000 | 0.000190907 | 0.000557681 | 0.000202160 | ...         | 0.000460308 | 2.86e-05    | 0.000000000 | 0.000060300 | 0.000069700 | 0.000136097 | 0.000191824 | 0.000232803 | 0.000215891 | 0.000065700 |\n",
       "| 26 | 0.000240284 | 0.000177127 | 0.000062800 | 0.000104868 | 0.001361236 | 0.000000000 | 0.000402601 | 0.000279231 | 0.000370784 | 0.000000000 | ...         | 0.000871016 | 0.00e+00    | 0.000373889 | 0.000000000 | 0.000000000 | 0.000000000 | 0.000059700 | 0.000088200 | 0.000081300 | 0.000064400 |\n",
       "| 27 | 0.000375501 | 0.000147563 | 0.000153118 | 0.000137026 | 0.000339494 | 0.000364590 | 0.000000000 | 0.000186292 | 0.000354305 | 0.000033800 | ...         | 0.000928719 | 3.99e-05    | 0.000311334 | 0.000000000 | 0.000000000 | 0.000000000 | 0.000057900 | 0.000118815 | 0.000069400 | 0.000000000 |\n",
       "| 28 | 0.000105927 | 0.000263935 | 0.000000000 | 0.000112107 | 0.000304102 | 0.000000000 | 0.000405705 | 0.000240063 | 0.000328337 | 0.000000000 | ...         | 0.000887873 | 0.00e+00    | 0.000234169 | 0.000000000 | 0.000000000 | 0.000000000 | 0.000000000 | 0.000048900 | 0.000063400 | 0.000000000 |\n",
       "| 29 | 0.000000000 | 0.000215369 | 0.000051800 | 0.000087000 | 0.000440346 | 0.000644154 | 0.000000000 | 0.000243784 | 0.000658794 | 0.000049300 | ...         | 0.000805192 | 5.55e-05    | 0.000101264 | 0.000113950 | 0.000224599 | 0.000272830 | 0.000377007 | 0.000433284 | 0.000372248 | 0.000221177 |\n",
       "| 30 | 0.000224684 | 0.000245962 | 0.000080800 | 0.000068500 | 0.000876452 | 0.000000000 | 0.000162848 | 0.000385755 | 0.000232097 | 0.000000000 | ...         | 0.000396591 | 0.00e+00    | 0.000000000 | 0.000194323 | 0.000305304 | 0.000400807 | 0.000524310 | 0.000651417 | 0.000564329 | 0.000320164 |\n",
       "| 41 | 0.000000000 | 0.000000000 | 0.000096200 | 0.000092600 | 0.000608048 | 0.000000000 | 0.000190807 | 0.000088600 | 0.000192913 | 0.000000000 | ...         | 0.000402247 | 0.00e+00    | 0.000070500 | 0.000000000 | 0.000049800 | 0.000101399 | 0.000183668 | 0.000190562 | 0.000173903 | 0.000124823 |\n",
       "| 42 | 0.000221477 | 0.000000000 | 0.000000000 | 0.000197953 | 0.000413256 | 0.000000000 | 0.000669267 | 0.000235545 | 0.000659497 | 0.000000000 | ...         | 0.000493402 | 0.00e+00    | 0.000052000 | 0.000000000 | 0.000086600 | 0.000124307 | 0.000156928 | 0.000260271 | 0.000187236 | 0.000085100 |\n",
       "| 43 | 0.000236360 | 0.000000000 | 0.000000000 | 0.000141300 | 0.000391504 | 0.000438651 | 0.000000000 | 0.000299534 | 0.000332965 | 0.000000000 | ...         | 0.000217980 | 0.00e+00    | 0.000000000 | 0.000000000 | 0.000000000 | 0.000000000 | 0.000087700 | 0.000100684 | 0.000130997 | 0.000000000 |\n",
       "| 44 | 0.000070200 | 0.000000000 | 0.000037000 | 0.000027100 | 0.000242299 | 0.000305935 | 0.000000000 | 0.000138378 | 0.000298651 | 0.000040900 | ...         | 0.000580305 | 0.00e+00    | 0.000153071 | 0.000071700 | 0.000032300 | 0.000053100 | 0.000137415 | 0.000155595 | 0.000136731 | 0.000042500 |\n",
       "| 45 | 0.000222675 | 0.000000000 | 0.000038400 | 0.000000000 | 0.000316609 | 0.000782654 | 0.000000000 | 0.000256725 | 0.000822884 | 0.000118297 | ...         | 0.000789969 | 0.00e+00    | 0.000160873 | 0.000030200 | 0.000048200 | 0.000070100 | 0.000104832 | 0.000077900 | 0.000120259 | 0.000061800 |\n",
       "| 56 | 0.000458148 | 0.000000000 | 0.000043900 | 0.000103299 | 0.000698342 | 0.000260217 | 0.000000000 | 0.000321889 | 0.000275158 | 0.000067800 | ...         | 0.000427448 | 0.00e+00    | 0.000050300 | 0.000000000 | 0.000000000 | 0.000060100 | 0.000071700 | 0.000079100 | 0.000113282 | 0.000043600 |\n",
       "| 57 | 0.000105437 | 0.000000000 | 0.000086200 | 0.000072900 | 0.000333056 | 0.000650972 | 0.000000000 | 0.000227415 | 0.000678222 | 0.000100804 | ...         | 0.000590417 | 0.00e+00    | 0.000229024 | 0.000000000 | 0.000000000 | 0.000000000 | 0.000035300 | 0.000036400 | 0.000073700 | 0.000000000 |\n",
       "| 58 | 0.000254875 | 0.000000000 | 0.000000000 | 0.000040900 | 0.000419256 | 0.000591706 | 0.000000000 | 0.000378858 | 0.000627723 | 0.000262187 | ...         | 0.000571125 | 0.00e+00    | 0.000156701 | 0.000000000 | 0.000000000 | 0.000000000 | 0.000071100 | 0.000053700 | 0.000061200 | 0.000000000 |\n",
       "| 59 | 0.000192328 | 0.000000000 | 0.000000000 | 0.000000000 | 0.000230257 | 0.000000000 | 0.000367008 | 0.000303764 | 0.000429439 | 0.000000000 | ...         | 0.000545550 | 0.00e+00    | 0.000201465 | 0.000000000 | 0.000048300 | 0.000075400 | 0.000123848 | 0.000167025 | 0.000106920 | 0.000073500 |\n",
       "| 60 | 0.000059100 | 0.000000000 | 0.000062100 | 0.000000000 | 0.000063000 | 0.000000000 | 0.000394918 | 0.000000000 | 0.000262274 | 0.000000000 | ...         | 0.000195952 | 0.00e+00    | 0.000000000 | 0.000324074 | 0.000351205 | 0.000527562 | 0.000844099 | 0.000740094 | 0.000685830 | 0.000292420 |\n",
       "\n"
      ],
      "text/plain": [
       "   X141.091_1.54 X203.007_0.309 X240.116_2.324 X249.112_2.768 X272.222_2.957\n",
       "1  0.000150701   0.000253054    0.000037400    0.000000000    0.007567170   \n",
       "2  0.000360521   0.000326035    0.000000000    0.000000000    0.001526131   \n",
       "3  0.000115526   0.000073000    0.000000000    0.000000000    0.003657633   \n",
       "4  0.000249240   0.000333486    0.000000000    0.000000000    0.001514945   \n",
       "5  0.000166425   0.000000000    0.000032700    0.000018600    0.001143819   \n",
       "6  0.000142641   0.000000000    0.000037700    0.000044600    0.004051929   \n",
       "7  0.000148967   0.000062100    0.000000000    0.000109480    0.000935383   \n",
       "8  0.000093400   0.000000000    0.000000000    0.000065300    0.000541719   \n",
       "9  0.000337194   0.000166560    0.000000000    0.000129534    0.000583531   \n",
       "10 0.000176902   0.000247122    0.000000000    0.000000000    0.000671746   \n",
       "11 0.000226969   0.000065000    0.000000000    0.000047100    0.000545247   \n",
       "12 0.000358059   0.000139934    0.000000000    0.000000000    0.000906517   \n",
       "13 0.000111176   0.000021100    0.000029200    0.000000000    0.000166369   \n",
       "14 0.000160133   0.000164546    0.000072700    0.000000000    0.000585121   \n",
       "15 0.000141179   0.000048700    0.000034700    0.000028400    0.000309823   \n",
       "26 0.000240284   0.000177127    0.000062800    0.000104868    0.001361236   \n",
       "27 0.000375501   0.000147563    0.000153118    0.000137026    0.000339494   \n",
       "28 0.000105927   0.000263935    0.000000000    0.000112107    0.000304102   \n",
       "29 0.000000000   0.000215369    0.000051800    0.000087000    0.000440346   \n",
       "30 0.000224684   0.000245962    0.000080800    0.000068500    0.000876452   \n",
       "41 0.000000000   0.000000000    0.000096200    0.000092600    0.000608048   \n",
       "42 0.000221477   0.000000000    0.000000000    0.000197953    0.000413256   \n",
       "43 0.000236360   0.000000000    0.000000000    0.000141300    0.000391504   \n",
       "44 0.000070200   0.000000000    0.000037000    0.000027100    0.000242299   \n",
       "45 0.000222675   0.000000000    0.000038400    0.000000000    0.000316609   \n",
       "56 0.000458148   0.000000000    0.000043900    0.000103299    0.000698342   \n",
       "57 0.000105437   0.000000000    0.000086200    0.000072900    0.000333056   \n",
       "58 0.000254875   0.000000000    0.000000000    0.000040900    0.000419256   \n",
       "59 0.000192328   0.000000000    0.000000000    0.000000000    0.000230257   \n",
       "60 0.000059100   0.000000000    0.000062100    0.000000000    0.000063000   \n",
       "   X293.211_2.931 X293.211_2.934 X296.258_2.976 X311.221_2.932 X345.243_3.095\n",
       "1  0.000782811    0.000000000    0.000350953    0.000752368    0.000152189   \n",
       "2  0.000543553    0.000000000    0.000377629    0.000448609    0.000046100   \n",
       "3  0.000573921    0.000000000    0.000186536    0.000502553    0.000268739   \n",
       "4  0.000671396    0.000000000    0.000306359    0.000682873    0.000045900   \n",
       "5  0.000882907    0.000000000    0.000181573    0.000850293    0.000384379   \n",
       "6  0.000638694    0.000000000    0.000244947    0.000494473    0.000302178   \n",
       "7  0.000510520    0.000000000    0.000287227    0.000441994    0.000065800   \n",
       "8  0.000350524    0.000000000    0.000184514    0.000307071    0.000000000   \n",
       "9  0.000555962    0.000000000    0.000441417    0.000592720    0.000083900   \n",
       "10 0.000514501    0.000000000    0.000361244    0.000462607    0.000000000   \n",
       "11 0.000437632    0.000000000    0.000342466    0.000394586    0.000146066   \n",
       "12 0.000437429    0.000000000    0.000518914    0.000476836    0.000083100   \n",
       "13 0.000216699    0.000000000    0.000119757    0.000091200    0.000072200   \n",
       "14 0.000571513    0.000000000    0.000246269    0.000521619    0.000126532   \n",
       "15 0.000551780    0.000000000    0.000190907    0.000557681    0.000202160   \n",
       "26 0.000000000    0.000402601    0.000279231    0.000370784    0.000000000   \n",
       "27 0.000364590    0.000000000    0.000186292    0.000354305    0.000033800   \n",
       "28 0.000000000    0.000405705    0.000240063    0.000328337    0.000000000   \n",
       "29 0.000644154    0.000000000    0.000243784    0.000658794    0.000049300   \n",
       "30 0.000000000    0.000162848    0.000385755    0.000232097    0.000000000   \n",
       "41 0.000000000    0.000190807    0.000088600    0.000192913    0.000000000   \n",
       "42 0.000000000    0.000669267    0.000235545    0.000659497    0.000000000   \n",
       "43 0.000438651    0.000000000    0.000299534    0.000332965    0.000000000   \n",
       "44 0.000305935    0.000000000    0.000138378    0.000298651    0.000040900   \n",
       "45 0.000782654    0.000000000    0.000256725    0.000822884    0.000118297   \n",
       "56 0.000260217    0.000000000    0.000321889    0.000275158    0.000067800   \n",
       "57 0.000650972    0.000000000    0.000227415    0.000678222    0.000100804   \n",
       "58 0.000591706    0.000000000    0.000378858    0.000627723    0.000262187   \n",
       "59 0.000000000    0.000367008    0.000303764    0.000429439    0.000000000   \n",
       "60 0.000000000    0.000394918    0.000000000    0.000262274    0.000000000   \n",
       "   ... X708.445_3.006 X709.936_2.18 X720.445_3.09 X737.391_2.399 X776.042_2.398\n",
       "1  ... 0.000561014    0.00e+00      0.000000000   0.000083200    0.000080700   \n",
       "2  ... 0.000621951    0.00e+00      0.000000000   0.000082400    0.000120213   \n",
       "3  ... 0.000582842    0.00e+00      0.000027200   0.000042000    0.000056100   \n",
       "4  ... 0.000774688    0.00e+00      0.000156840   0.000065100    0.000074200   \n",
       "5  ... 0.000321481    0.00e+00      0.000000000   0.000196736    0.000188043   \n",
       "6  ... 0.000377722    0.00e+00      0.000000000   0.000247236    0.000247236   \n",
       "7  ... 0.000000000    0.00e+00      0.000326379   0.000028500    0.000000000   \n",
       "8  ... 0.000559101    3.47e-05      0.000000000   0.000057100    0.000000000   \n",
       "9  ... 0.000702994    0.00e+00      0.000242589   0.000049000    0.000089200   \n",
       "10 ... 0.000318932    0.00e+00      0.000000000   0.000073500    0.000160432   \n",
       "11 ... 0.000376651    0.00e+00      0.000000000   0.000058500    0.000063900   \n",
       "12 ... 0.000291650    0.00e+00      0.000000000   0.000112275    0.000147264   \n",
       "13 ... 0.000012000    1.61e-05      0.000000000   0.000099700    0.000176155   \n",
       "14 ... 0.000675837    0.00e+00      0.000000000   0.000139390    0.000286905   \n",
       "15 ... 0.000460308    2.86e-05      0.000000000   0.000060300    0.000069700   \n",
       "26 ... 0.000871016    0.00e+00      0.000373889   0.000000000    0.000000000   \n",
       "27 ... 0.000928719    3.99e-05      0.000311334   0.000000000    0.000000000   \n",
       "28 ... 0.000887873    0.00e+00      0.000234169   0.000000000    0.000000000   \n",
       "29 ... 0.000805192    5.55e-05      0.000101264   0.000113950    0.000224599   \n",
       "30 ... 0.000396591    0.00e+00      0.000000000   0.000194323    0.000305304   \n",
       "41 ... 0.000402247    0.00e+00      0.000070500   0.000000000    0.000049800   \n",
       "42 ... 0.000493402    0.00e+00      0.000052000   0.000000000    0.000086600   \n",
       "43 ... 0.000217980    0.00e+00      0.000000000   0.000000000    0.000000000   \n",
       "44 ... 0.000580305    0.00e+00      0.000153071   0.000071700    0.000032300   \n",
       "45 ... 0.000789969    0.00e+00      0.000160873   0.000030200    0.000048200   \n",
       "56 ... 0.000427448    0.00e+00      0.000050300   0.000000000    0.000000000   \n",
       "57 ... 0.000590417    0.00e+00      0.000229024   0.000000000    0.000000000   \n",
       "58 ... 0.000571125    0.00e+00      0.000156701   0.000000000    0.000000000   \n",
       "59 ... 0.000545550    0.00e+00      0.000201465   0.000000000    0.000048300   \n",
       "60 ... 0.000195952    0.00e+00      0.000000000   0.000324074    0.000351205   \n",
       "   X776.095_2.398 X776.148_2.398 X776.359_2.398 X819.433_2.399 X867.281_2.399\n",
       "1  0.000135990    0.000323401    0.000323462    0.000265376    0.000099000   \n",
       "2  0.000151179    0.000243702    0.000214309    0.000353256    0.000135352   \n",
       "3  0.000157763    0.000178871    0.000202296    0.000203821    0.000092300   \n",
       "4  0.000248777    0.000308660    0.000307198    0.000339938    0.000099300   \n",
       "5  0.000370402    0.000512506    0.000582393    0.000442618    0.000209434   \n",
       "6  0.000430374    0.000666165    0.000762312    0.000503630    0.000338805   \n",
       "7  0.000067700    0.000117461    0.000094100    0.000147904    0.000042800   \n",
       "8  0.000127218    0.000170687    0.000213340    0.000174100    0.000078200   \n",
       "9  0.000191145    0.000194474    0.000306018    0.000368797    0.000105409   \n",
       "10 0.000190363    0.000308303    0.000324292    0.000337835    0.000196282   \n",
       "11 0.000126389    0.000218605    0.000299814    0.000239741    0.000103383   \n",
       "12 0.000349580    0.000528022    0.000454245    0.000539593    0.000383944   \n",
       "13 0.000209709    0.000343922    0.000348116    0.000294990    0.000164971   \n",
       "14 0.000512548    0.000625943    0.000807376    0.000625943    0.000319603   \n",
       "15 0.000136097    0.000191824    0.000232803    0.000215891    0.000065700   \n",
       "26 0.000000000    0.000059700    0.000088200    0.000081300    0.000064400   \n",
       "27 0.000000000    0.000057900    0.000118815    0.000069400    0.000000000   \n",
       "28 0.000000000    0.000000000    0.000048900    0.000063400    0.000000000   \n",
       "29 0.000272830    0.000377007    0.000433284    0.000372248    0.000221177   \n",
       "30 0.000400807    0.000524310    0.000651417    0.000564329    0.000320164   \n",
       "41 0.000101399    0.000183668    0.000190562    0.000173903    0.000124823   \n",
       "42 0.000124307    0.000156928    0.000260271    0.000187236    0.000085100   \n",
       "43 0.000000000    0.000087700    0.000100684    0.000130997    0.000000000   \n",
       "44 0.000053100    0.000137415    0.000155595    0.000136731    0.000042500   \n",
       "45 0.000070100    0.000104832    0.000077900    0.000120259    0.000061800   \n",
       "56 0.000060100    0.000071700    0.000079100    0.000113282    0.000043600   \n",
       "57 0.000000000    0.000035300    0.000036400    0.000073700    0.000000000   \n",
       "58 0.000000000    0.000071100    0.000053700    0.000061200    0.000000000   \n",
       "59 0.000075400    0.000123848    0.000167025    0.000106920    0.000073500   \n",
       "60 0.000527562    0.000844099    0.000740094    0.000685830    0.000292420   "
      ]
     },
     "metadata": {},
     "output_type": "display_data"
    },
    {
     "data": {
      "text/html": [
       "<table>\n",
       "<thead><tr><th scope=col>filename</th><th scope=col>MouseID</th><th scope=col>Treatmentgroup</th><th scope=col>DPI</th><th scope=col>organ</th><th scope=col>well_position</th><th scope=col>plate</th><th scope=col>X141.091_1.54</th><th scope=col>X203.007_0.309</th><th scope=col>X240.116_2.324</th><th scope=col>...</th><th scope=col>X708.445_3.006</th><th scope=col>X709.936_2.18</th><th scope=col>X720.445_3.09</th><th scope=col>X737.391_2.399</th><th scope=col>X776.042_2.398</th><th scope=col>X776.095_2.398</th><th scope=col>X776.148_2.398</th><th scope=col>X776.359_2.398</th><th scope=col>X819.433_2.399</th><th scope=col>X867.281_2.399</th></tr></thead>\n",
       "<tbody>\n",
       "\t<tr><td>X511_Group1C_142dpi_LV_top_161_G_A1_P128.mzXML</td><td>511                                           </td><td>Group1C                                       </td><td>142dpi                                        </td><td>LV_top                                        </td><td>A1                                            </td><td>P128                                          </td><td>0.000150701                                   </td><td>0.000253054                                   </td><td>3.74e-05                                      </td><td>...                                           </td><td>0.000561014                                   </td><td>0                                             </td><td>0.00000000                                    </td><td>0.000083200                                   </td><td>0.000080700                                   </td><td>0.000135990                                   </td><td>0.000323401                                   </td><td>0.000323462                                   </td><td>0.000265376                                   </td><td>0.000099000                                   </td></tr>\n",
       "\t<tr><td>X512_Group1C_142dpi_LV_top_162_G_A2_P128.mzXML</td><td>512                                           </td><td>Group1C                                       </td><td>142dpi                                        </td><td>LV_top                                        </td><td>A2                                            </td><td>P128                                          </td><td>0.000360521                                   </td><td>0.000326035                                   </td><td>0.00e+00                                      </td><td>...                                           </td><td>0.000621951                                   </td><td>0                                             </td><td>0.00000000                                    </td><td>0.000082400                                   </td><td>0.000120213                                   </td><td>0.000151179                                   </td><td>0.000243702                                   </td><td>0.000214309                                   </td><td>0.000353256                                   </td><td>0.000135352                                   </td></tr>\n",
       "\t<tr><td>X513_Group1C_142dpi_LV_top_163_G_A3_P128.mzXML</td><td>513                                           </td><td>Group1C                                       </td><td>142dpi                                        </td><td>LV_top                                        </td><td>A3                                            </td><td>P128                                          </td><td>0.000115526                                   </td><td>0.000073000                                   </td><td>0.00e+00                                      </td><td>...                                           </td><td>0.000582842                                   </td><td>0                                             </td><td>0.00002720                                    </td><td>0.000042000                                   </td><td>0.000056100                                   </td><td>0.000157763                                   </td><td>0.000178871                                   </td><td>0.000202296                                   </td><td>0.000203821                                   </td><td>0.000092300                                   </td></tr>\n",
       "\t<tr><td>X514_Group1C_142dpi_LV_top_164_G_A4_P128.mzXML</td><td>514                                           </td><td>Group1C                                       </td><td>142dpi                                        </td><td>LV_top                                        </td><td>A4                                            </td><td>P128                                          </td><td>0.000249240                                   </td><td>0.000333486                                   </td><td>0.00e+00                                      </td><td>...                                           </td><td>0.000774688                                   </td><td>0                                             </td><td>0.00015684                                    </td><td>0.000065100                                   </td><td>0.000074200                                   </td><td>0.000248777                                   </td><td>0.000308660                                   </td><td>0.000307198                                   </td><td>0.000339938                                   </td><td>0.000099300                                   </td></tr>\n",
       "\t<tr><td>X515_Group1C_142dpi_LV_top_165_G_A5_P128.mzXML</td><td>515                                           </td><td>Group1C                                       </td><td>142dpi                                        </td><td>LV_top                                        </td><td>A5                                            </td><td>P128                                          </td><td>0.000166425                                   </td><td>0.000000000                                   </td><td>3.27e-05                                      </td><td>...                                           </td><td>0.000321481                                   </td><td>0                                             </td><td>0.00000000                                    </td><td>0.000196736                                   </td><td>0.000188043                                   </td><td>0.000370402                                   </td><td>0.000512506                                   </td><td>0.000582393                                   </td><td>0.000442618                                   </td><td>0.000209434                                   </td></tr>\n",
       "\t<tr><td>X531_Group1C_142dpi_LV_top_166_G_A6_P128.mzXML</td><td>531                                           </td><td>Group1C                                       </td><td>142dpi                                        </td><td>LV_top                                        </td><td>A6                                            </td><td>P128                                          </td><td>0.000142641                                   </td><td>0.000000000                                   </td><td>3.77e-05                                      </td><td>...                                           </td><td>0.000377722                                   </td><td>0                                             </td><td>0.00000000                                    </td><td>0.000247236                                   </td><td>0.000247236                                   </td><td>0.000430374                                   </td><td>0.000666165                                   </td><td>0.000762312                                   </td><td>0.000503630                                   </td><td>0.000338805                                   </td></tr>\n",
       "</tbody>\n",
       "</table>\n"
      ],
      "text/latex": [
       "\\begin{tabular}{r|lllllllllllllllllllllllllllllllllll}\n",
       " filename & MouseID & Treatmentgroup & DPI & organ & well\\_position & plate & X141.091\\_1.54 & X203.007\\_0.309 & X240.116\\_2.324 & ... & X708.445\\_3.006 & X709.936\\_2.18 & X720.445\\_3.09 & X737.391\\_2.399 & X776.042\\_2.398 & X776.095\\_2.398 & X776.148\\_2.398 & X776.359\\_2.398 & X819.433\\_2.399 & X867.281\\_2.399\\\\\n",
       "\\hline\n",
       "\t X511\\_Group1C\\_142dpi\\_LV\\_top\\_161\\_G\\_A1\\_P128.mzXML & 511                                                            & Group1C                                                        & 142dpi                                                         & LV\\_top                                                       & A1                                                             & P128                                                           & 0.000150701                                                    & 0.000253054                                                    & 3.74e-05                                                       & ...                                                            & 0.000561014                                                    & 0                                                              & 0.00000000                                                     & 0.000083200                                                    & 0.000080700                                                    & 0.000135990                                                    & 0.000323401                                                    & 0.000323462                                                    & 0.000265376                                                    & 0.000099000                                                   \\\\\n",
       "\t X512\\_Group1C\\_142dpi\\_LV\\_top\\_162\\_G\\_A2\\_P128.mzXML & 512                                                            & Group1C                                                        & 142dpi                                                         & LV\\_top                                                       & A2                                                             & P128                                                           & 0.000360521                                                    & 0.000326035                                                    & 0.00e+00                                                       & ...                                                            & 0.000621951                                                    & 0                                                              & 0.00000000                                                     & 0.000082400                                                    & 0.000120213                                                    & 0.000151179                                                    & 0.000243702                                                    & 0.000214309                                                    & 0.000353256                                                    & 0.000135352                                                   \\\\\n",
       "\t X513\\_Group1C\\_142dpi\\_LV\\_top\\_163\\_G\\_A3\\_P128.mzXML & 513                                                            & Group1C                                                        & 142dpi                                                         & LV\\_top                                                       & A3                                                             & P128                                                           & 0.000115526                                                    & 0.000073000                                                    & 0.00e+00                                                       & ...                                                            & 0.000582842                                                    & 0                                                              & 0.00002720                                                     & 0.000042000                                                    & 0.000056100                                                    & 0.000157763                                                    & 0.000178871                                                    & 0.000202296                                                    & 0.000203821                                                    & 0.000092300                                                   \\\\\n",
       "\t X514\\_Group1C\\_142dpi\\_LV\\_top\\_164\\_G\\_A4\\_P128.mzXML & 514                                                            & Group1C                                                        & 142dpi                                                         & LV\\_top                                                       & A4                                                             & P128                                                           & 0.000249240                                                    & 0.000333486                                                    & 0.00e+00                                                       & ...                                                            & 0.000774688                                                    & 0                                                              & 0.00015684                                                     & 0.000065100                                                    & 0.000074200                                                    & 0.000248777                                                    & 0.000308660                                                    & 0.000307198                                                    & 0.000339938                                                    & 0.000099300                                                   \\\\\n",
       "\t X515\\_Group1C\\_142dpi\\_LV\\_top\\_165\\_G\\_A5\\_P128.mzXML & 515                                                            & Group1C                                                        & 142dpi                                                         & LV\\_top                                                       & A5                                                             & P128                                                           & 0.000166425                                                    & 0.000000000                                                    & 3.27e-05                                                       & ...                                                            & 0.000321481                                                    & 0                                                              & 0.00000000                                                     & 0.000196736                                                    & 0.000188043                                                    & 0.000370402                                                    & 0.000512506                                                    & 0.000582393                                                    & 0.000442618                                                    & 0.000209434                                                   \\\\\n",
       "\t X531\\_Group1C\\_142dpi\\_LV\\_top\\_166\\_G\\_A6\\_P128.mzXML & 531                                                            & Group1C                                                        & 142dpi                                                         & LV\\_top                                                       & A6                                                             & P128                                                           & 0.000142641                                                    & 0.000000000                                                    & 3.77e-05                                                       & ...                                                            & 0.000377722                                                    & 0                                                              & 0.00000000                                                     & 0.000247236                                                    & 0.000247236                                                    & 0.000430374                                                    & 0.000666165                                                    & 0.000762312                                                    & 0.000503630                                                    & 0.000338805                                                   \\\\\n",
       "\\end{tabular}\n"
      ],
      "text/markdown": [
       "\n",
       "| filename | MouseID | Treatmentgroup | DPI | organ | well_position | plate | X141.091_1.54 | X203.007_0.309 | X240.116_2.324 | ... | X708.445_3.006 | X709.936_2.18 | X720.445_3.09 | X737.391_2.399 | X776.042_2.398 | X776.095_2.398 | X776.148_2.398 | X776.359_2.398 | X819.433_2.399 | X867.281_2.399 |\n",
       "|---|---|---|---|---|---|---|---|---|---|---|---|---|---|---|---|---|---|---|---|---|\n",
       "| X511_Group1C_142dpi_LV_top_161_G_A1_P128.mzXML | 511                                            | Group1C                                        | 142dpi                                         | LV_top                                         | A1                                             | P128                                           | 0.000150701                                    | 0.000253054                                    | 3.74e-05                                       | ...                                            | 0.000561014                                    | 0                                              | 0.00000000                                     | 0.000083200                                    | 0.000080700                                    | 0.000135990                                    | 0.000323401                                    | 0.000323462                                    | 0.000265376                                    | 0.000099000                                    |\n",
       "| X512_Group1C_142dpi_LV_top_162_G_A2_P128.mzXML | 512                                            | Group1C                                        | 142dpi                                         | LV_top                                         | A2                                             | P128                                           | 0.000360521                                    | 0.000326035                                    | 0.00e+00                                       | ...                                            | 0.000621951                                    | 0                                              | 0.00000000                                     | 0.000082400                                    | 0.000120213                                    | 0.000151179                                    | 0.000243702                                    | 0.000214309                                    | 0.000353256                                    | 0.000135352                                    |\n",
       "| X513_Group1C_142dpi_LV_top_163_G_A3_P128.mzXML | 513                                            | Group1C                                        | 142dpi                                         | LV_top                                         | A3                                             | P128                                           | 0.000115526                                    | 0.000073000                                    | 0.00e+00                                       | ...                                            | 0.000582842                                    | 0                                              | 0.00002720                                     | 0.000042000                                    | 0.000056100                                    | 0.000157763                                    | 0.000178871                                    | 0.000202296                                    | 0.000203821                                    | 0.000092300                                    |\n",
       "| X514_Group1C_142dpi_LV_top_164_G_A4_P128.mzXML | 514                                            | Group1C                                        | 142dpi                                         | LV_top                                         | A4                                             | P128                                           | 0.000249240                                    | 0.000333486                                    | 0.00e+00                                       | ...                                            | 0.000774688                                    | 0                                              | 0.00015684                                     | 0.000065100                                    | 0.000074200                                    | 0.000248777                                    | 0.000308660                                    | 0.000307198                                    | 0.000339938                                    | 0.000099300                                    |\n",
       "| X515_Group1C_142dpi_LV_top_165_G_A5_P128.mzXML | 515                                            | Group1C                                        | 142dpi                                         | LV_top                                         | A5                                             | P128                                           | 0.000166425                                    | 0.000000000                                    | 3.27e-05                                       | ...                                            | 0.000321481                                    | 0                                              | 0.00000000                                     | 0.000196736                                    | 0.000188043                                    | 0.000370402                                    | 0.000512506                                    | 0.000582393                                    | 0.000442618                                    | 0.000209434                                    |\n",
       "| X531_Group1C_142dpi_LV_top_166_G_A6_P128.mzXML | 531                                            | Group1C                                        | 142dpi                                         | LV_top                                         | A6                                             | P128                                           | 0.000142641                                    | 0.000000000                                    | 3.77e-05                                       | ...                                            | 0.000377722                                    | 0                                              | 0.00000000                                     | 0.000247236                                    | 0.000247236                                    | 0.000430374                                    | 0.000666165                                    | 0.000762312                                    | 0.000503630                                    | 0.000338805                                    |\n",
       "\n"
      ],
      "text/plain": [
       "  filename                                       MouseID Treatmentgroup DPI   \n",
       "1 X511_Group1C_142dpi_LV_top_161_G_A1_P128.mzXML 511     Group1C        142dpi\n",
       "2 X512_Group1C_142dpi_LV_top_162_G_A2_P128.mzXML 512     Group1C        142dpi\n",
       "3 X513_Group1C_142dpi_LV_top_163_G_A3_P128.mzXML 513     Group1C        142dpi\n",
       "4 X514_Group1C_142dpi_LV_top_164_G_A4_P128.mzXML 514     Group1C        142dpi\n",
       "5 X515_Group1C_142dpi_LV_top_165_G_A5_P128.mzXML 515     Group1C        142dpi\n",
       "6 X531_Group1C_142dpi_LV_top_166_G_A6_P128.mzXML 531     Group1C        142dpi\n",
       "  organ  well_position plate X141.091_1.54 X203.007_0.309 X240.116_2.324 ...\n",
       "1 LV_top A1            P128  0.000150701   0.000253054    3.74e-05       ...\n",
       "2 LV_top A2            P128  0.000360521   0.000326035    0.00e+00       ...\n",
       "3 LV_top A3            P128  0.000115526   0.000073000    0.00e+00       ...\n",
       "4 LV_top A4            P128  0.000249240   0.000333486    0.00e+00       ...\n",
       "5 LV_top A5            P128  0.000166425   0.000000000    3.27e-05       ...\n",
       "6 LV_top A6            P128  0.000142641   0.000000000    3.77e-05       ...\n",
       "  X708.445_3.006 X709.936_2.18 X720.445_3.09 X737.391_2.399 X776.042_2.398\n",
       "1 0.000561014    0             0.00000000    0.000083200    0.000080700   \n",
       "2 0.000621951    0             0.00000000    0.000082400    0.000120213   \n",
       "3 0.000582842    0             0.00002720    0.000042000    0.000056100   \n",
       "4 0.000774688    0             0.00015684    0.000065100    0.000074200   \n",
       "5 0.000321481    0             0.00000000    0.000196736    0.000188043   \n",
       "6 0.000377722    0             0.00000000    0.000247236    0.000247236   \n",
       "  X776.095_2.398 X776.148_2.398 X776.359_2.398 X819.433_2.399 X867.281_2.399\n",
       "1 0.000135990    0.000323401    0.000323462    0.000265376    0.000099000   \n",
       "2 0.000151179    0.000243702    0.000214309    0.000353256    0.000135352   \n",
       "3 0.000157763    0.000178871    0.000202296    0.000203821    0.000092300   \n",
       "4 0.000248777    0.000308660    0.000307198    0.000339938    0.000099300   \n",
       "5 0.000370402    0.000512506    0.000582393    0.000442618    0.000209434   \n",
       "6 0.000430374    0.000666165    0.000762312    0.000503630    0.000338805   "
      ]
     },
     "metadata": {},
     "output_type": "display_data"
    },
    {
     "data": {
      "text/html": [
       "<ol class=list-inline>\n",
       "\t<li>30</li>\n",
       "\t<li>35</li>\n",
       "</ol>\n"
      ],
      "text/latex": [
       "\\begin{enumerate*}\n",
       "\\item 30\n",
       "\\item 35\n",
       "\\end{enumerate*}\n"
      ],
      "text/markdown": [
       "1. 30\n",
       "2. 35\n",
       "\n",
       "\n"
      ],
      "text/plain": [
       "[1] 30 35"
      ]
     },
     "metadata": {},
     "output_type": "display_data"
    },
    {
     "data": {
      "text/html": [
       "<ol class=list-inline>\n",
       "\t<li>30</li>\n",
       "\t<li>28</li>\n",
       "</ol>\n"
      ],
      "text/latex": [
       "\\begin{enumerate*}\n",
       "\\item 30\n",
       "\\item 28\n",
       "\\end{enumerate*}\n"
      ],
      "text/markdown": [
       "1. 30\n",
       "2. 28\n",
       "\n",
       "\n"
      ],
      "text/plain": [
       "[1] 30 28"
      ]
     },
     "metadata": {},
     "output_type": "display_data"
    },
    {
     "data": {
      "text/html": [
       "<ol class=list-inline>\n",
       "\t<li>30</li>\n",
       "\t<li>28</li>\n",
       "</ol>\n"
      ],
      "text/latex": [
       "\\begin{enumerate*}\n",
       "\\item 30\n",
       "\\item 28\n",
       "\\end{enumerate*}\n"
      ],
      "text/markdown": [
       "1. 30\n",
       "2. 28\n",
       "\n",
       "\n"
      ],
      "text/plain": [
       "[1] 30 28"
      ]
     },
     "metadata": {},
     "output_type": "display_data"
    },
    {
     "data": {
      "text/html": [
       "<ol class=list-inline>\n",
       "\t<li>30</li>\n",
       "\t<li>35</li>\n",
       "</ol>\n"
      ],
      "text/latex": [
       "\\begin{enumerate*}\n",
       "\\item 30\n",
       "\\item 35\n",
       "\\end{enumerate*}\n"
      ],
      "text/markdown": [
       "1. 30\n",
       "2. 35\n",
       "\n",
       "\n"
      ],
      "text/plain": [
       "[1] 30 35"
      ]
     },
     "metadata": {},
     "output_type": "display_data"
    }
   ],
   "source": [
    "noMeta<-features_pos[,8:35]\n",
    "head(noMeta)\n",
    "not_zero<-which(colSums(noMeta) != 0)\n",
    "head(not_zero)\n",
    "nonzero <- noMeta[, not_zero] # all the non-zero columns\n",
    "nonzero\n",
    "#add back metadata\n",
    "nonzero_wMeta<-cbind(features_pos[,1:7], nonzero)\n",
    "head(nonzero_wMeta)\n",
    "dim(features_pos)\n",
    "dim(noMeta)\n",
    "dim(nonzero)\n",
    "dim(nonzero_wMeta)"
   ]
  },
  {
   "cell_type": "code",
   "execution_count": 5,
   "metadata": {
    "scrolled": true
   },
   "outputs": [
    {
     "name": "stderr",
     "output_type": "stream",
     "text": [
      "Warning message in wilcox.test.default(x = c(0.000240284, 0.000375501, 0.000105927, :\n",
      "\"cannot compute exact p-value with ties\"Warning message in wilcox.test.default(x = c(0.000177127, 0.000147563, 0.000263935, :\n",
      "\"cannot compute exact p-value with ties\"Warning message in wilcox.test.default(x = c(6.28e-05, 0.000153118, 0, 5.18e-05, :\n",
      "\"cannot compute exact p-value with ties\"Warning message in wilcox.test.default(x = c(0.000104868, 0.000137026, 0.000112107, :\n",
      "\"cannot compute exact p-value with ties\"Warning message in wilcox.test.default(x = c(0, 0.00036459, 0, 0.000644154, 0, 0, :\n",
      "\"cannot compute exact p-value with ties\"Warning message in wilcox.test.default(x = c(0.000402601, 0, 0.000405705, 0, 0.000162848, :\n",
      "\"cannot compute exact p-value with ties\"Warning message in wilcox.test.default(x = c(0, 3.38e-05, 0, 4.93e-05, 0, 0, 0, :\n",
      "\"cannot compute exact p-value with ties\"Warning message in wilcox.test.default(x = c(0.000665298, 0.000804135, 0.001283934, :\n",
      "\"cannot compute exact p-value with ties\"Warning message in wilcox.test.default(x = c(0.000398175, 4.1e-05, 0.000718133, :\n",
      "\"cannot compute exact p-value with ties\"Warning message in wilcox.test.default(x = c(0.00029581, 5.6e-05, 0.000496164, 0.000531915, :\n",
      "\"cannot compute exact p-value with ties\"Warning message in wilcox.test.default(x = c(0, 0, 0, 0, 0, 0, 0, 0, 2.42e-05, 0, :\n",
      "\"cannot compute exact p-value with ties\"Warning message in wilcox.test.default(x = c(3.18e-05, 9.22e-05, 3.55e-05, 4.53e-05, :\n",
      "\"cannot compute exact p-value with ties\"Warning message in wilcox.test.default(x = c(0.000125216, 0.000155109, 8.19e-05, :\n",
      "\"cannot compute exact p-value with ties\"Warning message in wilcox.test.default(x = c(0.000468335, 0.000315686, 0.000264242, :\n",
      "\"cannot compute exact p-value with ties\"Warning message in wilcox.test.default(x = c(0.000678429, 0.00054364, 0.000539688, :\n",
      "\"cannot compute exact p-value with ties\"Warning message in wilcox.test.default(x = c(0, 3.99e-05, 0, 5.55e-05, 0, 0, 0, :\n",
      "\"cannot compute exact p-value with ties\"Warning message in wilcox.test.default(x = c(0.000373889, 0.000311334, 0.000234169, :\n",
      "\"cannot compute exact p-value with ties\"Warning message in wilcox.test.default(x = c(0, 0, 0, 0.00011395, 0.000194323, 0, :\n",
      "\"cannot compute exact p-value with ties\"Warning message in wilcox.test.default(x = c(0, 0, 0, 0.000224599, 0.000305304, :\n",
      "\"cannot compute exact p-value with ties\"Warning message in wilcox.test.default(x = c(0, 0, 0, 0.00027283, 0.000400807, 0.000101399, :\n",
      "\"cannot compute exact p-value with ties\"Warning message in wilcox.test.default(x = c(6.44e-05, 0, 0, 0.000221177, 0.000320164, :\n",
      "\"cannot compute exact p-value with ties\""
     ]
    },
    {
     "data": {
      "text/html": [
       "<ol class=list-inline>\n",
       "\t<li>0.803441156656163</li>\n",
       "\t<li>0.0691850028200593</li>\n",
       "\t<li>0.0242464861509069</li>\n",
       "\t<li>0.0193221207201839</li>\n",
       "\t<li>0.00570350789517522</li>\n",
       "\t<li>0.019419575058404</li>\n",
       "</ol>\n"
      ],
      "text/latex": [
       "\\begin{enumerate*}\n",
       "\\item 0.803441156656163\n",
       "\\item 0.0691850028200593\n",
       "\\item 0.0242464861509069\n",
       "\\item 0.0193221207201839\n",
       "\\item 0.00570350789517522\n",
       "\\item 0.019419575058404\n",
       "\\end{enumerate*}\n"
      ],
      "text/markdown": [
       "1. 0.803441156656163\n",
       "2. 0.0691850028200593\n",
       "3. 0.0242464861509069\n",
       "4. 0.0193221207201839\n",
       "5. 0.00570350789517522\n",
       "6. 0.019419575058404\n",
       "\n",
       "\n"
      ],
      "text/plain": [
       "[1] 0.803441157 0.069185003 0.024246486 0.019322121 0.005703508 0.019419575"
      ]
     },
     "metadata": {},
     "output_type": "display_data"
    },
    {
     "data": {
      "text/html": [
       "<ol class=list-inline>\n",
       "\t<li>0.803441156656163</li>\n",
       "\t<li>0.0968590039480829</li>\n",
       "\t<li>0.0399353889544349</li>\n",
       "\t<li>0.0339842563522071</li>\n",
       "\t<li>0.0199622776331133</li>\n",
       "\t<li>0.0339842563522071</li>\n",
       "</ol>\n"
      ],
      "text/latex": [
       "\\begin{enumerate*}\n",
       "\\item 0.803441156656163\n",
       "\\item 0.0968590039480829\n",
       "\\item 0.0399353889544349\n",
       "\\item 0.0339842563522071\n",
       "\\item 0.0199622776331133\n",
       "\\item 0.0339842563522071\n",
       "\\end{enumerate*}\n"
      ],
      "text/markdown": [
       "1. 0.803441156656163\n",
       "2. 0.0968590039480829\n",
       "3. 0.0399353889544349\n",
       "4. 0.0339842563522071\n",
       "5. 0.0199622776331133\n",
       "6. 0.0339842563522071\n",
       "\n",
       "\n"
      ],
      "text/plain": [
       "[1] 0.80344116 0.09685900 0.03993539 0.03398426 0.01996228 0.03398426"
      ]
     },
     "metadata": {},
     "output_type": "display_data"
    }
   ],
   "source": [
    "pval<-c()#create an empty vector with value pval\n",
    "\n",
    "# 8 to the end of each row\n",
    "for (i in 8:ncol(nonzero_wMeta)) \n",
    "pval<-c(pval,wilcox.test(nonzero_wMeta[,i]~nonzero_wMeta$Treatmentgroup)$p.value) #assign to pval the output of the Mann-Whitney-Wilcoxon test\n",
    "    #don't know why there is that first pval in c(pval...) but it doesn't work without it\n",
    "    #$p.value is because there are many output lines from wilcox.test; you want to keep only the one that's called $p.value because that's where the nbr is\n",
    "\n",
    "head(pval) #to check\n",
    "pAdj <- p.adjust(pval, method = c(\"fdr\"), n=length(pval)) \n",
    "head(pAdj) \n",
    "\n"
   ]
  },
  {
   "cell_type": "code",
   "execution_count": 6,
   "metadata": {
    "scrolled": true
   },
   "outputs": [
    {
     "data": {
      "text/html": [
       "28"
      ],
      "text/latex": [
       "28"
      ],
      "text/markdown": [
       "28"
      ],
      "text/plain": [
       "[1] 28"
      ]
     },
     "metadata": {},
     "output_type": "display_data"
    }
   ],
   "source": [
    "length(pval)"
   ]
  },
  {
   "cell_type": "code",
   "execution_count": 7,
   "metadata": {
    "scrolled": true
   },
   "outputs": [
    {
     "data": {
      "text/html": [
       "28"
      ],
      "text/latex": [
       "28"
      ],
      "text/markdown": [
       "28"
      ],
      "text/plain": [
       "[1] 28"
      ]
     },
     "metadata": {},
     "output_type": "display_data"
    }
   ],
   "source": [
    "length(pAdj)"
   ]
  },
  {
   "cell_type": "code",
   "execution_count": 8,
   "metadata": {},
   "outputs": [
    {
     "data": {
      "text/html": [
       "<ol class=list-inline>\n",
       "\t<li>2</li>\n",
       "\t<li>28</li>\n",
       "</ol>\n"
      ],
      "text/latex": [
       "\\begin{enumerate*}\n",
       "\\item 2\n",
       "\\item 28\n",
       "\\end{enumerate*}\n"
      ],
      "text/markdown": [
       "1. 2\n",
       "2. 28\n",
       "\n",
       "\n"
      ],
      "text/plain": [
       "[1]  2 28"
      ]
     },
     "metadata": {},
     "output_type": "display_data"
    },
    {
     "data": {
      "text/html": [
       "<table>\n",
       "<thead><tr><th></th><th scope=col>X141.091_1.54</th><th scope=col>X203.007_0.309</th><th scope=col>X240.116_2.324</th></tr></thead>\n",
       "<tbody>\n",
       "\t<tr><th scope=row>Group15</th><td>0.0001844664</td><td>6.999707e-05</td><td>4.748787e-05</td></tr>\n",
       "\t<tr><th scope=row>Group1C</th><td>0.0001959355</td><td>1.267091e-04</td><td>1.629333e-05</td></tr>\n",
       "</tbody>\n",
       "</table>\n"
      ],
      "text/latex": [
       "\\begin{tabular}{r|lll}\n",
       "  & X141.091\\_1.54 & X203.007\\_0.309 & X240.116\\_2.324\\\\\n",
       "\\hline\n",
       "\tGroup15 & 0.0001844664 & 6.999707e-05 & 4.748787e-05\\\\\n",
       "\tGroup1C & 0.0001959355 & 1.267091e-04 & 1.629333e-05\\\\\n",
       "\\end{tabular}\n"
      ],
      "text/markdown": [
       "\n",
       "| <!--/--> | X141.091_1.54 | X203.007_0.309 | X240.116_2.324 |\n",
       "|---|---|---|---|\n",
       "| Group15 | 0.0001844664 | 6.999707e-05 | 4.748787e-05 |\n",
       "| Group1C | 0.0001959355 | 1.267091e-04 | 1.629333e-05 |\n",
       "\n"
      ],
      "text/plain": [
       "        X141.091_1.54 X203.007_0.309 X240.116_2.324\n",
       "Group15 0.0001844664  6.999707e-05   4.748787e-05  \n",
       "Group1C 0.0001959355  1.267091e-04   1.629333e-05  "
      ]
     },
     "metadata": {},
     "output_type": "display_data"
    },
    {
     "data": {
      "text/html": [
       "<dl class=dl-horizontal>\n",
       "\t<dt>X141.091_1.54</dt>\n",
       "\t\t<dd>0.941464760688294</dd>\n",
       "\t<dt>X203.007_0.309</dt>\n",
       "\t\t<dd>0.552423213901445</dd>\n",
       "\t<dt>X240.116_2.324</dt>\n",
       "\t\t<dd>2.91455810147299</dd>\n",
       "\t<dt>X249.112_2.768</dt>\n",
       "\t\t<dd>2.67610730134939</dd>\n",
       "\t<dt>X272.222_2.957</dt>\n",
       "\t\t<dd>0.284827512822942</dd>\n",
       "\t<dt>X293.211_2.931</dt>\n",
       "\t\t<dd>0.490164617234165</dd>\n",
       "</dl>\n"
      ],
      "text/latex": [
       "\\begin{description*}\n",
       "\\item[X141.091\\textbackslash{}\\_1.54] 0.941464760688294\n",
       "\\item[X203.007\\textbackslash{}\\_0.309] 0.552423213901445\n",
       "\\item[X240.116\\textbackslash{}\\_2.324] 2.91455810147299\n",
       "\\item[X249.112\\textbackslash{}\\_2.768] 2.67610730134939\n",
       "\\item[X272.222\\textbackslash{}\\_2.957] 0.284827512822942\n",
       "\\item[X293.211\\textbackslash{}\\_2.931] 0.490164617234165\n",
       "\\end{description*}\n"
      ],
      "text/markdown": [
       "X141.091_1.54\n",
       ":   0.941464760688294X203.007_0.309\n",
       ":   0.552423213901445X240.116_2.324\n",
       ":   2.91455810147299X249.112_2.768\n",
       ":   2.67610730134939X272.222_2.957\n",
       ":   0.284827512822942X293.211_2.931\n",
       ":   0.490164617234165\n",
       "\n"
      ],
      "text/plain": [
       " X141.091_1.54 X203.007_0.309 X240.116_2.324 X249.112_2.768 X272.222_2.957 \n",
       "     0.9414648      0.5524232      2.9145581      2.6761073      0.2848275 \n",
       "X293.211_2.931 \n",
       "     0.4901646 "
      ]
     },
     "metadata": {},
     "output_type": "display_data"
    },
    {
     "data": {
      "text/html": [
       "<ol class=list-inline>\n",
       "\t<li>'numeric'</li>\n",
       "\t<li>'vector'</li>\n",
       "</ol>\n"
      ],
      "text/latex": [
       "\\begin{enumerate*}\n",
       "\\item 'numeric'\n",
       "\\item 'vector'\n",
       "\\end{enumerate*}\n"
      ],
      "text/markdown": [
       "1. 'numeric'\n",
       "2. 'vector'\n",
       "\n",
       "\n"
      ],
      "text/plain": [
       "[1] \"numeric\" \"vector\" "
      ]
     },
     "metadata": {},
     "output_type": "display_data"
    }
   ],
   "source": [
    "# change the column name, you want to see infected and naive so it should be State\n",
    "avg<- apply(nonzero_wMeta[,8:ncol(nonzero_wMeta)], 2, function(x) tapply(x, nonzero_wMeta$Treatmentgroup, function(x) mean(x))) \n",
    "\n",
    "dim(avg) #to check\n",
    "\n",
    "avg[,1:3]#to check\n",
    "\n",
    "fch <- apply(avg, 2, function(x) x[1]/x[2]) #calculate fold change\n",
    "\n",
    "head(fch) #to check it's ok\n",
    "is(fch)"
   ]
  },
  {
   "cell_type": "code",
   "execution_count": 9,
   "metadata": {
    "scrolled": true
   },
   "outputs": [
    {
     "data": {
      "text/html": [
       "<dl class=dl-horizontal>\n",
       "\t<dt>X141.091_1.54</dt>\n",
       "\t\t<dd>0.941464760688294</dd>\n",
       "\t<dt>X203.007_0.309</dt>\n",
       "\t\t<dd>0.552423213901445</dd>\n",
       "\t<dt>X240.116_2.324</dt>\n",
       "\t\t<dd>2.91455810147299</dd>\n",
       "\t<dt>X249.112_2.768</dt>\n",
       "\t\t<dd>2.67610730134939</dd>\n",
       "\t<dt>X272.222_2.957</dt>\n",
       "\t\t<dd>0.284827512822942</dd>\n",
       "\t<dt>X293.211_2.931</dt>\n",
       "\t\t<dd>0.490164617234165</dd>\n",
       "\t<dt>X293.211_2.934</dt>\n",
       "\t\t<dd>Inf</dd>\n",
       "\t<dt>X296.258_2.976</dt>\n",
       "\t\t<dd>0.826093276863335</dd>\n",
       "\t<dt>X311.221_2.932</dt>\n",
       "\t\t<dd>0.860977583189563</dd>\n",
       "\t<dt>X345.243_3.095</dt>\n",
       "\t\t<dd>0.340073452324955</dd>\n",
       "\t<dt>X366.373_3.699</dt>\n",
       "\t\t<dd>1.40538762965391</dd>\n",
       "\t<dt>X440.337_2.772</dt>\n",
       "\t\t<dd>2.53152223714186</dd>\n",
       "\t<dt>X442.353_2.827</dt>\n",
       "\t\t<dd>4.44053688671181</dd>\n",
       "\t<dt>X546.029_2.319</dt>\n",
       "\t\t<dd>0.103244031996149</dd>\n",
       "\t<dt>X607.227_2.771</dt>\n",
       "\t\t<dd>12.4408067940552</dd>\n",
       "\t<dt>X608.227_2.768</dt>\n",
       "\t\t<dd>2.29339269841524</dd>\n",
       "\t<dt>X690.434_3.14</dt>\n",
       "\t\t<dd>1.53253599797517</dd>\n",
       "\t<dt>X692.414_2.985</dt>\n",
       "\t\t<dd>2.01656957407542</dd>\n",
       "\t<dt>X708.445_3.006</dt>\n",
       "\t\t<dd>1.31136985923671</dd>\n",
       "\t<dt>X709.936_2.18</dt>\n",
       "\t\t<dd>1.20151133501259</dd>\n",
       "\t<dt>X720.445_3.09</dt>\n",
       "\t\t<dd>2.78163047404543</dd>\n",
       "\t<dt>X737.391_2.399</dt>\n",
       "\t\t<dd>0.526365706838373</dd>\n",
       "\t<dt>X776.042_2.398</dt>\n",
       "\t\t<dd>0.651293601083607</dd>\n",
       "\t<dt>X776.095_2.398</dt>\n",
       "\t\t<dd>0.495004161241195</dd>\n",
       "\t<dt>X776.148_2.398</dt>\n",
       "\t\t<dd>0.574856676450661</dd>\n",
       "\t<dt>X776.359_2.398</dt>\n",
       "\t\t<dd>0.585143219919906</dd>\n",
       "\t<dt>X819.433_2.399</dt>\n",
       "\t\t<dd>0.581928166456348</dd>\n",
       "\t<dt>X867.281_2.399</dt>\n",
       "\t\t<dd>0.546105271632622</dd>\n",
       "</dl>\n"
      ],
      "text/latex": [
       "\\begin{description*}\n",
       "\\item[X141.091\\textbackslash{}\\_1.54] 0.941464760688294\n",
       "\\item[X203.007\\textbackslash{}\\_0.309] 0.552423213901445\n",
       "\\item[X240.116\\textbackslash{}\\_2.324] 2.91455810147299\n",
       "\\item[X249.112\\textbackslash{}\\_2.768] 2.67610730134939\n",
       "\\item[X272.222\\textbackslash{}\\_2.957] 0.284827512822942\n",
       "\\item[X293.211\\textbackslash{}\\_2.931] 0.490164617234165\n",
       "\\item[X293.211\\textbackslash{}\\_2.934] Inf\n",
       "\\item[X296.258\\textbackslash{}\\_2.976] 0.826093276863335\n",
       "\\item[X311.221\\textbackslash{}\\_2.932] 0.860977583189563\n",
       "\\item[X345.243\\textbackslash{}\\_3.095] 0.340073452324955\n",
       "\\item[X366.373\\textbackslash{}\\_3.699] 1.40538762965391\n",
       "\\item[X440.337\\textbackslash{}\\_2.772] 2.53152223714186\n",
       "\\item[X442.353\\textbackslash{}\\_2.827] 4.44053688671181\n",
       "\\item[X546.029\\textbackslash{}\\_2.319] 0.103244031996149\n",
       "\\item[X607.227\\textbackslash{}\\_2.771] 12.4408067940552\n",
       "\\item[X608.227\\textbackslash{}\\_2.768] 2.29339269841524\n",
       "\\item[X690.434\\textbackslash{}\\_3.14] 1.53253599797517\n",
       "\\item[X692.414\\textbackslash{}\\_2.985] 2.01656957407542\n",
       "\\item[X708.445\\textbackslash{}\\_3.006] 1.31136985923671\n",
       "\\item[X709.936\\textbackslash{}\\_2.18] 1.20151133501259\n",
       "\\item[X720.445\\textbackslash{}\\_3.09] 2.78163047404543\n",
       "\\item[X737.391\\textbackslash{}\\_2.399] 0.526365706838373\n",
       "\\item[X776.042\\textbackslash{}\\_2.398] 0.651293601083607\n",
       "\\item[X776.095\\textbackslash{}\\_2.398] 0.495004161241195\n",
       "\\item[X776.148\\textbackslash{}\\_2.398] 0.574856676450661\n",
       "\\item[X776.359\\textbackslash{}\\_2.398] 0.585143219919906\n",
       "\\item[X819.433\\textbackslash{}\\_2.399] 0.581928166456348\n",
       "\\item[X867.281\\textbackslash{}\\_2.399] 0.546105271632622\n",
       "\\end{description*}\n"
      ],
      "text/markdown": [
       "X141.091_1.54\n",
       ":   0.941464760688294X203.007_0.309\n",
       ":   0.552423213901445X240.116_2.324\n",
       ":   2.91455810147299X249.112_2.768\n",
       ":   2.67610730134939X272.222_2.957\n",
       ":   0.284827512822942X293.211_2.931\n",
       ":   0.490164617234165X293.211_2.934\n",
       ":   InfX296.258_2.976\n",
       ":   0.826093276863335X311.221_2.932\n",
       ":   0.860977583189563X345.243_3.095\n",
       ":   0.340073452324955X366.373_3.699\n",
       ":   1.40538762965391X440.337_2.772\n",
       ":   2.53152223714186X442.353_2.827\n",
       ":   4.44053688671181X546.029_2.319\n",
       ":   0.103244031996149X607.227_2.771\n",
       ":   12.4408067940552X608.227_2.768\n",
       ":   2.29339269841524X690.434_3.14\n",
       ":   1.53253599797517X692.414_2.985\n",
       ":   2.01656957407542X708.445_3.006\n",
       ":   1.31136985923671X709.936_2.18\n",
       ":   1.20151133501259X720.445_3.09\n",
       ":   2.78163047404543X737.391_2.399\n",
       ":   0.526365706838373X776.042_2.398\n",
       ":   0.651293601083607X776.095_2.398\n",
       ":   0.495004161241195X776.148_2.398\n",
       ":   0.574856676450661X776.359_2.398\n",
       ":   0.585143219919906X819.433_2.399\n",
       ":   0.581928166456348X867.281_2.399\n",
       ":   0.546105271632622\n",
       "\n"
      ],
      "text/plain": [
       " X141.091_1.54 X203.007_0.309 X240.116_2.324 X249.112_2.768 X272.222_2.957 \n",
       "     0.9414648      0.5524232      2.9145581      2.6761073      0.2848275 \n",
       "X293.211_2.931 X293.211_2.934 X296.258_2.976 X311.221_2.932 X345.243_3.095 \n",
       "     0.4901646            Inf      0.8260933      0.8609776      0.3400735 \n",
       "X366.373_3.699 X440.337_2.772 X442.353_2.827 X546.029_2.319 X607.227_2.771 \n",
       "     1.4053876      2.5315222      4.4405369      0.1032440     12.4408068 \n",
       "X608.227_2.768  X690.434_3.14 X692.414_2.985 X708.445_3.006  X709.936_2.18 \n",
       "     2.2933927      1.5325360      2.0165696      1.3113699      1.2015113 \n",
       " X720.445_3.09 X737.391_2.399 X776.042_2.398 X776.095_2.398 X776.148_2.398 \n",
       "     2.7816305      0.5263657      0.6512936      0.4950042      0.5748567 \n",
       "X776.359_2.398 X819.433_2.399 X867.281_2.399 \n",
       "     0.5851432      0.5819282      0.5461053 "
      ]
     },
     "metadata": {},
     "output_type": "display_data"
    }
   ],
   "source": [
    "fch"
   ]
  },
  {
   "cell_type": "code",
   "execution_count": 10,
   "metadata": {
    "scrolled": false
   },
   "outputs": [],
   "source": [
    "#Convoluted way to get the names; likely could find a simpler way\n",
    "\n",
    "#make dataframe from pval and fch\n",
    "df <- data.frame(fch,pval, pAdj)\n",
    "write.csv(df, \"LVT-wilcox-1C-15.csv\")"
   ]
  },
  {
   "cell_type": "code",
   "execution_count": null,
   "metadata": {},
   "outputs": [],
   "source": []
  },
  {
   "cell_type": "code",
   "execution_count": null,
   "metadata": {},
   "outputs": [],
   "source": []
  },
  {
   "cell_type": "code",
   "execution_count": null,
   "metadata": {},
   "outputs": [],
   "source": []
  }
 ],
 "metadata": {
  "kernelspec": {
   "display_name": "R",
   "language": "R",
   "name": "ir"
  },
  "language_info": {
   "codemirror_mode": "r",
   "file_extension": ".r",
   "mimetype": "text/x-r-source",
   "name": "R",
   "pygments_lexer": "r",
   "version": "3.6.1"
  }
 },
 "nbformat": 4,
 "nbformat_minor": 2
}
