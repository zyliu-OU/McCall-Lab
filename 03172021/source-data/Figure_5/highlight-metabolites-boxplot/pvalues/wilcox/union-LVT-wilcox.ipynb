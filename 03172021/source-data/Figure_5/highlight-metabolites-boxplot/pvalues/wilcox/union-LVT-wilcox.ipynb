{
 "cells": [
  {
   "cell_type": "code",
   "execution_count": 1,
   "metadata": {},
   "outputs": [
    {
     "name": "stderr",
     "output_type": "stream",
     "text": [
      "Warning message:\n",
      "\"package 'dplyr' was built under R version 3.6.3\"\n",
      "Attaching package: 'dplyr'\n",
      "\n",
      "The following objects are masked from 'package:stats':\n",
      "\n",
      "    filter, lag\n",
      "\n",
      "The following objects are masked from 'package:base':\n",
      "\n",
      "    intersect, setdiff, setequal, union\n",
      "\n"
     ]
    }
   ],
   "source": [
    "library(dplyr)"
   ]
  },
  {
   "cell_type": "code",
   "execution_count": 2,
   "metadata": {},
   "outputs": [
    {
     "data": {
      "text/html": [
       "<table>\n",
       "<thead><tr><th scope=col>filename</th><th scope=col>LVT_naive_VS_infected</th></tr></thead>\n",
       "<tbody>\n",
       "\t<tr><td>X293.211_2.933</td><td>0.010649392   </td></tr>\n",
       "\t<tr><td>X440.337_2.765</td><td>0.001149509   </td></tr>\n",
       "\t<tr><td>X442.353_2.823</td><td>0.000558494   </td></tr>\n",
       "\t<tr><td>X141.091_1.54 </td><td>0.053102714   </td></tr>\n",
       "\t<tr><td>X203.007_0.309</td><td>0.018875579   </td></tr>\n",
       "\t<tr><td>X240.116_2.324</td><td>0.022156935   </td></tr>\n",
       "</tbody>\n",
       "</table>\n"
      ],
      "text/latex": [
       "\\begin{tabular}{r|ll}\n",
       " filename & LVT\\_naive\\_VS\\_infected\\\\\n",
       "\\hline\n",
       "\t X293.211\\_2.933 & 0.010649392     \\\\\n",
       "\t X440.337\\_2.765 & 0.001149509     \\\\\n",
       "\t X442.353\\_2.823 & 0.000558494     \\\\\n",
       "\t X141.091\\_1.54  & 0.053102714     \\\\\n",
       "\t X203.007\\_0.309 & 0.018875579     \\\\\n",
       "\t X240.116\\_2.324 & 0.022156935     \\\\\n",
       "\\end{tabular}\n"
      ],
      "text/markdown": [
       "\n",
       "| filename | LVT_naive_VS_infected |\n",
       "|---|---|\n",
       "| X293.211_2.933 | 0.010649392    |\n",
       "| X440.337_2.765 | 0.001149509    |\n",
       "| X442.353_2.823 | 0.000558494    |\n",
       "| X141.091_1.54  | 0.053102714    |\n",
       "| X203.007_0.309 | 0.018875579    |\n",
       "| X240.116_2.324 | 0.022156935    |\n",
       "\n"
      ],
      "text/plain": [
       "  filename       LVT_naive_VS_infected\n",
       "1 X293.211_2.933 0.010649392          \n",
       "2 X440.337_2.765 0.001149509          \n",
       "3 X442.353_2.823 0.000558494          \n",
       "4 X141.091_1.54  0.053102714          \n",
       "5 X203.007_0.309 0.018875579          \n",
       "6 X240.116_2.324 0.022156935          "
      ]
     },
     "metadata": {},
     "output_type": "display_data"
    },
    {
     "data": {
      "text/html": [
       "<ol class=list-inline>\n",
       "\t<li>27</li>\n",
       "\t<li>2</li>\n",
       "</ol>\n"
      ],
      "text/latex": [
       "\\begin{enumerate*}\n",
       "\\item 27\n",
       "\\item 2\n",
       "\\end{enumerate*}\n"
      ],
      "text/markdown": [
       "1. 27\n",
       "2. 2\n",
       "\n",
       "\n"
      ],
      "text/plain": [
       "[1] 27  2"
      ]
     },
     "metadata": {},
     "output_type": "display_data"
    },
    {
     "data": {
      "text/html": [
       "<table>\n",
       "<thead><tr><th scope=col>filename</th><th scope=col>LVT_naive_combo</th></tr></thead>\n",
       "<tbody>\n",
       "\t<tr><td>X141.091_1.54 </td><td>0.208798877   </td></tr>\n",
       "\t<tr><td>X203.007_0.309</td><td>0.023299365   </td></tr>\n",
       "\t<tr><td>X240.116_2.324</td><td>0.001863875   </td></tr>\n",
       "\t<tr><td>X249.112_2.768</td><td>1.000000000   </td></tr>\n",
       "\t<tr><td>X272.222_2.957</td><td>0.064938042   </td></tr>\n",
       "\t<tr><td>X293.211_2.931</td><td>0.001548440   </td></tr>\n",
       "</tbody>\n",
       "</table>\n"
      ],
      "text/latex": [
       "\\begin{tabular}{r|ll}\n",
       " filename & LVT\\_naive\\_combo\\\\\n",
       "\\hline\n",
       "\t X141.091\\_1.54  & 0.208798877     \\\\\n",
       "\t X203.007\\_0.309 & 0.023299365     \\\\\n",
       "\t X240.116\\_2.324 & 0.001863875     \\\\\n",
       "\t X249.112\\_2.768 & 1.000000000     \\\\\n",
       "\t X272.222\\_2.957 & 0.064938042     \\\\\n",
       "\t X293.211\\_2.931 & 0.001548440     \\\\\n",
       "\\end{tabular}\n"
      ],
      "text/markdown": [
       "\n",
       "| filename | LVT_naive_combo |\n",
       "|---|---|\n",
       "| X141.091_1.54  | 0.208798877    |\n",
       "| X203.007_0.309 | 0.023299365    |\n",
       "| X240.116_2.324 | 0.001863875    |\n",
       "| X249.112_2.768 | 1.000000000    |\n",
       "| X272.222_2.957 | 0.064938042    |\n",
       "| X293.211_2.931 | 0.001548440    |\n",
       "\n"
      ],
      "text/plain": [
       "  filename       LVT_naive_combo\n",
       "1 X141.091_1.54  0.208798877    \n",
       "2 X203.007_0.309 0.023299365    \n",
       "3 X240.116_2.324 0.001863875    \n",
       "4 X249.112_2.768 1.000000000    \n",
       "5 X272.222_2.957 0.064938042    \n",
       "6 X293.211_2.931 0.001548440    "
      ]
     },
     "metadata": {},
     "output_type": "display_data"
    },
    {
     "data": {
      "text/html": [
       "<ol class=list-inline>\n",
       "\t<li>28</li>\n",
       "\t<li>2</li>\n",
       "</ol>\n"
      ],
      "text/latex": [
       "\\begin{enumerate*}\n",
       "\\item 28\n",
       "\\item 2\n",
       "\\end{enumerate*}\n"
      ],
      "text/markdown": [
       "1. 28\n",
       "2. 2\n",
       "\n",
       "\n"
      ],
      "text/plain": [
       "[1] 28  2"
      ]
     },
     "metadata": {},
     "output_type": "display_data"
    },
    {
     "data": {
      "text/html": [
       "<table>\n",
       "<thead><tr><th scope=col>filename</th><th scope=col>LVT_naive_VS_BNZ</th></tr></thead>\n",
       "<tbody>\n",
       "\t<tr><td>X141.091_1.54 </td><td>0.80344116    </td></tr>\n",
       "\t<tr><td>X203.007_0.309</td><td>0.09685900    </td></tr>\n",
       "\t<tr><td>X240.116_2.324</td><td>0.03993539    </td></tr>\n",
       "\t<tr><td>X249.112_2.768</td><td>0.03398426    </td></tr>\n",
       "\t<tr><td>X272.222_2.957</td><td>0.01996228    </td></tr>\n",
       "\t<tr><td>X293.211_2.931</td><td>0.03398426    </td></tr>\n",
       "</tbody>\n",
       "</table>\n"
      ],
      "text/latex": [
       "\\begin{tabular}{r|ll}\n",
       " filename & LVT\\_naive\\_VS\\_BNZ\\\\\n",
       "\\hline\n",
       "\t X141.091\\_1.54  & 0.80344116      \\\\\n",
       "\t X203.007\\_0.309 & 0.09685900      \\\\\n",
       "\t X240.116\\_2.324 & 0.03993539      \\\\\n",
       "\t X249.112\\_2.768 & 0.03398426      \\\\\n",
       "\t X272.222\\_2.957 & 0.01996228      \\\\\n",
       "\t X293.211\\_2.931 & 0.03398426      \\\\\n",
       "\\end{tabular}\n"
      ],
      "text/markdown": [
       "\n",
       "| filename | LVT_naive_VS_BNZ |\n",
       "|---|---|\n",
       "| X141.091_1.54  | 0.80344116     |\n",
       "| X203.007_0.309 | 0.09685900     |\n",
       "| X240.116_2.324 | 0.03993539     |\n",
       "| X249.112_2.768 | 0.03398426     |\n",
       "| X272.222_2.957 | 0.01996228     |\n",
       "| X293.211_2.931 | 0.03398426     |\n",
       "\n"
      ],
      "text/plain": [
       "  filename       LVT_naive_VS_BNZ\n",
       "1 X141.091_1.54  0.80344116      \n",
       "2 X203.007_0.309 0.09685900      \n",
       "3 X240.116_2.324 0.03993539      \n",
       "4 X249.112_2.768 0.03398426      \n",
       "5 X272.222_2.957 0.01996228      \n",
       "6 X293.211_2.931 0.03398426      "
      ]
     },
     "metadata": {},
     "output_type": "display_data"
    },
    {
     "data": {
      "text/html": [
       "<ol class=list-inline>\n",
       "\t<li>28</li>\n",
       "\t<li>2</li>\n",
       "</ol>\n"
      ],
      "text/latex": [
       "\\begin{enumerate*}\n",
       "\\item 28\n",
       "\\item 2\n",
       "\\end{enumerate*}\n"
      ],
      "text/markdown": [
       "1. 28\n",
       "2. 2\n",
       "\n",
       "\n"
      ],
      "text/plain": [
       "[1] 28  2"
      ]
     },
     "metadata": {},
     "output_type": "display_data"
    },
    {
     "data": {
      "text/html": [
       "<table>\n",
       "<thead><tr><th scope=col>filename</th><th scope=col>LVT_infected_VS_combo</th></tr></thead>\n",
       "<tbody>\n",
       "\t<tr><td>X141.091_1.54 </td><td>0.75017254    </td></tr>\n",
       "\t<tr><td>X203.007_0.309</td><td>0.75017254    </td></tr>\n",
       "\t<tr><td>X240.116_2.324</td><td>0.29497932    </td></tr>\n",
       "\t<tr><td>X249.112_2.768</td><td>0.02568832    </td></tr>\n",
       "\t<tr><td>X272.222_2.957</td><td>0.51398192    </td></tr>\n",
       "\t<tr><td>X293.211_2.931</td><td>0.57260777    </td></tr>\n",
       "</tbody>\n",
       "</table>\n"
      ],
      "text/latex": [
       "\\begin{tabular}{r|ll}\n",
       " filename & LVT\\_infected\\_VS\\_combo\\\\\n",
       "\\hline\n",
       "\t X141.091\\_1.54  & 0.75017254      \\\\\n",
       "\t X203.007\\_0.309 & 0.75017254      \\\\\n",
       "\t X240.116\\_2.324 & 0.29497932      \\\\\n",
       "\t X249.112\\_2.768 & 0.02568832      \\\\\n",
       "\t X272.222\\_2.957 & 0.51398192      \\\\\n",
       "\t X293.211\\_2.931 & 0.57260777      \\\\\n",
       "\\end{tabular}\n"
      ],
      "text/markdown": [
       "\n",
       "| filename | LVT_infected_VS_combo |\n",
       "|---|---|\n",
       "| X141.091_1.54  | 0.75017254     |\n",
       "| X203.007_0.309 | 0.75017254     |\n",
       "| X240.116_2.324 | 0.29497932     |\n",
       "| X249.112_2.768 | 0.02568832     |\n",
       "| X272.222_2.957 | 0.51398192     |\n",
       "| X293.211_2.931 | 0.57260777     |\n",
       "\n"
      ],
      "text/plain": [
       "  filename       LVT_infected_VS_combo\n",
       "1 X141.091_1.54  0.75017254           \n",
       "2 X203.007_0.309 0.75017254           \n",
       "3 X240.116_2.324 0.29497932           \n",
       "4 X249.112_2.768 0.02568832           \n",
       "5 X272.222_2.957 0.51398192           \n",
       "6 X293.211_2.931 0.57260777           "
      ]
     },
     "metadata": {},
     "output_type": "display_data"
    },
    {
     "data": {
      "text/html": [
       "<ol class=list-inline>\n",
       "\t<li>28</li>\n",
       "\t<li>2</li>\n",
       "</ol>\n"
      ],
      "text/latex": [
       "\\begin{enumerate*}\n",
       "\\item 28\n",
       "\\item 2\n",
       "\\end{enumerate*}\n"
      ],
      "text/markdown": [
       "1. 28\n",
       "2. 2\n",
       "\n",
       "\n"
      ],
      "text/plain": [
       "[1] 28  2"
      ]
     },
     "metadata": {},
     "output_type": "display_data"
    },
    {
     "data": {
      "text/html": [
       "<table>\n",
       "<thead><tr><th scope=col>filename</th><th scope=col>LVT_infected_VS_BNZ</th></tr></thead>\n",
       "<tbody>\n",
       "\t<tr><td>X141.091_1.54 </td><td>0.7216576     </td></tr>\n",
       "\t<tr><td>X203.007_0.309</td><td>0.8158305     </td></tr>\n",
       "\t<tr><td>X240.116_2.324</td><td>0.8158305     </td></tr>\n",
       "\t<tr><td>X249.112_2.768</td><td>0.7011319     </td></tr>\n",
       "\t<tr><td>X272.222_2.957</td><td>0.7216576     </td></tr>\n",
       "\t<tr><td>X293.211_2.931</td><td>0.7216576     </td></tr>\n",
       "</tbody>\n",
       "</table>\n"
      ],
      "text/latex": [
       "\\begin{tabular}{r|ll}\n",
       " filename & LVT\\_infected\\_VS\\_BNZ\\\\\n",
       "\\hline\n",
       "\t X141.091\\_1.54  & 0.7216576       \\\\\n",
       "\t X203.007\\_0.309 & 0.8158305       \\\\\n",
       "\t X240.116\\_2.324 & 0.8158305       \\\\\n",
       "\t X249.112\\_2.768 & 0.7011319       \\\\\n",
       "\t X272.222\\_2.957 & 0.7216576       \\\\\n",
       "\t X293.211\\_2.931 & 0.7216576       \\\\\n",
       "\\end{tabular}\n"
      ],
      "text/markdown": [
       "\n",
       "| filename | LVT_infected_VS_BNZ |\n",
       "|---|---|\n",
       "| X141.091_1.54  | 0.7216576      |\n",
       "| X203.007_0.309 | 0.8158305      |\n",
       "| X240.116_2.324 | 0.8158305      |\n",
       "| X249.112_2.768 | 0.7011319      |\n",
       "| X272.222_2.957 | 0.7216576      |\n",
       "| X293.211_2.931 | 0.7216576      |\n",
       "\n"
      ],
      "text/plain": [
       "  filename       LVT_infected_VS_BNZ\n",
       "1 X141.091_1.54  0.7216576          \n",
       "2 X203.007_0.309 0.8158305          \n",
       "3 X240.116_2.324 0.8158305          \n",
       "4 X249.112_2.768 0.7011319          \n",
       "5 X272.222_2.957 0.7216576          \n",
       "6 X293.211_2.931 0.7216576          "
      ]
     },
     "metadata": {},
     "output_type": "display_data"
    },
    {
     "data": {
      "text/html": [
       "<ol class=list-inline>\n",
       "\t<li>28</li>\n",
       "\t<li>2</li>\n",
       "</ol>\n"
      ],
      "text/latex": [
       "\\begin{enumerate*}\n",
       "\\item 28\n",
       "\\item 2\n",
       "\\end{enumerate*}\n"
      ],
      "text/markdown": [
       "1. 28\n",
       "2. 2\n",
       "\n",
       "\n"
      ],
      "text/plain": [
       "[1] 28  2"
      ]
     },
     "metadata": {},
     "output_type": "display_data"
    },
    {
     "data": {
      "text/html": [
       "<table>\n",
       "<thead><tr><th scope=col>filename</th><th scope=col>LVT_combo_VS_BNZ</th></tr></thead>\n",
       "<tbody>\n",
       "\t<tr><td>X141.091_1.54 </td><td>0.61595990    </td></tr>\n",
       "\t<tr><td>X203.007_0.309</td><td>0.62917447    </td></tr>\n",
       "\t<tr><td>X240.116_2.324</td><td>0.06622802    </td></tr>\n",
       "\t<tr><td>X249.112_2.768</td><td>0.06014571    </td></tr>\n",
       "\t<tr><td>X272.222_2.957</td><td>0.83813478    </td></tr>\n",
       "\t<tr><td>X293.211_2.931</td><td>0.80147244    </td></tr>\n",
       "</tbody>\n",
       "</table>\n"
      ],
      "text/latex": [
       "\\begin{tabular}{r|ll}\n",
       " filename & LVT\\_combo\\_VS\\_BNZ\\\\\n",
       "\\hline\n",
       "\t X141.091\\_1.54  & 0.61595990      \\\\\n",
       "\t X203.007\\_0.309 & 0.62917447      \\\\\n",
       "\t X240.116\\_2.324 & 0.06622802      \\\\\n",
       "\t X249.112\\_2.768 & 0.06014571      \\\\\n",
       "\t X272.222\\_2.957 & 0.83813478      \\\\\n",
       "\t X293.211\\_2.931 & 0.80147244      \\\\\n",
       "\\end{tabular}\n"
      ],
      "text/markdown": [
       "\n",
       "| filename | LVT_combo_VS_BNZ |\n",
       "|---|---|\n",
       "| X141.091_1.54  | 0.61595990     |\n",
       "| X203.007_0.309 | 0.62917447     |\n",
       "| X240.116_2.324 | 0.06622802     |\n",
       "| X249.112_2.768 | 0.06014571     |\n",
       "| X272.222_2.957 | 0.83813478     |\n",
       "| X293.211_2.931 | 0.80147244     |\n",
       "\n"
      ],
      "text/plain": [
       "  filename       LVT_combo_VS_BNZ\n",
       "1 X141.091_1.54  0.61595990      \n",
       "2 X203.007_0.309 0.62917447      \n",
       "3 X240.116_2.324 0.06622802      \n",
       "4 X249.112_2.768 0.06014571      \n",
       "5 X272.222_2.957 0.83813478      \n",
       "6 X293.211_2.931 0.80147244      "
      ]
     },
     "metadata": {},
     "output_type": "display_data"
    },
    {
     "data": {
      "text/html": [
       "<ol class=list-inline>\n",
       "\t<li>28</li>\n",
       "\t<li>2</li>\n",
       "</ol>\n"
      ],
      "text/latex": [
       "\\begin{enumerate*}\n",
       "\\item 28\n",
       "\\item 2\n",
       "\\end{enumerate*}\n"
      ],
      "text/markdown": [
       "1. 28\n",
       "2. 2\n",
       "\n",
       "\n"
      ],
      "text/plain": [
       "[1] 28  2"
      ]
     },
     "metadata": {},
     "output_type": "display_data"
    }
   ],
   "source": [
    "file_1 <- read.csv(\"LVT-wilcox-1C-3E-fix.csv\", h = T, sep = \",\", dec = \".\")\n",
    "head(file_1)\n",
    "dim(file_1)\n",
    "\n",
    "file_2 <- read.csv(\"LVT-wilcox-1C-9-fix.csv\", h = T, sep = \",\", dec = \".\")\n",
    "head(file_2)\n",
    "dim(file_2)\n",
    "\n",
    "file_3 <- read.csv(\"LVT-wilcox-1C-15-fix.csv\", h = T, sep = \",\", dec = \".\")\n",
    "head(file_3)\n",
    "dim(file_3)\n",
    "\n",
    "file_4 <- read.csv(\"LVT-wilcox-3E-9-fix.csv\", h = T, sep = \",\", dec = \".\")\n",
    "head(file_4)\n",
    "dim(file_4)\n",
    "\n",
    "file_5 <- read.csv(\"LVT-wilcox-3E-15-fix.csv\", h = T, sep = \",\", dec = \".\")\n",
    "head(file_5)\n",
    "dim(file_5)\n",
    "\n",
    "file_6 <- read.csv(\"LVT-wilcox-9-15-fix.csv\", h = T, sep = \",\", dec = \".\")\n",
    "head(file_6)\n",
    "dim(file_6)\n"
   ]
  },
  {
   "cell_type": "code",
   "execution_count": 3,
   "metadata": {},
   "outputs": [
    {
     "data": {
      "text/html": [
       "<table>\n",
       "<thead><tr><th scope=col>filename</th><th scope=col>LVT_naive_VS_infected</th><th scope=col>LVT_naive_combo</th><th scope=col>LVT_naive_VS_BNZ</th><th scope=col>LVT_infected_VS_combo</th><th scope=col>LVT_infected_VS_BNZ</th><th scope=col>LVT_combo_VS_BNZ</th></tr></thead>\n",
       "<tbody>\n",
       "\t<tr><td>X293.211_2.933</td><td>0.010649392   </td><td>         NA   </td><td>        NA    </td><td>       NA     </td><td>       NA     </td><td>        NA    </td></tr>\n",
       "\t<tr><td>X440.337_2.765</td><td>0.001149509   </td><td>         NA   </td><td>        NA    </td><td>       NA     </td><td>       NA     </td><td>        NA    </td></tr>\n",
       "\t<tr><td>X442.353_2.823</td><td>0.000558494   </td><td>         NA   </td><td>        NA    </td><td>       NA     </td><td>       NA     </td><td>        NA    </td></tr>\n",
       "\t<tr><td>X141.091_1.54 </td><td>0.053102714   </td><td>0.208798877   </td><td>0.80344116    </td><td>0.7501725     </td><td>0.7216576     </td><td>0.61595990    </td></tr>\n",
       "\t<tr><td>X203.007_0.309</td><td>0.018875579   </td><td>0.023299365   </td><td>0.09685900    </td><td>0.7501725     </td><td>0.8158305     </td><td>0.62917447    </td></tr>\n",
       "\t<tr><td>X240.116_2.324</td><td>0.022156935   </td><td>0.001863875   </td><td>0.03993539    </td><td>0.2949793     </td><td>0.8158305     </td><td>0.06622802    </td></tr>\n",
       "</tbody>\n",
       "</table>\n"
      ],
      "text/latex": [
       "\\begin{tabular}{r|lllllll}\n",
       " filename & LVT\\_naive\\_VS\\_infected & LVT\\_naive\\_combo & LVT\\_naive\\_VS\\_BNZ & LVT\\_infected\\_VS\\_combo & LVT\\_infected\\_VS\\_BNZ & LVT\\_combo\\_VS\\_BNZ\\\\\n",
       "\\hline\n",
       "\t X293.211\\_2.933 & 0.010649392      &          NA      &         NA       &        NA        &        NA        &         NA      \\\\\n",
       "\t X440.337\\_2.765 & 0.001149509      &          NA      &         NA       &        NA        &        NA        &         NA      \\\\\n",
       "\t X442.353\\_2.823 & 0.000558494      &          NA      &         NA       &        NA        &        NA        &         NA      \\\\\n",
       "\t X141.091\\_1.54  & 0.053102714      & 0.208798877      & 0.80344116       & 0.7501725        & 0.7216576        & 0.61595990      \\\\\n",
       "\t X203.007\\_0.309 & 0.018875579      & 0.023299365      & 0.09685900       & 0.7501725        & 0.8158305        & 0.62917447      \\\\\n",
       "\t X240.116\\_2.324 & 0.022156935      & 0.001863875      & 0.03993539       & 0.2949793        & 0.8158305        & 0.06622802      \\\\\n",
       "\\end{tabular}\n"
      ],
      "text/markdown": [
       "\n",
       "| filename | LVT_naive_VS_infected | LVT_naive_combo | LVT_naive_VS_BNZ | LVT_infected_VS_combo | LVT_infected_VS_BNZ | LVT_combo_VS_BNZ |\n",
       "|---|---|---|---|---|---|---|\n",
       "| X293.211_2.933 | 0.010649392    |          NA    |         NA     |        NA      |        NA      |         NA     |\n",
       "| X440.337_2.765 | 0.001149509    |          NA    |         NA     |        NA      |        NA      |         NA     |\n",
       "| X442.353_2.823 | 0.000558494    |          NA    |         NA     |        NA      |        NA      |         NA     |\n",
       "| X141.091_1.54  | 0.053102714    | 0.208798877    | 0.80344116     | 0.7501725      | 0.7216576      | 0.61595990     |\n",
       "| X203.007_0.309 | 0.018875579    | 0.023299365    | 0.09685900     | 0.7501725      | 0.8158305      | 0.62917447     |\n",
       "| X240.116_2.324 | 0.022156935    | 0.001863875    | 0.03993539     | 0.2949793      | 0.8158305      | 0.06622802     |\n",
       "\n"
      ],
      "text/plain": [
       "  filename       LVT_naive_VS_infected LVT_naive_combo LVT_naive_VS_BNZ\n",
       "1 X293.211_2.933 0.010649392                    NA             NA      \n",
       "2 X440.337_2.765 0.001149509                    NA             NA      \n",
       "3 X442.353_2.823 0.000558494                    NA             NA      \n",
       "4 X141.091_1.54  0.053102714           0.208798877     0.80344116      \n",
       "5 X203.007_0.309 0.018875579           0.023299365     0.09685900      \n",
       "6 X240.116_2.324 0.022156935           0.001863875     0.03993539      \n",
       "  LVT_infected_VS_combo LVT_infected_VS_BNZ LVT_combo_VS_BNZ\n",
       "1        NA                    NA                   NA      \n",
       "2        NA                    NA                   NA      \n",
       "3        NA                    NA                   NA      \n",
       "4 0.7501725             0.7216576           0.61595990      \n",
       "5 0.7501725             0.8158305           0.62917447      \n",
       "6 0.2949793             0.8158305           0.06622802      "
      ]
     },
     "metadata": {},
     "output_type": "display_data"
    },
    {
     "data": {
      "text/html": [
       "<ol class=list-inline>\n",
       "\t<li>31</li>\n",
       "\t<li>7</li>\n",
       "</ol>\n"
      ],
      "text/latex": [
       "\\begin{enumerate*}\n",
       "\\item 31\n",
       "\\item 7\n",
       "\\end{enumerate*}\n"
      ],
      "text/markdown": [
       "1. 31\n",
       "2. 7\n",
       "\n",
       "\n"
      ],
      "text/plain": [
       "[1] 31  7"
      ]
     },
     "metadata": {},
     "output_type": "display_data"
    }
   ],
   "source": [
    "union_full_list <- full_join(full_join(full_join(full_join(full_join(file_1,file_2,by=\"filename\"\n",
    "                                                                    ),file_3,by=\"filename\"\n",
    "                                                          ),file_4,by=\"filename\"\n",
    "                                                ),file_5,by=\"filename\"\n",
    "                                      ),file_6,by=\"filename\")\n",
    "head(union_full_list)\n",
    "dim(union_full_list)"
   ]
  },
  {
   "cell_type": "code",
   "execution_count": 4,
   "metadata": {},
   "outputs": [],
   "source": [
    "write.csv(union_full_list, \"LVT-wilcox-FDR-pvalue.csv\", row.names = FALSE)"
   ]
  },
  {
   "cell_type": "code",
   "execution_count": null,
   "metadata": {},
   "outputs": [],
   "source": []
  },
  {
   "cell_type": "code",
   "execution_count": null,
   "metadata": {},
   "outputs": [],
   "source": []
  },
  {
   "cell_type": "code",
   "execution_count": null,
   "metadata": {},
   "outputs": [],
   "source": []
  },
  {
   "cell_type": "code",
   "execution_count": null,
   "metadata": {},
   "outputs": [],
   "source": []
  },
  {
   "cell_type": "code",
   "execution_count": null,
   "metadata": {},
   "outputs": [],
   "source": []
  }
 ],
 "metadata": {
  "kernelspec": {
   "display_name": "R",
   "language": "R",
   "name": "ir"
  },
  "language_info": {
   "codemirror_mode": "r",
   "file_extension": ".r",
   "mimetype": "text/x-r-source",
   "name": "R",
   "pygments_lexer": "r",
   "version": "3.6.1"
  }
 },
 "nbformat": 4,
 "nbformat_minor": 2
}
