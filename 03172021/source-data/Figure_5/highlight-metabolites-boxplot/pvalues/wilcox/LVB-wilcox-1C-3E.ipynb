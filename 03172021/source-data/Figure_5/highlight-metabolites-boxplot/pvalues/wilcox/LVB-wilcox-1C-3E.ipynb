{
 "cells": [
  {
   "cell_type": "code",
   "execution_count": null,
   "metadata": {},
   "outputs": [],
   "source": []
  },
  {
   "cell_type": "code",
   "execution_count": 3,
   "metadata": {},
   "outputs": [
    {
     "data": {
      "text/html": [
       "<table>\n",
       "<thead><tr><th scope=col>filename</th><th scope=col>MouseID</th><th scope=col>Treatmentgroup</th><th scope=col>DPI</th><th scope=col>organ</th><th scope=col>well_position</th><th scope=col>plate</th><th scope=col>X440.337_2.765</th><th scope=col>X442.353_2.823</th><th scope=col>X105.07_2.767</th><th scope=col>...</th><th scope=col>X599.241_2.765</th><th scope=col>X604.362_2.948</th><th scope=col>X620.356_2.913</th><th scope=col>X682.363_3.329</th><th scope=col>X682.364_3.313</th><th scope=col>X764.524_3.729</th><th scope=col>X790.38_2.768</th><th scope=col>X792.329_2.764</th><th scope=col>X795.335_2.768</th><th scope=col>X811.309_2.773</th></tr></thead>\n",
       "<tbody>\n",
       "\t<tr><td>X501_Group1A_50dpi_LV_bottom_251_B_A1_P133.mzXML</td><td>501                                             </td><td>Group1A                                         </td><td>50                                              </td><td>LV_bottom                                       </td><td>A1                                              </td><td>P133                                            </td><td>0.000113896                                     </td><td>0.000055500                                     </td><td>0.001584755                                     </td><td>...                                             </td><td>0.000000000                                     </td><td>0.000404034                                     </td><td>0.000180037                                     </td><td>0.000261788                                     </td><td>0                                               </td><td>0                                               </td><td>0.000386374                                     </td><td>0.00e+00                                        </td><td>0.000235094                                     </td><td>0.000036700                                     </td></tr>\n",
       "\t<tr><td>X502_Group1A_50dpi_LV_bottom_252_B_A2_P133.mzXML</td><td>502                                             </td><td>Group1A                                         </td><td>50                                              </td><td>LV_bottom                                       </td><td>A2                                              </td><td>P133                                            </td><td>0.000107264                                     </td><td>0.000105971                                     </td><td>0.001721545                                     </td><td>...                                             </td><td>0.000047400                                     </td><td>0.000796074                                     </td><td>0.000627295                                     </td><td>0.000248807                                     </td><td>0                                               </td><td>0                                               </td><td>0.000593539                                     </td><td>0.00e+00                                        </td><td>0.000292550                                     </td><td>0.000097500                                     </td></tr>\n",
       "\t<tr><td>X503_Group1A_50dpi_LV_bottom_253_B_A3_P133.mzXML</td><td>503                                             </td><td>Group1A                                         </td><td>50                                              </td><td>LV_bottom                                       </td><td>A3                                              </td><td>P133                                            </td><td>0.000187128                                     </td><td>0.000170697                                     </td><td>0.001970934                                     </td><td>...                                             </td><td>0.000000000                                     </td><td>0.000861750                                     </td><td>0.000844686                                     </td><td>0.000229072                                     </td><td>0                                               </td><td>0                                               </td><td>0.000676886                                     </td><td>0.00e+00                                        </td><td>0.000338443                                     </td><td>0.000112702                                     </td></tr>\n",
       "\t<tr><td>X504_Group1A_50dpi_LV_bottom_254_B_A4_P133.mzXML</td><td>504                                             </td><td>Group1A                                         </td><td>50                                              </td><td>LV_bottom                                       </td><td>A4                                              </td><td>P133                                            </td><td>0.000090800                                     </td><td>0.000038700                                     </td><td>0.002576021                                     </td><td>...                                             </td><td>0.000037500                                     </td><td>0.001275162                                     </td><td>0.000758031                                     </td><td>0.000138566                                     </td><td>0                                               </td><td>0                                               </td><td>0.000976447                                     </td><td>0.00e+00                                        </td><td>0.000481799                                     </td><td>0.000118108                                     </td></tr>\n",
       "\t<tr><td>X505_Group1A_50dpi_LV_bottom_255_B_A5_P133.mzXML</td><td>505                                             </td><td>Group1A                                         </td><td>50                                              </td><td>LV_bottom                                       </td><td>A5                                              </td><td>P133                                            </td><td>0.000276728                                     </td><td>0.000378937                                     </td><td>0.002555040                                     </td><td>...                                             </td><td>0.000035000                                     </td><td>0.001028146                                     </td><td>0.000810814                                     </td><td>0.000180128                                     </td><td>0                                               </td><td>0                                               </td><td>0.001030932                                     </td><td>0.00e+00                                        </td><td>0.000434663                                     </td><td>0.000142849                                     </td></tr>\n",
       "\t<tr><td>X506_Group1B_70dpi_LV_bottom_281_B_C7_P133.mzXML</td><td>506                                             </td><td>Group1B                                         </td><td>70                                              </td><td>LV_bottom                                       </td><td>C7                                              </td><td>P133                                            </td><td>0.001409797                                     </td><td>0.001447644                                     </td><td>0.004478549                                     </td><td>...                                             </td><td>0.000217525                                     </td><td>0.001299410                                     </td><td>0.000665475                                     </td><td>0.000153074                                     </td><td>0                                               </td><td>0                                               </td><td>0.002198274                                     </td><td>2.84e-05                                        </td><td>0.000990327                                     </td><td>0.000223318                                     </td></tr>\n",
       "</tbody>\n",
       "</table>\n"
      ],
      "text/latex": [
       "\\begin{tabular}{r|llllllllllllllllllllllllllllllllllllllllllllllllllllllllllllll}\n",
       " filename & MouseID & Treatmentgroup & DPI & organ & well\\_position & plate & X440.337\\_2.765 & X442.353\\_2.823 & X105.07\\_2.767 & ... & X599.241\\_2.765 & X604.362\\_2.948 & X620.356\\_2.913 & X682.363\\_3.329 & X682.364\\_3.313 & X764.524\\_3.729 & X790.38\\_2.768 & X792.329\\_2.764 & X795.335\\_2.768 & X811.309\\_2.773\\\\\n",
       "\\hline\n",
       "\t X501\\_Group1A\\_50dpi\\_LV\\_bottom\\_251\\_B\\_A1\\_P133.mzXML & 501                                                              & Group1A                                                          & 50                                                               & LV\\_bottom                                                      & A1                                                               & P133                                                             & 0.000113896                                                      & 0.000055500                                                      & 0.001584755                                                      & ...                                                              & 0.000000000                                                      & 0.000404034                                                      & 0.000180037                                                      & 0.000261788                                                      & 0                                                                & 0                                                                & 0.000386374                                                      & 0.00e+00                                                         & 0.000235094                                                      & 0.000036700                                                     \\\\\n",
       "\t X502\\_Group1A\\_50dpi\\_LV\\_bottom\\_252\\_B\\_A2\\_P133.mzXML & 502                                                              & Group1A                                                          & 50                                                               & LV\\_bottom                                                      & A2                                                               & P133                                                             & 0.000107264                                                      & 0.000105971                                                      & 0.001721545                                                      & ...                                                              & 0.000047400                                                      & 0.000796074                                                      & 0.000627295                                                      & 0.000248807                                                      & 0                                                                & 0                                                                & 0.000593539                                                      & 0.00e+00                                                         & 0.000292550                                                      & 0.000097500                                                     \\\\\n",
       "\t X503\\_Group1A\\_50dpi\\_LV\\_bottom\\_253\\_B\\_A3\\_P133.mzXML & 503                                                              & Group1A                                                          & 50                                                               & LV\\_bottom                                                      & A3                                                               & P133                                                             & 0.000187128                                                      & 0.000170697                                                      & 0.001970934                                                      & ...                                                              & 0.000000000                                                      & 0.000861750                                                      & 0.000844686                                                      & 0.000229072                                                      & 0                                                                & 0                                                                & 0.000676886                                                      & 0.00e+00                                                         & 0.000338443                                                      & 0.000112702                                                     \\\\\n",
       "\t X504\\_Group1A\\_50dpi\\_LV\\_bottom\\_254\\_B\\_A4\\_P133.mzXML & 504                                                              & Group1A                                                          & 50                                                               & LV\\_bottom                                                      & A4                                                               & P133                                                             & 0.000090800                                                      & 0.000038700                                                      & 0.002576021                                                      & ...                                                              & 0.000037500                                                      & 0.001275162                                                      & 0.000758031                                                      & 0.000138566                                                      & 0                                                                & 0                                                                & 0.000976447                                                      & 0.00e+00                                                         & 0.000481799                                                      & 0.000118108                                                     \\\\\n",
       "\t X505\\_Group1A\\_50dpi\\_LV\\_bottom\\_255\\_B\\_A5\\_P133.mzXML & 505                                                              & Group1A                                                          & 50                                                               & LV\\_bottom                                                      & A5                                                               & P133                                                             & 0.000276728                                                      & 0.000378937                                                      & 0.002555040                                                      & ...                                                              & 0.000035000                                                      & 0.001028146                                                      & 0.000810814                                                      & 0.000180128                                                      & 0                                                                & 0                                                                & 0.001030932                                                      & 0.00e+00                                                         & 0.000434663                                                      & 0.000142849                                                     \\\\\n",
       "\t X506\\_Group1B\\_70dpi\\_LV\\_bottom\\_281\\_B\\_C7\\_P133.mzXML & 506                                                              & Group1B                                                          & 70                                                               & LV\\_bottom                                                      & C7                                                               & P133                                                             & 0.001409797                                                      & 0.001447644                                                      & 0.004478549                                                      & ...                                                              & 0.000217525                                                      & 0.001299410                                                      & 0.000665475                                                      & 0.000153074                                                      & 0                                                                & 0                                                                & 0.002198274                                                      & 2.84e-05                                                         & 0.000990327                                                      & 0.000223318                                                     \\\\\n",
       "\\end{tabular}\n"
      ],
      "text/markdown": [
       "\n",
       "| filename | MouseID | Treatmentgroup | DPI | organ | well_position | plate | X440.337_2.765 | X442.353_2.823 | X105.07_2.767 | ... | X599.241_2.765 | X604.362_2.948 | X620.356_2.913 | X682.363_3.329 | X682.364_3.313 | X764.524_3.729 | X790.38_2.768 | X792.329_2.764 | X795.335_2.768 | X811.309_2.773 |\n",
       "|---|---|---|---|---|---|---|---|---|---|---|---|---|---|---|---|---|---|---|---|---|\n",
       "| X501_Group1A_50dpi_LV_bottom_251_B_A1_P133.mzXML | 501                                              | Group1A                                          | 50                                               | LV_bottom                                        | A1                                               | P133                                             | 0.000113896                                      | 0.000055500                                      | 0.001584755                                      | ...                                              | 0.000000000                                      | 0.000404034                                      | 0.000180037                                      | 0.000261788                                      | 0                                                | 0                                                | 0.000386374                                      | 0.00e+00                                         | 0.000235094                                      | 0.000036700                                      |\n",
       "| X502_Group1A_50dpi_LV_bottom_252_B_A2_P133.mzXML | 502                                              | Group1A                                          | 50                                               | LV_bottom                                        | A2                                               | P133                                             | 0.000107264                                      | 0.000105971                                      | 0.001721545                                      | ...                                              | 0.000047400                                      | 0.000796074                                      | 0.000627295                                      | 0.000248807                                      | 0                                                | 0                                                | 0.000593539                                      | 0.00e+00                                         | 0.000292550                                      | 0.000097500                                      |\n",
       "| X503_Group1A_50dpi_LV_bottom_253_B_A3_P133.mzXML | 503                                              | Group1A                                          | 50                                               | LV_bottom                                        | A3                                               | P133                                             | 0.000187128                                      | 0.000170697                                      | 0.001970934                                      | ...                                              | 0.000000000                                      | 0.000861750                                      | 0.000844686                                      | 0.000229072                                      | 0                                                | 0                                                | 0.000676886                                      | 0.00e+00                                         | 0.000338443                                      | 0.000112702                                      |\n",
       "| X504_Group1A_50dpi_LV_bottom_254_B_A4_P133.mzXML | 504                                              | Group1A                                          | 50                                               | LV_bottom                                        | A4                                               | P133                                             | 0.000090800                                      | 0.000038700                                      | 0.002576021                                      | ...                                              | 0.000037500                                      | 0.001275162                                      | 0.000758031                                      | 0.000138566                                      | 0                                                | 0                                                | 0.000976447                                      | 0.00e+00                                         | 0.000481799                                      | 0.000118108                                      |\n",
       "| X505_Group1A_50dpi_LV_bottom_255_B_A5_P133.mzXML | 505                                              | Group1A                                          | 50                                               | LV_bottom                                        | A5                                               | P133                                             | 0.000276728                                      | 0.000378937                                      | 0.002555040                                      | ...                                              | 0.000035000                                      | 0.001028146                                      | 0.000810814                                      | 0.000180128                                      | 0                                                | 0                                                | 0.001030932                                      | 0.00e+00                                         | 0.000434663                                      | 0.000142849                                      |\n",
       "| X506_Group1B_70dpi_LV_bottom_281_B_C7_P133.mzXML | 506                                              | Group1B                                          | 70                                               | LV_bottom                                        | C7                                               | P133                                             | 0.001409797                                      | 0.001447644                                      | 0.004478549                                      | ...                                              | 0.000217525                                      | 0.001299410                                      | 0.000665475                                      | 0.000153074                                      | 0                                                | 0                                                | 0.002198274                                      | 2.84e-05                                         | 0.000990327                                      | 0.000223318                                      |\n",
       "\n"
      ],
      "text/plain": [
       "  filename                                         MouseID Treatmentgroup DPI\n",
       "1 X501_Group1A_50dpi_LV_bottom_251_B_A1_P133.mzXML 501     Group1A        50 \n",
       "2 X502_Group1A_50dpi_LV_bottom_252_B_A2_P133.mzXML 502     Group1A        50 \n",
       "3 X503_Group1A_50dpi_LV_bottom_253_B_A3_P133.mzXML 503     Group1A        50 \n",
       "4 X504_Group1A_50dpi_LV_bottom_254_B_A4_P133.mzXML 504     Group1A        50 \n",
       "5 X505_Group1A_50dpi_LV_bottom_255_B_A5_P133.mzXML 505     Group1A        50 \n",
       "6 X506_Group1B_70dpi_LV_bottom_281_B_C7_P133.mzXML 506     Group1B        70 \n",
       "  organ     well_position plate X440.337_2.765 X442.353_2.823 X105.07_2.767 ...\n",
       "1 LV_bottom A1            P133  0.000113896    0.000055500    0.001584755   ...\n",
       "2 LV_bottom A2            P133  0.000107264    0.000105971    0.001721545   ...\n",
       "3 LV_bottom A3            P133  0.000187128    0.000170697    0.001970934   ...\n",
       "4 LV_bottom A4            P133  0.000090800    0.000038700    0.002576021   ...\n",
       "5 LV_bottom A5            P133  0.000276728    0.000378937    0.002555040   ...\n",
       "6 LV_bottom C7            P133  0.001409797    0.001447644    0.004478549   ...\n",
       "  X599.241_2.765 X604.362_2.948 X620.356_2.913 X682.363_3.329 X682.364_3.313\n",
       "1 0.000000000    0.000404034    0.000180037    0.000261788    0             \n",
       "2 0.000047400    0.000796074    0.000627295    0.000248807    0             \n",
       "3 0.000000000    0.000861750    0.000844686    0.000229072    0             \n",
       "4 0.000037500    0.001275162    0.000758031    0.000138566    0             \n",
       "5 0.000035000    0.001028146    0.000810814    0.000180128    0             \n",
       "6 0.000217525    0.001299410    0.000665475    0.000153074    0             \n",
       "  X764.524_3.729 X790.38_2.768 X792.329_2.764 X795.335_2.768 X811.309_2.773\n",
       "1 0              0.000386374   0.00e+00       0.000235094    0.000036700   \n",
       "2 0              0.000593539   0.00e+00       0.000292550    0.000097500   \n",
       "3 0              0.000676886   0.00e+00       0.000338443    0.000112702   \n",
       "4 0              0.000976447   0.00e+00       0.000481799    0.000118108   \n",
       "5 0              0.001030932   0.00e+00       0.000434663    0.000142849   \n",
       "6 0              0.002198274   2.84e-05       0.000990327    0.000223318   "
      ]
     },
     "metadata": {},
     "output_type": "display_data"
    },
    {
     "data": {
      "text/html": [
       "<ol class=list-inline>\n",
       "\t<li>90</li>\n",
       "\t<li>62</li>\n",
       "</ol>\n"
      ],
      "text/latex": [
       "\\begin{enumerate*}\n",
       "\\item 90\n",
       "\\item 62\n",
       "\\end{enumerate*}\n"
      ],
      "text/markdown": [
       "1. 90\n",
       "2. 62\n",
       "\n",
       "\n"
      ],
      "text/plain": [
       "[1] 90 62"
      ]
     },
     "metadata": {},
     "output_type": "display_data"
    }
   ],
   "source": [
    "a <- read.csv(\"LVB-M-F-final-fix.csv\")\n",
    "head(a)\n",
    "dim(a)"
   ]
  },
  {
   "cell_type": "code",
   "execution_count": 4,
   "metadata": {},
   "outputs": [
    {
     "data": {
      "text/html": [
       "<table>\n",
       "<thead><tr><th></th><th scope=col>filename</th><th scope=col>MouseID</th><th scope=col>Treatmentgroup</th><th scope=col>DPI</th><th scope=col>organ</th><th scope=col>well_position</th><th scope=col>plate</th><th scope=col>X440.337_2.765</th><th scope=col>X442.353_2.823</th><th scope=col>X105.07_2.767</th><th scope=col>...</th><th scope=col>X599.241_2.765</th><th scope=col>X604.362_2.948</th><th scope=col>X620.356_2.913</th><th scope=col>X682.363_3.329</th><th scope=col>X682.364_3.313</th><th scope=col>X764.524_3.729</th><th scope=col>X790.38_2.768</th><th scope=col>X792.329_2.764</th><th scope=col>X795.335_2.768</th><th scope=col>X811.309_2.773</th></tr></thead>\n",
       "<tbody>\n",
       "\t<tr><th scope=row>11</th><td>X511_Group1C_142dpi_LV_bottom_161_G_A1_P132.mzXML</td><td>511                                              </td><td>Group1C                                          </td><td>142                                              </td><td>LV_bottom                                        </td><td>A1                                               </td><td>P132                                             </td><td>3.07e-05                                         </td><td>0                                                </td><td>0.001681762                                      </td><td>...                                              </td><td>0.000000000                                      </td><td>0.001281931                                      </td><td>0.000659514                                      </td><td>0.000320160                                      </td><td>0                                                </td><td>0                                                </td><td>0.000370969                                      </td><td>0.00e+00                                         </td><td>0.000245626                                      </td><td>0.000038000                                      </td></tr>\n",
       "\t<tr><th scope=row>12</th><td>X512_Group1C_142dpi_LV_bottom_162_G_A2_P132.mzXML</td><td>512                                              </td><td>Group1C                                          </td><td>142                                              </td><td>LV_bottom                                        </td><td>A2                                               </td><td>P132                                             </td><td>0.00e+00                                         </td><td>0                                                </td><td>0.001668227                                      </td><td>...                                              </td><td>0.000050000                                      </td><td>0.000671298                                      </td><td>0.000483435                                      </td><td>0.000179208                                      </td><td>0                                                </td><td>0                                                </td><td>0.000586134                                      </td><td>0.00e+00                                         </td><td>0.000211682                                      </td><td>0.000020900                                      </td></tr>\n",
       "\t<tr><th scope=row>13</th><td>X513_Group1C_142dpi_LV_bottom_163_G_A3_P132.mzXML</td><td>513                                              </td><td>Group1C                                          </td><td>142                                              </td><td>LV_bottom                                        </td><td>A3                                               </td><td>P132                                             </td><td>0.00e+00                                         </td><td>0                                                </td><td>0.002195508                                      </td><td>...                                              </td><td>0.000082900                                      </td><td>0.000706708                                      </td><td>0.000317234                                      </td><td>0.000099800                                      </td><td>0                                                </td><td>0                                                </td><td>0.001133874                                      </td><td>0.00e+00                                         </td><td>0.000741259                                      </td><td>0.000095300                                      </td></tr>\n",
       "\t<tr><th scope=row>14</th><td>X514_Group1C_142dpi_LV_bottom_164_G_A4_P132.mzXML</td><td>514                                              </td><td>Group1C                                          </td><td>142                                              </td><td>LV_bottom                                        </td><td>A4                                               </td><td>P132                                             </td><td>0.00e+00                                         </td><td>0                                                </td><td>0.003006615                                      </td><td>...                                              </td><td>0.000099100                                      </td><td>0.000930076                                      </td><td>0.000245202                                      </td><td>0.000234970                                      </td><td>0                                                </td><td>0                                                </td><td>0.001150258                                      </td><td>0.00e+00                                         </td><td>0.000713691                                      </td><td>0.000174109                                      </td></tr>\n",
       "\t<tr><th scope=row>15</th><td>X515_Group1C_142dpi_LV_bottom_165_G_A5_P132.mzXML</td><td>515                                              </td><td>Group1C                                          </td><td>142                                              </td><td>LV_bottom                                        </td><td>A5                                               </td><td>P132                                             </td><td>2.93e-05                                         </td><td>0                                                </td><td>0.002858430                                      </td><td>...                                              </td><td>0.000178807                                      </td><td>0.000744165                                      </td><td>0.000302164                                      </td><td>0.000251297                                      </td><td>0                                                </td><td>0                                                </td><td>0.001161454                                      </td><td>4.09e-05                                         </td><td>0.000765030                                      </td><td>0.000136971                                      </td></tr>\n",
       "\t<tr><th scope=row>26</th><td>X531_Group1C_142dpi_LV_bottom_166_G_A6_P132.mzXML</td><td>531                                              </td><td>Group1C                                          </td><td>142                                              </td><td>LV_bottom                                        </td><td>A6                                               </td><td>P132                                             </td><td>0.00e+00                                         </td><td>0                                                </td><td>0.003596194                                      </td><td>...                                              </td><td>0.000280413                                      </td><td>0.000626765                                      </td><td>0.000345920                                      </td><td>0.000112422                                      </td><td>0                                                </td><td>0                                                </td><td>0.001883720                                      </td><td>8.53e-05                                         </td><td>0.001150782                                      </td><td>0.000161828                                      </td></tr>\n",
       "</tbody>\n",
       "</table>\n"
      ],
      "text/latex": [
       "\\begin{tabular}{r|llllllllllllllllllllllllllllllllllllllllllllllllllllllllllllll}\n",
       "  & filename & MouseID & Treatmentgroup & DPI & organ & well\\_position & plate & X440.337\\_2.765 & X442.353\\_2.823 & X105.07\\_2.767 & ... & X599.241\\_2.765 & X604.362\\_2.948 & X620.356\\_2.913 & X682.363\\_3.329 & X682.364\\_3.313 & X764.524\\_3.729 & X790.38\\_2.768 & X792.329\\_2.764 & X795.335\\_2.768 & X811.309\\_2.773\\\\\n",
       "\\hline\n",
       "\t11 & X511\\_Group1C\\_142dpi\\_LV\\_bottom\\_161\\_G\\_A1\\_P132.mzXML & 511                                                               & Group1C                                                           & 142                                                               & LV\\_bottom                                                       & A1                                                                & P132                                                              & 3.07e-05                                                          & 0                                                                 & 0.001681762                                                       & ...                                                               & 0.000000000                                                       & 0.001281931                                                       & 0.000659514                                                       & 0.000320160                                                       & 0                                                                 & 0                                                                 & 0.000370969                                                       & 0.00e+00                                                          & 0.000245626                                                       & 0.000038000                                                      \\\\\n",
       "\t12 & X512\\_Group1C\\_142dpi\\_LV\\_bottom\\_162\\_G\\_A2\\_P132.mzXML & 512                                                               & Group1C                                                           & 142                                                               & LV\\_bottom                                                       & A2                                                                & P132                                                              & 0.00e+00                                                          & 0                                                                 & 0.001668227                                                       & ...                                                               & 0.000050000                                                       & 0.000671298                                                       & 0.000483435                                                       & 0.000179208                                                       & 0                                                                 & 0                                                                 & 0.000586134                                                       & 0.00e+00                                                          & 0.000211682                                                       & 0.000020900                                                      \\\\\n",
       "\t13 & X513\\_Group1C\\_142dpi\\_LV\\_bottom\\_163\\_G\\_A3\\_P132.mzXML & 513                                                               & Group1C                                                           & 142                                                               & LV\\_bottom                                                       & A3                                                                & P132                                                              & 0.00e+00                                                          & 0                                                                 & 0.002195508                                                       & ...                                                               & 0.000082900                                                       & 0.000706708                                                       & 0.000317234                                                       & 0.000099800                                                       & 0                                                                 & 0                                                                 & 0.001133874                                                       & 0.00e+00                                                          & 0.000741259                                                       & 0.000095300                                                      \\\\\n",
       "\t14 & X514\\_Group1C\\_142dpi\\_LV\\_bottom\\_164\\_G\\_A4\\_P132.mzXML & 514                                                               & Group1C                                                           & 142                                                               & LV\\_bottom                                                       & A4                                                                & P132                                                              & 0.00e+00                                                          & 0                                                                 & 0.003006615                                                       & ...                                                               & 0.000099100                                                       & 0.000930076                                                       & 0.000245202                                                       & 0.000234970                                                       & 0                                                                 & 0                                                                 & 0.001150258                                                       & 0.00e+00                                                          & 0.000713691                                                       & 0.000174109                                                      \\\\\n",
       "\t15 & X515\\_Group1C\\_142dpi\\_LV\\_bottom\\_165\\_G\\_A5\\_P132.mzXML & 515                                                               & Group1C                                                           & 142                                                               & LV\\_bottom                                                       & A5                                                                & P132                                                              & 2.93e-05                                                          & 0                                                                 & 0.002858430                                                       & ...                                                               & 0.000178807                                                       & 0.000744165                                                       & 0.000302164                                                       & 0.000251297                                                       & 0                                                                 & 0                                                                 & 0.001161454                                                       & 4.09e-05                                                          & 0.000765030                                                       & 0.000136971                                                      \\\\\n",
       "\t26 & X531\\_Group1C\\_142dpi\\_LV\\_bottom\\_166\\_G\\_A6\\_P132.mzXML & 531                                                               & Group1C                                                           & 142                                                               & LV\\_bottom                                                       & A6                                                                & P132                                                              & 0.00e+00                                                          & 0                                                                 & 0.003596194                                                       & ...                                                               & 0.000280413                                                       & 0.000626765                                                       & 0.000345920                                                       & 0.000112422                                                       & 0                                                                 & 0                                                                 & 0.001883720                                                       & 8.53e-05                                                          & 0.001150782                                                       & 0.000161828                                                      \\\\\n",
       "\\end{tabular}\n"
      ],
      "text/markdown": [
       "\n",
       "| <!--/--> | filename | MouseID | Treatmentgroup | DPI | organ | well_position | plate | X440.337_2.765 | X442.353_2.823 | X105.07_2.767 | ... | X599.241_2.765 | X604.362_2.948 | X620.356_2.913 | X682.363_3.329 | X682.364_3.313 | X764.524_3.729 | X790.38_2.768 | X792.329_2.764 | X795.335_2.768 | X811.309_2.773 |\n",
       "|---|---|---|---|---|---|---|---|---|---|---|---|---|---|---|---|---|---|---|---|---|---|\n",
       "| 11 | X511_Group1C_142dpi_LV_bottom_161_G_A1_P132.mzXML | 511                                               | Group1C                                           | 142                                               | LV_bottom                                         | A1                                                | P132                                              | 3.07e-05                                          | 0                                                 | 0.001681762                                       | ...                                               | 0.000000000                                       | 0.001281931                                       | 0.000659514                                       | 0.000320160                                       | 0                                                 | 0                                                 | 0.000370969                                       | 0.00e+00                                          | 0.000245626                                       | 0.000038000                                       |\n",
       "| 12 | X512_Group1C_142dpi_LV_bottom_162_G_A2_P132.mzXML | 512                                               | Group1C                                           | 142                                               | LV_bottom                                         | A2                                                | P132                                              | 0.00e+00                                          | 0                                                 | 0.001668227                                       | ...                                               | 0.000050000                                       | 0.000671298                                       | 0.000483435                                       | 0.000179208                                       | 0                                                 | 0                                                 | 0.000586134                                       | 0.00e+00                                          | 0.000211682                                       | 0.000020900                                       |\n",
       "| 13 | X513_Group1C_142dpi_LV_bottom_163_G_A3_P132.mzXML | 513                                               | Group1C                                           | 142                                               | LV_bottom                                         | A3                                                | P132                                              | 0.00e+00                                          | 0                                                 | 0.002195508                                       | ...                                               | 0.000082900                                       | 0.000706708                                       | 0.000317234                                       | 0.000099800                                       | 0                                                 | 0                                                 | 0.001133874                                       | 0.00e+00                                          | 0.000741259                                       | 0.000095300                                       |\n",
       "| 14 | X514_Group1C_142dpi_LV_bottom_164_G_A4_P132.mzXML | 514                                               | Group1C                                           | 142                                               | LV_bottom                                         | A4                                                | P132                                              | 0.00e+00                                          | 0                                                 | 0.003006615                                       | ...                                               | 0.000099100                                       | 0.000930076                                       | 0.000245202                                       | 0.000234970                                       | 0                                                 | 0                                                 | 0.001150258                                       | 0.00e+00                                          | 0.000713691                                       | 0.000174109                                       |\n",
       "| 15 | X515_Group1C_142dpi_LV_bottom_165_G_A5_P132.mzXML | 515                                               | Group1C                                           | 142                                               | LV_bottom                                         | A5                                                | P132                                              | 2.93e-05                                          | 0                                                 | 0.002858430                                       | ...                                               | 0.000178807                                       | 0.000744165                                       | 0.000302164                                       | 0.000251297                                       | 0                                                 | 0                                                 | 0.001161454                                       | 4.09e-05                                          | 0.000765030                                       | 0.000136971                                       |\n",
       "| 26 | X531_Group1C_142dpi_LV_bottom_166_G_A6_P132.mzXML | 531                                               | Group1C                                           | 142                                               | LV_bottom                                         | A6                                                | P132                                              | 0.00e+00                                          | 0                                                 | 0.003596194                                       | ...                                               | 0.000280413                                       | 0.000626765                                       | 0.000345920                                       | 0.000112422                                       | 0                                                 | 0                                                 | 0.001883720                                       | 8.53e-05                                          | 0.001150782                                       | 0.000161828                                       |\n",
       "\n"
      ],
      "text/plain": [
       "   filename                                          MouseID Treatmentgroup DPI\n",
       "11 X511_Group1C_142dpi_LV_bottom_161_G_A1_P132.mzXML 511     Group1C        142\n",
       "12 X512_Group1C_142dpi_LV_bottom_162_G_A2_P132.mzXML 512     Group1C        142\n",
       "13 X513_Group1C_142dpi_LV_bottom_163_G_A3_P132.mzXML 513     Group1C        142\n",
       "14 X514_Group1C_142dpi_LV_bottom_164_G_A4_P132.mzXML 514     Group1C        142\n",
       "15 X515_Group1C_142dpi_LV_bottom_165_G_A5_P132.mzXML 515     Group1C        142\n",
       "26 X531_Group1C_142dpi_LV_bottom_166_G_A6_P132.mzXML 531     Group1C        142\n",
       "   organ     well_position plate X440.337_2.765 X442.353_2.823 X105.07_2.767\n",
       "11 LV_bottom A1            P132  3.07e-05       0              0.001681762  \n",
       "12 LV_bottom A2            P132  0.00e+00       0              0.001668227  \n",
       "13 LV_bottom A3            P132  0.00e+00       0              0.002195508  \n",
       "14 LV_bottom A4            P132  0.00e+00       0              0.003006615  \n",
       "15 LV_bottom A5            P132  2.93e-05       0              0.002858430  \n",
       "26 LV_bottom A6            P132  0.00e+00       0              0.003596194  \n",
       "   ... X599.241_2.765 X604.362_2.948 X620.356_2.913 X682.363_3.329\n",
       "11 ... 0.000000000    0.001281931    0.000659514    0.000320160   \n",
       "12 ... 0.000050000    0.000671298    0.000483435    0.000179208   \n",
       "13 ... 0.000082900    0.000706708    0.000317234    0.000099800   \n",
       "14 ... 0.000099100    0.000930076    0.000245202    0.000234970   \n",
       "15 ... 0.000178807    0.000744165    0.000302164    0.000251297   \n",
       "26 ... 0.000280413    0.000626765    0.000345920    0.000112422   \n",
       "   X682.364_3.313 X764.524_3.729 X790.38_2.768 X792.329_2.764 X795.335_2.768\n",
       "11 0              0              0.000370969   0.00e+00       0.000245626   \n",
       "12 0              0              0.000586134   0.00e+00       0.000211682   \n",
       "13 0              0              0.001133874   0.00e+00       0.000741259   \n",
       "14 0              0              0.001150258   0.00e+00       0.000713691   \n",
       "15 0              0              0.001161454   4.09e-05       0.000765030   \n",
       "26 0              0              0.001883720   8.53e-05       0.001150782   \n",
       "   X811.309_2.773\n",
       "11 0.000038000   \n",
       "12 0.000020900   \n",
       "13 0.000095300   \n",
       "14 0.000174109   \n",
       "15 0.000136971   \n",
       "26 0.000161828   "
      ]
     },
     "metadata": {},
     "output_type": "display_data"
    },
    {
     "data": {
      "text/html": [
       "<ol class=list-inline>\n",
       "\t<li>30</li>\n",
       "\t<li>62</li>\n",
       "</ol>\n"
      ],
      "text/latex": [
       "\\begin{enumerate*}\n",
       "\\item 30\n",
       "\\item 62\n",
       "\\end{enumerate*}\n"
      ],
      "text/markdown": [
       "1. 30\n",
       "2. 62\n",
       "\n",
       "\n"
      ],
      "text/plain": [
       "[1] 30 62"
      ]
     },
     "metadata": {},
     "output_type": "display_data"
    }
   ],
   "source": [
    "# choose the group want to use\n",
    "features_pos<-droplevels(subset(a, a$Treatmentgroup==c(\"Group3E\")|a$Treatmentgroup==c(\"Group1C\")))\n",
    "head(features_pos)\n",
    "dim(features_pos)"
   ]
  },
  {
   "cell_type": "code",
   "execution_count": 5,
   "metadata": {
    "scrolled": false
   },
   "outputs": [
    {
     "data": {
      "text/html": [
       "<table>\n",
       "<thead><tr><th></th><th scope=col>X440.337_2.765</th><th scope=col>X442.353_2.823</th><th scope=col>X105.07_2.767</th><th scope=col>X119.049_2.765</th><th scope=col>X128.018_0.344</th><th scope=col>X136.062_0.301</th><th scope=col>X136.097_0.551</th><th scope=col>X137.046_0.31</th><th scope=col>X137.046_0.42</th><th scope=col>X203.007_0.309</th><th scope=col>...</th><th scope=col>X599.241_2.765</th><th scope=col>X604.362_2.948</th><th scope=col>X620.356_2.913</th><th scope=col>X682.363_3.329</th><th scope=col>X682.364_3.313</th><th scope=col>X764.524_3.729</th><th scope=col>X790.38_2.768</th><th scope=col>X792.329_2.764</th><th scope=col>X795.335_2.768</th><th scope=col>X811.309_2.773</th></tr></thead>\n",
       "<tbody>\n",
       "\t<tr><th scope=row>11</th><td>3.07e-05   </td><td>0          </td><td>0.001681762</td><td>0.000000000</td><td>0          </td><td>0.001018126</td><td>0          </td><td>0.016982498</td><td>0.015622250</td><td>0.000289195</td><td>...        </td><td>0.000000000</td><td>0.001281931</td><td>0.000659514</td><td>0.000320160</td><td>0          </td><td>0          </td><td>0.000370969</td><td>0.00e+00   </td><td>0.000245626</td><td>0.000038000</td></tr>\n",
       "\t<tr><th scope=row>12</th><td>0.00e+00   </td><td>0          </td><td>0.001668227</td><td>0.000020400</td><td>0          </td><td>0.000295572</td><td>0          </td><td>0.005836288</td><td>0.007990455</td><td>0.000021600</td><td>...        </td><td>0.000050000</td><td>0.000671298</td><td>0.000483435</td><td>0.000179208</td><td>0          </td><td>0          </td><td>0.000586134</td><td>0.00e+00   </td><td>0.000211682</td><td>0.000020900</td></tr>\n",
       "\t<tr><th scope=row>13</th><td>0.00e+00   </td><td>0          </td><td>0.002195508</td><td>0.000000000</td><td>0          </td><td>0.000332938</td><td>0          </td><td>0.011181699</td><td>0.010145193</td><td>0.000217687</td><td>...        </td><td>0.000082900</td><td>0.000706708</td><td>0.000317234</td><td>0.000099800</td><td>0          </td><td>0          </td><td>0.001133874</td><td>0.00e+00   </td><td>0.000741259</td><td>0.000095300</td></tr>\n",
       "\t<tr><th scope=row>14</th><td>0.00e+00   </td><td>0          </td><td>0.003006615</td><td>0.000063800</td><td>0          </td><td>0.001047760</td><td>0          </td><td>0.013286807</td><td>0.020423720</td><td>0.000315510</td><td>...        </td><td>0.000099100</td><td>0.000930076</td><td>0.000245202</td><td>0.000234970</td><td>0          </td><td>0          </td><td>0.001150258</td><td>0.00e+00   </td><td>0.000713691</td><td>0.000174109</td></tr>\n",
       "\t<tr><th scope=row>15</th><td>2.93e-05   </td><td>0          </td><td>0.002858430</td><td>0.000000000</td><td>0          </td><td>0.000740688</td><td>0          </td><td>0.015404920</td><td>0.010467000</td><td>0.000335517</td><td>...        </td><td>0.000178807</td><td>0.000744165</td><td>0.000302164</td><td>0.000251297</td><td>0          </td><td>0          </td><td>0.001161454</td><td>4.09e-05   </td><td>0.000765030</td><td>0.000136971</td></tr>\n",
       "\t<tr><th scope=row>26</th><td>0.00e+00   </td><td>0          </td><td>0.003596194</td><td>0.000107639</td><td>0          </td><td>0.000763763</td><td>0          </td><td>0.012398305</td><td>0.009521351</td><td>0.000207325</td><td>...        </td><td>0.000280413</td><td>0.000626765</td><td>0.000345920</td><td>0.000112422</td><td>0          </td><td>0          </td><td>0.001883720</td><td>8.53e-05   </td><td>0.001150782</td><td>0.000161828</td></tr>\n",
       "</tbody>\n",
       "</table>\n"
      ],
      "text/latex": [
       "\\begin{tabular}{r|lllllllllllllllllllllllllllllllllllllllllllllllllllllll}\n",
       "  & X440.337\\_2.765 & X442.353\\_2.823 & X105.07\\_2.767 & X119.049\\_2.765 & X128.018\\_0.344 & X136.062\\_0.301 & X136.097\\_0.551 & X137.046\\_0.31 & X137.046\\_0.42 & X203.007\\_0.309 & ... & X599.241\\_2.765 & X604.362\\_2.948 & X620.356\\_2.913 & X682.363\\_3.329 & X682.364\\_3.313 & X764.524\\_3.729 & X790.38\\_2.768 & X792.329\\_2.764 & X795.335\\_2.768 & X811.309\\_2.773\\\\\n",
       "\\hline\n",
       "\t11 & 3.07e-05    & 0           & 0.001681762 & 0.000000000 & 0           & 0.001018126 & 0           & 0.016982498 & 0.015622250 & 0.000289195 & ...         & 0.000000000 & 0.001281931 & 0.000659514 & 0.000320160 & 0           & 0           & 0.000370969 & 0.00e+00    & 0.000245626 & 0.000038000\\\\\n",
       "\t12 & 0.00e+00    & 0           & 0.001668227 & 0.000020400 & 0           & 0.000295572 & 0           & 0.005836288 & 0.007990455 & 0.000021600 & ...         & 0.000050000 & 0.000671298 & 0.000483435 & 0.000179208 & 0           & 0           & 0.000586134 & 0.00e+00    & 0.000211682 & 0.000020900\\\\\n",
       "\t13 & 0.00e+00    & 0           & 0.002195508 & 0.000000000 & 0           & 0.000332938 & 0           & 0.011181699 & 0.010145193 & 0.000217687 & ...         & 0.000082900 & 0.000706708 & 0.000317234 & 0.000099800 & 0           & 0           & 0.001133874 & 0.00e+00    & 0.000741259 & 0.000095300\\\\\n",
       "\t14 & 0.00e+00    & 0           & 0.003006615 & 0.000063800 & 0           & 0.001047760 & 0           & 0.013286807 & 0.020423720 & 0.000315510 & ...         & 0.000099100 & 0.000930076 & 0.000245202 & 0.000234970 & 0           & 0           & 0.001150258 & 0.00e+00    & 0.000713691 & 0.000174109\\\\\n",
       "\t15 & 2.93e-05    & 0           & 0.002858430 & 0.000000000 & 0           & 0.000740688 & 0           & 0.015404920 & 0.010467000 & 0.000335517 & ...         & 0.000178807 & 0.000744165 & 0.000302164 & 0.000251297 & 0           & 0           & 0.001161454 & 4.09e-05    & 0.000765030 & 0.000136971\\\\\n",
       "\t26 & 0.00e+00    & 0           & 0.003596194 & 0.000107639 & 0           & 0.000763763 & 0           & 0.012398305 & 0.009521351 & 0.000207325 & ...         & 0.000280413 & 0.000626765 & 0.000345920 & 0.000112422 & 0           & 0           & 0.001883720 & 8.53e-05    & 0.001150782 & 0.000161828\\\\\n",
       "\\end{tabular}\n"
      ],
      "text/markdown": [
       "\n",
       "| <!--/--> | X440.337_2.765 | X442.353_2.823 | X105.07_2.767 | X119.049_2.765 | X128.018_0.344 | X136.062_0.301 | X136.097_0.551 | X137.046_0.31 | X137.046_0.42 | X203.007_0.309 | ... | X599.241_2.765 | X604.362_2.948 | X620.356_2.913 | X682.363_3.329 | X682.364_3.313 | X764.524_3.729 | X790.38_2.768 | X792.329_2.764 | X795.335_2.768 | X811.309_2.773 |\n",
       "|---|---|---|---|---|---|---|---|---|---|---|---|---|---|---|---|---|---|---|---|---|---|\n",
       "| 11 | 3.07e-05    | 0           | 0.001681762 | 0.000000000 | 0           | 0.001018126 | 0           | 0.016982498 | 0.015622250 | 0.000289195 | ...         | 0.000000000 | 0.001281931 | 0.000659514 | 0.000320160 | 0           | 0           | 0.000370969 | 0.00e+00    | 0.000245626 | 0.000038000 |\n",
       "| 12 | 0.00e+00    | 0           | 0.001668227 | 0.000020400 | 0           | 0.000295572 | 0           | 0.005836288 | 0.007990455 | 0.000021600 | ...         | 0.000050000 | 0.000671298 | 0.000483435 | 0.000179208 | 0           | 0           | 0.000586134 | 0.00e+00    | 0.000211682 | 0.000020900 |\n",
       "| 13 | 0.00e+00    | 0           | 0.002195508 | 0.000000000 | 0           | 0.000332938 | 0           | 0.011181699 | 0.010145193 | 0.000217687 | ...         | 0.000082900 | 0.000706708 | 0.000317234 | 0.000099800 | 0           | 0           | 0.001133874 | 0.00e+00    | 0.000741259 | 0.000095300 |\n",
       "| 14 | 0.00e+00    | 0           | 0.003006615 | 0.000063800 | 0           | 0.001047760 | 0           | 0.013286807 | 0.020423720 | 0.000315510 | ...         | 0.000099100 | 0.000930076 | 0.000245202 | 0.000234970 | 0           | 0           | 0.001150258 | 0.00e+00    | 0.000713691 | 0.000174109 |\n",
       "| 15 | 2.93e-05    | 0           | 0.002858430 | 0.000000000 | 0           | 0.000740688 | 0           | 0.015404920 | 0.010467000 | 0.000335517 | ...         | 0.000178807 | 0.000744165 | 0.000302164 | 0.000251297 | 0           | 0           | 0.001161454 | 4.09e-05    | 0.000765030 | 0.000136971 |\n",
       "| 26 | 0.00e+00    | 0           | 0.003596194 | 0.000107639 | 0           | 0.000763763 | 0           | 0.012398305 | 0.009521351 | 0.000207325 | ...         | 0.000280413 | 0.000626765 | 0.000345920 | 0.000112422 | 0           | 0           | 0.001883720 | 8.53e-05    | 0.001150782 | 0.000161828 |\n",
       "\n"
      ],
      "text/plain": [
       "   X440.337_2.765 X442.353_2.823 X105.07_2.767 X119.049_2.765 X128.018_0.344\n",
       "11 3.07e-05       0              0.001681762   0.000000000    0             \n",
       "12 0.00e+00       0              0.001668227   0.000020400    0             \n",
       "13 0.00e+00       0              0.002195508   0.000000000    0             \n",
       "14 0.00e+00       0              0.003006615   0.000063800    0             \n",
       "15 2.93e-05       0              0.002858430   0.000000000    0             \n",
       "26 0.00e+00       0              0.003596194   0.000107639    0             \n",
       "   X136.062_0.301 X136.097_0.551 X137.046_0.31 X137.046_0.42 X203.007_0.309 ...\n",
       "11 0.001018126    0              0.016982498   0.015622250   0.000289195    ...\n",
       "12 0.000295572    0              0.005836288   0.007990455   0.000021600    ...\n",
       "13 0.000332938    0              0.011181699   0.010145193   0.000217687    ...\n",
       "14 0.001047760    0              0.013286807   0.020423720   0.000315510    ...\n",
       "15 0.000740688    0              0.015404920   0.010467000   0.000335517    ...\n",
       "26 0.000763763    0              0.012398305   0.009521351   0.000207325    ...\n",
       "   X599.241_2.765 X604.362_2.948 X620.356_2.913 X682.363_3.329 X682.364_3.313\n",
       "11 0.000000000    0.001281931    0.000659514    0.000320160    0             \n",
       "12 0.000050000    0.000671298    0.000483435    0.000179208    0             \n",
       "13 0.000082900    0.000706708    0.000317234    0.000099800    0             \n",
       "14 0.000099100    0.000930076    0.000245202    0.000234970    0             \n",
       "15 0.000178807    0.000744165    0.000302164    0.000251297    0             \n",
       "26 0.000280413    0.000626765    0.000345920    0.000112422    0             \n",
       "   X764.524_3.729 X790.38_2.768 X792.329_2.764 X795.335_2.768 X811.309_2.773\n",
       "11 0              0.000370969   0.00e+00       0.000245626    0.000038000   \n",
       "12 0              0.000586134   0.00e+00       0.000211682    0.000020900   \n",
       "13 0              0.001133874   0.00e+00       0.000741259    0.000095300   \n",
       "14 0              0.001150258   0.00e+00       0.000713691    0.000174109   \n",
       "15 0              0.001161454   4.09e-05       0.000765030    0.000136971   \n",
       "26 0              0.001883720   8.53e-05       0.001150782    0.000161828   "
      ]
     },
     "metadata": {},
     "output_type": "display_data"
    },
    {
     "data": {
      "text/html": [
       "<dl class=dl-horizontal>\n",
       "\t<dt>X440.337_2.765</dt>\n",
       "\t\t<dd>1</dd>\n",
       "\t<dt>X442.353_2.823</dt>\n",
       "\t\t<dd>2</dd>\n",
       "\t<dt>X105.07_2.767</dt>\n",
       "\t\t<dd>3</dd>\n",
       "\t<dt>X119.049_2.765</dt>\n",
       "\t\t<dd>4</dd>\n",
       "\t<dt>X128.018_0.344</dt>\n",
       "\t\t<dd>5</dd>\n",
       "\t<dt>X136.062_0.301</dt>\n",
       "\t\t<dd>6</dd>\n",
       "</dl>\n"
      ],
      "text/latex": [
       "\\begin{description*}\n",
       "\\item[X440.337\\textbackslash{}\\_2.765] 1\n",
       "\\item[X442.353\\textbackslash{}\\_2.823] 2\n",
       "\\item[X105.07\\textbackslash{}\\_2.767] 3\n",
       "\\item[X119.049\\textbackslash{}\\_2.765] 4\n",
       "\\item[X128.018\\textbackslash{}\\_0.344] 5\n",
       "\\item[X136.062\\textbackslash{}\\_0.301] 6\n",
       "\\end{description*}\n"
      ],
      "text/markdown": [
       "X440.337_2.765\n",
       ":   1X442.353_2.823\n",
       ":   2X105.07_2.767\n",
       ":   3X119.049_2.765\n",
       ":   4X128.018_0.344\n",
       ":   5X136.062_0.301\n",
       ":   6\n",
       "\n"
      ],
      "text/plain": [
       "X440.337_2.765 X442.353_2.823  X105.07_2.767 X119.049_2.765 X128.018_0.344 \n",
       "             1              2              3              4              5 \n",
       "X136.062_0.301 \n",
       "             6 "
      ]
     },
     "metadata": {},
     "output_type": "display_data"
    },
    {
     "data": {
      "text/html": [
       "<table>\n",
       "<thead><tr><th></th><th scope=col>X440.337_2.765</th><th scope=col>X442.353_2.823</th><th scope=col>X105.07_2.767</th><th scope=col>X119.049_2.765</th><th scope=col>X128.018_0.344</th><th scope=col>X136.062_0.301</th><th scope=col>X136.097_0.551</th><th scope=col>X137.046_0.31</th><th scope=col>X137.046_0.42</th><th scope=col>X203.007_0.309</th><th scope=col>...</th><th scope=col>X599.241_2.765</th><th scope=col>X604.362_2.948</th><th scope=col>X620.356_2.913</th><th scope=col>X682.363_3.329</th><th scope=col>X682.364_3.313</th><th scope=col>X764.524_3.729</th><th scope=col>X790.38_2.768</th><th scope=col>X792.329_2.764</th><th scope=col>X795.335_2.768</th><th scope=col>X811.309_2.773</th></tr></thead>\n",
       "<tbody>\n",
       "\t<tr><th scope=row>11</th><td>0.000030700</td><td>0.000000000</td><td>0.001681762</td><td>0.000000000</td><td>0.000000000</td><td>0.001018126</td><td>0.000000000</td><td>0.016982498</td><td>0.015622250</td><td>0.000289195</td><td>...        </td><td>0.000000000</td><td>0.001281931</td><td>0.000659514</td><td>0.000320160</td><td>0.000000000</td><td>0.000000000</td><td>0.000370969</td><td>0.000000000</td><td>0.000245626</td><td>0.000038000</td></tr>\n",
       "\t<tr><th scope=row>12</th><td>0.000000000</td><td>0.000000000</td><td>0.001668227</td><td>0.000020400</td><td>0.000000000</td><td>0.000295572</td><td>0.000000000</td><td>0.005836288</td><td>0.007990455</td><td>0.000021600</td><td>...        </td><td>0.000050000</td><td>0.000671298</td><td>0.000483435</td><td>0.000179208</td><td>0.000000000</td><td>0.000000000</td><td>0.000586134</td><td>0.000000000</td><td>0.000211682</td><td>0.000020900</td></tr>\n",
       "\t<tr><th scope=row>13</th><td>0.000000000</td><td>0.000000000</td><td>0.002195508</td><td>0.000000000</td><td>0.000000000</td><td>0.000332938</td><td>0.000000000</td><td>0.011181699</td><td>0.010145193</td><td>0.000217687</td><td>...        </td><td>0.000082900</td><td>0.000706708</td><td>0.000317234</td><td>0.000099800</td><td>0.000000000</td><td>0.000000000</td><td>0.001133874</td><td>0.000000000</td><td>0.000741259</td><td>0.000095300</td></tr>\n",
       "\t<tr><th scope=row>14</th><td>0.000000000</td><td>0.000000000</td><td>0.003006615</td><td>0.000063800</td><td>0.000000000</td><td>0.001047760</td><td>0.000000000</td><td>0.013286807</td><td>0.020423720</td><td>0.000315510</td><td>...        </td><td>0.000099100</td><td>0.000930076</td><td>0.000245202</td><td>0.000234970</td><td>0.000000000</td><td>0.000000000</td><td>0.001150258</td><td>0.000000000</td><td>0.000713691</td><td>0.000174109</td></tr>\n",
       "\t<tr><th scope=row>15</th><td>0.000029300</td><td>0.000000000</td><td>0.002858430</td><td>0.000000000</td><td>0.000000000</td><td>0.000740688</td><td>0.000000000</td><td>0.015404920</td><td>0.010467000</td><td>0.000335517</td><td>...        </td><td>0.000178807</td><td>0.000744165</td><td>0.000302164</td><td>0.000251297</td><td>0.000000000</td><td>0.000000000</td><td>0.001161454</td><td>0.000040900</td><td>0.000765030</td><td>0.000136971</td></tr>\n",
       "\t<tr><th scope=row>26</th><td>0.000000000</td><td>0.000000000</td><td>0.003596194</td><td>0.000107639</td><td>0.000000000</td><td>0.000763763</td><td>0.000000000</td><td>0.012398305</td><td>0.009521351</td><td>0.000207325</td><td>...        </td><td>0.000280413</td><td>0.000626765</td><td>0.000345920</td><td>0.000112422</td><td>0.000000000</td><td>0.000000000</td><td>0.001883720</td><td>0.000085300</td><td>0.001150782</td><td>0.000161828</td></tr>\n",
       "\t<tr><th scope=row>27</th><td>0.000000000</td><td>0.000000000</td><td>0.004184102</td><td>0.000000000</td><td>0.000000000</td><td>0.000943397</td><td>0.000000000</td><td>0.014920666</td><td>0.015749592</td><td>0.000251807</td><td>...        </td><td>0.000357279</td><td>0.000994711</td><td>0.000442094</td><td>0.000321391</td><td>0.000000000</td><td>0.000000000</td><td>0.002245995</td><td>0.000039900</td><td>0.001480225</td><td>0.000288184</td></tr>\n",
       "\t<tr><th scope=row>28</th><td>0.000000000</td><td>0.000000000</td><td>0.003180510</td><td>0.000081300</td><td>0.000000000</td><td>0.001072193</td><td>0.000000000</td><td>0.015017254</td><td>0.010721926</td><td>0.000180750</td><td>...        </td><td>0.000230648</td><td>0.000757420</td><td>0.000308954</td><td>0.000298353</td><td>0.000000000</td><td>0.000000000</td><td>0.001603371</td><td>0.000031000</td><td>0.000891854</td><td>0.000151068</td></tr>\n",
       "\t<tr><th scope=row>29</th><td>0.000000000</td><td>0.000000000</td><td>0.003522334</td><td>0.000105216</td><td>0.000000000</td><td>0.001145864</td><td>0.000000000</td><td>0.020190782</td><td>0.011237570</td><td>0.000206309</td><td>...        </td><td>0.000235445</td><td>0.000637410</td><td>0.000281648</td><td>0.000281675</td><td>0.000000000</td><td>0.000000000</td><td>0.001661687</td><td>0.000000000</td><td>0.001230606</td><td>0.000146975</td></tr>\n",
       "\t<tr><th scope=row>30</th><td>0.000000000</td><td>0.000000000</td><td>0.004984568</td><td>0.000000000</td><td>0.000000000</td><td>0.001608456</td><td>0.000000000</td><td>0.017786343</td><td>0.012351627</td><td>0.000359090</td><td>...        </td><td>0.000417157</td><td>0.000675222</td><td>0.000168015</td><td>0.000403194</td><td>0.000000000</td><td>0.000000000</td><td>0.002514242</td><td>0.000060100</td><td>0.001690800</td><td>0.000142444</td></tr>\n",
       "\t<tr><th scope=row>41</th><td>0.000000000</td><td>0.000000000</td><td>0.002516160</td><td>0.000031300</td><td>0.000000000</td><td>0.001240799</td><td>0.000000000</td><td>0.019113140</td><td>0.010195979</td><td>0.000000000</td><td>...        </td><td>0.000127604</td><td>0.000739641</td><td>0.000276132</td><td>0.000228511</td><td>0.000000000</td><td>0.000072000</td><td>0.001175130</td><td>0.000000000</td><td>0.000812222</td><td>0.000120914</td></tr>\n",
       "\t<tr><th scope=row>42</th><td>0.000000000</td><td>0.000000000</td><td>0.002025665</td><td>0.000000000</td><td>0.000000000</td><td>0.001652943</td><td>0.000000000</td><td>0.017704314</td><td>0.018068934</td><td>0.000000000</td><td>...        </td><td>0.000063500</td><td>0.000765701</td><td>0.000361806</td><td>0.000277571</td><td>0.000000000</td><td>0.000114613</td><td>0.000700880</td><td>0.000000000</td><td>0.000498314</td><td>0.000092600</td></tr>\n",
       "\t<tr><th scope=row>43</th><td>0.000000000</td><td>0.000000000</td><td>0.001893397</td><td>0.000000000</td><td>0.000000000</td><td>0.001441242</td><td>0.000000000</td><td>0.021558078</td><td>0.014816133</td><td>0.000160445</td><td>...        </td><td>0.000000000</td><td>0.000904309</td><td>0.000536933</td><td>0.000000000</td><td>0.000243387</td><td>0.000029700</td><td>0.000637861</td><td>0.000000000</td><td>0.000440043</td><td>0.000081300</td></tr>\n",
       "\t<tr><th scope=row>44</th><td>0.000000000</td><td>0.000000000</td><td>0.003391941</td><td>0.000073100</td><td>0.000000000</td><td>0.000702238</td><td>0.000000000</td><td>0.014000589</td><td>0.006757382</td><td>0.000191529</td><td>...        </td><td>0.000256378</td><td>0.000640406</td><td>0.000140963</td><td>0.000309837</td><td>0.000000000</td><td>0.000037500</td><td>0.001488391</td><td>0.000034800</td><td>0.000993733</td><td>0.000129137</td></tr>\n",
       "\t<tr><th scope=row>45</th><td>0.000023200</td><td>0.000000000</td><td>0.002668096</td><td>0.000000000</td><td>0.000000000</td><td>0.000721540</td><td>0.000000000</td><td>0.014013916</td><td>0.012891520</td><td>0.000222743</td><td>...        </td><td>0.000192285</td><td>0.000567612</td><td>0.000327098</td><td>0.000000000</td><td>0.000081800</td><td>0.001577768</td><td>0.001651526</td><td>0.000035000</td><td>0.000929985</td><td>0.000135980</td></tr>\n",
       "\t<tr><th scope=row>56</th><td>0.000144780</td><td>0.000114394</td><td>0.003203513</td><td>0.000128479</td><td>0.000138911</td><td>0.000000000</td><td>0.000048700</td><td>0.008895191</td><td>0.011818785</td><td>0.000000000</td><td>...        </td><td>0.000221365</td><td>0.000534956</td><td>0.000413657</td><td>0.000000000</td><td>0.000190736</td><td>0.000184619</td><td>0.001623528</td><td>0.000000000</td><td>0.000945503</td><td>0.000217402</td></tr>\n",
       "\t<tr><th scope=row>57</th><td>0.000234902</td><td>0.000152511</td><td>0.003154399</td><td>0.000108881</td><td>0.000054600</td><td>0.000140447</td><td>0.000157467</td><td>0.007203662</td><td>0.006196939</td><td>0.000000000</td><td>...        </td><td>0.000268459</td><td>0.000342286</td><td>0.000076900</td><td>0.000000000</td><td>0.000165649</td><td>0.000378080</td><td>0.001671160</td><td>0.000073800</td><td>0.001031332</td><td>0.000176385</td></tr>\n",
       "\t<tr><th scope=row>58</th><td>0.000140741</td><td>0.000128018</td><td>0.003181185</td><td>0.000127449</td><td>0.000063000</td><td>0.000043700</td><td>0.000080800</td><td>0.006556007</td><td>0.007717831</td><td>0.000100024</td><td>...        </td><td>0.000318118</td><td>0.000542185</td><td>0.000184548</td><td>0.000000000</td><td>0.000051700</td><td>0.001618255</td><td>0.002251726</td><td>0.000094400</td><td>0.001103733</td><td>0.000096100</td></tr>\n",
       "\t<tr><th scope=row>59</th><td>0.000189810</td><td>0.000166951</td><td>0.004219694</td><td>0.000194733</td><td>0.000115753</td><td>0.000314353</td><td>0.000000000</td><td>0.009175710</td><td>0.008382747</td><td>0.000000000</td><td>...        </td><td>0.000399313</td><td>0.000404977</td><td>0.000228200</td><td>0.000000000</td><td>0.000177511</td><td>0.000082300</td><td>0.002483672</td><td>0.000069700</td><td>0.001435829</td><td>0.000237145</td></tr>\n",
       "\t<tr><th scope=row>60</th><td>0.000263209</td><td>0.000169383</td><td>0.004127403</td><td>0.000132620</td><td>0.000103152</td><td>0.000167028</td><td>0.000251822</td><td>0.006437517</td><td>0.011950989</td><td>0.000000000</td><td>...        </td><td>0.000388099</td><td>0.000588309</td><td>0.000174824</td><td>0.000000000</td><td>0.000254230</td><td>0.000180185</td><td>0.002624289</td><td>0.000105303</td><td>0.001475393</td><td>0.000225354</td></tr>\n",
       "\t<tr><th scope=row>71</th><td>0.000271537</td><td>0.000309458</td><td>0.004555668</td><td>0.000178565</td><td>0.000102290</td><td>0.000310544</td><td>0.000112133</td><td>0.007369463</td><td>0.005527097</td><td>0.000000000</td><td>...        </td><td>0.000455567</td><td>0.000502463</td><td>0.000197796</td><td>0.000000000</td><td>0.000178798</td><td>0.000924533</td><td>0.003279411</td><td>0.000152498</td><td>0.001828967</td><td>0.000193993</td></tr>\n",
       "\t<tr><th scope=row>72</th><td>0.000123850</td><td>0.000167287</td><td>0.006985148</td><td>0.000275656</td><td>0.000245395</td><td>0.000000000</td><td>0.000000000</td><td>0.008119101</td><td>0.006214060</td><td>0.000000000</td><td>...        </td><td>0.000816446</td><td>0.000458117</td><td>0.000087800</td><td>0.000000000</td><td>0.000187402</td><td>0.000300403</td><td>0.004299948</td><td>0.000336044</td><td>0.002893847</td><td>0.000239338</td></tr>\n",
       "\t<tr><th scope=row>73</th><td>0.000336392</td><td>0.000354897</td><td>0.005428003</td><td>0.000203074</td><td>0.000131773</td><td>0.000494135</td><td>0.000112648</td><td>0.009246323</td><td>0.007112556</td><td>0.000000000</td><td>...        </td><td>0.000587722</td><td>0.000640130</td><td>0.000102297</td><td>0.000000000</td><td>0.000147922</td><td>0.000228459</td><td>0.003634891</td><td>0.000158965</td><td>0.001946594</td><td>0.000198602</td></tr>\n",
       "\t<tr><th scope=row>74</th><td>0.000180881</td><td>0.000185827</td><td>0.006490479</td><td>0.000272717</td><td>0.000063600</td><td>0.000453109</td><td>0.000165676</td><td>0.010572542</td><td>0.006408838</td><td>0.000000000</td><td>...        </td><td>0.000653130</td><td>0.000644966</td><td>0.000177403</td><td>0.000000000</td><td>0.000116276</td><td>0.000165672</td><td>0.003645282</td><td>0.000184832</td><td>0.002490058</td><td>0.000278129</td></tr>\n",
       "\t<tr><th scope=row>75</th><td>0.000467229</td><td>0.000512812</td><td>0.005356038</td><td>0.000228270</td><td>0.000143746</td><td>0.000220123</td><td>0.000199201</td><td>0.009078675</td><td>0.004216456</td><td>0.000000000</td><td>...        </td><td>0.000448236</td><td>0.000744527</td><td>0.000275672</td><td>0.000000000</td><td>0.000071300</td><td>0.000539402</td><td>0.002955318</td><td>0.000126904</td><td>0.001903103</td><td>0.000202461</td></tr>\n",
       "\t<tr><th scope=row>86</th><td>0.000208282</td><td>0.000216257</td><td>0.005910135</td><td>0.000251804</td><td>0.000140118</td><td>0.000150066</td><td>0.000000000</td><td>0.008091728</td><td>0.005473816</td><td>0.000000000</td><td>...        </td><td>0.000515649</td><td>0.000785374</td><td>0.000338515</td><td>0.000000000</td><td>0.000177561</td><td>0.000213886</td><td>0.003153394</td><td>0.000109009</td><td>0.002058631</td><td>0.000250226</td></tr>\n",
       "\t<tr><th scope=row>87</th><td>0.000057600</td><td>0.000081200</td><td>0.006688525</td><td>0.000000000</td><td>0.000296573</td><td>0.000071900</td><td>0.000000000</td><td>0.010522712</td><td>0.005793882</td><td>0.000235633</td><td>...        </td><td>0.000613470</td><td>0.000424644</td><td>0.000040200</td><td>0.000000000</td><td>0.000257677</td><td>0.000039900</td><td>0.004473218</td><td>0.000227324</td><td>0.002730793</td><td>0.000196587</td></tr>\n",
       "\t<tr><th scope=row>88</th><td>0.000056600</td><td>0.000069500</td><td>0.006605265</td><td>0.000277789</td><td>0.000113672</td><td>0.000112758</td><td>0.000129090</td><td>0.008511482</td><td>0.007491877</td><td>0.000000000</td><td>...        </td><td>0.000633928</td><td>0.000554133</td><td>0.000195587</td><td>0.000000000</td><td>0.000232874</td><td>0.000149519</td><td>0.004371001</td><td>0.000214676</td><td>0.002726334</td><td>0.000259807</td></tr>\n",
       "\t<tr><th scope=row>89</th><td>0.000000000</td><td>0.000000000</td><td>0.006253152</td><td>0.000000000</td><td>0.000100856</td><td>0.000149324</td><td>0.000069700</td><td>0.009754918</td><td>0.005877963</td><td>0.000084200</td><td>...        </td><td>0.000633653</td><td>0.000446058</td><td>0.000050900</td><td>0.000000000</td><td>0.000175525</td><td>0.000105094</td><td>0.003184939</td><td>0.000202266</td><td>0.002155253</td><td>0.000183599</td></tr>\n",
       "\t<tr><th scope=row>90</th><td>0.000000000</td><td>0.000000000</td><td>0.005545005</td><td>0.000218287</td><td>0.000062500</td><td>0.000319101</td><td>0.000390272</td><td>0.009443837</td><td>0.005891568</td><td>0.000000000</td><td>...        </td><td>0.000390814</td><td>0.000610817</td><td>0.000242021</td><td>0.000000000</td><td>0.000159362</td><td>0.000000000</td><td>0.002924124</td><td>0.000102198</td><td>0.002131361</td><td>0.000225664</td></tr>\n",
       "</tbody>\n",
       "</table>\n"
      ],
      "text/latex": [
       "\\begin{tabular}{r|lllllllllllllllllllllllllllllllllllllllllllllllllllllll}\n",
       "  & X440.337\\_2.765 & X442.353\\_2.823 & X105.07\\_2.767 & X119.049\\_2.765 & X128.018\\_0.344 & X136.062\\_0.301 & X136.097\\_0.551 & X137.046\\_0.31 & X137.046\\_0.42 & X203.007\\_0.309 & ... & X599.241\\_2.765 & X604.362\\_2.948 & X620.356\\_2.913 & X682.363\\_3.329 & X682.364\\_3.313 & X764.524\\_3.729 & X790.38\\_2.768 & X792.329\\_2.764 & X795.335\\_2.768 & X811.309\\_2.773\\\\\n",
       "\\hline\n",
       "\t11 & 0.000030700 & 0.000000000 & 0.001681762 & 0.000000000 & 0.000000000 & 0.001018126 & 0.000000000 & 0.016982498 & 0.015622250 & 0.000289195 & ...         & 0.000000000 & 0.001281931 & 0.000659514 & 0.000320160 & 0.000000000 & 0.000000000 & 0.000370969 & 0.000000000 & 0.000245626 & 0.000038000\\\\\n",
       "\t12 & 0.000000000 & 0.000000000 & 0.001668227 & 0.000020400 & 0.000000000 & 0.000295572 & 0.000000000 & 0.005836288 & 0.007990455 & 0.000021600 & ...         & 0.000050000 & 0.000671298 & 0.000483435 & 0.000179208 & 0.000000000 & 0.000000000 & 0.000586134 & 0.000000000 & 0.000211682 & 0.000020900\\\\\n",
       "\t13 & 0.000000000 & 0.000000000 & 0.002195508 & 0.000000000 & 0.000000000 & 0.000332938 & 0.000000000 & 0.011181699 & 0.010145193 & 0.000217687 & ...         & 0.000082900 & 0.000706708 & 0.000317234 & 0.000099800 & 0.000000000 & 0.000000000 & 0.001133874 & 0.000000000 & 0.000741259 & 0.000095300\\\\\n",
       "\t14 & 0.000000000 & 0.000000000 & 0.003006615 & 0.000063800 & 0.000000000 & 0.001047760 & 0.000000000 & 0.013286807 & 0.020423720 & 0.000315510 & ...         & 0.000099100 & 0.000930076 & 0.000245202 & 0.000234970 & 0.000000000 & 0.000000000 & 0.001150258 & 0.000000000 & 0.000713691 & 0.000174109\\\\\n",
       "\t15 & 0.000029300 & 0.000000000 & 0.002858430 & 0.000000000 & 0.000000000 & 0.000740688 & 0.000000000 & 0.015404920 & 0.010467000 & 0.000335517 & ...         & 0.000178807 & 0.000744165 & 0.000302164 & 0.000251297 & 0.000000000 & 0.000000000 & 0.001161454 & 0.000040900 & 0.000765030 & 0.000136971\\\\\n",
       "\t26 & 0.000000000 & 0.000000000 & 0.003596194 & 0.000107639 & 0.000000000 & 0.000763763 & 0.000000000 & 0.012398305 & 0.009521351 & 0.000207325 & ...         & 0.000280413 & 0.000626765 & 0.000345920 & 0.000112422 & 0.000000000 & 0.000000000 & 0.001883720 & 0.000085300 & 0.001150782 & 0.000161828\\\\\n",
       "\t27 & 0.000000000 & 0.000000000 & 0.004184102 & 0.000000000 & 0.000000000 & 0.000943397 & 0.000000000 & 0.014920666 & 0.015749592 & 0.000251807 & ...         & 0.000357279 & 0.000994711 & 0.000442094 & 0.000321391 & 0.000000000 & 0.000000000 & 0.002245995 & 0.000039900 & 0.001480225 & 0.000288184\\\\\n",
       "\t28 & 0.000000000 & 0.000000000 & 0.003180510 & 0.000081300 & 0.000000000 & 0.001072193 & 0.000000000 & 0.015017254 & 0.010721926 & 0.000180750 & ...         & 0.000230648 & 0.000757420 & 0.000308954 & 0.000298353 & 0.000000000 & 0.000000000 & 0.001603371 & 0.000031000 & 0.000891854 & 0.000151068\\\\\n",
       "\t29 & 0.000000000 & 0.000000000 & 0.003522334 & 0.000105216 & 0.000000000 & 0.001145864 & 0.000000000 & 0.020190782 & 0.011237570 & 0.000206309 & ...         & 0.000235445 & 0.000637410 & 0.000281648 & 0.000281675 & 0.000000000 & 0.000000000 & 0.001661687 & 0.000000000 & 0.001230606 & 0.000146975\\\\\n",
       "\t30 & 0.000000000 & 0.000000000 & 0.004984568 & 0.000000000 & 0.000000000 & 0.001608456 & 0.000000000 & 0.017786343 & 0.012351627 & 0.000359090 & ...         & 0.000417157 & 0.000675222 & 0.000168015 & 0.000403194 & 0.000000000 & 0.000000000 & 0.002514242 & 0.000060100 & 0.001690800 & 0.000142444\\\\\n",
       "\t41 & 0.000000000 & 0.000000000 & 0.002516160 & 0.000031300 & 0.000000000 & 0.001240799 & 0.000000000 & 0.019113140 & 0.010195979 & 0.000000000 & ...         & 0.000127604 & 0.000739641 & 0.000276132 & 0.000228511 & 0.000000000 & 0.000072000 & 0.001175130 & 0.000000000 & 0.000812222 & 0.000120914\\\\\n",
       "\t42 & 0.000000000 & 0.000000000 & 0.002025665 & 0.000000000 & 0.000000000 & 0.001652943 & 0.000000000 & 0.017704314 & 0.018068934 & 0.000000000 & ...         & 0.000063500 & 0.000765701 & 0.000361806 & 0.000277571 & 0.000000000 & 0.000114613 & 0.000700880 & 0.000000000 & 0.000498314 & 0.000092600\\\\\n",
       "\t43 & 0.000000000 & 0.000000000 & 0.001893397 & 0.000000000 & 0.000000000 & 0.001441242 & 0.000000000 & 0.021558078 & 0.014816133 & 0.000160445 & ...         & 0.000000000 & 0.000904309 & 0.000536933 & 0.000000000 & 0.000243387 & 0.000029700 & 0.000637861 & 0.000000000 & 0.000440043 & 0.000081300\\\\\n",
       "\t44 & 0.000000000 & 0.000000000 & 0.003391941 & 0.000073100 & 0.000000000 & 0.000702238 & 0.000000000 & 0.014000589 & 0.006757382 & 0.000191529 & ...         & 0.000256378 & 0.000640406 & 0.000140963 & 0.000309837 & 0.000000000 & 0.000037500 & 0.001488391 & 0.000034800 & 0.000993733 & 0.000129137\\\\\n",
       "\t45 & 0.000023200 & 0.000000000 & 0.002668096 & 0.000000000 & 0.000000000 & 0.000721540 & 0.000000000 & 0.014013916 & 0.012891520 & 0.000222743 & ...         & 0.000192285 & 0.000567612 & 0.000327098 & 0.000000000 & 0.000081800 & 0.001577768 & 0.001651526 & 0.000035000 & 0.000929985 & 0.000135980\\\\\n",
       "\t56 & 0.000144780 & 0.000114394 & 0.003203513 & 0.000128479 & 0.000138911 & 0.000000000 & 0.000048700 & 0.008895191 & 0.011818785 & 0.000000000 & ...         & 0.000221365 & 0.000534956 & 0.000413657 & 0.000000000 & 0.000190736 & 0.000184619 & 0.001623528 & 0.000000000 & 0.000945503 & 0.000217402\\\\\n",
       "\t57 & 0.000234902 & 0.000152511 & 0.003154399 & 0.000108881 & 0.000054600 & 0.000140447 & 0.000157467 & 0.007203662 & 0.006196939 & 0.000000000 & ...         & 0.000268459 & 0.000342286 & 0.000076900 & 0.000000000 & 0.000165649 & 0.000378080 & 0.001671160 & 0.000073800 & 0.001031332 & 0.000176385\\\\\n",
       "\t58 & 0.000140741 & 0.000128018 & 0.003181185 & 0.000127449 & 0.000063000 & 0.000043700 & 0.000080800 & 0.006556007 & 0.007717831 & 0.000100024 & ...         & 0.000318118 & 0.000542185 & 0.000184548 & 0.000000000 & 0.000051700 & 0.001618255 & 0.002251726 & 0.000094400 & 0.001103733 & 0.000096100\\\\\n",
       "\t59 & 0.000189810 & 0.000166951 & 0.004219694 & 0.000194733 & 0.000115753 & 0.000314353 & 0.000000000 & 0.009175710 & 0.008382747 & 0.000000000 & ...         & 0.000399313 & 0.000404977 & 0.000228200 & 0.000000000 & 0.000177511 & 0.000082300 & 0.002483672 & 0.000069700 & 0.001435829 & 0.000237145\\\\\n",
       "\t60 & 0.000263209 & 0.000169383 & 0.004127403 & 0.000132620 & 0.000103152 & 0.000167028 & 0.000251822 & 0.006437517 & 0.011950989 & 0.000000000 & ...         & 0.000388099 & 0.000588309 & 0.000174824 & 0.000000000 & 0.000254230 & 0.000180185 & 0.002624289 & 0.000105303 & 0.001475393 & 0.000225354\\\\\n",
       "\t71 & 0.000271537 & 0.000309458 & 0.004555668 & 0.000178565 & 0.000102290 & 0.000310544 & 0.000112133 & 0.007369463 & 0.005527097 & 0.000000000 & ...         & 0.000455567 & 0.000502463 & 0.000197796 & 0.000000000 & 0.000178798 & 0.000924533 & 0.003279411 & 0.000152498 & 0.001828967 & 0.000193993\\\\\n",
       "\t72 & 0.000123850 & 0.000167287 & 0.006985148 & 0.000275656 & 0.000245395 & 0.000000000 & 0.000000000 & 0.008119101 & 0.006214060 & 0.000000000 & ...         & 0.000816446 & 0.000458117 & 0.000087800 & 0.000000000 & 0.000187402 & 0.000300403 & 0.004299948 & 0.000336044 & 0.002893847 & 0.000239338\\\\\n",
       "\t73 & 0.000336392 & 0.000354897 & 0.005428003 & 0.000203074 & 0.000131773 & 0.000494135 & 0.000112648 & 0.009246323 & 0.007112556 & 0.000000000 & ...         & 0.000587722 & 0.000640130 & 0.000102297 & 0.000000000 & 0.000147922 & 0.000228459 & 0.003634891 & 0.000158965 & 0.001946594 & 0.000198602\\\\\n",
       "\t74 & 0.000180881 & 0.000185827 & 0.006490479 & 0.000272717 & 0.000063600 & 0.000453109 & 0.000165676 & 0.010572542 & 0.006408838 & 0.000000000 & ...         & 0.000653130 & 0.000644966 & 0.000177403 & 0.000000000 & 0.000116276 & 0.000165672 & 0.003645282 & 0.000184832 & 0.002490058 & 0.000278129\\\\\n",
       "\t75 & 0.000467229 & 0.000512812 & 0.005356038 & 0.000228270 & 0.000143746 & 0.000220123 & 0.000199201 & 0.009078675 & 0.004216456 & 0.000000000 & ...         & 0.000448236 & 0.000744527 & 0.000275672 & 0.000000000 & 0.000071300 & 0.000539402 & 0.002955318 & 0.000126904 & 0.001903103 & 0.000202461\\\\\n",
       "\t86 & 0.000208282 & 0.000216257 & 0.005910135 & 0.000251804 & 0.000140118 & 0.000150066 & 0.000000000 & 0.008091728 & 0.005473816 & 0.000000000 & ...         & 0.000515649 & 0.000785374 & 0.000338515 & 0.000000000 & 0.000177561 & 0.000213886 & 0.003153394 & 0.000109009 & 0.002058631 & 0.000250226\\\\\n",
       "\t87 & 0.000057600 & 0.000081200 & 0.006688525 & 0.000000000 & 0.000296573 & 0.000071900 & 0.000000000 & 0.010522712 & 0.005793882 & 0.000235633 & ...         & 0.000613470 & 0.000424644 & 0.000040200 & 0.000000000 & 0.000257677 & 0.000039900 & 0.004473218 & 0.000227324 & 0.002730793 & 0.000196587\\\\\n",
       "\t88 & 0.000056600 & 0.000069500 & 0.006605265 & 0.000277789 & 0.000113672 & 0.000112758 & 0.000129090 & 0.008511482 & 0.007491877 & 0.000000000 & ...         & 0.000633928 & 0.000554133 & 0.000195587 & 0.000000000 & 0.000232874 & 0.000149519 & 0.004371001 & 0.000214676 & 0.002726334 & 0.000259807\\\\\n",
       "\t89 & 0.000000000 & 0.000000000 & 0.006253152 & 0.000000000 & 0.000100856 & 0.000149324 & 0.000069700 & 0.009754918 & 0.005877963 & 0.000084200 & ...         & 0.000633653 & 0.000446058 & 0.000050900 & 0.000000000 & 0.000175525 & 0.000105094 & 0.003184939 & 0.000202266 & 0.002155253 & 0.000183599\\\\\n",
       "\t90 & 0.000000000 & 0.000000000 & 0.005545005 & 0.000218287 & 0.000062500 & 0.000319101 & 0.000390272 & 0.009443837 & 0.005891568 & 0.000000000 & ...         & 0.000390814 & 0.000610817 & 0.000242021 & 0.000000000 & 0.000159362 & 0.000000000 & 0.002924124 & 0.000102198 & 0.002131361 & 0.000225664\\\\\n",
       "\\end{tabular}\n"
      ],
      "text/markdown": [
       "\n",
       "| <!--/--> | X440.337_2.765 | X442.353_2.823 | X105.07_2.767 | X119.049_2.765 | X128.018_0.344 | X136.062_0.301 | X136.097_0.551 | X137.046_0.31 | X137.046_0.42 | X203.007_0.309 | ... | X599.241_2.765 | X604.362_2.948 | X620.356_2.913 | X682.363_3.329 | X682.364_3.313 | X764.524_3.729 | X790.38_2.768 | X792.329_2.764 | X795.335_2.768 | X811.309_2.773 |\n",
       "|---|---|---|---|---|---|---|---|---|---|---|---|---|---|---|---|---|---|---|---|---|---|\n",
       "| 11 | 0.000030700 | 0.000000000 | 0.001681762 | 0.000000000 | 0.000000000 | 0.001018126 | 0.000000000 | 0.016982498 | 0.015622250 | 0.000289195 | ...         | 0.000000000 | 0.001281931 | 0.000659514 | 0.000320160 | 0.000000000 | 0.000000000 | 0.000370969 | 0.000000000 | 0.000245626 | 0.000038000 |\n",
       "| 12 | 0.000000000 | 0.000000000 | 0.001668227 | 0.000020400 | 0.000000000 | 0.000295572 | 0.000000000 | 0.005836288 | 0.007990455 | 0.000021600 | ...         | 0.000050000 | 0.000671298 | 0.000483435 | 0.000179208 | 0.000000000 | 0.000000000 | 0.000586134 | 0.000000000 | 0.000211682 | 0.000020900 |\n",
       "| 13 | 0.000000000 | 0.000000000 | 0.002195508 | 0.000000000 | 0.000000000 | 0.000332938 | 0.000000000 | 0.011181699 | 0.010145193 | 0.000217687 | ...         | 0.000082900 | 0.000706708 | 0.000317234 | 0.000099800 | 0.000000000 | 0.000000000 | 0.001133874 | 0.000000000 | 0.000741259 | 0.000095300 |\n",
       "| 14 | 0.000000000 | 0.000000000 | 0.003006615 | 0.000063800 | 0.000000000 | 0.001047760 | 0.000000000 | 0.013286807 | 0.020423720 | 0.000315510 | ...         | 0.000099100 | 0.000930076 | 0.000245202 | 0.000234970 | 0.000000000 | 0.000000000 | 0.001150258 | 0.000000000 | 0.000713691 | 0.000174109 |\n",
       "| 15 | 0.000029300 | 0.000000000 | 0.002858430 | 0.000000000 | 0.000000000 | 0.000740688 | 0.000000000 | 0.015404920 | 0.010467000 | 0.000335517 | ...         | 0.000178807 | 0.000744165 | 0.000302164 | 0.000251297 | 0.000000000 | 0.000000000 | 0.001161454 | 0.000040900 | 0.000765030 | 0.000136971 |\n",
       "| 26 | 0.000000000 | 0.000000000 | 0.003596194 | 0.000107639 | 0.000000000 | 0.000763763 | 0.000000000 | 0.012398305 | 0.009521351 | 0.000207325 | ...         | 0.000280413 | 0.000626765 | 0.000345920 | 0.000112422 | 0.000000000 | 0.000000000 | 0.001883720 | 0.000085300 | 0.001150782 | 0.000161828 |\n",
       "| 27 | 0.000000000 | 0.000000000 | 0.004184102 | 0.000000000 | 0.000000000 | 0.000943397 | 0.000000000 | 0.014920666 | 0.015749592 | 0.000251807 | ...         | 0.000357279 | 0.000994711 | 0.000442094 | 0.000321391 | 0.000000000 | 0.000000000 | 0.002245995 | 0.000039900 | 0.001480225 | 0.000288184 |\n",
       "| 28 | 0.000000000 | 0.000000000 | 0.003180510 | 0.000081300 | 0.000000000 | 0.001072193 | 0.000000000 | 0.015017254 | 0.010721926 | 0.000180750 | ...         | 0.000230648 | 0.000757420 | 0.000308954 | 0.000298353 | 0.000000000 | 0.000000000 | 0.001603371 | 0.000031000 | 0.000891854 | 0.000151068 |\n",
       "| 29 | 0.000000000 | 0.000000000 | 0.003522334 | 0.000105216 | 0.000000000 | 0.001145864 | 0.000000000 | 0.020190782 | 0.011237570 | 0.000206309 | ...         | 0.000235445 | 0.000637410 | 0.000281648 | 0.000281675 | 0.000000000 | 0.000000000 | 0.001661687 | 0.000000000 | 0.001230606 | 0.000146975 |\n",
       "| 30 | 0.000000000 | 0.000000000 | 0.004984568 | 0.000000000 | 0.000000000 | 0.001608456 | 0.000000000 | 0.017786343 | 0.012351627 | 0.000359090 | ...         | 0.000417157 | 0.000675222 | 0.000168015 | 0.000403194 | 0.000000000 | 0.000000000 | 0.002514242 | 0.000060100 | 0.001690800 | 0.000142444 |\n",
       "| 41 | 0.000000000 | 0.000000000 | 0.002516160 | 0.000031300 | 0.000000000 | 0.001240799 | 0.000000000 | 0.019113140 | 0.010195979 | 0.000000000 | ...         | 0.000127604 | 0.000739641 | 0.000276132 | 0.000228511 | 0.000000000 | 0.000072000 | 0.001175130 | 0.000000000 | 0.000812222 | 0.000120914 |\n",
       "| 42 | 0.000000000 | 0.000000000 | 0.002025665 | 0.000000000 | 0.000000000 | 0.001652943 | 0.000000000 | 0.017704314 | 0.018068934 | 0.000000000 | ...         | 0.000063500 | 0.000765701 | 0.000361806 | 0.000277571 | 0.000000000 | 0.000114613 | 0.000700880 | 0.000000000 | 0.000498314 | 0.000092600 |\n",
       "| 43 | 0.000000000 | 0.000000000 | 0.001893397 | 0.000000000 | 0.000000000 | 0.001441242 | 0.000000000 | 0.021558078 | 0.014816133 | 0.000160445 | ...         | 0.000000000 | 0.000904309 | 0.000536933 | 0.000000000 | 0.000243387 | 0.000029700 | 0.000637861 | 0.000000000 | 0.000440043 | 0.000081300 |\n",
       "| 44 | 0.000000000 | 0.000000000 | 0.003391941 | 0.000073100 | 0.000000000 | 0.000702238 | 0.000000000 | 0.014000589 | 0.006757382 | 0.000191529 | ...         | 0.000256378 | 0.000640406 | 0.000140963 | 0.000309837 | 0.000000000 | 0.000037500 | 0.001488391 | 0.000034800 | 0.000993733 | 0.000129137 |\n",
       "| 45 | 0.000023200 | 0.000000000 | 0.002668096 | 0.000000000 | 0.000000000 | 0.000721540 | 0.000000000 | 0.014013916 | 0.012891520 | 0.000222743 | ...         | 0.000192285 | 0.000567612 | 0.000327098 | 0.000000000 | 0.000081800 | 0.001577768 | 0.001651526 | 0.000035000 | 0.000929985 | 0.000135980 |\n",
       "| 56 | 0.000144780 | 0.000114394 | 0.003203513 | 0.000128479 | 0.000138911 | 0.000000000 | 0.000048700 | 0.008895191 | 0.011818785 | 0.000000000 | ...         | 0.000221365 | 0.000534956 | 0.000413657 | 0.000000000 | 0.000190736 | 0.000184619 | 0.001623528 | 0.000000000 | 0.000945503 | 0.000217402 |\n",
       "| 57 | 0.000234902 | 0.000152511 | 0.003154399 | 0.000108881 | 0.000054600 | 0.000140447 | 0.000157467 | 0.007203662 | 0.006196939 | 0.000000000 | ...         | 0.000268459 | 0.000342286 | 0.000076900 | 0.000000000 | 0.000165649 | 0.000378080 | 0.001671160 | 0.000073800 | 0.001031332 | 0.000176385 |\n",
       "| 58 | 0.000140741 | 0.000128018 | 0.003181185 | 0.000127449 | 0.000063000 | 0.000043700 | 0.000080800 | 0.006556007 | 0.007717831 | 0.000100024 | ...         | 0.000318118 | 0.000542185 | 0.000184548 | 0.000000000 | 0.000051700 | 0.001618255 | 0.002251726 | 0.000094400 | 0.001103733 | 0.000096100 |\n",
       "| 59 | 0.000189810 | 0.000166951 | 0.004219694 | 0.000194733 | 0.000115753 | 0.000314353 | 0.000000000 | 0.009175710 | 0.008382747 | 0.000000000 | ...         | 0.000399313 | 0.000404977 | 0.000228200 | 0.000000000 | 0.000177511 | 0.000082300 | 0.002483672 | 0.000069700 | 0.001435829 | 0.000237145 |\n",
       "| 60 | 0.000263209 | 0.000169383 | 0.004127403 | 0.000132620 | 0.000103152 | 0.000167028 | 0.000251822 | 0.006437517 | 0.011950989 | 0.000000000 | ...         | 0.000388099 | 0.000588309 | 0.000174824 | 0.000000000 | 0.000254230 | 0.000180185 | 0.002624289 | 0.000105303 | 0.001475393 | 0.000225354 |\n",
       "| 71 | 0.000271537 | 0.000309458 | 0.004555668 | 0.000178565 | 0.000102290 | 0.000310544 | 0.000112133 | 0.007369463 | 0.005527097 | 0.000000000 | ...         | 0.000455567 | 0.000502463 | 0.000197796 | 0.000000000 | 0.000178798 | 0.000924533 | 0.003279411 | 0.000152498 | 0.001828967 | 0.000193993 |\n",
       "| 72 | 0.000123850 | 0.000167287 | 0.006985148 | 0.000275656 | 0.000245395 | 0.000000000 | 0.000000000 | 0.008119101 | 0.006214060 | 0.000000000 | ...         | 0.000816446 | 0.000458117 | 0.000087800 | 0.000000000 | 0.000187402 | 0.000300403 | 0.004299948 | 0.000336044 | 0.002893847 | 0.000239338 |\n",
       "| 73 | 0.000336392 | 0.000354897 | 0.005428003 | 0.000203074 | 0.000131773 | 0.000494135 | 0.000112648 | 0.009246323 | 0.007112556 | 0.000000000 | ...         | 0.000587722 | 0.000640130 | 0.000102297 | 0.000000000 | 0.000147922 | 0.000228459 | 0.003634891 | 0.000158965 | 0.001946594 | 0.000198602 |\n",
       "| 74 | 0.000180881 | 0.000185827 | 0.006490479 | 0.000272717 | 0.000063600 | 0.000453109 | 0.000165676 | 0.010572542 | 0.006408838 | 0.000000000 | ...         | 0.000653130 | 0.000644966 | 0.000177403 | 0.000000000 | 0.000116276 | 0.000165672 | 0.003645282 | 0.000184832 | 0.002490058 | 0.000278129 |\n",
       "| 75 | 0.000467229 | 0.000512812 | 0.005356038 | 0.000228270 | 0.000143746 | 0.000220123 | 0.000199201 | 0.009078675 | 0.004216456 | 0.000000000 | ...         | 0.000448236 | 0.000744527 | 0.000275672 | 0.000000000 | 0.000071300 | 0.000539402 | 0.002955318 | 0.000126904 | 0.001903103 | 0.000202461 |\n",
       "| 86 | 0.000208282 | 0.000216257 | 0.005910135 | 0.000251804 | 0.000140118 | 0.000150066 | 0.000000000 | 0.008091728 | 0.005473816 | 0.000000000 | ...         | 0.000515649 | 0.000785374 | 0.000338515 | 0.000000000 | 0.000177561 | 0.000213886 | 0.003153394 | 0.000109009 | 0.002058631 | 0.000250226 |\n",
       "| 87 | 0.000057600 | 0.000081200 | 0.006688525 | 0.000000000 | 0.000296573 | 0.000071900 | 0.000000000 | 0.010522712 | 0.005793882 | 0.000235633 | ...         | 0.000613470 | 0.000424644 | 0.000040200 | 0.000000000 | 0.000257677 | 0.000039900 | 0.004473218 | 0.000227324 | 0.002730793 | 0.000196587 |\n",
       "| 88 | 0.000056600 | 0.000069500 | 0.006605265 | 0.000277789 | 0.000113672 | 0.000112758 | 0.000129090 | 0.008511482 | 0.007491877 | 0.000000000 | ...         | 0.000633928 | 0.000554133 | 0.000195587 | 0.000000000 | 0.000232874 | 0.000149519 | 0.004371001 | 0.000214676 | 0.002726334 | 0.000259807 |\n",
       "| 89 | 0.000000000 | 0.000000000 | 0.006253152 | 0.000000000 | 0.000100856 | 0.000149324 | 0.000069700 | 0.009754918 | 0.005877963 | 0.000084200 | ...         | 0.000633653 | 0.000446058 | 0.000050900 | 0.000000000 | 0.000175525 | 0.000105094 | 0.003184939 | 0.000202266 | 0.002155253 | 0.000183599 |\n",
       "| 90 | 0.000000000 | 0.000000000 | 0.005545005 | 0.000218287 | 0.000062500 | 0.000319101 | 0.000390272 | 0.009443837 | 0.005891568 | 0.000000000 | ...         | 0.000390814 | 0.000610817 | 0.000242021 | 0.000000000 | 0.000159362 | 0.000000000 | 0.002924124 | 0.000102198 | 0.002131361 | 0.000225664 |\n",
       "\n"
      ],
      "text/plain": [
       "   X440.337_2.765 X442.353_2.823 X105.07_2.767 X119.049_2.765 X128.018_0.344\n",
       "11 0.000030700    0.000000000    0.001681762   0.000000000    0.000000000   \n",
       "12 0.000000000    0.000000000    0.001668227   0.000020400    0.000000000   \n",
       "13 0.000000000    0.000000000    0.002195508   0.000000000    0.000000000   \n",
       "14 0.000000000    0.000000000    0.003006615   0.000063800    0.000000000   \n",
       "15 0.000029300    0.000000000    0.002858430   0.000000000    0.000000000   \n",
       "26 0.000000000    0.000000000    0.003596194   0.000107639    0.000000000   \n",
       "27 0.000000000    0.000000000    0.004184102   0.000000000    0.000000000   \n",
       "28 0.000000000    0.000000000    0.003180510   0.000081300    0.000000000   \n",
       "29 0.000000000    0.000000000    0.003522334   0.000105216    0.000000000   \n",
       "30 0.000000000    0.000000000    0.004984568   0.000000000    0.000000000   \n",
       "41 0.000000000    0.000000000    0.002516160   0.000031300    0.000000000   \n",
       "42 0.000000000    0.000000000    0.002025665   0.000000000    0.000000000   \n",
       "43 0.000000000    0.000000000    0.001893397   0.000000000    0.000000000   \n",
       "44 0.000000000    0.000000000    0.003391941   0.000073100    0.000000000   \n",
       "45 0.000023200    0.000000000    0.002668096   0.000000000    0.000000000   \n",
       "56 0.000144780    0.000114394    0.003203513   0.000128479    0.000138911   \n",
       "57 0.000234902    0.000152511    0.003154399   0.000108881    0.000054600   \n",
       "58 0.000140741    0.000128018    0.003181185   0.000127449    0.000063000   \n",
       "59 0.000189810    0.000166951    0.004219694   0.000194733    0.000115753   \n",
       "60 0.000263209    0.000169383    0.004127403   0.000132620    0.000103152   \n",
       "71 0.000271537    0.000309458    0.004555668   0.000178565    0.000102290   \n",
       "72 0.000123850    0.000167287    0.006985148   0.000275656    0.000245395   \n",
       "73 0.000336392    0.000354897    0.005428003   0.000203074    0.000131773   \n",
       "74 0.000180881    0.000185827    0.006490479   0.000272717    0.000063600   \n",
       "75 0.000467229    0.000512812    0.005356038   0.000228270    0.000143746   \n",
       "86 0.000208282    0.000216257    0.005910135   0.000251804    0.000140118   \n",
       "87 0.000057600    0.000081200    0.006688525   0.000000000    0.000296573   \n",
       "88 0.000056600    0.000069500    0.006605265   0.000277789    0.000113672   \n",
       "89 0.000000000    0.000000000    0.006253152   0.000000000    0.000100856   \n",
       "90 0.000000000    0.000000000    0.005545005   0.000218287    0.000062500   \n",
       "   X136.062_0.301 X136.097_0.551 X137.046_0.31 X137.046_0.42 X203.007_0.309 ...\n",
       "11 0.001018126    0.000000000    0.016982498   0.015622250   0.000289195    ...\n",
       "12 0.000295572    0.000000000    0.005836288   0.007990455   0.000021600    ...\n",
       "13 0.000332938    0.000000000    0.011181699   0.010145193   0.000217687    ...\n",
       "14 0.001047760    0.000000000    0.013286807   0.020423720   0.000315510    ...\n",
       "15 0.000740688    0.000000000    0.015404920   0.010467000   0.000335517    ...\n",
       "26 0.000763763    0.000000000    0.012398305   0.009521351   0.000207325    ...\n",
       "27 0.000943397    0.000000000    0.014920666   0.015749592   0.000251807    ...\n",
       "28 0.001072193    0.000000000    0.015017254   0.010721926   0.000180750    ...\n",
       "29 0.001145864    0.000000000    0.020190782   0.011237570   0.000206309    ...\n",
       "30 0.001608456    0.000000000    0.017786343   0.012351627   0.000359090    ...\n",
       "41 0.001240799    0.000000000    0.019113140   0.010195979   0.000000000    ...\n",
       "42 0.001652943    0.000000000    0.017704314   0.018068934   0.000000000    ...\n",
       "43 0.001441242    0.000000000    0.021558078   0.014816133   0.000160445    ...\n",
       "44 0.000702238    0.000000000    0.014000589   0.006757382   0.000191529    ...\n",
       "45 0.000721540    0.000000000    0.014013916   0.012891520   0.000222743    ...\n",
       "56 0.000000000    0.000048700    0.008895191   0.011818785   0.000000000    ...\n",
       "57 0.000140447    0.000157467    0.007203662   0.006196939   0.000000000    ...\n",
       "58 0.000043700    0.000080800    0.006556007   0.007717831   0.000100024    ...\n",
       "59 0.000314353    0.000000000    0.009175710   0.008382747   0.000000000    ...\n",
       "60 0.000167028    0.000251822    0.006437517   0.011950989   0.000000000    ...\n",
       "71 0.000310544    0.000112133    0.007369463   0.005527097   0.000000000    ...\n",
       "72 0.000000000    0.000000000    0.008119101   0.006214060   0.000000000    ...\n",
       "73 0.000494135    0.000112648    0.009246323   0.007112556   0.000000000    ...\n",
       "74 0.000453109    0.000165676    0.010572542   0.006408838   0.000000000    ...\n",
       "75 0.000220123    0.000199201    0.009078675   0.004216456   0.000000000    ...\n",
       "86 0.000150066    0.000000000    0.008091728   0.005473816   0.000000000    ...\n",
       "87 0.000071900    0.000000000    0.010522712   0.005793882   0.000235633    ...\n",
       "88 0.000112758    0.000129090    0.008511482   0.007491877   0.000000000    ...\n",
       "89 0.000149324    0.000069700    0.009754918   0.005877963   0.000084200    ...\n",
       "90 0.000319101    0.000390272    0.009443837   0.005891568   0.000000000    ...\n",
       "   X599.241_2.765 X604.362_2.948 X620.356_2.913 X682.363_3.329 X682.364_3.313\n",
       "11 0.000000000    0.001281931    0.000659514    0.000320160    0.000000000   \n",
       "12 0.000050000    0.000671298    0.000483435    0.000179208    0.000000000   \n",
       "13 0.000082900    0.000706708    0.000317234    0.000099800    0.000000000   \n",
       "14 0.000099100    0.000930076    0.000245202    0.000234970    0.000000000   \n",
       "15 0.000178807    0.000744165    0.000302164    0.000251297    0.000000000   \n",
       "26 0.000280413    0.000626765    0.000345920    0.000112422    0.000000000   \n",
       "27 0.000357279    0.000994711    0.000442094    0.000321391    0.000000000   \n",
       "28 0.000230648    0.000757420    0.000308954    0.000298353    0.000000000   \n",
       "29 0.000235445    0.000637410    0.000281648    0.000281675    0.000000000   \n",
       "30 0.000417157    0.000675222    0.000168015    0.000403194    0.000000000   \n",
       "41 0.000127604    0.000739641    0.000276132    0.000228511    0.000000000   \n",
       "42 0.000063500    0.000765701    0.000361806    0.000277571    0.000000000   \n",
       "43 0.000000000    0.000904309    0.000536933    0.000000000    0.000243387   \n",
       "44 0.000256378    0.000640406    0.000140963    0.000309837    0.000000000   \n",
       "45 0.000192285    0.000567612    0.000327098    0.000000000    0.000081800   \n",
       "56 0.000221365    0.000534956    0.000413657    0.000000000    0.000190736   \n",
       "57 0.000268459    0.000342286    0.000076900    0.000000000    0.000165649   \n",
       "58 0.000318118    0.000542185    0.000184548    0.000000000    0.000051700   \n",
       "59 0.000399313    0.000404977    0.000228200    0.000000000    0.000177511   \n",
       "60 0.000388099    0.000588309    0.000174824    0.000000000    0.000254230   \n",
       "71 0.000455567    0.000502463    0.000197796    0.000000000    0.000178798   \n",
       "72 0.000816446    0.000458117    0.000087800    0.000000000    0.000187402   \n",
       "73 0.000587722    0.000640130    0.000102297    0.000000000    0.000147922   \n",
       "74 0.000653130    0.000644966    0.000177403    0.000000000    0.000116276   \n",
       "75 0.000448236    0.000744527    0.000275672    0.000000000    0.000071300   \n",
       "86 0.000515649    0.000785374    0.000338515    0.000000000    0.000177561   \n",
       "87 0.000613470    0.000424644    0.000040200    0.000000000    0.000257677   \n",
       "88 0.000633928    0.000554133    0.000195587    0.000000000    0.000232874   \n",
       "89 0.000633653    0.000446058    0.000050900    0.000000000    0.000175525   \n",
       "90 0.000390814    0.000610817    0.000242021    0.000000000    0.000159362   \n",
       "   X764.524_3.729 X790.38_2.768 X792.329_2.764 X795.335_2.768 X811.309_2.773\n",
       "11 0.000000000    0.000370969   0.000000000    0.000245626    0.000038000   \n",
       "12 0.000000000    0.000586134   0.000000000    0.000211682    0.000020900   \n",
       "13 0.000000000    0.001133874   0.000000000    0.000741259    0.000095300   \n",
       "14 0.000000000    0.001150258   0.000000000    0.000713691    0.000174109   \n",
       "15 0.000000000    0.001161454   0.000040900    0.000765030    0.000136971   \n",
       "26 0.000000000    0.001883720   0.000085300    0.001150782    0.000161828   \n",
       "27 0.000000000    0.002245995   0.000039900    0.001480225    0.000288184   \n",
       "28 0.000000000    0.001603371   0.000031000    0.000891854    0.000151068   \n",
       "29 0.000000000    0.001661687   0.000000000    0.001230606    0.000146975   \n",
       "30 0.000000000    0.002514242   0.000060100    0.001690800    0.000142444   \n",
       "41 0.000072000    0.001175130   0.000000000    0.000812222    0.000120914   \n",
       "42 0.000114613    0.000700880   0.000000000    0.000498314    0.000092600   \n",
       "43 0.000029700    0.000637861   0.000000000    0.000440043    0.000081300   \n",
       "44 0.000037500    0.001488391   0.000034800    0.000993733    0.000129137   \n",
       "45 0.001577768    0.001651526   0.000035000    0.000929985    0.000135980   \n",
       "56 0.000184619    0.001623528   0.000000000    0.000945503    0.000217402   \n",
       "57 0.000378080    0.001671160   0.000073800    0.001031332    0.000176385   \n",
       "58 0.001618255    0.002251726   0.000094400    0.001103733    0.000096100   \n",
       "59 0.000082300    0.002483672   0.000069700    0.001435829    0.000237145   \n",
       "60 0.000180185    0.002624289   0.000105303    0.001475393    0.000225354   \n",
       "71 0.000924533    0.003279411   0.000152498    0.001828967    0.000193993   \n",
       "72 0.000300403    0.004299948   0.000336044    0.002893847    0.000239338   \n",
       "73 0.000228459    0.003634891   0.000158965    0.001946594    0.000198602   \n",
       "74 0.000165672    0.003645282   0.000184832    0.002490058    0.000278129   \n",
       "75 0.000539402    0.002955318   0.000126904    0.001903103    0.000202461   \n",
       "86 0.000213886    0.003153394   0.000109009    0.002058631    0.000250226   \n",
       "87 0.000039900    0.004473218   0.000227324    0.002730793    0.000196587   \n",
       "88 0.000149519    0.004371001   0.000214676    0.002726334    0.000259807   \n",
       "89 0.000105094    0.003184939   0.000202266    0.002155253    0.000183599   \n",
       "90 0.000000000    0.002924124   0.000102198    0.002131361    0.000225664   "
      ]
     },
     "metadata": {},
     "output_type": "display_data"
    },
    {
     "data": {
      "text/html": [
       "<table>\n",
       "<thead><tr><th></th><th scope=col>filename</th><th scope=col>MouseID</th><th scope=col>Treatmentgroup</th><th scope=col>DPI</th><th scope=col>organ</th><th scope=col>well_position</th><th scope=col>plate</th><th scope=col>X440.337_2.765</th><th scope=col>X442.353_2.823</th><th scope=col>X105.07_2.767</th><th scope=col>...</th><th scope=col>X599.241_2.765</th><th scope=col>X604.362_2.948</th><th scope=col>X620.356_2.913</th><th scope=col>X682.363_3.329</th><th scope=col>X682.364_3.313</th><th scope=col>X764.524_3.729</th><th scope=col>X790.38_2.768</th><th scope=col>X792.329_2.764</th><th scope=col>X795.335_2.768</th><th scope=col>X811.309_2.773</th></tr></thead>\n",
       "<tbody>\n",
       "\t<tr><th scope=row>11</th><td>X511_Group1C_142dpi_LV_bottom_161_G_A1_P132.mzXML</td><td>511                                              </td><td>Group1C                                          </td><td>142                                              </td><td>LV_bottom                                        </td><td>A1                                               </td><td>P132                                             </td><td>3.07e-05                                         </td><td>0                                                </td><td>0.001681762                                      </td><td>...                                              </td><td>0.000000000                                      </td><td>0.001281931                                      </td><td>0.000659514                                      </td><td>0.000320160                                      </td><td>0                                                </td><td>0                                                </td><td>0.000370969                                      </td><td>0.00e+00                                         </td><td>0.000245626                                      </td><td>0.000038000                                      </td></tr>\n",
       "\t<tr><th scope=row>12</th><td>X512_Group1C_142dpi_LV_bottom_162_G_A2_P132.mzXML</td><td>512                                              </td><td>Group1C                                          </td><td>142                                              </td><td>LV_bottom                                        </td><td>A2                                               </td><td>P132                                             </td><td>0.00e+00                                         </td><td>0                                                </td><td>0.001668227                                      </td><td>...                                              </td><td>0.000050000                                      </td><td>0.000671298                                      </td><td>0.000483435                                      </td><td>0.000179208                                      </td><td>0                                                </td><td>0                                                </td><td>0.000586134                                      </td><td>0.00e+00                                         </td><td>0.000211682                                      </td><td>0.000020900                                      </td></tr>\n",
       "\t<tr><th scope=row>13</th><td>X513_Group1C_142dpi_LV_bottom_163_G_A3_P132.mzXML</td><td>513                                              </td><td>Group1C                                          </td><td>142                                              </td><td>LV_bottom                                        </td><td>A3                                               </td><td>P132                                             </td><td>0.00e+00                                         </td><td>0                                                </td><td>0.002195508                                      </td><td>...                                              </td><td>0.000082900                                      </td><td>0.000706708                                      </td><td>0.000317234                                      </td><td>0.000099800                                      </td><td>0                                                </td><td>0                                                </td><td>0.001133874                                      </td><td>0.00e+00                                         </td><td>0.000741259                                      </td><td>0.000095300                                      </td></tr>\n",
       "\t<tr><th scope=row>14</th><td>X514_Group1C_142dpi_LV_bottom_164_G_A4_P132.mzXML</td><td>514                                              </td><td>Group1C                                          </td><td>142                                              </td><td>LV_bottom                                        </td><td>A4                                               </td><td>P132                                             </td><td>0.00e+00                                         </td><td>0                                                </td><td>0.003006615                                      </td><td>...                                              </td><td>0.000099100                                      </td><td>0.000930076                                      </td><td>0.000245202                                      </td><td>0.000234970                                      </td><td>0                                                </td><td>0                                                </td><td>0.001150258                                      </td><td>0.00e+00                                         </td><td>0.000713691                                      </td><td>0.000174109                                      </td></tr>\n",
       "\t<tr><th scope=row>15</th><td>X515_Group1C_142dpi_LV_bottom_165_G_A5_P132.mzXML</td><td>515                                              </td><td>Group1C                                          </td><td>142                                              </td><td>LV_bottom                                        </td><td>A5                                               </td><td>P132                                             </td><td>2.93e-05                                         </td><td>0                                                </td><td>0.002858430                                      </td><td>...                                              </td><td>0.000178807                                      </td><td>0.000744165                                      </td><td>0.000302164                                      </td><td>0.000251297                                      </td><td>0                                                </td><td>0                                                </td><td>0.001161454                                      </td><td>4.09e-05                                         </td><td>0.000765030                                      </td><td>0.000136971                                      </td></tr>\n",
       "\t<tr><th scope=row>26</th><td>X531_Group1C_142dpi_LV_bottom_166_G_A6_P132.mzXML</td><td>531                                              </td><td>Group1C                                          </td><td>142                                              </td><td>LV_bottom                                        </td><td>A6                                               </td><td>P132                                             </td><td>0.00e+00                                         </td><td>0                                                </td><td>0.003596194                                      </td><td>...                                              </td><td>0.000280413                                      </td><td>0.000626765                                      </td><td>0.000345920                                      </td><td>0.000112422                                      </td><td>0                                                </td><td>0                                                </td><td>0.001883720                                      </td><td>8.53e-05                                         </td><td>0.001150782                                      </td><td>0.000161828                                      </td></tr>\n",
       "</tbody>\n",
       "</table>\n"
      ],
      "text/latex": [
       "\\begin{tabular}{r|llllllllllllllllllllllllllllllllllllllllllllllllllllllllllllll}\n",
       "  & filename & MouseID & Treatmentgroup & DPI & organ & well\\_position & plate & X440.337\\_2.765 & X442.353\\_2.823 & X105.07\\_2.767 & ... & X599.241\\_2.765 & X604.362\\_2.948 & X620.356\\_2.913 & X682.363\\_3.329 & X682.364\\_3.313 & X764.524\\_3.729 & X790.38\\_2.768 & X792.329\\_2.764 & X795.335\\_2.768 & X811.309\\_2.773\\\\\n",
       "\\hline\n",
       "\t11 & X511\\_Group1C\\_142dpi\\_LV\\_bottom\\_161\\_G\\_A1\\_P132.mzXML & 511                                                               & Group1C                                                           & 142                                                               & LV\\_bottom                                                       & A1                                                                & P132                                                              & 3.07e-05                                                          & 0                                                                 & 0.001681762                                                       & ...                                                               & 0.000000000                                                       & 0.001281931                                                       & 0.000659514                                                       & 0.000320160                                                       & 0                                                                 & 0                                                                 & 0.000370969                                                       & 0.00e+00                                                          & 0.000245626                                                       & 0.000038000                                                      \\\\\n",
       "\t12 & X512\\_Group1C\\_142dpi\\_LV\\_bottom\\_162\\_G\\_A2\\_P132.mzXML & 512                                                               & Group1C                                                           & 142                                                               & LV\\_bottom                                                       & A2                                                                & P132                                                              & 0.00e+00                                                          & 0                                                                 & 0.001668227                                                       & ...                                                               & 0.000050000                                                       & 0.000671298                                                       & 0.000483435                                                       & 0.000179208                                                       & 0                                                                 & 0                                                                 & 0.000586134                                                       & 0.00e+00                                                          & 0.000211682                                                       & 0.000020900                                                      \\\\\n",
       "\t13 & X513\\_Group1C\\_142dpi\\_LV\\_bottom\\_163\\_G\\_A3\\_P132.mzXML & 513                                                               & Group1C                                                           & 142                                                               & LV\\_bottom                                                       & A3                                                                & P132                                                              & 0.00e+00                                                          & 0                                                                 & 0.002195508                                                       & ...                                                               & 0.000082900                                                       & 0.000706708                                                       & 0.000317234                                                       & 0.000099800                                                       & 0                                                                 & 0                                                                 & 0.001133874                                                       & 0.00e+00                                                          & 0.000741259                                                       & 0.000095300                                                      \\\\\n",
       "\t14 & X514\\_Group1C\\_142dpi\\_LV\\_bottom\\_164\\_G\\_A4\\_P132.mzXML & 514                                                               & Group1C                                                           & 142                                                               & LV\\_bottom                                                       & A4                                                                & P132                                                              & 0.00e+00                                                          & 0                                                                 & 0.003006615                                                       & ...                                                               & 0.000099100                                                       & 0.000930076                                                       & 0.000245202                                                       & 0.000234970                                                       & 0                                                                 & 0                                                                 & 0.001150258                                                       & 0.00e+00                                                          & 0.000713691                                                       & 0.000174109                                                      \\\\\n",
       "\t15 & X515\\_Group1C\\_142dpi\\_LV\\_bottom\\_165\\_G\\_A5\\_P132.mzXML & 515                                                               & Group1C                                                           & 142                                                               & LV\\_bottom                                                       & A5                                                                & P132                                                              & 2.93e-05                                                          & 0                                                                 & 0.002858430                                                       & ...                                                               & 0.000178807                                                       & 0.000744165                                                       & 0.000302164                                                       & 0.000251297                                                       & 0                                                                 & 0                                                                 & 0.001161454                                                       & 4.09e-05                                                          & 0.000765030                                                       & 0.000136971                                                      \\\\\n",
       "\t26 & X531\\_Group1C\\_142dpi\\_LV\\_bottom\\_166\\_G\\_A6\\_P132.mzXML & 531                                                               & Group1C                                                           & 142                                                               & LV\\_bottom                                                       & A6                                                                & P132                                                              & 0.00e+00                                                          & 0                                                                 & 0.003596194                                                       & ...                                                               & 0.000280413                                                       & 0.000626765                                                       & 0.000345920                                                       & 0.000112422                                                       & 0                                                                 & 0                                                                 & 0.001883720                                                       & 8.53e-05                                                          & 0.001150782                                                       & 0.000161828                                                      \\\\\n",
       "\\end{tabular}\n"
      ],
      "text/markdown": [
       "\n",
       "| <!--/--> | filename | MouseID | Treatmentgroup | DPI | organ | well_position | plate | X440.337_2.765 | X442.353_2.823 | X105.07_2.767 | ... | X599.241_2.765 | X604.362_2.948 | X620.356_2.913 | X682.363_3.329 | X682.364_3.313 | X764.524_3.729 | X790.38_2.768 | X792.329_2.764 | X795.335_2.768 | X811.309_2.773 |\n",
       "|---|---|---|---|---|---|---|---|---|---|---|---|---|---|---|---|---|---|---|---|---|---|\n",
       "| 11 | X511_Group1C_142dpi_LV_bottom_161_G_A1_P132.mzXML | 511                                               | Group1C                                           | 142                                               | LV_bottom                                         | A1                                                | P132                                              | 3.07e-05                                          | 0                                                 | 0.001681762                                       | ...                                               | 0.000000000                                       | 0.001281931                                       | 0.000659514                                       | 0.000320160                                       | 0                                                 | 0                                                 | 0.000370969                                       | 0.00e+00                                          | 0.000245626                                       | 0.000038000                                       |\n",
       "| 12 | X512_Group1C_142dpi_LV_bottom_162_G_A2_P132.mzXML | 512                                               | Group1C                                           | 142                                               | LV_bottom                                         | A2                                                | P132                                              | 0.00e+00                                          | 0                                                 | 0.001668227                                       | ...                                               | 0.000050000                                       | 0.000671298                                       | 0.000483435                                       | 0.000179208                                       | 0                                                 | 0                                                 | 0.000586134                                       | 0.00e+00                                          | 0.000211682                                       | 0.000020900                                       |\n",
       "| 13 | X513_Group1C_142dpi_LV_bottom_163_G_A3_P132.mzXML | 513                                               | Group1C                                           | 142                                               | LV_bottom                                         | A3                                                | P132                                              | 0.00e+00                                          | 0                                                 | 0.002195508                                       | ...                                               | 0.000082900                                       | 0.000706708                                       | 0.000317234                                       | 0.000099800                                       | 0                                                 | 0                                                 | 0.001133874                                       | 0.00e+00                                          | 0.000741259                                       | 0.000095300                                       |\n",
       "| 14 | X514_Group1C_142dpi_LV_bottom_164_G_A4_P132.mzXML | 514                                               | Group1C                                           | 142                                               | LV_bottom                                         | A4                                                | P132                                              | 0.00e+00                                          | 0                                                 | 0.003006615                                       | ...                                               | 0.000099100                                       | 0.000930076                                       | 0.000245202                                       | 0.000234970                                       | 0                                                 | 0                                                 | 0.001150258                                       | 0.00e+00                                          | 0.000713691                                       | 0.000174109                                       |\n",
       "| 15 | X515_Group1C_142dpi_LV_bottom_165_G_A5_P132.mzXML | 515                                               | Group1C                                           | 142                                               | LV_bottom                                         | A5                                                | P132                                              | 2.93e-05                                          | 0                                                 | 0.002858430                                       | ...                                               | 0.000178807                                       | 0.000744165                                       | 0.000302164                                       | 0.000251297                                       | 0                                                 | 0                                                 | 0.001161454                                       | 4.09e-05                                          | 0.000765030                                       | 0.000136971                                       |\n",
       "| 26 | X531_Group1C_142dpi_LV_bottom_166_G_A6_P132.mzXML | 531                                               | Group1C                                           | 142                                               | LV_bottom                                         | A6                                                | P132                                              | 0.00e+00                                          | 0                                                 | 0.003596194                                       | ...                                               | 0.000280413                                       | 0.000626765                                       | 0.000345920                                       | 0.000112422                                       | 0                                                 | 0                                                 | 0.001883720                                       | 8.53e-05                                          | 0.001150782                                       | 0.000161828                                       |\n",
       "\n"
      ],
      "text/plain": [
       "   filename                                          MouseID Treatmentgroup DPI\n",
       "11 X511_Group1C_142dpi_LV_bottom_161_G_A1_P132.mzXML 511     Group1C        142\n",
       "12 X512_Group1C_142dpi_LV_bottom_162_G_A2_P132.mzXML 512     Group1C        142\n",
       "13 X513_Group1C_142dpi_LV_bottom_163_G_A3_P132.mzXML 513     Group1C        142\n",
       "14 X514_Group1C_142dpi_LV_bottom_164_G_A4_P132.mzXML 514     Group1C        142\n",
       "15 X515_Group1C_142dpi_LV_bottom_165_G_A5_P132.mzXML 515     Group1C        142\n",
       "26 X531_Group1C_142dpi_LV_bottom_166_G_A6_P132.mzXML 531     Group1C        142\n",
       "   organ     well_position plate X440.337_2.765 X442.353_2.823 X105.07_2.767\n",
       "11 LV_bottom A1            P132  3.07e-05       0              0.001681762  \n",
       "12 LV_bottom A2            P132  0.00e+00       0              0.001668227  \n",
       "13 LV_bottom A3            P132  0.00e+00       0              0.002195508  \n",
       "14 LV_bottom A4            P132  0.00e+00       0              0.003006615  \n",
       "15 LV_bottom A5            P132  2.93e-05       0              0.002858430  \n",
       "26 LV_bottom A6            P132  0.00e+00       0              0.003596194  \n",
       "   ... X599.241_2.765 X604.362_2.948 X620.356_2.913 X682.363_3.329\n",
       "11 ... 0.000000000    0.001281931    0.000659514    0.000320160   \n",
       "12 ... 0.000050000    0.000671298    0.000483435    0.000179208   \n",
       "13 ... 0.000082900    0.000706708    0.000317234    0.000099800   \n",
       "14 ... 0.000099100    0.000930076    0.000245202    0.000234970   \n",
       "15 ... 0.000178807    0.000744165    0.000302164    0.000251297   \n",
       "26 ... 0.000280413    0.000626765    0.000345920    0.000112422   \n",
       "   X682.364_3.313 X764.524_3.729 X790.38_2.768 X792.329_2.764 X795.335_2.768\n",
       "11 0              0              0.000370969   0.00e+00       0.000245626   \n",
       "12 0              0              0.000586134   0.00e+00       0.000211682   \n",
       "13 0              0              0.001133874   0.00e+00       0.000741259   \n",
       "14 0              0              0.001150258   0.00e+00       0.000713691   \n",
       "15 0              0              0.001161454   4.09e-05       0.000765030   \n",
       "26 0              0              0.001883720   8.53e-05       0.001150782   \n",
       "   X811.309_2.773\n",
       "11 0.000038000   \n",
       "12 0.000020900   \n",
       "13 0.000095300   \n",
       "14 0.000174109   \n",
       "15 0.000136971   \n",
       "26 0.000161828   "
      ]
     },
     "metadata": {},
     "output_type": "display_data"
    },
    {
     "data": {
      "text/html": [
       "<ol class=list-inline>\n",
       "\t<li>30</li>\n",
       "\t<li>62</li>\n",
       "</ol>\n"
      ],
      "text/latex": [
       "\\begin{enumerate*}\n",
       "\\item 30\n",
       "\\item 62\n",
       "\\end{enumerate*}\n"
      ],
      "text/markdown": [
       "1. 30\n",
       "2. 62\n",
       "\n",
       "\n"
      ],
      "text/plain": [
       "[1] 30 62"
      ]
     },
     "metadata": {},
     "output_type": "display_data"
    },
    {
     "data": {
      "text/html": [
       "<ol class=list-inline>\n",
       "\t<li>30</li>\n",
       "\t<li>55</li>\n",
       "</ol>\n"
      ],
      "text/latex": [
       "\\begin{enumerate*}\n",
       "\\item 30\n",
       "\\item 55\n",
       "\\end{enumerate*}\n"
      ],
      "text/markdown": [
       "1. 30\n",
       "2. 55\n",
       "\n",
       "\n"
      ],
      "text/plain": [
       "[1] 30 55"
      ]
     },
     "metadata": {},
     "output_type": "display_data"
    },
    {
     "data": {
      "text/html": [
       "<ol class=list-inline>\n",
       "\t<li>30</li>\n",
       "\t<li>55</li>\n",
       "</ol>\n"
      ],
      "text/latex": [
       "\\begin{enumerate*}\n",
       "\\item 30\n",
       "\\item 55\n",
       "\\end{enumerate*}\n"
      ],
      "text/markdown": [
       "1. 30\n",
       "2. 55\n",
       "\n",
       "\n"
      ],
      "text/plain": [
       "[1] 30 55"
      ]
     },
     "metadata": {},
     "output_type": "display_data"
    },
    {
     "data": {
      "text/html": [
       "<ol class=list-inline>\n",
       "\t<li>30</li>\n",
       "\t<li>62</li>\n",
       "</ol>\n"
      ],
      "text/latex": [
       "\\begin{enumerate*}\n",
       "\\item 30\n",
       "\\item 62\n",
       "\\end{enumerate*}\n"
      ],
      "text/markdown": [
       "1. 30\n",
       "2. 62\n",
       "\n",
       "\n"
      ],
      "text/plain": [
       "[1] 30 62"
      ]
     },
     "metadata": {},
     "output_type": "display_data"
    }
   ],
   "source": [
    "# choose feature table range\n",
    "noMeta<-features_pos[,8:62]\n",
    "head(noMeta)\n",
    "not_zero<-which(colSums(noMeta) != 0)\n",
    "head(not_zero)\n",
    "nonzero <- noMeta[, not_zero] # all the non-zero columns\n",
    "nonzero\n",
    "# metadata range \n",
    "nonzero_wMeta<-cbind(features_pos[,1:7], nonzero)\n",
    "head(nonzero_wMeta)\n",
    "dim(features_pos)\n",
    "dim(noMeta)\n",
    "dim(nonzero)\n",
    "dim(nonzero_wMeta)"
   ]
  },
  {
   "cell_type": "code",
   "execution_count": 6,
   "metadata": {
    "scrolled": true
   },
   "outputs": [
    {
     "name": "stderr",
     "output_type": "stream",
     "text": [
      "Warning message in wilcox.test.default(x = c(3.07e-05, 0, 0, 0, 2.93e-05, 0, 0, :\n",
      "\"cannot compute exact p-value with ties\"Warning message in wilcox.test.default(x = c(0, 0, 0, 0, 0, 0, 0, 0, 0, 0, 0, 0, :\n",
      "\"cannot compute exact p-value with ties\"Warning message in wilcox.test.default(x = c(0, 2.04e-05, 0, 6.38e-05, 0, 0.000107639, :\n",
      "\"cannot compute exact p-value with ties\"Warning message in wilcox.test.default(x = c(0, 0, 0, 0, 0, 0, 0, 0, 0, 0, 0, 0, :\n",
      "\"cannot compute exact p-value with ties\"Warning message in wilcox.test.default(x = c(0.001018126, 0.000295572, 0.000332938, :\n",
      "\"cannot compute exact p-value with ties\"Warning message in wilcox.test.default(x = c(0, 0, 0, 0, 0, 0, 0, 0, 0, 0, 0, 0, :\n",
      "\"cannot compute exact p-value with ties\"Warning message in wilcox.test.default(x = c(0.000289195, 2.16e-05, 0.000217687, :\n",
      "\"cannot compute exact p-value with ties\"Warning message in wilcox.test.default(x = c(0, 0, 0, 0, 3.82e-05, 3.66e-05, 7.32e-05, :\n",
      "\"cannot compute exact p-value with ties\"Warning message in wilcox.test.default(x = c(0.000469904, 0, 0.000233476, 0.000569435, :\n",
      "\"cannot compute exact p-value with ties\"Warning message in wilcox.test.default(x = c(0.000783173, 0.001102132, 0.000964264, :\n",
      "\"cannot compute exact p-value with ties\"Warning message in wilcox.test.default(x = c(0.000335882, 0.000240339, 0.000505689, :\n",
      "\"cannot compute exact p-value with ties\"Warning message in wilcox.test.default(x = c(0.000403325, 0.000247302, 0.000294236, :\n",
      "\"cannot compute exact p-value with ties\"Warning message in wilcox.test.default(x = c(0.000365461, 4.09e-05, 0.000253374, :\n",
      "\"cannot compute exact p-value with ties\"Warning message in wilcox.test.default(x = c(0.000213246, 5.46e-05, 0.000146106, :\n",
      "\"cannot compute exact p-value with ties\"Warning message in wilcox.test.default(x = c(0, 0, 0, 0, 0, 0, 0, 0, 0, 0, 0, 0, :\n",
      "\"cannot compute exact p-value with ties\"Warning message in wilcox.test.default(x = c(0.000299024, 0.000113403, 6.65e-05, :\n",
      "\"cannot compute exact p-value with ties\"Warning message in wilcox.test.default(x = c(0, 0, 0, 0, 0, 0, 0, 2.98e-05, 0, 0, :\n",
      "\"cannot compute exact p-value with ties\"Warning message in wilcox.test.default(x = c(0.000157225, 2.96e-05, 0.00013103, :\n",
      "\"cannot compute exact p-value with ties\"Warning message in wilcox.test.default(x = c(0, 1.89e-05, 7.36e-05, 0, 3.46e-05, :\n",
      "\"cannot compute exact p-value with ties\"Warning message in wilcox.test.default(x = c(0.000294606, 0.0001312, 0.000165049, :\n",
      "\"cannot compute exact p-value with ties\"Warning message in wilcox.test.default(x = c(0, 0, 3.26e-05, 0, 3.48e-05, 0, 3.07e-05, :\n",
      "\"cannot compute exact p-value with ties\"Warning message in wilcox.test.default(x = c(4.78e-05, 0, 4.14e-05, 3.38e-05, 4.07e-05, :\n",
      "\"cannot compute exact p-value with ties\"Warning message in wilcox.test.default(x = c(4.54e-05, 0, 4.32e-05, 9.5e-05, 4.27e-05, :\n",
      "\"cannot compute exact p-value with ties\"Warning message in wilcox.test.default(x = c(0, 0, 3.16e-05, 0, 0, 0, 4.01e-05, :\n",
      "\"cannot compute exact p-value with ties\"Warning message in wilcox.test.default(x = c(0.000141141, 5.99e-05, 0.000104218, :\n",
      "\"cannot compute exact p-value with ties\"Warning message in wilcox.test.default(x = c(6.8e-05, 0, 5.37e-05, 3.98e-05, 3.25e-05, :\n",
      "\"cannot compute exact p-value with ties\"Warning message in wilcox.test.default(x = c(0, 0, 3.91e-05, 0.000110453, 8.42e-05, :\n",
      "\"cannot compute exact p-value with ties\"Warning message in wilcox.test.default(x = c(0, 0, 3.35e-05, 0, 3.55e-05, 0, 0, :\n",
      "\"cannot compute exact p-value with ties\"Warning message in wilcox.test.default(x = c(0.000136364, 2.92e-05, 6.59e-05, 0.000139283, :\n",
      "\"cannot compute exact p-value with ties\"Warning message in wilcox.test.default(x = c(9.86e-05, 2.26e-05, 0, 0.000106894, :\n",
      "\"cannot compute exact p-value with ties\"Warning message in wilcox.test.default(x = c(0.000968662, 0.000245307, 0.000706708, :\n",
      "\"cannot compute exact p-value with ties\"Warning message in wilcox.test.default(x = c(0.000952174, 0.000280543, 0.000747541, :\n",
      "\"cannot compute exact p-value with ties\"Warning message in wilcox.test.default(x = c(0, 0, 2.57e-05, 0, 3.68e-05, 0, 0, :\n",
      "\"cannot compute exact p-value with ties\"Warning message in wilcox.test.default(x = c(0, 0, 0, 0, 0.000486837, 0, 0, 0.000737747, :\n",
      "\"cannot compute exact p-value with ties\"Warning message in wilcox.test.default(x = c(0.010511012, 0.005711046, 0.008072181, :\n",
      "\"cannot compute exact p-value with ties\"Warning message in wilcox.test.default(x = c(0, 0, 0, 0, 0, 0, 0, 0, 0, 0, 0, 0.009601653, :\n",
      "\"cannot compute exact p-value with ties\"Warning message in wilcox.test.default(x = c(0, 5e-05, 8.29e-05, 9.91e-05, 0.000178807, :\n",
      "\"cannot compute exact p-value with ties\"Warning message in wilcox.test.default(x = c(0.00032016, 0.000179208, 9.98e-05, :\n",
      "\"cannot compute exact p-value with ties\"Warning message in wilcox.test.default(x = c(0, 0, 0, 0, 0, 0, 0, 0, 0, 0, 0, 0, :\n",
      "\"cannot compute exact p-value with ties\"Warning message in wilcox.test.default(x = c(0, 0, 0, 0, 0, 0, 0, 0, 0, 0, 7.2e-05, :\n",
      "\"cannot compute exact p-value with ties\"Warning message in wilcox.test.default(x = c(0, 0, 0, 0, 4.09e-05, 8.53e-05, 3.99e-05, :\n",
      "\"cannot compute exact p-value with ties\""
     ]
    },
    {
     "data": {
      "text/html": [
       "<ol class=list-inline>\n",
       "\t<li>3.91162664521798e-05</li>\n",
       "\t<li>8.69821395565509e-06</li>\n",
       "\t<li>3.43223641017469e-05</li>\n",
       "\t<li>0.000142673533825389</li>\n",
       "\t<li>6.8661555478264e-07</li>\n",
       "\t<li>1.32653456125068e-05</li>\n",
       "</ol>\n"
      ],
      "text/latex": [
       "\\begin{enumerate*}\n",
       "\\item 3.91162664521798e-05\n",
       "\\item 8.69821395565509e-06\n",
       "\\item 3.43223641017469e-05\n",
       "\\item 0.000142673533825389\n",
       "\\item 6.8661555478264e-07\n",
       "\\item 1.32653456125068e-05\n",
       "\\end{enumerate*}\n"
      ],
      "text/markdown": [
       "1. 3.91162664521798e-05\n",
       "2. 8.69821395565509e-06\n",
       "3. 3.43223641017469e-05\n",
       "4. 0.000142673533825389\n",
       "5. 6.8661555478264e-07\n",
       "6. 1.32653456125068e-05\n",
       "\n",
       "\n"
      ],
      "text/plain": [
       "[1] 3.911627e-05 8.698214e-06 3.432236e-05 1.426735e-04 6.866156e-07\n",
       "[6] 1.326535e-05"
      ]
     },
     "metadata": {},
     "output_type": "display_data"
    },
    {
     "data": {
      "text/html": [
       "<ol class=list-inline>\n",
       "\t<li>8.60557861947956e-05</li>\n",
       "\t<li>3.73116609116256e-05</li>\n",
       "\t<li>7.86554177331699e-05</li>\n",
       "\t<li>0.00019617610900991</li>\n",
       "\t<li>2.37561817646388e-05</li>\n",
       "\t<li>5.03072084427646e-05</li>\n",
       "</ol>\n"
      ],
      "text/latex": [
       "\\begin{enumerate*}\n",
       "\\item 8.60557861947956e-05\n",
       "\\item 3.73116609116256e-05\n",
       "\\item 7.86554177331699e-05\n",
       "\\item 0.00019617610900991\n",
       "\\item 2.37561817646388e-05\n",
       "\\item 5.03072084427646e-05\n",
       "\\end{enumerate*}\n"
      ],
      "text/markdown": [
       "1. 8.60557861947956e-05\n",
       "2. 3.73116609116256e-05\n",
       "3. 7.86554177331699e-05\n",
       "4. 0.00019617610900991\n",
       "5. 2.37561817646388e-05\n",
       "6. 5.03072084427646e-05\n",
       "\n",
       "\n"
      ],
      "text/plain": [
       "[1] 8.605579e-05 3.731166e-05 7.865542e-05 1.961761e-04 2.375618e-05\n",
       "[6] 5.030721e-05"
      ]
     },
     "metadata": {},
     "output_type": "display_data"
    }
   ],
   "source": [
    "pval<-c()\n",
    "# the feature table ranges\n",
    "for (i in 8:ncol(nonzero_wMeta)) \n",
    "# change the group need to use\n",
    "pval<-c(pval,wilcox.test(nonzero_wMeta[,i]~nonzero_wMeta$Treatmentgroup)$p.value)\n",
    "head(pval) #to check\n",
    "pAdj <- p.adjust(pval, method = c(\"fdr\"), n=length(pval)) \n",
    "head(pAdj)"
   ]
  },
  {
   "cell_type": "code",
   "execution_count": 7,
   "metadata": {
    "scrolled": true
   },
   "outputs": [
    {
     "data": {
      "text/html": [
       "55"
      ],
      "text/latex": [
       "55"
      ],
      "text/markdown": [
       "55"
      ],
      "text/plain": [
       "[1] 55"
      ]
     },
     "metadata": {},
     "output_type": "display_data"
    }
   ],
   "source": [
    "length(pval)"
   ]
  },
  {
   "cell_type": "code",
   "execution_count": 8,
   "metadata": {
    "scrolled": true
   },
   "outputs": [
    {
     "data": {
      "text/html": [
       "55"
      ],
      "text/latex": [
       "55"
      ],
      "text/markdown": [
       "55"
      ],
      "text/plain": [
       "[1] 55"
      ]
     },
     "metadata": {},
     "output_type": "display_data"
    }
   ],
   "source": [
    "length(pAdj)"
   ]
  },
  {
   "cell_type": "code",
   "execution_count": 9,
   "metadata": {},
   "outputs": [
    {
     "data": {
      "text/html": [
       "<ol class=list-inline>\n",
       "\t<li>2</li>\n",
       "\t<li>55</li>\n",
       "</ol>\n"
      ],
      "text/latex": [
       "\\begin{enumerate*}\n",
       "\\item 2\n",
       "\\item 55\n",
       "\\end{enumerate*}\n"
      ],
      "text/markdown": [
       "1. 2\n",
       "2. 55\n",
       "\n",
       "\n"
      ],
      "text/plain": [
       "[1]  2 55"
      ]
     },
     "metadata": {},
     "output_type": "display_data"
    },
    {
     "data": {
      "text/html": [
       "<table>\n",
       "<thead><tr><th></th><th scope=col>X440.337_2.765</th><th scope=col>X442.353_2.823</th><th scope=col>X105.07_2.767</th></tr></thead>\n",
       "<tbody>\n",
       "\t<tr><th scope=row>Group1C</th><td>5.546667e-06</td><td>0.000000000 </td><td>0.002891567 </td></tr>\n",
       "\t<tr><th scope=row>Group3E</th><td>1.783875e-04</td><td>0.000175233 </td><td>0.005180241 </td></tr>\n",
       "</tbody>\n",
       "</table>\n"
      ],
      "text/latex": [
       "\\begin{tabular}{r|lll}\n",
       "  & X440.337\\_2.765 & X442.353\\_2.823 & X105.07\\_2.767\\\\\n",
       "\\hline\n",
       "\tGroup1C & 5.546667e-06 & 0.000000000  & 0.002891567 \\\\\n",
       "\tGroup3E & 1.783875e-04 & 0.000175233  & 0.005180241 \\\\\n",
       "\\end{tabular}\n"
      ],
      "text/markdown": [
       "\n",
       "| <!--/--> | X440.337_2.765 | X442.353_2.823 | X105.07_2.767 |\n",
       "|---|---|---|---|\n",
       "| Group1C | 5.546667e-06 | 0.000000000  | 0.002891567  |\n",
       "| Group3E | 1.783875e-04 | 0.000175233  | 0.005180241  |\n",
       "\n"
      ],
      "text/plain": [
       "        X440.337_2.765 X442.353_2.823 X105.07_2.767\n",
       "Group1C 5.546667e-06   0.000000000    0.002891567  \n",
       "Group3E 1.783875e-04   0.000175233    0.005180241  "
      ]
     },
     "metadata": {},
     "output_type": "display_data"
    },
    {
     "data": {
      "text/html": [
       "<dl class=dl-horizontal>\n",
       "\t<dt>X440.337_2.765</dt>\n",
       "\t\t<dd>0.0310933536835347</dd>\n",
       "\t<dt>X442.353_2.823</dt>\n",
       "\t\t<dd>0</dd>\n",
       "\t<dt>X105.07_2.767</dt>\n",
       "\t\t<dd>0.558191670678063</dd>\n",
       "\t<dt>X119.049_2.765</dt>\n",
       "\t\t<dd>0.185794766164651</dd>\n",
       "\t<dt>X128.018_0.344</dt>\n",
       "\t\t<dd>0</dd>\n",
       "\t<dt>X136.062_0.301</dt>\n",
       "\t\t<dd>4.99816024500202</dd>\n",
       "</dl>\n"
      ],
      "text/latex": [
       "\\begin{description*}\n",
       "\\item[X440.337\\textbackslash{}\\_2.765] 0.0310933536835347\n",
       "\\item[X442.353\\textbackslash{}\\_2.823] 0\n",
       "\\item[X105.07\\textbackslash{}\\_2.767] 0.558191670678063\n",
       "\\item[X119.049\\textbackslash{}\\_2.765] 0.185794766164651\n",
       "\\item[X128.018\\textbackslash{}\\_0.344] 0\n",
       "\\item[X136.062\\textbackslash{}\\_0.301] 4.99816024500202\n",
       "\\end{description*}\n"
      ],
      "text/markdown": [
       "X440.337_2.765\n",
       ":   0.0310933536835347X442.353_2.823\n",
       ":   0X105.07_2.767\n",
       ":   0.558191670678063X119.049_2.765\n",
       ":   0.185794766164651X128.018_0.344\n",
       ":   0X136.062_0.301\n",
       ":   4.99816024500202\n",
       "\n"
      ],
      "text/plain": [
       "X440.337_2.765 X442.353_2.823  X105.07_2.767 X119.049_2.765 X128.018_0.344 \n",
       "    0.03109335     0.00000000     0.55819167     0.18579477     0.00000000 \n",
       "X136.062_0.301 \n",
       "    4.99816025 "
      ]
     },
     "metadata": {},
     "output_type": "display_data"
    },
    {
     "data": {
      "text/html": [
       "<ol class=list-inline>\n",
       "\t<li>'numeric'</li>\n",
       "\t<li>'vector'</li>\n",
       "</ol>\n"
      ],
      "text/latex": [
       "\\begin{enumerate*}\n",
       "\\item 'numeric'\n",
       "\\item 'vector'\n",
       "\\end{enumerate*}\n"
      ],
      "text/markdown": [
       "1. 'numeric'\n",
       "2. 'vector'\n",
       "\n",
       "\n"
      ],
      "text/plain": [
       "[1] \"numeric\" \"vector\" "
      ]
     },
     "metadata": {},
     "output_type": "display_data"
    }
   ],
   "source": [
    "# change the group you want to use\n",
    "avg<- apply(nonzero_wMeta[,8:ncol(nonzero_wMeta)], 2, function(x) tapply(x, nonzero_wMeta$Treatmentgroup, function(x) mean(x))) \n",
    "\n",
    "dim(avg) #to check\n",
    "\n",
    "avg[,1:3]#to check\n",
    "\n",
    "fch <- apply(avg, 2, function(x) x[1]/x[2]) #calculate fold change\n",
    "\n",
    "head(fch) #to check it's ok\n",
    "is(fch)"
   ]
  },
  {
   "cell_type": "code",
   "execution_count": 10,
   "metadata": {
    "scrolled": true
   },
   "outputs": [
    {
     "data": {
      "text/html": [
       "<dl class=dl-horizontal>\n",
       "\t<dt>X440.337_2.765</dt>\n",
       "\t\t<dd>0.0310933536835347</dd>\n",
       "\t<dt>X442.353_2.823</dt>\n",
       "\t\t<dd>0</dd>\n",
       "\t<dt>X105.07_2.767</dt>\n",
       "\t\t<dd>0.558191670678063</dd>\n",
       "\t<dt>X119.049_2.765</dt>\n",
       "\t\t<dd>0.185794766164651</dd>\n",
       "\t<dt>X128.018_0.344</dt>\n",
       "\t\t<dd>0</dd>\n",
       "\t<dt>X136.062_0.301</dt>\n",
       "\t\t<dd>4.99816024500202</dd>\n",
       "\t<dt>X136.097_0.551</dt>\n",
       "\t\t<dd>0</dd>\n",
       "\t<dt>X137.046_0.31</dt>\n",
       "\t\t<dd>1.77855180896765</dd>\n",
       "\t<dt>X137.046_0.42</dt>\n",
       "\t\t<dd>1.76252575950595</dd>\n",
       "\t<dt>X203.007_0.309</dt>\n",
       "\t\t<dd>7.04884520205689</dd>\n",
       "\t<dt>X249.112_2.768</dt>\n",
       "\t\t<dd>0.15707580383628</dd>\n",
       "\t<dt>X251.037_0.323</dt>\n",
       "\t\t<dd>5.07666168779031</dd>\n",
       "\t<dt>X256.264_3.225</dt>\n",
       "\t\t<dd>5.92921243009436</dd>\n",
       "\t<dt>X258.207_2.775</dt>\n",
       "\t\t<dd>1.77046886312898</dd>\n",
       "\t<dt>X267.123_2.767</dt>\n",
       "\t\t<dd>0.572274044309063</dd>\n",
       "\t<dt>X285.133_2.768</dt>\n",
       "\t\t<dd>0.528712085795955</dd>\n",
       "\t<dt>X291.146_2.39</dt>\n",
       "\t\t<dd>4.2383832610299</dd>\n",
       "\t<dt>X296.258_2.976</dt>\n",
       "\t\t<dd>5.8219730062419</dd>\n",
       "\t<dt>X301.115_0.328</dt>\n",
       "\t\t<dd>2.81852041174016</dd>\n",
       "\t<dt>X301.115_0.413</dt>\n",
       "\t\t<dd>3.66957896236395</dd>\n",
       "\t<dt>X324.327_3.455</dt>\n",
       "\t\t<dd>0</dd>\n",
       "\t<dt>X351.217_2.741</dt>\n",
       "\t\t<dd>4.05922969219304</dd>\n",
       "\t<dt>X352.306_2.997</dt>\n",
       "\t\t<dd>0.0354802453613746</dd>\n",
       "\t<dt>X369.17_2.767</dt>\n",
       "\t\t<dd>0.456663663598029</dd>\n",
       "\t<dt>X380.993_2.164</dt>\n",
       "\t\t<dd>67.825</dd>\n",
       "\t<dt>X386.717_2.856</dt>\n",
       "\t\t<dd>26.0055197132616</dd>\n",
       "\t<dt>X387.193_2.842</dt>\n",
       "\t\t<dd>3.76375474516149</dd>\n",
       "\t<dt>X396.332_2.991</dt>\n",
       "\t\t<dd>0.191817492545922</dd>\n",
       "\t<dt>X397.22_2.071</dt>\n",
       "\t\t<dd>65.209921875</dd>\n",
       "\t<dt>X400.97_2.127</dt>\n",
       "\t\t<dd>Inf</dd>\n",
       "\t<dt>X416.337_2.79</dt>\n",
       "\t\t<dd>0.0420029906129316</dd>\n",
       "\t<dt>X420.899_2.103</dt>\n",
       "\t\t<dd>7.33107373271889</dd>\n",
       "\t<dt>X426.484_2.164</dt>\n",
       "\t\t<dd>15.5934669811321</dd>\n",
       "\t<dt>X430.223_2.769</dt>\n",
       "\t\t<dd>0.392106739704293</dd>\n",
       "\t<dt>X440.359_2.985</dt>\n",
       "\t\t<dd>0.177914528698426</dd>\n",
       "\t<dt>X458.23_2.165</dt>\n",
       "\t\t<dd>38.4092160611855</dd>\n",
       "\t<dt>X466.25_2.226</dt>\n",
       "\t\t<dd>Inf</dd>\n",
       "\t<dt>X475.989_2.164</dt>\n",
       "\t\t<dd>7.71390185463184</dd>\n",
       "\t<dt>X476.24_2.164</dt>\n",
       "\t\t<dd>7.77637330321484</dd>\n",
       "\t<dt>X484.385_2.982</dt>\n",
       "\t\t<dd>0.128221368558736</dd>\n",
       "\t<dt>X489.228_2.768</dt>\n",
       "\t\t<dd>0.314568015128013</dd>\n",
       "\t<dt>X494.325_2.865</dt>\n",
       "\t\t<dd>0.443430464000513</dd>\n",
       "\t<dt>X570.357_2.934</dt>\n",
       "\t\t<dd>1.63611980022058</dd>\n",
       "\t<dt>X580.361_2.989</dt>\n",
       "\t\t<dd>Inf</dd>\n",
       "\t<dt>X580.362_2.984</dt>\n",
       "\t\t<dd>0.201395573376226</dd>\n",
       "\t<dt>X599.241_2.765</dt>\n",
       "\t\t<dd>0.350153438828514</dd>\n",
       "\t<dt>X604.362_2.948</dt>\n",
       "\t\t<dd>1.41579001894712</dd>\n",
       "\t<dt>X620.356_2.913</dt>\n",
       "\t\t<dd>1.86522438198053</dd>\n",
       "\t<dt>X682.363_3.329</dt>\n",
       "\t\t<dd>Inf</dd>\n",
       "\t<dt>X682.364_3.313</dt>\n",
       "\t\t<dd>0.12779880551286</dd>\n",
       "\t<dt>X764.524_3.729</dt>\n",
       "\t\t<dd>0.358409191463448</dd>\n",
       "\t<dt>X790.38_2.768</dt>\n",
       "\t\t<dd>0.428665717062564</dd>\n",
       "\t<dt>X792.329_2.764</dt>\n",
       "\t\t<dd>0.15153488152243</dd>\n",
       "\t<dt>X795.335_2.768</dt>\n",
       "\t\t<dd>0.443426942573641</dd>\n",
       "\t<dt>X811.309_2.773</dt>\n",
       "\t\t<dd>0.60227452785344</dd>\n",
       "</dl>\n"
      ],
      "text/latex": [
       "\\begin{description*}\n",
       "\\item[X440.337\\textbackslash{}\\_2.765] 0.0310933536835347\n",
       "\\item[X442.353\\textbackslash{}\\_2.823] 0\n",
       "\\item[X105.07\\textbackslash{}\\_2.767] 0.558191670678063\n",
       "\\item[X119.049\\textbackslash{}\\_2.765] 0.185794766164651\n",
       "\\item[X128.018\\textbackslash{}\\_0.344] 0\n",
       "\\item[X136.062\\textbackslash{}\\_0.301] 4.99816024500202\n",
       "\\item[X136.097\\textbackslash{}\\_0.551] 0\n",
       "\\item[X137.046\\textbackslash{}\\_0.31] 1.77855180896765\n",
       "\\item[X137.046\\textbackslash{}\\_0.42] 1.76252575950595\n",
       "\\item[X203.007\\textbackslash{}\\_0.309] 7.04884520205689\n",
       "\\item[X249.112\\textbackslash{}\\_2.768] 0.15707580383628\n",
       "\\item[X251.037\\textbackslash{}\\_0.323] 5.07666168779031\n",
       "\\item[X256.264\\textbackslash{}\\_3.225] 5.92921243009436\n",
       "\\item[X258.207\\textbackslash{}\\_2.775] 1.77046886312898\n",
       "\\item[X267.123\\textbackslash{}\\_2.767] 0.572274044309063\n",
       "\\item[X285.133\\textbackslash{}\\_2.768] 0.528712085795955\n",
       "\\item[X291.146\\textbackslash{}\\_2.39] 4.2383832610299\n",
       "\\item[X296.258\\textbackslash{}\\_2.976] 5.8219730062419\n",
       "\\item[X301.115\\textbackslash{}\\_0.328] 2.81852041174016\n",
       "\\item[X301.115\\textbackslash{}\\_0.413] 3.66957896236395\n",
       "\\item[X324.327\\textbackslash{}\\_3.455] 0\n",
       "\\item[X351.217\\textbackslash{}\\_2.741] 4.05922969219304\n",
       "\\item[X352.306\\textbackslash{}\\_2.997] 0.0354802453613746\n",
       "\\item[X369.17\\textbackslash{}\\_2.767] 0.456663663598029\n",
       "\\item[X380.993\\textbackslash{}\\_2.164] 67.825\n",
       "\\item[X386.717\\textbackslash{}\\_2.856] 26.0055197132616\n",
       "\\item[X387.193\\textbackslash{}\\_2.842] 3.76375474516149\n",
       "\\item[X396.332\\textbackslash{}\\_2.991] 0.191817492545922\n",
       "\\item[X397.22\\textbackslash{}\\_2.071] 65.209921875\n",
       "\\item[X400.97\\textbackslash{}\\_2.127] Inf\n",
       "\\item[X416.337\\textbackslash{}\\_2.79] 0.0420029906129316\n",
       "\\item[X420.899\\textbackslash{}\\_2.103] 7.33107373271889\n",
       "\\item[X426.484\\textbackslash{}\\_2.164] 15.5934669811321\n",
       "\\item[X430.223\\textbackslash{}\\_2.769] 0.392106739704293\n",
       "\\item[X440.359\\textbackslash{}\\_2.985] 0.177914528698426\n",
       "\\item[X458.23\\textbackslash{}\\_2.165] 38.4092160611855\n",
       "\\item[X466.25\\textbackslash{}\\_2.226] Inf\n",
       "\\item[X475.989\\textbackslash{}\\_2.164] 7.71390185463184\n",
       "\\item[X476.24\\textbackslash{}\\_2.164] 7.77637330321484\n",
       "\\item[X484.385\\textbackslash{}\\_2.982] 0.128221368558736\n",
       "\\item[X489.228\\textbackslash{}\\_2.768] 0.314568015128013\n",
       "\\item[X494.325\\textbackslash{}\\_2.865] 0.443430464000513\n",
       "\\item[X570.357\\textbackslash{}\\_2.934] 1.63611980022058\n",
       "\\item[X580.361\\textbackslash{}\\_2.989] Inf\n",
       "\\item[X580.362\\textbackslash{}\\_2.984] 0.201395573376226\n",
       "\\item[X599.241\\textbackslash{}\\_2.765] 0.350153438828514\n",
       "\\item[X604.362\\textbackslash{}\\_2.948] 1.41579001894712\n",
       "\\item[X620.356\\textbackslash{}\\_2.913] 1.86522438198053\n",
       "\\item[X682.363\\textbackslash{}\\_3.329] Inf\n",
       "\\item[X682.364\\textbackslash{}\\_3.313] 0.12779880551286\n",
       "\\item[X764.524\\textbackslash{}\\_3.729] 0.358409191463448\n",
       "\\item[X790.38\\textbackslash{}\\_2.768] 0.428665717062564\n",
       "\\item[X792.329\\textbackslash{}\\_2.764] 0.15153488152243\n",
       "\\item[X795.335\\textbackslash{}\\_2.768] 0.443426942573641\n",
       "\\item[X811.309\\textbackslash{}\\_2.773] 0.60227452785344\n",
       "\\end{description*}\n"
      ],
      "text/markdown": [
       "X440.337_2.765\n",
       ":   0.0310933536835347X442.353_2.823\n",
       ":   0X105.07_2.767\n",
       ":   0.558191670678063X119.049_2.765\n",
       ":   0.185794766164651X128.018_0.344\n",
       ":   0X136.062_0.301\n",
       ":   4.99816024500202X136.097_0.551\n",
       ":   0X137.046_0.31\n",
       ":   1.77855180896765X137.046_0.42\n",
       ":   1.76252575950595X203.007_0.309\n",
       ":   7.04884520205689X249.112_2.768\n",
       ":   0.15707580383628X251.037_0.323\n",
       ":   5.07666168779031X256.264_3.225\n",
       ":   5.92921243009436X258.207_2.775\n",
       ":   1.77046886312898X267.123_2.767\n",
       ":   0.572274044309063X285.133_2.768\n",
       ":   0.528712085795955X291.146_2.39\n",
       ":   4.2383832610299X296.258_2.976\n",
       ":   5.8219730062419X301.115_0.328\n",
       ":   2.81852041174016X301.115_0.413\n",
       ":   3.66957896236395X324.327_3.455\n",
       ":   0X351.217_2.741\n",
       ":   4.05922969219304X352.306_2.997\n",
       ":   0.0354802453613746X369.17_2.767\n",
       ":   0.456663663598029X380.993_2.164\n",
       ":   67.825X386.717_2.856\n",
       ":   26.0055197132616X387.193_2.842\n",
       ":   3.76375474516149X396.332_2.991\n",
       ":   0.191817492545922X397.22_2.071\n",
       ":   65.209921875X400.97_2.127\n",
       ":   InfX416.337_2.79\n",
       ":   0.0420029906129316X420.899_2.103\n",
       ":   7.33107373271889X426.484_2.164\n",
       ":   15.5934669811321X430.223_2.769\n",
       ":   0.392106739704293X440.359_2.985\n",
       ":   0.177914528698426X458.23_2.165\n",
       ":   38.4092160611855X466.25_2.226\n",
       ":   InfX475.989_2.164\n",
       ":   7.71390185463184X476.24_2.164\n",
       ":   7.77637330321484X484.385_2.982\n",
       ":   0.128221368558736X489.228_2.768\n",
       ":   0.314568015128013X494.325_2.865\n",
       ":   0.443430464000513X570.357_2.934\n",
       ":   1.63611980022058X580.361_2.989\n",
       ":   InfX580.362_2.984\n",
       ":   0.201395573376226X599.241_2.765\n",
       ":   0.350153438828514X604.362_2.948\n",
       ":   1.41579001894712X620.356_2.913\n",
       ":   1.86522438198053X682.363_3.329\n",
       ":   InfX682.364_3.313\n",
       ":   0.12779880551286X764.524_3.729\n",
       ":   0.358409191463448X790.38_2.768\n",
       ":   0.428665717062564X792.329_2.764\n",
       ":   0.15153488152243X795.335_2.768\n",
       ":   0.443426942573641X811.309_2.773\n",
       ":   0.60227452785344\n",
       "\n"
      ],
      "text/plain": [
       "X440.337_2.765 X442.353_2.823  X105.07_2.767 X119.049_2.765 X128.018_0.344 \n",
       "    0.03109335     0.00000000     0.55819167     0.18579477     0.00000000 \n",
       "X136.062_0.301 X136.097_0.551  X137.046_0.31  X137.046_0.42 X203.007_0.309 \n",
       "    4.99816025     0.00000000     1.77855181     1.76252576     7.04884520 \n",
       "X249.112_2.768 X251.037_0.323 X256.264_3.225 X258.207_2.775 X267.123_2.767 \n",
       "    0.15707580     5.07666169     5.92921243     1.77046886     0.57227404 \n",
       "X285.133_2.768  X291.146_2.39 X296.258_2.976 X301.115_0.328 X301.115_0.413 \n",
       "    0.52871209     4.23838326     5.82197301     2.81852041     3.66957896 \n",
       "X324.327_3.455 X351.217_2.741 X352.306_2.997  X369.17_2.767 X380.993_2.164 \n",
       "    0.00000000     4.05922969     0.03548025     0.45666366    67.82500000 \n",
       "X386.717_2.856 X387.193_2.842 X396.332_2.991  X397.22_2.071  X400.97_2.127 \n",
       "   26.00551971     3.76375475     0.19181749    65.20992188            Inf \n",
       " X416.337_2.79 X420.899_2.103 X426.484_2.164 X430.223_2.769 X440.359_2.985 \n",
       "    0.04200299     7.33107373    15.59346698     0.39210674     0.17791453 \n",
       " X458.23_2.165  X466.25_2.226 X475.989_2.164  X476.24_2.164 X484.385_2.982 \n",
       "   38.40921606            Inf     7.71390185     7.77637330     0.12822137 \n",
       "X489.228_2.768 X494.325_2.865 X570.357_2.934 X580.361_2.989 X580.362_2.984 \n",
       "    0.31456802     0.44343046     1.63611980            Inf     0.20139557 \n",
       "X599.241_2.765 X604.362_2.948 X620.356_2.913 X682.363_3.329 X682.364_3.313 \n",
       "    0.35015344     1.41579002     1.86522438            Inf     0.12779881 \n",
       "X764.524_3.729  X790.38_2.768 X792.329_2.764 X795.335_2.768 X811.309_2.773 \n",
       "    0.35840919     0.42866572     0.15153488     0.44342694     0.60227453 "
      ]
     },
     "metadata": {},
     "output_type": "display_data"
    }
   ],
   "source": [
    "fch"
   ]
  },
  {
   "cell_type": "code",
   "execution_count": 11,
   "metadata": {
    "scrolled": false
   },
   "outputs": [],
   "source": [
    "#Convoluted way to get the names; likely could find a simpler way\n",
    "\n",
    "#make dataframe from pval and fch\n",
    "df <- data.frame(fch,pval, pAdj)\n",
    "write.csv(df, \"LVB-wilcox-1C-3E.csv\")"
   ]
  },
  {
   "cell_type": "code",
   "execution_count": null,
   "metadata": {},
   "outputs": [],
   "source": []
  },
  {
   "cell_type": "code",
   "execution_count": null,
   "metadata": {},
   "outputs": [],
   "source": []
  },
  {
   "cell_type": "code",
   "execution_count": null,
   "metadata": {},
   "outputs": [],
   "source": []
  }
 ],
 "metadata": {
  "kernelspec": {
   "display_name": "R",
   "language": "R",
   "name": "ir"
  },
  "language_info": {
   "codemirror_mode": "r",
   "file_extension": ".r",
   "mimetype": "text/x-r-source",
   "name": "R",
   "pygments_lexer": "r",
   "version": "3.6.1"
  }
 },
 "nbformat": 4,
 "nbformat_minor": 2
}
