{
 "cells": [
  {
   "cell_type": "code",
   "execution_count": null,
   "metadata": {},
   "outputs": [],
   "source": [
    "# after I have filtered feature table, I do wilcox p value for filtered mass list. So that the p value will be more accurate"
   ]
  },
  {
   "cell_type": "code",
   "execution_count": 1,
   "metadata": {},
   "outputs": [],
   "source": [
    "a <- read.csv(\"03172021-9-15-3E-1C-LVT-M-F-filtered-fix.csv\")"
   ]
  },
  {
   "cell_type": "code",
   "execution_count": 2,
   "metadata": {},
   "outputs": [
    {
     "data": {
      "text/html": [
       "<table>\n",
       "<thead><tr><th scope=col>filename</th><th scope=col>MouseID</th><th scope=col>Treatmentgroup</th><th scope=col>DPI</th><th scope=col>organ</th><th scope=col>well_position</th><th scope=col>plate</th><th scope=col>X141.091_1.54</th><th scope=col>X203.007_0.309</th><th scope=col>X240.116_2.324</th><th scope=col>...</th><th scope=col>X708.445_3.006</th><th scope=col>X709.936_2.18</th><th scope=col>X720.445_3.09</th><th scope=col>X737.391_2.399</th><th scope=col>X776.042_2.398</th><th scope=col>X776.095_2.398</th><th scope=col>X776.148_2.398</th><th scope=col>X776.359_2.398</th><th scope=col>X819.433_2.399</th><th scope=col>X867.281_2.399</th></tr></thead>\n",
       "<tbody>\n",
       "\t<tr><td>X511_Group1C_142dpi_LV_top_161_G_A1_P128.mzXML</td><td>511                                           </td><td>Group1C                                       </td><td>142dpi                                        </td><td>LV_top                                        </td><td>A1                                            </td><td>P128                                          </td><td>0.000150701                                   </td><td>0.000253054                                   </td><td>3.74e-05                                      </td><td>...                                           </td><td>0.000561014                                   </td><td>0                                             </td><td>0.00000000                                    </td><td>0.000083200                                   </td><td>0.000080700                                   </td><td>0.000135990                                   </td><td>0.000323401                                   </td><td>0.000323462                                   </td><td>0.000265376                                   </td><td>0.000099000                                   </td></tr>\n",
       "\t<tr><td>X512_Group1C_142dpi_LV_top_162_G_A2_P128.mzXML</td><td>512                                           </td><td>Group1C                                       </td><td>142dpi                                        </td><td>LV_top                                        </td><td>A2                                            </td><td>P128                                          </td><td>0.000360521                                   </td><td>0.000326035                                   </td><td>0.00e+00                                      </td><td>...                                           </td><td>0.000621951                                   </td><td>0                                             </td><td>0.00000000                                    </td><td>0.000082400                                   </td><td>0.000120213                                   </td><td>0.000151179                                   </td><td>0.000243702                                   </td><td>0.000214309                                   </td><td>0.000353256                                   </td><td>0.000135352                                   </td></tr>\n",
       "\t<tr><td>X513_Group1C_142dpi_LV_top_163_G_A3_P128.mzXML</td><td>513                                           </td><td>Group1C                                       </td><td>142dpi                                        </td><td>LV_top                                        </td><td>A3                                            </td><td>P128                                          </td><td>0.000115526                                   </td><td>0.000073000                                   </td><td>0.00e+00                                      </td><td>...                                           </td><td>0.000582842                                   </td><td>0                                             </td><td>0.00002720                                    </td><td>0.000042000                                   </td><td>0.000056100                                   </td><td>0.000157763                                   </td><td>0.000178871                                   </td><td>0.000202296                                   </td><td>0.000203821                                   </td><td>0.000092300                                   </td></tr>\n",
       "\t<tr><td>X514_Group1C_142dpi_LV_top_164_G_A4_P128.mzXML</td><td>514                                           </td><td>Group1C                                       </td><td>142dpi                                        </td><td>LV_top                                        </td><td>A4                                            </td><td>P128                                          </td><td>0.000249240                                   </td><td>0.000333486                                   </td><td>0.00e+00                                      </td><td>...                                           </td><td>0.000774688                                   </td><td>0                                             </td><td>0.00015684                                    </td><td>0.000065100                                   </td><td>0.000074200                                   </td><td>0.000248777                                   </td><td>0.000308660                                   </td><td>0.000307198                                   </td><td>0.000339938                                   </td><td>0.000099300                                   </td></tr>\n",
       "\t<tr><td>X515_Group1C_142dpi_LV_top_165_G_A5_P128.mzXML</td><td>515                                           </td><td>Group1C                                       </td><td>142dpi                                        </td><td>LV_top                                        </td><td>A5                                            </td><td>P128                                          </td><td>0.000166425                                   </td><td>0.000000000                                   </td><td>3.27e-05                                      </td><td>...                                           </td><td>0.000321481                                   </td><td>0                                             </td><td>0.00000000                                    </td><td>0.000196736                                   </td><td>0.000188043                                   </td><td>0.000370402                                   </td><td>0.000512506                                   </td><td>0.000582393                                   </td><td>0.000442618                                   </td><td>0.000209434                                   </td></tr>\n",
       "\t<tr><td>X531_Group1C_142dpi_LV_top_166_G_A6_P128.mzXML</td><td>531                                           </td><td>Group1C                                       </td><td>142dpi                                        </td><td>LV_top                                        </td><td>A6                                            </td><td>P128                                          </td><td>0.000142641                                   </td><td>0.000000000                                   </td><td>3.77e-05                                      </td><td>...                                           </td><td>0.000377722                                   </td><td>0                                             </td><td>0.00000000                                    </td><td>0.000247236                                   </td><td>0.000247236                                   </td><td>0.000430374                                   </td><td>0.000666165                                   </td><td>0.000762312                                   </td><td>0.000503630                                   </td><td>0.000338805                                   </td></tr>\n",
       "</tbody>\n",
       "</table>\n"
      ],
      "text/latex": [
       "\\begin{tabular}{r|lllllllllllllllllllllllllllllllllll}\n",
       " filename & MouseID & Treatmentgroup & DPI & organ & well\\_position & plate & X141.091\\_1.54 & X203.007\\_0.309 & X240.116\\_2.324 & ... & X708.445\\_3.006 & X709.936\\_2.18 & X720.445\\_3.09 & X737.391\\_2.399 & X776.042\\_2.398 & X776.095\\_2.398 & X776.148\\_2.398 & X776.359\\_2.398 & X819.433\\_2.399 & X867.281\\_2.399\\\\\n",
       "\\hline\n",
       "\t X511\\_Group1C\\_142dpi\\_LV\\_top\\_161\\_G\\_A1\\_P128.mzXML & 511                                                            & Group1C                                                        & 142dpi                                                         & LV\\_top                                                       & A1                                                             & P128                                                           & 0.000150701                                                    & 0.000253054                                                    & 3.74e-05                                                       & ...                                                            & 0.000561014                                                    & 0                                                              & 0.00000000                                                     & 0.000083200                                                    & 0.000080700                                                    & 0.000135990                                                    & 0.000323401                                                    & 0.000323462                                                    & 0.000265376                                                    & 0.000099000                                                   \\\\\n",
       "\t X512\\_Group1C\\_142dpi\\_LV\\_top\\_162\\_G\\_A2\\_P128.mzXML & 512                                                            & Group1C                                                        & 142dpi                                                         & LV\\_top                                                       & A2                                                             & P128                                                           & 0.000360521                                                    & 0.000326035                                                    & 0.00e+00                                                       & ...                                                            & 0.000621951                                                    & 0                                                              & 0.00000000                                                     & 0.000082400                                                    & 0.000120213                                                    & 0.000151179                                                    & 0.000243702                                                    & 0.000214309                                                    & 0.000353256                                                    & 0.000135352                                                   \\\\\n",
       "\t X513\\_Group1C\\_142dpi\\_LV\\_top\\_163\\_G\\_A3\\_P128.mzXML & 513                                                            & Group1C                                                        & 142dpi                                                         & LV\\_top                                                       & A3                                                             & P128                                                           & 0.000115526                                                    & 0.000073000                                                    & 0.00e+00                                                       & ...                                                            & 0.000582842                                                    & 0                                                              & 0.00002720                                                     & 0.000042000                                                    & 0.000056100                                                    & 0.000157763                                                    & 0.000178871                                                    & 0.000202296                                                    & 0.000203821                                                    & 0.000092300                                                   \\\\\n",
       "\t X514\\_Group1C\\_142dpi\\_LV\\_top\\_164\\_G\\_A4\\_P128.mzXML & 514                                                            & Group1C                                                        & 142dpi                                                         & LV\\_top                                                       & A4                                                             & P128                                                           & 0.000249240                                                    & 0.000333486                                                    & 0.00e+00                                                       & ...                                                            & 0.000774688                                                    & 0                                                              & 0.00015684                                                     & 0.000065100                                                    & 0.000074200                                                    & 0.000248777                                                    & 0.000308660                                                    & 0.000307198                                                    & 0.000339938                                                    & 0.000099300                                                   \\\\\n",
       "\t X515\\_Group1C\\_142dpi\\_LV\\_top\\_165\\_G\\_A5\\_P128.mzXML & 515                                                            & Group1C                                                        & 142dpi                                                         & LV\\_top                                                       & A5                                                             & P128                                                           & 0.000166425                                                    & 0.000000000                                                    & 3.27e-05                                                       & ...                                                            & 0.000321481                                                    & 0                                                              & 0.00000000                                                     & 0.000196736                                                    & 0.000188043                                                    & 0.000370402                                                    & 0.000512506                                                    & 0.000582393                                                    & 0.000442618                                                    & 0.000209434                                                   \\\\\n",
       "\t X531\\_Group1C\\_142dpi\\_LV\\_top\\_166\\_G\\_A6\\_P128.mzXML & 531                                                            & Group1C                                                        & 142dpi                                                         & LV\\_top                                                       & A6                                                             & P128                                                           & 0.000142641                                                    & 0.000000000                                                    & 3.77e-05                                                       & ...                                                            & 0.000377722                                                    & 0                                                              & 0.00000000                                                     & 0.000247236                                                    & 0.000247236                                                    & 0.000430374                                                    & 0.000666165                                                    & 0.000762312                                                    & 0.000503630                                                    & 0.000338805                                                   \\\\\n",
       "\\end{tabular}\n"
      ],
      "text/markdown": [
       "\n",
       "| filename | MouseID | Treatmentgroup | DPI | organ | well_position | plate | X141.091_1.54 | X203.007_0.309 | X240.116_2.324 | ... | X708.445_3.006 | X709.936_2.18 | X720.445_3.09 | X737.391_2.399 | X776.042_2.398 | X776.095_2.398 | X776.148_2.398 | X776.359_2.398 | X819.433_2.399 | X867.281_2.399 |\n",
       "|---|---|---|---|---|---|---|---|---|---|---|---|---|---|---|---|---|---|---|---|---|\n",
       "| X511_Group1C_142dpi_LV_top_161_G_A1_P128.mzXML | 511                                            | Group1C                                        | 142dpi                                         | LV_top                                         | A1                                             | P128                                           | 0.000150701                                    | 0.000253054                                    | 3.74e-05                                       | ...                                            | 0.000561014                                    | 0                                              | 0.00000000                                     | 0.000083200                                    | 0.000080700                                    | 0.000135990                                    | 0.000323401                                    | 0.000323462                                    | 0.000265376                                    | 0.000099000                                    |\n",
       "| X512_Group1C_142dpi_LV_top_162_G_A2_P128.mzXML | 512                                            | Group1C                                        | 142dpi                                         | LV_top                                         | A2                                             | P128                                           | 0.000360521                                    | 0.000326035                                    | 0.00e+00                                       | ...                                            | 0.000621951                                    | 0                                              | 0.00000000                                     | 0.000082400                                    | 0.000120213                                    | 0.000151179                                    | 0.000243702                                    | 0.000214309                                    | 0.000353256                                    | 0.000135352                                    |\n",
       "| X513_Group1C_142dpi_LV_top_163_G_A3_P128.mzXML | 513                                            | Group1C                                        | 142dpi                                         | LV_top                                         | A3                                             | P128                                           | 0.000115526                                    | 0.000073000                                    | 0.00e+00                                       | ...                                            | 0.000582842                                    | 0                                              | 0.00002720                                     | 0.000042000                                    | 0.000056100                                    | 0.000157763                                    | 0.000178871                                    | 0.000202296                                    | 0.000203821                                    | 0.000092300                                    |\n",
       "| X514_Group1C_142dpi_LV_top_164_G_A4_P128.mzXML | 514                                            | Group1C                                        | 142dpi                                         | LV_top                                         | A4                                             | P128                                           | 0.000249240                                    | 0.000333486                                    | 0.00e+00                                       | ...                                            | 0.000774688                                    | 0                                              | 0.00015684                                     | 0.000065100                                    | 0.000074200                                    | 0.000248777                                    | 0.000308660                                    | 0.000307198                                    | 0.000339938                                    | 0.000099300                                    |\n",
       "| X515_Group1C_142dpi_LV_top_165_G_A5_P128.mzXML | 515                                            | Group1C                                        | 142dpi                                         | LV_top                                         | A5                                             | P128                                           | 0.000166425                                    | 0.000000000                                    | 3.27e-05                                       | ...                                            | 0.000321481                                    | 0                                              | 0.00000000                                     | 0.000196736                                    | 0.000188043                                    | 0.000370402                                    | 0.000512506                                    | 0.000582393                                    | 0.000442618                                    | 0.000209434                                    |\n",
       "| X531_Group1C_142dpi_LV_top_166_G_A6_P128.mzXML | 531                                            | Group1C                                        | 142dpi                                         | LV_top                                         | A6                                             | P128                                           | 0.000142641                                    | 0.000000000                                    | 3.77e-05                                       | ...                                            | 0.000377722                                    | 0                                              | 0.00000000                                     | 0.000247236                                    | 0.000247236                                    | 0.000430374                                    | 0.000666165                                    | 0.000762312                                    | 0.000503630                                    | 0.000338805                                    |\n",
       "\n"
      ],
      "text/plain": [
       "  filename                                       MouseID Treatmentgroup DPI   \n",
       "1 X511_Group1C_142dpi_LV_top_161_G_A1_P128.mzXML 511     Group1C        142dpi\n",
       "2 X512_Group1C_142dpi_LV_top_162_G_A2_P128.mzXML 512     Group1C        142dpi\n",
       "3 X513_Group1C_142dpi_LV_top_163_G_A3_P128.mzXML 513     Group1C        142dpi\n",
       "4 X514_Group1C_142dpi_LV_top_164_G_A4_P128.mzXML 514     Group1C        142dpi\n",
       "5 X515_Group1C_142dpi_LV_top_165_G_A5_P128.mzXML 515     Group1C        142dpi\n",
       "6 X531_Group1C_142dpi_LV_top_166_G_A6_P128.mzXML 531     Group1C        142dpi\n",
       "  organ  well_position plate X141.091_1.54 X203.007_0.309 X240.116_2.324 ...\n",
       "1 LV_top A1            P128  0.000150701   0.000253054    3.74e-05       ...\n",
       "2 LV_top A2            P128  0.000360521   0.000326035    0.00e+00       ...\n",
       "3 LV_top A3            P128  0.000115526   0.000073000    0.00e+00       ...\n",
       "4 LV_top A4            P128  0.000249240   0.000333486    0.00e+00       ...\n",
       "5 LV_top A5            P128  0.000166425   0.000000000    3.27e-05       ...\n",
       "6 LV_top A6            P128  0.000142641   0.000000000    3.77e-05       ...\n",
       "  X708.445_3.006 X709.936_2.18 X720.445_3.09 X737.391_2.399 X776.042_2.398\n",
       "1 0.000561014    0             0.00000000    0.000083200    0.000080700   \n",
       "2 0.000621951    0             0.00000000    0.000082400    0.000120213   \n",
       "3 0.000582842    0             0.00002720    0.000042000    0.000056100   \n",
       "4 0.000774688    0             0.00015684    0.000065100    0.000074200   \n",
       "5 0.000321481    0             0.00000000    0.000196736    0.000188043   \n",
       "6 0.000377722    0             0.00000000    0.000247236    0.000247236   \n",
       "  X776.095_2.398 X776.148_2.398 X776.359_2.398 X819.433_2.399 X867.281_2.399\n",
       "1 0.000135990    0.000323401    0.000323462    0.000265376    0.000099000   \n",
       "2 0.000151179    0.000243702    0.000214309    0.000353256    0.000135352   \n",
       "3 0.000157763    0.000178871    0.000202296    0.000203821    0.000092300   \n",
       "4 0.000248777    0.000308660    0.000307198    0.000339938    0.000099300   \n",
       "5 0.000370402    0.000512506    0.000582393    0.000442618    0.000209434   \n",
       "6 0.000430374    0.000666165    0.000762312    0.000503630    0.000338805   "
      ]
     },
     "metadata": {},
     "output_type": "display_data"
    },
    {
     "data": {
      "text/html": [
       "<ol class=list-inline>\n",
       "\t<li>60</li>\n",
       "\t<li>35</li>\n",
       "</ol>\n"
      ],
      "text/latex": [
       "\\begin{enumerate*}\n",
       "\\item 60\n",
       "\\item 35\n",
       "\\end{enumerate*}\n"
      ],
      "text/markdown": [
       "1. 60\n",
       "2. 35\n",
       "\n",
       "\n"
      ],
      "text/plain": [
       "[1] 60 35"
      ]
     },
     "metadata": {},
     "output_type": "display_data"
    }
   ],
   "source": [
    "head(a)\n",
    "dim(a)"
   ]
  },
  {
   "cell_type": "code",
   "execution_count": 3,
   "metadata": {},
   "outputs": [
    {
     "data": {
      "text/html": [
       "<table>\n",
       "<thead><tr><th></th><th scope=col>filename</th><th scope=col>MouseID</th><th scope=col>Treatmentgroup</th><th scope=col>DPI</th><th scope=col>organ</th><th scope=col>well_position</th><th scope=col>plate</th><th scope=col>X141.091_1.54</th><th scope=col>X203.007_0.309</th><th scope=col>X240.116_2.324</th><th scope=col>...</th><th scope=col>X708.445_3.006</th><th scope=col>X709.936_2.18</th><th scope=col>X720.445_3.09</th><th scope=col>X737.391_2.399</th><th scope=col>X776.042_2.398</th><th scope=col>X776.095_2.398</th><th scope=col>X776.148_2.398</th><th scope=col>X776.359_2.398</th><th scope=col>X819.433_2.399</th><th scope=col>X867.281_2.399</th></tr></thead>\n",
       "<tbody>\n",
       "\t<tr><th scope=row>16</th><td>X581_Group3E_142dpi_LV_top_176_G_B4_P128.mzXML</td><td>581                                           </td><td>Group3E                                       </td><td>142dpi                                        </td><td>LV_top                                        </td><td>B4                                            </td><td>P128                                          </td><td>0.000076600                                   </td><td>0.000000000                                   </td><td>0.000213447                                   </td><td>...                                           </td><td>0.000686223                                   </td><td>9.20e-05                                      </td><td>0.000000000                                   </td><td>0.000255339                                   </td><td>0.000307205                                   </td><td>0.000428890                                   </td><td>0.000696197                                   </td><td>0.000766017                                   </td><td>0.000626378                                   </td><td>0.000307205                                   </td></tr>\n",
       "\t<tr><th scope=row>17</th><td>X582_Group3E_142dpi_LV_top_177_G_B5_P128.mzXML</td><td>582                                           </td><td>Group3E                                       </td><td>142dpi                                        </td><td>LV_top                                        </td><td>B5                                            </td><td>P128                                          </td><td>0.000114338                                   </td><td>0.000115359                                   </td><td>0.000000000                                   </td><td>...                                           </td><td>0.001008079                                   </td><td>4.16e-05                                      </td><td>0.000180561                                   </td><td>0.000036200                                   </td><td>0.000038900                                   </td><td>0.000056900                                   </td><td>0.000084500                                   </td><td>0.000075500                                   </td><td>0.000166114                                   </td><td>0.000048300                                   </td></tr>\n",
       "\t<tr><th scope=row>18</th><td>X583_Group3E_142dpi_LV_top_178_G_B6_P128.mzXML</td><td>583                                           </td><td>Group3E                                       </td><td>142dpi                                        </td><td>LV_top                                        </td><td>B6                                            </td><td>P128                                          </td><td>0.000086600                                   </td><td>0.000000000                                   </td><td>0.000196786                                   </td><td>...                                           </td><td>0.000552891                                   </td><td>4.41e-05                                      </td><td>0.000000000                                   </td><td>0.000088700                                   </td><td>0.000095200                                   </td><td>0.000216706                                   </td><td>0.000338104                                   </td><td>0.000471894                                   </td><td>0.000485981                                   </td><td>0.000190673                                   </td></tr>\n",
       "\t<tr><th scope=row>19</th><td>X584_Group3E_142dpi_LV_top_179_G_B7_P128.mzXML</td><td>584                                           </td><td>Group3E                                       </td><td>142dpi                                        </td><td>LV_top                                        </td><td>B7                                            </td><td>P128                                          </td><td>0.000137472                                   </td><td>0.000064900                                   </td><td>0.000081400                                   </td><td>...                                           </td><td>0.000502270                                   </td><td>0.00e+00                                      </td><td>0.000234553                                   </td><td>0.000000000                                   </td><td>0.000000000                                   </td><td>0.000000000                                   </td><td>0.000000000                                   </td><td>0.000000000                                   </td><td>0.000000000                                   </td><td>0.000000000                                   </td></tr>\n",
       "\t<tr><th scope=row>20</th><td>X585_Group3E_142dpi_LV_top_180_G_B8_P128.mzXML</td><td>585                                           </td><td>Group3E                                       </td><td>142dpi                                        </td><td>LV_top                                        </td><td>B8                                            </td><td>P128                                          </td><td>0.000077500                                   </td><td>0.000130843                                   </td><td>0.000081800                                   </td><td>...                                           </td><td>0.000926023                                   </td><td>0.00e+00                                      </td><td>0.000152366                                   </td><td>0.000000000                                   </td><td>0.000000000                                   </td><td>0.000000000                                   </td><td>0.000023500                                   </td><td>0.000035800                                   </td><td>0.000000000                                   </td><td>0.000000000                                   </td></tr>\n",
       "\t<tr><th scope=row>26</th><td>X631_Group15_142dpi_LV_top_191_G_C7_P128.mzXML</td><td>631                                           </td><td>Group15                                       </td><td>142dpi                                        </td><td>LV_top                                        </td><td>C7                                            </td><td>P128                                          </td><td>0.000240284                                   </td><td>0.000177127                                   </td><td>0.000062800                                   </td><td>...                                           </td><td>0.000871016                                   </td><td>0.00e+00                                      </td><td>0.000373889                                   </td><td>0.000000000                                   </td><td>0.000000000                                   </td><td>0.000000000                                   </td><td>0.000059700                                   </td><td>0.000088200                                   </td><td>0.000081300                                   </td><td>0.000064400                                   </td></tr>\n",
       "</tbody>\n",
       "</table>\n"
      ],
      "text/latex": [
       "\\begin{tabular}{r|lllllllllllllllllllllllllllllllllll}\n",
       "  & filename & MouseID & Treatmentgroup & DPI & organ & well\\_position & plate & X141.091\\_1.54 & X203.007\\_0.309 & X240.116\\_2.324 & ... & X708.445\\_3.006 & X709.936\\_2.18 & X720.445\\_3.09 & X737.391\\_2.399 & X776.042\\_2.398 & X776.095\\_2.398 & X776.148\\_2.398 & X776.359\\_2.398 & X819.433\\_2.399 & X867.281\\_2.399\\\\\n",
       "\\hline\n",
       "\t16 & X581\\_Group3E\\_142dpi\\_LV\\_top\\_176\\_G\\_B4\\_P128.mzXML & 581                                                            & Group3E                                                        & 142dpi                                                         & LV\\_top                                                       & B4                                                             & P128                                                           & 0.000076600                                                    & 0.000000000                                                    & 0.000213447                                                    & ...                                                            & 0.000686223                                                    & 9.20e-05                                                       & 0.000000000                                                    & 0.000255339                                                    & 0.000307205                                                    & 0.000428890                                                    & 0.000696197                                                    & 0.000766017                                                    & 0.000626378                                                    & 0.000307205                                                   \\\\\n",
       "\t17 & X582\\_Group3E\\_142dpi\\_LV\\_top\\_177\\_G\\_B5\\_P128.mzXML & 582                                                            & Group3E                                                        & 142dpi                                                         & LV\\_top                                                       & B5                                                             & P128                                                           & 0.000114338                                                    & 0.000115359                                                    & 0.000000000                                                    & ...                                                            & 0.001008079                                                    & 4.16e-05                                                       & 0.000180561                                                    & 0.000036200                                                    & 0.000038900                                                    & 0.000056900                                                    & 0.000084500                                                    & 0.000075500                                                    & 0.000166114                                                    & 0.000048300                                                   \\\\\n",
       "\t18 & X583\\_Group3E\\_142dpi\\_LV\\_top\\_178\\_G\\_B6\\_P128.mzXML & 583                                                            & Group3E                                                        & 142dpi                                                         & LV\\_top                                                       & B6                                                             & P128                                                           & 0.000086600                                                    & 0.000000000                                                    & 0.000196786                                                    & ...                                                            & 0.000552891                                                    & 4.41e-05                                                       & 0.000000000                                                    & 0.000088700                                                    & 0.000095200                                                    & 0.000216706                                                    & 0.000338104                                                    & 0.000471894                                                    & 0.000485981                                                    & 0.000190673                                                   \\\\\n",
       "\t19 & X584\\_Group3E\\_142dpi\\_LV\\_top\\_179\\_G\\_B7\\_P128.mzXML & 584                                                            & Group3E                                                        & 142dpi                                                         & LV\\_top                                                       & B7                                                             & P128                                                           & 0.000137472                                                    & 0.000064900                                                    & 0.000081400                                                    & ...                                                            & 0.000502270                                                    & 0.00e+00                                                       & 0.000234553                                                    & 0.000000000                                                    & 0.000000000                                                    & 0.000000000                                                    & 0.000000000                                                    & 0.000000000                                                    & 0.000000000                                                    & 0.000000000                                                   \\\\\n",
       "\t20 & X585\\_Group3E\\_142dpi\\_LV\\_top\\_180\\_G\\_B8\\_P128.mzXML & 585                                                            & Group3E                                                        & 142dpi                                                         & LV\\_top                                                       & B8                                                             & P128                                                           & 0.000077500                                                    & 0.000130843                                                    & 0.000081800                                                    & ...                                                            & 0.000926023                                                    & 0.00e+00                                                       & 0.000152366                                                    & 0.000000000                                                    & 0.000000000                                                    & 0.000000000                                                    & 0.000023500                                                    & 0.000035800                                                    & 0.000000000                                                    & 0.000000000                                                   \\\\\n",
       "\t26 & X631\\_Group15\\_142dpi\\_LV\\_top\\_191\\_G\\_C7\\_P128.mzXML & 631                                                            & Group15                                                        & 142dpi                                                         & LV\\_top                                                       & C7                                                             & P128                                                           & 0.000240284                                                    & 0.000177127                                                    & 0.000062800                                                    & ...                                                            & 0.000871016                                                    & 0.00e+00                                                       & 0.000373889                                                    & 0.000000000                                                    & 0.000000000                                                    & 0.000000000                                                    & 0.000059700                                                    & 0.000088200                                                    & 0.000081300                                                    & 0.000064400                                                   \\\\\n",
       "\\end{tabular}\n"
      ],
      "text/markdown": [
       "\n",
       "| <!--/--> | filename | MouseID | Treatmentgroup | DPI | organ | well_position | plate | X141.091_1.54 | X203.007_0.309 | X240.116_2.324 | ... | X708.445_3.006 | X709.936_2.18 | X720.445_3.09 | X737.391_2.399 | X776.042_2.398 | X776.095_2.398 | X776.148_2.398 | X776.359_2.398 | X819.433_2.399 | X867.281_2.399 |\n",
       "|---|---|---|---|---|---|---|---|---|---|---|---|---|---|---|---|---|---|---|---|---|---|\n",
       "| 16 | X581_Group3E_142dpi_LV_top_176_G_B4_P128.mzXML | 581                                            | Group3E                                        | 142dpi                                         | LV_top                                         | B4                                             | P128                                           | 0.000076600                                    | 0.000000000                                    | 0.000213447                                    | ...                                            | 0.000686223                                    | 9.20e-05                                       | 0.000000000                                    | 0.000255339                                    | 0.000307205                                    | 0.000428890                                    | 0.000696197                                    | 0.000766017                                    | 0.000626378                                    | 0.000307205                                    |\n",
       "| 17 | X582_Group3E_142dpi_LV_top_177_G_B5_P128.mzXML | 582                                            | Group3E                                        | 142dpi                                         | LV_top                                         | B5                                             | P128                                           | 0.000114338                                    | 0.000115359                                    | 0.000000000                                    | ...                                            | 0.001008079                                    | 4.16e-05                                       | 0.000180561                                    | 0.000036200                                    | 0.000038900                                    | 0.000056900                                    | 0.000084500                                    | 0.000075500                                    | 0.000166114                                    | 0.000048300                                    |\n",
       "| 18 | X583_Group3E_142dpi_LV_top_178_G_B6_P128.mzXML | 583                                            | Group3E                                        | 142dpi                                         | LV_top                                         | B6                                             | P128                                           | 0.000086600                                    | 0.000000000                                    | 0.000196786                                    | ...                                            | 0.000552891                                    | 4.41e-05                                       | 0.000000000                                    | 0.000088700                                    | 0.000095200                                    | 0.000216706                                    | 0.000338104                                    | 0.000471894                                    | 0.000485981                                    | 0.000190673                                    |\n",
       "| 19 | X584_Group3E_142dpi_LV_top_179_G_B7_P128.mzXML | 584                                            | Group3E                                        | 142dpi                                         | LV_top                                         | B7                                             | P128                                           | 0.000137472                                    | 0.000064900                                    | 0.000081400                                    | ...                                            | 0.000502270                                    | 0.00e+00                                       | 0.000234553                                    | 0.000000000                                    | 0.000000000                                    | 0.000000000                                    | 0.000000000                                    | 0.000000000                                    | 0.000000000                                    | 0.000000000                                    |\n",
       "| 20 | X585_Group3E_142dpi_LV_top_180_G_B8_P128.mzXML | 585                                            | Group3E                                        | 142dpi                                         | LV_top                                         | B8                                             | P128                                           | 0.000077500                                    | 0.000130843                                    | 0.000081800                                    | ...                                            | 0.000926023                                    | 0.00e+00                                       | 0.000152366                                    | 0.000000000                                    | 0.000000000                                    | 0.000000000                                    | 0.000023500                                    | 0.000035800                                    | 0.000000000                                    | 0.000000000                                    |\n",
       "| 26 | X631_Group15_142dpi_LV_top_191_G_C7_P128.mzXML | 631                                            | Group15                                        | 142dpi                                         | LV_top                                         | C7                                             | P128                                           | 0.000240284                                    | 0.000177127                                    | 0.000062800                                    | ...                                            | 0.000871016                                    | 0.00e+00                                       | 0.000373889                                    | 0.000000000                                    | 0.000000000                                    | 0.000000000                                    | 0.000059700                                    | 0.000088200                                    | 0.000081300                                    | 0.000064400                                    |\n",
       "\n"
      ],
      "text/plain": [
       "   filename                                       MouseID Treatmentgroup DPI   \n",
       "16 X581_Group3E_142dpi_LV_top_176_G_B4_P128.mzXML 581     Group3E        142dpi\n",
       "17 X582_Group3E_142dpi_LV_top_177_G_B5_P128.mzXML 582     Group3E        142dpi\n",
       "18 X583_Group3E_142dpi_LV_top_178_G_B6_P128.mzXML 583     Group3E        142dpi\n",
       "19 X584_Group3E_142dpi_LV_top_179_G_B7_P128.mzXML 584     Group3E        142dpi\n",
       "20 X585_Group3E_142dpi_LV_top_180_G_B8_P128.mzXML 585     Group3E        142dpi\n",
       "26 X631_Group15_142dpi_LV_top_191_G_C7_P128.mzXML 631     Group15        142dpi\n",
       "   organ  well_position plate X141.091_1.54 X203.007_0.309 X240.116_2.324 ...\n",
       "16 LV_top B4            P128  0.000076600   0.000000000    0.000213447    ...\n",
       "17 LV_top B5            P128  0.000114338   0.000115359    0.000000000    ...\n",
       "18 LV_top B6            P128  0.000086600   0.000000000    0.000196786    ...\n",
       "19 LV_top B7            P128  0.000137472   0.000064900    0.000081400    ...\n",
       "20 LV_top B8            P128  0.000077500   0.000130843    0.000081800    ...\n",
       "26 LV_top C7            P128  0.000240284   0.000177127    0.000062800    ...\n",
       "   X708.445_3.006 X709.936_2.18 X720.445_3.09 X737.391_2.399 X776.042_2.398\n",
       "16 0.000686223    9.20e-05      0.000000000   0.000255339    0.000307205   \n",
       "17 0.001008079    4.16e-05      0.000180561   0.000036200    0.000038900   \n",
       "18 0.000552891    4.41e-05      0.000000000   0.000088700    0.000095200   \n",
       "19 0.000502270    0.00e+00      0.000234553   0.000000000    0.000000000   \n",
       "20 0.000926023    0.00e+00      0.000152366   0.000000000    0.000000000   \n",
       "26 0.000871016    0.00e+00      0.000373889   0.000000000    0.000000000   \n",
       "   X776.095_2.398 X776.148_2.398 X776.359_2.398 X819.433_2.399 X867.281_2.399\n",
       "16 0.000428890    0.000696197    0.000766017    0.000626378    0.000307205   \n",
       "17 0.000056900    0.000084500    0.000075500    0.000166114    0.000048300   \n",
       "18 0.000216706    0.000338104    0.000471894    0.000485981    0.000190673   \n",
       "19 0.000000000    0.000000000    0.000000000    0.000000000    0.000000000   \n",
       "20 0.000000000    0.000023500    0.000035800    0.000000000    0.000000000   \n",
       "26 0.000000000    0.000059700    0.000088200    0.000081300    0.000064400   "
      ]
     },
     "metadata": {},
     "output_type": "display_data"
    },
    {
     "data": {
      "text/html": [
       "<ol class=list-inline>\n",
       "\t<li>30</li>\n",
       "\t<li>35</li>\n",
       "</ol>\n"
      ],
      "text/latex": [
       "\\begin{enumerate*}\n",
       "\\item 30\n",
       "\\item 35\n",
       "\\end{enumerate*}\n"
      ],
      "text/markdown": [
       "1. 30\n",
       "2. 35\n",
       "\n",
       "\n"
      ],
      "text/plain": [
       "[1] 30 35"
      ]
     },
     "metadata": {},
     "output_type": "display_data"
    }
   ],
   "source": [
    "# choose the lung posistion\n",
    "features_pos<-droplevels(subset(a, a$Treatmentgroup==c(\"Group3E\")|a$Treatmentgroup==c(\"Group15\")))\n",
    "head(features_pos)\n",
    "dim(features_pos)"
   ]
  },
  {
   "cell_type": "code",
   "execution_count": 4,
   "metadata": {
    "scrolled": false
   },
   "outputs": [
    {
     "data": {
      "text/html": [
       "<table>\n",
       "<thead><tr><th></th><th scope=col>X141.091_1.54</th><th scope=col>X203.007_0.309</th><th scope=col>X240.116_2.324</th><th scope=col>X249.112_2.768</th><th scope=col>X272.222_2.957</th><th scope=col>X293.211_2.931</th><th scope=col>X293.211_2.934</th><th scope=col>X296.258_2.976</th><th scope=col>X311.221_2.932</th><th scope=col>X345.243_3.095</th><th scope=col>...</th><th scope=col>X708.445_3.006</th><th scope=col>X709.936_2.18</th><th scope=col>X720.445_3.09</th><th scope=col>X737.391_2.399</th><th scope=col>X776.042_2.398</th><th scope=col>X776.095_2.398</th><th scope=col>X776.148_2.398</th><th scope=col>X776.359_2.398</th><th scope=col>X819.433_2.399</th><th scope=col>X867.281_2.399</th></tr></thead>\n",
       "<tbody>\n",
       "\t<tr><th scope=row>16</th><td>0.000076600</td><td>0.000000000</td><td>0.000213447</td><td>0.000021500</td><td>0.005685280</td><td>0.000000000</td><td>0.000744074</td><td>0.000000000</td><td>0.000702182</td><td>0.00e+00   </td><td>...        </td><td>0.000686223</td><td>9.20e-05   </td><td>0.000000000</td><td>0.000255339</td><td>0.000307205</td><td>0.000428890</td><td>0.000696197</td><td>0.000766017</td><td>0.000626378</td><td>0.000307205</td></tr>\n",
       "\t<tr><th scope=row>17</th><td>0.000114338</td><td>0.000115359</td><td>0.000000000</td><td>0.000052800</td><td>0.000202120</td><td>0.000555608</td><td>0.000000000</td><td>0.000223923</td><td>0.000545627</td><td>0.00e+00   </td><td>...        </td><td>0.001008079</td><td>4.16e-05   </td><td>0.000180561</td><td>0.000036200</td><td>0.000038900</td><td>0.000056900</td><td>0.000084500</td><td>0.000075500</td><td>0.000166114</td><td>0.000048300</td></tr>\n",
       "\t<tr><th scope=row>18</th><td>0.000086600</td><td>0.000000000</td><td>0.000196786</td><td>0.000115150</td><td>0.000707842</td><td>0.000000000</td><td>0.000387376</td><td>0.000207706</td><td>0.000383854</td><td>9.75e-05   </td><td>...        </td><td>0.000552891</td><td>4.41e-05   </td><td>0.000000000</td><td>0.000088700</td><td>0.000095200</td><td>0.000216706</td><td>0.000338104</td><td>0.000471894</td><td>0.000485981</td><td>0.000190673</td></tr>\n",
       "\t<tr><th scope=row>19</th><td>0.000137472</td><td>0.000064900</td><td>0.000081400</td><td>0.000071900</td><td>0.000348635</td><td>0.000670678</td><td>0.000000000</td><td>0.000241067</td><td>0.000000000</td><td>0.00e+00   </td><td>...        </td><td>0.000502270</td><td>0.00e+00   </td><td>0.000234553</td><td>0.000000000</td><td>0.000000000</td><td>0.000000000</td><td>0.000000000</td><td>0.000000000</td><td>0.000000000</td><td>0.000000000</td></tr>\n",
       "\t<tr><th scope=row>20</th><td>0.000077500</td><td>0.000130843</td><td>0.000081800</td><td>0.000084800</td><td>0.000293552</td><td>0.000285546</td><td>0.000000000</td><td>0.000126785</td><td>0.000257409</td><td>1.95e-05   </td><td>...        </td><td>0.000926023</td><td>0.00e+00   </td><td>0.000152366</td><td>0.000000000</td><td>0.000000000</td><td>0.000000000</td><td>0.000023500</td><td>0.000035800</td><td>0.000000000</td><td>0.000000000</td></tr>\n",
       "\t<tr><th scope=row>26</th><td>0.000240284</td><td>0.000177127</td><td>0.000062800</td><td>0.000104868</td><td>0.001361236</td><td>0.000000000</td><td>0.000402601</td><td>0.000279231</td><td>0.000370784</td><td>0.00e+00   </td><td>...        </td><td>0.000871016</td><td>0.00e+00   </td><td>0.000373889</td><td>0.000000000</td><td>0.000000000</td><td>0.000000000</td><td>0.000059700</td><td>0.000088200</td><td>0.000081300</td><td>0.000064400</td></tr>\n",
       "</tbody>\n",
       "</table>\n"
      ],
      "text/latex": [
       "\\begin{tabular}{r|llllllllllllllllllllllllllll}\n",
       "  & X141.091\\_1.54 & X203.007\\_0.309 & X240.116\\_2.324 & X249.112\\_2.768 & X272.222\\_2.957 & X293.211\\_2.931 & X293.211\\_2.934 & X296.258\\_2.976 & X311.221\\_2.932 & X345.243\\_3.095 & ... & X708.445\\_3.006 & X709.936\\_2.18 & X720.445\\_3.09 & X737.391\\_2.399 & X776.042\\_2.398 & X776.095\\_2.398 & X776.148\\_2.398 & X776.359\\_2.398 & X819.433\\_2.399 & X867.281\\_2.399\\\\\n",
       "\\hline\n",
       "\t16 & 0.000076600 & 0.000000000 & 0.000213447 & 0.000021500 & 0.005685280 & 0.000000000 & 0.000744074 & 0.000000000 & 0.000702182 & 0.00e+00    & ...         & 0.000686223 & 9.20e-05    & 0.000000000 & 0.000255339 & 0.000307205 & 0.000428890 & 0.000696197 & 0.000766017 & 0.000626378 & 0.000307205\\\\\n",
       "\t17 & 0.000114338 & 0.000115359 & 0.000000000 & 0.000052800 & 0.000202120 & 0.000555608 & 0.000000000 & 0.000223923 & 0.000545627 & 0.00e+00    & ...         & 0.001008079 & 4.16e-05    & 0.000180561 & 0.000036200 & 0.000038900 & 0.000056900 & 0.000084500 & 0.000075500 & 0.000166114 & 0.000048300\\\\\n",
       "\t18 & 0.000086600 & 0.000000000 & 0.000196786 & 0.000115150 & 0.000707842 & 0.000000000 & 0.000387376 & 0.000207706 & 0.000383854 & 9.75e-05    & ...         & 0.000552891 & 4.41e-05    & 0.000000000 & 0.000088700 & 0.000095200 & 0.000216706 & 0.000338104 & 0.000471894 & 0.000485981 & 0.000190673\\\\\n",
       "\t19 & 0.000137472 & 0.000064900 & 0.000081400 & 0.000071900 & 0.000348635 & 0.000670678 & 0.000000000 & 0.000241067 & 0.000000000 & 0.00e+00    & ...         & 0.000502270 & 0.00e+00    & 0.000234553 & 0.000000000 & 0.000000000 & 0.000000000 & 0.000000000 & 0.000000000 & 0.000000000 & 0.000000000\\\\\n",
       "\t20 & 0.000077500 & 0.000130843 & 0.000081800 & 0.000084800 & 0.000293552 & 0.000285546 & 0.000000000 & 0.000126785 & 0.000257409 & 1.95e-05    & ...         & 0.000926023 & 0.00e+00    & 0.000152366 & 0.000000000 & 0.000000000 & 0.000000000 & 0.000023500 & 0.000035800 & 0.000000000 & 0.000000000\\\\\n",
       "\t26 & 0.000240284 & 0.000177127 & 0.000062800 & 0.000104868 & 0.001361236 & 0.000000000 & 0.000402601 & 0.000279231 & 0.000370784 & 0.00e+00    & ...         & 0.000871016 & 0.00e+00    & 0.000373889 & 0.000000000 & 0.000000000 & 0.000000000 & 0.000059700 & 0.000088200 & 0.000081300 & 0.000064400\\\\\n",
       "\\end{tabular}\n"
      ],
      "text/markdown": [
       "\n",
       "| <!--/--> | X141.091_1.54 | X203.007_0.309 | X240.116_2.324 | X249.112_2.768 | X272.222_2.957 | X293.211_2.931 | X293.211_2.934 | X296.258_2.976 | X311.221_2.932 | X345.243_3.095 | ... | X708.445_3.006 | X709.936_2.18 | X720.445_3.09 | X737.391_2.399 | X776.042_2.398 | X776.095_2.398 | X776.148_2.398 | X776.359_2.398 | X819.433_2.399 | X867.281_2.399 |\n",
       "|---|---|---|---|---|---|---|---|---|---|---|---|---|---|---|---|---|---|---|---|---|---|\n",
       "| 16 | 0.000076600 | 0.000000000 | 0.000213447 | 0.000021500 | 0.005685280 | 0.000000000 | 0.000744074 | 0.000000000 | 0.000702182 | 0.00e+00    | ...         | 0.000686223 | 9.20e-05    | 0.000000000 | 0.000255339 | 0.000307205 | 0.000428890 | 0.000696197 | 0.000766017 | 0.000626378 | 0.000307205 |\n",
       "| 17 | 0.000114338 | 0.000115359 | 0.000000000 | 0.000052800 | 0.000202120 | 0.000555608 | 0.000000000 | 0.000223923 | 0.000545627 | 0.00e+00    | ...         | 0.001008079 | 4.16e-05    | 0.000180561 | 0.000036200 | 0.000038900 | 0.000056900 | 0.000084500 | 0.000075500 | 0.000166114 | 0.000048300 |\n",
       "| 18 | 0.000086600 | 0.000000000 | 0.000196786 | 0.000115150 | 0.000707842 | 0.000000000 | 0.000387376 | 0.000207706 | 0.000383854 | 9.75e-05    | ...         | 0.000552891 | 4.41e-05    | 0.000000000 | 0.000088700 | 0.000095200 | 0.000216706 | 0.000338104 | 0.000471894 | 0.000485981 | 0.000190673 |\n",
       "| 19 | 0.000137472 | 0.000064900 | 0.000081400 | 0.000071900 | 0.000348635 | 0.000670678 | 0.000000000 | 0.000241067 | 0.000000000 | 0.00e+00    | ...         | 0.000502270 | 0.00e+00    | 0.000234553 | 0.000000000 | 0.000000000 | 0.000000000 | 0.000000000 | 0.000000000 | 0.000000000 | 0.000000000 |\n",
       "| 20 | 0.000077500 | 0.000130843 | 0.000081800 | 0.000084800 | 0.000293552 | 0.000285546 | 0.000000000 | 0.000126785 | 0.000257409 | 1.95e-05    | ...         | 0.000926023 | 0.00e+00    | 0.000152366 | 0.000000000 | 0.000000000 | 0.000000000 | 0.000023500 | 0.000035800 | 0.000000000 | 0.000000000 |\n",
       "| 26 | 0.000240284 | 0.000177127 | 0.000062800 | 0.000104868 | 0.001361236 | 0.000000000 | 0.000402601 | 0.000279231 | 0.000370784 | 0.00e+00    | ...         | 0.000871016 | 0.00e+00    | 0.000373889 | 0.000000000 | 0.000000000 | 0.000000000 | 0.000059700 | 0.000088200 | 0.000081300 | 0.000064400 |\n",
       "\n"
      ],
      "text/plain": [
       "   X141.091_1.54 X203.007_0.309 X240.116_2.324 X249.112_2.768 X272.222_2.957\n",
       "16 0.000076600   0.000000000    0.000213447    0.000021500    0.005685280   \n",
       "17 0.000114338   0.000115359    0.000000000    0.000052800    0.000202120   \n",
       "18 0.000086600   0.000000000    0.000196786    0.000115150    0.000707842   \n",
       "19 0.000137472   0.000064900    0.000081400    0.000071900    0.000348635   \n",
       "20 0.000077500   0.000130843    0.000081800    0.000084800    0.000293552   \n",
       "26 0.000240284   0.000177127    0.000062800    0.000104868    0.001361236   \n",
       "   X293.211_2.931 X293.211_2.934 X296.258_2.976 X311.221_2.932 X345.243_3.095\n",
       "16 0.000000000    0.000744074    0.000000000    0.000702182    0.00e+00      \n",
       "17 0.000555608    0.000000000    0.000223923    0.000545627    0.00e+00      \n",
       "18 0.000000000    0.000387376    0.000207706    0.000383854    9.75e-05      \n",
       "19 0.000670678    0.000000000    0.000241067    0.000000000    0.00e+00      \n",
       "20 0.000285546    0.000000000    0.000126785    0.000257409    1.95e-05      \n",
       "26 0.000000000    0.000402601    0.000279231    0.000370784    0.00e+00      \n",
       "   ... X708.445_3.006 X709.936_2.18 X720.445_3.09 X737.391_2.399 X776.042_2.398\n",
       "16 ... 0.000686223    9.20e-05      0.000000000   0.000255339    0.000307205   \n",
       "17 ... 0.001008079    4.16e-05      0.000180561   0.000036200    0.000038900   \n",
       "18 ... 0.000552891    4.41e-05      0.000000000   0.000088700    0.000095200   \n",
       "19 ... 0.000502270    0.00e+00      0.000234553   0.000000000    0.000000000   \n",
       "20 ... 0.000926023    0.00e+00      0.000152366   0.000000000    0.000000000   \n",
       "26 ... 0.000871016    0.00e+00      0.000373889   0.000000000    0.000000000   \n",
       "   X776.095_2.398 X776.148_2.398 X776.359_2.398 X819.433_2.399 X867.281_2.399\n",
       "16 0.000428890    0.000696197    0.000766017    0.000626378    0.000307205   \n",
       "17 0.000056900    0.000084500    0.000075500    0.000166114    0.000048300   \n",
       "18 0.000216706    0.000338104    0.000471894    0.000485981    0.000190673   \n",
       "19 0.000000000    0.000000000    0.000000000    0.000000000    0.000000000   \n",
       "20 0.000000000    0.000023500    0.000035800    0.000000000    0.000000000   \n",
       "26 0.000000000    0.000059700    0.000088200    0.000081300    0.000064400   "
      ]
     },
     "metadata": {},
     "output_type": "display_data"
    },
    {
     "data": {
      "text/html": [
       "<dl class=dl-horizontal>\n",
       "\t<dt>X141.091_1.54</dt>\n",
       "\t\t<dd>1</dd>\n",
       "\t<dt>X203.007_0.309</dt>\n",
       "\t\t<dd>2</dd>\n",
       "\t<dt>X240.116_2.324</dt>\n",
       "\t\t<dd>3</dd>\n",
       "\t<dt>X249.112_2.768</dt>\n",
       "\t\t<dd>4</dd>\n",
       "\t<dt>X272.222_2.957</dt>\n",
       "\t\t<dd>5</dd>\n",
       "\t<dt>X293.211_2.931</dt>\n",
       "\t\t<dd>6</dd>\n",
       "</dl>\n"
      ],
      "text/latex": [
       "\\begin{description*}\n",
       "\\item[X141.091\\textbackslash{}\\_1.54] 1\n",
       "\\item[X203.007\\textbackslash{}\\_0.309] 2\n",
       "\\item[X240.116\\textbackslash{}\\_2.324] 3\n",
       "\\item[X249.112\\textbackslash{}\\_2.768] 4\n",
       "\\item[X272.222\\textbackslash{}\\_2.957] 5\n",
       "\\item[X293.211\\textbackslash{}\\_2.931] 6\n",
       "\\end{description*}\n"
      ],
      "text/markdown": [
       "X141.091_1.54\n",
       ":   1X203.007_0.309\n",
       ":   2X240.116_2.324\n",
       ":   3X249.112_2.768\n",
       ":   4X272.222_2.957\n",
       ":   5X293.211_2.931\n",
       ":   6\n",
       "\n"
      ],
      "text/plain": [
       " X141.091_1.54 X203.007_0.309 X240.116_2.324 X249.112_2.768 X272.222_2.957 \n",
       "             1              2              3              4              5 \n",
       "X293.211_2.931 \n",
       "             6 "
      ]
     },
     "metadata": {},
     "output_type": "display_data"
    },
    {
     "data": {
      "text/html": [
       "<table>\n",
       "<thead><tr><th></th><th scope=col>X141.091_1.54</th><th scope=col>X203.007_0.309</th><th scope=col>X240.116_2.324</th><th scope=col>X249.112_2.768</th><th scope=col>X272.222_2.957</th><th scope=col>X293.211_2.931</th><th scope=col>X293.211_2.934</th><th scope=col>X296.258_2.976</th><th scope=col>X311.221_2.932</th><th scope=col>X345.243_3.095</th><th scope=col>...</th><th scope=col>X708.445_3.006</th><th scope=col>X709.936_2.18</th><th scope=col>X720.445_3.09</th><th scope=col>X737.391_2.399</th><th scope=col>X776.042_2.398</th><th scope=col>X776.095_2.398</th><th scope=col>X776.148_2.398</th><th scope=col>X776.359_2.398</th><th scope=col>X819.433_2.399</th><th scope=col>X867.281_2.399</th></tr></thead>\n",
       "<tbody>\n",
       "\t<tr><th scope=row>16</th><td>0.000076600</td><td>0.000000000</td><td>0.000213447</td><td>0.000021500</td><td>0.005685280</td><td>0.000000000</td><td>0.000744074</td><td>0.000000000</td><td>0.000702182</td><td>0.000000000</td><td>...        </td><td>0.000686223</td><td>9.20e-05   </td><td>0.000000000</td><td>0.000255339</td><td>0.000307205</td><td>0.000428890</td><td>0.000696197</td><td>0.000766017</td><td>0.000626378</td><td>0.000307205</td></tr>\n",
       "\t<tr><th scope=row>17</th><td>0.000114338</td><td>0.000115359</td><td>0.000000000</td><td>0.000052800</td><td>0.000202120</td><td>0.000555608</td><td>0.000000000</td><td>0.000223923</td><td>0.000545627</td><td>0.000000000</td><td>...        </td><td>0.001008079</td><td>4.16e-05   </td><td>0.000180561</td><td>0.000036200</td><td>0.000038900</td><td>0.000056900</td><td>0.000084500</td><td>0.000075500</td><td>0.000166114</td><td>0.000048300</td></tr>\n",
       "\t<tr><th scope=row>18</th><td>0.000086600</td><td>0.000000000</td><td>0.000196786</td><td>0.000115150</td><td>0.000707842</td><td>0.000000000</td><td>0.000387376</td><td>0.000207706</td><td>0.000383854</td><td>0.000097500</td><td>...        </td><td>0.000552891</td><td>4.41e-05   </td><td>0.000000000</td><td>0.000088700</td><td>0.000095200</td><td>0.000216706</td><td>0.000338104</td><td>0.000471894</td><td>0.000485981</td><td>0.000190673</td></tr>\n",
       "\t<tr><th scope=row>19</th><td>0.000137472</td><td>0.000064900</td><td>0.000081400</td><td>0.000071900</td><td>0.000348635</td><td>0.000670678</td><td>0.000000000</td><td>0.000241067</td><td>0.000000000</td><td>0.000000000</td><td>...        </td><td>0.000502270</td><td>0.00e+00   </td><td>0.000234553</td><td>0.000000000</td><td>0.000000000</td><td>0.000000000</td><td>0.000000000</td><td>0.000000000</td><td>0.000000000</td><td>0.000000000</td></tr>\n",
       "\t<tr><th scope=row>20</th><td>0.000077500</td><td>0.000130843</td><td>0.000081800</td><td>0.000084800</td><td>0.000293552</td><td>0.000285546</td><td>0.000000000</td><td>0.000126785</td><td>0.000257409</td><td>0.000019500</td><td>...        </td><td>0.000926023</td><td>0.00e+00   </td><td>0.000152366</td><td>0.000000000</td><td>0.000000000</td><td>0.000000000</td><td>0.000023500</td><td>0.000035800</td><td>0.000000000</td><td>0.000000000</td></tr>\n",
       "\t<tr><th scope=row>26</th><td>0.000240284</td><td>0.000177127</td><td>0.000062800</td><td>0.000104868</td><td>0.001361236</td><td>0.000000000</td><td>0.000402601</td><td>0.000279231</td><td>0.000370784</td><td>0.000000000</td><td>...        </td><td>0.000871016</td><td>0.00e+00   </td><td>0.000373889</td><td>0.000000000</td><td>0.000000000</td><td>0.000000000</td><td>0.000059700</td><td>0.000088200</td><td>0.000081300</td><td>0.000064400</td></tr>\n",
       "\t<tr><th scope=row>27</th><td>0.000375501</td><td>0.000147563</td><td>0.000153118</td><td>0.000137026</td><td>0.000339494</td><td>0.000364590</td><td>0.000000000</td><td>0.000186292</td><td>0.000354305</td><td>0.000033800</td><td>...        </td><td>0.000928719</td><td>3.99e-05   </td><td>0.000311334</td><td>0.000000000</td><td>0.000000000</td><td>0.000000000</td><td>0.000057900</td><td>0.000118815</td><td>0.000069400</td><td>0.000000000</td></tr>\n",
       "\t<tr><th scope=row>28</th><td>0.000105927</td><td>0.000263935</td><td>0.000000000</td><td>0.000112107</td><td>0.000304102</td><td>0.000000000</td><td>0.000405705</td><td>0.000240063</td><td>0.000328337</td><td>0.000000000</td><td>...        </td><td>0.000887873</td><td>0.00e+00   </td><td>0.000234169</td><td>0.000000000</td><td>0.000000000</td><td>0.000000000</td><td>0.000000000</td><td>0.000048900</td><td>0.000063400</td><td>0.000000000</td></tr>\n",
       "\t<tr><th scope=row>29</th><td>0.000000000</td><td>0.000215369</td><td>0.000051800</td><td>0.000087000</td><td>0.000440346</td><td>0.000644154</td><td>0.000000000</td><td>0.000243784</td><td>0.000658794</td><td>0.000049300</td><td>...        </td><td>0.000805192</td><td>5.55e-05   </td><td>0.000101264</td><td>0.000113950</td><td>0.000224599</td><td>0.000272830</td><td>0.000377007</td><td>0.000433284</td><td>0.000372248</td><td>0.000221177</td></tr>\n",
       "\t<tr><th scope=row>30</th><td>0.000224684</td><td>0.000245962</td><td>0.000080800</td><td>0.000068500</td><td>0.000876452</td><td>0.000000000</td><td>0.000162848</td><td>0.000385755</td><td>0.000232097</td><td>0.000000000</td><td>...        </td><td>0.000396591</td><td>0.00e+00   </td><td>0.000000000</td><td>0.000194323</td><td>0.000305304</td><td>0.000400807</td><td>0.000524310</td><td>0.000651417</td><td>0.000564329</td><td>0.000320164</td></tr>\n",
       "\t<tr><th scope=row>31</th><td>0.000036900</td><td>0.000000000</td><td>0.000146675</td><td>0.000020700</td><td>0.000353463</td><td>0.000000000</td><td>0.000204383</td><td>0.000000000</td><td>0.000182743</td><td>0.000000000</td><td>...        </td><td>0.000774252</td><td>6.95e-05   </td><td>0.000065400</td><td>0.000119745</td><td>0.000120105</td><td>0.000224822</td><td>0.000308979</td><td>0.000337833</td><td>0.000325811</td><td>0.000138259</td></tr>\n",
       "\t<tr><th scope=row>32</th><td>0.000162756</td><td>0.000000000</td><td>0.000050600</td><td>0.000192382</td><td>0.000316827</td><td>0.000000000</td><td>0.000163275</td><td>0.000188501</td><td>0.000036200</td><td>0.000000000</td><td>...        </td><td>0.000627744</td><td>4.88e-05   </td><td>0.000032800</td><td>0.000000000</td><td>0.000037800</td><td>0.000068700</td><td>0.000180156</td><td>0.000102879</td><td>0.000137775</td><td>0.000053200</td></tr>\n",
       "\t<tr><th scope=row>33</th><td>0.000283937</td><td>0.000000000</td><td>0.000048300</td><td>0.000177230</td><td>0.000353447</td><td>0.000000000</td><td>0.000155161</td><td>0.000199914</td><td>0.000152634</td><td>0.000000000</td><td>...        </td><td>0.000702928</td><td>0.00e+00   </td><td>0.000197714</td><td>0.000000000</td><td>0.000000000</td><td>0.000039700</td><td>0.000047200</td><td>0.000050400</td><td>0.000045700</td><td>0.000037100</td></tr>\n",
       "\t<tr><th scope=row>34</th><td>0.000207285</td><td>0.000140640</td><td>0.000047900</td><td>0.000032000</td><td>0.000266898</td><td>0.000499292</td><td>0.000000000</td><td>0.000213125</td><td>0.000000000</td><td>0.000027300</td><td>...        </td><td>0.000740884</td><td>0.00e+00   </td><td>0.000224164</td><td>0.000000000</td><td>0.000000000</td><td>0.000000000</td><td>0.000076700</td><td>0.000000000</td><td>0.000079500</td><td>0.000000000</td></tr>\n",
       "\t<tr><th scope=row>35</th><td>0.000593755</td><td>0.000000000</td><td>0.000000000</td><td>0.000159745</td><td>0.000526199</td><td>0.000370917</td><td>0.000000000</td><td>0.000500299</td><td>0.000392969</td><td>0.000000000</td><td>...        </td><td>0.000117239</td><td>0.00e+00   </td><td>0.000000000</td><td>0.000000000</td><td>0.000075900</td><td>0.000106610</td><td>0.000093900</td><td>0.000144239</td><td>0.000301718</td><td>0.000000000</td></tr>\n",
       "\t<tr><th scope=row>41</th><td>0.000000000</td><td>0.000000000</td><td>0.000096200</td><td>0.000092600</td><td>0.000608048</td><td>0.000000000</td><td>0.000190807</td><td>0.000088600</td><td>0.000192913</td><td>0.000000000</td><td>...        </td><td>0.000402247</td><td>0.00e+00   </td><td>0.000070500</td><td>0.000000000</td><td>0.000049800</td><td>0.000101399</td><td>0.000183668</td><td>0.000190562</td><td>0.000173903</td><td>0.000124823</td></tr>\n",
       "\t<tr><th scope=row>42</th><td>0.000221477</td><td>0.000000000</td><td>0.000000000</td><td>0.000197953</td><td>0.000413256</td><td>0.000000000</td><td>0.000669267</td><td>0.000235545</td><td>0.000659497</td><td>0.000000000</td><td>...        </td><td>0.000493402</td><td>0.00e+00   </td><td>0.000052000</td><td>0.000000000</td><td>0.000086600</td><td>0.000124307</td><td>0.000156928</td><td>0.000260271</td><td>0.000187236</td><td>0.000085100</td></tr>\n",
       "\t<tr><th scope=row>43</th><td>0.000236360</td><td>0.000000000</td><td>0.000000000</td><td>0.000141300</td><td>0.000391504</td><td>0.000438651</td><td>0.000000000</td><td>0.000299534</td><td>0.000332965</td><td>0.000000000</td><td>...        </td><td>0.000217980</td><td>0.00e+00   </td><td>0.000000000</td><td>0.000000000</td><td>0.000000000</td><td>0.000000000</td><td>0.000087700</td><td>0.000100684</td><td>0.000130997</td><td>0.000000000</td></tr>\n",
       "\t<tr><th scope=row>44</th><td>0.000070200</td><td>0.000000000</td><td>0.000037000</td><td>0.000027100</td><td>0.000242299</td><td>0.000305935</td><td>0.000000000</td><td>0.000138378</td><td>0.000298651</td><td>0.000040900</td><td>...        </td><td>0.000580305</td><td>0.00e+00   </td><td>0.000153071</td><td>0.000071700</td><td>0.000032300</td><td>0.000053100</td><td>0.000137415</td><td>0.000155595</td><td>0.000136731</td><td>0.000042500</td></tr>\n",
       "\t<tr><th scope=row>45</th><td>0.000222675</td><td>0.000000000</td><td>0.000038400</td><td>0.000000000</td><td>0.000316609</td><td>0.000782654</td><td>0.000000000</td><td>0.000256725</td><td>0.000822884</td><td>0.000118297</td><td>...        </td><td>0.000789969</td><td>0.00e+00   </td><td>0.000160873</td><td>0.000030200</td><td>0.000048200</td><td>0.000070100</td><td>0.000104832</td><td>0.000077900</td><td>0.000120259</td><td>0.000061800</td></tr>\n",
       "\t<tr><th scope=row>46</th><td>0.000125128</td><td>0.000000000</td><td>0.000000000</td><td>0.000143684</td><td>0.000649748</td><td>0.000000000</td><td>0.000289930</td><td>0.000259210</td><td>0.000270273</td><td>0.000038000</td><td>...        </td><td>0.000537562</td><td>4.09e-05   </td><td>0.000053800</td><td>0.000000000</td><td>0.000054900</td><td>0.000118734</td><td>0.000155002</td><td>0.000146367</td><td>0.000236342</td><td>0.000066900</td></tr>\n",
       "\t<tr><th scope=row>47</th><td>0.000258092</td><td>0.000000000</td><td>0.000000000</td><td>0.000149452</td><td>0.000302026</td><td>0.000000000</td><td>0.000188541</td><td>0.000186242</td><td>0.000039800</td><td>0.000000000</td><td>...        </td><td>0.000706306</td><td>0.00e+00   </td><td>0.000094800</td><td>0.000057100</td><td>0.000052100</td><td>0.000143776</td><td>0.000184610</td><td>0.000104374</td><td>0.000175799</td><td>0.000071000</td></tr>\n",
       "\t<tr><th scope=row>48</th><td>0.000000000</td><td>0.000000000</td><td>0.000000000</td><td>0.000112599</td><td>0.000145159</td><td>0.000000000</td><td>0.000129871</td><td>0.000209291</td><td>0.000045000</td><td>0.000000000</td><td>...        </td><td>0.000468782</td><td>4.84e-05   </td><td>0.000082300</td><td>0.000233041</td><td>0.000273830</td><td>0.000422596</td><td>0.000611885</td><td>0.000673547</td><td>0.000673547</td><td>0.000343364</td></tr>\n",
       "\t<tr><th scope=row>49</th><td>0.000000000</td><td>0.000000000</td><td>0.000066200</td><td>0.000135695</td><td>0.000236694</td><td>0.000000000</td><td>0.000165570</td><td>0.000269422</td><td>0.000200482</td><td>0.000000000</td><td>...        </td><td>0.000771596</td><td>0.00e+00   </td><td>0.000312376</td><td>0.000000000</td><td>0.000000000</td><td>0.000058400</td><td>0.000116253</td><td>0.000080500</td><td>0.000091800</td><td>0.000038900</td></tr>\n",
       "\t<tr><th scope=row>50</th><td>0.000000000</td><td>0.000019900</td><td>0.000078100</td><td>0.000030200</td><td>0.000113058</td><td>0.000212121</td><td>0.000000000</td><td>0.000141977</td><td>0.000000000</td><td>0.000000000</td><td>...        </td><td>0.000765965</td><td>0.00e+00   </td><td>0.000223377</td><td>0.000000000</td><td>0.000000000</td><td>0.000000000</td><td>0.000000000</td><td>0.000000000</td><td>0.000020900</td><td>0.000000000</td></tr>\n",
       "\t<tr><th scope=row>56</th><td>0.000458148</td><td>0.000000000</td><td>0.000043900</td><td>0.000103299</td><td>0.000698342</td><td>0.000260217</td><td>0.000000000</td><td>0.000321889</td><td>0.000275158</td><td>0.000067800</td><td>...        </td><td>0.000427448</td><td>0.00e+00   </td><td>0.000050300</td><td>0.000000000</td><td>0.000000000</td><td>0.000060100</td><td>0.000071700</td><td>0.000079100</td><td>0.000113282</td><td>0.000043600</td></tr>\n",
       "\t<tr><th scope=row>57</th><td>0.000105437</td><td>0.000000000</td><td>0.000086200</td><td>0.000072900</td><td>0.000333056</td><td>0.000650972</td><td>0.000000000</td><td>0.000227415</td><td>0.000678222</td><td>0.000100804</td><td>...        </td><td>0.000590417</td><td>0.00e+00   </td><td>0.000229024</td><td>0.000000000</td><td>0.000000000</td><td>0.000000000</td><td>0.000035300</td><td>0.000036400</td><td>0.000073700</td><td>0.000000000</td></tr>\n",
       "\t<tr><th scope=row>58</th><td>0.000254875</td><td>0.000000000</td><td>0.000000000</td><td>0.000040900</td><td>0.000419256</td><td>0.000591706</td><td>0.000000000</td><td>0.000378858</td><td>0.000627723</td><td>0.000262187</td><td>...        </td><td>0.000571125</td><td>0.00e+00   </td><td>0.000156701</td><td>0.000000000</td><td>0.000000000</td><td>0.000000000</td><td>0.000071100</td><td>0.000053700</td><td>0.000061200</td><td>0.000000000</td></tr>\n",
       "\t<tr><th scope=row>59</th><td>0.000192328</td><td>0.000000000</td><td>0.000000000</td><td>0.000000000</td><td>0.000230257</td><td>0.000000000</td><td>0.000367008</td><td>0.000303764</td><td>0.000429439</td><td>0.000000000</td><td>...        </td><td>0.000545550</td><td>0.00e+00   </td><td>0.000201465</td><td>0.000000000</td><td>0.000048300</td><td>0.000075400</td><td>0.000123848</td><td>0.000167025</td><td>0.000106920</td><td>0.000073500</td></tr>\n",
       "\t<tr><th scope=row>60</th><td>0.000059100</td><td>0.000000000</td><td>0.000062100</td><td>0.000000000</td><td>0.000063000</td><td>0.000000000</td><td>0.000394918</td><td>0.000000000</td><td>0.000262274</td><td>0.000000000</td><td>...        </td><td>0.000195952</td><td>0.00e+00   </td><td>0.000000000</td><td>0.000324074</td><td>0.000351205</td><td>0.000527562</td><td>0.000844099</td><td>0.000740094</td><td>0.000685830</td><td>0.000292420</td></tr>\n",
       "</tbody>\n",
       "</table>\n"
      ],
      "text/latex": [
       "\\begin{tabular}{r|llllllllllllllllllllllllllll}\n",
       "  & X141.091\\_1.54 & X203.007\\_0.309 & X240.116\\_2.324 & X249.112\\_2.768 & X272.222\\_2.957 & X293.211\\_2.931 & X293.211\\_2.934 & X296.258\\_2.976 & X311.221\\_2.932 & X345.243\\_3.095 & ... & X708.445\\_3.006 & X709.936\\_2.18 & X720.445\\_3.09 & X737.391\\_2.399 & X776.042\\_2.398 & X776.095\\_2.398 & X776.148\\_2.398 & X776.359\\_2.398 & X819.433\\_2.399 & X867.281\\_2.399\\\\\n",
       "\\hline\n",
       "\t16 & 0.000076600 & 0.000000000 & 0.000213447 & 0.000021500 & 0.005685280 & 0.000000000 & 0.000744074 & 0.000000000 & 0.000702182 & 0.000000000 & ...         & 0.000686223 & 9.20e-05    & 0.000000000 & 0.000255339 & 0.000307205 & 0.000428890 & 0.000696197 & 0.000766017 & 0.000626378 & 0.000307205\\\\\n",
       "\t17 & 0.000114338 & 0.000115359 & 0.000000000 & 0.000052800 & 0.000202120 & 0.000555608 & 0.000000000 & 0.000223923 & 0.000545627 & 0.000000000 & ...         & 0.001008079 & 4.16e-05    & 0.000180561 & 0.000036200 & 0.000038900 & 0.000056900 & 0.000084500 & 0.000075500 & 0.000166114 & 0.000048300\\\\\n",
       "\t18 & 0.000086600 & 0.000000000 & 0.000196786 & 0.000115150 & 0.000707842 & 0.000000000 & 0.000387376 & 0.000207706 & 0.000383854 & 0.000097500 & ...         & 0.000552891 & 4.41e-05    & 0.000000000 & 0.000088700 & 0.000095200 & 0.000216706 & 0.000338104 & 0.000471894 & 0.000485981 & 0.000190673\\\\\n",
       "\t19 & 0.000137472 & 0.000064900 & 0.000081400 & 0.000071900 & 0.000348635 & 0.000670678 & 0.000000000 & 0.000241067 & 0.000000000 & 0.000000000 & ...         & 0.000502270 & 0.00e+00    & 0.000234553 & 0.000000000 & 0.000000000 & 0.000000000 & 0.000000000 & 0.000000000 & 0.000000000 & 0.000000000\\\\\n",
       "\t20 & 0.000077500 & 0.000130843 & 0.000081800 & 0.000084800 & 0.000293552 & 0.000285546 & 0.000000000 & 0.000126785 & 0.000257409 & 0.000019500 & ...         & 0.000926023 & 0.00e+00    & 0.000152366 & 0.000000000 & 0.000000000 & 0.000000000 & 0.000023500 & 0.000035800 & 0.000000000 & 0.000000000\\\\\n",
       "\t26 & 0.000240284 & 0.000177127 & 0.000062800 & 0.000104868 & 0.001361236 & 0.000000000 & 0.000402601 & 0.000279231 & 0.000370784 & 0.000000000 & ...         & 0.000871016 & 0.00e+00    & 0.000373889 & 0.000000000 & 0.000000000 & 0.000000000 & 0.000059700 & 0.000088200 & 0.000081300 & 0.000064400\\\\\n",
       "\t27 & 0.000375501 & 0.000147563 & 0.000153118 & 0.000137026 & 0.000339494 & 0.000364590 & 0.000000000 & 0.000186292 & 0.000354305 & 0.000033800 & ...         & 0.000928719 & 3.99e-05    & 0.000311334 & 0.000000000 & 0.000000000 & 0.000000000 & 0.000057900 & 0.000118815 & 0.000069400 & 0.000000000\\\\\n",
       "\t28 & 0.000105927 & 0.000263935 & 0.000000000 & 0.000112107 & 0.000304102 & 0.000000000 & 0.000405705 & 0.000240063 & 0.000328337 & 0.000000000 & ...         & 0.000887873 & 0.00e+00    & 0.000234169 & 0.000000000 & 0.000000000 & 0.000000000 & 0.000000000 & 0.000048900 & 0.000063400 & 0.000000000\\\\\n",
       "\t29 & 0.000000000 & 0.000215369 & 0.000051800 & 0.000087000 & 0.000440346 & 0.000644154 & 0.000000000 & 0.000243784 & 0.000658794 & 0.000049300 & ...         & 0.000805192 & 5.55e-05    & 0.000101264 & 0.000113950 & 0.000224599 & 0.000272830 & 0.000377007 & 0.000433284 & 0.000372248 & 0.000221177\\\\\n",
       "\t30 & 0.000224684 & 0.000245962 & 0.000080800 & 0.000068500 & 0.000876452 & 0.000000000 & 0.000162848 & 0.000385755 & 0.000232097 & 0.000000000 & ...         & 0.000396591 & 0.00e+00    & 0.000000000 & 0.000194323 & 0.000305304 & 0.000400807 & 0.000524310 & 0.000651417 & 0.000564329 & 0.000320164\\\\\n",
       "\t31 & 0.000036900 & 0.000000000 & 0.000146675 & 0.000020700 & 0.000353463 & 0.000000000 & 0.000204383 & 0.000000000 & 0.000182743 & 0.000000000 & ...         & 0.000774252 & 6.95e-05    & 0.000065400 & 0.000119745 & 0.000120105 & 0.000224822 & 0.000308979 & 0.000337833 & 0.000325811 & 0.000138259\\\\\n",
       "\t32 & 0.000162756 & 0.000000000 & 0.000050600 & 0.000192382 & 0.000316827 & 0.000000000 & 0.000163275 & 0.000188501 & 0.000036200 & 0.000000000 & ...         & 0.000627744 & 4.88e-05    & 0.000032800 & 0.000000000 & 0.000037800 & 0.000068700 & 0.000180156 & 0.000102879 & 0.000137775 & 0.000053200\\\\\n",
       "\t33 & 0.000283937 & 0.000000000 & 0.000048300 & 0.000177230 & 0.000353447 & 0.000000000 & 0.000155161 & 0.000199914 & 0.000152634 & 0.000000000 & ...         & 0.000702928 & 0.00e+00    & 0.000197714 & 0.000000000 & 0.000000000 & 0.000039700 & 0.000047200 & 0.000050400 & 0.000045700 & 0.000037100\\\\\n",
       "\t34 & 0.000207285 & 0.000140640 & 0.000047900 & 0.000032000 & 0.000266898 & 0.000499292 & 0.000000000 & 0.000213125 & 0.000000000 & 0.000027300 & ...         & 0.000740884 & 0.00e+00    & 0.000224164 & 0.000000000 & 0.000000000 & 0.000000000 & 0.000076700 & 0.000000000 & 0.000079500 & 0.000000000\\\\\n",
       "\t35 & 0.000593755 & 0.000000000 & 0.000000000 & 0.000159745 & 0.000526199 & 0.000370917 & 0.000000000 & 0.000500299 & 0.000392969 & 0.000000000 & ...         & 0.000117239 & 0.00e+00    & 0.000000000 & 0.000000000 & 0.000075900 & 0.000106610 & 0.000093900 & 0.000144239 & 0.000301718 & 0.000000000\\\\\n",
       "\t41 & 0.000000000 & 0.000000000 & 0.000096200 & 0.000092600 & 0.000608048 & 0.000000000 & 0.000190807 & 0.000088600 & 0.000192913 & 0.000000000 & ...         & 0.000402247 & 0.00e+00    & 0.000070500 & 0.000000000 & 0.000049800 & 0.000101399 & 0.000183668 & 0.000190562 & 0.000173903 & 0.000124823\\\\\n",
       "\t42 & 0.000221477 & 0.000000000 & 0.000000000 & 0.000197953 & 0.000413256 & 0.000000000 & 0.000669267 & 0.000235545 & 0.000659497 & 0.000000000 & ...         & 0.000493402 & 0.00e+00    & 0.000052000 & 0.000000000 & 0.000086600 & 0.000124307 & 0.000156928 & 0.000260271 & 0.000187236 & 0.000085100\\\\\n",
       "\t43 & 0.000236360 & 0.000000000 & 0.000000000 & 0.000141300 & 0.000391504 & 0.000438651 & 0.000000000 & 0.000299534 & 0.000332965 & 0.000000000 & ...         & 0.000217980 & 0.00e+00    & 0.000000000 & 0.000000000 & 0.000000000 & 0.000000000 & 0.000087700 & 0.000100684 & 0.000130997 & 0.000000000\\\\\n",
       "\t44 & 0.000070200 & 0.000000000 & 0.000037000 & 0.000027100 & 0.000242299 & 0.000305935 & 0.000000000 & 0.000138378 & 0.000298651 & 0.000040900 & ...         & 0.000580305 & 0.00e+00    & 0.000153071 & 0.000071700 & 0.000032300 & 0.000053100 & 0.000137415 & 0.000155595 & 0.000136731 & 0.000042500\\\\\n",
       "\t45 & 0.000222675 & 0.000000000 & 0.000038400 & 0.000000000 & 0.000316609 & 0.000782654 & 0.000000000 & 0.000256725 & 0.000822884 & 0.000118297 & ...         & 0.000789969 & 0.00e+00    & 0.000160873 & 0.000030200 & 0.000048200 & 0.000070100 & 0.000104832 & 0.000077900 & 0.000120259 & 0.000061800\\\\\n",
       "\t46 & 0.000125128 & 0.000000000 & 0.000000000 & 0.000143684 & 0.000649748 & 0.000000000 & 0.000289930 & 0.000259210 & 0.000270273 & 0.000038000 & ...         & 0.000537562 & 4.09e-05    & 0.000053800 & 0.000000000 & 0.000054900 & 0.000118734 & 0.000155002 & 0.000146367 & 0.000236342 & 0.000066900\\\\\n",
       "\t47 & 0.000258092 & 0.000000000 & 0.000000000 & 0.000149452 & 0.000302026 & 0.000000000 & 0.000188541 & 0.000186242 & 0.000039800 & 0.000000000 & ...         & 0.000706306 & 0.00e+00    & 0.000094800 & 0.000057100 & 0.000052100 & 0.000143776 & 0.000184610 & 0.000104374 & 0.000175799 & 0.000071000\\\\\n",
       "\t48 & 0.000000000 & 0.000000000 & 0.000000000 & 0.000112599 & 0.000145159 & 0.000000000 & 0.000129871 & 0.000209291 & 0.000045000 & 0.000000000 & ...         & 0.000468782 & 4.84e-05    & 0.000082300 & 0.000233041 & 0.000273830 & 0.000422596 & 0.000611885 & 0.000673547 & 0.000673547 & 0.000343364\\\\\n",
       "\t49 & 0.000000000 & 0.000000000 & 0.000066200 & 0.000135695 & 0.000236694 & 0.000000000 & 0.000165570 & 0.000269422 & 0.000200482 & 0.000000000 & ...         & 0.000771596 & 0.00e+00    & 0.000312376 & 0.000000000 & 0.000000000 & 0.000058400 & 0.000116253 & 0.000080500 & 0.000091800 & 0.000038900\\\\\n",
       "\t50 & 0.000000000 & 0.000019900 & 0.000078100 & 0.000030200 & 0.000113058 & 0.000212121 & 0.000000000 & 0.000141977 & 0.000000000 & 0.000000000 & ...         & 0.000765965 & 0.00e+00    & 0.000223377 & 0.000000000 & 0.000000000 & 0.000000000 & 0.000000000 & 0.000000000 & 0.000020900 & 0.000000000\\\\\n",
       "\t56 & 0.000458148 & 0.000000000 & 0.000043900 & 0.000103299 & 0.000698342 & 0.000260217 & 0.000000000 & 0.000321889 & 0.000275158 & 0.000067800 & ...         & 0.000427448 & 0.00e+00    & 0.000050300 & 0.000000000 & 0.000000000 & 0.000060100 & 0.000071700 & 0.000079100 & 0.000113282 & 0.000043600\\\\\n",
       "\t57 & 0.000105437 & 0.000000000 & 0.000086200 & 0.000072900 & 0.000333056 & 0.000650972 & 0.000000000 & 0.000227415 & 0.000678222 & 0.000100804 & ...         & 0.000590417 & 0.00e+00    & 0.000229024 & 0.000000000 & 0.000000000 & 0.000000000 & 0.000035300 & 0.000036400 & 0.000073700 & 0.000000000\\\\\n",
       "\t58 & 0.000254875 & 0.000000000 & 0.000000000 & 0.000040900 & 0.000419256 & 0.000591706 & 0.000000000 & 0.000378858 & 0.000627723 & 0.000262187 & ...         & 0.000571125 & 0.00e+00    & 0.000156701 & 0.000000000 & 0.000000000 & 0.000000000 & 0.000071100 & 0.000053700 & 0.000061200 & 0.000000000\\\\\n",
       "\t59 & 0.000192328 & 0.000000000 & 0.000000000 & 0.000000000 & 0.000230257 & 0.000000000 & 0.000367008 & 0.000303764 & 0.000429439 & 0.000000000 & ...         & 0.000545550 & 0.00e+00    & 0.000201465 & 0.000000000 & 0.000048300 & 0.000075400 & 0.000123848 & 0.000167025 & 0.000106920 & 0.000073500\\\\\n",
       "\t60 & 0.000059100 & 0.000000000 & 0.000062100 & 0.000000000 & 0.000063000 & 0.000000000 & 0.000394918 & 0.000000000 & 0.000262274 & 0.000000000 & ...         & 0.000195952 & 0.00e+00    & 0.000000000 & 0.000324074 & 0.000351205 & 0.000527562 & 0.000844099 & 0.000740094 & 0.000685830 & 0.000292420\\\\\n",
       "\\end{tabular}\n"
      ],
      "text/markdown": [
       "\n",
       "| <!--/--> | X141.091_1.54 | X203.007_0.309 | X240.116_2.324 | X249.112_2.768 | X272.222_2.957 | X293.211_2.931 | X293.211_2.934 | X296.258_2.976 | X311.221_2.932 | X345.243_3.095 | ... | X708.445_3.006 | X709.936_2.18 | X720.445_3.09 | X737.391_2.399 | X776.042_2.398 | X776.095_2.398 | X776.148_2.398 | X776.359_2.398 | X819.433_2.399 | X867.281_2.399 |\n",
       "|---|---|---|---|---|---|---|---|---|---|---|---|---|---|---|---|---|---|---|---|---|---|\n",
       "| 16 | 0.000076600 | 0.000000000 | 0.000213447 | 0.000021500 | 0.005685280 | 0.000000000 | 0.000744074 | 0.000000000 | 0.000702182 | 0.000000000 | ...         | 0.000686223 | 9.20e-05    | 0.000000000 | 0.000255339 | 0.000307205 | 0.000428890 | 0.000696197 | 0.000766017 | 0.000626378 | 0.000307205 |\n",
       "| 17 | 0.000114338 | 0.000115359 | 0.000000000 | 0.000052800 | 0.000202120 | 0.000555608 | 0.000000000 | 0.000223923 | 0.000545627 | 0.000000000 | ...         | 0.001008079 | 4.16e-05    | 0.000180561 | 0.000036200 | 0.000038900 | 0.000056900 | 0.000084500 | 0.000075500 | 0.000166114 | 0.000048300 |\n",
       "| 18 | 0.000086600 | 0.000000000 | 0.000196786 | 0.000115150 | 0.000707842 | 0.000000000 | 0.000387376 | 0.000207706 | 0.000383854 | 0.000097500 | ...         | 0.000552891 | 4.41e-05    | 0.000000000 | 0.000088700 | 0.000095200 | 0.000216706 | 0.000338104 | 0.000471894 | 0.000485981 | 0.000190673 |\n",
       "| 19 | 0.000137472 | 0.000064900 | 0.000081400 | 0.000071900 | 0.000348635 | 0.000670678 | 0.000000000 | 0.000241067 | 0.000000000 | 0.000000000 | ...         | 0.000502270 | 0.00e+00    | 0.000234553 | 0.000000000 | 0.000000000 | 0.000000000 | 0.000000000 | 0.000000000 | 0.000000000 | 0.000000000 |\n",
       "| 20 | 0.000077500 | 0.000130843 | 0.000081800 | 0.000084800 | 0.000293552 | 0.000285546 | 0.000000000 | 0.000126785 | 0.000257409 | 0.000019500 | ...         | 0.000926023 | 0.00e+00    | 0.000152366 | 0.000000000 | 0.000000000 | 0.000000000 | 0.000023500 | 0.000035800 | 0.000000000 | 0.000000000 |\n",
       "| 26 | 0.000240284 | 0.000177127 | 0.000062800 | 0.000104868 | 0.001361236 | 0.000000000 | 0.000402601 | 0.000279231 | 0.000370784 | 0.000000000 | ...         | 0.000871016 | 0.00e+00    | 0.000373889 | 0.000000000 | 0.000000000 | 0.000000000 | 0.000059700 | 0.000088200 | 0.000081300 | 0.000064400 |\n",
       "| 27 | 0.000375501 | 0.000147563 | 0.000153118 | 0.000137026 | 0.000339494 | 0.000364590 | 0.000000000 | 0.000186292 | 0.000354305 | 0.000033800 | ...         | 0.000928719 | 3.99e-05    | 0.000311334 | 0.000000000 | 0.000000000 | 0.000000000 | 0.000057900 | 0.000118815 | 0.000069400 | 0.000000000 |\n",
       "| 28 | 0.000105927 | 0.000263935 | 0.000000000 | 0.000112107 | 0.000304102 | 0.000000000 | 0.000405705 | 0.000240063 | 0.000328337 | 0.000000000 | ...         | 0.000887873 | 0.00e+00    | 0.000234169 | 0.000000000 | 0.000000000 | 0.000000000 | 0.000000000 | 0.000048900 | 0.000063400 | 0.000000000 |\n",
       "| 29 | 0.000000000 | 0.000215369 | 0.000051800 | 0.000087000 | 0.000440346 | 0.000644154 | 0.000000000 | 0.000243784 | 0.000658794 | 0.000049300 | ...         | 0.000805192 | 5.55e-05    | 0.000101264 | 0.000113950 | 0.000224599 | 0.000272830 | 0.000377007 | 0.000433284 | 0.000372248 | 0.000221177 |\n",
       "| 30 | 0.000224684 | 0.000245962 | 0.000080800 | 0.000068500 | 0.000876452 | 0.000000000 | 0.000162848 | 0.000385755 | 0.000232097 | 0.000000000 | ...         | 0.000396591 | 0.00e+00    | 0.000000000 | 0.000194323 | 0.000305304 | 0.000400807 | 0.000524310 | 0.000651417 | 0.000564329 | 0.000320164 |\n",
       "| 31 | 0.000036900 | 0.000000000 | 0.000146675 | 0.000020700 | 0.000353463 | 0.000000000 | 0.000204383 | 0.000000000 | 0.000182743 | 0.000000000 | ...         | 0.000774252 | 6.95e-05    | 0.000065400 | 0.000119745 | 0.000120105 | 0.000224822 | 0.000308979 | 0.000337833 | 0.000325811 | 0.000138259 |\n",
       "| 32 | 0.000162756 | 0.000000000 | 0.000050600 | 0.000192382 | 0.000316827 | 0.000000000 | 0.000163275 | 0.000188501 | 0.000036200 | 0.000000000 | ...         | 0.000627744 | 4.88e-05    | 0.000032800 | 0.000000000 | 0.000037800 | 0.000068700 | 0.000180156 | 0.000102879 | 0.000137775 | 0.000053200 |\n",
       "| 33 | 0.000283937 | 0.000000000 | 0.000048300 | 0.000177230 | 0.000353447 | 0.000000000 | 0.000155161 | 0.000199914 | 0.000152634 | 0.000000000 | ...         | 0.000702928 | 0.00e+00    | 0.000197714 | 0.000000000 | 0.000000000 | 0.000039700 | 0.000047200 | 0.000050400 | 0.000045700 | 0.000037100 |\n",
       "| 34 | 0.000207285 | 0.000140640 | 0.000047900 | 0.000032000 | 0.000266898 | 0.000499292 | 0.000000000 | 0.000213125 | 0.000000000 | 0.000027300 | ...         | 0.000740884 | 0.00e+00    | 0.000224164 | 0.000000000 | 0.000000000 | 0.000000000 | 0.000076700 | 0.000000000 | 0.000079500 | 0.000000000 |\n",
       "| 35 | 0.000593755 | 0.000000000 | 0.000000000 | 0.000159745 | 0.000526199 | 0.000370917 | 0.000000000 | 0.000500299 | 0.000392969 | 0.000000000 | ...         | 0.000117239 | 0.00e+00    | 0.000000000 | 0.000000000 | 0.000075900 | 0.000106610 | 0.000093900 | 0.000144239 | 0.000301718 | 0.000000000 |\n",
       "| 41 | 0.000000000 | 0.000000000 | 0.000096200 | 0.000092600 | 0.000608048 | 0.000000000 | 0.000190807 | 0.000088600 | 0.000192913 | 0.000000000 | ...         | 0.000402247 | 0.00e+00    | 0.000070500 | 0.000000000 | 0.000049800 | 0.000101399 | 0.000183668 | 0.000190562 | 0.000173903 | 0.000124823 |\n",
       "| 42 | 0.000221477 | 0.000000000 | 0.000000000 | 0.000197953 | 0.000413256 | 0.000000000 | 0.000669267 | 0.000235545 | 0.000659497 | 0.000000000 | ...         | 0.000493402 | 0.00e+00    | 0.000052000 | 0.000000000 | 0.000086600 | 0.000124307 | 0.000156928 | 0.000260271 | 0.000187236 | 0.000085100 |\n",
       "| 43 | 0.000236360 | 0.000000000 | 0.000000000 | 0.000141300 | 0.000391504 | 0.000438651 | 0.000000000 | 0.000299534 | 0.000332965 | 0.000000000 | ...         | 0.000217980 | 0.00e+00    | 0.000000000 | 0.000000000 | 0.000000000 | 0.000000000 | 0.000087700 | 0.000100684 | 0.000130997 | 0.000000000 |\n",
       "| 44 | 0.000070200 | 0.000000000 | 0.000037000 | 0.000027100 | 0.000242299 | 0.000305935 | 0.000000000 | 0.000138378 | 0.000298651 | 0.000040900 | ...         | 0.000580305 | 0.00e+00    | 0.000153071 | 0.000071700 | 0.000032300 | 0.000053100 | 0.000137415 | 0.000155595 | 0.000136731 | 0.000042500 |\n",
       "| 45 | 0.000222675 | 0.000000000 | 0.000038400 | 0.000000000 | 0.000316609 | 0.000782654 | 0.000000000 | 0.000256725 | 0.000822884 | 0.000118297 | ...         | 0.000789969 | 0.00e+00    | 0.000160873 | 0.000030200 | 0.000048200 | 0.000070100 | 0.000104832 | 0.000077900 | 0.000120259 | 0.000061800 |\n",
       "| 46 | 0.000125128 | 0.000000000 | 0.000000000 | 0.000143684 | 0.000649748 | 0.000000000 | 0.000289930 | 0.000259210 | 0.000270273 | 0.000038000 | ...         | 0.000537562 | 4.09e-05    | 0.000053800 | 0.000000000 | 0.000054900 | 0.000118734 | 0.000155002 | 0.000146367 | 0.000236342 | 0.000066900 |\n",
       "| 47 | 0.000258092 | 0.000000000 | 0.000000000 | 0.000149452 | 0.000302026 | 0.000000000 | 0.000188541 | 0.000186242 | 0.000039800 | 0.000000000 | ...         | 0.000706306 | 0.00e+00    | 0.000094800 | 0.000057100 | 0.000052100 | 0.000143776 | 0.000184610 | 0.000104374 | 0.000175799 | 0.000071000 |\n",
       "| 48 | 0.000000000 | 0.000000000 | 0.000000000 | 0.000112599 | 0.000145159 | 0.000000000 | 0.000129871 | 0.000209291 | 0.000045000 | 0.000000000 | ...         | 0.000468782 | 4.84e-05    | 0.000082300 | 0.000233041 | 0.000273830 | 0.000422596 | 0.000611885 | 0.000673547 | 0.000673547 | 0.000343364 |\n",
       "| 49 | 0.000000000 | 0.000000000 | 0.000066200 | 0.000135695 | 0.000236694 | 0.000000000 | 0.000165570 | 0.000269422 | 0.000200482 | 0.000000000 | ...         | 0.000771596 | 0.00e+00    | 0.000312376 | 0.000000000 | 0.000000000 | 0.000058400 | 0.000116253 | 0.000080500 | 0.000091800 | 0.000038900 |\n",
       "| 50 | 0.000000000 | 0.000019900 | 0.000078100 | 0.000030200 | 0.000113058 | 0.000212121 | 0.000000000 | 0.000141977 | 0.000000000 | 0.000000000 | ...         | 0.000765965 | 0.00e+00    | 0.000223377 | 0.000000000 | 0.000000000 | 0.000000000 | 0.000000000 | 0.000000000 | 0.000020900 | 0.000000000 |\n",
       "| 56 | 0.000458148 | 0.000000000 | 0.000043900 | 0.000103299 | 0.000698342 | 0.000260217 | 0.000000000 | 0.000321889 | 0.000275158 | 0.000067800 | ...         | 0.000427448 | 0.00e+00    | 0.000050300 | 0.000000000 | 0.000000000 | 0.000060100 | 0.000071700 | 0.000079100 | 0.000113282 | 0.000043600 |\n",
       "| 57 | 0.000105437 | 0.000000000 | 0.000086200 | 0.000072900 | 0.000333056 | 0.000650972 | 0.000000000 | 0.000227415 | 0.000678222 | 0.000100804 | ...         | 0.000590417 | 0.00e+00    | 0.000229024 | 0.000000000 | 0.000000000 | 0.000000000 | 0.000035300 | 0.000036400 | 0.000073700 | 0.000000000 |\n",
       "| 58 | 0.000254875 | 0.000000000 | 0.000000000 | 0.000040900 | 0.000419256 | 0.000591706 | 0.000000000 | 0.000378858 | 0.000627723 | 0.000262187 | ...         | 0.000571125 | 0.00e+00    | 0.000156701 | 0.000000000 | 0.000000000 | 0.000000000 | 0.000071100 | 0.000053700 | 0.000061200 | 0.000000000 |\n",
       "| 59 | 0.000192328 | 0.000000000 | 0.000000000 | 0.000000000 | 0.000230257 | 0.000000000 | 0.000367008 | 0.000303764 | 0.000429439 | 0.000000000 | ...         | 0.000545550 | 0.00e+00    | 0.000201465 | 0.000000000 | 0.000048300 | 0.000075400 | 0.000123848 | 0.000167025 | 0.000106920 | 0.000073500 |\n",
       "| 60 | 0.000059100 | 0.000000000 | 0.000062100 | 0.000000000 | 0.000063000 | 0.000000000 | 0.000394918 | 0.000000000 | 0.000262274 | 0.000000000 | ...         | 0.000195952 | 0.00e+00    | 0.000000000 | 0.000324074 | 0.000351205 | 0.000527562 | 0.000844099 | 0.000740094 | 0.000685830 | 0.000292420 |\n",
       "\n"
      ],
      "text/plain": [
       "   X141.091_1.54 X203.007_0.309 X240.116_2.324 X249.112_2.768 X272.222_2.957\n",
       "16 0.000076600   0.000000000    0.000213447    0.000021500    0.005685280   \n",
       "17 0.000114338   0.000115359    0.000000000    0.000052800    0.000202120   \n",
       "18 0.000086600   0.000000000    0.000196786    0.000115150    0.000707842   \n",
       "19 0.000137472   0.000064900    0.000081400    0.000071900    0.000348635   \n",
       "20 0.000077500   0.000130843    0.000081800    0.000084800    0.000293552   \n",
       "26 0.000240284   0.000177127    0.000062800    0.000104868    0.001361236   \n",
       "27 0.000375501   0.000147563    0.000153118    0.000137026    0.000339494   \n",
       "28 0.000105927   0.000263935    0.000000000    0.000112107    0.000304102   \n",
       "29 0.000000000   0.000215369    0.000051800    0.000087000    0.000440346   \n",
       "30 0.000224684   0.000245962    0.000080800    0.000068500    0.000876452   \n",
       "31 0.000036900   0.000000000    0.000146675    0.000020700    0.000353463   \n",
       "32 0.000162756   0.000000000    0.000050600    0.000192382    0.000316827   \n",
       "33 0.000283937   0.000000000    0.000048300    0.000177230    0.000353447   \n",
       "34 0.000207285   0.000140640    0.000047900    0.000032000    0.000266898   \n",
       "35 0.000593755   0.000000000    0.000000000    0.000159745    0.000526199   \n",
       "41 0.000000000   0.000000000    0.000096200    0.000092600    0.000608048   \n",
       "42 0.000221477   0.000000000    0.000000000    0.000197953    0.000413256   \n",
       "43 0.000236360   0.000000000    0.000000000    0.000141300    0.000391504   \n",
       "44 0.000070200   0.000000000    0.000037000    0.000027100    0.000242299   \n",
       "45 0.000222675   0.000000000    0.000038400    0.000000000    0.000316609   \n",
       "46 0.000125128   0.000000000    0.000000000    0.000143684    0.000649748   \n",
       "47 0.000258092   0.000000000    0.000000000    0.000149452    0.000302026   \n",
       "48 0.000000000   0.000000000    0.000000000    0.000112599    0.000145159   \n",
       "49 0.000000000   0.000000000    0.000066200    0.000135695    0.000236694   \n",
       "50 0.000000000   0.000019900    0.000078100    0.000030200    0.000113058   \n",
       "56 0.000458148   0.000000000    0.000043900    0.000103299    0.000698342   \n",
       "57 0.000105437   0.000000000    0.000086200    0.000072900    0.000333056   \n",
       "58 0.000254875   0.000000000    0.000000000    0.000040900    0.000419256   \n",
       "59 0.000192328   0.000000000    0.000000000    0.000000000    0.000230257   \n",
       "60 0.000059100   0.000000000    0.000062100    0.000000000    0.000063000   \n",
       "   X293.211_2.931 X293.211_2.934 X296.258_2.976 X311.221_2.932 X345.243_3.095\n",
       "16 0.000000000    0.000744074    0.000000000    0.000702182    0.000000000   \n",
       "17 0.000555608    0.000000000    0.000223923    0.000545627    0.000000000   \n",
       "18 0.000000000    0.000387376    0.000207706    0.000383854    0.000097500   \n",
       "19 0.000670678    0.000000000    0.000241067    0.000000000    0.000000000   \n",
       "20 0.000285546    0.000000000    0.000126785    0.000257409    0.000019500   \n",
       "26 0.000000000    0.000402601    0.000279231    0.000370784    0.000000000   \n",
       "27 0.000364590    0.000000000    0.000186292    0.000354305    0.000033800   \n",
       "28 0.000000000    0.000405705    0.000240063    0.000328337    0.000000000   \n",
       "29 0.000644154    0.000000000    0.000243784    0.000658794    0.000049300   \n",
       "30 0.000000000    0.000162848    0.000385755    0.000232097    0.000000000   \n",
       "31 0.000000000    0.000204383    0.000000000    0.000182743    0.000000000   \n",
       "32 0.000000000    0.000163275    0.000188501    0.000036200    0.000000000   \n",
       "33 0.000000000    0.000155161    0.000199914    0.000152634    0.000000000   \n",
       "34 0.000499292    0.000000000    0.000213125    0.000000000    0.000027300   \n",
       "35 0.000370917    0.000000000    0.000500299    0.000392969    0.000000000   \n",
       "41 0.000000000    0.000190807    0.000088600    0.000192913    0.000000000   \n",
       "42 0.000000000    0.000669267    0.000235545    0.000659497    0.000000000   \n",
       "43 0.000438651    0.000000000    0.000299534    0.000332965    0.000000000   \n",
       "44 0.000305935    0.000000000    0.000138378    0.000298651    0.000040900   \n",
       "45 0.000782654    0.000000000    0.000256725    0.000822884    0.000118297   \n",
       "46 0.000000000    0.000289930    0.000259210    0.000270273    0.000038000   \n",
       "47 0.000000000    0.000188541    0.000186242    0.000039800    0.000000000   \n",
       "48 0.000000000    0.000129871    0.000209291    0.000045000    0.000000000   \n",
       "49 0.000000000    0.000165570    0.000269422    0.000200482    0.000000000   \n",
       "50 0.000212121    0.000000000    0.000141977    0.000000000    0.000000000   \n",
       "56 0.000260217    0.000000000    0.000321889    0.000275158    0.000067800   \n",
       "57 0.000650972    0.000000000    0.000227415    0.000678222    0.000100804   \n",
       "58 0.000591706    0.000000000    0.000378858    0.000627723    0.000262187   \n",
       "59 0.000000000    0.000367008    0.000303764    0.000429439    0.000000000   \n",
       "60 0.000000000    0.000394918    0.000000000    0.000262274    0.000000000   \n",
       "   ... X708.445_3.006 X709.936_2.18 X720.445_3.09 X737.391_2.399 X776.042_2.398\n",
       "16 ... 0.000686223    9.20e-05      0.000000000   0.000255339    0.000307205   \n",
       "17 ... 0.001008079    4.16e-05      0.000180561   0.000036200    0.000038900   \n",
       "18 ... 0.000552891    4.41e-05      0.000000000   0.000088700    0.000095200   \n",
       "19 ... 0.000502270    0.00e+00      0.000234553   0.000000000    0.000000000   \n",
       "20 ... 0.000926023    0.00e+00      0.000152366   0.000000000    0.000000000   \n",
       "26 ... 0.000871016    0.00e+00      0.000373889   0.000000000    0.000000000   \n",
       "27 ... 0.000928719    3.99e-05      0.000311334   0.000000000    0.000000000   \n",
       "28 ... 0.000887873    0.00e+00      0.000234169   0.000000000    0.000000000   \n",
       "29 ... 0.000805192    5.55e-05      0.000101264   0.000113950    0.000224599   \n",
       "30 ... 0.000396591    0.00e+00      0.000000000   0.000194323    0.000305304   \n",
       "31 ... 0.000774252    6.95e-05      0.000065400   0.000119745    0.000120105   \n",
       "32 ... 0.000627744    4.88e-05      0.000032800   0.000000000    0.000037800   \n",
       "33 ... 0.000702928    0.00e+00      0.000197714   0.000000000    0.000000000   \n",
       "34 ... 0.000740884    0.00e+00      0.000224164   0.000000000    0.000000000   \n",
       "35 ... 0.000117239    0.00e+00      0.000000000   0.000000000    0.000075900   \n",
       "41 ... 0.000402247    0.00e+00      0.000070500   0.000000000    0.000049800   \n",
       "42 ... 0.000493402    0.00e+00      0.000052000   0.000000000    0.000086600   \n",
       "43 ... 0.000217980    0.00e+00      0.000000000   0.000000000    0.000000000   \n",
       "44 ... 0.000580305    0.00e+00      0.000153071   0.000071700    0.000032300   \n",
       "45 ... 0.000789969    0.00e+00      0.000160873   0.000030200    0.000048200   \n",
       "46 ... 0.000537562    4.09e-05      0.000053800   0.000000000    0.000054900   \n",
       "47 ... 0.000706306    0.00e+00      0.000094800   0.000057100    0.000052100   \n",
       "48 ... 0.000468782    4.84e-05      0.000082300   0.000233041    0.000273830   \n",
       "49 ... 0.000771596    0.00e+00      0.000312376   0.000000000    0.000000000   \n",
       "50 ... 0.000765965    0.00e+00      0.000223377   0.000000000    0.000000000   \n",
       "56 ... 0.000427448    0.00e+00      0.000050300   0.000000000    0.000000000   \n",
       "57 ... 0.000590417    0.00e+00      0.000229024   0.000000000    0.000000000   \n",
       "58 ... 0.000571125    0.00e+00      0.000156701   0.000000000    0.000000000   \n",
       "59 ... 0.000545550    0.00e+00      0.000201465   0.000000000    0.000048300   \n",
       "60 ... 0.000195952    0.00e+00      0.000000000   0.000324074    0.000351205   \n",
       "   X776.095_2.398 X776.148_2.398 X776.359_2.398 X819.433_2.399 X867.281_2.399\n",
       "16 0.000428890    0.000696197    0.000766017    0.000626378    0.000307205   \n",
       "17 0.000056900    0.000084500    0.000075500    0.000166114    0.000048300   \n",
       "18 0.000216706    0.000338104    0.000471894    0.000485981    0.000190673   \n",
       "19 0.000000000    0.000000000    0.000000000    0.000000000    0.000000000   \n",
       "20 0.000000000    0.000023500    0.000035800    0.000000000    0.000000000   \n",
       "26 0.000000000    0.000059700    0.000088200    0.000081300    0.000064400   \n",
       "27 0.000000000    0.000057900    0.000118815    0.000069400    0.000000000   \n",
       "28 0.000000000    0.000000000    0.000048900    0.000063400    0.000000000   \n",
       "29 0.000272830    0.000377007    0.000433284    0.000372248    0.000221177   \n",
       "30 0.000400807    0.000524310    0.000651417    0.000564329    0.000320164   \n",
       "31 0.000224822    0.000308979    0.000337833    0.000325811    0.000138259   \n",
       "32 0.000068700    0.000180156    0.000102879    0.000137775    0.000053200   \n",
       "33 0.000039700    0.000047200    0.000050400    0.000045700    0.000037100   \n",
       "34 0.000000000    0.000076700    0.000000000    0.000079500    0.000000000   \n",
       "35 0.000106610    0.000093900    0.000144239    0.000301718    0.000000000   \n",
       "41 0.000101399    0.000183668    0.000190562    0.000173903    0.000124823   \n",
       "42 0.000124307    0.000156928    0.000260271    0.000187236    0.000085100   \n",
       "43 0.000000000    0.000087700    0.000100684    0.000130997    0.000000000   \n",
       "44 0.000053100    0.000137415    0.000155595    0.000136731    0.000042500   \n",
       "45 0.000070100    0.000104832    0.000077900    0.000120259    0.000061800   \n",
       "46 0.000118734    0.000155002    0.000146367    0.000236342    0.000066900   \n",
       "47 0.000143776    0.000184610    0.000104374    0.000175799    0.000071000   \n",
       "48 0.000422596    0.000611885    0.000673547    0.000673547    0.000343364   \n",
       "49 0.000058400    0.000116253    0.000080500    0.000091800    0.000038900   \n",
       "50 0.000000000    0.000000000    0.000000000    0.000020900    0.000000000   \n",
       "56 0.000060100    0.000071700    0.000079100    0.000113282    0.000043600   \n",
       "57 0.000000000    0.000035300    0.000036400    0.000073700    0.000000000   \n",
       "58 0.000000000    0.000071100    0.000053700    0.000061200    0.000000000   \n",
       "59 0.000075400    0.000123848    0.000167025    0.000106920    0.000073500   \n",
       "60 0.000527562    0.000844099    0.000740094    0.000685830    0.000292420   "
      ]
     },
     "metadata": {},
     "output_type": "display_data"
    },
    {
     "data": {
      "text/html": [
       "<table>\n",
       "<thead><tr><th></th><th scope=col>filename</th><th scope=col>MouseID</th><th scope=col>Treatmentgroup</th><th scope=col>DPI</th><th scope=col>organ</th><th scope=col>well_position</th><th scope=col>plate</th><th scope=col>X141.091_1.54</th><th scope=col>X203.007_0.309</th><th scope=col>X240.116_2.324</th><th scope=col>...</th><th scope=col>X708.445_3.006</th><th scope=col>X709.936_2.18</th><th scope=col>X720.445_3.09</th><th scope=col>X737.391_2.399</th><th scope=col>X776.042_2.398</th><th scope=col>X776.095_2.398</th><th scope=col>X776.148_2.398</th><th scope=col>X776.359_2.398</th><th scope=col>X819.433_2.399</th><th scope=col>X867.281_2.399</th></tr></thead>\n",
       "<tbody>\n",
       "\t<tr><th scope=row>16</th><td>X581_Group3E_142dpi_LV_top_176_G_B4_P128.mzXML</td><td>581                                           </td><td>Group3E                                       </td><td>142dpi                                        </td><td>LV_top                                        </td><td>B4                                            </td><td>P128                                          </td><td>0.000076600                                   </td><td>0.000000000                                   </td><td>0.000213447                                   </td><td>...                                           </td><td>0.000686223                                   </td><td>9.20e-05                                      </td><td>0.000000000                                   </td><td>0.000255339                                   </td><td>0.000307205                                   </td><td>0.000428890                                   </td><td>0.000696197                                   </td><td>0.000766017                                   </td><td>0.000626378                                   </td><td>0.000307205                                   </td></tr>\n",
       "\t<tr><th scope=row>17</th><td>X582_Group3E_142dpi_LV_top_177_G_B5_P128.mzXML</td><td>582                                           </td><td>Group3E                                       </td><td>142dpi                                        </td><td>LV_top                                        </td><td>B5                                            </td><td>P128                                          </td><td>0.000114338                                   </td><td>0.000115359                                   </td><td>0.000000000                                   </td><td>...                                           </td><td>0.001008079                                   </td><td>4.16e-05                                      </td><td>0.000180561                                   </td><td>0.000036200                                   </td><td>0.000038900                                   </td><td>0.000056900                                   </td><td>0.000084500                                   </td><td>0.000075500                                   </td><td>0.000166114                                   </td><td>0.000048300                                   </td></tr>\n",
       "\t<tr><th scope=row>18</th><td>X583_Group3E_142dpi_LV_top_178_G_B6_P128.mzXML</td><td>583                                           </td><td>Group3E                                       </td><td>142dpi                                        </td><td>LV_top                                        </td><td>B6                                            </td><td>P128                                          </td><td>0.000086600                                   </td><td>0.000000000                                   </td><td>0.000196786                                   </td><td>...                                           </td><td>0.000552891                                   </td><td>4.41e-05                                      </td><td>0.000000000                                   </td><td>0.000088700                                   </td><td>0.000095200                                   </td><td>0.000216706                                   </td><td>0.000338104                                   </td><td>0.000471894                                   </td><td>0.000485981                                   </td><td>0.000190673                                   </td></tr>\n",
       "\t<tr><th scope=row>19</th><td>X584_Group3E_142dpi_LV_top_179_G_B7_P128.mzXML</td><td>584                                           </td><td>Group3E                                       </td><td>142dpi                                        </td><td>LV_top                                        </td><td>B7                                            </td><td>P128                                          </td><td>0.000137472                                   </td><td>0.000064900                                   </td><td>0.000081400                                   </td><td>...                                           </td><td>0.000502270                                   </td><td>0.00e+00                                      </td><td>0.000234553                                   </td><td>0.000000000                                   </td><td>0.000000000                                   </td><td>0.000000000                                   </td><td>0.000000000                                   </td><td>0.000000000                                   </td><td>0.000000000                                   </td><td>0.000000000                                   </td></tr>\n",
       "\t<tr><th scope=row>20</th><td>X585_Group3E_142dpi_LV_top_180_G_B8_P128.mzXML</td><td>585                                           </td><td>Group3E                                       </td><td>142dpi                                        </td><td>LV_top                                        </td><td>B8                                            </td><td>P128                                          </td><td>0.000077500                                   </td><td>0.000130843                                   </td><td>0.000081800                                   </td><td>...                                           </td><td>0.000926023                                   </td><td>0.00e+00                                      </td><td>0.000152366                                   </td><td>0.000000000                                   </td><td>0.000000000                                   </td><td>0.000000000                                   </td><td>0.000023500                                   </td><td>0.000035800                                   </td><td>0.000000000                                   </td><td>0.000000000                                   </td></tr>\n",
       "\t<tr><th scope=row>26</th><td>X631_Group15_142dpi_LV_top_191_G_C7_P128.mzXML</td><td>631                                           </td><td>Group15                                       </td><td>142dpi                                        </td><td>LV_top                                        </td><td>C7                                            </td><td>P128                                          </td><td>0.000240284                                   </td><td>0.000177127                                   </td><td>0.000062800                                   </td><td>...                                           </td><td>0.000871016                                   </td><td>0.00e+00                                      </td><td>0.000373889                                   </td><td>0.000000000                                   </td><td>0.000000000                                   </td><td>0.000000000                                   </td><td>0.000059700                                   </td><td>0.000088200                                   </td><td>0.000081300                                   </td><td>0.000064400                                   </td></tr>\n",
       "</tbody>\n",
       "</table>\n"
      ],
      "text/latex": [
       "\\begin{tabular}{r|lllllllllllllllllllllllllllllllllll}\n",
       "  & filename & MouseID & Treatmentgroup & DPI & organ & well\\_position & plate & X141.091\\_1.54 & X203.007\\_0.309 & X240.116\\_2.324 & ... & X708.445\\_3.006 & X709.936\\_2.18 & X720.445\\_3.09 & X737.391\\_2.399 & X776.042\\_2.398 & X776.095\\_2.398 & X776.148\\_2.398 & X776.359\\_2.398 & X819.433\\_2.399 & X867.281\\_2.399\\\\\n",
       "\\hline\n",
       "\t16 & X581\\_Group3E\\_142dpi\\_LV\\_top\\_176\\_G\\_B4\\_P128.mzXML & 581                                                            & Group3E                                                        & 142dpi                                                         & LV\\_top                                                       & B4                                                             & P128                                                           & 0.000076600                                                    & 0.000000000                                                    & 0.000213447                                                    & ...                                                            & 0.000686223                                                    & 9.20e-05                                                       & 0.000000000                                                    & 0.000255339                                                    & 0.000307205                                                    & 0.000428890                                                    & 0.000696197                                                    & 0.000766017                                                    & 0.000626378                                                    & 0.000307205                                                   \\\\\n",
       "\t17 & X582\\_Group3E\\_142dpi\\_LV\\_top\\_177\\_G\\_B5\\_P128.mzXML & 582                                                            & Group3E                                                        & 142dpi                                                         & LV\\_top                                                       & B5                                                             & P128                                                           & 0.000114338                                                    & 0.000115359                                                    & 0.000000000                                                    & ...                                                            & 0.001008079                                                    & 4.16e-05                                                       & 0.000180561                                                    & 0.000036200                                                    & 0.000038900                                                    & 0.000056900                                                    & 0.000084500                                                    & 0.000075500                                                    & 0.000166114                                                    & 0.000048300                                                   \\\\\n",
       "\t18 & X583\\_Group3E\\_142dpi\\_LV\\_top\\_178\\_G\\_B6\\_P128.mzXML & 583                                                            & Group3E                                                        & 142dpi                                                         & LV\\_top                                                       & B6                                                             & P128                                                           & 0.000086600                                                    & 0.000000000                                                    & 0.000196786                                                    & ...                                                            & 0.000552891                                                    & 4.41e-05                                                       & 0.000000000                                                    & 0.000088700                                                    & 0.000095200                                                    & 0.000216706                                                    & 0.000338104                                                    & 0.000471894                                                    & 0.000485981                                                    & 0.000190673                                                   \\\\\n",
       "\t19 & X584\\_Group3E\\_142dpi\\_LV\\_top\\_179\\_G\\_B7\\_P128.mzXML & 584                                                            & Group3E                                                        & 142dpi                                                         & LV\\_top                                                       & B7                                                             & P128                                                           & 0.000137472                                                    & 0.000064900                                                    & 0.000081400                                                    & ...                                                            & 0.000502270                                                    & 0.00e+00                                                       & 0.000234553                                                    & 0.000000000                                                    & 0.000000000                                                    & 0.000000000                                                    & 0.000000000                                                    & 0.000000000                                                    & 0.000000000                                                    & 0.000000000                                                   \\\\\n",
       "\t20 & X585\\_Group3E\\_142dpi\\_LV\\_top\\_180\\_G\\_B8\\_P128.mzXML & 585                                                            & Group3E                                                        & 142dpi                                                         & LV\\_top                                                       & B8                                                             & P128                                                           & 0.000077500                                                    & 0.000130843                                                    & 0.000081800                                                    & ...                                                            & 0.000926023                                                    & 0.00e+00                                                       & 0.000152366                                                    & 0.000000000                                                    & 0.000000000                                                    & 0.000000000                                                    & 0.000023500                                                    & 0.000035800                                                    & 0.000000000                                                    & 0.000000000                                                   \\\\\n",
       "\t26 & X631\\_Group15\\_142dpi\\_LV\\_top\\_191\\_G\\_C7\\_P128.mzXML & 631                                                            & Group15                                                        & 142dpi                                                         & LV\\_top                                                       & C7                                                             & P128                                                           & 0.000240284                                                    & 0.000177127                                                    & 0.000062800                                                    & ...                                                            & 0.000871016                                                    & 0.00e+00                                                       & 0.000373889                                                    & 0.000000000                                                    & 0.000000000                                                    & 0.000000000                                                    & 0.000059700                                                    & 0.000088200                                                    & 0.000081300                                                    & 0.000064400                                                   \\\\\n",
       "\\end{tabular}\n"
      ],
      "text/markdown": [
       "\n",
       "| <!--/--> | filename | MouseID | Treatmentgroup | DPI | organ | well_position | plate | X141.091_1.54 | X203.007_0.309 | X240.116_2.324 | ... | X708.445_3.006 | X709.936_2.18 | X720.445_3.09 | X737.391_2.399 | X776.042_2.398 | X776.095_2.398 | X776.148_2.398 | X776.359_2.398 | X819.433_2.399 | X867.281_2.399 |\n",
       "|---|---|---|---|---|---|---|---|---|---|---|---|---|---|---|---|---|---|---|---|---|---|\n",
       "| 16 | X581_Group3E_142dpi_LV_top_176_G_B4_P128.mzXML | 581                                            | Group3E                                        | 142dpi                                         | LV_top                                         | B4                                             | P128                                           | 0.000076600                                    | 0.000000000                                    | 0.000213447                                    | ...                                            | 0.000686223                                    | 9.20e-05                                       | 0.000000000                                    | 0.000255339                                    | 0.000307205                                    | 0.000428890                                    | 0.000696197                                    | 0.000766017                                    | 0.000626378                                    | 0.000307205                                    |\n",
       "| 17 | X582_Group3E_142dpi_LV_top_177_G_B5_P128.mzXML | 582                                            | Group3E                                        | 142dpi                                         | LV_top                                         | B5                                             | P128                                           | 0.000114338                                    | 0.000115359                                    | 0.000000000                                    | ...                                            | 0.001008079                                    | 4.16e-05                                       | 0.000180561                                    | 0.000036200                                    | 0.000038900                                    | 0.000056900                                    | 0.000084500                                    | 0.000075500                                    | 0.000166114                                    | 0.000048300                                    |\n",
       "| 18 | X583_Group3E_142dpi_LV_top_178_G_B6_P128.mzXML | 583                                            | Group3E                                        | 142dpi                                         | LV_top                                         | B6                                             | P128                                           | 0.000086600                                    | 0.000000000                                    | 0.000196786                                    | ...                                            | 0.000552891                                    | 4.41e-05                                       | 0.000000000                                    | 0.000088700                                    | 0.000095200                                    | 0.000216706                                    | 0.000338104                                    | 0.000471894                                    | 0.000485981                                    | 0.000190673                                    |\n",
       "| 19 | X584_Group3E_142dpi_LV_top_179_G_B7_P128.mzXML | 584                                            | Group3E                                        | 142dpi                                         | LV_top                                         | B7                                             | P128                                           | 0.000137472                                    | 0.000064900                                    | 0.000081400                                    | ...                                            | 0.000502270                                    | 0.00e+00                                       | 0.000234553                                    | 0.000000000                                    | 0.000000000                                    | 0.000000000                                    | 0.000000000                                    | 0.000000000                                    | 0.000000000                                    | 0.000000000                                    |\n",
       "| 20 | X585_Group3E_142dpi_LV_top_180_G_B8_P128.mzXML | 585                                            | Group3E                                        | 142dpi                                         | LV_top                                         | B8                                             | P128                                           | 0.000077500                                    | 0.000130843                                    | 0.000081800                                    | ...                                            | 0.000926023                                    | 0.00e+00                                       | 0.000152366                                    | 0.000000000                                    | 0.000000000                                    | 0.000000000                                    | 0.000023500                                    | 0.000035800                                    | 0.000000000                                    | 0.000000000                                    |\n",
       "| 26 | X631_Group15_142dpi_LV_top_191_G_C7_P128.mzXML | 631                                            | Group15                                        | 142dpi                                         | LV_top                                         | C7                                             | P128                                           | 0.000240284                                    | 0.000177127                                    | 0.000062800                                    | ...                                            | 0.000871016                                    | 0.00e+00                                       | 0.000373889                                    | 0.000000000                                    | 0.000000000                                    | 0.000000000                                    | 0.000059700                                    | 0.000088200                                    | 0.000081300                                    | 0.000064400                                    |\n",
       "\n"
      ],
      "text/plain": [
       "   filename                                       MouseID Treatmentgroup DPI   \n",
       "16 X581_Group3E_142dpi_LV_top_176_G_B4_P128.mzXML 581     Group3E        142dpi\n",
       "17 X582_Group3E_142dpi_LV_top_177_G_B5_P128.mzXML 582     Group3E        142dpi\n",
       "18 X583_Group3E_142dpi_LV_top_178_G_B6_P128.mzXML 583     Group3E        142dpi\n",
       "19 X584_Group3E_142dpi_LV_top_179_G_B7_P128.mzXML 584     Group3E        142dpi\n",
       "20 X585_Group3E_142dpi_LV_top_180_G_B8_P128.mzXML 585     Group3E        142dpi\n",
       "26 X631_Group15_142dpi_LV_top_191_G_C7_P128.mzXML 631     Group15        142dpi\n",
       "   organ  well_position plate X141.091_1.54 X203.007_0.309 X240.116_2.324 ...\n",
       "16 LV_top B4            P128  0.000076600   0.000000000    0.000213447    ...\n",
       "17 LV_top B5            P128  0.000114338   0.000115359    0.000000000    ...\n",
       "18 LV_top B6            P128  0.000086600   0.000000000    0.000196786    ...\n",
       "19 LV_top B7            P128  0.000137472   0.000064900    0.000081400    ...\n",
       "20 LV_top B8            P128  0.000077500   0.000130843    0.000081800    ...\n",
       "26 LV_top C7            P128  0.000240284   0.000177127    0.000062800    ...\n",
       "   X708.445_3.006 X709.936_2.18 X720.445_3.09 X737.391_2.399 X776.042_2.398\n",
       "16 0.000686223    9.20e-05      0.000000000   0.000255339    0.000307205   \n",
       "17 0.001008079    4.16e-05      0.000180561   0.000036200    0.000038900   \n",
       "18 0.000552891    4.41e-05      0.000000000   0.000088700    0.000095200   \n",
       "19 0.000502270    0.00e+00      0.000234553   0.000000000    0.000000000   \n",
       "20 0.000926023    0.00e+00      0.000152366   0.000000000    0.000000000   \n",
       "26 0.000871016    0.00e+00      0.000373889   0.000000000    0.000000000   \n",
       "   X776.095_2.398 X776.148_2.398 X776.359_2.398 X819.433_2.399 X867.281_2.399\n",
       "16 0.000428890    0.000696197    0.000766017    0.000626378    0.000307205   \n",
       "17 0.000056900    0.000084500    0.000075500    0.000166114    0.000048300   \n",
       "18 0.000216706    0.000338104    0.000471894    0.000485981    0.000190673   \n",
       "19 0.000000000    0.000000000    0.000000000    0.000000000    0.000000000   \n",
       "20 0.000000000    0.000023500    0.000035800    0.000000000    0.000000000   \n",
       "26 0.000000000    0.000059700    0.000088200    0.000081300    0.000064400   "
      ]
     },
     "metadata": {},
     "output_type": "display_data"
    },
    {
     "data": {
      "text/html": [
       "<ol class=list-inline>\n",
       "\t<li>30</li>\n",
       "\t<li>35</li>\n",
       "</ol>\n"
      ],
      "text/latex": [
       "\\begin{enumerate*}\n",
       "\\item 30\n",
       "\\item 35\n",
       "\\end{enumerate*}\n"
      ],
      "text/markdown": [
       "1. 30\n",
       "2. 35\n",
       "\n",
       "\n"
      ],
      "text/plain": [
       "[1] 30 35"
      ]
     },
     "metadata": {},
     "output_type": "display_data"
    },
    {
     "data": {
      "text/html": [
       "<ol class=list-inline>\n",
       "\t<li>30</li>\n",
       "\t<li>28</li>\n",
       "</ol>\n"
      ],
      "text/latex": [
       "\\begin{enumerate*}\n",
       "\\item 30\n",
       "\\item 28\n",
       "\\end{enumerate*}\n"
      ],
      "text/markdown": [
       "1. 30\n",
       "2. 28\n",
       "\n",
       "\n"
      ],
      "text/plain": [
       "[1] 30 28"
      ]
     },
     "metadata": {},
     "output_type": "display_data"
    },
    {
     "data": {
      "text/html": [
       "<ol class=list-inline>\n",
       "\t<li>30</li>\n",
       "\t<li>28</li>\n",
       "</ol>\n"
      ],
      "text/latex": [
       "\\begin{enumerate*}\n",
       "\\item 30\n",
       "\\item 28\n",
       "\\end{enumerate*}\n"
      ],
      "text/markdown": [
       "1. 30\n",
       "2. 28\n",
       "\n",
       "\n"
      ],
      "text/plain": [
       "[1] 30 28"
      ]
     },
     "metadata": {},
     "output_type": "display_data"
    },
    {
     "data": {
      "text/html": [
       "<ol class=list-inline>\n",
       "\t<li>30</li>\n",
       "\t<li>35</li>\n",
       "</ol>\n"
      ],
      "text/latex": [
       "\\begin{enumerate*}\n",
       "\\item 30\n",
       "\\item 35\n",
       "\\end{enumerate*}\n"
      ],
      "text/markdown": [
       "1. 30\n",
       "2. 35\n",
       "\n",
       "\n"
      ],
      "text/plain": [
       "[1] 30 35"
      ]
     },
     "metadata": {},
     "output_type": "display_data"
    }
   ],
   "source": [
    "noMeta<-features_pos[,8:35]\n",
    "head(noMeta)\n",
    "not_zero<-which(colSums(noMeta) != 0)\n",
    "head(not_zero)\n",
    "nonzero <- noMeta[, not_zero] # all the non-zero columns\n",
    "nonzero\n",
    "#add back metadata\n",
    "nonzero_wMeta<-cbind(features_pos[,1:7], nonzero)\n",
    "head(nonzero_wMeta)\n",
    "dim(features_pos)\n",
    "dim(noMeta)\n",
    "dim(nonzero)\n",
    "dim(nonzero_wMeta)"
   ]
  },
  {
   "cell_type": "code",
   "execution_count": 5,
   "metadata": {
    "scrolled": true
   },
   "outputs": [
    {
     "name": "stderr",
     "output_type": "stream",
     "text": [
      "Warning message in wilcox.test.default(x = c(0.000240284, 0.000375501, 0.000105927, :\n",
      "\"cannot compute exact p-value with ties\"Warning message in wilcox.test.default(x = c(0.000177127, 0.000147563, 0.000263935, :\n",
      "\"cannot compute exact p-value with ties\"Warning message in wilcox.test.default(x = c(6.28e-05, 0.000153118, 0, 5.18e-05, :\n",
      "\"cannot compute exact p-value with ties\"Warning message in wilcox.test.default(x = c(0.000104868, 0.000137026, 0.000112107, :\n",
      "\"cannot compute exact p-value with ties\"Warning message in wilcox.test.default(x = c(0, 0.00036459, 0, 0.000644154, 0, 0, :\n",
      "\"cannot compute exact p-value with ties\"Warning message in wilcox.test.default(x = c(0.000402601, 0, 0.000405705, 0, 0.000162848, :\n",
      "\"cannot compute exact p-value with ties\"Warning message in wilcox.test.default(x = c(0.000279231, 0.000186292, 0.000240063, :\n",
      "\"cannot compute exact p-value with ties\"Warning message in wilcox.test.default(x = c(0.000370784, 0.000354305, 0.000328337, :\n",
      "\"cannot compute exact p-value with ties\"Warning message in wilcox.test.default(x = c(0, 3.38e-05, 0, 4.93e-05, 0, 0, 0, :\n",
      "\"cannot compute exact p-value with ties\"Warning message in wilcox.test.default(x = c(0.000665298, 0.000804135, 0.001283934, :\n",
      "\"cannot compute exact p-value with ties\"Warning message in wilcox.test.default(x = c(0.000398175, 4.1e-05, 0.000718133, :\n",
      "\"cannot compute exact p-value with ties\"Warning message in wilcox.test.default(x = c(0.00029581, 5.6e-05, 0.000496164, 0.000531915, :\n",
      "\"cannot compute exact p-value with ties\"Warning message in wilcox.test.default(x = c(0, 0, 0, 0, 0, 0, 0, 0, 2.42e-05, 0, :\n",
      "\"cannot compute exact p-value with ties\"Warning message in wilcox.test.default(x = c(3.18e-05, 9.22e-05, 3.55e-05, 4.53e-05, :\n",
      "\"cannot compute exact p-value with ties\"Warning message in wilcox.test.default(x = c(0.000125216, 0.000155109, 8.19e-05, :\n",
      "\"cannot compute exact p-value with ties\"Warning message in wilcox.test.default(x = c(0.000678429, 0.00054364, 0.000539688, :\n",
      "\"cannot compute exact p-value with ties\"Warning message in wilcox.test.default(x = c(0, 3.99e-05, 0, 5.55e-05, 0, 0, 0, :\n",
      "\"cannot compute exact p-value with ties\"Warning message in wilcox.test.default(x = c(0.000373889, 0.000311334, 0.000234169, :\n",
      "\"cannot compute exact p-value with ties\"Warning message in wilcox.test.default(x = c(0, 0, 0, 0.00011395, 0.000194323, 0, :\n",
      "\"cannot compute exact p-value with ties\"Warning message in wilcox.test.default(x = c(0, 0, 0, 0.000224599, 0.000305304, :\n",
      "\"cannot compute exact p-value with ties\"Warning message in wilcox.test.default(x = c(0, 0, 0, 0.00027283, 0.000400807, 0.000101399, :\n",
      "\"cannot compute exact p-value with ties\"Warning message in wilcox.test.default(x = c(5.97e-05, 5.79e-05, 0, 0.000377007, :\n",
      "\"cannot compute exact p-value with ties\"Warning message in wilcox.test.default(x = c(8.82e-05, 0.000118815, 4.89e-05, 0.000433284, :\n",
      "\"cannot compute exact p-value with ties\"Warning message in wilcox.test.default(x = c(8.13e-05, 6.94e-05, 6.34e-05, 0.000372248, :\n",
      "\"cannot compute exact p-value with ties\"Warning message in wilcox.test.default(x = c(6.44e-05, 0, 0, 0.000221177, 0.000320164, :\n",
      "\"cannot compute exact p-value with ties\""
     ]
    },
    {
     "data": {
      "text/html": [
       "<ol class=list-inline>\n",
       "\t<li>0.339009077467491</li>\n",
       "\t<li>0.55306868923978</li>\n",
       "\t<li>0.568323001828471</li>\n",
       "\t<li>0.299543243926459</li>\n",
       "\t<li>0.389233298727313</li>\n",
       "\t<li>0.379969841691403</li>\n",
       "</ol>\n"
      ],
      "text/latex": [
       "\\begin{enumerate*}\n",
       "\\item 0.339009077467491\n",
       "\\item 0.55306868923978\n",
       "\\item 0.568323001828471\n",
       "\\item 0.299543243926459\n",
       "\\item 0.389233298727313\n",
       "\\item 0.379969841691403\n",
       "\\end{enumerate*}\n"
      ],
      "text/markdown": [
       "1. 0.339009077467491\n",
       "2. 0.55306868923978\n",
       "3. 0.568323001828471\n",
       "4. 0.299543243926459\n",
       "5. 0.389233298727313\n",
       "6. 0.379969841691403\n",
       "\n",
       "\n"
      ],
      "text/plain": [
       "[1] 0.3390091 0.5530687 0.5683230 0.2995432 0.3892333 0.3799698"
      ]
     },
     "metadata": {},
     "output_type": "display_data"
    },
    {
     "data": {
      "text/html": [
       "<ol class=list-inline>\n",
       "\t<li>0.721657611596678</li>\n",
       "\t<li>0.815830515882706</li>\n",
       "\t<li>0.815830515882706</li>\n",
       "\t<li>0.70113191268934</li>\n",
       "\t<li>0.721657611596678</li>\n",
       "\t<li>0.721657611596678</li>\n",
       "</ol>\n"
      ],
      "text/latex": [
       "\\begin{enumerate*}\n",
       "\\item 0.721657611596678\n",
       "\\item 0.815830515882706\n",
       "\\item 0.815830515882706\n",
       "\\item 0.70113191268934\n",
       "\\item 0.721657611596678\n",
       "\\item 0.721657611596678\n",
       "\\end{enumerate*}\n"
      ],
      "text/markdown": [
       "1. 0.721657611596678\n",
       "2. 0.815830515882706\n",
       "3. 0.815830515882706\n",
       "4. 0.70113191268934\n",
       "5. 0.721657611596678\n",
       "6. 0.721657611596678\n",
       "\n",
       "\n"
      ],
      "text/plain": [
       "[1] 0.7216576 0.8158305 0.8158305 0.7011319 0.7216576 0.7216576"
      ]
     },
     "metadata": {},
     "output_type": "display_data"
    }
   ],
   "source": [
    "pval<-c()#create an empty vector with value pval\n",
    "\n",
    "# 8 to the end of each row\n",
    "for (i in 8:ncol(nonzero_wMeta)) \n",
    "pval<-c(pval,wilcox.test(nonzero_wMeta[,i]~nonzero_wMeta$Treatmentgroup)$p.value) #assign to pval the output of the Mann-Whitney-Wilcoxon test\n",
    "    #don't know why there is that first pval in c(pval...) but it doesn't work without it\n",
    "    #$p.value is because there are many output lines from wilcox.test; you want to keep only the one that's called $p.value because that's where the nbr is\n",
    "\n",
    "head(pval) #to check\n",
    "pAdj <- p.adjust(pval, method = c(\"fdr\"), n=length(pval)) \n",
    "head(pAdj) \n",
    "\n"
   ]
  },
  {
   "cell_type": "code",
   "execution_count": 6,
   "metadata": {
    "scrolled": true
   },
   "outputs": [
    {
     "data": {
      "text/html": [
       "28"
      ],
      "text/latex": [
       "28"
      ],
      "text/markdown": [
       "28"
      ],
      "text/plain": [
       "[1] 28"
      ]
     },
     "metadata": {},
     "output_type": "display_data"
    }
   ],
   "source": [
    "length(pval)"
   ]
  },
  {
   "cell_type": "code",
   "execution_count": 7,
   "metadata": {
    "scrolled": true
   },
   "outputs": [
    {
     "data": {
      "text/html": [
       "28"
      ],
      "text/latex": [
       "28"
      ],
      "text/markdown": [
       "28"
      ],
      "text/plain": [
       "[1] 28"
      ]
     },
     "metadata": {},
     "output_type": "display_data"
    }
   ],
   "source": [
    "length(pAdj)"
   ]
  },
  {
   "cell_type": "code",
   "execution_count": 8,
   "metadata": {},
   "outputs": [
    {
     "data": {
      "text/html": [
       "<ol class=list-inline>\n",
       "\t<li>2</li>\n",
       "\t<li>28</li>\n",
       "</ol>\n"
      ],
      "text/latex": [
       "\\begin{enumerate*}\n",
       "\\item 2\n",
       "\\item 28\n",
       "\\end{enumerate*}\n"
      ],
      "text/markdown": [
       "1. 2\n",
       "2. 28\n",
       "\n",
       "\n"
      ],
      "text/plain": [
       "[1]  2 28"
      ]
     },
     "metadata": {},
     "output_type": "display_data"
    },
    {
     "data": {
      "text/html": [
       "<table>\n",
       "<thead><tr><th></th><th scope=col>X141.091_1.54</th><th scope=col>X203.007_0.309</th><th scope=col>X240.116_2.324</th></tr></thead>\n",
       "<tbody>\n",
       "\t<tr><th scope=row>Group15</th><td>0.0001844664</td><td>6.999707e-05</td><td>4.748787e-05</td></tr>\n",
       "\t<tr><th scope=row>Group3E</th><td>0.0001440242</td><td>3.144280e-05</td><td>6.741387e-05</td></tr>\n",
       "</tbody>\n",
       "</table>\n"
      ],
      "text/latex": [
       "\\begin{tabular}{r|lll}\n",
       "  & X141.091\\_1.54 & X203.007\\_0.309 & X240.116\\_2.324\\\\\n",
       "\\hline\n",
       "\tGroup15 & 0.0001844664 & 6.999707e-05 & 4.748787e-05\\\\\n",
       "\tGroup3E & 0.0001440242 & 3.144280e-05 & 6.741387e-05\\\\\n",
       "\\end{tabular}\n"
      ],
      "text/markdown": [
       "\n",
       "| <!--/--> | X141.091_1.54 | X203.007_0.309 | X240.116_2.324 |\n",
       "|---|---|---|---|\n",
       "| Group15 | 0.0001844664 | 6.999707e-05 | 4.748787e-05 |\n",
       "| Group3E | 0.0001440242 | 3.144280e-05 | 6.741387e-05 |\n",
       "\n"
      ],
      "text/plain": [
       "        X141.091_1.54 X203.007_0.309 X240.116_2.324\n",
       "Group15 0.0001844664  6.999707e-05   4.748787e-05  \n",
       "Group3E 0.0001440242  3.144280e-05   6.741387e-05  "
      ]
     },
     "metadata": {},
     "output_type": "display_data"
    },
    {
     "data": {
      "text/html": [
       "<dl class=dl-horizontal>\n",
       "\t<dt>X141.091_1.54</dt>\n",
       "\t\t<dd>1.28080142087233</dd>\n",
       "\t<dt>X203.007_0.309</dt>\n",
       "\t\t<dd>2.22617154536704</dd>\n",
       "\t<dt>X240.116_2.324</dt>\n",
       "\t\t<dd>0.704422828933315</dd>\n",
       "\t<dt>X249.112_2.768</dt>\n",
       "\t\t<dd>0.79045456272915</dd>\n",
       "\t<dt>X272.222_2.957</dt>\n",
       "\t\t<dd>0.670154447008023</dd>\n",
       "\t<dt>X293.211_2.931</dt>\n",
       "\t\t<dd>1.55691086370088</dd>\n",
       "</dl>\n"
      ],
      "text/latex": [
       "\\begin{description*}\n",
       "\\item[X141.091\\textbackslash{}\\_1.54] 1.28080142087233\n",
       "\\item[X203.007\\textbackslash{}\\_0.309] 2.22617154536704\n",
       "\\item[X240.116\\textbackslash{}\\_2.324] 0.704422828933315\n",
       "\\item[X249.112\\textbackslash{}\\_2.768] 0.79045456272915\n",
       "\\item[X272.222\\textbackslash{}\\_2.957] 0.670154447008023\n",
       "\\item[X293.211\\textbackslash{}\\_2.931] 1.55691086370088\n",
       "\\end{description*}\n"
      ],
      "text/markdown": [
       "X141.091_1.54\n",
       ":   1.28080142087233X203.007_0.309\n",
       ":   2.22617154536704X240.116_2.324\n",
       ":   0.704422828933315X249.112_2.768\n",
       ":   0.79045456272915X272.222_2.957\n",
       ":   0.670154447008023X293.211_2.931\n",
       ":   1.55691086370088\n",
       "\n"
      ],
      "text/plain": [
       " X141.091_1.54 X203.007_0.309 X240.116_2.324 X249.112_2.768 X272.222_2.957 \n",
       "     1.2808014      2.2261715      0.7044228      0.7904546      0.6701544 \n",
       "X293.211_2.931 \n",
       "     1.5569109 "
      ]
     },
     "metadata": {},
     "output_type": "display_data"
    },
    {
     "data": {
      "text/html": [
       "<ol class=list-inline>\n",
       "\t<li>'numeric'</li>\n",
       "\t<li>'vector'</li>\n",
       "</ol>\n"
      ],
      "text/latex": [
       "\\begin{enumerate*}\n",
       "\\item 'numeric'\n",
       "\\item 'vector'\n",
       "\\end{enumerate*}\n"
      ],
      "text/markdown": [
       "1. 'numeric'\n",
       "2. 'vector'\n",
       "\n",
       "\n"
      ],
      "text/plain": [
       "[1] \"numeric\" \"vector\" "
      ]
     },
     "metadata": {},
     "output_type": "display_data"
    }
   ],
   "source": [
    "# change the column name, you want to see infected and naive so it should be State\n",
    "avg<- apply(nonzero_wMeta[,8:ncol(nonzero_wMeta)], 2, function(x) tapply(x, nonzero_wMeta$Treatmentgroup, function(x) mean(x))) \n",
    "\n",
    "dim(avg) #to check\n",
    "\n",
    "avg[,1:3]#to check\n",
    "\n",
    "fch <- apply(avg, 2, function(x) x[1]/x[2]) #calculate fold change\n",
    "\n",
    "head(fch) #to check it's ok\n",
    "is(fch)"
   ]
  },
  {
   "cell_type": "code",
   "execution_count": 9,
   "metadata": {
    "scrolled": true
   },
   "outputs": [
    {
     "data": {
      "text/html": [
       "<dl class=dl-horizontal>\n",
       "\t<dt>X141.091_1.54</dt>\n",
       "\t\t<dd>1.28080142087233</dd>\n",
       "\t<dt>X203.007_0.309</dt>\n",
       "\t\t<dd>2.22617154536704</dd>\n",
       "\t<dt>X240.116_2.324</dt>\n",
       "\t\t<dd>0.704422828933315</dd>\n",
       "\t<dt>X249.112_2.768</dt>\n",
       "\t\t<dd>0.79045456272915</dd>\n",
       "\t<dt>X272.222_2.957</dt>\n",
       "\t\t<dd>0.670154447008023</dd>\n",
       "\t<dt>X293.211_2.931</dt>\n",
       "\t\t<dd>1.55691086370088</dd>\n",
       "\t<dt>X293.211_2.934</dt>\n",
       "\t\t<dd>1.06794098133541</dd>\n",
       "\t<dt>X296.258_2.976</dt>\n",
       "\t\t<dd>1.20838379733254</dd>\n",
       "\t<dt>X311.221_2.932</dt>\n",
       "\t\t<dd>2.03293589968506</dd>\n",
       "\t<dt>X345.243_3.095</dt>\n",
       "\t\t<dd>3.69219967087219</dd>\n",
       "\t<dt>X366.373_3.699</dt>\n",
       "\t\t<dd>0.683769219527227</dd>\n",
       "\t<dt>X440.337_2.772</dt>\n",
       "\t\t<dd>0.425489594885975</dd>\n",
       "\t<dt>X442.353_2.827</dt>\n",
       "\t\t<dd>0.400733220375889</dd>\n",
       "\t<dt>X546.029_2.319</dt>\n",
       "\t\t<dd>0.274540765303437</dd>\n",
       "\t<dt>X607.227_2.771</dt>\n",
       "\t\t<dd>0.859271273109077</dd>\n",
       "\t<dt>X608.227_2.768</dt>\n",
       "\t\t<dd>0.770338969373867</dd>\n",
       "\t<dt>X690.434_3.14</dt>\n",
       "\t\t<dd>0.788360126514548</dd>\n",
       "\t<dt>X692.414_2.985</dt>\n",
       "\t\t<dd>1.09835563308302</dd>\n",
       "\t<dt>X708.445_3.006</dt>\n",
       "\t\t<dd>0.880171030820497</dd>\n",
       "\t<dt>X709.936_2.18</dt>\n",
       "\t\t<dd>0.247599273293538</dd>\n",
       "\t<dt>X720.445_3.09</dt>\n",
       "\t\t<dd>1.12963950704639</dd>\n",
       "\t<dt>X737.391_2.399</dt>\n",
       "\t\t<dd>0.92927954437589</dd>\n",
       "\t<dt>X776.042_2.398</dt>\n",
       "\t\t<dd>1.08558062011099</dd>\n",
       "\t<dt>X776.095_2.398</dt>\n",
       "\t\t<dd>0.893824695068601</dd>\n",
       "\t<dt>X776.148_2.398</dt>\n",
       "\t\t<dd>0.972067401077688</dd>\n",
       "\t<dt>X776.359_2.398</dt>\n",
       "\t\t<dd>1.07111813604964</dd>\n",
       "\t<dt>X819.433_2.399</dt>\n",
       "\t\t<dd>0.873304497730421</dd>\n",
       "\t<dt>X867.281_2.399</dt>\n",
       "\t\t<dd>1.02670706100312</dd>\n",
       "</dl>\n"
      ],
      "text/latex": [
       "\\begin{description*}\n",
       "\\item[X141.091\\textbackslash{}\\_1.54] 1.28080142087233\n",
       "\\item[X203.007\\textbackslash{}\\_0.309] 2.22617154536704\n",
       "\\item[X240.116\\textbackslash{}\\_2.324] 0.704422828933315\n",
       "\\item[X249.112\\textbackslash{}\\_2.768] 0.79045456272915\n",
       "\\item[X272.222\\textbackslash{}\\_2.957] 0.670154447008023\n",
       "\\item[X293.211\\textbackslash{}\\_2.931] 1.55691086370088\n",
       "\\item[X293.211\\textbackslash{}\\_2.934] 1.06794098133541\n",
       "\\item[X296.258\\textbackslash{}\\_2.976] 1.20838379733254\n",
       "\\item[X311.221\\textbackslash{}\\_2.932] 2.03293589968506\n",
       "\\item[X345.243\\textbackslash{}\\_3.095] 3.69219967087219\n",
       "\\item[X366.373\\textbackslash{}\\_3.699] 0.683769219527227\n",
       "\\item[X440.337\\textbackslash{}\\_2.772] 0.425489594885975\n",
       "\\item[X442.353\\textbackslash{}\\_2.827] 0.400733220375889\n",
       "\\item[X546.029\\textbackslash{}\\_2.319] 0.274540765303437\n",
       "\\item[X607.227\\textbackslash{}\\_2.771] 0.859271273109077\n",
       "\\item[X608.227\\textbackslash{}\\_2.768] 0.770338969373867\n",
       "\\item[X690.434\\textbackslash{}\\_3.14] 0.788360126514548\n",
       "\\item[X692.414\\textbackslash{}\\_2.985] 1.09835563308302\n",
       "\\item[X708.445\\textbackslash{}\\_3.006] 0.880171030820497\n",
       "\\item[X709.936\\textbackslash{}\\_2.18] 0.247599273293538\n",
       "\\item[X720.445\\textbackslash{}\\_3.09] 1.12963950704639\n",
       "\\item[X737.391\\textbackslash{}\\_2.399] 0.92927954437589\n",
       "\\item[X776.042\\textbackslash{}\\_2.398] 1.08558062011099\n",
       "\\item[X776.095\\textbackslash{}\\_2.398] 0.893824695068601\n",
       "\\item[X776.148\\textbackslash{}\\_2.398] 0.972067401077688\n",
       "\\item[X776.359\\textbackslash{}\\_2.398] 1.07111813604964\n",
       "\\item[X819.433\\textbackslash{}\\_2.399] 0.873304497730421\n",
       "\\item[X867.281\\textbackslash{}\\_2.399] 1.02670706100312\n",
       "\\end{description*}\n"
      ],
      "text/markdown": [
       "X141.091_1.54\n",
       ":   1.28080142087233X203.007_0.309\n",
       ":   2.22617154536704X240.116_2.324\n",
       ":   0.704422828933315X249.112_2.768\n",
       ":   0.79045456272915X272.222_2.957\n",
       ":   0.670154447008023X293.211_2.931\n",
       ":   1.55691086370088X293.211_2.934\n",
       ":   1.06794098133541X296.258_2.976\n",
       ":   1.20838379733254X311.221_2.932\n",
       ":   2.03293589968506X345.243_3.095\n",
       ":   3.69219967087219X366.373_3.699\n",
       ":   0.683769219527227X440.337_2.772\n",
       ":   0.425489594885975X442.353_2.827\n",
       ":   0.400733220375889X546.029_2.319\n",
       ":   0.274540765303437X607.227_2.771\n",
       ":   0.859271273109077X608.227_2.768\n",
       ":   0.770338969373867X690.434_3.14\n",
       ":   0.788360126514548X692.414_2.985\n",
       ":   1.09835563308302X708.445_3.006\n",
       ":   0.880171030820497X709.936_2.18\n",
       ":   0.247599273293538X720.445_3.09\n",
       ":   1.12963950704639X737.391_2.399\n",
       ":   0.92927954437589X776.042_2.398\n",
       ":   1.08558062011099X776.095_2.398\n",
       ":   0.893824695068601X776.148_2.398\n",
       ":   0.972067401077688X776.359_2.398\n",
       ":   1.07111813604964X819.433_2.399\n",
       ":   0.873304497730421X867.281_2.399\n",
       ":   1.02670706100312\n",
       "\n"
      ],
      "text/plain": [
       " X141.091_1.54 X203.007_0.309 X240.116_2.324 X249.112_2.768 X272.222_2.957 \n",
       "     1.2808014      2.2261715      0.7044228      0.7904546      0.6701544 \n",
       "X293.211_2.931 X293.211_2.934 X296.258_2.976 X311.221_2.932 X345.243_3.095 \n",
       "     1.5569109      1.0679410      1.2083838      2.0329359      3.6921997 \n",
       "X366.373_3.699 X440.337_2.772 X442.353_2.827 X546.029_2.319 X607.227_2.771 \n",
       "     0.6837692      0.4254896      0.4007332      0.2745408      0.8592713 \n",
       "X608.227_2.768  X690.434_3.14 X692.414_2.985 X708.445_3.006  X709.936_2.18 \n",
       "     0.7703390      0.7883601      1.0983556      0.8801710      0.2475993 \n",
       " X720.445_3.09 X737.391_2.399 X776.042_2.398 X776.095_2.398 X776.148_2.398 \n",
       "     1.1296395      0.9292795      1.0855806      0.8938247      0.9720674 \n",
       "X776.359_2.398 X819.433_2.399 X867.281_2.399 \n",
       "     1.0711181      0.8733045      1.0267071 "
      ]
     },
     "metadata": {},
     "output_type": "display_data"
    }
   ],
   "source": [
    "fch"
   ]
  },
  {
   "cell_type": "code",
   "execution_count": 10,
   "metadata": {
    "scrolled": false
   },
   "outputs": [],
   "source": [
    "#Convoluted way to get the names; likely could find a simpler way\n",
    "\n",
    "#make dataframe from pval and fch\n",
    "df <- data.frame(fch,pval, pAdj)\n",
    "write.csv(df, \"LVT-wilcox-3E-15.csv\")"
   ]
  },
  {
   "cell_type": "code",
   "execution_count": null,
   "metadata": {},
   "outputs": [],
   "source": []
  },
  {
   "cell_type": "code",
   "execution_count": null,
   "metadata": {},
   "outputs": [],
   "source": []
  },
  {
   "cell_type": "code",
   "execution_count": null,
   "metadata": {},
   "outputs": [],
   "source": []
  }
 ],
 "metadata": {
  "kernelspec": {
   "display_name": "R",
   "language": "R",
   "name": "ir"
  },
  "language_info": {
   "codemirror_mode": "r",
   "file_extension": ".r",
   "mimetype": "text/x-r-source",
   "name": "R",
   "pygments_lexer": "r",
   "version": "3.6.1"
  }
 },
 "nbformat": 4,
 "nbformat_minor": 2
}
