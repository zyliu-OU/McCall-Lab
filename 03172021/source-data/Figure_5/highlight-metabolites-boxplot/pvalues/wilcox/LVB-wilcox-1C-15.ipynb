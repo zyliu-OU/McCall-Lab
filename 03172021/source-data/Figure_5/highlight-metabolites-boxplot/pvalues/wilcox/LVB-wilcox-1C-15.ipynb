{
 "cells": [
  {
   "cell_type": "code",
   "execution_count": null,
   "metadata": {},
   "outputs": [],
   "source": [
    "# after I have filtered feature table, I do wilcox p value for filtered mass list. So that the p value will be more accurate"
   ]
  },
  {
   "cell_type": "code",
   "execution_count": 1,
   "metadata": {},
   "outputs": [],
   "source": [
    "a <- read.csv(\"03172021-9-15-3E-1C-LVB-M-F-filtered-fix.csv\")"
   ]
  },
  {
   "cell_type": "code",
   "execution_count": 2,
   "metadata": {},
   "outputs": [
    {
     "data": {
      "text/html": [
       "<table>\n",
       "<thead><tr><th scope=col>filename</th><th scope=col>MouseID</th><th scope=col>Treatmentgroup</th><th scope=col>DPI</th><th scope=col>organ</th><th scope=col>well_position</th><th scope=col>plate</th><th scope=col>X105.07_2.767</th><th scope=col>X119.049_2.765</th><th scope=col>X128.018_0.344</th><th scope=col>...</th><th scope=col>X599.241_2.765</th><th scope=col>X604.362_2.948</th><th scope=col>X620.356_2.913</th><th scope=col>X682.363_3.329</th><th scope=col>X682.364_3.313</th><th scope=col>X764.524_3.729</th><th scope=col>X790.38_2.768</th><th scope=col>X792.329_2.764</th><th scope=col>X795.335_2.768</th><th scope=col>X811.309_2.773</th></tr></thead>\n",
       "<tbody>\n",
       "\t<tr><td>X511_Group1C_142dpi_LV_bottom_161_G_A1_P132.mzXML</td><td>511                                              </td><td>Group1C                                          </td><td>142dpi                                           </td><td>LV_bottom                                        </td><td>A1                                               </td><td>P132                                             </td><td>0.001681762                                      </td><td>0.000000000                                      </td><td>0                                                </td><td>...                                              </td><td>0.000000000                                      </td><td>0.001281931                                      </td><td>0.000659514                                      </td><td>0.000320160                                      </td><td>0                                                </td><td>0                                                </td><td>0.000370969                                      </td><td>0.00e+00                                         </td><td>0.000245626                                      </td><td>0.000038000                                      </td></tr>\n",
       "\t<tr><td>X512_Group1C_142dpi_LV_bottom_162_G_A2_P132.mzXML</td><td>512                                              </td><td>Group1C                                          </td><td>142dpi                                           </td><td>LV_bottom                                        </td><td>A2                                               </td><td>P132                                             </td><td>0.001668227                                      </td><td>0.000020400                                      </td><td>0                                                </td><td>...                                              </td><td>0.000050000                                      </td><td>0.000671298                                      </td><td>0.000483435                                      </td><td>0.000179208                                      </td><td>0                                                </td><td>0                                                </td><td>0.000586134                                      </td><td>0.00e+00                                         </td><td>0.000211682                                      </td><td>0.000020900                                      </td></tr>\n",
       "\t<tr><td>X513_Group1C_142dpi_LV_bottom_163_G_A3_P132.mzXML</td><td>513                                              </td><td>Group1C                                          </td><td>142dpi                                           </td><td>LV_bottom                                        </td><td>A3                                               </td><td>P132                                             </td><td>0.002195508                                      </td><td>0.000000000                                      </td><td>0                                                </td><td>...                                              </td><td>0.000082900                                      </td><td>0.000706708                                      </td><td>0.000317234                                      </td><td>0.000099800                                      </td><td>0                                                </td><td>0                                                </td><td>0.001133874                                      </td><td>0.00e+00                                         </td><td>0.000741259                                      </td><td>0.000095300                                      </td></tr>\n",
       "\t<tr><td>X514_Group1C_142dpi_LV_bottom_164_G_A4_P132.mzXML</td><td>514                                              </td><td>Group1C                                          </td><td>142dpi                                           </td><td>LV_bottom                                        </td><td>A4                                               </td><td>P132                                             </td><td>0.003006615                                      </td><td>0.000063800                                      </td><td>0                                                </td><td>...                                              </td><td>0.000099100                                      </td><td>0.000930076                                      </td><td>0.000245202                                      </td><td>0.000234970                                      </td><td>0                                                </td><td>0                                                </td><td>0.001150258                                      </td><td>0.00e+00                                         </td><td>0.000713691                                      </td><td>0.000174109                                      </td></tr>\n",
       "\t<tr><td>X515_Group1C_142dpi_LV_bottom_165_G_A5_P132.mzXML</td><td>515                                              </td><td>Group1C                                          </td><td>142dpi                                           </td><td>LV_bottom                                        </td><td>A5                                               </td><td>P132                                             </td><td>0.002858430                                      </td><td>0.000000000                                      </td><td>0                                                </td><td>...                                              </td><td>0.000178807                                      </td><td>0.000744165                                      </td><td>0.000302164                                      </td><td>0.000251297                                      </td><td>0                                                </td><td>0                                                </td><td>0.001161454                                      </td><td>4.09e-05                                         </td><td>0.000765030                                      </td><td>0.000136971                                      </td></tr>\n",
       "\t<tr><td>X531_Group1C_142dpi_LV_bottom_166_G_A6_P132.mzXML</td><td>531                                              </td><td>Group1C                                          </td><td>142dpi                                           </td><td>LV_bottom                                        </td><td>A6                                               </td><td>P132                                             </td><td>0.003596194                                      </td><td>0.000107639                                      </td><td>0                                                </td><td>...                                              </td><td>0.000280413                                      </td><td>0.000626765                                      </td><td>0.000345920                                      </td><td>0.000112422                                      </td><td>0                                                </td><td>0                                                </td><td>0.001883720                                      </td><td>8.53e-05                                         </td><td>0.001150782                                      </td><td>0.000161828                                      </td></tr>\n",
       "</tbody>\n",
       "</table>\n"
      ],
      "text/latex": [
       "\\begin{tabular}{r|llllllllllllllllllllllllllllllllllllllllllllllllllllllllllllll}\n",
       " filename & MouseID & Treatmentgroup & DPI & organ & well\\_position & plate & X105.07\\_2.767 & X119.049\\_2.765 & X128.018\\_0.344 & ... & X599.241\\_2.765 & X604.362\\_2.948 & X620.356\\_2.913 & X682.363\\_3.329 & X682.364\\_3.313 & X764.524\\_3.729 & X790.38\\_2.768 & X792.329\\_2.764 & X795.335\\_2.768 & X811.309\\_2.773\\\\\n",
       "\\hline\n",
       "\t X511\\_Group1C\\_142dpi\\_LV\\_bottom\\_161\\_G\\_A1\\_P132.mzXML & 511                                                               & Group1C                                                           & 142dpi                                                            & LV\\_bottom                                                       & A1                                                                & P132                                                              & 0.001681762                                                       & 0.000000000                                                       & 0                                                                 & ...                                                               & 0.000000000                                                       & 0.001281931                                                       & 0.000659514                                                       & 0.000320160                                                       & 0                                                                 & 0                                                                 & 0.000370969                                                       & 0.00e+00                                                          & 0.000245626                                                       & 0.000038000                                                      \\\\\n",
       "\t X512\\_Group1C\\_142dpi\\_LV\\_bottom\\_162\\_G\\_A2\\_P132.mzXML & 512                                                               & Group1C                                                           & 142dpi                                                            & LV\\_bottom                                                       & A2                                                                & P132                                                              & 0.001668227                                                       & 0.000020400                                                       & 0                                                                 & ...                                                               & 0.000050000                                                       & 0.000671298                                                       & 0.000483435                                                       & 0.000179208                                                       & 0                                                                 & 0                                                                 & 0.000586134                                                       & 0.00e+00                                                          & 0.000211682                                                       & 0.000020900                                                      \\\\\n",
       "\t X513\\_Group1C\\_142dpi\\_LV\\_bottom\\_163\\_G\\_A3\\_P132.mzXML & 513                                                               & Group1C                                                           & 142dpi                                                            & LV\\_bottom                                                       & A3                                                                & P132                                                              & 0.002195508                                                       & 0.000000000                                                       & 0                                                                 & ...                                                               & 0.000082900                                                       & 0.000706708                                                       & 0.000317234                                                       & 0.000099800                                                       & 0                                                                 & 0                                                                 & 0.001133874                                                       & 0.00e+00                                                          & 0.000741259                                                       & 0.000095300                                                      \\\\\n",
       "\t X514\\_Group1C\\_142dpi\\_LV\\_bottom\\_164\\_G\\_A4\\_P132.mzXML & 514                                                               & Group1C                                                           & 142dpi                                                            & LV\\_bottom                                                       & A4                                                                & P132                                                              & 0.003006615                                                       & 0.000063800                                                       & 0                                                                 & ...                                                               & 0.000099100                                                       & 0.000930076                                                       & 0.000245202                                                       & 0.000234970                                                       & 0                                                                 & 0                                                                 & 0.001150258                                                       & 0.00e+00                                                          & 0.000713691                                                       & 0.000174109                                                      \\\\\n",
       "\t X515\\_Group1C\\_142dpi\\_LV\\_bottom\\_165\\_G\\_A5\\_P132.mzXML & 515                                                               & Group1C                                                           & 142dpi                                                            & LV\\_bottom                                                       & A5                                                                & P132                                                              & 0.002858430                                                       & 0.000000000                                                       & 0                                                                 & ...                                                               & 0.000178807                                                       & 0.000744165                                                       & 0.000302164                                                       & 0.000251297                                                       & 0                                                                 & 0                                                                 & 0.001161454                                                       & 4.09e-05                                                          & 0.000765030                                                       & 0.000136971                                                      \\\\\n",
       "\t X531\\_Group1C\\_142dpi\\_LV\\_bottom\\_166\\_G\\_A6\\_P132.mzXML & 531                                                               & Group1C                                                           & 142dpi                                                            & LV\\_bottom                                                       & A6                                                                & P132                                                              & 0.003596194                                                       & 0.000107639                                                       & 0                                                                 & ...                                                               & 0.000280413                                                       & 0.000626765                                                       & 0.000345920                                                       & 0.000112422                                                       & 0                                                                 & 0                                                                 & 0.001883720                                                       & 8.53e-05                                                          & 0.001150782                                                       & 0.000161828                                                      \\\\\n",
       "\\end{tabular}\n"
      ],
      "text/markdown": [
       "\n",
       "| filename | MouseID | Treatmentgroup | DPI | organ | well_position | plate | X105.07_2.767 | X119.049_2.765 | X128.018_0.344 | ... | X599.241_2.765 | X604.362_2.948 | X620.356_2.913 | X682.363_3.329 | X682.364_3.313 | X764.524_3.729 | X790.38_2.768 | X792.329_2.764 | X795.335_2.768 | X811.309_2.773 |\n",
       "|---|---|---|---|---|---|---|---|---|---|---|---|---|---|---|---|---|---|---|---|---|\n",
       "| X511_Group1C_142dpi_LV_bottom_161_G_A1_P132.mzXML | 511                                               | Group1C                                           | 142dpi                                            | LV_bottom                                         | A1                                                | P132                                              | 0.001681762                                       | 0.000000000                                       | 0                                                 | ...                                               | 0.000000000                                       | 0.001281931                                       | 0.000659514                                       | 0.000320160                                       | 0                                                 | 0                                                 | 0.000370969                                       | 0.00e+00                                          | 0.000245626                                       | 0.000038000                                       |\n",
       "| X512_Group1C_142dpi_LV_bottom_162_G_A2_P132.mzXML | 512                                               | Group1C                                           | 142dpi                                            | LV_bottom                                         | A2                                                | P132                                              | 0.001668227                                       | 0.000020400                                       | 0                                                 | ...                                               | 0.000050000                                       | 0.000671298                                       | 0.000483435                                       | 0.000179208                                       | 0                                                 | 0                                                 | 0.000586134                                       | 0.00e+00                                          | 0.000211682                                       | 0.000020900                                       |\n",
       "| X513_Group1C_142dpi_LV_bottom_163_G_A3_P132.mzXML | 513                                               | Group1C                                           | 142dpi                                            | LV_bottom                                         | A3                                                | P132                                              | 0.002195508                                       | 0.000000000                                       | 0                                                 | ...                                               | 0.000082900                                       | 0.000706708                                       | 0.000317234                                       | 0.000099800                                       | 0                                                 | 0                                                 | 0.001133874                                       | 0.00e+00                                          | 0.000741259                                       | 0.000095300                                       |\n",
       "| X514_Group1C_142dpi_LV_bottom_164_G_A4_P132.mzXML | 514                                               | Group1C                                           | 142dpi                                            | LV_bottom                                         | A4                                                | P132                                              | 0.003006615                                       | 0.000063800                                       | 0                                                 | ...                                               | 0.000099100                                       | 0.000930076                                       | 0.000245202                                       | 0.000234970                                       | 0                                                 | 0                                                 | 0.001150258                                       | 0.00e+00                                          | 0.000713691                                       | 0.000174109                                       |\n",
       "| X515_Group1C_142dpi_LV_bottom_165_G_A5_P132.mzXML | 515                                               | Group1C                                           | 142dpi                                            | LV_bottom                                         | A5                                                | P132                                              | 0.002858430                                       | 0.000000000                                       | 0                                                 | ...                                               | 0.000178807                                       | 0.000744165                                       | 0.000302164                                       | 0.000251297                                       | 0                                                 | 0                                                 | 0.001161454                                       | 4.09e-05                                          | 0.000765030                                       | 0.000136971                                       |\n",
       "| X531_Group1C_142dpi_LV_bottom_166_G_A6_P132.mzXML | 531                                               | Group1C                                           | 142dpi                                            | LV_bottom                                         | A6                                                | P132                                              | 0.003596194                                       | 0.000107639                                       | 0                                                 | ...                                               | 0.000280413                                       | 0.000626765                                       | 0.000345920                                       | 0.000112422                                       | 0                                                 | 0                                                 | 0.001883720                                       | 8.53e-05                                          | 0.001150782                                       | 0.000161828                                       |\n",
       "\n"
      ],
      "text/plain": [
       "  filename                                          MouseID Treatmentgroup\n",
       "1 X511_Group1C_142dpi_LV_bottom_161_G_A1_P132.mzXML 511     Group1C       \n",
       "2 X512_Group1C_142dpi_LV_bottom_162_G_A2_P132.mzXML 512     Group1C       \n",
       "3 X513_Group1C_142dpi_LV_bottom_163_G_A3_P132.mzXML 513     Group1C       \n",
       "4 X514_Group1C_142dpi_LV_bottom_164_G_A4_P132.mzXML 514     Group1C       \n",
       "5 X515_Group1C_142dpi_LV_bottom_165_G_A5_P132.mzXML 515     Group1C       \n",
       "6 X531_Group1C_142dpi_LV_bottom_166_G_A6_P132.mzXML 531     Group1C       \n",
       "  DPI    organ     well_position plate X105.07_2.767 X119.049_2.765\n",
       "1 142dpi LV_bottom A1            P132  0.001681762   0.000000000   \n",
       "2 142dpi LV_bottom A2            P132  0.001668227   0.000020400   \n",
       "3 142dpi LV_bottom A3            P132  0.002195508   0.000000000   \n",
       "4 142dpi LV_bottom A4            P132  0.003006615   0.000063800   \n",
       "5 142dpi LV_bottom A5            P132  0.002858430   0.000000000   \n",
       "6 142dpi LV_bottom A6            P132  0.003596194   0.000107639   \n",
       "  X128.018_0.344 ... X599.241_2.765 X604.362_2.948 X620.356_2.913\n",
       "1 0              ... 0.000000000    0.001281931    0.000659514   \n",
       "2 0              ... 0.000050000    0.000671298    0.000483435   \n",
       "3 0              ... 0.000082900    0.000706708    0.000317234   \n",
       "4 0              ... 0.000099100    0.000930076    0.000245202   \n",
       "5 0              ... 0.000178807    0.000744165    0.000302164   \n",
       "6 0              ... 0.000280413    0.000626765    0.000345920   \n",
       "  X682.363_3.329 X682.364_3.313 X764.524_3.729 X790.38_2.768 X792.329_2.764\n",
       "1 0.000320160    0              0              0.000370969   0.00e+00      \n",
       "2 0.000179208    0              0              0.000586134   0.00e+00      \n",
       "3 0.000099800    0              0              0.001133874   0.00e+00      \n",
       "4 0.000234970    0              0              0.001150258   0.00e+00      \n",
       "5 0.000251297    0              0              0.001161454   4.09e-05      \n",
       "6 0.000112422    0              0              0.001883720   8.53e-05      \n",
       "  X795.335_2.768 X811.309_2.773\n",
       "1 0.000245626    0.000038000   \n",
       "2 0.000211682    0.000020900   \n",
       "3 0.000741259    0.000095300   \n",
       "4 0.000713691    0.000174109   \n",
       "5 0.000765030    0.000136971   \n",
       "6 0.001150782    0.000161828   "
      ]
     },
     "metadata": {},
     "output_type": "display_data"
    },
    {
     "data": {
      "text/html": [
       "<ol class=list-inline>\n",
       "\t<li>60</li>\n",
       "\t<li>62</li>\n",
       "</ol>\n"
      ],
      "text/latex": [
       "\\begin{enumerate*}\n",
       "\\item 60\n",
       "\\item 62\n",
       "\\end{enumerate*}\n"
      ],
      "text/markdown": [
       "1. 60\n",
       "2. 62\n",
       "\n",
       "\n"
      ],
      "text/plain": [
       "[1] 60 62"
      ]
     },
     "metadata": {},
     "output_type": "display_data"
    }
   ],
   "source": [
    "head(a)\n",
    "dim(a)"
   ]
  },
  {
   "cell_type": "code",
   "execution_count": 3,
   "metadata": {},
   "outputs": [
    {
     "data": {
      "text/html": [
       "<table>\n",
       "<thead><tr><th scope=col>filename</th><th scope=col>MouseID</th><th scope=col>Treatmentgroup</th><th scope=col>DPI</th><th scope=col>organ</th><th scope=col>well_position</th><th scope=col>plate</th><th scope=col>X105.07_2.767</th><th scope=col>X119.049_2.765</th><th scope=col>X128.018_0.344</th><th scope=col>...</th><th scope=col>X599.241_2.765</th><th scope=col>X604.362_2.948</th><th scope=col>X620.356_2.913</th><th scope=col>X682.363_3.329</th><th scope=col>X682.364_3.313</th><th scope=col>X764.524_3.729</th><th scope=col>X790.38_2.768</th><th scope=col>X792.329_2.764</th><th scope=col>X795.335_2.768</th><th scope=col>X811.309_2.773</th></tr></thead>\n",
       "<tbody>\n",
       "\t<tr><td>X511_Group1C_142dpi_LV_bottom_161_G_A1_P132.mzXML</td><td>511                                              </td><td>Group1C                                          </td><td>142dpi                                           </td><td>LV_bottom                                        </td><td>A1                                               </td><td>P132                                             </td><td>0.001681762                                      </td><td>0.000000000                                      </td><td>0                                                </td><td>...                                              </td><td>0.000000000                                      </td><td>0.001281931                                      </td><td>0.000659514                                      </td><td>0.000320160                                      </td><td>0                                                </td><td>0                                                </td><td>0.000370969                                      </td><td>0.00e+00                                         </td><td>0.000245626                                      </td><td>0.000038000                                      </td></tr>\n",
       "\t<tr><td>X512_Group1C_142dpi_LV_bottom_162_G_A2_P132.mzXML</td><td>512                                              </td><td>Group1C                                          </td><td>142dpi                                           </td><td>LV_bottom                                        </td><td>A2                                               </td><td>P132                                             </td><td>0.001668227                                      </td><td>0.000020400                                      </td><td>0                                                </td><td>...                                              </td><td>0.000050000                                      </td><td>0.000671298                                      </td><td>0.000483435                                      </td><td>0.000179208                                      </td><td>0                                                </td><td>0                                                </td><td>0.000586134                                      </td><td>0.00e+00                                         </td><td>0.000211682                                      </td><td>0.000020900                                      </td></tr>\n",
       "\t<tr><td>X513_Group1C_142dpi_LV_bottom_163_G_A3_P132.mzXML</td><td>513                                              </td><td>Group1C                                          </td><td>142dpi                                           </td><td>LV_bottom                                        </td><td>A3                                               </td><td>P132                                             </td><td>0.002195508                                      </td><td>0.000000000                                      </td><td>0                                                </td><td>...                                              </td><td>0.000082900                                      </td><td>0.000706708                                      </td><td>0.000317234                                      </td><td>0.000099800                                      </td><td>0                                                </td><td>0                                                </td><td>0.001133874                                      </td><td>0.00e+00                                         </td><td>0.000741259                                      </td><td>0.000095300                                      </td></tr>\n",
       "\t<tr><td>X514_Group1C_142dpi_LV_bottom_164_G_A4_P132.mzXML</td><td>514                                              </td><td>Group1C                                          </td><td>142dpi                                           </td><td>LV_bottom                                        </td><td>A4                                               </td><td>P132                                             </td><td>0.003006615                                      </td><td>0.000063800                                      </td><td>0                                                </td><td>...                                              </td><td>0.000099100                                      </td><td>0.000930076                                      </td><td>0.000245202                                      </td><td>0.000234970                                      </td><td>0                                                </td><td>0                                                </td><td>0.001150258                                      </td><td>0.00e+00                                         </td><td>0.000713691                                      </td><td>0.000174109                                      </td></tr>\n",
       "\t<tr><td>X515_Group1C_142dpi_LV_bottom_165_G_A5_P132.mzXML</td><td>515                                              </td><td>Group1C                                          </td><td>142dpi                                           </td><td>LV_bottom                                        </td><td>A5                                               </td><td>P132                                             </td><td>0.002858430                                      </td><td>0.000000000                                      </td><td>0                                                </td><td>...                                              </td><td>0.000178807                                      </td><td>0.000744165                                      </td><td>0.000302164                                      </td><td>0.000251297                                      </td><td>0                                                </td><td>0                                                </td><td>0.001161454                                      </td><td>4.09e-05                                         </td><td>0.000765030                                      </td><td>0.000136971                                      </td></tr>\n",
       "\t<tr><td>X531_Group1C_142dpi_LV_bottom_166_G_A6_P132.mzXML</td><td>531                                              </td><td>Group1C                                          </td><td>142dpi                                           </td><td>LV_bottom                                        </td><td>A6                                               </td><td>P132                                             </td><td>0.003596194                                      </td><td>0.000107639                                      </td><td>0                                                </td><td>...                                              </td><td>0.000280413                                      </td><td>0.000626765                                      </td><td>0.000345920                                      </td><td>0.000112422                                      </td><td>0                                                </td><td>0                                                </td><td>0.001883720                                      </td><td>8.53e-05                                         </td><td>0.001150782                                      </td><td>0.000161828                                      </td></tr>\n",
       "</tbody>\n",
       "</table>\n"
      ],
      "text/latex": [
       "\\begin{tabular}{r|llllllllllllllllllllllllllllllllllllllllllllllllllllllllllllll}\n",
       " filename & MouseID & Treatmentgroup & DPI & organ & well\\_position & plate & X105.07\\_2.767 & X119.049\\_2.765 & X128.018\\_0.344 & ... & X599.241\\_2.765 & X604.362\\_2.948 & X620.356\\_2.913 & X682.363\\_3.329 & X682.364\\_3.313 & X764.524\\_3.729 & X790.38\\_2.768 & X792.329\\_2.764 & X795.335\\_2.768 & X811.309\\_2.773\\\\\n",
       "\\hline\n",
       "\t X511\\_Group1C\\_142dpi\\_LV\\_bottom\\_161\\_G\\_A1\\_P132.mzXML & 511                                                               & Group1C                                                           & 142dpi                                                            & LV\\_bottom                                                       & A1                                                                & P132                                                              & 0.001681762                                                       & 0.000000000                                                       & 0                                                                 & ...                                                               & 0.000000000                                                       & 0.001281931                                                       & 0.000659514                                                       & 0.000320160                                                       & 0                                                                 & 0                                                                 & 0.000370969                                                       & 0.00e+00                                                          & 0.000245626                                                       & 0.000038000                                                      \\\\\n",
       "\t X512\\_Group1C\\_142dpi\\_LV\\_bottom\\_162\\_G\\_A2\\_P132.mzXML & 512                                                               & Group1C                                                           & 142dpi                                                            & LV\\_bottom                                                       & A2                                                                & P132                                                              & 0.001668227                                                       & 0.000020400                                                       & 0                                                                 & ...                                                               & 0.000050000                                                       & 0.000671298                                                       & 0.000483435                                                       & 0.000179208                                                       & 0                                                                 & 0                                                                 & 0.000586134                                                       & 0.00e+00                                                          & 0.000211682                                                       & 0.000020900                                                      \\\\\n",
       "\t X513\\_Group1C\\_142dpi\\_LV\\_bottom\\_163\\_G\\_A3\\_P132.mzXML & 513                                                               & Group1C                                                           & 142dpi                                                            & LV\\_bottom                                                       & A3                                                                & P132                                                              & 0.002195508                                                       & 0.000000000                                                       & 0                                                                 & ...                                                               & 0.000082900                                                       & 0.000706708                                                       & 0.000317234                                                       & 0.000099800                                                       & 0                                                                 & 0                                                                 & 0.001133874                                                       & 0.00e+00                                                          & 0.000741259                                                       & 0.000095300                                                      \\\\\n",
       "\t X514\\_Group1C\\_142dpi\\_LV\\_bottom\\_164\\_G\\_A4\\_P132.mzXML & 514                                                               & Group1C                                                           & 142dpi                                                            & LV\\_bottom                                                       & A4                                                                & P132                                                              & 0.003006615                                                       & 0.000063800                                                       & 0                                                                 & ...                                                               & 0.000099100                                                       & 0.000930076                                                       & 0.000245202                                                       & 0.000234970                                                       & 0                                                                 & 0                                                                 & 0.001150258                                                       & 0.00e+00                                                          & 0.000713691                                                       & 0.000174109                                                      \\\\\n",
       "\t X515\\_Group1C\\_142dpi\\_LV\\_bottom\\_165\\_G\\_A5\\_P132.mzXML & 515                                                               & Group1C                                                           & 142dpi                                                            & LV\\_bottom                                                       & A5                                                                & P132                                                              & 0.002858430                                                       & 0.000000000                                                       & 0                                                                 & ...                                                               & 0.000178807                                                       & 0.000744165                                                       & 0.000302164                                                       & 0.000251297                                                       & 0                                                                 & 0                                                                 & 0.001161454                                                       & 4.09e-05                                                          & 0.000765030                                                       & 0.000136971                                                      \\\\\n",
       "\t X531\\_Group1C\\_142dpi\\_LV\\_bottom\\_166\\_G\\_A6\\_P132.mzXML & 531                                                               & Group1C                                                           & 142dpi                                                            & LV\\_bottom                                                       & A6                                                                & P132                                                              & 0.003596194                                                       & 0.000107639                                                       & 0                                                                 & ...                                                               & 0.000280413                                                       & 0.000626765                                                       & 0.000345920                                                       & 0.000112422                                                       & 0                                                                 & 0                                                                 & 0.001883720                                                       & 8.53e-05                                                          & 0.001150782                                                       & 0.000161828                                                      \\\\\n",
       "\\end{tabular}\n"
      ],
      "text/markdown": [
       "\n",
       "| filename | MouseID | Treatmentgroup | DPI | organ | well_position | plate | X105.07_2.767 | X119.049_2.765 | X128.018_0.344 | ... | X599.241_2.765 | X604.362_2.948 | X620.356_2.913 | X682.363_3.329 | X682.364_3.313 | X764.524_3.729 | X790.38_2.768 | X792.329_2.764 | X795.335_2.768 | X811.309_2.773 |\n",
       "|---|---|---|---|---|---|---|---|---|---|---|---|---|---|---|---|---|---|---|---|---|\n",
       "| X511_Group1C_142dpi_LV_bottom_161_G_A1_P132.mzXML | 511                                               | Group1C                                           | 142dpi                                            | LV_bottom                                         | A1                                                | P132                                              | 0.001681762                                       | 0.000000000                                       | 0                                                 | ...                                               | 0.000000000                                       | 0.001281931                                       | 0.000659514                                       | 0.000320160                                       | 0                                                 | 0                                                 | 0.000370969                                       | 0.00e+00                                          | 0.000245626                                       | 0.000038000                                       |\n",
       "| X512_Group1C_142dpi_LV_bottom_162_G_A2_P132.mzXML | 512                                               | Group1C                                           | 142dpi                                            | LV_bottom                                         | A2                                                | P132                                              | 0.001668227                                       | 0.000020400                                       | 0                                                 | ...                                               | 0.000050000                                       | 0.000671298                                       | 0.000483435                                       | 0.000179208                                       | 0                                                 | 0                                                 | 0.000586134                                       | 0.00e+00                                          | 0.000211682                                       | 0.000020900                                       |\n",
       "| X513_Group1C_142dpi_LV_bottom_163_G_A3_P132.mzXML | 513                                               | Group1C                                           | 142dpi                                            | LV_bottom                                         | A3                                                | P132                                              | 0.002195508                                       | 0.000000000                                       | 0                                                 | ...                                               | 0.000082900                                       | 0.000706708                                       | 0.000317234                                       | 0.000099800                                       | 0                                                 | 0                                                 | 0.001133874                                       | 0.00e+00                                          | 0.000741259                                       | 0.000095300                                       |\n",
       "| X514_Group1C_142dpi_LV_bottom_164_G_A4_P132.mzXML | 514                                               | Group1C                                           | 142dpi                                            | LV_bottom                                         | A4                                                | P132                                              | 0.003006615                                       | 0.000063800                                       | 0                                                 | ...                                               | 0.000099100                                       | 0.000930076                                       | 0.000245202                                       | 0.000234970                                       | 0                                                 | 0                                                 | 0.001150258                                       | 0.00e+00                                          | 0.000713691                                       | 0.000174109                                       |\n",
       "| X515_Group1C_142dpi_LV_bottom_165_G_A5_P132.mzXML | 515                                               | Group1C                                           | 142dpi                                            | LV_bottom                                         | A5                                                | P132                                              | 0.002858430                                       | 0.000000000                                       | 0                                                 | ...                                               | 0.000178807                                       | 0.000744165                                       | 0.000302164                                       | 0.000251297                                       | 0                                                 | 0                                                 | 0.001161454                                       | 4.09e-05                                          | 0.000765030                                       | 0.000136971                                       |\n",
       "| X531_Group1C_142dpi_LV_bottom_166_G_A6_P132.mzXML | 531                                               | Group1C                                           | 142dpi                                            | LV_bottom                                         | A6                                                | P132                                              | 0.003596194                                       | 0.000107639                                       | 0                                                 | ...                                               | 0.000280413                                       | 0.000626765                                       | 0.000345920                                       | 0.000112422                                       | 0                                                 | 0                                                 | 0.001883720                                       | 8.53e-05                                          | 0.001150782                                       | 0.000161828                                       |\n",
       "\n"
      ],
      "text/plain": [
       "  filename                                          MouseID Treatmentgroup\n",
       "1 X511_Group1C_142dpi_LV_bottom_161_G_A1_P132.mzXML 511     Group1C       \n",
       "2 X512_Group1C_142dpi_LV_bottom_162_G_A2_P132.mzXML 512     Group1C       \n",
       "3 X513_Group1C_142dpi_LV_bottom_163_G_A3_P132.mzXML 513     Group1C       \n",
       "4 X514_Group1C_142dpi_LV_bottom_164_G_A4_P132.mzXML 514     Group1C       \n",
       "5 X515_Group1C_142dpi_LV_bottom_165_G_A5_P132.mzXML 515     Group1C       \n",
       "6 X531_Group1C_142dpi_LV_bottom_166_G_A6_P132.mzXML 531     Group1C       \n",
       "  DPI    organ     well_position plate X105.07_2.767 X119.049_2.765\n",
       "1 142dpi LV_bottom A1            P132  0.001681762   0.000000000   \n",
       "2 142dpi LV_bottom A2            P132  0.001668227   0.000020400   \n",
       "3 142dpi LV_bottom A3            P132  0.002195508   0.000000000   \n",
       "4 142dpi LV_bottom A4            P132  0.003006615   0.000063800   \n",
       "5 142dpi LV_bottom A5            P132  0.002858430   0.000000000   \n",
       "6 142dpi LV_bottom A6            P132  0.003596194   0.000107639   \n",
       "  X128.018_0.344 ... X599.241_2.765 X604.362_2.948 X620.356_2.913\n",
       "1 0              ... 0.000000000    0.001281931    0.000659514   \n",
       "2 0              ... 0.000050000    0.000671298    0.000483435   \n",
       "3 0              ... 0.000082900    0.000706708    0.000317234   \n",
       "4 0              ... 0.000099100    0.000930076    0.000245202   \n",
       "5 0              ... 0.000178807    0.000744165    0.000302164   \n",
       "6 0              ... 0.000280413    0.000626765    0.000345920   \n",
       "  X682.363_3.329 X682.364_3.313 X764.524_3.729 X790.38_2.768 X792.329_2.764\n",
       "1 0.000320160    0              0              0.000370969   0.00e+00      \n",
       "2 0.000179208    0              0              0.000586134   0.00e+00      \n",
       "3 0.000099800    0              0              0.001133874   0.00e+00      \n",
       "4 0.000234970    0              0              0.001150258   0.00e+00      \n",
       "5 0.000251297    0              0              0.001161454   4.09e-05      \n",
       "6 0.000112422    0              0              0.001883720   8.53e-05      \n",
       "  X795.335_2.768 X811.309_2.773\n",
       "1 0.000245626    0.000038000   \n",
       "2 0.000211682    0.000020900   \n",
       "3 0.000741259    0.000095300   \n",
       "4 0.000713691    0.000174109   \n",
       "5 0.000765030    0.000136971   \n",
       "6 0.001150782    0.000161828   "
      ]
     },
     "metadata": {},
     "output_type": "display_data"
    },
    {
     "data": {
      "text/html": [
       "<ol class=list-inline>\n",
       "\t<li>30</li>\n",
       "\t<li>62</li>\n",
       "</ol>\n"
      ],
      "text/latex": [
       "\\begin{enumerate*}\n",
       "\\item 30\n",
       "\\item 62\n",
       "\\end{enumerate*}\n"
      ],
      "text/markdown": [
       "1. 30\n",
       "2. 62\n",
       "\n",
       "\n"
      ],
      "text/plain": [
       "[1] 30 62"
      ]
     },
     "metadata": {},
     "output_type": "display_data"
    }
   ],
   "source": [
    "# choose the lung posistion\n",
    "features_pos<-droplevels(subset(a, a$Treatmentgroup==c(\"Group15\")|a$Treatmentgroup==c(\"Group1C\")))\n",
    "head(features_pos)\n",
    "dim(features_pos)"
   ]
  },
  {
   "cell_type": "code",
   "execution_count": 4,
   "metadata": {
    "scrolled": false
   },
   "outputs": [
    {
     "data": {
      "text/html": [
       "<table>\n",
       "<thead><tr><th scope=col>X105.07_2.767</th><th scope=col>X119.049_2.765</th><th scope=col>X128.018_0.344</th><th scope=col>X136.062_0.301</th><th scope=col>X136.097_0.551</th><th scope=col>X137.046_0.31</th><th scope=col>X137.046_0.42</th><th scope=col>X203.007_0.309</th><th scope=col>X249.112_2.768</th><th scope=col>X251.037_0.323</th><th scope=col>...</th><th scope=col>X599.241_2.765</th><th scope=col>X604.362_2.948</th><th scope=col>X620.356_2.913</th><th scope=col>X682.363_3.329</th><th scope=col>X682.364_3.313</th><th scope=col>X764.524_3.729</th><th scope=col>X790.38_2.768</th><th scope=col>X792.329_2.764</th><th scope=col>X795.335_2.768</th><th scope=col>X811.309_2.773</th></tr></thead>\n",
       "<tbody>\n",
       "\t<tr><td>0.001681762</td><td>0.000000000</td><td>0          </td><td>0.001018126</td><td>0          </td><td>0.016982498</td><td>0.015622250</td><td>0.000289195</td><td>0.00e+00   </td><td>0.000469904</td><td>...        </td><td>0.000000000</td><td>0.001281931</td><td>0.000659514</td><td>0.000320160</td><td>0          </td><td>0          </td><td>0.000370969</td><td>0.00e+00   </td><td>0.000245626</td><td>0.000038000</td></tr>\n",
       "\t<tr><td>0.001668227</td><td>0.000020400</td><td>0          </td><td>0.000295572</td><td>0          </td><td>0.005836288</td><td>0.007990455</td><td>0.000021600</td><td>0.00e+00   </td><td>0.000000000</td><td>...        </td><td>0.000050000</td><td>0.000671298</td><td>0.000483435</td><td>0.000179208</td><td>0          </td><td>0          </td><td>0.000586134</td><td>0.00e+00   </td><td>0.000211682</td><td>0.000020900</td></tr>\n",
       "\t<tr><td>0.002195508</td><td>0.000000000</td><td>0          </td><td>0.000332938</td><td>0          </td><td>0.011181699</td><td>0.010145193</td><td>0.000217687</td><td>0.00e+00   </td><td>0.000233476</td><td>...        </td><td>0.000082900</td><td>0.000706708</td><td>0.000317234</td><td>0.000099800</td><td>0          </td><td>0          </td><td>0.001133874</td><td>0.00e+00   </td><td>0.000741259</td><td>0.000095300</td></tr>\n",
       "\t<tr><td>0.003006615</td><td>0.000063800</td><td>0          </td><td>0.001047760</td><td>0          </td><td>0.013286807</td><td>0.020423720</td><td>0.000315510</td><td>0.00e+00   </td><td>0.000569435</td><td>...        </td><td>0.000099100</td><td>0.000930076</td><td>0.000245202</td><td>0.000234970</td><td>0          </td><td>0          </td><td>0.001150258</td><td>0.00e+00   </td><td>0.000713691</td><td>0.000174109</td></tr>\n",
       "\t<tr><td>0.002858430</td><td>0.000000000</td><td>0          </td><td>0.000740688</td><td>0          </td><td>0.015404920</td><td>0.010467000</td><td>0.000335517</td><td>3.82e-05   </td><td>0.000365128</td><td>...        </td><td>0.000178807</td><td>0.000744165</td><td>0.000302164</td><td>0.000251297</td><td>0          </td><td>0          </td><td>0.001161454</td><td>4.09e-05   </td><td>0.000765030</td><td>0.000136971</td></tr>\n",
       "\t<tr><td>0.003596194</td><td>0.000107639</td><td>0          </td><td>0.000763763</td><td>0          </td><td>0.012398305</td><td>0.009521351</td><td>0.000207325</td><td>3.66e-05   </td><td>0.000235976</td><td>...        </td><td>0.000280413</td><td>0.000626765</td><td>0.000345920</td><td>0.000112422</td><td>0          </td><td>0          </td><td>0.001883720</td><td>8.53e-05   </td><td>0.001150782</td><td>0.000161828</td></tr>\n",
       "</tbody>\n",
       "</table>\n"
      ],
      "text/latex": [
       "\\begin{tabular}{r|lllllllllllllllllllllllllllllllllllllllllllllllllllllll}\n",
       " X105.07\\_2.767 & X119.049\\_2.765 & X128.018\\_0.344 & X136.062\\_0.301 & X136.097\\_0.551 & X137.046\\_0.31 & X137.046\\_0.42 & X203.007\\_0.309 & X249.112\\_2.768 & X251.037\\_0.323 & ... & X599.241\\_2.765 & X604.362\\_2.948 & X620.356\\_2.913 & X682.363\\_3.329 & X682.364\\_3.313 & X764.524\\_3.729 & X790.38\\_2.768 & X792.329\\_2.764 & X795.335\\_2.768 & X811.309\\_2.773\\\\\n",
       "\\hline\n",
       "\t 0.001681762 & 0.000000000 & 0           & 0.001018126 & 0           & 0.016982498 & 0.015622250 & 0.000289195 & 0.00e+00    & 0.000469904 & ...         & 0.000000000 & 0.001281931 & 0.000659514 & 0.000320160 & 0           & 0           & 0.000370969 & 0.00e+00    & 0.000245626 & 0.000038000\\\\\n",
       "\t 0.001668227 & 0.000020400 & 0           & 0.000295572 & 0           & 0.005836288 & 0.007990455 & 0.000021600 & 0.00e+00    & 0.000000000 & ...         & 0.000050000 & 0.000671298 & 0.000483435 & 0.000179208 & 0           & 0           & 0.000586134 & 0.00e+00    & 0.000211682 & 0.000020900\\\\\n",
       "\t 0.002195508 & 0.000000000 & 0           & 0.000332938 & 0           & 0.011181699 & 0.010145193 & 0.000217687 & 0.00e+00    & 0.000233476 & ...         & 0.000082900 & 0.000706708 & 0.000317234 & 0.000099800 & 0           & 0           & 0.001133874 & 0.00e+00    & 0.000741259 & 0.000095300\\\\\n",
       "\t 0.003006615 & 0.000063800 & 0           & 0.001047760 & 0           & 0.013286807 & 0.020423720 & 0.000315510 & 0.00e+00    & 0.000569435 & ...         & 0.000099100 & 0.000930076 & 0.000245202 & 0.000234970 & 0           & 0           & 0.001150258 & 0.00e+00    & 0.000713691 & 0.000174109\\\\\n",
       "\t 0.002858430 & 0.000000000 & 0           & 0.000740688 & 0           & 0.015404920 & 0.010467000 & 0.000335517 & 3.82e-05    & 0.000365128 & ...         & 0.000178807 & 0.000744165 & 0.000302164 & 0.000251297 & 0           & 0           & 0.001161454 & 4.09e-05    & 0.000765030 & 0.000136971\\\\\n",
       "\t 0.003596194 & 0.000107639 & 0           & 0.000763763 & 0           & 0.012398305 & 0.009521351 & 0.000207325 & 3.66e-05    & 0.000235976 & ...         & 0.000280413 & 0.000626765 & 0.000345920 & 0.000112422 & 0           & 0           & 0.001883720 & 8.53e-05    & 0.001150782 & 0.000161828\\\\\n",
       "\\end{tabular}\n"
      ],
      "text/markdown": [
       "\n",
       "| X105.07_2.767 | X119.049_2.765 | X128.018_0.344 | X136.062_0.301 | X136.097_0.551 | X137.046_0.31 | X137.046_0.42 | X203.007_0.309 | X249.112_2.768 | X251.037_0.323 | ... | X599.241_2.765 | X604.362_2.948 | X620.356_2.913 | X682.363_3.329 | X682.364_3.313 | X764.524_3.729 | X790.38_2.768 | X792.329_2.764 | X795.335_2.768 | X811.309_2.773 |\n",
       "|---|---|---|---|---|---|---|---|---|---|---|---|---|---|---|---|---|---|---|---|---|\n",
       "| 0.001681762 | 0.000000000 | 0           | 0.001018126 | 0           | 0.016982498 | 0.015622250 | 0.000289195 | 0.00e+00    | 0.000469904 | ...         | 0.000000000 | 0.001281931 | 0.000659514 | 0.000320160 | 0           | 0           | 0.000370969 | 0.00e+00    | 0.000245626 | 0.000038000 |\n",
       "| 0.001668227 | 0.000020400 | 0           | 0.000295572 | 0           | 0.005836288 | 0.007990455 | 0.000021600 | 0.00e+00    | 0.000000000 | ...         | 0.000050000 | 0.000671298 | 0.000483435 | 0.000179208 | 0           | 0           | 0.000586134 | 0.00e+00    | 0.000211682 | 0.000020900 |\n",
       "| 0.002195508 | 0.000000000 | 0           | 0.000332938 | 0           | 0.011181699 | 0.010145193 | 0.000217687 | 0.00e+00    | 0.000233476 | ...         | 0.000082900 | 0.000706708 | 0.000317234 | 0.000099800 | 0           | 0           | 0.001133874 | 0.00e+00    | 0.000741259 | 0.000095300 |\n",
       "| 0.003006615 | 0.000063800 | 0           | 0.001047760 | 0           | 0.013286807 | 0.020423720 | 0.000315510 | 0.00e+00    | 0.000569435 | ...         | 0.000099100 | 0.000930076 | 0.000245202 | 0.000234970 | 0           | 0           | 0.001150258 | 0.00e+00    | 0.000713691 | 0.000174109 |\n",
       "| 0.002858430 | 0.000000000 | 0           | 0.000740688 | 0           | 0.015404920 | 0.010467000 | 0.000335517 | 3.82e-05    | 0.000365128 | ...         | 0.000178807 | 0.000744165 | 0.000302164 | 0.000251297 | 0           | 0           | 0.001161454 | 4.09e-05    | 0.000765030 | 0.000136971 |\n",
       "| 0.003596194 | 0.000107639 | 0           | 0.000763763 | 0           | 0.012398305 | 0.009521351 | 0.000207325 | 3.66e-05    | 0.000235976 | ...         | 0.000280413 | 0.000626765 | 0.000345920 | 0.000112422 | 0           | 0           | 0.001883720 | 8.53e-05    | 0.001150782 | 0.000161828 |\n",
       "\n"
      ],
      "text/plain": [
       "  X105.07_2.767 X119.049_2.765 X128.018_0.344 X136.062_0.301 X136.097_0.551\n",
       "1 0.001681762   0.000000000    0              0.001018126    0             \n",
       "2 0.001668227   0.000020400    0              0.000295572    0             \n",
       "3 0.002195508   0.000000000    0              0.000332938    0             \n",
       "4 0.003006615   0.000063800    0              0.001047760    0             \n",
       "5 0.002858430   0.000000000    0              0.000740688    0             \n",
       "6 0.003596194   0.000107639    0              0.000763763    0             \n",
       "  X137.046_0.31 X137.046_0.42 X203.007_0.309 X249.112_2.768 X251.037_0.323 ...\n",
       "1 0.016982498   0.015622250   0.000289195    0.00e+00       0.000469904    ...\n",
       "2 0.005836288   0.007990455   0.000021600    0.00e+00       0.000000000    ...\n",
       "3 0.011181699   0.010145193   0.000217687    0.00e+00       0.000233476    ...\n",
       "4 0.013286807   0.020423720   0.000315510    0.00e+00       0.000569435    ...\n",
       "5 0.015404920   0.010467000   0.000335517    3.82e-05       0.000365128    ...\n",
       "6 0.012398305   0.009521351   0.000207325    3.66e-05       0.000235976    ...\n",
       "  X599.241_2.765 X604.362_2.948 X620.356_2.913 X682.363_3.329 X682.364_3.313\n",
       "1 0.000000000    0.001281931    0.000659514    0.000320160    0             \n",
       "2 0.000050000    0.000671298    0.000483435    0.000179208    0             \n",
       "3 0.000082900    0.000706708    0.000317234    0.000099800    0             \n",
       "4 0.000099100    0.000930076    0.000245202    0.000234970    0             \n",
       "5 0.000178807    0.000744165    0.000302164    0.000251297    0             \n",
       "6 0.000280413    0.000626765    0.000345920    0.000112422    0             \n",
       "  X764.524_3.729 X790.38_2.768 X792.329_2.764 X795.335_2.768 X811.309_2.773\n",
       "1 0              0.000370969   0.00e+00       0.000245626    0.000038000   \n",
       "2 0              0.000586134   0.00e+00       0.000211682    0.000020900   \n",
       "3 0              0.001133874   0.00e+00       0.000741259    0.000095300   \n",
       "4 0              0.001150258   0.00e+00       0.000713691    0.000174109   \n",
       "5 0              0.001161454   4.09e-05       0.000765030    0.000136971   \n",
       "6 0              0.001883720   8.53e-05       0.001150782    0.000161828   "
      ]
     },
     "metadata": {},
     "output_type": "display_data"
    },
    {
     "data": {
      "text/html": [
       "<dl class=dl-horizontal>\n",
       "\t<dt>X105.07_2.767</dt>\n",
       "\t\t<dd>1</dd>\n",
       "\t<dt>X119.049_2.765</dt>\n",
       "\t\t<dd>2</dd>\n",
       "\t<dt>X128.018_0.344</dt>\n",
       "\t\t<dd>3</dd>\n",
       "\t<dt>X136.062_0.301</dt>\n",
       "\t\t<dd>4</dd>\n",
       "\t<dt>X136.097_0.551</dt>\n",
       "\t\t<dd>5</dd>\n",
       "\t<dt>X137.046_0.31</dt>\n",
       "\t\t<dd>6</dd>\n",
       "</dl>\n"
      ],
      "text/latex": [
       "\\begin{description*}\n",
       "\\item[X105.07\\textbackslash{}\\_2.767] 1\n",
       "\\item[X119.049\\textbackslash{}\\_2.765] 2\n",
       "\\item[X128.018\\textbackslash{}\\_0.344] 3\n",
       "\\item[X136.062\\textbackslash{}\\_0.301] 4\n",
       "\\item[X136.097\\textbackslash{}\\_0.551] 5\n",
       "\\item[X137.046\\textbackslash{}\\_0.31] 6\n",
       "\\end{description*}\n"
      ],
      "text/markdown": [
       "X105.07_2.767\n",
       ":   1X119.049_2.765\n",
       ":   2X128.018_0.344\n",
       ":   3X136.062_0.301\n",
       ":   4X136.097_0.551\n",
       ":   5X137.046_0.31\n",
       ":   6\n",
       "\n"
      ],
      "text/plain": [
       " X105.07_2.767 X119.049_2.765 X128.018_0.344 X136.062_0.301 X136.097_0.551 \n",
       "             1              2              3              4              5 \n",
       " X137.046_0.31 \n",
       "             6 "
      ]
     },
     "metadata": {},
     "output_type": "display_data"
    },
    {
     "data": {
      "text/html": [
       "<table>\n",
       "<thead><tr><th></th><th scope=col>X105.07_2.767</th><th scope=col>X119.049_2.765</th><th scope=col>X128.018_0.344</th><th scope=col>X136.062_0.301</th><th scope=col>X136.097_0.551</th><th scope=col>X137.046_0.31</th><th scope=col>X137.046_0.42</th><th scope=col>X203.007_0.309</th><th scope=col>X249.112_2.768</th><th scope=col>X251.037_0.323</th><th scope=col>...</th><th scope=col>X599.241_2.765</th><th scope=col>X604.362_2.948</th><th scope=col>X620.356_2.913</th><th scope=col>X682.363_3.329</th><th scope=col>X682.364_3.313</th><th scope=col>X764.524_3.729</th><th scope=col>X790.38_2.768</th><th scope=col>X792.329_2.764</th><th scope=col>X795.335_2.768</th><th scope=col>X811.309_2.773</th></tr></thead>\n",
       "<tbody>\n",
       "\t<tr><th scope=row>1</th><td>0.001681762</td><td>0.000000000</td><td>0.000000000</td><td>0.001018126</td><td>0.000000000</td><td>0.016982498</td><td>0.015622250</td><td>0.000289195</td><td>0.000000000</td><td>0.000469904</td><td>...        </td><td>0.000000000</td><td>0.001281931</td><td>0.000659514</td><td>0.000320160</td><td>0.000000000</td><td>0.000000000</td><td>0.000370969</td><td>0.000000000</td><td>0.000245626</td><td>0.000038000</td></tr>\n",
       "\t<tr><th scope=row>2</th><td>0.001668227</td><td>0.000020400</td><td>0.000000000</td><td>0.000295572</td><td>0.000000000</td><td>0.005836288</td><td>0.007990455</td><td>0.000021600</td><td>0.000000000</td><td>0.000000000</td><td>...        </td><td>0.000050000</td><td>0.000671298</td><td>0.000483435</td><td>0.000179208</td><td>0.000000000</td><td>0.000000000</td><td>0.000586134</td><td>0.000000000</td><td>0.000211682</td><td>0.000020900</td></tr>\n",
       "\t<tr><th scope=row>3</th><td>0.002195508</td><td>0.000000000</td><td>0.000000000</td><td>0.000332938</td><td>0.000000000</td><td>0.011181699</td><td>0.010145193</td><td>0.000217687</td><td>0.000000000</td><td>0.000233476</td><td>...        </td><td>0.000082900</td><td>0.000706708</td><td>0.000317234</td><td>0.000099800</td><td>0.000000000</td><td>0.000000000</td><td>0.001133874</td><td>0.000000000</td><td>0.000741259</td><td>0.000095300</td></tr>\n",
       "\t<tr><th scope=row>4</th><td>0.003006615</td><td>0.000063800</td><td>0.000000000</td><td>0.001047760</td><td>0.000000000</td><td>0.013286807</td><td>0.020423720</td><td>0.000315510</td><td>0.000000000</td><td>0.000569435</td><td>...        </td><td>0.000099100</td><td>0.000930076</td><td>0.000245202</td><td>0.000234970</td><td>0.000000000</td><td>0.000000000</td><td>0.001150258</td><td>0.000000000</td><td>0.000713691</td><td>0.000174109</td></tr>\n",
       "\t<tr><th scope=row>5</th><td>0.002858430</td><td>0.000000000</td><td>0.000000000</td><td>0.000740688</td><td>0.000000000</td><td>0.015404920</td><td>0.010467000</td><td>0.000335517</td><td>0.000038200</td><td>0.000365128</td><td>...        </td><td>0.000178807</td><td>0.000744165</td><td>0.000302164</td><td>0.000251297</td><td>0.000000000</td><td>0.000000000</td><td>0.001161454</td><td>0.000040900</td><td>0.000765030</td><td>0.000136971</td></tr>\n",
       "\t<tr><th scope=row>6</th><td>0.003596194</td><td>0.000107639</td><td>0.000000000</td><td>0.000763763</td><td>0.000000000</td><td>0.012398305</td><td>0.009521351</td><td>0.000207325</td><td>0.000036600</td><td>0.000235976</td><td>...        </td><td>0.000280413</td><td>0.000626765</td><td>0.000345920</td><td>0.000112422</td><td>0.000000000</td><td>0.000000000</td><td>0.001883720</td><td>0.000085300</td><td>0.001150782</td><td>0.000161828</td></tr>\n",
       "\t<tr><th scope=row>7</th><td>0.004184102</td><td>0.000000000</td><td>0.000000000</td><td>0.000943397</td><td>0.000000000</td><td>0.014920666</td><td>0.015749592</td><td>0.000251807</td><td>0.000073200</td><td>0.000418410</td><td>...        </td><td>0.000357279</td><td>0.000994711</td><td>0.000442094</td><td>0.000321391</td><td>0.000000000</td><td>0.000000000</td><td>0.002245995</td><td>0.000039900</td><td>0.001480225</td><td>0.000288184</td></tr>\n",
       "\t<tr><th scope=row>8</th><td>0.003180510</td><td>0.000081300</td><td>0.000000000</td><td>0.001072193</td><td>0.000000000</td><td>0.015017254</td><td>0.010721926</td><td>0.000180750</td><td>0.000030800</td><td>0.000459043</td><td>...        </td><td>0.000230648</td><td>0.000757420</td><td>0.000308954</td><td>0.000298353</td><td>0.000000000</td><td>0.000000000</td><td>0.001603371</td><td>0.000031000</td><td>0.000891854</td><td>0.000151068</td></tr>\n",
       "\t<tr><th scope=row>9</th><td>0.003522334</td><td>0.000105216</td><td>0.000000000</td><td>0.001145864</td><td>0.000000000</td><td>0.020190782</td><td>0.011237570</td><td>0.000206309</td><td>0.000028000</td><td>0.000515823</td><td>...        </td><td>0.000235445</td><td>0.000637410</td><td>0.000281648</td><td>0.000281675</td><td>0.000000000</td><td>0.000000000</td><td>0.001661687</td><td>0.000000000</td><td>0.001230606</td><td>0.000146975</td></tr>\n",
       "\t<tr><th scope=row>10</th><td>0.004984568</td><td>0.000000000</td><td>0.000000000</td><td>0.001608456</td><td>0.000000000</td><td>0.017786343</td><td>0.012351627</td><td>0.000359090</td><td>0.000049700</td><td>0.000730118</td><td>...        </td><td>0.000417157</td><td>0.000675222</td><td>0.000168015</td><td>0.000403194</td><td>0.000000000</td><td>0.000000000</td><td>0.002514242</td><td>0.000060100</td><td>0.001690800</td><td>0.000142444</td></tr>\n",
       "\t<tr><th scope=row>11</th><td>0.002516160</td><td>0.000031300</td><td>0.000000000</td><td>0.001240799</td><td>0.000000000</td><td>0.019113140</td><td>0.010195979</td><td>0.000000000</td><td>0.000000000</td><td>0.000028600</td><td>...        </td><td>0.000127604</td><td>0.000739641</td><td>0.000276132</td><td>0.000228511</td><td>0.000000000</td><td>0.000072000</td><td>0.001175130</td><td>0.000000000</td><td>0.000812222</td><td>0.000120914</td></tr>\n",
       "\t<tr><th scope=row>12</th><td>0.002025665</td><td>0.000000000</td><td>0.000000000</td><td>0.001652943</td><td>0.000000000</td><td>0.017704314</td><td>0.018068934</td><td>0.000000000</td><td>0.000000000</td><td>0.000042500</td><td>...        </td><td>0.000063500</td><td>0.000765701</td><td>0.000361806</td><td>0.000277571</td><td>0.000000000</td><td>0.000114613</td><td>0.000700880</td><td>0.000000000</td><td>0.000498314</td><td>0.000092600</td></tr>\n",
       "\t<tr><th scope=row>13</th><td>0.001893397</td><td>0.000000000</td><td>0.000000000</td><td>0.001441242</td><td>0.000000000</td><td>0.021558078</td><td>0.014816133</td><td>0.000160445</td><td>0.000000000</td><td>0.000670157</td><td>...        </td><td>0.000000000</td><td>0.000904309</td><td>0.000536933</td><td>0.000000000</td><td>0.000243387</td><td>0.000029700</td><td>0.000637861</td><td>0.000000000</td><td>0.000440043</td><td>0.000081300</td></tr>\n",
       "\t<tr><th scope=row>14</th><td>0.003391941</td><td>0.000073100</td><td>0.000000000</td><td>0.000702238</td><td>0.000000000</td><td>0.014000589</td><td>0.006757382</td><td>0.000191529</td><td>0.000000000</td><td>0.000000000</td><td>...        </td><td>0.000256378</td><td>0.000640406</td><td>0.000140963</td><td>0.000309837</td><td>0.000000000</td><td>0.000037500</td><td>0.001488391</td><td>0.000034800</td><td>0.000993733</td><td>0.000129137</td></tr>\n",
       "\t<tr><th scope=row>15</th><td>0.002668096</td><td>0.000000000</td><td>0.000000000</td><td>0.000721540</td><td>0.000000000</td><td>0.014013916</td><td>0.012891520</td><td>0.000222743</td><td>0.000065400</td><td>0.000464993</td><td>...        </td><td>0.000192285</td><td>0.000567612</td><td>0.000327098</td><td>0.000000000</td><td>0.000081800</td><td>0.001577768</td><td>0.001651526</td><td>0.000035000</td><td>0.000929985</td><td>0.000135980</td></tr>\n",
       "\t<tr><th scope=row>26</th><td>0.005239874</td><td>0.000193567</td><td>0.000000000</td><td>0.000135214</td><td>0.000000000</td><td>0.013996443</td><td>0.007244390</td><td>0.000067600</td><td>0.000160405</td><td>0.000000000</td><td>...        </td><td>0.000481787</td><td>0.000611905</td><td>0.000393870</td><td>0.000000000</td><td>0.000071600</td><td>0.000812356</td><td>0.003150958</td><td>0.000176765</td><td>0.002022099</td><td>0.000231479</td></tr>\n",
       "\t<tr><th scope=row>27</th><td>0.004438980</td><td>0.000184756</td><td>0.000126690</td><td>0.000352842</td><td>0.000304468</td><td>0.010129979</td><td>0.009845429</td><td>0.000000000</td><td>0.000107326</td><td>0.000000000</td><td>...        </td><td>0.000395524</td><td>0.000520726</td><td>0.000315850</td><td>0.000000000</td><td>0.000190062</td><td>0.001266247</td><td>0.002259327</td><td>0.000075900</td><td>0.001573561</td><td>0.000242717</td></tr>\n",
       "\t<tr><th scope=row>28</th><td>0.003986130</td><td>0.000000000</td><td>0.000052200</td><td>0.000475764</td><td>0.000206789</td><td>0.009868887</td><td>0.014401504</td><td>0.000253538</td><td>0.000087700</td><td>0.000401828</td><td>...        </td><td>0.000304929</td><td>0.000739363</td><td>0.000427545</td><td>0.000000000</td><td>0.000074900</td><td>0.000000000</td><td>0.002587770</td><td>0.000097800</td><td>0.001202268</td><td>0.000195685</td></tr>\n",
       "\t<tr><th scope=row>29</th><td>0.004361477</td><td>0.000155738</td><td>0.000133498</td><td>0.000139805</td><td>0.000380764</td><td>0.013049817</td><td>0.007303744</td><td>0.000000000</td><td>0.000094900</td><td>0.000000000</td><td>...        </td><td>0.000294998</td><td>0.000799604</td><td>0.000253196</td><td>0.000000000</td><td>0.000206465</td><td>0.000488070</td><td>0.002506119</td><td>0.000045900</td><td>0.001502287</td><td>0.000176801</td></tr>\n",
       "\t<tr><th scope=row>30</th><td>0.004631478</td><td>0.000154865</td><td>0.000220112</td><td>0.000168725</td><td>0.000290793</td><td>0.012449184</td><td>0.008871832</td><td>0.000000000</td><td>0.000038200</td><td>0.000000000</td><td>...        </td><td>0.000403666</td><td>0.000701161</td><td>0.000185232</td><td>0.000000000</td><td>0.000299202</td><td>0.000329089</td><td>0.002537535</td><td>0.000000000</td><td>0.001612193</td><td>0.000269307</td></tr>\n",
       "\t<tr><th scope=row>41</th><td>0.005812134</td><td>0.000000000</td><td>0.000127465</td><td>0.000182777</td><td>0.000000000</td><td>0.014029290</td><td>0.006814226</td><td>0.000195991</td><td>0.000158885</td><td>0.000673406</td><td>...        </td><td>0.000529105</td><td>0.000541130</td><td>0.000176939</td><td>0.000000000</td><td>0.000194786</td><td>0.000000000</td><td>0.003579473</td><td>0.000171731</td><td>0.002228653</td><td>0.000166990</td></tr>\n",
       "\t<tr><th scope=row>42</th><td>0.007131967</td><td>0.000284709</td><td>0.000176959</td><td>0.000911307</td><td>0.000297728</td><td>0.016096454</td><td>0.012728580</td><td>0.000000000</td><td>0.000188164</td><td>0.000000000</td><td>...        </td><td>0.000713197</td><td>0.000619094</td><td>0.000189996</td><td>0.000000000</td><td>0.000148258</td><td>0.000000000</td><td>0.004700164</td><td>0.000248028</td><td>0.002917173</td><td>0.000161741</td></tr>\n",
       "\t<tr><th scope=row>43</th><td>0.005149477</td><td>0.000000000</td><td>0.000099600</td><td>0.000380732</td><td>0.000000000</td><td>0.011637008</td><td>0.011190990</td><td>0.000278428</td><td>0.000125821</td><td>0.000559550</td><td>...        </td><td>0.000514948</td><td>0.000620370</td><td>0.000330032</td><td>0.000000000</td><td>0.000309295</td><td>0.000904200</td><td>0.002842349</td><td>0.000149942</td><td>0.001897603</td><td>0.000200850</td></tr>\n",
       "\t<tr><th scope=row>44</th><td>0.005852056</td><td>0.000205275</td><td>0.000149051</td><td>0.000000000</td><td>0.000000000</td><td>0.013880497</td><td>0.008753903</td><td>0.000185242</td><td>0.000103801</td><td>0.000720625</td><td>...        </td><td>0.000517496</td><td>0.000657752</td><td>0.000237330</td><td>0.000000000</td><td>0.000126837</td><td>0.000078300</td><td>0.002703553</td><td>0.000129350</td><td>0.001789472</td><td>0.000190018</td></tr>\n",
       "\t<tr><th scope=row>45</th><td>0.002441388</td><td>0.000000000</td><td>0.000091500</td><td>0.000404913</td><td>0.000000000</td><td>0.012742854</td><td>0.008018868</td><td>0.000346286</td><td>0.000000000</td><td>0.000571642</td><td>...        </td><td>0.000156607</td><td>0.000662946</td><td>0.000310745</td><td>0.000000000</td><td>0.000276265</td><td>0.000219648</td><td>0.001377499</td><td>0.000000000</td><td>0.000801887</td><td>0.000073400</td></tr>\n",
       "\t<tr><th scope=row>56</th><td>0.005268243</td><td>0.000190121</td><td>0.000130381</td><td>0.000619793</td><td>0.000519077</td><td>0.013712926</td><td>0.009335636</td><td>0.000000000</td><td>0.000096400</td><td>0.000000000</td><td>...        </td><td>0.000468719</td><td>0.000728257</td><td>0.000328769</td><td>0.000000000</td><td>0.000085700</td><td>0.000949058</td><td>0.002854923</td><td>0.000128294</td><td>0.001882622</td><td>0.000198014</td></tr>\n",
       "\t<tr><th scope=row>57</th><td>0.001305645</td><td>0.000000000</td><td>0.000000000</td><td>0.000101759</td><td>0.000015900</td><td>0.001026278</td><td>0.002605500</td><td>0.000000000</td><td>0.000017400</td><td>0.000000000</td><td>...        </td><td>0.000102483</td><td>0.000179490</td><td>0.000119419</td><td>0.000000000</td><td>0.000021700</td><td>0.000000000</td><td>0.000662955</td><td>0.000000000</td><td>0.000172253</td><td>0.000000000</td></tr>\n",
       "\t<tr><th scope=row>58</th><td>0.000725512</td><td>0.000007140</td><td>0.000000000</td><td>0.000000000</td><td>0.000050100</td><td>0.000000000</td><td>0.000727491</td><td>0.000000000</td><td>0.000010400</td><td>0.000000000</td><td>...        </td><td>0.000043200</td><td>0.000040600</td><td>0.000030900</td><td>0.000000000</td><td>0.000056900</td><td>0.000109866</td><td>0.000224681</td><td>0.000000000</td><td>0.000028000</td><td>0.000000000</td></tr>\n",
       "\t<tr><th scope=row>59</th><td>0.004263874</td><td>0.000046100</td><td>0.000240828</td><td>0.000688468</td><td>0.000044500</td><td>0.018282009</td><td>0.008620314</td><td>0.000000000</td><td>0.000000000</td><td>0.000000000</td><td>...        </td><td>0.000191876</td><td>0.000601686</td><td>0.000123428</td><td>0.000000000</td><td>0.000406296</td><td>0.000000000</td><td>0.002071190</td><td>0.000000000</td><td>0.001365365</td><td>0.000100461</td></tr>\n",
       "\t<tr><th scope=row>60</th><td>0.002472698</td><td>0.000000000</td><td>0.000000000</td><td>0.001045277</td><td>0.000316268</td><td>0.015398164</td><td>0.012138698</td><td>0.000000000</td><td>0.000000000</td><td>0.000000000</td><td>...        </td><td>0.000000000</td><td>0.000938501</td><td>0.000372147</td><td>0.000000000</td><td>0.000391272</td><td>0.000000000</td><td>0.000977840</td><td>0.000000000</td><td>0.000618174</td><td>0.000047200</td></tr>\n",
       "</tbody>\n",
       "</table>\n"
      ],
      "text/latex": [
       "\\begin{tabular}{r|lllllllllllllllllllllllllllllllllllllllllllllllllllllll}\n",
       "  & X105.07\\_2.767 & X119.049\\_2.765 & X128.018\\_0.344 & X136.062\\_0.301 & X136.097\\_0.551 & X137.046\\_0.31 & X137.046\\_0.42 & X203.007\\_0.309 & X249.112\\_2.768 & X251.037\\_0.323 & ... & X599.241\\_2.765 & X604.362\\_2.948 & X620.356\\_2.913 & X682.363\\_3.329 & X682.364\\_3.313 & X764.524\\_3.729 & X790.38\\_2.768 & X792.329\\_2.764 & X795.335\\_2.768 & X811.309\\_2.773\\\\\n",
       "\\hline\n",
       "\t1 & 0.001681762 & 0.000000000 & 0.000000000 & 0.001018126 & 0.000000000 & 0.016982498 & 0.015622250 & 0.000289195 & 0.000000000 & 0.000469904 & ...         & 0.000000000 & 0.001281931 & 0.000659514 & 0.000320160 & 0.000000000 & 0.000000000 & 0.000370969 & 0.000000000 & 0.000245626 & 0.000038000\\\\\n",
       "\t2 & 0.001668227 & 0.000020400 & 0.000000000 & 0.000295572 & 0.000000000 & 0.005836288 & 0.007990455 & 0.000021600 & 0.000000000 & 0.000000000 & ...         & 0.000050000 & 0.000671298 & 0.000483435 & 0.000179208 & 0.000000000 & 0.000000000 & 0.000586134 & 0.000000000 & 0.000211682 & 0.000020900\\\\\n",
       "\t3 & 0.002195508 & 0.000000000 & 0.000000000 & 0.000332938 & 0.000000000 & 0.011181699 & 0.010145193 & 0.000217687 & 0.000000000 & 0.000233476 & ...         & 0.000082900 & 0.000706708 & 0.000317234 & 0.000099800 & 0.000000000 & 0.000000000 & 0.001133874 & 0.000000000 & 0.000741259 & 0.000095300\\\\\n",
       "\t4 & 0.003006615 & 0.000063800 & 0.000000000 & 0.001047760 & 0.000000000 & 0.013286807 & 0.020423720 & 0.000315510 & 0.000000000 & 0.000569435 & ...         & 0.000099100 & 0.000930076 & 0.000245202 & 0.000234970 & 0.000000000 & 0.000000000 & 0.001150258 & 0.000000000 & 0.000713691 & 0.000174109\\\\\n",
       "\t5 & 0.002858430 & 0.000000000 & 0.000000000 & 0.000740688 & 0.000000000 & 0.015404920 & 0.010467000 & 0.000335517 & 0.000038200 & 0.000365128 & ...         & 0.000178807 & 0.000744165 & 0.000302164 & 0.000251297 & 0.000000000 & 0.000000000 & 0.001161454 & 0.000040900 & 0.000765030 & 0.000136971\\\\\n",
       "\t6 & 0.003596194 & 0.000107639 & 0.000000000 & 0.000763763 & 0.000000000 & 0.012398305 & 0.009521351 & 0.000207325 & 0.000036600 & 0.000235976 & ...         & 0.000280413 & 0.000626765 & 0.000345920 & 0.000112422 & 0.000000000 & 0.000000000 & 0.001883720 & 0.000085300 & 0.001150782 & 0.000161828\\\\\n",
       "\t7 & 0.004184102 & 0.000000000 & 0.000000000 & 0.000943397 & 0.000000000 & 0.014920666 & 0.015749592 & 0.000251807 & 0.000073200 & 0.000418410 & ...         & 0.000357279 & 0.000994711 & 0.000442094 & 0.000321391 & 0.000000000 & 0.000000000 & 0.002245995 & 0.000039900 & 0.001480225 & 0.000288184\\\\\n",
       "\t8 & 0.003180510 & 0.000081300 & 0.000000000 & 0.001072193 & 0.000000000 & 0.015017254 & 0.010721926 & 0.000180750 & 0.000030800 & 0.000459043 & ...         & 0.000230648 & 0.000757420 & 0.000308954 & 0.000298353 & 0.000000000 & 0.000000000 & 0.001603371 & 0.000031000 & 0.000891854 & 0.000151068\\\\\n",
       "\t9 & 0.003522334 & 0.000105216 & 0.000000000 & 0.001145864 & 0.000000000 & 0.020190782 & 0.011237570 & 0.000206309 & 0.000028000 & 0.000515823 & ...         & 0.000235445 & 0.000637410 & 0.000281648 & 0.000281675 & 0.000000000 & 0.000000000 & 0.001661687 & 0.000000000 & 0.001230606 & 0.000146975\\\\\n",
       "\t10 & 0.004984568 & 0.000000000 & 0.000000000 & 0.001608456 & 0.000000000 & 0.017786343 & 0.012351627 & 0.000359090 & 0.000049700 & 0.000730118 & ...         & 0.000417157 & 0.000675222 & 0.000168015 & 0.000403194 & 0.000000000 & 0.000000000 & 0.002514242 & 0.000060100 & 0.001690800 & 0.000142444\\\\\n",
       "\t11 & 0.002516160 & 0.000031300 & 0.000000000 & 0.001240799 & 0.000000000 & 0.019113140 & 0.010195979 & 0.000000000 & 0.000000000 & 0.000028600 & ...         & 0.000127604 & 0.000739641 & 0.000276132 & 0.000228511 & 0.000000000 & 0.000072000 & 0.001175130 & 0.000000000 & 0.000812222 & 0.000120914\\\\\n",
       "\t12 & 0.002025665 & 0.000000000 & 0.000000000 & 0.001652943 & 0.000000000 & 0.017704314 & 0.018068934 & 0.000000000 & 0.000000000 & 0.000042500 & ...         & 0.000063500 & 0.000765701 & 0.000361806 & 0.000277571 & 0.000000000 & 0.000114613 & 0.000700880 & 0.000000000 & 0.000498314 & 0.000092600\\\\\n",
       "\t13 & 0.001893397 & 0.000000000 & 0.000000000 & 0.001441242 & 0.000000000 & 0.021558078 & 0.014816133 & 0.000160445 & 0.000000000 & 0.000670157 & ...         & 0.000000000 & 0.000904309 & 0.000536933 & 0.000000000 & 0.000243387 & 0.000029700 & 0.000637861 & 0.000000000 & 0.000440043 & 0.000081300\\\\\n",
       "\t14 & 0.003391941 & 0.000073100 & 0.000000000 & 0.000702238 & 0.000000000 & 0.014000589 & 0.006757382 & 0.000191529 & 0.000000000 & 0.000000000 & ...         & 0.000256378 & 0.000640406 & 0.000140963 & 0.000309837 & 0.000000000 & 0.000037500 & 0.001488391 & 0.000034800 & 0.000993733 & 0.000129137\\\\\n",
       "\t15 & 0.002668096 & 0.000000000 & 0.000000000 & 0.000721540 & 0.000000000 & 0.014013916 & 0.012891520 & 0.000222743 & 0.000065400 & 0.000464993 & ...         & 0.000192285 & 0.000567612 & 0.000327098 & 0.000000000 & 0.000081800 & 0.001577768 & 0.001651526 & 0.000035000 & 0.000929985 & 0.000135980\\\\\n",
       "\t26 & 0.005239874 & 0.000193567 & 0.000000000 & 0.000135214 & 0.000000000 & 0.013996443 & 0.007244390 & 0.000067600 & 0.000160405 & 0.000000000 & ...         & 0.000481787 & 0.000611905 & 0.000393870 & 0.000000000 & 0.000071600 & 0.000812356 & 0.003150958 & 0.000176765 & 0.002022099 & 0.000231479\\\\\n",
       "\t27 & 0.004438980 & 0.000184756 & 0.000126690 & 0.000352842 & 0.000304468 & 0.010129979 & 0.009845429 & 0.000000000 & 0.000107326 & 0.000000000 & ...         & 0.000395524 & 0.000520726 & 0.000315850 & 0.000000000 & 0.000190062 & 0.001266247 & 0.002259327 & 0.000075900 & 0.001573561 & 0.000242717\\\\\n",
       "\t28 & 0.003986130 & 0.000000000 & 0.000052200 & 0.000475764 & 0.000206789 & 0.009868887 & 0.014401504 & 0.000253538 & 0.000087700 & 0.000401828 & ...         & 0.000304929 & 0.000739363 & 0.000427545 & 0.000000000 & 0.000074900 & 0.000000000 & 0.002587770 & 0.000097800 & 0.001202268 & 0.000195685\\\\\n",
       "\t29 & 0.004361477 & 0.000155738 & 0.000133498 & 0.000139805 & 0.000380764 & 0.013049817 & 0.007303744 & 0.000000000 & 0.000094900 & 0.000000000 & ...         & 0.000294998 & 0.000799604 & 0.000253196 & 0.000000000 & 0.000206465 & 0.000488070 & 0.002506119 & 0.000045900 & 0.001502287 & 0.000176801\\\\\n",
       "\t30 & 0.004631478 & 0.000154865 & 0.000220112 & 0.000168725 & 0.000290793 & 0.012449184 & 0.008871832 & 0.000000000 & 0.000038200 & 0.000000000 & ...         & 0.000403666 & 0.000701161 & 0.000185232 & 0.000000000 & 0.000299202 & 0.000329089 & 0.002537535 & 0.000000000 & 0.001612193 & 0.000269307\\\\\n",
       "\t41 & 0.005812134 & 0.000000000 & 0.000127465 & 0.000182777 & 0.000000000 & 0.014029290 & 0.006814226 & 0.000195991 & 0.000158885 & 0.000673406 & ...         & 0.000529105 & 0.000541130 & 0.000176939 & 0.000000000 & 0.000194786 & 0.000000000 & 0.003579473 & 0.000171731 & 0.002228653 & 0.000166990\\\\\n",
       "\t42 & 0.007131967 & 0.000284709 & 0.000176959 & 0.000911307 & 0.000297728 & 0.016096454 & 0.012728580 & 0.000000000 & 0.000188164 & 0.000000000 & ...         & 0.000713197 & 0.000619094 & 0.000189996 & 0.000000000 & 0.000148258 & 0.000000000 & 0.004700164 & 0.000248028 & 0.002917173 & 0.000161741\\\\\n",
       "\t43 & 0.005149477 & 0.000000000 & 0.000099600 & 0.000380732 & 0.000000000 & 0.011637008 & 0.011190990 & 0.000278428 & 0.000125821 & 0.000559550 & ...         & 0.000514948 & 0.000620370 & 0.000330032 & 0.000000000 & 0.000309295 & 0.000904200 & 0.002842349 & 0.000149942 & 0.001897603 & 0.000200850\\\\\n",
       "\t44 & 0.005852056 & 0.000205275 & 0.000149051 & 0.000000000 & 0.000000000 & 0.013880497 & 0.008753903 & 0.000185242 & 0.000103801 & 0.000720625 & ...         & 0.000517496 & 0.000657752 & 0.000237330 & 0.000000000 & 0.000126837 & 0.000078300 & 0.002703553 & 0.000129350 & 0.001789472 & 0.000190018\\\\\n",
       "\t45 & 0.002441388 & 0.000000000 & 0.000091500 & 0.000404913 & 0.000000000 & 0.012742854 & 0.008018868 & 0.000346286 & 0.000000000 & 0.000571642 & ...         & 0.000156607 & 0.000662946 & 0.000310745 & 0.000000000 & 0.000276265 & 0.000219648 & 0.001377499 & 0.000000000 & 0.000801887 & 0.000073400\\\\\n",
       "\t56 & 0.005268243 & 0.000190121 & 0.000130381 & 0.000619793 & 0.000519077 & 0.013712926 & 0.009335636 & 0.000000000 & 0.000096400 & 0.000000000 & ...         & 0.000468719 & 0.000728257 & 0.000328769 & 0.000000000 & 0.000085700 & 0.000949058 & 0.002854923 & 0.000128294 & 0.001882622 & 0.000198014\\\\\n",
       "\t57 & 0.001305645 & 0.000000000 & 0.000000000 & 0.000101759 & 0.000015900 & 0.001026278 & 0.002605500 & 0.000000000 & 0.000017400 & 0.000000000 & ...         & 0.000102483 & 0.000179490 & 0.000119419 & 0.000000000 & 0.000021700 & 0.000000000 & 0.000662955 & 0.000000000 & 0.000172253 & 0.000000000\\\\\n",
       "\t58 & 0.000725512 & 0.000007140 & 0.000000000 & 0.000000000 & 0.000050100 & 0.000000000 & 0.000727491 & 0.000000000 & 0.000010400 & 0.000000000 & ...         & 0.000043200 & 0.000040600 & 0.000030900 & 0.000000000 & 0.000056900 & 0.000109866 & 0.000224681 & 0.000000000 & 0.000028000 & 0.000000000\\\\\n",
       "\t59 & 0.004263874 & 0.000046100 & 0.000240828 & 0.000688468 & 0.000044500 & 0.018282009 & 0.008620314 & 0.000000000 & 0.000000000 & 0.000000000 & ...         & 0.000191876 & 0.000601686 & 0.000123428 & 0.000000000 & 0.000406296 & 0.000000000 & 0.002071190 & 0.000000000 & 0.001365365 & 0.000100461\\\\\n",
       "\t60 & 0.002472698 & 0.000000000 & 0.000000000 & 0.001045277 & 0.000316268 & 0.015398164 & 0.012138698 & 0.000000000 & 0.000000000 & 0.000000000 & ...         & 0.000000000 & 0.000938501 & 0.000372147 & 0.000000000 & 0.000391272 & 0.000000000 & 0.000977840 & 0.000000000 & 0.000618174 & 0.000047200\\\\\n",
       "\\end{tabular}\n"
      ],
      "text/markdown": [
       "\n",
       "| <!--/--> | X105.07_2.767 | X119.049_2.765 | X128.018_0.344 | X136.062_0.301 | X136.097_0.551 | X137.046_0.31 | X137.046_0.42 | X203.007_0.309 | X249.112_2.768 | X251.037_0.323 | ... | X599.241_2.765 | X604.362_2.948 | X620.356_2.913 | X682.363_3.329 | X682.364_3.313 | X764.524_3.729 | X790.38_2.768 | X792.329_2.764 | X795.335_2.768 | X811.309_2.773 |\n",
       "|---|---|---|---|---|---|---|---|---|---|---|---|---|---|---|---|---|---|---|---|---|---|\n",
       "| 1 | 0.001681762 | 0.000000000 | 0.000000000 | 0.001018126 | 0.000000000 | 0.016982498 | 0.015622250 | 0.000289195 | 0.000000000 | 0.000469904 | ...         | 0.000000000 | 0.001281931 | 0.000659514 | 0.000320160 | 0.000000000 | 0.000000000 | 0.000370969 | 0.000000000 | 0.000245626 | 0.000038000 |\n",
       "| 2 | 0.001668227 | 0.000020400 | 0.000000000 | 0.000295572 | 0.000000000 | 0.005836288 | 0.007990455 | 0.000021600 | 0.000000000 | 0.000000000 | ...         | 0.000050000 | 0.000671298 | 0.000483435 | 0.000179208 | 0.000000000 | 0.000000000 | 0.000586134 | 0.000000000 | 0.000211682 | 0.000020900 |\n",
       "| 3 | 0.002195508 | 0.000000000 | 0.000000000 | 0.000332938 | 0.000000000 | 0.011181699 | 0.010145193 | 0.000217687 | 0.000000000 | 0.000233476 | ...         | 0.000082900 | 0.000706708 | 0.000317234 | 0.000099800 | 0.000000000 | 0.000000000 | 0.001133874 | 0.000000000 | 0.000741259 | 0.000095300 |\n",
       "| 4 | 0.003006615 | 0.000063800 | 0.000000000 | 0.001047760 | 0.000000000 | 0.013286807 | 0.020423720 | 0.000315510 | 0.000000000 | 0.000569435 | ...         | 0.000099100 | 0.000930076 | 0.000245202 | 0.000234970 | 0.000000000 | 0.000000000 | 0.001150258 | 0.000000000 | 0.000713691 | 0.000174109 |\n",
       "| 5 | 0.002858430 | 0.000000000 | 0.000000000 | 0.000740688 | 0.000000000 | 0.015404920 | 0.010467000 | 0.000335517 | 0.000038200 | 0.000365128 | ...         | 0.000178807 | 0.000744165 | 0.000302164 | 0.000251297 | 0.000000000 | 0.000000000 | 0.001161454 | 0.000040900 | 0.000765030 | 0.000136971 |\n",
       "| 6 | 0.003596194 | 0.000107639 | 0.000000000 | 0.000763763 | 0.000000000 | 0.012398305 | 0.009521351 | 0.000207325 | 0.000036600 | 0.000235976 | ...         | 0.000280413 | 0.000626765 | 0.000345920 | 0.000112422 | 0.000000000 | 0.000000000 | 0.001883720 | 0.000085300 | 0.001150782 | 0.000161828 |\n",
       "| 7 | 0.004184102 | 0.000000000 | 0.000000000 | 0.000943397 | 0.000000000 | 0.014920666 | 0.015749592 | 0.000251807 | 0.000073200 | 0.000418410 | ...         | 0.000357279 | 0.000994711 | 0.000442094 | 0.000321391 | 0.000000000 | 0.000000000 | 0.002245995 | 0.000039900 | 0.001480225 | 0.000288184 |\n",
       "| 8 | 0.003180510 | 0.000081300 | 0.000000000 | 0.001072193 | 0.000000000 | 0.015017254 | 0.010721926 | 0.000180750 | 0.000030800 | 0.000459043 | ...         | 0.000230648 | 0.000757420 | 0.000308954 | 0.000298353 | 0.000000000 | 0.000000000 | 0.001603371 | 0.000031000 | 0.000891854 | 0.000151068 |\n",
       "| 9 | 0.003522334 | 0.000105216 | 0.000000000 | 0.001145864 | 0.000000000 | 0.020190782 | 0.011237570 | 0.000206309 | 0.000028000 | 0.000515823 | ...         | 0.000235445 | 0.000637410 | 0.000281648 | 0.000281675 | 0.000000000 | 0.000000000 | 0.001661687 | 0.000000000 | 0.001230606 | 0.000146975 |\n",
       "| 10 | 0.004984568 | 0.000000000 | 0.000000000 | 0.001608456 | 0.000000000 | 0.017786343 | 0.012351627 | 0.000359090 | 0.000049700 | 0.000730118 | ...         | 0.000417157 | 0.000675222 | 0.000168015 | 0.000403194 | 0.000000000 | 0.000000000 | 0.002514242 | 0.000060100 | 0.001690800 | 0.000142444 |\n",
       "| 11 | 0.002516160 | 0.000031300 | 0.000000000 | 0.001240799 | 0.000000000 | 0.019113140 | 0.010195979 | 0.000000000 | 0.000000000 | 0.000028600 | ...         | 0.000127604 | 0.000739641 | 0.000276132 | 0.000228511 | 0.000000000 | 0.000072000 | 0.001175130 | 0.000000000 | 0.000812222 | 0.000120914 |\n",
       "| 12 | 0.002025665 | 0.000000000 | 0.000000000 | 0.001652943 | 0.000000000 | 0.017704314 | 0.018068934 | 0.000000000 | 0.000000000 | 0.000042500 | ...         | 0.000063500 | 0.000765701 | 0.000361806 | 0.000277571 | 0.000000000 | 0.000114613 | 0.000700880 | 0.000000000 | 0.000498314 | 0.000092600 |\n",
       "| 13 | 0.001893397 | 0.000000000 | 0.000000000 | 0.001441242 | 0.000000000 | 0.021558078 | 0.014816133 | 0.000160445 | 0.000000000 | 0.000670157 | ...         | 0.000000000 | 0.000904309 | 0.000536933 | 0.000000000 | 0.000243387 | 0.000029700 | 0.000637861 | 0.000000000 | 0.000440043 | 0.000081300 |\n",
       "| 14 | 0.003391941 | 0.000073100 | 0.000000000 | 0.000702238 | 0.000000000 | 0.014000589 | 0.006757382 | 0.000191529 | 0.000000000 | 0.000000000 | ...         | 0.000256378 | 0.000640406 | 0.000140963 | 0.000309837 | 0.000000000 | 0.000037500 | 0.001488391 | 0.000034800 | 0.000993733 | 0.000129137 |\n",
       "| 15 | 0.002668096 | 0.000000000 | 0.000000000 | 0.000721540 | 0.000000000 | 0.014013916 | 0.012891520 | 0.000222743 | 0.000065400 | 0.000464993 | ...         | 0.000192285 | 0.000567612 | 0.000327098 | 0.000000000 | 0.000081800 | 0.001577768 | 0.001651526 | 0.000035000 | 0.000929985 | 0.000135980 |\n",
       "| 26 | 0.005239874 | 0.000193567 | 0.000000000 | 0.000135214 | 0.000000000 | 0.013996443 | 0.007244390 | 0.000067600 | 0.000160405 | 0.000000000 | ...         | 0.000481787 | 0.000611905 | 0.000393870 | 0.000000000 | 0.000071600 | 0.000812356 | 0.003150958 | 0.000176765 | 0.002022099 | 0.000231479 |\n",
       "| 27 | 0.004438980 | 0.000184756 | 0.000126690 | 0.000352842 | 0.000304468 | 0.010129979 | 0.009845429 | 0.000000000 | 0.000107326 | 0.000000000 | ...         | 0.000395524 | 0.000520726 | 0.000315850 | 0.000000000 | 0.000190062 | 0.001266247 | 0.002259327 | 0.000075900 | 0.001573561 | 0.000242717 |\n",
       "| 28 | 0.003986130 | 0.000000000 | 0.000052200 | 0.000475764 | 0.000206789 | 0.009868887 | 0.014401504 | 0.000253538 | 0.000087700 | 0.000401828 | ...         | 0.000304929 | 0.000739363 | 0.000427545 | 0.000000000 | 0.000074900 | 0.000000000 | 0.002587770 | 0.000097800 | 0.001202268 | 0.000195685 |\n",
       "| 29 | 0.004361477 | 0.000155738 | 0.000133498 | 0.000139805 | 0.000380764 | 0.013049817 | 0.007303744 | 0.000000000 | 0.000094900 | 0.000000000 | ...         | 0.000294998 | 0.000799604 | 0.000253196 | 0.000000000 | 0.000206465 | 0.000488070 | 0.002506119 | 0.000045900 | 0.001502287 | 0.000176801 |\n",
       "| 30 | 0.004631478 | 0.000154865 | 0.000220112 | 0.000168725 | 0.000290793 | 0.012449184 | 0.008871832 | 0.000000000 | 0.000038200 | 0.000000000 | ...         | 0.000403666 | 0.000701161 | 0.000185232 | 0.000000000 | 0.000299202 | 0.000329089 | 0.002537535 | 0.000000000 | 0.001612193 | 0.000269307 |\n",
       "| 41 | 0.005812134 | 0.000000000 | 0.000127465 | 0.000182777 | 0.000000000 | 0.014029290 | 0.006814226 | 0.000195991 | 0.000158885 | 0.000673406 | ...         | 0.000529105 | 0.000541130 | 0.000176939 | 0.000000000 | 0.000194786 | 0.000000000 | 0.003579473 | 0.000171731 | 0.002228653 | 0.000166990 |\n",
       "| 42 | 0.007131967 | 0.000284709 | 0.000176959 | 0.000911307 | 0.000297728 | 0.016096454 | 0.012728580 | 0.000000000 | 0.000188164 | 0.000000000 | ...         | 0.000713197 | 0.000619094 | 0.000189996 | 0.000000000 | 0.000148258 | 0.000000000 | 0.004700164 | 0.000248028 | 0.002917173 | 0.000161741 |\n",
       "| 43 | 0.005149477 | 0.000000000 | 0.000099600 | 0.000380732 | 0.000000000 | 0.011637008 | 0.011190990 | 0.000278428 | 0.000125821 | 0.000559550 | ...         | 0.000514948 | 0.000620370 | 0.000330032 | 0.000000000 | 0.000309295 | 0.000904200 | 0.002842349 | 0.000149942 | 0.001897603 | 0.000200850 |\n",
       "| 44 | 0.005852056 | 0.000205275 | 0.000149051 | 0.000000000 | 0.000000000 | 0.013880497 | 0.008753903 | 0.000185242 | 0.000103801 | 0.000720625 | ...         | 0.000517496 | 0.000657752 | 0.000237330 | 0.000000000 | 0.000126837 | 0.000078300 | 0.002703553 | 0.000129350 | 0.001789472 | 0.000190018 |\n",
       "| 45 | 0.002441388 | 0.000000000 | 0.000091500 | 0.000404913 | 0.000000000 | 0.012742854 | 0.008018868 | 0.000346286 | 0.000000000 | 0.000571642 | ...         | 0.000156607 | 0.000662946 | 0.000310745 | 0.000000000 | 0.000276265 | 0.000219648 | 0.001377499 | 0.000000000 | 0.000801887 | 0.000073400 |\n",
       "| 56 | 0.005268243 | 0.000190121 | 0.000130381 | 0.000619793 | 0.000519077 | 0.013712926 | 0.009335636 | 0.000000000 | 0.000096400 | 0.000000000 | ...         | 0.000468719 | 0.000728257 | 0.000328769 | 0.000000000 | 0.000085700 | 0.000949058 | 0.002854923 | 0.000128294 | 0.001882622 | 0.000198014 |\n",
       "| 57 | 0.001305645 | 0.000000000 | 0.000000000 | 0.000101759 | 0.000015900 | 0.001026278 | 0.002605500 | 0.000000000 | 0.000017400 | 0.000000000 | ...         | 0.000102483 | 0.000179490 | 0.000119419 | 0.000000000 | 0.000021700 | 0.000000000 | 0.000662955 | 0.000000000 | 0.000172253 | 0.000000000 |\n",
       "| 58 | 0.000725512 | 0.000007140 | 0.000000000 | 0.000000000 | 0.000050100 | 0.000000000 | 0.000727491 | 0.000000000 | 0.000010400 | 0.000000000 | ...         | 0.000043200 | 0.000040600 | 0.000030900 | 0.000000000 | 0.000056900 | 0.000109866 | 0.000224681 | 0.000000000 | 0.000028000 | 0.000000000 |\n",
       "| 59 | 0.004263874 | 0.000046100 | 0.000240828 | 0.000688468 | 0.000044500 | 0.018282009 | 0.008620314 | 0.000000000 | 0.000000000 | 0.000000000 | ...         | 0.000191876 | 0.000601686 | 0.000123428 | 0.000000000 | 0.000406296 | 0.000000000 | 0.002071190 | 0.000000000 | 0.001365365 | 0.000100461 |\n",
       "| 60 | 0.002472698 | 0.000000000 | 0.000000000 | 0.001045277 | 0.000316268 | 0.015398164 | 0.012138698 | 0.000000000 | 0.000000000 | 0.000000000 | ...         | 0.000000000 | 0.000938501 | 0.000372147 | 0.000000000 | 0.000391272 | 0.000000000 | 0.000977840 | 0.000000000 | 0.000618174 | 0.000047200 |\n",
       "\n"
      ],
      "text/plain": [
       "   X105.07_2.767 X119.049_2.765 X128.018_0.344 X136.062_0.301 X136.097_0.551\n",
       "1  0.001681762   0.000000000    0.000000000    0.001018126    0.000000000   \n",
       "2  0.001668227   0.000020400    0.000000000    0.000295572    0.000000000   \n",
       "3  0.002195508   0.000000000    0.000000000    0.000332938    0.000000000   \n",
       "4  0.003006615   0.000063800    0.000000000    0.001047760    0.000000000   \n",
       "5  0.002858430   0.000000000    0.000000000    0.000740688    0.000000000   \n",
       "6  0.003596194   0.000107639    0.000000000    0.000763763    0.000000000   \n",
       "7  0.004184102   0.000000000    0.000000000    0.000943397    0.000000000   \n",
       "8  0.003180510   0.000081300    0.000000000    0.001072193    0.000000000   \n",
       "9  0.003522334   0.000105216    0.000000000    0.001145864    0.000000000   \n",
       "10 0.004984568   0.000000000    0.000000000    0.001608456    0.000000000   \n",
       "11 0.002516160   0.000031300    0.000000000    0.001240799    0.000000000   \n",
       "12 0.002025665   0.000000000    0.000000000    0.001652943    0.000000000   \n",
       "13 0.001893397   0.000000000    0.000000000    0.001441242    0.000000000   \n",
       "14 0.003391941   0.000073100    0.000000000    0.000702238    0.000000000   \n",
       "15 0.002668096   0.000000000    0.000000000    0.000721540    0.000000000   \n",
       "26 0.005239874   0.000193567    0.000000000    0.000135214    0.000000000   \n",
       "27 0.004438980   0.000184756    0.000126690    0.000352842    0.000304468   \n",
       "28 0.003986130   0.000000000    0.000052200    0.000475764    0.000206789   \n",
       "29 0.004361477   0.000155738    0.000133498    0.000139805    0.000380764   \n",
       "30 0.004631478   0.000154865    0.000220112    0.000168725    0.000290793   \n",
       "41 0.005812134   0.000000000    0.000127465    0.000182777    0.000000000   \n",
       "42 0.007131967   0.000284709    0.000176959    0.000911307    0.000297728   \n",
       "43 0.005149477   0.000000000    0.000099600    0.000380732    0.000000000   \n",
       "44 0.005852056   0.000205275    0.000149051    0.000000000    0.000000000   \n",
       "45 0.002441388   0.000000000    0.000091500    0.000404913    0.000000000   \n",
       "56 0.005268243   0.000190121    0.000130381    0.000619793    0.000519077   \n",
       "57 0.001305645   0.000000000    0.000000000    0.000101759    0.000015900   \n",
       "58 0.000725512   0.000007140    0.000000000    0.000000000    0.000050100   \n",
       "59 0.004263874   0.000046100    0.000240828    0.000688468    0.000044500   \n",
       "60 0.002472698   0.000000000    0.000000000    0.001045277    0.000316268   \n",
       "   X137.046_0.31 X137.046_0.42 X203.007_0.309 X249.112_2.768 X251.037_0.323 ...\n",
       "1  0.016982498   0.015622250   0.000289195    0.000000000    0.000469904    ...\n",
       "2  0.005836288   0.007990455   0.000021600    0.000000000    0.000000000    ...\n",
       "3  0.011181699   0.010145193   0.000217687    0.000000000    0.000233476    ...\n",
       "4  0.013286807   0.020423720   0.000315510    0.000000000    0.000569435    ...\n",
       "5  0.015404920   0.010467000   0.000335517    0.000038200    0.000365128    ...\n",
       "6  0.012398305   0.009521351   0.000207325    0.000036600    0.000235976    ...\n",
       "7  0.014920666   0.015749592   0.000251807    0.000073200    0.000418410    ...\n",
       "8  0.015017254   0.010721926   0.000180750    0.000030800    0.000459043    ...\n",
       "9  0.020190782   0.011237570   0.000206309    0.000028000    0.000515823    ...\n",
       "10 0.017786343   0.012351627   0.000359090    0.000049700    0.000730118    ...\n",
       "11 0.019113140   0.010195979   0.000000000    0.000000000    0.000028600    ...\n",
       "12 0.017704314   0.018068934   0.000000000    0.000000000    0.000042500    ...\n",
       "13 0.021558078   0.014816133   0.000160445    0.000000000    0.000670157    ...\n",
       "14 0.014000589   0.006757382   0.000191529    0.000000000    0.000000000    ...\n",
       "15 0.014013916   0.012891520   0.000222743    0.000065400    0.000464993    ...\n",
       "26 0.013996443   0.007244390   0.000067600    0.000160405    0.000000000    ...\n",
       "27 0.010129979   0.009845429   0.000000000    0.000107326    0.000000000    ...\n",
       "28 0.009868887   0.014401504   0.000253538    0.000087700    0.000401828    ...\n",
       "29 0.013049817   0.007303744   0.000000000    0.000094900    0.000000000    ...\n",
       "30 0.012449184   0.008871832   0.000000000    0.000038200    0.000000000    ...\n",
       "41 0.014029290   0.006814226   0.000195991    0.000158885    0.000673406    ...\n",
       "42 0.016096454   0.012728580   0.000000000    0.000188164    0.000000000    ...\n",
       "43 0.011637008   0.011190990   0.000278428    0.000125821    0.000559550    ...\n",
       "44 0.013880497   0.008753903   0.000185242    0.000103801    0.000720625    ...\n",
       "45 0.012742854   0.008018868   0.000346286    0.000000000    0.000571642    ...\n",
       "56 0.013712926   0.009335636   0.000000000    0.000096400    0.000000000    ...\n",
       "57 0.001026278   0.002605500   0.000000000    0.000017400    0.000000000    ...\n",
       "58 0.000000000   0.000727491   0.000000000    0.000010400    0.000000000    ...\n",
       "59 0.018282009   0.008620314   0.000000000    0.000000000    0.000000000    ...\n",
       "60 0.015398164   0.012138698   0.000000000    0.000000000    0.000000000    ...\n",
       "   X599.241_2.765 X604.362_2.948 X620.356_2.913 X682.363_3.329 X682.364_3.313\n",
       "1  0.000000000    0.001281931    0.000659514    0.000320160    0.000000000   \n",
       "2  0.000050000    0.000671298    0.000483435    0.000179208    0.000000000   \n",
       "3  0.000082900    0.000706708    0.000317234    0.000099800    0.000000000   \n",
       "4  0.000099100    0.000930076    0.000245202    0.000234970    0.000000000   \n",
       "5  0.000178807    0.000744165    0.000302164    0.000251297    0.000000000   \n",
       "6  0.000280413    0.000626765    0.000345920    0.000112422    0.000000000   \n",
       "7  0.000357279    0.000994711    0.000442094    0.000321391    0.000000000   \n",
       "8  0.000230648    0.000757420    0.000308954    0.000298353    0.000000000   \n",
       "9  0.000235445    0.000637410    0.000281648    0.000281675    0.000000000   \n",
       "10 0.000417157    0.000675222    0.000168015    0.000403194    0.000000000   \n",
       "11 0.000127604    0.000739641    0.000276132    0.000228511    0.000000000   \n",
       "12 0.000063500    0.000765701    0.000361806    0.000277571    0.000000000   \n",
       "13 0.000000000    0.000904309    0.000536933    0.000000000    0.000243387   \n",
       "14 0.000256378    0.000640406    0.000140963    0.000309837    0.000000000   \n",
       "15 0.000192285    0.000567612    0.000327098    0.000000000    0.000081800   \n",
       "26 0.000481787    0.000611905    0.000393870    0.000000000    0.000071600   \n",
       "27 0.000395524    0.000520726    0.000315850    0.000000000    0.000190062   \n",
       "28 0.000304929    0.000739363    0.000427545    0.000000000    0.000074900   \n",
       "29 0.000294998    0.000799604    0.000253196    0.000000000    0.000206465   \n",
       "30 0.000403666    0.000701161    0.000185232    0.000000000    0.000299202   \n",
       "41 0.000529105    0.000541130    0.000176939    0.000000000    0.000194786   \n",
       "42 0.000713197    0.000619094    0.000189996    0.000000000    0.000148258   \n",
       "43 0.000514948    0.000620370    0.000330032    0.000000000    0.000309295   \n",
       "44 0.000517496    0.000657752    0.000237330    0.000000000    0.000126837   \n",
       "45 0.000156607    0.000662946    0.000310745    0.000000000    0.000276265   \n",
       "56 0.000468719    0.000728257    0.000328769    0.000000000    0.000085700   \n",
       "57 0.000102483    0.000179490    0.000119419    0.000000000    0.000021700   \n",
       "58 0.000043200    0.000040600    0.000030900    0.000000000    0.000056900   \n",
       "59 0.000191876    0.000601686    0.000123428    0.000000000    0.000406296   \n",
       "60 0.000000000    0.000938501    0.000372147    0.000000000    0.000391272   \n",
       "   X764.524_3.729 X790.38_2.768 X792.329_2.764 X795.335_2.768 X811.309_2.773\n",
       "1  0.000000000    0.000370969   0.000000000    0.000245626    0.000038000   \n",
       "2  0.000000000    0.000586134   0.000000000    0.000211682    0.000020900   \n",
       "3  0.000000000    0.001133874   0.000000000    0.000741259    0.000095300   \n",
       "4  0.000000000    0.001150258   0.000000000    0.000713691    0.000174109   \n",
       "5  0.000000000    0.001161454   0.000040900    0.000765030    0.000136971   \n",
       "6  0.000000000    0.001883720   0.000085300    0.001150782    0.000161828   \n",
       "7  0.000000000    0.002245995   0.000039900    0.001480225    0.000288184   \n",
       "8  0.000000000    0.001603371   0.000031000    0.000891854    0.000151068   \n",
       "9  0.000000000    0.001661687   0.000000000    0.001230606    0.000146975   \n",
       "10 0.000000000    0.002514242   0.000060100    0.001690800    0.000142444   \n",
       "11 0.000072000    0.001175130   0.000000000    0.000812222    0.000120914   \n",
       "12 0.000114613    0.000700880   0.000000000    0.000498314    0.000092600   \n",
       "13 0.000029700    0.000637861   0.000000000    0.000440043    0.000081300   \n",
       "14 0.000037500    0.001488391   0.000034800    0.000993733    0.000129137   \n",
       "15 0.001577768    0.001651526   0.000035000    0.000929985    0.000135980   \n",
       "26 0.000812356    0.003150958   0.000176765    0.002022099    0.000231479   \n",
       "27 0.001266247    0.002259327   0.000075900    0.001573561    0.000242717   \n",
       "28 0.000000000    0.002587770   0.000097800    0.001202268    0.000195685   \n",
       "29 0.000488070    0.002506119   0.000045900    0.001502287    0.000176801   \n",
       "30 0.000329089    0.002537535   0.000000000    0.001612193    0.000269307   \n",
       "41 0.000000000    0.003579473   0.000171731    0.002228653    0.000166990   \n",
       "42 0.000000000    0.004700164   0.000248028    0.002917173    0.000161741   \n",
       "43 0.000904200    0.002842349   0.000149942    0.001897603    0.000200850   \n",
       "44 0.000078300    0.002703553   0.000129350    0.001789472    0.000190018   \n",
       "45 0.000219648    0.001377499   0.000000000    0.000801887    0.000073400   \n",
       "56 0.000949058    0.002854923   0.000128294    0.001882622    0.000198014   \n",
       "57 0.000000000    0.000662955   0.000000000    0.000172253    0.000000000   \n",
       "58 0.000109866    0.000224681   0.000000000    0.000028000    0.000000000   \n",
       "59 0.000000000    0.002071190   0.000000000    0.001365365    0.000100461   \n",
       "60 0.000000000    0.000977840   0.000000000    0.000618174    0.000047200   "
      ]
     },
     "metadata": {},
     "output_type": "display_data"
    },
    {
     "data": {
      "text/html": [
       "<table>\n",
       "<thead><tr><th scope=col>filename</th><th scope=col>MouseID</th><th scope=col>Treatmentgroup</th><th scope=col>DPI</th><th scope=col>organ</th><th scope=col>well_position</th><th scope=col>plate</th><th scope=col>X105.07_2.767</th><th scope=col>X119.049_2.765</th><th scope=col>X128.018_0.344</th><th scope=col>...</th><th scope=col>X599.241_2.765</th><th scope=col>X604.362_2.948</th><th scope=col>X620.356_2.913</th><th scope=col>X682.363_3.329</th><th scope=col>X682.364_3.313</th><th scope=col>X764.524_3.729</th><th scope=col>X790.38_2.768</th><th scope=col>X792.329_2.764</th><th scope=col>X795.335_2.768</th><th scope=col>X811.309_2.773</th></tr></thead>\n",
       "<tbody>\n",
       "\t<tr><td>X511_Group1C_142dpi_LV_bottom_161_G_A1_P132.mzXML</td><td>511                                              </td><td>Group1C                                          </td><td>142dpi                                           </td><td>LV_bottom                                        </td><td>A1                                               </td><td>P132                                             </td><td>0.001681762                                      </td><td>0.000000000                                      </td><td>0                                                </td><td>...                                              </td><td>0.000000000                                      </td><td>0.001281931                                      </td><td>0.000659514                                      </td><td>0.000320160                                      </td><td>0                                                </td><td>0                                                </td><td>0.000370969                                      </td><td>0.00e+00                                         </td><td>0.000245626                                      </td><td>0.000038000                                      </td></tr>\n",
       "\t<tr><td>X512_Group1C_142dpi_LV_bottom_162_G_A2_P132.mzXML</td><td>512                                              </td><td>Group1C                                          </td><td>142dpi                                           </td><td>LV_bottom                                        </td><td>A2                                               </td><td>P132                                             </td><td>0.001668227                                      </td><td>0.000020400                                      </td><td>0                                                </td><td>...                                              </td><td>0.000050000                                      </td><td>0.000671298                                      </td><td>0.000483435                                      </td><td>0.000179208                                      </td><td>0                                                </td><td>0                                                </td><td>0.000586134                                      </td><td>0.00e+00                                         </td><td>0.000211682                                      </td><td>0.000020900                                      </td></tr>\n",
       "\t<tr><td>X513_Group1C_142dpi_LV_bottom_163_G_A3_P132.mzXML</td><td>513                                              </td><td>Group1C                                          </td><td>142dpi                                           </td><td>LV_bottom                                        </td><td>A3                                               </td><td>P132                                             </td><td>0.002195508                                      </td><td>0.000000000                                      </td><td>0                                                </td><td>...                                              </td><td>0.000082900                                      </td><td>0.000706708                                      </td><td>0.000317234                                      </td><td>0.000099800                                      </td><td>0                                                </td><td>0                                                </td><td>0.001133874                                      </td><td>0.00e+00                                         </td><td>0.000741259                                      </td><td>0.000095300                                      </td></tr>\n",
       "\t<tr><td>X514_Group1C_142dpi_LV_bottom_164_G_A4_P132.mzXML</td><td>514                                              </td><td>Group1C                                          </td><td>142dpi                                           </td><td>LV_bottom                                        </td><td>A4                                               </td><td>P132                                             </td><td>0.003006615                                      </td><td>0.000063800                                      </td><td>0                                                </td><td>...                                              </td><td>0.000099100                                      </td><td>0.000930076                                      </td><td>0.000245202                                      </td><td>0.000234970                                      </td><td>0                                                </td><td>0                                                </td><td>0.001150258                                      </td><td>0.00e+00                                         </td><td>0.000713691                                      </td><td>0.000174109                                      </td></tr>\n",
       "\t<tr><td>X515_Group1C_142dpi_LV_bottom_165_G_A5_P132.mzXML</td><td>515                                              </td><td>Group1C                                          </td><td>142dpi                                           </td><td>LV_bottom                                        </td><td>A5                                               </td><td>P132                                             </td><td>0.002858430                                      </td><td>0.000000000                                      </td><td>0                                                </td><td>...                                              </td><td>0.000178807                                      </td><td>0.000744165                                      </td><td>0.000302164                                      </td><td>0.000251297                                      </td><td>0                                                </td><td>0                                                </td><td>0.001161454                                      </td><td>4.09e-05                                         </td><td>0.000765030                                      </td><td>0.000136971                                      </td></tr>\n",
       "\t<tr><td>X531_Group1C_142dpi_LV_bottom_166_G_A6_P132.mzXML</td><td>531                                              </td><td>Group1C                                          </td><td>142dpi                                           </td><td>LV_bottom                                        </td><td>A6                                               </td><td>P132                                             </td><td>0.003596194                                      </td><td>0.000107639                                      </td><td>0                                                </td><td>...                                              </td><td>0.000280413                                      </td><td>0.000626765                                      </td><td>0.000345920                                      </td><td>0.000112422                                      </td><td>0                                                </td><td>0                                                </td><td>0.001883720                                      </td><td>8.53e-05                                         </td><td>0.001150782                                      </td><td>0.000161828                                      </td></tr>\n",
       "</tbody>\n",
       "</table>\n"
      ],
      "text/latex": [
       "\\begin{tabular}{r|llllllllllllllllllllllllllllllllllllllllllllllllllllllllllllll}\n",
       " filename & MouseID & Treatmentgroup & DPI & organ & well\\_position & plate & X105.07\\_2.767 & X119.049\\_2.765 & X128.018\\_0.344 & ... & X599.241\\_2.765 & X604.362\\_2.948 & X620.356\\_2.913 & X682.363\\_3.329 & X682.364\\_3.313 & X764.524\\_3.729 & X790.38\\_2.768 & X792.329\\_2.764 & X795.335\\_2.768 & X811.309\\_2.773\\\\\n",
       "\\hline\n",
       "\t X511\\_Group1C\\_142dpi\\_LV\\_bottom\\_161\\_G\\_A1\\_P132.mzXML & 511                                                               & Group1C                                                           & 142dpi                                                            & LV\\_bottom                                                       & A1                                                                & P132                                                              & 0.001681762                                                       & 0.000000000                                                       & 0                                                                 & ...                                                               & 0.000000000                                                       & 0.001281931                                                       & 0.000659514                                                       & 0.000320160                                                       & 0                                                                 & 0                                                                 & 0.000370969                                                       & 0.00e+00                                                          & 0.000245626                                                       & 0.000038000                                                      \\\\\n",
       "\t X512\\_Group1C\\_142dpi\\_LV\\_bottom\\_162\\_G\\_A2\\_P132.mzXML & 512                                                               & Group1C                                                           & 142dpi                                                            & LV\\_bottom                                                       & A2                                                                & P132                                                              & 0.001668227                                                       & 0.000020400                                                       & 0                                                                 & ...                                                               & 0.000050000                                                       & 0.000671298                                                       & 0.000483435                                                       & 0.000179208                                                       & 0                                                                 & 0                                                                 & 0.000586134                                                       & 0.00e+00                                                          & 0.000211682                                                       & 0.000020900                                                      \\\\\n",
       "\t X513\\_Group1C\\_142dpi\\_LV\\_bottom\\_163\\_G\\_A3\\_P132.mzXML & 513                                                               & Group1C                                                           & 142dpi                                                            & LV\\_bottom                                                       & A3                                                                & P132                                                              & 0.002195508                                                       & 0.000000000                                                       & 0                                                                 & ...                                                               & 0.000082900                                                       & 0.000706708                                                       & 0.000317234                                                       & 0.000099800                                                       & 0                                                                 & 0                                                                 & 0.001133874                                                       & 0.00e+00                                                          & 0.000741259                                                       & 0.000095300                                                      \\\\\n",
       "\t X514\\_Group1C\\_142dpi\\_LV\\_bottom\\_164\\_G\\_A4\\_P132.mzXML & 514                                                               & Group1C                                                           & 142dpi                                                            & LV\\_bottom                                                       & A4                                                                & P132                                                              & 0.003006615                                                       & 0.000063800                                                       & 0                                                                 & ...                                                               & 0.000099100                                                       & 0.000930076                                                       & 0.000245202                                                       & 0.000234970                                                       & 0                                                                 & 0                                                                 & 0.001150258                                                       & 0.00e+00                                                          & 0.000713691                                                       & 0.000174109                                                      \\\\\n",
       "\t X515\\_Group1C\\_142dpi\\_LV\\_bottom\\_165\\_G\\_A5\\_P132.mzXML & 515                                                               & Group1C                                                           & 142dpi                                                            & LV\\_bottom                                                       & A5                                                                & P132                                                              & 0.002858430                                                       & 0.000000000                                                       & 0                                                                 & ...                                                               & 0.000178807                                                       & 0.000744165                                                       & 0.000302164                                                       & 0.000251297                                                       & 0                                                                 & 0                                                                 & 0.001161454                                                       & 4.09e-05                                                          & 0.000765030                                                       & 0.000136971                                                      \\\\\n",
       "\t X531\\_Group1C\\_142dpi\\_LV\\_bottom\\_166\\_G\\_A6\\_P132.mzXML & 531                                                               & Group1C                                                           & 142dpi                                                            & LV\\_bottom                                                       & A6                                                                & P132                                                              & 0.003596194                                                       & 0.000107639                                                       & 0                                                                 & ...                                                               & 0.000280413                                                       & 0.000626765                                                       & 0.000345920                                                       & 0.000112422                                                       & 0                                                                 & 0                                                                 & 0.001883720                                                       & 8.53e-05                                                          & 0.001150782                                                       & 0.000161828                                                      \\\\\n",
       "\\end{tabular}\n"
      ],
      "text/markdown": [
       "\n",
       "| filename | MouseID | Treatmentgroup | DPI | organ | well_position | plate | X105.07_2.767 | X119.049_2.765 | X128.018_0.344 | ... | X599.241_2.765 | X604.362_2.948 | X620.356_2.913 | X682.363_3.329 | X682.364_3.313 | X764.524_3.729 | X790.38_2.768 | X792.329_2.764 | X795.335_2.768 | X811.309_2.773 |\n",
       "|---|---|---|---|---|---|---|---|---|---|---|---|---|---|---|---|---|---|---|---|---|\n",
       "| X511_Group1C_142dpi_LV_bottom_161_G_A1_P132.mzXML | 511                                               | Group1C                                           | 142dpi                                            | LV_bottom                                         | A1                                                | P132                                              | 0.001681762                                       | 0.000000000                                       | 0                                                 | ...                                               | 0.000000000                                       | 0.001281931                                       | 0.000659514                                       | 0.000320160                                       | 0                                                 | 0                                                 | 0.000370969                                       | 0.00e+00                                          | 0.000245626                                       | 0.000038000                                       |\n",
       "| X512_Group1C_142dpi_LV_bottom_162_G_A2_P132.mzXML | 512                                               | Group1C                                           | 142dpi                                            | LV_bottom                                         | A2                                                | P132                                              | 0.001668227                                       | 0.000020400                                       | 0                                                 | ...                                               | 0.000050000                                       | 0.000671298                                       | 0.000483435                                       | 0.000179208                                       | 0                                                 | 0                                                 | 0.000586134                                       | 0.00e+00                                          | 0.000211682                                       | 0.000020900                                       |\n",
       "| X513_Group1C_142dpi_LV_bottom_163_G_A3_P132.mzXML | 513                                               | Group1C                                           | 142dpi                                            | LV_bottom                                         | A3                                                | P132                                              | 0.002195508                                       | 0.000000000                                       | 0                                                 | ...                                               | 0.000082900                                       | 0.000706708                                       | 0.000317234                                       | 0.000099800                                       | 0                                                 | 0                                                 | 0.001133874                                       | 0.00e+00                                          | 0.000741259                                       | 0.000095300                                       |\n",
       "| X514_Group1C_142dpi_LV_bottom_164_G_A4_P132.mzXML | 514                                               | Group1C                                           | 142dpi                                            | LV_bottom                                         | A4                                                | P132                                              | 0.003006615                                       | 0.000063800                                       | 0                                                 | ...                                               | 0.000099100                                       | 0.000930076                                       | 0.000245202                                       | 0.000234970                                       | 0                                                 | 0                                                 | 0.001150258                                       | 0.00e+00                                          | 0.000713691                                       | 0.000174109                                       |\n",
       "| X515_Group1C_142dpi_LV_bottom_165_G_A5_P132.mzXML | 515                                               | Group1C                                           | 142dpi                                            | LV_bottom                                         | A5                                                | P132                                              | 0.002858430                                       | 0.000000000                                       | 0                                                 | ...                                               | 0.000178807                                       | 0.000744165                                       | 0.000302164                                       | 0.000251297                                       | 0                                                 | 0                                                 | 0.001161454                                       | 4.09e-05                                          | 0.000765030                                       | 0.000136971                                       |\n",
       "| X531_Group1C_142dpi_LV_bottom_166_G_A6_P132.mzXML | 531                                               | Group1C                                           | 142dpi                                            | LV_bottom                                         | A6                                                | P132                                              | 0.003596194                                       | 0.000107639                                       | 0                                                 | ...                                               | 0.000280413                                       | 0.000626765                                       | 0.000345920                                       | 0.000112422                                       | 0                                                 | 0                                                 | 0.001883720                                       | 8.53e-05                                          | 0.001150782                                       | 0.000161828                                       |\n",
       "\n"
      ],
      "text/plain": [
       "  filename                                          MouseID Treatmentgroup\n",
       "1 X511_Group1C_142dpi_LV_bottom_161_G_A1_P132.mzXML 511     Group1C       \n",
       "2 X512_Group1C_142dpi_LV_bottom_162_G_A2_P132.mzXML 512     Group1C       \n",
       "3 X513_Group1C_142dpi_LV_bottom_163_G_A3_P132.mzXML 513     Group1C       \n",
       "4 X514_Group1C_142dpi_LV_bottom_164_G_A4_P132.mzXML 514     Group1C       \n",
       "5 X515_Group1C_142dpi_LV_bottom_165_G_A5_P132.mzXML 515     Group1C       \n",
       "6 X531_Group1C_142dpi_LV_bottom_166_G_A6_P132.mzXML 531     Group1C       \n",
       "  DPI    organ     well_position plate X105.07_2.767 X119.049_2.765\n",
       "1 142dpi LV_bottom A1            P132  0.001681762   0.000000000   \n",
       "2 142dpi LV_bottom A2            P132  0.001668227   0.000020400   \n",
       "3 142dpi LV_bottom A3            P132  0.002195508   0.000000000   \n",
       "4 142dpi LV_bottom A4            P132  0.003006615   0.000063800   \n",
       "5 142dpi LV_bottom A5            P132  0.002858430   0.000000000   \n",
       "6 142dpi LV_bottom A6            P132  0.003596194   0.000107639   \n",
       "  X128.018_0.344 ... X599.241_2.765 X604.362_2.948 X620.356_2.913\n",
       "1 0              ... 0.000000000    0.001281931    0.000659514   \n",
       "2 0              ... 0.000050000    0.000671298    0.000483435   \n",
       "3 0              ... 0.000082900    0.000706708    0.000317234   \n",
       "4 0              ... 0.000099100    0.000930076    0.000245202   \n",
       "5 0              ... 0.000178807    0.000744165    0.000302164   \n",
       "6 0              ... 0.000280413    0.000626765    0.000345920   \n",
       "  X682.363_3.329 X682.364_3.313 X764.524_3.729 X790.38_2.768 X792.329_2.764\n",
       "1 0.000320160    0              0              0.000370969   0.00e+00      \n",
       "2 0.000179208    0              0              0.000586134   0.00e+00      \n",
       "3 0.000099800    0              0              0.001133874   0.00e+00      \n",
       "4 0.000234970    0              0              0.001150258   0.00e+00      \n",
       "5 0.000251297    0              0              0.001161454   4.09e-05      \n",
       "6 0.000112422    0              0              0.001883720   8.53e-05      \n",
       "  X795.335_2.768 X811.309_2.773\n",
       "1 0.000245626    0.000038000   \n",
       "2 0.000211682    0.000020900   \n",
       "3 0.000741259    0.000095300   \n",
       "4 0.000713691    0.000174109   \n",
       "5 0.000765030    0.000136971   \n",
       "6 0.001150782    0.000161828   "
      ]
     },
     "metadata": {},
     "output_type": "display_data"
    },
    {
     "data": {
      "text/html": [
       "<ol class=list-inline>\n",
       "\t<li>30</li>\n",
       "\t<li>62</li>\n",
       "</ol>\n"
      ],
      "text/latex": [
       "\\begin{enumerate*}\n",
       "\\item 30\n",
       "\\item 62\n",
       "\\end{enumerate*}\n"
      ],
      "text/markdown": [
       "1. 30\n",
       "2. 62\n",
       "\n",
       "\n"
      ],
      "text/plain": [
       "[1] 30 62"
      ]
     },
     "metadata": {},
     "output_type": "display_data"
    },
    {
     "data": {
      "text/html": [
       "<ol class=list-inline>\n",
       "\t<li>30</li>\n",
       "\t<li>55</li>\n",
       "</ol>\n"
      ],
      "text/latex": [
       "\\begin{enumerate*}\n",
       "\\item 30\n",
       "\\item 55\n",
       "\\end{enumerate*}\n"
      ],
      "text/markdown": [
       "1. 30\n",
       "2. 55\n",
       "\n",
       "\n"
      ],
      "text/plain": [
       "[1] 30 55"
      ]
     },
     "metadata": {},
     "output_type": "display_data"
    },
    {
     "data": {
      "text/html": [
       "<ol class=list-inline>\n",
       "\t<li>30</li>\n",
       "\t<li>55</li>\n",
       "</ol>\n"
      ],
      "text/latex": [
       "\\begin{enumerate*}\n",
       "\\item 30\n",
       "\\item 55\n",
       "\\end{enumerate*}\n"
      ],
      "text/markdown": [
       "1. 30\n",
       "2. 55\n",
       "\n",
       "\n"
      ],
      "text/plain": [
       "[1] 30 55"
      ]
     },
     "metadata": {},
     "output_type": "display_data"
    },
    {
     "data": {
      "text/html": [
       "<ol class=list-inline>\n",
       "\t<li>30</li>\n",
       "\t<li>62</li>\n",
       "</ol>\n"
      ],
      "text/latex": [
       "\\begin{enumerate*}\n",
       "\\item 30\n",
       "\\item 62\n",
       "\\end{enumerate*}\n"
      ],
      "text/markdown": [
       "1. 30\n",
       "2. 62\n",
       "\n",
       "\n"
      ],
      "text/plain": [
       "[1] 30 62"
      ]
     },
     "metadata": {},
     "output_type": "display_data"
    }
   ],
   "source": [
    "noMeta<-features_pos[,8:62]\n",
    "head(noMeta)\n",
    "not_zero<-which(colSums(noMeta) != 0)\n",
    "head(not_zero)\n",
    "nonzero <- noMeta[, not_zero] # all the non-zero columns\n",
    "nonzero\n",
    "#add back metadata\n",
    "nonzero_wMeta<-cbind(features_pos[,1:7], nonzero)\n",
    "head(nonzero_wMeta)\n",
    "dim(features_pos)\n",
    "dim(noMeta)\n",
    "dim(nonzero)\n",
    "dim(nonzero_wMeta)"
   ]
  },
  {
   "cell_type": "code",
   "execution_count": 5,
   "metadata": {
    "scrolled": true
   },
   "outputs": [
    {
     "name": "stderr",
     "output_type": "stream",
     "text": [
      "Warning message in wilcox.test.default(x = c(0.000193567, 0.000184756, 0, 0.000155738, :\n",
      "\"cannot compute exact p-value with ties\"Warning message in wilcox.test.default(x = c(0, 0.00012669, 5.22e-05, 0.000133498, :\n",
      "\"cannot compute exact p-value with ties\"Warning message in wilcox.test.default(x = c(0.000135214, 0.000352842, 0.000475764, :\n",
      "\"cannot compute exact p-value with ties\"Warning message in wilcox.test.default(x = c(0, 0.000304468, 0.000206789, 0.000380764, :\n",
      "\"cannot compute exact p-value with ties\"Warning message in wilcox.test.default(x = c(6.76e-05, 0, 0.000253538, 0, 0, 0.000195991, :\n",
      "\"cannot compute exact p-value with ties\"Warning message in wilcox.test.default(x = c(0.000160405, 0.000107326, 8.77e-05, :\n",
      "\"cannot compute exact p-value with ties\"Warning message in wilcox.test.default(x = c(0, 0, 0.000401828, 0, 0, 0.000673406, :\n",
      "\"cannot compute exact p-value with ties\"Warning message in wilcox.test.default(x = c(0, 0, 0.000912952, 0.000356533, 0, :\n",
      "\"cannot compute exact p-value with ties\"Warning message in wilcox.test.default(x = c(0.000622455, 0.000472353, 0.000655783, :\n",
      "\"cannot compute exact p-value with ties\"Warning message in wilcox.test.default(x = c(0, 0, 0, 0, 0, 0, 0, 0, 0, 0, 0, 0, :\n",
      "\"cannot compute exact p-value with ties\"Warning message in wilcox.test.default(x = c(0.000153428, 0.000183308, 0.000306893, :\n",
      "\"cannot compute exact p-value with ties\"Warning message in wilcox.test.default(x = c(0, 0.0001328, 0.000283549, 0, 0, 0, :\n",
      "\"cannot compute exact p-value with ties\"Warning message in wilcox.test.default(x = c(0.000801806, 0.000406906, 0, 8.82e-05, :\n",
      "\"cannot compute exact p-value with ties\"Warning message in wilcox.test.default(x = c(3.9e-05, 4.95e-05, 8.14e-05, 3.21e-05, :\n",
      "\"cannot compute exact p-value with ties\"Warning message in wilcox.test.default(x = c(6.74e-05, 2.45e-05, 3.83e-05, 2.65e-05, :\n",
      "\"cannot compute exact p-value with ties\"Warning message in wilcox.test.default(x = c(8.73e-05, 3.28e-05, 0, 0, 0, 0, 0, :\n",
      "\"cannot compute exact p-value with ties\"Warning message in wilcox.test.default(x = c(7.98e-05, 6.24e-05, 8.95e-05, 0, 0, :\n",
      "\"cannot compute exact p-value with ties\"Warning message in wilcox.test.default(x = c(0, 0, 0, 9.48e-05, 0.000107359, 0, :\n",
      "\"cannot compute exact p-value with ties\"Warning message in wilcox.test.default(x = c(0.000126836, 6.31e-05, 5.38e-05, 6.48e-05, :\n",
      "\"cannot compute exact p-value with ties\"Warning message in wilcox.test.default(x = c(3.73e-05, 0, 0, 0, 0, 0, 0, 0, 0, 0, :\n",
      "\"cannot compute exact p-value with ties\"Warning message in wilcox.test.default(x = c(4.06e-05, 0, 0, 0, 0, 0, 0, 0, 0, 0, :\n",
      "\"cannot compute exact p-value with ties\"Warning message in wilcox.test.default(x = c(0.000534538, 0.000330078, 0.000209134, :\n",
      "\"cannot compute exact p-value with ties\"Warning message in wilcox.test.default(x = c(0.000121747, 8.7e-05, 5.91e-05, 4.56e-05, :\n",
      "\"cannot compute exact p-value with ties\"Warning message in wilcox.test.default(x = c(0.000101805, 4.3e-05, 0, 0, 0, 0, 0, :\n",
      "\"cannot compute exact p-value with ties\"Warning message in wilcox.test.default(x = c(0.000214529, 0.000161892, 0.000174929, :\n",
      "\"cannot compute exact p-value with ties\"Warning message in wilcox.test.default(x = c(0.000286429, 0.000153336, 0.000142754, :\n",
      "\"cannot compute exact p-value with ties\"Warning message in wilcox.test.default(x = c(0.00012043, 0.000101067, 8.72e-05, :\n",
      "\"cannot compute exact p-value with ties\"Warning message in wilcox.test.default(x = c(0.000271626, 0.000179447, 0.000129207, :\n",
      "\"cannot compute exact p-value with ties\"Warning message in wilcox.test.default(x = c(0.00010927, 3.75e-05, 0, 0, 0, 0, 0, :\n",
      "\"cannot compute exact p-value with ties\"Warning message in wilcox.test.default(x = c(5.65e-05, 0, 2.97e-05, 3.53e-05, 0, :\n",
      "\"cannot compute exact p-value with ties\"Warning message in wilcox.test.default(x = c(0.000113126, 3.34e-05, 4.28e-05, 5.91e-05, :\n",
      "\"cannot compute exact p-value with ties\"Warning message in wilcox.test.default(x = c(0.000310167, 0.00037276, 0, 0.00039461, :\n",
      "\"cannot compute exact p-value with ties\"Warning message in wilcox.test.default(x = c(0, 0, 0, 0, 0, 0, 0, 0, 0, 0, 0, 0, :\n",
      "\"cannot compute exact p-value with ties\"Warning message in wilcox.test.default(x = c(0.009811577, 0.008166584, 0.008872355, :\n",
      "\"cannot compute exact p-value with ties\"Warning message in wilcox.test.default(x = c(0.000481787, 0.000395524, 0.000304929, :\n",
      "\"cannot compute exact p-value with ties\"Warning message in wilcox.test.default(x = c(0, 0, 0, 0, 0, 0, 0, 0, 0, 0, 0, 0, :\n",
      "\"cannot compute exact p-value with ties\"Warning message in wilcox.test.default(x = c(7.16e-05, 0.000190062, 7.49e-05, 0.000206465, :\n",
      "\"cannot compute exact p-value with ties\"Warning message in wilcox.test.default(x = c(0.000812356, 0.001266247, 0, 0.00048807, :\n",
      "\"cannot compute exact p-value with ties\"Warning message in wilcox.test.default(x = c(0.000176765, 7.59e-05, 9.78e-05, 4.59e-05, :\n",
      "\"cannot compute exact p-value with ties\"Warning message in wilcox.test.default(x = c(0.000231479, 0.000242717, 0.000195685, :\n",
      "\"cannot compute exact p-value with ties\""
     ]
    },
    {
     "data": {
      "text/html": [
       "<ol class=list-inline>\n",
       "\t<li>0.0185537262328588</li>\n",
       "\t<li>0.136869583181483</li>\n",
       "\t<li>8.25516685187575e-05</li>\n",
       "\t<li>0.000360388690756871</li>\n",
       "\t<li>0.000230880842500221</li>\n",
       "\t<li>0.0294964746728803</li>\n",
       "</ol>\n"
      ],
      "text/latex": [
       "\\begin{enumerate*}\n",
       "\\item 0.0185537262328588\n",
       "\\item 0.136869583181483\n",
       "\\item 8.25516685187575e-05\n",
       "\\item 0.000360388690756871\n",
       "\\item 0.000230880842500221\n",
       "\\item 0.0294964746728803\n",
       "\\end{enumerate*}\n"
      ],
      "text/markdown": [
       "1. 0.0185537262328588\n",
       "2. 0.136869583181483\n",
       "3. 8.25516685187575e-05\n",
       "4. 0.000360388690756871\n",
       "5. 0.000230880842500221\n",
       "6. 0.0294964746728803\n",
       "\n",
       "\n"
      ],
      "text/plain": [
       "[1] 1.855373e-02 1.368696e-01 8.255167e-05 3.603887e-04 2.308808e-04\n",
       "[6] 2.949647e-02"
      ]
     },
     "metadata": {},
     "output_type": "display_data"
    },
    {
     "data": {
      "text/html": [
       "<ol class=list-inline>\n",
       "\t<li>0.0261655113540317</li>\n",
       "\t<li>0.142143063104427</li>\n",
       "\t<li>0.000412758342593788</li>\n",
       "\t<li>0.000991068899581394</li>\n",
       "\t<li>0.000846563089167476</li>\n",
       "\t<li>0.0360512468224092</li>\n",
       "</ol>\n"
      ],
      "text/latex": [
       "\\begin{enumerate*}\n",
       "\\item 0.0261655113540317\n",
       "\\item 0.142143063104427\n",
       "\\item 0.000412758342593788\n",
       "\\item 0.000991068899581394\n",
       "\\item 0.000846563089167476\n",
       "\\item 0.0360512468224092\n",
       "\\end{enumerate*}\n"
      ],
      "text/markdown": [
       "1. 0.0261655113540317\n",
       "2. 0.142143063104427\n",
       "3. 0.000412758342593788\n",
       "4. 0.000991068899581394\n",
       "5. 0.000846563089167476\n",
       "6. 0.0360512468224092\n",
       "\n",
       "\n"
      ],
      "text/plain": [
       "[1] 0.0261655114 0.1421430631 0.0004127583 0.0009910689 0.0008465631\n",
       "[6] 0.0360512468"
      ]
     },
     "metadata": {},
     "output_type": "display_data"
    }
   ],
   "source": [
    "pval<-c()#create an empty vector with value pval\n",
    "\n",
    "# 8 to the end of each row\n",
    "for (i in 8:ncol(nonzero_wMeta)) \n",
    "pval<-c(pval,wilcox.test(nonzero_wMeta[,i]~nonzero_wMeta$Treatmentgroup)$p.value) #assign to pval the output of the Mann-Whitney-Wilcoxon test\n",
    "    #don't know why there is that first pval in c(pval...) but it doesn't work without it\n",
    "    #$p.value is because there are many output lines from wilcox.test; you want to keep only the one that's called $p.value because that's where the nbr is\n",
    "\n",
    "head(pval) #to check\n",
    "pAdj <- p.adjust(pval, method = c(\"fdr\"), n=length(pval)) \n",
    "head(pAdj) \n",
    "\n"
   ]
  },
  {
   "cell_type": "code",
   "execution_count": 6,
   "metadata": {
    "scrolled": true
   },
   "outputs": [
    {
     "data": {
      "text/html": [
       "55"
      ],
      "text/latex": [
       "55"
      ],
      "text/markdown": [
       "55"
      ],
      "text/plain": [
       "[1] 55"
      ]
     },
     "metadata": {},
     "output_type": "display_data"
    }
   ],
   "source": [
    "length(pval)"
   ]
  },
  {
   "cell_type": "code",
   "execution_count": 7,
   "metadata": {
    "scrolled": true
   },
   "outputs": [
    {
     "data": {
      "text/html": [
       "55"
      ],
      "text/latex": [
       "55"
      ],
      "text/markdown": [
       "55"
      ],
      "text/plain": [
       "[1] 55"
      ]
     },
     "metadata": {},
     "output_type": "display_data"
    }
   ],
   "source": [
    "length(pAdj)"
   ]
  },
  {
   "cell_type": "code",
   "execution_count": 8,
   "metadata": {},
   "outputs": [
    {
     "data": {
      "text/html": [
       "<ol class=list-inline>\n",
       "\t<li>2</li>\n",
       "\t<li>55</li>\n",
       "</ol>\n"
      ],
      "text/latex": [
       "\\begin{enumerate*}\n",
       "\\item 2\n",
       "\\item 55\n",
       "\\end{enumerate*}\n"
      ],
      "text/markdown": [
       "1. 2\n",
       "2. 55\n",
       "\n",
       "\n"
      ],
      "text/plain": [
       "[1]  2 55"
      ]
     },
     "metadata": {},
     "output_type": "display_data"
    },
    {
     "data": {
      "text/html": [
       "<table>\n",
       "<thead><tr><th></th><th scope=col>X105.07_2.767</th><th scope=col>X119.049_2.765</th><th scope=col>X128.018_0.344</th></tr></thead>\n",
       "<tbody>\n",
       "\t<tr><th scope=row>Group15</th><td>0.004205396 </td><td>9.481807e-05</td><td>0.0001032189</td></tr>\n",
       "\t<tr><th scope=row>Group1C</th><td>0.002891567 </td><td>3.218367e-05</td><td>0.0000000000</td></tr>\n",
       "</tbody>\n",
       "</table>\n"
      ],
      "text/latex": [
       "\\begin{tabular}{r|lll}\n",
       "  & X105.07\\_2.767 & X119.049\\_2.765 & X128.018\\_0.344\\\\\n",
       "\\hline\n",
       "\tGroup15 & 0.004205396  & 9.481807e-05 & 0.0001032189\\\\\n",
       "\tGroup1C & 0.002891567  & 3.218367e-05 & 0.0000000000\\\\\n",
       "\\end{tabular}\n"
      ],
      "text/markdown": [
       "\n",
       "| <!--/--> | X105.07_2.767 | X119.049_2.765 | X128.018_0.344 |\n",
       "|---|---|---|---|\n",
       "| Group15 | 0.004205396  | 9.481807e-05 | 0.0001032189 |\n",
       "| Group1C | 0.002891567  | 3.218367e-05 | 0.0000000000 |\n",
       "\n"
      ],
      "text/plain": [
       "        X105.07_2.767 X119.049_2.765 X128.018_0.344\n",
       "Group15 0.004205396   9.481807e-05   0.0001032189  \n",
       "Group1C 0.002891567   3.218367e-05   0.0000000000  "
      ]
     },
     "metadata": {},
     "output_type": "display_data"
    },
    {
     "data": {
      "text/html": [
       "<dl class=dl-horizontal>\n",
       "\t<dt>X105.07_2.767</dt>\n",
       "\t\t<dd>1.45436545150175</dd>\n",
       "\t<dt>X119.049_2.765</dt>\n",
       "\t\t<dd>2.9461548818759</dd>\n",
       "\t<dt>X128.018_0.344</dt>\n",
       "\t\t<dd>Inf</dd>\n",
       "\t<dt>X136.062_0.301</dt>\n",
       "\t\t<dd>0.38074138624435</dd>\n",
       "\t<dt>X136.097_0.551</dt>\n",
       "\t\t<dd>Inf</dd>\n",
       "\t<dt>X137.046_0.31</dt>\n",
       "\t\t<dd>0.768540419992975</dd>\n",
       "</dl>\n"
      ],
      "text/latex": [
       "\\begin{description*}\n",
       "\\item[X105.07\\textbackslash{}\\_2.767] 1.45436545150175\n",
       "\\item[X119.049\\textbackslash{}\\_2.765] 2.9461548818759\n",
       "\\item[X128.018\\textbackslash{}\\_0.344] Inf\n",
       "\\item[X136.062\\textbackslash{}\\_0.301] 0.38074138624435\n",
       "\\item[X136.097\\textbackslash{}\\_0.551] Inf\n",
       "\\item[X137.046\\textbackslash{}\\_0.31] 0.768540419992975\n",
       "\\end{description*}\n"
      ],
      "text/markdown": [
       "X105.07_2.767\n",
       ":   1.45436545150175X119.049_2.765\n",
       ":   2.9461548818759X128.018_0.344\n",
       ":   InfX136.062_0.301\n",
       ":   0.38074138624435X136.097_0.551\n",
       ":   InfX137.046_0.31\n",
       ":   0.768540419992975\n",
       "\n"
      ],
      "text/plain": [
       " X105.07_2.767 X119.049_2.765 X128.018_0.344 X136.062_0.301 X136.097_0.551 \n",
       "     1.4543655      2.9461549            Inf      0.3807414            Inf \n",
       " X137.046_0.31 \n",
       "     0.7685404 "
      ]
     },
     "metadata": {},
     "output_type": "display_data"
    },
    {
     "data": {
      "text/html": [
       "<ol class=list-inline>\n",
       "\t<li>'numeric'</li>\n",
       "\t<li>'vector'</li>\n",
       "</ol>\n"
      ],
      "text/latex": [
       "\\begin{enumerate*}\n",
       "\\item 'numeric'\n",
       "\\item 'vector'\n",
       "\\end{enumerate*}\n"
      ],
      "text/markdown": [
       "1. 'numeric'\n",
       "2. 'vector'\n",
       "\n",
       "\n"
      ],
      "text/plain": [
       "[1] \"numeric\" \"vector\" "
      ]
     },
     "metadata": {},
     "output_type": "display_data"
    }
   ],
   "source": [
    "# change the column name, you want to see infected and naive so it should be State\n",
    "avg<- apply(nonzero_wMeta[,8:ncol(nonzero_wMeta)], 2, function(x) tapply(x, nonzero_wMeta$Treatmentgroup, function(x) mean(x))) \n",
    "\n",
    "dim(avg) #to check\n",
    "\n",
    "avg[,1:3]#to check\n",
    "\n",
    "fch <- apply(avg, 2, function(x) x[1]/x[2]) #calculate fold change\n",
    "\n",
    "head(fch) #to check it's ok\n",
    "is(fch)"
   ]
  },
  {
   "cell_type": "code",
   "execution_count": 9,
   "metadata": {
    "scrolled": true
   },
   "outputs": [
    {
     "data": {
      "text/html": [
       "<dl class=dl-horizontal>\n",
       "\t<dt>X105.07_2.767</dt>\n",
       "\t\t<dd>1.45436545150175</dd>\n",
       "\t<dt>X119.049_2.765</dt>\n",
       "\t\t<dd>2.9461548818759</dd>\n",
       "\t<dt>X128.018_0.344</dt>\n",
       "\t\t<dd>Inf</dd>\n",
       "\t<dt>X136.062_0.301</dt>\n",
       "\t\t<dd>0.38074138624435</dd>\n",
       "\t<dt>X136.097_0.551</dt>\n",
       "\t\t<dd>Inf</dd>\n",
       "\t<dt>X137.046_0.31</dt>\n",
       "\t\t<dd>0.768540419992975</dd>\n",
       "\t<dt>X137.046_0.42</dt>\n",
       "\t\t<dd>0.687851253091613</dd>\n",
       "\t<dt>X203.007_0.309</dt>\n",
       "\t\t<dd>0.44841421223197</dd>\n",
       "\t<dt>X249.112_2.768</dt>\n",
       "\t\t<dd>3.69494252873563</dd>\n",
       "\t<dt>X251.037_0.323</dt>\n",
       "\t\t<dd>0.562508996239692</dd>\n",
       "\t<dt>X256.264_3.225</dt>\n",
       "\t\t<dd>0.399810511035155</dd>\n",
       "\t<dt>X258.207_2.775</dt>\n",
       "\t\t<dd>0.53528505623464</dd>\n",
       "\t<dt>X267.123_2.767</dt>\n",
       "\t\t<dd>1.42918633328645</dd>\n",
       "\t<dt>X285.133_2.768</dt>\n",
       "\t\t<dd>1.54888455168588</dd>\n",
       "\t<dt>X291.146_2.39</dt>\n",
       "\t\t<dd>0.664419441062261</dd>\n",
       "\t<dt>X296.258_2.976</dt>\n",
       "\t\t<dd>0</dd>\n",
       "\t<dt>X301.115_0.328</dt>\n",
       "\t\t<dd>0.465266942467491</dd>\n",
       "\t<dt>X301.115_0.413</dt>\n",
       "\t\t<dd>0.382933619453885</dd>\n",
       "\t<dt>X324.327_3.455</dt>\n",
       "\t\t<dd>Inf</dd>\n",
       "\t<dt>X351.217_2.741</dt>\n",
       "\t\t<dd>0.17072631354948</dd>\n",
       "\t<dt>X352.306_2.997</dt>\n",
       "\t\t<dd>18.6610738255034</dd>\n",
       "\t<dt>X369.17_2.767</dt>\n",
       "\t\t<dd>1.685838503195</dd>\n",
       "\t<dt>X380.993_2.164</dt>\n",
       "\t\t<dd>0.108472434310989</dd>\n",
       "\t<dt>X386.717_2.856</dt>\n",
       "\t\t<dd>0.434564484518037</dd>\n",
       "\t<dt>X387.193_2.842</dt>\n",
       "\t\t<dd>0.71908749660527</dd>\n",
       "\t<dt>X396.332_2.991</dt>\n",
       "\t\t<dd>3.71283722340103</dd>\n",
       "\t<dt>X397.22_2.071</dt>\n",
       "\t\t<dd>0.0446874097715671</dd>\n",
       "\t<dt>X400.97_2.127</dt>\n",
       "\t\t<dd>0.0431783980388925</dd>\n",
       "\t<dt>X416.337_2.79</dt>\n",
       "\t\t<dd>15.7756698412698</dd>\n",
       "\t<dt>X420.899_2.103</dt>\n",
       "\t\t<dd>0.247068378212055</dd>\n",
       "\t<dt>X426.484_2.164</dt>\n",
       "\t\t<dd>0.109507791573334</dd>\n",
       "\t<dt>X430.223_2.769</dt>\n",
       "\t\t<dd>1.91114305241878</dd>\n",
       "\t<dt>X440.338_2.763</dt>\n",
       "\t\t<dd>19.6017</dd>\n",
       "\t<dt>X440.359_2.985</dt>\n",
       "\t\t<dd>4.24333888703765</dd>\n",
       "\t<dt>X442.353_2.819</dt>\n",
       "\t\t<dd>Inf</dd>\n",
       "\t<dt>X458.23_2.165</dt>\n",
       "\t\t<dd>0.0730634477663802</dd>\n",
       "\t<dt>X466.25_2.226</dt>\n",
       "\t\t<dd>0.0885002163338622</dd>\n",
       "\t<dt>X475.989_2.164</dt>\n",
       "\t\t<dd>0.315930101113374</dd>\n",
       "\t<dt>X476.24_2.164</dt>\n",
       "\t\t<dd>0.33072928661847</dd>\n",
       "\t<dt>X484.385_2.982</dt>\n",
       "\t\t<dd>4.88726019529006</dd>\n",
       "\t<dt>X489.228_2.768</dt>\n",
       "\t\t<dd>2.1696746740304</dd>\n",
       "\t<dt>X494.325_2.865</dt>\n",
       "\t\t<dd>1.36635246112621</dd>\n",
       "\t<dt>X570.357_2.934</dt>\n",
       "\t\t<dd>0.536651745933222</dd>\n",
       "\t<dt>X580.361_2.989</dt>\n",
       "\t\t<dd>0</dd>\n",
       "\t<dt>X580.362_2.984</dt>\n",
       "\t\t<dd>4.38326185231478</dd>\n",
       "\t<dt>X599.241_2.765</dt>\n",
       "\t\t<dd>1.99047371278265</dd>\n",
       "\t<dt>X604.362_2.948</dt>\n",
       "\t\t<dd>0.769758338969586</dd>\n",
       "\t<dt>X620.356_2.913</dt>\n",
       "\t\t<dd>0.73028982250142</dd>\n",
       "\t<dt>X682.363_3.329</dt>\n",
       "\t\t<dd>0</dd>\n",
       "\t<dt>X682.364_3.313</dt>\n",
       "\t\t<dd>8.79351880610233</dd>\n",
       "\t<dt>X764.524_3.729</dt>\n",
       "\t\t<dd>2.8155096607794</dd>\n",
       "\t<dt>X790.38_2.768</dt>\n",
       "\t\t<dd>1.75484460888818</dd>\n",
       "\t<dt>X792.329_2.764</dt>\n",
       "\t\t<dd>3.74223241590214</dd>\n",
       "\t<dt>X795.335_2.768</dt>\n",
       "\t\t<dd>1.68911065867283</dd>\n",
       "\t<dt>X811.309_2.773</dt>\n",
       "\t\t<dd>1.17693335630132</dd>\n",
       "</dl>\n"
      ],
      "text/latex": [
       "\\begin{description*}\n",
       "\\item[X105.07\\textbackslash{}\\_2.767] 1.45436545150175\n",
       "\\item[X119.049\\textbackslash{}\\_2.765] 2.9461548818759\n",
       "\\item[X128.018\\textbackslash{}\\_0.344] Inf\n",
       "\\item[X136.062\\textbackslash{}\\_0.301] 0.38074138624435\n",
       "\\item[X136.097\\textbackslash{}\\_0.551] Inf\n",
       "\\item[X137.046\\textbackslash{}\\_0.31] 0.768540419992975\n",
       "\\item[X137.046\\textbackslash{}\\_0.42] 0.687851253091613\n",
       "\\item[X203.007\\textbackslash{}\\_0.309] 0.44841421223197\n",
       "\\item[X249.112\\textbackslash{}\\_2.768] 3.69494252873563\n",
       "\\item[X251.037\\textbackslash{}\\_0.323] 0.562508996239692\n",
       "\\item[X256.264\\textbackslash{}\\_3.225] 0.399810511035155\n",
       "\\item[X258.207\\textbackslash{}\\_2.775] 0.53528505623464\n",
       "\\item[X267.123\\textbackslash{}\\_2.767] 1.42918633328645\n",
       "\\item[X285.133\\textbackslash{}\\_2.768] 1.54888455168588\n",
       "\\item[X291.146\\textbackslash{}\\_2.39] 0.664419441062261\n",
       "\\item[X296.258\\textbackslash{}\\_2.976] 0\n",
       "\\item[X301.115\\textbackslash{}\\_0.328] 0.465266942467491\n",
       "\\item[X301.115\\textbackslash{}\\_0.413] 0.382933619453885\n",
       "\\item[X324.327\\textbackslash{}\\_3.455] Inf\n",
       "\\item[X351.217\\textbackslash{}\\_2.741] 0.17072631354948\n",
       "\\item[X352.306\\textbackslash{}\\_2.997] 18.6610738255034\n",
       "\\item[X369.17\\textbackslash{}\\_2.767] 1.685838503195\n",
       "\\item[X380.993\\textbackslash{}\\_2.164] 0.108472434310989\n",
       "\\item[X386.717\\textbackslash{}\\_2.856] 0.434564484518037\n",
       "\\item[X387.193\\textbackslash{}\\_2.842] 0.71908749660527\n",
       "\\item[X396.332\\textbackslash{}\\_2.991] 3.71283722340103\n",
       "\\item[X397.22\\textbackslash{}\\_2.071] 0.0446874097715671\n",
       "\\item[X400.97\\textbackslash{}\\_2.127] 0.0431783980388925\n",
       "\\item[X416.337\\textbackslash{}\\_2.79] 15.7756698412698\n",
       "\\item[X420.899\\textbackslash{}\\_2.103] 0.247068378212055\n",
       "\\item[X426.484\\textbackslash{}\\_2.164] 0.109507791573334\n",
       "\\item[X430.223\\textbackslash{}\\_2.769] 1.91114305241878\n",
       "\\item[X440.338\\textbackslash{}\\_2.763] 19.6017\n",
       "\\item[X440.359\\textbackslash{}\\_2.985] 4.24333888703765\n",
       "\\item[X442.353\\textbackslash{}\\_2.819] Inf\n",
       "\\item[X458.23\\textbackslash{}\\_2.165] 0.0730634477663802\n",
       "\\item[X466.25\\textbackslash{}\\_2.226] 0.0885002163338622\n",
       "\\item[X475.989\\textbackslash{}\\_2.164] 0.315930101113374\n",
       "\\item[X476.24\\textbackslash{}\\_2.164] 0.33072928661847\n",
       "\\item[X484.385\\textbackslash{}\\_2.982] 4.88726019529006\n",
       "\\item[X489.228\\textbackslash{}\\_2.768] 2.1696746740304\n",
       "\\item[X494.325\\textbackslash{}\\_2.865] 1.36635246112621\n",
       "\\item[X570.357\\textbackslash{}\\_2.934] 0.536651745933222\n",
       "\\item[X580.361\\textbackslash{}\\_2.989] 0\n",
       "\\item[X580.362\\textbackslash{}\\_2.984] 4.38326185231478\n",
       "\\item[X599.241\\textbackslash{}\\_2.765] 1.99047371278265\n",
       "\\item[X604.362\\textbackslash{}\\_2.948] 0.769758338969586\n",
       "\\item[X620.356\\textbackslash{}\\_2.913] 0.73028982250142\n",
       "\\item[X682.363\\textbackslash{}\\_3.329] 0\n",
       "\\item[X682.364\\textbackslash{}\\_3.313] 8.79351880610233\n",
       "\\item[X764.524\\textbackslash{}\\_3.729] 2.8155096607794\n",
       "\\item[X790.38\\textbackslash{}\\_2.768] 1.75484460888818\n",
       "\\item[X792.329\\textbackslash{}\\_2.764] 3.74223241590214\n",
       "\\item[X795.335\\textbackslash{}\\_2.768] 1.68911065867283\n",
       "\\item[X811.309\\textbackslash{}\\_2.773] 1.17693335630132\n",
       "\\end{description*}\n"
      ],
      "text/markdown": [
       "X105.07_2.767\n",
       ":   1.45436545150175X119.049_2.765\n",
       ":   2.9461548818759X128.018_0.344\n",
       ":   InfX136.062_0.301\n",
       ":   0.38074138624435X136.097_0.551\n",
       ":   InfX137.046_0.31\n",
       ":   0.768540419992975X137.046_0.42\n",
       ":   0.687851253091613X203.007_0.309\n",
       ":   0.44841421223197X249.112_2.768\n",
       ":   3.69494252873563X251.037_0.323\n",
       ":   0.562508996239692X256.264_3.225\n",
       ":   0.399810511035155X258.207_2.775\n",
       ":   0.53528505623464X267.123_2.767\n",
       ":   1.42918633328645X285.133_2.768\n",
       ":   1.54888455168588X291.146_2.39\n",
       ":   0.664419441062261X296.258_2.976\n",
       ":   0X301.115_0.328\n",
       ":   0.465266942467491X301.115_0.413\n",
       ":   0.382933619453885X324.327_3.455\n",
       ":   InfX351.217_2.741\n",
       ":   0.17072631354948X352.306_2.997\n",
       ":   18.6610738255034X369.17_2.767\n",
       ":   1.685838503195X380.993_2.164\n",
       ":   0.108472434310989X386.717_2.856\n",
       ":   0.434564484518037X387.193_2.842\n",
       ":   0.71908749660527X396.332_2.991\n",
       ":   3.71283722340103X397.22_2.071\n",
       ":   0.0446874097715671X400.97_2.127\n",
       ":   0.0431783980388925X416.337_2.79\n",
       ":   15.7756698412698X420.899_2.103\n",
       ":   0.247068378212055X426.484_2.164\n",
       ":   0.109507791573334X430.223_2.769\n",
       ":   1.91114305241878X440.338_2.763\n",
       ":   19.6017X440.359_2.985\n",
       ":   4.24333888703765X442.353_2.819\n",
       ":   InfX458.23_2.165\n",
       ":   0.0730634477663802X466.25_2.226\n",
       ":   0.0885002163338622X475.989_2.164\n",
       ":   0.315930101113374X476.24_2.164\n",
       ":   0.33072928661847X484.385_2.982\n",
       ":   4.88726019529006X489.228_2.768\n",
       ":   2.1696746740304X494.325_2.865\n",
       ":   1.36635246112621X570.357_2.934\n",
       ":   0.536651745933222X580.361_2.989\n",
       ":   0X580.362_2.984\n",
       ":   4.38326185231478X599.241_2.765\n",
       ":   1.99047371278265X604.362_2.948\n",
       ":   0.769758338969586X620.356_2.913\n",
       ":   0.73028982250142X682.363_3.329\n",
       ":   0X682.364_3.313\n",
       ":   8.79351880610233X764.524_3.729\n",
       ":   2.8155096607794X790.38_2.768\n",
       ":   1.75484460888818X792.329_2.764\n",
       ":   3.74223241590214X795.335_2.768\n",
       ":   1.68911065867283X811.309_2.773\n",
       ":   1.17693335630132\n",
       "\n"
      ],
      "text/plain": [
       " X105.07_2.767 X119.049_2.765 X128.018_0.344 X136.062_0.301 X136.097_0.551 \n",
       "    1.45436545     2.94615488            Inf     0.38074139            Inf \n",
       " X137.046_0.31  X137.046_0.42 X203.007_0.309 X249.112_2.768 X251.037_0.323 \n",
       "    0.76854042     0.68785125     0.44841421     3.69494253     0.56250900 \n",
       "X256.264_3.225 X258.207_2.775 X267.123_2.767 X285.133_2.768  X291.146_2.39 \n",
       "    0.39981051     0.53528506     1.42918633     1.54888455     0.66441944 \n",
       "X296.258_2.976 X301.115_0.328 X301.115_0.413 X324.327_3.455 X351.217_2.741 \n",
       "    0.00000000     0.46526694     0.38293362            Inf     0.17072631 \n",
       "X352.306_2.997  X369.17_2.767 X380.993_2.164 X386.717_2.856 X387.193_2.842 \n",
       "   18.66107383     1.68583850     0.10847243     0.43456448     0.71908750 \n",
       "X396.332_2.991  X397.22_2.071  X400.97_2.127  X416.337_2.79 X420.899_2.103 \n",
       "    3.71283722     0.04468741     0.04317840    15.77566984     0.24706838 \n",
       "X426.484_2.164 X430.223_2.769 X440.338_2.763 X440.359_2.985 X442.353_2.819 \n",
       "    0.10950779     1.91114305    19.60170000     4.24333889            Inf \n",
       " X458.23_2.165  X466.25_2.226 X475.989_2.164  X476.24_2.164 X484.385_2.982 \n",
       "    0.07306345     0.08850022     0.31593010     0.33072929     4.88726020 \n",
       "X489.228_2.768 X494.325_2.865 X570.357_2.934 X580.361_2.989 X580.362_2.984 \n",
       "    2.16967467     1.36635246     0.53665175     0.00000000     4.38326185 \n",
       "X599.241_2.765 X604.362_2.948 X620.356_2.913 X682.363_3.329 X682.364_3.313 \n",
       "    1.99047371     0.76975834     0.73028982     0.00000000     8.79351881 \n",
       "X764.524_3.729  X790.38_2.768 X792.329_2.764 X795.335_2.768 X811.309_2.773 \n",
       "    2.81550966     1.75484461     3.74223242     1.68911066     1.17693336 "
      ]
     },
     "metadata": {},
     "output_type": "display_data"
    }
   ],
   "source": [
    "fch"
   ]
  },
  {
   "cell_type": "code",
   "execution_count": 10,
   "metadata": {
    "scrolled": false
   },
   "outputs": [],
   "source": [
    "#Convoluted way to get the names; likely could find a simpler way\n",
    "\n",
    "#make dataframe from pval and fch\n",
    "df <- data.frame(fch,pval, pAdj)\n",
    "write.csv(df, \"LVB-wilcox-1C-15.csv\")"
   ]
  },
  {
   "cell_type": "code",
   "execution_count": null,
   "metadata": {},
   "outputs": [],
   "source": []
  },
  {
   "cell_type": "code",
   "execution_count": null,
   "metadata": {},
   "outputs": [],
   "source": []
  },
  {
   "cell_type": "code",
   "execution_count": null,
   "metadata": {},
   "outputs": [],
   "source": []
  }
 ],
 "metadata": {
  "kernelspec": {
   "display_name": "R",
   "language": "R",
   "name": "ir"
  },
  "language_info": {
   "codemirror_mode": "r",
   "file_extension": ".r",
   "mimetype": "text/x-r-source",
   "name": "R",
   "pygments_lexer": "r",
   "version": "3.6.1"
  }
 },
 "nbformat": 4,
 "nbformat_minor": 2
}
