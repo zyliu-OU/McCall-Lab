{
 "cells": [
  {
   "cell_type": "code",
   "execution_count": 1,
   "metadata": {},
   "outputs": [],
   "source": [
    "# after I have filtered feature table, I do wilcox p value for filtered mass list. So that the p value will be more accurate"
   ]
  },
  {
   "cell_type": "code",
   "execution_count": 11,
   "metadata": {},
   "outputs": [],
   "source": [
    "a <- read.csv(\"RVT-M-F-final-fix.csv\")"
   ]
  },
  {
   "cell_type": "code",
   "execution_count": 12,
   "metadata": {},
   "outputs": [
    {
     "data": {
      "text/html": [
       "<table>\n",
       "<thead><tr><th scope=col>filename</th><th scope=col>MouseID</th><th scope=col>Treatmentgroup</th><th scope=col>DPI</th><th scope=col>organ</th><th scope=col>well_position</th><th scope=col>plate</th><th scope=col>X268.105_0.35</th><th scope=col>X269.088_0.35</th><th scope=col>X111.044_2.768</th><th scope=col>...</th><th scope=col>X705.141_2.339</th><th scope=col>X776.148_2.398</th><th scope=col>X776.253_2.398</th><th scope=col>X776.411_2.398</th><th scope=col>X792.329_2.764</th><th scope=col>X811.309_2.773</th><th scope=col>X811.31_2.767</th><th scope=col>X819.211_2.398</th><th scope=col>X819.322_2.398</th><th scope=col>X819.378_2.399</th></tr></thead>\n",
       "<tbody>\n",
       "\t<tr><td>X511_Group1C_142dpi_RV_top_161_G_A1_P136.mzXML</td><td>511                                           </td><td>Group1C                                       </td><td>142dpi                                        </td><td>RV_top                                        </td><td>A1                                            </td><td>P136                                          </td><td>0.000163206                                   </td><td>0.001639729                                   </td><td>0.000000000                                   </td><td>...                                           </td><td>0.000179645                                   </td><td>0.000000000                                   </td><td>0.000103564                                   </td><td>0.000000000                                   </td><td>0.000000000                                   </td><td>0.000000000                                   </td><td>0                                             </td><td>0.000069800                                   </td><td>0.000098700                                   </td><td>0.000000000                                   </td></tr>\n",
       "\t<tr><td>X512_Group1C_142dpi_RV_top_162_G_A2_P136.mzXML</td><td>512                                           </td><td>Group1C                                       </td><td>142dpi                                        </td><td>RV_top                                        </td><td>A2                                            </td><td>P136                                          </td><td>0.000425000                                   </td><td>0.003176171                                   </td><td>0.000000000                                   </td><td>...                                           </td><td>0.000096500                                   </td><td>0.000116217                                   </td><td>0.000179520                                   </td><td>0.000077700                                   </td><td>0.000000000                                   </td><td>0.000119473                                   </td><td>0                                             </td><td>0.000152956                                   </td><td>0.000187883                                   </td><td>0.000092000                                   </td></tr>\n",
       "\t<tr><td>X513_Group1C_142dpi_RV_top_163_G_A3_P136.mzXML</td><td>513                                           </td><td>Group1C                                       </td><td>142dpi                                        </td><td>RV_top                                        </td><td>A3                                            </td><td>P136                                          </td><td>0.000842890                                   </td><td>0.001560739                                   </td><td>0.000000000                                   </td><td>...                                           </td><td>0.000161273                                   </td><td>0.000144501                                   </td><td>0.000153052                                   </td><td>0.000081000                                   </td><td>0.000065500                                   </td><td>0.000150147                                   </td><td>0                                             </td><td>0.000158430                                   </td><td>0.000183752                                   </td><td>0.000165912                                   </td></tr>\n",
       "\t<tr><td>X514_Group1C_142dpi_RV_top_164_G_A4_P136.mzXML</td><td>514                                           </td><td>Group1C                                       </td><td>142dpi                                        </td><td>RV_top                                        </td><td>A4                                            </td><td>P136                                          </td><td>0.000302458                                   </td><td>0.001666797                                   </td><td>0.000000000                                   </td><td>...                                           </td><td>0.000084300                                   </td><td>0.000095400                                   </td><td>0.000175538                                   </td><td>0.000173409                                   </td><td>0.000000000                                   </td><td>0.000152011                                   </td><td>0                                             </td><td>0.000165734                                   </td><td>0.000212944                                   </td><td>0.000182069                                   </td></tr>\n",
       "\t<tr><td>X515_Group1C_142dpi_RV_top_165_G_A5_P136.mzXML</td><td>515                                           </td><td>Group1C                                       </td><td>142dpi                                        </td><td>RV_top                                        </td><td>A5                                            </td><td>P136                                          </td><td>0.000000000                                   </td><td>0.002342964                                   </td><td>0.000043200                                   </td><td>...                                           </td><td>0.000194172                                   </td><td>0.000258485                                   </td><td>0.000309987                                   </td><td>0.000176238                                   </td><td>0.000069000                                   </td><td>0.000174876                                   </td><td>0                                             </td><td>0.000182384                                   </td><td>0.000226010                                   </td><td>0.000238047                                   </td></tr>\n",
       "\t<tr><td>X531_Group1C_142dpi_RV_top_166_G_A6_P136.mzXML</td><td>531                                           </td><td>Group1C                                       </td><td>142dpi                                        </td><td>RV_top                                        </td><td>A6                                            </td><td>P136                                          </td><td>0.000070600                                   </td><td>0.001799604                                   </td><td>0.000115117                                   </td><td>...                                           </td><td>0.000000000                                   </td><td>0.000061600                                   </td><td>0.000166923                                   </td><td>0.000000000                                   </td><td>0.000203732                                   </td><td>0.000394644                                   </td><td>0                                             </td><td>0.000067200                                   </td><td>0.000132213                                   </td><td>0.000085100                                   </td></tr>\n",
       "</tbody>\n",
       "</table>\n"
      ],
      "text/latex": [
       "\\begin{tabular}{r|llllllllllllllllllllllllllllllllllllllllllllllllllllllllllllllllllllll}\n",
       " filename & MouseID & Treatmentgroup & DPI & organ & well\\_position & plate & X268.105\\_0.35 & X269.088\\_0.35 & X111.044\\_2.768 & ... & X705.141\\_2.339 & X776.148\\_2.398 & X776.253\\_2.398 & X776.411\\_2.398 & X792.329\\_2.764 & X811.309\\_2.773 & X811.31\\_2.767 & X819.211\\_2.398 & X819.322\\_2.398 & X819.378\\_2.399\\\\\n",
       "\\hline\n",
       "\t X511\\_Group1C\\_142dpi\\_RV\\_top\\_161\\_G\\_A1\\_P136.mzXML & 511                                                            & Group1C                                                        & 142dpi                                                         & RV\\_top                                                       & A1                                                             & P136                                                           & 0.000163206                                                    & 0.001639729                                                    & 0.000000000                                                    & ...                                                            & 0.000179645                                                    & 0.000000000                                                    & 0.000103564                                                    & 0.000000000                                                    & 0.000000000                                                    & 0.000000000                                                    & 0                                                              & 0.000069800                                                    & 0.000098700                                                    & 0.000000000                                                   \\\\\n",
       "\t X512\\_Group1C\\_142dpi\\_RV\\_top\\_162\\_G\\_A2\\_P136.mzXML & 512                                                            & Group1C                                                        & 142dpi                                                         & RV\\_top                                                       & A2                                                             & P136                                                           & 0.000425000                                                    & 0.003176171                                                    & 0.000000000                                                    & ...                                                            & 0.000096500                                                    & 0.000116217                                                    & 0.000179520                                                    & 0.000077700                                                    & 0.000000000                                                    & 0.000119473                                                    & 0                                                              & 0.000152956                                                    & 0.000187883                                                    & 0.000092000                                                   \\\\\n",
       "\t X513\\_Group1C\\_142dpi\\_RV\\_top\\_163\\_G\\_A3\\_P136.mzXML & 513                                                            & Group1C                                                        & 142dpi                                                         & RV\\_top                                                       & A3                                                             & P136                                                           & 0.000842890                                                    & 0.001560739                                                    & 0.000000000                                                    & ...                                                            & 0.000161273                                                    & 0.000144501                                                    & 0.000153052                                                    & 0.000081000                                                    & 0.000065500                                                    & 0.000150147                                                    & 0                                                              & 0.000158430                                                    & 0.000183752                                                    & 0.000165912                                                   \\\\\n",
       "\t X514\\_Group1C\\_142dpi\\_RV\\_top\\_164\\_G\\_A4\\_P136.mzXML & 514                                                            & Group1C                                                        & 142dpi                                                         & RV\\_top                                                       & A4                                                             & P136                                                           & 0.000302458                                                    & 0.001666797                                                    & 0.000000000                                                    & ...                                                            & 0.000084300                                                    & 0.000095400                                                    & 0.000175538                                                    & 0.000173409                                                    & 0.000000000                                                    & 0.000152011                                                    & 0                                                              & 0.000165734                                                    & 0.000212944                                                    & 0.000182069                                                   \\\\\n",
       "\t X515\\_Group1C\\_142dpi\\_RV\\_top\\_165\\_G\\_A5\\_P136.mzXML & 515                                                            & Group1C                                                        & 142dpi                                                         & RV\\_top                                                       & A5                                                             & P136                                                           & 0.000000000                                                    & 0.002342964                                                    & 0.000043200                                                    & ...                                                            & 0.000194172                                                    & 0.000258485                                                    & 0.000309987                                                    & 0.000176238                                                    & 0.000069000                                                    & 0.000174876                                                    & 0                                                              & 0.000182384                                                    & 0.000226010                                                    & 0.000238047                                                   \\\\\n",
       "\t X531\\_Group1C\\_142dpi\\_RV\\_top\\_166\\_G\\_A6\\_P136.mzXML & 531                                                            & Group1C                                                        & 142dpi                                                         & RV\\_top                                                       & A6                                                             & P136                                                           & 0.000070600                                                    & 0.001799604                                                    & 0.000115117                                                    & ...                                                            & 0.000000000                                                    & 0.000061600                                                    & 0.000166923                                                    & 0.000000000                                                    & 0.000203732                                                    & 0.000394644                                                    & 0                                                              & 0.000067200                                                    & 0.000132213                                                    & 0.000085100                                                   \\\\\n",
       "\\end{tabular}\n"
      ],
      "text/markdown": [
       "\n",
       "| filename | MouseID | Treatmentgroup | DPI | organ | well_position | plate | X268.105_0.35 | X269.088_0.35 | X111.044_2.768 | ... | X705.141_2.339 | X776.148_2.398 | X776.253_2.398 | X776.411_2.398 | X792.329_2.764 | X811.309_2.773 | X811.31_2.767 | X819.211_2.398 | X819.322_2.398 | X819.378_2.399 |\n",
       "|---|---|---|---|---|---|---|---|---|---|---|---|---|---|---|---|---|---|---|---|---|\n",
       "| X511_Group1C_142dpi_RV_top_161_G_A1_P136.mzXML | 511                                            | Group1C                                        | 142dpi                                         | RV_top                                         | A1                                             | P136                                           | 0.000163206                                    | 0.001639729                                    | 0.000000000                                    | ...                                            | 0.000179645                                    | 0.000000000                                    | 0.000103564                                    | 0.000000000                                    | 0.000000000                                    | 0.000000000                                    | 0                                              | 0.000069800                                    | 0.000098700                                    | 0.000000000                                    |\n",
       "| X512_Group1C_142dpi_RV_top_162_G_A2_P136.mzXML | 512                                            | Group1C                                        | 142dpi                                         | RV_top                                         | A2                                             | P136                                           | 0.000425000                                    | 0.003176171                                    | 0.000000000                                    | ...                                            | 0.000096500                                    | 0.000116217                                    | 0.000179520                                    | 0.000077700                                    | 0.000000000                                    | 0.000119473                                    | 0                                              | 0.000152956                                    | 0.000187883                                    | 0.000092000                                    |\n",
       "| X513_Group1C_142dpi_RV_top_163_G_A3_P136.mzXML | 513                                            | Group1C                                        | 142dpi                                         | RV_top                                         | A3                                             | P136                                           | 0.000842890                                    | 0.001560739                                    | 0.000000000                                    | ...                                            | 0.000161273                                    | 0.000144501                                    | 0.000153052                                    | 0.000081000                                    | 0.000065500                                    | 0.000150147                                    | 0                                              | 0.000158430                                    | 0.000183752                                    | 0.000165912                                    |\n",
       "| X514_Group1C_142dpi_RV_top_164_G_A4_P136.mzXML | 514                                            | Group1C                                        | 142dpi                                         | RV_top                                         | A4                                             | P136                                           | 0.000302458                                    | 0.001666797                                    | 0.000000000                                    | ...                                            | 0.000084300                                    | 0.000095400                                    | 0.000175538                                    | 0.000173409                                    | 0.000000000                                    | 0.000152011                                    | 0                                              | 0.000165734                                    | 0.000212944                                    | 0.000182069                                    |\n",
       "| X515_Group1C_142dpi_RV_top_165_G_A5_P136.mzXML | 515                                            | Group1C                                        | 142dpi                                         | RV_top                                         | A5                                             | P136                                           | 0.000000000                                    | 0.002342964                                    | 0.000043200                                    | ...                                            | 0.000194172                                    | 0.000258485                                    | 0.000309987                                    | 0.000176238                                    | 0.000069000                                    | 0.000174876                                    | 0                                              | 0.000182384                                    | 0.000226010                                    | 0.000238047                                    |\n",
       "| X531_Group1C_142dpi_RV_top_166_G_A6_P136.mzXML | 531                                            | Group1C                                        | 142dpi                                         | RV_top                                         | A6                                             | P136                                           | 0.000070600                                    | 0.001799604                                    | 0.000115117                                    | ...                                            | 0.000000000                                    | 0.000061600                                    | 0.000166923                                    | 0.000000000                                    | 0.000203732                                    | 0.000394644                                    | 0                                              | 0.000067200                                    | 0.000132213                                    | 0.000085100                                    |\n",
       "\n"
      ],
      "text/plain": [
       "  filename                                       MouseID Treatmentgroup DPI   \n",
       "1 X511_Group1C_142dpi_RV_top_161_G_A1_P136.mzXML 511     Group1C        142dpi\n",
       "2 X512_Group1C_142dpi_RV_top_162_G_A2_P136.mzXML 512     Group1C        142dpi\n",
       "3 X513_Group1C_142dpi_RV_top_163_G_A3_P136.mzXML 513     Group1C        142dpi\n",
       "4 X514_Group1C_142dpi_RV_top_164_G_A4_P136.mzXML 514     Group1C        142dpi\n",
       "5 X515_Group1C_142dpi_RV_top_165_G_A5_P136.mzXML 515     Group1C        142dpi\n",
       "6 X531_Group1C_142dpi_RV_top_166_G_A6_P136.mzXML 531     Group1C        142dpi\n",
       "  organ  well_position plate X268.105_0.35 X269.088_0.35 X111.044_2.768 ...\n",
       "1 RV_top A1            P136  0.000163206   0.001639729   0.000000000    ...\n",
       "2 RV_top A2            P136  0.000425000   0.003176171   0.000000000    ...\n",
       "3 RV_top A3            P136  0.000842890   0.001560739   0.000000000    ...\n",
       "4 RV_top A4            P136  0.000302458   0.001666797   0.000000000    ...\n",
       "5 RV_top A5            P136  0.000000000   0.002342964   0.000043200    ...\n",
       "6 RV_top A6            P136  0.000070600   0.001799604   0.000115117    ...\n",
       "  X705.141_2.339 X776.148_2.398 X776.253_2.398 X776.411_2.398 X792.329_2.764\n",
       "1 0.000179645    0.000000000    0.000103564    0.000000000    0.000000000   \n",
       "2 0.000096500    0.000116217    0.000179520    0.000077700    0.000000000   \n",
       "3 0.000161273    0.000144501    0.000153052    0.000081000    0.000065500   \n",
       "4 0.000084300    0.000095400    0.000175538    0.000173409    0.000000000   \n",
       "5 0.000194172    0.000258485    0.000309987    0.000176238    0.000069000   \n",
       "6 0.000000000    0.000061600    0.000166923    0.000000000    0.000203732   \n",
       "  X811.309_2.773 X811.31_2.767 X819.211_2.398 X819.322_2.398 X819.378_2.399\n",
       "1 0.000000000    0             0.000069800    0.000098700    0.000000000   \n",
       "2 0.000119473    0             0.000152956    0.000187883    0.000092000   \n",
       "3 0.000150147    0             0.000158430    0.000183752    0.000165912   \n",
       "4 0.000152011    0             0.000165734    0.000212944    0.000182069   \n",
       "5 0.000174876    0             0.000182384    0.000226010    0.000238047   \n",
       "6 0.000394644    0             0.000067200    0.000132213    0.000085100   "
      ]
     },
     "metadata": {},
     "output_type": "display_data"
    },
    {
     "data": {
      "text/html": [
       "<ol class=list-inline>\n",
       "\t<li>60</li>\n",
       "\t<li>70</li>\n",
       "</ol>\n"
      ],
      "text/latex": [
       "\\begin{enumerate*}\n",
       "\\item 60\n",
       "\\item 70\n",
       "\\end{enumerate*}\n"
      ],
      "text/markdown": [
       "1. 60\n",
       "2. 70\n",
       "\n",
       "\n"
      ],
      "text/plain": [
       "[1] 60 70"
      ]
     },
     "metadata": {},
     "output_type": "display_data"
    }
   ],
   "source": [
    "head(a)\n",
    "dim(a)"
   ]
  },
  {
   "cell_type": "code",
   "execution_count": 13,
   "metadata": {},
   "outputs": [
    {
     "data": {
      "text/html": [
       "<table>\n",
       "<thead><tr><th></th><th scope=col>filename</th><th scope=col>MouseID</th><th scope=col>Treatmentgroup</th><th scope=col>DPI</th><th scope=col>organ</th><th scope=col>well_position</th><th scope=col>plate</th><th scope=col>X268.105_0.35</th><th scope=col>X269.088_0.35</th><th scope=col>X111.044_2.768</th><th scope=col>...</th><th scope=col>X705.141_2.339</th><th scope=col>X776.148_2.398</th><th scope=col>X776.253_2.398</th><th scope=col>X776.411_2.398</th><th scope=col>X792.329_2.764</th><th scope=col>X811.309_2.773</th><th scope=col>X811.31_2.767</th><th scope=col>X819.211_2.398</th><th scope=col>X819.322_2.398</th><th scope=col>X819.378_2.399</th></tr></thead>\n",
       "<tbody>\n",
       "\t<tr><th scope=row>16</th><td>X581_Group3E_142dpi_RV_top_176_G_B4_P136.mzXML</td><td>581                                           </td><td>Group3E                                       </td><td>142dpi                                        </td><td>RV_top                                        </td><td>B4                                            </td><td>P136                                          </td><td>0.000000000                                   </td><td>0.000183314                                   </td><td>0.000107825                                   </td><td>...                                           </td><td>0.000129379                                   </td><td>0.00e+00                                      </td><td>0.00000000                                    </td><td>0.00e+00                                      </td><td>0.000224340                                   </td><td>0e+00                                         </td><td>0.000237525                                   </td><td>0.00e+00                                      </td><td>0.000000000                                   </td><td>0.000000000                                   </td></tr>\n",
       "\t<tr><th scope=row>17</th><td>X582_Group3E_142dpi_RV_top_177_G_B5_P136.mzXML</td><td>582                                           </td><td>Group3E                                       </td><td>142dpi                                        </td><td>RV_top                                        </td><td>B5                                            </td><td>P136                                          </td><td>0.000000000                                   </td><td>0.000992729                                   </td><td>0.000161823                                   </td><td>...                                           </td><td>0.000124496                                   </td><td>0.00e+00                                      </td><td>0.00000000                                    </td><td>0.00e+00                                      </td><td>0.000390484                                   </td><td>0e+00                                         </td><td>0.000375748                                   </td><td>0.00e+00                                      </td><td>0.000000000                                   </td><td>0.000000000                                   </td></tr>\n",
       "\t<tr><th scope=row>18</th><td>X583_Group3E_142dpi_RV_top_178_G_B6_P136.mzXML</td><td>583                                           </td><td>Group3E                                       </td><td>142dpi                                        </td><td>RV_top                                        </td><td>B6                                            </td><td>P136                                          </td><td>0.000081500                                   </td><td>0.000654834                                   </td><td>0.000090500                                   </td><td>...                                           </td><td>0.000112447                                   </td><td>5.12e-05                                      </td><td>0.00014672                                    </td><td>5.81e-05                                      </td><td>0.000194735                                   </td><td>9e-05                                         </td><td>0.000240641                                   </td><td>5.07e-05                                      </td><td>0.000111762                                   </td><td>0.000143191                                   </td></tr>\n",
       "\t<tr><th scope=row>19</th><td>X584_Group3E_142dpi_RV_top_179_G_B7_P136.mzXML</td><td>584                                           </td><td>Group3E                                       </td><td>142dpi                                        </td><td>RV_top                                        </td><td>B7                                            </td><td>P136                                          </td><td>0.000194512                                   </td><td>0.000886580                                   </td><td>0.000117937                                   </td><td>...                                           </td><td>0.000000000                                   </td><td>0.00e+00                                      </td><td>0.00000000                                    </td><td>0.00e+00                                      </td><td>0.000232682                                   </td><td>0e+00                                         </td><td>0.000414144                                   </td><td>0.00e+00                                      </td><td>0.000000000                                   </td><td>0.000000000                                   </td></tr>\n",
       "\t<tr><th scope=row>20</th><td>X585_Group3E_142dpi_RV_top_180_G_B8_P136.mzXML</td><td>585                                           </td><td>Group3E                                       </td><td>142dpi                                        </td><td>RV_top                                        </td><td>B8                                            </td><td>P136                                          </td><td>0.000000000                                   </td><td>0.000345774                                   </td><td>0.000103153                                   </td><td>...                                           </td><td>0.000000000                                   </td><td>0.00e+00                                      </td><td>0.00000000                                    </td><td>0.00e+00                                      </td><td>0.000438966                                   </td><td>0e+00                                         </td><td>0.000245386                                   </td><td>0.00e+00                                      </td><td>0.000000000                                   </td><td>0.000000000                                   </td></tr>\n",
       "\t<tr><th scope=row>26</th><td>X631_Group15_142dpi_RV_top_191_G_C7_P136.mzXML</td><td>631                                           </td><td>Group15                                       </td><td>142dpi                                        </td><td>RV_top                                        </td><td>C7                                            </td><td>P136                                          </td><td>0.000066600                                   </td><td>0.000576991                                   </td><td>0.000135891                                   </td><td>...                                           </td><td>0.000047200                                   </td><td>0.00e+00                                      </td><td>0.00003480                                    </td><td>0.00e+00                                      </td><td>0.000186446                                   </td><td>0e+00                                         </td><td>0.000203554                                   </td><td>3.46e-05                                      </td><td>0.000038100                                   </td><td>0.000039900                                   </td></tr>\n",
       "</tbody>\n",
       "</table>\n"
      ],
      "text/latex": [
       "\\begin{tabular}{r|llllllllllllllllllllllllllllllllllllllllllllllllllllllllllllllllllllll}\n",
       "  & filename & MouseID & Treatmentgroup & DPI & organ & well\\_position & plate & X268.105\\_0.35 & X269.088\\_0.35 & X111.044\\_2.768 & ... & X705.141\\_2.339 & X776.148\\_2.398 & X776.253\\_2.398 & X776.411\\_2.398 & X792.329\\_2.764 & X811.309\\_2.773 & X811.31\\_2.767 & X819.211\\_2.398 & X819.322\\_2.398 & X819.378\\_2.399\\\\\n",
       "\\hline\n",
       "\t16 & X581\\_Group3E\\_142dpi\\_RV\\_top\\_176\\_G\\_B4\\_P136.mzXML & 581                                                            & Group3E                                                        & 142dpi                                                         & RV\\_top                                                       & B4                                                             & P136                                                           & 0.000000000                                                    & 0.000183314                                                    & 0.000107825                                                    & ...                                                            & 0.000129379                                                    & 0.00e+00                                                       & 0.00000000                                                     & 0.00e+00                                                       & 0.000224340                                                    & 0e+00                                                          & 0.000237525                                                    & 0.00e+00                                                       & 0.000000000                                                    & 0.000000000                                                   \\\\\n",
       "\t17 & X582\\_Group3E\\_142dpi\\_RV\\_top\\_177\\_G\\_B5\\_P136.mzXML & 582                                                            & Group3E                                                        & 142dpi                                                         & RV\\_top                                                       & B5                                                             & P136                                                           & 0.000000000                                                    & 0.000992729                                                    & 0.000161823                                                    & ...                                                            & 0.000124496                                                    & 0.00e+00                                                       & 0.00000000                                                     & 0.00e+00                                                       & 0.000390484                                                    & 0e+00                                                          & 0.000375748                                                    & 0.00e+00                                                       & 0.000000000                                                    & 0.000000000                                                   \\\\\n",
       "\t18 & X583\\_Group3E\\_142dpi\\_RV\\_top\\_178\\_G\\_B6\\_P136.mzXML & 583                                                            & Group3E                                                        & 142dpi                                                         & RV\\_top                                                       & B6                                                             & P136                                                           & 0.000081500                                                    & 0.000654834                                                    & 0.000090500                                                    & ...                                                            & 0.000112447                                                    & 5.12e-05                                                       & 0.00014672                                                     & 5.81e-05                                                       & 0.000194735                                                    & 9e-05                                                          & 0.000240641                                                    & 5.07e-05                                                       & 0.000111762                                                    & 0.000143191                                                   \\\\\n",
       "\t19 & X584\\_Group3E\\_142dpi\\_RV\\_top\\_179\\_G\\_B7\\_P136.mzXML & 584                                                            & Group3E                                                        & 142dpi                                                         & RV\\_top                                                       & B7                                                             & P136                                                           & 0.000194512                                                    & 0.000886580                                                    & 0.000117937                                                    & ...                                                            & 0.000000000                                                    & 0.00e+00                                                       & 0.00000000                                                     & 0.00e+00                                                       & 0.000232682                                                    & 0e+00                                                          & 0.000414144                                                    & 0.00e+00                                                       & 0.000000000                                                    & 0.000000000                                                   \\\\\n",
       "\t20 & X585\\_Group3E\\_142dpi\\_RV\\_top\\_180\\_G\\_B8\\_P136.mzXML & 585                                                            & Group3E                                                        & 142dpi                                                         & RV\\_top                                                       & B8                                                             & P136                                                           & 0.000000000                                                    & 0.000345774                                                    & 0.000103153                                                    & ...                                                            & 0.000000000                                                    & 0.00e+00                                                       & 0.00000000                                                     & 0.00e+00                                                       & 0.000438966                                                    & 0e+00                                                          & 0.000245386                                                    & 0.00e+00                                                       & 0.000000000                                                    & 0.000000000                                                   \\\\\n",
       "\t26 & X631\\_Group15\\_142dpi\\_RV\\_top\\_191\\_G\\_C7\\_P136.mzXML & 631                                                            & Group15                                                        & 142dpi                                                         & RV\\_top                                                       & C7                                                             & P136                                                           & 0.000066600                                                    & 0.000576991                                                    & 0.000135891                                                    & ...                                                            & 0.000047200                                                    & 0.00e+00                                                       & 0.00003480                                                     & 0.00e+00                                                       & 0.000186446                                                    & 0e+00                                                          & 0.000203554                                                    & 3.46e-05                                                       & 0.000038100                                                    & 0.000039900                                                   \\\\\n",
       "\\end{tabular}\n"
      ],
      "text/markdown": [
       "\n",
       "| <!--/--> | filename | MouseID | Treatmentgroup | DPI | organ | well_position | plate | X268.105_0.35 | X269.088_0.35 | X111.044_2.768 | ... | X705.141_2.339 | X776.148_2.398 | X776.253_2.398 | X776.411_2.398 | X792.329_2.764 | X811.309_2.773 | X811.31_2.767 | X819.211_2.398 | X819.322_2.398 | X819.378_2.399 |\n",
       "|---|---|---|---|---|---|---|---|---|---|---|---|---|---|---|---|---|---|---|---|---|---|\n",
       "| 16 | X581_Group3E_142dpi_RV_top_176_G_B4_P136.mzXML | 581                                            | Group3E                                        | 142dpi                                         | RV_top                                         | B4                                             | P136                                           | 0.000000000                                    | 0.000183314                                    | 0.000107825                                    | ...                                            | 0.000129379                                    | 0.00e+00                                       | 0.00000000                                     | 0.00e+00                                       | 0.000224340                                    | 0e+00                                          | 0.000237525                                    | 0.00e+00                                       | 0.000000000                                    | 0.000000000                                    |\n",
       "| 17 | X582_Group3E_142dpi_RV_top_177_G_B5_P136.mzXML | 582                                            | Group3E                                        | 142dpi                                         | RV_top                                         | B5                                             | P136                                           | 0.000000000                                    | 0.000992729                                    | 0.000161823                                    | ...                                            | 0.000124496                                    | 0.00e+00                                       | 0.00000000                                     | 0.00e+00                                       | 0.000390484                                    | 0e+00                                          | 0.000375748                                    | 0.00e+00                                       | 0.000000000                                    | 0.000000000                                    |\n",
       "| 18 | X583_Group3E_142dpi_RV_top_178_G_B6_P136.mzXML | 583                                            | Group3E                                        | 142dpi                                         | RV_top                                         | B6                                             | P136                                           | 0.000081500                                    | 0.000654834                                    | 0.000090500                                    | ...                                            | 0.000112447                                    | 5.12e-05                                       | 0.00014672                                     | 5.81e-05                                       | 0.000194735                                    | 9e-05                                          | 0.000240641                                    | 5.07e-05                                       | 0.000111762                                    | 0.000143191                                    |\n",
       "| 19 | X584_Group3E_142dpi_RV_top_179_G_B7_P136.mzXML | 584                                            | Group3E                                        | 142dpi                                         | RV_top                                         | B7                                             | P136                                           | 0.000194512                                    | 0.000886580                                    | 0.000117937                                    | ...                                            | 0.000000000                                    | 0.00e+00                                       | 0.00000000                                     | 0.00e+00                                       | 0.000232682                                    | 0e+00                                          | 0.000414144                                    | 0.00e+00                                       | 0.000000000                                    | 0.000000000                                    |\n",
       "| 20 | X585_Group3E_142dpi_RV_top_180_G_B8_P136.mzXML | 585                                            | Group3E                                        | 142dpi                                         | RV_top                                         | B8                                             | P136                                           | 0.000000000                                    | 0.000345774                                    | 0.000103153                                    | ...                                            | 0.000000000                                    | 0.00e+00                                       | 0.00000000                                     | 0.00e+00                                       | 0.000438966                                    | 0e+00                                          | 0.000245386                                    | 0.00e+00                                       | 0.000000000                                    | 0.000000000                                    |\n",
       "| 26 | X631_Group15_142dpi_RV_top_191_G_C7_P136.mzXML | 631                                            | Group15                                        | 142dpi                                         | RV_top                                         | C7                                             | P136                                           | 0.000066600                                    | 0.000576991                                    | 0.000135891                                    | ...                                            | 0.000047200                                    | 0.00e+00                                       | 0.00003480                                     | 0.00e+00                                       | 0.000186446                                    | 0e+00                                          | 0.000203554                                    | 3.46e-05                                       | 0.000038100                                    | 0.000039900                                    |\n",
       "\n"
      ],
      "text/plain": [
       "   filename                                       MouseID Treatmentgroup DPI   \n",
       "16 X581_Group3E_142dpi_RV_top_176_G_B4_P136.mzXML 581     Group3E        142dpi\n",
       "17 X582_Group3E_142dpi_RV_top_177_G_B5_P136.mzXML 582     Group3E        142dpi\n",
       "18 X583_Group3E_142dpi_RV_top_178_G_B6_P136.mzXML 583     Group3E        142dpi\n",
       "19 X584_Group3E_142dpi_RV_top_179_G_B7_P136.mzXML 584     Group3E        142dpi\n",
       "20 X585_Group3E_142dpi_RV_top_180_G_B8_P136.mzXML 585     Group3E        142dpi\n",
       "26 X631_Group15_142dpi_RV_top_191_G_C7_P136.mzXML 631     Group15        142dpi\n",
       "   organ  well_position plate X268.105_0.35 X269.088_0.35 X111.044_2.768 ...\n",
       "16 RV_top B4            P136  0.000000000   0.000183314   0.000107825    ...\n",
       "17 RV_top B5            P136  0.000000000   0.000992729   0.000161823    ...\n",
       "18 RV_top B6            P136  0.000081500   0.000654834   0.000090500    ...\n",
       "19 RV_top B7            P136  0.000194512   0.000886580   0.000117937    ...\n",
       "20 RV_top B8            P136  0.000000000   0.000345774   0.000103153    ...\n",
       "26 RV_top C7            P136  0.000066600   0.000576991   0.000135891    ...\n",
       "   X705.141_2.339 X776.148_2.398 X776.253_2.398 X776.411_2.398 X792.329_2.764\n",
       "16 0.000129379    0.00e+00       0.00000000     0.00e+00       0.000224340   \n",
       "17 0.000124496    0.00e+00       0.00000000     0.00e+00       0.000390484   \n",
       "18 0.000112447    5.12e-05       0.00014672     5.81e-05       0.000194735   \n",
       "19 0.000000000    0.00e+00       0.00000000     0.00e+00       0.000232682   \n",
       "20 0.000000000    0.00e+00       0.00000000     0.00e+00       0.000438966   \n",
       "26 0.000047200    0.00e+00       0.00003480     0.00e+00       0.000186446   \n",
       "   X811.309_2.773 X811.31_2.767 X819.211_2.398 X819.322_2.398 X819.378_2.399\n",
       "16 0e+00          0.000237525   0.00e+00       0.000000000    0.000000000   \n",
       "17 0e+00          0.000375748   0.00e+00       0.000000000    0.000000000   \n",
       "18 9e-05          0.000240641   5.07e-05       0.000111762    0.000143191   \n",
       "19 0e+00          0.000414144   0.00e+00       0.000000000    0.000000000   \n",
       "20 0e+00          0.000245386   0.00e+00       0.000000000    0.000000000   \n",
       "26 0e+00          0.000203554   3.46e-05       0.000038100    0.000039900   "
      ]
     },
     "metadata": {},
     "output_type": "display_data"
    },
    {
     "data": {
      "text/html": [
       "<ol class=list-inline>\n",
       "\t<li>30</li>\n",
       "\t<li>70</li>\n",
       "</ol>\n"
      ],
      "text/latex": [
       "\\begin{enumerate*}\n",
       "\\item 30\n",
       "\\item 70\n",
       "\\end{enumerate*}\n"
      ],
      "text/markdown": [
       "1. 30\n",
       "2. 70\n",
       "\n",
       "\n"
      ],
      "text/plain": [
       "[1] 30 70"
      ]
     },
     "metadata": {},
     "output_type": "display_data"
    }
   ],
   "source": [
    "# choose the lung posistion\n",
    "features_pos<-droplevels(subset(a, a$Treatmentgroup==c(\"Group15\")|a$Treatmentgroup==c(\"Group3E\")))\n",
    "head(features_pos)\n",
    "dim(features_pos)"
   ]
  },
  {
   "cell_type": "code",
   "execution_count": 14,
   "metadata": {
    "scrolled": false
   },
   "outputs": [
    {
     "data": {
      "text/html": [
       "<table>\n",
       "<thead><tr><th></th><th scope=col>X268.105_0.35</th><th scope=col>X269.088_0.35</th><th scope=col>X111.044_2.768</th><th scope=col>X122.082_0.534</th><th scope=col>X130.087_0.452</th><th scope=col>X137.046_0.35</th><th scope=col>X142.035_0.315</th><th scope=col>X172.134_2.343</th><th scope=col>X175.148_2.71</th><th scope=col>X198.15_2.471</th><th scope=col>...</th><th scope=col>X705.141_2.339</th><th scope=col>X776.148_2.398</th><th scope=col>X776.253_2.398</th><th scope=col>X776.411_2.398</th><th scope=col>X792.329_2.764</th><th scope=col>X811.309_2.773</th><th scope=col>X811.31_2.767</th><th scope=col>X819.211_2.398</th><th scope=col>X819.322_2.398</th><th scope=col>X819.378_2.399</th></tr></thead>\n",
       "<tbody>\n",
       "\t<tr><th scope=row>16</th><td>0.000000000</td><td>0.000183314</td><td>0.000107825</td><td>0.000309360</td><td>0.001970824</td><td>0.003522976</td><td>0.000556528</td><td>0.000102431</td><td>0.000498459</td><td>0.000054300</td><td>...        </td><td>0.000129379</td><td>0.00e+00   </td><td>0.00000000 </td><td>0.00e+00   </td><td>0.000224340</td><td>0e+00      </td><td>0.000237525</td><td>0.00e+00   </td><td>0.000000000</td><td>0.000000000</td></tr>\n",
       "\t<tr><th scope=row>17</th><td>0.000000000</td><td>0.000992729</td><td>0.000161823</td><td>0.000092100</td><td>0.001840271</td><td>0.005114871</td><td>0.000622445</td><td>0.000107426</td><td>0.000453085</td><td>0.000058000</td><td>...        </td><td>0.000124496</td><td>0.00e+00   </td><td>0.00000000 </td><td>0.00e+00   </td><td>0.000390484</td><td>0e+00      </td><td>0.000375748</td><td>0.00e+00   </td><td>0.000000000</td><td>0.000000000</td></tr>\n",
       "\t<tr><th scope=row>18</th><td>0.000081500</td><td>0.000654834</td><td>0.000090500</td><td>0.000067900</td><td>0.001293540</td><td>0.006032218</td><td>0.000696770</td><td>0.000070400</td><td>0.000419352</td><td>0.000078200</td><td>...        </td><td>0.000112447</td><td>5.12e-05   </td><td>0.00014672 </td><td>5.81e-05   </td><td>0.000194735</td><td>9e-05      </td><td>0.000240641</td><td>5.07e-05   </td><td>0.000111762</td><td>0.000143191</td></tr>\n",
       "\t<tr><th scope=row>19</th><td>0.000194512</td><td>0.000886580</td><td>0.000117937</td><td>0.000000000</td><td>0.001773159</td><td>0.007929656</td><td>0.001007727</td><td>0.000263573</td><td>0.000504297</td><td>0.000114368</td><td>...        </td><td>0.000000000</td><td>0.00e+00   </td><td>0.00000000 </td><td>0.00e+00   </td><td>0.000232682</td><td>0e+00      </td><td>0.000414144</td><td>0.00e+00   </td><td>0.000000000</td><td>0.000000000</td></tr>\n",
       "\t<tr><th scope=row>20</th><td>0.000000000</td><td>0.000345774</td><td>0.000103153</td><td>0.000163057</td><td>0.001036544</td><td>0.003034769</td><td>0.000714063</td><td>0.000254360</td><td>0.000504312</td><td>0.000124318</td><td>...        </td><td>0.000000000</td><td>0.00e+00   </td><td>0.00000000 </td><td>0.00e+00   </td><td>0.000438966</td><td>0e+00      </td><td>0.000245386</td><td>0.00e+00   </td><td>0.000000000</td><td>0.000000000</td></tr>\n",
       "\t<tr><th scope=row>26</th><td>0.000066600</td><td>0.000576991</td><td>0.000135891</td><td>0.000096700</td><td>0.000551945</td><td>0.005804324</td><td>0.000751357</td><td>0.000084300</td><td>0.000388142</td><td>0.000039100</td><td>...        </td><td>0.000047200</td><td>0.00e+00   </td><td>0.00003480 </td><td>0.00e+00   </td><td>0.000186446</td><td>0e+00      </td><td>0.000203554</td><td>3.46e-05   </td><td>0.000038100</td><td>0.000039900</td></tr>\n",
       "</tbody>\n",
       "</table>\n"
      ],
      "text/latex": [
       "\\begin{tabular}{r|lllllllllllllllllllllllllllllllllllllllllllllllllllllllllllllll}\n",
       "  & X268.105\\_0.35 & X269.088\\_0.35 & X111.044\\_2.768 & X122.082\\_0.534 & X130.087\\_0.452 & X137.046\\_0.35 & X142.035\\_0.315 & X172.134\\_2.343 & X175.148\\_2.71 & X198.15\\_2.471 & ... & X705.141\\_2.339 & X776.148\\_2.398 & X776.253\\_2.398 & X776.411\\_2.398 & X792.329\\_2.764 & X811.309\\_2.773 & X811.31\\_2.767 & X819.211\\_2.398 & X819.322\\_2.398 & X819.378\\_2.399\\\\\n",
       "\\hline\n",
       "\t16 & 0.000000000 & 0.000183314 & 0.000107825 & 0.000309360 & 0.001970824 & 0.003522976 & 0.000556528 & 0.000102431 & 0.000498459 & 0.000054300 & ...         & 0.000129379 & 0.00e+00    & 0.00000000  & 0.00e+00    & 0.000224340 & 0e+00       & 0.000237525 & 0.00e+00    & 0.000000000 & 0.000000000\\\\\n",
       "\t17 & 0.000000000 & 0.000992729 & 0.000161823 & 0.000092100 & 0.001840271 & 0.005114871 & 0.000622445 & 0.000107426 & 0.000453085 & 0.000058000 & ...         & 0.000124496 & 0.00e+00    & 0.00000000  & 0.00e+00    & 0.000390484 & 0e+00       & 0.000375748 & 0.00e+00    & 0.000000000 & 0.000000000\\\\\n",
       "\t18 & 0.000081500 & 0.000654834 & 0.000090500 & 0.000067900 & 0.001293540 & 0.006032218 & 0.000696770 & 0.000070400 & 0.000419352 & 0.000078200 & ...         & 0.000112447 & 5.12e-05    & 0.00014672  & 5.81e-05    & 0.000194735 & 9e-05       & 0.000240641 & 5.07e-05    & 0.000111762 & 0.000143191\\\\\n",
       "\t19 & 0.000194512 & 0.000886580 & 0.000117937 & 0.000000000 & 0.001773159 & 0.007929656 & 0.001007727 & 0.000263573 & 0.000504297 & 0.000114368 & ...         & 0.000000000 & 0.00e+00    & 0.00000000  & 0.00e+00    & 0.000232682 & 0e+00       & 0.000414144 & 0.00e+00    & 0.000000000 & 0.000000000\\\\\n",
       "\t20 & 0.000000000 & 0.000345774 & 0.000103153 & 0.000163057 & 0.001036544 & 0.003034769 & 0.000714063 & 0.000254360 & 0.000504312 & 0.000124318 & ...         & 0.000000000 & 0.00e+00    & 0.00000000  & 0.00e+00    & 0.000438966 & 0e+00       & 0.000245386 & 0.00e+00    & 0.000000000 & 0.000000000\\\\\n",
       "\t26 & 0.000066600 & 0.000576991 & 0.000135891 & 0.000096700 & 0.000551945 & 0.005804324 & 0.000751357 & 0.000084300 & 0.000388142 & 0.000039100 & ...         & 0.000047200 & 0.00e+00    & 0.00003480  & 0.00e+00    & 0.000186446 & 0e+00       & 0.000203554 & 3.46e-05    & 0.000038100 & 0.000039900\\\\\n",
       "\\end{tabular}\n"
      ],
      "text/markdown": [
       "\n",
       "| <!--/--> | X268.105_0.35 | X269.088_0.35 | X111.044_2.768 | X122.082_0.534 | X130.087_0.452 | X137.046_0.35 | X142.035_0.315 | X172.134_2.343 | X175.148_2.71 | X198.15_2.471 | ... | X705.141_2.339 | X776.148_2.398 | X776.253_2.398 | X776.411_2.398 | X792.329_2.764 | X811.309_2.773 | X811.31_2.767 | X819.211_2.398 | X819.322_2.398 | X819.378_2.399 |\n",
       "|---|---|---|---|---|---|---|---|---|---|---|---|---|---|---|---|---|---|---|---|---|---|\n",
       "| 16 | 0.000000000 | 0.000183314 | 0.000107825 | 0.000309360 | 0.001970824 | 0.003522976 | 0.000556528 | 0.000102431 | 0.000498459 | 0.000054300 | ...         | 0.000129379 | 0.00e+00    | 0.00000000  | 0.00e+00    | 0.000224340 | 0e+00       | 0.000237525 | 0.00e+00    | 0.000000000 | 0.000000000 |\n",
       "| 17 | 0.000000000 | 0.000992729 | 0.000161823 | 0.000092100 | 0.001840271 | 0.005114871 | 0.000622445 | 0.000107426 | 0.000453085 | 0.000058000 | ...         | 0.000124496 | 0.00e+00    | 0.00000000  | 0.00e+00    | 0.000390484 | 0e+00       | 0.000375748 | 0.00e+00    | 0.000000000 | 0.000000000 |\n",
       "| 18 | 0.000081500 | 0.000654834 | 0.000090500 | 0.000067900 | 0.001293540 | 0.006032218 | 0.000696770 | 0.000070400 | 0.000419352 | 0.000078200 | ...         | 0.000112447 | 5.12e-05    | 0.00014672  | 5.81e-05    | 0.000194735 | 9e-05       | 0.000240641 | 5.07e-05    | 0.000111762 | 0.000143191 |\n",
       "| 19 | 0.000194512 | 0.000886580 | 0.000117937 | 0.000000000 | 0.001773159 | 0.007929656 | 0.001007727 | 0.000263573 | 0.000504297 | 0.000114368 | ...         | 0.000000000 | 0.00e+00    | 0.00000000  | 0.00e+00    | 0.000232682 | 0e+00       | 0.000414144 | 0.00e+00    | 0.000000000 | 0.000000000 |\n",
       "| 20 | 0.000000000 | 0.000345774 | 0.000103153 | 0.000163057 | 0.001036544 | 0.003034769 | 0.000714063 | 0.000254360 | 0.000504312 | 0.000124318 | ...         | 0.000000000 | 0.00e+00    | 0.00000000  | 0.00e+00    | 0.000438966 | 0e+00       | 0.000245386 | 0.00e+00    | 0.000000000 | 0.000000000 |\n",
       "| 26 | 0.000066600 | 0.000576991 | 0.000135891 | 0.000096700 | 0.000551945 | 0.005804324 | 0.000751357 | 0.000084300 | 0.000388142 | 0.000039100 | ...         | 0.000047200 | 0.00e+00    | 0.00003480  | 0.00e+00    | 0.000186446 | 0e+00       | 0.000203554 | 3.46e-05    | 0.000038100 | 0.000039900 |\n",
       "\n"
      ],
      "text/plain": [
       "   X268.105_0.35 X269.088_0.35 X111.044_2.768 X122.082_0.534 X130.087_0.452\n",
       "16 0.000000000   0.000183314   0.000107825    0.000309360    0.001970824   \n",
       "17 0.000000000   0.000992729   0.000161823    0.000092100    0.001840271   \n",
       "18 0.000081500   0.000654834   0.000090500    0.000067900    0.001293540   \n",
       "19 0.000194512   0.000886580   0.000117937    0.000000000    0.001773159   \n",
       "20 0.000000000   0.000345774   0.000103153    0.000163057    0.001036544   \n",
       "26 0.000066600   0.000576991   0.000135891    0.000096700    0.000551945   \n",
       "   X137.046_0.35 X142.035_0.315 X172.134_2.343 X175.148_2.71 X198.15_2.471 ...\n",
       "16 0.003522976   0.000556528    0.000102431    0.000498459   0.000054300   ...\n",
       "17 0.005114871   0.000622445    0.000107426    0.000453085   0.000058000   ...\n",
       "18 0.006032218   0.000696770    0.000070400    0.000419352   0.000078200   ...\n",
       "19 0.007929656   0.001007727    0.000263573    0.000504297   0.000114368   ...\n",
       "20 0.003034769   0.000714063    0.000254360    0.000504312   0.000124318   ...\n",
       "26 0.005804324   0.000751357    0.000084300    0.000388142   0.000039100   ...\n",
       "   X705.141_2.339 X776.148_2.398 X776.253_2.398 X776.411_2.398 X792.329_2.764\n",
       "16 0.000129379    0.00e+00       0.00000000     0.00e+00       0.000224340   \n",
       "17 0.000124496    0.00e+00       0.00000000     0.00e+00       0.000390484   \n",
       "18 0.000112447    5.12e-05       0.00014672     5.81e-05       0.000194735   \n",
       "19 0.000000000    0.00e+00       0.00000000     0.00e+00       0.000232682   \n",
       "20 0.000000000    0.00e+00       0.00000000     0.00e+00       0.000438966   \n",
       "26 0.000047200    0.00e+00       0.00003480     0.00e+00       0.000186446   \n",
       "   X811.309_2.773 X811.31_2.767 X819.211_2.398 X819.322_2.398 X819.378_2.399\n",
       "16 0e+00          0.000237525   0.00e+00       0.000000000    0.000000000   \n",
       "17 0e+00          0.000375748   0.00e+00       0.000000000    0.000000000   \n",
       "18 9e-05          0.000240641   5.07e-05       0.000111762    0.000143191   \n",
       "19 0e+00          0.000414144   0.00e+00       0.000000000    0.000000000   \n",
       "20 0e+00          0.000245386   0.00e+00       0.000000000    0.000000000   \n",
       "26 0e+00          0.000203554   3.46e-05       0.000038100    0.000039900   "
      ]
     },
     "metadata": {},
     "output_type": "display_data"
    },
    {
     "data": {
      "text/html": [
       "<dl class=dl-horizontal>\n",
       "\t<dt>X268.105_0.35</dt>\n",
       "\t\t<dd>1</dd>\n",
       "\t<dt>X269.088_0.35</dt>\n",
       "\t\t<dd>2</dd>\n",
       "\t<dt>X111.044_2.768</dt>\n",
       "\t\t<dd>3</dd>\n",
       "\t<dt>X122.082_0.534</dt>\n",
       "\t\t<dd>4</dd>\n",
       "\t<dt>X130.087_0.452</dt>\n",
       "\t\t<dd>5</dd>\n",
       "\t<dt>X137.046_0.35</dt>\n",
       "\t\t<dd>6</dd>\n",
       "</dl>\n"
      ],
      "text/latex": [
       "\\begin{description*}\n",
       "\\item[X268.105\\textbackslash{}\\_0.35] 1\n",
       "\\item[X269.088\\textbackslash{}\\_0.35] 2\n",
       "\\item[X111.044\\textbackslash{}\\_2.768] 3\n",
       "\\item[X122.082\\textbackslash{}\\_0.534] 4\n",
       "\\item[X130.087\\textbackslash{}\\_0.452] 5\n",
       "\\item[X137.046\\textbackslash{}\\_0.35] 6\n",
       "\\end{description*}\n"
      ],
      "text/markdown": [
       "X268.105_0.35\n",
       ":   1X269.088_0.35\n",
       ":   2X111.044_2.768\n",
       ":   3X122.082_0.534\n",
       ":   4X130.087_0.452\n",
       ":   5X137.046_0.35\n",
       ":   6\n",
       "\n"
      ],
      "text/plain": [
       " X268.105_0.35  X269.088_0.35 X111.044_2.768 X122.082_0.534 X130.087_0.452 \n",
       "             1              2              3              4              5 \n",
       " X137.046_0.35 \n",
       "             6 "
      ]
     },
     "metadata": {},
     "output_type": "display_data"
    },
    {
     "data": {
      "text/html": [
       "<table>\n",
       "<thead><tr><th></th><th scope=col>X268.105_0.35</th><th scope=col>X269.088_0.35</th><th scope=col>X111.044_2.768</th><th scope=col>X122.082_0.534</th><th scope=col>X130.087_0.452</th><th scope=col>X137.046_0.35</th><th scope=col>X142.035_0.315</th><th scope=col>X172.134_2.343</th><th scope=col>X175.148_2.71</th><th scope=col>X198.15_2.471</th><th scope=col>...</th><th scope=col>X705.141_2.339</th><th scope=col>X776.148_2.398</th><th scope=col>X776.253_2.398</th><th scope=col>X776.411_2.398</th><th scope=col>X792.329_2.764</th><th scope=col>X811.309_2.773</th><th scope=col>X811.31_2.767</th><th scope=col>X819.211_2.398</th><th scope=col>X819.322_2.398</th><th scope=col>X819.378_2.399</th></tr></thead>\n",
       "<tbody>\n",
       "\t<tr><th scope=row>16</th><td>0.000000000</td><td>0.000183314</td><td>0.000107825</td><td>0.000309360</td><td>0.001970824</td><td>0.003522976</td><td>0.000556528</td><td>0.000102431</td><td>0.000498459</td><td>0.000054300</td><td>...        </td><td>0.000129379</td><td>0.000000000</td><td>0.000000000</td><td>0.000000000</td><td>0.000224340</td><td>0.00000000 </td><td>0.000237525</td><td>0.000000000</td><td>0.000000000</td><td>0.000000000</td></tr>\n",
       "\t<tr><th scope=row>17</th><td>0.000000000</td><td>0.000992729</td><td>0.000161823</td><td>0.000092100</td><td>0.001840271</td><td>0.005114871</td><td>0.000622445</td><td>0.000107426</td><td>0.000453085</td><td>0.000058000</td><td>...        </td><td>0.000124496</td><td>0.000000000</td><td>0.000000000</td><td>0.000000000</td><td>0.000390484</td><td>0.00000000 </td><td>0.000375748</td><td>0.000000000</td><td>0.000000000</td><td>0.000000000</td></tr>\n",
       "\t<tr><th scope=row>18</th><td>0.000081500</td><td>0.000654834</td><td>0.000090500</td><td>0.000067900</td><td>0.001293540</td><td>0.006032218</td><td>0.000696770</td><td>0.000070400</td><td>0.000419352</td><td>0.000078200</td><td>...        </td><td>0.000112447</td><td>0.000051200</td><td>0.000146720</td><td>0.000058100</td><td>0.000194735</td><td>0.00009000 </td><td>0.000240641</td><td>0.000050700</td><td>0.000111762</td><td>0.000143191</td></tr>\n",
       "\t<tr><th scope=row>19</th><td>0.000194512</td><td>0.000886580</td><td>0.000117937</td><td>0.000000000</td><td>0.001773159</td><td>0.007929656</td><td>0.001007727</td><td>0.000263573</td><td>0.000504297</td><td>0.000114368</td><td>...        </td><td>0.000000000</td><td>0.000000000</td><td>0.000000000</td><td>0.000000000</td><td>0.000232682</td><td>0.00000000 </td><td>0.000414144</td><td>0.000000000</td><td>0.000000000</td><td>0.000000000</td></tr>\n",
       "\t<tr><th scope=row>20</th><td>0.000000000</td><td>0.000345774</td><td>0.000103153</td><td>0.000163057</td><td>0.001036544</td><td>0.003034769</td><td>0.000714063</td><td>0.000254360</td><td>0.000504312</td><td>0.000124318</td><td>...        </td><td>0.000000000</td><td>0.000000000</td><td>0.000000000</td><td>0.000000000</td><td>0.000438966</td><td>0.00000000 </td><td>0.000245386</td><td>0.000000000</td><td>0.000000000</td><td>0.000000000</td></tr>\n",
       "\t<tr><th scope=row>26</th><td>0.000066600</td><td>0.000576991</td><td>0.000135891</td><td>0.000096700</td><td>0.000551945</td><td>0.005804324</td><td>0.000751357</td><td>0.000084300</td><td>0.000388142</td><td>0.000039100</td><td>...        </td><td>0.000047200</td><td>0.000000000</td><td>0.000034800</td><td>0.000000000</td><td>0.000186446</td><td>0.00000000 </td><td>0.000203554</td><td>0.000034600</td><td>0.000038100</td><td>0.000039900</td></tr>\n",
       "\t<tr><th scope=row>27</th><td>0.000000000</td><td>0.000000000</td><td>0.000099400</td><td>0.000304705</td><td>0.001991535</td><td>0.002451522</td><td>0.000606347</td><td>0.000121815</td><td>0.000574984</td><td>0.000130283</td><td>...        </td><td>0.000000000</td><td>0.000000000</td><td>0.000000000</td><td>0.000000000</td><td>0.000187176</td><td>0.00009690 </td><td>0.000279351</td><td>0.000000000</td><td>0.000000000</td><td>0.000000000</td></tr>\n",
       "\t<tr><th scope=row>28</th><td>0.000130514</td><td>0.001266298</td><td>0.000135900</td><td>0.000000000</td><td>0.002002601</td><td>0.007417040</td><td>0.001179984</td><td>0.000218109</td><td>0.000652266</td><td>0.000088100</td><td>...        </td><td>0.000000000</td><td>0.000000000</td><td>0.000000000</td><td>0.000000000</td><td>0.000298368</td><td>0.00000000 </td><td>0.000195352</td><td>0.000000000</td><td>0.000000000</td><td>0.000000000</td></tr>\n",
       "\t<tr><th scope=row>29</th><td>0.000105174</td><td>0.001269362</td><td>0.000080300</td><td>0.000000000</td><td>0.001456173</td><td>0.008622080</td><td>0.001034650</td><td>0.000097300</td><td>0.000467139</td><td>0.000127920</td><td>...        </td><td>0.000043800</td><td>0.000000000</td><td>0.000041000</td><td>0.000000000</td><td>0.000092600</td><td>0.00000000 </td><td>0.000155142</td><td>0.000000000</td><td>0.000000000</td><td>0.000038900</td></tr>\n",
       "\t<tr><th scope=row>30</th><td>0.000235018</td><td>0.001779202</td><td>0.000047800</td><td>0.000203930</td><td>0.000806398</td><td>0.011264946</td><td>0.001360412</td><td>0.000286000</td><td>0.000763308</td><td>0.000224575</td><td>...        </td><td>0.000000000</td><td>0.000000000</td><td>0.000000000</td><td>0.000000000</td><td>0.000093100</td><td>0.00000000 </td><td>0.000171101</td><td>0.000000000</td><td>0.000000000</td><td>0.000000000</td></tr>\n",
       "\t<tr><th scope=row>31</th><td>0.000000000</td><td>0.000777921</td><td>0.000149596</td><td>0.000093400</td><td>0.001288794</td><td>0.007488937</td><td>0.001730002</td><td>0.000203944</td><td>0.000603759</td><td>0.000067700</td><td>...        </td><td>0.000097900</td><td>0.000060600</td><td>0.000086500</td><td>0.000000000</td><td>0.000332228</td><td>0.00000000 </td><td>0.000165920</td><td>0.000142555</td><td>0.000073800</td><td>0.000068800</td></tr>\n",
       "\t<tr><th scope=row>32</th><td>0.000184124</td><td>0.001199256</td><td>0.000169725</td><td>0.000000000</td><td>0.001855259</td><td>0.003756643</td><td>0.001178756</td><td>0.000107690</td><td>0.000630378</td><td>0.000068800</td><td>...        </td><td>0.000073200</td><td>0.000000000</td><td>0.000044400</td><td>0.000000000</td><td>0.000389766</td><td>0.00000000 </td><td>0.000117153</td><td>0.000000000</td><td>0.000059900</td><td>0.000000000</td></tr>\n",
       "\t<tr><th scope=row>33</th><td>0.000000000</td><td>0.000493801</td><td>0.000172118</td><td>0.000000000</td><td>0.001944185</td><td>0.003007234</td><td>0.001045994</td><td>0.000131321</td><td>0.000721964</td><td>0.000199916</td><td>...        </td><td>0.000000000</td><td>0.000000000</td><td>0.000000000</td><td>0.000000000</td><td>0.000260496</td><td>0.00000000 </td><td>0.000240681</td><td>0.000000000</td><td>0.000000000</td><td>0.000000000</td></tr>\n",
       "\t<tr><th scope=row>34</th><td>0.000000000</td><td>0.001289220</td><td>0.000067900</td><td>0.000188659</td><td>0.002098471</td><td>0.006139145</td><td>0.000993425</td><td>0.000049000</td><td>0.000586009</td><td>0.000066500</td><td>...        </td><td>0.000000000</td><td>0.000000000</td><td>0.000000000</td><td>0.000000000</td><td>0.000261364</td><td>0.00000000 </td><td>0.000232531</td><td>0.000000000</td><td>0.000000000</td><td>0.000000000</td></tr>\n",
       "\t<tr><th scope=row>35</th><td>0.000000000</td><td>0.001207578</td><td>0.000130190</td><td>0.000000000</td><td>0.001724277</td><td>0.008432595</td><td>0.000899896</td><td>0.000134492</td><td>0.000507595</td><td>0.000067200</td><td>...        </td><td>0.000000000</td><td>0.000000000</td><td>0.000000000</td><td>0.000000000</td><td>0.000291471</td><td>0.00000000 </td><td>0.000305123</td><td>0.000000000</td><td>0.000000000</td><td>0.000000000</td></tr>\n",
       "\t<tr><th scope=row>41</th><td>0.000000000</td><td>0.000372451</td><td>0.000171649</td><td>0.000151070</td><td>0.002014297</td><td>0.008435946</td><td>0.001417468</td><td>0.000168342</td><td>0.000579613</td><td>0.000157488</td><td>...        </td><td>0.000000000</td><td>0.000000000</td><td>0.000000000</td><td>0.000000000</td><td>0.000352920</td><td>0.00000000 </td><td>0.000289495</td><td>0.000000000</td><td>0.000000000</td><td>0.000000000</td></tr>\n",
       "\t<tr><th scope=row>42</th><td>0.000000000</td><td>0.000990453</td><td>0.000115571</td><td>0.000162832</td><td>0.001528128</td><td>0.008433001</td><td>0.001007432</td><td>0.000168754</td><td>0.000541205</td><td>0.000069700</td><td>...        </td><td>0.000000000</td><td>0.000000000</td><td>0.000000000</td><td>0.000000000</td><td>0.000241037</td><td>0.00000000 </td><td>0.000267129</td><td>0.000000000</td><td>0.000000000</td><td>0.000000000</td></tr>\n",
       "\t<tr><th scope=row>43</th><td>0.000049200</td><td>0.001466376</td><td>0.000108086</td><td>0.000202684</td><td>0.001330234</td><td>0.007759698</td><td>0.000947792</td><td>0.000173910</td><td>0.000548099</td><td>0.000080100</td><td>...        </td><td>0.000000000</td><td>0.000000000</td><td>0.000000000</td><td>0.000000000</td><td>0.000200199</td><td>0.00000000 </td><td>0.000115958</td><td>0.000000000</td><td>0.000000000</td><td>0.000000000</td></tr>\n",
       "\t<tr><th scope=row>44</th><td>0.000040400</td><td>0.001199248</td><td>0.000043000</td><td>0.000198858</td><td>0.002019786</td><td>0.010361925</td><td>0.001073012</td><td>0.000168640</td><td>0.000699561</td><td>0.000127907</td><td>...        </td><td>0.000000000</td><td>0.000000000</td><td>0.000000000</td><td>0.000000000</td><td>0.000116016</td><td>0.00000000 </td><td>0.000246070</td><td>0.000000000</td><td>0.000000000</td><td>0.000000000</td></tr>\n",
       "\t<tr><th scope=row>45</th><td>0.000000000</td><td>0.001091141</td><td>0.000000000</td><td>0.000000000</td><td>0.000669432</td><td>0.014184836</td><td>0.001166157</td><td>0.000000000</td><td>0.000736520</td><td>0.000075000</td><td>...        </td><td>0.000000000</td><td>0.000182949</td><td>0.000106257</td><td>0.000069000</td><td>0.000000000</td><td>0.00000000 </td><td>0.000212008</td><td>0.000158738</td><td>0.000246199</td><td>0.000246686</td></tr>\n",
       "\t<tr><th scope=row>46</th><td>0.000000000</td><td>0.000187734</td><td>0.000126210</td><td>0.000000000</td><td>0.000839030</td><td>0.006712240</td><td>0.000591737</td><td>0.000000000</td><td>0.000503418</td><td>0.000060100</td><td>...        </td><td>0.000000000</td><td>0.000000000</td><td>0.000000000</td><td>0.000000000</td><td>0.000217658</td><td>0.00000000 </td><td>0.000305344</td><td>0.000000000</td><td>0.000000000</td><td>0.000000000</td></tr>\n",
       "\t<tr><th scope=row>47</th><td>0.000000000</td><td>0.000851398</td><td>0.000089200</td><td>0.000000000</td><td>0.001176477</td><td>0.008204379</td><td>0.000712078</td><td>0.000027000</td><td>0.000399383</td><td>0.000121439</td><td>...        </td><td>0.000000000</td><td>0.000000000</td><td>0.000042900</td><td>0.000000000</td><td>0.000171192</td><td>0.00000000 </td><td>0.000288835</td><td>0.000000000</td><td>0.000026200</td><td>0.000000000</td></tr>\n",
       "\t<tr><th scope=row>48</th><td>0.000000000</td><td>0.000716125</td><td>0.000100984</td><td>0.000222804</td><td>0.001905121</td><td>0.006692209</td><td>0.000658427</td><td>0.000051600</td><td>0.000566679</td><td>0.000137585</td><td>...        </td><td>0.000000000</td><td>0.000000000</td><td>0.000000000</td><td>0.000000000</td><td>0.000239513</td><td>0.00000000 </td><td>0.000378241</td><td>0.000000000</td><td>0.000052100</td><td>0.000051000</td></tr>\n",
       "\t<tr><th scope=row>49</th><td>0.000000000</td><td>0.001828193</td><td>0.000051200</td><td>0.000192069</td><td>0.000536851</td><td>0.006771088</td><td>0.000875405</td><td>0.000092200</td><td>0.000561033</td><td>0.000065500</td><td>...        </td><td>0.000000000</td><td>0.000000000</td><td>0.000000000</td><td>0.000000000</td><td>0.000199046</td><td>0.00000000 </td><td>0.000213200</td><td>0.000000000</td><td>0.000000000</td><td>0.000000000</td></tr>\n",
       "\t<tr><th scope=row>50</th><td>0.000000000</td><td>0.001688731</td><td>0.000055700</td><td>0.000000000</td><td>0.001206236</td><td>0.007434354</td><td>0.000930525</td><td>0.000103114</td><td>0.000644967</td><td>0.000082700</td><td>...        </td><td>0.000000000</td><td>0.000054900</td><td>0.000062700</td><td>0.000000000</td><td>0.000111896</td><td>0.00000000 </td><td>0.000113423</td><td>0.000051500</td><td>0.000075400</td><td>0.000063400</td></tr>\n",
       "\t<tr><th scope=row>56</th><td>0.000285000</td><td>0.002422382</td><td>0.000041700</td><td>0.000151045</td><td>0.001535945</td><td>0.010253250</td><td>0.001013070</td><td>0.000091800</td><td>0.000563725</td><td>0.000121209</td><td>...        </td><td>0.000000000</td><td>0.000000000</td><td>0.000000000</td><td>0.000000000</td><td>0.000120679</td><td>0.00000000 </td><td>0.000180477</td><td>0.000000000</td><td>0.000000000</td><td>0.000000000</td></tr>\n",
       "\t<tr><th scope=row>57</th><td>0.000000000</td><td>0.000798492</td><td>0.000000000</td><td>0.000000000</td><td>0.001547361</td><td>0.006947334</td><td>0.000839094</td><td>0.000159892</td><td>0.000649621</td><td>0.000212888</td><td>...        </td><td>0.000000000</td><td>0.000000000</td><td>0.000000000</td><td>0.000000000</td><td>0.000041300</td><td>0.00000000 </td><td>0.000144946</td><td>0.000000000</td><td>0.000000000</td><td>0.000000000</td></tr>\n",
       "\t<tr><th scope=row>58</th><td>0.000000000</td><td>0.001686753</td><td>0.000036700</td><td>0.000173325</td><td>0.001953583</td><td>0.014913939</td><td>0.001210268</td><td>0.000102290</td><td>0.000771904</td><td>0.000194342</td><td>...        </td><td>0.000000000</td><td>0.000000000</td><td>0.000044400</td><td>0.000051200</td><td>0.000046800</td><td>0.00000000 </td><td>0.000210275</td><td>0.000000000</td><td>0.000000000</td><td>0.000063400</td></tr>\n",
       "\t<tr><th scope=row>59</th><td>0.000000000</td><td>0.000433701</td><td>0.000000000</td><td>0.000000000</td><td>0.002382109</td><td>0.009114154</td><td>0.000897606</td><td>0.000063300</td><td>0.000869987</td><td>0.000121892</td><td>...        </td><td>0.000000000</td><td>0.000086900</td><td>0.000098000</td><td>0.000000000</td><td>0.000000000</td><td>0.00013597 </td><td>0.000000000</td><td>0.000000000</td><td>0.000000000</td><td>0.000073400</td></tr>\n",
       "\t<tr><th scope=row>60</th><td>0.000000000</td><td>0.001974663</td><td>0.000000000</td><td>0.000299093</td><td>0.002152383</td><td>0.016192237</td><td>0.001290113</td><td>0.000134439</td><td>0.001125558</td><td>0.000301019</td><td>...        </td><td>0.000000000</td><td>0.000249614</td><td>0.000322983</td><td>0.000224382</td><td>0.000000000</td><td>0.00000000 </td><td>0.000056900</td><td>0.000247118</td><td>0.000324736</td><td>0.000287640</td></tr>\n",
       "</tbody>\n",
       "</table>\n"
      ],
      "text/latex": [
       "\\begin{tabular}{r|lllllllllllllllllllllllllllllllllllllllllllllllllllllllllllllll}\n",
       "  & X268.105\\_0.35 & X269.088\\_0.35 & X111.044\\_2.768 & X122.082\\_0.534 & X130.087\\_0.452 & X137.046\\_0.35 & X142.035\\_0.315 & X172.134\\_2.343 & X175.148\\_2.71 & X198.15\\_2.471 & ... & X705.141\\_2.339 & X776.148\\_2.398 & X776.253\\_2.398 & X776.411\\_2.398 & X792.329\\_2.764 & X811.309\\_2.773 & X811.31\\_2.767 & X819.211\\_2.398 & X819.322\\_2.398 & X819.378\\_2.399\\\\\n",
       "\\hline\n",
       "\t16 & 0.000000000 & 0.000183314 & 0.000107825 & 0.000309360 & 0.001970824 & 0.003522976 & 0.000556528 & 0.000102431 & 0.000498459 & 0.000054300 & ...         & 0.000129379 & 0.000000000 & 0.000000000 & 0.000000000 & 0.000224340 & 0.00000000  & 0.000237525 & 0.000000000 & 0.000000000 & 0.000000000\\\\\n",
       "\t17 & 0.000000000 & 0.000992729 & 0.000161823 & 0.000092100 & 0.001840271 & 0.005114871 & 0.000622445 & 0.000107426 & 0.000453085 & 0.000058000 & ...         & 0.000124496 & 0.000000000 & 0.000000000 & 0.000000000 & 0.000390484 & 0.00000000  & 0.000375748 & 0.000000000 & 0.000000000 & 0.000000000\\\\\n",
       "\t18 & 0.000081500 & 0.000654834 & 0.000090500 & 0.000067900 & 0.001293540 & 0.006032218 & 0.000696770 & 0.000070400 & 0.000419352 & 0.000078200 & ...         & 0.000112447 & 0.000051200 & 0.000146720 & 0.000058100 & 0.000194735 & 0.00009000  & 0.000240641 & 0.000050700 & 0.000111762 & 0.000143191\\\\\n",
       "\t19 & 0.000194512 & 0.000886580 & 0.000117937 & 0.000000000 & 0.001773159 & 0.007929656 & 0.001007727 & 0.000263573 & 0.000504297 & 0.000114368 & ...         & 0.000000000 & 0.000000000 & 0.000000000 & 0.000000000 & 0.000232682 & 0.00000000  & 0.000414144 & 0.000000000 & 0.000000000 & 0.000000000\\\\\n",
       "\t20 & 0.000000000 & 0.000345774 & 0.000103153 & 0.000163057 & 0.001036544 & 0.003034769 & 0.000714063 & 0.000254360 & 0.000504312 & 0.000124318 & ...         & 0.000000000 & 0.000000000 & 0.000000000 & 0.000000000 & 0.000438966 & 0.00000000  & 0.000245386 & 0.000000000 & 0.000000000 & 0.000000000\\\\\n",
       "\t26 & 0.000066600 & 0.000576991 & 0.000135891 & 0.000096700 & 0.000551945 & 0.005804324 & 0.000751357 & 0.000084300 & 0.000388142 & 0.000039100 & ...         & 0.000047200 & 0.000000000 & 0.000034800 & 0.000000000 & 0.000186446 & 0.00000000  & 0.000203554 & 0.000034600 & 0.000038100 & 0.000039900\\\\\n",
       "\t27 & 0.000000000 & 0.000000000 & 0.000099400 & 0.000304705 & 0.001991535 & 0.002451522 & 0.000606347 & 0.000121815 & 0.000574984 & 0.000130283 & ...         & 0.000000000 & 0.000000000 & 0.000000000 & 0.000000000 & 0.000187176 & 0.00009690  & 0.000279351 & 0.000000000 & 0.000000000 & 0.000000000\\\\\n",
       "\t28 & 0.000130514 & 0.001266298 & 0.000135900 & 0.000000000 & 0.002002601 & 0.007417040 & 0.001179984 & 0.000218109 & 0.000652266 & 0.000088100 & ...         & 0.000000000 & 0.000000000 & 0.000000000 & 0.000000000 & 0.000298368 & 0.00000000  & 0.000195352 & 0.000000000 & 0.000000000 & 0.000000000\\\\\n",
       "\t29 & 0.000105174 & 0.001269362 & 0.000080300 & 0.000000000 & 0.001456173 & 0.008622080 & 0.001034650 & 0.000097300 & 0.000467139 & 0.000127920 & ...         & 0.000043800 & 0.000000000 & 0.000041000 & 0.000000000 & 0.000092600 & 0.00000000  & 0.000155142 & 0.000000000 & 0.000000000 & 0.000038900\\\\\n",
       "\t30 & 0.000235018 & 0.001779202 & 0.000047800 & 0.000203930 & 0.000806398 & 0.011264946 & 0.001360412 & 0.000286000 & 0.000763308 & 0.000224575 & ...         & 0.000000000 & 0.000000000 & 0.000000000 & 0.000000000 & 0.000093100 & 0.00000000  & 0.000171101 & 0.000000000 & 0.000000000 & 0.000000000\\\\\n",
       "\t31 & 0.000000000 & 0.000777921 & 0.000149596 & 0.000093400 & 0.001288794 & 0.007488937 & 0.001730002 & 0.000203944 & 0.000603759 & 0.000067700 & ...         & 0.000097900 & 0.000060600 & 0.000086500 & 0.000000000 & 0.000332228 & 0.00000000  & 0.000165920 & 0.000142555 & 0.000073800 & 0.000068800\\\\\n",
       "\t32 & 0.000184124 & 0.001199256 & 0.000169725 & 0.000000000 & 0.001855259 & 0.003756643 & 0.001178756 & 0.000107690 & 0.000630378 & 0.000068800 & ...         & 0.000073200 & 0.000000000 & 0.000044400 & 0.000000000 & 0.000389766 & 0.00000000  & 0.000117153 & 0.000000000 & 0.000059900 & 0.000000000\\\\\n",
       "\t33 & 0.000000000 & 0.000493801 & 0.000172118 & 0.000000000 & 0.001944185 & 0.003007234 & 0.001045994 & 0.000131321 & 0.000721964 & 0.000199916 & ...         & 0.000000000 & 0.000000000 & 0.000000000 & 0.000000000 & 0.000260496 & 0.00000000  & 0.000240681 & 0.000000000 & 0.000000000 & 0.000000000\\\\\n",
       "\t34 & 0.000000000 & 0.001289220 & 0.000067900 & 0.000188659 & 0.002098471 & 0.006139145 & 0.000993425 & 0.000049000 & 0.000586009 & 0.000066500 & ...         & 0.000000000 & 0.000000000 & 0.000000000 & 0.000000000 & 0.000261364 & 0.00000000  & 0.000232531 & 0.000000000 & 0.000000000 & 0.000000000\\\\\n",
       "\t35 & 0.000000000 & 0.001207578 & 0.000130190 & 0.000000000 & 0.001724277 & 0.008432595 & 0.000899896 & 0.000134492 & 0.000507595 & 0.000067200 & ...         & 0.000000000 & 0.000000000 & 0.000000000 & 0.000000000 & 0.000291471 & 0.00000000  & 0.000305123 & 0.000000000 & 0.000000000 & 0.000000000\\\\\n",
       "\t41 & 0.000000000 & 0.000372451 & 0.000171649 & 0.000151070 & 0.002014297 & 0.008435946 & 0.001417468 & 0.000168342 & 0.000579613 & 0.000157488 & ...         & 0.000000000 & 0.000000000 & 0.000000000 & 0.000000000 & 0.000352920 & 0.00000000  & 0.000289495 & 0.000000000 & 0.000000000 & 0.000000000\\\\\n",
       "\t42 & 0.000000000 & 0.000990453 & 0.000115571 & 0.000162832 & 0.001528128 & 0.008433001 & 0.001007432 & 0.000168754 & 0.000541205 & 0.000069700 & ...         & 0.000000000 & 0.000000000 & 0.000000000 & 0.000000000 & 0.000241037 & 0.00000000  & 0.000267129 & 0.000000000 & 0.000000000 & 0.000000000\\\\\n",
       "\t43 & 0.000049200 & 0.001466376 & 0.000108086 & 0.000202684 & 0.001330234 & 0.007759698 & 0.000947792 & 0.000173910 & 0.000548099 & 0.000080100 & ...         & 0.000000000 & 0.000000000 & 0.000000000 & 0.000000000 & 0.000200199 & 0.00000000  & 0.000115958 & 0.000000000 & 0.000000000 & 0.000000000\\\\\n",
       "\t44 & 0.000040400 & 0.001199248 & 0.000043000 & 0.000198858 & 0.002019786 & 0.010361925 & 0.001073012 & 0.000168640 & 0.000699561 & 0.000127907 & ...         & 0.000000000 & 0.000000000 & 0.000000000 & 0.000000000 & 0.000116016 & 0.00000000  & 0.000246070 & 0.000000000 & 0.000000000 & 0.000000000\\\\\n",
       "\t45 & 0.000000000 & 0.001091141 & 0.000000000 & 0.000000000 & 0.000669432 & 0.014184836 & 0.001166157 & 0.000000000 & 0.000736520 & 0.000075000 & ...         & 0.000000000 & 0.000182949 & 0.000106257 & 0.000069000 & 0.000000000 & 0.00000000  & 0.000212008 & 0.000158738 & 0.000246199 & 0.000246686\\\\\n",
       "\t46 & 0.000000000 & 0.000187734 & 0.000126210 & 0.000000000 & 0.000839030 & 0.006712240 & 0.000591737 & 0.000000000 & 0.000503418 & 0.000060100 & ...         & 0.000000000 & 0.000000000 & 0.000000000 & 0.000000000 & 0.000217658 & 0.00000000  & 0.000305344 & 0.000000000 & 0.000000000 & 0.000000000\\\\\n",
       "\t47 & 0.000000000 & 0.000851398 & 0.000089200 & 0.000000000 & 0.001176477 & 0.008204379 & 0.000712078 & 0.000027000 & 0.000399383 & 0.000121439 & ...         & 0.000000000 & 0.000000000 & 0.000042900 & 0.000000000 & 0.000171192 & 0.00000000  & 0.000288835 & 0.000000000 & 0.000026200 & 0.000000000\\\\\n",
       "\t48 & 0.000000000 & 0.000716125 & 0.000100984 & 0.000222804 & 0.001905121 & 0.006692209 & 0.000658427 & 0.000051600 & 0.000566679 & 0.000137585 & ...         & 0.000000000 & 0.000000000 & 0.000000000 & 0.000000000 & 0.000239513 & 0.00000000  & 0.000378241 & 0.000000000 & 0.000052100 & 0.000051000\\\\\n",
       "\t49 & 0.000000000 & 0.001828193 & 0.000051200 & 0.000192069 & 0.000536851 & 0.006771088 & 0.000875405 & 0.000092200 & 0.000561033 & 0.000065500 & ...         & 0.000000000 & 0.000000000 & 0.000000000 & 0.000000000 & 0.000199046 & 0.00000000  & 0.000213200 & 0.000000000 & 0.000000000 & 0.000000000\\\\\n",
       "\t50 & 0.000000000 & 0.001688731 & 0.000055700 & 0.000000000 & 0.001206236 & 0.007434354 & 0.000930525 & 0.000103114 & 0.000644967 & 0.000082700 & ...         & 0.000000000 & 0.000054900 & 0.000062700 & 0.000000000 & 0.000111896 & 0.00000000  & 0.000113423 & 0.000051500 & 0.000075400 & 0.000063400\\\\\n",
       "\t56 & 0.000285000 & 0.002422382 & 0.000041700 & 0.000151045 & 0.001535945 & 0.010253250 & 0.001013070 & 0.000091800 & 0.000563725 & 0.000121209 & ...         & 0.000000000 & 0.000000000 & 0.000000000 & 0.000000000 & 0.000120679 & 0.00000000  & 0.000180477 & 0.000000000 & 0.000000000 & 0.000000000\\\\\n",
       "\t57 & 0.000000000 & 0.000798492 & 0.000000000 & 0.000000000 & 0.001547361 & 0.006947334 & 0.000839094 & 0.000159892 & 0.000649621 & 0.000212888 & ...         & 0.000000000 & 0.000000000 & 0.000000000 & 0.000000000 & 0.000041300 & 0.00000000  & 0.000144946 & 0.000000000 & 0.000000000 & 0.000000000\\\\\n",
       "\t58 & 0.000000000 & 0.001686753 & 0.000036700 & 0.000173325 & 0.001953583 & 0.014913939 & 0.001210268 & 0.000102290 & 0.000771904 & 0.000194342 & ...         & 0.000000000 & 0.000000000 & 0.000044400 & 0.000051200 & 0.000046800 & 0.00000000  & 0.000210275 & 0.000000000 & 0.000000000 & 0.000063400\\\\\n",
       "\t59 & 0.000000000 & 0.000433701 & 0.000000000 & 0.000000000 & 0.002382109 & 0.009114154 & 0.000897606 & 0.000063300 & 0.000869987 & 0.000121892 & ...         & 0.000000000 & 0.000086900 & 0.000098000 & 0.000000000 & 0.000000000 & 0.00013597  & 0.000000000 & 0.000000000 & 0.000000000 & 0.000073400\\\\\n",
       "\t60 & 0.000000000 & 0.001974663 & 0.000000000 & 0.000299093 & 0.002152383 & 0.016192237 & 0.001290113 & 0.000134439 & 0.001125558 & 0.000301019 & ...         & 0.000000000 & 0.000249614 & 0.000322983 & 0.000224382 & 0.000000000 & 0.00000000  & 0.000056900 & 0.000247118 & 0.000324736 & 0.000287640\\\\\n",
       "\\end{tabular}\n"
      ],
      "text/markdown": [
       "\n",
       "| <!--/--> | X268.105_0.35 | X269.088_0.35 | X111.044_2.768 | X122.082_0.534 | X130.087_0.452 | X137.046_0.35 | X142.035_0.315 | X172.134_2.343 | X175.148_2.71 | X198.15_2.471 | ... | X705.141_2.339 | X776.148_2.398 | X776.253_2.398 | X776.411_2.398 | X792.329_2.764 | X811.309_2.773 | X811.31_2.767 | X819.211_2.398 | X819.322_2.398 | X819.378_2.399 |\n",
       "|---|---|---|---|---|---|---|---|---|---|---|---|---|---|---|---|---|---|---|---|---|---|\n",
       "| 16 | 0.000000000 | 0.000183314 | 0.000107825 | 0.000309360 | 0.001970824 | 0.003522976 | 0.000556528 | 0.000102431 | 0.000498459 | 0.000054300 | ...         | 0.000129379 | 0.000000000 | 0.000000000 | 0.000000000 | 0.000224340 | 0.00000000  | 0.000237525 | 0.000000000 | 0.000000000 | 0.000000000 |\n",
       "| 17 | 0.000000000 | 0.000992729 | 0.000161823 | 0.000092100 | 0.001840271 | 0.005114871 | 0.000622445 | 0.000107426 | 0.000453085 | 0.000058000 | ...         | 0.000124496 | 0.000000000 | 0.000000000 | 0.000000000 | 0.000390484 | 0.00000000  | 0.000375748 | 0.000000000 | 0.000000000 | 0.000000000 |\n",
       "| 18 | 0.000081500 | 0.000654834 | 0.000090500 | 0.000067900 | 0.001293540 | 0.006032218 | 0.000696770 | 0.000070400 | 0.000419352 | 0.000078200 | ...         | 0.000112447 | 0.000051200 | 0.000146720 | 0.000058100 | 0.000194735 | 0.00009000  | 0.000240641 | 0.000050700 | 0.000111762 | 0.000143191 |\n",
       "| 19 | 0.000194512 | 0.000886580 | 0.000117937 | 0.000000000 | 0.001773159 | 0.007929656 | 0.001007727 | 0.000263573 | 0.000504297 | 0.000114368 | ...         | 0.000000000 | 0.000000000 | 0.000000000 | 0.000000000 | 0.000232682 | 0.00000000  | 0.000414144 | 0.000000000 | 0.000000000 | 0.000000000 |\n",
       "| 20 | 0.000000000 | 0.000345774 | 0.000103153 | 0.000163057 | 0.001036544 | 0.003034769 | 0.000714063 | 0.000254360 | 0.000504312 | 0.000124318 | ...         | 0.000000000 | 0.000000000 | 0.000000000 | 0.000000000 | 0.000438966 | 0.00000000  | 0.000245386 | 0.000000000 | 0.000000000 | 0.000000000 |\n",
       "| 26 | 0.000066600 | 0.000576991 | 0.000135891 | 0.000096700 | 0.000551945 | 0.005804324 | 0.000751357 | 0.000084300 | 0.000388142 | 0.000039100 | ...         | 0.000047200 | 0.000000000 | 0.000034800 | 0.000000000 | 0.000186446 | 0.00000000  | 0.000203554 | 0.000034600 | 0.000038100 | 0.000039900 |\n",
       "| 27 | 0.000000000 | 0.000000000 | 0.000099400 | 0.000304705 | 0.001991535 | 0.002451522 | 0.000606347 | 0.000121815 | 0.000574984 | 0.000130283 | ...         | 0.000000000 | 0.000000000 | 0.000000000 | 0.000000000 | 0.000187176 | 0.00009690  | 0.000279351 | 0.000000000 | 0.000000000 | 0.000000000 |\n",
       "| 28 | 0.000130514 | 0.001266298 | 0.000135900 | 0.000000000 | 0.002002601 | 0.007417040 | 0.001179984 | 0.000218109 | 0.000652266 | 0.000088100 | ...         | 0.000000000 | 0.000000000 | 0.000000000 | 0.000000000 | 0.000298368 | 0.00000000  | 0.000195352 | 0.000000000 | 0.000000000 | 0.000000000 |\n",
       "| 29 | 0.000105174 | 0.001269362 | 0.000080300 | 0.000000000 | 0.001456173 | 0.008622080 | 0.001034650 | 0.000097300 | 0.000467139 | 0.000127920 | ...         | 0.000043800 | 0.000000000 | 0.000041000 | 0.000000000 | 0.000092600 | 0.00000000  | 0.000155142 | 0.000000000 | 0.000000000 | 0.000038900 |\n",
       "| 30 | 0.000235018 | 0.001779202 | 0.000047800 | 0.000203930 | 0.000806398 | 0.011264946 | 0.001360412 | 0.000286000 | 0.000763308 | 0.000224575 | ...         | 0.000000000 | 0.000000000 | 0.000000000 | 0.000000000 | 0.000093100 | 0.00000000  | 0.000171101 | 0.000000000 | 0.000000000 | 0.000000000 |\n",
       "| 31 | 0.000000000 | 0.000777921 | 0.000149596 | 0.000093400 | 0.001288794 | 0.007488937 | 0.001730002 | 0.000203944 | 0.000603759 | 0.000067700 | ...         | 0.000097900 | 0.000060600 | 0.000086500 | 0.000000000 | 0.000332228 | 0.00000000  | 0.000165920 | 0.000142555 | 0.000073800 | 0.000068800 |\n",
       "| 32 | 0.000184124 | 0.001199256 | 0.000169725 | 0.000000000 | 0.001855259 | 0.003756643 | 0.001178756 | 0.000107690 | 0.000630378 | 0.000068800 | ...         | 0.000073200 | 0.000000000 | 0.000044400 | 0.000000000 | 0.000389766 | 0.00000000  | 0.000117153 | 0.000000000 | 0.000059900 | 0.000000000 |\n",
       "| 33 | 0.000000000 | 0.000493801 | 0.000172118 | 0.000000000 | 0.001944185 | 0.003007234 | 0.001045994 | 0.000131321 | 0.000721964 | 0.000199916 | ...         | 0.000000000 | 0.000000000 | 0.000000000 | 0.000000000 | 0.000260496 | 0.00000000  | 0.000240681 | 0.000000000 | 0.000000000 | 0.000000000 |\n",
       "| 34 | 0.000000000 | 0.001289220 | 0.000067900 | 0.000188659 | 0.002098471 | 0.006139145 | 0.000993425 | 0.000049000 | 0.000586009 | 0.000066500 | ...         | 0.000000000 | 0.000000000 | 0.000000000 | 0.000000000 | 0.000261364 | 0.00000000  | 0.000232531 | 0.000000000 | 0.000000000 | 0.000000000 |\n",
       "| 35 | 0.000000000 | 0.001207578 | 0.000130190 | 0.000000000 | 0.001724277 | 0.008432595 | 0.000899896 | 0.000134492 | 0.000507595 | 0.000067200 | ...         | 0.000000000 | 0.000000000 | 0.000000000 | 0.000000000 | 0.000291471 | 0.00000000  | 0.000305123 | 0.000000000 | 0.000000000 | 0.000000000 |\n",
       "| 41 | 0.000000000 | 0.000372451 | 0.000171649 | 0.000151070 | 0.002014297 | 0.008435946 | 0.001417468 | 0.000168342 | 0.000579613 | 0.000157488 | ...         | 0.000000000 | 0.000000000 | 0.000000000 | 0.000000000 | 0.000352920 | 0.00000000  | 0.000289495 | 0.000000000 | 0.000000000 | 0.000000000 |\n",
       "| 42 | 0.000000000 | 0.000990453 | 0.000115571 | 0.000162832 | 0.001528128 | 0.008433001 | 0.001007432 | 0.000168754 | 0.000541205 | 0.000069700 | ...         | 0.000000000 | 0.000000000 | 0.000000000 | 0.000000000 | 0.000241037 | 0.00000000  | 0.000267129 | 0.000000000 | 0.000000000 | 0.000000000 |\n",
       "| 43 | 0.000049200 | 0.001466376 | 0.000108086 | 0.000202684 | 0.001330234 | 0.007759698 | 0.000947792 | 0.000173910 | 0.000548099 | 0.000080100 | ...         | 0.000000000 | 0.000000000 | 0.000000000 | 0.000000000 | 0.000200199 | 0.00000000  | 0.000115958 | 0.000000000 | 0.000000000 | 0.000000000 |\n",
       "| 44 | 0.000040400 | 0.001199248 | 0.000043000 | 0.000198858 | 0.002019786 | 0.010361925 | 0.001073012 | 0.000168640 | 0.000699561 | 0.000127907 | ...         | 0.000000000 | 0.000000000 | 0.000000000 | 0.000000000 | 0.000116016 | 0.00000000  | 0.000246070 | 0.000000000 | 0.000000000 | 0.000000000 |\n",
       "| 45 | 0.000000000 | 0.001091141 | 0.000000000 | 0.000000000 | 0.000669432 | 0.014184836 | 0.001166157 | 0.000000000 | 0.000736520 | 0.000075000 | ...         | 0.000000000 | 0.000182949 | 0.000106257 | 0.000069000 | 0.000000000 | 0.00000000  | 0.000212008 | 0.000158738 | 0.000246199 | 0.000246686 |\n",
       "| 46 | 0.000000000 | 0.000187734 | 0.000126210 | 0.000000000 | 0.000839030 | 0.006712240 | 0.000591737 | 0.000000000 | 0.000503418 | 0.000060100 | ...         | 0.000000000 | 0.000000000 | 0.000000000 | 0.000000000 | 0.000217658 | 0.00000000  | 0.000305344 | 0.000000000 | 0.000000000 | 0.000000000 |\n",
       "| 47 | 0.000000000 | 0.000851398 | 0.000089200 | 0.000000000 | 0.001176477 | 0.008204379 | 0.000712078 | 0.000027000 | 0.000399383 | 0.000121439 | ...         | 0.000000000 | 0.000000000 | 0.000042900 | 0.000000000 | 0.000171192 | 0.00000000  | 0.000288835 | 0.000000000 | 0.000026200 | 0.000000000 |\n",
       "| 48 | 0.000000000 | 0.000716125 | 0.000100984 | 0.000222804 | 0.001905121 | 0.006692209 | 0.000658427 | 0.000051600 | 0.000566679 | 0.000137585 | ...         | 0.000000000 | 0.000000000 | 0.000000000 | 0.000000000 | 0.000239513 | 0.00000000  | 0.000378241 | 0.000000000 | 0.000052100 | 0.000051000 |\n",
       "| 49 | 0.000000000 | 0.001828193 | 0.000051200 | 0.000192069 | 0.000536851 | 0.006771088 | 0.000875405 | 0.000092200 | 0.000561033 | 0.000065500 | ...         | 0.000000000 | 0.000000000 | 0.000000000 | 0.000000000 | 0.000199046 | 0.00000000  | 0.000213200 | 0.000000000 | 0.000000000 | 0.000000000 |\n",
       "| 50 | 0.000000000 | 0.001688731 | 0.000055700 | 0.000000000 | 0.001206236 | 0.007434354 | 0.000930525 | 0.000103114 | 0.000644967 | 0.000082700 | ...         | 0.000000000 | 0.000054900 | 0.000062700 | 0.000000000 | 0.000111896 | 0.00000000  | 0.000113423 | 0.000051500 | 0.000075400 | 0.000063400 |\n",
       "| 56 | 0.000285000 | 0.002422382 | 0.000041700 | 0.000151045 | 0.001535945 | 0.010253250 | 0.001013070 | 0.000091800 | 0.000563725 | 0.000121209 | ...         | 0.000000000 | 0.000000000 | 0.000000000 | 0.000000000 | 0.000120679 | 0.00000000  | 0.000180477 | 0.000000000 | 0.000000000 | 0.000000000 |\n",
       "| 57 | 0.000000000 | 0.000798492 | 0.000000000 | 0.000000000 | 0.001547361 | 0.006947334 | 0.000839094 | 0.000159892 | 0.000649621 | 0.000212888 | ...         | 0.000000000 | 0.000000000 | 0.000000000 | 0.000000000 | 0.000041300 | 0.00000000  | 0.000144946 | 0.000000000 | 0.000000000 | 0.000000000 |\n",
       "| 58 | 0.000000000 | 0.001686753 | 0.000036700 | 0.000173325 | 0.001953583 | 0.014913939 | 0.001210268 | 0.000102290 | 0.000771904 | 0.000194342 | ...         | 0.000000000 | 0.000000000 | 0.000044400 | 0.000051200 | 0.000046800 | 0.00000000  | 0.000210275 | 0.000000000 | 0.000000000 | 0.000063400 |\n",
       "| 59 | 0.000000000 | 0.000433701 | 0.000000000 | 0.000000000 | 0.002382109 | 0.009114154 | 0.000897606 | 0.000063300 | 0.000869987 | 0.000121892 | ...         | 0.000000000 | 0.000086900 | 0.000098000 | 0.000000000 | 0.000000000 | 0.00013597  | 0.000000000 | 0.000000000 | 0.000000000 | 0.000073400 |\n",
       "| 60 | 0.000000000 | 0.001974663 | 0.000000000 | 0.000299093 | 0.002152383 | 0.016192237 | 0.001290113 | 0.000134439 | 0.001125558 | 0.000301019 | ...         | 0.000000000 | 0.000249614 | 0.000322983 | 0.000224382 | 0.000000000 | 0.00000000  | 0.000056900 | 0.000247118 | 0.000324736 | 0.000287640 |\n",
       "\n"
      ],
      "text/plain": [
       "   X268.105_0.35 X269.088_0.35 X111.044_2.768 X122.082_0.534 X130.087_0.452\n",
       "16 0.000000000   0.000183314   0.000107825    0.000309360    0.001970824   \n",
       "17 0.000000000   0.000992729   0.000161823    0.000092100    0.001840271   \n",
       "18 0.000081500   0.000654834   0.000090500    0.000067900    0.001293540   \n",
       "19 0.000194512   0.000886580   0.000117937    0.000000000    0.001773159   \n",
       "20 0.000000000   0.000345774   0.000103153    0.000163057    0.001036544   \n",
       "26 0.000066600   0.000576991   0.000135891    0.000096700    0.000551945   \n",
       "27 0.000000000   0.000000000   0.000099400    0.000304705    0.001991535   \n",
       "28 0.000130514   0.001266298   0.000135900    0.000000000    0.002002601   \n",
       "29 0.000105174   0.001269362   0.000080300    0.000000000    0.001456173   \n",
       "30 0.000235018   0.001779202   0.000047800    0.000203930    0.000806398   \n",
       "31 0.000000000   0.000777921   0.000149596    0.000093400    0.001288794   \n",
       "32 0.000184124   0.001199256   0.000169725    0.000000000    0.001855259   \n",
       "33 0.000000000   0.000493801   0.000172118    0.000000000    0.001944185   \n",
       "34 0.000000000   0.001289220   0.000067900    0.000188659    0.002098471   \n",
       "35 0.000000000   0.001207578   0.000130190    0.000000000    0.001724277   \n",
       "41 0.000000000   0.000372451   0.000171649    0.000151070    0.002014297   \n",
       "42 0.000000000   0.000990453   0.000115571    0.000162832    0.001528128   \n",
       "43 0.000049200   0.001466376   0.000108086    0.000202684    0.001330234   \n",
       "44 0.000040400   0.001199248   0.000043000    0.000198858    0.002019786   \n",
       "45 0.000000000   0.001091141   0.000000000    0.000000000    0.000669432   \n",
       "46 0.000000000   0.000187734   0.000126210    0.000000000    0.000839030   \n",
       "47 0.000000000   0.000851398   0.000089200    0.000000000    0.001176477   \n",
       "48 0.000000000   0.000716125   0.000100984    0.000222804    0.001905121   \n",
       "49 0.000000000   0.001828193   0.000051200    0.000192069    0.000536851   \n",
       "50 0.000000000   0.001688731   0.000055700    0.000000000    0.001206236   \n",
       "56 0.000285000   0.002422382   0.000041700    0.000151045    0.001535945   \n",
       "57 0.000000000   0.000798492   0.000000000    0.000000000    0.001547361   \n",
       "58 0.000000000   0.001686753   0.000036700    0.000173325    0.001953583   \n",
       "59 0.000000000   0.000433701   0.000000000    0.000000000    0.002382109   \n",
       "60 0.000000000   0.001974663   0.000000000    0.000299093    0.002152383   \n",
       "   X137.046_0.35 X142.035_0.315 X172.134_2.343 X175.148_2.71 X198.15_2.471 ...\n",
       "16 0.003522976   0.000556528    0.000102431    0.000498459   0.000054300   ...\n",
       "17 0.005114871   0.000622445    0.000107426    0.000453085   0.000058000   ...\n",
       "18 0.006032218   0.000696770    0.000070400    0.000419352   0.000078200   ...\n",
       "19 0.007929656   0.001007727    0.000263573    0.000504297   0.000114368   ...\n",
       "20 0.003034769   0.000714063    0.000254360    0.000504312   0.000124318   ...\n",
       "26 0.005804324   0.000751357    0.000084300    0.000388142   0.000039100   ...\n",
       "27 0.002451522   0.000606347    0.000121815    0.000574984   0.000130283   ...\n",
       "28 0.007417040   0.001179984    0.000218109    0.000652266   0.000088100   ...\n",
       "29 0.008622080   0.001034650    0.000097300    0.000467139   0.000127920   ...\n",
       "30 0.011264946   0.001360412    0.000286000    0.000763308   0.000224575   ...\n",
       "31 0.007488937   0.001730002    0.000203944    0.000603759   0.000067700   ...\n",
       "32 0.003756643   0.001178756    0.000107690    0.000630378   0.000068800   ...\n",
       "33 0.003007234   0.001045994    0.000131321    0.000721964   0.000199916   ...\n",
       "34 0.006139145   0.000993425    0.000049000    0.000586009   0.000066500   ...\n",
       "35 0.008432595   0.000899896    0.000134492    0.000507595   0.000067200   ...\n",
       "41 0.008435946   0.001417468    0.000168342    0.000579613   0.000157488   ...\n",
       "42 0.008433001   0.001007432    0.000168754    0.000541205   0.000069700   ...\n",
       "43 0.007759698   0.000947792    0.000173910    0.000548099   0.000080100   ...\n",
       "44 0.010361925   0.001073012    0.000168640    0.000699561   0.000127907   ...\n",
       "45 0.014184836   0.001166157    0.000000000    0.000736520   0.000075000   ...\n",
       "46 0.006712240   0.000591737    0.000000000    0.000503418   0.000060100   ...\n",
       "47 0.008204379   0.000712078    0.000027000    0.000399383   0.000121439   ...\n",
       "48 0.006692209   0.000658427    0.000051600    0.000566679   0.000137585   ...\n",
       "49 0.006771088   0.000875405    0.000092200    0.000561033   0.000065500   ...\n",
       "50 0.007434354   0.000930525    0.000103114    0.000644967   0.000082700   ...\n",
       "56 0.010253250   0.001013070    0.000091800    0.000563725   0.000121209   ...\n",
       "57 0.006947334   0.000839094    0.000159892    0.000649621   0.000212888   ...\n",
       "58 0.014913939   0.001210268    0.000102290    0.000771904   0.000194342   ...\n",
       "59 0.009114154   0.000897606    0.000063300    0.000869987   0.000121892   ...\n",
       "60 0.016192237   0.001290113    0.000134439    0.001125558   0.000301019   ...\n",
       "   X705.141_2.339 X776.148_2.398 X776.253_2.398 X776.411_2.398 X792.329_2.764\n",
       "16 0.000129379    0.000000000    0.000000000    0.000000000    0.000224340   \n",
       "17 0.000124496    0.000000000    0.000000000    0.000000000    0.000390484   \n",
       "18 0.000112447    0.000051200    0.000146720    0.000058100    0.000194735   \n",
       "19 0.000000000    0.000000000    0.000000000    0.000000000    0.000232682   \n",
       "20 0.000000000    0.000000000    0.000000000    0.000000000    0.000438966   \n",
       "26 0.000047200    0.000000000    0.000034800    0.000000000    0.000186446   \n",
       "27 0.000000000    0.000000000    0.000000000    0.000000000    0.000187176   \n",
       "28 0.000000000    0.000000000    0.000000000    0.000000000    0.000298368   \n",
       "29 0.000043800    0.000000000    0.000041000    0.000000000    0.000092600   \n",
       "30 0.000000000    0.000000000    0.000000000    0.000000000    0.000093100   \n",
       "31 0.000097900    0.000060600    0.000086500    0.000000000    0.000332228   \n",
       "32 0.000073200    0.000000000    0.000044400    0.000000000    0.000389766   \n",
       "33 0.000000000    0.000000000    0.000000000    0.000000000    0.000260496   \n",
       "34 0.000000000    0.000000000    0.000000000    0.000000000    0.000261364   \n",
       "35 0.000000000    0.000000000    0.000000000    0.000000000    0.000291471   \n",
       "41 0.000000000    0.000000000    0.000000000    0.000000000    0.000352920   \n",
       "42 0.000000000    0.000000000    0.000000000    0.000000000    0.000241037   \n",
       "43 0.000000000    0.000000000    0.000000000    0.000000000    0.000200199   \n",
       "44 0.000000000    0.000000000    0.000000000    0.000000000    0.000116016   \n",
       "45 0.000000000    0.000182949    0.000106257    0.000069000    0.000000000   \n",
       "46 0.000000000    0.000000000    0.000000000    0.000000000    0.000217658   \n",
       "47 0.000000000    0.000000000    0.000042900    0.000000000    0.000171192   \n",
       "48 0.000000000    0.000000000    0.000000000    0.000000000    0.000239513   \n",
       "49 0.000000000    0.000000000    0.000000000    0.000000000    0.000199046   \n",
       "50 0.000000000    0.000054900    0.000062700    0.000000000    0.000111896   \n",
       "56 0.000000000    0.000000000    0.000000000    0.000000000    0.000120679   \n",
       "57 0.000000000    0.000000000    0.000000000    0.000000000    0.000041300   \n",
       "58 0.000000000    0.000000000    0.000044400    0.000051200    0.000046800   \n",
       "59 0.000000000    0.000086900    0.000098000    0.000000000    0.000000000   \n",
       "60 0.000000000    0.000249614    0.000322983    0.000224382    0.000000000   \n",
       "   X811.309_2.773 X811.31_2.767 X819.211_2.398 X819.322_2.398 X819.378_2.399\n",
       "16 0.00000000     0.000237525   0.000000000    0.000000000    0.000000000   \n",
       "17 0.00000000     0.000375748   0.000000000    0.000000000    0.000000000   \n",
       "18 0.00009000     0.000240641   0.000050700    0.000111762    0.000143191   \n",
       "19 0.00000000     0.000414144   0.000000000    0.000000000    0.000000000   \n",
       "20 0.00000000     0.000245386   0.000000000    0.000000000    0.000000000   \n",
       "26 0.00000000     0.000203554   0.000034600    0.000038100    0.000039900   \n",
       "27 0.00009690     0.000279351   0.000000000    0.000000000    0.000000000   \n",
       "28 0.00000000     0.000195352   0.000000000    0.000000000    0.000000000   \n",
       "29 0.00000000     0.000155142   0.000000000    0.000000000    0.000038900   \n",
       "30 0.00000000     0.000171101   0.000000000    0.000000000    0.000000000   \n",
       "31 0.00000000     0.000165920   0.000142555    0.000073800    0.000068800   \n",
       "32 0.00000000     0.000117153   0.000000000    0.000059900    0.000000000   \n",
       "33 0.00000000     0.000240681   0.000000000    0.000000000    0.000000000   \n",
       "34 0.00000000     0.000232531   0.000000000    0.000000000    0.000000000   \n",
       "35 0.00000000     0.000305123   0.000000000    0.000000000    0.000000000   \n",
       "41 0.00000000     0.000289495   0.000000000    0.000000000    0.000000000   \n",
       "42 0.00000000     0.000267129   0.000000000    0.000000000    0.000000000   \n",
       "43 0.00000000     0.000115958   0.000000000    0.000000000    0.000000000   \n",
       "44 0.00000000     0.000246070   0.000000000    0.000000000    0.000000000   \n",
       "45 0.00000000     0.000212008   0.000158738    0.000246199    0.000246686   \n",
       "46 0.00000000     0.000305344   0.000000000    0.000000000    0.000000000   \n",
       "47 0.00000000     0.000288835   0.000000000    0.000026200    0.000000000   \n",
       "48 0.00000000     0.000378241   0.000000000    0.000052100    0.000051000   \n",
       "49 0.00000000     0.000213200   0.000000000    0.000000000    0.000000000   \n",
       "50 0.00000000     0.000113423   0.000051500    0.000075400    0.000063400   \n",
       "56 0.00000000     0.000180477   0.000000000    0.000000000    0.000000000   \n",
       "57 0.00000000     0.000144946   0.000000000    0.000000000    0.000000000   \n",
       "58 0.00000000     0.000210275   0.000000000    0.000000000    0.000063400   \n",
       "59 0.00013597     0.000000000   0.000000000    0.000000000    0.000073400   \n",
       "60 0.00000000     0.000056900   0.000247118    0.000324736    0.000287640   "
      ]
     },
     "metadata": {},
     "output_type": "display_data"
    },
    {
     "data": {
      "text/html": [
       "<table>\n",
       "<thead><tr><th></th><th scope=col>filename</th><th scope=col>MouseID</th><th scope=col>Treatmentgroup</th><th scope=col>DPI</th><th scope=col>organ</th><th scope=col>well_position</th><th scope=col>plate</th><th scope=col>X268.105_0.35</th><th scope=col>X269.088_0.35</th><th scope=col>X111.044_2.768</th><th scope=col>...</th><th scope=col>X705.141_2.339</th><th scope=col>X776.148_2.398</th><th scope=col>X776.253_2.398</th><th scope=col>X776.411_2.398</th><th scope=col>X792.329_2.764</th><th scope=col>X811.309_2.773</th><th scope=col>X811.31_2.767</th><th scope=col>X819.211_2.398</th><th scope=col>X819.322_2.398</th><th scope=col>X819.378_2.399</th></tr></thead>\n",
       "<tbody>\n",
       "\t<tr><th scope=row>16</th><td>X581_Group3E_142dpi_RV_top_176_G_B4_P136.mzXML</td><td>581                                           </td><td>Group3E                                       </td><td>142dpi                                        </td><td>RV_top                                        </td><td>B4                                            </td><td>P136                                          </td><td>0.000000000                                   </td><td>0.000183314                                   </td><td>0.000107825                                   </td><td>...                                           </td><td>0.000129379                                   </td><td>0.00e+00                                      </td><td>0.00000000                                    </td><td>0.00e+00                                      </td><td>0.000224340                                   </td><td>0e+00                                         </td><td>0.000237525                                   </td><td>0.00e+00                                      </td><td>0.000000000                                   </td><td>0.000000000                                   </td></tr>\n",
       "\t<tr><th scope=row>17</th><td>X582_Group3E_142dpi_RV_top_177_G_B5_P136.mzXML</td><td>582                                           </td><td>Group3E                                       </td><td>142dpi                                        </td><td>RV_top                                        </td><td>B5                                            </td><td>P136                                          </td><td>0.000000000                                   </td><td>0.000992729                                   </td><td>0.000161823                                   </td><td>...                                           </td><td>0.000124496                                   </td><td>0.00e+00                                      </td><td>0.00000000                                    </td><td>0.00e+00                                      </td><td>0.000390484                                   </td><td>0e+00                                         </td><td>0.000375748                                   </td><td>0.00e+00                                      </td><td>0.000000000                                   </td><td>0.000000000                                   </td></tr>\n",
       "\t<tr><th scope=row>18</th><td>X583_Group3E_142dpi_RV_top_178_G_B6_P136.mzXML</td><td>583                                           </td><td>Group3E                                       </td><td>142dpi                                        </td><td>RV_top                                        </td><td>B6                                            </td><td>P136                                          </td><td>0.000081500                                   </td><td>0.000654834                                   </td><td>0.000090500                                   </td><td>...                                           </td><td>0.000112447                                   </td><td>5.12e-05                                      </td><td>0.00014672                                    </td><td>5.81e-05                                      </td><td>0.000194735                                   </td><td>9e-05                                         </td><td>0.000240641                                   </td><td>5.07e-05                                      </td><td>0.000111762                                   </td><td>0.000143191                                   </td></tr>\n",
       "\t<tr><th scope=row>19</th><td>X584_Group3E_142dpi_RV_top_179_G_B7_P136.mzXML</td><td>584                                           </td><td>Group3E                                       </td><td>142dpi                                        </td><td>RV_top                                        </td><td>B7                                            </td><td>P136                                          </td><td>0.000194512                                   </td><td>0.000886580                                   </td><td>0.000117937                                   </td><td>...                                           </td><td>0.000000000                                   </td><td>0.00e+00                                      </td><td>0.00000000                                    </td><td>0.00e+00                                      </td><td>0.000232682                                   </td><td>0e+00                                         </td><td>0.000414144                                   </td><td>0.00e+00                                      </td><td>0.000000000                                   </td><td>0.000000000                                   </td></tr>\n",
       "\t<tr><th scope=row>20</th><td>X585_Group3E_142dpi_RV_top_180_G_B8_P136.mzXML</td><td>585                                           </td><td>Group3E                                       </td><td>142dpi                                        </td><td>RV_top                                        </td><td>B8                                            </td><td>P136                                          </td><td>0.000000000                                   </td><td>0.000345774                                   </td><td>0.000103153                                   </td><td>...                                           </td><td>0.000000000                                   </td><td>0.00e+00                                      </td><td>0.00000000                                    </td><td>0.00e+00                                      </td><td>0.000438966                                   </td><td>0e+00                                         </td><td>0.000245386                                   </td><td>0.00e+00                                      </td><td>0.000000000                                   </td><td>0.000000000                                   </td></tr>\n",
       "\t<tr><th scope=row>26</th><td>X631_Group15_142dpi_RV_top_191_G_C7_P136.mzXML</td><td>631                                           </td><td>Group15                                       </td><td>142dpi                                        </td><td>RV_top                                        </td><td>C7                                            </td><td>P136                                          </td><td>0.000066600                                   </td><td>0.000576991                                   </td><td>0.000135891                                   </td><td>...                                           </td><td>0.000047200                                   </td><td>0.00e+00                                      </td><td>0.00003480                                    </td><td>0.00e+00                                      </td><td>0.000186446                                   </td><td>0e+00                                         </td><td>0.000203554                                   </td><td>3.46e-05                                      </td><td>0.000038100                                   </td><td>0.000039900                                   </td></tr>\n",
       "</tbody>\n",
       "</table>\n"
      ],
      "text/latex": [
       "\\begin{tabular}{r|llllllllllllllllllllllllllllllllllllllllllllllllllllllllllllllllllllll}\n",
       "  & filename & MouseID & Treatmentgroup & DPI & organ & well\\_position & plate & X268.105\\_0.35 & X269.088\\_0.35 & X111.044\\_2.768 & ... & X705.141\\_2.339 & X776.148\\_2.398 & X776.253\\_2.398 & X776.411\\_2.398 & X792.329\\_2.764 & X811.309\\_2.773 & X811.31\\_2.767 & X819.211\\_2.398 & X819.322\\_2.398 & X819.378\\_2.399\\\\\n",
       "\\hline\n",
       "\t16 & X581\\_Group3E\\_142dpi\\_RV\\_top\\_176\\_G\\_B4\\_P136.mzXML & 581                                                            & Group3E                                                        & 142dpi                                                         & RV\\_top                                                       & B4                                                             & P136                                                           & 0.000000000                                                    & 0.000183314                                                    & 0.000107825                                                    & ...                                                            & 0.000129379                                                    & 0.00e+00                                                       & 0.00000000                                                     & 0.00e+00                                                       & 0.000224340                                                    & 0e+00                                                          & 0.000237525                                                    & 0.00e+00                                                       & 0.000000000                                                    & 0.000000000                                                   \\\\\n",
       "\t17 & X582\\_Group3E\\_142dpi\\_RV\\_top\\_177\\_G\\_B5\\_P136.mzXML & 582                                                            & Group3E                                                        & 142dpi                                                         & RV\\_top                                                       & B5                                                             & P136                                                           & 0.000000000                                                    & 0.000992729                                                    & 0.000161823                                                    & ...                                                            & 0.000124496                                                    & 0.00e+00                                                       & 0.00000000                                                     & 0.00e+00                                                       & 0.000390484                                                    & 0e+00                                                          & 0.000375748                                                    & 0.00e+00                                                       & 0.000000000                                                    & 0.000000000                                                   \\\\\n",
       "\t18 & X583\\_Group3E\\_142dpi\\_RV\\_top\\_178\\_G\\_B6\\_P136.mzXML & 583                                                            & Group3E                                                        & 142dpi                                                         & RV\\_top                                                       & B6                                                             & P136                                                           & 0.000081500                                                    & 0.000654834                                                    & 0.000090500                                                    & ...                                                            & 0.000112447                                                    & 5.12e-05                                                       & 0.00014672                                                     & 5.81e-05                                                       & 0.000194735                                                    & 9e-05                                                          & 0.000240641                                                    & 5.07e-05                                                       & 0.000111762                                                    & 0.000143191                                                   \\\\\n",
       "\t19 & X584\\_Group3E\\_142dpi\\_RV\\_top\\_179\\_G\\_B7\\_P136.mzXML & 584                                                            & Group3E                                                        & 142dpi                                                         & RV\\_top                                                       & B7                                                             & P136                                                           & 0.000194512                                                    & 0.000886580                                                    & 0.000117937                                                    & ...                                                            & 0.000000000                                                    & 0.00e+00                                                       & 0.00000000                                                     & 0.00e+00                                                       & 0.000232682                                                    & 0e+00                                                          & 0.000414144                                                    & 0.00e+00                                                       & 0.000000000                                                    & 0.000000000                                                   \\\\\n",
       "\t20 & X585\\_Group3E\\_142dpi\\_RV\\_top\\_180\\_G\\_B8\\_P136.mzXML & 585                                                            & Group3E                                                        & 142dpi                                                         & RV\\_top                                                       & B8                                                             & P136                                                           & 0.000000000                                                    & 0.000345774                                                    & 0.000103153                                                    & ...                                                            & 0.000000000                                                    & 0.00e+00                                                       & 0.00000000                                                     & 0.00e+00                                                       & 0.000438966                                                    & 0e+00                                                          & 0.000245386                                                    & 0.00e+00                                                       & 0.000000000                                                    & 0.000000000                                                   \\\\\n",
       "\t26 & X631\\_Group15\\_142dpi\\_RV\\_top\\_191\\_G\\_C7\\_P136.mzXML & 631                                                            & Group15                                                        & 142dpi                                                         & RV\\_top                                                       & C7                                                             & P136                                                           & 0.000066600                                                    & 0.000576991                                                    & 0.000135891                                                    & ...                                                            & 0.000047200                                                    & 0.00e+00                                                       & 0.00003480                                                     & 0.00e+00                                                       & 0.000186446                                                    & 0e+00                                                          & 0.000203554                                                    & 3.46e-05                                                       & 0.000038100                                                    & 0.000039900                                                   \\\\\n",
       "\\end{tabular}\n"
      ],
      "text/markdown": [
       "\n",
       "| <!--/--> | filename | MouseID | Treatmentgroup | DPI | organ | well_position | plate | X268.105_0.35 | X269.088_0.35 | X111.044_2.768 | ... | X705.141_2.339 | X776.148_2.398 | X776.253_2.398 | X776.411_2.398 | X792.329_2.764 | X811.309_2.773 | X811.31_2.767 | X819.211_2.398 | X819.322_2.398 | X819.378_2.399 |\n",
       "|---|---|---|---|---|---|---|---|---|---|---|---|---|---|---|---|---|---|---|---|---|---|\n",
       "| 16 | X581_Group3E_142dpi_RV_top_176_G_B4_P136.mzXML | 581                                            | Group3E                                        | 142dpi                                         | RV_top                                         | B4                                             | P136                                           | 0.000000000                                    | 0.000183314                                    | 0.000107825                                    | ...                                            | 0.000129379                                    | 0.00e+00                                       | 0.00000000                                     | 0.00e+00                                       | 0.000224340                                    | 0e+00                                          | 0.000237525                                    | 0.00e+00                                       | 0.000000000                                    | 0.000000000                                    |\n",
       "| 17 | X582_Group3E_142dpi_RV_top_177_G_B5_P136.mzXML | 582                                            | Group3E                                        | 142dpi                                         | RV_top                                         | B5                                             | P136                                           | 0.000000000                                    | 0.000992729                                    | 0.000161823                                    | ...                                            | 0.000124496                                    | 0.00e+00                                       | 0.00000000                                     | 0.00e+00                                       | 0.000390484                                    | 0e+00                                          | 0.000375748                                    | 0.00e+00                                       | 0.000000000                                    | 0.000000000                                    |\n",
       "| 18 | X583_Group3E_142dpi_RV_top_178_G_B6_P136.mzXML | 583                                            | Group3E                                        | 142dpi                                         | RV_top                                         | B6                                             | P136                                           | 0.000081500                                    | 0.000654834                                    | 0.000090500                                    | ...                                            | 0.000112447                                    | 5.12e-05                                       | 0.00014672                                     | 5.81e-05                                       | 0.000194735                                    | 9e-05                                          | 0.000240641                                    | 5.07e-05                                       | 0.000111762                                    | 0.000143191                                    |\n",
       "| 19 | X584_Group3E_142dpi_RV_top_179_G_B7_P136.mzXML | 584                                            | Group3E                                        | 142dpi                                         | RV_top                                         | B7                                             | P136                                           | 0.000194512                                    | 0.000886580                                    | 0.000117937                                    | ...                                            | 0.000000000                                    | 0.00e+00                                       | 0.00000000                                     | 0.00e+00                                       | 0.000232682                                    | 0e+00                                          | 0.000414144                                    | 0.00e+00                                       | 0.000000000                                    | 0.000000000                                    |\n",
       "| 20 | X585_Group3E_142dpi_RV_top_180_G_B8_P136.mzXML | 585                                            | Group3E                                        | 142dpi                                         | RV_top                                         | B8                                             | P136                                           | 0.000000000                                    | 0.000345774                                    | 0.000103153                                    | ...                                            | 0.000000000                                    | 0.00e+00                                       | 0.00000000                                     | 0.00e+00                                       | 0.000438966                                    | 0e+00                                          | 0.000245386                                    | 0.00e+00                                       | 0.000000000                                    | 0.000000000                                    |\n",
       "| 26 | X631_Group15_142dpi_RV_top_191_G_C7_P136.mzXML | 631                                            | Group15                                        | 142dpi                                         | RV_top                                         | C7                                             | P136                                           | 0.000066600                                    | 0.000576991                                    | 0.000135891                                    | ...                                            | 0.000047200                                    | 0.00e+00                                       | 0.00003480                                     | 0.00e+00                                       | 0.000186446                                    | 0e+00                                          | 0.000203554                                    | 3.46e-05                                       | 0.000038100                                    | 0.000039900                                    |\n",
       "\n"
      ],
      "text/plain": [
       "   filename                                       MouseID Treatmentgroup DPI   \n",
       "16 X581_Group3E_142dpi_RV_top_176_G_B4_P136.mzXML 581     Group3E        142dpi\n",
       "17 X582_Group3E_142dpi_RV_top_177_G_B5_P136.mzXML 582     Group3E        142dpi\n",
       "18 X583_Group3E_142dpi_RV_top_178_G_B6_P136.mzXML 583     Group3E        142dpi\n",
       "19 X584_Group3E_142dpi_RV_top_179_G_B7_P136.mzXML 584     Group3E        142dpi\n",
       "20 X585_Group3E_142dpi_RV_top_180_G_B8_P136.mzXML 585     Group3E        142dpi\n",
       "26 X631_Group15_142dpi_RV_top_191_G_C7_P136.mzXML 631     Group15        142dpi\n",
       "   organ  well_position plate X268.105_0.35 X269.088_0.35 X111.044_2.768 ...\n",
       "16 RV_top B4            P136  0.000000000   0.000183314   0.000107825    ...\n",
       "17 RV_top B5            P136  0.000000000   0.000992729   0.000161823    ...\n",
       "18 RV_top B6            P136  0.000081500   0.000654834   0.000090500    ...\n",
       "19 RV_top B7            P136  0.000194512   0.000886580   0.000117937    ...\n",
       "20 RV_top B8            P136  0.000000000   0.000345774   0.000103153    ...\n",
       "26 RV_top C7            P136  0.000066600   0.000576991   0.000135891    ...\n",
       "   X705.141_2.339 X776.148_2.398 X776.253_2.398 X776.411_2.398 X792.329_2.764\n",
       "16 0.000129379    0.00e+00       0.00000000     0.00e+00       0.000224340   \n",
       "17 0.000124496    0.00e+00       0.00000000     0.00e+00       0.000390484   \n",
       "18 0.000112447    5.12e-05       0.00014672     5.81e-05       0.000194735   \n",
       "19 0.000000000    0.00e+00       0.00000000     0.00e+00       0.000232682   \n",
       "20 0.000000000    0.00e+00       0.00000000     0.00e+00       0.000438966   \n",
       "26 0.000047200    0.00e+00       0.00003480     0.00e+00       0.000186446   \n",
       "   X811.309_2.773 X811.31_2.767 X819.211_2.398 X819.322_2.398 X819.378_2.399\n",
       "16 0e+00          0.000237525   0.00e+00       0.000000000    0.000000000   \n",
       "17 0e+00          0.000375748   0.00e+00       0.000000000    0.000000000   \n",
       "18 9e-05          0.000240641   5.07e-05       0.000111762    0.000143191   \n",
       "19 0e+00          0.000414144   0.00e+00       0.000000000    0.000000000   \n",
       "20 0e+00          0.000245386   0.00e+00       0.000000000    0.000000000   \n",
       "26 0e+00          0.000203554   3.46e-05       0.000038100    0.000039900   "
      ]
     },
     "metadata": {},
     "output_type": "display_data"
    },
    {
     "data": {
      "text/html": [
       "<ol class=list-inline>\n",
       "\t<li>30</li>\n",
       "\t<li>70</li>\n",
       "</ol>\n"
      ],
      "text/latex": [
       "\\begin{enumerate*}\n",
       "\\item 30\n",
       "\\item 70\n",
       "\\end{enumerate*}\n"
      ],
      "text/markdown": [
       "1. 30\n",
       "2. 70\n",
       "\n",
       "\n"
      ],
      "text/plain": [
       "[1] 30 70"
      ]
     },
     "metadata": {},
     "output_type": "display_data"
    },
    {
     "data": {
      "text/html": [
       "<ol class=list-inline>\n",
       "\t<li>30</li>\n",
       "\t<li>63</li>\n",
       "</ol>\n"
      ],
      "text/latex": [
       "\\begin{enumerate*}\n",
       "\\item 30\n",
       "\\item 63\n",
       "\\end{enumerate*}\n"
      ],
      "text/markdown": [
       "1. 30\n",
       "2. 63\n",
       "\n",
       "\n"
      ],
      "text/plain": [
       "[1] 30 63"
      ]
     },
     "metadata": {},
     "output_type": "display_data"
    },
    {
     "data": {
      "text/html": [
       "<ol class=list-inline>\n",
       "\t<li>30</li>\n",
       "\t<li>63</li>\n",
       "</ol>\n"
      ],
      "text/latex": [
       "\\begin{enumerate*}\n",
       "\\item 30\n",
       "\\item 63\n",
       "\\end{enumerate*}\n"
      ],
      "text/markdown": [
       "1. 30\n",
       "2. 63\n",
       "\n",
       "\n"
      ],
      "text/plain": [
       "[1] 30 63"
      ]
     },
     "metadata": {},
     "output_type": "display_data"
    },
    {
     "data": {
      "text/html": [
       "<ol class=list-inline>\n",
       "\t<li>30</li>\n",
       "\t<li>70</li>\n",
       "</ol>\n"
      ],
      "text/latex": [
       "\\begin{enumerate*}\n",
       "\\item 30\n",
       "\\item 70\n",
       "\\end{enumerate*}\n"
      ],
      "text/markdown": [
       "1. 30\n",
       "2. 70\n",
       "\n",
       "\n"
      ],
      "text/plain": [
       "[1] 30 70"
      ]
     },
     "metadata": {},
     "output_type": "display_data"
    }
   ],
   "source": [
    "noMeta<-features_pos[,8:70]\n",
    "head(noMeta)\n",
    "not_zero<-which(colSums(noMeta) != 0)\n",
    "head(not_zero)\n",
    "nonzero <- noMeta[, not_zero] # all the non-zero columns\n",
    "nonzero\n",
    "#add back metadata\n",
    "nonzero_wMeta<-cbind(features_pos[,1:7], nonzero)\n",
    "head(nonzero_wMeta)\n",
    "dim(features_pos)\n",
    "dim(noMeta)\n",
    "dim(nonzero)\n",
    "dim(nonzero_wMeta)"
   ]
  },
  {
   "cell_type": "code",
   "execution_count": 15,
   "metadata": {
    "scrolled": true
   },
   "outputs": [
    {
     "name": "stderr",
     "output_type": "stream",
     "text": [
      "Warning message in wilcox.test.default(x = c(6.66e-05, 0, 0.000130514, 0.000105174, :\n",
      "\"cannot compute exact p-value with ties\"Warning message in wilcox.test.default(x = c(0.000135891, 9.94e-05, 0.0001359, 8.03e-05, :\n",
      "\"cannot compute exact p-value with ties\"Warning message in wilcox.test.default(x = c(9.67e-05, 0.000304705, 0, 0, 0.00020393, :\n",
      "\"cannot compute exact p-value with ties\"Warning message in wilcox.test.default(x = c(8.43e-05, 0.000121815, 0.000218109, :\n",
      "\"cannot compute exact p-value with ties\"Warning message in wilcox.test.default(x = c(0.001068281, 0.001416551, 0, 0.001805847, :\n",
      "\"cannot compute exact p-value with ties\"Warning message in wilcox.test.default(x = c(3.35e-05, 5.16e-05, 7.45e-05, 4.91e-05, :\n",
      "\"cannot compute exact p-value with ties\"Warning message in wilcox.test.default(x = c(4.57e-05, 0.000117743, 0.000103953, :\n",
      "\"cannot compute exact p-value with ties\"Warning message in wilcox.test.default(x = c(0.000141577, 0.000123793, 0.000192328, :\n",
      "\"cannot compute exact p-value with ties\"Warning message in wilcox.test.default(x = c(0, 0, 0, 0, 0, 0, 0.000143175, 0.000126504, :\n",
      "\"cannot compute exact p-value with ties\"Warning message in wilcox.test.default(x = c(0, 4.45e-05, 5.72e-05, 0, 5.37e-05, :\n",
      "\"cannot compute exact p-value with ties\"Warning message in wilcox.test.default(x = c(0.000145697, 0, 0, 0, 0, 0, 0.00010654, :\n",
      "\"cannot compute exact p-value with ties\"Warning message in wilcox.test.default(x = c(0, 0, 0, 0, 0, 0.000121494, 0, 0, 4.06e-05, :\n",
      "\"cannot compute exact p-value with ties\"Warning message in wilcox.test.default(x = c(0.000430873, 0, 0.000123273, 0.000187544, :\n",
      "\"cannot compute exact p-value with ties\"Warning message in wilcox.test.default(x = c(0.000343243, 0, 0, 0, 0, 0.000163105, :\n",
      "\"cannot compute exact p-value with ties\"Warning message in wilcox.test.default(x = c(2.67e-05, 0, 0, 0, 0.000100476, 0, :\n",
      "\"cannot compute exact p-value with ties\"Warning message in wilcox.test.default(x = c(0, 0, 0, 0, 0, 0, 0, 0, 4.13e-05, 0, :\n",
      "\"cannot compute exact p-value with ties\"Warning message in wilcox.test.default(x = c(0, 0, 0, 0, 0, 0, 0, 0, 0, 0, 0, 0, :\n",
      "\"cannot compute exact p-value with ties\"Warning message in wilcox.test.default(x = c(0, 0.000377959, 0.000231313, 0.000113365, :\n",
      "\"cannot compute exact p-value with ties\"Warning message in wilcox.test.default(x = c(0, 4.15e-05, 0, 3.84e-05, 6.23e-05, :\n",
      "\"cannot compute exact p-value with ties\"Warning message in wilcox.test.default(x = c(3.38e-05, 0, 0, 0.000250004, 0.000140639, :\n",
      "\"cannot compute exact p-value with ties\"Warning message in wilcox.test.default(x = c(0.000274948, 5.11e-05, 0.000309177, :\n",
      "\"cannot compute exact p-value with ties\"Warning message in wilcox.test.default(x = c(9.92e-05, 6.03e-05, 0, 6.01e-05, 0, :\n",
      "\"cannot compute exact p-value with ties\"Warning message in wilcox.test.default(x = c(4.72e-05, 0, 0, 4.38e-05, 0, 0, 0, :\n",
      "\"cannot compute exact p-value with ties\"Warning message in wilcox.test.default(x = c(0, 0, 0, 0, 0, 0, 0, 0, 0, 0.000182949, :\n",
      "\"cannot compute exact p-value with ties\"Warning message in wilcox.test.default(x = c(3.48e-05, 0, 0, 4.1e-05, 0, 0, 0, 0, :\n",
      "\"cannot compute exact p-value with ties\"Warning message in wilcox.test.default(x = c(0, 0, 0, 0, 0, 0, 0, 0, 0, 6.9e-05, :\n",
      "\"cannot compute exact p-value with ties\"Warning message in wilcox.test.default(x = c(0.000186446, 0.000187176, 0.000298368, :\n",
      "\"cannot compute exact p-value with ties\"Warning message in wilcox.test.default(x = c(0, 9.69e-05, 0, 0, 0, 0, 0, 0, 0, 0, :\n",
      "\"cannot compute exact p-value with ties\"Warning message in wilcox.test.default(x = c(3.46e-05, 0, 0, 0, 0, 0, 0, 0, 0, 0.000158738, :\n",
      "\"cannot compute exact p-value with ties\"Warning message in wilcox.test.default(x = c(3.81e-05, 0, 0, 0, 0, 0, 0, 0, 0, 0.000246199, :\n",
      "\"cannot compute exact p-value with ties\"Warning message in wilcox.test.default(x = c(3.99e-05, 0, 0, 3.89e-05, 0, 0, 0, :\n",
      "\"cannot compute exact p-value with ties\""
     ]
    },
    {
     "data": {
      "text/html": [
       "<ol class=list-inline>\n",
       "\t<li>0.181998088776028</li>\n",
       "\t<li>0.267097024243296</li>\n",
       "\t<li>0.0308297912449584</li>\n",
       "\t<li>0.334824034039056</li>\n",
       "\t<li>0.324548174828994</li>\n",
       "\t<li>0.00140811946967693</li>\n",
       "</ol>\n"
      ],
      "text/latex": [
       "\\begin{enumerate*}\n",
       "\\item 0.181998088776028\n",
       "\\item 0.267097024243296\n",
       "\\item 0.0308297912449584\n",
       "\\item 0.334824034039056\n",
       "\\item 0.324548174828994\n",
       "\\item 0.00140811946967693\n",
       "\\end{enumerate*}\n"
      ],
      "text/markdown": [
       "1. 0.181998088776028\n",
       "2. 0.267097024243296\n",
       "3. 0.0308297912449584\n",
       "4. 0.334824034039056\n",
       "5. 0.324548174828994\n",
       "6. 0.00140811946967693\n",
       "\n",
       "\n"
      ],
      "text/plain": [
       "[1] 0.181998089 0.267097024 0.030829791 0.334824034 0.324548175 0.001408119"
      ]
     },
     "metadata": {},
     "output_type": "display_data"
    },
    {
     "data": {
      "text/html": [
       "<ol class=list-inline>\n",
       "\t<li>0.393263642946329</li>\n",
       "\t<li>0.480774643637933</li>\n",
       "\t<li>0.121392303027024</li>\n",
       "\t<li>0.548778820058773</li>\n",
       "\t<li>0.548778820058773</li>\n",
       "\t<li>0.0295705088632155</li>\n",
       "</ol>\n"
      ],
      "text/latex": [
       "\\begin{enumerate*}\n",
       "\\item 0.393263642946329\n",
       "\\item 0.480774643637933\n",
       "\\item 0.121392303027024\n",
       "\\item 0.548778820058773\n",
       "\\item 0.548778820058773\n",
       "\\item 0.0295705088632155\n",
       "\\end{enumerate*}\n"
      ],
      "text/markdown": [
       "1. 0.393263642946329\n",
       "2. 0.480774643637933\n",
       "3. 0.121392303027024\n",
       "4. 0.548778820058773\n",
       "5. 0.548778820058773\n",
       "6. 0.0295705088632155\n",
       "\n",
       "\n"
      ],
      "text/plain": [
       "[1] 0.39326364 0.48077464 0.12139230 0.54877882 0.54877882 0.02957051"
      ]
     },
     "metadata": {},
     "output_type": "display_data"
    }
   ],
   "source": [
    "pval<-c()#create an empty vector with value pval\n",
    "\n",
    "# 8 to the end of each row\n",
    "for (i in 8:ncol(nonzero_wMeta)) \n",
    "pval<-c(pval,wilcox.test(nonzero_wMeta[,i]~nonzero_wMeta$Treatmentgroup)$p.value) #assign to pval the output of the Mann-Whitney-Wilcoxon test\n",
    "    #don't know why there is that first pval in c(pval...) but it doesn't work without it\n",
    "    #$p.value is because there are many output lines from wilcox.test; you want to keep only the one that's called $p.value because that's where the nbr is\n",
    "\n",
    "head(pval) #to check\n",
    "pAdj <- p.adjust(pval, method = c(\"fdr\"), n=length(pval)) \n",
    "head(pAdj) \n",
    "\n"
   ]
  },
  {
   "cell_type": "code",
   "execution_count": 16,
   "metadata": {
    "scrolled": true
   },
   "outputs": [
    {
     "data": {
      "text/html": [
       "63"
      ],
      "text/latex": [
       "63"
      ],
      "text/markdown": [
       "63"
      ],
      "text/plain": [
       "[1] 63"
      ]
     },
     "metadata": {},
     "output_type": "display_data"
    }
   ],
   "source": [
    "length(pval)"
   ]
  },
  {
   "cell_type": "code",
   "execution_count": 17,
   "metadata": {
    "scrolled": true
   },
   "outputs": [
    {
     "data": {
      "text/html": [
       "63"
      ],
      "text/latex": [
       "63"
      ],
      "text/markdown": [
       "63"
      ],
      "text/plain": [
       "[1] 63"
      ]
     },
     "metadata": {},
     "output_type": "display_data"
    }
   ],
   "source": [
    "length(pAdj)"
   ]
  },
  {
   "cell_type": "code",
   "execution_count": 18,
   "metadata": {},
   "outputs": [
    {
     "data": {
      "text/html": [
       "<ol class=list-inline>\n",
       "\t<li>2</li>\n",
       "\t<li>63</li>\n",
       "</ol>\n"
      ],
      "text/latex": [
       "\\begin{enumerate*}\n",
       "\\item 2\n",
       "\\item 63\n",
       "\\end{enumerate*}\n"
      ],
      "text/markdown": [
       "1. 2\n",
       "2. 63\n",
       "\n",
       "\n"
      ],
      "text/plain": [
       "[1]  2 63"
      ]
     },
     "metadata": {},
     "output_type": "display_data"
    },
    {
     "data": {
      "text/html": [
       "<table>\n",
       "<thead><tr><th></th><th scope=col>X268.105_0.35</th><th scope=col>X269.088_0.35</th><th scope=col>X111.044_2.768</th></tr></thead>\n",
       "<tbody>\n",
       "\t<tr><th scope=row>Group15</th><td>6.079373e-05</td><td>0.0011551675</td><td>6.773313e-05</td></tr>\n",
       "\t<tr><th scope=row>Group3E</th><td>3.067573e-05</td><td>0.0008868792</td><td>1.129374e-04</td></tr>\n",
       "</tbody>\n",
       "</table>\n"
      ],
      "text/latex": [
       "\\begin{tabular}{r|lll}\n",
       "  & X268.105\\_0.35 & X269.088\\_0.35 & X111.044\\_2.768\\\\\n",
       "\\hline\n",
       "\tGroup15 & 6.079373e-05 & 0.0011551675 & 6.773313e-05\\\\\n",
       "\tGroup3E & 3.067573e-05 & 0.0008868792 & 1.129374e-04\\\\\n",
       "\\end{tabular}\n"
      ],
      "text/markdown": [
       "\n",
       "| <!--/--> | X268.105_0.35 | X269.088_0.35 | X111.044_2.768 |\n",
       "|---|---|---|---|\n",
       "| Group15 | 6.079373e-05 | 0.0011551675 | 6.773313e-05 |\n",
       "| Group3E | 3.067573e-05 | 0.0008868792 | 1.129374e-04 |\n",
       "\n"
      ],
      "text/plain": [
       "        X268.105_0.35 X269.088_0.35 X111.044_2.768\n",
       "Group15 6.079373e-05  0.0011551675  6.773313e-05  \n",
       "Group3E 3.067573e-05  0.0008868792  1.129374e-04  "
      ]
     },
     "metadata": {},
     "output_type": "display_data"
    },
    {
     "data": {
      "text/html": [
       "<dl class=dl-horizontal>\n",
       "\t<dt>X268.105_0.35</dt>\n",
       "\t\t<dd>1.98181841890224</dd>\n",
       "\t<dt>X269.088_0.35</dt>\n",
       "\t\t<dd>1.30250831605176</dd>\n",
       "\t<dt>X111.044_2.768</dt>\n",
       "\t\t<dd>0.599740505212032</dd>\n",
       "\t<dt>X122.082_0.534</dt>\n",
       "\t\t<dd>1.46255197092712</dd>\n",
       "\t<dt>X130.087_0.452</dt>\n",
       "\t\t<dd>1.06460351640637</dd>\n",
       "\t<dt>X137.046_0.35</dt>\n",
       "\t\t<dd>1.57473150924757</dd>\n",
       "</dl>\n"
      ],
      "text/latex": [
       "\\begin{description*}\n",
       "\\item[X268.105\\textbackslash{}\\_0.35] 1.98181841890224\n",
       "\\item[X269.088\\textbackslash{}\\_0.35] 1.30250831605176\n",
       "\\item[X111.044\\textbackslash{}\\_2.768] 0.599740505212032\n",
       "\\item[X122.082\\textbackslash{}\\_0.534] 1.46255197092712\n",
       "\\item[X130.087\\textbackslash{}\\_0.452] 1.06460351640637\n",
       "\\item[X137.046\\textbackslash{}\\_0.35] 1.57473150924757\n",
       "\\end{description*}\n"
      ],
      "text/markdown": [
       "X268.105_0.35\n",
       ":   1.98181841890224X269.088_0.35\n",
       ":   1.30250831605176X111.044_2.768\n",
       ":   0.599740505212032X122.082_0.534\n",
       ":   1.46255197092712X130.087_0.452\n",
       ":   1.06460351640637X137.046_0.35\n",
       ":   1.57473150924757\n",
       "\n"
      ],
      "text/plain": [
       " X268.105_0.35  X269.088_0.35 X111.044_2.768 X122.082_0.534 X130.087_0.452 \n",
       "     1.9818184      1.3025083      0.5997405      1.4625520      1.0646035 \n",
       " X137.046_0.35 \n",
       "     1.5747315 "
      ]
     },
     "metadata": {},
     "output_type": "display_data"
    },
    {
     "data": {
      "text/html": [
       "<ol class=list-inline>\n",
       "\t<li>'numeric'</li>\n",
       "\t<li>'vector'</li>\n",
       "</ol>\n"
      ],
      "text/latex": [
       "\\begin{enumerate*}\n",
       "\\item 'numeric'\n",
       "\\item 'vector'\n",
       "\\end{enumerate*}\n"
      ],
      "text/markdown": [
       "1. 'numeric'\n",
       "2. 'vector'\n",
       "\n",
       "\n"
      ],
      "text/plain": [
       "[1] \"numeric\" \"vector\" "
      ]
     },
     "metadata": {},
     "output_type": "display_data"
    }
   ],
   "source": [
    "# change the column name, you want to see infected and naive so it should be State\n",
    "avg<- apply(nonzero_wMeta[,8:ncol(nonzero_wMeta)], 2, function(x) tapply(x, nonzero_wMeta$Treatmentgroup, function(x) mean(x))) \n",
    "\n",
    "dim(avg) #to check\n",
    "\n",
    "avg[,1:3]#to check\n",
    "\n",
    "fch <- apply(avg, 2, function(x) x[1]/x[2]) #calculate fold change\n",
    "\n",
    "head(fch) #to check it's ok\n",
    "is(fch)"
   ]
  },
  {
   "cell_type": "code",
   "execution_count": 19,
   "metadata": {
    "scrolled": true
   },
   "outputs": [
    {
     "data": {
      "text/html": [
       "<dl class=dl-horizontal>\n",
       "\t<dt>X268.105_0.35</dt>\n",
       "\t\t<dd>1.98181841890224</dd>\n",
       "\t<dt>X269.088_0.35</dt>\n",
       "\t\t<dd>1.30250831605176</dd>\n",
       "\t<dt>X111.044_2.768</dt>\n",
       "\t\t<dd>0.599740505212032</dd>\n",
       "\t<dt>X122.082_0.534</dt>\n",
       "\t\t<dd>1.46255197092712</dd>\n",
       "\t<dt>X130.087_0.452</dt>\n",
       "\t\t<dd>1.06460351640637</dd>\n",
       "\t<dt>X137.046_0.35</dt>\n",
       "\t\t<dd>1.57473150924757</dd>\n",
       "\t<dt>X142.035_0.315</dt>\n",
       "\t\t<dd>1.19532521281953</dd>\n",
       "\t<dt>X172.134_2.343</dt>\n",
       "\t\t<dd>1.20037078662931</dd>\n",
       "\t<dt>X175.148_2.71</dt>\n",
       "\t\t<dd>1.22541787532898</dd>\n",
       "\t<dt>X198.15_2.471</dt>\n",
       "\t\t<dd>1.51579364068882</dd>\n",
       "\t<dt>X200.165_3.207</dt>\n",
       "\t\t<dd>1.34918311967716</dd>\n",
       "\t<dt>X214.181_2.634</dt>\n",
       "\t\t<dd>1.10165093196929</dd>\n",
       "\t<dt>X216.16_2.471</dt>\n",
       "\t\t<dd>2.3152469775475</dd>\n",
       "\t<dt>X228.196_2.71</dt>\n",
       "\t\t<dd>1.15977260682678</dd>\n",
       "\t<dt>X230.176_2.586</dt>\n",
       "\t\t<dd>1.00315453805722</dd>\n",
       "\t<dt>X232.191_2.63</dt>\n",
       "\t\t<dd>1.61709639298207</dd>\n",
       "\t<dt>X242.212_2.78</dt>\n",
       "\t\t<dd>1.20018842435116</dd>\n",
       "\t<dt>X249.112_2.768</dt>\n",
       "\t\t<dd>0.501181630190959</dd>\n",
       "\t<dt>X256.227_2.847</dt>\n",
       "\t\t<dd>1.14738313271568</dd>\n",
       "\t<dt>X256.227_3.318</dt>\n",
       "\t\t<dd>0.740912172206695</dd>\n",
       "\t<dt>X258.207_2.775</dt>\n",
       "\t\t<dd>1.13065552643914</dd>\n",
       "\t<dt>X272.222_2.957</dt>\n",
       "\t\t<dd>0.506826516353363</dd>\n",
       "\t<dt>X278.248_3.1</dt>\n",
       "\t\t<dd>0.994539680857108</dd>\n",
       "\t<dt>X280.189_2.775</dt>\n",
       "\t\t<dd>1.30531355901798</dd>\n",
       "\t<dt>X280.264_3.159</dt>\n",
       "\t\t<dd>1.00278485618504</dd>\n",
       "\t<dt>X282.28_3.246</dt>\n",
       "\t\t<dd>0.979440850919536</dd>\n",
       "\t<dt>X296.259_2.971</dt>\n",
       "\t\t<dd>0.980471185790077</dd>\n",
       "\t<dt>X303.305_3.529</dt>\n",
       "\t\t<dd>0.53178718727904</dd>\n",
       "\t<dt>X303.648_2.884</dt>\n",
       "\t\t<dd>2.69216229589312</dd>\n",
       "\t<dt>X306.279_2.989</dt>\n",
       "\t\t<dd>1.13939894658647</dd>\n",
       "\t<dt>X306.279_3.212</dt>\n",
       "\t\t<dd>0.815885822795369</dd>\n",
       "\t<dt>X308.295_3.045</dt>\n",
       "\t\t<dd>0.973172863963734</dd>\n",
       "\t<dt>X308.295_3.285</dt>\n",
       "\t\t<dd>0.878468047378225</dd>\n",
       "\t<dt>X324.327_3.455</dt>\n",
       "\t\t<dd>0.6296717367178</dd>\n",
       "\t<dt>X327.232_3.01</dt>\n",
       "\t\t<dd>2.78722736227882</dd>\n",
       "\t<dt>X333.063_2.524</dt>\n",
       "\t\t<dd>1.1277598122046</dd>\n",
       "\t<dt>X334.311_3.335</dt>\n",
       "\t\t<dd>0.678064954825215</dd>\n",
       "\t<dt>X352.321_3.187</dt>\n",
       "\t\t<dd>0.935059319406883</dd>\n",
       "\t<dt>X368.316_2.962</dt>\n",
       "\t\t<dd>0.900972234064372</dd>\n",
       "\t<dt>X368.317_3.315</dt>\n",
       "\t\t<dd>0.580212529661718</dd>\n",
       "\t<dt>X369.17_2.767</dt>\n",
       "\t\t<dd>0.742939918700793</dd>\n",
       "\t<dt>X399.394_3.159</dt>\n",
       "\t\t<dd>0</dd>\n",
       "\t<dt>X399.395_3.152</dt>\n",
       "\t\t<dd>1.26278320406126</dd>\n",
       "\t<dt>X489.228_2.768</dt>\n",
       "\t\t<dd>0.628371767551158</dd>\n",
       "\t<dt>X506.255_3.172</dt>\n",
       "\t\t<dd>1.38550247116969</dd>\n",
       "\t<dt>X530.289_2.929</dt>\n",
       "\t\t<dd>0.659917897798692</dd>\n",
       "\t<dt>X568.341_2.887</dt>\n",
       "\t\t<dd>1.34400917757089</dd>\n",
       "\t<dt>X570.357_2.934</dt>\n",
       "\t\t<dd>1.68189688456102</dd>\n",
       "\t<dt>X599.241_2.765</dt>\n",
       "\t\t<dd>0.654836045529516</dd>\n",
       "\t<dt>X602.344_2.984</dt>\n",
       "\t\t<dd>1.27076512760839</dd>\n",
       "\t<dt>X604.362_2.948</dt>\n",
       "\t\t<dd>2.04469383098984</dd>\n",
       "\t<dt>X637.306_3.32</dt>\n",
       "\t\t<dd>1.02698641503488</dd>\n",
       "\t<dt>X666.434_3.024</dt>\n",
       "\t\t<dd>0.71864307079416</dd>\n",
       "\t<dt>X705.141_2.339</dt>\n",
       "\t\t<dd>0.169326897670732</dd>\n",
       "\t<dt>X776.148_2.398</dt>\n",
       "\t\t<dd>3.11615476904619</dd>\n",
       "\t<dt>X776.253_2.398</dt>\n",
       "\t\t<dd>1.68947340952977</dd>\n",
       "\t<dt>X776.411_2.398</dt>\n",
       "\t\t<dd>5.93084337349398</dd>\n",
       "\t<dt>X792.329_2.764</dt>\n",
       "\t\t<dd>0.499677059494615</dd>\n",
       "\t<dt>X811.309_2.773</dt>\n",
       "\t\t<dd>2.58744444444444</dd>\n",
       "\t<dt>X811.31_2.767</dt>\n",
       "\t\t<dd>0.704138341385092</dd>\n",
       "\t<dt>X819.211_2.398</dt>\n",
       "\t\t<dd>1.79957917100774</dd>\n",
       "\t<dt>X819.322_2.398</dt>\n",
       "\t\t<dd>1.5257840175167</dd>\n",
       "\t<dt>X819.378_2.399</dt>\n",
       "\t\t<dd>2.29763075575001</dd>\n",
       "</dl>\n"
      ],
      "text/latex": [
       "\\begin{description*}\n",
       "\\item[X268.105\\textbackslash{}\\_0.35] 1.98181841890224\n",
       "\\item[X269.088\\textbackslash{}\\_0.35] 1.30250831605176\n",
       "\\item[X111.044\\textbackslash{}\\_2.768] 0.599740505212032\n",
       "\\item[X122.082\\textbackslash{}\\_0.534] 1.46255197092712\n",
       "\\item[X130.087\\textbackslash{}\\_0.452] 1.06460351640637\n",
       "\\item[X137.046\\textbackslash{}\\_0.35] 1.57473150924757\n",
       "\\item[X142.035\\textbackslash{}\\_0.315] 1.19532521281953\n",
       "\\item[X172.134\\textbackslash{}\\_2.343] 1.20037078662931\n",
       "\\item[X175.148\\textbackslash{}\\_2.71] 1.22541787532898\n",
       "\\item[X198.15\\textbackslash{}\\_2.471] 1.51579364068882\n",
       "\\item[X200.165\\textbackslash{}\\_3.207] 1.34918311967716\n",
       "\\item[X214.181\\textbackslash{}\\_2.634] 1.10165093196929\n",
       "\\item[X216.16\\textbackslash{}\\_2.471] 2.3152469775475\n",
       "\\item[X228.196\\textbackslash{}\\_2.71] 1.15977260682678\n",
       "\\item[X230.176\\textbackslash{}\\_2.586] 1.00315453805722\n",
       "\\item[X232.191\\textbackslash{}\\_2.63] 1.61709639298207\n",
       "\\item[X242.212\\textbackslash{}\\_2.78] 1.20018842435116\n",
       "\\item[X249.112\\textbackslash{}\\_2.768] 0.501181630190959\n",
       "\\item[X256.227\\textbackslash{}\\_2.847] 1.14738313271568\n",
       "\\item[X256.227\\textbackslash{}\\_3.318] 0.740912172206695\n",
       "\\item[X258.207\\textbackslash{}\\_2.775] 1.13065552643914\n",
       "\\item[X272.222\\textbackslash{}\\_2.957] 0.506826516353363\n",
       "\\item[X278.248\\textbackslash{}\\_3.1] 0.994539680857108\n",
       "\\item[X280.189\\textbackslash{}\\_2.775] 1.30531355901798\n",
       "\\item[X280.264\\textbackslash{}\\_3.159] 1.00278485618504\n",
       "\\item[X282.28\\textbackslash{}\\_3.246] 0.979440850919536\n",
       "\\item[X296.259\\textbackslash{}\\_2.971] 0.980471185790077\n",
       "\\item[X303.305\\textbackslash{}\\_3.529] 0.53178718727904\n",
       "\\item[X303.648\\textbackslash{}\\_2.884] 2.69216229589312\n",
       "\\item[X306.279\\textbackslash{}\\_2.989] 1.13939894658647\n",
       "\\item[X306.279\\textbackslash{}\\_3.212] 0.815885822795369\n",
       "\\item[X308.295\\textbackslash{}\\_3.045] 0.973172863963734\n",
       "\\item[X308.295\\textbackslash{}\\_3.285] 0.878468047378225\n",
       "\\item[X324.327\\textbackslash{}\\_3.455] 0.6296717367178\n",
       "\\item[X327.232\\textbackslash{}\\_3.01] 2.78722736227882\n",
       "\\item[X333.063\\textbackslash{}\\_2.524] 1.1277598122046\n",
       "\\item[X334.311\\textbackslash{}\\_3.335] 0.678064954825215\n",
       "\\item[X352.321\\textbackslash{}\\_3.187] 0.935059319406883\n",
       "\\item[X368.316\\textbackslash{}\\_2.962] 0.900972234064372\n",
       "\\item[X368.317\\textbackslash{}\\_3.315] 0.580212529661718\n",
       "\\item[X369.17\\textbackslash{}\\_2.767] 0.742939918700793\n",
       "\\item[X399.394\\textbackslash{}\\_3.159] 0\n",
       "\\item[X399.395\\textbackslash{}\\_3.152] 1.26278320406126\n",
       "\\item[X489.228\\textbackslash{}\\_2.768] 0.628371767551158\n",
       "\\item[X506.255\\textbackslash{}\\_3.172] 1.38550247116969\n",
       "\\item[X530.289\\textbackslash{}\\_2.929] 0.659917897798692\n",
       "\\item[X568.341\\textbackslash{}\\_2.887] 1.34400917757089\n",
       "\\item[X570.357\\textbackslash{}\\_2.934] 1.68189688456102\n",
       "\\item[X599.241\\textbackslash{}\\_2.765] 0.654836045529516\n",
       "\\item[X602.344\\textbackslash{}\\_2.984] 1.27076512760839\n",
       "\\item[X604.362\\textbackslash{}\\_2.948] 2.04469383098984\n",
       "\\item[X637.306\\textbackslash{}\\_3.32] 1.02698641503488\n",
       "\\item[X666.434\\textbackslash{}\\_3.024] 0.71864307079416\n",
       "\\item[X705.141\\textbackslash{}\\_2.339] 0.169326897670732\n",
       "\\item[X776.148\\textbackslash{}\\_2.398] 3.11615476904619\n",
       "\\item[X776.253\\textbackslash{}\\_2.398] 1.68947340952977\n",
       "\\item[X776.411\\textbackslash{}\\_2.398] 5.93084337349398\n",
       "\\item[X792.329\\textbackslash{}\\_2.764] 0.499677059494615\n",
       "\\item[X811.309\\textbackslash{}\\_2.773] 2.58744444444444\n",
       "\\item[X811.31\\textbackslash{}\\_2.767] 0.704138341385092\n",
       "\\item[X819.211\\textbackslash{}\\_2.398] 1.79957917100774\n",
       "\\item[X819.322\\textbackslash{}\\_2.398] 1.5257840175167\n",
       "\\item[X819.378\\textbackslash{}\\_2.399] 2.29763075575001\n",
       "\\end{description*}\n"
      ],
      "text/markdown": [
       "X268.105_0.35\n",
       ":   1.98181841890224X269.088_0.35\n",
       ":   1.30250831605176X111.044_2.768\n",
       ":   0.599740505212032X122.082_0.534\n",
       ":   1.46255197092712X130.087_0.452\n",
       ":   1.06460351640637X137.046_0.35\n",
       ":   1.57473150924757X142.035_0.315\n",
       ":   1.19532521281953X172.134_2.343\n",
       ":   1.20037078662931X175.148_2.71\n",
       ":   1.22541787532898X198.15_2.471\n",
       ":   1.51579364068882X200.165_3.207\n",
       ":   1.34918311967716X214.181_2.634\n",
       ":   1.10165093196929X216.16_2.471\n",
       ":   2.3152469775475X228.196_2.71\n",
       ":   1.15977260682678X230.176_2.586\n",
       ":   1.00315453805722X232.191_2.63\n",
       ":   1.61709639298207X242.212_2.78\n",
       ":   1.20018842435116X249.112_2.768\n",
       ":   0.501181630190959X256.227_2.847\n",
       ":   1.14738313271568X256.227_3.318\n",
       ":   0.740912172206695X258.207_2.775\n",
       ":   1.13065552643914X272.222_2.957\n",
       ":   0.506826516353363X278.248_3.1\n",
       ":   0.994539680857108X280.189_2.775\n",
       ":   1.30531355901798X280.264_3.159\n",
       ":   1.00278485618504X282.28_3.246\n",
       ":   0.979440850919536X296.259_2.971\n",
       ":   0.980471185790077X303.305_3.529\n",
       ":   0.53178718727904X303.648_2.884\n",
       ":   2.69216229589312X306.279_2.989\n",
       ":   1.13939894658647X306.279_3.212\n",
       ":   0.815885822795369X308.295_3.045\n",
       ":   0.973172863963734X308.295_3.285\n",
       ":   0.878468047378225X324.327_3.455\n",
       ":   0.6296717367178X327.232_3.01\n",
       ":   2.78722736227882X333.063_2.524\n",
       ":   1.1277598122046X334.311_3.335\n",
       ":   0.678064954825215X352.321_3.187\n",
       ":   0.935059319406883X368.316_2.962\n",
       ":   0.900972234064372X368.317_3.315\n",
       ":   0.580212529661718X369.17_2.767\n",
       ":   0.742939918700793X399.394_3.159\n",
       ":   0X399.395_3.152\n",
       ":   1.26278320406126X489.228_2.768\n",
       ":   0.628371767551158X506.255_3.172\n",
       ":   1.38550247116969X530.289_2.929\n",
       ":   0.659917897798692X568.341_2.887\n",
       ":   1.34400917757089X570.357_2.934\n",
       ":   1.68189688456102X599.241_2.765\n",
       ":   0.654836045529516X602.344_2.984\n",
       ":   1.27076512760839X604.362_2.948\n",
       ":   2.04469383098984X637.306_3.32\n",
       ":   1.02698641503488X666.434_3.024\n",
       ":   0.71864307079416X705.141_2.339\n",
       ":   0.169326897670732X776.148_2.398\n",
       ":   3.11615476904619X776.253_2.398\n",
       ":   1.68947340952977X776.411_2.398\n",
       ":   5.93084337349398X792.329_2.764\n",
       ":   0.499677059494615X811.309_2.773\n",
       ":   2.58744444444444X811.31_2.767\n",
       ":   0.704138341385092X819.211_2.398\n",
       ":   1.79957917100774X819.322_2.398\n",
       ":   1.5257840175167X819.378_2.399\n",
       ":   2.29763075575001\n",
       "\n"
      ],
      "text/plain": [
       " X268.105_0.35  X269.088_0.35 X111.044_2.768 X122.082_0.534 X130.087_0.452 \n",
       "     1.9818184      1.3025083      0.5997405      1.4625520      1.0646035 \n",
       " X137.046_0.35 X142.035_0.315 X172.134_2.343  X175.148_2.71  X198.15_2.471 \n",
       "     1.5747315      1.1953252      1.2003708      1.2254179      1.5157936 \n",
       "X200.165_3.207 X214.181_2.634  X216.16_2.471  X228.196_2.71 X230.176_2.586 \n",
       "     1.3491831      1.1016509      2.3152470      1.1597726      1.0031545 \n",
       " X232.191_2.63  X242.212_2.78 X249.112_2.768 X256.227_2.847 X256.227_3.318 \n",
       "     1.6170964      1.2001884      0.5011816      1.1473831      0.7409122 \n",
       "X258.207_2.775 X272.222_2.957   X278.248_3.1 X280.189_2.775 X280.264_3.159 \n",
       "     1.1306555      0.5068265      0.9945397      1.3053136      1.0027849 \n",
       " X282.28_3.246 X296.259_2.971 X303.305_3.529 X303.648_2.884 X306.279_2.989 \n",
       "     0.9794409      0.9804712      0.5317872      2.6921623      1.1393989 \n",
       "X306.279_3.212 X308.295_3.045 X308.295_3.285 X324.327_3.455  X327.232_3.01 \n",
       "     0.8158858      0.9731729      0.8784680      0.6296717      2.7872274 \n",
       "X333.063_2.524 X334.311_3.335 X352.321_3.187 X368.316_2.962 X368.317_3.315 \n",
       "     1.1277598      0.6780650      0.9350593      0.9009722      0.5802125 \n",
       " X369.17_2.767 X399.394_3.159 X399.395_3.152 X489.228_2.768 X506.255_3.172 \n",
       "     0.7429399      0.0000000      1.2627832      0.6283718      1.3855025 \n",
       "X530.289_2.929 X568.341_2.887 X570.357_2.934 X599.241_2.765 X602.344_2.984 \n",
       "     0.6599179      1.3440092      1.6818969      0.6548360      1.2707651 \n",
       "X604.362_2.948  X637.306_3.32 X666.434_3.024 X705.141_2.339 X776.148_2.398 \n",
       "     2.0446938      1.0269864      0.7186431      0.1693269      3.1161548 \n",
       "X776.253_2.398 X776.411_2.398 X792.329_2.764 X811.309_2.773  X811.31_2.767 \n",
       "     1.6894734      5.9308434      0.4996771      2.5874444      0.7041383 \n",
       "X819.211_2.398 X819.322_2.398 X819.378_2.399 \n",
       "     1.7995792      1.5257840      2.2976308 "
      ]
     },
     "metadata": {},
     "output_type": "display_data"
    }
   ],
   "source": [
    "fch"
   ]
  },
  {
   "cell_type": "code",
   "execution_count": 20,
   "metadata": {
    "scrolled": false
   },
   "outputs": [],
   "source": [
    "#Convoluted way to get the names; likely could find a simpler way\n",
    "\n",
    "#make dataframe from pval and fch\n",
    "df <- data.frame(fch,pval, pAdj)\n",
    "write.csv(df, \"RVT-wilcox-3E-15.csv\")"
   ]
  },
  {
   "cell_type": "code",
   "execution_count": null,
   "metadata": {},
   "outputs": [],
   "source": []
  },
  {
   "cell_type": "code",
   "execution_count": null,
   "metadata": {},
   "outputs": [],
   "source": []
  },
  {
   "cell_type": "code",
   "execution_count": null,
   "metadata": {},
   "outputs": [],
   "source": []
  }
 ],
 "metadata": {
  "kernelspec": {
   "display_name": "R",
   "language": "R",
   "name": "ir"
  },
  "language_info": {
   "codemirror_mode": "r",
   "file_extension": ".r",
   "mimetype": "text/x-r-source",
   "name": "R",
   "pygments_lexer": "r",
   "version": "3.6.1"
  }
 },
 "nbformat": 4,
 "nbformat_minor": 2
}
