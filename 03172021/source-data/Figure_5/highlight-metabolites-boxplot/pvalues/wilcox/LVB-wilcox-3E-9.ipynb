{
 "cells": [
  {
   "cell_type": "code",
   "execution_count": null,
   "metadata": {},
   "outputs": [],
   "source": [
    "# after I have filtered feature table, I do wilcox p value for filtered mass list. So that the p value will be more accurate"
   ]
  },
  {
   "cell_type": "code",
   "execution_count": 1,
   "metadata": {},
   "outputs": [],
   "source": [
    "a <- read.csv(\"03172021-9-15-3E-1C-LVB-M-F-filtered-fix.csv\")"
   ]
  },
  {
   "cell_type": "code",
   "execution_count": 2,
   "metadata": {},
   "outputs": [
    {
     "data": {
      "text/html": [
       "<table>\n",
       "<thead><tr><th scope=col>filename</th><th scope=col>MouseID</th><th scope=col>Treatmentgroup</th><th scope=col>DPI</th><th scope=col>organ</th><th scope=col>well_position</th><th scope=col>plate</th><th scope=col>X105.07_2.767</th><th scope=col>X119.049_2.765</th><th scope=col>X128.018_0.344</th><th scope=col>...</th><th scope=col>X599.241_2.765</th><th scope=col>X604.362_2.948</th><th scope=col>X620.356_2.913</th><th scope=col>X682.363_3.329</th><th scope=col>X682.364_3.313</th><th scope=col>X764.524_3.729</th><th scope=col>X790.38_2.768</th><th scope=col>X792.329_2.764</th><th scope=col>X795.335_2.768</th><th scope=col>X811.309_2.773</th></tr></thead>\n",
       "<tbody>\n",
       "\t<tr><td>X511_Group1C_142dpi_LV_bottom_161_G_A1_P132.mzXML</td><td>511                                              </td><td>Group1C                                          </td><td>142dpi                                           </td><td>LV_bottom                                        </td><td>A1                                               </td><td>P132                                             </td><td>0.001681762                                      </td><td>0.000000000                                      </td><td>0                                                </td><td>...                                              </td><td>0.000000000                                      </td><td>0.001281931                                      </td><td>0.000659514                                      </td><td>0.000320160                                      </td><td>0                                                </td><td>0                                                </td><td>0.000370969                                      </td><td>0.00e+00                                         </td><td>0.000245626                                      </td><td>0.000038000                                      </td></tr>\n",
       "\t<tr><td>X512_Group1C_142dpi_LV_bottom_162_G_A2_P132.mzXML</td><td>512                                              </td><td>Group1C                                          </td><td>142dpi                                           </td><td>LV_bottom                                        </td><td>A2                                               </td><td>P132                                             </td><td>0.001668227                                      </td><td>0.000020400                                      </td><td>0                                                </td><td>...                                              </td><td>0.000050000                                      </td><td>0.000671298                                      </td><td>0.000483435                                      </td><td>0.000179208                                      </td><td>0                                                </td><td>0                                                </td><td>0.000586134                                      </td><td>0.00e+00                                         </td><td>0.000211682                                      </td><td>0.000020900                                      </td></tr>\n",
       "\t<tr><td>X513_Group1C_142dpi_LV_bottom_163_G_A3_P132.mzXML</td><td>513                                              </td><td>Group1C                                          </td><td>142dpi                                           </td><td>LV_bottom                                        </td><td>A3                                               </td><td>P132                                             </td><td>0.002195508                                      </td><td>0.000000000                                      </td><td>0                                                </td><td>...                                              </td><td>0.000082900                                      </td><td>0.000706708                                      </td><td>0.000317234                                      </td><td>0.000099800                                      </td><td>0                                                </td><td>0                                                </td><td>0.001133874                                      </td><td>0.00e+00                                         </td><td>0.000741259                                      </td><td>0.000095300                                      </td></tr>\n",
       "\t<tr><td>X514_Group1C_142dpi_LV_bottom_164_G_A4_P132.mzXML</td><td>514                                              </td><td>Group1C                                          </td><td>142dpi                                           </td><td>LV_bottom                                        </td><td>A4                                               </td><td>P132                                             </td><td>0.003006615                                      </td><td>0.000063800                                      </td><td>0                                                </td><td>...                                              </td><td>0.000099100                                      </td><td>0.000930076                                      </td><td>0.000245202                                      </td><td>0.000234970                                      </td><td>0                                                </td><td>0                                                </td><td>0.001150258                                      </td><td>0.00e+00                                         </td><td>0.000713691                                      </td><td>0.000174109                                      </td></tr>\n",
       "\t<tr><td>X515_Group1C_142dpi_LV_bottom_165_G_A5_P132.mzXML</td><td>515                                              </td><td>Group1C                                          </td><td>142dpi                                           </td><td>LV_bottom                                        </td><td>A5                                               </td><td>P132                                             </td><td>0.002858430                                      </td><td>0.000000000                                      </td><td>0                                                </td><td>...                                              </td><td>0.000178807                                      </td><td>0.000744165                                      </td><td>0.000302164                                      </td><td>0.000251297                                      </td><td>0                                                </td><td>0                                                </td><td>0.001161454                                      </td><td>4.09e-05                                         </td><td>0.000765030                                      </td><td>0.000136971                                      </td></tr>\n",
       "\t<tr><td>X531_Group1C_142dpi_LV_bottom_166_G_A6_P132.mzXML</td><td>531                                              </td><td>Group1C                                          </td><td>142dpi                                           </td><td>LV_bottom                                        </td><td>A6                                               </td><td>P132                                             </td><td>0.003596194                                      </td><td>0.000107639                                      </td><td>0                                                </td><td>...                                              </td><td>0.000280413                                      </td><td>0.000626765                                      </td><td>0.000345920                                      </td><td>0.000112422                                      </td><td>0                                                </td><td>0                                                </td><td>0.001883720                                      </td><td>8.53e-05                                         </td><td>0.001150782                                      </td><td>0.000161828                                      </td></tr>\n",
       "</tbody>\n",
       "</table>\n"
      ],
      "text/latex": [
       "\\begin{tabular}{r|llllllllllllllllllllllllllllllllllllllllllllllllllllllllllllll}\n",
       " filename & MouseID & Treatmentgroup & DPI & organ & well\\_position & plate & X105.07\\_2.767 & X119.049\\_2.765 & X128.018\\_0.344 & ... & X599.241\\_2.765 & X604.362\\_2.948 & X620.356\\_2.913 & X682.363\\_3.329 & X682.364\\_3.313 & X764.524\\_3.729 & X790.38\\_2.768 & X792.329\\_2.764 & X795.335\\_2.768 & X811.309\\_2.773\\\\\n",
       "\\hline\n",
       "\t X511\\_Group1C\\_142dpi\\_LV\\_bottom\\_161\\_G\\_A1\\_P132.mzXML & 511                                                               & Group1C                                                           & 142dpi                                                            & LV\\_bottom                                                       & A1                                                                & P132                                                              & 0.001681762                                                       & 0.000000000                                                       & 0                                                                 & ...                                                               & 0.000000000                                                       & 0.001281931                                                       & 0.000659514                                                       & 0.000320160                                                       & 0                                                                 & 0                                                                 & 0.000370969                                                       & 0.00e+00                                                          & 0.000245626                                                       & 0.000038000                                                      \\\\\n",
       "\t X512\\_Group1C\\_142dpi\\_LV\\_bottom\\_162\\_G\\_A2\\_P132.mzXML & 512                                                               & Group1C                                                           & 142dpi                                                            & LV\\_bottom                                                       & A2                                                                & P132                                                              & 0.001668227                                                       & 0.000020400                                                       & 0                                                                 & ...                                                               & 0.000050000                                                       & 0.000671298                                                       & 0.000483435                                                       & 0.000179208                                                       & 0                                                                 & 0                                                                 & 0.000586134                                                       & 0.00e+00                                                          & 0.000211682                                                       & 0.000020900                                                      \\\\\n",
       "\t X513\\_Group1C\\_142dpi\\_LV\\_bottom\\_163\\_G\\_A3\\_P132.mzXML & 513                                                               & Group1C                                                           & 142dpi                                                            & LV\\_bottom                                                       & A3                                                                & P132                                                              & 0.002195508                                                       & 0.000000000                                                       & 0                                                                 & ...                                                               & 0.000082900                                                       & 0.000706708                                                       & 0.000317234                                                       & 0.000099800                                                       & 0                                                                 & 0                                                                 & 0.001133874                                                       & 0.00e+00                                                          & 0.000741259                                                       & 0.000095300                                                      \\\\\n",
       "\t X514\\_Group1C\\_142dpi\\_LV\\_bottom\\_164\\_G\\_A4\\_P132.mzXML & 514                                                               & Group1C                                                           & 142dpi                                                            & LV\\_bottom                                                       & A4                                                                & P132                                                              & 0.003006615                                                       & 0.000063800                                                       & 0                                                                 & ...                                                               & 0.000099100                                                       & 0.000930076                                                       & 0.000245202                                                       & 0.000234970                                                       & 0                                                                 & 0                                                                 & 0.001150258                                                       & 0.00e+00                                                          & 0.000713691                                                       & 0.000174109                                                      \\\\\n",
       "\t X515\\_Group1C\\_142dpi\\_LV\\_bottom\\_165\\_G\\_A5\\_P132.mzXML & 515                                                               & Group1C                                                           & 142dpi                                                            & LV\\_bottom                                                       & A5                                                                & P132                                                              & 0.002858430                                                       & 0.000000000                                                       & 0                                                                 & ...                                                               & 0.000178807                                                       & 0.000744165                                                       & 0.000302164                                                       & 0.000251297                                                       & 0                                                                 & 0                                                                 & 0.001161454                                                       & 4.09e-05                                                          & 0.000765030                                                       & 0.000136971                                                      \\\\\n",
       "\t X531\\_Group1C\\_142dpi\\_LV\\_bottom\\_166\\_G\\_A6\\_P132.mzXML & 531                                                               & Group1C                                                           & 142dpi                                                            & LV\\_bottom                                                       & A6                                                                & P132                                                              & 0.003596194                                                       & 0.000107639                                                       & 0                                                                 & ...                                                               & 0.000280413                                                       & 0.000626765                                                       & 0.000345920                                                       & 0.000112422                                                       & 0                                                                 & 0                                                                 & 0.001883720                                                       & 8.53e-05                                                          & 0.001150782                                                       & 0.000161828                                                      \\\\\n",
       "\\end{tabular}\n"
      ],
      "text/markdown": [
       "\n",
       "| filename | MouseID | Treatmentgroup | DPI | organ | well_position | plate | X105.07_2.767 | X119.049_2.765 | X128.018_0.344 | ... | X599.241_2.765 | X604.362_2.948 | X620.356_2.913 | X682.363_3.329 | X682.364_3.313 | X764.524_3.729 | X790.38_2.768 | X792.329_2.764 | X795.335_2.768 | X811.309_2.773 |\n",
       "|---|---|---|---|---|---|---|---|---|---|---|---|---|---|---|---|---|---|---|---|---|\n",
       "| X511_Group1C_142dpi_LV_bottom_161_G_A1_P132.mzXML | 511                                               | Group1C                                           | 142dpi                                            | LV_bottom                                         | A1                                                | P132                                              | 0.001681762                                       | 0.000000000                                       | 0                                                 | ...                                               | 0.000000000                                       | 0.001281931                                       | 0.000659514                                       | 0.000320160                                       | 0                                                 | 0                                                 | 0.000370969                                       | 0.00e+00                                          | 0.000245626                                       | 0.000038000                                       |\n",
       "| X512_Group1C_142dpi_LV_bottom_162_G_A2_P132.mzXML | 512                                               | Group1C                                           | 142dpi                                            | LV_bottom                                         | A2                                                | P132                                              | 0.001668227                                       | 0.000020400                                       | 0                                                 | ...                                               | 0.000050000                                       | 0.000671298                                       | 0.000483435                                       | 0.000179208                                       | 0                                                 | 0                                                 | 0.000586134                                       | 0.00e+00                                          | 0.000211682                                       | 0.000020900                                       |\n",
       "| X513_Group1C_142dpi_LV_bottom_163_G_A3_P132.mzXML | 513                                               | Group1C                                           | 142dpi                                            | LV_bottom                                         | A3                                                | P132                                              | 0.002195508                                       | 0.000000000                                       | 0                                                 | ...                                               | 0.000082900                                       | 0.000706708                                       | 0.000317234                                       | 0.000099800                                       | 0                                                 | 0                                                 | 0.001133874                                       | 0.00e+00                                          | 0.000741259                                       | 0.000095300                                       |\n",
       "| X514_Group1C_142dpi_LV_bottom_164_G_A4_P132.mzXML | 514                                               | Group1C                                           | 142dpi                                            | LV_bottom                                         | A4                                                | P132                                              | 0.003006615                                       | 0.000063800                                       | 0                                                 | ...                                               | 0.000099100                                       | 0.000930076                                       | 0.000245202                                       | 0.000234970                                       | 0                                                 | 0                                                 | 0.001150258                                       | 0.00e+00                                          | 0.000713691                                       | 0.000174109                                       |\n",
       "| X515_Group1C_142dpi_LV_bottom_165_G_A5_P132.mzXML | 515                                               | Group1C                                           | 142dpi                                            | LV_bottom                                         | A5                                                | P132                                              | 0.002858430                                       | 0.000000000                                       | 0                                                 | ...                                               | 0.000178807                                       | 0.000744165                                       | 0.000302164                                       | 0.000251297                                       | 0                                                 | 0                                                 | 0.001161454                                       | 4.09e-05                                          | 0.000765030                                       | 0.000136971                                       |\n",
       "| X531_Group1C_142dpi_LV_bottom_166_G_A6_P132.mzXML | 531                                               | Group1C                                           | 142dpi                                            | LV_bottom                                         | A6                                                | P132                                              | 0.003596194                                       | 0.000107639                                       | 0                                                 | ...                                               | 0.000280413                                       | 0.000626765                                       | 0.000345920                                       | 0.000112422                                       | 0                                                 | 0                                                 | 0.001883720                                       | 8.53e-05                                          | 0.001150782                                       | 0.000161828                                       |\n",
       "\n"
      ],
      "text/plain": [
       "  filename                                          MouseID Treatmentgroup\n",
       "1 X511_Group1C_142dpi_LV_bottom_161_G_A1_P132.mzXML 511     Group1C       \n",
       "2 X512_Group1C_142dpi_LV_bottom_162_G_A2_P132.mzXML 512     Group1C       \n",
       "3 X513_Group1C_142dpi_LV_bottom_163_G_A3_P132.mzXML 513     Group1C       \n",
       "4 X514_Group1C_142dpi_LV_bottom_164_G_A4_P132.mzXML 514     Group1C       \n",
       "5 X515_Group1C_142dpi_LV_bottom_165_G_A5_P132.mzXML 515     Group1C       \n",
       "6 X531_Group1C_142dpi_LV_bottom_166_G_A6_P132.mzXML 531     Group1C       \n",
       "  DPI    organ     well_position plate X105.07_2.767 X119.049_2.765\n",
       "1 142dpi LV_bottom A1            P132  0.001681762   0.000000000   \n",
       "2 142dpi LV_bottom A2            P132  0.001668227   0.000020400   \n",
       "3 142dpi LV_bottom A3            P132  0.002195508   0.000000000   \n",
       "4 142dpi LV_bottom A4            P132  0.003006615   0.000063800   \n",
       "5 142dpi LV_bottom A5            P132  0.002858430   0.000000000   \n",
       "6 142dpi LV_bottom A6            P132  0.003596194   0.000107639   \n",
       "  X128.018_0.344 ... X599.241_2.765 X604.362_2.948 X620.356_2.913\n",
       "1 0              ... 0.000000000    0.001281931    0.000659514   \n",
       "2 0              ... 0.000050000    0.000671298    0.000483435   \n",
       "3 0              ... 0.000082900    0.000706708    0.000317234   \n",
       "4 0              ... 0.000099100    0.000930076    0.000245202   \n",
       "5 0              ... 0.000178807    0.000744165    0.000302164   \n",
       "6 0              ... 0.000280413    0.000626765    0.000345920   \n",
       "  X682.363_3.329 X682.364_3.313 X764.524_3.729 X790.38_2.768 X792.329_2.764\n",
       "1 0.000320160    0              0              0.000370969   0.00e+00      \n",
       "2 0.000179208    0              0              0.000586134   0.00e+00      \n",
       "3 0.000099800    0              0              0.001133874   0.00e+00      \n",
       "4 0.000234970    0              0              0.001150258   0.00e+00      \n",
       "5 0.000251297    0              0              0.001161454   4.09e-05      \n",
       "6 0.000112422    0              0              0.001883720   8.53e-05      \n",
       "  X795.335_2.768 X811.309_2.773\n",
       "1 0.000245626    0.000038000   \n",
       "2 0.000211682    0.000020900   \n",
       "3 0.000741259    0.000095300   \n",
       "4 0.000713691    0.000174109   \n",
       "5 0.000765030    0.000136971   \n",
       "6 0.001150782    0.000161828   "
      ]
     },
     "metadata": {},
     "output_type": "display_data"
    },
    {
     "data": {
      "text/html": [
       "<ol class=list-inline>\n",
       "\t<li>60</li>\n",
       "\t<li>62</li>\n",
       "</ol>\n"
      ],
      "text/latex": [
       "\\begin{enumerate*}\n",
       "\\item 60\n",
       "\\item 62\n",
       "\\end{enumerate*}\n"
      ],
      "text/markdown": [
       "1. 60\n",
       "2. 62\n",
       "\n",
       "\n"
      ],
      "text/plain": [
       "[1] 60 62"
      ]
     },
     "metadata": {},
     "output_type": "display_data"
    }
   ],
   "source": [
    "head(a)\n",
    "dim(a)"
   ]
  },
  {
   "cell_type": "code",
   "execution_count": 3,
   "metadata": {},
   "outputs": [
    {
     "data": {
      "text/html": [
       "<table>\n",
       "<thead><tr><th></th><th scope=col>filename</th><th scope=col>MouseID</th><th scope=col>Treatmentgroup</th><th scope=col>DPI</th><th scope=col>organ</th><th scope=col>well_position</th><th scope=col>plate</th><th scope=col>X105.07_2.767</th><th scope=col>X119.049_2.765</th><th scope=col>X128.018_0.344</th><th scope=col>...</th><th scope=col>X599.241_2.765</th><th scope=col>X604.362_2.948</th><th scope=col>X620.356_2.913</th><th scope=col>X682.363_3.329</th><th scope=col>X682.364_3.313</th><th scope=col>X764.524_3.729</th><th scope=col>X790.38_2.768</th><th scope=col>X792.329_2.764</th><th scope=col>X795.335_2.768</th><th scope=col>X811.309_2.773</th></tr></thead>\n",
       "<tbody>\n",
       "\t<tr><th scope=row>16</th><td>X581_Group3E_142dpi_LV_bottom_176_G_B4_P132.mzXML</td><td>581                                              </td><td>Group3E                                          </td><td>142dpi                                           </td><td>LV_bottom                                        </td><td>B4                                               </td><td>P132                                             </td><td>0.003203513                                      </td><td>0.000128479                                      </td><td>0.000138911                                      </td><td>...                                              </td><td>0.000221365                                      </td><td>0.000534956                                      </td><td>0.000413657                                      </td><td>0                                                </td><td>0.000190736                                      </td><td>0.000184619                                      </td><td>0.001623528                                      </td><td>0.000000000                                      </td><td>0.000945503                                      </td><td>0.000217402                                      </td></tr>\n",
       "\t<tr><th scope=row>17</th><td>X582_Group3E_142dpi_LV_bottom_177_G_B5_P132.mzXML</td><td>582                                              </td><td>Group3E                                          </td><td>142dpi                                           </td><td>LV_bottom                                        </td><td>B5                                               </td><td>P132                                             </td><td>0.003154399                                      </td><td>0.000108881                                      </td><td>0.000054600                                      </td><td>...                                              </td><td>0.000268459                                      </td><td>0.000342286                                      </td><td>0.000076900                                      </td><td>0                                                </td><td>0.000165649                                      </td><td>0.000378080                                      </td><td>0.001671160                                      </td><td>0.000073800                                      </td><td>0.001031332                                      </td><td>0.000176385                                      </td></tr>\n",
       "\t<tr><th scope=row>18</th><td>X583_Group3E_142dpi_LV_bottom_178_G_B6_P132.mzXML</td><td>583                                              </td><td>Group3E                                          </td><td>142dpi                                           </td><td>LV_bottom                                        </td><td>B6                                               </td><td>P132                                             </td><td>0.003181185                                      </td><td>0.000127449                                      </td><td>0.000063000                                      </td><td>...                                              </td><td>0.000318118                                      </td><td>0.000542185                                      </td><td>0.000184548                                      </td><td>0                                                </td><td>0.000051700                                      </td><td>0.001618255                                      </td><td>0.002251726                                      </td><td>0.000094400                                      </td><td>0.001103733                                      </td><td>0.000096100                                      </td></tr>\n",
       "\t<tr><th scope=row>19</th><td>X584_Group3E_142dpi_LV_bottom_179_G_B7_P132.mzXML</td><td>584                                              </td><td>Group3E                                          </td><td>142dpi                                           </td><td>LV_bottom                                        </td><td>B7                                               </td><td>P132                                             </td><td>0.004219694                                      </td><td>0.000194733                                      </td><td>0.000115753                                      </td><td>...                                              </td><td>0.000399313                                      </td><td>0.000404977                                      </td><td>0.000228200                                      </td><td>0                                                </td><td>0.000177511                                      </td><td>0.000082300                                      </td><td>0.002483672                                      </td><td>0.000069700                                      </td><td>0.001435829                                      </td><td>0.000237145                                      </td></tr>\n",
       "\t<tr><th scope=row>20</th><td>X585_Group3E_142dpi_LV_bottom_180_G_B8_P132.mzXML</td><td>585                                              </td><td>Group3E                                          </td><td>142dpi                                           </td><td>LV_bottom                                        </td><td>B8                                               </td><td>P132                                             </td><td>0.004127403                                      </td><td>0.000132620                                      </td><td>0.000103152                                      </td><td>...                                              </td><td>0.000388099                                      </td><td>0.000588309                                      </td><td>0.000174824                                      </td><td>0                                                </td><td>0.000254230                                      </td><td>0.000180185                                      </td><td>0.002624289                                      </td><td>0.000105303                                      </td><td>0.001475393                                      </td><td>0.000225354                                      </td></tr>\n",
       "\t<tr><th scope=row>21</th><td>X611_Group9_142dpi_LV_bottom_181_G_B9_P132.mzXML </td><td>611                                              </td><td>Group9                                           </td><td>142dpi                                           </td><td>LV_bottom                                        </td><td>B9                                               </td><td>P132                                             </td><td>0.003922505                                      </td><td>0.000144515                                      </td><td>0.000000000                                      </td><td>...                                              </td><td>0.000314399                                      </td><td>0.000619816                                      </td><td>0.000298514                                      </td><td>0                                                </td><td>0.000245309                                      </td><td>0.000329371                                      </td><td>0.001928315                                      </td><td>0.000075700                                      </td><td>0.001254603                                      </td><td>0.000139494                                      </td></tr>\n",
       "</tbody>\n",
       "</table>\n"
      ],
      "text/latex": [
       "\\begin{tabular}{r|llllllllllllllllllllllllllllllllllllllllllllllllllllllllllllll}\n",
       "  & filename & MouseID & Treatmentgroup & DPI & organ & well\\_position & plate & X105.07\\_2.767 & X119.049\\_2.765 & X128.018\\_0.344 & ... & X599.241\\_2.765 & X604.362\\_2.948 & X620.356\\_2.913 & X682.363\\_3.329 & X682.364\\_3.313 & X764.524\\_3.729 & X790.38\\_2.768 & X792.329\\_2.764 & X795.335\\_2.768 & X811.309\\_2.773\\\\\n",
       "\\hline\n",
       "\t16 & X581\\_Group3E\\_142dpi\\_LV\\_bottom\\_176\\_G\\_B4\\_P132.mzXML & 581                                                               & Group3E                                                           & 142dpi                                                            & LV\\_bottom                                                       & B4                                                                & P132                                                              & 0.003203513                                                       & 0.000128479                                                       & 0.000138911                                                       & ...                                                               & 0.000221365                                                       & 0.000534956                                                       & 0.000413657                                                       & 0                                                                 & 0.000190736                                                       & 0.000184619                                                       & 0.001623528                                                       & 0.000000000                                                       & 0.000945503                                                       & 0.000217402                                                      \\\\\n",
       "\t17 & X582\\_Group3E\\_142dpi\\_LV\\_bottom\\_177\\_G\\_B5\\_P132.mzXML & 582                                                               & Group3E                                                           & 142dpi                                                            & LV\\_bottom                                                       & B5                                                                & P132                                                              & 0.003154399                                                       & 0.000108881                                                       & 0.000054600                                                       & ...                                                               & 0.000268459                                                       & 0.000342286                                                       & 0.000076900                                                       & 0                                                                 & 0.000165649                                                       & 0.000378080                                                       & 0.001671160                                                       & 0.000073800                                                       & 0.001031332                                                       & 0.000176385                                                      \\\\\n",
       "\t18 & X583\\_Group3E\\_142dpi\\_LV\\_bottom\\_178\\_G\\_B6\\_P132.mzXML & 583                                                               & Group3E                                                           & 142dpi                                                            & LV\\_bottom                                                       & B6                                                                & P132                                                              & 0.003181185                                                       & 0.000127449                                                       & 0.000063000                                                       & ...                                                               & 0.000318118                                                       & 0.000542185                                                       & 0.000184548                                                       & 0                                                                 & 0.000051700                                                       & 0.001618255                                                       & 0.002251726                                                       & 0.000094400                                                       & 0.001103733                                                       & 0.000096100                                                      \\\\\n",
       "\t19 & X584\\_Group3E\\_142dpi\\_LV\\_bottom\\_179\\_G\\_B7\\_P132.mzXML & 584                                                               & Group3E                                                           & 142dpi                                                            & LV\\_bottom                                                       & B7                                                                & P132                                                              & 0.004219694                                                       & 0.000194733                                                       & 0.000115753                                                       & ...                                                               & 0.000399313                                                       & 0.000404977                                                       & 0.000228200                                                       & 0                                                                 & 0.000177511                                                       & 0.000082300                                                       & 0.002483672                                                       & 0.000069700                                                       & 0.001435829                                                       & 0.000237145                                                      \\\\\n",
       "\t20 & X585\\_Group3E\\_142dpi\\_LV\\_bottom\\_180\\_G\\_B8\\_P132.mzXML & 585                                                               & Group3E                                                           & 142dpi                                                            & LV\\_bottom                                                       & B8                                                                & P132                                                              & 0.004127403                                                       & 0.000132620                                                       & 0.000103152                                                       & ...                                                               & 0.000388099                                                       & 0.000588309                                                       & 0.000174824                                                       & 0                                                                 & 0.000254230                                                       & 0.000180185                                                       & 0.002624289                                                       & 0.000105303                                                       & 0.001475393                                                       & 0.000225354                                                      \\\\\n",
       "\t21 & X611\\_Group9\\_142dpi\\_LV\\_bottom\\_181\\_G\\_B9\\_P132.mzXML  & 611                                                               & Group9                                                            & 142dpi                                                            & LV\\_bottom                                                       & B9                                                                & P132                                                              & 0.003922505                                                       & 0.000144515                                                       & 0.000000000                                                       & ...                                                               & 0.000314399                                                       & 0.000619816                                                       & 0.000298514                                                       & 0                                                                 & 0.000245309                                                       & 0.000329371                                                       & 0.001928315                                                       & 0.000075700                                                       & 0.001254603                                                       & 0.000139494                                                      \\\\\n",
       "\\end{tabular}\n"
      ],
      "text/markdown": [
       "\n",
       "| <!--/--> | filename | MouseID | Treatmentgroup | DPI | organ | well_position | plate | X105.07_2.767 | X119.049_2.765 | X128.018_0.344 | ... | X599.241_2.765 | X604.362_2.948 | X620.356_2.913 | X682.363_3.329 | X682.364_3.313 | X764.524_3.729 | X790.38_2.768 | X792.329_2.764 | X795.335_2.768 | X811.309_2.773 |\n",
       "|---|---|---|---|---|---|---|---|---|---|---|---|---|---|---|---|---|---|---|---|---|---|\n",
       "| 16 | X581_Group3E_142dpi_LV_bottom_176_G_B4_P132.mzXML | 581                                               | Group3E                                           | 142dpi                                            | LV_bottom                                         | B4                                                | P132                                              | 0.003203513                                       | 0.000128479                                       | 0.000138911                                       | ...                                               | 0.000221365                                       | 0.000534956                                       | 0.000413657                                       | 0                                                 | 0.000190736                                       | 0.000184619                                       | 0.001623528                                       | 0.000000000                                       | 0.000945503                                       | 0.000217402                                       |\n",
       "| 17 | X582_Group3E_142dpi_LV_bottom_177_G_B5_P132.mzXML | 582                                               | Group3E                                           | 142dpi                                            | LV_bottom                                         | B5                                                | P132                                              | 0.003154399                                       | 0.000108881                                       | 0.000054600                                       | ...                                               | 0.000268459                                       | 0.000342286                                       | 0.000076900                                       | 0                                                 | 0.000165649                                       | 0.000378080                                       | 0.001671160                                       | 0.000073800                                       | 0.001031332                                       | 0.000176385                                       |\n",
       "| 18 | X583_Group3E_142dpi_LV_bottom_178_G_B6_P132.mzXML | 583                                               | Group3E                                           | 142dpi                                            | LV_bottom                                         | B6                                                | P132                                              | 0.003181185                                       | 0.000127449                                       | 0.000063000                                       | ...                                               | 0.000318118                                       | 0.000542185                                       | 0.000184548                                       | 0                                                 | 0.000051700                                       | 0.001618255                                       | 0.002251726                                       | 0.000094400                                       | 0.001103733                                       | 0.000096100                                       |\n",
       "| 19 | X584_Group3E_142dpi_LV_bottom_179_G_B7_P132.mzXML | 584                                               | Group3E                                           | 142dpi                                            | LV_bottom                                         | B7                                                | P132                                              | 0.004219694                                       | 0.000194733                                       | 0.000115753                                       | ...                                               | 0.000399313                                       | 0.000404977                                       | 0.000228200                                       | 0                                                 | 0.000177511                                       | 0.000082300                                       | 0.002483672                                       | 0.000069700                                       | 0.001435829                                       | 0.000237145                                       |\n",
       "| 20 | X585_Group3E_142dpi_LV_bottom_180_G_B8_P132.mzXML | 585                                               | Group3E                                           | 142dpi                                            | LV_bottom                                         | B8                                                | P132                                              | 0.004127403                                       | 0.000132620                                       | 0.000103152                                       | ...                                               | 0.000388099                                       | 0.000588309                                       | 0.000174824                                       | 0                                                 | 0.000254230                                       | 0.000180185                                       | 0.002624289                                       | 0.000105303                                       | 0.001475393                                       | 0.000225354                                       |\n",
       "| 21 | X611_Group9_142dpi_LV_bottom_181_G_B9_P132.mzXML  | 611                                               | Group9                                            | 142dpi                                            | LV_bottom                                         | B9                                                | P132                                              | 0.003922505                                       | 0.000144515                                       | 0.000000000                                       | ...                                               | 0.000314399                                       | 0.000619816                                       | 0.000298514                                       | 0                                                 | 0.000245309                                       | 0.000329371                                       | 0.001928315                                       | 0.000075700                                       | 0.001254603                                       | 0.000139494                                       |\n",
       "\n"
      ],
      "text/plain": [
       "   filename                                          MouseID Treatmentgroup\n",
       "16 X581_Group3E_142dpi_LV_bottom_176_G_B4_P132.mzXML 581     Group3E       \n",
       "17 X582_Group3E_142dpi_LV_bottom_177_G_B5_P132.mzXML 582     Group3E       \n",
       "18 X583_Group3E_142dpi_LV_bottom_178_G_B6_P132.mzXML 583     Group3E       \n",
       "19 X584_Group3E_142dpi_LV_bottom_179_G_B7_P132.mzXML 584     Group3E       \n",
       "20 X585_Group3E_142dpi_LV_bottom_180_G_B8_P132.mzXML 585     Group3E       \n",
       "21 X611_Group9_142dpi_LV_bottom_181_G_B9_P132.mzXML  611     Group9        \n",
       "   DPI    organ     well_position plate X105.07_2.767 X119.049_2.765\n",
       "16 142dpi LV_bottom B4            P132  0.003203513   0.000128479   \n",
       "17 142dpi LV_bottom B5            P132  0.003154399   0.000108881   \n",
       "18 142dpi LV_bottom B6            P132  0.003181185   0.000127449   \n",
       "19 142dpi LV_bottom B7            P132  0.004219694   0.000194733   \n",
       "20 142dpi LV_bottom B8            P132  0.004127403   0.000132620   \n",
       "21 142dpi LV_bottom B9            P132  0.003922505   0.000144515   \n",
       "   X128.018_0.344 ... X599.241_2.765 X604.362_2.948 X620.356_2.913\n",
       "16 0.000138911    ... 0.000221365    0.000534956    0.000413657   \n",
       "17 0.000054600    ... 0.000268459    0.000342286    0.000076900   \n",
       "18 0.000063000    ... 0.000318118    0.000542185    0.000184548   \n",
       "19 0.000115753    ... 0.000399313    0.000404977    0.000228200   \n",
       "20 0.000103152    ... 0.000388099    0.000588309    0.000174824   \n",
       "21 0.000000000    ... 0.000314399    0.000619816    0.000298514   \n",
       "   X682.363_3.329 X682.364_3.313 X764.524_3.729 X790.38_2.768 X792.329_2.764\n",
       "16 0              0.000190736    0.000184619    0.001623528   0.000000000   \n",
       "17 0              0.000165649    0.000378080    0.001671160   0.000073800   \n",
       "18 0              0.000051700    0.001618255    0.002251726   0.000094400   \n",
       "19 0              0.000177511    0.000082300    0.002483672   0.000069700   \n",
       "20 0              0.000254230    0.000180185    0.002624289   0.000105303   \n",
       "21 0              0.000245309    0.000329371    0.001928315   0.000075700   \n",
       "   X795.335_2.768 X811.309_2.773\n",
       "16 0.000945503    0.000217402   \n",
       "17 0.001031332    0.000176385   \n",
       "18 0.001103733    0.000096100   \n",
       "19 0.001435829    0.000237145   \n",
       "20 0.001475393    0.000225354   \n",
       "21 0.001254603    0.000139494   "
      ]
     },
     "metadata": {},
     "output_type": "display_data"
    },
    {
     "data": {
      "text/html": [
       "<ol class=list-inline>\n",
       "\t<li>30</li>\n",
       "\t<li>62</li>\n",
       "</ol>\n"
      ],
      "text/latex": [
       "\\begin{enumerate*}\n",
       "\\item 30\n",
       "\\item 62\n",
       "\\end{enumerate*}\n"
      ],
      "text/markdown": [
       "1. 30\n",
       "2. 62\n",
       "\n",
       "\n"
      ],
      "text/plain": [
       "[1] 30 62"
      ]
     },
     "metadata": {},
     "output_type": "display_data"
    }
   ],
   "source": [
    "# choose the lung posistion\n",
    "features_pos<-droplevels(subset(a, a$Treatmentgroup==c(\"Group9\")|a$Treatmentgroup==c(\"Group3E\")))\n",
    "head(features_pos)\n",
    "dim(features_pos)"
   ]
  },
  {
   "cell_type": "code",
   "execution_count": 4,
   "metadata": {
    "scrolled": false
   },
   "outputs": [
    {
     "data": {
      "text/html": [
       "<table>\n",
       "<thead><tr><th></th><th scope=col>X105.07_2.767</th><th scope=col>X119.049_2.765</th><th scope=col>X128.018_0.344</th><th scope=col>X136.062_0.301</th><th scope=col>X136.097_0.551</th><th scope=col>X137.046_0.31</th><th scope=col>X137.046_0.42</th><th scope=col>X203.007_0.309</th><th scope=col>X249.112_2.768</th><th scope=col>X251.037_0.323</th><th scope=col>...</th><th scope=col>X599.241_2.765</th><th scope=col>X604.362_2.948</th><th scope=col>X620.356_2.913</th><th scope=col>X682.363_3.329</th><th scope=col>X682.364_3.313</th><th scope=col>X764.524_3.729</th><th scope=col>X790.38_2.768</th><th scope=col>X792.329_2.764</th><th scope=col>X795.335_2.768</th><th scope=col>X811.309_2.773</th></tr></thead>\n",
       "<tbody>\n",
       "\t<tr><th scope=row>16</th><td>0.003203513</td><td>0.000128479</td><td>0.000138911</td><td>0.000000000</td><td>0.000048700</td><td>0.008895191</td><td>0.011818785</td><td>0.000000000</td><td>0.000051500</td><td>0.000023800</td><td>...        </td><td>0.000221365</td><td>0.000534956</td><td>0.000413657</td><td>0          </td><td>0.000190736</td><td>0.000184619</td><td>0.001623528</td><td>0.000000000</td><td>0.000945503</td><td>0.000217402</td></tr>\n",
       "\t<tr><th scope=row>17</th><td>0.003154399</td><td>0.000108881</td><td>0.000054600</td><td>0.000140447</td><td>0.000157467</td><td>0.007203662</td><td>0.006196939</td><td>0.000000000</td><td>0.000083200</td><td>0.000000000</td><td>...        </td><td>0.000268459</td><td>0.000342286</td><td>0.000076900</td><td>0          </td><td>0.000165649</td><td>0.000378080</td><td>0.001671160</td><td>0.000073800</td><td>0.001031332</td><td>0.000176385</td></tr>\n",
       "\t<tr><th scope=row>18</th><td>0.003181185</td><td>0.000127449</td><td>0.000063000</td><td>0.000043700</td><td>0.000080800</td><td>0.006556007</td><td>0.007717831</td><td>0.000100024</td><td>0.000078900</td><td>0.000213059</td><td>...        </td><td>0.000318118</td><td>0.000542185</td><td>0.000184548</td><td>0          </td><td>0.000051700</td><td>0.001618255</td><td>0.002251726</td><td>0.000094400</td><td>0.001103733</td><td>0.000096100</td></tr>\n",
       "\t<tr><th scope=row>19</th><td>0.004219694</td><td>0.000194733</td><td>0.000115753</td><td>0.000314353</td><td>0.000000000</td><td>0.009175710</td><td>0.008382747</td><td>0.000000000</td><td>0.000107251</td><td>0.000000000</td><td>...        </td><td>0.000399313</td><td>0.000404977</td><td>0.000228200</td><td>0          </td><td>0.000177511</td><td>0.000082300</td><td>0.002483672</td><td>0.000069700</td><td>0.001435829</td><td>0.000237145</td></tr>\n",
       "\t<tr><th scope=row>20</th><td>0.004127403</td><td>0.000132620</td><td>0.000103152</td><td>0.000167028</td><td>0.000251822</td><td>0.006437517</td><td>0.011950989</td><td>0.000000000</td><td>0.000077800</td><td>0.000000000</td><td>...        </td><td>0.000388099</td><td>0.000588309</td><td>0.000174824</td><td>0          </td><td>0.000254230</td><td>0.000180185</td><td>0.002624289</td><td>0.000105303</td><td>0.001475393</td><td>0.000225354</td></tr>\n",
       "\t<tr><th scope=row>21</th><td>0.003922505</td><td>0.000144515</td><td>0.000000000</td><td>0.000265460</td><td>0.000000000</td><td>0.008383980</td><td>0.006287985</td><td>0.000000000</td><td>0.000098400</td><td>0.000000000</td><td>...        </td><td>0.000314399</td><td>0.000619816</td><td>0.000298514</td><td>0          </td><td>0.000245309</td><td>0.000329371</td><td>0.001928315</td><td>0.000075700</td><td>0.001254603</td><td>0.000139494</td></tr>\n",
       "</tbody>\n",
       "</table>\n"
      ],
      "text/latex": [
       "\\begin{tabular}{r|lllllllllllllllllllllllllllllllllllllllllllllllllllllll}\n",
       "  & X105.07\\_2.767 & X119.049\\_2.765 & X128.018\\_0.344 & X136.062\\_0.301 & X136.097\\_0.551 & X137.046\\_0.31 & X137.046\\_0.42 & X203.007\\_0.309 & X249.112\\_2.768 & X251.037\\_0.323 & ... & X599.241\\_2.765 & X604.362\\_2.948 & X620.356\\_2.913 & X682.363\\_3.329 & X682.364\\_3.313 & X764.524\\_3.729 & X790.38\\_2.768 & X792.329\\_2.764 & X795.335\\_2.768 & X811.309\\_2.773\\\\\n",
       "\\hline\n",
       "\t16 & 0.003203513 & 0.000128479 & 0.000138911 & 0.000000000 & 0.000048700 & 0.008895191 & 0.011818785 & 0.000000000 & 0.000051500 & 0.000023800 & ...         & 0.000221365 & 0.000534956 & 0.000413657 & 0           & 0.000190736 & 0.000184619 & 0.001623528 & 0.000000000 & 0.000945503 & 0.000217402\\\\\n",
       "\t17 & 0.003154399 & 0.000108881 & 0.000054600 & 0.000140447 & 0.000157467 & 0.007203662 & 0.006196939 & 0.000000000 & 0.000083200 & 0.000000000 & ...         & 0.000268459 & 0.000342286 & 0.000076900 & 0           & 0.000165649 & 0.000378080 & 0.001671160 & 0.000073800 & 0.001031332 & 0.000176385\\\\\n",
       "\t18 & 0.003181185 & 0.000127449 & 0.000063000 & 0.000043700 & 0.000080800 & 0.006556007 & 0.007717831 & 0.000100024 & 0.000078900 & 0.000213059 & ...         & 0.000318118 & 0.000542185 & 0.000184548 & 0           & 0.000051700 & 0.001618255 & 0.002251726 & 0.000094400 & 0.001103733 & 0.000096100\\\\\n",
       "\t19 & 0.004219694 & 0.000194733 & 0.000115753 & 0.000314353 & 0.000000000 & 0.009175710 & 0.008382747 & 0.000000000 & 0.000107251 & 0.000000000 & ...         & 0.000399313 & 0.000404977 & 0.000228200 & 0           & 0.000177511 & 0.000082300 & 0.002483672 & 0.000069700 & 0.001435829 & 0.000237145\\\\\n",
       "\t20 & 0.004127403 & 0.000132620 & 0.000103152 & 0.000167028 & 0.000251822 & 0.006437517 & 0.011950989 & 0.000000000 & 0.000077800 & 0.000000000 & ...         & 0.000388099 & 0.000588309 & 0.000174824 & 0           & 0.000254230 & 0.000180185 & 0.002624289 & 0.000105303 & 0.001475393 & 0.000225354\\\\\n",
       "\t21 & 0.003922505 & 0.000144515 & 0.000000000 & 0.000265460 & 0.000000000 & 0.008383980 & 0.006287985 & 0.000000000 & 0.000098400 & 0.000000000 & ...         & 0.000314399 & 0.000619816 & 0.000298514 & 0           & 0.000245309 & 0.000329371 & 0.001928315 & 0.000075700 & 0.001254603 & 0.000139494\\\\\n",
       "\\end{tabular}\n"
      ],
      "text/markdown": [
       "\n",
       "| <!--/--> | X105.07_2.767 | X119.049_2.765 | X128.018_0.344 | X136.062_0.301 | X136.097_0.551 | X137.046_0.31 | X137.046_0.42 | X203.007_0.309 | X249.112_2.768 | X251.037_0.323 | ... | X599.241_2.765 | X604.362_2.948 | X620.356_2.913 | X682.363_3.329 | X682.364_3.313 | X764.524_3.729 | X790.38_2.768 | X792.329_2.764 | X795.335_2.768 | X811.309_2.773 |\n",
       "|---|---|---|---|---|---|---|---|---|---|---|---|---|---|---|---|---|---|---|---|---|---|\n",
       "| 16 | 0.003203513 | 0.000128479 | 0.000138911 | 0.000000000 | 0.000048700 | 0.008895191 | 0.011818785 | 0.000000000 | 0.000051500 | 0.000023800 | ...         | 0.000221365 | 0.000534956 | 0.000413657 | 0           | 0.000190736 | 0.000184619 | 0.001623528 | 0.000000000 | 0.000945503 | 0.000217402 |\n",
       "| 17 | 0.003154399 | 0.000108881 | 0.000054600 | 0.000140447 | 0.000157467 | 0.007203662 | 0.006196939 | 0.000000000 | 0.000083200 | 0.000000000 | ...         | 0.000268459 | 0.000342286 | 0.000076900 | 0           | 0.000165649 | 0.000378080 | 0.001671160 | 0.000073800 | 0.001031332 | 0.000176385 |\n",
       "| 18 | 0.003181185 | 0.000127449 | 0.000063000 | 0.000043700 | 0.000080800 | 0.006556007 | 0.007717831 | 0.000100024 | 0.000078900 | 0.000213059 | ...         | 0.000318118 | 0.000542185 | 0.000184548 | 0           | 0.000051700 | 0.001618255 | 0.002251726 | 0.000094400 | 0.001103733 | 0.000096100 |\n",
       "| 19 | 0.004219694 | 0.000194733 | 0.000115753 | 0.000314353 | 0.000000000 | 0.009175710 | 0.008382747 | 0.000000000 | 0.000107251 | 0.000000000 | ...         | 0.000399313 | 0.000404977 | 0.000228200 | 0           | 0.000177511 | 0.000082300 | 0.002483672 | 0.000069700 | 0.001435829 | 0.000237145 |\n",
       "| 20 | 0.004127403 | 0.000132620 | 0.000103152 | 0.000167028 | 0.000251822 | 0.006437517 | 0.011950989 | 0.000000000 | 0.000077800 | 0.000000000 | ...         | 0.000388099 | 0.000588309 | 0.000174824 | 0           | 0.000254230 | 0.000180185 | 0.002624289 | 0.000105303 | 0.001475393 | 0.000225354 |\n",
       "| 21 | 0.003922505 | 0.000144515 | 0.000000000 | 0.000265460 | 0.000000000 | 0.008383980 | 0.006287985 | 0.000000000 | 0.000098400 | 0.000000000 | ...         | 0.000314399 | 0.000619816 | 0.000298514 | 0           | 0.000245309 | 0.000329371 | 0.001928315 | 0.000075700 | 0.001254603 | 0.000139494 |\n",
       "\n"
      ],
      "text/plain": [
       "   X105.07_2.767 X119.049_2.765 X128.018_0.344 X136.062_0.301 X136.097_0.551\n",
       "16 0.003203513   0.000128479    0.000138911    0.000000000    0.000048700   \n",
       "17 0.003154399   0.000108881    0.000054600    0.000140447    0.000157467   \n",
       "18 0.003181185   0.000127449    0.000063000    0.000043700    0.000080800   \n",
       "19 0.004219694   0.000194733    0.000115753    0.000314353    0.000000000   \n",
       "20 0.004127403   0.000132620    0.000103152    0.000167028    0.000251822   \n",
       "21 0.003922505   0.000144515    0.000000000    0.000265460    0.000000000   \n",
       "   X137.046_0.31 X137.046_0.42 X203.007_0.309 X249.112_2.768 X251.037_0.323 ...\n",
       "16 0.008895191   0.011818785   0.000000000    0.000051500    0.000023800    ...\n",
       "17 0.007203662   0.006196939   0.000000000    0.000083200    0.000000000    ...\n",
       "18 0.006556007   0.007717831   0.000100024    0.000078900    0.000213059    ...\n",
       "19 0.009175710   0.008382747   0.000000000    0.000107251    0.000000000    ...\n",
       "20 0.006437517   0.011950989   0.000000000    0.000077800    0.000000000    ...\n",
       "21 0.008383980   0.006287985   0.000000000    0.000098400    0.000000000    ...\n",
       "   X599.241_2.765 X604.362_2.948 X620.356_2.913 X682.363_3.329 X682.364_3.313\n",
       "16 0.000221365    0.000534956    0.000413657    0              0.000190736   \n",
       "17 0.000268459    0.000342286    0.000076900    0              0.000165649   \n",
       "18 0.000318118    0.000542185    0.000184548    0              0.000051700   \n",
       "19 0.000399313    0.000404977    0.000228200    0              0.000177511   \n",
       "20 0.000388099    0.000588309    0.000174824    0              0.000254230   \n",
       "21 0.000314399    0.000619816    0.000298514    0              0.000245309   \n",
       "   X764.524_3.729 X790.38_2.768 X792.329_2.764 X795.335_2.768 X811.309_2.773\n",
       "16 0.000184619    0.001623528   0.000000000    0.000945503    0.000217402   \n",
       "17 0.000378080    0.001671160   0.000073800    0.001031332    0.000176385   \n",
       "18 0.001618255    0.002251726   0.000094400    0.001103733    0.000096100   \n",
       "19 0.000082300    0.002483672   0.000069700    0.001435829    0.000237145   \n",
       "20 0.000180185    0.002624289   0.000105303    0.001475393    0.000225354   \n",
       "21 0.000329371    0.001928315   0.000075700    0.001254603    0.000139494   "
      ]
     },
     "metadata": {},
     "output_type": "display_data"
    },
    {
     "data": {
      "text/html": [
       "<dl class=dl-horizontal>\n",
       "\t<dt>X105.07_2.767</dt>\n",
       "\t\t<dd>1</dd>\n",
       "\t<dt>X119.049_2.765</dt>\n",
       "\t\t<dd>2</dd>\n",
       "\t<dt>X128.018_0.344</dt>\n",
       "\t\t<dd>3</dd>\n",
       "\t<dt>X136.062_0.301</dt>\n",
       "\t\t<dd>4</dd>\n",
       "\t<dt>X136.097_0.551</dt>\n",
       "\t\t<dd>5</dd>\n",
       "\t<dt>X137.046_0.31</dt>\n",
       "\t\t<dd>6</dd>\n",
       "</dl>\n"
      ],
      "text/latex": [
       "\\begin{description*}\n",
       "\\item[X105.07\\textbackslash{}\\_2.767] 1\n",
       "\\item[X119.049\\textbackslash{}\\_2.765] 2\n",
       "\\item[X128.018\\textbackslash{}\\_0.344] 3\n",
       "\\item[X136.062\\textbackslash{}\\_0.301] 4\n",
       "\\item[X136.097\\textbackslash{}\\_0.551] 5\n",
       "\\item[X137.046\\textbackslash{}\\_0.31] 6\n",
       "\\end{description*}\n"
      ],
      "text/markdown": [
       "X105.07_2.767\n",
       ":   1X119.049_2.765\n",
       ":   2X128.018_0.344\n",
       ":   3X136.062_0.301\n",
       ":   4X136.097_0.551\n",
       ":   5X137.046_0.31\n",
       ":   6\n",
       "\n"
      ],
      "text/plain": [
       " X105.07_2.767 X119.049_2.765 X128.018_0.344 X136.062_0.301 X136.097_0.551 \n",
       "             1              2              3              4              5 \n",
       " X137.046_0.31 \n",
       "             6 "
      ]
     },
     "metadata": {},
     "output_type": "display_data"
    },
    {
     "data": {
      "text/html": [
       "<table>\n",
       "<thead><tr><th></th><th scope=col>X105.07_2.767</th><th scope=col>X119.049_2.765</th><th scope=col>X128.018_0.344</th><th scope=col>X136.062_0.301</th><th scope=col>X136.097_0.551</th><th scope=col>X137.046_0.31</th><th scope=col>X137.046_0.42</th><th scope=col>X203.007_0.309</th><th scope=col>X249.112_2.768</th><th scope=col>X251.037_0.323</th><th scope=col>...</th><th scope=col>X580.362_2.984</th><th scope=col>X599.241_2.765</th><th scope=col>X604.362_2.948</th><th scope=col>X620.356_2.913</th><th scope=col>X682.364_3.313</th><th scope=col>X764.524_3.729</th><th scope=col>X790.38_2.768</th><th scope=col>X792.329_2.764</th><th scope=col>X795.335_2.768</th><th scope=col>X811.309_2.773</th></tr></thead>\n",
       "<tbody>\n",
       "\t<tr><th scope=row>16</th><td>0.003203513</td><td>0.000128479</td><td>0.000138911</td><td>0.000000000</td><td>0.000048700</td><td>0.008895191</td><td>0.011818785</td><td>0.000000000</td><td>0.000051500</td><td>0.000023800</td><td>...        </td><td>0.007837721</td><td>0.000221365</td><td>0.000534956</td><td>0.000413657</td><td>0.000190736</td><td>0.000184619</td><td>0.001623528</td><td>0.000000000</td><td>0.000945503</td><td>0.000217402</td></tr>\n",
       "\t<tr><th scope=row>17</th><td>0.003154399</td><td>0.000108881</td><td>0.000054600</td><td>0.000140447</td><td>0.000157467</td><td>0.007203662</td><td>0.006196939</td><td>0.000000000</td><td>0.000083200</td><td>0.000000000</td><td>...        </td><td>0.005704764</td><td>0.000268459</td><td>0.000342286</td><td>0.000076900</td><td>0.000165649</td><td>0.000378080</td><td>0.001671160</td><td>0.000073800</td><td>0.001031332</td><td>0.000176385</td></tr>\n",
       "\t<tr><th scope=row>18</th><td>0.003181185</td><td>0.000127449</td><td>0.000063000</td><td>0.000043700</td><td>0.000080800</td><td>0.006556007</td><td>0.007717831</td><td>0.000100024</td><td>0.000078900</td><td>0.000213059</td><td>...        </td><td>0.006417694</td><td>0.000318118</td><td>0.000542185</td><td>0.000184548</td><td>0.000051700</td><td>0.001618255</td><td>0.002251726</td><td>0.000094400</td><td>0.001103733</td><td>0.000096100</td></tr>\n",
       "\t<tr><th scope=row>19</th><td>0.004219694</td><td>0.000194733</td><td>0.000115753</td><td>0.000314353</td><td>0.000000000</td><td>0.009175710</td><td>0.008382747</td><td>0.000000000</td><td>0.000107251</td><td>0.000000000</td><td>...        </td><td>0.006145460</td><td>0.000399313</td><td>0.000404977</td><td>0.000228200</td><td>0.000177511</td><td>0.000082300</td><td>0.002483672</td><td>0.000069700</td><td>0.001435829</td><td>0.000237145</td></tr>\n",
       "\t<tr><th scope=row>20</th><td>0.004127403</td><td>0.000132620</td><td>0.000103152</td><td>0.000167028</td><td>0.000251822</td><td>0.006437517</td><td>0.011950989</td><td>0.000000000</td><td>0.000077800</td><td>0.000000000</td><td>...        </td><td>0.008716830</td><td>0.000388099</td><td>0.000588309</td><td>0.000174824</td><td>0.000254230</td><td>0.000180185</td><td>0.002624289</td><td>0.000105303</td><td>0.001475393</td><td>0.000225354</td></tr>\n",
       "\t<tr><th scope=row>21</th><td>0.003922505</td><td>0.000144515</td><td>0.000000000</td><td>0.000265460</td><td>0.000000000</td><td>0.008383980</td><td>0.006287985</td><td>0.000000000</td><td>0.000098400</td><td>0.000000000</td><td>...        </td><td>0.009491864</td><td>0.000314399</td><td>0.000619816</td><td>0.000298514</td><td>0.000245309</td><td>0.000329371</td><td>0.001928315</td><td>0.000075700</td><td>0.001254603</td><td>0.000139494</td></tr>\n",
       "\t<tr><th scope=row>22</th><td>0.005424795</td><td>0.000169238</td><td>0.000258005</td><td>0.000000000</td><td>0.000000000</td><td>0.013286151</td><td>0.006482171</td><td>0.000000000</td><td>0.000101462</td><td>0.000000000</td><td>...        </td><td>0.011906966</td><td>0.000407544</td><td>0.000588452</td><td>0.000125678</td><td>0.000156795</td><td>0.000000000</td><td>0.002790552</td><td>0.000104305</td><td>0.001986027</td><td>0.000150506</td></tr>\n",
       "\t<tr><th scope=row>23</th><td>0.003141117</td><td>0.000100816</td><td>0.000053100</td><td>0.000292405</td><td>0.000000000</td><td>0.009675311</td><td>0.008801845</td><td>0.000000000</td><td>0.000028700</td><td>0.000000000</td><td>...        </td><td>0.008768250</td><td>0.000234392</td><td>0.000853309</td><td>0.000352746</td><td>0.000170060</td><td>0.000126879</td><td>0.001471454</td><td>0.000029700</td><td>0.000950734</td><td>0.000175991</td></tr>\n",
       "\t<tr><th scope=row>24</th><td>0.003303506</td><td>0.000089100</td><td>0.000000000</td><td>0.000423420</td><td>0.000000000</td><td>0.013204058</td><td>0.012157699</td><td>0.000000000</td><td>0.000000000</td><td>0.000000000</td><td>...        </td><td>0.012556312</td><td>0.000058000</td><td>0.001081238</td><td>0.000523180</td><td>0.000225384</td><td>0.000000000</td><td>0.000966637</td><td>0.000000000</td><td>0.000627816</td><td>0.000095800</td></tr>\n",
       "\t<tr><th scope=row>25</th><td>0.001476878</td><td>0.000000000</td><td>0.000097400</td><td>0.000168995</td><td>0.000000000</td><td>0.011418453</td><td>0.013469672</td><td>0.000228317</td><td>0.000000000</td><td>0.000574341</td><td>...        </td><td>0.008956990</td><td>0.000000000</td><td>0.000793138</td><td>0.000323081</td><td>0.000044300</td><td>0.000581179</td><td>0.000632459</td><td>0.000000000</td><td>0.000298204</td><td>0.000034300</td></tr>\n",
       "\t<tr><th scope=row>31</th><td>0.004555668</td><td>0.000178565</td><td>0.000102290</td><td>0.000310544</td><td>0.000112133</td><td>0.007369463</td><td>0.005527097</td><td>0.000000000</td><td>0.000104473</td><td>0.000000000</td><td>...        </td><td>0.007771433</td><td>0.000455567</td><td>0.000502463</td><td>0.000197796</td><td>0.000178798</td><td>0.000924533</td><td>0.003279411</td><td>0.000152498</td><td>0.001828967</td><td>0.000193993</td></tr>\n",
       "\t<tr><th scope=row>32</th><td>0.006985148</td><td>0.000275656</td><td>0.000245395</td><td>0.000000000</td><td>0.000000000</td><td>0.008119101</td><td>0.006214060</td><td>0.000000000</td><td>0.000260245</td><td>0.000000000</td><td>...        </td><td>0.009434486</td><td>0.000816446</td><td>0.000458117</td><td>0.000087800</td><td>0.000187402</td><td>0.000300403</td><td>0.004299948</td><td>0.000336044</td><td>0.002893847</td><td>0.000239338</td></tr>\n",
       "\t<tr><th scope=row>33</th><td>0.005428003</td><td>0.000203074</td><td>0.000131773</td><td>0.000494135</td><td>0.000112648</td><td>0.009246323</td><td>0.007112556</td><td>0.000000000</td><td>0.000190790</td><td>0.000000000</td><td>...        </td><td>0.012989773</td><td>0.000587722</td><td>0.000640130</td><td>0.000102297</td><td>0.000147922</td><td>0.000228459</td><td>0.003634891</td><td>0.000158965</td><td>0.001946594</td><td>0.000198602</td></tr>\n",
       "\t<tr><th scope=row>34</th><td>0.006490479</td><td>0.000272717</td><td>0.000063600</td><td>0.000453109</td><td>0.000165676</td><td>0.010572542</td><td>0.006408838</td><td>0.000000000</td><td>0.000194342</td><td>0.000000000</td><td>...        </td><td>0.009429564</td><td>0.000653130</td><td>0.000644966</td><td>0.000177403</td><td>0.000116276</td><td>0.000165672</td><td>0.003645282</td><td>0.000184832</td><td>0.002490058</td><td>0.000278129</td></tr>\n",
       "\t<tr><th scope=row>35</th><td>0.005356038</td><td>0.000228270</td><td>0.000143746</td><td>0.000220123</td><td>0.000199201</td><td>0.009078675</td><td>0.004216456</td><td>0.000000000</td><td>0.000139321</td><td>0.000000000</td><td>...        </td><td>0.010256244</td><td>0.000448236</td><td>0.000744527</td><td>0.000275672</td><td>0.000071300</td><td>0.000539402</td><td>0.002955318</td><td>0.000126904</td><td>0.001903103</td><td>0.000202461</td></tr>\n",
       "\t<tr><th scope=row>36</th><td>0.006112067</td><td>0.000179692</td><td>0.000071500</td><td>0.001003474</td><td>0.000000000</td><td>0.012041684</td><td>0.006340129</td><td>0.000000000</td><td>0.000128355</td><td>0.000606645</td><td>...        </td><td>0.012360971</td><td>0.000538227</td><td>0.000675064</td><td>0.000100217</td><td>0.000175547</td><td>0.000000000</td><td>0.003352514</td><td>0.000191569</td><td>0.002490439</td><td>0.000188530</td></tr>\n",
       "\t<tr><th scope=row>37</th><td>0.004958712</td><td>0.000146298</td><td>0.000068400</td><td>0.000398120</td><td>0.000367864</td><td>0.009581240</td><td>0.004706574</td><td>0.000000000</td><td>0.000039800</td><td>0.000000000</td><td>...        </td><td>0.010085516</td><td>0.000327831</td><td>0.000621940</td><td>0.000076000</td><td>0.000225882</td><td>0.000176739</td><td>0.003042464</td><td>0.000050400</td><td>0.001870023</td><td>0.000186748</td></tr>\n",
       "\t<tr><th scope=row>38</th><td>0.004629602</td><td>0.000050500</td><td>0.000000000</td><td>0.001140173</td><td>0.000514742</td><td>0.013155838</td><td>0.007016447</td><td>0.000000000</td><td>0.000000000</td><td>0.000000000</td><td>...        </td><td>0.013281132</td><td>0.000163835</td><td>0.000594132</td><td>0.000125921</td><td>0.000321222</td><td>0.000000000</td><td>0.002142522</td><td>0.000000000</td><td>0.001415819</td><td>0.000172528</td></tr>\n",
       "\t<tr><th scope=row>39</th><td>0.002419561</td><td>0.000000000</td><td>0.000083900</td><td>0.000888621</td><td>0.000000000</td><td>0.009803809</td><td>0.007582256</td><td>0.000000000</td><td>0.000000000</td><td>0.000000000</td><td>...        </td><td>0.009127684</td><td>0.000043100</td><td>0.000531241</td><td>0.000290154</td><td>0.000292539</td><td>0.000109047</td><td>0.000999699</td><td>0.000000000</td><td>0.000502264</td><td>0.000042800</td></tr>\n",
       "\t<tr><th scope=row>40</th><td>0.004319682</td><td>0.000101475</td><td>0.000190248</td><td>0.000755830</td><td>0.000206883</td><td>0.013009434</td><td>0.008795111</td><td>0.000000000</td><td>0.000038200</td><td>0.000000000</td><td>...        </td><td>0.008062185</td><td>0.000304626</td><td>0.000613825</td><td>0.000222833</td><td>0.000231627</td><td>0.000746668</td><td>0.002221682</td><td>0.000000000</td><td>0.001589533</td><td>0.000195319</td></tr>\n",
       "\t<tr><th scope=row>46</th><td>0.005910135</td><td>0.000251804</td><td>0.000140118</td><td>0.000150066</td><td>0.000000000</td><td>0.008091728</td><td>0.005473816</td><td>0.000000000</td><td>0.000169772</td><td>0.000000000</td><td>...        </td><td>0.010669975</td><td>0.000515649</td><td>0.000785374</td><td>0.000338515</td><td>0.000177561</td><td>0.000213886</td><td>0.003153394</td><td>0.000109009</td><td>0.002058631</td><td>0.000250226</td></tr>\n",
       "\t<tr><th scope=row>47</th><td>0.006688525</td><td>0.000000000</td><td>0.000296573</td><td>0.000071900</td><td>0.000000000</td><td>0.010522712</td><td>0.005793882</td><td>0.000235633</td><td>0.000173350</td><td>0.000788138</td><td>...        </td><td>0.009883681</td><td>0.000613470</td><td>0.000424644</td><td>0.000040200</td><td>0.000257677</td><td>0.000039900</td><td>0.004473218</td><td>0.000227324</td><td>0.002730793</td><td>0.000196587</td></tr>\n",
       "\t<tr><th scope=row>48</th><td>0.006605265</td><td>0.000277789</td><td>0.000113672</td><td>0.000112758</td><td>0.000129090</td><td>0.008511482</td><td>0.007491877</td><td>0.000000000</td><td>0.000159697</td><td>0.000000000</td><td>...        </td><td>0.009974393</td><td>0.000633928</td><td>0.000554133</td><td>0.000195587</td><td>0.000232874</td><td>0.000149519</td><td>0.004371001</td><td>0.000214676</td><td>0.002726334</td><td>0.000259807</td></tr>\n",
       "\t<tr><th scope=row>49</th><td>0.006253152</td><td>0.000000000</td><td>0.000100856</td><td>0.000149324</td><td>0.000069700</td><td>0.009754918</td><td>0.005877963</td><td>0.000084200</td><td>0.000174888</td><td>0.000000000</td><td>...        </td><td>0.009796605</td><td>0.000633653</td><td>0.000446058</td><td>0.000050900</td><td>0.000175525</td><td>0.000105094</td><td>0.003184939</td><td>0.000202266</td><td>0.002155253</td><td>0.000183599</td></tr>\n",
       "\t<tr><th scope=row>50</th><td>0.005545005</td><td>0.000218287</td><td>0.000062500</td><td>0.000319101</td><td>0.000390272</td><td>0.009443837</td><td>0.005891568</td><td>0.000000000</td><td>0.000083800</td><td>0.000000000</td><td>...        </td><td>0.010830088</td><td>0.000390814</td><td>0.000610817</td><td>0.000242021</td><td>0.000159362</td><td>0.000000000</td><td>0.002924124</td><td>0.000102198</td><td>0.002131361</td><td>0.000225664</td></tr>\n",
       "\t<tr><th scope=row>51</th><td>0.004812008</td><td>0.000137791</td><td>0.000207329</td><td>0.000686234</td><td>0.000000000</td><td>0.012971501</td><td>0.006485750</td><td>0.000000000</td><td>0.000037600</td><td>0.000000000</td><td>...        </td><td>0.008661615</td><td>0.000358154</td><td>0.000694603</td><td>0.000152549</td><td>0.000186328</td><td>0.000065200</td><td>0.002636144</td><td>0.000000000</td><td>0.001820194</td><td>0.000168366</td></tr>\n",
       "\t<tr><th scope=row>52</th><td>0.003743815</td><td>0.000095400</td><td>0.000187663</td><td>0.000135220</td><td>0.000762932</td><td>0.011825442</td><td>0.006920881</td><td>0.000000000</td><td>0.000000000</td><td>0.000000000</td><td>...        </td><td>0.011825442</td><td>0.000099700</td><td>0.000773831</td><td>0.000272727</td><td>0.000429803</td><td>0.000000000</td><td>0.001841935</td><td>0.000000000</td><td>0.001193443</td><td>0.000165247</td></tr>\n",
       "\t<tr><th scope=row>53</th><td>0.002465422</td><td>0.000000000</td><td>0.000130802</td><td>0.000355857</td><td>0.000405808</td><td>0.007758963</td><td>0.006381632</td><td>0.000000000</td><td>0.000000000</td><td>0.000000000</td><td>...        </td><td>0.008172162</td><td>0.000113055</td><td>0.000505021</td><td>0.000176378</td><td>0.000495839</td><td>0.000927403</td><td>0.001101865</td><td>0.000000000</td><td>0.000707030</td><td>0.000082800</td></tr>\n",
       "\t<tr><th scope=row>54</th><td>0.003096777</td><td>0.000000000</td><td>0.000187929</td><td>0.000638955</td><td>0.000000000</td><td>0.010074325</td><td>0.007173546</td><td>0.000292918</td><td>0.000000000</td><td>0.000642875</td><td>...        </td><td>0.009172731</td><td>0.000188864</td><td>0.000580156</td><td>0.000213929</td><td>0.000249739</td><td>0.000000000</td><td>0.001920786</td><td>0.000034100</td><td>0.001015272</td><td>0.000121553</td></tr>\n",
       "\t<tr><th scope=row>55</th><td>0.004164029</td><td>0.000084800</td><td>0.000098200</td><td>0.000340297</td><td>0.000000000</td><td>0.009024862</td><td>0.005163060</td><td>0.000000000</td><td>0.000070400</td><td>0.000000000</td><td>...        </td><td>0.008269292</td><td>0.000344584</td><td>0.000533096</td><td>0.000229586</td><td>0.000436551</td><td>0.001658056</td><td>0.001968679</td><td>0.000045800</td><td>0.001292864</td><td>0.000128311</td></tr>\n",
       "</tbody>\n",
       "</table>\n"
      ],
      "text/latex": [
       "\\begin{tabular}{r|lllllllllllllllllllllllllllllllllllllllllllllllllllll}\n",
       "  & X105.07\\_2.767 & X119.049\\_2.765 & X128.018\\_0.344 & X136.062\\_0.301 & X136.097\\_0.551 & X137.046\\_0.31 & X137.046\\_0.42 & X203.007\\_0.309 & X249.112\\_2.768 & X251.037\\_0.323 & ... & X580.362\\_2.984 & X599.241\\_2.765 & X604.362\\_2.948 & X620.356\\_2.913 & X682.364\\_3.313 & X764.524\\_3.729 & X790.38\\_2.768 & X792.329\\_2.764 & X795.335\\_2.768 & X811.309\\_2.773\\\\\n",
       "\\hline\n",
       "\t16 & 0.003203513 & 0.000128479 & 0.000138911 & 0.000000000 & 0.000048700 & 0.008895191 & 0.011818785 & 0.000000000 & 0.000051500 & 0.000023800 & ...         & 0.007837721 & 0.000221365 & 0.000534956 & 0.000413657 & 0.000190736 & 0.000184619 & 0.001623528 & 0.000000000 & 0.000945503 & 0.000217402\\\\\n",
       "\t17 & 0.003154399 & 0.000108881 & 0.000054600 & 0.000140447 & 0.000157467 & 0.007203662 & 0.006196939 & 0.000000000 & 0.000083200 & 0.000000000 & ...         & 0.005704764 & 0.000268459 & 0.000342286 & 0.000076900 & 0.000165649 & 0.000378080 & 0.001671160 & 0.000073800 & 0.001031332 & 0.000176385\\\\\n",
       "\t18 & 0.003181185 & 0.000127449 & 0.000063000 & 0.000043700 & 0.000080800 & 0.006556007 & 0.007717831 & 0.000100024 & 0.000078900 & 0.000213059 & ...         & 0.006417694 & 0.000318118 & 0.000542185 & 0.000184548 & 0.000051700 & 0.001618255 & 0.002251726 & 0.000094400 & 0.001103733 & 0.000096100\\\\\n",
       "\t19 & 0.004219694 & 0.000194733 & 0.000115753 & 0.000314353 & 0.000000000 & 0.009175710 & 0.008382747 & 0.000000000 & 0.000107251 & 0.000000000 & ...         & 0.006145460 & 0.000399313 & 0.000404977 & 0.000228200 & 0.000177511 & 0.000082300 & 0.002483672 & 0.000069700 & 0.001435829 & 0.000237145\\\\\n",
       "\t20 & 0.004127403 & 0.000132620 & 0.000103152 & 0.000167028 & 0.000251822 & 0.006437517 & 0.011950989 & 0.000000000 & 0.000077800 & 0.000000000 & ...         & 0.008716830 & 0.000388099 & 0.000588309 & 0.000174824 & 0.000254230 & 0.000180185 & 0.002624289 & 0.000105303 & 0.001475393 & 0.000225354\\\\\n",
       "\t21 & 0.003922505 & 0.000144515 & 0.000000000 & 0.000265460 & 0.000000000 & 0.008383980 & 0.006287985 & 0.000000000 & 0.000098400 & 0.000000000 & ...         & 0.009491864 & 0.000314399 & 0.000619816 & 0.000298514 & 0.000245309 & 0.000329371 & 0.001928315 & 0.000075700 & 0.001254603 & 0.000139494\\\\\n",
       "\t22 & 0.005424795 & 0.000169238 & 0.000258005 & 0.000000000 & 0.000000000 & 0.013286151 & 0.006482171 & 0.000000000 & 0.000101462 & 0.000000000 & ...         & 0.011906966 & 0.000407544 & 0.000588452 & 0.000125678 & 0.000156795 & 0.000000000 & 0.002790552 & 0.000104305 & 0.001986027 & 0.000150506\\\\\n",
       "\t23 & 0.003141117 & 0.000100816 & 0.000053100 & 0.000292405 & 0.000000000 & 0.009675311 & 0.008801845 & 0.000000000 & 0.000028700 & 0.000000000 & ...         & 0.008768250 & 0.000234392 & 0.000853309 & 0.000352746 & 0.000170060 & 0.000126879 & 0.001471454 & 0.000029700 & 0.000950734 & 0.000175991\\\\\n",
       "\t24 & 0.003303506 & 0.000089100 & 0.000000000 & 0.000423420 & 0.000000000 & 0.013204058 & 0.012157699 & 0.000000000 & 0.000000000 & 0.000000000 & ...         & 0.012556312 & 0.000058000 & 0.001081238 & 0.000523180 & 0.000225384 & 0.000000000 & 0.000966637 & 0.000000000 & 0.000627816 & 0.000095800\\\\\n",
       "\t25 & 0.001476878 & 0.000000000 & 0.000097400 & 0.000168995 & 0.000000000 & 0.011418453 & 0.013469672 & 0.000228317 & 0.000000000 & 0.000574341 & ...         & 0.008956990 & 0.000000000 & 0.000793138 & 0.000323081 & 0.000044300 & 0.000581179 & 0.000632459 & 0.000000000 & 0.000298204 & 0.000034300\\\\\n",
       "\t31 & 0.004555668 & 0.000178565 & 0.000102290 & 0.000310544 & 0.000112133 & 0.007369463 & 0.005527097 & 0.000000000 & 0.000104473 & 0.000000000 & ...         & 0.007771433 & 0.000455567 & 0.000502463 & 0.000197796 & 0.000178798 & 0.000924533 & 0.003279411 & 0.000152498 & 0.001828967 & 0.000193993\\\\\n",
       "\t32 & 0.006985148 & 0.000275656 & 0.000245395 & 0.000000000 & 0.000000000 & 0.008119101 & 0.006214060 & 0.000000000 & 0.000260245 & 0.000000000 & ...         & 0.009434486 & 0.000816446 & 0.000458117 & 0.000087800 & 0.000187402 & 0.000300403 & 0.004299948 & 0.000336044 & 0.002893847 & 0.000239338\\\\\n",
       "\t33 & 0.005428003 & 0.000203074 & 0.000131773 & 0.000494135 & 0.000112648 & 0.009246323 & 0.007112556 & 0.000000000 & 0.000190790 & 0.000000000 & ...         & 0.012989773 & 0.000587722 & 0.000640130 & 0.000102297 & 0.000147922 & 0.000228459 & 0.003634891 & 0.000158965 & 0.001946594 & 0.000198602\\\\\n",
       "\t34 & 0.006490479 & 0.000272717 & 0.000063600 & 0.000453109 & 0.000165676 & 0.010572542 & 0.006408838 & 0.000000000 & 0.000194342 & 0.000000000 & ...         & 0.009429564 & 0.000653130 & 0.000644966 & 0.000177403 & 0.000116276 & 0.000165672 & 0.003645282 & 0.000184832 & 0.002490058 & 0.000278129\\\\\n",
       "\t35 & 0.005356038 & 0.000228270 & 0.000143746 & 0.000220123 & 0.000199201 & 0.009078675 & 0.004216456 & 0.000000000 & 0.000139321 & 0.000000000 & ...         & 0.010256244 & 0.000448236 & 0.000744527 & 0.000275672 & 0.000071300 & 0.000539402 & 0.002955318 & 0.000126904 & 0.001903103 & 0.000202461\\\\\n",
       "\t36 & 0.006112067 & 0.000179692 & 0.000071500 & 0.001003474 & 0.000000000 & 0.012041684 & 0.006340129 & 0.000000000 & 0.000128355 & 0.000606645 & ...         & 0.012360971 & 0.000538227 & 0.000675064 & 0.000100217 & 0.000175547 & 0.000000000 & 0.003352514 & 0.000191569 & 0.002490439 & 0.000188530\\\\\n",
       "\t37 & 0.004958712 & 0.000146298 & 0.000068400 & 0.000398120 & 0.000367864 & 0.009581240 & 0.004706574 & 0.000000000 & 0.000039800 & 0.000000000 & ...         & 0.010085516 & 0.000327831 & 0.000621940 & 0.000076000 & 0.000225882 & 0.000176739 & 0.003042464 & 0.000050400 & 0.001870023 & 0.000186748\\\\\n",
       "\t38 & 0.004629602 & 0.000050500 & 0.000000000 & 0.001140173 & 0.000514742 & 0.013155838 & 0.007016447 & 0.000000000 & 0.000000000 & 0.000000000 & ...         & 0.013281132 & 0.000163835 & 0.000594132 & 0.000125921 & 0.000321222 & 0.000000000 & 0.002142522 & 0.000000000 & 0.001415819 & 0.000172528\\\\\n",
       "\t39 & 0.002419561 & 0.000000000 & 0.000083900 & 0.000888621 & 0.000000000 & 0.009803809 & 0.007582256 & 0.000000000 & 0.000000000 & 0.000000000 & ...         & 0.009127684 & 0.000043100 & 0.000531241 & 0.000290154 & 0.000292539 & 0.000109047 & 0.000999699 & 0.000000000 & 0.000502264 & 0.000042800\\\\\n",
       "\t40 & 0.004319682 & 0.000101475 & 0.000190248 & 0.000755830 & 0.000206883 & 0.013009434 & 0.008795111 & 0.000000000 & 0.000038200 & 0.000000000 & ...         & 0.008062185 & 0.000304626 & 0.000613825 & 0.000222833 & 0.000231627 & 0.000746668 & 0.002221682 & 0.000000000 & 0.001589533 & 0.000195319\\\\\n",
       "\t46 & 0.005910135 & 0.000251804 & 0.000140118 & 0.000150066 & 0.000000000 & 0.008091728 & 0.005473816 & 0.000000000 & 0.000169772 & 0.000000000 & ...         & 0.010669975 & 0.000515649 & 0.000785374 & 0.000338515 & 0.000177561 & 0.000213886 & 0.003153394 & 0.000109009 & 0.002058631 & 0.000250226\\\\\n",
       "\t47 & 0.006688525 & 0.000000000 & 0.000296573 & 0.000071900 & 0.000000000 & 0.010522712 & 0.005793882 & 0.000235633 & 0.000173350 & 0.000788138 & ...         & 0.009883681 & 0.000613470 & 0.000424644 & 0.000040200 & 0.000257677 & 0.000039900 & 0.004473218 & 0.000227324 & 0.002730793 & 0.000196587\\\\\n",
       "\t48 & 0.006605265 & 0.000277789 & 0.000113672 & 0.000112758 & 0.000129090 & 0.008511482 & 0.007491877 & 0.000000000 & 0.000159697 & 0.000000000 & ...         & 0.009974393 & 0.000633928 & 0.000554133 & 0.000195587 & 0.000232874 & 0.000149519 & 0.004371001 & 0.000214676 & 0.002726334 & 0.000259807\\\\\n",
       "\t49 & 0.006253152 & 0.000000000 & 0.000100856 & 0.000149324 & 0.000069700 & 0.009754918 & 0.005877963 & 0.000084200 & 0.000174888 & 0.000000000 & ...         & 0.009796605 & 0.000633653 & 0.000446058 & 0.000050900 & 0.000175525 & 0.000105094 & 0.003184939 & 0.000202266 & 0.002155253 & 0.000183599\\\\\n",
       "\t50 & 0.005545005 & 0.000218287 & 0.000062500 & 0.000319101 & 0.000390272 & 0.009443837 & 0.005891568 & 0.000000000 & 0.000083800 & 0.000000000 & ...         & 0.010830088 & 0.000390814 & 0.000610817 & 0.000242021 & 0.000159362 & 0.000000000 & 0.002924124 & 0.000102198 & 0.002131361 & 0.000225664\\\\\n",
       "\t51 & 0.004812008 & 0.000137791 & 0.000207329 & 0.000686234 & 0.000000000 & 0.012971501 & 0.006485750 & 0.000000000 & 0.000037600 & 0.000000000 & ...         & 0.008661615 & 0.000358154 & 0.000694603 & 0.000152549 & 0.000186328 & 0.000065200 & 0.002636144 & 0.000000000 & 0.001820194 & 0.000168366\\\\\n",
       "\t52 & 0.003743815 & 0.000095400 & 0.000187663 & 0.000135220 & 0.000762932 & 0.011825442 & 0.006920881 & 0.000000000 & 0.000000000 & 0.000000000 & ...         & 0.011825442 & 0.000099700 & 0.000773831 & 0.000272727 & 0.000429803 & 0.000000000 & 0.001841935 & 0.000000000 & 0.001193443 & 0.000165247\\\\\n",
       "\t53 & 0.002465422 & 0.000000000 & 0.000130802 & 0.000355857 & 0.000405808 & 0.007758963 & 0.006381632 & 0.000000000 & 0.000000000 & 0.000000000 & ...         & 0.008172162 & 0.000113055 & 0.000505021 & 0.000176378 & 0.000495839 & 0.000927403 & 0.001101865 & 0.000000000 & 0.000707030 & 0.000082800\\\\\n",
       "\t54 & 0.003096777 & 0.000000000 & 0.000187929 & 0.000638955 & 0.000000000 & 0.010074325 & 0.007173546 & 0.000292918 & 0.000000000 & 0.000642875 & ...         & 0.009172731 & 0.000188864 & 0.000580156 & 0.000213929 & 0.000249739 & 0.000000000 & 0.001920786 & 0.000034100 & 0.001015272 & 0.000121553\\\\\n",
       "\t55 & 0.004164029 & 0.000084800 & 0.000098200 & 0.000340297 & 0.000000000 & 0.009024862 & 0.005163060 & 0.000000000 & 0.000070400 & 0.000000000 & ...         & 0.008269292 & 0.000344584 & 0.000533096 & 0.000229586 & 0.000436551 & 0.001658056 & 0.001968679 & 0.000045800 & 0.001292864 & 0.000128311\\\\\n",
       "\\end{tabular}\n"
      ],
      "text/markdown": [
       "\n",
       "| <!--/--> | X105.07_2.767 | X119.049_2.765 | X128.018_0.344 | X136.062_0.301 | X136.097_0.551 | X137.046_0.31 | X137.046_0.42 | X203.007_0.309 | X249.112_2.768 | X251.037_0.323 | ... | X580.362_2.984 | X599.241_2.765 | X604.362_2.948 | X620.356_2.913 | X682.364_3.313 | X764.524_3.729 | X790.38_2.768 | X792.329_2.764 | X795.335_2.768 | X811.309_2.773 |\n",
       "|---|---|---|---|---|---|---|---|---|---|---|---|---|---|---|---|---|---|---|---|---|---|\n",
       "| 16 | 0.003203513 | 0.000128479 | 0.000138911 | 0.000000000 | 0.000048700 | 0.008895191 | 0.011818785 | 0.000000000 | 0.000051500 | 0.000023800 | ...         | 0.007837721 | 0.000221365 | 0.000534956 | 0.000413657 | 0.000190736 | 0.000184619 | 0.001623528 | 0.000000000 | 0.000945503 | 0.000217402 |\n",
       "| 17 | 0.003154399 | 0.000108881 | 0.000054600 | 0.000140447 | 0.000157467 | 0.007203662 | 0.006196939 | 0.000000000 | 0.000083200 | 0.000000000 | ...         | 0.005704764 | 0.000268459 | 0.000342286 | 0.000076900 | 0.000165649 | 0.000378080 | 0.001671160 | 0.000073800 | 0.001031332 | 0.000176385 |\n",
       "| 18 | 0.003181185 | 0.000127449 | 0.000063000 | 0.000043700 | 0.000080800 | 0.006556007 | 0.007717831 | 0.000100024 | 0.000078900 | 0.000213059 | ...         | 0.006417694 | 0.000318118 | 0.000542185 | 0.000184548 | 0.000051700 | 0.001618255 | 0.002251726 | 0.000094400 | 0.001103733 | 0.000096100 |\n",
       "| 19 | 0.004219694 | 0.000194733 | 0.000115753 | 0.000314353 | 0.000000000 | 0.009175710 | 0.008382747 | 0.000000000 | 0.000107251 | 0.000000000 | ...         | 0.006145460 | 0.000399313 | 0.000404977 | 0.000228200 | 0.000177511 | 0.000082300 | 0.002483672 | 0.000069700 | 0.001435829 | 0.000237145 |\n",
       "| 20 | 0.004127403 | 0.000132620 | 0.000103152 | 0.000167028 | 0.000251822 | 0.006437517 | 0.011950989 | 0.000000000 | 0.000077800 | 0.000000000 | ...         | 0.008716830 | 0.000388099 | 0.000588309 | 0.000174824 | 0.000254230 | 0.000180185 | 0.002624289 | 0.000105303 | 0.001475393 | 0.000225354 |\n",
       "| 21 | 0.003922505 | 0.000144515 | 0.000000000 | 0.000265460 | 0.000000000 | 0.008383980 | 0.006287985 | 0.000000000 | 0.000098400 | 0.000000000 | ...         | 0.009491864 | 0.000314399 | 0.000619816 | 0.000298514 | 0.000245309 | 0.000329371 | 0.001928315 | 0.000075700 | 0.001254603 | 0.000139494 |\n",
       "| 22 | 0.005424795 | 0.000169238 | 0.000258005 | 0.000000000 | 0.000000000 | 0.013286151 | 0.006482171 | 0.000000000 | 0.000101462 | 0.000000000 | ...         | 0.011906966 | 0.000407544 | 0.000588452 | 0.000125678 | 0.000156795 | 0.000000000 | 0.002790552 | 0.000104305 | 0.001986027 | 0.000150506 |\n",
       "| 23 | 0.003141117 | 0.000100816 | 0.000053100 | 0.000292405 | 0.000000000 | 0.009675311 | 0.008801845 | 0.000000000 | 0.000028700 | 0.000000000 | ...         | 0.008768250 | 0.000234392 | 0.000853309 | 0.000352746 | 0.000170060 | 0.000126879 | 0.001471454 | 0.000029700 | 0.000950734 | 0.000175991 |\n",
       "| 24 | 0.003303506 | 0.000089100 | 0.000000000 | 0.000423420 | 0.000000000 | 0.013204058 | 0.012157699 | 0.000000000 | 0.000000000 | 0.000000000 | ...         | 0.012556312 | 0.000058000 | 0.001081238 | 0.000523180 | 0.000225384 | 0.000000000 | 0.000966637 | 0.000000000 | 0.000627816 | 0.000095800 |\n",
       "| 25 | 0.001476878 | 0.000000000 | 0.000097400 | 0.000168995 | 0.000000000 | 0.011418453 | 0.013469672 | 0.000228317 | 0.000000000 | 0.000574341 | ...         | 0.008956990 | 0.000000000 | 0.000793138 | 0.000323081 | 0.000044300 | 0.000581179 | 0.000632459 | 0.000000000 | 0.000298204 | 0.000034300 |\n",
       "| 31 | 0.004555668 | 0.000178565 | 0.000102290 | 0.000310544 | 0.000112133 | 0.007369463 | 0.005527097 | 0.000000000 | 0.000104473 | 0.000000000 | ...         | 0.007771433 | 0.000455567 | 0.000502463 | 0.000197796 | 0.000178798 | 0.000924533 | 0.003279411 | 0.000152498 | 0.001828967 | 0.000193993 |\n",
       "| 32 | 0.006985148 | 0.000275656 | 0.000245395 | 0.000000000 | 0.000000000 | 0.008119101 | 0.006214060 | 0.000000000 | 0.000260245 | 0.000000000 | ...         | 0.009434486 | 0.000816446 | 0.000458117 | 0.000087800 | 0.000187402 | 0.000300403 | 0.004299948 | 0.000336044 | 0.002893847 | 0.000239338 |\n",
       "| 33 | 0.005428003 | 0.000203074 | 0.000131773 | 0.000494135 | 0.000112648 | 0.009246323 | 0.007112556 | 0.000000000 | 0.000190790 | 0.000000000 | ...         | 0.012989773 | 0.000587722 | 0.000640130 | 0.000102297 | 0.000147922 | 0.000228459 | 0.003634891 | 0.000158965 | 0.001946594 | 0.000198602 |\n",
       "| 34 | 0.006490479 | 0.000272717 | 0.000063600 | 0.000453109 | 0.000165676 | 0.010572542 | 0.006408838 | 0.000000000 | 0.000194342 | 0.000000000 | ...         | 0.009429564 | 0.000653130 | 0.000644966 | 0.000177403 | 0.000116276 | 0.000165672 | 0.003645282 | 0.000184832 | 0.002490058 | 0.000278129 |\n",
       "| 35 | 0.005356038 | 0.000228270 | 0.000143746 | 0.000220123 | 0.000199201 | 0.009078675 | 0.004216456 | 0.000000000 | 0.000139321 | 0.000000000 | ...         | 0.010256244 | 0.000448236 | 0.000744527 | 0.000275672 | 0.000071300 | 0.000539402 | 0.002955318 | 0.000126904 | 0.001903103 | 0.000202461 |\n",
       "| 36 | 0.006112067 | 0.000179692 | 0.000071500 | 0.001003474 | 0.000000000 | 0.012041684 | 0.006340129 | 0.000000000 | 0.000128355 | 0.000606645 | ...         | 0.012360971 | 0.000538227 | 0.000675064 | 0.000100217 | 0.000175547 | 0.000000000 | 0.003352514 | 0.000191569 | 0.002490439 | 0.000188530 |\n",
       "| 37 | 0.004958712 | 0.000146298 | 0.000068400 | 0.000398120 | 0.000367864 | 0.009581240 | 0.004706574 | 0.000000000 | 0.000039800 | 0.000000000 | ...         | 0.010085516 | 0.000327831 | 0.000621940 | 0.000076000 | 0.000225882 | 0.000176739 | 0.003042464 | 0.000050400 | 0.001870023 | 0.000186748 |\n",
       "| 38 | 0.004629602 | 0.000050500 | 0.000000000 | 0.001140173 | 0.000514742 | 0.013155838 | 0.007016447 | 0.000000000 | 0.000000000 | 0.000000000 | ...         | 0.013281132 | 0.000163835 | 0.000594132 | 0.000125921 | 0.000321222 | 0.000000000 | 0.002142522 | 0.000000000 | 0.001415819 | 0.000172528 |\n",
       "| 39 | 0.002419561 | 0.000000000 | 0.000083900 | 0.000888621 | 0.000000000 | 0.009803809 | 0.007582256 | 0.000000000 | 0.000000000 | 0.000000000 | ...         | 0.009127684 | 0.000043100 | 0.000531241 | 0.000290154 | 0.000292539 | 0.000109047 | 0.000999699 | 0.000000000 | 0.000502264 | 0.000042800 |\n",
       "| 40 | 0.004319682 | 0.000101475 | 0.000190248 | 0.000755830 | 0.000206883 | 0.013009434 | 0.008795111 | 0.000000000 | 0.000038200 | 0.000000000 | ...         | 0.008062185 | 0.000304626 | 0.000613825 | 0.000222833 | 0.000231627 | 0.000746668 | 0.002221682 | 0.000000000 | 0.001589533 | 0.000195319 |\n",
       "| 46 | 0.005910135 | 0.000251804 | 0.000140118 | 0.000150066 | 0.000000000 | 0.008091728 | 0.005473816 | 0.000000000 | 0.000169772 | 0.000000000 | ...         | 0.010669975 | 0.000515649 | 0.000785374 | 0.000338515 | 0.000177561 | 0.000213886 | 0.003153394 | 0.000109009 | 0.002058631 | 0.000250226 |\n",
       "| 47 | 0.006688525 | 0.000000000 | 0.000296573 | 0.000071900 | 0.000000000 | 0.010522712 | 0.005793882 | 0.000235633 | 0.000173350 | 0.000788138 | ...         | 0.009883681 | 0.000613470 | 0.000424644 | 0.000040200 | 0.000257677 | 0.000039900 | 0.004473218 | 0.000227324 | 0.002730793 | 0.000196587 |\n",
       "| 48 | 0.006605265 | 0.000277789 | 0.000113672 | 0.000112758 | 0.000129090 | 0.008511482 | 0.007491877 | 0.000000000 | 0.000159697 | 0.000000000 | ...         | 0.009974393 | 0.000633928 | 0.000554133 | 0.000195587 | 0.000232874 | 0.000149519 | 0.004371001 | 0.000214676 | 0.002726334 | 0.000259807 |\n",
       "| 49 | 0.006253152 | 0.000000000 | 0.000100856 | 0.000149324 | 0.000069700 | 0.009754918 | 0.005877963 | 0.000084200 | 0.000174888 | 0.000000000 | ...         | 0.009796605 | 0.000633653 | 0.000446058 | 0.000050900 | 0.000175525 | 0.000105094 | 0.003184939 | 0.000202266 | 0.002155253 | 0.000183599 |\n",
       "| 50 | 0.005545005 | 0.000218287 | 0.000062500 | 0.000319101 | 0.000390272 | 0.009443837 | 0.005891568 | 0.000000000 | 0.000083800 | 0.000000000 | ...         | 0.010830088 | 0.000390814 | 0.000610817 | 0.000242021 | 0.000159362 | 0.000000000 | 0.002924124 | 0.000102198 | 0.002131361 | 0.000225664 |\n",
       "| 51 | 0.004812008 | 0.000137791 | 0.000207329 | 0.000686234 | 0.000000000 | 0.012971501 | 0.006485750 | 0.000000000 | 0.000037600 | 0.000000000 | ...         | 0.008661615 | 0.000358154 | 0.000694603 | 0.000152549 | 0.000186328 | 0.000065200 | 0.002636144 | 0.000000000 | 0.001820194 | 0.000168366 |\n",
       "| 52 | 0.003743815 | 0.000095400 | 0.000187663 | 0.000135220 | 0.000762932 | 0.011825442 | 0.006920881 | 0.000000000 | 0.000000000 | 0.000000000 | ...         | 0.011825442 | 0.000099700 | 0.000773831 | 0.000272727 | 0.000429803 | 0.000000000 | 0.001841935 | 0.000000000 | 0.001193443 | 0.000165247 |\n",
       "| 53 | 0.002465422 | 0.000000000 | 0.000130802 | 0.000355857 | 0.000405808 | 0.007758963 | 0.006381632 | 0.000000000 | 0.000000000 | 0.000000000 | ...         | 0.008172162 | 0.000113055 | 0.000505021 | 0.000176378 | 0.000495839 | 0.000927403 | 0.001101865 | 0.000000000 | 0.000707030 | 0.000082800 |\n",
       "| 54 | 0.003096777 | 0.000000000 | 0.000187929 | 0.000638955 | 0.000000000 | 0.010074325 | 0.007173546 | 0.000292918 | 0.000000000 | 0.000642875 | ...         | 0.009172731 | 0.000188864 | 0.000580156 | 0.000213929 | 0.000249739 | 0.000000000 | 0.001920786 | 0.000034100 | 0.001015272 | 0.000121553 |\n",
       "| 55 | 0.004164029 | 0.000084800 | 0.000098200 | 0.000340297 | 0.000000000 | 0.009024862 | 0.005163060 | 0.000000000 | 0.000070400 | 0.000000000 | ...         | 0.008269292 | 0.000344584 | 0.000533096 | 0.000229586 | 0.000436551 | 0.001658056 | 0.001968679 | 0.000045800 | 0.001292864 | 0.000128311 |\n",
       "\n"
      ],
      "text/plain": [
       "   X105.07_2.767 X119.049_2.765 X128.018_0.344 X136.062_0.301 X136.097_0.551\n",
       "16 0.003203513   0.000128479    0.000138911    0.000000000    0.000048700   \n",
       "17 0.003154399   0.000108881    0.000054600    0.000140447    0.000157467   \n",
       "18 0.003181185   0.000127449    0.000063000    0.000043700    0.000080800   \n",
       "19 0.004219694   0.000194733    0.000115753    0.000314353    0.000000000   \n",
       "20 0.004127403   0.000132620    0.000103152    0.000167028    0.000251822   \n",
       "21 0.003922505   0.000144515    0.000000000    0.000265460    0.000000000   \n",
       "22 0.005424795   0.000169238    0.000258005    0.000000000    0.000000000   \n",
       "23 0.003141117   0.000100816    0.000053100    0.000292405    0.000000000   \n",
       "24 0.003303506   0.000089100    0.000000000    0.000423420    0.000000000   \n",
       "25 0.001476878   0.000000000    0.000097400    0.000168995    0.000000000   \n",
       "31 0.004555668   0.000178565    0.000102290    0.000310544    0.000112133   \n",
       "32 0.006985148   0.000275656    0.000245395    0.000000000    0.000000000   \n",
       "33 0.005428003   0.000203074    0.000131773    0.000494135    0.000112648   \n",
       "34 0.006490479   0.000272717    0.000063600    0.000453109    0.000165676   \n",
       "35 0.005356038   0.000228270    0.000143746    0.000220123    0.000199201   \n",
       "36 0.006112067   0.000179692    0.000071500    0.001003474    0.000000000   \n",
       "37 0.004958712   0.000146298    0.000068400    0.000398120    0.000367864   \n",
       "38 0.004629602   0.000050500    0.000000000    0.001140173    0.000514742   \n",
       "39 0.002419561   0.000000000    0.000083900    0.000888621    0.000000000   \n",
       "40 0.004319682   0.000101475    0.000190248    0.000755830    0.000206883   \n",
       "46 0.005910135   0.000251804    0.000140118    0.000150066    0.000000000   \n",
       "47 0.006688525   0.000000000    0.000296573    0.000071900    0.000000000   \n",
       "48 0.006605265   0.000277789    0.000113672    0.000112758    0.000129090   \n",
       "49 0.006253152   0.000000000    0.000100856    0.000149324    0.000069700   \n",
       "50 0.005545005   0.000218287    0.000062500    0.000319101    0.000390272   \n",
       "51 0.004812008   0.000137791    0.000207329    0.000686234    0.000000000   \n",
       "52 0.003743815   0.000095400    0.000187663    0.000135220    0.000762932   \n",
       "53 0.002465422   0.000000000    0.000130802    0.000355857    0.000405808   \n",
       "54 0.003096777   0.000000000    0.000187929    0.000638955    0.000000000   \n",
       "55 0.004164029   0.000084800    0.000098200    0.000340297    0.000000000   \n",
       "   X137.046_0.31 X137.046_0.42 X203.007_0.309 X249.112_2.768 X251.037_0.323 ...\n",
       "16 0.008895191   0.011818785   0.000000000    0.000051500    0.000023800    ...\n",
       "17 0.007203662   0.006196939   0.000000000    0.000083200    0.000000000    ...\n",
       "18 0.006556007   0.007717831   0.000100024    0.000078900    0.000213059    ...\n",
       "19 0.009175710   0.008382747   0.000000000    0.000107251    0.000000000    ...\n",
       "20 0.006437517   0.011950989   0.000000000    0.000077800    0.000000000    ...\n",
       "21 0.008383980   0.006287985   0.000000000    0.000098400    0.000000000    ...\n",
       "22 0.013286151   0.006482171   0.000000000    0.000101462    0.000000000    ...\n",
       "23 0.009675311   0.008801845   0.000000000    0.000028700    0.000000000    ...\n",
       "24 0.013204058   0.012157699   0.000000000    0.000000000    0.000000000    ...\n",
       "25 0.011418453   0.013469672   0.000228317    0.000000000    0.000574341    ...\n",
       "31 0.007369463   0.005527097   0.000000000    0.000104473    0.000000000    ...\n",
       "32 0.008119101   0.006214060   0.000000000    0.000260245    0.000000000    ...\n",
       "33 0.009246323   0.007112556   0.000000000    0.000190790    0.000000000    ...\n",
       "34 0.010572542   0.006408838   0.000000000    0.000194342    0.000000000    ...\n",
       "35 0.009078675   0.004216456   0.000000000    0.000139321    0.000000000    ...\n",
       "36 0.012041684   0.006340129   0.000000000    0.000128355    0.000606645    ...\n",
       "37 0.009581240   0.004706574   0.000000000    0.000039800    0.000000000    ...\n",
       "38 0.013155838   0.007016447   0.000000000    0.000000000    0.000000000    ...\n",
       "39 0.009803809   0.007582256   0.000000000    0.000000000    0.000000000    ...\n",
       "40 0.013009434   0.008795111   0.000000000    0.000038200    0.000000000    ...\n",
       "46 0.008091728   0.005473816   0.000000000    0.000169772    0.000000000    ...\n",
       "47 0.010522712   0.005793882   0.000235633    0.000173350    0.000788138    ...\n",
       "48 0.008511482   0.007491877   0.000000000    0.000159697    0.000000000    ...\n",
       "49 0.009754918   0.005877963   0.000084200    0.000174888    0.000000000    ...\n",
       "50 0.009443837   0.005891568   0.000000000    0.000083800    0.000000000    ...\n",
       "51 0.012971501   0.006485750   0.000000000    0.000037600    0.000000000    ...\n",
       "52 0.011825442   0.006920881   0.000000000    0.000000000    0.000000000    ...\n",
       "53 0.007758963   0.006381632   0.000000000    0.000000000    0.000000000    ...\n",
       "54 0.010074325   0.007173546   0.000292918    0.000000000    0.000642875    ...\n",
       "55 0.009024862   0.005163060   0.000000000    0.000070400    0.000000000    ...\n",
       "   X580.362_2.984 X599.241_2.765 X604.362_2.948 X620.356_2.913 X682.364_3.313\n",
       "16 0.007837721    0.000221365    0.000534956    0.000413657    0.000190736   \n",
       "17 0.005704764    0.000268459    0.000342286    0.000076900    0.000165649   \n",
       "18 0.006417694    0.000318118    0.000542185    0.000184548    0.000051700   \n",
       "19 0.006145460    0.000399313    0.000404977    0.000228200    0.000177511   \n",
       "20 0.008716830    0.000388099    0.000588309    0.000174824    0.000254230   \n",
       "21 0.009491864    0.000314399    0.000619816    0.000298514    0.000245309   \n",
       "22 0.011906966    0.000407544    0.000588452    0.000125678    0.000156795   \n",
       "23 0.008768250    0.000234392    0.000853309    0.000352746    0.000170060   \n",
       "24 0.012556312    0.000058000    0.001081238    0.000523180    0.000225384   \n",
       "25 0.008956990    0.000000000    0.000793138    0.000323081    0.000044300   \n",
       "31 0.007771433    0.000455567    0.000502463    0.000197796    0.000178798   \n",
       "32 0.009434486    0.000816446    0.000458117    0.000087800    0.000187402   \n",
       "33 0.012989773    0.000587722    0.000640130    0.000102297    0.000147922   \n",
       "34 0.009429564    0.000653130    0.000644966    0.000177403    0.000116276   \n",
       "35 0.010256244    0.000448236    0.000744527    0.000275672    0.000071300   \n",
       "36 0.012360971    0.000538227    0.000675064    0.000100217    0.000175547   \n",
       "37 0.010085516    0.000327831    0.000621940    0.000076000    0.000225882   \n",
       "38 0.013281132    0.000163835    0.000594132    0.000125921    0.000321222   \n",
       "39 0.009127684    0.000043100    0.000531241    0.000290154    0.000292539   \n",
       "40 0.008062185    0.000304626    0.000613825    0.000222833    0.000231627   \n",
       "46 0.010669975    0.000515649    0.000785374    0.000338515    0.000177561   \n",
       "47 0.009883681    0.000613470    0.000424644    0.000040200    0.000257677   \n",
       "48 0.009974393    0.000633928    0.000554133    0.000195587    0.000232874   \n",
       "49 0.009796605    0.000633653    0.000446058    0.000050900    0.000175525   \n",
       "50 0.010830088    0.000390814    0.000610817    0.000242021    0.000159362   \n",
       "51 0.008661615    0.000358154    0.000694603    0.000152549    0.000186328   \n",
       "52 0.011825442    0.000099700    0.000773831    0.000272727    0.000429803   \n",
       "53 0.008172162    0.000113055    0.000505021    0.000176378    0.000495839   \n",
       "54 0.009172731    0.000188864    0.000580156    0.000213929    0.000249739   \n",
       "55 0.008269292    0.000344584    0.000533096    0.000229586    0.000436551   \n",
       "   X764.524_3.729 X790.38_2.768 X792.329_2.764 X795.335_2.768 X811.309_2.773\n",
       "16 0.000184619    0.001623528   0.000000000    0.000945503    0.000217402   \n",
       "17 0.000378080    0.001671160   0.000073800    0.001031332    0.000176385   \n",
       "18 0.001618255    0.002251726   0.000094400    0.001103733    0.000096100   \n",
       "19 0.000082300    0.002483672   0.000069700    0.001435829    0.000237145   \n",
       "20 0.000180185    0.002624289   0.000105303    0.001475393    0.000225354   \n",
       "21 0.000329371    0.001928315   0.000075700    0.001254603    0.000139494   \n",
       "22 0.000000000    0.002790552   0.000104305    0.001986027    0.000150506   \n",
       "23 0.000126879    0.001471454   0.000029700    0.000950734    0.000175991   \n",
       "24 0.000000000    0.000966637   0.000000000    0.000627816    0.000095800   \n",
       "25 0.000581179    0.000632459   0.000000000    0.000298204    0.000034300   \n",
       "31 0.000924533    0.003279411   0.000152498    0.001828967    0.000193993   \n",
       "32 0.000300403    0.004299948   0.000336044    0.002893847    0.000239338   \n",
       "33 0.000228459    0.003634891   0.000158965    0.001946594    0.000198602   \n",
       "34 0.000165672    0.003645282   0.000184832    0.002490058    0.000278129   \n",
       "35 0.000539402    0.002955318   0.000126904    0.001903103    0.000202461   \n",
       "36 0.000000000    0.003352514   0.000191569    0.002490439    0.000188530   \n",
       "37 0.000176739    0.003042464   0.000050400    0.001870023    0.000186748   \n",
       "38 0.000000000    0.002142522   0.000000000    0.001415819    0.000172528   \n",
       "39 0.000109047    0.000999699   0.000000000    0.000502264    0.000042800   \n",
       "40 0.000746668    0.002221682   0.000000000    0.001589533    0.000195319   \n",
       "46 0.000213886    0.003153394   0.000109009    0.002058631    0.000250226   \n",
       "47 0.000039900    0.004473218   0.000227324    0.002730793    0.000196587   \n",
       "48 0.000149519    0.004371001   0.000214676    0.002726334    0.000259807   \n",
       "49 0.000105094    0.003184939   0.000202266    0.002155253    0.000183599   \n",
       "50 0.000000000    0.002924124   0.000102198    0.002131361    0.000225664   \n",
       "51 0.000065200    0.002636144   0.000000000    0.001820194    0.000168366   \n",
       "52 0.000000000    0.001841935   0.000000000    0.001193443    0.000165247   \n",
       "53 0.000927403    0.001101865   0.000000000    0.000707030    0.000082800   \n",
       "54 0.000000000    0.001920786   0.000034100    0.001015272    0.000121553   \n",
       "55 0.001658056    0.001968679   0.000045800    0.001292864    0.000128311   "
      ]
     },
     "metadata": {},
     "output_type": "display_data"
    },
    {
     "data": {
      "text/html": [
       "<table>\n",
       "<thead><tr><th></th><th scope=col>filename</th><th scope=col>MouseID</th><th scope=col>Treatmentgroup</th><th scope=col>DPI</th><th scope=col>organ</th><th scope=col>well_position</th><th scope=col>plate</th><th scope=col>X105.07_2.767</th><th scope=col>X119.049_2.765</th><th scope=col>X128.018_0.344</th><th scope=col>...</th><th scope=col>X580.362_2.984</th><th scope=col>X599.241_2.765</th><th scope=col>X604.362_2.948</th><th scope=col>X620.356_2.913</th><th scope=col>X682.364_3.313</th><th scope=col>X764.524_3.729</th><th scope=col>X790.38_2.768</th><th scope=col>X792.329_2.764</th><th scope=col>X795.335_2.768</th><th scope=col>X811.309_2.773</th></tr></thead>\n",
       "<tbody>\n",
       "\t<tr><th scope=row>16</th><td>X581_Group3E_142dpi_LV_bottom_176_G_B4_P132.mzXML</td><td>581                                              </td><td>Group3E                                          </td><td>142dpi                                           </td><td>LV_bottom                                        </td><td>B4                                               </td><td>P132                                             </td><td>0.003203513                                      </td><td>0.000128479                                      </td><td>0.000138911                                      </td><td>...                                              </td><td>0.007837721                                      </td><td>0.000221365                                      </td><td>0.000534956                                      </td><td>0.000413657                                      </td><td>0.000190736                                      </td><td>0.000184619                                      </td><td>0.001623528                                      </td><td>0.000000000                                      </td><td>0.000945503                                      </td><td>0.000217402                                      </td></tr>\n",
       "\t<tr><th scope=row>17</th><td>X582_Group3E_142dpi_LV_bottom_177_G_B5_P132.mzXML</td><td>582                                              </td><td>Group3E                                          </td><td>142dpi                                           </td><td>LV_bottom                                        </td><td>B5                                               </td><td>P132                                             </td><td>0.003154399                                      </td><td>0.000108881                                      </td><td>0.000054600                                      </td><td>...                                              </td><td>0.005704764                                      </td><td>0.000268459                                      </td><td>0.000342286                                      </td><td>0.000076900                                      </td><td>0.000165649                                      </td><td>0.000378080                                      </td><td>0.001671160                                      </td><td>0.000073800                                      </td><td>0.001031332                                      </td><td>0.000176385                                      </td></tr>\n",
       "\t<tr><th scope=row>18</th><td>X583_Group3E_142dpi_LV_bottom_178_G_B6_P132.mzXML</td><td>583                                              </td><td>Group3E                                          </td><td>142dpi                                           </td><td>LV_bottom                                        </td><td>B6                                               </td><td>P132                                             </td><td>0.003181185                                      </td><td>0.000127449                                      </td><td>0.000063000                                      </td><td>...                                              </td><td>0.006417694                                      </td><td>0.000318118                                      </td><td>0.000542185                                      </td><td>0.000184548                                      </td><td>0.000051700                                      </td><td>0.001618255                                      </td><td>0.002251726                                      </td><td>0.000094400                                      </td><td>0.001103733                                      </td><td>0.000096100                                      </td></tr>\n",
       "\t<tr><th scope=row>19</th><td>X584_Group3E_142dpi_LV_bottom_179_G_B7_P132.mzXML</td><td>584                                              </td><td>Group3E                                          </td><td>142dpi                                           </td><td>LV_bottom                                        </td><td>B7                                               </td><td>P132                                             </td><td>0.004219694                                      </td><td>0.000194733                                      </td><td>0.000115753                                      </td><td>...                                              </td><td>0.006145460                                      </td><td>0.000399313                                      </td><td>0.000404977                                      </td><td>0.000228200                                      </td><td>0.000177511                                      </td><td>0.000082300                                      </td><td>0.002483672                                      </td><td>0.000069700                                      </td><td>0.001435829                                      </td><td>0.000237145                                      </td></tr>\n",
       "\t<tr><th scope=row>20</th><td>X585_Group3E_142dpi_LV_bottom_180_G_B8_P132.mzXML</td><td>585                                              </td><td>Group3E                                          </td><td>142dpi                                           </td><td>LV_bottom                                        </td><td>B8                                               </td><td>P132                                             </td><td>0.004127403                                      </td><td>0.000132620                                      </td><td>0.000103152                                      </td><td>...                                              </td><td>0.008716830                                      </td><td>0.000388099                                      </td><td>0.000588309                                      </td><td>0.000174824                                      </td><td>0.000254230                                      </td><td>0.000180185                                      </td><td>0.002624289                                      </td><td>0.000105303                                      </td><td>0.001475393                                      </td><td>0.000225354                                      </td></tr>\n",
       "\t<tr><th scope=row>21</th><td>X611_Group9_142dpi_LV_bottom_181_G_B9_P132.mzXML </td><td>611                                              </td><td>Group9                                           </td><td>142dpi                                           </td><td>LV_bottom                                        </td><td>B9                                               </td><td>P132                                             </td><td>0.003922505                                      </td><td>0.000144515                                      </td><td>0.000000000                                      </td><td>...                                              </td><td>0.009491864                                      </td><td>0.000314399                                      </td><td>0.000619816                                      </td><td>0.000298514                                      </td><td>0.000245309                                      </td><td>0.000329371                                      </td><td>0.001928315                                      </td><td>0.000075700                                      </td><td>0.001254603                                      </td><td>0.000139494                                      </td></tr>\n",
       "</tbody>\n",
       "</table>\n"
      ],
      "text/latex": [
       "\\begin{tabular}{r|llllllllllllllllllllllllllllllllllllllllllllllllllllllllllll}\n",
       "  & filename & MouseID & Treatmentgroup & DPI & organ & well\\_position & plate & X105.07\\_2.767 & X119.049\\_2.765 & X128.018\\_0.344 & ... & X580.362\\_2.984 & X599.241\\_2.765 & X604.362\\_2.948 & X620.356\\_2.913 & X682.364\\_3.313 & X764.524\\_3.729 & X790.38\\_2.768 & X792.329\\_2.764 & X795.335\\_2.768 & X811.309\\_2.773\\\\\n",
       "\\hline\n",
       "\t16 & X581\\_Group3E\\_142dpi\\_LV\\_bottom\\_176\\_G\\_B4\\_P132.mzXML & 581                                                               & Group3E                                                           & 142dpi                                                            & LV\\_bottom                                                       & B4                                                                & P132                                                              & 0.003203513                                                       & 0.000128479                                                       & 0.000138911                                                       & ...                                                               & 0.007837721                                                       & 0.000221365                                                       & 0.000534956                                                       & 0.000413657                                                       & 0.000190736                                                       & 0.000184619                                                       & 0.001623528                                                       & 0.000000000                                                       & 0.000945503                                                       & 0.000217402                                                      \\\\\n",
       "\t17 & X582\\_Group3E\\_142dpi\\_LV\\_bottom\\_177\\_G\\_B5\\_P132.mzXML & 582                                                               & Group3E                                                           & 142dpi                                                            & LV\\_bottom                                                       & B5                                                                & P132                                                              & 0.003154399                                                       & 0.000108881                                                       & 0.000054600                                                       & ...                                                               & 0.005704764                                                       & 0.000268459                                                       & 0.000342286                                                       & 0.000076900                                                       & 0.000165649                                                       & 0.000378080                                                       & 0.001671160                                                       & 0.000073800                                                       & 0.001031332                                                       & 0.000176385                                                      \\\\\n",
       "\t18 & X583\\_Group3E\\_142dpi\\_LV\\_bottom\\_178\\_G\\_B6\\_P132.mzXML & 583                                                               & Group3E                                                           & 142dpi                                                            & LV\\_bottom                                                       & B6                                                                & P132                                                              & 0.003181185                                                       & 0.000127449                                                       & 0.000063000                                                       & ...                                                               & 0.006417694                                                       & 0.000318118                                                       & 0.000542185                                                       & 0.000184548                                                       & 0.000051700                                                       & 0.001618255                                                       & 0.002251726                                                       & 0.000094400                                                       & 0.001103733                                                       & 0.000096100                                                      \\\\\n",
       "\t19 & X584\\_Group3E\\_142dpi\\_LV\\_bottom\\_179\\_G\\_B7\\_P132.mzXML & 584                                                               & Group3E                                                           & 142dpi                                                            & LV\\_bottom                                                       & B7                                                                & P132                                                              & 0.004219694                                                       & 0.000194733                                                       & 0.000115753                                                       & ...                                                               & 0.006145460                                                       & 0.000399313                                                       & 0.000404977                                                       & 0.000228200                                                       & 0.000177511                                                       & 0.000082300                                                       & 0.002483672                                                       & 0.000069700                                                       & 0.001435829                                                       & 0.000237145                                                      \\\\\n",
       "\t20 & X585\\_Group3E\\_142dpi\\_LV\\_bottom\\_180\\_G\\_B8\\_P132.mzXML & 585                                                               & Group3E                                                           & 142dpi                                                            & LV\\_bottom                                                       & B8                                                                & P132                                                              & 0.004127403                                                       & 0.000132620                                                       & 0.000103152                                                       & ...                                                               & 0.008716830                                                       & 0.000388099                                                       & 0.000588309                                                       & 0.000174824                                                       & 0.000254230                                                       & 0.000180185                                                       & 0.002624289                                                       & 0.000105303                                                       & 0.001475393                                                       & 0.000225354                                                      \\\\\n",
       "\t21 & X611\\_Group9\\_142dpi\\_LV\\_bottom\\_181\\_G\\_B9\\_P132.mzXML  & 611                                                               & Group9                                                            & 142dpi                                                            & LV\\_bottom                                                       & B9                                                                & P132                                                              & 0.003922505                                                       & 0.000144515                                                       & 0.000000000                                                       & ...                                                               & 0.009491864                                                       & 0.000314399                                                       & 0.000619816                                                       & 0.000298514                                                       & 0.000245309                                                       & 0.000329371                                                       & 0.001928315                                                       & 0.000075700                                                       & 0.001254603                                                       & 0.000139494                                                      \\\\\n",
       "\\end{tabular}\n"
      ],
      "text/markdown": [
       "\n",
       "| <!--/--> | filename | MouseID | Treatmentgroup | DPI | organ | well_position | plate | X105.07_2.767 | X119.049_2.765 | X128.018_0.344 | ... | X580.362_2.984 | X599.241_2.765 | X604.362_2.948 | X620.356_2.913 | X682.364_3.313 | X764.524_3.729 | X790.38_2.768 | X792.329_2.764 | X795.335_2.768 | X811.309_2.773 |\n",
       "|---|---|---|---|---|---|---|---|---|---|---|---|---|---|---|---|---|---|---|---|---|---|\n",
       "| 16 | X581_Group3E_142dpi_LV_bottom_176_G_B4_P132.mzXML | 581                                               | Group3E                                           | 142dpi                                            | LV_bottom                                         | B4                                                | P132                                              | 0.003203513                                       | 0.000128479                                       | 0.000138911                                       | ...                                               | 0.007837721                                       | 0.000221365                                       | 0.000534956                                       | 0.000413657                                       | 0.000190736                                       | 0.000184619                                       | 0.001623528                                       | 0.000000000                                       | 0.000945503                                       | 0.000217402                                       |\n",
       "| 17 | X582_Group3E_142dpi_LV_bottom_177_G_B5_P132.mzXML | 582                                               | Group3E                                           | 142dpi                                            | LV_bottom                                         | B5                                                | P132                                              | 0.003154399                                       | 0.000108881                                       | 0.000054600                                       | ...                                               | 0.005704764                                       | 0.000268459                                       | 0.000342286                                       | 0.000076900                                       | 0.000165649                                       | 0.000378080                                       | 0.001671160                                       | 0.000073800                                       | 0.001031332                                       | 0.000176385                                       |\n",
       "| 18 | X583_Group3E_142dpi_LV_bottom_178_G_B6_P132.mzXML | 583                                               | Group3E                                           | 142dpi                                            | LV_bottom                                         | B6                                                | P132                                              | 0.003181185                                       | 0.000127449                                       | 0.000063000                                       | ...                                               | 0.006417694                                       | 0.000318118                                       | 0.000542185                                       | 0.000184548                                       | 0.000051700                                       | 0.001618255                                       | 0.002251726                                       | 0.000094400                                       | 0.001103733                                       | 0.000096100                                       |\n",
       "| 19 | X584_Group3E_142dpi_LV_bottom_179_G_B7_P132.mzXML | 584                                               | Group3E                                           | 142dpi                                            | LV_bottom                                         | B7                                                | P132                                              | 0.004219694                                       | 0.000194733                                       | 0.000115753                                       | ...                                               | 0.006145460                                       | 0.000399313                                       | 0.000404977                                       | 0.000228200                                       | 0.000177511                                       | 0.000082300                                       | 0.002483672                                       | 0.000069700                                       | 0.001435829                                       | 0.000237145                                       |\n",
       "| 20 | X585_Group3E_142dpi_LV_bottom_180_G_B8_P132.mzXML | 585                                               | Group3E                                           | 142dpi                                            | LV_bottom                                         | B8                                                | P132                                              | 0.004127403                                       | 0.000132620                                       | 0.000103152                                       | ...                                               | 0.008716830                                       | 0.000388099                                       | 0.000588309                                       | 0.000174824                                       | 0.000254230                                       | 0.000180185                                       | 0.002624289                                       | 0.000105303                                       | 0.001475393                                       | 0.000225354                                       |\n",
       "| 21 | X611_Group9_142dpi_LV_bottom_181_G_B9_P132.mzXML  | 611                                               | Group9                                            | 142dpi                                            | LV_bottom                                         | B9                                                | P132                                              | 0.003922505                                       | 0.000144515                                       | 0.000000000                                       | ...                                               | 0.009491864                                       | 0.000314399                                       | 0.000619816                                       | 0.000298514                                       | 0.000245309                                       | 0.000329371                                       | 0.001928315                                       | 0.000075700                                       | 0.001254603                                       | 0.000139494                                       |\n",
       "\n"
      ],
      "text/plain": [
       "   filename                                          MouseID Treatmentgroup\n",
       "16 X581_Group3E_142dpi_LV_bottom_176_G_B4_P132.mzXML 581     Group3E       \n",
       "17 X582_Group3E_142dpi_LV_bottom_177_G_B5_P132.mzXML 582     Group3E       \n",
       "18 X583_Group3E_142dpi_LV_bottom_178_G_B6_P132.mzXML 583     Group3E       \n",
       "19 X584_Group3E_142dpi_LV_bottom_179_G_B7_P132.mzXML 584     Group3E       \n",
       "20 X585_Group3E_142dpi_LV_bottom_180_G_B8_P132.mzXML 585     Group3E       \n",
       "21 X611_Group9_142dpi_LV_bottom_181_G_B9_P132.mzXML  611     Group9        \n",
       "   DPI    organ     well_position plate X105.07_2.767 X119.049_2.765\n",
       "16 142dpi LV_bottom B4            P132  0.003203513   0.000128479   \n",
       "17 142dpi LV_bottom B5            P132  0.003154399   0.000108881   \n",
       "18 142dpi LV_bottom B6            P132  0.003181185   0.000127449   \n",
       "19 142dpi LV_bottom B7            P132  0.004219694   0.000194733   \n",
       "20 142dpi LV_bottom B8            P132  0.004127403   0.000132620   \n",
       "21 142dpi LV_bottom B9            P132  0.003922505   0.000144515   \n",
       "   X128.018_0.344 ... X580.362_2.984 X599.241_2.765 X604.362_2.948\n",
       "16 0.000138911    ... 0.007837721    0.000221365    0.000534956   \n",
       "17 0.000054600    ... 0.005704764    0.000268459    0.000342286   \n",
       "18 0.000063000    ... 0.006417694    0.000318118    0.000542185   \n",
       "19 0.000115753    ... 0.006145460    0.000399313    0.000404977   \n",
       "20 0.000103152    ... 0.008716830    0.000388099    0.000588309   \n",
       "21 0.000000000    ... 0.009491864    0.000314399    0.000619816   \n",
       "   X620.356_2.913 X682.364_3.313 X764.524_3.729 X790.38_2.768 X792.329_2.764\n",
       "16 0.000413657    0.000190736    0.000184619    0.001623528   0.000000000   \n",
       "17 0.000076900    0.000165649    0.000378080    0.001671160   0.000073800   \n",
       "18 0.000184548    0.000051700    0.001618255    0.002251726   0.000094400   \n",
       "19 0.000228200    0.000177511    0.000082300    0.002483672   0.000069700   \n",
       "20 0.000174824    0.000254230    0.000180185    0.002624289   0.000105303   \n",
       "21 0.000298514    0.000245309    0.000329371    0.001928315   0.000075700   \n",
       "   X795.335_2.768 X811.309_2.773\n",
       "16 0.000945503    0.000217402   \n",
       "17 0.001031332    0.000176385   \n",
       "18 0.001103733    0.000096100   \n",
       "19 0.001435829    0.000237145   \n",
       "20 0.001475393    0.000225354   \n",
       "21 0.001254603    0.000139494   "
      ]
     },
     "metadata": {},
     "output_type": "display_data"
    },
    {
     "data": {
      "text/html": [
       "<ol class=list-inline>\n",
       "\t<li>30</li>\n",
       "\t<li>62</li>\n",
       "</ol>\n"
      ],
      "text/latex": [
       "\\begin{enumerate*}\n",
       "\\item 30\n",
       "\\item 62\n",
       "\\end{enumerate*}\n"
      ],
      "text/markdown": [
       "1. 30\n",
       "2. 62\n",
       "\n",
       "\n"
      ],
      "text/plain": [
       "[1] 30 62"
      ]
     },
     "metadata": {},
     "output_type": "display_data"
    },
    {
     "data": {
      "text/html": [
       "<ol class=list-inline>\n",
       "\t<li>30</li>\n",
       "\t<li>55</li>\n",
       "</ol>\n"
      ],
      "text/latex": [
       "\\begin{enumerate*}\n",
       "\\item 30\n",
       "\\item 55\n",
       "\\end{enumerate*}\n"
      ],
      "text/markdown": [
       "1. 30\n",
       "2. 55\n",
       "\n",
       "\n"
      ],
      "text/plain": [
       "[1] 30 55"
      ]
     },
     "metadata": {},
     "output_type": "display_data"
    },
    {
     "data": {
      "text/html": [
       "<ol class=list-inline>\n",
       "\t<li>30</li>\n",
       "\t<li>53</li>\n",
       "</ol>\n"
      ],
      "text/latex": [
       "\\begin{enumerate*}\n",
       "\\item 30\n",
       "\\item 53\n",
       "\\end{enumerate*}\n"
      ],
      "text/markdown": [
       "1. 30\n",
       "2. 53\n",
       "\n",
       "\n"
      ],
      "text/plain": [
       "[1] 30 53"
      ]
     },
     "metadata": {},
     "output_type": "display_data"
    },
    {
     "data": {
      "text/html": [
       "<ol class=list-inline>\n",
       "\t<li>30</li>\n",
       "\t<li>60</li>\n",
       "</ol>\n"
      ],
      "text/latex": [
       "\\begin{enumerate*}\n",
       "\\item 30\n",
       "\\item 60\n",
       "\\end{enumerate*}\n"
      ],
      "text/markdown": [
       "1. 30\n",
       "2. 60\n",
       "\n",
       "\n"
      ],
      "text/plain": [
       "[1] 30 60"
      ]
     },
     "metadata": {},
     "output_type": "display_data"
    }
   ],
   "source": [
    "noMeta<-features_pos[,8:62]\n",
    "head(noMeta)\n",
    "not_zero<-which(colSums(noMeta) != 0)\n",
    "head(not_zero)\n",
    "nonzero <- noMeta[, not_zero] # all the non-zero columns\n",
    "nonzero\n",
    "#add back metadata\n",
    "nonzero_wMeta<-cbind(features_pos[,1:7], nonzero)\n",
    "head(nonzero_wMeta)\n",
    "dim(features_pos)\n",
    "dim(noMeta)\n",
    "dim(nonzero)\n",
    "dim(nonzero_wMeta)"
   ]
  },
  {
   "cell_type": "code",
   "execution_count": 5,
   "metadata": {
    "scrolled": true
   },
   "outputs": [
    {
     "name": "stderr",
     "output_type": "stream",
     "text": [
      "Warning message in wilcox.test.default(x = c(0.000128479, 0.000108881, 0.000127449, :\n",
      "\"cannot compute exact p-value with ties\"Warning message in wilcox.test.default(x = c(0.000138911, 5.46e-05, 6.3e-05, 0.000115753, :\n",
      "\"cannot compute exact p-value with ties\"Warning message in wilcox.test.default(x = c(0, 0.000140447, 4.37e-05, 0.000314353, :\n",
      "\"cannot compute exact p-value with ties\"Warning message in wilcox.test.default(x = c(4.87e-05, 0.000157467, 8.08e-05, 0, :\n",
      "\"cannot compute exact p-value with ties\"Warning message in wilcox.test.default(x = c(0, 0, 0.000100024, 0, 0, 0, 0, 0, 0, :\n",
      "\"cannot compute exact p-value with ties\"Warning message in wilcox.test.default(x = c(5.15e-05, 8.32e-05, 7.89e-05, 0.000107251, :\n",
      "\"cannot compute exact p-value with ties\"Warning message in wilcox.test.default(x = c(2.38e-05, 0, 0.000213059, 0, 0, 0, :\n",
      "\"cannot compute exact p-value with ties\"Warning message in wilcox.test.default(x = c(0, 0.000680097, 0, 0, 0, 0, 0, 0, 0, :\n",
      "\"cannot compute exact p-value with ties\"Warning message in wilcox.test.default(x = c(0.00075267, 0, 0.000127601, 0.000253272, :\n",
      "\"cannot compute exact p-value with ties\"Warning message in wilcox.test.default(x = c(0.000342123, 0, 0, 0.000264772, 0.000311095, :\n",
      "\"cannot compute exact p-value with ties\"Warning message in wilcox.test.default(x = c(0.000246942, 0.000148275, 0.000154067, :\n",
      "\"cannot compute exact p-value with ties\"Warning message in wilcox.test.default(x = c(0.000182131, 9.45e-05, 6.1e-05, 0.0001144, :\n",
      "\"cannot compute exact p-value with ties\"Warning message in wilcox.test.default(x = c(9.29e-05, 0, 0, 1.56e-05, 0, 0.000209409, :\n",
      "\"cannot compute exact p-value with ties\"Warning message in wilcox.test.default(x = c(0.000214048, 1.99e-05, 5.63e-05, 0, :\n",
      "\"cannot compute exact p-value with ties\"Warning message in wilcox.test.default(x = c(0, 0, 0, 2.17e-05, 3.61e-05, 6.31e-05, :\n",
      "\"cannot compute exact p-value with ties\"Warning message in wilcox.test.default(x = c(0, 0, 0, 2.94e-05, 0, 0, 0, 0, 0, 0, :\n",
      "\"cannot compute exact p-value with ties\"Warning message in wilcox.test.default(x = c(2.79e-05, 0, 0, 0, 0, 0, 0, 0, 0, 0, :\n",
      "\"cannot compute exact p-value with ties\"Warning message in wilcox.test.default(x = c(3.51e-05, 0, 0, 0, 4.83e-05, 0, 0.000155237, :\n",
      "\"cannot compute exact p-value with ties\"Warning message in wilcox.test.default(x = c(0, 1.99e-05, 7.53e-05, 8.52e-05, 0.000110284, :\n",
      "\"cannot compute exact p-value with ties\"Warning message in wilcox.test.default(x = c(0, 1.28e-05, 0, 0, 0, 0, 0, 0, 0, 0, :\n",
      "\"cannot compute exact p-value with ties\"Warning message in wilcox.test.default(x = c(0, 0, 0, 0, 0, 0, 0, 0, 0, 0, 0, 0, :\n",
      "\"cannot compute exact p-value with ties\"Warning message in wilcox.test.default(x = c(0.000227321, 0.000237139, 0.000151898, :\n",
      "\"cannot compute exact p-value with ties\"Warning message in wilcox.test.default(x = c(5.02e-05, 2.24e-05, 2.95e-05, 3.17e-05, :\n",
      "\"cannot compute exact p-value with ties\"Warning message in wilcox.test.default(x = c(0, 2.43e-05, 0, 3.12e-05, 2.93e-05, :\n",
      "\"cannot compute exact p-value with ties\"Warning message in wilcox.test.default(x = c(0.00014478, 0.000234902, 0.000140741, :\n",
      "\"cannot compute exact p-value with ties\"Warning message in wilcox.test.default(x = c(0, 1.94e-05, 4.23e-05, 6.01e-05, 0.000118036, :\n",
      "\"cannot compute exact p-value with ties\"Warning message in wilcox.test.default(x = c(0.000114394, 0.000152511, 0.000128018, :\n",
      "\"cannot compute exact p-value with ties\"Warning message in wilcox.test.default(x = c(0, 0, 0, 2.74e-05, 2.49e-05, 0, 0, :\n",
      "\"cannot compute exact p-value with ties\"Warning message in wilcox.test.default(x = c(0, 0, 0, 0, 0, 0, 0, 0, 0, 0, 0, 0, :\n",
      "\"cannot compute exact p-value with ties\"Warning message in wilcox.test.default(x = c(0.000111827, 0.000172834, 0.000140319, :\n",
      "\"cannot compute exact p-value with ties\"Warning message in wilcox.test.default(x = c(0.000124299, 0.000190694, 0.000143734, :\n",
      "\"cannot compute exact p-value with ties\"Warning message in wilcox.test.default(x = c(0, 0, 7.25e-05, 5.32e-05, 7.38e-05, :\n",
      "\"cannot compute exact p-value with ties\"Warning message in wilcox.test.default(x = c(0.000184619, 0.00037808, 0.001618255, :\n",
      "\"cannot compute exact p-value with ties\"Warning message in wilcox.test.default(x = c(0, 7.38e-05, 9.44e-05, 6.97e-05, 0.000105303, :\n",
      "\"cannot compute exact p-value with ties\""
     ]
    },
    {
     "data": {
      "text/html": [
       "<ol class=list-inline>\n",
       "\t<li>0.0127990313408827</li>\n",
       "\t<li>0.00679694527114584</li>\n",
       "\t<li>0.480535774068675</li>\n",
       "\t<li>0.0079125623767919</li>\n",
       "\t<li>0.381557872765939</li>\n",
       "\t<li>0.00118667446462527</li>\n",
       "</ol>\n"
      ],
      "text/latex": [
       "\\begin{enumerate*}\n",
       "\\item 0.0127990313408827\n",
       "\\item 0.00679694527114584\n",
       "\\item 0.480535774068675\n",
       "\\item 0.0079125623767919\n",
       "\\item 0.381557872765939\n",
       "\\item 0.00118667446462527\n",
       "\\end{enumerate*}\n"
      ],
      "text/markdown": [
       "1. 0.0127990313408827\n",
       "2. 0.00679694527114584\n",
       "3. 0.480535774068675\n",
       "4. 0.0079125623767919\n",
       "5. 0.381557872765939\n",
       "6. 0.00118667446462527\n",
       "\n",
       "\n"
      ],
      "text/plain": [
       "[1] 0.012799031 0.006796945 0.480535774 0.007912562 0.381557873 0.001186674"
      ]
     },
     "metadata": {},
     "output_type": "display_data"
    },
    {
     "data": {
      "text/html": [
       "<ol class=list-inline>\n",
       "\t<li>0.0339174330533392</li>\n",
       "\t<li>0.023298100331665</li>\n",
       "\t<li>0.653035795529225</li>\n",
       "\t<li>0.023298100331665</li>\n",
       "\t<li>0.589410423787074</li>\n",
       "\t<li>0.00571761332955813</li>\n",
       "</ol>\n"
      ],
      "text/latex": [
       "\\begin{enumerate*}\n",
       "\\item 0.0339174330533392\n",
       "\\item 0.023298100331665\n",
       "\\item 0.653035795529225\n",
       "\\item 0.023298100331665\n",
       "\\item 0.589410423787074\n",
       "\\item 0.00571761332955813\n",
       "\\end{enumerate*}\n"
      ],
      "text/markdown": [
       "1. 0.0339174330533392\n",
       "2. 0.023298100331665\n",
       "3. 0.653035795529225\n",
       "4. 0.023298100331665\n",
       "5. 0.589410423787074\n",
       "6. 0.00571761332955813\n",
       "\n",
       "\n"
      ],
      "text/plain": [
       "[1] 0.033917433 0.023298100 0.653035796 0.023298100 0.589410424 0.005717613"
      ]
     },
     "metadata": {},
     "output_type": "display_data"
    }
   ],
   "source": [
    "pval<-c()#create an empty vector with value pval\n",
    "\n",
    "# 8 to the end of each row\n",
    "for (i in 8:ncol(nonzero_wMeta)) \n",
    "pval<-c(pval,wilcox.test(nonzero_wMeta[,i]~nonzero_wMeta$Treatmentgroup)$p.value) #assign to pval the output of the Mann-Whitney-Wilcoxon test\n",
    "    #don't know why there is that first pval in c(pval...) but it doesn't work without it\n",
    "    #$p.value is because there are many output lines from wilcox.test; you want to keep only the one that's called $p.value because that's where the nbr is\n",
    "\n",
    "head(pval) #to check\n",
    "pAdj <- p.adjust(pval, method = c(\"fdr\"), n=length(pval)) \n",
    "head(pAdj) \n",
    "\n"
   ]
  },
  {
   "cell_type": "code",
   "execution_count": 6,
   "metadata": {
    "scrolled": true
   },
   "outputs": [
    {
     "data": {
      "text/html": [
       "53"
      ],
      "text/latex": [
       "53"
      ],
      "text/markdown": [
       "53"
      ],
      "text/plain": [
       "[1] 53"
      ]
     },
     "metadata": {},
     "output_type": "display_data"
    }
   ],
   "source": [
    "length(pval)"
   ]
  },
  {
   "cell_type": "code",
   "execution_count": 7,
   "metadata": {
    "scrolled": true
   },
   "outputs": [
    {
     "data": {
      "text/html": [
       "53"
      ],
      "text/latex": [
       "53"
      ],
      "text/markdown": [
       "53"
      ],
      "text/plain": [
       "[1] 53"
      ]
     },
     "metadata": {},
     "output_type": "display_data"
    }
   ],
   "source": [
    "length(pAdj)"
   ]
  },
  {
   "cell_type": "code",
   "execution_count": 8,
   "metadata": {},
   "outputs": [
    {
     "data": {
      "text/html": [
       "<ol class=list-inline>\n",
       "\t<li>2</li>\n",
       "\t<li>53</li>\n",
       "</ol>\n"
      ],
      "text/latex": [
       "\\begin{enumerate*}\n",
       "\\item 2\n",
       "\\item 53\n",
       "\\end{enumerate*}\n"
      ],
      "text/markdown": [
       "1. 2\n",
       "2. 53\n",
       "\n",
       "\n"
      ],
      "text/plain": [
       "[1]  2 53"
      ]
     },
     "metadata": {},
     "output_type": "display_data"
    },
    {
     "data": {
      "text/html": [
       "<table>\n",
       "<thead><tr><th></th><th scope=col>X105.07_2.767</th><th scope=col>X119.049_2.765</th><th scope=col>X128.018_0.344</th></tr></thead>\n",
       "<tbody>\n",
       "\t<tr><th scope=row>Group3E</th><td>0.005180241 </td><td>1.732216e-04</td><td>0.0001250626</td></tr>\n",
       "\t<tr><th scope=row>Group9</th><td>0.003866032 </td><td>8.664167e-05</td><td>0.0001089651</td></tr>\n",
       "</tbody>\n",
       "</table>\n"
      ],
      "text/latex": [
       "\\begin{tabular}{r|lll}\n",
       "  & X105.07\\_2.767 & X119.049\\_2.765 & X128.018\\_0.344\\\\\n",
       "\\hline\n",
       "\tGroup3E & 0.005180241  & 1.732216e-04 & 0.0001250626\\\\\n",
       "\tGroup9 & 0.003866032  & 8.664167e-05 & 0.0001089651\\\\\n",
       "\\end{tabular}\n"
      ],
      "text/markdown": [
       "\n",
       "| <!--/--> | X105.07_2.767 | X119.049_2.765 | X128.018_0.344 |\n",
       "|---|---|---|---|\n",
       "| Group3E | 0.005180241  | 1.732216e-04 | 0.0001250626 |\n",
       "| Group9 | 0.003866032  | 8.664167e-05 | 0.0001089651 |\n",
       "\n"
      ],
      "text/plain": [
       "        X105.07_2.767 X119.049_2.765 X128.018_0.344\n",
       "Group3E 0.005180241   1.732216e-04   0.0001250626  \n",
       "Group9  0.003866032   8.664167e-05   0.0001089651  "
      ]
     },
     "metadata": {},
     "output_type": "display_data"
    },
    {
     "data": {
      "text/html": [
       "<dl class=dl-horizontal>\n",
       "\t<dt>X105.07_2.767</dt>\n",
       "\t\t<dd>1.33993747525025</dd>\n",
       "\t<dt>X119.049_2.765</dt>\n",
       "\t\t<dd>1.99928748677503</dd>\n",
       "\t<dt>X128.018_0.344</dt>\n",
       "\t\t<dd>1.14773113829753</dd>\n",
       "\t<dt>X136.062_0.301</dt>\n",
       "\t\t<dd>0.393242227709076</dd>\n",
       "\t<dt>X136.097_0.551</dt>\n",
       "\t\t<dd>0.76055572751922</dd>\n",
       "\t<dt>X137.046_0.31</dt>\n",
       "\t\t<dd>0.780672627701456</dd>\n",
       "</dl>\n"
      ],
      "text/latex": [
       "\\begin{description*}\n",
       "\\item[X105.07\\textbackslash{}\\_2.767] 1.33993747525025\n",
       "\\item[X119.049\\textbackslash{}\\_2.765] 1.99928748677503\n",
       "\\item[X128.018\\textbackslash{}\\_0.344] 1.14773113829753\n",
       "\\item[X136.062\\textbackslash{}\\_0.301] 0.393242227709076\n",
       "\\item[X136.097\\textbackslash{}\\_0.551] 0.76055572751922\n",
       "\\item[X137.046\\textbackslash{}\\_0.31] 0.780672627701456\n",
       "\\end{description*}\n"
      ],
      "text/markdown": [
       "X105.07_2.767\n",
       ":   1.33993747525025X119.049_2.765\n",
       ":   1.99928748677503X128.018_0.344\n",
       ":   1.14773113829753X136.062_0.301\n",
       ":   0.393242227709076X136.097_0.551\n",
       ":   0.76055572751922X137.046_0.31\n",
       ":   0.780672627701456\n",
       "\n"
      ],
      "text/plain": [
       " X105.07_2.767 X119.049_2.765 X128.018_0.344 X136.062_0.301 X136.097_0.551 \n",
       "     1.3399375      1.9992875      1.1477311      0.3932422      0.7605557 \n",
       " X137.046_0.31 \n",
       "     0.7806726 "
      ]
     },
     "metadata": {},
     "output_type": "display_data"
    },
    {
     "data": {
      "text/html": [
       "<ol class=list-inline>\n",
       "\t<li>'numeric'</li>\n",
       "\t<li>'vector'</li>\n",
       "</ol>\n"
      ],
      "text/latex": [
       "\\begin{enumerate*}\n",
       "\\item 'numeric'\n",
       "\\item 'vector'\n",
       "\\end{enumerate*}\n"
      ],
      "text/markdown": [
       "1. 'numeric'\n",
       "2. 'vector'\n",
       "\n",
       "\n"
      ],
      "text/plain": [
       "[1] \"numeric\" \"vector\" "
      ]
     },
     "metadata": {},
     "output_type": "display_data"
    }
   ],
   "source": [
    "# change the column name, you want to see infected and naive so it should be State\n",
    "avg<- apply(nonzero_wMeta[,8:ncol(nonzero_wMeta)], 2, function(x) tapply(x, nonzero_wMeta$Treatmentgroup, function(x) mean(x))) \n",
    "\n",
    "dim(avg) #to check\n",
    "\n",
    "avg[,1:3]#to check\n",
    "\n",
    "fch <- apply(avg, 2, function(x) x[1]/x[2]) #calculate fold change\n",
    "\n",
    "head(fch) #to check it's ok\n",
    "is(fch)"
   ]
  },
  {
   "cell_type": "code",
   "execution_count": 9,
   "metadata": {
    "scrolled": true
   },
   "outputs": [
    {
     "data": {
      "text/html": [
       "<dl class=dl-horizontal>\n",
       "\t<dt>X105.07_2.767</dt>\n",
       "\t\t<dd>1.33993747525025</dd>\n",
       "\t<dt>X119.049_2.765</dt>\n",
       "\t\t<dd>1.99928748677503</dd>\n",
       "\t<dt>X128.018_0.344</dt>\n",
       "\t\t<dd>1.14773113829753</dd>\n",
       "\t<dt>X136.062_0.301</dt>\n",
       "\t\t<dd>0.393242227709076</dd>\n",
       "\t<dt>X136.097_0.551</dt>\n",
       "\t\t<dd>0.76055572751922</dd>\n",
       "\t<dt>X137.046_0.31</dt>\n",
       "\t\t<dd>0.780672627701456</dd>\n",
       "\t<dt>X137.046_0.42</dt>\n",
       "\t\t<dd>0.932410052680813</dd>\n",
       "\t<dt>X203.007_0.309</dt>\n",
       "\t\t<dd>0.805504235133865</dd>\n",
       "\t<dt>X249.112_2.768</dt>\n",
       "\t\t<dd>3.77466353052124</dd>\n",
       "\t<dt>X251.037_0.323</dt>\n",
       "\t\t<dd>0.561992936961753</dd>\n",
       "\t<dt>X256.264_3.225</dt>\n",
       "\t\t<dd>0.64420449661192</dd>\n",
       "\t<dt>X258.207_2.775</dt>\n",
       "\t\t<dd>0.678236947844843</dd>\n",
       "\t<dt>X267.123_2.767</dt>\n",
       "\t\t<dd>1.33406432308177</dd>\n",
       "\t<dt>X285.133_2.768</dt>\n",
       "\t\t<dd>1.39226074646906</dd>\n",
       "\t<dt>X291.146_2.39</dt>\n",
       "\t\t<dd>0.969026194458207</dd>\n",
       "\t<dt>X296.258_2.976</dt>\n",
       "\t\t<dd>Inf</dd>\n",
       "\t<dt>X301.115_0.328</dt>\n",
       "\t\t<dd>0.933115400053859</dd>\n",
       "\t<dt>X301.115_0.413</dt>\n",
       "\t\t<dd>1.3301415923495</dd>\n",
       "\t<dt>X324.327_3.455</dt>\n",
       "\t\t<dd>1.90591693451439</dd>\n",
       "\t<dt>X351.217_2.741</dt>\n",
       "\t\t<dd>0.783053672360094</dd>\n",
       "\t<dt>X352.306_2.997</dt>\n",
       "\t\t<dd>11.2136715620828</dd>\n",
       "\t<dt>X369.17_2.767</dt>\n",
       "\t\t<dd>1.51853150622205</dd>\n",
       "\t<dt>X380.993_2.164</dt>\n",
       "\t\t<dd>0.219402985074627</dd>\n",
       "\t<dt>X386.717_2.856</dt>\n",
       "\t\t<dd>1.02952029520295</dd>\n",
       "\t<dt>X387.193_2.842</dt>\n",
       "\t\t<dd>0.216948411128647</dd>\n",
       "\t<dt>X396.332_2.991</dt>\n",
       "\t\t<dd>5.94902801798686</dd>\n",
       "\t<dt>X397.22_2.071</dt>\n",
       "\t\t<dd>0.0783353733170135</dd>\n",
       "\t<dt>X400.97_2.127</dt>\n",
       "\t\t<dd>0</dd>\n",
       "\t<dt>X416.337_2.79</dt>\n",
       "\t\t<dd>0.994671628884138</dd>\n",
       "\t<dt>X420.899_2.103</dt>\n",
       "\t\t<dd>0.605225579008434</dd>\n",
       "\t<dt>X426.484_2.164</dt>\n",
       "\t\t<dd>0.354070981210856</dd>\n",
       "\t<dt>X430.223_2.769</dt>\n",
       "\t\t<dd>1.66170397937958</dd>\n",
       "\t<dt>X440.338_2.763</dt>\n",
       "\t\t<dd>1.24600269358347</dd>\n",
       "\t<dt>X440.359_2.985</dt>\n",
       "\t\t<dd>4.0624969894317</dd>\n",
       "\t<dt>X442.353_2.819</dt>\n",
       "\t\t<dd>1.04501006249001</dd>\n",
       "\t<dt>X458.23_2.165</dt>\n",
       "\t\t<dd>0.287190638573601</dd>\n",
       "\t<dt>X466.25_2.226</dt>\n",
       "\t\t<dd>0</dd>\n",
       "\t<dt>X475.989_2.164</dt>\n",
       "\t\t<dd>0.564498375717612</dd>\n",
       "\t<dt>X476.24_2.164</dt>\n",
       "\t\t<dd>0.556156615794272</dd>\n",
       "\t<dt>X484.385_2.982</dt>\n",
       "\t\t<dd>4.58576388419815</dd>\n",
       "\t<dt>X489.228_2.768</dt>\n",
       "\t\t<dd>2.11605439358263</dd>\n",
       "\t<dt>X494.325_2.865</dt>\n",
       "\t\t<dd>0.979641766813967</dd>\n",
       "\t<dt>X570.357_2.934</dt>\n",
       "\t\t<dd>0.939894633016552</dd>\n",
       "\t<dt>X580.362_2.984</dt>\n",
       "\t\t<dd>0.901522969823472</dd>\n",
       "\t<dt>X599.241_2.765</dt>\n",
       "\t\t<dd>2.10049077441909</dd>\n",
       "\t<dt>X604.362_2.948</dt>\n",
       "\t\t<dd>0.817581750301376</dd>\n",
       "\t<dt>X620.356_2.913</dt>\n",
       "\t\t<dd>0.799863814854802</dd>\n",
       "\t<dt>X682.364_3.313</dt>\n",
       "\t\t<dd>0.654636505721103</dd>\n",
       "\t<dt>X764.524_3.729</dt>\n",
       "\t\t<dd>1.08256784920037</dd>\n",
       "\t<dt>X790.38_2.768</dt>\n",
       "\t\t<dd>1.60508550865167</dd>\n",
       "\t<dt>X792.329_2.764</dt>\n",
       "\t\t<dd>4.05948936554459</dd>\n",
       "\t<dt>X795.335_2.768</dt>\n",
       "\t\t<dd>1.51763589073782</dd>\n",
       "\t<dt>X811.309_2.773</dt>\n",
       "\t\t<dd>1.55289892608138</dd>\n",
       "</dl>\n"
      ],
      "text/latex": [
       "\\begin{description*}\n",
       "\\item[X105.07\\textbackslash{}\\_2.767] 1.33993747525025\n",
       "\\item[X119.049\\textbackslash{}\\_2.765] 1.99928748677503\n",
       "\\item[X128.018\\textbackslash{}\\_0.344] 1.14773113829753\n",
       "\\item[X136.062\\textbackslash{}\\_0.301] 0.393242227709076\n",
       "\\item[X136.097\\textbackslash{}\\_0.551] 0.76055572751922\n",
       "\\item[X137.046\\textbackslash{}\\_0.31] 0.780672627701456\n",
       "\\item[X137.046\\textbackslash{}\\_0.42] 0.932410052680813\n",
       "\\item[X203.007\\textbackslash{}\\_0.309] 0.805504235133865\n",
       "\\item[X249.112\\textbackslash{}\\_2.768] 3.77466353052124\n",
       "\\item[X251.037\\textbackslash{}\\_0.323] 0.561992936961753\n",
       "\\item[X256.264\\textbackslash{}\\_3.225] 0.64420449661192\n",
       "\\item[X258.207\\textbackslash{}\\_2.775] 0.678236947844843\n",
       "\\item[X267.123\\textbackslash{}\\_2.767] 1.33406432308177\n",
       "\\item[X285.133\\textbackslash{}\\_2.768] 1.39226074646906\n",
       "\\item[X291.146\\textbackslash{}\\_2.39] 0.969026194458207\n",
       "\\item[X296.258\\textbackslash{}\\_2.976] Inf\n",
       "\\item[X301.115\\textbackslash{}\\_0.328] 0.933115400053859\n",
       "\\item[X301.115\\textbackslash{}\\_0.413] 1.3301415923495\n",
       "\\item[X324.327\\textbackslash{}\\_3.455] 1.90591693451439\n",
       "\\item[X351.217\\textbackslash{}\\_2.741] 0.783053672360094\n",
       "\\item[X352.306\\textbackslash{}\\_2.997] 11.2136715620828\n",
       "\\item[X369.17\\textbackslash{}\\_2.767] 1.51853150622205\n",
       "\\item[X380.993\\textbackslash{}\\_2.164] 0.219402985074627\n",
       "\\item[X386.717\\textbackslash{}\\_2.856] 1.02952029520295\n",
       "\\item[X387.193\\textbackslash{}\\_2.842] 0.216948411128647\n",
       "\\item[X396.332\\textbackslash{}\\_2.991] 5.94902801798686\n",
       "\\item[X397.22\\textbackslash{}\\_2.071] 0.0783353733170135\n",
       "\\item[X400.97\\textbackslash{}\\_2.127] 0\n",
       "\\item[X416.337\\textbackslash{}\\_2.79] 0.994671628884138\n",
       "\\item[X420.899\\textbackslash{}\\_2.103] 0.605225579008434\n",
       "\\item[X426.484\\textbackslash{}\\_2.164] 0.354070981210856\n",
       "\\item[X430.223\\textbackslash{}\\_2.769] 1.66170397937958\n",
       "\\item[X440.338\\textbackslash{}\\_2.763] 1.24600269358347\n",
       "\\item[X440.359\\textbackslash{}\\_2.985] 4.0624969894317\n",
       "\\item[X442.353\\textbackslash{}\\_2.819] 1.04501006249001\n",
       "\\item[X458.23\\textbackslash{}\\_2.165] 0.287190638573601\n",
       "\\item[X466.25\\textbackslash{}\\_2.226] 0\n",
       "\\item[X475.989\\textbackslash{}\\_2.164] 0.564498375717612\n",
       "\\item[X476.24\\textbackslash{}\\_2.164] 0.556156615794272\n",
       "\\item[X484.385\\textbackslash{}\\_2.982] 4.58576388419815\n",
       "\\item[X489.228\\textbackslash{}\\_2.768] 2.11605439358263\n",
       "\\item[X494.325\\textbackslash{}\\_2.865] 0.979641766813967\n",
       "\\item[X570.357\\textbackslash{}\\_2.934] 0.939894633016552\n",
       "\\item[X580.362\\textbackslash{}\\_2.984] 0.901522969823472\n",
       "\\item[X599.241\\textbackslash{}\\_2.765] 2.10049077441909\n",
       "\\item[X604.362\\textbackslash{}\\_2.948] 0.817581750301376\n",
       "\\item[X620.356\\textbackslash{}\\_2.913] 0.799863814854802\n",
       "\\item[X682.364\\textbackslash{}\\_3.313] 0.654636505721103\n",
       "\\item[X764.524\\textbackslash{}\\_3.729] 1.08256784920037\n",
       "\\item[X790.38\\textbackslash{}\\_2.768] 1.60508550865167\n",
       "\\item[X792.329\\textbackslash{}\\_2.764] 4.05948936554459\n",
       "\\item[X795.335\\textbackslash{}\\_2.768] 1.51763589073782\n",
       "\\item[X811.309\\textbackslash{}\\_2.773] 1.55289892608138\n",
       "\\end{description*}\n"
      ],
      "text/markdown": [
       "X105.07_2.767\n",
       ":   1.33993747525025X119.049_2.765\n",
       ":   1.99928748677503X128.018_0.344\n",
       ":   1.14773113829753X136.062_0.301\n",
       ":   0.393242227709076X136.097_0.551\n",
       ":   0.76055572751922X137.046_0.31\n",
       ":   0.780672627701456X137.046_0.42\n",
       ":   0.932410052680813X203.007_0.309\n",
       ":   0.805504235133865X249.112_2.768\n",
       ":   3.77466353052124X251.037_0.323\n",
       ":   0.561992936961753X256.264_3.225\n",
       ":   0.64420449661192X258.207_2.775\n",
       ":   0.678236947844843X267.123_2.767\n",
       ":   1.33406432308177X285.133_2.768\n",
       ":   1.39226074646906X291.146_2.39\n",
       ":   0.969026194458207X296.258_2.976\n",
       ":   InfX301.115_0.328\n",
       ":   0.933115400053859X301.115_0.413\n",
       ":   1.3301415923495X324.327_3.455\n",
       ":   1.90591693451439X351.217_2.741\n",
       ":   0.783053672360094X352.306_2.997\n",
       ":   11.2136715620828X369.17_2.767\n",
       ":   1.51853150622205X380.993_2.164\n",
       ":   0.219402985074627X386.717_2.856\n",
       ":   1.02952029520295X387.193_2.842\n",
       ":   0.216948411128647X396.332_2.991\n",
       ":   5.94902801798686X397.22_2.071\n",
       ":   0.0783353733170135X400.97_2.127\n",
       ":   0X416.337_2.79\n",
       ":   0.994671628884138X420.899_2.103\n",
       ":   0.605225579008434X426.484_2.164\n",
       ":   0.354070981210856X430.223_2.769\n",
       ":   1.66170397937958X440.338_2.763\n",
       ":   1.24600269358347X440.359_2.985\n",
       ":   4.0624969894317X442.353_2.819\n",
       ":   1.04501006249001X458.23_2.165\n",
       ":   0.287190638573601X466.25_2.226\n",
       ":   0X475.989_2.164\n",
       ":   0.564498375717612X476.24_2.164\n",
       ":   0.556156615794272X484.385_2.982\n",
       ":   4.58576388419815X489.228_2.768\n",
       ":   2.11605439358263X494.325_2.865\n",
       ":   0.979641766813967X570.357_2.934\n",
       ":   0.939894633016552X580.362_2.984\n",
       ":   0.901522969823472X599.241_2.765\n",
       ":   2.10049077441909X604.362_2.948\n",
       ":   0.817581750301376X620.356_2.913\n",
       ":   0.799863814854802X682.364_3.313\n",
       ":   0.654636505721103X764.524_3.729\n",
       ":   1.08256784920037X790.38_2.768\n",
       ":   1.60508550865167X792.329_2.764\n",
       ":   4.05948936554459X795.335_2.768\n",
       ":   1.51763589073782X811.309_2.773\n",
       ":   1.55289892608138\n",
       "\n"
      ],
      "text/plain": [
       " X105.07_2.767 X119.049_2.765 X128.018_0.344 X136.062_0.301 X136.097_0.551 \n",
       "    1.33993748     1.99928749     1.14773114     0.39324223     0.76055573 \n",
       " X137.046_0.31  X137.046_0.42 X203.007_0.309 X249.112_2.768 X251.037_0.323 \n",
       "    0.78067263     0.93241005     0.80550424     3.77466353     0.56199294 \n",
       "X256.264_3.225 X258.207_2.775 X267.123_2.767 X285.133_2.768  X291.146_2.39 \n",
       "    0.64420450     0.67823695     1.33406432     1.39226075     0.96902619 \n",
       "X296.258_2.976 X301.115_0.328 X301.115_0.413 X324.327_3.455 X351.217_2.741 \n",
       "           Inf     0.93311540     1.33014159     1.90591693     0.78305367 \n",
       "X352.306_2.997  X369.17_2.767 X380.993_2.164 X386.717_2.856 X387.193_2.842 \n",
       "   11.21367156     1.51853151     0.21940299     1.02952030     0.21694841 \n",
       "X396.332_2.991  X397.22_2.071  X400.97_2.127  X416.337_2.79 X420.899_2.103 \n",
       "    5.94902802     0.07833537     0.00000000     0.99467163     0.60522558 \n",
       "X426.484_2.164 X430.223_2.769 X440.338_2.763 X440.359_2.985 X442.353_2.819 \n",
       "    0.35407098     1.66170398     1.24600269     4.06249699     1.04501006 \n",
       " X458.23_2.165  X466.25_2.226 X475.989_2.164  X476.24_2.164 X484.385_2.982 \n",
       "    0.28719064     0.00000000     0.56449838     0.55615662     4.58576388 \n",
       "X489.228_2.768 X494.325_2.865 X570.357_2.934 X580.362_2.984 X599.241_2.765 \n",
       "    2.11605439     0.97964177     0.93989463     0.90152297     2.10049077 \n",
       "X604.362_2.948 X620.356_2.913 X682.364_3.313 X764.524_3.729  X790.38_2.768 \n",
       "    0.81758175     0.79986381     0.65463651     1.08256785     1.60508551 \n",
       "X792.329_2.764 X795.335_2.768 X811.309_2.773 \n",
       "    4.05948937     1.51763589     1.55289893 "
      ]
     },
     "metadata": {},
     "output_type": "display_data"
    }
   ],
   "source": [
    "fch"
   ]
  },
  {
   "cell_type": "code",
   "execution_count": 10,
   "metadata": {
    "scrolled": false
   },
   "outputs": [],
   "source": [
    "#Convoluted way to get the names; likely could find a simpler way\n",
    "\n",
    "#make dataframe from pval and fch\n",
    "df <- data.frame(fch,pval, pAdj)\n",
    "write.csv(df, \"LVB-wilcox-3E-9.csv\")"
   ]
  },
  {
   "cell_type": "code",
   "execution_count": null,
   "metadata": {},
   "outputs": [],
   "source": []
  },
  {
   "cell_type": "code",
   "execution_count": null,
   "metadata": {},
   "outputs": [],
   "source": []
  },
  {
   "cell_type": "code",
   "execution_count": null,
   "metadata": {},
   "outputs": [],
   "source": []
  }
 ],
 "metadata": {
  "kernelspec": {
   "display_name": "R",
   "language": "R",
   "name": "ir"
  },
  "language_info": {
   "codemirror_mode": "r",
   "file_extension": ".r",
   "mimetype": "text/x-r-source",
   "name": "R",
   "pygments_lexer": "r",
   "version": "3.6.1"
  }
 },
 "nbformat": 4,
 "nbformat_minor": 2
}
