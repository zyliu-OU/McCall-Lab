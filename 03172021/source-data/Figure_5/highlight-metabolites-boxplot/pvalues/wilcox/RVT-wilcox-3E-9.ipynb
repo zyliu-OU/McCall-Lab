{
 "cells": [
  {
   "cell_type": "code",
   "execution_count": 1,
   "metadata": {},
   "outputs": [],
   "source": [
    "# after I have filtered feature table, I do wilcox p value for filtered mass list. So that the p value will be more accurate"
   ]
  },
  {
   "cell_type": "code",
   "execution_count": 11,
   "metadata": {},
   "outputs": [],
   "source": [
    "a <- read.csv(\"RVT-M-F-final-fix.csv\")"
   ]
  },
  {
   "cell_type": "code",
   "execution_count": 12,
   "metadata": {},
   "outputs": [
    {
     "data": {
      "text/html": [
       "<table>\n",
       "<thead><tr><th scope=col>filename</th><th scope=col>MouseID</th><th scope=col>Treatmentgroup</th><th scope=col>DPI</th><th scope=col>organ</th><th scope=col>well_position</th><th scope=col>plate</th><th scope=col>X268.105_0.35</th><th scope=col>X269.088_0.35</th><th scope=col>X111.044_2.768</th><th scope=col>...</th><th scope=col>X705.141_2.339</th><th scope=col>X776.148_2.398</th><th scope=col>X776.253_2.398</th><th scope=col>X776.411_2.398</th><th scope=col>X792.329_2.764</th><th scope=col>X811.309_2.773</th><th scope=col>X811.31_2.767</th><th scope=col>X819.211_2.398</th><th scope=col>X819.322_2.398</th><th scope=col>X819.378_2.399</th></tr></thead>\n",
       "<tbody>\n",
       "\t<tr><td>X511_Group1C_142dpi_RV_top_161_G_A1_P136.mzXML</td><td>511                                           </td><td>Group1C                                       </td><td>142dpi                                        </td><td>RV_top                                        </td><td>A1                                            </td><td>P136                                          </td><td>0.000163206                                   </td><td>0.001639729                                   </td><td>0.000000000                                   </td><td>...                                           </td><td>0.000179645                                   </td><td>0.000000000                                   </td><td>0.000103564                                   </td><td>0.000000000                                   </td><td>0.000000000                                   </td><td>0.000000000                                   </td><td>0                                             </td><td>0.000069800                                   </td><td>0.000098700                                   </td><td>0.000000000                                   </td></tr>\n",
       "\t<tr><td>X512_Group1C_142dpi_RV_top_162_G_A2_P136.mzXML</td><td>512                                           </td><td>Group1C                                       </td><td>142dpi                                        </td><td>RV_top                                        </td><td>A2                                            </td><td>P136                                          </td><td>0.000425000                                   </td><td>0.003176171                                   </td><td>0.000000000                                   </td><td>...                                           </td><td>0.000096500                                   </td><td>0.000116217                                   </td><td>0.000179520                                   </td><td>0.000077700                                   </td><td>0.000000000                                   </td><td>0.000119473                                   </td><td>0                                             </td><td>0.000152956                                   </td><td>0.000187883                                   </td><td>0.000092000                                   </td></tr>\n",
       "\t<tr><td>X513_Group1C_142dpi_RV_top_163_G_A3_P136.mzXML</td><td>513                                           </td><td>Group1C                                       </td><td>142dpi                                        </td><td>RV_top                                        </td><td>A3                                            </td><td>P136                                          </td><td>0.000842890                                   </td><td>0.001560739                                   </td><td>0.000000000                                   </td><td>...                                           </td><td>0.000161273                                   </td><td>0.000144501                                   </td><td>0.000153052                                   </td><td>0.000081000                                   </td><td>0.000065500                                   </td><td>0.000150147                                   </td><td>0                                             </td><td>0.000158430                                   </td><td>0.000183752                                   </td><td>0.000165912                                   </td></tr>\n",
       "\t<tr><td>X514_Group1C_142dpi_RV_top_164_G_A4_P136.mzXML</td><td>514                                           </td><td>Group1C                                       </td><td>142dpi                                        </td><td>RV_top                                        </td><td>A4                                            </td><td>P136                                          </td><td>0.000302458                                   </td><td>0.001666797                                   </td><td>0.000000000                                   </td><td>...                                           </td><td>0.000084300                                   </td><td>0.000095400                                   </td><td>0.000175538                                   </td><td>0.000173409                                   </td><td>0.000000000                                   </td><td>0.000152011                                   </td><td>0                                             </td><td>0.000165734                                   </td><td>0.000212944                                   </td><td>0.000182069                                   </td></tr>\n",
       "\t<tr><td>X515_Group1C_142dpi_RV_top_165_G_A5_P136.mzXML</td><td>515                                           </td><td>Group1C                                       </td><td>142dpi                                        </td><td>RV_top                                        </td><td>A5                                            </td><td>P136                                          </td><td>0.000000000                                   </td><td>0.002342964                                   </td><td>0.000043200                                   </td><td>...                                           </td><td>0.000194172                                   </td><td>0.000258485                                   </td><td>0.000309987                                   </td><td>0.000176238                                   </td><td>0.000069000                                   </td><td>0.000174876                                   </td><td>0                                             </td><td>0.000182384                                   </td><td>0.000226010                                   </td><td>0.000238047                                   </td></tr>\n",
       "\t<tr><td>X531_Group1C_142dpi_RV_top_166_G_A6_P136.mzXML</td><td>531                                           </td><td>Group1C                                       </td><td>142dpi                                        </td><td>RV_top                                        </td><td>A6                                            </td><td>P136                                          </td><td>0.000070600                                   </td><td>0.001799604                                   </td><td>0.000115117                                   </td><td>...                                           </td><td>0.000000000                                   </td><td>0.000061600                                   </td><td>0.000166923                                   </td><td>0.000000000                                   </td><td>0.000203732                                   </td><td>0.000394644                                   </td><td>0                                             </td><td>0.000067200                                   </td><td>0.000132213                                   </td><td>0.000085100                                   </td></tr>\n",
       "</tbody>\n",
       "</table>\n"
      ],
      "text/latex": [
       "\\begin{tabular}{r|llllllllllllllllllllllllllllllllllllllllllllllllllllllllllllllllllllll}\n",
       " filename & MouseID & Treatmentgroup & DPI & organ & well\\_position & plate & X268.105\\_0.35 & X269.088\\_0.35 & X111.044\\_2.768 & ... & X705.141\\_2.339 & X776.148\\_2.398 & X776.253\\_2.398 & X776.411\\_2.398 & X792.329\\_2.764 & X811.309\\_2.773 & X811.31\\_2.767 & X819.211\\_2.398 & X819.322\\_2.398 & X819.378\\_2.399\\\\\n",
       "\\hline\n",
       "\t X511\\_Group1C\\_142dpi\\_RV\\_top\\_161\\_G\\_A1\\_P136.mzXML & 511                                                            & Group1C                                                        & 142dpi                                                         & RV\\_top                                                       & A1                                                             & P136                                                           & 0.000163206                                                    & 0.001639729                                                    & 0.000000000                                                    & ...                                                            & 0.000179645                                                    & 0.000000000                                                    & 0.000103564                                                    & 0.000000000                                                    & 0.000000000                                                    & 0.000000000                                                    & 0                                                              & 0.000069800                                                    & 0.000098700                                                    & 0.000000000                                                   \\\\\n",
       "\t X512\\_Group1C\\_142dpi\\_RV\\_top\\_162\\_G\\_A2\\_P136.mzXML & 512                                                            & Group1C                                                        & 142dpi                                                         & RV\\_top                                                       & A2                                                             & P136                                                           & 0.000425000                                                    & 0.003176171                                                    & 0.000000000                                                    & ...                                                            & 0.000096500                                                    & 0.000116217                                                    & 0.000179520                                                    & 0.000077700                                                    & 0.000000000                                                    & 0.000119473                                                    & 0                                                              & 0.000152956                                                    & 0.000187883                                                    & 0.000092000                                                   \\\\\n",
       "\t X513\\_Group1C\\_142dpi\\_RV\\_top\\_163\\_G\\_A3\\_P136.mzXML & 513                                                            & Group1C                                                        & 142dpi                                                         & RV\\_top                                                       & A3                                                             & P136                                                           & 0.000842890                                                    & 0.001560739                                                    & 0.000000000                                                    & ...                                                            & 0.000161273                                                    & 0.000144501                                                    & 0.000153052                                                    & 0.000081000                                                    & 0.000065500                                                    & 0.000150147                                                    & 0                                                              & 0.000158430                                                    & 0.000183752                                                    & 0.000165912                                                   \\\\\n",
       "\t X514\\_Group1C\\_142dpi\\_RV\\_top\\_164\\_G\\_A4\\_P136.mzXML & 514                                                            & Group1C                                                        & 142dpi                                                         & RV\\_top                                                       & A4                                                             & P136                                                           & 0.000302458                                                    & 0.001666797                                                    & 0.000000000                                                    & ...                                                            & 0.000084300                                                    & 0.000095400                                                    & 0.000175538                                                    & 0.000173409                                                    & 0.000000000                                                    & 0.000152011                                                    & 0                                                              & 0.000165734                                                    & 0.000212944                                                    & 0.000182069                                                   \\\\\n",
       "\t X515\\_Group1C\\_142dpi\\_RV\\_top\\_165\\_G\\_A5\\_P136.mzXML & 515                                                            & Group1C                                                        & 142dpi                                                         & RV\\_top                                                       & A5                                                             & P136                                                           & 0.000000000                                                    & 0.002342964                                                    & 0.000043200                                                    & ...                                                            & 0.000194172                                                    & 0.000258485                                                    & 0.000309987                                                    & 0.000176238                                                    & 0.000069000                                                    & 0.000174876                                                    & 0                                                              & 0.000182384                                                    & 0.000226010                                                    & 0.000238047                                                   \\\\\n",
       "\t X531\\_Group1C\\_142dpi\\_RV\\_top\\_166\\_G\\_A6\\_P136.mzXML & 531                                                            & Group1C                                                        & 142dpi                                                         & RV\\_top                                                       & A6                                                             & P136                                                           & 0.000070600                                                    & 0.001799604                                                    & 0.000115117                                                    & ...                                                            & 0.000000000                                                    & 0.000061600                                                    & 0.000166923                                                    & 0.000000000                                                    & 0.000203732                                                    & 0.000394644                                                    & 0                                                              & 0.000067200                                                    & 0.000132213                                                    & 0.000085100                                                   \\\\\n",
       "\\end{tabular}\n"
      ],
      "text/markdown": [
       "\n",
       "| filename | MouseID | Treatmentgroup | DPI | organ | well_position | plate | X268.105_0.35 | X269.088_0.35 | X111.044_2.768 | ... | X705.141_2.339 | X776.148_2.398 | X776.253_2.398 | X776.411_2.398 | X792.329_2.764 | X811.309_2.773 | X811.31_2.767 | X819.211_2.398 | X819.322_2.398 | X819.378_2.399 |\n",
       "|---|---|---|---|---|---|---|---|---|---|---|---|---|---|---|---|---|---|---|---|---|\n",
       "| X511_Group1C_142dpi_RV_top_161_G_A1_P136.mzXML | 511                                            | Group1C                                        | 142dpi                                         | RV_top                                         | A1                                             | P136                                           | 0.000163206                                    | 0.001639729                                    | 0.000000000                                    | ...                                            | 0.000179645                                    | 0.000000000                                    | 0.000103564                                    | 0.000000000                                    | 0.000000000                                    | 0.000000000                                    | 0                                              | 0.000069800                                    | 0.000098700                                    | 0.000000000                                    |\n",
       "| X512_Group1C_142dpi_RV_top_162_G_A2_P136.mzXML | 512                                            | Group1C                                        | 142dpi                                         | RV_top                                         | A2                                             | P136                                           | 0.000425000                                    | 0.003176171                                    | 0.000000000                                    | ...                                            | 0.000096500                                    | 0.000116217                                    | 0.000179520                                    | 0.000077700                                    | 0.000000000                                    | 0.000119473                                    | 0                                              | 0.000152956                                    | 0.000187883                                    | 0.000092000                                    |\n",
       "| X513_Group1C_142dpi_RV_top_163_G_A3_P136.mzXML | 513                                            | Group1C                                        | 142dpi                                         | RV_top                                         | A3                                             | P136                                           | 0.000842890                                    | 0.001560739                                    | 0.000000000                                    | ...                                            | 0.000161273                                    | 0.000144501                                    | 0.000153052                                    | 0.000081000                                    | 0.000065500                                    | 0.000150147                                    | 0                                              | 0.000158430                                    | 0.000183752                                    | 0.000165912                                    |\n",
       "| X514_Group1C_142dpi_RV_top_164_G_A4_P136.mzXML | 514                                            | Group1C                                        | 142dpi                                         | RV_top                                         | A4                                             | P136                                           | 0.000302458                                    | 0.001666797                                    | 0.000000000                                    | ...                                            | 0.000084300                                    | 0.000095400                                    | 0.000175538                                    | 0.000173409                                    | 0.000000000                                    | 0.000152011                                    | 0                                              | 0.000165734                                    | 0.000212944                                    | 0.000182069                                    |\n",
       "| X515_Group1C_142dpi_RV_top_165_G_A5_P136.mzXML | 515                                            | Group1C                                        | 142dpi                                         | RV_top                                         | A5                                             | P136                                           | 0.000000000                                    | 0.002342964                                    | 0.000043200                                    | ...                                            | 0.000194172                                    | 0.000258485                                    | 0.000309987                                    | 0.000176238                                    | 0.000069000                                    | 0.000174876                                    | 0                                              | 0.000182384                                    | 0.000226010                                    | 0.000238047                                    |\n",
       "| X531_Group1C_142dpi_RV_top_166_G_A6_P136.mzXML | 531                                            | Group1C                                        | 142dpi                                         | RV_top                                         | A6                                             | P136                                           | 0.000070600                                    | 0.001799604                                    | 0.000115117                                    | ...                                            | 0.000000000                                    | 0.000061600                                    | 0.000166923                                    | 0.000000000                                    | 0.000203732                                    | 0.000394644                                    | 0                                              | 0.000067200                                    | 0.000132213                                    | 0.000085100                                    |\n",
       "\n"
      ],
      "text/plain": [
       "  filename                                       MouseID Treatmentgroup DPI   \n",
       "1 X511_Group1C_142dpi_RV_top_161_G_A1_P136.mzXML 511     Group1C        142dpi\n",
       "2 X512_Group1C_142dpi_RV_top_162_G_A2_P136.mzXML 512     Group1C        142dpi\n",
       "3 X513_Group1C_142dpi_RV_top_163_G_A3_P136.mzXML 513     Group1C        142dpi\n",
       "4 X514_Group1C_142dpi_RV_top_164_G_A4_P136.mzXML 514     Group1C        142dpi\n",
       "5 X515_Group1C_142dpi_RV_top_165_G_A5_P136.mzXML 515     Group1C        142dpi\n",
       "6 X531_Group1C_142dpi_RV_top_166_G_A6_P136.mzXML 531     Group1C        142dpi\n",
       "  organ  well_position plate X268.105_0.35 X269.088_0.35 X111.044_2.768 ...\n",
       "1 RV_top A1            P136  0.000163206   0.001639729   0.000000000    ...\n",
       "2 RV_top A2            P136  0.000425000   0.003176171   0.000000000    ...\n",
       "3 RV_top A3            P136  0.000842890   0.001560739   0.000000000    ...\n",
       "4 RV_top A4            P136  0.000302458   0.001666797   0.000000000    ...\n",
       "5 RV_top A5            P136  0.000000000   0.002342964   0.000043200    ...\n",
       "6 RV_top A6            P136  0.000070600   0.001799604   0.000115117    ...\n",
       "  X705.141_2.339 X776.148_2.398 X776.253_2.398 X776.411_2.398 X792.329_2.764\n",
       "1 0.000179645    0.000000000    0.000103564    0.000000000    0.000000000   \n",
       "2 0.000096500    0.000116217    0.000179520    0.000077700    0.000000000   \n",
       "3 0.000161273    0.000144501    0.000153052    0.000081000    0.000065500   \n",
       "4 0.000084300    0.000095400    0.000175538    0.000173409    0.000000000   \n",
       "5 0.000194172    0.000258485    0.000309987    0.000176238    0.000069000   \n",
       "6 0.000000000    0.000061600    0.000166923    0.000000000    0.000203732   \n",
       "  X811.309_2.773 X811.31_2.767 X819.211_2.398 X819.322_2.398 X819.378_2.399\n",
       "1 0.000000000    0             0.000069800    0.000098700    0.000000000   \n",
       "2 0.000119473    0             0.000152956    0.000187883    0.000092000   \n",
       "3 0.000150147    0             0.000158430    0.000183752    0.000165912   \n",
       "4 0.000152011    0             0.000165734    0.000212944    0.000182069   \n",
       "5 0.000174876    0             0.000182384    0.000226010    0.000238047   \n",
       "6 0.000394644    0             0.000067200    0.000132213    0.000085100   "
      ]
     },
     "metadata": {},
     "output_type": "display_data"
    },
    {
     "data": {
      "text/html": [
       "<ol class=list-inline>\n",
       "\t<li>60</li>\n",
       "\t<li>70</li>\n",
       "</ol>\n"
      ],
      "text/latex": [
       "\\begin{enumerate*}\n",
       "\\item 60\n",
       "\\item 70\n",
       "\\end{enumerate*}\n"
      ],
      "text/markdown": [
       "1. 60\n",
       "2. 70\n",
       "\n",
       "\n"
      ],
      "text/plain": [
       "[1] 60 70"
      ]
     },
     "metadata": {},
     "output_type": "display_data"
    }
   ],
   "source": [
    "head(a)\n",
    "dim(a)"
   ]
  },
  {
   "cell_type": "code",
   "execution_count": 13,
   "metadata": {},
   "outputs": [
    {
     "data": {
      "text/html": [
       "<table>\n",
       "<thead><tr><th></th><th scope=col>filename</th><th scope=col>MouseID</th><th scope=col>Treatmentgroup</th><th scope=col>DPI</th><th scope=col>organ</th><th scope=col>well_position</th><th scope=col>plate</th><th scope=col>X268.105_0.35</th><th scope=col>X269.088_0.35</th><th scope=col>X111.044_2.768</th><th scope=col>...</th><th scope=col>X705.141_2.339</th><th scope=col>X776.148_2.398</th><th scope=col>X776.253_2.398</th><th scope=col>X776.411_2.398</th><th scope=col>X792.329_2.764</th><th scope=col>X811.309_2.773</th><th scope=col>X811.31_2.767</th><th scope=col>X819.211_2.398</th><th scope=col>X819.322_2.398</th><th scope=col>X819.378_2.399</th></tr></thead>\n",
       "<tbody>\n",
       "\t<tr><th scope=row>16</th><td>X581_Group3E_142dpi_RV_top_176_G_B4_P136.mzXML</td><td>581                                           </td><td>Group3E                                       </td><td>142dpi                                        </td><td>RV_top                                        </td><td>B4                                            </td><td>P136                                          </td><td>0.000000000                                   </td><td>0.000183314                                   </td><td>0.000107825                                   </td><td>...                                           </td><td>0.000129379                                   </td><td>0.00e+00                                      </td><td>0.00000000                                    </td><td>0.00e+00                                      </td><td>0.000224340                                   </td><td>0e+00                                         </td><td>0.000237525                                   </td><td>0.00e+00                                      </td><td>0.000000000                                   </td><td>0.000000000                                   </td></tr>\n",
       "\t<tr><th scope=row>17</th><td>X582_Group3E_142dpi_RV_top_177_G_B5_P136.mzXML</td><td>582                                           </td><td>Group3E                                       </td><td>142dpi                                        </td><td>RV_top                                        </td><td>B5                                            </td><td>P136                                          </td><td>0.000000000                                   </td><td>0.000992729                                   </td><td>0.000161823                                   </td><td>...                                           </td><td>0.000124496                                   </td><td>0.00e+00                                      </td><td>0.00000000                                    </td><td>0.00e+00                                      </td><td>0.000390484                                   </td><td>0e+00                                         </td><td>0.000375748                                   </td><td>0.00e+00                                      </td><td>0.000000000                                   </td><td>0.000000000                                   </td></tr>\n",
       "\t<tr><th scope=row>18</th><td>X583_Group3E_142dpi_RV_top_178_G_B6_P136.mzXML</td><td>583                                           </td><td>Group3E                                       </td><td>142dpi                                        </td><td>RV_top                                        </td><td>B6                                            </td><td>P136                                          </td><td>0.000081500                                   </td><td>0.000654834                                   </td><td>0.000090500                                   </td><td>...                                           </td><td>0.000112447                                   </td><td>5.12e-05                                      </td><td>0.00014672                                    </td><td>5.81e-05                                      </td><td>0.000194735                                   </td><td>9e-05                                         </td><td>0.000240641                                   </td><td>5.07e-05                                      </td><td>0.000111762                                   </td><td>0.000143191                                   </td></tr>\n",
       "\t<tr><th scope=row>19</th><td>X584_Group3E_142dpi_RV_top_179_G_B7_P136.mzXML</td><td>584                                           </td><td>Group3E                                       </td><td>142dpi                                        </td><td>RV_top                                        </td><td>B7                                            </td><td>P136                                          </td><td>0.000194512                                   </td><td>0.000886580                                   </td><td>0.000117937                                   </td><td>...                                           </td><td>0.000000000                                   </td><td>0.00e+00                                      </td><td>0.00000000                                    </td><td>0.00e+00                                      </td><td>0.000232682                                   </td><td>0e+00                                         </td><td>0.000414144                                   </td><td>0.00e+00                                      </td><td>0.000000000                                   </td><td>0.000000000                                   </td></tr>\n",
       "\t<tr><th scope=row>20</th><td>X585_Group3E_142dpi_RV_top_180_G_B8_P136.mzXML</td><td>585                                           </td><td>Group3E                                       </td><td>142dpi                                        </td><td>RV_top                                        </td><td>B8                                            </td><td>P136                                          </td><td>0.000000000                                   </td><td>0.000345774                                   </td><td>0.000103153                                   </td><td>...                                           </td><td>0.000000000                                   </td><td>0.00e+00                                      </td><td>0.00000000                                    </td><td>0.00e+00                                      </td><td>0.000438966                                   </td><td>0e+00                                         </td><td>0.000245386                                   </td><td>0.00e+00                                      </td><td>0.000000000                                   </td><td>0.000000000                                   </td></tr>\n",
       "\t<tr><th scope=row>21</th><td>X611_Group9_142dpi_RV_top_181_G_B9_P136.mzXML </td><td>611                                           </td><td>Group9                                        </td><td>142dpi                                        </td><td>RV_top                                        </td><td>B9                                            </td><td>P136                                          </td><td>0.000000000                                   </td><td>0.000291075                                   </td><td>0.000157565                                   </td><td>...                                           </td><td>0.000133487                                   </td><td>5.06e-05                                      </td><td>0.00000000                                    </td><td>0.00e+00                                      </td><td>0.000294372                                   </td><td>0e+00                                         </td><td>0.000282893                                   </td><td>0.00e+00                                      </td><td>0.000054500                                   </td><td>0.000000000                                   </td></tr>\n",
       "</tbody>\n",
       "</table>\n"
      ],
      "text/latex": [
       "\\begin{tabular}{r|llllllllllllllllllllllllllllllllllllllllllllllllllllllllllllllllllllll}\n",
       "  & filename & MouseID & Treatmentgroup & DPI & organ & well\\_position & plate & X268.105\\_0.35 & X269.088\\_0.35 & X111.044\\_2.768 & ... & X705.141\\_2.339 & X776.148\\_2.398 & X776.253\\_2.398 & X776.411\\_2.398 & X792.329\\_2.764 & X811.309\\_2.773 & X811.31\\_2.767 & X819.211\\_2.398 & X819.322\\_2.398 & X819.378\\_2.399\\\\\n",
       "\\hline\n",
       "\t16 & X581\\_Group3E\\_142dpi\\_RV\\_top\\_176\\_G\\_B4\\_P136.mzXML & 581                                                            & Group3E                                                        & 142dpi                                                         & RV\\_top                                                       & B4                                                             & P136                                                           & 0.000000000                                                    & 0.000183314                                                    & 0.000107825                                                    & ...                                                            & 0.000129379                                                    & 0.00e+00                                                       & 0.00000000                                                     & 0.00e+00                                                       & 0.000224340                                                    & 0e+00                                                          & 0.000237525                                                    & 0.00e+00                                                       & 0.000000000                                                    & 0.000000000                                                   \\\\\n",
       "\t17 & X582\\_Group3E\\_142dpi\\_RV\\_top\\_177\\_G\\_B5\\_P136.mzXML & 582                                                            & Group3E                                                        & 142dpi                                                         & RV\\_top                                                       & B5                                                             & P136                                                           & 0.000000000                                                    & 0.000992729                                                    & 0.000161823                                                    & ...                                                            & 0.000124496                                                    & 0.00e+00                                                       & 0.00000000                                                     & 0.00e+00                                                       & 0.000390484                                                    & 0e+00                                                          & 0.000375748                                                    & 0.00e+00                                                       & 0.000000000                                                    & 0.000000000                                                   \\\\\n",
       "\t18 & X583\\_Group3E\\_142dpi\\_RV\\_top\\_178\\_G\\_B6\\_P136.mzXML & 583                                                            & Group3E                                                        & 142dpi                                                         & RV\\_top                                                       & B6                                                             & P136                                                           & 0.000081500                                                    & 0.000654834                                                    & 0.000090500                                                    & ...                                                            & 0.000112447                                                    & 5.12e-05                                                       & 0.00014672                                                     & 5.81e-05                                                       & 0.000194735                                                    & 9e-05                                                          & 0.000240641                                                    & 5.07e-05                                                       & 0.000111762                                                    & 0.000143191                                                   \\\\\n",
       "\t19 & X584\\_Group3E\\_142dpi\\_RV\\_top\\_179\\_G\\_B7\\_P136.mzXML & 584                                                            & Group3E                                                        & 142dpi                                                         & RV\\_top                                                       & B7                                                             & P136                                                           & 0.000194512                                                    & 0.000886580                                                    & 0.000117937                                                    & ...                                                            & 0.000000000                                                    & 0.00e+00                                                       & 0.00000000                                                     & 0.00e+00                                                       & 0.000232682                                                    & 0e+00                                                          & 0.000414144                                                    & 0.00e+00                                                       & 0.000000000                                                    & 0.000000000                                                   \\\\\n",
       "\t20 & X585\\_Group3E\\_142dpi\\_RV\\_top\\_180\\_G\\_B8\\_P136.mzXML & 585                                                            & Group3E                                                        & 142dpi                                                         & RV\\_top                                                       & B8                                                             & P136                                                           & 0.000000000                                                    & 0.000345774                                                    & 0.000103153                                                    & ...                                                            & 0.000000000                                                    & 0.00e+00                                                       & 0.00000000                                                     & 0.00e+00                                                       & 0.000438966                                                    & 0e+00                                                          & 0.000245386                                                    & 0.00e+00                                                       & 0.000000000                                                    & 0.000000000                                                   \\\\\n",
       "\t21 & X611\\_Group9\\_142dpi\\_RV\\_top\\_181\\_G\\_B9\\_P136.mzXML  & 611                                                            & Group9                                                         & 142dpi                                                         & RV\\_top                                                       & B9                                                             & P136                                                           & 0.000000000                                                    & 0.000291075                                                    & 0.000157565                                                    & ...                                                            & 0.000133487                                                    & 5.06e-05                                                       & 0.00000000                                                     & 0.00e+00                                                       & 0.000294372                                                    & 0e+00                                                          & 0.000282893                                                    & 0.00e+00                                                       & 0.000054500                                                    & 0.000000000                                                   \\\\\n",
       "\\end{tabular}\n"
      ],
      "text/markdown": [
       "\n",
       "| <!--/--> | filename | MouseID | Treatmentgroup | DPI | organ | well_position | plate | X268.105_0.35 | X269.088_0.35 | X111.044_2.768 | ... | X705.141_2.339 | X776.148_2.398 | X776.253_2.398 | X776.411_2.398 | X792.329_2.764 | X811.309_2.773 | X811.31_2.767 | X819.211_2.398 | X819.322_2.398 | X819.378_2.399 |\n",
       "|---|---|---|---|---|---|---|---|---|---|---|---|---|---|---|---|---|---|---|---|---|---|\n",
       "| 16 | X581_Group3E_142dpi_RV_top_176_G_B4_P136.mzXML | 581                                            | Group3E                                        | 142dpi                                         | RV_top                                         | B4                                             | P136                                           | 0.000000000                                    | 0.000183314                                    | 0.000107825                                    | ...                                            | 0.000129379                                    | 0.00e+00                                       | 0.00000000                                     | 0.00e+00                                       | 0.000224340                                    | 0e+00                                          | 0.000237525                                    | 0.00e+00                                       | 0.000000000                                    | 0.000000000                                    |\n",
       "| 17 | X582_Group3E_142dpi_RV_top_177_G_B5_P136.mzXML | 582                                            | Group3E                                        | 142dpi                                         | RV_top                                         | B5                                             | P136                                           | 0.000000000                                    | 0.000992729                                    | 0.000161823                                    | ...                                            | 0.000124496                                    | 0.00e+00                                       | 0.00000000                                     | 0.00e+00                                       | 0.000390484                                    | 0e+00                                          | 0.000375748                                    | 0.00e+00                                       | 0.000000000                                    | 0.000000000                                    |\n",
       "| 18 | X583_Group3E_142dpi_RV_top_178_G_B6_P136.mzXML | 583                                            | Group3E                                        | 142dpi                                         | RV_top                                         | B6                                             | P136                                           | 0.000081500                                    | 0.000654834                                    | 0.000090500                                    | ...                                            | 0.000112447                                    | 5.12e-05                                       | 0.00014672                                     | 5.81e-05                                       | 0.000194735                                    | 9e-05                                          | 0.000240641                                    | 5.07e-05                                       | 0.000111762                                    | 0.000143191                                    |\n",
       "| 19 | X584_Group3E_142dpi_RV_top_179_G_B7_P136.mzXML | 584                                            | Group3E                                        | 142dpi                                         | RV_top                                         | B7                                             | P136                                           | 0.000194512                                    | 0.000886580                                    | 0.000117937                                    | ...                                            | 0.000000000                                    | 0.00e+00                                       | 0.00000000                                     | 0.00e+00                                       | 0.000232682                                    | 0e+00                                          | 0.000414144                                    | 0.00e+00                                       | 0.000000000                                    | 0.000000000                                    |\n",
       "| 20 | X585_Group3E_142dpi_RV_top_180_G_B8_P136.mzXML | 585                                            | Group3E                                        | 142dpi                                         | RV_top                                         | B8                                             | P136                                           | 0.000000000                                    | 0.000345774                                    | 0.000103153                                    | ...                                            | 0.000000000                                    | 0.00e+00                                       | 0.00000000                                     | 0.00e+00                                       | 0.000438966                                    | 0e+00                                          | 0.000245386                                    | 0.00e+00                                       | 0.000000000                                    | 0.000000000                                    |\n",
       "| 21 | X611_Group9_142dpi_RV_top_181_G_B9_P136.mzXML  | 611                                            | Group9                                         | 142dpi                                         | RV_top                                         | B9                                             | P136                                           | 0.000000000                                    | 0.000291075                                    | 0.000157565                                    | ...                                            | 0.000133487                                    | 5.06e-05                                       | 0.00000000                                     | 0.00e+00                                       | 0.000294372                                    | 0e+00                                          | 0.000282893                                    | 0.00e+00                                       | 0.000054500                                    | 0.000000000                                    |\n",
       "\n"
      ],
      "text/plain": [
       "   filename                                       MouseID Treatmentgroup DPI   \n",
       "16 X581_Group3E_142dpi_RV_top_176_G_B4_P136.mzXML 581     Group3E        142dpi\n",
       "17 X582_Group3E_142dpi_RV_top_177_G_B5_P136.mzXML 582     Group3E        142dpi\n",
       "18 X583_Group3E_142dpi_RV_top_178_G_B6_P136.mzXML 583     Group3E        142dpi\n",
       "19 X584_Group3E_142dpi_RV_top_179_G_B7_P136.mzXML 584     Group3E        142dpi\n",
       "20 X585_Group3E_142dpi_RV_top_180_G_B8_P136.mzXML 585     Group3E        142dpi\n",
       "21 X611_Group9_142dpi_RV_top_181_G_B9_P136.mzXML  611     Group9         142dpi\n",
       "   organ  well_position plate X268.105_0.35 X269.088_0.35 X111.044_2.768 ...\n",
       "16 RV_top B4            P136  0.000000000   0.000183314   0.000107825    ...\n",
       "17 RV_top B5            P136  0.000000000   0.000992729   0.000161823    ...\n",
       "18 RV_top B6            P136  0.000081500   0.000654834   0.000090500    ...\n",
       "19 RV_top B7            P136  0.000194512   0.000886580   0.000117937    ...\n",
       "20 RV_top B8            P136  0.000000000   0.000345774   0.000103153    ...\n",
       "21 RV_top B9            P136  0.000000000   0.000291075   0.000157565    ...\n",
       "   X705.141_2.339 X776.148_2.398 X776.253_2.398 X776.411_2.398 X792.329_2.764\n",
       "16 0.000129379    0.00e+00       0.00000000     0.00e+00       0.000224340   \n",
       "17 0.000124496    0.00e+00       0.00000000     0.00e+00       0.000390484   \n",
       "18 0.000112447    5.12e-05       0.00014672     5.81e-05       0.000194735   \n",
       "19 0.000000000    0.00e+00       0.00000000     0.00e+00       0.000232682   \n",
       "20 0.000000000    0.00e+00       0.00000000     0.00e+00       0.000438966   \n",
       "21 0.000133487    5.06e-05       0.00000000     0.00e+00       0.000294372   \n",
       "   X811.309_2.773 X811.31_2.767 X819.211_2.398 X819.322_2.398 X819.378_2.399\n",
       "16 0e+00          0.000237525   0.00e+00       0.000000000    0.000000000   \n",
       "17 0e+00          0.000375748   0.00e+00       0.000000000    0.000000000   \n",
       "18 9e-05          0.000240641   5.07e-05       0.000111762    0.000143191   \n",
       "19 0e+00          0.000414144   0.00e+00       0.000000000    0.000000000   \n",
       "20 0e+00          0.000245386   0.00e+00       0.000000000    0.000000000   \n",
       "21 0e+00          0.000282893   0.00e+00       0.000054500    0.000000000   "
      ]
     },
     "metadata": {},
     "output_type": "display_data"
    },
    {
     "data": {
      "text/html": [
       "<ol class=list-inline>\n",
       "\t<li>30</li>\n",
       "\t<li>70</li>\n",
       "</ol>\n"
      ],
      "text/latex": [
       "\\begin{enumerate*}\n",
       "\\item 30\n",
       "\\item 70\n",
       "\\end{enumerate*}\n"
      ],
      "text/markdown": [
       "1. 30\n",
       "2. 70\n",
       "\n",
       "\n"
      ],
      "text/plain": [
       "[1] 30 70"
      ]
     },
     "metadata": {},
     "output_type": "display_data"
    }
   ],
   "source": [
    "# choose the lung posistion\n",
    "features_pos<-droplevels(subset(a, a$Treatmentgroup==c(\"Group9\")|a$Treatmentgroup==c(\"Group3E\")))\n",
    "head(features_pos)\n",
    "dim(features_pos)"
   ]
  },
  {
   "cell_type": "code",
   "execution_count": 14,
   "metadata": {
    "scrolled": false
   },
   "outputs": [
    {
     "data": {
      "text/html": [
       "<table>\n",
       "<thead><tr><th></th><th scope=col>X268.105_0.35</th><th scope=col>X269.088_0.35</th><th scope=col>X111.044_2.768</th><th scope=col>X122.082_0.534</th><th scope=col>X130.087_0.452</th><th scope=col>X137.046_0.35</th><th scope=col>X142.035_0.315</th><th scope=col>X172.134_2.343</th><th scope=col>X175.148_2.71</th><th scope=col>X198.15_2.471</th><th scope=col>...</th><th scope=col>X705.141_2.339</th><th scope=col>X776.148_2.398</th><th scope=col>X776.253_2.398</th><th scope=col>X776.411_2.398</th><th scope=col>X792.329_2.764</th><th scope=col>X811.309_2.773</th><th scope=col>X811.31_2.767</th><th scope=col>X819.211_2.398</th><th scope=col>X819.322_2.398</th><th scope=col>X819.378_2.399</th></tr></thead>\n",
       "<tbody>\n",
       "\t<tr><th scope=row>16</th><td>0.000000000</td><td>0.000183314</td><td>0.000107825</td><td>0.000309360</td><td>0.001970824</td><td>0.003522976</td><td>0.000556528</td><td>0.000102431</td><td>0.000498459</td><td>0.000054300</td><td>...        </td><td>0.000129379</td><td>0.00e+00   </td><td>0.00000000 </td><td>0.00e+00   </td><td>0.000224340</td><td>0e+00      </td><td>0.000237525</td><td>0.00e+00   </td><td>0.000000000</td><td>0.000000000</td></tr>\n",
       "\t<tr><th scope=row>17</th><td>0.000000000</td><td>0.000992729</td><td>0.000161823</td><td>0.000092100</td><td>0.001840271</td><td>0.005114871</td><td>0.000622445</td><td>0.000107426</td><td>0.000453085</td><td>0.000058000</td><td>...        </td><td>0.000124496</td><td>0.00e+00   </td><td>0.00000000 </td><td>0.00e+00   </td><td>0.000390484</td><td>0e+00      </td><td>0.000375748</td><td>0.00e+00   </td><td>0.000000000</td><td>0.000000000</td></tr>\n",
       "\t<tr><th scope=row>18</th><td>0.000081500</td><td>0.000654834</td><td>0.000090500</td><td>0.000067900</td><td>0.001293540</td><td>0.006032218</td><td>0.000696770</td><td>0.000070400</td><td>0.000419352</td><td>0.000078200</td><td>...        </td><td>0.000112447</td><td>5.12e-05   </td><td>0.00014672 </td><td>5.81e-05   </td><td>0.000194735</td><td>9e-05      </td><td>0.000240641</td><td>5.07e-05   </td><td>0.000111762</td><td>0.000143191</td></tr>\n",
       "\t<tr><th scope=row>19</th><td>0.000194512</td><td>0.000886580</td><td>0.000117937</td><td>0.000000000</td><td>0.001773159</td><td>0.007929656</td><td>0.001007727</td><td>0.000263573</td><td>0.000504297</td><td>0.000114368</td><td>...        </td><td>0.000000000</td><td>0.00e+00   </td><td>0.00000000 </td><td>0.00e+00   </td><td>0.000232682</td><td>0e+00      </td><td>0.000414144</td><td>0.00e+00   </td><td>0.000000000</td><td>0.000000000</td></tr>\n",
       "\t<tr><th scope=row>20</th><td>0.000000000</td><td>0.000345774</td><td>0.000103153</td><td>0.000163057</td><td>0.001036544</td><td>0.003034769</td><td>0.000714063</td><td>0.000254360</td><td>0.000504312</td><td>0.000124318</td><td>...        </td><td>0.000000000</td><td>0.00e+00   </td><td>0.00000000 </td><td>0.00e+00   </td><td>0.000438966</td><td>0e+00      </td><td>0.000245386</td><td>0.00e+00   </td><td>0.000000000</td><td>0.000000000</td></tr>\n",
       "\t<tr><th scope=row>21</th><td>0.000000000</td><td>0.000291075</td><td>0.000157565</td><td>0.000507299</td><td>0.002120444</td><td>0.003301520</td><td>0.000807527</td><td>0.000201194</td><td>0.000582298</td><td>0.000190987</td><td>...        </td><td>0.000133487</td><td>5.06e-05   </td><td>0.00000000 </td><td>0.00e+00   </td><td>0.000294372</td><td>0e+00      </td><td>0.000282893</td><td>0.00e+00   </td><td>0.000054500</td><td>0.000000000</td></tr>\n",
       "</tbody>\n",
       "</table>\n"
      ],
      "text/latex": [
       "\\begin{tabular}{r|lllllllllllllllllllllllllllllllllllllllllllllllllllllllllllllll}\n",
       "  & X268.105\\_0.35 & X269.088\\_0.35 & X111.044\\_2.768 & X122.082\\_0.534 & X130.087\\_0.452 & X137.046\\_0.35 & X142.035\\_0.315 & X172.134\\_2.343 & X175.148\\_2.71 & X198.15\\_2.471 & ... & X705.141\\_2.339 & X776.148\\_2.398 & X776.253\\_2.398 & X776.411\\_2.398 & X792.329\\_2.764 & X811.309\\_2.773 & X811.31\\_2.767 & X819.211\\_2.398 & X819.322\\_2.398 & X819.378\\_2.399\\\\\n",
       "\\hline\n",
       "\t16 & 0.000000000 & 0.000183314 & 0.000107825 & 0.000309360 & 0.001970824 & 0.003522976 & 0.000556528 & 0.000102431 & 0.000498459 & 0.000054300 & ...         & 0.000129379 & 0.00e+00    & 0.00000000  & 0.00e+00    & 0.000224340 & 0e+00       & 0.000237525 & 0.00e+00    & 0.000000000 & 0.000000000\\\\\n",
       "\t17 & 0.000000000 & 0.000992729 & 0.000161823 & 0.000092100 & 0.001840271 & 0.005114871 & 0.000622445 & 0.000107426 & 0.000453085 & 0.000058000 & ...         & 0.000124496 & 0.00e+00    & 0.00000000  & 0.00e+00    & 0.000390484 & 0e+00       & 0.000375748 & 0.00e+00    & 0.000000000 & 0.000000000\\\\\n",
       "\t18 & 0.000081500 & 0.000654834 & 0.000090500 & 0.000067900 & 0.001293540 & 0.006032218 & 0.000696770 & 0.000070400 & 0.000419352 & 0.000078200 & ...         & 0.000112447 & 5.12e-05    & 0.00014672  & 5.81e-05    & 0.000194735 & 9e-05       & 0.000240641 & 5.07e-05    & 0.000111762 & 0.000143191\\\\\n",
       "\t19 & 0.000194512 & 0.000886580 & 0.000117937 & 0.000000000 & 0.001773159 & 0.007929656 & 0.001007727 & 0.000263573 & 0.000504297 & 0.000114368 & ...         & 0.000000000 & 0.00e+00    & 0.00000000  & 0.00e+00    & 0.000232682 & 0e+00       & 0.000414144 & 0.00e+00    & 0.000000000 & 0.000000000\\\\\n",
       "\t20 & 0.000000000 & 0.000345774 & 0.000103153 & 0.000163057 & 0.001036544 & 0.003034769 & 0.000714063 & 0.000254360 & 0.000504312 & 0.000124318 & ...         & 0.000000000 & 0.00e+00    & 0.00000000  & 0.00e+00    & 0.000438966 & 0e+00       & 0.000245386 & 0.00e+00    & 0.000000000 & 0.000000000\\\\\n",
       "\t21 & 0.000000000 & 0.000291075 & 0.000157565 & 0.000507299 & 0.002120444 & 0.003301520 & 0.000807527 & 0.000201194 & 0.000582298 & 0.000190987 & ...         & 0.000133487 & 5.06e-05    & 0.00000000  & 0.00e+00    & 0.000294372 & 0e+00       & 0.000282893 & 0.00e+00    & 0.000054500 & 0.000000000\\\\\n",
       "\\end{tabular}\n"
      ],
      "text/markdown": [
       "\n",
       "| <!--/--> | X268.105_0.35 | X269.088_0.35 | X111.044_2.768 | X122.082_0.534 | X130.087_0.452 | X137.046_0.35 | X142.035_0.315 | X172.134_2.343 | X175.148_2.71 | X198.15_2.471 | ... | X705.141_2.339 | X776.148_2.398 | X776.253_2.398 | X776.411_2.398 | X792.329_2.764 | X811.309_2.773 | X811.31_2.767 | X819.211_2.398 | X819.322_2.398 | X819.378_2.399 |\n",
       "|---|---|---|---|---|---|---|---|---|---|---|---|---|---|---|---|---|---|---|---|---|---|\n",
       "| 16 | 0.000000000 | 0.000183314 | 0.000107825 | 0.000309360 | 0.001970824 | 0.003522976 | 0.000556528 | 0.000102431 | 0.000498459 | 0.000054300 | ...         | 0.000129379 | 0.00e+00    | 0.00000000  | 0.00e+00    | 0.000224340 | 0e+00       | 0.000237525 | 0.00e+00    | 0.000000000 | 0.000000000 |\n",
       "| 17 | 0.000000000 | 0.000992729 | 0.000161823 | 0.000092100 | 0.001840271 | 0.005114871 | 0.000622445 | 0.000107426 | 0.000453085 | 0.000058000 | ...         | 0.000124496 | 0.00e+00    | 0.00000000  | 0.00e+00    | 0.000390484 | 0e+00       | 0.000375748 | 0.00e+00    | 0.000000000 | 0.000000000 |\n",
       "| 18 | 0.000081500 | 0.000654834 | 0.000090500 | 0.000067900 | 0.001293540 | 0.006032218 | 0.000696770 | 0.000070400 | 0.000419352 | 0.000078200 | ...         | 0.000112447 | 5.12e-05    | 0.00014672  | 5.81e-05    | 0.000194735 | 9e-05       | 0.000240641 | 5.07e-05    | 0.000111762 | 0.000143191 |\n",
       "| 19 | 0.000194512 | 0.000886580 | 0.000117937 | 0.000000000 | 0.001773159 | 0.007929656 | 0.001007727 | 0.000263573 | 0.000504297 | 0.000114368 | ...         | 0.000000000 | 0.00e+00    | 0.00000000  | 0.00e+00    | 0.000232682 | 0e+00       | 0.000414144 | 0.00e+00    | 0.000000000 | 0.000000000 |\n",
       "| 20 | 0.000000000 | 0.000345774 | 0.000103153 | 0.000163057 | 0.001036544 | 0.003034769 | 0.000714063 | 0.000254360 | 0.000504312 | 0.000124318 | ...         | 0.000000000 | 0.00e+00    | 0.00000000  | 0.00e+00    | 0.000438966 | 0e+00       | 0.000245386 | 0.00e+00    | 0.000000000 | 0.000000000 |\n",
       "| 21 | 0.000000000 | 0.000291075 | 0.000157565 | 0.000507299 | 0.002120444 | 0.003301520 | 0.000807527 | 0.000201194 | 0.000582298 | 0.000190987 | ...         | 0.000133487 | 5.06e-05    | 0.00000000  | 0.00e+00    | 0.000294372 | 0e+00       | 0.000282893 | 0.00e+00    | 0.000054500 | 0.000000000 |\n",
       "\n"
      ],
      "text/plain": [
       "   X268.105_0.35 X269.088_0.35 X111.044_2.768 X122.082_0.534 X130.087_0.452\n",
       "16 0.000000000   0.000183314   0.000107825    0.000309360    0.001970824   \n",
       "17 0.000000000   0.000992729   0.000161823    0.000092100    0.001840271   \n",
       "18 0.000081500   0.000654834   0.000090500    0.000067900    0.001293540   \n",
       "19 0.000194512   0.000886580   0.000117937    0.000000000    0.001773159   \n",
       "20 0.000000000   0.000345774   0.000103153    0.000163057    0.001036544   \n",
       "21 0.000000000   0.000291075   0.000157565    0.000507299    0.002120444   \n",
       "   X137.046_0.35 X142.035_0.315 X172.134_2.343 X175.148_2.71 X198.15_2.471 ...\n",
       "16 0.003522976   0.000556528    0.000102431    0.000498459   0.000054300   ...\n",
       "17 0.005114871   0.000622445    0.000107426    0.000453085   0.000058000   ...\n",
       "18 0.006032218   0.000696770    0.000070400    0.000419352   0.000078200   ...\n",
       "19 0.007929656   0.001007727    0.000263573    0.000504297   0.000114368   ...\n",
       "20 0.003034769   0.000714063    0.000254360    0.000504312   0.000124318   ...\n",
       "21 0.003301520   0.000807527    0.000201194    0.000582298   0.000190987   ...\n",
       "   X705.141_2.339 X776.148_2.398 X776.253_2.398 X776.411_2.398 X792.329_2.764\n",
       "16 0.000129379    0.00e+00       0.00000000     0.00e+00       0.000224340   \n",
       "17 0.000124496    0.00e+00       0.00000000     0.00e+00       0.000390484   \n",
       "18 0.000112447    5.12e-05       0.00014672     5.81e-05       0.000194735   \n",
       "19 0.000000000    0.00e+00       0.00000000     0.00e+00       0.000232682   \n",
       "20 0.000000000    0.00e+00       0.00000000     0.00e+00       0.000438966   \n",
       "21 0.000133487    5.06e-05       0.00000000     0.00e+00       0.000294372   \n",
       "   X811.309_2.773 X811.31_2.767 X819.211_2.398 X819.322_2.398 X819.378_2.399\n",
       "16 0e+00          0.000237525   0.00e+00       0.000000000    0.000000000   \n",
       "17 0e+00          0.000375748   0.00e+00       0.000000000    0.000000000   \n",
       "18 9e-05          0.000240641   5.07e-05       0.000111762    0.000143191   \n",
       "19 0e+00          0.000414144   0.00e+00       0.000000000    0.000000000   \n",
       "20 0e+00          0.000245386   0.00e+00       0.000000000    0.000000000   \n",
       "21 0e+00          0.000282893   0.00e+00       0.000054500    0.000000000   "
      ]
     },
     "metadata": {},
     "output_type": "display_data"
    },
    {
     "data": {
      "text/html": [
       "<dl class=dl-horizontal>\n",
       "\t<dt>X268.105_0.35</dt>\n",
       "\t\t<dd>1</dd>\n",
       "\t<dt>X269.088_0.35</dt>\n",
       "\t\t<dd>2</dd>\n",
       "\t<dt>X111.044_2.768</dt>\n",
       "\t\t<dd>3</dd>\n",
       "\t<dt>X122.082_0.534</dt>\n",
       "\t\t<dd>4</dd>\n",
       "\t<dt>X130.087_0.452</dt>\n",
       "\t\t<dd>5</dd>\n",
       "\t<dt>X137.046_0.35</dt>\n",
       "\t\t<dd>6</dd>\n",
       "</dl>\n"
      ],
      "text/latex": [
       "\\begin{description*}\n",
       "\\item[X268.105\\textbackslash{}\\_0.35] 1\n",
       "\\item[X269.088\\textbackslash{}\\_0.35] 2\n",
       "\\item[X111.044\\textbackslash{}\\_2.768] 3\n",
       "\\item[X122.082\\textbackslash{}\\_0.534] 4\n",
       "\\item[X130.087\\textbackslash{}\\_0.452] 5\n",
       "\\item[X137.046\\textbackslash{}\\_0.35] 6\n",
       "\\end{description*}\n"
      ],
      "text/markdown": [
       "X268.105_0.35\n",
       ":   1X269.088_0.35\n",
       ":   2X111.044_2.768\n",
       ":   3X122.082_0.534\n",
       ":   4X130.087_0.452\n",
       ":   5X137.046_0.35\n",
       ":   6\n",
       "\n"
      ],
      "text/plain": [
       " X268.105_0.35  X269.088_0.35 X111.044_2.768 X122.082_0.534 X130.087_0.452 \n",
       "             1              2              3              4              5 \n",
       " X137.046_0.35 \n",
       "             6 "
      ]
     },
     "metadata": {},
     "output_type": "display_data"
    },
    {
     "data": {
      "text/html": [
       "<table>\n",
       "<thead><tr><th></th><th scope=col>X268.105_0.35</th><th scope=col>X269.088_0.35</th><th scope=col>X111.044_2.768</th><th scope=col>X122.082_0.534</th><th scope=col>X130.087_0.452</th><th scope=col>X137.046_0.35</th><th scope=col>X142.035_0.315</th><th scope=col>X172.134_2.343</th><th scope=col>X175.148_2.71</th><th scope=col>X198.15_2.471</th><th scope=col>...</th><th scope=col>X705.141_2.339</th><th scope=col>X776.148_2.398</th><th scope=col>X776.253_2.398</th><th scope=col>X776.411_2.398</th><th scope=col>X792.329_2.764</th><th scope=col>X811.309_2.773</th><th scope=col>X811.31_2.767</th><th scope=col>X819.211_2.398</th><th scope=col>X819.322_2.398</th><th scope=col>X819.378_2.399</th></tr></thead>\n",
       "<tbody>\n",
       "\t<tr><th scope=row>16</th><td>0.000000000</td><td>0.000183314</td><td>0.000107825</td><td>0.000309360</td><td>0.001970824</td><td>0.003522976</td><td>0.000556528</td><td>0.000102431</td><td>0.000498459</td><td>0.000054300</td><td>...        </td><td>0.000129379</td><td>0.000000000</td><td>0.000000000</td><td>0.000000000</td><td>0.000224340</td><td>0.000000000</td><td>0.000237525</td><td>0.000000000</td><td>0.000000000</td><td>0.000000000</td></tr>\n",
       "\t<tr><th scope=row>17</th><td>0.000000000</td><td>0.000992729</td><td>0.000161823</td><td>0.000092100</td><td>0.001840271</td><td>0.005114871</td><td>0.000622445</td><td>0.000107426</td><td>0.000453085</td><td>0.000058000</td><td>...        </td><td>0.000124496</td><td>0.000000000</td><td>0.000000000</td><td>0.000000000</td><td>0.000390484</td><td>0.000000000</td><td>0.000375748</td><td>0.000000000</td><td>0.000000000</td><td>0.000000000</td></tr>\n",
       "\t<tr><th scope=row>18</th><td>0.000081500</td><td>0.000654834</td><td>0.000090500</td><td>0.000067900</td><td>0.001293540</td><td>0.006032218</td><td>0.000696770</td><td>0.000070400</td><td>0.000419352</td><td>0.000078200</td><td>...        </td><td>0.000112447</td><td>0.000051200</td><td>0.000146720</td><td>0.000058100</td><td>0.000194735</td><td>0.000090000</td><td>0.000240641</td><td>0.000050700</td><td>0.000111762</td><td>0.000143191</td></tr>\n",
       "\t<tr><th scope=row>19</th><td>0.000194512</td><td>0.000886580</td><td>0.000117937</td><td>0.000000000</td><td>0.001773159</td><td>0.007929656</td><td>0.001007727</td><td>0.000263573</td><td>0.000504297</td><td>0.000114368</td><td>...        </td><td>0.000000000</td><td>0.000000000</td><td>0.000000000</td><td>0.000000000</td><td>0.000232682</td><td>0.000000000</td><td>0.000414144</td><td>0.000000000</td><td>0.000000000</td><td>0.000000000</td></tr>\n",
       "\t<tr><th scope=row>20</th><td>0.000000000</td><td>0.000345774</td><td>0.000103153</td><td>0.000163057</td><td>0.001036544</td><td>0.003034769</td><td>0.000714063</td><td>0.000254360</td><td>0.000504312</td><td>0.000124318</td><td>...        </td><td>0.000000000</td><td>0.000000000</td><td>0.000000000</td><td>0.000000000</td><td>0.000438966</td><td>0.000000000</td><td>0.000245386</td><td>0.000000000</td><td>0.000000000</td><td>0.000000000</td></tr>\n",
       "\t<tr><th scope=row>21</th><td>0.000000000</td><td>0.000291075</td><td>0.000157565</td><td>0.000507299</td><td>0.002120444</td><td>0.003301520</td><td>0.000807527</td><td>0.000201194</td><td>0.000582298</td><td>0.000190987</td><td>...        </td><td>0.000133487</td><td>0.000050600</td><td>0.000000000</td><td>0.000000000</td><td>0.000294372</td><td>0.000000000</td><td>0.000282893</td><td>0.000000000</td><td>0.000054500</td><td>0.000000000</td></tr>\n",
       "\t<tr><th scope=row>22</th><td>0.000000000</td><td>0.001152732</td><td>0.000168404</td><td>0.000000000</td><td>0.002132402</td><td>0.005181907</td><td>0.001209674</td><td>0.000256615</td><td>0.000590771</td><td>0.000151750</td><td>...        </td><td>0.000136490</td><td>0.000000000</td><td>0.000049100</td><td>0.000000000</td><td>0.000323449</td><td>0.000000000</td><td>0.000313258</td><td>0.000000000</td><td>0.000051400</td><td>0.000056500</td></tr>\n",
       "\t<tr><th scope=row>23</th><td>0.000228064</td><td>0.001298637</td><td>0.000041700</td><td>0.000286968</td><td>0.000630767</td><td>0.008109856</td><td>0.001176724</td><td>0.000189397</td><td>0.000540657</td><td>0.000125412</td><td>...        </td><td>0.000049300</td><td>0.000000000</td><td>0.000000000</td><td>0.000000000</td><td>0.000111765</td><td>0.000000000</td><td>0.000199828</td><td>0.000000000</td><td>0.000000000</td><td>0.000000000</td></tr>\n",
       "\t<tr><th scope=row>24</th><td>0.000000000</td><td>0.001548175</td><td>0.000000000</td><td>0.000000000</td><td>0.002295338</td><td>0.006731196</td><td>0.001669337</td><td>0.000146759</td><td>0.000693313</td><td>0.000102044</td><td>...        </td><td>0.000082100</td><td>0.000172190</td><td>0.000271134</td><td>0.000181289</td><td>0.000000000</td><td>0.000000000</td><td>0.000128677</td><td>0.000207812</td><td>0.000235970</td><td>0.000247892</td></tr>\n",
       "\t<tr><th scope=row>25</th><td>0.001402512</td><td>0.001330846</td><td>0.000000000</td><td>0.000557241</td><td>0.000850856</td><td>0.010376287</td><td>0.001853897</td><td>0.000280669</td><td>0.001099886</td><td>0.000208332</td><td>...        </td><td>0.000000000</td><td>0.000164987</td><td>0.000085600</td><td>0.000000000</td><td>0.000000000</td><td>0.000000000</td><td>0.000000000</td><td>0.000170816</td><td>0.000089900</td><td>0.000098500</td></tr>\n",
       "\t<tr><th scope=row>31</th><td>0.000000000</td><td>0.000777921</td><td>0.000149596</td><td>0.000093400</td><td>0.001288794</td><td>0.007488937</td><td>0.001730002</td><td>0.000203944</td><td>0.000603759</td><td>0.000067700</td><td>...        </td><td>0.000097900</td><td>0.000060600</td><td>0.000086500</td><td>0.000000000</td><td>0.000332228</td><td>0.000000000</td><td>0.000165920</td><td>0.000142555</td><td>0.000073800</td><td>0.000068800</td></tr>\n",
       "\t<tr><th scope=row>32</th><td>0.000184124</td><td>0.001199256</td><td>0.000169725</td><td>0.000000000</td><td>0.001855259</td><td>0.003756643</td><td>0.001178756</td><td>0.000107690</td><td>0.000630378</td><td>0.000068800</td><td>...        </td><td>0.000073200</td><td>0.000000000</td><td>0.000044400</td><td>0.000000000</td><td>0.000389766</td><td>0.000000000</td><td>0.000117153</td><td>0.000000000</td><td>0.000059900</td><td>0.000000000</td></tr>\n",
       "\t<tr><th scope=row>33</th><td>0.000000000</td><td>0.000493801</td><td>0.000172118</td><td>0.000000000</td><td>0.001944185</td><td>0.003007234</td><td>0.001045994</td><td>0.000131321</td><td>0.000721964</td><td>0.000199916</td><td>...        </td><td>0.000000000</td><td>0.000000000</td><td>0.000000000</td><td>0.000000000</td><td>0.000260496</td><td>0.000000000</td><td>0.000240681</td><td>0.000000000</td><td>0.000000000</td><td>0.000000000</td></tr>\n",
       "\t<tr><th scope=row>34</th><td>0.000000000</td><td>0.001289220</td><td>0.000067900</td><td>0.000188659</td><td>0.002098471</td><td>0.006139145</td><td>0.000993425</td><td>0.000049000</td><td>0.000586009</td><td>0.000066500</td><td>...        </td><td>0.000000000</td><td>0.000000000</td><td>0.000000000</td><td>0.000000000</td><td>0.000261364</td><td>0.000000000</td><td>0.000232531</td><td>0.000000000</td><td>0.000000000</td><td>0.000000000</td></tr>\n",
       "\t<tr><th scope=row>35</th><td>0.000000000</td><td>0.001207578</td><td>0.000130190</td><td>0.000000000</td><td>0.001724277</td><td>0.008432595</td><td>0.000899896</td><td>0.000134492</td><td>0.000507595</td><td>0.000067200</td><td>...        </td><td>0.000000000</td><td>0.000000000</td><td>0.000000000</td><td>0.000000000</td><td>0.000291471</td><td>0.000000000</td><td>0.000305123</td><td>0.000000000</td><td>0.000000000</td><td>0.000000000</td></tr>\n",
       "\t<tr><th scope=row>36</th><td>0.000245269</td><td>0.001312964</td><td>0.000097400</td><td>0.000304266</td><td>0.001737414</td><td>0.009111520</td><td>0.001069613</td><td>0.000175560</td><td>0.000713076</td><td>0.000164759</td><td>...        </td><td>0.000000000</td><td>0.000000000</td><td>0.000000000</td><td>0.000000000</td><td>0.000229189</td><td>0.000000000</td><td>0.000129372</td><td>0.000000000</td><td>0.000059100</td><td>0.000000000</td></tr>\n",
       "\t<tr><th scope=row>37</th><td>0.000000000</td><td>0.001830019</td><td>0.000057600</td><td>0.000000000</td><td>0.001919767</td><td>0.007639890</td><td>0.001018652</td><td>0.000152516</td><td>0.000705221</td><td>0.000075700</td><td>...        </td><td>0.000000000</td><td>0.000000000</td><td>0.000000000</td><td>0.000000000</td><td>0.000094400</td><td>0.000000000</td><td>0.000222285</td><td>0.000000000</td><td>0.000000000</td><td>0.000000000</td></tr>\n",
       "\t<tr><th scope=row>38</th><td>0.000000000</td><td>0.000923605</td><td>0.000000000</td><td>0.000000000</td><td>0.001712825</td><td>0.003460370</td><td>0.000914278</td><td>0.000146406</td><td>0.000711748</td><td>0.000182702</td><td>...        </td><td>0.000000000</td><td>0.000063600</td><td>0.000075800</td><td>0.000049600</td><td>0.000000000</td><td>0.000000000</td><td>0.000105363</td><td>0.000079800</td><td>0.000074100</td><td>0.000082100</td></tr>\n",
       "\t<tr><th scope=row>39</th><td>0.000000000</td><td>0.001266730</td><td>0.000000000</td><td>0.000317244</td><td>0.001744048</td><td>0.008689645</td><td>0.001083146</td><td>0.000129103</td><td>0.000752695</td><td>0.000142179</td><td>...        </td><td>0.000000000</td><td>0.000073800</td><td>0.000113037</td><td>0.000069800</td><td>0.000000000</td><td>0.000000000</td><td>0.000000000</td><td>0.000138988</td><td>0.000113093</td><td>0.000096800</td></tr>\n",
       "\t<tr><th scope=row>40</th><td>0.000123388</td><td>0.000531395</td><td>0.000057600</td><td>0.000000000</td><td>0.002151341</td><td>0.004393192</td><td>0.000967755</td><td>0.000274783</td><td>0.000800661</td><td>0.000169070</td><td>...        </td><td>0.000000000</td><td>0.000000000</td><td>0.000000000</td><td>0.000000000</td><td>0.000103819</td><td>0.000000000</td><td>0.000199344</td><td>0.000000000</td><td>0.000000000</td><td>0.000000000</td></tr>\n",
       "\t<tr><th scope=row>46</th><td>0.000000000</td><td>0.000187734</td><td>0.000126210</td><td>0.000000000</td><td>0.000839030</td><td>0.006712240</td><td>0.000591737</td><td>0.000000000</td><td>0.000503418</td><td>0.000060100</td><td>...        </td><td>0.000000000</td><td>0.000000000</td><td>0.000000000</td><td>0.000000000</td><td>0.000217658</td><td>0.000000000</td><td>0.000305344</td><td>0.000000000</td><td>0.000000000</td><td>0.000000000</td></tr>\n",
       "\t<tr><th scope=row>47</th><td>0.000000000</td><td>0.000851398</td><td>0.000089200</td><td>0.000000000</td><td>0.001176477</td><td>0.008204379</td><td>0.000712078</td><td>0.000027000</td><td>0.000399383</td><td>0.000121439</td><td>...        </td><td>0.000000000</td><td>0.000000000</td><td>0.000042900</td><td>0.000000000</td><td>0.000171192</td><td>0.000000000</td><td>0.000288835</td><td>0.000000000</td><td>0.000026200</td><td>0.000000000</td></tr>\n",
       "\t<tr><th scope=row>48</th><td>0.000000000</td><td>0.000716125</td><td>0.000100984</td><td>0.000222804</td><td>0.001905121</td><td>0.006692209</td><td>0.000658427</td><td>0.000051600</td><td>0.000566679</td><td>0.000137585</td><td>...        </td><td>0.000000000</td><td>0.000000000</td><td>0.000000000</td><td>0.000000000</td><td>0.000239513</td><td>0.000000000</td><td>0.000378241</td><td>0.000000000</td><td>0.000052100</td><td>0.000051000</td></tr>\n",
       "\t<tr><th scope=row>49</th><td>0.000000000</td><td>0.001828193</td><td>0.000051200</td><td>0.000192069</td><td>0.000536851</td><td>0.006771088</td><td>0.000875405</td><td>0.000092200</td><td>0.000561033</td><td>0.000065500</td><td>...        </td><td>0.000000000</td><td>0.000000000</td><td>0.000000000</td><td>0.000000000</td><td>0.000199046</td><td>0.000000000</td><td>0.000213200</td><td>0.000000000</td><td>0.000000000</td><td>0.000000000</td></tr>\n",
       "\t<tr><th scope=row>50</th><td>0.000000000</td><td>0.001688731</td><td>0.000055700</td><td>0.000000000</td><td>0.001206236</td><td>0.007434354</td><td>0.000930525</td><td>0.000103114</td><td>0.000644967</td><td>0.000082700</td><td>...        </td><td>0.000000000</td><td>0.000054900</td><td>0.000062700</td><td>0.000000000</td><td>0.000111896</td><td>0.000000000</td><td>0.000113423</td><td>0.000051500</td><td>0.000075400</td><td>0.000063400</td></tr>\n",
       "\t<tr><th scope=row>51</th><td>0.000000000</td><td>0.000133900</td><td>0.000087700</td><td>0.000244972</td><td>0.002354349</td><td>0.003708376</td><td>0.000635564</td><td>0.000122238</td><td>0.000779256</td><td>0.000229799</td><td>...        </td><td>0.000000000</td><td>0.000000000</td><td>0.000000000</td><td>0.000000000</td><td>0.000129536</td><td>0.000000000</td><td>0.000169727</td><td>0.000000000</td><td>0.000000000</td><td>0.000000000</td></tr>\n",
       "\t<tr><th scope=row>52</th><td>0.000000000</td><td>0.000899755</td><td>0.000000000</td><td>0.000352282</td><td>0.002044898</td><td>0.007739151</td><td>0.001038179</td><td>0.000122890</td><td>0.000862003</td><td>0.000168215</td><td>...        </td><td>0.000000000</td><td>0.000000000</td><td>0.000000000</td><td>0.000000000</td><td>0.000050900</td><td>0.000000000</td><td>0.000058600</td><td>0.000000000</td><td>0.000000000</td><td>0.000000000</td></tr>\n",
       "\t<tr><th scope=row>53</th><td>0.000000000</td><td>0.001434584</td><td>0.000000000</td><td>0.000000000</td><td>0.000654170</td><td>0.011247137</td><td>0.001359985</td><td>0.000051500</td><td>0.000780414</td><td>0.000161862</td><td>...        </td><td>0.000000000</td><td>0.000174508</td><td>0.000234414</td><td>0.000093500</td><td>0.000000000</td><td>0.000000000</td><td>0.000000000</td><td>0.000139678</td><td>0.000122343</td><td>0.000134707</td></tr>\n",
       "\t<tr><th scope=row>54</th><td>0.000000000</td><td>0.000926858</td><td>0.000043300</td><td>0.000157337</td><td>0.000965101</td><td>0.003185427</td><td>0.000840763</td><td>0.000053500</td><td>0.000657216</td><td>0.000168103</td><td>...        </td><td>0.000000000</td><td>0.000000000</td><td>0.000066600</td><td>0.000000000</td><td>0.000055500</td><td>0.000000000</td><td>0.000097900</td><td>0.000000000</td><td>0.000062900</td><td>0.000000000</td></tr>\n",
       "\t<tr><th scope=row>55</th><td>0.000000000</td><td>0.001930143</td><td>0.000000000</td><td>0.000331552</td><td>0.000882873</td><td>0.007915413</td><td>0.000943761</td><td>0.000047100</td><td>0.000688032</td><td>0.000139150</td><td>...        </td><td>0.000000000</td><td>0.000062500</td><td>0.000068200</td><td>0.000000000</td><td>0.000066500</td><td>0.000145597</td><td>0.000205320</td><td>0.000000000</td><td>0.000067800</td><td>0.000000000</td></tr>\n",
       "</tbody>\n",
       "</table>\n"
      ],
      "text/latex": [
       "\\begin{tabular}{r|lllllllllllllllllllllllllllllllllllllllllllllllllllllllllllllll}\n",
       "  & X268.105\\_0.35 & X269.088\\_0.35 & X111.044\\_2.768 & X122.082\\_0.534 & X130.087\\_0.452 & X137.046\\_0.35 & X142.035\\_0.315 & X172.134\\_2.343 & X175.148\\_2.71 & X198.15\\_2.471 & ... & X705.141\\_2.339 & X776.148\\_2.398 & X776.253\\_2.398 & X776.411\\_2.398 & X792.329\\_2.764 & X811.309\\_2.773 & X811.31\\_2.767 & X819.211\\_2.398 & X819.322\\_2.398 & X819.378\\_2.399\\\\\n",
       "\\hline\n",
       "\t16 & 0.000000000 & 0.000183314 & 0.000107825 & 0.000309360 & 0.001970824 & 0.003522976 & 0.000556528 & 0.000102431 & 0.000498459 & 0.000054300 & ...         & 0.000129379 & 0.000000000 & 0.000000000 & 0.000000000 & 0.000224340 & 0.000000000 & 0.000237525 & 0.000000000 & 0.000000000 & 0.000000000\\\\\n",
       "\t17 & 0.000000000 & 0.000992729 & 0.000161823 & 0.000092100 & 0.001840271 & 0.005114871 & 0.000622445 & 0.000107426 & 0.000453085 & 0.000058000 & ...         & 0.000124496 & 0.000000000 & 0.000000000 & 0.000000000 & 0.000390484 & 0.000000000 & 0.000375748 & 0.000000000 & 0.000000000 & 0.000000000\\\\\n",
       "\t18 & 0.000081500 & 0.000654834 & 0.000090500 & 0.000067900 & 0.001293540 & 0.006032218 & 0.000696770 & 0.000070400 & 0.000419352 & 0.000078200 & ...         & 0.000112447 & 0.000051200 & 0.000146720 & 0.000058100 & 0.000194735 & 0.000090000 & 0.000240641 & 0.000050700 & 0.000111762 & 0.000143191\\\\\n",
       "\t19 & 0.000194512 & 0.000886580 & 0.000117937 & 0.000000000 & 0.001773159 & 0.007929656 & 0.001007727 & 0.000263573 & 0.000504297 & 0.000114368 & ...         & 0.000000000 & 0.000000000 & 0.000000000 & 0.000000000 & 0.000232682 & 0.000000000 & 0.000414144 & 0.000000000 & 0.000000000 & 0.000000000\\\\\n",
       "\t20 & 0.000000000 & 0.000345774 & 0.000103153 & 0.000163057 & 0.001036544 & 0.003034769 & 0.000714063 & 0.000254360 & 0.000504312 & 0.000124318 & ...         & 0.000000000 & 0.000000000 & 0.000000000 & 0.000000000 & 0.000438966 & 0.000000000 & 0.000245386 & 0.000000000 & 0.000000000 & 0.000000000\\\\\n",
       "\t21 & 0.000000000 & 0.000291075 & 0.000157565 & 0.000507299 & 0.002120444 & 0.003301520 & 0.000807527 & 0.000201194 & 0.000582298 & 0.000190987 & ...         & 0.000133487 & 0.000050600 & 0.000000000 & 0.000000000 & 0.000294372 & 0.000000000 & 0.000282893 & 0.000000000 & 0.000054500 & 0.000000000\\\\\n",
       "\t22 & 0.000000000 & 0.001152732 & 0.000168404 & 0.000000000 & 0.002132402 & 0.005181907 & 0.001209674 & 0.000256615 & 0.000590771 & 0.000151750 & ...         & 0.000136490 & 0.000000000 & 0.000049100 & 0.000000000 & 0.000323449 & 0.000000000 & 0.000313258 & 0.000000000 & 0.000051400 & 0.000056500\\\\\n",
       "\t23 & 0.000228064 & 0.001298637 & 0.000041700 & 0.000286968 & 0.000630767 & 0.008109856 & 0.001176724 & 0.000189397 & 0.000540657 & 0.000125412 & ...         & 0.000049300 & 0.000000000 & 0.000000000 & 0.000000000 & 0.000111765 & 0.000000000 & 0.000199828 & 0.000000000 & 0.000000000 & 0.000000000\\\\\n",
       "\t24 & 0.000000000 & 0.001548175 & 0.000000000 & 0.000000000 & 0.002295338 & 0.006731196 & 0.001669337 & 0.000146759 & 0.000693313 & 0.000102044 & ...         & 0.000082100 & 0.000172190 & 0.000271134 & 0.000181289 & 0.000000000 & 0.000000000 & 0.000128677 & 0.000207812 & 0.000235970 & 0.000247892\\\\\n",
       "\t25 & 0.001402512 & 0.001330846 & 0.000000000 & 0.000557241 & 0.000850856 & 0.010376287 & 0.001853897 & 0.000280669 & 0.001099886 & 0.000208332 & ...         & 0.000000000 & 0.000164987 & 0.000085600 & 0.000000000 & 0.000000000 & 0.000000000 & 0.000000000 & 0.000170816 & 0.000089900 & 0.000098500\\\\\n",
       "\t31 & 0.000000000 & 0.000777921 & 0.000149596 & 0.000093400 & 0.001288794 & 0.007488937 & 0.001730002 & 0.000203944 & 0.000603759 & 0.000067700 & ...         & 0.000097900 & 0.000060600 & 0.000086500 & 0.000000000 & 0.000332228 & 0.000000000 & 0.000165920 & 0.000142555 & 0.000073800 & 0.000068800\\\\\n",
       "\t32 & 0.000184124 & 0.001199256 & 0.000169725 & 0.000000000 & 0.001855259 & 0.003756643 & 0.001178756 & 0.000107690 & 0.000630378 & 0.000068800 & ...         & 0.000073200 & 0.000000000 & 0.000044400 & 0.000000000 & 0.000389766 & 0.000000000 & 0.000117153 & 0.000000000 & 0.000059900 & 0.000000000\\\\\n",
       "\t33 & 0.000000000 & 0.000493801 & 0.000172118 & 0.000000000 & 0.001944185 & 0.003007234 & 0.001045994 & 0.000131321 & 0.000721964 & 0.000199916 & ...         & 0.000000000 & 0.000000000 & 0.000000000 & 0.000000000 & 0.000260496 & 0.000000000 & 0.000240681 & 0.000000000 & 0.000000000 & 0.000000000\\\\\n",
       "\t34 & 0.000000000 & 0.001289220 & 0.000067900 & 0.000188659 & 0.002098471 & 0.006139145 & 0.000993425 & 0.000049000 & 0.000586009 & 0.000066500 & ...         & 0.000000000 & 0.000000000 & 0.000000000 & 0.000000000 & 0.000261364 & 0.000000000 & 0.000232531 & 0.000000000 & 0.000000000 & 0.000000000\\\\\n",
       "\t35 & 0.000000000 & 0.001207578 & 0.000130190 & 0.000000000 & 0.001724277 & 0.008432595 & 0.000899896 & 0.000134492 & 0.000507595 & 0.000067200 & ...         & 0.000000000 & 0.000000000 & 0.000000000 & 0.000000000 & 0.000291471 & 0.000000000 & 0.000305123 & 0.000000000 & 0.000000000 & 0.000000000\\\\\n",
       "\t36 & 0.000245269 & 0.001312964 & 0.000097400 & 0.000304266 & 0.001737414 & 0.009111520 & 0.001069613 & 0.000175560 & 0.000713076 & 0.000164759 & ...         & 0.000000000 & 0.000000000 & 0.000000000 & 0.000000000 & 0.000229189 & 0.000000000 & 0.000129372 & 0.000000000 & 0.000059100 & 0.000000000\\\\\n",
       "\t37 & 0.000000000 & 0.001830019 & 0.000057600 & 0.000000000 & 0.001919767 & 0.007639890 & 0.001018652 & 0.000152516 & 0.000705221 & 0.000075700 & ...         & 0.000000000 & 0.000000000 & 0.000000000 & 0.000000000 & 0.000094400 & 0.000000000 & 0.000222285 & 0.000000000 & 0.000000000 & 0.000000000\\\\\n",
       "\t38 & 0.000000000 & 0.000923605 & 0.000000000 & 0.000000000 & 0.001712825 & 0.003460370 & 0.000914278 & 0.000146406 & 0.000711748 & 0.000182702 & ...         & 0.000000000 & 0.000063600 & 0.000075800 & 0.000049600 & 0.000000000 & 0.000000000 & 0.000105363 & 0.000079800 & 0.000074100 & 0.000082100\\\\\n",
       "\t39 & 0.000000000 & 0.001266730 & 0.000000000 & 0.000317244 & 0.001744048 & 0.008689645 & 0.001083146 & 0.000129103 & 0.000752695 & 0.000142179 & ...         & 0.000000000 & 0.000073800 & 0.000113037 & 0.000069800 & 0.000000000 & 0.000000000 & 0.000000000 & 0.000138988 & 0.000113093 & 0.000096800\\\\\n",
       "\t40 & 0.000123388 & 0.000531395 & 0.000057600 & 0.000000000 & 0.002151341 & 0.004393192 & 0.000967755 & 0.000274783 & 0.000800661 & 0.000169070 & ...         & 0.000000000 & 0.000000000 & 0.000000000 & 0.000000000 & 0.000103819 & 0.000000000 & 0.000199344 & 0.000000000 & 0.000000000 & 0.000000000\\\\\n",
       "\t46 & 0.000000000 & 0.000187734 & 0.000126210 & 0.000000000 & 0.000839030 & 0.006712240 & 0.000591737 & 0.000000000 & 0.000503418 & 0.000060100 & ...         & 0.000000000 & 0.000000000 & 0.000000000 & 0.000000000 & 0.000217658 & 0.000000000 & 0.000305344 & 0.000000000 & 0.000000000 & 0.000000000\\\\\n",
       "\t47 & 0.000000000 & 0.000851398 & 0.000089200 & 0.000000000 & 0.001176477 & 0.008204379 & 0.000712078 & 0.000027000 & 0.000399383 & 0.000121439 & ...         & 0.000000000 & 0.000000000 & 0.000042900 & 0.000000000 & 0.000171192 & 0.000000000 & 0.000288835 & 0.000000000 & 0.000026200 & 0.000000000\\\\\n",
       "\t48 & 0.000000000 & 0.000716125 & 0.000100984 & 0.000222804 & 0.001905121 & 0.006692209 & 0.000658427 & 0.000051600 & 0.000566679 & 0.000137585 & ...         & 0.000000000 & 0.000000000 & 0.000000000 & 0.000000000 & 0.000239513 & 0.000000000 & 0.000378241 & 0.000000000 & 0.000052100 & 0.000051000\\\\\n",
       "\t49 & 0.000000000 & 0.001828193 & 0.000051200 & 0.000192069 & 0.000536851 & 0.006771088 & 0.000875405 & 0.000092200 & 0.000561033 & 0.000065500 & ...         & 0.000000000 & 0.000000000 & 0.000000000 & 0.000000000 & 0.000199046 & 0.000000000 & 0.000213200 & 0.000000000 & 0.000000000 & 0.000000000\\\\\n",
       "\t50 & 0.000000000 & 0.001688731 & 0.000055700 & 0.000000000 & 0.001206236 & 0.007434354 & 0.000930525 & 0.000103114 & 0.000644967 & 0.000082700 & ...         & 0.000000000 & 0.000054900 & 0.000062700 & 0.000000000 & 0.000111896 & 0.000000000 & 0.000113423 & 0.000051500 & 0.000075400 & 0.000063400\\\\\n",
       "\t51 & 0.000000000 & 0.000133900 & 0.000087700 & 0.000244972 & 0.002354349 & 0.003708376 & 0.000635564 & 0.000122238 & 0.000779256 & 0.000229799 & ...         & 0.000000000 & 0.000000000 & 0.000000000 & 0.000000000 & 0.000129536 & 0.000000000 & 0.000169727 & 0.000000000 & 0.000000000 & 0.000000000\\\\\n",
       "\t52 & 0.000000000 & 0.000899755 & 0.000000000 & 0.000352282 & 0.002044898 & 0.007739151 & 0.001038179 & 0.000122890 & 0.000862003 & 0.000168215 & ...         & 0.000000000 & 0.000000000 & 0.000000000 & 0.000000000 & 0.000050900 & 0.000000000 & 0.000058600 & 0.000000000 & 0.000000000 & 0.000000000\\\\\n",
       "\t53 & 0.000000000 & 0.001434584 & 0.000000000 & 0.000000000 & 0.000654170 & 0.011247137 & 0.001359985 & 0.000051500 & 0.000780414 & 0.000161862 & ...         & 0.000000000 & 0.000174508 & 0.000234414 & 0.000093500 & 0.000000000 & 0.000000000 & 0.000000000 & 0.000139678 & 0.000122343 & 0.000134707\\\\\n",
       "\t54 & 0.000000000 & 0.000926858 & 0.000043300 & 0.000157337 & 0.000965101 & 0.003185427 & 0.000840763 & 0.000053500 & 0.000657216 & 0.000168103 & ...         & 0.000000000 & 0.000000000 & 0.000066600 & 0.000000000 & 0.000055500 & 0.000000000 & 0.000097900 & 0.000000000 & 0.000062900 & 0.000000000\\\\\n",
       "\t55 & 0.000000000 & 0.001930143 & 0.000000000 & 0.000331552 & 0.000882873 & 0.007915413 & 0.000943761 & 0.000047100 & 0.000688032 & 0.000139150 & ...         & 0.000000000 & 0.000062500 & 0.000068200 & 0.000000000 & 0.000066500 & 0.000145597 & 0.000205320 & 0.000000000 & 0.000067800 & 0.000000000\\\\\n",
       "\\end{tabular}\n"
      ],
      "text/markdown": [
       "\n",
       "| <!--/--> | X268.105_0.35 | X269.088_0.35 | X111.044_2.768 | X122.082_0.534 | X130.087_0.452 | X137.046_0.35 | X142.035_0.315 | X172.134_2.343 | X175.148_2.71 | X198.15_2.471 | ... | X705.141_2.339 | X776.148_2.398 | X776.253_2.398 | X776.411_2.398 | X792.329_2.764 | X811.309_2.773 | X811.31_2.767 | X819.211_2.398 | X819.322_2.398 | X819.378_2.399 |\n",
       "|---|---|---|---|---|---|---|---|---|---|---|---|---|---|---|---|---|---|---|---|---|---|\n",
       "| 16 | 0.000000000 | 0.000183314 | 0.000107825 | 0.000309360 | 0.001970824 | 0.003522976 | 0.000556528 | 0.000102431 | 0.000498459 | 0.000054300 | ...         | 0.000129379 | 0.000000000 | 0.000000000 | 0.000000000 | 0.000224340 | 0.000000000 | 0.000237525 | 0.000000000 | 0.000000000 | 0.000000000 |\n",
       "| 17 | 0.000000000 | 0.000992729 | 0.000161823 | 0.000092100 | 0.001840271 | 0.005114871 | 0.000622445 | 0.000107426 | 0.000453085 | 0.000058000 | ...         | 0.000124496 | 0.000000000 | 0.000000000 | 0.000000000 | 0.000390484 | 0.000000000 | 0.000375748 | 0.000000000 | 0.000000000 | 0.000000000 |\n",
       "| 18 | 0.000081500 | 0.000654834 | 0.000090500 | 0.000067900 | 0.001293540 | 0.006032218 | 0.000696770 | 0.000070400 | 0.000419352 | 0.000078200 | ...         | 0.000112447 | 0.000051200 | 0.000146720 | 0.000058100 | 0.000194735 | 0.000090000 | 0.000240641 | 0.000050700 | 0.000111762 | 0.000143191 |\n",
       "| 19 | 0.000194512 | 0.000886580 | 0.000117937 | 0.000000000 | 0.001773159 | 0.007929656 | 0.001007727 | 0.000263573 | 0.000504297 | 0.000114368 | ...         | 0.000000000 | 0.000000000 | 0.000000000 | 0.000000000 | 0.000232682 | 0.000000000 | 0.000414144 | 0.000000000 | 0.000000000 | 0.000000000 |\n",
       "| 20 | 0.000000000 | 0.000345774 | 0.000103153 | 0.000163057 | 0.001036544 | 0.003034769 | 0.000714063 | 0.000254360 | 0.000504312 | 0.000124318 | ...         | 0.000000000 | 0.000000000 | 0.000000000 | 0.000000000 | 0.000438966 | 0.000000000 | 0.000245386 | 0.000000000 | 0.000000000 | 0.000000000 |\n",
       "| 21 | 0.000000000 | 0.000291075 | 0.000157565 | 0.000507299 | 0.002120444 | 0.003301520 | 0.000807527 | 0.000201194 | 0.000582298 | 0.000190987 | ...         | 0.000133487 | 0.000050600 | 0.000000000 | 0.000000000 | 0.000294372 | 0.000000000 | 0.000282893 | 0.000000000 | 0.000054500 | 0.000000000 |\n",
       "| 22 | 0.000000000 | 0.001152732 | 0.000168404 | 0.000000000 | 0.002132402 | 0.005181907 | 0.001209674 | 0.000256615 | 0.000590771 | 0.000151750 | ...         | 0.000136490 | 0.000000000 | 0.000049100 | 0.000000000 | 0.000323449 | 0.000000000 | 0.000313258 | 0.000000000 | 0.000051400 | 0.000056500 |\n",
       "| 23 | 0.000228064 | 0.001298637 | 0.000041700 | 0.000286968 | 0.000630767 | 0.008109856 | 0.001176724 | 0.000189397 | 0.000540657 | 0.000125412 | ...         | 0.000049300 | 0.000000000 | 0.000000000 | 0.000000000 | 0.000111765 | 0.000000000 | 0.000199828 | 0.000000000 | 0.000000000 | 0.000000000 |\n",
       "| 24 | 0.000000000 | 0.001548175 | 0.000000000 | 0.000000000 | 0.002295338 | 0.006731196 | 0.001669337 | 0.000146759 | 0.000693313 | 0.000102044 | ...         | 0.000082100 | 0.000172190 | 0.000271134 | 0.000181289 | 0.000000000 | 0.000000000 | 0.000128677 | 0.000207812 | 0.000235970 | 0.000247892 |\n",
       "| 25 | 0.001402512 | 0.001330846 | 0.000000000 | 0.000557241 | 0.000850856 | 0.010376287 | 0.001853897 | 0.000280669 | 0.001099886 | 0.000208332 | ...         | 0.000000000 | 0.000164987 | 0.000085600 | 0.000000000 | 0.000000000 | 0.000000000 | 0.000000000 | 0.000170816 | 0.000089900 | 0.000098500 |\n",
       "| 31 | 0.000000000 | 0.000777921 | 0.000149596 | 0.000093400 | 0.001288794 | 0.007488937 | 0.001730002 | 0.000203944 | 0.000603759 | 0.000067700 | ...         | 0.000097900 | 0.000060600 | 0.000086500 | 0.000000000 | 0.000332228 | 0.000000000 | 0.000165920 | 0.000142555 | 0.000073800 | 0.000068800 |\n",
       "| 32 | 0.000184124 | 0.001199256 | 0.000169725 | 0.000000000 | 0.001855259 | 0.003756643 | 0.001178756 | 0.000107690 | 0.000630378 | 0.000068800 | ...         | 0.000073200 | 0.000000000 | 0.000044400 | 0.000000000 | 0.000389766 | 0.000000000 | 0.000117153 | 0.000000000 | 0.000059900 | 0.000000000 |\n",
       "| 33 | 0.000000000 | 0.000493801 | 0.000172118 | 0.000000000 | 0.001944185 | 0.003007234 | 0.001045994 | 0.000131321 | 0.000721964 | 0.000199916 | ...         | 0.000000000 | 0.000000000 | 0.000000000 | 0.000000000 | 0.000260496 | 0.000000000 | 0.000240681 | 0.000000000 | 0.000000000 | 0.000000000 |\n",
       "| 34 | 0.000000000 | 0.001289220 | 0.000067900 | 0.000188659 | 0.002098471 | 0.006139145 | 0.000993425 | 0.000049000 | 0.000586009 | 0.000066500 | ...         | 0.000000000 | 0.000000000 | 0.000000000 | 0.000000000 | 0.000261364 | 0.000000000 | 0.000232531 | 0.000000000 | 0.000000000 | 0.000000000 |\n",
       "| 35 | 0.000000000 | 0.001207578 | 0.000130190 | 0.000000000 | 0.001724277 | 0.008432595 | 0.000899896 | 0.000134492 | 0.000507595 | 0.000067200 | ...         | 0.000000000 | 0.000000000 | 0.000000000 | 0.000000000 | 0.000291471 | 0.000000000 | 0.000305123 | 0.000000000 | 0.000000000 | 0.000000000 |\n",
       "| 36 | 0.000245269 | 0.001312964 | 0.000097400 | 0.000304266 | 0.001737414 | 0.009111520 | 0.001069613 | 0.000175560 | 0.000713076 | 0.000164759 | ...         | 0.000000000 | 0.000000000 | 0.000000000 | 0.000000000 | 0.000229189 | 0.000000000 | 0.000129372 | 0.000000000 | 0.000059100 | 0.000000000 |\n",
       "| 37 | 0.000000000 | 0.001830019 | 0.000057600 | 0.000000000 | 0.001919767 | 0.007639890 | 0.001018652 | 0.000152516 | 0.000705221 | 0.000075700 | ...         | 0.000000000 | 0.000000000 | 0.000000000 | 0.000000000 | 0.000094400 | 0.000000000 | 0.000222285 | 0.000000000 | 0.000000000 | 0.000000000 |\n",
       "| 38 | 0.000000000 | 0.000923605 | 0.000000000 | 0.000000000 | 0.001712825 | 0.003460370 | 0.000914278 | 0.000146406 | 0.000711748 | 0.000182702 | ...         | 0.000000000 | 0.000063600 | 0.000075800 | 0.000049600 | 0.000000000 | 0.000000000 | 0.000105363 | 0.000079800 | 0.000074100 | 0.000082100 |\n",
       "| 39 | 0.000000000 | 0.001266730 | 0.000000000 | 0.000317244 | 0.001744048 | 0.008689645 | 0.001083146 | 0.000129103 | 0.000752695 | 0.000142179 | ...         | 0.000000000 | 0.000073800 | 0.000113037 | 0.000069800 | 0.000000000 | 0.000000000 | 0.000000000 | 0.000138988 | 0.000113093 | 0.000096800 |\n",
       "| 40 | 0.000123388 | 0.000531395 | 0.000057600 | 0.000000000 | 0.002151341 | 0.004393192 | 0.000967755 | 0.000274783 | 0.000800661 | 0.000169070 | ...         | 0.000000000 | 0.000000000 | 0.000000000 | 0.000000000 | 0.000103819 | 0.000000000 | 0.000199344 | 0.000000000 | 0.000000000 | 0.000000000 |\n",
       "| 46 | 0.000000000 | 0.000187734 | 0.000126210 | 0.000000000 | 0.000839030 | 0.006712240 | 0.000591737 | 0.000000000 | 0.000503418 | 0.000060100 | ...         | 0.000000000 | 0.000000000 | 0.000000000 | 0.000000000 | 0.000217658 | 0.000000000 | 0.000305344 | 0.000000000 | 0.000000000 | 0.000000000 |\n",
       "| 47 | 0.000000000 | 0.000851398 | 0.000089200 | 0.000000000 | 0.001176477 | 0.008204379 | 0.000712078 | 0.000027000 | 0.000399383 | 0.000121439 | ...         | 0.000000000 | 0.000000000 | 0.000042900 | 0.000000000 | 0.000171192 | 0.000000000 | 0.000288835 | 0.000000000 | 0.000026200 | 0.000000000 |\n",
       "| 48 | 0.000000000 | 0.000716125 | 0.000100984 | 0.000222804 | 0.001905121 | 0.006692209 | 0.000658427 | 0.000051600 | 0.000566679 | 0.000137585 | ...         | 0.000000000 | 0.000000000 | 0.000000000 | 0.000000000 | 0.000239513 | 0.000000000 | 0.000378241 | 0.000000000 | 0.000052100 | 0.000051000 |\n",
       "| 49 | 0.000000000 | 0.001828193 | 0.000051200 | 0.000192069 | 0.000536851 | 0.006771088 | 0.000875405 | 0.000092200 | 0.000561033 | 0.000065500 | ...         | 0.000000000 | 0.000000000 | 0.000000000 | 0.000000000 | 0.000199046 | 0.000000000 | 0.000213200 | 0.000000000 | 0.000000000 | 0.000000000 |\n",
       "| 50 | 0.000000000 | 0.001688731 | 0.000055700 | 0.000000000 | 0.001206236 | 0.007434354 | 0.000930525 | 0.000103114 | 0.000644967 | 0.000082700 | ...         | 0.000000000 | 0.000054900 | 0.000062700 | 0.000000000 | 0.000111896 | 0.000000000 | 0.000113423 | 0.000051500 | 0.000075400 | 0.000063400 |\n",
       "| 51 | 0.000000000 | 0.000133900 | 0.000087700 | 0.000244972 | 0.002354349 | 0.003708376 | 0.000635564 | 0.000122238 | 0.000779256 | 0.000229799 | ...         | 0.000000000 | 0.000000000 | 0.000000000 | 0.000000000 | 0.000129536 | 0.000000000 | 0.000169727 | 0.000000000 | 0.000000000 | 0.000000000 |\n",
       "| 52 | 0.000000000 | 0.000899755 | 0.000000000 | 0.000352282 | 0.002044898 | 0.007739151 | 0.001038179 | 0.000122890 | 0.000862003 | 0.000168215 | ...         | 0.000000000 | 0.000000000 | 0.000000000 | 0.000000000 | 0.000050900 | 0.000000000 | 0.000058600 | 0.000000000 | 0.000000000 | 0.000000000 |\n",
       "| 53 | 0.000000000 | 0.001434584 | 0.000000000 | 0.000000000 | 0.000654170 | 0.011247137 | 0.001359985 | 0.000051500 | 0.000780414 | 0.000161862 | ...         | 0.000000000 | 0.000174508 | 0.000234414 | 0.000093500 | 0.000000000 | 0.000000000 | 0.000000000 | 0.000139678 | 0.000122343 | 0.000134707 |\n",
       "| 54 | 0.000000000 | 0.000926858 | 0.000043300 | 0.000157337 | 0.000965101 | 0.003185427 | 0.000840763 | 0.000053500 | 0.000657216 | 0.000168103 | ...         | 0.000000000 | 0.000000000 | 0.000066600 | 0.000000000 | 0.000055500 | 0.000000000 | 0.000097900 | 0.000000000 | 0.000062900 | 0.000000000 |\n",
       "| 55 | 0.000000000 | 0.001930143 | 0.000000000 | 0.000331552 | 0.000882873 | 0.007915413 | 0.000943761 | 0.000047100 | 0.000688032 | 0.000139150 | ...         | 0.000000000 | 0.000062500 | 0.000068200 | 0.000000000 | 0.000066500 | 0.000145597 | 0.000205320 | 0.000000000 | 0.000067800 | 0.000000000 |\n",
       "\n"
      ],
      "text/plain": [
       "   X268.105_0.35 X269.088_0.35 X111.044_2.768 X122.082_0.534 X130.087_0.452\n",
       "16 0.000000000   0.000183314   0.000107825    0.000309360    0.001970824   \n",
       "17 0.000000000   0.000992729   0.000161823    0.000092100    0.001840271   \n",
       "18 0.000081500   0.000654834   0.000090500    0.000067900    0.001293540   \n",
       "19 0.000194512   0.000886580   0.000117937    0.000000000    0.001773159   \n",
       "20 0.000000000   0.000345774   0.000103153    0.000163057    0.001036544   \n",
       "21 0.000000000   0.000291075   0.000157565    0.000507299    0.002120444   \n",
       "22 0.000000000   0.001152732   0.000168404    0.000000000    0.002132402   \n",
       "23 0.000228064   0.001298637   0.000041700    0.000286968    0.000630767   \n",
       "24 0.000000000   0.001548175   0.000000000    0.000000000    0.002295338   \n",
       "25 0.001402512   0.001330846   0.000000000    0.000557241    0.000850856   \n",
       "31 0.000000000   0.000777921   0.000149596    0.000093400    0.001288794   \n",
       "32 0.000184124   0.001199256   0.000169725    0.000000000    0.001855259   \n",
       "33 0.000000000   0.000493801   0.000172118    0.000000000    0.001944185   \n",
       "34 0.000000000   0.001289220   0.000067900    0.000188659    0.002098471   \n",
       "35 0.000000000   0.001207578   0.000130190    0.000000000    0.001724277   \n",
       "36 0.000245269   0.001312964   0.000097400    0.000304266    0.001737414   \n",
       "37 0.000000000   0.001830019   0.000057600    0.000000000    0.001919767   \n",
       "38 0.000000000   0.000923605   0.000000000    0.000000000    0.001712825   \n",
       "39 0.000000000   0.001266730   0.000000000    0.000317244    0.001744048   \n",
       "40 0.000123388   0.000531395   0.000057600    0.000000000    0.002151341   \n",
       "46 0.000000000   0.000187734   0.000126210    0.000000000    0.000839030   \n",
       "47 0.000000000   0.000851398   0.000089200    0.000000000    0.001176477   \n",
       "48 0.000000000   0.000716125   0.000100984    0.000222804    0.001905121   \n",
       "49 0.000000000   0.001828193   0.000051200    0.000192069    0.000536851   \n",
       "50 0.000000000   0.001688731   0.000055700    0.000000000    0.001206236   \n",
       "51 0.000000000   0.000133900   0.000087700    0.000244972    0.002354349   \n",
       "52 0.000000000   0.000899755   0.000000000    0.000352282    0.002044898   \n",
       "53 0.000000000   0.001434584   0.000000000    0.000000000    0.000654170   \n",
       "54 0.000000000   0.000926858   0.000043300    0.000157337    0.000965101   \n",
       "55 0.000000000   0.001930143   0.000000000    0.000331552    0.000882873   \n",
       "   X137.046_0.35 X142.035_0.315 X172.134_2.343 X175.148_2.71 X198.15_2.471 ...\n",
       "16 0.003522976   0.000556528    0.000102431    0.000498459   0.000054300   ...\n",
       "17 0.005114871   0.000622445    0.000107426    0.000453085   0.000058000   ...\n",
       "18 0.006032218   0.000696770    0.000070400    0.000419352   0.000078200   ...\n",
       "19 0.007929656   0.001007727    0.000263573    0.000504297   0.000114368   ...\n",
       "20 0.003034769   0.000714063    0.000254360    0.000504312   0.000124318   ...\n",
       "21 0.003301520   0.000807527    0.000201194    0.000582298   0.000190987   ...\n",
       "22 0.005181907   0.001209674    0.000256615    0.000590771   0.000151750   ...\n",
       "23 0.008109856   0.001176724    0.000189397    0.000540657   0.000125412   ...\n",
       "24 0.006731196   0.001669337    0.000146759    0.000693313   0.000102044   ...\n",
       "25 0.010376287   0.001853897    0.000280669    0.001099886   0.000208332   ...\n",
       "31 0.007488937   0.001730002    0.000203944    0.000603759   0.000067700   ...\n",
       "32 0.003756643   0.001178756    0.000107690    0.000630378   0.000068800   ...\n",
       "33 0.003007234   0.001045994    0.000131321    0.000721964   0.000199916   ...\n",
       "34 0.006139145   0.000993425    0.000049000    0.000586009   0.000066500   ...\n",
       "35 0.008432595   0.000899896    0.000134492    0.000507595   0.000067200   ...\n",
       "36 0.009111520   0.001069613    0.000175560    0.000713076   0.000164759   ...\n",
       "37 0.007639890   0.001018652    0.000152516    0.000705221   0.000075700   ...\n",
       "38 0.003460370   0.000914278    0.000146406    0.000711748   0.000182702   ...\n",
       "39 0.008689645   0.001083146    0.000129103    0.000752695   0.000142179   ...\n",
       "40 0.004393192   0.000967755    0.000274783    0.000800661   0.000169070   ...\n",
       "46 0.006712240   0.000591737    0.000000000    0.000503418   0.000060100   ...\n",
       "47 0.008204379   0.000712078    0.000027000    0.000399383   0.000121439   ...\n",
       "48 0.006692209   0.000658427    0.000051600    0.000566679   0.000137585   ...\n",
       "49 0.006771088   0.000875405    0.000092200    0.000561033   0.000065500   ...\n",
       "50 0.007434354   0.000930525    0.000103114    0.000644967   0.000082700   ...\n",
       "51 0.003708376   0.000635564    0.000122238    0.000779256   0.000229799   ...\n",
       "52 0.007739151   0.001038179    0.000122890    0.000862003   0.000168215   ...\n",
       "53 0.011247137   0.001359985    0.000051500    0.000780414   0.000161862   ...\n",
       "54 0.003185427   0.000840763    0.000053500    0.000657216   0.000168103   ...\n",
       "55 0.007915413   0.000943761    0.000047100    0.000688032   0.000139150   ...\n",
       "   X705.141_2.339 X776.148_2.398 X776.253_2.398 X776.411_2.398 X792.329_2.764\n",
       "16 0.000129379    0.000000000    0.000000000    0.000000000    0.000224340   \n",
       "17 0.000124496    0.000000000    0.000000000    0.000000000    0.000390484   \n",
       "18 0.000112447    0.000051200    0.000146720    0.000058100    0.000194735   \n",
       "19 0.000000000    0.000000000    0.000000000    0.000000000    0.000232682   \n",
       "20 0.000000000    0.000000000    0.000000000    0.000000000    0.000438966   \n",
       "21 0.000133487    0.000050600    0.000000000    0.000000000    0.000294372   \n",
       "22 0.000136490    0.000000000    0.000049100    0.000000000    0.000323449   \n",
       "23 0.000049300    0.000000000    0.000000000    0.000000000    0.000111765   \n",
       "24 0.000082100    0.000172190    0.000271134    0.000181289    0.000000000   \n",
       "25 0.000000000    0.000164987    0.000085600    0.000000000    0.000000000   \n",
       "31 0.000097900    0.000060600    0.000086500    0.000000000    0.000332228   \n",
       "32 0.000073200    0.000000000    0.000044400    0.000000000    0.000389766   \n",
       "33 0.000000000    0.000000000    0.000000000    0.000000000    0.000260496   \n",
       "34 0.000000000    0.000000000    0.000000000    0.000000000    0.000261364   \n",
       "35 0.000000000    0.000000000    0.000000000    0.000000000    0.000291471   \n",
       "36 0.000000000    0.000000000    0.000000000    0.000000000    0.000229189   \n",
       "37 0.000000000    0.000000000    0.000000000    0.000000000    0.000094400   \n",
       "38 0.000000000    0.000063600    0.000075800    0.000049600    0.000000000   \n",
       "39 0.000000000    0.000073800    0.000113037    0.000069800    0.000000000   \n",
       "40 0.000000000    0.000000000    0.000000000    0.000000000    0.000103819   \n",
       "46 0.000000000    0.000000000    0.000000000    0.000000000    0.000217658   \n",
       "47 0.000000000    0.000000000    0.000042900    0.000000000    0.000171192   \n",
       "48 0.000000000    0.000000000    0.000000000    0.000000000    0.000239513   \n",
       "49 0.000000000    0.000000000    0.000000000    0.000000000    0.000199046   \n",
       "50 0.000000000    0.000054900    0.000062700    0.000000000    0.000111896   \n",
       "51 0.000000000    0.000000000    0.000000000    0.000000000    0.000129536   \n",
       "52 0.000000000    0.000000000    0.000000000    0.000000000    0.000050900   \n",
       "53 0.000000000    0.000174508    0.000234414    0.000093500    0.000000000   \n",
       "54 0.000000000    0.000000000    0.000066600    0.000000000    0.000055500   \n",
       "55 0.000000000    0.000062500    0.000068200    0.000000000    0.000066500   \n",
       "   X811.309_2.773 X811.31_2.767 X819.211_2.398 X819.322_2.398 X819.378_2.399\n",
       "16 0.000000000    0.000237525   0.000000000    0.000000000    0.000000000   \n",
       "17 0.000000000    0.000375748   0.000000000    0.000000000    0.000000000   \n",
       "18 0.000090000    0.000240641   0.000050700    0.000111762    0.000143191   \n",
       "19 0.000000000    0.000414144   0.000000000    0.000000000    0.000000000   \n",
       "20 0.000000000    0.000245386   0.000000000    0.000000000    0.000000000   \n",
       "21 0.000000000    0.000282893   0.000000000    0.000054500    0.000000000   \n",
       "22 0.000000000    0.000313258   0.000000000    0.000051400    0.000056500   \n",
       "23 0.000000000    0.000199828   0.000000000    0.000000000    0.000000000   \n",
       "24 0.000000000    0.000128677   0.000207812    0.000235970    0.000247892   \n",
       "25 0.000000000    0.000000000   0.000170816    0.000089900    0.000098500   \n",
       "31 0.000000000    0.000165920   0.000142555    0.000073800    0.000068800   \n",
       "32 0.000000000    0.000117153   0.000000000    0.000059900    0.000000000   \n",
       "33 0.000000000    0.000240681   0.000000000    0.000000000    0.000000000   \n",
       "34 0.000000000    0.000232531   0.000000000    0.000000000    0.000000000   \n",
       "35 0.000000000    0.000305123   0.000000000    0.000000000    0.000000000   \n",
       "36 0.000000000    0.000129372   0.000000000    0.000059100    0.000000000   \n",
       "37 0.000000000    0.000222285   0.000000000    0.000000000    0.000000000   \n",
       "38 0.000000000    0.000105363   0.000079800    0.000074100    0.000082100   \n",
       "39 0.000000000    0.000000000   0.000138988    0.000113093    0.000096800   \n",
       "40 0.000000000    0.000199344   0.000000000    0.000000000    0.000000000   \n",
       "46 0.000000000    0.000305344   0.000000000    0.000000000    0.000000000   \n",
       "47 0.000000000    0.000288835   0.000000000    0.000026200    0.000000000   \n",
       "48 0.000000000    0.000378241   0.000000000    0.000052100    0.000051000   \n",
       "49 0.000000000    0.000213200   0.000000000    0.000000000    0.000000000   \n",
       "50 0.000000000    0.000113423   0.000051500    0.000075400    0.000063400   \n",
       "51 0.000000000    0.000169727   0.000000000    0.000000000    0.000000000   \n",
       "52 0.000000000    0.000058600   0.000000000    0.000000000    0.000000000   \n",
       "53 0.000000000    0.000000000   0.000139678    0.000122343    0.000134707   \n",
       "54 0.000000000    0.000097900   0.000000000    0.000062900    0.000000000   \n",
       "55 0.000145597    0.000205320   0.000000000    0.000067800    0.000000000   "
      ]
     },
     "metadata": {},
     "output_type": "display_data"
    },
    {
     "data": {
      "text/html": [
       "<table>\n",
       "<thead><tr><th></th><th scope=col>filename</th><th scope=col>MouseID</th><th scope=col>Treatmentgroup</th><th scope=col>DPI</th><th scope=col>organ</th><th scope=col>well_position</th><th scope=col>plate</th><th scope=col>X268.105_0.35</th><th scope=col>X269.088_0.35</th><th scope=col>X111.044_2.768</th><th scope=col>...</th><th scope=col>X705.141_2.339</th><th scope=col>X776.148_2.398</th><th scope=col>X776.253_2.398</th><th scope=col>X776.411_2.398</th><th scope=col>X792.329_2.764</th><th scope=col>X811.309_2.773</th><th scope=col>X811.31_2.767</th><th scope=col>X819.211_2.398</th><th scope=col>X819.322_2.398</th><th scope=col>X819.378_2.399</th></tr></thead>\n",
       "<tbody>\n",
       "\t<tr><th scope=row>16</th><td>X581_Group3E_142dpi_RV_top_176_G_B4_P136.mzXML</td><td>581                                           </td><td>Group3E                                       </td><td>142dpi                                        </td><td>RV_top                                        </td><td>B4                                            </td><td>P136                                          </td><td>0.000000000                                   </td><td>0.000183314                                   </td><td>0.000107825                                   </td><td>...                                           </td><td>0.000129379                                   </td><td>0.00e+00                                      </td><td>0.00000000                                    </td><td>0.00e+00                                      </td><td>0.000224340                                   </td><td>0e+00                                         </td><td>0.000237525                                   </td><td>0.00e+00                                      </td><td>0.000000000                                   </td><td>0.000000000                                   </td></tr>\n",
       "\t<tr><th scope=row>17</th><td>X582_Group3E_142dpi_RV_top_177_G_B5_P136.mzXML</td><td>582                                           </td><td>Group3E                                       </td><td>142dpi                                        </td><td>RV_top                                        </td><td>B5                                            </td><td>P136                                          </td><td>0.000000000                                   </td><td>0.000992729                                   </td><td>0.000161823                                   </td><td>...                                           </td><td>0.000124496                                   </td><td>0.00e+00                                      </td><td>0.00000000                                    </td><td>0.00e+00                                      </td><td>0.000390484                                   </td><td>0e+00                                         </td><td>0.000375748                                   </td><td>0.00e+00                                      </td><td>0.000000000                                   </td><td>0.000000000                                   </td></tr>\n",
       "\t<tr><th scope=row>18</th><td>X583_Group3E_142dpi_RV_top_178_G_B6_P136.mzXML</td><td>583                                           </td><td>Group3E                                       </td><td>142dpi                                        </td><td>RV_top                                        </td><td>B6                                            </td><td>P136                                          </td><td>0.000081500                                   </td><td>0.000654834                                   </td><td>0.000090500                                   </td><td>...                                           </td><td>0.000112447                                   </td><td>5.12e-05                                      </td><td>0.00014672                                    </td><td>5.81e-05                                      </td><td>0.000194735                                   </td><td>9e-05                                         </td><td>0.000240641                                   </td><td>5.07e-05                                      </td><td>0.000111762                                   </td><td>0.000143191                                   </td></tr>\n",
       "\t<tr><th scope=row>19</th><td>X584_Group3E_142dpi_RV_top_179_G_B7_P136.mzXML</td><td>584                                           </td><td>Group3E                                       </td><td>142dpi                                        </td><td>RV_top                                        </td><td>B7                                            </td><td>P136                                          </td><td>0.000194512                                   </td><td>0.000886580                                   </td><td>0.000117937                                   </td><td>...                                           </td><td>0.000000000                                   </td><td>0.00e+00                                      </td><td>0.00000000                                    </td><td>0.00e+00                                      </td><td>0.000232682                                   </td><td>0e+00                                         </td><td>0.000414144                                   </td><td>0.00e+00                                      </td><td>0.000000000                                   </td><td>0.000000000                                   </td></tr>\n",
       "\t<tr><th scope=row>20</th><td>X585_Group3E_142dpi_RV_top_180_G_B8_P136.mzXML</td><td>585                                           </td><td>Group3E                                       </td><td>142dpi                                        </td><td>RV_top                                        </td><td>B8                                            </td><td>P136                                          </td><td>0.000000000                                   </td><td>0.000345774                                   </td><td>0.000103153                                   </td><td>...                                           </td><td>0.000000000                                   </td><td>0.00e+00                                      </td><td>0.00000000                                    </td><td>0.00e+00                                      </td><td>0.000438966                                   </td><td>0e+00                                         </td><td>0.000245386                                   </td><td>0.00e+00                                      </td><td>0.000000000                                   </td><td>0.000000000                                   </td></tr>\n",
       "\t<tr><th scope=row>21</th><td>X611_Group9_142dpi_RV_top_181_G_B9_P136.mzXML </td><td>611                                           </td><td>Group9                                        </td><td>142dpi                                        </td><td>RV_top                                        </td><td>B9                                            </td><td>P136                                          </td><td>0.000000000                                   </td><td>0.000291075                                   </td><td>0.000157565                                   </td><td>...                                           </td><td>0.000133487                                   </td><td>5.06e-05                                      </td><td>0.00000000                                    </td><td>0.00e+00                                      </td><td>0.000294372                                   </td><td>0e+00                                         </td><td>0.000282893                                   </td><td>0.00e+00                                      </td><td>0.000054500                                   </td><td>0.000000000                                   </td></tr>\n",
       "</tbody>\n",
       "</table>\n"
      ],
      "text/latex": [
       "\\begin{tabular}{r|llllllllllllllllllllllllllllllllllllllllllllllllllllllllllllllllllllll}\n",
       "  & filename & MouseID & Treatmentgroup & DPI & organ & well\\_position & plate & X268.105\\_0.35 & X269.088\\_0.35 & X111.044\\_2.768 & ... & X705.141\\_2.339 & X776.148\\_2.398 & X776.253\\_2.398 & X776.411\\_2.398 & X792.329\\_2.764 & X811.309\\_2.773 & X811.31\\_2.767 & X819.211\\_2.398 & X819.322\\_2.398 & X819.378\\_2.399\\\\\n",
       "\\hline\n",
       "\t16 & X581\\_Group3E\\_142dpi\\_RV\\_top\\_176\\_G\\_B4\\_P136.mzXML & 581                                                            & Group3E                                                        & 142dpi                                                         & RV\\_top                                                       & B4                                                             & P136                                                           & 0.000000000                                                    & 0.000183314                                                    & 0.000107825                                                    & ...                                                            & 0.000129379                                                    & 0.00e+00                                                       & 0.00000000                                                     & 0.00e+00                                                       & 0.000224340                                                    & 0e+00                                                          & 0.000237525                                                    & 0.00e+00                                                       & 0.000000000                                                    & 0.000000000                                                   \\\\\n",
       "\t17 & X582\\_Group3E\\_142dpi\\_RV\\_top\\_177\\_G\\_B5\\_P136.mzXML & 582                                                            & Group3E                                                        & 142dpi                                                         & RV\\_top                                                       & B5                                                             & P136                                                           & 0.000000000                                                    & 0.000992729                                                    & 0.000161823                                                    & ...                                                            & 0.000124496                                                    & 0.00e+00                                                       & 0.00000000                                                     & 0.00e+00                                                       & 0.000390484                                                    & 0e+00                                                          & 0.000375748                                                    & 0.00e+00                                                       & 0.000000000                                                    & 0.000000000                                                   \\\\\n",
       "\t18 & X583\\_Group3E\\_142dpi\\_RV\\_top\\_178\\_G\\_B6\\_P136.mzXML & 583                                                            & Group3E                                                        & 142dpi                                                         & RV\\_top                                                       & B6                                                             & P136                                                           & 0.000081500                                                    & 0.000654834                                                    & 0.000090500                                                    & ...                                                            & 0.000112447                                                    & 5.12e-05                                                       & 0.00014672                                                     & 5.81e-05                                                       & 0.000194735                                                    & 9e-05                                                          & 0.000240641                                                    & 5.07e-05                                                       & 0.000111762                                                    & 0.000143191                                                   \\\\\n",
       "\t19 & X584\\_Group3E\\_142dpi\\_RV\\_top\\_179\\_G\\_B7\\_P136.mzXML & 584                                                            & Group3E                                                        & 142dpi                                                         & RV\\_top                                                       & B7                                                             & P136                                                           & 0.000194512                                                    & 0.000886580                                                    & 0.000117937                                                    & ...                                                            & 0.000000000                                                    & 0.00e+00                                                       & 0.00000000                                                     & 0.00e+00                                                       & 0.000232682                                                    & 0e+00                                                          & 0.000414144                                                    & 0.00e+00                                                       & 0.000000000                                                    & 0.000000000                                                   \\\\\n",
       "\t20 & X585\\_Group3E\\_142dpi\\_RV\\_top\\_180\\_G\\_B8\\_P136.mzXML & 585                                                            & Group3E                                                        & 142dpi                                                         & RV\\_top                                                       & B8                                                             & P136                                                           & 0.000000000                                                    & 0.000345774                                                    & 0.000103153                                                    & ...                                                            & 0.000000000                                                    & 0.00e+00                                                       & 0.00000000                                                     & 0.00e+00                                                       & 0.000438966                                                    & 0e+00                                                          & 0.000245386                                                    & 0.00e+00                                                       & 0.000000000                                                    & 0.000000000                                                   \\\\\n",
       "\t21 & X611\\_Group9\\_142dpi\\_RV\\_top\\_181\\_G\\_B9\\_P136.mzXML  & 611                                                            & Group9                                                         & 142dpi                                                         & RV\\_top                                                       & B9                                                             & P136                                                           & 0.000000000                                                    & 0.000291075                                                    & 0.000157565                                                    & ...                                                            & 0.000133487                                                    & 5.06e-05                                                       & 0.00000000                                                     & 0.00e+00                                                       & 0.000294372                                                    & 0e+00                                                          & 0.000282893                                                    & 0.00e+00                                                       & 0.000054500                                                    & 0.000000000                                                   \\\\\n",
       "\\end{tabular}\n"
      ],
      "text/markdown": [
       "\n",
       "| <!--/--> | filename | MouseID | Treatmentgroup | DPI | organ | well_position | plate | X268.105_0.35 | X269.088_0.35 | X111.044_2.768 | ... | X705.141_2.339 | X776.148_2.398 | X776.253_2.398 | X776.411_2.398 | X792.329_2.764 | X811.309_2.773 | X811.31_2.767 | X819.211_2.398 | X819.322_2.398 | X819.378_2.399 |\n",
       "|---|---|---|---|---|---|---|---|---|---|---|---|---|---|---|---|---|---|---|---|---|---|\n",
       "| 16 | X581_Group3E_142dpi_RV_top_176_G_B4_P136.mzXML | 581                                            | Group3E                                        | 142dpi                                         | RV_top                                         | B4                                             | P136                                           | 0.000000000                                    | 0.000183314                                    | 0.000107825                                    | ...                                            | 0.000129379                                    | 0.00e+00                                       | 0.00000000                                     | 0.00e+00                                       | 0.000224340                                    | 0e+00                                          | 0.000237525                                    | 0.00e+00                                       | 0.000000000                                    | 0.000000000                                    |\n",
       "| 17 | X582_Group3E_142dpi_RV_top_177_G_B5_P136.mzXML | 582                                            | Group3E                                        | 142dpi                                         | RV_top                                         | B5                                             | P136                                           | 0.000000000                                    | 0.000992729                                    | 0.000161823                                    | ...                                            | 0.000124496                                    | 0.00e+00                                       | 0.00000000                                     | 0.00e+00                                       | 0.000390484                                    | 0e+00                                          | 0.000375748                                    | 0.00e+00                                       | 0.000000000                                    | 0.000000000                                    |\n",
       "| 18 | X583_Group3E_142dpi_RV_top_178_G_B6_P136.mzXML | 583                                            | Group3E                                        | 142dpi                                         | RV_top                                         | B6                                             | P136                                           | 0.000081500                                    | 0.000654834                                    | 0.000090500                                    | ...                                            | 0.000112447                                    | 5.12e-05                                       | 0.00014672                                     | 5.81e-05                                       | 0.000194735                                    | 9e-05                                          | 0.000240641                                    | 5.07e-05                                       | 0.000111762                                    | 0.000143191                                    |\n",
       "| 19 | X584_Group3E_142dpi_RV_top_179_G_B7_P136.mzXML | 584                                            | Group3E                                        | 142dpi                                         | RV_top                                         | B7                                             | P136                                           | 0.000194512                                    | 0.000886580                                    | 0.000117937                                    | ...                                            | 0.000000000                                    | 0.00e+00                                       | 0.00000000                                     | 0.00e+00                                       | 0.000232682                                    | 0e+00                                          | 0.000414144                                    | 0.00e+00                                       | 0.000000000                                    | 0.000000000                                    |\n",
       "| 20 | X585_Group3E_142dpi_RV_top_180_G_B8_P136.mzXML | 585                                            | Group3E                                        | 142dpi                                         | RV_top                                         | B8                                             | P136                                           | 0.000000000                                    | 0.000345774                                    | 0.000103153                                    | ...                                            | 0.000000000                                    | 0.00e+00                                       | 0.00000000                                     | 0.00e+00                                       | 0.000438966                                    | 0e+00                                          | 0.000245386                                    | 0.00e+00                                       | 0.000000000                                    | 0.000000000                                    |\n",
       "| 21 | X611_Group9_142dpi_RV_top_181_G_B9_P136.mzXML  | 611                                            | Group9                                         | 142dpi                                         | RV_top                                         | B9                                             | P136                                           | 0.000000000                                    | 0.000291075                                    | 0.000157565                                    | ...                                            | 0.000133487                                    | 5.06e-05                                       | 0.00000000                                     | 0.00e+00                                       | 0.000294372                                    | 0e+00                                          | 0.000282893                                    | 0.00e+00                                       | 0.000054500                                    | 0.000000000                                    |\n",
       "\n"
      ],
      "text/plain": [
       "   filename                                       MouseID Treatmentgroup DPI   \n",
       "16 X581_Group3E_142dpi_RV_top_176_G_B4_P136.mzXML 581     Group3E        142dpi\n",
       "17 X582_Group3E_142dpi_RV_top_177_G_B5_P136.mzXML 582     Group3E        142dpi\n",
       "18 X583_Group3E_142dpi_RV_top_178_G_B6_P136.mzXML 583     Group3E        142dpi\n",
       "19 X584_Group3E_142dpi_RV_top_179_G_B7_P136.mzXML 584     Group3E        142dpi\n",
       "20 X585_Group3E_142dpi_RV_top_180_G_B8_P136.mzXML 585     Group3E        142dpi\n",
       "21 X611_Group9_142dpi_RV_top_181_G_B9_P136.mzXML  611     Group9         142dpi\n",
       "   organ  well_position plate X268.105_0.35 X269.088_0.35 X111.044_2.768 ...\n",
       "16 RV_top B4            P136  0.000000000   0.000183314   0.000107825    ...\n",
       "17 RV_top B5            P136  0.000000000   0.000992729   0.000161823    ...\n",
       "18 RV_top B6            P136  0.000081500   0.000654834   0.000090500    ...\n",
       "19 RV_top B7            P136  0.000194512   0.000886580   0.000117937    ...\n",
       "20 RV_top B8            P136  0.000000000   0.000345774   0.000103153    ...\n",
       "21 RV_top B9            P136  0.000000000   0.000291075   0.000157565    ...\n",
       "   X705.141_2.339 X776.148_2.398 X776.253_2.398 X776.411_2.398 X792.329_2.764\n",
       "16 0.000129379    0.00e+00       0.00000000     0.00e+00       0.000224340   \n",
       "17 0.000124496    0.00e+00       0.00000000     0.00e+00       0.000390484   \n",
       "18 0.000112447    5.12e-05       0.00014672     5.81e-05       0.000194735   \n",
       "19 0.000000000    0.00e+00       0.00000000     0.00e+00       0.000232682   \n",
       "20 0.000000000    0.00e+00       0.00000000     0.00e+00       0.000438966   \n",
       "21 0.000133487    5.06e-05       0.00000000     0.00e+00       0.000294372   \n",
       "   X811.309_2.773 X811.31_2.767 X819.211_2.398 X819.322_2.398 X819.378_2.399\n",
       "16 0e+00          0.000237525   0.00e+00       0.000000000    0.000000000   \n",
       "17 0e+00          0.000375748   0.00e+00       0.000000000    0.000000000   \n",
       "18 9e-05          0.000240641   5.07e-05       0.000111762    0.000143191   \n",
       "19 0e+00          0.000414144   0.00e+00       0.000000000    0.000000000   \n",
       "20 0e+00          0.000245386   0.00e+00       0.000000000    0.000000000   \n",
       "21 0e+00          0.000282893   0.00e+00       0.000054500    0.000000000   "
      ]
     },
     "metadata": {},
     "output_type": "display_data"
    },
    {
     "data": {
      "text/html": [
       "<ol class=list-inline>\n",
       "\t<li>30</li>\n",
       "\t<li>70</li>\n",
       "</ol>\n"
      ],
      "text/latex": [
       "\\begin{enumerate*}\n",
       "\\item 30\n",
       "\\item 70\n",
       "\\end{enumerate*}\n"
      ],
      "text/markdown": [
       "1. 30\n",
       "2. 70\n",
       "\n",
       "\n"
      ],
      "text/plain": [
       "[1] 30 70"
      ]
     },
     "metadata": {},
     "output_type": "display_data"
    },
    {
     "data": {
      "text/html": [
       "<ol class=list-inline>\n",
       "\t<li>30</li>\n",
       "\t<li>63</li>\n",
       "</ol>\n"
      ],
      "text/latex": [
       "\\begin{enumerate*}\n",
       "\\item 30\n",
       "\\item 63\n",
       "\\end{enumerate*}\n"
      ],
      "text/markdown": [
       "1. 30\n",
       "2. 63\n",
       "\n",
       "\n"
      ],
      "text/plain": [
       "[1] 30 63"
      ]
     },
     "metadata": {},
     "output_type": "display_data"
    },
    {
     "data": {
      "text/html": [
       "<ol class=list-inline>\n",
       "\t<li>30</li>\n",
       "\t<li>63</li>\n",
       "</ol>\n"
      ],
      "text/latex": [
       "\\begin{enumerate*}\n",
       "\\item 30\n",
       "\\item 63\n",
       "\\end{enumerate*}\n"
      ],
      "text/markdown": [
       "1. 30\n",
       "2. 63\n",
       "\n",
       "\n"
      ],
      "text/plain": [
       "[1] 30 63"
      ]
     },
     "metadata": {},
     "output_type": "display_data"
    },
    {
     "data": {
      "text/html": [
       "<ol class=list-inline>\n",
       "\t<li>30</li>\n",
       "\t<li>70</li>\n",
       "</ol>\n"
      ],
      "text/latex": [
       "\\begin{enumerate*}\n",
       "\\item 30\n",
       "\\item 70\n",
       "\\end{enumerate*}\n"
      ],
      "text/markdown": [
       "1. 30\n",
       "2. 70\n",
       "\n",
       "\n"
      ],
      "text/plain": [
       "[1] 30 70"
      ]
     },
     "metadata": {},
     "output_type": "display_data"
    }
   ],
   "source": [
    "noMeta<-features_pos[,8:70]\n",
    "head(noMeta)\n",
    "not_zero<-which(colSums(noMeta) != 0)\n",
    "head(not_zero)\n",
    "nonzero <- noMeta[, not_zero] # all the non-zero columns\n",
    "nonzero\n",
    "#add back metadata\n",
    "nonzero_wMeta<-cbind(features_pos[,1:7], nonzero)\n",
    "head(nonzero_wMeta)\n",
    "dim(features_pos)\n",
    "dim(noMeta)\n",
    "dim(nonzero)\n",
    "dim(nonzero_wMeta)"
   ]
  },
  {
   "cell_type": "code",
   "execution_count": 15,
   "metadata": {
    "scrolled": true
   },
   "outputs": [
    {
     "name": "stderr",
     "output_type": "stream",
     "text": [
      "Warning message in wilcox.test.default(x = c(0, 0, 8.15e-05, 0.000194512, 0, 0, :\n",
      "\"cannot compute exact p-value with ties\"Warning message in wilcox.test.default(x = c(0.000107825, 0.000161823, 9.05e-05, :\n",
      "\"cannot compute exact p-value with ties\"Warning message in wilcox.test.default(x = c(0.00030936, 9.21e-05, 6.79e-05, 0, :\n",
      "\"cannot compute exact p-value with ties\"Warning message in wilcox.test.default(x = c(0.001347921, 0.001721195, 0.001067735, :\n",
      "\"cannot compute exact p-value with ties\"Warning message in wilcox.test.default(x = c(0, 4.73e-05, 3.75e-05, 0, 5.67e-05, :\n",
      "\"cannot compute exact p-value with ties\"Warning message in wilcox.test.default(x = c(3.9e-05, 5.74e-05, 7.28e-05, 0.000136191, :\n",
      "\"cannot compute exact p-value with ties\"Warning message in wilcox.test.default(x = c(0.000134337, 0.000171009, 0.000134521, :\n",
      "\"cannot compute exact p-value with ties\"Warning message in wilcox.test.default(x = c(0, 0, 3.91e-05, 0, 0, 0, 0.000178193, :\n",
      "\"cannot compute exact p-value with ties\"Warning message in wilcox.test.default(x = c(0, 0, 2.95e-05, 0, 0, 0, 0, 0.000110093, :\n",
      "\"cannot compute exact p-value with ties\"Warning message in wilcox.test.default(x = c(0, 0, 0.000142623, 0, 0, 0, 0.000117462, :\n",
      "\"cannot compute exact p-value with ties\"Warning message in wilcox.test.default(x = c(0, 0, 3.83e-05, 0, 0, 7.32e-05, 6.13e-05, :\n",
      "\"cannot compute exact p-value with ties\"Warning message in wilcox.test.default(x = c(6.77e-05, 0.000202478, 0.000422578, :\n",
      "\"cannot compute exact p-value with ties\"Warning message in wilcox.test.default(x = c(0, 0, 0.0001726, 0, 0, 5.71e-05, 0.000101133, :\n",
      "\"cannot compute exact p-value with ties\"Warning message in wilcox.test.default(x = c(0.000163449, 0, 8.7e-05, 4.6e-05, 0, :\n",
      "\"cannot compute exact p-value with ties\"Warning message in wilcox.test.default(x = c(0, 0, 3.06e-05, 0, 0, 0, 0.000108739, :\n",
      "\"cannot compute exact p-value with ties\"Warning message in wilcox.test.default(x = c(0.000156642, 0, 0, 0, 0.000459299, :\n",
      "\"cannot compute exact p-value with ties\"Warning message in wilcox.test.default(x = c(0, 0.000283089, 3.91e-05, 0.00027971, :\n",
      "\"cannot compute exact p-value with ties\"Warning message in wilcox.test.default(x = c(0, 0, 0, 0, 6.26e-05, 7.98e-05, 3.97e-05, :\n",
      "\"cannot compute exact p-value with ties\"Warning message in wilcox.test.default(x = c(0.000364965, 0.000533009, 8.1e-05, :\n",
      "\"cannot compute exact p-value with ties\"Warning message in wilcox.test.default(x = c(0, 0.000184716, 0.000354836, 4.85e-05, :\n",
      "\"cannot compute exact p-value with ties\"Warning message in wilcox.test.default(x = c(0, 0, 0.000294099, 0.00013629, 4.85e-05, :\n",
      "\"cannot compute exact p-value with ties\"Warning message in wilcox.test.default(x = c(0.000366615, 0.000211679, 3e-05, 0, :\n",
      "\"cannot compute exact p-value with ties\"Warning message in wilcox.test.default(x = c(0.000129379, 0.000124496, 0.000112447, :\n",
      "\"cannot compute exact p-value with ties\"Warning message in wilcox.test.default(x = c(0, 0, 5.12e-05, 0, 0, 6.06e-05, 0, :\n",
      "\"cannot compute exact p-value with ties\"Warning message in wilcox.test.default(x = c(0, 0, 0.00014672, 0, 0, 8.65e-05, 4.44e-05, :\n",
      "\"cannot compute exact p-value with ties\"Warning message in wilcox.test.default(x = c(0, 0, 5.81e-05, 0, 0, 0, 0, 0, 0, 0, :\n",
      "\"cannot compute exact p-value with ties\"Warning message in wilcox.test.default(x = c(0.00022434, 0.000390484, 0.000194735, :\n",
      "\"cannot compute exact p-value with ties\"Warning message in wilcox.test.default(x = c(0, 0, 9e-05, 0, 0, 0, 0, 0, 0, 0, 0, :\n",
      "\"cannot compute exact p-value with ties\"Warning message in wilcox.test.default(x = c(0.000237525, 0.000375748, 0.000240641, :\n",
      "\"cannot compute exact p-value with ties\"Warning message in wilcox.test.default(x = c(0, 0, 5.07e-05, 0, 0, 0.000142555, :\n",
      "\"cannot compute exact p-value with ties\"Warning message in wilcox.test.default(x = c(0, 0, 0.000111762, 0, 0, 7.38e-05, :\n",
      "\"cannot compute exact p-value with ties\"Warning message in wilcox.test.default(x = c(0, 0, 0.000143191, 0, 0, 6.88e-05, :\n",
      "\"cannot compute exact p-value with ties\""
     ]
    },
    {
     "data": {
      "text/html": [
       "<ol class=list-inline>\n",
       "\t<li>0.538307257772393</li>\n",
       "\t<li>0.126147401015694</li>\n",
       "\t<li>0.00174349436500395</li>\n",
       "\t<li>0.129939258981612</li>\n",
       "\t<li>0.436289427525659</li>\n",
       "\t<li>0.345310897182987</li>\n",
       "</ol>\n"
      ],
      "text/latex": [
       "\\begin{enumerate*}\n",
       "\\item 0.538307257772393\n",
       "\\item 0.126147401015694\n",
       "\\item 0.00174349436500395\n",
       "\\item 0.129939258981612\n",
       "\\item 0.436289427525659\n",
       "\\item 0.345310897182987\n",
       "\\end{enumerate*}\n"
      ],
      "text/markdown": [
       "1. 0.538307257772393\n",
       "2. 0.126147401015694\n",
       "3. 0.00174349436500395\n",
       "4. 0.129939258981612\n",
       "5. 0.436289427525659\n",
       "6. 0.345310897182987\n",
       "\n",
       "\n"
      ],
      "text/plain": [
       "[1] 0.538307258 0.126147401 0.001743494 0.129939259 0.436289428 0.345310897"
      ]
     },
     "metadata": {},
     "output_type": "display_data"
    },
    {
     "data": {
      "text/html": [
       "<ol class=list-inline>\n",
       "\t<li>0.605595664993942</li>\n",
       "\t<li>0.240769803407105</li>\n",
       "\t<li>0.00835530261741753</li>\n",
       "\t<li>0.240769803407105</li>\n",
       "\t<li>0.528581421809933</li>\n",
       "\t<li>0.453220552552671</li>\n",
       "</ol>\n"
      ],
      "text/latex": [
       "\\begin{enumerate*}\n",
       "\\item 0.605595664993942\n",
       "\\item 0.240769803407105\n",
       "\\item 0.00835530261741753\n",
       "\\item 0.240769803407105\n",
       "\\item 0.528581421809933\n",
       "\\item 0.453220552552671\n",
       "\\end{enumerate*}\n"
      ],
      "text/markdown": [
       "1. 0.605595664993942\n",
       "2. 0.240769803407105\n",
       "3. 0.00835530261741753\n",
       "4. 0.240769803407105\n",
       "5. 0.528581421809933\n",
       "6. 0.453220552552671\n",
       "\n",
       "\n"
      ],
      "text/plain": [
       "[1] 0.605595665 0.240769803 0.008355303 0.240769803 0.528581422 0.453220553"
      ]
     },
     "metadata": {},
     "output_type": "display_data"
    }
   ],
   "source": [
    "pval<-c()#create an empty vector with value pval\n",
    "\n",
    "# 8 to the end of each row\n",
    "for (i in 8:ncol(nonzero_wMeta)) \n",
    "pval<-c(pval,wilcox.test(nonzero_wMeta[,i]~nonzero_wMeta$Treatmentgroup)$p.value) #assign to pval the output of the Mann-Whitney-Wilcoxon test\n",
    "    #don't know why there is that first pval in c(pval...) but it doesn't work without it\n",
    "    #$p.value is because there are many output lines from wilcox.test; you want to keep only the one that's called $p.value because that's where the nbr is\n",
    "\n",
    "head(pval) #to check\n",
    "pAdj <- p.adjust(pval, method = c(\"fdr\"), n=length(pval)) \n",
    "head(pAdj) \n",
    "\n"
   ]
  },
  {
   "cell_type": "code",
   "execution_count": 16,
   "metadata": {
    "scrolled": true
   },
   "outputs": [
    {
     "data": {
      "text/html": [
       "63"
      ],
      "text/latex": [
       "63"
      ],
      "text/markdown": [
       "63"
      ],
      "text/plain": [
       "[1] 63"
      ]
     },
     "metadata": {},
     "output_type": "display_data"
    }
   ],
   "source": [
    "length(pval)"
   ]
  },
  {
   "cell_type": "code",
   "execution_count": 17,
   "metadata": {
    "scrolled": true
   },
   "outputs": [
    {
     "data": {
      "text/html": [
       "63"
      ],
      "text/latex": [
       "63"
      ],
      "text/markdown": [
       "63"
      ],
      "text/plain": [
       "[1] 63"
      ]
     },
     "metadata": {},
     "output_type": "display_data"
    }
   ],
   "source": [
    "length(pAdj)"
   ]
  },
  {
   "cell_type": "code",
   "execution_count": 18,
   "metadata": {},
   "outputs": [
    {
     "data": {
      "text/html": [
       "<ol class=list-inline>\n",
       "\t<li>2</li>\n",
       "\t<li>63</li>\n",
       "</ol>\n"
      ],
      "text/latex": [
       "\\begin{enumerate*}\n",
       "\\item 2\n",
       "\\item 63\n",
       "\\end{enumerate*}\n"
      ],
      "text/markdown": [
       "1. 2\n",
       "2. 63\n",
       "\n",
       "\n"
      ],
      "text/plain": [
       "[1]  2 63"
      ]
     },
     "metadata": {},
     "output_type": "display_data"
    },
    {
     "data": {
      "text/html": [
       "<table>\n",
       "<thead><tr><th></th><th scope=col>X268.105_0.35</th><th scope=col>X269.088_0.35</th><th scope=col>X111.044_2.768</th></tr></thead>\n",
       "<tbody>\n",
       "\t<tr><th scope=row>Group3E</th><td>3.067573e-05</td><td>0.0008868792</td><td>1.129374e-04</td></tr>\n",
       "\t<tr><th scope=row>Group9</th><td>1.332822e-04</td><td>0.0011207612</td><td>4.741793e-05</td></tr>\n",
       "</tbody>\n",
       "</table>\n"
      ],
      "text/latex": [
       "\\begin{tabular}{r|lll}\n",
       "  & X268.105\\_0.35 & X269.088\\_0.35 & X111.044\\_2.768\\\\\n",
       "\\hline\n",
       "\tGroup3E & 3.067573e-05 & 0.0008868792 & 1.129374e-04\\\\\n",
       "\tGroup9 & 1.332822e-04 & 0.0011207612 & 4.741793e-05\\\\\n",
       "\\end{tabular}\n"
      ],
      "text/markdown": [
       "\n",
       "| <!--/--> | X268.105_0.35 | X269.088_0.35 | X111.044_2.768 |\n",
       "|---|---|---|---|\n",
       "| Group3E | 3.067573e-05 | 0.0008868792 | 1.129374e-04 |\n",
       "| Group9 | 1.332822e-04 | 0.0011207612 | 4.741793e-05 |\n",
       "\n"
      ],
      "text/plain": [
       "        X268.105_0.35 X269.088_0.35 X111.044_2.768\n",
       "Group3E 3.067573e-05  0.0008868792  1.129374e-04  \n",
       "Group9  1.332822e-04  0.0011207612  4.741793e-05  "
      ]
     },
     "metadata": {},
     "output_type": "display_data"
    },
    {
     "data": {
      "text/html": [
       "<dl class=dl-horizontal>\n",
       "\t<dt>X268.105_0.35</dt>\n",
       "\t\t<dd>0.2301562649276</dd>\n",
       "\t<dt>X269.088_0.35</dt>\n",
       "\t\t<dd>0.791318614527341</dd>\n",
       "\t<dt>X111.044_2.768</dt>\n",
       "\t\t<dd>2.38174445955047</dd>\n",
       "\t<dt>X122.082_0.534</dt>\n",
       "\t\t<dd>0.434546923159651</dd>\n",
       "\t<dt>X130.087_0.452</dt>\n",
       "\t\t<dd>0.92942998214666</dd>\n",
       "\t<dt>X137.046_0.35</dt>\n",
       "\t\t<dd>0.89564956403251</dd>\n",
       "</dl>\n"
      ],
      "text/latex": [
       "\\begin{description*}\n",
       "\\item[X268.105\\textbackslash{}\\_0.35] 0.2301562649276\n",
       "\\item[X269.088\\textbackslash{}\\_0.35] 0.791318614527341\n",
       "\\item[X111.044\\textbackslash{}\\_2.768] 2.38174445955047\n",
       "\\item[X122.082\\textbackslash{}\\_0.534] 0.434546923159651\n",
       "\\item[X130.087\\textbackslash{}\\_0.452] 0.92942998214666\n",
       "\\item[X137.046\\textbackslash{}\\_0.35] 0.89564956403251\n",
       "\\end{description*}\n"
      ],
      "text/markdown": [
       "X268.105_0.35\n",
       ":   0.2301562649276X269.088_0.35\n",
       ":   0.791318614527341X111.044_2.768\n",
       ":   2.38174445955047X122.082_0.534\n",
       ":   0.434546923159651X130.087_0.452\n",
       ":   0.92942998214666X137.046_0.35\n",
       ":   0.89564956403251\n",
       "\n"
      ],
      "text/plain": [
       " X268.105_0.35  X269.088_0.35 X111.044_2.768 X122.082_0.534 X130.087_0.452 \n",
       "     0.2301563      0.7913186      2.3817445      0.4345469      0.9294300 \n",
       " X137.046_0.35 \n",
       "     0.8956496 "
      ]
     },
     "metadata": {},
     "output_type": "display_data"
    },
    {
     "data": {
      "text/html": [
       "<ol class=list-inline>\n",
       "\t<li>'numeric'</li>\n",
       "\t<li>'vector'</li>\n",
       "</ol>\n"
      ],
      "text/latex": [
       "\\begin{enumerate*}\n",
       "\\item 'numeric'\n",
       "\\item 'vector'\n",
       "\\end{enumerate*}\n"
      ],
      "text/markdown": [
       "1. 'numeric'\n",
       "2. 'vector'\n",
       "\n",
       "\n"
      ],
      "text/plain": [
       "[1] \"numeric\" \"vector\" "
      ]
     },
     "metadata": {},
     "output_type": "display_data"
    }
   ],
   "source": [
    "# change the column name, you want to see infected and naive so it should be State\n",
    "avg<- apply(nonzero_wMeta[,8:ncol(nonzero_wMeta)], 2, function(x) tapply(x, nonzero_wMeta$Treatmentgroup, function(x) mean(x))) \n",
    "\n",
    "dim(avg) #to check\n",
    "\n",
    "avg[,1:3]#to check\n",
    "\n",
    "fch <- apply(avg, 2, function(x) x[1]/x[2]) #calculate fold change\n",
    "\n",
    "head(fch) #to check it's ok\n",
    "is(fch)"
   ]
  },
  {
   "cell_type": "code",
   "execution_count": 19,
   "metadata": {
    "scrolled": true
   },
   "outputs": [
    {
     "data": {
      "text/html": [
       "<dl class=dl-horizontal>\n",
       "\t<dt>X268.105_0.35</dt>\n",
       "\t\t<dd>0.2301562649276</dd>\n",
       "\t<dt>X269.088_0.35</dt>\n",
       "\t\t<dd>0.791318614527341</dd>\n",
       "\t<dt>X111.044_2.768</dt>\n",
       "\t\t<dd>2.38174445955047</dd>\n",
       "\t<dt>X122.082_0.534</dt>\n",
       "\t\t<dd>0.434546923159651</dd>\n",
       "\t<dt>X130.087_0.452</dt>\n",
       "\t\t<dd>0.92942998214666</dd>\n",
       "\t<dt>X137.046_0.35</dt>\n",
       "\t\t<dd>0.89564956403251</dd>\n",
       "\t<dt>X142.035_0.315</dt>\n",
       "\t\t<dd>0.796545512032024</dd>\n",
       "\t<dt>X172.134_2.343</dt>\n",
       "\t\t<dd>0.722716925577497</dd>\n",
       "\t<dt>X175.148_2.71</dt>\n",
       "\t\t<dd>0.73966480814022</dd>\n",
       "\t<dt>X198.15_2.471</dt>\n",
       "\t\t<dd>0.574197164445998</dd>\n",
       "\t<dt>X200.165_3.207</dt>\n",
       "\t\t<dd>0.601339972527619</dd>\n",
       "\t<dt>X214.181_2.634</dt>\n",
       "\t\t<dd>0.815025913664826</dd>\n",
       "\t<dt>X216.16_2.471</dt>\n",
       "\t\t<dd>0.393229391282261</dd>\n",
       "\t<dt>X228.196_2.71</dt>\n",
       "\t\t<dd>0.783087974935221</dd>\n",
       "\t<dt>X230.176_2.586</dt>\n",
       "\t\t<dd>0.545676184368491</dd>\n",
       "\t<dt>X232.191_2.63</dt>\n",
       "\t\t<dd>0.738081439371877</dd>\n",
       "\t<dt>X242.212_2.78</dt>\n",
       "\t\t<dd>0.632721185697875</dd>\n",
       "\t<dt>X249.112_2.768</dt>\n",
       "\t\t<dd>3.03885570261777</dd>\n",
       "\t<dt>X256.227_2.847</dt>\n",
       "\t\t<dd>0.785655812852574</dd>\n",
       "\t<dt>X256.227_3.318</dt>\n",
       "\t\t<dd>1.08420669878176</dd>\n",
       "\t<dt>X258.207_2.775</dt>\n",
       "\t\t<dd>0.717200602718608</dd>\n",
       "\t<dt>X272.222_2.957</dt>\n",
       "\t\t<dd>1.68947704926521</dd>\n",
       "\t<dt>X278.248_3.1</dt>\n",
       "\t\t<dd>0.940591689034816</dd>\n",
       "\t<dt>X280.189_2.775</dt>\n",
       "\t\t<dd>0.336520804726765</dd>\n",
       "\t<dt>X280.264_3.159</dt>\n",
       "\t\t<dd>0.918569018578705</dd>\n",
       "\t<dt>X282.28_3.246</dt>\n",
       "\t\t<dd>0.861724734229217</dd>\n",
       "\t<dt>X296.259_2.971</dt>\n",
       "\t\t<dd>0.738988006305502</dd>\n",
       "\t<dt>X303.305_3.529</dt>\n",
       "\t\t<dd>6.76657471075061</dd>\n",
       "\t<dt>X303.648_2.884</dt>\n",
       "\t\t<dd>0.29588051170785</dd>\n",
       "\t<dt>X306.279_2.989</dt>\n",
       "\t\t<dd>0.785020582040973</dd>\n",
       "\t<dt>X306.279_3.212</dt>\n",
       "\t\t<dd>0.78880743289772</dd>\n",
       "\t<dt>X308.295_3.045</dt>\n",
       "\t\t<dd>0.907015380584943</dd>\n",
       "\t<dt>X308.295_3.285</dt>\n",
       "\t\t<dd>0.962373565521878</dd>\n",
       "\t<dt>X324.327_3.455</dt>\n",
       "\t\t<dd>1.41870778419572</dd>\n",
       "\t<dt>X327.232_3.01</dt>\n",
       "\t\t<dd>0.25420146789419</dd>\n",
       "\t<dt>X333.063_2.524</dt>\n",
       "\t\t<dd>0.814404837278928</dd>\n",
       "\t<dt>X334.311_3.335</dt>\n",
       "\t\t<dd>1.3264940938583</dd>\n",
       "\t<dt>X352.321_3.187</dt>\n",
       "\t\t<dd>0.908242163629161</dd>\n",
       "\t<dt>X368.316_2.962</dt>\n",
       "\t\t<dd>0.567101626361563</dd>\n",
       "\t<dt>X368.317_3.315</dt>\n",
       "\t\t<dd>1.15287975394501</dd>\n",
       "\t<dt>X369.17_2.767</dt>\n",
       "\t\t<dd>1.59596408170865</dd>\n",
       "\t<dt>X399.394_3.159</dt>\n",
       "\t\t<dd>Inf</dd>\n",
       "\t<dt>X399.395_3.152</dt>\n",
       "\t\t<dd>0.848344724911005</dd>\n",
       "\t<dt>X489.228_2.768</dt>\n",
       "\t\t<dd>2.04782102066424</dd>\n",
       "\t<dt>X506.255_3.172</dt>\n",
       "\t\t<dd>0.159032217778946</dd>\n",
       "\t<dt>X530.289_2.929</dt>\n",
       "\t\t<dd>1.37356321539981</dd>\n",
       "\t<dt>X568.341_2.887</dt>\n",
       "\t\t<dd>0.754485862625389</dd>\n",
       "\t<dt>X570.357_2.934</dt>\n",
       "\t\t<dd>0.681817544992881</dd>\n",
       "\t<dt>X599.241_2.765</dt>\n",
       "\t\t<dd>1.78363485563024</dd>\n",
       "\t<dt>X602.344_2.984</dt>\n",
       "\t\t<dd>0.749517922056684</dd>\n",
       "\t<dt>X604.362_2.948</dt>\n",
       "\t\t<dd>0.585720662762913</dd>\n",
       "\t<dt>X637.306_3.32</dt>\n",
       "\t\t<dd>0.876333492620816</dd>\n",
       "\t<dt>X666.434_3.024</dt>\n",
       "\t\t<dd>1.4716958836026</dd>\n",
       "\t<dt>X705.141_2.339</dt>\n",
       "\t\t<dd>1.33894567949833</dd>\n",
       "\t<dt>X776.148_2.398</dt>\n",
       "\t\t<dd>0.218713304512684</dd>\n",
       "\t<dt>X776.253_2.398</dt>\n",
       "\t\t<dd>0.397578549308268</dd>\n",
       "\t<dt>X776.411_2.398</dt>\n",
       "\t\t<dd>0.147391226036241</dd>\n",
       "\t<dt>X792.329_2.764</dt>\n",
       "\t\t<dd>2.71053562007085</dd>\n",
       "\t<dt>X811.309_2.773</dt>\n",
       "\t\t<dd>0.618144604627843</dd>\n",
       "\t<dt>X811.31_2.767</dt>\n",
       "\t\t<dd>1.83373829090391</dd>\n",
       "\t<dt>X819.211_2.398</dt>\n",
       "\t\t<dd>0.332053984973423</dd>\n",
       "\t<dt>X819.322_2.398</dt>\n",
       "\t\t<dd>0.428696625303671</dd>\n",
       "\t<dt>X819.378_2.399</dt>\n",
       "\t\t<dd>0.455535876532975</dd>\n",
       "</dl>\n"
      ],
      "text/latex": [
       "\\begin{description*}\n",
       "\\item[X268.105\\textbackslash{}\\_0.35] 0.2301562649276\n",
       "\\item[X269.088\\textbackslash{}\\_0.35] 0.791318614527341\n",
       "\\item[X111.044\\textbackslash{}\\_2.768] 2.38174445955047\n",
       "\\item[X122.082\\textbackslash{}\\_0.534] 0.434546923159651\n",
       "\\item[X130.087\\textbackslash{}\\_0.452] 0.92942998214666\n",
       "\\item[X137.046\\textbackslash{}\\_0.35] 0.89564956403251\n",
       "\\item[X142.035\\textbackslash{}\\_0.315] 0.796545512032024\n",
       "\\item[X172.134\\textbackslash{}\\_2.343] 0.722716925577497\n",
       "\\item[X175.148\\textbackslash{}\\_2.71] 0.73966480814022\n",
       "\\item[X198.15\\textbackslash{}\\_2.471] 0.574197164445998\n",
       "\\item[X200.165\\textbackslash{}\\_3.207] 0.601339972527619\n",
       "\\item[X214.181\\textbackslash{}\\_2.634] 0.815025913664826\n",
       "\\item[X216.16\\textbackslash{}\\_2.471] 0.393229391282261\n",
       "\\item[X228.196\\textbackslash{}\\_2.71] 0.783087974935221\n",
       "\\item[X230.176\\textbackslash{}\\_2.586] 0.545676184368491\n",
       "\\item[X232.191\\textbackslash{}\\_2.63] 0.738081439371877\n",
       "\\item[X242.212\\textbackslash{}\\_2.78] 0.632721185697875\n",
       "\\item[X249.112\\textbackslash{}\\_2.768] 3.03885570261777\n",
       "\\item[X256.227\\textbackslash{}\\_2.847] 0.785655812852574\n",
       "\\item[X256.227\\textbackslash{}\\_3.318] 1.08420669878176\n",
       "\\item[X258.207\\textbackslash{}\\_2.775] 0.717200602718608\n",
       "\\item[X272.222\\textbackslash{}\\_2.957] 1.68947704926521\n",
       "\\item[X278.248\\textbackslash{}\\_3.1] 0.940591689034816\n",
       "\\item[X280.189\\textbackslash{}\\_2.775] 0.336520804726765\n",
       "\\item[X280.264\\textbackslash{}\\_3.159] 0.918569018578705\n",
       "\\item[X282.28\\textbackslash{}\\_3.246] 0.861724734229217\n",
       "\\item[X296.259\\textbackslash{}\\_2.971] 0.738988006305502\n",
       "\\item[X303.305\\textbackslash{}\\_3.529] 6.76657471075061\n",
       "\\item[X303.648\\textbackslash{}\\_2.884] 0.29588051170785\n",
       "\\item[X306.279\\textbackslash{}\\_2.989] 0.785020582040973\n",
       "\\item[X306.279\\textbackslash{}\\_3.212] 0.78880743289772\n",
       "\\item[X308.295\\textbackslash{}\\_3.045] 0.907015380584943\n",
       "\\item[X308.295\\textbackslash{}\\_3.285] 0.962373565521878\n",
       "\\item[X324.327\\textbackslash{}\\_3.455] 1.41870778419572\n",
       "\\item[X327.232\\textbackslash{}\\_3.01] 0.25420146789419\n",
       "\\item[X333.063\\textbackslash{}\\_2.524] 0.814404837278928\n",
       "\\item[X334.311\\textbackslash{}\\_3.335] 1.3264940938583\n",
       "\\item[X352.321\\textbackslash{}\\_3.187] 0.908242163629161\n",
       "\\item[X368.316\\textbackslash{}\\_2.962] 0.567101626361563\n",
       "\\item[X368.317\\textbackslash{}\\_3.315] 1.15287975394501\n",
       "\\item[X369.17\\textbackslash{}\\_2.767] 1.59596408170865\n",
       "\\item[X399.394\\textbackslash{}\\_3.159] Inf\n",
       "\\item[X399.395\\textbackslash{}\\_3.152] 0.848344724911005\n",
       "\\item[X489.228\\textbackslash{}\\_2.768] 2.04782102066424\n",
       "\\item[X506.255\\textbackslash{}\\_3.172] 0.159032217778946\n",
       "\\item[X530.289\\textbackslash{}\\_2.929] 1.37356321539981\n",
       "\\item[X568.341\\textbackslash{}\\_2.887] 0.754485862625389\n",
       "\\item[X570.357\\textbackslash{}\\_2.934] 0.681817544992881\n",
       "\\item[X599.241\\textbackslash{}\\_2.765] 1.78363485563024\n",
       "\\item[X602.344\\textbackslash{}\\_2.984] 0.749517922056684\n",
       "\\item[X604.362\\textbackslash{}\\_2.948] 0.585720662762913\n",
       "\\item[X637.306\\textbackslash{}\\_3.32] 0.876333492620816\n",
       "\\item[X666.434\\textbackslash{}\\_3.024] 1.4716958836026\n",
       "\\item[X705.141\\textbackslash{}\\_2.339] 1.33894567949833\n",
       "\\item[X776.148\\textbackslash{}\\_2.398] 0.218713304512684\n",
       "\\item[X776.253\\textbackslash{}\\_2.398] 0.397578549308268\n",
       "\\item[X776.411\\textbackslash{}\\_2.398] 0.147391226036241\n",
       "\\item[X792.329\\textbackslash{}\\_2.764] 2.71053562007085\n",
       "\\item[X811.309\\textbackslash{}\\_2.773] 0.618144604627843\n",
       "\\item[X811.31\\textbackslash{}\\_2.767] 1.83373829090391\n",
       "\\item[X819.211\\textbackslash{}\\_2.398] 0.332053984973423\n",
       "\\item[X819.322\\textbackslash{}\\_2.398] 0.428696625303671\n",
       "\\item[X819.378\\textbackslash{}\\_2.399] 0.455535876532975\n",
       "\\end{description*}\n"
      ],
      "text/markdown": [
       "X268.105_0.35\n",
       ":   0.2301562649276X269.088_0.35\n",
       ":   0.791318614527341X111.044_2.768\n",
       ":   2.38174445955047X122.082_0.534\n",
       ":   0.434546923159651X130.087_0.452\n",
       ":   0.92942998214666X137.046_0.35\n",
       ":   0.89564956403251X142.035_0.315\n",
       ":   0.796545512032024X172.134_2.343\n",
       ":   0.722716925577497X175.148_2.71\n",
       ":   0.73966480814022X198.15_2.471\n",
       ":   0.574197164445998X200.165_3.207\n",
       ":   0.601339972527619X214.181_2.634\n",
       ":   0.815025913664826X216.16_2.471\n",
       ":   0.393229391282261X228.196_2.71\n",
       ":   0.783087974935221X230.176_2.586\n",
       ":   0.545676184368491X232.191_2.63\n",
       ":   0.738081439371877X242.212_2.78\n",
       ":   0.632721185697875X249.112_2.768\n",
       ":   3.03885570261777X256.227_2.847\n",
       ":   0.785655812852574X256.227_3.318\n",
       ":   1.08420669878176X258.207_2.775\n",
       ":   0.717200602718608X272.222_2.957\n",
       ":   1.68947704926521X278.248_3.1\n",
       ":   0.940591689034816X280.189_2.775\n",
       ":   0.336520804726765X280.264_3.159\n",
       ":   0.918569018578705X282.28_3.246\n",
       ":   0.861724734229217X296.259_2.971\n",
       ":   0.738988006305502X303.305_3.529\n",
       ":   6.76657471075061X303.648_2.884\n",
       ":   0.29588051170785X306.279_2.989\n",
       ":   0.785020582040973X306.279_3.212\n",
       ":   0.78880743289772X308.295_3.045\n",
       ":   0.907015380584943X308.295_3.285\n",
       ":   0.962373565521878X324.327_3.455\n",
       ":   1.41870778419572X327.232_3.01\n",
       ":   0.25420146789419X333.063_2.524\n",
       ":   0.814404837278928X334.311_3.335\n",
       ":   1.3264940938583X352.321_3.187\n",
       ":   0.908242163629161X368.316_2.962\n",
       ":   0.567101626361563X368.317_3.315\n",
       ":   1.15287975394501X369.17_2.767\n",
       ":   1.59596408170865X399.394_3.159\n",
       ":   InfX399.395_3.152\n",
       ":   0.848344724911005X489.228_2.768\n",
       ":   2.04782102066424X506.255_3.172\n",
       ":   0.159032217778946X530.289_2.929\n",
       ":   1.37356321539981X568.341_2.887\n",
       ":   0.754485862625389X570.357_2.934\n",
       ":   0.681817544992881X599.241_2.765\n",
       ":   1.78363485563024X602.344_2.984\n",
       ":   0.749517922056684X604.362_2.948\n",
       ":   0.585720662762913X637.306_3.32\n",
       ":   0.876333492620816X666.434_3.024\n",
       ":   1.4716958836026X705.141_2.339\n",
       ":   1.33894567949833X776.148_2.398\n",
       ":   0.218713304512684X776.253_2.398\n",
       ":   0.397578549308268X776.411_2.398\n",
       ":   0.147391226036241X792.329_2.764\n",
       ":   2.71053562007085X811.309_2.773\n",
       ":   0.618144604627843X811.31_2.767\n",
       ":   1.83373829090391X819.211_2.398\n",
       ":   0.332053984973423X819.322_2.398\n",
       ":   0.428696625303671X819.378_2.399\n",
       ":   0.455535876532975\n",
       "\n"
      ],
      "text/plain": [
       " X268.105_0.35  X269.088_0.35 X111.044_2.768 X122.082_0.534 X130.087_0.452 \n",
       "     0.2301563      0.7913186      2.3817445      0.4345469      0.9294300 \n",
       " X137.046_0.35 X142.035_0.315 X172.134_2.343  X175.148_2.71  X198.15_2.471 \n",
       "     0.8956496      0.7965455      0.7227169      0.7396648      0.5741972 \n",
       "X200.165_3.207 X214.181_2.634  X216.16_2.471  X228.196_2.71 X230.176_2.586 \n",
       "     0.6013400      0.8150259      0.3932294      0.7830880      0.5456762 \n",
       " X232.191_2.63  X242.212_2.78 X249.112_2.768 X256.227_2.847 X256.227_3.318 \n",
       "     0.7380814      0.6327212      3.0388557      0.7856558      1.0842067 \n",
       "X258.207_2.775 X272.222_2.957   X278.248_3.1 X280.189_2.775 X280.264_3.159 \n",
       "     0.7172006      1.6894770      0.9405917      0.3365208      0.9185690 \n",
       " X282.28_3.246 X296.259_2.971 X303.305_3.529 X303.648_2.884 X306.279_2.989 \n",
       "     0.8617247      0.7389880      6.7665747      0.2958805      0.7850206 \n",
       "X306.279_3.212 X308.295_3.045 X308.295_3.285 X324.327_3.455  X327.232_3.01 \n",
       "     0.7888074      0.9070154      0.9623736      1.4187078      0.2542015 \n",
       "X333.063_2.524 X334.311_3.335 X352.321_3.187 X368.316_2.962 X368.317_3.315 \n",
       "     0.8144048      1.3264941      0.9082422      0.5671016      1.1528798 \n",
       " X369.17_2.767 X399.394_3.159 X399.395_3.152 X489.228_2.768 X506.255_3.172 \n",
       "     1.5959641            Inf      0.8483447      2.0478210      0.1590322 \n",
       "X530.289_2.929 X568.341_2.887 X570.357_2.934 X599.241_2.765 X602.344_2.984 \n",
       "     1.3735632      0.7544859      0.6818175      1.7836349      0.7495179 \n",
       "X604.362_2.948  X637.306_3.32 X666.434_3.024 X705.141_2.339 X776.148_2.398 \n",
       "     0.5857207      0.8763335      1.4716959      1.3389457      0.2187133 \n",
       "X776.253_2.398 X776.411_2.398 X792.329_2.764 X811.309_2.773  X811.31_2.767 \n",
       "     0.3975785      0.1473912      2.7105356      0.6181446      1.8337383 \n",
       "X819.211_2.398 X819.322_2.398 X819.378_2.399 \n",
       "     0.3320540      0.4286966      0.4555359 "
      ]
     },
     "metadata": {},
     "output_type": "display_data"
    }
   ],
   "source": [
    "fch"
   ]
  },
  {
   "cell_type": "code",
   "execution_count": 20,
   "metadata": {
    "scrolled": false
   },
   "outputs": [],
   "source": [
    "#Convoluted way to get the names; likely could find a simpler way\n",
    "\n",
    "#make dataframe from pval and fch\n",
    "df <- data.frame(fch,pval, pAdj)\n",
    "write.csv(df, \"RVT-wilcox-3E-9.csv\")"
   ]
  },
  {
   "cell_type": "code",
   "execution_count": null,
   "metadata": {},
   "outputs": [],
   "source": []
  },
  {
   "cell_type": "code",
   "execution_count": null,
   "metadata": {},
   "outputs": [],
   "source": []
  },
  {
   "cell_type": "code",
   "execution_count": null,
   "metadata": {},
   "outputs": [],
   "source": []
  }
 ],
 "metadata": {
  "kernelspec": {
   "display_name": "R",
   "language": "R",
   "name": "ir"
  },
  "language_info": {
   "codemirror_mode": "r",
   "file_extension": ".r",
   "mimetype": "text/x-r-source",
   "name": "R",
   "pygments_lexer": "r",
   "version": "3.6.1"
  }
 },
 "nbformat": 4,
 "nbformat_minor": 2
}
