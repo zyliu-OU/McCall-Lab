{
 "cells": [
  {
   "cell_type": "code",
   "execution_count": 1,
   "metadata": {},
   "outputs": [
    {
     "name": "stderr",
     "output_type": "stream",
     "text": [
      "Warning message:\n",
      "\"package 'dplyr' was built under R version 3.6.3\"\n",
      "Attaching package: 'dplyr'\n",
      "\n",
      "The following objects are masked from 'package:stats':\n",
      "\n",
      "    filter, lag\n",
      "\n",
      "The following objects are masked from 'package:base':\n",
      "\n",
      "    intersect, setdiff, setequal, union\n",
      "\n"
     ]
    }
   ],
   "source": [
    "library(dplyr)"
   ]
  },
  {
   "cell_type": "code",
   "execution_count": 2,
   "metadata": {},
   "outputs": [
    {
     "data": {
      "text/html": [
       "<table>\n",
       "<thead><tr><th scope=col>filename</th><th scope=col>LVB_naive_VS_infected</th></tr></thead>\n",
       "<tbody>\n",
       "\t<tr><td>X440.337_2.765</td><td>0.000086100   </td></tr>\n",
       "\t<tr><td>X442.353_2.823</td><td>0.000037300   </td></tr>\n",
       "\t<tr><td>X105.07_2.767 </td><td>0.000078700   </td></tr>\n",
       "\t<tr><td>X119.049_2.765</td><td>0.000196176   </td></tr>\n",
       "\t<tr><td>X128.018_0.344</td><td>0.000023800   </td></tr>\n",
       "\t<tr><td>X136.062_0.301</td><td>0.000050300   </td></tr>\n",
       "</tbody>\n",
       "</table>\n"
      ],
      "text/latex": [
       "\\begin{tabular}{r|ll}\n",
       " filename & LVB\\_naive\\_VS\\_infected\\\\\n",
       "\\hline\n",
       "\t X440.337\\_2.765 & 0.000086100     \\\\\n",
       "\t X442.353\\_2.823 & 0.000037300     \\\\\n",
       "\t X105.07\\_2.767  & 0.000078700     \\\\\n",
       "\t X119.049\\_2.765 & 0.000196176     \\\\\n",
       "\t X128.018\\_0.344 & 0.000023800     \\\\\n",
       "\t X136.062\\_0.301 & 0.000050300     \\\\\n",
       "\\end{tabular}\n"
      ],
      "text/markdown": [
       "\n",
       "| filename | LVB_naive_VS_infected |\n",
       "|---|---|\n",
       "| X440.337_2.765 | 0.000086100    |\n",
       "| X442.353_2.823 | 0.000037300    |\n",
       "| X105.07_2.767  | 0.000078700    |\n",
       "| X119.049_2.765 | 0.000196176    |\n",
       "| X128.018_0.344 | 0.000023800    |\n",
       "| X136.062_0.301 | 0.000050300    |\n",
       "\n"
      ],
      "text/plain": [
       "  filename       LVB_naive_VS_infected\n",
       "1 X440.337_2.765 0.000086100          \n",
       "2 X442.353_2.823 0.000037300          \n",
       "3 X105.07_2.767  0.000078700          \n",
       "4 X119.049_2.765 0.000196176          \n",
       "5 X128.018_0.344 0.000023800          \n",
       "6 X136.062_0.301 0.000050300          "
      ]
     },
     "metadata": {},
     "output_type": "display_data"
    },
    {
     "data": {
      "text/html": [
       "<ol class=list-inline>\n",
       "\t<li>55</li>\n",
       "\t<li>2</li>\n",
       "</ol>\n"
      ],
      "text/latex": [
       "\\begin{enumerate*}\n",
       "\\item 55\n",
       "\\item 2\n",
       "\\end{enumerate*}\n"
      ],
      "text/markdown": [
       "1. 55\n",
       "2. 2\n",
       "\n",
       "\n"
      ],
      "text/plain": [
       "[1] 55  2"
      ]
     },
     "metadata": {},
     "output_type": "display_data"
    },
    {
     "data": {
      "text/html": [
       "<table>\n",
       "<thead><tr><th scope=col>filename</th><th scope=col>LVB_naive_VS_combo</th></tr></thead>\n",
       "<tbody>\n",
       "\t<tr><td>X105.07_2.767 </td><td>0.054580129   </td></tr>\n",
       "\t<tr><td>X119.049_2.765</td><td>0.036297949   </td></tr>\n",
       "\t<tr><td>X128.018_0.344</td><td>0.000152441   </td></tr>\n",
       "\t<tr><td>X136.062_0.301</td><td>0.003855795   </td></tr>\n",
       "\t<tr><td>X136.097_0.551</td><td>0.029273934   </td></tr>\n",
       "\t<tr><td>X137.046_0.31 </td><td>0.000657136   </td></tr>\n",
       "</tbody>\n",
       "</table>\n"
      ],
      "text/latex": [
       "\\begin{tabular}{r|ll}\n",
       " filename & LVB\\_naive\\_VS\\_combo\\\\\n",
       "\\hline\n",
       "\t X105.07\\_2.767  & 0.054580129     \\\\\n",
       "\t X119.049\\_2.765 & 0.036297949     \\\\\n",
       "\t X128.018\\_0.344 & 0.000152441     \\\\\n",
       "\t X136.062\\_0.301 & 0.003855795     \\\\\n",
       "\t X136.097\\_0.551 & 0.029273934     \\\\\n",
       "\t X137.046\\_0.31  & 0.000657136     \\\\\n",
       "\\end{tabular}\n"
      ],
      "text/markdown": [
       "\n",
       "| filename | LVB_naive_VS_combo |\n",
       "|---|---|\n",
       "| X105.07_2.767  | 0.054580129    |\n",
       "| X119.049_2.765 | 0.036297949    |\n",
       "| X128.018_0.344 | 0.000152441    |\n",
       "| X136.062_0.301 | 0.003855795    |\n",
       "| X136.097_0.551 | 0.029273934    |\n",
       "| X137.046_0.31  | 0.000657136    |\n",
       "\n"
      ],
      "text/plain": [
       "  filename       LVB_naive_VS_combo\n",
       "1 X105.07_2.767  0.054580129       \n",
       "2 X119.049_2.765 0.036297949       \n",
       "3 X128.018_0.344 0.000152441       \n",
       "4 X136.062_0.301 0.003855795       \n",
       "5 X136.097_0.551 0.029273934       \n",
       "6 X137.046_0.31  0.000657136       "
      ]
     },
     "metadata": {},
     "output_type": "display_data"
    },
    {
     "data": {
      "text/html": [
       "<ol class=list-inline>\n",
       "\t<li>55</li>\n",
       "\t<li>2</li>\n",
       "</ol>\n"
      ],
      "text/latex": [
       "\\begin{enumerate*}\n",
       "\\item 55\n",
       "\\item 2\n",
       "\\end{enumerate*}\n"
      ],
      "text/markdown": [
       "1. 55\n",
       "2. 2\n",
       "\n",
       "\n"
      ],
      "text/plain": [
       "[1] 55  2"
      ]
     },
     "metadata": {},
     "output_type": "display_data"
    },
    {
     "data": {
      "text/html": [
       "<table>\n",
       "<thead><tr><th scope=col>filename</th><th scope=col>LVB_naive_VS_BNZ</th></tr></thead>\n",
       "<tbody>\n",
       "\t<tr><td>X105.07_2.767 </td><td>0.026165511   </td></tr>\n",
       "\t<tr><td>X119.049_2.765</td><td>0.142143063   </td></tr>\n",
       "\t<tr><td>X128.018_0.344</td><td>0.000412758   </td></tr>\n",
       "\t<tr><td>X136.062_0.301</td><td>0.000991069   </td></tr>\n",
       "\t<tr><td>X136.097_0.551</td><td>0.000846563   </td></tr>\n",
       "\t<tr><td>X137.046_0.31 </td><td>0.036051247   </td></tr>\n",
       "</tbody>\n",
       "</table>\n"
      ],
      "text/latex": [
       "\\begin{tabular}{r|ll}\n",
       " filename & LVB\\_naive\\_VS\\_BNZ\\\\\n",
       "\\hline\n",
       "\t X105.07\\_2.767  & 0.026165511     \\\\\n",
       "\t X119.049\\_2.765 & 0.142143063     \\\\\n",
       "\t X128.018\\_0.344 & 0.000412758     \\\\\n",
       "\t X136.062\\_0.301 & 0.000991069     \\\\\n",
       "\t X136.097\\_0.551 & 0.000846563     \\\\\n",
       "\t X137.046\\_0.31  & 0.036051247     \\\\\n",
       "\\end{tabular}\n"
      ],
      "text/markdown": [
       "\n",
       "| filename | LVB_naive_VS_BNZ |\n",
       "|---|---|\n",
       "| X105.07_2.767  | 0.026165511    |\n",
       "| X119.049_2.765 | 0.142143063    |\n",
       "| X128.018_0.344 | 0.000412758    |\n",
       "| X136.062_0.301 | 0.000991069    |\n",
       "| X136.097_0.551 | 0.000846563    |\n",
       "| X137.046_0.31  | 0.036051247    |\n",
       "\n"
      ],
      "text/plain": [
       "  filename       LVB_naive_VS_BNZ\n",
       "1 X105.07_2.767  0.026165511     \n",
       "2 X119.049_2.765 0.142143063     \n",
       "3 X128.018_0.344 0.000412758     \n",
       "4 X136.062_0.301 0.000991069     \n",
       "5 X136.097_0.551 0.000846563     \n",
       "6 X137.046_0.31  0.036051247     "
      ]
     },
     "metadata": {},
     "output_type": "display_data"
    },
    {
     "data": {
      "text/html": [
       "<ol class=list-inline>\n",
       "\t<li>55</li>\n",
       "\t<li>2</li>\n",
       "</ol>\n"
      ],
      "text/latex": [
       "\\begin{enumerate*}\n",
       "\\item 55\n",
       "\\item 2\n",
       "\\end{enumerate*}\n"
      ],
      "text/markdown": [
       "1. 55\n",
       "2. 2\n",
       "\n",
       "\n"
      ],
      "text/plain": [
       "[1] 55  2"
      ]
     },
     "metadata": {},
     "output_type": "display_data"
    },
    {
     "data": {
      "text/html": [
       "<table>\n",
       "<thead><tr><th scope=col>filename</th><th scope=col>LVB_infected_VS_combo</th></tr></thead>\n",
       "<tbody>\n",
       "\t<tr><td>X105.07_2.767 </td><td>0.033917433   </td></tr>\n",
       "\t<tr><td>X119.049_2.765</td><td>0.023298100   </td></tr>\n",
       "\t<tr><td>X128.018_0.344</td><td>0.653035796   </td></tr>\n",
       "\t<tr><td>X136.062_0.301</td><td>0.023298100   </td></tr>\n",
       "\t<tr><td>X136.097_0.551</td><td>0.589410424   </td></tr>\n",
       "\t<tr><td>X137.046_0.31 </td><td>0.005717613   </td></tr>\n",
       "</tbody>\n",
       "</table>\n"
      ],
      "text/latex": [
       "\\begin{tabular}{r|ll}\n",
       " filename & LVB\\_infected\\_VS\\_combo\\\\\n",
       "\\hline\n",
       "\t X105.07\\_2.767  & 0.033917433     \\\\\n",
       "\t X119.049\\_2.765 & 0.023298100     \\\\\n",
       "\t X128.018\\_0.344 & 0.653035796     \\\\\n",
       "\t X136.062\\_0.301 & 0.023298100     \\\\\n",
       "\t X136.097\\_0.551 & 0.589410424     \\\\\n",
       "\t X137.046\\_0.31  & 0.005717613     \\\\\n",
       "\\end{tabular}\n"
      ],
      "text/markdown": [
       "\n",
       "| filename | LVB_infected_VS_combo |\n",
       "|---|---|\n",
       "| X105.07_2.767  | 0.033917433    |\n",
       "| X119.049_2.765 | 0.023298100    |\n",
       "| X128.018_0.344 | 0.653035796    |\n",
       "| X136.062_0.301 | 0.023298100    |\n",
       "| X136.097_0.551 | 0.589410424    |\n",
       "| X137.046_0.31  | 0.005717613    |\n",
       "\n"
      ],
      "text/plain": [
       "  filename       LVB_infected_VS_combo\n",
       "1 X105.07_2.767  0.033917433          \n",
       "2 X119.049_2.765 0.023298100          \n",
       "3 X128.018_0.344 0.653035796          \n",
       "4 X136.062_0.301 0.023298100          \n",
       "5 X136.097_0.551 0.589410424          \n",
       "6 X137.046_0.31  0.005717613          "
      ]
     },
     "metadata": {},
     "output_type": "display_data"
    },
    {
     "data": {
      "text/html": [
       "<ol class=list-inline>\n",
       "\t<li>53</li>\n",
       "\t<li>2</li>\n",
       "</ol>\n"
      ],
      "text/latex": [
       "\\begin{enumerate*}\n",
       "\\item 53\n",
       "\\item 2\n",
       "\\end{enumerate*}\n"
      ],
      "text/markdown": [
       "1. 53\n",
       "2. 2\n",
       "\n",
       "\n"
      ],
      "text/plain": [
       "[1] 53  2"
      ]
     },
     "metadata": {},
     "output_type": "display_data"
    },
    {
     "data": {
      "text/html": [
       "<table>\n",
       "<thead><tr><th scope=col>filename</th><th scope=col>LVB_infected_VS_BNZ</th></tr></thead>\n",
       "<tbody>\n",
       "\t<tr><td>X105.07_2.767 </td><td>0.24762268    </td></tr>\n",
       "\t<tr><td>X119.049_2.765</td><td>0.22239133    </td></tr>\n",
       "\t<tr><td>X128.018_0.344</td><td>0.64247291    </td></tr>\n",
       "\t<tr><td>X136.062_0.301</td><td>0.27913565    </td></tr>\n",
       "\t<tr><td>X136.097_0.551</td><td>0.81334142    </td></tr>\n",
       "\t<tr><td>X137.046_0.31 </td><td>0.03493957    </td></tr>\n",
       "</tbody>\n",
       "</table>\n"
      ],
      "text/latex": [
       "\\begin{tabular}{r|ll}\n",
       " filename & LVB\\_infected\\_VS\\_BNZ\\\\\n",
       "\\hline\n",
       "\t X105.07\\_2.767  & 0.24762268      \\\\\n",
       "\t X119.049\\_2.765 & 0.22239133      \\\\\n",
       "\t X128.018\\_0.344 & 0.64247291      \\\\\n",
       "\t X136.062\\_0.301 & 0.27913565      \\\\\n",
       "\t X136.097\\_0.551 & 0.81334142      \\\\\n",
       "\t X137.046\\_0.31  & 0.03493957      \\\\\n",
       "\\end{tabular}\n"
      ],
      "text/markdown": [
       "\n",
       "| filename | LVB_infected_VS_BNZ |\n",
       "|---|---|\n",
       "| X105.07_2.767  | 0.24762268     |\n",
       "| X119.049_2.765 | 0.22239133     |\n",
       "| X128.018_0.344 | 0.64247291     |\n",
       "| X136.062_0.301 | 0.27913565     |\n",
       "| X136.097_0.551 | 0.81334142     |\n",
       "| X137.046_0.31  | 0.03493957     |\n",
       "\n"
      ],
      "text/plain": [
       "  filename       LVB_infected_VS_BNZ\n",
       "1 X105.07_2.767  0.24762268         \n",
       "2 X119.049_2.765 0.22239133         \n",
       "3 X128.018_0.344 0.64247291         \n",
       "4 X136.062_0.301 0.27913565         \n",
       "5 X136.097_0.551 0.81334142         \n",
       "6 X137.046_0.31  0.03493957         "
      ]
     },
     "metadata": {},
     "output_type": "display_data"
    },
    {
     "data": {
      "text/html": [
       "<ol class=list-inline>\n",
       "\t<li>53</li>\n",
       "\t<li>2</li>\n",
       "</ol>\n"
      ],
      "text/latex": [
       "\\begin{enumerate*}\n",
       "\\item 53\n",
       "\\item 2\n",
       "\\end{enumerate*}\n"
      ],
      "text/markdown": [
       "1. 53\n",
       "2. 2\n",
       "\n",
       "\n"
      ],
      "text/plain": [
       "[1] 53  2"
      ]
     },
     "metadata": {},
     "output_type": "display_data"
    },
    {
     "data": {
      "text/html": [
       "<table>\n",
       "<thead><tr><th scope=col>filename</th><th scope=col>LVB_combo_VS_BNZ</th></tr></thead>\n",
       "<tbody>\n",
       "\t<tr><td>X105.07_2.767 </td><td>0.5886550     </td></tr>\n",
       "\t<tr><td>X119.049_2.765</td><td>0.8275563     </td></tr>\n",
       "\t<tr><td>X128.018_0.344</td><td>0.9517750     </td></tr>\n",
       "\t<tr><td>X136.062_0.301</td><td>0.5768981     </td></tr>\n",
       "\t<tr><td>X136.097_0.551</td><td>0.5886550     </td></tr>\n",
       "\t<tr><td>X137.046_0.31 </td><td>0.2337340     </td></tr>\n",
       "</tbody>\n",
       "</table>\n"
      ],
      "text/latex": [
       "\\begin{tabular}{r|ll}\n",
       " filename & LVB\\_combo\\_VS\\_BNZ\\\\\n",
       "\\hline\n",
       "\t X105.07\\_2.767  & 0.5886550       \\\\\n",
       "\t X119.049\\_2.765 & 0.8275563       \\\\\n",
       "\t X128.018\\_0.344 & 0.9517750       \\\\\n",
       "\t X136.062\\_0.301 & 0.5768981       \\\\\n",
       "\t X136.097\\_0.551 & 0.5886550       \\\\\n",
       "\t X137.046\\_0.31  & 0.2337340       \\\\\n",
       "\\end{tabular}\n"
      ],
      "text/markdown": [
       "\n",
       "| filename | LVB_combo_VS_BNZ |\n",
       "|---|---|\n",
       "| X105.07_2.767  | 0.5886550      |\n",
       "| X119.049_2.765 | 0.8275563      |\n",
       "| X128.018_0.344 | 0.9517750      |\n",
       "| X136.062_0.301 | 0.5768981      |\n",
       "| X136.097_0.551 | 0.5886550      |\n",
       "| X137.046_0.31  | 0.2337340      |\n",
       "\n"
      ],
      "text/plain": [
       "  filename       LVB_combo_VS_BNZ\n",
       "1 X105.07_2.767  0.5886550       \n",
       "2 X119.049_2.765 0.8275563       \n",
       "3 X128.018_0.344 0.9517750       \n",
       "4 X136.062_0.301 0.5768981       \n",
       "5 X136.097_0.551 0.5886550       \n",
       "6 X137.046_0.31  0.2337340       "
      ]
     },
     "metadata": {},
     "output_type": "display_data"
    },
    {
     "data": {
      "text/html": [
       "<ol class=list-inline>\n",
       "\t<li>52</li>\n",
       "\t<li>2</li>\n",
       "</ol>\n"
      ],
      "text/latex": [
       "\\begin{enumerate*}\n",
       "\\item 52\n",
       "\\item 2\n",
       "\\end{enumerate*}\n"
      ],
      "text/markdown": [
       "1. 52\n",
       "2. 2\n",
       "\n",
       "\n"
      ],
      "text/plain": [
       "[1] 52  2"
      ]
     },
     "metadata": {},
     "output_type": "display_data"
    }
   ],
   "source": [
    "file_1 <- read.csv(\"LVB-wilcox-1C-3E-fix.csv\", h = T, sep = \",\", dec = \".\")\n",
    "head(file_1)\n",
    "dim(file_1)\n",
    "\n",
    "file_2 <- read.csv(\"LVB-wilcox-1C-9-fix.csv\", h = T, sep = \",\", dec = \".\")\n",
    "head(file_2)\n",
    "dim(file_2)\n",
    "\n",
    "file_3 <- read.csv(\"LVB-wilcox-1C-15-fix.csv\", h = T, sep = \",\", dec = \".\")\n",
    "head(file_3)\n",
    "dim(file_3)\n",
    "\n",
    "file_4 <- read.csv(\"LVB-wilcox-3E-9-fix.csv\", h = T, sep = \",\", dec = \".\")\n",
    "head(file_4)\n",
    "dim(file_4)\n",
    "\n",
    "file_5 <- read.csv(\"LVB-wilcox-3E-15-fix.csv\", h = T, sep = \",\", dec = \".\")\n",
    "head(file_5)\n",
    "dim(file_5)\n",
    "\n",
    "file_6 <- read.csv(\"LVB-wilcox-9-15-fix.csv\", h = T, sep = \",\", dec = \".\")\n",
    "head(file_6)\n",
    "dim(file_6)\n"
   ]
  },
  {
   "cell_type": "code",
   "execution_count": 3,
   "metadata": {},
   "outputs": [
    {
     "data": {
      "text/html": [
       "<table>\n",
       "<thead><tr><th scope=col>filename</th><th scope=col>LVB_naive_VS_infected</th><th scope=col>LVB_naive_VS_combo</th><th scope=col>LVB_naive_VS_BNZ</th><th scope=col>LVB_infected_VS_combo</th><th scope=col>LVB_infected_VS_BNZ</th><th scope=col>LVB_combo_VS_BNZ</th></tr></thead>\n",
       "<tbody>\n",
       "\t<tr><td>X440.337_2.765</td><td>0.000086100   </td><td>         NA   </td><td>         NA   </td><td>        NA    </td><td>       NA     </td><td>       NA     </td></tr>\n",
       "\t<tr><td>X442.353_2.823</td><td>0.000037300   </td><td>         NA   </td><td>         NA   </td><td>        NA    </td><td>       NA     </td><td>       NA     </td></tr>\n",
       "\t<tr><td>X105.07_2.767 </td><td>0.000078700   </td><td>0.054580129   </td><td>0.026165511   </td><td>0.03391743    </td><td>0.2476227     </td><td>0.5886550     </td></tr>\n",
       "\t<tr><td>X119.049_2.765</td><td>0.000196176   </td><td>0.036297949   </td><td>0.142143063   </td><td>0.02329810    </td><td>0.2223913     </td><td>0.8275563     </td></tr>\n",
       "\t<tr><td>X128.018_0.344</td><td>0.000023800   </td><td>0.000152441   </td><td>0.000412758   </td><td>0.65303580    </td><td>0.6424729     </td><td>0.9517750     </td></tr>\n",
       "\t<tr><td>X136.062_0.301</td><td>0.000050300   </td><td>0.003855795   </td><td>0.000991069   </td><td>0.02329810    </td><td>0.2791357     </td><td>0.5768981     </td></tr>\n",
       "</tbody>\n",
       "</table>\n"
      ],
      "text/latex": [
       "\\begin{tabular}{r|lllllll}\n",
       " filename & LVB\\_naive\\_VS\\_infected & LVB\\_naive\\_VS\\_combo & LVB\\_naive\\_VS\\_BNZ & LVB\\_infected\\_VS\\_combo & LVB\\_infected\\_VS\\_BNZ & LVB\\_combo\\_VS\\_BNZ\\\\\n",
       "\\hline\n",
       "\t X440.337\\_2.765 & 0.000086100      &          NA      &          NA      &         NA       &        NA        &        NA       \\\\\n",
       "\t X442.353\\_2.823 & 0.000037300      &          NA      &          NA      &         NA       &        NA        &        NA       \\\\\n",
       "\t X105.07\\_2.767  & 0.000078700      & 0.054580129      & 0.026165511      & 0.03391743       & 0.2476227        & 0.5886550       \\\\\n",
       "\t X119.049\\_2.765 & 0.000196176      & 0.036297949      & 0.142143063      & 0.02329810       & 0.2223913        & 0.8275563       \\\\\n",
       "\t X128.018\\_0.344 & 0.000023800      & 0.000152441      & 0.000412758      & 0.65303580       & 0.6424729        & 0.9517750       \\\\\n",
       "\t X136.062\\_0.301 & 0.000050300      & 0.003855795      & 0.000991069      & 0.02329810       & 0.2791357        & 0.5768981       \\\\\n",
       "\\end{tabular}\n"
      ],
      "text/markdown": [
       "\n",
       "| filename | LVB_naive_VS_infected | LVB_naive_VS_combo | LVB_naive_VS_BNZ | LVB_infected_VS_combo | LVB_infected_VS_BNZ | LVB_combo_VS_BNZ |\n",
       "|---|---|---|---|---|---|---|\n",
       "| X440.337_2.765 | 0.000086100    |          NA    |          NA    |         NA     |        NA      |        NA      |\n",
       "| X442.353_2.823 | 0.000037300    |          NA    |          NA    |         NA     |        NA      |        NA      |\n",
       "| X105.07_2.767  | 0.000078700    | 0.054580129    | 0.026165511    | 0.03391743     | 0.2476227      | 0.5886550      |\n",
       "| X119.049_2.765 | 0.000196176    | 0.036297949    | 0.142143063    | 0.02329810     | 0.2223913      | 0.8275563      |\n",
       "| X128.018_0.344 | 0.000023800    | 0.000152441    | 0.000412758    | 0.65303580     | 0.6424729      | 0.9517750      |\n",
       "| X136.062_0.301 | 0.000050300    | 0.003855795    | 0.000991069    | 0.02329810     | 0.2791357      | 0.5768981      |\n",
       "\n"
      ],
      "text/plain": [
       "  filename       LVB_naive_VS_infected LVB_naive_VS_combo LVB_naive_VS_BNZ\n",
       "1 X440.337_2.765 0.000086100                    NA                 NA     \n",
       "2 X442.353_2.823 0.000037300                    NA                 NA     \n",
       "3 X105.07_2.767  0.000078700           0.054580129        0.026165511     \n",
       "4 X119.049_2.765 0.000196176           0.036297949        0.142143063     \n",
       "5 X128.018_0.344 0.000023800           0.000152441        0.000412758     \n",
       "6 X136.062_0.301 0.000050300           0.003855795        0.000991069     \n",
       "  LVB_infected_VS_combo LVB_infected_VS_BNZ LVB_combo_VS_BNZ\n",
       "1         NA                   NA                  NA       \n",
       "2         NA                   NA                  NA       \n",
       "3 0.03391743            0.2476227           0.5886550       \n",
       "4 0.02329810            0.2223913           0.8275563       \n",
       "5 0.65303580            0.6424729           0.9517750       \n",
       "6 0.02329810            0.2791357           0.5768981       "
      ]
     },
     "metadata": {},
     "output_type": "display_data"
    },
    {
     "data": {
      "text/html": [
       "<ol class=list-inline>\n",
       "\t<li>57</li>\n",
       "\t<li>7</li>\n",
       "</ol>\n"
      ],
      "text/latex": [
       "\\begin{enumerate*}\n",
       "\\item 57\n",
       "\\item 7\n",
       "\\end{enumerate*}\n"
      ],
      "text/markdown": [
       "1. 57\n",
       "2. 7\n",
       "\n",
       "\n"
      ],
      "text/plain": [
       "[1] 57  7"
      ]
     },
     "metadata": {},
     "output_type": "display_data"
    }
   ],
   "source": [
    "union_full_list <- full_join(full_join(full_join(full_join(full_join(file_1,file_2,by=\"filename\"\n",
    "                                                                    ),file_3,by=\"filename\"\n",
    "                                                          ),file_4,by=\"filename\"\n",
    "                                                ),file_5,by=\"filename\"\n",
    "                                      ),file_6,by=\"filename\")\n",
    "head(union_full_list)\n",
    "dim(union_full_list)"
   ]
  },
  {
   "cell_type": "code",
   "execution_count": 4,
   "metadata": {},
   "outputs": [],
   "source": [
    "write.csv(union_full_list, \"LVB-wilcox-FDR-pvalue.csv\", row.names = FALSE)"
   ]
  },
  {
   "cell_type": "code",
   "execution_count": null,
   "metadata": {},
   "outputs": [],
   "source": []
  },
  {
   "cell_type": "code",
   "execution_count": null,
   "metadata": {},
   "outputs": [],
   "source": []
  },
  {
   "cell_type": "code",
   "execution_count": null,
   "metadata": {},
   "outputs": [],
   "source": []
  },
  {
   "cell_type": "code",
   "execution_count": null,
   "metadata": {},
   "outputs": [],
   "source": []
  },
  {
   "cell_type": "code",
   "execution_count": null,
   "metadata": {},
   "outputs": [],
   "source": []
  }
 ],
 "metadata": {
  "kernelspec": {
   "display_name": "R",
   "language": "R",
   "name": "ir"
  },
  "language_info": {
   "codemirror_mode": "r",
   "file_extension": ".r",
   "mimetype": "text/x-r-source",
   "name": "R",
   "pygments_lexer": "r",
   "version": "3.6.1"
  }
 },
 "nbformat": 4,
 "nbformat_minor": 2
}
