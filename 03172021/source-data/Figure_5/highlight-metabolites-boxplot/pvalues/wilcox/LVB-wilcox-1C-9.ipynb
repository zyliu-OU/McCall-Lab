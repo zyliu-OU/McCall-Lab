{
 "cells": [
  {
   "cell_type": "code",
   "execution_count": null,
   "metadata": {},
   "outputs": [],
   "source": [
    "# after I have filtered feature table, I do wilcox p value for filtered mass list. So that the p value will be more accurate"
   ]
  },
  {
   "cell_type": "code",
   "execution_count": 7,
   "metadata": {},
   "outputs": [],
   "source": [
    "a <- read.csv(\"03172021-9-15-3E-1C-LVB-M-F-filtered-fix.csv\")"
   ]
  },
  {
   "cell_type": "code",
   "execution_count": 8,
   "metadata": {},
   "outputs": [
    {
     "data": {
      "text/html": [
       "<table>\n",
       "<thead><tr><th scope=col>filename</th><th scope=col>MouseID</th><th scope=col>Treatmentgroup</th><th scope=col>DPI</th><th scope=col>organ</th><th scope=col>well_position</th><th scope=col>plate</th><th scope=col>X105.07_2.767</th><th scope=col>X119.049_2.765</th><th scope=col>X128.018_0.344</th><th scope=col>...</th><th scope=col>X599.241_2.765</th><th scope=col>X604.362_2.948</th><th scope=col>X620.356_2.913</th><th scope=col>X682.363_3.329</th><th scope=col>X682.364_3.313</th><th scope=col>X764.524_3.729</th><th scope=col>X790.38_2.768</th><th scope=col>X792.329_2.764</th><th scope=col>X795.335_2.768</th><th scope=col>X811.309_2.773</th></tr></thead>\n",
       "<tbody>\n",
       "\t<tr><td>X511_Group1C_142dpi_LV_bottom_161_G_A1_P132.mzXML</td><td>511                                              </td><td>Group1C                                          </td><td>142dpi                                           </td><td>LV_bottom                                        </td><td>A1                                               </td><td>P132                                             </td><td>0.001681762                                      </td><td>0.000000000                                      </td><td>0                                                </td><td>...                                              </td><td>0.000000000                                      </td><td>0.001281931                                      </td><td>0.000659514                                      </td><td>0.000320160                                      </td><td>0                                                </td><td>0                                                </td><td>0.000370969                                      </td><td>0.00e+00                                         </td><td>0.000245626                                      </td><td>0.000038000                                      </td></tr>\n",
       "\t<tr><td>X512_Group1C_142dpi_LV_bottom_162_G_A2_P132.mzXML</td><td>512                                              </td><td>Group1C                                          </td><td>142dpi                                           </td><td>LV_bottom                                        </td><td>A2                                               </td><td>P132                                             </td><td>0.001668227                                      </td><td>0.000020400                                      </td><td>0                                                </td><td>...                                              </td><td>0.000050000                                      </td><td>0.000671298                                      </td><td>0.000483435                                      </td><td>0.000179208                                      </td><td>0                                                </td><td>0                                                </td><td>0.000586134                                      </td><td>0.00e+00                                         </td><td>0.000211682                                      </td><td>0.000020900                                      </td></tr>\n",
       "\t<tr><td>X513_Group1C_142dpi_LV_bottom_163_G_A3_P132.mzXML</td><td>513                                              </td><td>Group1C                                          </td><td>142dpi                                           </td><td>LV_bottom                                        </td><td>A3                                               </td><td>P132                                             </td><td>0.002195508                                      </td><td>0.000000000                                      </td><td>0                                                </td><td>...                                              </td><td>0.000082900                                      </td><td>0.000706708                                      </td><td>0.000317234                                      </td><td>0.000099800                                      </td><td>0                                                </td><td>0                                                </td><td>0.001133874                                      </td><td>0.00e+00                                         </td><td>0.000741259                                      </td><td>0.000095300                                      </td></tr>\n",
       "\t<tr><td>X514_Group1C_142dpi_LV_bottom_164_G_A4_P132.mzXML</td><td>514                                              </td><td>Group1C                                          </td><td>142dpi                                           </td><td>LV_bottom                                        </td><td>A4                                               </td><td>P132                                             </td><td>0.003006615                                      </td><td>0.000063800                                      </td><td>0                                                </td><td>...                                              </td><td>0.000099100                                      </td><td>0.000930076                                      </td><td>0.000245202                                      </td><td>0.000234970                                      </td><td>0                                                </td><td>0                                                </td><td>0.001150258                                      </td><td>0.00e+00                                         </td><td>0.000713691                                      </td><td>0.000174109                                      </td></tr>\n",
       "\t<tr><td>X515_Group1C_142dpi_LV_bottom_165_G_A5_P132.mzXML</td><td>515                                              </td><td>Group1C                                          </td><td>142dpi                                           </td><td>LV_bottom                                        </td><td>A5                                               </td><td>P132                                             </td><td>0.002858430                                      </td><td>0.000000000                                      </td><td>0                                                </td><td>...                                              </td><td>0.000178807                                      </td><td>0.000744165                                      </td><td>0.000302164                                      </td><td>0.000251297                                      </td><td>0                                                </td><td>0                                                </td><td>0.001161454                                      </td><td>4.09e-05                                         </td><td>0.000765030                                      </td><td>0.000136971                                      </td></tr>\n",
       "\t<tr><td>X531_Group1C_142dpi_LV_bottom_166_G_A6_P132.mzXML</td><td>531                                              </td><td>Group1C                                          </td><td>142dpi                                           </td><td>LV_bottom                                        </td><td>A6                                               </td><td>P132                                             </td><td>0.003596194                                      </td><td>0.000107639                                      </td><td>0                                                </td><td>...                                              </td><td>0.000280413                                      </td><td>0.000626765                                      </td><td>0.000345920                                      </td><td>0.000112422                                      </td><td>0                                                </td><td>0                                                </td><td>0.001883720                                      </td><td>8.53e-05                                         </td><td>0.001150782                                      </td><td>0.000161828                                      </td></tr>\n",
       "</tbody>\n",
       "</table>\n"
      ],
      "text/latex": [
       "\\begin{tabular}{r|llllllllllllllllllllllllllllllllllllllllllllllllllllllllllllll}\n",
       " filename & MouseID & Treatmentgroup & DPI & organ & well\\_position & plate & X105.07\\_2.767 & X119.049\\_2.765 & X128.018\\_0.344 & ... & X599.241\\_2.765 & X604.362\\_2.948 & X620.356\\_2.913 & X682.363\\_3.329 & X682.364\\_3.313 & X764.524\\_3.729 & X790.38\\_2.768 & X792.329\\_2.764 & X795.335\\_2.768 & X811.309\\_2.773\\\\\n",
       "\\hline\n",
       "\t X511\\_Group1C\\_142dpi\\_LV\\_bottom\\_161\\_G\\_A1\\_P132.mzXML & 511                                                               & Group1C                                                           & 142dpi                                                            & LV\\_bottom                                                       & A1                                                                & P132                                                              & 0.001681762                                                       & 0.000000000                                                       & 0                                                                 & ...                                                               & 0.000000000                                                       & 0.001281931                                                       & 0.000659514                                                       & 0.000320160                                                       & 0                                                                 & 0                                                                 & 0.000370969                                                       & 0.00e+00                                                          & 0.000245626                                                       & 0.000038000                                                      \\\\\n",
       "\t X512\\_Group1C\\_142dpi\\_LV\\_bottom\\_162\\_G\\_A2\\_P132.mzXML & 512                                                               & Group1C                                                           & 142dpi                                                            & LV\\_bottom                                                       & A2                                                                & P132                                                              & 0.001668227                                                       & 0.000020400                                                       & 0                                                                 & ...                                                               & 0.000050000                                                       & 0.000671298                                                       & 0.000483435                                                       & 0.000179208                                                       & 0                                                                 & 0                                                                 & 0.000586134                                                       & 0.00e+00                                                          & 0.000211682                                                       & 0.000020900                                                      \\\\\n",
       "\t X513\\_Group1C\\_142dpi\\_LV\\_bottom\\_163\\_G\\_A3\\_P132.mzXML & 513                                                               & Group1C                                                           & 142dpi                                                            & LV\\_bottom                                                       & A3                                                                & P132                                                              & 0.002195508                                                       & 0.000000000                                                       & 0                                                                 & ...                                                               & 0.000082900                                                       & 0.000706708                                                       & 0.000317234                                                       & 0.000099800                                                       & 0                                                                 & 0                                                                 & 0.001133874                                                       & 0.00e+00                                                          & 0.000741259                                                       & 0.000095300                                                      \\\\\n",
       "\t X514\\_Group1C\\_142dpi\\_LV\\_bottom\\_164\\_G\\_A4\\_P132.mzXML & 514                                                               & Group1C                                                           & 142dpi                                                            & LV\\_bottom                                                       & A4                                                                & P132                                                              & 0.003006615                                                       & 0.000063800                                                       & 0                                                                 & ...                                                               & 0.000099100                                                       & 0.000930076                                                       & 0.000245202                                                       & 0.000234970                                                       & 0                                                                 & 0                                                                 & 0.001150258                                                       & 0.00e+00                                                          & 0.000713691                                                       & 0.000174109                                                      \\\\\n",
       "\t X515\\_Group1C\\_142dpi\\_LV\\_bottom\\_165\\_G\\_A5\\_P132.mzXML & 515                                                               & Group1C                                                           & 142dpi                                                            & LV\\_bottom                                                       & A5                                                                & P132                                                              & 0.002858430                                                       & 0.000000000                                                       & 0                                                                 & ...                                                               & 0.000178807                                                       & 0.000744165                                                       & 0.000302164                                                       & 0.000251297                                                       & 0                                                                 & 0                                                                 & 0.001161454                                                       & 4.09e-05                                                          & 0.000765030                                                       & 0.000136971                                                      \\\\\n",
       "\t X531\\_Group1C\\_142dpi\\_LV\\_bottom\\_166\\_G\\_A6\\_P132.mzXML & 531                                                               & Group1C                                                           & 142dpi                                                            & LV\\_bottom                                                       & A6                                                                & P132                                                              & 0.003596194                                                       & 0.000107639                                                       & 0                                                                 & ...                                                               & 0.000280413                                                       & 0.000626765                                                       & 0.000345920                                                       & 0.000112422                                                       & 0                                                                 & 0                                                                 & 0.001883720                                                       & 8.53e-05                                                          & 0.001150782                                                       & 0.000161828                                                      \\\\\n",
       "\\end{tabular}\n"
      ],
      "text/markdown": [
       "\n",
       "| filename | MouseID | Treatmentgroup | DPI | organ | well_position | plate | X105.07_2.767 | X119.049_2.765 | X128.018_0.344 | ... | X599.241_2.765 | X604.362_2.948 | X620.356_2.913 | X682.363_3.329 | X682.364_3.313 | X764.524_3.729 | X790.38_2.768 | X792.329_2.764 | X795.335_2.768 | X811.309_2.773 |\n",
       "|---|---|---|---|---|---|---|---|---|---|---|---|---|---|---|---|---|---|---|---|---|\n",
       "| X511_Group1C_142dpi_LV_bottom_161_G_A1_P132.mzXML | 511                                               | Group1C                                           | 142dpi                                            | LV_bottom                                         | A1                                                | P132                                              | 0.001681762                                       | 0.000000000                                       | 0                                                 | ...                                               | 0.000000000                                       | 0.001281931                                       | 0.000659514                                       | 0.000320160                                       | 0                                                 | 0                                                 | 0.000370969                                       | 0.00e+00                                          | 0.000245626                                       | 0.000038000                                       |\n",
       "| X512_Group1C_142dpi_LV_bottom_162_G_A2_P132.mzXML | 512                                               | Group1C                                           | 142dpi                                            | LV_bottom                                         | A2                                                | P132                                              | 0.001668227                                       | 0.000020400                                       | 0                                                 | ...                                               | 0.000050000                                       | 0.000671298                                       | 0.000483435                                       | 0.000179208                                       | 0                                                 | 0                                                 | 0.000586134                                       | 0.00e+00                                          | 0.000211682                                       | 0.000020900                                       |\n",
       "| X513_Group1C_142dpi_LV_bottom_163_G_A3_P132.mzXML | 513                                               | Group1C                                           | 142dpi                                            | LV_bottom                                         | A3                                                | P132                                              | 0.002195508                                       | 0.000000000                                       | 0                                                 | ...                                               | 0.000082900                                       | 0.000706708                                       | 0.000317234                                       | 0.000099800                                       | 0                                                 | 0                                                 | 0.001133874                                       | 0.00e+00                                          | 0.000741259                                       | 0.000095300                                       |\n",
       "| X514_Group1C_142dpi_LV_bottom_164_G_A4_P132.mzXML | 514                                               | Group1C                                           | 142dpi                                            | LV_bottom                                         | A4                                                | P132                                              | 0.003006615                                       | 0.000063800                                       | 0                                                 | ...                                               | 0.000099100                                       | 0.000930076                                       | 0.000245202                                       | 0.000234970                                       | 0                                                 | 0                                                 | 0.001150258                                       | 0.00e+00                                          | 0.000713691                                       | 0.000174109                                       |\n",
       "| X515_Group1C_142dpi_LV_bottom_165_G_A5_P132.mzXML | 515                                               | Group1C                                           | 142dpi                                            | LV_bottom                                         | A5                                                | P132                                              | 0.002858430                                       | 0.000000000                                       | 0                                                 | ...                                               | 0.000178807                                       | 0.000744165                                       | 0.000302164                                       | 0.000251297                                       | 0                                                 | 0                                                 | 0.001161454                                       | 4.09e-05                                          | 0.000765030                                       | 0.000136971                                       |\n",
       "| X531_Group1C_142dpi_LV_bottom_166_G_A6_P132.mzXML | 531                                               | Group1C                                           | 142dpi                                            | LV_bottom                                         | A6                                                | P132                                              | 0.003596194                                       | 0.000107639                                       | 0                                                 | ...                                               | 0.000280413                                       | 0.000626765                                       | 0.000345920                                       | 0.000112422                                       | 0                                                 | 0                                                 | 0.001883720                                       | 8.53e-05                                          | 0.001150782                                       | 0.000161828                                       |\n",
       "\n"
      ],
      "text/plain": [
       "  filename                                          MouseID Treatmentgroup\n",
       "1 X511_Group1C_142dpi_LV_bottom_161_G_A1_P132.mzXML 511     Group1C       \n",
       "2 X512_Group1C_142dpi_LV_bottom_162_G_A2_P132.mzXML 512     Group1C       \n",
       "3 X513_Group1C_142dpi_LV_bottom_163_G_A3_P132.mzXML 513     Group1C       \n",
       "4 X514_Group1C_142dpi_LV_bottom_164_G_A4_P132.mzXML 514     Group1C       \n",
       "5 X515_Group1C_142dpi_LV_bottom_165_G_A5_P132.mzXML 515     Group1C       \n",
       "6 X531_Group1C_142dpi_LV_bottom_166_G_A6_P132.mzXML 531     Group1C       \n",
       "  DPI    organ     well_position plate X105.07_2.767 X119.049_2.765\n",
       "1 142dpi LV_bottom A1            P132  0.001681762   0.000000000   \n",
       "2 142dpi LV_bottom A2            P132  0.001668227   0.000020400   \n",
       "3 142dpi LV_bottom A3            P132  0.002195508   0.000000000   \n",
       "4 142dpi LV_bottom A4            P132  0.003006615   0.000063800   \n",
       "5 142dpi LV_bottom A5            P132  0.002858430   0.000000000   \n",
       "6 142dpi LV_bottom A6            P132  0.003596194   0.000107639   \n",
       "  X128.018_0.344 ... X599.241_2.765 X604.362_2.948 X620.356_2.913\n",
       "1 0              ... 0.000000000    0.001281931    0.000659514   \n",
       "2 0              ... 0.000050000    0.000671298    0.000483435   \n",
       "3 0              ... 0.000082900    0.000706708    0.000317234   \n",
       "4 0              ... 0.000099100    0.000930076    0.000245202   \n",
       "5 0              ... 0.000178807    0.000744165    0.000302164   \n",
       "6 0              ... 0.000280413    0.000626765    0.000345920   \n",
       "  X682.363_3.329 X682.364_3.313 X764.524_3.729 X790.38_2.768 X792.329_2.764\n",
       "1 0.000320160    0              0              0.000370969   0.00e+00      \n",
       "2 0.000179208    0              0              0.000586134   0.00e+00      \n",
       "3 0.000099800    0              0              0.001133874   0.00e+00      \n",
       "4 0.000234970    0              0              0.001150258   0.00e+00      \n",
       "5 0.000251297    0              0              0.001161454   4.09e-05      \n",
       "6 0.000112422    0              0              0.001883720   8.53e-05      \n",
       "  X795.335_2.768 X811.309_2.773\n",
       "1 0.000245626    0.000038000   \n",
       "2 0.000211682    0.000020900   \n",
       "3 0.000741259    0.000095300   \n",
       "4 0.000713691    0.000174109   \n",
       "5 0.000765030    0.000136971   \n",
       "6 0.001150782    0.000161828   "
      ]
     },
     "metadata": {},
     "output_type": "display_data"
    },
    {
     "data": {
      "text/html": [
       "<ol class=list-inline>\n",
       "\t<li>60</li>\n",
       "\t<li>62</li>\n",
       "</ol>\n"
      ],
      "text/latex": [
       "\\begin{enumerate*}\n",
       "\\item 60\n",
       "\\item 62\n",
       "\\end{enumerate*}\n"
      ],
      "text/markdown": [
       "1. 60\n",
       "2. 62\n",
       "\n",
       "\n"
      ],
      "text/plain": [
       "[1] 60 62"
      ]
     },
     "metadata": {},
     "output_type": "display_data"
    }
   ],
   "source": [
    "head(a)\n",
    "dim(a)"
   ]
  },
  {
   "cell_type": "code",
   "execution_count": 9,
   "metadata": {},
   "outputs": [
    {
     "data": {
      "text/html": [
       "<table>\n",
       "<thead><tr><th scope=col>filename</th><th scope=col>MouseID</th><th scope=col>Treatmentgroup</th><th scope=col>DPI</th><th scope=col>organ</th><th scope=col>well_position</th><th scope=col>plate</th><th scope=col>X105.07_2.767</th><th scope=col>X119.049_2.765</th><th scope=col>X128.018_0.344</th><th scope=col>...</th><th scope=col>X599.241_2.765</th><th scope=col>X604.362_2.948</th><th scope=col>X620.356_2.913</th><th scope=col>X682.363_3.329</th><th scope=col>X682.364_3.313</th><th scope=col>X764.524_3.729</th><th scope=col>X790.38_2.768</th><th scope=col>X792.329_2.764</th><th scope=col>X795.335_2.768</th><th scope=col>X811.309_2.773</th></tr></thead>\n",
       "<tbody>\n",
       "\t<tr><td>X511_Group1C_142dpi_LV_bottom_161_G_A1_P132.mzXML</td><td>511                                              </td><td>Group1C                                          </td><td>142dpi                                           </td><td>LV_bottom                                        </td><td>A1                                               </td><td>P132                                             </td><td>0.001681762                                      </td><td>0.000000000                                      </td><td>0                                                </td><td>...                                              </td><td>0.000000000                                      </td><td>0.001281931                                      </td><td>0.000659514                                      </td><td>0.000320160                                      </td><td>0                                                </td><td>0                                                </td><td>0.000370969                                      </td><td>0.00e+00                                         </td><td>0.000245626                                      </td><td>0.000038000                                      </td></tr>\n",
       "\t<tr><td>X512_Group1C_142dpi_LV_bottom_162_G_A2_P132.mzXML</td><td>512                                              </td><td>Group1C                                          </td><td>142dpi                                           </td><td>LV_bottom                                        </td><td>A2                                               </td><td>P132                                             </td><td>0.001668227                                      </td><td>0.000020400                                      </td><td>0                                                </td><td>...                                              </td><td>0.000050000                                      </td><td>0.000671298                                      </td><td>0.000483435                                      </td><td>0.000179208                                      </td><td>0                                                </td><td>0                                                </td><td>0.000586134                                      </td><td>0.00e+00                                         </td><td>0.000211682                                      </td><td>0.000020900                                      </td></tr>\n",
       "\t<tr><td>X513_Group1C_142dpi_LV_bottom_163_G_A3_P132.mzXML</td><td>513                                              </td><td>Group1C                                          </td><td>142dpi                                           </td><td>LV_bottom                                        </td><td>A3                                               </td><td>P132                                             </td><td>0.002195508                                      </td><td>0.000000000                                      </td><td>0                                                </td><td>...                                              </td><td>0.000082900                                      </td><td>0.000706708                                      </td><td>0.000317234                                      </td><td>0.000099800                                      </td><td>0                                                </td><td>0                                                </td><td>0.001133874                                      </td><td>0.00e+00                                         </td><td>0.000741259                                      </td><td>0.000095300                                      </td></tr>\n",
       "\t<tr><td>X514_Group1C_142dpi_LV_bottom_164_G_A4_P132.mzXML</td><td>514                                              </td><td>Group1C                                          </td><td>142dpi                                           </td><td>LV_bottom                                        </td><td>A4                                               </td><td>P132                                             </td><td>0.003006615                                      </td><td>0.000063800                                      </td><td>0                                                </td><td>...                                              </td><td>0.000099100                                      </td><td>0.000930076                                      </td><td>0.000245202                                      </td><td>0.000234970                                      </td><td>0                                                </td><td>0                                                </td><td>0.001150258                                      </td><td>0.00e+00                                         </td><td>0.000713691                                      </td><td>0.000174109                                      </td></tr>\n",
       "\t<tr><td>X515_Group1C_142dpi_LV_bottom_165_G_A5_P132.mzXML</td><td>515                                              </td><td>Group1C                                          </td><td>142dpi                                           </td><td>LV_bottom                                        </td><td>A5                                               </td><td>P132                                             </td><td>0.002858430                                      </td><td>0.000000000                                      </td><td>0                                                </td><td>...                                              </td><td>0.000178807                                      </td><td>0.000744165                                      </td><td>0.000302164                                      </td><td>0.000251297                                      </td><td>0                                                </td><td>0                                                </td><td>0.001161454                                      </td><td>4.09e-05                                         </td><td>0.000765030                                      </td><td>0.000136971                                      </td></tr>\n",
       "\t<tr><td>X531_Group1C_142dpi_LV_bottom_166_G_A6_P132.mzXML</td><td>531                                              </td><td>Group1C                                          </td><td>142dpi                                           </td><td>LV_bottom                                        </td><td>A6                                               </td><td>P132                                             </td><td>0.003596194                                      </td><td>0.000107639                                      </td><td>0                                                </td><td>...                                              </td><td>0.000280413                                      </td><td>0.000626765                                      </td><td>0.000345920                                      </td><td>0.000112422                                      </td><td>0                                                </td><td>0                                                </td><td>0.001883720                                      </td><td>8.53e-05                                         </td><td>0.001150782                                      </td><td>0.000161828                                      </td></tr>\n",
       "</tbody>\n",
       "</table>\n"
      ],
      "text/latex": [
       "\\begin{tabular}{r|llllllllllllllllllllllllllllllllllllllllllllllllllllllllllllll}\n",
       " filename & MouseID & Treatmentgroup & DPI & organ & well\\_position & plate & X105.07\\_2.767 & X119.049\\_2.765 & X128.018\\_0.344 & ... & X599.241\\_2.765 & X604.362\\_2.948 & X620.356\\_2.913 & X682.363\\_3.329 & X682.364\\_3.313 & X764.524\\_3.729 & X790.38\\_2.768 & X792.329\\_2.764 & X795.335\\_2.768 & X811.309\\_2.773\\\\\n",
       "\\hline\n",
       "\t X511\\_Group1C\\_142dpi\\_LV\\_bottom\\_161\\_G\\_A1\\_P132.mzXML & 511                                                               & Group1C                                                           & 142dpi                                                            & LV\\_bottom                                                       & A1                                                                & P132                                                              & 0.001681762                                                       & 0.000000000                                                       & 0                                                                 & ...                                                               & 0.000000000                                                       & 0.001281931                                                       & 0.000659514                                                       & 0.000320160                                                       & 0                                                                 & 0                                                                 & 0.000370969                                                       & 0.00e+00                                                          & 0.000245626                                                       & 0.000038000                                                      \\\\\n",
       "\t X512\\_Group1C\\_142dpi\\_LV\\_bottom\\_162\\_G\\_A2\\_P132.mzXML & 512                                                               & Group1C                                                           & 142dpi                                                            & LV\\_bottom                                                       & A2                                                                & P132                                                              & 0.001668227                                                       & 0.000020400                                                       & 0                                                                 & ...                                                               & 0.000050000                                                       & 0.000671298                                                       & 0.000483435                                                       & 0.000179208                                                       & 0                                                                 & 0                                                                 & 0.000586134                                                       & 0.00e+00                                                          & 0.000211682                                                       & 0.000020900                                                      \\\\\n",
       "\t X513\\_Group1C\\_142dpi\\_LV\\_bottom\\_163\\_G\\_A3\\_P132.mzXML & 513                                                               & Group1C                                                           & 142dpi                                                            & LV\\_bottom                                                       & A3                                                                & P132                                                              & 0.002195508                                                       & 0.000000000                                                       & 0                                                                 & ...                                                               & 0.000082900                                                       & 0.000706708                                                       & 0.000317234                                                       & 0.000099800                                                       & 0                                                                 & 0                                                                 & 0.001133874                                                       & 0.00e+00                                                          & 0.000741259                                                       & 0.000095300                                                      \\\\\n",
       "\t X514\\_Group1C\\_142dpi\\_LV\\_bottom\\_164\\_G\\_A4\\_P132.mzXML & 514                                                               & Group1C                                                           & 142dpi                                                            & LV\\_bottom                                                       & A4                                                                & P132                                                              & 0.003006615                                                       & 0.000063800                                                       & 0                                                                 & ...                                                               & 0.000099100                                                       & 0.000930076                                                       & 0.000245202                                                       & 0.000234970                                                       & 0                                                                 & 0                                                                 & 0.001150258                                                       & 0.00e+00                                                          & 0.000713691                                                       & 0.000174109                                                      \\\\\n",
       "\t X515\\_Group1C\\_142dpi\\_LV\\_bottom\\_165\\_G\\_A5\\_P132.mzXML & 515                                                               & Group1C                                                           & 142dpi                                                            & LV\\_bottom                                                       & A5                                                                & P132                                                              & 0.002858430                                                       & 0.000000000                                                       & 0                                                                 & ...                                                               & 0.000178807                                                       & 0.000744165                                                       & 0.000302164                                                       & 0.000251297                                                       & 0                                                                 & 0                                                                 & 0.001161454                                                       & 4.09e-05                                                          & 0.000765030                                                       & 0.000136971                                                      \\\\\n",
       "\t X531\\_Group1C\\_142dpi\\_LV\\_bottom\\_166\\_G\\_A6\\_P132.mzXML & 531                                                               & Group1C                                                           & 142dpi                                                            & LV\\_bottom                                                       & A6                                                                & P132                                                              & 0.003596194                                                       & 0.000107639                                                       & 0                                                                 & ...                                                               & 0.000280413                                                       & 0.000626765                                                       & 0.000345920                                                       & 0.000112422                                                       & 0                                                                 & 0                                                                 & 0.001883720                                                       & 8.53e-05                                                          & 0.001150782                                                       & 0.000161828                                                      \\\\\n",
       "\\end{tabular}\n"
      ],
      "text/markdown": [
       "\n",
       "| filename | MouseID | Treatmentgroup | DPI | organ | well_position | plate | X105.07_2.767 | X119.049_2.765 | X128.018_0.344 | ... | X599.241_2.765 | X604.362_2.948 | X620.356_2.913 | X682.363_3.329 | X682.364_3.313 | X764.524_3.729 | X790.38_2.768 | X792.329_2.764 | X795.335_2.768 | X811.309_2.773 |\n",
       "|---|---|---|---|---|---|---|---|---|---|---|---|---|---|---|---|---|---|---|---|---|\n",
       "| X511_Group1C_142dpi_LV_bottom_161_G_A1_P132.mzXML | 511                                               | Group1C                                           | 142dpi                                            | LV_bottom                                         | A1                                                | P132                                              | 0.001681762                                       | 0.000000000                                       | 0                                                 | ...                                               | 0.000000000                                       | 0.001281931                                       | 0.000659514                                       | 0.000320160                                       | 0                                                 | 0                                                 | 0.000370969                                       | 0.00e+00                                          | 0.000245626                                       | 0.000038000                                       |\n",
       "| X512_Group1C_142dpi_LV_bottom_162_G_A2_P132.mzXML | 512                                               | Group1C                                           | 142dpi                                            | LV_bottom                                         | A2                                                | P132                                              | 0.001668227                                       | 0.000020400                                       | 0                                                 | ...                                               | 0.000050000                                       | 0.000671298                                       | 0.000483435                                       | 0.000179208                                       | 0                                                 | 0                                                 | 0.000586134                                       | 0.00e+00                                          | 0.000211682                                       | 0.000020900                                       |\n",
       "| X513_Group1C_142dpi_LV_bottom_163_G_A3_P132.mzXML | 513                                               | Group1C                                           | 142dpi                                            | LV_bottom                                         | A3                                                | P132                                              | 0.002195508                                       | 0.000000000                                       | 0                                                 | ...                                               | 0.000082900                                       | 0.000706708                                       | 0.000317234                                       | 0.000099800                                       | 0                                                 | 0                                                 | 0.001133874                                       | 0.00e+00                                          | 0.000741259                                       | 0.000095300                                       |\n",
       "| X514_Group1C_142dpi_LV_bottom_164_G_A4_P132.mzXML | 514                                               | Group1C                                           | 142dpi                                            | LV_bottom                                         | A4                                                | P132                                              | 0.003006615                                       | 0.000063800                                       | 0                                                 | ...                                               | 0.000099100                                       | 0.000930076                                       | 0.000245202                                       | 0.000234970                                       | 0                                                 | 0                                                 | 0.001150258                                       | 0.00e+00                                          | 0.000713691                                       | 0.000174109                                       |\n",
       "| X515_Group1C_142dpi_LV_bottom_165_G_A5_P132.mzXML | 515                                               | Group1C                                           | 142dpi                                            | LV_bottom                                         | A5                                                | P132                                              | 0.002858430                                       | 0.000000000                                       | 0                                                 | ...                                               | 0.000178807                                       | 0.000744165                                       | 0.000302164                                       | 0.000251297                                       | 0                                                 | 0                                                 | 0.001161454                                       | 4.09e-05                                          | 0.000765030                                       | 0.000136971                                       |\n",
       "| X531_Group1C_142dpi_LV_bottom_166_G_A6_P132.mzXML | 531                                               | Group1C                                           | 142dpi                                            | LV_bottom                                         | A6                                                | P132                                              | 0.003596194                                       | 0.000107639                                       | 0                                                 | ...                                               | 0.000280413                                       | 0.000626765                                       | 0.000345920                                       | 0.000112422                                       | 0                                                 | 0                                                 | 0.001883720                                       | 8.53e-05                                          | 0.001150782                                       | 0.000161828                                       |\n",
       "\n"
      ],
      "text/plain": [
       "  filename                                          MouseID Treatmentgroup\n",
       "1 X511_Group1C_142dpi_LV_bottom_161_G_A1_P132.mzXML 511     Group1C       \n",
       "2 X512_Group1C_142dpi_LV_bottom_162_G_A2_P132.mzXML 512     Group1C       \n",
       "3 X513_Group1C_142dpi_LV_bottom_163_G_A3_P132.mzXML 513     Group1C       \n",
       "4 X514_Group1C_142dpi_LV_bottom_164_G_A4_P132.mzXML 514     Group1C       \n",
       "5 X515_Group1C_142dpi_LV_bottom_165_G_A5_P132.mzXML 515     Group1C       \n",
       "6 X531_Group1C_142dpi_LV_bottom_166_G_A6_P132.mzXML 531     Group1C       \n",
       "  DPI    organ     well_position plate X105.07_2.767 X119.049_2.765\n",
       "1 142dpi LV_bottom A1            P132  0.001681762   0.000000000   \n",
       "2 142dpi LV_bottom A2            P132  0.001668227   0.000020400   \n",
       "3 142dpi LV_bottom A3            P132  0.002195508   0.000000000   \n",
       "4 142dpi LV_bottom A4            P132  0.003006615   0.000063800   \n",
       "5 142dpi LV_bottom A5            P132  0.002858430   0.000000000   \n",
       "6 142dpi LV_bottom A6            P132  0.003596194   0.000107639   \n",
       "  X128.018_0.344 ... X599.241_2.765 X604.362_2.948 X620.356_2.913\n",
       "1 0              ... 0.000000000    0.001281931    0.000659514   \n",
       "2 0              ... 0.000050000    0.000671298    0.000483435   \n",
       "3 0              ... 0.000082900    0.000706708    0.000317234   \n",
       "4 0              ... 0.000099100    0.000930076    0.000245202   \n",
       "5 0              ... 0.000178807    0.000744165    0.000302164   \n",
       "6 0              ... 0.000280413    0.000626765    0.000345920   \n",
       "  X682.363_3.329 X682.364_3.313 X764.524_3.729 X790.38_2.768 X792.329_2.764\n",
       "1 0.000320160    0              0              0.000370969   0.00e+00      \n",
       "2 0.000179208    0              0              0.000586134   0.00e+00      \n",
       "3 0.000099800    0              0              0.001133874   0.00e+00      \n",
       "4 0.000234970    0              0              0.001150258   0.00e+00      \n",
       "5 0.000251297    0              0              0.001161454   4.09e-05      \n",
       "6 0.000112422    0              0              0.001883720   8.53e-05      \n",
       "  X795.335_2.768 X811.309_2.773\n",
       "1 0.000245626    0.000038000   \n",
       "2 0.000211682    0.000020900   \n",
       "3 0.000741259    0.000095300   \n",
       "4 0.000713691    0.000174109   \n",
       "5 0.000765030    0.000136971   \n",
       "6 0.001150782    0.000161828   "
      ]
     },
     "metadata": {},
     "output_type": "display_data"
    },
    {
     "data": {
      "text/html": [
       "<ol class=list-inline>\n",
       "\t<li>30</li>\n",
       "\t<li>62</li>\n",
       "</ol>\n"
      ],
      "text/latex": [
       "\\begin{enumerate*}\n",
       "\\item 30\n",
       "\\item 62\n",
       "\\end{enumerate*}\n"
      ],
      "text/markdown": [
       "1. 30\n",
       "2. 62\n",
       "\n",
       "\n"
      ],
      "text/plain": [
       "[1] 30 62"
      ]
     },
     "metadata": {},
     "output_type": "display_data"
    }
   ],
   "source": [
    "# choose the lung posistion\n",
    "features_pos<-droplevels(subset(a, a$Treatmentgroup==c(\"Group9\")|a$Treatmentgroup==c(\"Group1C\")))\n",
    "head(features_pos)\n",
    "dim(features_pos)"
   ]
  },
  {
   "cell_type": "code",
   "execution_count": 10,
   "metadata": {
    "scrolled": false
   },
   "outputs": [
    {
     "data": {
      "text/html": [
       "<table>\n",
       "<thead><tr><th scope=col>X105.07_2.767</th><th scope=col>X119.049_2.765</th><th scope=col>X128.018_0.344</th><th scope=col>X136.062_0.301</th><th scope=col>X136.097_0.551</th><th scope=col>X137.046_0.31</th><th scope=col>X137.046_0.42</th><th scope=col>X203.007_0.309</th><th scope=col>X249.112_2.768</th><th scope=col>X251.037_0.323</th><th scope=col>...</th><th scope=col>X599.241_2.765</th><th scope=col>X604.362_2.948</th><th scope=col>X620.356_2.913</th><th scope=col>X682.363_3.329</th><th scope=col>X682.364_3.313</th><th scope=col>X764.524_3.729</th><th scope=col>X790.38_2.768</th><th scope=col>X792.329_2.764</th><th scope=col>X795.335_2.768</th><th scope=col>X811.309_2.773</th></tr></thead>\n",
       "<tbody>\n",
       "\t<tr><td>0.001681762</td><td>0.000000000</td><td>0          </td><td>0.001018126</td><td>0          </td><td>0.016982498</td><td>0.015622250</td><td>0.000289195</td><td>0.00e+00   </td><td>0.000469904</td><td>...        </td><td>0.000000000</td><td>0.001281931</td><td>0.000659514</td><td>0.000320160</td><td>0          </td><td>0          </td><td>0.000370969</td><td>0.00e+00   </td><td>0.000245626</td><td>0.000038000</td></tr>\n",
       "\t<tr><td>0.001668227</td><td>0.000020400</td><td>0          </td><td>0.000295572</td><td>0          </td><td>0.005836288</td><td>0.007990455</td><td>0.000021600</td><td>0.00e+00   </td><td>0.000000000</td><td>...        </td><td>0.000050000</td><td>0.000671298</td><td>0.000483435</td><td>0.000179208</td><td>0          </td><td>0          </td><td>0.000586134</td><td>0.00e+00   </td><td>0.000211682</td><td>0.000020900</td></tr>\n",
       "\t<tr><td>0.002195508</td><td>0.000000000</td><td>0          </td><td>0.000332938</td><td>0          </td><td>0.011181699</td><td>0.010145193</td><td>0.000217687</td><td>0.00e+00   </td><td>0.000233476</td><td>...        </td><td>0.000082900</td><td>0.000706708</td><td>0.000317234</td><td>0.000099800</td><td>0          </td><td>0          </td><td>0.001133874</td><td>0.00e+00   </td><td>0.000741259</td><td>0.000095300</td></tr>\n",
       "\t<tr><td>0.003006615</td><td>0.000063800</td><td>0          </td><td>0.001047760</td><td>0          </td><td>0.013286807</td><td>0.020423720</td><td>0.000315510</td><td>0.00e+00   </td><td>0.000569435</td><td>...        </td><td>0.000099100</td><td>0.000930076</td><td>0.000245202</td><td>0.000234970</td><td>0          </td><td>0          </td><td>0.001150258</td><td>0.00e+00   </td><td>0.000713691</td><td>0.000174109</td></tr>\n",
       "\t<tr><td>0.002858430</td><td>0.000000000</td><td>0          </td><td>0.000740688</td><td>0          </td><td>0.015404920</td><td>0.010467000</td><td>0.000335517</td><td>3.82e-05   </td><td>0.000365128</td><td>...        </td><td>0.000178807</td><td>0.000744165</td><td>0.000302164</td><td>0.000251297</td><td>0          </td><td>0          </td><td>0.001161454</td><td>4.09e-05   </td><td>0.000765030</td><td>0.000136971</td></tr>\n",
       "\t<tr><td>0.003596194</td><td>0.000107639</td><td>0          </td><td>0.000763763</td><td>0          </td><td>0.012398305</td><td>0.009521351</td><td>0.000207325</td><td>3.66e-05   </td><td>0.000235976</td><td>...        </td><td>0.000280413</td><td>0.000626765</td><td>0.000345920</td><td>0.000112422</td><td>0          </td><td>0          </td><td>0.001883720</td><td>8.53e-05   </td><td>0.001150782</td><td>0.000161828</td></tr>\n",
       "</tbody>\n",
       "</table>\n"
      ],
      "text/latex": [
       "\\begin{tabular}{r|lllllllllllllllllllllllllllllllllllllllllllllllllllllll}\n",
       " X105.07\\_2.767 & X119.049\\_2.765 & X128.018\\_0.344 & X136.062\\_0.301 & X136.097\\_0.551 & X137.046\\_0.31 & X137.046\\_0.42 & X203.007\\_0.309 & X249.112\\_2.768 & X251.037\\_0.323 & ... & X599.241\\_2.765 & X604.362\\_2.948 & X620.356\\_2.913 & X682.363\\_3.329 & X682.364\\_3.313 & X764.524\\_3.729 & X790.38\\_2.768 & X792.329\\_2.764 & X795.335\\_2.768 & X811.309\\_2.773\\\\\n",
       "\\hline\n",
       "\t 0.001681762 & 0.000000000 & 0           & 0.001018126 & 0           & 0.016982498 & 0.015622250 & 0.000289195 & 0.00e+00    & 0.000469904 & ...         & 0.000000000 & 0.001281931 & 0.000659514 & 0.000320160 & 0           & 0           & 0.000370969 & 0.00e+00    & 0.000245626 & 0.000038000\\\\\n",
       "\t 0.001668227 & 0.000020400 & 0           & 0.000295572 & 0           & 0.005836288 & 0.007990455 & 0.000021600 & 0.00e+00    & 0.000000000 & ...         & 0.000050000 & 0.000671298 & 0.000483435 & 0.000179208 & 0           & 0           & 0.000586134 & 0.00e+00    & 0.000211682 & 0.000020900\\\\\n",
       "\t 0.002195508 & 0.000000000 & 0           & 0.000332938 & 0           & 0.011181699 & 0.010145193 & 0.000217687 & 0.00e+00    & 0.000233476 & ...         & 0.000082900 & 0.000706708 & 0.000317234 & 0.000099800 & 0           & 0           & 0.001133874 & 0.00e+00    & 0.000741259 & 0.000095300\\\\\n",
       "\t 0.003006615 & 0.000063800 & 0           & 0.001047760 & 0           & 0.013286807 & 0.020423720 & 0.000315510 & 0.00e+00    & 0.000569435 & ...         & 0.000099100 & 0.000930076 & 0.000245202 & 0.000234970 & 0           & 0           & 0.001150258 & 0.00e+00    & 0.000713691 & 0.000174109\\\\\n",
       "\t 0.002858430 & 0.000000000 & 0           & 0.000740688 & 0           & 0.015404920 & 0.010467000 & 0.000335517 & 3.82e-05    & 0.000365128 & ...         & 0.000178807 & 0.000744165 & 0.000302164 & 0.000251297 & 0           & 0           & 0.001161454 & 4.09e-05    & 0.000765030 & 0.000136971\\\\\n",
       "\t 0.003596194 & 0.000107639 & 0           & 0.000763763 & 0           & 0.012398305 & 0.009521351 & 0.000207325 & 3.66e-05    & 0.000235976 & ...         & 0.000280413 & 0.000626765 & 0.000345920 & 0.000112422 & 0           & 0           & 0.001883720 & 8.53e-05    & 0.001150782 & 0.000161828\\\\\n",
       "\\end{tabular}\n"
      ],
      "text/markdown": [
       "\n",
       "| X105.07_2.767 | X119.049_2.765 | X128.018_0.344 | X136.062_0.301 | X136.097_0.551 | X137.046_0.31 | X137.046_0.42 | X203.007_0.309 | X249.112_2.768 | X251.037_0.323 | ... | X599.241_2.765 | X604.362_2.948 | X620.356_2.913 | X682.363_3.329 | X682.364_3.313 | X764.524_3.729 | X790.38_2.768 | X792.329_2.764 | X795.335_2.768 | X811.309_2.773 |\n",
       "|---|---|---|---|---|---|---|---|---|---|---|---|---|---|---|---|---|---|---|---|---|\n",
       "| 0.001681762 | 0.000000000 | 0           | 0.001018126 | 0           | 0.016982498 | 0.015622250 | 0.000289195 | 0.00e+00    | 0.000469904 | ...         | 0.000000000 | 0.001281931 | 0.000659514 | 0.000320160 | 0           | 0           | 0.000370969 | 0.00e+00    | 0.000245626 | 0.000038000 |\n",
       "| 0.001668227 | 0.000020400 | 0           | 0.000295572 | 0           | 0.005836288 | 0.007990455 | 0.000021600 | 0.00e+00    | 0.000000000 | ...         | 0.000050000 | 0.000671298 | 0.000483435 | 0.000179208 | 0           | 0           | 0.000586134 | 0.00e+00    | 0.000211682 | 0.000020900 |\n",
       "| 0.002195508 | 0.000000000 | 0           | 0.000332938 | 0           | 0.011181699 | 0.010145193 | 0.000217687 | 0.00e+00    | 0.000233476 | ...         | 0.000082900 | 0.000706708 | 0.000317234 | 0.000099800 | 0           | 0           | 0.001133874 | 0.00e+00    | 0.000741259 | 0.000095300 |\n",
       "| 0.003006615 | 0.000063800 | 0           | 0.001047760 | 0           | 0.013286807 | 0.020423720 | 0.000315510 | 0.00e+00    | 0.000569435 | ...         | 0.000099100 | 0.000930076 | 0.000245202 | 0.000234970 | 0           | 0           | 0.001150258 | 0.00e+00    | 0.000713691 | 0.000174109 |\n",
       "| 0.002858430 | 0.000000000 | 0           | 0.000740688 | 0           | 0.015404920 | 0.010467000 | 0.000335517 | 3.82e-05    | 0.000365128 | ...         | 0.000178807 | 0.000744165 | 0.000302164 | 0.000251297 | 0           | 0           | 0.001161454 | 4.09e-05    | 0.000765030 | 0.000136971 |\n",
       "| 0.003596194 | 0.000107639 | 0           | 0.000763763 | 0           | 0.012398305 | 0.009521351 | 0.000207325 | 3.66e-05    | 0.000235976 | ...         | 0.000280413 | 0.000626765 | 0.000345920 | 0.000112422 | 0           | 0           | 0.001883720 | 8.53e-05    | 0.001150782 | 0.000161828 |\n",
       "\n"
      ],
      "text/plain": [
       "  X105.07_2.767 X119.049_2.765 X128.018_0.344 X136.062_0.301 X136.097_0.551\n",
       "1 0.001681762   0.000000000    0              0.001018126    0             \n",
       "2 0.001668227   0.000020400    0              0.000295572    0             \n",
       "3 0.002195508   0.000000000    0              0.000332938    0             \n",
       "4 0.003006615   0.000063800    0              0.001047760    0             \n",
       "5 0.002858430   0.000000000    0              0.000740688    0             \n",
       "6 0.003596194   0.000107639    0              0.000763763    0             \n",
       "  X137.046_0.31 X137.046_0.42 X203.007_0.309 X249.112_2.768 X251.037_0.323 ...\n",
       "1 0.016982498   0.015622250   0.000289195    0.00e+00       0.000469904    ...\n",
       "2 0.005836288   0.007990455   0.000021600    0.00e+00       0.000000000    ...\n",
       "3 0.011181699   0.010145193   0.000217687    0.00e+00       0.000233476    ...\n",
       "4 0.013286807   0.020423720   0.000315510    0.00e+00       0.000569435    ...\n",
       "5 0.015404920   0.010467000   0.000335517    3.82e-05       0.000365128    ...\n",
       "6 0.012398305   0.009521351   0.000207325    3.66e-05       0.000235976    ...\n",
       "  X599.241_2.765 X604.362_2.948 X620.356_2.913 X682.363_3.329 X682.364_3.313\n",
       "1 0.000000000    0.001281931    0.000659514    0.000320160    0             \n",
       "2 0.000050000    0.000671298    0.000483435    0.000179208    0             \n",
       "3 0.000082900    0.000706708    0.000317234    0.000099800    0             \n",
       "4 0.000099100    0.000930076    0.000245202    0.000234970    0             \n",
       "5 0.000178807    0.000744165    0.000302164    0.000251297    0             \n",
       "6 0.000280413    0.000626765    0.000345920    0.000112422    0             \n",
       "  X764.524_3.729 X790.38_2.768 X792.329_2.764 X795.335_2.768 X811.309_2.773\n",
       "1 0              0.000370969   0.00e+00       0.000245626    0.000038000   \n",
       "2 0              0.000586134   0.00e+00       0.000211682    0.000020900   \n",
       "3 0              0.001133874   0.00e+00       0.000741259    0.000095300   \n",
       "4 0              0.001150258   0.00e+00       0.000713691    0.000174109   \n",
       "5 0              0.001161454   4.09e-05       0.000765030    0.000136971   \n",
       "6 0              0.001883720   8.53e-05       0.001150782    0.000161828   "
      ]
     },
     "metadata": {},
     "output_type": "display_data"
    },
    {
     "data": {
      "text/html": [
       "<dl class=dl-horizontal>\n",
       "\t<dt>X105.07_2.767</dt>\n",
       "\t\t<dd>1</dd>\n",
       "\t<dt>X119.049_2.765</dt>\n",
       "\t\t<dd>2</dd>\n",
       "\t<dt>X128.018_0.344</dt>\n",
       "\t\t<dd>3</dd>\n",
       "\t<dt>X136.062_0.301</dt>\n",
       "\t\t<dd>4</dd>\n",
       "\t<dt>X136.097_0.551</dt>\n",
       "\t\t<dd>5</dd>\n",
       "\t<dt>X137.046_0.31</dt>\n",
       "\t\t<dd>6</dd>\n",
       "</dl>\n"
      ],
      "text/latex": [
       "\\begin{description*}\n",
       "\\item[X105.07\\textbackslash{}\\_2.767] 1\n",
       "\\item[X119.049\\textbackslash{}\\_2.765] 2\n",
       "\\item[X128.018\\textbackslash{}\\_0.344] 3\n",
       "\\item[X136.062\\textbackslash{}\\_0.301] 4\n",
       "\\item[X136.097\\textbackslash{}\\_0.551] 5\n",
       "\\item[X137.046\\textbackslash{}\\_0.31] 6\n",
       "\\end{description*}\n"
      ],
      "text/markdown": [
       "X105.07_2.767\n",
       ":   1X119.049_2.765\n",
       ":   2X128.018_0.344\n",
       ":   3X136.062_0.301\n",
       ":   4X136.097_0.551\n",
       ":   5X137.046_0.31\n",
       ":   6\n",
       "\n"
      ],
      "text/plain": [
       " X105.07_2.767 X119.049_2.765 X128.018_0.344 X136.062_0.301 X136.097_0.551 \n",
       "             1              2              3              4              5 \n",
       " X137.046_0.31 \n",
       "             6 "
      ]
     },
     "metadata": {},
     "output_type": "display_data"
    },
    {
     "data": {
      "text/html": [
       "<table>\n",
       "<thead><tr><th></th><th scope=col>X105.07_2.767</th><th scope=col>X119.049_2.765</th><th scope=col>X128.018_0.344</th><th scope=col>X136.062_0.301</th><th scope=col>X136.097_0.551</th><th scope=col>X137.046_0.31</th><th scope=col>X137.046_0.42</th><th scope=col>X203.007_0.309</th><th scope=col>X249.112_2.768</th><th scope=col>X251.037_0.323</th><th scope=col>...</th><th scope=col>X599.241_2.765</th><th scope=col>X604.362_2.948</th><th scope=col>X620.356_2.913</th><th scope=col>X682.363_3.329</th><th scope=col>X682.364_3.313</th><th scope=col>X764.524_3.729</th><th scope=col>X790.38_2.768</th><th scope=col>X792.329_2.764</th><th scope=col>X795.335_2.768</th><th scope=col>X811.309_2.773</th></tr></thead>\n",
       "<tbody>\n",
       "\t<tr><th scope=row>1</th><td>0.001681762</td><td>0.000000000</td><td>0.000000000</td><td>0.001018126</td><td>0.000000000</td><td>0.016982498</td><td>0.015622250</td><td>0.000289195</td><td>0.000000000</td><td>0.000469904</td><td>...        </td><td>0.000000000</td><td>0.001281931</td><td>0.000659514</td><td>0.000320160</td><td>0.000000000</td><td>0.000000000</td><td>0.000370969</td><td>0.000000000</td><td>0.000245626</td><td>0.000038000</td></tr>\n",
       "\t<tr><th scope=row>2</th><td>0.001668227</td><td>0.000020400</td><td>0.000000000</td><td>0.000295572</td><td>0.000000000</td><td>0.005836288</td><td>0.007990455</td><td>0.000021600</td><td>0.000000000</td><td>0.000000000</td><td>...        </td><td>0.000050000</td><td>0.000671298</td><td>0.000483435</td><td>0.000179208</td><td>0.000000000</td><td>0.000000000</td><td>0.000586134</td><td>0.000000000</td><td>0.000211682</td><td>0.000020900</td></tr>\n",
       "\t<tr><th scope=row>3</th><td>0.002195508</td><td>0.000000000</td><td>0.000000000</td><td>0.000332938</td><td>0.000000000</td><td>0.011181699</td><td>0.010145193</td><td>0.000217687</td><td>0.000000000</td><td>0.000233476</td><td>...        </td><td>0.000082900</td><td>0.000706708</td><td>0.000317234</td><td>0.000099800</td><td>0.000000000</td><td>0.000000000</td><td>0.001133874</td><td>0.000000000</td><td>0.000741259</td><td>0.000095300</td></tr>\n",
       "\t<tr><th scope=row>4</th><td>0.003006615</td><td>0.000063800</td><td>0.000000000</td><td>0.001047760</td><td>0.000000000</td><td>0.013286807</td><td>0.020423720</td><td>0.000315510</td><td>0.000000000</td><td>0.000569435</td><td>...        </td><td>0.000099100</td><td>0.000930076</td><td>0.000245202</td><td>0.000234970</td><td>0.000000000</td><td>0.000000000</td><td>0.001150258</td><td>0.000000000</td><td>0.000713691</td><td>0.000174109</td></tr>\n",
       "\t<tr><th scope=row>5</th><td>0.002858430</td><td>0.000000000</td><td>0.000000000</td><td>0.000740688</td><td>0.000000000</td><td>0.015404920</td><td>0.010467000</td><td>0.000335517</td><td>0.000038200</td><td>0.000365128</td><td>...        </td><td>0.000178807</td><td>0.000744165</td><td>0.000302164</td><td>0.000251297</td><td>0.000000000</td><td>0.000000000</td><td>0.001161454</td><td>0.000040900</td><td>0.000765030</td><td>0.000136971</td></tr>\n",
       "\t<tr><th scope=row>6</th><td>0.003596194</td><td>0.000107639</td><td>0.000000000</td><td>0.000763763</td><td>0.000000000</td><td>0.012398305</td><td>0.009521351</td><td>0.000207325</td><td>0.000036600</td><td>0.000235976</td><td>...        </td><td>0.000280413</td><td>0.000626765</td><td>0.000345920</td><td>0.000112422</td><td>0.000000000</td><td>0.000000000</td><td>0.001883720</td><td>0.000085300</td><td>0.001150782</td><td>0.000161828</td></tr>\n",
       "\t<tr><th scope=row>7</th><td>0.004184102</td><td>0.000000000</td><td>0.000000000</td><td>0.000943397</td><td>0.000000000</td><td>0.014920666</td><td>0.015749592</td><td>0.000251807</td><td>0.000073200</td><td>0.000418410</td><td>...        </td><td>0.000357279</td><td>0.000994711</td><td>0.000442094</td><td>0.000321391</td><td>0.000000000</td><td>0.000000000</td><td>0.002245995</td><td>0.000039900</td><td>0.001480225</td><td>0.000288184</td></tr>\n",
       "\t<tr><th scope=row>8</th><td>0.003180510</td><td>0.000081300</td><td>0.000000000</td><td>0.001072193</td><td>0.000000000</td><td>0.015017254</td><td>0.010721926</td><td>0.000180750</td><td>0.000030800</td><td>0.000459043</td><td>...        </td><td>0.000230648</td><td>0.000757420</td><td>0.000308954</td><td>0.000298353</td><td>0.000000000</td><td>0.000000000</td><td>0.001603371</td><td>0.000031000</td><td>0.000891854</td><td>0.000151068</td></tr>\n",
       "\t<tr><th scope=row>9</th><td>0.003522334</td><td>0.000105216</td><td>0.000000000</td><td>0.001145864</td><td>0.000000000</td><td>0.020190782</td><td>0.011237570</td><td>0.000206309</td><td>0.000028000</td><td>0.000515823</td><td>...        </td><td>0.000235445</td><td>0.000637410</td><td>0.000281648</td><td>0.000281675</td><td>0.000000000</td><td>0.000000000</td><td>0.001661687</td><td>0.000000000</td><td>0.001230606</td><td>0.000146975</td></tr>\n",
       "\t<tr><th scope=row>10</th><td>0.004984568</td><td>0.000000000</td><td>0.000000000</td><td>0.001608456</td><td>0.000000000</td><td>0.017786343</td><td>0.012351627</td><td>0.000359090</td><td>0.000049700</td><td>0.000730118</td><td>...        </td><td>0.000417157</td><td>0.000675222</td><td>0.000168015</td><td>0.000403194</td><td>0.000000000</td><td>0.000000000</td><td>0.002514242</td><td>0.000060100</td><td>0.001690800</td><td>0.000142444</td></tr>\n",
       "\t<tr><th scope=row>11</th><td>0.002516160</td><td>0.000031300</td><td>0.000000000</td><td>0.001240799</td><td>0.000000000</td><td>0.019113140</td><td>0.010195979</td><td>0.000000000</td><td>0.000000000</td><td>0.000028600</td><td>...        </td><td>0.000127604</td><td>0.000739641</td><td>0.000276132</td><td>0.000228511</td><td>0.000000000</td><td>0.000072000</td><td>0.001175130</td><td>0.000000000</td><td>0.000812222</td><td>0.000120914</td></tr>\n",
       "\t<tr><th scope=row>12</th><td>0.002025665</td><td>0.000000000</td><td>0.000000000</td><td>0.001652943</td><td>0.000000000</td><td>0.017704314</td><td>0.018068934</td><td>0.000000000</td><td>0.000000000</td><td>0.000042500</td><td>...        </td><td>0.000063500</td><td>0.000765701</td><td>0.000361806</td><td>0.000277571</td><td>0.000000000</td><td>0.000114613</td><td>0.000700880</td><td>0.000000000</td><td>0.000498314</td><td>0.000092600</td></tr>\n",
       "\t<tr><th scope=row>13</th><td>0.001893397</td><td>0.000000000</td><td>0.000000000</td><td>0.001441242</td><td>0.000000000</td><td>0.021558078</td><td>0.014816133</td><td>0.000160445</td><td>0.000000000</td><td>0.000670157</td><td>...        </td><td>0.000000000</td><td>0.000904309</td><td>0.000536933</td><td>0.000000000</td><td>0.000243387</td><td>0.000029700</td><td>0.000637861</td><td>0.000000000</td><td>0.000440043</td><td>0.000081300</td></tr>\n",
       "\t<tr><th scope=row>14</th><td>0.003391941</td><td>0.000073100</td><td>0.000000000</td><td>0.000702238</td><td>0.000000000</td><td>0.014000589</td><td>0.006757382</td><td>0.000191529</td><td>0.000000000</td><td>0.000000000</td><td>...        </td><td>0.000256378</td><td>0.000640406</td><td>0.000140963</td><td>0.000309837</td><td>0.000000000</td><td>0.000037500</td><td>0.001488391</td><td>0.000034800</td><td>0.000993733</td><td>0.000129137</td></tr>\n",
       "\t<tr><th scope=row>15</th><td>0.002668096</td><td>0.000000000</td><td>0.000000000</td><td>0.000721540</td><td>0.000000000</td><td>0.014013916</td><td>0.012891520</td><td>0.000222743</td><td>0.000065400</td><td>0.000464993</td><td>...        </td><td>0.000192285</td><td>0.000567612</td><td>0.000327098</td><td>0.000000000</td><td>0.000081800</td><td>0.001577768</td><td>0.001651526</td><td>0.000035000</td><td>0.000929985</td><td>0.000135980</td></tr>\n",
       "\t<tr><th scope=row>21</th><td>0.003922505</td><td>0.000144515</td><td>0.000000000</td><td>0.000265460</td><td>0.000000000</td><td>0.008383980</td><td>0.006287985</td><td>0.000000000</td><td>0.000098400</td><td>0.000000000</td><td>...        </td><td>0.000314399</td><td>0.000619816</td><td>0.000298514</td><td>0.000000000</td><td>0.000245309</td><td>0.000329371</td><td>0.001928315</td><td>0.000075700</td><td>0.001254603</td><td>0.000139494</td></tr>\n",
       "\t<tr><th scope=row>22</th><td>0.005424795</td><td>0.000169238</td><td>0.000258005</td><td>0.000000000</td><td>0.000000000</td><td>0.013286151</td><td>0.006482171</td><td>0.000000000</td><td>0.000101462</td><td>0.000000000</td><td>...        </td><td>0.000407544</td><td>0.000588452</td><td>0.000125678</td><td>0.000000000</td><td>0.000156795</td><td>0.000000000</td><td>0.002790552</td><td>0.000104305</td><td>0.001986027</td><td>0.000150506</td></tr>\n",
       "\t<tr><th scope=row>23</th><td>0.003141117</td><td>0.000100816</td><td>0.000053100</td><td>0.000292405</td><td>0.000000000</td><td>0.009675311</td><td>0.008801845</td><td>0.000000000</td><td>0.000028700</td><td>0.000000000</td><td>...        </td><td>0.000234392</td><td>0.000853309</td><td>0.000352746</td><td>0.000000000</td><td>0.000170060</td><td>0.000126879</td><td>0.001471454</td><td>0.000029700</td><td>0.000950734</td><td>0.000175991</td></tr>\n",
       "\t<tr><th scope=row>24</th><td>0.003303506</td><td>0.000089100</td><td>0.000000000</td><td>0.000423420</td><td>0.000000000</td><td>0.013204058</td><td>0.012157699</td><td>0.000000000</td><td>0.000000000</td><td>0.000000000</td><td>...        </td><td>0.000058000</td><td>0.001081238</td><td>0.000523180</td><td>0.000000000</td><td>0.000225384</td><td>0.000000000</td><td>0.000966637</td><td>0.000000000</td><td>0.000627816</td><td>0.000095800</td></tr>\n",
       "\t<tr><th scope=row>25</th><td>0.001476878</td><td>0.000000000</td><td>0.000097400</td><td>0.000168995</td><td>0.000000000</td><td>0.011418453</td><td>0.013469672</td><td>0.000228317</td><td>0.000000000</td><td>0.000574341</td><td>...        </td><td>0.000000000</td><td>0.000793138</td><td>0.000323081</td><td>0.000000000</td><td>0.000044300</td><td>0.000581179</td><td>0.000632459</td><td>0.000000000</td><td>0.000298204</td><td>0.000034300</td></tr>\n",
       "\t<tr><th scope=row>36</th><td>0.006112067</td><td>0.000179692</td><td>0.000071500</td><td>0.001003474</td><td>0.000000000</td><td>0.012041684</td><td>0.006340129</td><td>0.000000000</td><td>0.000128355</td><td>0.000606645</td><td>...        </td><td>0.000538227</td><td>0.000675064</td><td>0.000100217</td><td>0.000000000</td><td>0.000175547</td><td>0.000000000</td><td>0.003352514</td><td>0.000191569</td><td>0.002490439</td><td>0.000188530</td></tr>\n",
       "\t<tr><th scope=row>37</th><td>0.004958712</td><td>0.000146298</td><td>0.000068400</td><td>0.000398120</td><td>0.000367864</td><td>0.009581240</td><td>0.004706574</td><td>0.000000000</td><td>0.000039800</td><td>0.000000000</td><td>...        </td><td>0.000327831</td><td>0.000621940</td><td>0.000076000</td><td>0.000000000</td><td>0.000225882</td><td>0.000176739</td><td>0.003042464</td><td>0.000050400</td><td>0.001870023</td><td>0.000186748</td></tr>\n",
       "\t<tr><th scope=row>38</th><td>0.004629602</td><td>0.000050500</td><td>0.000000000</td><td>0.001140173</td><td>0.000514742</td><td>0.013155838</td><td>0.007016447</td><td>0.000000000</td><td>0.000000000</td><td>0.000000000</td><td>...        </td><td>0.000163835</td><td>0.000594132</td><td>0.000125921</td><td>0.000000000</td><td>0.000321222</td><td>0.000000000</td><td>0.002142522</td><td>0.000000000</td><td>0.001415819</td><td>0.000172528</td></tr>\n",
       "\t<tr><th scope=row>39</th><td>0.002419561</td><td>0.000000000</td><td>0.000083900</td><td>0.000888621</td><td>0.000000000</td><td>0.009803809</td><td>0.007582256</td><td>0.000000000</td><td>0.000000000</td><td>0.000000000</td><td>...        </td><td>0.000043100</td><td>0.000531241</td><td>0.000290154</td><td>0.000000000</td><td>0.000292539</td><td>0.000109047</td><td>0.000999699</td><td>0.000000000</td><td>0.000502264</td><td>0.000042800</td></tr>\n",
       "\t<tr><th scope=row>40</th><td>0.004319682</td><td>0.000101475</td><td>0.000190248</td><td>0.000755830</td><td>0.000206883</td><td>0.013009434</td><td>0.008795111</td><td>0.000000000</td><td>0.000038200</td><td>0.000000000</td><td>...        </td><td>0.000304626</td><td>0.000613825</td><td>0.000222833</td><td>0.000000000</td><td>0.000231627</td><td>0.000746668</td><td>0.002221682</td><td>0.000000000</td><td>0.001589533</td><td>0.000195319</td></tr>\n",
       "\t<tr><th scope=row>51</th><td>0.004812008</td><td>0.000137791</td><td>0.000207329</td><td>0.000686234</td><td>0.000000000</td><td>0.012971501</td><td>0.006485750</td><td>0.000000000</td><td>0.000037600</td><td>0.000000000</td><td>...        </td><td>0.000358154</td><td>0.000694603</td><td>0.000152549</td><td>0.000000000</td><td>0.000186328</td><td>0.000065200</td><td>0.002636144</td><td>0.000000000</td><td>0.001820194</td><td>0.000168366</td></tr>\n",
       "\t<tr><th scope=row>52</th><td>0.003743815</td><td>0.000095400</td><td>0.000187663</td><td>0.000135220</td><td>0.000762932</td><td>0.011825442</td><td>0.006920881</td><td>0.000000000</td><td>0.000000000</td><td>0.000000000</td><td>...        </td><td>0.000099700</td><td>0.000773831</td><td>0.000272727</td><td>0.000000000</td><td>0.000429803</td><td>0.000000000</td><td>0.001841935</td><td>0.000000000</td><td>0.001193443</td><td>0.000165247</td></tr>\n",
       "\t<tr><th scope=row>53</th><td>0.002465422</td><td>0.000000000</td><td>0.000130802</td><td>0.000355857</td><td>0.000405808</td><td>0.007758963</td><td>0.006381632</td><td>0.000000000</td><td>0.000000000</td><td>0.000000000</td><td>...        </td><td>0.000113055</td><td>0.000505021</td><td>0.000176378</td><td>0.000000000</td><td>0.000495839</td><td>0.000927403</td><td>0.001101865</td><td>0.000000000</td><td>0.000707030</td><td>0.000082800</td></tr>\n",
       "\t<tr><th scope=row>54</th><td>0.003096777</td><td>0.000000000</td><td>0.000187929</td><td>0.000638955</td><td>0.000000000</td><td>0.010074325</td><td>0.007173546</td><td>0.000292918</td><td>0.000000000</td><td>0.000642875</td><td>...        </td><td>0.000188864</td><td>0.000580156</td><td>0.000213929</td><td>0.000000000</td><td>0.000249739</td><td>0.000000000</td><td>0.001920786</td><td>0.000034100</td><td>0.001015272</td><td>0.000121553</td></tr>\n",
       "\t<tr><th scope=row>55</th><td>0.004164029</td><td>0.000084800</td><td>0.000098200</td><td>0.000340297</td><td>0.000000000</td><td>0.009024862</td><td>0.005163060</td><td>0.000000000</td><td>0.000070400</td><td>0.000000000</td><td>...        </td><td>0.000344584</td><td>0.000533096</td><td>0.000229586</td><td>0.000000000</td><td>0.000436551</td><td>0.001658056</td><td>0.001968679</td><td>0.000045800</td><td>0.001292864</td><td>0.000128311</td></tr>\n",
       "</tbody>\n",
       "</table>\n"
      ],
      "text/latex": [
       "\\begin{tabular}{r|lllllllllllllllllllllllllllllllllllllllllllllllllllllll}\n",
       "  & X105.07\\_2.767 & X119.049\\_2.765 & X128.018\\_0.344 & X136.062\\_0.301 & X136.097\\_0.551 & X137.046\\_0.31 & X137.046\\_0.42 & X203.007\\_0.309 & X249.112\\_2.768 & X251.037\\_0.323 & ... & X599.241\\_2.765 & X604.362\\_2.948 & X620.356\\_2.913 & X682.363\\_3.329 & X682.364\\_3.313 & X764.524\\_3.729 & X790.38\\_2.768 & X792.329\\_2.764 & X795.335\\_2.768 & X811.309\\_2.773\\\\\n",
       "\\hline\n",
       "\t1 & 0.001681762 & 0.000000000 & 0.000000000 & 0.001018126 & 0.000000000 & 0.016982498 & 0.015622250 & 0.000289195 & 0.000000000 & 0.000469904 & ...         & 0.000000000 & 0.001281931 & 0.000659514 & 0.000320160 & 0.000000000 & 0.000000000 & 0.000370969 & 0.000000000 & 0.000245626 & 0.000038000\\\\\n",
       "\t2 & 0.001668227 & 0.000020400 & 0.000000000 & 0.000295572 & 0.000000000 & 0.005836288 & 0.007990455 & 0.000021600 & 0.000000000 & 0.000000000 & ...         & 0.000050000 & 0.000671298 & 0.000483435 & 0.000179208 & 0.000000000 & 0.000000000 & 0.000586134 & 0.000000000 & 0.000211682 & 0.000020900\\\\\n",
       "\t3 & 0.002195508 & 0.000000000 & 0.000000000 & 0.000332938 & 0.000000000 & 0.011181699 & 0.010145193 & 0.000217687 & 0.000000000 & 0.000233476 & ...         & 0.000082900 & 0.000706708 & 0.000317234 & 0.000099800 & 0.000000000 & 0.000000000 & 0.001133874 & 0.000000000 & 0.000741259 & 0.000095300\\\\\n",
       "\t4 & 0.003006615 & 0.000063800 & 0.000000000 & 0.001047760 & 0.000000000 & 0.013286807 & 0.020423720 & 0.000315510 & 0.000000000 & 0.000569435 & ...         & 0.000099100 & 0.000930076 & 0.000245202 & 0.000234970 & 0.000000000 & 0.000000000 & 0.001150258 & 0.000000000 & 0.000713691 & 0.000174109\\\\\n",
       "\t5 & 0.002858430 & 0.000000000 & 0.000000000 & 0.000740688 & 0.000000000 & 0.015404920 & 0.010467000 & 0.000335517 & 0.000038200 & 0.000365128 & ...         & 0.000178807 & 0.000744165 & 0.000302164 & 0.000251297 & 0.000000000 & 0.000000000 & 0.001161454 & 0.000040900 & 0.000765030 & 0.000136971\\\\\n",
       "\t6 & 0.003596194 & 0.000107639 & 0.000000000 & 0.000763763 & 0.000000000 & 0.012398305 & 0.009521351 & 0.000207325 & 0.000036600 & 0.000235976 & ...         & 0.000280413 & 0.000626765 & 0.000345920 & 0.000112422 & 0.000000000 & 0.000000000 & 0.001883720 & 0.000085300 & 0.001150782 & 0.000161828\\\\\n",
       "\t7 & 0.004184102 & 0.000000000 & 0.000000000 & 0.000943397 & 0.000000000 & 0.014920666 & 0.015749592 & 0.000251807 & 0.000073200 & 0.000418410 & ...         & 0.000357279 & 0.000994711 & 0.000442094 & 0.000321391 & 0.000000000 & 0.000000000 & 0.002245995 & 0.000039900 & 0.001480225 & 0.000288184\\\\\n",
       "\t8 & 0.003180510 & 0.000081300 & 0.000000000 & 0.001072193 & 0.000000000 & 0.015017254 & 0.010721926 & 0.000180750 & 0.000030800 & 0.000459043 & ...         & 0.000230648 & 0.000757420 & 0.000308954 & 0.000298353 & 0.000000000 & 0.000000000 & 0.001603371 & 0.000031000 & 0.000891854 & 0.000151068\\\\\n",
       "\t9 & 0.003522334 & 0.000105216 & 0.000000000 & 0.001145864 & 0.000000000 & 0.020190782 & 0.011237570 & 0.000206309 & 0.000028000 & 0.000515823 & ...         & 0.000235445 & 0.000637410 & 0.000281648 & 0.000281675 & 0.000000000 & 0.000000000 & 0.001661687 & 0.000000000 & 0.001230606 & 0.000146975\\\\\n",
       "\t10 & 0.004984568 & 0.000000000 & 0.000000000 & 0.001608456 & 0.000000000 & 0.017786343 & 0.012351627 & 0.000359090 & 0.000049700 & 0.000730118 & ...         & 0.000417157 & 0.000675222 & 0.000168015 & 0.000403194 & 0.000000000 & 0.000000000 & 0.002514242 & 0.000060100 & 0.001690800 & 0.000142444\\\\\n",
       "\t11 & 0.002516160 & 0.000031300 & 0.000000000 & 0.001240799 & 0.000000000 & 0.019113140 & 0.010195979 & 0.000000000 & 0.000000000 & 0.000028600 & ...         & 0.000127604 & 0.000739641 & 0.000276132 & 0.000228511 & 0.000000000 & 0.000072000 & 0.001175130 & 0.000000000 & 0.000812222 & 0.000120914\\\\\n",
       "\t12 & 0.002025665 & 0.000000000 & 0.000000000 & 0.001652943 & 0.000000000 & 0.017704314 & 0.018068934 & 0.000000000 & 0.000000000 & 0.000042500 & ...         & 0.000063500 & 0.000765701 & 0.000361806 & 0.000277571 & 0.000000000 & 0.000114613 & 0.000700880 & 0.000000000 & 0.000498314 & 0.000092600\\\\\n",
       "\t13 & 0.001893397 & 0.000000000 & 0.000000000 & 0.001441242 & 0.000000000 & 0.021558078 & 0.014816133 & 0.000160445 & 0.000000000 & 0.000670157 & ...         & 0.000000000 & 0.000904309 & 0.000536933 & 0.000000000 & 0.000243387 & 0.000029700 & 0.000637861 & 0.000000000 & 0.000440043 & 0.000081300\\\\\n",
       "\t14 & 0.003391941 & 0.000073100 & 0.000000000 & 0.000702238 & 0.000000000 & 0.014000589 & 0.006757382 & 0.000191529 & 0.000000000 & 0.000000000 & ...         & 0.000256378 & 0.000640406 & 0.000140963 & 0.000309837 & 0.000000000 & 0.000037500 & 0.001488391 & 0.000034800 & 0.000993733 & 0.000129137\\\\\n",
       "\t15 & 0.002668096 & 0.000000000 & 0.000000000 & 0.000721540 & 0.000000000 & 0.014013916 & 0.012891520 & 0.000222743 & 0.000065400 & 0.000464993 & ...         & 0.000192285 & 0.000567612 & 0.000327098 & 0.000000000 & 0.000081800 & 0.001577768 & 0.001651526 & 0.000035000 & 0.000929985 & 0.000135980\\\\\n",
       "\t21 & 0.003922505 & 0.000144515 & 0.000000000 & 0.000265460 & 0.000000000 & 0.008383980 & 0.006287985 & 0.000000000 & 0.000098400 & 0.000000000 & ...         & 0.000314399 & 0.000619816 & 0.000298514 & 0.000000000 & 0.000245309 & 0.000329371 & 0.001928315 & 0.000075700 & 0.001254603 & 0.000139494\\\\\n",
       "\t22 & 0.005424795 & 0.000169238 & 0.000258005 & 0.000000000 & 0.000000000 & 0.013286151 & 0.006482171 & 0.000000000 & 0.000101462 & 0.000000000 & ...         & 0.000407544 & 0.000588452 & 0.000125678 & 0.000000000 & 0.000156795 & 0.000000000 & 0.002790552 & 0.000104305 & 0.001986027 & 0.000150506\\\\\n",
       "\t23 & 0.003141117 & 0.000100816 & 0.000053100 & 0.000292405 & 0.000000000 & 0.009675311 & 0.008801845 & 0.000000000 & 0.000028700 & 0.000000000 & ...         & 0.000234392 & 0.000853309 & 0.000352746 & 0.000000000 & 0.000170060 & 0.000126879 & 0.001471454 & 0.000029700 & 0.000950734 & 0.000175991\\\\\n",
       "\t24 & 0.003303506 & 0.000089100 & 0.000000000 & 0.000423420 & 0.000000000 & 0.013204058 & 0.012157699 & 0.000000000 & 0.000000000 & 0.000000000 & ...         & 0.000058000 & 0.001081238 & 0.000523180 & 0.000000000 & 0.000225384 & 0.000000000 & 0.000966637 & 0.000000000 & 0.000627816 & 0.000095800\\\\\n",
       "\t25 & 0.001476878 & 0.000000000 & 0.000097400 & 0.000168995 & 0.000000000 & 0.011418453 & 0.013469672 & 0.000228317 & 0.000000000 & 0.000574341 & ...         & 0.000000000 & 0.000793138 & 0.000323081 & 0.000000000 & 0.000044300 & 0.000581179 & 0.000632459 & 0.000000000 & 0.000298204 & 0.000034300\\\\\n",
       "\t36 & 0.006112067 & 0.000179692 & 0.000071500 & 0.001003474 & 0.000000000 & 0.012041684 & 0.006340129 & 0.000000000 & 0.000128355 & 0.000606645 & ...         & 0.000538227 & 0.000675064 & 0.000100217 & 0.000000000 & 0.000175547 & 0.000000000 & 0.003352514 & 0.000191569 & 0.002490439 & 0.000188530\\\\\n",
       "\t37 & 0.004958712 & 0.000146298 & 0.000068400 & 0.000398120 & 0.000367864 & 0.009581240 & 0.004706574 & 0.000000000 & 0.000039800 & 0.000000000 & ...         & 0.000327831 & 0.000621940 & 0.000076000 & 0.000000000 & 0.000225882 & 0.000176739 & 0.003042464 & 0.000050400 & 0.001870023 & 0.000186748\\\\\n",
       "\t38 & 0.004629602 & 0.000050500 & 0.000000000 & 0.001140173 & 0.000514742 & 0.013155838 & 0.007016447 & 0.000000000 & 0.000000000 & 0.000000000 & ...         & 0.000163835 & 0.000594132 & 0.000125921 & 0.000000000 & 0.000321222 & 0.000000000 & 0.002142522 & 0.000000000 & 0.001415819 & 0.000172528\\\\\n",
       "\t39 & 0.002419561 & 0.000000000 & 0.000083900 & 0.000888621 & 0.000000000 & 0.009803809 & 0.007582256 & 0.000000000 & 0.000000000 & 0.000000000 & ...         & 0.000043100 & 0.000531241 & 0.000290154 & 0.000000000 & 0.000292539 & 0.000109047 & 0.000999699 & 0.000000000 & 0.000502264 & 0.000042800\\\\\n",
       "\t40 & 0.004319682 & 0.000101475 & 0.000190248 & 0.000755830 & 0.000206883 & 0.013009434 & 0.008795111 & 0.000000000 & 0.000038200 & 0.000000000 & ...         & 0.000304626 & 0.000613825 & 0.000222833 & 0.000000000 & 0.000231627 & 0.000746668 & 0.002221682 & 0.000000000 & 0.001589533 & 0.000195319\\\\\n",
       "\t51 & 0.004812008 & 0.000137791 & 0.000207329 & 0.000686234 & 0.000000000 & 0.012971501 & 0.006485750 & 0.000000000 & 0.000037600 & 0.000000000 & ...         & 0.000358154 & 0.000694603 & 0.000152549 & 0.000000000 & 0.000186328 & 0.000065200 & 0.002636144 & 0.000000000 & 0.001820194 & 0.000168366\\\\\n",
       "\t52 & 0.003743815 & 0.000095400 & 0.000187663 & 0.000135220 & 0.000762932 & 0.011825442 & 0.006920881 & 0.000000000 & 0.000000000 & 0.000000000 & ...         & 0.000099700 & 0.000773831 & 0.000272727 & 0.000000000 & 0.000429803 & 0.000000000 & 0.001841935 & 0.000000000 & 0.001193443 & 0.000165247\\\\\n",
       "\t53 & 0.002465422 & 0.000000000 & 0.000130802 & 0.000355857 & 0.000405808 & 0.007758963 & 0.006381632 & 0.000000000 & 0.000000000 & 0.000000000 & ...         & 0.000113055 & 0.000505021 & 0.000176378 & 0.000000000 & 0.000495839 & 0.000927403 & 0.001101865 & 0.000000000 & 0.000707030 & 0.000082800\\\\\n",
       "\t54 & 0.003096777 & 0.000000000 & 0.000187929 & 0.000638955 & 0.000000000 & 0.010074325 & 0.007173546 & 0.000292918 & 0.000000000 & 0.000642875 & ...         & 0.000188864 & 0.000580156 & 0.000213929 & 0.000000000 & 0.000249739 & 0.000000000 & 0.001920786 & 0.000034100 & 0.001015272 & 0.000121553\\\\\n",
       "\t55 & 0.004164029 & 0.000084800 & 0.000098200 & 0.000340297 & 0.000000000 & 0.009024862 & 0.005163060 & 0.000000000 & 0.000070400 & 0.000000000 & ...         & 0.000344584 & 0.000533096 & 0.000229586 & 0.000000000 & 0.000436551 & 0.001658056 & 0.001968679 & 0.000045800 & 0.001292864 & 0.000128311\\\\\n",
       "\\end{tabular}\n"
      ],
      "text/markdown": [
       "\n",
       "| <!--/--> | X105.07_2.767 | X119.049_2.765 | X128.018_0.344 | X136.062_0.301 | X136.097_0.551 | X137.046_0.31 | X137.046_0.42 | X203.007_0.309 | X249.112_2.768 | X251.037_0.323 | ... | X599.241_2.765 | X604.362_2.948 | X620.356_2.913 | X682.363_3.329 | X682.364_3.313 | X764.524_3.729 | X790.38_2.768 | X792.329_2.764 | X795.335_2.768 | X811.309_2.773 |\n",
       "|---|---|---|---|---|---|---|---|---|---|---|---|---|---|---|---|---|---|---|---|---|---|\n",
       "| 1 | 0.001681762 | 0.000000000 | 0.000000000 | 0.001018126 | 0.000000000 | 0.016982498 | 0.015622250 | 0.000289195 | 0.000000000 | 0.000469904 | ...         | 0.000000000 | 0.001281931 | 0.000659514 | 0.000320160 | 0.000000000 | 0.000000000 | 0.000370969 | 0.000000000 | 0.000245626 | 0.000038000 |\n",
       "| 2 | 0.001668227 | 0.000020400 | 0.000000000 | 0.000295572 | 0.000000000 | 0.005836288 | 0.007990455 | 0.000021600 | 0.000000000 | 0.000000000 | ...         | 0.000050000 | 0.000671298 | 0.000483435 | 0.000179208 | 0.000000000 | 0.000000000 | 0.000586134 | 0.000000000 | 0.000211682 | 0.000020900 |\n",
       "| 3 | 0.002195508 | 0.000000000 | 0.000000000 | 0.000332938 | 0.000000000 | 0.011181699 | 0.010145193 | 0.000217687 | 0.000000000 | 0.000233476 | ...         | 0.000082900 | 0.000706708 | 0.000317234 | 0.000099800 | 0.000000000 | 0.000000000 | 0.001133874 | 0.000000000 | 0.000741259 | 0.000095300 |\n",
       "| 4 | 0.003006615 | 0.000063800 | 0.000000000 | 0.001047760 | 0.000000000 | 0.013286807 | 0.020423720 | 0.000315510 | 0.000000000 | 0.000569435 | ...         | 0.000099100 | 0.000930076 | 0.000245202 | 0.000234970 | 0.000000000 | 0.000000000 | 0.001150258 | 0.000000000 | 0.000713691 | 0.000174109 |\n",
       "| 5 | 0.002858430 | 0.000000000 | 0.000000000 | 0.000740688 | 0.000000000 | 0.015404920 | 0.010467000 | 0.000335517 | 0.000038200 | 0.000365128 | ...         | 0.000178807 | 0.000744165 | 0.000302164 | 0.000251297 | 0.000000000 | 0.000000000 | 0.001161454 | 0.000040900 | 0.000765030 | 0.000136971 |\n",
       "| 6 | 0.003596194 | 0.000107639 | 0.000000000 | 0.000763763 | 0.000000000 | 0.012398305 | 0.009521351 | 0.000207325 | 0.000036600 | 0.000235976 | ...         | 0.000280413 | 0.000626765 | 0.000345920 | 0.000112422 | 0.000000000 | 0.000000000 | 0.001883720 | 0.000085300 | 0.001150782 | 0.000161828 |\n",
       "| 7 | 0.004184102 | 0.000000000 | 0.000000000 | 0.000943397 | 0.000000000 | 0.014920666 | 0.015749592 | 0.000251807 | 0.000073200 | 0.000418410 | ...         | 0.000357279 | 0.000994711 | 0.000442094 | 0.000321391 | 0.000000000 | 0.000000000 | 0.002245995 | 0.000039900 | 0.001480225 | 0.000288184 |\n",
       "| 8 | 0.003180510 | 0.000081300 | 0.000000000 | 0.001072193 | 0.000000000 | 0.015017254 | 0.010721926 | 0.000180750 | 0.000030800 | 0.000459043 | ...         | 0.000230648 | 0.000757420 | 0.000308954 | 0.000298353 | 0.000000000 | 0.000000000 | 0.001603371 | 0.000031000 | 0.000891854 | 0.000151068 |\n",
       "| 9 | 0.003522334 | 0.000105216 | 0.000000000 | 0.001145864 | 0.000000000 | 0.020190782 | 0.011237570 | 0.000206309 | 0.000028000 | 0.000515823 | ...         | 0.000235445 | 0.000637410 | 0.000281648 | 0.000281675 | 0.000000000 | 0.000000000 | 0.001661687 | 0.000000000 | 0.001230606 | 0.000146975 |\n",
       "| 10 | 0.004984568 | 0.000000000 | 0.000000000 | 0.001608456 | 0.000000000 | 0.017786343 | 0.012351627 | 0.000359090 | 0.000049700 | 0.000730118 | ...         | 0.000417157 | 0.000675222 | 0.000168015 | 0.000403194 | 0.000000000 | 0.000000000 | 0.002514242 | 0.000060100 | 0.001690800 | 0.000142444 |\n",
       "| 11 | 0.002516160 | 0.000031300 | 0.000000000 | 0.001240799 | 0.000000000 | 0.019113140 | 0.010195979 | 0.000000000 | 0.000000000 | 0.000028600 | ...         | 0.000127604 | 0.000739641 | 0.000276132 | 0.000228511 | 0.000000000 | 0.000072000 | 0.001175130 | 0.000000000 | 0.000812222 | 0.000120914 |\n",
       "| 12 | 0.002025665 | 0.000000000 | 0.000000000 | 0.001652943 | 0.000000000 | 0.017704314 | 0.018068934 | 0.000000000 | 0.000000000 | 0.000042500 | ...         | 0.000063500 | 0.000765701 | 0.000361806 | 0.000277571 | 0.000000000 | 0.000114613 | 0.000700880 | 0.000000000 | 0.000498314 | 0.000092600 |\n",
       "| 13 | 0.001893397 | 0.000000000 | 0.000000000 | 0.001441242 | 0.000000000 | 0.021558078 | 0.014816133 | 0.000160445 | 0.000000000 | 0.000670157 | ...         | 0.000000000 | 0.000904309 | 0.000536933 | 0.000000000 | 0.000243387 | 0.000029700 | 0.000637861 | 0.000000000 | 0.000440043 | 0.000081300 |\n",
       "| 14 | 0.003391941 | 0.000073100 | 0.000000000 | 0.000702238 | 0.000000000 | 0.014000589 | 0.006757382 | 0.000191529 | 0.000000000 | 0.000000000 | ...         | 0.000256378 | 0.000640406 | 0.000140963 | 0.000309837 | 0.000000000 | 0.000037500 | 0.001488391 | 0.000034800 | 0.000993733 | 0.000129137 |\n",
       "| 15 | 0.002668096 | 0.000000000 | 0.000000000 | 0.000721540 | 0.000000000 | 0.014013916 | 0.012891520 | 0.000222743 | 0.000065400 | 0.000464993 | ...         | 0.000192285 | 0.000567612 | 0.000327098 | 0.000000000 | 0.000081800 | 0.001577768 | 0.001651526 | 0.000035000 | 0.000929985 | 0.000135980 |\n",
       "| 21 | 0.003922505 | 0.000144515 | 0.000000000 | 0.000265460 | 0.000000000 | 0.008383980 | 0.006287985 | 0.000000000 | 0.000098400 | 0.000000000 | ...         | 0.000314399 | 0.000619816 | 0.000298514 | 0.000000000 | 0.000245309 | 0.000329371 | 0.001928315 | 0.000075700 | 0.001254603 | 0.000139494 |\n",
       "| 22 | 0.005424795 | 0.000169238 | 0.000258005 | 0.000000000 | 0.000000000 | 0.013286151 | 0.006482171 | 0.000000000 | 0.000101462 | 0.000000000 | ...         | 0.000407544 | 0.000588452 | 0.000125678 | 0.000000000 | 0.000156795 | 0.000000000 | 0.002790552 | 0.000104305 | 0.001986027 | 0.000150506 |\n",
       "| 23 | 0.003141117 | 0.000100816 | 0.000053100 | 0.000292405 | 0.000000000 | 0.009675311 | 0.008801845 | 0.000000000 | 0.000028700 | 0.000000000 | ...         | 0.000234392 | 0.000853309 | 0.000352746 | 0.000000000 | 0.000170060 | 0.000126879 | 0.001471454 | 0.000029700 | 0.000950734 | 0.000175991 |\n",
       "| 24 | 0.003303506 | 0.000089100 | 0.000000000 | 0.000423420 | 0.000000000 | 0.013204058 | 0.012157699 | 0.000000000 | 0.000000000 | 0.000000000 | ...         | 0.000058000 | 0.001081238 | 0.000523180 | 0.000000000 | 0.000225384 | 0.000000000 | 0.000966637 | 0.000000000 | 0.000627816 | 0.000095800 |\n",
       "| 25 | 0.001476878 | 0.000000000 | 0.000097400 | 0.000168995 | 0.000000000 | 0.011418453 | 0.013469672 | 0.000228317 | 0.000000000 | 0.000574341 | ...         | 0.000000000 | 0.000793138 | 0.000323081 | 0.000000000 | 0.000044300 | 0.000581179 | 0.000632459 | 0.000000000 | 0.000298204 | 0.000034300 |\n",
       "| 36 | 0.006112067 | 0.000179692 | 0.000071500 | 0.001003474 | 0.000000000 | 0.012041684 | 0.006340129 | 0.000000000 | 0.000128355 | 0.000606645 | ...         | 0.000538227 | 0.000675064 | 0.000100217 | 0.000000000 | 0.000175547 | 0.000000000 | 0.003352514 | 0.000191569 | 0.002490439 | 0.000188530 |\n",
       "| 37 | 0.004958712 | 0.000146298 | 0.000068400 | 0.000398120 | 0.000367864 | 0.009581240 | 0.004706574 | 0.000000000 | 0.000039800 | 0.000000000 | ...         | 0.000327831 | 0.000621940 | 0.000076000 | 0.000000000 | 0.000225882 | 0.000176739 | 0.003042464 | 0.000050400 | 0.001870023 | 0.000186748 |\n",
       "| 38 | 0.004629602 | 0.000050500 | 0.000000000 | 0.001140173 | 0.000514742 | 0.013155838 | 0.007016447 | 0.000000000 | 0.000000000 | 0.000000000 | ...         | 0.000163835 | 0.000594132 | 0.000125921 | 0.000000000 | 0.000321222 | 0.000000000 | 0.002142522 | 0.000000000 | 0.001415819 | 0.000172528 |\n",
       "| 39 | 0.002419561 | 0.000000000 | 0.000083900 | 0.000888621 | 0.000000000 | 0.009803809 | 0.007582256 | 0.000000000 | 0.000000000 | 0.000000000 | ...         | 0.000043100 | 0.000531241 | 0.000290154 | 0.000000000 | 0.000292539 | 0.000109047 | 0.000999699 | 0.000000000 | 0.000502264 | 0.000042800 |\n",
       "| 40 | 0.004319682 | 0.000101475 | 0.000190248 | 0.000755830 | 0.000206883 | 0.013009434 | 0.008795111 | 0.000000000 | 0.000038200 | 0.000000000 | ...         | 0.000304626 | 0.000613825 | 0.000222833 | 0.000000000 | 0.000231627 | 0.000746668 | 0.002221682 | 0.000000000 | 0.001589533 | 0.000195319 |\n",
       "| 51 | 0.004812008 | 0.000137791 | 0.000207329 | 0.000686234 | 0.000000000 | 0.012971501 | 0.006485750 | 0.000000000 | 0.000037600 | 0.000000000 | ...         | 0.000358154 | 0.000694603 | 0.000152549 | 0.000000000 | 0.000186328 | 0.000065200 | 0.002636144 | 0.000000000 | 0.001820194 | 0.000168366 |\n",
       "| 52 | 0.003743815 | 0.000095400 | 0.000187663 | 0.000135220 | 0.000762932 | 0.011825442 | 0.006920881 | 0.000000000 | 0.000000000 | 0.000000000 | ...         | 0.000099700 | 0.000773831 | 0.000272727 | 0.000000000 | 0.000429803 | 0.000000000 | 0.001841935 | 0.000000000 | 0.001193443 | 0.000165247 |\n",
       "| 53 | 0.002465422 | 0.000000000 | 0.000130802 | 0.000355857 | 0.000405808 | 0.007758963 | 0.006381632 | 0.000000000 | 0.000000000 | 0.000000000 | ...         | 0.000113055 | 0.000505021 | 0.000176378 | 0.000000000 | 0.000495839 | 0.000927403 | 0.001101865 | 0.000000000 | 0.000707030 | 0.000082800 |\n",
       "| 54 | 0.003096777 | 0.000000000 | 0.000187929 | 0.000638955 | 0.000000000 | 0.010074325 | 0.007173546 | 0.000292918 | 0.000000000 | 0.000642875 | ...         | 0.000188864 | 0.000580156 | 0.000213929 | 0.000000000 | 0.000249739 | 0.000000000 | 0.001920786 | 0.000034100 | 0.001015272 | 0.000121553 |\n",
       "| 55 | 0.004164029 | 0.000084800 | 0.000098200 | 0.000340297 | 0.000000000 | 0.009024862 | 0.005163060 | 0.000000000 | 0.000070400 | 0.000000000 | ...         | 0.000344584 | 0.000533096 | 0.000229586 | 0.000000000 | 0.000436551 | 0.001658056 | 0.001968679 | 0.000045800 | 0.001292864 | 0.000128311 |\n",
       "\n"
      ],
      "text/plain": [
       "   X105.07_2.767 X119.049_2.765 X128.018_0.344 X136.062_0.301 X136.097_0.551\n",
       "1  0.001681762   0.000000000    0.000000000    0.001018126    0.000000000   \n",
       "2  0.001668227   0.000020400    0.000000000    0.000295572    0.000000000   \n",
       "3  0.002195508   0.000000000    0.000000000    0.000332938    0.000000000   \n",
       "4  0.003006615   0.000063800    0.000000000    0.001047760    0.000000000   \n",
       "5  0.002858430   0.000000000    0.000000000    0.000740688    0.000000000   \n",
       "6  0.003596194   0.000107639    0.000000000    0.000763763    0.000000000   \n",
       "7  0.004184102   0.000000000    0.000000000    0.000943397    0.000000000   \n",
       "8  0.003180510   0.000081300    0.000000000    0.001072193    0.000000000   \n",
       "9  0.003522334   0.000105216    0.000000000    0.001145864    0.000000000   \n",
       "10 0.004984568   0.000000000    0.000000000    0.001608456    0.000000000   \n",
       "11 0.002516160   0.000031300    0.000000000    0.001240799    0.000000000   \n",
       "12 0.002025665   0.000000000    0.000000000    0.001652943    0.000000000   \n",
       "13 0.001893397   0.000000000    0.000000000    0.001441242    0.000000000   \n",
       "14 0.003391941   0.000073100    0.000000000    0.000702238    0.000000000   \n",
       "15 0.002668096   0.000000000    0.000000000    0.000721540    0.000000000   \n",
       "21 0.003922505   0.000144515    0.000000000    0.000265460    0.000000000   \n",
       "22 0.005424795   0.000169238    0.000258005    0.000000000    0.000000000   \n",
       "23 0.003141117   0.000100816    0.000053100    0.000292405    0.000000000   \n",
       "24 0.003303506   0.000089100    0.000000000    0.000423420    0.000000000   \n",
       "25 0.001476878   0.000000000    0.000097400    0.000168995    0.000000000   \n",
       "36 0.006112067   0.000179692    0.000071500    0.001003474    0.000000000   \n",
       "37 0.004958712   0.000146298    0.000068400    0.000398120    0.000367864   \n",
       "38 0.004629602   0.000050500    0.000000000    0.001140173    0.000514742   \n",
       "39 0.002419561   0.000000000    0.000083900    0.000888621    0.000000000   \n",
       "40 0.004319682   0.000101475    0.000190248    0.000755830    0.000206883   \n",
       "51 0.004812008   0.000137791    0.000207329    0.000686234    0.000000000   \n",
       "52 0.003743815   0.000095400    0.000187663    0.000135220    0.000762932   \n",
       "53 0.002465422   0.000000000    0.000130802    0.000355857    0.000405808   \n",
       "54 0.003096777   0.000000000    0.000187929    0.000638955    0.000000000   \n",
       "55 0.004164029   0.000084800    0.000098200    0.000340297    0.000000000   \n",
       "   X137.046_0.31 X137.046_0.42 X203.007_0.309 X249.112_2.768 X251.037_0.323 ...\n",
       "1  0.016982498   0.015622250   0.000289195    0.000000000    0.000469904    ...\n",
       "2  0.005836288   0.007990455   0.000021600    0.000000000    0.000000000    ...\n",
       "3  0.011181699   0.010145193   0.000217687    0.000000000    0.000233476    ...\n",
       "4  0.013286807   0.020423720   0.000315510    0.000000000    0.000569435    ...\n",
       "5  0.015404920   0.010467000   0.000335517    0.000038200    0.000365128    ...\n",
       "6  0.012398305   0.009521351   0.000207325    0.000036600    0.000235976    ...\n",
       "7  0.014920666   0.015749592   0.000251807    0.000073200    0.000418410    ...\n",
       "8  0.015017254   0.010721926   0.000180750    0.000030800    0.000459043    ...\n",
       "9  0.020190782   0.011237570   0.000206309    0.000028000    0.000515823    ...\n",
       "10 0.017786343   0.012351627   0.000359090    0.000049700    0.000730118    ...\n",
       "11 0.019113140   0.010195979   0.000000000    0.000000000    0.000028600    ...\n",
       "12 0.017704314   0.018068934   0.000000000    0.000000000    0.000042500    ...\n",
       "13 0.021558078   0.014816133   0.000160445    0.000000000    0.000670157    ...\n",
       "14 0.014000589   0.006757382   0.000191529    0.000000000    0.000000000    ...\n",
       "15 0.014013916   0.012891520   0.000222743    0.000065400    0.000464993    ...\n",
       "21 0.008383980   0.006287985   0.000000000    0.000098400    0.000000000    ...\n",
       "22 0.013286151   0.006482171   0.000000000    0.000101462    0.000000000    ...\n",
       "23 0.009675311   0.008801845   0.000000000    0.000028700    0.000000000    ...\n",
       "24 0.013204058   0.012157699   0.000000000    0.000000000    0.000000000    ...\n",
       "25 0.011418453   0.013469672   0.000228317    0.000000000    0.000574341    ...\n",
       "36 0.012041684   0.006340129   0.000000000    0.000128355    0.000606645    ...\n",
       "37 0.009581240   0.004706574   0.000000000    0.000039800    0.000000000    ...\n",
       "38 0.013155838   0.007016447   0.000000000    0.000000000    0.000000000    ...\n",
       "39 0.009803809   0.007582256   0.000000000    0.000000000    0.000000000    ...\n",
       "40 0.013009434   0.008795111   0.000000000    0.000038200    0.000000000    ...\n",
       "51 0.012971501   0.006485750   0.000000000    0.000037600    0.000000000    ...\n",
       "52 0.011825442   0.006920881   0.000000000    0.000000000    0.000000000    ...\n",
       "53 0.007758963   0.006381632   0.000000000    0.000000000    0.000000000    ...\n",
       "54 0.010074325   0.007173546   0.000292918    0.000000000    0.000642875    ...\n",
       "55 0.009024862   0.005163060   0.000000000    0.000070400    0.000000000    ...\n",
       "   X599.241_2.765 X604.362_2.948 X620.356_2.913 X682.363_3.329 X682.364_3.313\n",
       "1  0.000000000    0.001281931    0.000659514    0.000320160    0.000000000   \n",
       "2  0.000050000    0.000671298    0.000483435    0.000179208    0.000000000   \n",
       "3  0.000082900    0.000706708    0.000317234    0.000099800    0.000000000   \n",
       "4  0.000099100    0.000930076    0.000245202    0.000234970    0.000000000   \n",
       "5  0.000178807    0.000744165    0.000302164    0.000251297    0.000000000   \n",
       "6  0.000280413    0.000626765    0.000345920    0.000112422    0.000000000   \n",
       "7  0.000357279    0.000994711    0.000442094    0.000321391    0.000000000   \n",
       "8  0.000230648    0.000757420    0.000308954    0.000298353    0.000000000   \n",
       "9  0.000235445    0.000637410    0.000281648    0.000281675    0.000000000   \n",
       "10 0.000417157    0.000675222    0.000168015    0.000403194    0.000000000   \n",
       "11 0.000127604    0.000739641    0.000276132    0.000228511    0.000000000   \n",
       "12 0.000063500    0.000765701    0.000361806    0.000277571    0.000000000   \n",
       "13 0.000000000    0.000904309    0.000536933    0.000000000    0.000243387   \n",
       "14 0.000256378    0.000640406    0.000140963    0.000309837    0.000000000   \n",
       "15 0.000192285    0.000567612    0.000327098    0.000000000    0.000081800   \n",
       "21 0.000314399    0.000619816    0.000298514    0.000000000    0.000245309   \n",
       "22 0.000407544    0.000588452    0.000125678    0.000000000    0.000156795   \n",
       "23 0.000234392    0.000853309    0.000352746    0.000000000    0.000170060   \n",
       "24 0.000058000    0.001081238    0.000523180    0.000000000    0.000225384   \n",
       "25 0.000000000    0.000793138    0.000323081    0.000000000    0.000044300   \n",
       "36 0.000538227    0.000675064    0.000100217    0.000000000    0.000175547   \n",
       "37 0.000327831    0.000621940    0.000076000    0.000000000    0.000225882   \n",
       "38 0.000163835    0.000594132    0.000125921    0.000000000    0.000321222   \n",
       "39 0.000043100    0.000531241    0.000290154    0.000000000    0.000292539   \n",
       "40 0.000304626    0.000613825    0.000222833    0.000000000    0.000231627   \n",
       "51 0.000358154    0.000694603    0.000152549    0.000000000    0.000186328   \n",
       "52 0.000099700    0.000773831    0.000272727    0.000000000    0.000429803   \n",
       "53 0.000113055    0.000505021    0.000176378    0.000000000    0.000495839   \n",
       "54 0.000188864    0.000580156    0.000213929    0.000000000    0.000249739   \n",
       "55 0.000344584    0.000533096    0.000229586    0.000000000    0.000436551   \n",
       "   X764.524_3.729 X790.38_2.768 X792.329_2.764 X795.335_2.768 X811.309_2.773\n",
       "1  0.000000000    0.000370969   0.000000000    0.000245626    0.000038000   \n",
       "2  0.000000000    0.000586134   0.000000000    0.000211682    0.000020900   \n",
       "3  0.000000000    0.001133874   0.000000000    0.000741259    0.000095300   \n",
       "4  0.000000000    0.001150258   0.000000000    0.000713691    0.000174109   \n",
       "5  0.000000000    0.001161454   0.000040900    0.000765030    0.000136971   \n",
       "6  0.000000000    0.001883720   0.000085300    0.001150782    0.000161828   \n",
       "7  0.000000000    0.002245995   0.000039900    0.001480225    0.000288184   \n",
       "8  0.000000000    0.001603371   0.000031000    0.000891854    0.000151068   \n",
       "9  0.000000000    0.001661687   0.000000000    0.001230606    0.000146975   \n",
       "10 0.000000000    0.002514242   0.000060100    0.001690800    0.000142444   \n",
       "11 0.000072000    0.001175130   0.000000000    0.000812222    0.000120914   \n",
       "12 0.000114613    0.000700880   0.000000000    0.000498314    0.000092600   \n",
       "13 0.000029700    0.000637861   0.000000000    0.000440043    0.000081300   \n",
       "14 0.000037500    0.001488391   0.000034800    0.000993733    0.000129137   \n",
       "15 0.001577768    0.001651526   0.000035000    0.000929985    0.000135980   \n",
       "21 0.000329371    0.001928315   0.000075700    0.001254603    0.000139494   \n",
       "22 0.000000000    0.002790552   0.000104305    0.001986027    0.000150506   \n",
       "23 0.000126879    0.001471454   0.000029700    0.000950734    0.000175991   \n",
       "24 0.000000000    0.000966637   0.000000000    0.000627816    0.000095800   \n",
       "25 0.000581179    0.000632459   0.000000000    0.000298204    0.000034300   \n",
       "36 0.000000000    0.003352514   0.000191569    0.002490439    0.000188530   \n",
       "37 0.000176739    0.003042464   0.000050400    0.001870023    0.000186748   \n",
       "38 0.000000000    0.002142522   0.000000000    0.001415819    0.000172528   \n",
       "39 0.000109047    0.000999699   0.000000000    0.000502264    0.000042800   \n",
       "40 0.000746668    0.002221682   0.000000000    0.001589533    0.000195319   \n",
       "51 0.000065200    0.002636144   0.000000000    0.001820194    0.000168366   \n",
       "52 0.000000000    0.001841935   0.000000000    0.001193443    0.000165247   \n",
       "53 0.000927403    0.001101865   0.000000000    0.000707030    0.000082800   \n",
       "54 0.000000000    0.001920786   0.000034100    0.001015272    0.000121553   \n",
       "55 0.001658056    0.001968679   0.000045800    0.001292864    0.000128311   "
      ]
     },
     "metadata": {},
     "output_type": "display_data"
    },
    {
     "data": {
      "text/html": [
       "<table>\n",
       "<thead><tr><th scope=col>filename</th><th scope=col>MouseID</th><th scope=col>Treatmentgroup</th><th scope=col>DPI</th><th scope=col>organ</th><th scope=col>well_position</th><th scope=col>plate</th><th scope=col>X105.07_2.767</th><th scope=col>X119.049_2.765</th><th scope=col>X128.018_0.344</th><th scope=col>...</th><th scope=col>X599.241_2.765</th><th scope=col>X604.362_2.948</th><th scope=col>X620.356_2.913</th><th scope=col>X682.363_3.329</th><th scope=col>X682.364_3.313</th><th scope=col>X764.524_3.729</th><th scope=col>X790.38_2.768</th><th scope=col>X792.329_2.764</th><th scope=col>X795.335_2.768</th><th scope=col>X811.309_2.773</th></tr></thead>\n",
       "<tbody>\n",
       "\t<tr><td>X511_Group1C_142dpi_LV_bottom_161_G_A1_P132.mzXML</td><td>511                                              </td><td>Group1C                                          </td><td>142dpi                                           </td><td>LV_bottom                                        </td><td>A1                                               </td><td>P132                                             </td><td>0.001681762                                      </td><td>0.000000000                                      </td><td>0                                                </td><td>...                                              </td><td>0.000000000                                      </td><td>0.001281931                                      </td><td>0.000659514                                      </td><td>0.000320160                                      </td><td>0                                                </td><td>0                                                </td><td>0.000370969                                      </td><td>0.00e+00                                         </td><td>0.000245626                                      </td><td>0.000038000                                      </td></tr>\n",
       "\t<tr><td>X512_Group1C_142dpi_LV_bottom_162_G_A2_P132.mzXML</td><td>512                                              </td><td>Group1C                                          </td><td>142dpi                                           </td><td>LV_bottom                                        </td><td>A2                                               </td><td>P132                                             </td><td>0.001668227                                      </td><td>0.000020400                                      </td><td>0                                                </td><td>...                                              </td><td>0.000050000                                      </td><td>0.000671298                                      </td><td>0.000483435                                      </td><td>0.000179208                                      </td><td>0                                                </td><td>0                                                </td><td>0.000586134                                      </td><td>0.00e+00                                         </td><td>0.000211682                                      </td><td>0.000020900                                      </td></tr>\n",
       "\t<tr><td>X513_Group1C_142dpi_LV_bottom_163_G_A3_P132.mzXML</td><td>513                                              </td><td>Group1C                                          </td><td>142dpi                                           </td><td>LV_bottom                                        </td><td>A3                                               </td><td>P132                                             </td><td>0.002195508                                      </td><td>0.000000000                                      </td><td>0                                                </td><td>...                                              </td><td>0.000082900                                      </td><td>0.000706708                                      </td><td>0.000317234                                      </td><td>0.000099800                                      </td><td>0                                                </td><td>0                                                </td><td>0.001133874                                      </td><td>0.00e+00                                         </td><td>0.000741259                                      </td><td>0.000095300                                      </td></tr>\n",
       "\t<tr><td>X514_Group1C_142dpi_LV_bottom_164_G_A4_P132.mzXML</td><td>514                                              </td><td>Group1C                                          </td><td>142dpi                                           </td><td>LV_bottom                                        </td><td>A4                                               </td><td>P132                                             </td><td>0.003006615                                      </td><td>0.000063800                                      </td><td>0                                                </td><td>...                                              </td><td>0.000099100                                      </td><td>0.000930076                                      </td><td>0.000245202                                      </td><td>0.000234970                                      </td><td>0                                                </td><td>0                                                </td><td>0.001150258                                      </td><td>0.00e+00                                         </td><td>0.000713691                                      </td><td>0.000174109                                      </td></tr>\n",
       "\t<tr><td>X515_Group1C_142dpi_LV_bottom_165_G_A5_P132.mzXML</td><td>515                                              </td><td>Group1C                                          </td><td>142dpi                                           </td><td>LV_bottom                                        </td><td>A5                                               </td><td>P132                                             </td><td>0.002858430                                      </td><td>0.000000000                                      </td><td>0                                                </td><td>...                                              </td><td>0.000178807                                      </td><td>0.000744165                                      </td><td>0.000302164                                      </td><td>0.000251297                                      </td><td>0                                                </td><td>0                                                </td><td>0.001161454                                      </td><td>4.09e-05                                         </td><td>0.000765030                                      </td><td>0.000136971                                      </td></tr>\n",
       "\t<tr><td>X531_Group1C_142dpi_LV_bottom_166_G_A6_P132.mzXML</td><td>531                                              </td><td>Group1C                                          </td><td>142dpi                                           </td><td>LV_bottom                                        </td><td>A6                                               </td><td>P132                                             </td><td>0.003596194                                      </td><td>0.000107639                                      </td><td>0                                                </td><td>...                                              </td><td>0.000280413                                      </td><td>0.000626765                                      </td><td>0.000345920                                      </td><td>0.000112422                                      </td><td>0                                                </td><td>0                                                </td><td>0.001883720                                      </td><td>8.53e-05                                         </td><td>0.001150782                                      </td><td>0.000161828                                      </td></tr>\n",
       "</tbody>\n",
       "</table>\n"
      ],
      "text/latex": [
       "\\begin{tabular}{r|llllllllllllllllllllllllllllllllllllllllllllllllllllllllllllll}\n",
       " filename & MouseID & Treatmentgroup & DPI & organ & well\\_position & plate & X105.07\\_2.767 & X119.049\\_2.765 & X128.018\\_0.344 & ... & X599.241\\_2.765 & X604.362\\_2.948 & X620.356\\_2.913 & X682.363\\_3.329 & X682.364\\_3.313 & X764.524\\_3.729 & X790.38\\_2.768 & X792.329\\_2.764 & X795.335\\_2.768 & X811.309\\_2.773\\\\\n",
       "\\hline\n",
       "\t X511\\_Group1C\\_142dpi\\_LV\\_bottom\\_161\\_G\\_A1\\_P132.mzXML & 511                                                               & Group1C                                                           & 142dpi                                                            & LV\\_bottom                                                       & A1                                                                & P132                                                              & 0.001681762                                                       & 0.000000000                                                       & 0                                                                 & ...                                                               & 0.000000000                                                       & 0.001281931                                                       & 0.000659514                                                       & 0.000320160                                                       & 0                                                                 & 0                                                                 & 0.000370969                                                       & 0.00e+00                                                          & 0.000245626                                                       & 0.000038000                                                      \\\\\n",
       "\t X512\\_Group1C\\_142dpi\\_LV\\_bottom\\_162\\_G\\_A2\\_P132.mzXML & 512                                                               & Group1C                                                           & 142dpi                                                            & LV\\_bottom                                                       & A2                                                                & P132                                                              & 0.001668227                                                       & 0.000020400                                                       & 0                                                                 & ...                                                               & 0.000050000                                                       & 0.000671298                                                       & 0.000483435                                                       & 0.000179208                                                       & 0                                                                 & 0                                                                 & 0.000586134                                                       & 0.00e+00                                                          & 0.000211682                                                       & 0.000020900                                                      \\\\\n",
       "\t X513\\_Group1C\\_142dpi\\_LV\\_bottom\\_163\\_G\\_A3\\_P132.mzXML & 513                                                               & Group1C                                                           & 142dpi                                                            & LV\\_bottom                                                       & A3                                                                & P132                                                              & 0.002195508                                                       & 0.000000000                                                       & 0                                                                 & ...                                                               & 0.000082900                                                       & 0.000706708                                                       & 0.000317234                                                       & 0.000099800                                                       & 0                                                                 & 0                                                                 & 0.001133874                                                       & 0.00e+00                                                          & 0.000741259                                                       & 0.000095300                                                      \\\\\n",
       "\t X514\\_Group1C\\_142dpi\\_LV\\_bottom\\_164\\_G\\_A4\\_P132.mzXML & 514                                                               & Group1C                                                           & 142dpi                                                            & LV\\_bottom                                                       & A4                                                                & P132                                                              & 0.003006615                                                       & 0.000063800                                                       & 0                                                                 & ...                                                               & 0.000099100                                                       & 0.000930076                                                       & 0.000245202                                                       & 0.000234970                                                       & 0                                                                 & 0                                                                 & 0.001150258                                                       & 0.00e+00                                                          & 0.000713691                                                       & 0.000174109                                                      \\\\\n",
       "\t X515\\_Group1C\\_142dpi\\_LV\\_bottom\\_165\\_G\\_A5\\_P132.mzXML & 515                                                               & Group1C                                                           & 142dpi                                                            & LV\\_bottom                                                       & A5                                                                & P132                                                              & 0.002858430                                                       & 0.000000000                                                       & 0                                                                 & ...                                                               & 0.000178807                                                       & 0.000744165                                                       & 0.000302164                                                       & 0.000251297                                                       & 0                                                                 & 0                                                                 & 0.001161454                                                       & 4.09e-05                                                          & 0.000765030                                                       & 0.000136971                                                      \\\\\n",
       "\t X531\\_Group1C\\_142dpi\\_LV\\_bottom\\_166\\_G\\_A6\\_P132.mzXML & 531                                                               & Group1C                                                           & 142dpi                                                            & LV\\_bottom                                                       & A6                                                                & P132                                                              & 0.003596194                                                       & 0.000107639                                                       & 0                                                                 & ...                                                               & 0.000280413                                                       & 0.000626765                                                       & 0.000345920                                                       & 0.000112422                                                       & 0                                                                 & 0                                                                 & 0.001883720                                                       & 8.53e-05                                                          & 0.001150782                                                       & 0.000161828                                                      \\\\\n",
       "\\end{tabular}\n"
      ],
      "text/markdown": [
       "\n",
       "| filename | MouseID | Treatmentgroup | DPI | organ | well_position | plate | X105.07_2.767 | X119.049_2.765 | X128.018_0.344 | ... | X599.241_2.765 | X604.362_2.948 | X620.356_2.913 | X682.363_3.329 | X682.364_3.313 | X764.524_3.729 | X790.38_2.768 | X792.329_2.764 | X795.335_2.768 | X811.309_2.773 |\n",
       "|---|---|---|---|---|---|---|---|---|---|---|---|---|---|---|---|---|---|---|---|---|\n",
       "| X511_Group1C_142dpi_LV_bottom_161_G_A1_P132.mzXML | 511                                               | Group1C                                           | 142dpi                                            | LV_bottom                                         | A1                                                | P132                                              | 0.001681762                                       | 0.000000000                                       | 0                                                 | ...                                               | 0.000000000                                       | 0.001281931                                       | 0.000659514                                       | 0.000320160                                       | 0                                                 | 0                                                 | 0.000370969                                       | 0.00e+00                                          | 0.000245626                                       | 0.000038000                                       |\n",
       "| X512_Group1C_142dpi_LV_bottom_162_G_A2_P132.mzXML | 512                                               | Group1C                                           | 142dpi                                            | LV_bottom                                         | A2                                                | P132                                              | 0.001668227                                       | 0.000020400                                       | 0                                                 | ...                                               | 0.000050000                                       | 0.000671298                                       | 0.000483435                                       | 0.000179208                                       | 0                                                 | 0                                                 | 0.000586134                                       | 0.00e+00                                          | 0.000211682                                       | 0.000020900                                       |\n",
       "| X513_Group1C_142dpi_LV_bottom_163_G_A3_P132.mzXML | 513                                               | Group1C                                           | 142dpi                                            | LV_bottom                                         | A3                                                | P132                                              | 0.002195508                                       | 0.000000000                                       | 0                                                 | ...                                               | 0.000082900                                       | 0.000706708                                       | 0.000317234                                       | 0.000099800                                       | 0                                                 | 0                                                 | 0.001133874                                       | 0.00e+00                                          | 0.000741259                                       | 0.000095300                                       |\n",
       "| X514_Group1C_142dpi_LV_bottom_164_G_A4_P132.mzXML | 514                                               | Group1C                                           | 142dpi                                            | LV_bottom                                         | A4                                                | P132                                              | 0.003006615                                       | 0.000063800                                       | 0                                                 | ...                                               | 0.000099100                                       | 0.000930076                                       | 0.000245202                                       | 0.000234970                                       | 0                                                 | 0                                                 | 0.001150258                                       | 0.00e+00                                          | 0.000713691                                       | 0.000174109                                       |\n",
       "| X515_Group1C_142dpi_LV_bottom_165_G_A5_P132.mzXML | 515                                               | Group1C                                           | 142dpi                                            | LV_bottom                                         | A5                                                | P132                                              | 0.002858430                                       | 0.000000000                                       | 0                                                 | ...                                               | 0.000178807                                       | 0.000744165                                       | 0.000302164                                       | 0.000251297                                       | 0                                                 | 0                                                 | 0.001161454                                       | 4.09e-05                                          | 0.000765030                                       | 0.000136971                                       |\n",
       "| X531_Group1C_142dpi_LV_bottom_166_G_A6_P132.mzXML | 531                                               | Group1C                                           | 142dpi                                            | LV_bottom                                         | A6                                                | P132                                              | 0.003596194                                       | 0.000107639                                       | 0                                                 | ...                                               | 0.000280413                                       | 0.000626765                                       | 0.000345920                                       | 0.000112422                                       | 0                                                 | 0                                                 | 0.001883720                                       | 8.53e-05                                          | 0.001150782                                       | 0.000161828                                       |\n",
       "\n"
      ],
      "text/plain": [
       "  filename                                          MouseID Treatmentgroup\n",
       "1 X511_Group1C_142dpi_LV_bottom_161_G_A1_P132.mzXML 511     Group1C       \n",
       "2 X512_Group1C_142dpi_LV_bottom_162_G_A2_P132.mzXML 512     Group1C       \n",
       "3 X513_Group1C_142dpi_LV_bottom_163_G_A3_P132.mzXML 513     Group1C       \n",
       "4 X514_Group1C_142dpi_LV_bottom_164_G_A4_P132.mzXML 514     Group1C       \n",
       "5 X515_Group1C_142dpi_LV_bottom_165_G_A5_P132.mzXML 515     Group1C       \n",
       "6 X531_Group1C_142dpi_LV_bottom_166_G_A6_P132.mzXML 531     Group1C       \n",
       "  DPI    organ     well_position plate X105.07_2.767 X119.049_2.765\n",
       "1 142dpi LV_bottom A1            P132  0.001681762   0.000000000   \n",
       "2 142dpi LV_bottom A2            P132  0.001668227   0.000020400   \n",
       "3 142dpi LV_bottom A3            P132  0.002195508   0.000000000   \n",
       "4 142dpi LV_bottom A4            P132  0.003006615   0.000063800   \n",
       "5 142dpi LV_bottom A5            P132  0.002858430   0.000000000   \n",
       "6 142dpi LV_bottom A6            P132  0.003596194   0.000107639   \n",
       "  X128.018_0.344 ... X599.241_2.765 X604.362_2.948 X620.356_2.913\n",
       "1 0              ... 0.000000000    0.001281931    0.000659514   \n",
       "2 0              ... 0.000050000    0.000671298    0.000483435   \n",
       "3 0              ... 0.000082900    0.000706708    0.000317234   \n",
       "4 0              ... 0.000099100    0.000930076    0.000245202   \n",
       "5 0              ... 0.000178807    0.000744165    0.000302164   \n",
       "6 0              ... 0.000280413    0.000626765    0.000345920   \n",
       "  X682.363_3.329 X682.364_3.313 X764.524_3.729 X790.38_2.768 X792.329_2.764\n",
       "1 0.000320160    0              0              0.000370969   0.00e+00      \n",
       "2 0.000179208    0              0              0.000586134   0.00e+00      \n",
       "3 0.000099800    0              0              0.001133874   0.00e+00      \n",
       "4 0.000234970    0              0              0.001150258   0.00e+00      \n",
       "5 0.000251297    0              0              0.001161454   4.09e-05      \n",
       "6 0.000112422    0              0              0.001883720   8.53e-05      \n",
       "  X795.335_2.768 X811.309_2.773\n",
       "1 0.000245626    0.000038000   \n",
       "2 0.000211682    0.000020900   \n",
       "3 0.000741259    0.000095300   \n",
       "4 0.000713691    0.000174109   \n",
       "5 0.000765030    0.000136971   \n",
       "6 0.001150782    0.000161828   "
      ]
     },
     "metadata": {},
     "output_type": "display_data"
    },
    {
     "data": {
      "text/html": [
       "<ol class=list-inline>\n",
       "\t<li>30</li>\n",
       "\t<li>62</li>\n",
       "</ol>\n"
      ],
      "text/latex": [
       "\\begin{enumerate*}\n",
       "\\item 30\n",
       "\\item 62\n",
       "\\end{enumerate*}\n"
      ],
      "text/markdown": [
       "1. 30\n",
       "2. 62\n",
       "\n",
       "\n"
      ],
      "text/plain": [
       "[1] 30 62"
      ]
     },
     "metadata": {},
     "output_type": "display_data"
    },
    {
     "data": {
      "text/html": [
       "<ol class=list-inline>\n",
       "\t<li>30</li>\n",
       "\t<li>55</li>\n",
       "</ol>\n"
      ],
      "text/latex": [
       "\\begin{enumerate*}\n",
       "\\item 30\n",
       "\\item 55\n",
       "\\end{enumerate*}\n"
      ],
      "text/markdown": [
       "1. 30\n",
       "2. 55\n",
       "\n",
       "\n"
      ],
      "text/plain": [
       "[1] 30 55"
      ]
     },
     "metadata": {},
     "output_type": "display_data"
    },
    {
     "data": {
      "text/html": [
       "<ol class=list-inline>\n",
       "\t<li>30</li>\n",
       "\t<li>55</li>\n",
       "</ol>\n"
      ],
      "text/latex": [
       "\\begin{enumerate*}\n",
       "\\item 30\n",
       "\\item 55\n",
       "\\end{enumerate*}\n"
      ],
      "text/markdown": [
       "1. 30\n",
       "2. 55\n",
       "\n",
       "\n"
      ],
      "text/plain": [
       "[1] 30 55"
      ]
     },
     "metadata": {},
     "output_type": "display_data"
    },
    {
     "data": {
      "text/html": [
       "<ol class=list-inline>\n",
       "\t<li>30</li>\n",
       "\t<li>62</li>\n",
       "</ol>\n"
      ],
      "text/latex": [
       "\\begin{enumerate*}\n",
       "\\item 30\n",
       "\\item 62\n",
       "\\end{enumerate*}\n"
      ],
      "text/markdown": [
       "1. 30\n",
       "2. 62\n",
       "\n",
       "\n"
      ],
      "text/plain": [
       "[1] 30 62"
      ]
     },
     "metadata": {},
     "output_type": "display_data"
    }
   ],
   "source": [
    "noMeta<-features_pos[,8:62]\n",
    "head(noMeta)\n",
    "not_zero<-which(colSums(noMeta) != 0)\n",
    "head(not_zero)\n",
    "nonzero <- noMeta[, not_zero] # all the non-zero columns\n",
    "nonzero\n",
    "#add back metadata\n",
    "nonzero_wMeta<-cbind(features_pos[,1:7], nonzero)\n",
    "head(nonzero_wMeta)\n",
    "dim(features_pos)\n",
    "dim(noMeta)\n",
    "dim(nonzero)\n",
    "dim(nonzero_wMeta)"
   ]
  },
  {
   "cell_type": "code",
   "execution_count": 11,
   "metadata": {
    "scrolled": true
   },
   "outputs": [
    {
     "name": "stderr",
     "output_type": "stream",
     "text": [
      "Warning message in wilcox.test.default(x = c(0, 2.04e-05, 0, 6.38e-05, 0, 0.000107639, :\n",
      "\"cannot compute exact p-value with ties\"Warning message in wilcox.test.default(x = c(0, 0, 0, 0, 0, 0, 0, 0, 0, 0, 0, 0, :\n",
      "\"cannot compute exact p-value with ties\"Warning message in wilcox.test.default(x = c(0, 0, 0, 0, 0, 0, 0, 0, 0, 0, 0, 0, :\n",
      "\"cannot compute exact p-value with ties\"Warning message in wilcox.test.default(x = c(0.000289195, 2.16e-05, 0.000217687, :\n",
      "\"cannot compute exact p-value with ties\"Warning message in wilcox.test.default(x = c(0, 0, 0, 0, 3.82e-05, 3.66e-05, 7.32e-05, :\n",
      "\"cannot compute exact p-value with ties\"Warning message in wilcox.test.default(x = c(0.000469904, 0, 0.000233476, 0.000569435, :\n",
      "\"cannot compute exact p-value with ties\"Warning message in wilcox.test.default(x = c(0.000783173, 0.001102132, 0.000964264, :\n",
      "\"cannot compute exact p-value with ties\"Warning message in wilcox.test.default(x = c(0.000335882, 0.000240339, 0.000505689, :\n",
      "\"cannot compute exact p-value with ties\"Warning message in wilcox.test.default(x = c(0.000403325, 0.000247302, 0.000294236, :\n",
      "\"cannot compute exact p-value with ties\"Warning message in wilcox.test.default(x = c(0.000365461, 4.09e-05, 0.000253374, :\n",
      "\"cannot compute exact p-value with ties\"Warning message in wilcox.test.default(x = c(0.000213246, 5.46e-05, 0.000146106, :\n",
      "\"cannot compute exact p-value with ties\"Warning message in wilcox.test.default(x = c(0, 0, 0, 0, 0, 0, 0, 0, 0, 0, 0, 0, :\n",
      "\"cannot compute exact p-value with ties\"Warning message in wilcox.test.default(x = c(0.000299024, 0.000113403, 6.65e-05, :\n",
      "\"cannot compute exact p-value with ties\"Warning message in wilcox.test.default(x = c(0, 0, 0, 0, 0, 0, 0, 2.98e-05, 0, 0, :\n",
      "\"cannot compute exact p-value with ties\"Warning message in wilcox.test.default(x = c(0.000157225, 2.96e-05, 0.00013103, :\n",
      "\"cannot compute exact p-value with ties\"Warning message in wilcox.test.default(x = c(0, 1.89e-05, 7.36e-05, 0, 3.46e-05, :\n",
      "\"cannot compute exact p-value with ties\"Warning message in wilcox.test.default(x = c(0, 0, 3.26e-05, 0, 3.48e-05, 0, 3.07e-05, :\n",
      "\"cannot compute exact p-value with ties\"Warning message in wilcox.test.default(x = c(4.78e-05, 0, 4.14e-05, 3.38e-05, 4.07e-05, :\n",
      "\"cannot compute exact p-value with ties\"Warning message in wilcox.test.default(x = c(4.54e-05, 0, 4.32e-05, 9.5e-05, 4.27e-05, :\n",
      "\"cannot compute exact p-value with ties\"Warning message in wilcox.test.default(x = c(0, 0, 3.16e-05, 0, 0, 0, 4.01e-05, :\n",
      "\"cannot compute exact p-value with ties\"Warning message in wilcox.test.default(x = c(0.000141141, 5.99e-05, 0.000104218, :\n",
      "\"cannot compute exact p-value with ties\"Warning message in wilcox.test.default(x = c(6.8e-05, 0, 5.37e-05, 3.98e-05, 3.25e-05, :\n",
      "\"cannot compute exact p-value with ties\"Warning message in wilcox.test.default(x = c(0, 0, 3.91e-05, 0.000110453, 8.42e-05, :\n",
      "\"cannot compute exact p-value with ties\"Warning message in wilcox.test.default(x = c(3.07e-05, 0, 0, 0, 2.93e-05, 0, 0, :\n",
      "\"cannot compute exact p-value with ties\"Warning message in wilcox.test.default(x = c(0, 0, 3.35e-05, 0, 3.55e-05, 0, 0, :\n",
      "\"cannot compute exact p-value with ties\"Warning message in wilcox.test.default(x = c(0, 0, 0, 0, 0, 0, 0, 0, 0, 0, 0, 0, :\n",
      "\"cannot compute exact p-value with ties\"Warning message in wilcox.test.default(x = c(0.000136364, 2.92e-05, 6.59e-05, 0.000139283, :\n",
      "\"cannot compute exact p-value with ties\"Warning message in wilcox.test.default(x = c(9.86e-05, 2.26e-05, 0, 0.000106894, :\n",
      "\"cannot compute exact p-value with ties\"Warning message in wilcox.test.default(x = c(0.000968662, 0.000245307, 0.000706708, :\n",
      "\"cannot compute exact p-value with ties\"Warning message in wilcox.test.default(x = c(0.000952174, 0.000280543, 0.000747541, :\n",
      "\"cannot compute exact p-value with ties\"Warning message in wilcox.test.default(x = c(0, 0, 2.57e-05, 0, 3.68e-05, 0, 0, :\n",
      "\"cannot compute exact p-value with ties\"Warning message in wilcox.test.default(x = c(0, 0, 0, 0, 0.000486837, 0, 0, 0.000737747, :\n",
      "\"cannot compute exact p-value with ties\"Warning message in wilcox.test.default(x = c(0.010511012, 0.005711046, 0.008072181, :\n",
      "\"cannot compute exact p-value with ties\"Warning message in wilcox.test.default(x = c(0, 0, 0, 0, 0, 0, 0, 0, 0, 0, 0, 0.009601653, :\n",
      "\"cannot compute exact p-value with ties\"Warning message in wilcox.test.default(x = c(0, 5e-05, 8.29e-05, 9.91e-05, 0.000178807, :\n",
      "\"cannot compute exact p-value with ties\"Warning message in wilcox.test.default(x = c(0.00032016, 0.000179208, 9.98e-05, :\n",
      "\"cannot compute exact p-value with ties\"Warning message in wilcox.test.default(x = c(0, 0, 0, 0, 0, 0, 0, 0, 0, 0, 0, 0, :\n",
      "\"cannot compute exact p-value with ties\"Warning message in wilcox.test.default(x = c(0, 0, 0, 0, 0, 0, 0, 0, 0, 0, 7.2e-05, :\n",
      "\"cannot compute exact p-value with ties\"Warning message in wilcox.test.default(x = c(0, 0, 0, 0, 4.09e-05, 8.53e-05, 3.99e-05, :\n",
      "\"cannot compute exact p-value with ties\""
     ]
    },
    {
     "data": {
      "text/html": [
       "<ol class=list-inline>\n",
       "\t<li>0.0367175416419757</li>\n",
       "\t<li>0.0230986950908164</li>\n",
       "\t<li>2.77165996698117e-05</li>\n",
       "\t<li>0.00196295041333822</li>\n",
       "\t<li>0.0180966134767002</li>\n",
       "\t<li>0.000215062747264139</li>\n",
       "</ol>\n"
      ],
      "text/latex": [
       "\\begin{enumerate*}\n",
       "\\item 0.0367175416419757\n",
       "\\item 0.0230986950908164\n",
       "\\item 2.77165996698117e-05\n",
       "\\item 0.00196295041333822\n",
       "\\item 0.0180966134767002\n",
       "\\item 0.000215062747264139\n",
       "\\end{enumerate*}\n"
      ],
      "text/markdown": [
       "1. 0.0367175416419757\n",
       "2. 0.0230986950908164\n",
       "3. 2.77165996698117e-05\n",
       "4. 0.00196295041333822\n",
       "5. 0.0180966134767002\n",
       "6. 0.000215062747264139\n",
       "\n",
       "\n"
      ],
      "text/plain": [
       "[1] 0.0367175416 0.0230986951 0.0000277166 0.0019629504 0.0180966135\n",
       "[6] 0.0002150627"
      ]
     },
     "metadata": {},
     "output_type": "display_data"
    },
    {
     "data": {
      "text/html": [
       "<ol class=list-inline>\n",
       "\t<li>0.0545801294678017</li>\n",
       "\t<li>0.0362979494284258</li>\n",
       "\t<li>0.000152441298183964</li>\n",
       "\t<li>0.00385579545477151</li>\n",
       "\t<li>0.0292739335652502</li>\n",
       "\t<li>0.00065713617219598</li>\n",
       "</ol>\n"
      ],
      "text/latex": [
       "\\begin{enumerate*}\n",
       "\\item 0.0545801294678017\n",
       "\\item 0.0362979494284258\n",
       "\\item 0.000152441298183964\n",
       "\\item 0.00385579545477151\n",
       "\\item 0.0292739335652502\n",
       "\\item 0.00065713617219598\n",
       "\\end{enumerate*}\n"
      ],
      "text/markdown": [
       "1. 0.0545801294678017\n",
       "2. 0.0362979494284258\n",
       "3. 0.000152441298183964\n",
       "4. 0.00385579545477151\n",
       "5. 0.0292739335652502\n",
       "6. 0.00065713617219598\n",
       "\n",
       "\n"
      ],
      "text/plain": [
       "[1] 0.0545801295 0.0362979494 0.0001524413 0.0038557955 0.0292739336\n",
       "[6] 0.0006571362"
      ]
     },
     "metadata": {},
     "output_type": "display_data"
    }
   ],
   "source": [
    "pval<-c()#create an empty vector with value pval\n",
    "\n",
    "# 8 to the end of each row\n",
    "for (i in 8:ncol(nonzero_wMeta)) \n",
    "pval<-c(pval,wilcox.test(nonzero_wMeta[,i]~nonzero_wMeta$Treatmentgroup)$p.value) #assign to pval the output of the Mann-Whitney-Wilcoxon test\n",
    "    #don't know why there is that first pval in c(pval...) but it doesn't work without it\n",
    "    #$p.value is because there are many output lines from wilcox.test; you want to keep only the one that's called $p.value because that's where the nbr is\n",
    "\n",
    "head(pval) #to check\n",
    "pAdj <- p.adjust(pval, method = c(\"fdr\"), n=length(pval)) \n",
    "head(pAdj) \n",
    "\n"
   ]
  },
  {
   "cell_type": "code",
   "execution_count": 12,
   "metadata": {
    "scrolled": true
   },
   "outputs": [
    {
     "data": {
      "text/html": [
       "55"
      ],
      "text/latex": [
       "55"
      ],
      "text/markdown": [
       "55"
      ],
      "text/plain": [
       "[1] 55"
      ]
     },
     "metadata": {},
     "output_type": "display_data"
    }
   ],
   "source": [
    "length(pval)"
   ]
  },
  {
   "cell_type": "code",
   "execution_count": 13,
   "metadata": {
    "scrolled": true
   },
   "outputs": [
    {
     "data": {
      "text/html": [
       "55"
      ],
      "text/latex": [
       "55"
      ],
      "text/markdown": [
       "55"
      ],
      "text/plain": [
       "[1] 55"
      ]
     },
     "metadata": {},
     "output_type": "display_data"
    }
   ],
   "source": [
    "length(pAdj)"
   ]
  },
  {
   "cell_type": "code",
   "execution_count": 14,
   "metadata": {},
   "outputs": [
    {
     "data": {
      "text/html": [
       "<ol class=list-inline>\n",
       "\t<li>2</li>\n",
       "\t<li>55</li>\n",
       "</ol>\n"
      ],
      "text/latex": [
       "\\begin{enumerate*}\n",
       "\\item 2\n",
       "\\item 55\n",
       "\\end{enumerate*}\n"
      ],
      "text/markdown": [
       "1. 2\n",
       "2. 55\n",
       "\n",
       "\n"
      ],
      "text/plain": [
       "[1]  2 55"
      ]
     },
     "metadata": {},
     "output_type": "display_data"
    },
    {
     "data": {
      "text/html": [
       "<table>\n",
       "<thead><tr><th></th><th scope=col>X105.07_2.767</th><th scope=col>X119.049_2.765</th><th scope=col>X128.018_0.344</th></tr></thead>\n",
       "<tbody>\n",
       "\t<tr><th scope=row>Group1C</th><td>0.002891567 </td><td>3.218367e-05</td><td>0.0000000000</td></tr>\n",
       "\t<tr><th scope=row>Group9</th><td>0.003866032 </td><td>8.664167e-05</td><td>0.0001089651</td></tr>\n",
       "</tbody>\n",
       "</table>\n"
      ],
      "text/latex": [
       "\\begin{tabular}{r|lll}\n",
       "  & X105.07\\_2.767 & X119.049\\_2.765 & X128.018\\_0.344\\\\\n",
       "\\hline\n",
       "\tGroup1C & 0.002891567  & 3.218367e-05 & 0.0000000000\\\\\n",
       "\tGroup9 & 0.003866032  & 8.664167e-05 & 0.0001089651\\\\\n",
       "\\end{tabular}\n"
      ],
      "text/markdown": [
       "\n",
       "| <!--/--> | X105.07_2.767 | X119.049_2.765 | X128.018_0.344 |\n",
       "|---|---|---|---|\n",
       "| Group1C | 0.002891567  | 3.218367e-05 | 0.0000000000 |\n",
       "| Group9 | 0.003866032  | 8.664167e-05 | 0.0001089651 |\n",
       "\n"
      ],
      "text/plain": [
       "        X105.07_2.767 X119.049_2.765 X128.018_0.344\n",
       "Group1C 0.002891567   3.218367e-05   0.0000000000  \n",
       "Group9  0.003866032   8.664167e-05   0.0001089651  "
      ]
     },
     "metadata": {},
     "output_type": "display_data"
    },
    {
     "data": {
      "text/html": [
       "<dl class=dl-horizontal>\n",
       "\t<dt>X105.07_2.767</dt>\n",
       "\t\t<dd>0.747941937914081</dd>\n",
       "\t<dt>X119.049_2.765</dt>\n",
       "\t\t<dd>0.371457151101279</dd>\n",
       "\t<dt>X128.018_0.344</dt>\n",
       "\t\t<dd>0</dd>\n",
       "\t<dt>X136.062_0.301</dt>\n",
       "\t\t<dd>1.96548766919154</dd>\n",
       "\t<dt>X136.097_0.551</dt>\n",
       "\t\t<dd>0</dd>\n",
       "\t<dt>X137.046_0.31</dt>\n",
       "\t\t<dd>1.38846671420995</dd>\n",
       "</dl>\n"
      ],
      "text/latex": [
       "\\begin{description*}\n",
       "\\item[X105.07\\textbackslash{}\\_2.767] 0.747941937914081\n",
       "\\item[X119.049\\textbackslash{}\\_2.765] 0.371457151101279\n",
       "\\item[X128.018\\textbackslash{}\\_0.344] 0\n",
       "\\item[X136.062\\textbackslash{}\\_0.301] 1.96548766919154\n",
       "\\item[X136.097\\textbackslash{}\\_0.551] 0\n",
       "\\item[X137.046\\textbackslash{}\\_0.31] 1.38846671420995\n",
       "\\end{description*}\n"
      ],
      "text/markdown": [
       "X105.07_2.767\n",
       ":   0.747941937914081X119.049_2.765\n",
       ":   0.371457151101279X128.018_0.344\n",
       ":   0X136.062_0.301\n",
       ":   1.96548766919154X136.097_0.551\n",
       ":   0X137.046_0.31\n",
       ":   1.38846671420995\n",
       "\n"
      ],
      "text/plain": [
       " X105.07_2.767 X119.049_2.765 X128.018_0.344 X136.062_0.301 X136.097_0.551 \n",
       "     0.7479419      0.3714572      0.0000000      1.9654877      0.0000000 \n",
       " X137.046_0.31 \n",
       "     1.3884667 "
      ]
     },
     "metadata": {},
     "output_type": "display_data"
    },
    {
     "data": {
      "text/html": [
       "<ol class=list-inline>\n",
       "\t<li>'numeric'</li>\n",
       "\t<li>'vector'</li>\n",
       "</ol>\n"
      ],
      "text/latex": [
       "\\begin{enumerate*}\n",
       "\\item 'numeric'\n",
       "\\item 'vector'\n",
       "\\end{enumerate*}\n"
      ],
      "text/markdown": [
       "1. 'numeric'\n",
       "2. 'vector'\n",
       "\n",
       "\n"
      ],
      "text/plain": [
       "[1] \"numeric\" \"vector\" "
      ]
     },
     "metadata": {},
     "output_type": "display_data"
    }
   ],
   "source": [
    "# change the column name, you want to see infected and naive so it should be State\n",
    "avg<- apply(nonzero_wMeta[,8:ncol(nonzero_wMeta)], 2, function(x) tapply(x, nonzero_wMeta$Treatmentgroup, function(x) mean(x))) \n",
    "\n",
    "dim(avg) #to check\n",
    "\n",
    "avg[,1:3]#to check\n",
    "\n",
    "fch <- apply(avg, 2, function(x) x[1]/x[2]) #calculate fold change\n",
    "\n",
    "head(fch) #to check it's ok\n",
    "is(fch)"
   ]
  },
  {
   "cell_type": "code",
   "execution_count": 15,
   "metadata": {
    "scrolled": true
   },
   "outputs": [
    {
     "data": {
      "text/html": [
       "<dl class=dl-horizontal>\n",
       "\t<dt>X105.07_2.767</dt>\n",
       "\t\t<dd>0.747941937914081</dd>\n",
       "\t<dt>X119.049_2.765</dt>\n",
       "\t\t<dd>0.371457151101279</dd>\n",
       "\t<dt>X128.018_0.344</dt>\n",
       "\t\t<dd>0</dd>\n",
       "\t<dt>X136.062_0.301</dt>\n",
       "\t\t<dd>1.96548766919154</dd>\n",
       "\t<dt>X136.097_0.551</dt>\n",
       "\t\t<dd>0</dd>\n",
       "\t<dt>X137.046_0.31</dt>\n",
       "\t\t<dd>1.38846671420995</dd>\n",
       "\t<dt>X137.046_0.42</dt>\n",
       "\t\t<dd>1.64339673627223</dd>\n",
       "\t<dt>X203.007_0.309</dt>\n",
       "\t\t<dd>5.67787466305985</dd>\n",
       "\t<dt>X249.112_2.768</dt>\n",
       "\t\t<dd>0.592908308268115</dd>\n",
       "\t<dt>X251.037_0.323</dt>\n",
       "\t\t<dd>2.85304801188248</dd>\n",
       "\t<dt>X256.264_3.225</dt>\n",
       "\t\t<dd>3.81962530883408</dd>\n",
       "\t<dt>X258.207_2.775</dt>\n",
       "\t\t<dd>1.20079739798293</dd>\n",
       "\t<dt>X267.123_2.767</dt>\n",
       "\t\t<dd>0.763450385538439</dd>\n",
       "\t<dt>X285.133_2.768</dt>\n",
       "\t\t<dd>0.736105083237489</dd>\n",
       "\t<dt>X291.146_2.39</dt>\n",
       "\t\t<dd>4.10710440209117</dd>\n",
       "\t<dt>X296.258_2.976</dt>\n",
       "\t\t<dd>Inf</dd>\n",
       "\t<dt>X301.115_0.328</dt>\n",
       "\t\t<dd>2.63000480156089</dd>\n",
       "\t<dt>X301.115_0.413</dt>\n",
       "\t\t<dd>4.881059604251</dd>\n",
       "\t<dt>X324.327_3.455</dt>\n",
       "\t\t<dd>0</dd>\n",
       "\t<dt>X351.217_2.741</dt>\n",
       "\t\t<dd>3.17859471742489</dd>\n",
       "\t<dt>X352.306_2.997</dt>\n",
       "\t\t<dd>0.397863818424566</dd>\n",
       "\t<dt>X369.17_2.767</dt>\n",
       "\t\t<dd>0.693458160920397</dd>\n",
       "\t<dt>X380.993_2.164</dt>\n",
       "\t\t<dd>14.8810074626866</dd>\n",
       "\t<dt>X386.717_2.856</dt>\n",
       "\t\t<dd>26.7732103321033</dd>\n",
       "\t<dt>X387.193_2.842</dt>\n",
       "\t\t<dd>0.816540611840693</dd>\n",
       "\t<dt>X396.332_2.991</dt>\n",
       "\t\t<dd>1.14112763749568</dd>\n",
       "\t<dt>X397.22_2.071</dt>\n",
       "\t\t<dd>5.10824357405141</dd>\n",
       "\t<dt>X400.97_2.127</dt>\n",
       "\t\t<dd>8.88738185255199</dd>\n",
       "\t<dt>X416.337_2.79</dt>\n",
       "\t\t<dd>0.0417791830909699</dd>\n",
       "\t<dt>X420.899_2.103</dt>\n",
       "\t\t<dd>4.43695334463832</dd>\n",
       "\t<dt>X426.484_2.164</dt>\n",
       "\t\t<dd>5.52119415448852</dd>\n",
       "\t<dt>X430.223_2.769</dt>\n",
       "\t\t<dd>0.651565329708178</dd>\n",
       "\t<dt>X440.338_2.763</dt>\n",
       "\t\t<dd>0.0285538883257428</dd>\n",
       "\t<dt>X440.359_2.985</dt>\n",
       "\t\t<dd>0.722777237213514</dd>\n",
       "\t<dt>X442.353_2.819</dt>\n",
       "\t\t<dd>0</dd>\n",
       "\t<dt>X458.23_2.165</dt>\n",
       "\t\t<dd>11.0307672877233</dd>\n",
       "\t<dt>X466.25_2.226</dt>\n",
       "\t\t<dd>11.4885188284519</dd>\n",
       "\t<dt>X475.989_2.164</dt>\n",
       "\t\t<dd>4.35448506738474</dd>\n",
       "\t<dt>X476.24_2.164</dt>\n",
       "\t\t<dd>4.32488145946889</dd>\n",
       "\t<dt>X484.385_2.982</dt>\n",
       "\t\t<dd>0.587992921119112</dd>\n",
       "\t<dt>X489.228_2.768</dt>\n",
       "\t\t<dd>0.665643030492199</dd>\n",
       "\t<dt>X494.325_2.865</dt>\n",
       "\t\t<dd>0.434403003212599</dd>\n",
       "\t<dt>X570.357_2.934</dt>\n",
       "\t\t<dd>1.53778021919943</dd>\n",
       "\t<dt>X580.361_2.989</dt>\n",
       "\t\t<dd>Inf</dd>\n",
       "\t<dt>X580.362_2.984</dt>\n",
       "\t\t<dd>0.181562735419436</dd>\n",
       "\t<dt>X599.241_2.765</dt>\n",
       "\t\t<dd>0.735494067890414</dd>\n",
       "\t<dt>X604.362_2.948</dt>\n",
       "\t\t<dd>1.15752408175</dd>\n",
       "\t<dt>X620.356_2.913</dt>\n",
       "\t\t<dd>1.49192548973114</dd>\n",
       "\t<dt>X682.363_3.329</dt>\n",
       "\t\t<dd>Inf</dd>\n",
       "\t<dt>X682.364_3.313</dt>\n",
       "\t\t<dd>0.0836617634762698</dd>\n",
       "\t<dt>X764.524_3.729</dt>\n",
       "\t\t<dd>0.388002267536228</dd>\n",
       "\t<dt>X790.38_2.768</dt>\n",
       "\t\t<dd>0.688045130512897</dd>\n",
       "\t<dt>X792.329_2.764</dt>\n",
       "\t\t<dd>0.615154240049363</dd>\n",
       "\t<dt>X795.335_2.768</dt>\n",
       "\t\t<dd>0.672960642969897</dd>\n",
       "\t<dt>X811.309_2.773</dt>\n",
       "\t\t<dd>0.935271467509775</dd>\n",
       "</dl>\n"
      ],
      "text/latex": [
       "\\begin{description*}\n",
       "\\item[X105.07\\textbackslash{}\\_2.767] 0.747941937914081\n",
       "\\item[X119.049\\textbackslash{}\\_2.765] 0.371457151101279\n",
       "\\item[X128.018\\textbackslash{}\\_0.344] 0\n",
       "\\item[X136.062\\textbackslash{}\\_0.301] 1.96548766919154\n",
       "\\item[X136.097\\textbackslash{}\\_0.551] 0\n",
       "\\item[X137.046\\textbackslash{}\\_0.31] 1.38846671420995\n",
       "\\item[X137.046\\textbackslash{}\\_0.42] 1.64339673627223\n",
       "\\item[X203.007\\textbackslash{}\\_0.309] 5.67787466305985\n",
       "\\item[X249.112\\textbackslash{}\\_2.768] 0.592908308268115\n",
       "\\item[X251.037\\textbackslash{}\\_0.323] 2.85304801188248\n",
       "\\item[X256.264\\textbackslash{}\\_3.225] 3.81962530883408\n",
       "\\item[X258.207\\textbackslash{}\\_2.775] 1.20079739798293\n",
       "\\item[X267.123\\textbackslash{}\\_2.767] 0.763450385538439\n",
       "\\item[X285.133\\textbackslash{}\\_2.768] 0.736105083237489\n",
       "\\item[X291.146\\textbackslash{}\\_2.39] 4.10710440209117\n",
       "\\item[X296.258\\textbackslash{}\\_2.976] Inf\n",
       "\\item[X301.115\\textbackslash{}\\_0.328] 2.63000480156089\n",
       "\\item[X301.115\\textbackslash{}\\_0.413] 4.881059604251\n",
       "\\item[X324.327\\textbackslash{}\\_3.455] 0\n",
       "\\item[X351.217\\textbackslash{}\\_2.741] 3.17859471742489\n",
       "\\item[X352.306\\textbackslash{}\\_2.997] 0.397863818424566\n",
       "\\item[X369.17\\textbackslash{}\\_2.767] 0.693458160920397\n",
       "\\item[X380.993\\textbackslash{}\\_2.164] 14.8810074626866\n",
       "\\item[X386.717\\textbackslash{}\\_2.856] 26.7732103321033\n",
       "\\item[X387.193\\textbackslash{}\\_2.842] 0.816540611840693\n",
       "\\item[X396.332\\textbackslash{}\\_2.991] 1.14112763749568\n",
       "\\item[X397.22\\textbackslash{}\\_2.071] 5.10824357405141\n",
       "\\item[X400.97\\textbackslash{}\\_2.127] 8.88738185255199\n",
       "\\item[X416.337\\textbackslash{}\\_2.79] 0.0417791830909699\n",
       "\\item[X420.899\\textbackslash{}\\_2.103] 4.43695334463832\n",
       "\\item[X426.484\\textbackslash{}\\_2.164] 5.52119415448852\n",
       "\\item[X430.223\\textbackslash{}\\_2.769] 0.651565329708178\n",
       "\\item[X440.338\\textbackslash{}\\_2.763] 0.0285538883257428\n",
       "\\item[X440.359\\textbackslash{}\\_2.985] 0.722777237213514\n",
       "\\item[X442.353\\textbackslash{}\\_2.819] 0\n",
       "\\item[X458.23\\textbackslash{}\\_2.165] 11.0307672877233\n",
       "\\item[X466.25\\textbackslash{}\\_2.226] 11.4885188284519\n",
       "\\item[X475.989\\textbackslash{}\\_2.164] 4.35448506738474\n",
       "\\item[X476.24\\textbackslash{}\\_2.164] 4.32488145946889\n",
       "\\item[X484.385\\textbackslash{}\\_2.982] 0.587992921119112\n",
       "\\item[X489.228\\textbackslash{}\\_2.768] 0.665643030492199\n",
       "\\item[X494.325\\textbackslash{}\\_2.865] 0.434403003212599\n",
       "\\item[X570.357\\textbackslash{}\\_2.934] 1.53778021919943\n",
       "\\item[X580.361\\textbackslash{}\\_2.989] Inf\n",
       "\\item[X580.362\\textbackslash{}\\_2.984] 0.181562735419436\n",
       "\\item[X599.241\\textbackslash{}\\_2.765] 0.735494067890414\n",
       "\\item[X604.362\\textbackslash{}\\_2.948] 1.15752408175\n",
       "\\item[X620.356\\textbackslash{}\\_2.913] 1.49192548973114\n",
       "\\item[X682.363\\textbackslash{}\\_3.329] Inf\n",
       "\\item[X682.364\\textbackslash{}\\_3.313] 0.0836617634762698\n",
       "\\item[X764.524\\textbackslash{}\\_3.729] 0.388002267536228\n",
       "\\item[X790.38\\textbackslash{}\\_2.768] 0.688045130512897\n",
       "\\item[X792.329\\textbackslash{}\\_2.764] 0.615154240049363\n",
       "\\item[X795.335\\textbackslash{}\\_2.768] 0.672960642969897\n",
       "\\item[X811.309\\textbackslash{}\\_2.773] 0.935271467509775\n",
       "\\end{description*}\n"
      ],
      "text/markdown": [
       "X105.07_2.767\n",
       ":   0.747941937914081X119.049_2.765\n",
       ":   0.371457151101279X128.018_0.344\n",
       ":   0X136.062_0.301\n",
       ":   1.96548766919154X136.097_0.551\n",
       ":   0X137.046_0.31\n",
       ":   1.38846671420995X137.046_0.42\n",
       ":   1.64339673627223X203.007_0.309\n",
       ":   5.67787466305985X249.112_2.768\n",
       ":   0.592908308268115X251.037_0.323\n",
       ":   2.85304801188248X256.264_3.225\n",
       ":   3.81962530883408X258.207_2.775\n",
       ":   1.20079739798293X267.123_2.767\n",
       ":   0.763450385538439X285.133_2.768\n",
       ":   0.736105083237489X291.146_2.39\n",
       ":   4.10710440209117X296.258_2.976\n",
       ":   InfX301.115_0.328\n",
       ":   2.63000480156089X301.115_0.413\n",
       ":   4.881059604251X324.327_3.455\n",
       ":   0X351.217_2.741\n",
       ":   3.17859471742489X352.306_2.997\n",
       ":   0.397863818424566X369.17_2.767\n",
       ":   0.693458160920397X380.993_2.164\n",
       ":   14.8810074626866X386.717_2.856\n",
       ":   26.7732103321033X387.193_2.842\n",
       ":   0.816540611840693X396.332_2.991\n",
       ":   1.14112763749568X397.22_2.071\n",
       ":   5.10824357405141X400.97_2.127\n",
       ":   8.88738185255199X416.337_2.79\n",
       ":   0.0417791830909699X420.899_2.103\n",
       ":   4.43695334463832X426.484_2.164\n",
       ":   5.52119415448852X430.223_2.769\n",
       ":   0.651565329708178X440.338_2.763\n",
       ":   0.0285538883257428X440.359_2.985\n",
       ":   0.722777237213514X442.353_2.819\n",
       ":   0X458.23_2.165\n",
       ":   11.0307672877233X466.25_2.226\n",
       ":   11.4885188284519X475.989_2.164\n",
       ":   4.35448506738474X476.24_2.164\n",
       ":   4.32488145946889X484.385_2.982\n",
       ":   0.587992921119112X489.228_2.768\n",
       ":   0.665643030492199X494.325_2.865\n",
       ":   0.434403003212599X570.357_2.934\n",
       ":   1.53778021919943X580.361_2.989\n",
       ":   InfX580.362_2.984\n",
       ":   0.181562735419436X599.241_2.765\n",
       ":   0.735494067890414X604.362_2.948\n",
       ":   1.15752408175X620.356_2.913\n",
       ":   1.49192548973114X682.363_3.329\n",
       ":   InfX682.364_3.313\n",
       ":   0.0836617634762698X764.524_3.729\n",
       ":   0.388002267536228X790.38_2.768\n",
       ":   0.688045130512897X792.329_2.764\n",
       ":   0.615154240049363X795.335_2.768\n",
       ":   0.672960642969897X811.309_2.773\n",
       ":   0.935271467509775\n",
       "\n"
      ],
      "text/plain": [
       " X105.07_2.767 X119.049_2.765 X128.018_0.344 X136.062_0.301 X136.097_0.551 \n",
       "    0.74794194     0.37145715     0.00000000     1.96548767     0.00000000 \n",
       " X137.046_0.31  X137.046_0.42 X203.007_0.309 X249.112_2.768 X251.037_0.323 \n",
       "    1.38846671     1.64339674     5.67787466     0.59290831     2.85304801 \n",
       "X256.264_3.225 X258.207_2.775 X267.123_2.767 X285.133_2.768  X291.146_2.39 \n",
       "    3.81962531     1.20079740     0.76345039     0.73610508     4.10710440 \n",
       "X296.258_2.976 X301.115_0.328 X301.115_0.413 X324.327_3.455 X351.217_2.741 \n",
       "           Inf     2.63000480     4.88105960     0.00000000     3.17859472 \n",
       "X352.306_2.997  X369.17_2.767 X380.993_2.164 X386.717_2.856 X387.193_2.842 \n",
       "    0.39786382     0.69345816    14.88100746    26.77321033     0.81654061 \n",
       "X396.332_2.991  X397.22_2.071  X400.97_2.127  X416.337_2.79 X420.899_2.103 \n",
       "    1.14112764     5.10824357     8.88738185     0.04177918     4.43695334 \n",
       "X426.484_2.164 X430.223_2.769 X440.338_2.763 X440.359_2.985 X442.353_2.819 \n",
       "    5.52119415     0.65156533     0.02855389     0.72277724     0.00000000 \n",
       " X458.23_2.165  X466.25_2.226 X475.989_2.164  X476.24_2.164 X484.385_2.982 \n",
       "   11.03076729    11.48851883     4.35448507     4.32488146     0.58799292 \n",
       "X489.228_2.768 X494.325_2.865 X570.357_2.934 X580.361_2.989 X580.362_2.984 \n",
       "    0.66564303     0.43440300     1.53778022            Inf     0.18156274 \n",
       "X599.241_2.765 X604.362_2.948 X620.356_2.913 X682.363_3.329 X682.364_3.313 \n",
       "    0.73549407     1.15752408     1.49192549            Inf     0.08366176 \n",
       "X764.524_3.729  X790.38_2.768 X792.329_2.764 X795.335_2.768 X811.309_2.773 \n",
       "    0.38800227     0.68804513     0.61515424     0.67296064     0.93527147 "
      ]
     },
     "metadata": {},
     "output_type": "display_data"
    }
   ],
   "source": [
    "fch"
   ]
  },
  {
   "cell_type": "code",
   "execution_count": 16,
   "metadata": {
    "scrolled": false
   },
   "outputs": [],
   "source": [
    "#Convoluted way to get the names; likely could find a simpler way\n",
    "\n",
    "#make dataframe from pval and fch\n",
    "df <- data.frame(fch,pval, pAdj)\n",
    "write.csv(df, \"LVB-wilcox-1C-9.csv\")"
   ]
  },
  {
   "cell_type": "code",
   "execution_count": null,
   "metadata": {},
   "outputs": [],
   "source": []
  },
  {
   "cell_type": "code",
   "execution_count": null,
   "metadata": {},
   "outputs": [],
   "source": []
  },
  {
   "cell_type": "code",
   "execution_count": null,
   "metadata": {},
   "outputs": [],
   "source": []
  }
 ],
 "metadata": {
  "kernelspec": {
   "display_name": "R",
   "language": "R",
   "name": "ir"
  },
  "language_info": {
   "codemirror_mode": "r",
   "file_extension": ".r",
   "mimetype": "text/x-r-source",
   "name": "R",
   "pygments_lexer": "r",
   "version": "3.6.1"
  }
 },
 "nbformat": 4,
 "nbformat_minor": 2
}
