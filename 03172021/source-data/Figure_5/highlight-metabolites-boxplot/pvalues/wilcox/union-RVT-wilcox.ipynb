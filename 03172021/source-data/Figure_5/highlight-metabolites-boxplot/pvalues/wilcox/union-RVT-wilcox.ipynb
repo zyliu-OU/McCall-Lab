{
 "cells": [
  {
   "cell_type": "code",
   "execution_count": 1,
   "metadata": {},
   "outputs": [
    {
     "name": "stderr",
     "output_type": "stream",
     "text": [
      "Warning message:\n",
      "\"package 'dplyr' was built under R version 3.6.3\"\n",
      "Attaching package: 'dplyr'\n",
      "\n",
      "The following objects are masked from 'package:stats':\n",
      "\n",
      "    filter, lag\n",
      "\n",
      "The following objects are masked from 'package:base':\n",
      "\n",
      "    intersect, setdiff, setequal, union\n",
      "\n"
     ]
    }
   ],
   "source": [
    "library(dplyr)"
   ]
  },
  {
   "cell_type": "code",
   "execution_count": 2,
   "metadata": {},
   "outputs": [
    {
     "data": {
      "text/html": [
       "<table>\n",
       "<thead><tr><th scope=col>filename</th><th scope=col>RVT_naive_VS_infected</th></tr></thead>\n",
       "<tbody>\n",
       "\t<tr><td>X268.105_0.35 </td><td>0.000163976   </td></tr>\n",
       "\t<tr><td>X269.088_0.35 </td><td>0.000179451   </td></tr>\n",
       "\t<tr><td>X111.044_2.768</td><td>0.000196398   </td></tr>\n",
       "\t<tr><td>X122.082_0.534</td><td>0.014336172   </td></tr>\n",
       "\t<tr><td>X130.087_0.452</td><td>0.004886721   </td></tr>\n",
       "\t<tr><td>X137.046_0.35 </td><td>0.000000812   </td></tr>\n",
       "</tbody>\n",
       "</table>\n"
      ],
      "text/latex": [
       "\\begin{tabular}{r|ll}\n",
       " filename & RVT\\_naive\\_VS\\_infected\\\\\n",
       "\\hline\n",
       "\t X268.105\\_0.35  & 0.000163976     \\\\\n",
       "\t X269.088\\_0.35  & 0.000179451     \\\\\n",
       "\t X111.044\\_2.768 & 0.000196398     \\\\\n",
       "\t X122.082\\_0.534 & 0.014336172     \\\\\n",
       "\t X130.087\\_0.452 & 0.004886721     \\\\\n",
       "\t X137.046\\_0.35  & 0.000000812     \\\\\n",
       "\\end{tabular}\n"
      ],
      "text/markdown": [
       "\n",
       "| filename | RVT_naive_VS_infected |\n",
       "|---|---|\n",
       "| X268.105_0.35  | 0.000163976    |\n",
       "| X269.088_0.35  | 0.000179451    |\n",
       "| X111.044_2.768 | 0.000196398    |\n",
       "| X122.082_0.534 | 0.014336172    |\n",
       "| X130.087_0.452 | 0.004886721    |\n",
       "| X137.046_0.35  | 0.000000812    |\n",
       "\n"
      ],
      "text/plain": [
       "  filename       RVT_naive_VS_infected\n",
       "1 X268.105_0.35  0.000163976          \n",
       "2 X269.088_0.35  0.000179451          \n",
       "3 X111.044_2.768 0.000196398          \n",
       "4 X122.082_0.534 0.014336172          \n",
       "5 X130.087_0.452 0.004886721          \n",
       "6 X137.046_0.35  0.000000812          "
      ]
     },
     "metadata": {},
     "output_type": "display_data"
    },
    {
     "data": {
      "text/html": [
       "<ol class=list-inline>\n",
       "\t<li>63</li>\n",
       "\t<li>2</li>\n",
       "</ol>\n"
      ],
      "text/latex": [
       "\\begin{enumerate*}\n",
       "\\item 63\n",
       "\\item 2\n",
       "\\end{enumerate*}\n"
      ],
      "text/markdown": [
       "1. 63\n",
       "2. 2\n",
       "\n",
       "\n"
      ],
      "text/plain": [
       "[1] 63  2"
      ]
     },
     "metadata": {},
     "output_type": "display_data"
    },
    {
     "data": {
      "text/html": [
       "<table>\n",
       "<thead><tr><th scope=col>filename</th><th scope=col>RVT_naive_VS_combo</th></tr></thead>\n",
       "<tbody>\n",
       "\t<tr><td>X268.105_0.35 </td><td>0.004127350   </td></tr>\n",
       "\t<tr><td>X269.088_0.35 </td><td>0.005708386   </td></tr>\n",
       "\t<tr><td>X111.044_2.768</td><td>0.801534234   </td></tr>\n",
       "\t<tr><td>X122.082_0.534</td><td>0.661236910   </td></tr>\n",
       "\t<tr><td>X130.087_0.452</td><td>0.081128449   </td></tr>\n",
       "\t<tr><td>X137.046_0.35 </td><td>0.000021600   </td></tr>\n",
       "</tbody>\n",
       "</table>\n"
      ],
      "text/latex": [
       "\\begin{tabular}{r|ll}\n",
       " filename & RVT\\_naive\\_VS\\_combo\\\\\n",
       "\\hline\n",
       "\t X268.105\\_0.35  & 0.004127350     \\\\\n",
       "\t X269.088\\_0.35  & 0.005708386     \\\\\n",
       "\t X111.044\\_2.768 & 0.801534234     \\\\\n",
       "\t X122.082\\_0.534 & 0.661236910     \\\\\n",
       "\t X130.087\\_0.452 & 0.081128449     \\\\\n",
       "\t X137.046\\_0.35  & 0.000021600     \\\\\n",
       "\\end{tabular}\n"
      ],
      "text/markdown": [
       "\n",
       "| filename | RVT_naive_VS_combo |\n",
       "|---|---|\n",
       "| X268.105_0.35  | 0.004127350    |\n",
       "| X269.088_0.35  | 0.005708386    |\n",
       "| X111.044_2.768 | 0.801534234    |\n",
       "| X122.082_0.534 | 0.661236910    |\n",
       "| X130.087_0.452 | 0.081128449    |\n",
       "| X137.046_0.35  | 0.000021600    |\n",
       "\n"
      ],
      "text/plain": [
       "  filename       RVT_naive_VS_combo\n",
       "1 X268.105_0.35  0.004127350       \n",
       "2 X269.088_0.35  0.005708386       \n",
       "3 X111.044_2.768 0.801534234       \n",
       "4 X122.082_0.534 0.661236910       \n",
       "5 X130.087_0.452 0.081128449       \n",
       "6 X137.046_0.35  0.000021600       "
      ]
     },
     "metadata": {},
     "output_type": "display_data"
    },
    {
     "data": {
      "text/html": [
       "<ol class=list-inline>\n",
       "\t<li>63</li>\n",
       "\t<li>2</li>\n",
       "</ol>\n"
      ],
      "text/latex": [
       "\\begin{enumerate*}\n",
       "\\item 63\n",
       "\\item 2\n",
       "\\end{enumerate*}\n"
      ],
      "text/markdown": [
       "1. 63\n",
       "2. 2\n",
       "\n",
       "\n"
      ],
      "text/plain": [
       "[1] 63  2"
      ]
     },
     "metadata": {},
     "output_type": "display_data"
    },
    {
     "data": {
      "text/html": [
       "<table>\n",
       "<thead><tr><th scope=col>filename</th><th scope=col>RVT_naive_VS_BNZ</th></tr></thead>\n",
       "<tbody>\n",
       "\t<tr><td>X268.105_0.35 </td><td>0.000943530   </td></tr>\n",
       "\t<tr><td>X269.088_0.35 </td><td>0.012170215   </td></tr>\n",
       "\t<tr><td>X111.044_2.768</td><td>0.227216451   </td></tr>\n",
       "\t<tr><td>X122.082_0.534</td><td>0.063978579   </td></tr>\n",
       "\t<tr><td>X130.087_0.452</td><td>0.042571918   </td></tr>\n",
       "\t<tr><td>X137.046_0.35 </td><td>0.002101907   </td></tr>\n",
       "</tbody>\n",
       "</table>\n"
      ],
      "text/latex": [
       "\\begin{tabular}{r|ll}\n",
       " filename & RVT\\_naive\\_VS\\_BNZ\\\\\n",
       "\\hline\n",
       "\t X268.105\\_0.35  & 0.000943530     \\\\\n",
       "\t X269.088\\_0.35  & 0.012170215     \\\\\n",
       "\t X111.044\\_2.768 & 0.227216451     \\\\\n",
       "\t X122.082\\_0.534 & 0.063978579     \\\\\n",
       "\t X130.087\\_0.452 & 0.042571918     \\\\\n",
       "\t X137.046\\_0.35  & 0.002101907     \\\\\n",
       "\\end{tabular}\n"
      ],
      "text/markdown": [
       "\n",
       "| filename | RVT_naive_VS_BNZ |\n",
       "|---|---|\n",
       "| X268.105_0.35  | 0.000943530    |\n",
       "| X269.088_0.35  | 0.012170215    |\n",
       "| X111.044_2.768 | 0.227216451    |\n",
       "| X122.082_0.534 | 0.063978579    |\n",
       "| X130.087_0.452 | 0.042571918    |\n",
       "| X137.046_0.35  | 0.002101907    |\n",
       "\n"
      ],
      "text/plain": [
       "  filename       RVT_naive_VS_BNZ\n",
       "1 X268.105_0.35  0.000943530     \n",
       "2 X269.088_0.35  0.012170215     \n",
       "3 X111.044_2.768 0.227216451     \n",
       "4 X122.082_0.534 0.063978579     \n",
       "5 X130.087_0.452 0.042571918     \n",
       "6 X137.046_0.35  0.002101907     "
      ]
     },
     "metadata": {},
     "output_type": "display_data"
    },
    {
     "data": {
      "text/html": [
       "<ol class=list-inline>\n",
       "\t<li>63</li>\n",
       "\t<li>2</li>\n",
       "</ol>\n"
      ],
      "text/latex": [
       "\\begin{enumerate*}\n",
       "\\item 63\n",
       "\\item 2\n",
       "\\end{enumerate*}\n"
      ],
      "text/markdown": [
       "1. 63\n",
       "2. 2\n",
       "\n",
       "\n"
      ],
      "text/plain": [
       "[1] 63  2"
      ]
     },
     "metadata": {},
     "output_type": "display_data"
    },
    {
     "data": {
      "text/html": [
       "<table>\n",
       "<thead><tr><th scope=col>filename</th><th scope=col>RVT_infected_VS_combo</th></tr></thead>\n",
       "<tbody>\n",
       "\t<tr><td>X268.105_0.35 </td><td>0.605595665   </td></tr>\n",
       "\t<tr><td>X269.088_0.35 </td><td>0.240769803   </td></tr>\n",
       "\t<tr><td>X111.044_2.768</td><td>0.008355303   </td></tr>\n",
       "\t<tr><td>X122.082_0.534</td><td>0.240769803   </td></tr>\n",
       "\t<tr><td>X130.087_0.452</td><td>0.528581422   </td></tr>\n",
       "\t<tr><td>X137.046_0.35 </td><td>0.453220553   </td></tr>\n",
       "</tbody>\n",
       "</table>\n"
      ],
      "text/latex": [
       "\\begin{tabular}{r|ll}\n",
       " filename & RVT\\_infected\\_VS\\_combo\\\\\n",
       "\\hline\n",
       "\t X268.105\\_0.35  & 0.605595665     \\\\\n",
       "\t X269.088\\_0.35  & 0.240769803     \\\\\n",
       "\t X111.044\\_2.768 & 0.008355303     \\\\\n",
       "\t X122.082\\_0.534 & 0.240769803     \\\\\n",
       "\t X130.087\\_0.452 & 0.528581422     \\\\\n",
       "\t X137.046\\_0.35  & 0.453220553     \\\\\n",
       "\\end{tabular}\n"
      ],
      "text/markdown": [
       "\n",
       "| filename | RVT_infected_VS_combo |\n",
       "|---|---|\n",
       "| X268.105_0.35  | 0.605595665    |\n",
       "| X269.088_0.35  | 0.240769803    |\n",
       "| X111.044_2.768 | 0.008355303    |\n",
       "| X122.082_0.534 | 0.240769803    |\n",
       "| X130.087_0.452 | 0.528581422    |\n",
       "| X137.046_0.35  | 0.453220553    |\n",
       "\n"
      ],
      "text/plain": [
       "  filename       RVT_infected_VS_combo\n",
       "1 X268.105_0.35  0.605595665          \n",
       "2 X269.088_0.35  0.240769803          \n",
       "3 X111.044_2.768 0.008355303          \n",
       "4 X122.082_0.534 0.240769803          \n",
       "5 X130.087_0.452 0.528581422          \n",
       "6 X137.046_0.35  0.453220553          "
      ]
     },
     "metadata": {},
     "output_type": "display_data"
    },
    {
     "data": {
      "text/html": [
       "<ol class=list-inline>\n",
       "\t<li>63</li>\n",
       "\t<li>2</li>\n",
       "</ol>\n"
      ],
      "text/latex": [
       "\\begin{enumerate*}\n",
       "\\item 63\n",
       "\\item 2\n",
       "\\end{enumerate*}\n"
      ],
      "text/markdown": [
       "1. 63\n",
       "2. 2\n",
       "\n",
       "\n"
      ],
      "text/plain": [
       "[1] 63  2"
      ]
     },
     "metadata": {},
     "output_type": "display_data"
    },
    {
     "data": {
      "text/html": [
       "<table>\n",
       "<thead><tr><th scope=col>filename</th><th scope=col>RVT_infected_VS_BNZ</th></tr></thead>\n",
       "<tbody>\n",
       "\t<tr><td>X268.105_0.35 </td><td>0.39326364    </td></tr>\n",
       "\t<tr><td>X269.088_0.35 </td><td>0.48077464    </td></tr>\n",
       "\t<tr><td>X111.044_2.768</td><td>0.12139230    </td></tr>\n",
       "\t<tr><td>X122.082_0.534</td><td>0.54877882    </td></tr>\n",
       "\t<tr><td>X130.087_0.452</td><td>0.54877882    </td></tr>\n",
       "\t<tr><td>X137.046_0.35 </td><td>0.02957051    </td></tr>\n",
       "</tbody>\n",
       "</table>\n"
      ],
      "text/latex": [
       "\\begin{tabular}{r|ll}\n",
       " filename & RVT\\_infected\\_VS\\_BNZ\\\\\n",
       "\\hline\n",
       "\t X268.105\\_0.35  & 0.39326364      \\\\\n",
       "\t X269.088\\_0.35  & 0.48077464      \\\\\n",
       "\t X111.044\\_2.768 & 0.12139230      \\\\\n",
       "\t X122.082\\_0.534 & 0.54877882      \\\\\n",
       "\t X130.087\\_0.452 & 0.54877882      \\\\\n",
       "\t X137.046\\_0.35  & 0.02957051      \\\\\n",
       "\\end{tabular}\n"
      ],
      "text/markdown": [
       "\n",
       "| filename | RVT_infected_VS_BNZ |\n",
       "|---|---|\n",
       "| X268.105_0.35  | 0.39326364     |\n",
       "| X269.088_0.35  | 0.48077464     |\n",
       "| X111.044_2.768 | 0.12139230     |\n",
       "| X122.082_0.534 | 0.54877882     |\n",
       "| X130.087_0.452 | 0.54877882     |\n",
       "| X137.046_0.35  | 0.02957051     |\n",
       "\n"
      ],
      "text/plain": [
       "  filename       RVT_infected_VS_BNZ\n",
       "1 X268.105_0.35  0.39326364         \n",
       "2 X269.088_0.35  0.48077464         \n",
       "3 X111.044_2.768 0.12139230         \n",
       "4 X122.082_0.534 0.54877882         \n",
       "5 X130.087_0.452 0.54877882         \n",
       "6 X137.046_0.35  0.02957051         "
      ]
     },
     "metadata": {},
     "output_type": "display_data"
    },
    {
     "data": {
      "text/html": [
       "<ol class=list-inline>\n",
       "\t<li>63</li>\n",
       "\t<li>2</li>\n",
       "</ol>\n"
      ],
      "text/latex": [
       "\\begin{enumerate*}\n",
       "\\item 63\n",
       "\\item 2\n",
       "\\end{enumerate*}\n"
      ],
      "text/markdown": [
       "1. 63\n",
       "2. 2\n",
       "\n",
       "\n"
      ],
      "text/plain": [
       "[1] 63  2"
      ]
     },
     "metadata": {},
     "output_type": "display_data"
    },
    {
     "data": {
      "text/html": [
       "<table>\n",
       "<thead><tr><th scope=col>filename</th><th scope=col>RVT_combo_VS_BNZ</th></tr></thead>\n",
       "<tbody>\n",
       "\t<tr><td>X268.105_0.35 </td><td>0.6907425     </td></tr>\n",
       "\t<tr><td>X269.088_0.35 </td><td>1.0000000     </td></tr>\n",
       "\t<tr><td>X111.044_2.768</td><td>0.6560404     </td></tr>\n",
       "\t<tr><td>X122.082_0.534</td><td>0.6149683     </td></tr>\n",
       "\t<tr><td>X130.087_0.452</td><td>0.8134309     </td></tr>\n",
       "\t<tr><td>X137.046_0.35 </td><td>0.2555183     </td></tr>\n",
       "</tbody>\n",
       "</table>\n"
      ],
      "text/latex": [
       "\\begin{tabular}{r|ll}\n",
       " filename & RVT\\_combo\\_VS\\_BNZ\\\\\n",
       "\\hline\n",
       "\t X268.105\\_0.35  & 0.6907425       \\\\\n",
       "\t X269.088\\_0.35  & 1.0000000       \\\\\n",
       "\t X111.044\\_2.768 & 0.6560404       \\\\\n",
       "\t X122.082\\_0.534 & 0.6149683       \\\\\n",
       "\t X130.087\\_0.452 & 0.8134309       \\\\\n",
       "\t X137.046\\_0.35  & 0.2555183       \\\\\n",
       "\\end{tabular}\n"
      ],
      "text/markdown": [
       "\n",
       "| filename | RVT_combo_VS_BNZ |\n",
       "|---|---|\n",
       "| X268.105_0.35  | 0.6907425      |\n",
       "| X269.088_0.35  | 1.0000000      |\n",
       "| X111.044_2.768 | 0.6560404      |\n",
       "| X122.082_0.534 | 0.6149683      |\n",
       "| X130.087_0.452 | 0.8134309      |\n",
       "| X137.046_0.35  | 0.2555183      |\n",
       "\n"
      ],
      "text/plain": [
       "  filename       RVT_combo_VS_BNZ\n",
       "1 X268.105_0.35  0.6907425       \n",
       "2 X269.088_0.35  1.0000000       \n",
       "3 X111.044_2.768 0.6560404       \n",
       "4 X122.082_0.534 0.6149683       \n",
       "5 X130.087_0.452 0.8134309       \n",
       "6 X137.046_0.35  0.2555183       "
      ]
     },
     "metadata": {},
     "output_type": "display_data"
    },
    {
     "data": {
      "text/html": [
       "<ol class=list-inline>\n",
       "\t<li>62</li>\n",
       "\t<li>2</li>\n",
       "</ol>\n"
      ],
      "text/latex": [
       "\\begin{enumerate*}\n",
       "\\item 62\n",
       "\\item 2\n",
       "\\end{enumerate*}\n"
      ],
      "text/markdown": [
       "1. 62\n",
       "2. 2\n",
       "\n",
       "\n"
      ],
      "text/plain": [
       "[1] 62  2"
      ]
     },
     "metadata": {},
     "output_type": "display_data"
    }
   ],
   "source": [
    "file_1 <- read.csv(\"RVT-wilcox-1C-3E-fix.csv\", h = T, sep = \",\", dec = \".\")\n",
    "head(file_1)\n",
    "dim(file_1)\n",
    "\n",
    "file_2 <- read.csv(\"RVT-wilcox-1C-9-fix.csv\", h = T, sep = \",\", dec = \".\")\n",
    "head(file_2)\n",
    "dim(file_2)\n",
    "\n",
    "file_3 <- read.csv(\"RVT-wilcox-1C-15-fix.csv\", h = T, sep = \",\", dec = \".\")\n",
    "head(file_3)\n",
    "dim(file_3)\n",
    "\n",
    "file_4 <- read.csv(\"RVT-wilcox-3E-9-fix.csv\", h = T, sep = \",\", dec = \".\")\n",
    "head(file_4)\n",
    "dim(file_4)\n",
    "\n",
    "file_5 <- read.csv(\"RVT-wilcox-3E-15-fix.csv\", h = T, sep = \",\", dec = \".\")\n",
    "head(file_5)\n",
    "dim(file_5)\n",
    "\n",
    "file_6 <- read.csv(\"RVT-wilcox-9-15-fix.csv\", h = T, sep = \",\", dec = \".\")\n",
    "head(file_6)\n",
    "dim(file_6)\n"
   ]
  },
  {
   "cell_type": "code",
   "execution_count": 3,
   "metadata": {},
   "outputs": [
    {
     "data": {
      "text/html": [
       "<table>\n",
       "<thead><tr><th scope=col>filename</th><th scope=col>RVT_naive_VS_infected</th><th scope=col>RVT_naive_VS_combo</th><th scope=col>RVT_naive_VS_BNZ</th><th scope=col>RVT_infected_VS_combo</th><th scope=col>RVT_infected_VS_BNZ</th><th scope=col>RVT_combo_VS_BNZ</th></tr></thead>\n",
       "<tbody>\n",
       "\t<tr><td>X268.105_0.35 </td><td>0.000163976   </td><td>0.004127350   </td><td>0.000943530   </td><td>0.605595665   </td><td>0.39326364    </td><td>0.6907425     </td></tr>\n",
       "\t<tr><td>X269.088_0.35 </td><td>0.000179451   </td><td>0.005708386   </td><td>0.012170215   </td><td>0.240769803   </td><td>0.48077464    </td><td>1.0000000     </td></tr>\n",
       "\t<tr><td>X111.044_2.768</td><td>0.000196398   </td><td>0.801534234   </td><td>0.227216451   </td><td>0.008355303   </td><td>0.12139230    </td><td>0.6560404     </td></tr>\n",
       "\t<tr><td>X122.082_0.534</td><td>0.014336172   </td><td>0.661236910   </td><td>0.063978579   </td><td>0.240769803   </td><td>0.54877882    </td><td>0.6149683     </td></tr>\n",
       "\t<tr><td>X130.087_0.452</td><td>0.004886721   </td><td>0.081128449   </td><td>0.042571918   </td><td>0.528581422   </td><td>0.54877882    </td><td>0.8134309     </td></tr>\n",
       "\t<tr><td>X137.046_0.35 </td><td>0.000000812   </td><td>0.000021600   </td><td>0.002101907   </td><td>0.453220553   </td><td>0.02957051    </td><td>0.2555183     </td></tr>\n",
       "</tbody>\n",
       "</table>\n"
      ],
      "text/latex": [
       "\\begin{tabular}{r|lllllll}\n",
       " filename & RVT\\_naive\\_VS\\_infected & RVT\\_naive\\_VS\\_combo & RVT\\_naive\\_VS\\_BNZ & RVT\\_infected\\_VS\\_combo & RVT\\_infected\\_VS\\_BNZ & RVT\\_combo\\_VS\\_BNZ\\\\\n",
       "\\hline\n",
       "\t X268.105\\_0.35  & 0.000163976      & 0.004127350      & 0.000943530      & 0.605595665      & 0.39326364       & 0.6907425       \\\\\n",
       "\t X269.088\\_0.35  & 0.000179451      & 0.005708386      & 0.012170215      & 0.240769803      & 0.48077464       & 1.0000000       \\\\\n",
       "\t X111.044\\_2.768 & 0.000196398      & 0.801534234      & 0.227216451      & 0.008355303      & 0.12139230       & 0.6560404       \\\\\n",
       "\t X122.082\\_0.534 & 0.014336172      & 0.661236910      & 0.063978579      & 0.240769803      & 0.54877882       & 0.6149683       \\\\\n",
       "\t X130.087\\_0.452 & 0.004886721      & 0.081128449      & 0.042571918      & 0.528581422      & 0.54877882       & 0.8134309       \\\\\n",
       "\t X137.046\\_0.35  & 0.000000812      & 0.000021600      & 0.002101907      & 0.453220553      & 0.02957051       & 0.2555183       \\\\\n",
       "\\end{tabular}\n"
      ],
      "text/markdown": [
       "\n",
       "| filename | RVT_naive_VS_infected | RVT_naive_VS_combo | RVT_naive_VS_BNZ | RVT_infected_VS_combo | RVT_infected_VS_BNZ | RVT_combo_VS_BNZ |\n",
       "|---|---|---|---|---|---|---|\n",
       "| X268.105_0.35  | 0.000163976    | 0.004127350    | 0.000943530    | 0.605595665    | 0.39326364     | 0.6907425      |\n",
       "| X269.088_0.35  | 0.000179451    | 0.005708386    | 0.012170215    | 0.240769803    | 0.48077464     | 1.0000000      |\n",
       "| X111.044_2.768 | 0.000196398    | 0.801534234    | 0.227216451    | 0.008355303    | 0.12139230     | 0.6560404      |\n",
       "| X122.082_0.534 | 0.014336172    | 0.661236910    | 0.063978579    | 0.240769803    | 0.54877882     | 0.6149683      |\n",
       "| X130.087_0.452 | 0.004886721    | 0.081128449    | 0.042571918    | 0.528581422    | 0.54877882     | 0.8134309      |\n",
       "| X137.046_0.35  | 0.000000812    | 0.000021600    | 0.002101907    | 0.453220553    | 0.02957051     | 0.2555183      |\n",
       "\n"
      ],
      "text/plain": [
       "  filename       RVT_naive_VS_infected RVT_naive_VS_combo RVT_naive_VS_BNZ\n",
       "1 X268.105_0.35  0.000163976           0.004127350        0.000943530     \n",
       "2 X269.088_0.35  0.000179451           0.005708386        0.012170215     \n",
       "3 X111.044_2.768 0.000196398           0.801534234        0.227216451     \n",
       "4 X122.082_0.534 0.014336172           0.661236910        0.063978579     \n",
       "5 X130.087_0.452 0.004886721           0.081128449        0.042571918     \n",
       "6 X137.046_0.35  0.000000812           0.000021600        0.002101907     \n",
       "  RVT_infected_VS_combo RVT_infected_VS_BNZ RVT_combo_VS_BNZ\n",
       "1 0.605595665           0.39326364          0.6907425       \n",
       "2 0.240769803           0.48077464          1.0000000       \n",
       "3 0.008355303           0.12139230          0.6560404       \n",
       "4 0.240769803           0.54877882          0.6149683       \n",
       "5 0.528581422           0.54877882          0.8134309       \n",
       "6 0.453220553           0.02957051          0.2555183       "
      ]
     },
     "metadata": {},
     "output_type": "display_data"
    },
    {
     "data": {
      "text/html": [
       "<ol class=list-inline>\n",
       "\t<li>63</li>\n",
       "\t<li>7</li>\n",
       "</ol>\n"
      ],
      "text/latex": [
       "\\begin{enumerate*}\n",
       "\\item 63\n",
       "\\item 7\n",
       "\\end{enumerate*}\n"
      ],
      "text/markdown": [
       "1. 63\n",
       "2. 7\n",
       "\n",
       "\n"
      ],
      "text/plain": [
       "[1] 63  7"
      ]
     },
     "metadata": {},
     "output_type": "display_data"
    }
   ],
   "source": [
    "union_full_list <- full_join(full_join(full_join(full_join(full_join(file_1,file_2,by=\"filename\"\n",
    "                                                                    ),file_3,by=\"filename\"\n",
    "                                                          ),file_4,by=\"filename\"\n",
    "                                                ),file_5,by=\"filename\"\n",
    "                                      ),file_6,by=\"filename\")\n",
    "head(union_full_list)\n",
    "dim(union_full_list)"
   ]
  },
  {
   "cell_type": "code",
   "execution_count": 4,
   "metadata": {},
   "outputs": [],
   "source": [
    "write.csv(union_full_list, \"RVT-wilcox-FDR-pvalue.csv\", row.names = FALSE)"
   ]
  },
  {
   "cell_type": "code",
   "execution_count": null,
   "metadata": {},
   "outputs": [],
   "source": []
  },
  {
   "cell_type": "code",
   "execution_count": null,
   "metadata": {},
   "outputs": [],
   "source": []
  },
  {
   "cell_type": "code",
   "execution_count": null,
   "metadata": {},
   "outputs": [],
   "source": []
  },
  {
   "cell_type": "code",
   "execution_count": null,
   "metadata": {},
   "outputs": [],
   "source": []
  },
  {
   "cell_type": "code",
   "execution_count": null,
   "metadata": {},
   "outputs": [],
   "source": []
  }
 ],
 "metadata": {
  "kernelspec": {
   "display_name": "R",
   "language": "R",
   "name": "ir"
  },
  "language_info": {
   "codemirror_mode": "r",
   "file_extension": ".r",
   "mimetype": "text/x-r-source",
   "name": "R",
   "pygments_lexer": "r",
   "version": "3.6.1"
  }
 },
 "nbformat": 4,
 "nbformat_minor": 2
}
