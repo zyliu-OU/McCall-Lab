{
 "cells": [
  {
   "cell_type": "code",
   "execution_count": null,
   "metadata": {},
   "outputs": [],
   "source": [
    "# after I have filtered feature table, I do wilcox p value for filtered mass list. So that the p value will be more accurate"
   ]
  },
  {
   "cell_type": "code",
   "execution_count": 4,
   "metadata": {},
   "outputs": [],
   "source": [
    "a <- read.csv(\"03172021-9-15-3E-1C-LVT-M-F-filtered-fix.csv\")"
   ]
  },
  {
   "cell_type": "code",
   "execution_count": 5,
   "metadata": {},
   "outputs": [
    {
     "data": {
      "text/html": [
       "<table>\n",
       "<thead><tr><th scope=col>filename</th><th scope=col>MouseID</th><th scope=col>Treatmentgroup</th><th scope=col>DPI</th><th scope=col>organ</th><th scope=col>well_position</th><th scope=col>plate</th><th scope=col>X141.091_1.54</th><th scope=col>X203.007_0.309</th><th scope=col>X240.116_2.324</th><th scope=col>...</th><th scope=col>X708.445_3.006</th><th scope=col>X709.936_2.18</th><th scope=col>X720.445_3.09</th><th scope=col>X737.391_2.399</th><th scope=col>X776.042_2.398</th><th scope=col>X776.095_2.398</th><th scope=col>X776.148_2.398</th><th scope=col>X776.359_2.398</th><th scope=col>X819.433_2.399</th><th scope=col>X867.281_2.399</th></tr></thead>\n",
       "<tbody>\n",
       "\t<tr><td>X511_Group1C_142dpi_LV_top_161_G_A1_P128.mzXML</td><td>511                                           </td><td>Group1C                                       </td><td>142dpi                                        </td><td>LV_top                                        </td><td>A1                                            </td><td>P128                                          </td><td>0.000150701                                   </td><td>0.000253054                                   </td><td>3.74e-05                                      </td><td>...                                           </td><td>0.000561014                                   </td><td>0                                             </td><td>0.00000000                                    </td><td>0.000083200                                   </td><td>0.000080700                                   </td><td>0.000135990                                   </td><td>0.000323401                                   </td><td>0.000323462                                   </td><td>0.000265376                                   </td><td>0.000099000                                   </td></tr>\n",
       "\t<tr><td>X512_Group1C_142dpi_LV_top_162_G_A2_P128.mzXML</td><td>512                                           </td><td>Group1C                                       </td><td>142dpi                                        </td><td>LV_top                                        </td><td>A2                                            </td><td>P128                                          </td><td>0.000360521                                   </td><td>0.000326035                                   </td><td>0.00e+00                                      </td><td>...                                           </td><td>0.000621951                                   </td><td>0                                             </td><td>0.00000000                                    </td><td>0.000082400                                   </td><td>0.000120213                                   </td><td>0.000151179                                   </td><td>0.000243702                                   </td><td>0.000214309                                   </td><td>0.000353256                                   </td><td>0.000135352                                   </td></tr>\n",
       "\t<tr><td>X513_Group1C_142dpi_LV_top_163_G_A3_P128.mzXML</td><td>513                                           </td><td>Group1C                                       </td><td>142dpi                                        </td><td>LV_top                                        </td><td>A3                                            </td><td>P128                                          </td><td>0.000115526                                   </td><td>0.000073000                                   </td><td>0.00e+00                                      </td><td>...                                           </td><td>0.000582842                                   </td><td>0                                             </td><td>0.00002720                                    </td><td>0.000042000                                   </td><td>0.000056100                                   </td><td>0.000157763                                   </td><td>0.000178871                                   </td><td>0.000202296                                   </td><td>0.000203821                                   </td><td>0.000092300                                   </td></tr>\n",
       "\t<tr><td>X514_Group1C_142dpi_LV_top_164_G_A4_P128.mzXML</td><td>514                                           </td><td>Group1C                                       </td><td>142dpi                                        </td><td>LV_top                                        </td><td>A4                                            </td><td>P128                                          </td><td>0.000249240                                   </td><td>0.000333486                                   </td><td>0.00e+00                                      </td><td>...                                           </td><td>0.000774688                                   </td><td>0                                             </td><td>0.00015684                                    </td><td>0.000065100                                   </td><td>0.000074200                                   </td><td>0.000248777                                   </td><td>0.000308660                                   </td><td>0.000307198                                   </td><td>0.000339938                                   </td><td>0.000099300                                   </td></tr>\n",
       "\t<tr><td>X515_Group1C_142dpi_LV_top_165_G_A5_P128.mzXML</td><td>515                                           </td><td>Group1C                                       </td><td>142dpi                                        </td><td>LV_top                                        </td><td>A5                                            </td><td>P128                                          </td><td>0.000166425                                   </td><td>0.000000000                                   </td><td>3.27e-05                                      </td><td>...                                           </td><td>0.000321481                                   </td><td>0                                             </td><td>0.00000000                                    </td><td>0.000196736                                   </td><td>0.000188043                                   </td><td>0.000370402                                   </td><td>0.000512506                                   </td><td>0.000582393                                   </td><td>0.000442618                                   </td><td>0.000209434                                   </td></tr>\n",
       "\t<tr><td>X531_Group1C_142dpi_LV_top_166_G_A6_P128.mzXML</td><td>531                                           </td><td>Group1C                                       </td><td>142dpi                                        </td><td>LV_top                                        </td><td>A6                                            </td><td>P128                                          </td><td>0.000142641                                   </td><td>0.000000000                                   </td><td>3.77e-05                                      </td><td>...                                           </td><td>0.000377722                                   </td><td>0                                             </td><td>0.00000000                                    </td><td>0.000247236                                   </td><td>0.000247236                                   </td><td>0.000430374                                   </td><td>0.000666165                                   </td><td>0.000762312                                   </td><td>0.000503630                                   </td><td>0.000338805                                   </td></tr>\n",
       "</tbody>\n",
       "</table>\n"
      ],
      "text/latex": [
       "\\begin{tabular}{r|lllllllllllllllllllllllllllllllllll}\n",
       " filename & MouseID & Treatmentgroup & DPI & organ & well\\_position & plate & X141.091\\_1.54 & X203.007\\_0.309 & X240.116\\_2.324 & ... & X708.445\\_3.006 & X709.936\\_2.18 & X720.445\\_3.09 & X737.391\\_2.399 & X776.042\\_2.398 & X776.095\\_2.398 & X776.148\\_2.398 & X776.359\\_2.398 & X819.433\\_2.399 & X867.281\\_2.399\\\\\n",
       "\\hline\n",
       "\t X511\\_Group1C\\_142dpi\\_LV\\_top\\_161\\_G\\_A1\\_P128.mzXML & 511                                                            & Group1C                                                        & 142dpi                                                         & LV\\_top                                                       & A1                                                             & P128                                                           & 0.000150701                                                    & 0.000253054                                                    & 3.74e-05                                                       & ...                                                            & 0.000561014                                                    & 0                                                              & 0.00000000                                                     & 0.000083200                                                    & 0.000080700                                                    & 0.000135990                                                    & 0.000323401                                                    & 0.000323462                                                    & 0.000265376                                                    & 0.000099000                                                   \\\\\n",
       "\t X512\\_Group1C\\_142dpi\\_LV\\_top\\_162\\_G\\_A2\\_P128.mzXML & 512                                                            & Group1C                                                        & 142dpi                                                         & LV\\_top                                                       & A2                                                             & P128                                                           & 0.000360521                                                    & 0.000326035                                                    & 0.00e+00                                                       & ...                                                            & 0.000621951                                                    & 0                                                              & 0.00000000                                                     & 0.000082400                                                    & 0.000120213                                                    & 0.000151179                                                    & 0.000243702                                                    & 0.000214309                                                    & 0.000353256                                                    & 0.000135352                                                   \\\\\n",
       "\t X513\\_Group1C\\_142dpi\\_LV\\_top\\_163\\_G\\_A3\\_P128.mzXML & 513                                                            & Group1C                                                        & 142dpi                                                         & LV\\_top                                                       & A3                                                             & P128                                                           & 0.000115526                                                    & 0.000073000                                                    & 0.00e+00                                                       & ...                                                            & 0.000582842                                                    & 0                                                              & 0.00002720                                                     & 0.000042000                                                    & 0.000056100                                                    & 0.000157763                                                    & 0.000178871                                                    & 0.000202296                                                    & 0.000203821                                                    & 0.000092300                                                   \\\\\n",
       "\t X514\\_Group1C\\_142dpi\\_LV\\_top\\_164\\_G\\_A4\\_P128.mzXML & 514                                                            & Group1C                                                        & 142dpi                                                         & LV\\_top                                                       & A4                                                             & P128                                                           & 0.000249240                                                    & 0.000333486                                                    & 0.00e+00                                                       & ...                                                            & 0.000774688                                                    & 0                                                              & 0.00015684                                                     & 0.000065100                                                    & 0.000074200                                                    & 0.000248777                                                    & 0.000308660                                                    & 0.000307198                                                    & 0.000339938                                                    & 0.000099300                                                   \\\\\n",
       "\t X515\\_Group1C\\_142dpi\\_LV\\_top\\_165\\_G\\_A5\\_P128.mzXML & 515                                                            & Group1C                                                        & 142dpi                                                         & LV\\_top                                                       & A5                                                             & P128                                                           & 0.000166425                                                    & 0.000000000                                                    & 3.27e-05                                                       & ...                                                            & 0.000321481                                                    & 0                                                              & 0.00000000                                                     & 0.000196736                                                    & 0.000188043                                                    & 0.000370402                                                    & 0.000512506                                                    & 0.000582393                                                    & 0.000442618                                                    & 0.000209434                                                   \\\\\n",
       "\t X531\\_Group1C\\_142dpi\\_LV\\_top\\_166\\_G\\_A6\\_P128.mzXML & 531                                                            & Group1C                                                        & 142dpi                                                         & LV\\_top                                                       & A6                                                             & P128                                                           & 0.000142641                                                    & 0.000000000                                                    & 3.77e-05                                                       & ...                                                            & 0.000377722                                                    & 0                                                              & 0.00000000                                                     & 0.000247236                                                    & 0.000247236                                                    & 0.000430374                                                    & 0.000666165                                                    & 0.000762312                                                    & 0.000503630                                                    & 0.000338805                                                   \\\\\n",
       "\\end{tabular}\n"
      ],
      "text/markdown": [
       "\n",
       "| filename | MouseID | Treatmentgroup | DPI | organ | well_position | plate | X141.091_1.54 | X203.007_0.309 | X240.116_2.324 | ... | X708.445_3.006 | X709.936_2.18 | X720.445_3.09 | X737.391_2.399 | X776.042_2.398 | X776.095_2.398 | X776.148_2.398 | X776.359_2.398 | X819.433_2.399 | X867.281_2.399 |\n",
       "|---|---|---|---|---|---|---|---|---|---|---|---|---|---|---|---|---|---|---|---|---|\n",
       "| X511_Group1C_142dpi_LV_top_161_G_A1_P128.mzXML | 511                                            | Group1C                                        | 142dpi                                         | LV_top                                         | A1                                             | P128                                           | 0.000150701                                    | 0.000253054                                    | 3.74e-05                                       | ...                                            | 0.000561014                                    | 0                                              | 0.00000000                                     | 0.000083200                                    | 0.000080700                                    | 0.000135990                                    | 0.000323401                                    | 0.000323462                                    | 0.000265376                                    | 0.000099000                                    |\n",
       "| X512_Group1C_142dpi_LV_top_162_G_A2_P128.mzXML | 512                                            | Group1C                                        | 142dpi                                         | LV_top                                         | A2                                             | P128                                           | 0.000360521                                    | 0.000326035                                    | 0.00e+00                                       | ...                                            | 0.000621951                                    | 0                                              | 0.00000000                                     | 0.000082400                                    | 0.000120213                                    | 0.000151179                                    | 0.000243702                                    | 0.000214309                                    | 0.000353256                                    | 0.000135352                                    |\n",
       "| X513_Group1C_142dpi_LV_top_163_G_A3_P128.mzXML | 513                                            | Group1C                                        | 142dpi                                         | LV_top                                         | A3                                             | P128                                           | 0.000115526                                    | 0.000073000                                    | 0.00e+00                                       | ...                                            | 0.000582842                                    | 0                                              | 0.00002720                                     | 0.000042000                                    | 0.000056100                                    | 0.000157763                                    | 0.000178871                                    | 0.000202296                                    | 0.000203821                                    | 0.000092300                                    |\n",
       "| X514_Group1C_142dpi_LV_top_164_G_A4_P128.mzXML | 514                                            | Group1C                                        | 142dpi                                         | LV_top                                         | A4                                             | P128                                           | 0.000249240                                    | 0.000333486                                    | 0.00e+00                                       | ...                                            | 0.000774688                                    | 0                                              | 0.00015684                                     | 0.000065100                                    | 0.000074200                                    | 0.000248777                                    | 0.000308660                                    | 0.000307198                                    | 0.000339938                                    | 0.000099300                                    |\n",
       "| X515_Group1C_142dpi_LV_top_165_G_A5_P128.mzXML | 515                                            | Group1C                                        | 142dpi                                         | LV_top                                         | A5                                             | P128                                           | 0.000166425                                    | 0.000000000                                    | 3.27e-05                                       | ...                                            | 0.000321481                                    | 0                                              | 0.00000000                                     | 0.000196736                                    | 0.000188043                                    | 0.000370402                                    | 0.000512506                                    | 0.000582393                                    | 0.000442618                                    | 0.000209434                                    |\n",
       "| X531_Group1C_142dpi_LV_top_166_G_A6_P128.mzXML | 531                                            | Group1C                                        | 142dpi                                         | LV_top                                         | A6                                             | P128                                           | 0.000142641                                    | 0.000000000                                    | 3.77e-05                                       | ...                                            | 0.000377722                                    | 0                                              | 0.00000000                                     | 0.000247236                                    | 0.000247236                                    | 0.000430374                                    | 0.000666165                                    | 0.000762312                                    | 0.000503630                                    | 0.000338805                                    |\n",
       "\n"
      ],
      "text/plain": [
       "  filename                                       MouseID Treatmentgroup DPI   \n",
       "1 X511_Group1C_142dpi_LV_top_161_G_A1_P128.mzXML 511     Group1C        142dpi\n",
       "2 X512_Group1C_142dpi_LV_top_162_G_A2_P128.mzXML 512     Group1C        142dpi\n",
       "3 X513_Group1C_142dpi_LV_top_163_G_A3_P128.mzXML 513     Group1C        142dpi\n",
       "4 X514_Group1C_142dpi_LV_top_164_G_A4_P128.mzXML 514     Group1C        142dpi\n",
       "5 X515_Group1C_142dpi_LV_top_165_G_A5_P128.mzXML 515     Group1C        142dpi\n",
       "6 X531_Group1C_142dpi_LV_top_166_G_A6_P128.mzXML 531     Group1C        142dpi\n",
       "  organ  well_position plate X141.091_1.54 X203.007_0.309 X240.116_2.324 ...\n",
       "1 LV_top A1            P128  0.000150701   0.000253054    3.74e-05       ...\n",
       "2 LV_top A2            P128  0.000360521   0.000326035    0.00e+00       ...\n",
       "3 LV_top A3            P128  0.000115526   0.000073000    0.00e+00       ...\n",
       "4 LV_top A4            P128  0.000249240   0.000333486    0.00e+00       ...\n",
       "5 LV_top A5            P128  0.000166425   0.000000000    3.27e-05       ...\n",
       "6 LV_top A6            P128  0.000142641   0.000000000    3.77e-05       ...\n",
       "  X708.445_3.006 X709.936_2.18 X720.445_3.09 X737.391_2.399 X776.042_2.398\n",
       "1 0.000561014    0             0.00000000    0.000083200    0.000080700   \n",
       "2 0.000621951    0             0.00000000    0.000082400    0.000120213   \n",
       "3 0.000582842    0             0.00002720    0.000042000    0.000056100   \n",
       "4 0.000774688    0             0.00015684    0.000065100    0.000074200   \n",
       "5 0.000321481    0             0.00000000    0.000196736    0.000188043   \n",
       "6 0.000377722    0             0.00000000    0.000247236    0.000247236   \n",
       "  X776.095_2.398 X776.148_2.398 X776.359_2.398 X819.433_2.399 X867.281_2.399\n",
       "1 0.000135990    0.000323401    0.000323462    0.000265376    0.000099000   \n",
       "2 0.000151179    0.000243702    0.000214309    0.000353256    0.000135352   \n",
       "3 0.000157763    0.000178871    0.000202296    0.000203821    0.000092300   \n",
       "4 0.000248777    0.000308660    0.000307198    0.000339938    0.000099300   \n",
       "5 0.000370402    0.000512506    0.000582393    0.000442618    0.000209434   \n",
       "6 0.000430374    0.000666165    0.000762312    0.000503630    0.000338805   "
      ]
     },
     "metadata": {},
     "output_type": "display_data"
    },
    {
     "data": {
      "text/html": [
       "<ol class=list-inline>\n",
       "\t<li>60</li>\n",
       "\t<li>35</li>\n",
       "</ol>\n"
      ],
      "text/latex": [
       "\\begin{enumerate*}\n",
       "\\item 60\n",
       "\\item 35\n",
       "\\end{enumerate*}\n"
      ],
      "text/markdown": [
       "1. 60\n",
       "2. 35\n",
       "\n",
       "\n"
      ],
      "text/plain": [
       "[1] 60 35"
      ]
     },
     "metadata": {},
     "output_type": "display_data"
    }
   ],
   "source": [
    "head(a)\n",
    "dim(a)"
   ]
  },
  {
   "cell_type": "code",
   "execution_count": 6,
   "metadata": {},
   "outputs": [
    {
     "data": {
      "text/html": [
       "<table>\n",
       "<thead><tr><th scope=col>filename</th><th scope=col>MouseID</th><th scope=col>Treatmentgroup</th><th scope=col>DPI</th><th scope=col>organ</th><th scope=col>well_position</th><th scope=col>plate</th><th scope=col>X141.091_1.54</th><th scope=col>X203.007_0.309</th><th scope=col>X240.116_2.324</th><th scope=col>...</th><th scope=col>X708.445_3.006</th><th scope=col>X709.936_2.18</th><th scope=col>X720.445_3.09</th><th scope=col>X737.391_2.399</th><th scope=col>X776.042_2.398</th><th scope=col>X776.095_2.398</th><th scope=col>X776.148_2.398</th><th scope=col>X776.359_2.398</th><th scope=col>X819.433_2.399</th><th scope=col>X867.281_2.399</th></tr></thead>\n",
       "<tbody>\n",
       "\t<tr><td>X511_Group1C_142dpi_LV_top_161_G_A1_P128.mzXML</td><td>511                                           </td><td>Group1C                                       </td><td>142dpi                                        </td><td>LV_top                                        </td><td>A1                                            </td><td>P128                                          </td><td>0.000150701                                   </td><td>0.000253054                                   </td><td>3.74e-05                                      </td><td>...                                           </td><td>0.000561014                                   </td><td>0                                             </td><td>0.00000000                                    </td><td>0.000083200                                   </td><td>0.000080700                                   </td><td>0.000135990                                   </td><td>0.000323401                                   </td><td>0.000323462                                   </td><td>0.000265376                                   </td><td>0.000099000                                   </td></tr>\n",
       "\t<tr><td>X512_Group1C_142dpi_LV_top_162_G_A2_P128.mzXML</td><td>512                                           </td><td>Group1C                                       </td><td>142dpi                                        </td><td>LV_top                                        </td><td>A2                                            </td><td>P128                                          </td><td>0.000360521                                   </td><td>0.000326035                                   </td><td>0.00e+00                                      </td><td>...                                           </td><td>0.000621951                                   </td><td>0                                             </td><td>0.00000000                                    </td><td>0.000082400                                   </td><td>0.000120213                                   </td><td>0.000151179                                   </td><td>0.000243702                                   </td><td>0.000214309                                   </td><td>0.000353256                                   </td><td>0.000135352                                   </td></tr>\n",
       "\t<tr><td>X513_Group1C_142dpi_LV_top_163_G_A3_P128.mzXML</td><td>513                                           </td><td>Group1C                                       </td><td>142dpi                                        </td><td>LV_top                                        </td><td>A3                                            </td><td>P128                                          </td><td>0.000115526                                   </td><td>0.000073000                                   </td><td>0.00e+00                                      </td><td>...                                           </td><td>0.000582842                                   </td><td>0                                             </td><td>0.00002720                                    </td><td>0.000042000                                   </td><td>0.000056100                                   </td><td>0.000157763                                   </td><td>0.000178871                                   </td><td>0.000202296                                   </td><td>0.000203821                                   </td><td>0.000092300                                   </td></tr>\n",
       "\t<tr><td>X514_Group1C_142dpi_LV_top_164_G_A4_P128.mzXML</td><td>514                                           </td><td>Group1C                                       </td><td>142dpi                                        </td><td>LV_top                                        </td><td>A4                                            </td><td>P128                                          </td><td>0.000249240                                   </td><td>0.000333486                                   </td><td>0.00e+00                                      </td><td>...                                           </td><td>0.000774688                                   </td><td>0                                             </td><td>0.00015684                                    </td><td>0.000065100                                   </td><td>0.000074200                                   </td><td>0.000248777                                   </td><td>0.000308660                                   </td><td>0.000307198                                   </td><td>0.000339938                                   </td><td>0.000099300                                   </td></tr>\n",
       "\t<tr><td>X515_Group1C_142dpi_LV_top_165_G_A5_P128.mzXML</td><td>515                                           </td><td>Group1C                                       </td><td>142dpi                                        </td><td>LV_top                                        </td><td>A5                                            </td><td>P128                                          </td><td>0.000166425                                   </td><td>0.000000000                                   </td><td>3.27e-05                                      </td><td>...                                           </td><td>0.000321481                                   </td><td>0                                             </td><td>0.00000000                                    </td><td>0.000196736                                   </td><td>0.000188043                                   </td><td>0.000370402                                   </td><td>0.000512506                                   </td><td>0.000582393                                   </td><td>0.000442618                                   </td><td>0.000209434                                   </td></tr>\n",
       "\t<tr><td>X531_Group1C_142dpi_LV_top_166_G_A6_P128.mzXML</td><td>531                                           </td><td>Group1C                                       </td><td>142dpi                                        </td><td>LV_top                                        </td><td>A6                                            </td><td>P128                                          </td><td>0.000142641                                   </td><td>0.000000000                                   </td><td>3.77e-05                                      </td><td>...                                           </td><td>0.000377722                                   </td><td>0                                             </td><td>0.00000000                                    </td><td>0.000247236                                   </td><td>0.000247236                                   </td><td>0.000430374                                   </td><td>0.000666165                                   </td><td>0.000762312                                   </td><td>0.000503630                                   </td><td>0.000338805                                   </td></tr>\n",
       "</tbody>\n",
       "</table>\n"
      ],
      "text/latex": [
       "\\begin{tabular}{r|lllllllllllllllllllllllllllllllllll}\n",
       " filename & MouseID & Treatmentgroup & DPI & organ & well\\_position & plate & X141.091\\_1.54 & X203.007\\_0.309 & X240.116\\_2.324 & ... & X708.445\\_3.006 & X709.936\\_2.18 & X720.445\\_3.09 & X737.391\\_2.399 & X776.042\\_2.398 & X776.095\\_2.398 & X776.148\\_2.398 & X776.359\\_2.398 & X819.433\\_2.399 & X867.281\\_2.399\\\\\n",
       "\\hline\n",
       "\t X511\\_Group1C\\_142dpi\\_LV\\_top\\_161\\_G\\_A1\\_P128.mzXML & 511                                                            & Group1C                                                        & 142dpi                                                         & LV\\_top                                                       & A1                                                             & P128                                                           & 0.000150701                                                    & 0.000253054                                                    & 3.74e-05                                                       & ...                                                            & 0.000561014                                                    & 0                                                              & 0.00000000                                                     & 0.000083200                                                    & 0.000080700                                                    & 0.000135990                                                    & 0.000323401                                                    & 0.000323462                                                    & 0.000265376                                                    & 0.000099000                                                   \\\\\n",
       "\t X512\\_Group1C\\_142dpi\\_LV\\_top\\_162\\_G\\_A2\\_P128.mzXML & 512                                                            & Group1C                                                        & 142dpi                                                         & LV\\_top                                                       & A2                                                             & P128                                                           & 0.000360521                                                    & 0.000326035                                                    & 0.00e+00                                                       & ...                                                            & 0.000621951                                                    & 0                                                              & 0.00000000                                                     & 0.000082400                                                    & 0.000120213                                                    & 0.000151179                                                    & 0.000243702                                                    & 0.000214309                                                    & 0.000353256                                                    & 0.000135352                                                   \\\\\n",
       "\t X513\\_Group1C\\_142dpi\\_LV\\_top\\_163\\_G\\_A3\\_P128.mzXML & 513                                                            & Group1C                                                        & 142dpi                                                         & LV\\_top                                                       & A3                                                             & P128                                                           & 0.000115526                                                    & 0.000073000                                                    & 0.00e+00                                                       & ...                                                            & 0.000582842                                                    & 0                                                              & 0.00002720                                                     & 0.000042000                                                    & 0.000056100                                                    & 0.000157763                                                    & 0.000178871                                                    & 0.000202296                                                    & 0.000203821                                                    & 0.000092300                                                   \\\\\n",
       "\t X514\\_Group1C\\_142dpi\\_LV\\_top\\_164\\_G\\_A4\\_P128.mzXML & 514                                                            & Group1C                                                        & 142dpi                                                         & LV\\_top                                                       & A4                                                             & P128                                                           & 0.000249240                                                    & 0.000333486                                                    & 0.00e+00                                                       & ...                                                            & 0.000774688                                                    & 0                                                              & 0.00015684                                                     & 0.000065100                                                    & 0.000074200                                                    & 0.000248777                                                    & 0.000308660                                                    & 0.000307198                                                    & 0.000339938                                                    & 0.000099300                                                   \\\\\n",
       "\t X515\\_Group1C\\_142dpi\\_LV\\_top\\_165\\_G\\_A5\\_P128.mzXML & 515                                                            & Group1C                                                        & 142dpi                                                         & LV\\_top                                                       & A5                                                             & P128                                                           & 0.000166425                                                    & 0.000000000                                                    & 3.27e-05                                                       & ...                                                            & 0.000321481                                                    & 0                                                              & 0.00000000                                                     & 0.000196736                                                    & 0.000188043                                                    & 0.000370402                                                    & 0.000512506                                                    & 0.000582393                                                    & 0.000442618                                                    & 0.000209434                                                   \\\\\n",
       "\t X531\\_Group1C\\_142dpi\\_LV\\_top\\_166\\_G\\_A6\\_P128.mzXML & 531                                                            & Group1C                                                        & 142dpi                                                         & LV\\_top                                                       & A6                                                             & P128                                                           & 0.000142641                                                    & 0.000000000                                                    & 3.77e-05                                                       & ...                                                            & 0.000377722                                                    & 0                                                              & 0.00000000                                                     & 0.000247236                                                    & 0.000247236                                                    & 0.000430374                                                    & 0.000666165                                                    & 0.000762312                                                    & 0.000503630                                                    & 0.000338805                                                   \\\\\n",
       "\\end{tabular}\n"
      ],
      "text/markdown": [
       "\n",
       "| filename | MouseID | Treatmentgroup | DPI | organ | well_position | plate | X141.091_1.54 | X203.007_0.309 | X240.116_2.324 | ... | X708.445_3.006 | X709.936_2.18 | X720.445_3.09 | X737.391_2.399 | X776.042_2.398 | X776.095_2.398 | X776.148_2.398 | X776.359_2.398 | X819.433_2.399 | X867.281_2.399 |\n",
       "|---|---|---|---|---|---|---|---|---|---|---|---|---|---|---|---|---|---|---|---|---|\n",
       "| X511_Group1C_142dpi_LV_top_161_G_A1_P128.mzXML | 511                                            | Group1C                                        | 142dpi                                         | LV_top                                         | A1                                             | P128                                           | 0.000150701                                    | 0.000253054                                    | 3.74e-05                                       | ...                                            | 0.000561014                                    | 0                                              | 0.00000000                                     | 0.000083200                                    | 0.000080700                                    | 0.000135990                                    | 0.000323401                                    | 0.000323462                                    | 0.000265376                                    | 0.000099000                                    |\n",
       "| X512_Group1C_142dpi_LV_top_162_G_A2_P128.mzXML | 512                                            | Group1C                                        | 142dpi                                         | LV_top                                         | A2                                             | P128                                           | 0.000360521                                    | 0.000326035                                    | 0.00e+00                                       | ...                                            | 0.000621951                                    | 0                                              | 0.00000000                                     | 0.000082400                                    | 0.000120213                                    | 0.000151179                                    | 0.000243702                                    | 0.000214309                                    | 0.000353256                                    | 0.000135352                                    |\n",
       "| X513_Group1C_142dpi_LV_top_163_G_A3_P128.mzXML | 513                                            | Group1C                                        | 142dpi                                         | LV_top                                         | A3                                             | P128                                           | 0.000115526                                    | 0.000073000                                    | 0.00e+00                                       | ...                                            | 0.000582842                                    | 0                                              | 0.00002720                                     | 0.000042000                                    | 0.000056100                                    | 0.000157763                                    | 0.000178871                                    | 0.000202296                                    | 0.000203821                                    | 0.000092300                                    |\n",
       "| X514_Group1C_142dpi_LV_top_164_G_A4_P128.mzXML | 514                                            | Group1C                                        | 142dpi                                         | LV_top                                         | A4                                             | P128                                           | 0.000249240                                    | 0.000333486                                    | 0.00e+00                                       | ...                                            | 0.000774688                                    | 0                                              | 0.00015684                                     | 0.000065100                                    | 0.000074200                                    | 0.000248777                                    | 0.000308660                                    | 0.000307198                                    | 0.000339938                                    | 0.000099300                                    |\n",
       "| X515_Group1C_142dpi_LV_top_165_G_A5_P128.mzXML | 515                                            | Group1C                                        | 142dpi                                         | LV_top                                         | A5                                             | P128                                           | 0.000166425                                    | 0.000000000                                    | 3.27e-05                                       | ...                                            | 0.000321481                                    | 0                                              | 0.00000000                                     | 0.000196736                                    | 0.000188043                                    | 0.000370402                                    | 0.000512506                                    | 0.000582393                                    | 0.000442618                                    | 0.000209434                                    |\n",
       "| X531_Group1C_142dpi_LV_top_166_G_A6_P128.mzXML | 531                                            | Group1C                                        | 142dpi                                         | LV_top                                         | A6                                             | P128                                           | 0.000142641                                    | 0.000000000                                    | 3.77e-05                                       | ...                                            | 0.000377722                                    | 0                                              | 0.00000000                                     | 0.000247236                                    | 0.000247236                                    | 0.000430374                                    | 0.000666165                                    | 0.000762312                                    | 0.000503630                                    | 0.000338805                                    |\n",
       "\n"
      ],
      "text/plain": [
       "  filename                                       MouseID Treatmentgroup DPI   \n",
       "1 X511_Group1C_142dpi_LV_top_161_G_A1_P128.mzXML 511     Group1C        142dpi\n",
       "2 X512_Group1C_142dpi_LV_top_162_G_A2_P128.mzXML 512     Group1C        142dpi\n",
       "3 X513_Group1C_142dpi_LV_top_163_G_A3_P128.mzXML 513     Group1C        142dpi\n",
       "4 X514_Group1C_142dpi_LV_top_164_G_A4_P128.mzXML 514     Group1C        142dpi\n",
       "5 X515_Group1C_142dpi_LV_top_165_G_A5_P128.mzXML 515     Group1C        142dpi\n",
       "6 X531_Group1C_142dpi_LV_top_166_G_A6_P128.mzXML 531     Group1C        142dpi\n",
       "  organ  well_position plate X141.091_1.54 X203.007_0.309 X240.116_2.324 ...\n",
       "1 LV_top A1            P128  0.000150701   0.000253054    3.74e-05       ...\n",
       "2 LV_top A2            P128  0.000360521   0.000326035    0.00e+00       ...\n",
       "3 LV_top A3            P128  0.000115526   0.000073000    0.00e+00       ...\n",
       "4 LV_top A4            P128  0.000249240   0.000333486    0.00e+00       ...\n",
       "5 LV_top A5            P128  0.000166425   0.000000000    3.27e-05       ...\n",
       "6 LV_top A6            P128  0.000142641   0.000000000    3.77e-05       ...\n",
       "  X708.445_3.006 X709.936_2.18 X720.445_3.09 X737.391_2.399 X776.042_2.398\n",
       "1 0.000561014    0             0.00000000    0.000083200    0.000080700   \n",
       "2 0.000621951    0             0.00000000    0.000082400    0.000120213   \n",
       "3 0.000582842    0             0.00002720    0.000042000    0.000056100   \n",
       "4 0.000774688    0             0.00015684    0.000065100    0.000074200   \n",
       "5 0.000321481    0             0.00000000    0.000196736    0.000188043   \n",
       "6 0.000377722    0             0.00000000    0.000247236    0.000247236   \n",
       "  X776.095_2.398 X776.148_2.398 X776.359_2.398 X819.433_2.399 X867.281_2.399\n",
       "1 0.000135990    0.000323401    0.000323462    0.000265376    0.000099000   \n",
       "2 0.000151179    0.000243702    0.000214309    0.000353256    0.000135352   \n",
       "3 0.000157763    0.000178871    0.000202296    0.000203821    0.000092300   \n",
       "4 0.000248777    0.000308660    0.000307198    0.000339938    0.000099300   \n",
       "5 0.000370402    0.000512506    0.000582393    0.000442618    0.000209434   \n",
       "6 0.000430374    0.000666165    0.000762312    0.000503630    0.000338805   "
      ]
     },
     "metadata": {},
     "output_type": "display_data"
    },
    {
     "data": {
      "text/html": [
       "<ol class=list-inline>\n",
       "\t<li>30</li>\n",
       "\t<li>35</li>\n",
       "</ol>\n"
      ],
      "text/latex": [
       "\\begin{enumerate*}\n",
       "\\item 30\n",
       "\\item 35\n",
       "\\end{enumerate*}\n"
      ],
      "text/markdown": [
       "1. 30\n",
       "2. 35\n",
       "\n",
       "\n"
      ],
      "text/plain": [
       "[1] 30 35"
      ]
     },
     "metadata": {},
     "output_type": "display_data"
    }
   ],
   "source": [
    "# choose the lung posistion\n",
    "features_pos<-droplevels(subset(a, a$Treatmentgroup==c(\"Group9\")|a$Treatmentgroup==c(\"Group1C\")))\n",
    "head(features_pos)\n",
    "dim(features_pos)"
   ]
  },
  {
   "cell_type": "code",
   "execution_count": 7,
   "metadata": {
    "scrolled": false
   },
   "outputs": [
    {
     "data": {
      "text/html": [
       "<table>\n",
       "<thead><tr><th scope=col>X141.091_1.54</th><th scope=col>X203.007_0.309</th><th scope=col>X240.116_2.324</th><th scope=col>X249.112_2.768</th><th scope=col>X272.222_2.957</th><th scope=col>X293.211_2.931</th><th scope=col>X293.211_2.934</th><th scope=col>X296.258_2.976</th><th scope=col>X311.221_2.932</th><th scope=col>X345.243_3.095</th><th scope=col>...</th><th scope=col>X708.445_3.006</th><th scope=col>X709.936_2.18</th><th scope=col>X720.445_3.09</th><th scope=col>X737.391_2.399</th><th scope=col>X776.042_2.398</th><th scope=col>X776.095_2.398</th><th scope=col>X776.148_2.398</th><th scope=col>X776.359_2.398</th><th scope=col>X819.433_2.399</th><th scope=col>X867.281_2.399</th></tr></thead>\n",
       "<tbody>\n",
       "\t<tr><td>0.000150701</td><td>0.000253054</td><td>3.74e-05   </td><td>0.00e+00   </td><td>0.007567170</td><td>0.000782811</td><td>0          </td><td>0.000350953</td><td>0.000752368</td><td>0.000152189</td><td>...        </td><td>0.000561014</td><td>0          </td><td>0.00000000 </td><td>0.000083200</td><td>0.000080700</td><td>0.000135990</td><td>0.000323401</td><td>0.000323462</td><td>0.000265376</td><td>0.000099000</td></tr>\n",
       "\t<tr><td>0.000360521</td><td>0.000326035</td><td>0.00e+00   </td><td>0.00e+00   </td><td>0.001526131</td><td>0.000543553</td><td>0          </td><td>0.000377629</td><td>0.000448609</td><td>0.000046100</td><td>...        </td><td>0.000621951</td><td>0          </td><td>0.00000000 </td><td>0.000082400</td><td>0.000120213</td><td>0.000151179</td><td>0.000243702</td><td>0.000214309</td><td>0.000353256</td><td>0.000135352</td></tr>\n",
       "\t<tr><td>0.000115526</td><td>0.000073000</td><td>0.00e+00   </td><td>0.00e+00   </td><td>0.003657633</td><td>0.000573921</td><td>0          </td><td>0.000186536</td><td>0.000502553</td><td>0.000268739</td><td>...        </td><td>0.000582842</td><td>0          </td><td>0.00002720 </td><td>0.000042000</td><td>0.000056100</td><td>0.000157763</td><td>0.000178871</td><td>0.000202296</td><td>0.000203821</td><td>0.000092300</td></tr>\n",
       "\t<tr><td>0.000249240</td><td>0.000333486</td><td>0.00e+00   </td><td>0.00e+00   </td><td>0.001514945</td><td>0.000671396</td><td>0          </td><td>0.000306359</td><td>0.000682873</td><td>0.000045900</td><td>...        </td><td>0.000774688</td><td>0          </td><td>0.00015684 </td><td>0.000065100</td><td>0.000074200</td><td>0.000248777</td><td>0.000308660</td><td>0.000307198</td><td>0.000339938</td><td>0.000099300</td></tr>\n",
       "\t<tr><td>0.000166425</td><td>0.000000000</td><td>3.27e-05   </td><td>1.86e-05   </td><td>0.001143819</td><td>0.000882907</td><td>0          </td><td>0.000181573</td><td>0.000850293</td><td>0.000384379</td><td>...        </td><td>0.000321481</td><td>0          </td><td>0.00000000 </td><td>0.000196736</td><td>0.000188043</td><td>0.000370402</td><td>0.000512506</td><td>0.000582393</td><td>0.000442618</td><td>0.000209434</td></tr>\n",
       "\t<tr><td>0.000142641</td><td>0.000000000</td><td>3.77e-05   </td><td>4.46e-05   </td><td>0.004051929</td><td>0.000638694</td><td>0          </td><td>0.000244947</td><td>0.000494473</td><td>0.000302178</td><td>...        </td><td>0.000377722</td><td>0          </td><td>0.00000000 </td><td>0.000247236</td><td>0.000247236</td><td>0.000430374</td><td>0.000666165</td><td>0.000762312</td><td>0.000503630</td><td>0.000338805</td></tr>\n",
       "</tbody>\n",
       "</table>\n"
      ],
      "text/latex": [
       "\\begin{tabular}{r|llllllllllllllllllllllllllll}\n",
       " X141.091\\_1.54 & X203.007\\_0.309 & X240.116\\_2.324 & X249.112\\_2.768 & X272.222\\_2.957 & X293.211\\_2.931 & X293.211\\_2.934 & X296.258\\_2.976 & X311.221\\_2.932 & X345.243\\_3.095 & ... & X708.445\\_3.006 & X709.936\\_2.18 & X720.445\\_3.09 & X737.391\\_2.399 & X776.042\\_2.398 & X776.095\\_2.398 & X776.148\\_2.398 & X776.359\\_2.398 & X819.433\\_2.399 & X867.281\\_2.399\\\\\n",
       "\\hline\n",
       "\t 0.000150701 & 0.000253054 & 3.74e-05    & 0.00e+00    & 0.007567170 & 0.000782811 & 0           & 0.000350953 & 0.000752368 & 0.000152189 & ...         & 0.000561014 & 0           & 0.00000000  & 0.000083200 & 0.000080700 & 0.000135990 & 0.000323401 & 0.000323462 & 0.000265376 & 0.000099000\\\\\n",
       "\t 0.000360521 & 0.000326035 & 0.00e+00    & 0.00e+00    & 0.001526131 & 0.000543553 & 0           & 0.000377629 & 0.000448609 & 0.000046100 & ...         & 0.000621951 & 0           & 0.00000000  & 0.000082400 & 0.000120213 & 0.000151179 & 0.000243702 & 0.000214309 & 0.000353256 & 0.000135352\\\\\n",
       "\t 0.000115526 & 0.000073000 & 0.00e+00    & 0.00e+00    & 0.003657633 & 0.000573921 & 0           & 0.000186536 & 0.000502553 & 0.000268739 & ...         & 0.000582842 & 0           & 0.00002720  & 0.000042000 & 0.000056100 & 0.000157763 & 0.000178871 & 0.000202296 & 0.000203821 & 0.000092300\\\\\n",
       "\t 0.000249240 & 0.000333486 & 0.00e+00    & 0.00e+00    & 0.001514945 & 0.000671396 & 0           & 0.000306359 & 0.000682873 & 0.000045900 & ...         & 0.000774688 & 0           & 0.00015684  & 0.000065100 & 0.000074200 & 0.000248777 & 0.000308660 & 0.000307198 & 0.000339938 & 0.000099300\\\\\n",
       "\t 0.000166425 & 0.000000000 & 3.27e-05    & 1.86e-05    & 0.001143819 & 0.000882907 & 0           & 0.000181573 & 0.000850293 & 0.000384379 & ...         & 0.000321481 & 0           & 0.00000000  & 0.000196736 & 0.000188043 & 0.000370402 & 0.000512506 & 0.000582393 & 0.000442618 & 0.000209434\\\\\n",
       "\t 0.000142641 & 0.000000000 & 3.77e-05    & 4.46e-05    & 0.004051929 & 0.000638694 & 0           & 0.000244947 & 0.000494473 & 0.000302178 & ...         & 0.000377722 & 0           & 0.00000000  & 0.000247236 & 0.000247236 & 0.000430374 & 0.000666165 & 0.000762312 & 0.000503630 & 0.000338805\\\\\n",
       "\\end{tabular}\n"
      ],
      "text/markdown": [
       "\n",
       "| X141.091_1.54 | X203.007_0.309 | X240.116_2.324 | X249.112_2.768 | X272.222_2.957 | X293.211_2.931 | X293.211_2.934 | X296.258_2.976 | X311.221_2.932 | X345.243_3.095 | ... | X708.445_3.006 | X709.936_2.18 | X720.445_3.09 | X737.391_2.399 | X776.042_2.398 | X776.095_2.398 | X776.148_2.398 | X776.359_2.398 | X819.433_2.399 | X867.281_2.399 |\n",
       "|---|---|---|---|---|---|---|---|---|---|---|---|---|---|---|---|---|---|---|---|---|\n",
       "| 0.000150701 | 0.000253054 | 3.74e-05    | 0.00e+00    | 0.007567170 | 0.000782811 | 0           | 0.000350953 | 0.000752368 | 0.000152189 | ...         | 0.000561014 | 0           | 0.00000000  | 0.000083200 | 0.000080700 | 0.000135990 | 0.000323401 | 0.000323462 | 0.000265376 | 0.000099000 |\n",
       "| 0.000360521 | 0.000326035 | 0.00e+00    | 0.00e+00    | 0.001526131 | 0.000543553 | 0           | 0.000377629 | 0.000448609 | 0.000046100 | ...         | 0.000621951 | 0           | 0.00000000  | 0.000082400 | 0.000120213 | 0.000151179 | 0.000243702 | 0.000214309 | 0.000353256 | 0.000135352 |\n",
       "| 0.000115526 | 0.000073000 | 0.00e+00    | 0.00e+00    | 0.003657633 | 0.000573921 | 0           | 0.000186536 | 0.000502553 | 0.000268739 | ...         | 0.000582842 | 0           | 0.00002720  | 0.000042000 | 0.000056100 | 0.000157763 | 0.000178871 | 0.000202296 | 0.000203821 | 0.000092300 |\n",
       "| 0.000249240 | 0.000333486 | 0.00e+00    | 0.00e+00    | 0.001514945 | 0.000671396 | 0           | 0.000306359 | 0.000682873 | 0.000045900 | ...         | 0.000774688 | 0           | 0.00015684  | 0.000065100 | 0.000074200 | 0.000248777 | 0.000308660 | 0.000307198 | 0.000339938 | 0.000099300 |\n",
       "| 0.000166425 | 0.000000000 | 3.27e-05    | 1.86e-05    | 0.001143819 | 0.000882907 | 0           | 0.000181573 | 0.000850293 | 0.000384379 | ...         | 0.000321481 | 0           | 0.00000000  | 0.000196736 | 0.000188043 | 0.000370402 | 0.000512506 | 0.000582393 | 0.000442618 | 0.000209434 |\n",
       "| 0.000142641 | 0.000000000 | 3.77e-05    | 4.46e-05    | 0.004051929 | 0.000638694 | 0           | 0.000244947 | 0.000494473 | 0.000302178 | ...         | 0.000377722 | 0           | 0.00000000  | 0.000247236 | 0.000247236 | 0.000430374 | 0.000666165 | 0.000762312 | 0.000503630 | 0.000338805 |\n",
       "\n"
      ],
      "text/plain": [
       "  X141.091_1.54 X203.007_0.309 X240.116_2.324 X249.112_2.768 X272.222_2.957\n",
       "1 0.000150701   0.000253054    3.74e-05       0.00e+00       0.007567170   \n",
       "2 0.000360521   0.000326035    0.00e+00       0.00e+00       0.001526131   \n",
       "3 0.000115526   0.000073000    0.00e+00       0.00e+00       0.003657633   \n",
       "4 0.000249240   0.000333486    0.00e+00       0.00e+00       0.001514945   \n",
       "5 0.000166425   0.000000000    3.27e-05       1.86e-05       0.001143819   \n",
       "6 0.000142641   0.000000000    3.77e-05       4.46e-05       0.004051929   \n",
       "  X293.211_2.931 X293.211_2.934 X296.258_2.976 X311.221_2.932 X345.243_3.095\n",
       "1 0.000782811    0              0.000350953    0.000752368    0.000152189   \n",
       "2 0.000543553    0              0.000377629    0.000448609    0.000046100   \n",
       "3 0.000573921    0              0.000186536    0.000502553    0.000268739   \n",
       "4 0.000671396    0              0.000306359    0.000682873    0.000045900   \n",
       "5 0.000882907    0              0.000181573    0.000850293    0.000384379   \n",
       "6 0.000638694    0              0.000244947    0.000494473    0.000302178   \n",
       "  ... X708.445_3.006 X709.936_2.18 X720.445_3.09 X737.391_2.399 X776.042_2.398\n",
       "1 ... 0.000561014    0             0.00000000    0.000083200    0.000080700   \n",
       "2 ... 0.000621951    0             0.00000000    0.000082400    0.000120213   \n",
       "3 ... 0.000582842    0             0.00002720    0.000042000    0.000056100   \n",
       "4 ... 0.000774688    0             0.00015684    0.000065100    0.000074200   \n",
       "5 ... 0.000321481    0             0.00000000    0.000196736    0.000188043   \n",
       "6 ... 0.000377722    0             0.00000000    0.000247236    0.000247236   \n",
       "  X776.095_2.398 X776.148_2.398 X776.359_2.398 X819.433_2.399 X867.281_2.399\n",
       "1 0.000135990    0.000323401    0.000323462    0.000265376    0.000099000   \n",
       "2 0.000151179    0.000243702    0.000214309    0.000353256    0.000135352   \n",
       "3 0.000157763    0.000178871    0.000202296    0.000203821    0.000092300   \n",
       "4 0.000248777    0.000308660    0.000307198    0.000339938    0.000099300   \n",
       "5 0.000370402    0.000512506    0.000582393    0.000442618    0.000209434   \n",
       "6 0.000430374    0.000666165    0.000762312    0.000503630    0.000338805   "
      ]
     },
     "metadata": {},
     "output_type": "display_data"
    },
    {
     "data": {
      "text/html": [
       "<dl class=dl-horizontal>\n",
       "\t<dt>X141.091_1.54</dt>\n",
       "\t\t<dd>1</dd>\n",
       "\t<dt>X203.007_0.309</dt>\n",
       "\t\t<dd>2</dd>\n",
       "\t<dt>X240.116_2.324</dt>\n",
       "\t\t<dd>3</dd>\n",
       "\t<dt>X249.112_2.768</dt>\n",
       "\t\t<dd>4</dd>\n",
       "\t<dt>X272.222_2.957</dt>\n",
       "\t\t<dd>5</dd>\n",
       "\t<dt>X293.211_2.931</dt>\n",
       "\t\t<dd>6</dd>\n",
       "</dl>\n"
      ],
      "text/latex": [
       "\\begin{description*}\n",
       "\\item[X141.091\\textbackslash{}\\_1.54] 1\n",
       "\\item[X203.007\\textbackslash{}\\_0.309] 2\n",
       "\\item[X240.116\\textbackslash{}\\_2.324] 3\n",
       "\\item[X249.112\\textbackslash{}\\_2.768] 4\n",
       "\\item[X272.222\\textbackslash{}\\_2.957] 5\n",
       "\\item[X293.211\\textbackslash{}\\_2.931] 6\n",
       "\\end{description*}\n"
      ],
      "text/markdown": [
       "X141.091_1.54\n",
       ":   1X203.007_0.309\n",
       ":   2X240.116_2.324\n",
       ":   3X249.112_2.768\n",
       ":   4X272.222_2.957\n",
       ":   5X293.211_2.931\n",
       ":   6\n",
       "\n"
      ],
      "text/plain": [
       " X141.091_1.54 X203.007_0.309 X240.116_2.324 X249.112_2.768 X272.222_2.957 \n",
       "             1              2              3              4              5 \n",
       "X293.211_2.931 \n",
       "             6 "
      ]
     },
     "metadata": {},
     "output_type": "display_data"
    },
    {
     "data": {
      "text/html": [
       "<table>\n",
       "<thead><tr><th></th><th scope=col>X141.091_1.54</th><th scope=col>X203.007_0.309</th><th scope=col>X240.116_2.324</th><th scope=col>X249.112_2.768</th><th scope=col>X272.222_2.957</th><th scope=col>X293.211_2.931</th><th scope=col>X293.211_2.934</th><th scope=col>X296.258_2.976</th><th scope=col>X311.221_2.932</th><th scope=col>X345.243_3.095</th><th scope=col>...</th><th scope=col>X708.445_3.006</th><th scope=col>X709.936_2.18</th><th scope=col>X720.445_3.09</th><th scope=col>X737.391_2.399</th><th scope=col>X776.042_2.398</th><th scope=col>X776.095_2.398</th><th scope=col>X776.148_2.398</th><th scope=col>X776.359_2.398</th><th scope=col>X819.433_2.399</th><th scope=col>X867.281_2.399</th></tr></thead>\n",
       "<tbody>\n",
       "\t<tr><th scope=row>1</th><td>0.000150701</td><td>0.000253054</td><td>0.000037400</td><td>0.000000000</td><td>0.007567170</td><td>0.000782811</td><td>0.000000000</td><td>0.000350953</td><td>0.000752368</td><td>0.000152189</td><td>...        </td><td>0.000561014</td><td>0.000000000</td><td>0.000000000</td><td>0.000083200</td><td>0.000080700</td><td>0.000135990</td><td>0.000323401</td><td>0.000323462</td><td>0.000265376</td><td>0.000099000</td></tr>\n",
       "\t<tr><th scope=row>2</th><td>0.000360521</td><td>0.000326035</td><td>0.000000000</td><td>0.000000000</td><td>0.001526131</td><td>0.000543553</td><td>0.000000000</td><td>0.000377629</td><td>0.000448609</td><td>0.000046100</td><td>...        </td><td>0.000621951</td><td>0.000000000</td><td>0.000000000</td><td>0.000082400</td><td>0.000120213</td><td>0.000151179</td><td>0.000243702</td><td>0.000214309</td><td>0.000353256</td><td>0.000135352</td></tr>\n",
       "\t<tr><th scope=row>3</th><td>0.000115526</td><td>0.000073000</td><td>0.000000000</td><td>0.000000000</td><td>0.003657633</td><td>0.000573921</td><td>0.000000000</td><td>0.000186536</td><td>0.000502553</td><td>0.000268739</td><td>...        </td><td>0.000582842</td><td>0.000000000</td><td>0.000027200</td><td>0.000042000</td><td>0.000056100</td><td>0.000157763</td><td>0.000178871</td><td>0.000202296</td><td>0.000203821</td><td>0.000092300</td></tr>\n",
       "\t<tr><th scope=row>4</th><td>0.000249240</td><td>0.000333486</td><td>0.000000000</td><td>0.000000000</td><td>0.001514945</td><td>0.000671396</td><td>0.000000000</td><td>0.000306359</td><td>0.000682873</td><td>0.000045900</td><td>...        </td><td>0.000774688</td><td>0.000000000</td><td>0.000156840</td><td>0.000065100</td><td>0.000074200</td><td>0.000248777</td><td>0.000308660</td><td>0.000307198</td><td>0.000339938</td><td>0.000099300</td></tr>\n",
       "\t<tr><th scope=row>5</th><td>0.000166425</td><td>0.000000000</td><td>0.000032700</td><td>0.000018600</td><td>0.001143819</td><td>0.000882907</td><td>0.000000000</td><td>0.000181573</td><td>0.000850293</td><td>0.000384379</td><td>...        </td><td>0.000321481</td><td>0.000000000</td><td>0.000000000</td><td>0.000196736</td><td>0.000188043</td><td>0.000370402</td><td>0.000512506</td><td>0.000582393</td><td>0.000442618</td><td>0.000209434</td></tr>\n",
       "\t<tr><th scope=row>6</th><td>0.000142641</td><td>0.000000000</td><td>0.000037700</td><td>0.000044600</td><td>0.004051929</td><td>0.000638694</td><td>0.000000000</td><td>0.000244947</td><td>0.000494473</td><td>0.000302178</td><td>...        </td><td>0.000377722</td><td>0.000000000</td><td>0.000000000</td><td>0.000247236</td><td>0.000247236</td><td>0.000430374</td><td>0.000666165</td><td>0.000762312</td><td>0.000503630</td><td>0.000338805</td></tr>\n",
       "\t<tr><th scope=row>7</th><td>0.000148967</td><td>0.000062100</td><td>0.000000000</td><td>0.000109480</td><td>0.000935383</td><td>0.000510520</td><td>0.000000000</td><td>0.000287227</td><td>0.000441994</td><td>0.000065800</td><td>...        </td><td>0.000000000</td><td>0.000000000</td><td>0.000326379</td><td>0.000028500</td><td>0.000000000</td><td>0.000067700</td><td>0.000117461</td><td>0.000094100</td><td>0.000147904</td><td>0.000042800</td></tr>\n",
       "\t<tr><th scope=row>8</th><td>0.000093400</td><td>0.000000000</td><td>0.000000000</td><td>0.000065300</td><td>0.000541719</td><td>0.000350524</td><td>0.000000000</td><td>0.000184514</td><td>0.000307071</td><td>0.000000000</td><td>...        </td><td>0.000559101</td><td>0.000034700</td><td>0.000000000</td><td>0.000057100</td><td>0.000000000</td><td>0.000127218</td><td>0.000170687</td><td>0.000213340</td><td>0.000174100</td><td>0.000078200</td></tr>\n",
       "\t<tr><th scope=row>9</th><td>0.000337194</td><td>0.000166560</td><td>0.000000000</td><td>0.000129534</td><td>0.000583531</td><td>0.000555962</td><td>0.000000000</td><td>0.000441417</td><td>0.000592720</td><td>0.000083900</td><td>...        </td><td>0.000702994</td><td>0.000000000</td><td>0.000242589</td><td>0.000049000</td><td>0.000089200</td><td>0.000191145</td><td>0.000194474</td><td>0.000306018</td><td>0.000368797</td><td>0.000105409</td></tr>\n",
       "\t<tr><th scope=row>10</th><td>0.000176902</td><td>0.000247122</td><td>0.000000000</td><td>0.000000000</td><td>0.000671746</td><td>0.000514501</td><td>0.000000000</td><td>0.000361244</td><td>0.000462607</td><td>0.000000000</td><td>...        </td><td>0.000318932</td><td>0.000000000</td><td>0.000000000</td><td>0.000073500</td><td>0.000160432</td><td>0.000190363</td><td>0.000308303</td><td>0.000324292</td><td>0.000337835</td><td>0.000196282</td></tr>\n",
       "\t<tr><th scope=row>11</th><td>0.000226969</td><td>0.000065000</td><td>0.000000000</td><td>0.000047100</td><td>0.000545247</td><td>0.000437632</td><td>0.000000000</td><td>0.000342466</td><td>0.000394586</td><td>0.000146066</td><td>...        </td><td>0.000376651</td><td>0.000000000</td><td>0.000000000</td><td>0.000058500</td><td>0.000063900</td><td>0.000126389</td><td>0.000218605</td><td>0.000299814</td><td>0.000239741</td><td>0.000103383</td></tr>\n",
       "\t<tr><th scope=row>12</th><td>0.000358059</td><td>0.000139934</td><td>0.000000000</td><td>0.000000000</td><td>0.000906517</td><td>0.000437429</td><td>0.000000000</td><td>0.000518914</td><td>0.000476836</td><td>0.000083100</td><td>...        </td><td>0.000291650</td><td>0.000000000</td><td>0.000000000</td><td>0.000112275</td><td>0.000147264</td><td>0.000349580</td><td>0.000528022</td><td>0.000454245</td><td>0.000539593</td><td>0.000383944</td></tr>\n",
       "\t<tr><th scope=row>13</th><td>0.000111176</td><td>0.000021100</td><td>0.000029200</td><td>0.000000000</td><td>0.000166369</td><td>0.000216699</td><td>0.000000000</td><td>0.000119757</td><td>0.000091200</td><td>0.000072200</td><td>...        </td><td>0.000012000</td><td>0.000016100</td><td>0.000000000</td><td>0.000099700</td><td>0.000176155</td><td>0.000209709</td><td>0.000343922</td><td>0.000348116</td><td>0.000294990</td><td>0.000164971</td></tr>\n",
       "\t<tr><th scope=row>14</th><td>0.000160133</td><td>0.000164546</td><td>0.000072700</td><td>0.000000000</td><td>0.000585121</td><td>0.000571513</td><td>0.000000000</td><td>0.000246269</td><td>0.000521619</td><td>0.000126532</td><td>...        </td><td>0.000675837</td><td>0.000000000</td><td>0.000000000</td><td>0.000139390</td><td>0.000286905</td><td>0.000512548</td><td>0.000625943</td><td>0.000807376</td><td>0.000625943</td><td>0.000319603</td></tr>\n",
       "\t<tr><th scope=row>15</th><td>0.000141179</td><td>0.000048700</td><td>0.000034700</td><td>0.000028400</td><td>0.000309823</td><td>0.000551780</td><td>0.000000000</td><td>0.000190907</td><td>0.000557681</td><td>0.000202160</td><td>...        </td><td>0.000460308</td><td>0.000028600</td><td>0.000000000</td><td>0.000060300</td><td>0.000069700</td><td>0.000136097</td><td>0.000191824</td><td>0.000232803</td><td>0.000215891</td><td>0.000065700</td></tr>\n",
       "\t<tr><th scope=row>21</th><td>0.000146666</td><td>0.000000000</td><td>0.000292520</td><td>0.000039300</td><td>0.002445024</td><td>0.000543645</td><td>0.000000000</td><td>0.000195543</td><td>0.000565722</td><td>0.000000000</td><td>...        </td><td>0.001156281</td><td>0.000118265</td><td>0.000097200</td><td>0.000086700</td><td>0.000102903</td><td>0.000189529</td><td>0.000303558</td><td>0.000361510</td><td>0.000309077</td><td>0.000141744</td></tr>\n",
       "\t<tr><th scope=row>22</th><td>0.000000000</td><td>0.000393517</td><td>0.000076500</td><td>0.000149907</td><td>0.000412467</td><td>0.000262293</td><td>0.000000000</td><td>0.000356011</td><td>0.000308169</td><td>0.000000000</td><td>...        </td><td>0.000366927</td><td>0.000000000</td><td>0.000000000</td><td>0.000097700</td><td>0.000245467</td><td>0.000409828</td><td>0.000828059</td><td>0.000811386</td><td>0.000800271</td><td>0.000424000</td></tr>\n",
       "\t<tr><th scope=row>23</th><td>0.000256755</td><td>0.000066100</td><td>0.000185667</td><td>0.000045500</td><td>0.000294685</td><td>0.000278313</td><td>0.000000000</td><td>0.000296358</td><td>0.000210295</td><td>0.000031500</td><td>...        </td><td>0.000284637</td><td>0.000000000</td><td>0.000000000</td><td>0.000185630</td><td>0.000187123</td><td>0.000310442</td><td>0.000397130</td><td>0.000591933</td><td>0.000496727</td><td>0.000263751</td></tr>\n",
       "\t<tr><th scope=row>24</th><td>0.000405619</td><td>0.000048400</td><td>0.000110574</td><td>0.000000000</td><td>0.000680557</td><td>0.000000000</td><td>0.000510418</td><td>0.000488605</td><td>0.000475517</td><td>0.000112158</td><td>...        </td><td>0.000606393</td><td>0.000065200</td><td>0.000000000</td><td>0.000097500</td><td>0.000186552</td><td>0.000435305</td><td>0.000724182</td><td>0.000706732</td><td>0.000759083</td><td>0.000406023</td></tr>\n",
       "\t<tr><th scope=row>25</th><td>0.000107109</td><td>0.000000000</td><td>0.000028500</td><td>0.000000000</td><td>0.000189621</td><td>0.000479521</td><td>0.000000000</td><td>0.000177686</td><td>0.000000000</td><td>0.000208399</td><td>...        </td><td>0.000313611</td><td>0.000000000</td><td>0.000000000</td><td>0.000019700</td><td>0.000035900</td><td>0.000079800</td><td>0.000119594</td><td>0.000131164</td><td>0.000097400</td><td>0.000073600</td></tr>\n",
       "\t<tr><th scope=row>36</th><td>0.000258384</td><td>0.000000000</td><td>0.000140813</td><td>0.000146902</td><td>0.000470686</td><td>0.000331010</td><td>0.000000000</td><td>0.000265306</td><td>0.000289608</td><td>0.000000000</td><td>...        </td><td>0.000558939</td><td>0.000000000</td><td>0.000035300</td><td>0.000257809</td><td>0.000225780</td><td>0.000422882</td><td>0.000573648</td><td>0.000731769</td><td>0.000698674</td><td>0.000351994</td></tr>\n",
       "\t<tr><th scope=row>37</th><td>0.000089000</td><td>0.000000000</td><td>0.000034600</td><td>0.000037700</td><td>0.000536775</td><td>0.000428246</td><td>0.000000000</td><td>0.000276481</td><td>0.000000000</td><td>0.000075000</td><td>...        </td><td>0.000305052</td><td>0.000000000</td><td>0.000051700</td><td>0.000035900</td><td>0.000049700</td><td>0.000106982</td><td>0.000084200</td><td>0.000151145</td><td>0.000073700</td><td>0.000058300</td></tr>\n",
       "\t<tr><th scope=row>38</th><td>0.000141091</td><td>0.000000000</td><td>0.000080300</td><td>0.000000000</td><td>0.008141307</td><td>0.000000000</td><td>0.000200260</td><td>0.000372318</td><td>0.000188717</td><td>0.000000000</td><td>...        </td><td>0.000263627</td><td>0.000067800</td><td>0.000000000</td><td>0.000114034</td><td>0.000249241</td><td>0.000454675</td><td>0.000818920</td><td>0.000727929</td><td>0.000651305</td><td>0.000275235</td></tr>\n",
       "\t<tr><th scope=row>39</th><td>0.000000000</td><td>0.000039100</td><td>0.000145968</td><td>0.000000000</td><td>0.000093300</td><td>0.000160626</td><td>0.000000000</td><td>0.000109785</td><td>0.000000000</td><td>0.000049700</td><td>...        </td><td>0.000018000</td><td>0.000053100</td><td>0.000000000</td><td>0.000118599</td><td>0.000137792</td><td>0.000204720</td><td>0.000305505</td><td>0.000277159</td><td>0.000267710</td><td>0.000136163</td></tr>\n",
       "\t<tr><th scope=row>40</th><td>0.000055400</td><td>0.000000000</td><td>0.000107124</td><td>0.000021500</td><td>0.000422020</td><td>0.000000000</td><td>0.000281346</td><td>0.000153643</td><td>0.000248632</td><td>0.000000000</td><td>...        </td><td>0.000574143</td><td>0.000040300</td><td>0.000000000</td><td>0.000199560</td><td>0.000212646</td><td>0.000408934</td><td>0.000351683</td><td>0.000386033</td><td>0.000487449</td><td>0.000256810</td></tr>\n",
       "\t<tr><th scope=row>51</th><td>0.000166132</td><td>0.000000000</td><td>0.000105694</td><td>0.000041800</td><td>0.000506169</td><td>0.000129238</td><td>0.000000000</td><td>0.000271393</td><td>0.000000000</td><td>0.000000000</td><td>...        </td><td>0.000531011</td><td>0.000000000</td><td>0.000082300</td><td>0.000000000</td><td>0.000000000</td><td>0.000000000</td><td>0.000112990</td><td>0.000105773</td><td>0.000121727</td><td>0.000044000</td></tr>\n",
       "\t<tr><th scope=row>52</th><td>0.000132463</td><td>0.000000000</td><td>0.000037400</td><td>0.000000000</td><td>0.000397599</td><td>0.000223923</td><td>0.000000000</td><td>0.000359568</td><td>0.000000000</td><td>0.000000000</td><td>...        </td><td>0.000394142</td><td>0.000037900</td><td>0.000032900</td><td>0.000000000</td><td>0.000056200</td><td>0.000069100</td><td>0.000077400</td><td>0.000070300</td><td>0.000155529</td><td>0.000100663</td></tr>\n",
       "\t<tr><th scope=row>53</th><td>0.000273714</td><td>0.000000000</td><td>0.000000000</td><td>0.000000000</td><td>0.000194017</td><td>0.000302819</td><td>0.000000000</td><td>0.000215290</td><td>0.000000000</td><td>0.000131870</td><td>...        </td><td>0.000146737</td><td>0.000000000</td><td>0.000000000</td><td>0.000034200</td><td>0.000054100</td><td>0.000137227</td><td>0.000196984</td><td>0.000160715</td><td>0.000181791</td><td>0.000092900</td></tr>\n",
       "\t<tr><th scope=row>54</th><td>0.000103536</td><td>0.000000000</td><td>0.000061600</td><td>0.000000000</td><td>0.000223323</td><td>0.000000000</td><td>0.000296744</td><td>0.000245542</td><td>0.000340730</td><td>0.000140060</td><td>...        </td><td>0.000427624</td><td>0.000000000</td><td>0.000000000</td><td>0.000060900</td><td>0.000107317</td><td>0.000305577</td><td>0.000402470</td><td>0.000391689</td><td>0.000345299</td><td>0.000233756</td></tr>\n",
       "\t<tr><th scope=row>55</th><td>0.000000000</td><td>0.000000000</td><td>0.000102654</td><td>0.000000000</td><td>0.000600078</td><td>0.000000000</td><td>0.000247651</td><td>0.000139905</td><td>0.000189491</td><td>0.000000000</td><td>...        </td><td>0.000642941</td><td>0.000040300</td><td>0.000000000</td><td>0.000153822</td><td>0.000213973</td><td>0.000302420</td><td>0.000492921</td><td>0.000485777</td><td>0.000523878</td><td>0.000252414</td></tr>\n",
       "</tbody>\n",
       "</table>\n"
      ],
      "text/latex": [
       "\\begin{tabular}{r|llllllllllllllllllllllllllll}\n",
       "  & X141.091\\_1.54 & X203.007\\_0.309 & X240.116\\_2.324 & X249.112\\_2.768 & X272.222\\_2.957 & X293.211\\_2.931 & X293.211\\_2.934 & X296.258\\_2.976 & X311.221\\_2.932 & X345.243\\_3.095 & ... & X708.445\\_3.006 & X709.936\\_2.18 & X720.445\\_3.09 & X737.391\\_2.399 & X776.042\\_2.398 & X776.095\\_2.398 & X776.148\\_2.398 & X776.359\\_2.398 & X819.433\\_2.399 & X867.281\\_2.399\\\\\n",
       "\\hline\n",
       "\t1 & 0.000150701 & 0.000253054 & 0.000037400 & 0.000000000 & 0.007567170 & 0.000782811 & 0.000000000 & 0.000350953 & 0.000752368 & 0.000152189 & ...         & 0.000561014 & 0.000000000 & 0.000000000 & 0.000083200 & 0.000080700 & 0.000135990 & 0.000323401 & 0.000323462 & 0.000265376 & 0.000099000\\\\\n",
       "\t2 & 0.000360521 & 0.000326035 & 0.000000000 & 0.000000000 & 0.001526131 & 0.000543553 & 0.000000000 & 0.000377629 & 0.000448609 & 0.000046100 & ...         & 0.000621951 & 0.000000000 & 0.000000000 & 0.000082400 & 0.000120213 & 0.000151179 & 0.000243702 & 0.000214309 & 0.000353256 & 0.000135352\\\\\n",
       "\t3 & 0.000115526 & 0.000073000 & 0.000000000 & 0.000000000 & 0.003657633 & 0.000573921 & 0.000000000 & 0.000186536 & 0.000502553 & 0.000268739 & ...         & 0.000582842 & 0.000000000 & 0.000027200 & 0.000042000 & 0.000056100 & 0.000157763 & 0.000178871 & 0.000202296 & 0.000203821 & 0.000092300\\\\\n",
       "\t4 & 0.000249240 & 0.000333486 & 0.000000000 & 0.000000000 & 0.001514945 & 0.000671396 & 0.000000000 & 0.000306359 & 0.000682873 & 0.000045900 & ...         & 0.000774688 & 0.000000000 & 0.000156840 & 0.000065100 & 0.000074200 & 0.000248777 & 0.000308660 & 0.000307198 & 0.000339938 & 0.000099300\\\\\n",
       "\t5 & 0.000166425 & 0.000000000 & 0.000032700 & 0.000018600 & 0.001143819 & 0.000882907 & 0.000000000 & 0.000181573 & 0.000850293 & 0.000384379 & ...         & 0.000321481 & 0.000000000 & 0.000000000 & 0.000196736 & 0.000188043 & 0.000370402 & 0.000512506 & 0.000582393 & 0.000442618 & 0.000209434\\\\\n",
       "\t6 & 0.000142641 & 0.000000000 & 0.000037700 & 0.000044600 & 0.004051929 & 0.000638694 & 0.000000000 & 0.000244947 & 0.000494473 & 0.000302178 & ...         & 0.000377722 & 0.000000000 & 0.000000000 & 0.000247236 & 0.000247236 & 0.000430374 & 0.000666165 & 0.000762312 & 0.000503630 & 0.000338805\\\\\n",
       "\t7 & 0.000148967 & 0.000062100 & 0.000000000 & 0.000109480 & 0.000935383 & 0.000510520 & 0.000000000 & 0.000287227 & 0.000441994 & 0.000065800 & ...         & 0.000000000 & 0.000000000 & 0.000326379 & 0.000028500 & 0.000000000 & 0.000067700 & 0.000117461 & 0.000094100 & 0.000147904 & 0.000042800\\\\\n",
       "\t8 & 0.000093400 & 0.000000000 & 0.000000000 & 0.000065300 & 0.000541719 & 0.000350524 & 0.000000000 & 0.000184514 & 0.000307071 & 0.000000000 & ...         & 0.000559101 & 0.000034700 & 0.000000000 & 0.000057100 & 0.000000000 & 0.000127218 & 0.000170687 & 0.000213340 & 0.000174100 & 0.000078200\\\\\n",
       "\t9 & 0.000337194 & 0.000166560 & 0.000000000 & 0.000129534 & 0.000583531 & 0.000555962 & 0.000000000 & 0.000441417 & 0.000592720 & 0.000083900 & ...         & 0.000702994 & 0.000000000 & 0.000242589 & 0.000049000 & 0.000089200 & 0.000191145 & 0.000194474 & 0.000306018 & 0.000368797 & 0.000105409\\\\\n",
       "\t10 & 0.000176902 & 0.000247122 & 0.000000000 & 0.000000000 & 0.000671746 & 0.000514501 & 0.000000000 & 0.000361244 & 0.000462607 & 0.000000000 & ...         & 0.000318932 & 0.000000000 & 0.000000000 & 0.000073500 & 0.000160432 & 0.000190363 & 0.000308303 & 0.000324292 & 0.000337835 & 0.000196282\\\\\n",
       "\t11 & 0.000226969 & 0.000065000 & 0.000000000 & 0.000047100 & 0.000545247 & 0.000437632 & 0.000000000 & 0.000342466 & 0.000394586 & 0.000146066 & ...         & 0.000376651 & 0.000000000 & 0.000000000 & 0.000058500 & 0.000063900 & 0.000126389 & 0.000218605 & 0.000299814 & 0.000239741 & 0.000103383\\\\\n",
       "\t12 & 0.000358059 & 0.000139934 & 0.000000000 & 0.000000000 & 0.000906517 & 0.000437429 & 0.000000000 & 0.000518914 & 0.000476836 & 0.000083100 & ...         & 0.000291650 & 0.000000000 & 0.000000000 & 0.000112275 & 0.000147264 & 0.000349580 & 0.000528022 & 0.000454245 & 0.000539593 & 0.000383944\\\\\n",
       "\t13 & 0.000111176 & 0.000021100 & 0.000029200 & 0.000000000 & 0.000166369 & 0.000216699 & 0.000000000 & 0.000119757 & 0.000091200 & 0.000072200 & ...         & 0.000012000 & 0.000016100 & 0.000000000 & 0.000099700 & 0.000176155 & 0.000209709 & 0.000343922 & 0.000348116 & 0.000294990 & 0.000164971\\\\\n",
       "\t14 & 0.000160133 & 0.000164546 & 0.000072700 & 0.000000000 & 0.000585121 & 0.000571513 & 0.000000000 & 0.000246269 & 0.000521619 & 0.000126532 & ...         & 0.000675837 & 0.000000000 & 0.000000000 & 0.000139390 & 0.000286905 & 0.000512548 & 0.000625943 & 0.000807376 & 0.000625943 & 0.000319603\\\\\n",
       "\t15 & 0.000141179 & 0.000048700 & 0.000034700 & 0.000028400 & 0.000309823 & 0.000551780 & 0.000000000 & 0.000190907 & 0.000557681 & 0.000202160 & ...         & 0.000460308 & 0.000028600 & 0.000000000 & 0.000060300 & 0.000069700 & 0.000136097 & 0.000191824 & 0.000232803 & 0.000215891 & 0.000065700\\\\\n",
       "\t21 & 0.000146666 & 0.000000000 & 0.000292520 & 0.000039300 & 0.002445024 & 0.000543645 & 0.000000000 & 0.000195543 & 0.000565722 & 0.000000000 & ...         & 0.001156281 & 0.000118265 & 0.000097200 & 0.000086700 & 0.000102903 & 0.000189529 & 0.000303558 & 0.000361510 & 0.000309077 & 0.000141744\\\\\n",
       "\t22 & 0.000000000 & 0.000393517 & 0.000076500 & 0.000149907 & 0.000412467 & 0.000262293 & 0.000000000 & 0.000356011 & 0.000308169 & 0.000000000 & ...         & 0.000366927 & 0.000000000 & 0.000000000 & 0.000097700 & 0.000245467 & 0.000409828 & 0.000828059 & 0.000811386 & 0.000800271 & 0.000424000\\\\\n",
       "\t23 & 0.000256755 & 0.000066100 & 0.000185667 & 0.000045500 & 0.000294685 & 0.000278313 & 0.000000000 & 0.000296358 & 0.000210295 & 0.000031500 & ...         & 0.000284637 & 0.000000000 & 0.000000000 & 0.000185630 & 0.000187123 & 0.000310442 & 0.000397130 & 0.000591933 & 0.000496727 & 0.000263751\\\\\n",
       "\t24 & 0.000405619 & 0.000048400 & 0.000110574 & 0.000000000 & 0.000680557 & 0.000000000 & 0.000510418 & 0.000488605 & 0.000475517 & 0.000112158 & ...         & 0.000606393 & 0.000065200 & 0.000000000 & 0.000097500 & 0.000186552 & 0.000435305 & 0.000724182 & 0.000706732 & 0.000759083 & 0.000406023\\\\\n",
       "\t25 & 0.000107109 & 0.000000000 & 0.000028500 & 0.000000000 & 0.000189621 & 0.000479521 & 0.000000000 & 0.000177686 & 0.000000000 & 0.000208399 & ...         & 0.000313611 & 0.000000000 & 0.000000000 & 0.000019700 & 0.000035900 & 0.000079800 & 0.000119594 & 0.000131164 & 0.000097400 & 0.000073600\\\\\n",
       "\t36 & 0.000258384 & 0.000000000 & 0.000140813 & 0.000146902 & 0.000470686 & 0.000331010 & 0.000000000 & 0.000265306 & 0.000289608 & 0.000000000 & ...         & 0.000558939 & 0.000000000 & 0.000035300 & 0.000257809 & 0.000225780 & 0.000422882 & 0.000573648 & 0.000731769 & 0.000698674 & 0.000351994\\\\\n",
       "\t37 & 0.000089000 & 0.000000000 & 0.000034600 & 0.000037700 & 0.000536775 & 0.000428246 & 0.000000000 & 0.000276481 & 0.000000000 & 0.000075000 & ...         & 0.000305052 & 0.000000000 & 0.000051700 & 0.000035900 & 0.000049700 & 0.000106982 & 0.000084200 & 0.000151145 & 0.000073700 & 0.000058300\\\\\n",
       "\t38 & 0.000141091 & 0.000000000 & 0.000080300 & 0.000000000 & 0.008141307 & 0.000000000 & 0.000200260 & 0.000372318 & 0.000188717 & 0.000000000 & ...         & 0.000263627 & 0.000067800 & 0.000000000 & 0.000114034 & 0.000249241 & 0.000454675 & 0.000818920 & 0.000727929 & 0.000651305 & 0.000275235\\\\\n",
       "\t39 & 0.000000000 & 0.000039100 & 0.000145968 & 0.000000000 & 0.000093300 & 0.000160626 & 0.000000000 & 0.000109785 & 0.000000000 & 0.000049700 & ...         & 0.000018000 & 0.000053100 & 0.000000000 & 0.000118599 & 0.000137792 & 0.000204720 & 0.000305505 & 0.000277159 & 0.000267710 & 0.000136163\\\\\n",
       "\t40 & 0.000055400 & 0.000000000 & 0.000107124 & 0.000021500 & 0.000422020 & 0.000000000 & 0.000281346 & 0.000153643 & 0.000248632 & 0.000000000 & ...         & 0.000574143 & 0.000040300 & 0.000000000 & 0.000199560 & 0.000212646 & 0.000408934 & 0.000351683 & 0.000386033 & 0.000487449 & 0.000256810\\\\\n",
       "\t51 & 0.000166132 & 0.000000000 & 0.000105694 & 0.000041800 & 0.000506169 & 0.000129238 & 0.000000000 & 0.000271393 & 0.000000000 & 0.000000000 & ...         & 0.000531011 & 0.000000000 & 0.000082300 & 0.000000000 & 0.000000000 & 0.000000000 & 0.000112990 & 0.000105773 & 0.000121727 & 0.000044000\\\\\n",
       "\t52 & 0.000132463 & 0.000000000 & 0.000037400 & 0.000000000 & 0.000397599 & 0.000223923 & 0.000000000 & 0.000359568 & 0.000000000 & 0.000000000 & ...         & 0.000394142 & 0.000037900 & 0.000032900 & 0.000000000 & 0.000056200 & 0.000069100 & 0.000077400 & 0.000070300 & 0.000155529 & 0.000100663\\\\\n",
       "\t53 & 0.000273714 & 0.000000000 & 0.000000000 & 0.000000000 & 0.000194017 & 0.000302819 & 0.000000000 & 0.000215290 & 0.000000000 & 0.000131870 & ...         & 0.000146737 & 0.000000000 & 0.000000000 & 0.000034200 & 0.000054100 & 0.000137227 & 0.000196984 & 0.000160715 & 0.000181791 & 0.000092900\\\\\n",
       "\t54 & 0.000103536 & 0.000000000 & 0.000061600 & 0.000000000 & 0.000223323 & 0.000000000 & 0.000296744 & 0.000245542 & 0.000340730 & 0.000140060 & ...         & 0.000427624 & 0.000000000 & 0.000000000 & 0.000060900 & 0.000107317 & 0.000305577 & 0.000402470 & 0.000391689 & 0.000345299 & 0.000233756\\\\\n",
       "\t55 & 0.000000000 & 0.000000000 & 0.000102654 & 0.000000000 & 0.000600078 & 0.000000000 & 0.000247651 & 0.000139905 & 0.000189491 & 0.000000000 & ...         & 0.000642941 & 0.000040300 & 0.000000000 & 0.000153822 & 0.000213973 & 0.000302420 & 0.000492921 & 0.000485777 & 0.000523878 & 0.000252414\\\\\n",
       "\\end{tabular}\n"
      ],
      "text/markdown": [
       "\n",
       "| <!--/--> | X141.091_1.54 | X203.007_0.309 | X240.116_2.324 | X249.112_2.768 | X272.222_2.957 | X293.211_2.931 | X293.211_2.934 | X296.258_2.976 | X311.221_2.932 | X345.243_3.095 | ... | X708.445_3.006 | X709.936_2.18 | X720.445_3.09 | X737.391_2.399 | X776.042_2.398 | X776.095_2.398 | X776.148_2.398 | X776.359_2.398 | X819.433_2.399 | X867.281_2.399 |\n",
       "|---|---|---|---|---|---|---|---|---|---|---|---|---|---|---|---|---|---|---|---|---|---|\n",
       "| 1 | 0.000150701 | 0.000253054 | 0.000037400 | 0.000000000 | 0.007567170 | 0.000782811 | 0.000000000 | 0.000350953 | 0.000752368 | 0.000152189 | ...         | 0.000561014 | 0.000000000 | 0.000000000 | 0.000083200 | 0.000080700 | 0.000135990 | 0.000323401 | 0.000323462 | 0.000265376 | 0.000099000 |\n",
       "| 2 | 0.000360521 | 0.000326035 | 0.000000000 | 0.000000000 | 0.001526131 | 0.000543553 | 0.000000000 | 0.000377629 | 0.000448609 | 0.000046100 | ...         | 0.000621951 | 0.000000000 | 0.000000000 | 0.000082400 | 0.000120213 | 0.000151179 | 0.000243702 | 0.000214309 | 0.000353256 | 0.000135352 |\n",
       "| 3 | 0.000115526 | 0.000073000 | 0.000000000 | 0.000000000 | 0.003657633 | 0.000573921 | 0.000000000 | 0.000186536 | 0.000502553 | 0.000268739 | ...         | 0.000582842 | 0.000000000 | 0.000027200 | 0.000042000 | 0.000056100 | 0.000157763 | 0.000178871 | 0.000202296 | 0.000203821 | 0.000092300 |\n",
       "| 4 | 0.000249240 | 0.000333486 | 0.000000000 | 0.000000000 | 0.001514945 | 0.000671396 | 0.000000000 | 0.000306359 | 0.000682873 | 0.000045900 | ...         | 0.000774688 | 0.000000000 | 0.000156840 | 0.000065100 | 0.000074200 | 0.000248777 | 0.000308660 | 0.000307198 | 0.000339938 | 0.000099300 |\n",
       "| 5 | 0.000166425 | 0.000000000 | 0.000032700 | 0.000018600 | 0.001143819 | 0.000882907 | 0.000000000 | 0.000181573 | 0.000850293 | 0.000384379 | ...         | 0.000321481 | 0.000000000 | 0.000000000 | 0.000196736 | 0.000188043 | 0.000370402 | 0.000512506 | 0.000582393 | 0.000442618 | 0.000209434 |\n",
       "| 6 | 0.000142641 | 0.000000000 | 0.000037700 | 0.000044600 | 0.004051929 | 0.000638694 | 0.000000000 | 0.000244947 | 0.000494473 | 0.000302178 | ...         | 0.000377722 | 0.000000000 | 0.000000000 | 0.000247236 | 0.000247236 | 0.000430374 | 0.000666165 | 0.000762312 | 0.000503630 | 0.000338805 |\n",
       "| 7 | 0.000148967 | 0.000062100 | 0.000000000 | 0.000109480 | 0.000935383 | 0.000510520 | 0.000000000 | 0.000287227 | 0.000441994 | 0.000065800 | ...         | 0.000000000 | 0.000000000 | 0.000326379 | 0.000028500 | 0.000000000 | 0.000067700 | 0.000117461 | 0.000094100 | 0.000147904 | 0.000042800 |\n",
       "| 8 | 0.000093400 | 0.000000000 | 0.000000000 | 0.000065300 | 0.000541719 | 0.000350524 | 0.000000000 | 0.000184514 | 0.000307071 | 0.000000000 | ...         | 0.000559101 | 0.000034700 | 0.000000000 | 0.000057100 | 0.000000000 | 0.000127218 | 0.000170687 | 0.000213340 | 0.000174100 | 0.000078200 |\n",
       "| 9 | 0.000337194 | 0.000166560 | 0.000000000 | 0.000129534 | 0.000583531 | 0.000555962 | 0.000000000 | 0.000441417 | 0.000592720 | 0.000083900 | ...         | 0.000702994 | 0.000000000 | 0.000242589 | 0.000049000 | 0.000089200 | 0.000191145 | 0.000194474 | 0.000306018 | 0.000368797 | 0.000105409 |\n",
       "| 10 | 0.000176902 | 0.000247122 | 0.000000000 | 0.000000000 | 0.000671746 | 0.000514501 | 0.000000000 | 0.000361244 | 0.000462607 | 0.000000000 | ...         | 0.000318932 | 0.000000000 | 0.000000000 | 0.000073500 | 0.000160432 | 0.000190363 | 0.000308303 | 0.000324292 | 0.000337835 | 0.000196282 |\n",
       "| 11 | 0.000226969 | 0.000065000 | 0.000000000 | 0.000047100 | 0.000545247 | 0.000437632 | 0.000000000 | 0.000342466 | 0.000394586 | 0.000146066 | ...         | 0.000376651 | 0.000000000 | 0.000000000 | 0.000058500 | 0.000063900 | 0.000126389 | 0.000218605 | 0.000299814 | 0.000239741 | 0.000103383 |\n",
       "| 12 | 0.000358059 | 0.000139934 | 0.000000000 | 0.000000000 | 0.000906517 | 0.000437429 | 0.000000000 | 0.000518914 | 0.000476836 | 0.000083100 | ...         | 0.000291650 | 0.000000000 | 0.000000000 | 0.000112275 | 0.000147264 | 0.000349580 | 0.000528022 | 0.000454245 | 0.000539593 | 0.000383944 |\n",
       "| 13 | 0.000111176 | 0.000021100 | 0.000029200 | 0.000000000 | 0.000166369 | 0.000216699 | 0.000000000 | 0.000119757 | 0.000091200 | 0.000072200 | ...         | 0.000012000 | 0.000016100 | 0.000000000 | 0.000099700 | 0.000176155 | 0.000209709 | 0.000343922 | 0.000348116 | 0.000294990 | 0.000164971 |\n",
       "| 14 | 0.000160133 | 0.000164546 | 0.000072700 | 0.000000000 | 0.000585121 | 0.000571513 | 0.000000000 | 0.000246269 | 0.000521619 | 0.000126532 | ...         | 0.000675837 | 0.000000000 | 0.000000000 | 0.000139390 | 0.000286905 | 0.000512548 | 0.000625943 | 0.000807376 | 0.000625943 | 0.000319603 |\n",
       "| 15 | 0.000141179 | 0.000048700 | 0.000034700 | 0.000028400 | 0.000309823 | 0.000551780 | 0.000000000 | 0.000190907 | 0.000557681 | 0.000202160 | ...         | 0.000460308 | 0.000028600 | 0.000000000 | 0.000060300 | 0.000069700 | 0.000136097 | 0.000191824 | 0.000232803 | 0.000215891 | 0.000065700 |\n",
       "| 21 | 0.000146666 | 0.000000000 | 0.000292520 | 0.000039300 | 0.002445024 | 0.000543645 | 0.000000000 | 0.000195543 | 0.000565722 | 0.000000000 | ...         | 0.001156281 | 0.000118265 | 0.000097200 | 0.000086700 | 0.000102903 | 0.000189529 | 0.000303558 | 0.000361510 | 0.000309077 | 0.000141744 |\n",
       "| 22 | 0.000000000 | 0.000393517 | 0.000076500 | 0.000149907 | 0.000412467 | 0.000262293 | 0.000000000 | 0.000356011 | 0.000308169 | 0.000000000 | ...         | 0.000366927 | 0.000000000 | 0.000000000 | 0.000097700 | 0.000245467 | 0.000409828 | 0.000828059 | 0.000811386 | 0.000800271 | 0.000424000 |\n",
       "| 23 | 0.000256755 | 0.000066100 | 0.000185667 | 0.000045500 | 0.000294685 | 0.000278313 | 0.000000000 | 0.000296358 | 0.000210295 | 0.000031500 | ...         | 0.000284637 | 0.000000000 | 0.000000000 | 0.000185630 | 0.000187123 | 0.000310442 | 0.000397130 | 0.000591933 | 0.000496727 | 0.000263751 |\n",
       "| 24 | 0.000405619 | 0.000048400 | 0.000110574 | 0.000000000 | 0.000680557 | 0.000000000 | 0.000510418 | 0.000488605 | 0.000475517 | 0.000112158 | ...         | 0.000606393 | 0.000065200 | 0.000000000 | 0.000097500 | 0.000186552 | 0.000435305 | 0.000724182 | 0.000706732 | 0.000759083 | 0.000406023 |\n",
       "| 25 | 0.000107109 | 0.000000000 | 0.000028500 | 0.000000000 | 0.000189621 | 0.000479521 | 0.000000000 | 0.000177686 | 0.000000000 | 0.000208399 | ...         | 0.000313611 | 0.000000000 | 0.000000000 | 0.000019700 | 0.000035900 | 0.000079800 | 0.000119594 | 0.000131164 | 0.000097400 | 0.000073600 |\n",
       "| 36 | 0.000258384 | 0.000000000 | 0.000140813 | 0.000146902 | 0.000470686 | 0.000331010 | 0.000000000 | 0.000265306 | 0.000289608 | 0.000000000 | ...         | 0.000558939 | 0.000000000 | 0.000035300 | 0.000257809 | 0.000225780 | 0.000422882 | 0.000573648 | 0.000731769 | 0.000698674 | 0.000351994 |\n",
       "| 37 | 0.000089000 | 0.000000000 | 0.000034600 | 0.000037700 | 0.000536775 | 0.000428246 | 0.000000000 | 0.000276481 | 0.000000000 | 0.000075000 | ...         | 0.000305052 | 0.000000000 | 0.000051700 | 0.000035900 | 0.000049700 | 0.000106982 | 0.000084200 | 0.000151145 | 0.000073700 | 0.000058300 |\n",
       "| 38 | 0.000141091 | 0.000000000 | 0.000080300 | 0.000000000 | 0.008141307 | 0.000000000 | 0.000200260 | 0.000372318 | 0.000188717 | 0.000000000 | ...         | 0.000263627 | 0.000067800 | 0.000000000 | 0.000114034 | 0.000249241 | 0.000454675 | 0.000818920 | 0.000727929 | 0.000651305 | 0.000275235 |\n",
       "| 39 | 0.000000000 | 0.000039100 | 0.000145968 | 0.000000000 | 0.000093300 | 0.000160626 | 0.000000000 | 0.000109785 | 0.000000000 | 0.000049700 | ...         | 0.000018000 | 0.000053100 | 0.000000000 | 0.000118599 | 0.000137792 | 0.000204720 | 0.000305505 | 0.000277159 | 0.000267710 | 0.000136163 |\n",
       "| 40 | 0.000055400 | 0.000000000 | 0.000107124 | 0.000021500 | 0.000422020 | 0.000000000 | 0.000281346 | 0.000153643 | 0.000248632 | 0.000000000 | ...         | 0.000574143 | 0.000040300 | 0.000000000 | 0.000199560 | 0.000212646 | 0.000408934 | 0.000351683 | 0.000386033 | 0.000487449 | 0.000256810 |\n",
       "| 51 | 0.000166132 | 0.000000000 | 0.000105694 | 0.000041800 | 0.000506169 | 0.000129238 | 0.000000000 | 0.000271393 | 0.000000000 | 0.000000000 | ...         | 0.000531011 | 0.000000000 | 0.000082300 | 0.000000000 | 0.000000000 | 0.000000000 | 0.000112990 | 0.000105773 | 0.000121727 | 0.000044000 |\n",
       "| 52 | 0.000132463 | 0.000000000 | 0.000037400 | 0.000000000 | 0.000397599 | 0.000223923 | 0.000000000 | 0.000359568 | 0.000000000 | 0.000000000 | ...         | 0.000394142 | 0.000037900 | 0.000032900 | 0.000000000 | 0.000056200 | 0.000069100 | 0.000077400 | 0.000070300 | 0.000155529 | 0.000100663 |\n",
       "| 53 | 0.000273714 | 0.000000000 | 0.000000000 | 0.000000000 | 0.000194017 | 0.000302819 | 0.000000000 | 0.000215290 | 0.000000000 | 0.000131870 | ...         | 0.000146737 | 0.000000000 | 0.000000000 | 0.000034200 | 0.000054100 | 0.000137227 | 0.000196984 | 0.000160715 | 0.000181791 | 0.000092900 |\n",
       "| 54 | 0.000103536 | 0.000000000 | 0.000061600 | 0.000000000 | 0.000223323 | 0.000000000 | 0.000296744 | 0.000245542 | 0.000340730 | 0.000140060 | ...         | 0.000427624 | 0.000000000 | 0.000000000 | 0.000060900 | 0.000107317 | 0.000305577 | 0.000402470 | 0.000391689 | 0.000345299 | 0.000233756 |\n",
       "| 55 | 0.000000000 | 0.000000000 | 0.000102654 | 0.000000000 | 0.000600078 | 0.000000000 | 0.000247651 | 0.000139905 | 0.000189491 | 0.000000000 | ...         | 0.000642941 | 0.000040300 | 0.000000000 | 0.000153822 | 0.000213973 | 0.000302420 | 0.000492921 | 0.000485777 | 0.000523878 | 0.000252414 |\n",
       "\n"
      ],
      "text/plain": [
       "   X141.091_1.54 X203.007_0.309 X240.116_2.324 X249.112_2.768 X272.222_2.957\n",
       "1  0.000150701   0.000253054    0.000037400    0.000000000    0.007567170   \n",
       "2  0.000360521   0.000326035    0.000000000    0.000000000    0.001526131   \n",
       "3  0.000115526   0.000073000    0.000000000    0.000000000    0.003657633   \n",
       "4  0.000249240   0.000333486    0.000000000    0.000000000    0.001514945   \n",
       "5  0.000166425   0.000000000    0.000032700    0.000018600    0.001143819   \n",
       "6  0.000142641   0.000000000    0.000037700    0.000044600    0.004051929   \n",
       "7  0.000148967   0.000062100    0.000000000    0.000109480    0.000935383   \n",
       "8  0.000093400   0.000000000    0.000000000    0.000065300    0.000541719   \n",
       "9  0.000337194   0.000166560    0.000000000    0.000129534    0.000583531   \n",
       "10 0.000176902   0.000247122    0.000000000    0.000000000    0.000671746   \n",
       "11 0.000226969   0.000065000    0.000000000    0.000047100    0.000545247   \n",
       "12 0.000358059   0.000139934    0.000000000    0.000000000    0.000906517   \n",
       "13 0.000111176   0.000021100    0.000029200    0.000000000    0.000166369   \n",
       "14 0.000160133   0.000164546    0.000072700    0.000000000    0.000585121   \n",
       "15 0.000141179   0.000048700    0.000034700    0.000028400    0.000309823   \n",
       "21 0.000146666   0.000000000    0.000292520    0.000039300    0.002445024   \n",
       "22 0.000000000   0.000393517    0.000076500    0.000149907    0.000412467   \n",
       "23 0.000256755   0.000066100    0.000185667    0.000045500    0.000294685   \n",
       "24 0.000405619   0.000048400    0.000110574    0.000000000    0.000680557   \n",
       "25 0.000107109   0.000000000    0.000028500    0.000000000    0.000189621   \n",
       "36 0.000258384   0.000000000    0.000140813    0.000146902    0.000470686   \n",
       "37 0.000089000   0.000000000    0.000034600    0.000037700    0.000536775   \n",
       "38 0.000141091   0.000000000    0.000080300    0.000000000    0.008141307   \n",
       "39 0.000000000   0.000039100    0.000145968    0.000000000    0.000093300   \n",
       "40 0.000055400   0.000000000    0.000107124    0.000021500    0.000422020   \n",
       "51 0.000166132   0.000000000    0.000105694    0.000041800    0.000506169   \n",
       "52 0.000132463   0.000000000    0.000037400    0.000000000    0.000397599   \n",
       "53 0.000273714   0.000000000    0.000000000    0.000000000    0.000194017   \n",
       "54 0.000103536   0.000000000    0.000061600    0.000000000    0.000223323   \n",
       "55 0.000000000   0.000000000    0.000102654    0.000000000    0.000600078   \n",
       "   X293.211_2.931 X293.211_2.934 X296.258_2.976 X311.221_2.932 X345.243_3.095\n",
       "1  0.000782811    0.000000000    0.000350953    0.000752368    0.000152189   \n",
       "2  0.000543553    0.000000000    0.000377629    0.000448609    0.000046100   \n",
       "3  0.000573921    0.000000000    0.000186536    0.000502553    0.000268739   \n",
       "4  0.000671396    0.000000000    0.000306359    0.000682873    0.000045900   \n",
       "5  0.000882907    0.000000000    0.000181573    0.000850293    0.000384379   \n",
       "6  0.000638694    0.000000000    0.000244947    0.000494473    0.000302178   \n",
       "7  0.000510520    0.000000000    0.000287227    0.000441994    0.000065800   \n",
       "8  0.000350524    0.000000000    0.000184514    0.000307071    0.000000000   \n",
       "9  0.000555962    0.000000000    0.000441417    0.000592720    0.000083900   \n",
       "10 0.000514501    0.000000000    0.000361244    0.000462607    0.000000000   \n",
       "11 0.000437632    0.000000000    0.000342466    0.000394586    0.000146066   \n",
       "12 0.000437429    0.000000000    0.000518914    0.000476836    0.000083100   \n",
       "13 0.000216699    0.000000000    0.000119757    0.000091200    0.000072200   \n",
       "14 0.000571513    0.000000000    0.000246269    0.000521619    0.000126532   \n",
       "15 0.000551780    0.000000000    0.000190907    0.000557681    0.000202160   \n",
       "21 0.000543645    0.000000000    0.000195543    0.000565722    0.000000000   \n",
       "22 0.000262293    0.000000000    0.000356011    0.000308169    0.000000000   \n",
       "23 0.000278313    0.000000000    0.000296358    0.000210295    0.000031500   \n",
       "24 0.000000000    0.000510418    0.000488605    0.000475517    0.000112158   \n",
       "25 0.000479521    0.000000000    0.000177686    0.000000000    0.000208399   \n",
       "36 0.000331010    0.000000000    0.000265306    0.000289608    0.000000000   \n",
       "37 0.000428246    0.000000000    0.000276481    0.000000000    0.000075000   \n",
       "38 0.000000000    0.000200260    0.000372318    0.000188717    0.000000000   \n",
       "39 0.000160626    0.000000000    0.000109785    0.000000000    0.000049700   \n",
       "40 0.000000000    0.000281346    0.000153643    0.000248632    0.000000000   \n",
       "51 0.000129238    0.000000000    0.000271393    0.000000000    0.000000000   \n",
       "52 0.000223923    0.000000000    0.000359568    0.000000000    0.000000000   \n",
       "53 0.000302819    0.000000000    0.000215290    0.000000000    0.000131870   \n",
       "54 0.000000000    0.000296744    0.000245542    0.000340730    0.000140060   \n",
       "55 0.000000000    0.000247651    0.000139905    0.000189491    0.000000000   \n",
       "   ... X708.445_3.006 X709.936_2.18 X720.445_3.09 X737.391_2.399 X776.042_2.398\n",
       "1  ... 0.000561014    0.000000000   0.000000000   0.000083200    0.000080700   \n",
       "2  ... 0.000621951    0.000000000   0.000000000   0.000082400    0.000120213   \n",
       "3  ... 0.000582842    0.000000000   0.000027200   0.000042000    0.000056100   \n",
       "4  ... 0.000774688    0.000000000   0.000156840   0.000065100    0.000074200   \n",
       "5  ... 0.000321481    0.000000000   0.000000000   0.000196736    0.000188043   \n",
       "6  ... 0.000377722    0.000000000   0.000000000   0.000247236    0.000247236   \n",
       "7  ... 0.000000000    0.000000000   0.000326379   0.000028500    0.000000000   \n",
       "8  ... 0.000559101    0.000034700   0.000000000   0.000057100    0.000000000   \n",
       "9  ... 0.000702994    0.000000000   0.000242589   0.000049000    0.000089200   \n",
       "10 ... 0.000318932    0.000000000   0.000000000   0.000073500    0.000160432   \n",
       "11 ... 0.000376651    0.000000000   0.000000000   0.000058500    0.000063900   \n",
       "12 ... 0.000291650    0.000000000   0.000000000   0.000112275    0.000147264   \n",
       "13 ... 0.000012000    0.000016100   0.000000000   0.000099700    0.000176155   \n",
       "14 ... 0.000675837    0.000000000   0.000000000   0.000139390    0.000286905   \n",
       "15 ... 0.000460308    0.000028600   0.000000000   0.000060300    0.000069700   \n",
       "21 ... 0.001156281    0.000118265   0.000097200   0.000086700    0.000102903   \n",
       "22 ... 0.000366927    0.000000000   0.000000000   0.000097700    0.000245467   \n",
       "23 ... 0.000284637    0.000000000   0.000000000   0.000185630    0.000187123   \n",
       "24 ... 0.000606393    0.000065200   0.000000000   0.000097500    0.000186552   \n",
       "25 ... 0.000313611    0.000000000   0.000000000   0.000019700    0.000035900   \n",
       "36 ... 0.000558939    0.000000000   0.000035300   0.000257809    0.000225780   \n",
       "37 ... 0.000305052    0.000000000   0.000051700   0.000035900    0.000049700   \n",
       "38 ... 0.000263627    0.000067800   0.000000000   0.000114034    0.000249241   \n",
       "39 ... 0.000018000    0.000053100   0.000000000   0.000118599    0.000137792   \n",
       "40 ... 0.000574143    0.000040300   0.000000000   0.000199560    0.000212646   \n",
       "51 ... 0.000531011    0.000000000   0.000082300   0.000000000    0.000000000   \n",
       "52 ... 0.000394142    0.000037900   0.000032900   0.000000000    0.000056200   \n",
       "53 ... 0.000146737    0.000000000   0.000000000   0.000034200    0.000054100   \n",
       "54 ... 0.000427624    0.000000000   0.000000000   0.000060900    0.000107317   \n",
       "55 ... 0.000642941    0.000040300   0.000000000   0.000153822    0.000213973   \n",
       "   X776.095_2.398 X776.148_2.398 X776.359_2.398 X819.433_2.399 X867.281_2.399\n",
       "1  0.000135990    0.000323401    0.000323462    0.000265376    0.000099000   \n",
       "2  0.000151179    0.000243702    0.000214309    0.000353256    0.000135352   \n",
       "3  0.000157763    0.000178871    0.000202296    0.000203821    0.000092300   \n",
       "4  0.000248777    0.000308660    0.000307198    0.000339938    0.000099300   \n",
       "5  0.000370402    0.000512506    0.000582393    0.000442618    0.000209434   \n",
       "6  0.000430374    0.000666165    0.000762312    0.000503630    0.000338805   \n",
       "7  0.000067700    0.000117461    0.000094100    0.000147904    0.000042800   \n",
       "8  0.000127218    0.000170687    0.000213340    0.000174100    0.000078200   \n",
       "9  0.000191145    0.000194474    0.000306018    0.000368797    0.000105409   \n",
       "10 0.000190363    0.000308303    0.000324292    0.000337835    0.000196282   \n",
       "11 0.000126389    0.000218605    0.000299814    0.000239741    0.000103383   \n",
       "12 0.000349580    0.000528022    0.000454245    0.000539593    0.000383944   \n",
       "13 0.000209709    0.000343922    0.000348116    0.000294990    0.000164971   \n",
       "14 0.000512548    0.000625943    0.000807376    0.000625943    0.000319603   \n",
       "15 0.000136097    0.000191824    0.000232803    0.000215891    0.000065700   \n",
       "21 0.000189529    0.000303558    0.000361510    0.000309077    0.000141744   \n",
       "22 0.000409828    0.000828059    0.000811386    0.000800271    0.000424000   \n",
       "23 0.000310442    0.000397130    0.000591933    0.000496727    0.000263751   \n",
       "24 0.000435305    0.000724182    0.000706732    0.000759083    0.000406023   \n",
       "25 0.000079800    0.000119594    0.000131164    0.000097400    0.000073600   \n",
       "36 0.000422882    0.000573648    0.000731769    0.000698674    0.000351994   \n",
       "37 0.000106982    0.000084200    0.000151145    0.000073700    0.000058300   \n",
       "38 0.000454675    0.000818920    0.000727929    0.000651305    0.000275235   \n",
       "39 0.000204720    0.000305505    0.000277159    0.000267710    0.000136163   \n",
       "40 0.000408934    0.000351683    0.000386033    0.000487449    0.000256810   \n",
       "51 0.000000000    0.000112990    0.000105773    0.000121727    0.000044000   \n",
       "52 0.000069100    0.000077400    0.000070300    0.000155529    0.000100663   \n",
       "53 0.000137227    0.000196984    0.000160715    0.000181791    0.000092900   \n",
       "54 0.000305577    0.000402470    0.000391689    0.000345299    0.000233756   \n",
       "55 0.000302420    0.000492921    0.000485777    0.000523878    0.000252414   "
      ]
     },
     "metadata": {},
     "output_type": "display_data"
    },
    {
     "data": {
      "text/html": [
       "<table>\n",
       "<thead><tr><th scope=col>filename</th><th scope=col>MouseID</th><th scope=col>Treatmentgroup</th><th scope=col>DPI</th><th scope=col>organ</th><th scope=col>well_position</th><th scope=col>plate</th><th scope=col>X141.091_1.54</th><th scope=col>X203.007_0.309</th><th scope=col>X240.116_2.324</th><th scope=col>...</th><th scope=col>X708.445_3.006</th><th scope=col>X709.936_2.18</th><th scope=col>X720.445_3.09</th><th scope=col>X737.391_2.399</th><th scope=col>X776.042_2.398</th><th scope=col>X776.095_2.398</th><th scope=col>X776.148_2.398</th><th scope=col>X776.359_2.398</th><th scope=col>X819.433_2.399</th><th scope=col>X867.281_2.399</th></tr></thead>\n",
       "<tbody>\n",
       "\t<tr><td>X511_Group1C_142dpi_LV_top_161_G_A1_P128.mzXML</td><td>511                                           </td><td>Group1C                                       </td><td>142dpi                                        </td><td>LV_top                                        </td><td>A1                                            </td><td>P128                                          </td><td>0.000150701                                   </td><td>0.000253054                                   </td><td>3.74e-05                                      </td><td>...                                           </td><td>0.000561014                                   </td><td>0                                             </td><td>0.00000000                                    </td><td>0.000083200                                   </td><td>0.000080700                                   </td><td>0.000135990                                   </td><td>0.000323401                                   </td><td>0.000323462                                   </td><td>0.000265376                                   </td><td>0.000099000                                   </td></tr>\n",
       "\t<tr><td>X512_Group1C_142dpi_LV_top_162_G_A2_P128.mzXML</td><td>512                                           </td><td>Group1C                                       </td><td>142dpi                                        </td><td>LV_top                                        </td><td>A2                                            </td><td>P128                                          </td><td>0.000360521                                   </td><td>0.000326035                                   </td><td>0.00e+00                                      </td><td>...                                           </td><td>0.000621951                                   </td><td>0                                             </td><td>0.00000000                                    </td><td>0.000082400                                   </td><td>0.000120213                                   </td><td>0.000151179                                   </td><td>0.000243702                                   </td><td>0.000214309                                   </td><td>0.000353256                                   </td><td>0.000135352                                   </td></tr>\n",
       "\t<tr><td>X513_Group1C_142dpi_LV_top_163_G_A3_P128.mzXML</td><td>513                                           </td><td>Group1C                                       </td><td>142dpi                                        </td><td>LV_top                                        </td><td>A3                                            </td><td>P128                                          </td><td>0.000115526                                   </td><td>0.000073000                                   </td><td>0.00e+00                                      </td><td>...                                           </td><td>0.000582842                                   </td><td>0                                             </td><td>0.00002720                                    </td><td>0.000042000                                   </td><td>0.000056100                                   </td><td>0.000157763                                   </td><td>0.000178871                                   </td><td>0.000202296                                   </td><td>0.000203821                                   </td><td>0.000092300                                   </td></tr>\n",
       "\t<tr><td>X514_Group1C_142dpi_LV_top_164_G_A4_P128.mzXML</td><td>514                                           </td><td>Group1C                                       </td><td>142dpi                                        </td><td>LV_top                                        </td><td>A4                                            </td><td>P128                                          </td><td>0.000249240                                   </td><td>0.000333486                                   </td><td>0.00e+00                                      </td><td>...                                           </td><td>0.000774688                                   </td><td>0                                             </td><td>0.00015684                                    </td><td>0.000065100                                   </td><td>0.000074200                                   </td><td>0.000248777                                   </td><td>0.000308660                                   </td><td>0.000307198                                   </td><td>0.000339938                                   </td><td>0.000099300                                   </td></tr>\n",
       "\t<tr><td>X515_Group1C_142dpi_LV_top_165_G_A5_P128.mzXML</td><td>515                                           </td><td>Group1C                                       </td><td>142dpi                                        </td><td>LV_top                                        </td><td>A5                                            </td><td>P128                                          </td><td>0.000166425                                   </td><td>0.000000000                                   </td><td>3.27e-05                                      </td><td>...                                           </td><td>0.000321481                                   </td><td>0                                             </td><td>0.00000000                                    </td><td>0.000196736                                   </td><td>0.000188043                                   </td><td>0.000370402                                   </td><td>0.000512506                                   </td><td>0.000582393                                   </td><td>0.000442618                                   </td><td>0.000209434                                   </td></tr>\n",
       "\t<tr><td>X531_Group1C_142dpi_LV_top_166_G_A6_P128.mzXML</td><td>531                                           </td><td>Group1C                                       </td><td>142dpi                                        </td><td>LV_top                                        </td><td>A6                                            </td><td>P128                                          </td><td>0.000142641                                   </td><td>0.000000000                                   </td><td>3.77e-05                                      </td><td>...                                           </td><td>0.000377722                                   </td><td>0                                             </td><td>0.00000000                                    </td><td>0.000247236                                   </td><td>0.000247236                                   </td><td>0.000430374                                   </td><td>0.000666165                                   </td><td>0.000762312                                   </td><td>0.000503630                                   </td><td>0.000338805                                   </td></tr>\n",
       "</tbody>\n",
       "</table>\n"
      ],
      "text/latex": [
       "\\begin{tabular}{r|lllllllllllllllllllllllllllllllllll}\n",
       " filename & MouseID & Treatmentgroup & DPI & organ & well\\_position & plate & X141.091\\_1.54 & X203.007\\_0.309 & X240.116\\_2.324 & ... & X708.445\\_3.006 & X709.936\\_2.18 & X720.445\\_3.09 & X737.391\\_2.399 & X776.042\\_2.398 & X776.095\\_2.398 & X776.148\\_2.398 & X776.359\\_2.398 & X819.433\\_2.399 & X867.281\\_2.399\\\\\n",
       "\\hline\n",
       "\t X511\\_Group1C\\_142dpi\\_LV\\_top\\_161\\_G\\_A1\\_P128.mzXML & 511                                                            & Group1C                                                        & 142dpi                                                         & LV\\_top                                                       & A1                                                             & P128                                                           & 0.000150701                                                    & 0.000253054                                                    & 3.74e-05                                                       & ...                                                            & 0.000561014                                                    & 0                                                              & 0.00000000                                                     & 0.000083200                                                    & 0.000080700                                                    & 0.000135990                                                    & 0.000323401                                                    & 0.000323462                                                    & 0.000265376                                                    & 0.000099000                                                   \\\\\n",
       "\t X512\\_Group1C\\_142dpi\\_LV\\_top\\_162\\_G\\_A2\\_P128.mzXML & 512                                                            & Group1C                                                        & 142dpi                                                         & LV\\_top                                                       & A2                                                             & P128                                                           & 0.000360521                                                    & 0.000326035                                                    & 0.00e+00                                                       & ...                                                            & 0.000621951                                                    & 0                                                              & 0.00000000                                                     & 0.000082400                                                    & 0.000120213                                                    & 0.000151179                                                    & 0.000243702                                                    & 0.000214309                                                    & 0.000353256                                                    & 0.000135352                                                   \\\\\n",
       "\t X513\\_Group1C\\_142dpi\\_LV\\_top\\_163\\_G\\_A3\\_P128.mzXML & 513                                                            & Group1C                                                        & 142dpi                                                         & LV\\_top                                                       & A3                                                             & P128                                                           & 0.000115526                                                    & 0.000073000                                                    & 0.00e+00                                                       & ...                                                            & 0.000582842                                                    & 0                                                              & 0.00002720                                                     & 0.000042000                                                    & 0.000056100                                                    & 0.000157763                                                    & 0.000178871                                                    & 0.000202296                                                    & 0.000203821                                                    & 0.000092300                                                   \\\\\n",
       "\t X514\\_Group1C\\_142dpi\\_LV\\_top\\_164\\_G\\_A4\\_P128.mzXML & 514                                                            & Group1C                                                        & 142dpi                                                         & LV\\_top                                                       & A4                                                             & P128                                                           & 0.000249240                                                    & 0.000333486                                                    & 0.00e+00                                                       & ...                                                            & 0.000774688                                                    & 0                                                              & 0.00015684                                                     & 0.000065100                                                    & 0.000074200                                                    & 0.000248777                                                    & 0.000308660                                                    & 0.000307198                                                    & 0.000339938                                                    & 0.000099300                                                   \\\\\n",
       "\t X515\\_Group1C\\_142dpi\\_LV\\_top\\_165\\_G\\_A5\\_P128.mzXML & 515                                                            & Group1C                                                        & 142dpi                                                         & LV\\_top                                                       & A5                                                             & P128                                                           & 0.000166425                                                    & 0.000000000                                                    & 3.27e-05                                                       & ...                                                            & 0.000321481                                                    & 0                                                              & 0.00000000                                                     & 0.000196736                                                    & 0.000188043                                                    & 0.000370402                                                    & 0.000512506                                                    & 0.000582393                                                    & 0.000442618                                                    & 0.000209434                                                   \\\\\n",
       "\t X531\\_Group1C\\_142dpi\\_LV\\_top\\_166\\_G\\_A6\\_P128.mzXML & 531                                                            & Group1C                                                        & 142dpi                                                         & LV\\_top                                                       & A6                                                             & P128                                                           & 0.000142641                                                    & 0.000000000                                                    & 3.77e-05                                                       & ...                                                            & 0.000377722                                                    & 0                                                              & 0.00000000                                                     & 0.000247236                                                    & 0.000247236                                                    & 0.000430374                                                    & 0.000666165                                                    & 0.000762312                                                    & 0.000503630                                                    & 0.000338805                                                   \\\\\n",
       "\\end{tabular}\n"
      ],
      "text/markdown": [
       "\n",
       "| filename | MouseID | Treatmentgroup | DPI | organ | well_position | plate | X141.091_1.54 | X203.007_0.309 | X240.116_2.324 | ... | X708.445_3.006 | X709.936_2.18 | X720.445_3.09 | X737.391_2.399 | X776.042_2.398 | X776.095_2.398 | X776.148_2.398 | X776.359_2.398 | X819.433_2.399 | X867.281_2.399 |\n",
       "|---|---|---|---|---|---|---|---|---|---|---|---|---|---|---|---|---|---|---|---|---|\n",
       "| X511_Group1C_142dpi_LV_top_161_G_A1_P128.mzXML | 511                                            | Group1C                                        | 142dpi                                         | LV_top                                         | A1                                             | P128                                           | 0.000150701                                    | 0.000253054                                    | 3.74e-05                                       | ...                                            | 0.000561014                                    | 0                                              | 0.00000000                                     | 0.000083200                                    | 0.000080700                                    | 0.000135990                                    | 0.000323401                                    | 0.000323462                                    | 0.000265376                                    | 0.000099000                                    |\n",
       "| X512_Group1C_142dpi_LV_top_162_G_A2_P128.mzXML | 512                                            | Group1C                                        | 142dpi                                         | LV_top                                         | A2                                             | P128                                           | 0.000360521                                    | 0.000326035                                    | 0.00e+00                                       | ...                                            | 0.000621951                                    | 0                                              | 0.00000000                                     | 0.000082400                                    | 0.000120213                                    | 0.000151179                                    | 0.000243702                                    | 0.000214309                                    | 0.000353256                                    | 0.000135352                                    |\n",
       "| X513_Group1C_142dpi_LV_top_163_G_A3_P128.mzXML | 513                                            | Group1C                                        | 142dpi                                         | LV_top                                         | A3                                             | P128                                           | 0.000115526                                    | 0.000073000                                    | 0.00e+00                                       | ...                                            | 0.000582842                                    | 0                                              | 0.00002720                                     | 0.000042000                                    | 0.000056100                                    | 0.000157763                                    | 0.000178871                                    | 0.000202296                                    | 0.000203821                                    | 0.000092300                                    |\n",
       "| X514_Group1C_142dpi_LV_top_164_G_A4_P128.mzXML | 514                                            | Group1C                                        | 142dpi                                         | LV_top                                         | A4                                             | P128                                           | 0.000249240                                    | 0.000333486                                    | 0.00e+00                                       | ...                                            | 0.000774688                                    | 0                                              | 0.00015684                                     | 0.000065100                                    | 0.000074200                                    | 0.000248777                                    | 0.000308660                                    | 0.000307198                                    | 0.000339938                                    | 0.000099300                                    |\n",
       "| X515_Group1C_142dpi_LV_top_165_G_A5_P128.mzXML | 515                                            | Group1C                                        | 142dpi                                         | LV_top                                         | A5                                             | P128                                           | 0.000166425                                    | 0.000000000                                    | 3.27e-05                                       | ...                                            | 0.000321481                                    | 0                                              | 0.00000000                                     | 0.000196736                                    | 0.000188043                                    | 0.000370402                                    | 0.000512506                                    | 0.000582393                                    | 0.000442618                                    | 0.000209434                                    |\n",
       "| X531_Group1C_142dpi_LV_top_166_G_A6_P128.mzXML | 531                                            | Group1C                                        | 142dpi                                         | LV_top                                         | A6                                             | P128                                           | 0.000142641                                    | 0.000000000                                    | 3.77e-05                                       | ...                                            | 0.000377722                                    | 0                                              | 0.00000000                                     | 0.000247236                                    | 0.000247236                                    | 0.000430374                                    | 0.000666165                                    | 0.000762312                                    | 0.000503630                                    | 0.000338805                                    |\n",
       "\n"
      ],
      "text/plain": [
       "  filename                                       MouseID Treatmentgroup DPI   \n",
       "1 X511_Group1C_142dpi_LV_top_161_G_A1_P128.mzXML 511     Group1C        142dpi\n",
       "2 X512_Group1C_142dpi_LV_top_162_G_A2_P128.mzXML 512     Group1C        142dpi\n",
       "3 X513_Group1C_142dpi_LV_top_163_G_A3_P128.mzXML 513     Group1C        142dpi\n",
       "4 X514_Group1C_142dpi_LV_top_164_G_A4_P128.mzXML 514     Group1C        142dpi\n",
       "5 X515_Group1C_142dpi_LV_top_165_G_A5_P128.mzXML 515     Group1C        142dpi\n",
       "6 X531_Group1C_142dpi_LV_top_166_G_A6_P128.mzXML 531     Group1C        142dpi\n",
       "  organ  well_position plate X141.091_1.54 X203.007_0.309 X240.116_2.324 ...\n",
       "1 LV_top A1            P128  0.000150701   0.000253054    3.74e-05       ...\n",
       "2 LV_top A2            P128  0.000360521   0.000326035    0.00e+00       ...\n",
       "3 LV_top A3            P128  0.000115526   0.000073000    0.00e+00       ...\n",
       "4 LV_top A4            P128  0.000249240   0.000333486    0.00e+00       ...\n",
       "5 LV_top A5            P128  0.000166425   0.000000000    3.27e-05       ...\n",
       "6 LV_top A6            P128  0.000142641   0.000000000    3.77e-05       ...\n",
       "  X708.445_3.006 X709.936_2.18 X720.445_3.09 X737.391_2.399 X776.042_2.398\n",
       "1 0.000561014    0             0.00000000    0.000083200    0.000080700   \n",
       "2 0.000621951    0             0.00000000    0.000082400    0.000120213   \n",
       "3 0.000582842    0             0.00002720    0.000042000    0.000056100   \n",
       "4 0.000774688    0             0.00015684    0.000065100    0.000074200   \n",
       "5 0.000321481    0             0.00000000    0.000196736    0.000188043   \n",
       "6 0.000377722    0             0.00000000    0.000247236    0.000247236   \n",
       "  X776.095_2.398 X776.148_2.398 X776.359_2.398 X819.433_2.399 X867.281_2.399\n",
       "1 0.000135990    0.000323401    0.000323462    0.000265376    0.000099000   \n",
       "2 0.000151179    0.000243702    0.000214309    0.000353256    0.000135352   \n",
       "3 0.000157763    0.000178871    0.000202296    0.000203821    0.000092300   \n",
       "4 0.000248777    0.000308660    0.000307198    0.000339938    0.000099300   \n",
       "5 0.000370402    0.000512506    0.000582393    0.000442618    0.000209434   \n",
       "6 0.000430374    0.000666165    0.000762312    0.000503630    0.000338805   "
      ]
     },
     "metadata": {},
     "output_type": "display_data"
    },
    {
     "data": {
      "text/html": [
       "<ol class=list-inline>\n",
       "\t<li>30</li>\n",
       "\t<li>35</li>\n",
       "</ol>\n"
      ],
      "text/latex": [
       "\\begin{enumerate*}\n",
       "\\item 30\n",
       "\\item 35\n",
       "\\end{enumerate*}\n"
      ],
      "text/markdown": [
       "1. 30\n",
       "2. 35\n",
       "\n",
       "\n"
      ],
      "text/plain": [
       "[1] 30 35"
      ]
     },
     "metadata": {},
     "output_type": "display_data"
    },
    {
     "data": {
      "text/html": [
       "<ol class=list-inline>\n",
       "\t<li>30</li>\n",
       "\t<li>28</li>\n",
       "</ol>\n"
      ],
      "text/latex": [
       "\\begin{enumerate*}\n",
       "\\item 30\n",
       "\\item 28\n",
       "\\end{enumerate*}\n"
      ],
      "text/markdown": [
       "1. 30\n",
       "2. 28\n",
       "\n",
       "\n"
      ],
      "text/plain": [
       "[1] 30 28"
      ]
     },
     "metadata": {},
     "output_type": "display_data"
    },
    {
     "data": {
      "text/html": [
       "<ol class=list-inline>\n",
       "\t<li>30</li>\n",
       "\t<li>28</li>\n",
       "</ol>\n"
      ],
      "text/latex": [
       "\\begin{enumerate*}\n",
       "\\item 30\n",
       "\\item 28\n",
       "\\end{enumerate*}\n"
      ],
      "text/markdown": [
       "1. 30\n",
       "2. 28\n",
       "\n",
       "\n"
      ],
      "text/plain": [
       "[1] 30 28"
      ]
     },
     "metadata": {},
     "output_type": "display_data"
    },
    {
     "data": {
      "text/html": [
       "<ol class=list-inline>\n",
       "\t<li>30</li>\n",
       "\t<li>35</li>\n",
       "</ol>\n"
      ],
      "text/latex": [
       "\\begin{enumerate*}\n",
       "\\item 30\n",
       "\\item 35\n",
       "\\end{enumerate*}\n"
      ],
      "text/markdown": [
       "1. 30\n",
       "2. 35\n",
       "\n",
       "\n"
      ],
      "text/plain": [
       "[1] 30 35"
      ]
     },
     "metadata": {},
     "output_type": "display_data"
    }
   ],
   "source": [
    "noMeta<-features_pos[,8:35]\n",
    "head(noMeta)\n",
    "not_zero<-which(colSums(noMeta) != 0)\n",
    "head(not_zero)\n",
    "nonzero <- noMeta[, not_zero] # all the non-zero columns\n",
    "nonzero\n",
    "#add back metadata\n",
    "nonzero_wMeta<-cbind(features_pos[,1:7], nonzero)\n",
    "head(nonzero_wMeta)\n",
    "dim(features_pos)\n",
    "dim(noMeta)\n",
    "dim(nonzero)\n",
    "dim(nonzero_wMeta)"
   ]
  },
  {
   "cell_type": "code",
   "execution_count": 8,
   "metadata": {
    "scrolled": true
   },
   "outputs": [
    {
     "name": "stderr",
     "output_type": "stream",
     "text": [
      "Warning message in wilcox.test.default(x = c(0.000150701, 0.000360521, 0.000115526, :\n",
      "\"cannot compute exact p-value with ties\"Warning message in wilcox.test.default(x = c(0.000253054, 0.000326035, 7.3e-05, :\n",
      "\"cannot compute exact p-value with ties\"Warning message in wilcox.test.default(x = c(3.74e-05, 0, 0, 0, 3.27e-05, 3.77e-05, :\n",
      "\"cannot compute exact p-value with ties\"Warning message in wilcox.test.default(x = c(0, 0, 0, 0, 1.86e-05, 4.46e-05, 0.00010948, :\n",
      "\"cannot compute exact p-value with ties\"Warning message in wilcox.test.default(x = c(0.000782811, 0.000543553, 0.000573921, :\n",
      "\"cannot compute exact p-value with ties\"Warning message in wilcox.test.default(x = c(0, 0, 0, 0, 0, 0, 0, 0, 0, 0, 0, 0, :\n",
      "\"cannot compute exact p-value with ties\"Warning message in wilcox.test.default(x = c(0.000752368, 0.000448609, 0.000502553, :\n",
      "\"cannot compute exact p-value with ties\"Warning message in wilcox.test.default(x = c(0.000152189, 4.61e-05, 0.000268739, :\n",
      "\"cannot compute exact p-value with ties\"Warning message in wilcox.test.default(x = c(0.000700181, 0.000137152, 0.001049711, :\n",
      "\"cannot compute exact p-value with ties\"Warning message in wilcox.test.default(x = c(6.66e-05, 0, 0.000188732, 0, 9.16e-05, :\n",
      "\"cannot compute exact p-value with ties\"Warning message in wilcox.test.default(x = c(0, 0, 5.51e-05, 0, 2.43e-05, 3.81e-05, :\n",
      "\"cannot compute exact p-value with ties\"Warning message in wilcox.test.default(x = c(8.11e-05, 7.1e-05, 0.000124626, 7.68e-05, :\n",
      "\"cannot compute exact p-value with ties\"Warning message in wilcox.test.default(x = c(0, 0, 0, 0, 0, 2.02e-05, 0, 0, 0, 0, :\n",
      "\"cannot compute exact p-value with ties\"Warning message in wilcox.test.default(x = c(0, 0, 0, 0, 0, 4.49e-05, 0.000138654, :\n",
      "\"cannot compute exact p-value with ties\"Warning message in wilcox.test.default(x = c(4e-05, 0, 5.71e-05, 5.34e-05, 0, 7.5e-05, :\n",
      "\"cannot compute exact p-value with ties\"Warning message in wilcox.test.default(x = c(0.000364239, 0.000333458, 0.000198338, :\n",
      "\"cannot compute exact p-value with ties\"Warning message in wilcox.test.default(x = c(0, 0, 0, 0, 0, 0, 0, 3.47e-05, 0, 0, :\n",
      "\"cannot compute exact p-value with ties\"Warning message in wilcox.test.default(x = c(0, 0, 2.72e-05, 0.00015684, 0, 0, 0.000326379, :\n",
      "\"cannot compute exact p-value with ties\"Warning message in wilcox.test.default(x = c(8.32e-05, 8.24e-05, 4.2e-05, 6.51e-05, :\n",
      "\"cannot compute exact p-value with ties\"Warning message in wilcox.test.default(x = c(8.07e-05, 0.000120213, 5.61e-05, 7.42e-05, :\n",
      "\"cannot compute exact p-value with ties\""
     ]
    },
    {
     "data": {
      "text/html": [
       "<ol class=list-inline>\n",
       "\t<li>0.0969423357222676</li>\n",
       "\t<li>0.00416060089041084</li>\n",
       "\t<li>0.000199700939049491</li>\n",
       "\t<li>1</li>\n",
       "\t<li>0.0185537262328588</li>\n",
       "\t<li>9.32015092114702e-05</li>\n",
       "</ol>\n"
      ],
      "text/latex": [
       "\\begin{enumerate*}\n",
       "\\item 0.0969423357222676\n",
       "\\item 0.00416060089041084\n",
       "\\item 0.000199700939049491\n",
       "\\item 1\n",
       "\\item 0.0185537262328588\n",
       "\\item 9.32015092114702e-05\n",
       "\\end{enumerate*}\n"
      ],
      "text/markdown": [
       "1. 0.0969423357222676\n",
       "2. 0.00416060089041084\n",
       "3. 0.000199700939049491\n",
       "4. 1\n",
       "5. 0.0185537262328588\n",
       "6. 9.32015092114702e-05\n",
       "\n",
       "\n"
      ],
      "text/plain": [
       "[1] 9.694234e-02 4.160601e-03 1.997009e-04 1.000000e+00 1.855373e-02\n",
       "[6] 9.320151e-05"
      ]
     },
     "metadata": {},
     "output_type": "display_data"
    },
    {
     "data": {
      "text/html": [
       "<ol class=list-inline>\n",
       "\t<li>0.208798876940269</li>\n",
       "\t<li>0.0232993649863007</li>\n",
       "\t<li>0.00186387543112858</li>\n",
       "\t<li>1</li>\n",
       "\t<li>0.0649380418150058</li>\n",
       "\t<li>0.00154844031297904</li>\n",
       "</ol>\n"
      ],
      "text/latex": [
       "\\begin{enumerate*}\n",
       "\\item 0.208798876940269\n",
       "\\item 0.0232993649863007\n",
       "\\item 0.00186387543112858\n",
       "\\item 1\n",
       "\\item 0.0649380418150058\n",
       "\\item 0.00154844031297904\n",
       "\\end{enumerate*}\n"
      ],
      "text/markdown": [
       "1. 0.208798876940269\n",
       "2. 0.0232993649863007\n",
       "3. 0.00186387543112858\n",
       "4. 1\n",
       "5. 0.0649380418150058\n",
       "6. 0.00154844031297904\n",
       "\n",
       "\n"
      ],
      "text/plain": [
       "[1] 0.208798877 0.023299365 0.001863875 1.000000000 0.064938042 0.001548440"
      ]
     },
     "metadata": {},
     "output_type": "display_data"
    }
   ],
   "source": [
    "pval<-c()#create an empty vector with value pval\n",
    "\n",
    "# 8 to the end of each row\n",
    "for (i in 8:ncol(nonzero_wMeta)) \n",
    "pval<-c(pval,wilcox.test(nonzero_wMeta[,i]~nonzero_wMeta$Treatmentgroup)$p.value) #assign to pval the output of the Mann-Whitney-Wilcoxon test\n",
    "    #don't know why there is that first pval in c(pval...) but it doesn't work without it\n",
    "    #$p.value is because there are many output lines from wilcox.test; you want to keep only the one that's called $p.value because that's where the nbr is\n",
    "\n",
    "head(pval) #to check\n",
    "pAdj <- p.adjust(pval, method = c(\"fdr\"), n=length(pval)) \n",
    "head(pAdj) \n",
    "\n"
   ]
  },
  {
   "cell_type": "code",
   "execution_count": 9,
   "metadata": {
    "scrolled": true
   },
   "outputs": [
    {
     "data": {
      "text/html": [
       "28"
      ],
      "text/latex": [
       "28"
      ],
      "text/markdown": [
       "28"
      ],
      "text/plain": [
       "[1] 28"
      ]
     },
     "metadata": {},
     "output_type": "display_data"
    }
   ],
   "source": [
    "length(pval)"
   ]
  },
  {
   "cell_type": "code",
   "execution_count": 10,
   "metadata": {
    "scrolled": true
   },
   "outputs": [
    {
     "data": {
      "text/html": [
       "28"
      ],
      "text/latex": [
       "28"
      ],
      "text/markdown": [
       "28"
      ],
      "text/plain": [
       "[1] 28"
      ]
     },
     "metadata": {},
     "output_type": "display_data"
    }
   ],
   "source": [
    "length(pAdj)"
   ]
  },
  {
   "cell_type": "code",
   "execution_count": 11,
   "metadata": {},
   "outputs": [
    {
     "data": {
      "text/html": [
       "<ol class=list-inline>\n",
       "\t<li>2</li>\n",
       "\t<li>28</li>\n",
       "</ol>\n"
      ],
      "text/latex": [
       "\\begin{enumerate*}\n",
       "\\item 2\n",
       "\\item 28\n",
       "\\end{enumerate*}\n"
      ],
      "text/markdown": [
       "1. 2\n",
       "2. 28\n",
       "\n",
       "\n"
      ],
      "text/plain": [
       "[1]  2 28"
      ]
     },
     "metadata": {},
     "output_type": "display_data"
    },
    {
     "data": {
      "text/html": [
       "<table>\n",
       "<thead><tr><th></th><th scope=col>X141.091_1.54</th><th scope=col>X203.007_0.309</th><th scope=col>X240.116_2.324</th></tr></thead>\n",
       "<tbody>\n",
       "\t<tr><th scope=row>Group1C</th><td>0.0001959355</td><td>1.267091e-04</td><td>1.629333e-05</td></tr>\n",
       "\t<tr><th scope=row>Group9</th><td>0.0001423913</td><td>3.647447e-05</td><td>1.006609e-04</td></tr>\n",
       "</tbody>\n",
       "</table>\n"
      ],
      "text/latex": [
       "\\begin{tabular}{r|lll}\n",
       "  & X141.091\\_1.54 & X203.007\\_0.309 & X240.116\\_2.324\\\\\n",
       "\\hline\n",
       "\tGroup1C & 0.0001959355 & 1.267091e-04 & 1.629333e-05\\\\\n",
       "\tGroup9 & 0.0001423913 & 3.647447e-05 & 1.006609e-04\\\\\n",
       "\\end{tabular}\n"
      ],
      "text/markdown": [
       "\n",
       "| <!--/--> | X141.091_1.54 | X203.007_0.309 | X240.116_2.324 |\n",
       "|---|---|---|---|\n",
       "| Group1C | 0.0001959355 | 1.267091e-04 | 1.629333e-05 |\n",
       "| Group9 | 0.0001423913 | 3.647447e-05 | 1.006609e-04 |\n",
       "\n"
      ],
      "text/plain": [
       "        X141.091_1.54 X203.007_0.309 X240.116_2.324\n",
       "Group1C 0.0001959355  1.267091e-04   1.629333e-05  \n",
       "Group9  0.0001423913  3.647447e-05   1.006609e-04  "
      ]
     },
     "metadata": {},
     "output_type": "display_data"
    },
    {
     "data": {
      "text/html": [
       "<dl class=dl-horizontal>\n",
       "\t<dt>X141.091_1.54</dt>\n",
       "\t\t<dd>1.37603617075766</dd>\n",
       "\t<dt>X203.007_0.309</dt>\n",
       "\t\t<dd>3.4739132580417</dd>\n",
       "\t<dt>X240.116_2.324</dt>\n",
       "\t\t<dd>0.161863523352986</dd>\n",
       "\t<dt>X249.112_2.768</dt>\n",
       "\t\t<dd>0.91795635804554</dd>\n",
       "\t<dt>X272.222_2.957</dt>\n",
       "\t\t<dd>1.58301331887203</dd>\n",
       "\t<dt>X293.211_2.931</dt>\n",
       "\t\t<dd>2.62445941151102</dd>\n",
       "</dl>\n"
      ],
      "text/latex": [
       "\\begin{description*}\n",
       "\\item[X141.091\\textbackslash{}\\_1.54] 1.37603617075766\n",
       "\\item[X203.007\\textbackslash{}\\_0.309] 3.4739132580417\n",
       "\\item[X240.116\\textbackslash{}\\_2.324] 0.161863523352986\n",
       "\\item[X249.112\\textbackslash{}\\_2.768] 0.91795635804554\n",
       "\\item[X272.222\\textbackslash{}\\_2.957] 1.58301331887203\n",
       "\\item[X293.211\\textbackslash{}\\_2.931] 2.62445941151102\n",
       "\\end{description*}\n"
      ],
      "text/markdown": [
       "X141.091_1.54\n",
       ":   1.37603617075766X203.007_0.309\n",
       ":   3.4739132580417X240.116_2.324\n",
       ":   0.161863523352986X249.112_2.768\n",
       ":   0.91795635804554X272.222_2.957\n",
       ":   1.58301331887203X293.211_2.931\n",
       ":   2.62445941151102\n",
       "\n"
      ],
      "text/plain": [
       " X141.091_1.54 X203.007_0.309 X240.116_2.324 X249.112_2.768 X272.222_2.957 \n",
       "     1.3760362      3.4739133      0.1618635      0.9179564      1.5830133 \n",
       "X293.211_2.931 \n",
       "     2.6244594 "
      ]
     },
     "metadata": {},
     "output_type": "display_data"
    },
    {
     "data": {
      "text/html": [
       "<ol class=list-inline>\n",
       "\t<li>'numeric'</li>\n",
       "\t<li>'vector'</li>\n",
       "</ol>\n"
      ],
      "text/latex": [
       "\\begin{enumerate*}\n",
       "\\item 'numeric'\n",
       "\\item 'vector'\n",
       "\\end{enumerate*}\n"
      ],
      "text/markdown": [
       "1. 'numeric'\n",
       "2. 'vector'\n",
       "\n",
       "\n"
      ],
      "text/plain": [
       "[1] \"numeric\" \"vector\" "
      ]
     },
     "metadata": {},
     "output_type": "display_data"
    }
   ],
   "source": [
    "# change the column name, you want to see infected and naive so it should be State\n",
    "avg<- apply(nonzero_wMeta[,8:ncol(nonzero_wMeta)], 2, function(x) tapply(x, nonzero_wMeta$Treatmentgroup, function(x) mean(x))) \n",
    "\n",
    "dim(avg) #to check\n",
    "\n",
    "avg[,1:3]#to check\n",
    "\n",
    "fch <- apply(avg, 2, function(x) x[1]/x[2]) #calculate fold change\n",
    "\n",
    "head(fch) #to check it's ok\n",
    "is(fch)"
   ]
  },
  {
   "cell_type": "code",
   "execution_count": 12,
   "metadata": {
    "scrolled": true
   },
   "outputs": [
    {
     "data": {
      "text/html": [
       "<dl class=dl-horizontal>\n",
       "\t<dt>X141.091_1.54</dt>\n",
       "\t\t<dd>1.37603617075766</dd>\n",
       "\t<dt>X203.007_0.309</dt>\n",
       "\t\t<dd>3.4739132580417</dd>\n",
       "\t<dt>X240.116_2.324</dt>\n",
       "\t\t<dd>0.161863523352986</dd>\n",
       "\t<dt>X249.112_2.768</dt>\n",
       "\t\t<dd>0.91795635804554</dd>\n",
       "\t<dt>X272.222_2.957</dt>\n",
       "\t\t<dd>1.58301331887203</dd>\n",
       "\t<dt>X293.211_2.931</dt>\n",
       "\t\t<dd>2.62445941151102</dd>\n",
       "\t<dt>X293.211_2.934</dt>\n",
       "\t\t<dd>0</dd>\n",
       "\t<dt>X296.258_2.976</dt>\n",
       "\t\t<dd>1.10635529997446</dd>\n",
       "\t<dt>X311.221_2.932</dt>\n",
       "\t\t<dd>2.69002595423804</dd>\n",
       "\t<dt>X345.243_3.095</dt>\n",
       "\t\t<dd>2.64361876191252</dd>\n",
       "\t<dt>X366.373_3.699</dt>\n",
       "\t\t<dd>0.568996209344698</dd>\n",
       "\t<dt>X440.337_2.772</dt>\n",
       "\t\t<dd>0.2278743895423</dd>\n",
       "\t<dt>X442.353_2.827</dt>\n",
       "\t\t<dd>0.160688209612659</dd>\n",
       "\t<dt>X546.029_2.319</dt>\n",
       "\t\t<dd>1.76499021799888</dd>\n",
       "\t<dt>X607.227_2.771</dt>\n",
       "\t\t<dd>0.171627215485075</dd>\n",
       "\t<dt>X608.227_2.768</dt>\n",
       "\t\t<dd>1.0409678365888</dd>\n",
       "\t<dt>X690.434_3.14</dt>\n",
       "\t\t<dd>1.1377153703084</dd>\n",
       "\t<dt>X692.414_2.985</dt>\n",
       "\t\t<dd>1.21887875587334</dd>\n",
       "\t<dt>X708.445_3.006</dt>\n",
       "\t\t<dd>1.00714803268253</dd>\n",
       "\t<dt>X709.936_2.18</dt>\n",
       "\t\t<dd>0.187766781360481</dd>\n",
       "\t<dt>X720.445_3.09</dt>\n",
       "\t\t<dd>2.51505678022712</dd>\n",
       "\t<dt>X737.391_2.399</dt>\n",
       "\t\t<dd>0.954094034830451</dd>\n",
       "\t<dt>X776.042_2.398</dt>\n",
       "\t\t<dd>0.852449806121391</dd>\n",
       "\t<dt>X776.095_2.398</dt>\n",
       "\t\t<dd>0.887375661935451</dd>\n",
       "\t<dt>X776.148_2.398</dt>\n",
       "\t\t<dd>0.852019020100034</dd>\n",
       "\t<dt>X776.359_2.398</dt>\n",
       "\t\t<dd>0.898384735283813</dd>\n",
       "\t<dt>X819.433_2.399</dt>\n",
       "\t\t<dd>0.846525071947628</dd>\n",
       "\t<dt>X867.281_2.399</dt>\n",
       "\t\t<dd>0.782451557248567</dd>\n",
       "</dl>\n"
      ],
      "text/latex": [
       "\\begin{description*}\n",
       "\\item[X141.091\\textbackslash{}\\_1.54] 1.37603617075766\n",
       "\\item[X203.007\\textbackslash{}\\_0.309] 3.4739132580417\n",
       "\\item[X240.116\\textbackslash{}\\_2.324] 0.161863523352986\n",
       "\\item[X249.112\\textbackslash{}\\_2.768] 0.91795635804554\n",
       "\\item[X272.222\\textbackslash{}\\_2.957] 1.58301331887203\n",
       "\\item[X293.211\\textbackslash{}\\_2.931] 2.62445941151102\n",
       "\\item[X293.211\\textbackslash{}\\_2.934] 0\n",
       "\\item[X296.258\\textbackslash{}\\_2.976] 1.10635529997446\n",
       "\\item[X311.221\\textbackslash{}\\_2.932] 2.69002595423804\n",
       "\\item[X345.243\\textbackslash{}\\_3.095] 2.64361876191252\n",
       "\\item[X366.373\\textbackslash{}\\_3.699] 0.568996209344698\n",
       "\\item[X440.337\\textbackslash{}\\_2.772] 0.2278743895423\n",
       "\\item[X442.353\\textbackslash{}\\_2.827] 0.160688209612659\n",
       "\\item[X546.029\\textbackslash{}\\_2.319] 1.76499021799888\n",
       "\\item[X607.227\\textbackslash{}\\_2.771] 0.171627215485075\n",
       "\\item[X608.227\\textbackslash{}\\_2.768] 1.0409678365888\n",
       "\\item[X690.434\\textbackslash{}\\_3.14] 1.1377153703084\n",
       "\\item[X692.414\\textbackslash{}\\_2.985] 1.21887875587334\n",
       "\\item[X708.445\\textbackslash{}\\_3.006] 1.00714803268253\n",
       "\\item[X709.936\\textbackslash{}\\_2.18] 0.187766781360481\n",
       "\\item[X720.445\\textbackslash{}\\_3.09] 2.51505678022712\n",
       "\\item[X737.391\\textbackslash{}\\_2.399] 0.954094034830451\n",
       "\\item[X776.042\\textbackslash{}\\_2.398] 0.852449806121391\n",
       "\\item[X776.095\\textbackslash{}\\_2.398] 0.887375661935451\n",
       "\\item[X776.148\\textbackslash{}\\_2.398] 0.852019020100034\n",
       "\\item[X776.359\\textbackslash{}\\_2.398] 0.898384735283813\n",
       "\\item[X819.433\\textbackslash{}\\_2.399] 0.846525071947628\n",
       "\\item[X867.281\\textbackslash{}\\_2.399] 0.782451557248567\n",
       "\\end{description*}\n"
      ],
      "text/markdown": [
       "X141.091_1.54\n",
       ":   1.37603617075766X203.007_0.309\n",
       ":   3.4739132580417X240.116_2.324\n",
       ":   0.161863523352986X249.112_2.768\n",
       ":   0.91795635804554X272.222_2.957\n",
       ":   1.58301331887203X293.211_2.931\n",
       ":   2.62445941151102X293.211_2.934\n",
       ":   0X296.258_2.976\n",
       ":   1.10635529997446X311.221_2.932\n",
       ":   2.69002595423804X345.243_3.095\n",
       ":   2.64361876191252X366.373_3.699\n",
       ":   0.568996209344698X440.337_2.772\n",
       ":   0.2278743895423X442.353_2.827\n",
       ":   0.160688209612659X546.029_2.319\n",
       ":   1.76499021799888X607.227_2.771\n",
       ":   0.171627215485075X608.227_2.768\n",
       ":   1.0409678365888X690.434_3.14\n",
       ":   1.1377153703084X692.414_2.985\n",
       ":   1.21887875587334X708.445_3.006\n",
       ":   1.00714803268253X709.936_2.18\n",
       ":   0.187766781360481X720.445_3.09\n",
       ":   2.51505678022712X737.391_2.399\n",
       ":   0.954094034830451X776.042_2.398\n",
       ":   0.852449806121391X776.095_2.398\n",
       ":   0.887375661935451X776.148_2.398\n",
       ":   0.852019020100034X776.359_2.398\n",
       ":   0.898384735283813X819.433_2.399\n",
       ":   0.846525071947628X867.281_2.399\n",
       ":   0.782451557248567\n",
       "\n"
      ],
      "text/plain": [
       " X141.091_1.54 X203.007_0.309 X240.116_2.324 X249.112_2.768 X272.222_2.957 \n",
       "     1.3760362      3.4739133      0.1618635      0.9179564      1.5830133 \n",
       "X293.211_2.931 X293.211_2.934 X296.258_2.976 X311.221_2.932 X345.243_3.095 \n",
       "     2.6244594      0.0000000      1.1063553      2.6900260      2.6436188 \n",
       "X366.373_3.699 X440.337_2.772 X442.353_2.827 X546.029_2.319 X607.227_2.771 \n",
       "     0.5689962      0.2278744      0.1606882      1.7649902      0.1716272 \n",
       "X608.227_2.768  X690.434_3.14 X692.414_2.985 X708.445_3.006  X709.936_2.18 \n",
       "     1.0409678      1.1377154      1.2188788      1.0071480      0.1877668 \n",
       " X720.445_3.09 X737.391_2.399 X776.042_2.398 X776.095_2.398 X776.148_2.398 \n",
       "     2.5150568      0.9540940      0.8524498      0.8873757      0.8520190 \n",
       "X776.359_2.398 X819.433_2.399 X867.281_2.399 \n",
       "     0.8983847      0.8465251      0.7824516 "
      ]
     },
     "metadata": {},
     "output_type": "display_data"
    }
   ],
   "source": [
    "fch"
   ]
  },
  {
   "cell_type": "code",
   "execution_count": 13,
   "metadata": {
    "scrolled": false
   },
   "outputs": [],
   "source": [
    "#Convoluted way to get the names; likely could find a simpler way\n",
    "\n",
    "#make dataframe from pval and fch\n",
    "df <- data.frame(fch,pval, pAdj)\n",
    "write.csv(df, \"LVT-wilcox-1C-9.csv\")"
   ]
  },
  {
   "cell_type": "code",
   "execution_count": null,
   "metadata": {},
   "outputs": [],
   "source": []
  },
  {
   "cell_type": "code",
   "execution_count": null,
   "metadata": {},
   "outputs": [],
   "source": []
  },
  {
   "cell_type": "code",
   "execution_count": null,
   "metadata": {},
   "outputs": [],
   "source": []
  }
 ],
 "metadata": {
  "kernelspec": {
   "display_name": "R",
   "language": "R",
   "name": "ir"
  },
  "language_info": {
   "codemirror_mode": "r",
   "file_extension": ".r",
   "mimetype": "text/x-r-source",
   "name": "R",
   "pygments_lexer": "r",
   "version": "3.6.1"
  }
 },
 "nbformat": 4,
 "nbformat_minor": 2
}
