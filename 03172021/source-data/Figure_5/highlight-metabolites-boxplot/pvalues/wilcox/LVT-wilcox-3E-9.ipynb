{
 "cells": [
  {
   "cell_type": "code",
   "execution_count": null,
   "metadata": {},
   "outputs": [],
   "source": [
    "# after I have filtered feature table, I do wilcox p value for filtered mass list. So that the p value will be more accurate"
   ]
  },
  {
   "cell_type": "code",
   "execution_count": 1,
   "metadata": {},
   "outputs": [],
   "source": [
    "a <- read.csv(\"03172021-9-15-3E-1C-LVT-M-F-filtered-fix.csv\")"
   ]
  },
  {
   "cell_type": "code",
   "execution_count": 2,
   "metadata": {},
   "outputs": [
    {
     "data": {
      "text/html": [
       "<table>\n",
       "<thead><tr><th scope=col>filename</th><th scope=col>MouseID</th><th scope=col>Treatmentgroup</th><th scope=col>DPI</th><th scope=col>organ</th><th scope=col>well_position</th><th scope=col>plate</th><th scope=col>X141.091_1.54</th><th scope=col>X203.007_0.309</th><th scope=col>X240.116_2.324</th><th scope=col>...</th><th scope=col>X708.445_3.006</th><th scope=col>X709.936_2.18</th><th scope=col>X720.445_3.09</th><th scope=col>X737.391_2.399</th><th scope=col>X776.042_2.398</th><th scope=col>X776.095_2.398</th><th scope=col>X776.148_2.398</th><th scope=col>X776.359_2.398</th><th scope=col>X819.433_2.399</th><th scope=col>X867.281_2.399</th></tr></thead>\n",
       "<tbody>\n",
       "\t<tr><td>X511_Group1C_142dpi_LV_top_161_G_A1_P128.mzXML</td><td>511                                           </td><td>Group1C                                       </td><td>142dpi                                        </td><td>LV_top                                        </td><td>A1                                            </td><td>P128                                          </td><td>0.000150701                                   </td><td>0.000253054                                   </td><td>3.74e-05                                      </td><td>...                                           </td><td>0.000561014                                   </td><td>0                                             </td><td>0.00000000                                    </td><td>0.000083200                                   </td><td>0.000080700                                   </td><td>0.000135990                                   </td><td>0.000323401                                   </td><td>0.000323462                                   </td><td>0.000265376                                   </td><td>0.000099000                                   </td></tr>\n",
       "\t<tr><td>X512_Group1C_142dpi_LV_top_162_G_A2_P128.mzXML</td><td>512                                           </td><td>Group1C                                       </td><td>142dpi                                        </td><td>LV_top                                        </td><td>A2                                            </td><td>P128                                          </td><td>0.000360521                                   </td><td>0.000326035                                   </td><td>0.00e+00                                      </td><td>...                                           </td><td>0.000621951                                   </td><td>0                                             </td><td>0.00000000                                    </td><td>0.000082400                                   </td><td>0.000120213                                   </td><td>0.000151179                                   </td><td>0.000243702                                   </td><td>0.000214309                                   </td><td>0.000353256                                   </td><td>0.000135352                                   </td></tr>\n",
       "\t<tr><td>X513_Group1C_142dpi_LV_top_163_G_A3_P128.mzXML</td><td>513                                           </td><td>Group1C                                       </td><td>142dpi                                        </td><td>LV_top                                        </td><td>A3                                            </td><td>P128                                          </td><td>0.000115526                                   </td><td>0.000073000                                   </td><td>0.00e+00                                      </td><td>...                                           </td><td>0.000582842                                   </td><td>0                                             </td><td>0.00002720                                    </td><td>0.000042000                                   </td><td>0.000056100                                   </td><td>0.000157763                                   </td><td>0.000178871                                   </td><td>0.000202296                                   </td><td>0.000203821                                   </td><td>0.000092300                                   </td></tr>\n",
       "\t<tr><td>X514_Group1C_142dpi_LV_top_164_G_A4_P128.mzXML</td><td>514                                           </td><td>Group1C                                       </td><td>142dpi                                        </td><td>LV_top                                        </td><td>A4                                            </td><td>P128                                          </td><td>0.000249240                                   </td><td>0.000333486                                   </td><td>0.00e+00                                      </td><td>...                                           </td><td>0.000774688                                   </td><td>0                                             </td><td>0.00015684                                    </td><td>0.000065100                                   </td><td>0.000074200                                   </td><td>0.000248777                                   </td><td>0.000308660                                   </td><td>0.000307198                                   </td><td>0.000339938                                   </td><td>0.000099300                                   </td></tr>\n",
       "\t<tr><td>X515_Group1C_142dpi_LV_top_165_G_A5_P128.mzXML</td><td>515                                           </td><td>Group1C                                       </td><td>142dpi                                        </td><td>LV_top                                        </td><td>A5                                            </td><td>P128                                          </td><td>0.000166425                                   </td><td>0.000000000                                   </td><td>3.27e-05                                      </td><td>...                                           </td><td>0.000321481                                   </td><td>0                                             </td><td>0.00000000                                    </td><td>0.000196736                                   </td><td>0.000188043                                   </td><td>0.000370402                                   </td><td>0.000512506                                   </td><td>0.000582393                                   </td><td>0.000442618                                   </td><td>0.000209434                                   </td></tr>\n",
       "\t<tr><td>X531_Group1C_142dpi_LV_top_166_G_A6_P128.mzXML</td><td>531                                           </td><td>Group1C                                       </td><td>142dpi                                        </td><td>LV_top                                        </td><td>A6                                            </td><td>P128                                          </td><td>0.000142641                                   </td><td>0.000000000                                   </td><td>3.77e-05                                      </td><td>...                                           </td><td>0.000377722                                   </td><td>0                                             </td><td>0.00000000                                    </td><td>0.000247236                                   </td><td>0.000247236                                   </td><td>0.000430374                                   </td><td>0.000666165                                   </td><td>0.000762312                                   </td><td>0.000503630                                   </td><td>0.000338805                                   </td></tr>\n",
       "</tbody>\n",
       "</table>\n"
      ],
      "text/latex": [
       "\\begin{tabular}{r|lllllllllllllllllllllllllllllllllll}\n",
       " filename & MouseID & Treatmentgroup & DPI & organ & well\\_position & plate & X141.091\\_1.54 & X203.007\\_0.309 & X240.116\\_2.324 & ... & X708.445\\_3.006 & X709.936\\_2.18 & X720.445\\_3.09 & X737.391\\_2.399 & X776.042\\_2.398 & X776.095\\_2.398 & X776.148\\_2.398 & X776.359\\_2.398 & X819.433\\_2.399 & X867.281\\_2.399\\\\\n",
       "\\hline\n",
       "\t X511\\_Group1C\\_142dpi\\_LV\\_top\\_161\\_G\\_A1\\_P128.mzXML & 511                                                            & Group1C                                                        & 142dpi                                                         & LV\\_top                                                       & A1                                                             & P128                                                           & 0.000150701                                                    & 0.000253054                                                    & 3.74e-05                                                       & ...                                                            & 0.000561014                                                    & 0                                                              & 0.00000000                                                     & 0.000083200                                                    & 0.000080700                                                    & 0.000135990                                                    & 0.000323401                                                    & 0.000323462                                                    & 0.000265376                                                    & 0.000099000                                                   \\\\\n",
       "\t X512\\_Group1C\\_142dpi\\_LV\\_top\\_162\\_G\\_A2\\_P128.mzXML & 512                                                            & Group1C                                                        & 142dpi                                                         & LV\\_top                                                       & A2                                                             & P128                                                           & 0.000360521                                                    & 0.000326035                                                    & 0.00e+00                                                       & ...                                                            & 0.000621951                                                    & 0                                                              & 0.00000000                                                     & 0.000082400                                                    & 0.000120213                                                    & 0.000151179                                                    & 0.000243702                                                    & 0.000214309                                                    & 0.000353256                                                    & 0.000135352                                                   \\\\\n",
       "\t X513\\_Group1C\\_142dpi\\_LV\\_top\\_163\\_G\\_A3\\_P128.mzXML & 513                                                            & Group1C                                                        & 142dpi                                                         & LV\\_top                                                       & A3                                                             & P128                                                           & 0.000115526                                                    & 0.000073000                                                    & 0.00e+00                                                       & ...                                                            & 0.000582842                                                    & 0                                                              & 0.00002720                                                     & 0.000042000                                                    & 0.000056100                                                    & 0.000157763                                                    & 0.000178871                                                    & 0.000202296                                                    & 0.000203821                                                    & 0.000092300                                                   \\\\\n",
       "\t X514\\_Group1C\\_142dpi\\_LV\\_top\\_164\\_G\\_A4\\_P128.mzXML & 514                                                            & Group1C                                                        & 142dpi                                                         & LV\\_top                                                       & A4                                                             & P128                                                           & 0.000249240                                                    & 0.000333486                                                    & 0.00e+00                                                       & ...                                                            & 0.000774688                                                    & 0                                                              & 0.00015684                                                     & 0.000065100                                                    & 0.000074200                                                    & 0.000248777                                                    & 0.000308660                                                    & 0.000307198                                                    & 0.000339938                                                    & 0.000099300                                                   \\\\\n",
       "\t X515\\_Group1C\\_142dpi\\_LV\\_top\\_165\\_G\\_A5\\_P128.mzXML & 515                                                            & Group1C                                                        & 142dpi                                                         & LV\\_top                                                       & A5                                                             & P128                                                           & 0.000166425                                                    & 0.000000000                                                    & 3.27e-05                                                       & ...                                                            & 0.000321481                                                    & 0                                                              & 0.00000000                                                     & 0.000196736                                                    & 0.000188043                                                    & 0.000370402                                                    & 0.000512506                                                    & 0.000582393                                                    & 0.000442618                                                    & 0.000209434                                                   \\\\\n",
       "\t X531\\_Group1C\\_142dpi\\_LV\\_top\\_166\\_G\\_A6\\_P128.mzXML & 531                                                            & Group1C                                                        & 142dpi                                                         & LV\\_top                                                       & A6                                                             & P128                                                           & 0.000142641                                                    & 0.000000000                                                    & 3.77e-05                                                       & ...                                                            & 0.000377722                                                    & 0                                                              & 0.00000000                                                     & 0.000247236                                                    & 0.000247236                                                    & 0.000430374                                                    & 0.000666165                                                    & 0.000762312                                                    & 0.000503630                                                    & 0.000338805                                                   \\\\\n",
       "\\end{tabular}\n"
      ],
      "text/markdown": [
       "\n",
       "| filename | MouseID | Treatmentgroup | DPI | organ | well_position | plate | X141.091_1.54 | X203.007_0.309 | X240.116_2.324 | ... | X708.445_3.006 | X709.936_2.18 | X720.445_3.09 | X737.391_2.399 | X776.042_2.398 | X776.095_2.398 | X776.148_2.398 | X776.359_2.398 | X819.433_2.399 | X867.281_2.399 |\n",
       "|---|---|---|---|---|---|---|---|---|---|---|---|---|---|---|---|---|---|---|---|---|\n",
       "| X511_Group1C_142dpi_LV_top_161_G_A1_P128.mzXML | 511                                            | Group1C                                        | 142dpi                                         | LV_top                                         | A1                                             | P128                                           | 0.000150701                                    | 0.000253054                                    | 3.74e-05                                       | ...                                            | 0.000561014                                    | 0                                              | 0.00000000                                     | 0.000083200                                    | 0.000080700                                    | 0.000135990                                    | 0.000323401                                    | 0.000323462                                    | 0.000265376                                    | 0.000099000                                    |\n",
       "| X512_Group1C_142dpi_LV_top_162_G_A2_P128.mzXML | 512                                            | Group1C                                        | 142dpi                                         | LV_top                                         | A2                                             | P128                                           | 0.000360521                                    | 0.000326035                                    | 0.00e+00                                       | ...                                            | 0.000621951                                    | 0                                              | 0.00000000                                     | 0.000082400                                    | 0.000120213                                    | 0.000151179                                    | 0.000243702                                    | 0.000214309                                    | 0.000353256                                    | 0.000135352                                    |\n",
       "| X513_Group1C_142dpi_LV_top_163_G_A3_P128.mzXML | 513                                            | Group1C                                        | 142dpi                                         | LV_top                                         | A3                                             | P128                                           | 0.000115526                                    | 0.000073000                                    | 0.00e+00                                       | ...                                            | 0.000582842                                    | 0                                              | 0.00002720                                     | 0.000042000                                    | 0.000056100                                    | 0.000157763                                    | 0.000178871                                    | 0.000202296                                    | 0.000203821                                    | 0.000092300                                    |\n",
       "| X514_Group1C_142dpi_LV_top_164_G_A4_P128.mzXML | 514                                            | Group1C                                        | 142dpi                                         | LV_top                                         | A4                                             | P128                                           | 0.000249240                                    | 0.000333486                                    | 0.00e+00                                       | ...                                            | 0.000774688                                    | 0                                              | 0.00015684                                     | 0.000065100                                    | 0.000074200                                    | 0.000248777                                    | 0.000308660                                    | 0.000307198                                    | 0.000339938                                    | 0.000099300                                    |\n",
       "| X515_Group1C_142dpi_LV_top_165_G_A5_P128.mzXML | 515                                            | Group1C                                        | 142dpi                                         | LV_top                                         | A5                                             | P128                                           | 0.000166425                                    | 0.000000000                                    | 3.27e-05                                       | ...                                            | 0.000321481                                    | 0                                              | 0.00000000                                     | 0.000196736                                    | 0.000188043                                    | 0.000370402                                    | 0.000512506                                    | 0.000582393                                    | 0.000442618                                    | 0.000209434                                    |\n",
       "| X531_Group1C_142dpi_LV_top_166_G_A6_P128.mzXML | 531                                            | Group1C                                        | 142dpi                                         | LV_top                                         | A6                                             | P128                                           | 0.000142641                                    | 0.000000000                                    | 3.77e-05                                       | ...                                            | 0.000377722                                    | 0                                              | 0.00000000                                     | 0.000247236                                    | 0.000247236                                    | 0.000430374                                    | 0.000666165                                    | 0.000762312                                    | 0.000503630                                    | 0.000338805                                    |\n",
       "\n"
      ],
      "text/plain": [
       "  filename                                       MouseID Treatmentgroup DPI   \n",
       "1 X511_Group1C_142dpi_LV_top_161_G_A1_P128.mzXML 511     Group1C        142dpi\n",
       "2 X512_Group1C_142dpi_LV_top_162_G_A2_P128.mzXML 512     Group1C        142dpi\n",
       "3 X513_Group1C_142dpi_LV_top_163_G_A3_P128.mzXML 513     Group1C        142dpi\n",
       "4 X514_Group1C_142dpi_LV_top_164_G_A4_P128.mzXML 514     Group1C        142dpi\n",
       "5 X515_Group1C_142dpi_LV_top_165_G_A5_P128.mzXML 515     Group1C        142dpi\n",
       "6 X531_Group1C_142dpi_LV_top_166_G_A6_P128.mzXML 531     Group1C        142dpi\n",
       "  organ  well_position plate X141.091_1.54 X203.007_0.309 X240.116_2.324 ...\n",
       "1 LV_top A1            P128  0.000150701   0.000253054    3.74e-05       ...\n",
       "2 LV_top A2            P128  0.000360521   0.000326035    0.00e+00       ...\n",
       "3 LV_top A3            P128  0.000115526   0.000073000    0.00e+00       ...\n",
       "4 LV_top A4            P128  0.000249240   0.000333486    0.00e+00       ...\n",
       "5 LV_top A5            P128  0.000166425   0.000000000    3.27e-05       ...\n",
       "6 LV_top A6            P128  0.000142641   0.000000000    3.77e-05       ...\n",
       "  X708.445_3.006 X709.936_2.18 X720.445_3.09 X737.391_2.399 X776.042_2.398\n",
       "1 0.000561014    0             0.00000000    0.000083200    0.000080700   \n",
       "2 0.000621951    0             0.00000000    0.000082400    0.000120213   \n",
       "3 0.000582842    0             0.00002720    0.000042000    0.000056100   \n",
       "4 0.000774688    0             0.00015684    0.000065100    0.000074200   \n",
       "5 0.000321481    0             0.00000000    0.000196736    0.000188043   \n",
       "6 0.000377722    0             0.00000000    0.000247236    0.000247236   \n",
       "  X776.095_2.398 X776.148_2.398 X776.359_2.398 X819.433_2.399 X867.281_2.399\n",
       "1 0.000135990    0.000323401    0.000323462    0.000265376    0.000099000   \n",
       "2 0.000151179    0.000243702    0.000214309    0.000353256    0.000135352   \n",
       "3 0.000157763    0.000178871    0.000202296    0.000203821    0.000092300   \n",
       "4 0.000248777    0.000308660    0.000307198    0.000339938    0.000099300   \n",
       "5 0.000370402    0.000512506    0.000582393    0.000442618    0.000209434   \n",
       "6 0.000430374    0.000666165    0.000762312    0.000503630    0.000338805   "
      ]
     },
     "metadata": {},
     "output_type": "display_data"
    },
    {
     "data": {
      "text/html": [
       "<ol class=list-inline>\n",
       "\t<li>60</li>\n",
       "\t<li>35</li>\n",
       "</ol>\n"
      ],
      "text/latex": [
       "\\begin{enumerate*}\n",
       "\\item 60\n",
       "\\item 35\n",
       "\\end{enumerate*}\n"
      ],
      "text/markdown": [
       "1. 60\n",
       "2. 35\n",
       "\n",
       "\n"
      ],
      "text/plain": [
       "[1] 60 35"
      ]
     },
     "metadata": {},
     "output_type": "display_data"
    }
   ],
   "source": [
    "head(a)\n",
    "dim(a)"
   ]
  },
  {
   "cell_type": "code",
   "execution_count": 3,
   "metadata": {},
   "outputs": [
    {
     "data": {
      "text/html": [
       "<table>\n",
       "<thead><tr><th></th><th scope=col>filename</th><th scope=col>MouseID</th><th scope=col>Treatmentgroup</th><th scope=col>DPI</th><th scope=col>organ</th><th scope=col>well_position</th><th scope=col>plate</th><th scope=col>X141.091_1.54</th><th scope=col>X203.007_0.309</th><th scope=col>X240.116_2.324</th><th scope=col>...</th><th scope=col>X708.445_3.006</th><th scope=col>X709.936_2.18</th><th scope=col>X720.445_3.09</th><th scope=col>X737.391_2.399</th><th scope=col>X776.042_2.398</th><th scope=col>X776.095_2.398</th><th scope=col>X776.148_2.398</th><th scope=col>X776.359_2.398</th><th scope=col>X819.433_2.399</th><th scope=col>X867.281_2.399</th></tr></thead>\n",
       "<tbody>\n",
       "\t<tr><th scope=row>16</th><td>X581_Group3E_142dpi_LV_top_176_G_B4_P128.mzXML</td><td>581                                           </td><td>Group3E                                       </td><td>142dpi                                        </td><td>LV_top                                        </td><td>B4                                            </td><td>P128                                          </td><td>0.000076600                                   </td><td>0.000000000                                   </td><td>0.000213447                                   </td><td>...                                           </td><td>0.000686223                                   </td><td>0.000092000                                   </td><td>0.000000000                                   </td><td>0.000255339                                   </td><td>0.000307205                                   </td><td>0.000428890                                   </td><td>0.000696197                                   </td><td>0.000766017                                   </td><td>0.000626378                                   </td><td>0.000307205                                   </td></tr>\n",
       "\t<tr><th scope=row>17</th><td>X582_Group3E_142dpi_LV_top_177_G_B5_P128.mzXML</td><td>582                                           </td><td>Group3E                                       </td><td>142dpi                                        </td><td>LV_top                                        </td><td>B5                                            </td><td>P128                                          </td><td>0.000114338                                   </td><td>0.000115359                                   </td><td>0.000000000                                   </td><td>...                                           </td><td>0.001008079                                   </td><td>0.000041600                                   </td><td>0.000180561                                   </td><td>0.000036200                                   </td><td>0.000038900                                   </td><td>0.000056900                                   </td><td>0.000084500                                   </td><td>0.000075500                                   </td><td>0.000166114                                   </td><td>0.000048300                                   </td></tr>\n",
       "\t<tr><th scope=row>18</th><td>X583_Group3E_142dpi_LV_top_178_G_B6_P128.mzXML</td><td>583                                           </td><td>Group3E                                       </td><td>142dpi                                        </td><td>LV_top                                        </td><td>B6                                            </td><td>P128                                          </td><td>0.000086600                                   </td><td>0.000000000                                   </td><td>0.000196786                                   </td><td>...                                           </td><td>0.000552891                                   </td><td>0.000044100                                   </td><td>0.000000000                                   </td><td>0.000088700                                   </td><td>0.000095200                                   </td><td>0.000216706                                   </td><td>0.000338104                                   </td><td>0.000471894                                   </td><td>0.000485981                                   </td><td>0.000190673                                   </td></tr>\n",
       "\t<tr><th scope=row>19</th><td>X584_Group3E_142dpi_LV_top_179_G_B7_P128.mzXML</td><td>584                                           </td><td>Group3E                                       </td><td>142dpi                                        </td><td>LV_top                                        </td><td>B7                                            </td><td>P128                                          </td><td>0.000137472                                   </td><td>0.000064900                                   </td><td>0.000081400                                   </td><td>...                                           </td><td>0.000502270                                   </td><td>0.000000000                                   </td><td>0.000234553                                   </td><td>0.000000000                                   </td><td>0.000000000                                   </td><td>0.000000000                                   </td><td>0.000000000                                   </td><td>0.000000000                                   </td><td>0.000000000                                   </td><td>0.000000000                                   </td></tr>\n",
       "\t<tr><th scope=row>20</th><td>X585_Group3E_142dpi_LV_top_180_G_B8_P128.mzXML</td><td>585                                           </td><td>Group3E                                       </td><td>142dpi                                        </td><td>LV_top                                        </td><td>B8                                            </td><td>P128                                          </td><td>0.000077500                                   </td><td>0.000130843                                   </td><td>0.000081800                                   </td><td>...                                           </td><td>0.000926023                                   </td><td>0.000000000                                   </td><td>0.000152366                                   </td><td>0.000000000                                   </td><td>0.000000000                                   </td><td>0.000000000                                   </td><td>0.000023500                                   </td><td>0.000035800                                   </td><td>0.000000000                                   </td><td>0.000000000                                   </td></tr>\n",
       "\t<tr><th scope=row>21</th><td>X611_Group9_142dpi_LV_top_181_G_B9_P128.mzXML </td><td>611                                           </td><td>Group9                                        </td><td>142dpi                                        </td><td>LV_top                                        </td><td>B9                                            </td><td>P128                                          </td><td>0.000146666                                   </td><td>0.000000000                                   </td><td>0.000292520                                   </td><td>...                                           </td><td>0.001156281                                   </td><td>0.000118265                                   </td><td>0.000097200                                   </td><td>0.000086700                                   </td><td>0.000102903                                   </td><td>0.000189529                                   </td><td>0.000303558                                   </td><td>0.000361510                                   </td><td>0.000309077                                   </td><td>0.000141744                                   </td></tr>\n",
       "</tbody>\n",
       "</table>\n"
      ],
      "text/latex": [
       "\\begin{tabular}{r|lllllllllllllllllllllllllllllllllll}\n",
       "  & filename & MouseID & Treatmentgroup & DPI & organ & well\\_position & plate & X141.091\\_1.54 & X203.007\\_0.309 & X240.116\\_2.324 & ... & X708.445\\_3.006 & X709.936\\_2.18 & X720.445\\_3.09 & X737.391\\_2.399 & X776.042\\_2.398 & X776.095\\_2.398 & X776.148\\_2.398 & X776.359\\_2.398 & X819.433\\_2.399 & X867.281\\_2.399\\\\\n",
       "\\hline\n",
       "\t16 & X581\\_Group3E\\_142dpi\\_LV\\_top\\_176\\_G\\_B4\\_P128.mzXML & 581                                                            & Group3E                                                        & 142dpi                                                         & LV\\_top                                                       & B4                                                             & P128                                                           & 0.000076600                                                    & 0.000000000                                                    & 0.000213447                                                    & ...                                                            & 0.000686223                                                    & 0.000092000                                                    & 0.000000000                                                    & 0.000255339                                                    & 0.000307205                                                    & 0.000428890                                                    & 0.000696197                                                    & 0.000766017                                                    & 0.000626378                                                    & 0.000307205                                                   \\\\\n",
       "\t17 & X582\\_Group3E\\_142dpi\\_LV\\_top\\_177\\_G\\_B5\\_P128.mzXML & 582                                                            & Group3E                                                        & 142dpi                                                         & LV\\_top                                                       & B5                                                             & P128                                                           & 0.000114338                                                    & 0.000115359                                                    & 0.000000000                                                    & ...                                                            & 0.001008079                                                    & 0.000041600                                                    & 0.000180561                                                    & 0.000036200                                                    & 0.000038900                                                    & 0.000056900                                                    & 0.000084500                                                    & 0.000075500                                                    & 0.000166114                                                    & 0.000048300                                                   \\\\\n",
       "\t18 & X583\\_Group3E\\_142dpi\\_LV\\_top\\_178\\_G\\_B6\\_P128.mzXML & 583                                                            & Group3E                                                        & 142dpi                                                         & LV\\_top                                                       & B6                                                             & P128                                                           & 0.000086600                                                    & 0.000000000                                                    & 0.000196786                                                    & ...                                                            & 0.000552891                                                    & 0.000044100                                                    & 0.000000000                                                    & 0.000088700                                                    & 0.000095200                                                    & 0.000216706                                                    & 0.000338104                                                    & 0.000471894                                                    & 0.000485981                                                    & 0.000190673                                                   \\\\\n",
       "\t19 & X584\\_Group3E\\_142dpi\\_LV\\_top\\_179\\_G\\_B7\\_P128.mzXML & 584                                                            & Group3E                                                        & 142dpi                                                         & LV\\_top                                                       & B7                                                             & P128                                                           & 0.000137472                                                    & 0.000064900                                                    & 0.000081400                                                    & ...                                                            & 0.000502270                                                    & 0.000000000                                                    & 0.000234553                                                    & 0.000000000                                                    & 0.000000000                                                    & 0.000000000                                                    & 0.000000000                                                    & 0.000000000                                                    & 0.000000000                                                    & 0.000000000                                                   \\\\\n",
       "\t20 & X585\\_Group3E\\_142dpi\\_LV\\_top\\_180\\_G\\_B8\\_P128.mzXML & 585                                                            & Group3E                                                        & 142dpi                                                         & LV\\_top                                                       & B8                                                             & P128                                                           & 0.000077500                                                    & 0.000130843                                                    & 0.000081800                                                    & ...                                                            & 0.000926023                                                    & 0.000000000                                                    & 0.000152366                                                    & 0.000000000                                                    & 0.000000000                                                    & 0.000000000                                                    & 0.000023500                                                    & 0.000035800                                                    & 0.000000000                                                    & 0.000000000                                                   \\\\\n",
       "\t21 & X611\\_Group9\\_142dpi\\_LV\\_top\\_181\\_G\\_B9\\_P128.mzXML  & 611                                                            & Group9                                                         & 142dpi                                                         & LV\\_top                                                       & B9                                                             & P128                                                           & 0.000146666                                                    & 0.000000000                                                    & 0.000292520                                                    & ...                                                            & 0.001156281                                                    & 0.000118265                                                    & 0.000097200                                                    & 0.000086700                                                    & 0.000102903                                                    & 0.000189529                                                    & 0.000303558                                                    & 0.000361510                                                    & 0.000309077                                                    & 0.000141744                                                   \\\\\n",
       "\\end{tabular}\n"
      ],
      "text/markdown": [
       "\n",
       "| <!--/--> | filename | MouseID | Treatmentgroup | DPI | organ | well_position | plate | X141.091_1.54 | X203.007_0.309 | X240.116_2.324 | ... | X708.445_3.006 | X709.936_2.18 | X720.445_3.09 | X737.391_2.399 | X776.042_2.398 | X776.095_2.398 | X776.148_2.398 | X776.359_2.398 | X819.433_2.399 | X867.281_2.399 |\n",
       "|---|---|---|---|---|---|---|---|---|---|---|---|---|---|---|---|---|---|---|---|---|---|\n",
       "| 16 | X581_Group3E_142dpi_LV_top_176_G_B4_P128.mzXML | 581                                            | Group3E                                        | 142dpi                                         | LV_top                                         | B4                                             | P128                                           | 0.000076600                                    | 0.000000000                                    | 0.000213447                                    | ...                                            | 0.000686223                                    | 0.000092000                                    | 0.000000000                                    | 0.000255339                                    | 0.000307205                                    | 0.000428890                                    | 0.000696197                                    | 0.000766017                                    | 0.000626378                                    | 0.000307205                                    |\n",
       "| 17 | X582_Group3E_142dpi_LV_top_177_G_B5_P128.mzXML | 582                                            | Group3E                                        | 142dpi                                         | LV_top                                         | B5                                             | P128                                           | 0.000114338                                    | 0.000115359                                    | 0.000000000                                    | ...                                            | 0.001008079                                    | 0.000041600                                    | 0.000180561                                    | 0.000036200                                    | 0.000038900                                    | 0.000056900                                    | 0.000084500                                    | 0.000075500                                    | 0.000166114                                    | 0.000048300                                    |\n",
       "| 18 | X583_Group3E_142dpi_LV_top_178_G_B6_P128.mzXML | 583                                            | Group3E                                        | 142dpi                                         | LV_top                                         | B6                                             | P128                                           | 0.000086600                                    | 0.000000000                                    | 0.000196786                                    | ...                                            | 0.000552891                                    | 0.000044100                                    | 0.000000000                                    | 0.000088700                                    | 0.000095200                                    | 0.000216706                                    | 0.000338104                                    | 0.000471894                                    | 0.000485981                                    | 0.000190673                                    |\n",
       "| 19 | X584_Group3E_142dpi_LV_top_179_G_B7_P128.mzXML | 584                                            | Group3E                                        | 142dpi                                         | LV_top                                         | B7                                             | P128                                           | 0.000137472                                    | 0.000064900                                    | 0.000081400                                    | ...                                            | 0.000502270                                    | 0.000000000                                    | 0.000234553                                    | 0.000000000                                    | 0.000000000                                    | 0.000000000                                    | 0.000000000                                    | 0.000000000                                    | 0.000000000                                    | 0.000000000                                    |\n",
       "| 20 | X585_Group3E_142dpi_LV_top_180_G_B8_P128.mzXML | 585                                            | Group3E                                        | 142dpi                                         | LV_top                                         | B8                                             | P128                                           | 0.000077500                                    | 0.000130843                                    | 0.000081800                                    | ...                                            | 0.000926023                                    | 0.000000000                                    | 0.000152366                                    | 0.000000000                                    | 0.000000000                                    | 0.000000000                                    | 0.000023500                                    | 0.000035800                                    | 0.000000000                                    | 0.000000000                                    |\n",
       "| 21 | X611_Group9_142dpi_LV_top_181_G_B9_P128.mzXML  | 611                                            | Group9                                         | 142dpi                                         | LV_top                                         | B9                                             | P128                                           | 0.000146666                                    | 0.000000000                                    | 0.000292520                                    | ...                                            | 0.001156281                                    | 0.000118265                                    | 0.000097200                                    | 0.000086700                                    | 0.000102903                                    | 0.000189529                                    | 0.000303558                                    | 0.000361510                                    | 0.000309077                                    | 0.000141744                                    |\n",
       "\n"
      ],
      "text/plain": [
       "   filename                                       MouseID Treatmentgroup DPI   \n",
       "16 X581_Group3E_142dpi_LV_top_176_G_B4_P128.mzXML 581     Group3E        142dpi\n",
       "17 X582_Group3E_142dpi_LV_top_177_G_B5_P128.mzXML 582     Group3E        142dpi\n",
       "18 X583_Group3E_142dpi_LV_top_178_G_B6_P128.mzXML 583     Group3E        142dpi\n",
       "19 X584_Group3E_142dpi_LV_top_179_G_B7_P128.mzXML 584     Group3E        142dpi\n",
       "20 X585_Group3E_142dpi_LV_top_180_G_B8_P128.mzXML 585     Group3E        142dpi\n",
       "21 X611_Group9_142dpi_LV_top_181_G_B9_P128.mzXML  611     Group9         142dpi\n",
       "   organ  well_position plate X141.091_1.54 X203.007_0.309 X240.116_2.324 ...\n",
       "16 LV_top B4            P128  0.000076600   0.000000000    0.000213447    ...\n",
       "17 LV_top B5            P128  0.000114338   0.000115359    0.000000000    ...\n",
       "18 LV_top B6            P128  0.000086600   0.000000000    0.000196786    ...\n",
       "19 LV_top B7            P128  0.000137472   0.000064900    0.000081400    ...\n",
       "20 LV_top B8            P128  0.000077500   0.000130843    0.000081800    ...\n",
       "21 LV_top B9            P128  0.000146666   0.000000000    0.000292520    ...\n",
       "   X708.445_3.006 X709.936_2.18 X720.445_3.09 X737.391_2.399 X776.042_2.398\n",
       "16 0.000686223    0.000092000   0.000000000   0.000255339    0.000307205   \n",
       "17 0.001008079    0.000041600   0.000180561   0.000036200    0.000038900   \n",
       "18 0.000552891    0.000044100   0.000000000   0.000088700    0.000095200   \n",
       "19 0.000502270    0.000000000   0.000234553   0.000000000    0.000000000   \n",
       "20 0.000926023    0.000000000   0.000152366   0.000000000    0.000000000   \n",
       "21 0.001156281    0.000118265   0.000097200   0.000086700    0.000102903   \n",
       "   X776.095_2.398 X776.148_2.398 X776.359_2.398 X819.433_2.399 X867.281_2.399\n",
       "16 0.000428890    0.000696197    0.000766017    0.000626378    0.000307205   \n",
       "17 0.000056900    0.000084500    0.000075500    0.000166114    0.000048300   \n",
       "18 0.000216706    0.000338104    0.000471894    0.000485981    0.000190673   \n",
       "19 0.000000000    0.000000000    0.000000000    0.000000000    0.000000000   \n",
       "20 0.000000000    0.000023500    0.000035800    0.000000000    0.000000000   \n",
       "21 0.000189529    0.000303558    0.000361510    0.000309077    0.000141744   "
      ]
     },
     "metadata": {},
     "output_type": "display_data"
    },
    {
     "data": {
      "text/html": [
       "<ol class=list-inline>\n",
       "\t<li>30</li>\n",
       "\t<li>35</li>\n",
       "</ol>\n"
      ],
      "text/latex": [
       "\\begin{enumerate*}\n",
       "\\item 30\n",
       "\\item 35\n",
       "\\end{enumerate*}\n"
      ],
      "text/markdown": [
       "1. 30\n",
       "2. 35\n",
       "\n",
       "\n"
      ],
      "text/plain": [
       "[1] 30 35"
      ]
     },
     "metadata": {},
     "output_type": "display_data"
    }
   ],
   "source": [
    "# choose the lung posistion\n",
    "features_pos<-droplevels(subset(a, a$Treatmentgroup==c(\"Group3E\")|a$Treatmentgroup==c(\"Group9\")))\n",
    "head(features_pos)\n",
    "dim(features_pos)"
   ]
  },
  {
   "cell_type": "code",
   "execution_count": 4,
   "metadata": {
    "scrolled": false
   },
   "outputs": [
    {
     "data": {
      "text/html": [
       "<table>\n",
       "<thead><tr><th></th><th scope=col>X141.091_1.54</th><th scope=col>X203.007_0.309</th><th scope=col>X240.116_2.324</th><th scope=col>X249.112_2.768</th><th scope=col>X272.222_2.957</th><th scope=col>X293.211_2.931</th><th scope=col>X293.211_2.934</th><th scope=col>X296.258_2.976</th><th scope=col>X311.221_2.932</th><th scope=col>X345.243_3.095</th><th scope=col>...</th><th scope=col>X708.445_3.006</th><th scope=col>X709.936_2.18</th><th scope=col>X720.445_3.09</th><th scope=col>X737.391_2.399</th><th scope=col>X776.042_2.398</th><th scope=col>X776.095_2.398</th><th scope=col>X776.148_2.398</th><th scope=col>X776.359_2.398</th><th scope=col>X819.433_2.399</th><th scope=col>X867.281_2.399</th></tr></thead>\n",
       "<tbody>\n",
       "\t<tr><th scope=row>16</th><td>0.000076600</td><td>0.000000000</td><td>0.000213447</td><td>0.00002150 </td><td>0.005685280</td><td>0.000000000</td><td>0.000744074</td><td>0.000000000</td><td>0.000702182</td><td>0.00e+00   </td><td>...        </td><td>0.000686223</td><td>0.000092000</td><td>0.000000000</td><td>0.000255339</td><td>0.000307205</td><td>0.000428890</td><td>0.000696197</td><td>0.000766017</td><td>0.000626378</td><td>0.000307205</td></tr>\n",
       "\t<tr><th scope=row>17</th><td>0.000114338</td><td>0.000115359</td><td>0.000000000</td><td>0.00005280 </td><td>0.000202120</td><td>0.000555608</td><td>0.000000000</td><td>0.000223923</td><td>0.000545627</td><td>0.00e+00   </td><td>...        </td><td>0.001008079</td><td>0.000041600</td><td>0.000180561</td><td>0.000036200</td><td>0.000038900</td><td>0.000056900</td><td>0.000084500</td><td>0.000075500</td><td>0.000166114</td><td>0.000048300</td></tr>\n",
       "\t<tr><th scope=row>18</th><td>0.000086600</td><td>0.000000000</td><td>0.000196786</td><td>0.00011515 </td><td>0.000707842</td><td>0.000000000</td><td>0.000387376</td><td>0.000207706</td><td>0.000383854</td><td>9.75e-05   </td><td>...        </td><td>0.000552891</td><td>0.000044100</td><td>0.000000000</td><td>0.000088700</td><td>0.000095200</td><td>0.000216706</td><td>0.000338104</td><td>0.000471894</td><td>0.000485981</td><td>0.000190673</td></tr>\n",
       "\t<tr><th scope=row>19</th><td>0.000137472</td><td>0.000064900</td><td>0.000081400</td><td>0.00007190 </td><td>0.000348635</td><td>0.000670678</td><td>0.000000000</td><td>0.000241067</td><td>0.000000000</td><td>0.00e+00   </td><td>...        </td><td>0.000502270</td><td>0.000000000</td><td>0.000234553</td><td>0.000000000</td><td>0.000000000</td><td>0.000000000</td><td>0.000000000</td><td>0.000000000</td><td>0.000000000</td><td>0.000000000</td></tr>\n",
       "\t<tr><th scope=row>20</th><td>0.000077500</td><td>0.000130843</td><td>0.000081800</td><td>0.00008480 </td><td>0.000293552</td><td>0.000285546</td><td>0.000000000</td><td>0.000126785</td><td>0.000257409</td><td>1.95e-05   </td><td>...        </td><td>0.000926023</td><td>0.000000000</td><td>0.000152366</td><td>0.000000000</td><td>0.000000000</td><td>0.000000000</td><td>0.000023500</td><td>0.000035800</td><td>0.000000000</td><td>0.000000000</td></tr>\n",
       "\t<tr><th scope=row>21</th><td>0.000146666</td><td>0.000000000</td><td>0.000292520</td><td>0.00003930 </td><td>0.002445024</td><td>0.000543645</td><td>0.000000000</td><td>0.000195543</td><td>0.000565722</td><td>0.00e+00   </td><td>...        </td><td>0.001156281</td><td>0.000118265</td><td>0.000097200</td><td>0.000086700</td><td>0.000102903</td><td>0.000189529</td><td>0.000303558</td><td>0.000361510</td><td>0.000309077</td><td>0.000141744</td></tr>\n",
       "</tbody>\n",
       "</table>\n"
      ],
      "text/latex": [
       "\\begin{tabular}{r|llllllllllllllllllllllllllll}\n",
       "  & X141.091\\_1.54 & X203.007\\_0.309 & X240.116\\_2.324 & X249.112\\_2.768 & X272.222\\_2.957 & X293.211\\_2.931 & X293.211\\_2.934 & X296.258\\_2.976 & X311.221\\_2.932 & X345.243\\_3.095 & ... & X708.445\\_3.006 & X709.936\\_2.18 & X720.445\\_3.09 & X737.391\\_2.399 & X776.042\\_2.398 & X776.095\\_2.398 & X776.148\\_2.398 & X776.359\\_2.398 & X819.433\\_2.399 & X867.281\\_2.399\\\\\n",
       "\\hline\n",
       "\t16 & 0.000076600 & 0.000000000 & 0.000213447 & 0.00002150  & 0.005685280 & 0.000000000 & 0.000744074 & 0.000000000 & 0.000702182 & 0.00e+00    & ...         & 0.000686223 & 0.000092000 & 0.000000000 & 0.000255339 & 0.000307205 & 0.000428890 & 0.000696197 & 0.000766017 & 0.000626378 & 0.000307205\\\\\n",
       "\t17 & 0.000114338 & 0.000115359 & 0.000000000 & 0.00005280  & 0.000202120 & 0.000555608 & 0.000000000 & 0.000223923 & 0.000545627 & 0.00e+00    & ...         & 0.001008079 & 0.000041600 & 0.000180561 & 0.000036200 & 0.000038900 & 0.000056900 & 0.000084500 & 0.000075500 & 0.000166114 & 0.000048300\\\\\n",
       "\t18 & 0.000086600 & 0.000000000 & 0.000196786 & 0.00011515  & 0.000707842 & 0.000000000 & 0.000387376 & 0.000207706 & 0.000383854 & 9.75e-05    & ...         & 0.000552891 & 0.000044100 & 0.000000000 & 0.000088700 & 0.000095200 & 0.000216706 & 0.000338104 & 0.000471894 & 0.000485981 & 0.000190673\\\\\n",
       "\t19 & 0.000137472 & 0.000064900 & 0.000081400 & 0.00007190  & 0.000348635 & 0.000670678 & 0.000000000 & 0.000241067 & 0.000000000 & 0.00e+00    & ...         & 0.000502270 & 0.000000000 & 0.000234553 & 0.000000000 & 0.000000000 & 0.000000000 & 0.000000000 & 0.000000000 & 0.000000000 & 0.000000000\\\\\n",
       "\t20 & 0.000077500 & 0.000130843 & 0.000081800 & 0.00008480  & 0.000293552 & 0.000285546 & 0.000000000 & 0.000126785 & 0.000257409 & 1.95e-05    & ...         & 0.000926023 & 0.000000000 & 0.000152366 & 0.000000000 & 0.000000000 & 0.000000000 & 0.000023500 & 0.000035800 & 0.000000000 & 0.000000000\\\\\n",
       "\t21 & 0.000146666 & 0.000000000 & 0.000292520 & 0.00003930  & 0.002445024 & 0.000543645 & 0.000000000 & 0.000195543 & 0.000565722 & 0.00e+00    & ...         & 0.001156281 & 0.000118265 & 0.000097200 & 0.000086700 & 0.000102903 & 0.000189529 & 0.000303558 & 0.000361510 & 0.000309077 & 0.000141744\\\\\n",
       "\\end{tabular}\n"
      ],
      "text/markdown": [
       "\n",
       "| <!--/--> | X141.091_1.54 | X203.007_0.309 | X240.116_2.324 | X249.112_2.768 | X272.222_2.957 | X293.211_2.931 | X293.211_2.934 | X296.258_2.976 | X311.221_2.932 | X345.243_3.095 | ... | X708.445_3.006 | X709.936_2.18 | X720.445_3.09 | X737.391_2.399 | X776.042_2.398 | X776.095_2.398 | X776.148_2.398 | X776.359_2.398 | X819.433_2.399 | X867.281_2.399 |\n",
       "|---|---|---|---|---|---|---|---|---|---|---|---|---|---|---|---|---|---|---|---|---|---|\n",
       "| 16 | 0.000076600 | 0.000000000 | 0.000213447 | 0.00002150  | 0.005685280 | 0.000000000 | 0.000744074 | 0.000000000 | 0.000702182 | 0.00e+00    | ...         | 0.000686223 | 0.000092000 | 0.000000000 | 0.000255339 | 0.000307205 | 0.000428890 | 0.000696197 | 0.000766017 | 0.000626378 | 0.000307205 |\n",
       "| 17 | 0.000114338 | 0.000115359 | 0.000000000 | 0.00005280  | 0.000202120 | 0.000555608 | 0.000000000 | 0.000223923 | 0.000545627 | 0.00e+00    | ...         | 0.001008079 | 0.000041600 | 0.000180561 | 0.000036200 | 0.000038900 | 0.000056900 | 0.000084500 | 0.000075500 | 0.000166114 | 0.000048300 |\n",
       "| 18 | 0.000086600 | 0.000000000 | 0.000196786 | 0.00011515  | 0.000707842 | 0.000000000 | 0.000387376 | 0.000207706 | 0.000383854 | 9.75e-05    | ...         | 0.000552891 | 0.000044100 | 0.000000000 | 0.000088700 | 0.000095200 | 0.000216706 | 0.000338104 | 0.000471894 | 0.000485981 | 0.000190673 |\n",
       "| 19 | 0.000137472 | 0.000064900 | 0.000081400 | 0.00007190  | 0.000348635 | 0.000670678 | 0.000000000 | 0.000241067 | 0.000000000 | 0.00e+00    | ...         | 0.000502270 | 0.000000000 | 0.000234553 | 0.000000000 | 0.000000000 | 0.000000000 | 0.000000000 | 0.000000000 | 0.000000000 | 0.000000000 |\n",
       "| 20 | 0.000077500 | 0.000130843 | 0.000081800 | 0.00008480  | 0.000293552 | 0.000285546 | 0.000000000 | 0.000126785 | 0.000257409 | 1.95e-05    | ...         | 0.000926023 | 0.000000000 | 0.000152366 | 0.000000000 | 0.000000000 | 0.000000000 | 0.000023500 | 0.000035800 | 0.000000000 | 0.000000000 |\n",
       "| 21 | 0.000146666 | 0.000000000 | 0.000292520 | 0.00003930  | 0.002445024 | 0.000543645 | 0.000000000 | 0.000195543 | 0.000565722 | 0.00e+00    | ...         | 0.001156281 | 0.000118265 | 0.000097200 | 0.000086700 | 0.000102903 | 0.000189529 | 0.000303558 | 0.000361510 | 0.000309077 | 0.000141744 |\n",
       "\n"
      ],
      "text/plain": [
       "   X141.091_1.54 X203.007_0.309 X240.116_2.324 X249.112_2.768 X272.222_2.957\n",
       "16 0.000076600   0.000000000    0.000213447    0.00002150     0.005685280   \n",
       "17 0.000114338   0.000115359    0.000000000    0.00005280     0.000202120   \n",
       "18 0.000086600   0.000000000    0.000196786    0.00011515     0.000707842   \n",
       "19 0.000137472   0.000064900    0.000081400    0.00007190     0.000348635   \n",
       "20 0.000077500   0.000130843    0.000081800    0.00008480     0.000293552   \n",
       "21 0.000146666   0.000000000    0.000292520    0.00003930     0.002445024   \n",
       "   X293.211_2.931 X293.211_2.934 X296.258_2.976 X311.221_2.932 X345.243_3.095\n",
       "16 0.000000000    0.000744074    0.000000000    0.000702182    0.00e+00      \n",
       "17 0.000555608    0.000000000    0.000223923    0.000545627    0.00e+00      \n",
       "18 0.000000000    0.000387376    0.000207706    0.000383854    9.75e-05      \n",
       "19 0.000670678    0.000000000    0.000241067    0.000000000    0.00e+00      \n",
       "20 0.000285546    0.000000000    0.000126785    0.000257409    1.95e-05      \n",
       "21 0.000543645    0.000000000    0.000195543    0.000565722    0.00e+00      \n",
       "   ... X708.445_3.006 X709.936_2.18 X720.445_3.09 X737.391_2.399 X776.042_2.398\n",
       "16 ... 0.000686223    0.000092000   0.000000000   0.000255339    0.000307205   \n",
       "17 ... 0.001008079    0.000041600   0.000180561   0.000036200    0.000038900   \n",
       "18 ... 0.000552891    0.000044100   0.000000000   0.000088700    0.000095200   \n",
       "19 ... 0.000502270    0.000000000   0.000234553   0.000000000    0.000000000   \n",
       "20 ... 0.000926023    0.000000000   0.000152366   0.000000000    0.000000000   \n",
       "21 ... 0.001156281    0.000118265   0.000097200   0.000086700    0.000102903   \n",
       "   X776.095_2.398 X776.148_2.398 X776.359_2.398 X819.433_2.399 X867.281_2.399\n",
       "16 0.000428890    0.000696197    0.000766017    0.000626378    0.000307205   \n",
       "17 0.000056900    0.000084500    0.000075500    0.000166114    0.000048300   \n",
       "18 0.000216706    0.000338104    0.000471894    0.000485981    0.000190673   \n",
       "19 0.000000000    0.000000000    0.000000000    0.000000000    0.000000000   \n",
       "20 0.000000000    0.000023500    0.000035800    0.000000000    0.000000000   \n",
       "21 0.000189529    0.000303558    0.000361510    0.000309077    0.000141744   "
      ]
     },
     "metadata": {},
     "output_type": "display_data"
    },
    {
     "data": {
      "text/html": [
       "<dl class=dl-horizontal>\n",
       "\t<dt>X141.091_1.54</dt>\n",
       "\t\t<dd>1</dd>\n",
       "\t<dt>X203.007_0.309</dt>\n",
       "\t\t<dd>2</dd>\n",
       "\t<dt>X240.116_2.324</dt>\n",
       "\t\t<dd>3</dd>\n",
       "\t<dt>X249.112_2.768</dt>\n",
       "\t\t<dd>4</dd>\n",
       "\t<dt>X272.222_2.957</dt>\n",
       "\t\t<dd>5</dd>\n",
       "\t<dt>X293.211_2.931</dt>\n",
       "\t\t<dd>6</dd>\n",
       "</dl>\n"
      ],
      "text/latex": [
       "\\begin{description*}\n",
       "\\item[X141.091\\textbackslash{}\\_1.54] 1\n",
       "\\item[X203.007\\textbackslash{}\\_0.309] 2\n",
       "\\item[X240.116\\textbackslash{}\\_2.324] 3\n",
       "\\item[X249.112\\textbackslash{}\\_2.768] 4\n",
       "\\item[X272.222\\textbackslash{}\\_2.957] 5\n",
       "\\item[X293.211\\textbackslash{}\\_2.931] 6\n",
       "\\end{description*}\n"
      ],
      "text/markdown": [
       "X141.091_1.54\n",
       ":   1X203.007_0.309\n",
       ":   2X240.116_2.324\n",
       ":   3X249.112_2.768\n",
       ":   4X272.222_2.957\n",
       ":   5X293.211_2.931\n",
       ":   6\n",
       "\n"
      ],
      "text/plain": [
       " X141.091_1.54 X203.007_0.309 X240.116_2.324 X249.112_2.768 X272.222_2.957 \n",
       "             1              2              3              4              5 \n",
       "X293.211_2.931 \n",
       "             6 "
      ]
     },
     "metadata": {},
     "output_type": "display_data"
    },
    {
     "data": {
      "text/html": [
       "<table>\n",
       "<thead><tr><th></th><th scope=col>X141.091_1.54</th><th scope=col>X203.007_0.309</th><th scope=col>X240.116_2.324</th><th scope=col>X249.112_2.768</th><th scope=col>X272.222_2.957</th><th scope=col>X293.211_2.931</th><th scope=col>X293.211_2.934</th><th scope=col>X296.258_2.976</th><th scope=col>X311.221_2.932</th><th scope=col>X345.243_3.095</th><th scope=col>...</th><th scope=col>X708.445_3.006</th><th scope=col>X709.936_2.18</th><th scope=col>X720.445_3.09</th><th scope=col>X737.391_2.399</th><th scope=col>X776.042_2.398</th><th scope=col>X776.095_2.398</th><th scope=col>X776.148_2.398</th><th scope=col>X776.359_2.398</th><th scope=col>X819.433_2.399</th><th scope=col>X867.281_2.399</th></tr></thead>\n",
       "<tbody>\n",
       "\t<tr><th scope=row>16</th><td>0.000076600</td><td>0.000000000</td><td>0.000213447</td><td>0.000021500</td><td>0.005685280</td><td>0.000000000</td><td>0.000744074</td><td>0.000000000</td><td>0.000702182</td><td>0.000000000</td><td>...        </td><td>0.000686223</td><td>0.000092000</td><td>0.000000000</td><td>0.000255339</td><td>0.000307205</td><td>0.000428890</td><td>0.000696197</td><td>0.000766017</td><td>0.000626378</td><td>0.000307205</td></tr>\n",
       "\t<tr><th scope=row>17</th><td>0.000114338</td><td>0.000115359</td><td>0.000000000</td><td>0.000052800</td><td>0.000202120</td><td>0.000555608</td><td>0.000000000</td><td>0.000223923</td><td>0.000545627</td><td>0.000000000</td><td>...        </td><td>0.001008079</td><td>0.000041600</td><td>0.000180561</td><td>0.000036200</td><td>0.000038900</td><td>0.000056900</td><td>0.000084500</td><td>0.000075500</td><td>0.000166114</td><td>0.000048300</td></tr>\n",
       "\t<tr><th scope=row>18</th><td>0.000086600</td><td>0.000000000</td><td>0.000196786</td><td>0.000115150</td><td>0.000707842</td><td>0.000000000</td><td>0.000387376</td><td>0.000207706</td><td>0.000383854</td><td>0.000097500</td><td>...        </td><td>0.000552891</td><td>0.000044100</td><td>0.000000000</td><td>0.000088700</td><td>0.000095200</td><td>0.000216706</td><td>0.000338104</td><td>0.000471894</td><td>0.000485981</td><td>0.000190673</td></tr>\n",
       "\t<tr><th scope=row>19</th><td>0.000137472</td><td>0.000064900</td><td>0.000081400</td><td>0.000071900</td><td>0.000348635</td><td>0.000670678</td><td>0.000000000</td><td>0.000241067</td><td>0.000000000</td><td>0.000000000</td><td>...        </td><td>0.000502270</td><td>0.000000000</td><td>0.000234553</td><td>0.000000000</td><td>0.000000000</td><td>0.000000000</td><td>0.000000000</td><td>0.000000000</td><td>0.000000000</td><td>0.000000000</td></tr>\n",
       "\t<tr><th scope=row>20</th><td>0.000077500</td><td>0.000130843</td><td>0.000081800</td><td>0.000084800</td><td>0.000293552</td><td>0.000285546</td><td>0.000000000</td><td>0.000126785</td><td>0.000257409</td><td>0.000019500</td><td>...        </td><td>0.000926023</td><td>0.000000000</td><td>0.000152366</td><td>0.000000000</td><td>0.000000000</td><td>0.000000000</td><td>0.000023500</td><td>0.000035800</td><td>0.000000000</td><td>0.000000000</td></tr>\n",
       "\t<tr><th scope=row>21</th><td>0.000146666</td><td>0.000000000</td><td>0.000292520</td><td>0.000039300</td><td>0.002445024</td><td>0.000543645</td><td>0.000000000</td><td>0.000195543</td><td>0.000565722</td><td>0.000000000</td><td>...        </td><td>0.001156281</td><td>0.000118265</td><td>0.000097200</td><td>0.000086700</td><td>0.000102903</td><td>0.000189529</td><td>0.000303558</td><td>0.000361510</td><td>0.000309077</td><td>0.000141744</td></tr>\n",
       "\t<tr><th scope=row>22</th><td>0.000000000</td><td>0.000393517</td><td>0.000076500</td><td>0.000149907</td><td>0.000412467</td><td>0.000262293</td><td>0.000000000</td><td>0.000356011</td><td>0.000308169</td><td>0.000000000</td><td>...        </td><td>0.000366927</td><td>0.000000000</td><td>0.000000000</td><td>0.000097700</td><td>0.000245467</td><td>0.000409828</td><td>0.000828059</td><td>0.000811386</td><td>0.000800271</td><td>0.000424000</td></tr>\n",
       "\t<tr><th scope=row>23</th><td>0.000256755</td><td>0.000066100</td><td>0.000185667</td><td>0.000045500</td><td>0.000294685</td><td>0.000278313</td><td>0.000000000</td><td>0.000296358</td><td>0.000210295</td><td>0.000031500</td><td>...        </td><td>0.000284637</td><td>0.000000000</td><td>0.000000000</td><td>0.000185630</td><td>0.000187123</td><td>0.000310442</td><td>0.000397130</td><td>0.000591933</td><td>0.000496727</td><td>0.000263751</td></tr>\n",
       "\t<tr><th scope=row>24</th><td>0.000405619</td><td>0.000048400</td><td>0.000110574</td><td>0.000000000</td><td>0.000680557</td><td>0.000000000</td><td>0.000510418</td><td>0.000488605</td><td>0.000475517</td><td>0.000112158</td><td>...        </td><td>0.000606393</td><td>0.000065200</td><td>0.000000000</td><td>0.000097500</td><td>0.000186552</td><td>0.000435305</td><td>0.000724182</td><td>0.000706732</td><td>0.000759083</td><td>0.000406023</td></tr>\n",
       "\t<tr><th scope=row>25</th><td>0.000107109</td><td>0.000000000</td><td>0.000028500</td><td>0.000000000</td><td>0.000189621</td><td>0.000479521</td><td>0.000000000</td><td>0.000177686</td><td>0.000000000</td><td>0.000208399</td><td>...        </td><td>0.000313611</td><td>0.000000000</td><td>0.000000000</td><td>0.000019700</td><td>0.000035900</td><td>0.000079800</td><td>0.000119594</td><td>0.000131164</td><td>0.000097400</td><td>0.000073600</td></tr>\n",
       "\t<tr><th scope=row>31</th><td>0.000036900</td><td>0.000000000</td><td>0.000146675</td><td>0.000020700</td><td>0.000353463</td><td>0.000000000</td><td>0.000204383</td><td>0.000000000</td><td>0.000182743</td><td>0.000000000</td><td>...        </td><td>0.000774252</td><td>0.000069500</td><td>0.000065400</td><td>0.000119745</td><td>0.000120105</td><td>0.000224822</td><td>0.000308979</td><td>0.000337833</td><td>0.000325811</td><td>0.000138259</td></tr>\n",
       "\t<tr><th scope=row>32</th><td>0.000162756</td><td>0.000000000</td><td>0.000050600</td><td>0.000192382</td><td>0.000316827</td><td>0.000000000</td><td>0.000163275</td><td>0.000188501</td><td>0.000036200</td><td>0.000000000</td><td>...        </td><td>0.000627744</td><td>0.000048800</td><td>0.000032800</td><td>0.000000000</td><td>0.000037800</td><td>0.000068700</td><td>0.000180156</td><td>0.000102879</td><td>0.000137775</td><td>0.000053200</td></tr>\n",
       "\t<tr><th scope=row>33</th><td>0.000283937</td><td>0.000000000</td><td>0.000048300</td><td>0.000177230</td><td>0.000353447</td><td>0.000000000</td><td>0.000155161</td><td>0.000199914</td><td>0.000152634</td><td>0.000000000</td><td>...        </td><td>0.000702928</td><td>0.000000000</td><td>0.000197714</td><td>0.000000000</td><td>0.000000000</td><td>0.000039700</td><td>0.000047200</td><td>0.000050400</td><td>0.000045700</td><td>0.000037100</td></tr>\n",
       "\t<tr><th scope=row>34</th><td>0.000207285</td><td>0.000140640</td><td>0.000047900</td><td>0.000032000</td><td>0.000266898</td><td>0.000499292</td><td>0.000000000</td><td>0.000213125</td><td>0.000000000</td><td>0.000027300</td><td>...        </td><td>0.000740884</td><td>0.000000000</td><td>0.000224164</td><td>0.000000000</td><td>0.000000000</td><td>0.000000000</td><td>0.000076700</td><td>0.000000000</td><td>0.000079500</td><td>0.000000000</td></tr>\n",
       "\t<tr><th scope=row>35</th><td>0.000593755</td><td>0.000000000</td><td>0.000000000</td><td>0.000159745</td><td>0.000526199</td><td>0.000370917</td><td>0.000000000</td><td>0.000500299</td><td>0.000392969</td><td>0.000000000</td><td>...        </td><td>0.000117239</td><td>0.000000000</td><td>0.000000000</td><td>0.000000000</td><td>0.000075900</td><td>0.000106610</td><td>0.000093900</td><td>0.000144239</td><td>0.000301718</td><td>0.000000000</td></tr>\n",
       "\t<tr><th scope=row>36</th><td>0.000258384</td><td>0.000000000</td><td>0.000140813</td><td>0.000146902</td><td>0.000470686</td><td>0.000331010</td><td>0.000000000</td><td>0.000265306</td><td>0.000289608</td><td>0.000000000</td><td>...        </td><td>0.000558939</td><td>0.000000000</td><td>0.000035300</td><td>0.000257809</td><td>0.000225780</td><td>0.000422882</td><td>0.000573648</td><td>0.000731769</td><td>0.000698674</td><td>0.000351994</td></tr>\n",
       "\t<tr><th scope=row>37</th><td>0.000089000</td><td>0.000000000</td><td>0.000034600</td><td>0.000037700</td><td>0.000536775</td><td>0.000428246</td><td>0.000000000</td><td>0.000276481</td><td>0.000000000</td><td>0.000075000</td><td>...        </td><td>0.000305052</td><td>0.000000000</td><td>0.000051700</td><td>0.000035900</td><td>0.000049700</td><td>0.000106982</td><td>0.000084200</td><td>0.000151145</td><td>0.000073700</td><td>0.000058300</td></tr>\n",
       "\t<tr><th scope=row>38</th><td>0.000141091</td><td>0.000000000</td><td>0.000080300</td><td>0.000000000</td><td>0.008141307</td><td>0.000000000</td><td>0.000200260</td><td>0.000372318</td><td>0.000188717</td><td>0.000000000</td><td>...        </td><td>0.000263627</td><td>0.000067800</td><td>0.000000000</td><td>0.000114034</td><td>0.000249241</td><td>0.000454675</td><td>0.000818920</td><td>0.000727929</td><td>0.000651305</td><td>0.000275235</td></tr>\n",
       "\t<tr><th scope=row>39</th><td>0.000000000</td><td>0.000039100</td><td>0.000145968</td><td>0.000000000</td><td>0.000093300</td><td>0.000160626</td><td>0.000000000</td><td>0.000109785</td><td>0.000000000</td><td>0.000049700</td><td>...        </td><td>0.000018000</td><td>0.000053100</td><td>0.000000000</td><td>0.000118599</td><td>0.000137792</td><td>0.000204720</td><td>0.000305505</td><td>0.000277159</td><td>0.000267710</td><td>0.000136163</td></tr>\n",
       "\t<tr><th scope=row>40</th><td>0.000055400</td><td>0.000000000</td><td>0.000107124</td><td>0.000021500</td><td>0.000422020</td><td>0.000000000</td><td>0.000281346</td><td>0.000153643</td><td>0.000248632</td><td>0.000000000</td><td>...        </td><td>0.000574143</td><td>0.000040300</td><td>0.000000000</td><td>0.000199560</td><td>0.000212646</td><td>0.000408934</td><td>0.000351683</td><td>0.000386033</td><td>0.000487449</td><td>0.000256810</td></tr>\n",
       "\t<tr><th scope=row>46</th><td>0.000125128</td><td>0.000000000</td><td>0.000000000</td><td>0.000143684</td><td>0.000649748</td><td>0.000000000</td><td>0.000289930</td><td>0.000259210</td><td>0.000270273</td><td>0.000038000</td><td>...        </td><td>0.000537562</td><td>0.000040900</td><td>0.000053800</td><td>0.000000000</td><td>0.000054900</td><td>0.000118734</td><td>0.000155002</td><td>0.000146367</td><td>0.000236342</td><td>0.000066900</td></tr>\n",
       "\t<tr><th scope=row>47</th><td>0.000258092</td><td>0.000000000</td><td>0.000000000</td><td>0.000149452</td><td>0.000302026</td><td>0.000000000</td><td>0.000188541</td><td>0.000186242</td><td>0.000039800</td><td>0.000000000</td><td>...        </td><td>0.000706306</td><td>0.000000000</td><td>0.000094800</td><td>0.000057100</td><td>0.000052100</td><td>0.000143776</td><td>0.000184610</td><td>0.000104374</td><td>0.000175799</td><td>0.000071000</td></tr>\n",
       "\t<tr><th scope=row>48</th><td>0.000000000</td><td>0.000000000</td><td>0.000000000</td><td>0.000112599</td><td>0.000145159</td><td>0.000000000</td><td>0.000129871</td><td>0.000209291</td><td>0.000045000</td><td>0.000000000</td><td>...        </td><td>0.000468782</td><td>0.000048400</td><td>0.000082300</td><td>0.000233041</td><td>0.000273830</td><td>0.000422596</td><td>0.000611885</td><td>0.000673547</td><td>0.000673547</td><td>0.000343364</td></tr>\n",
       "\t<tr><th scope=row>49</th><td>0.000000000</td><td>0.000000000</td><td>0.000066200</td><td>0.000135695</td><td>0.000236694</td><td>0.000000000</td><td>0.000165570</td><td>0.000269422</td><td>0.000200482</td><td>0.000000000</td><td>...        </td><td>0.000771596</td><td>0.000000000</td><td>0.000312376</td><td>0.000000000</td><td>0.000000000</td><td>0.000058400</td><td>0.000116253</td><td>0.000080500</td><td>0.000091800</td><td>0.000038900</td></tr>\n",
       "\t<tr><th scope=row>50</th><td>0.000000000</td><td>0.000019900</td><td>0.000078100</td><td>0.000030200</td><td>0.000113058</td><td>0.000212121</td><td>0.000000000</td><td>0.000141977</td><td>0.000000000</td><td>0.000000000</td><td>...        </td><td>0.000765965</td><td>0.000000000</td><td>0.000223377</td><td>0.000000000</td><td>0.000000000</td><td>0.000000000</td><td>0.000000000</td><td>0.000000000</td><td>0.000020900</td><td>0.000000000</td></tr>\n",
       "\t<tr><th scope=row>51</th><td>0.000166132</td><td>0.000000000</td><td>0.000105694</td><td>0.000041800</td><td>0.000506169</td><td>0.000129238</td><td>0.000000000</td><td>0.000271393</td><td>0.000000000</td><td>0.000000000</td><td>...        </td><td>0.000531011</td><td>0.000000000</td><td>0.000082300</td><td>0.000000000</td><td>0.000000000</td><td>0.000000000</td><td>0.000112990</td><td>0.000105773</td><td>0.000121727</td><td>0.000044000</td></tr>\n",
       "\t<tr><th scope=row>52</th><td>0.000132463</td><td>0.000000000</td><td>0.000037400</td><td>0.000000000</td><td>0.000397599</td><td>0.000223923</td><td>0.000000000</td><td>0.000359568</td><td>0.000000000</td><td>0.000000000</td><td>...        </td><td>0.000394142</td><td>0.000037900</td><td>0.000032900</td><td>0.000000000</td><td>0.000056200</td><td>0.000069100</td><td>0.000077400</td><td>0.000070300</td><td>0.000155529</td><td>0.000100663</td></tr>\n",
       "\t<tr><th scope=row>53</th><td>0.000273714</td><td>0.000000000</td><td>0.000000000</td><td>0.000000000</td><td>0.000194017</td><td>0.000302819</td><td>0.000000000</td><td>0.000215290</td><td>0.000000000</td><td>0.000131870</td><td>...        </td><td>0.000146737</td><td>0.000000000</td><td>0.000000000</td><td>0.000034200</td><td>0.000054100</td><td>0.000137227</td><td>0.000196984</td><td>0.000160715</td><td>0.000181791</td><td>0.000092900</td></tr>\n",
       "\t<tr><th scope=row>54</th><td>0.000103536</td><td>0.000000000</td><td>0.000061600</td><td>0.000000000</td><td>0.000223323</td><td>0.000000000</td><td>0.000296744</td><td>0.000245542</td><td>0.000340730</td><td>0.000140060</td><td>...        </td><td>0.000427624</td><td>0.000000000</td><td>0.000000000</td><td>0.000060900</td><td>0.000107317</td><td>0.000305577</td><td>0.000402470</td><td>0.000391689</td><td>0.000345299</td><td>0.000233756</td></tr>\n",
       "\t<tr><th scope=row>55</th><td>0.000000000</td><td>0.000000000</td><td>0.000102654</td><td>0.000000000</td><td>0.000600078</td><td>0.000000000</td><td>0.000247651</td><td>0.000139905</td><td>0.000189491</td><td>0.000000000</td><td>...        </td><td>0.000642941</td><td>0.000040300</td><td>0.000000000</td><td>0.000153822</td><td>0.000213973</td><td>0.000302420</td><td>0.000492921</td><td>0.000485777</td><td>0.000523878</td><td>0.000252414</td></tr>\n",
       "</tbody>\n",
       "</table>\n"
      ],
      "text/latex": [
       "\\begin{tabular}{r|llllllllllllllllllllllllllll}\n",
       "  & X141.091\\_1.54 & X203.007\\_0.309 & X240.116\\_2.324 & X249.112\\_2.768 & X272.222\\_2.957 & X293.211\\_2.931 & X293.211\\_2.934 & X296.258\\_2.976 & X311.221\\_2.932 & X345.243\\_3.095 & ... & X708.445\\_3.006 & X709.936\\_2.18 & X720.445\\_3.09 & X737.391\\_2.399 & X776.042\\_2.398 & X776.095\\_2.398 & X776.148\\_2.398 & X776.359\\_2.398 & X819.433\\_2.399 & X867.281\\_2.399\\\\\n",
       "\\hline\n",
       "\t16 & 0.000076600 & 0.000000000 & 0.000213447 & 0.000021500 & 0.005685280 & 0.000000000 & 0.000744074 & 0.000000000 & 0.000702182 & 0.000000000 & ...         & 0.000686223 & 0.000092000 & 0.000000000 & 0.000255339 & 0.000307205 & 0.000428890 & 0.000696197 & 0.000766017 & 0.000626378 & 0.000307205\\\\\n",
       "\t17 & 0.000114338 & 0.000115359 & 0.000000000 & 0.000052800 & 0.000202120 & 0.000555608 & 0.000000000 & 0.000223923 & 0.000545627 & 0.000000000 & ...         & 0.001008079 & 0.000041600 & 0.000180561 & 0.000036200 & 0.000038900 & 0.000056900 & 0.000084500 & 0.000075500 & 0.000166114 & 0.000048300\\\\\n",
       "\t18 & 0.000086600 & 0.000000000 & 0.000196786 & 0.000115150 & 0.000707842 & 0.000000000 & 0.000387376 & 0.000207706 & 0.000383854 & 0.000097500 & ...         & 0.000552891 & 0.000044100 & 0.000000000 & 0.000088700 & 0.000095200 & 0.000216706 & 0.000338104 & 0.000471894 & 0.000485981 & 0.000190673\\\\\n",
       "\t19 & 0.000137472 & 0.000064900 & 0.000081400 & 0.000071900 & 0.000348635 & 0.000670678 & 0.000000000 & 0.000241067 & 0.000000000 & 0.000000000 & ...         & 0.000502270 & 0.000000000 & 0.000234553 & 0.000000000 & 0.000000000 & 0.000000000 & 0.000000000 & 0.000000000 & 0.000000000 & 0.000000000\\\\\n",
       "\t20 & 0.000077500 & 0.000130843 & 0.000081800 & 0.000084800 & 0.000293552 & 0.000285546 & 0.000000000 & 0.000126785 & 0.000257409 & 0.000019500 & ...         & 0.000926023 & 0.000000000 & 0.000152366 & 0.000000000 & 0.000000000 & 0.000000000 & 0.000023500 & 0.000035800 & 0.000000000 & 0.000000000\\\\\n",
       "\t21 & 0.000146666 & 0.000000000 & 0.000292520 & 0.000039300 & 0.002445024 & 0.000543645 & 0.000000000 & 0.000195543 & 0.000565722 & 0.000000000 & ...         & 0.001156281 & 0.000118265 & 0.000097200 & 0.000086700 & 0.000102903 & 0.000189529 & 0.000303558 & 0.000361510 & 0.000309077 & 0.000141744\\\\\n",
       "\t22 & 0.000000000 & 0.000393517 & 0.000076500 & 0.000149907 & 0.000412467 & 0.000262293 & 0.000000000 & 0.000356011 & 0.000308169 & 0.000000000 & ...         & 0.000366927 & 0.000000000 & 0.000000000 & 0.000097700 & 0.000245467 & 0.000409828 & 0.000828059 & 0.000811386 & 0.000800271 & 0.000424000\\\\\n",
       "\t23 & 0.000256755 & 0.000066100 & 0.000185667 & 0.000045500 & 0.000294685 & 0.000278313 & 0.000000000 & 0.000296358 & 0.000210295 & 0.000031500 & ...         & 0.000284637 & 0.000000000 & 0.000000000 & 0.000185630 & 0.000187123 & 0.000310442 & 0.000397130 & 0.000591933 & 0.000496727 & 0.000263751\\\\\n",
       "\t24 & 0.000405619 & 0.000048400 & 0.000110574 & 0.000000000 & 0.000680557 & 0.000000000 & 0.000510418 & 0.000488605 & 0.000475517 & 0.000112158 & ...         & 0.000606393 & 0.000065200 & 0.000000000 & 0.000097500 & 0.000186552 & 0.000435305 & 0.000724182 & 0.000706732 & 0.000759083 & 0.000406023\\\\\n",
       "\t25 & 0.000107109 & 0.000000000 & 0.000028500 & 0.000000000 & 0.000189621 & 0.000479521 & 0.000000000 & 0.000177686 & 0.000000000 & 0.000208399 & ...         & 0.000313611 & 0.000000000 & 0.000000000 & 0.000019700 & 0.000035900 & 0.000079800 & 0.000119594 & 0.000131164 & 0.000097400 & 0.000073600\\\\\n",
       "\t31 & 0.000036900 & 0.000000000 & 0.000146675 & 0.000020700 & 0.000353463 & 0.000000000 & 0.000204383 & 0.000000000 & 0.000182743 & 0.000000000 & ...         & 0.000774252 & 0.000069500 & 0.000065400 & 0.000119745 & 0.000120105 & 0.000224822 & 0.000308979 & 0.000337833 & 0.000325811 & 0.000138259\\\\\n",
       "\t32 & 0.000162756 & 0.000000000 & 0.000050600 & 0.000192382 & 0.000316827 & 0.000000000 & 0.000163275 & 0.000188501 & 0.000036200 & 0.000000000 & ...         & 0.000627744 & 0.000048800 & 0.000032800 & 0.000000000 & 0.000037800 & 0.000068700 & 0.000180156 & 0.000102879 & 0.000137775 & 0.000053200\\\\\n",
       "\t33 & 0.000283937 & 0.000000000 & 0.000048300 & 0.000177230 & 0.000353447 & 0.000000000 & 0.000155161 & 0.000199914 & 0.000152634 & 0.000000000 & ...         & 0.000702928 & 0.000000000 & 0.000197714 & 0.000000000 & 0.000000000 & 0.000039700 & 0.000047200 & 0.000050400 & 0.000045700 & 0.000037100\\\\\n",
       "\t34 & 0.000207285 & 0.000140640 & 0.000047900 & 0.000032000 & 0.000266898 & 0.000499292 & 0.000000000 & 0.000213125 & 0.000000000 & 0.000027300 & ...         & 0.000740884 & 0.000000000 & 0.000224164 & 0.000000000 & 0.000000000 & 0.000000000 & 0.000076700 & 0.000000000 & 0.000079500 & 0.000000000\\\\\n",
       "\t35 & 0.000593755 & 0.000000000 & 0.000000000 & 0.000159745 & 0.000526199 & 0.000370917 & 0.000000000 & 0.000500299 & 0.000392969 & 0.000000000 & ...         & 0.000117239 & 0.000000000 & 0.000000000 & 0.000000000 & 0.000075900 & 0.000106610 & 0.000093900 & 0.000144239 & 0.000301718 & 0.000000000\\\\\n",
       "\t36 & 0.000258384 & 0.000000000 & 0.000140813 & 0.000146902 & 0.000470686 & 0.000331010 & 0.000000000 & 0.000265306 & 0.000289608 & 0.000000000 & ...         & 0.000558939 & 0.000000000 & 0.000035300 & 0.000257809 & 0.000225780 & 0.000422882 & 0.000573648 & 0.000731769 & 0.000698674 & 0.000351994\\\\\n",
       "\t37 & 0.000089000 & 0.000000000 & 0.000034600 & 0.000037700 & 0.000536775 & 0.000428246 & 0.000000000 & 0.000276481 & 0.000000000 & 0.000075000 & ...         & 0.000305052 & 0.000000000 & 0.000051700 & 0.000035900 & 0.000049700 & 0.000106982 & 0.000084200 & 0.000151145 & 0.000073700 & 0.000058300\\\\\n",
       "\t38 & 0.000141091 & 0.000000000 & 0.000080300 & 0.000000000 & 0.008141307 & 0.000000000 & 0.000200260 & 0.000372318 & 0.000188717 & 0.000000000 & ...         & 0.000263627 & 0.000067800 & 0.000000000 & 0.000114034 & 0.000249241 & 0.000454675 & 0.000818920 & 0.000727929 & 0.000651305 & 0.000275235\\\\\n",
       "\t39 & 0.000000000 & 0.000039100 & 0.000145968 & 0.000000000 & 0.000093300 & 0.000160626 & 0.000000000 & 0.000109785 & 0.000000000 & 0.000049700 & ...         & 0.000018000 & 0.000053100 & 0.000000000 & 0.000118599 & 0.000137792 & 0.000204720 & 0.000305505 & 0.000277159 & 0.000267710 & 0.000136163\\\\\n",
       "\t40 & 0.000055400 & 0.000000000 & 0.000107124 & 0.000021500 & 0.000422020 & 0.000000000 & 0.000281346 & 0.000153643 & 0.000248632 & 0.000000000 & ...         & 0.000574143 & 0.000040300 & 0.000000000 & 0.000199560 & 0.000212646 & 0.000408934 & 0.000351683 & 0.000386033 & 0.000487449 & 0.000256810\\\\\n",
       "\t46 & 0.000125128 & 0.000000000 & 0.000000000 & 0.000143684 & 0.000649748 & 0.000000000 & 0.000289930 & 0.000259210 & 0.000270273 & 0.000038000 & ...         & 0.000537562 & 0.000040900 & 0.000053800 & 0.000000000 & 0.000054900 & 0.000118734 & 0.000155002 & 0.000146367 & 0.000236342 & 0.000066900\\\\\n",
       "\t47 & 0.000258092 & 0.000000000 & 0.000000000 & 0.000149452 & 0.000302026 & 0.000000000 & 0.000188541 & 0.000186242 & 0.000039800 & 0.000000000 & ...         & 0.000706306 & 0.000000000 & 0.000094800 & 0.000057100 & 0.000052100 & 0.000143776 & 0.000184610 & 0.000104374 & 0.000175799 & 0.000071000\\\\\n",
       "\t48 & 0.000000000 & 0.000000000 & 0.000000000 & 0.000112599 & 0.000145159 & 0.000000000 & 0.000129871 & 0.000209291 & 0.000045000 & 0.000000000 & ...         & 0.000468782 & 0.000048400 & 0.000082300 & 0.000233041 & 0.000273830 & 0.000422596 & 0.000611885 & 0.000673547 & 0.000673547 & 0.000343364\\\\\n",
       "\t49 & 0.000000000 & 0.000000000 & 0.000066200 & 0.000135695 & 0.000236694 & 0.000000000 & 0.000165570 & 0.000269422 & 0.000200482 & 0.000000000 & ...         & 0.000771596 & 0.000000000 & 0.000312376 & 0.000000000 & 0.000000000 & 0.000058400 & 0.000116253 & 0.000080500 & 0.000091800 & 0.000038900\\\\\n",
       "\t50 & 0.000000000 & 0.000019900 & 0.000078100 & 0.000030200 & 0.000113058 & 0.000212121 & 0.000000000 & 0.000141977 & 0.000000000 & 0.000000000 & ...         & 0.000765965 & 0.000000000 & 0.000223377 & 0.000000000 & 0.000000000 & 0.000000000 & 0.000000000 & 0.000000000 & 0.000020900 & 0.000000000\\\\\n",
       "\t51 & 0.000166132 & 0.000000000 & 0.000105694 & 0.000041800 & 0.000506169 & 0.000129238 & 0.000000000 & 0.000271393 & 0.000000000 & 0.000000000 & ...         & 0.000531011 & 0.000000000 & 0.000082300 & 0.000000000 & 0.000000000 & 0.000000000 & 0.000112990 & 0.000105773 & 0.000121727 & 0.000044000\\\\\n",
       "\t52 & 0.000132463 & 0.000000000 & 0.000037400 & 0.000000000 & 0.000397599 & 0.000223923 & 0.000000000 & 0.000359568 & 0.000000000 & 0.000000000 & ...         & 0.000394142 & 0.000037900 & 0.000032900 & 0.000000000 & 0.000056200 & 0.000069100 & 0.000077400 & 0.000070300 & 0.000155529 & 0.000100663\\\\\n",
       "\t53 & 0.000273714 & 0.000000000 & 0.000000000 & 0.000000000 & 0.000194017 & 0.000302819 & 0.000000000 & 0.000215290 & 0.000000000 & 0.000131870 & ...         & 0.000146737 & 0.000000000 & 0.000000000 & 0.000034200 & 0.000054100 & 0.000137227 & 0.000196984 & 0.000160715 & 0.000181791 & 0.000092900\\\\\n",
       "\t54 & 0.000103536 & 0.000000000 & 0.000061600 & 0.000000000 & 0.000223323 & 0.000000000 & 0.000296744 & 0.000245542 & 0.000340730 & 0.000140060 & ...         & 0.000427624 & 0.000000000 & 0.000000000 & 0.000060900 & 0.000107317 & 0.000305577 & 0.000402470 & 0.000391689 & 0.000345299 & 0.000233756\\\\\n",
       "\t55 & 0.000000000 & 0.000000000 & 0.000102654 & 0.000000000 & 0.000600078 & 0.000000000 & 0.000247651 & 0.000139905 & 0.000189491 & 0.000000000 & ...         & 0.000642941 & 0.000040300 & 0.000000000 & 0.000153822 & 0.000213973 & 0.000302420 & 0.000492921 & 0.000485777 & 0.000523878 & 0.000252414\\\\\n",
       "\\end{tabular}\n"
      ],
      "text/markdown": [
       "\n",
       "| <!--/--> | X141.091_1.54 | X203.007_0.309 | X240.116_2.324 | X249.112_2.768 | X272.222_2.957 | X293.211_2.931 | X293.211_2.934 | X296.258_2.976 | X311.221_2.932 | X345.243_3.095 | ... | X708.445_3.006 | X709.936_2.18 | X720.445_3.09 | X737.391_2.399 | X776.042_2.398 | X776.095_2.398 | X776.148_2.398 | X776.359_2.398 | X819.433_2.399 | X867.281_2.399 |\n",
       "|---|---|---|---|---|---|---|---|---|---|---|---|---|---|---|---|---|---|---|---|---|---|\n",
       "| 16 | 0.000076600 | 0.000000000 | 0.000213447 | 0.000021500 | 0.005685280 | 0.000000000 | 0.000744074 | 0.000000000 | 0.000702182 | 0.000000000 | ...         | 0.000686223 | 0.000092000 | 0.000000000 | 0.000255339 | 0.000307205 | 0.000428890 | 0.000696197 | 0.000766017 | 0.000626378 | 0.000307205 |\n",
       "| 17 | 0.000114338 | 0.000115359 | 0.000000000 | 0.000052800 | 0.000202120 | 0.000555608 | 0.000000000 | 0.000223923 | 0.000545627 | 0.000000000 | ...         | 0.001008079 | 0.000041600 | 0.000180561 | 0.000036200 | 0.000038900 | 0.000056900 | 0.000084500 | 0.000075500 | 0.000166114 | 0.000048300 |\n",
       "| 18 | 0.000086600 | 0.000000000 | 0.000196786 | 0.000115150 | 0.000707842 | 0.000000000 | 0.000387376 | 0.000207706 | 0.000383854 | 0.000097500 | ...         | 0.000552891 | 0.000044100 | 0.000000000 | 0.000088700 | 0.000095200 | 0.000216706 | 0.000338104 | 0.000471894 | 0.000485981 | 0.000190673 |\n",
       "| 19 | 0.000137472 | 0.000064900 | 0.000081400 | 0.000071900 | 0.000348635 | 0.000670678 | 0.000000000 | 0.000241067 | 0.000000000 | 0.000000000 | ...         | 0.000502270 | 0.000000000 | 0.000234553 | 0.000000000 | 0.000000000 | 0.000000000 | 0.000000000 | 0.000000000 | 0.000000000 | 0.000000000 |\n",
       "| 20 | 0.000077500 | 0.000130843 | 0.000081800 | 0.000084800 | 0.000293552 | 0.000285546 | 0.000000000 | 0.000126785 | 0.000257409 | 0.000019500 | ...         | 0.000926023 | 0.000000000 | 0.000152366 | 0.000000000 | 0.000000000 | 0.000000000 | 0.000023500 | 0.000035800 | 0.000000000 | 0.000000000 |\n",
       "| 21 | 0.000146666 | 0.000000000 | 0.000292520 | 0.000039300 | 0.002445024 | 0.000543645 | 0.000000000 | 0.000195543 | 0.000565722 | 0.000000000 | ...         | 0.001156281 | 0.000118265 | 0.000097200 | 0.000086700 | 0.000102903 | 0.000189529 | 0.000303558 | 0.000361510 | 0.000309077 | 0.000141744 |\n",
       "| 22 | 0.000000000 | 0.000393517 | 0.000076500 | 0.000149907 | 0.000412467 | 0.000262293 | 0.000000000 | 0.000356011 | 0.000308169 | 0.000000000 | ...         | 0.000366927 | 0.000000000 | 0.000000000 | 0.000097700 | 0.000245467 | 0.000409828 | 0.000828059 | 0.000811386 | 0.000800271 | 0.000424000 |\n",
       "| 23 | 0.000256755 | 0.000066100 | 0.000185667 | 0.000045500 | 0.000294685 | 0.000278313 | 0.000000000 | 0.000296358 | 0.000210295 | 0.000031500 | ...         | 0.000284637 | 0.000000000 | 0.000000000 | 0.000185630 | 0.000187123 | 0.000310442 | 0.000397130 | 0.000591933 | 0.000496727 | 0.000263751 |\n",
       "| 24 | 0.000405619 | 0.000048400 | 0.000110574 | 0.000000000 | 0.000680557 | 0.000000000 | 0.000510418 | 0.000488605 | 0.000475517 | 0.000112158 | ...         | 0.000606393 | 0.000065200 | 0.000000000 | 0.000097500 | 0.000186552 | 0.000435305 | 0.000724182 | 0.000706732 | 0.000759083 | 0.000406023 |\n",
       "| 25 | 0.000107109 | 0.000000000 | 0.000028500 | 0.000000000 | 0.000189621 | 0.000479521 | 0.000000000 | 0.000177686 | 0.000000000 | 0.000208399 | ...         | 0.000313611 | 0.000000000 | 0.000000000 | 0.000019700 | 0.000035900 | 0.000079800 | 0.000119594 | 0.000131164 | 0.000097400 | 0.000073600 |\n",
       "| 31 | 0.000036900 | 0.000000000 | 0.000146675 | 0.000020700 | 0.000353463 | 0.000000000 | 0.000204383 | 0.000000000 | 0.000182743 | 0.000000000 | ...         | 0.000774252 | 0.000069500 | 0.000065400 | 0.000119745 | 0.000120105 | 0.000224822 | 0.000308979 | 0.000337833 | 0.000325811 | 0.000138259 |\n",
       "| 32 | 0.000162756 | 0.000000000 | 0.000050600 | 0.000192382 | 0.000316827 | 0.000000000 | 0.000163275 | 0.000188501 | 0.000036200 | 0.000000000 | ...         | 0.000627744 | 0.000048800 | 0.000032800 | 0.000000000 | 0.000037800 | 0.000068700 | 0.000180156 | 0.000102879 | 0.000137775 | 0.000053200 |\n",
       "| 33 | 0.000283937 | 0.000000000 | 0.000048300 | 0.000177230 | 0.000353447 | 0.000000000 | 0.000155161 | 0.000199914 | 0.000152634 | 0.000000000 | ...         | 0.000702928 | 0.000000000 | 0.000197714 | 0.000000000 | 0.000000000 | 0.000039700 | 0.000047200 | 0.000050400 | 0.000045700 | 0.000037100 |\n",
       "| 34 | 0.000207285 | 0.000140640 | 0.000047900 | 0.000032000 | 0.000266898 | 0.000499292 | 0.000000000 | 0.000213125 | 0.000000000 | 0.000027300 | ...         | 0.000740884 | 0.000000000 | 0.000224164 | 0.000000000 | 0.000000000 | 0.000000000 | 0.000076700 | 0.000000000 | 0.000079500 | 0.000000000 |\n",
       "| 35 | 0.000593755 | 0.000000000 | 0.000000000 | 0.000159745 | 0.000526199 | 0.000370917 | 0.000000000 | 0.000500299 | 0.000392969 | 0.000000000 | ...         | 0.000117239 | 0.000000000 | 0.000000000 | 0.000000000 | 0.000075900 | 0.000106610 | 0.000093900 | 0.000144239 | 0.000301718 | 0.000000000 |\n",
       "| 36 | 0.000258384 | 0.000000000 | 0.000140813 | 0.000146902 | 0.000470686 | 0.000331010 | 0.000000000 | 0.000265306 | 0.000289608 | 0.000000000 | ...         | 0.000558939 | 0.000000000 | 0.000035300 | 0.000257809 | 0.000225780 | 0.000422882 | 0.000573648 | 0.000731769 | 0.000698674 | 0.000351994 |\n",
       "| 37 | 0.000089000 | 0.000000000 | 0.000034600 | 0.000037700 | 0.000536775 | 0.000428246 | 0.000000000 | 0.000276481 | 0.000000000 | 0.000075000 | ...         | 0.000305052 | 0.000000000 | 0.000051700 | 0.000035900 | 0.000049700 | 0.000106982 | 0.000084200 | 0.000151145 | 0.000073700 | 0.000058300 |\n",
       "| 38 | 0.000141091 | 0.000000000 | 0.000080300 | 0.000000000 | 0.008141307 | 0.000000000 | 0.000200260 | 0.000372318 | 0.000188717 | 0.000000000 | ...         | 0.000263627 | 0.000067800 | 0.000000000 | 0.000114034 | 0.000249241 | 0.000454675 | 0.000818920 | 0.000727929 | 0.000651305 | 0.000275235 |\n",
       "| 39 | 0.000000000 | 0.000039100 | 0.000145968 | 0.000000000 | 0.000093300 | 0.000160626 | 0.000000000 | 0.000109785 | 0.000000000 | 0.000049700 | ...         | 0.000018000 | 0.000053100 | 0.000000000 | 0.000118599 | 0.000137792 | 0.000204720 | 0.000305505 | 0.000277159 | 0.000267710 | 0.000136163 |\n",
       "| 40 | 0.000055400 | 0.000000000 | 0.000107124 | 0.000021500 | 0.000422020 | 0.000000000 | 0.000281346 | 0.000153643 | 0.000248632 | 0.000000000 | ...         | 0.000574143 | 0.000040300 | 0.000000000 | 0.000199560 | 0.000212646 | 0.000408934 | 0.000351683 | 0.000386033 | 0.000487449 | 0.000256810 |\n",
       "| 46 | 0.000125128 | 0.000000000 | 0.000000000 | 0.000143684 | 0.000649748 | 0.000000000 | 0.000289930 | 0.000259210 | 0.000270273 | 0.000038000 | ...         | 0.000537562 | 0.000040900 | 0.000053800 | 0.000000000 | 0.000054900 | 0.000118734 | 0.000155002 | 0.000146367 | 0.000236342 | 0.000066900 |\n",
       "| 47 | 0.000258092 | 0.000000000 | 0.000000000 | 0.000149452 | 0.000302026 | 0.000000000 | 0.000188541 | 0.000186242 | 0.000039800 | 0.000000000 | ...         | 0.000706306 | 0.000000000 | 0.000094800 | 0.000057100 | 0.000052100 | 0.000143776 | 0.000184610 | 0.000104374 | 0.000175799 | 0.000071000 |\n",
       "| 48 | 0.000000000 | 0.000000000 | 0.000000000 | 0.000112599 | 0.000145159 | 0.000000000 | 0.000129871 | 0.000209291 | 0.000045000 | 0.000000000 | ...         | 0.000468782 | 0.000048400 | 0.000082300 | 0.000233041 | 0.000273830 | 0.000422596 | 0.000611885 | 0.000673547 | 0.000673547 | 0.000343364 |\n",
       "| 49 | 0.000000000 | 0.000000000 | 0.000066200 | 0.000135695 | 0.000236694 | 0.000000000 | 0.000165570 | 0.000269422 | 0.000200482 | 0.000000000 | ...         | 0.000771596 | 0.000000000 | 0.000312376 | 0.000000000 | 0.000000000 | 0.000058400 | 0.000116253 | 0.000080500 | 0.000091800 | 0.000038900 |\n",
       "| 50 | 0.000000000 | 0.000019900 | 0.000078100 | 0.000030200 | 0.000113058 | 0.000212121 | 0.000000000 | 0.000141977 | 0.000000000 | 0.000000000 | ...         | 0.000765965 | 0.000000000 | 0.000223377 | 0.000000000 | 0.000000000 | 0.000000000 | 0.000000000 | 0.000000000 | 0.000020900 | 0.000000000 |\n",
       "| 51 | 0.000166132 | 0.000000000 | 0.000105694 | 0.000041800 | 0.000506169 | 0.000129238 | 0.000000000 | 0.000271393 | 0.000000000 | 0.000000000 | ...         | 0.000531011 | 0.000000000 | 0.000082300 | 0.000000000 | 0.000000000 | 0.000000000 | 0.000112990 | 0.000105773 | 0.000121727 | 0.000044000 |\n",
       "| 52 | 0.000132463 | 0.000000000 | 0.000037400 | 0.000000000 | 0.000397599 | 0.000223923 | 0.000000000 | 0.000359568 | 0.000000000 | 0.000000000 | ...         | 0.000394142 | 0.000037900 | 0.000032900 | 0.000000000 | 0.000056200 | 0.000069100 | 0.000077400 | 0.000070300 | 0.000155529 | 0.000100663 |\n",
       "| 53 | 0.000273714 | 0.000000000 | 0.000000000 | 0.000000000 | 0.000194017 | 0.000302819 | 0.000000000 | 0.000215290 | 0.000000000 | 0.000131870 | ...         | 0.000146737 | 0.000000000 | 0.000000000 | 0.000034200 | 0.000054100 | 0.000137227 | 0.000196984 | 0.000160715 | 0.000181791 | 0.000092900 |\n",
       "| 54 | 0.000103536 | 0.000000000 | 0.000061600 | 0.000000000 | 0.000223323 | 0.000000000 | 0.000296744 | 0.000245542 | 0.000340730 | 0.000140060 | ...         | 0.000427624 | 0.000000000 | 0.000000000 | 0.000060900 | 0.000107317 | 0.000305577 | 0.000402470 | 0.000391689 | 0.000345299 | 0.000233756 |\n",
       "| 55 | 0.000000000 | 0.000000000 | 0.000102654 | 0.000000000 | 0.000600078 | 0.000000000 | 0.000247651 | 0.000139905 | 0.000189491 | 0.000000000 | ...         | 0.000642941 | 0.000040300 | 0.000000000 | 0.000153822 | 0.000213973 | 0.000302420 | 0.000492921 | 0.000485777 | 0.000523878 | 0.000252414 |\n",
       "\n"
      ],
      "text/plain": [
       "   X141.091_1.54 X203.007_0.309 X240.116_2.324 X249.112_2.768 X272.222_2.957\n",
       "16 0.000076600   0.000000000    0.000213447    0.000021500    0.005685280   \n",
       "17 0.000114338   0.000115359    0.000000000    0.000052800    0.000202120   \n",
       "18 0.000086600   0.000000000    0.000196786    0.000115150    0.000707842   \n",
       "19 0.000137472   0.000064900    0.000081400    0.000071900    0.000348635   \n",
       "20 0.000077500   0.000130843    0.000081800    0.000084800    0.000293552   \n",
       "21 0.000146666   0.000000000    0.000292520    0.000039300    0.002445024   \n",
       "22 0.000000000   0.000393517    0.000076500    0.000149907    0.000412467   \n",
       "23 0.000256755   0.000066100    0.000185667    0.000045500    0.000294685   \n",
       "24 0.000405619   0.000048400    0.000110574    0.000000000    0.000680557   \n",
       "25 0.000107109   0.000000000    0.000028500    0.000000000    0.000189621   \n",
       "31 0.000036900   0.000000000    0.000146675    0.000020700    0.000353463   \n",
       "32 0.000162756   0.000000000    0.000050600    0.000192382    0.000316827   \n",
       "33 0.000283937   0.000000000    0.000048300    0.000177230    0.000353447   \n",
       "34 0.000207285   0.000140640    0.000047900    0.000032000    0.000266898   \n",
       "35 0.000593755   0.000000000    0.000000000    0.000159745    0.000526199   \n",
       "36 0.000258384   0.000000000    0.000140813    0.000146902    0.000470686   \n",
       "37 0.000089000   0.000000000    0.000034600    0.000037700    0.000536775   \n",
       "38 0.000141091   0.000000000    0.000080300    0.000000000    0.008141307   \n",
       "39 0.000000000   0.000039100    0.000145968    0.000000000    0.000093300   \n",
       "40 0.000055400   0.000000000    0.000107124    0.000021500    0.000422020   \n",
       "46 0.000125128   0.000000000    0.000000000    0.000143684    0.000649748   \n",
       "47 0.000258092   0.000000000    0.000000000    0.000149452    0.000302026   \n",
       "48 0.000000000   0.000000000    0.000000000    0.000112599    0.000145159   \n",
       "49 0.000000000   0.000000000    0.000066200    0.000135695    0.000236694   \n",
       "50 0.000000000   0.000019900    0.000078100    0.000030200    0.000113058   \n",
       "51 0.000166132   0.000000000    0.000105694    0.000041800    0.000506169   \n",
       "52 0.000132463   0.000000000    0.000037400    0.000000000    0.000397599   \n",
       "53 0.000273714   0.000000000    0.000000000    0.000000000    0.000194017   \n",
       "54 0.000103536   0.000000000    0.000061600    0.000000000    0.000223323   \n",
       "55 0.000000000   0.000000000    0.000102654    0.000000000    0.000600078   \n",
       "   X293.211_2.931 X293.211_2.934 X296.258_2.976 X311.221_2.932 X345.243_3.095\n",
       "16 0.000000000    0.000744074    0.000000000    0.000702182    0.000000000   \n",
       "17 0.000555608    0.000000000    0.000223923    0.000545627    0.000000000   \n",
       "18 0.000000000    0.000387376    0.000207706    0.000383854    0.000097500   \n",
       "19 0.000670678    0.000000000    0.000241067    0.000000000    0.000000000   \n",
       "20 0.000285546    0.000000000    0.000126785    0.000257409    0.000019500   \n",
       "21 0.000543645    0.000000000    0.000195543    0.000565722    0.000000000   \n",
       "22 0.000262293    0.000000000    0.000356011    0.000308169    0.000000000   \n",
       "23 0.000278313    0.000000000    0.000296358    0.000210295    0.000031500   \n",
       "24 0.000000000    0.000510418    0.000488605    0.000475517    0.000112158   \n",
       "25 0.000479521    0.000000000    0.000177686    0.000000000    0.000208399   \n",
       "31 0.000000000    0.000204383    0.000000000    0.000182743    0.000000000   \n",
       "32 0.000000000    0.000163275    0.000188501    0.000036200    0.000000000   \n",
       "33 0.000000000    0.000155161    0.000199914    0.000152634    0.000000000   \n",
       "34 0.000499292    0.000000000    0.000213125    0.000000000    0.000027300   \n",
       "35 0.000370917    0.000000000    0.000500299    0.000392969    0.000000000   \n",
       "36 0.000331010    0.000000000    0.000265306    0.000289608    0.000000000   \n",
       "37 0.000428246    0.000000000    0.000276481    0.000000000    0.000075000   \n",
       "38 0.000000000    0.000200260    0.000372318    0.000188717    0.000000000   \n",
       "39 0.000160626    0.000000000    0.000109785    0.000000000    0.000049700   \n",
       "40 0.000000000    0.000281346    0.000153643    0.000248632    0.000000000   \n",
       "46 0.000000000    0.000289930    0.000259210    0.000270273    0.000038000   \n",
       "47 0.000000000    0.000188541    0.000186242    0.000039800    0.000000000   \n",
       "48 0.000000000    0.000129871    0.000209291    0.000045000    0.000000000   \n",
       "49 0.000000000    0.000165570    0.000269422    0.000200482    0.000000000   \n",
       "50 0.000212121    0.000000000    0.000141977    0.000000000    0.000000000   \n",
       "51 0.000129238    0.000000000    0.000271393    0.000000000    0.000000000   \n",
       "52 0.000223923    0.000000000    0.000359568    0.000000000    0.000000000   \n",
       "53 0.000302819    0.000000000    0.000215290    0.000000000    0.000131870   \n",
       "54 0.000000000    0.000296744    0.000245542    0.000340730    0.000140060   \n",
       "55 0.000000000    0.000247651    0.000139905    0.000189491    0.000000000   \n",
       "   ... X708.445_3.006 X709.936_2.18 X720.445_3.09 X737.391_2.399 X776.042_2.398\n",
       "16 ... 0.000686223    0.000092000   0.000000000   0.000255339    0.000307205   \n",
       "17 ... 0.001008079    0.000041600   0.000180561   0.000036200    0.000038900   \n",
       "18 ... 0.000552891    0.000044100   0.000000000   0.000088700    0.000095200   \n",
       "19 ... 0.000502270    0.000000000   0.000234553   0.000000000    0.000000000   \n",
       "20 ... 0.000926023    0.000000000   0.000152366   0.000000000    0.000000000   \n",
       "21 ... 0.001156281    0.000118265   0.000097200   0.000086700    0.000102903   \n",
       "22 ... 0.000366927    0.000000000   0.000000000   0.000097700    0.000245467   \n",
       "23 ... 0.000284637    0.000000000   0.000000000   0.000185630    0.000187123   \n",
       "24 ... 0.000606393    0.000065200   0.000000000   0.000097500    0.000186552   \n",
       "25 ... 0.000313611    0.000000000   0.000000000   0.000019700    0.000035900   \n",
       "31 ... 0.000774252    0.000069500   0.000065400   0.000119745    0.000120105   \n",
       "32 ... 0.000627744    0.000048800   0.000032800   0.000000000    0.000037800   \n",
       "33 ... 0.000702928    0.000000000   0.000197714   0.000000000    0.000000000   \n",
       "34 ... 0.000740884    0.000000000   0.000224164   0.000000000    0.000000000   \n",
       "35 ... 0.000117239    0.000000000   0.000000000   0.000000000    0.000075900   \n",
       "36 ... 0.000558939    0.000000000   0.000035300   0.000257809    0.000225780   \n",
       "37 ... 0.000305052    0.000000000   0.000051700   0.000035900    0.000049700   \n",
       "38 ... 0.000263627    0.000067800   0.000000000   0.000114034    0.000249241   \n",
       "39 ... 0.000018000    0.000053100   0.000000000   0.000118599    0.000137792   \n",
       "40 ... 0.000574143    0.000040300   0.000000000   0.000199560    0.000212646   \n",
       "46 ... 0.000537562    0.000040900   0.000053800   0.000000000    0.000054900   \n",
       "47 ... 0.000706306    0.000000000   0.000094800   0.000057100    0.000052100   \n",
       "48 ... 0.000468782    0.000048400   0.000082300   0.000233041    0.000273830   \n",
       "49 ... 0.000771596    0.000000000   0.000312376   0.000000000    0.000000000   \n",
       "50 ... 0.000765965    0.000000000   0.000223377   0.000000000    0.000000000   \n",
       "51 ... 0.000531011    0.000000000   0.000082300   0.000000000    0.000000000   \n",
       "52 ... 0.000394142    0.000037900   0.000032900   0.000000000    0.000056200   \n",
       "53 ... 0.000146737    0.000000000   0.000000000   0.000034200    0.000054100   \n",
       "54 ... 0.000427624    0.000000000   0.000000000   0.000060900    0.000107317   \n",
       "55 ... 0.000642941    0.000040300   0.000000000   0.000153822    0.000213973   \n",
       "   X776.095_2.398 X776.148_2.398 X776.359_2.398 X819.433_2.399 X867.281_2.399\n",
       "16 0.000428890    0.000696197    0.000766017    0.000626378    0.000307205   \n",
       "17 0.000056900    0.000084500    0.000075500    0.000166114    0.000048300   \n",
       "18 0.000216706    0.000338104    0.000471894    0.000485981    0.000190673   \n",
       "19 0.000000000    0.000000000    0.000000000    0.000000000    0.000000000   \n",
       "20 0.000000000    0.000023500    0.000035800    0.000000000    0.000000000   \n",
       "21 0.000189529    0.000303558    0.000361510    0.000309077    0.000141744   \n",
       "22 0.000409828    0.000828059    0.000811386    0.000800271    0.000424000   \n",
       "23 0.000310442    0.000397130    0.000591933    0.000496727    0.000263751   \n",
       "24 0.000435305    0.000724182    0.000706732    0.000759083    0.000406023   \n",
       "25 0.000079800    0.000119594    0.000131164    0.000097400    0.000073600   \n",
       "31 0.000224822    0.000308979    0.000337833    0.000325811    0.000138259   \n",
       "32 0.000068700    0.000180156    0.000102879    0.000137775    0.000053200   \n",
       "33 0.000039700    0.000047200    0.000050400    0.000045700    0.000037100   \n",
       "34 0.000000000    0.000076700    0.000000000    0.000079500    0.000000000   \n",
       "35 0.000106610    0.000093900    0.000144239    0.000301718    0.000000000   \n",
       "36 0.000422882    0.000573648    0.000731769    0.000698674    0.000351994   \n",
       "37 0.000106982    0.000084200    0.000151145    0.000073700    0.000058300   \n",
       "38 0.000454675    0.000818920    0.000727929    0.000651305    0.000275235   \n",
       "39 0.000204720    0.000305505    0.000277159    0.000267710    0.000136163   \n",
       "40 0.000408934    0.000351683    0.000386033    0.000487449    0.000256810   \n",
       "46 0.000118734    0.000155002    0.000146367    0.000236342    0.000066900   \n",
       "47 0.000143776    0.000184610    0.000104374    0.000175799    0.000071000   \n",
       "48 0.000422596    0.000611885    0.000673547    0.000673547    0.000343364   \n",
       "49 0.000058400    0.000116253    0.000080500    0.000091800    0.000038900   \n",
       "50 0.000000000    0.000000000    0.000000000    0.000020900    0.000000000   \n",
       "51 0.000000000    0.000112990    0.000105773    0.000121727    0.000044000   \n",
       "52 0.000069100    0.000077400    0.000070300    0.000155529    0.000100663   \n",
       "53 0.000137227    0.000196984    0.000160715    0.000181791    0.000092900   \n",
       "54 0.000305577    0.000402470    0.000391689    0.000345299    0.000233756   \n",
       "55 0.000302420    0.000492921    0.000485777    0.000523878    0.000252414   "
      ]
     },
     "metadata": {},
     "output_type": "display_data"
    },
    {
     "data": {
      "text/html": [
       "<table>\n",
       "<thead><tr><th></th><th scope=col>filename</th><th scope=col>MouseID</th><th scope=col>Treatmentgroup</th><th scope=col>DPI</th><th scope=col>organ</th><th scope=col>well_position</th><th scope=col>plate</th><th scope=col>X141.091_1.54</th><th scope=col>X203.007_0.309</th><th scope=col>X240.116_2.324</th><th scope=col>...</th><th scope=col>X708.445_3.006</th><th scope=col>X709.936_2.18</th><th scope=col>X720.445_3.09</th><th scope=col>X737.391_2.399</th><th scope=col>X776.042_2.398</th><th scope=col>X776.095_2.398</th><th scope=col>X776.148_2.398</th><th scope=col>X776.359_2.398</th><th scope=col>X819.433_2.399</th><th scope=col>X867.281_2.399</th></tr></thead>\n",
       "<tbody>\n",
       "\t<tr><th scope=row>16</th><td>X581_Group3E_142dpi_LV_top_176_G_B4_P128.mzXML</td><td>581                                           </td><td>Group3E                                       </td><td>142dpi                                        </td><td>LV_top                                        </td><td>B4                                            </td><td>P128                                          </td><td>0.000076600                                   </td><td>0.000000000                                   </td><td>0.000213447                                   </td><td>...                                           </td><td>0.000686223                                   </td><td>0.000092000                                   </td><td>0.000000000                                   </td><td>0.000255339                                   </td><td>0.000307205                                   </td><td>0.000428890                                   </td><td>0.000696197                                   </td><td>0.000766017                                   </td><td>0.000626378                                   </td><td>0.000307205                                   </td></tr>\n",
       "\t<tr><th scope=row>17</th><td>X582_Group3E_142dpi_LV_top_177_G_B5_P128.mzXML</td><td>582                                           </td><td>Group3E                                       </td><td>142dpi                                        </td><td>LV_top                                        </td><td>B5                                            </td><td>P128                                          </td><td>0.000114338                                   </td><td>0.000115359                                   </td><td>0.000000000                                   </td><td>...                                           </td><td>0.001008079                                   </td><td>0.000041600                                   </td><td>0.000180561                                   </td><td>0.000036200                                   </td><td>0.000038900                                   </td><td>0.000056900                                   </td><td>0.000084500                                   </td><td>0.000075500                                   </td><td>0.000166114                                   </td><td>0.000048300                                   </td></tr>\n",
       "\t<tr><th scope=row>18</th><td>X583_Group3E_142dpi_LV_top_178_G_B6_P128.mzXML</td><td>583                                           </td><td>Group3E                                       </td><td>142dpi                                        </td><td>LV_top                                        </td><td>B6                                            </td><td>P128                                          </td><td>0.000086600                                   </td><td>0.000000000                                   </td><td>0.000196786                                   </td><td>...                                           </td><td>0.000552891                                   </td><td>0.000044100                                   </td><td>0.000000000                                   </td><td>0.000088700                                   </td><td>0.000095200                                   </td><td>0.000216706                                   </td><td>0.000338104                                   </td><td>0.000471894                                   </td><td>0.000485981                                   </td><td>0.000190673                                   </td></tr>\n",
       "\t<tr><th scope=row>19</th><td>X584_Group3E_142dpi_LV_top_179_G_B7_P128.mzXML</td><td>584                                           </td><td>Group3E                                       </td><td>142dpi                                        </td><td>LV_top                                        </td><td>B7                                            </td><td>P128                                          </td><td>0.000137472                                   </td><td>0.000064900                                   </td><td>0.000081400                                   </td><td>...                                           </td><td>0.000502270                                   </td><td>0.000000000                                   </td><td>0.000234553                                   </td><td>0.000000000                                   </td><td>0.000000000                                   </td><td>0.000000000                                   </td><td>0.000000000                                   </td><td>0.000000000                                   </td><td>0.000000000                                   </td><td>0.000000000                                   </td></tr>\n",
       "\t<tr><th scope=row>20</th><td>X585_Group3E_142dpi_LV_top_180_G_B8_P128.mzXML</td><td>585                                           </td><td>Group3E                                       </td><td>142dpi                                        </td><td>LV_top                                        </td><td>B8                                            </td><td>P128                                          </td><td>0.000077500                                   </td><td>0.000130843                                   </td><td>0.000081800                                   </td><td>...                                           </td><td>0.000926023                                   </td><td>0.000000000                                   </td><td>0.000152366                                   </td><td>0.000000000                                   </td><td>0.000000000                                   </td><td>0.000000000                                   </td><td>0.000023500                                   </td><td>0.000035800                                   </td><td>0.000000000                                   </td><td>0.000000000                                   </td></tr>\n",
       "\t<tr><th scope=row>21</th><td>X611_Group9_142dpi_LV_top_181_G_B9_P128.mzXML </td><td>611                                           </td><td>Group9                                        </td><td>142dpi                                        </td><td>LV_top                                        </td><td>B9                                            </td><td>P128                                          </td><td>0.000146666                                   </td><td>0.000000000                                   </td><td>0.000292520                                   </td><td>...                                           </td><td>0.001156281                                   </td><td>0.000118265                                   </td><td>0.000097200                                   </td><td>0.000086700                                   </td><td>0.000102903                                   </td><td>0.000189529                                   </td><td>0.000303558                                   </td><td>0.000361510                                   </td><td>0.000309077                                   </td><td>0.000141744                                   </td></tr>\n",
       "</tbody>\n",
       "</table>\n"
      ],
      "text/latex": [
       "\\begin{tabular}{r|lllllllllllllllllllllllllllllllllll}\n",
       "  & filename & MouseID & Treatmentgroup & DPI & organ & well\\_position & plate & X141.091\\_1.54 & X203.007\\_0.309 & X240.116\\_2.324 & ... & X708.445\\_3.006 & X709.936\\_2.18 & X720.445\\_3.09 & X737.391\\_2.399 & X776.042\\_2.398 & X776.095\\_2.398 & X776.148\\_2.398 & X776.359\\_2.398 & X819.433\\_2.399 & X867.281\\_2.399\\\\\n",
       "\\hline\n",
       "\t16 & X581\\_Group3E\\_142dpi\\_LV\\_top\\_176\\_G\\_B4\\_P128.mzXML & 581                                                            & Group3E                                                        & 142dpi                                                         & LV\\_top                                                       & B4                                                             & P128                                                           & 0.000076600                                                    & 0.000000000                                                    & 0.000213447                                                    & ...                                                            & 0.000686223                                                    & 0.000092000                                                    & 0.000000000                                                    & 0.000255339                                                    & 0.000307205                                                    & 0.000428890                                                    & 0.000696197                                                    & 0.000766017                                                    & 0.000626378                                                    & 0.000307205                                                   \\\\\n",
       "\t17 & X582\\_Group3E\\_142dpi\\_LV\\_top\\_177\\_G\\_B5\\_P128.mzXML & 582                                                            & Group3E                                                        & 142dpi                                                         & LV\\_top                                                       & B5                                                             & P128                                                           & 0.000114338                                                    & 0.000115359                                                    & 0.000000000                                                    & ...                                                            & 0.001008079                                                    & 0.000041600                                                    & 0.000180561                                                    & 0.000036200                                                    & 0.000038900                                                    & 0.000056900                                                    & 0.000084500                                                    & 0.000075500                                                    & 0.000166114                                                    & 0.000048300                                                   \\\\\n",
       "\t18 & X583\\_Group3E\\_142dpi\\_LV\\_top\\_178\\_G\\_B6\\_P128.mzXML & 583                                                            & Group3E                                                        & 142dpi                                                         & LV\\_top                                                       & B6                                                             & P128                                                           & 0.000086600                                                    & 0.000000000                                                    & 0.000196786                                                    & ...                                                            & 0.000552891                                                    & 0.000044100                                                    & 0.000000000                                                    & 0.000088700                                                    & 0.000095200                                                    & 0.000216706                                                    & 0.000338104                                                    & 0.000471894                                                    & 0.000485981                                                    & 0.000190673                                                   \\\\\n",
       "\t19 & X584\\_Group3E\\_142dpi\\_LV\\_top\\_179\\_G\\_B7\\_P128.mzXML & 584                                                            & Group3E                                                        & 142dpi                                                         & LV\\_top                                                       & B7                                                             & P128                                                           & 0.000137472                                                    & 0.000064900                                                    & 0.000081400                                                    & ...                                                            & 0.000502270                                                    & 0.000000000                                                    & 0.000234553                                                    & 0.000000000                                                    & 0.000000000                                                    & 0.000000000                                                    & 0.000000000                                                    & 0.000000000                                                    & 0.000000000                                                    & 0.000000000                                                   \\\\\n",
       "\t20 & X585\\_Group3E\\_142dpi\\_LV\\_top\\_180\\_G\\_B8\\_P128.mzXML & 585                                                            & Group3E                                                        & 142dpi                                                         & LV\\_top                                                       & B8                                                             & P128                                                           & 0.000077500                                                    & 0.000130843                                                    & 0.000081800                                                    & ...                                                            & 0.000926023                                                    & 0.000000000                                                    & 0.000152366                                                    & 0.000000000                                                    & 0.000000000                                                    & 0.000000000                                                    & 0.000023500                                                    & 0.000035800                                                    & 0.000000000                                                    & 0.000000000                                                   \\\\\n",
       "\t21 & X611\\_Group9\\_142dpi\\_LV\\_top\\_181\\_G\\_B9\\_P128.mzXML  & 611                                                            & Group9                                                         & 142dpi                                                         & LV\\_top                                                       & B9                                                             & P128                                                           & 0.000146666                                                    & 0.000000000                                                    & 0.000292520                                                    & ...                                                            & 0.001156281                                                    & 0.000118265                                                    & 0.000097200                                                    & 0.000086700                                                    & 0.000102903                                                    & 0.000189529                                                    & 0.000303558                                                    & 0.000361510                                                    & 0.000309077                                                    & 0.000141744                                                   \\\\\n",
       "\\end{tabular}\n"
      ],
      "text/markdown": [
       "\n",
       "| <!--/--> | filename | MouseID | Treatmentgroup | DPI | organ | well_position | plate | X141.091_1.54 | X203.007_0.309 | X240.116_2.324 | ... | X708.445_3.006 | X709.936_2.18 | X720.445_3.09 | X737.391_2.399 | X776.042_2.398 | X776.095_2.398 | X776.148_2.398 | X776.359_2.398 | X819.433_2.399 | X867.281_2.399 |\n",
       "|---|---|---|---|---|---|---|---|---|---|---|---|---|---|---|---|---|---|---|---|---|---|\n",
       "| 16 | X581_Group3E_142dpi_LV_top_176_G_B4_P128.mzXML | 581                                            | Group3E                                        | 142dpi                                         | LV_top                                         | B4                                             | P128                                           | 0.000076600                                    | 0.000000000                                    | 0.000213447                                    | ...                                            | 0.000686223                                    | 0.000092000                                    | 0.000000000                                    | 0.000255339                                    | 0.000307205                                    | 0.000428890                                    | 0.000696197                                    | 0.000766017                                    | 0.000626378                                    | 0.000307205                                    |\n",
       "| 17 | X582_Group3E_142dpi_LV_top_177_G_B5_P128.mzXML | 582                                            | Group3E                                        | 142dpi                                         | LV_top                                         | B5                                             | P128                                           | 0.000114338                                    | 0.000115359                                    | 0.000000000                                    | ...                                            | 0.001008079                                    | 0.000041600                                    | 0.000180561                                    | 0.000036200                                    | 0.000038900                                    | 0.000056900                                    | 0.000084500                                    | 0.000075500                                    | 0.000166114                                    | 0.000048300                                    |\n",
       "| 18 | X583_Group3E_142dpi_LV_top_178_G_B6_P128.mzXML | 583                                            | Group3E                                        | 142dpi                                         | LV_top                                         | B6                                             | P128                                           | 0.000086600                                    | 0.000000000                                    | 0.000196786                                    | ...                                            | 0.000552891                                    | 0.000044100                                    | 0.000000000                                    | 0.000088700                                    | 0.000095200                                    | 0.000216706                                    | 0.000338104                                    | 0.000471894                                    | 0.000485981                                    | 0.000190673                                    |\n",
       "| 19 | X584_Group3E_142dpi_LV_top_179_G_B7_P128.mzXML | 584                                            | Group3E                                        | 142dpi                                         | LV_top                                         | B7                                             | P128                                           | 0.000137472                                    | 0.000064900                                    | 0.000081400                                    | ...                                            | 0.000502270                                    | 0.000000000                                    | 0.000234553                                    | 0.000000000                                    | 0.000000000                                    | 0.000000000                                    | 0.000000000                                    | 0.000000000                                    | 0.000000000                                    | 0.000000000                                    |\n",
       "| 20 | X585_Group3E_142dpi_LV_top_180_G_B8_P128.mzXML | 585                                            | Group3E                                        | 142dpi                                         | LV_top                                         | B8                                             | P128                                           | 0.000077500                                    | 0.000130843                                    | 0.000081800                                    | ...                                            | 0.000926023                                    | 0.000000000                                    | 0.000152366                                    | 0.000000000                                    | 0.000000000                                    | 0.000000000                                    | 0.000023500                                    | 0.000035800                                    | 0.000000000                                    | 0.000000000                                    |\n",
       "| 21 | X611_Group9_142dpi_LV_top_181_G_B9_P128.mzXML  | 611                                            | Group9                                         | 142dpi                                         | LV_top                                         | B9                                             | P128                                           | 0.000146666                                    | 0.000000000                                    | 0.000292520                                    | ...                                            | 0.001156281                                    | 0.000118265                                    | 0.000097200                                    | 0.000086700                                    | 0.000102903                                    | 0.000189529                                    | 0.000303558                                    | 0.000361510                                    | 0.000309077                                    | 0.000141744                                    |\n",
       "\n"
      ],
      "text/plain": [
       "   filename                                       MouseID Treatmentgroup DPI   \n",
       "16 X581_Group3E_142dpi_LV_top_176_G_B4_P128.mzXML 581     Group3E        142dpi\n",
       "17 X582_Group3E_142dpi_LV_top_177_G_B5_P128.mzXML 582     Group3E        142dpi\n",
       "18 X583_Group3E_142dpi_LV_top_178_G_B6_P128.mzXML 583     Group3E        142dpi\n",
       "19 X584_Group3E_142dpi_LV_top_179_G_B7_P128.mzXML 584     Group3E        142dpi\n",
       "20 X585_Group3E_142dpi_LV_top_180_G_B8_P128.mzXML 585     Group3E        142dpi\n",
       "21 X611_Group9_142dpi_LV_top_181_G_B9_P128.mzXML  611     Group9         142dpi\n",
       "   organ  well_position plate X141.091_1.54 X203.007_0.309 X240.116_2.324 ...\n",
       "16 LV_top B4            P128  0.000076600   0.000000000    0.000213447    ...\n",
       "17 LV_top B5            P128  0.000114338   0.000115359    0.000000000    ...\n",
       "18 LV_top B6            P128  0.000086600   0.000000000    0.000196786    ...\n",
       "19 LV_top B7            P128  0.000137472   0.000064900    0.000081400    ...\n",
       "20 LV_top B8            P128  0.000077500   0.000130843    0.000081800    ...\n",
       "21 LV_top B9            P128  0.000146666   0.000000000    0.000292520    ...\n",
       "   X708.445_3.006 X709.936_2.18 X720.445_3.09 X737.391_2.399 X776.042_2.398\n",
       "16 0.000686223    0.000092000   0.000000000   0.000255339    0.000307205   \n",
       "17 0.001008079    0.000041600   0.000180561   0.000036200    0.000038900   \n",
       "18 0.000552891    0.000044100   0.000000000   0.000088700    0.000095200   \n",
       "19 0.000502270    0.000000000   0.000234553   0.000000000    0.000000000   \n",
       "20 0.000926023    0.000000000   0.000152366   0.000000000    0.000000000   \n",
       "21 0.001156281    0.000118265   0.000097200   0.000086700    0.000102903   \n",
       "   X776.095_2.398 X776.148_2.398 X776.359_2.398 X819.433_2.399 X867.281_2.399\n",
       "16 0.000428890    0.000696197    0.000766017    0.000626378    0.000307205   \n",
       "17 0.000056900    0.000084500    0.000075500    0.000166114    0.000048300   \n",
       "18 0.000216706    0.000338104    0.000471894    0.000485981    0.000190673   \n",
       "19 0.000000000    0.000000000    0.000000000    0.000000000    0.000000000   \n",
       "20 0.000000000    0.000023500    0.000035800    0.000000000    0.000000000   \n",
       "21 0.000189529    0.000303558    0.000361510    0.000309077    0.000141744   "
      ]
     },
     "metadata": {},
     "output_type": "display_data"
    },
    {
     "data": {
      "text/html": [
       "<ol class=list-inline>\n",
       "\t<li>30</li>\n",
       "\t<li>35</li>\n",
       "</ol>\n"
      ],
      "text/latex": [
       "\\begin{enumerate*}\n",
       "\\item 30\n",
       "\\item 35\n",
       "\\end{enumerate*}\n"
      ],
      "text/markdown": [
       "1. 30\n",
       "2. 35\n",
       "\n",
       "\n"
      ],
      "text/plain": [
       "[1] 30 35"
      ]
     },
     "metadata": {},
     "output_type": "display_data"
    },
    {
     "data": {
      "text/html": [
       "<ol class=list-inline>\n",
       "\t<li>30</li>\n",
       "\t<li>28</li>\n",
       "</ol>\n"
      ],
      "text/latex": [
       "\\begin{enumerate*}\n",
       "\\item 30\n",
       "\\item 28\n",
       "\\end{enumerate*}\n"
      ],
      "text/markdown": [
       "1. 30\n",
       "2. 28\n",
       "\n",
       "\n"
      ],
      "text/plain": [
       "[1] 30 28"
      ]
     },
     "metadata": {},
     "output_type": "display_data"
    },
    {
     "data": {
      "text/html": [
       "<ol class=list-inline>\n",
       "\t<li>30</li>\n",
       "\t<li>28</li>\n",
       "</ol>\n"
      ],
      "text/latex": [
       "\\begin{enumerate*}\n",
       "\\item 30\n",
       "\\item 28\n",
       "\\end{enumerate*}\n"
      ],
      "text/markdown": [
       "1. 30\n",
       "2. 28\n",
       "\n",
       "\n"
      ],
      "text/plain": [
       "[1] 30 28"
      ]
     },
     "metadata": {},
     "output_type": "display_data"
    },
    {
     "data": {
      "text/html": [
       "<ol class=list-inline>\n",
       "\t<li>30</li>\n",
       "\t<li>35</li>\n",
       "</ol>\n"
      ],
      "text/latex": [
       "\\begin{enumerate*}\n",
       "\\item 30\n",
       "\\item 35\n",
       "\\end{enumerate*}\n"
      ],
      "text/markdown": [
       "1. 30\n",
       "2. 35\n",
       "\n",
       "\n"
      ],
      "text/plain": [
       "[1] 30 35"
      ]
     },
     "metadata": {},
     "output_type": "display_data"
    }
   ],
   "source": [
    "noMeta<-features_pos[,8:35]\n",
    "head(noMeta)\n",
    "not_zero<-which(colSums(noMeta) != 0)\n",
    "head(not_zero)\n",
    "nonzero <- noMeta[, not_zero] # all the non-zero columns\n",
    "nonzero\n",
    "#add back metadata\n",
    "nonzero_wMeta<-cbind(features_pos[,1:7], nonzero)\n",
    "head(nonzero_wMeta)\n",
    "dim(features_pos)\n",
    "dim(noMeta)\n",
    "dim(nonzero)\n",
    "dim(nonzero_wMeta)"
   ]
  },
  {
   "cell_type": "code",
   "execution_count": 5,
   "metadata": {
    "scrolled": true
   },
   "outputs": [
    {
     "name": "stderr",
     "output_type": "stream",
     "text": [
      "Warning message in wilcox.test.default(x = c(7.66e-05, 0.000114338, 8.66e-05, 0.000137472, :\n",
      "\"cannot compute exact p-value with ties\"Warning message in wilcox.test.default(x = c(0, 0.000115359, 0, 6.49e-05, 0.000130843, :\n",
      "\"cannot compute exact p-value with ties\"Warning message in wilcox.test.default(x = c(0.000213447, 0, 0.000196786, 8.14e-05, :\n",
      "\"cannot compute exact p-value with ties\"Warning message in wilcox.test.default(x = c(2.15e-05, 5.28e-05, 0.00011515, 7.19e-05, :\n",
      "\"cannot compute exact p-value with ties\"Warning message in wilcox.test.default(x = c(0, 0.000555608, 0, 0.000670678, 0.000285546, :\n",
      "\"cannot compute exact p-value with ties\"Warning message in wilcox.test.default(x = c(0.000744074, 0, 0.000387376, 0, 0, :\n",
      "\"cannot compute exact p-value with ties\"Warning message in wilcox.test.default(x = c(0, 0.000223923, 0.000207706, 0.000241067, :\n",
      "\"cannot compute exact p-value with ties\"Warning message in wilcox.test.default(x = c(0.000702182, 0.000545627, 0.000383854, :\n",
      "\"cannot compute exact p-value with ties\"Warning message in wilcox.test.default(x = c(0, 0, 9.75e-05, 0, 1.95e-05, 0, 0, :\n",
      "\"cannot compute exact p-value with ties\"Warning message in wilcox.test.default(x = c(0.001248767, 0.001071292, 0.00077123, :\n",
      "\"cannot compute exact p-value with ties\"Warning message in wilcox.test.default(x = c(0.00029723, 0.000212164, 0.000739536, :\n",
      "\"cannot compute exact p-value with ties\"Warning message in wilcox.test.default(x = c(0.000241375, 3.52e-05, 5.33e-05, 0, :\n",
      "\"cannot compute exact p-value with ties\"Warning message in wilcox.test.default(x = c(1.95e-05, 3.41e-05, 4.11e-05, 0, 3.13e-05, :\n",
      "\"cannot compute exact p-value with ties\"Warning message in wilcox.test.default(x = c(2.18e-05, 5.65e-05, 0.00015011, 3.97e-05, :\n",
      "\"cannot compute exact p-value with ties\"Warning message in wilcox.test.default(x = c(0.000147547, 0.000429182, 0.000162319, :\n",
      "\"cannot compute exact p-value with ties\"Warning message in wilcox.test.default(x = c(9.2e-05, 4.16e-05, 4.41e-05, 0, 0, :\n",
      "\"cannot compute exact p-value with ties\"Warning message in wilcox.test.default(x = c(0, 0.000180561, 0, 0.000234553, 0.000152366, :\n",
      "\"cannot compute exact p-value with ties\"Warning message in wilcox.test.default(x = c(0.000255339, 3.62e-05, 8.87e-05, 0, :\n",
      "\"cannot compute exact p-value with ties\"Warning message in wilcox.test.default(x = c(0.000307205, 3.89e-05, 9.52e-05, 0, :\n",
      "\"cannot compute exact p-value with ties\"Warning message in wilcox.test.default(x = c(0.00042889, 5.69e-05, 0.000216706, :\n",
      "\"cannot compute exact p-value with ties\"Warning message in wilcox.test.default(x = c(0.000696197, 8.45e-05, 0.000338104, :\n",
      "\"cannot compute exact p-value with ties\"Warning message in wilcox.test.default(x = c(0.000766017, 7.55e-05, 0.000471894, :\n",
      "\"cannot compute exact p-value with ties\"Warning message in wilcox.test.default(x = c(0.000626378, 0.000166114, 0.000485981, :\n",
      "\"cannot compute exact p-value with ties\"Warning message in wilcox.test.default(x = c(0.000307205, 4.83e-05, 0.000190673, :\n",
      "\"cannot compute exact p-value with ties\""
     ]
    },
    {
     "data": {
      "text/html": [
       "<ol class=list-inline>\n",
       "\t<li>0.723380664047268</li>\n",
       "\t<li>0.682352110081621</li>\n",
       "\t<li>0.18962956221265</li>\n",
       "\t<li>0.0027523201060717</li>\n",
       "\t<li>0.389233298727313</li>\n",
       "\t<li>0.470356385492085</li>\n",
       "</ol>\n"
      ],
      "text/latex": [
       "\\begin{enumerate*}\n",
       "\\item 0.723380664047268\n",
       "\\item 0.682352110081621\n",
       "\\item 0.18962956221265\n",
       "\\item 0.0027523201060717\n",
       "\\item 0.389233298727313\n",
       "\\item 0.470356385492085\n",
       "\\end{enumerate*}\n"
      ],
      "text/markdown": [
       "1. 0.723380664047268\n",
       "2. 0.682352110081621\n",
       "3. 0.18962956221265\n",
       "4. 0.0027523201060717\n",
       "5. 0.389233298727313\n",
       "6. 0.470356385492085\n",
       "\n",
       "\n"
      ],
      "text/plain": [
       "[1] 0.72338066 0.68235211 0.18962956 0.00275232 0.38923330 0.47035639"
      ]
     },
     "metadata": {},
     "output_type": "display_data"
    },
    {
     "data": {
      "text/html": [
       "<ol class=list-inline>\n",
       "\t<li>0.750172540493463</li>\n",
       "\t<li>0.750172540493463</li>\n",
       "\t<li>0.294979318997456</li>\n",
       "\t<li>0.0256883209900025</li>\n",
       "\t<li>0.513981922063547</li>\n",
       "\t<li>0.572607773642538</li>\n",
       "</ol>\n"
      ],
      "text/latex": [
       "\\begin{enumerate*}\n",
       "\\item 0.750172540493463\n",
       "\\item 0.750172540493463\n",
       "\\item 0.294979318997456\n",
       "\\item 0.0256883209900025\n",
       "\\item 0.513981922063547\n",
       "\\item 0.572607773642538\n",
       "\\end{enumerate*}\n"
      ],
      "text/markdown": [
       "1. 0.750172540493463\n",
       "2. 0.750172540493463\n",
       "3. 0.294979318997456\n",
       "4. 0.0256883209900025\n",
       "5. 0.513981922063547\n",
       "6. 0.572607773642538\n",
       "\n",
       "\n"
      ],
      "text/plain": [
       "[1] 0.75017254 0.75017254 0.29497932 0.02568832 0.51398192 0.57260777"
      ]
     },
     "metadata": {},
     "output_type": "display_data"
    }
   ],
   "source": [
    "pval<-c()#create an empty vector with value pval\n",
    "\n",
    "# 8 to the end of each row\n",
    "for (i in 8:ncol(nonzero_wMeta)) \n",
    "pval<-c(pval,wilcox.test(nonzero_wMeta[,i]~nonzero_wMeta$Treatmentgroup)$p.value) #assign to pval the output of the Mann-Whitney-Wilcoxon test\n",
    "    #don't know why there is that first pval in c(pval...) but it doesn't work without it\n",
    "    #$p.value is because there are many output lines from wilcox.test; you want to keep only the one that's called $p.value because that's where the nbr is\n",
    "\n",
    "head(pval) #to check\n",
    "pAdj <- p.adjust(pval, method = c(\"fdr\"), n=length(pval)) \n",
    "head(pAdj) \n",
    "\n"
   ]
  },
  {
   "cell_type": "code",
   "execution_count": 6,
   "metadata": {
    "scrolled": true
   },
   "outputs": [
    {
     "data": {
      "text/html": [
       "28"
      ],
      "text/latex": [
       "28"
      ],
      "text/markdown": [
       "28"
      ],
      "text/plain": [
       "[1] 28"
      ]
     },
     "metadata": {},
     "output_type": "display_data"
    }
   ],
   "source": [
    "length(pval)"
   ]
  },
  {
   "cell_type": "code",
   "execution_count": 7,
   "metadata": {
    "scrolled": true
   },
   "outputs": [
    {
     "data": {
      "text/html": [
       "28"
      ],
      "text/latex": [
       "28"
      ],
      "text/markdown": [
       "28"
      ],
      "text/plain": [
       "[1] 28"
      ]
     },
     "metadata": {},
     "output_type": "display_data"
    }
   ],
   "source": [
    "length(pAdj)"
   ]
  },
  {
   "cell_type": "code",
   "execution_count": 8,
   "metadata": {},
   "outputs": [
    {
     "data": {
      "text/html": [
       "<ol class=list-inline>\n",
       "\t<li>2</li>\n",
       "\t<li>28</li>\n",
       "</ol>\n"
      ],
      "text/latex": [
       "\\begin{enumerate*}\n",
       "\\item 2\n",
       "\\item 28\n",
       "\\end{enumerate*}\n"
      ],
      "text/markdown": [
       "1. 2\n",
       "2. 28\n",
       "\n",
       "\n"
      ],
      "text/plain": [
       "[1]  2 28"
      ]
     },
     "metadata": {},
     "output_type": "display_data"
    },
    {
     "data": {
      "text/html": [
       "<table>\n",
       "<thead><tr><th></th><th scope=col>X141.091_1.54</th><th scope=col>X203.007_0.309</th><th scope=col>X240.116_2.324</th></tr></thead>\n",
       "<tbody>\n",
       "\t<tr><th scope=row>Group3E</th><td>0.0001440242</td><td>3.144280e-05</td><td>6.741387e-05</td></tr>\n",
       "\t<tr><th scope=row>Group9</th><td>0.0001423913</td><td>3.647447e-05</td><td>1.006609e-04</td></tr>\n",
       "</tbody>\n",
       "</table>\n"
      ],
      "text/latex": [
       "\\begin{tabular}{r|lll}\n",
       "  & X141.091\\_1.54 & X203.007\\_0.309 & X240.116\\_2.324\\\\\n",
       "\\hline\n",
       "\tGroup3E & 0.0001440242 & 3.144280e-05 & 6.741387e-05\\\\\n",
       "\tGroup9 & 0.0001423913 & 3.647447e-05 & 1.006609e-04\\\\\n",
       "\\end{tabular}\n"
      ],
      "text/markdown": [
       "\n",
       "| <!--/--> | X141.091_1.54 | X203.007_0.309 | X240.116_2.324 |\n",
       "|---|---|---|---|\n",
       "| Group3E | 0.0001440242 | 3.144280e-05 | 6.741387e-05 |\n",
       "| Group9 | 0.0001423913 | 3.647447e-05 | 1.006609e-04 |\n",
       "\n"
      ],
      "text/plain": [
       "        X141.091_1.54 X203.007_0.309 X240.116_2.324\n",
       "Group3E 0.0001440242  3.144280e-05   6.741387e-05  \n",
       "Group9  0.0001423913  3.647447e-05   1.006609e-04  "
      ]
     },
     "metadata": {},
     "output_type": "display_data"
    },
    {
     "data": {
      "text/html": [
       "<dl class=dl-horizontal>\n",
       "\t<dt>X141.091_1.54</dt>\n",
       "\t\t<dd>1.01146793178795</dd>\n",
       "\t<dt>X203.007_0.309</dt>\n",
       "\t\t<dd>0.862049616444015</dd>\n",
       "\t<dt>X240.116_2.324</dt>\n",
       "\t\t<dd>0.669712314741104</dd>\n",
       "\t<dt>X249.112_2.768</dt>\n",
       "\t\t<dd>3.10776840050641</dd>\n",
       "\t<dt>X272.222_2.957</dt>\n",
       "\t\t<dd>0.672808706101914</dd>\n",
       "\t<dt>X293.211_2.931</dt>\n",
       "\t\t<dd>0.826262551622259</dd>\n",
       "</dl>\n"
      ],
      "text/latex": [
       "\\begin{description*}\n",
       "\\item[X141.091\\textbackslash{}\\_1.54] 1.01146793178795\n",
       "\\item[X203.007\\textbackslash{}\\_0.309] 0.862049616444015\n",
       "\\item[X240.116\\textbackslash{}\\_2.324] 0.669712314741104\n",
       "\\item[X249.112\\textbackslash{}\\_2.768] 3.10776840050641\n",
       "\\item[X272.222\\textbackslash{}\\_2.957] 0.672808706101914\n",
       "\\item[X293.211\\textbackslash{}\\_2.931] 0.826262551622259\n",
       "\\end{description*}\n"
      ],
      "text/markdown": [
       "X141.091_1.54\n",
       ":   1.01146793178795X203.007_0.309\n",
       ":   0.862049616444015X240.116_2.324\n",
       ":   0.669712314741104X249.112_2.768\n",
       ":   3.10776840050641X272.222_2.957\n",
       ":   0.672808706101914X293.211_2.931\n",
       ":   0.826262551622259\n",
       "\n"
      ],
      "text/plain": [
       " X141.091_1.54 X203.007_0.309 X240.116_2.324 X249.112_2.768 X272.222_2.957 \n",
       "     1.0114679      0.8620496      0.6697123      3.1077684      0.6728087 \n",
       "X293.211_2.931 \n",
       "     0.8262626 "
      ]
     },
     "metadata": {},
     "output_type": "display_data"
    },
    {
     "data": {
      "text/html": [
       "<ol class=list-inline>\n",
       "\t<li>'numeric'</li>\n",
       "\t<li>'vector'</li>\n",
       "</ol>\n"
      ],
      "text/latex": [
       "\\begin{enumerate*}\n",
       "\\item 'numeric'\n",
       "\\item 'vector'\n",
       "\\end{enumerate*}\n"
      ],
      "text/markdown": [
       "1. 'numeric'\n",
       "2. 'vector'\n",
       "\n",
       "\n"
      ],
      "text/plain": [
       "[1] \"numeric\" \"vector\" "
      ]
     },
     "metadata": {},
     "output_type": "display_data"
    }
   ],
   "source": [
    "# change the column name, you want to see infected and naive so it should be State\n",
    "avg<- apply(nonzero_wMeta[,8:ncol(nonzero_wMeta)], 2, function(x) tapply(x, nonzero_wMeta$Treatmentgroup, function(x) mean(x))) \n",
    "\n",
    "dim(avg) #to check\n",
    "\n",
    "avg[,1:3]#to check\n",
    "\n",
    "fch <- apply(avg, 2, function(x) x[1]/x[2]) #calculate fold change\n",
    "\n",
    "head(fch) #to check it's ok\n",
    "is(fch)"
   ]
  },
  {
   "cell_type": "code",
   "execution_count": 9,
   "metadata": {
    "scrolled": true
   },
   "outputs": [
    {
     "data": {
      "text/html": [
       "<dl class=dl-horizontal>\n",
       "\t<dt>X141.091_1.54</dt>\n",
       "\t\t<dd>1.01146793178795</dd>\n",
       "\t<dt>X203.007_0.309</dt>\n",
       "\t\t<dd>0.862049616444015</dd>\n",
       "\t<dt>X240.116_2.324</dt>\n",
       "\t\t<dd>0.669712314741104</dd>\n",
       "\t<dt>X249.112_2.768</dt>\n",
       "\t\t<dd>3.10776840050641</dd>\n",
       "\t<dt>X272.222_2.957</dt>\n",
       "\t\t<dd>0.672808706101914</dd>\n",
       "\t<dt>X293.211_2.931</dt>\n",
       "\t\t<dd>0.826262551622259</dd>\n",
       "\t<dt>X293.211_2.934</dt>\n",
       "\t\t<dd>1.58041588915524</dd>\n",
       "\t<dt>X296.258_2.976</dt>\n",
       "\t\t<dd>0.756343040306018</dd>\n",
       "\t<dt>X311.221_2.932</dt>\n",
       "\t\t<dd>1.13926466897253</dd>\n",
       "\t<dt>X345.243_3.095</dt>\n",
       "\t\t<dd>0.24349294164317</dd>\n",
       "\t<dt>X366.373_3.699</dt>\n",
       "\t\t<dd>1.16948849274893</dd>\n",
       "\t<dt>X440.337_2.772</dt>\n",
       "\t\t<dd>1.35577718312019</dd>\n",
       "\t<dt>X442.353_2.827</dt>\n",
       "\t\t<dd>1.78059089130516</dd>\n",
       "\t<dt>X546.029_2.319</dt>\n",
       "\t\t<dd>0.66374371157071</dd>\n",
       "\t<dt>X607.227_2.771</dt>\n",
       "\t\t<dd>2.48487421291978</dd>\n",
       "\t<dt>X608.227_2.768</dt>\n",
       "\t\t<dd>3.09908771415043</dd>\n",
       "\t<dt>X690.434_3.14</dt>\n",
       "\t\t<dd>2.21166659982657</dd>\n",
       "\t<dt>X692.414_2.985</dt>\n",
       "\t\t<dd>2.23784878007293</dd>\n",
       "\t<dt>X708.445_3.006</dt>\n",
       "\t\t<dd>1.50055333293374</dd>\n",
       "\t<dt>X709.936_2.18</dt>\n",
       "\t\t<dd>0.911165501992362</dd>\n",
       "\t<dt>X720.445_3.09</dt>\n",
       "\t\t<dd>6.19308951235805</dd>\n",
       "\t<dt>X737.391_2.399</dt>\n",
       "\t\t<dd>0.540421215632254</dd>\n",
       "\t<dt>X776.042_2.398</dt>\n",
       "\t\t<dd>0.511426874878311</dd>\n",
       "\t<dt>X776.095_2.398</dt>\n",
       "\t\t<dd>0.491432657506174</dd>\n",
       "\t<dt>X776.148_2.398</dt>\n",
       "\t\t<dd>0.503863025984049</dd>\n",
       "\t<dt>X776.359_2.398</dt>\n",
       "\t\t<dd>0.490780352827953</dd>\n",
       "\t<dt>X819.433_2.399</dt>\n",
       "\t\t<dd>0.564083643514998</dd>\n",
       "\t<dt>X867.281_2.399</dt>\n",
       "\t\t<dd>0.416185820123914</dd>\n",
       "</dl>\n"
      ],
      "text/latex": [
       "\\begin{description*}\n",
       "\\item[X141.091\\textbackslash{}\\_1.54] 1.01146793178795\n",
       "\\item[X203.007\\textbackslash{}\\_0.309] 0.862049616444015\n",
       "\\item[X240.116\\textbackslash{}\\_2.324] 0.669712314741104\n",
       "\\item[X249.112\\textbackslash{}\\_2.768] 3.10776840050641\n",
       "\\item[X272.222\\textbackslash{}\\_2.957] 0.672808706101914\n",
       "\\item[X293.211\\textbackslash{}\\_2.931] 0.826262551622259\n",
       "\\item[X293.211\\textbackslash{}\\_2.934] 1.58041588915524\n",
       "\\item[X296.258\\textbackslash{}\\_2.976] 0.756343040306018\n",
       "\\item[X311.221\\textbackslash{}\\_2.932] 1.13926466897253\n",
       "\\item[X345.243\\textbackslash{}\\_3.095] 0.24349294164317\n",
       "\\item[X366.373\\textbackslash{}\\_3.699] 1.16948849274893\n",
       "\\item[X440.337\\textbackslash{}\\_2.772] 1.35577718312019\n",
       "\\item[X442.353\\textbackslash{}\\_2.827] 1.78059089130516\n",
       "\\item[X546.029\\textbackslash{}\\_2.319] 0.66374371157071\n",
       "\\item[X607.227\\textbackslash{}\\_2.771] 2.48487421291978\n",
       "\\item[X608.227\\textbackslash{}\\_2.768] 3.09908771415043\n",
       "\\item[X690.434\\textbackslash{}\\_3.14] 2.21166659982657\n",
       "\\item[X692.414\\textbackslash{}\\_2.985] 2.23784878007293\n",
       "\\item[X708.445\\textbackslash{}\\_3.006] 1.50055333293374\n",
       "\\item[X709.936\\textbackslash{}\\_2.18] 0.911165501992362\n",
       "\\item[X720.445\\textbackslash{}\\_3.09] 6.19308951235805\n",
       "\\item[X737.391\\textbackslash{}\\_2.399] 0.540421215632254\n",
       "\\item[X776.042\\textbackslash{}\\_2.398] 0.511426874878311\n",
       "\\item[X776.095\\textbackslash{}\\_2.398] 0.491432657506174\n",
       "\\item[X776.148\\textbackslash{}\\_2.398] 0.503863025984049\n",
       "\\item[X776.359\\textbackslash{}\\_2.398] 0.490780352827953\n",
       "\\item[X819.433\\textbackslash{}\\_2.399] 0.564083643514998\n",
       "\\item[X867.281\\textbackslash{}\\_2.399] 0.416185820123914\n",
       "\\end{description*}\n"
      ],
      "text/markdown": [
       "X141.091_1.54\n",
       ":   1.01146793178795X203.007_0.309\n",
       ":   0.862049616444015X240.116_2.324\n",
       ":   0.669712314741104X249.112_2.768\n",
       ":   3.10776840050641X272.222_2.957\n",
       ":   0.672808706101914X293.211_2.931\n",
       ":   0.826262551622259X293.211_2.934\n",
       ":   1.58041588915524X296.258_2.976\n",
       ":   0.756343040306018X311.221_2.932\n",
       ":   1.13926466897253X345.243_3.095\n",
       ":   0.24349294164317X366.373_3.699\n",
       ":   1.16948849274893X440.337_2.772\n",
       ":   1.35577718312019X442.353_2.827\n",
       ":   1.78059089130516X546.029_2.319\n",
       ":   0.66374371157071X607.227_2.771\n",
       ":   2.48487421291978X608.227_2.768\n",
       ":   3.09908771415043X690.434_3.14\n",
       ":   2.21166659982657X692.414_2.985\n",
       ":   2.23784878007293X708.445_3.006\n",
       ":   1.50055333293374X709.936_2.18\n",
       ":   0.911165501992362X720.445_3.09\n",
       ":   6.19308951235805X737.391_2.399\n",
       ":   0.540421215632254X776.042_2.398\n",
       ":   0.511426874878311X776.095_2.398\n",
       ":   0.491432657506174X776.148_2.398\n",
       ":   0.503863025984049X776.359_2.398\n",
       ":   0.490780352827953X819.433_2.399\n",
       ":   0.564083643514998X867.281_2.399\n",
       ":   0.416185820123914\n",
       "\n"
      ],
      "text/plain": [
       " X141.091_1.54 X203.007_0.309 X240.116_2.324 X249.112_2.768 X272.222_2.957 \n",
       "     1.0114679      0.8620496      0.6697123      3.1077684      0.6728087 \n",
       "X293.211_2.931 X293.211_2.934 X296.258_2.976 X311.221_2.932 X345.243_3.095 \n",
       "     0.8262626      1.5804159      0.7563430      1.1392647      0.2434929 \n",
       "X366.373_3.699 X440.337_2.772 X442.353_2.827 X546.029_2.319 X607.227_2.771 \n",
       "     1.1694885      1.3557772      1.7805909      0.6637437      2.4848742 \n",
       "X608.227_2.768  X690.434_3.14 X692.414_2.985 X708.445_3.006  X709.936_2.18 \n",
       "     3.0990877      2.2116666      2.2378488      1.5005533      0.9111655 \n",
       " X720.445_3.09 X737.391_2.399 X776.042_2.398 X776.095_2.398 X776.148_2.398 \n",
       "     6.1930895      0.5404212      0.5114269      0.4914327      0.5038630 \n",
       "X776.359_2.398 X819.433_2.399 X867.281_2.399 \n",
       "     0.4907804      0.5640836      0.4161858 "
      ]
     },
     "metadata": {},
     "output_type": "display_data"
    }
   ],
   "source": [
    "fch"
   ]
  },
  {
   "cell_type": "code",
   "execution_count": 10,
   "metadata": {
    "scrolled": false
   },
   "outputs": [],
   "source": [
    "#Convoluted way to get the names; likely could find a simpler way\n",
    "\n",
    "#make dataframe from pval and fch\n",
    "df <- data.frame(fch,pval, pAdj)\n",
    "write.csv(df, \"LVT-wilcox-3E-9.csv\")"
   ]
  },
  {
   "cell_type": "code",
   "execution_count": null,
   "metadata": {},
   "outputs": [],
   "source": []
  },
  {
   "cell_type": "code",
   "execution_count": null,
   "metadata": {},
   "outputs": [],
   "source": []
  },
  {
   "cell_type": "code",
   "execution_count": null,
   "metadata": {},
   "outputs": [],
   "source": []
  }
 ],
 "metadata": {
  "kernelspec": {
   "display_name": "R",
   "language": "R",
   "name": "ir"
  },
  "language_info": {
   "codemirror_mode": "r",
   "file_extension": ".r",
   "mimetype": "text/x-r-source",
   "name": "R",
   "pygments_lexer": "r",
   "version": "3.6.1"
  }
 },
 "nbformat": 4,
 "nbformat_minor": 2
}
