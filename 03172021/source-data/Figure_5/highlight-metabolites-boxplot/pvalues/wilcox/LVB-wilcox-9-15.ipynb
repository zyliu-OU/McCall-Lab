{
 "cells": [
  {
   "cell_type": "code",
   "execution_count": null,
   "metadata": {},
   "outputs": [],
   "source": [
    "# after I have filtered feature table, I do wilcox p value for filtered mass list. So that the p value will be more accurate"
   ]
  },
  {
   "cell_type": "code",
   "execution_count": 1,
   "metadata": {},
   "outputs": [],
   "source": [
    "a <- read.csv(\"03172021-9-15-3E-1C-LVB-M-F-filtered-fix.csv\")"
   ]
  },
  {
   "cell_type": "code",
   "execution_count": 2,
   "metadata": {},
   "outputs": [
    {
     "data": {
      "text/html": [
       "<table>\n",
       "<thead><tr><th scope=col>filename</th><th scope=col>MouseID</th><th scope=col>Treatmentgroup</th><th scope=col>DPI</th><th scope=col>organ</th><th scope=col>well_position</th><th scope=col>plate</th><th scope=col>X105.07_2.767</th><th scope=col>X119.049_2.765</th><th scope=col>X128.018_0.344</th><th scope=col>...</th><th scope=col>X599.241_2.765</th><th scope=col>X604.362_2.948</th><th scope=col>X620.356_2.913</th><th scope=col>X682.363_3.329</th><th scope=col>X682.364_3.313</th><th scope=col>X764.524_3.729</th><th scope=col>X790.38_2.768</th><th scope=col>X792.329_2.764</th><th scope=col>X795.335_2.768</th><th scope=col>X811.309_2.773</th></tr></thead>\n",
       "<tbody>\n",
       "\t<tr><td>X511_Group1C_142dpi_LV_bottom_161_G_A1_P132.mzXML</td><td>511                                              </td><td>Group1C                                          </td><td>142dpi                                           </td><td>LV_bottom                                        </td><td>A1                                               </td><td>P132                                             </td><td>0.001681762                                      </td><td>0.000000000                                      </td><td>0                                                </td><td>...                                              </td><td>0.000000000                                      </td><td>0.001281931                                      </td><td>0.000659514                                      </td><td>0.000320160                                      </td><td>0                                                </td><td>0                                                </td><td>0.000370969                                      </td><td>0.00e+00                                         </td><td>0.000245626                                      </td><td>0.000038000                                      </td></tr>\n",
       "\t<tr><td>X512_Group1C_142dpi_LV_bottom_162_G_A2_P132.mzXML</td><td>512                                              </td><td>Group1C                                          </td><td>142dpi                                           </td><td>LV_bottom                                        </td><td>A2                                               </td><td>P132                                             </td><td>0.001668227                                      </td><td>0.000020400                                      </td><td>0                                                </td><td>...                                              </td><td>0.000050000                                      </td><td>0.000671298                                      </td><td>0.000483435                                      </td><td>0.000179208                                      </td><td>0                                                </td><td>0                                                </td><td>0.000586134                                      </td><td>0.00e+00                                         </td><td>0.000211682                                      </td><td>0.000020900                                      </td></tr>\n",
       "\t<tr><td>X513_Group1C_142dpi_LV_bottom_163_G_A3_P132.mzXML</td><td>513                                              </td><td>Group1C                                          </td><td>142dpi                                           </td><td>LV_bottom                                        </td><td>A3                                               </td><td>P132                                             </td><td>0.002195508                                      </td><td>0.000000000                                      </td><td>0                                                </td><td>...                                              </td><td>0.000082900                                      </td><td>0.000706708                                      </td><td>0.000317234                                      </td><td>0.000099800                                      </td><td>0                                                </td><td>0                                                </td><td>0.001133874                                      </td><td>0.00e+00                                         </td><td>0.000741259                                      </td><td>0.000095300                                      </td></tr>\n",
       "\t<tr><td>X514_Group1C_142dpi_LV_bottom_164_G_A4_P132.mzXML</td><td>514                                              </td><td>Group1C                                          </td><td>142dpi                                           </td><td>LV_bottom                                        </td><td>A4                                               </td><td>P132                                             </td><td>0.003006615                                      </td><td>0.000063800                                      </td><td>0                                                </td><td>...                                              </td><td>0.000099100                                      </td><td>0.000930076                                      </td><td>0.000245202                                      </td><td>0.000234970                                      </td><td>0                                                </td><td>0                                                </td><td>0.001150258                                      </td><td>0.00e+00                                         </td><td>0.000713691                                      </td><td>0.000174109                                      </td></tr>\n",
       "\t<tr><td>X515_Group1C_142dpi_LV_bottom_165_G_A5_P132.mzXML</td><td>515                                              </td><td>Group1C                                          </td><td>142dpi                                           </td><td>LV_bottom                                        </td><td>A5                                               </td><td>P132                                             </td><td>0.002858430                                      </td><td>0.000000000                                      </td><td>0                                                </td><td>...                                              </td><td>0.000178807                                      </td><td>0.000744165                                      </td><td>0.000302164                                      </td><td>0.000251297                                      </td><td>0                                                </td><td>0                                                </td><td>0.001161454                                      </td><td>4.09e-05                                         </td><td>0.000765030                                      </td><td>0.000136971                                      </td></tr>\n",
       "\t<tr><td>X531_Group1C_142dpi_LV_bottom_166_G_A6_P132.mzXML</td><td>531                                              </td><td>Group1C                                          </td><td>142dpi                                           </td><td>LV_bottom                                        </td><td>A6                                               </td><td>P132                                             </td><td>0.003596194                                      </td><td>0.000107639                                      </td><td>0                                                </td><td>...                                              </td><td>0.000280413                                      </td><td>0.000626765                                      </td><td>0.000345920                                      </td><td>0.000112422                                      </td><td>0                                                </td><td>0                                                </td><td>0.001883720                                      </td><td>8.53e-05                                         </td><td>0.001150782                                      </td><td>0.000161828                                      </td></tr>\n",
       "</tbody>\n",
       "</table>\n"
      ],
      "text/latex": [
       "\\begin{tabular}{r|llllllllllllllllllllllllllllllllllllllllllllllllllllllllllllll}\n",
       " filename & MouseID & Treatmentgroup & DPI & organ & well\\_position & plate & X105.07\\_2.767 & X119.049\\_2.765 & X128.018\\_0.344 & ... & X599.241\\_2.765 & X604.362\\_2.948 & X620.356\\_2.913 & X682.363\\_3.329 & X682.364\\_3.313 & X764.524\\_3.729 & X790.38\\_2.768 & X792.329\\_2.764 & X795.335\\_2.768 & X811.309\\_2.773\\\\\n",
       "\\hline\n",
       "\t X511\\_Group1C\\_142dpi\\_LV\\_bottom\\_161\\_G\\_A1\\_P132.mzXML & 511                                                               & Group1C                                                           & 142dpi                                                            & LV\\_bottom                                                       & A1                                                                & P132                                                              & 0.001681762                                                       & 0.000000000                                                       & 0                                                                 & ...                                                               & 0.000000000                                                       & 0.001281931                                                       & 0.000659514                                                       & 0.000320160                                                       & 0                                                                 & 0                                                                 & 0.000370969                                                       & 0.00e+00                                                          & 0.000245626                                                       & 0.000038000                                                      \\\\\n",
       "\t X512\\_Group1C\\_142dpi\\_LV\\_bottom\\_162\\_G\\_A2\\_P132.mzXML & 512                                                               & Group1C                                                           & 142dpi                                                            & LV\\_bottom                                                       & A2                                                                & P132                                                              & 0.001668227                                                       & 0.000020400                                                       & 0                                                                 & ...                                                               & 0.000050000                                                       & 0.000671298                                                       & 0.000483435                                                       & 0.000179208                                                       & 0                                                                 & 0                                                                 & 0.000586134                                                       & 0.00e+00                                                          & 0.000211682                                                       & 0.000020900                                                      \\\\\n",
       "\t X513\\_Group1C\\_142dpi\\_LV\\_bottom\\_163\\_G\\_A3\\_P132.mzXML & 513                                                               & Group1C                                                           & 142dpi                                                            & LV\\_bottom                                                       & A3                                                                & P132                                                              & 0.002195508                                                       & 0.000000000                                                       & 0                                                                 & ...                                                               & 0.000082900                                                       & 0.000706708                                                       & 0.000317234                                                       & 0.000099800                                                       & 0                                                                 & 0                                                                 & 0.001133874                                                       & 0.00e+00                                                          & 0.000741259                                                       & 0.000095300                                                      \\\\\n",
       "\t X514\\_Group1C\\_142dpi\\_LV\\_bottom\\_164\\_G\\_A4\\_P132.mzXML & 514                                                               & Group1C                                                           & 142dpi                                                            & LV\\_bottom                                                       & A4                                                                & P132                                                              & 0.003006615                                                       & 0.000063800                                                       & 0                                                                 & ...                                                               & 0.000099100                                                       & 0.000930076                                                       & 0.000245202                                                       & 0.000234970                                                       & 0                                                                 & 0                                                                 & 0.001150258                                                       & 0.00e+00                                                          & 0.000713691                                                       & 0.000174109                                                      \\\\\n",
       "\t X515\\_Group1C\\_142dpi\\_LV\\_bottom\\_165\\_G\\_A5\\_P132.mzXML & 515                                                               & Group1C                                                           & 142dpi                                                            & LV\\_bottom                                                       & A5                                                                & P132                                                              & 0.002858430                                                       & 0.000000000                                                       & 0                                                                 & ...                                                               & 0.000178807                                                       & 0.000744165                                                       & 0.000302164                                                       & 0.000251297                                                       & 0                                                                 & 0                                                                 & 0.001161454                                                       & 4.09e-05                                                          & 0.000765030                                                       & 0.000136971                                                      \\\\\n",
       "\t X531\\_Group1C\\_142dpi\\_LV\\_bottom\\_166\\_G\\_A6\\_P132.mzXML & 531                                                               & Group1C                                                           & 142dpi                                                            & LV\\_bottom                                                       & A6                                                                & P132                                                              & 0.003596194                                                       & 0.000107639                                                       & 0                                                                 & ...                                                               & 0.000280413                                                       & 0.000626765                                                       & 0.000345920                                                       & 0.000112422                                                       & 0                                                                 & 0                                                                 & 0.001883720                                                       & 8.53e-05                                                          & 0.001150782                                                       & 0.000161828                                                      \\\\\n",
       "\\end{tabular}\n"
      ],
      "text/markdown": [
       "\n",
       "| filename | MouseID | Treatmentgroup | DPI | organ | well_position | plate | X105.07_2.767 | X119.049_2.765 | X128.018_0.344 | ... | X599.241_2.765 | X604.362_2.948 | X620.356_2.913 | X682.363_3.329 | X682.364_3.313 | X764.524_3.729 | X790.38_2.768 | X792.329_2.764 | X795.335_2.768 | X811.309_2.773 |\n",
       "|---|---|---|---|---|---|---|---|---|---|---|---|---|---|---|---|---|---|---|---|---|\n",
       "| X511_Group1C_142dpi_LV_bottom_161_G_A1_P132.mzXML | 511                                               | Group1C                                           | 142dpi                                            | LV_bottom                                         | A1                                                | P132                                              | 0.001681762                                       | 0.000000000                                       | 0                                                 | ...                                               | 0.000000000                                       | 0.001281931                                       | 0.000659514                                       | 0.000320160                                       | 0                                                 | 0                                                 | 0.000370969                                       | 0.00e+00                                          | 0.000245626                                       | 0.000038000                                       |\n",
       "| X512_Group1C_142dpi_LV_bottom_162_G_A2_P132.mzXML | 512                                               | Group1C                                           | 142dpi                                            | LV_bottom                                         | A2                                                | P132                                              | 0.001668227                                       | 0.000020400                                       | 0                                                 | ...                                               | 0.000050000                                       | 0.000671298                                       | 0.000483435                                       | 0.000179208                                       | 0                                                 | 0                                                 | 0.000586134                                       | 0.00e+00                                          | 0.000211682                                       | 0.000020900                                       |\n",
       "| X513_Group1C_142dpi_LV_bottom_163_G_A3_P132.mzXML | 513                                               | Group1C                                           | 142dpi                                            | LV_bottom                                         | A3                                                | P132                                              | 0.002195508                                       | 0.000000000                                       | 0                                                 | ...                                               | 0.000082900                                       | 0.000706708                                       | 0.000317234                                       | 0.000099800                                       | 0                                                 | 0                                                 | 0.001133874                                       | 0.00e+00                                          | 0.000741259                                       | 0.000095300                                       |\n",
       "| X514_Group1C_142dpi_LV_bottom_164_G_A4_P132.mzXML | 514                                               | Group1C                                           | 142dpi                                            | LV_bottom                                         | A4                                                | P132                                              | 0.003006615                                       | 0.000063800                                       | 0                                                 | ...                                               | 0.000099100                                       | 0.000930076                                       | 0.000245202                                       | 0.000234970                                       | 0                                                 | 0                                                 | 0.001150258                                       | 0.00e+00                                          | 0.000713691                                       | 0.000174109                                       |\n",
       "| X515_Group1C_142dpi_LV_bottom_165_G_A5_P132.mzXML | 515                                               | Group1C                                           | 142dpi                                            | LV_bottom                                         | A5                                                | P132                                              | 0.002858430                                       | 0.000000000                                       | 0                                                 | ...                                               | 0.000178807                                       | 0.000744165                                       | 0.000302164                                       | 0.000251297                                       | 0                                                 | 0                                                 | 0.001161454                                       | 4.09e-05                                          | 0.000765030                                       | 0.000136971                                       |\n",
       "| X531_Group1C_142dpi_LV_bottom_166_G_A6_P132.mzXML | 531                                               | Group1C                                           | 142dpi                                            | LV_bottom                                         | A6                                                | P132                                              | 0.003596194                                       | 0.000107639                                       | 0                                                 | ...                                               | 0.000280413                                       | 0.000626765                                       | 0.000345920                                       | 0.000112422                                       | 0                                                 | 0                                                 | 0.001883720                                       | 8.53e-05                                          | 0.001150782                                       | 0.000161828                                       |\n",
       "\n"
      ],
      "text/plain": [
       "  filename                                          MouseID Treatmentgroup\n",
       "1 X511_Group1C_142dpi_LV_bottom_161_G_A1_P132.mzXML 511     Group1C       \n",
       "2 X512_Group1C_142dpi_LV_bottom_162_G_A2_P132.mzXML 512     Group1C       \n",
       "3 X513_Group1C_142dpi_LV_bottom_163_G_A3_P132.mzXML 513     Group1C       \n",
       "4 X514_Group1C_142dpi_LV_bottom_164_G_A4_P132.mzXML 514     Group1C       \n",
       "5 X515_Group1C_142dpi_LV_bottom_165_G_A5_P132.mzXML 515     Group1C       \n",
       "6 X531_Group1C_142dpi_LV_bottom_166_G_A6_P132.mzXML 531     Group1C       \n",
       "  DPI    organ     well_position plate X105.07_2.767 X119.049_2.765\n",
       "1 142dpi LV_bottom A1            P132  0.001681762   0.000000000   \n",
       "2 142dpi LV_bottom A2            P132  0.001668227   0.000020400   \n",
       "3 142dpi LV_bottom A3            P132  0.002195508   0.000000000   \n",
       "4 142dpi LV_bottom A4            P132  0.003006615   0.000063800   \n",
       "5 142dpi LV_bottom A5            P132  0.002858430   0.000000000   \n",
       "6 142dpi LV_bottom A6            P132  0.003596194   0.000107639   \n",
       "  X128.018_0.344 ... X599.241_2.765 X604.362_2.948 X620.356_2.913\n",
       "1 0              ... 0.000000000    0.001281931    0.000659514   \n",
       "2 0              ... 0.000050000    0.000671298    0.000483435   \n",
       "3 0              ... 0.000082900    0.000706708    0.000317234   \n",
       "4 0              ... 0.000099100    0.000930076    0.000245202   \n",
       "5 0              ... 0.000178807    0.000744165    0.000302164   \n",
       "6 0              ... 0.000280413    0.000626765    0.000345920   \n",
       "  X682.363_3.329 X682.364_3.313 X764.524_3.729 X790.38_2.768 X792.329_2.764\n",
       "1 0.000320160    0              0              0.000370969   0.00e+00      \n",
       "2 0.000179208    0              0              0.000586134   0.00e+00      \n",
       "3 0.000099800    0              0              0.001133874   0.00e+00      \n",
       "4 0.000234970    0              0              0.001150258   0.00e+00      \n",
       "5 0.000251297    0              0              0.001161454   4.09e-05      \n",
       "6 0.000112422    0              0              0.001883720   8.53e-05      \n",
       "  X795.335_2.768 X811.309_2.773\n",
       "1 0.000245626    0.000038000   \n",
       "2 0.000211682    0.000020900   \n",
       "3 0.000741259    0.000095300   \n",
       "4 0.000713691    0.000174109   \n",
       "5 0.000765030    0.000136971   \n",
       "6 0.001150782    0.000161828   "
      ]
     },
     "metadata": {},
     "output_type": "display_data"
    },
    {
     "data": {
      "text/html": [
       "<ol class=list-inline>\n",
       "\t<li>60</li>\n",
       "\t<li>62</li>\n",
       "</ol>\n"
      ],
      "text/latex": [
       "\\begin{enumerate*}\n",
       "\\item 60\n",
       "\\item 62\n",
       "\\end{enumerate*}\n"
      ],
      "text/markdown": [
       "1. 60\n",
       "2. 62\n",
       "\n",
       "\n"
      ],
      "text/plain": [
       "[1] 60 62"
      ]
     },
     "metadata": {},
     "output_type": "display_data"
    }
   ],
   "source": [
    "head(a)\n",
    "dim(a)"
   ]
  },
  {
   "cell_type": "code",
   "execution_count": 3,
   "metadata": {},
   "outputs": [
    {
     "data": {
      "text/html": [
       "<table>\n",
       "<thead><tr><th></th><th scope=col>filename</th><th scope=col>MouseID</th><th scope=col>Treatmentgroup</th><th scope=col>DPI</th><th scope=col>organ</th><th scope=col>well_position</th><th scope=col>plate</th><th scope=col>X105.07_2.767</th><th scope=col>X119.049_2.765</th><th scope=col>X128.018_0.344</th><th scope=col>...</th><th scope=col>X599.241_2.765</th><th scope=col>X604.362_2.948</th><th scope=col>X620.356_2.913</th><th scope=col>X682.363_3.329</th><th scope=col>X682.364_3.313</th><th scope=col>X764.524_3.729</th><th scope=col>X790.38_2.768</th><th scope=col>X792.329_2.764</th><th scope=col>X795.335_2.768</th><th scope=col>X811.309_2.773</th></tr></thead>\n",
       "<tbody>\n",
       "\t<tr><th scope=row>21</th><td>X611_Group9_142dpi_LV_bottom_181_G_B9_P132.mzXML </td><td>611                                              </td><td>Group9                                           </td><td>142dpi                                           </td><td>LV_bottom                                        </td><td>B9                                               </td><td>P132                                             </td><td>0.003922505                                      </td><td>0.000144515                                      </td><td>0.000000000                                      </td><td>...                                              </td><td>0.000314399                                      </td><td>0.000619816                                      </td><td>0.000298514                                      </td><td>0                                                </td><td>0.000245309                                      </td><td>0.000329371                                      </td><td>0.001928315                                      </td><td>0.000075700                                      </td><td>0.001254603                                      </td><td>0.000139494                                      </td></tr>\n",
       "\t<tr><th scope=row>22</th><td>X612_Group9_142dpi_LV_bottom_182_G_B10_P132.mzXML</td><td>612                                              </td><td>Group9                                           </td><td>142dpi                                           </td><td>LV_bottom                                        </td><td>B10                                              </td><td>P132                                             </td><td>0.005424795                                      </td><td>0.000169238                                      </td><td>0.000258005                                      </td><td>...                                              </td><td>0.000407544                                      </td><td>0.000588452                                      </td><td>0.000125678                                      </td><td>0                                                </td><td>0.000156795                                      </td><td>0.000000000                                      </td><td>0.002790552                                      </td><td>0.000104305                                      </td><td>0.001986027                                      </td><td>0.000150506                                      </td></tr>\n",
       "\t<tr><th scope=row>23</th><td>X613_Group9_142dpi_LV_bottom_183_G_B11_P132.mzXML</td><td>613                                              </td><td>Group9                                           </td><td>142dpi                                           </td><td>LV_bottom                                        </td><td>B11                                              </td><td>P132                                             </td><td>0.003141117                                      </td><td>0.000100816                                      </td><td>0.000053100                                      </td><td>...                                              </td><td>0.000234392                                      </td><td>0.000853309                                      </td><td>0.000352746                                      </td><td>0                                                </td><td>0.000170060                                      </td><td>0.000126879                                      </td><td>0.001471454                                      </td><td>0.000029700                                      </td><td>0.000950734                                      </td><td>0.000175991                                      </td></tr>\n",
       "\t<tr><th scope=row>24</th><td>X614_Group9_142dpi_LV_bottom_184_G_B12_P132.mzXML</td><td>614                                              </td><td>Group9                                           </td><td>142dpi                                           </td><td>LV_bottom                                        </td><td>B12                                              </td><td>P132                                             </td><td>0.003303506                                      </td><td>0.000089100                                      </td><td>0.000000000                                      </td><td>...                                              </td><td>0.000058000                                      </td><td>0.001081238                                      </td><td>0.000523180                                      </td><td>0                                                </td><td>0.000225384                                      </td><td>0.000000000                                      </td><td>0.000966637                                      </td><td>0.000000000                                      </td><td>0.000627816                                      </td><td>0.000095800                                      </td></tr>\n",
       "\t<tr><th scope=row>25</th><td>X615_Group9_142dpi_LV_bottom_185_G_C1_P132.mzXML </td><td>615                                              </td><td>Group9                                           </td><td>142dpi                                           </td><td>LV_bottom                                        </td><td>C1                                               </td><td>P132                                             </td><td>0.001476878                                      </td><td>0.000000000                                      </td><td>0.000097400                                      </td><td>...                                              </td><td>0.000000000                                      </td><td>0.000793138                                      </td><td>0.000323081                                      </td><td>0                                                </td><td>0.000044300                                      </td><td>0.000581179                                      </td><td>0.000632459                                      </td><td>0.000000000                                      </td><td>0.000298204                                      </td><td>0.000034300                                      </td></tr>\n",
       "\t<tr><th scope=row>26</th><td>X631_Group15_142dpi_LV_bottom_191_G_C7_P132.mzXML</td><td>631                                              </td><td>Group15                                          </td><td>142dpi                                           </td><td>LV_bottom                                        </td><td>C7                                               </td><td>P132                                             </td><td>0.005239874                                      </td><td>0.000193567                                      </td><td>0.000000000                                      </td><td>...                                              </td><td>0.000481787                                      </td><td>0.000611905                                      </td><td>0.000393870                                      </td><td>0                                                </td><td>0.000071600                                      </td><td>0.000812356                                      </td><td>0.003150958                                      </td><td>0.000176765                                      </td><td>0.002022099                                      </td><td>0.000231479                                      </td></tr>\n",
       "</tbody>\n",
       "</table>\n"
      ],
      "text/latex": [
       "\\begin{tabular}{r|llllllllllllllllllllllllllllllllllllllllllllllllllllllllllllll}\n",
       "  & filename & MouseID & Treatmentgroup & DPI & organ & well\\_position & plate & X105.07\\_2.767 & X119.049\\_2.765 & X128.018\\_0.344 & ... & X599.241\\_2.765 & X604.362\\_2.948 & X620.356\\_2.913 & X682.363\\_3.329 & X682.364\\_3.313 & X764.524\\_3.729 & X790.38\\_2.768 & X792.329\\_2.764 & X795.335\\_2.768 & X811.309\\_2.773\\\\\n",
       "\\hline\n",
       "\t21 & X611\\_Group9\\_142dpi\\_LV\\_bottom\\_181\\_G\\_B9\\_P132.mzXML  & 611                                                               & Group9                                                            & 142dpi                                                            & LV\\_bottom                                                       & B9                                                                & P132                                                              & 0.003922505                                                       & 0.000144515                                                       & 0.000000000                                                       & ...                                                               & 0.000314399                                                       & 0.000619816                                                       & 0.000298514                                                       & 0                                                                 & 0.000245309                                                       & 0.000329371                                                       & 0.001928315                                                       & 0.000075700                                                       & 0.001254603                                                       & 0.000139494                                                      \\\\\n",
       "\t22 & X612\\_Group9\\_142dpi\\_LV\\_bottom\\_182\\_G\\_B10\\_P132.mzXML & 612                                                               & Group9                                                            & 142dpi                                                            & LV\\_bottom                                                       & B10                                                               & P132                                                              & 0.005424795                                                       & 0.000169238                                                       & 0.000258005                                                       & ...                                                               & 0.000407544                                                       & 0.000588452                                                       & 0.000125678                                                       & 0                                                                 & 0.000156795                                                       & 0.000000000                                                       & 0.002790552                                                       & 0.000104305                                                       & 0.001986027                                                       & 0.000150506                                                      \\\\\n",
       "\t23 & X613\\_Group9\\_142dpi\\_LV\\_bottom\\_183\\_G\\_B11\\_P132.mzXML & 613                                                               & Group9                                                            & 142dpi                                                            & LV\\_bottom                                                       & B11                                                               & P132                                                              & 0.003141117                                                       & 0.000100816                                                       & 0.000053100                                                       & ...                                                               & 0.000234392                                                       & 0.000853309                                                       & 0.000352746                                                       & 0                                                                 & 0.000170060                                                       & 0.000126879                                                       & 0.001471454                                                       & 0.000029700                                                       & 0.000950734                                                       & 0.000175991                                                      \\\\\n",
       "\t24 & X614\\_Group9\\_142dpi\\_LV\\_bottom\\_184\\_G\\_B12\\_P132.mzXML & 614                                                               & Group9                                                            & 142dpi                                                            & LV\\_bottom                                                       & B12                                                               & P132                                                              & 0.003303506                                                       & 0.000089100                                                       & 0.000000000                                                       & ...                                                               & 0.000058000                                                       & 0.001081238                                                       & 0.000523180                                                       & 0                                                                 & 0.000225384                                                       & 0.000000000                                                       & 0.000966637                                                       & 0.000000000                                                       & 0.000627816                                                       & 0.000095800                                                      \\\\\n",
       "\t25 & X615\\_Group9\\_142dpi\\_LV\\_bottom\\_185\\_G\\_C1\\_P132.mzXML  & 615                                                               & Group9                                                            & 142dpi                                                            & LV\\_bottom                                                       & C1                                                                & P132                                                              & 0.001476878                                                       & 0.000000000                                                       & 0.000097400                                                       & ...                                                               & 0.000000000                                                       & 0.000793138                                                       & 0.000323081                                                       & 0                                                                 & 0.000044300                                                       & 0.000581179                                                       & 0.000632459                                                       & 0.000000000                                                       & 0.000298204                                                       & 0.000034300                                                      \\\\\n",
       "\t26 & X631\\_Group15\\_142dpi\\_LV\\_bottom\\_191\\_G\\_C7\\_P132.mzXML & 631                                                               & Group15                                                           & 142dpi                                                            & LV\\_bottom                                                       & C7                                                                & P132                                                              & 0.005239874                                                       & 0.000193567                                                       & 0.000000000                                                       & ...                                                               & 0.000481787                                                       & 0.000611905                                                       & 0.000393870                                                       & 0                                                                 & 0.000071600                                                       & 0.000812356                                                       & 0.003150958                                                       & 0.000176765                                                       & 0.002022099                                                       & 0.000231479                                                      \\\\\n",
       "\\end{tabular}\n"
      ],
      "text/markdown": [
       "\n",
       "| <!--/--> | filename | MouseID | Treatmentgroup | DPI | organ | well_position | plate | X105.07_2.767 | X119.049_2.765 | X128.018_0.344 | ... | X599.241_2.765 | X604.362_2.948 | X620.356_2.913 | X682.363_3.329 | X682.364_3.313 | X764.524_3.729 | X790.38_2.768 | X792.329_2.764 | X795.335_2.768 | X811.309_2.773 |\n",
       "|---|---|---|---|---|---|---|---|---|---|---|---|---|---|---|---|---|---|---|---|---|---|\n",
       "| 21 | X611_Group9_142dpi_LV_bottom_181_G_B9_P132.mzXML  | 611                                               | Group9                                            | 142dpi                                            | LV_bottom                                         | B9                                                | P132                                              | 0.003922505                                       | 0.000144515                                       | 0.000000000                                       | ...                                               | 0.000314399                                       | 0.000619816                                       | 0.000298514                                       | 0                                                 | 0.000245309                                       | 0.000329371                                       | 0.001928315                                       | 0.000075700                                       | 0.001254603                                       | 0.000139494                                       |\n",
       "| 22 | X612_Group9_142dpi_LV_bottom_182_G_B10_P132.mzXML | 612                                               | Group9                                            | 142dpi                                            | LV_bottom                                         | B10                                               | P132                                              | 0.005424795                                       | 0.000169238                                       | 0.000258005                                       | ...                                               | 0.000407544                                       | 0.000588452                                       | 0.000125678                                       | 0                                                 | 0.000156795                                       | 0.000000000                                       | 0.002790552                                       | 0.000104305                                       | 0.001986027                                       | 0.000150506                                       |\n",
       "| 23 | X613_Group9_142dpi_LV_bottom_183_G_B11_P132.mzXML | 613                                               | Group9                                            | 142dpi                                            | LV_bottom                                         | B11                                               | P132                                              | 0.003141117                                       | 0.000100816                                       | 0.000053100                                       | ...                                               | 0.000234392                                       | 0.000853309                                       | 0.000352746                                       | 0                                                 | 0.000170060                                       | 0.000126879                                       | 0.001471454                                       | 0.000029700                                       | 0.000950734                                       | 0.000175991                                       |\n",
       "| 24 | X614_Group9_142dpi_LV_bottom_184_G_B12_P132.mzXML | 614                                               | Group9                                            | 142dpi                                            | LV_bottom                                         | B12                                               | P132                                              | 0.003303506                                       | 0.000089100                                       | 0.000000000                                       | ...                                               | 0.000058000                                       | 0.001081238                                       | 0.000523180                                       | 0                                                 | 0.000225384                                       | 0.000000000                                       | 0.000966637                                       | 0.000000000                                       | 0.000627816                                       | 0.000095800                                       |\n",
       "| 25 | X615_Group9_142dpi_LV_bottom_185_G_C1_P132.mzXML  | 615                                               | Group9                                            | 142dpi                                            | LV_bottom                                         | C1                                                | P132                                              | 0.001476878                                       | 0.000000000                                       | 0.000097400                                       | ...                                               | 0.000000000                                       | 0.000793138                                       | 0.000323081                                       | 0                                                 | 0.000044300                                       | 0.000581179                                       | 0.000632459                                       | 0.000000000                                       | 0.000298204                                       | 0.000034300                                       |\n",
       "| 26 | X631_Group15_142dpi_LV_bottom_191_G_C7_P132.mzXML | 631                                               | Group15                                           | 142dpi                                            | LV_bottom                                         | C7                                                | P132                                              | 0.005239874                                       | 0.000193567                                       | 0.000000000                                       | ...                                               | 0.000481787                                       | 0.000611905                                       | 0.000393870                                       | 0                                                 | 0.000071600                                       | 0.000812356                                       | 0.003150958                                       | 0.000176765                                       | 0.002022099                                       | 0.000231479                                       |\n",
       "\n"
      ],
      "text/plain": [
       "   filename                                          MouseID Treatmentgroup\n",
       "21 X611_Group9_142dpi_LV_bottom_181_G_B9_P132.mzXML  611     Group9        \n",
       "22 X612_Group9_142dpi_LV_bottom_182_G_B10_P132.mzXML 612     Group9        \n",
       "23 X613_Group9_142dpi_LV_bottom_183_G_B11_P132.mzXML 613     Group9        \n",
       "24 X614_Group9_142dpi_LV_bottom_184_G_B12_P132.mzXML 614     Group9        \n",
       "25 X615_Group9_142dpi_LV_bottom_185_G_C1_P132.mzXML  615     Group9        \n",
       "26 X631_Group15_142dpi_LV_bottom_191_G_C7_P132.mzXML 631     Group15       \n",
       "   DPI    organ     well_position plate X105.07_2.767 X119.049_2.765\n",
       "21 142dpi LV_bottom B9            P132  0.003922505   0.000144515   \n",
       "22 142dpi LV_bottom B10           P132  0.005424795   0.000169238   \n",
       "23 142dpi LV_bottom B11           P132  0.003141117   0.000100816   \n",
       "24 142dpi LV_bottom B12           P132  0.003303506   0.000089100   \n",
       "25 142dpi LV_bottom C1            P132  0.001476878   0.000000000   \n",
       "26 142dpi LV_bottom C7            P132  0.005239874   0.000193567   \n",
       "   X128.018_0.344 ... X599.241_2.765 X604.362_2.948 X620.356_2.913\n",
       "21 0.000000000    ... 0.000314399    0.000619816    0.000298514   \n",
       "22 0.000258005    ... 0.000407544    0.000588452    0.000125678   \n",
       "23 0.000053100    ... 0.000234392    0.000853309    0.000352746   \n",
       "24 0.000000000    ... 0.000058000    0.001081238    0.000523180   \n",
       "25 0.000097400    ... 0.000000000    0.000793138    0.000323081   \n",
       "26 0.000000000    ... 0.000481787    0.000611905    0.000393870   \n",
       "   X682.363_3.329 X682.364_3.313 X764.524_3.729 X790.38_2.768 X792.329_2.764\n",
       "21 0              0.000245309    0.000329371    0.001928315   0.000075700   \n",
       "22 0              0.000156795    0.000000000    0.002790552   0.000104305   \n",
       "23 0              0.000170060    0.000126879    0.001471454   0.000029700   \n",
       "24 0              0.000225384    0.000000000    0.000966637   0.000000000   \n",
       "25 0              0.000044300    0.000581179    0.000632459   0.000000000   \n",
       "26 0              0.000071600    0.000812356    0.003150958   0.000176765   \n",
       "   X795.335_2.768 X811.309_2.773\n",
       "21 0.001254603    0.000139494   \n",
       "22 0.001986027    0.000150506   \n",
       "23 0.000950734    0.000175991   \n",
       "24 0.000627816    0.000095800   \n",
       "25 0.000298204    0.000034300   \n",
       "26 0.002022099    0.000231479   "
      ]
     },
     "metadata": {},
     "output_type": "display_data"
    },
    {
     "data": {
      "text/html": [
       "<ol class=list-inline>\n",
       "\t<li>30</li>\n",
       "\t<li>62</li>\n",
       "</ol>\n"
      ],
      "text/latex": [
       "\\begin{enumerate*}\n",
       "\\item 30\n",
       "\\item 62\n",
       "\\end{enumerate*}\n"
      ],
      "text/markdown": [
       "1. 30\n",
       "2. 62\n",
       "\n",
       "\n"
      ],
      "text/plain": [
       "[1] 30 62"
      ]
     },
     "metadata": {},
     "output_type": "display_data"
    }
   ],
   "source": [
    "# choose the lung posistion\n",
    "features_pos<-droplevels(subset(a, a$Treatmentgroup==c(\"Group9\")|a$Treatmentgroup==c(\"Group15\")))\n",
    "head(features_pos)\n",
    "dim(features_pos)"
   ]
  },
  {
   "cell_type": "code",
   "execution_count": 4,
   "metadata": {
    "scrolled": false
   },
   "outputs": [
    {
     "data": {
      "text/html": [
       "<table>\n",
       "<thead><tr><th></th><th scope=col>X105.07_2.767</th><th scope=col>X119.049_2.765</th><th scope=col>X128.018_0.344</th><th scope=col>X136.062_0.301</th><th scope=col>X136.097_0.551</th><th scope=col>X137.046_0.31</th><th scope=col>X137.046_0.42</th><th scope=col>X203.007_0.309</th><th scope=col>X249.112_2.768</th><th scope=col>X251.037_0.323</th><th scope=col>...</th><th scope=col>X599.241_2.765</th><th scope=col>X604.362_2.948</th><th scope=col>X620.356_2.913</th><th scope=col>X682.363_3.329</th><th scope=col>X682.364_3.313</th><th scope=col>X764.524_3.729</th><th scope=col>X790.38_2.768</th><th scope=col>X792.329_2.764</th><th scope=col>X795.335_2.768</th><th scope=col>X811.309_2.773</th></tr></thead>\n",
       "<tbody>\n",
       "\t<tr><th scope=row>21</th><td>0.003922505</td><td>0.000144515</td><td>0.000000000</td><td>0.000265460</td><td>0          </td><td>0.008383980</td><td>0.006287985</td><td>0.000000000</td><td>0.000098400</td><td>0.000000000</td><td>...        </td><td>0.000314399</td><td>0.000619816</td><td>0.000298514</td><td>0          </td><td>0.000245309</td><td>0.000329371</td><td>0.001928315</td><td>0.000075700</td><td>0.001254603</td><td>0.000139494</td></tr>\n",
       "\t<tr><th scope=row>22</th><td>0.005424795</td><td>0.000169238</td><td>0.000258005</td><td>0.000000000</td><td>0          </td><td>0.013286151</td><td>0.006482171</td><td>0.000000000</td><td>0.000101462</td><td>0.000000000</td><td>...        </td><td>0.000407544</td><td>0.000588452</td><td>0.000125678</td><td>0          </td><td>0.000156795</td><td>0.000000000</td><td>0.002790552</td><td>0.000104305</td><td>0.001986027</td><td>0.000150506</td></tr>\n",
       "\t<tr><th scope=row>23</th><td>0.003141117</td><td>0.000100816</td><td>0.000053100</td><td>0.000292405</td><td>0          </td><td>0.009675311</td><td>0.008801845</td><td>0.000000000</td><td>0.000028700</td><td>0.000000000</td><td>...        </td><td>0.000234392</td><td>0.000853309</td><td>0.000352746</td><td>0          </td><td>0.000170060</td><td>0.000126879</td><td>0.001471454</td><td>0.000029700</td><td>0.000950734</td><td>0.000175991</td></tr>\n",
       "\t<tr><th scope=row>24</th><td>0.003303506</td><td>0.000089100</td><td>0.000000000</td><td>0.000423420</td><td>0          </td><td>0.013204058</td><td>0.012157699</td><td>0.000000000</td><td>0.000000000</td><td>0.000000000</td><td>...        </td><td>0.000058000</td><td>0.001081238</td><td>0.000523180</td><td>0          </td><td>0.000225384</td><td>0.000000000</td><td>0.000966637</td><td>0.000000000</td><td>0.000627816</td><td>0.000095800</td></tr>\n",
       "\t<tr><th scope=row>25</th><td>0.001476878</td><td>0.000000000</td><td>0.000097400</td><td>0.000168995</td><td>0          </td><td>0.011418453</td><td>0.013469672</td><td>0.000228317</td><td>0.000000000</td><td>0.000574341</td><td>...        </td><td>0.000000000</td><td>0.000793138</td><td>0.000323081</td><td>0          </td><td>0.000044300</td><td>0.000581179</td><td>0.000632459</td><td>0.000000000</td><td>0.000298204</td><td>0.000034300</td></tr>\n",
       "\t<tr><th scope=row>26</th><td>0.005239874</td><td>0.000193567</td><td>0.000000000</td><td>0.000135214</td><td>0          </td><td>0.013996443</td><td>0.007244390</td><td>0.000067600</td><td>0.000160405</td><td>0.000000000</td><td>...        </td><td>0.000481787</td><td>0.000611905</td><td>0.000393870</td><td>0          </td><td>0.000071600</td><td>0.000812356</td><td>0.003150958</td><td>0.000176765</td><td>0.002022099</td><td>0.000231479</td></tr>\n",
       "</tbody>\n",
       "</table>\n"
      ],
      "text/latex": [
       "\\begin{tabular}{r|lllllllllllllllllllllllllllllllllllllllllllllllllllllll}\n",
       "  & X105.07\\_2.767 & X119.049\\_2.765 & X128.018\\_0.344 & X136.062\\_0.301 & X136.097\\_0.551 & X137.046\\_0.31 & X137.046\\_0.42 & X203.007\\_0.309 & X249.112\\_2.768 & X251.037\\_0.323 & ... & X599.241\\_2.765 & X604.362\\_2.948 & X620.356\\_2.913 & X682.363\\_3.329 & X682.364\\_3.313 & X764.524\\_3.729 & X790.38\\_2.768 & X792.329\\_2.764 & X795.335\\_2.768 & X811.309\\_2.773\\\\\n",
       "\\hline\n",
       "\t21 & 0.003922505 & 0.000144515 & 0.000000000 & 0.000265460 & 0           & 0.008383980 & 0.006287985 & 0.000000000 & 0.000098400 & 0.000000000 & ...         & 0.000314399 & 0.000619816 & 0.000298514 & 0           & 0.000245309 & 0.000329371 & 0.001928315 & 0.000075700 & 0.001254603 & 0.000139494\\\\\n",
       "\t22 & 0.005424795 & 0.000169238 & 0.000258005 & 0.000000000 & 0           & 0.013286151 & 0.006482171 & 0.000000000 & 0.000101462 & 0.000000000 & ...         & 0.000407544 & 0.000588452 & 0.000125678 & 0           & 0.000156795 & 0.000000000 & 0.002790552 & 0.000104305 & 0.001986027 & 0.000150506\\\\\n",
       "\t23 & 0.003141117 & 0.000100816 & 0.000053100 & 0.000292405 & 0           & 0.009675311 & 0.008801845 & 0.000000000 & 0.000028700 & 0.000000000 & ...         & 0.000234392 & 0.000853309 & 0.000352746 & 0           & 0.000170060 & 0.000126879 & 0.001471454 & 0.000029700 & 0.000950734 & 0.000175991\\\\\n",
       "\t24 & 0.003303506 & 0.000089100 & 0.000000000 & 0.000423420 & 0           & 0.013204058 & 0.012157699 & 0.000000000 & 0.000000000 & 0.000000000 & ...         & 0.000058000 & 0.001081238 & 0.000523180 & 0           & 0.000225384 & 0.000000000 & 0.000966637 & 0.000000000 & 0.000627816 & 0.000095800\\\\\n",
       "\t25 & 0.001476878 & 0.000000000 & 0.000097400 & 0.000168995 & 0           & 0.011418453 & 0.013469672 & 0.000228317 & 0.000000000 & 0.000574341 & ...         & 0.000000000 & 0.000793138 & 0.000323081 & 0           & 0.000044300 & 0.000581179 & 0.000632459 & 0.000000000 & 0.000298204 & 0.000034300\\\\\n",
       "\t26 & 0.005239874 & 0.000193567 & 0.000000000 & 0.000135214 & 0           & 0.013996443 & 0.007244390 & 0.000067600 & 0.000160405 & 0.000000000 & ...         & 0.000481787 & 0.000611905 & 0.000393870 & 0           & 0.000071600 & 0.000812356 & 0.003150958 & 0.000176765 & 0.002022099 & 0.000231479\\\\\n",
       "\\end{tabular}\n"
      ],
      "text/markdown": [
       "\n",
       "| <!--/--> | X105.07_2.767 | X119.049_2.765 | X128.018_0.344 | X136.062_0.301 | X136.097_0.551 | X137.046_0.31 | X137.046_0.42 | X203.007_0.309 | X249.112_2.768 | X251.037_0.323 | ... | X599.241_2.765 | X604.362_2.948 | X620.356_2.913 | X682.363_3.329 | X682.364_3.313 | X764.524_3.729 | X790.38_2.768 | X792.329_2.764 | X795.335_2.768 | X811.309_2.773 |\n",
       "|---|---|---|---|---|---|---|---|---|---|---|---|---|---|---|---|---|---|---|---|---|---|\n",
       "| 21 | 0.003922505 | 0.000144515 | 0.000000000 | 0.000265460 | 0           | 0.008383980 | 0.006287985 | 0.000000000 | 0.000098400 | 0.000000000 | ...         | 0.000314399 | 0.000619816 | 0.000298514 | 0           | 0.000245309 | 0.000329371 | 0.001928315 | 0.000075700 | 0.001254603 | 0.000139494 |\n",
       "| 22 | 0.005424795 | 0.000169238 | 0.000258005 | 0.000000000 | 0           | 0.013286151 | 0.006482171 | 0.000000000 | 0.000101462 | 0.000000000 | ...         | 0.000407544 | 0.000588452 | 0.000125678 | 0           | 0.000156795 | 0.000000000 | 0.002790552 | 0.000104305 | 0.001986027 | 0.000150506 |\n",
       "| 23 | 0.003141117 | 0.000100816 | 0.000053100 | 0.000292405 | 0           | 0.009675311 | 0.008801845 | 0.000000000 | 0.000028700 | 0.000000000 | ...         | 0.000234392 | 0.000853309 | 0.000352746 | 0           | 0.000170060 | 0.000126879 | 0.001471454 | 0.000029700 | 0.000950734 | 0.000175991 |\n",
       "| 24 | 0.003303506 | 0.000089100 | 0.000000000 | 0.000423420 | 0           | 0.013204058 | 0.012157699 | 0.000000000 | 0.000000000 | 0.000000000 | ...         | 0.000058000 | 0.001081238 | 0.000523180 | 0           | 0.000225384 | 0.000000000 | 0.000966637 | 0.000000000 | 0.000627816 | 0.000095800 |\n",
       "| 25 | 0.001476878 | 0.000000000 | 0.000097400 | 0.000168995 | 0           | 0.011418453 | 0.013469672 | 0.000228317 | 0.000000000 | 0.000574341 | ...         | 0.000000000 | 0.000793138 | 0.000323081 | 0           | 0.000044300 | 0.000581179 | 0.000632459 | 0.000000000 | 0.000298204 | 0.000034300 |\n",
       "| 26 | 0.005239874 | 0.000193567 | 0.000000000 | 0.000135214 | 0           | 0.013996443 | 0.007244390 | 0.000067600 | 0.000160405 | 0.000000000 | ...         | 0.000481787 | 0.000611905 | 0.000393870 | 0           | 0.000071600 | 0.000812356 | 0.003150958 | 0.000176765 | 0.002022099 | 0.000231479 |\n",
       "\n"
      ],
      "text/plain": [
       "   X105.07_2.767 X119.049_2.765 X128.018_0.344 X136.062_0.301 X136.097_0.551\n",
       "21 0.003922505   0.000144515    0.000000000    0.000265460    0             \n",
       "22 0.005424795   0.000169238    0.000258005    0.000000000    0             \n",
       "23 0.003141117   0.000100816    0.000053100    0.000292405    0             \n",
       "24 0.003303506   0.000089100    0.000000000    0.000423420    0             \n",
       "25 0.001476878   0.000000000    0.000097400    0.000168995    0             \n",
       "26 0.005239874   0.000193567    0.000000000    0.000135214    0             \n",
       "   X137.046_0.31 X137.046_0.42 X203.007_0.309 X249.112_2.768 X251.037_0.323 ...\n",
       "21 0.008383980   0.006287985   0.000000000    0.000098400    0.000000000    ...\n",
       "22 0.013286151   0.006482171   0.000000000    0.000101462    0.000000000    ...\n",
       "23 0.009675311   0.008801845   0.000000000    0.000028700    0.000000000    ...\n",
       "24 0.013204058   0.012157699   0.000000000    0.000000000    0.000000000    ...\n",
       "25 0.011418453   0.013469672   0.000228317    0.000000000    0.000574341    ...\n",
       "26 0.013996443   0.007244390   0.000067600    0.000160405    0.000000000    ...\n",
       "   X599.241_2.765 X604.362_2.948 X620.356_2.913 X682.363_3.329 X682.364_3.313\n",
       "21 0.000314399    0.000619816    0.000298514    0              0.000245309   \n",
       "22 0.000407544    0.000588452    0.000125678    0              0.000156795   \n",
       "23 0.000234392    0.000853309    0.000352746    0              0.000170060   \n",
       "24 0.000058000    0.001081238    0.000523180    0              0.000225384   \n",
       "25 0.000000000    0.000793138    0.000323081    0              0.000044300   \n",
       "26 0.000481787    0.000611905    0.000393870    0              0.000071600   \n",
       "   X764.524_3.729 X790.38_2.768 X792.329_2.764 X795.335_2.768 X811.309_2.773\n",
       "21 0.000329371    0.001928315   0.000075700    0.001254603    0.000139494   \n",
       "22 0.000000000    0.002790552   0.000104305    0.001986027    0.000150506   \n",
       "23 0.000126879    0.001471454   0.000029700    0.000950734    0.000175991   \n",
       "24 0.000000000    0.000966637   0.000000000    0.000627816    0.000095800   \n",
       "25 0.000581179    0.000632459   0.000000000    0.000298204    0.000034300   \n",
       "26 0.000812356    0.003150958   0.000176765    0.002022099    0.000231479   "
      ]
     },
     "metadata": {},
     "output_type": "display_data"
    },
    {
     "data": {
      "text/html": [
       "<dl class=dl-horizontal>\n",
       "\t<dt>X105.07_2.767</dt>\n",
       "\t\t<dd>1</dd>\n",
       "\t<dt>X119.049_2.765</dt>\n",
       "\t\t<dd>2</dd>\n",
       "\t<dt>X128.018_0.344</dt>\n",
       "\t\t<dd>3</dd>\n",
       "\t<dt>X136.062_0.301</dt>\n",
       "\t\t<dd>4</dd>\n",
       "\t<dt>X136.097_0.551</dt>\n",
       "\t\t<dd>5</dd>\n",
       "\t<dt>X137.046_0.31</dt>\n",
       "\t\t<dd>6</dd>\n",
       "</dl>\n"
      ],
      "text/latex": [
       "\\begin{description*}\n",
       "\\item[X105.07\\textbackslash{}\\_2.767] 1\n",
       "\\item[X119.049\\textbackslash{}\\_2.765] 2\n",
       "\\item[X128.018\\textbackslash{}\\_0.344] 3\n",
       "\\item[X136.062\\textbackslash{}\\_0.301] 4\n",
       "\\item[X136.097\\textbackslash{}\\_0.551] 5\n",
       "\\item[X137.046\\textbackslash{}\\_0.31] 6\n",
       "\\end{description*}\n"
      ],
      "text/markdown": [
       "X105.07_2.767\n",
       ":   1X119.049_2.765\n",
       ":   2X128.018_0.344\n",
       ":   3X136.062_0.301\n",
       ":   4X136.097_0.551\n",
       ":   5X137.046_0.31\n",
       ":   6\n",
       "\n"
      ],
      "text/plain": [
       " X105.07_2.767 X119.049_2.765 X128.018_0.344 X136.062_0.301 X136.097_0.551 \n",
       "             1              2              3              4              5 \n",
       " X137.046_0.31 \n",
       "             6 "
      ]
     },
     "metadata": {},
     "output_type": "display_data"
    },
    {
     "data": {
      "text/html": [
       "<table>\n",
       "<thead><tr><th></th><th scope=col>X105.07_2.767</th><th scope=col>X119.049_2.765</th><th scope=col>X128.018_0.344</th><th scope=col>X136.062_0.301</th><th scope=col>X136.097_0.551</th><th scope=col>X137.046_0.31</th><th scope=col>X137.046_0.42</th><th scope=col>X203.007_0.309</th><th scope=col>X249.112_2.768</th><th scope=col>X251.037_0.323</th><th scope=col>...</th><th scope=col>X580.362_2.984</th><th scope=col>X599.241_2.765</th><th scope=col>X604.362_2.948</th><th scope=col>X620.356_2.913</th><th scope=col>X682.364_3.313</th><th scope=col>X764.524_3.729</th><th scope=col>X790.38_2.768</th><th scope=col>X792.329_2.764</th><th scope=col>X795.335_2.768</th><th scope=col>X811.309_2.773</th></tr></thead>\n",
       "<tbody>\n",
       "\t<tr><th scope=row>21</th><td>0.003922505</td><td>0.000144515</td><td>0.000000000</td><td>0.000265460</td><td>0.000000000</td><td>0.008383980</td><td>0.006287985</td><td>0.000000000</td><td>0.000098400</td><td>0.000000000</td><td>...        </td><td>0.009491864</td><td>0.000314399</td><td>0.000619816</td><td>0.000298514</td><td>0.000245309</td><td>0.000329371</td><td>0.001928315</td><td>0.000075700</td><td>0.001254603</td><td>0.000139494</td></tr>\n",
       "\t<tr><th scope=row>22</th><td>0.005424795</td><td>0.000169238</td><td>0.000258005</td><td>0.000000000</td><td>0.000000000</td><td>0.013286151</td><td>0.006482171</td><td>0.000000000</td><td>0.000101462</td><td>0.000000000</td><td>...        </td><td>0.011906966</td><td>0.000407544</td><td>0.000588452</td><td>0.000125678</td><td>0.000156795</td><td>0.000000000</td><td>0.002790552</td><td>0.000104305</td><td>0.001986027</td><td>0.000150506</td></tr>\n",
       "\t<tr><th scope=row>23</th><td>0.003141117</td><td>0.000100816</td><td>0.000053100</td><td>0.000292405</td><td>0.000000000</td><td>0.009675311</td><td>0.008801845</td><td>0.000000000</td><td>0.000028700</td><td>0.000000000</td><td>...        </td><td>0.008768250</td><td>0.000234392</td><td>0.000853309</td><td>0.000352746</td><td>0.000170060</td><td>0.000126879</td><td>0.001471454</td><td>0.000029700</td><td>0.000950734</td><td>0.000175991</td></tr>\n",
       "\t<tr><th scope=row>24</th><td>0.003303506</td><td>0.000089100</td><td>0.000000000</td><td>0.000423420</td><td>0.000000000</td><td>0.013204058</td><td>0.012157699</td><td>0.000000000</td><td>0.000000000</td><td>0.000000000</td><td>...        </td><td>0.012556312</td><td>0.000058000</td><td>0.001081238</td><td>0.000523180</td><td>0.000225384</td><td>0.000000000</td><td>0.000966637</td><td>0.000000000</td><td>0.000627816</td><td>0.000095800</td></tr>\n",
       "\t<tr><th scope=row>25</th><td>0.001476878</td><td>0.000000000</td><td>0.000097400</td><td>0.000168995</td><td>0.000000000</td><td>0.011418453</td><td>0.013469672</td><td>0.000228317</td><td>0.000000000</td><td>0.000574341</td><td>...        </td><td>0.008956990</td><td>0.000000000</td><td>0.000793138</td><td>0.000323081</td><td>0.000044300</td><td>0.000581179</td><td>0.000632459</td><td>0.000000000</td><td>0.000298204</td><td>0.000034300</td></tr>\n",
       "\t<tr><th scope=row>26</th><td>0.005239874</td><td>0.000193567</td><td>0.000000000</td><td>0.000135214</td><td>0.000000000</td><td>0.013996443</td><td>0.007244390</td><td>0.000067600</td><td>0.000160405</td><td>0.000000000</td><td>...        </td><td>0.009811577</td><td>0.000481787</td><td>0.000611905</td><td>0.000393870</td><td>0.000071600</td><td>0.000812356</td><td>0.003150958</td><td>0.000176765</td><td>0.002022099</td><td>0.000231479</td></tr>\n",
       "\t<tr><th scope=row>27</th><td>0.004438980</td><td>0.000184756</td><td>0.000126690</td><td>0.000352842</td><td>0.000304468</td><td>0.010129979</td><td>0.009845429</td><td>0.000000000</td><td>0.000107326</td><td>0.000000000</td><td>...        </td><td>0.008166584</td><td>0.000395524</td><td>0.000520726</td><td>0.000315850</td><td>0.000190062</td><td>0.001266247</td><td>0.002259327</td><td>0.000075900</td><td>0.001573561</td><td>0.000242717</td></tr>\n",
       "\t<tr><th scope=row>28</th><td>0.003986130</td><td>0.000000000</td><td>0.000052200</td><td>0.000475764</td><td>0.000206789</td><td>0.009868887</td><td>0.014401504</td><td>0.000253538</td><td>0.000087700</td><td>0.000401828</td><td>...        </td><td>0.008872355</td><td>0.000304929</td><td>0.000739363</td><td>0.000427545</td><td>0.000074900</td><td>0.000000000</td><td>0.002587770</td><td>0.000097800</td><td>0.001202268</td><td>0.000195685</td></tr>\n",
       "\t<tr><th scope=row>29</th><td>0.004361477</td><td>0.000155738</td><td>0.000133498</td><td>0.000139805</td><td>0.000380764</td><td>0.013049817</td><td>0.007303744</td><td>0.000000000</td><td>0.000094900</td><td>0.000000000</td><td>...        </td><td>0.007822967</td><td>0.000294998</td><td>0.000799604</td><td>0.000253196</td><td>0.000206465</td><td>0.000488070</td><td>0.002506119</td><td>0.000045900</td><td>0.001502287</td><td>0.000176801</td></tr>\n",
       "\t<tr><th scope=row>30</th><td>0.004631478</td><td>0.000154865</td><td>0.000220112</td><td>0.000168725</td><td>0.000290793</td><td>0.012449184</td><td>0.008871832</td><td>0.000000000</td><td>0.000038200</td><td>0.000000000</td><td>...        </td><td>0.009587302</td><td>0.000403666</td><td>0.000701161</td><td>0.000185232</td><td>0.000299202</td><td>0.000329089</td><td>0.002537535</td><td>0.000000000</td><td>0.001612193</td><td>0.000269307</td></tr>\n",
       "\t<tr><th scope=row>36</th><td>0.006112067</td><td>0.000179692</td><td>0.000071500</td><td>0.001003474</td><td>0.000000000</td><td>0.012041684</td><td>0.006340129</td><td>0.000000000</td><td>0.000128355</td><td>0.000606645</td><td>...        </td><td>0.012360971</td><td>0.000538227</td><td>0.000675064</td><td>0.000100217</td><td>0.000175547</td><td>0.000000000</td><td>0.003352514</td><td>0.000191569</td><td>0.002490439</td><td>0.000188530</td></tr>\n",
       "\t<tr><th scope=row>37</th><td>0.004958712</td><td>0.000146298</td><td>0.000068400</td><td>0.000398120</td><td>0.000367864</td><td>0.009581240</td><td>0.004706574</td><td>0.000000000</td><td>0.000039800</td><td>0.000000000</td><td>...        </td><td>0.010085516</td><td>0.000327831</td><td>0.000621940</td><td>0.000076000</td><td>0.000225882</td><td>0.000176739</td><td>0.003042464</td><td>0.000050400</td><td>0.001870023</td><td>0.000186748</td></tr>\n",
       "\t<tr><th scope=row>38</th><td>0.004629602</td><td>0.000050500</td><td>0.000000000</td><td>0.001140173</td><td>0.000514742</td><td>0.013155838</td><td>0.007016447</td><td>0.000000000</td><td>0.000000000</td><td>0.000000000</td><td>...        </td><td>0.013281132</td><td>0.000163835</td><td>0.000594132</td><td>0.000125921</td><td>0.000321222</td><td>0.000000000</td><td>0.002142522</td><td>0.000000000</td><td>0.001415819</td><td>0.000172528</td></tr>\n",
       "\t<tr><th scope=row>39</th><td>0.002419561</td><td>0.000000000</td><td>0.000083900</td><td>0.000888621</td><td>0.000000000</td><td>0.009803809</td><td>0.007582256</td><td>0.000000000</td><td>0.000000000</td><td>0.000000000</td><td>...        </td><td>0.009127684</td><td>0.000043100</td><td>0.000531241</td><td>0.000290154</td><td>0.000292539</td><td>0.000109047</td><td>0.000999699</td><td>0.000000000</td><td>0.000502264</td><td>0.000042800</td></tr>\n",
       "\t<tr><th scope=row>40</th><td>0.004319682</td><td>0.000101475</td><td>0.000190248</td><td>0.000755830</td><td>0.000206883</td><td>0.013009434</td><td>0.008795111</td><td>0.000000000</td><td>0.000038200</td><td>0.000000000</td><td>...        </td><td>0.008062185</td><td>0.000304626</td><td>0.000613825</td><td>0.000222833</td><td>0.000231627</td><td>0.000746668</td><td>0.002221682</td><td>0.000000000</td><td>0.001589533</td><td>0.000195319</td></tr>\n",
       "\t<tr><th scope=row>41</th><td>0.005812134</td><td>0.000000000</td><td>0.000127465</td><td>0.000182777</td><td>0.000000000</td><td>0.014029290</td><td>0.006814226</td><td>0.000195991</td><td>0.000158885</td><td>0.000673406</td><td>...        </td><td>0.007896486</td><td>0.000529105</td><td>0.000541130</td><td>0.000176939</td><td>0.000194786</td><td>0.000000000</td><td>0.003579473</td><td>0.000171731</td><td>0.002228653</td><td>0.000166990</td></tr>\n",
       "\t<tr><th scope=row>42</th><td>0.007131967</td><td>0.000284709</td><td>0.000176959</td><td>0.000911307</td><td>0.000297728</td><td>0.016096454</td><td>0.012728580</td><td>0.000000000</td><td>0.000188164</td><td>0.000000000</td><td>...        </td><td>0.009459762</td><td>0.000713197</td><td>0.000619094</td><td>0.000189996</td><td>0.000148258</td><td>0.000000000</td><td>0.004700164</td><td>0.000248028</td><td>0.002917173</td><td>0.000161741</td></tr>\n",
       "\t<tr><th scope=row>43</th><td>0.005149477</td><td>0.000000000</td><td>0.000099600</td><td>0.000380732</td><td>0.000000000</td><td>0.011637008</td><td>0.011190990</td><td>0.000278428</td><td>0.000125821</td><td>0.000559550</td><td>...        </td><td>0.006163154</td><td>0.000514948</td><td>0.000620370</td><td>0.000330032</td><td>0.000309295</td><td>0.000904200</td><td>0.002842349</td><td>0.000149942</td><td>0.001897603</td><td>0.000200850</td></tr>\n",
       "\t<tr><th scope=row>44</th><td>0.005852056</td><td>0.000205275</td><td>0.000149051</td><td>0.000000000</td><td>0.000000000</td><td>0.013880497</td><td>0.008753903</td><td>0.000185242</td><td>0.000103801</td><td>0.000720625</td><td>...        </td><td>0.009576092</td><td>0.000517496</td><td>0.000657752</td><td>0.000237330</td><td>0.000126837</td><td>0.000078300</td><td>0.002703553</td><td>0.000129350</td><td>0.001789472</td><td>0.000190018</td></tr>\n",
       "\t<tr><th scope=row>45</th><td>0.002441388</td><td>0.000000000</td><td>0.000091500</td><td>0.000404913</td><td>0.000000000</td><td>0.012742854</td><td>0.008018868</td><td>0.000346286</td><td>0.000000000</td><td>0.000571642</td><td>...        </td><td>0.009090697</td><td>0.000156607</td><td>0.000662946</td><td>0.000310745</td><td>0.000276265</td><td>0.000219648</td><td>0.001377499</td><td>0.000000000</td><td>0.000801887</td><td>0.000073400</td></tr>\n",
       "\t<tr><th scope=row>51</th><td>0.004812008</td><td>0.000137791</td><td>0.000207329</td><td>0.000686234</td><td>0.000000000</td><td>0.012971501</td><td>0.006485750</td><td>0.000000000</td><td>0.000037600</td><td>0.000000000</td><td>...        </td><td>0.008661615</td><td>0.000358154</td><td>0.000694603</td><td>0.000152549</td><td>0.000186328</td><td>0.000065200</td><td>0.002636144</td><td>0.000000000</td><td>0.001820194</td><td>0.000168366</td></tr>\n",
       "\t<tr><th scope=row>52</th><td>0.003743815</td><td>0.000095400</td><td>0.000187663</td><td>0.000135220</td><td>0.000762932</td><td>0.011825442</td><td>0.006920881</td><td>0.000000000</td><td>0.000000000</td><td>0.000000000</td><td>...        </td><td>0.011825442</td><td>0.000099700</td><td>0.000773831</td><td>0.000272727</td><td>0.000429803</td><td>0.000000000</td><td>0.001841935</td><td>0.000000000</td><td>0.001193443</td><td>0.000165247</td></tr>\n",
       "\t<tr><th scope=row>53</th><td>0.002465422</td><td>0.000000000</td><td>0.000130802</td><td>0.000355857</td><td>0.000405808</td><td>0.007758963</td><td>0.006381632</td><td>0.000000000</td><td>0.000000000</td><td>0.000000000</td><td>...        </td><td>0.008172162</td><td>0.000113055</td><td>0.000505021</td><td>0.000176378</td><td>0.000495839</td><td>0.000927403</td><td>0.001101865</td><td>0.000000000</td><td>0.000707030</td><td>0.000082800</td></tr>\n",
       "\t<tr><th scope=row>54</th><td>0.003096777</td><td>0.000000000</td><td>0.000187929</td><td>0.000638955</td><td>0.000000000</td><td>0.010074325</td><td>0.007173546</td><td>0.000292918</td><td>0.000000000</td><td>0.000642875</td><td>...        </td><td>0.009172731</td><td>0.000188864</td><td>0.000580156</td><td>0.000213929</td><td>0.000249739</td><td>0.000000000</td><td>0.001920786</td><td>0.000034100</td><td>0.001015272</td><td>0.000121553</td></tr>\n",
       "\t<tr><th scope=row>55</th><td>0.004164029</td><td>0.000084800</td><td>0.000098200</td><td>0.000340297</td><td>0.000000000</td><td>0.009024862</td><td>0.005163060</td><td>0.000000000</td><td>0.000070400</td><td>0.000000000</td><td>...        </td><td>0.008269292</td><td>0.000344584</td><td>0.000533096</td><td>0.000229586</td><td>0.000436551</td><td>0.001658056</td><td>0.001968679</td><td>0.000045800</td><td>0.001292864</td><td>0.000128311</td></tr>\n",
       "\t<tr><th scope=row>56</th><td>0.005268243</td><td>0.000190121</td><td>0.000130381</td><td>0.000619793</td><td>0.000519077</td><td>0.013712926</td><td>0.009335636</td><td>0.000000000</td><td>0.000096400</td><td>0.000000000</td><td>...        </td><td>0.007243834</td><td>0.000468719</td><td>0.000728257</td><td>0.000328769</td><td>0.000085700</td><td>0.000949058</td><td>0.002854923</td><td>0.000128294</td><td>0.001882622</td><td>0.000198014</td></tr>\n",
       "\t<tr><th scope=row>57</th><td>0.001305645</td><td>0.000000000</td><td>0.000000000</td><td>0.000101759</td><td>0.000015900</td><td>0.001026278</td><td>0.002605500</td><td>0.000000000</td><td>0.000017400</td><td>0.000000000</td><td>...        </td><td>0.002677875</td><td>0.000102483</td><td>0.000179490</td><td>0.000119419</td><td>0.000021700</td><td>0.000000000</td><td>0.000662955</td><td>0.000000000</td><td>0.000172253</td><td>0.000000000</td></tr>\n",
       "\t<tr><th scope=row>58</th><td>0.000725512</td><td>0.000007140</td><td>0.000000000</td><td>0.000000000</td><td>0.000050100</td><td>0.000000000</td><td>0.000727491</td><td>0.000000000</td><td>0.000010400</td><td>0.000000000</td><td>...        </td><td>0.001276822</td><td>0.000043200</td><td>0.000040600</td><td>0.000030900</td><td>0.000056900</td><td>0.000109866</td><td>0.000224681</td><td>0.000000000</td><td>0.000028000</td><td>0.000000000</td></tr>\n",
       "\t<tr><th scope=row>59</th><td>0.004263874</td><td>0.000046100</td><td>0.000240828</td><td>0.000688468</td><td>0.000044500</td><td>0.018282009</td><td>0.008620314</td><td>0.000000000</td><td>0.000000000</td><td>0.000000000</td><td>...        </td><td>0.010934493</td><td>0.000191876</td><td>0.000601686</td><td>0.000123428</td><td>0.000406296</td><td>0.000000000</td><td>0.002071190</td><td>0.000000000</td><td>0.001365365</td><td>0.000100461</td></tr>\n",
       "\t<tr><th scope=row>60</th><td>0.002472698</td><td>0.000000000</td><td>0.000000000</td><td>0.001045277</td><td>0.000316268</td><td>0.015398164</td><td>0.012138698</td><td>0.000000000</td><td>0.000000000</td><td>0.000000000</td><td>...        </td><td>0.011351931</td><td>0.000000000</td><td>0.000938501</td><td>0.000372147</td><td>0.000391272</td><td>0.000000000</td><td>0.000977840</td><td>0.000000000</td><td>0.000618174</td><td>0.000047200</td></tr>\n",
       "</tbody>\n",
       "</table>\n"
      ],
      "text/latex": [
       "\\begin{tabular}{r|llllllllllllllllllllllllllllllllllllllllllllllllllll}\n",
       "  & X105.07\\_2.767 & X119.049\\_2.765 & X128.018\\_0.344 & X136.062\\_0.301 & X136.097\\_0.551 & X137.046\\_0.31 & X137.046\\_0.42 & X203.007\\_0.309 & X249.112\\_2.768 & X251.037\\_0.323 & ... & X580.362\\_2.984 & X599.241\\_2.765 & X604.362\\_2.948 & X620.356\\_2.913 & X682.364\\_3.313 & X764.524\\_3.729 & X790.38\\_2.768 & X792.329\\_2.764 & X795.335\\_2.768 & X811.309\\_2.773\\\\\n",
       "\\hline\n",
       "\t21 & 0.003922505 & 0.000144515 & 0.000000000 & 0.000265460 & 0.000000000 & 0.008383980 & 0.006287985 & 0.000000000 & 0.000098400 & 0.000000000 & ...         & 0.009491864 & 0.000314399 & 0.000619816 & 0.000298514 & 0.000245309 & 0.000329371 & 0.001928315 & 0.000075700 & 0.001254603 & 0.000139494\\\\\n",
       "\t22 & 0.005424795 & 0.000169238 & 0.000258005 & 0.000000000 & 0.000000000 & 0.013286151 & 0.006482171 & 0.000000000 & 0.000101462 & 0.000000000 & ...         & 0.011906966 & 0.000407544 & 0.000588452 & 0.000125678 & 0.000156795 & 0.000000000 & 0.002790552 & 0.000104305 & 0.001986027 & 0.000150506\\\\\n",
       "\t23 & 0.003141117 & 0.000100816 & 0.000053100 & 0.000292405 & 0.000000000 & 0.009675311 & 0.008801845 & 0.000000000 & 0.000028700 & 0.000000000 & ...         & 0.008768250 & 0.000234392 & 0.000853309 & 0.000352746 & 0.000170060 & 0.000126879 & 0.001471454 & 0.000029700 & 0.000950734 & 0.000175991\\\\\n",
       "\t24 & 0.003303506 & 0.000089100 & 0.000000000 & 0.000423420 & 0.000000000 & 0.013204058 & 0.012157699 & 0.000000000 & 0.000000000 & 0.000000000 & ...         & 0.012556312 & 0.000058000 & 0.001081238 & 0.000523180 & 0.000225384 & 0.000000000 & 0.000966637 & 0.000000000 & 0.000627816 & 0.000095800\\\\\n",
       "\t25 & 0.001476878 & 0.000000000 & 0.000097400 & 0.000168995 & 0.000000000 & 0.011418453 & 0.013469672 & 0.000228317 & 0.000000000 & 0.000574341 & ...         & 0.008956990 & 0.000000000 & 0.000793138 & 0.000323081 & 0.000044300 & 0.000581179 & 0.000632459 & 0.000000000 & 0.000298204 & 0.000034300\\\\\n",
       "\t26 & 0.005239874 & 0.000193567 & 0.000000000 & 0.000135214 & 0.000000000 & 0.013996443 & 0.007244390 & 0.000067600 & 0.000160405 & 0.000000000 & ...         & 0.009811577 & 0.000481787 & 0.000611905 & 0.000393870 & 0.000071600 & 0.000812356 & 0.003150958 & 0.000176765 & 0.002022099 & 0.000231479\\\\\n",
       "\t27 & 0.004438980 & 0.000184756 & 0.000126690 & 0.000352842 & 0.000304468 & 0.010129979 & 0.009845429 & 0.000000000 & 0.000107326 & 0.000000000 & ...         & 0.008166584 & 0.000395524 & 0.000520726 & 0.000315850 & 0.000190062 & 0.001266247 & 0.002259327 & 0.000075900 & 0.001573561 & 0.000242717\\\\\n",
       "\t28 & 0.003986130 & 0.000000000 & 0.000052200 & 0.000475764 & 0.000206789 & 0.009868887 & 0.014401504 & 0.000253538 & 0.000087700 & 0.000401828 & ...         & 0.008872355 & 0.000304929 & 0.000739363 & 0.000427545 & 0.000074900 & 0.000000000 & 0.002587770 & 0.000097800 & 0.001202268 & 0.000195685\\\\\n",
       "\t29 & 0.004361477 & 0.000155738 & 0.000133498 & 0.000139805 & 0.000380764 & 0.013049817 & 0.007303744 & 0.000000000 & 0.000094900 & 0.000000000 & ...         & 0.007822967 & 0.000294998 & 0.000799604 & 0.000253196 & 0.000206465 & 0.000488070 & 0.002506119 & 0.000045900 & 0.001502287 & 0.000176801\\\\\n",
       "\t30 & 0.004631478 & 0.000154865 & 0.000220112 & 0.000168725 & 0.000290793 & 0.012449184 & 0.008871832 & 0.000000000 & 0.000038200 & 0.000000000 & ...         & 0.009587302 & 0.000403666 & 0.000701161 & 0.000185232 & 0.000299202 & 0.000329089 & 0.002537535 & 0.000000000 & 0.001612193 & 0.000269307\\\\\n",
       "\t36 & 0.006112067 & 0.000179692 & 0.000071500 & 0.001003474 & 0.000000000 & 0.012041684 & 0.006340129 & 0.000000000 & 0.000128355 & 0.000606645 & ...         & 0.012360971 & 0.000538227 & 0.000675064 & 0.000100217 & 0.000175547 & 0.000000000 & 0.003352514 & 0.000191569 & 0.002490439 & 0.000188530\\\\\n",
       "\t37 & 0.004958712 & 0.000146298 & 0.000068400 & 0.000398120 & 0.000367864 & 0.009581240 & 0.004706574 & 0.000000000 & 0.000039800 & 0.000000000 & ...         & 0.010085516 & 0.000327831 & 0.000621940 & 0.000076000 & 0.000225882 & 0.000176739 & 0.003042464 & 0.000050400 & 0.001870023 & 0.000186748\\\\\n",
       "\t38 & 0.004629602 & 0.000050500 & 0.000000000 & 0.001140173 & 0.000514742 & 0.013155838 & 0.007016447 & 0.000000000 & 0.000000000 & 0.000000000 & ...         & 0.013281132 & 0.000163835 & 0.000594132 & 0.000125921 & 0.000321222 & 0.000000000 & 0.002142522 & 0.000000000 & 0.001415819 & 0.000172528\\\\\n",
       "\t39 & 0.002419561 & 0.000000000 & 0.000083900 & 0.000888621 & 0.000000000 & 0.009803809 & 0.007582256 & 0.000000000 & 0.000000000 & 0.000000000 & ...         & 0.009127684 & 0.000043100 & 0.000531241 & 0.000290154 & 0.000292539 & 0.000109047 & 0.000999699 & 0.000000000 & 0.000502264 & 0.000042800\\\\\n",
       "\t40 & 0.004319682 & 0.000101475 & 0.000190248 & 0.000755830 & 0.000206883 & 0.013009434 & 0.008795111 & 0.000000000 & 0.000038200 & 0.000000000 & ...         & 0.008062185 & 0.000304626 & 0.000613825 & 0.000222833 & 0.000231627 & 0.000746668 & 0.002221682 & 0.000000000 & 0.001589533 & 0.000195319\\\\\n",
       "\t41 & 0.005812134 & 0.000000000 & 0.000127465 & 0.000182777 & 0.000000000 & 0.014029290 & 0.006814226 & 0.000195991 & 0.000158885 & 0.000673406 & ...         & 0.007896486 & 0.000529105 & 0.000541130 & 0.000176939 & 0.000194786 & 0.000000000 & 0.003579473 & 0.000171731 & 0.002228653 & 0.000166990\\\\\n",
       "\t42 & 0.007131967 & 0.000284709 & 0.000176959 & 0.000911307 & 0.000297728 & 0.016096454 & 0.012728580 & 0.000000000 & 0.000188164 & 0.000000000 & ...         & 0.009459762 & 0.000713197 & 0.000619094 & 0.000189996 & 0.000148258 & 0.000000000 & 0.004700164 & 0.000248028 & 0.002917173 & 0.000161741\\\\\n",
       "\t43 & 0.005149477 & 0.000000000 & 0.000099600 & 0.000380732 & 0.000000000 & 0.011637008 & 0.011190990 & 0.000278428 & 0.000125821 & 0.000559550 & ...         & 0.006163154 & 0.000514948 & 0.000620370 & 0.000330032 & 0.000309295 & 0.000904200 & 0.002842349 & 0.000149942 & 0.001897603 & 0.000200850\\\\\n",
       "\t44 & 0.005852056 & 0.000205275 & 0.000149051 & 0.000000000 & 0.000000000 & 0.013880497 & 0.008753903 & 0.000185242 & 0.000103801 & 0.000720625 & ...         & 0.009576092 & 0.000517496 & 0.000657752 & 0.000237330 & 0.000126837 & 0.000078300 & 0.002703553 & 0.000129350 & 0.001789472 & 0.000190018\\\\\n",
       "\t45 & 0.002441388 & 0.000000000 & 0.000091500 & 0.000404913 & 0.000000000 & 0.012742854 & 0.008018868 & 0.000346286 & 0.000000000 & 0.000571642 & ...         & 0.009090697 & 0.000156607 & 0.000662946 & 0.000310745 & 0.000276265 & 0.000219648 & 0.001377499 & 0.000000000 & 0.000801887 & 0.000073400\\\\\n",
       "\t51 & 0.004812008 & 0.000137791 & 0.000207329 & 0.000686234 & 0.000000000 & 0.012971501 & 0.006485750 & 0.000000000 & 0.000037600 & 0.000000000 & ...         & 0.008661615 & 0.000358154 & 0.000694603 & 0.000152549 & 0.000186328 & 0.000065200 & 0.002636144 & 0.000000000 & 0.001820194 & 0.000168366\\\\\n",
       "\t52 & 0.003743815 & 0.000095400 & 0.000187663 & 0.000135220 & 0.000762932 & 0.011825442 & 0.006920881 & 0.000000000 & 0.000000000 & 0.000000000 & ...         & 0.011825442 & 0.000099700 & 0.000773831 & 0.000272727 & 0.000429803 & 0.000000000 & 0.001841935 & 0.000000000 & 0.001193443 & 0.000165247\\\\\n",
       "\t53 & 0.002465422 & 0.000000000 & 0.000130802 & 0.000355857 & 0.000405808 & 0.007758963 & 0.006381632 & 0.000000000 & 0.000000000 & 0.000000000 & ...         & 0.008172162 & 0.000113055 & 0.000505021 & 0.000176378 & 0.000495839 & 0.000927403 & 0.001101865 & 0.000000000 & 0.000707030 & 0.000082800\\\\\n",
       "\t54 & 0.003096777 & 0.000000000 & 0.000187929 & 0.000638955 & 0.000000000 & 0.010074325 & 0.007173546 & 0.000292918 & 0.000000000 & 0.000642875 & ...         & 0.009172731 & 0.000188864 & 0.000580156 & 0.000213929 & 0.000249739 & 0.000000000 & 0.001920786 & 0.000034100 & 0.001015272 & 0.000121553\\\\\n",
       "\t55 & 0.004164029 & 0.000084800 & 0.000098200 & 0.000340297 & 0.000000000 & 0.009024862 & 0.005163060 & 0.000000000 & 0.000070400 & 0.000000000 & ...         & 0.008269292 & 0.000344584 & 0.000533096 & 0.000229586 & 0.000436551 & 0.001658056 & 0.001968679 & 0.000045800 & 0.001292864 & 0.000128311\\\\\n",
       "\t56 & 0.005268243 & 0.000190121 & 0.000130381 & 0.000619793 & 0.000519077 & 0.013712926 & 0.009335636 & 0.000000000 & 0.000096400 & 0.000000000 & ...         & 0.007243834 & 0.000468719 & 0.000728257 & 0.000328769 & 0.000085700 & 0.000949058 & 0.002854923 & 0.000128294 & 0.001882622 & 0.000198014\\\\\n",
       "\t57 & 0.001305645 & 0.000000000 & 0.000000000 & 0.000101759 & 0.000015900 & 0.001026278 & 0.002605500 & 0.000000000 & 0.000017400 & 0.000000000 & ...         & 0.002677875 & 0.000102483 & 0.000179490 & 0.000119419 & 0.000021700 & 0.000000000 & 0.000662955 & 0.000000000 & 0.000172253 & 0.000000000\\\\\n",
       "\t58 & 0.000725512 & 0.000007140 & 0.000000000 & 0.000000000 & 0.000050100 & 0.000000000 & 0.000727491 & 0.000000000 & 0.000010400 & 0.000000000 & ...         & 0.001276822 & 0.000043200 & 0.000040600 & 0.000030900 & 0.000056900 & 0.000109866 & 0.000224681 & 0.000000000 & 0.000028000 & 0.000000000\\\\\n",
       "\t59 & 0.004263874 & 0.000046100 & 0.000240828 & 0.000688468 & 0.000044500 & 0.018282009 & 0.008620314 & 0.000000000 & 0.000000000 & 0.000000000 & ...         & 0.010934493 & 0.000191876 & 0.000601686 & 0.000123428 & 0.000406296 & 0.000000000 & 0.002071190 & 0.000000000 & 0.001365365 & 0.000100461\\\\\n",
       "\t60 & 0.002472698 & 0.000000000 & 0.000000000 & 0.001045277 & 0.000316268 & 0.015398164 & 0.012138698 & 0.000000000 & 0.000000000 & 0.000000000 & ...         & 0.011351931 & 0.000000000 & 0.000938501 & 0.000372147 & 0.000391272 & 0.000000000 & 0.000977840 & 0.000000000 & 0.000618174 & 0.000047200\\\\\n",
       "\\end{tabular}\n"
      ],
      "text/markdown": [
       "\n",
       "| <!--/--> | X105.07_2.767 | X119.049_2.765 | X128.018_0.344 | X136.062_0.301 | X136.097_0.551 | X137.046_0.31 | X137.046_0.42 | X203.007_0.309 | X249.112_2.768 | X251.037_0.323 | ... | X580.362_2.984 | X599.241_2.765 | X604.362_2.948 | X620.356_2.913 | X682.364_3.313 | X764.524_3.729 | X790.38_2.768 | X792.329_2.764 | X795.335_2.768 | X811.309_2.773 |\n",
       "|---|---|---|---|---|---|---|---|---|---|---|---|---|---|---|---|---|---|---|---|---|---|\n",
       "| 21 | 0.003922505 | 0.000144515 | 0.000000000 | 0.000265460 | 0.000000000 | 0.008383980 | 0.006287985 | 0.000000000 | 0.000098400 | 0.000000000 | ...         | 0.009491864 | 0.000314399 | 0.000619816 | 0.000298514 | 0.000245309 | 0.000329371 | 0.001928315 | 0.000075700 | 0.001254603 | 0.000139494 |\n",
       "| 22 | 0.005424795 | 0.000169238 | 0.000258005 | 0.000000000 | 0.000000000 | 0.013286151 | 0.006482171 | 0.000000000 | 0.000101462 | 0.000000000 | ...         | 0.011906966 | 0.000407544 | 0.000588452 | 0.000125678 | 0.000156795 | 0.000000000 | 0.002790552 | 0.000104305 | 0.001986027 | 0.000150506 |\n",
       "| 23 | 0.003141117 | 0.000100816 | 0.000053100 | 0.000292405 | 0.000000000 | 0.009675311 | 0.008801845 | 0.000000000 | 0.000028700 | 0.000000000 | ...         | 0.008768250 | 0.000234392 | 0.000853309 | 0.000352746 | 0.000170060 | 0.000126879 | 0.001471454 | 0.000029700 | 0.000950734 | 0.000175991 |\n",
       "| 24 | 0.003303506 | 0.000089100 | 0.000000000 | 0.000423420 | 0.000000000 | 0.013204058 | 0.012157699 | 0.000000000 | 0.000000000 | 0.000000000 | ...         | 0.012556312 | 0.000058000 | 0.001081238 | 0.000523180 | 0.000225384 | 0.000000000 | 0.000966637 | 0.000000000 | 0.000627816 | 0.000095800 |\n",
       "| 25 | 0.001476878 | 0.000000000 | 0.000097400 | 0.000168995 | 0.000000000 | 0.011418453 | 0.013469672 | 0.000228317 | 0.000000000 | 0.000574341 | ...         | 0.008956990 | 0.000000000 | 0.000793138 | 0.000323081 | 0.000044300 | 0.000581179 | 0.000632459 | 0.000000000 | 0.000298204 | 0.000034300 |\n",
       "| 26 | 0.005239874 | 0.000193567 | 0.000000000 | 0.000135214 | 0.000000000 | 0.013996443 | 0.007244390 | 0.000067600 | 0.000160405 | 0.000000000 | ...         | 0.009811577 | 0.000481787 | 0.000611905 | 0.000393870 | 0.000071600 | 0.000812356 | 0.003150958 | 0.000176765 | 0.002022099 | 0.000231479 |\n",
       "| 27 | 0.004438980 | 0.000184756 | 0.000126690 | 0.000352842 | 0.000304468 | 0.010129979 | 0.009845429 | 0.000000000 | 0.000107326 | 0.000000000 | ...         | 0.008166584 | 0.000395524 | 0.000520726 | 0.000315850 | 0.000190062 | 0.001266247 | 0.002259327 | 0.000075900 | 0.001573561 | 0.000242717 |\n",
       "| 28 | 0.003986130 | 0.000000000 | 0.000052200 | 0.000475764 | 0.000206789 | 0.009868887 | 0.014401504 | 0.000253538 | 0.000087700 | 0.000401828 | ...         | 0.008872355 | 0.000304929 | 0.000739363 | 0.000427545 | 0.000074900 | 0.000000000 | 0.002587770 | 0.000097800 | 0.001202268 | 0.000195685 |\n",
       "| 29 | 0.004361477 | 0.000155738 | 0.000133498 | 0.000139805 | 0.000380764 | 0.013049817 | 0.007303744 | 0.000000000 | 0.000094900 | 0.000000000 | ...         | 0.007822967 | 0.000294998 | 0.000799604 | 0.000253196 | 0.000206465 | 0.000488070 | 0.002506119 | 0.000045900 | 0.001502287 | 0.000176801 |\n",
       "| 30 | 0.004631478 | 0.000154865 | 0.000220112 | 0.000168725 | 0.000290793 | 0.012449184 | 0.008871832 | 0.000000000 | 0.000038200 | 0.000000000 | ...         | 0.009587302 | 0.000403666 | 0.000701161 | 0.000185232 | 0.000299202 | 0.000329089 | 0.002537535 | 0.000000000 | 0.001612193 | 0.000269307 |\n",
       "| 36 | 0.006112067 | 0.000179692 | 0.000071500 | 0.001003474 | 0.000000000 | 0.012041684 | 0.006340129 | 0.000000000 | 0.000128355 | 0.000606645 | ...         | 0.012360971 | 0.000538227 | 0.000675064 | 0.000100217 | 0.000175547 | 0.000000000 | 0.003352514 | 0.000191569 | 0.002490439 | 0.000188530 |\n",
       "| 37 | 0.004958712 | 0.000146298 | 0.000068400 | 0.000398120 | 0.000367864 | 0.009581240 | 0.004706574 | 0.000000000 | 0.000039800 | 0.000000000 | ...         | 0.010085516 | 0.000327831 | 0.000621940 | 0.000076000 | 0.000225882 | 0.000176739 | 0.003042464 | 0.000050400 | 0.001870023 | 0.000186748 |\n",
       "| 38 | 0.004629602 | 0.000050500 | 0.000000000 | 0.001140173 | 0.000514742 | 0.013155838 | 0.007016447 | 0.000000000 | 0.000000000 | 0.000000000 | ...         | 0.013281132 | 0.000163835 | 0.000594132 | 0.000125921 | 0.000321222 | 0.000000000 | 0.002142522 | 0.000000000 | 0.001415819 | 0.000172528 |\n",
       "| 39 | 0.002419561 | 0.000000000 | 0.000083900 | 0.000888621 | 0.000000000 | 0.009803809 | 0.007582256 | 0.000000000 | 0.000000000 | 0.000000000 | ...         | 0.009127684 | 0.000043100 | 0.000531241 | 0.000290154 | 0.000292539 | 0.000109047 | 0.000999699 | 0.000000000 | 0.000502264 | 0.000042800 |\n",
       "| 40 | 0.004319682 | 0.000101475 | 0.000190248 | 0.000755830 | 0.000206883 | 0.013009434 | 0.008795111 | 0.000000000 | 0.000038200 | 0.000000000 | ...         | 0.008062185 | 0.000304626 | 0.000613825 | 0.000222833 | 0.000231627 | 0.000746668 | 0.002221682 | 0.000000000 | 0.001589533 | 0.000195319 |\n",
       "| 41 | 0.005812134 | 0.000000000 | 0.000127465 | 0.000182777 | 0.000000000 | 0.014029290 | 0.006814226 | 0.000195991 | 0.000158885 | 0.000673406 | ...         | 0.007896486 | 0.000529105 | 0.000541130 | 0.000176939 | 0.000194786 | 0.000000000 | 0.003579473 | 0.000171731 | 0.002228653 | 0.000166990 |\n",
       "| 42 | 0.007131967 | 0.000284709 | 0.000176959 | 0.000911307 | 0.000297728 | 0.016096454 | 0.012728580 | 0.000000000 | 0.000188164 | 0.000000000 | ...         | 0.009459762 | 0.000713197 | 0.000619094 | 0.000189996 | 0.000148258 | 0.000000000 | 0.004700164 | 0.000248028 | 0.002917173 | 0.000161741 |\n",
       "| 43 | 0.005149477 | 0.000000000 | 0.000099600 | 0.000380732 | 0.000000000 | 0.011637008 | 0.011190990 | 0.000278428 | 0.000125821 | 0.000559550 | ...         | 0.006163154 | 0.000514948 | 0.000620370 | 0.000330032 | 0.000309295 | 0.000904200 | 0.002842349 | 0.000149942 | 0.001897603 | 0.000200850 |\n",
       "| 44 | 0.005852056 | 0.000205275 | 0.000149051 | 0.000000000 | 0.000000000 | 0.013880497 | 0.008753903 | 0.000185242 | 0.000103801 | 0.000720625 | ...         | 0.009576092 | 0.000517496 | 0.000657752 | 0.000237330 | 0.000126837 | 0.000078300 | 0.002703553 | 0.000129350 | 0.001789472 | 0.000190018 |\n",
       "| 45 | 0.002441388 | 0.000000000 | 0.000091500 | 0.000404913 | 0.000000000 | 0.012742854 | 0.008018868 | 0.000346286 | 0.000000000 | 0.000571642 | ...         | 0.009090697 | 0.000156607 | 0.000662946 | 0.000310745 | 0.000276265 | 0.000219648 | 0.001377499 | 0.000000000 | 0.000801887 | 0.000073400 |\n",
       "| 51 | 0.004812008 | 0.000137791 | 0.000207329 | 0.000686234 | 0.000000000 | 0.012971501 | 0.006485750 | 0.000000000 | 0.000037600 | 0.000000000 | ...         | 0.008661615 | 0.000358154 | 0.000694603 | 0.000152549 | 0.000186328 | 0.000065200 | 0.002636144 | 0.000000000 | 0.001820194 | 0.000168366 |\n",
       "| 52 | 0.003743815 | 0.000095400 | 0.000187663 | 0.000135220 | 0.000762932 | 0.011825442 | 0.006920881 | 0.000000000 | 0.000000000 | 0.000000000 | ...         | 0.011825442 | 0.000099700 | 0.000773831 | 0.000272727 | 0.000429803 | 0.000000000 | 0.001841935 | 0.000000000 | 0.001193443 | 0.000165247 |\n",
       "| 53 | 0.002465422 | 0.000000000 | 0.000130802 | 0.000355857 | 0.000405808 | 0.007758963 | 0.006381632 | 0.000000000 | 0.000000000 | 0.000000000 | ...         | 0.008172162 | 0.000113055 | 0.000505021 | 0.000176378 | 0.000495839 | 0.000927403 | 0.001101865 | 0.000000000 | 0.000707030 | 0.000082800 |\n",
       "| 54 | 0.003096777 | 0.000000000 | 0.000187929 | 0.000638955 | 0.000000000 | 0.010074325 | 0.007173546 | 0.000292918 | 0.000000000 | 0.000642875 | ...         | 0.009172731 | 0.000188864 | 0.000580156 | 0.000213929 | 0.000249739 | 0.000000000 | 0.001920786 | 0.000034100 | 0.001015272 | 0.000121553 |\n",
       "| 55 | 0.004164029 | 0.000084800 | 0.000098200 | 0.000340297 | 0.000000000 | 0.009024862 | 0.005163060 | 0.000000000 | 0.000070400 | 0.000000000 | ...         | 0.008269292 | 0.000344584 | 0.000533096 | 0.000229586 | 0.000436551 | 0.001658056 | 0.001968679 | 0.000045800 | 0.001292864 | 0.000128311 |\n",
       "| 56 | 0.005268243 | 0.000190121 | 0.000130381 | 0.000619793 | 0.000519077 | 0.013712926 | 0.009335636 | 0.000000000 | 0.000096400 | 0.000000000 | ...         | 0.007243834 | 0.000468719 | 0.000728257 | 0.000328769 | 0.000085700 | 0.000949058 | 0.002854923 | 0.000128294 | 0.001882622 | 0.000198014 |\n",
       "| 57 | 0.001305645 | 0.000000000 | 0.000000000 | 0.000101759 | 0.000015900 | 0.001026278 | 0.002605500 | 0.000000000 | 0.000017400 | 0.000000000 | ...         | 0.002677875 | 0.000102483 | 0.000179490 | 0.000119419 | 0.000021700 | 0.000000000 | 0.000662955 | 0.000000000 | 0.000172253 | 0.000000000 |\n",
       "| 58 | 0.000725512 | 0.000007140 | 0.000000000 | 0.000000000 | 0.000050100 | 0.000000000 | 0.000727491 | 0.000000000 | 0.000010400 | 0.000000000 | ...         | 0.001276822 | 0.000043200 | 0.000040600 | 0.000030900 | 0.000056900 | 0.000109866 | 0.000224681 | 0.000000000 | 0.000028000 | 0.000000000 |\n",
       "| 59 | 0.004263874 | 0.000046100 | 0.000240828 | 0.000688468 | 0.000044500 | 0.018282009 | 0.008620314 | 0.000000000 | 0.000000000 | 0.000000000 | ...         | 0.010934493 | 0.000191876 | 0.000601686 | 0.000123428 | 0.000406296 | 0.000000000 | 0.002071190 | 0.000000000 | 0.001365365 | 0.000100461 |\n",
       "| 60 | 0.002472698 | 0.000000000 | 0.000000000 | 0.001045277 | 0.000316268 | 0.015398164 | 0.012138698 | 0.000000000 | 0.000000000 | 0.000000000 | ...         | 0.011351931 | 0.000000000 | 0.000938501 | 0.000372147 | 0.000391272 | 0.000000000 | 0.000977840 | 0.000000000 | 0.000618174 | 0.000047200 |\n",
       "\n"
      ],
      "text/plain": [
       "   X105.07_2.767 X119.049_2.765 X128.018_0.344 X136.062_0.301 X136.097_0.551\n",
       "21 0.003922505   0.000144515    0.000000000    0.000265460    0.000000000   \n",
       "22 0.005424795   0.000169238    0.000258005    0.000000000    0.000000000   \n",
       "23 0.003141117   0.000100816    0.000053100    0.000292405    0.000000000   \n",
       "24 0.003303506   0.000089100    0.000000000    0.000423420    0.000000000   \n",
       "25 0.001476878   0.000000000    0.000097400    0.000168995    0.000000000   \n",
       "26 0.005239874   0.000193567    0.000000000    0.000135214    0.000000000   \n",
       "27 0.004438980   0.000184756    0.000126690    0.000352842    0.000304468   \n",
       "28 0.003986130   0.000000000    0.000052200    0.000475764    0.000206789   \n",
       "29 0.004361477   0.000155738    0.000133498    0.000139805    0.000380764   \n",
       "30 0.004631478   0.000154865    0.000220112    0.000168725    0.000290793   \n",
       "36 0.006112067   0.000179692    0.000071500    0.001003474    0.000000000   \n",
       "37 0.004958712   0.000146298    0.000068400    0.000398120    0.000367864   \n",
       "38 0.004629602   0.000050500    0.000000000    0.001140173    0.000514742   \n",
       "39 0.002419561   0.000000000    0.000083900    0.000888621    0.000000000   \n",
       "40 0.004319682   0.000101475    0.000190248    0.000755830    0.000206883   \n",
       "41 0.005812134   0.000000000    0.000127465    0.000182777    0.000000000   \n",
       "42 0.007131967   0.000284709    0.000176959    0.000911307    0.000297728   \n",
       "43 0.005149477   0.000000000    0.000099600    0.000380732    0.000000000   \n",
       "44 0.005852056   0.000205275    0.000149051    0.000000000    0.000000000   \n",
       "45 0.002441388   0.000000000    0.000091500    0.000404913    0.000000000   \n",
       "51 0.004812008   0.000137791    0.000207329    0.000686234    0.000000000   \n",
       "52 0.003743815   0.000095400    0.000187663    0.000135220    0.000762932   \n",
       "53 0.002465422   0.000000000    0.000130802    0.000355857    0.000405808   \n",
       "54 0.003096777   0.000000000    0.000187929    0.000638955    0.000000000   \n",
       "55 0.004164029   0.000084800    0.000098200    0.000340297    0.000000000   \n",
       "56 0.005268243   0.000190121    0.000130381    0.000619793    0.000519077   \n",
       "57 0.001305645   0.000000000    0.000000000    0.000101759    0.000015900   \n",
       "58 0.000725512   0.000007140    0.000000000    0.000000000    0.000050100   \n",
       "59 0.004263874   0.000046100    0.000240828    0.000688468    0.000044500   \n",
       "60 0.002472698   0.000000000    0.000000000    0.001045277    0.000316268   \n",
       "   X137.046_0.31 X137.046_0.42 X203.007_0.309 X249.112_2.768 X251.037_0.323 ...\n",
       "21 0.008383980   0.006287985   0.000000000    0.000098400    0.000000000    ...\n",
       "22 0.013286151   0.006482171   0.000000000    0.000101462    0.000000000    ...\n",
       "23 0.009675311   0.008801845   0.000000000    0.000028700    0.000000000    ...\n",
       "24 0.013204058   0.012157699   0.000000000    0.000000000    0.000000000    ...\n",
       "25 0.011418453   0.013469672   0.000228317    0.000000000    0.000574341    ...\n",
       "26 0.013996443   0.007244390   0.000067600    0.000160405    0.000000000    ...\n",
       "27 0.010129979   0.009845429   0.000000000    0.000107326    0.000000000    ...\n",
       "28 0.009868887   0.014401504   0.000253538    0.000087700    0.000401828    ...\n",
       "29 0.013049817   0.007303744   0.000000000    0.000094900    0.000000000    ...\n",
       "30 0.012449184   0.008871832   0.000000000    0.000038200    0.000000000    ...\n",
       "36 0.012041684   0.006340129   0.000000000    0.000128355    0.000606645    ...\n",
       "37 0.009581240   0.004706574   0.000000000    0.000039800    0.000000000    ...\n",
       "38 0.013155838   0.007016447   0.000000000    0.000000000    0.000000000    ...\n",
       "39 0.009803809   0.007582256   0.000000000    0.000000000    0.000000000    ...\n",
       "40 0.013009434   0.008795111   0.000000000    0.000038200    0.000000000    ...\n",
       "41 0.014029290   0.006814226   0.000195991    0.000158885    0.000673406    ...\n",
       "42 0.016096454   0.012728580   0.000000000    0.000188164    0.000000000    ...\n",
       "43 0.011637008   0.011190990   0.000278428    0.000125821    0.000559550    ...\n",
       "44 0.013880497   0.008753903   0.000185242    0.000103801    0.000720625    ...\n",
       "45 0.012742854   0.008018868   0.000346286    0.000000000    0.000571642    ...\n",
       "51 0.012971501   0.006485750   0.000000000    0.000037600    0.000000000    ...\n",
       "52 0.011825442   0.006920881   0.000000000    0.000000000    0.000000000    ...\n",
       "53 0.007758963   0.006381632   0.000000000    0.000000000    0.000000000    ...\n",
       "54 0.010074325   0.007173546   0.000292918    0.000000000    0.000642875    ...\n",
       "55 0.009024862   0.005163060   0.000000000    0.000070400    0.000000000    ...\n",
       "56 0.013712926   0.009335636   0.000000000    0.000096400    0.000000000    ...\n",
       "57 0.001026278   0.002605500   0.000000000    0.000017400    0.000000000    ...\n",
       "58 0.000000000   0.000727491   0.000000000    0.000010400    0.000000000    ...\n",
       "59 0.018282009   0.008620314   0.000000000    0.000000000    0.000000000    ...\n",
       "60 0.015398164   0.012138698   0.000000000    0.000000000    0.000000000    ...\n",
       "   X580.362_2.984 X599.241_2.765 X604.362_2.948 X620.356_2.913 X682.364_3.313\n",
       "21 0.009491864    0.000314399    0.000619816    0.000298514    0.000245309   \n",
       "22 0.011906966    0.000407544    0.000588452    0.000125678    0.000156795   \n",
       "23 0.008768250    0.000234392    0.000853309    0.000352746    0.000170060   \n",
       "24 0.012556312    0.000058000    0.001081238    0.000523180    0.000225384   \n",
       "25 0.008956990    0.000000000    0.000793138    0.000323081    0.000044300   \n",
       "26 0.009811577    0.000481787    0.000611905    0.000393870    0.000071600   \n",
       "27 0.008166584    0.000395524    0.000520726    0.000315850    0.000190062   \n",
       "28 0.008872355    0.000304929    0.000739363    0.000427545    0.000074900   \n",
       "29 0.007822967    0.000294998    0.000799604    0.000253196    0.000206465   \n",
       "30 0.009587302    0.000403666    0.000701161    0.000185232    0.000299202   \n",
       "36 0.012360971    0.000538227    0.000675064    0.000100217    0.000175547   \n",
       "37 0.010085516    0.000327831    0.000621940    0.000076000    0.000225882   \n",
       "38 0.013281132    0.000163835    0.000594132    0.000125921    0.000321222   \n",
       "39 0.009127684    0.000043100    0.000531241    0.000290154    0.000292539   \n",
       "40 0.008062185    0.000304626    0.000613825    0.000222833    0.000231627   \n",
       "41 0.007896486    0.000529105    0.000541130    0.000176939    0.000194786   \n",
       "42 0.009459762    0.000713197    0.000619094    0.000189996    0.000148258   \n",
       "43 0.006163154    0.000514948    0.000620370    0.000330032    0.000309295   \n",
       "44 0.009576092    0.000517496    0.000657752    0.000237330    0.000126837   \n",
       "45 0.009090697    0.000156607    0.000662946    0.000310745    0.000276265   \n",
       "51 0.008661615    0.000358154    0.000694603    0.000152549    0.000186328   \n",
       "52 0.011825442    0.000099700    0.000773831    0.000272727    0.000429803   \n",
       "53 0.008172162    0.000113055    0.000505021    0.000176378    0.000495839   \n",
       "54 0.009172731    0.000188864    0.000580156    0.000213929    0.000249739   \n",
       "55 0.008269292    0.000344584    0.000533096    0.000229586    0.000436551   \n",
       "56 0.007243834    0.000468719    0.000728257    0.000328769    0.000085700   \n",
       "57 0.002677875    0.000102483    0.000179490    0.000119419    0.000021700   \n",
       "58 0.001276822    0.000043200    0.000040600    0.000030900    0.000056900   \n",
       "59 0.010934493    0.000191876    0.000601686    0.000123428    0.000406296   \n",
       "60 0.011351931    0.000000000    0.000938501    0.000372147    0.000391272   \n",
       "   X764.524_3.729 X790.38_2.768 X792.329_2.764 X795.335_2.768 X811.309_2.773\n",
       "21 0.000329371    0.001928315   0.000075700    0.001254603    0.000139494   \n",
       "22 0.000000000    0.002790552   0.000104305    0.001986027    0.000150506   \n",
       "23 0.000126879    0.001471454   0.000029700    0.000950734    0.000175991   \n",
       "24 0.000000000    0.000966637   0.000000000    0.000627816    0.000095800   \n",
       "25 0.000581179    0.000632459   0.000000000    0.000298204    0.000034300   \n",
       "26 0.000812356    0.003150958   0.000176765    0.002022099    0.000231479   \n",
       "27 0.001266247    0.002259327   0.000075900    0.001573561    0.000242717   \n",
       "28 0.000000000    0.002587770   0.000097800    0.001202268    0.000195685   \n",
       "29 0.000488070    0.002506119   0.000045900    0.001502287    0.000176801   \n",
       "30 0.000329089    0.002537535   0.000000000    0.001612193    0.000269307   \n",
       "36 0.000000000    0.003352514   0.000191569    0.002490439    0.000188530   \n",
       "37 0.000176739    0.003042464   0.000050400    0.001870023    0.000186748   \n",
       "38 0.000000000    0.002142522   0.000000000    0.001415819    0.000172528   \n",
       "39 0.000109047    0.000999699   0.000000000    0.000502264    0.000042800   \n",
       "40 0.000746668    0.002221682   0.000000000    0.001589533    0.000195319   \n",
       "41 0.000000000    0.003579473   0.000171731    0.002228653    0.000166990   \n",
       "42 0.000000000    0.004700164   0.000248028    0.002917173    0.000161741   \n",
       "43 0.000904200    0.002842349   0.000149942    0.001897603    0.000200850   \n",
       "44 0.000078300    0.002703553   0.000129350    0.001789472    0.000190018   \n",
       "45 0.000219648    0.001377499   0.000000000    0.000801887    0.000073400   \n",
       "51 0.000065200    0.002636144   0.000000000    0.001820194    0.000168366   \n",
       "52 0.000000000    0.001841935   0.000000000    0.001193443    0.000165247   \n",
       "53 0.000927403    0.001101865   0.000000000    0.000707030    0.000082800   \n",
       "54 0.000000000    0.001920786   0.000034100    0.001015272    0.000121553   \n",
       "55 0.001658056    0.001968679   0.000045800    0.001292864    0.000128311   \n",
       "56 0.000949058    0.002854923   0.000128294    0.001882622    0.000198014   \n",
       "57 0.000000000    0.000662955   0.000000000    0.000172253    0.000000000   \n",
       "58 0.000109866    0.000224681   0.000000000    0.000028000    0.000000000   \n",
       "59 0.000000000    0.002071190   0.000000000    0.001365365    0.000100461   \n",
       "60 0.000000000    0.000977840   0.000000000    0.000618174    0.000047200   "
      ]
     },
     "metadata": {},
     "output_type": "display_data"
    },
    {
     "data": {
      "text/html": [
       "<table>\n",
       "<thead><tr><th></th><th scope=col>filename</th><th scope=col>MouseID</th><th scope=col>Treatmentgroup</th><th scope=col>DPI</th><th scope=col>organ</th><th scope=col>well_position</th><th scope=col>plate</th><th scope=col>X105.07_2.767</th><th scope=col>X119.049_2.765</th><th scope=col>X128.018_0.344</th><th scope=col>...</th><th scope=col>X580.362_2.984</th><th scope=col>X599.241_2.765</th><th scope=col>X604.362_2.948</th><th scope=col>X620.356_2.913</th><th scope=col>X682.364_3.313</th><th scope=col>X764.524_3.729</th><th scope=col>X790.38_2.768</th><th scope=col>X792.329_2.764</th><th scope=col>X795.335_2.768</th><th scope=col>X811.309_2.773</th></tr></thead>\n",
       "<tbody>\n",
       "\t<tr><th scope=row>21</th><td>X611_Group9_142dpi_LV_bottom_181_G_B9_P132.mzXML </td><td>611                                              </td><td>Group9                                           </td><td>142dpi                                           </td><td>LV_bottom                                        </td><td>B9                                               </td><td>P132                                             </td><td>0.003922505                                      </td><td>0.000144515                                      </td><td>0.000000000                                      </td><td>...                                              </td><td>0.009491864                                      </td><td>0.000314399                                      </td><td>0.000619816                                      </td><td>0.000298514                                      </td><td>0.000245309                                      </td><td>0.000329371                                      </td><td>0.001928315                                      </td><td>0.000075700                                      </td><td>0.001254603                                      </td><td>0.000139494                                      </td></tr>\n",
       "\t<tr><th scope=row>22</th><td>X612_Group9_142dpi_LV_bottom_182_G_B10_P132.mzXML</td><td>612                                              </td><td>Group9                                           </td><td>142dpi                                           </td><td>LV_bottom                                        </td><td>B10                                              </td><td>P132                                             </td><td>0.005424795                                      </td><td>0.000169238                                      </td><td>0.000258005                                      </td><td>...                                              </td><td>0.011906966                                      </td><td>0.000407544                                      </td><td>0.000588452                                      </td><td>0.000125678                                      </td><td>0.000156795                                      </td><td>0.000000000                                      </td><td>0.002790552                                      </td><td>0.000104305                                      </td><td>0.001986027                                      </td><td>0.000150506                                      </td></tr>\n",
       "\t<tr><th scope=row>23</th><td>X613_Group9_142dpi_LV_bottom_183_G_B11_P132.mzXML</td><td>613                                              </td><td>Group9                                           </td><td>142dpi                                           </td><td>LV_bottom                                        </td><td>B11                                              </td><td>P132                                             </td><td>0.003141117                                      </td><td>0.000100816                                      </td><td>0.000053100                                      </td><td>...                                              </td><td>0.008768250                                      </td><td>0.000234392                                      </td><td>0.000853309                                      </td><td>0.000352746                                      </td><td>0.000170060                                      </td><td>0.000126879                                      </td><td>0.001471454                                      </td><td>0.000029700                                      </td><td>0.000950734                                      </td><td>0.000175991                                      </td></tr>\n",
       "\t<tr><th scope=row>24</th><td>X614_Group9_142dpi_LV_bottom_184_G_B12_P132.mzXML</td><td>614                                              </td><td>Group9                                           </td><td>142dpi                                           </td><td>LV_bottom                                        </td><td>B12                                              </td><td>P132                                             </td><td>0.003303506                                      </td><td>0.000089100                                      </td><td>0.000000000                                      </td><td>...                                              </td><td>0.012556312                                      </td><td>0.000058000                                      </td><td>0.001081238                                      </td><td>0.000523180                                      </td><td>0.000225384                                      </td><td>0.000000000                                      </td><td>0.000966637                                      </td><td>0.000000000                                      </td><td>0.000627816                                      </td><td>0.000095800                                      </td></tr>\n",
       "\t<tr><th scope=row>25</th><td>X615_Group9_142dpi_LV_bottom_185_G_C1_P132.mzXML </td><td>615                                              </td><td>Group9                                           </td><td>142dpi                                           </td><td>LV_bottom                                        </td><td>C1                                               </td><td>P132                                             </td><td>0.001476878                                      </td><td>0.000000000                                      </td><td>0.000097400                                      </td><td>...                                              </td><td>0.008956990                                      </td><td>0.000000000                                      </td><td>0.000793138                                      </td><td>0.000323081                                      </td><td>0.000044300                                      </td><td>0.000581179                                      </td><td>0.000632459                                      </td><td>0.000000000                                      </td><td>0.000298204                                      </td><td>0.000034300                                      </td></tr>\n",
       "\t<tr><th scope=row>26</th><td>X631_Group15_142dpi_LV_bottom_191_G_C7_P132.mzXML</td><td>631                                              </td><td>Group15                                          </td><td>142dpi                                           </td><td>LV_bottom                                        </td><td>C7                                               </td><td>P132                                             </td><td>0.005239874                                      </td><td>0.000193567                                      </td><td>0.000000000                                      </td><td>...                                              </td><td>0.009811577                                      </td><td>0.000481787                                      </td><td>0.000611905                                      </td><td>0.000393870                                      </td><td>0.000071600                                      </td><td>0.000812356                                      </td><td>0.003150958                                      </td><td>0.000176765                                      </td><td>0.002022099                                      </td><td>0.000231479                                      </td></tr>\n",
       "</tbody>\n",
       "</table>\n"
      ],
      "text/latex": [
       "\\begin{tabular}{r|lllllllllllllllllllllllllllllllllllllllllllllllllllllllllll}\n",
       "  & filename & MouseID & Treatmentgroup & DPI & organ & well\\_position & plate & X105.07\\_2.767 & X119.049\\_2.765 & X128.018\\_0.344 & ... & X580.362\\_2.984 & X599.241\\_2.765 & X604.362\\_2.948 & X620.356\\_2.913 & X682.364\\_3.313 & X764.524\\_3.729 & X790.38\\_2.768 & X792.329\\_2.764 & X795.335\\_2.768 & X811.309\\_2.773\\\\\n",
       "\\hline\n",
       "\t21 & X611\\_Group9\\_142dpi\\_LV\\_bottom\\_181\\_G\\_B9\\_P132.mzXML  & 611                                                               & Group9                                                            & 142dpi                                                            & LV\\_bottom                                                       & B9                                                                & P132                                                              & 0.003922505                                                       & 0.000144515                                                       & 0.000000000                                                       & ...                                                               & 0.009491864                                                       & 0.000314399                                                       & 0.000619816                                                       & 0.000298514                                                       & 0.000245309                                                       & 0.000329371                                                       & 0.001928315                                                       & 0.000075700                                                       & 0.001254603                                                       & 0.000139494                                                      \\\\\n",
       "\t22 & X612\\_Group9\\_142dpi\\_LV\\_bottom\\_182\\_G\\_B10\\_P132.mzXML & 612                                                               & Group9                                                            & 142dpi                                                            & LV\\_bottom                                                       & B10                                                               & P132                                                              & 0.005424795                                                       & 0.000169238                                                       & 0.000258005                                                       & ...                                                               & 0.011906966                                                       & 0.000407544                                                       & 0.000588452                                                       & 0.000125678                                                       & 0.000156795                                                       & 0.000000000                                                       & 0.002790552                                                       & 0.000104305                                                       & 0.001986027                                                       & 0.000150506                                                      \\\\\n",
       "\t23 & X613\\_Group9\\_142dpi\\_LV\\_bottom\\_183\\_G\\_B11\\_P132.mzXML & 613                                                               & Group9                                                            & 142dpi                                                            & LV\\_bottom                                                       & B11                                                               & P132                                                              & 0.003141117                                                       & 0.000100816                                                       & 0.000053100                                                       & ...                                                               & 0.008768250                                                       & 0.000234392                                                       & 0.000853309                                                       & 0.000352746                                                       & 0.000170060                                                       & 0.000126879                                                       & 0.001471454                                                       & 0.000029700                                                       & 0.000950734                                                       & 0.000175991                                                      \\\\\n",
       "\t24 & X614\\_Group9\\_142dpi\\_LV\\_bottom\\_184\\_G\\_B12\\_P132.mzXML & 614                                                               & Group9                                                            & 142dpi                                                            & LV\\_bottom                                                       & B12                                                               & P132                                                              & 0.003303506                                                       & 0.000089100                                                       & 0.000000000                                                       & ...                                                               & 0.012556312                                                       & 0.000058000                                                       & 0.001081238                                                       & 0.000523180                                                       & 0.000225384                                                       & 0.000000000                                                       & 0.000966637                                                       & 0.000000000                                                       & 0.000627816                                                       & 0.000095800                                                      \\\\\n",
       "\t25 & X615\\_Group9\\_142dpi\\_LV\\_bottom\\_185\\_G\\_C1\\_P132.mzXML  & 615                                                               & Group9                                                            & 142dpi                                                            & LV\\_bottom                                                       & C1                                                                & P132                                                              & 0.001476878                                                       & 0.000000000                                                       & 0.000097400                                                       & ...                                                               & 0.008956990                                                       & 0.000000000                                                       & 0.000793138                                                       & 0.000323081                                                       & 0.000044300                                                       & 0.000581179                                                       & 0.000632459                                                       & 0.000000000                                                       & 0.000298204                                                       & 0.000034300                                                      \\\\\n",
       "\t26 & X631\\_Group15\\_142dpi\\_LV\\_bottom\\_191\\_G\\_C7\\_P132.mzXML & 631                                                               & Group15                                                           & 142dpi                                                            & LV\\_bottom                                                       & C7                                                                & P132                                                              & 0.005239874                                                       & 0.000193567                                                       & 0.000000000                                                       & ...                                                               & 0.009811577                                                       & 0.000481787                                                       & 0.000611905                                                       & 0.000393870                                                       & 0.000071600                                                       & 0.000812356                                                       & 0.003150958                                                       & 0.000176765                                                       & 0.002022099                                                       & 0.000231479                                                      \\\\\n",
       "\\end{tabular}\n"
      ],
      "text/markdown": [
       "\n",
       "| <!--/--> | filename | MouseID | Treatmentgroup | DPI | organ | well_position | plate | X105.07_2.767 | X119.049_2.765 | X128.018_0.344 | ... | X580.362_2.984 | X599.241_2.765 | X604.362_2.948 | X620.356_2.913 | X682.364_3.313 | X764.524_3.729 | X790.38_2.768 | X792.329_2.764 | X795.335_2.768 | X811.309_2.773 |\n",
       "|---|---|---|---|---|---|---|---|---|---|---|---|---|---|---|---|---|---|---|---|---|---|\n",
       "| 21 | X611_Group9_142dpi_LV_bottom_181_G_B9_P132.mzXML  | 611                                               | Group9                                            | 142dpi                                            | LV_bottom                                         | B9                                                | P132                                              | 0.003922505                                       | 0.000144515                                       | 0.000000000                                       | ...                                               | 0.009491864                                       | 0.000314399                                       | 0.000619816                                       | 0.000298514                                       | 0.000245309                                       | 0.000329371                                       | 0.001928315                                       | 0.000075700                                       | 0.001254603                                       | 0.000139494                                       |\n",
       "| 22 | X612_Group9_142dpi_LV_bottom_182_G_B10_P132.mzXML | 612                                               | Group9                                            | 142dpi                                            | LV_bottom                                         | B10                                               | P132                                              | 0.005424795                                       | 0.000169238                                       | 0.000258005                                       | ...                                               | 0.011906966                                       | 0.000407544                                       | 0.000588452                                       | 0.000125678                                       | 0.000156795                                       | 0.000000000                                       | 0.002790552                                       | 0.000104305                                       | 0.001986027                                       | 0.000150506                                       |\n",
       "| 23 | X613_Group9_142dpi_LV_bottom_183_G_B11_P132.mzXML | 613                                               | Group9                                            | 142dpi                                            | LV_bottom                                         | B11                                               | P132                                              | 0.003141117                                       | 0.000100816                                       | 0.000053100                                       | ...                                               | 0.008768250                                       | 0.000234392                                       | 0.000853309                                       | 0.000352746                                       | 0.000170060                                       | 0.000126879                                       | 0.001471454                                       | 0.000029700                                       | 0.000950734                                       | 0.000175991                                       |\n",
       "| 24 | X614_Group9_142dpi_LV_bottom_184_G_B12_P132.mzXML | 614                                               | Group9                                            | 142dpi                                            | LV_bottom                                         | B12                                               | P132                                              | 0.003303506                                       | 0.000089100                                       | 0.000000000                                       | ...                                               | 0.012556312                                       | 0.000058000                                       | 0.001081238                                       | 0.000523180                                       | 0.000225384                                       | 0.000000000                                       | 0.000966637                                       | 0.000000000                                       | 0.000627816                                       | 0.000095800                                       |\n",
       "| 25 | X615_Group9_142dpi_LV_bottom_185_G_C1_P132.mzXML  | 615                                               | Group9                                            | 142dpi                                            | LV_bottom                                         | C1                                                | P132                                              | 0.001476878                                       | 0.000000000                                       | 0.000097400                                       | ...                                               | 0.008956990                                       | 0.000000000                                       | 0.000793138                                       | 0.000323081                                       | 0.000044300                                       | 0.000581179                                       | 0.000632459                                       | 0.000000000                                       | 0.000298204                                       | 0.000034300                                       |\n",
       "| 26 | X631_Group15_142dpi_LV_bottom_191_G_C7_P132.mzXML | 631                                               | Group15                                           | 142dpi                                            | LV_bottom                                         | C7                                                | P132                                              | 0.005239874                                       | 0.000193567                                       | 0.000000000                                       | ...                                               | 0.009811577                                       | 0.000481787                                       | 0.000611905                                       | 0.000393870                                       | 0.000071600                                       | 0.000812356                                       | 0.003150958                                       | 0.000176765                                       | 0.002022099                                       | 0.000231479                                       |\n",
       "\n"
      ],
      "text/plain": [
       "   filename                                          MouseID Treatmentgroup\n",
       "21 X611_Group9_142dpi_LV_bottom_181_G_B9_P132.mzXML  611     Group9        \n",
       "22 X612_Group9_142dpi_LV_bottom_182_G_B10_P132.mzXML 612     Group9        \n",
       "23 X613_Group9_142dpi_LV_bottom_183_G_B11_P132.mzXML 613     Group9        \n",
       "24 X614_Group9_142dpi_LV_bottom_184_G_B12_P132.mzXML 614     Group9        \n",
       "25 X615_Group9_142dpi_LV_bottom_185_G_C1_P132.mzXML  615     Group9        \n",
       "26 X631_Group15_142dpi_LV_bottom_191_G_C7_P132.mzXML 631     Group15       \n",
       "   DPI    organ     well_position plate X105.07_2.767 X119.049_2.765\n",
       "21 142dpi LV_bottom B9            P132  0.003922505   0.000144515   \n",
       "22 142dpi LV_bottom B10           P132  0.005424795   0.000169238   \n",
       "23 142dpi LV_bottom B11           P132  0.003141117   0.000100816   \n",
       "24 142dpi LV_bottom B12           P132  0.003303506   0.000089100   \n",
       "25 142dpi LV_bottom C1            P132  0.001476878   0.000000000   \n",
       "26 142dpi LV_bottom C7            P132  0.005239874   0.000193567   \n",
       "   X128.018_0.344 ... X580.362_2.984 X599.241_2.765 X604.362_2.948\n",
       "21 0.000000000    ... 0.009491864    0.000314399    0.000619816   \n",
       "22 0.000258005    ... 0.011906966    0.000407544    0.000588452   \n",
       "23 0.000053100    ... 0.008768250    0.000234392    0.000853309   \n",
       "24 0.000000000    ... 0.012556312    0.000058000    0.001081238   \n",
       "25 0.000097400    ... 0.008956990    0.000000000    0.000793138   \n",
       "26 0.000000000    ... 0.009811577    0.000481787    0.000611905   \n",
       "   X620.356_2.913 X682.364_3.313 X764.524_3.729 X790.38_2.768 X792.329_2.764\n",
       "21 0.000298514    0.000245309    0.000329371    0.001928315   0.000075700   \n",
       "22 0.000125678    0.000156795    0.000000000    0.002790552   0.000104305   \n",
       "23 0.000352746    0.000170060    0.000126879    0.001471454   0.000029700   \n",
       "24 0.000523180    0.000225384    0.000000000    0.000966637   0.000000000   \n",
       "25 0.000323081    0.000044300    0.000581179    0.000632459   0.000000000   \n",
       "26 0.000393870    0.000071600    0.000812356    0.003150958   0.000176765   \n",
       "   X795.335_2.768 X811.309_2.773\n",
       "21 0.001254603    0.000139494   \n",
       "22 0.001986027    0.000150506   \n",
       "23 0.000950734    0.000175991   \n",
       "24 0.000627816    0.000095800   \n",
       "25 0.000298204    0.000034300   \n",
       "26 0.002022099    0.000231479   "
      ]
     },
     "metadata": {},
     "output_type": "display_data"
    },
    {
     "data": {
      "text/html": [
       "<ol class=list-inline>\n",
       "\t<li>30</li>\n",
       "\t<li>62</li>\n",
       "</ol>\n"
      ],
      "text/latex": [
       "\\begin{enumerate*}\n",
       "\\item 30\n",
       "\\item 62\n",
       "\\end{enumerate*}\n"
      ],
      "text/markdown": [
       "1. 30\n",
       "2. 62\n",
       "\n",
       "\n"
      ],
      "text/plain": [
       "[1] 30 62"
      ]
     },
     "metadata": {},
     "output_type": "display_data"
    },
    {
     "data": {
      "text/html": [
       "<ol class=list-inline>\n",
       "\t<li>30</li>\n",
       "\t<li>55</li>\n",
       "</ol>\n"
      ],
      "text/latex": [
       "\\begin{enumerate*}\n",
       "\\item 30\n",
       "\\item 55\n",
       "\\end{enumerate*}\n"
      ],
      "text/markdown": [
       "1. 30\n",
       "2. 55\n",
       "\n",
       "\n"
      ],
      "text/plain": [
       "[1] 30 55"
      ]
     },
     "metadata": {},
     "output_type": "display_data"
    },
    {
     "data": {
      "text/html": [
       "<ol class=list-inline>\n",
       "\t<li>30</li>\n",
       "\t<li>52</li>\n",
       "</ol>\n"
      ],
      "text/latex": [
       "\\begin{enumerate*}\n",
       "\\item 30\n",
       "\\item 52\n",
       "\\end{enumerate*}\n"
      ],
      "text/markdown": [
       "1. 30\n",
       "2. 52\n",
       "\n",
       "\n"
      ],
      "text/plain": [
       "[1] 30 52"
      ]
     },
     "metadata": {},
     "output_type": "display_data"
    },
    {
     "data": {
      "text/html": [
       "<ol class=list-inline>\n",
       "\t<li>30</li>\n",
       "\t<li>59</li>\n",
       "</ol>\n"
      ],
      "text/latex": [
       "\\begin{enumerate*}\n",
       "\\item 30\n",
       "\\item 59\n",
       "\\end{enumerate*}\n"
      ],
      "text/markdown": [
       "1. 30\n",
       "2. 59\n",
       "\n",
       "\n"
      ],
      "text/plain": [
       "[1] 30 59"
      ]
     },
     "metadata": {},
     "output_type": "display_data"
    }
   ],
   "source": [
    "noMeta<-features_pos[,8:62]\n",
    "head(noMeta)\n",
    "not_zero<-which(colSums(noMeta) != 0)\n",
    "head(not_zero)\n",
    "nonzero <- noMeta[, not_zero] # all the non-zero columns\n",
    "nonzero\n",
    "#add back metadata\n",
    "nonzero_wMeta<-cbind(features_pos[,1:7], nonzero)\n",
    "head(nonzero_wMeta)\n",
    "dim(features_pos)\n",
    "dim(noMeta)\n",
    "dim(nonzero)\n",
    "dim(nonzero_wMeta)"
   ]
  },
  {
   "cell_type": "code",
   "execution_count": 5,
   "metadata": {
    "scrolled": true
   },
   "outputs": [
    {
     "name": "stderr",
     "output_type": "stream",
     "text": [
      "Warning message in wilcox.test.default(x = c(0.000193567, 0.000184756, 0, 0.000155738, :\n",
      "\"cannot compute exact p-value with ties\"Warning message in wilcox.test.default(x = c(0, 0.00012669, 5.22e-05, 0.000133498, :\n",
      "\"cannot compute exact p-value with ties\"Warning message in wilcox.test.default(x = c(0.000135214, 0.000352842, 0.000475764, :\n",
      "\"cannot compute exact p-value with ties\"Warning message in wilcox.test.default(x = c(0, 0.000304468, 0.000206789, 0.000380764, :\n",
      "\"cannot compute exact p-value with ties\"Warning message in wilcox.test.default(x = c(6.76e-05, 0, 0.000253538, 0, 0, 0.000195991, :\n",
      "\"cannot compute exact p-value with ties\"Warning message in wilcox.test.default(x = c(0.000160405, 0.000107326, 8.77e-05, :\n",
      "\"cannot compute exact p-value with ties\"Warning message in wilcox.test.default(x = c(0, 0, 0.000401828, 0, 0, 0.000673406, :\n",
      "\"cannot compute exact p-value with ties\"Warning message in wilcox.test.default(x = c(0, 0, 0.000912952, 0.000356533, 0, :\n",
      "\"cannot compute exact p-value with ties\"Warning message in wilcox.test.default(x = c(0.000622455, 0.000472353, 0.000655783, :\n",
      "\"cannot compute exact p-value with ties\"Warning message in wilcox.test.default(x = c(0.000153428, 0.000183308, 0.000306893, :\n",
      "\"cannot compute exact p-value with ties\"Warning message in wilcox.test.default(x = c(0, 0.0001328, 0.000283549, 0, 0, 0, :\n",
      "\"cannot compute exact p-value with ties\"Warning message in wilcox.test.default(x = c(0.000801806, 0.000406906, 0, 8.82e-05, :\n",
      "\"cannot compute exact p-value with ties\"Warning message in wilcox.test.default(x = c(3.9e-05, 4.95e-05, 8.14e-05, 3.21e-05, :\n",
      "\"cannot compute exact p-value with ties\"Warning message in wilcox.test.default(x = c(6.74e-05, 2.45e-05, 3.83e-05, 2.65e-05, :\n",
      "\"cannot compute exact p-value with ties\"Warning message in wilcox.test.default(x = c(8.73e-05, 3.28e-05, 0, 0, 0, 0, 0, :\n",
      "\"cannot compute exact p-value with ties\"Warning message in wilcox.test.default(x = c(7.98e-05, 6.24e-05, 8.95e-05, 0, 0, :\n",
      "\"cannot compute exact p-value with ties\"Warning message in wilcox.test.default(x = c(0, 0, 0, 9.48e-05, 0.000107359, 0, :\n",
      "\"cannot compute exact p-value with ties\"Warning message in wilcox.test.default(x = c(0.000126836, 6.31e-05, 5.38e-05, 6.48e-05, :\n",
      "\"cannot compute exact p-value with ties\"Warning message in wilcox.test.default(x = c(3.73e-05, 0, 0, 0, 0, 0, 0, 0, 0, 0, :\n",
      "\"cannot compute exact p-value with ties\"Warning message in wilcox.test.default(x = c(4.06e-05, 0, 0, 0, 0, 0, 0, 0, 0, 0, :\n",
      "\"cannot compute exact p-value with ties\"Warning message in wilcox.test.default(x = c(0.000121747, 8.7e-05, 5.91e-05, 4.56e-05, :\n",
      "\"cannot compute exact p-value with ties\"Warning message in wilcox.test.default(x = c(0.000101805, 4.3e-05, 0, 0, 0, 0, 0, :\n",
      "\"cannot compute exact p-value with ties\"Warning message in wilcox.test.default(x = c(0.000214529, 0.000161892, 0.000174929, :\n",
      "\"cannot compute exact p-value with ties\"Warning message in wilcox.test.default(x = c(0.000286429, 0.000153336, 0.000142754, :\n",
      "\"cannot compute exact p-value with ties\"Warning message in wilcox.test.default(x = c(0.00012043, 0.000101067, 8.72e-05, :\n",
      "\"cannot compute exact p-value with ties\"Warning message in wilcox.test.default(x = c(0.000271626, 0.000179447, 0.000129207, :\n",
      "\"cannot compute exact p-value with ties\"Warning message in wilcox.test.default(x = c(0.00010927, 3.75e-05, 0, 0, 0, 0, 0, :\n",
      "\"cannot compute exact p-value with ties\"Warning message in wilcox.test.default(x = c(5.65e-05, 0, 2.97e-05, 3.53e-05, 0, :\n",
      "\"cannot compute exact p-value with ties\"Warning message in wilcox.test.default(x = c(0.000439587, 0.000257359, 0.000298379, :\n",
      "\"cannot compute exact p-value with ties\"Warning message in wilcox.test.default(x = c(0.000464204, 0.000355687, 0.0003158, :\n",
      "\"cannot compute exact p-value with ties\"Warning message in wilcox.test.default(x = c(0.000113126, 3.34e-05, 4.28e-05, 5.91e-05, :\n",
      "\"cannot compute exact p-value with ties\"Warning message in wilcox.test.default(x = c(0.000310167, 0.00037276, 0, 0.00039461, :\n",
      "\"cannot compute exact p-value with ties\"Warning message in wilcox.test.default(x = c(0.000481787, 0.000395524, 0.000304929, :\n",
      "\"cannot compute exact p-value with ties\"Warning message in wilcox.test.default(x = c(0.000812356, 0.001266247, 0, 0.00048807, :\n",
      "\"cannot compute exact p-value with ties\"Warning message in wilcox.test.default(x = c(0.000176765, 7.59e-05, 9.78e-05, 4.59e-05, :\n",
      "\"cannot compute exact p-value with ties\"Warning message in wilcox.test.default(x = c(0.000231479, 0.000242717, 0.000195685, :\n",
      "\"cannot compute exact p-value with ties\""
     ]
    },
    {
     "data": {
      "text/html": [
       "<ol class=list-inline>\n",
       "\t<li>0.366875192434742</li>\n",
       "\t<li>0.735297080012551</li>\n",
       "\t<li>0.933471660406581</li>\n",
       "\t<li>0.299543243926459</li>\n",
       "\t<li>0.329416533785018</li>\n",
       "\t<li>0.0612792417000994</li>\n",
       "</ol>\n"
      ],
      "text/latex": [
       "\\begin{enumerate*}\n",
       "\\item 0.366875192434742\n",
       "\\item 0.735297080012551\n",
       "\\item 0.933471660406581\n",
       "\\item 0.299543243926459\n",
       "\\item 0.329416533785018\n",
       "\\item 0.0612792417000994\n",
       "\\end{enumerate*}\n"
      ],
      "text/markdown": [
       "1. 0.366875192434742\n",
       "2. 0.735297080012551\n",
       "3. 0.933471660406581\n",
       "4. 0.299543243926459\n",
       "5. 0.329416533785018\n",
       "6. 0.0612792417000994\n",
       "\n",
       "\n"
      ],
      "text/plain": [
       "[1] 0.36687519 0.73529708 0.93347166 0.29954324 0.32941653 0.06127924"
      ]
     },
     "metadata": {},
     "output_type": "display_data"
    },
    {
     "data": {
      "text/html": [
       "<ol class=list-inline>\n",
       "\t<li>0.58865502288425</li>\n",
       "\t<li>0.827556256010307</li>\n",
       "\t<li>0.951775026296906</li>\n",
       "\t<li>0.57689809941392</li>\n",
       "\t<li>0.58865502288425</li>\n",
       "\t<li>0.233733951109525</li>\n",
       "</ol>\n"
      ],
      "text/latex": [
       "\\begin{enumerate*}\n",
       "\\item 0.58865502288425\n",
       "\\item 0.827556256010307\n",
       "\\item 0.951775026296906\n",
       "\\item 0.57689809941392\n",
       "\\item 0.58865502288425\n",
       "\\item 0.233733951109525\n",
       "\\end{enumerate*}\n"
      ],
      "text/markdown": [
       "1. 0.58865502288425\n",
       "2. 0.827556256010307\n",
       "3. 0.951775026296906\n",
       "4. 0.57689809941392\n",
       "5. 0.58865502288425\n",
       "6. 0.233733951109525\n",
       "\n",
       "\n"
      ],
      "text/plain": [
       "[1] 0.5886550 0.8275563 0.9517750 0.5768981 0.5886550 0.2337340"
      ]
     },
     "metadata": {},
     "output_type": "display_data"
    }
   ],
   "source": [
    "pval<-c()#create an empty vector with value pval\n",
    "\n",
    "# 8 to the end of each row\n",
    "for (i in 8:ncol(nonzero_wMeta)) \n",
    "pval<-c(pval,wilcox.test(nonzero_wMeta[,i]~nonzero_wMeta$Treatmentgroup)$p.value) #assign to pval the output of the Mann-Whitney-Wilcoxon test\n",
    "    #don't know why there is that first pval in c(pval...) but it doesn't work without it\n",
    "    #$p.value is because there are many output lines from wilcox.test; you want to keep only the one that's called $p.value because that's where the nbr is\n",
    "\n",
    "head(pval) #to check\n",
    "pAdj <- p.adjust(pval, method = c(\"fdr\"), n=length(pval)) \n",
    "head(pAdj) \n",
    "\n"
   ]
  },
  {
   "cell_type": "code",
   "execution_count": 6,
   "metadata": {
    "scrolled": true
   },
   "outputs": [
    {
     "data": {
      "text/html": [
       "52"
      ],
      "text/latex": [
       "52"
      ],
      "text/markdown": [
       "52"
      ],
      "text/plain": [
       "[1] 52"
      ]
     },
     "metadata": {},
     "output_type": "display_data"
    }
   ],
   "source": [
    "length(pval)"
   ]
  },
  {
   "cell_type": "code",
   "execution_count": 7,
   "metadata": {
    "scrolled": true
   },
   "outputs": [
    {
     "data": {
      "text/html": [
       "52"
      ],
      "text/latex": [
       "52"
      ],
      "text/markdown": [
       "52"
      ],
      "text/plain": [
       "[1] 52"
      ]
     },
     "metadata": {},
     "output_type": "display_data"
    }
   ],
   "source": [
    "length(pAdj)"
   ]
  },
  {
   "cell_type": "code",
   "execution_count": 8,
   "metadata": {},
   "outputs": [
    {
     "data": {
      "text/html": [
       "<ol class=list-inline>\n",
       "\t<li>2</li>\n",
       "\t<li>52</li>\n",
       "</ol>\n"
      ],
      "text/latex": [
       "\\begin{enumerate*}\n",
       "\\item 2\n",
       "\\item 52\n",
       "\\end{enumerate*}\n"
      ],
      "text/markdown": [
       "1. 2\n",
       "2. 52\n",
       "\n",
       "\n"
      ],
      "text/plain": [
       "[1]  2 52"
      ]
     },
     "metadata": {},
     "output_type": "display_data"
    },
    {
     "data": {
      "text/html": [
       "<table>\n",
       "<thead><tr><th></th><th scope=col>X105.07_2.767</th><th scope=col>X119.049_2.765</th><th scope=col>X128.018_0.344</th></tr></thead>\n",
       "<tbody>\n",
       "\t<tr><th scope=row>Group15</th><td>0.004205396 </td><td>9.481807e-05</td><td>0.0001032189</td></tr>\n",
       "\t<tr><th scope=row>Group9</th><td>0.003866032 </td><td>8.664167e-05</td><td>0.0001089651</td></tr>\n",
       "</tbody>\n",
       "</table>\n"
      ],
      "text/latex": [
       "\\begin{tabular}{r|lll}\n",
       "  & X105.07\\_2.767 & X119.049\\_2.765 & X128.018\\_0.344\\\\\n",
       "\\hline\n",
       "\tGroup15 & 0.004205396  & 9.481807e-05 & 0.0001032189\\\\\n",
       "\tGroup9 & 0.003866032  & 8.664167e-05 & 0.0001089651\\\\\n",
       "\\end{tabular}\n"
      ],
      "text/markdown": [
       "\n",
       "| <!--/--> | X105.07_2.767 | X119.049_2.765 | X128.018_0.344 |\n",
       "|---|---|---|---|\n",
       "| Group15 | 0.004205396  | 9.481807e-05 | 0.0001032189 |\n",
       "| Group9 | 0.003866032  | 8.664167e-05 | 0.0001089651 |\n",
       "\n"
      ],
      "text/plain": [
       "        X105.07_2.767 X119.049_2.765 X128.018_0.344\n",
       "Group15 0.004205396   9.481807e-05   0.0001032189  \n",
       "Group9  0.003866032   8.664167e-05   0.0001089651  "
      ]
     },
     "metadata": {},
     "output_type": "display_data"
    },
    {
     "data": {
      "text/html": [
       "<dl class=dl-horizontal>\n",
       "\t<dt>X105.07_2.767</dt>\n",
       "\t\t<dd>1.0877809142315</dd>\n",
       "\t<dt>X119.049_2.765</dt>\n",
       "\t\t<dd>1.09437029912475</dd>\n",
       "\t<dt>X128.018_0.344</dt>\n",
       "\t\t<dd>0.94726627983525</dd>\n",
       "\t<dt>X136.062_0.301</dt>\n",
       "\t\t<dd>0.748342499814161</dd>\n",
       "\t<dt>X136.097_0.551</dt>\n",
       "\t\t<dd>1.0744645472182</dd>\n",
       "\t<dt>X137.046_0.31</dt>\n",
       "\t\t<dd>1.06709279168518</dd>\n",
       "</dl>\n"
      ],
      "text/latex": [
       "\\begin{description*}\n",
       "\\item[X105.07\\textbackslash{}\\_2.767] 1.0877809142315\n",
       "\\item[X119.049\\textbackslash{}\\_2.765] 1.09437029912475\n",
       "\\item[X128.018\\textbackslash{}\\_0.344] 0.94726627983525\n",
       "\\item[X136.062\\textbackslash{}\\_0.301] 0.748342499814161\n",
       "\\item[X136.097\\textbackslash{}\\_0.551] 1.0744645472182\n",
       "\\item[X137.046\\textbackslash{}\\_0.31] 1.06709279168518\n",
       "\\end{description*}\n"
      ],
      "text/markdown": [
       "X105.07_2.767\n",
       ":   1.0877809142315X119.049_2.765\n",
       ":   1.09437029912475X128.018_0.344\n",
       ":   0.94726627983525X136.062_0.301\n",
       ":   0.748342499814161X136.097_0.551\n",
       ":   1.0744645472182X137.046_0.31\n",
       ":   1.06709279168518\n",
       "\n"
      ],
      "text/plain": [
       " X105.07_2.767 X119.049_2.765 X128.018_0.344 X136.062_0.301 X136.097_0.551 \n",
       "     1.0877809      1.0943703      0.9472663      0.7483425      1.0744645 \n",
       " X137.046_0.31 \n",
       "     1.0670928 "
      ]
     },
     "metadata": {},
     "output_type": "display_data"
    },
    {
     "data": {
      "text/html": [
       "<ol class=list-inline>\n",
       "\t<li>'numeric'</li>\n",
       "\t<li>'vector'</li>\n",
       "</ol>\n"
      ],
      "text/latex": [
       "\\begin{enumerate*}\n",
       "\\item 'numeric'\n",
       "\\item 'vector'\n",
       "\\end{enumerate*}\n"
      ],
      "text/markdown": [
       "1. 'numeric'\n",
       "2. 'vector'\n",
       "\n",
       "\n"
      ],
      "text/plain": [
       "[1] \"numeric\" \"vector\" "
      ]
     },
     "metadata": {},
     "output_type": "display_data"
    }
   ],
   "source": [
    "# change the column name, you want to see infected and naive so it should be State\n",
    "avg<- apply(nonzero_wMeta[,8:ncol(nonzero_wMeta)], 2, function(x) tapply(x, nonzero_wMeta$Treatmentgroup, function(x) mean(x))) \n",
    "\n",
    "dim(avg) #to check\n",
    "\n",
    "avg[,1:3]#to check\n",
    "\n",
    "fch <- apply(avg, 2, function(x) x[1]/x[2]) #calculate fold change\n",
    "\n",
    "head(fch) #to check it's ok\n",
    "is(fch)"
   ]
  },
  {
   "cell_type": "code",
   "execution_count": 9,
   "metadata": {
    "scrolled": true
   },
   "outputs": [
    {
     "data": {
      "text/html": [
       "<dl class=dl-horizontal>\n",
       "\t<dt>X105.07_2.767</dt>\n",
       "\t\t<dd>1.0877809142315</dd>\n",
       "\t<dt>X119.049_2.765</dt>\n",
       "\t\t<dd>1.09437029912475</dd>\n",
       "\t<dt>X128.018_0.344</dt>\n",
       "\t\t<dd>0.94726627983525</dd>\n",
       "\t<dt>X136.062_0.301</dt>\n",
       "\t\t<dd>0.748342499814161</dd>\n",
       "\t<dt>X136.097_0.551</dt>\n",
       "\t\t<dd>1.0744645472182</dd>\n",
       "\t<dt>X137.046_0.31</dt>\n",
       "\t\t<dd>1.06709279168518</dd>\n",
       "\t<dt>X137.046_0.42</dt>\n",
       "\t\t<dd>1.13041250437152</dd>\n",
       "\t<dt>X203.007_0.309</dt>\n",
       "\t\t<dd>2.54603969418784</dd>\n",
       "\t<dt>X249.112_2.768</dt>\n",
       "\t\t<dd>2.19076212386055</dd>\n",
       "\t<dt>X251.037_0.323</dt>\n",
       "\t\t<dd>1.60486517338767</dd>\n",
       "\t<dt>X256.264_3.225</dt>\n",
       "\t\t<dd>1.52712634668776</dd>\n",
       "\t<dt>X258.207_2.775</dt>\n",
       "\t\t<dd>0.642768902705702</dd>\n",
       "\t<dt>X267.123_2.767</dt>\n",
       "\t\t<dd>1.0911128571538</dd>\n",
       "\t<dt>X285.133_2.768</dt>\n",
       "\t\t<dd>1.140141791844</dd>\n",
       "\t<dt>X291.146_2.39</dt>\n",
       "\t\t<dd>2.72884001122177</dd>\n",
       "\t<dt>X301.115_0.328</dt>\n",
       "\t\t<dd>1.22365429269705</dd>\n",
       "\t<dt>X301.115_0.413</dt>\n",
       "\t\t<dd>1.86912182102598</dd>\n",
       "\t<dt>X324.327_3.455</dt>\n",
       "\t\t<dd>1.93360474628675</dd>\n",
       "\t<dt>X351.217_2.741</dt>\n",
       "\t\t<dd>0.542669758373803</dd>\n",
       "\t<dt>X352.306_2.997</dt>\n",
       "\t\t<dd>7.42456608811749</dd>\n",
       "\t<dt>X369.17_2.767</dt>\n",
       "\t\t<dd>1.1690584680344</dd>\n",
       "\t<dt>X380.993_2.164</dt>\n",
       "\t\t<dd>1.61417910447761</dd>\n",
       "\t<dt>X386.717_2.856</dt>\n",
       "\t\t<dd>11.6346863468635</dd>\n",
       "\t<dt>X387.193_2.842</dt>\n",
       "\t\t<dd>0.587164144445059</dd>\n",
       "\t<dt>X396.332_2.991</dt>\n",
       "\t\t<dd>4.23682116914562</dd>\n",
       "\t<dt>X397.22_2.071</dt>\n",
       "\t\t<dd>0.22827417380661</dd>\n",
       "\t<dt>X400.97_2.127</dt>\n",
       "\t\t<dd>0.383742911153119</dd>\n",
       "\t<dt>X416.337_2.79</dt>\n",
       "\t\t<dd>0.659094598681104</dd>\n",
       "\t<dt>X420.899_2.103</dt>\n",
       "\t\t<dd>1.09623086706234</dd>\n",
       "\t<dt>X426.484_2.164</dt>\n",
       "\t\t<dd>0.604613778705637</dd>\n",
       "\t<dt>X430.223_2.769</dt>\n",
       "\t\t<dd>1.24523455306874</dd>\n",
       "\t<dt>X440.338_2.763</dt>\n",
       "\t\t<dd>0.559704752794712</dd>\n",
       "\t<dt>X440.359_2.985</dt>\n",
       "\t\t<dd>3.06698875733374</dd>\n",
       "\t<dt>X442.353_2.819</dt>\n",
       "\t\t<dd>0.554333072792633</dd>\n",
       "\t<dt>X458.23_2.165</dt>\n",
       "\t\t<dd>0.805945889549665</dd>\n",
       "\t<dt>X466.25_2.226</dt>\n",
       "\t\t<dd>1.01673640167364</dd>\n",
       "\t<dt>X475.989_2.164</dt>\n",
       "\t\t<dd>1.37571290763554</dd>\n",
       "\t<dt>X476.24_2.164</dt>\n",
       "\t\t<dd>1.4303649597996</dd>\n",
       "\t<dt>X484.385_2.982</dt>\n",
       "\t\t<dd>2.87367439849776</dd>\n",
       "\t<dt>X489.228_2.768</dt>\n",
       "\t\t<dd>1.44422882520377</dd>\n",
       "\t<dt>X494.325_2.865</dt>\n",
       "\t\t<dd>0.593547612560152</dd>\n",
       "\t<dt>X570.357_2.934</dt>\n",
       "\t\t<dd>0.825252439494949</dd>\n",
       "\t<dt>X580.362_2.984</dt>\n",
       "\t\t<dd>0.795837011965937</dd>\n",
       "\t<dt>X599.241_2.765</dt>\n",
       "\t\t<dd>1.46398160804345</dd>\n",
       "\t<dt>X604.362_2.948</dt>\n",
       "\t\t<dd>0.891013814485177</dd>\n",
       "\t<dt>X620.356_2.913</dt>\n",
       "\t\t<dd>1.0895380010811</dd>\n",
       "\t<dt>X682.364_3.313</dt>\n",
       "\t\t<dd>0.735681290480264</dd>\n",
       "\t<dt>X764.524_3.729</dt>\n",
       "\t\t<dd>1.09242413265256</dd>\n",
       "\t<dt>X790.38_2.768</dt>\n",
       "\t\t<dd>1.20741228795232</dd>\n",
       "\t<dt>X792.329_2.764</dt>\n",
       "\t\t<dd>2.30205013789237</dd>\n",
       "\t<dt>X795.335_2.768</dt>\n",
       "\t\t<dd>1.13670499490777</dd>\n",
       "\t<dt>X811.309_2.773</dt>\n",
       "\t\t<dd>1.10075218730914</dd>\n",
       "</dl>\n"
      ],
      "text/latex": [
       "\\begin{description*}\n",
       "\\item[X105.07\\textbackslash{}\\_2.767] 1.0877809142315\n",
       "\\item[X119.049\\textbackslash{}\\_2.765] 1.09437029912475\n",
       "\\item[X128.018\\textbackslash{}\\_0.344] 0.94726627983525\n",
       "\\item[X136.062\\textbackslash{}\\_0.301] 0.748342499814161\n",
       "\\item[X136.097\\textbackslash{}\\_0.551] 1.0744645472182\n",
       "\\item[X137.046\\textbackslash{}\\_0.31] 1.06709279168518\n",
       "\\item[X137.046\\textbackslash{}\\_0.42] 1.13041250437152\n",
       "\\item[X203.007\\textbackslash{}\\_0.309] 2.54603969418784\n",
       "\\item[X249.112\\textbackslash{}\\_2.768] 2.19076212386055\n",
       "\\item[X251.037\\textbackslash{}\\_0.323] 1.60486517338767\n",
       "\\item[X256.264\\textbackslash{}\\_3.225] 1.52712634668776\n",
       "\\item[X258.207\\textbackslash{}\\_2.775] 0.642768902705702\n",
       "\\item[X267.123\\textbackslash{}\\_2.767] 1.0911128571538\n",
       "\\item[X285.133\\textbackslash{}\\_2.768] 1.140141791844\n",
       "\\item[X291.146\\textbackslash{}\\_2.39] 2.72884001122177\n",
       "\\item[X301.115\\textbackslash{}\\_0.328] 1.22365429269705\n",
       "\\item[X301.115\\textbackslash{}\\_0.413] 1.86912182102598\n",
       "\\item[X324.327\\textbackslash{}\\_3.455] 1.93360474628675\n",
       "\\item[X351.217\\textbackslash{}\\_2.741] 0.542669758373803\n",
       "\\item[X352.306\\textbackslash{}\\_2.997] 7.42456608811749\n",
       "\\item[X369.17\\textbackslash{}\\_2.767] 1.1690584680344\n",
       "\\item[X380.993\\textbackslash{}\\_2.164] 1.61417910447761\n",
       "\\item[X386.717\\textbackslash{}\\_2.856] 11.6346863468635\n",
       "\\item[X387.193\\textbackslash{}\\_2.842] 0.587164144445059\n",
       "\\item[X396.332\\textbackslash{}\\_2.991] 4.23682116914562\n",
       "\\item[X397.22\\textbackslash{}\\_2.071] 0.22827417380661\n",
       "\\item[X400.97\\textbackslash{}\\_2.127] 0.383742911153119\n",
       "\\item[X416.337\\textbackslash{}\\_2.79] 0.659094598681104\n",
       "\\item[X420.899\\textbackslash{}\\_2.103] 1.09623086706234\n",
       "\\item[X426.484\\textbackslash{}\\_2.164] 0.604613778705637\n",
       "\\item[X430.223\\textbackslash{}\\_2.769] 1.24523455306874\n",
       "\\item[X440.338\\textbackslash{}\\_2.763] 0.559704752794712\n",
       "\\item[X440.359\\textbackslash{}\\_2.985] 3.06698875733374\n",
       "\\item[X442.353\\textbackslash{}\\_2.819] 0.554333072792633\n",
       "\\item[X458.23\\textbackslash{}\\_2.165] 0.805945889549665\n",
       "\\item[X466.25\\textbackslash{}\\_2.226] 1.01673640167364\n",
       "\\item[X475.989\\textbackslash{}\\_2.164] 1.37571290763554\n",
       "\\item[X476.24\\textbackslash{}\\_2.164] 1.4303649597996\n",
       "\\item[X484.385\\textbackslash{}\\_2.982] 2.87367439849776\n",
       "\\item[X489.228\\textbackslash{}\\_2.768] 1.44422882520377\n",
       "\\item[X494.325\\textbackslash{}\\_2.865] 0.593547612560152\n",
       "\\item[X570.357\\textbackslash{}\\_2.934] 0.825252439494949\n",
       "\\item[X580.362\\textbackslash{}\\_2.984] 0.795837011965937\n",
       "\\item[X599.241\\textbackslash{}\\_2.765] 1.46398160804345\n",
       "\\item[X604.362\\textbackslash{}\\_2.948] 0.891013814485177\n",
       "\\item[X620.356\\textbackslash{}\\_2.913] 1.0895380010811\n",
       "\\item[X682.364\\textbackslash{}\\_3.313] 0.735681290480264\n",
       "\\item[X764.524\\textbackslash{}\\_3.729] 1.09242413265256\n",
       "\\item[X790.38\\textbackslash{}\\_2.768] 1.20741228795232\n",
       "\\item[X792.329\\textbackslash{}\\_2.764] 2.30205013789237\n",
       "\\item[X795.335\\textbackslash{}\\_2.768] 1.13670499490777\n",
       "\\item[X811.309\\textbackslash{}\\_2.773] 1.10075218730914\n",
       "\\end{description*}\n"
      ],
      "text/markdown": [
       "X105.07_2.767\n",
       ":   1.0877809142315X119.049_2.765\n",
       ":   1.09437029912475X128.018_0.344\n",
       ":   0.94726627983525X136.062_0.301\n",
       ":   0.748342499814161X136.097_0.551\n",
       ":   1.0744645472182X137.046_0.31\n",
       ":   1.06709279168518X137.046_0.42\n",
       ":   1.13041250437152X203.007_0.309\n",
       ":   2.54603969418784X249.112_2.768\n",
       ":   2.19076212386055X251.037_0.323\n",
       ":   1.60486517338767X256.264_3.225\n",
       ":   1.52712634668776X258.207_2.775\n",
       ":   0.642768902705702X267.123_2.767\n",
       ":   1.0911128571538X285.133_2.768\n",
       ":   1.140141791844X291.146_2.39\n",
       ":   2.72884001122177X301.115_0.328\n",
       ":   1.22365429269705X301.115_0.413\n",
       ":   1.86912182102598X324.327_3.455\n",
       ":   1.93360474628675X351.217_2.741\n",
       ":   0.542669758373803X352.306_2.997\n",
       ":   7.42456608811749X369.17_2.767\n",
       ":   1.1690584680344X380.993_2.164\n",
       ":   1.61417910447761X386.717_2.856\n",
       ":   11.6346863468635X387.193_2.842\n",
       ":   0.587164144445059X396.332_2.991\n",
       ":   4.23682116914562X397.22_2.071\n",
       ":   0.22827417380661X400.97_2.127\n",
       ":   0.383742911153119X416.337_2.79\n",
       ":   0.659094598681104X420.899_2.103\n",
       ":   1.09623086706234X426.484_2.164\n",
       ":   0.604613778705637X430.223_2.769\n",
       ":   1.24523455306874X440.338_2.763\n",
       ":   0.559704752794712X440.359_2.985\n",
       ":   3.06698875733374X442.353_2.819\n",
       ":   0.554333072792633X458.23_2.165\n",
       ":   0.805945889549665X466.25_2.226\n",
       ":   1.01673640167364X475.989_2.164\n",
       ":   1.37571290763554X476.24_2.164\n",
       ":   1.4303649597996X484.385_2.982\n",
       ":   2.87367439849776X489.228_2.768\n",
       ":   1.44422882520377X494.325_2.865\n",
       ":   0.593547612560152X570.357_2.934\n",
       ":   0.825252439494949X580.362_2.984\n",
       ":   0.795837011965937X599.241_2.765\n",
       ":   1.46398160804345X604.362_2.948\n",
       ":   0.891013814485177X620.356_2.913\n",
       ":   1.0895380010811X682.364_3.313\n",
       ":   0.735681290480264X764.524_3.729\n",
       ":   1.09242413265256X790.38_2.768\n",
       ":   1.20741228795232X792.329_2.764\n",
       ":   2.30205013789237X795.335_2.768\n",
       ":   1.13670499490777X811.309_2.773\n",
       ":   1.10075218730914\n",
       "\n"
      ],
      "text/plain": [
       " X105.07_2.767 X119.049_2.765 X128.018_0.344 X136.062_0.301 X136.097_0.551 \n",
       "     1.0877809      1.0943703      0.9472663      0.7483425      1.0744645 \n",
       " X137.046_0.31  X137.046_0.42 X203.007_0.309 X249.112_2.768 X251.037_0.323 \n",
       "     1.0670928      1.1304125      2.5460397      2.1907621      1.6048652 \n",
       "X256.264_3.225 X258.207_2.775 X267.123_2.767 X285.133_2.768  X291.146_2.39 \n",
       "     1.5271263      0.6427689      1.0911129      1.1401418      2.7288400 \n",
       "X301.115_0.328 X301.115_0.413 X324.327_3.455 X351.217_2.741 X352.306_2.997 \n",
       "     1.2236543      1.8691218      1.9336047      0.5426698      7.4245661 \n",
       " X369.17_2.767 X380.993_2.164 X386.717_2.856 X387.193_2.842 X396.332_2.991 \n",
       "     1.1690585      1.6141791     11.6346863      0.5871641      4.2368212 \n",
       " X397.22_2.071  X400.97_2.127  X416.337_2.79 X420.899_2.103 X426.484_2.164 \n",
       "     0.2282742      0.3837429      0.6590946      1.0962309      0.6046138 \n",
       "X430.223_2.769 X440.338_2.763 X440.359_2.985 X442.353_2.819  X458.23_2.165 \n",
       "     1.2452346      0.5597048      3.0669888      0.5543331      0.8059459 \n",
       " X466.25_2.226 X475.989_2.164  X476.24_2.164 X484.385_2.982 X489.228_2.768 \n",
       "     1.0167364      1.3757129      1.4303650      2.8736744      1.4442288 \n",
       "X494.325_2.865 X570.357_2.934 X580.362_2.984 X599.241_2.765 X604.362_2.948 \n",
       "     0.5935476      0.8252524      0.7958370      1.4639816      0.8910138 \n",
       "X620.356_2.913 X682.364_3.313 X764.524_3.729  X790.38_2.768 X792.329_2.764 \n",
       "     1.0895380      0.7356813      1.0924241      1.2074123      2.3020501 \n",
       "X795.335_2.768 X811.309_2.773 \n",
       "     1.1367050      1.1007522 "
      ]
     },
     "metadata": {},
     "output_type": "display_data"
    }
   ],
   "source": [
    "fch"
   ]
  },
  {
   "cell_type": "code",
   "execution_count": 10,
   "metadata": {
    "scrolled": false
   },
   "outputs": [],
   "source": [
    "#Convoluted way to get the names; likely could find a simpler way\n",
    "\n",
    "#make dataframe from pval and fch\n",
    "df <- data.frame(fch,pval, pAdj)\n",
    "write.csv(df, \"LVB-wilcox-9-15.csv\")"
   ]
  },
  {
   "cell_type": "code",
   "execution_count": null,
   "metadata": {},
   "outputs": [],
   "source": []
  },
  {
   "cell_type": "code",
   "execution_count": null,
   "metadata": {},
   "outputs": [],
   "source": []
  },
  {
   "cell_type": "code",
   "execution_count": null,
   "metadata": {},
   "outputs": [],
   "source": []
  }
 ],
 "metadata": {
  "kernelspec": {
   "display_name": "R",
   "language": "R",
   "name": "ir"
  },
  "language_info": {
   "codemirror_mode": "r",
   "file_extension": ".r",
   "mimetype": "text/x-r-source",
   "name": "R",
   "pygments_lexer": "r",
   "version": "3.6.1"
  }
 },
 "nbformat": 4,
 "nbformat_minor": 2
}
