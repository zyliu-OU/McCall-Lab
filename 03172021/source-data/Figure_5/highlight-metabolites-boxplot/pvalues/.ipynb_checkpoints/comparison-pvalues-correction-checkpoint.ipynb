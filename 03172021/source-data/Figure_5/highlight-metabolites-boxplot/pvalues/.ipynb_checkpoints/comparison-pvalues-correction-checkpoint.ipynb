{
 "cells": [
  {
   "cell_type": "code",
   "execution_count": 2,
   "id": "d4c1e65e",
   "metadata": {
    "scrolled": false
   },
   "outputs": [
    {
     "name": "stdout",
     "output_type": "stream",
     "text": [
      "[0.022156935, 0.989161952, 0.030541741, 0.025688321, 0.917758385, 0.016442082]\n",
      "[0.04581261 0.98916195 0.04581261 0.04581261 0.98916195 0.04581261]\n",
      "[0.000129142, 0.712249071, 0.009480551, 0.001610836, 0.277748659, 0.098860804]\n",
      "[0.00077485 0.71224907 0.0189611  0.00483251 0.33329839 0.14829121]\n",
      "[0.006014996, 0.022717707, 0.128685028, 0.933330363, 0.150578673, 0.233733951]\n",
      "[0.03608998 0.06815312 0.22586801 0.93333036 0.22586801 0.28048074]\n",
      "[8.12e-07, 2.16e-05, 0.002101907, 0.453220553, 0.029570509, 0.25551834]\n",
      "[4.87200000e-06 6.48000000e-05 4.20381400e-03 4.53220553e-01\n",
      " 4.43557635e-02 3.06622008e-01]\n"
     ]
    }
   ],
   "source": [
    "import seaborn as sns\n",
    "import numpy as np\n",
    "import pandas as pd\n",
    "import matplotlib.pyplot as plt\n",
    "from scipy.stats import kendalltau, pearsonr, spearmanr\n",
    "import statsmodels.api\n",
    "\n",
    "# all pvalues order is: naive VS infected, naive VS combo, naive VS BNZ, infected VS combo, infected VS BNZ, combo VS BNZ.\n",
    "\n",
    "data_a = pd.read_csv('highlight-wilcox-FDR-pvalue.csv')\n",
    "data_a_filename = data_a.filename.to_list()\n",
    "\n",
    "mass_list = ['X720.445_3.09', 'X396.332_2.991', 'X494.325_2.865', 'X137.046_0.35']\n",
    "\n",
    "pval_list = []\n",
    "df_final = pd.DataFrame(data_a_filename, columns = ['filename'])\n",
    "\n",
    "for mass in mass_list:\n",
    "    pval_list = data_a[mass].tolist()\n",
    "    pval_list_corrected = statsmodels.stats.multitest.fdrcorrection(pval_list, method='indep')\n",
    "    print(pval_list)\n",
    "    print(pval_list_corrected[1])\n",
    "    df_final[mass] = pval_list_corrected[1]\n",
    "    \n",
    "df_final.to_csv('highlight-comparison-FDR-pvalue.csv', index=False)"
   ]
  },
  {
   "cell_type": "code",
   "execution_count": null,
   "id": "606e373c",
   "metadata": {},
   "outputs": [],
   "source": []
  }
 ],
 "metadata": {
  "kernelspec": {
   "display_name": "Python 3",
   "language": "python",
   "name": "python3"
  },
  "language_info": {
   "codemirror_mode": {
    "name": "ipython",
    "version": 3
   },
   "file_extension": ".py",
   "mimetype": "text/x-python",
   "name": "python",
   "nbconvert_exporter": "python",
   "pygments_lexer": "ipython3",
   "version": "3.8.13"
  }
 },
 "nbformat": 4,
 "nbformat_minor": 5
}
