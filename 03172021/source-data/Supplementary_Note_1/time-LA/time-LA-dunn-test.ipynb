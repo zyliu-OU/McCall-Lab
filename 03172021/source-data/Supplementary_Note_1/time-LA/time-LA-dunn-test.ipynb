{
 "cells": [
  {
   "cell_type": "code",
   "execution_count": 2,
   "metadata": {},
   "outputs": [
    {
     "name": "stderr",
     "output_type": "stream",
     "text": [
      "## FSA v0.9.4. See citation('FSA') if used in publication.\n",
      "## Run fishR() for related website and fishR('IFAR') for related book.\n"
     ]
    }
   ],
   "source": [
    "library(\"FSA\")\n",
    "library(ggplot2)"
   ]
  },
  {
   "cell_type": "code",
   "execution_count": 3,
   "metadata": {},
   "outputs": [],
   "source": [
    "# read data \n",
    "a <- read.csv(\"time-LA-distance-data.csv\")"
   ]
  },
  {
   "cell_type": "code",
   "execution_count": 4,
   "metadata": {
    "scrolled": false
   },
   "outputs": [
    {
     "data": {
      "text/html": [
       "<table>\n",
       "<thead><tr><th scope=col>SubjectID1</th><th scope=col>SubjectID2</th><th scope=col>name</th><th scope=col>Distance</th></tr></thead>\n",
       "<tbody>\n",
       "\t<tr><td>X502_Group1A_50dpi_LA_252_B_A2_P121.mzXML</td><td>X501_Group1A_50dpi_LA_251_B_A1_P121.mzXML</td><td>Group1A_Group1A                          </td><td>0.5183793                                </td></tr>\n",
       "\t<tr><td>X503_Group1A_50dpi_LA_253_B_A3_P121.mzXML</td><td>X501_Group1A_50dpi_LA_251_B_A1_P121.mzXML</td><td>Group1A_Group1A                          </td><td>0.5134534                                </td></tr>\n",
       "\t<tr><td>X503_Group1A_50dpi_LA_253_B_A3_P121.mzXML</td><td>X502_Group1A_50dpi_LA_252_B_A2_P121.mzXML</td><td>Group1A_Group1A                          </td><td>0.3422365                                </td></tr>\n",
       "\t<tr><td>X504_Group1A_50dpi_LA_254_B_A4_P121.mzXML</td><td>X501_Group1A_50dpi_LA_251_B_A1_P121.mzXML</td><td>Group1A_Group1A                          </td><td>0.3006509                                </td></tr>\n",
       "\t<tr><td>X504_Group1A_50dpi_LA_254_B_A4_P121.mzXML</td><td>X502_Group1A_50dpi_LA_252_B_A2_P121.mzXML</td><td>Group1A_Group1A                          </td><td>0.5452108                                </td></tr>\n",
       "\t<tr><td>X504_Group1A_50dpi_LA_254_B_A4_P121.mzXML</td><td>X503_Group1A_50dpi_LA_253_B_A3_P121.mzXML</td><td>Group1A_Group1A                          </td><td>0.5078809                                </td></tr>\n",
       "</tbody>\n",
       "</table>\n"
      ],
      "text/latex": [
       "\\begin{tabular}{r|llll}\n",
       " SubjectID1 & SubjectID2 & name & Distance\\\\\n",
       "\\hline\n",
       "\t X502\\_Group1A\\_50dpi\\_LA\\_252\\_B\\_A2\\_P121.mzXML & X501\\_Group1A\\_50dpi\\_LA\\_251\\_B\\_A1\\_P121.mzXML & Group1A\\_Group1A                                       & 0.5183793                                              \\\\\n",
       "\t X503\\_Group1A\\_50dpi\\_LA\\_253\\_B\\_A3\\_P121.mzXML & X501\\_Group1A\\_50dpi\\_LA\\_251\\_B\\_A1\\_P121.mzXML & Group1A\\_Group1A                                       & 0.5134534                                              \\\\\n",
       "\t X503\\_Group1A\\_50dpi\\_LA\\_253\\_B\\_A3\\_P121.mzXML & X502\\_Group1A\\_50dpi\\_LA\\_252\\_B\\_A2\\_P121.mzXML & Group1A\\_Group1A                                       & 0.3422365                                              \\\\\n",
       "\t X504\\_Group1A\\_50dpi\\_LA\\_254\\_B\\_A4\\_P121.mzXML & X501\\_Group1A\\_50dpi\\_LA\\_251\\_B\\_A1\\_P121.mzXML & Group1A\\_Group1A                                       & 0.3006509                                              \\\\\n",
       "\t X504\\_Group1A\\_50dpi\\_LA\\_254\\_B\\_A4\\_P121.mzXML & X502\\_Group1A\\_50dpi\\_LA\\_252\\_B\\_A2\\_P121.mzXML & Group1A\\_Group1A                                       & 0.5452108                                              \\\\\n",
       "\t X504\\_Group1A\\_50dpi\\_LA\\_254\\_B\\_A4\\_P121.mzXML & X503\\_Group1A\\_50dpi\\_LA\\_253\\_B\\_A3\\_P121.mzXML & Group1A\\_Group1A                                       & 0.5078809                                              \\\\\n",
       "\\end{tabular}\n"
      ],
      "text/markdown": [
       "\n",
       "| SubjectID1 | SubjectID2 | name | Distance |\n",
       "|---|---|---|---|\n",
       "| X502_Group1A_50dpi_LA_252_B_A2_P121.mzXML | X501_Group1A_50dpi_LA_251_B_A1_P121.mzXML | Group1A_Group1A                           | 0.5183793                                 |\n",
       "| X503_Group1A_50dpi_LA_253_B_A3_P121.mzXML | X501_Group1A_50dpi_LA_251_B_A1_P121.mzXML | Group1A_Group1A                           | 0.5134534                                 |\n",
       "| X503_Group1A_50dpi_LA_253_B_A3_P121.mzXML | X502_Group1A_50dpi_LA_252_B_A2_P121.mzXML | Group1A_Group1A                           | 0.3422365                                 |\n",
       "| X504_Group1A_50dpi_LA_254_B_A4_P121.mzXML | X501_Group1A_50dpi_LA_251_B_A1_P121.mzXML | Group1A_Group1A                           | 0.3006509                                 |\n",
       "| X504_Group1A_50dpi_LA_254_B_A4_P121.mzXML | X502_Group1A_50dpi_LA_252_B_A2_P121.mzXML | Group1A_Group1A                           | 0.5452108                                 |\n",
       "| X504_Group1A_50dpi_LA_254_B_A4_P121.mzXML | X503_Group1A_50dpi_LA_253_B_A3_P121.mzXML | Group1A_Group1A                           | 0.5078809                                 |\n",
       "\n"
      ],
      "text/plain": [
       "  SubjectID1                               \n",
       "1 X502_Group1A_50dpi_LA_252_B_A2_P121.mzXML\n",
       "2 X503_Group1A_50dpi_LA_253_B_A3_P121.mzXML\n",
       "3 X503_Group1A_50dpi_LA_253_B_A3_P121.mzXML\n",
       "4 X504_Group1A_50dpi_LA_254_B_A4_P121.mzXML\n",
       "5 X504_Group1A_50dpi_LA_254_B_A4_P121.mzXML\n",
       "6 X504_Group1A_50dpi_LA_254_B_A4_P121.mzXML\n",
       "  SubjectID2                                name            Distance \n",
       "1 X501_Group1A_50dpi_LA_251_B_A1_P121.mzXML Group1A_Group1A 0.5183793\n",
       "2 X501_Group1A_50dpi_LA_251_B_A1_P121.mzXML Group1A_Group1A 0.5134534\n",
       "3 X502_Group1A_50dpi_LA_252_B_A2_P121.mzXML Group1A_Group1A 0.3422365\n",
       "4 X501_Group1A_50dpi_LA_251_B_A1_P121.mzXML Group1A_Group1A 0.3006509\n",
       "5 X502_Group1A_50dpi_LA_252_B_A2_P121.mzXML Group1A_Group1A 0.5452108\n",
       "6 X503_Group1A_50dpi_LA_253_B_A3_P121.mzXML Group1A_Group1A 0.5078809"
      ]
     },
     "metadata": {},
     "output_type": "display_data"
    },
    {
     "data": {
      "text/html": [
       "<ol class=list-inline>\n",
       "\t<li>7380</li>\n",
       "\t<li>4</li>\n",
       "</ol>\n"
      ],
      "text/latex": [
       "\\begin{enumerate*}\n",
       "\\item 7380\n",
       "\\item 4\n",
       "\\end{enumerate*}\n"
      ],
      "text/markdown": [
       "1. 7380\n",
       "2. 4\n",
       "\n",
       "\n"
      ],
      "text/plain": [
       "[1] 7380    4"
      ]
     },
     "metadata": {},
     "output_type": "display_data"
    }
   ],
   "source": [
    "head(a)\n",
    "dim(a)"
   ]
  },
  {
   "cell_type": "code",
   "execution_count": 5,
   "metadata": {},
   "outputs": [
    {
     "data": {
      "text/plain": [
       "\n",
       "Group1A_Group1A Group1A_Group1B Group1A_Group1C Group1A_Group3A Group1A_Group3B \n",
       "            105             225             225             225             225 \n",
       "Group1A_Group3E Group1B_Group1A Group1B_Group1B Group1B_Group1C Group1B_Group3A \n",
       "            225             225             105             225             225 \n",
       "Group1B_Group3B Group1B_Group3E Group1C_Group1A Group1C_Group1B Group1C_Group1C \n",
       "            225             225             225             225             105 \n",
       "Group1C_Group3A Group1C_Group3B Group1C_Group3E Group3A_Group1A Group3A_Group1B \n",
       "            225             225             225             225             225 \n",
       "Group3A_Group1C Group3A_Group3A Group3A_Group3B Group3A_Group3E Group3B_Group1A \n",
       "            225             105             225             225             225 \n",
       "Group3B_Group1B Group3B_Group1C Group3B_Group3A Group3B_Group3B Group3B_Group3E \n",
       "            225             225             225             105             225 \n",
       "Group3E_Group1A Group3E_Group1B Group3E_Group1C Group3E_Group3A Group3E_Group3B \n",
       "            225             225             225             225             225 \n",
       "Group3E_Group3E \n",
       "            105 "
      ]
     },
     "metadata": {},
     "output_type": "display_data"
    }
   ],
   "source": [
    "table(a$name)"
   ]
  },
  {
   "cell_type": "code",
   "execution_count": 6,
   "metadata": {},
   "outputs": [],
   "source": [
    "b<-droplevels(subset(a, a$name==c(\"Group3A_Group1A\")|a$name==c(\"Group3B_Group1B\")|a$name==c(\"Group3E_Group1C\")))"
   ]
  },
  {
   "cell_type": "code",
   "execution_count": 7,
   "metadata": {},
   "outputs": [
    {
     "data": {
      "text/html": [
       "<table>\n",
       "<thead><tr><th></th><th scope=col>SubjectID1</th><th scope=col>SubjectID2</th><th scope=col>name</th><th scope=col>Distance</th></tr></thead>\n",
       "<tbody>\n",
       "\t<tr><th scope=row>3796</th><td>X561_Group3A_50dpi_LA_266_B_B4_P121.mzXML</td><td>X501_Group1A_50dpi_LA_251_B_A1_P121.mzXML</td><td>Group3A_Group1A                          </td><td>0.3822536                                </td></tr>\n",
       "\t<tr><th scope=row>3797</th><td>X561_Group3A_50dpi_LA_266_B_B4_P121.mzXML</td><td>X502_Group1A_50dpi_LA_252_B_A2_P121.mzXML</td><td>Group3A_Group1A                          </td><td>0.5529084                                </td></tr>\n",
       "\t<tr><th scope=row>3798</th><td>X561_Group3A_50dpi_LA_266_B_B4_P121.mzXML</td><td>X503_Group1A_50dpi_LA_253_B_A3_P121.mzXML</td><td>Group3A_Group1A                          </td><td>0.3881829                                </td></tr>\n",
       "\t<tr><th scope=row>3799</th><td>X561_Group3A_50dpi_LA_266_B_B4_P121.mzXML</td><td>X504_Group1A_50dpi_LA_254_B_A4_P121.mzXML</td><td>Group3A_Group1A                          </td><td>0.3946273                                </td></tr>\n",
       "\t<tr><th scope=row>3800</th><td>X561_Group3A_50dpi_LA_266_B_B4_P121.mzXML</td><td>X505_Group1A_50dpi_LA_255_B_A5_P121.mzXML</td><td>Group3A_Group1A                          </td><td>0.4738586                                </td></tr>\n",
       "\t<tr><th scope=row>3801</th><td>X561_Group3A_50dpi_LA_266_B_B4_P121.mzXML</td><td>X521_Group1A_50dpi_LA_256_B_A6_P121.mzXML</td><td>Group3A_Group1A                          </td><td>0.4803774                                </td></tr>\n",
       "</tbody>\n",
       "</table>\n"
      ],
      "text/latex": [
       "\\begin{tabular}{r|llll}\n",
       "  & SubjectID1 & SubjectID2 & name & Distance\\\\\n",
       "\\hline\n",
       "\t3796 & X561\\_Group3A\\_50dpi\\_LA\\_266\\_B\\_B4\\_P121.mzXML & X501\\_Group1A\\_50dpi\\_LA\\_251\\_B\\_A1\\_P121.mzXML & Group3A\\_Group1A                                       & 0.3822536                                              \\\\\n",
       "\t3797 & X561\\_Group3A\\_50dpi\\_LA\\_266\\_B\\_B4\\_P121.mzXML & X502\\_Group1A\\_50dpi\\_LA\\_252\\_B\\_A2\\_P121.mzXML & Group3A\\_Group1A                                       & 0.5529084                                              \\\\\n",
       "\t3798 & X561\\_Group3A\\_50dpi\\_LA\\_266\\_B\\_B4\\_P121.mzXML & X503\\_Group1A\\_50dpi\\_LA\\_253\\_B\\_A3\\_P121.mzXML & Group3A\\_Group1A                                       & 0.3881829                                              \\\\\n",
       "\t3799 & X561\\_Group3A\\_50dpi\\_LA\\_266\\_B\\_B4\\_P121.mzXML & X504\\_Group1A\\_50dpi\\_LA\\_254\\_B\\_A4\\_P121.mzXML & Group3A\\_Group1A                                       & 0.3946273                                              \\\\\n",
       "\t3800 & X561\\_Group3A\\_50dpi\\_LA\\_266\\_B\\_B4\\_P121.mzXML & X505\\_Group1A\\_50dpi\\_LA\\_255\\_B\\_A5\\_P121.mzXML & Group3A\\_Group1A                                       & 0.4738586                                              \\\\\n",
       "\t3801 & X561\\_Group3A\\_50dpi\\_LA\\_266\\_B\\_B4\\_P121.mzXML & X521\\_Group1A\\_50dpi\\_LA\\_256\\_B\\_A6\\_P121.mzXML & Group3A\\_Group1A                                       & 0.4803774                                              \\\\\n",
       "\\end{tabular}\n"
      ],
      "text/markdown": [
       "\n",
       "| <!--/--> | SubjectID1 | SubjectID2 | name | Distance |\n",
       "|---|---|---|---|---|\n",
       "| 3796 | X561_Group3A_50dpi_LA_266_B_B4_P121.mzXML | X501_Group1A_50dpi_LA_251_B_A1_P121.mzXML | Group3A_Group1A                           | 0.3822536                                 |\n",
       "| 3797 | X561_Group3A_50dpi_LA_266_B_B4_P121.mzXML | X502_Group1A_50dpi_LA_252_B_A2_P121.mzXML | Group3A_Group1A                           | 0.5529084                                 |\n",
       "| 3798 | X561_Group3A_50dpi_LA_266_B_B4_P121.mzXML | X503_Group1A_50dpi_LA_253_B_A3_P121.mzXML | Group3A_Group1A                           | 0.3881829                                 |\n",
       "| 3799 | X561_Group3A_50dpi_LA_266_B_B4_P121.mzXML | X504_Group1A_50dpi_LA_254_B_A4_P121.mzXML | Group3A_Group1A                           | 0.3946273                                 |\n",
       "| 3800 | X561_Group3A_50dpi_LA_266_B_B4_P121.mzXML | X505_Group1A_50dpi_LA_255_B_A5_P121.mzXML | Group3A_Group1A                           | 0.4738586                                 |\n",
       "| 3801 | X561_Group3A_50dpi_LA_266_B_B4_P121.mzXML | X521_Group1A_50dpi_LA_256_B_A6_P121.mzXML | Group3A_Group1A                           | 0.4803774                                 |\n",
       "\n"
      ],
      "text/plain": [
       "     SubjectID1                               \n",
       "3796 X561_Group3A_50dpi_LA_266_B_B4_P121.mzXML\n",
       "3797 X561_Group3A_50dpi_LA_266_B_B4_P121.mzXML\n",
       "3798 X561_Group3A_50dpi_LA_266_B_B4_P121.mzXML\n",
       "3799 X561_Group3A_50dpi_LA_266_B_B4_P121.mzXML\n",
       "3800 X561_Group3A_50dpi_LA_266_B_B4_P121.mzXML\n",
       "3801 X561_Group3A_50dpi_LA_266_B_B4_P121.mzXML\n",
       "     SubjectID2                                name            Distance \n",
       "3796 X501_Group1A_50dpi_LA_251_B_A1_P121.mzXML Group3A_Group1A 0.3822536\n",
       "3797 X502_Group1A_50dpi_LA_252_B_A2_P121.mzXML Group3A_Group1A 0.5529084\n",
       "3798 X503_Group1A_50dpi_LA_253_B_A3_P121.mzXML Group3A_Group1A 0.3881829\n",
       "3799 X504_Group1A_50dpi_LA_254_B_A4_P121.mzXML Group3A_Group1A 0.3946273\n",
       "3800 X505_Group1A_50dpi_LA_255_B_A5_P121.mzXML Group3A_Group1A 0.4738586\n",
       "3801 X521_Group1A_50dpi_LA_256_B_A6_P121.mzXML Group3A_Group1A 0.4803774"
      ]
     },
     "metadata": {},
     "output_type": "display_data"
    },
    {
     "data": {
      "text/html": [
       "<ol class=list-inline>\n",
       "\t<li>675</li>\n",
       "\t<li>4</li>\n",
       "</ol>\n"
      ],
      "text/latex": [
       "\\begin{enumerate*}\n",
       "\\item 675\n",
       "\\item 4\n",
       "\\end{enumerate*}\n"
      ],
      "text/markdown": [
       "1. 675\n",
       "2. 4\n",
       "\n",
       "\n"
      ],
      "text/plain": [
       "[1] 675   4"
      ]
     },
     "metadata": {},
     "output_type": "display_data"
    }
   ],
   "source": [
    "head(b)\n",
    "dim(b)"
   ]
  },
  {
   "cell_type": "code",
   "execution_count": 8,
   "metadata": {},
   "outputs": [
    {
     "data": {
      "text/plain": [
       "\n",
       "Group1A_Group1A Group1A_Group1B Group1A_Group1C Group1A_Group3A Group1A_Group3B \n",
       "            105             225             225             225             225 \n",
       "Group1A_Group3E Group1B_Group1A Group1B_Group1B Group1B_Group1C Group1B_Group3A \n",
       "            225             225             105             225             225 \n",
       "Group1B_Group3B Group1B_Group3E Group1C_Group1A Group1C_Group1B Group1C_Group1C \n",
       "            225             225             225             225             105 \n",
       "Group1C_Group3A Group1C_Group3B Group1C_Group3E Group3A_Group1A Group3A_Group1B \n",
       "            225             225             225             225             225 \n",
       "Group3A_Group1C Group3A_Group3A Group3A_Group3B Group3A_Group3E Group3B_Group1A \n",
       "            225             105             225             225             225 \n",
       "Group3B_Group1B Group3B_Group1C Group3B_Group3A Group3B_Group3B Group3B_Group3E \n",
       "            225             225             225             105             225 \n",
       "Group3E_Group1A Group3E_Group1B Group3E_Group1C Group3E_Group3A Group3E_Group3B \n",
       "            225             225             225             225             225 \n",
       "Group3E_Group3E \n",
       "            105 "
      ]
     },
     "metadata": {},
     "output_type": "display_data"
    },
    {
     "data": {
      "text/plain": [
       "\n",
       "Group3A_Group1A Group3B_Group1B Group3E_Group1C \n",
       "            225             225             225 "
      ]
     },
     "metadata": {},
     "output_type": "display_data"
    }
   ],
   "source": [
    "table(a$name)\n",
    "table(b$name)"
   ]
  },
  {
   "cell_type": "code",
   "execution_count": 9,
   "metadata": {},
   "outputs": [
    {
     "name": "stderr",
     "output_type": "stream",
     "text": [
      "Dunn (1964) Kruskal-Wallis multiple comparison\n",
      "  p-values adjusted with the Benjamini-Hochberg method.\n",
      "\n"
     ]
    },
    {
     "data": {
      "text/plain": [
       "                         Comparison          Z      P.unadj        P.adj\n",
       "1 Group3A_Group1A - Group3B_Group1B -0.9686759 3.327069e-01 3.327069e-01\n",
       "2 Group3A_Group1A - Group3E_Group1C  8.7700581 1.785742e-18 2.678613e-18\n",
       "3 Group3B_Group1B - Group3E_Group1C  9.7387339 2.061062e-22 6.183185e-22"
      ]
     },
     "metadata": {},
     "output_type": "display_data"
    }
   ],
   "source": [
    "dunnTest(b$Distance ~ b$name, method=\"bh\")"
   ]
  },
  {
   "cell_type": "code",
   "execution_count": null,
   "metadata": {},
   "outputs": [],
   "source": []
  },
  {
   "cell_type": "code",
   "execution_count": null,
   "metadata": {},
   "outputs": [],
   "source": []
  }
 ],
 "metadata": {
  "kernelspec": {
   "display_name": "R",
   "language": "R",
   "name": "ir"
  },
  "language_info": {
   "codemirror_mode": "r",
   "file_extension": ".r",
   "mimetype": "text/x-r-source",
   "name": "R",
   "pygments_lexer": "r",
   "version": "3.6.1"
  }
 },
 "nbformat": 4,
 "nbformat_minor": 4
}
