{
 "cells": [
  {
   "cell_type": "code",
   "execution_count": 1,
   "metadata": {},
   "outputs": [
    {
     "name": "stderr",
     "output_type": "stream",
     "text": [
      "Warning message:\n",
      "\"package 'FSA' was built under R version 3.6.3\"## FSA v0.8.32. See citation('FSA') if used in publication.\n",
      "## Run fishR() for related website and fishR('IFAR') for related book.\n",
      "Warning message:\n",
      "\"package 'ggplot2' was built under R version 3.6.3\""
     ]
    }
   ],
   "source": [
    "library(\"FSA\")\n",
    "library(ggplot2)"
   ]
  },
  {
   "cell_type": "code",
   "execution_count": 2,
   "metadata": {},
   "outputs": [],
   "source": [
    "# read data \n",
    "a <- read.csv(\"time-LVB-distance-data.csv\")"
   ]
  },
  {
   "cell_type": "code",
   "execution_count": 3,
   "metadata": {
    "scrolled": false
   },
   "outputs": [
    {
     "data": {
      "text/html": [
       "<table>\n",
       "<thead><tr><th scope=col>SubjectID1</th><th scope=col>SubjectID2</th><th scope=col>name</th><th scope=col>Distance</th></tr></thead>\n",
       "<tbody>\n",
       "\t<tr><td>X502_Group1A_50dpi_LV_bottom_252_B_A2_P133.mzXML</td><td>X501_Group1A_50dpi_LV_bottom_251_B_A1_P133.mzXML</td><td>Group1A_Group1A                                 </td><td>0.3505564                                       </td></tr>\n",
       "\t<tr><td>X503_Group1A_50dpi_LV_bottom_253_B_A3_P133.mzXML</td><td>X501_Group1A_50dpi_LV_bottom_251_B_A1_P133.mzXML</td><td>Group1A_Group1A                                 </td><td>0.3512999                                       </td></tr>\n",
       "\t<tr><td>X503_Group1A_50dpi_LV_bottom_253_B_A3_P133.mzXML</td><td>X502_Group1A_50dpi_LV_bottom_252_B_A2_P133.mzXML</td><td>Group1A_Group1A                                 </td><td>0.2600129                                       </td></tr>\n",
       "\t<tr><td>X504_Group1A_50dpi_LV_bottom_254_B_A4_P133.mzXML</td><td>X501_Group1A_50dpi_LV_bottom_251_B_A1_P133.mzXML</td><td>Group1A_Group1A                                 </td><td>0.3743211                                       </td></tr>\n",
       "\t<tr><td>X504_Group1A_50dpi_LV_bottom_254_B_A4_P133.mzXML</td><td>X502_Group1A_50dpi_LV_bottom_252_B_A2_P133.mzXML</td><td>Group1A_Group1A                                 </td><td>0.2770522                                       </td></tr>\n",
       "\t<tr><td>X504_Group1A_50dpi_LV_bottom_254_B_A4_P133.mzXML</td><td>X503_Group1A_50dpi_LV_bottom_253_B_A3_P133.mzXML</td><td>Group1A_Group1A                                 </td><td>0.2016069                                       </td></tr>\n",
       "</tbody>\n",
       "</table>\n"
      ],
      "text/latex": [
       "\\begin{tabular}{r|llll}\n",
       " SubjectID1 & SubjectID2 & name & Distance\\\\\n",
       "\\hline\n",
       "\t X502\\_Group1A\\_50dpi\\_LV\\_bottom\\_252\\_B\\_A2\\_P133.mzXML & X501\\_Group1A\\_50dpi\\_LV\\_bottom\\_251\\_B\\_A1\\_P133.mzXML & Group1A\\_Group1A                                                & 0.3505564                                                       \\\\\n",
       "\t X503\\_Group1A\\_50dpi\\_LV\\_bottom\\_253\\_B\\_A3\\_P133.mzXML & X501\\_Group1A\\_50dpi\\_LV\\_bottom\\_251\\_B\\_A1\\_P133.mzXML & Group1A\\_Group1A                                                & 0.3512999                                                       \\\\\n",
       "\t X503\\_Group1A\\_50dpi\\_LV\\_bottom\\_253\\_B\\_A3\\_P133.mzXML & X502\\_Group1A\\_50dpi\\_LV\\_bottom\\_252\\_B\\_A2\\_P133.mzXML & Group1A\\_Group1A                                                & 0.2600129                                                       \\\\\n",
       "\t X504\\_Group1A\\_50dpi\\_LV\\_bottom\\_254\\_B\\_A4\\_P133.mzXML & X501\\_Group1A\\_50dpi\\_LV\\_bottom\\_251\\_B\\_A1\\_P133.mzXML & Group1A\\_Group1A                                                & 0.3743211                                                       \\\\\n",
       "\t X504\\_Group1A\\_50dpi\\_LV\\_bottom\\_254\\_B\\_A4\\_P133.mzXML & X502\\_Group1A\\_50dpi\\_LV\\_bottom\\_252\\_B\\_A2\\_P133.mzXML & Group1A\\_Group1A                                                & 0.2770522                                                       \\\\\n",
       "\t X504\\_Group1A\\_50dpi\\_LV\\_bottom\\_254\\_B\\_A4\\_P133.mzXML & X503\\_Group1A\\_50dpi\\_LV\\_bottom\\_253\\_B\\_A3\\_P133.mzXML & Group1A\\_Group1A                                                & 0.2016069                                                       \\\\\n",
       "\\end{tabular}\n"
      ],
      "text/markdown": [
       "\n",
       "| SubjectID1 | SubjectID2 | name | Distance |\n",
       "|---|---|---|---|\n",
       "| X502_Group1A_50dpi_LV_bottom_252_B_A2_P133.mzXML | X501_Group1A_50dpi_LV_bottom_251_B_A1_P133.mzXML | Group1A_Group1A                                  | 0.3505564                                        |\n",
       "| X503_Group1A_50dpi_LV_bottom_253_B_A3_P133.mzXML | X501_Group1A_50dpi_LV_bottom_251_B_A1_P133.mzXML | Group1A_Group1A                                  | 0.3512999                                        |\n",
       "| X503_Group1A_50dpi_LV_bottom_253_B_A3_P133.mzXML | X502_Group1A_50dpi_LV_bottom_252_B_A2_P133.mzXML | Group1A_Group1A                                  | 0.2600129                                        |\n",
       "| X504_Group1A_50dpi_LV_bottom_254_B_A4_P133.mzXML | X501_Group1A_50dpi_LV_bottom_251_B_A1_P133.mzXML | Group1A_Group1A                                  | 0.3743211                                        |\n",
       "| X504_Group1A_50dpi_LV_bottom_254_B_A4_P133.mzXML | X502_Group1A_50dpi_LV_bottom_252_B_A2_P133.mzXML | Group1A_Group1A                                  | 0.2770522                                        |\n",
       "| X504_Group1A_50dpi_LV_bottom_254_B_A4_P133.mzXML | X503_Group1A_50dpi_LV_bottom_253_B_A3_P133.mzXML | Group1A_Group1A                                  | 0.2016069                                        |\n",
       "\n"
      ],
      "text/plain": [
       "  SubjectID1                                      \n",
       "1 X502_Group1A_50dpi_LV_bottom_252_B_A2_P133.mzXML\n",
       "2 X503_Group1A_50dpi_LV_bottom_253_B_A3_P133.mzXML\n",
       "3 X503_Group1A_50dpi_LV_bottom_253_B_A3_P133.mzXML\n",
       "4 X504_Group1A_50dpi_LV_bottom_254_B_A4_P133.mzXML\n",
       "5 X504_Group1A_50dpi_LV_bottom_254_B_A4_P133.mzXML\n",
       "6 X504_Group1A_50dpi_LV_bottom_254_B_A4_P133.mzXML\n",
       "  SubjectID2                                       name            Distance \n",
       "1 X501_Group1A_50dpi_LV_bottom_251_B_A1_P133.mzXML Group1A_Group1A 0.3505564\n",
       "2 X501_Group1A_50dpi_LV_bottom_251_B_A1_P133.mzXML Group1A_Group1A 0.3512999\n",
       "3 X502_Group1A_50dpi_LV_bottom_252_B_A2_P133.mzXML Group1A_Group1A 0.2600129\n",
       "4 X501_Group1A_50dpi_LV_bottom_251_B_A1_P133.mzXML Group1A_Group1A 0.3743211\n",
       "5 X502_Group1A_50dpi_LV_bottom_252_B_A2_P133.mzXML Group1A_Group1A 0.2770522\n",
       "6 X503_Group1A_50dpi_LV_bottom_253_B_A3_P133.mzXML Group1A_Group1A 0.2016069"
      ]
     },
     "metadata": {},
     "output_type": "display_data"
    },
    {
     "data": {
      "text/html": [
       "<ol class=list-inline>\n",
       "\t<li>7380</li>\n",
       "\t<li>4</li>\n",
       "</ol>\n"
      ],
      "text/latex": [
       "\\begin{enumerate*}\n",
       "\\item 7380\n",
       "\\item 4\n",
       "\\end{enumerate*}\n"
      ],
      "text/markdown": [
       "1. 7380\n",
       "2. 4\n",
       "\n",
       "\n"
      ],
      "text/plain": [
       "[1] 7380    4"
      ]
     },
     "metadata": {},
     "output_type": "display_data"
    }
   ],
   "source": [
    "head(a)\n",
    "dim(a)"
   ]
  },
  {
   "cell_type": "code",
   "execution_count": 5,
   "metadata": {},
   "outputs": [
    {
     "data": {
      "text/plain": [
       "\n",
       "Group1A_Group1A Group1A_Group1B Group1A_Group1C Group1A_Group3A Group1A_Group3B \n",
       "            105             225             225             225             225 \n",
       "Group1A_Group3E Group1B_Group1A Group1B_Group1B Group1B_Group1C Group1B_Group3A \n",
       "            225             225             105             225             225 \n",
       "Group1B_Group3B Group1B_Group3E Group1C_Group1A Group1C_Group1B Group1C_Group1C \n",
       "            225             225             225             225             105 \n",
       "Group1C_Group3A Group1C_Group3B Group1C_Group3E Group3A_Group1A Group3A_Group1B \n",
       "            225             225             225             225             225 \n",
       "Group3A_Group1C Group3A_Group3A Group3A_Group3B Group3A_Group3E Group3B_Group1A \n",
       "            225             105             225             225             225 \n",
       "Group3B_Group1B Group3B_Group1C Group3B_Group3A Group3B_Group3B Group3B_Group3E \n",
       "            225             225             225             105             225 \n",
       "Group3E_Group1A Group3E_Group1B Group3E_Group1C Group3E_Group3A Group3E_Group3B \n",
       "            225             225             225             225             225 \n",
       "Group3E_Group3E \n",
       "            105 "
      ]
     },
     "metadata": {},
     "output_type": "display_data"
    }
   ],
   "source": [
    "table(a$name)"
   ]
  },
  {
   "cell_type": "code",
   "execution_count": 9,
   "metadata": {},
   "outputs": [],
   "source": [
    "b<-droplevels(subset(a, a$name==c(\"Group3A_Group1A\")|a$name==c(\"Group3B_Group1B\")|a$name==c(\"Group3E_Group1C\")))"
   ]
  },
  {
   "cell_type": "code",
   "execution_count": 10,
   "metadata": {},
   "outputs": [
    {
     "data": {
      "text/html": [
       "<table>\n",
       "<thead><tr><th></th><th scope=col>SubjectID1</th><th scope=col>SubjectID2</th><th scope=col>name</th><th scope=col>Distance</th></tr></thead>\n",
       "<tbody>\n",
       "\t<tr><th scope=row>3796</th><td>X561_Group3A_50dpi_LV_bottom_266_B_B4_P133.mzXML</td><td>X501_Group1A_50dpi_LV_bottom_251_B_A1_P133.mzXML</td><td>Group3A_Group1A                                 </td><td>0.3460694                                       </td></tr>\n",
       "\t<tr><th scope=row>3797</th><td>X561_Group3A_50dpi_LV_bottom_266_B_B4_P133.mzXML</td><td>X502_Group1A_50dpi_LV_bottom_252_B_A2_P133.mzXML</td><td>Group3A_Group1A                                 </td><td>0.2765603                                       </td></tr>\n",
       "\t<tr><th scope=row>3798</th><td>X561_Group3A_50dpi_LV_bottom_266_B_B4_P133.mzXML</td><td>X503_Group1A_50dpi_LV_bottom_253_B_A3_P133.mzXML</td><td>Group3A_Group1A                                 </td><td>0.2802614                                       </td></tr>\n",
       "\t<tr><th scope=row>3799</th><td>X561_Group3A_50dpi_LV_bottom_266_B_B4_P133.mzXML</td><td>X504_Group1A_50dpi_LV_bottom_254_B_A4_P133.mzXML</td><td>Group3A_Group1A                                 </td><td>0.2572922                                       </td></tr>\n",
       "\t<tr><th scope=row>3800</th><td>X561_Group3A_50dpi_LV_bottom_266_B_B4_P133.mzXML</td><td>X505_Group1A_50dpi_LV_bottom_255_B_A5_P133.mzXML</td><td>Group3A_Group1A                                 </td><td>0.2560151                                       </td></tr>\n",
       "\t<tr><th scope=row>3801</th><td>X561_Group3A_50dpi_LV_bottom_266_B_B4_P133.mzXML</td><td>X521_Group1A_50dpi_LV_bottom_256_B_A6_P133.mzXML</td><td>Group3A_Group1A                                 </td><td>0.2606855                                       </td></tr>\n",
       "</tbody>\n",
       "</table>\n"
      ],
      "text/latex": [
       "\\begin{tabular}{r|llll}\n",
       "  & SubjectID1 & SubjectID2 & name & Distance\\\\\n",
       "\\hline\n",
       "\t3796 & X561\\_Group3A\\_50dpi\\_LV\\_bottom\\_266\\_B\\_B4\\_P133.mzXML & X501\\_Group1A\\_50dpi\\_LV\\_bottom\\_251\\_B\\_A1\\_P133.mzXML & Group3A\\_Group1A                                                & 0.3460694                                                       \\\\\n",
       "\t3797 & X561\\_Group3A\\_50dpi\\_LV\\_bottom\\_266\\_B\\_B4\\_P133.mzXML & X502\\_Group1A\\_50dpi\\_LV\\_bottom\\_252\\_B\\_A2\\_P133.mzXML & Group3A\\_Group1A                                                & 0.2765603                                                       \\\\\n",
       "\t3798 & X561\\_Group3A\\_50dpi\\_LV\\_bottom\\_266\\_B\\_B4\\_P133.mzXML & X503\\_Group1A\\_50dpi\\_LV\\_bottom\\_253\\_B\\_A3\\_P133.mzXML & Group3A\\_Group1A                                                & 0.2802614                                                       \\\\\n",
       "\t3799 & X561\\_Group3A\\_50dpi\\_LV\\_bottom\\_266\\_B\\_B4\\_P133.mzXML & X504\\_Group1A\\_50dpi\\_LV\\_bottom\\_254\\_B\\_A4\\_P133.mzXML & Group3A\\_Group1A                                                & 0.2572922                                                       \\\\\n",
       "\t3800 & X561\\_Group3A\\_50dpi\\_LV\\_bottom\\_266\\_B\\_B4\\_P133.mzXML & X505\\_Group1A\\_50dpi\\_LV\\_bottom\\_255\\_B\\_A5\\_P133.mzXML & Group3A\\_Group1A                                                & 0.2560151                                                       \\\\\n",
       "\t3801 & X561\\_Group3A\\_50dpi\\_LV\\_bottom\\_266\\_B\\_B4\\_P133.mzXML & X521\\_Group1A\\_50dpi\\_LV\\_bottom\\_256\\_B\\_A6\\_P133.mzXML & Group3A\\_Group1A                                                & 0.2606855                                                       \\\\\n",
       "\\end{tabular}\n"
      ],
      "text/markdown": [
       "\n",
       "| <!--/--> | SubjectID1 | SubjectID2 | name | Distance |\n",
       "|---|---|---|---|---|\n",
       "| 3796 | X561_Group3A_50dpi_LV_bottom_266_B_B4_P133.mzXML | X501_Group1A_50dpi_LV_bottom_251_B_A1_P133.mzXML | Group3A_Group1A                                  | 0.3460694                                        |\n",
       "| 3797 | X561_Group3A_50dpi_LV_bottom_266_B_B4_P133.mzXML | X502_Group1A_50dpi_LV_bottom_252_B_A2_P133.mzXML | Group3A_Group1A                                  | 0.2765603                                        |\n",
       "| 3798 | X561_Group3A_50dpi_LV_bottom_266_B_B4_P133.mzXML | X503_Group1A_50dpi_LV_bottom_253_B_A3_P133.mzXML | Group3A_Group1A                                  | 0.2802614                                        |\n",
       "| 3799 | X561_Group3A_50dpi_LV_bottom_266_B_B4_P133.mzXML | X504_Group1A_50dpi_LV_bottom_254_B_A4_P133.mzXML | Group3A_Group1A                                  | 0.2572922                                        |\n",
       "| 3800 | X561_Group3A_50dpi_LV_bottom_266_B_B4_P133.mzXML | X505_Group1A_50dpi_LV_bottom_255_B_A5_P133.mzXML | Group3A_Group1A                                  | 0.2560151                                        |\n",
       "| 3801 | X561_Group3A_50dpi_LV_bottom_266_B_B4_P133.mzXML | X521_Group1A_50dpi_LV_bottom_256_B_A6_P133.mzXML | Group3A_Group1A                                  | 0.2606855                                        |\n",
       "\n"
      ],
      "text/plain": [
       "     SubjectID1                                      \n",
       "3796 X561_Group3A_50dpi_LV_bottom_266_B_B4_P133.mzXML\n",
       "3797 X561_Group3A_50dpi_LV_bottom_266_B_B4_P133.mzXML\n",
       "3798 X561_Group3A_50dpi_LV_bottom_266_B_B4_P133.mzXML\n",
       "3799 X561_Group3A_50dpi_LV_bottom_266_B_B4_P133.mzXML\n",
       "3800 X561_Group3A_50dpi_LV_bottom_266_B_B4_P133.mzXML\n",
       "3801 X561_Group3A_50dpi_LV_bottom_266_B_B4_P133.mzXML\n",
       "     SubjectID2                                       name            Distance \n",
       "3796 X501_Group1A_50dpi_LV_bottom_251_B_A1_P133.mzXML Group3A_Group1A 0.3460694\n",
       "3797 X502_Group1A_50dpi_LV_bottom_252_B_A2_P133.mzXML Group3A_Group1A 0.2765603\n",
       "3798 X503_Group1A_50dpi_LV_bottom_253_B_A3_P133.mzXML Group3A_Group1A 0.2802614\n",
       "3799 X504_Group1A_50dpi_LV_bottom_254_B_A4_P133.mzXML Group3A_Group1A 0.2572922\n",
       "3800 X505_Group1A_50dpi_LV_bottom_255_B_A5_P133.mzXML Group3A_Group1A 0.2560151\n",
       "3801 X521_Group1A_50dpi_LV_bottom_256_B_A6_P133.mzXML Group3A_Group1A 0.2606855"
      ]
     },
     "metadata": {},
     "output_type": "display_data"
    },
    {
     "data": {
      "text/html": [
       "<ol class=list-inline>\n",
       "\t<li>675</li>\n",
       "\t<li>4</li>\n",
       "</ol>\n"
      ],
      "text/latex": [
       "\\begin{enumerate*}\n",
       "\\item 675\n",
       "\\item 4\n",
       "\\end{enumerate*}\n"
      ],
      "text/markdown": [
       "1. 675\n",
       "2. 4\n",
       "\n",
       "\n"
      ],
      "text/plain": [
       "[1] 675   4"
      ]
     },
     "metadata": {},
     "output_type": "display_data"
    }
   ],
   "source": [
    "head(b)\n",
    "dim(b)"
   ]
  },
  {
   "cell_type": "code",
   "execution_count": 12,
   "metadata": {},
   "outputs": [
    {
     "data": {
      "text/plain": [
       "\n",
       "Group1A_Group1A Group1A_Group1B Group1A_Group1C Group1A_Group3A Group1A_Group3B \n",
       "            105             225             225             225             225 \n",
       "Group1A_Group3E Group1B_Group1A Group1B_Group1B Group1B_Group1C Group1B_Group3A \n",
       "            225             225             105             225             225 \n",
       "Group1B_Group3B Group1B_Group3E Group1C_Group1A Group1C_Group1B Group1C_Group1C \n",
       "            225             225             225             225             105 \n",
       "Group1C_Group3A Group1C_Group3B Group1C_Group3E Group3A_Group1A Group3A_Group1B \n",
       "            225             225             225             225             225 \n",
       "Group3A_Group1C Group3A_Group3A Group3A_Group3B Group3A_Group3E Group3B_Group1A \n",
       "            225             105             225             225             225 \n",
       "Group3B_Group1B Group3B_Group1C Group3B_Group3A Group3B_Group3B Group3B_Group3E \n",
       "            225             225             225             105             225 \n",
       "Group3E_Group1A Group3E_Group1B Group3E_Group1C Group3E_Group3A Group3E_Group3B \n",
       "            225             225             225             225             225 \n",
       "Group3E_Group3E \n",
       "            105 "
      ]
     },
     "metadata": {},
     "output_type": "display_data"
    },
    {
     "data": {
      "text/plain": [
       "\n",
       "Group3A_Group1A Group3B_Group1B Group3E_Group1C \n",
       "            225             225             225 "
      ]
     },
     "metadata": {},
     "output_type": "display_data"
    }
   ],
   "source": [
    "table(a$name)\n",
    "table(b$name)"
   ]
  },
  {
   "cell_type": "code",
   "execution_count": 14,
   "metadata": {},
   "outputs": [
    {
     "name": "stderr",
     "output_type": "stream",
     "text": [
      "Dunn (1964) Kruskal-Wallis multiple comparison\n",
      "  p-values adjusted with the Benjamini-Hochberg method.\n",
      "\n"
     ]
    },
    {
     "data": {
      "text/plain": [
       "                         Comparison        Z      P.unadj        P.adj\n",
       "1 Group3A_Group1A - Group3B_Group1B 6.045582 1.488719e-09 2.233079e-09\n",
       "2 Group3A_Group1A - Group3E_Group1C 8.435240 3.305239e-17 9.915717e-17\n",
       "3 Group3B_Group1B - Group3E_Group1C 2.389658 1.686405e-02 1.686405e-02"
      ]
     },
     "metadata": {},
     "output_type": "display_data"
    }
   ],
   "source": [
    "dunnTest(b$Distance ~ b$name, method=\"bh\")"
   ]
  },
  {
   "cell_type": "code",
   "execution_count": null,
   "metadata": {},
   "outputs": [],
   "source": []
  },
  {
   "cell_type": "code",
   "execution_count": null,
   "metadata": {},
   "outputs": [],
   "source": []
  }
 ],
 "metadata": {
  "kernelspec": {
   "display_name": "R",
   "language": "R",
   "name": "ir"
  },
  "language_info": {
   "codemirror_mode": "r",
   "file_extension": ".r",
   "mimetype": "text/x-r-source",
   "name": "R",
   "pygments_lexer": "r",
   "version": "3.6.1"
  }
 },
 "nbformat": 4,
 "nbformat_minor": 4
}
