{
 "cells": [
  {
   "cell_type": "code",
   "execution_count": 1,
   "metadata": {},
   "outputs": [
    {
     "name": "stderr",
     "output_type": "stream",
     "text": [
      "## FSA v0.9.4. See citation('FSA') if used in publication.\n",
      "## Run fishR() for related website and fishR('IFAR') for related book.\n"
     ]
    }
   ],
   "source": [
    "library(\"FSA\")\n",
    "library(ggplot2)"
   ]
  },
  {
   "cell_type": "code",
   "execution_count": 2,
   "metadata": {},
   "outputs": [
    {
     "data": {
      "text/html": [
       "<table>\n",
       "<thead><tr><th scope=col>SubjectID1</th><th scope=col>SubjectID2</th><th scope=col>Group1</th><th scope=col>Group2</th><th scope=col>group_name</th><th scope=col>Distance</th></tr></thead>\n",
       "<tbody>\n",
       "\t<tr><td>X512_Group1C_142dpi_LV_top_162_G_A2_P128.mzXML</td><td>X511_Group1C_142dpi_LV_top_161_G_A1_P128.mzXML</td><td>Group1C                                       </td><td>Group1C                                       </td><td>Group1C_Group1C                               </td><td>0.2816069                                     </td></tr>\n",
       "\t<tr><td>X513_Group1C_142dpi_LV_top_163_G_A3_P128.mzXML</td><td>X511_Group1C_142dpi_LV_top_161_G_A1_P128.mzXML</td><td>Group1C                                       </td><td>Group1C                                       </td><td>Group1C_Group1C                               </td><td>0.3457342                                     </td></tr>\n",
       "\t<tr><td>X513_Group1C_142dpi_LV_top_163_G_A3_P128.mzXML</td><td>X512_Group1C_142dpi_LV_top_162_G_A2_P128.mzXML</td><td>Group1C                                       </td><td>Group1C                                       </td><td>Group1C_Group1C                               </td><td>0.4639421                                     </td></tr>\n",
       "\t<tr><td>X514_Group1C_142dpi_LV_top_164_G_A4_P128.mzXML</td><td>X511_Group1C_142dpi_LV_top_161_G_A1_P128.mzXML</td><td>Group1C                                       </td><td>Group1C                                       </td><td>Group1C_Group1C                               </td><td>0.3717948                                     </td></tr>\n",
       "\t<tr><td>X514_Group1C_142dpi_LV_top_164_G_A4_P128.mzXML</td><td>X512_Group1C_142dpi_LV_top_162_G_A2_P128.mzXML</td><td>Group1C                                       </td><td>Group1C                                       </td><td>Group1C_Group1C                               </td><td>0.2797557                                     </td></tr>\n",
       "\t<tr><td>X514_Group1C_142dpi_LV_top_164_G_A4_P128.mzXML</td><td>X513_Group1C_142dpi_LV_top_163_G_A3_P128.mzXML</td><td>Group1C                                       </td><td>Group1C                                       </td><td>Group1C_Group1C                               </td><td>0.4493788                                     </td></tr>\n",
       "</tbody>\n",
       "</table>\n"
      ],
      "text/latex": [
       "\\begin{tabular}{r|llllll}\n",
       " SubjectID1 & SubjectID2 & Group1 & Group2 & group\\_name & Distance\\\\\n",
       "\\hline\n",
       "\t X512\\_Group1C\\_142dpi\\_LV\\_top\\_162\\_G\\_A2\\_P128.mzXML & X511\\_Group1C\\_142dpi\\_LV\\_top\\_161\\_G\\_A1\\_P128.mzXML & Group1C                                                        & Group1C                                                        & Group1C\\_Group1C                                              & 0.2816069                                                     \\\\\n",
       "\t X513\\_Group1C\\_142dpi\\_LV\\_top\\_163\\_G\\_A3\\_P128.mzXML & X511\\_Group1C\\_142dpi\\_LV\\_top\\_161\\_G\\_A1\\_P128.mzXML & Group1C                                                        & Group1C                                                        & Group1C\\_Group1C                                              & 0.3457342                                                     \\\\\n",
       "\t X513\\_Group1C\\_142dpi\\_LV\\_top\\_163\\_G\\_A3\\_P128.mzXML & X512\\_Group1C\\_142dpi\\_LV\\_top\\_162\\_G\\_A2\\_P128.mzXML & Group1C                                                        & Group1C                                                        & Group1C\\_Group1C                                              & 0.4639421                                                     \\\\\n",
       "\t X514\\_Group1C\\_142dpi\\_LV\\_top\\_164\\_G\\_A4\\_P128.mzXML & X511\\_Group1C\\_142dpi\\_LV\\_top\\_161\\_G\\_A1\\_P128.mzXML & Group1C                                                        & Group1C                                                        & Group1C\\_Group1C                                              & 0.3717948                                                     \\\\\n",
       "\t X514\\_Group1C\\_142dpi\\_LV\\_top\\_164\\_G\\_A4\\_P128.mzXML & X512\\_Group1C\\_142dpi\\_LV\\_top\\_162\\_G\\_A2\\_P128.mzXML & Group1C                                                        & Group1C                                                        & Group1C\\_Group1C                                              & 0.2797557                                                     \\\\\n",
       "\t X514\\_Group1C\\_142dpi\\_LV\\_top\\_164\\_G\\_A4\\_P128.mzXML & X513\\_Group1C\\_142dpi\\_LV\\_top\\_163\\_G\\_A3\\_P128.mzXML & Group1C                                                        & Group1C                                                        & Group1C\\_Group1C                                              & 0.4493788                                                     \\\\\n",
       "\\end{tabular}\n"
      ],
      "text/markdown": [
       "\n",
       "| SubjectID1 | SubjectID2 | Group1 | Group2 | group_name | Distance |\n",
       "|---|---|---|---|---|---|\n",
       "| X512_Group1C_142dpi_LV_top_162_G_A2_P128.mzXML | X511_Group1C_142dpi_LV_top_161_G_A1_P128.mzXML | Group1C                                        | Group1C                                        | Group1C_Group1C                                | 0.2816069                                      |\n",
       "| X513_Group1C_142dpi_LV_top_163_G_A3_P128.mzXML | X511_Group1C_142dpi_LV_top_161_G_A1_P128.mzXML | Group1C                                        | Group1C                                        | Group1C_Group1C                                | 0.3457342                                      |\n",
       "| X513_Group1C_142dpi_LV_top_163_G_A3_P128.mzXML | X512_Group1C_142dpi_LV_top_162_G_A2_P128.mzXML | Group1C                                        | Group1C                                        | Group1C_Group1C                                | 0.4639421                                      |\n",
       "| X514_Group1C_142dpi_LV_top_164_G_A4_P128.mzXML | X511_Group1C_142dpi_LV_top_161_G_A1_P128.mzXML | Group1C                                        | Group1C                                        | Group1C_Group1C                                | 0.3717948                                      |\n",
       "| X514_Group1C_142dpi_LV_top_164_G_A4_P128.mzXML | X512_Group1C_142dpi_LV_top_162_G_A2_P128.mzXML | Group1C                                        | Group1C                                        | Group1C_Group1C                                | 0.2797557                                      |\n",
       "| X514_Group1C_142dpi_LV_top_164_G_A4_P128.mzXML | X513_Group1C_142dpi_LV_top_163_G_A3_P128.mzXML | Group1C                                        | Group1C                                        | Group1C_Group1C                                | 0.4493788                                      |\n",
       "\n"
      ],
      "text/plain": [
       "  SubjectID1                                    \n",
       "1 X512_Group1C_142dpi_LV_top_162_G_A2_P128.mzXML\n",
       "2 X513_Group1C_142dpi_LV_top_163_G_A3_P128.mzXML\n",
       "3 X513_Group1C_142dpi_LV_top_163_G_A3_P128.mzXML\n",
       "4 X514_Group1C_142dpi_LV_top_164_G_A4_P128.mzXML\n",
       "5 X514_Group1C_142dpi_LV_top_164_G_A4_P128.mzXML\n",
       "6 X514_Group1C_142dpi_LV_top_164_G_A4_P128.mzXML\n",
       "  SubjectID2                                     Group1  Group2 \n",
       "1 X511_Group1C_142dpi_LV_top_161_G_A1_P128.mzXML Group1C Group1C\n",
       "2 X511_Group1C_142dpi_LV_top_161_G_A1_P128.mzXML Group1C Group1C\n",
       "3 X512_Group1C_142dpi_LV_top_162_G_A2_P128.mzXML Group1C Group1C\n",
       "4 X511_Group1C_142dpi_LV_top_161_G_A1_P128.mzXML Group1C Group1C\n",
       "5 X512_Group1C_142dpi_LV_top_162_G_A2_P128.mzXML Group1C Group1C\n",
       "6 X513_Group1C_142dpi_LV_top_163_G_A3_P128.mzXML Group1C Group1C\n",
       "  group_name      Distance \n",
       "1 Group1C_Group1C 0.2816069\n",
       "2 Group1C_Group1C 0.3457342\n",
       "3 Group1C_Group1C 0.4639421\n",
       "4 Group1C_Group1C 0.3717948\n",
       "5 Group1C_Group1C 0.2797557\n",
       "6 Group1C_Group1C 0.4493788"
      ]
     },
     "metadata": {},
     "output_type": "display_data"
    },
    {
     "data": {
      "text/html": [
       "<ol class=list-inline>\n",
       "\t<li>3120</li>\n",
       "\t<li>6</li>\n",
       "</ol>\n"
      ],
      "text/latex": [
       "\\begin{enumerate*}\n",
       "\\item 3120\n",
       "\\item 6\n",
       "\\end{enumerate*}\n"
      ],
      "text/markdown": [
       "1. 3120\n",
       "2. 6\n",
       "\n",
       "\n"
      ],
      "text/plain": [
       "[1] 3120    6"
      ]
     },
     "metadata": {},
     "output_type": "display_data"
    },
    {
     "data": {
      "text/plain": [
       "\n",
       "Group15_Group15 Group15_Group1C Group15_Group3E  Group15_Group9 Group1C_Group15 \n",
       "            105             225             225             225             225 \n",
       "Group1C_Group1C Group1C_Group3E  Group1C_Group9 Group3E_Group15 Group3E_Group1C \n",
       "            105             225             225             225             225 \n",
       "Group3E_Group3E  Group3E_Group9  Group9_Group15  Group9_Group1C  Group9_Group3E \n",
       "            105             225             225             225             225 \n",
       "  Group9_Group9 \n",
       "            105 "
      ]
     },
     "metadata": {},
     "output_type": "display_data"
    }
   ],
   "source": [
    "# read data \n",
    "a <- read.csv(\"treatment-LVT-distance-data.csv\")\n",
    "head(a)\n",
    "dim(a)\n",
    "table(a$group_name)"
   ]
  },
  {
   "cell_type": "code",
   "execution_count": 3,
   "metadata": {},
   "outputs": [
    {
     "data": {
      "text/html": [
       "<table>\n",
       "<thead><tr><th scope=col>SubjectID1</th><th scope=col>SubjectID2</th><th scope=col>Group1</th><th scope=col>Group2</th><th scope=col>group_name</th><th scope=col>Distance</th></tr></thead>\n",
       "<tbody>\n",
       "\t<tr><td>X512_Group1C_142dpi_LV_top_162_G_A2_P128.mzXML</td><td>X511_Group1C_142dpi_LV_top_161_G_A1_P128.mzXML</td><td>Group1C                                       </td><td>Group1C                                       </td><td>Group1C_Group1C                               </td><td>0.2816069                                     </td></tr>\n",
       "\t<tr><td>X513_Group1C_142dpi_LV_top_163_G_A3_P128.mzXML</td><td>X511_Group1C_142dpi_LV_top_161_G_A1_P128.mzXML</td><td>Group1C                                       </td><td>Group1C                                       </td><td>Group1C_Group1C                               </td><td>0.3457342                                     </td></tr>\n",
       "\t<tr><td>X513_Group1C_142dpi_LV_top_163_G_A3_P128.mzXML</td><td>X512_Group1C_142dpi_LV_top_162_G_A2_P128.mzXML</td><td>Group1C                                       </td><td>Group1C                                       </td><td>Group1C_Group1C                               </td><td>0.4639421                                     </td></tr>\n",
       "\t<tr><td>X514_Group1C_142dpi_LV_top_164_G_A4_P128.mzXML</td><td>X511_Group1C_142dpi_LV_top_161_G_A1_P128.mzXML</td><td>Group1C                                       </td><td>Group1C                                       </td><td>Group1C_Group1C                               </td><td>0.3717948                                     </td></tr>\n",
       "\t<tr><td>X514_Group1C_142dpi_LV_top_164_G_A4_P128.mzXML</td><td>X512_Group1C_142dpi_LV_top_162_G_A2_P128.mzXML</td><td>Group1C                                       </td><td>Group1C                                       </td><td>Group1C_Group1C                               </td><td>0.2797557                                     </td></tr>\n",
       "\t<tr><td>X514_Group1C_142dpi_LV_top_164_G_A4_P128.mzXML</td><td>X513_Group1C_142dpi_LV_top_163_G_A3_P128.mzXML</td><td>Group1C                                       </td><td>Group1C                                       </td><td>Group1C_Group1C                               </td><td>0.4493788                                     </td></tr>\n",
       "</tbody>\n",
       "</table>\n"
      ],
      "text/latex": [
       "\\begin{tabular}{r|llllll}\n",
       " SubjectID1 & SubjectID2 & Group1 & Group2 & group\\_name & Distance\\\\\n",
       "\\hline\n",
       "\t X512\\_Group1C\\_142dpi\\_LV\\_top\\_162\\_G\\_A2\\_P128.mzXML & X511\\_Group1C\\_142dpi\\_LV\\_top\\_161\\_G\\_A1\\_P128.mzXML & Group1C                                                        & Group1C                                                        & Group1C\\_Group1C                                              & 0.2816069                                                     \\\\\n",
       "\t X513\\_Group1C\\_142dpi\\_LV\\_top\\_163\\_G\\_A3\\_P128.mzXML & X511\\_Group1C\\_142dpi\\_LV\\_top\\_161\\_G\\_A1\\_P128.mzXML & Group1C                                                        & Group1C                                                        & Group1C\\_Group1C                                              & 0.3457342                                                     \\\\\n",
       "\t X513\\_Group1C\\_142dpi\\_LV\\_top\\_163\\_G\\_A3\\_P128.mzXML & X512\\_Group1C\\_142dpi\\_LV\\_top\\_162\\_G\\_A2\\_P128.mzXML & Group1C                                                        & Group1C                                                        & Group1C\\_Group1C                                              & 0.4639421                                                     \\\\\n",
       "\t X514\\_Group1C\\_142dpi\\_LV\\_top\\_164\\_G\\_A4\\_P128.mzXML & X511\\_Group1C\\_142dpi\\_LV\\_top\\_161\\_G\\_A1\\_P128.mzXML & Group1C                                                        & Group1C                                                        & Group1C\\_Group1C                                              & 0.3717948                                                     \\\\\n",
       "\t X514\\_Group1C\\_142dpi\\_LV\\_top\\_164\\_G\\_A4\\_P128.mzXML & X512\\_Group1C\\_142dpi\\_LV\\_top\\_162\\_G\\_A2\\_P128.mzXML & Group1C                                                        & Group1C                                                        & Group1C\\_Group1C                                              & 0.2797557                                                     \\\\\n",
       "\t X514\\_Group1C\\_142dpi\\_LV\\_top\\_164\\_G\\_A4\\_P128.mzXML & X513\\_Group1C\\_142dpi\\_LV\\_top\\_163\\_G\\_A3\\_P128.mzXML & Group1C                                                        & Group1C                                                        & Group1C\\_Group1C                                              & 0.4493788                                                     \\\\\n",
       "\\end{tabular}\n"
      ],
      "text/markdown": [
       "\n",
       "| SubjectID1 | SubjectID2 | Group1 | Group2 | group_name | Distance |\n",
       "|---|---|---|---|---|---|\n",
       "| X512_Group1C_142dpi_LV_top_162_G_A2_P128.mzXML | X511_Group1C_142dpi_LV_top_161_G_A1_P128.mzXML | Group1C                                        | Group1C                                        | Group1C_Group1C                                | 0.2816069                                      |\n",
       "| X513_Group1C_142dpi_LV_top_163_G_A3_P128.mzXML | X511_Group1C_142dpi_LV_top_161_G_A1_P128.mzXML | Group1C                                        | Group1C                                        | Group1C_Group1C                                | 0.3457342                                      |\n",
       "| X513_Group1C_142dpi_LV_top_163_G_A3_P128.mzXML | X512_Group1C_142dpi_LV_top_162_G_A2_P128.mzXML | Group1C                                        | Group1C                                        | Group1C_Group1C                                | 0.4639421                                      |\n",
       "| X514_Group1C_142dpi_LV_top_164_G_A4_P128.mzXML | X511_Group1C_142dpi_LV_top_161_G_A1_P128.mzXML | Group1C                                        | Group1C                                        | Group1C_Group1C                                | 0.3717948                                      |\n",
       "| X514_Group1C_142dpi_LV_top_164_G_A4_P128.mzXML | X512_Group1C_142dpi_LV_top_162_G_A2_P128.mzXML | Group1C                                        | Group1C                                        | Group1C_Group1C                                | 0.2797557                                      |\n",
       "| X514_Group1C_142dpi_LV_top_164_G_A4_P128.mzXML | X513_Group1C_142dpi_LV_top_163_G_A3_P128.mzXML | Group1C                                        | Group1C                                        | Group1C_Group1C                                | 0.4493788                                      |\n",
       "\n"
      ],
      "text/plain": [
       "  SubjectID1                                    \n",
       "1 X512_Group1C_142dpi_LV_top_162_G_A2_P128.mzXML\n",
       "2 X513_Group1C_142dpi_LV_top_163_G_A3_P128.mzXML\n",
       "3 X513_Group1C_142dpi_LV_top_163_G_A3_P128.mzXML\n",
       "4 X514_Group1C_142dpi_LV_top_164_G_A4_P128.mzXML\n",
       "5 X514_Group1C_142dpi_LV_top_164_G_A4_P128.mzXML\n",
       "6 X514_Group1C_142dpi_LV_top_164_G_A4_P128.mzXML\n",
       "  SubjectID2                                     Group1  Group2 \n",
       "1 X511_Group1C_142dpi_LV_top_161_G_A1_P128.mzXML Group1C Group1C\n",
       "2 X511_Group1C_142dpi_LV_top_161_G_A1_P128.mzXML Group1C Group1C\n",
       "3 X512_Group1C_142dpi_LV_top_162_G_A2_P128.mzXML Group1C Group1C\n",
       "4 X511_Group1C_142dpi_LV_top_161_G_A1_P128.mzXML Group1C Group1C\n",
       "5 X512_Group1C_142dpi_LV_top_162_G_A2_P128.mzXML Group1C Group1C\n",
       "6 X513_Group1C_142dpi_LV_top_163_G_A3_P128.mzXML Group1C Group1C\n",
       "  group_name      Distance \n",
       "1 Group1C_Group1C 0.2816069\n",
       "2 Group1C_Group1C 0.3457342\n",
       "3 Group1C_Group1C 0.4639421\n",
       "4 Group1C_Group1C 0.3717948\n",
       "5 Group1C_Group1C 0.2797557\n",
       "6 Group1C_Group1C 0.4493788"
      ]
     },
     "metadata": {},
     "output_type": "display_data"
    },
    {
     "data": {
      "text/html": [
       "<ol class=list-inline>\n",
       "\t<li>780</li>\n",
       "\t<li>6</li>\n",
       "</ol>\n"
      ],
      "text/latex": [
       "\\begin{enumerate*}\n",
       "\\item 780\n",
       "\\item 6\n",
       "\\end{enumerate*}\n"
      ],
      "text/markdown": [
       "1. 780\n",
       "2. 6\n",
       "\n",
       "\n"
      ],
      "text/plain": [
       "[1] 780   6"
      ]
     },
     "metadata": {},
     "output_type": "display_data"
    },
    {
     "data": {
      "text/plain": [
       "\n",
       "Group15_Group15 Group15_Group1C Group15_Group3E  Group15_Group9 Group1C_Group15 \n",
       "            105             225             225             225             225 \n",
       "Group1C_Group1C Group1C_Group3E  Group1C_Group9 Group3E_Group15 Group3E_Group1C \n",
       "            105             225             225             225             225 \n",
       "Group3E_Group3E  Group3E_Group9  Group9_Group15  Group9_Group1C  Group9_Group3E \n",
       "            105             225             225             225             225 \n",
       "  Group9_Group9 \n",
       "            105 "
      ]
     },
     "metadata": {},
     "output_type": "display_data"
    },
    {
     "data": {
      "text/plain": [
       "\n",
       "Group1C_Group15 Group1C_Group1C Group1C_Group3E  Group1C_Group9 \n",
       "            225             105             225             225 "
      ]
     },
     "metadata": {},
     "output_type": "display_data"
    },
    {
     "name": "stderr",
     "output_type": "stream",
     "text": [
      "Dunn (1964) Kruskal-Wallis multiple comparison\n",
      "  p-values adjusted with the Benjamini-Hochberg method.\n",
      "\n"
     ]
    },
    {
     "data": {
      "text/plain": [
       "                         Comparison          Z     P.unadj      P.adj\n",
       "1 Group1C_Group15 - Group1C_Group1C  0.1477807 0.882515831 0.88251583\n",
       "2 Group1C_Group15 - Group1C_Group3E -2.4169559 0.015650913 0.03130183\n",
       "3 Group1C_Group1C - Group1C_Group3E -2.0758445 0.037908332 0.05686250\n",
       "4  Group1C_Group15 - Group1C_Group9 -2.9994356 0.002704803 0.01622882\n",
       "5  Group1C_Group1C - Group1C_Group9 -2.5405026 0.011069328 0.03320798\n",
       "6  Group1C_Group3E - Group1C_Group9 -0.5824797 0.560243625 0.67229235"
      ]
     },
     "metadata": {},
     "output_type": "display_data"
    }
   ],
   "source": [
    "# dunn test for 1C to the others\n",
    "b<-droplevels(subset(a, a$group_name==c(\"Group1C_Group1C\")|a$group_name==c(\"Group1C_Group3E\")|a$group_name==c(\"Group1C_Group9\")|a$group_name==c(\"Group1C_Group15\")))\n",
    "head(b)\n",
    "dim(b)\n",
    "table(a$group_name)\n",
    "table(b$group_name)\n",
    "b$group_name <- factor(b$group_name, levels=c('Group1C_Group1C', 'Group1C_Group3E', \"Group1C_Group9\", \"Group1C_Group15\"))\n",
    "dunnTest(b$Distance ~ b$group_name, method=\"bh\")"
   ]
  },
  {
   "cell_type": "code",
   "execution_count": 4,
   "metadata": {},
   "outputs": [
    {
     "data": {
      "text/html": [
       "<table>\n",
       "<thead><tr><th></th><th scope=col>SubjectID1</th><th scope=col>SubjectID2</th><th scope=col>Group1</th><th scope=col>Group2</th><th scope=col>group_name</th><th scope=col>Distance</th></tr></thead>\n",
       "<tbody>\n",
       "\t<tr><th scope=row>781</th><td>X582_Group3E_142dpi_LV_top_177_G_B5_P128.mzXML</td><td>X581_Group3E_142dpi_LV_top_176_G_B4_P128.mzXML</td><td>Group3E                                       </td><td>Group3E                                       </td><td>Group3E_Group3E                               </td><td>0.4609823                                     </td></tr>\n",
       "\t<tr><th scope=row>782</th><td>X583_Group3E_142dpi_LV_top_178_G_B6_P128.mzXML</td><td>X581_Group3E_142dpi_LV_top_176_G_B4_P128.mzXML</td><td>Group3E                                       </td><td>Group3E                                       </td><td>Group3E_Group3E                               </td><td>0.3516363                                     </td></tr>\n",
       "\t<tr><th scope=row>783</th><td>X583_Group3E_142dpi_LV_top_178_G_B6_P128.mzXML</td><td>X582_Group3E_142dpi_LV_top_177_G_B5_P128.mzXML</td><td>Group3E                                       </td><td>Group3E                                       </td><td>Group3E_Group3E                               </td><td>0.3000420                                     </td></tr>\n",
       "\t<tr><th scope=row>784</th><td>X584_Group3E_142dpi_LV_top_179_G_B7_P128.mzXML</td><td>X581_Group3E_142dpi_LV_top_176_G_B4_P128.mzXML</td><td>Group3E                                       </td><td>Group3E                                       </td><td>Group3E_Group3E                               </td><td>0.7357978                                     </td></tr>\n",
       "\t<tr><th scope=row>785</th><td>X584_Group3E_142dpi_LV_top_179_G_B7_P128.mzXML</td><td>X582_Group3E_142dpi_LV_top_177_G_B5_P128.mzXML</td><td>Group3E                                       </td><td>Group3E                                       </td><td>Group3E_Group3E                               </td><td>0.6394481                                     </td></tr>\n",
       "\t<tr><th scope=row>786</th><td>X584_Group3E_142dpi_LV_top_179_G_B7_P128.mzXML</td><td>X583_Group3E_142dpi_LV_top_178_G_B6_P128.mzXML</td><td>Group3E                                       </td><td>Group3E                                       </td><td>Group3E_Group3E                               </td><td>0.6553009                                     </td></tr>\n",
       "</tbody>\n",
       "</table>\n"
      ],
      "text/latex": [
       "\\begin{tabular}{r|llllll}\n",
       "  & SubjectID1 & SubjectID2 & Group1 & Group2 & group\\_name & Distance\\\\\n",
       "\\hline\n",
       "\t781 & X582\\_Group3E\\_142dpi\\_LV\\_top\\_177\\_G\\_B5\\_P128.mzXML & X581\\_Group3E\\_142dpi\\_LV\\_top\\_176\\_G\\_B4\\_P128.mzXML & Group3E                                                        & Group3E                                                        & Group3E\\_Group3E                                              & 0.4609823                                                     \\\\\n",
       "\t782 & X583\\_Group3E\\_142dpi\\_LV\\_top\\_178\\_G\\_B6\\_P128.mzXML & X581\\_Group3E\\_142dpi\\_LV\\_top\\_176\\_G\\_B4\\_P128.mzXML & Group3E                                                        & Group3E                                                        & Group3E\\_Group3E                                              & 0.3516363                                                     \\\\\n",
       "\t783 & X583\\_Group3E\\_142dpi\\_LV\\_top\\_178\\_G\\_B6\\_P128.mzXML & X582\\_Group3E\\_142dpi\\_LV\\_top\\_177\\_G\\_B5\\_P128.mzXML & Group3E                                                        & Group3E                                                        & Group3E\\_Group3E                                              & 0.3000420                                                     \\\\\n",
       "\t784 & X584\\_Group3E\\_142dpi\\_LV\\_top\\_179\\_G\\_B7\\_P128.mzXML & X581\\_Group3E\\_142dpi\\_LV\\_top\\_176\\_G\\_B4\\_P128.mzXML & Group3E                                                        & Group3E                                                        & Group3E\\_Group3E                                              & 0.7357978                                                     \\\\\n",
       "\t785 & X584\\_Group3E\\_142dpi\\_LV\\_top\\_179\\_G\\_B7\\_P128.mzXML & X582\\_Group3E\\_142dpi\\_LV\\_top\\_177\\_G\\_B5\\_P128.mzXML & Group3E                                                        & Group3E                                                        & Group3E\\_Group3E                                              & 0.6394481                                                     \\\\\n",
       "\t786 & X584\\_Group3E\\_142dpi\\_LV\\_top\\_179\\_G\\_B7\\_P128.mzXML & X583\\_Group3E\\_142dpi\\_LV\\_top\\_178\\_G\\_B6\\_P128.mzXML & Group3E                                                        & Group3E                                                        & Group3E\\_Group3E                                              & 0.6553009                                                     \\\\\n",
       "\\end{tabular}\n"
      ],
      "text/markdown": [
       "\n",
       "| <!--/--> | SubjectID1 | SubjectID2 | Group1 | Group2 | group_name | Distance |\n",
       "|---|---|---|---|---|---|---|\n",
       "| 781 | X582_Group3E_142dpi_LV_top_177_G_B5_P128.mzXML | X581_Group3E_142dpi_LV_top_176_G_B4_P128.mzXML | Group3E                                        | Group3E                                        | Group3E_Group3E                                | 0.4609823                                      |\n",
       "| 782 | X583_Group3E_142dpi_LV_top_178_G_B6_P128.mzXML | X581_Group3E_142dpi_LV_top_176_G_B4_P128.mzXML | Group3E                                        | Group3E                                        | Group3E_Group3E                                | 0.3516363                                      |\n",
       "| 783 | X583_Group3E_142dpi_LV_top_178_G_B6_P128.mzXML | X582_Group3E_142dpi_LV_top_177_G_B5_P128.mzXML | Group3E                                        | Group3E                                        | Group3E_Group3E                                | 0.3000420                                      |\n",
       "| 784 | X584_Group3E_142dpi_LV_top_179_G_B7_P128.mzXML | X581_Group3E_142dpi_LV_top_176_G_B4_P128.mzXML | Group3E                                        | Group3E                                        | Group3E_Group3E                                | 0.7357978                                      |\n",
       "| 785 | X584_Group3E_142dpi_LV_top_179_G_B7_P128.mzXML | X582_Group3E_142dpi_LV_top_177_G_B5_P128.mzXML | Group3E                                        | Group3E                                        | Group3E_Group3E                                | 0.6394481                                      |\n",
       "| 786 | X584_Group3E_142dpi_LV_top_179_G_B7_P128.mzXML | X583_Group3E_142dpi_LV_top_178_G_B6_P128.mzXML | Group3E                                        | Group3E                                        | Group3E_Group3E                                | 0.6553009                                      |\n",
       "\n"
      ],
      "text/plain": [
       "    SubjectID1                                    \n",
       "781 X582_Group3E_142dpi_LV_top_177_G_B5_P128.mzXML\n",
       "782 X583_Group3E_142dpi_LV_top_178_G_B6_P128.mzXML\n",
       "783 X583_Group3E_142dpi_LV_top_178_G_B6_P128.mzXML\n",
       "784 X584_Group3E_142dpi_LV_top_179_G_B7_P128.mzXML\n",
       "785 X584_Group3E_142dpi_LV_top_179_G_B7_P128.mzXML\n",
       "786 X584_Group3E_142dpi_LV_top_179_G_B7_P128.mzXML\n",
       "    SubjectID2                                     Group1  Group2 \n",
       "781 X581_Group3E_142dpi_LV_top_176_G_B4_P128.mzXML Group3E Group3E\n",
       "782 X581_Group3E_142dpi_LV_top_176_G_B4_P128.mzXML Group3E Group3E\n",
       "783 X582_Group3E_142dpi_LV_top_177_G_B5_P128.mzXML Group3E Group3E\n",
       "784 X581_Group3E_142dpi_LV_top_176_G_B4_P128.mzXML Group3E Group3E\n",
       "785 X582_Group3E_142dpi_LV_top_177_G_B5_P128.mzXML Group3E Group3E\n",
       "786 X583_Group3E_142dpi_LV_top_178_G_B6_P128.mzXML Group3E Group3E\n",
       "    group_name      Distance \n",
       "781 Group3E_Group3E 0.4609823\n",
       "782 Group3E_Group3E 0.3516363\n",
       "783 Group3E_Group3E 0.3000420\n",
       "784 Group3E_Group3E 0.7357978\n",
       "785 Group3E_Group3E 0.6394481\n",
       "786 Group3E_Group3E 0.6553009"
      ]
     },
     "metadata": {},
     "output_type": "display_data"
    },
    {
     "data": {
      "text/html": [
       "<ol class=list-inline>\n",
       "\t<li>555</li>\n",
       "\t<li>6</li>\n",
       "</ol>\n"
      ],
      "text/latex": [
       "\\begin{enumerate*}\n",
       "\\item 555\n",
       "\\item 6\n",
       "\\end{enumerate*}\n"
      ],
      "text/markdown": [
       "1. 555\n",
       "2. 6\n",
       "\n",
       "\n"
      ],
      "text/plain": [
       "[1] 555   6"
      ]
     },
     "metadata": {},
     "output_type": "display_data"
    },
    {
     "data": {
      "text/plain": [
       "\n",
       "Group15_Group15 Group15_Group1C Group15_Group3E  Group15_Group9 Group1C_Group15 \n",
       "            105             225             225             225             225 \n",
       "Group1C_Group1C Group1C_Group3E  Group1C_Group9 Group3E_Group15 Group3E_Group1C \n",
       "            105             225             225             225             225 \n",
       "Group3E_Group3E  Group3E_Group9  Group9_Group15  Group9_Group1C  Group9_Group3E \n",
       "            105             225             225             225             225 \n",
       "  Group9_Group9 \n",
       "            105 "
      ]
     },
     "metadata": {},
     "output_type": "display_data"
    },
    {
     "data": {
      "text/plain": [
       "\n",
       "Group15_Group3E Group3E_Group3E  Group3E_Group9 \n",
       "            225             105             225 "
      ]
     },
     "metadata": {},
     "output_type": "display_data"
    },
    {
     "name": "stderr",
     "output_type": "stream",
     "text": [
      "Dunn (1964) Kruskal-Wallis multiple comparison\n",
      "  p-values adjusted with the Benjamini-Hochberg method.\n",
      "\n"
     ]
    },
    {
     "data": {
      "text/plain": [
       "                         Comparison          Z     P.unadj      P.adj\n",
       "1 Group15_Group3E - Group3E_Group3E -1.7589593 0.078584430 0.11787664\n",
       "2  Group15_Group3E - Group3E_Group9 -2.8685425 0.004123678 0.01237103\n",
       "3  Group3E_Group3E - Group3E_Group9 -0.5293461 0.596565405 0.59656541"
      ]
     },
     "metadata": {},
     "output_type": "display_data"
    }
   ],
   "source": [
    "# data for 3E to the other\n",
    "d<-droplevels(subset(a, a$group_name==c(\"Group3E_Group3E\")|a$group_name==c(\"Group3E_Group9\")|a$group_name==c(\"Group15_Group3E\")))\n",
    "head(d)\n",
    "dim(d)\n",
    "table(a$group_name)\n",
    "table(d$group_name)\n",
    "d$group_name <- factor(d$group_name, levels=c('Group3E_Group3E', 'Group3E_Group9', \"Group15_Group3E\"))\n",
    "dunnTest(d$Distance ~ d$group_name, method=\"bh\")"
   ]
  },
  {
   "cell_type": "code",
   "execution_count": null,
   "metadata": {},
   "outputs": [],
   "source": []
  },
  {
   "cell_type": "code",
   "execution_count": null,
   "metadata": {},
   "outputs": [],
   "source": []
  },
  {
   "cell_type": "code",
   "execution_count": null,
   "metadata": {},
   "outputs": [],
   "source": []
  },
  {
   "cell_type": "code",
   "execution_count": null,
   "metadata": {},
   "outputs": [],
   "source": []
  }
 ],
 "metadata": {
  "kernelspec": {
   "display_name": "R",
   "language": "R",
   "name": "ir"
  },
  "language_info": {
   "codemirror_mode": "r",
   "file_extension": ".r",
   "mimetype": "text/x-r-source",
   "name": "R",
   "pygments_lexer": "r",
   "version": "3.6.1"
  }
 },
 "nbformat": 4,
 "nbformat_minor": 4
}
