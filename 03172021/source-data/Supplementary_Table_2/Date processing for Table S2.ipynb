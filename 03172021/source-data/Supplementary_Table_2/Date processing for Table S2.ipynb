{
 "cells": [
  {
   "cell_type": "code",
   "execution_count": 2,
   "id": "24dfe4ea",
   "metadata": {},
   "outputs": [
    {
     "name": "stdout",
     "output_type": "stream",
     "text": [
      "['Liver Weight/ Body Weight', 'Heart Rate', 'Diameter;s', 'Volume;s', 'LVAW;s', 'RR Interval (s)', 'P Duration (s)', 'QT Interval (s)', 'QTc (s)', 'P Amplitude (V)', 'R Amplitude (V)', 'T Amplitude (V)', 'CD3+CD8+IL-2+', 'CD3+CD8+IFNg+', 'CD3+CD8+TNFa+', 'Body Weight']\n"
     ]
    }
   ],
   "source": [
    "import pandas\n",
    "import numpy as np\n",
    "\n",
    "def interquartile_range(data_list):\n",
    "    data_standard = np.percentile(data_list, [75 ,25])\n",
    "    iqr = data_standard[0] - data_standard[1]\n",
    "    return iqr\n",
    "\n",
    "data_a = pandas.read_csv('Source_data.csv')\n",
    "metadata = pandas.read_csv('metadata_columns_for_SI_summary_Table.csv')\n",
    "metadata_list = metadata.output.to_list()\n",
    "print(metadata_list)\n",
    "\n",
    "order_treatment_group = ['Group 1C','Group 3E','Group 9', 'Group 15']\n",
    "\n",
    "df_final = pandas.DataFrame(metadata_list, columns = ['output'])\n",
    "\n",
    "for treatment_group in order_treatment_group:\n",
    "    median_list = []\n",
    "    iqr_list = []\n",
    "    for metadata in metadata_list:\n",
    "        data_treatment_group = data_a[data_a[\"Treatment group\"].isin([str(treatment_group)])]\n",
    "        metadata_median = np.median(data_treatment_group[str(metadata)].tolist())\n",
    "        median_list.append(metadata_median)\n",
    "        iqr = interquartile_range(data_treatment_group[str(metadata)].tolist())\n",
    "        iqr_list.append(iqr)\n",
    "    df_final[treatment_group + '_median'] = median_list\n",
    "    df_final[treatment_group + '_iqr'] = iqr_list\n",
    "                                \n",
    "df_final.to_csv('metadata_median_IQR.csv', index=False)\n"
   ]
  },
  {
   "cell_type": "code",
   "execution_count": null,
   "id": "170ffab7",
   "metadata": {},
   "outputs": [],
   "source": []
  }
 ],
 "metadata": {
  "kernelspec": {
   "display_name": "Python 3",
   "language": "python",
   "name": "python3"
  },
  "language_info": {
   "codemirror_mode": {
    "name": "ipython",
    "version": 3
   },
   "file_extension": ".py",
   "mimetype": "text/x-python",
   "name": "python",
   "nbconvert_exporter": "python",
   "pygments_lexer": "ipython3",
   "version": "3.8.13"
  }
 },
 "nbformat": 4,
 "nbformat_minor": 5
}
