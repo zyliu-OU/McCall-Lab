{
 "cells": [
  {
   "cell_type": "code",
   "execution_count": 2,
   "id": "d4c1e65e",
   "metadata": {
    "scrolled": false
   },
   "outputs": [
    {
     "name": "stdout",
     "output_type": "stream",
     "text": [
      "[0.025770797, 0.321030403, 0.044526217]\n",
      "[0.06678933 0.3210304  0.06678933]\n",
      "[0.461848066, 0.055533692, 0.034163311]\n",
      "[0.46184807 0.08330054 0.08330054]\n",
      "[0.003186753, 0.052742814, 0.605896046]\n",
      "[0.00956026 0.07911422 0.60589605]\n",
      "[0.002628971, 0.001539285, 0.001441587]\n",
      "[0.00262897 0.00230893 0.00230893]\n",
      "[0.012676507, 0.349431239, 1.86e-05]\n",
      "[1.90147605e-02 3.49431239e-01 5.58000000e-05]\n",
      "[0.001382629, 0.125393857, 5.64e-05]\n",
      "[0.00207394 0.12539386 0.0001692 ]\n",
      "[0.06678932550000001, 0.321030403, 0.06678932550000001, 0.461848066, 0.08330053800000001, 0.08330053800000001, 0.009560259000000002, 0.079114221, 0.605896046, 0.002628971, 0.0023089275000000003, 0.0023089275000000003, 0.019014760500000002, 0.349431239, 5.580000000000001e-05, 0.0020739435, 0.125393857, 0.00016920000000000002]\n",
      "[0.258659701, 0.157020426, 0.646058266]\n",
      "[0.38798955 0.38798955 0.64605827]\n",
      "[1.0, 0.831138905, 1.0]\n",
      "[1. 1. 1.]\n",
      "[0.983030584, 1.0, 0.641365362]\n",
      "[1. 1. 1.]\n",
      "[0.672162367, 0.006149937, 0.943534845]\n",
      "[0.94353484 0.01844981 0.94353484]\n",
      "[0.392602256, 0.019215057, 0.07870729]\n",
      "[0.39260226 0.05764517 0.11806094]\n",
      "[0.554843241, 0.022382544, nan]\n",
      "[nan nan nan]\n",
      "[0.38798955150000003, 0.38798955150000003, 0.646058266, 1.0, 1.0, 1.0, 1.0, 1.0, 1.0, 0.943534845, 0.018449811000000003, 0.943534845, 0.392602256, 0.057645171, 0.118060935, nan, nan, nan]\n"
     ]
    }
   ],
   "source": [
    "import seaborn as sns\n",
    "import numpy as np\n",
    "import pandas as pd\n",
    "import matplotlib.pyplot as plt\n",
    "from scipy.stats import kendalltau, pearsonr, spearmanr\n",
    "import statsmodels.api\n",
    "\n",
    "# all pvalues order is: 50DPI, 75DPI, 142DPI\n",
    "\n",
    "data_a = pd.read_csv('all-DPI-wilcox-FDR-pvalues.csv')\n",
    "data_a_filename = data_a.filename.to_list()\n",
    "\n",
    "data_LA = data_a[data_a[\"organ\"].isin([\"LA\"])]\n",
    "data_RA = data_a[data_a[\"organ\"].isin([\"RA\"])]\n",
    "data_LVT = data_a[data_a[\"organ\"].isin([\"LVT\"])]\n",
    "data_LVB = data_a[data_a[\"organ\"].isin([\"LVB\"])]\n",
    "data_RVT = data_a[data_a[\"organ\"].isin([\"RVT\"])]\n",
    "data_RVB = data_a[data_a[\"organ\"].isin([\"RVB\"])]\n",
    "\n",
    "organ_list = ['LA', 'RA', 'LVT', 'LVB', 'RVT', 'RVB']\n",
    "mass_list = ['X137.046_0.35', 'X482.361_2.958']\n",
    "\n",
    "pval_list = []\n",
    "df_final = pd.DataFrame(data_a_filename, columns = ['filename'])\n",
    "\n",
    "for mass in mass_list:\n",
    "    for organ in organ_list:\n",
    "        data_organ = data_a[data_a[\"organ\"].isin([organ])]\n",
    "        organ_pval_list = data_organ[mass].tolist()\n",
    "        organ_pval_list_corrected = statsmodels.stats.multitest.fdrcorrection(organ_pval_list, method='indep')\n",
    "        pval_list.extend(organ_pval_list_corrected[1])\n",
    "        print(organ_pval_list)\n",
    "        print(organ_pval_list_corrected[1])\n",
    "    df_final[mass] = organ_pval_list_corrected[1]\n",
    "    print(pval_list)\n",
    "    pval_list = []\n",
    "    \n",
    "df_final.to_csv('comparison-FDR-pvalue.csv', index=False)"
   ]
  },
  {
   "cell_type": "code",
   "execution_count": 4,
   "id": "459b1326",
   "metadata": {},
   "outputs": [
    {
     "name": "stdout",
     "output_type": "stream",
     "text": [
      "[0.55484324 0.04476509]\n"
     ]
    }
   ],
   "source": [
    "RVB_482_pval_list = [0.554843241, 0.022382544]\n",
    "RVB_482_pval_list_corrected = statsmodels.stats.multitest.fdrcorrection(RVB_482_pval_list, method='indep')\n",
    "print(RVB_482_pval_list_corrected[1])"
   ]
  },
  {
   "cell_type": "code",
   "execution_count": null,
   "id": "606e373c",
   "metadata": {},
   "outputs": [],
   "source": []
  }
 ],
 "metadata": {
  "kernelspec": {
   "display_name": "Python 3",
   "language": "python",
   "name": "python3"
  },
  "language_info": {
   "codemirror_mode": {
    "name": "ipython",
    "version": 3
   },
   "file_extension": ".py",
   "mimetype": "text/x-python",
   "name": "python",
   "nbconvert_exporter": "python",
   "pygments_lexer": "ipython3",
   "version": "3.8.13"
  }
 },
 "nbformat": 4,
 "nbformat_minor": 5
}
