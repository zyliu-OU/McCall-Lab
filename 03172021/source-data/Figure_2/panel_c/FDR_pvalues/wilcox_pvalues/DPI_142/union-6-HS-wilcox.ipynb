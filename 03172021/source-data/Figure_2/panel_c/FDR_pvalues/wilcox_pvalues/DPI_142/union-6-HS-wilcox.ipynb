{
 "cells": [
  {
   "cell_type": "code",
   "execution_count": 1,
   "metadata": {},
   "outputs": [
    {
     "name": "stderr",
     "output_type": "stream",
     "text": [
      "Warning message:\n",
      "\"package 'dplyr' was built under R version 3.6.3\"\n",
      "Attaching package: 'dplyr'\n",
      "\n",
      "The following objects are masked from 'package:stats':\n",
      "\n",
      "    filter, lag\n",
      "\n",
      "The following objects are masked from 'package:base':\n",
      "\n",
      "    intersect, setdiff, setequal, union\n",
      "\n"
     ]
    }
   ],
   "source": [
    "library(dplyr)"
   ]
  },
  {
   "cell_type": "code",
   "execution_count": 2,
   "metadata": {
    "scrolled": true
   },
   "outputs": [
    {
     "data": {
      "text/html": [
       "<table>\n",
       "<thead><tr><th scope=col>filename</th><th scope=col>LA_142DPI</th></tr></thead>\n",
       "<tbody>\n",
       "\t<tr><td>X137.046_0.35 </td><td>0.04452622    </td></tr>\n",
       "\t<tr><td>X269.088_0.35 </td><td>0.64023643    </td></tr>\n",
       "\t<tr><td>X169.036_0.375</td><td>0.49588506    </td></tr>\n",
       "\t<tr><td>X338.342_3.533</td><td>1.00000000    </td></tr>\n",
       "\t<tr><td>X387.181_2.767</td><td>0.64023643    </td></tr>\n",
       "\t<tr><td>X311.081_2.525</td><td>0.78491085    </td></tr>\n",
       "</tbody>\n",
       "</table>\n"
      ],
      "text/latex": [
       "\\begin{tabular}{r|ll}\n",
       " filename & LA\\_142DPI\\\\\n",
       "\\hline\n",
       "\t X137.046\\_0.35  & 0.04452622      \\\\\n",
       "\t X269.088\\_0.35  & 0.64023643      \\\\\n",
       "\t X169.036\\_0.375 & 0.49588506      \\\\\n",
       "\t X338.342\\_3.533 & 1.00000000      \\\\\n",
       "\t X387.181\\_2.767 & 0.64023643      \\\\\n",
       "\t X311.081\\_2.525 & 0.78491085      \\\\\n",
       "\\end{tabular}\n"
      ],
      "text/markdown": [
       "\n",
       "| filename | LA_142DPI |\n",
       "|---|---|\n",
       "| X137.046_0.35  | 0.04452622     |\n",
       "| X269.088_0.35  | 0.64023643     |\n",
       "| X169.036_0.375 | 0.49588506     |\n",
       "| X338.342_3.533 | 1.00000000     |\n",
       "| X387.181_2.767 | 0.64023643     |\n",
       "| X311.081_2.525 | 0.78491085     |\n",
       "\n"
      ],
      "text/plain": [
       "  filename       LA_142DPI \n",
       "1 X137.046_0.35  0.04452622\n",
       "2 X269.088_0.35  0.64023643\n",
       "3 X169.036_0.375 0.49588506\n",
       "4 X338.342_3.533 1.00000000\n",
       "5 X387.181_2.767 0.64023643\n",
       "6 X311.081_2.525 0.78491085"
      ]
     },
     "metadata": {},
     "output_type": "display_data"
    },
    {
     "data": {
      "text/html": [
       "<ol class=list-inline>\n",
       "\t<li>2527</li>\n",
       "\t<li>2</li>\n",
       "</ol>\n"
      ],
      "text/latex": [
       "\\begin{enumerate*}\n",
       "\\item 2527\n",
       "\\item 2\n",
       "\\end{enumerate*}\n"
      ],
      "text/markdown": [
       "1. 2527\n",
       "2. 2\n",
       "\n",
       "\n"
      ],
      "text/plain": [
       "[1] 2527    2"
      ]
     },
     "metadata": {},
     "output_type": "display_data"
    },
    {
     "data": {
      "text/html": [
       "<table>\n",
       "<thead><tr><th scope=col>filename</th><th scope=col>RA_142DPI</th></tr></thead>\n",
       "<tbody>\n",
       "\t<tr><td>X137.046_0.35 </td><td>0.03416331    </td></tr>\n",
       "\t<tr><td>X269.088_0.35 </td><td>0.45770815    </td></tr>\n",
       "\t<tr><td>X169.036_0.375</td><td>0.44542658    </td></tr>\n",
       "\t<tr><td>X338.342_3.533</td><td>0.58529559    </td></tr>\n",
       "\t<tr><td>X387.181_2.767</td><td>0.58529559    </td></tr>\n",
       "\t<tr><td>X311.081_2.525</td><td>0.58529559    </td></tr>\n",
       "</tbody>\n",
       "</table>\n"
      ],
      "text/latex": [
       "\\begin{tabular}{r|ll}\n",
       " filename & RA\\_142DPI\\\\\n",
       "\\hline\n",
       "\t X137.046\\_0.35  & 0.03416331      \\\\\n",
       "\t X269.088\\_0.35  & 0.45770815      \\\\\n",
       "\t X169.036\\_0.375 & 0.44542658      \\\\\n",
       "\t X338.342\\_3.533 & 0.58529559      \\\\\n",
       "\t X387.181\\_2.767 & 0.58529559      \\\\\n",
       "\t X311.081\\_2.525 & 0.58529559      \\\\\n",
       "\\end{tabular}\n"
      ],
      "text/markdown": [
       "\n",
       "| filename | RA_142DPI |\n",
       "|---|---|\n",
       "| X137.046_0.35  | 0.03416331     |\n",
       "| X269.088_0.35  | 0.45770815     |\n",
       "| X169.036_0.375 | 0.44542658     |\n",
       "| X338.342_3.533 | 0.58529559     |\n",
       "| X387.181_2.767 | 0.58529559     |\n",
       "| X311.081_2.525 | 0.58529559     |\n",
       "\n"
      ],
      "text/plain": [
       "  filename       RA_142DPI \n",
       "1 X137.046_0.35  0.03416331\n",
       "2 X269.088_0.35  0.45770815\n",
       "3 X169.036_0.375 0.44542658\n",
       "4 X338.342_3.533 0.58529559\n",
       "5 X387.181_2.767 0.58529559\n",
       "6 X311.081_2.525 0.58529559"
      ]
     },
     "metadata": {},
     "output_type": "display_data"
    },
    {
     "data": {
      "text/html": [
       "<ol class=list-inline>\n",
       "\t<li>2432</li>\n",
       "\t<li>2</li>\n",
       "</ol>\n"
      ],
      "text/latex": [
       "\\begin{enumerate*}\n",
       "\\item 2432\n",
       "\\item 2\n",
       "\\end{enumerate*}\n"
      ],
      "text/markdown": [
       "1. 2432\n",
       "2. 2\n",
       "\n",
       "\n"
      ],
      "text/plain": [
       "[1] 2432    2"
      ]
     },
     "metadata": {},
     "output_type": "display_data"
    },
    {
     "data": {
      "text/html": [
       "<table>\n",
       "<thead><tr><th scope=col>filename</th><th scope=col>LVT_142DPI</th></tr></thead>\n",
       "<tbody>\n",
       "\t<tr><td>X137.046_0.35 </td><td>0.6058960     </td></tr>\n",
       "\t<tr><td>X269.088_0.35 </td><td>0.2390374     </td></tr>\n",
       "\t<tr><td>X169.036_0.375</td><td>0.6058960     </td></tr>\n",
       "\t<tr><td>X338.342_3.533</td><td>1.0000000     </td></tr>\n",
       "\t<tr><td>X387.181_2.767</td><td>0.6058960     </td></tr>\n",
       "\t<tr><td>X311.081_2.525</td><td>0.8170409     </td></tr>\n",
       "</tbody>\n",
       "</table>\n"
      ],
      "text/latex": [
       "\\begin{tabular}{r|ll}\n",
       " filename & LVT\\_142DPI\\\\\n",
       "\\hline\n",
       "\t X137.046\\_0.35  & 0.6058960       \\\\\n",
       "\t X269.088\\_0.35  & 0.2390374       \\\\\n",
       "\t X169.036\\_0.375 & 0.6058960       \\\\\n",
       "\t X338.342\\_3.533 & 1.0000000       \\\\\n",
       "\t X387.181\\_2.767 & 0.6058960       \\\\\n",
       "\t X311.081\\_2.525 & 0.8170409       \\\\\n",
       "\\end{tabular}\n"
      ],
      "text/markdown": [
       "\n",
       "| filename | LVT_142DPI |\n",
       "|---|---|\n",
       "| X137.046_0.35  | 0.6058960      |\n",
       "| X269.088_0.35  | 0.2390374      |\n",
       "| X169.036_0.375 | 0.6058960      |\n",
       "| X338.342_3.533 | 1.0000000      |\n",
       "| X387.181_2.767 | 0.6058960      |\n",
       "| X311.081_2.525 | 0.8170409      |\n",
       "\n"
      ],
      "text/plain": [
       "  filename       LVT_142DPI\n",
       "1 X137.046_0.35  0.6058960 \n",
       "2 X269.088_0.35  0.2390374 \n",
       "3 X169.036_0.375 0.6058960 \n",
       "4 X338.342_3.533 1.0000000 \n",
       "5 X387.181_2.767 0.6058960 \n",
       "6 X311.081_2.525 0.8170409 "
      ]
     },
     "metadata": {},
     "output_type": "display_data"
    },
    {
     "data": {
      "text/html": [
       "<ol class=list-inline>\n",
       "\t<li>3093</li>\n",
       "\t<li>2</li>\n",
       "</ol>\n"
      ],
      "text/latex": [
       "\\begin{enumerate*}\n",
       "\\item 3093\n",
       "\\item 2\n",
       "\\end{enumerate*}\n"
      ],
      "text/markdown": [
       "1. 3093\n",
       "2. 2\n",
       "\n",
       "\n"
      ],
      "text/plain": [
       "[1] 3093    2"
      ]
     },
     "metadata": {},
     "output_type": "display_data"
    },
    {
     "data": {
      "text/html": [
       "<table>\n",
       "<thead><tr><th scope=col>filename</th><th scope=col>LVB_142DPI</th></tr></thead>\n",
       "<tbody>\n",
       "\t<tr><td>X137.046_0.35 </td><td>0.001441587   </td></tr>\n",
       "\t<tr><td>X269.088_0.35 </td><td>0.002265299   </td></tr>\n",
       "\t<tr><td>X169.036_0.375</td><td>0.554409796   </td></tr>\n",
       "\t<tr><td>X338.342_3.533</td><td>1.000000000   </td></tr>\n",
       "\t<tr><td>X387.181_2.767</td><td>0.002431167   </td></tr>\n",
       "\t<tr><td>X311.081_2.525</td><td>1.000000000   </td></tr>\n",
       "</tbody>\n",
       "</table>\n"
      ],
      "text/latex": [
       "\\begin{tabular}{r|ll}\n",
       " filename & LVB\\_142DPI\\\\\n",
       "\\hline\n",
       "\t X137.046\\_0.35  & 0.001441587     \\\\\n",
       "\t X269.088\\_0.35  & 0.002265299     \\\\\n",
       "\t X169.036\\_0.375 & 0.554409796     \\\\\n",
       "\t X338.342\\_3.533 & 1.000000000     \\\\\n",
       "\t X387.181\\_2.767 & 0.002431167     \\\\\n",
       "\t X311.081\\_2.525 & 1.000000000     \\\\\n",
       "\\end{tabular}\n"
      ],
      "text/markdown": [
       "\n",
       "| filename | LVB_142DPI |\n",
       "|---|---|\n",
       "| X137.046_0.35  | 0.001441587    |\n",
       "| X269.088_0.35  | 0.002265299    |\n",
       "| X169.036_0.375 | 0.554409796    |\n",
       "| X338.342_3.533 | 1.000000000    |\n",
       "| X387.181_2.767 | 0.002431167    |\n",
       "| X311.081_2.525 | 1.000000000    |\n",
       "\n"
      ],
      "text/plain": [
       "  filename       LVB_142DPI \n",
       "1 X137.046_0.35  0.001441587\n",
       "2 X269.088_0.35  0.002265299\n",
       "3 X169.036_0.375 0.554409796\n",
       "4 X338.342_3.533 1.000000000\n",
       "5 X387.181_2.767 0.002431167\n",
       "6 X311.081_2.525 1.000000000"
      ]
     },
     "metadata": {},
     "output_type": "display_data"
    },
    {
     "data": {
      "text/html": [
       "<ol class=list-inline>\n",
       "\t<li>2125</li>\n",
       "\t<li>2</li>\n",
       "</ol>\n"
      ],
      "text/latex": [
       "\\begin{enumerate*}\n",
       "\\item 2125\n",
       "\\item 2\n",
       "\\end{enumerate*}\n"
      ],
      "text/markdown": [
       "1. 2125\n",
       "2. 2\n",
       "\n",
       "\n"
      ],
      "text/plain": [
       "[1] 2125    2"
      ]
     },
     "metadata": {},
     "output_type": "display_data"
    },
    {
     "data": {
      "text/html": [
       "<table>\n",
       "<thead><tr><th scope=col>filename</th><th scope=col>RVT_142DPI</th></tr></thead>\n",
       "<tbody>\n",
       "\t<tr><td>X137.046_0.35 </td><td>0.000018600   </td></tr>\n",
       "\t<tr><td>X269.088_0.35 </td><td>0.002248739   </td></tr>\n",
       "\t<tr><td>X338.342_3.533</td><td>0.420475453   </td></tr>\n",
       "\t<tr><td>X387.181_2.767</td><td>0.166778165   </td></tr>\n",
       "\t<tr><td>X311.081_2.525</td><td>0.102844671   </td></tr>\n",
       "\t<tr><td>X228.196_2.71 </td><td>0.000278499   </td></tr>\n",
       "</tbody>\n",
       "</table>\n"
      ],
      "text/latex": [
       "\\begin{tabular}{r|ll}\n",
       " filename & RVT\\_142DPI\\\\\n",
       "\\hline\n",
       "\t X137.046\\_0.35  & 0.000018600     \\\\\n",
       "\t X269.088\\_0.35  & 0.002248739     \\\\\n",
       "\t X338.342\\_3.533 & 0.420475453     \\\\\n",
       "\t X387.181\\_2.767 & 0.166778165     \\\\\n",
       "\t X311.081\\_2.525 & 0.102844671     \\\\\n",
       "\t X228.196\\_2.71  & 0.000278499     \\\\\n",
       "\\end{tabular}\n"
      ],
      "text/markdown": [
       "\n",
       "| filename | RVT_142DPI |\n",
       "|---|---|\n",
       "| X137.046_0.35  | 0.000018600    |\n",
       "| X269.088_0.35  | 0.002248739    |\n",
       "| X338.342_3.533 | 0.420475453    |\n",
       "| X387.181_2.767 | 0.166778165    |\n",
       "| X311.081_2.525 | 0.102844671    |\n",
       "| X228.196_2.71  | 0.000278499    |\n",
       "\n"
      ],
      "text/plain": [
       "  filename       RVT_142DPI \n",
       "1 X137.046_0.35  0.000018600\n",
       "2 X269.088_0.35  0.002248739\n",
       "3 X338.342_3.533 0.420475453\n",
       "4 X387.181_2.767 0.166778165\n",
       "5 X311.081_2.525 0.102844671\n",
       "6 X228.196_2.71  0.000278499"
      ]
     },
     "metadata": {},
     "output_type": "display_data"
    },
    {
     "data": {
      "text/html": [
       "<ol class=list-inline>\n",
       "\t<li>1440</li>\n",
       "\t<li>2</li>\n",
       "</ol>\n"
      ],
      "text/latex": [
       "\\begin{enumerate*}\n",
       "\\item 1440\n",
       "\\item 2\n",
       "\\end{enumerate*}\n"
      ],
      "text/markdown": [
       "1. 1440\n",
       "2. 2\n",
       "\n",
       "\n"
      ],
      "text/plain": [
       "[1] 1440    2"
      ]
     },
     "metadata": {},
     "output_type": "display_data"
    },
    {
     "data": {
      "text/html": [
       "<table>\n",
       "<thead><tr><th scope=col>filename</th><th scope=col>RVB_142DPI</th></tr></thead>\n",
       "<tbody>\n",
       "\t<tr><td>X137.046_0.35 </td><td>0.000056400   </td></tr>\n",
       "\t<tr><td>X269.088_0.35 </td><td>0.000144819   </td></tr>\n",
       "\t<tr><td>X338.342_3.533</td><td>0.557167405   </td></tr>\n",
       "\t<tr><td>X387.181_2.767</td><td>0.000129038   </td></tr>\n",
       "\t<tr><td>X311.081_2.525</td><td>0.011959308   </td></tr>\n",
       "\t<tr><td>X228.196_2.71 </td><td>0.018473635   </td></tr>\n",
       "</tbody>\n",
       "</table>\n"
      ],
      "text/latex": [
       "\\begin{tabular}{r|ll}\n",
       " filename & RVB\\_142DPI\\\\\n",
       "\\hline\n",
       "\t X137.046\\_0.35  & 0.000056400     \\\\\n",
       "\t X269.088\\_0.35  & 0.000144819     \\\\\n",
       "\t X338.342\\_3.533 & 0.557167405     \\\\\n",
       "\t X387.181\\_2.767 & 0.000129038     \\\\\n",
       "\t X311.081\\_2.525 & 0.011959308     \\\\\n",
       "\t X228.196\\_2.71  & 0.018473635     \\\\\n",
       "\\end{tabular}\n"
      ],
      "text/markdown": [
       "\n",
       "| filename | RVB_142DPI |\n",
       "|---|---|\n",
       "| X137.046_0.35  | 0.000056400    |\n",
       "| X269.088_0.35  | 0.000144819    |\n",
       "| X338.342_3.533 | 0.557167405    |\n",
       "| X387.181_2.767 | 0.000129038    |\n",
       "| X311.081_2.525 | 0.011959308    |\n",
       "| X228.196_2.71  | 0.018473635    |\n",
       "\n"
      ],
      "text/plain": [
       "  filename       RVB_142DPI \n",
       "1 X137.046_0.35  0.000056400\n",
       "2 X269.088_0.35  0.000144819\n",
       "3 X338.342_3.533 0.557167405\n",
       "4 X387.181_2.767 0.000129038\n",
       "5 X311.081_2.525 0.011959308\n",
       "6 X228.196_2.71  0.018473635"
      ]
     },
     "metadata": {},
     "output_type": "display_data"
    },
    {
     "data": {
      "text/html": [
       "<ol class=list-inline>\n",
       "\t<li>1152</li>\n",
       "\t<li>2</li>\n",
       "</ol>\n"
      ],
      "text/latex": [
       "\\begin{enumerate*}\n",
       "\\item 1152\n",
       "\\item 2\n",
       "\\end{enumerate*}\n"
      ],
      "text/markdown": [
       "1. 1152\n",
       "2. 2\n",
       "\n",
       "\n"
      ],
      "text/plain": [
       "[1] 1152    2"
      ]
     },
     "metadata": {},
     "output_type": "display_data"
    }
   ],
   "source": [
    "file_1 <- read.csv(\"LA-wilcox-3E-1C-fix.csv\", h = T, sep = \",\", dec = \".\")\n",
    "head(file_1)\n",
    "dim(file_1)\n",
    "\n",
    "file_2 <- read.csv(\"RA-wilcox-3E-1C-fix.csv\", h = T, sep = \",\", dec = \".\")\n",
    "head(file_2)\n",
    "dim(file_2)\n",
    "\n",
    "file_3 <- read.csv(\"LVT-wilcox-3E-1C-fix.csv\", h = T, sep = \",\", dec = \".\")\n",
    "head(file_3)\n",
    "dim(file_3)\n",
    "\n",
    "file_4 <- read.csv(\"LVB-wilcox-3E-1C-fix.csv\", h = T, sep = \",\", dec = \".\")\n",
    "head(file_4)\n",
    "dim(file_4)\n",
    "\n",
    "file_5 <- read.csv(\"RVT-wilcox-3E-1C-fix.csv\", h = T, sep = \",\", dec = \".\")\n",
    "head(file_5)\n",
    "dim(file_5)\n",
    "\n",
    "file_6 <- read.csv(\"RVB-wilcox-3E-1C-fix.csv\", h = T, sep = \",\", dec = \".\")\n",
    "head(file_6)\n",
    "dim(file_6)\n"
   ]
  },
  {
   "cell_type": "code",
   "execution_count": 3,
   "metadata": {},
   "outputs": [
    {
     "data": {
      "text/html": [
       "<table>\n",
       "<thead><tr><th scope=col>filename</th><th scope=col>LA_142DPI</th><th scope=col>RA_142DPI</th><th scope=col>LVT_142DPI</th><th scope=col>LVB_142DPI</th><th scope=col>RVT_142DPI</th><th scope=col>RVB_142DPI</th></tr></thead>\n",
       "<tbody>\n",
       "\t<tr><td>X137.046_0.35 </td><td>0.04452622    </td><td>0.03416331    </td><td>0.6058960     </td><td>0.001441587   </td><td>0.000018600   </td><td>0.000056400   </td></tr>\n",
       "\t<tr><td>X269.088_0.35 </td><td>0.64023643    </td><td>0.45770815    </td><td>0.2390374     </td><td>0.002265299   </td><td>0.002248739   </td><td>0.000144819   </td></tr>\n",
       "\t<tr><td>X169.036_0.375</td><td>0.49588506    </td><td>0.44542658    </td><td>0.6058960     </td><td>0.554409796   </td><td>         NA   </td><td>         NA   </td></tr>\n",
       "\t<tr><td>X338.342_3.533</td><td>1.00000000    </td><td>0.58529559    </td><td>1.0000000     </td><td>1.000000000   </td><td>0.420475453   </td><td>0.557167405   </td></tr>\n",
       "\t<tr><td>X387.181_2.767</td><td>0.64023643    </td><td>0.58529559    </td><td>0.6058960     </td><td>0.002431167   </td><td>0.166778165   </td><td>0.000129038   </td></tr>\n",
       "\t<tr><td>X311.081_2.525</td><td>0.78491085    </td><td>0.58529559    </td><td>0.8170409     </td><td>1.000000000   </td><td>0.102844671   </td><td>0.011959308   </td></tr>\n",
       "</tbody>\n",
       "</table>\n"
      ],
      "text/latex": [
       "\\begin{tabular}{r|lllllll}\n",
       " filename & LA\\_142DPI & RA\\_142DPI & LVT\\_142DPI & LVB\\_142DPI & RVT\\_142DPI & RVB\\_142DPI\\\\\n",
       "\\hline\n",
       "\t X137.046\\_0.35  & 0.04452622       & 0.03416331       & 0.6058960        & 0.001441587      & 0.000018600      & 0.000056400     \\\\\n",
       "\t X269.088\\_0.35  & 0.64023643       & 0.45770815       & 0.2390374        & 0.002265299      & 0.002248739      & 0.000144819     \\\\\n",
       "\t X169.036\\_0.375 & 0.49588506       & 0.44542658       & 0.6058960        & 0.554409796      &          NA      &          NA     \\\\\n",
       "\t X338.342\\_3.533 & 1.00000000       & 0.58529559       & 1.0000000        & 1.000000000      & 0.420475453      & 0.557167405     \\\\\n",
       "\t X387.181\\_2.767 & 0.64023643       & 0.58529559       & 0.6058960        & 0.002431167      & 0.166778165      & 0.000129038     \\\\\n",
       "\t X311.081\\_2.525 & 0.78491085       & 0.58529559       & 0.8170409        & 1.000000000      & 0.102844671      & 0.011959308     \\\\\n",
       "\\end{tabular}\n"
      ],
      "text/markdown": [
       "\n",
       "| filename | LA_142DPI | RA_142DPI | LVT_142DPI | LVB_142DPI | RVT_142DPI | RVB_142DPI |\n",
       "|---|---|---|---|---|---|---|\n",
       "| X137.046_0.35  | 0.04452622     | 0.03416331     | 0.6058960      | 0.001441587    | 0.000018600    | 0.000056400    |\n",
       "| X269.088_0.35  | 0.64023643     | 0.45770815     | 0.2390374      | 0.002265299    | 0.002248739    | 0.000144819    |\n",
       "| X169.036_0.375 | 0.49588506     | 0.44542658     | 0.6058960      | 0.554409796    |          NA    |          NA    |\n",
       "| X338.342_3.533 | 1.00000000     | 0.58529559     | 1.0000000      | 1.000000000    | 0.420475453    | 0.557167405    |\n",
       "| X387.181_2.767 | 0.64023643     | 0.58529559     | 0.6058960      | 0.002431167    | 0.166778165    | 0.000129038    |\n",
       "| X311.081_2.525 | 0.78491085     | 0.58529559     | 0.8170409      | 1.000000000    | 0.102844671    | 0.011959308    |\n",
       "\n"
      ],
      "text/plain": [
       "  filename       LA_142DPI  RA_142DPI  LVT_142DPI LVB_142DPI  RVT_142DPI \n",
       "1 X137.046_0.35  0.04452622 0.03416331 0.6058960  0.001441587 0.000018600\n",
       "2 X269.088_0.35  0.64023643 0.45770815 0.2390374  0.002265299 0.002248739\n",
       "3 X169.036_0.375 0.49588506 0.44542658 0.6058960  0.554409796          NA\n",
       "4 X338.342_3.533 1.00000000 0.58529559 1.0000000  1.000000000 0.420475453\n",
       "5 X387.181_2.767 0.64023643 0.58529559 0.6058960  0.002431167 0.166778165\n",
       "6 X311.081_2.525 0.78491085 0.58529559 0.8170409  1.000000000 0.102844671\n",
       "  RVB_142DPI \n",
       "1 0.000056400\n",
       "2 0.000144819\n",
       "3          NA\n",
       "4 0.557167405\n",
       "5 0.000129038\n",
       "6 0.011959308"
      ]
     },
     "metadata": {},
     "output_type": "display_data"
    },
    {
     "data": {
      "text/html": [
       "<ol class=list-inline>\n",
       "\t<li>4606</li>\n",
       "\t<li>7</li>\n",
       "</ol>\n"
      ],
      "text/latex": [
       "\\begin{enumerate*}\n",
       "\\item 4606\n",
       "\\item 7\n",
       "\\end{enumerate*}\n"
      ],
      "text/markdown": [
       "1. 4606\n",
       "2. 7\n",
       "\n",
       "\n"
      ],
      "text/plain": [
       "[1] 4606    7"
      ]
     },
     "metadata": {},
     "output_type": "display_data"
    }
   ],
   "source": [
    "union_full_list <- full_join(full_join(full_join(full_join(full_join(file_1,file_2,by=\"filename\"\n",
    "                                                                    ),file_3,by=\"filename\"\n",
    "                                                          ),file_4,by=\"filename\"\n",
    "                                                ),file_5,by=\"filename\"\n",
    "                                      ),file_6,by=\"filename\")\n",
    "head(union_full_list)\n",
    "dim(union_full_list)"
   ]
  },
  {
   "cell_type": "code",
   "execution_count": 4,
   "metadata": {},
   "outputs": [],
   "source": [
    "write.csv(union_full_list, \"142DPI-union-6HS-wilcox-FDR-pvalue.csv\", row.names = FALSE)"
   ]
  },
  {
   "cell_type": "code",
   "execution_count": null,
   "metadata": {},
   "outputs": [],
   "source": []
  },
  {
   "cell_type": "code",
   "execution_count": null,
   "metadata": {},
   "outputs": [],
   "source": []
  },
  {
   "cell_type": "code",
   "execution_count": null,
   "metadata": {},
   "outputs": [],
   "source": []
  },
  {
   "cell_type": "code",
   "execution_count": null,
   "metadata": {},
   "outputs": [],
   "source": []
  },
  {
   "cell_type": "code",
   "execution_count": null,
   "metadata": {},
   "outputs": [],
   "source": []
  }
 ],
 "metadata": {
  "kernelspec": {
   "display_name": "R",
   "language": "R",
   "name": "ir"
  },
  "language_info": {
   "codemirror_mode": "r",
   "file_extension": ".r",
   "mimetype": "text/x-r-source",
   "name": "R",
   "pygments_lexer": "r",
   "version": "3.6.1"
  }
 },
 "nbformat": 4,
 "nbformat_minor": 2
}
