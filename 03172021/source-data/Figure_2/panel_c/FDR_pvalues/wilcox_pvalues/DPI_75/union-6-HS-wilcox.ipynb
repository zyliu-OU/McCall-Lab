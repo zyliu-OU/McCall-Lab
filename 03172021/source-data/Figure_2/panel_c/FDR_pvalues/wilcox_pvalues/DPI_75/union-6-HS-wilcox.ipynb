{
 "cells": [
  {
   "cell_type": "code",
   "execution_count": 1,
   "metadata": {},
   "outputs": [
    {
     "name": "stderr",
     "output_type": "stream",
     "text": [
      "Warning message:\n",
      "\"package 'dplyr' was built under R version 3.6.3\"\n",
      "Attaching package: 'dplyr'\n",
      "\n",
      "The following objects are masked from 'package:stats':\n",
      "\n",
      "    filter, lag\n",
      "\n",
      "The following objects are masked from 'package:base':\n",
      "\n",
      "    intersect, setdiff, setequal, union\n",
      "\n"
     ]
    }
   ],
   "source": [
    "library(dplyr)"
   ]
  },
  {
   "cell_type": "code",
   "execution_count": 2,
   "metadata": {
    "scrolled": true
   },
   "outputs": [
    {
     "data": {
      "text/html": [
       "<table>\n",
       "<thead><tr><th scope=col>filename</th><th scope=col>LA_75DPI</th></tr></thead>\n",
       "<tbody>\n",
       "\t<tr><td>X137.046_0.35 </td><td>0.321030403   </td></tr>\n",
       "\t<tr><td>X269.088_0.35 </td><td>0.551004142   </td></tr>\n",
       "\t<tr><td>X169.036_0.375</td><td>0.002480055   </td></tr>\n",
       "\t<tr><td>X338.342_3.533</td><td>0.415096828   </td></tr>\n",
       "\t<tr><td>X387.181_2.767</td><td>0.943920125   </td></tr>\n",
       "\t<tr><td>X311.081_2.525</td><td>0.854995026   </td></tr>\n",
       "</tbody>\n",
       "</table>\n"
      ],
      "text/latex": [
       "\\begin{tabular}{r|ll}\n",
       " filename & LA\\_75DPI\\\\\n",
       "\\hline\n",
       "\t X137.046\\_0.35  & 0.321030403     \\\\\n",
       "\t X269.088\\_0.35  & 0.551004142     \\\\\n",
       "\t X169.036\\_0.375 & 0.002480055     \\\\\n",
       "\t X338.342\\_3.533 & 0.415096828     \\\\\n",
       "\t X387.181\\_2.767 & 0.943920125     \\\\\n",
       "\t X311.081\\_2.525 & 0.854995026     \\\\\n",
       "\\end{tabular}\n"
      ],
      "text/markdown": [
       "\n",
       "| filename | LA_75DPI |\n",
       "|---|---|\n",
       "| X137.046_0.35  | 0.321030403    |\n",
       "| X269.088_0.35  | 0.551004142    |\n",
       "| X169.036_0.375 | 0.002480055    |\n",
       "| X338.342_3.533 | 0.415096828    |\n",
       "| X387.181_2.767 | 0.943920125    |\n",
       "| X311.081_2.525 | 0.854995026    |\n",
       "\n"
      ],
      "text/plain": [
       "  filename       LA_75DPI   \n",
       "1 X137.046_0.35  0.321030403\n",
       "2 X269.088_0.35  0.551004142\n",
       "3 X169.036_0.375 0.002480055\n",
       "4 X338.342_3.533 0.415096828\n",
       "5 X387.181_2.767 0.943920125\n",
       "6 X311.081_2.525 0.854995026"
      ]
     },
     "metadata": {},
     "output_type": "display_data"
    },
    {
     "data": {
      "text/html": [
       "<ol class=list-inline>\n",
       "\t<li>3612</li>\n",
       "\t<li>2</li>\n",
       "</ol>\n"
      ],
      "text/latex": [
       "\\begin{enumerate*}\n",
       "\\item 3612\n",
       "\\item 2\n",
       "\\end{enumerate*}\n"
      ],
      "text/markdown": [
       "1. 3612\n",
       "2. 2\n",
       "\n",
       "\n"
      ],
      "text/plain": [
       "[1] 3612    2"
      ]
     },
     "metadata": {},
     "output_type": "display_data"
    },
    {
     "data": {
      "text/html": [
       "<table>\n",
       "<thead><tr><th scope=col>filename</th><th scope=col>RA_75DPI</th></tr></thead>\n",
       "<tbody>\n",
       "\t<tr><td>X137.046_0.35 </td><td>0.055533692   </td></tr>\n",
       "\t<tr><td>X269.088_0.35 </td><td>0.214273264   </td></tr>\n",
       "\t<tr><td>X169.036_0.375</td><td>0.006976381   </td></tr>\n",
       "\t<tr><td>X338.342_3.533</td><td>0.814651586   </td></tr>\n",
       "\t<tr><td>X387.181_2.767</td><td>0.093842354   </td></tr>\n",
       "\t<tr><td>X311.081_2.525</td><td>0.656971387   </td></tr>\n",
       "</tbody>\n",
       "</table>\n"
      ],
      "text/latex": [
       "\\begin{tabular}{r|ll}\n",
       " filename & RA\\_75DPI\\\\\n",
       "\\hline\n",
       "\t X137.046\\_0.35  & 0.055533692     \\\\\n",
       "\t X269.088\\_0.35  & 0.214273264     \\\\\n",
       "\t X169.036\\_0.375 & 0.006976381     \\\\\n",
       "\t X338.342\\_3.533 & 0.814651586     \\\\\n",
       "\t X387.181\\_2.767 & 0.093842354     \\\\\n",
       "\t X311.081\\_2.525 & 0.656971387     \\\\\n",
       "\\end{tabular}\n"
      ],
      "text/markdown": [
       "\n",
       "| filename | RA_75DPI |\n",
       "|---|---|\n",
       "| X137.046_0.35  | 0.055533692    |\n",
       "| X269.088_0.35  | 0.214273264    |\n",
       "| X169.036_0.375 | 0.006976381    |\n",
       "| X338.342_3.533 | 0.814651586    |\n",
       "| X387.181_2.767 | 0.093842354    |\n",
       "| X311.081_2.525 | 0.656971387    |\n",
       "\n"
      ],
      "text/plain": [
       "  filename       RA_75DPI   \n",
       "1 X137.046_0.35  0.055533692\n",
       "2 X269.088_0.35  0.214273264\n",
       "3 X169.036_0.375 0.006976381\n",
       "4 X338.342_3.533 0.814651586\n",
       "5 X387.181_2.767 0.093842354\n",
       "6 X311.081_2.525 0.656971387"
      ]
     },
     "metadata": {},
     "output_type": "display_data"
    },
    {
     "data": {
      "text/html": [
       "<ol class=list-inline>\n",
       "\t<li>2747</li>\n",
       "\t<li>2</li>\n",
       "</ol>\n"
      ],
      "text/latex": [
       "\\begin{enumerate*}\n",
       "\\item 2747\n",
       "\\item 2\n",
       "\\end{enumerate*}\n"
      ],
      "text/markdown": [
       "1. 2747\n",
       "2. 2\n",
       "\n",
       "\n"
      ],
      "text/plain": [
       "[1] 2747    2"
      ]
     },
     "metadata": {},
     "output_type": "display_data"
    },
    {
     "data": {
      "text/html": [
       "<table>\n",
       "<thead><tr><th scope=col>filename</th><th scope=col>LVT_75DPI</th></tr></thead>\n",
       "<tbody>\n",
       "\t<tr><td>X137.046_0.35 </td><td>0.052742814   </td></tr>\n",
       "\t<tr><td>X269.088_0.35 </td><td>0.205096482   </td></tr>\n",
       "\t<tr><td>X169.036_0.375</td><td>0.002086625   </td></tr>\n",
       "\t<tr><td>X338.342_3.533</td><td>0.612869271   </td></tr>\n",
       "\t<tr><td>X387.181_2.767</td><td>1.000000000   </td></tr>\n",
       "\t<tr><td>X311.081_2.525</td><td>0.583261597   </td></tr>\n",
       "</tbody>\n",
       "</table>\n"
      ],
      "text/latex": [
       "\\begin{tabular}{r|ll}\n",
       " filename & LVT\\_75DPI\\\\\n",
       "\\hline\n",
       "\t X137.046\\_0.35  & 0.052742814     \\\\\n",
       "\t X269.088\\_0.35  & 0.205096482     \\\\\n",
       "\t X169.036\\_0.375 & 0.002086625     \\\\\n",
       "\t X338.342\\_3.533 & 0.612869271     \\\\\n",
       "\t X387.181\\_2.767 & 1.000000000     \\\\\n",
       "\t X311.081\\_2.525 & 0.583261597     \\\\\n",
       "\\end{tabular}\n"
      ],
      "text/markdown": [
       "\n",
       "| filename | LVT_75DPI |\n",
       "|---|---|\n",
       "| X137.046_0.35  | 0.052742814    |\n",
       "| X269.088_0.35  | 0.205096482    |\n",
       "| X169.036_0.375 | 0.002086625    |\n",
       "| X338.342_3.533 | 0.612869271    |\n",
       "| X387.181_2.767 | 1.000000000    |\n",
       "| X311.081_2.525 | 0.583261597    |\n",
       "\n"
      ],
      "text/plain": [
       "  filename       LVT_75DPI  \n",
       "1 X137.046_0.35  0.052742814\n",
       "2 X269.088_0.35  0.205096482\n",
       "3 X169.036_0.375 0.002086625\n",
       "4 X338.342_3.533 0.612869271\n",
       "5 X387.181_2.767 1.000000000\n",
       "6 X311.081_2.525 0.583261597"
      ]
     },
     "metadata": {},
     "output_type": "display_data"
    },
    {
     "data": {
      "text/html": [
       "<ol class=list-inline>\n",
       "\t<li>3039</li>\n",
       "\t<li>2</li>\n",
       "</ol>\n"
      ],
      "text/latex": [
       "\\begin{enumerate*}\n",
       "\\item 3039\n",
       "\\item 2\n",
       "\\end{enumerate*}\n"
      ],
      "text/markdown": [
       "1. 3039\n",
       "2. 2\n",
       "\n",
       "\n"
      ],
      "text/plain": [
       "[1] 3039    2"
      ]
     },
     "metadata": {},
     "output_type": "display_data"
    },
    {
     "data": {
      "text/html": [
       "<table>\n",
       "<thead><tr><th scope=col>filename</th><th scope=col>LVB_75DPI</th></tr></thead>\n",
       "<tbody>\n",
       "\t<tr><td>X137.046_0.35 </td><td>0.001539285   </td></tr>\n",
       "\t<tr><td>X269.088_0.35 </td><td>0.001561584   </td></tr>\n",
       "\t<tr><td>X169.036_0.375</td><td>0.197324981   </td></tr>\n",
       "\t<tr><td>X338.342_3.533</td><td>0.396831039   </td></tr>\n",
       "\t<tr><td>X387.181_2.767</td><td>0.531227615   </td></tr>\n",
       "\t<tr><td>X311.081_2.525</td><td>0.789903437   </td></tr>\n",
       "</tbody>\n",
       "</table>\n"
      ],
      "text/latex": [
       "\\begin{tabular}{r|ll}\n",
       " filename & LVB\\_75DPI\\\\\n",
       "\\hline\n",
       "\t X137.046\\_0.35  & 0.001539285     \\\\\n",
       "\t X269.088\\_0.35  & 0.001561584     \\\\\n",
       "\t X169.036\\_0.375 & 0.197324981     \\\\\n",
       "\t X338.342\\_3.533 & 0.396831039     \\\\\n",
       "\t X387.181\\_2.767 & 0.531227615     \\\\\n",
       "\t X311.081\\_2.525 & 0.789903437     \\\\\n",
       "\\end{tabular}\n"
      ],
      "text/markdown": [
       "\n",
       "| filename | LVB_75DPI |\n",
       "|---|---|\n",
       "| X137.046_0.35  | 0.001539285    |\n",
       "| X269.088_0.35  | 0.001561584    |\n",
       "| X169.036_0.375 | 0.197324981    |\n",
       "| X338.342_3.533 | 0.396831039    |\n",
       "| X387.181_2.767 | 0.531227615    |\n",
       "| X311.081_2.525 | 0.789903437    |\n",
       "\n"
      ],
      "text/plain": [
       "  filename       LVB_75DPI  \n",
       "1 X137.046_0.35  0.001539285\n",
       "2 X269.088_0.35  0.001561584\n",
       "3 X169.036_0.375 0.197324981\n",
       "4 X338.342_3.533 0.396831039\n",
       "5 X387.181_2.767 0.531227615\n",
       "6 X311.081_2.525 0.789903437"
      ]
     },
     "metadata": {},
     "output_type": "display_data"
    },
    {
     "data": {
      "text/html": [
       "<ol class=list-inline>\n",
       "\t<li>2653</li>\n",
       "\t<li>2</li>\n",
       "</ol>\n"
      ],
      "text/latex": [
       "\\begin{enumerate*}\n",
       "\\item 2653\n",
       "\\item 2\n",
       "\\end{enumerate*}\n"
      ],
      "text/markdown": [
       "1. 2653\n",
       "2. 2\n",
       "\n",
       "\n"
      ],
      "text/plain": [
       "[1] 2653    2"
      ]
     },
     "metadata": {},
     "output_type": "display_data"
    },
    {
     "data": {
      "text/html": [
       "<table>\n",
       "<thead><tr><th scope=col>filename</th><th scope=col>RVT_75DPI</th></tr></thead>\n",
       "<tbody>\n",
       "\t<tr><td>X137.046_0.35 </td><td>0.34943124    </td></tr>\n",
       "\t<tr><td>X269.088_0.35 </td><td>0.47948018    </td></tr>\n",
       "\t<tr><td>X338.342_3.533</td><td>0.76046859    </td></tr>\n",
       "\t<tr><td>X387.181_2.767</td><td>0.07231394    </td></tr>\n",
       "\t<tr><td>X311.081_2.525</td><td>0.12752115    </td></tr>\n",
       "\t<tr><td>X228.196_2.71 </td><td>0.47948018    </td></tr>\n",
       "</tbody>\n",
       "</table>\n"
      ],
      "text/latex": [
       "\\begin{tabular}{r|ll}\n",
       " filename & RVT\\_75DPI\\\\\n",
       "\\hline\n",
       "\t X137.046\\_0.35  & 0.34943124      \\\\\n",
       "\t X269.088\\_0.35  & 0.47948018      \\\\\n",
       "\t X338.342\\_3.533 & 0.76046859      \\\\\n",
       "\t X387.181\\_2.767 & 0.07231394      \\\\\n",
       "\t X311.081\\_2.525 & 0.12752115      \\\\\n",
       "\t X228.196\\_2.71  & 0.47948018      \\\\\n",
       "\\end{tabular}\n"
      ],
      "text/markdown": [
       "\n",
       "| filename | RVT_75DPI |\n",
       "|---|---|\n",
       "| X137.046_0.35  | 0.34943124     |\n",
       "| X269.088_0.35  | 0.47948018     |\n",
       "| X338.342_3.533 | 0.76046859     |\n",
       "| X387.181_2.767 | 0.07231394     |\n",
       "| X311.081_2.525 | 0.12752115     |\n",
       "| X228.196_2.71  | 0.47948018     |\n",
       "\n"
      ],
      "text/plain": [
       "  filename       RVT_75DPI \n",
       "1 X137.046_0.35  0.34943124\n",
       "2 X269.088_0.35  0.47948018\n",
       "3 X338.342_3.533 0.76046859\n",
       "4 X387.181_2.767 0.07231394\n",
       "5 X311.081_2.525 0.12752115\n",
       "6 X228.196_2.71  0.47948018"
      ]
     },
     "metadata": {},
     "output_type": "display_data"
    },
    {
     "data": {
      "text/html": [
       "<ol class=list-inline>\n",
       "\t<li>1712</li>\n",
       "\t<li>2</li>\n",
       "</ol>\n"
      ],
      "text/latex": [
       "\\begin{enumerate*}\n",
       "\\item 1712\n",
       "\\item 2\n",
       "\\end{enumerate*}\n"
      ],
      "text/markdown": [
       "1. 1712\n",
       "2. 2\n",
       "\n",
       "\n"
      ],
      "text/plain": [
       "[1] 1712    2"
      ]
     },
     "metadata": {},
     "output_type": "display_data"
    },
    {
     "data": {
      "text/html": [
       "<table>\n",
       "<thead><tr><th scope=col>filename</th><th scope=col>RVB_75DPI</th></tr></thead>\n",
       "<tbody>\n",
       "\t<tr><td>X137.046_0.35 </td><td>0.12539386    </td></tr>\n",
       "\t<tr><td>X269.088_0.35 </td><td>0.17933477    </td></tr>\n",
       "\t<tr><td>X169.036_0.375</td><td>0.03657295    </td></tr>\n",
       "\t<tr><td>X338.342_3.533</td><td>0.67809986    </td></tr>\n",
       "\t<tr><td>X387.181_2.767</td><td>0.13987855    </td></tr>\n",
       "\t<tr><td>X311.081_2.525</td><td>0.46331853    </td></tr>\n",
       "</tbody>\n",
       "</table>\n"
      ],
      "text/latex": [
       "\\begin{tabular}{r|ll}\n",
       " filename & RVB\\_75DPI\\\\\n",
       "\\hline\n",
       "\t X137.046\\_0.35  & 0.12539386      \\\\\n",
       "\t X269.088\\_0.35  & 0.17933477      \\\\\n",
       "\t X169.036\\_0.375 & 0.03657295      \\\\\n",
       "\t X338.342\\_3.533 & 0.67809986      \\\\\n",
       "\t X387.181\\_2.767 & 0.13987855      \\\\\n",
       "\t X311.081\\_2.525 & 0.46331853      \\\\\n",
       "\\end{tabular}\n"
      ],
      "text/markdown": [
       "\n",
       "| filename | RVB_75DPI |\n",
       "|---|---|\n",
       "| X137.046_0.35  | 0.12539386     |\n",
       "| X269.088_0.35  | 0.17933477     |\n",
       "| X169.036_0.375 | 0.03657295     |\n",
       "| X338.342_3.533 | 0.67809986     |\n",
       "| X387.181_2.767 | 0.13987855     |\n",
       "| X311.081_2.525 | 0.46331853     |\n",
       "\n"
      ],
      "text/plain": [
       "  filename       RVB_75DPI \n",
       "1 X137.046_0.35  0.12539386\n",
       "2 X269.088_0.35  0.17933477\n",
       "3 X169.036_0.375 0.03657295\n",
       "4 X338.342_3.533 0.67809986\n",
       "5 X387.181_2.767 0.13987855\n",
       "6 X311.081_2.525 0.46331853"
      ]
     },
     "metadata": {},
     "output_type": "display_data"
    },
    {
     "data": {
      "text/html": [
       "<ol class=list-inline>\n",
       "\t<li>1760</li>\n",
       "\t<li>2</li>\n",
       "</ol>\n"
      ],
      "text/latex": [
       "\\begin{enumerate*}\n",
       "\\item 1760\n",
       "\\item 2\n",
       "\\end{enumerate*}\n"
      ],
      "text/markdown": [
       "1. 1760\n",
       "2. 2\n",
       "\n",
       "\n"
      ],
      "text/plain": [
       "[1] 1760    2"
      ]
     },
     "metadata": {},
     "output_type": "display_data"
    }
   ],
   "source": [
    "file_1 <- read.csv(\"LA-wilcox-3B-1B-fix.csv\", h = T, sep = \",\", dec = \".\")\n",
    "head(file_1)\n",
    "dim(file_1)\n",
    "\n",
    "file_2 <- read.csv(\"RA-wilcox-3B-1B-fix.csv\", h = T, sep = \",\", dec = \".\")\n",
    "head(file_2)\n",
    "dim(file_2)\n",
    "\n",
    "file_3 <- read.csv(\"LVT-wilcox-3B-1B-fix.csv\", h = T, sep = \",\", dec = \".\")\n",
    "head(file_3)\n",
    "dim(file_3)\n",
    "\n",
    "file_4 <- read.csv(\"LVB-wilcox-3B-1B-fix.csv\", h = T, sep = \",\", dec = \".\")\n",
    "head(file_4)\n",
    "dim(file_4)\n",
    "\n",
    "file_5 <- read.csv(\"RVT-wilcox-3B-1B-fix.csv\", h = T, sep = \",\", dec = \".\")\n",
    "head(file_5)\n",
    "dim(file_5)\n",
    "\n",
    "file_6 <- read.csv(\"RVB-wilcox-3B-1B-fix.csv\", h = T, sep = \",\", dec = \".\")\n",
    "head(file_6)\n",
    "dim(file_6)\n"
   ]
  },
  {
   "cell_type": "code",
   "execution_count": 3,
   "metadata": {},
   "outputs": [
    {
     "data": {
      "text/html": [
       "<table>\n",
       "<thead><tr><th scope=col>filename</th><th scope=col>LA_75DPI</th><th scope=col>RA_75DPI</th><th scope=col>LVT_75DPI</th><th scope=col>LVB_75DPI</th><th scope=col>RVT_75DPI</th><th scope=col>RVB_75DPI</th></tr></thead>\n",
       "<tbody>\n",
       "\t<tr><td>X137.046_0.35 </td><td>0.321030403   </td><td>0.055533692   </td><td>0.052742814   </td><td>0.001539285   </td><td>0.34943124    </td><td>0.12539386    </td></tr>\n",
       "\t<tr><td>X269.088_0.35 </td><td>0.551004142   </td><td>0.214273264   </td><td>0.205096482   </td><td>0.001561584   </td><td>0.47948018    </td><td>0.17933477    </td></tr>\n",
       "\t<tr><td>X169.036_0.375</td><td>0.002480055   </td><td>0.006976381   </td><td>0.002086625   </td><td>0.197324981   </td><td>        NA    </td><td>0.03657295    </td></tr>\n",
       "\t<tr><td>X338.342_3.533</td><td>0.415096828   </td><td>0.814651586   </td><td>0.612869271   </td><td>0.396831039   </td><td>0.76046859    </td><td>0.67809986    </td></tr>\n",
       "\t<tr><td>X387.181_2.767</td><td>0.943920125   </td><td>0.093842354   </td><td>1.000000000   </td><td>0.531227615   </td><td>0.07231394    </td><td>0.13987855    </td></tr>\n",
       "\t<tr><td>X311.081_2.525</td><td>0.854995026   </td><td>0.656971387   </td><td>0.583261597   </td><td>0.789903437   </td><td>0.12752115    </td><td>0.46331853    </td></tr>\n",
       "</tbody>\n",
       "</table>\n"
      ],
      "text/latex": [
       "\\begin{tabular}{r|lllllll}\n",
       " filename & LA\\_75DPI & RA\\_75DPI & LVT\\_75DPI & LVB\\_75DPI & RVT\\_75DPI & RVB\\_75DPI\\\\\n",
       "\\hline\n",
       "\t X137.046\\_0.35  & 0.321030403      & 0.055533692      & 0.052742814      & 0.001539285      & 0.34943124       & 0.12539386      \\\\\n",
       "\t X269.088\\_0.35  & 0.551004142      & 0.214273264      & 0.205096482      & 0.001561584      & 0.47948018       & 0.17933477      \\\\\n",
       "\t X169.036\\_0.375 & 0.002480055      & 0.006976381      & 0.002086625      & 0.197324981      &         NA       & 0.03657295      \\\\\n",
       "\t X338.342\\_3.533 & 0.415096828      & 0.814651586      & 0.612869271      & 0.396831039      & 0.76046859       & 0.67809986      \\\\\n",
       "\t X387.181\\_2.767 & 0.943920125      & 0.093842354      & 1.000000000      & 0.531227615      & 0.07231394       & 0.13987855      \\\\\n",
       "\t X311.081\\_2.525 & 0.854995026      & 0.656971387      & 0.583261597      & 0.789903437      & 0.12752115       & 0.46331853      \\\\\n",
       "\\end{tabular}\n"
      ],
      "text/markdown": [
       "\n",
       "| filename | LA_75DPI | RA_75DPI | LVT_75DPI | LVB_75DPI | RVT_75DPI | RVB_75DPI |\n",
       "|---|---|---|---|---|---|---|\n",
       "| X137.046_0.35  | 0.321030403    | 0.055533692    | 0.052742814    | 0.001539285    | 0.34943124     | 0.12539386     |\n",
       "| X269.088_0.35  | 0.551004142    | 0.214273264    | 0.205096482    | 0.001561584    | 0.47948018     | 0.17933477     |\n",
       "| X169.036_0.375 | 0.002480055    | 0.006976381    | 0.002086625    | 0.197324981    |         NA     | 0.03657295     |\n",
       "| X338.342_3.533 | 0.415096828    | 0.814651586    | 0.612869271    | 0.396831039    | 0.76046859     | 0.67809986     |\n",
       "| X387.181_2.767 | 0.943920125    | 0.093842354    | 1.000000000    | 0.531227615    | 0.07231394     | 0.13987855     |\n",
       "| X311.081_2.525 | 0.854995026    | 0.656971387    | 0.583261597    | 0.789903437    | 0.12752115     | 0.46331853     |\n",
       "\n"
      ],
      "text/plain": [
       "  filename       LA_75DPI    RA_75DPI    LVT_75DPI   LVB_75DPI   RVT_75DPI \n",
       "1 X137.046_0.35  0.321030403 0.055533692 0.052742814 0.001539285 0.34943124\n",
       "2 X269.088_0.35  0.551004142 0.214273264 0.205096482 0.001561584 0.47948018\n",
       "3 X169.036_0.375 0.002480055 0.006976381 0.002086625 0.197324981         NA\n",
       "4 X338.342_3.533 0.415096828 0.814651586 0.612869271 0.396831039 0.76046859\n",
       "5 X387.181_2.767 0.943920125 0.093842354 1.000000000 0.531227615 0.07231394\n",
       "6 X311.081_2.525 0.854995026 0.656971387 0.583261597 0.789903437 0.12752115\n",
       "  RVB_75DPI \n",
       "1 0.12539386\n",
       "2 0.17933477\n",
       "3 0.03657295\n",
       "4 0.67809986\n",
       "5 0.13987855\n",
       "6 0.46331853"
      ]
     },
     "metadata": {},
     "output_type": "display_data"
    },
    {
     "data": {
      "text/html": [
       "<ol class=list-inline>\n",
       "\t<li>5055</li>\n",
       "\t<li>7</li>\n",
       "</ol>\n"
      ],
      "text/latex": [
       "\\begin{enumerate*}\n",
       "\\item 5055\n",
       "\\item 7\n",
       "\\end{enumerate*}\n"
      ],
      "text/markdown": [
       "1. 5055\n",
       "2. 7\n",
       "\n",
       "\n"
      ],
      "text/plain": [
       "[1] 5055    7"
      ]
     },
     "metadata": {},
     "output_type": "display_data"
    }
   ],
   "source": [
    "union_full_list <- full_join(full_join(full_join(full_join(full_join(file_1,file_2,by=\"filename\"\n",
    "                                                                    ),file_3,by=\"filename\"\n",
    "                                                          ),file_4,by=\"filename\"\n",
    "                                                ),file_5,by=\"filename\"\n",
    "                                      ),file_6,by=\"filename\")\n",
    "head(union_full_list)\n",
    "dim(union_full_list)"
   ]
  },
  {
   "cell_type": "code",
   "execution_count": 4,
   "metadata": {},
   "outputs": [],
   "source": [
    "write.csv(union_full_list, \"75DPI-union-6HS-wilcox-FDR-pvalue.csv\", row.names = FALSE)"
   ]
  },
  {
   "cell_type": "code",
   "execution_count": null,
   "metadata": {},
   "outputs": [],
   "source": []
  },
  {
   "cell_type": "code",
   "execution_count": null,
   "metadata": {},
   "outputs": [],
   "source": []
  },
  {
   "cell_type": "code",
   "execution_count": null,
   "metadata": {},
   "outputs": [],
   "source": []
  },
  {
   "cell_type": "code",
   "execution_count": null,
   "metadata": {},
   "outputs": [],
   "source": []
  },
  {
   "cell_type": "code",
   "execution_count": null,
   "metadata": {},
   "outputs": [],
   "source": []
  }
 ],
 "metadata": {
  "kernelspec": {
   "display_name": "R",
   "language": "R",
   "name": "ir"
  },
  "language_info": {
   "codemirror_mode": "r",
   "file_extension": ".r",
   "mimetype": "text/x-r-source",
   "name": "R",
   "pygments_lexer": "r",
   "version": "3.6.1"
  }
 },
 "nbformat": 4,
 "nbformat_minor": 2
}
