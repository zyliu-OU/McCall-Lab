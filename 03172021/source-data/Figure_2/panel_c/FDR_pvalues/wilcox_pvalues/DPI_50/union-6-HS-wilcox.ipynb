{
 "cells": [
  {
   "cell_type": "code",
   "execution_count": 1,
   "metadata": {},
   "outputs": [
    {
     "name": "stderr",
     "output_type": "stream",
     "text": [
      "Warning message:\n",
      "\"package 'dplyr' was built under R version 3.6.3\"\n",
      "Attaching package: 'dplyr'\n",
      "\n",
      "The following objects are masked from 'package:stats':\n",
      "\n",
      "    filter, lag\n",
      "\n",
      "The following objects are masked from 'package:base':\n",
      "\n",
      "    intersect, setdiff, setequal, union\n",
      "\n"
     ]
    }
   ],
   "source": [
    "library(dplyr)"
   ]
  },
  {
   "cell_type": "code",
   "execution_count": 2,
   "metadata": {
    "scrolled": true
   },
   "outputs": [
    {
     "data": {
      "text/html": [
       "<table>\n",
       "<thead><tr><th scope=col>filename</th><th scope=col>LA_50DPI</th></tr></thead>\n",
       "<tbody>\n",
       "\t<tr><td>X137.046_0.35 </td><td>0.025770797   </td></tr>\n",
       "\t<tr><td>X269.088_0.35 </td><td>0.017147341   </td></tr>\n",
       "\t<tr><td>X169.036_0.375</td><td>0.172271396   </td></tr>\n",
       "\t<tr><td>X338.342_3.533</td><td>0.943478635   </td></tr>\n",
       "\t<tr><td>X387.181_2.767</td><td>0.006427199   </td></tr>\n",
       "\t<tr><td>X311.081_2.525</td><td>0.060803258   </td></tr>\n",
       "</tbody>\n",
       "</table>\n"
      ],
      "text/latex": [
       "\\begin{tabular}{r|ll}\n",
       " filename & LA\\_50DPI\\\\\n",
       "\\hline\n",
       "\t X137.046\\_0.35  & 0.025770797     \\\\\n",
       "\t X269.088\\_0.35  & 0.017147341     \\\\\n",
       "\t X169.036\\_0.375 & 0.172271396     \\\\\n",
       "\t X338.342\\_3.533 & 0.943478635     \\\\\n",
       "\t X387.181\\_2.767 & 0.006427199     \\\\\n",
       "\t X311.081\\_2.525 & 0.060803258     \\\\\n",
       "\\end{tabular}\n"
      ],
      "text/markdown": [
       "\n",
       "| filename | LA_50DPI |\n",
       "|---|---|\n",
       "| X137.046_0.35  | 0.025770797    |\n",
       "| X269.088_0.35  | 0.017147341    |\n",
       "| X169.036_0.375 | 0.172271396    |\n",
       "| X338.342_3.533 | 0.943478635    |\n",
       "| X387.181_2.767 | 0.006427199    |\n",
       "| X311.081_2.525 | 0.060803258    |\n",
       "\n"
      ],
      "text/plain": [
       "  filename       LA_50DPI   \n",
       "1 X137.046_0.35  0.025770797\n",
       "2 X269.088_0.35  0.017147341\n",
       "3 X169.036_0.375 0.172271396\n",
       "4 X338.342_3.533 0.943478635\n",
       "5 X387.181_2.767 0.006427199\n",
       "6 X311.081_2.525 0.060803258"
      ]
     },
     "metadata": {},
     "output_type": "display_data"
    },
    {
     "data": {
      "text/html": [
       "<ol class=list-inline>\n",
       "\t<li>3413</li>\n",
       "\t<li>2</li>\n",
       "</ol>\n"
      ],
      "text/latex": [
       "\\begin{enumerate*}\n",
       "\\item 3413\n",
       "\\item 2\n",
       "\\end{enumerate*}\n"
      ],
      "text/markdown": [
       "1. 3413\n",
       "2. 2\n",
       "\n",
       "\n"
      ],
      "text/plain": [
       "[1] 3413    2"
      ]
     },
     "metadata": {},
     "output_type": "display_data"
    },
    {
     "data": {
      "text/html": [
       "<table>\n",
       "<thead><tr><th scope=col>filename</th><th scope=col>RA_50DPI</th></tr></thead>\n",
       "<tbody>\n",
       "\t<tr><td>X137.046_0.35 </td><td>0.4618481     </td></tr>\n",
       "\t<tr><td>X269.088_0.35 </td><td>0.5737080     </td></tr>\n",
       "\t<tr><td>X169.036_0.375</td><td>0.5165403     </td></tr>\n",
       "\t<tr><td>X338.342_3.533</td><td>0.5909362     </td></tr>\n",
       "\t<tr><td>X387.181_2.767</td><td>0.5737080     </td></tr>\n",
       "\t<tr><td>X311.081_2.525</td><td>0.5737080     </td></tr>\n",
       "</tbody>\n",
       "</table>\n"
      ],
      "text/latex": [
       "\\begin{tabular}{r|ll}\n",
       " filename & RA\\_50DPI\\\\\n",
       "\\hline\n",
       "\t X137.046\\_0.35  & 0.4618481       \\\\\n",
       "\t X269.088\\_0.35  & 0.5737080       \\\\\n",
       "\t X169.036\\_0.375 & 0.5165403       \\\\\n",
       "\t X338.342\\_3.533 & 0.5909362       \\\\\n",
       "\t X387.181\\_2.767 & 0.5737080       \\\\\n",
       "\t X311.081\\_2.525 & 0.5737080       \\\\\n",
       "\\end{tabular}\n"
      ],
      "text/markdown": [
       "\n",
       "| filename | RA_50DPI |\n",
       "|---|---|\n",
       "| X137.046_0.35  | 0.4618481      |\n",
       "| X269.088_0.35  | 0.5737080      |\n",
       "| X169.036_0.375 | 0.5165403      |\n",
       "| X338.342_3.533 | 0.5909362      |\n",
       "| X387.181_2.767 | 0.5737080      |\n",
       "| X311.081_2.525 | 0.5737080      |\n",
       "\n"
      ],
      "text/plain": [
       "  filename       RA_50DPI \n",
       "1 X137.046_0.35  0.4618481\n",
       "2 X269.088_0.35  0.5737080\n",
       "3 X169.036_0.375 0.5165403\n",
       "4 X338.342_3.533 0.5909362\n",
       "5 X387.181_2.767 0.5737080\n",
       "6 X311.081_2.525 0.5737080"
      ]
     },
     "metadata": {},
     "output_type": "display_data"
    },
    {
     "data": {
      "text/html": [
       "<ol class=list-inline>\n",
       "\t<li>2626</li>\n",
       "\t<li>2</li>\n",
       "</ol>\n"
      ],
      "text/latex": [
       "\\begin{enumerate*}\n",
       "\\item 2626\n",
       "\\item 2\n",
       "\\end{enumerate*}\n"
      ],
      "text/markdown": [
       "1. 2626\n",
       "2. 2\n",
       "\n",
       "\n"
      ],
      "text/plain": [
       "[1] 2626    2"
      ]
     },
     "metadata": {},
     "output_type": "display_data"
    },
    {
     "data": {
      "text/html": [
       "<table>\n",
       "<thead><tr><th scope=col>filename</th><th scope=col>LVT_50DPI</th></tr></thead>\n",
       "<tbody>\n",
       "\t<tr><td>X137.046_0.35 </td><td>0.003186753   </td></tr>\n",
       "\t<tr><td>X269.088_0.35 </td><td>0.014922854   </td></tr>\n",
       "\t<tr><td>X169.036_0.375</td><td>0.115547354   </td></tr>\n",
       "\t<tr><td>X338.342_3.533</td><td>0.706812057   </td></tr>\n",
       "\t<tr><td>X387.181_2.767</td><td>0.549566569   </td></tr>\n",
       "\t<tr><td>X311.081_2.525</td><td>0.530755686   </td></tr>\n",
       "</tbody>\n",
       "</table>\n"
      ],
      "text/latex": [
       "\\begin{tabular}{r|ll}\n",
       " filename & LVT\\_50DPI\\\\\n",
       "\\hline\n",
       "\t X137.046\\_0.35  & 0.003186753     \\\\\n",
       "\t X269.088\\_0.35  & 0.014922854     \\\\\n",
       "\t X169.036\\_0.375 & 0.115547354     \\\\\n",
       "\t X338.342\\_3.533 & 0.706812057     \\\\\n",
       "\t X387.181\\_2.767 & 0.549566569     \\\\\n",
       "\t X311.081\\_2.525 & 0.530755686     \\\\\n",
       "\\end{tabular}\n"
      ],
      "text/markdown": [
       "\n",
       "| filename | LVT_50DPI |\n",
       "|---|---|\n",
       "| X137.046_0.35  | 0.003186753    |\n",
       "| X269.088_0.35  | 0.014922854    |\n",
       "| X169.036_0.375 | 0.115547354    |\n",
       "| X338.342_3.533 | 0.706812057    |\n",
       "| X387.181_2.767 | 0.549566569    |\n",
       "| X311.081_2.525 | 0.530755686    |\n",
       "\n"
      ],
      "text/plain": [
       "  filename       LVT_50DPI  \n",
       "1 X137.046_0.35  0.003186753\n",
       "2 X269.088_0.35  0.014922854\n",
       "3 X169.036_0.375 0.115547354\n",
       "4 X338.342_3.533 0.706812057\n",
       "5 X387.181_2.767 0.549566569\n",
       "6 X311.081_2.525 0.530755686"
      ]
     },
     "metadata": {},
     "output_type": "display_data"
    },
    {
     "data": {
      "text/html": [
       "<ol class=list-inline>\n",
       "\t<li>3162</li>\n",
       "\t<li>2</li>\n",
       "</ol>\n"
      ],
      "text/latex": [
       "\\begin{enumerate*}\n",
       "\\item 3162\n",
       "\\item 2\n",
       "\\end{enumerate*}\n"
      ],
      "text/markdown": [
       "1. 3162\n",
       "2. 2\n",
       "\n",
       "\n"
      ],
      "text/plain": [
       "[1] 3162    2"
      ]
     },
     "metadata": {},
     "output_type": "display_data"
    },
    {
     "data": {
      "text/html": [
       "<table>\n",
       "<thead><tr><th scope=col>filename</th><th scope=col>LVB_50DPI</th></tr></thead>\n",
       "<tbody>\n",
       "\t<tr><td>X137.046_0.35 </td><td>0.002628971   </td></tr>\n",
       "\t<tr><td>X269.088_0.35 </td><td>0.000990604   </td></tr>\n",
       "\t<tr><td>X169.036_0.375</td><td>0.466014139   </td></tr>\n",
       "\t<tr><td>X338.342_3.533</td><td>0.466014139   </td></tr>\n",
       "\t<tr><td>X387.181_2.767</td><td>0.002053251   </td></tr>\n",
       "\t<tr><td>X311.081_2.525</td><td>0.273566244   </td></tr>\n",
       "</tbody>\n",
       "</table>\n"
      ],
      "text/latex": [
       "\\begin{tabular}{r|ll}\n",
       " filename & LVB\\_50DPI\\\\\n",
       "\\hline\n",
       "\t X137.046\\_0.35  & 0.002628971     \\\\\n",
       "\t X269.088\\_0.35  & 0.000990604     \\\\\n",
       "\t X169.036\\_0.375 & 0.466014139     \\\\\n",
       "\t X338.342\\_3.533 & 0.466014139     \\\\\n",
       "\t X387.181\\_2.767 & 0.002053251     \\\\\n",
       "\t X311.081\\_2.525 & 0.273566244     \\\\\n",
       "\\end{tabular}\n"
      ],
      "text/markdown": [
       "\n",
       "| filename | LVB_50DPI |\n",
       "|---|---|\n",
       "| X137.046_0.35  | 0.002628971    |\n",
       "| X269.088_0.35  | 0.000990604    |\n",
       "| X169.036_0.375 | 0.466014139    |\n",
       "| X338.342_3.533 | 0.466014139    |\n",
       "| X387.181_2.767 | 0.002053251    |\n",
       "| X311.081_2.525 | 0.273566244    |\n",
       "\n"
      ],
      "text/plain": [
       "  filename       LVB_50DPI  \n",
       "1 X137.046_0.35  0.002628971\n",
       "2 X269.088_0.35  0.000990604\n",
       "3 X169.036_0.375 0.466014139\n",
       "4 X338.342_3.533 0.466014139\n",
       "5 X387.181_2.767 0.002053251\n",
       "6 X311.081_2.525 0.273566244"
      ]
     },
     "metadata": {},
     "output_type": "display_data"
    },
    {
     "data": {
      "text/html": [
       "<ol class=list-inline>\n",
       "\t<li>2561</li>\n",
       "\t<li>2</li>\n",
       "</ol>\n"
      ],
      "text/latex": [
       "\\begin{enumerate*}\n",
       "\\item 2561\n",
       "\\item 2\n",
       "\\end{enumerate*}\n"
      ],
      "text/markdown": [
       "1. 2561\n",
       "2. 2\n",
       "\n",
       "\n"
      ],
      "text/plain": [
       "[1] 2561    2"
      ]
     },
     "metadata": {},
     "output_type": "display_data"
    },
    {
     "data": {
      "text/html": [
       "<table>\n",
       "<thead><tr><th scope=col>filename</th><th scope=col>RVT_50DPI</th></tr></thead>\n",
       "<tbody>\n",
       "\t<tr><td>X137.046_0.35 </td><td>0.01267651    </td></tr>\n",
       "\t<tr><td>X269.088_0.35 </td><td>0.09949092    </td></tr>\n",
       "\t<tr><td>X338.342_3.533</td><td>1.00000000    </td></tr>\n",
       "\t<tr><td>X387.181_2.767</td><td>0.33342770    </td></tr>\n",
       "\t<tr><td>X311.081_2.525</td><td>0.47193650    </td></tr>\n",
       "\t<tr><td>X228.196_2.71 </td><td>0.34669047    </td></tr>\n",
       "</tbody>\n",
       "</table>\n"
      ],
      "text/latex": [
       "\\begin{tabular}{r|ll}\n",
       " filename & RVT\\_50DPI\\\\\n",
       "\\hline\n",
       "\t X137.046\\_0.35  & 0.01267651      \\\\\n",
       "\t X269.088\\_0.35  & 0.09949092      \\\\\n",
       "\t X338.342\\_3.533 & 1.00000000      \\\\\n",
       "\t X387.181\\_2.767 & 0.33342770      \\\\\n",
       "\t X311.081\\_2.525 & 0.47193650      \\\\\n",
       "\t X228.196\\_2.71  & 0.34669047      \\\\\n",
       "\\end{tabular}\n"
      ],
      "text/markdown": [
       "\n",
       "| filename | RVT_50DPI |\n",
       "|---|---|\n",
       "| X137.046_0.35  | 0.01267651     |\n",
       "| X269.088_0.35  | 0.09949092     |\n",
       "| X338.342_3.533 | 1.00000000     |\n",
       "| X387.181_2.767 | 0.33342770     |\n",
       "| X311.081_2.525 | 0.47193650     |\n",
       "| X228.196_2.71  | 0.34669047     |\n",
       "\n"
      ],
      "text/plain": [
       "  filename       RVT_50DPI \n",
       "1 X137.046_0.35  0.01267651\n",
       "2 X269.088_0.35  0.09949092\n",
       "3 X338.342_3.533 1.00000000\n",
       "4 X387.181_2.767 0.33342770\n",
       "5 X311.081_2.525 0.47193650\n",
       "6 X228.196_2.71  0.34669047"
      ]
     },
     "metadata": {},
     "output_type": "display_data"
    },
    {
     "data": {
      "text/html": [
       "<ol class=list-inline>\n",
       "\t<li>1545</li>\n",
       "\t<li>2</li>\n",
       "</ol>\n"
      ],
      "text/latex": [
       "\\begin{enumerate*}\n",
       "\\item 1545\n",
       "\\item 2\n",
       "\\end{enumerate*}\n"
      ],
      "text/markdown": [
       "1. 1545\n",
       "2. 2\n",
       "\n",
       "\n"
      ],
      "text/plain": [
       "[1] 1545    2"
      ]
     },
     "metadata": {},
     "output_type": "display_data"
    },
    {
     "data": {
      "text/html": [
       "<table>\n",
       "<thead><tr><th scope=col>filename</th><th scope=col>RVB_50DPI</th></tr></thead>\n",
       "<tbody>\n",
       "\t<tr><td>X137.046_0.35 </td><td>0.001382629   </td></tr>\n",
       "\t<tr><td>X269.088_0.35 </td><td>0.111491115   </td></tr>\n",
       "\t<tr><td>X169.036_0.375</td><td>0.554843241   </td></tr>\n",
       "\t<tr><td>X338.342_3.533</td><td>0.681454850   </td></tr>\n",
       "\t<tr><td>X387.181_2.767</td><td>0.554843241   </td></tr>\n",
       "\t<tr><td>X311.081_2.525</td><td>0.554843241   </td></tr>\n",
       "</tbody>\n",
       "</table>\n"
      ],
      "text/latex": [
       "\\begin{tabular}{r|ll}\n",
       " filename & RVB\\_50DPI\\\\\n",
       "\\hline\n",
       "\t X137.046\\_0.35  & 0.001382629     \\\\\n",
       "\t X269.088\\_0.35  & 0.111491115     \\\\\n",
       "\t X169.036\\_0.375 & 0.554843241     \\\\\n",
       "\t X338.342\\_3.533 & 0.681454850     \\\\\n",
       "\t X387.181\\_2.767 & 0.554843241     \\\\\n",
       "\t X311.081\\_2.525 & 0.554843241     \\\\\n",
       "\\end{tabular}\n"
      ],
      "text/markdown": [
       "\n",
       "| filename | RVB_50DPI |\n",
       "|---|---|\n",
       "| X137.046_0.35  | 0.001382629    |\n",
       "| X269.088_0.35  | 0.111491115    |\n",
       "| X169.036_0.375 | 0.554843241    |\n",
       "| X338.342_3.533 | 0.681454850    |\n",
       "| X387.181_2.767 | 0.554843241    |\n",
       "| X311.081_2.525 | 0.554843241    |\n",
       "\n"
      ],
      "text/plain": [
       "  filename       RVB_50DPI  \n",
       "1 X137.046_0.35  0.001382629\n",
       "2 X269.088_0.35  0.111491115\n",
       "3 X169.036_0.375 0.554843241\n",
       "4 X338.342_3.533 0.681454850\n",
       "5 X387.181_2.767 0.554843241\n",
       "6 X311.081_2.525 0.554843241"
      ]
     },
     "metadata": {},
     "output_type": "display_data"
    },
    {
     "data": {
      "text/html": [
       "<ol class=list-inline>\n",
       "\t<li>2383</li>\n",
       "\t<li>2</li>\n",
       "</ol>\n"
      ],
      "text/latex": [
       "\\begin{enumerate*}\n",
       "\\item 2383\n",
       "\\item 2\n",
       "\\end{enumerate*}\n"
      ],
      "text/markdown": [
       "1. 2383\n",
       "2. 2\n",
       "\n",
       "\n"
      ],
      "text/plain": [
       "[1] 2383    2"
      ]
     },
     "metadata": {},
     "output_type": "display_data"
    }
   ],
   "source": [
    "file_1 <- read.csv(\"LA-wilcox-3A-1A-fix.csv\", h = T, sep = \",\", dec = \".\")\n",
    "head(file_1)\n",
    "dim(file_1)\n",
    "\n",
    "file_2 <- read.csv(\"RA-wilcox-3A-1A-fix.csv\", h = T, sep = \",\", dec = \".\")\n",
    "head(file_2)\n",
    "dim(file_2)\n",
    "\n",
    "file_3 <- read.csv(\"LVT-wilcox-3A-1A-fix.csv\", h = T, sep = \",\", dec = \".\")\n",
    "head(file_3)\n",
    "dim(file_3)\n",
    "\n",
    "file_4 <- read.csv(\"LVB-wilcox-3A-1A-fix.csv\", h = T, sep = \",\", dec = \".\")\n",
    "head(file_4)\n",
    "dim(file_4)\n",
    "\n",
    "file_5 <- read.csv(\"RVT-wilcox-3A-1A-fix.csv\", h = T, sep = \",\", dec = \".\")\n",
    "head(file_5)\n",
    "dim(file_5)\n",
    "\n",
    "file_6 <- read.csv(\"RVB-wilcox-3A-1A-fix.csv\", h = T, sep = \",\", dec = \".\")\n",
    "head(file_6)\n",
    "dim(file_6)\n"
   ]
  },
  {
   "cell_type": "code",
   "execution_count": 3,
   "metadata": {},
   "outputs": [
    {
     "data": {
      "text/html": [
       "<table>\n",
       "<thead><tr><th scope=col>filename</th><th scope=col>LA_50DPI</th><th scope=col>RA_50DPI</th><th scope=col>LVT_50DPI</th><th scope=col>LVB_50DPI</th><th scope=col>RVT_50DPI</th><th scope=col>RVB_50DPI</th></tr></thead>\n",
       "<tbody>\n",
       "\t<tr><td>X137.046_0.35 </td><td>0.025770797   </td><td>0.4618481     </td><td>0.003186753   </td><td>0.002628971   </td><td>0.01267651    </td><td>0.001382629   </td></tr>\n",
       "\t<tr><td>X269.088_0.35 </td><td>0.017147341   </td><td>0.5737080     </td><td>0.014922854   </td><td>0.000990604   </td><td>0.09949092    </td><td>0.111491115   </td></tr>\n",
       "\t<tr><td>X169.036_0.375</td><td>0.172271396   </td><td>0.5165403     </td><td>0.115547354   </td><td>0.466014139   </td><td>        NA    </td><td>0.554843241   </td></tr>\n",
       "\t<tr><td>X338.342_3.533</td><td>0.943478635   </td><td>0.5909362     </td><td>0.706812057   </td><td>0.466014139   </td><td>1.00000000    </td><td>0.681454850   </td></tr>\n",
       "\t<tr><td>X387.181_2.767</td><td>0.006427199   </td><td>0.5737080     </td><td>0.549566569   </td><td>0.002053251   </td><td>0.33342770    </td><td>0.554843241   </td></tr>\n",
       "\t<tr><td>X311.081_2.525</td><td>0.060803258   </td><td>0.5737080     </td><td>0.530755686   </td><td>0.273566244   </td><td>0.47193650    </td><td>0.554843241   </td></tr>\n",
       "</tbody>\n",
       "</table>\n"
      ],
      "text/latex": [
       "\\begin{tabular}{r|lllllll}\n",
       " filename & LA\\_50DPI & RA\\_50DPI & LVT\\_50DPI & LVB\\_50DPI & RVT\\_50DPI & RVB\\_50DPI\\\\\n",
       "\\hline\n",
       "\t X137.046\\_0.35  & 0.025770797      & 0.4618481        & 0.003186753      & 0.002628971      & 0.01267651       & 0.001382629     \\\\\n",
       "\t X269.088\\_0.35  & 0.017147341      & 0.5737080        & 0.014922854      & 0.000990604      & 0.09949092       & 0.111491115     \\\\\n",
       "\t X169.036\\_0.375 & 0.172271396      & 0.5165403        & 0.115547354      & 0.466014139      &         NA       & 0.554843241     \\\\\n",
       "\t X338.342\\_3.533 & 0.943478635      & 0.5909362        & 0.706812057      & 0.466014139      & 1.00000000       & 0.681454850     \\\\\n",
       "\t X387.181\\_2.767 & 0.006427199      & 0.5737080        & 0.549566569      & 0.002053251      & 0.33342770       & 0.554843241     \\\\\n",
       "\t X311.081\\_2.525 & 0.060803258      & 0.5737080        & 0.530755686      & 0.273566244      & 0.47193650       & 0.554843241     \\\\\n",
       "\\end{tabular}\n"
      ],
      "text/markdown": [
       "\n",
       "| filename | LA_50DPI | RA_50DPI | LVT_50DPI | LVB_50DPI | RVT_50DPI | RVB_50DPI |\n",
       "|---|---|---|---|---|---|---|\n",
       "| X137.046_0.35  | 0.025770797    | 0.4618481      | 0.003186753    | 0.002628971    | 0.01267651     | 0.001382629    |\n",
       "| X269.088_0.35  | 0.017147341    | 0.5737080      | 0.014922854    | 0.000990604    | 0.09949092     | 0.111491115    |\n",
       "| X169.036_0.375 | 0.172271396    | 0.5165403      | 0.115547354    | 0.466014139    |         NA     | 0.554843241    |\n",
       "| X338.342_3.533 | 0.943478635    | 0.5909362      | 0.706812057    | 0.466014139    | 1.00000000     | 0.681454850    |\n",
       "| X387.181_2.767 | 0.006427199    | 0.5737080      | 0.549566569    | 0.002053251    | 0.33342770     | 0.554843241    |\n",
       "| X311.081_2.525 | 0.060803258    | 0.5737080      | 0.530755686    | 0.273566244    | 0.47193650     | 0.554843241    |\n",
       "\n"
      ],
      "text/plain": [
       "  filename       LA_50DPI    RA_50DPI  LVT_50DPI   LVB_50DPI   RVT_50DPI \n",
       "1 X137.046_0.35  0.025770797 0.4618481 0.003186753 0.002628971 0.01267651\n",
       "2 X269.088_0.35  0.017147341 0.5737080 0.014922854 0.000990604 0.09949092\n",
       "3 X169.036_0.375 0.172271396 0.5165403 0.115547354 0.466014139         NA\n",
       "4 X338.342_3.533 0.943478635 0.5909362 0.706812057 0.466014139 1.00000000\n",
       "5 X387.181_2.767 0.006427199 0.5737080 0.549566569 0.002053251 0.33342770\n",
       "6 X311.081_2.525 0.060803258 0.5737080 0.530755686 0.273566244 0.47193650\n",
       "  RVB_50DPI  \n",
       "1 0.001382629\n",
       "2 0.111491115\n",
       "3 0.554843241\n",
       "4 0.681454850\n",
       "5 0.554843241\n",
       "6 0.554843241"
      ]
     },
     "metadata": {},
     "output_type": "display_data"
    },
    {
     "data": {
      "text/html": [
       "<ol class=list-inline>\n",
       "\t<li>4939</li>\n",
       "\t<li>7</li>\n",
       "</ol>\n"
      ],
      "text/latex": [
       "\\begin{enumerate*}\n",
       "\\item 4939\n",
       "\\item 7\n",
       "\\end{enumerate*}\n"
      ],
      "text/markdown": [
       "1. 4939\n",
       "2. 7\n",
       "\n",
       "\n"
      ],
      "text/plain": [
       "[1] 4939    7"
      ]
     },
     "metadata": {},
     "output_type": "display_data"
    }
   ],
   "source": [
    "union_full_list <- full_join(full_join(full_join(full_join(full_join(file_1,file_2,by=\"filename\"\n",
    "                                                                    ),file_3,by=\"filename\"\n",
    "                                                          ),file_4,by=\"filename\"\n",
    "                                                ),file_5,by=\"filename\"\n",
    "                                      ),file_6,by=\"filename\")\n",
    "head(union_full_list)\n",
    "dim(union_full_list)"
   ]
  },
  {
   "cell_type": "code",
   "execution_count": 4,
   "metadata": {},
   "outputs": [],
   "source": [
    "write.csv(union_full_list, \"50DPI-union-6HS-wilcox-FDR-pvalue.csv\", row.names = FALSE)"
   ]
  },
  {
   "cell_type": "code",
   "execution_count": null,
   "metadata": {},
   "outputs": [],
   "source": []
  },
  {
   "cell_type": "code",
   "execution_count": null,
   "metadata": {},
   "outputs": [],
   "source": []
  },
  {
   "cell_type": "code",
   "execution_count": null,
   "metadata": {},
   "outputs": [],
   "source": []
  },
  {
   "cell_type": "code",
   "execution_count": null,
   "metadata": {},
   "outputs": [],
   "source": []
  },
  {
   "cell_type": "code",
   "execution_count": null,
   "metadata": {},
   "outputs": [],
   "source": []
  }
 ],
 "metadata": {
  "kernelspec": {
   "display_name": "R",
   "language": "R",
   "name": "ir"
  },
  "language_info": {
   "codemirror_mode": "r",
   "file_extension": ".r",
   "mimetype": "text/x-r-source",
   "name": "R",
   "pygments_lexer": "r",
   "version": "3.6.1"
  }
 },
 "nbformat": 4,
 "nbformat_minor": 2
}
