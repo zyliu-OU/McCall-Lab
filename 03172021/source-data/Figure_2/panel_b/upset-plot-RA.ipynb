{
 "cells": [
  {
   "cell_type": "code",
   "execution_count": 2,
   "metadata": {},
   "outputs": [
    {
     "data": {
      "text/plain": [
       "<Figure size 2880x1440 with 0 Axes>"
      ]
     },
     "metadata": {},
     "output_type": "display_data"
    },
    {
     "data": {
      "image/png": "[encoded data removed]",
      "text/plain": [
       "<Figure size 222.222x361.111 with 4 Axes>"
      ]
     },
     "metadata": {},
     "output_type": "display_data"
    }
   ],
   "source": [
    "\n",
    "import pandas\n",
    "import numpy as np\n",
    "import matplotlib.pyplot as plt\n",
    "import seaborn as sns; sns.set_theme(color_codes=True)\n",
    "from matplotlib.pyplot import gcf\n",
    "from upsetplot import UpSet\n",
    "from matplotlib import cm\n",
    "\n",
    "# import superclass information from molnetenhancer data.\n",
    "# features in rows.\n",
    "data_b = pandas.read_csv(\"3ABE-1ABC-annotation.csv\")\n",
    "data_b = data_b.set_index(['features'])\n",
    "mass_class_series = data_b.pop(\"classes\")\n",
    "\n",
    "data_DPI_50 = pandas.read_csv(\"3A-1A-wilcox-RF-cutoff-RA.csv\")\n",
    "data_DPI_50 = data_DPI_50.set_index(['mass'])\n",
    "\n",
    "data_DPI_75 = pandas.read_csv(\"3B-1B-wilcox-RF-cutoff-RA.csv\")\n",
    "data_DPI_75 = data_DPI_75.set_index(['mass'])\n",
    "\n",
    "data_DPI_142 = pandas.read_csv(\"3E-1C-wilcox-RF-cutoff-RA.csv\")\n",
    "data_DPI_142 = data_DPI_142.set_index(['mass'])\n",
    "\n",
    "DPI_series_50 = data_DPI_50.pop(\"DPI_50\")\n",
    "DPI_series_75 = data_DPI_75.pop(\"DPI_75\")\n",
    "DPI_series_142 = data_DPI_142.pop(\"DPI_142\")\n",
    "\n",
    "col_colors = pandas.DataFrame(DPI_series_50).join(pandas.DataFrame(DPI_series_75),how='outer').join(pandas.DataFrame(DPI_series_142),how='outer').join(pandas.DataFrame(mass_class_series), how = 'inner')\n",
    "col_colors = col_colors.set_index(col_colors.DPI_50 == 1).set_index(col_colors.DPI_75 == 1, append=True).set_index(col_colors.DPI_142 == 1, append=True)\n",
    "\n",
    "metabolites_color = {'No matches':(0.12156862745098039, 0.4666666666666667, 0.7058823529411765),\n",
    "           'Benzenoids':(1.0, 0.4980392156862745, 0.054901960784313725), \n",
    "           'Organic acids and derivatives':(0.17254901960784313, 0.6274509803921569, 0.17254901960784313), \n",
    "           'Lipids and lipid-like molecules':(0.8392156862745098, 0.15294117647058825, 0.1568627450980392), \n",
    "           'Organoheterocyclic compounds':(0.5803921568627451, 0.403921568627451, 0.7411764705882353),\n",
    "           'Nucleosides, nucleotides, and analogues':(0.5490196078431373, 0.33725490196078434, 0.29411764705882354),\n",
    "           'Phenylpropanoids and polyketides':(0.8901960784313725, 0.4666666666666667, 0.7607843137254902), \n",
    "           'Organic nitrogen compounds':(0.4980392156862745, 0.4980392156862745, 0.4980392156862745),\n",
    "           'Organic oxygen compounds':(0.7372549019607844, 0.7411764705882353, 0.13333333333333333)}\n",
    "\n",
    "# plot the upset plot\n",
    "upset = UpSet(col_colors,show_counts = True, intersection_plot_elements=0, sort_categories_by = None, element_size=20)  # disable the default bar chart\n",
    "upset.add_stacked_bars(by='classes', colors=metabolites_color, title=\"Count by classes\", elements=10)\n",
    "plt.figure(figsize = (40, 20))\n",
    "plt.style.use('default')\n",
    "upset.plot()\n",
    "plt.legend('',frameon=False)\n",
    "plt.suptitle(\"RA\")\n",
    "plt.savefig(\"upset-plot-DPI-overlap-RA.pdf\", dpi = 300, bbox_inches = 'tight')\n",
    "plt.savefig(\"upset-plot-DPI-overlap-RA.png\", dpi = 300, bbox_inches = 'tight')\n"
   ]
  },
  {
   "cell_type": "code",
   "execution_count": null,
   "metadata": {},
   "outputs": [],
   "source": []
  }
 ],
 "metadata": {
  "kernelspec": {
   "display_name": "Python 3",
   "language": "python",
   "name": "python3"
  },
  "language_info": {
   "codemirror_mode": {
    "name": "ipython",
    "version": 3
   },
   "file_extension": ".py",
   "mimetype": "text/x-python",
   "name": "python",
   "nbconvert_exporter": "python",
   "pygments_lexer": "ipython3",
   "version": "3.8.13"
  }
 },
 "nbformat": 4,
 "nbformat_minor": 4
}
