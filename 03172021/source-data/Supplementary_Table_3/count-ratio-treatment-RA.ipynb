{
 "cells": [
  {
   "cell_type": "code",
   "execution_count": 1,
   "metadata": {},
   "outputs": [],
   "source": [
    "import pandas\n",
    "\n",
    "data_a = pandas.read_csv('wilcox-restore-RA-fix.csv')\n",
    "\n",
    "# restored by any groups infomation \n",
    "any_group = data_a[data_a[\"RA\"].isin([\"group9\",\"group15\",\"group9_group15\"])]\n",
    "any_group_50D = any_group.pop(\"X3A1A_pAdj\")\n",
    "any_group_70D = any_group.pop(\"X3B1B_pAdj\")\n",
    "any_group_50D_small_005 = any_group_50D.drop(any_group_50D[(any_group_50D.values > 0.05)].index).dropna()\n",
    "any_group_50D_larger_005 = any_group_50D.drop(any_group_50D[(any_group_50D.values <= 0.05)].index)\n",
    "any_group_70D_small_005 = any_group_70D.drop(any_group_70D[(any_group_70D.values > 0.05)].index).dropna()\n",
    "any_group_70D_larger_005 = any_group_70D.drop(any_group_70D[(any_group_70D.values <= 0.05)].index)\n",
    "\n",
    "# restored by group 9 infomation \n",
    "group_9 = data_a[data_a[\"RA\"].isin([\"group9\"])]\n",
    "group_9_50D = group_9.pop(\"X3A1A_pAdj\")\n",
    "group_9_70D = group_9.pop(\"X3B1B_pAdj\")\n",
    "group_9_50D_small_005 = group_9_50D.drop(group_9_50D[(group_9_50D.values > 0.05)].index).dropna()\n",
    "group_9_50D_larger_005 = group_9_50D.drop(group_9_50D[(group_9_50D.values <= 0.05)].index)\n",
    "group_9_70D_small_005 = group_9_70D.drop(group_9_70D[(group_9_70D.values > 0.05)].index).dropna()\n",
    "group_9_70D_larger_005 = group_9_70D.drop(group_9_70D[(group_9_70D.values <= 0.05)].index)\n",
    "\n",
    "# restored by group 15 infomation \n",
    "group_15 = data_a[data_a[\"RA\"].isin([\"group15\"])]\n",
    "group_15_50D = group_15.pop(\"X3A1A_pAdj\")\n",
    "group_15_70D = group_15.pop(\"X3B1B_pAdj\")\n",
    "group_15_50D_small_005 = group_15_50D.drop(group_15_50D[(group_15_50D.values > 0.05)].index).dropna()\n",
    "group_15_50D_larger_005 = group_15_50D.drop(group_15_50D[(group_15_50D.values <= 0.05)].index)\n",
    "group_15_70D_small_005 = group_15_70D.drop(group_15_70D[(group_15_70D.values > 0.05)].index).dropna()\n",
    "group_15_70D_larger_005 = group_15_70D.drop(group_15_70D[(group_15_70D.values <= 0.05)].index)\n",
    "\n",
    "# restored by group 9 and 15 infomation \n",
    "group_9_15 = data_a[data_a[\"RA\"].isin([\"group9_group15\"])]\n",
    "group_9_15_50D = group_9_15.pop(\"X3A1A_pAdj\")\n",
    "group_9_15_70D = group_9_15.pop(\"X3B1B_pAdj\")\n",
    "group_9_15_50D_small_005 = group_9_15_50D.drop(group_9_15_50D[(group_9_15_50D.values > 0.05)].index).dropna()\n",
    "group_9_15_50D_larger_005 = group_9_15_50D.drop(group_9_15_50D[(group_9_15_50D.values <= 0.05)].index)\n",
    "group_9_15_70D_small_005 = group_9_15_70D.drop(group_9_15_70D[(group_9_15_70D.values > 0.05)].index).dropna()\n",
    "group_9_15_70D_larger_005 = group_9_15_70D.drop(group_9_15_70D[(group_9_15_70D.values <= 0.05)].index)\n",
    "\n",
    "# not restored features information\n",
    "not_restored = data_a[data_a[\"RA\"].isin([\"not_restored\"])]\n",
    "not_restored_50D = not_restored.pop(\"X3A1A_pAdj\")\n",
    "not_restored_70D = not_restored.pop(\"X3B1B_pAdj\")\n",
    "not_restored_50D_small_005 = not_restored_50D.drop(not_restored_50D[(not_restored_50D.values > 0.05)].index).dropna()\n",
    "not_restored_50D_larger_005 = not_restored_50D.drop(not_restored_50D[(not_restored_50D.values <= 0.05)].index)\n",
    "not_restored_70D_small_005 = not_restored_70D.drop(not_restored_70D[(not_restored_70D.values > 0.05)].index).dropna()\n",
    "not_restored_70D_larger_005 = not_restored_70D.drop(not_restored_70D[(not_restored_70D.values <= 0.05)].index)"
   ]
  },
  {
   "cell_type": "code",
   "execution_count": 2,
   "metadata": {},
   "outputs": [
    {
     "name": "stdout",
     "output_type": "stream",
     "text": [
      "any groups 50D pvalue < 0.05, ratio is 0.1\n",
      "any groups 70D pvalue < 0.05, ratio is 0.1\n",
      "group15 50D pvalue < 0.05, ratio is 0.0\n",
      "group15 70D pvalue < 0.05, ratio is 0.33\n",
      "group9_group15 50D pvalue < 0.05, ratio is 0.11\n",
      "group9_group15 70D pvalue < 0.05, ratio is 0.07\n"
     ]
    }
   ],
   "source": [
    "# this section show the ratio of features with adjusted p-value smaller or larger than 0.05\n",
    "\n",
    "ratio_any_group_50D_smaller_005 = len(any_group_50D_small_005)/len(any_group_50D)\n",
    "ratio_any_group_70D_smaller_005 = len(any_group_70D_small_005)/len(any_group_70D)\n",
    "\n",
    "#ratio_group_9_50D_smaller_005 = len(group_9_50D_small_005)/len(group_9_50D)\n",
    "#ratio_group_9_70D_smaller_005 = len(group_9_70D_small_005)/len(group_9_70D)\n",
    "\n",
    "ratio_group_15_50D_smaller_005 = len(group_15_50D_small_005)/len(group_15_50D)\n",
    "ratio_group_15_70D_smaller_005 = len(group_15_70D_small_005)/len(group_15_70D)\n",
    "\n",
    "ratio_group_9_15_50D_smaller_005 = len(group_9_15_50D_small_005)/len(group_9_15_50D)\n",
    "ratio_group_9_15_70D_smaller_005 = len(group_9_15_70D_small_005)/len(group_9_15_70D)\n",
    "\n",
    "#ratio_not_restored_50D_smaller_005 = len(not_restored_50D_small_005)/len(not_restored_50D)\n",
    "#ratio_not_restored_70D_smaller_005 = len(not_restored_70D_small_005)/len(not_restored_70D)\n",
    "\n",
    "print(\"any groups 50D pvalue < 0.05, ratio is\", round(ratio_any_group_50D_smaller_005,2))\n",
    "print(\"any groups 70D pvalue < 0.05, ratio is\", round(ratio_any_group_70D_smaller_005,2))\n",
    "\n",
    "#print(\"group9 50D pvalue < 0.05, ratio is\", round(ratio_group_9_50D_smaller_005,2))\n",
    "#print(\"group9 70D pvalue < 0.05, ratio is\", round(ratio_group_9_70D_smaller_005,2))\n",
    "\n",
    "print(\"group15 50D pvalue < 0.05, ratio is\", round(ratio_group_15_50D_smaller_005,2))\n",
    "print(\"group15 70D pvalue < 0.05, ratio is\", round(ratio_group_15_70D_smaller_005,2))\n",
    "\n",
    "print(\"group9_group15 50D pvalue < 0.05, ratio is\", round(ratio_group_9_15_50D_smaller_005,2))\n",
    "print(\"group9_group15 70D pvalue < 0.05, ratio is\", round(ratio_group_9_15_70D_smaller_005,2))\n",
    "\n",
    "#print(\"not restored 50D pvalue < 0.05, ratio is\", round(ratio_not_restored_50D_smaller_005,2))\n",
    "#print(\"not restored 70D pvalue < 0.05, ratio is\", round(ratio_not_restored_70D_smaller_005,2))"
   ]
  },
  {
   "cell_type": "code",
   "execution_count": 3,
   "metadata": {},
   "outputs": [
    {
     "name": "stdout",
     "output_type": "stream",
     "text": [
      "50D total features restored by any groups: 30 , adjusted p-value < 0.05: 3\n",
      "70D total features restored by any groups: 30 , adjusted p-value < 0.05: 3\n",
      "50D total features restored by group15: 3 , adjusted p-value < 0.05: 0\n",
      "70D total features restored by group15: 3 , adjusted p-value < 0.05: 1\n",
      "50D total features restored by group9_group15: 27 , adjusted p-value < 0.05: 3\n",
      "70D total features restored by group9_group15: 27 , adjusted p-value < 0.05: 2\n"
     ]
    }
   ],
   "source": [
    "# check the number of features for different situation\n",
    "print(\"50D total features restored by any groups:\", len(any_group_50D),\",\", \"adjusted p-value < 0.05:\", len(any_group_50D_small_005))\n",
    "print(\"70D total features restored by any groups:\", len(any_group_70D),\",\", \"adjusted p-value < 0.05:\", len(any_group_70D_small_005))\n",
    "\n",
    "#print(\"50D total features restored by group9:\", len(group_9_50D),\",\", \"adjusted p-value < 0.05:\", len(group_9_50D_small_005))\n",
    "#print(\"70D total features restored by group9:\", len(group_9_70D),\",\", \"adjusted p-value < 0.05:\", len(group_9_70D_small_005))\n",
    "\n",
    "print(\"50D total features restored by group15:\", len(group_15_50D),\",\", \"adjusted p-value < 0.05:\", len(group_15_50D_small_005))\n",
    "print(\"70D total features restored by group15:\", len(group_15_70D),\",\", \"adjusted p-value < 0.05:\", len(group_15_70D_small_005))\n",
    "\n",
    "print(\"50D total features restored by group9_group15:\", len(group_9_15_50D),\",\", \"adjusted p-value < 0.05:\", len(group_9_15_50D_small_005))\n",
    "print(\"70D total features restored by group9_group15:\", len(group_9_15_70D),\",\", \"adjusted p-value < 0.05:\", len(group_9_15_70D_small_005))\n",
    "\n",
    "#print(\"50D total features not restored:\", len(not_restored_50D),\",\", \",adjusted p-value < 0.05:\", len(not_restored_50D_small_005))\n",
    "#print(\"70D total features not restored:\", len(not_restored_70D),\",\", \",adjusted p-value < 0.05:\", len(not_restored_70D_small_005))"
   ]
  },
  {
   "cell_type": "code",
   "execution_count": 4,
   "metadata": {},
   "outputs": [],
   "source": [
    "# some groups have NAs for wilcox test adjusted p-value, \n",
    "# included in larger than 0.05 since they all zeros so they are similar, no differences"
   ]
  },
  {
   "cell_type": "code",
   "execution_count": 5,
   "metadata": {},
   "outputs": [
    {
     "name": "stdout",
     "output_type": "stream",
     "text": [
      "13    0.002200\n",
      "22    0.042507\n",
      "25    0.009827\n",
      "Name: X3A1A_pAdj, dtype: float64\n",
      "0     0.931261\n",
      "1     0.325435\n",
      "2     0.056221\n",
      "3     0.056221\n",
      "4     0.553655\n",
      "5     0.449008\n",
      "6     0.415482\n",
      "7     0.056221\n",
      "8     0.654452\n",
      "9     0.813150\n",
      "10    0.535202\n",
      "11    1.000000\n",
      "12    0.285022\n",
      "14    0.654452\n",
      "15    0.743605\n",
      "16    1.000000\n",
      "17    0.930385\n",
      "18    1.000000\n",
      "19    0.553655\n",
      "20    0.680358\n",
      "21    0.535202\n",
      "23    0.056221\n",
      "24    0.449008\n",
      "26    0.736342\n",
      "27    0.265751\n",
      "28    0.115075\n",
      "29    0.553655\n",
      "Name: X3A1A_pAdj, dtype: float64\n",
      "2     0.001347\n",
      "4     0.036254\n",
      "24    0.001347\n",
      "Name: X3B1B_pAdj, dtype: float64\n",
      "0     0.063995\n",
      "1     0.198632\n",
      "3     0.579642\n",
      "5     0.628488\n",
      "6     0.103518\n",
      "7     0.297166\n",
      "8     0.320769\n",
      "9     0.297505\n",
      "10    0.492658\n",
      "11    0.063995\n",
      "12    0.297166\n",
      "13    0.198632\n",
      "14    0.132650\n",
      "15    0.067862\n",
      "16    0.614984\n",
      "17    0.155760\n",
      "18    0.692883\n",
      "19    0.116924\n",
      "20    0.155760\n",
      "21    0.063995\n",
      "22    0.546559\n",
      "23    0.492658\n",
      "25    0.320769\n",
      "26    0.950180\n",
      "27    0.067862\n",
      "28    0.777224\n",
      "29    1.000000\n",
      "Name: X3B1B_pAdj, dtype: float64\n",
      "30\n",
      "30\n"
     ]
    }
   ],
   "source": [
    "print(any_group_50D_small_005)\n",
    "print(any_group_50D_larger_005)\n",
    "print(any_group_70D_small_005)\n",
    "print(any_group_70D_larger_005)\n",
    "print(len(any_group_50D_small_005) + len(any_group_50D_larger_005)) \n",
    "print(len(any_group_70D_small_005) + len(any_group_70D_larger_005))"
   ]
  },
  {
   "cell_type": "code",
   "execution_count": 6,
   "metadata": {},
   "outputs": [
    {
     "name": "stdout",
     "output_type": "stream",
     "text": [
      "Series([], Name: X3A1A_pAdj, dtype: float64)\n",
      "Series([], Name: X3A1A_pAdj, dtype: float64)\n",
      "Series([], Name: X3B1B_pAdj, dtype: float64)\n",
      "Series([], Name: X3B1B_pAdj, dtype: float64)\n",
      "0\n",
      "0\n"
     ]
    }
   ],
   "source": [
    "print(group_9_50D_small_005)\n",
    "print(group_9_50D_larger_005)\n",
    "print(group_9_70D_small_005)\n",
    "print(group_9_70D_larger_005)\n",
    "print(len(group_9_50D_small_005) + len(group_9_50D_larger_005)) \n",
    "print(len(group_9_70D_small_005) + len(group_9_70D_larger_005))"
   ]
  },
  {
   "cell_type": "code",
   "execution_count": 7,
   "metadata": {},
   "outputs": [
    {
     "name": "stdout",
     "output_type": "stream",
     "text": [
      "Series([], Name: X3A1A_pAdj, dtype: float64)\n",
      "2     0.056221\n",
      "16    1.000000\n",
      "28    0.115075\n",
      "Name: X3A1A_pAdj, dtype: float64\n",
      "2    0.001347\n",
      "Name: X3B1B_pAdj, dtype: float64\n",
      "16    0.614984\n",
      "28    0.777224\n",
      "Name: X3B1B_pAdj, dtype: float64\n",
      "3\n",
      "3\n"
     ]
    }
   ],
   "source": [
    "print(group_15_50D_small_005)\n",
    "print(group_15_50D_larger_005)\n",
    "print(group_15_70D_small_005)\n",
    "print(group_15_70D_larger_005)\n",
    "print(len(group_15_50D_small_005) + len(group_15_50D_larger_005))\n",
    "print(len(group_15_70D_small_005) + len(group_15_70D_larger_005))"
   ]
  },
  {
   "cell_type": "code",
   "execution_count": 8,
   "metadata": {},
   "outputs": [
    {
     "name": "stdout",
     "output_type": "stream",
     "text": [
      "13    0.002200\n",
      "22    0.042507\n",
      "25    0.009827\n",
      "Name: X3A1A_pAdj, dtype: float64\n",
      "0     0.931261\n",
      "1     0.325435\n",
      "3     0.056221\n",
      "4     0.553655\n",
      "5     0.449008\n",
      "6     0.415482\n",
      "7     0.056221\n",
      "8     0.654452\n",
      "9     0.813150\n",
      "10    0.535202\n",
      "11    1.000000\n",
      "12    0.285022\n",
      "14    0.654452\n",
      "15    0.743605\n",
      "17    0.930385\n",
      "18    1.000000\n",
      "19    0.553655\n",
      "20    0.680358\n",
      "21    0.535202\n",
      "23    0.056221\n",
      "24    0.449008\n",
      "26    0.736342\n",
      "27    0.265751\n",
      "29    0.553655\n",
      "Name: X3A1A_pAdj, dtype: float64\n",
      "4     0.036254\n",
      "24    0.001347\n",
      "Name: X3B1B_pAdj, dtype: float64\n",
      "0     0.063995\n",
      "1     0.198632\n",
      "3     0.579642\n",
      "5     0.628488\n",
      "6     0.103518\n",
      "7     0.297166\n",
      "8     0.320769\n",
      "9     0.297505\n",
      "10    0.492658\n",
      "11    0.063995\n",
      "12    0.297166\n",
      "13    0.198632\n",
      "14    0.132650\n",
      "15    0.067862\n",
      "17    0.155760\n",
      "18    0.692883\n",
      "19    0.116924\n",
      "20    0.155760\n",
      "21    0.063995\n",
      "22    0.546559\n",
      "23    0.492658\n",
      "25    0.320769\n",
      "26    0.950180\n",
      "27    0.067862\n",
      "29    1.000000\n",
      "Name: X3B1B_pAdj, dtype: float64\n",
      "27\n",
      "27\n"
     ]
    }
   ],
   "source": [
    "print(group_9_15_50D_small_005)\n",
    "print(group_9_15_50D_larger_005)\n",
    "print(group_9_15_70D_small_005)\n",
    "print(group_9_15_70D_larger_005)\n",
    "print(len(group_9_15_50D_small_005) + len(group_9_15_50D_larger_005))\n",
    "print(len(group_9_15_70D_small_005) + len(group_9_15_70D_larger_005))"
   ]
  },
  {
   "cell_type": "code",
   "execution_count": 9,
   "metadata": {},
   "outputs": [
    {
     "name": "stdout",
     "output_type": "stream",
     "text": [
      "Series([], Name: X3A1A_pAdj, dtype: float64)\n",
      "Series([], Name: X3A1A_pAdj, dtype: float64)\n",
      "Series([], Name: X3B1B_pAdj, dtype: float64)\n",
      "Series([], Name: X3B1B_pAdj, dtype: float64)\n",
      "0\n",
      "0\n"
     ]
    }
   ],
   "source": [
    "print(not_restored_50D_small_005)\n",
    "print(not_restored_50D_larger_005)\n",
    "print(not_restored_70D_small_005)\n",
    "print(not_restored_70D_larger_005)\n",
    "print(len(not_restored_50D_small_005) + len(not_restored_50D_larger_005))\n",
    "print(len(not_restored_70D_small_005) + len(not_restored_70D_larger_005))"
   ]
  },
  {
   "cell_type": "code",
   "execution_count": null,
   "metadata": {},
   "outputs": [],
   "source": []
  },
  {
   "cell_type": "code",
   "execution_count": null,
   "metadata": {},
   "outputs": [],
   "source": []
  },
  {
   "cell_type": "code",
   "execution_count": null,
   "metadata": {},
   "outputs": [],
   "source": []
  },
  {
   "cell_type": "code",
   "execution_count": null,
   "metadata": {},
   "outputs": [],
   "source": []
  }
 ],
 "metadata": {
  "kernelspec": {
   "display_name": "Python 3",
   "language": "python",
   "name": "python3"
  },
  "language_info": {
   "codemirror_mode": {
    "name": "ipython",
    "version": 3
   },
   "file_extension": ".py",
   "mimetype": "text/x-python",
   "name": "python",
   "nbconvert_exporter": "python",
   "pygments_lexer": "ipython3",
   "version": "3.8.5"
  }
 },
 "nbformat": 4,
 "nbformat_minor": 4
}
