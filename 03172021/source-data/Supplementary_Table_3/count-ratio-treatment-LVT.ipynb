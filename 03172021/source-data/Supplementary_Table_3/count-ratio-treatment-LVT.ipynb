{
 "cells": [
  {
   "cell_type": "code",
   "execution_count": 1,
   "metadata": {},
   "outputs": [],
   "source": [
    "import pandas\n",
    "\n",
    "data_a = pandas.read_csv('wilcox-restore-LVT-fix.csv')\n",
    "\n",
    "# restored by any groups infomation \n",
    "any_group = data_a[data_a[\"LVT\"].isin([\"group9\",\"group15\",\"group9_group15\"])]\n",
    "any_group_50D = any_group.pop(\"X3A1A_pAdj\")\n",
    "any_group_70D = any_group.pop(\"X3B1B_pAdj\")\n",
    "any_group_50D_small_005 = any_group_50D.drop(any_group_50D[(any_group_50D.values > 0.05)].index).dropna()\n",
    "any_group_50D_larger_005 = any_group_50D.drop(any_group_50D[(any_group_50D.values <= 0.05)].index)\n",
    "any_group_70D_small_005 = any_group_70D.drop(any_group_70D[(any_group_70D.values > 0.05)].index).dropna()\n",
    "any_group_70D_larger_005 = any_group_70D.drop(any_group_70D[(any_group_70D.values <= 0.05)].index)\n",
    "\n",
    "# restored by group 9 infomation \n",
    "group_9 = data_a[data_a[\"LVT\"].isin([\"group9\"])]\n",
    "group_9_50D = group_9.pop(\"X3A1A_pAdj\")\n",
    "group_9_70D = group_9.pop(\"X3B1B_pAdj\")\n",
    "group_9_50D_small_005 = group_9_50D.drop(group_9_50D[(group_9_50D.values > 0.05)].index).dropna()\n",
    "group_9_50D_larger_005 = group_9_50D.drop(group_9_50D[(group_9_50D.values <= 0.05)].index)\n",
    "group_9_70D_small_005 = group_9_70D.drop(group_9_70D[(group_9_70D.values > 0.05)].index).dropna()\n",
    "group_9_70D_larger_005 = group_9_70D.drop(group_9_70D[(group_9_70D.values <= 0.05)].index)\n",
    "\n",
    "# restored by group 15 infomation \n",
    "group_15 = data_a[data_a[\"LVT\"].isin([\"group15\"])]\n",
    "group_15_50D = group_15.pop(\"X3A1A_pAdj\")\n",
    "group_15_70D = group_15.pop(\"X3B1B_pAdj\")\n",
    "group_15_50D_small_005 = group_15_50D.drop(group_15_50D[(group_15_50D.values > 0.05)].index).dropna()\n",
    "group_15_50D_larger_005 = group_15_50D.drop(group_15_50D[(group_15_50D.values <= 0.05)].index)\n",
    "group_15_70D_small_005 = group_15_70D.drop(group_15_70D[(group_15_70D.values > 0.05)].index).dropna()\n",
    "group_15_70D_larger_005 = group_15_70D.drop(group_15_70D[(group_15_70D.values <= 0.05)].index)\n",
    "\n",
    "# restored by group 9 and 15 infomation \n",
    "group_9_15 = data_a[data_a[\"LVT\"].isin([\"group9_group15\"])]\n",
    "group_9_15_50D = group_9_15.pop(\"X3A1A_pAdj\")\n",
    "group_9_15_70D = group_9_15.pop(\"X3B1B_pAdj\")\n",
    "group_9_15_50D_small_005 = group_9_15_50D.drop(group_9_15_50D[(group_9_15_50D.values > 0.05)].index).dropna()\n",
    "group_9_15_50D_larger_005 = group_9_15_50D.drop(group_9_15_50D[(group_9_15_50D.values <= 0.05)].index)\n",
    "group_9_15_70D_small_005 = group_9_15_70D.drop(group_9_15_70D[(group_9_15_70D.values > 0.05)].index).dropna()\n",
    "group_9_15_70D_larger_005 = group_9_15_70D.drop(group_9_15_70D[(group_9_15_70D.values <= 0.05)].index)\n",
    "\n",
    "# not restored features information\n",
    "not_restored = data_a[data_a[\"LVT\"].isin([\"not_restored\"])]\n",
    "not_restored_50D = not_restored.pop(\"X3A1A_pAdj\")\n",
    "not_restored_70D = not_restored.pop(\"X3B1B_pAdj\")\n",
    "not_restored_50D_small_005 = not_restored_50D.drop(not_restored_50D[(not_restored_50D.values > 0.05)].index).dropna()\n",
    "not_restored_50D_larger_005 = not_restored_50D.drop(not_restored_50D[(not_restored_50D.values <= 0.05)].index)\n",
    "not_restored_70D_small_005 = not_restored_70D.drop(not_restored_70D[(not_restored_70D.values > 0.05)].index).dropna()\n",
    "not_restored_70D_larger_005 = not_restored_70D.drop(not_restored_70D[(not_restored_70D.values <= 0.05)].index)"
   ]
  },
  {
   "cell_type": "code",
   "execution_count": 2,
   "metadata": {},
   "outputs": [
    {
     "name": "stdout",
     "output_type": "stream",
     "text": [
      "any groups 50D pvalue < 0.05, ratio is 0.6\n",
      "any groups 70D pvalue < 0.05, ratio is 0.12\n",
      "group9 50D pvalue < 0.05, ratio is 0.71\n",
      "group9 70D pvalue < 0.05, ratio is 0.0\n",
      "group15 50D pvalue < 0.05, ratio is 0.5\n",
      "group15 70D pvalue < 0.05, ratio is 0.5\n",
      "group9_group15 50D pvalue < 0.05, ratio is 0.43\n",
      "group9_group15 70D pvalue < 0.05, ratio is 0.14\n",
      "not restored 50D pvalue < 0.05, ratio is 0.0\n",
      "not restored 70D pvalue < 0.05, ratio is 0.0\n"
     ]
    }
   ],
   "source": [
    "# this section show the ratio of features with adjusted p-value smaller or larger than 0.05\n",
    "\n",
    "ratio_any_group_50D_smaller_005 = len(any_group_50D_small_005)/len(any_group_50D)\n",
    "ratio_any_group_70D_smaller_005 = len(any_group_70D_small_005)/len(any_group_70D)\n",
    "\n",
    "ratio_group_9_50D_smaller_005 = len(group_9_50D_small_005)/len(group_9_50D)\n",
    "ratio_group_9_70D_smaller_005 = len(group_9_70D_small_005)/len(group_9_70D)\n",
    "\n",
    "ratio_group_15_50D_smaller_005 = len(group_15_50D_small_005)/len(group_15_50D)\n",
    "ratio_group_15_70D_smaller_005 = len(group_15_70D_small_005)/len(group_15_70D)\n",
    "\n",
    "ratio_group_9_15_50D_smaller_005 = len(group_9_15_50D_small_005)/len(group_9_15_50D)\n",
    "ratio_group_9_15_70D_smaller_005 = len(group_9_15_70D_small_005)/len(group_9_15_70D)\n",
    "\n",
    "ratio_not_restored_50D_smaller_005 = len(not_restored_50D_small_005)/len(not_restored_50D)\n",
    "ratio_not_restored_70D_smaller_005 = len(not_restored_70D_small_005)/len(not_restored_70D)\n",
    "\n",
    "print(\"any groups 50D pvalue < 0.05, ratio is\", round(ratio_any_group_50D_smaller_005,2))\n",
    "print(\"any groups 70D pvalue < 0.05, ratio is\", round(ratio_any_group_70D_smaller_005,2))\n",
    "\n",
    "print(\"group9 50D pvalue < 0.05, ratio is\", round(ratio_group_9_50D_smaller_005,2))\n",
    "print(\"group9 70D pvalue < 0.05, ratio is\", round(ratio_group_9_70D_smaller_005,2))\n",
    "\n",
    "print(\"group15 50D pvalue < 0.05, ratio is\", round(ratio_group_15_50D_smaller_005,2))\n",
    "print(\"group15 70D pvalue < 0.05, ratio is\", round(ratio_group_15_70D_smaller_005,2))\n",
    "\n",
    "print(\"group9_group15 50D pvalue < 0.05, ratio is\", round(ratio_group_9_15_50D_smaller_005,2))\n",
    "print(\"group9_group15 70D pvalue < 0.05, ratio is\", round(ratio_group_9_15_70D_smaller_005,2))\n",
    "\n",
    "print(\"not restored 50D pvalue < 0.05, ratio is\", round(ratio_not_restored_50D_smaller_005,2))\n",
    "print(\"not restored 70D pvalue < 0.05, ratio is\", round(ratio_not_restored_70D_smaller_005,2))"
   ]
  },
  {
   "cell_type": "code",
   "execution_count": 3,
   "metadata": {},
   "outputs": [
    {
     "name": "stdout",
     "output_type": "stream",
     "text": [
      "50D total features restored by any groups: 25 , adjusted p-value < 0.05: 15\n",
      "70D total features restored by any groups: 25 , adjusted p-value < 0.05: 3\n",
      "50D total features restored by group9: 14 , adjusted p-value < 0.05: 10\n",
      "70D total features restored by group9: 14 , adjusted p-value < 0.05: 0\n",
      "50D total features restored by group15: 4 , adjusted p-value < 0.05: 2\n",
      "70D total features restored by group15: 4 , adjusted p-value < 0.05: 2\n",
      "50D total features restored by group9_group15: 7 , adjusted p-value < 0.05: 3\n",
      "70D total features restored by group9_group15: 7 , adjusted p-value < 0.05: 1\n",
      "50D total features not restored: 2 , ,adjusted p-value < 0.05: 0\n",
      "70D total features not restored: 2 , ,adjusted p-value < 0.05: 0\n"
     ]
    }
   ],
   "source": [
    "# check the number of features for different situation\n",
    "print(\"50D total features restored by any groups:\", len(any_group_50D),\",\", \"adjusted p-value < 0.05:\", len(any_group_50D_small_005))\n",
    "print(\"70D total features restored by any groups:\", len(any_group_70D),\",\", \"adjusted p-value < 0.05:\", len(any_group_70D_small_005))\n",
    "\n",
    "print(\"50D total features restored by group9:\", len(group_9_50D),\",\", \"adjusted p-value < 0.05:\", len(group_9_50D_small_005))\n",
    "print(\"70D total features restored by group9:\", len(group_9_70D),\",\", \"adjusted p-value < 0.05:\", len(group_9_70D_small_005))\n",
    "\n",
    "print(\"50D total features restored by group15:\", len(group_15_50D),\",\", \"adjusted p-value < 0.05:\", len(group_15_50D_small_005))\n",
    "print(\"70D total features restored by group15:\", len(group_15_70D),\",\", \"adjusted p-value < 0.05:\", len(group_15_70D_small_005))\n",
    "\n",
    "print(\"50D total features restored by group9_group15:\", len(group_9_15_50D),\",\", \"adjusted p-value < 0.05:\", len(group_9_15_50D_small_005))\n",
    "print(\"70D total features restored by group9_group15:\", len(group_9_15_70D),\",\", \"adjusted p-value < 0.05:\", len(group_9_15_70D_small_005))\n",
    "\n",
    "print(\"50D total features not restored:\", len(not_restored_50D),\",\", \",adjusted p-value < 0.05:\", len(not_restored_50D_small_005))\n",
    "print(\"70D total features not restored:\", len(not_restored_70D),\",\", \",adjusted p-value < 0.05:\", len(not_restored_70D_small_005))"
   ]
  },
  {
   "cell_type": "code",
   "execution_count": 4,
   "metadata": {},
   "outputs": [],
   "source": [
    "# some groups have NAs for wilcox test adjusted p-value, \n",
    "# included in larger than 0.05 since they all zeros so they are similar, no differences"
   ]
  },
  {
   "cell_type": "code",
   "execution_count": 5,
   "metadata": {},
   "outputs": [
    {
     "name": "stdout",
     "output_type": "stream",
     "text": [
      "3     0.015237\n",
      "4     0.028001\n",
      "5     0.000749\n",
      "6     0.019591\n",
      "7     0.003120\n",
      "8     0.003957\n",
      "13    0.032574\n",
      "14    0.004112\n",
      "20    0.021894\n",
      "21    0.002143\n",
      "22    0.003957\n",
      "23    0.002143\n",
      "24    0.002143\n",
      "25    0.002725\n",
      "26    0.002242\n",
      "Name: X3A1A_pAdj, dtype: float64\n",
      "0     0.652870\n",
      "1     0.068908\n",
      "9     0.417312\n",
      "10    0.510231\n",
      "12    0.417312\n",
      "15    0.392484\n",
      "16    0.498204\n",
      "17    0.197577\n",
      "18    0.652870\n",
      "19    0.119535\n",
      "Name: X3A1A_pAdj, dtype: float64\n",
      "5     0.03556\n",
      "7     0.04169\n",
      "18    0.02269\n",
      "Name: X3B1B_pAdj, dtype: float64\n",
      "0     0.969537\n",
      "1     0.106421\n",
      "3     0.936781\n",
      "4     0.822395\n",
      "6     0.935297\n",
      "8     0.935297\n",
      "9     0.475652\n",
      "10    0.935297\n",
      "12    0.935297\n",
      "13    0.935297\n",
      "14    0.935297\n",
      "15    0.550751\n",
      "16    0.935297\n",
      "17    0.935297\n",
      "19    0.069719\n",
      "20    0.602772\n",
      "21    0.935297\n",
      "22    0.935297\n",
      "23    0.936781\n",
      "24    0.935297\n",
      "25    1.000000\n",
      "26    0.935297\n",
      "Name: X3B1B_pAdj, dtype: float64\n",
      "25\n",
      "25\n"
     ]
    }
   ],
   "source": [
    "print(any_group_50D_small_005)\n",
    "print(any_group_50D_larger_005)\n",
    "print(any_group_70D_small_005)\n",
    "print(any_group_70D_larger_005)\n",
    "print(len(any_group_50D_small_005) + len(any_group_50D_larger_005)) \n",
    "print(len(any_group_70D_small_005) + len(any_group_70D_larger_005))"
   ]
  },
  {
   "cell_type": "code",
   "execution_count": 6,
   "metadata": {},
   "outputs": [
    {
     "name": "stdout",
     "output_type": "stream",
     "text": [
      "3     0.015237\n",
      "4     0.028001\n",
      "8     0.003957\n",
      "13    0.032574\n",
      "20    0.021894\n",
      "22    0.003957\n",
      "23    0.002143\n",
      "24    0.002143\n",
      "25    0.002725\n",
      "26    0.002242\n",
      "Name: X3A1A_pAdj, dtype: float64\n",
      "12    0.417312\n",
      "15    0.392484\n",
      "16    0.498204\n",
      "19    0.119535\n",
      "Name: X3A1A_pAdj, dtype: float64\n",
      "Series([], Name: X3B1B_pAdj, dtype: float64)\n",
      "3     0.936781\n",
      "4     0.822395\n",
      "8     0.935297\n",
      "12    0.935297\n",
      "13    0.935297\n",
      "15    0.550751\n",
      "16    0.935297\n",
      "19    0.069719\n",
      "20    0.602772\n",
      "22    0.935297\n",
      "23    0.936781\n",
      "24    0.935297\n",
      "25    1.000000\n",
      "26    0.935297\n",
      "Name: X3B1B_pAdj, dtype: float64\n",
      "14\n",
      "14\n"
     ]
    }
   ],
   "source": [
    "print(group_9_50D_small_005)\n",
    "print(group_9_50D_larger_005)\n",
    "print(group_9_70D_small_005)\n",
    "print(group_9_70D_larger_005)\n",
    "print(len(group_9_50D_small_005) + len(group_9_50D_larger_005)) \n",
    "print(len(group_9_70D_small_005) + len(group_9_70D_larger_005))"
   ]
  },
  {
   "cell_type": "code",
   "execution_count": 7,
   "metadata": {},
   "outputs": [
    {
     "name": "stdout",
     "output_type": "stream",
     "text": [
      "5    0.000749\n",
      "7    0.003120\n",
      "Name: X3A1A_pAdj, dtype: float64\n",
      "1     0.068908\n",
      "10    0.510231\n",
      "Name: X3A1A_pAdj, dtype: float64\n",
      "5    0.03556\n",
      "7    0.04169\n",
      "Name: X3B1B_pAdj, dtype: float64\n",
      "1     0.106421\n",
      "10    0.935297\n",
      "Name: X3B1B_pAdj, dtype: float64\n",
      "4\n",
      "4\n"
     ]
    }
   ],
   "source": [
    "print(group_15_50D_small_005)\n",
    "print(group_15_50D_larger_005)\n",
    "print(group_15_70D_small_005)\n",
    "print(group_15_70D_larger_005)\n",
    "print(len(group_15_50D_small_005) + len(group_15_50D_larger_005))\n",
    "print(len(group_15_70D_small_005) + len(group_15_70D_larger_005))"
   ]
  },
  {
   "cell_type": "code",
   "execution_count": 8,
   "metadata": {},
   "outputs": [
    {
     "name": "stdout",
     "output_type": "stream",
     "text": [
      "6     0.019591\n",
      "14    0.004112\n",
      "21    0.002143\n",
      "Name: X3A1A_pAdj, dtype: float64\n",
      "0     0.652870\n",
      "9     0.417312\n",
      "17    0.197577\n",
      "18    0.652870\n",
      "Name: X3A1A_pAdj, dtype: float64\n",
      "18    0.02269\n",
      "Name: X3B1B_pAdj, dtype: float64\n",
      "0     0.969537\n",
      "6     0.935297\n",
      "9     0.475652\n",
      "14    0.935297\n",
      "17    0.935297\n",
      "21    0.935297\n",
      "Name: X3B1B_pAdj, dtype: float64\n",
      "7\n",
      "7\n"
     ]
    }
   ],
   "source": [
    "print(group_9_15_50D_small_005)\n",
    "print(group_9_15_50D_larger_005)\n",
    "print(group_9_15_70D_small_005)\n",
    "print(group_9_15_70D_larger_005)\n",
    "print(len(group_9_15_50D_small_005) + len(group_9_15_50D_larger_005))\n",
    "print(len(group_9_15_70D_small_005) + len(group_9_15_70D_larger_005))"
   ]
  },
  {
   "cell_type": "code",
   "execution_count": 9,
   "metadata": {},
   "outputs": [
    {
     "name": "stdout",
     "output_type": "stream",
     "text": [
      "Series([], Name: X3A1A_pAdj, dtype: float64)\n",
      "2     0.652870\n",
      "11    0.321321\n",
      "Name: X3A1A_pAdj, dtype: float64\n",
      "Series([], Name: X3B1B_pAdj, dtype: float64)\n",
      "2     0.585930\n",
      "11    0.935297\n",
      "Name: X3B1B_pAdj, dtype: float64\n",
      "2\n",
      "2\n"
     ]
    }
   ],
   "source": [
    "print(not_restored_50D_small_005)\n",
    "print(not_restored_50D_larger_005)\n",
    "print(not_restored_70D_small_005)\n",
    "print(not_restored_70D_larger_005)\n",
    "print(len(not_restored_50D_small_005) + len(not_restored_50D_larger_005))\n",
    "print(len(not_restored_70D_small_005) + len(not_restored_70D_larger_005))"
   ]
  },
  {
   "cell_type": "code",
   "execution_count": null,
   "metadata": {},
   "outputs": [],
   "source": []
  },
  {
   "cell_type": "code",
   "execution_count": null,
   "metadata": {},
   "outputs": [],
   "source": []
  },
  {
   "cell_type": "code",
   "execution_count": null,
   "metadata": {},
   "outputs": [],
   "source": []
  },
  {
   "cell_type": "code",
   "execution_count": null,
   "metadata": {},
   "outputs": [],
   "source": []
  },
  {
   "cell_type": "code",
   "execution_count": null,
   "metadata": {},
   "outputs": [],
   "source": []
  }
 ],
 "metadata": {
  "kernelspec": {
   "display_name": "Python 3",
   "language": "python",
   "name": "python3"
  },
  "language_info": {
   "codemirror_mode": {
    "name": "ipython",
    "version": 3
   },
   "file_extension": ".py",
   "mimetype": "text/x-python",
   "name": "python",
   "nbconvert_exporter": "python",
   "pygments_lexer": "ipython3",
   "version": "3.8.5"
  }
 },
 "nbformat": 4,
 "nbformat_minor": 4
}
