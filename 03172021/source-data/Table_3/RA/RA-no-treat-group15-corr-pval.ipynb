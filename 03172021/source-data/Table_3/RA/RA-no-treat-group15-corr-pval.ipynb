{
 "cells": [
  {
   "cell_type": "code",
   "execution_count": 1,
   "id": "d4c1e65e",
   "metadata": {
    "scrolled": true
   },
   "outputs": [
    {
     "name": "stdout",
     "output_type": "stream",
     "text": [
      "Empty DataFrame\n",
      "Columns: [Heart.Weight..Body.Weight, Liver.Weight..Body.Weight, Ejection.Fraction, PR.Interval..s., QTc..s., P.Amplitude..V., CD3.CD8.IFNg.]\n",
      "Index: []\n",
      "Empty DataFrame\n",
      "Columns: [X137.046_0.35, X400.342_2.89, X696.445_3.083]\n",
      "Index: []\n",
      "['Heart.Weight..Body.Weight-X137.046_0.35', 'Heart.Weight..Body.Weight-X400.342_2.89', 'Heart.Weight..Body.Weight-X696.445_3.083', 'Liver.Weight..Body.Weight-X137.046_0.35', 'Liver.Weight..Body.Weight-X400.342_2.89', 'Liver.Weight..Body.Weight-X696.445_3.083', 'Ejection.Fraction-X137.046_0.35', 'Ejection.Fraction-X400.342_2.89', 'Ejection.Fraction-X696.445_3.083', 'PR.Interval..s.-X137.046_0.35', 'PR.Interval..s.-X400.342_2.89', 'PR.Interval..s.-X696.445_3.083', 'QTc..s.-X137.046_0.35', 'QTc..s.-X400.342_2.89', 'QTc..s.-X696.445_3.083', 'P.Amplitude..V.-X137.046_0.35', 'P.Amplitude..V.-X400.342_2.89', 'P.Amplitude..V.-X696.445_3.083', 'CD3.CD8.IFNg.-X137.046_0.35', 'CD3.CD8.IFNg.-X400.342_2.89', 'CD3.CD8.IFNg.-X696.445_3.083']\n",
      "[0.13840676800157145, -0.06230529749266882, -0.16757224548416527, -0.5677089445048498, 0.4473128100567417, -0.3978598902600828, -0.5159065628476084, 0.2943270300333704, -0.2930738940178402, -0.27010791133878725, 0.34775837349466593, -0.4218038359849847, -0.08743047830923248, 0.23025583982202447, -0.12419146620066333, 0.2547274749721913, -0.1546162402669633, 0.5205711006385851, 0.24390788050855175, -0.117503066522368, 0.4062843656326142]\n",
      "[0.46576028938258285, 0.7436092957201264, 0.376095662364232, 0.0010674933398199318, 0.01319641567678219, 0.029453781091520866, 0.0035210721128064977, 0.11438288816004179, 0.11600595358564908, 0.14886013457252462, 0.05969073268518499, 0.02025050802653326, 0.6459399628017729, 0.2209128441406057, 0.5132022455947709, 0.1743213906278877, 0.41461089743721413, 0.0031862649511137393, 0.19398059318202268, 0.5363170758135007, 0.025891086307752643]\n"
     ]
    }
   ],
   "source": [
    "import seaborn as sns\n",
    "import numpy as np\n",
    "import pandas as pd\n",
    "import matplotlib.pyplot as plt\n",
    "from scipy.stats import kendalltau, pearsonr, spearmanr\n",
    "\n",
    "def spearsonr_pval(x,y):\n",
    "    return spearmanr(x,y)[1]\n",
    "\n",
    "data_full = pd.read_csv(\"RA-extra-info-M-F-fix-08092022.csv\")\n",
    "data_a = data_full[data_full[\"Treatmentgroup\"].isin([\"Group1C\",\"Group3E\"])]\n",
    "\n",
    "data_restore = pd.read_csv(\"RA-mass-restored-15.csv\")\n",
    "data_restore_list = data_restore.filename.to_list()\n",
    "data_restore_list.insert(0, \"MouseID\")\n",
    "\n",
    "# this is metadata info, which is extra baylor information.\n",
    "# careful for the range, [a,b] mean a <= X < b. Also python is 0 based index.\n",
    "data_M = data_a.iloc[:, np.r_[0, 2:9]]\n",
    "data_M = data_M.set_index('MouseID')\n",
    "# this is metabolites, which is features.\n",
    "data_F = data_a[data_restore_list]\n",
    "data_F = data_F.set_index('MouseID')\n",
    "\n",
    "# get the two part of column names: metadata colum name and features column name.\n",
    "M_column_list = data_M.head(0)\n",
    "print(M_column_list)\n",
    "F_column_list = data_F.head(0)\n",
    "print(F_column_list)\n",
    "\n",
    "df_col_list = []\n",
    "df_corr_list = []\n",
    "df_pval_list = []\n",
    "\n",
    "for m_col in M_column_list:\n",
    "    for f_col in F_column_list:\n",
    "        col_1 = data_M[m_col]\n",
    "        col_2 = data_F[f_col]\n",
    "        corr_col_1_2 = col_1.corr(col_2, method='spearman')\n",
    "        corr_pval_col_1_2 = col_1.corr(col_2, method=spearsonr_pval)\n",
    "        df_col_list.append(m_col + \"-\" + f_col)\n",
    "        df_corr_list.append(corr_col_1_2)\n",
    "        df_pval_list.append(corr_pval_col_1_2)\n",
    "\n",
    "print(df_col_list)\n",
    "print(df_corr_list)\n",
    "print(df_pval_list)\n",
    "\n",
    "import statsmodels.api\n",
    "dr_fdr_pval = statsmodels.stats.multitest.fdrcorrection(df_pval_list, method='indep')\n",
    "df_final = pd.DataFrame(list(zip(df_col_list, df_corr_list, df_pval_list, dr_fdr_pval[0], dr_fdr_pval[1])), columns=['col_name','corr', 'corr_pval', 'FDR_rejected', 'FDR_pval'])\n",
    "\n",
    "df_final.to_csv('RA-no-treat-group15-corr-pval.csv', index=False)"
   ]
  },
  {
   "cell_type": "code",
   "execution_count": null,
   "id": "d27fc6c8",
   "metadata": {},
   "outputs": [],
   "source": []
  }
 ],
 "metadata": {
  "kernelspec": {
   "display_name": "Python 3 (ipykernel)",
   "language": "python",
   "name": "python3"
  },
  "language_info": {
   "codemirror_mode": {
    "name": "ipython",
    "version": 3
   },
   "file_extension": ".py",
   "mimetype": "text/x-python",
   "name": "python",
   "nbconvert_exporter": "python",
   "pygments_lexer": "ipython3",
   "version": "3.8.13"
  }
 },
 "nbformat": 4,
 "nbformat_minor": 5
}
