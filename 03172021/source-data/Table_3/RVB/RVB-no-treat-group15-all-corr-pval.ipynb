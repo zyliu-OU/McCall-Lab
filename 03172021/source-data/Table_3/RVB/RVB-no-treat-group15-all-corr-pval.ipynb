{
 "cells": [
  {
   "cell_type": "code",
   "execution_count": 1,
   "id": "d4c1e65e",
   "metadata": {
    "scrolled": true
   },
   "outputs": [
    {
     "name": "stdout",
     "output_type": "stream",
     "text": [
      "Empty DataFrame\n",
      "Columns: [Heart.Weight..Body.Weight, Liver.Weight..Body.Weight, Ejection.Fraction, PR.Interval..s., QTc..s., P.Amplitude..V., CD3.CD8.IFNg.]\n",
      "Index: []\n",
      "Empty DataFrame\n",
      "Columns: [X277.216_3.018, X295.227_3.017, X327.232_3.01, X522.357_2.957, X544.34_2.89, X568.341_2.887, X590.322_2.887, X604.362_2.948]\n",
      "Index: []\n",
      "['Heart.Weight..Body.Weight-X277.216_3.018', 'Heart.Weight..Body.Weight-X295.227_3.017', 'Heart.Weight..Body.Weight-X327.232_3.01', 'Heart.Weight..Body.Weight-X522.357_2.957', 'Heart.Weight..Body.Weight-X544.34_2.89', 'Heart.Weight..Body.Weight-X568.341_2.887', 'Heart.Weight..Body.Weight-X590.322_2.887', 'Heart.Weight..Body.Weight-X604.362_2.948', 'Liver.Weight..Body.Weight-X277.216_3.018', 'Liver.Weight..Body.Weight-X295.227_3.017', 'Liver.Weight..Body.Weight-X327.232_3.01', 'Liver.Weight..Body.Weight-X522.357_2.957', 'Liver.Weight..Body.Weight-X544.34_2.89', 'Liver.Weight..Body.Weight-X568.341_2.887', 'Liver.Weight..Body.Weight-X590.322_2.887', 'Liver.Weight..Body.Weight-X604.362_2.948', 'Ejection.Fraction-X277.216_3.018', 'Ejection.Fraction-X295.227_3.017', 'Ejection.Fraction-X327.232_3.01', 'Ejection.Fraction-X522.357_2.957', 'Ejection.Fraction-X544.34_2.89', 'Ejection.Fraction-X568.341_2.887', 'Ejection.Fraction-X590.322_2.887', 'Ejection.Fraction-X604.362_2.948', 'PR.Interval..s.-X277.216_3.018', 'PR.Interval..s.-X295.227_3.017', 'PR.Interval..s.-X327.232_3.01', 'PR.Interval..s.-X522.357_2.957', 'PR.Interval..s.-X544.34_2.89', 'PR.Interval..s.-X568.341_2.887', 'PR.Interval..s.-X590.322_2.887', 'PR.Interval..s.-X604.362_2.948', 'QTc..s.-X277.216_3.018', 'QTc..s.-X295.227_3.017', 'QTc..s.-X327.232_3.01', 'QTc..s.-X522.357_2.957', 'QTc..s.-X544.34_2.89', 'QTc..s.-X568.341_2.887', 'QTc..s.-X590.322_2.887', 'QTc..s.-X604.362_2.948', 'P.Amplitude..V.-X277.216_3.018', 'P.Amplitude..V.-X295.227_3.017', 'P.Amplitude..V.-X327.232_3.01', 'P.Amplitude..V.-X522.357_2.957', 'P.Amplitude..V.-X544.34_2.89', 'P.Amplitude..V.-X568.341_2.887', 'P.Amplitude..V.-X590.322_2.887', 'P.Amplitude..V.-X604.362_2.948', 'CD3.CD8.IFNg.-X277.216_3.018', 'CD3.CD8.IFNg.-X295.227_3.017', 'CD3.CD8.IFNg.-X327.232_3.01', 'CD3.CD8.IFNg.-X522.357_2.957', 'CD3.CD8.IFNg.-X544.34_2.89', 'CD3.CD8.IFNg.-X568.341_2.887', 'CD3.CD8.IFNg.-X590.322_2.887', 'CD3.CD8.IFNg.-X604.362_2.948']\n",
      "[-0.2919659815325535, -0.22207388177744103, -0.08142753215550927, -0.03938584877215136, 0.016688918971250577, 0.09924343814903676, 0.182173044353429, -0.0013351135177000462, -0.4751274056587182, -0.4441971984444063, -0.4787348538363842, -0.4813619941058371, -0.552575973816363, -0.5142984597219553, -0.4141472093136435, -0.4900411978830574, -0.2584954543923029, -0.29076751946607343, -0.26073470571242335, -0.32235817575083425, -0.3486095661846496, -0.4411568409343715, -0.3449513419244464, -0.18798665183537264, 0.28649785845273745, 0.027366781791326875, -0.1537405355333983, -0.056736011030799616, -0.1699855389314938, -0.20358215722816336, -0.06255184681672964, -0.08566025194846219, -0.23251334718158936, -0.21245828698553948, -0.3546081828767584, -0.22803114571746386, -0.25428253615127916, -0.21245828698553948, -0.250853287063546, -0.41490545050055616, 0.22084791129106499, 0.4874304783092325, 0.4249010019017269, 0.36462736373748605, 0.36017797552836484, 0.3308120133481646, 0.24254391229062636, 0.2756395995550612, 0.1664205677090961, 0.3689774323751631, 0.4503162902463783, 0.18337599775460456, 0.2465784047476964, 0.23122289037261423, 0.19005616440430834, 0.117503066522368]\n",
      "[0.11745511728642476, 0.2382139688201387, 0.6688277363285837, 0.8362921081542565, 0.9302496281082295, 0.6018288531674225, 0.33529691244462345, 0.9944132773782924, 0.007971314452873988, 0.013928511797791485, 0.00744428001715088, 0.007079310706987552, 0.0015431810363680325, 0.0036432982969913487, 0.022891371042239865, 0.005979476233094031, 0.16781747143255726, 0.11903779361742071, 0.16403489794522702, 0.08233006845145133, 0.05902693520546914, 0.014675273433112677, 0.06192132227799913, 0.3198336813665807, 0.12480474575851297, 0.885854695854018, 0.41729112777626953, 0.7658624406475235, 0.3691600060296141, 0.28057222240589347, 0.7426286786817573, 0.6526576978852692, 0.21629319741854294, 0.2596736276130158, 0.0545116548476998, 0.2255303033226445, 0.1751009789593709, 0.2596736276130158, 0.18119205924832063, 0.022617850340953136, 0.24088207093715697, 0.006293851911512449, 0.019256183852678396, 0.047581500312219464, 0.05056720219364286, 0.07416427730755933, 0.19656379910878563, 0.1403946578031363, 0.3794321242975943, 0.04479953705672598, 0.01252137340931316, 0.33206052043441536, 0.18899132727864545, 0.21892580501287262, 0.31443735832846476, 0.5363170758135007]\n"
     ]
    }
   ],
   "source": [
    "import seaborn as sns\n",
    "import numpy as np\n",
    "import pandas as pd\n",
    "import matplotlib.pyplot as plt\n",
    "from scipy.stats import kendalltau, pearsonr, spearmanr\n",
    "\n",
    "def spearsonr_pval(x,y):\n",
    "    return spearmanr(x,y)[1]\n",
    "\n",
    "data_full = pd.read_csv(\"RVB-extra-info-M-F-fix-08092022.csv\")\n",
    "data_a = data_full[data_full[\"Treatmentgroup\"].isin([\"Group1C\",\"Group3E\"])]\n",
    "\n",
    "data_restore = pd.read_csv(\"RVB-mass-restored-15.csv\")\n",
    "data_restore_list = data_restore.filename.to_list()\n",
    "data_restore_list.insert(0, \"MouseID\")\n",
    "\n",
    "# this is metadata info, which is extra baylor information.\n",
    "# careful for the range, [a,b] mean a <= X < b. Also python is 0 based index.\n",
    "data_M = data_a.iloc[:, np.r_[0, 2:9]]\n",
    "data_M = data_M.set_index('MouseID')\n",
    "# this is metabolites, which is features.\n",
    "data_F = data_a[data_restore_list]\n",
    "data_F = data_F.set_index('MouseID')\n",
    "\n",
    "# get the two part of column names: metadata colum name and features column name.\n",
    "M_column_list = data_M.head(0)\n",
    "print(M_column_list)\n",
    "F_column_list = data_F.head(0)\n",
    "print(F_column_list)\n",
    "\n",
    "df_col_list = []\n",
    "df_corr_list = []\n",
    "df_pval_list = []\n",
    "\n",
    "for m_col in M_column_list:\n",
    "    for f_col in F_column_list:\n",
    "        col_1 = data_M[m_col]\n",
    "        col_2 = data_F[f_col]\n",
    "        corr_col_1_2 = col_1.corr(col_2, method='spearman')\n",
    "        corr_pval_col_1_2 = col_1.corr(col_2, method=spearsonr_pval)\n",
    "        df_col_list.append(m_col + \"-\" + f_col)\n",
    "        df_corr_list.append(corr_col_1_2)\n",
    "        df_pval_list.append(corr_pval_col_1_2)\n",
    "\n",
    "print(df_col_list)\n",
    "print(df_corr_list)\n",
    "print(df_pval_list)\n",
    "\n",
    "import statsmodels.api\n",
    "dr_fdr_pval = statsmodels.stats.multitest.fdrcorrection(df_pval_list, method='indep')\n",
    "df_final = pd.DataFrame(list(zip(df_col_list, df_corr_list, df_pval_list, dr_fdr_pval[0], dr_fdr_pval[1])), columns=['col_name','corr', 'corr_pval', 'FDR_rejected', 'FDR_pval'])\n",
    "\n",
    "df_final.to_csv('RVB-no-treat-group15-corr-pval.csv', index=False)"
   ]
  },
  {
   "cell_type": "code",
   "execution_count": null,
   "id": "d27fc6c8",
   "metadata": {},
   "outputs": [],
   "source": []
  }
 ],
 "metadata": {
  "kernelspec": {
   "display_name": "Python 3 (ipykernel)",
   "language": "python",
   "name": "python3"
  },
  "language_info": {
   "codemirror_mode": {
    "name": "ipython",
    "version": 3
   },
   "file_extension": ".py",
   "mimetype": "text/x-python",
   "name": "python",
   "nbconvert_exporter": "python",
   "pygments_lexer": "ipython3",
   "version": "3.8.13"
  }
 },
 "nbformat": 4,
 "nbformat_minor": 5
}
