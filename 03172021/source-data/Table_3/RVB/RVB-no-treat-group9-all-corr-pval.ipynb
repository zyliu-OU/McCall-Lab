{
 "cells": [
  {
   "cell_type": "code",
   "execution_count": 1,
   "id": "d4c1e65e",
   "metadata": {
    "scrolled": true
   },
   "outputs": [
    {
     "name": "stdout",
     "output_type": "stream",
     "text": [
      "Empty DataFrame\n",
      "Columns: [Heart.Weight..Body.Weight, Liver.Weight..Body.Weight, Ejection.Fraction, PR.Interval..s., QTc..s., P.Amplitude..V., CD3.CD8.IFNg.]\n",
      "Index: []\n",
      "Empty DataFrame\n",
      "Columns: [X142.035_0.315, X214.181_2.634, X236.163_2.635, X242.212_2.78, X242.586_2.766, X281.102_2.768, X300.199_2.264, X308.295_3.045, X324.29_3.082, X409.162_2.768, X506.255_3.172, X795.335_2.768, X801.313_2.768, X801.815_2.767]\n",
      "Index: []\n",
      "['Heart.Weight..Body.Weight-X142.035_0.315', 'Heart.Weight..Body.Weight-X214.181_2.634', 'Heart.Weight..Body.Weight-X236.163_2.635', 'Heart.Weight..Body.Weight-X242.212_2.78', 'Heart.Weight..Body.Weight-X242.586_2.766', 'Heart.Weight..Body.Weight-X281.102_2.768', 'Heart.Weight..Body.Weight-X300.199_2.264', 'Heart.Weight..Body.Weight-X308.295_3.045', 'Heart.Weight..Body.Weight-X324.29_3.082', 'Heart.Weight..Body.Weight-X409.162_2.768', 'Heart.Weight..Body.Weight-X506.255_3.172', 'Heart.Weight..Body.Weight-X795.335_2.768', 'Heart.Weight..Body.Weight-X801.313_2.768', 'Heart.Weight..Body.Weight-X801.815_2.767', 'Liver.Weight..Body.Weight-X142.035_0.315', 'Liver.Weight..Body.Weight-X214.181_2.634', 'Liver.Weight..Body.Weight-X236.163_2.635', 'Liver.Weight..Body.Weight-X242.212_2.78', 'Liver.Weight..Body.Weight-X242.586_2.766', 'Liver.Weight..Body.Weight-X281.102_2.768', 'Liver.Weight..Body.Weight-X300.199_2.264', 'Liver.Weight..Body.Weight-X308.295_3.045', 'Liver.Weight..Body.Weight-X324.29_3.082', 'Liver.Weight..Body.Weight-X409.162_2.768', 'Liver.Weight..Body.Weight-X506.255_3.172', 'Liver.Weight..Body.Weight-X795.335_2.768', 'Liver.Weight..Body.Weight-X801.313_2.768', 'Liver.Weight..Body.Weight-X801.815_2.767', 'Ejection.Fraction-X142.035_0.315', 'Ejection.Fraction-X214.181_2.634', 'Ejection.Fraction-X236.163_2.635', 'Ejection.Fraction-X242.212_2.78', 'Ejection.Fraction-X242.586_2.766', 'Ejection.Fraction-X281.102_2.768', 'Ejection.Fraction-X300.199_2.264', 'Ejection.Fraction-X308.295_3.045', 'Ejection.Fraction-X324.29_3.082', 'Ejection.Fraction-X409.162_2.768', 'Ejection.Fraction-X506.255_3.172', 'Ejection.Fraction-X795.335_2.768', 'Ejection.Fraction-X801.313_2.768', 'Ejection.Fraction-X801.815_2.767', 'PR.Interval..s.-X142.035_0.315', 'PR.Interval..s.-X214.181_2.634', 'PR.Interval..s.-X236.163_2.635', 'PR.Interval..s.-X242.212_2.78', 'PR.Interval..s.-X242.586_2.766', 'PR.Interval..s.-X281.102_2.768', 'PR.Interval..s.-X300.199_2.264', 'PR.Interval..s.-X308.295_3.045', 'PR.Interval..s.-X324.29_3.082', 'PR.Interval..s.-X409.162_2.768', 'PR.Interval..s.-X506.255_3.172', 'PR.Interval..s.-X795.335_2.768', 'PR.Interval..s.-X801.313_2.768', 'PR.Interval..s.-X801.815_2.767', 'QTc..s.-X142.035_0.315', 'QTc..s.-X214.181_2.634', 'QTc..s.-X236.163_2.635', 'QTc..s.-X242.212_2.78', 'QTc..s.-X242.586_2.766', 'QTc..s.-X281.102_2.768', 'QTc..s.-X300.199_2.264', 'QTc..s.-X308.295_3.045', 'QTc..s.-X324.29_3.082', 'QTc..s.-X409.162_2.768', 'QTc..s.-X506.255_3.172', 'QTc..s.-X795.335_2.768', 'QTc..s.-X801.313_2.768', 'QTc..s.-X801.815_2.767', 'P.Amplitude..V.-X142.035_0.315', 'P.Amplitude..V.-X214.181_2.634', 'P.Amplitude..V.-X236.163_2.635', 'P.Amplitude..V.-X242.212_2.78', 'P.Amplitude..V.-X242.586_2.766', 'P.Amplitude..V.-X281.102_2.768', 'P.Amplitude..V.-X300.199_2.264', 'P.Amplitude..V.-X308.295_3.045', 'P.Amplitude..V.-X324.29_3.082', 'P.Amplitude..V.-X409.162_2.768', 'P.Amplitude..V.-X506.255_3.172', 'P.Amplitude..V.-X795.335_2.768', 'P.Amplitude..V.-X801.313_2.768', 'P.Amplitude..V.-X801.815_2.767', 'CD3.CD8.IFNg.-X142.035_0.315', 'CD3.CD8.IFNg.-X214.181_2.634', 'CD3.CD8.IFNg.-X236.163_2.635', 'CD3.CD8.IFNg.-X242.212_2.78', 'CD3.CD8.IFNg.-X242.586_2.766', 'CD3.CD8.IFNg.-X281.102_2.768', 'CD3.CD8.IFNg.-X300.199_2.264', 'CD3.CD8.IFNg.-X308.295_3.045', 'CD3.CD8.IFNg.-X324.29_3.082', 'CD3.CD8.IFNg.-X409.162_2.768', 'CD3.CD8.IFNg.-X506.255_3.172', 'CD3.CD8.IFNg.-X795.335_2.768', 'CD3.CD8.IFNg.-X801.313_2.768', 'CD3.CD8.IFNg.-X801.815_2.767']\n",
      "[0.07654650834813599, -0.22630174125015784, -0.09256787056053653, -0.1439697409919883, 0.032337264066493225, -0.13017356797575452, -0.153831741009294, -0.20115710333347364, -0.26234980622805903, -0.0347129514602012, -0.13045414392714152, -0.017578994649717274, 0.04138173265487862, -0.007132879621549321, -0.3398242094311665, -0.4341827325476136, -0.4806943630460508, -0.4308445772486826, 0.3031119532223906, 0.4533214895948174, -0.5417181941570761, -0.5245354693053434, -0.4237231792776299, 0.4967175084809191, -0.3905154204315216, 0.5539112359359355, 0.44097857290658377, 0.35815960900571786, -0.5982202447163515, -0.5866518353726363, -0.2796440489432703, -0.27875417130144603, 0.43456072343526736, 0.45494994438264746, -0.588549731023089, -0.5101223581757508, -0.1581757508342603, 0.32458286985539486, -0.1858446656412906, 0.307230255839822, 0.42299840686786383, 0.3720567482750705, -0.16308821994343578, -0.27611525368322487, -0.039603960641107196, -0.023361886895035138, 0.08696641210726937, 0.25075091934004384, -0.14441111063988776, -0.2078095462853602, 0.034931583262100156, 0.19112248421747796, -0.06410684831462846, 0.22560907915776793, 0.25278096190726185, 0.12665600959302056, 0.00867630700778643, -0.07541713014460512, -0.31167964404894327, -0.26852057842046717, 0.042140572975508224, 0.22135706340378197, -0.04857941865044136, -0.061179087875417135, -0.06251390433815351, 0.3486095661846496, -0.22368130415508627, 0.3592880978865406, 0.12292871070864846, 0.2028729790660497, 0.1203559510567297, 0.2765294771968854, 0.217797552836485, 0.14705228031145717, -0.25797165572837577, -0.22758620689655173, 0.3848295882954318, 0.4384872080088987, 0.2667408231368187, -0.2943270300333704, 0.1733808317779226, -0.32947719688542826, -0.37306604855293896, -0.19303671341436243, 0.21608991968412744, 0.33515079201266323, 0.3714254129277124, 0.2145321138779597, -0.05152234083471099, -0.2183153565500814, 0.2523837969470958, 0.29687327791825546, 0.4798041882996692, -0.3048848506356896, 0.286318603577501, -0.32157562713034415, -0.1788650953752702, -0.2204059132342879]\n",
      "[0.687655955309364, 0.2291644466188831, 0.6265998790157024, 0.44784350328380806, 0.8652959825393743, 0.4929526870546992, 0.4170115297758539, 0.2864644507888526, 0.16134460423393324, 0.855499281006148, 0.49201297775822095, 0.9265393101225919, 0.8281157346907653, 0.9701591339526414, 0.0661633129979446, 0.016514862979984335, 0.007170590110384769, 0.01746084394601944, 0.10347534962998324, 0.011875097900364236, 0.0019893193188897005, 0.002923622960616618, 0.01962945555225704, 0.0052356791947034105, 0.032875756617392754, 0.001494846788469524, 0.01472007389270521, 0.05196959457238271, 0.0004800578163847543, 0.0006560234567413749, 0.1344886290411886, 0.13578511553789813, 0.01641047975499703, 0.011536728352864654, 0.000623759803255954, 0.003977862072292743, 0.403816016018787, 0.08011732925902561, 0.32547888461292296, 0.09863961356072361, 0.019862100896334514, 0.042909804775475874, 0.38918251588075037, 0.13968343254322865, 0.8353977570619411, 0.9024732237388817, 0.647698411274233, 0.18137614166197424, 0.4464380204631869, 0.27048817717539025, 0.8545987361446857, 0.3116791214811688, 0.7364530193873311, 0.23063098104711965, 0.17775006853482075, 0.5048104327922176, 0.9637059421012134, 0.6920391624734634, 0.09360887246679281, 0.15135592862640543, 0.8250116216818887, 0.23977158905307694, 0.7987813200398811, 0.7480936237982676, 0.7427795641677637, 0.05902693520546914, 0.2347456896335171, 0.05118176365751307, 0.5175283889672806, 0.28228722421483554, 0.5263973902969714, 0.13906619973692344, 0.24760667595245606, 0.43807735519246616, 0.16871114015512798, 0.22646155186100664, 0.035740027328501386, 0.015358188260678725, 0.15418993850617566, 0.11438288816004179, 0.35953048315248115, 0.0754102386411296, 0.04230445908875592, 0.3067655660725648, 0.25142490690240593, 0.0702239159817762, 0.04329196325454692, 0.254941812086638, 0.7868618717180546, 0.2464565005563542, 0.1784554408993112, 0.11113709789565793, 0.007293846666351508, 0.10137223435788352, 0.12505128474962268, 0.08311944344648936, 0.344295082915806, 0.2418488587212549]\n"
     ]
    }
   ],
   "source": [
    "import seaborn as sns\n",
    "import numpy as np\n",
    "import pandas as pd\n",
    "import matplotlib.pyplot as plt\n",
    "from scipy.stats import kendalltau, pearsonr, spearmanr\n",
    "\n",
    "def spearsonr_pval(x,y):\n",
    "    return spearmanr(x,y)[1]\n",
    "\n",
    "data_full = pd.read_csv(\"RVB-extra-info-M-F-fix-08092022.csv\")\n",
    "data_a = data_full[data_full[\"Treatmentgroup\"].isin([\"Group1C\",\"Group3E\"])]\n",
    "\n",
    "data_restore = pd.read_csv(\"RVB-mass-restored-9.csv\")\n",
    "data_restore_list = data_restore.filename.to_list()\n",
    "data_restore_list.insert(0, \"MouseID\")\n",
    "\n",
    "# this is metadata info, which is extra baylor information.\n",
    "# careful for the range, [a,b] mean a <= X < b. Also python is 0 based index.\n",
    "data_M = data_a.iloc[:, np.r_[0, 2:9]]\n",
    "data_M = data_M.set_index('MouseID')\n",
    "# this is metabolites, which is features.\n",
    "data_F = data_a[data_restore_list]\n",
    "data_F = data_F.set_index('MouseID')\n",
    "\n",
    "# get the two part of column names: metadata colum name and features column name.\n",
    "M_column_list = data_M.head(0)\n",
    "print(M_column_list)\n",
    "F_column_list = data_F.head(0)\n",
    "print(F_column_list)\n",
    "\n",
    "df_col_list = []\n",
    "df_corr_list = []\n",
    "df_pval_list = []\n",
    "\n",
    "for m_col in M_column_list:\n",
    "    for f_col in F_column_list:\n",
    "        col_1 = data_M[m_col]\n",
    "        col_2 = data_F[f_col]\n",
    "        corr_col_1_2 = col_1.corr(col_2, method='spearman')\n",
    "        corr_pval_col_1_2 = col_1.corr(col_2, method=spearsonr_pval)\n",
    "        df_col_list.append(m_col + \"-\" + f_col)\n",
    "        df_corr_list.append(corr_col_1_2)\n",
    "        df_pval_list.append(corr_pval_col_1_2)\n",
    "\n",
    "print(df_col_list)\n",
    "print(df_corr_list)\n",
    "print(df_pval_list)\n",
    "\n",
    "import statsmodels.api\n",
    "dr_fdr_pval = statsmodels.stats.multitest.fdrcorrection(df_pval_list, method='indep')\n",
    "df_final = pd.DataFrame(list(zip(df_col_list, df_corr_list, df_pval_list, dr_fdr_pval[0], dr_fdr_pval[1])), columns=['col_name','corr', 'corr_pval', 'FDR_rejected', 'FDR_pval'])\n",
    "\n",
    "df_final.to_csv('RVB-no-treat-group9-corr-pval.csv', index=False)"
   ]
  },
  {
   "cell_type": "code",
   "execution_count": null,
   "id": "d27fc6c8",
   "metadata": {},
   "outputs": [],
   "source": []
  }
 ],
 "metadata": {
  "kernelspec": {
   "display_name": "Python 3 (ipykernel)",
   "language": "python",
   "name": "python3"
  },
  "language_info": {
   "codemirror_mode": {
    "name": "ipython",
    "version": 3
   },
   "file_extension": ".py",
   "mimetype": "text/x-python",
   "name": "python",
   "nbconvert_exporter": "python",
   "pygments_lexer": "ipython3",
   "version": "3.8.13"
  }
 },
 "nbformat": 4,
 "nbformat_minor": 5
}
