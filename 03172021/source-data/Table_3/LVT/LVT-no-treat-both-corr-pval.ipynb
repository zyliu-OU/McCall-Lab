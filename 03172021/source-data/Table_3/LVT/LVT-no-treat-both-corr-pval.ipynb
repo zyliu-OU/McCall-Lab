{
 "cells": [
  {
   "cell_type": "code",
   "execution_count": 1,
   "id": "d4c1e65e",
   "metadata": {
    "scrolled": true
   },
   "outputs": [
    {
     "name": "stdout",
     "output_type": "stream",
     "text": [
      "Empty DataFrame\n",
      "Columns: [Heart.Weight..Body.Weight, Liver.Weight..Body.Weight, Ejection.Fraction, PR.Interval..s., QTc..s., P.Amplitude..V., CD3.CD8.IFNg.]\n",
      "Index: []\n",
      "Empty DataFrame\n",
      "Columns: [X141.091_1.54, X296.258_2.976, X366.373_3.699, X608.227_2.768, X708.445_3.006, X709.936_2.18, X776.042_2.398]\n",
      "Index: []\n",
      "['Heart.Weight..Body.Weight-X141.091_1.54', 'Heart.Weight..Body.Weight-X296.258_2.976', 'Heart.Weight..Body.Weight-X366.373_3.699', 'Heart.Weight..Body.Weight-X608.227_2.768', 'Heart.Weight..Body.Weight-X708.445_3.006', 'Heart.Weight..Body.Weight-X709.936_2.18', 'Heart.Weight..Body.Weight-X776.042_2.398', 'Liver.Weight..Body.Weight-X141.091_1.54', 'Liver.Weight..Body.Weight-X296.258_2.976', 'Liver.Weight..Body.Weight-X366.373_3.699', 'Liver.Weight..Body.Weight-X608.227_2.768', 'Liver.Weight..Body.Weight-X708.445_3.006', 'Liver.Weight..Body.Weight-X709.936_2.18', 'Liver.Weight..Body.Weight-X776.042_2.398', 'Ejection.Fraction-X141.091_1.54', 'Ejection.Fraction-X296.258_2.976', 'Ejection.Fraction-X366.373_3.699', 'Ejection.Fraction-X608.227_2.768', 'Ejection.Fraction-X708.445_3.006', 'Ejection.Fraction-X709.936_2.18', 'Ejection.Fraction-X776.042_2.398', 'PR.Interval..s.-X141.091_1.54', 'PR.Interval..s.-X296.258_2.976', 'PR.Interval..s.-X366.373_3.699', 'PR.Interval..s.-X608.227_2.768', 'PR.Interval..s.-X708.445_3.006', 'PR.Interval..s.-X709.936_2.18', 'PR.Interval..s.-X776.042_2.398', 'QTc..s.-X141.091_1.54', 'QTc..s.-X296.258_2.976', 'QTc..s.-X366.373_3.699', 'QTc..s.-X608.227_2.768', 'QTc..s.-X708.445_3.006', 'QTc..s.-X709.936_2.18', 'QTc..s.-X776.042_2.398', 'P.Amplitude..V.-X141.091_1.54', 'P.Amplitude..V.-X296.258_2.976', 'P.Amplitude..V.-X366.373_3.699', 'P.Amplitude..V.-X608.227_2.768', 'P.Amplitude..V.-X708.445_3.006', 'P.Amplitude..V.-X709.936_2.18', 'P.Amplitude..V.-X776.042_2.398', 'CD3.CD8.IFNg.-X141.091_1.54', 'CD3.CD8.IFNg.-X296.258_2.976', 'CD3.CD8.IFNg.-X366.373_3.699', 'CD3.CD8.IFNg.-X608.227_2.768', 'CD3.CD8.IFNg.-X708.445_3.006', 'CD3.CD8.IFNg.-X709.936_2.18', 'CD3.CD8.IFNg.-X776.042_2.398']\n",
      "[-0.07479964566470913, 0.15945254354860233, 0.2092609134667458, 0.0727793666714069, 0.10191366518443686, -0.25351451257504193, -0.20025557218382484, -0.4806857427090394, -0.5585355135001535, 0.572637207155002, 0.18533845819569073, 0.37787917983897884, 0.2926615083139244, -0.3774164966894066, -0.26596931190579903, -0.2921348332683918, 0.16225240868562973, 0.30812059968772165, -0.03937708565072302, 0.32981368745028183, -0.2492812431875882, -0.009126322155901966, -0.05985758789497109, 0.13734001878515886, 0.10107120670566726, 0.20691956964173983, 0.23253921505141206, -0.11971322927582369, -0.02826619465442384, -0.10256980817724952, 0.2984643073352942, -0.08848361244676554, 0.21735261401557288, 0.17020931458447022, -0.19830210606724358, 0.3104830042749705, 0.0780954504776889, -0.39416874592901274, -0.4096297185352801, -0.005116796440489433, -0.16464172018217446, 0.16596291776182676, 0.08616275239851702, -0.02136657074955758, -0.09172882167490701, -0.2926101112725905, -0.2899744236337982, -0.2027546199419984, 0.10480047363429057]\n",
      "[0.6944398096955618, 0.3999830311870717, 0.26708094753211237, 0.702314382917228, 0.5920388325915406, 0.1764524314707081, 0.28867491888868635, 0.00717177518833848, 0.0013374844309748091, 0.0009431422080825261, 0.3268218861794925, 0.03951093821522607, 0.11654379949056874, 0.039772873335696485, 0.15543022828672007, 0.11723339408825242, 0.3916504883598476, 0.09761696391245661, 0.8363280448538088, 0.07509463596137009, 0.1840334548184876, 0.9618247984859682, 0.753365838033925, 0.46923844647127666, 0.595120124621072, 0.272591353810551, 0.21624064665245407, 0.5286244231916054, 0.8821287992281291, 0.5896437966717196, 0.10914414070103146, 0.641956350387187, 0.2485978321605674, 0.3685207219959751, 0.2935018081567392, 0.09494231878625847, 0.6816605104501278, 0.031135464885121086, 0.02457779136177078, 0.9785912583949172, 0.3846192013462262, 0.38076271858225064, 0.6507480493930349, 0.9107684382154652, 0.6297424424313002, 0.11661096258285972, 0.12009379812710053, 0.2825741042197772, 0.5815332475790949]\n"
     ]
    }
   ],
   "source": [
    "import seaborn as sns\n",
    "import numpy as np\n",
    "import pandas as pd\n",
    "import matplotlib.pyplot as plt\n",
    "from scipy.stats import kendalltau, pearsonr, spearmanr\n",
    "\n",
    "def spearsonr_pval(x,y):\n",
    "    return spearmanr(x,y)[1]\n",
    "\n",
    "data_full = pd.read_csv(\"LVT-extra-info-M-F-fix-08092022.csv\")\n",
    "data_a = data_full[data_full[\"Treatmentgroup\"].isin([\"Group1C\",\"Group3E\"])]\n",
    "\n",
    "data_restore = pd.read_csv(\"LVT-mass-restored-both.csv\")\n",
    "data_restore_list = data_restore.filename.to_list()\n",
    "data_restore_list.insert(0, \"MouseID\")\n",
    "\n",
    "# this is metadata info, which is extra baylor information.\n",
    "# careful for the range, [a,b] mean a <= X < b. Also python is 0 based index.\n",
    "data_M = data_a.iloc[:, np.r_[0, 2:9]]\n",
    "data_M = data_M.set_index('MouseID')\n",
    "# this is metabolites, which is features.\n",
    "data_F = data_a[data_restore_list]\n",
    "data_F = data_F.set_index('MouseID')\n",
    "\n",
    "# get the two part of column names: metadata colum name and features column name.\n",
    "M_column_list = data_M.head(0)\n",
    "print(M_column_list)\n",
    "F_column_list = data_F.head(0)\n",
    "print(F_column_list)\n",
    "\n",
    "df_col_list = []\n",
    "df_corr_list = []\n",
    "df_pval_list = []\n",
    "\n",
    "for m_col in M_column_list:\n",
    "    for f_col in F_column_list:\n",
    "        col_1 = data_M[m_col]\n",
    "        col_2 = data_F[f_col]\n",
    "        corr_col_1_2 = col_1.corr(col_2, method='spearman')\n",
    "        corr_pval_col_1_2 = col_1.corr(col_2, method=spearsonr_pval)\n",
    "        df_col_list.append(m_col + \"-\" + f_col)\n",
    "        df_corr_list.append(corr_col_1_2)\n",
    "        df_pval_list.append(corr_pval_col_1_2)\n",
    "\n",
    "print(df_col_list)\n",
    "print(df_corr_list)\n",
    "print(df_pval_list)\n",
    "\n",
    "import statsmodels.api\n",
    "dr_fdr_pval = statsmodels.stats.multitest.fdrcorrection(df_pval_list, method='indep')\n",
    "df_final = pd.DataFrame(list(zip(df_col_list, df_corr_list, df_pval_list, dr_fdr_pval[0], dr_fdr_pval[1])), columns=['col_name','corr', 'corr_pval', 'FDR_rejected', 'FDR_pval'])\n",
    "\n",
    "df_final.to_csv('LVT-no-treat-both-corr-pval.csv', index=False)"
   ]
  },
  {
   "cell_type": "code",
   "execution_count": null,
   "id": "d27fc6c8",
   "metadata": {},
   "outputs": [],
   "source": []
  }
 ],
 "metadata": {
  "kernelspec": {
   "display_name": "Python 3",
   "language": "python",
   "name": "python3"
  },
  "language_info": {
   "codemirror_mode": {
    "name": "ipython",
    "version": 3
   },
   "file_extension": ".py",
   "mimetype": "text/x-python",
   "name": "python",
   "nbconvert_exporter": "python",
   "pygments_lexer": "ipython3",
   "version": "3.8.13"
  }
 },
 "nbformat": 4,
 "nbformat_minor": 5
}
