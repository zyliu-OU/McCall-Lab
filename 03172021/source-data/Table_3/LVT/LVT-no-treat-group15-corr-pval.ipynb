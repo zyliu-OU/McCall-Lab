{
 "cells": [
  {
   "cell_type": "code",
   "execution_count": 1,
   "id": "d4c1e65e",
   "metadata": {
    "scrolled": true
   },
   "outputs": [
    {
     "name": "stdout",
     "output_type": "stream",
     "text": [
      "Empty DataFrame\n",
      "Columns: [Heart.Weight..Body.Weight, Liver.Weight..Body.Weight, Ejection.Fraction, PR.Interval..s., QTc..s., P.Amplitude..V., CD3.CD8.IFNg.]\n",
      "Index: []\n",
      "Empty DataFrame\n",
      "Columns: [X203.007_0.309, X293.211_2.933, X311.221_2.932, X440.337_2.765]\n",
      "Index: []\n",
      "['Heart.Weight..Body.Weight-X203.007_0.309', 'Heart.Weight..Body.Weight-X293.211_2.933', 'Heart.Weight..Body.Weight-X311.221_2.932', 'Heart.Weight..Body.Weight-X440.337_2.765', 'Liver.Weight..Body.Weight-X203.007_0.309', 'Liver.Weight..Body.Weight-X293.211_2.933', 'Liver.Weight..Body.Weight-X311.221_2.932', 'Liver.Weight..Body.Weight-X440.337_2.765', 'Ejection.Fraction-X203.007_0.309', 'Ejection.Fraction-X293.211_2.933', 'Ejection.Fraction-X311.221_2.932', 'Ejection.Fraction-X440.337_2.765', 'PR.Interval..s.-X203.007_0.309', 'PR.Interval..s.-X293.211_2.933', 'PR.Interval..s.-X311.221_2.932', 'PR.Interval..s.-X440.337_2.765', 'QTc..s.-X203.007_0.309', 'QTc..s.-X293.211_2.933', 'QTc..s.-X311.221_2.932', 'QTc..s.-X440.337_2.765', 'P.Amplitude..V.-X203.007_0.309', 'P.Amplitude..V.-X293.211_2.933', 'P.Amplitude..V.-X311.221_2.932', 'P.Amplitude..V.-X440.337_2.765', 'CD3.CD8.IFNg.-X203.007_0.309', 'CD3.CD8.IFNg.-X293.211_2.933', 'CD3.CD8.IFNg.-X311.221_2.932', 'CD3.CD8.IFNg.-X440.337_2.765']\n",
      "[0.2102966676300572, -0.3322207469876948, -0.2840605591314549, -0.2328283012787512, -0.5248716201456087, -0.2919773168131568, -0.44617611319542144, 0.647040306326825, -0.28381412870808526, -0.1804226918798665, -0.3055864981143616, 0.6722424736569169, -0.11743738855478947, 0.15797085424261856, 0.1727323412921933, 0.4421907569454235, -0.1761364870723113, 0.13147942157953282, -0.07545070856574551, 0.20133829310520598, 0.2225492636394553, 0.48565072302558404, 0.4386824382981841, -0.1607584820917536, 0.2586054775949616, 0.20763325959350248, -0.02382277650294915, -0.2549352189353882]\n",
      "[0.26466654631642006, 0.0728666263225234, 0.1281876931283228, 0.21565395686256475, 0.0029022370928519134, 0.11744022292944241, 0.013459696664924836, 0.00011149988376561119, 0.1285334491510406, 0.3400401726309277, 0.10054884469790794, 4.728650286913164e-05, 0.5365464852191419, 0.4044330531513348, 0.36135806838011897, 0.014417673509790802, 0.35182585888927076, 0.4885868432099095, 0.6919087003425, 0.2860214985160754, 0.23718471334656668, 0.00651612794052723, 0.015307367089006086, 0.3960840280610133, 0.16763018532412957, 0.27090393719790146, 0.9005585457007598, 0.17395823743089048]\n"
     ]
    }
   ],
   "source": [
    "import seaborn as sns\n",
    "import numpy as np\n",
    "import pandas as pd\n",
    "import matplotlib.pyplot as plt\n",
    "from scipy.stats import kendalltau, pearsonr, spearmanr\n",
    "\n",
    "def spearsonr_pval(x,y):\n",
    "    return spearmanr(x,y)[1]\n",
    "\n",
    "data_full = pd.read_csv(\"LVT-extra-info-M-F-fix-08092022.csv\")\n",
    "data_a = data_full[data_full[\"Treatmentgroup\"].isin([\"Group1C\",\"Group3E\"])]\n",
    "\n",
    "data_restore = pd.read_csv(\"LVT-mass-restored-15.csv\")\n",
    "data_restore_list = data_restore.filename.to_list()\n",
    "data_restore_list.insert(0, \"MouseID\")\n",
    "\n",
    "# this is metadata info, which is extra baylor information.\n",
    "# careful for the range, [a,b] mean a <= X < b. Also python is 0 based index.\n",
    "data_M = data_a.iloc[:, np.r_[0, 2:9]]\n",
    "data_M = data_M.set_index('MouseID')\n",
    "# this is metabolites, which is features.\n",
    "data_F = data_a[data_restore_list]\n",
    "data_F = data_F.set_index('MouseID')\n",
    "\n",
    "# get the two part of column names: metadata colum name and features column name.\n",
    "M_column_list = data_M.head(0)\n",
    "print(M_column_list)\n",
    "F_column_list = data_F.head(0)\n",
    "print(F_column_list)\n",
    "\n",
    "df_col_list = []\n",
    "df_corr_list = []\n",
    "df_pval_list = []\n",
    "\n",
    "for m_col in M_column_list:\n",
    "    for f_col in F_column_list:\n",
    "        col_1 = data_M[m_col]\n",
    "        col_2 = data_F[f_col]\n",
    "        corr_col_1_2 = col_1.corr(col_2, method='spearman')\n",
    "        corr_pval_col_1_2 = col_1.corr(col_2, method=spearsonr_pval)\n",
    "        df_col_list.append(m_col + \"-\" + f_col)\n",
    "        df_corr_list.append(corr_col_1_2)\n",
    "        df_pval_list.append(corr_pval_col_1_2)\n",
    "\n",
    "print(df_col_list)\n",
    "print(df_corr_list)\n",
    "print(df_pval_list)\n",
    "\n",
    "import statsmodels.api\n",
    "dr_fdr_pval = statsmodels.stats.multitest.fdrcorrection(df_pval_list, method='indep')\n",
    "df_final = pd.DataFrame(list(zip(df_col_list, df_corr_list, df_pval_list, dr_fdr_pval[0], dr_fdr_pval[1])), columns=['col_name','corr', 'corr_pval', 'FDR_rejected', 'FDR_pval'])\n",
    "\n",
    "df_final.to_csv('LVT-no-treat-group15-corr-pval.csv', index=False)"
   ]
  },
  {
   "cell_type": "code",
   "execution_count": null,
   "id": "d27fc6c8",
   "metadata": {},
   "outputs": [],
   "source": []
  }
 ],
 "metadata": {
  "kernelspec": {
   "display_name": "Python 3",
   "language": "python",
   "name": "python3"
  },
  "language_info": {
   "codemirror_mode": {
    "name": "ipython",
    "version": 3
   },
   "file_extension": ".py",
   "mimetype": "text/x-python",
   "name": "python",
   "nbconvert_exporter": "python",
   "pygments_lexer": "ipython3",
   "version": "3.8.13"
  }
 },
 "nbformat": 4,
 "nbformat_minor": 5
}
