{
 "cells": [
  {
   "cell_type": "code",
   "execution_count": 6,
   "id": "ba458d7e",
   "metadata": {},
   "outputs": [
    {
     "name": "stdout",
     "output_type": "stream",
     "text": [
      "[0.46044 0.26706 0.7716  0.458   0.46044 0.26706]\n",
      "[0.069735 0.00969  0.6783   0.48816  0.069735 0.00969 ]\n",
      "[0.002808  0.0011334 0.43368   0.8035    0.0071925 0.002808 ]\n",
      "[2.8540e-04 2.2371e-05 2.2371e-05 5.0690e-01 5.1570e-02 9.7788e-02]\n",
      "[3.2910e-05 1.4424e-05 3.1420e-03 1.0000e+00 1.6716e-01 1.6716e-01]\n",
      "[0.0362   0.024774 0.009138 0.7698   0.6138   0.7698  ]\n"
     ]
    }
   ],
   "source": [
    "import seaborn as sns\n",
    "import numpy as np\n",
    "import pandas as pd\n",
    "import matplotlib.pyplot as plt\n",
    "from scipy.stats import kendalltau, pearsonr, spearmanr\n",
    "import statsmodels.api\n",
    "\n",
    "# treatment data order is naive_VS_infected, naive_VS_combo, naive_VS_BNZ, infected_VS_combo, infected_VS_BNZ, combo_VS_BNZ\n",
    "\n",
    "# CAR treatment data\n",
    "\n",
    "CAR_LA_list = [3.837e-01, 5.639e-02, 7.716e-01, 2.290e-01, 3.837e-01, 8.902e-02]\n",
    "CAR_LA_list_corrected = statsmodels.stats.multitest.fdrcorrection(CAR_LA_list, method='indep')\n",
    "\n",
    "CAR_RA_list = [3.809e-02, 3.230e-03, 6.783e-01, 4.068e-01, 4.649e-02, 1.865e-03]\n",
    "CAR_RA_list_corrected = statsmodels.stats.multitest.fdrcorrection(CAR_RA_list, method='indep')\n",
    "\n",
    "CAR_LVT_list = [1.402e-03, 1.889e-04, 3.614e-01, 8.035e-01, 4.795e-03, 1.404e-03]\n",
    "CAR_LVT_list_corrected = statsmodels.stats.multitest.fdrcorrection(CAR_LVT_list, method='indep')\n",
    "\n",
    "CAR_LVB_list = [1.427e-04, 4.108e-06, 7.457e-06, 5.069e-01, 3.438e-02, 8.149e-02]\n",
    "CAR_LVB_list_corrected = statsmodels.stats.multitest.fdrcorrection(CAR_LVB_list, method='indep')\n",
    "\n",
    "CAR_RVT_list = [1.097e-05, 2.404e-06, 1.571e-03, 1, 1.393e-01, 1.240e-01]\n",
    "CAR_RVT_list_corrected = statsmodels.stats.multitest.fdrcorrection(CAR_RVT_list, method='indep')\n",
    "\n",
    "CAR_RVB_list = [1.810e-02, 8.258e-03, 1.523e-03, 7.368e-01, 4.092e-01, 7.698e-01]\n",
    "CAR_RVB_list_corrected = statsmodels.stats.multitest.fdrcorrection(CAR_RVB_list, method='indep')\n",
    "\n",
    "print(CAR_LA_list_corrected[1])\n",
    "print(CAR_RA_list_corrected[1])\n",
    "print(CAR_LVT_list_corrected[1])\n",
    "print(CAR_LVB_list_corrected[1])\n",
    "print(CAR_RVT_list_corrected[1])\n",
    "print(CAR_RVB_list_corrected[1])"
   ]
  },
  {
   "cell_type": "code",
   "execution_count": null,
   "id": "0d4500bc",
   "metadata": {},
   "outputs": [],
   "source": []
  },
  {
   "cell_type": "code",
   "execution_count": null,
   "id": "3c9e142f",
   "metadata": {},
   "outputs": [],
   "source": []
  },
  {
   "cell_type": "code",
   "execution_count": null,
   "id": "5cd6bf20",
   "metadata": {},
   "outputs": [],
   "source": []
  }
 ],
 "metadata": {
  "kernelspec": {
   "display_name": "Python 3",
   "language": "python",
   "name": "python3"
  },
  "language_info": {
   "codemirror_mode": {
    "name": "ipython",
    "version": 3
   },
   "file_extension": ".py",
   "mimetype": "text/x-python",
   "name": "python",
   "nbconvert_exporter": "python",
   "pygments_lexer": "ipython3",
   "version": "3.8.13"
  }
 },
 "nbformat": 4,
 "nbformat_minor": 5
}
