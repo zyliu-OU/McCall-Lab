{
 "cells": [
  {
   "cell_type": "code",
   "execution_count": 2,
   "id": "d4c1e65e",
   "metadata": {
    "scrolled": false
   },
   "outputs": [
    {
     "name": "stdout",
     "output_type": "stream",
     "text": [
      "[0.389233299, 0.111059279, 0.774840302, 0.232811909, 0.389233299, 0.164394222]\n",
      "[0.46707996 0.46562382 0.7748403  0.46562382 0.46707996 0.46562382]\n",
      "[0.073435083, 0.004612915, 0.682673808, 0.824751556, 0.090667798, 0.002373349]\n",
      "[0.1360017  0.01383875 0.81920857 0.82475156 0.1360017  0.01383875]\n",
      "[0.001402352, 0.000188881, 0.361442952, 0.806333778, 0.003674311, 0.00083409]\n",
      "[0.0028047  0.00113329 0.43373154 0.80633378 0.00551147 0.00250227]\n",
      "[0.000142674, 4.11e-06, 1.81e-05, 0.506867669, 0.061995828, 0.134992308]\n",
      "[2.85348000e-04 2.46600000e-05 5.43000000e-05 5.06867669e-01\n",
      " 9.29937420e-02 1.61990770e-01]\n",
      "[1.1e-05, 2.4e-06, 0.001571441, 1.0, 0.139344153, 0.124020705]\n",
      "[3.30000000e-05 1.44000000e-05 3.14288200e-03 1.00000000e+00\n",
      " 1.67212984e-01 1.67212984e-01]\n",
      "[0.018096613, 0.008257612, 0.001522953, 0.736814931, 0.409223801, 0.769789217]\n",
      "[0.03619323 0.02477284 0.00913772 0.76978922 0.6138357  0.76978922]\n",
      "[0.4670799588, 0.465623818, 0.774840302, 0.465623818, 0.4670799588, 0.465623818, 0.136001697, 0.013838745000000001, 0.8192085696, 0.824751556, 0.136001697, 0.013838745000000001, 0.002804704, 0.001133286, 0.43373154239999995, 0.806333778, 0.0055114665, 0.00250227, 0.000285348, 2.4659999999999998e-05, 5.43e-05, 0.506867669, 0.092993742, 0.1619907696, 3.3e-05, 1.44e-05, 0.003142882, 1.0, 0.1672129836, 0.1672129836, 0.036193226, 0.024772836, 0.009137718000000001, 0.769789217, 0.6138357015, 0.769789217]\n"
     ]
    }
   ],
   "source": [
    "import seaborn as sns\n",
    "import numpy as np\n",
    "import pandas as pd\n",
    "import matplotlib.pyplot as plt\n",
    "from scipy.stats import kendalltau, pearsonr, spearmanr\n",
    "import statsmodels.api\n",
    "\n",
    "# all pvalues order is: 50DPI, 75DPI, 142DPI\n",
    "\n",
    "data_a = pd.read_csv('CAR-mass-range-treatment-6HS-wilcox-FDR-pvalue.csv')\n",
    "data_a_filename = data_a.filename.to_list()\n",
    "\n",
    "data_LA = data_a[data_a[\"organ\"].isin([\"LA\"])]\n",
    "data_RA = data_a[data_a[\"organ\"].isin([\"RA\"])]\n",
    "data_LVT = data_a[data_a[\"organ\"].isin([\"LVT\"])]\n",
    "data_LVB = data_a[data_a[\"organ\"].isin([\"LVB\"])]\n",
    "data_RVT = data_a[data_a[\"organ\"].isin([\"RVT\"])]\n",
    "data_RVB = data_a[data_a[\"organ\"].isin([\"RVB\"])]\n",
    "\n",
    "organ_list = ['LA', 'RA', 'LVT', 'LVB', 'RVT', 'RVB']\n",
    "mass_list = ['CAR_long_chain']\n",
    "\n",
    "pval_list = []\n",
    "df_final = pd.DataFrame(data_a_filename, columns = ['filename'])\n",
    "\n",
    "for mass in mass_list:\n",
    "    for organ in organ_list:\n",
    "        data_organ = data_a[data_a[\"organ\"].isin([organ])]\n",
    "        organ_pval_list = data_organ[mass].tolist()\n",
    "        organ_pval_list_corrected = statsmodels.stats.multitest.fdrcorrection(organ_pval_list, method='indep')\n",
    "        pval_list.extend(organ_pval_list_corrected[1])\n",
    "        print(organ_pval_list)\n",
    "        print(organ_pval_list_corrected[1])\n",
    "    df_final[mass] = pval_list\n",
    "    print(pval_list)\n",
    "    pval_list = []\n",
    "    \n",
    "df_final.to_csv('CAR-mass-range-treatment-6HS-comparison-FDR-pvalue.csv', index=False)"
   ]
  },
  {
   "cell_type": "code",
   "execution_count": null,
   "id": "a6952be5",
   "metadata": {},
   "outputs": [],
   "source": []
  },
  {
   "cell_type": "code",
   "execution_count": null,
   "id": "64958197",
   "metadata": {},
   "outputs": [],
   "source": []
  }
 ],
 "metadata": {
  "kernelspec": {
   "display_name": "Python 3",
   "language": "python",
   "name": "python3"
  },
  "language_info": {
   "codemirror_mode": {
    "name": "ipython",
    "version": 3
   },
   "file_extension": ".py",
   "mimetype": "text/x-python",
   "name": "python",
   "nbconvert_exporter": "python",
   "pygments_lexer": "ipython3",
   "version": "3.8.13"
  }
 },
 "nbformat": 4,
 "nbformat_minor": 5
}
