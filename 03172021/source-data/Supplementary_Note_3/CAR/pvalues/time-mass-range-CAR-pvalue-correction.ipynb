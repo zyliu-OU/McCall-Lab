{
 "cells": [
  {
   "cell_type": "code",
   "execution_count": 1,
   "id": "d4c1e65e",
   "metadata": {
    "scrolled": false
   },
   "outputs": [
    {
     "name": "stdout",
     "output_type": "stream",
     "text": [
      "[0.211930179, 0.100444747, 0.389233299]\n",
      "[0.31789527 0.30133424 0.3892333 ]\n",
      "[0.774840302, 0.345310897, 0.073435083]\n",
      "[0.7748403  0.51796635 0.22030525]\n",
      "[0.589572968, 0.389233299, 0.001402352]\n",
      "[0.58957297 0.58384995 0.00420706]\n",
      "[0.83563292, 0.512486352, 0.000142674]\n",
      "[8.35632920e-01 7.68729528e-01 4.28022000e-04]\n",
      "[0.293062228, 0.708892328, 1.1e-05]\n",
      "[4.39593342e-01 7.08892328e-01 3.30000000e-05]\n",
      "[1.0, 0.136974224, 0.018096613]\n",
      "[1.         0.20546134 0.05428984]\n",
      "[0.3178952685, 0.301334241, 0.389233299, 0.774840302, 0.5179663455000001, 0.220305249, 0.589572968, 0.5838499485, 0.004207056, 0.83563292, 0.768729528, 0.000428022, 0.439593342, 0.708892328, 3.3e-05, 1.0, 0.20546133600000002, 0.054289839000000006]\n"
     ]
    }
   ],
   "source": [
    "import seaborn as sns\n",
    "import numpy as np\n",
    "import pandas as pd\n",
    "import matplotlib.pyplot as plt\n",
    "from scipy.stats import kendalltau, pearsonr, spearmanr\n",
    "import statsmodels.api\n",
    "\n",
    "# all pvalues order is: 50DPI, 75DPI, 142DPI\n",
    "\n",
    "data_a = pd.read_csv('CAR-mass-range-time-6HS-wilcox-FDR-pvalue.csv')\n",
    "data_a_filename = data_a.filename.to_list()\n",
    "\n",
    "data_LA = data_a[data_a[\"organ\"].isin([\"LA\"])]\n",
    "data_RA = data_a[data_a[\"organ\"].isin([\"RA\"])]\n",
    "data_LVT = data_a[data_a[\"organ\"].isin([\"LVT\"])]\n",
    "data_LVB = data_a[data_a[\"organ\"].isin([\"LVB\"])]\n",
    "data_RVT = data_a[data_a[\"organ\"].isin([\"RVT\"])]\n",
    "data_RVB = data_a[data_a[\"organ\"].isin([\"RVB\"])]\n",
    "\n",
    "organ_list = ['LA', 'RA', 'LVT', 'LVB', 'RVT', 'RVB']\n",
    "mass_list = ['CAR_long_chain']\n",
    "\n",
    "pval_list = []\n",
    "df_final = pd.DataFrame(data_a_filename, columns = ['filename'])\n",
    "\n",
    "for mass in mass_list:\n",
    "    for organ in organ_list:\n",
    "        data_organ = data_a[data_a[\"organ\"].isin([organ])]\n",
    "        organ_pval_list = data_organ[mass].tolist()\n",
    "        organ_pval_list_corrected = statsmodels.stats.multitest.fdrcorrection(organ_pval_list, method='indep')\n",
    "        pval_list.extend(organ_pval_list_corrected[1])\n",
    "        print(organ_pval_list)\n",
    "        print(organ_pval_list_corrected[1])\n",
    "    df_final[mass] = pval_list\n",
    "    print(pval_list)\n",
    "    pval_list = []\n",
    "    \n",
    "df_final.to_csv('CAR-mass-range-time-6HS-comparison-FDR-pvalue.csv', index=False)"
   ]
  },
  {
   "cell_type": "code",
   "execution_count": null,
   "id": "718afb09",
   "metadata": {},
   "outputs": [],
   "source": []
  },
  {
   "cell_type": "code",
   "execution_count": null,
   "id": "bba8296f",
   "metadata": {},
   "outputs": [],
   "source": []
  },
  {
   "cell_type": "code",
   "execution_count": null,
   "id": "69c4722e",
   "metadata": {},
   "outputs": [],
   "source": []
  }
 ],
 "metadata": {
  "kernelspec": {
   "display_name": "Python 3",
   "language": "python",
   "name": "python3"
  },
  "language_info": {
   "codemirror_mode": {
    "name": "ipython",
    "version": 3
   },
   "file_extension": ".py",
   "mimetype": "text/x-python",
   "name": "python",
   "nbconvert_exporter": "python",
   "pygments_lexer": "ipython3",
   "version": "3.8.13"
  }
 },
 "nbformat": 4,
 "nbformat_minor": 5
}
