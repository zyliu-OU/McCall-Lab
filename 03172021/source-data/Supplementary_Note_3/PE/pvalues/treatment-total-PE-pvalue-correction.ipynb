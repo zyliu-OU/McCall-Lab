{
 "cells": [
  {
   "cell_type": "code",
   "execution_count": 5,
   "id": "4d877cab",
   "metadata": {},
   "outputs": [
    {
     "name": "stdout",
     "output_type": "stream",
     "text": [
      "[0.60828 1.      0.4398  0.60828 0.37182 0.458  ]\n",
      "[0.2064  0.4497  0.7716  0.4497  0.29127 0.70764]\n",
      "[0.8357 0.6802 0.6802 0.8007 0.6802 0.8357]\n",
      "[0.136   0.06759 0.02877 0.8035  0.3435  0.3834 ]\n",
      "[0.4268 0.74   0.74   0.4268 0.4268 0.74  ]\n",
      "[0.23   0.2235 0.2235 1.     1.     1.    ]\n"
     ]
    }
   ],
   "source": [
    "import seaborn as sns\n",
    "import numpy as np\n",
    "import pandas as pd\n",
    "import matplotlib.pyplot as plt\n",
    "from scipy.stats import kendalltau, pearsonr, spearmanr\n",
    "import statsmodels.api\n",
    "\n",
    "# treatment data order is naive_VS_infected, naive_VS_combo, naive_VS_BNZ, infected_VS_combo, infected_VS_BNZ, combo_VS_BNZ\n",
    "\n",
    "# PE treatment data\n",
    "\n",
    "PE_LA_list = [5.069e-01, 1, 1.466e-01, 5.069e-01, 6.197e-02, 2.290e-01]\n",
    "PE_LA_list_corrected = statsmodels.stats.multitest.fdrcorrection(PE_LA_list, method='indep')\n",
    "\n",
    "PE_RA_list = [3.440e-02, 2.628e-01, 7.716e-01, 2.998e-01, 9.709e-02, 5.897e-01]\n",
    "PE_RA_list_corrected = statsmodels.stats.multitest.fdrcorrection(PE_RA_list, method='indep')\n",
    "\n",
    "PE_LVT_list = [8.035e-01, 2.290e-01, 1.585e-01, 5.338e-01, 3.401e-01, 8.357e-01]\n",
    "PE_LVT_list_corrected = statsmodels.stats.multitest.fdrcorrection(PE_LVT_list, method='indep')\n",
    "\n",
    "PE_LVB_list = [6.800e-02, 2.253e-02, 4.795e-03, 8.035e-01, 2.290e-01, 3.195e-01]\n",
    "PE_LVB_list_corrected = statsmodels.stats.multitest.fdrcorrection(PE_LVB_list, method='indep')\n",
    "\n",
    "PE_RVT_list = [1.585e-01, 6.187e-01, 7.400e-01, 2.134e-01, 1.985e-01, 6.783e-01]\n",
    "PE_RVT_list_corrected = statsmodels.stats.multitest.fdrcorrection(PE_RVT_list, method='indep')\n",
    "\n",
    "PE_RVB_list = [1.150e-01, 4.649e-02, 7.450e-02, 1, 9.669e-01, 9.339e-01]\n",
    "PE_RVB_list_corrected = statsmodels.stats.multitest.fdrcorrection(PE_RVB_list, method='indep')\n",
    "\n",
    "print(PE_LA_list_corrected[1])\n",
    "print(PE_RA_list_corrected[1])\n",
    "print(PE_LVT_list_corrected[1])\n",
    "print(PE_LVB_list_corrected[1])\n",
    "print(PE_RVT_list_corrected[1])\n",
    "print(PE_RVB_list_corrected[1])"
   ]
  },
  {
   "cell_type": "code",
   "execution_count": null,
   "id": "0d4500bc",
   "metadata": {},
   "outputs": [],
   "source": []
  },
  {
   "cell_type": "code",
   "execution_count": null,
   "id": "3c9e142f",
   "metadata": {},
   "outputs": [],
   "source": []
  },
  {
   "cell_type": "code",
   "execution_count": null,
   "id": "5cd6bf20",
   "metadata": {},
   "outputs": [],
   "source": []
  }
 ],
 "metadata": {
  "kernelspec": {
   "display_name": "Python 3",
   "language": "python",
   "name": "python3"
  },
  "language_info": {
   "codemirror_mode": {
    "name": "ipython",
    "version": 3
   },
   "file_extension": ".py",
   "mimetype": "text/x-python",
   "name": "python",
   "nbconvert_exporter": "python",
   "pygments_lexer": "ipython3",
   "version": "3.8.13"
  }
 },
 "nbformat": 4,
 "nbformat_minor": 5
}
