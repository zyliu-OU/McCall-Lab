{
 "cells": [
  {
   "cell_type": "code",
   "execution_count": 4,
   "id": "d4c1e65e",
   "metadata": {
    "scrolled": false
   },
   "outputs": [
    {
     "name": "stdout",
     "output_type": "stream",
     "text": [
      "[0.7089  0.7089  0.204   0.54225 0.12114 0.317  ]\n",
      "[0.19418 0.19418 0.19418 0.85068 0.9669  0.85068]\n",
      "[0.57555 0.60828 0.408   0.74    0.57555 0.57555]\n",
      "[0.15855 0.33696 0.01119 0.74    0.15855 0.15855]\n",
      "[0.4807 0.4807 0.4807 0.4807 0.4807 0.4807]\n",
      "[0.022146 0.0432   0.23     0.3942   0.4338   0.7089  ]\n"
     ]
    }
   ],
   "source": [
    "import seaborn as sns\n",
    "import numpy as np\n",
    "import pandas as pd\n",
    "import matplotlib.pyplot as plt\n",
    "from scipy.stats import kendalltau, pearsonr, spearmanr\n",
    "import statsmodels.api\n",
    "\n",
    "# treatment data order is naive_VS_infected, naive_VS_combo, naive_VS_BNZ, infected_VS_combo, infected_VS_BNZ, combo_VS_BNZ\n",
    "\n",
    "# PC treatment data\n",
    "PC_LA_list = [6.187e-01, 7.089e-01, 6.800e-02, 3.615e-01, 2.019e-02, 1.585e-01]\n",
    "PC_LA_list_corrected = statsmodels.stats.multitest.fdrcorrection(PC_LA_list, method='indep')\n",
    "\n",
    "PC_RA_list = [9.709e-02, 5.639e-02, 8.902e-02, 7.089e-01, 9.669e-01, 6.783e-01]\n",
    "PC_RA_list_corrected = statsmodels.stats.multitest.fdrcorrection(PC_RA_list, method='indep')\n",
    "\n",
    "PC_LVT_list = [3.401e-01, 5.069e-01, 6.800e-02, 7.400e-01, 3.195e-01, 3.837e-01]\n",
    "PC_LVT_list_corrected = statsmodels.stats.multitest.fdrcorrection(PC_LVT_list, method='indep')\n",
    "\n",
    "PC_LVB_list = [9.709e-02, 2.808e-01, 1.865e-03, 7.400e-01, 1.057e-01, 6.197e-02]\n",
    "PC_LVB_list_corrected = statsmodels.stats.multitest.fdrcorrection(PC_LVB_list, method='indep')\n",
    "\n",
    "PC_RVT_list = [4.807e-01, 4.553e-01, 2.290e-01, 4.807e-01, 1.354e-01, 4.306e-01]\n",
    "PC_RVT_list_corrected = statsmodels.stats.multitest.fdrcorrection(PC_RVT_list, method='indep')\n",
    "\n",
    "PC_RVB_list = [3.691e-03, 1.440e-02, 1.150e-01, 2.628e-01, 3.615e-01, 7.089e-01]\n",
    "PC_RVB_list_corrected = statsmodels.stats.multitest.fdrcorrection(PC_RVB_list, method='indep')\n",
    "\n",
    "print(PC_LA_list_corrected[1])\n",
    "print(PC_RA_list_corrected[1])\n",
    "print(PC_LVT_list_corrected[1])\n",
    "print(PC_LVB_list_corrected[1])\n",
    "print(PC_RVT_list_corrected[1])\n",
    "print(PC_RVB_list_corrected[1])"
   ]
  },
  {
   "cell_type": "code",
   "execution_count": null,
   "id": "3c9e142f",
   "metadata": {},
   "outputs": [],
   "source": []
  },
  {
   "cell_type": "code",
   "execution_count": null,
   "id": "5cd6bf20",
   "metadata": {},
   "outputs": [],
   "source": []
  }
 ],
 "metadata": {
  "kernelspec": {
   "display_name": "Python 3",
   "language": "python",
   "name": "python3"
  },
  "language_info": {
   "codemirror_mode": {
    "name": "ipython",
    "version": 3
   },
   "file_extension": ".py",
   "mimetype": "text/x-python",
   "name": "python",
   "nbconvert_exporter": "python",
   "pygments_lexer": "ipython3",
   "version": "3.8.13"
  }
 },
 "nbformat": 4,
 "nbformat_minor": 5
}
