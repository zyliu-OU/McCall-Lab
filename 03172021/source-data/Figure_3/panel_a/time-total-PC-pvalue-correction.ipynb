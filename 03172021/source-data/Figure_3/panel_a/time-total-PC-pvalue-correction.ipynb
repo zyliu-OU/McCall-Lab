{
 "cells": [
  {
   "cell_type": "code",
   "execution_count": 2,
   "id": "d4c1e65e",
   "metadata": {
    "scrolled": false
   },
   "outputs": [
    {
     "name": "stdout",
     "output_type": "stream",
     "text": [
      "[0.6187 0.6187 0.6187]\n",
      "[0.115   0.01857 0.115  ]\n",
      "[0.51015 0.5897  0.51015]\n",
      "[0.2628   0.011073 0.145635]\n",
      "[0.4807    0.0012675 0.4807   ]\n",
      "[0.5614    0.004212  0.0055365]\n"
     ]
    }
   ],
   "source": [
    "import seaborn as sns\n",
    "import numpy as np\n",
    "import pandas as pd\n",
    "import matplotlib.pyplot as plt\n",
    "from scipy.stats import kendalltau, pearsonr, spearmanr\n",
    "import statsmodels.api\n",
    "\n",
    "# all pvalues order is: 50DPI, 75DPI, 142DPI\n",
    "\n",
    "# PC time data\n",
    "PC_LA_list = [4.306e-01, 2.134e-01, 6.187e-01]\n",
    "PC_LA_list_corrected = statsmodels.stats.multitest.fdrcorrection(PC_LA_list, method='indep')\n",
    "\n",
    "PC_RA_list = [1.150e-01, 6.190e-03, 9.709e-02]\n",
    "PC_RA_list_corrected = statsmodels.stats.multitest.fdrcorrection(PC_RA_list, method='indep')\n",
    "\n",
    "PC_LVT_list = [2.628e-01, 5.897e-01, 3.401e-01]\n",
    "PC_LVT_list_corrected = statsmodels.stats.multitest.fdrcorrection(PC_LVT_list, method='indep')\n",
    "\n",
    "PC_LVB_list = [2.628e-01, 3.691e-03, 9.709e-02] \n",
    "PC_LVB_list_corrected = statsmodels.stats.multitest.fdrcorrection(PC_LVB_list, method='indep')\n",
    "\n",
    "PC_RVT_list = [3.401e-01, 4.225e-04, 4.807e-01]\n",
    "PC_RVT_list_corrected = statsmodels.stats.multitest.fdrcorrection(PC_RVT_list, method='indep')\n",
    "\n",
    "PC_RVB_list = [5.614e-01, 1.404e-03, 3.691e-03]\n",
    "PC_RVB_list_corrected = statsmodels.stats.multitest.fdrcorrection(PC_RVB_list, method='indep')\n",
    "\n",
    "print(PC_LA_list_corrected[1])\n",
    "print(PC_RA_list_corrected[1])\n",
    "print(PC_LVT_list_corrected[1])\n",
    "print(PC_LVB_list_corrected[1])\n",
    "print(PC_RVT_list_corrected[1])\n",
    "print(PC_RVB_list_corrected[1])"
   ]
  },
  {
   "cell_type": "code",
   "execution_count": null,
   "id": "5cd6bf20",
   "metadata": {},
   "outputs": [],
   "source": []
  }
 ],
 "metadata": {
  "kernelspec": {
   "display_name": "Python 3",
   "language": "python",
   "name": "python3"
  },
  "language_info": {
   "codemirror_mode": {
    "name": "ipython",
    "version": 3
   },
   "file_extension": ".py",
   "mimetype": "text/x-python",
   "name": "python",
   "nbconvert_exporter": "python",
   "pygments_lexer": "ipython3",
   "version": "3.8.13"
  }
 },
 "nbformat": 4,
 "nbformat_minor": 5
}
