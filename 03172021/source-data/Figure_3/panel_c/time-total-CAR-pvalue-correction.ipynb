{
 "cells": [
  {
   "cell_type": "code",
   "execution_count": 4,
   "id": "ba458d7e",
   "metadata": {},
   "outputs": [
    {
     "name": "stdout",
     "output_type": "stream",
     "text": [
      "[0.2766  0.18591 0.3837 ]\n",
      "[0.7716  0.51015 0.11427]\n",
      "[0.5896   0.57555  0.004206]\n",
      "[8.3560e-01 7.6035e-01 4.2810e-04]\n",
      "[2.9775e-01 7.0890e-01 3.2910e-05]\n",
      "[1.     0.2031 0.0543]\n"
     ]
    }
   ],
   "source": [
    "import seaborn as sns\n",
    "import numpy as np\n",
    "import pandas as pd\n",
    "import matplotlib.pyplot as plt\n",
    "from scipy.stats import kendalltau, pearsonr, spearmanr\n",
    "import statsmodels.api\n",
    "\n",
    "# all pvalues order is: 50DPI, 75DPI, 142DPI\n",
    "\n",
    "# CAR time data\n",
    "CAR_LA_list = [1.844e-01, 6.197e-02, 3.837e-01]\n",
    "CAR_LA_list_corrected = statsmodels.stats.multitest.fdrcorrection(CAR_LA_list, method='indep')\n",
    "\n",
    "CAR_RA_list = [7.716e-01, 3.401e-01, 3.809e-02]\n",
    "CAR_RA_list_corrected = statsmodels.stats.multitest.fdrcorrection(CAR_RA_list, method='indep')\n",
    "\n",
    "CAR_LVT_list = [5.896e-01, 3.837e-01, 1.402e-03]\n",
    "CAR_LVT_list_corrected = statsmodels.stats.multitest.fdrcorrection(CAR_LVT_list, method='indep')\n",
    "\n",
    "CAR_LVB_list = [8.356e-01, 5.069e-01, 1.427e-04]\n",
    "CAR_LVB_list_corrected = statsmodels.stats.multitest.fdrcorrection(CAR_LVB_list, method='indep')\n",
    "\n",
    "CAR_RVT_list = [1.985e-01, 7.089e-01, 1.097e-05]\n",
    "CAR_RVT_list_corrected = statsmodels.stats.multitest.fdrcorrection(CAR_RVT_list, method='indep')\n",
    "\n",
    "CAR_RVB_list = [1, 1.354e-01, 1.810e-02]\n",
    "CAR_RVB_list_corrected = statsmodels.stats.multitest.fdrcorrection(CAR_RVB_list, method='indep')\n",
    "\n",
    "print(CAR_LA_list_corrected[1])\n",
    "print(CAR_RA_list_corrected[1])\n",
    "print(CAR_LVT_list_corrected[1])\n",
    "print(CAR_LVB_list_corrected[1])\n",
    "print(CAR_RVT_list_corrected[1])\n",
    "print(CAR_RVB_list_corrected[1])"
   ]
  }
 ],
 "metadata": {
  "kernelspec": {
   "display_name": "Python 3",
   "language": "python",
   "name": "python3"
  },
  "language_info": {
   "codemirror_mode": {
    "name": "ipython",
    "version": 3
   },
   "file_extension": ".py",
   "mimetype": "text/x-python",
   "name": "python",
   "nbconvert_exporter": "python",
   "pygments_lexer": "ipython3",
   "version": "3.8.13"
  }
 },
 "nbformat": 4,
 "nbformat_minor": 5
}
