{
 "cells": [
  {
   "cell_type": "code",
   "execution_count": 1,
   "id": "4d877cab",
   "metadata": {},
   "outputs": [
    {
     "name": "stdout",
     "output_type": "stream",
     "text": [
      "[0.3747  0.9669  0.76035]\n",
      "[0.1466   0.006435 0.0516  ]\n",
      "[0.7365 1.     1.    ]\n",
      "[0.033795 0.02382  0.068   ]\n",
      "[0.092955  0.0023406 0.1585   ]\n",
      "[0.115   0.00486 0.115  ]\n"
     ]
    }
   ],
   "source": [
    "import seaborn as sns\n",
    "import numpy as np\n",
    "import pandas as pd\n",
    "import matplotlib.pyplot as plt\n",
    "from scipy.stats import kendalltau, pearsonr, spearmanr\n",
    "import statsmodels.api\n",
    "\n",
    "# all pvalues order is: 50DPI, 75DPI, 142DPI\n",
    "\n",
    "# PE time data\n",
    "PE_LA_list = [1.249e-01, 9.669e-01, 5.069e-01]\n",
    "PE_LA_list_corrected = statsmodels.stats.multitest.fdrcorrection(PE_LA_list, method='indep')\n",
    "\n",
    "PE_RA_list = [1.466e-01, 2.145e-03, 3.440e-02]\n",
    "PE_RA_list_corrected = statsmodels.stats.multitest.fdrcorrection(PE_RA_list, method='indep')\n",
    "\n",
    "PE_LVT_list = [2.455e-01, 1, 8.035e-01]\n",
    "PE_LVT_list_corrected = statsmodels.stats.multitest.fdrcorrection(PE_LVT_list, method='indep')\n",
    "\n",
    "PE_LVB_list = [2.253e-02, 7.940e-03, 6.800e-02]\n",
    "PE_LVB_list_corrected = statsmodels.stats.multitest.fdrcorrection(PE_LVB_list, method='indep')\n",
    "\n",
    "PE_RVT_list = [6.197e-02, 7.802e-04, 1.585e-01]\n",
    "PE_RVT_list_corrected = statsmodels.stats.multitest.fdrcorrection(PE_RVT_list, method='indep')\n",
    "\n",
    "PE_RVB_list = [1.150e-01, 1.620e-03, 1.150e-01]\n",
    "PE_RVB_list_corrected = statsmodels.stats.multitest.fdrcorrection(PE_RVB_list, method='indep')\n",
    "\n",
    "print(PE_LA_list_corrected[1])\n",
    "print(PE_RA_list_corrected[1])\n",
    "print(PE_LVT_list_corrected[1])\n",
    "print(PE_LVB_list_corrected[1])\n",
    "print(PE_RVT_list_corrected[1])\n",
    "print(PE_RVB_list_corrected[1])"
   ]
  },
  {
   "cell_type": "code",
   "execution_count": null,
   "id": "c1853f54",
   "metadata": {},
   "outputs": [],
   "source": []
  }
 ],
 "metadata": {
  "kernelspec": {
   "display_name": "Python 3",
   "language": "python",
   "name": "python3"
  },
  "language_info": {
   "codemirror_mode": {
    "name": "ipython",
    "version": 3
   },
   "file_extension": ".py",
   "mimetype": "text/x-python",
   "name": "python",
   "nbconvert_exporter": "python",
   "pygments_lexer": "ipython3",
   "version": "3.8.13"
  }
 },
 "nbformat": 4,
 "nbformat_minor": 5
}
