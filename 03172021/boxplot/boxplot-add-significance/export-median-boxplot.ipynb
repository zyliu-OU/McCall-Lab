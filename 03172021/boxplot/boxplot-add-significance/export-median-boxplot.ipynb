{
 "cells": [
  {
   "cell_type": "code",
   "execution_count": 1,
   "id": "7f38e834",
   "metadata": {},
   "outputs": [
    {
     "name": "stdout",
     "output_type": "stream",
     "text": [
      "p-value annotation legend:\n",
      "      ns: p <= 1.00e+00\n",
      "       *: 1.00e-02 < p <= 5.00e-02\n",
      "      **: 1.00e-03 < p <= 1.00e-02\n",
      "     ***: 1.00e-04 < p <= 1.00e-03\n",
      "    ****: p <= 1.00e-04\n",
      "\n",
      "DPI_50 vs. DPI_75: Mann-Whitney-Wilcoxon test two-sided with Benjamini-Hochberg correction, P_val:3.815e-01 U_stat=5.080e+02\n",
      "DPI_75 vs. DPI_142: Mann-Whitney-Wilcoxon test two-sided with Benjamini-Hochberg correction, P_val:1.733e-03 U_stat=2.410e+02\n",
      "DPI_50 vs. DPI_142: Mann-Whitney-Wilcoxon test two-sided with Benjamini-Hochberg correction, P_val:3.181e-02 U_stat=3.070e+02\n"
     ]
    },
    {
     "data": {
      "text/plain": [
       "Text(0.5, 15.0, 'Normalized peak area')"
      ]
     },
     "execution_count": 1,
     "metadata": {},
     "output_type": "execute_result"
    },
    {
     "data": {
      "image/png": "[encoded data removed]",
      "text/plain": [
       "<Figure size 432x288 with 1 Axes>"
      ]
     },
     "metadata": {
      "needs_background": "light"
     },
     "output_type": "display_data"
    }
   ],
   "source": [
    "import pandas\n",
    "import numpy as np\n",
    "import matplotlib.pyplot as plt\n",
    "import seaborn as sns\n",
    "from statannotations.Annotator import Annotator\n",
    "\n",
    "M_F_data = pandas.read_csv('M-F-example-data.csv')\n",
    "\n",
    "fig1, ax1 = plt.subplots()\n",
    "ax1.set_title('test')\n",
    "g1 = sns.boxplot(x=M_F_data['X338.342_3.533'] , y=M_F_data['DPI'], palette=\"tab10\", showfliers = False)\n",
    "g1 = sns.stripplot(x=M_F_data['X338.342_3.533'] , y=M_F_data['DPI'], dodge=True, color = \"black\", size=2, edgecolor=\"black\", linewidth=.9)\n",
    "annot_1 = Annotator(g1, [(\"DPI_50\", \"DPI_75\"), (\"DPI_50\", \"DPI_142\"), (\"DPI_75\", \"DPI_142\")], x=M_F_data['X338.342_3.533'], y=M_F_data['DPI'], orient='h')\n",
    "annot_1.configure(test='Mann-Whitney', comparisons_correction=\"BH\", correction_format=\"replace\", text_format='star', loc='outside', verbose=2)\n",
    "annot_1.apply_test()\n",
    "g1, test_results = annot_1.annotate()\n",
    "ax1.set_ylabel('Groups name')\n",
    "ax1.set_xlabel('Normalized peak area')\n",
    "\n",
    "#plt.savefig(\"example-plot-median.png\", dpi=300, bbox_inches='tight')"
   ]
  },
  {
   "cell_type": "code",
   "execution_count": 2,
   "id": "0457888d",
   "metadata": {},
   "outputs": [],
   "source": [
    "mass_387_list=M_F_data['X338.342_3.533'].tolist()"
   ]
  },
  {
   "cell_type": "code",
   "execution_count": 3,
   "id": "49652b49",
   "metadata": {},
   "outputs": [
    {
     "data": {
      "text/plain": [
       "0.1093335465"
      ]
     },
     "execution_count": 3,
     "metadata": {},
     "output_type": "execute_result"
    }
   ],
   "source": [
    "\n",
    "import statistics\n",
    "statistics.median(mass_387_list)\n",
    "\n"
   ]
  },
  {
   "cell_type": "code",
   "execution_count": 4,
   "id": "79a25f36",
   "metadata": {},
   "outputs": [
    {
     "data": {
      "text/plain": [
       "0.1062473045"
      ]
     },
     "execution_count": 4,
     "metadata": {},
     "output_type": "execute_result"
    }
   ],
   "source": [
    "mass_387_DPI_50 = M_F_data[M_F_data[\"DPI\"].isin([\"DPI_50\"])]\n",
    "mass_387_DPI_50_list = mass_387_DPI_50['X338.342_3.533'].tolist()\n",
    "statistics.median(mass_387_DPI_50_list)\n"
   ]
  },
  {
   "cell_type": "code",
   "execution_count": 6,
   "id": "297bf066",
   "metadata": {},
   "outputs": [
    {
     "data": {
      "text/plain": [
       "0.014562059075153474"
      ]
     },
     "execution_count": 6,
     "metadata": {},
     "output_type": "execute_result"
    }
   ],
   "source": [
    "mass_387_DPI_50_list_mean = np.mean(mass_387_DPI_50_list)\n",
    "sample_std = np.std(mass_387_DPI_50_list, ddof=1)\n",
    "n = len(mass_387_DPI_50_list)\n",
    "se = sample_std / np.sqrt(n)\n",
    "se\n"
   ]
  },
  {
   "cell_type": "code",
   "execution_count": 5,
   "id": "46bbe2e6",
   "metadata": {},
   "outputs": [
    {
     "data": {
      "text/plain": [
       "0.0446665405"
      ]
     },
     "execution_count": 5,
     "metadata": {},
     "output_type": "execute_result"
    }
   ],
   "source": [
    "mass_387_DPI_75 = M_F_data[M_F_data[\"DPI\"].isin([\"DPI_75\"])]\n",
    "mass_387_DPI_75_list = mass_387_DPI_75['X338.342_3.533'].tolist()\n",
    "statistics.median(mass_387_DPI_75_list)\n"
   ]
  },
  {
   "cell_type": "code",
   "execution_count": null,
   "id": "da3fe471",
   "metadata": {},
   "outputs": [],
   "source": [
    " "
   ]
  },
  {
   "cell_type": "code",
   "execution_count": null,
   "id": "712f6425",
   "metadata": {},
   "outputs": [],
   "source": [
    "def list_median(list_name):\n",
    "    statistics.median(mass_387_list)"
   ]
  },
  {
   "cell_type": "code",
   "execution_count": null,
   "id": "b84b1d23",
   "metadata": {},
   "outputs": [],
   "source": []
  }
 ],
 "metadata": {
  "kernelspec": {
   "display_name": "Python 3",
   "language": "python",
   "name": "python3"
  },
  "language_info": {
   "codemirror_mode": {
    "name": "ipython",
    "version": 3
   },
   "file_extension": ".py",
   "mimetype": "text/x-python",
   "name": "python",
   "nbconvert_exporter": "python",
   "pygments_lexer": "ipython3",
   "version": "3.8.13"
  }
 },
 "nbformat": 4,
 "nbformat_minor": 5
}
