{
 "cells": [
  {
   "cell_type": "code",
   "execution_count": 27,
   "metadata": {},
   "outputs": [
    {
     "data": {
      "text/html": [
       "<table>\n",
       "<thead><tr><th scope=col>filename</th><th scope=col>MouseID</th><th scope=col>Treatmentgroup</th><th scope=col>status</th><th scope=col>DPI</th><th scope=col>organ</th><th scope=col>well_position</th><th scope=col>plate</th><th scope=col>X338.342_3.533</th><th scope=col>X387.181_2.767</th><th scope=col>...</th><th scope=col>X269.089_0.42</th><th scope=col>X527.851_2.856</th><th scope=col>X467.802_2.661</th><th scope=col>X169.472_2.754</th><th scope=col>X190.983_2.978</th><th scope=col>X269.913_2.601</th><th scope=col>X269.913_2.654</th><th scope=col>X217.425_2.737</th><th scope=col>X227.936_2.695</th><th scope=col>X104.031_5.837</th></tr></thead>\n",
       "<tbody>\n",
       "\t<tr><td>X506_Group1B_70dpi_LA_281_B_C7_P121.mzXML </td><td>506                                       </td><td>Group1B                                   </td><td>naive                                     </td><td>70                                        </td><td>LA                                        </td><td>C7                                        </td><td>P121                                      </td><td>0.1466899                                 </td><td>0.04428373                                </td><td>...                                       </td><td>0                                         </td><td>0                                         </td><td>0                                         </td><td>0                                         </td><td>0                                         </td><td>0                                         </td><td>0                                         </td><td>0                                         </td><td>0                                         </td><td>0                                         </td></tr>\n",
       "\t<tr><td>X507_Group1B_70dpi_LA_282_B_C8_P121.mzXML </td><td>507                                       </td><td>Group1B                                   </td><td>naive                                     </td><td>70                                        </td><td>LA                                        </td><td>C8                                        </td><td>P121                                      </td><td>0.1256424                                 </td><td>0.03097735                                </td><td>...                                       </td><td>0                                         </td><td>0                                         </td><td>0                                         </td><td>0                                         </td><td>0                                         </td><td>0                                         </td><td>0                                         </td><td>0                                         </td><td>0                                         </td><td>0                                         </td></tr>\n",
       "\t<tr><td>X508_Group1B_70dpi_LA_283_B_C9_P121.mzXML </td><td>508                                       </td><td>Group1B                                   </td><td>naive                                     </td><td>70                                        </td><td>LA                                        </td><td>C9                                        </td><td>P121                                      </td><td>0.1192797                                 </td><td>0.05662307                                </td><td>...                                       </td><td>0                                         </td><td>0                                         </td><td>0                                         </td><td>0                                         </td><td>0                                         </td><td>0                                         </td><td>0                                         </td><td>0                                         </td><td>0                                         </td><td>0                                         </td></tr>\n",
       "\t<tr><td>X509_Group1B_70dpi_LA_284_B_C10_P121.mzXML</td><td>509                                       </td><td>Group1B                                   </td><td>naive                                     </td><td>70                                        </td><td>LA                                        </td><td>C10                                       </td><td>P121                                      </td><td>0.0000000                                 </td><td>0.01387367                                </td><td>...                                       </td><td>0                                         </td><td>0                                         </td><td>0                                         </td><td>0                                         </td><td>0                                         </td><td>0                                         </td><td>0                                         </td><td>0                                         </td><td>0                                         </td><td>0                                         </td></tr>\n",
       "\t<tr><td>X510_Group1B_70dpi_LA_285_B_C11_P121.mzXML</td><td>510                                       </td><td>Group1B                                   </td><td>naive                                     </td><td>70                                        </td><td>LA                                        </td><td>C11                                       </td><td>P121                                      </td><td>0.1435631                                 </td><td>0.02098561                                </td><td>...                                       </td><td>0                                         </td><td>0                                         </td><td>0                                         </td><td>0                                         </td><td>0                                         </td><td>0                                         </td><td>0                                         </td><td>0                                         </td><td>0                                         </td><td>0                                         </td></tr>\n",
       "\t<tr><td>X526_Group1B_70dpi_LA_286_B_C12_P121.mzXML</td><td>526                                       </td><td>Group1B                                   </td><td>naive                                     </td><td>70                                        </td><td>LA                                        </td><td>C12                                       </td><td>P121                                      </td><td>0.1085324                                 </td><td>0.01907468                                </td><td>...                                       </td><td>0                                         </td><td>0                                         </td><td>0                                         </td><td>0                                         </td><td>0                                         </td><td>0                                         </td><td>0                                         </td><td>0                                         </td><td>0                                         </td><td>0                                         </td></tr>\n",
       "</tbody>\n",
       "</table>\n"
      ],
      "text/latex": [
       "\\begin{tabular}{r|llllllllllllllllllllllllllllllllllllllllllllllllllllllllllllllllllllllllllllllllllllllllllllllllllllllllllllllllllllllllllllllllllllllllllllllllllllllllllllllllllllllllllllllllllllllllllllllllllllllllllllllllllllllllllllllllllllllllllllllllllllllllllllllllllllllllllllllllllllllllllllllllllllllllllllllllllllllllllllllllllllllllllllllllllllllllllllllllllllllllllllllllllllllllllllllllllllllllllllllllllllllllllllllllllllllllllllllllllllllllllllllllllllllllllllllllllllllllllllllllllllllllllllllllllllllllllllllllllllllllllllllllllllllllllllllllllllllllllllllllllllllllllllllllllllllllllllllllllllllllllllllllllllllllllllllllllllllllllllllllllllllllllllllllllllllllllllllllllllllllllllllllllllllllllllllllllllllllllllllllllllllllllllllllllllllllllllllllllllllllllllllllllllllllllllllllllllllllllllllllllllllllllllllllllllllllllllllllllllllllllllllllllllllllllllllllllllllllllllllllllllllllllllllllllllllllllllllllllllllllllllllllllllllllllllllllllllllllllllllllllllllllllllllllllllllllllllllllllllllllllllllllllllllllllllllllllllllllllllllllllllllllllllllllllllllllllllllllllllllllllllllllllllllllllllllllllllllllllllllllllllllllllllllllllllllllllllllllllllllllllllllllllllllllllllllllllllllllllllllllllllllllllllllllllllllllllllllllllllllllllllllllllllllllllllllllllllllllllllllllllllllllllllllllllllllllllllllllllllllllllllllllllllllllllllllllllllllllllllllllllllllllllllllllllllllllllllllllllllllllllllllllllllllllllllllllllllllllllllllllllllllllllllllllllllllllllllllllllllllllllllllllllllllllllllllllllllllllllllllllllllllllllllllllllllllllllllllllllllllllllllllllllllllllllllllllllllllllllllllllllllllllllllllllllllllllllllllllllllllllllllllllllllllllllllllllllllllllllllllllllllllllllllllllllllllllllllllllllllllllllllllllllllllllllllllllllllllllllllllllllllllllllllllllllllllllllllllllllllllllllllllllllllllllllllllllllllllllllllllllllllllllllllllllllllllllllllllllllllllllllllllllllllllllllllllllllllllllllllllllllllllllllllllllllllllllllllllllllllllllllllllllllllllllllllllllllllllllllllllllllllllllllllllllllllllllllllllllllllllllllllllllllllllllllllllllllllllllllllllllllllllllllllllllllllllllllllllllllllllllllllllllllllllllllllllllllllllllllllllllllllllllllllllllllllllllllllllllllllllllllllllllllllllllllllllllllllllllllllllllllllllllllllllllllllllllllllllllllllllllllllllllllllllllllllllllllllllllllllllllllllllllllllllllllllllllllllllllllllllllllllllllllllllllllllllllllllllllllllllllllllllllllllllllllllllllllllllllllllllllllllllllllllllllllllllllllllllllllllllllllllllllllllllllllllllllllllllllllllllllllllllllllllllllllllllllllllllllllllllllllllllllllllllllllllllllllllllllllllllllllllllllllllllllllllllllllllllllllllllllllllllllllllllllllllllllllllllllllllllllllllllllllllllllllllllllllllllllllllllllllllllllllllllllllllllllllllllllllllllllllllllllllllllllllllllllllllllllllllllllllllllllllllllllllllllllllllllllllllllllllllllllllllllllllllllllllllllllllllllllllllllllllllllllllllllllllllllllllllllllllllllllllllllllllllllllllllllllllllllllllllllllllllllllllllllllllllllllllllllllllllllllllllllllllllllllllllllllllllllllllllllllllllllllllllllllllllllllllllllllllllllllllllllllllllllllllllllllllllllllllllllllllllllllllllllllllllllllllllllllllllllllllllllllllllllllllllllllllllllllllllllllllllllllllllllllllllllllllllllllllllllllllllllllllllllllllllllllllllllllllllllllllllllllllllllllllllllllllllllllllllllllllllllllllllllllllllllllllllllllllllllllllllllllllllllllllllllllllllllllllllllllllllllllllllllllllllllllllllllllllllllllllllllllllllllllllllllllllllllllllllllllllllllllllllllllllllllllllllllllllllllllllllllllllllllllllllllllllllllllllllllllllllllllllllllllllllllllllllllllllllllllllllllllllllllllllllllllllllllllllllllllllllllllllllllllllllllllllllllllllllllllllllllllllllllllllllllllllllllllllllllllllllllllllllllllllllllllllllllllllllllllllllllllllllllllllllllllllllllllllllllllllllllllllllllllllllllllllllllllllllllllllllllllllllllllllllllllllllllllllllllllllllllllllllllllllllllllllllllllllllllllllllllllllllllllllllllllllllllllllllllllllllllllllllllllllllllllllllllllllllllllllllllllllllllllllllllllllllllllllllllllllllllllllllllllllllllllllllllllllllllllllllllllllllllllllllllllllllllllllllllllllllllllllllllllllllllllllllllllllllllllllllllllllllllllllllllllllllllllllllllllllllllllllllllllllllllllllllllllllllllllllllllllllllllllllllllllllllllllllllllllllllllllllllllllllllllllllllllllllllllllllllllllllllllllllllllllllllllllllllllllllllllllllllllllllllllllllllllllllllllllllllllllllllllllllllllllllllllllllllllllllllllllllllllllllllllllllllllllllllllllllllllllllllllllllllllllllllllllllllllllllllllllllllllllllllllllllllllllllllllllllllllllllllllllllllllllllllllllllllllllllllllllllllllllllllllllllllllllllllllllllllllllllllllllllllllllllllllllllllllllllllllllllllllllllllllllllllllllllllllllllllllllllllllllllllllllllllllllllllllllllllllllllllllllllllllllllllllllllllllllllllllllllllllllllllllllllllllllllllllllllllllllllllllllllllllllllllllllllllllllllllllllllllllllllllllllllllllllllllllllllllllllllllllllllllllllllllllllllllllllllllllllllllllllllllllllllllllllllllllllllllllllllllllllllllllllllllllllllllllllllllllllllllllllllllllllllllllllllllllllllllllllllllllllllllllllllllllllllllllllllllllllllllllllllllllllllllllllllllllllllllllllllllllllllllllllllllllllllllllllllllllllllllllllllllllllllllllllllllllllllllllllllllllllllllllllllllllllllllllllllllllllllllllllllllllllllllllllllllllllllllllllllllllllllllllllllllllllllllllllllllllllllllllllllllllllllllllllllllllllllllllllllllllllllllllllllllllllllllllllllllllllllllllllllllllllllllllllllllllllllllllllllllllllllllllllllllllllllllllllllllllllllllllllllllllllllllllllllllllllllllllllllllllllllllllllllllllllllllllllllllllllllllllllllllllllllllllllllllllllllllllllllllllllllllllllllllllllllllllllllllllllllllllllllllllllllllllllllllllllllllllllllllllllllllllllllllllllllllllllllllllllllllllllllllllllllllllllllllllllllllllllllllllllllllllllllllllllllllllllllllllllllllllllllllllllllllllllllllllllllllllllllllllllllllllllllllllllllllllllllllllllllllllllllllllllllllllllllllllllllllllllllllllllllllllllllllllllllllllllllllllllllllllllllllllllllllllllllllllllllllllllllllllllllllllllllllllllllllllllllllllllllllllllllllllllllllllllllllllllllllllllllllllllllllllllllllllllllllllllllllllllllllllllllllllllllllllllllllllllllllllllllllllllllllllllllllllllllllllllllllllllllllllllllllllllllllllllllllllllllllllllllllllllllllllllllllllllllllllllllllllllllllllllllllllllllllllllllllllllllllllllllllllllllllllllllllllllllllllllllllllllllllllllllllllllllllllllllllllllllllllllllllllllllllllllllllllllllllllllllllllllllllllllllllllllllllllllllllllllllllllllllllllllllllllllllllllllllllllllllllllllllllllllllllllllllllllllllllllllllllllllllllllllllllllllllllllllllllllllllllllllllllllllllllllllllllllllllllllllllllllllllllllllllllllllllllllllllll}\n",
       " filename & MouseID & Treatmentgroup & status & DPI & organ & well\\_position & plate & X338.342\\_3.533 & X387.181\\_2.767 & ... & X269.089\\_0.42 & X527.851\\_2.856 & X467.802\\_2.661 & X169.472\\_2.754 & X190.983\\_2.978 & X269.913\\_2.601 & X269.913\\_2.654 & X217.425\\_2.737 & X227.936\\_2.695 & X104.031\\_5.837\\\\\n",
       "\\hline\n",
       "\t X506\\_Group1B\\_70dpi\\_LA\\_281\\_B\\_C7\\_P121.mzXML  & 506                                                      & Group1B                                                  & naive                                                    & 70                                                       & LA                                                       & C7                                                       & P121                                                     & 0.1466899                                                & 0.04428373                                               & ...                                                      & 0                                                        & 0                                                        & 0                                                        & 0                                                        & 0                                                        & 0                                                        & 0                                                        & 0                                                        & 0                                                        & 0                                                       \\\\\n",
       "\t X507\\_Group1B\\_70dpi\\_LA\\_282\\_B\\_C8\\_P121.mzXML  & 507                                                      & Group1B                                                  & naive                                                    & 70                                                       & LA                                                       & C8                                                       & P121                                                     & 0.1256424                                                & 0.03097735                                               & ...                                                      & 0                                                        & 0                                                        & 0                                                        & 0                                                        & 0                                                        & 0                                                        & 0                                                        & 0                                                        & 0                                                        & 0                                                       \\\\\n",
       "\t X508\\_Group1B\\_70dpi\\_LA\\_283\\_B\\_C9\\_P121.mzXML  & 508                                                      & Group1B                                                  & naive                                                    & 70                                                       & LA                                                       & C9                                                       & P121                                                     & 0.1192797                                                & 0.05662307                                               & ...                                                      & 0                                                        & 0                                                        & 0                                                        & 0                                                        & 0                                                        & 0                                                        & 0                                                        & 0                                                        & 0                                                        & 0                                                       \\\\\n",
       "\t X509\\_Group1B\\_70dpi\\_LA\\_284\\_B\\_C10\\_P121.mzXML & 509                                                      & Group1B                                                  & naive                                                    & 70                                                       & LA                                                       & C10                                                      & P121                                                     & 0.0000000                                                & 0.01387367                                               & ...                                                      & 0                                                        & 0                                                        & 0                                                        & 0                                                        & 0                                                        & 0                                                        & 0                                                        & 0                                                        & 0                                                        & 0                                                       \\\\\n",
       "\t X510\\_Group1B\\_70dpi\\_LA\\_285\\_B\\_C11\\_P121.mzXML & 510                                                      & Group1B                                                  & naive                                                    & 70                                                       & LA                                                       & C11                                                      & P121                                                     & 0.1435631                                                & 0.02098561                                               & ...                                                      & 0                                                        & 0                                                        & 0                                                        & 0                                                        & 0                                                        & 0                                                        & 0                                                        & 0                                                        & 0                                                        & 0                                                       \\\\\n",
       "\t X526\\_Group1B\\_70dpi\\_LA\\_286\\_B\\_C12\\_P121.mzXML & 526                                                      & Group1B                                                  & naive                                                    & 70                                                       & LA                                                       & C12                                                      & P121                                                     & 0.1085324                                                & 0.01907468                                               & ...                                                      & 0                                                        & 0                                                        & 0                                                        & 0                                                        & 0                                                        & 0                                                        & 0                                                        & 0                                                        & 0                                                        & 0                                                       \\\\\n",
       "\\end{tabular}\n"
      ],
      "text/markdown": [
       "\n",
       "| filename | MouseID | Treatmentgroup | status | DPI | organ | well_position | plate | X338.342_3.533 | X387.181_2.767 | ... | X269.089_0.42 | X527.851_2.856 | X467.802_2.661 | X169.472_2.754 | X190.983_2.978 | X269.913_2.601 | X269.913_2.654 | X217.425_2.737 | X227.936_2.695 | X104.031_5.837 |\n",
       "|---|---|---|---|---|---|---|---|---|---|---|---|---|---|---|---|---|---|---|---|---|\n",
       "| X506_Group1B_70dpi_LA_281_B_C7_P121.mzXML  | 506                                        | Group1B                                    | naive                                      | 70                                         | LA                                         | C7                                         | P121                                       | 0.1466899                                  | 0.04428373                                 | ...                                        | 0                                          | 0                                          | 0                                          | 0                                          | 0                                          | 0                                          | 0                                          | 0                                          | 0                                          | 0                                          |\n",
       "| X507_Group1B_70dpi_LA_282_B_C8_P121.mzXML  | 507                                        | Group1B                                    | naive                                      | 70                                         | LA                                         | C8                                         | P121                                       | 0.1256424                                  | 0.03097735                                 | ...                                        | 0                                          | 0                                          | 0                                          | 0                                          | 0                                          | 0                                          | 0                                          | 0                                          | 0                                          | 0                                          |\n",
       "| X508_Group1B_70dpi_LA_283_B_C9_P121.mzXML  | 508                                        | Group1B                                    | naive                                      | 70                                         | LA                                         | C9                                         | P121                                       | 0.1192797                                  | 0.05662307                                 | ...                                        | 0                                          | 0                                          | 0                                          | 0                                          | 0                                          | 0                                          | 0                                          | 0                                          | 0                                          | 0                                          |\n",
       "| X509_Group1B_70dpi_LA_284_B_C10_P121.mzXML | 509                                        | Group1B                                    | naive                                      | 70                                         | LA                                         | C10                                        | P121                                       | 0.0000000                                  | 0.01387367                                 | ...                                        | 0                                          | 0                                          | 0                                          | 0                                          | 0                                          | 0                                          | 0                                          | 0                                          | 0                                          | 0                                          |\n",
       "| X510_Group1B_70dpi_LA_285_B_C11_P121.mzXML | 510                                        | Group1B                                    | naive                                      | 70                                         | LA                                         | C11                                        | P121                                       | 0.1435631                                  | 0.02098561                                 | ...                                        | 0                                          | 0                                          | 0                                          | 0                                          | 0                                          | 0                                          | 0                                          | 0                                          | 0                                          | 0                                          |\n",
       "| X526_Group1B_70dpi_LA_286_B_C12_P121.mzXML | 526                                        | Group1B                                    | naive                                      | 70                                         | LA                                         | C12                                        | P121                                       | 0.1085324                                  | 0.01907468                                 | ...                                        | 0                                          | 0                                          | 0                                          | 0                                          | 0                                          | 0                                          | 0                                          | 0                                          | 0                                          | 0                                          |\n",
       "\n"
      ],
      "text/plain": [
       "  filename                                   MouseID Treatmentgroup status DPI\n",
       "1 X506_Group1B_70dpi_LA_281_B_C7_P121.mzXML  506     Group1B        naive  70 \n",
       "2 X507_Group1B_70dpi_LA_282_B_C8_P121.mzXML  507     Group1B        naive  70 \n",
       "3 X508_Group1B_70dpi_LA_283_B_C9_P121.mzXML  508     Group1B        naive  70 \n",
       "4 X509_Group1B_70dpi_LA_284_B_C10_P121.mzXML 509     Group1B        naive  70 \n",
       "5 X510_Group1B_70dpi_LA_285_B_C11_P121.mzXML 510     Group1B        naive  70 \n",
       "6 X526_Group1B_70dpi_LA_286_B_C12_P121.mzXML 526     Group1B        naive  70 \n",
       "  organ well_position plate X338.342_3.533 X387.181_2.767 ... X269.089_0.42\n",
       "1 LA    C7            P121  0.1466899      0.04428373     ... 0            \n",
       "2 LA    C8            P121  0.1256424      0.03097735     ... 0            \n",
       "3 LA    C9            P121  0.1192797      0.05662307     ... 0            \n",
       "4 LA    C10           P121  0.0000000      0.01387367     ... 0            \n",
       "5 LA    C11           P121  0.1435631      0.02098561     ... 0            \n",
       "6 LA    C12           P121  0.1085324      0.01907468     ... 0            \n",
       "  X527.851_2.856 X467.802_2.661 X169.472_2.754 X190.983_2.978 X269.913_2.601\n",
       "1 0              0              0              0              0             \n",
       "2 0              0              0              0              0             \n",
       "3 0              0              0              0              0             \n",
       "4 0              0              0              0              0             \n",
       "5 0              0              0              0              0             \n",
       "6 0              0              0              0              0             \n",
       "  X269.913_2.654 X217.425_2.737 X227.936_2.695 X104.031_5.837\n",
       "1 0              0              0              0             \n",
       "2 0              0              0              0             \n",
       "3 0              0              0              0             \n",
       "4 0              0              0              0             \n",
       "5 0              0              0              0             \n",
       "6 0              0              0              0             "
      ]
     },
     "metadata": {},
     "output_type": "display_data"
    },
    {
     "data": {
      "text/html": [
       "<ol class=list-inline>\n",
       "\t<li>30</li>\n",
       "\t<li>6724</li>\n",
       "</ol>\n"
      ],
      "text/latex": [
       "\\begin{enumerate*}\n",
       "\\item 30\n",
       "\\item 6724\n",
       "\\end{enumerate*}\n"
      ],
      "text/markdown": [
       "1. 30\n",
       "2. 6724\n",
       "\n",
       "\n"
      ],
      "text/plain": [
       "[1]   30 6724"
      ]
     },
     "metadata": {},
     "output_type": "display_data"
    }
   ],
   "source": [
    "data_file <- read.csv(\"03172021-LA-3B-1B-M-F.csv\", h = T, sep = \",\", dec = \".\" )\n",
    "head(data_file)\n",
    "dim(data_file)"
   ]
  },
  {
   "cell_type": "code",
   "execution_count": 28,
   "metadata": {},
   "outputs": [
    {
     "data": {
      "text/html": [
       "<table>\n",
       "<thead><tr><th scope=col>filename</th><th scope=col>MouseID</th><th scope=col>Treatmentgroup</th><th scope=col>status</th><th scope=col>DPI</th><th scope=col>organ</th><th scope=col>well_position</th><th scope=col>plate</th></tr></thead>\n",
       "<tbody>\n",
       "\t<tr><td>X506_Group1B_70dpi_LA_281_B_C7_P121.mzXML </td><td>506                                       </td><td>Group1B                                   </td><td>naive                                     </td><td>70                                        </td><td>LA                                        </td><td>C7                                        </td><td>P121                                      </td></tr>\n",
       "\t<tr><td>X507_Group1B_70dpi_LA_282_B_C8_P121.mzXML </td><td>507                                       </td><td>Group1B                                   </td><td>naive                                     </td><td>70                                        </td><td>LA                                        </td><td>C8                                        </td><td>P121                                      </td></tr>\n",
       "\t<tr><td>X508_Group1B_70dpi_LA_283_B_C9_P121.mzXML </td><td>508                                       </td><td>Group1B                                   </td><td>naive                                     </td><td>70                                        </td><td>LA                                        </td><td>C9                                        </td><td>P121                                      </td></tr>\n",
       "\t<tr><td>X509_Group1B_70dpi_LA_284_B_C10_P121.mzXML</td><td>509                                       </td><td>Group1B                                   </td><td>naive                                     </td><td>70                                        </td><td>LA                                        </td><td>C10                                       </td><td>P121                                      </td></tr>\n",
       "\t<tr><td>X510_Group1B_70dpi_LA_285_B_C11_P121.mzXML</td><td>510                                       </td><td>Group1B                                   </td><td>naive                                     </td><td>70                                        </td><td>LA                                        </td><td>C11                                       </td><td>P121                                      </td></tr>\n",
       "\t<tr><td>X526_Group1B_70dpi_LA_286_B_C12_P121.mzXML</td><td>526                                       </td><td>Group1B                                   </td><td>naive                                     </td><td>70                                        </td><td>LA                                        </td><td>C12                                       </td><td>P121                                      </td></tr>\n",
       "</tbody>\n",
       "</table>\n"
      ],
      "text/latex": [
       "\\begin{tabular}{r|llllllll}\n",
       " filename & MouseID & Treatmentgroup & status & DPI & organ & well\\_position & plate\\\\\n",
       "\\hline\n",
       "\t X506\\_Group1B\\_70dpi\\_LA\\_281\\_B\\_C7\\_P121.mzXML  & 506                                                      & Group1B                                                  & naive                                                    & 70                                                       & LA                                                       & C7                                                       & P121                                                    \\\\\n",
       "\t X507\\_Group1B\\_70dpi\\_LA\\_282\\_B\\_C8\\_P121.mzXML  & 507                                                      & Group1B                                                  & naive                                                    & 70                                                       & LA                                                       & C8                                                       & P121                                                    \\\\\n",
       "\t X508\\_Group1B\\_70dpi\\_LA\\_283\\_B\\_C9\\_P121.mzXML  & 508                                                      & Group1B                                                  & naive                                                    & 70                                                       & LA                                                       & C9                                                       & P121                                                    \\\\\n",
       "\t X509\\_Group1B\\_70dpi\\_LA\\_284\\_B\\_C10\\_P121.mzXML & 509                                                      & Group1B                                                  & naive                                                    & 70                                                       & LA                                                       & C10                                                      & P121                                                    \\\\\n",
       "\t X510\\_Group1B\\_70dpi\\_LA\\_285\\_B\\_C11\\_P121.mzXML & 510                                                      & Group1B                                                  & naive                                                    & 70                                                       & LA                                                       & C11                                                      & P121                                                    \\\\\n",
       "\t X526\\_Group1B\\_70dpi\\_LA\\_286\\_B\\_C12\\_P121.mzXML & 526                                                      & Group1B                                                  & naive                                                    & 70                                                       & LA                                                       & C12                                                      & P121                                                    \\\\\n",
       "\\end{tabular}\n"
      ],
      "text/markdown": [
       "\n",
       "| filename | MouseID | Treatmentgroup | status | DPI | organ | well_position | plate |\n",
       "|---|---|---|---|---|---|---|---|\n",
       "| X506_Group1B_70dpi_LA_281_B_C7_P121.mzXML  | 506                                        | Group1B                                    | naive                                      | 70                                         | LA                                         | C7                                         | P121                                       |\n",
       "| X507_Group1B_70dpi_LA_282_B_C8_P121.mzXML  | 507                                        | Group1B                                    | naive                                      | 70                                         | LA                                         | C8                                         | P121                                       |\n",
       "| X508_Group1B_70dpi_LA_283_B_C9_P121.mzXML  | 508                                        | Group1B                                    | naive                                      | 70                                         | LA                                         | C9                                         | P121                                       |\n",
       "| X509_Group1B_70dpi_LA_284_B_C10_P121.mzXML | 509                                        | Group1B                                    | naive                                      | 70                                         | LA                                         | C10                                        | P121                                       |\n",
       "| X510_Group1B_70dpi_LA_285_B_C11_P121.mzXML | 510                                        | Group1B                                    | naive                                      | 70                                         | LA                                         | C11                                        | P121                                       |\n",
       "| X526_Group1B_70dpi_LA_286_B_C12_P121.mzXML | 526                                        | Group1B                                    | naive                                      | 70                                         | LA                                         | C12                                        | P121                                       |\n",
       "\n"
      ],
      "text/plain": [
       "  filename                                   MouseID Treatmentgroup status DPI\n",
       "1 X506_Group1B_70dpi_LA_281_B_C7_P121.mzXML  506     Group1B        naive  70 \n",
       "2 X507_Group1B_70dpi_LA_282_B_C8_P121.mzXML  507     Group1B        naive  70 \n",
       "3 X508_Group1B_70dpi_LA_283_B_C9_P121.mzXML  508     Group1B        naive  70 \n",
       "4 X509_Group1B_70dpi_LA_284_B_C10_P121.mzXML 509     Group1B        naive  70 \n",
       "5 X510_Group1B_70dpi_LA_285_B_C11_P121.mzXML 510     Group1B        naive  70 \n",
       "6 X526_Group1B_70dpi_LA_286_B_C12_P121.mzXML 526     Group1B        naive  70 \n",
       "  organ well_position plate\n",
       "1 LA    C7            P121 \n",
       "2 LA    C8            P121 \n",
       "3 LA    C9            P121 \n",
       "4 LA    C10           P121 \n",
       "5 LA    C11           P121 \n",
       "6 LA    C12           P121 "
      ]
     },
     "metadata": {},
     "output_type": "display_data"
    },
    {
     "data": {
      "text/html": [
       "<ol class=list-inline>\n",
       "\t<li>30</li>\n",
       "\t<li>8</li>\n",
       "</ol>\n"
      ],
      "text/latex": [
       "\\begin{enumerate*}\n",
       "\\item 30\n",
       "\\item 8\n",
       "\\end{enumerate*}\n"
      ],
      "text/markdown": [
       "1. 30\n",
       "2. 8\n",
       "\n",
       "\n"
      ],
      "text/plain": [
       "[1] 30  8"
      ]
     },
     "metadata": {},
     "output_type": "display_data"
    },
    {
     "data": {
      "text/html": [
       "<table>\n",
       "<thead><tr><th scope=col>filename</th><th scope=col>X338.342_3.533</th><th scope=col>X387.181_2.767</th><th scope=col>X311.081_2.525</th><th scope=col>X228.196_2.71</th><th scope=col>X404.207_2.768</th><th scope=col>X496.341_2.926</th><th scope=col>X310.31_3.391</th><th scope=col>X228.196_3.321</th><th scope=col>X285.022_2.394</th><th scope=col>...</th><th scope=col>X269.089_0.42</th><th scope=col>X527.851_2.856</th><th scope=col>X467.802_2.661</th><th scope=col>X169.472_2.754</th><th scope=col>X190.983_2.978</th><th scope=col>X269.913_2.601</th><th scope=col>X269.913_2.654</th><th scope=col>X217.425_2.737</th><th scope=col>X227.936_2.695</th><th scope=col>X104.031_5.837</th></tr></thead>\n",
       "<tbody>\n",
       "\t<tr><td>X506_Group1B_70dpi_LA_281_B_C7_P121.mzXML </td><td>0.1466899                                 </td><td>0.04428373                                </td><td>0.017796526                               </td><td>0.008026427                               </td><td>0.012344091                               </td><td>0.03321280                                </td><td>0.05064952                                </td><td>0.02690237                                </td><td>0.007223784                               </td><td>...                                       </td><td>0                                         </td><td>0                                         </td><td>0                                         </td><td>0                                         </td><td>0                                         </td><td>0                                         </td><td>0                                         </td><td>0                                         </td><td>0                                         </td><td>0                                         </td></tr>\n",
       "\t<tr><td>X507_Group1B_70dpi_LA_282_B_C8_P121.mzXML </td><td>0.1256424                                 </td><td>0.03097735                                </td><td>0.010462979                               </td><td>0.010203029                               </td><td>0.009444842                               </td><td>0.05004033                                </td><td>0.03660960                                </td><td>0.02642823                                </td><td>0.004115872                               </td><td>...                                       </td><td>0                                         </td><td>0                                         </td><td>0                                         </td><td>0                                         </td><td>0                                         </td><td>0                                         </td><td>0                                         </td><td>0                                         </td><td>0                                         </td><td>0                                         </td></tr>\n",
       "\t<tr><td>X508_Group1B_70dpi_LA_283_B_C9_P121.mzXML </td><td>0.1192797                                 </td><td>0.05662307                                </td><td>0.022556403                               </td><td>0.019771662                               </td><td>0.014062943                               </td><td>0.03341689                                </td><td>0.03666576                                </td><td>0.02422725                                </td><td>0.023716712                               </td><td>...                                       </td><td>0                                         </td><td>0                                         </td><td>0                                         </td><td>0                                         </td><td>0                                         </td><td>0                                         </td><td>0                                         </td><td>0                                         </td><td>0                                         </td><td>0                                         </td></tr>\n",
       "\t<tr><td>X509_Group1B_70dpi_LA_284_B_C10_P121.mzXML</td><td>0.0000000                                 </td><td>0.01387367                                </td><td>0.003636883                               </td><td>0.000000000                               </td><td>0.004082822                               </td><td>0.00000000                                </td><td>0.01714389                                </td><td>0.01882855                                </td><td>0.002130599                               </td><td>...                                       </td><td>0                                         </td><td>0                                         </td><td>0                                         </td><td>0                                         </td><td>0                                         </td><td>0                                         </td><td>0                                         </td><td>0                                         </td><td>0                                         </td><td>0                                         </td></tr>\n",
       "\t<tr><td>X510_Group1B_70dpi_LA_285_B_C11_P121.mzXML</td><td>0.1435631                                 </td><td>0.02098561                                </td><td>0.009578046                               </td><td>0.016271916                               </td><td>0.006198825                               </td><td>0.00000000                                </td><td>0.04111027                                </td><td>0.03680552                                </td><td>0.006284920                               </td><td>...                                       </td><td>0                                         </td><td>0                                         </td><td>0                                         </td><td>0                                         </td><td>0                                         </td><td>0                                         </td><td>0                                         </td><td>0                                         </td><td>0                                         </td><td>0                                         </td></tr>\n",
       "\t<tr><td>X526_Group1B_70dpi_LA_286_B_C12_P121.mzXML</td><td>0.1085324                                 </td><td>0.01907468                                </td><td>0.014090576                               </td><td>0.010573754                               </td><td>0.006311646                               </td><td>0.05449909                                </td><td>0.02608503                                </td><td>0.02100777                                </td><td>0.006055454                               </td><td>...                                       </td><td>0                                         </td><td>0                                         </td><td>0                                         </td><td>0                                         </td><td>0                                         </td><td>0                                         </td><td>0                                         </td><td>0                                         </td><td>0                                         </td><td>0                                         </td></tr>\n",
       "</tbody>\n",
       "</table>\n"
      ],
      "text/latex": [
       "\\begin{tabular}{r|lllllllllllllllllllllllllllllllllllllllllllllllllllllllllllllllllllllllllllllllllllllllllllllllllllllllllllllllllllllllllllllllllllllllllllllllllllllllllllllllllllllllllllllllllllllllllllllllllllllllllllllllllllllllllllllllllllllllllllllllllllllllllllllllllllllllllllllllllllllllllllllllllllllllllllllllllllllllllllllllllllllllllllllllllllllllllllllllllllllllllllllllllllllllllllllllllllllllllllllllllllllllllllllllllllllllllllllllllllllllllllllllllllllllllllllllllllllllllllllllllllllllllllllllllllllllllllllllllllllllllllllllllllllllllllllllllllllllllllllllllllllllllllllllllllllllllllllllllllllllllllllllllllllllllllllllllllllllllllllllllllllllllllllllllllllllllllllllllllllllllllllllllllllllllllllllllllllllllllllllllllllllllllllllllllllllllllllllllllllllllllllllllllllllllllllllllllllllllllllllllllllllllllllllllllllllllllllllllllllllllllllllllllllllllllllllllllllllllllllllllllllllllllllllllllllllllllllllllllllllllllllllllllllllllllllllllllllllllllllllllllllllllllllllllllllllllllllllllllllllllllllllllllllllllllllllllllllllllllllllllllllllllllllllllllllllllllllllllllllllllllllllllllllllllllllllllllllllllllllllllllllllllllllllllllllllllllllllllllllllllllllllllllllllllllllllllllllllllllllllllllllllllllllllllllllllllllllllllllllllllllllllllllllllllllllllllllllllllllllllllllllllllllllllllllllllllllllllllllllllllllllllllllllllllllllllllllllllllllllllllllllllllllllllllllllllllllllllllllllllllllllllllllllllllllllllllllllllllllllllllllllllllllllllllllllllllllllllllllllllllllllllllllllllllllllllllllllllllllllllllllllllllllllllllllllllllllllllllllllllllllllllllllllllllllllllllllllllllllllllllllllllllllllllllllllllllllllllllllllllllllllllllllllllllllllllllllllllllllllllllllllllllllllllllllllllllllllllllllllllllllllllllllllllllllllllllllllllllllllllllllllllllllllllllllllllllllllllllllllllllllllllllllllllllllllllllllllllllllllllllllllllllllllllllllllllllllllllllllllllllllllllllllllllllllllllllllllllllllllllllllllllllllllllllllllllllllllllllllllllllllllllllllllllllllllllllllllllllllllllllllllllllllllllllllllllllllllllllllllllllllllllllllllllllllllllllllllllllllllllllllllllllllllllllllllllllllllllllllllllllllllllllllllllllllllllllllllllllllllllllllllllllllllllllllllllllllllllllllllllllllllllllllllllllllllllllllllllllllllllllllllllllllllllllllllllllllllllllllllllllllllllllllllllllllllllllllllllllllllllllllllllllllllllllllllllllllllllllllllllllllllllllllllllllllllllllllllllllllllllllllllllllllllllllllllllllllllllllllllllllllllllllllllllllllllllllllllllllllllllllllllllllllllllllllllllllllllllllllllllllllllllllllllllllllllllllllllllllllllllllllllllllllllllllllllllllllllllllllllllllllllllllllllllllllllllllllllllllllllllllllllllllllllllllllllllllllllllllllllllllllllllllllllllllllllllllllllllllllllllllllllllllllllllllllllllllllllllllllllllllllllllllllllllllllllllllllllllllllllllllllllllllllllllllllllllllllllllllllllllllllllllllllllllllllllllllllllllllllllllllllllllllllllllllllllllllllllllllllllllllllllllllllllllllllllllllllllllllllllllllllllllllllllllllllllllllllllllllllllllllllllllllllllllllllllllllllllllllllllllllllllllllllllllllllllllllllllllllllllllllllllllllllllllllllllllllllllllllllllllllllllllllllllllllllllllllllllllllllllllllllllllllllllllllllllllllllllllllllllllllllllllllllllllllllllllllllllllllllllllllllllllllllllllllllllllllllllllllllllllllllllllllllllllllllllllllllllllllllllllllllllllllllllllllllllllllllllllllllllllllllllllllllllllllllllllllllllllllllllllllllllllllllllllllllllllllllllllllllllllllllllllllllllllllllllllllllllllllllllllllllllllllllllllllllllllllllllllllllllllllllllllllllllllllllllllllllllllllllllllllllllllllllllllllllllllllllllllllllllllllllllllllllllllllllllllllllllllllllllllllllllllllllllllllllllllllllllllllllllllllllllllllllllllllllllllllllllllllllllllllllllllllllllllllllllllllllllllllllllllllllllllllllllllllllllllllllllllllllllllllllllllllllllllllllllllllllllllllllllllllllllllllllllllllllllllllllllllllllllllllllllllllllllllllllllllllllllllllllllllllllllllllllllllllllllllllllllllllllllllllllllllllllllllllllllllllllllllllllllllllllllllllllllllllllllllllllllllllllllllllllllllllllllllllllllllllllllllllllllllllllllllllllllllllllllllllllllllllllllllllllllllllllllllllllllllllllllllllllllllllllllllllllllllllllllllllllllllllllllllllllllllllllllllllllllllllllllllllllllllllllllllllllllllllllllllllllllllllllllllllllllllllllllllllllllllllllllllllllllllllllllllllllllllllllllllllllllllllllllllllllllllllllllllllllllllllllllllllllllllllllllllllllllllllllllllllllllllllllllllllllllllllllllllllllllllllllllllllllllllllllllllllllllllllllllllllllllllllllllllllllllllllllllllllllllllllllllllllllllllllllllllllllllllllllllllllllllllllllllllllllllllllllllllllllllllllllllllllllllllllllllllllllllllllllllllllllllllllllllllllllllllllllllllllllllllllllllllllllllllllllllllllllllllllllllllllllllllllllllllllllllllllllllllllllllllllllllllllllllllllllllllllllllllllllllllllllllllllllllllllllllllllllllllllllllllllllllllllllllllllllllllllllllllllllllllllllllllllllllllllllllllllllllllllllllllllllllllllllllllllllllllllllllllllllllllllllllllllllllllllllllllllllllllllllllllllllllllllllllllllllllllllllllllllllllllllllllllllllllllllllllllllllllllllllllllllllllllllllllllllllllllllllllllllllllllllllllllllllllllllllllllllllllllllllllllllllllllllllllllllllllllllllllllllllllllllllllllllllllllllllllllllllllllllllllllllllllllllllllllllllllllllllllllllllllllllllllllllllllllllllllllllllllllllllllllllllllllllllllllllllllllllllllllllllllllllllllllllllllllllllllllllllllllllllllllllllllllllllllllllllllllllllllllllllllllllllllllllllllllllllllllllllllllllllllllllllllllllllllllllllllllllllllllllllllllllllllllllllllllllllllllllllllllllllllllllllllllllllllllllllllllllllllllllllllllllllllllllllllllllllllllllllllllllllllllllllllllllllllllllllllllllllllllllllllllllllllllllllllllllllllllllllllllllllllllllllllllllllllllllllllllllllllllllllllllllllllllllllllllllllllllllllllllllllllllllllllllllllllllllllllllllllllllllllllllllllllllllllllllllllllllllllllllllllllllllllllllllllllllllllllllllllllllllllllllllllllllllllllllllllllllllllllllllllllllllllllllllllllllllllllllllllllllllllllllllllllllllllllllllllllllllllllllllllllllllllllllllllllllllllllllllllllllllllllllllllllllllllllllllllllllllllllllllllllllllllllllllllllllllllllllllllllllllllllllllllllllllllllllllllllllllllllllllllllllllllllllllllllllllllllllllllllllllllllllllllllllllllllllllllllllllllllllllllllllllllllllllllllllllllllllllllllllllllllllllllllllllllllllllllllllllllllllllllllllllllllllllllllllllllllllllllllllllllllllllllllllllllllllllllllllllllllllllllllllllllllllllllllllllllllllllllllllllllllllllllllllllllllllllllllllllllllllllllllllllllllllllllllllllllllllllllllllllllllllllllllllllllllllllllllllllllllllllllllllllllllllllllllllllllllllllllllllllllllllllllllllllllllllllllllllllllllllllllllllllllllllllllll}\n",
       " filename & X338.342\\_3.533 & X387.181\\_2.767 & X311.081\\_2.525 & X228.196\\_2.71 & X404.207\\_2.768 & X496.341\\_2.926 & X310.31\\_3.391 & X228.196\\_3.321 & X285.022\\_2.394 & ... & X269.089\\_0.42 & X527.851\\_2.856 & X467.802\\_2.661 & X169.472\\_2.754 & X190.983\\_2.978 & X269.913\\_2.601 & X269.913\\_2.654 & X217.425\\_2.737 & X227.936\\_2.695 & X104.031\\_5.837\\\\\n",
       "\\hline\n",
       "\t X506\\_Group1B\\_70dpi\\_LA\\_281\\_B\\_C7\\_P121.mzXML  & 0.1466899                                                & 0.04428373                                               & 0.017796526                                              & 0.008026427                                              & 0.012344091                                              & 0.03321280                                               & 0.05064952                                               & 0.02690237                                               & 0.007223784                                              & ...                                                      & 0                                                        & 0                                                        & 0                                                        & 0                                                        & 0                                                        & 0                                                        & 0                                                        & 0                                                        & 0                                                        & 0                                                       \\\\\n",
       "\t X507\\_Group1B\\_70dpi\\_LA\\_282\\_B\\_C8\\_P121.mzXML  & 0.1256424                                                & 0.03097735                                               & 0.010462979                                              & 0.010203029                                              & 0.009444842                                              & 0.05004033                                               & 0.03660960                                               & 0.02642823                                               & 0.004115872                                              & ...                                                      & 0                                                        & 0                                                        & 0                                                        & 0                                                        & 0                                                        & 0                                                        & 0                                                        & 0                                                        & 0                                                        & 0                                                       \\\\\n",
       "\t X508\\_Group1B\\_70dpi\\_LA\\_283\\_B\\_C9\\_P121.mzXML  & 0.1192797                                                & 0.05662307                                               & 0.022556403                                              & 0.019771662                                              & 0.014062943                                              & 0.03341689                                               & 0.03666576                                               & 0.02422725                                               & 0.023716712                                              & ...                                                      & 0                                                        & 0                                                        & 0                                                        & 0                                                        & 0                                                        & 0                                                        & 0                                                        & 0                                                        & 0                                                        & 0                                                       \\\\\n",
       "\t X509\\_Group1B\\_70dpi\\_LA\\_284\\_B\\_C10\\_P121.mzXML & 0.0000000                                                & 0.01387367                                               & 0.003636883                                              & 0.000000000                                              & 0.004082822                                              & 0.00000000                                               & 0.01714389                                               & 0.01882855                                               & 0.002130599                                              & ...                                                      & 0                                                        & 0                                                        & 0                                                        & 0                                                        & 0                                                        & 0                                                        & 0                                                        & 0                                                        & 0                                                        & 0                                                       \\\\\n",
       "\t X510\\_Group1B\\_70dpi\\_LA\\_285\\_B\\_C11\\_P121.mzXML & 0.1435631                                                & 0.02098561                                               & 0.009578046                                              & 0.016271916                                              & 0.006198825                                              & 0.00000000                                               & 0.04111027                                               & 0.03680552                                               & 0.006284920                                              & ...                                                      & 0                                                        & 0                                                        & 0                                                        & 0                                                        & 0                                                        & 0                                                        & 0                                                        & 0                                                        & 0                                                        & 0                                                       \\\\\n",
       "\t X526\\_Group1B\\_70dpi\\_LA\\_286\\_B\\_C12\\_P121.mzXML & 0.1085324                                                & 0.01907468                                               & 0.014090576                                              & 0.010573754                                              & 0.006311646                                              & 0.05449909                                               & 0.02608503                                               & 0.02100777                                               & 0.006055454                                              & ...                                                      & 0                                                        & 0                                                        & 0                                                        & 0                                                        & 0                                                        & 0                                                        & 0                                                        & 0                                                        & 0                                                        & 0                                                       \\\\\n",
       "\\end{tabular}\n"
      ],
      "text/markdown": [
       "\n",
       "| filename | X338.342_3.533 | X387.181_2.767 | X311.081_2.525 | X228.196_2.71 | X404.207_2.768 | X496.341_2.926 | X310.31_3.391 | X228.196_3.321 | X285.022_2.394 | ... | X269.089_0.42 | X527.851_2.856 | X467.802_2.661 | X169.472_2.754 | X190.983_2.978 | X269.913_2.601 | X269.913_2.654 | X217.425_2.737 | X227.936_2.695 | X104.031_5.837 |\n",
       "|---|---|---|---|---|---|---|---|---|---|---|---|---|---|---|---|---|---|---|---|---|\n",
       "| X506_Group1B_70dpi_LA_281_B_C7_P121.mzXML  | 0.1466899                                  | 0.04428373                                 | 0.017796526                                | 0.008026427                                | 0.012344091                                | 0.03321280                                 | 0.05064952                                 | 0.02690237                                 | 0.007223784                                | ...                                        | 0                                          | 0                                          | 0                                          | 0                                          | 0                                          | 0                                          | 0                                          | 0                                          | 0                                          | 0                                          |\n",
       "| X507_Group1B_70dpi_LA_282_B_C8_P121.mzXML  | 0.1256424                                  | 0.03097735                                 | 0.010462979                                | 0.010203029                                | 0.009444842                                | 0.05004033                                 | 0.03660960                                 | 0.02642823                                 | 0.004115872                                | ...                                        | 0                                          | 0                                          | 0                                          | 0                                          | 0                                          | 0                                          | 0                                          | 0                                          | 0                                          | 0                                          |\n",
       "| X508_Group1B_70dpi_LA_283_B_C9_P121.mzXML  | 0.1192797                                  | 0.05662307                                 | 0.022556403                                | 0.019771662                                | 0.014062943                                | 0.03341689                                 | 0.03666576                                 | 0.02422725                                 | 0.023716712                                | ...                                        | 0                                          | 0                                          | 0                                          | 0                                          | 0                                          | 0                                          | 0                                          | 0                                          | 0                                          | 0                                          |\n",
       "| X509_Group1B_70dpi_LA_284_B_C10_P121.mzXML | 0.0000000                                  | 0.01387367                                 | 0.003636883                                | 0.000000000                                | 0.004082822                                | 0.00000000                                 | 0.01714389                                 | 0.01882855                                 | 0.002130599                                | ...                                        | 0                                          | 0                                          | 0                                          | 0                                          | 0                                          | 0                                          | 0                                          | 0                                          | 0                                          | 0                                          |\n",
       "| X510_Group1B_70dpi_LA_285_B_C11_P121.mzXML | 0.1435631                                  | 0.02098561                                 | 0.009578046                                | 0.016271916                                | 0.006198825                                | 0.00000000                                 | 0.04111027                                 | 0.03680552                                 | 0.006284920                                | ...                                        | 0                                          | 0                                          | 0                                          | 0                                          | 0                                          | 0                                          | 0                                          | 0                                          | 0                                          | 0                                          |\n",
       "| X526_Group1B_70dpi_LA_286_B_C12_P121.mzXML | 0.1085324                                  | 0.01907468                                 | 0.014090576                                | 0.010573754                                | 0.006311646                                | 0.05449909                                 | 0.02608503                                 | 0.02100777                                 | 0.006055454                                | ...                                        | 0                                          | 0                                          | 0                                          | 0                                          | 0                                          | 0                                          | 0                                          | 0                                          | 0                                          | 0                                          |\n",
       "\n"
      ],
      "text/plain": [
       "  filename                                   X338.342_3.533 X387.181_2.767\n",
       "1 X506_Group1B_70dpi_LA_281_B_C7_P121.mzXML  0.1466899      0.04428373    \n",
       "2 X507_Group1B_70dpi_LA_282_B_C8_P121.mzXML  0.1256424      0.03097735    \n",
       "3 X508_Group1B_70dpi_LA_283_B_C9_P121.mzXML  0.1192797      0.05662307    \n",
       "4 X509_Group1B_70dpi_LA_284_B_C10_P121.mzXML 0.0000000      0.01387367    \n",
       "5 X510_Group1B_70dpi_LA_285_B_C11_P121.mzXML 0.1435631      0.02098561    \n",
       "6 X526_Group1B_70dpi_LA_286_B_C12_P121.mzXML 0.1085324      0.01907468    \n",
       "  X311.081_2.525 X228.196_2.71 X404.207_2.768 X496.341_2.926 X310.31_3.391\n",
       "1 0.017796526    0.008026427   0.012344091    0.03321280     0.05064952   \n",
       "2 0.010462979    0.010203029   0.009444842    0.05004033     0.03660960   \n",
       "3 0.022556403    0.019771662   0.014062943    0.03341689     0.03666576   \n",
       "4 0.003636883    0.000000000   0.004082822    0.00000000     0.01714389   \n",
       "5 0.009578046    0.016271916   0.006198825    0.00000000     0.04111027   \n",
       "6 0.014090576    0.010573754   0.006311646    0.05449909     0.02608503   \n",
       "  X228.196_3.321 X285.022_2.394 ... X269.089_0.42 X527.851_2.856 X467.802_2.661\n",
       "1 0.02690237     0.007223784    ... 0             0              0             \n",
       "2 0.02642823     0.004115872    ... 0             0              0             \n",
       "3 0.02422725     0.023716712    ... 0             0              0             \n",
       "4 0.01882855     0.002130599    ... 0             0              0             \n",
       "5 0.03680552     0.006284920    ... 0             0              0             \n",
       "6 0.02100777     0.006055454    ... 0             0              0             \n",
       "  X169.472_2.754 X190.983_2.978 X269.913_2.601 X269.913_2.654 X217.425_2.737\n",
       "1 0              0              0              0              0             \n",
       "2 0              0              0              0              0             \n",
       "3 0              0              0              0              0             \n",
       "4 0              0              0              0              0             \n",
       "5 0              0              0              0              0             \n",
       "6 0              0              0              0              0             \n",
       "  X227.936_2.695 X104.031_5.837\n",
       "1 0              0             \n",
       "2 0              0             \n",
       "3 0              0             \n",
       "4 0              0             \n",
       "5 0              0             \n",
       "6 0              0             "
      ]
     },
     "metadata": {},
     "output_type": "display_data"
    },
    {
     "data": {
      "text/html": [
       "<ol class=list-inline>\n",
       "\t<li>30</li>\n",
       "\t<li>6717</li>\n",
       "</ol>\n"
      ],
      "text/latex": [
       "\\begin{enumerate*}\n",
       "\\item 30\n",
       "\\item 6717\n",
       "\\end{enumerate*}\n"
      ],
      "text/markdown": [
       "1. 30\n",
       "2. 6717\n",
       "\n",
       "\n"
      ],
      "text/plain": [
       "[1]   30 6717"
      ]
     },
     "metadata": {},
     "output_type": "display_data"
    }
   ],
   "source": [
    "metadata = data_file[,c(1:8)]\n",
    "feature_table = data_file[ ,c(1, 9:6724)]\n",
    "\n",
    "head(metadata)\n",
    "dim(metadata)\n",
    "\n",
    "head(feature_table)\n",
    "dim(feature_table)"
   ]
  },
  {
   "cell_type": "code",
   "execution_count": 29,
   "metadata": {},
   "outputs": [
    {
     "data": {
      "text/html": [
       "<table>\n",
       "<tbody>\n",
       "\t<tr><th scope=row>filename</th><td>X506_Group1B_70dpi_LA_281_B_C7_P121.mzXML </td><td>X507_Group1B_70dpi_LA_282_B_C8_P121.mzXML </td><td>X508_Group1B_70dpi_LA_283_B_C9_P121.mzXML </td><td>X509_Group1B_70dpi_LA_284_B_C10_P121.mzXML</td><td>X510_Group1B_70dpi_LA_285_B_C11_P121.mzXML</td><td>X526_Group1B_70dpi_LA_286_B_C12_P121.mzXML</td><td>X527_Group1B_70dpi_LA_287_B_D1_P121.mzXML </td><td>X528_Group1B_70dpi_LA_288_B_D2_P121.mzXML </td><td>X529_Group1B_70dpi_LA_289_B_D3_P121.mzXML </td><td>X530_Group1B_70dpi_LA_290_B_D4_P121.mzXML </td><td>...                                       </td><td>X651_Group3B_70dpi_LA_301_B_E3_P121.mzXML </td><td>X652_Group3B_70dpi_LA_302_B_E4_P121.mzXML </td><td>X653_Group3B_70dpi_LA_303_B_E5_P121.mzXML </td><td>X654_Group3B_70dpi_LA_304_B_E6_P121.mzXML </td><td>X655_Group3B_70dpi_LA_305_B_E7_P121.mzXML </td><td>X736_Group3B_70dpi_LA_306_B_E8_P121.mzXML </td><td>X737_Group3B_70dpi_LA_307_B_E9_P121.mzXML </td><td>X738_Group3B_70dpi_LA_308_B_E10_P121.mzXML</td><td>X739_Group3B_70dpi_LA_309_B_E11_P121.mzXML</td><td>X740_Group3B_70dpi_LA_310_B_E12_P121.mzXML</td></tr>\n",
       "\t<tr><th scope=row>X338.342_3.533</th><td>0.146689873                               </td><td>0.125642397                               </td><td>0.119279746                               </td><td>0.000000000                               </td><td>0.143563071                               </td><td>0.108532369                               </td><td>0.127097276                               </td><td>0.152140541                               </td><td>0.116011593                               </td><td>0.117462816                               </td><td>...                                       </td><td>0.000000000                               </td><td>0.046204880                               </td><td>0.036369590                               </td><td>0.029148014                               </td><td>0.043128201                               </td><td>0.000000000                               </td><td>0.000000000                               </td><td>0.000000000                               </td><td>0.000000000                               </td><td>0.000000000                               </td></tr>\n",
       "\t<tr><th scope=row>X387.181_2.767</th><td>0.044283735                               </td><td>0.030977350                               </td><td>0.056623070                               </td><td>0.013873667                               </td><td>0.020985606                               </td><td>0.019074680                               </td><td>0.010209453                               </td><td>0.011668299                               </td><td>0.020639078                               </td><td>0.030506703                               </td><td>...                                       </td><td>0.014563032                               </td><td>0.044530790                               </td><td>0.040707247                               </td><td>0.049165324                               </td><td>0.064478796                               </td><td>0.066003519                               </td><td>0.013383953                               </td><td>0.014859473                               </td><td>0.030773161                               </td><td>0.026471714                               </td></tr>\n",
       "\t<tr><th scope=row>X311.081_2.525</th><td>0.017796526                               </td><td>0.010462979                               </td><td>0.022556403                               </td><td>0.003636883                               </td><td>0.009578046                               </td><td>0.014090576                               </td><td>0.009376029                               </td><td>0.006047901                               </td><td>0.007723010                               </td><td>0.013523838                               </td><td>...                                       </td><td>0.016660588                               </td><td>0.017745352                               </td><td>0.016549832                               </td><td>0.015481224                               </td><td>0.024339678                               </td><td>0.019344649                               </td><td>0.010504975                               </td><td>0.014286954                               </td><td>0.013136006                               </td><td>0.016842821                               </td></tr>\n",
       "\t<tr><th scope=row>X228.196_2.71</th><td>0.008026427                               </td><td>0.010203029                               </td><td>0.019771662                               </td><td>0.000000000                               </td><td>0.016271916                               </td><td>0.010573754                               </td><td>0.013109077                               </td><td>0.000000000                               </td><td>0.009620474                               </td><td>0.008359317                               </td><td>...                                       </td><td>0.014832718                               </td><td>0.021260941                               </td><td>0.032165399                               </td><td>0.011413379                               </td><td>0.013408173                               </td><td>0.021064953                               </td><td>0.006966688                               </td><td>0.011034004                               </td><td>0.000000000                               </td><td>0.016842821                               </td></tr>\n",
       "\t<tr><th scope=row>X404.207_2.768</th><td>0.012344091                               </td><td>0.009444842                               </td><td>0.014062943                               </td><td>0.004082822                               </td><td>0.006198825                               </td><td>0.006311646                               </td><td>0.003160069                               </td><td>0.003357151                               </td><td>0.005709035                               </td><td>0.007302392                               </td><td>...                                       </td><td>0.004554693                               </td><td>0.011249884                               </td><td>0.012045341                               </td><td>0.011032933                               </td><td>0.016397257                               </td><td>0.015868931                               </td><td>0.004043756                               </td><td>0.004033657                               </td><td>0.009392704                               </td><td>0.008111800                               </td></tr>\n",
       "</tbody>\n",
       "</table>\n"
      ],
      "text/latex": [
       "\\begin{tabular}{r|llllllllllllllllllllllllllllll}\n",
       "\tfilename & X506\\_Group1B\\_70dpi\\_LA\\_281\\_B\\_C7\\_P121.mzXML  & X507\\_Group1B\\_70dpi\\_LA\\_282\\_B\\_C8\\_P121.mzXML  & X508\\_Group1B\\_70dpi\\_LA\\_283\\_B\\_C9\\_P121.mzXML  & X509\\_Group1B\\_70dpi\\_LA\\_284\\_B\\_C10\\_P121.mzXML & X510\\_Group1B\\_70dpi\\_LA\\_285\\_B\\_C11\\_P121.mzXML & X526\\_Group1B\\_70dpi\\_LA\\_286\\_B\\_C12\\_P121.mzXML & X527\\_Group1B\\_70dpi\\_LA\\_287\\_B\\_D1\\_P121.mzXML  & X528\\_Group1B\\_70dpi\\_LA\\_288\\_B\\_D2\\_P121.mzXML  & X529\\_Group1B\\_70dpi\\_LA\\_289\\_B\\_D3\\_P121.mzXML  & X530\\_Group1B\\_70dpi\\_LA\\_290\\_B\\_D4\\_P121.mzXML  & ...                                                      & X651\\_Group3B\\_70dpi\\_LA\\_301\\_B\\_E3\\_P121.mzXML  & X652\\_Group3B\\_70dpi\\_LA\\_302\\_B\\_E4\\_P121.mzXML  & X653\\_Group3B\\_70dpi\\_LA\\_303\\_B\\_E5\\_P121.mzXML  & X654\\_Group3B\\_70dpi\\_LA\\_304\\_B\\_E6\\_P121.mzXML  & X655\\_Group3B\\_70dpi\\_LA\\_305\\_B\\_E7\\_P121.mzXML  & X736\\_Group3B\\_70dpi\\_LA\\_306\\_B\\_E8\\_P121.mzXML  & X737\\_Group3B\\_70dpi\\_LA\\_307\\_B\\_E9\\_P121.mzXML  & X738\\_Group3B\\_70dpi\\_LA\\_308\\_B\\_E10\\_P121.mzXML & X739\\_Group3B\\_70dpi\\_LA\\_309\\_B\\_E11\\_P121.mzXML & X740\\_Group3B\\_70dpi\\_LA\\_310\\_B\\_E12\\_P121.mzXML\\\\\n",
       "\tX338.342\\_3.533 & 0.146689873                                & 0.125642397                                & 0.119279746                                & 0.000000000                                & 0.143563071                                & 0.108532369                                & 0.127097276                                & 0.152140541                                & 0.116011593                                & 0.117462816                                & ...                                        & 0.000000000                                & 0.046204880                                & 0.036369590                                & 0.029148014                                & 0.043128201                                & 0.000000000                                & 0.000000000                                & 0.000000000                                & 0.000000000                                & 0.000000000                               \\\\\n",
       "\tX387.181\\_2.767 & 0.044283735                                & 0.030977350                                & 0.056623070                                & 0.013873667                                & 0.020985606                                & 0.019074680                                & 0.010209453                                & 0.011668299                                & 0.020639078                                & 0.030506703                                & ...                                        & 0.014563032                                & 0.044530790                                & 0.040707247                                & 0.049165324                                & 0.064478796                                & 0.066003519                                & 0.013383953                                & 0.014859473                                & 0.030773161                                & 0.026471714                               \\\\\n",
       "\tX311.081\\_2.525 & 0.017796526                                & 0.010462979                                & 0.022556403                                & 0.003636883                                & 0.009578046                                & 0.014090576                                & 0.009376029                                & 0.006047901                                & 0.007723010                                & 0.013523838                                & ...                                        & 0.016660588                                & 0.017745352                                & 0.016549832                                & 0.015481224                                & 0.024339678                                & 0.019344649                                & 0.010504975                                & 0.014286954                                & 0.013136006                                & 0.016842821                               \\\\\n",
       "\tX228.196\\_2.71 & 0.008026427                                & 0.010203029                                & 0.019771662                                & 0.000000000                                & 0.016271916                                & 0.010573754                                & 0.013109077                                & 0.000000000                                & 0.009620474                                & 0.008359317                                & ...                                        & 0.014832718                                & 0.021260941                                & 0.032165399                                & 0.011413379                                & 0.013408173                                & 0.021064953                                & 0.006966688                                & 0.011034004                                & 0.000000000                                & 0.016842821                               \\\\\n",
       "\tX404.207\\_2.768 & 0.012344091                                & 0.009444842                                & 0.014062943                                & 0.004082822                                & 0.006198825                                & 0.006311646                                & 0.003160069                                & 0.003357151                                & 0.005709035                                & 0.007302392                                & ...                                        & 0.004554693                                & 0.011249884                                & 0.012045341                                & 0.011032933                                & 0.016397257                                & 0.015868931                                & 0.004043756                                & 0.004033657                                & 0.009392704                                & 0.008111800                               \\\\\n",
       "\\end{tabular}\n"
      ],
      "text/markdown": [
       "\n",
       "| filename | X506_Group1B_70dpi_LA_281_B_C7_P121.mzXML  | X507_Group1B_70dpi_LA_282_B_C8_P121.mzXML  | X508_Group1B_70dpi_LA_283_B_C9_P121.mzXML  | X509_Group1B_70dpi_LA_284_B_C10_P121.mzXML | X510_Group1B_70dpi_LA_285_B_C11_P121.mzXML | X526_Group1B_70dpi_LA_286_B_C12_P121.mzXML | X527_Group1B_70dpi_LA_287_B_D1_P121.mzXML  | X528_Group1B_70dpi_LA_288_B_D2_P121.mzXML  | X529_Group1B_70dpi_LA_289_B_D3_P121.mzXML  | X530_Group1B_70dpi_LA_290_B_D4_P121.mzXML  | ...                                        | X651_Group3B_70dpi_LA_301_B_E3_P121.mzXML  | X652_Group3B_70dpi_LA_302_B_E4_P121.mzXML  | X653_Group3B_70dpi_LA_303_B_E5_P121.mzXML  | X654_Group3B_70dpi_LA_304_B_E6_P121.mzXML  | X655_Group3B_70dpi_LA_305_B_E7_P121.mzXML  | X736_Group3B_70dpi_LA_306_B_E8_P121.mzXML  | X737_Group3B_70dpi_LA_307_B_E9_P121.mzXML  | X738_Group3B_70dpi_LA_308_B_E10_P121.mzXML | X739_Group3B_70dpi_LA_309_B_E11_P121.mzXML | X740_Group3B_70dpi_LA_310_B_E12_P121.mzXML |\n",
       "| X338.342_3.533 | 0.146689873                                | 0.125642397                                | 0.119279746                                | 0.000000000                                | 0.143563071                                | 0.108532369                                | 0.127097276                                | 0.152140541                                | 0.116011593                                | 0.117462816                                | ...                                        | 0.000000000                                | 0.046204880                                | 0.036369590                                | 0.029148014                                | 0.043128201                                | 0.000000000                                | 0.000000000                                | 0.000000000                                | 0.000000000                                | 0.000000000                                |\n",
       "| X387.181_2.767 | 0.044283735                                | 0.030977350                                | 0.056623070                                | 0.013873667                                | 0.020985606                                | 0.019074680                                | 0.010209453                                | 0.011668299                                | 0.020639078                                | 0.030506703                                | ...                                        | 0.014563032                                | 0.044530790                                | 0.040707247                                | 0.049165324                                | 0.064478796                                | 0.066003519                                | 0.013383953                                | 0.014859473                                | 0.030773161                                | 0.026471714                                |\n",
       "| X311.081_2.525 | 0.017796526                                | 0.010462979                                | 0.022556403                                | 0.003636883                                | 0.009578046                                | 0.014090576                                | 0.009376029                                | 0.006047901                                | 0.007723010                                | 0.013523838                                | ...                                        | 0.016660588                                | 0.017745352                                | 0.016549832                                | 0.015481224                                | 0.024339678                                | 0.019344649                                | 0.010504975                                | 0.014286954                                | 0.013136006                                | 0.016842821                                |\n",
       "| X228.196_2.71 | 0.008026427                                | 0.010203029                                | 0.019771662                                | 0.000000000                                | 0.016271916                                | 0.010573754                                | 0.013109077                                | 0.000000000                                | 0.009620474                                | 0.008359317                                | ...                                        | 0.014832718                                | 0.021260941                                | 0.032165399                                | 0.011413379                                | 0.013408173                                | 0.021064953                                | 0.006966688                                | 0.011034004                                | 0.000000000                                | 0.016842821                                |\n",
       "| X404.207_2.768 | 0.012344091                                | 0.009444842                                | 0.014062943                                | 0.004082822                                | 0.006198825                                | 0.006311646                                | 0.003160069                                | 0.003357151                                | 0.005709035                                | 0.007302392                                | ...                                        | 0.004554693                                | 0.011249884                                | 0.012045341                                | 0.011032933                                | 0.016397257                                | 0.015868931                                | 0.004043756                                | 0.004033657                                | 0.009392704                                | 0.008111800                                |\n",
       "\n"
      ],
      "text/plain": [
       "               [,1]                                     \n",
       "filename       X506_Group1B_70dpi_LA_281_B_C7_P121.mzXML\n",
       "X338.342_3.533 0.146689873                              \n",
       "X387.181_2.767 0.044283735                              \n",
       "X311.081_2.525 0.017796526                              \n",
       "X228.196_2.71  0.008026427                              \n",
       "X404.207_2.768 0.012344091                              \n",
       "               [,2]                                     \n",
       "filename       X507_Group1B_70dpi_LA_282_B_C8_P121.mzXML\n",
       "X338.342_3.533 0.125642397                              \n",
       "X387.181_2.767 0.030977350                              \n",
       "X311.081_2.525 0.010462979                              \n",
       "X228.196_2.71  0.010203029                              \n",
       "X404.207_2.768 0.009444842                              \n",
       "               [,3]                                     \n",
       "filename       X508_Group1B_70dpi_LA_283_B_C9_P121.mzXML\n",
       "X338.342_3.533 0.119279746                              \n",
       "X387.181_2.767 0.056623070                              \n",
       "X311.081_2.525 0.022556403                              \n",
       "X228.196_2.71  0.019771662                              \n",
       "X404.207_2.768 0.014062943                              \n",
       "               [,4]                                      \n",
       "filename       X509_Group1B_70dpi_LA_284_B_C10_P121.mzXML\n",
       "X338.342_3.533 0.000000000                               \n",
       "X387.181_2.767 0.013873667                               \n",
       "X311.081_2.525 0.003636883                               \n",
       "X228.196_2.71  0.000000000                               \n",
       "X404.207_2.768 0.004082822                               \n",
       "               [,5]                                      \n",
       "filename       X510_Group1B_70dpi_LA_285_B_C11_P121.mzXML\n",
       "X338.342_3.533 0.143563071                               \n",
       "X387.181_2.767 0.020985606                               \n",
       "X311.081_2.525 0.009578046                               \n",
       "X228.196_2.71  0.016271916                               \n",
       "X404.207_2.768 0.006198825                               \n",
       "               [,6]                                      \n",
       "filename       X526_Group1B_70dpi_LA_286_B_C12_P121.mzXML\n",
       "X338.342_3.533 0.108532369                               \n",
       "X387.181_2.767 0.019074680                               \n",
       "X311.081_2.525 0.014090576                               \n",
       "X228.196_2.71  0.010573754                               \n",
       "X404.207_2.768 0.006311646                               \n",
       "               [,7]                                     \n",
       "filename       X527_Group1B_70dpi_LA_287_B_D1_P121.mzXML\n",
       "X338.342_3.533 0.127097276                              \n",
       "X387.181_2.767 0.010209453                              \n",
       "X311.081_2.525 0.009376029                              \n",
       "X228.196_2.71  0.013109077                              \n",
       "X404.207_2.768 0.003160069                              \n",
       "               [,8]                                     \n",
       "filename       X528_Group1B_70dpi_LA_288_B_D2_P121.mzXML\n",
       "X338.342_3.533 0.152140541                              \n",
       "X387.181_2.767 0.011668299                              \n",
       "X311.081_2.525 0.006047901                              \n",
       "X228.196_2.71  0.000000000                              \n",
       "X404.207_2.768 0.003357151                              \n",
       "               [,9]                                     \n",
       "filename       X529_Group1B_70dpi_LA_289_B_D3_P121.mzXML\n",
       "X338.342_3.533 0.116011593                              \n",
       "X387.181_2.767 0.020639078                              \n",
       "X311.081_2.525 0.007723010                              \n",
       "X228.196_2.71  0.009620474                              \n",
       "X404.207_2.768 0.005709035                              \n",
       "               [,10]                                     [,11]\n",
       "filename       X530_Group1B_70dpi_LA_290_B_D4_P121.mzXML ...  \n",
       "X338.342_3.533 0.117462816                               ...  \n",
       "X387.181_2.767 0.030506703                               ...  \n",
       "X311.081_2.525 0.013523838                               ...  \n",
       "X228.196_2.71  0.008359317                               ...  \n",
       "X404.207_2.768 0.007302392                               ...  \n",
       "               [,12]                                    \n",
       "filename       X651_Group3B_70dpi_LA_301_B_E3_P121.mzXML\n",
       "X338.342_3.533 0.000000000                              \n",
       "X387.181_2.767 0.014563032                              \n",
       "X311.081_2.525 0.016660588                              \n",
       "X228.196_2.71  0.014832718                              \n",
       "X404.207_2.768 0.004554693                              \n",
       "               [,13]                                    \n",
       "filename       X652_Group3B_70dpi_LA_302_B_E4_P121.mzXML\n",
       "X338.342_3.533 0.046204880                              \n",
       "X387.181_2.767 0.044530790                              \n",
       "X311.081_2.525 0.017745352                              \n",
       "X228.196_2.71  0.021260941                              \n",
       "X404.207_2.768 0.011249884                              \n",
       "               [,14]                                    \n",
       "filename       X653_Group3B_70dpi_LA_303_B_E5_P121.mzXML\n",
       "X338.342_3.533 0.036369590                              \n",
       "X387.181_2.767 0.040707247                              \n",
       "X311.081_2.525 0.016549832                              \n",
       "X228.196_2.71  0.032165399                              \n",
       "X404.207_2.768 0.012045341                              \n",
       "               [,15]                                    \n",
       "filename       X654_Group3B_70dpi_LA_304_B_E6_P121.mzXML\n",
       "X338.342_3.533 0.029148014                              \n",
       "X387.181_2.767 0.049165324                              \n",
       "X311.081_2.525 0.015481224                              \n",
       "X228.196_2.71  0.011413379                              \n",
       "X404.207_2.768 0.011032933                              \n",
       "               [,16]                                    \n",
       "filename       X655_Group3B_70dpi_LA_305_B_E7_P121.mzXML\n",
       "X338.342_3.533 0.043128201                              \n",
       "X387.181_2.767 0.064478796                              \n",
       "X311.081_2.525 0.024339678                              \n",
       "X228.196_2.71  0.013408173                              \n",
       "X404.207_2.768 0.016397257                              \n",
       "               [,17]                                    \n",
       "filename       X736_Group3B_70dpi_LA_306_B_E8_P121.mzXML\n",
       "X338.342_3.533 0.000000000                              \n",
       "X387.181_2.767 0.066003519                              \n",
       "X311.081_2.525 0.019344649                              \n",
       "X228.196_2.71  0.021064953                              \n",
       "X404.207_2.768 0.015868931                              \n",
       "               [,18]                                    \n",
       "filename       X737_Group3B_70dpi_LA_307_B_E9_P121.mzXML\n",
       "X338.342_3.533 0.000000000                              \n",
       "X387.181_2.767 0.013383953                              \n",
       "X311.081_2.525 0.010504975                              \n",
       "X228.196_2.71  0.006966688                              \n",
       "X404.207_2.768 0.004043756                              \n",
       "               [,19]                                     \n",
       "filename       X738_Group3B_70dpi_LA_308_B_E10_P121.mzXML\n",
       "X338.342_3.533 0.000000000                               \n",
       "X387.181_2.767 0.014859473                               \n",
       "X311.081_2.525 0.014286954                               \n",
       "X228.196_2.71  0.011034004                               \n",
       "X404.207_2.768 0.004033657                               \n",
       "               [,20]                                     \n",
       "filename       X739_Group3B_70dpi_LA_309_B_E11_P121.mzXML\n",
       "X338.342_3.533 0.000000000                               \n",
       "X387.181_2.767 0.030773161                               \n",
       "X311.081_2.525 0.013136006                               \n",
       "X228.196_2.71  0.000000000                               \n",
       "X404.207_2.768 0.009392704                               \n",
       "               [,21]                                     \n",
       "filename       X740_Group3B_70dpi_LA_310_B_E12_P121.mzXML\n",
       "X338.342_3.533 0.000000000                               \n",
       "X387.181_2.767 0.026471714                               \n",
       "X311.081_2.525 0.016842821                               \n",
       "X228.196_2.71  0.016842821                               \n",
       "X404.207_2.768 0.008111800                               "
      ]
     },
     "metadata": {},
     "output_type": "display_data"
    },
    {
     "data": {
      "text/html": [
       "<ol class=list-inline>\n",
       "\t<li>6717</li>\n",
       "\t<li>30</li>\n",
       "</ol>\n"
      ],
      "text/latex": [
       "\\begin{enumerate*}\n",
       "\\item 6717\n",
       "\\item 30\n",
       "\\end{enumerate*}\n"
      ],
      "text/markdown": [
       "1. 6717\n",
       "2. 30\n",
       "\n",
       "\n"
      ],
      "text/plain": [
       "[1] 6717   30"
      ]
     },
     "metadata": {},
     "output_type": "display_data"
    }
   ],
   "source": [
    "feature_table_trans <- t(feature_table)\n",
    "head(feature_table_trans)\n",
    "dim(feature_table_trans)"
   ]
  },
  {
   "cell_type": "code",
   "execution_count": 30,
   "metadata": {},
   "outputs": [],
   "source": [
    "write.csv(feature_table_trans, \"03172021-3B1B-LA-F-trans.csv\")"
   ]
  },
  {
   "cell_type": "code",
   "execution_count": 31,
   "metadata": {},
   "outputs": [
    {
     "data": {
      "text/html": [
       "<table>\n",
       "<thead><tr><th scope=col>filename</th><th scope=col>MeanDecreaseAccuracy</th></tr></thead>\n",
       "<tbody>\n",
       "\t<tr><td>X285.083_0.446</td><td>4.283840      </td></tr>\n",
       "\t<tr><td>X231.073_0.435</td><td>3.968785      </td></tr>\n",
       "\t<tr><td>X184.074_0.312</td><td>3.187743      </td></tr>\n",
       "\t<tr><td>X458.23_2.165 </td><td>2.990562      </td></tr>\n",
       "\t<tr><td>X508.376_2.995</td><td>2.823559      </td></tr>\n",
       "\t<tr><td>X169.036_0.372</td><td>2.780464      </td></tr>\n",
       "</tbody>\n",
       "</table>\n"
      ],
      "text/latex": [
       "\\begin{tabular}{r|ll}\n",
       " filename & MeanDecreaseAccuracy\\\\\n",
       "\\hline\n",
       "\t X285.083\\_0.446 & 4.283840        \\\\\n",
       "\t X231.073\\_0.435 & 3.968785        \\\\\n",
       "\t X184.074\\_0.312 & 3.187743        \\\\\n",
       "\t X458.23\\_2.165  & 2.990562        \\\\\n",
       "\t X508.376\\_2.995 & 2.823559        \\\\\n",
       "\t X169.036\\_0.372 & 2.780464        \\\\\n",
       "\\end{tabular}\n"
      ],
      "text/markdown": [
       "\n",
       "| filename | MeanDecreaseAccuracy |\n",
       "|---|---|\n",
       "| X285.083_0.446 | 4.283840       |\n",
       "| X231.073_0.435 | 3.968785       |\n",
       "| X184.074_0.312 | 3.187743       |\n",
       "| X458.23_2.165  | 2.990562       |\n",
       "| X508.376_2.995 | 2.823559       |\n",
       "| X169.036_0.372 | 2.780464       |\n",
       "\n"
      ],
      "text/plain": [
       "  filename       MeanDecreaseAccuracy\n",
       "1 X285.083_0.446 4.283840            \n",
       "2 X231.073_0.435 3.968785            \n",
       "3 X184.074_0.312 3.187743            \n",
       "4 X458.23_2.165  2.990562            \n",
       "5 X508.376_2.995 2.823559            \n",
       "6 X169.036_0.372 2.780464            "
      ]
     },
     "metadata": {},
     "output_type": "display_data"
    },
    {
     "data": {
      "text/html": [
       "<ol class=list-inline>\n",
       "\t<li>21</li>\n",
       "\t<li>2</li>\n",
       "</ol>\n"
      ],
      "text/latex": [
       "\\begin{enumerate*}\n",
       "\\item 21\n",
       "\\item 2\n",
       "\\end{enumerate*}\n"
      ],
      "text/markdown": [
       "1. 21\n",
       "2. 2\n",
       "\n",
       "\n"
      ],
      "text/plain": [
       "[1] 21  2"
      ]
     },
     "metadata": {},
     "output_type": "display_data"
    },
    {
     "data": {
      "text/html": [
       "<table>\n",
       "<thead><tr><th scope=col>filename</th><th scope=col>X506_Group1B_70dpi_LA_281_B_C7_P121.mzXML</th><th scope=col>X507_Group1B_70dpi_LA_282_B_C8_P121.mzXML</th><th scope=col>X508_Group1B_70dpi_LA_283_B_C9_P121.mzXML</th><th scope=col>X509_Group1B_70dpi_LA_284_B_C10_P121.mzXML</th><th scope=col>X510_Group1B_70dpi_LA_285_B_C11_P121.mzXML</th><th scope=col>X526_Group1B_70dpi_LA_286_B_C12_P121.mzXML</th><th scope=col>X527_Group1B_70dpi_LA_287_B_D1_P121.mzXML</th><th scope=col>X528_Group1B_70dpi_LA_288_B_D2_P121.mzXML</th><th scope=col>X529_Group1B_70dpi_LA_289_B_D3_P121.mzXML</th><th scope=col>...</th><th scope=col>X651_Group3B_70dpi_LA_301_B_E3_P121.mzXML</th><th scope=col>X652_Group3B_70dpi_LA_302_B_E4_P121.mzXML</th><th scope=col>X653_Group3B_70dpi_LA_303_B_E5_P121.mzXML</th><th scope=col>X654_Group3B_70dpi_LA_304_B_E6_P121.mzXML</th><th scope=col>X655_Group3B_70dpi_LA_305_B_E7_P121.mzXML</th><th scope=col>X736_Group3B_70dpi_LA_306_B_E8_P121.mzXML</th><th scope=col>X737_Group3B_70dpi_LA_307_B_E9_P121.mzXML</th><th scope=col>X738_Group3B_70dpi_LA_308_B_E10_P121.mzXML</th><th scope=col>X739_Group3B_70dpi_LA_309_B_E11_P121.mzXML</th><th scope=col>X740_Group3B_70dpi_LA_310_B_E12_P121.mzXML</th></tr></thead>\n",
       "<tbody>\n",
       "\t<tr><td>X338.342_3.533</td><td>0.146689873   </td><td>0.125642397   </td><td>0.11927975    </td><td>0.000000000   </td><td>0.143563071   </td><td>0.108532369   </td><td>0.127097276   </td><td>0.152140541   </td><td>0.116011593   </td><td>...           </td><td>0.000000000   </td><td>0.04620488    </td><td>0.03636959    </td><td>0.02914801    </td><td>0.04312820    </td><td>0.00000000    </td><td>0.000000000   </td><td>0.000000000   </td><td>0.000000000   </td><td>0.00000000    </td></tr>\n",
       "\t<tr><td>X387.181_2.767</td><td>0.044283735   </td><td>0.030977350   </td><td>0.05662307    </td><td>0.013873667   </td><td>0.020985606   </td><td>0.019074680   </td><td>0.010209453   </td><td>0.011668299   </td><td>0.020639078   </td><td>...           </td><td>0.014563032   </td><td>0.04453079    </td><td>0.04070725    </td><td>0.04916532    </td><td>0.06447880    </td><td>0.06600352    </td><td>0.013383953   </td><td>0.014859473   </td><td>0.030773161   </td><td>0.02647171    </td></tr>\n",
       "\t<tr><td>X311.081_2.525</td><td>0.017796526   </td><td>0.010462979   </td><td>0.02255640    </td><td>0.003636883   </td><td>0.009578046   </td><td>0.014090576   </td><td>0.009376029   </td><td>0.006047901   </td><td>0.007723010   </td><td>...           </td><td>0.016660588   </td><td>0.01774535    </td><td>0.01654983    </td><td>0.01548122    </td><td>0.02433968    </td><td>0.01934465    </td><td>0.010504975   </td><td>0.014286954   </td><td>0.013136006   </td><td>0.01684282    </td></tr>\n",
       "\t<tr><td>X228.196_2.71 </td><td>0.008026427   </td><td>0.010203029   </td><td>0.01977166    </td><td>0.000000000   </td><td>0.016271916   </td><td>0.010573754   </td><td>0.013109077   </td><td>0.000000000   </td><td>0.009620474   </td><td>...           </td><td>0.014832718   </td><td>0.02126094    </td><td>0.03216540    </td><td>0.01141338    </td><td>0.01340817    </td><td>0.02106495    </td><td>0.006966688   </td><td>0.011034004   </td><td>0.000000000   </td><td>0.01684282    </td></tr>\n",
       "\t<tr><td>X404.207_2.768</td><td>0.012344091   </td><td>0.009444842   </td><td>0.01406294    </td><td>0.004082822   </td><td>0.006198825   </td><td>0.006311646   </td><td>0.003160069   </td><td>0.003357151   </td><td>0.005709035   </td><td>...           </td><td>0.004554693   </td><td>0.01124988    </td><td>0.01204534    </td><td>0.01103293    </td><td>0.01639726    </td><td>0.01586893    </td><td>0.004043756   </td><td>0.004033657   </td><td>0.009392704   </td><td>0.00811180    </td></tr>\n",
       "\t<tr><td>X496.341_2.926</td><td>0.033212801   </td><td>0.050040334   </td><td>0.03341689    </td><td>0.000000000   </td><td>0.000000000   </td><td>0.054499087   </td><td>0.000000000   </td><td>0.052054698   </td><td>0.000000000   </td><td>...           </td><td>0.000000000   </td><td>0.00000000    </td><td>0.08174816    </td><td>0.00000000    </td><td>0.10547194    </td><td>0.00000000    </td><td>0.000000000   </td><td>0.000000000   </td><td>0.000000000   </td><td>0.00000000    </td></tr>\n",
       "</tbody>\n",
       "</table>\n"
      ],
      "text/latex": [
       "\\begin{tabular}{r|lllllllllllllllllllllllllllllll}\n",
       " filename & X506\\_Group1B\\_70dpi\\_LA\\_281\\_B\\_C7\\_P121.mzXML & X507\\_Group1B\\_70dpi\\_LA\\_282\\_B\\_C8\\_P121.mzXML & X508\\_Group1B\\_70dpi\\_LA\\_283\\_B\\_C9\\_P121.mzXML & X509\\_Group1B\\_70dpi\\_LA\\_284\\_B\\_C10\\_P121.mzXML & X510\\_Group1B\\_70dpi\\_LA\\_285\\_B\\_C11\\_P121.mzXML & X526\\_Group1B\\_70dpi\\_LA\\_286\\_B\\_C12\\_P121.mzXML & X527\\_Group1B\\_70dpi\\_LA\\_287\\_B\\_D1\\_P121.mzXML & X528\\_Group1B\\_70dpi\\_LA\\_288\\_B\\_D2\\_P121.mzXML & X529\\_Group1B\\_70dpi\\_LA\\_289\\_B\\_D3\\_P121.mzXML & ... & X651\\_Group3B\\_70dpi\\_LA\\_301\\_B\\_E3\\_P121.mzXML & X652\\_Group3B\\_70dpi\\_LA\\_302\\_B\\_E4\\_P121.mzXML & X653\\_Group3B\\_70dpi\\_LA\\_303\\_B\\_E5\\_P121.mzXML & X654\\_Group3B\\_70dpi\\_LA\\_304\\_B\\_E6\\_P121.mzXML & X655\\_Group3B\\_70dpi\\_LA\\_305\\_B\\_E7\\_P121.mzXML & X736\\_Group3B\\_70dpi\\_LA\\_306\\_B\\_E8\\_P121.mzXML & X737\\_Group3B\\_70dpi\\_LA\\_307\\_B\\_E9\\_P121.mzXML & X738\\_Group3B\\_70dpi\\_LA\\_308\\_B\\_E10\\_P121.mzXML & X739\\_Group3B\\_70dpi\\_LA\\_309\\_B\\_E11\\_P121.mzXML & X740\\_Group3B\\_70dpi\\_LA\\_310\\_B\\_E12\\_P121.mzXML\\\\\n",
       "\\hline\n",
       "\t X338.342\\_3.533 & 0.146689873      & 0.125642397      & 0.11927975       & 0.000000000      & 0.143563071      & 0.108532369      & 0.127097276      & 0.152140541      & 0.116011593      & ...              & 0.000000000      & 0.04620488       & 0.03636959       & 0.02914801       & 0.04312820       & 0.00000000       & 0.000000000      & 0.000000000      & 0.000000000      & 0.00000000      \\\\\n",
       "\t X387.181\\_2.767 & 0.044283735      & 0.030977350      & 0.05662307       & 0.013873667      & 0.020985606      & 0.019074680      & 0.010209453      & 0.011668299      & 0.020639078      & ...              & 0.014563032      & 0.04453079       & 0.04070725       & 0.04916532       & 0.06447880       & 0.06600352       & 0.013383953      & 0.014859473      & 0.030773161      & 0.02647171      \\\\\n",
       "\t X311.081\\_2.525 & 0.017796526      & 0.010462979      & 0.02255640       & 0.003636883      & 0.009578046      & 0.014090576      & 0.009376029      & 0.006047901      & 0.007723010      & ...              & 0.016660588      & 0.01774535       & 0.01654983       & 0.01548122       & 0.02433968       & 0.01934465       & 0.010504975      & 0.014286954      & 0.013136006      & 0.01684282      \\\\\n",
       "\t X228.196\\_2.71  & 0.008026427      & 0.010203029      & 0.01977166       & 0.000000000      & 0.016271916      & 0.010573754      & 0.013109077      & 0.000000000      & 0.009620474      & ...              & 0.014832718      & 0.02126094       & 0.03216540       & 0.01141338       & 0.01340817       & 0.02106495       & 0.006966688      & 0.011034004      & 0.000000000      & 0.01684282      \\\\\n",
       "\t X404.207\\_2.768 & 0.012344091      & 0.009444842      & 0.01406294       & 0.004082822      & 0.006198825      & 0.006311646      & 0.003160069      & 0.003357151      & 0.005709035      & ...              & 0.004554693      & 0.01124988       & 0.01204534       & 0.01103293       & 0.01639726       & 0.01586893       & 0.004043756      & 0.004033657      & 0.009392704      & 0.00811180      \\\\\n",
       "\t X496.341\\_2.926 & 0.033212801      & 0.050040334      & 0.03341689       & 0.000000000      & 0.000000000      & 0.054499087      & 0.000000000      & 0.052054698      & 0.000000000      & ...              & 0.000000000      & 0.00000000       & 0.08174816       & 0.00000000       & 0.10547194       & 0.00000000       & 0.000000000      & 0.000000000      & 0.000000000      & 0.00000000      \\\\\n",
       "\\end{tabular}\n"
      ],
      "text/markdown": [
       "\n",
       "| filename | X506_Group1B_70dpi_LA_281_B_C7_P121.mzXML | X507_Group1B_70dpi_LA_282_B_C8_P121.mzXML | X508_Group1B_70dpi_LA_283_B_C9_P121.mzXML | X509_Group1B_70dpi_LA_284_B_C10_P121.mzXML | X510_Group1B_70dpi_LA_285_B_C11_P121.mzXML | X526_Group1B_70dpi_LA_286_B_C12_P121.mzXML | X527_Group1B_70dpi_LA_287_B_D1_P121.mzXML | X528_Group1B_70dpi_LA_288_B_D2_P121.mzXML | X529_Group1B_70dpi_LA_289_B_D3_P121.mzXML | ... | X651_Group3B_70dpi_LA_301_B_E3_P121.mzXML | X652_Group3B_70dpi_LA_302_B_E4_P121.mzXML | X653_Group3B_70dpi_LA_303_B_E5_P121.mzXML | X654_Group3B_70dpi_LA_304_B_E6_P121.mzXML | X655_Group3B_70dpi_LA_305_B_E7_P121.mzXML | X736_Group3B_70dpi_LA_306_B_E8_P121.mzXML | X737_Group3B_70dpi_LA_307_B_E9_P121.mzXML | X738_Group3B_70dpi_LA_308_B_E10_P121.mzXML | X739_Group3B_70dpi_LA_309_B_E11_P121.mzXML | X740_Group3B_70dpi_LA_310_B_E12_P121.mzXML |\n",
       "|---|---|---|---|---|---|---|---|---|---|---|---|---|---|---|---|---|---|---|---|---|\n",
       "| X338.342_3.533 | 0.146689873    | 0.125642397    | 0.11927975     | 0.000000000    | 0.143563071    | 0.108532369    | 0.127097276    | 0.152140541    | 0.116011593    | ...            | 0.000000000    | 0.04620488     | 0.03636959     | 0.02914801     | 0.04312820     | 0.00000000     | 0.000000000    | 0.000000000    | 0.000000000    | 0.00000000     |\n",
       "| X387.181_2.767 | 0.044283735    | 0.030977350    | 0.05662307     | 0.013873667    | 0.020985606    | 0.019074680    | 0.010209453    | 0.011668299    | 0.020639078    | ...            | 0.014563032    | 0.04453079     | 0.04070725     | 0.04916532     | 0.06447880     | 0.06600352     | 0.013383953    | 0.014859473    | 0.030773161    | 0.02647171     |\n",
       "| X311.081_2.525 | 0.017796526    | 0.010462979    | 0.02255640     | 0.003636883    | 0.009578046    | 0.014090576    | 0.009376029    | 0.006047901    | 0.007723010    | ...            | 0.016660588    | 0.01774535     | 0.01654983     | 0.01548122     | 0.02433968     | 0.01934465     | 0.010504975    | 0.014286954    | 0.013136006    | 0.01684282     |\n",
       "| X228.196_2.71  | 0.008026427    | 0.010203029    | 0.01977166     | 0.000000000    | 0.016271916    | 0.010573754    | 0.013109077    | 0.000000000    | 0.009620474    | ...            | 0.014832718    | 0.02126094     | 0.03216540     | 0.01141338     | 0.01340817     | 0.02106495     | 0.006966688    | 0.011034004    | 0.000000000    | 0.01684282     |\n",
       "| X404.207_2.768 | 0.012344091    | 0.009444842    | 0.01406294     | 0.004082822    | 0.006198825    | 0.006311646    | 0.003160069    | 0.003357151    | 0.005709035    | ...            | 0.004554693    | 0.01124988     | 0.01204534     | 0.01103293     | 0.01639726     | 0.01586893     | 0.004043756    | 0.004033657    | 0.009392704    | 0.00811180     |\n",
       "| X496.341_2.926 | 0.033212801    | 0.050040334    | 0.03341689     | 0.000000000    | 0.000000000    | 0.054499087    | 0.000000000    | 0.052054698    | 0.000000000    | ...            | 0.000000000    | 0.00000000     | 0.08174816     | 0.00000000     | 0.10547194     | 0.00000000     | 0.000000000    | 0.000000000    | 0.000000000    | 0.00000000     |\n",
       "\n"
      ],
      "text/plain": [
       "  filename       X506_Group1B_70dpi_LA_281_B_C7_P121.mzXML\n",
       "1 X338.342_3.533 0.146689873                              \n",
       "2 X387.181_2.767 0.044283735                              \n",
       "3 X311.081_2.525 0.017796526                              \n",
       "4 X228.196_2.71  0.008026427                              \n",
       "5 X404.207_2.768 0.012344091                              \n",
       "6 X496.341_2.926 0.033212801                              \n",
       "  X507_Group1B_70dpi_LA_282_B_C8_P121.mzXML\n",
       "1 0.125642397                              \n",
       "2 0.030977350                              \n",
       "3 0.010462979                              \n",
       "4 0.010203029                              \n",
       "5 0.009444842                              \n",
       "6 0.050040334                              \n",
       "  X508_Group1B_70dpi_LA_283_B_C9_P121.mzXML\n",
       "1 0.11927975                               \n",
       "2 0.05662307                               \n",
       "3 0.02255640                               \n",
       "4 0.01977166                               \n",
       "5 0.01406294                               \n",
       "6 0.03341689                               \n",
       "  X509_Group1B_70dpi_LA_284_B_C10_P121.mzXML\n",
       "1 0.000000000                               \n",
       "2 0.013873667                               \n",
       "3 0.003636883                               \n",
       "4 0.000000000                               \n",
       "5 0.004082822                               \n",
       "6 0.000000000                               \n",
       "  X510_Group1B_70dpi_LA_285_B_C11_P121.mzXML\n",
       "1 0.143563071                               \n",
       "2 0.020985606                               \n",
       "3 0.009578046                               \n",
       "4 0.016271916                               \n",
       "5 0.006198825                               \n",
       "6 0.000000000                               \n",
       "  X526_Group1B_70dpi_LA_286_B_C12_P121.mzXML\n",
       "1 0.108532369                               \n",
       "2 0.019074680                               \n",
       "3 0.014090576                               \n",
       "4 0.010573754                               \n",
       "5 0.006311646                               \n",
       "6 0.054499087                               \n",
       "  X527_Group1B_70dpi_LA_287_B_D1_P121.mzXML\n",
       "1 0.127097276                              \n",
       "2 0.010209453                              \n",
       "3 0.009376029                              \n",
       "4 0.013109077                              \n",
       "5 0.003160069                              \n",
       "6 0.000000000                              \n",
       "  X528_Group1B_70dpi_LA_288_B_D2_P121.mzXML\n",
       "1 0.152140541                              \n",
       "2 0.011668299                              \n",
       "3 0.006047901                              \n",
       "4 0.000000000                              \n",
       "5 0.003357151                              \n",
       "6 0.052054698                              \n",
       "  X529_Group1B_70dpi_LA_289_B_D3_P121.mzXML ...\n",
       "1 0.116011593                               ...\n",
       "2 0.020639078                               ...\n",
       "3 0.007723010                               ...\n",
       "4 0.009620474                               ...\n",
       "5 0.005709035                               ...\n",
       "6 0.000000000                               ...\n",
       "  X651_Group3B_70dpi_LA_301_B_E3_P121.mzXML\n",
       "1 0.000000000                              \n",
       "2 0.014563032                              \n",
       "3 0.016660588                              \n",
       "4 0.014832718                              \n",
       "5 0.004554693                              \n",
       "6 0.000000000                              \n",
       "  X652_Group3B_70dpi_LA_302_B_E4_P121.mzXML\n",
       "1 0.04620488                               \n",
       "2 0.04453079                               \n",
       "3 0.01774535                               \n",
       "4 0.02126094                               \n",
       "5 0.01124988                               \n",
       "6 0.00000000                               \n",
       "  X653_Group3B_70dpi_LA_303_B_E5_P121.mzXML\n",
       "1 0.03636959                               \n",
       "2 0.04070725                               \n",
       "3 0.01654983                               \n",
       "4 0.03216540                               \n",
       "5 0.01204534                               \n",
       "6 0.08174816                               \n",
       "  X654_Group3B_70dpi_LA_304_B_E6_P121.mzXML\n",
       "1 0.02914801                               \n",
       "2 0.04916532                               \n",
       "3 0.01548122                               \n",
       "4 0.01141338                               \n",
       "5 0.01103293                               \n",
       "6 0.00000000                               \n",
       "  X655_Group3B_70dpi_LA_305_B_E7_P121.mzXML\n",
       "1 0.04312820                               \n",
       "2 0.06447880                               \n",
       "3 0.02433968                               \n",
       "4 0.01340817                               \n",
       "5 0.01639726                               \n",
       "6 0.10547194                               \n",
       "  X736_Group3B_70dpi_LA_306_B_E8_P121.mzXML\n",
       "1 0.00000000                               \n",
       "2 0.06600352                               \n",
       "3 0.01934465                               \n",
       "4 0.02106495                               \n",
       "5 0.01586893                               \n",
       "6 0.00000000                               \n",
       "  X737_Group3B_70dpi_LA_307_B_E9_P121.mzXML\n",
       "1 0.000000000                              \n",
       "2 0.013383953                              \n",
       "3 0.010504975                              \n",
       "4 0.006966688                              \n",
       "5 0.004043756                              \n",
       "6 0.000000000                              \n",
       "  X738_Group3B_70dpi_LA_308_B_E10_P121.mzXML\n",
       "1 0.000000000                               \n",
       "2 0.014859473                               \n",
       "3 0.014286954                               \n",
       "4 0.011034004                               \n",
       "5 0.004033657                               \n",
       "6 0.000000000                               \n",
       "  X739_Group3B_70dpi_LA_309_B_E11_P121.mzXML\n",
       "1 0.000000000                               \n",
       "2 0.030773161                               \n",
       "3 0.013136006                               \n",
       "4 0.000000000                               \n",
       "5 0.009392704                               \n",
       "6 0.000000000                               \n",
       "  X740_Group3B_70dpi_LA_310_B_E12_P121.mzXML\n",
       "1 0.00000000                                \n",
       "2 0.02647171                                \n",
       "3 0.01684282                                \n",
       "4 0.01684282                                \n",
       "5 0.00811180                                \n",
       "6 0.00000000                                "
      ]
     },
     "metadata": {},
     "output_type": "display_data"
    },
    {
     "data": {
      "text/html": [
       "<ol class=list-inline>\n",
       "\t<li>6716</li>\n",
       "\t<li>31</li>\n",
       "</ol>\n"
      ],
      "text/latex": [
       "\\begin{enumerate*}\n",
       "\\item 6716\n",
       "\\item 31\n",
       "\\end{enumerate*}\n"
      ],
      "text/markdown": [
       "1. 6716\n",
       "2. 31\n",
       "\n",
       "\n"
      ],
      "text/plain": [
       "[1] 6716   31"
      ]
     },
     "metadata": {},
     "output_type": "display_data"
    }
   ],
   "source": [
    "merge_file_1 <- read.csv(\"RF-03172021-LA-3B-1B-RF-cutoff-2dot1.csv\", h = T, sep = \",\", dec = \".\")\n",
    "head(merge_file_1)\n",
    "dim(merge_file_1)\n",
    "\n",
    "merge_file_2 <- read.csv(\"03172021-3B1B-LA-F-trans-fix.csv\", h = T, sep = \",\", dec = \".\")\n",
    "head(merge_file_2)\n",
    "dim(merge_file_2)"
   ]
  },
  {
   "cell_type": "code",
   "execution_count": 32,
   "metadata": {},
   "outputs": [
    {
     "data": {
      "text/html": [
       "<table>\n",
       "<thead><tr><th scope=col>filename</th><th scope=col>MeanDecreaseAccuracy</th><th scope=col>X506_Group1B_70dpi_LA_281_B_C7_P121.mzXML</th><th scope=col>X507_Group1B_70dpi_LA_282_B_C8_P121.mzXML</th><th scope=col>X508_Group1B_70dpi_LA_283_B_C9_P121.mzXML</th><th scope=col>X509_Group1B_70dpi_LA_284_B_C10_P121.mzXML</th><th scope=col>X510_Group1B_70dpi_LA_285_B_C11_P121.mzXML</th><th scope=col>X526_Group1B_70dpi_LA_286_B_C12_P121.mzXML</th><th scope=col>X527_Group1B_70dpi_LA_287_B_D1_P121.mzXML</th><th scope=col>X528_Group1B_70dpi_LA_288_B_D2_P121.mzXML</th><th scope=col>...</th><th scope=col>X651_Group3B_70dpi_LA_301_B_E3_P121.mzXML</th><th scope=col>X652_Group3B_70dpi_LA_302_B_E4_P121.mzXML</th><th scope=col>X653_Group3B_70dpi_LA_303_B_E5_P121.mzXML</th><th scope=col>X654_Group3B_70dpi_LA_304_B_E6_P121.mzXML</th><th scope=col>X655_Group3B_70dpi_LA_305_B_E7_P121.mzXML</th><th scope=col>X736_Group3B_70dpi_LA_306_B_E8_P121.mzXML</th><th scope=col>X737_Group3B_70dpi_LA_307_B_E9_P121.mzXML</th><th scope=col>X738_Group3B_70dpi_LA_308_B_E10_P121.mzXML</th><th scope=col>X739_Group3B_70dpi_LA_309_B_E11_P121.mzXML</th><th scope=col>X740_Group3B_70dpi_LA_310_B_E12_P121.mzXML</th></tr></thead>\n",
       "<tbody>\n",
       "\t<tr><td>X137.046_0.31 </td><td>2.288527      </td><td>0.003265925   </td><td>0.002469523   </td><td>0.006590554   </td><td>0.001882855   </td><td>0.004132550   </td><td>0.003516821   </td><td>0.000000000   </td><td>0.003482887   </td><td>...           </td><td>0.002606963   </td><td>0.003060236   </td><td>0.001791786   </td><td>0.000910144   </td><td>0.000114363   </td><td>0.001509655   </td><td>0.001437292   </td><td>0.001889313   </td><td>0.001660373   </td><td>0.006161253   </td></tr>\n",
       "\t<tr><td>X169.036_0.372</td><td>2.780464      </td><td>0.000000000   </td><td>0.000000000   </td><td>0.000000000   </td><td>0.000000000   </td><td>0.000000000   </td><td>0.000000000   </td><td>0.000000000   </td><td>0.000000000   </td><td>...           </td><td>0.000500417   </td><td>0.000415174   </td><td>0.000360359   </td><td>0.000450682   </td><td>0.001712318   </td><td>0.000184248   </td><td>0.000000000   </td><td>0.000000000   </td><td>0.000684358   </td><td>0.000082100   </td></tr>\n",
       "\t<tr><td>X184.074_0.312</td><td>3.187743      </td><td>0.000835856   </td><td>0.000496071   </td><td>0.001429500   </td><td>0.000370625   </td><td>0.000910452   </td><td>0.001082995   </td><td>0.000904613   </td><td>0.001052410   </td><td>...           </td><td>0.001971703   </td><td>0.002541268   </td><td>0.001548210   </td><td>0.001943201   </td><td>0.001819071   </td><td>0.001822118   </td><td>0.001696619   </td><td>0.001910132   </td><td>0.001258484   </td><td>0.001510900   </td></tr>\n",
       "\t<tr><td>X215.016_0.331</td><td>2.392060      </td><td>0.000000000   </td><td>0.000000000   </td><td>0.000000000   </td><td>0.000037300   </td><td>0.000000000   </td><td>0.000018600   </td><td>0.000029500   </td><td>0.000072800   </td><td>...           </td><td>0.000000000   </td><td>0.000000000   </td><td>0.000000000   </td><td>0.000000000   </td><td>0.000000000   </td><td>0.000000000   </td><td>0.000000000   </td><td>0.000000000   </td><td>0.000000000   </td><td>0.000000000   </td></tr>\n",
       "\t<tr><td>X231.073_0.435</td><td>3.968785      </td><td>0.000000000   </td><td>0.000000000   </td><td>0.000000000   </td><td>0.000015200   </td><td>0.000000000   </td><td>0.000000000   </td><td>0.000000000   </td><td>0.000000000   </td><td>...           </td><td>0.000190535   </td><td>0.000192677   </td><td>0.000283956   </td><td>0.000189306   </td><td>0.000076200   </td><td>0.000270056   </td><td>0.000250537   </td><td>0.000445003   </td><td>0.000036100   </td><td>0.000000000   </td></tr>\n",
       "\t<tr><td>X285.083_0.446</td><td>4.283840      </td><td>0.000000000   </td><td>0.000000000   </td><td>0.000000000   </td><td>0.000015400   </td><td>0.000000000   </td><td>0.000000000   </td><td>0.000000000   </td><td>0.000057100   </td><td>...           </td><td>0.000189016   </td><td>0.000344863   </td><td>0.000138163   </td><td>0.000105628   </td><td>0.000208679   </td><td>0.000158783   </td><td>0.000320863   </td><td>0.000385149   </td><td>0.000185916   </td><td>0.000065200   </td></tr>\n",
       "</tbody>\n",
       "</table>\n"
      ],
      "text/latex": [
       "\\begin{tabular}{r|llllllllllllllllllllllllllllllll}\n",
       " filename & MeanDecreaseAccuracy & X506\\_Group1B\\_70dpi\\_LA\\_281\\_B\\_C7\\_P121.mzXML & X507\\_Group1B\\_70dpi\\_LA\\_282\\_B\\_C8\\_P121.mzXML & X508\\_Group1B\\_70dpi\\_LA\\_283\\_B\\_C9\\_P121.mzXML & X509\\_Group1B\\_70dpi\\_LA\\_284\\_B\\_C10\\_P121.mzXML & X510\\_Group1B\\_70dpi\\_LA\\_285\\_B\\_C11\\_P121.mzXML & X526\\_Group1B\\_70dpi\\_LA\\_286\\_B\\_C12\\_P121.mzXML & X527\\_Group1B\\_70dpi\\_LA\\_287\\_B\\_D1\\_P121.mzXML & X528\\_Group1B\\_70dpi\\_LA\\_288\\_B\\_D2\\_P121.mzXML & ... & X651\\_Group3B\\_70dpi\\_LA\\_301\\_B\\_E3\\_P121.mzXML & X652\\_Group3B\\_70dpi\\_LA\\_302\\_B\\_E4\\_P121.mzXML & X653\\_Group3B\\_70dpi\\_LA\\_303\\_B\\_E5\\_P121.mzXML & X654\\_Group3B\\_70dpi\\_LA\\_304\\_B\\_E6\\_P121.mzXML & X655\\_Group3B\\_70dpi\\_LA\\_305\\_B\\_E7\\_P121.mzXML & X736\\_Group3B\\_70dpi\\_LA\\_306\\_B\\_E8\\_P121.mzXML & X737\\_Group3B\\_70dpi\\_LA\\_307\\_B\\_E9\\_P121.mzXML & X738\\_Group3B\\_70dpi\\_LA\\_308\\_B\\_E10\\_P121.mzXML & X739\\_Group3B\\_70dpi\\_LA\\_309\\_B\\_E11\\_P121.mzXML & X740\\_Group3B\\_70dpi\\_LA\\_310\\_B\\_E12\\_P121.mzXML\\\\\n",
       "\\hline\n",
       "\t X137.046\\_0.31  & 2.288527         & 0.003265925      & 0.002469523      & 0.006590554      & 0.001882855      & 0.004132550      & 0.003516821      & 0.000000000      & 0.003482887      & ...              & 0.002606963      & 0.003060236      & 0.001791786      & 0.000910144      & 0.000114363      & 0.001509655      & 0.001437292      & 0.001889313      & 0.001660373      & 0.006161253     \\\\\n",
       "\t X169.036\\_0.372 & 2.780464         & 0.000000000      & 0.000000000      & 0.000000000      & 0.000000000      & 0.000000000      & 0.000000000      & 0.000000000      & 0.000000000      & ...              & 0.000500417      & 0.000415174      & 0.000360359      & 0.000450682      & 0.001712318      & 0.000184248      & 0.000000000      & 0.000000000      & 0.000684358      & 0.000082100     \\\\\n",
       "\t X184.074\\_0.312 & 3.187743         & 0.000835856      & 0.000496071      & 0.001429500      & 0.000370625      & 0.000910452      & 0.001082995      & 0.000904613      & 0.001052410      & ...              & 0.001971703      & 0.002541268      & 0.001548210      & 0.001943201      & 0.001819071      & 0.001822118      & 0.001696619      & 0.001910132      & 0.001258484      & 0.001510900     \\\\\n",
       "\t X215.016\\_0.331 & 2.392060         & 0.000000000      & 0.000000000      & 0.000000000      & 0.000037300      & 0.000000000      & 0.000018600      & 0.000029500      & 0.000072800      & ...              & 0.000000000      & 0.000000000      & 0.000000000      & 0.000000000      & 0.000000000      & 0.000000000      & 0.000000000      & 0.000000000      & 0.000000000      & 0.000000000     \\\\\n",
       "\t X231.073\\_0.435 & 3.968785         & 0.000000000      & 0.000000000      & 0.000000000      & 0.000015200      & 0.000000000      & 0.000000000      & 0.000000000      & 0.000000000      & ...              & 0.000190535      & 0.000192677      & 0.000283956      & 0.000189306      & 0.000076200      & 0.000270056      & 0.000250537      & 0.000445003      & 0.000036100      & 0.000000000     \\\\\n",
       "\t X285.083\\_0.446 & 4.283840         & 0.000000000      & 0.000000000      & 0.000000000      & 0.000015400      & 0.000000000      & 0.000000000      & 0.000000000      & 0.000057100      & ...              & 0.000189016      & 0.000344863      & 0.000138163      & 0.000105628      & 0.000208679      & 0.000158783      & 0.000320863      & 0.000385149      & 0.000185916      & 0.000065200     \\\\\n",
       "\\end{tabular}\n"
      ],
      "text/markdown": [
       "\n",
       "| filename | MeanDecreaseAccuracy | X506_Group1B_70dpi_LA_281_B_C7_P121.mzXML | X507_Group1B_70dpi_LA_282_B_C8_P121.mzXML | X508_Group1B_70dpi_LA_283_B_C9_P121.mzXML | X509_Group1B_70dpi_LA_284_B_C10_P121.mzXML | X510_Group1B_70dpi_LA_285_B_C11_P121.mzXML | X526_Group1B_70dpi_LA_286_B_C12_P121.mzXML | X527_Group1B_70dpi_LA_287_B_D1_P121.mzXML | X528_Group1B_70dpi_LA_288_B_D2_P121.mzXML | ... | X651_Group3B_70dpi_LA_301_B_E3_P121.mzXML | X652_Group3B_70dpi_LA_302_B_E4_P121.mzXML | X653_Group3B_70dpi_LA_303_B_E5_P121.mzXML | X654_Group3B_70dpi_LA_304_B_E6_P121.mzXML | X655_Group3B_70dpi_LA_305_B_E7_P121.mzXML | X736_Group3B_70dpi_LA_306_B_E8_P121.mzXML | X737_Group3B_70dpi_LA_307_B_E9_P121.mzXML | X738_Group3B_70dpi_LA_308_B_E10_P121.mzXML | X739_Group3B_70dpi_LA_309_B_E11_P121.mzXML | X740_Group3B_70dpi_LA_310_B_E12_P121.mzXML |\n",
       "|---|---|---|---|---|---|---|---|---|---|---|---|---|---|---|---|---|---|---|---|---|\n",
       "| X137.046_0.31  | 2.288527       | 0.003265925    | 0.002469523    | 0.006590554    | 0.001882855    | 0.004132550    | 0.003516821    | 0.000000000    | 0.003482887    | ...            | 0.002606963    | 0.003060236    | 0.001791786    | 0.000910144    | 0.000114363    | 0.001509655    | 0.001437292    | 0.001889313    | 0.001660373    | 0.006161253    |\n",
       "| X169.036_0.372 | 2.780464       | 0.000000000    | 0.000000000    | 0.000000000    | 0.000000000    | 0.000000000    | 0.000000000    | 0.000000000    | 0.000000000    | ...            | 0.000500417    | 0.000415174    | 0.000360359    | 0.000450682    | 0.001712318    | 0.000184248    | 0.000000000    | 0.000000000    | 0.000684358    | 0.000082100    |\n",
       "| X184.074_0.312 | 3.187743       | 0.000835856    | 0.000496071    | 0.001429500    | 0.000370625    | 0.000910452    | 0.001082995    | 0.000904613    | 0.001052410    | ...            | 0.001971703    | 0.002541268    | 0.001548210    | 0.001943201    | 0.001819071    | 0.001822118    | 0.001696619    | 0.001910132    | 0.001258484    | 0.001510900    |\n",
       "| X215.016_0.331 | 2.392060       | 0.000000000    | 0.000000000    | 0.000000000    | 0.000037300    | 0.000000000    | 0.000018600    | 0.000029500    | 0.000072800    | ...            | 0.000000000    | 0.000000000    | 0.000000000    | 0.000000000    | 0.000000000    | 0.000000000    | 0.000000000    | 0.000000000    | 0.000000000    | 0.000000000    |\n",
       "| X231.073_0.435 | 3.968785       | 0.000000000    | 0.000000000    | 0.000000000    | 0.000015200    | 0.000000000    | 0.000000000    | 0.000000000    | 0.000000000    | ...            | 0.000190535    | 0.000192677    | 0.000283956    | 0.000189306    | 0.000076200    | 0.000270056    | 0.000250537    | 0.000445003    | 0.000036100    | 0.000000000    |\n",
       "| X285.083_0.446 | 4.283840       | 0.000000000    | 0.000000000    | 0.000000000    | 0.000015400    | 0.000000000    | 0.000000000    | 0.000000000    | 0.000057100    | ...            | 0.000189016    | 0.000344863    | 0.000138163    | 0.000105628    | 0.000208679    | 0.000158783    | 0.000320863    | 0.000385149    | 0.000185916    | 0.000065200    |\n",
       "\n"
      ],
      "text/plain": [
       "  filename       MeanDecreaseAccuracy X506_Group1B_70dpi_LA_281_B_C7_P121.mzXML\n",
       "1 X137.046_0.31  2.288527             0.003265925                              \n",
       "2 X169.036_0.372 2.780464             0.000000000                              \n",
       "3 X184.074_0.312 3.187743             0.000835856                              \n",
       "4 X215.016_0.331 2.392060             0.000000000                              \n",
       "5 X231.073_0.435 3.968785             0.000000000                              \n",
       "6 X285.083_0.446 4.283840             0.000000000                              \n",
       "  X507_Group1B_70dpi_LA_282_B_C8_P121.mzXML\n",
       "1 0.002469523                              \n",
       "2 0.000000000                              \n",
       "3 0.000496071                              \n",
       "4 0.000000000                              \n",
       "5 0.000000000                              \n",
       "6 0.000000000                              \n",
       "  X508_Group1B_70dpi_LA_283_B_C9_P121.mzXML\n",
       "1 0.006590554                              \n",
       "2 0.000000000                              \n",
       "3 0.001429500                              \n",
       "4 0.000000000                              \n",
       "5 0.000000000                              \n",
       "6 0.000000000                              \n",
       "  X509_Group1B_70dpi_LA_284_B_C10_P121.mzXML\n",
       "1 0.001882855                               \n",
       "2 0.000000000                               \n",
       "3 0.000370625                               \n",
       "4 0.000037300                               \n",
       "5 0.000015200                               \n",
       "6 0.000015400                               \n",
       "  X510_Group1B_70dpi_LA_285_B_C11_P121.mzXML\n",
       "1 0.004132550                               \n",
       "2 0.000000000                               \n",
       "3 0.000910452                               \n",
       "4 0.000000000                               \n",
       "5 0.000000000                               \n",
       "6 0.000000000                               \n",
       "  X526_Group1B_70dpi_LA_286_B_C12_P121.mzXML\n",
       "1 0.003516821                               \n",
       "2 0.000000000                               \n",
       "3 0.001082995                               \n",
       "4 0.000018600                               \n",
       "5 0.000000000                               \n",
       "6 0.000000000                               \n",
       "  X527_Group1B_70dpi_LA_287_B_D1_P121.mzXML\n",
       "1 0.000000000                              \n",
       "2 0.000000000                              \n",
       "3 0.000904613                              \n",
       "4 0.000029500                              \n",
       "5 0.000000000                              \n",
       "6 0.000000000                              \n",
       "  X528_Group1B_70dpi_LA_288_B_D2_P121.mzXML ...\n",
       "1 0.003482887                               ...\n",
       "2 0.000000000                               ...\n",
       "3 0.001052410                               ...\n",
       "4 0.000072800                               ...\n",
       "5 0.000000000                               ...\n",
       "6 0.000057100                               ...\n",
       "  X651_Group3B_70dpi_LA_301_B_E3_P121.mzXML\n",
       "1 0.002606963                              \n",
       "2 0.000500417                              \n",
       "3 0.001971703                              \n",
       "4 0.000000000                              \n",
       "5 0.000190535                              \n",
       "6 0.000189016                              \n",
       "  X652_Group3B_70dpi_LA_302_B_E4_P121.mzXML\n",
       "1 0.003060236                              \n",
       "2 0.000415174                              \n",
       "3 0.002541268                              \n",
       "4 0.000000000                              \n",
       "5 0.000192677                              \n",
       "6 0.000344863                              \n",
       "  X653_Group3B_70dpi_LA_303_B_E5_P121.mzXML\n",
       "1 0.001791786                              \n",
       "2 0.000360359                              \n",
       "3 0.001548210                              \n",
       "4 0.000000000                              \n",
       "5 0.000283956                              \n",
       "6 0.000138163                              \n",
       "  X654_Group3B_70dpi_LA_304_B_E6_P121.mzXML\n",
       "1 0.000910144                              \n",
       "2 0.000450682                              \n",
       "3 0.001943201                              \n",
       "4 0.000000000                              \n",
       "5 0.000189306                              \n",
       "6 0.000105628                              \n",
       "  X655_Group3B_70dpi_LA_305_B_E7_P121.mzXML\n",
       "1 0.000114363                              \n",
       "2 0.001712318                              \n",
       "3 0.001819071                              \n",
       "4 0.000000000                              \n",
       "5 0.000076200                              \n",
       "6 0.000208679                              \n",
       "  X736_Group3B_70dpi_LA_306_B_E8_P121.mzXML\n",
       "1 0.001509655                              \n",
       "2 0.000184248                              \n",
       "3 0.001822118                              \n",
       "4 0.000000000                              \n",
       "5 0.000270056                              \n",
       "6 0.000158783                              \n",
       "  X737_Group3B_70dpi_LA_307_B_E9_P121.mzXML\n",
       "1 0.001437292                              \n",
       "2 0.000000000                              \n",
       "3 0.001696619                              \n",
       "4 0.000000000                              \n",
       "5 0.000250537                              \n",
       "6 0.000320863                              \n",
       "  X738_Group3B_70dpi_LA_308_B_E10_P121.mzXML\n",
       "1 0.001889313                               \n",
       "2 0.000000000                               \n",
       "3 0.001910132                               \n",
       "4 0.000000000                               \n",
       "5 0.000445003                               \n",
       "6 0.000385149                               \n",
       "  X739_Group3B_70dpi_LA_309_B_E11_P121.mzXML\n",
       "1 0.001660373                               \n",
       "2 0.000684358                               \n",
       "3 0.001258484                               \n",
       "4 0.000000000                               \n",
       "5 0.000036100                               \n",
       "6 0.000185916                               \n",
       "  X740_Group3B_70dpi_LA_310_B_E12_P121.mzXML\n",
       "1 0.006161253                               \n",
       "2 0.000082100                               \n",
       "3 0.001510900                               \n",
       "4 0.000000000                               \n",
       "5 0.000000000                               \n",
       "6 0.000065200                               "
      ]
     },
     "metadata": {},
     "output_type": "display_data"
    },
    {
     "data": {
      "text/html": [
       "<ol class=list-inline>\n",
       "\t<li>21</li>\n",
       "\t<li>32</li>\n",
       "</ol>\n"
      ],
      "text/latex": [
       "\\begin{enumerate*}\n",
       "\\item 21\n",
       "\\item 32\n",
       "\\end{enumerate*}\n"
      ],
      "text/markdown": [
       "1. 21\n",
       "2. 32\n",
       "\n",
       "\n"
      ],
      "text/plain": [
       "[1] 21 32"
      ]
     },
     "metadata": {},
     "output_type": "display_data"
    }
   ],
   "source": [
    "merge_file <- merge(merge_file_1, merge_file_2, by=\"filename\")\n",
    "head(merge_file)\n",
    "dim(merge_file)"
   ]
  },
  {
   "cell_type": "code",
   "execution_count": 33,
   "metadata": {},
   "outputs": [
    {
     "data": {
      "text/html": [
       "<table>\n",
       "<tbody>\n",
       "\t<tr><th scope=row>filename</th><td>X137.046_0.31 </td><td>X169.036_0.372</td><td>X184.074_0.312</td><td>X215.016_0.331</td><td>X231.073_0.435</td><td>X285.083_0.446</td><td>X344.229_2.208</td><td>X366.785_2.164</td><td>X410.201_2.128</td><td>X414.321_2.745</td><td>...           </td><td>X473.238_2.238</td><td>X482.361_2.958</td><td>X508.376_2.995</td><td>X587.553_2.334</td><td>X664.418_3.08 </td><td>X669.741_2.258</td><td>X692.449_3.051</td><td>X760.586_5.601</td><td>X856.569_3.369</td><td>X949.624_2.926</td></tr>\n",
       "\t<tr><th scope=row>MeanDecreaseAccuracy</th><td>2.288527      </td><td>2.780464      </td><td>3.187743      </td><td>2.392060      </td><td>3.968785      </td><td>4.283840      </td><td>2.703364      </td><td>2.333936      </td><td>2.494479      </td><td>2.122302      </td><td>...           </td><td>2.716267      </td><td>2.777208      </td><td>2.823559      </td><td>2.291715      </td><td>2.304503      </td><td>2.156091      </td><td>2.168866      </td><td>2.135836      </td><td>2.620566      </td><td>2.736293      </td></tr>\n",
       "\t<tr><th scope=row>X506_Group1B_70dpi_LA_281_B_C7_P121.mzXML</th><td>0.003265925   </td><td>0.000000000   </td><td>0.000835856   </td><td>0.000000000   </td><td>0.000000000   </td><td>0.000000000   </td><td>0.000000000   </td><td>0.000000000   </td><td>0.000000000   </td><td>0.000000000   </td><td>...           </td><td>0.000000000   </td><td>0.000091800   </td><td>0.000000000   </td><td>0.000000000   </td><td>0.000000000   </td><td>0.000000000   </td><td>0.000000000   </td><td>0.007915718   </td><td>0.000844159   </td><td>0.000000000   </td></tr>\n",
       "\t<tr><th scope=row>X507_Group1B_70dpi_LA_282_B_C8_P121.mzXML</th><td>0.002469523   </td><td>0.000000000   </td><td>0.000496071   </td><td>0.000000000   </td><td>0.000000000   </td><td>0.000000000   </td><td>0.000000000   </td><td>0.000000000   </td><td>0.000000000   </td><td>0.000136857   </td><td>...           </td><td>0.000000000   </td><td>0.000457078   </td><td>0.000048600   </td><td>0.000000000   </td><td>0.000000000   </td><td>0.000000000   </td><td>0.000142095   </td><td>0.005653908   </td><td>0.002361211   </td><td>0.000000000   </td></tr>\n",
       "\t<tr><th scope=row>X508_Group1B_70dpi_LA_283_B_C9_P121.mzXML</th><td>0.006590554   </td><td>0.000000000   </td><td>0.001429500   </td><td>0.000000000   </td><td>0.000000000   </td><td>0.000000000   </td><td>0.000000000   </td><td>0.000073000   </td><td>0.000000000   </td><td>0.000000000   </td><td>...           </td><td>0.000000000   </td><td>0.000164074   </td><td>0.000000000   </td><td>0.000000000   </td><td>0.000000000   </td><td>0.000000000   </td><td>0.000032100   </td><td>0.000737956   </td><td>0.001160309   </td><td>0.000000000   </td></tr>\n",
       "\t<tr><th scope=row>X509_Group1B_70dpi_LA_284_B_C10_P121.mzXML</th><td>0.001882855   </td><td>0.000000000   </td><td>0.000370625   </td><td>0.000037300   </td><td>0.000015200   </td><td>0.000015400   </td><td>0.000000000   </td><td>0.000080100   </td><td>0.000009190   </td><td>0.000085800   </td><td>...           </td><td>0.000009740   </td><td>0.000584676   </td><td>0.000093400   </td><td>0.000000000   </td><td>0.000000000   </td><td>0.000016200   </td><td>0.000061800   </td><td>0.000000000   </td><td>0.000000000   </td><td>0.000220988   </td></tr>\n",
       "</tbody>\n",
       "</table>\n"
      ],
      "text/latex": [
       "\\begin{tabular}{r|lllllllllllllllllllll}\n",
       "\tfilename & X137.046\\_0.31  & X169.036\\_0.372 & X184.074\\_0.312 & X215.016\\_0.331 & X231.073\\_0.435 & X285.083\\_0.446 & X344.229\\_2.208 & X366.785\\_2.164 & X410.201\\_2.128 & X414.321\\_2.745 & ...              & X473.238\\_2.238 & X482.361\\_2.958 & X508.376\\_2.995 & X587.553\\_2.334 & X664.418\\_3.08  & X669.741\\_2.258 & X692.449\\_3.051 & X760.586\\_5.601 & X856.569\\_3.369 & X949.624\\_2.926\\\\\n",
       "\tMeanDecreaseAccuracy & 2.288527       & 2.780464       & 3.187743       & 2.392060       & 3.968785       & 4.283840       & 2.703364       & 2.333936       & 2.494479       & 2.122302       & ...            & 2.716267       & 2.777208       & 2.823559       & 2.291715       & 2.304503       & 2.156091       & 2.168866       & 2.135836       & 2.620566       & 2.736293      \\\\\n",
       "\tX506\\_Group1B\\_70dpi\\_LA\\_281\\_B\\_C7\\_P121.mzXML & 0.003265925    & 0.000000000    & 0.000835856    & 0.000000000    & 0.000000000    & 0.000000000    & 0.000000000    & 0.000000000    & 0.000000000    & 0.000000000    & ...            & 0.000000000    & 0.000091800    & 0.000000000    & 0.000000000    & 0.000000000    & 0.000000000    & 0.000000000    & 0.007915718    & 0.000844159    & 0.000000000   \\\\\n",
       "\tX507\\_Group1B\\_70dpi\\_LA\\_282\\_B\\_C8\\_P121.mzXML & 0.002469523    & 0.000000000    & 0.000496071    & 0.000000000    & 0.000000000    & 0.000000000    & 0.000000000    & 0.000000000    & 0.000000000    & 0.000136857    & ...            & 0.000000000    & 0.000457078    & 0.000048600    & 0.000000000    & 0.000000000    & 0.000000000    & 0.000142095    & 0.005653908    & 0.002361211    & 0.000000000   \\\\\n",
       "\tX508\\_Group1B\\_70dpi\\_LA\\_283\\_B\\_C9\\_P121.mzXML & 0.006590554    & 0.000000000    & 0.001429500    & 0.000000000    & 0.000000000    & 0.000000000    & 0.000000000    & 0.000073000    & 0.000000000    & 0.000000000    & ...            & 0.000000000    & 0.000164074    & 0.000000000    & 0.000000000    & 0.000000000    & 0.000000000    & 0.000032100    & 0.000737956    & 0.001160309    & 0.000000000   \\\\\n",
       "\tX509\\_Group1B\\_70dpi\\_LA\\_284\\_B\\_C10\\_P121.mzXML & 0.001882855    & 0.000000000    & 0.000370625    & 0.000037300    & 0.000015200    & 0.000015400    & 0.000000000    & 0.000080100    & 0.000009190    & 0.000085800    & ...            & 0.000009740    & 0.000584676    & 0.000093400    & 0.000000000    & 0.000000000    & 0.000016200    & 0.000061800    & 0.000000000    & 0.000000000    & 0.000220988   \\\\\n",
       "\\end{tabular}\n"
      ],
      "text/markdown": [
       "\n",
       "| filename | X137.046_0.31  | X169.036_0.372 | X184.074_0.312 | X215.016_0.331 | X231.073_0.435 | X285.083_0.446 | X344.229_2.208 | X366.785_2.164 | X410.201_2.128 | X414.321_2.745 | ...            | X473.238_2.238 | X482.361_2.958 | X508.376_2.995 | X587.553_2.334 | X664.418_3.08  | X669.741_2.258 | X692.449_3.051 | X760.586_5.601 | X856.569_3.369 | X949.624_2.926 |\n",
       "| MeanDecreaseAccuracy | 2.288527       | 2.780464       | 3.187743       | 2.392060       | 3.968785       | 4.283840       | 2.703364       | 2.333936       | 2.494479       | 2.122302       | ...            | 2.716267       | 2.777208       | 2.823559       | 2.291715       | 2.304503       | 2.156091       | 2.168866       | 2.135836       | 2.620566       | 2.736293       |\n",
       "| X506_Group1B_70dpi_LA_281_B_C7_P121.mzXML | 0.003265925    | 0.000000000    | 0.000835856    | 0.000000000    | 0.000000000    | 0.000000000    | 0.000000000    | 0.000000000    | 0.000000000    | 0.000000000    | ...            | 0.000000000    | 0.000091800    | 0.000000000    | 0.000000000    | 0.000000000    | 0.000000000    | 0.000000000    | 0.007915718    | 0.000844159    | 0.000000000    |\n",
       "| X507_Group1B_70dpi_LA_282_B_C8_P121.mzXML | 0.002469523    | 0.000000000    | 0.000496071    | 0.000000000    | 0.000000000    | 0.000000000    | 0.000000000    | 0.000000000    | 0.000000000    | 0.000136857    | ...            | 0.000000000    | 0.000457078    | 0.000048600    | 0.000000000    | 0.000000000    | 0.000000000    | 0.000142095    | 0.005653908    | 0.002361211    | 0.000000000    |\n",
       "| X508_Group1B_70dpi_LA_283_B_C9_P121.mzXML | 0.006590554    | 0.000000000    | 0.001429500    | 0.000000000    | 0.000000000    | 0.000000000    | 0.000000000    | 0.000073000    | 0.000000000    | 0.000000000    | ...            | 0.000000000    | 0.000164074    | 0.000000000    | 0.000000000    | 0.000000000    | 0.000000000    | 0.000032100    | 0.000737956    | 0.001160309    | 0.000000000    |\n",
       "| X509_Group1B_70dpi_LA_284_B_C10_P121.mzXML | 0.001882855    | 0.000000000    | 0.000370625    | 0.000037300    | 0.000015200    | 0.000015400    | 0.000000000    | 0.000080100    | 0.000009190    | 0.000085800    | ...            | 0.000009740    | 0.000584676    | 0.000093400    | 0.000000000    | 0.000000000    | 0.000016200    | 0.000061800    | 0.000000000    | 0.000000000    | 0.000220988    |\n",
       "\n"
      ],
      "text/plain": [
       "                                           [,1]          [,2]          \n",
       "filename                                   X137.046_0.31 X169.036_0.372\n",
       "MeanDecreaseAccuracy                       2.288527      2.780464      \n",
       "X506_Group1B_70dpi_LA_281_B_C7_P121.mzXML  0.003265925   0.000000000   \n",
       "X507_Group1B_70dpi_LA_282_B_C8_P121.mzXML  0.002469523   0.000000000   \n",
       "X508_Group1B_70dpi_LA_283_B_C9_P121.mzXML  0.006590554   0.000000000   \n",
       "X509_Group1B_70dpi_LA_284_B_C10_P121.mzXML 0.001882855   0.000000000   \n",
       "                                           [,3]           [,4]          \n",
       "filename                                   X184.074_0.312 X215.016_0.331\n",
       "MeanDecreaseAccuracy                       3.187743       2.392060      \n",
       "X506_Group1B_70dpi_LA_281_B_C7_P121.mzXML  0.000835856    0.000000000   \n",
       "X507_Group1B_70dpi_LA_282_B_C8_P121.mzXML  0.000496071    0.000000000   \n",
       "X508_Group1B_70dpi_LA_283_B_C9_P121.mzXML  0.001429500    0.000000000   \n",
       "X509_Group1B_70dpi_LA_284_B_C10_P121.mzXML 0.000370625    0.000037300   \n",
       "                                           [,5]           [,6]          \n",
       "filename                                   X231.073_0.435 X285.083_0.446\n",
       "MeanDecreaseAccuracy                       3.968785       4.283840      \n",
       "X506_Group1B_70dpi_LA_281_B_C7_P121.mzXML  0.000000000    0.000000000   \n",
       "X507_Group1B_70dpi_LA_282_B_C8_P121.mzXML  0.000000000    0.000000000   \n",
       "X508_Group1B_70dpi_LA_283_B_C9_P121.mzXML  0.000000000    0.000000000   \n",
       "X509_Group1B_70dpi_LA_284_B_C10_P121.mzXML 0.000015200    0.000015400   \n",
       "                                           [,7]           [,8]          \n",
       "filename                                   X344.229_2.208 X366.785_2.164\n",
       "MeanDecreaseAccuracy                       2.703364       2.333936      \n",
       "X506_Group1B_70dpi_LA_281_B_C7_P121.mzXML  0.000000000    0.000000000   \n",
       "X507_Group1B_70dpi_LA_282_B_C8_P121.mzXML  0.000000000    0.000000000   \n",
       "X508_Group1B_70dpi_LA_283_B_C9_P121.mzXML  0.000000000    0.000073000   \n",
       "X509_Group1B_70dpi_LA_284_B_C10_P121.mzXML 0.000000000    0.000080100   \n",
       "                                           [,9]           [,10]          [,11]\n",
       "filename                                   X410.201_2.128 X414.321_2.745 ...  \n",
       "MeanDecreaseAccuracy                       2.494479       2.122302       ...  \n",
       "X506_Group1B_70dpi_LA_281_B_C7_P121.mzXML  0.000000000    0.000000000    ...  \n",
       "X507_Group1B_70dpi_LA_282_B_C8_P121.mzXML  0.000000000    0.000136857    ...  \n",
       "X508_Group1B_70dpi_LA_283_B_C9_P121.mzXML  0.000000000    0.000000000    ...  \n",
       "X509_Group1B_70dpi_LA_284_B_C10_P121.mzXML 0.000009190    0.000085800    ...  \n",
       "                                           [,12]          [,13]         \n",
       "filename                                   X473.238_2.238 X482.361_2.958\n",
       "MeanDecreaseAccuracy                       2.716267       2.777208      \n",
       "X506_Group1B_70dpi_LA_281_B_C7_P121.mzXML  0.000000000    0.000091800   \n",
       "X507_Group1B_70dpi_LA_282_B_C8_P121.mzXML  0.000000000    0.000457078   \n",
       "X508_Group1B_70dpi_LA_283_B_C9_P121.mzXML  0.000000000    0.000164074   \n",
       "X509_Group1B_70dpi_LA_284_B_C10_P121.mzXML 0.000009740    0.000584676   \n",
       "                                           [,14]          [,15]         \n",
       "filename                                   X508.376_2.995 X587.553_2.334\n",
       "MeanDecreaseAccuracy                       2.823559       2.291715      \n",
       "X506_Group1B_70dpi_LA_281_B_C7_P121.mzXML  0.000000000    0.000000000   \n",
       "X507_Group1B_70dpi_LA_282_B_C8_P121.mzXML  0.000048600    0.000000000   \n",
       "X508_Group1B_70dpi_LA_283_B_C9_P121.mzXML  0.000000000    0.000000000   \n",
       "X509_Group1B_70dpi_LA_284_B_C10_P121.mzXML 0.000093400    0.000000000   \n",
       "                                           [,16]         [,17]         \n",
       "filename                                   X664.418_3.08 X669.741_2.258\n",
       "MeanDecreaseAccuracy                       2.304503      2.156091      \n",
       "X506_Group1B_70dpi_LA_281_B_C7_P121.mzXML  0.000000000   0.000000000   \n",
       "X507_Group1B_70dpi_LA_282_B_C8_P121.mzXML  0.000000000   0.000000000   \n",
       "X508_Group1B_70dpi_LA_283_B_C9_P121.mzXML  0.000000000   0.000000000   \n",
       "X509_Group1B_70dpi_LA_284_B_C10_P121.mzXML 0.000000000   0.000016200   \n",
       "                                           [,18]          [,19]         \n",
       "filename                                   X692.449_3.051 X760.586_5.601\n",
       "MeanDecreaseAccuracy                       2.168866       2.135836      \n",
       "X506_Group1B_70dpi_LA_281_B_C7_P121.mzXML  0.000000000    0.007915718   \n",
       "X507_Group1B_70dpi_LA_282_B_C8_P121.mzXML  0.000142095    0.005653908   \n",
       "X508_Group1B_70dpi_LA_283_B_C9_P121.mzXML  0.000032100    0.000737956   \n",
       "X509_Group1B_70dpi_LA_284_B_C10_P121.mzXML 0.000061800    0.000000000   \n",
       "                                           [,20]          [,21]         \n",
       "filename                                   X856.569_3.369 X949.624_2.926\n",
       "MeanDecreaseAccuracy                       2.620566       2.736293      \n",
       "X506_Group1B_70dpi_LA_281_B_C7_P121.mzXML  0.000844159    0.000000000   \n",
       "X507_Group1B_70dpi_LA_282_B_C8_P121.mzXML  0.002361211    0.000000000   \n",
       "X508_Group1B_70dpi_LA_283_B_C9_P121.mzXML  0.001160309    0.000000000   \n",
       "X509_Group1B_70dpi_LA_284_B_C10_P121.mzXML 0.000000000    0.000220988   "
      ]
     },
     "metadata": {},
     "output_type": "display_data"
    },
    {
     "data": {
      "text/html": [
       "<ol class=list-inline>\n",
       "\t<li>32</li>\n",
       "\t<li>21</li>\n",
       "</ol>\n"
      ],
      "text/latex": [
       "\\begin{enumerate*}\n",
       "\\item 32\n",
       "\\item 21\n",
       "\\end{enumerate*}\n"
      ],
      "text/markdown": [
       "1. 32\n",
       "2. 21\n",
       "\n",
       "\n"
      ],
      "text/plain": [
       "[1] 32 21"
      ]
     },
     "metadata": {},
     "output_type": "display_data"
    }
   ],
   "source": [
    "feature_table_trans_filtered <- t(merge_file)\n",
    "head(feature_table_trans_filtered)\n",
    "dim(feature_table_trans_filtered)"
   ]
  },
  {
   "cell_type": "code",
   "execution_count": 34,
   "metadata": {},
   "outputs": [],
   "source": [
    "write.csv(feature_table_trans_filtered, \"03172021-3B1B-LA-F-filtered.csv\")"
   ]
  },
  {
   "cell_type": "code",
   "execution_count": 35,
   "metadata": {},
   "outputs": [
    {
     "data": {
      "text/html": [
       "<table>\n",
       "<thead><tr><th scope=col>filename</th><th scope=col>X137.046_0.31</th><th scope=col>X169.036_0.372</th><th scope=col>X184.074_0.312</th><th scope=col>X215.016_0.331</th><th scope=col>X231.073_0.435</th><th scope=col>X285.083_0.446</th><th scope=col>X344.229_2.208</th><th scope=col>X366.785_2.164</th><th scope=col>X410.201_2.128</th><th scope=col>...</th><th scope=col>X473.238_2.238</th><th scope=col>X482.361_2.958</th><th scope=col>X508.376_2.995</th><th scope=col>X587.553_2.334</th><th scope=col>X664.418_3.08</th><th scope=col>X669.741_2.258</th><th scope=col>X692.449_3.051</th><th scope=col>X760.586_5.601</th><th scope=col>X856.569_3.369</th><th scope=col>X949.624_2.926</th></tr></thead>\n",
       "<tbody>\n",
       "\t<tr><td>X506_Group1B_70dpi_LA_281_B_C7_P121.mzXML </td><td>0.003265925                               </td><td>0                                         </td><td>0.000835856                               </td><td>0.00e+00                                  </td><td>0.00e+00                                  </td><td>0.00e+00                                  </td><td>0                                         </td><td>0.00000000                                </td><td>0.00e+00                                  </td><td>...                                       </td><td>0.00e+00                                  </td><td>0.000091800                               </td><td>0.00e+00                                  </td><td>0                                         </td><td>0                                         </td><td>0.00e+00                                  </td><td>0.000000000                               </td><td>0.007915718                               </td><td>0.000844159                               </td><td>0.000000000                               </td></tr>\n",
       "\t<tr><td>X507_Group1B_70dpi_LA_282_B_C8_P121.mzXML </td><td>0.002469523                               </td><td>0                                         </td><td>0.000496071                               </td><td>0.00e+00                                  </td><td>0.00e+00                                  </td><td>0.00e+00                                  </td><td>0                                         </td><td>0.00000000                                </td><td>0.00e+00                                  </td><td>...                                       </td><td>0.00e+00                                  </td><td>0.000457078                               </td><td>4.86e-05                                  </td><td>0                                         </td><td>0                                         </td><td>0.00e+00                                  </td><td>0.000142095                               </td><td>0.005653908                               </td><td>0.002361211                               </td><td>0.000000000                               </td></tr>\n",
       "\t<tr><td>X508_Group1B_70dpi_LA_283_B_C9_P121.mzXML </td><td>0.006590554                               </td><td>0                                         </td><td>0.001429500                               </td><td>0.00e+00                                  </td><td>0.00e+00                                  </td><td>0.00e+00                                  </td><td>0                                         </td><td>0.00007300                                </td><td>0.00e+00                                  </td><td>...                                       </td><td>0.00e+00                                  </td><td>0.000164074                               </td><td>0.00e+00                                  </td><td>0                                         </td><td>0                                         </td><td>0.00e+00                                  </td><td>0.000032100                               </td><td>0.000737956                               </td><td>0.001160309                               </td><td>0.000000000                               </td></tr>\n",
       "\t<tr><td>X509_Group1B_70dpi_LA_284_B_C10_P121.mzXML</td><td>0.001882855                               </td><td>0                                         </td><td>0.000370625                               </td><td>3.73e-05                                  </td><td>1.52e-05                                  </td><td>1.54e-05                                  </td><td>0                                         </td><td>0.00008010                                </td><td>9.19e-06                                  </td><td>...                                       </td><td>9.74e-06                                  </td><td>0.000584676                               </td><td>9.34e-05                                  </td><td>0                                         </td><td>0                                         </td><td>1.62e-05                                  </td><td>0.000061800                               </td><td>0.000000000                               </td><td>0.000000000                               </td><td>0.000220988                               </td></tr>\n",
       "\t<tr><td>X510_Group1B_70dpi_LA_285_B_C11_P121.mzXML</td><td>0.004132550                               </td><td>0                                         </td><td>0.000910452                               </td><td>0.00e+00                                  </td><td>0.00e+00                                  </td><td>0.00e+00                                  </td><td>0                                         </td><td>0.00000000                                </td><td>0.00e+00                                  </td><td>...                                       </td><td>0.00e+00                                  </td><td>0.000432626                               </td><td>2.20e-05                                  </td><td>0                                         </td><td>0                                         </td><td>5.32e-05                                  </td><td>0.000142622                               </td><td>0.004993498                               </td><td>0.001517421                               </td><td>0.000022700                               </td></tr>\n",
       "\t<tr><td>X526_Group1B_70dpi_LA_286_B_C12_P121.mzXML</td><td>0.003516821                               </td><td>0                                         </td><td>0.001082995                               </td><td>1.86e-05                                  </td><td>0.00e+00                                  </td><td>0.00e+00                                  </td><td>0                                         </td><td>0.00028647                                </td><td>0.00e+00                                  </td><td>...                                       </td><td>0.00e+00                                  </td><td>0.000728984                               </td><td>6.92e-05                                  </td><td>0                                         </td><td>0                                         </td><td>5.81e-05                                  </td><td>0.000080900                               </td><td>0.002140370                               </td><td>0.001076008                               </td><td>0.000028100                               </td></tr>\n",
       "</tbody>\n",
       "</table>\n"
      ],
      "text/latex": [
       "\\begin{tabular}{r|llllllllllllllllllllll}\n",
       " filename & X137.046\\_0.31 & X169.036\\_0.372 & X184.074\\_0.312 & X215.016\\_0.331 & X231.073\\_0.435 & X285.083\\_0.446 & X344.229\\_2.208 & X366.785\\_2.164 & X410.201\\_2.128 & ... & X473.238\\_2.238 & X482.361\\_2.958 & X508.376\\_2.995 & X587.553\\_2.334 & X664.418\\_3.08 & X669.741\\_2.258 & X692.449\\_3.051 & X760.586\\_5.601 & X856.569\\_3.369 & X949.624\\_2.926\\\\\n",
       "\\hline\n",
       "\t X506\\_Group1B\\_70dpi\\_LA\\_281\\_B\\_C7\\_P121.mzXML  & 0.003265925                                              & 0                                                        & 0.000835856                                              & 0.00e+00                                                 & 0.00e+00                                                 & 0.00e+00                                                 & 0                                                        & 0.00000000                                               & 0.00e+00                                                 & ...                                                      & 0.00e+00                                                 & 0.000091800                                              & 0.00e+00                                                 & 0                                                        & 0                                                        & 0.00e+00                                                 & 0.000000000                                              & 0.007915718                                              & 0.000844159                                              & 0.000000000                                             \\\\\n",
       "\t X507\\_Group1B\\_70dpi\\_LA\\_282\\_B\\_C8\\_P121.mzXML  & 0.002469523                                              & 0                                                        & 0.000496071                                              & 0.00e+00                                                 & 0.00e+00                                                 & 0.00e+00                                                 & 0                                                        & 0.00000000                                               & 0.00e+00                                                 & ...                                                      & 0.00e+00                                                 & 0.000457078                                              & 4.86e-05                                                 & 0                                                        & 0                                                        & 0.00e+00                                                 & 0.000142095                                              & 0.005653908                                              & 0.002361211                                              & 0.000000000                                             \\\\\n",
       "\t X508\\_Group1B\\_70dpi\\_LA\\_283\\_B\\_C9\\_P121.mzXML  & 0.006590554                                              & 0                                                        & 0.001429500                                              & 0.00e+00                                                 & 0.00e+00                                                 & 0.00e+00                                                 & 0                                                        & 0.00007300                                               & 0.00e+00                                                 & ...                                                      & 0.00e+00                                                 & 0.000164074                                              & 0.00e+00                                                 & 0                                                        & 0                                                        & 0.00e+00                                                 & 0.000032100                                              & 0.000737956                                              & 0.001160309                                              & 0.000000000                                             \\\\\n",
       "\t X509\\_Group1B\\_70dpi\\_LA\\_284\\_B\\_C10\\_P121.mzXML & 0.001882855                                              & 0                                                        & 0.000370625                                              & 3.73e-05                                                 & 1.52e-05                                                 & 1.54e-05                                                 & 0                                                        & 0.00008010                                               & 9.19e-06                                                 & ...                                                      & 9.74e-06                                                 & 0.000584676                                              & 9.34e-05                                                 & 0                                                        & 0                                                        & 1.62e-05                                                 & 0.000061800                                              & 0.000000000                                              & 0.000000000                                              & 0.000220988                                             \\\\\n",
       "\t X510\\_Group1B\\_70dpi\\_LA\\_285\\_B\\_C11\\_P121.mzXML & 0.004132550                                              & 0                                                        & 0.000910452                                              & 0.00e+00                                                 & 0.00e+00                                                 & 0.00e+00                                                 & 0                                                        & 0.00000000                                               & 0.00e+00                                                 & ...                                                      & 0.00e+00                                                 & 0.000432626                                              & 2.20e-05                                                 & 0                                                        & 0                                                        & 5.32e-05                                                 & 0.000142622                                              & 0.004993498                                              & 0.001517421                                              & 0.000022700                                             \\\\\n",
       "\t X526\\_Group1B\\_70dpi\\_LA\\_286\\_B\\_C12\\_P121.mzXML & 0.003516821                                              & 0                                                        & 0.001082995                                              & 1.86e-05                                                 & 0.00e+00                                                 & 0.00e+00                                                 & 0                                                        & 0.00028647                                               & 0.00e+00                                                 & ...                                                      & 0.00e+00                                                 & 0.000728984                                              & 6.92e-05                                                 & 0                                                        & 0                                                        & 5.81e-05                                                 & 0.000080900                                              & 0.002140370                                              & 0.001076008                                              & 0.000028100                                             \\\\\n",
       "\\end{tabular}\n"
      ],
      "text/markdown": [
       "\n",
       "| filename | X137.046_0.31 | X169.036_0.372 | X184.074_0.312 | X215.016_0.331 | X231.073_0.435 | X285.083_0.446 | X344.229_2.208 | X366.785_2.164 | X410.201_2.128 | ... | X473.238_2.238 | X482.361_2.958 | X508.376_2.995 | X587.553_2.334 | X664.418_3.08 | X669.741_2.258 | X692.449_3.051 | X760.586_5.601 | X856.569_3.369 | X949.624_2.926 |\n",
       "|---|---|---|---|---|---|---|---|---|---|---|---|---|---|---|---|---|---|---|---|---|\n",
       "| X506_Group1B_70dpi_LA_281_B_C7_P121.mzXML  | 0.003265925                                | 0                                          | 0.000835856                                | 0.00e+00                                   | 0.00e+00                                   | 0.00e+00                                   | 0                                          | 0.00000000                                 | 0.00e+00                                   | ...                                        | 0.00e+00                                   | 0.000091800                                | 0.00e+00                                   | 0                                          | 0                                          | 0.00e+00                                   | 0.000000000                                | 0.007915718                                | 0.000844159                                | 0.000000000                                |\n",
       "| X507_Group1B_70dpi_LA_282_B_C8_P121.mzXML  | 0.002469523                                | 0                                          | 0.000496071                                | 0.00e+00                                   | 0.00e+00                                   | 0.00e+00                                   | 0                                          | 0.00000000                                 | 0.00e+00                                   | ...                                        | 0.00e+00                                   | 0.000457078                                | 4.86e-05                                   | 0                                          | 0                                          | 0.00e+00                                   | 0.000142095                                | 0.005653908                                | 0.002361211                                | 0.000000000                                |\n",
       "| X508_Group1B_70dpi_LA_283_B_C9_P121.mzXML  | 0.006590554                                | 0                                          | 0.001429500                                | 0.00e+00                                   | 0.00e+00                                   | 0.00e+00                                   | 0                                          | 0.00007300                                 | 0.00e+00                                   | ...                                        | 0.00e+00                                   | 0.000164074                                | 0.00e+00                                   | 0                                          | 0                                          | 0.00e+00                                   | 0.000032100                                | 0.000737956                                | 0.001160309                                | 0.000000000                                |\n",
       "| X509_Group1B_70dpi_LA_284_B_C10_P121.mzXML | 0.001882855                                | 0                                          | 0.000370625                                | 3.73e-05                                   | 1.52e-05                                   | 1.54e-05                                   | 0                                          | 0.00008010                                 | 9.19e-06                                   | ...                                        | 9.74e-06                                   | 0.000584676                                | 9.34e-05                                   | 0                                          | 0                                          | 1.62e-05                                   | 0.000061800                                | 0.000000000                                | 0.000000000                                | 0.000220988                                |\n",
       "| X510_Group1B_70dpi_LA_285_B_C11_P121.mzXML | 0.004132550                                | 0                                          | 0.000910452                                | 0.00e+00                                   | 0.00e+00                                   | 0.00e+00                                   | 0                                          | 0.00000000                                 | 0.00e+00                                   | ...                                        | 0.00e+00                                   | 0.000432626                                | 2.20e-05                                   | 0                                          | 0                                          | 5.32e-05                                   | 0.000142622                                | 0.004993498                                | 0.001517421                                | 0.000022700                                |\n",
       "| X526_Group1B_70dpi_LA_286_B_C12_P121.mzXML | 0.003516821                                | 0                                          | 0.001082995                                | 1.86e-05                                   | 0.00e+00                                   | 0.00e+00                                   | 0                                          | 0.00028647                                 | 0.00e+00                                   | ...                                        | 0.00e+00                                   | 0.000728984                                | 6.92e-05                                   | 0                                          | 0                                          | 5.81e-05                                   | 0.000080900                                | 0.002140370                                | 0.001076008                                | 0.000028100                                |\n",
       "\n"
      ],
      "text/plain": [
       "  filename                                   X137.046_0.31 X169.036_0.372\n",
       "1 X506_Group1B_70dpi_LA_281_B_C7_P121.mzXML  0.003265925   0             \n",
       "2 X507_Group1B_70dpi_LA_282_B_C8_P121.mzXML  0.002469523   0             \n",
       "3 X508_Group1B_70dpi_LA_283_B_C9_P121.mzXML  0.006590554   0             \n",
       "4 X509_Group1B_70dpi_LA_284_B_C10_P121.mzXML 0.001882855   0             \n",
       "5 X510_Group1B_70dpi_LA_285_B_C11_P121.mzXML 0.004132550   0             \n",
       "6 X526_Group1B_70dpi_LA_286_B_C12_P121.mzXML 0.003516821   0             \n",
       "  X184.074_0.312 X215.016_0.331 X231.073_0.435 X285.083_0.446 X344.229_2.208\n",
       "1 0.000835856    0.00e+00       0.00e+00       0.00e+00       0             \n",
       "2 0.000496071    0.00e+00       0.00e+00       0.00e+00       0             \n",
       "3 0.001429500    0.00e+00       0.00e+00       0.00e+00       0             \n",
       "4 0.000370625    3.73e-05       1.52e-05       1.54e-05       0             \n",
       "5 0.000910452    0.00e+00       0.00e+00       0.00e+00       0             \n",
       "6 0.001082995    1.86e-05       0.00e+00       0.00e+00       0             \n",
       "  X366.785_2.164 X410.201_2.128 ... X473.238_2.238 X482.361_2.958\n",
       "1 0.00000000     0.00e+00       ... 0.00e+00       0.000091800   \n",
       "2 0.00000000     0.00e+00       ... 0.00e+00       0.000457078   \n",
       "3 0.00007300     0.00e+00       ... 0.00e+00       0.000164074   \n",
       "4 0.00008010     9.19e-06       ... 9.74e-06       0.000584676   \n",
       "5 0.00000000     0.00e+00       ... 0.00e+00       0.000432626   \n",
       "6 0.00028647     0.00e+00       ... 0.00e+00       0.000728984   \n",
       "  X508.376_2.995 X587.553_2.334 X664.418_3.08 X669.741_2.258 X692.449_3.051\n",
       "1 0.00e+00       0              0             0.00e+00       0.000000000   \n",
       "2 4.86e-05       0              0             0.00e+00       0.000142095   \n",
       "3 0.00e+00       0              0             0.00e+00       0.000032100   \n",
       "4 9.34e-05       0              0             1.62e-05       0.000061800   \n",
       "5 2.20e-05       0              0             5.32e-05       0.000142622   \n",
       "6 6.92e-05       0              0             5.81e-05       0.000080900   \n",
       "  X760.586_5.601 X856.569_3.369 X949.624_2.926\n",
       "1 0.007915718    0.000844159    0.000000000   \n",
       "2 0.005653908    0.002361211    0.000000000   \n",
       "3 0.000737956    0.001160309    0.000000000   \n",
       "4 0.000000000    0.000000000    0.000220988   \n",
       "5 0.004993498    0.001517421    0.000022700   \n",
       "6 0.002140370    0.001076008    0.000028100   "
      ]
     },
     "metadata": {},
     "output_type": "display_data"
    },
    {
     "data": {
      "text/html": [
       "<ol class=list-inline>\n",
       "\t<li>30</li>\n",
       "\t<li>22</li>\n",
       "</ol>\n"
      ],
      "text/latex": [
       "\\begin{enumerate*}\n",
       "\\item 30\n",
       "\\item 22\n",
       "\\end{enumerate*}\n"
      ],
      "text/markdown": [
       "1. 30\n",
       "2. 22\n",
       "\n",
       "\n"
      ],
      "text/plain": [
       "[1] 30 22"
      ]
     },
     "metadata": {},
     "output_type": "display_data"
    }
   ],
   "source": [
    "merge_file_3 <- read.csv(\"03172021-3B1B-LA-F-filtered-fix.csv\", h = T, sep = \",\", dec = \".\")\n",
    "head(merge_file_3)\n",
    "dim(merge_file_3)"
   ]
  },
  {
   "cell_type": "code",
   "execution_count": 36,
   "metadata": {},
   "outputs": [
    {
     "data": {
      "text/html": [
       "<table>\n",
       "<thead><tr><th scope=col>filename</th><th scope=col>MouseID</th><th scope=col>Treatmentgroup</th><th scope=col>status</th><th scope=col>DPI</th><th scope=col>organ</th><th scope=col>well_position</th><th scope=col>plate</th><th scope=col>X137.046_0.31</th><th scope=col>X169.036_0.372</th><th scope=col>...</th><th scope=col>X473.238_2.238</th><th scope=col>X482.361_2.958</th><th scope=col>X508.376_2.995</th><th scope=col>X587.553_2.334</th><th scope=col>X664.418_3.08</th><th scope=col>X669.741_2.258</th><th scope=col>X692.449_3.051</th><th scope=col>X760.586_5.601</th><th scope=col>X856.569_3.369</th><th scope=col>X949.624_2.926</th></tr></thead>\n",
       "<tbody>\n",
       "\t<tr><td>X506_Group1B_70dpi_LA_281_B_C7_P121.mzXML </td><td>506                                       </td><td>Group1B                                   </td><td>naive                                     </td><td>70                                        </td><td>LA                                        </td><td>C7                                        </td><td>P121                                      </td><td>0.003265925                               </td><td>0                                         </td><td>...                                       </td><td>0.00e+00                                  </td><td>0.000091800                               </td><td>0.00e+00                                  </td><td>0                                         </td><td>0                                         </td><td>0.00e+00                                  </td><td>0.000000000                               </td><td>0.007915718                               </td><td>0.000844159                               </td><td>0.000000000                               </td></tr>\n",
       "\t<tr><td>X507_Group1B_70dpi_LA_282_B_C8_P121.mzXML </td><td>507                                       </td><td>Group1B                                   </td><td>naive                                     </td><td>70                                        </td><td>LA                                        </td><td>C8                                        </td><td>P121                                      </td><td>0.002469523                               </td><td>0                                         </td><td>...                                       </td><td>0.00e+00                                  </td><td>0.000457078                               </td><td>4.86e-05                                  </td><td>0                                         </td><td>0                                         </td><td>0.00e+00                                  </td><td>0.000142095                               </td><td>0.005653908                               </td><td>0.002361211                               </td><td>0.000000000                               </td></tr>\n",
       "\t<tr><td>X508_Group1B_70dpi_LA_283_B_C9_P121.mzXML </td><td>508                                       </td><td>Group1B                                   </td><td>naive                                     </td><td>70                                        </td><td>LA                                        </td><td>C9                                        </td><td>P121                                      </td><td>0.006590554                               </td><td>0                                         </td><td>...                                       </td><td>0.00e+00                                  </td><td>0.000164074                               </td><td>0.00e+00                                  </td><td>0                                         </td><td>0                                         </td><td>0.00e+00                                  </td><td>0.000032100                               </td><td>0.000737956                               </td><td>0.001160309                               </td><td>0.000000000                               </td></tr>\n",
       "\t<tr><td>X509_Group1B_70dpi_LA_284_B_C10_P121.mzXML</td><td>509                                       </td><td>Group1B                                   </td><td>naive                                     </td><td>70                                        </td><td>LA                                        </td><td>C10                                       </td><td>P121                                      </td><td>0.001882855                               </td><td>0                                         </td><td>...                                       </td><td>9.74e-06                                  </td><td>0.000584676                               </td><td>9.34e-05                                  </td><td>0                                         </td><td>0                                         </td><td>1.62e-05                                  </td><td>0.000061800                               </td><td>0.000000000                               </td><td>0.000000000                               </td><td>0.000220988                               </td></tr>\n",
       "\t<tr><td>X510_Group1B_70dpi_LA_285_B_C11_P121.mzXML</td><td>510                                       </td><td>Group1B                                   </td><td>naive                                     </td><td>70                                        </td><td>LA                                        </td><td>C11                                       </td><td>P121                                      </td><td>0.004132550                               </td><td>0                                         </td><td>...                                       </td><td>0.00e+00                                  </td><td>0.000432626                               </td><td>2.20e-05                                  </td><td>0                                         </td><td>0                                         </td><td>5.32e-05                                  </td><td>0.000142622                               </td><td>0.004993498                               </td><td>0.001517421                               </td><td>0.000022700                               </td></tr>\n",
       "\t<tr><td>X526_Group1B_70dpi_LA_286_B_C12_P121.mzXML</td><td>526                                       </td><td>Group1B                                   </td><td>naive                                     </td><td>70                                        </td><td>LA                                        </td><td>C12                                       </td><td>P121                                      </td><td>0.003516821                               </td><td>0                                         </td><td>...                                       </td><td>0.00e+00                                  </td><td>0.000728984                               </td><td>6.92e-05                                  </td><td>0                                         </td><td>0                                         </td><td>5.81e-05                                  </td><td>0.000080900                               </td><td>0.002140370                               </td><td>0.001076008                               </td><td>0.000028100                               </td></tr>\n",
       "</tbody>\n",
       "</table>\n"
      ],
      "text/latex": [
       "\\begin{tabular}{r|lllllllllllllllllllllllllllll}\n",
       " filename & MouseID & Treatmentgroup & status & DPI & organ & well\\_position & plate & X137.046\\_0.31 & X169.036\\_0.372 & ... & X473.238\\_2.238 & X482.361\\_2.958 & X508.376\\_2.995 & X587.553\\_2.334 & X664.418\\_3.08 & X669.741\\_2.258 & X692.449\\_3.051 & X760.586\\_5.601 & X856.569\\_3.369 & X949.624\\_2.926\\\\\n",
       "\\hline\n",
       "\t X506\\_Group1B\\_70dpi\\_LA\\_281\\_B\\_C7\\_P121.mzXML  & 506                                                      & Group1B                                                  & naive                                                    & 70                                                       & LA                                                       & C7                                                       & P121                                                     & 0.003265925                                              & 0                                                        & ...                                                      & 0.00e+00                                                 & 0.000091800                                              & 0.00e+00                                                 & 0                                                        & 0                                                        & 0.00e+00                                                 & 0.000000000                                              & 0.007915718                                              & 0.000844159                                              & 0.000000000                                             \\\\\n",
       "\t X507\\_Group1B\\_70dpi\\_LA\\_282\\_B\\_C8\\_P121.mzXML  & 507                                                      & Group1B                                                  & naive                                                    & 70                                                       & LA                                                       & C8                                                       & P121                                                     & 0.002469523                                              & 0                                                        & ...                                                      & 0.00e+00                                                 & 0.000457078                                              & 4.86e-05                                                 & 0                                                        & 0                                                        & 0.00e+00                                                 & 0.000142095                                              & 0.005653908                                              & 0.002361211                                              & 0.000000000                                             \\\\\n",
       "\t X508\\_Group1B\\_70dpi\\_LA\\_283\\_B\\_C9\\_P121.mzXML  & 508                                                      & Group1B                                                  & naive                                                    & 70                                                       & LA                                                       & C9                                                       & P121                                                     & 0.006590554                                              & 0                                                        & ...                                                      & 0.00e+00                                                 & 0.000164074                                              & 0.00e+00                                                 & 0                                                        & 0                                                        & 0.00e+00                                                 & 0.000032100                                              & 0.000737956                                              & 0.001160309                                              & 0.000000000                                             \\\\\n",
       "\t X509\\_Group1B\\_70dpi\\_LA\\_284\\_B\\_C10\\_P121.mzXML & 509                                                      & Group1B                                                  & naive                                                    & 70                                                       & LA                                                       & C10                                                      & P121                                                     & 0.001882855                                              & 0                                                        & ...                                                      & 9.74e-06                                                 & 0.000584676                                              & 9.34e-05                                                 & 0                                                        & 0                                                        & 1.62e-05                                                 & 0.000061800                                              & 0.000000000                                              & 0.000000000                                              & 0.000220988                                             \\\\\n",
       "\t X510\\_Group1B\\_70dpi\\_LA\\_285\\_B\\_C11\\_P121.mzXML & 510                                                      & Group1B                                                  & naive                                                    & 70                                                       & LA                                                       & C11                                                      & P121                                                     & 0.004132550                                              & 0                                                        & ...                                                      & 0.00e+00                                                 & 0.000432626                                              & 2.20e-05                                                 & 0                                                        & 0                                                        & 5.32e-05                                                 & 0.000142622                                              & 0.004993498                                              & 0.001517421                                              & 0.000022700                                             \\\\\n",
       "\t X526\\_Group1B\\_70dpi\\_LA\\_286\\_B\\_C12\\_P121.mzXML & 526                                                      & Group1B                                                  & naive                                                    & 70                                                       & LA                                                       & C12                                                      & P121                                                     & 0.003516821                                              & 0                                                        & ...                                                      & 0.00e+00                                                 & 0.000728984                                              & 6.92e-05                                                 & 0                                                        & 0                                                        & 5.81e-05                                                 & 0.000080900                                              & 0.002140370                                              & 0.001076008                                              & 0.000028100                                             \\\\\n",
       "\\end{tabular}\n"
      ],
      "text/markdown": [
       "\n",
       "| filename | MouseID | Treatmentgroup | status | DPI | organ | well_position | plate | X137.046_0.31 | X169.036_0.372 | ... | X473.238_2.238 | X482.361_2.958 | X508.376_2.995 | X587.553_2.334 | X664.418_3.08 | X669.741_2.258 | X692.449_3.051 | X760.586_5.601 | X856.569_3.369 | X949.624_2.926 |\n",
       "|---|---|---|---|---|---|---|---|---|---|---|---|---|---|---|---|---|---|---|---|---|\n",
       "| X506_Group1B_70dpi_LA_281_B_C7_P121.mzXML  | 506                                        | Group1B                                    | naive                                      | 70                                         | LA                                         | C7                                         | P121                                       | 0.003265925                                | 0                                          | ...                                        | 0.00e+00                                   | 0.000091800                                | 0.00e+00                                   | 0                                          | 0                                          | 0.00e+00                                   | 0.000000000                                | 0.007915718                                | 0.000844159                                | 0.000000000                                |\n",
       "| X507_Group1B_70dpi_LA_282_B_C8_P121.mzXML  | 507                                        | Group1B                                    | naive                                      | 70                                         | LA                                         | C8                                         | P121                                       | 0.002469523                                | 0                                          | ...                                        | 0.00e+00                                   | 0.000457078                                | 4.86e-05                                   | 0                                          | 0                                          | 0.00e+00                                   | 0.000142095                                | 0.005653908                                | 0.002361211                                | 0.000000000                                |\n",
       "| X508_Group1B_70dpi_LA_283_B_C9_P121.mzXML  | 508                                        | Group1B                                    | naive                                      | 70                                         | LA                                         | C9                                         | P121                                       | 0.006590554                                | 0                                          | ...                                        | 0.00e+00                                   | 0.000164074                                | 0.00e+00                                   | 0                                          | 0                                          | 0.00e+00                                   | 0.000032100                                | 0.000737956                                | 0.001160309                                | 0.000000000                                |\n",
       "| X509_Group1B_70dpi_LA_284_B_C10_P121.mzXML | 509                                        | Group1B                                    | naive                                      | 70                                         | LA                                         | C10                                        | P121                                       | 0.001882855                                | 0                                          | ...                                        | 9.74e-06                                   | 0.000584676                                | 9.34e-05                                   | 0                                          | 0                                          | 1.62e-05                                   | 0.000061800                                | 0.000000000                                | 0.000000000                                | 0.000220988                                |\n",
       "| X510_Group1B_70dpi_LA_285_B_C11_P121.mzXML | 510                                        | Group1B                                    | naive                                      | 70                                         | LA                                         | C11                                        | P121                                       | 0.004132550                                | 0                                          | ...                                        | 0.00e+00                                   | 0.000432626                                | 2.20e-05                                   | 0                                          | 0                                          | 5.32e-05                                   | 0.000142622                                | 0.004993498                                | 0.001517421                                | 0.000022700                                |\n",
       "| X526_Group1B_70dpi_LA_286_B_C12_P121.mzXML | 526                                        | Group1B                                    | naive                                      | 70                                         | LA                                         | C12                                        | P121                                       | 0.003516821                                | 0                                          | ...                                        | 0.00e+00                                   | 0.000728984                                | 6.92e-05                                   | 0                                          | 0                                          | 5.81e-05                                   | 0.000080900                                | 0.002140370                                | 0.001076008                                | 0.000028100                                |\n",
       "\n"
      ],
      "text/plain": [
       "  filename                                   MouseID Treatmentgroup status DPI\n",
       "1 X506_Group1B_70dpi_LA_281_B_C7_P121.mzXML  506     Group1B        naive  70 \n",
       "2 X507_Group1B_70dpi_LA_282_B_C8_P121.mzXML  507     Group1B        naive  70 \n",
       "3 X508_Group1B_70dpi_LA_283_B_C9_P121.mzXML  508     Group1B        naive  70 \n",
       "4 X509_Group1B_70dpi_LA_284_B_C10_P121.mzXML 509     Group1B        naive  70 \n",
       "5 X510_Group1B_70dpi_LA_285_B_C11_P121.mzXML 510     Group1B        naive  70 \n",
       "6 X526_Group1B_70dpi_LA_286_B_C12_P121.mzXML 526     Group1B        naive  70 \n",
       "  organ well_position plate X137.046_0.31 X169.036_0.372 ... X473.238_2.238\n",
       "1 LA    C7            P121  0.003265925   0              ... 0.00e+00      \n",
       "2 LA    C8            P121  0.002469523   0              ... 0.00e+00      \n",
       "3 LA    C9            P121  0.006590554   0              ... 0.00e+00      \n",
       "4 LA    C10           P121  0.001882855   0              ... 9.74e-06      \n",
       "5 LA    C11           P121  0.004132550   0              ... 0.00e+00      \n",
       "6 LA    C12           P121  0.003516821   0              ... 0.00e+00      \n",
       "  X482.361_2.958 X508.376_2.995 X587.553_2.334 X664.418_3.08 X669.741_2.258\n",
       "1 0.000091800    0.00e+00       0              0             0.00e+00      \n",
       "2 0.000457078    4.86e-05       0              0             0.00e+00      \n",
       "3 0.000164074    0.00e+00       0              0             0.00e+00      \n",
       "4 0.000584676    9.34e-05       0              0             1.62e-05      \n",
       "5 0.000432626    2.20e-05       0              0             5.32e-05      \n",
       "6 0.000728984    6.92e-05       0              0             5.81e-05      \n",
       "  X692.449_3.051 X760.586_5.601 X856.569_3.369 X949.624_2.926\n",
       "1 0.000000000    0.007915718    0.000844159    0.000000000   \n",
       "2 0.000142095    0.005653908    0.002361211    0.000000000   \n",
       "3 0.000032100    0.000737956    0.001160309    0.000000000   \n",
       "4 0.000061800    0.000000000    0.000000000    0.000220988   \n",
       "5 0.000142622    0.004993498    0.001517421    0.000022700   \n",
       "6 0.000080900    0.002140370    0.001076008    0.000028100   "
      ]
     },
     "metadata": {},
     "output_type": "display_data"
    },
    {
     "data": {
      "text/html": [
       "<ol class=list-inline>\n",
       "\t<li>30</li>\n",
       "\t<li>29</li>\n",
       "</ol>\n"
      ],
      "text/latex": [
       "\\begin{enumerate*}\n",
       "\\item 30\n",
       "\\item 29\n",
       "\\end{enumerate*}\n"
      ],
      "text/markdown": [
       "1. 30\n",
       "2. 29\n",
       "\n",
       "\n"
      ],
      "text/plain": [
       "[1] 30 29"
      ]
     },
     "metadata": {},
     "output_type": "display_data"
    }
   ],
   "source": [
    "merge_file_final <- merge(metadata, merge_file_3, by=\"filename\")\n",
    "head(merge_file_final)\n",
    "dim(merge_file_final)"
   ]
  },
  {
   "cell_type": "code",
   "execution_count": 37,
   "metadata": {},
   "outputs": [],
   "source": [
    "write.csv(merge_file_final, \"03172021-3B1B-LA-M-F-filtered.csv\", row.names = FALSE)"
   ]
  },
  {
   "cell_type": "code",
   "execution_count": null,
   "metadata": {},
   "outputs": [],
   "source": []
  }
 ],
 "metadata": {
  "kernelspec": {
   "display_name": "R",
   "language": "R",
   "name": "ir"
  },
  "language_info": {
   "codemirror_mode": "r",
   "file_extension": ".r",
   "mimetype": "text/x-r-source",
   "name": "R",
   "pygments_lexer": "r",
   "version": "3.6.1"
  }
 },
 "nbformat": 4,
 "nbformat_minor": 4
}
