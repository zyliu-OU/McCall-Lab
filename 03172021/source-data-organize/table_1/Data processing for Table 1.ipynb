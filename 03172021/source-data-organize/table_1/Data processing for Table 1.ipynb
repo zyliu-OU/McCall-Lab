{
 "cells": [
  {
   "cell_type": "code",
   "execution_count": 23,
   "metadata": {},
   "outputs": [],
   "source": [
    "#group codes\n",
    "#group 1C: naive 142 dpi\n",
    "#group 3E: vehicle 142 dpi\n",
    "#group 15: BNZ-only\n",
    "#group 9: combo"
   ]
  },
  {
   "cell_type": "code",
   "execution_count": 13,
   "metadata": {},
   "outputs": [],
   "source": [
    "library(FSA)"
   ]
  },
  {
   "cell_type": "code",
   "execution_count": 24,
   "metadata": {},
   "outputs": [
    {
     "data": {
      "text/html": [
       "<table class=\"dataframe\">\n",
       "<caption>A data.frame: 6 × 52</caption>\n",
       "<thead>\n",
       "\t<tr><th></th><th scope=col>Mouse.ID</th><th scope=col>Infection.Status</th><th scope=col>Treatment.group</th><th scope=col>Treatment</th><th scope=col>Heart.Weight</th><th scope=col>Liver.Weight</th><th scope=col>Body.Weight</th><th scope=col>Heart.Weight..Body.Weight</th><th scope=col>Liver.Weight..Body.Weight</th><th scope=col>Heart.Rate</th><th scope=col>...</th><th scope=col>CD3.CD4.IL.4.</th><th scope=col>CD3.CD4.IFNg.</th><th scope=col>CD3.CD4.IL.17.</th><th scope=col>CD3.CD4.TNFa.</th><th scope=col>CD3.CD8.</th><th scope=col>CD3.CD8.IL.2.</th><th scope=col>CD3.CD8.IL.4.</th><th scope=col>CD3.CD8.IFNg.</th><th scope=col>CD3.CD8.IL.17.</th><th scope=col>CD3.CD8.TNFa.</th></tr>\n",
       "\t<tr><th></th><th scope=col>&lt;fct&gt;</th><th scope=col>&lt;fct&gt;</th><th scope=col>&lt;fct&gt;</th><th scope=col>&lt;fct&gt;</th><th scope=col>&lt;dbl&gt;</th><th scope=col>&lt;dbl&gt;</th><th scope=col>&lt;dbl&gt;</th><th scope=col>&lt;dbl&gt;</th><th scope=col>&lt;dbl&gt;</th><th scope=col>&lt;dbl&gt;</th><th scope=col>...</th><th scope=col>&lt;dbl&gt;</th><th scope=col>&lt;dbl&gt;</th><th scope=col>&lt;dbl&gt;</th><th scope=col>&lt;dbl&gt;</th><th scope=col>&lt;dbl&gt;</th><th scope=col>&lt;dbl&gt;</th><th scope=col>&lt;dbl&gt;</th><th scope=col>&lt;dbl&gt;</th><th scope=col>&lt;dbl&gt;</th><th scope=col>&lt;dbl&gt;</th></tr>\n",
       "</thead>\n",
       "<tbody>\n",
       "\t<tr><th scope=row>1</th><td>#511</td><td>Naïve</td><td>Group 1C</td><td>None</td><td>0.15</td><td>1.16</td><td>22.4</td><td>0.006696429</td><td>0.05178571</td><td>412.4949</td><td>...</td><td>-0.0046</td><td> 0.00040</td><td>-0.0003</td><td>-0.0061</td><td>-0.010</td><td> 0.0075</td><td> 0.0003</td><td> 0.0017</td><td> 0.0005</td><td> 0.0014</td></tr>\n",
       "\t<tr><th scope=row>2</th><td>#512</td><td>Naïve</td><td>Group 1C</td><td>None</td><td>0.13</td><td>1.17</td><td>25.2</td><td>0.005158730</td><td>0.04642857</td><td>375.8423</td><td>...</td><td> 0.0045</td><td>-0.00140</td><td>-0.0017</td><td> 0.0012</td><td>-0.031</td><td> 0.0249</td><td> 0.0007</td><td> 0.0055</td><td>-0.0007</td><td> 0.0060</td></tr>\n",
       "\t<tr><th scope=row>3</th><td>#513</td><td>Naïve</td><td>Group 1C</td><td>None</td><td>0.14</td><td>1.38</td><td>25.4</td><td>0.005511811</td><td>0.05433071</td><td>466.5870</td><td>...</td><td> 0.0023</td><td> 0.00540</td><td> 0.0017</td><td>-0.0054</td><td>-0.023</td><td> 0.0328</td><td> 0.0187</td><td> 0.0206</td><td> 0.0016</td><td> 0.0262</td></tr>\n",
       "\t<tr><th scope=row>4</th><td>#514</td><td>Naïve</td><td>Group 1C</td><td>None</td><td>0.19</td><td>1.48</td><td>26.8</td><td>0.007089552</td><td>0.05522388</td><td>461.7719</td><td>...</td><td>-0.0034</td><td>-0.00030</td><td> 0.0006</td><td> 0.0006</td><td>-0.011</td><td> 0.0013</td><td>-0.0019</td><td>-0.0016</td><td>-0.0039</td><td>-0.0004</td></tr>\n",
       "\t<tr><th scope=row>5</th><td>#515</td><td>Naïve</td><td>Group 1C</td><td>None</td><td>0.15</td><td>1.42</td><td>24.5</td><td>0.006122449</td><td>0.05795918</td><td>451.8381</td><td>...</td><td>-0.0044</td><td> 0.00021</td><td> 0.0012</td><td>-0.0008</td><td>-0.011</td><td>-0.0033</td><td>-0.0011</td><td> 0.0009</td><td> 0.0059</td><td> 0.0000</td></tr>\n",
       "\t<tr><th scope=row>6</th><td>#531</td><td>Naïve</td><td>Group 1C</td><td>None</td><td>0.15</td><td>1.48</td><td>26.0</td><td>0.005769231</td><td>0.05692308</td><td>470.5366</td><td>...</td><td>-0.0015</td><td>-0.00020</td><td> 0.0002</td><td> 0.0048</td><td>-0.017</td><td> 0.0148</td><td>-0.0008</td><td> 0.0046</td><td> 0.0008</td><td> 0.0076</td></tr>\n",
       "</tbody>\n",
       "</table>\n"
      ],
      "text/latex": [
       "A data.frame: 6 × 52\n",
       "\\begin{tabular}{r|lllllllllllllllllllll}\n",
       "  & Mouse.ID & Infection.Status & Treatment.group & Treatment & Heart.Weight & Liver.Weight & Body.Weight & Heart.Weight..Body.Weight & Liver.Weight..Body.Weight & Heart.Rate & ... & CD3.CD4.IL.4. & CD3.CD4.IFNg. & CD3.CD4.IL.17. & CD3.CD4.TNFa. & CD3.CD8. & CD3.CD8.IL.2. & CD3.CD8.IL.4. & CD3.CD8.IFNg. & CD3.CD8.IL.17. & CD3.CD8.TNFa.\\\\\n",
       "  & <fct> & <fct> & <fct> & <fct> & <dbl> & <dbl> & <dbl> & <dbl> & <dbl> & <dbl> & ... & <dbl> & <dbl> & <dbl> & <dbl> & <dbl> & <dbl> & <dbl> & <dbl> & <dbl> & <dbl>\\\\\n",
       "\\hline\n",
       "\t1 & \\#511 & Naïve & Group 1C & None & 0.15 & 1.16 & 22.4 & 0.006696429 & 0.05178571 & 412.4949 & ... & -0.0046 &  0.00040 & -0.0003 & -0.0061 & -0.010 &  0.0075 &  0.0003 &  0.0017 &  0.0005 &  0.0014\\\\\n",
       "\t2 & \\#512 & Naïve & Group 1C & None & 0.13 & 1.17 & 25.2 & 0.005158730 & 0.04642857 & 375.8423 & ... &  0.0045 & -0.00140 & -0.0017 &  0.0012 & -0.031 &  0.0249 &  0.0007 &  0.0055 & -0.0007 &  0.0060\\\\\n",
       "\t3 & \\#513 & Naïve & Group 1C & None & 0.14 & 1.38 & 25.4 & 0.005511811 & 0.05433071 & 466.5870 & ... &  0.0023 &  0.00540 &  0.0017 & -0.0054 & -0.023 &  0.0328 &  0.0187 &  0.0206 &  0.0016 &  0.0262\\\\\n",
       "\t4 & \\#514 & Naïve & Group 1C & None & 0.19 & 1.48 & 26.8 & 0.007089552 & 0.05522388 & 461.7719 & ... & -0.0034 & -0.00030 &  0.0006 &  0.0006 & -0.011 &  0.0013 & -0.0019 & -0.0016 & -0.0039 & -0.0004\\\\\n",
       "\t5 & \\#515 & Naïve & Group 1C & None & 0.15 & 1.42 & 24.5 & 0.006122449 & 0.05795918 & 451.8381 & ... & -0.0044 &  0.00021 &  0.0012 & -0.0008 & -0.011 & -0.0033 & -0.0011 &  0.0009 &  0.0059 &  0.0000\\\\\n",
       "\t6 & \\#531 & Naïve & Group 1C & None & 0.15 & 1.48 & 26.0 & 0.005769231 & 0.05692308 & 470.5366 & ... & -0.0015 & -0.00020 &  0.0002 &  0.0048 & -0.017 &  0.0148 & -0.0008 &  0.0046 &  0.0008 &  0.0076\\\\\n",
       "\\end{tabular}\n"
      ],
      "text/markdown": [
       "\n",
       "A data.frame: 6 × 52\n",
       "\n",
       "| <!--/--> | Mouse.ID &lt;fct&gt; | Infection.Status &lt;fct&gt; | Treatment.group &lt;fct&gt; | Treatment &lt;fct&gt; | Heart.Weight &lt;dbl&gt; | Liver.Weight &lt;dbl&gt; | Body.Weight &lt;dbl&gt; | Heart.Weight..Body.Weight &lt;dbl&gt; | Liver.Weight..Body.Weight &lt;dbl&gt; | Heart.Rate &lt;dbl&gt; | ... ... | CD3.CD4.IL.4. &lt;dbl&gt; | CD3.CD4.IFNg. &lt;dbl&gt; | CD3.CD4.IL.17. &lt;dbl&gt; | CD3.CD4.TNFa. &lt;dbl&gt; | CD3.CD8. &lt;dbl&gt; | CD3.CD8.IL.2. &lt;dbl&gt; | CD3.CD8.IL.4. &lt;dbl&gt; | CD3.CD8.IFNg. &lt;dbl&gt; | CD3.CD8.IL.17. &lt;dbl&gt; | CD3.CD8.TNFa. &lt;dbl&gt; |\n",
       "|---|---|---|---|---|---|---|---|---|---|---|---|---|---|---|---|---|---|---|---|---|---|\n",
       "| 1 | #511 | Naïve | Group 1C | None | 0.15 | 1.16 | 22.4 | 0.006696429 | 0.05178571 | 412.4949 | ... | -0.0046 |  0.00040 | -0.0003 | -0.0061 | -0.010 |  0.0075 |  0.0003 |  0.0017 |  0.0005 |  0.0014 |\n",
       "| 2 | #512 | Naïve | Group 1C | None | 0.13 | 1.17 | 25.2 | 0.005158730 | 0.04642857 | 375.8423 | ... |  0.0045 | -0.00140 | -0.0017 |  0.0012 | -0.031 |  0.0249 |  0.0007 |  0.0055 | -0.0007 |  0.0060 |\n",
       "| 3 | #513 | Naïve | Group 1C | None | 0.14 | 1.38 | 25.4 | 0.005511811 | 0.05433071 | 466.5870 | ... |  0.0023 |  0.00540 |  0.0017 | -0.0054 | -0.023 |  0.0328 |  0.0187 |  0.0206 |  0.0016 |  0.0262 |\n",
       "| 4 | #514 | Naïve | Group 1C | None | 0.19 | 1.48 | 26.8 | 0.007089552 | 0.05522388 | 461.7719 | ... | -0.0034 | -0.00030 |  0.0006 |  0.0006 | -0.011 |  0.0013 | -0.0019 | -0.0016 | -0.0039 | -0.0004 |\n",
       "| 5 | #515 | Naïve | Group 1C | None | 0.15 | 1.42 | 24.5 | 0.006122449 | 0.05795918 | 451.8381 | ... | -0.0044 |  0.00021 |  0.0012 | -0.0008 | -0.011 | -0.0033 | -0.0011 |  0.0009 |  0.0059 |  0.0000 |\n",
       "| 6 | #531 | Naïve | Group 1C | None | 0.15 | 1.48 | 26.0 | 0.005769231 | 0.05692308 | 470.5366 | ... | -0.0015 | -0.00020 |  0.0002 |  0.0048 | -0.017 |  0.0148 | -0.0008 |  0.0046 |  0.0008 |  0.0076 |\n",
       "\n"
      ],
      "text/plain": [
       "  Mouse.ID Infection.Status Treatment.group Treatment Heart.Weight Liver.Weight\n",
       "1 #511     Naïve            Group 1C        None      0.15         1.16        \n",
       "2 #512     Naïve            Group 1C        None      0.13         1.17        \n",
       "3 #513     Naïve            Group 1C        None      0.14         1.38        \n",
       "4 #514     Naïve            Group 1C        None      0.19         1.48        \n",
       "5 #515     Naïve            Group 1C        None      0.15         1.42        \n",
       "6 #531     Naïve            Group 1C        None      0.15         1.48        \n",
       "  Body.Weight Heart.Weight..Body.Weight Liver.Weight..Body.Weight Heart.Rate\n",
       "1 22.4        0.006696429               0.05178571                412.4949  \n",
       "2 25.2        0.005158730               0.04642857                375.8423  \n",
       "3 25.4        0.005511811               0.05433071                466.5870  \n",
       "4 26.8        0.007089552               0.05522388                461.7719  \n",
       "5 24.5        0.006122449               0.05795918                451.8381  \n",
       "6 26.0        0.005769231               0.05692308                470.5366  \n",
       "  ... CD3.CD4.IL.4. CD3.CD4.IFNg. CD3.CD4.IL.17. CD3.CD4.TNFa. CD3.CD8.\n",
       "1 ... -0.0046        0.00040      -0.0003        -0.0061       -0.010  \n",
       "2 ...  0.0045       -0.00140      -0.0017         0.0012       -0.031  \n",
       "3 ...  0.0023        0.00540       0.0017        -0.0054       -0.023  \n",
       "4 ... -0.0034       -0.00030       0.0006         0.0006       -0.011  \n",
       "5 ... -0.0044        0.00021       0.0012        -0.0008       -0.011  \n",
       "6 ... -0.0015       -0.00020       0.0002         0.0048       -0.017  \n",
       "  CD3.CD8.IL.2. CD3.CD8.IL.4. CD3.CD8.IFNg. CD3.CD8.IL.17. CD3.CD8.TNFa.\n",
       "1  0.0075        0.0003        0.0017        0.0005         0.0014      \n",
       "2  0.0249        0.0007        0.0055       -0.0007         0.0060      \n",
       "3  0.0328        0.0187        0.0206        0.0016         0.0262      \n",
       "4  0.0013       -0.0019       -0.0016       -0.0039        -0.0004      \n",
       "5 -0.0033       -0.0011        0.0009        0.0059         0.0000      \n",
       "6  0.0148       -0.0008        0.0046        0.0008         0.0076      "
      ]
     },
     "metadata": {},
     "output_type": "display_data"
    }
   ],
   "source": [
    "metadata<-read.csv(\"Source data for Table 1.csv\")\n",
    "head(metadata)"
   ]
  },
  {
   "cell_type": "code",
   "execution_count": 25,
   "metadata": {},
   "outputs": [
    {
     "data": {
      "text/plain": [
       "\n",
       "Group 10 Group 14 Group 15 Group 1C Group 3E  Group 9 \n",
       "      15       15       15       15       15       15 "
      ]
     },
     "metadata": {},
     "output_type": "display_data"
    },
    {
     "data": {
      "text/plain": [
       "\n",
       "Group 15 Group 1C Group 3E  Group 9 \n",
       "      15       15       15       15 "
      ]
     },
     "metadata": {},
     "output_type": "display_data"
    }
   ],
   "source": [
    "metadata_paper<-droplevels(subset(metadata, metadata$Treatment.group!=c(\"Group 10\")))\n",
    "metadata_paper_final<-droplevels(subset(metadata_paper, metadata_paper$Treatment.group!=c(\"Group 14\")))\n",
    "table(metadata$Treatment.group)\n",
    "table(metadata_paper_final$Treatment.group)\n",
    "#select only the groups relevant for this manuscript"
   ]
  },
  {
   "cell_type": "code",
   "execution_count": 26,
   "metadata": {},
   "outputs": [
    {
     "data": {
      "text/html": [
       "<table class=\"dataframe\">\n",
       "<caption>A data.frame: 6 × 7</caption>\n",
       "<thead>\n",
       "\t<tr><th></th><th scope=col>Treatment</th><th scope=col>Heart.Weight</th><th scope=col>Liver.Weight</th><th scope=col>Body.Weight</th><th scope=col>Heart.Weight..Body.Weight</th><th scope=col>Liver.Weight..Body.Weight</th><th scope=col>Heart.Rate</th></tr>\n",
       "\t<tr><th></th><th scope=col>&lt;fct&gt;</th><th scope=col>&lt;dbl&gt;</th><th scope=col>&lt;dbl&gt;</th><th scope=col>&lt;dbl&gt;</th><th scope=col>&lt;dbl&gt;</th><th scope=col>&lt;dbl&gt;</th><th scope=col>&lt;dbl&gt;</th></tr>\n",
       "</thead>\n",
       "<tbody>\n",
       "\t<tr><th scope=row>1</th><td>None</td><td>0.15</td><td>1.16</td><td>22.4</td><td>0.006696429</td><td>0.05178571</td><td>412.4949</td></tr>\n",
       "\t<tr><th scope=row>2</th><td>None</td><td>0.13</td><td>1.17</td><td>25.2</td><td>0.005158730</td><td>0.04642857</td><td>375.8423</td></tr>\n",
       "\t<tr><th scope=row>3</th><td>None</td><td>0.14</td><td>1.38</td><td>25.4</td><td>0.005511811</td><td>0.05433071</td><td>466.5870</td></tr>\n",
       "\t<tr><th scope=row>4</th><td>None</td><td>0.19</td><td>1.48</td><td>26.8</td><td>0.007089552</td><td>0.05522388</td><td>461.7719</td></tr>\n",
       "\t<tr><th scope=row>5</th><td>None</td><td>0.15</td><td>1.42</td><td>24.5</td><td>0.006122449</td><td>0.05795918</td><td>451.8381</td></tr>\n",
       "\t<tr><th scope=row>6</th><td>None</td><td>0.15</td><td>1.48</td><td>26.0</td><td>0.005769231</td><td>0.05692308</td><td>470.5366</td></tr>\n",
       "</tbody>\n",
       "</table>\n"
      ],
      "text/latex": [
       "A data.frame: 6 × 7\n",
       "\\begin{tabular}{r|lllllll}\n",
       "  & Treatment & Heart.Weight & Liver.Weight & Body.Weight & Heart.Weight..Body.Weight & Liver.Weight..Body.Weight & Heart.Rate\\\\\n",
       "  & <fct> & <dbl> & <dbl> & <dbl> & <dbl> & <dbl> & <dbl>\\\\\n",
       "\\hline\n",
       "\t1 & None & 0.15 & 1.16 & 22.4 & 0.006696429 & 0.05178571 & 412.4949\\\\\n",
       "\t2 & None & 0.13 & 1.17 & 25.2 & 0.005158730 & 0.04642857 & 375.8423\\\\\n",
       "\t3 & None & 0.14 & 1.38 & 25.4 & 0.005511811 & 0.05433071 & 466.5870\\\\\n",
       "\t4 & None & 0.19 & 1.48 & 26.8 & 0.007089552 & 0.05522388 & 461.7719\\\\\n",
       "\t5 & None & 0.15 & 1.42 & 24.5 & 0.006122449 & 0.05795918 & 451.8381\\\\\n",
       "\t6 & None & 0.15 & 1.48 & 26.0 & 0.005769231 & 0.05692308 & 470.5366\\\\\n",
       "\\end{tabular}\n"
      ],
      "text/markdown": [
       "\n",
       "A data.frame: 6 × 7\n",
       "\n",
       "| <!--/--> | Treatment &lt;fct&gt; | Heart.Weight &lt;dbl&gt; | Liver.Weight &lt;dbl&gt; | Body.Weight &lt;dbl&gt; | Heart.Weight..Body.Weight &lt;dbl&gt; | Liver.Weight..Body.Weight &lt;dbl&gt; | Heart.Rate &lt;dbl&gt; |\n",
       "|---|---|---|---|---|---|---|---|\n",
       "| 1 | None | 0.15 | 1.16 | 22.4 | 0.006696429 | 0.05178571 | 412.4949 |\n",
       "| 2 | None | 0.13 | 1.17 | 25.2 | 0.005158730 | 0.04642857 | 375.8423 |\n",
       "| 3 | None | 0.14 | 1.38 | 25.4 | 0.005511811 | 0.05433071 | 466.5870 |\n",
       "| 4 | None | 0.19 | 1.48 | 26.8 | 0.007089552 | 0.05522388 | 461.7719 |\n",
       "| 5 | None | 0.15 | 1.42 | 24.5 | 0.006122449 | 0.05795918 | 451.8381 |\n",
       "| 6 | None | 0.15 | 1.48 | 26.0 | 0.005769231 | 0.05692308 | 470.5366 |\n",
       "\n"
      ],
      "text/plain": [
       "  Treatment Heart.Weight Liver.Weight Body.Weight Heart.Weight..Body.Weight\n",
       "1 None      0.15         1.16         22.4        0.006696429              \n",
       "2 None      0.13         1.17         25.2        0.005158730              \n",
       "3 None      0.14         1.38         25.4        0.005511811              \n",
       "4 None      0.19         1.48         26.8        0.007089552              \n",
       "5 None      0.15         1.42         24.5        0.006122449              \n",
       "6 None      0.15         1.48         26.0        0.005769231              \n",
       "  Liver.Weight..Body.Weight Heart.Rate\n",
       "1 0.05178571                412.4949  \n",
       "2 0.04642857                375.8423  \n",
       "3 0.05433071                466.5870  \n",
       "4 0.05522388                461.7719  \n",
       "5 0.05795918                451.8381  \n",
       "6 0.05692308                470.5366  "
      ]
     },
     "metadata": {},
     "output_type": "display_data"
    }
   ],
   "source": [
    "head(metadata_paper_final[,4:10])\n",
    "#to find at what column the numerical metadata starts. It's column 5"
   ]
  },
  {
   "cell_type": "code",
   "execution_count": 27,
   "metadata": {},
   "outputs": [
    {
     "data": {
      "text/plain": [
       "\n",
       "Group 1C Group 3E \n",
       "      15       15 "
      ]
     },
     "metadata": {},
     "output_type": "display_data"
    }
   ],
   "source": [
    "nif_veh<-droplevels(subset(metadata, metadata$Treatment.group==c(\"Group 1C\")|metadata$Treatment.group==c(\"Group 3E\")))\n",
    "table(nif_veh$Treatment.group)\n",
    "# subset to select only uninfected and vehicle-treated"
   ]
  },
  {
   "cell_type": "code",
   "execution_count": 28,
   "metadata": {
    "scrolled": true
   },
   "outputs": [
    {
     "name": "stderr",
     "output_type": "stream",
     "text": [
      "Warning message in wilcox.test.default(x = c(0.15, 0.13, 0.14, 0.19, 0.15, 0.15, :\n",
      "\"cannot compute exact p-value with ties\"\n",
      "Warning message in wilcox.test.default(x = c(1.16, 1.17, 1.38, 1.48, 1.42, 1.48, :\n",
      "\"cannot compute exact p-value with ties\"\n",
      "Warning message in wilcox.test.default(x = c(22.4, 25.2, 25.4, 26.8, 24.5, 26, 25.8, :\n",
      "\"cannot compute exact p-value with ties\"\n",
      "Warning message in wilcox.test.default(x = c(0.006696429, 0.00515873, 0.005511811, :\n",
      "\"cannot compute exact p-value with ties\"\n",
      "Warning message in wilcox.test.default(x = c(0.051785714, 0.046428571, 0.054330709, :\n",
      "\"cannot compute exact p-value with ties\"\n",
      "Warning message in wilcox.test.default(x = c(0.03963, 0.03691, 0.03464, 0.03594, :\n",
      "\"cannot compute exact p-value with ties\"\n",
      "Warning message in wilcox.test.default(x = c(0.01149, 0.01144, 0.01277, 0.01435, :\n",
      "\"cannot compute exact p-value with ties\"\n",
      "Warning message in wilcox.test.default(x = c(0.00768, 0.008145, 0.008267, 0.006397, :\n",
      "\"cannot compute exact p-value with ties\"\n",
      "Warning message in wilcox.test.default(x = c(0.01812, 0.01703, 0.01647, 0.01713, :\n",
      "\"cannot compute exact p-value with ties\"\n",
      "Warning message in wilcox.test.default(x = c(0.014, 0.016, -0.027, 0.013, 0.013, :\n",
      "\"cannot compute exact p-value with ties\"\n",
      "Warning message in wilcox.test.default(x = c(-0.0044, 0.0082, 0.0055, -0.0023, -0.0029, :\n",
      "\"cannot compute exact p-value with ties\"\n",
      "Warning message in wilcox.test.default(x = c(-0.0046, 0.0045, 0.0023, -0.0034, -0.0044, :\n",
      "\"cannot compute exact p-value with ties\"\n",
      "Warning message in wilcox.test.default(x = c(4e-04, -0.0014, 0.0054, -3e-04, 0.00021, :\n",
      "\"cannot compute exact p-value with ties\"\n",
      "Warning message in wilcox.test.default(x = c(-3e-04, -0.0017, 0.0017, 6e-04, 0.0012, :\n",
      "\"cannot compute exact p-value with ties\"\n",
      "Warning message in wilcox.test.default(x = c(-0.0061, 0.0012, -0.0054, 6e-04, -8e-04, :\n",
      "\"cannot compute exact p-value with ties\"\n",
      "Warning message in wilcox.test.default(x = c(-0.01, -0.031, -0.023, -0.011, -0.011, :\n",
      "\"cannot compute exact p-value with ties\"\n",
      "Warning message in wilcox.test.default(x = c(3e-04, 7e-04, 0.0187, -0.0019, -0.0011, :\n",
      "\"cannot compute exact p-value with ties\"\n",
      "Warning message in wilcox.test.default(x = c(0.0017, 0.0055, 0.0206, -0.0016, 9e-04, :\n",
      "\"cannot compute exact p-value with ties\"\n",
      "Warning message in wilcox.test.default(x = c(5e-04, -7e-04, 0.0016, -0.0039, 0.0059, :\n",
      "\"cannot compute exact p-value with ties\"\n",
      "Warning message in wilcox.test.default(x = c(0.0014, 0.006, 0.0262, -4e-04, 0, 0.0076, :\n",
      "\"cannot compute exact p-value with ties\"\n"
     ]
    },
    {
     "data": {
      "text/html": [
       "<style>\n",
       ".list-inline {list-style: none; margin:0; padding: 0}\n",
       ".list-inline>li {display: inline-block}\n",
       ".list-inline>li:not(:last-child)::after {content: \"\\00b7\"; padding: 0 .5ex}\n",
       "</style>\n",
       "<ol class=list-inline><li>0.703163648802296</li><li>0.329261164382713</li><li>0.0463406343207854</li><li>0.547463181263461</li><li>8.81873599046056e-05</li><li>0.0234961466635103</li></ol>\n"
      ],
      "text/latex": [
       "\\begin{enumerate*}\n",
       "\\item 0.703163648802296\n",
       "\\item 0.329261164382713\n",
       "\\item 0.0463406343207854\n",
       "\\item 0.547463181263461\n",
       "\\item 8.81873599046056e-05\n",
       "\\item 0.0234961466635103\n",
       "\\end{enumerate*}\n"
      ],
      "text/markdown": [
       "1. 0.703163648802296\n",
       "2. 0.329261164382713\n",
       "3. 0.0463406343207854\n",
       "4. 0.547463181263461\n",
       "5. 8.81873599046056e-05\n",
       "6. 0.0234961466635103\n",
       "\n",
       "\n"
      ],
      "text/plain": [
       "[1] 7.031636e-01 3.292612e-01 4.634063e-02 5.474632e-01 8.818736e-05\n",
       "[6] 2.349615e-02"
      ]
     },
     "metadata": {},
     "output_type": "display_data"
    },
    {
     "data": {
      "text/html": [
       "<style>\n",
       ".list-inline {list-style: none; margin:0; padding: 0}\n",
       ".list-inline>li {display: inline-block}\n",
       ".list-inline>li:not(:last-child)::after {content: \"\\00b7\"; padding: 0 .5ex}\n",
       "</style>\n",
       "<ol class=list-inline><li>0.795868046249033</li><li>0.565093930646676</li><li>0.139387013521312</li><li>0.725781176116818</li><li>0.00423299327542107</li><li>0.103593175783421</li></ol>\n"
      ],
      "text/latex": [
       "\\begin{enumerate*}\n",
       "\\item 0.795868046249033\n",
       "\\item 0.565093930646676\n",
       "\\item 0.139387013521312\n",
       "\\item 0.725781176116818\n",
       "\\item 0.00423299327542107\n",
       "\\item 0.103593175783421\n",
       "\\end{enumerate*}\n"
      ],
      "text/markdown": [
       "1. 0.795868046249033\n",
       "2. 0.565093930646676\n",
       "3. 0.139387013521312\n",
       "4. 0.725781176116818\n",
       "5. 0.00423299327542107\n",
       "6. 0.103593175783421\n",
       "\n",
       "\n"
      ],
      "text/plain": [
       "[1] 0.795868046 0.565093931 0.139387014 0.725781176 0.004232993 0.103593176"
      ]
     },
     "metadata": {},
     "output_type": "display_data"
    }
   ],
   "source": [
    "#to find fatures significant between uninfected and vehicle\n",
    "pval<-c()#create an empty vector with value pval\n",
    "\n",
    "for (i in 5:ncol(nif_veh)) \n",
    "pval<-c(pval,wilcox.test(nif_veh[,i]~nif_veh$Treatment.group)$p.value) \n",
    "head(pval) #to check\n",
    "pAdj <- p.adjust(pval, method = c(\"fdr\"), n=length(pval)) \n",
    "head(pAdj) \n"
   ]
  },
  {
   "cell_type": "code",
   "execution_count": 29,
   "metadata": {},
   "outputs": [
    {
     "data": {
      "text/html": [
       "<style>\n",
       ".list-inline {list-style: none; margin:0; padding: 0}\n",
       ".list-inline>li {display: inline-block}\n",
       ".list-inline>li:not(:last-child)::after {content: \"\\00b7\"; padding: 0 .5ex}\n",
       "</style>\n",
       "<ol class=list-inline><li>0.795868046249033</li><li>0.565093930646676</li><li>0.139387013521312</li><li>0.725781176116818</li><li>0.00423299327542107</li><li>0.103593175783421</li><li>0.0900480616245025</li><li>0.140285405610703</li><li>0.0900480616245025</li><li>0.140285405610703</li><li>0.934887200362667</li><li>0.140285405610703</li><li>0.147070180080239</li><li>0.565093930646676</li><li>0.795868046249033</li><li>0.795868046249033</li><li>0.0900480616245025</li><li>0.403358872679243</li><li>0.725781176116818</li><li>0.30987128592118</li><li>0.103593175783421</li><li>0.251993478201873</li><li>0.139387013521312</li><li>0.283627500966876</li><li>0.0931110779380425</li><li>0.139387013521312</li><li>0.607241697823022</li><li>0.725781176116818</li><li>0.135572461447295</li><li>0.934887200362667</li><li>0.0138667508351088</li><li>0.67554492003973</li><li>0.748313134454445</li><li>0.135572461447295</li><li>0.725781176116818</li><li>0.67554492003973</li><li>0.891322537499116</li><li>0.725781176116818</li><li>0.565093930646676</li><li>0.725781176116818</li><li>0.934887200362667</li><li>0.725781176116818</li><li>0.891322537499116</li><li>0.0900480616245025</li><li>0.725781176116818</li><li>0.103593175783421</li><li>0.565093930646676</li><li>0.103593175783421</li></ol>\n"
      ],
      "text/latex": [
       "\\begin{enumerate*}\n",
       "\\item 0.795868046249033\n",
       "\\item 0.565093930646676\n",
       "\\item 0.139387013521312\n",
       "\\item 0.725781176116818\n",
       "\\item 0.00423299327542107\n",
       "\\item 0.103593175783421\n",
       "\\item 0.0900480616245025\n",
       "\\item 0.140285405610703\n",
       "\\item 0.0900480616245025\n",
       "\\item 0.140285405610703\n",
       "\\item 0.934887200362667\n",
       "\\item 0.140285405610703\n",
       "\\item 0.147070180080239\n",
       "\\item 0.565093930646676\n",
       "\\item 0.795868046249033\n",
       "\\item 0.795868046249033\n",
       "\\item 0.0900480616245025\n",
       "\\item 0.403358872679243\n",
       "\\item 0.725781176116818\n",
       "\\item 0.30987128592118\n",
       "\\item 0.103593175783421\n",
       "\\item 0.251993478201873\n",
       "\\item 0.139387013521312\n",
       "\\item 0.283627500966876\n",
       "\\item 0.0931110779380425\n",
       "\\item 0.139387013521312\n",
       "\\item 0.607241697823022\n",
       "\\item 0.725781176116818\n",
       "\\item 0.135572461447295\n",
       "\\item 0.934887200362667\n",
       "\\item 0.0138667508351088\n",
       "\\item 0.67554492003973\n",
       "\\item 0.748313134454445\n",
       "\\item 0.135572461447295\n",
       "\\item 0.725781176116818\n",
       "\\item 0.67554492003973\n",
       "\\item 0.891322537499116\n",
       "\\item 0.725781176116818\n",
       "\\item 0.565093930646676\n",
       "\\item 0.725781176116818\n",
       "\\item 0.934887200362667\n",
       "\\item 0.725781176116818\n",
       "\\item 0.891322537499116\n",
       "\\item 0.0900480616245025\n",
       "\\item 0.725781176116818\n",
       "\\item 0.103593175783421\n",
       "\\item 0.565093930646676\n",
       "\\item 0.103593175783421\n",
       "\\end{enumerate*}\n"
      ],
      "text/markdown": [
       "1. 0.795868046249033\n",
       "2. 0.565093930646676\n",
       "3. 0.139387013521312\n",
       "4. 0.725781176116818\n",
       "5. 0.00423299327542107\n",
       "6. 0.103593175783421\n",
       "7. 0.0900480616245025\n",
       "8. 0.140285405610703\n",
       "9. 0.0900480616245025\n",
       "10. 0.140285405610703\n",
       "11. 0.934887200362667\n",
       "12. 0.140285405610703\n",
       "13. 0.147070180080239\n",
       "14. 0.565093930646676\n",
       "15. 0.795868046249033\n",
       "16. 0.795868046249033\n",
       "17. 0.0900480616245025\n",
       "18. 0.403358872679243\n",
       "19. 0.725781176116818\n",
       "20. 0.30987128592118\n",
       "21. 0.103593175783421\n",
       "22. 0.251993478201873\n",
       "23. 0.139387013521312\n",
       "24. 0.283627500966876\n",
       "25. 0.0931110779380425\n",
       "26. 0.139387013521312\n",
       "27. 0.607241697823022\n",
       "28. 0.725781176116818\n",
       "29. 0.135572461447295\n",
       "30. 0.934887200362667\n",
       "31. 0.0138667508351088\n",
       "32. 0.67554492003973\n",
       "33. 0.748313134454445\n",
       "34. 0.135572461447295\n",
       "35. 0.725781176116818\n",
       "36. 0.67554492003973\n",
       "37. 0.891322537499116\n",
       "38. 0.725781176116818\n",
       "39. 0.565093930646676\n",
       "40. 0.725781176116818\n",
       "41. 0.934887200362667\n",
       "42. 0.725781176116818\n",
       "43. 0.891322537499116\n",
       "44. 0.0900480616245025\n",
       "45. 0.725781176116818\n",
       "46. 0.103593175783421\n",
       "47. 0.565093930646676\n",
       "48. 0.103593175783421\n",
       "\n",
       "\n"
      ],
      "text/plain": [
       " [1] 0.795868046 0.565093931 0.139387014 0.725781176 0.004232993 0.103593176\n",
       " [7] 0.090048062 0.140285406 0.090048062 0.140285406 0.934887200 0.140285406\n",
       "[13] 0.147070180 0.565093931 0.795868046 0.795868046 0.090048062 0.403358873\n",
       "[19] 0.725781176 0.309871286 0.103593176 0.251993478 0.139387014 0.283627501\n",
       "[25] 0.093111078 0.139387014 0.607241698 0.725781176 0.135572461 0.934887200\n",
       "[31] 0.013866751 0.675544920 0.748313134 0.135572461 0.725781176 0.675544920\n",
       "[37] 0.891322537 0.725781176 0.565093931 0.725781176 0.934887200 0.725781176\n",
       "[43] 0.891322537 0.090048062 0.725781176 0.103593176 0.565093931 0.103593176"
      ]
     },
     "metadata": {},
     "output_type": "display_data"
    }
   ],
   "source": [
    "pAdj"
   ]
  },
  {
   "cell_type": "code",
   "execution_count": 30,
   "metadata": {},
   "outputs": [
    {
     "data": {
      "text/html": [
       "<style>\n",
       ".list-inline {list-style: none; margin:0; padding: 0}\n",
       ".list-inline>li {display: inline-block}\n",
       ".list-inline>li:not(:last-child)::after {content: \"\\00b7\"; padding: 0 .5ex}\n",
       "</style>\n",
       "<ol class=list-inline><li>2</li><li>48</li></ol>\n"
      ],
      "text/latex": [
       "\\begin{enumerate*}\n",
       "\\item 2\n",
       "\\item 48\n",
       "\\end{enumerate*}\n"
      ],
      "text/markdown": [
       "1. 2\n",
       "2. 48\n",
       "\n",
       "\n"
      ],
      "text/plain": [
       "[1]  2 48"
      ]
     },
     "metadata": {},
     "output_type": "display_data"
    },
    {
     "data": {
      "text/html": [
       "<table class=\"dataframe\">\n",
       "<caption>A matrix: 2 × 3 of type dbl</caption>\n",
       "<thead>\n",
       "\t<tr><th></th><th scope=col>Heart.Weight</th><th scope=col>Liver.Weight</th><th scope=col>Body.Weight</th></tr>\n",
       "</thead>\n",
       "<tbody>\n",
       "\t<tr><th scope=row>Group 1C</th><td>0.1600000</td><td>1.332667</td><td>24.90000</td></tr>\n",
       "\t<tr><th scope=row>Group 3E</th><td>0.1566667</td><td>1.383333</td><td>23.76667</td></tr>\n",
       "</tbody>\n",
       "</table>\n"
      ],
      "text/latex": [
       "A matrix: 2 × 3 of type dbl\n",
       "\\begin{tabular}{r|lll}\n",
       "  & Heart.Weight & Liver.Weight & Body.Weight\\\\\n",
       "\\hline\n",
       "\tGroup 1C & 0.1600000 & 1.332667 & 24.90000\\\\\n",
       "\tGroup 3E & 0.1566667 & 1.383333 & 23.76667\\\\\n",
       "\\end{tabular}\n"
      ],
      "text/markdown": [
       "\n",
       "A matrix: 2 × 3 of type dbl\n",
       "\n",
       "| <!--/--> | Heart.Weight | Liver.Weight | Body.Weight |\n",
       "|---|---|---|---|\n",
       "| Group 1C | 0.1600000 | 1.332667 | 24.90000 |\n",
       "| Group 3E | 0.1566667 | 1.383333 | 23.76667 |\n",
       "\n"
      ],
      "text/plain": [
       "         Heart.Weight Liver.Weight Body.Weight\n",
       "Group 1C 0.1600000    1.332667     24.90000   \n",
       "Group 3E 0.1566667    1.383333     23.76667   "
      ]
     },
     "metadata": {},
     "output_type": "display_data"
    },
    {
     "data": {
      "text/html": [
       "<style>\n",
       ".dl-inline {width: auto; margin:0; padding: 0}\n",
       ".dl-inline>dt, .dl-inline>dd {float: none; width: auto; display: inline-block}\n",
       ".dl-inline>dt::after {content: \":\\0020\"; padding-right: .5ex}\n",
       ".dl-inline>dt:not(:first-of-type) {padding-left: .5ex}\n",
       "</style><dl class=dl-inline><dt>Heart.Weight</dt><dd>1.02127659574468</dd><dt>Liver.Weight</dt><dd>0.963373493975904</dd><dt>Body.Weight</dt><dd>1.0476858345021</dd><dt>Heart.Weight..Body.Weight</dt><dd>0.976240825278384</dd><dt>Liver.Weight..Body.Weight</dt><dd>0.919689719707226</dd><dt>Heart.Rate</dt><dd>1.08616455131278</dd></dl>\n"
      ],
      "text/latex": [
       "\\begin{description*}\n",
       "\\item[Heart.Weight] 1.02127659574468\n",
       "\\item[Liver.Weight] 0.963373493975904\n",
       "\\item[Body.Weight] 1.0476858345021\n",
       "\\item[Heart.Weight..Body.Weight] 0.976240825278384\n",
       "\\item[Liver.Weight..Body.Weight] 0.919689719707226\n",
       "\\item[Heart.Rate] 1.08616455131278\n",
       "\\end{description*}\n"
      ],
      "text/markdown": [
       "Heart.Weight\n",
       ":   1.02127659574468Liver.Weight\n",
       ":   0.963373493975904Body.Weight\n",
       ":   1.0476858345021Heart.Weight..Body.Weight\n",
       ":   0.976240825278384Liver.Weight..Body.Weight\n",
       ":   0.919689719707226Heart.Rate\n",
       ":   1.08616455131278\n",
       "\n"
      ],
      "text/plain": [
       "             Heart.Weight              Liver.Weight               Body.Weight \n",
       "                1.0212766                 0.9633735                 1.0476858 \n",
       "Heart.Weight..Body.Weight Liver.Weight..Body.Weight                Heart.Rate \n",
       "                0.9762408                 0.9196897                 1.0861646 "
      ]
     },
     "metadata": {},
     "output_type": "display_data"
    },
    {
     "data": {
      "text/html": [
       "<style>\n",
       ".list-inline {list-style: none; margin:0; padding: 0}\n",
       ".list-inline>li {display: inline-block}\n",
       ".list-inline>li:not(:last-child)::after {content: \"\\00b7\"; padding: 0 .5ex}\n",
       "</style>\n",
       "<ol class=list-inline><li>'numeric'</li><li>'vector'</li></ol>\n"
      ],
      "text/latex": [
       "\\begin{enumerate*}\n",
       "\\item 'numeric'\n",
       "\\item 'vector'\n",
       "\\end{enumerate*}\n"
      ],
      "text/markdown": [
       "1. 'numeric'\n",
       "2. 'vector'\n",
       "\n",
       "\n"
      ],
      "text/plain": [
       "[1] \"numeric\" \"vector\" "
      ]
     },
     "metadata": {},
     "output_type": "display_data"
    }
   ],
   "source": [
    "avg<- apply(nif_veh[,5:ncol(nif_veh)], 2, function(x) tapply(x, nif_veh$Treatment.group, function(x) mean(x))) \n",
    "\n",
    "dim(avg) #to check\n",
    "\n",
    "avg[,1:3]#to check\n",
    "\n",
    "fch <- apply(avg, 2, function(x) x[1]/x[2]) #calculate fold change\n",
    "\n",
    "head(fch) #to check it's ok\n",
    "is(fch)"
   ]
  },
  {
   "cell_type": "code",
   "execution_count": 31,
   "metadata": {
    "scrolled": false
   },
   "outputs": [
    {
     "data": {
      "text/html": [
       "<table class=\"dataframe\">\n",
       "<caption>A data.frame: 6 × 3</caption>\n",
       "<thead>\n",
       "\t<tr><th></th><th scope=col>pval</th><th scope=col>pAdj</th><th scope=col>fch</th></tr>\n",
       "\t<tr><th></th><th scope=col>&lt;dbl&gt;</th><th scope=col>&lt;dbl&gt;</th><th scope=col>&lt;dbl&gt;</th></tr>\n",
       "</thead>\n",
       "<tbody>\n",
       "\t<tr><th scope=row>Heart.Weight</th><td>7.031636e-01</td><td>0.795868046</td><td>1.0212766</td></tr>\n",
       "\t<tr><th scope=row>Liver.Weight</th><td>3.292612e-01</td><td>0.565093931</td><td>0.9633735</td></tr>\n",
       "\t<tr><th scope=row>Body.Weight</th><td>4.634063e-02</td><td>0.139387014</td><td>1.0476858</td></tr>\n",
       "\t<tr><th scope=row>Heart.Weight..Body.Weight</th><td>5.474632e-01</td><td>0.725781176</td><td>0.9762408</td></tr>\n",
       "\t<tr><th scope=row>Liver.Weight..Body.Weight</th><td>8.818736e-05</td><td>0.004232993</td><td>0.9196897</td></tr>\n",
       "\t<tr><th scope=row>Heart.Rate</th><td>2.349615e-02</td><td>0.103593176</td><td>1.0861646</td></tr>\n",
       "</tbody>\n",
       "</table>\n"
      ],
      "text/latex": [
       "A data.frame: 6 × 3\n",
       "\\begin{tabular}{r|lll}\n",
       "  & pval & pAdj & fch\\\\\n",
       "  & <dbl> & <dbl> & <dbl>\\\\\n",
       "\\hline\n",
       "\tHeart.Weight & 7.031636e-01 & 0.795868046 & 1.0212766\\\\\n",
       "\tLiver.Weight & 3.292612e-01 & 0.565093931 & 0.9633735\\\\\n",
       "\tBody.Weight & 4.634063e-02 & 0.139387014 & 1.0476858\\\\\n",
       "\tHeart.Weight..Body.Weight & 5.474632e-01 & 0.725781176 & 0.9762408\\\\\n",
       "\tLiver.Weight..Body.Weight & 8.818736e-05 & 0.004232993 & 0.9196897\\\\\n",
       "\tHeart.Rate & 2.349615e-02 & 0.103593176 & 1.0861646\\\\\n",
       "\\end{tabular}\n"
      ],
      "text/markdown": [
       "\n",
       "A data.frame: 6 × 3\n",
       "\n",
       "| <!--/--> | pval &lt;dbl&gt; | pAdj &lt;dbl&gt; | fch &lt;dbl&gt; |\n",
       "|---|---|---|---|\n",
       "| Heart.Weight | 7.031636e-01 | 0.795868046 | 1.0212766 |\n",
       "| Liver.Weight | 3.292612e-01 | 0.565093931 | 0.9633735 |\n",
       "| Body.Weight | 4.634063e-02 | 0.139387014 | 1.0476858 |\n",
       "| Heart.Weight..Body.Weight | 5.474632e-01 | 0.725781176 | 0.9762408 |\n",
       "| Liver.Weight..Body.Weight | 8.818736e-05 | 0.004232993 | 0.9196897 |\n",
       "| Heart.Rate | 2.349615e-02 | 0.103593176 | 1.0861646 |\n",
       "\n"
      ],
      "text/plain": [
       "                          pval         pAdj        fch      \n",
       "Heart.Weight              7.031636e-01 0.795868046 1.0212766\n",
       "Liver.Weight              3.292612e-01 0.565093931 0.9633735\n",
       "Body.Weight               4.634063e-02 0.139387014 1.0476858\n",
       "Heart.Weight..Body.Weight 5.474632e-01 0.725781176 0.9762408\n",
       "Liver.Weight..Body.Weight 8.818736e-05 0.004232993 0.9196897\n",
       "Heart.Rate                2.349615e-02 0.103593176 1.0861646"
      ]
     },
     "metadata": {},
     "output_type": "display_data"
    },
    {
     "data": {
      "text/html": [
       "<style>\n",
       ".list-inline {list-style: none; margin:0; padding: 0}\n",
       ".list-inline>li {display: inline-block}\n",
       ".list-inline>li:not(:last-child)::after {content: \"\\00b7\"; padding: 0 .5ex}\n",
       "</style>\n",
       "<ol class=list-inline><li>16</li><li>3</li></ol>\n"
      ],
      "text/latex": [
       "\\begin{enumerate*}\n",
       "\\item 16\n",
       "\\item 3\n",
       "\\end{enumerate*}\n"
      ],
      "text/markdown": [
       "1. 16\n",
       "2. 3\n",
       "\n",
       "\n"
      ],
      "text/plain": [
       "[1] 16  3"
      ]
     },
     "metadata": {},
     "output_type": "display_data"
    },
    {
     "data": {
      "text/html": [
       "<table class=\"dataframe\">\n",
       "<caption>A data.frame: 6 × 3</caption>\n",
       "<thead>\n",
       "\t<tr><th></th><th scope=col>pval</th><th scope=col>pAdj</th><th scope=col>fch</th></tr>\n",
       "\t<tr><th></th><th scope=col>&lt;dbl&gt;</th><th scope=col>&lt;dbl&gt;</th><th scope=col>&lt;dbl&gt;</th></tr>\n",
       "</thead>\n",
       "<tbody>\n",
       "\t<tr><th scope=row>Body.Weight</th><td>4.634063e-02</td><td>0.139387014</td><td>1.0476858</td></tr>\n",
       "\t<tr><th scope=row>Liver.Weight..Body.Weight</th><td>8.818736e-05</td><td>0.004232993</td><td>0.9196897</td></tr>\n",
       "\t<tr><th scope=row>Heart.Rate</th><td>2.349615e-02</td><td>0.103593176</td><td>1.0861646</td></tr>\n",
       "\t<tr><th scope=row>Diameter.s</th><td>9.874823e-03</td><td>0.090048062</td><td>1.1582258</td></tr>\n",
       "\t<tr><th scope=row>Volume.s</th><td>1.125601e-02</td><td>0.090048062</td><td>1.3908932</td></tr>\n",
       "\t<tr><th scope=row>LVAW.s</th><td>9.874823e-03</td><td>0.090048062</td><td>0.8661219</td></tr>\n",
       "</tbody>\n",
       "</table>\n"
      ],
      "text/latex": [
       "A data.frame: 6 × 3\n",
       "\\begin{tabular}{r|lll}\n",
       "  & pval & pAdj & fch\\\\\n",
       "  & <dbl> & <dbl> & <dbl>\\\\\n",
       "\\hline\n",
       "\tBody.Weight & 4.634063e-02 & 0.139387014 & 1.0476858\\\\\n",
       "\tLiver.Weight..Body.Weight & 8.818736e-05 & 0.004232993 & 0.9196897\\\\\n",
       "\tHeart.Rate & 2.349615e-02 & 0.103593176 & 1.0861646\\\\\n",
       "\tDiameter.s & 9.874823e-03 & 0.090048062 & 1.1582258\\\\\n",
       "\tVolume.s & 1.125601e-02 & 0.090048062 & 1.3908932\\\\\n",
       "\tLVAW.s & 9.874823e-03 & 0.090048062 & 0.8661219\\\\\n",
       "\\end{tabular}\n"
      ],
      "text/markdown": [
       "\n",
       "A data.frame: 6 × 3\n",
       "\n",
       "| <!--/--> | pval &lt;dbl&gt; | pAdj &lt;dbl&gt; | fch &lt;dbl&gt; |\n",
       "|---|---|---|---|\n",
       "| Body.Weight | 4.634063e-02 | 0.139387014 | 1.0476858 |\n",
       "| Liver.Weight..Body.Weight | 8.818736e-05 | 0.004232993 | 0.9196897 |\n",
       "| Heart.Rate | 2.349615e-02 | 0.103593176 | 1.0861646 |\n",
       "| Diameter.s | 9.874823e-03 | 0.090048062 | 1.1582258 |\n",
       "| Volume.s | 1.125601e-02 | 0.090048062 | 1.3908932 |\n",
       "| LVAW.s | 9.874823e-03 | 0.090048062 | 0.8661219 |\n",
       "\n"
      ],
      "text/plain": [
       "                          pval         pAdj        fch      \n",
       "Body.Weight               4.634063e-02 0.139387014 1.0476858\n",
       "Liver.Weight..Body.Weight 8.818736e-05 0.004232993 0.9196897\n",
       "Heart.Rate                2.349615e-02 0.103593176 1.0861646\n",
       "Diameter.s                9.874823e-03 0.090048062 1.1582258\n",
       "Volume.s                  1.125601e-02 0.090048062 1.3908932\n",
       "LVAW.s                    9.874823e-03 0.090048062 0.8661219"
      ]
     },
     "metadata": {},
     "output_type": "display_data"
    },
    {
     "data": {
      "text/html": [
       "<style>\n",
       ".list-inline {list-style: none; margin:0; padding: 0}\n",
       ".list-inline>li {display: inline-block}\n",
       ".list-inline>li:not(:last-child)::after {content: \"\\00b7\"; padding: 0 .5ex}\n",
       "</style>\n",
       "<ol class=list-inline><li>'Body.Weight'</li><li>'Liver.Weight..Body.Weight'</li><li>'Heart.Rate'</li><li>'Diameter.s'</li><li>'Volume.s'</li><li>'LVAW.s'</li><li>'RR.Interval..s.'</li><li>'P.Duration..s.'</li><li>'QT.Interval..s.'</li><li>'QTc..s.'</li><li>'P.Amplitude..V.'</li><li>'R.Amplitude..V.'</li><li>'T.Amplitude..V.'</li><li>'CD3.CD8.IL.2.'</li><li>'CD3.CD8.IFNg.'</li><li>'CD3.CD8.TNFa.'</li></ol>\n"
      ],
      "text/latex": [
       "\\begin{enumerate*}\n",
       "\\item 'Body.Weight'\n",
       "\\item 'Liver.Weight..Body.Weight'\n",
       "\\item 'Heart.Rate'\n",
       "\\item 'Diameter.s'\n",
       "\\item 'Volume.s'\n",
       "\\item 'LVAW.s'\n",
       "\\item 'RR.Interval..s.'\n",
       "\\item 'P.Duration..s.'\n",
       "\\item 'QT.Interval..s.'\n",
       "\\item 'QTc..s.'\n",
       "\\item 'P.Amplitude..V.'\n",
       "\\item 'R.Amplitude..V.'\n",
       "\\item 'T.Amplitude..V.'\n",
       "\\item 'CD3.CD8.IL.2.'\n",
       "\\item 'CD3.CD8.IFNg.'\n",
       "\\item 'CD3.CD8.TNFa.'\n",
       "\\end{enumerate*}\n"
      ],
      "text/markdown": [
       "1. 'Body.Weight'\n",
       "2. 'Liver.Weight..Body.Weight'\n",
       "3. 'Heart.Rate'\n",
       "4. 'Diameter.s'\n",
       "5. 'Volume.s'\n",
       "6. 'LVAW.s'\n",
       "7. 'RR.Interval..s.'\n",
       "8. 'P.Duration..s.'\n",
       "9. 'QT.Interval..s.'\n",
       "10. 'QTc..s.'\n",
       "11. 'P.Amplitude..V.'\n",
       "12. 'R.Amplitude..V.'\n",
       "13. 'T.Amplitude..V.'\n",
       "14. 'CD3.CD8.IL.2.'\n",
       "15. 'CD3.CD8.IFNg.'\n",
       "16. 'CD3.CD8.TNFa.'\n",
       "\n",
       "\n"
      ],
      "text/plain": [
       " [1] \"Body.Weight\"               \"Liver.Weight..Body.Weight\"\n",
       " [3] \"Heart.Rate\"                \"Diameter.s\"               \n",
       " [5] \"Volume.s\"                  \"LVAW.s\"                   \n",
       " [7] \"RR.Interval..s.\"           \"P.Duration..s.\"           \n",
       " [9] \"QT.Interval..s.\"           \"QTc..s.\"                  \n",
       "[11] \"P.Amplitude..V.\"           \"R.Amplitude..V.\"          \n",
       "[13] \"T.Amplitude..V.\"           \"CD3.CD8.IL.2.\"            \n",
       "[15] \"CD3.CD8.IFNg.\"             \"CD3.CD8.TNFa.\"            "
      ]
     },
     "metadata": {},
     "output_type": "display_data"
    }
   ],
   "source": [
    "df <- data.frame(pval,pAdj, fch)\n",
    "head(df) #to check\n",
    "\n",
    "\n",
    "df2=df[df$pval<0.05,]\n",
    "dim(df2)\n",
    "head(df2)#to check\n",
    "row.names(df2) #output lists of features that significantly differed between uninfected and vehicle\n"
   ]
  },
  {
   "cell_type": "code",
   "execution_count": null,
   "metadata": {},
   "outputs": [],
   "source": [
    "#not-restored by BNZ: criterion = non-significant 3E-15 (infected vs BNZ) + significant 1C-15 (naive vs BNZ)\n",
    "N/z 2, sig row 1\n",
    "#restored by BNZ: criterion=significant 3E-15 (infected vs BNZ), non-significant 1C-15 (naive vs BNZ)\n",
    "sig row 2, n/s row 1\n",
    "#not restored by combo: criterion = non-significant 3E-9 (infected vs combo) + significant 1C-9 (naive vs combo)\n",
    "#restored by combo: criterion=significant 3E-9 (infected vs combo), non-significant 1C-9 (naive vs combo)\n",
    "#unclear ones/intermediate ones: remainder"
   ]
  },
  {
   "cell_type": "code",
   "execution_count": 22,
   "metadata": {},
   "outputs": [
    {
     "name": "stderr",
     "output_type": "stream",
     "text": [
      "Dunn (1964) Kruskal-Wallis multiple comparison\n",
      "\n",
      "  p-values adjusted with the Benjamini-Hochberg method.\n",
      "\n",
      "\n"
     ]
    },
    {
     "data": {
      "text/plain": [
       "           Comparison          Z     P.unadj      P.adj\n",
       "1 Group 15 - Group 1C -2.7864228 0.005329332 0.03197599\n",
       "2 Group 15 - Group 3E -0.4339082 0.664355079 0.66435508\n",
       "3 Group 1C - Group 3E  2.3525145 0.018646961 0.05594088\n",
       "4  Group 15 - Group 9 -1.4010531 0.161198195 0.32239639\n",
       "5  Group 1C - Group 9  1.3853697 0.165939461 0.24890919\n",
       "6  Group 3E - Group 9 -0.9671449 0.333471621 0.40016594"
      ]
     },
     "metadata": {},
     "output_type": "display_data"
    }
   ],
   "source": [
    "dunnTest(metadata_paper_final$CD3.CD8.TNFa.,metadata_paper_final$Treatment.group,method=\"bh\")\n",
    "#combo: unclear\n",
    "#BNZ not-restored"
   ]
  },
  {
   "cell_type": "code",
   "execution_count": 28,
   "metadata": {},
   "outputs": [
    {
     "name": "stderr",
     "output_type": "stream",
     "text": [
      "Dunn (1964) Kruskal-Wallis multiple comparison\n",
      "\n",
      "  p-values adjusted with the Benjamini-Hochberg method.\n",
      "\n",
      "\n"
     ]
    },
    {
     "data": {
      "text/plain": [
       "           Comparison          Z     P.unadj      P.adj\n",
       "1 Group 15 - Group 1C -2.9641271 0.003035429 0.01821257\n",
       "2 Group 15 - Group 3E -0.6325562 0.527023479 0.63242817\n",
       "3 Group 1C - Group 3E  2.3315709 0.019723277 0.03944655\n",
       "4  Group 15 - Group 9 -2.4884030 0.012831823 0.03849547\n",
       "5  Group 1C - Group 9  0.4757241 0.634270945 0.63427095\n",
       "6  Group 3E - Group 9 -1.8558468 0.063475400 0.09521310"
      ]
     },
     "metadata": {},
     "output_type": "display_data"
    }
   ],
   "source": [
    "dunnTest(metadata_paper_final$CD3.CD8.IFNg.,metadata_paper_final$Treatment.group,method=\"bh\")\n",
    "#restored by combo\n",
    "#BNZ not-restored"
   ]
  },
  {
   "cell_type": "code",
   "execution_count": 31,
   "metadata": {},
   "outputs": [
    {
     "name": "stderr",
     "output_type": "stream",
     "text": [
      "Dunn (1964) Kruskal-Wallis multiple comparison\n",
      "\n",
      "  p-values adjusted with the Benjamini-Hochberg method.\n",
      "\n",
      "\n"
     ]
    },
    {
     "data": {
      "text/plain": [
       "           Comparison          Z     P.unadj      P.adj\n",
       "1 Group 15 - Group 1C -2.8227429 0.004761474 0.02856885\n",
       "2 Group 15 - Group 3E -0.2718197 0.785760670 0.78576067\n",
       "3 Group 1C - Group 3E  2.5509232 0.010743800 0.03223140\n",
       "4  Group 15 - Group 9 -1.8818286 0.059859294 0.11971859\n",
       "5  Group 1C - Group 9  0.9409143 0.346748785 0.41609854\n",
       "6  Group 3E - Group 9 -1.6100089 0.107395915 0.16109387"
      ]
     },
     "metadata": {},
     "output_type": "display_data"
    }
   ],
   "source": [
    "dunnTest(metadata_paper_final$CD3.CD8.IL.2.,metadata_paper_final$Treatment.group,method=\"bh\")\n",
    "#combo: unclear\n",
    "#BNZ not-restored"
   ]
  },
  {
   "cell_type": "code",
   "execution_count": 34,
   "metadata": {},
   "outputs": [
    {
     "name": "stderr",
     "output_type": "stream",
     "text": [
      "Dunn (1964) Kruskal-Wallis multiple comparison\n",
      "\n",
      "  p-values adjusted with the Benjamini-Hochberg method.\n",
      "\n",
      "\n"
     ]
    },
    {
     "data": {
      "text/plain": [
       "           Comparison          Z    P.unadj      P.adj\n",
       "1 Group 15 - Group 1C  0.2195375 0.82623136 0.82623136\n",
       "2 Group 15 - Group 3E  2.4149127 0.01573898 0.09443389\n",
       "3 Group 1C - Group 3E  2.1953752 0.02813670 0.08441009\n",
       "4  Group 15 - Group 9  2.0699252 0.03845935 0.07691871\n",
       "5  Group 1C - Group 9  1.8503876 0.06425770 0.09638655\n",
       "6  Group 3E - Group 9 -0.3449875 0.73010375 0.87612450"
      ]
     },
     "metadata": {},
     "output_type": "display_data"
    }
   ],
   "source": [
    "dunnTest(metadata_paper_final$T.Amplitude..V.,metadata_paper_final$Treatment.group,method=\"bh\")\n",
    "#not-restored combo\n",
    "#restored BNZ"
   ]
  },
  {
   "cell_type": "code",
   "execution_count": 36,
   "metadata": {},
   "outputs": [
    {
     "name": "stderr",
     "output_type": "stream",
     "text": [
      "Dunn (1964) Kruskal-Wallis multiple comparison\n",
      "\n",
      "  p-values adjusted with the Benjamini-Hochberg method.\n",
      "\n",
      "\n"
     ]
    },
    {
     "data": {
      "text/plain": [
       "           Comparison          Z     P.unadj      P.adj\n",
       "1 Group 15 - Group 1C -0.9043232 0.365824060 0.36582406\n",
       "2 Group 15 - Group 3E  2.6136508 0.008958054 0.02687416\n",
       "3 Group 1C - Group 3E  3.5179740 0.000434855 0.00260913\n",
       "4  Group 15 - Group 9  1.6152362 0.106259555 0.15938933\n",
       "5  Group 1C - Group 9  2.5195594 0.011750182 0.02350036\n",
       "6  Group 3E - Group 9 -0.9984146 0.318078354 0.38169402"
      ]
     },
     "metadata": {},
     "output_type": "display_data"
    }
   ],
   "source": [
    "dunnTest(metadata_paper_final$R.Amplitude..V.,metadata_paper_final$Treatment.group,method=\"bh\")\n",
    "#not-restored combo\n",
    "#restored BNZ"
   ]
  },
  {
   "cell_type": "code",
   "execution_count": 38,
   "metadata": {},
   "outputs": [
    {
     "name": "stderr",
     "output_type": "stream",
     "text": [
      "Dunn (1964) Kruskal-Wallis multiple comparison\n",
      "\n",
      "  p-values adjusted with the Benjamini-Hochberg method.\n",
      "\n",
      "\n"
     ]
    },
    {
     "data": {
      "text/plain": [
       "           Comparison          Z     P.unadj      P.adj\n",
       "1 Group 15 - Group 1C -2.3521877 0.018663355 0.05599007\n",
       "2 Group 15 - Group 3E -0.5331625 0.593921069 0.71270528\n",
       "3 Group 1C - Group 3E  1.8190251 0.068907595 0.13781519\n",
       "4  Group 15 - Group 9  0.3554417 0.722258718 0.72225872\n",
       "5  Group 1C - Group 9  2.7076294 0.006776565 0.04065939\n",
       "6  Group 3E - Group 9  0.8886042 0.374215814 0.56132372"
      ]
     },
     "metadata": {},
     "output_type": "display_data"
    }
   ],
   "source": [
    "dunnTest(metadata_paper_final$P.Amplitude..V.,metadata_paper_final$Treatment.group,method=\"bh\")\n",
    "#not-restored combo\n",
    "#not-restored BNZ"
   ]
  },
  {
   "cell_type": "code",
   "execution_count": 42,
   "metadata": {},
   "outputs": [
    {
     "name": "stderr",
     "output_type": "stream",
     "text": [
      "Dunn (1964) Kruskal-Wallis multiple comparison\n",
      "\n",
      "  p-values adjusted with the Benjamini-Hochberg method.\n",
      "\n",
      "\n"
     ]
    },
    {
     "data": {
      "text/plain": [
       "           Comparison          Z    P.unadj     P.adj\n",
       "1 Group 15 - Group 1C  0.9879326 0.32318568 0.9695570\n",
       "2 Group 15 - Group 3E -0.8311179 0.40590705 0.4870885\n",
       "3 Group 1C - Group 3E -1.8190504 0.06890374 0.4134224\n",
       "4  Group 15 - Group 9  0.1359061 0.89189554 0.8918955\n",
       "5  Group 1C - Group 9 -0.8520265 0.39419939 0.5912991\n",
       "6  Group 3E - Group 9  0.9670239 0.33353207 0.6670641"
      ]
     },
     "metadata": {},
     "output_type": "display_data"
    }
   ],
   "source": [
    "dunnTest(metadata_paper_final$P.Duration..s.,metadata_paper_final$Treatment.group,method=\"bh\")\n",
    "#combo: unclear\n",
    "#unclear BNZ"
   ]
  },
  {
   "cell_type": "code",
   "execution_count": 42,
   "metadata": {},
   "outputs": [
    {
     "name": "stderr",
     "output_type": "stream",
     "text": [
      "Dunn (1964) Kruskal-Wallis multiple comparison\n",
      "\n",
      "  p-values adjusted with the Benjamini-Hochberg method.\n",
      "\n",
      "\n"
     ]
    },
    {
     "data": {
      "text/plain": [
       "           Comparison          Z    P.unadj     P.adj\n",
       "1 Group 15 - Group 1C  0.9879326 0.32318568 0.9695570\n",
       "2 Group 15 - Group 3E -0.8311179 0.40590705 0.4870885\n",
       "3 Group 1C - Group 3E -1.8190504 0.06890374 0.4134224\n",
       "4  Group 15 - Group 9  0.1359061 0.89189554 0.8918955\n",
       "5  Group 1C - Group 9 -0.8520265 0.39419939 0.5912991\n",
       "6  Group 3E - Group 9  0.9670239 0.33353207 0.6670641"
      ]
     },
     "metadata": {},
     "output_type": "display_data"
    }
   ],
   "source": [
    "dunnTest(metadata_paper_final$QTc..s.,metadata_paper_final$Treatment.group,method=\"bh\")\n",
    "#combo: unclear\n",
    "#unclear BNZ"
   ]
  },
  {
   "cell_type": "code",
   "execution_count": 44,
   "metadata": {},
   "outputs": [
    {
     "name": "stderr",
     "output_type": "stream",
     "text": [
      "Dunn (1964) Kruskal-Wallis multiple comparison\n",
      "\n",
      "  p-values adjusted with the Benjamini-Hochberg method.\n",
      "\n",
      "\n"
     ]
    },
    {
     "data": {
      "text/plain": [
       "           Comparison          Z    P.unadj      P.adj\n",
       "1 Group 15 - Group 1C  1.4688922 0.14186204 0.42558612\n",
       "2 Group 15 - Group 3E -1.0716117 0.28389447 0.34067336\n",
       "3 Group 1C - Group 3E -2.5405039 0.01106929 0.06641572\n",
       "4  Group 15 - Group 9  0.0209095 0.98331785 0.98331785\n",
       "5  Group 1C - Group 9 -1.4479827 0.14762190 0.29524380\n",
       "6  Group 3E - Group 9  1.0925212 0.27460407 0.41190611"
      ]
     },
     "metadata": {},
     "output_type": "display_data"
    }
   ],
   "source": [
    "dunnTest(metadata_paper_final$QT.Interval..s.,metadata_paper_final$Treatment.group,method=\"bh\")\n",
    "#combo: unclear\n",
    "#unclear BNZ"
   ]
  },
  {
   "cell_type": "code",
   "execution_count": 53,
   "metadata": {},
   "outputs": [
    {
     "name": "stderr",
     "output_type": "stream",
     "text": [
      "Dunn (1964) Kruskal-Wallis multiple comparison\n",
      "\n",
      "  p-values adjusted with the Benjamini-Hochberg method.\n",
      "\n",
      "\n"
     ]
    },
    {
     "data": {
      "text/plain": [
       "           Comparison          Z    P.unadj      P.adj\n",
       "1 Group 15 - Group 1C  1.0141247 0.31052326 0.46578489\n",
       "2 Group 15 - Group 3E -1.4218655 0.15506529 0.31013057\n",
       "3 Group 1C - Group 3E -2.4359902 0.01485109 0.08910651\n",
       "4  Group 15 - Group 9 -0.8050268 0.42080420 0.50496505\n",
       "5  Group 1C - Group 9 -1.8191515 0.06888832 0.20666496\n",
       "6  Group 3E - Group 9  0.6168387 0.53734110 0.53734110"
      ]
     },
     "metadata": {},
     "output_type": "display_data"
    }
   ],
   "source": [
    "dunnTest(metadata_paper_final$RR.Interval..s.,metadata_paper_final$Treatment.group,method=\"bh\")\n",
    "#combo: unclear\n",
    "#unclear BNZ"
   ]
  },
  {
   "cell_type": "code",
   "execution_count": 54,
   "metadata": {},
   "outputs": [
    {
     "name": "stderr",
     "output_type": "stream",
     "text": [
      "Dunn (1964) Kruskal-Wallis multiple comparison\n",
      "\n",
      "  p-values adjusted with the Benjamini-Hochberg method.\n",
      "\n",
      "\n"
     ]
    },
    {
     "data": {
      "text/plain": [
       "           Comparison          Z      P.unadj       P.adj\n",
       "1 Group 15 - Group 1C -1.2545175 0.2096539599 0.251584752\n",
       "2 Group 15 - Group 3E -3.5649206 0.0003639663 0.002183798\n",
       "3 Group 1C - Group 3E -2.3104031 0.0208658471 0.041731694\n",
       "4  Group 15 - Group 9 -2.9376619 0.0033069748 0.009920924\n",
       "5  Group 1C - Group 9 -1.6831443 0.0923471515 0.138520727\n",
       "6  Group 3E - Group 9  0.6272588 0.5304896298 0.530489630"
      ]
     },
     "metadata": {},
     "output_type": "display_data"
    }
   ],
   "source": [
    "dunnTest(metadata_paper_final$LVAW.s,metadata_paper_final$Treatment.group,method=\"bh\")\n",
    "#combo: unclear\n",
    "#restored BNZ"
   ]
  },
  {
   "cell_type": "code",
   "execution_count": 61,
   "metadata": {},
   "outputs": [
    {
     "name": "stderr",
     "output_type": "stream",
     "text": [
      "Dunn (1964) Kruskal-Wallis multiple comparison\n",
      "\n",
      "  p-values adjusted with the Benjamini-Hochberg method.\n",
      "\n",
      "\n"
     ]
    },
    {
     "data": {
      "text/plain": [
       "           Comparison          Z      P.unadj       P.adj\n",
       "1 Group 15 - Group 1C  1.0349770 0.3006796720 0.360815606\n",
       "2 Group 15 - Group 3E  3.3976516 0.0006796691 0.004078015\n",
       "3 Group 1C - Group 3E  2.3626747 0.0181435890 0.036287178\n",
       "4  Group 15 - Group 9  2.5717609 0.0101182737 0.030354821\n",
       "5  Group 1C - Group 9  1.5367840 0.1243462206 0.186519331\n",
       "6  Group 3E - Group 9 -0.8258907 0.4088660943 0.408866094"
      ]
     },
     "metadata": {},
     "output_type": "display_data"
    }
   ],
   "source": [
    "dunnTest(metadata_paper_final$Diameter.s,metadata_paper_final$Treatment.group,method=\"bh\")\n",
    "#combo: unclear\n",
    "#restored BNZ"
   ]
  },
  {
   "cell_type": "code",
   "execution_count": 59,
   "metadata": {},
   "outputs": [
    {
     "name": "stderr",
     "output_type": "stream",
     "text": [
      "Dunn (1964) Kruskal-Wallis multiple comparison\n",
      "\n",
      "  p-values adjusted with the Benjamini-Hochberg method.\n",
      "\n",
      "\n"
     ]
    },
    {
     "data": {
      "text/plain": [
       "           Comparison          Z      P.unadj       P.adj\n",
       "1 Group 15 - Group 1C  1.0558856 0.2910204912 0.349224589\n",
       "2 Group 15 - Group 3E  3.3871973 0.0007061058 0.004236635\n",
       "3 Group 1C - Group 3E  2.3313117 0.0197369279 0.039473856\n",
       "4  Group 15 - Group 9  2.5613066 0.0104279279 0.031283784\n",
       "5  Group 1C - Group 9  1.5054210 0.1322158656 0.198323798\n",
       "6  Group 3E - Group 9 -0.8258907 0.4088660943 0.408866094"
      ]
     },
     "metadata": {},
     "output_type": "display_data"
    }
   ],
   "source": [
    "dunnTest(metadata_paper_final$Volume.s,metadata_paper_final$Treatment.group,method=\"bh\")\n",
    "#combo: unclear\n",
    "#restored BNZ"
   ]
  },
  {
   "cell_type": "code",
   "execution_count": 66,
   "metadata": {
    "scrolled": true
   },
   "outputs": [
    {
     "name": "stderr",
     "output_type": "stream",
     "text": [
      "Dunn (1964) Kruskal-Wallis multiple comparison\n",
      "\n",
      "  p-values adjusted with the Benjamini-Hochberg method.\n",
      "\n",
      "\n"
     ]
    },
    {
     "data": {
      "text/plain": [
       "           Comparison           Z      P.unadj        P.adj\n",
       "1 Group 15 - Group 1C  2.73391672 6.258587e-03 0.0125171742\n",
       "2 Group 15 - Group 3E -1.40616367 1.596755e-01 0.2395132947\n",
       "3 Group 1C - Group 3E -4.14008039 3.471841e-05 0.0002083105\n",
       "4  Group 15 - Group 9 -1.39048155 1.643827e-01 0.1972592391\n",
       "5  Group 1C - Group 9 -4.12439827 3.717052e-05 0.0001115116\n",
       "6  Group 3E - Group 9  0.01568212 9.874880e-01 0.9874879893"
      ]
     },
     "metadata": {},
     "output_type": "display_data"
    }
   ],
   "source": [
    "dunnTest(metadata_paper_final$Liver.Weight..Body.Weight,metadata_paper_final$Treatment.group,method=\"bh\")\n",
    "#not-restored combo\n",
    "#not-restored BNZ\n"
   ]
  },
  {
   "cell_type": "code",
   "execution_count": 66,
   "metadata": {
    "scrolled": true
   },
   "outputs": [
    {
     "name": "stderr",
     "output_type": "stream",
     "text": [
      "Dunn (1964) Kruskal-Wallis multiple comparison\n",
      "\n",
      "  p-values adjusted with the Benjamini-Hochberg method.\n",
      "\n",
      "\n"
     ]
    },
    {
     "data": {
      "text/plain": [
       "           Comparison           Z      P.unadj        P.adj\n",
       "1 Group 15 - Group 1C  2.73391672 6.258587e-03 0.0125171742\n",
       "2 Group 15 - Group 3E -1.40616367 1.596755e-01 0.2395132947\n",
       "3 Group 1C - Group 3E -4.14008039 3.471841e-05 0.0002083105\n",
       "4  Group 15 - Group 9 -1.39048155 1.643827e-01 0.1972592391\n",
       "5  Group 1C - Group 9 -4.12439827 3.717052e-05 0.0001115116\n",
       "6  Group 3E - Group 9  0.01568212 9.874880e-01 0.9874879893"
      ]
     },
     "metadata": {},
     "output_type": "display_data"
    }
   ],
   "source": [
    "dunnTest(metadata_paper_final$Body.Weight,metadata_paper_final$Treatment.group,method=\"bh\")\n",
    "#not-restored combo\n",
    "#not-restored BNZ"
   ]
  },
  {
   "cell_type": "code",
   "execution_count": 66,
   "metadata": {
    "scrolled": true
   },
   "outputs": [
    {
     "name": "stderr",
     "output_type": "stream",
     "text": [
      "Dunn (1964) Kruskal-Wallis multiple comparison\n",
      "\n",
      "  p-values adjusted with the Benjamini-Hochberg method.\n",
      "\n",
      "\n"
     ]
    },
    {
     "data": {
      "text/plain": [
       "           Comparison           Z      P.unadj        P.adj\n",
       "1 Group 15 - Group 1C  2.73391672 6.258587e-03 0.0125171742\n",
       "2 Group 15 - Group 3E -1.40616367 1.596755e-01 0.2395132947\n",
       "3 Group 1C - Group 3E -4.14008039 3.471841e-05 0.0002083105\n",
       "4  Group 15 - Group 9 -1.39048155 1.643827e-01 0.1972592391\n",
       "5  Group 1C - Group 9 -4.12439827 3.717052e-05 0.0001115116\n",
       "6  Group 3E - Group 9  0.01568212 9.874880e-01 0.9874879893"
      ]
     },
     "metadata": {},
     "output_type": "display_data"
    }
   ],
   "source": [
    "dunnTest(metadata_paper_final$Heart.Rate,metadata_paper_final$Treatment.group,method=\"bh\")\n",
    "#not restored combo\n",
    "#not-restored BNZ"
   ]
  },
  {
   "cell_type": "code",
   "execution_count": null,
   "metadata": {},
   "outputs": [],
   "source": []
  }
 ],
 "metadata": {
  "kernelspec": {
   "display_name": "R",
   "language": "R",
   "name": "ir"
  },
  "language_info": {
   "codemirror_mode": "r",
   "file_extension": ".r",
   "mimetype": "text/x-r-source",
   "name": "R",
   "pygments_lexer": "r",
   "version": "3.6.1"
  }
 },
 "nbformat": 4,
 "nbformat_minor": 2
}
