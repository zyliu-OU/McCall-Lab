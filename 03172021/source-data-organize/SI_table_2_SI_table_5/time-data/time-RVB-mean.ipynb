{
 "cells": [
  {
   "cell_type": "code",
   "execution_count": 1,
   "metadata": {},
   "outputs": [
    {
     "data": {
      "text/html": [
       "<table>\n",
       "<thead><tr><th scope=col>filename</th><th scope=col>MouseID</th><th scope=col>Treatmentgroup</th><th scope=col>status</th><th scope=col>DPI</th><th scope=col>organ</th><th scope=col>well_position</th><th scope=col>plate</th><th scope=col>X137.046_0.35</th><th scope=col>X269.088_0.35</th><th scope=col>...</th><th scope=col>X269.089_0.42</th><th scope=col>X527.851_2.856</th><th scope=col>X467.802_2.661</th><th scope=col>X169.472_2.754</th><th scope=col>X190.983_2.978</th><th scope=col>X269.913_2.601</th><th scope=col>X269.913_2.654</th><th scope=col>X217.425_2.737</th><th scope=col>X227.936_2.695</th><th scope=col>X104.031_5.837</th></tr></thead>\n",
       "<tbody>\n",
       "\t<tr><td>X501_Group1A_50dpi_RV_bottom_251_B_A1_P141.mzXML</td><td>501                                             </td><td>Group1A                                         </td><td>naive                                           </td><td>50DPI                                           </td><td>RV_bottom                                       </td><td>A1                                              </td><td>P141                                            </td><td>0.009591114                                     </td><td>0.002476510                                     </td><td>...                                             </td><td>0                                               </td><td>0                                               </td><td>0                                               </td><td>0                                               </td><td>0                                               </td><td>0                                               </td><td>0                                               </td><td>0                                               </td><td>0                                               </td><td>0                                               </td></tr>\n",
       "\t<tr><td>X502_Group1A_50dpi_RV_bottom_252_B_A2_P141.mzXML</td><td>502                                             </td><td>Group1A                                         </td><td>naive                                           </td><td>50DPI                                           </td><td>RV_bottom                                       </td><td>A2                                              </td><td>P141                                            </td><td>0.023717609                                     </td><td>0.001750585                                     </td><td>...                                             </td><td>0                                               </td><td>0                                               </td><td>0                                               </td><td>0                                               </td><td>0                                               </td><td>0                                               </td><td>0                                               </td><td>0                                               </td><td>0                                               </td><td>0                                               </td></tr>\n",
       "\t<tr><td>X503_Group1A_50dpi_RV_bottom_253_B_A3_P141.mzXML</td><td>503                                             </td><td>Group1A                                         </td><td>naive                                           </td><td>50DPI                                           </td><td>RV_bottom                                       </td><td>A3                                              </td><td>P141                                            </td><td>0.012603445                                     </td><td>0.003763609                                     </td><td>...                                             </td><td>0                                               </td><td>0                                               </td><td>0                                               </td><td>0                                               </td><td>0                                               </td><td>0                                               </td><td>0                                               </td><td>0                                               </td><td>0                                               </td><td>0                                               </td></tr>\n",
       "\t<tr><td>X504_Group1A_50dpi_RV_bottom_254_B_A4_P141.mzXML</td><td>504                                             </td><td>Group1A                                         </td><td>naive                                           </td><td>50DPI                                           </td><td>RV_bottom                                       </td><td>A4                                              </td><td>P141                                            </td><td>0.019752587                                     </td><td>0.005932360                                     </td><td>...                                             </td><td>0                                               </td><td>0                                               </td><td>0                                               </td><td>0                                               </td><td>0                                               </td><td>0                                               </td><td>0                                               </td><td>0                                               </td><td>0                                               </td><td>0                                               </td></tr>\n",
       "\t<tr><td>X505_Group1A_50dpi_RV_bottom_255_B_A5_P141.mzXML</td><td>505                                             </td><td>Group1A                                         </td><td>naive                                           </td><td>50DPI                                           </td><td>RV_bottom                                       </td><td>A5                                              </td><td>P141                                            </td><td>0.012273222                                     </td><td>0.003623830                                     </td><td>...                                             </td><td>0                                               </td><td>0                                               </td><td>0                                               </td><td>0                                               </td><td>0                                               </td><td>0                                               </td><td>0                                               </td><td>0                                               </td><td>0                                               </td><td>0                                               </td></tr>\n",
       "\t<tr><td>X506_Group1B_70dpi_RV_bottom_281_B_C7_P141.mzXML</td><td>506                                             </td><td>Group1B                                         </td><td>naive                                           </td><td>70DPI                                           </td><td>RV_bottom                                       </td><td>C7                                              </td><td>P141                                            </td><td>0.013219341                                     </td><td>0.002788558                                     </td><td>...                                             </td><td>0                                               </td><td>0                                               </td><td>0                                               </td><td>0                                               </td><td>0                                               </td><td>0                                               </td><td>0                                               </td><td>0                                               </td><td>0                                               </td><td>0                                               </td></tr>\n",
       "</tbody>\n",
       "</table>\n"
      ],
      "text/latex": [
       "\\begin{tabular}{r|llllllllllllllllllllllllllllllllllllllllllllllllllllllllllllllllllllllllllllllllllllllllllllllllllllllllllllllllllllllllllllllllllllllllllllllllllllllllllllllllllllllllllllllllllllllllllllllllllllllllllllllllllllllllllllllllllllllllllllllllllllllllllllllllllllllllllllllllllllllllllllllllllllllllllllllllllllllllllllllllllllllllllllllllllllllllllllllllllllllllllllllllllllllllllllllllllllllllllllllllllllllllllllllllllllllllllllllllllllllllllllllllllllllllllllllllllllllllllllllllllllllllllllllllllllllllllllllllllllllllllllllllllllllllllllllllllllllllllllllllllllllllllllllllllllllllllllllllllllllllllllllllllllllllllllllllllllllllllllllllllllllllllllllllllllllllllllllllllllllllllllllllllllllllllllllllllllllllllllllllllllllllllllllllllllllllllllllllllllllllllllllllllllllllllllllllllllllllllllllllllllllllllllllllllllllllllllllllllllllllllllllllllllllllllllllllllllllllllllllllllllllllllllllllllllllllllllllllllllllllllllllllllllllllllllllllllllllllllllllllllllllllllllllllllllllllllllllllllllllllllllllllllllllllllllllllllllllllllllllllllllllllllllllllllllllllllllllllllllllllllllllllllllllllllllllllllllllllllllllllllllllllllllllllllllllllllllllllllllllllllllllllllllllllllllllllllllllllllllllllllllllllllllllllllllllllllllllllllllllllllllllllllllllllllllllllllllllllllllllllllllllllllllllllllllllllllllllllllllllllllllllllllllllllllllllllllllllllllllllllllllllllllllllllllllllllllllllllllllllllllllllllllllllllllllllllllllllllllllllllllllllllllllllllllllllllllllllllllllllllllllllllllllllllllllllllllllllllllllllllllllllllllllllllllllllllllllllllllllllllllllllllllllllllllllllllllllllllllllllllllllllllllllllllllllllllllllllllllllllllllllllllllllllllllllllllllllllllllllllllllllllllllllllllllllllllllllllllllllllllllllllllllllllllllllllllllllllllllllllllllllllllllllllllllllllllllllllllllllllllllllllllllllllllllllllllllllllllllllllllllllllllllllllllllllllllllllllllllllllllllllllllllllllllllllllllllllllllllllllllllllllllllllllllllllllllllllllllllllllllllllllllllllllllllllllllllllllllllllllllllllllllllllllllllllllllllllllllllllllllllllllllllllllllllllllllllllllllllllllllllllllllllllllllllllllllllllllllllllllllllllllllllllllllllllllllllllllllllllllllllllllllllllllllllllllllllllllllllllllllllllllllllllllllllllllllllllllllllllllllllllllllllllllllllllllllllllllllllllllllllllllllllllllllllllllllllllllllllllllllllllllllllllllllllllllllllllllllllllllllllllllllllllllllllllllllllllllllllllllllllllllllllllllllllllllllllllllllllllllllllllllllllllllllllllllllllllllllllllllllllllllllllllllllllllllllllllllllllllllllllllllllllllllllllllllllllllllllllllllllllllllllllllllllllllllllllllllllllllllllllllllllllllllllllllllllllllllllllllllllllllllllllllllllllllllllllllllllllllllllllllllllllllllllllllllllllllllllllllllllllllllllllllllllllllllllllllllllllllllllllllllllllllllllllllllllllllllllllllllllllllllllllllllllllllllllllllllllllllllllllllllllllllllllllllllllllllllllllllllllllllllllllllllllllllllllllllllllllllllllllllllllllllllllllllllllllllllllllllllllllllllllllllllllllllllllllllllllllllllllllllllllllllllllllllllllllllllllllllllllllllllllllllllllllllllllllllllllllllllllllllllllllllllllllllllllllllllllllllllllllllllllllllllllllllllllllllllllllllllllllllllllllllllllllllllllllllllllllllllllllllllllllllllllllllllllllllllllllllllllllllllllllllllllllllllllllllllllllllllllllllllllllllllllllllllllllllllllllllllllllllllllllllllllllllllllllllllllllllllllllllllllllllllllllllllllllllllllllllllllllllllllllllllllllllllllllllllllllllllllllllllllllllllllllllllllllllllllllllllllllllllllllllllllllllllllllllllllllllllllllllllllllllllllllllllllllllllllllllllllllllllllllllllllllllllllllllllllllllllllllllllllllllllllllllllllllllllllllllllllllllllllllllllllllllllllllllllllllllllllllllllllllllllllllllllllllllllllllllllllllllllllllllllllllllllllllllllllllllllllllllllllllllllllllllllllllllllllllllllllllllllllllllllllllllllllllllllllllllllllllllllllllllllllllllllllllllllllllllllllllllllllllllllllllllllllllllllllllllllllllllllllllllllllllllllllllllllllllllllllllllllllllllllllllllllllllllllllllllllllllllllllllllllllllllllllllllllllllllllllllllllllllllllllllllllllllllllllllllllllllllllllllllllllllllllllllllllllllllllllllllllllllllllllllllllllllllllllllllllllllllllllllllllllllllllllllllllllllllllllllllllllllllllllllllllllllllllllllllllllllllllllllllllllllllllllllllllllllllllllllllllllllllllllllllllllllllllllllllllllllllllllllllllllllllllllllllllllllllllllllllllllllllllllllllllllllllllllllllllllllllllllllllllllllllllllllllllllllllllllllllllllllllllllllllllllllllllllllllllllllllllllllllllllllllllllllllllllllllllllllllllllllllllllllllllllllllllllllllllllllllllllllllllllllllllllllllllllllllllllllllllllllllllllllllllllllllllllllllllllllllllllllllllllllllllllllllllllllllllllllllllllllllllllllllllllllllllllllllllllllllllllllllllllllllllllllllllllllllllllllllllllllllllllllllllllllllllllllllllllllllllllllllllllllllllllllllllllllllllllllllllllllllllllllllllllllllllllllllllllllllllllllllllllllllllllllllllllllllllllllllllllllllllllllllllllllllllllllllllllllllllllllllllllllllllllllllllllllllllllllllllllllllllllllllllllllllllllllllllllllllllllllllllllllllllllllllllllllllllllllllllllllllllllllllllllllllllllllllllllllllllllllllllllllllllllllllllllllllllllllllllllllllllllllllllllllllllllllllllllllllllllllllllllllllllllllllllllllllllllllllllllllllllllllllllllllllllllllllllllllllllllllllllllllllllllllllllllllllllllllllllllllllllllllllllllllllllllllllllllllllllllllllllllllllllllllllllllllllllllllllllllllllllllllllllllllllllllllllllllllllllllllllllllllllllllllllllllllllllllllllllllllllllllllllllllllllllllllllllllllllllllllllllllllllllllllllllllllllllllllllllllllllllllllllllllllllllllllllllllllllllllllllllllllllllllllllllllllllllllllllllllllllllllllllllllllllllllllllllllllllllllllllllllllllllllllllllllllllllllllllllllllllllllllllllllllllllllllllllllllllllllllllllllllllllllllllllllllllllllllllllllllllllllllllllllllllllllllllllllllllllllllllllllllllllllllllllllllllllllllllllllllllllllllllllllllllllllllllllllllllllllllllllllllllllllllllllllllllllllllllllllllllllllllllllllllllllllllllllllllllllllllllllllllllllllllllllllllllllllllllllllllllllllllllllllllllllllllllllllllllllllllllllllllllllllllllllllllllllllllllllllllllllllllllllllllllllllllllllllllllllllllllllllllllllllllllllllllllllllllllllllllllllllllllllllllllllllllllllllllllllllllllllllllllllllllllllllllllllllllllllllllllllllllllllllllllllllllllllllllllllllllllllllllllllllllllllllllllllllllllllllllllllllllllllllllllllllllllllllllllllllllllllllllllllllllllllllllllllllllllllllllllllllllllllllllllllllllllllllllllllllllllllllllllllllllllllllllllllllllllllllllllllllllllllllllllllllllllllllllllllllllllllllllllllllllllllllllllllllllllllllllllllllllllllllllllllllllllllllllllllllllllllllllllllllllllllllllllllllllllllllllllllllllllllllllllllllllllllll}\n",
       " filename & MouseID & Treatmentgroup & status & DPI & organ & well\\_position & plate & X137.046\\_0.35 & X269.088\\_0.35 & ... & X269.089\\_0.42 & X527.851\\_2.856 & X467.802\\_2.661 & X169.472\\_2.754 & X190.983\\_2.978 & X269.913\\_2.601 & X269.913\\_2.654 & X217.425\\_2.737 & X227.936\\_2.695 & X104.031\\_5.837\\\\\n",
       "\\hline\n",
       "\t X501\\_Group1A\\_50dpi\\_RV\\_bottom\\_251\\_B\\_A1\\_P141.mzXML & 501                                                              & Group1A                                                          & naive                                                            & 50DPI                                                            & RV\\_bottom                                                      & A1                                                               & P141                                                             & 0.009591114                                                      & 0.002476510                                                      & ...                                                              & 0                                                                & 0                                                                & 0                                                                & 0                                                                & 0                                                                & 0                                                                & 0                                                                & 0                                                                & 0                                                                & 0                                                               \\\\\n",
       "\t X502\\_Group1A\\_50dpi\\_RV\\_bottom\\_252\\_B\\_A2\\_P141.mzXML & 502                                                              & Group1A                                                          & naive                                                            & 50DPI                                                            & RV\\_bottom                                                      & A2                                                               & P141                                                             & 0.023717609                                                      & 0.001750585                                                      & ...                                                              & 0                                                                & 0                                                                & 0                                                                & 0                                                                & 0                                                                & 0                                                                & 0                                                                & 0                                                                & 0                                                                & 0                                                               \\\\\n",
       "\t X503\\_Group1A\\_50dpi\\_RV\\_bottom\\_253\\_B\\_A3\\_P141.mzXML & 503                                                              & Group1A                                                          & naive                                                            & 50DPI                                                            & RV\\_bottom                                                      & A3                                                               & P141                                                             & 0.012603445                                                      & 0.003763609                                                      & ...                                                              & 0                                                                & 0                                                                & 0                                                                & 0                                                                & 0                                                                & 0                                                                & 0                                                                & 0                                                                & 0                                                                & 0                                                               \\\\\n",
       "\t X504\\_Group1A\\_50dpi\\_RV\\_bottom\\_254\\_B\\_A4\\_P141.mzXML & 504                                                              & Group1A                                                          & naive                                                            & 50DPI                                                            & RV\\_bottom                                                      & A4                                                               & P141                                                             & 0.019752587                                                      & 0.005932360                                                      & ...                                                              & 0                                                                & 0                                                                & 0                                                                & 0                                                                & 0                                                                & 0                                                                & 0                                                                & 0                                                                & 0                                                                & 0                                                               \\\\\n",
       "\t X505\\_Group1A\\_50dpi\\_RV\\_bottom\\_255\\_B\\_A5\\_P141.mzXML & 505                                                              & Group1A                                                          & naive                                                            & 50DPI                                                            & RV\\_bottom                                                      & A5                                                               & P141                                                             & 0.012273222                                                      & 0.003623830                                                      & ...                                                              & 0                                                                & 0                                                                & 0                                                                & 0                                                                & 0                                                                & 0                                                                & 0                                                                & 0                                                                & 0                                                                & 0                                                               \\\\\n",
       "\t X506\\_Group1B\\_70dpi\\_RV\\_bottom\\_281\\_B\\_C7\\_P141.mzXML & 506                                                              & Group1B                                                          & naive                                                            & 70DPI                                                            & RV\\_bottom                                                      & C7                                                               & P141                                                             & 0.013219341                                                      & 0.002788558                                                      & ...                                                              & 0                                                                & 0                                                                & 0                                                                & 0                                                                & 0                                                                & 0                                                                & 0                                                                & 0                                                                & 0                                                                & 0                                                               \\\\\n",
       "\\end{tabular}\n"
      ],
      "text/markdown": [
       "\n",
       "| filename | MouseID | Treatmentgroup | status | DPI | organ | well_position | plate | X137.046_0.35 | X269.088_0.35 | ... | X269.089_0.42 | X527.851_2.856 | X467.802_2.661 | X169.472_2.754 | X190.983_2.978 | X269.913_2.601 | X269.913_2.654 | X217.425_2.737 | X227.936_2.695 | X104.031_5.837 |\n",
       "|---|---|---|---|---|---|---|---|---|---|---|---|---|---|---|---|---|---|---|---|---|\n",
       "| X501_Group1A_50dpi_RV_bottom_251_B_A1_P141.mzXML | 501                                              | Group1A                                          | naive                                            | 50DPI                                            | RV_bottom                                        | A1                                               | P141                                             | 0.009591114                                      | 0.002476510                                      | ...                                              | 0                                                | 0                                                | 0                                                | 0                                                | 0                                                | 0                                                | 0                                                | 0                                                | 0                                                | 0                                                |\n",
       "| X502_Group1A_50dpi_RV_bottom_252_B_A2_P141.mzXML | 502                                              | Group1A                                          | naive                                            | 50DPI                                            | RV_bottom                                        | A2                                               | P141                                             | 0.023717609                                      | 0.001750585                                      | ...                                              | 0                                                | 0                                                | 0                                                | 0                                                | 0                                                | 0                                                | 0                                                | 0                                                | 0                                                | 0                                                |\n",
       "| X503_Group1A_50dpi_RV_bottom_253_B_A3_P141.mzXML | 503                                              | Group1A                                          | naive                                            | 50DPI                                            | RV_bottom                                        | A3                                               | P141                                             | 0.012603445                                      | 0.003763609                                      | ...                                              | 0                                                | 0                                                | 0                                                | 0                                                | 0                                                | 0                                                | 0                                                | 0                                                | 0                                                | 0                                                |\n",
       "| X504_Group1A_50dpi_RV_bottom_254_B_A4_P141.mzXML | 504                                              | Group1A                                          | naive                                            | 50DPI                                            | RV_bottom                                        | A4                                               | P141                                             | 0.019752587                                      | 0.005932360                                      | ...                                              | 0                                                | 0                                                | 0                                                | 0                                                | 0                                                | 0                                                | 0                                                | 0                                                | 0                                                | 0                                                |\n",
       "| X505_Group1A_50dpi_RV_bottom_255_B_A5_P141.mzXML | 505                                              | Group1A                                          | naive                                            | 50DPI                                            | RV_bottom                                        | A5                                               | P141                                             | 0.012273222                                      | 0.003623830                                      | ...                                              | 0                                                | 0                                                | 0                                                | 0                                                | 0                                                | 0                                                | 0                                                | 0                                                | 0                                                | 0                                                |\n",
       "| X506_Group1B_70dpi_RV_bottom_281_B_C7_P141.mzXML | 506                                              | Group1B                                          | naive                                            | 70DPI                                            | RV_bottom                                        | C7                                               | P141                                             | 0.013219341                                      | 0.002788558                                      | ...                                              | 0                                                | 0                                                | 0                                                | 0                                                | 0                                                | 0                                                | 0                                                | 0                                                | 0                                                | 0                                                |\n",
       "\n"
      ],
      "text/plain": [
       "  filename                                         MouseID Treatmentgroup\n",
       "1 X501_Group1A_50dpi_RV_bottom_251_B_A1_P141.mzXML 501     Group1A       \n",
       "2 X502_Group1A_50dpi_RV_bottom_252_B_A2_P141.mzXML 502     Group1A       \n",
       "3 X503_Group1A_50dpi_RV_bottom_253_B_A3_P141.mzXML 503     Group1A       \n",
       "4 X504_Group1A_50dpi_RV_bottom_254_B_A4_P141.mzXML 504     Group1A       \n",
       "5 X505_Group1A_50dpi_RV_bottom_255_B_A5_P141.mzXML 505     Group1A       \n",
       "6 X506_Group1B_70dpi_RV_bottom_281_B_C7_P141.mzXML 506     Group1B       \n",
       "  status DPI   organ     well_position plate X137.046_0.35 X269.088_0.35 ...\n",
       "1 naive  50DPI RV_bottom A1            P141  0.009591114   0.002476510   ...\n",
       "2 naive  50DPI RV_bottom A2            P141  0.023717609   0.001750585   ...\n",
       "3 naive  50DPI RV_bottom A3            P141  0.012603445   0.003763609   ...\n",
       "4 naive  50DPI RV_bottom A4            P141  0.019752587   0.005932360   ...\n",
       "5 naive  50DPI RV_bottom A5            P141  0.012273222   0.003623830   ...\n",
       "6 naive  70DPI RV_bottom C7            P141  0.013219341   0.002788558   ...\n",
       "  X269.089_0.42 X527.851_2.856 X467.802_2.661 X169.472_2.754 X190.983_2.978\n",
       "1 0             0              0              0              0             \n",
       "2 0             0              0              0              0             \n",
       "3 0             0              0              0              0             \n",
       "4 0             0              0              0              0             \n",
       "5 0             0              0              0              0             \n",
       "6 0             0              0              0              0             \n",
       "  X269.913_2.601 X269.913_2.654 X217.425_2.737 X227.936_2.695 X104.031_5.837\n",
       "1 0              0              0              0              0             \n",
       "2 0              0              0              0              0             \n",
       "3 0              0              0              0              0             \n",
       "4 0              0              0              0              0             \n",
       "5 0              0              0              0              0             \n",
       "6 0              0              0              0              0             "
      ]
     },
     "metadata": {},
     "output_type": "display_data"
    },
    {
     "data": {
      "text/html": [
       "<ol class=list-inline>\n",
       "\t<li>90</li>\n",
       "\t<li>6720</li>\n",
       "</ol>\n"
      ],
      "text/latex": [
       "\\begin{enumerate*}\n",
       "\\item 90\n",
       "\\item 6720\n",
       "\\end{enumerate*}\n"
      ],
      "text/markdown": [
       "1. 90\n",
       "2. 6720\n",
       "\n",
       "\n"
      ],
      "text/plain": [
       "[1]   90 6720"
      ]
     },
     "metadata": {},
     "output_type": "display_data"
    }
   ],
   "source": [
    "features_pos <- read.csv(\"time-RVB-metadata-feature-table.csv\")\n",
    "head(features_pos)\n",
    "dim(features_pos)"
   ]
  },
  {
   "cell_type": "code",
   "execution_count": 2,
   "metadata": {
    "scrolled": false
   },
   "outputs": [
    {
     "data": {
      "text/html": [
       "<table>\n",
       "<thead><tr><th scope=col>X137.046_0.35</th><th scope=col>X269.088_0.35</th><th scope=col>X169.036_0.375</th><th scope=col>X338.342_3.533</th><th scope=col>X387.181_2.767</th><th scope=col>X311.081_2.525</th><th scope=col>X228.196_2.71</th><th scope=col>X404.207_2.768</th><th scope=col>X496.341_2.926</th><th scope=col>X310.31_3.391</th><th scope=col>...</th><th scope=col>X269.089_0.42</th><th scope=col>X527.851_2.856</th><th scope=col>X467.802_2.661</th><th scope=col>X169.472_2.754</th><th scope=col>X190.983_2.978</th><th scope=col>X269.913_2.601</th><th scope=col>X269.913_2.654</th><th scope=col>X217.425_2.737</th><th scope=col>X227.936_2.695</th><th scope=col>X104.031_5.837</th></tr></thead>\n",
       "<tbody>\n",
       "\t<tr><td>0.009591114</td><td>0.002476510</td><td>0          </td><td>0.0000000  </td><td>0.03363550 </td><td>0.03982976 </td><td>0.039629949</td><td>0.013987041</td><td>0.04269378 </td><td>0.00000000 </td><td>...        </td><td>0          </td><td>0          </td><td>0          </td><td>0          </td><td>0          </td><td>0          </td><td>0          </td><td>0          </td><td>0          </td><td>0          </td></tr>\n",
       "\t<tr><td>0.023717609</td><td>0.001750585</td><td>0          </td><td>0.1268704  </td><td>0.01609409 </td><td>0.01012704 </td><td>0.008376457</td><td>0.006381166</td><td>0.04799992 </td><td>0.03632935 </td><td>...        </td><td>0          </td><td>0          </td><td>0          </td><td>0          </td><td>0          </td><td>0          </td><td>0          </td><td>0          </td><td>0          </td><td>0          </td></tr>\n",
       "\t<tr><td>0.012603445</td><td>0.003763609</td><td>0          </td><td>0.0000000  </td><td>0.06156522 </td><td>0.03618408 </td><td>0.032408860</td><td>0.025729615</td><td>0.04083052 </td><td>0.00000000 </td><td>...        </td><td>0          </td><td>0          </td><td>0          </td><td>0          </td><td>0          </td><td>0          </td><td>0          </td><td>0          </td><td>0          </td><td>0          </td></tr>\n",
       "\t<tr><td>0.019752587</td><td>0.005932360</td><td>0          </td><td>0.0000000  </td><td>0.07835193 </td><td>0.04029528 </td><td>0.039110123</td><td>0.032723453</td><td>0.03311850 </td><td>0.04997405 </td><td>...        </td><td>0          </td><td>0          </td><td>0          </td><td>0          </td><td>0          </td><td>0          </td><td>0          </td><td>0          </td><td>0          </td><td>0          </td></tr>\n",
       "\t<tr><td>0.012273222</td><td>0.003623830</td><td>0          </td><td>0.0000000  </td><td>0.09237214 </td><td>0.03849916 </td><td>0.037530220</td><td>0.034106637</td><td>0.02228559 </td><td>0.04780097 </td><td>...        </td><td>0          </td><td>0          </td><td>0          </td><td>0          </td><td>0          </td><td>0          </td><td>0          </td><td>0          </td><td>0          </td><td>0          </td></tr>\n",
       "\t<tr><td>0.013219341</td><td>0.002788558</td><td>0          </td><td>0.0000000  </td><td>0.14797770 </td><td>0.03913188 </td><td>0.033344308</td><td>0.054061185</td><td>0.03229202 </td><td>0.00000000 </td><td>...        </td><td>0          </td><td>0          </td><td>0          </td><td>0          </td><td>0          </td><td>0          </td><td>0          </td><td>0          </td><td>0          </td><td>0          </td></tr>\n",
       "</tbody>\n",
       "</table>\n"
      ],
      "text/latex": [
       "\\begin{tabular}{r|llllllllllllllllllllllllllllllllllllllllllllllllllllllllllllllllllllllllllllllllllllllllllllllllllllllllllllllllllllllllllllllllllllllllllllllllllllllllllllllllllllllllllllllllllllllllllllllllllllllllllllllllllllllllllllllllllllllllllllllllllllllllllllllllllllllllllllllllllllllllllllllllllllllllllllllllllllllllllllllllllllllllllllllllllllllllllllllllllllllllllllllllllllllllllllllllllllllllllllllllllllllllllllllllllllllllllllllllllllllllllllllllllllllllllllllllllllllllllllllllllllllllllllllllllllllllllllllllllllllllllllllllllllllllllllllllllllllllllllllllllllllllllllllllllllllllllllllllllllllllllllllllllllllllllllllllllllllllllllllllllllllllllllllllllllllllllllllllllllllllllllllllllllllllllllllllllllllllllllllllllllllllllllllllllllllllllllllllllllllllllllllllllllllllllllllllllllllllllllllllllllllllllllllllllllllllllllllllllllllllllllllllllllllllllllllllllllllllllllllllllllllllllllllllllllllllllllllllllllllllllllllllllllllllllllllllllllllllllllllllllllllllllllllllllllllllllllllllllllllllllllllllllllllllllllllllllllllllllllllllllllllllllllllllllllllllllllllllllllllllllllllllllllllllllllllllllllllllllllllllllllllllllllllllllllllllllllllllllllllllllllllllllllllllllllllllllllllllllllllllllllllllllllllllllllllllllllllllllllllllllllllllllllllllllllllllllllllllllllllllllllllllllllllllllllllllllllllllllllllllllllllllllllllllllllllllllllllllllllllllllllllllllllllllllllllllllllllllllllllllllllllllllllllllllllllllllllllllllllllllllllllllllllllllllllllllllllllllllllllllllllllllllllllllllllllllllllllllllllllllllllllllllllllllllllllllllllllllllllllllllllllllllllllllllllllllllllllllllllllllllllllllllllllllllllllllllllllllllllllllllllllllllllllllllllllllllllllllllllllllllllllllllllllllllllllllllllllllllllllllllllllllllllllllllllllllllllllllllllllllllllllllllllllllllllllllllllllllllllllllllllllllllllllllllllllllllllllllllllllllllllllllllllllllllllllllllllllllllllllllllllllllllllllllllllllllllllllllllllllllllllllllllllllllllllllllllllllllllllllllllllllllllllllllllllllllllllllllllllllllllllllllllllllllllllllllllllllllllllllllllllllllllllllllllllllllllllllllllllllllllllllllllllllllllllllllllllllllllllllllllllllllllllllllllllllllllllllllllllllllllllllllllllllllllllllllllllllllllllllllllllllllllllllllllllllllllllllllllllllllllllllllllllllllllllllllllllllllllllllllllllllllllllllllllllllllllllllllllllllllllllllllllllllllllllllllllllllllllllllllllllllllllllllllllllllllllllllllllllllllllllllllllllllllllllllllllllllllllllllllllllllllllllllllllllllllllllllllllllllllllllllllllllllllllllllllllllllllllllllllllllllllllllllllllllllllllllllllllllllllllllllllllllllllllllllllllllllllllllllllllllllllllllllllllllllllllllllllllllllllllllllllllllllllllllllllllllllllllllllllllllllllllllllllllllllllllllllllllllllllllllllllllllllllllllllllllllllllllllllllllllllllllllllllllllllllllllllllllllllllllllllllllllllllllllllllllllllllllllllllllllllllllllllllllllllllllllllllllllllllllllllllllllllllllllllllllllllllllllllllllllllllllllllllllllllllllllllllllllllllllllllllllllllllllllllllllllllllllllllllllllllllllllllllllllllllllllllllllllllllllllllllllllllllllllllllllllllllllllllllllllllllllllllllllllllllllllllllllllllllllllllllllllllllllllllllllllllllllllllllllllllllllllllllllllllllllllllllllllllllllllllllllllllllllllllllllllllllllllllllllllllllllllllllllllllllllllllllllllllllllllllllllllllllllllllllllllllllllllllllllllllllllllllllllllllllllllllllllllllllllllllllllllllllllllllllllllllllllllllllllllllllllllllllllllllllllllllllllllllllllllllllllllllllllllllllllllllllllllllllllllllllllllllllllllllllllllllllllllllllllllllllllllllllllllllllllllllllllllllllllllllllllllllllllllllllllllllllllllllllllllllllllllllllllllllllllllllllllllllllllllllllllllllllllllllllllllllllllllllllllllllllllllllllllllllllllllllllllllllllllllllllllllllllllllllllllllllllllllllllllllllllllllllllllllllllllllllllllllllllllllllllllllllllllllllllllllllllllllllllllllllllllllllllllllllllllllllllllllllllllllllllllllllllllllllllllllllllllllllllllllllllllllllllllllllllllllllllllllllllllllllllllllllllllllllllllllllllllllllllllllllllllllllllllllllllllllllllllllllllllllllllllllllllllllllllllllllllllllllllllllllllllllllllllllllllllllllllllllllllllllllllllllllllllllllllllllllllllllllllllllllllllllllllllllllllllllllllllllllllllllllllllllllllllllllllllllllllllllllllllllllllllllllllllllllllllllllllllllllllllllllllllllllllllllllllllllllllllllllllllllllllllllllllllllllllllllllllllllllllllllllllllllllllllllllllllllllllllllllllllllllllllllllllllllllllllllllllllllllllllllllllllllllllllllllllllllllllllllllllllllllllllllllllllllllllllllllllllllllllllllllllllllllllllllllllllllllllllllllllllllllllllllllllllllllllllllllllllllllllllllllllllllllllllllllllllllllllllllllllllllllllllllllllllllllllllllllllllllllllllllllllllllllllllllllllllllllllllllllllllllllllllllllllllllllllllllllllllllllllllllllllllllllllllllllllllllllllllllllllllllllllllllllllllllllllllllllllllllllllllllllllllllllllllllllllllllllllllllllllllllllllllllllllllllllllllllllllllllllllllllllllllllllllllllllllllllllllllllllllllllllllllllllllllllllllllllllllllllllllllllllllllllllllllllllllllllllllllllllllllllllllllllllllllllllllllllllllllllllllllllllllllllllllllllllllllllllllllllllllllllllllllllllllllllllllllllllllllllllllllllllllllllllllllllllllllllllllllllllllllllllllllllllllllllllllllllllllllllllllllllllllllllllllllllllllllllllllllllllllllllllllllllllllllllllllllllllllllllllllllllllllllllllllllllllllllllllllllllllllllllllllllllllllllllllllllllllllllllllllllllllllllllllllllllllllllllllllllllllllllllllllllllllllllllllllllllllllllllllllllllllllllllllllllllllllllllllllllllllllllllllllllllllllllllllllllllllllllllllllllllllllllllllllllllllllllllllllllllllllllllllllllllllllllllllllllllllllllllllllllllllllllllllllllllllllllllllllllllllllllllllllllllllllllllllllllllllllllllllllllllllllllllllllllllllllllllllllllllllllllllllllllllllllllllllllllllllllllllllllllllllllllllllllllllllllllllllllllllllllllllllllllllllllllllllllllllllllllllllllllllllllllllllllllllllllllllllllllllllllllllllllllllllllllllllllllllllllllllllllllllllllllllllllllllllllllllllllllllllllllllllllllllllllllllllllllllllllllllllllllllllllllllllllllllllllllllllllllllllllllllllllllllllllllllllllllllllllllllllllllllllllllllllllllllllllllllllllllllllllllllllllllllllllllllllllllllllllllllllllllllllllllllllllllllllllllllllllllllllllllllllllllllllllllllllllllllllllllllllllllllllllllllllllllllllllllllllllllllllllllllllllllllllllllllllllllllllllllllllllllllllllllllllllllllllllllllllllllllllllllllllllllllllllllllllllllllllllllllllllllllllllllllllllllllllllllllllllllllllllllllllllllllllllllllllllllllllllllllllllllllllllllllllllllllllllllllllllllllllllllllllllllllllllllllllllllllllllllllllllllllllllllllllllllllllllllllllllllllllllllllllllllllllllllllllllllllllllllllllllllllllllllllllllllllllllllllllll}\n",
       " X137.046\\_0.35 & X269.088\\_0.35 & X169.036\\_0.375 & X338.342\\_3.533 & X387.181\\_2.767 & X311.081\\_2.525 & X228.196\\_2.71 & X404.207\\_2.768 & X496.341\\_2.926 & X310.31\\_3.391 & ... & X269.089\\_0.42 & X527.851\\_2.856 & X467.802\\_2.661 & X169.472\\_2.754 & X190.983\\_2.978 & X269.913\\_2.601 & X269.913\\_2.654 & X217.425\\_2.737 & X227.936\\_2.695 & X104.031\\_5.837\\\\\n",
       "\\hline\n",
       "\t 0.009591114 & 0.002476510 & 0           & 0.0000000   & 0.03363550  & 0.03982976  & 0.039629949 & 0.013987041 & 0.04269378  & 0.00000000  & ...         & 0           & 0           & 0           & 0           & 0           & 0           & 0           & 0           & 0           & 0          \\\\\n",
       "\t 0.023717609 & 0.001750585 & 0           & 0.1268704   & 0.01609409  & 0.01012704  & 0.008376457 & 0.006381166 & 0.04799992  & 0.03632935  & ...         & 0           & 0           & 0           & 0           & 0           & 0           & 0           & 0           & 0           & 0          \\\\\n",
       "\t 0.012603445 & 0.003763609 & 0           & 0.0000000   & 0.06156522  & 0.03618408  & 0.032408860 & 0.025729615 & 0.04083052  & 0.00000000  & ...         & 0           & 0           & 0           & 0           & 0           & 0           & 0           & 0           & 0           & 0          \\\\\n",
       "\t 0.019752587 & 0.005932360 & 0           & 0.0000000   & 0.07835193  & 0.04029528  & 0.039110123 & 0.032723453 & 0.03311850  & 0.04997405  & ...         & 0           & 0           & 0           & 0           & 0           & 0           & 0           & 0           & 0           & 0          \\\\\n",
       "\t 0.012273222 & 0.003623830 & 0           & 0.0000000   & 0.09237214  & 0.03849916  & 0.037530220 & 0.034106637 & 0.02228559  & 0.04780097  & ...         & 0           & 0           & 0           & 0           & 0           & 0           & 0           & 0           & 0           & 0          \\\\\n",
       "\t 0.013219341 & 0.002788558 & 0           & 0.0000000   & 0.14797770  & 0.03913188  & 0.033344308 & 0.054061185 & 0.03229202  & 0.00000000  & ...         & 0           & 0           & 0           & 0           & 0           & 0           & 0           & 0           & 0           & 0          \\\\\n",
       "\\end{tabular}\n"
      ],
      "text/markdown": [
       "\n",
       "| X137.046_0.35 | X269.088_0.35 | X169.036_0.375 | X338.342_3.533 | X387.181_2.767 | X311.081_2.525 | X228.196_2.71 | X404.207_2.768 | X496.341_2.926 | X310.31_3.391 | ... | X269.089_0.42 | X527.851_2.856 | X467.802_2.661 | X169.472_2.754 | X190.983_2.978 | X269.913_2.601 | X269.913_2.654 | X217.425_2.737 | X227.936_2.695 | X104.031_5.837 |\n",
       "|---|---|---|---|---|---|---|---|---|---|---|---|---|---|---|---|---|---|---|---|---|\n",
       "| 0.009591114 | 0.002476510 | 0           | 0.0000000   | 0.03363550  | 0.03982976  | 0.039629949 | 0.013987041 | 0.04269378  | 0.00000000  | ...         | 0           | 0           | 0           | 0           | 0           | 0           | 0           | 0           | 0           | 0           |\n",
       "| 0.023717609 | 0.001750585 | 0           | 0.1268704   | 0.01609409  | 0.01012704  | 0.008376457 | 0.006381166 | 0.04799992  | 0.03632935  | ...         | 0           | 0           | 0           | 0           | 0           | 0           | 0           | 0           | 0           | 0           |\n",
       "| 0.012603445 | 0.003763609 | 0           | 0.0000000   | 0.06156522  | 0.03618408  | 0.032408860 | 0.025729615 | 0.04083052  | 0.00000000  | ...         | 0           | 0           | 0           | 0           | 0           | 0           | 0           | 0           | 0           | 0           |\n",
       "| 0.019752587 | 0.005932360 | 0           | 0.0000000   | 0.07835193  | 0.04029528  | 0.039110123 | 0.032723453 | 0.03311850  | 0.04997405  | ...         | 0           | 0           | 0           | 0           | 0           | 0           | 0           | 0           | 0           | 0           |\n",
       "| 0.012273222 | 0.003623830 | 0           | 0.0000000   | 0.09237214  | 0.03849916  | 0.037530220 | 0.034106637 | 0.02228559  | 0.04780097  | ...         | 0           | 0           | 0           | 0           | 0           | 0           | 0           | 0           | 0           | 0           |\n",
       "| 0.013219341 | 0.002788558 | 0           | 0.0000000   | 0.14797770  | 0.03913188  | 0.033344308 | 0.054061185 | 0.03229202  | 0.00000000  | ...         | 0           | 0           | 0           | 0           | 0           | 0           | 0           | 0           | 0           | 0           |\n",
       "\n"
      ],
      "text/plain": [
       "  X137.046_0.35 X269.088_0.35 X169.036_0.375 X338.342_3.533 X387.181_2.767\n",
       "1 0.009591114   0.002476510   0              0.0000000      0.03363550    \n",
       "2 0.023717609   0.001750585   0              0.1268704      0.01609409    \n",
       "3 0.012603445   0.003763609   0              0.0000000      0.06156522    \n",
       "4 0.019752587   0.005932360   0              0.0000000      0.07835193    \n",
       "5 0.012273222   0.003623830   0              0.0000000      0.09237214    \n",
       "6 0.013219341   0.002788558   0              0.0000000      0.14797770    \n",
       "  X311.081_2.525 X228.196_2.71 X404.207_2.768 X496.341_2.926 X310.31_3.391 ...\n",
       "1 0.03982976     0.039629949   0.013987041    0.04269378     0.00000000    ...\n",
       "2 0.01012704     0.008376457   0.006381166    0.04799992     0.03632935    ...\n",
       "3 0.03618408     0.032408860   0.025729615    0.04083052     0.00000000    ...\n",
       "4 0.04029528     0.039110123   0.032723453    0.03311850     0.04997405    ...\n",
       "5 0.03849916     0.037530220   0.034106637    0.02228559     0.04780097    ...\n",
       "6 0.03913188     0.033344308   0.054061185    0.03229202     0.00000000    ...\n",
       "  X269.089_0.42 X527.851_2.856 X467.802_2.661 X169.472_2.754 X190.983_2.978\n",
       "1 0             0              0              0              0             \n",
       "2 0             0              0              0              0             \n",
       "3 0             0              0              0              0             \n",
       "4 0             0              0              0              0             \n",
       "5 0             0              0              0              0             \n",
       "6 0             0              0              0              0             \n",
       "  X269.913_2.601 X269.913_2.654 X217.425_2.737 X227.936_2.695 X104.031_5.837\n",
       "1 0              0              0              0              0             \n",
       "2 0              0              0              0              0             \n",
       "3 0              0              0              0              0             \n",
       "4 0              0              0              0              0             \n",
       "5 0              0              0              0              0             \n",
       "6 0              0              0              0              0             "
      ]
     },
     "metadata": {},
     "output_type": "display_data"
    },
    {
     "data": {
      "text/html": [
       "<ol class=list-inline>\n",
       "\t<li>90</li>\n",
       "\t<li>6712</li>\n",
       "</ol>\n"
      ],
      "text/latex": [
       "\\begin{enumerate*}\n",
       "\\item 90\n",
       "\\item 6712\n",
       "\\end{enumerate*}\n"
      ],
      "text/markdown": [
       "1. 90\n",
       "2. 6712\n",
       "\n",
       "\n"
      ],
      "text/plain": [
       "[1]   90 6712"
      ]
     },
     "metadata": {},
     "output_type": "display_data"
    },
    {
     "data": {
      "text/html": [
       "<table>\n",
       "<thead><tr><th scope=col>filename</th><th scope=col>MouseID</th><th scope=col>Treatmentgroup</th><th scope=col>status</th><th scope=col>DPI</th><th scope=col>organ</th><th scope=col>well_position</th><th scope=col>plate</th><th scope=col>X137.046_0.35</th><th scope=col>X269.088_0.35</th><th scope=col>...</th><th scope=col>X269.089_0.42</th><th scope=col>X527.851_2.856</th><th scope=col>X467.802_2.661</th><th scope=col>X169.472_2.754</th><th scope=col>X190.983_2.978</th><th scope=col>X269.913_2.601</th><th scope=col>X269.913_2.654</th><th scope=col>X217.425_2.737</th><th scope=col>X227.936_2.695</th><th scope=col>X104.031_5.837</th></tr></thead>\n",
       "<tbody>\n",
       "\t<tr><td>X501_Group1A_50dpi_RV_bottom_251_B_A1_P141.mzXML</td><td>501                                             </td><td>Group1A                                         </td><td>naive                                           </td><td>50DPI                                           </td><td>RV_bottom                                       </td><td>A1                                              </td><td>P141                                            </td><td>0.009591114                                     </td><td>0.002476510                                     </td><td>...                                             </td><td>0                                               </td><td>0                                               </td><td>0                                               </td><td>0                                               </td><td>0                                               </td><td>0                                               </td><td>0                                               </td><td>0                                               </td><td>0                                               </td><td>0                                               </td></tr>\n",
       "\t<tr><td>X502_Group1A_50dpi_RV_bottom_252_B_A2_P141.mzXML</td><td>502                                             </td><td>Group1A                                         </td><td>naive                                           </td><td>50DPI                                           </td><td>RV_bottom                                       </td><td>A2                                              </td><td>P141                                            </td><td>0.023717609                                     </td><td>0.001750585                                     </td><td>...                                             </td><td>0                                               </td><td>0                                               </td><td>0                                               </td><td>0                                               </td><td>0                                               </td><td>0                                               </td><td>0                                               </td><td>0                                               </td><td>0                                               </td><td>0                                               </td></tr>\n",
       "\t<tr><td>X503_Group1A_50dpi_RV_bottom_253_B_A3_P141.mzXML</td><td>503                                             </td><td>Group1A                                         </td><td>naive                                           </td><td>50DPI                                           </td><td>RV_bottom                                       </td><td>A3                                              </td><td>P141                                            </td><td>0.012603445                                     </td><td>0.003763609                                     </td><td>...                                             </td><td>0                                               </td><td>0                                               </td><td>0                                               </td><td>0                                               </td><td>0                                               </td><td>0                                               </td><td>0                                               </td><td>0                                               </td><td>0                                               </td><td>0                                               </td></tr>\n",
       "\t<tr><td>X504_Group1A_50dpi_RV_bottom_254_B_A4_P141.mzXML</td><td>504                                             </td><td>Group1A                                         </td><td>naive                                           </td><td>50DPI                                           </td><td>RV_bottom                                       </td><td>A4                                              </td><td>P141                                            </td><td>0.019752587                                     </td><td>0.005932360                                     </td><td>...                                             </td><td>0                                               </td><td>0                                               </td><td>0                                               </td><td>0                                               </td><td>0                                               </td><td>0                                               </td><td>0                                               </td><td>0                                               </td><td>0                                               </td><td>0                                               </td></tr>\n",
       "\t<tr><td>X505_Group1A_50dpi_RV_bottom_255_B_A5_P141.mzXML</td><td>505                                             </td><td>Group1A                                         </td><td>naive                                           </td><td>50DPI                                           </td><td>RV_bottom                                       </td><td>A5                                              </td><td>P141                                            </td><td>0.012273222                                     </td><td>0.003623830                                     </td><td>...                                             </td><td>0                                               </td><td>0                                               </td><td>0                                               </td><td>0                                               </td><td>0                                               </td><td>0                                               </td><td>0                                               </td><td>0                                               </td><td>0                                               </td><td>0                                               </td></tr>\n",
       "\t<tr><td>X506_Group1B_70dpi_RV_bottom_281_B_C7_P141.mzXML</td><td>506                                             </td><td>Group1B                                         </td><td>naive                                           </td><td>70DPI                                           </td><td>RV_bottom                                       </td><td>C7                                              </td><td>P141                                            </td><td>0.013219341                                     </td><td>0.002788558                                     </td><td>...                                             </td><td>0                                               </td><td>0                                               </td><td>0                                               </td><td>0                                               </td><td>0                                               </td><td>0                                               </td><td>0                                               </td><td>0                                               </td><td>0                                               </td><td>0                                               </td></tr>\n",
       "</tbody>\n",
       "</table>\n"
      ],
      "text/latex": [
       "\\begin{tabular}{r|llllllllllllllllllllllllllllllllllllllllllllllllllllllllllllllllllllllllllllllllllllllllllllllllllllllllllllllllllllllllllllllllllllllllllllllllllllllllllllllllllllllllllllllllllllllllllllllllllllllllllllllllllllllllllllllllllllllllllllllllllllllllllllllllllllllllllllllllllllllllllllllllllllllllllllllllllllllllllllllllllllllllllllllllllllllllllllllllllllllllllllllllllllllllllllllllllllllllllllllllllllllllllllllllllllllllllllllllllllllllllllllllllllllllllllllllllllllllllllllllllllllllllllllllllllllllllllllllllllllllllllllllllllllllllllllllllllllllllllllllllllllllllllllllllllllllllllllllllllllllllllllllllllllllllllllllllllllllllllllllllllllllllllllllllllllllllllllllllllllllllllllllllllllllllllllllllllllllllllllllllllllllllllllllllllllllllllllllllllllllllllllllllllllllllllllllllllllllllllllllllllllllllllllllllllllllllllllllllllllllllllllllllllllllllllllllllllllllllllllllllllllllllllllllllllllllllllllllllllllllllllllllllllllllllllllllllllllllllllllllllllllllllllllllllllllllllllllllllllllllllllllllllllllllllllllllllllllllllllllllllllllllllllllllllllllllllllllllllllllllllllllllllllllllllllllllllllllllllllllllllllllllllllllllllllllllllllllllllllllllllllllllllllllllllllllllllllllllllllllllllllllllllllllllllllllllllllllllllllllllllllllllllllllllllllllllllllllllllllllllllllllllllllllllllllllllllllllllllllllllllllllllllllllllllllllllllllllllllllllllllllllllllllllllllllllllllllllllllllllllllllllllllllllllllllllllllllllllllllllllllllllllllllllllllllllllllllllllllllllllllllllllllllllllllllllllllllllllllllllllllllllllllllllllllllllllllllllllllllllllllllllllllllllllllllllllllllllllllllllllllllllllllllllllllllllllllllllllllllllllllllllllllllllllllllllllllllllllllllllllllllllllllllllllllllllllllllllllllllllllllllllllllllllllllllllllllllllllllllllllllllllllllllllllllllllllllllllllllllllllllllllllllllllllllllllllllllllllllllllllllllllllllllllllllllllllllllllllllllllllllllllllllllllllllllllllllllllllllllllllllllllllllllllllllllllllllllllllllllllllllllllllllllllllllllllllllllllllllllllllllllllllllllllllllllllllllllllllllllllllllllllllllllllllllllllllllllllllllllllllllllllllllllllllllllllllllllllllllllllllllllllllllllllllllllllllllllllllllllllllllllllllllllllllllllllllllllllllllllllllllllllllllllllllllllllllllllllllllllllllllllllllllllllllllllllllllllllllllllllllllllllllllllllllllllllllllllllllllllllllllllllllllllllllllllllllllllllllllllllllllllllllllllllllllllllllllllllllllllllllllllllllllllllllllllllllllllllllllllllllllllllllllllllllllllllllllllllllllllllllllllllllllllllllllllllllllllllllllllllllllllllllllllllllllllllllllllllllllllllllllllllllllllllllllllllllllllllllllllllllllllllllllllllllllllllllllllllllllllllllllllllllllllllllllllllllllllllllllllllllllllllllllllllllllllllllllllllllllllllllllllllllllllllllllllllllllllllllllllllllllllllllllllllllllllllllllllllllllllllllllllllllllllllllllllllllllllllllllllllllllllllllllllllllllllllllllllllllllllllllllllllllllllllllllllllllllllllllllllllllllllllllllllllllllllllllllllllllllllllllllllllllllllllllllllllllllllllllllllllllllllllllllllllllllllllllllllllllllllllllllllllllllllllllllllllllllllllllllllllllllllllllllllllllllllllllllllllllllllllllllllllllllllllllllllllllllllllllllllllllllllllllllllllllllllllllllllllllllllllllllllllllllllllllllllllllllllllllllllllllllllllllllllllllllllllllllllllllllllllllllllllllllllllllllllllllllllllllllllllllllllllllllllllllllllllllllllllllllllllllllllllllllllllllllllllllllllllllllllllllllllllllllllllllllllllllllllllllllllllllllllllllllllllllllllllllllllllllllllllllllllllllllllllllllllllllllllllllllllllllllllllllllllllllllllllllllllllllllllllllllllllllllllllllllllllllllllllllllllllllllllllllllllllllllllllllllllllllllllllllllllllllllllllllllllllllllllllllllllllllllllllllllllllllllllllllllllllllllllllllllllllllllllllllllllllllllllllllllllllllllllllllllllllllllllllllllllllllllllllllllllllllllllllllllllllllllllllllllllllllllllllllllllllllllllllllllllllllllllllllllllllllllllllllllllllllllllllllllllllllllllllllllllllllllllllllllllllllllllllllllllllllllllllllllllllllllllllllllllllllllllllllllllllllllllllllllllllllllllllllllllllllllllllllllllllllllllllllllllllllllllllllllllllllllllllllllllllllllllllllllllllllllllllllllllllllllllllllllllllllllllllllllllllllllllllllllllllllllllllllllllllllllllllllllllllllllllllllllllllllllllllllllllllllllllllllllllllllllllllllllllllllllllllllllllllllllllllllllllllllllllllllllllllllllllllllllllllllllllllllllllllllllllllllllllllllllllllllllllllllllllllllllllllllllllllllllllllllllllllllllllllllllllllllllllllllllllllllllllllllllllllllllllllllllllllllllllllllllllllllllllllllllllllllllllllllllllllllllllllllllllllllllllllllllllllllllllllllllllllllllllllllllllllllllllllllllllllllllllllllllllllllllllllllllllllllllllllllllllllllllllllllllllllllllllllllllllllllllllllllllllllllllllllllllllllllllllllllllllllllllllllllllllllllllllllllllllllllllllllllllllllllllllllllllllllllllllllllllllllllllllllllllllllllllllllllllllllllllllllllllllllllllllllllllllllllllllllllllllllllllllllllllllllllllllllllllllllllllllllllllllllllllllllllllllllllllllllllllllllllllllllllllllllllllllllllllllllllllllllllllllllllllllllllllllllllllllllllllllllllllllllllllllllllllllllllllllllllllllllllllllllllllllllllllllllllllllllllllllllllllllllllllllllllllllllllllllllllllllllllllllllllllllllllllllllllllllllllllllllllllllllllllllllllllllllllllllllllllllllllllllllllllllllllllllllllllllllllllllllllllllllllllllllllllllllllllllllllllllllllllllllllllllllllllllllllllllllllllllllllllllllllllllllllllllllllllllllllllllllllllllllllllllllllllllllllllllllllllllllllllllllllllllllllllllllllllllllllllllllllllllllllllllllllllllllllllllllllllllllllllllllllllllllllllllllllllllllllllllllllllllllllllllllllllllllllllllllllllllllllllllllllllllllllllllllllllllllllllllllllllllllllllllllllllllllllllllllllllllllllllllllllllllllllllllllllllllllllllllllllllllllllllllllllllllllllllllllllllllllllllllllllllllllllllllllllllllllllllllllllllllllllllllllllllllllllllllllllllllllllllllllllllllllllllllllllllllllllllllllllllllllllllllllllllllllllllllllllllllllllllllllllllllllllllllllllllllllllllllllllllllllllllllllllllllllllllllllllllllllllllllllllllllllllllllllllllllllllllllllllllllllllllllllllllllllllllllllllllllllllllllllllllllllllllllllllllllllllllllllllllllllllllllllllllllllllllllllllllllllllllllllllllllllllllllllllllllllllllllllllllllllllllllllllllllllllllllllllllllllllllllllllllllllllllllllllllllllllllllllllllllllllllllllllllllllllllllllllllllllllllllllllllllllllllllllllllllllllllllllllllllllllllllllllllllllllllllllllllllllllllllllllllllllllllllllllllllllllllllllllllllllllllllllllllllllllllllllllllllllllllllllllllllllllllllllllllllllllllllllllllllllllllllllllllllllllllllllllllllllllllllllllllllllllllllllllllllllllllllllllllllllllllllllllllllllllllllllllllllllllllllllllllllllllllllllllllllllllllllllll}\n",
       " filename & MouseID & Treatmentgroup & status & DPI & organ & well\\_position & plate & X137.046\\_0.35 & X269.088\\_0.35 & ... & X269.089\\_0.42 & X527.851\\_2.856 & X467.802\\_2.661 & X169.472\\_2.754 & X190.983\\_2.978 & X269.913\\_2.601 & X269.913\\_2.654 & X217.425\\_2.737 & X227.936\\_2.695 & X104.031\\_5.837\\\\\n",
       "\\hline\n",
       "\t X501\\_Group1A\\_50dpi\\_RV\\_bottom\\_251\\_B\\_A1\\_P141.mzXML & 501                                                              & Group1A                                                          & naive                                                            & 50DPI                                                            & RV\\_bottom                                                      & A1                                                               & P141                                                             & 0.009591114                                                      & 0.002476510                                                      & ...                                                              & 0                                                                & 0                                                                & 0                                                                & 0                                                                & 0                                                                & 0                                                                & 0                                                                & 0                                                                & 0                                                                & 0                                                               \\\\\n",
       "\t X502\\_Group1A\\_50dpi\\_RV\\_bottom\\_252\\_B\\_A2\\_P141.mzXML & 502                                                              & Group1A                                                          & naive                                                            & 50DPI                                                            & RV\\_bottom                                                      & A2                                                               & P141                                                             & 0.023717609                                                      & 0.001750585                                                      & ...                                                              & 0                                                                & 0                                                                & 0                                                                & 0                                                                & 0                                                                & 0                                                                & 0                                                                & 0                                                                & 0                                                                & 0                                                               \\\\\n",
       "\t X503\\_Group1A\\_50dpi\\_RV\\_bottom\\_253\\_B\\_A3\\_P141.mzXML & 503                                                              & Group1A                                                          & naive                                                            & 50DPI                                                            & RV\\_bottom                                                      & A3                                                               & P141                                                             & 0.012603445                                                      & 0.003763609                                                      & ...                                                              & 0                                                                & 0                                                                & 0                                                                & 0                                                                & 0                                                                & 0                                                                & 0                                                                & 0                                                                & 0                                                                & 0                                                               \\\\\n",
       "\t X504\\_Group1A\\_50dpi\\_RV\\_bottom\\_254\\_B\\_A4\\_P141.mzXML & 504                                                              & Group1A                                                          & naive                                                            & 50DPI                                                            & RV\\_bottom                                                      & A4                                                               & P141                                                             & 0.019752587                                                      & 0.005932360                                                      & ...                                                              & 0                                                                & 0                                                                & 0                                                                & 0                                                                & 0                                                                & 0                                                                & 0                                                                & 0                                                                & 0                                                                & 0                                                               \\\\\n",
       "\t X505\\_Group1A\\_50dpi\\_RV\\_bottom\\_255\\_B\\_A5\\_P141.mzXML & 505                                                              & Group1A                                                          & naive                                                            & 50DPI                                                            & RV\\_bottom                                                      & A5                                                               & P141                                                             & 0.012273222                                                      & 0.003623830                                                      & ...                                                              & 0                                                                & 0                                                                & 0                                                                & 0                                                                & 0                                                                & 0                                                                & 0                                                                & 0                                                                & 0                                                                & 0                                                               \\\\\n",
       "\t X506\\_Group1B\\_70dpi\\_RV\\_bottom\\_281\\_B\\_C7\\_P141.mzXML & 506                                                              & Group1B                                                          & naive                                                            & 70DPI                                                            & RV\\_bottom                                                      & C7                                                               & P141                                                             & 0.013219341                                                      & 0.002788558                                                      & ...                                                              & 0                                                                & 0                                                                & 0                                                                & 0                                                                & 0                                                                & 0                                                                & 0                                                                & 0                                                                & 0                                                                & 0                                                               \\\\\n",
       "\\end{tabular}\n"
      ],
      "text/markdown": [
       "\n",
       "| filename | MouseID | Treatmentgroup | status | DPI | organ | well_position | plate | X137.046_0.35 | X269.088_0.35 | ... | X269.089_0.42 | X527.851_2.856 | X467.802_2.661 | X169.472_2.754 | X190.983_2.978 | X269.913_2.601 | X269.913_2.654 | X217.425_2.737 | X227.936_2.695 | X104.031_5.837 |\n",
       "|---|---|---|---|---|---|---|---|---|---|---|---|---|---|---|---|---|---|---|---|---|\n",
       "| X501_Group1A_50dpi_RV_bottom_251_B_A1_P141.mzXML | 501                                              | Group1A                                          | naive                                            | 50DPI                                            | RV_bottom                                        | A1                                               | P141                                             | 0.009591114                                      | 0.002476510                                      | ...                                              | 0                                                | 0                                                | 0                                                | 0                                                | 0                                                | 0                                                | 0                                                | 0                                                | 0                                                | 0                                                |\n",
       "| X502_Group1A_50dpi_RV_bottom_252_B_A2_P141.mzXML | 502                                              | Group1A                                          | naive                                            | 50DPI                                            | RV_bottom                                        | A2                                               | P141                                             | 0.023717609                                      | 0.001750585                                      | ...                                              | 0                                                | 0                                                | 0                                                | 0                                                | 0                                                | 0                                                | 0                                                | 0                                                | 0                                                | 0                                                |\n",
       "| X503_Group1A_50dpi_RV_bottom_253_B_A3_P141.mzXML | 503                                              | Group1A                                          | naive                                            | 50DPI                                            | RV_bottom                                        | A3                                               | P141                                             | 0.012603445                                      | 0.003763609                                      | ...                                              | 0                                                | 0                                                | 0                                                | 0                                                | 0                                                | 0                                                | 0                                                | 0                                                | 0                                                | 0                                                |\n",
       "| X504_Group1A_50dpi_RV_bottom_254_B_A4_P141.mzXML | 504                                              | Group1A                                          | naive                                            | 50DPI                                            | RV_bottom                                        | A4                                               | P141                                             | 0.019752587                                      | 0.005932360                                      | ...                                              | 0                                                | 0                                                | 0                                                | 0                                                | 0                                                | 0                                                | 0                                                | 0                                                | 0                                                | 0                                                |\n",
       "| X505_Group1A_50dpi_RV_bottom_255_B_A5_P141.mzXML | 505                                              | Group1A                                          | naive                                            | 50DPI                                            | RV_bottom                                        | A5                                               | P141                                             | 0.012273222                                      | 0.003623830                                      | ...                                              | 0                                                | 0                                                | 0                                                | 0                                                | 0                                                | 0                                                | 0                                                | 0                                                | 0                                                | 0                                                |\n",
       "| X506_Group1B_70dpi_RV_bottom_281_B_C7_P141.mzXML | 506                                              | Group1B                                          | naive                                            | 70DPI                                            | RV_bottom                                        | C7                                               | P141                                             | 0.013219341                                      | 0.002788558                                      | ...                                              | 0                                                | 0                                                | 0                                                | 0                                                | 0                                                | 0                                                | 0                                                | 0                                                | 0                                                | 0                                                |\n",
       "\n"
      ],
      "text/plain": [
       "  filename                                         MouseID Treatmentgroup\n",
       "1 X501_Group1A_50dpi_RV_bottom_251_B_A1_P141.mzXML 501     Group1A       \n",
       "2 X502_Group1A_50dpi_RV_bottom_252_B_A2_P141.mzXML 502     Group1A       \n",
       "3 X503_Group1A_50dpi_RV_bottom_253_B_A3_P141.mzXML 503     Group1A       \n",
       "4 X504_Group1A_50dpi_RV_bottom_254_B_A4_P141.mzXML 504     Group1A       \n",
       "5 X505_Group1A_50dpi_RV_bottom_255_B_A5_P141.mzXML 505     Group1A       \n",
       "6 X506_Group1B_70dpi_RV_bottom_281_B_C7_P141.mzXML 506     Group1B       \n",
       "  status DPI   organ     well_position plate X137.046_0.35 X269.088_0.35 ...\n",
       "1 naive  50DPI RV_bottom A1            P141  0.009591114   0.002476510   ...\n",
       "2 naive  50DPI RV_bottom A2            P141  0.023717609   0.001750585   ...\n",
       "3 naive  50DPI RV_bottom A3            P141  0.012603445   0.003763609   ...\n",
       "4 naive  50DPI RV_bottom A4            P141  0.019752587   0.005932360   ...\n",
       "5 naive  50DPI RV_bottom A5            P141  0.012273222   0.003623830   ...\n",
       "6 naive  70DPI RV_bottom C7            P141  0.013219341   0.002788558   ...\n",
       "  X269.089_0.42 X527.851_2.856 X467.802_2.661 X169.472_2.754 X190.983_2.978\n",
       "1 0             0              0              0              0             \n",
       "2 0             0              0              0              0             \n",
       "3 0             0              0              0              0             \n",
       "4 0             0              0              0              0             \n",
       "5 0             0              0              0              0             \n",
       "6 0             0              0              0              0             \n",
       "  X269.913_2.601 X269.913_2.654 X217.425_2.737 X227.936_2.695 X104.031_5.837\n",
       "1 0              0              0              0              0             \n",
       "2 0              0              0              0              0             \n",
       "3 0              0              0              0              0             \n",
       "4 0              0              0              0              0             \n",
       "5 0              0              0              0              0             \n",
       "6 0              0              0              0              0             "
      ]
     },
     "metadata": {},
     "output_type": "display_data"
    },
    {
     "data": {
      "text/html": [
       "<ol class=list-inline>\n",
       "\t<li>90</li>\n",
       "\t<li>6720</li>\n",
       "</ol>\n"
      ],
      "text/latex": [
       "\\begin{enumerate*}\n",
       "\\item 90\n",
       "\\item 6720\n",
       "\\end{enumerate*}\n"
      ],
      "text/markdown": [
       "1. 90\n",
       "2. 6720\n",
       "\n",
       "\n"
      ],
      "text/plain": [
       "[1]   90 6720"
      ]
     },
     "metadata": {},
     "output_type": "display_data"
    }
   ],
   "source": [
    "noMeta<-features_pos[,9:6720]\n",
    "features_wMeta<-cbind(features_pos[,1:8], noMeta)\n",
    "head(noMeta)\n",
    "dim(noMeta)\n",
    "\n",
    "head(features_wMeta)\n",
    "dim(features_wMeta)"
   ]
  },
  {
   "cell_type": "code",
   "execution_count": 3,
   "metadata": {},
   "outputs": [
    {
     "data": {
      "text/html": [
       "<table>\n",
       "<thead><tr><th></th><th scope=col>X137.046_0.35</th><th scope=col>X269.088_0.35</th><th scope=col>X169.036_0.375</th><th scope=col>X338.342_3.533</th><th scope=col>X387.181_2.767</th><th scope=col>X311.081_2.525</th><th scope=col>X228.196_2.71</th><th scope=col>X404.207_2.768</th><th scope=col>X496.341_2.926</th><th scope=col>X310.31_3.391</th><th scope=col>...</th><th scope=col>X269.089_0.42</th><th scope=col>X527.851_2.856</th><th scope=col>X467.802_2.661</th><th scope=col>X169.472_2.754</th><th scope=col>X190.983_2.978</th><th scope=col>X269.913_2.601</th><th scope=col>X269.913_2.654</th><th scope=col>X217.425_2.737</th><th scope=col>X227.936_2.695</th><th scope=col>X104.031_5.837</th></tr></thead>\n",
       "<tbody>\n",
       "\t<tr><th scope=row>Group1A</th><td>0.016080961 </td><td>0.004152290 </td><td>0.0000000000</td><td>0.027589983 </td><td>0.07693695  </td><td>0.03934542  </td><td>0.03994242  </td><td>0.03086002  </td><td>0.035778652 </td><td>0.02414286  </td><td>...         </td><td>0.000000e+00</td><td>0           </td><td>0           </td><td>0           </td><td>0           </td><td>0           </td><td>0           </td><td>0           </td><td>0           </td><td>0           </td></tr>\n",
       "\t<tr><th scope=row>Group1B</th><td>0.012053895 </td><td>0.002871235 </td><td>0.0000000000</td><td>0.008046687 </td><td>0.11972360  </td><td>0.04042499  </td><td>0.04006926  </td><td>0.04656578  </td><td>0.021187247 </td><td>0.01507817  </td><td>...         </td><td>0.000000e+00</td><td>0           </td><td>0           </td><td>0           </td><td>0           </td><td>0           </td><td>0           </td><td>0           </td><td>0           </td><td>0           </td></tr>\n",
       "\t<tr><th scope=row>Group1C</th><td>0.015677307 </td><td>0.002969166 </td><td>0.0000000000</td><td>0.000000000 </td><td>0.07279490  </td><td>0.04873661  </td><td>0.04528671  </td><td>0.03000890  </td><td>0.010521977 </td><td>0.01360399  </td><td>...         </td><td>0.000000e+00</td><td>0           </td><td>0           </td><td>0           </td><td>0           </td><td>0           </td><td>0           </td><td>0           </td><td>0           </td><td>0           </td></tr>\n",
       "\t<tr><th scope=row>Group3A</th><td>0.006649483 </td><td>0.002080899 </td><td>0.0000107150</td><td>0.019147652 </td><td>0.10290355  </td><td>0.03529465  </td><td>0.03739448  </td><td>0.03958982  </td><td>0.043320429 </td><td>0.02245926  </td><td>...         </td><td>3.703213e-05</td><td>0           </td><td>0           </td><td>0           </td><td>0           </td><td>0           </td><td>0           </td><td>0           </td><td>0           </td><td>0           </td></tr>\n",
       "\t<tr><th scope=row>Group3B</th><td>0.008485918 </td><td>0.001833037 </td><td>0.0002034858</td><td>0.017324848 </td><td>0.09564990  </td><td>0.03664059  </td><td>0.04307200  </td><td>0.03729406  </td><td>0.043124464 </td><td>0.02912760  </td><td>...         </td><td>5.724898e-04</td><td>0           </td><td>0           </td><td>0           </td><td>0           </td><td>0           </td><td>0           </td><td>0           </td><td>0           </td><td>0           </td></tr>\n",
       "\t<tr><th scope=row>Group3E</th><td>0.006602702 </td><td>0.001228200 </td><td>0.0000000000</td><td>0.022948470 </td><td>0.13512693  </td><td>0.04037518  </td><td>0.03692308  </td><td>0.05308435  </td><td>0.007851483 </td><td>0.01120779  </td><td>...         </td><td>1.423623e-04</td><td>0           </td><td>0           </td><td>0           </td><td>0           </td><td>0           </td><td>0           </td><td>0           </td><td>0           </td><td>0           </td></tr>\n",
       "</tbody>\n",
       "</table>\n"
      ],
      "text/latex": [
       "\\begin{tabular}{r|llllllllllllllllllllllllllllllllllllllllllllllllllllllllllllllllllllllllllllllllllllllllllllllllllllllllllllllllllllllllllllllllllllllllllllllllllllllllllllllllllllllllllllllllllllllllllllllllllllllllllllllllllllllllllllllllllllllllllllllllllllllllllllllllllllllllllllllllllllllllllllllllllllllllllllllllllllllllllllllllllllllllllllllllllllllllllllllllllllllllllllllllllllllllllllllllllllllllllllllllllllllllllllllllllllllllllllllllllllllllllllllllllllllllllllllllllllllllllllllllllllllllllllllllllllllllllllllllllllllllllllllllllllllllllllllllllllllllllllllllllllllllllllllllllllllllllllllllllllllllllllllllllllllllllllllllllllllllllllllllllllllllllllllllllllllllllllllllllllllllllllllllllllllllllllllllllllllllllllllllllllllllllllllllllllllllllllllllllllllllllllllllllllllllllllllllllllllllllllllllllllllllllllllllllllllllllllllllllllllllllllllllllllllllllllllllllllllllllllllllllllllllllllllllllllllllllllllllllllllllllllllllllllllllllllllllllllllllllllllllllllllllllllllllllllllllllllllllllllllllllllllllllllllllllllllllllllllllllllllllllllllllllllllllllllllllllllllllllllllllllllllllllllllllllllllllllllllllllllllllllllllllllllllllllllllllllllllllllllllllllllllllllllllllllllllllllllllllllllllllllllllllllllllllllllllllllllllllllllllllllllllllllllllllllllllllllllllllllllllllllllllllllllllllllllllllllllllllllllllllllllllllllllllllllllllllllllllllllllllllllllllllllllllllllllllllllllllllllllllllllllllllllllllllllllllllllllllllllllllllllllllllllllllllllllllllllllllllllllllllllllllllllllllllllllllllllllllllllllllllllllllllllllllllllllllllllllllllllllllllllllllllllllllllllllllllllllllllllllllllllllllllllllllllllllllllllllllllllllllllllllllllllllllllllllllllllllllllllllllllllllllllllllllllllllllllllllllllllllllllllllllllllllllllllllllllllllllllllllllllllllllllllllllllllllllllllllllllllllllllllllllllllllllllllllllllllllllllllllllllllllllllllllllllllllllllllllllllllllllllllllllllllllllllllllllllllllllllllllllllllllllllllllllllllllllllllllllllllllllllllllllllllllllllllllllllllllllllllllllllllllllllllllllllllllllllllllllllllllllllllllllllllllllllllllllllllllllllllllllllllllllllllllllllllllllllllllllllllllllllllllllllllllllllllllllllllllllllllllllllllllllllllllllllllllllllllllllllllllllllllllllllllllllllllllllllllllllllllllllllllllllllllllllllllllllllllllllllllllllllllllllllllllllllllllllllllllllllllllllllllllllllllllllllllllllllllllllllllllllllllllllllllllllllllllllllllllllllllllllllllllllllllllllllllllllllllllllllllllllllllllllllllllllllllllllllllllllllllllllllllllllllllllllllllllllllllllllllllllllllllllllllllllllllllllllllllllllllllllllllllllllllllllllllllllllllllllllllllllllllllllllllllllllllllllllllllllllllllllllllllllllllllllllllllllllllllllllllllllllllllllllllllllllllllllllllllllllllllllllllllllllllllllllllllllllllllllllllllllllllllllllllllllllllllllllllllllllllllllllllllllllllllllllllllllllllllllllllllllllllllllllllllllllllllllllllllllllllllllllllllllllllllllllllllllllllllllllllllllllllllllllllllllllllllllllllllllllllllllllllllllllllllllllllllllllllllllllllllllllllllllllllllllllllllllllllllllllllllllllllllllllllllllllllllllllllllllllllllllllllllllllllllllllllllllllllllllllllllllllllllllllllllllllllllllllllllllllllllllllllllllllllllllllllllllllllllllllllllllllllllllllllllllllllllllllllllllllllllllllllllllllllllllllllllllllllllllllllllllllllllllllllllllllllllllllllllllllllllllllllllllllllllllllllllllllllllllllllllllllllllllllllllllllllllllllllllllllllllllllllllllllllllllllllllllllllllllllllllllllllllllllllllllllllllllllllllllllllllllllllllllllllllllllllllllllllllllllllllllllllllllllllllllllllllllllllllllllllllllllllllllllllllllllllllllllllllllllllllllllllllllllllllllllllllllllllllllllllllllllllllllllllllllllllllllllllllllllllllllllllllllllllllllllllllllllllllllllllllllllllllllllllllllllllllllllllllllllllllllllllllllllllllllllllllllllllllllllllllllllllllllllllllllllllllllllllllllllllllllllllllllllllllllllllllllllllllllllllllllllllllllllllllllllllllllllllllllllllllllllllllllllllllllllllllllllllllllllllllllllllllllllllllllllllllllllllllllllllllllllllllllllllllllllllllllllllllllllllllllllllllllllllllllllllllllllllllllllllllllllllllllllllllllllllllllllllllllllllllllllllllllllllllllllllllllllllllllllllllllllllllllllllllllllllllllllllllllllllllllllllllllllllllllllllllllllllllllllllllllllllllllllllllllllllllllllllllllllllllllllllllllllllllllllllllllllllllllllllllllllllllllllllllllllllllllllllllllllllllllllllllllllllllllllllllllllllllllllllllllllllllllllllllllllllllllllllllllllllllllllllllllllllllllllllllllllllllllllllllllllllllllllllllllllllllllllllllllllllllllllllllllllllllllllllllllllllllllllllllllllllllllllllllllllllllllllllllllllllllllllllllllllllllllllllllllllllllllllllllllllllllllllllllllllllllllllllllllllllllllllllllllllllllllllllllllllllllllllllllllllllllllllllllllllllllllllllllllllllllllllllllllllllllllllllllllllllllllllllllllllllllllllllllllllllllllllllllllllllllllllllllllllllllllllllllllllllllllllllllllllllllllllllllllllllllllllllllllllllllllllllllllllllllllllllllllllllllllllllllllllllllllllllllllllllllllllllllllllllllllllllllllllllllllllllllllllllllllllllllllllllllllllllllllllllllllllllllllllllllllllllllllllllllllllllllllllllllllllllllllllllllllllllllllllllllllllllllllllllllllllllllllllllllllllllllllllllllllllllllllllllllllllllllllllllllllllllllllllllllllllllllllllllllllllllllllllllllllllllllllllllllllllllllllllllllllllllllllllllllllllllllllllllllllllllllllllllllllllllllllllllllllllllllllllllllllllllllllllllllllllllllllllllllllllllllllllllllllllllllllllllllllllllllllllllllllllllllllllllllllllllllllllllllllllllllllllllllllllllllllllllllllllllllllllllllllllllllllllllllllllllllllllllllllllllllllllllllllllllllllllllllllllllllllllllllllllllllllllllllllllllllllllllllllllllllllllllllllllllllllllllllllllllllllllllllllllllllllllllllllllllllllllllllllllllllllllllllllllllllllllllllllllllllllllllllllllllllllllllllllllllllllllllllllllllllllllllllllllllllllllllllllllllllllllllllllllllllllllllllllllllllllllllllllllllllllllllllllllllllllllllllllllllllllllllllllllllllllllllllllllllllllllllllllllllllllllllllllllllllllllllllllllllllllllllllllllllllllllllllllllllllllllllllllllllllllllllllllllllllllllllllllllllllllllllllllllllllllllllllllllllllllllllllllllllllllllllllllllllllllllllllllllllllllllllllllllllllllllllllllllllllllllllllllllllllllllllllllllllllllllllllllllllllllllllllllllllllllllllllllllllllllllllllllllllllllllllllllllllllllllllllllllllllllllllllllllllllllllllllllllllllllllllllllllllllllllllllllllllllllllllllllllllllllllllllllllllllllllllllllllllllllllllllllllllllllllllllllllllllllllllllllllllllllllllllllllllllllllllllllllllllllllllllllllllllllllllllllllllllllllllllllllllllllllllllllllllllllllllllllllllllllllllllllllllllllllllllllllllllllllllllllllllllllllllllllllllllllllllllllllllllllllllllllllllllllllllllllllll}\n",
       "  & X137.046\\_0.35 & X269.088\\_0.35 & X169.036\\_0.375 & X338.342\\_3.533 & X387.181\\_2.767 & X311.081\\_2.525 & X228.196\\_2.71 & X404.207\\_2.768 & X496.341\\_2.926 & X310.31\\_3.391 & ... & X269.089\\_0.42 & X527.851\\_2.856 & X467.802\\_2.661 & X169.472\\_2.754 & X190.983\\_2.978 & X269.913\\_2.601 & X269.913\\_2.654 & X217.425\\_2.737 & X227.936\\_2.695 & X104.031\\_5.837\\\\\n",
       "\\hline\n",
       "\tGroup1A & 0.016080961  & 0.004152290  & 0.0000000000 & 0.027589983  & 0.07693695   & 0.03934542   & 0.03994242   & 0.03086002   & 0.035778652  & 0.02414286   & ...          & 0.000000e+00 & 0            & 0            & 0            & 0            & 0            & 0            & 0            & 0            & 0           \\\\\n",
       "\tGroup1B & 0.012053895  & 0.002871235  & 0.0000000000 & 0.008046687  & 0.11972360   & 0.04042499   & 0.04006926   & 0.04656578   & 0.021187247  & 0.01507817   & ...          & 0.000000e+00 & 0            & 0            & 0            & 0            & 0            & 0            & 0            & 0            & 0           \\\\\n",
       "\tGroup1C & 0.015677307  & 0.002969166  & 0.0000000000 & 0.000000000  & 0.07279490   & 0.04873661   & 0.04528671   & 0.03000890   & 0.010521977  & 0.01360399   & ...          & 0.000000e+00 & 0            & 0            & 0            & 0            & 0            & 0            & 0            & 0            & 0           \\\\\n",
       "\tGroup3A & 0.006649483  & 0.002080899  & 0.0000107150 & 0.019147652  & 0.10290355   & 0.03529465   & 0.03739448   & 0.03958982   & 0.043320429  & 0.02245926   & ...          & 3.703213e-05 & 0            & 0            & 0            & 0            & 0            & 0            & 0            & 0            & 0           \\\\\n",
       "\tGroup3B & 0.008485918  & 0.001833037  & 0.0002034858 & 0.017324848  & 0.09564990   & 0.03664059   & 0.04307200   & 0.03729406   & 0.043124464  & 0.02912760   & ...          & 5.724898e-04 & 0            & 0            & 0            & 0            & 0            & 0            & 0            & 0            & 0           \\\\\n",
       "\tGroup3E & 0.006602702  & 0.001228200  & 0.0000000000 & 0.022948470  & 0.13512693   & 0.04037518   & 0.03692308   & 0.05308435   & 0.007851483  & 0.01120779   & ...          & 1.423623e-04 & 0            & 0            & 0            & 0            & 0            & 0            & 0            & 0            & 0           \\\\\n",
       "\\end{tabular}\n"
      ],
      "text/markdown": [
       "\n",
       "| <!--/--> | X137.046_0.35 | X269.088_0.35 | X169.036_0.375 | X338.342_3.533 | X387.181_2.767 | X311.081_2.525 | X228.196_2.71 | X404.207_2.768 | X496.341_2.926 | X310.31_3.391 | ... | X269.089_0.42 | X527.851_2.856 | X467.802_2.661 | X169.472_2.754 | X190.983_2.978 | X269.913_2.601 | X269.913_2.654 | X217.425_2.737 | X227.936_2.695 | X104.031_5.837 |\n",
       "|---|---|---|---|---|---|---|---|---|---|---|---|---|---|---|---|---|---|---|---|---|---|\n",
       "| Group1A | 0.016080961  | 0.004152290  | 0.0000000000 | 0.027589983  | 0.07693695   | 0.03934542   | 0.03994242   | 0.03086002   | 0.035778652  | 0.02414286   | ...          | 0.000000e+00 | 0            | 0            | 0            | 0            | 0            | 0            | 0            | 0            | 0            |\n",
       "| Group1B | 0.012053895  | 0.002871235  | 0.0000000000 | 0.008046687  | 0.11972360   | 0.04042499   | 0.04006926   | 0.04656578   | 0.021187247  | 0.01507817   | ...          | 0.000000e+00 | 0            | 0            | 0            | 0            | 0            | 0            | 0            | 0            | 0            |\n",
       "| Group1C | 0.015677307  | 0.002969166  | 0.0000000000 | 0.000000000  | 0.07279490   | 0.04873661   | 0.04528671   | 0.03000890   | 0.010521977  | 0.01360399   | ...          | 0.000000e+00 | 0            | 0            | 0            | 0            | 0            | 0            | 0            | 0            | 0            |\n",
       "| Group3A | 0.006649483  | 0.002080899  | 0.0000107150 | 0.019147652  | 0.10290355   | 0.03529465   | 0.03739448   | 0.03958982   | 0.043320429  | 0.02245926   | ...          | 3.703213e-05 | 0            | 0            | 0            | 0            | 0            | 0            | 0            | 0            | 0            |\n",
       "| Group3B | 0.008485918  | 0.001833037  | 0.0002034858 | 0.017324848  | 0.09564990   | 0.03664059   | 0.04307200   | 0.03729406   | 0.043124464  | 0.02912760   | ...          | 5.724898e-04 | 0            | 0            | 0            | 0            | 0            | 0            | 0            | 0            | 0            |\n",
       "| Group3E | 0.006602702  | 0.001228200  | 0.0000000000 | 0.022948470  | 0.13512693   | 0.04037518   | 0.03692308   | 0.05308435   | 0.007851483  | 0.01120779   | ...          | 1.423623e-04 | 0            | 0            | 0            | 0            | 0            | 0            | 0            | 0            | 0            |\n",
       "\n"
      ],
      "text/plain": [
       "        X137.046_0.35 X269.088_0.35 X169.036_0.375 X338.342_3.533\n",
       "Group1A 0.016080961   0.004152290   0.0000000000   0.027589983   \n",
       "Group1B 0.012053895   0.002871235   0.0000000000   0.008046687   \n",
       "Group1C 0.015677307   0.002969166   0.0000000000   0.000000000   \n",
       "Group3A 0.006649483   0.002080899   0.0000107150   0.019147652   \n",
       "Group3B 0.008485918   0.001833037   0.0002034858   0.017324848   \n",
       "Group3E 0.006602702   0.001228200   0.0000000000   0.022948470   \n",
       "        X387.181_2.767 X311.081_2.525 X228.196_2.71 X404.207_2.768\n",
       "Group1A 0.07693695     0.03934542     0.03994242    0.03086002    \n",
       "Group1B 0.11972360     0.04042499     0.04006926    0.04656578    \n",
       "Group1C 0.07279490     0.04873661     0.04528671    0.03000890    \n",
       "Group3A 0.10290355     0.03529465     0.03739448    0.03958982    \n",
       "Group3B 0.09564990     0.03664059     0.04307200    0.03729406    \n",
       "Group3E 0.13512693     0.04037518     0.03692308    0.05308435    \n",
       "        X496.341_2.926 X310.31_3.391 ... X269.089_0.42 X527.851_2.856\n",
       "Group1A 0.035778652    0.02414286    ... 0.000000e+00  0             \n",
       "Group1B 0.021187247    0.01507817    ... 0.000000e+00  0             \n",
       "Group1C 0.010521977    0.01360399    ... 0.000000e+00  0             \n",
       "Group3A 0.043320429    0.02245926    ... 3.703213e-05  0             \n",
       "Group3B 0.043124464    0.02912760    ... 5.724898e-04  0             \n",
       "Group3E 0.007851483    0.01120779    ... 1.423623e-04  0             \n",
       "        X467.802_2.661 X169.472_2.754 X190.983_2.978 X269.913_2.601\n",
       "Group1A 0              0              0              0             \n",
       "Group1B 0              0              0              0             \n",
       "Group1C 0              0              0              0             \n",
       "Group3A 0              0              0              0             \n",
       "Group3B 0              0              0              0             \n",
       "Group3E 0              0              0              0             \n",
       "        X269.913_2.654 X217.425_2.737 X227.936_2.695 X104.031_5.837\n",
       "Group1A 0              0              0              0             \n",
       "Group1B 0              0              0              0             \n",
       "Group1C 0              0              0              0             \n",
       "Group3A 0              0              0              0             \n",
       "Group3B 0              0              0              0             \n",
       "Group3E 0              0              0              0             "
      ]
     },
     "metadata": {},
     "output_type": "display_data"
    }
   ],
   "source": [
    "avg<- apply(features_wMeta[,9:ncol(features_wMeta)], 2, function(x) tapply(x, features_wMeta$Treatmentgroup, function(x) mean(x)))\n",
    "avg"
   ]
  },
  {
   "cell_type": "code",
   "execution_count": 4,
   "metadata": {},
   "outputs": [],
   "source": [
    "naive_50DPI_mean <- avg[1,]\n",
    "naive_75DPI_mean <- avg[2,]\n",
    "naive_142DPI_mean <- avg[3,]\n",
    "\n",
    "infected_50DPI_mean <- avg[4,]\n",
    "infected_75DPI_mean <- avg[5,]\n",
    "infected_142DPI_mean <- avg[6,]\n"
   ]
  },
  {
   "cell_type": "code",
   "execution_count": 5,
   "metadata": {
    "scrolled": false
   },
   "outputs": [],
   "source": [
    "df <- data.frame(naive_50DPI_mean, naive_75DPI_mean, naive_142DPI_mean, infected_50DPI_mean, infected_75DPI_mean, infected_142DPI_mean)\n",
    "write.csv(df, \"RVB-mean-3ABE-1ABC.csv\")"
   ]
  },
  {
   "cell_type": "code",
   "execution_count": null,
   "metadata": {},
   "outputs": [],
   "source": []
  },
  {
   "cell_type": "code",
   "execution_count": null,
   "metadata": {},
   "outputs": [],
   "source": []
  },
  {
   "cell_type": "code",
   "execution_count": null,
   "metadata": {},
   "outputs": [],
   "source": []
  },
  {
   "cell_type": "code",
   "execution_count": null,
   "metadata": {},
   "outputs": [],
   "source": []
  },
  {
   "cell_type": "code",
   "execution_count": null,
   "metadata": {},
   "outputs": [],
   "source": []
  },
  {
   "cell_type": "code",
   "execution_count": null,
   "metadata": {},
   "outputs": [],
   "source": []
  },
  {
   "cell_type": "code",
   "execution_count": null,
   "metadata": {},
   "outputs": [],
   "source": []
  },
  {
   "cell_type": "code",
   "execution_count": null,
   "metadata": {},
   "outputs": [],
   "source": []
  },
  {
   "cell_type": "code",
   "execution_count": null,
   "metadata": {},
   "outputs": [],
   "source": []
  },
  {
   "cell_type": "code",
   "execution_count": null,
   "metadata": {},
   "outputs": [],
   "source": []
  }
 ],
 "metadata": {
  "kernelspec": {
   "display_name": "R",
   "language": "R",
   "name": "ir"
  },
  "language_info": {
   "codemirror_mode": "r",
   "file_extension": ".r",
   "mimetype": "text/x-r-source",
   "name": "R",
   "pygments_lexer": "r",
   "version": "3.6.1"
  }
 },
 "nbformat": 4,
 "nbformat_minor": 2
}
