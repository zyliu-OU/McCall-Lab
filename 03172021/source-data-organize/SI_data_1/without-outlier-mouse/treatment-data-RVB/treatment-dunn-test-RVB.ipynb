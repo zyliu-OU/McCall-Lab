{
 "cells": [
  {
   "cell_type": "code",
   "execution_count": 1,
   "metadata": {},
   "outputs": [
    {
     "name": "stderr",
     "output_type": "stream",
     "text": [
      "## FSA v0.9.4. See citation('FSA') if used in publication.\n",
      "## Run fishR() for related website and fishR('IFAR') for related book.\n"
     ]
    }
   ],
   "source": [
    "library(\"FSA\")\n",
    "library(ggplot2)"
   ]
  },
  {
   "cell_type": "code",
   "execution_count": 2,
   "metadata": {},
   "outputs": [
    {
     "data": {
      "text/html": [
       "<table>\n",
       "<thead><tr><th scope=col>SubjectID1</th><th scope=col>SubjectID2</th><th scope=col>Group1</th><th scope=col>Group2</th><th scope=col>group_name</th><th scope=col>Distance</th></tr></thead>\n",
       "<tbody>\n",
       "\t<tr><td>X512_Group1C_142dpi_RV_bottom_162_G_A2_P140.mzXML</td><td>X511_Group1C_142dpi_RV_bottom_161_G_A1_P140.mzXML</td><td>Group1C                                          </td><td>Group1C                                          </td><td>Group1C_Group1C                                  </td><td>0.3436222                                        </td></tr>\n",
       "\t<tr><td>X513_Group1C_142dpi_RV_bottom_163_G_A3_P140.mzXML</td><td>X511_Group1C_142dpi_RV_bottom_161_G_A1_P140.mzXML</td><td>Group1C                                          </td><td>Group1C                                          </td><td>Group1C_Group1C                                  </td><td>0.4334088                                        </td></tr>\n",
       "\t<tr><td>X513_Group1C_142dpi_RV_bottom_163_G_A3_P140.mzXML</td><td>X512_Group1C_142dpi_RV_bottom_162_G_A2_P140.mzXML</td><td>Group1C                                          </td><td>Group1C                                          </td><td>Group1C_Group1C                                  </td><td>0.3879153                                        </td></tr>\n",
       "\t<tr><td>X514_Group1C_142dpi_RV_bottom_164_G_A4_P140.mzXML</td><td>X511_Group1C_142dpi_RV_bottom_161_G_A1_P140.mzXML</td><td>Group1C                                          </td><td>Group1C                                          </td><td>Group1C_Group1C                                  </td><td>0.3283475                                        </td></tr>\n",
       "\t<tr><td>X514_Group1C_142dpi_RV_bottom_164_G_A4_P140.mzXML</td><td>X512_Group1C_142dpi_RV_bottom_162_G_A2_P140.mzXML</td><td>Group1C                                          </td><td>Group1C                                          </td><td>Group1C_Group1C                                  </td><td>0.3139707                                        </td></tr>\n",
       "\t<tr><td>X514_Group1C_142dpi_RV_bottom_164_G_A4_P140.mzXML</td><td>X513_Group1C_142dpi_RV_bottom_163_G_A3_P140.mzXML</td><td>Group1C                                          </td><td>Group1C                                          </td><td>Group1C_Group1C                                  </td><td>0.3414187                                        </td></tr>\n",
       "</tbody>\n",
       "</table>\n"
      ],
      "text/latex": [
       "\\begin{tabular}{r|llllll}\n",
       " SubjectID1 & SubjectID2 & Group1 & Group2 & group\\_name & Distance\\\\\n",
       "\\hline\n",
       "\t X512\\_Group1C\\_142dpi\\_RV\\_bottom\\_162\\_G\\_A2\\_P140.mzXML & X511\\_Group1C\\_142dpi\\_RV\\_bottom\\_161\\_G\\_A1\\_P140.mzXML & Group1C                                                           & Group1C                                                           & Group1C\\_Group1C                                                 & 0.3436222                                                        \\\\\n",
       "\t X513\\_Group1C\\_142dpi\\_RV\\_bottom\\_163\\_G\\_A3\\_P140.mzXML & X511\\_Group1C\\_142dpi\\_RV\\_bottom\\_161\\_G\\_A1\\_P140.mzXML & Group1C                                                           & Group1C                                                           & Group1C\\_Group1C                                                 & 0.4334088                                                        \\\\\n",
       "\t X513\\_Group1C\\_142dpi\\_RV\\_bottom\\_163\\_G\\_A3\\_P140.mzXML & X512\\_Group1C\\_142dpi\\_RV\\_bottom\\_162\\_G\\_A2\\_P140.mzXML & Group1C                                                           & Group1C                                                           & Group1C\\_Group1C                                                 & 0.3879153                                                        \\\\\n",
       "\t X514\\_Group1C\\_142dpi\\_RV\\_bottom\\_164\\_G\\_A4\\_P140.mzXML & X511\\_Group1C\\_142dpi\\_RV\\_bottom\\_161\\_G\\_A1\\_P140.mzXML & Group1C                                                           & Group1C                                                           & Group1C\\_Group1C                                                 & 0.3283475                                                        \\\\\n",
       "\t X514\\_Group1C\\_142dpi\\_RV\\_bottom\\_164\\_G\\_A4\\_P140.mzXML & X512\\_Group1C\\_142dpi\\_RV\\_bottom\\_162\\_G\\_A2\\_P140.mzXML & Group1C                                                           & Group1C                                                           & Group1C\\_Group1C                                                 & 0.3139707                                                        \\\\\n",
       "\t X514\\_Group1C\\_142dpi\\_RV\\_bottom\\_164\\_G\\_A4\\_P140.mzXML & X513\\_Group1C\\_142dpi\\_RV\\_bottom\\_163\\_G\\_A3\\_P140.mzXML & Group1C                                                           & Group1C                                                           & Group1C\\_Group1C                                                 & 0.3414187                                                        \\\\\n",
       "\\end{tabular}\n"
      ],
      "text/markdown": [
       "\n",
       "| SubjectID1 | SubjectID2 | Group1 | Group2 | group_name | Distance |\n",
       "|---|---|---|---|---|---|\n",
       "| X512_Group1C_142dpi_RV_bottom_162_G_A2_P140.mzXML | X511_Group1C_142dpi_RV_bottom_161_G_A1_P140.mzXML | Group1C                                           | Group1C                                           | Group1C_Group1C                                   | 0.3436222                                         |\n",
       "| X513_Group1C_142dpi_RV_bottom_163_G_A3_P140.mzXML | X511_Group1C_142dpi_RV_bottom_161_G_A1_P140.mzXML | Group1C                                           | Group1C                                           | Group1C_Group1C                                   | 0.4334088                                         |\n",
       "| X513_Group1C_142dpi_RV_bottom_163_G_A3_P140.mzXML | X512_Group1C_142dpi_RV_bottom_162_G_A2_P140.mzXML | Group1C                                           | Group1C                                           | Group1C_Group1C                                   | 0.3879153                                         |\n",
       "| X514_Group1C_142dpi_RV_bottom_164_G_A4_P140.mzXML | X511_Group1C_142dpi_RV_bottom_161_G_A1_P140.mzXML | Group1C                                           | Group1C                                           | Group1C_Group1C                                   | 0.3283475                                         |\n",
       "| X514_Group1C_142dpi_RV_bottom_164_G_A4_P140.mzXML | X512_Group1C_142dpi_RV_bottom_162_G_A2_P140.mzXML | Group1C                                           | Group1C                                           | Group1C_Group1C                                   | 0.3139707                                         |\n",
       "| X514_Group1C_142dpi_RV_bottom_164_G_A4_P140.mzXML | X513_Group1C_142dpi_RV_bottom_163_G_A3_P140.mzXML | Group1C                                           | Group1C                                           | Group1C_Group1C                                   | 0.3414187                                         |\n",
       "\n"
      ],
      "text/plain": [
       "  SubjectID1                                       \n",
       "1 X512_Group1C_142dpi_RV_bottom_162_G_A2_P140.mzXML\n",
       "2 X513_Group1C_142dpi_RV_bottom_163_G_A3_P140.mzXML\n",
       "3 X513_Group1C_142dpi_RV_bottom_163_G_A3_P140.mzXML\n",
       "4 X514_Group1C_142dpi_RV_bottom_164_G_A4_P140.mzXML\n",
       "5 X514_Group1C_142dpi_RV_bottom_164_G_A4_P140.mzXML\n",
       "6 X514_Group1C_142dpi_RV_bottom_164_G_A4_P140.mzXML\n",
       "  SubjectID2                                        Group1  Group2 \n",
       "1 X511_Group1C_142dpi_RV_bottom_161_G_A1_P140.mzXML Group1C Group1C\n",
       "2 X511_Group1C_142dpi_RV_bottom_161_G_A1_P140.mzXML Group1C Group1C\n",
       "3 X512_Group1C_142dpi_RV_bottom_162_G_A2_P140.mzXML Group1C Group1C\n",
       "4 X511_Group1C_142dpi_RV_bottom_161_G_A1_P140.mzXML Group1C Group1C\n",
       "5 X512_Group1C_142dpi_RV_bottom_162_G_A2_P140.mzXML Group1C Group1C\n",
       "6 X513_Group1C_142dpi_RV_bottom_163_G_A3_P140.mzXML Group1C Group1C\n",
       "  group_name      Distance \n",
       "1 Group1C_Group1C 0.3436222\n",
       "2 Group1C_Group1C 0.4334088\n",
       "3 Group1C_Group1C 0.3879153\n",
       "4 Group1C_Group1C 0.3283475\n",
       "5 Group1C_Group1C 0.3139707\n",
       "6 Group1C_Group1C 0.3414187"
      ]
     },
     "metadata": {},
     "output_type": "display_data"
    },
    {
     "data": {
      "text/html": [
       "<ol class=list-inline>\n",
       "\t<li>3016</li>\n",
       "\t<li>6</li>\n",
       "</ol>\n"
      ],
      "text/latex": [
       "\\begin{enumerate*}\n",
       "\\item 3016\n",
       "\\item 6\n",
       "\\end{enumerate*}\n"
      ],
      "text/markdown": [
       "1. 3016\n",
       "2. 6\n",
       "\n",
       "\n"
      ],
      "text/plain": [
       "[1] 3016    6"
      ]
     },
     "metadata": {},
     "output_type": "display_data"
    },
    {
     "data": {
      "text/plain": [
       "\n",
       "Group15_Group15 Group15_Group1C Group15_Group3E  Group15_Group9 Group1C_Group15 \n",
       "             91             210             210             210             210 \n",
       "Group1C_Group1C Group1C_Group3E  Group1C_Group9 Group3E_Group15 Group3E_Group1C \n",
       "            105             225             225             210             225 \n",
       "Group3E_Group3E  Group3E_Group9  Group9_Group15  Group9_Group1C  Group9_Group3E \n",
       "            105             225             210             225             225 \n",
       "  Group9_Group9 \n",
       "            105 "
      ]
     },
     "metadata": {},
     "output_type": "display_data"
    }
   ],
   "source": [
    "# read data \n",
    "a <- read.csv(\"RVB-distance.csv\")\n",
    "head(a)\n",
    "dim(a)\n",
    "table(a$group_name)"
   ]
  },
  {
   "cell_type": "code",
   "execution_count": 3,
   "metadata": {},
   "outputs": [
    {
     "data": {
      "text/html": [
       "<table>\n",
       "<thead><tr><th scope=col>SubjectID1</th><th scope=col>SubjectID2</th><th scope=col>Group1</th><th scope=col>Group2</th><th scope=col>group_name</th><th scope=col>Distance</th></tr></thead>\n",
       "<tbody>\n",
       "\t<tr><td>X512_Group1C_142dpi_RV_bottom_162_G_A2_P140.mzXML</td><td>X511_Group1C_142dpi_RV_bottom_161_G_A1_P140.mzXML</td><td>Group1C                                          </td><td>Group1C                                          </td><td>Group1C_Group1C                                  </td><td>0.3436222                                        </td></tr>\n",
       "\t<tr><td>X513_Group1C_142dpi_RV_bottom_163_G_A3_P140.mzXML</td><td>X511_Group1C_142dpi_RV_bottom_161_G_A1_P140.mzXML</td><td>Group1C                                          </td><td>Group1C                                          </td><td>Group1C_Group1C                                  </td><td>0.4334088                                        </td></tr>\n",
       "\t<tr><td>X513_Group1C_142dpi_RV_bottom_163_G_A3_P140.mzXML</td><td>X512_Group1C_142dpi_RV_bottom_162_G_A2_P140.mzXML</td><td>Group1C                                          </td><td>Group1C                                          </td><td>Group1C_Group1C                                  </td><td>0.3879153                                        </td></tr>\n",
       "\t<tr><td>X514_Group1C_142dpi_RV_bottom_164_G_A4_P140.mzXML</td><td>X511_Group1C_142dpi_RV_bottom_161_G_A1_P140.mzXML</td><td>Group1C                                          </td><td>Group1C                                          </td><td>Group1C_Group1C                                  </td><td>0.3283475                                        </td></tr>\n",
       "\t<tr><td>X514_Group1C_142dpi_RV_bottom_164_G_A4_P140.mzXML</td><td>X512_Group1C_142dpi_RV_bottom_162_G_A2_P140.mzXML</td><td>Group1C                                          </td><td>Group1C                                          </td><td>Group1C_Group1C                                  </td><td>0.3139707                                        </td></tr>\n",
       "\t<tr><td>X514_Group1C_142dpi_RV_bottom_164_G_A4_P140.mzXML</td><td>X513_Group1C_142dpi_RV_bottom_163_G_A3_P140.mzXML</td><td>Group1C                                          </td><td>Group1C                                          </td><td>Group1C_Group1C                                  </td><td>0.3414187                                        </td></tr>\n",
       "</tbody>\n",
       "</table>\n"
      ],
      "text/latex": [
       "\\begin{tabular}{r|llllll}\n",
       " SubjectID1 & SubjectID2 & Group1 & Group2 & group\\_name & Distance\\\\\n",
       "\\hline\n",
       "\t X512\\_Group1C\\_142dpi\\_RV\\_bottom\\_162\\_G\\_A2\\_P140.mzXML & X511\\_Group1C\\_142dpi\\_RV\\_bottom\\_161\\_G\\_A1\\_P140.mzXML & Group1C                                                           & Group1C                                                           & Group1C\\_Group1C                                                 & 0.3436222                                                        \\\\\n",
       "\t X513\\_Group1C\\_142dpi\\_RV\\_bottom\\_163\\_G\\_A3\\_P140.mzXML & X511\\_Group1C\\_142dpi\\_RV\\_bottom\\_161\\_G\\_A1\\_P140.mzXML & Group1C                                                           & Group1C                                                           & Group1C\\_Group1C                                                 & 0.4334088                                                        \\\\\n",
       "\t X513\\_Group1C\\_142dpi\\_RV\\_bottom\\_163\\_G\\_A3\\_P140.mzXML & X512\\_Group1C\\_142dpi\\_RV\\_bottom\\_162\\_G\\_A2\\_P140.mzXML & Group1C                                                           & Group1C                                                           & Group1C\\_Group1C                                                 & 0.3879153                                                        \\\\\n",
       "\t X514\\_Group1C\\_142dpi\\_RV\\_bottom\\_164\\_G\\_A4\\_P140.mzXML & X511\\_Group1C\\_142dpi\\_RV\\_bottom\\_161\\_G\\_A1\\_P140.mzXML & Group1C                                                           & Group1C                                                           & Group1C\\_Group1C                                                 & 0.3283475                                                        \\\\\n",
       "\t X514\\_Group1C\\_142dpi\\_RV\\_bottom\\_164\\_G\\_A4\\_P140.mzXML & X512\\_Group1C\\_142dpi\\_RV\\_bottom\\_162\\_G\\_A2\\_P140.mzXML & Group1C                                                           & Group1C                                                           & Group1C\\_Group1C                                                 & 0.3139707                                                        \\\\\n",
       "\t X514\\_Group1C\\_142dpi\\_RV\\_bottom\\_164\\_G\\_A4\\_P140.mzXML & X513\\_Group1C\\_142dpi\\_RV\\_bottom\\_163\\_G\\_A3\\_P140.mzXML & Group1C                                                           & Group1C                                                           & Group1C\\_Group1C                                                 & 0.3414187                                                        \\\\\n",
       "\\end{tabular}\n"
      ],
      "text/markdown": [
       "\n",
       "| SubjectID1 | SubjectID2 | Group1 | Group2 | group_name | Distance |\n",
       "|---|---|---|---|---|---|\n",
       "| X512_Group1C_142dpi_RV_bottom_162_G_A2_P140.mzXML | X511_Group1C_142dpi_RV_bottom_161_G_A1_P140.mzXML | Group1C                                           | Group1C                                           | Group1C_Group1C                                   | 0.3436222                                         |\n",
       "| X513_Group1C_142dpi_RV_bottom_163_G_A3_P140.mzXML | X511_Group1C_142dpi_RV_bottom_161_G_A1_P140.mzXML | Group1C                                           | Group1C                                           | Group1C_Group1C                                   | 0.4334088                                         |\n",
       "| X513_Group1C_142dpi_RV_bottom_163_G_A3_P140.mzXML | X512_Group1C_142dpi_RV_bottom_162_G_A2_P140.mzXML | Group1C                                           | Group1C                                           | Group1C_Group1C                                   | 0.3879153                                         |\n",
       "| X514_Group1C_142dpi_RV_bottom_164_G_A4_P140.mzXML | X511_Group1C_142dpi_RV_bottom_161_G_A1_P140.mzXML | Group1C                                           | Group1C                                           | Group1C_Group1C                                   | 0.3283475                                         |\n",
       "| X514_Group1C_142dpi_RV_bottom_164_G_A4_P140.mzXML | X512_Group1C_142dpi_RV_bottom_162_G_A2_P140.mzXML | Group1C                                           | Group1C                                           | Group1C_Group1C                                   | 0.3139707                                         |\n",
       "| X514_Group1C_142dpi_RV_bottom_164_G_A4_P140.mzXML | X513_Group1C_142dpi_RV_bottom_163_G_A3_P140.mzXML | Group1C                                           | Group1C                                           | Group1C_Group1C                                   | 0.3414187                                         |\n",
       "\n"
      ],
      "text/plain": [
       "  SubjectID1                                       \n",
       "1 X512_Group1C_142dpi_RV_bottom_162_G_A2_P140.mzXML\n",
       "2 X513_Group1C_142dpi_RV_bottom_163_G_A3_P140.mzXML\n",
       "3 X513_Group1C_142dpi_RV_bottom_163_G_A3_P140.mzXML\n",
       "4 X514_Group1C_142dpi_RV_bottom_164_G_A4_P140.mzXML\n",
       "5 X514_Group1C_142dpi_RV_bottom_164_G_A4_P140.mzXML\n",
       "6 X514_Group1C_142dpi_RV_bottom_164_G_A4_P140.mzXML\n",
       "  SubjectID2                                        Group1  Group2 \n",
       "1 X511_Group1C_142dpi_RV_bottom_161_G_A1_P140.mzXML Group1C Group1C\n",
       "2 X511_Group1C_142dpi_RV_bottom_161_G_A1_P140.mzXML Group1C Group1C\n",
       "3 X512_Group1C_142dpi_RV_bottom_162_G_A2_P140.mzXML Group1C Group1C\n",
       "4 X511_Group1C_142dpi_RV_bottom_161_G_A1_P140.mzXML Group1C Group1C\n",
       "5 X512_Group1C_142dpi_RV_bottom_162_G_A2_P140.mzXML Group1C Group1C\n",
       "6 X513_Group1C_142dpi_RV_bottom_163_G_A3_P140.mzXML Group1C Group1C\n",
       "  group_name      Distance \n",
       "1 Group1C_Group1C 0.3436222\n",
       "2 Group1C_Group1C 0.4334088\n",
       "3 Group1C_Group1C 0.3879153\n",
       "4 Group1C_Group1C 0.3283475\n",
       "5 Group1C_Group1C 0.3139707\n",
       "6 Group1C_Group1C 0.3414187"
      ]
     },
     "metadata": {},
     "output_type": "display_data"
    },
    {
     "data": {
      "text/html": [
       "<ol class=list-inline>\n",
       "\t<li>765</li>\n",
       "\t<li>6</li>\n",
       "</ol>\n"
      ],
      "text/latex": [
       "\\begin{enumerate*}\n",
       "\\item 765\n",
       "\\item 6\n",
       "\\end{enumerate*}\n"
      ],
      "text/markdown": [
       "1. 765\n",
       "2. 6\n",
       "\n",
       "\n"
      ],
      "text/plain": [
       "[1] 765   6"
      ]
     },
     "metadata": {},
     "output_type": "display_data"
    },
    {
     "data": {
      "text/plain": [
       "\n",
       "Group15_Group15 Group15_Group1C Group15_Group3E  Group15_Group9 Group1C_Group15 \n",
       "             91             210             210             210             210 \n",
       "Group1C_Group1C Group1C_Group3E  Group1C_Group9 Group3E_Group15 Group3E_Group1C \n",
       "            105             225             225             210             225 \n",
       "Group3E_Group3E  Group3E_Group9  Group9_Group15  Group9_Group1C  Group9_Group3E \n",
       "            105             225             210             225             225 \n",
       "  Group9_Group9 \n",
       "            105 "
      ]
     },
     "metadata": {},
     "output_type": "display_data"
    },
    {
     "data": {
      "text/plain": [
       "\n",
       "Group1C_Group15 Group1C_Group1C Group1C_Group3E  Group1C_Group9 \n",
       "            210             105             225             225 "
      ]
     },
     "metadata": {},
     "output_type": "display_data"
    },
    {
     "name": "stderr",
     "output_type": "stream",
     "text": [
      "Dunn (1964) Kruskal-Wallis multiple comparison\n",
      "  p-values adjusted with the Benjamini-Hochberg method.\n",
      "\n"
     ]
    },
    {
     "data": {
      "text/plain": [
       "                         Comparison          Z      P.unadj        P.adj\n",
       "1 Group1C_Group15 - Group1C_Group1C  0.7593878 4.476206e-01 6.714309e-01\n",
       "2 Group1C_Group15 - Group1C_Group3E -4.9935928 5.926628e-07 1.777988e-06\n",
       "3 Group1C_Group1C - Group1C_Group3E -4.8219878 1.421347e-06 2.842693e-06\n",
       "4  Group1C_Group15 - Group1C_Group9  0.2241068 8.226742e-01 8.226742e-01\n",
       "5  Group1C_Group1C - Group1C_Group9 -0.5860289 5.578561e-01 6.694273e-01\n",
       "6  Group1C_Group3E - Group1C_Group9  5.3100554 1.095919e-07 6.575513e-07"
      ]
     },
     "metadata": {},
     "output_type": "display_data"
    }
   ],
   "source": [
    "# dunn test for 1C to the others\n",
    "b<-droplevels(subset(a, a$group_name==c(\"Group1C_Group1C\")|a$group_name==c(\"Group1C_Group3E\")|a$group_name==c(\"Group1C_Group9\")|a$group_name==c(\"Group1C_Group15\")))\n",
    "head(b)\n",
    "dim(b)\n",
    "table(a$group_name)\n",
    "table(b$group_name)\n",
    "b$group_name <- factor(b$group_name, levels=c('Group1C_Group1C', 'Group1C_Group3E', \"Group1C_Group9\", \"Group1C_Group15\"))\n",
    "dunnTest(b$Distance ~ b$group_name, method=\"bh\")"
   ]
  },
  {
   "cell_type": "code",
   "execution_count": 4,
   "metadata": {},
   "outputs": [
    {
     "data": {
      "text/html": [
       "<table>\n",
       "<thead><tr><th></th><th scope=col>SubjectID1</th><th scope=col>SubjectID2</th><th scope=col>Group1</th><th scope=col>Group2</th><th scope=col>group_name</th><th scope=col>Distance</th></tr></thead>\n",
       "<tbody>\n",
       "\t<tr><th scope=row>766</th><td>X582_Group3E_142dpi_RV_bottom_177_G_B5_P140.mzXML</td><td>X581_Group3E_142dpi_RV_bottom_176_G_B4_P140.mzXML</td><td>Group3E                                          </td><td>Group3E                                          </td><td>Group3E_Group3E                                  </td><td>0.2895959                                        </td></tr>\n",
       "\t<tr><th scope=row>767</th><td>X583_Group3E_142dpi_RV_bottom_178_G_B6_P140.mzXML</td><td>X581_Group3E_142dpi_RV_bottom_176_G_B4_P140.mzXML</td><td>Group3E                                          </td><td>Group3E                                          </td><td>Group3E_Group3E                                  </td><td>0.4226372                                        </td></tr>\n",
       "\t<tr><th scope=row>768</th><td>X583_Group3E_142dpi_RV_bottom_178_G_B6_P140.mzXML</td><td>X582_Group3E_142dpi_RV_bottom_177_G_B5_P140.mzXML</td><td>Group3E                                          </td><td>Group3E                                          </td><td>Group3E_Group3E                                  </td><td>0.3215914                                        </td></tr>\n",
       "\t<tr><th scope=row>769</th><td>X584_Group3E_142dpi_RV_bottom_179_G_B7_P140.mzXML</td><td>X581_Group3E_142dpi_RV_bottom_176_G_B4_P140.mzXML</td><td>Group3E                                          </td><td>Group3E                                          </td><td>Group3E_Group3E                                  </td><td>0.1943122                                        </td></tr>\n",
       "\t<tr><th scope=row>770</th><td>X584_Group3E_142dpi_RV_bottom_179_G_B7_P140.mzXML</td><td>X582_Group3E_142dpi_RV_bottom_177_G_B5_P140.mzXML</td><td>Group3E                                          </td><td>Group3E                                          </td><td>Group3E_Group3E                                  </td><td>0.2947149                                        </td></tr>\n",
       "\t<tr><th scope=row>771</th><td>X584_Group3E_142dpi_RV_bottom_179_G_B7_P140.mzXML</td><td>X583_Group3E_142dpi_RV_bottom_178_G_B6_P140.mzXML</td><td>Group3E                                          </td><td>Group3E                                          </td><td>Group3E_Group3E                                  </td><td>0.3920517                                        </td></tr>\n",
       "</tbody>\n",
       "</table>\n"
      ],
      "text/latex": [
       "\\begin{tabular}{r|llllll}\n",
       "  & SubjectID1 & SubjectID2 & Group1 & Group2 & group\\_name & Distance\\\\\n",
       "\\hline\n",
       "\t766 & X582\\_Group3E\\_142dpi\\_RV\\_bottom\\_177\\_G\\_B5\\_P140.mzXML & X581\\_Group3E\\_142dpi\\_RV\\_bottom\\_176\\_G\\_B4\\_P140.mzXML & Group3E                                                           & Group3E                                                           & Group3E\\_Group3E                                                 & 0.2895959                                                        \\\\\n",
       "\t767 & X583\\_Group3E\\_142dpi\\_RV\\_bottom\\_178\\_G\\_B6\\_P140.mzXML & X581\\_Group3E\\_142dpi\\_RV\\_bottom\\_176\\_G\\_B4\\_P140.mzXML & Group3E                                                           & Group3E                                                           & Group3E\\_Group3E                                                 & 0.4226372                                                        \\\\\n",
       "\t768 & X583\\_Group3E\\_142dpi\\_RV\\_bottom\\_178\\_G\\_B6\\_P140.mzXML & X582\\_Group3E\\_142dpi\\_RV\\_bottom\\_177\\_G\\_B5\\_P140.mzXML & Group3E                                                           & Group3E                                                           & Group3E\\_Group3E                                                 & 0.3215914                                                        \\\\\n",
       "\t769 & X584\\_Group3E\\_142dpi\\_RV\\_bottom\\_179\\_G\\_B7\\_P140.mzXML & X581\\_Group3E\\_142dpi\\_RV\\_bottom\\_176\\_G\\_B4\\_P140.mzXML & Group3E                                                           & Group3E                                                           & Group3E\\_Group3E                                                 & 0.1943122                                                        \\\\\n",
       "\t770 & X584\\_Group3E\\_142dpi\\_RV\\_bottom\\_179\\_G\\_B7\\_P140.mzXML & X582\\_Group3E\\_142dpi\\_RV\\_bottom\\_177\\_G\\_B5\\_P140.mzXML & Group3E                                                           & Group3E                                                           & Group3E\\_Group3E                                                 & 0.2947149                                                        \\\\\n",
       "\t771 & X584\\_Group3E\\_142dpi\\_RV\\_bottom\\_179\\_G\\_B7\\_P140.mzXML & X583\\_Group3E\\_142dpi\\_RV\\_bottom\\_178\\_G\\_B6\\_P140.mzXML & Group3E                                                           & Group3E                                                           & Group3E\\_Group3E                                                 & 0.3920517                                                        \\\\\n",
       "\\end{tabular}\n"
      ],
      "text/markdown": [
       "\n",
       "| <!--/--> | SubjectID1 | SubjectID2 | Group1 | Group2 | group_name | Distance |\n",
       "|---|---|---|---|---|---|---|\n",
       "| 766 | X582_Group3E_142dpi_RV_bottom_177_G_B5_P140.mzXML | X581_Group3E_142dpi_RV_bottom_176_G_B4_P140.mzXML | Group3E                                           | Group3E                                           | Group3E_Group3E                                   | 0.2895959                                         |\n",
       "| 767 | X583_Group3E_142dpi_RV_bottom_178_G_B6_P140.mzXML | X581_Group3E_142dpi_RV_bottom_176_G_B4_P140.mzXML | Group3E                                           | Group3E                                           | Group3E_Group3E                                   | 0.4226372                                         |\n",
       "| 768 | X583_Group3E_142dpi_RV_bottom_178_G_B6_P140.mzXML | X582_Group3E_142dpi_RV_bottom_177_G_B5_P140.mzXML | Group3E                                           | Group3E                                           | Group3E_Group3E                                   | 0.3215914                                         |\n",
       "| 769 | X584_Group3E_142dpi_RV_bottom_179_G_B7_P140.mzXML | X581_Group3E_142dpi_RV_bottom_176_G_B4_P140.mzXML | Group3E                                           | Group3E                                           | Group3E_Group3E                                   | 0.1943122                                         |\n",
       "| 770 | X584_Group3E_142dpi_RV_bottom_179_G_B7_P140.mzXML | X582_Group3E_142dpi_RV_bottom_177_G_B5_P140.mzXML | Group3E                                           | Group3E                                           | Group3E_Group3E                                   | 0.2947149                                         |\n",
       "| 771 | X584_Group3E_142dpi_RV_bottom_179_G_B7_P140.mzXML | X583_Group3E_142dpi_RV_bottom_178_G_B6_P140.mzXML | Group3E                                           | Group3E                                           | Group3E_Group3E                                   | 0.3920517                                         |\n",
       "\n"
      ],
      "text/plain": [
       "    SubjectID1                                       \n",
       "766 X582_Group3E_142dpi_RV_bottom_177_G_B5_P140.mzXML\n",
       "767 X583_Group3E_142dpi_RV_bottom_178_G_B6_P140.mzXML\n",
       "768 X583_Group3E_142dpi_RV_bottom_178_G_B6_P140.mzXML\n",
       "769 X584_Group3E_142dpi_RV_bottom_179_G_B7_P140.mzXML\n",
       "770 X584_Group3E_142dpi_RV_bottom_179_G_B7_P140.mzXML\n",
       "771 X584_Group3E_142dpi_RV_bottom_179_G_B7_P140.mzXML\n",
       "    SubjectID2                                        Group1  Group2 \n",
       "766 X581_Group3E_142dpi_RV_bottom_176_G_B4_P140.mzXML Group3E Group3E\n",
       "767 X581_Group3E_142dpi_RV_bottom_176_G_B4_P140.mzXML Group3E Group3E\n",
       "768 X582_Group3E_142dpi_RV_bottom_177_G_B5_P140.mzXML Group3E Group3E\n",
       "769 X581_Group3E_142dpi_RV_bottom_176_G_B4_P140.mzXML Group3E Group3E\n",
       "770 X582_Group3E_142dpi_RV_bottom_177_G_B5_P140.mzXML Group3E Group3E\n",
       "771 X583_Group3E_142dpi_RV_bottom_178_G_B6_P140.mzXML Group3E Group3E\n",
       "    group_name      Distance \n",
       "766 Group3E_Group3E 0.2895959\n",
       "767 Group3E_Group3E 0.4226372\n",
       "768 Group3E_Group3E 0.3215914\n",
       "769 Group3E_Group3E 0.1943122\n",
       "770 Group3E_Group3E 0.2947149\n",
       "771 Group3E_Group3E 0.3920517"
      ]
     },
     "metadata": {},
     "output_type": "display_data"
    },
    {
     "data": {
      "text/html": [
       "<ol class=list-inline>\n",
       "\t<li>540</li>\n",
       "\t<li>6</li>\n",
       "</ol>\n"
      ],
      "text/latex": [
       "\\begin{enumerate*}\n",
       "\\item 540\n",
       "\\item 6\n",
       "\\end{enumerate*}\n"
      ],
      "text/markdown": [
       "1. 540\n",
       "2. 6\n",
       "\n",
       "\n"
      ],
      "text/plain": [
       "[1] 540   6"
      ]
     },
     "metadata": {},
     "output_type": "display_data"
    },
    {
     "data": {
      "text/plain": [
       "\n",
       "Group15_Group15 Group15_Group1C Group15_Group3E  Group15_Group9 Group1C_Group15 \n",
       "             91             210             210             210             210 \n",
       "Group1C_Group1C Group1C_Group3E  Group1C_Group9 Group3E_Group15 Group3E_Group1C \n",
       "            105             225             225             210             225 \n",
       "Group3E_Group3E  Group3E_Group9  Group9_Group15  Group9_Group1C  Group9_Group3E \n",
       "            105             225             210             225             225 \n",
       "  Group9_Group9 \n",
       "            105 "
      ]
     },
     "metadata": {},
     "output_type": "display_data"
    },
    {
     "data": {
      "text/plain": [
       "\n",
       "Group15_Group3E Group3E_Group3E  Group3E_Group9 \n",
       "            210             105             225 "
      ]
     },
     "metadata": {},
     "output_type": "display_data"
    },
    {
     "name": "stderr",
     "output_type": "stream",
     "text": [
      "Dunn (1964) Kruskal-Wallis multiple comparison\n",
      "  p-values adjusted with the Benjamini-Hochberg method.\n",
      "\n"
     ]
    },
    {
     "data": {
      "text/plain": [
       "                         Comparison         Z      P.unadj        P.adj\n",
       "1 Group15_Group3E - Group3E_Group3E -2.022576 4.311688e-02 4.311688e-02\n",
       "2  Group15_Group3E - Group3E_Group9 -6.032116 1.618267e-09 4.854801e-09\n",
       "3  Group3E_Group3E - Group3E_Group9 -2.851707 4.348513e-03 6.522770e-03"
      ]
     },
     "metadata": {},
     "output_type": "display_data"
    }
   ],
   "source": [
    "# data for 3E to the other\n",
    "d<-droplevels(subset(a, a$group_name==c(\"Group3E_Group3E\")|a$group_name==c(\"Group3E_Group9\")|a$group_name==c(\"Group15_Group3E\")))\n",
    "head(d)\n",
    "dim(d)\n",
    "table(a$group_name)\n",
    "table(d$group_name)\n",
    "d$group_name <- factor(d$group_name, levels=c('Group3E_Group3E', 'Group3E_Group9', \"Group15_Group3E\"))\n",
    "dunnTest(d$Distance ~ d$group_name, method=\"bh\")"
   ]
  },
  {
   "cell_type": "code",
   "execution_count": null,
   "metadata": {},
   "outputs": [],
   "source": []
  },
  {
   "cell_type": "code",
   "execution_count": null,
   "metadata": {},
   "outputs": [],
   "source": []
  },
  {
   "cell_type": "code",
   "execution_count": null,
   "metadata": {},
   "outputs": [],
   "source": []
  },
  {
   "cell_type": "code",
   "execution_count": null,
   "metadata": {},
   "outputs": [],
   "source": []
  }
 ],
 "metadata": {
  "kernelspec": {
   "display_name": "R",
   "language": "R",
   "name": "ir"
  },
  "language_info": {
   "codemirror_mode": "r",
   "file_extension": ".r",
   "mimetype": "text/x-r-source",
   "name": "R",
   "pygments_lexer": "r",
   "version": "3.6.1"
  }
 },
 "nbformat": 4,
 "nbformat_minor": 4
}
