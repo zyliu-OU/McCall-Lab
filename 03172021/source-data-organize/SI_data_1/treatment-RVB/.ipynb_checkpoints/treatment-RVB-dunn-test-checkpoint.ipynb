{
 "cells": [
  {
   "cell_type": "code",
   "execution_count": 1,
   "metadata": {},
   "outputs": [
    {
     "name": "stderr",
     "output_type": "stream",
     "text": [
      "## FSA v0.9.4. See citation('FSA') if used in publication.\n",
      "## Run fishR() for related website and fishR('IFAR') for related book.\n"
     ]
    }
   ],
   "source": [
    "library(\"FSA\")\n",
    "library(ggplot2)"
   ]
  },
  {
   "cell_type": "code",
   "execution_count": 2,
   "metadata": {},
   "outputs": [
    {
     "data": {
      "text/html": [
       "<table>\n",
       "<thead><tr><th scope=col>SubjectID1</th><th scope=col>SubjectID2</th><th scope=col>Group1</th><th scope=col>Group2</th><th scope=col>group_name</th><th scope=col>Distance</th></tr></thead>\n",
       "<tbody>\n",
       "\t<tr><td>X512_Group1C_142dpi_RV_bottom_162_G_A2_P140.mzXML</td><td>X511_Group1C_142dpi_RV_bottom_161_G_A1_P140.mzXML</td><td>Group1C                                          </td><td>Group1C                                          </td><td>Group1C_Group1C                                  </td><td>0.3436222                                        </td></tr>\n",
       "\t<tr><td>X513_Group1C_142dpi_RV_bottom_163_G_A3_P140.mzXML</td><td>X511_Group1C_142dpi_RV_bottom_161_G_A1_P140.mzXML</td><td>Group1C                                          </td><td>Group1C                                          </td><td>Group1C_Group1C                                  </td><td>0.4334088                                        </td></tr>\n",
       "\t<tr><td>X513_Group1C_142dpi_RV_bottom_163_G_A3_P140.mzXML</td><td>X512_Group1C_142dpi_RV_bottom_162_G_A2_P140.mzXML</td><td>Group1C                                          </td><td>Group1C                                          </td><td>Group1C_Group1C                                  </td><td>0.3879153                                        </td></tr>\n",
       "\t<tr><td>X514_Group1C_142dpi_RV_bottom_164_G_A4_P140.mzXML</td><td>X511_Group1C_142dpi_RV_bottom_161_G_A1_P140.mzXML</td><td>Group1C                                          </td><td>Group1C                                          </td><td>Group1C_Group1C                                  </td><td>0.3283475                                        </td></tr>\n",
       "\t<tr><td>X514_Group1C_142dpi_RV_bottom_164_G_A4_P140.mzXML</td><td>X512_Group1C_142dpi_RV_bottom_162_G_A2_P140.mzXML</td><td>Group1C                                          </td><td>Group1C                                          </td><td>Group1C_Group1C                                  </td><td>0.3139707                                        </td></tr>\n",
       "\t<tr><td>X514_Group1C_142dpi_RV_bottom_164_G_A4_P140.mzXML</td><td>X513_Group1C_142dpi_RV_bottom_163_G_A3_P140.mzXML</td><td>Group1C                                          </td><td>Group1C                                          </td><td>Group1C_Group1C                                  </td><td>0.3414187                                        </td></tr>\n",
       "</tbody>\n",
       "</table>\n"
      ],
      "text/latex": [
       "\\begin{tabular}{r|llllll}\n",
       " SubjectID1 & SubjectID2 & Group1 & Group2 & group\\_name & Distance\\\\\n",
       "\\hline\n",
       "\t X512\\_Group1C\\_142dpi\\_RV\\_bottom\\_162\\_G\\_A2\\_P140.mzXML & X511\\_Group1C\\_142dpi\\_RV\\_bottom\\_161\\_G\\_A1\\_P140.mzXML & Group1C                                                           & Group1C                                                           & Group1C\\_Group1C                                                 & 0.3436222                                                        \\\\\n",
       "\t X513\\_Group1C\\_142dpi\\_RV\\_bottom\\_163\\_G\\_A3\\_P140.mzXML & X511\\_Group1C\\_142dpi\\_RV\\_bottom\\_161\\_G\\_A1\\_P140.mzXML & Group1C                                                           & Group1C                                                           & Group1C\\_Group1C                                                 & 0.4334088                                                        \\\\\n",
       "\t X513\\_Group1C\\_142dpi\\_RV\\_bottom\\_163\\_G\\_A3\\_P140.mzXML & X512\\_Group1C\\_142dpi\\_RV\\_bottom\\_162\\_G\\_A2\\_P140.mzXML & Group1C                                                           & Group1C                                                           & Group1C\\_Group1C                                                 & 0.3879153                                                        \\\\\n",
       "\t X514\\_Group1C\\_142dpi\\_RV\\_bottom\\_164\\_G\\_A4\\_P140.mzXML & X511\\_Group1C\\_142dpi\\_RV\\_bottom\\_161\\_G\\_A1\\_P140.mzXML & Group1C                                                           & Group1C                                                           & Group1C\\_Group1C                                                 & 0.3283475                                                        \\\\\n",
       "\t X514\\_Group1C\\_142dpi\\_RV\\_bottom\\_164\\_G\\_A4\\_P140.mzXML & X512\\_Group1C\\_142dpi\\_RV\\_bottom\\_162\\_G\\_A2\\_P140.mzXML & Group1C                                                           & Group1C                                                           & Group1C\\_Group1C                                                 & 0.3139707                                                        \\\\\n",
       "\t X514\\_Group1C\\_142dpi\\_RV\\_bottom\\_164\\_G\\_A4\\_P140.mzXML & X513\\_Group1C\\_142dpi\\_RV\\_bottom\\_163\\_G\\_A3\\_P140.mzXML & Group1C                                                           & Group1C                                                           & Group1C\\_Group1C                                                 & 0.3414187                                                        \\\\\n",
       "\\end{tabular}\n"
      ],
      "text/markdown": [
       "\n",
       "| SubjectID1 | SubjectID2 | Group1 | Group2 | group_name | Distance |\n",
       "|---|---|---|---|---|---|\n",
       "| X512_Group1C_142dpi_RV_bottom_162_G_A2_P140.mzXML | X511_Group1C_142dpi_RV_bottom_161_G_A1_P140.mzXML | Group1C                                           | Group1C                                           | Group1C_Group1C                                   | 0.3436222                                         |\n",
       "| X513_Group1C_142dpi_RV_bottom_163_G_A3_P140.mzXML | X511_Group1C_142dpi_RV_bottom_161_G_A1_P140.mzXML | Group1C                                           | Group1C                                           | Group1C_Group1C                                   | 0.4334088                                         |\n",
       "| X513_Group1C_142dpi_RV_bottom_163_G_A3_P140.mzXML | X512_Group1C_142dpi_RV_bottom_162_G_A2_P140.mzXML | Group1C                                           | Group1C                                           | Group1C_Group1C                                   | 0.3879153                                         |\n",
       "| X514_Group1C_142dpi_RV_bottom_164_G_A4_P140.mzXML | X511_Group1C_142dpi_RV_bottom_161_G_A1_P140.mzXML | Group1C                                           | Group1C                                           | Group1C_Group1C                                   | 0.3283475                                         |\n",
       "| X514_Group1C_142dpi_RV_bottom_164_G_A4_P140.mzXML | X512_Group1C_142dpi_RV_bottom_162_G_A2_P140.mzXML | Group1C                                           | Group1C                                           | Group1C_Group1C                                   | 0.3139707                                         |\n",
       "| X514_Group1C_142dpi_RV_bottom_164_G_A4_P140.mzXML | X513_Group1C_142dpi_RV_bottom_163_G_A3_P140.mzXML | Group1C                                           | Group1C                                           | Group1C_Group1C                                   | 0.3414187                                         |\n",
       "\n"
      ],
      "text/plain": [
       "  SubjectID1                                       \n",
       "1 X512_Group1C_142dpi_RV_bottom_162_G_A2_P140.mzXML\n",
       "2 X513_Group1C_142dpi_RV_bottom_163_G_A3_P140.mzXML\n",
       "3 X513_Group1C_142dpi_RV_bottom_163_G_A3_P140.mzXML\n",
       "4 X514_Group1C_142dpi_RV_bottom_164_G_A4_P140.mzXML\n",
       "5 X514_Group1C_142dpi_RV_bottom_164_G_A4_P140.mzXML\n",
       "6 X514_Group1C_142dpi_RV_bottom_164_G_A4_P140.mzXML\n",
       "  SubjectID2                                        Group1  Group2 \n",
       "1 X511_Group1C_142dpi_RV_bottom_161_G_A1_P140.mzXML Group1C Group1C\n",
       "2 X511_Group1C_142dpi_RV_bottom_161_G_A1_P140.mzXML Group1C Group1C\n",
       "3 X512_Group1C_142dpi_RV_bottom_162_G_A2_P140.mzXML Group1C Group1C\n",
       "4 X511_Group1C_142dpi_RV_bottom_161_G_A1_P140.mzXML Group1C Group1C\n",
       "5 X512_Group1C_142dpi_RV_bottom_162_G_A2_P140.mzXML Group1C Group1C\n",
       "6 X513_Group1C_142dpi_RV_bottom_163_G_A3_P140.mzXML Group1C Group1C\n",
       "  group_name      Distance \n",
       "1 Group1C_Group1C 0.3436222\n",
       "2 Group1C_Group1C 0.4334088\n",
       "3 Group1C_Group1C 0.3879153\n",
       "4 Group1C_Group1C 0.3283475\n",
       "5 Group1C_Group1C 0.3139707\n",
       "6 Group1C_Group1C 0.3414187"
      ]
     },
     "metadata": {},
     "output_type": "display_data"
    },
    {
     "data": {
      "text/html": [
       "<ol class=list-inline>\n",
       "\t<li>3120</li>\n",
       "\t<li>6</li>\n",
       "</ol>\n"
      ],
      "text/latex": [
       "\\begin{enumerate*}\n",
       "\\item 3120\n",
       "\\item 6\n",
       "\\end{enumerate*}\n"
      ],
      "text/markdown": [
       "1. 3120\n",
       "2. 6\n",
       "\n",
       "\n"
      ],
      "text/plain": [
       "[1] 3120    6"
      ]
     },
     "metadata": {},
     "output_type": "display_data"
    },
    {
     "data": {
      "text/plain": [
       "\n",
       "Group15_Group15 Group15_Group1C Group15_Group3E  Group15_Group9 Group1C_Group15 \n",
       "            105             225             225             225             225 \n",
       "Group1C_Group1C Group1C_Group3E  Group1C_Group9 Group3E_Group15 Group3E_Group1C \n",
       "            105             225             225             225             225 \n",
       "Group3E_Group3E  Group3E_Group9  Group9_Group15  Group9_Group1C  Group9_Group3E \n",
       "            105             225             225             225             225 \n",
       "  Group9_Group9 \n",
       "            105 "
      ]
     },
     "metadata": {},
     "output_type": "display_data"
    }
   ],
   "source": [
    "# read data \n",
    "a <- read.csv(\"treatment-RVB-distance-data.csv\")\n",
    "head(a)\n",
    "dim(a)\n",
    "table(a$group_name)"
   ]
  },
  {
   "cell_type": "code",
   "execution_count": 3,
   "metadata": {},
   "outputs": [
    {
     "data": {
      "text/html": [
       "<table>\n",
       "<thead><tr><th scope=col>SubjectID1</th><th scope=col>SubjectID2</th><th scope=col>Group1</th><th scope=col>Group2</th><th scope=col>group_name</th><th scope=col>Distance</th></tr></thead>\n",
       "<tbody>\n",
       "\t<tr><td>X512_Group1C_142dpi_RV_bottom_162_G_A2_P140.mzXML</td><td>X511_Group1C_142dpi_RV_bottom_161_G_A1_P140.mzXML</td><td>Group1C                                          </td><td>Group1C                                          </td><td>Group1C_Group1C                                  </td><td>0.3436222                                        </td></tr>\n",
       "\t<tr><td>X513_Group1C_142dpi_RV_bottom_163_G_A3_P140.mzXML</td><td>X511_Group1C_142dpi_RV_bottom_161_G_A1_P140.mzXML</td><td>Group1C                                          </td><td>Group1C                                          </td><td>Group1C_Group1C                                  </td><td>0.4334088                                        </td></tr>\n",
       "\t<tr><td>X513_Group1C_142dpi_RV_bottom_163_G_A3_P140.mzXML</td><td>X512_Group1C_142dpi_RV_bottom_162_G_A2_P140.mzXML</td><td>Group1C                                          </td><td>Group1C                                          </td><td>Group1C_Group1C                                  </td><td>0.3879153                                        </td></tr>\n",
       "\t<tr><td>X514_Group1C_142dpi_RV_bottom_164_G_A4_P140.mzXML</td><td>X511_Group1C_142dpi_RV_bottom_161_G_A1_P140.mzXML</td><td>Group1C                                          </td><td>Group1C                                          </td><td>Group1C_Group1C                                  </td><td>0.3283475                                        </td></tr>\n",
       "\t<tr><td>X514_Group1C_142dpi_RV_bottom_164_G_A4_P140.mzXML</td><td>X512_Group1C_142dpi_RV_bottom_162_G_A2_P140.mzXML</td><td>Group1C                                          </td><td>Group1C                                          </td><td>Group1C_Group1C                                  </td><td>0.3139707                                        </td></tr>\n",
       "\t<tr><td>X514_Group1C_142dpi_RV_bottom_164_G_A4_P140.mzXML</td><td>X513_Group1C_142dpi_RV_bottom_163_G_A3_P140.mzXML</td><td>Group1C                                          </td><td>Group1C                                          </td><td>Group1C_Group1C                                  </td><td>0.3414187                                        </td></tr>\n",
       "</tbody>\n",
       "</table>\n"
      ],
      "text/latex": [
       "\\begin{tabular}{r|llllll}\n",
       " SubjectID1 & SubjectID2 & Group1 & Group2 & group\\_name & Distance\\\\\n",
       "\\hline\n",
       "\t X512\\_Group1C\\_142dpi\\_RV\\_bottom\\_162\\_G\\_A2\\_P140.mzXML & X511\\_Group1C\\_142dpi\\_RV\\_bottom\\_161\\_G\\_A1\\_P140.mzXML & Group1C                                                           & Group1C                                                           & Group1C\\_Group1C                                                 & 0.3436222                                                        \\\\\n",
       "\t X513\\_Group1C\\_142dpi\\_RV\\_bottom\\_163\\_G\\_A3\\_P140.mzXML & X511\\_Group1C\\_142dpi\\_RV\\_bottom\\_161\\_G\\_A1\\_P140.mzXML & Group1C                                                           & Group1C                                                           & Group1C\\_Group1C                                                 & 0.4334088                                                        \\\\\n",
       "\t X513\\_Group1C\\_142dpi\\_RV\\_bottom\\_163\\_G\\_A3\\_P140.mzXML & X512\\_Group1C\\_142dpi\\_RV\\_bottom\\_162\\_G\\_A2\\_P140.mzXML & Group1C                                                           & Group1C                                                           & Group1C\\_Group1C                                                 & 0.3879153                                                        \\\\\n",
       "\t X514\\_Group1C\\_142dpi\\_RV\\_bottom\\_164\\_G\\_A4\\_P140.mzXML & X511\\_Group1C\\_142dpi\\_RV\\_bottom\\_161\\_G\\_A1\\_P140.mzXML & Group1C                                                           & Group1C                                                           & Group1C\\_Group1C                                                 & 0.3283475                                                        \\\\\n",
       "\t X514\\_Group1C\\_142dpi\\_RV\\_bottom\\_164\\_G\\_A4\\_P140.mzXML & X512\\_Group1C\\_142dpi\\_RV\\_bottom\\_162\\_G\\_A2\\_P140.mzXML & Group1C                                                           & Group1C                                                           & Group1C\\_Group1C                                                 & 0.3139707                                                        \\\\\n",
       "\t X514\\_Group1C\\_142dpi\\_RV\\_bottom\\_164\\_G\\_A4\\_P140.mzXML & X513\\_Group1C\\_142dpi\\_RV\\_bottom\\_163\\_G\\_A3\\_P140.mzXML & Group1C                                                           & Group1C                                                           & Group1C\\_Group1C                                                 & 0.3414187                                                        \\\\\n",
       "\\end{tabular}\n"
      ],
      "text/markdown": [
       "\n",
       "| SubjectID1 | SubjectID2 | Group1 | Group2 | group_name | Distance |\n",
       "|---|---|---|---|---|---|\n",
       "| X512_Group1C_142dpi_RV_bottom_162_G_A2_P140.mzXML | X511_Group1C_142dpi_RV_bottom_161_G_A1_P140.mzXML | Group1C                                           | Group1C                                           | Group1C_Group1C                                   | 0.3436222                                         |\n",
       "| X513_Group1C_142dpi_RV_bottom_163_G_A3_P140.mzXML | X511_Group1C_142dpi_RV_bottom_161_G_A1_P140.mzXML | Group1C                                           | Group1C                                           | Group1C_Group1C                                   | 0.4334088                                         |\n",
       "| X513_Group1C_142dpi_RV_bottom_163_G_A3_P140.mzXML | X512_Group1C_142dpi_RV_bottom_162_G_A2_P140.mzXML | Group1C                                           | Group1C                                           | Group1C_Group1C                                   | 0.3879153                                         |\n",
       "| X514_Group1C_142dpi_RV_bottom_164_G_A4_P140.mzXML | X511_Group1C_142dpi_RV_bottom_161_G_A1_P140.mzXML | Group1C                                           | Group1C                                           | Group1C_Group1C                                   | 0.3283475                                         |\n",
       "| X514_Group1C_142dpi_RV_bottom_164_G_A4_P140.mzXML | X512_Group1C_142dpi_RV_bottom_162_G_A2_P140.mzXML | Group1C                                           | Group1C                                           | Group1C_Group1C                                   | 0.3139707                                         |\n",
       "| X514_Group1C_142dpi_RV_bottom_164_G_A4_P140.mzXML | X513_Group1C_142dpi_RV_bottom_163_G_A3_P140.mzXML | Group1C                                           | Group1C                                           | Group1C_Group1C                                   | 0.3414187                                         |\n",
       "\n"
      ],
      "text/plain": [
       "  SubjectID1                                       \n",
       "1 X512_Group1C_142dpi_RV_bottom_162_G_A2_P140.mzXML\n",
       "2 X513_Group1C_142dpi_RV_bottom_163_G_A3_P140.mzXML\n",
       "3 X513_Group1C_142dpi_RV_bottom_163_G_A3_P140.mzXML\n",
       "4 X514_Group1C_142dpi_RV_bottom_164_G_A4_P140.mzXML\n",
       "5 X514_Group1C_142dpi_RV_bottom_164_G_A4_P140.mzXML\n",
       "6 X514_Group1C_142dpi_RV_bottom_164_G_A4_P140.mzXML\n",
       "  SubjectID2                                        Group1  Group2 \n",
       "1 X511_Group1C_142dpi_RV_bottom_161_G_A1_P140.mzXML Group1C Group1C\n",
       "2 X511_Group1C_142dpi_RV_bottom_161_G_A1_P140.mzXML Group1C Group1C\n",
       "3 X512_Group1C_142dpi_RV_bottom_162_G_A2_P140.mzXML Group1C Group1C\n",
       "4 X511_Group1C_142dpi_RV_bottom_161_G_A1_P140.mzXML Group1C Group1C\n",
       "5 X512_Group1C_142dpi_RV_bottom_162_G_A2_P140.mzXML Group1C Group1C\n",
       "6 X513_Group1C_142dpi_RV_bottom_163_G_A3_P140.mzXML Group1C Group1C\n",
       "  group_name      Distance \n",
       "1 Group1C_Group1C 0.3436222\n",
       "2 Group1C_Group1C 0.4334088\n",
       "3 Group1C_Group1C 0.3879153\n",
       "4 Group1C_Group1C 0.3283475\n",
       "5 Group1C_Group1C 0.3139707\n",
       "6 Group1C_Group1C 0.3414187"
      ]
     },
     "metadata": {},
     "output_type": "display_data"
    },
    {
     "data": {
      "text/html": [
       "<ol class=list-inline>\n",
       "\t<li>780</li>\n",
       "\t<li>6</li>\n",
       "</ol>\n"
      ],
      "text/latex": [
       "\\begin{enumerate*}\n",
       "\\item 780\n",
       "\\item 6\n",
       "\\end{enumerate*}\n"
      ],
      "text/markdown": [
       "1. 780\n",
       "2. 6\n",
       "\n",
       "\n"
      ],
      "text/plain": [
       "[1] 780   6"
      ]
     },
     "metadata": {},
     "output_type": "display_data"
    },
    {
     "data": {
      "text/plain": [
       "\n",
       "Group15_Group15 Group15_Group1C Group15_Group3E  Group15_Group9 Group1C_Group15 \n",
       "            105             225             225             225             225 \n",
       "Group1C_Group1C Group1C_Group3E  Group1C_Group9 Group3E_Group15 Group3E_Group1C \n",
       "            105             225             225             225             225 \n",
       "Group3E_Group3E  Group3E_Group9  Group9_Group15  Group9_Group1C  Group9_Group3E \n",
       "            105             225             225             225             225 \n",
       "  Group9_Group9 \n",
       "            105 "
      ]
     },
     "metadata": {},
     "output_type": "display_data"
    },
    {
     "data": {
      "text/plain": [
       "\n",
       "Group1C_Group15 Group1C_Group1C Group1C_Group3E  Group1C_Group9 \n",
       "            225             105             225             225 "
      ]
     },
     "metadata": {},
     "output_type": "display_data"
    },
    {
     "name": "stderr",
     "output_type": "stream",
     "text": [
      "Dunn (1964) Kruskal-Wallis multiple comparison\n",
      "  p-values adjusted with the Benjamini-Hochberg method.\n",
      "\n"
     ]
    },
    {
     "data": {
      "text/plain": [
       "                         Comparison          Z      P.unadj        P.adj\n",
       "1 Group1C_Group15 - Group1C_Group1C  0.3717407 7.100859e-01 8.521031e-01\n",
       "2 Group1C_Group15 - Group1C_Group3E -5.5808416 2.393576e-08 1.436145e-07\n",
       "3 Group1C_Group1C - Group1C_Group3E -4.8237122 1.409107e-06 2.818214e-06\n",
       "4  Group1C_Group15 - Group1C_Group9 -0.2864277 7.745506e-01 7.745506e-01\n",
       "5  Group1C_Group1C - Group1C_Group9 -0.6002310 5.483523e-01 8.225285e-01\n",
       "6  Group1C_Group3E - Group1C_Group9  5.2944139 1.193987e-07 3.581962e-07"
      ]
     },
     "metadata": {},
     "output_type": "display_data"
    }
   ],
   "source": [
    "# dunn test for 1C to the others\n",
    "b<-droplevels(subset(a, a$group_name==c(\"Group1C_Group1C\")|a$group_name==c(\"Group1C_Group3E\")|a$group_name==c(\"Group1C_Group9\")|a$group_name==c(\"Group1C_Group15\")))\n",
    "head(b)\n",
    "dim(b)\n",
    "table(a$group_name)\n",
    "table(b$group_name)\n",
    "b$group_name <- factor(b$group_name, levels=c('Group1C_Group1C', 'Group1C_Group3E', \"Group1C_Group9\", \"Group1C_Group15\"))\n",
    "dunnTest(b$Distance ~ b$group_name, method=\"bh\")"
   ]
  },
  {
   "cell_type": "code",
   "execution_count": 4,
   "metadata": {},
   "outputs": [
    {
     "data": {
      "text/html": [
       "<table>\n",
       "<thead><tr><th></th><th scope=col>SubjectID1</th><th scope=col>SubjectID2</th><th scope=col>Group1</th><th scope=col>Group2</th><th scope=col>group_name</th><th scope=col>Distance</th></tr></thead>\n",
       "<tbody>\n",
       "\t<tr><th scope=row>781</th><td>X582_Group3E_142dpi_RV_bottom_177_G_B5_P140.mzXML</td><td>X581_Group3E_142dpi_RV_bottom_176_G_B4_P140.mzXML</td><td>Group3E                                          </td><td>Group3E                                          </td><td>Group3E_Group3E                                  </td><td>0.2895959                                        </td></tr>\n",
       "\t<tr><th scope=row>782</th><td>X583_Group3E_142dpi_RV_bottom_178_G_B6_P140.mzXML</td><td>X581_Group3E_142dpi_RV_bottom_176_G_B4_P140.mzXML</td><td>Group3E                                          </td><td>Group3E                                          </td><td>Group3E_Group3E                                  </td><td>0.4226372                                        </td></tr>\n",
       "\t<tr><th scope=row>783</th><td>X583_Group3E_142dpi_RV_bottom_178_G_B6_P140.mzXML</td><td>X582_Group3E_142dpi_RV_bottom_177_G_B5_P140.mzXML</td><td>Group3E                                          </td><td>Group3E                                          </td><td>Group3E_Group3E                                  </td><td>0.3215914                                        </td></tr>\n",
       "\t<tr><th scope=row>784</th><td>X584_Group3E_142dpi_RV_bottom_179_G_B7_P140.mzXML</td><td>X581_Group3E_142dpi_RV_bottom_176_G_B4_P140.mzXML</td><td>Group3E                                          </td><td>Group3E                                          </td><td>Group3E_Group3E                                  </td><td>0.1943122                                        </td></tr>\n",
       "\t<tr><th scope=row>785</th><td>X584_Group3E_142dpi_RV_bottom_179_G_B7_P140.mzXML</td><td>X582_Group3E_142dpi_RV_bottom_177_G_B5_P140.mzXML</td><td>Group3E                                          </td><td>Group3E                                          </td><td>Group3E_Group3E                                  </td><td>0.2947149                                        </td></tr>\n",
       "\t<tr><th scope=row>786</th><td>X584_Group3E_142dpi_RV_bottom_179_G_B7_P140.mzXML</td><td>X583_Group3E_142dpi_RV_bottom_178_G_B6_P140.mzXML</td><td>Group3E                                          </td><td>Group3E                                          </td><td>Group3E_Group3E                                  </td><td>0.3920517                                        </td></tr>\n",
       "</tbody>\n",
       "</table>\n"
      ],
      "text/latex": [
       "\\begin{tabular}{r|llllll}\n",
       "  & SubjectID1 & SubjectID2 & Group1 & Group2 & group\\_name & Distance\\\\\n",
       "\\hline\n",
       "\t781 & X582\\_Group3E\\_142dpi\\_RV\\_bottom\\_177\\_G\\_B5\\_P140.mzXML & X581\\_Group3E\\_142dpi\\_RV\\_bottom\\_176\\_G\\_B4\\_P140.mzXML & Group3E                                                           & Group3E                                                           & Group3E\\_Group3E                                                 & 0.2895959                                                        \\\\\n",
       "\t782 & X583\\_Group3E\\_142dpi\\_RV\\_bottom\\_178\\_G\\_B6\\_P140.mzXML & X581\\_Group3E\\_142dpi\\_RV\\_bottom\\_176\\_G\\_B4\\_P140.mzXML & Group3E                                                           & Group3E                                                           & Group3E\\_Group3E                                                 & 0.4226372                                                        \\\\\n",
       "\t783 & X583\\_Group3E\\_142dpi\\_RV\\_bottom\\_178\\_G\\_B6\\_P140.mzXML & X582\\_Group3E\\_142dpi\\_RV\\_bottom\\_177\\_G\\_B5\\_P140.mzXML & Group3E                                                           & Group3E                                                           & Group3E\\_Group3E                                                 & 0.3215914                                                        \\\\\n",
       "\t784 & X584\\_Group3E\\_142dpi\\_RV\\_bottom\\_179\\_G\\_B7\\_P140.mzXML & X581\\_Group3E\\_142dpi\\_RV\\_bottom\\_176\\_G\\_B4\\_P140.mzXML & Group3E                                                           & Group3E                                                           & Group3E\\_Group3E                                                 & 0.1943122                                                        \\\\\n",
       "\t785 & X584\\_Group3E\\_142dpi\\_RV\\_bottom\\_179\\_G\\_B7\\_P140.mzXML & X582\\_Group3E\\_142dpi\\_RV\\_bottom\\_177\\_G\\_B5\\_P140.mzXML & Group3E                                                           & Group3E                                                           & Group3E\\_Group3E                                                 & 0.2947149                                                        \\\\\n",
       "\t786 & X584\\_Group3E\\_142dpi\\_RV\\_bottom\\_179\\_G\\_B7\\_P140.mzXML & X583\\_Group3E\\_142dpi\\_RV\\_bottom\\_178\\_G\\_B6\\_P140.mzXML & Group3E                                                           & Group3E                                                           & Group3E\\_Group3E                                                 & 0.3920517                                                        \\\\\n",
       "\\end{tabular}\n"
      ],
      "text/markdown": [
       "\n",
       "| <!--/--> | SubjectID1 | SubjectID2 | Group1 | Group2 | group_name | Distance |\n",
       "|---|---|---|---|---|---|---|\n",
       "| 781 | X582_Group3E_142dpi_RV_bottom_177_G_B5_P140.mzXML | X581_Group3E_142dpi_RV_bottom_176_G_B4_P140.mzXML | Group3E                                           | Group3E                                           | Group3E_Group3E                                   | 0.2895959                                         |\n",
       "| 782 | X583_Group3E_142dpi_RV_bottom_178_G_B6_P140.mzXML | X581_Group3E_142dpi_RV_bottom_176_G_B4_P140.mzXML | Group3E                                           | Group3E                                           | Group3E_Group3E                                   | 0.4226372                                         |\n",
       "| 783 | X583_Group3E_142dpi_RV_bottom_178_G_B6_P140.mzXML | X582_Group3E_142dpi_RV_bottom_177_G_B5_P140.mzXML | Group3E                                           | Group3E                                           | Group3E_Group3E                                   | 0.3215914                                         |\n",
       "| 784 | X584_Group3E_142dpi_RV_bottom_179_G_B7_P140.mzXML | X581_Group3E_142dpi_RV_bottom_176_G_B4_P140.mzXML | Group3E                                           | Group3E                                           | Group3E_Group3E                                   | 0.1943122                                         |\n",
       "| 785 | X584_Group3E_142dpi_RV_bottom_179_G_B7_P140.mzXML | X582_Group3E_142dpi_RV_bottom_177_G_B5_P140.mzXML | Group3E                                           | Group3E                                           | Group3E_Group3E                                   | 0.2947149                                         |\n",
       "| 786 | X584_Group3E_142dpi_RV_bottom_179_G_B7_P140.mzXML | X583_Group3E_142dpi_RV_bottom_178_G_B6_P140.mzXML | Group3E                                           | Group3E                                           | Group3E_Group3E                                   | 0.3920517                                         |\n",
       "\n"
      ],
      "text/plain": [
       "    SubjectID1                                       \n",
       "781 X582_Group3E_142dpi_RV_bottom_177_G_B5_P140.mzXML\n",
       "782 X583_Group3E_142dpi_RV_bottom_178_G_B6_P140.mzXML\n",
       "783 X583_Group3E_142dpi_RV_bottom_178_G_B6_P140.mzXML\n",
       "784 X584_Group3E_142dpi_RV_bottom_179_G_B7_P140.mzXML\n",
       "785 X584_Group3E_142dpi_RV_bottom_179_G_B7_P140.mzXML\n",
       "786 X584_Group3E_142dpi_RV_bottom_179_G_B7_P140.mzXML\n",
       "    SubjectID2                                        Group1  Group2 \n",
       "781 X581_Group3E_142dpi_RV_bottom_176_G_B4_P140.mzXML Group3E Group3E\n",
       "782 X581_Group3E_142dpi_RV_bottom_176_G_B4_P140.mzXML Group3E Group3E\n",
       "783 X582_Group3E_142dpi_RV_bottom_177_G_B5_P140.mzXML Group3E Group3E\n",
       "784 X581_Group3E_142dpi_RV_bottom_176_G_B4_P140.mzXML Group3E Group3E\n",
       "785 X582_Group3E_142dpi_RV_bottom_177_G_B5_P140.mzXML Group3E Group3E\n",
       "786 X583_Group3E_142dpi_RV_bottom_178_G_B6_P140.mzXML Group3E Group3E\n",
       "    group_name      Distance \n",
       "781 Group3E_Group3E 0.2895959\n",
       "782 Group3E_Group3E 0.4226372\n",
       "783 Group3E_Group3E 0.3215914\n",
       "784 Group3E_Group3E 0.1943122\n",
       "785 Group3E_Group3E 0.2947149\n",
       "786 Group3E_Group3E 0.3920517"
      ]
     },
     "metadata": {},
     "output_type": "display_data"
    },
    {
     "data": {
      "text/html": [
       "<ol class=list-inline>\n",
       "\t<li>555</li>\n",
       "\t<li>6</li>\n",
       "</ol>\n"
      ],
      "text/latex": [
       "\\begin{enumerate*}\n",
       "\\item 555\n",
       "\\item 6\n",
       "\\end{enumerate*}\n"
      ],
      "text/markdown": [
       "1. 555\n",
       "2. 6\n",
       "\n",
       "\n"
      ],
      "text/plain": [
       "[1] 555   6"
      ]
     },
     "metadata": {},
     "output_type": "display_data"
    },
    {
     "data": {
      "text/plain": [
       "\n",
       "Group15_Group15 Group15_Group1C Group15_Group3E  Group15_Group9 Group1C_Group15 \n",
       "            105             225             225             225             225 \n",
       "Group1C_Group1C Group1C_Group3E  Group1C_Group9 Group3E_Group15 Group3E_Group1C \n",
       "            105             225             225             225             225 \n",
       "Group3E_Group3E  Group3E_Group9  Group9_Group15  Group9_Group1C  Group9_Group3E \n",
       "            105             225             225             225             225 \n",
       "  Group9_Group9 \n",
       "            105 "
      ]
     },
     "metadata": {},
     "output_type": "display_data"
    },
    {
     "data": {
      "text/plain": [
       "\n",
       "Group15_Group3E Group3E_Group3E  Group3E_Group9 \n",
       "            225             105             225 "
      ]
     },
     "metadata": {},
     "output_type": "display_data"
    },
    {
     "name": "stderr",
     "output_type": "stream",
     "text": [
      "Dunn (1964) Kruskal-Wallis multiple comparison\n",
      "  p-values adjusted with the Benjamini-Hochberg method.\n",
      "\n"
     ]
    },
    {
     "data": {
      "text/plain": [
       "                         Comparison         Z      P.unadj        P.adj\n",
       "1 Group15_Group3E - Group3E_Group3E -1.587703 1.123535e-01 1.123535e-01\n",
       "2  Group15_Group3E - Group3E_Group9 -5.574815 2.477937e-08 7.433810e-08\n",
       "3  Group3E_Group3E - Group3E_Group9 -2.859460 4.243624e-03 6.365436e-03"
      ]
     },
     "metadata": {},
     "output_type": "display_data"
    }
   ],
   "source": [
    "# data for 3E to the other\n",
    "d<-droplevels(subset(a, a$group_name==c(\"Group3E_Group3E\")|a$group_name==c(\"Group3E_Group9\")|a$group_name==c(\"Group15_Group3E\")))\n",
    "head(d)\n",
    "dim(d)\n",
    "table(a$group_name)\n",
    "table(d$group_name)\n",
    "d$group_name <- factor(d$group_name, levels=c('Group3E_Group3E', 'Group3E_Group9', \"Group15_Group3E\"))\n",
    "dunnTest(d$Distance ~ d$group_name, method=\"bh\")"
   ]
  },
  {
   "cell_type": "code",
   "execution_count": null,
   "metadata": {},
   "outputs": [],
   "source": []
  },
  {
   "cell_type": "code",
   "execution_count": null,
   "metadata": {},
   "outputs": [],
   "source": []
  },
  {
   "cell_type": "code",
   "execution_count": null,
   "metadata": {},
   "outputs": [],
   "source": []
  },
  {
   "cell_type": "code",
   "execution_count": null,
   "metadata": {},
   "outputs": [],
   "source": []
  }
 ],
 "metadata": {
  "kernelspec": {
   "display_name": "R",
   "language": "R",
   "name": "ir"
  },
  "language_info": {
   "codemirror_mode": "r",
   "file_extension": ".r",
   "mimetype": "text/x-r-source",
   "name": "R",
   "pygments_lexer": "r",
   "version": "3.6.1"
  }
 },
 "nbformat": 4,
 "nbformat_minor": 4
}
