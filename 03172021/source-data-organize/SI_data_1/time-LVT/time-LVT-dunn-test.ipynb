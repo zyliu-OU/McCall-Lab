{
 "cells": [
  {
   "cell_type": "code",
   "execution_count": 1,
   "metadata": {},
   "outputs": [
    {
     "name": "stderr",
     "output_type": "stream",
     "text": [
      "Warning message:\n",
      "\"package 'FSA' was built under R version 3.6.3\"## FSA v0.8.32. See citation('FSA') if used in publication.\n",
      "## Run fishR() for related website and fishR('IFAR') for related book.\n",
      "Warning message:\n",
      "\"package 'ggplot2' was built under R version 3.6.3\""
     ]
    }
   ],
   "source": [
    "library(\"FSA\")\n",
    "library(ggplot2)"
   ]
  },
  {
   "cell_type": "code",
   "execution_count": 2,
   "metadata": {},
   "outputs": [],
   "source": [
    "# read data \n",
    "a <- read.csv(\"time-LVT-distance-data.csv\")"
   ]
  },
  {
   "cell_type": "code",
   "execution_count": 3,
   "metadata": {
    "scrolled": false
   },
   "outputs": [
    {
     "data": {
      "text/html": [
       "<table>\n",
       "<thead><tr><th scope=col>SubjectID1</th><th scope=col>SubjectID2</th><th scope=col>name</th><th scope=col>Distance</th></tr></thead>\n",
       "<tbody>\n",
       "\t<tr><td>X502_Group1A_50dpi_LV_top_252_B_A2_P129.mzXML</td><td>X501_Group1A_50dpi_LV_top_251_B_A1_P129.mzXML</td><td>Group1A_Group1A                              </td><td>0.2651082                                    </td></tr>\n",
       "\t<tr><td>X503_Group1A_50dpi_LV_top_253_B_A3_P129.mzXML</td><td>X501_Group1A_50dpi_LV_top_251_B_A1_P129.mzXML</td><td>Group1A_Group1A                              </td><td>0.3564579                                    </td></tr>\n",
       "\t<tr><td>X503_Group1A_50dpi_LV_top_253_B_A3_P129.mzXML</td><td>X502_Group1A_50dpi_LV_top_252_B_A2_P129.mzXML</td><td>Group1A_Group1A                              </td><td>0.3911525                                    </td></tr>\n",
       "\t<tr><td>X504_Group1A_50dpi_LV_top_254_B_A4_P129.mzXML</td><td>X501_Group1A_50dpi_LV_top_251_B_A1_P129.mzXML</td><td>Group1A_Group1A                              </td><td>0.2667739                                    </td></tr>\n",
       "\t<tr><td>X504_Group1A_50dpi_LV_top_254_B_A4_P129.mzXML</td><td>X502_Group1A_50dpi_LV_top_252_B_A2_P129.mzXML</td><td>Group1A_Group1A                              </td><td>0.2421885                                    </td></tr>\n",
       "\t<tr><td>X504_Group1A_50dpi_LV_top_254_B_A4_P129.mzXML</td><td>X503_Group1A_50dpi_LV_top_253_B_A3_P129.mzXML</td><td>Group1A_Group1A                              </td><td>0.3668168                                    </td></tr>\n",
       "</tbody>\n",
       "</table>\n"
      ],
      "text/latex": [
       "\\begin{tabular}{r|llll}\n",
       " SubjectID1 & SubjectID2 & name & Distance\\\\\n",
       "\\hline\n",
       "\t X502\\_Group1A\\_50dpi\\_LV\\_top\\_252\\_B\\_A2\\_P129.mzXML & X501\\_Group1A\\_50dpi\\_LV\\_top\\_251\\_B\\_A1\\_P129.mzXML & Group1A\\_Group1A                                             & 0.2651082                                                    \\\\\n",
       "\t X503\\_Group1A\\_50dpi\\_LV\\_top\\_253\\_B\\_A3\\_P129.mzXML & X501\\_Group1A\\_50dpi\\_LV\\_top\\_251\\_B\\_A1\\_P129.mzXML & Group1A\\_Group1A                                             & 0.3564579                                                    \\\\\n",
       "\t X503\\_Group1A\\_50dpi\\_LV\\_top\\_253\\_B\\_A3\\_P129.mzXML & X502\\_Group1A\\_50dpi\\_LV\\_top\\_252\\_B\\_A2\\_P129.mzXML & Group1A\\_Group1A                                             & 0.3911525                                                    \\\\\n",
       "\t X504\\_Group1A\\_50dpi\\_LV\\_top\\_254\\_B\\_A4\\_P129.mzXML & X501\\_Group1A\\_50dpi\\_LV\\_top\\_251\\_B\\_A1\\_P129.mzXML & Group1A\\_Group1A                                             & 0.2667739                                                    \\\\\n",
       "\t X504\\_Group1A\\_50dpi\\_LV\\_top\\_254\\_B\\_A4\\_P129.mzXML & X502\\_Group1A\\_50dpi\\_LV\\_top\\_252\\_B\\_A2\\_P129.mzXML & Group1A\\_Group1A                                             & 0.2421885                                                    \\\\\n",
       "\t X504\\_Group1A\\_50dpi\\_LV\\_top\\_254\\_B\\_A4\\_P129.mzXML & X503\\_Group1A\\_50dpi\\_LV\\_top\\_253\\_B\\_A3\\_P129.mzXML & Group1A\\_Group1A                                             & 0.3668168                                                    \\\\\n",
       "\\end{tabular}\n"
      ],
      "text/markdown": [
       "\n",
       "| SubjectID1 | SubjectID2 | name | Distance |\n",
       "|---|---|---|---|\n",
       "| X502_Group1A_50dpi_LV_top_252_B_A2_P129.mzXML | X501_Group1A_50dpi_LV_top_251_B_A1_P129.mzXML | Group1A_Group1A                               | 0.2651082                                     |\n",
       "| X503_Group1A_50dpi_LV_top_253_B_A3_P129.mzXML | X501_Group1A_50dpi_LV_top_251_B_A1_P129.mzXML | Group1A_Group1A                               | 0.3564579                                     |\n",
       "| X503_Group1A_50dpi_LV_top_253_B_A3_P129.mzXML | X502_Group1A_50dpi_LV_top_252_B_A2_P129.mzXML | Group1A_Group1A                               | 0.3911525                                     |\n",
       "| X504_Group1A_50dpi_LV_top_254_B_A4_P129.mzXML | X501_Group1A_50dpi_LV_top_251_B_A1_P129.mzXML | Group1A_Group1A                               | 0.2667739                                     |\n",
       "| X504_Group1A_50dpi_LV_top_254_B_A4_P129.mzXML | X502_Group1A_50dpi_LV_top_252_B_A2_P129.mzXML | Group1A_Group1A                               | 0.2421885                                     |\n",
       "| X504_Group1A_50dpi_LV_top_254_B_A4_P129.mzXML | X503_Group1A_50dpi_LV_top_253_B_A3_P129.mzXML | Group1A_Group1A                               | 0.3668168                                     |\n",
       "\n"
      ],
      "text/plain": [
       "  SubjectID1                                   \n",
       "1 X502_Group1A_50dpi_LV_top_252_B_A2_P129.mzXML\n",
       "2 X503_Group1A_50dpi_LV_top_253_B_A3_P129.mzXML\n",
       "3 X503_Group1A_50dpi_LV_top_253_B_A3_P129.mzXML\n",
       "4 X504_Group1A_50dpi_LV_top_254_B_A4_P129.mzXML\n",
       "5 X504_Group1A_50dpi_LV_top_254_B_A4_P129.mzXML\n",
       "6 X504_Group1A_50dpi_LV_top_254_B_A4_P129.mzXML\n",
       "  SubjectID2                                    name            Distance \n",
       "1 X501_Group1A_50dpi_LV_top_251_B_A1_P129.mzXML Group1A_Group1A 0.2651082\n",
       "2 X501_Group1A_50dpi_LV_top_251_B_A1_P129.mzXML Group1A_Group1A 0.3564579\n",
       "3 X502_Group1A_50dpi_LV_top_252_B_A2_P129.mzXML Group1A_Group1A 0.3911525\n",
       "4 X501_Group1A_50dpi_LV_top_251_B_A1_P129.mzXML Group1A_Group1A 0.2667739\n",
       "5 X502_Group1A_50dpi_LV_top_252_B_A2_P129.mzXML Group1A_Group1A 0.2421885\n",
       "6 X503_Group1A_50dpi_LV_top_253_B_A3_P129.mzXML Group1A_Group1A 0.3668168"
      ]
     },
     "metadata": {},
     "output_type": "display_data"
    },
    {
     "data": {
      "text/html": [
       "<ol class=list-inline>\n",
       "\t<li>7380</li>\n",
       "\t<li>4</li>\n",
       "</ol>\n"
      ],
      "text/latex": [
       "\\begin{enumerate*}\n",
       "\\item 7380\n",
       "\\item 4\n",
       "\\end{enumerate*}\n"
      ],
      "text/markdown": [
       "1. 7380\n",
       "2. 4\n",
       "\n",
       "\n"
      ],
      "text/plain": [
       "[1] 7380    4"
      ]
     },
     "metadata": {},
     "output_type": "display_data"
    }
   ],
   "source": [
    "head(a)\n",
    "dim(a)"
   ]
  },
  {
   "cell_type": "code",
   "execution_count": 4,
   "metadata": {},
   "outputs": [
    {
     "data": {
      "text/plain": [
       "\n",
       "Group1A_Group1A Group1A_Group1B Group1A_Group1C Group1A_Group3A Group1A_Group3B \n",
       "            105             225             225             225             225 \n",
       "Group1A_Group3E Group1B_Group1A Group1B_Group1B Group1B_Group1C Group1B_Group3A \n",
       "            225             225             105             225             225 \n",
       "Group1B_Group3B Group1B_Group3E Group1C_Group1A Group1C_Group1B Group1C_Group1C \n",
       "            225             225             225             225             105 \n",
       "Group1C_Group3A Group1C_Group3B Group1C_Group3E Group3A_Group1A Group3A_Group1B \n",
       "            225             225             225             225             225 \n",
       "Group3A_Group1C Group3A_Group3A Group3A_Group3B Group3A_Group3E Group3B_Group1A \n",
       "            225             105             225             225             225 \n",
       "Group3B_Group1B Group3B_Group1C Group3B_Group3A Group3B_Group3B Group3B_Group3E \n",
       "            225             225             225             105             225 \n",
       "Group3E_Group1A Group3E_Group1B Group3E_Group1C Group3E_Group3A Group3E_Group3B \n",
       "            225             225             225             225             225 \n",
       "Group3E_Group3E \n",
       "            105 "
      ]
     },
     "metadata": {},
     "output_type": "display_data"
    }
   ],
   "source": [
    "table(a$name)"
   ]
  },
  {
   "cell_type": "code",
   "execution_count": 5,
   "metadata": {},
   "outputs": [],
   "source": [
    "b<-droplevels(subset(a, a$name==c(\"Group3A_Group1A\")|a$name==c(\"Group3B_Group1B\")|a$name==c(\"Group3E_Group1C\")))"
   ]
  },
  {
   "cell_type": "code",
   "execution_count": 6,
   "metadata": {},
   "outputs": [
    {
     "data": {
      "text/html": [
       "<table>\n",
       "<thead><tr><th></th><th scope=col>SubjectID1</th><th scope=col>SubjectID2</th><th scope=col>name</th><th scope=col>Distance</th></tr></thead>\n",
       "<tbody>\n",
       "\t<tr><th scope=row>3796</th><td>X561_Group3A_50dpi_LV_top_266_B_B4_P129.mzXML</td><td>X501_Group1A_50dpi_LV_top_251_B_A1_P129.mzXML</td><td>Group3A_Group1A                              </td><td>0.4211511                                    </td></tr>\n",
       "\t<tr><th scope=row>3797</th><td>X561_Group3A_50dpi_LV_top_266_B_B4_P129.mzXML</td><td>X502_Group1A_50dpi_LV_top_252_B_A2_P129.mzXML</td><td>Group3A_Group1A                              </td><td>0.5196210                                    </td></tr>\n",
       "\t<tr><th scope=row>3798</th><td>X561_Group3A_50dpi_LV_top_266_B_B4_P129.mzXML</td><td>X503_Group1A_50dpi_LV_top_253_B_A3_P129.mzXML</td><td>Group3A_Group1A                              </td><td>0.3425132                                    </td></tr>\n",
       "\t<tr><th scope=row>3799</th><td>X561_Group3A_50dpi_LV_top_266_B_B4_P129.mzXML</td><td>X504_Group1A_50dpi_LV_top_254_B_A4_P129.mzXML</td><td>Group3A_Group1A                              </td><td>0.4805328                                    </td></tr>\n",
       "\t<tr><th scope=row>3800</th><td>X561_Group3A_50dpi_LV_top_266_B_B4_P129.mzXML</td><td>X505_Group1A_50dpi_LV_top_255_B_A5_P129.mzXML</td><td>Group3A_Group1A                              </td><td>0.4406522                                    </td></tr>\n",
       "\t<tr><th scope=row>3801</th><td>X561_Group3A_50dpi_LV_top_266_B_B4_P129.mzXML</td><td>X521_Group1A_50dpi_LV_top_256_B_A6_P129.mzXML</td><td>Group3A_Group1A                              </td><td>0.4916756                                    </td></tr>\n",
       "</tbody>\n",
       "</table>\n"
      ],
      "text/latex": [
       "\\begin{tabular}{r|llll}\n",
       "  & SubjectID1 & SubjectID2 & name & Distance\\\\\n",
       "\\hline\n",
       "\t3796 & X561\\_Group3A\\_50dpi\\_LV\\_top\\_266\\_B\\_B4\\_P129.mzXML & X501\\_Group1A\\_50dpi\\_LV\\_top\\_251\\_B\\_A1\\_P129.mzXML & Group3A\\_Group1A                                             & 0.4211511                                                    \\\\\n",
       "\t3797 & X561\\_Group3A\\_50dpi\\_LV\\_top\\_266\\_B\\_B4\\_P129.mzXML & X502\\_Group1A\\_50dpi\\_LV\\_top\\_252\\_B\\_A2\\_P129.mzXML & Group3A\\_Group1A                                             & 0.5196210                                                    \\\\\n",
       "\t3798 & X561\\_Group3A\\_50dpi\\_LV\\_top\\_266\\_B\\_B4\\_P129.mzXML & X503\\_Group1A\\_50dpi\\_LV\\_top\\_253\\_B\\_A3\\_P129.mzXML & Group3A\\_Group1A                                             & 0.3425132                                                    \\\\\n",
       "\t3799 & X561\\_Group3A\\_50dpi\\_LV\\_top\\_266\\_B\\_B4\\_P129.mzXML & X504\\_Group1A\\_50dpi\\_LV\\_top\\_254\\_B\\_A4\\_P129.mzXML & Group3A\\_Group1A                                             & 0.4805328                                                    \\\\\n",
       "\t3800 & X561\\_Group3A\\_50dpi\\_LV\\_top\\_266\\_B\\_B4\\_P129.mzXML & X505\\_Group1A\\_50dpi\\_LV\\_top\\_255\\_B\\_A5\\_P129.mzXML & Group3A\\_Group1A                                             & 0.4406522                                                    \\\\\n",
       "\t3801 & X561\\_Group3A\\_50dpi\\_LV\\_top\\_266\\_B\\_B4\\_P129.mzXML & X521\\_Group1A\\_50dpi\\_LV\\_top\\_256\\_B\\_A6\\_P129.mzXML & Group3A\\_Group1A                                             & 0.4916756                                                    \\\\\n",
       "\\end{tabular}\n"
      ],
      "text/markdown": [
       "\n",
       "| <!--/--> | SubjectID1 | SubjectID2 | name | Distance |\n",
       "|---|---|---|---|---|\n",
       "| 3796 | X561_Group3A_50dpi_LV_top_266_B_B4_P129.mzXML | X501_Group1A_50dpi_LV_top_251_B_A1_P129.mzXML | Group3A_Group1A                               | 0.4211511                                     |\n",
       "| 3797 | X561_Group3A_50dpi_LV_top_266_B_B4_P129.mzXML | X502_Group1A_50dpi_LV_top_252_B_A2_P129.mzXML | Group3A_Group1A                               | 0.5196210                                     |\n",
       "| 3798 | X561_Group3A_50dpi_LV_top_266_B_B4_P129.mzXML | X503_Group1A_50dpi_LV_top_253_B_A3_P129.mzXML | Group3A_Group1A                               | 0.3425132                                     |\n",
       "| 3799 | X561_Group3A_50dpi_LV_top_266_B_B4_P129.mzXML | X504_Group1A_50dpi_LV_top_254_B_A4_P129.mzXML | Group3A_Group1A                               | 0.4805328                                     |\n",
       "| 3800 | X561_Group3A_50dpi_LV_top_266_B_B4_P129.mzXML | X505_Group1A_50dpi_LV_top_255_B_A5_P129.mzXML | Group3A_Group1A                               | 0.4406522                                     |\n",
       "| 3801 | X561_Group3A_50dpi_LV_top_266_B_B4_P129.mzXML | X521_Group1A_50dpi_LV_top_256_B_A6_P129.mzXML | Group3A_Group1A                               | 0.4916756                                     |\n",
       "\n"
      ],
      "text/plain": [
       "     SubjectID1                                   \n",
       "3796 X561_Group3A_50dpi_LV_top_266_B_B4_P129.mzXML\n",
       "3797 X561_Group3A_50dpi_LV_top_266_B_B4_P129.mzXML\n",
       "3798 X561_Group3A_50dpi_LV_top_266_B_B4_P129.mzXML\n",
       "3799 X561_Group3A_50dpi_LV_top_266_B_B4_P129.mzXML\n",
       "3800 X561_Group3A_50dpi_LV_top_266_B_B4_P129.mzXML\n",
       "3801 X561_Group3A_50dpi_LV_top_266_B_B4_P129.mzXML\n",
       "     SubjectID2                                    name            Distance \n",
       "3796 X501_Group1A_50dpi_LV_top_251_B_A1_P129.mzXML Group3A_Group1A 0.4211511\n",
       "3797 X502_Group1A_50dpi_LV_top_252_B_A2_P129.mzXML Group3A_Group1A 0.5196210\n",
       "3798 X503_Group1A_50dpi_LV_top_253_B_A3_P129.mzXML Group3A_Group1A 0.3425132\n",
       "3799 X504_Group1A_50dpi_LV_top_254_B_A4_P129.mzXML Group3A_Group1A 0.4805328\n",
       "3800 X505_Group1A_50dpi_LV_top_255_B_A5_P129.mzXML Group3A_Group1A 0.4406522\n",
       "3801 X521_Group1A_50dpi_LV_top_256_B_A6_P129.mzXML Group3A_Group1A 0.4916756"
      ]
     },
     "metadata": {},
     "output_type": "display_data"
    },
    {
     "data": {
      "text/html": [
       "<ol class=list-inline>\n",
       "\t<li>675</li>\n",
       "\t<li>4</li>\n",
       "</ol>\n"
      ],
      "text/latex": [
       "\\begin{enumerate*}\n",
       "\\item 675\n",
       "\\item 4\n",
       "\\end{enumerate*}\n"
      ],
      "text/markdown": [
       "1. 675\n",
       "2. 4\n",
       "\n",
       "\n"
      ],
      "text/plain": [
       "[1] 675   4"
      ]
     },
     "metadata": {},
     "output_type": "display_data"
    }
   ],
   "source": [
    "head(b)\n",
    "dim(b)"
   ]
  },
  {
   "cell_type": "code",
   "execution_count": 7,
   "metadata": {},
   "outputs": [
    {
     "data": {
      "text/plain": [
       "\n",
       "Group1A_Group1A Group1A_Group1B Group1A_Group1C Group1A_Group3A Group1A_Group3B \n",
       "            105             225             225             225             225 \n",
       "Group1A_Group3E Group1B_Group1A Group1B_Group1B Group1B_Group1C Group1B_Group3A \n",
       "            225             225             105             225             225 \n",
       "Group1B_Group3B Group1B_Group3E Group1C_Group1A Group1C_Group1B Group1C_Group1C \n",
       "            225             225             225             225             105 \n",
       "Group1C_Group3A Group1C_Group3B Group1C_Group3E Group3A_Group1A Group3A_Group1B \n",
       "            225             225             225             225             225 \n",
       "Group3A_Group1C Group3A_Group3A Group3A_Group3B Group3A_Group3E Group3B_Group1A \n",
       "            225             105             225             225             225 \n",
       "Group3B_Group1B Group3B_Group1C Group3B_Group3A Group3B_Group3B Group3B_Group3E \n",
       "            225             225             225             105             225 \n",
       "Group3E_Group1A Group3E_Group1B Group3E_Group1C Group3E_Group3A Group3E_Group3B \n",
       "            225             225             225             225             225 \n",
       "Group3E_Group3E \n",
       "            105 "
      ]
     },
     "metadata": {},
     "output_type": "display_data"
    },
    {
     "data": {
      "text/plain": [
       "\n",
       "Group3A_Group1A Group3B_Group1B Group3E_Group1C \n",
       "            225             225             225 "
      ]
     },
     "metadata": {},
     "output_type": "display_data"
    }
   ],
   "source": [
    "table(a$name)\n",
    "table(b$name)"
   ]
  },
  {
   "cell_type": "code",
   "execution_count": 9,
   "metadata": {},
   "outputs": [
    {
     "name": "stderr",
     "output_type": "stream",
     "text": [
      "Dunn (1964) Kruskal-Wallis multiple comparison\n",
      "  p-values adjusted with the Benjamini-Hochberg method.\n",
      "\n"
     ]
    },
    {
     "data": {
      "text/plain": [
       "                         Comparison         Z     P.unadj       P.adj\n",
       "1 Group3A_Group1A - Group3B_Group1B  3.032219 0.002427631 0.007282892\n",
       "2 Group3A_Group1A - Group3E_Group1C  1.867487 0.061833591 0.092750387\n",
       "3 Group3B_Group1B - Group3E_Group1C -1.164732 0.244127579 0.244127579"
      ]
     },
     "metadata": {},
     "output_type": "display_data"
    }
   ],
   "source": [
    "dunnTest(b$Distance ~ b$name, method=\"bh\")"
   ]
  },
  {
   "cell_type": "code",
   "execution_count": null,
   "metadata": {},
   "outputs": [],
   "source": []
  },
  {
   "cell_type": "code",
   "execution_count": null,
   "metadata": {},
   "outputs": [],
   "source": []
  },
  {
   "cell_type": "code",
   "execution_count": null,
   "metadata": {},
   "outputs": [],
   "source": []
  }
 ],
 "metadata": {
  "kernelspec": {
   "display_name": "R",
   "language": "R",
   "name": "ir"
  },
  "language_info": {
   "codemirror_mode": "r",
   "file_extension": ".r",
   "mimetype": "text/x-r-source",
   "name": "R",
   "pygments_lexer": "r",
   "version": "3.6.1"
  }
 },
 "nbformat": 4,
 "nbformat_minor": 4
}
