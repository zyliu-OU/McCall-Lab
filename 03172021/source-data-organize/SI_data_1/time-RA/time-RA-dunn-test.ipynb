{
 "cells": [
  {
   "cell_type": "code",
   "execution_count": 1,
   "metadata": {},
   "outputs": [
    {
     "name": "stderr",
     "output_type": "stream",
     "text": [
      "Warning message:\n",
      "\"package 'FSA' was built under R version 3.6.3\"## FSA v0.8.32. See citation('FSA') if used in publication.\n",
      "## Run fishR() for related website and fishR('IFAR') for related book.\n",
      "Warning message:\n",
      "\"package 'ggplot2' was built under R version 3.6.3\""
     ]
    }
   ],
   "source": [
    "library(\"FSA\")\n",
    "library(ggplot2)"
   ]
  },
  {
   "cell_type": "code",
   "execution_count": 2,
   "metadata": {},
   "outputs": [],
   "source": [
    "# read data \n",
    "a <- read.csv(\"time-RA-distance-data.csv\")"
   ]
  },
  {
   "cell_type": "code",
   "execution_count": 3,
   "metadata": {
    "scrolled": false
   },
   "outputs": [
    {
     "data": {
      "text/html": [
       "<table>\n",
       "<thead><tr><th scope=col>SubjectID1</th><th scope=col>SubjectID2</th><th scope=col>name</th><th scope=col>Distance</th></tr></thead>\n",
       "<tbody>\n",
       "\t<tr><td>X502_Group1A_50dpi_RA_252_B_A2_P125.mzXML</td><td>X501_Group1A_50dpi_RA_251_B_A1_P125.mzXML</td><td>Group1A_Group1A                          </td><td>0.6333185                                </td></tr>\n",
       "\t<tr><td>X503_Group1A_50dpi_RA_253_B_A3_P125.mzXML</td><td>X501_Group1A_50dpi_RA_251_B_A1_P125.mzXML</td><td>Group1A_Group1A                          </td><td>0.4138731                                </td></tr>\n",
       "\t<tr><td>X503_Group1A_50dpi_RA_253_B_A3_P125.mzXML</td><td>X502_Group1A_50dpi_RA_252_B_A2_P125.mzXML</td><td>Group1A_Group1A                          </td><td>0.5325514                                </td></tr>\n",
       "\t<tr><td>X504_Group1A_50dpi_RA_254_B_A4_P125.mzXML</td><td>X501_Group1A_50dpi_RA_251_B_A1_P125.mzXML</td><td>Group1A_Group1A                          </td><td>0.6086511                                </td></tr>\n",
       "\t<tr><td>X504_Group1A_50dpi_RA_254_B_A4_P125.mzXML</td><td>X502_Group1A_50dpi_RA_252_B_A2_P125.mzXML</td><td>Group1A_Group1A                          </td><td>0.3491508                                </td></tr>\n",
       "\t<tr><td>X504_Group1A_50dpi_RA_254_B_A4_P125.mzXML</td><td>X503_Group1A_50dpi_RA_253_B_A3_P125.mzXML</td><td>Group1A_Group1A                          </td><td>0.4265077                                </td></tr>\n",
       "</tbody>\n",
       "</table>\n"
      ],
      "text/latex": [
       "\\begin{tabular}{r|llll}\n",
       " SubjectID1 & SubjectID2 & name & Distance\\\\\n",
       "\\hline\n",
       "\t X502\\_Group1A\\_50dpi\\_RA\\_252\\_B\\_A2\\_P125.mzXML & X501\\_Group1A\\_50dpi\\_RA\\_251\\_B\\_A1\\_P125.mzXML & Group1A\\_Group1A                                       & 0.6333185                                              \\\\\n",
       "\t X503\\_Group1A\\_50dpi\\_RA\\_253\\_B\\_A3\\_P125.mzXML & X501\\_Group1A\\_50dpi\\_RA\\_251\\_B\\_A1\\_P125.mzXML & Group1A\\_Group1A                                       & 0.4138731                                              \\\\\n",
       "\t X503\\_Group1A\\_50dpi\\_RA\\_253\\_B\\_A3\\_P125.mzXML & X502\\_Group1A\\_50dpi\\_RA\\_252\\_B\\_A2\\_P125.mzXML & Group1A\\_Group1A                                       & 0.5325514                                              \\\\\n",
       "\t X504\\_Group1A\\_50dpi\\_RA\\_254\\_B\\_A4\\_P125.mzXML & X501\\_Group1A\\_50dpi\\_RA\\_251\\_B\\_A1\\_P125.mzXML & Group1A\\_Group1A                                       & 0.6086511                                              \\\\\n",
       "\t X504\\_Group1A\\_50dpi\\_RA\\_254\\_B\\_A4\\_P125.mzXML & X502\\_Group1A\\_50dpi\\_RA\\_252\\_B\\_A2\\_P125.mzXML & Group1A\\_Group1A                                       & 0.3491508                                              \\\\\n",
       "\t X504\\_Group1A\\_50dpi\\_RA\\_254\\_B\\_A4\\_P125.mzXML & X503\\_Group1A\\_50dpi\\_RA\\_253\\_B\\_A3\\_P125.mzXML & Group1A\\_Group1A                                       & 0.4265077                                              \\\\\n",
       "\\end{tabular}\n"
      ],
      "text/markdown": [
       "\n",
       "| SubjectID1 | SubjectID2 | name | Distance |\n",
       "|---|---|---|---|\n",
       "| X502_Group1A_50dpi_RA_252_B_A2_P125.mzXML | X501_Group1A_50dpi_RA_251_B_A1_P125.mzXML | Group1A_Group1A                           | 0.6333185                                 |\n",
       "| X503_Group1A_50dpi_RA_253_B_A3_P125.mzXML | X501_Group1A_50dpi_RA_251_B_A1_P125.mzXML | Group1A_Group1A                           | 0.4138731                                 |\n",
       "| X503_Group1A_50dpi_RA_253_B_A3_P125.mzXML | X502_Group1A_50dpi_RA_252_B_A2_P125.mzXML | Group1A_Group1A                           | 0.5325514                                 |\n",
       "| X504_Group1A_50dpi_RA_254_B_A4_P125.mzXML | X501_Group1A_50dpi_RA_251_B_A1_P125.mzXML | Group1A_Group1A                           | 0.6086511                                 |\n",
       "| X504_Group1A_50dpi_RA_254_B_A4_P125.mzXML | X502_Group1A_50dpi_RA_252_B_A2_P125.mzXML | Group1A_Group1A                           | 0.3491508                                 |\n",
       "| X504_Group1A_50dpi_RA_254_B_A4_P125.mzXML | X503_Group1A_50dpi_RA_253_B_A3_P125.mzXML | Group1A_Group1A                           | 0.4265077                                 |\n",
       "\n"
      ],
      "text/plain": [
       "  SubjectID1                               \n",
       "1 X502_Group1A_50dpi_RA_252_B_A2_P125.mzXML\n",
       "2 X503_Group1A_50dpi_RA_253_B_A3_P125.mzXML\n",
       "3 X503_Group1A_50dpi_RA_253_B_A3_P125.mzXML\n",
       "4 X504_Group1A_50dpi_RA_254_B_A4_P125.mzXML\n",
       "5 X504_Group1A_50dpi_RA_254_B_A4_P125.mzXML\n",
       "6 X504_Group1A_50dpi_RA_254_B_A4_P125.mzXML\n",
       "  SubjectID2                                name            Distance \n",
       "1 X501_Group1A_50dpi_RA_251_B_A1_P125.mzXML Group1A_Group1A 0.6333185\n",
       "2 X501_Group1A_50dpi_RA_251_B_A1_P125.mzXML Group1A_Group1A 0.4138731\n",
       "3 X502_Group1A_50dpi_RA_252_B_A2_P125.mzXML Group1A_Group1A 0.5325514\n",
       "4 X501_Group1A_50dpi_RA_251_B_A1_P125.mzXML Group1A_Group1A 0.6086511\n",
       "5 X502_Group1A_50dpi_RA_252_B_A2_P125.mzXML Group1A_Group1A 0.3491508\n",
       "6 X503_Group1A_50dpi_RA_253_B_A3_P125.mzXML Group1A_Group1A 0.4265077"
      ]
     },
     "metadata": {},
     "output_type": "display_data"
    },
    {
     "data": {
      "text/html": [
       "<ol class=list-inline>\n",
       "\t<li>7380</li>\n",
       "\t<li>4</li>\n",
       "</ol>\n"
      ],
      "text/latex": [
       "\\begin{enumerate*}\n",
       "\\item 7380\n",
       "\\item 4\n",
       "\\end{enumerate*}\n"
      ],
      "text/markdown": [
       "1. 7380\n",
       "2. 4\n",
       "\n",
       "\n"
      ],
      "text/plain": [
       "[1] 7380    4"
      ]
     },
     "metadata": {},
     "output_type": "display_data"
    }
   ],
   "source": [
    "head(a)\n",
    "dim(a)"
   ]
  },
  {
   "cell_type": "code",
   "execution_count": 4,
   "metadata": {},
   "outputs": [
    {
     "data": {
      "text/plain": [
       "\n",
       "Group1A_Group1A Group1A_Group1B Group1A_Group1C Group1A_Group3A Group1A_Group3B \n",
       "            105             225             225             225             225 \n",
       "Group1A_Group3E Group1B_Group1A Group1B_Group1B Group1B_Group1C Group1B_Group3A \n",
       "            225             225             105             225             225 \n",
       "Group1B_Group3B Group1B_Group3E Group1C_Group1A Group1C_Group1B Group1C_Group1C \n",
       "            225             225             225             225             105 \n",
       "Group1C_Group3A Group1C_Group3B Group1C_Group3E Group3A_Group1A Group3A_Group1B \n",
       "            225             225             225             225             225 \n",
       "Group3A_Group1C Group3A_Group3A Group3A_Group3B Group3A_Group3E Group3B_Group1A \n",
       "            225             105             225             225             225 \n",
       "Group3B_Group1B Group3B_Group1C Group3B_Group3A Group3B_Group3B Group3B_Group3E \n",
       "            225             225             225             105             225 \n",
       "Group3E_Group1A Group3E_Group1B Group3E_Group1C Group3E_Group3A Group3E_Group3B \n",
       "            225             225             225             225             225 \n",
       "Group3E_Group3E \n",
       "            105 "
      ]
     },
     "metadata": {},
     "output_type": "display_data"
    }
   ],
   "source": [
    "table(a$name)"
   ]
  },
  {
   "cell_type": "code",
   "execution_count": 5,
   "metadata": {},
   "outputs": [],
   "source": [
    "b<-droplevels(subset(a, a$name==c(\"Group3A_Group1A\")|a$name==c(\"Group3B_Group1B\")|a$name==c(\"Group3E_Group1C\")))"
   ]
  },
  {
   "cell_type": "code",
   "execution_count": 6,
   "metadata": {},
   "outputs": [
    {
     "data": {
      "text/html": [
       "<table>\n",
       "<thead><tr><th></th><th scope=col>SubjectID1</th><th scope=col>SubjectID2</th><th scope=col>name</th><th scope=col>Distance</th></tr></thead>\n",
       "<tbody>\n",
       "\t<tr><th scope=row>3796</th><td>X561_Group3A_50dpi_RA_266_B_B4_P125.mzXML</td><td>X501_Group1A_50dpi_RA_251_B_A1_P125.mzXML</td><td>Group3A_Group1A                          </td><td>0.6711845                                </td></tr>\n",
       "\t<tr><th scope=row>3797</th><td>X561_Group3A_50dpi_RA_266_B_B4_P125.mzXML</td><td>X502_Group1A_50dpi_RA_252_B_A2_P125.mzXML</td><td>Group3A_Group1A                          </td><td>0.4464247                                </td></tr>\n",
       "\t<tr><th scope=row>3798</th><td>X561_Group3A_50dpi_RA_266_B_B4_P125.mzXML</td><td>X503_Group1A_50dpi_RA_253_B_A3_P125.mzXML</td><td>Group3A_Group1A                          </td><td>0.5287466                                </td></tr>\n",
       "\t<tr><th scope=row>3799</th><td>X561_Group3A_50dpi_RA_266_B_B4_P125.mzXML</td><td>X504_Group1A_50dpi_RA_254_B_A4_P125.mzXML</td><td>Group3A_Group1A                          </td><td>0.2989420                                </td></tr>\n",
       "\t<tr><th scope=row>3800</th><td>X561_Group3A_50dpi_RA_266_B_B4_P125.mzXML</td><td>X505_Group1A_50dpi_RA_255_B_A5_P125.mzXML</td><td>Group3A_Group1A                          </td><td>0.5324147                                </td></tr>\n",
       "\t<tr><th scope=row>3801</th><td>X561_Group3A_50dpi_RA_266_B_B4_P125.mzXML</td><td>X521_Group1A_50dpi_RA_256_B_A6_P125.mzXML</td><td>Group3A_Group1A                          </td><td>0.4119169                                </td></tr>\n",
       "</tbody>\n",
       "</table>\n"
      ],
      "text/latex": [
       "\\begin{tabular}{r|llll}\n",
       "  & SubjectID1 & SubjectID2 & name & Distance\\\\\n",
       "\\hline\n",
       "\t3796 & X561\\_Group3A\\_50dpi\\_RA\\_266\\_B\\_B4\\_P125.mzXML & X501\\_Group1A\\_50dpi\\_RA\\_251\\_B\\_A1\\_P125.mzXML & Group3A\\_Group1A                                       & 0.6711845                                              \\\\\n",
       "\t3797 & X561\\_Group3A\\_50dpi\\_RA\\_266\\_B\\_B4\\_P125.mzXML & X502\\_Group1A\\_50dpi\\_RA\\_252\\_B\\_A2\\_P125.mzXML & Group3A\\_Group1A                                       & 0.4464247                                              \\\\\n",
       "\t3798 & X561\\_Group3A\\_50dpi\\_RA\\_266\\_B\\_B4\\_P125.mzXML & X503\\_Group1A\\_50dpi\\_RA\\_253\\_B\\_A3\\_P125.mzXML & Group3A\\_Group1A                                       & 0.5287466                                              \\\\\n",
       "\t3799 & X561\\_Group3A\\_50dpi\\_RA\\_266\\_B\\_B4\\_P125.mzXML & X504\\_Group1A\\_50dpi\\_RA\\_254\\_B\\_A4\\_P125.mzXML & Group3A\\_Group1A                                       & 0.2989420                                              \\\\\n",
       "\t3800 & X561\\_Group3A\\_50dpi\\_RA\\_266\\_B\\_B4\\_P125.mzXML & X505\\_Group1A\\_50dpi\\_RA\\_255\\_B\\_A5\\_P125.mzXML & Group3A\\_Group1A                                       & 0.5324147                                              \\\\\n",
       "\t3801 & X561\\_Group3A\\_50dpi\\_RA\\_266\\_B\\_B4\\_P125.mzXML & X521\\_Group1A\\_50dpi\\_RA\\_256\\_B\\_A6\\_P125.mzXML & Group3A\\_Group1A                                       & 0.4119169                                              \\\\\n",
       "\\end{tabular}\n"
      ],
      "text/markdown": [
       "\n",
       "| <!--/--> | SubjectID1 | SubjectID2 | name | Distance |\n",
       "|---|---|---|---|---|\n",
       "| 3796 | X561_Group3A_50dpi_RA_266_B_B4_P125.mzXML | X501_Group1A_50dpi_RA_251_B_A1_P125.mzXML | Group3A_Group1A                           | 0.6711845                                 |\n",
       "| 3797 | X561_Group3A_50dpi_RA_266_B_B4_P125.mzXML | X502_Group1A_50dpi_RA_252_B_A2_P125.mzXML | Group3A_Group1A                           | 0.4464247                                 |\n",
       "| 3798 | X561_Group3A_50dpi_RA_266_B_B4_P125.mzXML | X503_Group1A_50dpi_RA_253_B_A3_P125.mzXML | Group3A_Group1A                           | 0.5287466                                 |\n",
       "| 3799 | X561_Group3A_50dpi_RA_266_B_B4_P125.mzXML | X504_Group1A_50dpi_RA_254_B_A4_P125.mzXML | Group3A_Group1A                           | 0.2989420                                 |\n",
       "| 3800 | X561_Group3A_50dpi_RA_266_B_B4_P125.mzXML | X505_Group1A_50dpi_RA_255_B_A5_P125.mzXML | Group3A_Group1A                           | 0.5324147                                 |\n",
       "| 3801 | X561_Group3A_50dpi_RA_266_B_B4_P125.mzXML | X521_Group1A_50dpi_RA_256_B_A6_P125.mzXML | Group3A_Group1A                           | 0.4119169                                 |\n",
       "\n"
      ],
      "text/plain": [
       "     SubjectID1                               \n",
       "3796 X561_Group3A_50dpi_RA_266_B_B4_P125.mzXML\n",
       "3797 X561_Group3A_50dpi_RA_266_B_B4_P125.mzXML\n",
       "3798 X561_Group3A_50dpi_RA_266_B_B4_P125.mzXML\n",
       "3799 X561_Group3A_50dpi_RA_266_B_B4_P125.mzXML\n",
       "3800 X561_Group3A_50dpi_RA_266_B_B4_P125.mzXML\n",
       "3801 X561_Group3A_50dpi_RA_266_B_B4_P125.mzXML\n",
       "     SubjectID2                                name            Distance \n",
       "3796 X501_Group1A_50dpi_RA_251_B_A1_P125.mzXML Group3A_Group1A 0.6711845\n",
       "3797 X502_Group1A_50dpi_RA_252_B_A2_P125.mzXML Group3A_Group1A 0.4464247\n",
       "3798 X503_Group1A_50dpi_RA_253_B_A3_P125.mzXML Group3A_Group1A 0.5287466\n",
       "3799 X504_Group1A_50dpi_RA_254_B_A4_P125.mzXML Group3A_Group1A 0.2989420\n",
       "3800 X505_Group1A_50dpi_RA_255_B_A5_P125.mzXML Group3A_Group1A 0.5324147\n",
       "3801 X521_Group1A_50dpi_RA_256_B_A6_P125.mzXML Group3A_Group1A 0.4119169"
      ]
     },
     "metadata": {},
     "output_type": "display_data"
    },
    {
     "data": {
      "text/html": [
       "<ol class=list-inline>\n",
       "\t<li>675</li>\n",
       "\t<li>4</li>\n",
       "</ol>\n"
      ],
      "text/latex": [
       "\\begin{enumerate*}\n",
       "\\item 675\n",
       "\\item 4\n",
       "\\end{enumerate*}\n"
      ],
      "text/markdown": [
       "1. 675\n",
       "2. 4\n",
       "\n",
       "\n"
      ],
      "text/plain": [
       "[1] 675   4"
      ]
     },
     "metadata": {},
     "output_type": "display_data"
    }
   ],
   "source": [
    "head(b)\n",
    "dim(b)"
   ]
  },
  {
   "cell_type": "code",
   "execution_count": 7,
   "metadata": {},
   "outputs": [
    {
     "data": {
      "text/plain": [
       "\n",
       "Group1A_Group1A Group1A_Group1B Group1A_Group1C Group1A_Group3A Group1A_Group3B \n",
       "            105             225             225             225             225 \n",
       "Group1A_Group3E Group1B_Group1A Group1B_Group1B Group1B_Group1C Group1B_Group3A \n",
       "            225             225             105             225             225 \n",
       "Group1B_Group3B Group1B_Group3E Group1C_Group1A Group1C_Group1B Group1C_Group1C \n",
       "            225             225             225             225             105 \n",
       "Group1C_Group3A Group1C_Group3B Group1C_Group3E Group3A_Group1A Group3A_Group1B \n",
       "            225             225             225             225             225 \n",
       "Group3A_Group1C Group3A_Group3A Group3A_Group3B Group3A_Group3E Group3B_Group1A \n",
       "            225             105             225             225             225 \n",
       "Group3B_Group1B Group3B_Group1C Group3B_Group3A Group3B_Group3B Group3B_Group3E \n",
       "            225             225             225             105             225 \n",
       "Group3E_Group1A Group3E_Group1B Group3E_Group1C Group3E_Group3A Group3E_Group3B \n",
       "            225             225             225             225             225 \n",
       "Group3E_Group3E \n",
       "            105 "
      ]
     },
     "metadata": {},
     "output_type": "display_data"
    },
    {
     "data": {
      "text/plain": [
       "\n",
       "Group3A_Group1A Group3B_Group1B Group3E_Group1C \n",
       "            225             225             225 "
      ]
     },
     "metadata": {},
     "output_type": "display_data"
    }
   ],
   "source": [
    "table(a$name)\n",
    "table(b$name)"
   ]
  },
  {
   "cell_type": "code",
   "execution_count": 9,
   "metadata": {},
   "outputs": [
    {
     "name": "stderr",
     "output_type": "stream",
     "text": [
      "Dunn (1964) Kruskal-Wallis multiple comparison\n",
      "  p-values adjusted with the Benjamini-Hochberg method.\n",
      "\n"
     ]
    },
    {
     "data": {
      "text/plain": [
       "                         Comparison          Z   P.unadj     P.adj\n",
       "1 Group3A_Group1A - Group3B_Group1B -0.3220055 0.7474485 0.7474485\n",
       "2 Group3A_Group1A - Group3E_Group1C -1.1320961 0.2575940 0.7727821\n",
       "3 Group3B_Group1B - Group3E_Group1C -0.8100905 0.4178881 0.6268322"
      ]
     },
     "metadata": {},
     "output_type": "display_data"
    }
   ],
   "source": [
    "dunnTest(b$Distance ~ b$name, method=\"bh\")"
   ]
  },
  {
   "cell_type": "code",
   "execution_count": null,
   "metadata": {},
   "outputs": [],
   "source": []
  },
  {
   "cell_type": "code",
   "execution_count": null,
   "metadata": {},
   "outputs": [],
   "source": []
  }
 ],
 "metadata": {
  "kernelspec": {
   "display_name": "R",
   "language": "R",
   "name": "ir"
  },
  "language_info": {
   "codemirror_mode": "r",
   "file_extension": ".r",
   "mimetype": "text/x-r-source",
   "name": "R",
   "pygments_lexer": "r",
   "version": "3.6.1"
  }
 },
 "nbformat": 4,
 "nbformat_minor": 4
}
