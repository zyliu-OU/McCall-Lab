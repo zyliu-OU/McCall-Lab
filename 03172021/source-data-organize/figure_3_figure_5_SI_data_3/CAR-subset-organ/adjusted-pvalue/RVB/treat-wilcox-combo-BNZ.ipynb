{
 "cells": [
  {
   "cell_type": "code",
   "execution_count": 21,
   "metadata": {},
   "outputs": [],
   "source": [
    "a <- read.csv(\"03172021-CAR-treatment-RVB-M-F.csv\")"
   ]
  },
  {
   "cell_type": "code",
   "execution_count": 22,
   "metadata": {},
   "outputs": [
    {
     "data": {
      "text/html": [
       "<table>\n",
       "<thead><tr><th scope=col>filename</th><th scope=col>MouseID</th><th scope=col>Treatmentgroup</th><th scope=col>DPI</th><th scope=col>organ</th><th scope=col>well_position</th><th scope=col>plate</th><th scope=col>CAR_mid_chain</th><th scope=col>CAR_long_chain</th></tr></thead>\n",
       "<tbody>\n",
       "\t<tr><td>X511_Group1C_142dpi_RV_bottom_161_G_A1_P140.mzXML</td><td>511                                              </td><td>naive                                            </td><td>142                                              </td><td>RV_bottom                                        </td><td>A1                                               </td><td>P140                                             </td><td>0                                                </td><td>0                                                </td></tr>\n",
       "\t<tr><td>X512_Group1C_142dpi_RV_bottom_162_G_A2_P140.mzXML</td><td>512                                              </td><td>naive                                            </td><td>142                                              </td><td>RV_bottom                                        </td><td>A2                                               </td><td>P140                                             </td><td>0                                                </td><td>0                                                </td></tr>\n",
       "\t<tr><td>X513_Group1C_142dpi_RV_bottom_163_G_A3_P140.mzXML</td><td>513                                              </td><td>naive                                            </td><td>142                                              </td><td>RV_bottom                                        </td><td>A3                                               </td><td>P140                                             </td><td>0                                                </td><td>0                                                </td></tr>\n",
       "\t<tr><td>X514_Group1C_142dpi_RV_bottom_164_G_A4_P140.mzXML</td><td>514                                              </td><td>naive                                            </td><td>142                                              </td><td>RV_bottom                                        </td><td>A4                                               </td><td>P140                                             </td><td>0                                                </td><td>0                                                </td></tr>\n",
       "\t<tr><td>X515_Group1C_142dpi_RV_bottom_165_G_A5_P140.mzXML</td><td>515                                              </td><td>naive                                            </td><td>142                                              </td><td>RV_bottom                                        </td><td>A5                                               </td><td>P140                                             </td><td>0                                                </td><td>0                                                </td></tr>\n",
       "\t<tr><td>X531_Group1C_142dpi_RV_bottom_166_G_A6_P140.mzXML</td><td>531                                              </td><td>naive                                            </td><td>142                                              </td><td>RV_bottom                                        </td><td>A6                                               </td><td>P140                                             </td><td>0                                                </td><td>0                                                </td></tr>\n",
       "</tbody>\n",
       "</table>\n"
      ],
      "text/latex": [
       "\\begin{tabular}{r|lllllllll}\n",
       " filename & MouseID & Treatmentgroup & DPI & organ & well\\_position & plate & CAR\\_mid\\_chain & CAR\\_long\\_chain\\\\\n",
       "\\hline\n",
       "\t X511\\_Group1C\\_142dpi\\_RV\\_bottom\\_161\\_G\\_A1\\_P140.mzXML & 511                                                               & naive                                                             & 142                                                               & RV\\_bottom                                                       & A1                                                                & P140                                                              & 0                                                                 & 0                                                                \\\\\n",
       "\t X512\\_Group1C\\_142dpi\\_RV\\_bottom\\_162\\_G\\_A2\\_P140.mzXML & 512                                                               & naive                                                             & 142                                                               & RV\\_bottom                                                       & A2                                                                & P140                                                              & 0                                                                 & 0                                                                \\\\\n",
       "\t X513\\_Group1C\\_142dpi\\_RV\\_bottom\\_163\\_G\\_A3\\_P140.mzXML & 513                                                               & naive                                                             & 142                                                               & RV\\_bottom                                                       & A3                                                                & P140                                                              & 0                                                                 & 0                                                                \\\\\n",
       "\t X514\\_Group1C\\_142dpi\\_RV\\_bottom\\_164\\_G\\_A4\\_P140.mzXML & 514                                                               & naive                                                             & 142                                                               & RV\\_bottom                                                       & A4                                                                & P140                                                              & 0                                                                 & 0                                                                \\\\\n",
       "\t X515\\_Group1C\\_142dpi\\_RV\\_bottom\\_165\\_G\\_A5\\_P140.mzXML & 515                                                               & naive                                                             & 142                                                               & RV\\_bottom                                                       & A5                                                                & P140                                                              & 0                                                                 & 0                                                                \\\\\n",
       "\t X531\\_Group1C\\_142dpi\\_RV\\_bottom\\_166\\_G\\_A6\\_P140.mzXML & 531                                                               & naive                                                             & 142                                                               & RV\\_bottom                                                       & A6                                                                & P140                                                              & 0                                                                 & 0                                                                \\\\\n",
       "\\end{tabular}\n"
      ],
      "text/markdown": [
       "\n",
       "| filename | MouseID | Treatmentgroup | DPI | organ | well_position | plate | CAR_mid_chain | CAR_long_chain |\n",
       "|---|---|---|---|---|---|---|---|---|\n",
       "| X511_Group1C_142dpi_RV_bottom_161_G_A1_P140.mzXML | 511                                               | naive                                             | 142                                               | RV_bottom                                         | A1                                                | P140                                              | 0                                                 | 0                                                 |\n",
       "| X512_Group1C_142dpi_RV_bottom_162_G_A2_P140.mzXML | 512                                               | naive                                             | 142                                               | RV_bottom                                         | A2                                                | P140                                              | 0                                                 | 0                                                 |\n",
       "| X513_Group1C_142dpi_RV_bottom_163_G_A3_P140.mzXML | 513                                               | naive                                             | 142                                               | RV_bottom                                         | A3                                                | P140                                              | 0                                                 | 0                                                 |\n",
       "| X514_Group1C_142dpi_RV_bottom_164_G_A4_P140.mzXML | 514                                               | naive                                             | 142                                               | RV_bottom                                         | A4                                                | P140                                              | 0                                                 | 0                                                 |\n",
       "| X515_Group1C_142dpi_RV_bottom_165_G_A5_P140.mzXML | 515                                               | naive                                             | 142                                               | RV_bottom                                         | A5                                                | P140                                              | 0                                                 | 0                                                 |\n",
       "| X531_Group1C_142dpi_RV_bottom_166_G_A6_P140.mzXML | 531                                               | naive                                             | 142                                               | RV_bottom                                         | A6                                                | P140                                              | 0                                                 | 0                                                 |\n",
       "\n"
      ],
      "text/plain": [
       "  filename                                          MouseID Treatmentgroup DPI\n",
       "1 X511_Group1C_142dpi_RV_bottom_161_G_A1_P140.mzXML 511     naive          142\n",
       "2 X512_Group1C_142dpi_RV_bottom_162_G_A2_P140.mzXML 512     naive          142\n",
       "3 X513_Group1C_142dpi_RV_bottom_163_G_A3_P140.mzXML 513     naive          142\n",
       "4 X514_Group1C_142dpi_RV_bottom_164_G_A4_P140.mzXML 514     naive          142\n",
       "5 X515_Group1C_142dpi_RV_bottom_165_G_A5_P140.mzXML 515     naive          142\n",
       "6 X531_Group1C_142dpi_RV_bottom_166_G_A6_P140.mzXML 531     naive          142\n",
       "  organ     well_position plate CAR_mid_chain CAR_long_chain\n",
       "1 RV_bottom A1            P140  0             0             \n",
       "2 RV_bottom A2            P140  0             0             \n",
       "3 RV_bottom A3            P140  0             0             \n",
       "4 RV_bottom A4            P140  0             0             \n",
       "5 RV_bottom A5            P140  0             0             \n",
       "6 RV_bottom A6            P140  0             0             "
      ]
     },
     "metadata": {},
     "output_type": "display_data"
    },
    {
     "data": {
      "text/html": [
       "<ol class=list-inline>\n",
       "\t<li>60</li>\n",
       "\t<li>9</li>\n",
       "</ol>\n"
      ],
      "text/latex": [
       "\\begin{enumerate*}\n",
       "\\item 60\n",
       "\\item 9\n",
       "\\end{enumerate*}\n"
      ],
      "text/markdown": [
       "1. 60\n",
       "2. 9\n",
       "\n",
       "\n"
      ],
      "text/plain": [
       "[1] 60  9"
      ]
     },
     "metadata": {},
     "output_type": "display_data"
    }
   ],
   "source": [
    "head(a)\n",
    "dim(a)"
   ]
  },
  {
   "cell_type": "code",
   "execution_count": 23,
   "metadata": {},
   "outputs": [
    {
     "data": {
      "text/html": [
       "<table>\n",
       "<thead><tr><th></th><th scope=col>filename</th><th scope=col>MouseID</th><th scope=col>Treatmentgroup</th><th scope=col>DPI</th><th scope=col>organ</th><th scope=col>well_position</th><th scope=col>plate</th><th scope=col>CAR_mid_chain</th><th scope=col>CAR_long_chain</th></tr></thead>\n",
       "<tbody>\n",
       "\t<tr><th scope=row>21</th><td>X611_Group9_142dpi_RV_bottom_181_G_B9_P140.mzXML </td><td>611                                              </td><td>combo                                            </td><td>142                                              </td><td>RV_bottom                                        </td><td>B9                                               </td><td>P140                                             </td><td>0                                                </td><td>0.000000000                                      </td></tr>\n",
       "\t<tr><th scope=row>22</th><td>X612_Group9_142dpi_RV_bottom_182_G_B10_P140.mzXML</td><td>612                                              </td><td>combo                                            </td><td>142                                              </td><td>RV_bottom                                        </td><td>B10                                              </td><td>P140                                             </td><td>0                                                </td><td>0.000000000                                      </td></tr>\n",
       "\t<tr><th scope=row>23</th><td>X613_Group9_142dpi_RV_bottom_183_G_B11_P140.mzXML</td><td>613                                              </td><td>combo                                            </td><td>142                                              </td><td>RV_bottom                                        </td><td>B11                                              </td><td>P140                                             </td><td>0                                                </td><td>0.000000000                                      </td></tr>\n",
       "\t<tr><th scope=row>24</th><td>X614_Group9_142dpi_RV_bottom_184_G_B12_P140.mzXML</td><td>614                                              </td><td>combo                                            </td><td>142                                              </td><td>RV_bottom                                        </td><td>B12                                              </td><td>P140                                             </td><td>0                                                </td><td>0.000203615                                      </td></tr>\n",
       "\t<tr><th scope=row>25</th><td>X615_Group9_142dpi_RV_bottom_185_G_C1_P140.mzXML </td><td>615                                              </td><td>combo                                            </td><td>142                                              </td><td>RV_bottom                                        </td><td>C1                                               </td><td>P140                                             </td><td>0                                                </td><td>0.000000000                                      </td></tr>\n",
       "\t<tr><th scope=row>26</th><td>X631_Group15_142dpi_RV_bottom_191_G_C7_P140.mzXML</td><td>631                                              </td><td>BNZ                                              </td><td>142                                              </td><td>RV_bottom                                        </td><td>C7                                               </td><td>P140                                             </td><td>0                                                </td><td>0.000000000                                      </td></tr>\n",
       "</tbody>\n",
       "</table>\n"
      ],
      "text/latex": [
       "\\begin{tabular}{r|lllllllll}\n",
       "  & filename & MouseID & Treatmentgroup & DPI & organ & well\\_position & plate & CAR\\_mid\\_chain & CAR\\_long\\_chain\\\\\n",
       "\\hline\n",
       "\t21 & X611\\_Group9\\_142dpi\\_RV\\_bottom\\_181\\_G\\_B9\\_P140.mzXML  & 611                                                               & combo                                                             & 142                                                               & RV\\_bottom                                                       & B9                                                                & P140                                                              & 0                                                                 & 0.000000000                                                      \\\\\n",
       "\t22 & X612\\_Group9\\_142dpi\\_RV\\_bottom\\_182\\_G\\_B10\\_P140.mzXML & 612                                                               & combo                                                             & 142                                                               & RV\\_bottom                                                       & B10                                                               & P140                                                              & 0                                                                 & 0.000000000                                                      \\\\\n",
       "\t23 & X613\\_Group9\\_142dpi\\_RV\\_bottom\\_183\\_G\\_B11\\_P140.mzXML & 613                                                               & combo                                                             & 142                                                               & RV\\_bottom                                                       & B11                                                               & P140                                                              & 0                                                                 & 0.000000000                                                      \\\\\n",
       "\t24 & X614\\_Group9\\_142dpi\\_RV\\_bottom\\_184\\_G\\_B12\\_P140.mzXML & 614                                                               & combo                                                             & 142                                                               & RV\\_bottom                                                       & B12                                                               & P140                                                              & 0                                                                 & 0.000203615                                                      \\\\\n",
       "\t25 & X615\\_Group9\\_142dpi\\_RV\\_bottom\\_185\\_G\\_C1\\_P140.mzXML  & 615                                                               & combo                                                             & 142                                                               & RV\\_bottom                                                       & C1                                                                & P140                                                              & 0                                                                 & 0.000000000                                                      \\\\\n",
       "\t26 & X631\\_Group15\\_142dpi\\_RV\\_bottom\\_191\\_G\\_C7\\_P140.mzXML & 631                                                               & BNZ                                                               & 142                                                               & RV\\_bottom                                                       & C7                                                                & P140                                                              & 0                                                                 & 0.000000000                                                      \\\\\n",
       "\\end{tabular}\n"
      ],
      "text/markdown": [
       "\n",
       "| <!--/--> | filename | MouseID | Treatmentgroup | DPI | organ | well_position | plate | CAR_mid_chain | CAR_long_chain |\n",
       "|---|---|---|---|---|---|---|---|---|---|\n",
       "| 21 | X611_Group9_142dpi_RV_bottom_181_G_B9_P140.mzXML  | 611                                               | combo                                             | 142                                               | RV_bottom                                         | B9                                                | P140                                              | 0                                                 | 0.000000000                                       |\n",
       "| 22 | X612_Group9_142dpi_RV_bottom_182_G_B10_P140.mzXML | 612                                               | combo                                             | 142                                               | RV_bottom                                         | B10                                               | P140                                              | 0                                                 | 0.000000000                                       |\n",
       "| 23 | X613_Group9_142dpi_RV_bottom_183_G_B11_P140.mzXML | 613                                               | combo                                             | 142                                               | RV_bottom                                         | B11                                               | P140                                              | 0                                                 | 0.000000000                                       |\n",
       "| 24 | X614_Group9_142dpi_RV_bottom_184_G_B12_P140.mzXML | 614                                               | combo                                             | 142                                               | RV_bottom                                         | B12                                               | P140                                              | 0                                                 | 0.000203615                                       |\n",
       "| 25 | X615_Group9_142dpi_RV_bottom_185_G_C1_P140.mzXML  | 615                                               | combo                                             | 142                                               | RV_bottom                                         | C1                                                | P140                                              | 0                                                 | 0.000000000                                       |\n",
       "| 26 | X631_Group15_142dpi_RV_bottom_191_G_C7_P140.mzXML | 631                                               | BNZ                                               | 142                                               | RV_bottom                                         | C7                                                | P140                                              | 0                                                 | 0.000000000                                       |\n",
       "\n"
      ],
      "text/plain": [
       "   filename                                          MouseID Treatmentgroup DPI\n",
       "21 X611_Group9_142dpi_RV_bottom_181_G_B9_P140.mzXML  611     combo          142\n",
       "22 X612_Group9_142dpi_RV_bottom_182_G_B10_P140.mzXML 612     combo          142\n",
       "23 X613_Group9_142dpi_RV_bottom_183_G_B11_P140.mzXML 613     combo          142\n",
       "24 X614_Group9_142dpi_RV_bottom_184_G_B12_P140.mzXML 614     combo          142\n",
       "25 X615_Group9_142dpi_RV_bottom_185_G_C1_P140.mzXML  615     combo          142\n",
       "26 X631_Group15_142dpi_RV_bottom_191_G_C7_P140.mzXML 631     BNZ            142\n",
       "   organ     well_position plate CAR_mid_chain CAR_long_chain\n",
       "21 RV_bottom B9            P140  0             0.000000000   \n",
       "22 RV_bottom B10           P140  0             0.000000000   \n",
       "23 RV_bottom B11           P140  0             0.000000000   \n",
       "24 RV_bottom B12           P140  0             0.000203615   \n",
       "25 RV_bottom C1            P140  0             0.000000000   \n",
       "26 RV_bottom C7            P140  0             0.000000000   "
      ]
     },
     "metadata": {},
     "output_type": "display_data"
    },
    {
     "data": {
      "text/html": [
       "<ol class=list-inline>\n",
       "\t<li>30</li>\n",
       "\t<li>9</li>\n",
       "</ol>\n"
      ],
      "text/latex": [
       "\\begin{enumerate*}\n",
       "\\item 30\n",
       "\\item 9\n",
       "\\end{enumerate*}\n"
      ],
      "text/markdown": [
       "1. 30\n",
       "2. 9\n",
       "\n",
       "\n"
      ],
      "text/plain": [
       "[1] 30  9"
      ]
     },
     "metadata": {},
     "output_type": "display_data"
    }
   ],
   "source": [
    "features_pos<-droplevels(subset(a, a$Treatmentgroup==c(\"combo\")|a$Treatmentgroup==c(\"BNZ\")))\n",
    "head(features_pos)\n",
    "dim(features_pos)"
   ]
  },
  {
   "cell_type": "code",
   "execution_count": 24,
   "metadata": {
    "scrolled": false
   },
   "outputs": [
    {
     "data": {
      "text/html": [
       "<table>\n",
       "<thead><tr><th></th><th scope=col>CAR_mid_chain</th><th scope=col>CAR_long_chain</th></tr></thead>\n",
       "<tbody>\n",
       "\t<tr><th scope=row>21</th><td>0          </td><td>0.000000000</td></tr>\n",
       "\t<tr><th scope=row>22</th><td>0          </td><td>0.000000000</td></tr>\n",
       "\t<tr><th scope=row>23</th><td>0          </td><td>0.000000000</td></tr>\n",
       "\t<tr><th scope=row>24</th><td>0          </td><td>0.000203615</td></tr>\n",
       "\t<tr><th scope=row>25</th><td>0          </td><td>0.000000000</td></tr>\n",
       "\t<tr><th scope=row>26</th><td>0          </td><td>0.000000000</td></tr>\n",
       "</tbody>\n",
       "</table>\n"
      ],
      "text/latex": [
       "\\begin{tabular}{r|ll}\n",
       "  & CAR\\_mid\\_chain & CAR\\_long\\_chain\\\\\n",
       "\\hline\n",
       "\t21 & 0           & 0.000000000\\\\\n",
       "\t22 & 0           & 0.000000000\\\\\n",
       "\t23 & 0           & 0.000000000\\\\\n",
       "\t24 & 0           & 0.000203615\\\\\n",
       "\t25 & 0           & 0.000000000\\\\\n",
       "\t26 & 0           & 0.000000000\\\\\n",
       "\\end{tabular}\n"
      ],
      "text/markdown": [
       "\n",
       "| <!--/--> | CAR_mid_chain | CAR_long_chain |\n",
       "|---|---|---|\n",
       "| 21 | 0           | 0.000000000 |\n",
       "| 22 | 0           | 0.000000000 |\n",
       "| 23 | 0           | 0.000000000 |\n",
       "| 24 | 0           | 0.000203615 |\n",
       "| 25 | 0           | 0.000000000 |\n",
       "| 26 | 0           | 0.000000000 |\n",
       "\n"
      ],
      "text/plain": [
       "   CAR_mid_chain CAR_long_chain\n",
       "21 0             0.000000000   \n",
       "22 0             0.000000000   \n",
       "23 0             0.000000000   \n",
       "24 0             0.000203615   \n",
       "25 0             0.000000000   \n",
       "26 0             0.000000000   "
      ]
     },
     "metadata": {},
     "output_type": "display_data"
    },
    {
     "data": {
      "text/html": [
       "<strong>CAR_long_chain:</strong> 2"
      ],
      "text/latex": [
       "\\textbf{CAR\\textbackslash{}\\_long\\textbackslash{}\\_chain:} 2"
      ],
      "text/markdown": [
       "**CAR_long_chain:** 2"
      ],
      "text/plain": [
       "CAR_long_chain \n",
       "             2 "
      ]
     },
     "metadata": {},
     "output_type": "display_data"
    },
    {
     "data": {
      "text/html": [
       "<ol class=list-inline>\n",
       "\t<li>0</li>\n",
       "\t<li>0</li>\n",
       "\t<li>0</li>\n",
       "\t<li>0.000203615</li>\n",
       "\t<li>0</li>\n",
       "\t<li>0</li>\n",
       "\t<li>0</li>\n",
       "\t<li>0.000390135</li>\n",
       "\t<li>0</li>\n",
       "\t<li>0.000733527</li>\n",
       "\t<li>6.97e-05</li>\n",
       "\t<li>6.13e-05</li>\n",
       "\t<li>0</li>\n",
       "\t<li>0.002069406</li>\n",
       "\t<li>0</li>\n",
       "\t<li>0</li>\n",
       "\t<li>0</li>\n",
       "\t<li>5.31e-05</li>\n",
       "\t<li>5.55e-05</li>\n",
       "\t<li>6.02e-05</li>\n",
       "\t<li>0</li>\n",
       "\t<li>0.002830634</li>\n",
       "\t<li>0</li>\n",
       "\t<li>0</li>\n",
       "\t<li>9.01e-05</li>\n",
       "\t<li>0</li>\n",
       "\t<li>6.79e-05</li>\n",
       "\t<li>0.000332044</li>\n",
       "\t<li>0</li>\n",
       "\t<li>0.000142</li>\n",
       "</ol>\n"
      ],
      "text/latex": [
       "\\begin{enumerate*}\n",
       "\\item 0\n",
       "\\item 0\n",
       "\\item 0\n",
       "\\item 0.000203615\n",
       "\\item 0\n",
       "\\item 0\n",
       "\\item 0\n",
       "\\item 0.000390135\n",
       "\\item 0\n",
       "\\item 0.000733527\n",
       "\\item 6.97e-05\n",
       "\\item 6.13e-05\n",
       "\\item 0\n",
       "\\item 0.002069406\n",
       "\\item 0\n",
       "\\item 0\n",
       "\\item 0\n",
       "\\item 5.31e-05\n",
       "\\item 5.55e-05\n",
       "\\item 6.02e-05\n",
       "\\item 0\n",
       "\\item 0.002830634\n",
       "\\item 0\n",
       "\\item 0\n",
       "\\item 9.01e-05\n",
       "\\item 0\n",
       "\\item 6.79e-05\n",
       "\\item 0.000332044\n",
       "\\item 0\n",
       "\\item 0.000142\n",
       "\\end{enumerate*}\n"
      ],
      "text/markdown": [
       "1. 0\n",
       "2. 0\n",
       "3. 0\n",
       "4. 0.000203615\n",
       "5. 0\n",
       "6. 0\n",
       "7. 0\n",
       "8. 0.000390135\n",
       "9. 0\n",
       "10. 0.000733527\n",
       "11. 6.97e-05\n",
       "12. 6.13e-05\n",
       "13. 0\n",
       "14. 0.002069406\n",
       "15. 0\n",
       "16. 0\n",
       "17. 0\n",
       "18. 5.31e-05\n",
       "19. 5.55e-05\n",
       "20. 6.02e-05\n",
       "21. 0\n",
       "22. 0.002830634\n",
       "23. 0\n",
       "24. 0\n",
       "25. 9.01e-05\n",
       "26. 0\n",
       "27. 6.79e-05\n",
       "28. 0.000332044\n",
       "29. 0\n",
       "30. 0.000142\n",
       "\n",
       "\n"
      ],
      "text/plain": [
       " [1] 0.000000000 0.000000000 0.000000000 0.000203615 0.000000000 0.000000000\n",
       " [7] 0.000000000 0.000390135 0.000000000 0.000733527 0.000069700 0.000061300\n",
       "[13] 0.000000000 0.002069406 0.000000000 0.000000000 0.000000000 0.000053100\n",
       "[19] 0.000055500 0.000060200 0.000000000 0.002830634 0.000000000 0.000000000\n",
       "[25] 0.000090100 0.000000000 0.000067900 0.000332044 0.000000000 0.000142000"
      ]
     },
     "metadata": {},
     "output_type": "display_data"
    },
    {
     "data": {
      "text/html": [
       "<table>\n",
       "<thead><tr><th></th><th scope=col>filename</th><th scope=col>MouseID</th><th scope=col>Treatmentgroup</th><th scope=col>DPI</th><th scope=col>organ</th><th scope=col>well_position</th><th scope=col>plate</th><th scope=col>nonzero</th></tr></thead>\n",
       "<tbody>\n",
       "\t<tr><th scope=row>21</th><td>X611_Group9_142dpi_RV_bottom_181_G_B9_P140.mzXML </td><td>611                                              </td><td>combo                                            </td><td>142                                              </td><td>RV_bottom                                        </td><td>B9                                               </td><td>P140                                             </td><td>0.000000000                                      </td></tr>\n",
       "\t<tr><th scope=row>22</th><td>X612_Group9_142dpi_RV_bottom_182_G_B10_P140.mzXML</td><td>612                                              </td><td>combo                                            </td><td>142                                              </td><td>RV_bottom                                        </td><td>B10                                              </td><td>P140                                             </td><td>0.000000000                                      </td></tr>\n",
       "\t<tr><th scope=row>23</th><td>X613_Group9_142dpi_RV_bottom_183_G_B11_P140.mzXML</td><td>613                                              </td><td>combo                                            </td><td>142                                              </td><td>RV_bottom                                        </td><td>B11                                              </td><td>P140                                             </td><td>0.000000000                                      </td></tr>\n",
       "\t<tr><th scope=row>24</th><td>X614_Group9_142dpi_RV_bottom_184_G_B12_P140.mzXML</td><td>614                                              </td><td>combo                                            </td><td>142                                              </td><td>RV_bottom                                        </td><td>B12                                              </td><td>P140                                             </td><td>0.000203615                                      </td></tr>\n",
       "\t<tr><th scope=row>25</th><td>X615_Group9_142dpi_RV_bottom_185_G_C1_P140.mzXML </td><td>615                                              </td><td>combo                                            </td><td>142                                              </td><td>RV_bottom                                        </td><td>C1                                               </td><td>P140                                             </td><td>0.000000000                                      </td></tr>\n",
       "\t<tr><th scope=row>26</th><td>X631_Group15_142dpi_RV_bottom_191_G_C7_P140.mzXML</td><td>631                                              </td><td>BNZ                                              </td><td>142                                              </td><td>RV_bottom                                        </td><td>C7                                               </td><td>P140                                             </td><td>0.000000000                                      </td></tr>\n",
       "</tbody>\n",
       "</table>\n"
      ],
      "text/latex": [
       "\\begin{tabular}{r|llllllll}\n",
       "  & filename & MouseID & Treatmentgroup & DPI & organ & well\\_position & plate & nonzero\\\\\n",
       "\\hline\n",
       "\t21 & X611\\_Group9\\_142dpi\\_RV\\_bottom\\_181\\_G\\_B9\\_P140.mzXML  & 611                                                               & combo                                                             & 142                                                               & RV\\_bottom                                                       & B9                                                                & P140                                                              & 0.000000000                                                      \\\\\n",
       "\t22 & X612\\_Group9\\_142dpi\\_RV\\_bottom\\_182\\_G\\_B10\\_P140.mzXML & 612                                                               & combo                                                             & 142                                                               & RV\\_bottom                                                       & B10                                                               & P140                                                              & 0.000000000                                                      \\\\\n",
       "\t23 & X613\\_Group9\\_142dpi\\_RV\\_bottom\\_183\\_G\\_B11\\_P140.mzXML & 613                                                               & combo                                                             & 142                                                               & RV\\_bottom                                                       & B11                                                               & P140                                                              & 0.000000000                                                      \\\\\n",
       "\t24 & X614\\_Group9\\_142dpi\\_RV\\_bottom\\_184\\_G\\_B12\\_P140.mzXML & 614                                                               & combo                                                             & 142                                                               & RV\\_bottom                                                       & B12                                                               & P140                                                              & 0.000203615                                                      \\\\\n",
       "\t25 & X615\\_Group9\\_142dpi\\_RV\\_bottom\\_185\\_G\\_C1\\_P140.mzXML  & 615                                                               & combo                                                             & 142                                                               & RV\\_bottom                                                       & C1                                                                & P140                                                              & 0.000000000                                                      \\\\\n",
       "\t26 & X631\\_Group15\\_142dpi\\_RV\\_bottom\\_191\\_G\\_C7\\_P140.mzXML & 631                                                               & BNZ                                                               & 142                                                               & RV\\_bottom                                                       & C7                                                                & P140                                                              & 0.000000000                                                      \\\\\n",
       "\\end{tabular}\n"
      ],
      "text/markdown": [
       "\n",
       "| <!--/--> | filename | MouseID | Treatmentgroup | DPI | organ | well_position | plate | nonzero |\n",
       "|---|---|---|---|---|---|---|---|---|\n",
       "| 21 | X611_Group9_142dpi_RV_bottom_181_G_B9_P140.mzXML  | 611                                               | combo                                             | 142                                               | RV_bottom                                         | B9                                                | P140                                              | 0.000000000                                       |\n",
       "| 22 | X612_Group9_142dpi_RV_bottom_182_G_B10_P140.mzXML | 612                                               | combo                                             | 142                                               | RV_bottom                                         | B10                                               | P140                                              | 0.000000000                                       |\n",
       "| 23 | X613_Group9_142dpi_RV_bottom_183_G_B11_P140.mzXML | 613                                               | combo                                             | 142                                               | RV_bottom                                         | B11                                               | P140                                              | 0.000000000                                       |\n",
       "| 24 | X614_Group9_142dpi_RV_bottom_184_G_B12_P140.mzXML | 614                                               | combo                                             | 142                                               | RV_bottom                                         | B12                                               | P140                                              | 0.000203615                                       |\n",
       "| 25 | X615_Group9_142dpi_RV_bottom_185_G_C1_P140.mzXML  | 615                                               | combo                                             | 142                                               | RV_bottom                                         | C1                                                | P140                                              | 0.000000000                                       |\n",
       "| 26 | X631_Group15_142dpi_RV_bottom_191_G_C7_P140.mzXML | 631                                               | BNZ                                               | 142                                               | RV_bottom                                         | C7                                                | P140                                              | 0.000000000                                       |\n",
       "\n"
      ],
      "text/plain": [
       "   filename                                          MouseID Treatmentgroup DPI\n",
       "21 X611_Group9_142dpi_RV_bottom_181_G_B9_P140.mzXML  611     combo          142\n",
       "22 X612_Group9_142dpi_RV_bottom_182_G_B10_P140.mzXML 612     combo          142\n",
       "23 X613_Group9_142dpi_RV_bottom_183_G_B11_P140.mzXML 613     combo          142\n",
       "24 X614_Group9_142dpi_RV_bottom_184_G_B12_P140.mzXML 614     combo          142\n",
       "25 X615_Group9_142dpi_RV_bottom_185_G_C1_P140.mzXML  615     combo          142\n",
       "26 X631_Group15_142dpi_RV_bottom_191_G_C7_P140.mzXML 631     BNZ            142\n",
       "   organ     well_position plate nonzero    \n",
       "21 RV_bottom B9            P140  0.000000000\n",
       "22 RV_bottom B10           P140  0.000000000\n",
       "23 RV_bottom B11           P140  0.000000000\n",
       "24 RV_bottom B12           P140  0.000203615\n",
       "25 RV_bottom C1            P140  0.000000000\n",
       "26 RV_bottom C7            P140  0.000000000"
      ]
     },
     "metadata": {},
     "output_type": "display_data"
    },
    {
     "data": {
      "text/html": [
       "<ol class=list-inline>\n",
       "\t<li>30</li>\n",
       "\t<li>9</li>\n",
       "</ol>\n"
      ],
      "text/latex": [
       "\\begin{enumerate*}\n",
       "\\item 30\n",
       "\\item 9\n",
       "\\end{enumerate*}\n"
      ],
      "text/markdown": [
       "1. 30\n",
       "2. 9\n",
       "\n",
       "\n"
      ],
      "text/plain": [
       "[1] 30  9"
      ]
     },
     "metadata": {},
     "output_type": "display_data"
    },
    {
     "data": {
      "text/html": [
       "<ol class=list-inline>\n",
       "\t<li>30</li>\n",
       "\t<li>2</li>\n",
       "</ol>\n"
      ],
      "text/latex": [
       "\\begin{enumerate*}\n",
       "\\item 30\n",
       "\\item 2\n",
       "\\end{enumerate*}\n"
      ],
      "text/markdown": [
       "1. 30\n",
       "2. 2\n",
       "\n",
       "\n"
      ],
      "text/plain": [
       "[1] 30  2"
      ]
     },
     "metadata": {},
     "output_type": "display_data"
    },
    {
     "data": {
      "text/plain": [
       "NULL"
      ]
     },
     "metadata": {},
     "output_type": "display_data"
    },
    {
     "data": {
      "text/html": [
       "<ol class=list-inline>\n",
       "\t<li>30</li>\n",
       "\t<li>8</li>\n",
       "</ol>\n"
      ],
      "text/latex": [
       "\\begin{enumerate*}\n",
       "\\item 30\n",
       "\\item 8\n",
       "\\end{enumerate*}\n"
      ],
      "text/markdown": [
       "1. 30\n",
       "2. 8\n",
       "\n",
       "\n"
      ],
      "text/plain": [
       "[1] 30  8"
      ]
     },
     "metadata": {},
     "output_type": "display_data"
    }
   ],
   "source": [
    "noMeta<-features_pos[,8:9]\n",
    "head(noMeta)\n",
    "not_zero<-which(colSums(noMeta) != 0)\n",
    "head(not_zero)\n",
    "nonzero <- noMeta[, not_zero] \n",
    "nonzero\n",
    "nonzero_wMeta<-cbind(features_pos[,1:7], nonzero)\n",
    "head(nonzero_wMeta)\n",
    "dim(features_pos)\n",
    "dim(noMeta)\n",
    "dim(nonzero)\n",
    "dim(nonzero_wMeta)"
   ]
  },
  {
   "cell_type": "code",
   "execution_count": 25,
   "metadata": {
    "scrolled": true
   },
   "outputs": [
    {
     "name": "stderr",
     "output_type": "stream",
     "text": [
      "Warning message in wilcox.test.default(x = c(0, 0, 0.000390135, 0, 0.000733527, :\n",
      "\"cannot compute exact p-value with ties\""
     ]
    },
    {
     "data": {
      "text/html": [
       "0.769789216542265"
      ],
      "text/latex": [
       "0.769789216542265"
      ],
      "text/markdown": [
       "0.769789216542265"
      ],
      "text/plain": [
       "[1] 0.7697892"
      ]
     },
     "metadata": {},
     "output_type": "display_data"
    },
    {
     "data": {
      "text/html": [
       "0.769789216542265"
      ],
      "text/latex": [
       "0.769789216542265"
      ],
      "text/markdown": [
       "0.769789216542265"
      ],
      "text/plain": [
       "[1] 0.7697892"
      ]
     },
     "metadata": {},
     "output_type": "display_data"
    }
   ],
   "source": [
    "pval<-c()\n",
    "\n",
    "for (i in 8:ncol(nonzero_wMeta)) \n",
    "pval<-c(pval,wilcox.test(nonzero_wMeta[,i]~nonzero_wMeta$Treatmentgroup)$p.value)\n",
    "head(pval) \n",
    "pAdj <- p.adjust(pval, method = c(\"fdr\"), n=length(pval)) \n",
    "head(pAdj) \n",
    "\n"
   ]
  },
  {
   "cell_type": "code",
   "execution_count": 26,
   "metadata": {
    "scrolled": true
   },
   "outputs": [
    {
     "data": {
      "text/html": [
       "1"
      ],
      "text/latex": [
       "1"
      ],
      "text/markdown": [
       "1"
      ],
      "text/plain": [
       "[1] 1"
      ]
     },
     "metadata": {},
     "output_type": "display_data"
    }
   ],
   "source": [
    "length(pval)"
   ]
  },
  {
   "cell_type": "code",
   "execution_count": 27,
   "metadata": {
    "scrolled": true
   },
   "outputs": [
    {
     "data": {
      "text/html": [
       "1"
      ],
      "text/latex": [
       "1"
      ],
      "text/markdown": [
       "1"
      ],
      "text/plain": [
       "[1] 1"
      ]
     },
     "metadata": {},
     "output_type": "display_data"
    }
   ],
   "source": [
    "length(pAdj)"
   ]
  },
  {
   "cell_type": "code",
   "execution_count": 28,
   "metadata": {},
   "outputs": [
    {
     "ename": "ERROR",
     "evalue": "Error in apply(nonzero_wMeta[, 8:ncol(nonzero_wMeta)], 2, function(x) tapply(x, : dim(X) must have a positive length\n",
     "output_type": "error",
     "traceback": [
      "Error in apply(nonzero_wMeta[, 8:ncol(nonzero_wMeta)], 2, function(x) tapply(x, : dim(X) must have a positive length\nTraceback:\n",
      "1. apply(nonzero_wMeta[, 8:ncol(nonzero_wMeta)], 2, function(x) tapply(x, \n .     nonzero_wMeta$Treatmentgroup, function(x) mean(x)))",
      "2. stop(\"dim(X) must have a positive length\")"
     ]
    }
   ],
   "source": [
    "avg<- apply(nonzero_wMeta[,8:ncol(nonzero_wMeta)], 2, function(x) tapply(x, nonzero_wMeta$Treatmentgroup, function(x) mean(x))) \n",
    "\n",
    "dim(avg) \n",
    "\n",
    "avg[,1:2]\n",
    "\n",
    "fch <- apply(avg, 2, function(x) x[1]/x[2]) \n",
    "\n",
    "head(fch)\n",
    "is(fch)"
   ]
  },
  {
   "cell_type": "code",
   "execution_count": 29,
   "metadata": {
    "scrolled": true
   },
   "outputs": [
    {
     "ename": "ERROR",
     "evalue": "Error in eval(expr, envir, enclos): object 'fch' not found\n",
     "output_type": "error",
     "traceback": [
      "Error in eval(expr, envir, enclos): object 'fch' not found\nTraceback:\n"
     ]
    }
   ],
   "source": [
    "fch"
   ]
  },
  {
   "cell_type": "code",
   "execution_count": 30,
   "metadata": {
    "scrolled": false
   },
   "outputs": [],
   "source": [
    "df <- data.frame(pval, pAdj)\n",
    "write.csv(df, \"CAR-treat-RVB-wilcox-combo-BNZ.csv\")"
   ]
  },
  {
   "cell_type": "code",
   "execution_count": null,
   "metadata": {},
   "outputs": [],
   "source": []
  },
  {
   "cell_type": "code",
   "execution_count": null,
   "metadata": {},
   "outputs": [],
   "source": []
  },
  {
   "cell_type": "code",
   "execution_count": null,
   "metadata": {},
   "outputs": [],
   "source": []
  },
  {
   "cell_type": "code",
   "execution_count": null,
   "metadata": {},
   "outputs": [],
   "source": []
  },
  {
   "cell_type": "code",
   "execution_count": null,
   "metadata": {},
   "outputs": [],
   "source": []
  },
  {
   "cell_type": "code",
   "execution_count": null,
   "metadata": {},
   "outputs": [],
   "source": []
  }
 ],
 "metadata": {
  "kernelspec": {
   "display_name": "R",
   "language": "R",
   "name": "ir"
  },
  "language_info": {
   "codemirror_mode": "r",
   "file_extension": ".r",
   "mimetype": "text/x-r-source",
   "name": "R",
   "pygments_lexer": "r",
   "version": "3.6.1"
  }
 },
 "nbformat": 4,
 "nbformat_minor": 2
}
