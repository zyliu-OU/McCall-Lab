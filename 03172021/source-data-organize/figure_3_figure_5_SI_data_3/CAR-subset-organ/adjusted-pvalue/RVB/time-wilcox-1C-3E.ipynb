{
 "cells": [
  {
   "cell_type": "code",
   "execution_count": 1,
   "metadata": {},
   "outputs": [],
   "source": [
    "a <- read.csv(\"03172021-CAR-time-RVB-M-F.csv\")"
   ]
  },
  {
   "cell_type": "code",
   "execution_count": 2,
   "metadata": {},
   "outputs": [
    {
     "data": {
      "text/html": [
       "<table>\n",
       "<thead><tr><th scope=col>filename</th><th scope=col>MouseID</th><th scope=col>Treatmentgroup</th><th scope=col>status</th><th scope=col>DPI</th><th scope=col>organ</th><th scope=col>well_position</th><th scope=col>plate</th><th scope=col>CAR_mid_chain</th><th scope=col>CAR_long_chain</th></tr></thead>\n",
       "<tbody>\n",
       "\t<tr><td>X501_Group1A_50dpi_RV_bottom_251_B_A1_P141.mzXML</td><td>501                                             </td><td>Group1A                                         </td><td>naive                                           </td><td>DPI_50                                          </td><td>RV_bottom                                       </td><td>A1                                              </td><td>P141                                            </td><td>0.00e+00                                        </td><td>0.024538733                                     </td></tr>\n",
       "\t<tr><td>X502_Group1A_50dpi_RV_bottom_252_B_A2_P141.mzXML</td><td>502                                             </td><td>Group1A                                         </td><td>naive                                           </td><td>DPI_50                                          </td><td>RV_bottom                                       </td><td>A2                                              </td><td>P141                                            </td><td>1.77e-05                                        </td><td>0.003547525                                     </td></tr>\n",
       "\t<tr><td>X503_Group1A_50dpi_RV_bottom_253_B_A3_P141.mzXML</td><td>503                                             </td><td>Group1A                                         </td><td>naive                                           </td><td>DPI_50                                          </td><td>RV_bottom                                       </td><td>A3                                              </td><td>P141                                            </td><td>0.00e+00                                        </td><td>0.000311600                                     </td></tr>\n",
       "\t<tr><td>X504_Group1A_50dpi_RV_bottom_254_B_A4_P141.mzXML</td><td>504                                             </td><td>Group1A                                         </td><td>naive                                           </td><td>DPI_50                                          </td><td>RV_bottom                                       </td><td>A4                                              </td><td>P141                                            </td><td>0.00e+00                                        </td><td>0.003262340                                     </td></tr>\n",
       "\t<tr><td>X505_Group1A_50dpi_RV_bottom_255_B_A5_P141.mzXML</td><td>505                                             </td><td>Group1A                                         </td><td>naive                                           </td><td>DPI_50                                          </td><td>RV_bottom                                       </td><td>A5                                              </td><td>P141                                            </td><td>0.00e+00                                        </td><td>0.028324386                                     </td></tr>\n",
       "\t<tr><td>X521_Group1A_50dpi_RV_bottom_256_B_A6_P141.mzXML</td><td>521                                             </td><td>Group1A                                         </td><td>naive                                           </td><td>DPI_50                                          </td><td>RV_bottom                                       </td><td>A6                                              </td><td>P141                                            </td><td>0.00e+00                                        </td><td>0.012080991                                     </td></tr>\n",
       "</tbody>\n",
       "</table>\n"
      ],
      "text/latex": [
       "\\begin{tabular}{r|llllllllll}\n",
       " filename & MouseID & Treatmentgroup & status & DPI & organ & well\\_position & plate & CAR\\_mid\\_chain & CAR\\_long\\_chain\\\\\n",
       "\\hline\n",
       "\t X501\\_Group1A\\_50dpi\\_RV\\_bottom\\_251\\_B\\_A1\\_P141.mzXML & 501                                                              & Group1A                                                          & naive                                                            & DPI\\_50                                                         & RV\\_bottom                                                      & A1                                                               & P141                                                             & 0.00e+00                                                         & 0.024538733                                                     \\\\\n",
       "\t X502\\_Group1A\\_50dpi\\_RV\\_bottom\\_252\\_B\\_A2\\_P141.mzXML & 502                                                              & Group1A                                                          & naive                                                            & DPI\\_50                                                         & RV\\_bottom                                                      & A2                                                               & P141                                                             & 1.77e-05                                                         & 0.003547525                                                     \\\\\n",
       "\t X503\\_Group1A\\_50dpi\\_RV\\_bottom\\_253\\_B\\_A3\\_P141.mzXML & 503                                                              & Group1A                                                          & naive                                                            & DPI\\_50                                                         & RV\\_bottom                                                      & A3                                                               & P141                                                             & 0.00e+00                                                         & 0.000311600                                                     \\\\\n",
       "\t X504\\_Group1A\\_50dpi\\_RV\\_bottom\\_254\\_B\\_A4\\_P141.mzXML & 504                                                              & Group1A                                                          & naive                                                            & DPI\\_50                                                         & RV\\_bottom                                                      & A4                                                               & P141                                                             & 0.00e+00                                                         & 0.003262340                                                     \\\\\n",
       "\t X505\\_Group1A\\_50dpi\\_RV\\_bottom\\_255\\_B\\_A5\\_P141.mzXML & 505                                                              & Group1A                                                          & naive                                                            & DPI\\_50                                                         & RV\\_bottom                                                      & A5                                                               & P141                                                             & 0.00e+00                                                         & 0.028324386                                                     \\\\\n",
       "\t X521\\_Group1A\\_50dpi\\_RV\\_bottom\\_256\\_B\\_A6\\_P141.mzXML & 521                                                              & Group1A                                                          & naive                                                            & DPI\\_50                                                         & RV\\_bottom                                                      & A6                                                               & P141                                                             & 0.00e+00                                                         & 0.012080991                                                     \\\\\n",
       "\\end{tabular}\n"
      ],
      "text/markdown": [
       "\n",
       "| filename | MouseID | Treatmentgroup | status | DPI | organ | well_position | plate | CAR_mid_chain | CAR_long_chain |\n",
       "|---|---|---|---|---|---|---|---|---|---|\n",
       "| X501_Group1A_50dpi_RV_bottom_251_B_A1_P141.mzXML | 501                                              | Group1A                                          | naive                                            | DPI_50                                           | RV_bottom                                        | A1                                               | P141                                             | 0.00e+00                                         | 0.024538733                                      |\n",
       "| X502_Group1A_50dpi_RV_bottom_252_B_A2_P141.mzXML | 502                                              | Group1A                                          | naive                                            | DPI_50                                           | RV_bottom                                        | A2                                               | P141                                             | 1.77e-05                                         | 0.003547525                                      |\n",
       "| X503_Group1A_50dpi_RV_bottom_253_B_A3_P141.mzXML | 503                                              | Group1A                                          | naive                                            | DPI_50                                           | RV_bottom                                        | A3                                               | P141                                             | 0.00e+00                                         | 0.000311600                                      |\n",
       "| X504_Group1A_50dpi_RV_bottom_254_B_A4_P141.mzXML | 504                                              | Group1A                                          | naive                                            | DPI_50                                           | RV_bottom                                        | A4                                               | P141                                             | 0.00e+00                                         | 0.003262340                                      |\n",
       "| X505_Group1A_50dpi_RV_bottom_255_B_A5_P141.mzXML | 505                                              | Group1A                                          | naive                                            | DPI_50                                           | RV_bottom                                        | A5                                               | P141                                             | 0.00e+00                                         | 0.028324386                                      |\n",
       "| X521_Group1A_50dpi_RV_bottom_256_B_A6_P141.mzXML | 521                                              | Group1A                                          | naive                                            | DPI_50                                           | RV_bottom                                        | A6                                               | P141                                             | 0.00e+00                                         | 0.012080991                                      |\n",
       "\n"
      ],
      "text/plain": [
       "  filename                                         MouseID Treatmentgroup\n",
       "1 X501_Group1A_50dpi_RV_bottom_251_B_A1_P141.mzXML 501     Group1A       \n",
       "2 X502_Group1A_50dpi_RV_bottom_252_B_A2_P141.mzXML 502     Group1A       \n",
       "3 X503_Group1A_50dpi_RV_bottom_253_B_A3_P141.mzXML 503     Group1A       \n",
       "4 X504_Group1A_50dpi_RV_bottom_254_B_A4_P141.mzXML 504     Group1A       \n",
       "5 X505_Group1A_50dpi_RV_bottom_255_B_A5_P141.mzXML 505     Group1A       \n",
       "6 X521_Group1A_50dpi_RV_bottom_256_B_A6_P141.mzXML 521     Group1A       \n",
       "  status DPI    organ     well_position plate CAR_mid_chain CAR_long_chain\n",
       "1 naive  DPI_50 RV_bottom A1            P141  0.00e+00      0.024538733   \n",
       "2 naive  DPI_50 RV_bottom A2            P141  1.77e-05      0.003547525   \n",
       "3 naive  DPI_50 RV_bottom A3            P141  0.00e+00      0.000311600   \n",
       "4 naive  DPI_50 RV_bottom A4            P141  0.00e+00      0.003262340   \n",
       "5 naive  DPI_50 RV_bottom A5            P141  0.00e+00      0.028324386   \n",
       "6 naive  DPI_50 RV_bottom A6            P141  0.00e+00      0.012080991   "
      ]
     },
     "metadata": {},
     "output_type": "display_data"
    },
    {
     "data": {
      "text/html": [
       "<ol class=list-inline>\n",
       "\t<li>90</li>\n",
       "\t<li>10</li>\n",
       "</ol>\n"
      ],
      "text/latex": [
       "\\begin{enumerate*}\n",
       "\\item 90\n",
       "\\item 10\n",
       "\\end{enumerate*}\n"
      ],
      "text/markdown": [
       "1. 90\n",
       "2. 10\n",
       "\n",
       "\n"
      ],
      "text/plain": [
       "[1] 90 10"
      ]
     },
     "metadata": {},
     "output_type": "display_data"
    }
   ],
   "source": [
    "head(a)\n",
    "dim(a)"
   ]
  },
  {
   "cell_type": "code",
   "execution_count": 3,
   "metadata": {},
   "outputs": [
    {
     "data": {
      "text/html": [
       "<table>\n",
       "<thead><tr><th></th><th scope=col>filename</th><th scope=col>MouseID</th><th scope=col>Treatmentgroup</th><th scope=col>status</th><th scope=col>DPI</th><th scope=col>organ</th><th scope=col>well_position</th><th scope=col>plate</th><th scope=col>CAR_mid_chain</th><th scope=col>CAR_long_chain</th></tr></thead>\n",
       "<tbody>\n",
       "\t<tr><th scope=row>31</th><td>X511_Group1C_142dpi_RV_bottom_161_G_A1_P140.mzXML</td><td>511                                              </td><td>Group1C                                          </td><td>naive                                            </td><td>DPI_142                                          </td><td>RV_bottom                                        </td><td>A1                                               </td><td>P140                                             </td><td>0                                                </td><td>0                                                </td></tr>\n",
       "\t<tr><th scope=row>32</th><td>X512_Group1C_142dpi_RV_bottom_162_G_A2_P140.mzXML</td><td>512                                              </td><td>Group1C                                          </td><td>naive                                            </td><td>DPI_142                                          </td><td>RV_bottom                                        </td><td>A2                                               </td><td>P140                                             </td><td>0                                                </td><td>0                                                </td></tr>\n",
       "\t<tr><th scope=row>33</th><td>X513_Group1C_142dpi_RV_bottom_163_G_A3_P140.mzXML</td><td>513                                              </td><td>Group1C                                          </td><td>naive                                            </td><td>DPI_142                                          </td><td>RV_bottom                                        </td><td>A3                                               </td><td>P140                                             </td><td>0                                                </td><td>0                                                </td></tr>\n",
       "\t<tr><th scope=row>34</th><td>X514_Group1C_142dpi_RV_bottom_164_G_A4_P140.mzXML</td><td>514                                              </td><td>Group1C                                          </td><td>naive                                            </td><td>DPI_142                                          </td><td>RV_bottom                                        </td><td>A4                                               </td><td>P140                                             </td><td>0                                                </td><td>0                                                </td></tr>\n",
       "\t<tr><th scope=row>35</th><td>X515_Group1C_142dpi_RV_bottom_165_G_A5_P140.mzXML</td><td>515                                              </td><td>Group1C                                          </td><td>naive                                            </td><td>DPI_142                                          </td><td>RV_bottom                                        </td><td>A5                                               </td><td>P140                                             </td><td>0                                                </td><td>0                                                </td></tr>\n",
       "\t<tr><th scope=row>36</th><td>X531_Group1C_142dpi_RV_bottom_166_G_A6_P140.mzXML</td><td>531                                              </td><td>Group1C                                          </td><td>naive                                            </td><td>DPI_142                                          </td><td>RV_bottom                                        </td><td>A6                                               </td><td>P140                                             </td><td>0                                                </td><td>0                                                </td></tr>\n",
       "</tbody>\n",
       "</table>\n"
      ],
      "text/latex": [
       "\\begin{tabular}{r|llllllllll}\n",
       "  & filename & MouseID & Treatmentgroup & status & DPI & organ & well\\_position & plate & CAR\\_mid\\_chain & CAR\\_long\\_chain\\\\\n",
       "\\hline\n",
       "\t31 & X511\\_Group1C\\_142dpi\\_RV\\_bottom\\_161\\_G\\_A1\\_P140.mzXML & 511                                                               & Group1C                                                           & naive                                                             & DPI\\_142                                                         & RV\\_bottom                                                       & A1                                                                & P140                                                              & 0                                                                 & 0                                                                \\\\\n",
       "\t32 & X512\\_Group1C\\_142dpi\\_RV\\_bottom\\_162\\_G\\_A2\\_P140.mzXML & 512                                                               & Group1C                                                           & naive                                                             & DPI\\_142                                                         & RV\\_bottom                                                       & A2                                                                & P140                                                              & 0                                                                 & 0                                                                \\\\\n",
       "\t33 & X513\\_Group1C\\_142dpi\\_RV\\_bottom\\_163\\_G\\_A3\\_P140.mzXML & 513                                                               & Group1C                                                           & naive                                                             & DPI\\_142                                                         & RV\\_bottom                                                       & A3                                                                & P140                                                              & 0                                                                 & 0                                                                \\\\\n",
       "\t34 & X514\\_Group1C\\_142dpi\\_RV\\_bottom\\_164\\_G\\_A4\\_P140.mzXML & 514                                                               & Group1C                                                           & naive                                                             & DPI\\_142                                                         & RV\\_bottom                                                       & A4                                                                & P140                                                              & 0                                                                 & 0                                                                \\\\\n",
       "\t35 & X515\\_Group1C\\_142dpi\\_RV\\_bottom\\_165\\_G\\_A5\\_P140.mzXML & 515                                                               & Group1C                                                           & naive                                                             & DPI\\_142                                                         & RV\\_bottom                                                       & A5                                                                & P140                                                              & 0                                                                 & 0                                                                \\\\\n",
       "\t36 & X531\\_Group1C\\_142dpi\\_RV\\_bottom\\_166\\_G\\_A6\\_P140.mzXML & 531                                                               & Group1C                                                           & naive                                                             & DPI\\_142                                                         & RV\\_bottom                                                       & A6                                                                & P140                                                              & 0                                                                 & 0                                                                \\\\\n",
       "\\end{tabular}\n"
      ],
      "text/markdown": [
       "\n",
       "| <!--/--> | filename | MouseID | Treatmentgroup | status | DPI | organ | well_position | plate | CAR_mid_chain | CAR_long_chain |\n",
       "|---|---|---|---|---|---|---|---|---|---|---|\n",
       "| 31 | X511_Group1C_142dpi_RV_bottom_161_G_A1_P140.mzXML | 511                                               | Group1C                                           | naive                                             | DPI_142                                           | RV_bottom                                         | A1                                                | P140                                              | 0                                                 | 0                                                 |\n",
       "| 32 | X512_Group1C_142dpi_RV_bottom_162_G_A2_P140.mzXML | 512                                               | Group1C                                           | naive                                             | DPI_142                                           | RV_bottom                                         | A2                                                | P140                                              | 0                                                 | 0                                                 |\n",
       "| 33 | X513_Group1C_142dpi_RV_bottom_163_G_A3_P140.mzXML | 513                                               | Group1C                                           | naive                                             | DPI_142                                           | RV_bottom                                         | A3                                                | P140                                              | 0                                                 | 0                                                 |\n",
       "| 34 | X514_Group1C_142dpi_RV_bottom_164_G_A4_P140.mzXML | 514                                               | Group1C                                           | naive                                             | DPI_142                                           | RV_bottom                                         | A4                                                | P140                                              | 0                                                 | 0                                                 |\n",
       "| 35 | X515_Group1C_142dpi_RV_bottom_165_G_A5_P140.mzXML | 515                                               | Group1C                                           | naive                                             | DPI_142                                           | RV_bottom                                         | A5                                                | P140                                              | 0                                                 | 0                                                 |\n",
       "| 36 | X531_Group1C_142dpi_RV_bottom_166_G_A6_P140.mzXML | 531                                               | Group1C                                           | naive                                             | DPI_142                                           | RV_bottom                                         | A6                                                | P140                                              | 0                                                 | 0                                                 |\n",
       "\n"
      ],
      "text/plain": [
       "   filename                                          MouseID Treatmentgroup\n",
       "31 X511_Group1C_142dpi_RV_bottom_161_G_A1_P140.mzXML 511     Group1C       \n",
       "32 X512_Group1C_142dpi_RV_bottom_162_G_A2_P140.mzXML 512     Group1C       \n",
       "33 X513_Group1C_142dpi_RV_bottom_163_G_A3_P140.mzXML 513     Group1C       \n",
       "34 X514_Group1C_142dpi_RV_bottom_164_G_A4_P140.mzXML 514     Group1C       \n",
       "35 X515_Group1C_142dpi_RV_bottom_165_G_A5_P140.mzXML 515     Group1C       \n",
       "36 X531_Group1C_142dpi_RV_bottom_166_G_A6_P140.mzXML 531     Group1C       \n",
       "   status DPI     organ     well_position plate CAR_mid_chain CAR_long_chain\n",
       "31 naive  DPI_142 RV_bottom A1            P140  0             0             \n",
       "32 naive  DPI_142 RV_bottom A2            P140  0             0             \n",
       "33 naive  DPI_142 RV_bottom A3            P140  0             0             \n",
       "34 naive  DPI_142 RV_bottom A4            P140  0             0             \n",
       "35 naive  DPI_142 RV_bottom A5            P140  0             0             \n",
       "36 naive  DPI_142 RV_bottom A6            P140  0             0             "
      ]
     },
     "metadata": {},
     "output_type": "display_data"
    },
    {
     "data": {
      "text/html": [
       "<ol class=list-inline>\n",
       "\t<li>30</li>\n",
       "\t<li>10</li>\n",
       "</ol>\n"
      ],
      "text/latex": [
       "\\begin{enumerate*}\n",
       "\\item 30\n",
       "\\item 10\n",
       "\\end{enumerate*}\n"
      ],
      "text/markdown": [
       "1. 30\n",
       "2. 10\n",
       "\n",
       "\n"
      ],
      "text/plain": [
       "[1] 30 10"
      ]
     },
     "metadata": {},
     "output_type": "display_data"
    }
   ],
   "source": [
    "features_pos<-droplevels(subset(a, a$Treatmentgroup==c(\"Group1C\")|a$Treatmentgroup==c(\"Group3E\")))\n",
    "head(features_pos)\n",
    "dim(features_pos)"
   ]
  },
  {
   "cell_type": "code",
   "execution_count": 4,
   "metadata": {
    "scrolled": false
   },
   "outputs": [
    {
     "data": {
      "text/html": [
       "<table>\n",
       "<thead><tr><th></th><th scope=col>CAR_mid_chain</th><th scope=col>CAR_long_chain</th></tr></thead>\n",
       "<tbody>\n",
       "\t<tr><th scope=row>31</th><td>0</td><td>0</td></tr>\n",
       "\t<tr><th scope=row>32</th><td>0</td><td>0</td></tr>\n",
       "\t<tr><th scope=row>33</th><td>0</td><td>0</td></tr>\n",
       "\t<tr><th scope=row>34</th><td>0</td><td>0</td></tr>\n",
       "\t<tr><th scope=row>35</th><td>0</td><td>0</td></tr>\n",
       "\t<tr><th scope=row>36</th><td>0</td><td>0</td></tr>\n",
       "</tbody>\n",
       "</table>\n"
      ],
      "text/latex": [
       "\\begin{tabular}{r|ll}\n",
       "  & CAR\\_mid\\_chain & CAR\\_long\\_chain\\\\\n",
       "\\hline\n",
       "\t31 & 0 & 0\\\\\n",
       "\t32 & 0 & 0\\\\\n",
       "\t33 & 0 & 0\\\\\n",
       "\t34 & 0 & 0\\\\\n",
       "\t35 & 0 & 0\\\\\n",
       "\t36 & 0 & 0\\\\\n",
       "\\end{tabular}\n"
      ],
      "text/markdown": [
       "\n",
       "| <!--/--> | CAR_mid_chain | CAR_long_chain |\n",
       "|---|---|---|\n",
       "| 31 | 0 | 0 |\n",
       "| 32 | 0 | 0 |\n",
       "| 33 | 0 | 0 |\n",
       "| 34 | 0 | 0 |\n",
       "| 35 | 0 | 0 |\n",
       "| 36 | 0 | 0 |\n",
       "\n"
      ],
      "text/plain": [
       "   CAR_mid_chain CAR_long_chain\n",
       "31 0             0             \n",
       "32 0             0             \n",
       "33 0             0             \n",
       "34 0             0             \n",
       "35 0             0             \n",
       "36 0             0             "
      ]
     },
     "metadata": {},
     "output_type": "display_data"
    },
    {
     "data": {
      "text/html": [
       "<strong>CAR_long_chain:</strong> 2"
      ],
      "text/latex": [
       "\\textbf{CAR\\textbackslash{}\\_long\\textbackslash{}\\_chain:} 2"
      ],
      "text/markdown": [
       "**CAR_long_chain:** 2"
      ],
      "text/plain": [
       "CAR_long_chain \n",
       "             2 "
      ]
     },
     "metadata": {},
     "output_type": "display_data"
    },
    {
     "data": {
      "text/html": [
       "<ol class=list-inline>\n",
       "\t<li>0</li>\n",
       "\t<li>0</li>\n",
       "\t<li>0</li>\n",
       "\t<li>0</li>\n",
       "\t<li>0</li>\n",
       "\t<li>0</li>\n",
       "\t<li>0</li>\n",
       "\t<li>0</li>\n",
       "\t<li>0</li>\n",
       "\t<li>0</li>\n",
       "\t<li>0</li>\n",
       "\t<li>0</li>\n",
       "\t<li>0</li>\n",
       "\t<li>0</li>\n",
       "\t<li>0</li>\n",
       "\t<li>0</li>\n",
       "\t<li>0</li>\n",
       "\t<li>0</li>\n",
       "\t<li>0</li>\n",
       "\t<li>0</li>\n",
       "\t<li>0</li>\n",
       "\t<li>0</li>\n",
       "\t<li>0</li>\n",
       "\t<li>8.09e-05</li>\n",
       "\t<li>0</li>\n",
       "\t<li>6.24e-05</li>\n",
       "\t<li>0</li>\n",
       "\t<li>0.000176</li>\n",
       "\t<li>0.0001349</li>\n",
       "\t<li>0.003446841</li>\n",
       "</ol>\n"
      ],
      "text/latex": [
       "\\begin{enumerate*}\n",
       "\\item 0\n",
       "\\item 0\n",
       "\\item 0\n",
       "\\item 0\n",
       "\\item 0\n",
       "\\item 0\n",
       "\\item 0\n",
       "\\item 0\n",
       "\\item 0\n",
       "\\item 0\n",
       "\\item 0\n",
       "\\item 0\n",
       "\\item 0\n",
       "\\item 0\n",
       "\\item 0\n",
       "\\item 0\n",
       "\\item 0\n",
       "\\item 0\n",
       "\\item 0\n",
       "\\item 0\n",
       "\\item 0\n",
       "\\item 0\n",
       "\\item 0\n",
       "\\item 8.09e-05\n",
       "\\item 0\n",
       "\\item 6.24e-05\n",
       "\\item 0\n",
       "\\item 0.000176\n",
       "\\item 0.0001349\n",
       "\\item 0.003446841\n",
       "\\end{enumerate*}\n"
      ],
      "text/markdown": [
       "1. 0\n",
       "2. 0\n",
       "3. 0\n",
       "4. 0\n",
       "5. 0\n",
       "6. 0\n",
       "7. 0\n",
       "8. 0\n",
       "9. 0\n",
       "10. 0\n",
       "11. 0\n",
       "12. 0\n",
       "13. 0\n",
       "14. 0\n",
       "15. 0\n",
       "16. 0\n",
       "17. 0\n",
       "18. 0\n",
       "19. 0\n",
       "20. 0\n",
       "21. 0\n",
       "22. 0\n",
       "23. 0\n",
       "24. 8.09e-05\n",
       "25. 0\n",
       "26. 6.24e-05\n",
       "27. 0\n",
       "28. 0.000176\n",
       "29. 0.0001349\n",
       "30. 0.003446841\n",
       "\n",
       "\n"
      ],
      "text/plain": [
       " [1] 0.000000000 0.000000000 0.000000000 0.000000000 0.000000000 0.000000000\n",
       " [7] 0.000000000 0.000000000 0.000000000 0.000000000 0.000000000 0.000000000\n",
       "[13] 0.000000000 0.000000000 0.000000000 0.000000000 0.000000000 0.000000000\n",
       "[19] 0.000000000 0.000000000 0.000000000 0.000000000 0.000000000 0.000080900\n",
       "[25] 0.000000000 0.000062400 0.000000000 0.000176000 0.000134900 0.003446841"
      ]
     },
     "metadata": {},
     "output_type": "display_data"
    },
    {
     "data": {
      "text/html": [
       "<table>\n",
       "<thead><tr><th></th><th scope=col>filename</th><th scope=col>MouseID</th><th scope=col>Treatmentgroup</th><th scope=col>status</th><th scope=col>DPI</th><th scope=col>organ</th><th scope=col>well_position</th><th scope=col>plate</th><th scope=col>nonzero</th></tr></thead>\n",
       "<tbody>\n",
       "\t<tr><th scope=row>31</th><td>X511_Group1C_142dpi_RV_bottom_161_G_A1_P140.mzXML</td><td>511                                              </td><td>Group1C                                          </td><td>naive                                            </td><td>DPI_142                                          </td><td>RV_bottom                                        </td><td>A1                                               </td><td>P140                                             </td><td>0                                                </td></tr>\n",
       "\t<tr><th scope=row>32</th><td>X512_Group1C_142dpi_RV_bottom_162_G_A2_P140.mzXML</td><td>512                                              </td><td>Group1C                                          </td><td>naive                                            </td><td>DPI_142                                          </td><td>RV_bottom                                        </td><td>A2                                               </td><td>P140                                             </td><td>0                                                </td></tr>\n",
       "\t<tr><th scope=row>33</th><td>X513_Group1C_142dpi_RV_bottom_163_G_A3_P140.mzXML</td><td>513                                              </td><td>Group1C                                          </td><td>naive                                            </td><td>DPI_142                                          </td><td>RV_bottom                                        </td><td>A3                                               </td><td>P140                                             </td><td>0                                                </td></tr>\n",
       "\t<tr><th scope=row>34</th><td>X514_Group1C_142dpi_RV_bottom_164_G_A4_P140.mzXML</td><td>514                                              </td><td>Group1C                                          </td><td>naive                                            </td><td>DPI_142                                          </td><td>RV_bottom                                        </td><td>A4                                               </td><td>P140                                             </td><td>0                                                </td></tr>\n",
       "\t<tr><th scope=row>35</th><td>X515_Group1C_142dpi_RV_bottom_165_G_A5_P140.mzXML</td><td>515                                              </td><td>Group1C                                          </td><td>naive                                            </td><td>DPI_142                                          </td><td>RV_bottom                                        </td><td>A5                                               </td><td>P140                                             </td><td>0                                                </td></tr>\n",
       "\t<tr><th scope=row>36</th><td>X531_Group1C_142dpi_RV_bottom_166_G_A6_P140.mzXML</td><td>531                                              </td><td>Group1C                                          </td><td>naive                                            </td><td>DPI_142                                          </td><td>RV_bottom                                        </td><td>A6                                               </td><td>P140                                             </td><td>0                                                </td></tr>\n",
       "</tbody>\n",
       "</table>\n"
      ],
      "text/latex": [
       "\\begin{tabular}{r|lllllllll}\n",
       "  & filename & MouseID & Treatmentgroup & status & DPI & organ & well\\_position & plate & nonzero\\\\\n",
       "\\hline\n",
       "\t31 & X511\\_Group1C\\_142dpi\\_RV\\_bottom\\_161\\_G\\_A1\\_P140.mzXML & 511                                                               & Group1C                                                           & naive                                                             & DPI\\_142                                                         & RV\\_bottom                                                       & A1                                                                & P140                                                              & 0                                                                \\\\\n",
       "\t32 & X512\\_Group1C\\_142dpi\\_RV\\_bottom\\_162\\_G\\_A2\\_P140.mzXML & 512                                                               & Group1C                                                           & naive                                                             & DPI\\_142                                                         & RV\\_bottom                                                       & A2                                                                & P140                                                              & 0                                                                \\\\\n",
       "\t33 & X513\\_Group1C\\_142dpi\\_RV\\_bottom\\_163\\_G\\_A3\\_P140.mzXML & 513                                                               & Group1C                                                           & naive                                                             & DPI\\_142                                                         & RV\\_bottom                                                       & A3                                                                & P140                                                              & 0                                                                \\\\\n",
       "\t34 & X514\\_Group1C\\_142dpi\\_RV\\_bottom\\_164\\_G\\_A4\\_P140.mzXML & 514                                                               & Group1C                                                           & naive                                                             & DPI\\_142                                                         & RV\\_bottom                                                       & A4                                                                & P140                                                              & 0                                                                \\\\\n",
       "\t35 & X515\\_Group1C\\_142dpi\\_RV\\_bottom\\_165\\_G\\_A5\\_P140.mzXML & 515                                                               & Group1C                                                           & naive                                                             & DPI\\_142                                                         & RV\\_bottom                                                       & A5                                                                & P140                                                              & 0                                                                \\\\\n",
       "\t36 & X531\\_Group1C\\_142dpi\\_RV\\_bottom\\_166\\_G\\_A6\\_P140.mzXML & 531                                                               & Group1C                                                           & naive                                                             & DPI\\_142                                                         & RV\\_bottom                                                       & A6                                                                & P140                                                              & 0                                                                \\\\\n",
       "\\end{tabular}\n"
      ],
      "text/markdown": [
       "\n",
       "| <!--/--> | filename | MouseID | Treatmentgroup | status | DPI | organ | well_position | plate | nonzero |\n",
       "|---|---|---|---|---|---|---|---|---|---|\n",
       "| 31 | X511_Group1C_142dpi_RV_bottom_161_G_A1_P140.mzXML | 511                                               | Group1C                                           | naive                                             | DPI_142                                           | RV_bottom                                         | A1                                                | P140                                              | 0                                                 |\n",
       "| 32 | X512_Group1C_142dpi_RV_bottom_162_G_A2_P140.mzXML | 512                                               | Group1C                                           | naive                                             | DPI_142                                           | RV_bottom                                         | A2                                                | P140                                              | 0                                                 |\n",
       "| 33 | X513_Group1C_142dpi_RV_bottom_163_G_A3_P140.mzXML | 513                                               | Group1C                                           | naive                                             | DPI_142                                           | RV_bottom                                         | A3                                                | P140                                              | 0                                                 |\n",
       "| 34 | X514_Group1C_142dpi_RV_bottom_164_G_A4_P140.mzXML | 514                                               | Group1C                                           | naive                                             | DPI_142                                           | RV_bottom                                         | A4                                                | P140                                              | 0                                                 |\n",
       "| 35 | X515_Group1C_142dpi_RV_bottom_165_G_A5_P140.mzXML | 515                                               | Group1C                                           | naive                                             | DPI_142                                           | RV_bottom                                         | A5                                                | P140                                              | 0                                                 |\n",
       "| 36 | X531_Group1C_142dpi_RV_bottom_166_G_A6_P140.mzXML | 531                                               | Group1C                                           | naive                                             | DPI_142                                           | RV_bottom                                         | A6                                                | P140                                              | 0                                                 |\n",
       "\n"
      ],
      "text/plain": [
       "   filename                                          MouseID Treatmentgroup\n",
       "31 X511_Group1C_142dpi_RV_bottom_161_G_A1_P140.mzXML 511     Group1C       \n",
       "32 X512_Group1C_142dpi_RV_bottom_162_G_A2_P140.mzXML 512     Group1C       \n",
       "33 X513_Group1C_142dpi_RV_bottom_163_G_A3_P140.mzXML 513     Group1C       \n",
       "34 X514_Group1C_142dpi_RV_bottom_164_G_A4_P140.mzXML 514     Group1C       \n",
       "35 X515_Group1C_142dpi_RV_bottom_165_G_A5_P140.mzXML 515     Group1C       \n",
       "36 X531_Group1C_142dpi_RV_bottom_166_G_A6_P140.mzXML 531     Group1C       \n",
       "   status DPI     organ     well_position plate nonzero\n",
       "31 naive  DPI_142 RV_bottom A1            P140  0      \n",
       "32 naive  DPI_142 RV_bottom A2            P140  0      \n",
       "33 naive  DPI_142 RV_bottom A3            P140  0      \n",
       "34 naive  DPI_142 RV_bottom A4            P140  0      \n",
       "35 naive  DPI_142 RV_bottom A5            P140  0      \n",
       "36 naive  DPI_142 RV_bottom A6            P140  0      "
      ]
     },
     "metadata": {},
     "output_type": "display_data"
    },
    {
     "data": {
      "text/html": [
       "<ol class=list-inline>\n",
       "\t<li>30</li>\n",
       "\t<li>10</li>\n",
       "</ol>\n"
      ],
      "text/latex": [
       "\\begin{enumerate*}\n",
       "\\item 30\n",
       "\\item 10\n",
       "\\end{enumerate*}\n"
      ],
      "text/markdown": [
       "1. 30\n",
       "2. 10\n",
       "\n",
       "\n"
      ],
      "text/plain": [
       "[1] 30 10"
      ]
     },
     "metadata": {},
     "output_type": "display_data"
    },
    {
     "data": {
      "text/html": [
       "<ol class=list-inline>\n",
       "\t<li>30</li>\n",
       "\t<li>2</li>\n",
       "</ol>\n"
      ],
      "text/latex": [
       "\\begin{enumerate*}\n",
       "\\item 30\n",
       "\\item 2\n",
       "\\end{enumerate*}\n"
      ],
      "text/markdown": [
       "1. 30\n",
       "2. 2\n",
       "\n",
       "\n"
      ],
      "text/plain": [
       "[1] 30  2"
      ]
     },
     "metadata": {},
     "output_type": "display_data"
    },
    {
     "data": {
      "text/plain": [
       "NULL"
      ]
     },
     "metadata": {},
     "output_type": "display_data"
    },
    {
     "data": {
      "text/html": [
       "<ol class=list-inline>\n",
       "\t<li>30</li>\n",
       "\t<li>9</li>\n",
       "</ol>\n"
      ],
      "text/latex": [
       "\\begin{enumerate*}\n",
       "\\item 30\n",
       "\\item 9\n",
       "\\end{enumerate*}\n"
      ],
      "text/markdown": [
       "1. 30\n",
       "2. 9\n",
       "\n",
       "\n"
      ],
      "text/plain": [
       "[1] 30  9"
      ]
     },
     "metadata": {},
     "output_type": "display_data"
    }
   ],
   "source": [
    "noMeta<-features_pos[,9:10] \n",
    "head(noMeta)\n",
    "not_zero<-which(colSums(noMeta) != 0)\n",
    "head(not_zero)\n",
    "nonzero <- noMeta[, not_zero]\n",
    "nonzero\n",
    "nonzero_wMeta<-cbind(features_pos[,1:8], nonzero)\n",
    "head(nonzero_wMeta)\n",
    "dim(features_pos)\n",
    "dim(noMeta)\n",
    "dim(nonzero)\n",
    "dim(nonzero_wMeta)"
   ]
  },
  {
   "cell_type": "code",
   "execution_count": 5,
   "metadata": {
    "scrolled": true
   },
   "outputs": [
    {
     "name": "stderr",
     "output_type": "stream",
     "text": [
      "Warning message in wilcox.test.default(x = c(0, 0, 0, 0, 0, 0, 0, 0, 0, 0, 0, 0, :\n",
      "\"cannot compute exact p-value with ties\""
     ]
    },
    {
     "data": {
      "text/html": [
       "0.0180966134767002"
      ],
      "text/latex": [
       "0.0180966134767002"
      ],
      "text/markdown": [
       "0.0180966134767002"
      ],
      "text/plain": [
       "[1] 0.01809661"
      ]
     },
     "metadata": {},
     "output_type": "display_data"
    },
    {
     "data": {
      "text/html": [
       "0.0180966134767002"
      ],
      "text/latex": [
       "0.0180966134767002"
      ],
      "text/markdown": [
       "0.0180966134767002"
      ],
      "text/plain": [
       "[1] 0.01809661"
      ]
     },
     "metadata": {},
     "output_type": "display_data"
    }
   ],
   "source": [
    "pval<-c()\n",
    "\n",
    "for (i in 9:ncol(nonzero_wMeta)) \n",
    "pval<-c(pval,wilcox.test(nonzero_wMeta[,i]~nonzero_wMeta$Treatmentgroup)$p.value)\n",
    "head(pval) \n",
    "pAdj <- p.adjust(pval, method = c(\"fdr\"), n=length(pval)) \n",
    "head(pAdj) \n",
    "\n"
   ]
  },
  {
   "cell_type": "code",
   "execution_count": 6,
   "metadata": {
    "scrolled": true
   },
   "outputs": [
    {
     "data": {
      "text/html": [
       "1"
      ],
      "text/latex": [
       "1"
      ],
      "text/markdown": [
       "1"
      ],
      "text/plain": [
       "[1] 1"
      ]
     },
     "metadata": {},
     "output_type": "display_data"
    }
   ],
   "source": [
    "length(pval)"
   ]
  },
  {
   "cell_type": "code",
   "execution_count": 7,
   "metadata": {
    "scrolled": true
   },
   "outputs": [
    {
     "data": {
      "text/html": [
       "1"
      ],
      "text/latex": [
       "1"
      ],
      "text/markdown": [
       "1"
      ],
      "text/plain": [
       "[1] 1"
      ]
     },
     "metadata": {},
     "output_type": "display_data"
    }
   ],
   "source": [
    "length(pAdj)"
   ]
  },
  {
   "cell_type": "code",
   "execution_count": 8,
   "metadata": {},
   "outputs": [
    {
     "ename": "ERROR",
     "evalue": "Error in apply(nonzero_wMeta[, 9:ncol(nonzero_wMeta)], 2, function(x) tapply(x, : dim(X) must have a positive length\n",
     "output_type": "error",
     "traceback": [
      "Error in apply(nonzero_wMeta[, 9:ncol(nonzero_wMeta)], 2, function(x) tapply(x, : dim(X) must have a positive length\nTraceback:\n",
      "1. apply(nonzero_wMeta[, 9:ncol(nonzero_wMeta)], 2, function(x) tapply(x, \n .     nonzero_wMeta$Treatmentgroup, function(x) mean(x)))",
      "2. stop(\"dim(X) must have a positive length\")"
     ]
    }
   ],
   "source": [
    "avg<- apply(nonzero_wMeta[,9:ncol(nonzero_wMeta)], 2, function(x) tapply(x, nonzero_wMeta$Treatmentgroup, function(x) mean(x))) \n",
    "\n",
    "dim(avg) \n",
    "\n",
    "avg[,1:2]\n",
    "\n",
    "fch <- apply(avg, 2, function(x) x[1]/x[2])\n",
    "\n",
    "head(fch)\n",
    "is(fch)"
   ]
  },
  {
   "cell_type": "code",
   "execution_count": 9,
   "metadata": {
    "scrolled": true
   },
   "outputs": [
    {
     "ename": "ERROR",
     "evalue": "Error in eval(expr, envir, enclos): object 'fch' not found\n",
     "output_type": "error",
     "traceback": [
      "Error in eval(expr, envir, enclos): object 'fch' not found\nTraceback:\n"
     ]
    }
   ],
   "source": [
    "fch"
   ]
  },
  {
   "cell_type": "code",
   "execution_count": 10,
   "metadata": {
    "scrolled": false
   },
   "outputs": [],
   "source": [
    "df <- data.frame(pval, pAdj)\n",
    "write.csv(df, \"CAR-time-RVB-wilcox-1C-3E.csv\")"
   ]
  },
  {
   "cell_type": "code",
   "execution_count": null,
   "metadata": {},
   "outputs": [],
   "source": []
  },
  {
   "cell_type": "code",
   "execution_count": null,
   "metadata": {},
   "outputs": [],
   "source": []
  },
  {
   "cell_type": "code",
   "execution_count": null,
   "metadata": {},
   "outputs": [],
   "source": []
  },
  {
   "cell_type": "code",
   "execution_count": null,
   "metadata": {},
   "outputs": [],
   "source": []
  },
  {
   "cell_type": "code",
   "execution_count": null,
   "metadata": {},
   "outputs": [],
   "source": []
  },
  {
   "cell_type": "code",
   "execution_count": null,
   "metadata": {},
   "outputs": [],
   "source": []
  }
 ],
 "metadata": {
  "kernelspec": {
   "display_name": "R",
   "language": "R",
   "name": "ir"
  },
  "language_info": {
   "codemirror_mode": "r",
   "file_extension": ".r",
   "mimetype": "text/x-r-source",
   "name": "R",
   "pygments_lexer": "r",
   "version": "3.6.1"
  }
 },
 "nbformat": 4,
 "nbformat_minor": 2
}
