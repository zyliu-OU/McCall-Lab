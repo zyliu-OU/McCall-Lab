{
 "cells": [
  {
   "cell_type": "code",
   "execution_count": 31,
   "metadata": {},
   "outputs": [],
   "source": [
    "a <- read.csv(\"03172021-CAR-time-RVB-M-F.csv\")"
   ]
  },
  {
   "cell_type": "code",
   "execution_count": 32,
   "metadata": {},
   "outputs": [
    {
     "data": {
      "text/html": [
       "<table>\n",
       "<thead><tr><th scope=col>filename</th><th scope=col>MouseID</th><th scope=col>Treatmentgroup</th><th scope=col>status</th><th scope=col>DPI</th><th scope=col>organ</th><th scope=col>well_position</th><th scope=col>plate</th><th scope=col>CAR_mid_chain</th><th scope=col>CAR_long_chain</th></tr></thead>\n",
       "<tbody>\n",
       "\t<tr><td>X501_Group1A_50dpi_RV_bottom_251_B_A1_P141.mzXML</td><td>501                                             </td><td>Group1A                                         </td><td>naive                                           </td><td>DPI_50                                          </td><td>RV_bottom                                       </td><td>A1                                              </td><td>P141                                            </td><td>0.00e+00                                        </td><td>0.024538733                                     </td></tr>\n",
       "\t<tr><td>X502_Group1A_50dpi_RV_bottom_252_B_A2_P141.mzXML</td><td>502                                             </td><td>Group1A                                         </td><td>naive                                           </td><td>DPI_50                                          </td><td>RV_bottom                                       </td><td>A2                                              </td><td>P141                                            </td><td>1.77e-05                                        </td><td>0.003547525                                     </td></tr>\n",
       "\t<tr><td>X503_Group1A_50dpi_RV_bottom_253_B_A3_P141.mzXML</td><td>503                                             </td><td>Group1A                                         </td><td>naive                                           </td><td>DPI_50                                          </td><td>RV_bottom                                       </td><td>A3                                              </td><td>P141                                            </td><td>0.00e+00                                        </td><td>0.000311600                                     </td></tr>\n",
       "\t<tr><td>X504_Group1A_50dpi_RV_bottom_254_B_A4_P141.mzXML</td><td>504                                             </td><td>Group1A                                         </td><td>naive                                           </td><td>DPI_50                                          </td><td>RV_bottom                                       </td><td>A4                                              </td><td>P141                                            </td><td>0.00e+00                                        </td><td>0.003262340                                     </td></tr>\n",
       "\t<tr><td>X505_Group1A_50dpi_RV_bottom_255_B_A5_P141.mzXML</td><td>505                                             </td><td>Group1A                                         </td><td>naive                                           </td><td>DPI_50                                          </td><td>RV_bottom                                       </td><td>A5                                              </td><td>P141                                            </td><td>0.00e+00                                        </td><td>0.028324386                                     </td></tr>\n",
       "\t<tr><td>X521_Group1A_50dpi_RV_bottom_256_B_A6_P141.mzXML</td><td>521                                             </td><td>Group1A                                         </td><td>naive                                           </td><td>DPI_50                                          </td><td>RV_bottom                                       </td><td>A6                                              </td><td>P141                                            </td><td>0.00e+00                                        </td><td>0.012080991                                     </td></tr>\n",
       "</tbody>\n",
       "</table>\n"
      ],
      "text/latex": [
       "\\begin{tabular}{r|llllllllll}\n",
       " filename & MouseID & Treatmentgroup & status & DPI & organ & well\\_position & plate & CAR\\_mid\\_chain & CAR\\_long\\_chain\\\\\n",
       "\\hline\n",
       "\t X501\\_Group1A\\_50dpi\\_RV\\_bottom\\_251\\_B\\_A1\\_P141.mzXML & 501                                                              & Group1A                                                          & naive                                                            & DPI\\_50                                                         & RV\\_bottom                                                      & A1                                                               & P141                                                             & 0.00e+00                                                         & 0.024538733                                                     \\\\\n",
       "\t X502\\_Group1A\\_50dpi\\_RV\\_bottom\\_252\\_B\\_A2\\_P141.mzXML & 502                                                              & Group1A                                                          & naive                                                            & DPI\\_50                                                         & RV\\_bottom                                                      & A2                                                               & P141                                                             & 1.77e-05                                                         & 0.003547525                                                     \\\\\n",
       "\t X503\\_Group1A\\_50dpi\\_RV\\_bottom\\_253\\_B\\_A3\\_P141.mzXML & 503                                                              & Group1A                                                          & naive                                                            & DPI\\_50                                                         & RV\\_bottom                                                      & A3                                                               & P141                                                             & 0.00e+00                                                         & 0.000311600                                                     \\\\\n",
       "\t X504\\_Group1A\\_50dpi\\_RV\\_bottom\\_254\\_B\\_A4\\_P141.mzXML & 504                                                              & Group1A                                                          & naive                                                            & DPI\\_50                                                         & RV\\_bottom                                                      & A4                                                               & P141                                                             & 0.00e+00                                                         & 0.003262340                                                     \\\\\n",
       "\t X505\\_Group1A\\_50dpi\\_RV\\_bottom\\_255\\_B\\_A5\\_P141.mzXML & 505                                                              & Group1A                                                          & naive                                                            & DPI\\_50                                                         & RV\\_bottom                                                      & A5                                                               & P141                                                             & 0.00e+00                                                         & 0.028324386                                                     \\\\\n",
       "\t X521\\_Group1A\\_50dpi\\_RV\\_bottom\\_256\\_B\\_A6\\_P141.mzXML & 521                                                              & Group1A                                                          & naive                                                            & DPI\\_50                                                         & RV\\_bottom                                                      & A6                                                               & P141                                                             & 0.00e+00                                                         & 0.012080991                                                     \\\\\n",
       "\\end{tabular}\n"
      ],
      "text/markdown": [
       "\n",
       "| filename | MouseID | Treatmentgroup | status | DPI | organ | well_position | plate | CAR_mid_chain | CAR_long_chain |\n",
       "|---|---|---|---|---|---|---|---|---|---|\n",
       "| X501_Group1A_50dpi_RV_bottom_251_B_A1_P141.mzXML | 501                                              | Group1A                                          | naive                                            | DPI_50                                           | RV_bottom                                        | A1                                               | P141                                             | 0.00e+00                                         | 0.024538733                                      |\n",
       "| X502_Group1A_50dpi_RV_bottom_252_B_A2_P141.mzXML | 502                                              | Group1A                                          | naive                                            | DPI_50                                           | RV_bottom                                        | A2                                               | P141                                             | 1.77e-05                                         | 0.003547525                                      |\n",
       "| X503_Group1A_50dpi_RV_bottom_253_B_A3_P141.mzXML | 503                                              | Group1A                                          | naive                                            | DPI_50                                           | RV_bottom                                        | A3                                               | P141                                             | 0.00e+00                                         | 0.000311600                                      |\n",
       "| X504_Group1A_50dpi_RV_bottom_254_B_A4_P141.mzXML | 504                                              | Group1A                                          | naive                                            | DPI_50                                           | RV_bottom                                        | A4                                               | P141                                             | 0.00e+00                                         | 0.003262340                                      |\n",
       "| X505_Group1A_50dpi_RV_bottom_255_B_A5_P141.mzXML | 505                                              | Group1A                                          | naive                                            | DPI_50                                           | RV_bottom                                        | A5                                               | P141                                             | 0.00e+00                                         | 0.028324386                                      |\n",
       "| X521_Group1A_50dpi_RV_bottom_256_B_A6_P141.mzXML | 521                                              | Group1A                                          | naive                                            | DPI_50                                           | RV_bottom                                        | A6                                               | P141                                             | 0.00e+00                                         | 0.012080991                                      |\n",
       "\n"
      ],
      "text/plain": [
       "  filename                                         MouseID Treatmentgroup\n",
       "1 X501_Group1A_50dpi_RV_bottom_251_B_A1_P141.mzXML 501     Group1A       \n",
       "2 X502_Group1A_50dpi_RV_bottom_252_B_A2_P141.mzXML 502     Group1A       \n",
       "3 X503_Group1A_50dpi_RV_bottom_253_B_A3_P141.mzXML 503     Group1A       \n",
       "4 X504_Group1A_50dpi_RV_bottom_254_B_A4_P141.mzXML 504     Group1A       \n",
       "5 X505_Group1A_50dpi_RV_bottom_255_B_A5_P141.mzXML 505     Group1A       \n",
       "6 X521_Group1A_50dpi_RV_bottom_256_B_A6_P141.mzXML 521     Group1A       \n",
       "  status DPI    organ     well_position plate CAR_mid_chain CAR_long_chain\n",
       "1 naive  DPI_50 RV_bottom A1            P141  0.00e+00      0.024538733   \n",
       "2 naive  DPI_50 RV_bottom A2            P141  1.77e-05      0.003547525   \n",
       "3 naive  DPI_50 RV_bottom A3            P141  0.00e+00      0.000311600   \n",
       "4 naive  DPI_50 RV_bottom A4            P141  0.00e+00      0.003262340   \n",
       "5 naive  DPI_50 RV_bottom A5            P141  0.00e+00      0.028324386   \n",
       "6 naive  DPI_50 RV_bottom A6            P141  0.00e+00      0.012080991   "
      ]
     },
     "metadata": {},
     "output_type": "display_data"
    },
    {
     "data": {
      "text/html": [
       "<ol class=list-inline>\n",
       "\t<li>90</li>\n",
       "\t<li>10</li>\n",
       "</ol>\n"
      ],
      "text/latex": [
       "\\begin{enumerate*}\n",
       "\\item 90\n",
       "\\item 10\n",
       "\\end{enumerate*}\n"
      ],
      "text/markdown": [
       "1. 90\n",
       "2. 10\n",
       "\n",
       "\n"
      ],
      "text/plain": [
       "[1] 90 10"
      ]
     },
     "metadata": {},
     "output_type": "display_data"
    }
   ],
   "source": [
    "head(a)\n",
    "dim(a)"
   ]
  },
  {
   "cell_type": "code",
   "execution_count": 33,
   "metadata": {},
   "outputs": [
    {
     "data": {
      "text/html": [
       "<table>\n",
       "<thead><tr><th></th><th scope=col>filename</th><th scope=col>MouseID</th><th scope=col>Treatmentgroup</th><th scope=col>status</th><th scope=col>DPI</th><th scope=col>organ</th><th scope=col>well_position</th><th scope=col>plate</th><th scope=col>CAR_mid_chain</th><th scope=col>CAR_long_chain</th></tr></thead>\n",
       "<tbody>\n",
       "\t<tr><th scope=row>16</th><td>X506_Group1B_70dpi_RV_bottom_281_B_C7_P141.mzXML </td><td>506                                              </td><td>Group1B                                          </td><td>naive                                            </td><td>DPI_75                                           </td><td>RV_bottom                                        </td><td>C7                                               </td><td>P141                                             </td><td>0                                                </td><td>0.000095800                                      </td></tr>\n",
       "\t<tr><th scope=row>17</th><td>X507_Group1B_70dpi_RV_bottom_282_B_C8_P141.mzXML </td><td>507                                              </td><td>Group1B                                          </td><td>naive                                            </td><td>DPI_75                                           </td><td>RV_bottom                                        </td><td>C8                                               </td><td>P141                                             </td><td>0                                                </td><td>0.006279905                                      </td></tr>\n",
       "\t<tr><th scope=row>18</th><td>X508_Group1B_70dpi_RV_bottom_283_B_C9_P141.mzXML </td><td>508                                              </td><td>Group1B                                          </td><td>naive                                            </td><td>DPI_75                                           </td><td>RV_bottom                                        </td><td>C9                                               </td><td>P141                                             </td><td>0                                                </td><td>0.007807547                                      </td></tr>\n",
       "\t<tr><th scope=row>19</th><td>X509_Group1B_70dpi_RV_bottom_284_B_C10_P141.mzXML</td><td>509                                              </td><td>Group1B                                          </td><td>naive                                            </td><td>DPI_75                                           </td><td>RV_bottom                                        </td><td>C10                                              </td><td>P141                                             </td><td>0                                                </td><td>0.000066800                                      </td></tr>\n",
       "\t<tr><th scope=row>20</th><td>X510_Group1B_70dpi_RV_bottom_285_B_C11_P141.mzXML</td><td>510                                              </td><td>Group1B                                          </td><td>naive                                            </td><td>DPI_75                                           </td><td>RV_bottom                                        </td><td>C11                                              </td><td>P141                                             </td><td>0                                                </td><td>0.000396199                                      </td></tr>\n",
       "\t<tr><th scope=row>21</th><td>X526_Group1B_70dpi_RV_bottom_286_B_C12_P141.mzXML</td><td>526                                              </td><td>Group1B                                          </td><td>naive                                            </td><td>DPI_75                                           </td><td>RV_bottom                                        </td><td>C12                                              </td><td>P141                                             </td><td>0                                                </td><td>0.001963018                                      </td></tr>\n",
       "</tbody>\n",
       "</table>\n"
      ],
      "text/latex": [
       "\\begin{tabular}{r|llllllllll}\n",
       "  & filename & MouseID & Treatmentgroup & status & DPI & organ & well\\_position & plate & CAR\\_mid\\_chain & CAR\\_long\\_chain\\\\\n",
       "\\hline\n",
       "\t16 & X506\\_Group1B\\_70dpi\\_RV\\_bottom\\_281\\_B\\_C7\\_P141.mzXML  & 506                                                               & Group1B                                                           & naive                                                             & DPI\\_75                                                          & RV\\_bottom                                                       & C7                                                                & P141                                                              & 0                                                                 & 0.000095800                                                      \\\\\n",
       "\t17 & X507\\_Group1B\\_70dpi\\_RV\\_bottom\\_282\\_B\\_C8\\_P141.mzXML  & 507                                                               & Group1B                                                           & naive                                                             & DPI\\_75                                                          & RV\\_bottom                                                       & C8                                                                & P141                                                              & 0                                                                 & 0.006279905                                                      \\\\\n",
       "\t18 & X508\\_Group1B\\_70dpi\\_RV\\_bottom\\_283\\_B\\_C9\\_P141.mzXML  & 508                                                               & Group1B                                                           & naive                                                             & DPI\\_75                                                          & RV\\_bottom                                                       & C9                                                                & P141                                                              & 0                                                                 & 0.007807547                                                      \\\\\n",
       "\t19 & X509\\_Group1B\\_70dpi\\_RV\\_bottom\\_284\\_B\\_C10\\_P141.mzXML & 509                                                               & Group1B                                                           & naive                                                             & DPI\\_75                                                          & RV\\_bottom                                                       & C10                                                               & P141                                                              & 0                                                                 & 0.000066800                                                      \\\\\n",
       "\t20 & X510\\_Group1B\\_70dpi\\_RV\\_bottom\\_285\\_B\\_C11\\_P141.mzXML & 510                                                               & Group1B                                                           & naive                                                             & DPI\\_75                                                          & RV\\_bottom                                                       & C11                                                               & P141                                                              & 0                                                                 & 0.000396199                                                      \\\\\n",
       "\t21 & X526\\_Group1B\\_70dpi\\_RV\\_bottom\\_286\\_B\\_C12\\_P141.mzXML & 526                                                               & Group1B                                                           & naive                                                             & DPI\\_75                                                          & RV\\_bottom                                                       & C12                                                               & P141                                                              & 0                                                                 & 0.001963018                                                      \\\\\n",
       "\\end{tabular}\n"
      ],
      "text/markdown": [
       "\n",
       "| <!--/--> | filename | MouseID | Treatmentgroup | status | DPI | organ | well_position | plate | CAR_mid_chain | CAR_long_chain |\n",
       "|---|---|---|---|---|---|---|---|---|---|---|\n",
       "| 16 | X506_Group1B_70dpi_RV_bottom_281_B_C7_P141.mzXML  | 506                                               | Group1B                                           | naive                                             | DPI_75                                            | RV_bottom                                         | C7                                                | P141                                              | 0                                                 | 0.000095800                                       |\n",
       "| 17 | X507_Group1B_70dpi_RV_bottom_282_B_C8_P141.mzXML  | 507                                               | Group1B                                           | naive                                             | DPI_75                                            | RV_bottom                                         | C8                                                | P141                                              | 0                                                 | 0.006279905                                       |\n",
       "| 18 | X508_Group1B_70dpi_RV_bottom_283_B_C9_P141.mzXML  | 508                                               | Group1B                                           | naive                                             | DPI_75                                            | RV_bottom                                         | C9                                                | P141                                              | 0                                                 | 0.007807547                                       |\n",
       "| 19 | X509_Group1B_70dpi_RV_bottom_284_B_C10_P141.mzXML | 509                                               | Group1B                                           | naive                                             | DPI_75                                            | RV_bottom                                         | C10                                               | P141                                              | 0                                                 | 0.000066800                                       |\n",
       "| 20 | X510_Group1B_70dpi_RV_bottom_285_B_C11_P141.mzXML | 510                                               | Group1B                                           | naive                                             | DPI_75                                            | RV_bottom                                         | C11                                               | P141                                              | 0                                                 | 0.000396199                                       |\n",
       "| 21 | X526_Group1B_70dpi_RV_bottom_286_B_C12_P141.mzXML | 526                                               | Group1B                                           | naive                                             | DPI_75                                            | RV_bottom                                         | C12                                               | P141                                              | 0                                                 | 0.001963018                                       |\n",
       "\n"
      ],
      "text/plain": [
       "   filename                                          MouseID Treatmentgroup\n",
       "16 X506_Group1B_70dpi_RV_bottom_281_B_C7_P141.mzXML  506     Group1B       \n",
       "17 X507_Group1B_70dpi_RV_bottom_282_B_C8_P141.mzXML  507     Group1B       \n",
       "18 X508_Group1B_70dpi_RV_bottom_283_B_C9_P141.mzXML  508     Group1B       \n",
       "19 X509_Group1B_70dpi_RV_bottom_284_B_C10_P141.mzXML 509     Group1B       \n",
       "20 X510_Group1B_70dpi_RV_bottom_285_B_C11_P141.mzXML 510     Group1B       \n",
       "21 X526_Group1B_70dpi_RV_bottom_286_B_C12_P141.mzXML 526     Group1B       \n",
       "   status DPI    organ     well_position plate CAR_mid_chain CAR_long_chain\n",
       "16 naive  DPI_75 RV_bottom C7            P141  0             0.000095800   \n",
       "17 naive  DPI_75 RV_bottom C8            P141  0             0.006279905   \n",
       "18 naive  DPI_75 RV_bottom C9            P141  0             0.007807547   \n",
       "19 naive  DPI_75 RV_bottom C10           P141  0             0.000066800   \n",
       "20 naive  DPI_75 RV_bottom C11           P141  0             0.000396199   \n",
       "21 naive  DPI_75 RV_bottom C12           P141  0             0.001963018   "
      ]
     },
     "metadata": {},
     "output_type": "display_data"
    },
    {
     "data": {
      "text/html": [
       "<ol class=list-inline>\n",
       "\t<li>30</li>\n",
       "\t<li>10</li>\n",
       "</ol>\n"
      ],
      "text/latex": [
       "\\begin{enumerate*}\n",
       "\\item 30\n",
       "\\item 10\n",
       "\\end{enumerate*}\n"
      ],
      "text/markdown": [
       "1. 30\n",
       "2. 10\n",
       "\n",
       "\n"
      ],
      "text/plain": [
       "[1] 30 10"
      ]
     },
     "metadata": {},
     "output_type": "display_data"
    }
   ],
   "source": [
    "features_pos<-droplevels(subset(a, a$Treatmentgroup==c(\"Group1B\")|a$Treatmentgroup==c(\"Group3B\")))\n",
    "head(features_pos)\n",
    "dim(features_pos)"
   ]
  },
  {
   "cell_type": "code",
   "execution_count": 34,
   "metadata": {
    "scrolled": false
   },
   "outputs": [
    {
     "data": {
      "text/html": [
       "<table>\n",
       "<thead><tr><th></th><th scope=col>CAR_mid_chain</th><th scope=col>CAR_long_chain</th></tr></thead>\n",
       "<tbody>\n",
       "\t<tr><th scope=row>16</th><td>0          </td><td>0.000095800</td></tr>\n",
       "\t<tr><th scope=row>17</th><td>0          </td><td>0.006279905</td></tr>\n",
       "\t<tr><th scope=row>18</th><td>0          </td><td>0.007807547</td></tr>\n",
       "\t<tr><th scope=row>19</th><td>0          </td><td>0.000066800</td></tr>\n",
       "\t<tr><th scope=row>20</th><td>0          </td><td>0.000396199</td></tr>\n",
       "\t<tr><th scope=row>21</th><td>0          </td><td>0.001963018</td></tr>\n",
       "</tbody>\n",
       "</table>\n"
      ],
      "text/latex": [
       "\\begin{tabular}{r|ll}\n",
       "  & CAR\\_mid\\_chain & CAR\\_long\\_chain\\\\\n",
       "\\hline\n",
       "\t16 & 0           & 0.000095800\\\\\n",
       "\t17 & 0           & 0.006279905\\\\\n",
       "\t18 & 0           & 0.007807547\\\\\n",
       "\t19 & 0           & 0.000066800\\\\\n",
       "\t20 & 0           & 0.000396199\\\\\n",
       "\t21 & 0           & 0.001963018\\\\\n",
       "\\end{tabular}\n"
      ],
      "text/markdown": [
       "\n",
       "| <!--/--> | CAR_mid_chain | CAR_long_chain |\n",
       "|---|---|---|\n",
       "| 16 | 0           | 0.000095800 |\n",
       "| 17 | 0           | 0.006279905 |\n",
       "| 18 | 0           | 0.007807547 |\n",
       "| 19 | 0           | 0.000066800 |\n",
       "| 20 | 0           | 0.000396199 |\n",
       "| 21 | 0           | 0.001963018 |\n",
       "\n"
      ],
      "text/plain": [
       "   CAR_mid_chain CAR_long_chain\n",
       "16 0             0.000095800   \n",
       "17 0             0.006279905   \n",
       "18 0             0.007807547   \n",
       "19 0             0.000066800   \n",
       "20 0             0.000396199   \n",
       "21 0             0.001963018   "
      ]
     },
     "metadata": {},
     "output_type": "display_data"
    },
    {
     "data": {
      "text/html": [
       "<strong>CAR_long_chain:</strong> 2"
      ],
      "text/latex": [
       "\\textbf{CAR\\textbackslash{}\\_long\\textbackslash{}\\_chain:} 2"
      ],
      "text/markdown": [
       "**CAR_long_chain:** 2"
      ],
      "text/plain": [
       "CAR_long_chain \n",
       "             2 "
      ]
     },
     "metadata": {},
     "output_type": "display_data"
    },
    {
     "data": {
      "text/html": [
       "<ol class=list-inline>\n",
       "\t<li>9.58e-05</li>\n",
       "\t<li>0.006279905</li>\n",
       "\t<li>0.007807547</li>\n",
       "\t<li>6.68e-05</li>\n",
       "\t<li>0.000396199</li>\n",
       "\t<li>0.001963018</li>\n",
       "\t<li>0</li>\n",
       "\t<li>0.010178449</li>\n",
       "\t<li>0.014255621</li>\n",
       "\t<li>0.011089443</li>\n",
       "\t<li>0.000191</li>\n",
       "\t<li>0.008467865</li>\n",
       "\t<li>0.007278077</li>\n",
       "\t<li>0.001320687</li>\n",
       "\t<li>0.000451262</li>\n",
       "\t<li>0.000363604</li>\n",
       "\t<li>0.000197936</li>\n",
       "\t<li>0.00572466</li>\n",
       "\t<li>9.82e-05</li>\n",
       "\t<li>0.001295398</li>\n",
       "\t<li>0.001179967</li>\n",
       "\t<li>8.33e-05</li>\n",
       "\t<li>0.0001585</li>\n",
       "\t<li>7.01e-05</li>\n",
       "\t<li>0.003830579</li>\n",
       "\t<li>0.000837683</li>\n",
       "\t<li>0.0002281</li>\n",
       "\t<li>0.000643851</li>\n",
       "\t<li>0.000517168</li>\n",
       "\t<li>0.003014075</li>\n",
       "</ol>\n"
      ],
      "text/latex": [
       "\\begin{enumerate*}\n",
       "\\item 9.58e-05\n",
       "\\item 0.006279905\n",
       "\\item 0.007807547\n",
       "\\item 6.68e-05\n",
       "\\item 0.000396199\n",
       "\\item 0.001963018\n",
       "\\item 0\n",
       "\\item 0.010178449\n",
       "\\item 0.014255621\n",
       "\\item 0.011089443\n",
       "\\item 0.000191\n",
       "\\item 0.008467865\n",
       "\\item 0.007278077\n",
       "\\item 0.001320687\n",
       "\\item 0.000451262\n",
       "\\item 0.000363604\n",
       "\\item 0.000197936\n",
       "\\item 0.00572466\n",
       "\\item 9.82e-05\n",
       "\\item 0.001295398\n",
       "\\item 0.001179967\n",
       "\\item 8.33e-05\n",
       "\\item 0.0001585\n",
       "\\item 7.01e-05\n",
       "\\item 0.003830579\n",
       "\\item 0.000837683\n",
       "\\item 0.0002281\n",
       "\\item 0.000643851\n",
       "\\item 0.000517168\n",
       "\\item 0.003014075\n",
       "\\end{enumerate*}\n"
      ],
      "text/markdown": [
       "1. 9.58e-05\n",
       "2. 0.006279905\n",
       "3. 0.007807547\n",
       "4. 6.68e-05\n",
       "5. 0.000396199\n",
       "6. 0.001963018\n",
       "7. 0\n",
       "8. 0.010178449\n",
       "9. 0.014255621\n",
       "10. 0.011089443\n",
       "11. 0.000191\n",
       "12. 0.008467865\n",
       "13. 0.007278077\n",
       "14. 0.001320687\n",
       "15. 0.000451262\n",
       "16. 0.000363604\n",
       "17. 0.000197936\n",
       "18. 0.00572466\n",
       "19. 9.82e-05\n",
       "20. 0.001295398\n",
       "21. 0.001179967\n",
       "22. 8.33e-05\n",
       "23. 0.0001585\n",
       "24. 7.01e-05\n",
       "25. 0.003830579\n",
       "26. 0.000837683\n",
       "27. 0.0002281\n",
       "28. 0.000643851\n",
       "29. 0.000517168\n",
       "30. 0.003014075\n",
       "\n",
       "\n"
      ],
      "text/plain": [
       " [1] 0.000095800 0.006279905 0.007807547 0.000066800 0.000396199 0.001963018\n",
       " [7] 0.000000000 0.010178449 0.014255621 0.011089443 0.000191000 0.008467865\n",
       "[13] 0.007278077 0.001320687 0.000451262 0.000363604 0.000197936 0.005724660\n",
       "[19] 0.000098200 0.001295398 0.001179967 0.000083300 0.000158500 0.000070100\n",
       "[25] 0.003830579 0.000837683 0.000228100 0.000643851 0.000517168 0.003014075"
      ]
     },
     "metadata": {},
     "output_type": "display_data"
    },
    {
     "data": {
      "text/html": [
       "<table>\n",
       "<thead><tr><th></th><th scope=col>filename</th><th scope=col>MouseID</th><th scope=col>Treatmentgroup</th><th scope=col>status</th><th scope=col>DPI</th><th scope=col>organ</th><th scope=col>well_position</th><th scope=col>plate</th><th scope=col>nonzero</th></tr></thead>\n",
       "<tbody>\n",
       "\t<tr><th scope=row>16</th><td>X506_Group1B_70dpi_RV_bottom_281_B_C7_P141.mzXML </td><td>506                                              </td><td>Group1B                                          </td><td>naive                                            </td><td>DPI_75                                           </td><td>RV_bottom                                        </td><td>C7                                               </td><td>P141                                             </td><td>0.000095800                                      </td></tr>\n",
       "\t<tr><th scope=row>17</th><td>X507_Group1B_70dpi_RV_bottom_282_B_C8_P141.mzXML </td><td>507                                              </td><td>Group1B                                          </td><td>naive                                            </td><td>DPI_75                                           </td><td>RV_bottom                                        </td><td>C8                                               </td><td>P141                                             </td><td>0.006279905                                      </td></tr>\n",
       "\t<tr><th scope=row>18</th><td>X508_Group1B_70dpi_RV_bottom_283_B_C9_P141.mzXML </td><td>508                                              </td><td>Group1B                                          </td><td>naive                                            </td><td>DPI_75                                           </td><td>RV_bottom                                        </td><td>C9                                               </td><td>P141                                             </td><td>0.007807547                                      </td></tr>\n",
       "\t<tr><th scope=row>19</th><td>X509_Group1B_70dpi_RV_bottom_284_B_C10_P141.mzXML</td><td>509                                              </td><td>Group1B                                          </td><td>naive                                            </td><td>DPI_75                                           </td><td>RV_bottom                                        </td><td>C10                                              </td><td>P141                                             </td><td>0.000066800                                      </td></tr>\n",
       "\t<tr><th scope=row>20</th><td>X510_Group1B_70dpi_RV_bottom_285_B_C11_P141.mzXML</td><td>510                                              </td><td>Group1B                                          </td><td>naive                                            </td><td>DPI_75                                           </td><td>RV_bottom                                        </td><td>C11                                              </td><td>P141                                             </td><td>0.000396199                                      </td></tr>\n",
       "\t<tr><th scope=row>21</th><td>X526_Group1B_70dpi_RV_bottom_286_B_C12_P141.mzXML</td><td>526                                              </td><td>Group1B                                          </td><td>naive                                            </td><td>DPI_75                                           </td><td>RV_bottom                                        </td><td>C12                                              </td><td>P141                                             </td><td>0.001963018                                      </td></tr>\n",
       "</tbody>\n",
       "</table>\n"
      ],
      "text/latex": [
       "\\begin{tabular}{r|lllllllll}\n",
       "  & filename & MouseID & Treatmentgroup & status & DPI & organ & well\\_position & plate & nonzero\\\\\n",
       "\\hline\n",
       "\t16 & X506\\_Group1B\\_70dpi\\_RV\\_bottom\\_281\\_B\\_C7\\_P141.mzXML  & 506                                                               & Group1B                                                           & naive                                                             & DPI\\_75                                                          & RV\\_bottom                                                       & C7                                                                & P141                                                              & 0.000095800                                                      \\\\\n",
       "\t17 & X507\\_Group1B\\_70dpi\\_RV\\_bottom\\_282\\_B\\_C8\\_P141.mzXML  & 507                                                               & Group1B                                                           & naive                                                             & DPI\\_75                                                          & RV\\_bottom                                                       & C8                                                                & P141                                                              & 0.006279905                                                      \\\\\n",
       "\t18 & X508\\_Group1B\\_70dpi\\_RV\\_bottom\\_283\\_B\\_C9\\_P141.mzXML  & 508                                                               & Group1B                                                           & naive                                                             & DPI\\_75                                                          & RV\\_bottom                                                       & C9                                                                & P141                                                              & 0.007807547                                                      \\\\\n",
       "\t19 & X509\\_Group1B\\_70dpi\\_RV\\_bottom\\_284\\_B\\_C10\\_P141.mzXML & 509                                                               & Group1B                                                           & naive                                                             & DPI\\_75                                                          & RV\\_bottom                                                       & C10                                                               & P141                                                              & 0.000066800                                                      \\\\\n",
       "\t20 & X510\\_Group1B\\_70dpi\\_RV\\_bottom\\_285\\_B\\_C11\\_P141.mzXML & 510                                                               & Group1B                                                           & naive                                                             & DPI\\_75                                                          & RV\\_bottom                                                       & C11                                                               & P141                                                              & 0.000396199                                                      \\\\\n",
       "\t21 & X526\\_Group1B\\_70dpi\\_RV\\_bottom\\_286\\_B\\_C12\\_P141.mzXML & 526                                                               & Group1B                                                           & naive                                                             & DPI\\_75                                                          & RV\\_bottom                                                       & C12                                                               & P141                                                              & 0.001963018                                                      \\\\\n",
       "\\end{tabular}\n"
      ],
      "text/markdown": [
       "\n",
       "| <!--/--> | filename | MouseID | Treatmentgroup | status | DPI | organ | well_position | plate | nonzero |\n",
       "|---|---|---|---|---|---|---|---|---|---|\n",
       "| 16 | X506_Group1B_70dpi_RV_bottom_281_B_C7_P141.mzXML  | 506                                               | Group1B                                           | naive                                             | DPI_75                                            | RV_bottom                                         | C7                                                | P141                                              | 0.000095800                                       |\n",
       "| 17 | X507_Group1B_70dpi_RV_bottom_282_B_C8_P141.mzXML  | 507                                               | Group1B                                           | naive                                             | DPI_75                                            | RV_bottom                                         | C8                                                | P141                                              | 0.006279905                                       |\n",
       "| 18 | X508_Group1B_70dpi_RV_bottom_283_B_C9_P141.mzXML  | 508                                               | Group1B                                           | naive                                             | DPI_75                                            | RV_bottom                                         | C9                                                | P141                                              | 0.007807547                                       |\n",
       "| 19 | X509_Group1B_70dpi_RV_bottom_284_B_C10_P141.mzXML | 509                                               | Group1B                                           | naive                                             | DPI_75                                            | RV_bottom                                         | C10                                               | P141                                              | 0.000066800                                       |\n",
       "| 20 | X510_Group1B_70dpi_RV_bottom_285_B_C11_P141.mzXML | 510                                               | Group1B                                           | naive                                             | DPI_75                                            | RV_bottom                                         | C11                                               | P141                                              | 0.000396199                                       |\n",
       "| 21 | X526_Group1B_70dpi_RV_bottom_286_B_C12_P141.mzXML | 526                                               | Group1B                                           | naive                                             | DPI_75                                            | RV_bottom                                         | C12                                               | P141                                              | 0.001963018                                       |\n",
       "\n"
      ],
      "text/plain": [
       "   filename                                          MouseID Treatmentgroup\n",
       "16 X506_Group1B_70dpi_RV_bottom_281_B_C7_P141.mzXML  506     Group1B       \n",
       "17 X507_Group1B_70dpi_RV_bottom_282_B_C8_P141.mzXML  507     Group1B       \n",
       "18 X508_Group1B_70dpi_RV_bottom_283_B_C9_P141.mzXML  508     Group1B       \n",
       "19 X509_Group1B_70dpi_RV_bottom_284_B_C10_P141.mzXML 509     Group1B       \n",
       "20 X510_Group1B_70dpi_RV_bottom_285_B_C11_P141.mzXML 510     Group1B       \n",
       "21 X526_Group1B_70dpi_RV_bottom_286_B_C12_P141.mzXML 526     Group1B       \n",
       "   status DPI    organ     well_position plate nonzero    \n",
       "16 naive  DPI_75 RV_bottom C7            P141  0.000095800\n",
       "17 naive  DPI_75 RV_bottom C8            P141  0.006279905\n",
       "18 naive  DPI_75 RV_bottom C9            P141  0.007807547\n",
       "19 naive  DPI_75 RV_bottom C10           P141  0.000066800\n",
       "20 naive  DPI_75 RV_bottom C11           P141  0.000396199\n",
       "21 naive  DPI_75 RV_bottom C12           P141  0.001963018"
      ]
     },
     "metadata": {},
     "output_type": "display_data"
    },
    {
     "data": {
      "text/html": [
       "<ol class=list-inline>\n",
       "\t<li>30</li>\n",
       "\t<li>10</li>\n",
       "</ol>\n"
      ],
      "text/latex": [
       "\\begin{enumerate*}\n",
       "\\item 30\n",
       "\\item 10\n",
       "\\end{enumerate*}\n"
      ],
      "text/markdown": [
       "1. 30\n",
       "2. 10\n",
       "\n",
       "\n"
      ],
      "text/plain": [
       "[1] 30 10"
      ]
     },
     "metadata": {},
     "output_type": "display_data"
    },
    {
     "data": {
      "text/html": [
       "<ol class=list-inline>\n",
       "\t<li>30</li>\n",
       "\t<li>2</li>\n",
       "</ol>\n"
      ],
      "text/latex": [
       "\\begin{enumerate*}\n",
       "\\item 30\n",
       "\\item 2\n",
       "\\end{enumerate*}\n"
      ],
      "text/markdown": [
       "1. 30\n",
       "2. 2\n",
       "\n",
       "\n"
      ],
      "text/plain": [
       "[1] 30  2"
      ]
     },
     "metadata": {},
     "output_type": "display_data"
    },
    {
     "data": {
      "text/plain": [
       "NULL"
      ]
     },
     "metadata": {},
     "output_type": "display_data"
    },
    {
     "data": {
      "text/html": [
       "<ol class=list-inline>\n",
       "\t<li>30</li>\n",
       "\t<li>9</li>\n",
       "</ol>\n"
      ],
      "text/latex": [
       "\\begin{enumerate*}\n",
       "\\item 30\n",
       "\\item 9\n",
       "\\end{enumerate*}\n"
      ],
      "text/markdown": [
       "1. 30\n",
       "2. 9\n",
       "\n",
       "\n"
      ],
      "text/plain": [
       "[1] 30  9"
      ]
     },
     "metadata": {},
     "output_type": "display_data"
    }
   ],
   "source": [
    "noMeta<-features_pos[,9:10]\n",
    "head(noMeta)\n",
    "not_zero<-which(colSums(noMeta) != 0)\n",
    "head(not_zero)\n",
    "nonzero <- noMeta[, not_zero] \n",
    "nonzero\n",
    "nonzero_wMeta<-cbind(features_pos[,1:8], nonzero)\n",
    "head(nonzero_wMeta)\n",
    "dim(features_pos)\n",
    "dim(noMeta)\n",
    "dim(nonzero)\n",
    "dim(nonzero_wMeta)"
   ]
  },
  {
   "cell_type": "code",
   "execution_count": 35,
   "metadata": {
    "scrolled": true
   },
   "outputs": [
    {
     "data": {
      "text/html": [
       "0.136974224446085"
      ],
      "text/latex": [
       "0.136974224446085"
      ],
      "text/markdown": [
       "0.136974224446085"
      ],
      "text/plain": [
       "[1] 0.1369742"
      ]
     },
     "metadata": {},
     "output_type": "display_data"
    },
    {
     "data": {
      "text/html": [
       "0.136974224446085"
      ],
      "text/latex": [
       "0.136974224446085"
      ],
      "text/markdown": [
       "0.136974224446085"
      ],
      "text/plain": [
       "[1] 0.1369742"
      ]
     },
     "metadata": {},
     "output_type": "display_data"
    }
   ],
   "source": [
    "pval<-c()\n",
    "\n",
    "for (i in 9:ncol(nonzero_wMeta)) \n",
    "pval<-c(pval,wilcox.test(nonzero_wMeta[,i]~nonzero_wMeta$Treatmentgroup)$p.value)\n",
    "head(pval) \n",
    "pAdj <- p.adjust(pval, method = c(\"fdr\"), n=length(pval)) \n",
    "head(pAdj) \n",
    "\n"
   ]
  },
  {
   "cell_type": "code",
   "execution_count": 36,
   "metadata": {
    "scrolled": true
   },
   "outputs": [
    {
     "data": {
      "text/html": [
       "1"
      ],
      "text/latex": [
       "1"
      ],
      "text/markdown": [
       "1"
      ],
      "text/plain": [
       "[1] 1"
      ]
     },
     "metadata": {},
     "output_type": "display_data"
    }
   ],
   "source": [
    "length(pval)"
   ]
  },
  {
   "cell_type": "code",
   "execution_count": 37,
   "metadata": {
    "scrolled": true
   },
   "outputs": [
    {
     "data": {
      "text/html": [
       "1"
      ],
      "text/latex": [
       "1"
      ],
      "text/markdown": [
       "1"
      ],
      "text/plain": [
       "[1] 1"
      ]
     },
     "metadata": {},
     "output_type": "display_data"
    }
   ],
   "source": [
    "length(pAdj)"
   ]
  },
  {
   "cell_type": "code",
   "execution_count": 38,
   "metadata": {},
   "outputs": [
    {
     "ename": "ERROR",
     "evalue": "Error in apply(nonzero_wMeta[, 9:ncol(nonzero_wMeta)], 2, function(x) tapply(x, : dim(X) must have a positive length\n",
     "output_type": "error",
     "traceback": [
      "Error in apply(nonzero_wMeta[, 9:ncol(nonzero_wMeta)], 2, function(x) tapply(x, : dim(X) must have a positive length\nTraceback:\n",
      "1. apply(nonzero_wMeta[, 9:ncol(nonzero_wMeta)], 2, function(x) tapply(x, \n .     nonzero_wMeta$Treatmentgroup, function(x) mean(x)))",
      "2. stop(\"dim(X) must have a positive length\")"
     ]
    }
   ],
   "source": [
    "avg<- apply(nonzero_wMeta[,9:ncol(nonzero_wMeta)], 2, function(x) tapply(x, nonzero_wMeta$Treatmentgroup, function(x) mean(x))) \n",
    "\n",
    "dim(avg) \n",
    "\n",
    "avg[,1:2]\n",
    "\n",
    "fch <- apply(avg, 2, function(x) x[1]/x[2])\n",
    "\n",
    "head(fch) \n",
    "is(fch)"
   ]
  },
  {
   "cell_type": "code",
   "execution_count": 39,
   "metadata": {
    "scrolled": true
   },
   "outputs": [
    {
     "ename": "ERROR",
     "evalue": "Error in eval(expr, envir, enclos): object 'fch' not found\n",
     "output_type": "error",
     "traceback": [
      "Error in eval(expr, envir, enclos): object 'fch' not found\nTraceback:\n"
     ]
    }
   ],
   "source": [
    "fch"
   ]
  },
  {
   "cell_type": "code",
   "execution_count": 40,
   "metadata": {
    "scrolled": false
   },
   "outputs": [],
   "source": [
    "df <- data.frame(pval, pAdj)\n",
    "write.csv(df, \"CAR-time-RVB-wilcox-1B-3B.csv\")"
   ]
  },
  {
   "cell_type": "code",
   "execution_count": null,
   "metadata": {},
   "outputs": [],
   "source": []
  },
  {
   "cell_type": "code",
   "execution_count": null,
   "metadata": {},
   "outputs": [],
   "source": []
  },
  {
   "cell_type": "code",
   "execution_count": null,
   "metadata": {},
   "outputs": [],
   "source": []
  },
  {
   "cell_type": "code",
   "execution_count": null,
   "metadata": {},
   "outputs": [],
   "source": []
  },
  {
   "cell_type": "code",
   "execution_count": null,
   "metadata": {},
   "outputs": [],
   "source": []
  },
  {
   "cell_type": "code",
   "execution_count": null,
   "metadata": {},
   "outputs": [],
   "source": []
  }
 ],
 "metadata": {
  "kernelspec": {
   "display_name": "R",
   "language": "R",
   "name": "ir"
  },
  "language_info": {
   "codemirror_mode": "r",
   "file_extension": ".r",
   "mimetype": "text/x-r-source",
   "name": "R",
   "pygments_lexer": "r",
   "version": "3.6.1"
  }
 },
 "nbformat": 4,
 "nbformat_minor": 2
}
