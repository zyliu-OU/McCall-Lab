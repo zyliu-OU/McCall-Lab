{
 "cells": [
  {
   "cell_type": "code",
   "execution_count": 1,
   "metadata": {},
   "outputs": [],
   "source": [
    "a <- read.csv(\"03172021-CAR-time-LVT-M-F.csv\")"
   ]
  },
  {
   "cell_type": "code",
   "execution_count": 2,
   "metadata": {},
   "outputs": [
    {
     "data": {
      "text/html": [
       "<table>\n",
       "<thead><tr><th scope=col>filename</th><th scope=col>MouseID</th><th scope=col>Treatmentgroup</th><th scope=col>status</th><th scope=col>DPI</th><th scope=col>organ</th><th scope=col>well_position</th><th scope=col>plate</th><th scope=col>CAR_mid_chain</th><th scope=col>CAR_long_chain</th></tr></thead>\n",
       "<tbody>\n",
       "\t<tr><td>X501_Group1A_50dpi_LV_top_251_B_A1_P129.mzXML</td><td>501                                          </td><td>Group1A                                      </td><td>naive                                        </td><td>DPI_50                                       </td><td>LV_top                                       </td><td>A1                                           </td><td>P129                                         </td><td>0                                            </td><td>0.001364371                                  </td></tr>\n",
       "\t<tr><td>X502_Group1A_50dpi_LV_top_252_B_A2_P129.mzXML</td><td>502                                          </td><td>Group1A                                      </td><td>naive                                        </td><td>DPI_50                                       </td><td>LV_top                                       </td><td>A2                                           </td><td>P129                                         </td><td>0                                            </td><td>0.000359177                                  </td></tr>\n",
       "\t<tr><td>X503_Group1A_50dpi_LV_top_253_B_A3_P129.mzXML</td><td>503                                          </td><td>Group1A                                      </td><td>naive                                        </td><td>DPI_50                                       </td><td>LV_top                                       </td><td>A3                                           </td><td>P129                                         </td><td>0                                            </td><td>0.000934255                                  </td></tr>\n",
       "\t<tr><td>X504_Group1A_50dpi_LV_top_254_B_A4_P129.mzXML</td><td>504                                          </td><td>Group1A                                      </td><td>naive                                        </td><td>DPI_50                                       </td><td>LV_top                                       </td><td>A4                                           </td><td>P129                                         </td><td>0                                            </td><td>0.000335982                                  </td></tr>\n",
       "\t<tr><td>X505_Group1A_50dpi_LV_top_255_B_A5_P129.mzXML</td><td>505                                          </td><td>Group1A                                      </td><td>naive                                        </td><td>DPI_50                                       </td><td>LV_top                                       </td><td>A5                                           </td><td>P129                                         </td><td>0                                            </td><td>0.000662891                                  </td></tr>\n",
       "\t<tr><td>X521_Group1A_50dpi_LV_top_256_B_A6_P129.mzXML</td><td>521                                          </td><td>Group1A                                      </td><td>naive                                        </td><td>DPI_50                                       </td><td>LV_top                                       </td><td>A6                                           </td><td>P129                                         </td><td>0                                            </td><td>0.001401562                                  </td></tr>\n",
       "</tbody>\n",
       "</table>\n"
      ],
      "text/latex": [
       "\\begin{tabular}{r|llllllllll}\n",
       " filename & MouseID & Treatmentgroup & status & DPI & organ & well\\_position & plate & CAR\\_mid\\_chain & CAR\\_long\\_chain\\\\\n",
       "\\hline\n",
       "\t X501\\_Group1A\\_50dpi\\_LV\\_top\\_251\\_B\\_A1\\_P129.mzXML & 501                                                           & Group1A                                                       & naive                                                         & DPI\\_50                                                      & LV\\_top                                                      & A1                                                            & P129                                                          & 0                                                             & 0.001364371                                                  \\\\\n",
       "\t X502\\_Group1A\\_50dpi\\_LV\\_top\\_252\\_B\\_A2\\_P129.mzXML & 502                                                           & Group1A                                                       & naive                                                         & DPI\\_50                                                      & LV\\_top                                                      & A2                                                            & P129                                                          & 0                                                             & 0.000359177                                                  \\\\\n",
       "\t X503\\_Group1A\\_50dpi\\_LV\\_top\\_253\\_B\\_A3\\_P129.mzXML & 503                                                           & Group1A                                                       & naive                                                         & DPI\\_50                                                      & LV\\_top                                                      & A3                                                            & P129                                                          & 0                                                             & 0.000934255                                                  \\\\\n",
       "\t X504\\_Group1A\\_50dpi\\_LV\\_top\\_254\\_B\\_A4\\_P129.mzXML & 504                                                           & Group1A                                                       & naive                                                         & DPI\\_50                                                      & LV\\_top                                                      & A4                                                            & P129                                                          & 0                                                             & 0.000335982                                                  \\\\\n",
       "\t X505\\_Group1A\\_50dpi\\_LV\\_top\\_255\\_B\\_A5\\_P129.mzXML & 505                                                           & Group1A                                                       & naive                                                         & DPI\\_50                                                      & LV\\_top                                                      & A5                                                            & P129                                                          & 0                                                             & 0.000662891                                                  \\\\\n",
       "\t X521\\_Group1A\\_50dpi\\_LV\\_top\\_256\\_B\\_A6\\_P129.mzXML & 521                                                           & Group1A                                                       & naive                                                         & DPI\\_50                                                      & LV\\_top                                                      & A6                                                            & P129                                                          & 0                                                             & 0.001401562                                                  \\\\\n",
       "\\end{tabular}\n"
      ],
      "text/markdown": [
       "\n",
       "| filename | MouseID | Treatmentgroup | status | DPI | organ | well_position | plate | CAR_mid_chain | CAR_long_chain |\n",
       "|---|---|---|---|---|---|---|---|---|---|\n",
       "| X501_Group1A_50dpi_LV_top_251_B_A1_P129.mzXML | 501                                           | Group1A                                       | naive                                         | DPI_50                                        | LV_top                                        | A1                                            | P129                                          | 0                                             | 0.001364371                                   |\n",
       "| X502_Group1A_50dpi_LV_top_252_B_A2_P129.mzXML | 502                                           | Group1A                                       | naive                                         | DPI_50                                        | LV_top                                        | A2                                            | P129                                          | 0                                             | 0.000359177                                   |\n",
       "| X503_Group1A_50dpi_LV_top_253_B_A3_P129.mzXML | 503                                           | Group1A                                       | naive                                         | DPI_50                                        | LV_top                                        | A3                                            | P129                                          | 0                                             | 0.000934255                                   |\n",
       "| X504_Group1A_50dpi_LV_top_254_B_A4_P129.mzXML | 504                                           | Group1A                                       | naive                                         | DPI_50                                        | LV_top                                        | A4                                            | P129                                          | 0                                             | 0.000335982                                   |\n",
       "| X505_Group1A_50dpi_LV_top_255_B_A5_P129.mzXML | 505                                           | Group1A                                       | naive                                         | DPI_50                                        | LV_top                                        | A5                                            | P129                                          | 0                                             | 0.000662891                                   |\n",
       "| X521_Group1A_50dpi_LV_top_256_B_A6_P129.mzXML | 521                                           | Group1A                                       | naive                                         | DPI_50                                        | LV_top                                        | A6                                            | P129                                          | 0                                             | 0.001401562                                   |\n",
       "\n"
      ],
      "text/plain": [
       "  filename                                      MouseID Treatmentgroup status\n",
       "1 X501_Group1A_50dpi_LV_top_251_B_A1_P129.mzXML 501     Group1A        naive \n",
       "2 X502_Group1A_50dpi_LV_top_252_B_A2_P129.mzXML 502     Group1A        naive \n",
       "3 X503_Group1A_50dpi_LV_top_253_B_A3_P129.mzXML 503     Group1A        naive \n",
       "4 X504_Group1A_50dpi_LV_top_254_B_A4_P129.mzXML 504     Group1A        naive \n",
       "5 X505_Group1A_50dpi_LV_top_255_B_A5_P129.mzXML 505     Group1A        naive \n",
       "6 X521_Group1A_50dpi_LV_top_256_B_A6_P129.mzXML 521     Group1A        naive \n",
       "  DPI    organ  well_position plate CAR_mid_chain CAR_long_chain\n",
       "1 DPI_50 LV_top A1            P129  0             0.001364371   \n",
       "2 DPI_50 LV_top A2            P129  0             0.000359177   \n",
       "3 DPI_50 LV_top A3            P129  0             0.000934255   \n",
       "4 DPI_50 LV_top A4            P129  0             0.000335982   \n",
       "5 DPI_50 LV_top A5            P129  0             0.000662891   \n",
       "6 DPI_50 LV_top A6            P129  0             0.001401562   "
      ]
     },
     "metadata": {},
     "output_type": "display_data"
    },
    {
     "data": {
      "text/html": [
       "<ol class=list-inline>\n",
       "\t<li>90</li>\n",
       "\t<li>10</li>\n",
       "</ol>\n"
      ],
      "text/latex": [
       "\\begin{enumerate*}\n",
       "\\item 90\n",
       "\\item 10\n",
       "\\end{enumerate*}\n"
      ],
      "text/markdown": [
       "1. 90\n",
       "2. 10\n",
       "\n",
       "\n"
      ],
      "text/plain": [
       "[1] 90 10"
      ]
     },
     "metadata": {},
     "output_type": "display_data"
    }
   ],
   "source": [
    "head(a)\n",
    "dim(a)"
   ]
  },
  {
   "cell_type": "code",
   "execution_count": 3,
   "metadata": {},
   "outputs": [
    {
     "data": {
      "text/html": [
       "<table>\n",
       "<thead><tr><th scope=col>filename</th><th scope=col>MouseID</th><th scope=col>Treatmentgroup</th><th scope=col>status</th><th scope=col>DPI</th><th scope=col>organ</th><th scope=col>well_position</th><th scope=col>plate</th><th scope=col>CAR_mid_chain</th><th scope=col>CAR_long_chain</th></tr></thead>\n",
       "<tbody>\n",
       "\t<tr><td>X501_Group1A_50dpi_LV_top_251_B_A1_P129.mzXML</td><td>501                                          </td><td>Group1A                                      </td><td>naive                                        </td><td>DPI_50                                       </td><td>LV_top                                       </td><td>A1                                           </td><td>P129                                         </td><td>0                                            </td><td>0.001364371                                  </td></tr>\n",
       "\t<tr><td>X502_Group1A_50dpi_LV_top_252_B_A2_P129.mzXML</td><td>502                                          </td><td>Group1A                                      </td><td>naive                                        </td><td>DPI_50                                       </td><td>LV_top                                       </td><td>A2                                           </td><td>P129                                         </td><td>0                                            </td><td>0.000359177                                  </td></tr>\n",
       "\t<tr><td>X503_Group1A_50dpi_LV_top_253_B_A3_P129.mzXML</td><td>503                                          </td><td>Group1A                                      </td><td>naive                                        </td><td>DPI_50                                       </td><td>LV_top                                       </td><td>A3                                           </td><td>P129                                         </td><td>0                                            </td><td>0.000934255                                  </td></tr>\n",
       "\t<tr><td>X504_Group1A_50dpi_LV_top_254_B_A4_P129.mzXML</td><td>504                                          </td><td>Group1A                                      </td><td>naive                                        </td><td>DPI_50                                       </td><td>LV_top                                       </td><td>A4                                           </td><td>P129                                         </td><td>0                                            </td><td>0.000335982                                  </td></tr>\n",
       "\t<tr><td>X505_Group1A_50dpi_LV_top_255_B_A5_P129.mzXML</td><td>505                                          </td><td>Group1A                                      </td><td>naive                                        </td><td>DPI_50                                       </td><td>LV_top                                       </td><td>A5                                           </td><td>P129                                         </td><td>0                                            </td><td>0.000662891                                  </td></tr>\n",
       "\t<tr><td>X521_Group1A_50dpi_LV_top_256_B_A6_P129.mzXML</td><td>521                                          </td><td>Group1A                                      </td><td>naive                                        </td><td>DPI_50                                       </td><td>LV_top                                       </td><td>A6                                           </td><td>P129                                         </td><td>0                                            </td><td>0.001401562                                  </td></tr>\n",
       "</tbody>\n",
       "</table>\n"
      ],
      "text/latex": [
       "\\begin{tabular}{r|llllllllll}\n",
       " filename & MouseID & Treatmentgroup & status & DPI & organ & well\\_position & plate & CAR\\_mid\\_chain & CAR\\_long\\_chain\\\\\n",
       "\\hline\n",
       "\t X501\\_Group1A\\_50dpi\\_LV\\_top\\_251\\_B\\_A1\\_P129.mzXML & 501                                                           & Group1A                                                       & naive                                                         & DPI\\_50                                                      & LV\\_top                                                      & A1                                                            & P129                                                          & 0                                                             & 0.001364371                                                  \\\\\n",
       "\t X502\\_Group1A\\_50dpi\\_LV\\_top\\_252\\_B\\_A2\\_P129.mzXML & 502                                                           & Group1A                                                       & naive                                                         & DPI\\_50                                                      & LV\\_top                                                      & A2                                                            & P129                                                          & 0                                                             & 0.000359177                                                  \\\\\n",
       "\t X503\\_Group1A\\_50dpi\\_LV\\_top\\_253\\_B\\_A3\\_P129.mzXML & 503                                                           & Group1A                                                       & naive                                                         & DPI\\_50                                                      & LV\\_top                                                      & A3                                                            & P129                                                          & 0                                                             & 0.000934255                                                  \\\\\n",
       "\t X504\\_Group1A\\_50dpi\\_LV\\_top\\_254\\_B\\_A4\\_P129.mzXML & 504                                                           & Group1A                                                       & naive                                                         & DPI\\_50                                                      & LV\\_top                                                      & A4                                                            & P129                                                          & 0                                                             & 0.000335982                                                  \\\\\n",
       "\t X505\\_Group1A\\_50dpi\\_LV\\_top\\_255\\_B\\_A5\\_P129.mzXML & 505                                                           & Group1A                                                       & naive                                                         & DPI\\_50                                                      & LV\\_top                                                      & A5                                                            & P129                                                          & 0                                                             & 0.000662891                                                  \\\\\n",
       "\t X521\\_Group1A\\_50dpi\\_LV\\_top\\_256\\_B\\_A6\\_P129.mzXML & 521                                                           & Group1A                                                       & naive                                                         & DPI\\_50                                                      & LV\\_top                                                      & A6                                                            & P129                                                          & 0                                                             & 0.001401562                                                  \\\\\n",
       "\\end{tabular}\n"
      ],
      "text/markdown": [
       "\n",
       "| filename | MouseID | Treatmentgroup | status | DPI | organ | well_position | plate | CAR_mid_chain | CAR_long_chain |\n",
       "|---|---|---|---|---|---|---|---|---|---|\n",
       "| X501_Group1A_50dpi_LV_top_251_B_A1_P129.mzXML | 501                                           | Group1A                                       | naive                                         | DPI_50                                        | LV_top                                        | A1                                            | P129                                          | 0                                             | 0.001364371                                   |\n",
       "| X502_Group1A_50dpi_LV_top_252_B_A2_P129.mzXML | 502                                           | Group1A                                       | naive                                         | DPI_50                                        | LV_top                                        | A2                                            | P129                                          | 0                                             | 0.000359177                                   |\n",
       "| X503_Group1A_50dpi_LV_top_253_B_A3_P129.mzXML | 503                                           | Group1A                                       | naive                                         | DPI_50                                        | LV_top                                        | A3                                            | P129                                          | 0                                             | 0.000934255                                   |\n",
       "| X504_Group1A_50dpi_LV_top_254_B_A4_P129.mzXML | 504                                           | Group1A                                       | naive                                         | DPI_50                                        | LV_top                                        | A4                                            | P129                                          | 0                                             | 0.000335982                                   |\n",
       "| X505_Group1A_50dpi_LV_top_255_B_A5_P129.mzXML | 505                                           | Group1A                                       | naive                                         | DPI_50                                        | LV_top                                        | A5                                            | P129                                          | 0                                             | 0.000662891                                   |\n",
       "| X521_Group1A_50dpi_LV_top_256_B_A6_P129.mzXML | 521                                           | Group1A                                       | naive                                         | DPI_50                                        | LV_top                                        | A6                                            | P129                                          | 0                                             | 0.001401562                                   |\n",
       "\n"
      ],
      "text/plain": [
       "  filename                                      MouseID Treatmentgroup status\n",
       "1 X501_Group1A_50dpi_LV_top_251_B_A1_P129.mzXML 501     Group1A        naive \n",
       "2 X502_Group1A_50dpi_LV_top_252_B_A2_P129.mzXML 502     Group1A        naive \n",
       "3 X503_Group1A_50dpi_LV_top_253_B_A3_P129.mzXML 503     Group1A        naive \n",
       "4 X504_Group1A_50dpi_LV_top_254_B_A4_P129.mzXML 504     Group1A        naive \n",
       "5 X505_Group1A_50dpi_LV_top_255_B_A5_P129.mzXML 505     Group1A        naive \n",
       "6 X521_Group1A_50dpi_LV_top_256_B_A6_P129.mzXML 521     Group1A        naive \n",
       "  DPI    organ  well_position plate CAR_mid_chain CAR_long_chain\n",
       "1 DPI_50 LV_top A1            P129  0             0.001364371   \n",
       "2 DPI_50 LV_top A2            P129  0             0.000359177   \n",
       "3 DPI_50 LV_top A3            P129  0             0.000934255   \n",
       "4 DPI_50 LV_top A4            P129  0             0.000335982   \n",
       "5 DPI_50 LV_top A5            P129  0             0.000662891   \n",
       "6 DPI_50 LV_top A6            P129  0             0.001401562   "
      ]
     },
     "metadata": {},
     "output_type": "display_data"
    },
    {
     "data": {
      "text/html": [
       "<ol class=list-inline>\n",
       "\t<li>30</li>\n",
       "\t<li>10</li>\n",
       "</ol>\n"
      ],
      "text/latex": [
       "\\begin{enumerate*}\n",
       "\\item 30\n",
       "\\item 10\n",
       "\\end{enumerate*}\n"
      ],
      "text/markdown": [
       "1. 30\n",
       "2. 10\n",
       "\n",
       "\n"
      ],
      "text/plain": [
       "[1] 30 10"
      ]
     },
     "metadata": {},
     "output_type": "display_data"
    }
   ],
   "source": [
    "features_pos<-droplevels(subset(a, a$Treatmentgroup==c(\"Group1A\")|a$Treatmentgroup==c(\"Group3A\")))\n",
    "head(features_pos)\n",
    "dim(features_pos)"
   ]
  },
  {
   "cell_type": "code",
   "execution_count": 4,
   "metadata": {
    "scrolled": false
   },
   "outputs": [
    {
     "data": {
      "text/html": [
       "<table>\n",
       "<thead><tr><th scope=col>CAR_mid_chain</th><th scope=col>CAR_long_chain</th></tr></thead>\n",
       "<tbody>\n",
       "\t<tr><td>0          </td><td>0.001364371</td></tr>\n",
       "\t<tr><td>0          </td><td>0.000359177</td></tr>\n",
       "\t<tr><td>0          </td><td>0.000934255</td></tr>\n",
       "\t<tr><td>0          </td><td>0.000335982</td></tr>\n",
       "\t<tr><td>0          </td><td>0.000662891</td></tr>\n",
       "\t<tr><td>0          </td><td>0.001401562</td></tr>\n",
       "</tbody>\n",
       "</table>\n"
      ],
      "text/latex": [
       "\\begin{tabular}{r|ll}\n",
       " CAR\\_mid\\_chain & CAR\\_long\\_chain\\\\\n",
       "\\hline\n",
       "\t 0           & 0.001364371\\\\\n",
       "\t 0           & 0.000359177\\\\\n",
       "\t 0           & 0.000934255\\\\\n",
       "\t 0           & 0.000335982\\\\\n",
       "\t 0           & 0.000662891\\\\\n",
       "\t 0           & 0.001401562\\\\\n",
       "\\end{tabular}\n"
      ],
      "text/markdown": [
       "\n",
       "| CAR_mid_chain | CAR_long_chain |\n",
       "|---|---|\n",
       "| 0           | 0.001364371 |\n",
       "| 0           | 0.000359177 |\n",
       "| 0           | 0.000934255 |\n",
       "| 0           | 0.000335982 |\n",
       "| 0           | 0.000662891 |\n",
       "| 0           | 0.001401562 |\n",
       "\n"
      ],
      "text/plain": [
       "  CAR_mid_chain CAR_long_chain\n",
       "1 0             0.001364371   \n",
       "2 0             0.000359177   \n",
       "3 0             0.000934255   \n",
       "4 0             0.000335982   \n",
       "5 0             0.000662891   \n",
       "6 0             0.001401562   "
      ]
     },
     "metadata": {},
     "output_type": "display_data"
    },
    {
     "data": {
      "text/html": [
       "<dl class=dl-horizontal>\n",
       "\t<dt>CAR_mid_chain</dt>\n",
       "\t\t<dd>1</dd>\n",
       "\t<dt>CAR_long_chain</dt>\n",
       "\t\t<dd>2</dd>\n",
       "</dl>\n"
      ],
      "text/latex": [
       "\\begin{description*}\n",
       "\\item[CAR\\textbackslash{}\\_mid\\textbackslash{}\\_chain] 1\n",
       "\\item[CAR\\textbackslash{}\\_long\\textbackslash{}\\_chain] 2\n",
       "\\end{description*}\n"
      ],
      "text/markdown": [
       "CAR_mid_chain\n",
       ":   1CAR_long_chain\n",
       ":   2\n",
       "\n"
      ],
      "text/plain": [
       " CAR_mid_chain CAR_long_chain \n",
       "             1              2 "
      ]
     },
     "metadata": {},
     "output_type": "display_data"
    },
    {
     "data": {
      "text/html": [
       "<table>\n",
       "<thead><tr><th></th><th scope=col>CAR_mid_chain</th><th scope=col>CAR_long_chain</th></tr></thead>\n",
       "<tbody>\n",
       "\t<tr><th scope=row>1</th><td>0.00e+00   </td><td>0.001364371</td></tr>\n",
       "\t<tr><th scope=row>2</th><td>0.00e+00   </td><td>0.000359177</td></tr>\n",
       "\t<tr><th scope=row>3</th><td>0.00e+00   </td><td>0.000934255</td></tr>\n",
       "\t<tr><th scope=row>4</th><td>0.00e+00   </td><td>0.000335982</td></tr>\n",
       "\t<tr><th scope=row>5</th><td>0.00e+00   </td><td>0.000662891</td></tr>\n",
       "\t<tr><th scope=row>6</th><td>0.00e+00   </td><td>0.001401562</td></tr>\n",
       "\t<tr><th scope=row>7</th><td>0.00e+00   </td><td>0.000531056</td></tr>\n",
       "\t<tr><th scope=row>8</th><td>0.00e+00   </td><td>0.000846420</td></tr>\n",
       "\t<tr><th scope=row>9</th><td>0.00e+00   </td><td>0.000341689</td></tr>\n",
       "\t<tr><th scope=row>10</th><td>0.00e+00   </td><td>0.000410303</td></tr>\n",
       "\t<tr><th scope=row>11</th><td>0.00e+00   </td><td>0.004450451</td></tr>\n",
       "\t<tr><th scope=row>12</th><td>0.00e+00   </td><td>0.001370245</td></tr>\n",
       "\t<tr><th scope=row>13</th><td>0.00e+00   </td><td>0.000383255</td></tr>\n",
       "\t<tr><th scope=row>14</th><td>0.00e+00   </td><td>0.000278786</td></tr>\n",
       "\t<tr><th scope=row>15</th><td>0.00e+00   </td><td>0.000331651</td></tr>\n",
       "\t<tr><th scope=row>46</th><td>0.00e+00   </td><td>0.001474832</td></tr>\n",
       "\t<tr><th scope=row>47</th><td>0.00e+00   </td><td>0.000918276</td></tr>\n",
       "\t<tr><th scope=row>48</th><td>0.00e+00   </td><td>0.004731011</td></tr>\n",
       "\t<tr><th scope=row>49</th><td>0.00e+00   </td><td>0.001272719</td></tr>\n",
       "\t<tr><th scope=row>50</th><td>0.00e+00   </td><td>0.002061096</td></tr>\n",
       "\t<tr><th scope=row>51</th><td>0.00e+00   </td><td>0.000167838</td></tr>\n",
       "\t<tr><th scope=row>52</th><td>0.00e+00   </td><td>0.000663192</td></tr>\n",
       "\t<tr><th scope=row>53</th><td>0.00e+00   </td><td>0.002124020</td></tr>\n",
       "\t<tr><th scope=row>54</th><td>0.00e+00   </td><td>0.000179400</td></tr>\n",
       "\t<tr><th scope=row>55</th><td>5.67e-05   </td><td>0.001888696</td></tr>\n",
       "\t<tr><th scope=row>56</th><td>4.96e-05   </td><td>0.001797091</td></tr>\n",
       "\t<tr><th scope=row>57</th><td>0.00e+00   </td><td>0.001157814</td></tr>\n",
       "\t<tr><th scope=row>58</th><td>0.00e+00   </td><td>0.000000000</td></tr>\n",
       "\t<tr><th scope=row>59</th><td>0.00e+00   </td><td>0.000000000</td></tr>\n",
       "\t<tr><th scope=row>60</th><td>0.00e+00   </td><td>0.000000000</td></tr>\n",
       "</tbody>\n",
       "</table>\n"
      ],
      "text/latex": [
       "\\begin{tabular}{r|ll}\n",
       "  & CAR\\_mid\\_chain & CAR\\_long\\_chain\\\\\n",
       "\\hline\n",
       "\t1 & 0.00e+00    & 0.001364371\\\\\n",
       "\t2 & 0.00e+00    & 0.000359177\\\\\n",
       "\t3 & 0.00e+00    & 0.000934255\\\\\n",
       "\t4 & 0.00e+00    & 0.000335982\\\\\n",
       "\t5 & 0.00e+00    & 0.000662891\\\\\n",
       "\t6 & 0.00e+00    & 0.001401562\\\\\n",
       "\t7 & 0.00e+00    & 0.000531056\\\\\n",
       "\t8 & 0.00e+00    & 0.000846420\\\\\n",
       "\t9 & 0.00e+00    & 0.000341689\\\\\n",
       "\t10 & 0.00e+00    & 0.000410303\\\\\n",
       "\t11 & 0.00e+00    & 0.004450451\\\\\n",
       "\t12 & 0.00e+00    & 0.001370245\\\\\n",
       "\t13 & 0.00e+00    & 0.000383255\\\\\n",
       "\t14 & 0.00e+00    & 0.000278786\\\\\n",
       "\t15 & 0.00e+00    & 0.000331651\\\\\n",
       "\t46 & 0.00e+00    & 0.001474832\\\\\n",
       "\t47 & 0.00e+00    & 0.000918276\\\\\n",
       "\t48 & 0.00e+00    & 0.004731011\\\\\n",
       "\t49 & 0.00e+00    & 0.001272719\\\\\n",
       "\t50 & 0.00e+00    & 0.002061096\\\\\n",
       "\t51 & 0.00e+00    & 0.000167838\\\\\n",
       "\t52 & 0.00e+00    & 0.000663192\\\\\n",
       "\t53 & 0.00e+00    & 0.002124020\\\\\n",
       "\t54 & 0.00e+00    & 0.000179400\\\\\n",
       "\t55 & 5.67e-05    & 0.001888696\\\\\n",
       "\t56 & 4.96e-05    & 0.001797091\\\\\n",
       "\t57 & 0.00e+00    & 0.001157814\\\\\n",
       "\t58 & 0.00e+00    & 0.000000000\\\\\n",
       "\t59 & 0.00e+00    & 0.000000000\\\\\n",
       "\t60 & 0.00e+00    & 0.000000000\\\\\n",
       "\\end{tabular}\n"
      ],
      "text/markdown": [
       "\n",
       "| <!--/--> | CAR_mid_chain | CAR_long_chain |\n",
       "|---|---|---|\n",
       "| 1 | 0.00e+00    | 0.001364371 |\n",
       "| 2 | 0.00e+00    | 0.000359177 |\n",
       "| 3 | 0.00e+00    | 0.000934255 |\n",
       "| 4 | 0.00e+00    | 0.000335982 |\n",
       "| 5 | 0.00e+00    | 0.000662891 |\n",
       "| 6 | 0.00e+00    | 0.001401562 |\n",
       "| 7 | 0.00e+00    | 0.000531056 |\n",
       "| 8 | 0.00e+00    | 0.000846420 |\n",
       "| 9 | 0.00e+00    | 0.000341689 |\n",
       "| 10 | 0.00e+00    | 0.000410303 |\n",
       "| 11 | 0.00e+00    | 0.004450451 |\n",
       "| 12 | 0.00e+00    | 0.001370245 |\n",
       "| 13 | 0.00e+00    | 0.000383255 |\n",
       "| 14 | 0.00e+00    | 0.000278786 |\n",
       "| 15 | 0.00e+00    | 0.000331651 |\n",
       "| 46 | 0.00e+00    | 0.001474832 |\n",
       "| 47 | 0.00e+00    | 0.000918276 |\n",
       "| 48 | 0.00e+00    | 0.004731011 |\n",
       "| 49 | 0.00e+00    | 0.001272719 |\n",
       "| 50 | 0.00e+00    | 0.002061096 |\n",
       "| 51 | 0.00e+00    | 0.000167838 |\n",
       "| 52 | 0.00e+00    | 0.000663192 |\n",
       "| 53 | 0.00e+00    | 0.002124020 |\n",
       "| 54 | 0.00e+00    | 0.000179400 |\n",
       "| 55 | 5.67e-05    | 0.001888696 |\n",
       "| 56 | 4.96e-05    | 0.001797091 |\n",
       "| 57 | 0.00e+00    | 0.001157814 |\n",
       "| 58 | 0.00e+00    | 0.000000000 |\n",
       "| 59 | 0.00e+00    | 0.000000000 |\n",
       "| 60 | 0.00e+00    | 0.000000000 |\n",
       "\n"
      ],
      "text/plain": [
       "   CAR_mid_chain CAR_long_chain\n",
       "1  0.00e+00      0.001364371   \n",
       "2  0.00e+00      0.000359177   \n",
       "3  0.00e+00      0.000934255   \n",
       "4  0.00e+00      0.000335982   \n",
       "5  0.00e+00      0.000662891   \n",
       "6  0.00e+00      0.001401562   \n",
       "7  0.00e+00      0.000531056   \n",
       "8  0.00e+00      0.000846420   \n",
       "9  0.00e+00      0.000341689   \n",
       "10 0.00e+00      0.000410303   \n",
       "11 0.00e+00      0.004450451   \n",
       "12 0.00e+00      0.001370245   \n",
       "13 0.00e+00      0.000383255   \n",
       "14 0.00e+00      0.000278786   \n",
       "15 0.00e+00      0.000331651   \n",
       "46 0.00e+00      0.001474832   \n",
       "47 0.00e+00      0.000918276   \n",
       "48 0.00e+00      0.004731011   \n",
       "49 0.00e+00      0.001272719   \n",
       "50 0.00e+00      0.002061096   \n",
       "51 0.00e+00      0.000167838   \n",
       "52 0.00e+00      0.000663192   \n",
       "53 0.00e+00      0.002124020   \n",
       "54 0.00e+00      0.000179400   \n",
       "55 5.67e-05      0.001888696   \n",
       "56 4.96e-05      0.001797091   \n",
       "57 0.00e+00      0.001157814   \n",
       "58 0.00e+00      0.000000000   \n",
       "59 0.00e+00      0.000000000   \n",
       "60 0.00e+00      0.000000000   "
      ]
     },
     "metadata": {},
     "output_type": "display_data"
    },
    {
     "data": {
      "text/html": [
       "<table>\n",
       "<thead><tr><th scope=col>filename</th><th scope=col>MouseID</th><th scope=col>Treatmentgroup</th><th scope=col>status</th><th scope=col>DPI</th><th scope=col>organ</th><th scope=col>well_position</th><th scope=col>plate</th><th scope=col>CAR_mid_chain</th><th scope=col>CAR_long_chain</th></tr></thead>\n",
       "<tbody>\n",
       "\t<tr><td>X501_Group1A_50dpi_LV_top_251_B_A1_P129.mzXML</td><td>501                                          </td><td>Group1A                                      </td><td>naive                                        </td><td>DPI_50                                       </td><td>LV_top                                       </td><td>A1                                           </td><td>P129                                         </td><td>0                                            </td><td>0.001364371                                  </td></tr>\n",
       "\t<tr><td>X502_Group1A_50dpi_LV_top_252_B_A2_P129.mzXML</td><td>502                                          </td><td>Group1A                                      </td><td>naive                                        </td><td>DPI_50                                       </td><td>LV_top                                       </td><td>A2                                           </td><td>P129                                         </td><td>0                                            </td><td>0.000359177                                  </td></tr>\n",
       "\t<tr><td>X503_Group1A_50dpi_LV_top_253_B_A3_P129.mzXML</td><td>503                                          </td><td>Group1A                                      </td><td>naive                                        </td><td>DPI_50                                       </td><td>LV_top                                       </td><td>A3                                           </td><td>P129                                         </td><td>0                                            </td><td>0.000934255                                  </td></tr>\n",
       "\t<tr><td>X504_Group1A_50dpi_LV_top_254_B_A4_P129.mzXML</td><td>504                                          </td><td>Group1A                                      </td><td>naive                                        </td><td>DPI_50                                       </td><td>LV_top                                       </td><td>A4                                           </td><td>P129                                         </td><td>0                                            </td><td>0.000335982                                  </td></tr>\n",
       "\t<tr><td>X505_Group1A_50dpi_LV_top_255_B_A5_P129.mzXML</td><td>505                                          </td><td>Group1A                                      </td><td>naive                                        </td><td>DPI_50                                       </td><td>LV_top                                       </td><td>A5                                           </td><td>P129                                         </td><td>0                                            </td><td>0.000662891                                  </td></tr>\n",
       "\t<tr><td>X521_Group1A_50dpi_LV_top_256_B_A6_P129.mzXML</td><td>521                                          </td><td>Group1A                                      </td><td>naive                                        </td><td>DPI_50                                       </td><td>LV_top                                       </td><td>A6                                           </td><td>P129                                         </td><td>0                                            </td><td>0.001401562                                  </td></tr>\n",
       "</tbody>\n",
       "</table>\n"
      ],
      "text/latex": [
       "\\begin{tabular}{r|llllllllll}\n",
       " filename & MouseID & Treatmentgroup & status & DPI & organ & well\\_position & plate & CAR\\_mid\\_chain & CAR\\_long\\_chain\\\\\n",
       "\\hline\n",
       "\t X501\\_Group1A\\_50dpi\\_LV\\_top\\_251\\_B\\_A1\\_P129.mzXML & 501                                                           & Group1A                                                       & naive                                                         & DPI\\_50                                                      & LV\\_top                                                      & A1                                                            & P129                                                          & 0                                                             & 0.001364371                                                  \\\\\n",
       "\t X502\\_Group1A\\_50dpi\\_LV\\_top\\_252\\_B\\_A2\\_P129.mzXML & 502                                                           & Group1A                                                       & naive                                                         & DPI\\_50                                                      & LV\\_top                                                      & A2                                                            & P129                                                          & 0                                                             & 0.000359177                                                  \\\\\n",
       "\t X503\\_Group1A\\_50dpi\\_LV\\_top\\_253\\_B\\_A3\\_P129.mzXML & 503                                                           & Group1A                                                       & naive                                                         & DPI\\_50                                                      & LV\\_top                                                      & A3                                                            & P129                                                          & 0                                                             & 0.000934255                                                  \\\\\n",
       "\t X504\\_Group1A\\_50dpi\\_LV\\_top\\_254\\_B\\_A4\\_P129.mzXML & 504                                                           & Group1A                                                       & naive                                                         & DPI\\_50                                                      & LV\\_top                                                      & A4                                                            & P129                                                          & 0                                                             & 0.000335982                                                  \\\\\n",
       "\t X505\\_Group1A\\_50dpi\\_LV\\_top\\_255\\_B\\_A5\\_P129.mzXML & 505                                                           & Group1A                                                       & naive                                                         & DPI\\_50                                                      & LV\\_top                                                      & A5                                                            & P129                                                          & 0                                                             & 0.000662891                                                  \\\\\n",
       "\t X521\\_Group1A\\_50dpi\\_LV\\_top\\_256\\_B\\_A6\\_P129.mzXML & 521                                                           & Group1A                                                       & naive                                                         & DPI\\_50                                                      & LV\\_top                                                      & A6                                                            & P129                                                          & 0                                                             & 0.001401562                                                  \\\\\n",
       "\\end{tabular}\n"
      ],
      "text/markdown": [
       "\n",
       "| filename | MouseID | Treatmentgroup | status | DPI | organ | well_position | plate | CAR_mid_chain | CAR_long_chain |\n",
       "|---|---|---|---|---|---|---|---|---|---|\n",
       "| X501_Group1A_50dpi_LV_top_251_B_A1_P129.mzXML | 501                                           | Group1A                                       | naive                                         | DPI_50                                        | LV_top                                        | A1                                            | P129                                          | 0                                             | 0.001364371                                   |\n",
       "| X502_Group1A_50dpi_LV_top_252_B_A2_P129.mzXML | 502                                           | Group1A                                       | naive                                         | DPI_50                                        | LV_top                                        | A2                                            | P129                                          | 0                                             | 0.000359177                                   |\n",
       "| X503_Group1A_50dpi_LV_top_253_B_A3_P129.mzXML | 503                                           | Group1A                                       | naive                                         | DPI_50                                        | LV_top                                        | A3                                            | P129                                          | 0                                             | 0.000934255                                   |\n",
       "| X504_Group1A_50dpi_LV_top_254_B_A4_P129.mzXML | 504                                           | Group1A                                       | naive                                         | DPI_50                                        | LV_top                                        | A4                                            | P129                                          | 0                                             | 0.000335982                                   |\n",
       "| X505_Group1A_50dpi_LV_top_255_B_A5_P129.mzXML | 505                                           | Group1A                                       | naive                                         | DPI_50                                        | LV_top                                        | A5                                            | P129                                          | 0                                             | 0.000662891                                   |\n",
       "| X521_Group1A_50dpi_LV_top_256_B_A6_P129.mzXML | 521                                           | Group1A                                       | naive                                         | DPI_50                                        | LV_top                                        | A6                                            | P129                                          | 0                                             | 0.001401562                                   |\n",
       "\n"
      ],
      "text/plain": [
       "  filename                                      MouseID Treatmentgroup status\n",
       "1 X501_Group1A_50dpi_LV_top_251_B_A1_P129.mzXML 501     Group1A        naive \n",
       "2 X502_Group1A_50dpi_LV_top_252_B_A2_P129.mzXML 502     Group1A        naive \n",
       "3 X503_Group1A_50dpi_LV_top_253_B_A3_P129.mzXML 503     Group1A        naive \n",
       "4 X504_Group1A_50dpi_LV_top_254_B_A4_P129.mzXML 504     Group1A        naive \n",
       "5 X505_Group1A_50dpi_LV_top_255_B_A5_P129.mzXML 505     Group1A        naive \n",
       "6 X521_Group1A_50dpi_LV_top_256_B_A6_P129.mzXML 521     Group1A        naive \n",
       "  DPI    organ  well_position plate CAR_mid_chain CAR_long_chain\n",
       "1 DPI_50 LV_top A1            P129  0             0.001364371   \n",
       "2 DPI_50 LV_top A2            P129  0             0.000359177   \n",
       "3 DPI_50 LV_top A3            P129  0             0.000934255   \n",
       "4 DPI_50 LV_top A4            P129  0             0.000335982   \n",
       "5 DPI_50 LV_top A5            P129  0             0.000662891   \n",
       "6 DPI_50 LV_top A6            P129  0             0.001401562   "
      ]
     },
     "metadata": {},
     "output_type": "display_data"
    },
    {
     "data": {
      "text/html": [
       "<ol class=list-inline>\n",
       "\t<li>30</li>\n",
       "\t<li>10</li>\n",
       "</ol>\n"
      ],
      "text/latex": [
       "\\begin{enumerate*}\n",
       "\\item 30\n",
       "\\item 10\n",
       "\\end{enumerate*}\n"
      ],
      "text/markdown": [
       "1. 30\n",
       "2. 10\n",
       "\n",
       "\n"
      ],
      "text/plain": [
       "[1] 30 10"
      ]
     },
     "metadata": {},
     "output_type": "display_data"
    },
    {
     "data": {
      "text/html": [
       "<ol class=list-inline>\n",
       "\t<li>30</li>\n",
       "\t<li>2</li>\n",
       "</ol>\n"
      ],
      "text/latex": [
       "\\begin{enumerate*}\n",
       "\\item 30\n",
       "\\item 2\n",
       "\\end{enumerate*}\n"
      ],
      "text/markdown": [
       "1. 30\n",
       "2. 2\n",
       "\n",
       "\n"
      ],
      "text/plain": [
       "[1] 30  2"
      ]
     },
     "metadata": {},
     "output_type": "display_data"
    },
    {
     "data": {
      "text/html": [
       "<ol class=list-inline>\n",
       "\t<li>30</li>\n",
       "\t<li>2</li>\n",
       "</ol>\n"
      ],
      "text/latex": [
       "\\begin{enumerate*}\n",
       "\\item 30\n",
       "\\item 2\n",
       "\\end{enumerate*}\n"
      ],
      "text/markdown": [
       "1. 30\n",
       "2. 2\n",
       "\n",
       "\n"
      ],
      "text/plain": [
       "[1] 30  2"
      ]
     },
     "metadata": {},
     "output_type": "display_data"
    },
    {
     "data": {
      "text/html": [
       "<ol class=list-inline>\n",
       "\t<li>30</li>\n",
       "\t<li>10</li>\n",
       "</ol>\n"
      ],
      "text/latex": [
       "\\begin{enumerate*}\n",
       "\\item 30\n",
       "\\item 10\n",
       "\\end{enumerate*}\n"
      ],
      "text/markdown": [
       "1. 30\n",
       "2. 10\n",
       "\n",
       "\n"
      ],
      "text/plain": [
       "[1] 30 10"
      ]
     },
     "metadata": {},
     "output_type": "display_data"
    }
   ],
   "source": [
    "noMeta<-features_pos[,9:10] \n",
    "head(noMeta)\n",
    "not_zero<-which(colSums(noMeta) != 0)\n",
    "head(not_zero)\n",
    "nonzero <- noMeta[, not_zero] \n",
    "nonzero\n",
    "nonzero_wMeta<-cbind(features_pos[,1:8], nonzero)\n",
    "head(nonzero_wMeta)\n",
    "dim(features_pos)\n",
    "dim(noMeta)\n",
    "dim(nonzero)\n",
    "dim(nonzero_wMeta)"
   ]
  },
  {
   "cell_type": "code",
   "execution_count": 5,
   "metadata": {
    "scrolled": true
   },
   "outputs": [
    {
     "name": "stderr",
     "output_type": "stream",
     "text": [
      "Warning message in wilcox.test.default(x = c(0, 0, 0, 0, 0, 0, 0, 0, 0, 0, 0, 0, :\n",
      "\"cannot compute exact p-value with ties\"Warning message in wilcox.test.default(x = c(0.001364371, 0.000359177, 0.000934255, :\n",
      "\"cannot compute exact p-value with ties\""
     ]
    },
    {
     "data": {
      "text/html": [
       "<ol class=list-inline>\n",
       "\t<li>0.164394222391658</li>\n",
       "\t<li>0.589572967536514</li>\n",
       "</ol>\n"
      ],
      "text/latex": [
       "\\begin{enumerate*}\n",
       "\\item 0.164394222391658\n",
       "\\item 0.589572967536514\n",
       "\\end{enumerate*}\n"
      ],
      "text/markdown": [
       "1. 0.164394222391658\n",
       "2. 0.589572967536514\n",
       "\n",
       "\n"
      ],
      "text/plain": [
       "[1] 0.1643942 0.5895730"
      ]
     },
     "metadata": {},
     "output_type": "display_data"
    },
    {
     "data": {
      "text/html": [
       "<ol class=list-inline>\n",
       "\t<li>0.328788444783316</li>\n",
       "\t<li>0.589572967536514</li>\n",
       "</ol>\n"
      ],
      "text/latex": [
       "\\begin{enumerate*}\n",
       "\\item 0.328788444783316\n",
       "\\item 0.589572967536514\n",
       "\\end{enumerate*}\n"
      ],
      "text/markdown": [
       "1. 0.328788444783316\n",
       "2. 0.589572967536514\n",
       "\n",
       "\n"
      ],
      "text/plain": [
       "[1] 0.3287884 0.5895730"
      ]
     },
     "metadata": {},
     "output_type": "display_data"
    }
   ],
   "source": [
    "pval<-c()\n",
    "\n",
    "for (i in 9:ncol(nonzero_wMeta)) \n",
    "pval<-c(pval,wilcox.test(nonzero_wMeta[,i]~nonzero_wMeta$Treatmentgroup)$p.value)\n",
    "head(pval) \n",
    "pAdj <- p.adjust(pval, method = c(\"fdr\"), n=length(pval)) \n",
    "head(pAdj) \n",
    "\n"
   ]
  },
  {
   "cell_type": "code",
   "execution_count": 6,
   "metadata": {
    "scrolled": true
   },
   "outputs": [
    {
     "data": {
      "text/html": [
       "2"
      ],
      "text/latex": [
       "2"
      ],
      "text/markdown": [
       "2"
      ],
      "text/plain": [
       "[1] 2"
      ]
     },
     "metadata": {},
     "output_type": "display_data"
    }
   ],
   "source": [
    "length(pval)"
   ]
  },
  {
   "cell_type": "code",
   "execution_count": 7,
   "metadata": {
    "scrolled": true
   },
   "outputs": [
    {
     "data": {
      "text/html": [
       "2"
      ],
      "text/latex": [
       "2"
      ],
      "text/markdown": [
       "2"
      ],
      "text/plain": [
       "[1] 2"
      ]
     },
     "metadata": {},
     "output_type": "display_data"
    }
   ],
   "source": [
    "length(pAdj)"
   ]
  },
  {
   "cell_type": "code",
   "execution_count": 8,
   "metadata": {},
   "outputs": [
    {
     "data": {
      "text/html": [
       "<ol class=list-inline>\n",
       "\t<li>2</li>\n",
       "\t<li>2</li>\n",
       "</ol>\n"
      ],
      "text/latex": [
       "\\begin{enumerate*}\n",
       "\\item 2\n",
       "\\item 2\n",
       "\\end{enumerate*}\n"
      ],
      "text/markdown": [
       "1. 2\n",
       "2. 2\n",
       "\n",
       "\n"
      ],
      "text/plain": [
       "[1] 2 2"
      ]
     },
     "metadata": {},
     "output_type": "display_data"
    },
    {
     "data": {
      "text/html": [
       "<table>\n",
       "<thead><tr><th></th><th scope=col>CAR_mid_chain</th><th scope=col>CAR_long_chain</th></tr></thead>\n",
       "<tbody>\n",
       "\t<tr><th scope=row>Group1A</th><td>0.000000e+00</td><td>0.0009334729</td></tr>\n",
       "\t<tr><th scope=row>Group3A</th><td>7.086667e-06</td><td>0.0012290657</td></tr>\n",
       "</tbody>\n",
       "</table>\n"
      ],
      "text/latex": [
       "\\begin{tabular}{r|ll}\n",
       "  & CAR\\_mid\\_chain & CAR\\_long\\_chain\\\\\n",
       "\\hline\n",
       "\tGroup1A & 0.000000e+00 & 0.0009334729\\\\\n",
       "\tGroup3A & 7.086667e-06 & 0.0012290657\\\\\n",
       "\\end{tabular}\n"
      ],
      "text/markdown": [
       "\n",
       "| <!--/--> | CAR_mid_chain | CAR_long_chain |\n",
       "|---|---|---|\n",
       "| Group1A | 0.000000e+00 | 0.0009334729 |\n",
       "| Group3A | 7.086667e-06 | 0.0012290657 |\n",
       "\n"
      ],
      "text/plain": [
       "        CAR_mid_chain CAR_long_chain\n",
       "Group1A 0.000000e+00  0.0009334729  \n",
       "Group3A 7.086667e-06  0.0012290657  "
      ]
     },
     "metadata": {},
     "output_type": "display_data"
    },
    {
     "data": {
      "text/html": [
       "<dl class=dl-horizontal>\n",
       "\t<dt>CAR_mid_chain</dt>\n",
       "\t\t<dd>0</dd>\n",
       "\t<dt>CAR_long_chain</dt>\n",
       "\t\t<dd>0.759498014345314</dd>\n",
       "</dl>\n"
      ],
      "text/latex": [
       "\\begin{description*}\n",
       "\\item[CAR\\textbackslash{}\\_mid\\textbackslash{}\\_chain] 0\n",
       "\\item[CAR\\textbackslash{}\\_long\\textbackslash{}\\_chain] 0.759498014345314\n",
       "\\end{description*}\n"
      ],
      "text/markdown": [
       "CAR_mid_chain\n",
       ":   0CAR_long_chain\n",
       ":   0.759498014345314\n",
       "\n"
      ],
      "text/plain": [
       " CAR_mid_chain CAR_long_chain \n",
       "      0.000000       0.759498 "
      ]
     },
     "metadata": {},
     "output_type": "display_data"
    },
    {
     "data": {
      "text/html": [
       "<ol class=list-inline>\n",
       "\t<li>'numeric'</li>\n",
       "\t<li>'vector'</li>\n",
       "</ol>\n"
      ],
      "text/latex": [
       "\\begin{enumerate*}\n",
       "\\item 'numeric'\n",
       "\\item 'vector'\n",
       "\\end{enumerate*}\n"
      ],
      "text/markdown": [
       "1. 'numeric'\n",
       "2. 'vector'\n",
       "\n",
       "\n"
      ],
      "text/plain": [
       "[1] \"numeric\" \"vector\" "
      ]
     },
     "metadata": {},
     "output_type": "display_data"
    }
   ],
   "source": [
    "avg<- apply(nonzero_wMeta[,9:ncol(nonzero_wMeta)], 2, function(x) tapply(x, nonzero_wMeta$Treatmentgroup, function(x) mean(x))) \n",
    "\n",
    "dim(avg) \n",
    "\n",
    "avg[,1:2]\n",
    "\n",
    "fch <- apply(avg, 2, function(x) x[1]/x[2])\n",
    "\n",
    "head(fch)\n",
    "is(fch)"
   ]
  },
  {
   "cell_type": "code",
   "execution_count": 9,
   "metadata": {
    "scrolled": true
   },
   "outputs": [
    {
     "data": {
      "text/html": [
       "<dl class=dl-horizontal>\n",
       "\t<dt>CAR_mid_chain</dt>\n",
       "\t\t<dd>0</dd>\n",
       "\t<dt>CAR_long_chain</dt>\n",
       "\t\t<dd>0.759498014345314</dd>\n",
       "</dl>\n"
      ],
      "text/latex": [
       "\\begin{description*}\n",
       "\\item[CAR\\textbackslash{}\\_mid\\textbackslash{}\\_chain] 0\n",
       "\\item[CAR\\textbackslash{}\\_long\\textbackslash{}\\_chain] 0.759498014345314\n",
       "\\end{description*}\n"
      ],
      "text/markdown": [
       "CAR_mid_chain\n",
       ":   0CAR_long_chain\n",
       ":   0.759498014345314\n",
       "\n"
      ],
      "text/plain": [
       " CAR_mid_chain CAR_long_chain \n",
       "      0.000000       0.759498 "
      ]
     },
     "metadata": {},
     "output_type": "display_data"
    }
   ],
   "source": [
    "fch"
   ]
  },
  {
   "cell_type": "code",
   "execution_count": 10,
   "metadata": {
    "scrolled": false
   },
   "outputs": [],
   "source": [
    "df <- data.frame(fch,pval, pAdj)\n",
    "write.csv(df, \"CAR-time-LVT-wilcox-1A-3A.csv\")"
   ]
  },
  {
   "cell_type": "code",
   "execution_count": null,
   "metadata": {},
   "outputs": [],
   "source": []
  },
  {
   "cell_type": "code",
   "execution_count": null,
   "metadata": {},
   "outputs": [],
   "source": []
  },
  {
   "cell_type": "code",
   "execution_count": null,
   "metadata": {},
   "outputs": [],
   "source": []
  },
  {
   "cell_type": "code",
   "execution_count": null,
   "metadata": {},
   "outputs": [],
   "source": []
  },
  {
   "cell_type": "code",
   "execution_count": null,
   "metadata": {},
   "outputs": [],
   "source": []
  },
  {
   "cell_type": "code",
   "execution_count": null,
   "metadata": {},
   "outputs": [],
   "source": []
  }
 ],
 "metadata": {
  "kernelspec": {
   "display_name": "R",
   "language": "R",
   "name": "ir"
  },
  "language_info": {
   "codemirror_mode": "r",
   "file_extension": ".r",
   "mimetype": "text/x-r-source",
   "name": "R",
   "pygments_lexer": "r",
   "version": "3.6.1"
  }
 },
 "nbformat": 4,
 "nbformat_minor": 2
}
