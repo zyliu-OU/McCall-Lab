{
 "cells": [
  {
   "cell_type": "code",
   "execution_count": 1,
   "metadata": {},
   "outputs": [],
   "source": [
    "a <- read.csv(\"03172021-CAR-treatment-LVT-M-F.csv\")"
   ]
  },
  {
   "cell_type": "code",
   "execution_count": 2,
   "metadata": {},
   "outputs": [
    {
     "data": {
      "text/html": [
       "<table>\n",
       "<thead><tr><th scope=col>filename</th><th scope=col>MouseID</th><th scope=col>Treatmentgroup</th><th scope=col>DPI</th><th scope=col>organ</th><th scope=col>well_position</th><th scope=col>plate</th><th scope=col>CAR_mid_chain</th><th scope=col>CAR_long_chain</th></tr></thead>\n",
       "<tbody>\n",
       "\t<tr><td>X511_Group1C_142dpi_LV_top_161_G_A1_P128.mzXML</td><td>511                                           </td><td>naive                                         </td><td>142                                           </td><td>LV_top                                        </td><td>A1                                            </td><td>P128                                          </td><td>0                                             </td><td>0.000085300                                   </td></tr>\n",
       "\t<tr><td>X512_Group1C_142dpi_LV_top_162_G_A2_P128.mzXML</td><td>512                                           </td><td>naive                                         </td><td>142                                           </td><td>LV_top                                        </td><td>A2                                            </td><td>P128                                          </td><td>0                                             </td><td>0.000000000                                   </td></tr>\n",
       "\t<tr><td>X513_Group1C_142dpi_LV_top_163_G_A3_P128.mzXML</td><td>513                                           </td><td>naive                                         </td><td>142                                           </td><td>LV_top                                        </td><td>A3                                            </td><td>P128                                          </td><td>0                                             </td><td>0.000632642                                   </td></tr>\n",
       "\t<tr><td>X514_Group1C_142dpi_LV_top_164_G_A4_P128.mzXML</td><td>514                                           </td><td>naive                                         </td><td>142                                           </td><td>LV_top                                        </td><td>A4                                            </td><td>P128                                          </td><td>0                                             </td><td>0.000000000                                   </td></tr>\n",
       "\t<tr><td>X515_Group1C_142dpi_LV_top_165_G_A5_P128.mzXML</td><td>515                                           </td><td>naive                                         </td><td>142                                           </td><td>LV_top                                        </td><td>A5                                            </td><td>P128                                          </td><td>0                                             </td><td>0.000149541                                   </td></tr>\n",
       "\t<tr><td>X531_Group1C_142dpi_LV_top_166_G_A6_P128.mzXML</td><td>531                                           </td><td>naive                                         </td><td>142                                           </td><td>LV_top                                        </td><td>A6                                            </td><td>P128                                          </td><td>0                                             </td><td>0.000478358                                   </td></tr>\n",
       "</tbody>\n",
       "</table>\n"
      ],
      "text/latex": [
       "\\begin{tabular}{r|lllllllll}\n",
       " filename & MouseID & Treatmentgroup & DPI & organ & well\\_position & plate & CAR\\_mid\\_chain & CAR\\_long\\_chain\\\\\n",
       "\\hline\n",
       "\t X511\\_Group1C\\_142dpi\\_LV\\_top\\_161\\_G\\_A1\\_P128.mzXML & 511                                                            & naive                                                          & 142                                                            & LV\\_top                                                       & A1                                                             & P128                                                           & 0                                                              & 0.000085300                                                   \\\\\n",
       "\t X512\\_Group1C\\_142dpi\\_LV\\_top\\_162\\_G\\_A2\\_P128.mzXML & 512                                                            & naive                                                          & 142                                                            & LV\\_top                                                       & A2                                                             & P128                                                           & 0                                                              & 0.000000000                                                   \\\\\n",
       "\t X513\\_Group1C\\_142dpi\\_LV\\_top\\_163\\_G\\_A3\\_P128.mzXML & 513                                                            & naive                                                          & 142                                                            & LV\\_top                                                       & A3                                                             & P128                                                           & 0                                                              & 0.000632642                                                   \\\\\n",
       "\t X514\\_Group1C\\_142dpi\\_LV\\_top\\_164\\_G\\_A4\\_P128.mzXML & 514                                                            & naive                                                          & 142                                                            & LV\\_top                                                       & A4                                                             & P128                                                           & 0                                                              & 0.000000000                                                   \\\\\n",
       "\t X515\\_Group1C\\_142dpi\\_LV\\_top\\_165\\_G\\_A5\\_P128.mzXML & 515                                                            & naive                                                          & 142                                                            & LV\\_top                                                       & A5                                                             & P128                                                           & 0                                                              & 0.000149541                                                   \\\\\n",
       "\t X531\\_Group1C\\_142dpi\\_LV\\_top\\_166\\_G\\_A6\\_P128.mzXML & 531                                                            & naive                                                          & 142                                                            & LV\\_top                                                       & A6                                                             & P128                                                           & 0                                                              & 0.000478358                                                   \\\\\n",
       "\\end{tabular}\n"
      ],
      "text/markdown": [
       "\n",
       "| filename | MouseID | Treatmentgroup | DPI | organ | well_position | plate | CAR_mid_chain | CAR_long_chain |\n",
       "|---|---|---|---|---|---|---|---|---|\n",
       "| X511_Group1C_142dpi_LV_top_161_G_A1_P128.mzXML | 511                                            | naive                                          | 142                                            | LV_top                                         | A1                                             | P128                                           | 0                                              | 0.000085300                                    |\n",
       "| X512_Group1C_142dpi_LV_top_162_G_A2_P128.mzXML | 512                                            | naive                                          | 142                                            | LV_top                                         | A2                                             | P128                                           | 0                                              | 0.000000000                                    |\n",
       "| X513_Group1C_142dpi_LV_top_163_G_A3_P128.mzXML | 513                                            | naive                                          | 142                                            | LV_top                                         | A3                                             | P128                                           | 0                                              | 0.000632642                                    |\n",
       "| X514_Group1C_142dpi_LV_top_164_G_A4_P128.mzXML | 514                                            | naive                                          | 142                                            | LV_top                                         | A4                                             | P128                                           | 0                                              | 0.000000000                                    |\n",
       "| X515_Group1C_142dpi_LV_top_165_G_A5_P128.mzXML | 515                                            | naive                                          | 142                                            | LV_top                                         | A5                                             | P128                                           | 0                                              | 0.000149541                                    |\n",
       "| X531_Group1C_142dpi_LV_top_166_G_A6_P128.mzXML | 531                                            | naive                                          | 142                                            | LV_top                                         | A6                                             | P128                                           | 0                                              | 0.000478358                                    |\n",
       "\n"
      ],
      "text/plain": [
       "  filename                                       MouseID Treatmentgroup DPI\n",
       "1 X511_Group1C_142dpi_LV_top_161_G_A1_P128.mzXML 511     naive          142\n",
       "2 X512_Group1C_142dpi_LV_top_162_G_A2_P128.mzXML 512     naive          142\n",
       "3 X513_Group1C_142dpi_LV_top_163_G_A3_P128.mzXML 513     naive          142\n",
       "4 X514_Group1C_142dpi_LV_top_164_G_A4_P128.mzXML 514     naive          142\n",
       "5 X515_Group1C_142dpi_LV_top_165_G_A5_P128.mzXML 515     naive          142\n",
       "6 X531_Group1C_142dpi_LV_top_166_G_A6_P128.mzXML 531     naive          142\n",
       "  organ  well_position plate CAR_mid_chain CAR_long_chain\n",
       "1 LV_top A1            P128  0             0.000085300   \n",
       "2 LV_top A2            P128  0             0.000000000   \n",
       "3 LV_top A3            P128  0             0.000632642   \n",
       "4 LV_top A4            P128  0             0.000000000   \n",
       "5 LV_top A5            P128  0             0.000149541   \n",
       "6 LV_top A6            P128  0             0.000478358   "
      ]
     },
     "metadata": {},
     "output_type": "display_data"
    },
    {
     "data": {
      "text/html": [
       "<ol class=list-inline>\n",
       "\t<li>60</li>\n",
       "\t<li>9</li>\n",
       "</ol>\n"
      ],
      "text/latex": [
       "\\begin{enumerate*}\n",
       "\\item 60\n",
       "\\item 9\n",
       "\\end{enumerate*}\n"
      ],
      "text/markdown": [
       "1. 60\n",
       "2. 9\n",
       "\n",
       "\n"
      ],
      "text/plain": [
       "[1] 60  9"
      ]
     },
     "metadata": {},
     "output_type": "display_data"
    }
   ],
   "source": [
    "head(a)\n",
    "dim(a)"
   ]
  },
  {
   "cell_type": "code",
   "execution_count": 3,
   "metadata": {},
   "outputs": [
    {
     "data": {
      "text/html": [
       "<table>\n",
       "<thead><tr><th></th><th scope=col>filename</th><th scope=col>MouseID</th><th scope=col>Treatmentgroup</th><th scope=col>DPI</th><th scope=col>organ</th><th scope=col>well_position</th><th scope=col>plate</th><th scope=col>CAR_mid_chain</th><th scope=col>CAR_long_chain</th></tr></thead>\n",
       "<tbody>\n",
       "\t<tr><th scope=row>16</th><td>X581_Group3E_142dpi_LV_top_176_G_B4_P128.mzXML</td><td>581                                           </td><td>infected                                      </td><td>142                                           </td><td>LV_top                                        </td><td>B4                                            </td><td>P128                                          </td><td>0                                             </td><td>0.001564505                                   </td></tr>\n",
       "\t<tr><th scope=row>17</th><td>X582_Group3E_142dpi_LV_top_177_G_B5_P128.mzXML</td><td>582                                           </td><td>infected                                      </td><td>142                                           </td><td>LV_top                                        </td><td>B5                                            </td><td>P128                                          </td><td>0                                             </td><td>0.001273621                                   </td></tr>\n",
       "\t<tr><th scope=row>18</th><td>X583_Group3E_142dpi_LV_top_178_G_B6_P128.mzXML</td><td>583                                           </td><td>infected                                      </td><td>142                                           </td><td>LV_top                                        </td><td>B6                                            </td><td>P128                                          </td><td>0                                             </td><td>0.004275555                                   </td></tr>\n",
       "\t<tr><th scope=row>19</th><td>X584_Group3E_142dpi_LV_top_179_G_B7_P128.mzXML</td><td>584                                           </td><td>infected                                      </td><td>142                                           </td><td>LV_top                                        </td><td>B7                                            </td><td>P128                                          </td><td>0                                             </td><td>0.001741117                                   </td></tr>\n",
       "\t<tr><th scope=row>20</th><td>X585_Group3E_142dpi_LV_top_180_G_B8_P128.mzXML</td><td>585                                           </td><td>infected                                      </td><td>142                                           </td><td>LV_top                                        </td><td>B8                                            </td><td>P128                                          </td><td>0                                             </td><td>0.003327710                                   </td></tr>\n",
       "\t<tr><th scope=row>21</th><td>X611_Group9_142dpi_LV_top_181_G_B9_P128.mzXML </td><td>611                                           </td><td>combo                                         </td><td>142                                           </td><td>LV_top                                        </td><td>B9                                            </td><td>P128                                          </td><td>0                                             </td><td>0.001795282                                   </td></tr>\n",
       "</tbody>\n",
       "</table>\n"
      ],
      "text/latex": [
       "\\begin{tabular}{r|lllllllll}\n",
       "  & filename & MouseID & Treatmentgroup & DPI & organ & well\\_position & plate & CAR\\_mid\\_chain & CAR\\_long\\_chain\\\\\n",
       "\\hline\n",
       "\t16 & X581\\_Group3E\\_142dpi\\_LV\\_top\\_176\\_G\\_B4\\_P128.mzXML & 581                                                            & infected                                                       & 142                                                            & LV\\_top                                                       & B4                                                             & P128                                                           & 0                                                              & 0.001564505                                                   \\\\\n",
       "\t17 & X582\\_Group3E\\_142dpi\\_LV\\_top\\_177\\_G\\_B5\\_P128.mzXML & 582                                                            & infected                                                       & 142                                                            & LV\\_top                                                       & B5                                                             & P128                                                           & 0                                                              & 0.001273621                                                   \\\\\n",
       "\t18 & X583\\_Group3E\\_142dpi\\_LV\\_top\\_178\\_G\\_B6\\_P128.mzXML & 583                                                            & infected                                                       & 142                                                            & LV\\_top                                                       & B6                                                             & P128                                                           & 0                                                              & 0.004275555                                                   \\\\\n",
       "\t19 & X584\\_Group3E\\_142dpi\\_LV\\_top\\_179\\_G\\_B7\\_P128.mzXML & 584                                                            & infected                                                       & 142                                                            & LV\\_top                                                       & B7                                                             & P128                                                           & 0                                                              & 0.001741117                                                   \\\\\n",
       "\t20 & X585\\_Group3E\\_142dpi\\_LV\\_top\\_180\\_G\\_B8\\_P128.mzXML & 585                                                            & infected                                                       & 142                                                            & LV\\_top                                                       & B8                                                             & P128                                                           & 0                                                              & 0.003327710                                                   \\\\\n",
       "\t21 & X611\\_Group9\\_142dpi\\_LV\\_top\\_181\\_G\\_B9\\_P128.mzXML  & 611                                                            & combo                                                          & 142                                                            & LV\\_top                                                       & B9                                                             & P128                                                           & 0                                                              & 0.001795282                                                   \\\\\n",
       "\\end{tabular}\n"
      ],
      "text/markdown": [
       "\n",
       "| <!--/--> | filename | MouseID | Treatmentgroup | DPI | organ | well_position | plate | CAR_mid_chain | CAR_long_chain |\n",
       "|---|---|---|---|---|---|---|---|---|---|\n",
       "| 16 | X581_Group3E_142dpi_LV_top_176_G_B4_P128.mzXML | 581                                            | infected                                       | 142                                            | LV_top                                         | B4                                             | P128                                           | 0                                              | 0.001564505                                    |\n",
       "| 17 | X582_Group3E_142dpi_LV_top_177_G_B5_P128.mzXML | 582                                            | infected                                       | 142                                            | LV_top                                         | B5                                             | P128                                           | 0                                              | 0.001273621                                    |\n",
       "| 18 | X583_Group3E_142dpi_LV_top_178_G_B6_P128.mzXML | 583                                            | infected                                       | 142                                            | LV_top                                         | B6                                             | P128                                           | 0                                              | 0.004275555                                    |\n",
       "| 19 | X584_Group3E_142dpi_LV_top_179_G_B7_P128.mzXML | 584                                            | infected                                       | 142                                            | LV_top                                         | B7                                             | P128                                           | 0                                              | 0.001741117                                    |\n",
       "| 20 | X585_Group3E_142dpi_LV_top_180_G_B8_P128.mzXML | 585                                            | infected                                       | 142                                            | LV_top                                         | B8                                             | P128                                           | 0                                              | 0.003327710                                    |\n",
       "| 21 | X611_Group9_142dpi_LV_top_181_G_B9_P128.mzXML  | 611                                            | combo                                          | 142                                            | LV_top                                         | B9                                             | P128                                           | 0                                              | 0.001795282                                    |\n",
       "\n"
      ],
      "text/plain": [
       "   filename                                       MouseID Treatmentgroup DPI\n",
       "16 X581_Group3E_142dpi_LV_top_176_G_B4_P128.mzXML 581     infected       142\n",
       "17 X582_Group3E_142dpi_LV_top_177_G_B5_P128.mzXML 582     infected       142\n",
       "18 X583_Group3E_142dpi_LV_top_178_G_B6_P128.mzXML 583     infected       142\n",
       "19 X584_Group3E_142dpi_LV_top_179_G_B7_P128.mzXML 584     infected       142\n",
       "20 X585_Group3E_142dpi_LV_top_180_G_B8_P128.mzXML 585     infected       142\n",
       "21 X611_Group9_142dpi_LV_top_181_G_B9_P128.mzXML  611     combo          142\n",
       "   organ  well_position plate CAR_mid_chain CAR_long_chain\n",
       "16 LV_top B4            P128  0             0.001564505   \n",
       "17 LV_top B5            P128  0             0.001273621   \n",
       "18 LV_top B6            P128  0             0.004275555   \n",
       "19 LV_top B7            P128  0             0.001741117   \n",
       "20 LV_top B8            P128  0             0.003327710   \n",
       "21 LV_top B9            P128  0             0.001795282   "
      ]
     },
     "metadata": {},
     "output_type": "display_data"
    },
    {
     "data": {
      "text/html": [
       "<ol class=list-inline>\n",
       "\t<li>30</li>\n",
       "\t<li>9</li>\n",
       "</ol>\n"
      ],
      "text/latex": [
       "\\begin{enumerate*}\n",
       "\\item 30\n",
       "\\item 9\n",
       "\\end{enumerate*}\n"
      ],
      "text/markdown": [
       "1. 30\n",
       "2. 9\n",
       "\n",
       "\n"
      ],
      "text/plain": [
       "[1] 30  9"
      ]
     },
     "metadata": {},
     "output_type": "display_data"
    }
   ],
   "source": [
    "features_pos<-droplevels(subset(a, a$Treatmentgroup==c(\"infected\")|a$Treatmentgroup==c(\"combo\")))\n",
    "head(features_pos)\n",
    "dim(features_pos)"
   ]
  },
  {
   "cell_type": "code",
   "execution_count": 4,
   "metadata": {
    "scrolled": false
   },
   "outputs": [
    {
     "data": {
      "text/html": [
       "<table>\n",
       "<thead><tr><th></th><th scope=col>CAR_mid_chain</th><th scope=col>CAR_long_chain</th></tr></thead>\n",
       "<tbody>\n",
       "\t<tr><th scope=row>16</th><td>0          </td><td>0.001564505</td></tr>\n",
       "\t<tr><th scope=row>17</th><td>0          </td><td>0.001273621</td></tr>\n",
       "\t<tr><th scope=row>18</th><td>0          </td><td>0.004275555</td></tr>\n",
       "\t<tr><th scope=row>19</th><td>0          </td><td>0.001741117</td></tr>\n",
       "\t<tr><th scope=row>20</th><td>0          </td><td>0.003327710</td></tr>\n",
       "\t<tr><th scope=row>21</th><td>0          </td><td>0.001795282</td></tr>\n",
       "</tbody>\n",
       "</table>\n"
      ],
      "text/latex": [
       "\\begin{tabular}{r|ll}\n",
       "  & CAR\\_mid\\_chain & CAR\\_long\\_chain\\\\\n",
       "\\hline\n",
       "\t16 & 0           & 0.001564505\\\\\n",
       "\t17 & 0           & 0.001273621\\\\\n",
       "\t18 & 0           & 0.004275555\\\\\n",
       "\t19 & 0           & 0.001741117\\\\\n",
       "\t20 & 0           & 0.003327710\\\\\n",
       "\t21 & 0           & 0.001795282\\\\\n",
       "\\end{tabular}\n"
      ],
      "text/markdown": [
       "\n",
       "| <!--/--> | CAR_mid_chain | CAR_long_chain |\n",
       "|---|---|---|\n",
       "| 16 | 0           | 0.001564505 |\n",
       "| 17 | 0           | 0.001273621 |\n",
       "| 18 | 0           | 0.004275555 |\n",
       "| 19 | 0           | 0.001741117 |\n",
       "| 20 | 0           | 0.003327710 |\n",
       "| 21 | 0           | 0.001795282 |\n",
       "\n"
      ],
      "text/plain": [
       "   CAR_mid_chain CAR_long_chain\n",
       "16 0             0.001564505   \n",
       "17 0             0.001273621   \n",
       "18 0             0.004275555   \n",
       "19 0             0.001741117   \n",
       "20 0             0.003327710   \n",
       "21 0             0.001795282   "
      ]
     },
     "metadata": {},
     "output_type": "display_data"
    },
    {
     "data": {
      "text/html": [
       "<strong>CAR_long_chain:</strong> 2"
      ],
      "text/latex": [
       "\\textbf{CAR\\textbackslash{}\\_long\\textbackslash{}\\_chain:} 2"
      ],
      "text/markdown": [
       "**CAR_long_chain:** 2"
      ],
      "text/plain": [
       "CAR_long_chain \n",
       "             2 "
      ]
     },
     "metadata": {},
     "output_type": "display_data"
    },
    {
     "data": {
      "text/html": [
       "<ol class=list-inline>\n",
       "\t<li>0.001564505</li>\n",
       "\t<li>0.001273621</li>\n",
       "\t<li>0.004275555</li>\n",
       "\t<li>0.001741117</li>\n",
       "\t<li>0.00332771</li>\n",
       "\t<li>0.001795282</li>\n",
       "\t<li>0.000666932</li>\n",
       "\t<li>0.003324226</li>\n",
       "\t<li>0.001230555</li>\n",
       "\t<li>0.003122679</li>\n",
       "\t<li>0.003155736</li>\n",
       "\t<li>0.006673995</li>\n",
       "\t<li>0.003464563</li>\n",
       "\t<li>0.000595363</li>\n",
       "\t<li>0.00023748</li>\n",
       "\t<li>0.001844122</li>\n",
       "\t<li>0.001542566</li>\n",
       "\t<li>0.000517916</li>\n",
       "\t<li>0.003214833</li>\n",
       "\t<li>0.003172825</li>\n",
       "\t<li>0.000800256</li>\n",
       "\t<li>0.001139321</li>\n",
       "\t<li>0.00057766</li>\n",
       "\t<li>0.000589652</li>\n",
       "\t<li>0.00107016</li>\n",
       "\t<li>0.000266871</li>\n",
       "\t<li>0.001598721</li>\n",
       "\t<li>0.001832101</li>\n",
       "\t<li>0.001089731</li>\n",
       "\t<li>0.002162578</li>\n",
       "</ol>\n"
      ],
      "text/latex": [
       "\\begin{enumerate*}\n",
       "\\item 0.001564505\n",
       "\\item 0.001273621\n",
       "\\item 0.004275555\n",
       "\\item 0.001741117\n",
       "\\item 0.00332771\n",
       "\\item 0.001795282\n",
       "\\item 0.000666932\n",
       "\\item 0.003324226\n",
       "\\item 0.001230555\n",
       "\\item 0.003122679\n",
       "\\item 0.003155736\n",
       "\\item 0.006673995\n",
       "\\item 0.003464563\n",
       "\\item 0.000595363\n",
       "\\item 0.00023748\n",
       "\\item 0.001844122\n",
       "\\item 0.001542566\n",
       "\\item 0.000517916\n",
       "\\item 0.003214833\n",
       "\\item 0.003172825\n",
       "\\item 0.000800256\n",
       "\\item 0.001139321\n",
       "\\item 0.00057766\n",
       "\\item 0.000589652\n",
       "\\item 0.00107016\n",
       "\\item 0.000266871\n",
       "\\item 0.001598721\n",
       "\\item 0.001832101\n",
       "\\item 0.001089731\n",
       "\\item 0.002162578\n",
       "\\end{enumerate*}\n"
      ],
      "text/markdown": [
       "1. 0.001564505\n",
       "2. 0.001273621\n",
       "3. 0.004275555\n",
       "4. 0.001741117\n",
       "5. 0.00332771\n",
       "6. 0.001795282\n",
       "7. 0.000666932\n",
       "8. 0.003324226\n",
       "9. 0.001230555\n",
       "10. 0.003122679\n",
       "11. 0.003155736\n",
       "12. 0.006673995\n",
       "13. 0.003464563\n",
       "14. 0.000595363\n",
       "15. 0.00023748\n",
       "16. 0.001844122\n",
       "17. 0.001542566\n",
       "18. 0.000517916\n",
       "19. 0.003214833\n",
       "20. 0.003172825\n",
       "21. 0.000800256\n",
       "22. 0.001139321\n",
       "23. 0.00057766\n",
       "24. 0.000589652\n",
       "25. 0.00107016\n",
       "26. 0.000266871\n",
       "27. 0.001598721\n",
       "28. 0.001832101\n",
       "29. 0.001089731\n",
       "30. 0.002162578\n",
       "\n",
       "\n"
      ],
      "text/plain": [
       " [1] 0.001564505 0.001273621 0.004275555 0.001741117 0.003327710 0.001795282\n",
       " [7] 0.000666932 0.003324226 0.001230555 0.003122679 0.003155736 0.006673995\n",
       "[13] 0.003464563 0.000595363 0.000237480 0.001844122 0.001542566 0.000517916\n",
       "[19] 0.003214833 0.003172825 0.000800256 0.001139321 0.000577660 0.000589652\n",
       "[25] 0.001070160 0.000266871 0.001598721 0.001832101 0.001089731 0.002162578"
      ]
     },
     "metadata": {},
     "output_type": "display_data"
    },
    {
     "data": {
      "text/html": [
       "<table>\n",
       "<thead><tr><th></th><th scope=col>filename</th><th scope=col>MouseID</th><th scope=col>Treatmentgroup</th><th scope=col>DPI</th><th scope=col>organ</th><th scope=col>well_position</th><th scope=col>plate</th><th scope=col>nonzero</th></tr></thead>\n",
       "<tbody>\n",
       "\t<tr><th scope=row>16</th><td>X581_Group3E_142dpi_LV_top_176_G_B4_P128.mzXML</td><td>581                                           </td><td>infected                                      </td><td>142                                           </td><td>LV_top                                        </td><td>B4                                            </td><td>P128                                          </td><td>0.001564505                                   </td></tr>\n",
       "\t<tr><th scope=row>17</th><td>X582_Group3E_142dpi_LV_top_177_G_B5_P128.mzXML</td><td>582                                           </td><td>infected                                      </td><td>142                                           </td><td>LV_top                                        </td><td>B5                                            </td><td>P128                                          </td><td>0.001273621                                   </td></tr>\n",
       "\t<tr><th scope=row>18</th><td>X583_Group3E_142dpi_LV_top_178_G_B6_P128.mzXML</td><td>583                                           </td><td>infected                                      </td><td>142                                           </td><td>LV_top                                        </td><td>B6                                            </td><td>P128                                          </td><td>0.004275555                                   </td></tr>\n",
       "\t<tr><th scope=row>19</th><td>X584_Group3E_142dpi_LV_top_179_G_B7_P128.mzXML</td><td>584                                           </td><td>infected                                      </td><td>142                                           </td><td>LV_top                                        </td><td>B7                                            </td><td>P128                                          </td><td>0.001741117                                   </td></tr>\n",
       "\t<tr><th scope=row>20</th><td>X585_Group3E_142dpi_LV_top_180_G_B8_P128.mzXML</td><td>585                                           </td><td>infected                                      </td><td>142                                           </td><td>LV_top                                        </td><td>B8                                            </td><td>P128                                          </td><td>0.003327710                                   </td></tr>\n",
       "\t<tr><th scope=row>21</th><td>X611_Group9_142dpi_LV_top_181_G_B9_P128.mzXML </td><td>611                                           </td><td>combo                                         </td><td>142                                           </td><td>LV_top                                        </td><td>B9                                            </td><td>P128                                          </td><td>0.001795282                                   </td></tr>\n",
       "</tbody>\n",
       "</table>\n"
      ],
      "text/latex": [
       "\\begin{tabular}{r|llllllll}\n",
       "  & filename & MouseID & Treatmentgroup & DPI & organ & well\\_position & plate & nonzero\\\\\n",
       "\\hline\n",
       "\t16 & X581\\_Group3E\\_142dpi\\_LV\\_top\\_176\\_G\\_B4\\_P128.mzXML & 581                                                            & infected                                                       & 142                                                            & LV\\_top                                                       & B4                                                             & P128                                                           & 0.001564505                                                   \\\\\n",
       "\t17 & X582\\_Group3E\\_142dpi\\_LV\\_top\\_177\\_G\\_B5\\_P128.mzXML & 582                                                            & infected                                                       & 142                                                            & LV\\_top                                                       & B5                                                             & P128                                                           & 0.001273621                                                   \\\\\n",
       "\t18 & X583\\_Group3E\\_142dpi\\_LV\\_top\\_178\\_G\\_B6\\_P128.mzXML & 583                                                            & infected                                                       & 142                                                            & LV\\_top                                                       & B6                                                             & P128                                                           & 0.004275555                                                   \\\\\n",
       "\t19 & X584\\_Group3E\\_142dpi\\_LV\\_top\\_179\\_G\\_B7\\_P128.mzXML & 584                                                            & infected                                                       & 142                                                            & LV\\_top                                                       & B7                                                             & P128                                                           & 0.001741117                                                   \\\\\n",
       "\t20 & X585\\_Group3E\\_142dpi\\_LV\\_top\\_180\\_G\\_B8\\_P128.mzXML & 585                                                            & infected                                                       & 142                                                            & LV\\_top                                                       & B8                                                             & P128                                                           & 0.003327710                                                   \\\\\n",
       "\t21 & X611\\_Group9\\_142dpi\\_LV\\_top\\_181\\_G\\_B9\\_P128.mzXML  & 611                                                            & combo                                                          & 142                                                            & LV\\_top                                                       & B9                                                             & P128                                                           & 0.001795282                                                   \\\\\n",
       "\\end{tabular}\n"
      ],
      "text/markdown": [
       "\n",
       "| <!--/--> | filename | MouseID | Treatmentgroup | DPI | organ | well_position | plate | nonzero |\n",
       "|---|---|---|---|---|---|---|---|---|\n",
       "| 16 | X581_Group3E_142dpi_LV_top_176_G_B4_P128.mzXML | 581                                            | infected                                       | 142                                            | LV_top                                         | B4                                             | P128                                           | 0.001564505                                    |\n",
       "| 17 | X582_Group3E_142dpi_LV_top_177_G_B5_P128.mzXML | 582                                            | infected                                       | 142                                            | LV_top                                         | B5                                             | P128                                           | 0.001273621                                    |\n",
       "| 18 | X583_Group3E_142dpi_LV_top_178_G_B6_P128.mzXML | 583                                            | infected                                       | 142                                            | LV_top                                         | B6                                             | P128                                           | 0.004275555                                    |\n",
       "| 19 | X584_Group3E_142dpi_LV_top_179_G_B7_P128.mzXML | 584                                            | infected                                       | 142                                            | LV_top                                         | B7                                             | P128                                           | 0.001741117                                    |\n",
       "| 20 | X585_Group3E_142dpi_LV_top_180_G_B8_P128.mzXML | 585                                            | infected                                       | 142                                            | LV_top                                         | B8                                             | P128                                           | 0.003327710                                    |\n",
       "| 21 | X611_Group9_142dpi_LV_top_181_G_B9_P128.mzXML  | 611                                            | combo                                          | 142                                            | LV_top                                         | B9                                             | P128                                           | 0.001795282                                    |\n",
       "\n"
      ],
      "text/plain": [
       "   filename                                       MouseID Treatmentgroup DPI\n",
       "16 X581_Group3E_142dpi_LV_top_176_G_B4_P128.mzXML 581     infected       142\n",
       "17 X582_Group3E_142dpi_LV_top_177_G_B5_P128.mzXML 582     infected       142\n",
       "18 X583_Group3E_142dpi_LV_top_178_G_B6_P128.mzXML 583     infected       142\n",
       "19 X584_Group3E_142dpi_LV_top_179_G_B7_P128.mzXML 584     infected       142\n",
       "20 X585_Group3E_142dpi_LV_top_180_G_B8_P128.mzXML 585     infected       142\n",
       "21 X611_Group9_142dpi_LV_top_181_G_B9_P128.mzXML  611     combo          142\n",
       "   organ  well_position plate nonzero    \n",
       "16 LV_top B4            P128  0.001564505\n",
       "17 LV_top B5            P128  0.001273621\n",
       "18 LV_top B6            P128  0.004275555\n",
       "19 LV_top B7            P128  0.001741117\n",
       "20 LV_top B8            P128  0.003327710\n",
       "21 LV_top B9            P128  0.001795282"
      ]
     },
     "metadata": {},
     "output_type": "display_data"
    },
    {
     "data": {
      "text/html": [
       "<ol class=list-inline>\n",
       "\t<li>30</li>\n",
       "\t<li>9</li>\n",
       "</ol>\n"
      ],
      "text/latex": [
       "\\begin{enumerate*}\n",
       "\\item 30\n",
       "\\item 9\n",
       "\\end{enumerate*}\n"
      ],
      "text/markdown": [
       "1. 30\n",
       "2. 9\n",
       "\n",
       "\n"
      ],
      "text/plain": [
       "[1] 30  9"
      ]
     },
     "metadata": {},
     "output_type": "display_data"
    },
    {
     "data": {
      "text/html": [
       "<ol class=list-inline>\n",
       "\t<li>30</li>\n",
       "\t<li>2</li>\n",
       "</ol>\n"
      ],
      "text/latex": [
       "\\begin{enumerate*}\n",
       "\\item 30\n",
       "\\item 2\n",
       "\\end{enumerate*}\n"
      ],
      "text/markdown": [
       "1. 30\n",
       "2. 2\n",
       "\n",
       "\n"
      ],
      "text/plain": [
       "[1] 30  2"
      ]
     },
     "metadata": {},
     "output_type": "display_data"
    },
    {
     "data": {
      "text/plain": [
       "NULL"
      ]
     },
     "metadata": {},
     "output_type": "display_data"
    },
    {
     "data": {
      "text/html": [
       "<ol class=list-inline>\n",
       "\t<li>30</li>\n",
       "\t<li>8</li>\n",
       "</ol>\n"
      ],
      "text/latex": [
       "\\begin{enumerate*}\n",
       "\\item 30\n",
       "\\item 8\n",
       "\\end{enumerate*}\n"
      ],
      "text/markdown": [
       "1. 30\n",
       "2. 8\n",
       "\n",
       "\n"
      ],
      "text/plain": [
       "[1] 30  8"
      ]
     },
     "metadata": {},
     "output_type": "display_data"
    }
   ],
   "source": [
    "noMeta<-features_pos[,8:9]\n",
    "head(noMeta)\n",
    "not_zero<-which(colSums(noMeta) != 0)\n",
    "head(not_zero)\n",
    "nonzero <- noMeta[, not_zero] \n",
    "nonzero\n",
    "nonzero_wMeta<-cbind(features_pos[,1:7], nonzero)\n",
    "head(nonzero_wMeta)\n",
    "dim(features_pos)\n",
    "dim(noMeta)\n",
    "dim(nonzero)\n",
    "dim(nonzero_wMeta)"
   ]
  },
  {
   "cell_type": "code",
   "execution_count": 5,
   "metadata": {
    "scrolled": true
   },
   "outputs": [
    {
     "data": {
      "text/html": [
       "0.80633377841523"
      ],
      "text/latex": [
       "0.80633377841523"
      ],
      "text/markdown": [
       "0.80633377841523"
      ],
      "text/plain": [
       "[1] 0.8063338"
      ]
     },
     "metadata": {},
     "output_type": "display_data"
    },
    {
     "data": {
      "text/html": [
       "0.80633377841523"
      ],
      "text/latex": [
       "0.80633377841523"
      ],
      "text/markdown": [
       "0.80633377841523"
      ],
      "text/plain": [
       "[1] 0.8063338"
      ]
     },
     "metadata": {},
     "output_type": "display_data"
    }
   ],
   "source": [
    "pval<-c()\n",
    "\n",
    "for (i in 8:ncol(nonzero_wMeta)) \n",
    "pval<-c(pval,wilcox.test(nonzero_wMeta[,i]~nonzero_wMeta$Treatmentgroup)$p.value)\n",
    "head(pval)\n",
    "pAdj <- p.adjust(pval, method = c(\"fdr\"), n=length(pval)) \n",
    "head(pAdj) \n",
    "\n"
   ]
  },
  {
   "cell_type": "code",
   "execution_count": 6,
   "metadata": {
    "scrolled": true
   },
   "outputs": [
    {
     "data": {
      "text/html": [
       "1"
      ],
      "text/latex": [
       "1"
      ],
      "text/markdown": [
       "1"
      ],
      "text/plain": [
       "[1] 1"
      ]
     },
     "metadata": {},
     "output_type": "display_data"
    }
   ],
   "source": [
    "length(pval)"
   ]
  },
  {
   "cell_type": "code",
   "execution_count": 7,
   "metadata": {
    "scrolled": true
   },
   "outputs": [
    {
     "data": {
      "text/html": [
       "1"
      ],
      "text/latex": [
       "1"
      ],
      "text/markdown": [
       "1"
      ],
      "text/plain": [
       "[1] 1"
      ]
     },
     "metadata": {},
     "output_type": "display_data"
    }
   ],
   "source": [
    "length(pAdj)"
   ]
  },
  {
   "cell_type": "code",
   "execution_count": 8,
   "metadata": {},
   "outputs": [
    {
     "ename": "ERROR",
     "evalue": "Error in apply(nonzero_wMeta[, 8:ncol(nonzero_wMeta)], 2, function(x) tapply(x, : dim(X) must have a positive length\n",
     "output_type": "error",
     "traceback": [
      "Error in apply(nonzero_wMeta[, 8:ncol(nonzero_wMeta)], 2, function(x) tapply(x, : dim(X) must have a positive length\nTraceback:\n",
      "1. apply(nonzero_wMeta[, 8:ncol(nonzero_wMeta)], 2, function(x) tapply(x, \n .     nonzero_wMeta$Treatmentgroup, function(x) mean(x)))",
      "2. stop(\"dim(X) must have a positive length\")"
     ]
    }
   ],
   "source": [
    "avg<- apply(nonzero_wMeta[,8:ncol(nonzero_wMeta)], 2, function(x) tapply(x, nonzero_wMeta$Treatmentgroup, function(x) mean(x))) \n",
    "\n",
    "dim(avg)\n",
    "\n",
    "avg[,1:2]\n",
    "\n",
    "fch <- apply(avg, 2, function(x) x[1]/x[2])\n",
    "\n",
    "head(fch)\n",
    "is(fch)"
   ]
  },
  {
   "cell_type": "code",
   "execution_count": 9,
   "metadata": {
    "scrolled": true
   },
   "outputs": [
    {
     "ename": "ERROR",
     "evalue": "Error in eval(expr, envir, enclos): object 'fch' not found\n",
     "output_type": "error",
     "traceback": [
      "Error in eval(expr, envir, enclos): object 'fch' not found\nTraceback:\n"
     ]
    }
   ],
   "source": [
    "fch"
   ]
  },
  {
   "cell_type": "code",
   "execution_count": 10,
   "metadata": {
    "scrolled": false
   },
   "outputs": [],
   "source": [
    "df <- data.frame(pval, pAdj)\n",
    "write.csv(df, \"CAR-treat-LVT-wilcox-infected-combo.csv\")"
   ]
  },
  {
   "cell_type": "code",
   "execution_count": null,
   "metadata": {},
   "outputs": [],
   "source": []
  },
  {
   "cell_type": "code",
   "execution_count": null,
   "metadata": {},
   "outputs": [],
   "source": []
  },
  {
   "cell_type": "code",
   "execution_count": null,
   "metadata": {},
   "outputs": [],
   "source": []
  },
  {
   "cell_type": "code",
   "execution_count": null,
   "metadata": {},
   "outputs": [],
   "source": []
  },
  {
   "cell_type": "code",
   "execution_count": null,
   "metadata": {},
   "outputs": [],
   "source": []
  },
  {
   "cell_type": "code",
   "execution_count": null,
   "metadata": {},
   "outputs": [],
   "source": []
  }
 ],
 "metadata": {
  "kernelspec": {
   "display_name": "R",
   "language": "R",
   "name": "ir"
  },
  "language_info": {
   "codemirror_mode": "r",
   "file_extension": ".r",
   "mimetype": "text/x-r-source",
   "name": "R",
   "pygments_lexer": "r",
   "version": "3.6.1"
  }
 },
 "nbformat": 4,
 "nbformat_minor": 2
}
