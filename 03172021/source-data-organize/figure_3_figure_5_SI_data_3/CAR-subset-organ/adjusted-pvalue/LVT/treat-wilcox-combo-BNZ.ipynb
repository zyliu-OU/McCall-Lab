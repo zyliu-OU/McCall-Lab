{
 "cells": [
  {
   "cell_type": "code",
   "execution_count": 1,
   "metadata": {},
   "outputs": [],
   "source": [
    "a <- read.csv(\"03172021-CAR-treatment-LVT-M-F.csv\")"
   ]
  },
  {
   "cell_type": "code",
   "execution_count": 2,
   "metadata": {},
   "outputs": [
    {
     "data": {
      "text/html": [
       "<table>\n",
       "<thead><tr><th scope=col>filename</th><th scope=col>MouseID</th><th scope=col>Treatmentgroup</th><th scope=col>DPI</th><th scope=col>organ</th><th scope=col>well_position</th><th scope=col>plate</th><th scope=col>CAR_mid_chain</th><th scope=col>CAR_long_chain</th></tr></thead>\n",
       "<tbody>\n",
       "\t<tr><td>X511_Group1C_142dpi_LV_top_161_G_A1_P128.mzXML</td><td>511                                           </td><td>naive                                         </td><td>142                                           </td><td>LV_top                                        </td><td>A1                                            </td><td>P128                                          </td><td>0                                             </td><td>0.000085300                                   </td></tr>\n",
       "\t<tr><td>X512_Group1C_142dpi_LV_top_162_G_A2_P128.mzXML</td><td>512                                           </td><td>naive                                         </td><td>142                                           </td><td>LV_top                                        </td><td>A2                                            </td><td>P128                                          </td><td>0                                             </td><td>0.000000000                                   </td></tr>\n",
       "\t<tr><td>X513_Group1C_142dpi_LV_top_163_G_A3_P128.mzXML</td><td>513                                           </td><td>naive                                         </td><td>142                                           </td><td>LV_top                                        </td><td>A3                                            </td><td>P128                                          </td><td>0                                             </td><td>0.000632642                                   </td></tr>\n",
       "\t<tr><td>X514_Group1C_142dpi_LV_top_164_G_A4_P128.mzXML</td><td>514                                           </td><td>naive                                         </td><td>142                                           </td><td>LV_top                                        </td><td>A4                                            </td><td>P128                                          </td><td>0                                             </td><td>0.000000000                                   </td></tr>\n",
       "\t<tr><td>X515_Group1C_142dpi_LV_top_165_G_A5_P128.mzXML</td><td>515                                           </td><td>naive                                         </td><td>142                                           </td><td>LV_top                                        </td><td>A5                                            </td><td>P128                                          </td><td>0                                             </td><td>0.000149541                                   </td></tr>\n",
       "\t<tr><td>X531_Group1C_142dpi_LV_top_166_G_A6_P128.mzXML</td><td>531                                           </td><td>naive                                         </td><td>142                                           </td><td>LV_top                                        </td><td>A6                                            </td><td>P128                                          </td><td>0                                             </td><td>0.000478358                                   </td></tr>\n",
       "</tbody>\n",
       "</table>\n"
      ],
      "text/latex": [
       "\\begin{tabular}{r|lllllllll}\n",
       " filename & MouseID & Treatmentgroup & DPI & organ & well\\_position & plate & CAR\\_mid\\_chain & CAR\\_long\\_chain\\\\\n",
       "\\hline\n",
       "\t X511\\_Group1C\\_142dpi\\_LV\\_top\\_161\\_G\\_A1\\_P128.mzXML & 511                                                            & naive                                                          & 142                                                            & LV\\_top                                                       & A1                                                             & P128                                                           & 0                                                              & 0.000085300                                                   \\\\\n",
       "\t X512\\_Group1C\\_142dpi\\_LV\\_top\\_162\\_G\\_A2\\_P128.mzXML & 512                                                            & naive                                                          & 142                                                            & LV\\_top                                                       & A2                                                             & P128                                                           & 0                                                              & 0.000000000                                                   \\\\\n",
       "\t X513\\_Group1C\\_142dpi\\_LV\\_top\\_163\\_G\\_A3\\_P128.mzXML & 513                                                            & naive                                                          & 142                                                            & LV\\_top                                                       & A3                                                             & P128                                                           & 0                                                              & 0.000632642                                                   \\\\\n",
       "\t X514\\_Group1C\\_142dpi\\_LV\\_top\\_164\\_G\\_A4\\_P128.mzXML & 514                                                            & naive                                                          & 142                                                            & LV\\_top                                                       & A4                                                             & P128                                                           & 0                                                              & 0.000000000                                                   \\\\\n",
       "\t X515\\_Group1C\\_142dpi\\_LV\\_top\\_165\\_G\\_A5\\_P128.mzXML & 515                                                            & naive                                                          & 142                                                            & LV\\_top                                                       & A5                                                             & P128                                                           & 0                                                              & 0.000149541                                                   \\\\\n",
       "\t X531\\_Group1C\\_142dpi\\_LV\\_top\\_166\\_G\\_A6\\_P128.mzXML & 531                                                            & naive                                                          & 142                                                            & LV\\_top                                                       & A6                                                             & P128                                                           & 0                                                              & 0.000478358                                                   \\\\\n",
       "\\end{tabular}\n"
      ],
      "text/markdown": [
       "\n",
       "| filename | MouseID | Treatmentgroup | DPI | organ | well_position | plate | CAR_mid_chain | CAR_long_chain |\n",
       "|---|---|---|---|---|---|---|---|---|\n",
       "| X511_Group1C_142dpi_LV_top_161_G_A1_P128.mzXML | 511                                            | naive                                          | 142                                            | LV_top                                         | A1                                             | P128                                           | 0                                              | 0.000085300                                    |\n",
       "| X512_Group1C_142dpi_LV_top_162_G_A2_P128.mzXML | 512                                            | naive                                          | 142                                            | LV_top                                         | A2                                             | P128                                           | 0                                              | 0.000000000                                    |\n",
       "| X513_Group1C_142dpi_LV_top_163_G_A3_P128.mzXML | 513                                            | naive                                          | 142                                            | LV_top                                         | A3                                             | P128                                           | 0                                              | 0.000632642                                    |\n",
       "| X514_Group1C_142dpi_LV_top_164_G_A4_P128.mzXML | 514                                            | naive                                          | 142                                            | LV_top                                         | A4                                             | P128                                           | 0                                              | 0.000000000                                    |\n",
       "| X515_Group1C_142dpi_LV_top_165_G_A5_P128.mzXML | 515                                            | naive                                          | 142                                            | LV_top                                         | A5                                             | P128                                           | 0                                              | 0.000149541                                    |\n",
       "| X531_Group1C_142dpi_LV_top_166_G_A6_P128.mzXML | 531                                            | naive                                          | 142                                            | LV_top                                         | A6                                             | P128                                           | 0                                              | 0.000478358                                    |\n",
       "\n"
      ],
      "text/plain": [
       "  filename                                       MouseID Treatmentgroup DPI\n",
       "1 X511_Group1C_142dpi_LV_top_161_G_A1_P128.mzXML 511     naive          142\n",
       "2 X512_Group1C_142dpi_LV_top_162_G_A2_P128.mzXML 512     naive          142\n",
       "3 X513_Group1C_142dpi_LV_top_163_G_A3_P128.mzXML 513     naive          142\n",
       "4 X514_Group1C_142dpi_LV_top_164_G_A4_P128.mzXML 514     naive          142\n",
       "5 X515_Group1C_142dpi_LV_top_165_G_A5_P128.mzXML 515     naive          142\n",
       "6 X531_Group1C_142dpi_LV_top_166_G_A6_P128.mzXML 531     naive          142\n",
       "  organ  well_position plate CAR_mid_chain CAR_long_chain\n",
       "1 LV_top A1            P128  0             0.000085300   \n",
       "2 LV_top A2            P128  0             0.000000000   \n",
       "3 LV_top A3            P128  0             0.000632642   \n",
       "4 LV_top A4            P128  0             0.000000000   \n",
       "5 LV_top A5            P128  0             0.000149541   \n",
       "6 LV_top A6            P128  0             0.000478358   "
      ]
     },
     "metadata": {},
     "output_type": "display_data"
    },
    {
     "data": {
      "text/html": [
       "<ol class=list-inline>\n",
       "\t<li>60</li>\n",
       "\t<li>9</li>\n",
       "</ol>\n"
      ],
      "text/latex": [
       "\\begin{enumerate*}\n",
       "\\item 60\n",
       "\\item 9\n",
       "\\end{enumerate*}\n"
      ],
      "text/markdown": [
       "1. 60\n",
       "2. 9\n",
       "\n",
       "\n"
      ],
      "text/plain": [
       "[1] 60  9"
      ]
     },
     "metadata": {},
     "output_type": "display_data"
    }
   ],
   "source": [
    "head(a)\n",
    "dim(a)"
   ]
  },
  {
   "cell_type": "code",
   "execution_count": 3,
   "metadata": {},
   "outputs": [
    {
     "data": {
      "text/html": [
       "<table>\n",
       "<thead><tr><th></th><th scope=col>filename</th><th scope=col>MouseID</th><th scope=col>Treatmentgroup</th><th scope=col>DPI</th><th scope=col>organ</th><th scope=col>well_position</th><th scope=col>plate</th><th scope=col>CAR_mid_chain</th><th scope=col>CAR_long_chain</th></tr></thead>\n",
       "<tbody>\n",
       "\t<tr><th scope=row>21</th><td>X611_Group9_142dpi_LV_top_181_G_B9_P128.mzXML </td><td>611                                           </td><td>combo                                         </td><td>142                                           </td><td>LV_top                                        </td><td>B9                                            </td><td>P128                                          </td><td>0                                             </td><td>0.001795282                                   </td></tr>\n",
       "\t<tr><th scope=row>22</th><td>X612_Group9_142dpi_LV_top_182_G_B10_P128.mzXML</td><td>612                                           </td><td>combo                                         </td><td>142                                           </td><td>LV_top                                        </td><td>B10                                           </td><td>P128                                          </td><td>0                                             </td><td>0.000666932                                   </td></tr>\n",
       "\t<tr><th scope=row>23</th><td>X613_Group9_142dpi_LV_top_183_G_B11_P128.mzXML</td><td>613                                           </td><td>combo                                         </td><td>142                                           </td><td>LV_top                                        </td><td>B11                                           </td><td>P128                                          </td><td>0                                             </td><td>0.003324226                                   </td></tr>\n",
       "\t<tr><th scope=row>24</th><td>X614_Group9_142dpi_LV_top_184_G_B12_P128.mzXML</td><td>614                                           </td><td>combo                                         </td><td>142                                           </td><td>LV_top                                        </td><td>B12                                           </td><td>P128                                          </td><td>0                                             </td><td>0.001230555                                   </td></tr>\n",
       "\t<tr><th scope=row>25</th><td>X615_Group9_142dpi_LV_top_185_G_C1_P128.mzXML </td><td>615                                           </td><td>combo                                         </td><td>142                                           </td><td>LV_top                                        </td><td>C1                                            </td><td>P128                                          </td><td>0                                             </td><td>0.003122679                                   </td></tr>\n",
       "\t<tr><th scope=row>26</th><td>X631_Group15_142dpi_LV_top_191_G_C7_P128.mzXML</td><td>631                                           </td><td>BNZ                                           </td><td>142                                           </td><td>LV_top                                        </td><td>C7                                            </td><td>P128                                          </td><td>0                                             </td><td>0.000855722                                   </td></tr>\n",
       "</tbody>\n",
       "</table>\n"
      ],
      "text/latex": [
       "\\begin{tabular}{r|lllllllll}\n",
       "  & filename & MouseID & Treatmentgroup & DPI & organ & well\\_position & plate & CAR\\_mid\\_chain & CAR\\_long\\_chain\\\\\n",
       "\\hline\n",
       "\t21 & X611\\_Group9\\_142dpi\\_LV\\_top\\_181\\_G\\_B9\\_P128.mzXML  & 611                                                            & combo                                                          & 142                                                            & LV\\_top                                                       & B9                                                             & P128                                                           & 0                                                              & 0.001795282                                                   \\\\\n",
       "\t22 & X612\\_Group9\\_142dpi\\_LV\\_top\\_182\\_G\\_B10\\_P128.mzXML & 612                                                            & combo                                                          & 142                                                            & LV\\_top                                                       & B10                                                            & P128                                                           & 0                                                              & 0.000666932                                                   \\\\\n",
       "\t23 & X613\\_Group9\\_142dpi\\_LV\\_top\\_183\\_G\\_B11\\_P128.mzXML & 613                                                            & combo                                                          & 142                                                            & LV\\_top                                                       & B11                                                            & P128                                                           & 0                                                              & 0.003324226                                                   \\\\\n",
       "\t24 & X614\\_Group9\\_142dpi\\_LV\\_top\\_184\\_G\\_B12\\_P128.mzXML & 614                                                            & combo                                                          & 142                                                            & LV\\_top                                                       & B12                                                            & P128                                                           & 0                                                              & 0.001230555                                                   \\\\\n",
       "\t25 & X615\\_Group9\\_142dpi\\_LV\\_top\\_185\\_G\\_C1\\_P128.mzXML  & 615                                                            & combo                                                          & 142                                                            & LV\\_top                                                       & C1                                                             & P128                                                           & 0                                                              & 0.003122679                                                   \\\\\n",
       "\t26 & X631\\_Group15\\_142dpi\\_LV\\_top\\_191\\_G\\_C7\\_P128.mzXML & 631                                                            & BNZ                                                            & 142                                                            & LV\\_top                                                       & C7                                                             & P128                                                           & 0                                                              & 0.000855722                                                   \\\\\n",
       "\\end{tabular}\n"
      ],
      "text/markdown": [
       "\n",
       "| <!--/--> | filename | MouseID | Treatmentgroup | DPI | organ | well_position | plate | CAR_mid_chain | CAR_long_chain |\n",
       "|---|---|---|---|---|---|---|---|---|---|\n",
       "| 21 | X611_Group9_142dpi_LV_top_181_G_B9_P128.mzXML  | 611                                            | combo                                          | 142                                            | LV_top                                         | B9                                             | P128                                           | 0                                              | 0.001795282                                    |\n",
       "| 22 | X612_Group9_142dpi_LV_top_182_G_B10_P128.mzXML | 612                                            | combo                                          | 142                                            | LV_top                                         | B10                                            | P128                                           | 0                                              | 0.000666932                                    |\n",
       "| 23 | X613_Group9_142dpi_LV_top_183_G_B11_P128.mzXML | 613                                            | combo                                          | 142                                            | LV_top                                         | B11                                            | P128                                           | 0                                              | 0.003324226                                    |\n",
       "| 24 | X614_Group9_142dpi_LV_top_184_G_B12_P128.mzXML | 614                                            | combo                                          | 142                                            | LV_top                                         | B12                                            | P128                                           | 0                                              | 0.001230555                                    |\n",
       "| 25 | X615_Group9_142dpi_LV_top_185_G_C1_P128.mzXML  | 615                                            | combo                                          | 142                                            | LV_top                                         | C1                                             | P128                                           | 0                                              | 0.003122679                                    |\n",
       "| 26 | X631_Group15_142dpi_LV_top_191_G_C7_P128.mzXML | 631                                            | BNZ                                            | 142                                            | LV_top                                         | C7                                             | P128                                           | 0                                              | 0.000855722                                    |\n",
       "\n"
      ],
      "text/plain": [
       "   filename                                       MouseID Treatmentgroup DPI\n",
       "21 X611_Group9_142dpi_LV_top_181_G_B9_P128.mzXML  611     combo          142\n",
       "22 X612_Group9_142dpi_LV_top_182_G_B10_P128.mzXML 612     combo          142\n",
       "23 X613_Group9_142dpi_LV_top_183_G_B11_P128.mzXML 613     combo          142\n",
       "24 X614_Group9_142dpi_LV_top_184_G_B12_P128.mzXML 614     combo          142\n",
       "25 X615_Group9_142dpi_LV_top_185_G_C1_P128.mzXML  615     combo          142\n",
       "26 X631_Group15_142dpi_LV_top_191_G_C7_P128.mzXML 631     BNZ            142\n",
       "   organ  well_position plate CAR_mid_chain CAR_long_chain\n",
       "21 LV_top B9            P128  0             0.001795282   \n",
       "22 LV_top B10           P128  0             0.000666932   \n",
       "23 LV_top B11           P128  0             0.003324226   \n",
       "24 LV_top B12           P128  0             0.001230555   \n",
       "25 LV_top C1            P128  0             0.003122679   \n",
       "26 LV_top C7            P128  0             0.000855722   "
      ]
     },
     "metadata": {},
     "output_type": "display_data"
    },
    {
     "data": {
      "text/html": [
       "<ol class=list-inline>\n",
       "\t<li>30</li>\n",
       "\t<li>9</li>\n",
       "</ol>\n"
      ],
      "text/latex": [
       "\\begin{enumerate*}\n",
       "\\item 30\n",
       "\\item 9\n",
       "\\end{enumerate*}\n"
      ],
      "text/markdown": [
       "1. 30\n",
       "2. 9\n",
       "\n",
       "\n"
      ],
      "text/plain": [
       "[1] 30  9"
      ]
     },
     "metadata": {},
     "output_type": "display_data"
    }
   ],
   "source": [
    "features_pos<-droplevels(subset(a, a$Treatmentgroup==c(\"combo\")|a$Treatmentgroup==c(\"BNZ\")))\n",
    "head(features_pos)\n",
    "dim(features_pos)"
   ]
  },
  {
   "cell_type": "code",
   "execution_count": 4,
   "metadata": {
    "scrolled": false
   },
   "outputs": [
    {
     "data": {
      "text/html": [
       "<table>\n",
       "<thead><tr><th></th><th scope=col>CAR_mid_chain</th><th scope=col>CAR_long_chain</th></tr></thead>\n",
       "<tbody>\n",
       "\t<tr><th scope=row>21</th><td>0          </td><td>0.001795282</td></tr>\n",
       "\t<tr><th scope=row>22</th><td>0          </td><td>0.000666932</td></tr>\n",
       "\t<tr><th scope=row>23</th><td>0          </td><td>0.003324226</td></tr>\n",
       "\t<tr><th scope=row>24</th><td>0          </td><td>0.001230555</td></tr>\n",
       "\t<tr><th scope=row>25</th><td>0          </td><td>0.003122679</td></tr>\n",
       "\t<tr><th scope=row>26</th><td>0          </td><td>0.000855722</td></tr>\n",
       "</tbody>\n",
       "</table>\n"
      ],
      "text/latex": [
       "\\begin{tabular}{r|ll}\n",
       "  & CAR\\_mid\\_chain & CAR\\_long\\_chain\\\\\n",
       "\\hline\n",
       "\t21 & 0           & 0.001795282\\\\\n",
       "\t22 & 0           & 0.000666932\\\\\n",
       "\t23 & 0           & 0.003324226\\\\\n",
       "\t24 & 0           & 0.001230555\\\\\n",
       "\t25 & 0           & 0.003122679\\\\\n",
       "\t26 & 0           & 0.000855722\\\\\n",
       "\\end{tabular}\n"
      ],
      "text/markdown": [
       "\n",
       "| <!--/--> | CAR_mid_chain | CAR_long_chain |\n",
       "|---|---|---|\n",
       "| 21 | 0           | 0.001795282 |\n",
       "| 22 | 0           | 0.000666932 |\n",
       "| 23 | 0           | 0.003324226 |\n",
       "| 24 | 0           | 0.001230555 |\n",
       "| 25 | 0           | 0.003122679 |\n",
       "| 26 | 0           | 0.000855722 |\n",
       "\n"
      ],
      "text/plain": [
       "   CAR_mid_chain CAR_long_chain\n",
       "21 0             0.001795282   \n",
       "22 0             0.000666932   \n",
       "23 0             0.003324226   \n",
       "24 0             0.001230555   \n",
       "25 0             0.003122679   \n",
       "26 0             0.000855722   "
      ]
     },
     "metadata": {},
     "output_type": "display_data"
    },
    {
     "data": {
      "text/html": [
       "<strong>CAR_long_chain:</strong> 2"
      ],
      "text/latex": [
       "\\textbf{CAR\\textbackslash{}\\_long\\textbackslash{}\\_chain:} 2"
      ],
      "text/markdown": [
       "**CAR_long_chain:** 2"
      ],
      "text/plain": [
       "CAR_long_chain \n",
       "             2 "
      ]
     },
     "metadata": {},
     "output_type": "display_data"
    },
    {
     "data": {
      "text/html": [
       "<ol class=list-inline>\n",
       "\t<li>0.001795282</li>\n",
       "\t<li>0.000666932</li>\n",
       "\t<li>0.003324226</li>\n",
       "\t<li>0.001230555</li>\n",
       "\t<li>0.003122679</li>\n",
       "\t<li>0.000855722</li>\n",
       "\t<li>0.000329622</li>\n",
       "\t<li>0.001734099</li>\n",
       "\t<li>0.002007866</li>\n",
       "\t<li>0.000280083</li>\n",
       "\t<li>0.001844122</li>\n",
       "\t<li>0.001542566</li>\n",
       "\t<li>0.000517916</li>\n",
       "\t<li>0.003214833</li>\n",
       "\t<li>0.003172825</li>\n",
       "\t<li>0.000815293</li>\n",
       "\t<li>6.22e-05</li>\n",
       "\t<li>4.89e-05</li>\n",
       "\t<li>0.000333439</li>\n",
       "\t<li>0.000426908</li>\n",
       "\t<li>0.000266871</li>\n",
       "\t<li>0.001598721</li>\n",
       "\t<li>0.001832101</li>\n",
       "\t<li>0.001089731</li>\n",
       "\t<li>0.002162578</li>\n",
       "\t<li>0.0001236</li>\n",
       "\t<li>0.000443898</li>\n",
       "\t<li>0.000486743</li>\n",
       "\t<li>0.000282587</li>\n",
       "\t<li>0.001412917</li>\n",
       "</ol>\n"
      ],
      "text/latex": [
       "\\begin{enumerate*}\n",
       "\\item 0.001795282\n",
       "\\item 0.000666932\n",
       "\\item 0.003324226\n",
       "\\item 0.001230555\n",
       "\\item 0.003122679\n",
       "\\item 0.000855722\n",
       "\\item 0.000329622\n",
       "\\item 0.001734099\n",
       "\\item 0.002007866\n",
       "\\item 0.000280083\n",
       "\\item 0.001844122\n",
       "\\item 0.001542566\n",
       "\\item 0.000517916\n",
       "\\item 0.003214833\n",
       "\\item 0.003172825\n",
       "\\item 0.000815293\n",
       "\\item 6.22e-05\n",
       "\\item 4.89e-05\n",
       "\\item 0.000333439\n",
       "\\item 0.000426908\n",
       "\\item 0.000266871\n",
       "\\item 0.001598721\n",
       "\\item 0.001832101\n",
       "\\item 0.001089731\n",
       "\\item 0.002162578\n",
       "\\item 0.0001236\n",
       "\\item 0.000443898\n",
       "\\item 0.000486743\n",
       "\\item 0.000282587\n",
       "\\item 0.001412917\n",
       "\\end{enumerate*}\n"
      ],
      "text/markdown": [
       "1. 0.001795282\n",
       "2. 0.000666932\n",
       "3. 0.003324226\n",
       "4. 0.001230555\n",
       "5. 0.003122679\n",
       "6. 0.000855722\n",
       "7. 0.000329622\n",
       "8. 0.001734099\n",
       "9. 0.002007866\n",
       "10. 0.000280083\n",
       "11. 0.001844122\n",
       "12. 0.001542566\n",
       "13. 0.000517916\n",
       "14. 0.003214833\n",
       "15. 0.003172825\n",
       "16. 0.000815293\n",
       "17. 6.22e-05\n",
       "18. 4.89e-05\n",
       "19. 0.000333439\n",
       "20. 0.000426908\n",
       "21. 0.000266871\n",
       "22. 0.001598721\n",
       "23. 0.001832101\n",
       "24. 0.001089731\n",
       "25. 0.002162578\n",
       "26. 0.0001236\n",
       "27. 0.000443898\n",
       "28. 0.000486743\n",
       "29. 0.000282587\n",
       "30. 0.001412917\n",
       "\n",
       "\n"
      ],
      "text/plain": [
       " [1] 0.001795282 0.000666932 0.003324226 0.001230555 0.003122679 0.000855722\n",
       " [7] 0.000329622 0.001734099 0.002007866 0.000280083 0.001844122 0.001542566\n",
       "[13] 0.000517916 0.003214833 0.003172825 0.000815293 0.000062200 0.000048900\n",
       "[19] 0.000333439 0.000426908 0.000266871 0.001598721 0.001832101 0.001089731\n",
       "[25] 0.002162578 0.000123600 0.000443898 0.000486743 0.000282587 0.001412917"
      ]
     },
     "metadata": {},
     "output_type": "display_data"
    },
    {
     "data": {
      "text/html": [
       "<table>\n",
       "<thead><tr><th></th><th scope=col>filename</th><th scope=col>MouseID</th><th scope=col>Treatmentgroup</th><th scope=col>DPI</th><th scope=col>organ</th><th scope=col>well_position</th><th scope=col>plate</th><th scope=col>nonzero</th></tr></thead>\n",
       "<tbody>\n",
       "\t<tr><th scope=row>21</th><td>X611_Group9_142dpi_LV_top_181_G_B9_P128.mzXML </td><td>611                                           </td><td>combo                                         </td><td>142                                           </td><td>LV_top                                        </td><td>B9                                            </td><td>P128                                          </td><td>0.001795282                                   </td></tr>\n",
       "\t<tr><th scope=row>22</th><td>X612_Group9_142dpi_LV_top_182_G_B10_P128.mzXML</td><td>612                                           </td><td>combo                                         </td><td>142                                           </td><td>LV_top                                        </td><td>B10                                           </td><td>P128                                          </td><td>0.000666932                                   </td></tr>\n",
       "\t<tr><th scope=row>23</th><td>X613_Group9_142dpi_LV_top_183_G_B11_P128.mzXML</td><td>613                                           </td><td>combo                                         </td><td>142                                           </td><td>LV_top                                        </td><td>B11                                           </td><td>P128                                          </td><td>0.003324226                                   </td></tr>\n",
       "\t<tr><th scope=row>24</th><td>X614_Group9_142dpi_LV_top_184_G_B12_P128.mzXML</td><td>614                                           </td><td>combo                                         </td><td>142                                           </td><td>LV_top                                        </td><td>B12                                           </td><td>P128                                          </td><td>0.001230555                                   </td></tr>\n",
       "\t<tr><th scope=row>25</th><td>X615_Group9_142dpi_LV_top_185_G_C1_P128.mzXML </td><td>615                                           </td><td>combo                                         </td><td>142                                           </td><td>LV_top                                        </td><td>C1                                            </td><td>P128                                          </td><td>0.003122679                                   </td></tr>\n",
       "\t<tr><th scope=row>26</th><td>X631_Group15_142dpi_LV_top_191_G_C7_P128.mzXML</td><td>631                                           </td><td>BNZ                                           </td><td>142                                           </td><td>LV_top                                        </td><td>C7                                            </td><td>P128                                          </td><td>0.000855722                                   </td></tr>\n",
       "</tbody>\n",
       "</table>\n"
      ],
      "text/latex": [
       "\\begin{tabular}{r|llllllll}\n",
       "  & filename & MouseID & Treatmentgroup & DPI & organ & well\\_position & plate & nonzero\\\\\n",
       "\\hline\n",
       "\t21 & X611\\_Group9\\_142dpi\\_LV\\_top\\_181\\_G\\_B9\\_P128.mzXML  & 611                                                            & combo                                                          & 142                                                            & LV\\_top                                                       & B9                                                             & P128                                                           & 0.001795282                                                   \\\\\n",
       "\t22 & X612\\_Group9\\_142dpi\\_LV\\_top\\_182\\_G\\_B10\\_P128.mzXML & 612                                                            & combo                                                          & 142                                                            & LV\\_top                                                       & B10                                                            & P128                                                           & 0.000666932                                                   \\\\\n",
       "\t23 & X613\\_Group9\\_142dpi\\_LV\\_top\\_183\\_G\\_B11\\_P128.mzXML & 613                                                            & combo                                                          & 142                                                            & LV\\_top                                                       & B11                                                            & P128                                                           & 0.003324226                                                   \\\\\n",
       "\t24 & X614\\_Group9\\_142dpi\\_LV\\_top\\_184\\_G\\_B12\\_P128.mzXML & 614                                                            & combo                                                          & 142                                                            & LV\\_top                                                       & B12                                                            & P128                                                           & 0.001230555                                                   \\\\\n",
       "\t25 & X615\\_Group9\\_142dpi\\_LV\\_top\\_185\\_G\\_C1\\_P128.mzXML  & 615                                                            & combo                                                          & 142                                                            & LV\\_top                                                       & C1                                                             & P128                                                           & 0.003122679                                                   \\\\\n",
       "\t26 & X631\\_Group15\\_142dpi\\_LV\\_top\\_191\\_G\\_C7\\_P128.mzXML & 631                                                            & BNZ                                                            & 142                                                            & LV\\_top                                                       & C7                                                             & P128                                                           & 0.000855722                                                   \\\\\n",
       "\\end{tabular}\n"
      ],
      "text/markdown": [
       "\n",
       "| <!--/--> | filename | MouseID | Treatmentgroup | DPI | organ | well_position | plate | nonzero |\n",
       "|---|---|---|---|---|---|---|---|---|\n",
       "| 21 | X611_Group9_142dpi_LV_top_181_G_B9_P128.mzXML  | 611                                            | combo                                          | 142                                            | LV_top                                         | B9                                             | P128                                           | 0.001795282                                    |\n",
       "| 22 | X612_Group9_142dpi_LV_top_182_G_B10_P128.mzXML | 612                                            | combo                                          | 142                                            | LV_top                                         | B10                                            | P128                                           | 0.000666932                                    |\n",
       "| 23 | X613_Group9_142dpi_LV_top_183_G_B11_P128.mzXML | 613                                            | combo                                          | 142                                            | LV_top                                         | B11                                            | P128                                           | 0.003324226                                    |\n",
       "| 24 | X614_Group9_142dpi_LV_top_184_G_B12_P128.mzXML | 614                                            | combo                                          | 142                                            | LV_top                                         | B12                                            | P128                                           | 0.001230555                                    |\n",
       "| 25 | X615_Group9_142dpi_LV_top_185_G_C1_P128.mzXML  | 615                                            | combo                                          | 142                                            | LV_top                                         | C1                                             | P128                                           | 0.003122679                                    |\n",
       "| 26 | X631_Group15_142dpi_LV_top_191_G_C7_P128.mzXML | 631                                            | BNZ                                            | 142                                            | LV_top                                         | C7                                             | P128                                           | 0.000855722                                    |\n",
       "\n"
      ],
      "text/plain": [
       "   filename                                       MouseID Treatmentgroup DPI\n",
       "21 X611_Group9_142dpi_LV_top_181_G_B9_P128.mzXML  611     combo          142\n",
       "22 X612_Group9_142dpi_LV_top_182_G_B10_P128.mzXML 612     combo          142\n",
       "23 X613_Group9_142dpi_LV_top_183_G_B11_P128.mzXML 613     combo          142\n",
       "24 X614_Group9_142dpi_LV_top_184_G_B12_P128.mzXML 614     combo          142\n",
       "25 X615_Group9_142dpi_LV_top_185_G_C1_P128.mzXML  615     combo          142\n",
       "26 X631_Group15_142dpi_LV_top_191_G_C7_P128.mzXML 631     BNZ            142\n",
       "   organ  well_position plate nonzero    \n",
       "21 LV_top B9            P128  0.001795282\n",
       "22 LV_top B10           P128  0.000666932\n",
       "23 LV_top B11           P128  0.003324226\n",
       "24 LV_top B12           P128  0.001230555\n",
       "25 LV_top C1            P128  0.003122679\n",
       "26 LV_top C7            P128  0.000855722"
      ]
     },
     "metadata": {},
     "output_type": "display_data"
    },
    {
     "data": {
      "text/html": [
       "<ol class=list-inline>\n",
       "\t<li>30</li>\n",
       "\t<li>9</li>\n",
       "</ol>\n"
      ],
      "text/latex": [
       "\\begin{enumerate*}\n",
       "\\item 30\n",
       "\\item 9\n",
       "\\end{enumerate*}\n"
      ],
      "text/markdown": [
       "1. 30\n",
       "2. 9\n",
       "\n",
       "\n"
      ],
      "text/plain": [
       "[1] 30  9"
      ]
     },
     "metadata": {},
     "output_type": "display_data"
    },
    {
     "data": {
      "text/html": [
       "<ol class=list-inline>\n",
       "\t<li>30</li>\n",
       "\t<li>2</li>\n",
       "</ol>\n"
      ],
      "text/latex": [
       "\\begin{enumerate*}\n",
       "\\item 30\n",
       "\\item 2\n",
       "\\end{enumerate*}\n"
      ],
      "text/markdown": [
       "1. 30\n",
       "2. 2\n",
       "\n",
       "\n"
      ],
      "text/plain": [
       "[1] 30  2"
      ]
     },
     "metadata": {},
     "output_type": "display_data"
    },
    {
     "data": {
      "text/plain": [
       "NULL"
      ]
     },
     "metadata": {},
     "output_type": "display_data"
    },
    {
     "data": {
      "text/html": [
       "<ol class=list-inline>\n",
       "\t<li>30</li>\n",
       "\t<li>8</li>\n",
       "</ol>\n"
      ],
      "text/latex": [
       "\\begin{enumerate*}\n",
       "\\item 30\n",
       "\\item 8\n",
       "\\end{enumerate*}\n"
      ],
      "text/markdown": [
       "1. 30\n",
       "2. 8\n",
       "\n",
       "\n"
      ],
      "text/plain": [
       "[1] 30  8"
      ]
     },
     "metadata": {},
     "output_type": "display_data"
    }
   ],
   "source": [
    "noMeta<-features_pos[,8:9]\n",
    "head(noMeta)\n",
    "not_zero<-which(colSums(noMeta) != 0)\n",
    "head(not_zero)\n",
    "nonzero <- noMeta[, not_zero]\n",
    "nonzero\n",
    "nonzero_wMeta<-cbind(features_pos[,1:7], nonzero)\n",
    "head(nonzero_wMeta)\n",
    "dim(features_pos)\n",
    "dim(noMeta)\n",
    "dim(nonzero)\n",
    "dim(nonzero_wMeta)"
   ]
  },
  {
   "cell_type": "code",
   "execution_count": 5,
   "metadata": {
    "scrolled": true
   },
   "outputs": [
    {
     "data": {
      "text/html": [
       "0.000834090178852782"
      ],
      "text/latex": [
       "0.000834090178852782"
      ],
      "text/markdown": [
       "0.000834090178852782"
      ],
      "text/plain": [
       "[1] 0.0008340902"
      ]
     },
     "metadata": {},
     "output_type": "display_data"
    },
    {
     "data": {
      "text/html": [
       "0.000834090178852782"
      ],
      "text/latex": [
       "0.000834090178852782"
      ],
      "text/markdown": [
       "0.000834090178852782"
      ],
      "text/plain": [
       "[1] 0.0008340902"
      ]
     },
     "metadata": {},
     "output_type": "display_data"
    }
   ],
   "source": [
    "pval<-c()\n",
    "\n",
    "for (i in 8:ncol(nonzero_wMeta)) \n",
    "pval<-c(pval,wilcox.test(nonzero_wMeta[,i]~nonzero_wMeta$Treatmentgroup)$p.value)\n",
    "head(pval) \n",
    "pAdj <- p.adjust(pval, method = c(\"fdr\"), n=length(pval)) \n",
    "head(pAdj) \n",
    "\n"
   ]
  },
  {
   "cell_type": "code",
   "execution_count": 6,
   "metadata": {
    "scrolled": true
   },
   "outputs": [
    {
     "data": {
      "text/html": [
       "1"
      ],
      "text/latex": [
       "1"
      ],
      "text/markdown": [
       "1"
      ],
      "text/plain": [
       "[1] 1"
      ]
     },
     "metadata": {},
     "output_type": "display_data"
    }
   ],
   "source": [
    "length(pval)"
   ]
  },
  {
   "cell_type": "code",
   "execution_count": 7,
   "metadata": {
    "scrolled": true
   },
   "outputs": [
    {
     "data": {
      "text/html": [
       "1"
      ],
      "text/latex": [
       "1"
      ],
      "text/markdown": [
       "1"
      ],
      "text/plain": [
       "[1] 1"
      ]
     },
     "metadata": {},
     "output_type": "display_data"
    }
   ],
   "source": [
    "length(pAdj)"
   ]
  },
  {
   "cell_type": "code",
   "execution_count": 8,
   "metadata": {},
   "outputs": [
    {
     "ename": "ERROR",
     "evalue": "Error in apply(nonzero_wMeta[, 8:ncol(nonzero_wMeta)], 2, function(x) tapply(x, : dim(X) must have a positive length\n",
     "output_type": "error",
     "traceback": [
      "Error in apply(nonzero_wMeta[, 8:ncol(nonzero_wMeta)], 2, function(x) tapply(x, : dim(X) must have a positive length\nTraceback:\n",
      "1. apply(nonzero_wMeta[, 8:ncol(nonzero_wMeta)], 2, function(x) tapply(x, \n .     nonzero_wMeta$Treatmentgroup, function(x) mean(x)))",
      "2. stop(\"dim(X) must have a positive length\")"
     ]
    }
   ],
   "source": [
    "avg<- apply(nonzero_wMeta[,8:ncol(nonzero_wMeta)], 2, function(x) tapply(x, nonzero_wMeta$Treatmentgroup, function(x) mean(x))) \n",
    "\n",
    "dim(avg)\n",
    "\n",
    "avg[,1:2]\n",
    "\n",
    "fch <- apply(avg, 2, function(x) x[1]/x[2])\n",
    "\n",
    "head(fch)\n",
    "is(fch)"
   ]
  },
  {
   "cell_type": "code",
   "execution_count": 9,
   "metadata": {
    "scrolled": true
   },
   "outputs": [
    {
     "ename": "ERROR",
     "evalue": "Error in eval(expr, envir, enclos): object 'fch' not found\n",
     "output_type": "error",
     "traceback": [
      "Error in eval(expr, envir, enclos): object 'fch' not found\nTraceback:\n"
     ]
    }
   ],
   "source": [
    "fch"
   ]
  },
  {
   "cell_type": "code",
   "execution_count": 10,
   "metadata": {
    "scrolled": false
   },
   "outputs": [],
   "source": [
    "df <- data.frame(pval, pAdj)\n",
    "write.csv(df, \"CAR-treat-LVT-wilcox-combo-BNZ.csv\")"
   ]
  },
  {
   "cell_type": "code",
   "execution_count": null,
   "metadata": {},
   "outputs": [],
   "source": []
  },
  {
   "cell_type": "code",
   "execution_count": null,
   "metadata": {},
   "outputs": [],
   "source": []
  },
  {
   "cell_type": "code",
   "execution_count": null,
   "metadata": {},
   "outputs": [],
   "source": []
  },
  {
   "cell_type": "code",
   "execution_count": null,
   "metadata": {},
   "outputs": [],
   "source": []
  },
  {
   "cell_type": "code",
   "execution_count": null,
   "metadata": {},
   "outputs": [],
   "source": []
  },
  {
   "cell_type": "code",
   "execution_count": null,
   "metadata": {},
   "outputs": [],
   "source": []
  }
 ],
 "metadata": {
  "kernelspec": {
   "display_name": "R",
   "language": "R",
   "name": "ir"
  },
  "language_info": {
   "codemirror_mode": "r",
   "file_extension": ".r",
   "mimetype": "text/x-r-source",
   "name": "R",
   "pygments_lexer": "r",
   "version": "3.6.1"
  }
 },
 "nbformat": 4,
 "nbformat_minor": 2
}
