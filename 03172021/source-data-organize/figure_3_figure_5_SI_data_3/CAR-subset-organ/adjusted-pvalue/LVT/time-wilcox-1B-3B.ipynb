{
 "cells": [
  {
   "cell_type": "code",
   "execution_count": 1,
   "metadata": {},
   "outputs": [],
   "source": [
    "a <- read.csv(\"03172021-CAR-time-LVT-M-F.csv\")"
   ]
  },
  {
   "cell_type": "code",
   "execution_count": 2,
   "metadata": {},
   "outputs": [
    {
     "data": {
      "text/html": [
       "<table>\n",
       "<thead><tr><th scope=col>filename</th><th scope=col>MouseID</th><th scope=col>Treatmentgroup</th><th scope=col>status</th><th scope=col>DPI</th><th scope=col>organ</th><th scope=col>well_position</th><th scope=col>plate</th><th scope=col>CAR_mid_chain</th><th scope=col>CAR_long_chain</th></tr></thead>\n",
       "<tbody>\n",
       "\t<tr><td>X501_Group1A_50dpi_LV_top_251_B_A1_P129.mzXML</td><td>501                                          </td><td>Group1A                                      </td><td>naive                                        </td><td>DPI_50                                       </td><td>LV_top                                       </td><td>A1                                           </td><td>P129                                         </td><td>0                                            </td><td>0.001364371                                  </td></tr>\n",
       "\t<tr><td>X502_Group1A_50dpi_LV_top_252_B_A2_P129.mzXML</td><td>502                                          </td><td>Group1A                                      </td><td>naive                                        </td><td>DPI_50                                       </td><td>LV_top                                       </td><td>A2                                           </td><td>P129                                         </td><td>0                                            </td><td>0.000359177                                  </td></tr>\n",
       "\t<tr><td>X503_Group1A_50dpi_LV_top_253_B_A3_P129.mzXML</td><td>503                                          </td><td>Group1A                                      </td><td>naive                                        </td><td>DPI_50                                       </td><td>LV_top                                       </td><td>A3                                           </td><td>P129                                         </td><td>0                                            </td><td>0.000934255                                  </td></tr>\n",
       "\t<tr><td>X504_Group1A_50dpi_LV_top_254_B_A4_P129.mzXML</td><td>504                                          </td><td>Group1A                                      </td><td>naive                                        </td><td>DPI_50                                       </td><td>LV_top                                       </td><td>A4                                           </td><td>P129                                         </td><td>0                                            </td><td>0.000335982                                  </td></tr>\n",
       "\t<tr><td>X505_Group1A_50dpi_LV_top_255_B_A5_P129.mzXML</td><td>505                                          </td><td>Group1A                                      </td><td>naive                                        </td><td>DPI_50                                       </td><td>LV_top                                       </td><td>A5                                           </td><td>P129                                         </td><td>0                                            </td><td>0.000662891                                  </td></tr>\n",
       "\t<tr><td>X521_Group1A_50dpi_LV_top_256_B_A6_P129.mzXML</td><td>521                                          </td><td>Group1A                                      </td><td>naive                                        </td><td>DPI_50                                       </td><td>LV_top                                       </td><td>A6                                           </td><td>P129                                         </td><td>0                                            </td><td>0.001401562                                  </td></tr>\n",
       "</tbody>\n",
       "</table>\n"
      ],
      "text/latex": [
       "\\begin{tabular}{r|llllllllll}\n",
       " filename & MouseID & Treatmentgroup & status & DPI & organ & well\\_position & plate & CAR\\_mid\\_chain & CAR\\_long\\_chain\\\\\n",
       "\\hline\n",
       "\t X501\\_Group1A\\_50dpi\\_LV\\_top\\_251\\_B\\_A1\\_P129.mzXML & 501                                                           & Group1A                                                       & naive                                                         & DPI\\_50                                                      & LV\\_top                                                      & A1                                                            & P129                                                          & 0                                                             & 0.001364371                                                  \\\\\n",
       "\t X502\\_Group1A\\_50dpi\\_LV\\_top\\_252\\_B\\_A2\\_P129.mzXML & 502                                                           & Group1A                                                       & naive                                                         & DPI\\_50                                                      & LV\\_top                                                      & A2                                                            & P129                                                          & 0                                                             & 0.000359177                                                  \\\\\n",
       "\t X503\\_Group1A\\_50dpi\\_LV\\_top\\_253\\_B\\_A3\\_P129.mzXML & 503                                                           & Group1A                                                       & naive                                                         & DPI\\_50                                                      & LV\\_top                                                      & A3                                                            & P129                                                          & 0                                                             & 0.000934255                                                  \\\\\n",
       "\t X504\\_Group1A\\_50dpi\\_LV\\_top\\_254\\_B\\_A4\\_P129.mzXML & 504                                                           & Group1A                                                       & naive                                                         & DPI\\_50                                                      & LV\\_top                                                      & A4                                                            & P129                                                          & 0                                                             & 0.000335982                                                  \\\\\n",
       "\t X505\\_Group1A\\_50dpi\\_LV\\_top\\_255\\_B\\_A5\\_P129.mzXML & 505                                                           & Group1A                                                       & naive                                                         & DPI\\_50                                                      & LV\\_top                                                      & A5                                                            & P129                                                          & 0                                                             & 0.000662891                                                  \\\\\n",
       "\t X521\\_Group1A\\_50dpi\\_LV\\_top\\_256\\_B\\_A6\\_P129.mzXML & 521                                                           & Group1A                                                       & naive                                                         & DPI\\_50                                                      & LV\\_top                                                      & A6                                                            & P129                                                          & 0                                                             & 0.001401562                                                  \\\\\n",
       "\\end{tabular}\n"
      ],
      "text/markdown": [
       "\n",
       "| filename | MouseID | Treatmentgroup | status | DPI | organ | well_position | plate | CAR_mid_chain | CAR_long_chain |\n",
       "|---|---|---|---|---|---|---|---|---|---|\n",
       "| X501_Group1A_50dpi_LV_top_251_B_A1_P129.mzXML | 501                                           | Group1A                                       | naive                                         | DPI_50                                        | LV_top                                        | A1                                            | P129                                          | 0                                             | 0.001364371                                   |\n",
       "| X502_Group1A_50dpi_LV_top_252_B_A2_P129.mzXML | 502                                           | Group1A                                       | naive                                         | DPI_50                                        | LV_top                                        | A2                                            | P129                                          | 0                                             | 0.000359177                                   |\n",
       "| X503_Group1A_50dpi_LV_top_253_B_A3_P129.mzXML | 503                                           | Group1A                                       | naive                                         | DPI_50                                        | LV_top                                        | A3                                            | P129                                          | 0                                             | 0.000934255                                   |\n",
       "| X504_Group1A_50dpi_LV_top_254_B_A4_P129.mzXML | 504                                           | Group1A                                       | naive                                         | DPI_50                                        | LV_top                                        | A4                                            | P129                                          | 0                                             | 0.000335982                                   |\n",
       "| X505_Group1A_50dpi_LV_top_255_B_A5_P129.mzXML | 505                                           | Group1A                                       | naive                                         | DPI_50                                        | LV_top                                        | A5                                            | P129                                          | 0                                             | 0.000662891                                   |\n",
       "| X521_Group1A_50dpi_LV_top_256_B_A6_P129.mzXML | 521                                           | Group1A                                       | naive                                         | DPI_50                                        | LV_top                                        | A6                                            | P129                                          | 0                                             | 0.001401562                                   |\n",
       "\n"
      ],
      "text/plain": [
       "  filename                                      MouseID Treatmentgroup status\n",
       "1 X501_Group1A_50dpi_LV_top_251_B_A1_P129.mzXML 501     Group1A        naive \n",
       "2 X502_Group1A_50dpi_LV_top_252_B_A2_P129.mzXML 502     Group1A        naive \n",
       "3 X503_Group1A_50dpi_LV_top_253_B_A3_P129.mzXML 503     Group1A        naive \n",
       "4 X504_Group1A_50dpi_LV_top_254_B_A4_P129.mzXML 504     Group1A        naive \n",
       "5 X505_Group1A_50dpi_LV_top_255_B_A5_P129.mzXML 505     Group1A        naive \n",
       "6 X521_Group1A_50dpi_LV_top_256_B_A6_P129.mzXML 521     Group1A        naive \n",
       "  DPI    organ  well_position plate CAR_mid_chain CAR_long_chain\n",
       "1 DPI_50 LV_top A1            P129  0             0.001364371   \n",
       "2 DPI_50 LV_top A2            P129  0             0.000359177   \n",
       "3 DPI_50 LV_top A3            P129  0             0.000934255   \n",
       "4 DPI_50 LV_top A4            P129  0             0.000335982   \n",
       "5 DPI_50 LV_top A5            P129  0             0.000662891   \n",
       "6 DPI_50 LV_top A6            P129  0             0.001401562   "
      ]
     },
     "metadata": {},
     "output_type": "display_data"
    },
    {
     "data": {
      "text/html": [
       "<ol class=list-inline>\n",
       "\t<li>90</li>\n",
       "\t<li>10</li>\n",
       "</ol>\n"
      ],
      "text/latex": [
       "\\begin{enumerate*}\n",
       "\\item 90\n",
       "\\item 10\n",
       "\\end{enumerate*}\n"
      ],
      "text/markdown": [
       "1. 90\n",
       "2. 10\n",
       "\n",
       "\n"
      ],
      "text/plain": [
       "[1] 90 10"
      ]
     },
     "metadata": {},
     "output_type": "display_data"
    }
   ],
   "source": [
    "head(a)\n",
    "dim(a)"
   ]
  },
  {
   "cell_type": "code",
   "execution_count": 3,
   "metadata": {},
   "outputs": [
    {
     "data": {
      "text/html": [
       "<table>\n",
       "<thead><tr><th></th><th scope=col>filename</th><th scope=col>MouseID</th><th scope=col>Treatmentgroup</th><th scope=col>status</th><th scope=col>DPI</th><th scope=col>organ</th><th scope=col>well_position</th><th scope=col>plate</th><th scope=col>CAR_mid_chain</th><th scope=col>CAR_long_chain</th></tr></thead>\n",
       "<tbody>\n",
       "\t<tr><th scope=row>16</th><td>X506_Group1B_70dpi_LV_top_281_B_C7_P129.mzXML </td><td>506                                           </td><td>Group1B                                       </td><td>naive                                         </td><td>DPI_75                                        </td><td>LV_top                                        </td><td>C7                                            </td><td>P129                                          </td><td>0                                             </td><td>0.002458199                                   </td></tr>\n",
       "\t<tr><th scope=row>17</th><td>X507_Group1B_70dpi_LV_top_282_B_C8_P129.mzXML </td><td>507                                           </td><td>Group1B                                       </td><td>naive                                         </td><td>DPI_75                                        </td><td>LV_top                                        </td><td>C8                                            </td><td>P129                                          </td><td>0                                             </td><td>0.003456875                                   </td></tr>\n",
       "\t<tr><th scope=row>18</th><td>X508_Group1B_70dpi_LV_top_283_B_C9_P129.mzXML </td><td>508                                           </td><td>Group1B                                       </td><td>naive                                         </td><td>DPI_75                                        </td><td>LV_top                                        </td><td>C9                                            </td><td>P129                                          </td><td>0                                             </td><td>0.001681278                                   </td></tr>\n",
       "\t<tr><th scope=row>19</th><td>X509_Group1B_70dpi_LV_top_284_B_C10_P129.mzXML</td><td>509                                           </td><td>Group1B                                       </td><td>naive                                         </td><td>DPI_75                                        </td><td>LV_top                                        </td><td>C10                                           </td><td>P129                                          </td><td>0                                             </td><td>0.002529118                                   </td></tr>\n",
       "\t<tr><th scope=row>20</th><td>X510_Group1B_70dpi_LV_top_285_B_C11_P129.mzXML</td><td>510                                           </td><td>Group1B                                       </td><td>naive                                         </td><td>DPI_75                                        </td><td>LV_top                                        </td><td>C11                                           </td><td>P129                                          </td><td>0                                             </td><td>0.001444149                                   </td></tr>\n",
       "\t<tr><th scope=row>21</th><td>X526_Group1B_70dpi_LV_top_286_B_C12_P129.mzXML</td><td>526                                           </td><td>Group1B                                       </td><td>naive                                         </td><td>DPI_75                                        </td><td>LV_top                                        </td><td>C12                                           </td><td>P129                                          </td><td>0                                             </td><td>0.004604158                                   </td></tr>\n",
       "</tbody>\n",
       "</table>\n"
      ],
      "text/latex": [
       "\\begin{tabular}{r|llllllllll}\n",
       "  & filename & MouseID & Treatmentgroup & status & DPI & organ & well\\_position & plate & CAR\\_mid\\_chain & CAR\\_long\\_chain\\\\\n",
       "\\hline\n",
       "\t16 & X506\\_Group1B\\_70dpi\\_LV\\_top\\_281\\_B\\_C7\\_P129.mzXML  & 506                                                            & Group1B                                                        & naive                                                          & DPI\\_75                                                       & LV\\_top                                                       & C7                                                             & P129                                                           & 0                                                              & 0.002458199                                                   \\\\\n",
       "\t17 & X507\\_Group1B\\_70dpi\\_LV\\_top\\_282\\_B\\_C8\\_P129.mzXML  & 507                                                            & Group1B                                                        & naive                                                          & DPI\\_75                                                       & LV\\_top                                                       & C8                                                             & P129                                                           & 0                                                              & 0.003456875                                                   \\\\\n",
       "\t18 & X508\\_Group1B\\_70dpi\\_LV\\_top\\_283\\_B\\_C9\\_P129.mzXML  & 508                                                            & Group1B                                                        & naive                                                          & DPI\\_75                                                       & LV\\_top                                                       & C9                                                             & P129                                                           & 0                                                              & 0.001681278                                                   \\\\\n",
       "\t19 & X509\\_Group1B\\_70dpi\\_LV\\_top\\_284\\_B\\_C10\\_P129.mzXML & 509                                                            & Group1B                                                        & naive                                                          & DPI\\_75                                                       & LV\\_top                                                       & C10                                                            & P129                                                           & 0                                                              & 0.002529118                                                   \\\\\n",
       "\t20 & X510\\_Group1B\\_70dpi\\_LV\\_top\\_285\\_B\\_C11\\_P129.mzXML & 510                                                            & Group1B                                                        & naive                                                          & DPI\\_75                                                       & LV\\_top                                                       & C11                                                            & P129                                                           & 0                                                              & 0.001444149                                                   \\\\\n",
       "\t21 & X526\\_Group1B\\_70dpi\\_LV\\_top\\_286\\_B\\_C12\\_P129.mzXML & 526                                                            & Group1B                                                        & naive                                                          & DPI\\_75                                                       & LV\\_top                                                       & C12                                                            & P129                                                           & 0                                                              & 0.004604158                                                   \\\\\n",
       "\\end{tabular}\n"
      ],
      "text/markdown": [
       "\n",
       "| <!--/--> | filename | MouseID | Treatmentgroup | status | DPI | organ | well_position | plate | CAR_mid_chain | CAR_long_chain |\n",
       "|---|---|---|---|---|---|---|---|---|---|---|\n",
       "| 16 | X506_Group1B_70dpi_LV_top_281_B_C7_P129.mzXML  | 506                                            | Group1B                                        | naive                                          | DPI_75                                         | LV_top                                         | C7                                             | P129                                           | 0                                              | 0.002458199                                    |\n",
       "| 17 | X507_Group1B_70dpi_LV_top_282_B_C8_P129.mzXML  | 507                                            | Group1B                                        | naive                                          | DPI_75                                         | LV_top                                         | C8                                             | P129                                           | 0                                              | 0.003456875                                    |\n",
       "| 18 | X508_Group1B_70dpi_LV_top_283_B_C9_P129.mzXML  | 508                                            | Group1B                                        | naive                                          | DPI_75                                         | LV_top                                         | C9                                             | P129                                           | 0                                              | 0.001681278                                    |\n",
       "| 19 | X509_Group1B_70dpi_LV_top_284_B_C10_P129.mzXML | 509                                            | Group1B                                        | naive                                          | DPI_75                                         | LV_top                                         | C10                                            | P129                                           | 0                                              | 0.002529118                                    |\n",
       "| 20 | X510_Group1B_70dpi_LV_top_285_B_C11_P129.mzXML | 510                                            | Group1B                                        | naive                                          | DPI_75                                         | LV_top                                         | C11                                            | P129                                           | 0                                              | 0.001444149                                    |\n",
       "| 21 | X526_Group1B_70dpi_LV_top_286_B_C12_P129.mzXML | 526                                            | Group1B                                        | naive                                          | DPI_75                                         | LV_top                                         | C12                                            | P129                                           | 0                                              | 0.004604158                                    |\n",
       "\n"
      ],
      "text/plain": [
       "   filename                                       MouseID Treatmentgroup status\n",
       "16 X506_Group1B_70dpi_LV_top_281_B_C7_P129.mzXML  506     Group1B        naive \n",
       "17 X507_Group1B_70dpi_LV_top_282_B_C8_P129.mzXML  507     Group1B        naive \n",
       "18 X508_Group1B_70dpi_LV_top_283_B_C9_P129.mzXML  508     Group1B        naive \n",
       "19 X509_Group1B_70dpi_LV_top_284_B_C10_P129.mzXML 509     Group1B        naive \n",
       "20 X510_Group1B_70dpi_LV_top_285_B_C11_P129.mzXML 510     Group1B        naive \n",
       "21 X526_Group1B_70dpi_LV_top_286_B_C12_P129.mzXML 526     Group1B        naive \n",
       "   DPI    organ  well_position plate CAR_mid_chain CAR_long_chain\n",
       "16 DPI_75 LV_top C7            P129  0             0.002458199   \n",
       "17 DPI_75 LV_top C8            P129  0             0.003456875   \n",
       "18 DPI_75 LV_top C9            P129  0             0.001681278   \n",
       "19 DPI_75 LV_top C10           P129  0             0.002529118   \n",
       "20 DPI_75 LV_top C11           P129  0             0.001444149   \n",
       "21 DPI_75 LV_top C12           P129  0             0.004604158   "
      ]
     },
     "metadata": {},
     "output_type": "display_data"
    },
    {
     "data": {
      "text/html": [
       "<ol class=list-inline>\n",
       "\t<li>30</li>\n",
       "\t<li>10</li>\n",
       "</ol>\n"
      ],
      "text/latex": [
       "\\begin{enumerate*}\n",
       "\\item 30\n",
       "\\item 10\n",
       "\\end{enumerate*}\n"
      ],
      "text/markdown": [
       "1. 30\n",
       "2. 10\n",
       "\n",
       "\n"
      ],
      "text/plain": [
       "[1] 30 10"
      ]
     },
     "metadata": {},
     "output_type": "display_data"
    }
   ],
   "source": [
    "features_pos<-droplevels(subset(a, a$Treatmentgroup==c(\"Group1B\")|a$Treatmentgroup==c(\"Group3B\")))\n",
    "head(features_pos)\n",
    "dim(features_pos)"
   ]
  },
  {
   "cell_type": "code",
   "execution_count": 4,
   "metadata": {
    "scrolled": false
   },
   "outputs": [
    {
     "data": {
      "text/html": [
       "<table>\n",
       "<thead><tr><th></th><th scope=col>CAR_mid_chain</th><th scope=col>CAR_long_chain</th></tr></thead>\n",
       "<tbody>\n",
       "\t<tr><th scope=row>16</th><td>0          </td><td>0.002458199</td></tr>\n",
       "\t<tr><th scope=row>17</th><td>0          </td><td>0.003456875</td></tr>\n",
       "\t<tr><th scope=row>18</th><td>0          </td><td>0.001681278</td></tr>\n",
       "\t<tr><th scope=row>19</th><td>0          </td><td>0.002529118</td></tr>\n",
       "\t<tr><th scope=row>20</th><td>0          </td><td>0.001444149</td></tr>\n",
       "\t<tr><th scope=row>21</th><td>0          </td><td>0.004604158</td></tr>\n",
       "</tbody>\n",
       "</table>\n"
      ],
      "text/latex": [
       "\\begin{tabular}{r|ll}\n",
       "  & CAR\\_mid\\_chain & CAR\\_long\\_chain\\\\\n",
       "\\hline\n",
       "\t16 & 0           & 0.002458199\\\\\n",
       "\t17 & 0           & 0.003456875\\\\\n",
       "\t18 & 0           & 0.001681278\\\\\n",
       "\t19 & 0           & 0.002529118\\\\\n",
       "\t20 & 0           & 0.001444149\\\\\n",
       "\t21 & 0           & 0.004604158\\\\\n",
       "\\end{tabular}\n"
      ],
      "text/markdown": [
       "\n",
       "| <!--/--> | CAR_mid_chain | CAR_long_chain |\n",
       "|---|---|---|\n",
       "| 16 | 0           | 0.002458199 |\n",
       "| 17 | 0           | 0.003456875 |\n",
       "| 18 | 0           | 0.001681278 |\n",
       "| 19 | 0           | 0.002529118 |\n",
       "| 20 | 0           | 0.001444149 |\n",
       "| 21 | 0           | 0.004604158 |\n",
       "\n"
      ],
      "text/plain": [
       "   CAR_mid_chain CAR_long_chain\n",
       "16 0             0.002458199   \n",
       "17 0             0.003456875   \n",
       "18 0             0.001681278   \n",
       "19 0             0.002529118   \n",
       "20 0             0.001444149   \n",
       "21 0             0.004604158   "
      ]
     },
     "metadata": {},
     "output_type": "display_data"
    },
    {
     "data": {
      "text/html": [
       "<strong>CAR_long_chain:</strong> 2"
      ],
      "text/latex": [
       "\\textbf{CAR\\textbackslash{}\\_long\\textbackslash{}\\_chain:} 2"
      ],
      "text/markdown": [
       "**CAR_long_chain:** 2"
      ],
      "text/plain": [
       "CAR_long_chain \n",
       "             2 "
      ]
     },
     "metadata": {},
     "output_type": "display_data"
    },
    {
     "data": {
      "text/html": [
       "<ol class=list-inline>\n",
       "\t<li>0.002458199</li>\n",
       "\t<li>0.003456875</li>\n",
       "\t<li>0.001681278</li>\n",
       "\t<li>0.002529118</li>\n",
       "\t<li>0.001444149</li>\n",
       "\t<li>0.004604158</li>\n",
       "\t<li>0.001219409</li>\n",
       "\t<li>0.000509615</li>\n",
       "\t<li>0.000504259</li>\n",
       "\t<li>0.002515697</li>\n",
       "\t<li>0.006289836</li>\n",
       "\t<li>0</li>\n",
       "\t<li>0.000458386</li>\n",
       "\t<li>0.000443867</li>\n",
       "\t<li>0.001952501</li>\n",
       "\t<li>0.002740903</li>\n",
       "\t<li>0.001470914</li>\n",
       "\t<li>0.001996814</li>\n",
       "\t<li>0.001895494</li>\n",
       "\t<li>0.000638905</li>\n",
       "\t<li>0.001944565</li>\n",
       "\t<li>0.00029561</li>\n",
       "\t<li>0.001086756</li>\n",
       "\t<li>0.001579373</li>\n",
       "\t<li>0.000850136</li>\n",
       "\t<li>0.000606767</li>\n",
       "\t<li>0.000542339</li>\n",
       "\t<li>0.00069321</li>\n",
       "\t<li>0.001801525</li>\n",
       "\t<li>0.000294521</li>\n",
       "</ol>\n"
      ],
      "text/latex": [
       "\\begin{enumerate*}\n",
       "\\item 0.002458199\n",
       "\\item 0.003456875\n",
       "\\item 0.001681278\n",
       "\\item 0.002529118\n",
       "\\item 0.001444149\n",
       "\\item 0.004604158\n",
       "\\item 0.001219409\n",
       "\\item 0.000509615\n",
       "\\item 0.000504259\n",
       "\\item 0.002515697\n",
       "\\item 0.006289836\n",
       "\\item 0\n",
       "\\item 0.000458386\n",
       "\\item 0.000443867\n",
       "\\item 0.001952501\n",
       "\\item 0.002740903\n",
       "\\item 0.001470914\n",
       "\\item 0.001996814\n",
       "\\item 0.001895494\n",
       "\\item 0.000638905\n",
       "\\item 0.001944565\n",
       "\\item 0.00029561\n",
       "\\item 0.001086756\n",
       "\\item 0.001579373\n",
       "\\item 0.000850136\n",
       "\\item 0.000606767\n",
       "\\item 0.000542339\n",
       "\\item 0.00069321\n",
       "\\item 0.001801525\n",
       "\\item 0.000294521\n",
       "\\end{enumerate*}\n"
      ],
      "text/markdown": [
       "1. 0.002458199\n",
       "2. 0.003456875\n",
       "3. 0.001681278\n",
       "4. 0.002529118\n",
       "5. 0.001444149\n",
       "6. 0.004604158\n",
       "7. 0.001219409\n",
       "8. 0.000509615\n",
       "9. 0.000504259\n",
       "10. 0.002515697\n",
       "11. 0.006289836\n",
       "12. 0\n",
       "13. 0.000458386\n",
       "14. 0.000443867\n",
       "15. 0.001952501\n",
       "16. 0.002740903\n",
       "17. 0.001470914\n",
       "18. 0.001996814\n",
       "19. 0.001895494\n",
       "20. 0.000638905\n",
       "21. 0.001944565\n",
       "22. 0.00029561\n",
       "23. 0.001086756\n",
       "24. 0.001579373\n",
       "25. 0.000850136\n",
       "26. 0.000606767\n",
       "27. 0.000542339\n",
       "28. 0.00069321\n",
       "29. 0.001801525\n",
       "30. 0.000294521\n",
       "\n",
       "\n"
      ],
      "text/plain": [
       " [1] 0.002458199 0.003456875 0.001681278 0.002529118 0.001444149 0.004604158\n",
       " [7] 0.001219409 0.000509615 0.000504259 0.002515697 0.006289836 0.000000000\n",
       "[13] 0.000458386 0.000443867 0.001952501 0.002740903 0.001470914 0.001996814\n",
       "[19] 0.001895494 0.000638905 0.001944565 0.000295610 0.001086756 0.001579373\n",
       "[25] 0.000850136 0.000606767 0.000542339 0.000693210 0.001801525 0.000294521"
      ]
     },
     "metadata": {},
     "output_type": "display_data"
    },
    {
     "data": {
      "text/html": [
       "<table>\n",
       "<thead><tr><th></th><th scope=col>filename</th><th scope=col>MouseID</th><th scope=col>Treatmentgroup</th><th scope=col>status</th><th scope=col>DPI</th><th scope=col>organ</th><th scope=col>well_position</th><th scope=col>plate</th><th scope=col>nonzero</th></tr></thead>\n",
       "<tbody>\n",
       "\t<tr><th scope=row>16</th><td>X506_Group1B_70dpi_LV_top_281_B_C7_P129.mzXML </td><td>506                                           </td><td>Group1B                                       </td><td>naive                                         </td><td>DPI_75                                        </td><td>LV_top                                        </td><td>C7                                            </td><td>P129                                          </td><td>0.002458199                                   </td></tr>\n",
       "\t<tr><th scope=row>17</th><td>X507_Group1B_70dpi_LV_top_282_B_C8_P129.mzXML </td><td>507                                           </td><td>Group1B                                       </td><td>naive                                         </td><td>DPI_75                                        </td><td>LV_top                                        </td><td>C8                                            </td><td>P129                                          </td><td>0.003456875                                   </td></tr>\n",
       "\t<tr><th scope=row>18</th><td>X508_Group1B_70dpi_LV_top_283_B_C9_P129.mzXML </td><td>508                                           </td><td>Group1B                                       </td><td>naive                                         </td><td>DPI_75                                        </td><td>LV_top                                        </td><td>C9                                            </td><td>P129                                          </td><td>0.001681278                                   </td></tr>\n",
       "\t<tr><th scope=row>19</th><td>X509_Group1B_70dpi_LV_top_284_B_C10_P129.mzXML</td><td>509                                           </td><td>Group1B                                       </td><td>naive                                         </td><td>DPI_75                                        </td><td>LV_top                                        </td><td>C10                                           </td><td>P129                                          </td><td>0.002529118                                   </td></tr>\n",
       "\t<tr><th scope=row>20</th><td>X510_Group1B_70dpi_LV_top_285_B_C11_P129.mzXML</td><td>510                                           </td><td>Group1B                                       </td><td>naive                                         </td><td>DPI_75                                        </td><td>LV_top                                        </td><td>C11                                           </td><td>P129                                          </td><td>0.001444149                                   </td></tr>\n",
       "\t<tr><th scope=row>21</th><td>X526_Group1B_70dpi_LV_top_286_B_C12_P129.mzXML</td><td>526                                           </td><td>Group1B                                       </td><td>naive                                         </td><td>DPI_75                                        </td><td>LV_top                                        </td><td>C12                                           </td><td>P129                                          </td><td>0.004604158                                   </td></tr>\n",
       "</tbody>\n",
       "</table>\n"
      ],
      "text/latex": [
       "\\begin{tabular}{r|lllllllll}\n",
       "  & filename & MouseID & Treatmentgroup & status & DPI & organ & well\\_position & plate & nonzero\\\\\n",
       "\\hline\n",
       "\t16 & X506\\_Group1B\\_70dpi\\_LV\\_top\\_281\\_B\\_C7\\_P129.mzXML  & 506                                                            & Group1B                                                        & naive                                                          & DPI\\_75                                                       & LV\\_top                                                       & C7                                                             & P129                                                           & 0.002458199                                                   \\\\\n",
       "\t17 & X507\\_Group1B\\_70dpi\\_LV\\_top\\_282\\_B\\_C8\\_P129.mzXML  & 507                                                            & Group1B                                                        & naive                                                          & DPI\\_75                                                       & LV\\_top                                                       & C8                                                             & P129                                                           & 0.003456875                                                   \\\\\n",
       "\t18 & X508\\_Group1B\\_70dpi\\_LV\\_top\\_283\\_B\\_C9\\_P129.mzXML  & 508                                                            & Group1B                                                        & naive                                                          & DPI\\_75                                                       & LV\\_top                                                       & C9                                                             & P129                                                           & 0.001681278                                                   \\\\\n",
       "\t19 & X509\\_Group1B\\_70dpi\\_LV\\_top\\_284\\_B\\_C10\\_P129.mzXML & 509                                                            & Group1B                                                        & naive                                                          & DPI\\_75                                                       & LV\\_top                                                       & C10                                                            & P129                                                           & 0.002529118                                                   \\\\\n",
       "\t20 & X510\\_Group1B\\_70dpi\\_LV\\_top\\_285\\_B\\_C11\\_P129.mzXML & 510                                                            & Group1B                                                        & naive                                                          & DPI\\_75                                                       & LV\\_top                                                       & C11                                                            & P129                                                           & 0.001444149                                                   \\\\\n",
       "\t21 & X526\\_Group1B\\_70dpi\\_LV\\_top\\_286\\_B\\_C12\\_P129.mzXML & 526                                                            & Group1B                                                        & naive                                                          & DPI\\_75                                                       & LV\\_top                                                       & C12                                                            & P129                                                           & 0.004604158                                                   \\\\\n",
       "\\end{tabular}\n"
      ],
      "text/markdown": [
       "\n",
       "| <!--/--> | filename | MouseID | Treatmentgroup | status | DPI | organ | well_position | plate | nonzero |\n",
       "|---|---|---|---|---|---|---|---|---|---|\n",
       "| 16 | X506_Group1B_70dpi_LV_top_281_B_C7_P129.mzXML  | 506                                            | Group1B                                        | naive                                          | DPI_75                                         | LV_top                                         | C7                                             | P129                                           | 0.002458199                                    |\n",
       "| 17 | X507_Group1B_70dpi_LV_top_282_B_C8_P129.mzXML  | 507                                            | Group1B                                        | naive                                          | DPI_75                                         | LV_top                                         | C8                                             | P129                                           | 0.003456875                                    |\n",
       "| 18 | X508_Group1B_70dpi_LV_top_283_B_C9_P129.mzXML  | 508                                            | Group1B                                        | naive                                          | DPI_75                                         | LV_top                                         | C9                                             | P129                                           | 0.001681278                                    |\n",
       "| 19 | X509_Group1B_70dpi_LV_top_284_B_C10_P129.mzXML | 509                                            | Group1B                                        | naive                                          | DPI_75                                         | LV_top                                         | C10                                            | P129                                           | 0.002529118                                    |\n",
       "| 20 | X510_Group1B_70dpi_LV_top_285_B_C11_P129.mzXML | 510                                            | Group1B                                        | naive                                          | DPI_75                                         | LV_top                                         | C11                                            | P129                                           | 0.001444149                                    |\n",
       "| 21 | X526_Group1B_70dpi_LV_top_286_B_C12_P129.mzXML | 526                                            | Group1B                                        | naive                                          | DPI_75                                         | LV_top                                         | C12                                            | P129                                           | 0.004604158                                    |\n",
       "\n"
      ],
      "text/plain": [
       "   filename                                       MouseID Treatmentgroup status\n",
       "16 X506_Group1B_70dpi_LV_top_281_B_C7_P129.mzXML  506     Group1B        naive \n",
       "17 X507_Group1B_70dpi_LV_top_282_B_C8_P129.mzXML  507     Group1B        naive \n",
       "18 X508_Group1B_70dpi_LV_top_283_B_C9_P129.mzXML  508     Group1B        naive \n",
       "19 X509_Group1B_70dpi_LV_top_284_B_C10_P129.mzXML 509     Group1B        naive \n",
       "20 X510_Group1B_70dpi_LV_top_285_B_C11_P129.mzXML 510     Group1B        naive \n",
       "21 X526_Group1B_70dpi_LV_top_286_B_C12_P129.mzXML 526     Group1B        naive \n",
       "   DPI    organ  well_position plate nonzero    \n",
       "16 DPI_75 LV_top C7            P129  0.002458199\n",
       "17 DPI_75 LV_top C8            P129  0.003456875\n",
       "18 DPI_75 LV_top C9            P129  0.001681278\n",
       "19 DPI_75 LV_top C10           P129  0.002529118\n",
       "20 DPI_75 LV_top C11           P129  0.001444149\n",
       "21 DPI_75 LV_top C12           P129  0.004604158"
      ]
     },
     "metadata": {},
     "output_type": "display_data"
    },
    {
     "data": {
      "text/html": [
       "<ol class=list-inline>\n",
       "\t<li>30</li>\n",
       "\t<li>10</li>\n",
       "</ol>\n"
      ],
      "text/latex": [
       "\\begin{enumerate*}\n",
       "\\item 30\n",
       "\\item 10\n",
       "\\end{enumerate*}\n"
      ],
      "text/markdown": [
       "1. 30\n",
       "2. 10\n",
       "\n",
       "\n"
      ],
      "text/plain": [
       "[1] 30 10"
      ]
     },
     "metadata": {},
     "output_type": "display_data"
    },
    {
     "data": {
      "text/html": [
       "<ol class=list-inline>\n",
       "\t<li>30</li>\n",
       "\t<li>2</li>\n",
       "</ol>\n"
      ],
      "text/latex": [
       "\\begin{enumerate*}\n",
       "\\item 30\n",
       "\\item 2\n",
       "\\end{enumerate*}\n"
      ],
      "text/markdown": [
       "1. 30\n",
       "2. 2\n",
       "\n",
       "\n"
      ],
      "text/plain": [
       "[1] 30  2"
      ]
     },
     "metadata": {},
     "output_type": "display_data"
    },
    {
     "data": {
      "text/plain": [
       "NULL"
      ]
     },
     "metadata": {},
     "output_type": "display_data"
    },
    {
     "data": {
      "text/html": [
       "<ol class=list-inline>\n",
       "\t<li>30</li>\n",
       "\t<li>9</li>\n",
       "</ol>\n"
      ],
      "text/latex": [
       "\\begin{enumerate*}\n",
       "\\item 30\n",
       "\\item 9\n",
       "\\end{enumerate*}\n"
      ],
      "text/markdown": [
       "1. 30\n",
       "2. 9\n",
       "\n",
       "\n"
      ],
      "text/plain": [
       "[1] 30  9"
      ]
     },
     "metadata": {},
     "output_type": "display_data"
    }
   ],
   "source": [
    "noMeta<-features_pos[,9:10]\n",
    "head(noMeta)\n",
    "not_zero<-which(colSums(noMeta) != 0)\n",
    "head(not_zero)\n",
    "nonzero <- noMeta[, not_zero] \n",
    "nonzero\n",
    "nonzero_wMeta<-cbind(features_pos[,1:8], nonzero)\n",
    "head(nonzero_wMeta)\n",
    "dim(features_pos)\n",
    "dim(noMeta)\n",
    "dim(nonzero)\n",
    "dim(nonzero_wMeta)"
   ]
  },
  {
   "cell_type": "code",
   "execution_count": 5,
   "metadata": {
    "scrolled": true
   },
   "outputs": [
    {
     "data": {
      "text/html": [
       "0.389233298727313"
      ],
      "text/latex": [
       "0.389233298727313"
      ],
      "text/markdown": [
       "0.389233298727313"
      ],
      "text/plain": [
       "[1] 0.3892333"
      ]
     },
     "metadata": {},
     "output_type": "display_data"
    },
    {
     "data": {
      "text/html": [
       "0.389233298727313"
      ],
      "text/latex": [
       "0.389233298727313"
      ],
      "text/markdown": [
       "0.389233298727313"
      ],
      "text/plain": [
       "[1] 0.3892333"
      ]
     },
     "metadata": {},
     "output_type": "display_data"
    }
   ],
   "source": [
    "pval<-c()\n",
    "\n",
    "for (i in 9:ncol(nonzero_wMeta)) \n",
    "pval<-c(pval,wilcox.test(nonzero_wMeta[,i]~nonzero_wMeta$Treatmentgroup)$p.value)\n",
    "head(pval) \n",
    "pAdj <- p.adjust(pval, method = c(\"fdr\"), n=length(pval)) \n",
    "head(pAdj) \n",
    "\n"
   ]
  },
  {
   "cell_type": "code",
   "execution_count": 6,
   "metadata": {
    "scrolled": true
   },
   "outputs": [
    {
     "data": {
      "text/html": [
       "1"
      ],
      "text/latex": [
       "1"
      ],
      "text/markdown": [
       "1"
      ],
      "text/plain": [
       "[1] 1"
      ]
     },
     "metadata": {},
     "output_type": "display_data"
    }
   ],
   "source": [
    "length(pval)"
   ]
  },
  {
   "cell_type": "code",
   "execution_count": 7,
   "metadata": {
    "scrolled": true
   },
   "outputs": [
    {
     "data": {
      "text/html": [
       "1"
      ],
      "text/latex": [
       "1"
      ],
      "text/markdown": [
       "1"
      ],
      "text/plain": [
       "[1] 1"
      ]
     },
     "metadata": {},
     "output_type": "display_data"
    }
   ],
   "source": [
    "length(pAdj)"
   ]
  },
  {
   "cell_type": "code",
   "execution_count": 8,
   "metadata": {},
   "outputs": [
    {
     "ename": "ERROR",
     "evalue": "Error in apply(nonzero_wMeta[, 9:ncol(nonzero_wMeta)], 2, function(x) tapply(x, : dim(X) must have a positive length\n",
     "output_type": "error",
     "traceback": [
      "Error in apply(nonzero_wMeta[, 9:ncol(nonzero_wMeta)], 2, function(x) tapply(x, : dim(X) must have a positive length\nTraceback:\n",
      "1. apply(nonzero_wMeta[, 9:ncol(nonzero_wMeta)], 2, function(x) tapply(x, \n .     nonzero_wMeta$Treatmentgroup, function(x) mean(x)))",
      "2. stop(\"dim(X) must have a positive length\")"
     ]
    }
   ],
   "source": [
    "avg<- apply(nonzero_wMeta[,9:ncol(nonzero_wMeta)], 2, function(x) tapply(x, nonzero_wMeta$Treatmentgroup, function(x) mean(x))) \n",
    "\n",
    "dim(avg)\n",
    "\n",
    "avg[,1:2]\n",
    "\n",
    "fch <- apply(avg, 2, function(x) x[1]/x[2])\n",
    "\n",
    "head(fch) \n",
    "is(fch)"
   ]
  },
  {
   "cell_type": "code",
   "execution_count": 9,
   "metadata": {
    "scrolled": true
   },
   "outputs": [
    {
     "ename": "ERROR",
     "evalue": "Error in eval(expr, envir, enclos): object 'fch' not found\n",
     "output_type": "error",
     "traceback": [
      "Error in eval(expr, envir, enclos): object 'fch' not found\nTraceback:\n"
     ]
    }
   ],
   "source": [
    "fch"
   ]
  },
  {
   "cell_type": "code",
   "execution_count": 11,
   "metadata": {
    "scrolled": false
   },
   "outputs": [],
   "source": [
    "df <- data.frame(pval, pAdj)\n",
    "write.csv(df, \"CAR-time-LVT-wilcox-1B-3B.csv\")"
   ]
  },
  {
   "cell_type": "code",
   "execution_count": null,
   "metadata": {},
   "outputs": [],
   "source": []
  },
  {
   "cell_type": "code",
   "execution_count": null,
   "metadata": {},
   "outputs": [],
   "source": []
  },
  {
   "cell_type": "code",
   "execution_count": null,
   "metadata": {},
   "outputs": [],
   "source": []
  },
  {
   "cell_type": "code",
   "execution_count": null,
   "metadata": {},
   "outputs": [],
   "source": []
  },
  {
   "cell_type": "code",
   "execution_count": null,
   "metadata": {},
   "outputs": [],
   "source": []
  },
  {
   "cell_type": "code",
   "execution_count": null,
   "metadata": {},
   "outputs": [],
   "source": []
  }
 ],
 "metadata": {
  "kernelspec": {
   "display_name": "R",
   "language": "R",
   "name": "ir"
  },
  "language_info": {
   "codemirror_mode": "r",
   "file_extension": ".r",
   "mimetype": "text/x-r-source",
   "name": "R",
   "pygments_lexer": "r",
   "version": "3.6.1"
  }
 },
 "nbformat": 4,
 "nbformat_minor": 2
}
