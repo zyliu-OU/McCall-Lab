{
 "cells": [
  {
   "cell_type": "code",
   "execution_count": 1,
   "metadata": {},
   "outputs": [],
   "source": [
    "a <- read.csv(\"03172021-CAR-time-RA-M-F.csv\")"
   ]
  },
  {
   "cell_type": "code",
   "execution_count": 2,
   "metadata": {},
   "outputs": [
    {
     "data": {
      "text/html": [
       "<table>\n",
       "<thead><tr><th scope=col>filename</th><th scope=col>MouseID</th><th scope=col>Treatmentgroup</th><th scope=col>status</th><th scope=col>DPI</th><th scope=col>organ</th><th scope=col>well_position</th><th scope=col>plate</th><th scope=col>CAR_mid_chain</th><th scope=col>CAR_long_chain</th></tr></thead>\n",
       "<tbody>\n",
       "\t<tr><td>X501_Group1A_50dpi_RA_251_B_A1_P125.mzXML</td><td>501                                      </td><td>Group1A                                  </td><td>naive                                    </td><td>DPI_50                                   </td><td>RA                                       </td><td>A1                                       </td><td>P125                                     </td><td>0                                        </td><td>0.000944156                              </td></tr>\n",
       "\t<tr><td>X502_Group1A_50dpi_RA_252_B_A2_P125.mzXML</td><td>502                                      </td><td>Group1A                                  </td><td>naive                                    </td><td>DPI_50                                   </td><td>RA                                       </td><td>A2                                       </td><td>P125                                     </td><td>0                                        </td><td>0.003293008                              </td></tr>\n",
       "\t<tr><td>X503_Group1A_50dpi_RA_253_B_A3_P125.mzXML</td><td>503                                      </td><td>Group1A                                  </td><td>naive                                    </td><td>DPI_50                                   </td><td>RA                                       </td><td>A3                                       </td><td>P125                                     </td><td>0                                        </td><td>0.002768824                              </td></tr>\n",
       "\t<tr><td>X504_Group1A_50dpi_RA_254_B_A4_P125.mzXML</td><td>504                                      </td><td>Group1A                                  </td><td>naive                                    </td><td>DPI_50                                   </td><td>RA                                       </td><td>A4                                       </td><td>P125                                     </td><td>0                                        </td><td>0.003315529                              </td></tr>\n",
       "\t<tr><td>X505_Group1A_50dpi_RA_255_B_A5_P125.mzXML</td><td>505                                      </td><td>Group1A                                  </td><td>naive                                    </td><td>DPI_50                                   </td><td>RA                                       </td><td>A5                                       </td><td>P125                                     </td><td>0                                        </td><td>0.002373393                              </td></tr>\n",
       "\t<tr><td>X521_Group1A_50dpi_RA_256_B_A6_P125.mzXML</td><td>521                                      </td><td>Group1A                                  </td><td>naive                                    </td><td>DPI_50                                   </td><td>RA                                       </td><td>A6                                       </td><td>P125                                     </td><td>0                                        </td><td>0.000169500                              </td></tr>\n",
       "</tbody>\n",
       "</table>\n"
      ],
      "text/latex": [
       "\\begin{tabular}{r|llllllllll}\n",
       " filename & MouseID & Treatmentgroup & status & DPI & organ & well\\_position & plate & CAR\\_mid\\_chain & CAR\\_long\\_chain\\\\\n",
       "\\hline\n",
       "\t X501\\_Group1A\\_50dpi\\_RA\\_251\\_B\\_A1\\_P125.mzXML & 501                                                     & Group1A                                                 & naive                                                   & DPI\\_50                                                & RA                                                      & A1                                                      & P125                                                    & 0                                                       & 0.000944156                                            \\\\\n",
       "\t X502\\_Group1A\\_50dpi\\_RA\\_252\\_B\\_A2\\_P125.mzXML & 502                                                     & Group1A                                                 & naive                                                   & DPI\\_50                                                & RA                                                      & A2                                                      & P125                                                    & 0                                                       & 0.003293008                                            \\\\\n",
       "\t X503\\_Group1A\\_50dpi\\_RA\\_253\\_B\\_A3\\_P125.mzXML & 503                                                     & Group1A                                                 & naive                                                   & DPI\\_50                                                & RA                                                      & A3                                                      & P125                                                    & 0                                                       & 0.002768824                                            \\\\\n",
       "\t X504\\_Group1A\\_50dpi\\_RA\\_254\\_B\\_A4\\_P125.mzXML & 504                                                     & Group1A                                                 & naive                                                   & DPI\\_50                                                & RA                                                      & A4                                                      & P125                                                    & 0                                                       & 0.003315529                                            \\\\\n",
       "\t X505\\_Group1A\\_50dpi\\_RA\\_255\\_B\\_A5\\_P125.mzXML & 505                                                     & Group1A                                                 & naive                                                   & DPI\\_50                                                & RA                                                      & A5                                                      & P125                                                    & 0                                                       & 0.002373393                                            \\\\\n",
       "\t X521\\_Group1A\\_50dpi\\_RA\\_256\\_B\\_A6\\_P125.mzXML & 521                                                     & Group1A                                                 & naive                                                   & DPI\\_50                                                & RA                                                      & A6                                                      & P125                                                    & 0                                                       & 0.000169500                                            \\\\\n",
       "\\end{tabular}\n"
      ],
      "text/markdown": [
       "\n",
       "| filename | MouseID | Treatmentgroup | status | DPI | organ | well_position | plate | CAR_mid_chain | CAR_long_chain |\n",
       "|---|---|---|---|---|---|---|---|---|---|\n",
       "| X501_Group1A_50dpi_RA_251_B_A1_P125.mzXML | 501                                       | Group1A                                   | naive                                     | DPI_50                                    | RA                                        | A1                                        | P125                                      | 0                                         | 0.000944156                               |\n",
       "| X502_Group1A_50dpi_RA_252_B_A2_P125.mzXML | 502                                       | Group1A                                   | naive                                     | DPI_50                                    | RA                                        | A2                                        | P125                                      | 0                                         | 0.003293008                               |\n",
       "| X503_Group1A_50dpi_RA_253_B_A3_P125.mzXML | 503                                       | Group1A                                   | naive                                     | DPI_50                                    | RA                                        | A3                                        | P125                                      | 0                                         | 0.002768824                               |\n",
       "| X504_Group1A_50dpi_RA_254_B_A4_P125.mzXML | 504                                       | Group1A                                   | naive                                     | DPI_50                                    | RA                                        | A4                                        | P125                                      | 0                                         | 0.003315529                               |\n",
       "| X505_Group1A_50dpi_RA_255_B_A5_P125.mzXML | 505                                       | Group1A                                   | naive                                     | DPI_50                                    | RA                                        | A5                                        | P125                                      | 0                                         | 0.002373393                               |\n",
       "| X521_Group1A_50dpi_RA_256_B_A6_P125.mzXML | 521                                       | Group1A                                   | naive                                     | DPI_50                                    | RA                                        | A6                                        | P125                                      | 0                                         | 0.000169500                               |\n",
       "\n"
      ],
      "text/plain": [
       "  filename                                  MouseID Treatmentgroup status\n",
       "1 X501_Group1A_50dpi_RA_251_B_A1_P125.mzXML 501     Group1A        naive \n",
       "2 X502_Group1A_50dpi_RA_252_B_A2_P125.mzXML 502     Group1A        naive \n",
       "3 X503_Group1A_50dpi_RA_253_B_A3_P125.mzXML 503     Group1A        naive \n",
       "4 X504_Group1A_50dpi_RA_254_B_A4_P125.mzXML 504     Group1A        naive \n",
       "5 X505_Group1A_50dpi_RA_255_B_A5_P125.mzXML 505     Group1A        naive \n",
       "6 X521_Group1A_50dpi_RA_256_B_A6_P125.mzXML 521     Group1A        naive \n",
       "  DPI    organ well_position plate CAR_mid_chain CAR_long_chain\n",
       "1 DPI_50 RA    A1            P125  0             0.000944156   \n",
       "2 DPI_50 RA    A2            P125  0             0.003293008   \n",
       "3 DPI_50 RA    A3            P125  0             0.002768824   \n",
       "4 DPI_50 RA    A4            P125  0             0.003315529   \n",
       "5 DPI_50 RA    A5            P125  0             0.002373393   \n",
       "6 DPI_50 RA    A6            P125  0             0.000169500   "
      ]
     },
     "metadata": {},
     "output_type": "display_data"
    },
    {
     "data": {
      "text/html": [
       "<ol class=list-inline>\n",
       "\t<li>90</li>\n",
       "\t<li>10</li>\n",
       "</ol>\n"
      ],
      "text/latex": [
       "\\begin{enumerate*}\n",
       "\\item 90\n",
       "\\item 10\n",
       "\\end{enumerate*}\n"
      ],
      "text/markdown": [
       "1. 90\n",
       "2. 10\n",
       "\n",
       "\n"
      ],
      "text/plain": [
       "[1] 90 10"
      ]
     },
     "metadata": {},
     "output_type": "display_data"
    }
   ],
   "source": [
    "head(a)\n",
    "dim(a)"
   ]
  },
  {
   "cell_type": "code",
   "execution_count": 3,
   "metadata": {},
   "outputs": [
    {
     "data": {
      "text/html": [
       "<table>\n",
       "<thead><tr><th></th><th scope=col>filename</th><th scope=col>MouseID</th><th scope=col>Treatmentgroup</th><th scope=col>status</th><th scope=col>DPI</th><th scope=col>organ</th><th scope=col>well_position</th><th scope=col>plate</th><th scope=col>CAR_mid_chain</th><th scope=col>CAR_long_chain</th></tr></thead>\n",
       "<tbody>\n",
       "\t<tr><th scope=row>16</th><td>X506_Group1B_70dpi_RA_281_B_C7_P125.mzXML </td><td>506                                       </td><td>Group1B                                   </td><td>naive                                     </td><td>DPI_75                                    </td><td>RA                                        </td><td>C7                                        </td><td>P125                                      </td><td>0                                         </td><td>0.001278246                               </td></tr>\n",
       "\t<tr><th scope=row>17</th><td>X507_Group1B_70dpi_RA_282_B_C8_P125.mzXML </td><td>507                                       </td><td>Group1B                                   </td><td>naive                                     </td><td>DPI_75                                    </td><td>RA                                        </td><td>C8                                        </td><td>P125                                      </td><td>0                                         </td><td>0.005133289                               </td></tr>\n",
       "\t<tr><th scope=row>18</th><td>X508_Group1B_70dpi_RA_283_B_C9_P125.mzXML </td><td>508                                       </td><td>Group1B                                   </td><td>naive                                     </td><td>DPI_75                                    </td><td>RA                                        </td><td>C9                                        </td><td>P125                                      </td><td>0                                         </td><td>0.001173171                               </td></tr>\n",
       "\t<tr><th scope=row>19</th><td>X509_Group1B_70dpi_RA_284_B_C10_P125.mzXML</td><td>509                                       </td><td>Group1B                                   </td><td>naive                                     </td><td>DPI_75                                    </td><td>RA                                        </td><td>C10                                       </td><td>P125                                      </td><td>0                                         </td><td>0.000249737                               </td></tr>\n",
       "\t<tr><th scope=row>20</th><td>X510_Group1B_70dpi_RA_285_B_C11_P125.mzXML</td><td>510                                       </td><td>Group1B                                   </td><td>naive                                     </td><td>DPI_75                                    </td><td>RA                                        </td><td>C11                                       </td><td>P125                                      </td><td>0                                         </td><td>0.000638536                               </td></tr>\n",
       "\t<tr><th scope=row>21</th><td>X526_Group1B_70dpi_RA_286_B_C12_P125.mzXML</td><td>526                                       </td><td>Group1B                                   </td><td>naive                                     </td><td>DPI_75                                    </td><td>RA                                        </td><td>C12                                       </td><td>P125                                      </td><td>0                                         </td><td>0.000905674                               </td></tr>\n",
       "</tbody>\n",
       "</table>\n"
      ],
      "text/latex": [
       "\\begin{tabular}{r|llllllllll}\n",
       "  & filename & MouseID & Treatmentgroup & status & DPI & organ & well\\_position & plate & CAR\\_mid\\_chain & CAR\\_long\\_chain\\\\\n",
       "\\hline\n",
       "\t16 & X506\\_Group1B\\_70dpi\\_RA\\_281\\_B\\_C7\\_P125.mzXML  & 506                                                      & Group1B                                                  & naive                                                    & DPI\\_75                                                 & RA                                                       & C7                                                       & P125                                                     & 0                                                        & 0.001278246                                             \\\\\n",
       "\t17 & X507\\_Group1B\\_70dpi\\_RA\\_282\\_B\\_C8\\_P125.mzXML  & 507                                                      & Group1B                                                  & naive                                                    & DPI\\_75                                                 & RA                                                       & C8                                                       & P125                                                     & 0                                                        & 0.005133289                                             \\\\\n",
       "\t18 & X508\\_Group1B\\_70dpi\\_RA\\_283\\_B\\_C9\\_P125.mzXML  & 508                                                      & Group1B                                                  & naive                                                    & DPI\\_75                                                 & RA                                                       & C9                                                       & P125                                                     & 0                                                        & 0.001173171                                             \\\\\n",
       "\t19 & X509\\_Group1B\\_70dpi\\_RA\\_284\\_B\\_C10\\_P125.mzXML & 509                                                      & Group1B                                                  & naive                                                    & DPI\\_75                                                 & RA                                                       & C10                                                      & P125                                                     & 0                                                        & 0.000249737                                             \\\\\n",
       "\t20 & X510\\_Group1B\\_70dpi\\_RA\\_285\\_B\\_C11\\_P125.mzXML & 510                                                      & Group1B                                                  & naive                                                    & DPI\\_75                                                 & RA                                                       & C11                                                      & P125                                                     & 0                                                        & 0.000638536                                             \\\\\n",
       "\t21 & X526\\_Group1B\\_70dpi\\_RA\\_286\\_B\\_C12\\_P125.mzXML & 526                                                      & Group1B                                                  & naive                                                    & DPI\\_75                                                 & RA                                                       & C12                                                      & P125                                                     & 0                                                        & 0.000905674                                             \\\\\n",
       "\\end{tabular}\n"
      ],
      "text/markdown": [
       "\n",
       "| <!--/--> | filename | MouseID | Treatmentgroup | status | DPI | organ | well_position | plate | CAR_mid_chain | CAR_long_chain |\n",
       "|---|---|---|---|---|---|---|---|---|---|---|\n",
       "| 16 | X506_Group1B_70dpi_RA_281_B_C7_P125.mzXML  | 506                                        | Group1B                                    | naive                                      | DPI_75                                     | RA                                         | C7                                         | P125                                       | 0                                          | 0.001278246                                |\n",
       "| 17 | X507_Group1B_70dpi_RA_282_B_C8_P125.mzXML  | 507                                        | Group1B                                    | naive                                      | DPI_75                                     | RA                                         | C8                                         | P125                                       | 0                                          | 0.005133289                                |\n",
       "| 18 | X508_Group1B_70dpi_RA_283_B_C9_P125.mzXML  | 508                                        | Group1B                                    | naive                                      | DPI_75                                     | RA                                         | C9                                         | P125                                       | 0                                          | 0.001173171                                |\n",
       "| 19 | X509_Group1B_70dpi_RA_284_B_C10_P125.mzXML | 509                                        | Group1B                                    | naive                                      | DPI_75                                     | RA                                         | C10                                        | P125                                       | 0                                          | 0.000249737                                |\n",
       "| 20 | X510_Group1B_70dpi_RA_285_B_C11_P125.mzXML | 510                                        | Group1B                                    | naive                                      | DPI_75                                     | RA                                         | C11                                        | P125                                       | 0                                          | 0.000638536                                |\n",
       "| 21 | X526_Group1B_70dpi_RA_286_B_C12_P125.mzXML | 526                                        | Group1B                                    | naive                                      | DPI_75                                     | RA                                         | C12                                        | P125                                       | 0                                          | 0.000905674                                |\n",
       "\n"
      ],
      "text/plain": [
       "   filename                                   MouseID Treatmentgroup status\n",
       "16 X506_Group1B_70dpi_RA_281_B_C7_P125.mzXML  506     Group1B        naive \n",
       "17 X507_Group1B_70dpi_RA_282_B_C8_P125.mzXML  507     Group1B        naive \n",
       "18 X508_Group1B_70dpi_RA_283_B_C9_P125.mzXML  508     Group1B        naive \n",
       "19 X509_Group1B_70dpi_RA_284_B_C10_P125.mzXML 509     Group1B        naive \n",
       "20 X510_Group1B_70dpi_RA_285_B_C11_P125.mzXML 510     Group1B        naive \n",
       "21 X526_Group1B_70dpi_RA_286_B_C12_P125.mzXML 526     Group1B        naive \n",
       "   DPI    organ well_position plate CAR_mid_chain CAR_long_chain\n",
       "16 DPI_75 RA    C7            P125  0             0.001278246   \n",
       "17 DPI_75 RA    C8            P125  0             0.005133289   \n",
       "18 DPI_75 RA    C9            P125  0             0.001173171   \n",
       "19 DPI_75 RA    C10           P125  0             0.000249737   \n",
       "20 DPI_75 RA    C11           P125  0             0.000638536   \n",
       "21 DPI_75 RA    C12           P125  0             0.000905674   "
      ]
     },
     "metadata": {},
     "output_type": "display_data"
    },
    {
     "data": {
      "text/html": [
       "<ol class=list-inline>\n",
       "\t<li>30</li>\n",
       "\t<li>10</li>\n",
       "</ol>\n"
      ],
      "text/latex": [
       "\\begin{enumerate*}\n",
       "\\item 30\n",
       "\\item 10\n",
       "\\end{enumerate*}\n"
      ],
      "text/markdown": [
       "1. 30\n",
       "2. 10\n",
       "\n",
       "\n"
      ],
      "text/plain": [
       "[1] 30 10"
      ]
     },
     "metadata": {},
     "output_type": "display_data"
    }
   ],
   "source": [
    "features_pos<-droplevels(subset(a, a$Treatmentgroup==c(\"Group1B\")|a$Treatmentgroup==c(\"Group3B\")))\n",
    "head(features_pos)\n",
    "dim(features_pos)"
   ]
  },
  {
   "cell_type": "code",
   "execution_count": 4,
   "metadata": {
    "scrolled": false
   },
   "outputs": [
    {
     "data": {
      "text/html": [
       "<table>\n",
       "<thead><tr><th></th><th scope=col>CAR_mid_chain</th><th scope=col>CAR_long_chain</th></tr></thead>\n",
       "<tbody>\n",
       "\t<tr><th scope=row>16</th><td>0          </td><td>0.001278246</td></tr>\n",
       "\t<tr><th scope=row>17</th><td>0          </td><td>0.005133289</td></tr>\n",
       "\t<tr><th scope=row>18</th><td>0          </td><td>0.001173171</td></tr>\n",
       "\t<tr><th scope=row>19</th><td>0          </td><td>0.000249737</td></tr>\n",
       "\t<tr><th scope=row>20</th><td>0          </td><td>0.000638536</td></tr>\n",
       "\t<tr><th scope=row>21</th><td>0          </td><td>0.000905674</td></tr>\n",
       "</tbody>\n",
       "</table>\n"
      ],
      "text/latex": [
       "\\begin{tabular}{r|ll}\n",
       "  & CAR\\_mid\\_chain & CAR\\_long\\_chain\\\\\n",
       "\\hline\n",
       "\t16 & 0           & 0.001278246\\\\\n",
       "\t17 & 0           & 0.005133289\\\\\n",
       "\t18 & 0           & 0.001173171\\\\\n",
       "\t19 & 0           & 0.000249737\\\\\n",
       "\t20 & 0           & 0.000638536\\\\\n",
       "\t21 & 0           & 0.000905674\\\\\n",
       "\\end{tabular}\n"
      ],
      "text/markdown": [
       "\n",
       "| <!--/--> | CAR_mid_chain | CAR_long_chain |\n",
       "|---|---|---|\n",
       "| 16 | 0           | 0.001278246 |\n",
       "| 17 | 0           | 0.005133289 |\n",
       "| 18 | 0           | 0.001173171 |\n",
       "| 19 | 0           | 0.000249737 |\n",
       "| 20 | 0           | 0.000638536 |\n",
       "| 21 | 0           | 0.000905674 |\n",
       "\n"
      ],
      "text/plain": [
       "   CAR_mid_chain CAR_long_chain\n",
       "16 0             0.001278246   \n",
       "17 0             0.005133289   \n",
       "18 0             0.001173171   \n",
       "19 0             0.000249737   \n",
       "20 0             0.000638536   \n",
       "21 0             0.000905674   "
      ]
     },
     "metadata": {},
     "output_type": "display_data"
    },
    {
     "data": {
      "text/html": [
       "<strong>CAR_long_chain:</strong> 2"
      ],
      "text/latex": [
       "\\textbf{CAR\\textbackslash{}\\_long\\textbackslash{}\\_chain:} 2"
      ],
      "text/markdown": [
       "**CAR_long_chain:** 2"
      ],
      "text/plain": [
       "CAR_long_chain \n",
       "             2 "
      ]
     },
     "metadata": {},
     "output_type": "display_data"
    },
    {
     "data": {
      "text/html": [
       "<ol class=list-inline>\n",
       "\t<li>0.001278246</li>\n",
       "\t<li>0.005133289</li>\n",
       "\t<li>0.001173171</li>\n",
       "\t<li>0.000249737</li>\n",
       "\t<li>0.000638536</li>\n",
       "\t<li>0.000905674</li>\n",
       "\t<li>0.000571327</li>\n",
       "\t<li>0.002100543</li>\n",
       "\t<li>0.000693628</li>\n",
       "\t<li>0.002448647</li>\n",
       "\t<li>0.000901338</li>\n",
       "\t<li>0.000693481</li>\n",
       "\t<li>0.000835163</li>\n",
       "\t<li>0.000288897</li>\n",
       "\t<li>0.002150702</li>\n",
       "\t<li>0.001391683</li>\n",
       "\t<li>0.001798307</li>\n",
       "\t<li>0.001674096</li>\n",
       "\t<li>0.000917715</li>\n",
       "\t<li>0.001776575</li>\n",
       "\t<li>0.001236838</li>\n",
       "\t<li>0</li>\n",
       "\t<li>0.000470361</li>\n",
       "\t<li>0.001205524</li>\n",
       "\t<li>0.001295138</li>\n",
       "\t<li>0.000641029</li>\n",
       "\t<li>0.000911525</li>\n",
       "\t<li>0.003011642</li>\n",
       "\t<li>0.002122101</li>\n",
       "\t<li>0.002045671</li>\n",
       "</ol>\n"
      ],
      "text/latex": [
       "\\begin{enumerate*}\n",
       "\\item 0.001278246\n",
       "\\item 0.005133289\n",
       "\\item 0.001173171\n",
       "\\item 0.000249737\n",
       "\\item 0.000638536\n",
       "\\item 0.000905674\n",
       "\\item 0.000571327\n",
       "\\item 0.002100543\n",
       "\\item 0.000693628\n",
       "\\item 0.002448647\n",
       "\\item 0.000901338\n",
       "\\item 0.000693481\n",
       "\\item 0.000835163\n",
       "\\item 0.000288897\n",
       "\\item 0.002150702\n",
       "\\item 0.001391683\n",
       "\\item 0.001798307\n",
       "\\item 0.001674096\n",
       "\\item 0.000917715\n",
       "\\item 0.001776575\n",
       "\\item 0.001236838\n",
       "\\item 0\n",
       "\\item 0.000470361\n",
       "\\item 0.001205524\n",
       "\\item 0.001295138\n",
       "\\item 0.000641029\n",
       "\\item 0.000911525\n",
       "\\item 0.003011642\n",
       "\\item 0.002122101\n",
       "\\item 0.002045671\n",
       "\\end{enumerate*}\n"
      ],
      "text/markdown": [
       "1. 0.001278246\n",
       "2. 0.005133289\n",
       "3. 0.001173171\n",
       "4. 0.000249737\n",
       "5. 0.000638536\n",
       "6. 0.000905674\n",
       "7. 0.000571327\n",
       "8. 0.002100543\n",
       "9. 0.000693628\n",
       "10. 0.002448647\n",
       "11. 0.000901338\n",
       "12. 0.000693481\n",
       "13. 0.000835163\n",
       "14. 0.000288897\n",
       "15. 0.002150702\n",
       "16. 0.001391683\n",
       "17. 0.001798307\n",
       "18. 0.001674096\n",
       "19. 0.000917715\n",
       "20. 0.001776575\n",
       "21. 0.001236838\n",
       "22. 0\n",
       "23. 0.000470361\n",
       "24. 0.001205524\n",
       "25. 0.001295138\n",
       "26. 0.000641029\n",
       "27. 0.000911525\n",
       "28. 0.003011642\n",
       "29. 0.002122101\n",
       "30. 0.002045671\n",
       "\n",
       "\n"
      ],
      "text/plain": [
       " [1] 0.001278246 0.005133289 0.001173171 0.000249737 0.000638536 0.000905674\n",
       " [7] 0.000571327 0.002100543 0.000693628 0.002448647 0.000901338 0.000693481\n",
       "[13] 0.000835163 0.000288897 0.002150702 0.001391683 0.001798307 0.001674096\n",
       "[19] 0.000917715 0.001776575 0.001236838 0.000000000 0.000470361 0.001205524\n",
       "[25] 0.001295138 0.000641029 0.000911525 0.003011642 0.002122101 0.002045671"
      ]
     },
     "metadata": {},
     "output_type": "display_data"
    },
    {
     "data": {
      "text/html": [
       "<table>\n",
       "<thead><tr><th></th><th scope=col>filename</th><th scope=col>MouseID</th><th scope=col>Treatmentgroup</th><th scope=col>status</th><th scope=col>DPI</th><th scope=col>organ</th><th scope=col>well_position</th><th scope=col>plate</th><th scope=col>nonzero</th></tr></thead>\n",
       "<tbody>\n",
       "\t<tr><th scope=row>16</th><td>X506_Group1B_70dpi_RA_281_B_C7_P125.mzXML </td><td>506                                       </td><td>Group1B                                   </td><td>naive                                     </td><td>DPI_75                                    </td><td>RA                                        </td><td>C7                                        </td><td>P125                                      </td><td>0.001278246                               </td></tr>\n",
       "\t<tr><th scope=row>17</th><td>X507_Group1B_70dpi_RA_282_B_C8_P125.mzXML </td><td>507                                       </td><td>Group1B                                   </td><td>naive                                     </td><td>DPI_75                                    </td><td>RA                                        </td><td>C8                                        </td><td>P125                                      </td><td>0.005133289                               </td></tr>\n",
       "\t<tr><th scope=row>18</th><td>X508_Group1B_70dpi_RA_283_B_C9_P125.mzXML </td><td>508                                       </td><td>Group1B                                   </td><td>naive                                     </td><td>DPI_75                                    </td><td>RA                                        </td><td>C9                                        </td><td>P125                                      </td><td>0.001173171                               </td></tr>\n",
       "\t<tr><th scope=row>19</th><td>X509_Group1B_70dpi_RA_284_B_C10_P125.mzXML</td><td>509                                       </td><td>Group1B                                   </td><td>naive                                     </td><td>DPI_75                                    </td><td>RA                                        </td><td>C10                                       </td><td>P125                                      </td><td>0.000249737                               </td></tr>\n",
       "\t<tr><th scope=row>20</th><td>X510_Group1B_70dpi_RA_285_B_C11_P125.mzXML</td><td>510                                       </td><td>Group1B                                   </td><td>naive                                     </td><td>DPI_75                                    </td><td>RA                                        </td><td>C11                                       </td><td>P125                                      </td><td>0.000638536                               </td></tr>\n",
       "\t<tr><th scope=row>21</th><td>X526_Group1B_70dpi_RA_286_B_C12_P125.mzXML</td><td>526                                       </td><td>Group1B                                   </td><td>naive                                     </td><td>DPI_75                                    </td><td>RA                                        </td><td>C12                                       </td><td>P125                                      </td><td>0.000905674                               </td></tr>\n",
       "</tbody>\n",
       "</table>\n"
      ],
      "text/latex": [
       "\\begin{tabular}{r|lllllllll}\n",
       "  & filename & MouseID & Treatmentgroup & status & DPI & organ & well\\_position & plate & nonzero\\\\\n",
       "\\hline\n",
       "\t16 & X506\\_Group1B\\_70dpi\\_RA\\_281\\_B\\_C7\\_P125.mzXML  & 506                                                      & Group1B                                                  & naive                                                    & DPI\\_75                                                 & RA                                                       & C7                                                       & P125                                                     & 0.001278246                                             \\\\\n",
       "\t17 & X507\\_Group1B\\_70dpi\\_RA\\_282\\_B\\_C8\\_P125.mzXML  & 507                                                      & Group1B                                                  & naive                                                    & DPI\\_75                                                 & RA                                                       & C8                                                       & P125                                                     & 0.005133289                                             \\\\\n",
       "\t18 & X508\\_Group1B\\_70dpi\\_RA\\_283\\_B\\_C9\\_P125.mzXML  & 508                                                      & Group1B                                                  & naive                                                    & DPI\\_75                                                 & RA                                                       & C9                                                       & P125                                                     & 0.001173171                                             \\\\\n",
       "\t19 & X509\\_Group1B\\_70dpi\\_RA\\_284\\_B\\_C10\\_P125.mzXML & 509                                                      & Group1B                                                  & naive                                                    & DPI\\_75                                                 & RA                                                       & C10                                                      & P125                                                     & 0.000249737                                             \\\\\n",
       "\t20 & X510\\_Group1B\\_70dpi\\_RA\\_285\\_B\\_C11\\_P125.mzXML & 510                                                      & Group1B                                                  & naive                                                    & DPI\\_75                                                 & RA                                                       & C11                                                      & P125                                                     & 0.000638536                                             \\\\\n",
       "\t21 & X526\\_Group1B\\_70dpi\\_RA\\_286\\_B\\_C12\\_P125.mzXML & 526                                                      & Group1B                                                  & naive                                                    & DPI\\_75                                                 & RA                                                       & C12                                                      & P125                                                     & 0.000905674                                             \\\\\n",
       "\\end{tabular}\n"
      ],
      "text/markdown": [
       "\n",
       "| <!--/--> | filename | MouseID | Treatmentgroup | status | DPI | organ | well_position | plate | nonzero |\n",
       "|---|---|---|---|---|---|---|---|---|---|\n",
       "| 16 | X506_Group1B_70dpi_RA_281_B_C7_P125.mzXML  | 506                                        | Group1B                                    | naive                                      | DPI_75                                     | RA                                         | C7                                         | P125                                       | 0.001278246                                |\n",
       "| 17 | X507_Group1B_70dpi_RA_282_B_C8_P125.mzXML  | 507                                        | Group1B                                    | naive                                      | DPI_75                                     | RA                                         | C8                                         | P125                                       | 0.005133289                                |\n",
       "| 18 | X508_Group1B_70dpi_RA_283_B_C9_P125.mzXML  | 508                                        | Group1B                                    | naive                                      | DPI_75                                     | RA                                         | C9                                         | P125                                       | 0.001173171                                |\n",
       "| 19 | X509_Group1B_70dpi_RA_284_B_C10_P125.mzXML | 509                                        | Group1B                                    | naive                                      | DPI_75                                     | RA                                         | C10                                        | P125                                       | 0.000249737                                |\n",
       "| 20 | X510_Group1B_70dpi_RA_285_B_C11_P125.mzXML | 510                                        | Group1B                                    | naive                                      | DPI_75                                     | RA                                         | C11                                        | P125                                       | 0.000638536                                |\n",
       "| 21 | X526_Group1B_70dpi_RA_286_B_C12_P125.mzXML | 526                                        | Group1B                                    | naive                                      | DPI_75                                     | RA                                         | C12                                        | P125                                       | 0.000905674                                |\n",
       "\n"
      ],
      "text/plain": [
       "   filename                                   MouseID Treatmentgroup status\n",
       "16 X506_Group1B_70dpi_RA_281_B_C7_P125.mzXML  506     Group1B        naive \n",
       "17 X507_Group1B_70dpi_RA_282_B_C8_P125.mzXML  507     Group1B        naive \n",
       "18 X508_Group1B_70dpi_RA_283_B_C9_P125.mzXML  508     Group1B        naive \n",
       "19 X509_Group1B_70dpi_RA_284_B_C10_P125.mzXML 509     Group1B        naive \n",
       "20 X510_Group1B_70dpi_RA_285_B_C11_P125.mzXML 510     Group1B        naive \n",
       "21 X526_Group1B_70dpi_RA_286_B_C12_P125.mzXML 526     Group1B        naive \n",
       "   DPI    organ well_position plate nonzero    \n",
       "16 DPI_75 RA    C7            P125  0.001278246\n",
       "17 DPI_75 RA    C8            P125  0.005133289\n",
       "18 DPI_75 RA    C9            P125  0.001173171\n",
       "19 DPI_75 RA    C10           P125  0.000249737\n",
       "20 DPI_75 RA    C11           P125  0.000638536\n",
       "21 DPI_75 RA    C12           P125  0.000905674"
      ]
     },
     "metadata": {},
     "output_type": "display_data"
    },
    {
     "data": {
      "text/html": [
       "<ol class=list-inline>\n",
       "\t<li>30</li>\n",
       "\t<li>10</li>\n",
       "</ol>\n"
      ],
      "text/latex": [
       "\\begin{enumerate*}\n",
       "\\item 30\n",
       "\\item 10\n",
       "\\end{enumerate*}\n"
      ],
      "text/markdown": [
       "1. 30\n",
       "2. 10\n",
       "\n",
       "\n"
      ],
      "text/plain": [
       "[1] 30 10"
      ]
     },
     "metadata": {},
     "output_type": "display_data"
    },
    {
     "data": {
      "text/html": [
       "<ol class=list-inline>\n",
       "\t<li>30</li>\n",
       "\t<li>2</li>\n",
       "</ol>\n"
      ],
      "text/latex": [
       "\\begin{enumerate*}\n",
       "\\item 30\n",
       "\\item 2\n",
       "\\end{enumerate*}\n"
      ],
      "text/markdown": [
       "1. 30\n",
       "2. 2\n",
       "\n",
       "\n"
      ],
      "text/plain": [
       "[1] 30  2"
      ]
     },
     "metadata": {},
     "output_type": "display_data"
    },
    {
     "data": {
      "text/plain": [
       "NULL"
      ]
     },
     "metadata": {},
     "output_type": "display_data"
    },
    {
     "data": {
      "text/html": [
       "<ol class=list-inline>\n",
       "\t<li>30</li>\n",
       "\t<li>9</li>\n",
       "</ol>\n"
      ],
      "text/latex": [
       "\\begin{enumerate*}\n",
       "\\item 30\n",
       "\\item 9\n",
       "\\end{enumerate*}\n"
      ],
      "text/markdown": [
       "1. 30\n",
       "2. 9\n",
       "\n",
       "\n"
      ],
      "text/plain": [
       "[1] 30  9"
      ]
     },
     "metadata": {},
     "output_type": "display_data"
    }
   ],
   "source": [
    "noMeta<-features_pos[,9:10] \n",
    "head(noMeta)\n",
    "not_zero<-which(colSums(noMeta) != 0)\n",
    "head(not_zero)\n",
    "nonzero <- noMeta[, not_zero]\n",
    "nonzero\n",
    "nonzero_wMeta<-cbind(features_pos[,1:8], nonzero)\n",
    "head(nonzero_wMeta)\n",
    "dim(features_pos)\n",
    "dim(noMeta)\n",
    "dim(nonzero)\n",
    "dim(nonzero_wMeta)"
   ]
  },
  {
   "cell_type": "code",
   "execution_count": 5,
   "metadata": {
    "scrolled": true
   },
   "outputs": [
    {
     "data": {
      "text/html": [
       "0.345310897182987"
      ],
      "text/latex": [
       "0.345310897182987"
      ],
      "text/markdown": [
       "0.345310897182987"
      ],
      "text/plain": [
       "[1] 0.3453109"
      ]
     },
     "metadata": {},
     "output_type": "display_data"
    },
    {
     "data": {
      "text/html": [
       "0.345310897182987"
      ],
      "text/latex": [
       "0.345310897182987"
      ],
      "text/markdown": [
       "0.345310897182987"
      ],
      "text/plain": [
       "[1] 0.3453109"
      ]
     },
     "metadata": {},
     "output_type": "display_data"
    }
   ],
   "source": [
    "pval<-c()\n",
    "\n",
    "for (i in 9:ncol(nonzero_wMeta)) \n",
    "pval<-c(pval,wilcox.test(nonzero_wMeta[,i]~nonzero_wMeta$Treatmentgroup)$p.value)\n",
    "head(pval)\n",
    "pAdj <- p.adjust(pval, method = c(\"fdr\"), n=length(pval)) \n",
    "head(pAdj) \n",
    "\n"
   ]
  },
  {
   "cell_type": "code",
   "execution_count": 6,
   "metadata": {
    "scrolled": true
   },
   "outputs": [
    {
     "data": {
      "text/html": [
       "1"
      ],
      "text/latex": [
       "1"
      ],
      "text/markdown": [
       "1"
      ],
      "text/plain": [
       "[1] 1"
      ]
     },
     "metadata": {},
     "output_type": "display_data"
    }
   ],
   "source": [
    "length(pval)"
   ]
  },
  {
   "cell_type": "code",
   "execution_count": 7,
   "metadata": {
    "scrolled": true
   },
   "outputs": [
    {
     "data": {
      "text/html": [
       "1"
      ],
      "text/latex": [
       "1"
      ],
      "text/markdown": [
       "1"
      ],
      "text/plain": [
       "[1] 1"
      ]
     },
     "metadata": {},
     "output_type": "display_data"
    }
   ],
   "source": [
    "length(pAdj)"
   ]
  },
  {
   "cell_type": "code",
   "execution_count": 8,
   "metadata": {},
   "outputs": [
    {
     "ename": "ERROR",
     "evalue": "Error in apply(nonzero_wMeta[, 9:ncol(nonzero_wMeta)], 2, function(x) tapply(x, : dim(X) must have a positive length\n",
     "output_type": "error",
     "traceback": [
      "Error in apply(nonzero_wMeta[, 9:ncol(nonzero_wMeta)], 2, function(x) tapply(x, : dim(X) must have a positive length\nTraceback:\n",
      "1. apply(nonzero_wMeta[, 9:ncol(nonzero_wMeta)], 2, function(x) tapply(x, \n .     nonzero_wMeta$Treatmentgroup, function(x) mean(x)))",
      "2. stop(\"dim(X) must have a positive length\")"
     ]
    }
   ],
   "source": [
    "avg<- apply(nonzero_wMeta[,9:ncol(nonzero_wMeta)], 2, function(x) tapply(x, nonzero_wMeta$Treatmentgroup, function(x) mean(x))) \n",
    "\n",
    "dim(avg) \n",
    "\n",
    "avg[,1:2]\n",
    "\n",
    "fch <- apply(avg, 2, function(x) x[1]/x[2])\n",
    "\n",
    "head(fch)\n",
    "is(fch)"
   ]
  },
  {
   "cell_type": "code",
   "execution_count": 9,
   "metadata": {
    "scrolled": true
   },
   "outputs": [
    {
     "ename": "ERROR",
     "evalue": "Error in eval(expr, envir, enclos): object 'fch' not found\n",
     "output_type": "error",
     "traceback": [
      "Error in eval(expr, envir, enclos): object 'fch' not found\nTraceback:\n"
     ]
    }
   ],
   "source": [
    "fch"
   ]
  },
  {
   "cell_type": "code",
   "execution_count": 10,
   "metadata": {
    "scrolled": false
   },
   "outputs": [],
   "source": [
    "df <- data.frame(pval, pAdj)\n",
    "write.csv(df, \"CAR-time-RA-wilcox-1B-3B.csv\")"
   ]
  },
  {
   "cell_type": "code",
   "execution_count": null,
   "metadata": {},
   "outputs": [],
   "source": []
  },
  {
   "cell_type": "code",
   "execution_count": null,
   "metadata": {},
   "outputs": [],
   "source": []
  },
  {
   "cell_type": "code",
   "execution_count": null,
   "metadata": {},
   "outputs": [],
   "source": []
  },
  {
   "cell_type": "code",
   "execution_count": null,
   "metadata": {},
   "outputs": [],
   "source": []
  },
  {
   "cell_type": "code",
   "execution_count": null,
   "metadata": {},
   "outputs": [],
   "source": []
  },
  {
   "cell_type": "code",
   "execution_count": null,
   "metadata": {},
   "outputs": [],
   "source": []
  }
 ],
 "metadata": {
  "kernelspec": {
   "display_name": "R",
   "language": "R",
   "name": "ir"
  },
  "language_info": {
   "codemirror_mode": "r",
   "file_extension": ".r",
   "mimetype": "text/x-r-source",
   "name": "R",
   "pygments_lexer": "r",
   "version": "3.6.1"
  }
 },
 "nbformat": 4,
 "nbformat_minor": 2
}
