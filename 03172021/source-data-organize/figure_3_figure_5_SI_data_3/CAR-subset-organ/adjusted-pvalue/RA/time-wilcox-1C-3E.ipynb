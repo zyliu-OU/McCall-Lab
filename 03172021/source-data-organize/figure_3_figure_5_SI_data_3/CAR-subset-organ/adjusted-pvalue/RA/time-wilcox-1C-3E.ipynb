{
 "cells": [
  {
   "cell_type": "code",
   "execution_count": 1,
   "metadata": {},
   "outputs": [],
   "source": [
    "a <- read.csv(\"03172021-CAR-time-RA-M-F.csv\")"
   ]
  },
  {
   "cell_type": "code",
   "execution_count": 2,
   "metadata": {},
   "outputs": [
    {
     "data": {
      "text/html": [
       "<table>\n",
       "<thead><tr><th scope=col>filename</th><th scope=col>MouseID</th><th scope=col>Treatmentgroup</th><th scope=col>status</th><th scope=col>DPI</th><th scope=col>organ</th><th scope=col>well_position</th><th scope=col>plate</th><th scope=col>CAR_mid_chain</th><th scope=col>CAR_long_chain</th></tr></thead>\n",
       "<tbody>\n",
       "\t<tr><td>X501_Group1A_50dpi_RA_251_B_A1_P125.mzXML</td><td>501                                      </td><td>Group1A                                  </td><td>naive                                    </td><td>DPI_50                                   </td><td>RA                                       </td><td>A1                                       </td><td>P125                                     </td><td>0                                        </td><td>0.000944156                              </td></tr>\n",
       "\t<tr><td>X502_Group1A_50dpi_RA_252_B_A2_P125.mzXML</td><td>502                                      </td><td>Group1A                                  </td><td>naive                                    </td><td>DPI_50                                   </td><td>RA                                       </td><td>A2                                       </td><td>P125                                     </td><td>0                                        </td><td>0.003293008                              </td></tr>\n",
       "\t<tr><td>X503_Group1A_50dpi_RA_253_B_A3_P125.mzXML</td><td>503                                      </td><td>Group1A                                  </td><td>naive                                    </td><td>DPI_50                                   </td><td>RA                                       </td><td>A3                                       </td><td>P125                                     </td><td>0                                        </td><td>0.002768824                              </td></tr>\n",
       "\t<tr><td>X504_Group1A_50dpi_RA_254_B_A4_P125.mzXML</td><td>504                                      </td><td>Group1A                                  </td><td>naive                                    </td><td>DPI_50                                   </td><td>RA                                       </td><td>A4                                       </td><td>P125                                     </td><td>0                                        </td><td>0.003315529                              </td></tr>\n",
       "\t<tr><td>X505_Group1A_50dpi_RA_255_B_A5_P125.mzXML</td><td>505                                      </td><td>Group1A                                  </td><td>naive                                    </td><td>DPI_50                                   </td><td>RA                                       </td><td>A5                                       </td><td>P125                                     </td><td>0                                        </td><td>0.002373393                              </td></tr>\n",
       "\t<tr><td>X521_Group1A_50dpi_RA_256_B_A6_P125.mzXML</td><td>521                                      </td><td>Group1A                                  </td><td>naive                                    </td><td>DPI_50                                   </td><td>RA                                       </td><td>A6                                       </td><td>P125                                     </td><td>0                                        </td><td>0.000169500                              </td></tr>\n",
       "</tbody>\n",
       "</table>\n"
      ],
      "text/latex": [
       "\\begin{tabular}{r|llllllllll}\n",
       " filename & MouseID & Treatmentgroup & status & DPI & organ & well\\_position & plate & CAR\\_mid\\_chain & CAR\\_long\\_chain\\\\\n",
       "\\hline\n",
       "\t X501\\_Group1A\\_50dpi\\_RA\\_251\\_B\\_A1\\_P125.mzXML & 501                                                     & Group1A                                                 & naive                                                   & DPI\\_50                                                & RA                                                      & A1                                                      & P125                                                    & 0                                                       & 0.000944156                                            \\\\\n",
       "\t X502\\_Group1A\\_50dpi\\_RA\\_252\\_B\\_A2\\_P125.mzXML & 502                                                     & Group1A                                                 & naive                                                   & DPI\\_50                                                & RA                                                      & A2                                                      & P125                                                    & 0                                                       & 0.003293008                                            \\\\\n",
       "\t X503\\_Group1A\\_50dpi\\_RA\\_253\\_B\\_A3\\_P125.mzXML & 503                                                     & Group1A                                                 & naive                                                   & DPI\\_50                                                & RA                                                      & A3                                                      & P125                                                    & 0                                                       & 0.002768824                                            \\\\\n",
       "\t X504\\_Group1A\\_50dpi\\_RA\\_254\\_B\\_A4\\_P125.mzXML & 504                                                     & Group1A                                                 & naive                                                   & DPI\\_50                                                & RA                                                      & A4                                                      & P125                                                    & 0                                                       & 0.003315529                                            \\\\\n",
       "\t X505\\_Group1A\\_50dpi\\_RA\\_255\\_B\\_A5\\_P125.mzXML & 505                                                     & Group1A                                                 & naive                                                   & DPI\\_50                                                & RA                                                      & A5                                                      & P125                                                    & 0                                                       & 0.002373393                                            \\\\\n",
       "\t X521\\_Group1A\\_50dpi\\_RA\\_256\\_B\\_A6\\_P125.mzXML & 521                                                     & Group1A                                                 & naive                                                   & DPI\\_50                                                & RA                                                      & A6                                                      & P125                                                    & 0                                                       & 0.000169500                                            \\\\\n",
       "\\end{tabular}\n"
      ],
      "text/markdown": [
       "\n",
       "| filename | MouseID | Treatmentgroup | status | DPI | organ | well_position | plate | CAR_mid_chain | CAR_long_chain |\n",
       "|---|---|---|---|---|---|---|---|---|---|\n",
       "| X501_Group1A_50dpi_RA_251_B_A1_P125.mzXML | 501                                       | Group1A                                   | naive                                     | DPI_50                                    | RA                                        | A1                                        | P125                                      | 0                                         | 0.000944156                               |\n",
       "| X502_Group1A_50dpi_RA_252_B_A2_P125.mzXML | 502                                       | Group1A                                   | naive                                     | DPI_50                                    | RA                                        | A2                                        | P125                                      | 0                                         | 0.003293008                               |\n",
       "| X503_Group1A_50dpi_RA_253_B_A3_P125.mzXML | 503                                       | Group1A                                   | naive                                     | DPI_50                                    | RA                                        | A3                                        | P125                                      | 0                                         | 0.002768824                               |\n",
       "| X504_Group1A_50dpi_RA_254_B_A4_P125.mzXML | 504                                       | Group1A                                   | naive                                     | DPI_50                                    | RA                                        | A4                                        | P125                                      | 0                                         | 0.003315529                               |\n",
       "| X505_Group1A_50dpi_RA_255_B_A5_P125.mzXML | 505                                       | Group1A                                   | naive                                     | DPI_50                                    | RA                                        | A5                                        | P125                                      | 0                                         | 0.002373393                               |\n",
       "| X521_Group1A_50dpi_RA_256_B_A6_P125.mzXML | 521                                       | Group1A                                   | naive                                     | DPI_50                                    | RA                                        | A6                                        | P125                                      | 0                                         | 0.000169500                               |\n",
       "\n"
      ],
      "text/plain": [
       "  filename                                  MouseID Treatmentgroup status\n",
       "1 X501_Group1A_50dpi_RA_251_B_A1_P125.mzXML 501     Group1A        naive \n",
       "2 X502_Group1A_50dpi_RA_252_B_A2_P125.mzXML 502     Group1A        naive \n",
       "3 X503_Group1A_50dpi_RA_253_B_A3_P125.mzXML 503     Group1A        naive \n",
       "4 X504_Group1A_50dpi_RA_254_B_A4_P125.mzXML 504     Group1A        naive \n",
       "5 X505_Group1A_50dpi_RA_255_B_A5_P125.mzXML 505     Group1A        naive \n",
       "6 X521_Group1A_50dpi_RA_256_B_A6_P125.mzXML 521     Group1A        naive \n",
       "  DPI    organ well_position plate CAR_mid_chain CAR_long_chain\n",
       "1 DPI_50 RA    A1            P125  0             0.000944156   \n",
       "2 DPI_50 RA    A2            P125  0             0.003293008   \n",
       "3 DPI_50 RA    A3            P125  0             0.002768824   \n",
       "4 DPI_50 RA    A4            P125  0             0.003315529   \n",
       "5 DPI_50 RA    A5            P125  0             0.002373393   \n",
       "6 DPI_50 RA    A6            P125  0             0.000169500   "
      ]
     },
     "metadata": {},
     "output_type": "display_data"
    },
    {
     "data": {
      "text/html": [
       "<ol class=list-inline>\n",
       "\t<li>90</li>\n",
       "\t<li>10</li>\n",
       "</ol>\n"
      ],
      "text/latex": [
       "\\begin{enumerate*}\n",
       "\\item 90\n",
       "\\item 10\n",
       "\\end{enumerate*}\n"
      ],
      "text/markdown": [
       "1. 90\n",
       "2. 10\n",
       "\n",
       "\n"
      ],
      "text/plain": [
       "[1] 90 10"
      ]
     },
     "metadata": {},
     "output_type": "display_data"
    }
   ],
   "source": [
    "head(a)\n",
    "dim(a)"
   ]
  },
  {
   "cell_type": "code",
   "execution_count": 3,
   "metadata": {},
   "outputs": [
    {
     "data": {
      "text/html": [
       "<table>\n",
       "<thead><tr><th></th><th scope=col>filename</th><th scope=col>MouseID</th><th scope=col>Treatmentgroup</th><th scope=col>status</th><th scope=col>DPI</th><th scope=col>organ</th><th scope=col>well_position</th><th scope=col>plate</th><th scope=col>CAR_mid_chain</th><th scope=col>CAR_long_chain</th></tr></thead>\n",
       "<tbody>\n",
       "\t<tr><th scope=row>31</th><td>X511_Group1C_142dpi_RA_161_G_A1_P124.mzXML</td><td>511                                       </td><td>Group1C                                   </td><td>naive                                     </td><td>DPI_142                                   </td><td>RA                                        </td><td>A1                                        </td><td>P124                                      </td><td>0.00e+00                                  </td><td>0.000722040                               </td></tr>\n",
       "\t<tr><th scope=row>32</th><td>X512_Group1C_142dpi_RA_162_G_A2_P124.mzXML</td><td>512                                       </td><td>Group1C                                   </td><td>naive                                     </td><td>DPI_142                                   </td><td>RA                                        </td><td>A2                                        </td><td>P124                                      </td><td>3.25e-05                                  </td><td>0.005251773                               </td></tr>\n",
       "\t<tr><th scope=row>33</th><td>X513_Group1C_142dpi_RA_163_G_A3_P124.mzXML</td><td>513                                       </td><td>Group1C                                   </td><td>naive                                     </td><td>DPI_142                                   </td><td>RA                                        </td><td>A3                                        </td><td>P124                                      </td><td>0.00e+00                                  </td><td>0.001428677                               </td></tr>\n",
       "\t<tr><th scope=row>34</th><td>X514_Group1C_142dpi_RA_164_G_A4_P124.mzXML</td><td>514                                       </td><td>Group1C                                   </td><td>naive                                     </td><td>DPI_142                                   </td><td>RA                                        </td><td>A4                                        </td><td>P124                                      </td><td>0.00e+00                                  </td><td>0.001536334                               </td></tr>\n",
       "\t<tr><th scope=row>35</th><td>X515_Group1C_142dpi_RA_165_G_A5_P124.mzXML</td><td>515                                       </td><td>Group1C                                   </td><td>naive                                     </td><td>DPI_142                                   </td><td>RA                                        </td><td>A5                                        </td><td>P124                                      </td><td>0.00e+00                                  </td><td>0.000752024                               </td></tr>\n",
       "\t<tr><th scope=row>36</th><td>X531_Group1C_142dpi_RA_166_G_A6_P124.mzXML</td><td>531                                       </td><td>Group1C                                   </td><td>naive                                     </td><td>DPI_142                                   </td><td>RA                                        </td><td>A6                                        </td><td>P124                                      </td><td>0.00e+00                                  </td><td>0.001017006                               </td></tr>\n",
       "</tbody>\n",
       "</table>\n"
      ],
      "text/latex": [
       "\\begin{tabular}{r|llllllllll}\n",
       "  & filename & MouseID & Treatmentgroup & status & DPI & organ & well\\_position & plate & CAR\\_mid\\_chain & CAR\\_long\\_chain\\\\\n",
       "\\hline\n",
       "\t31 & X511\\_Group1C\\_142dpi\\_RA\\_161\\_G\\_A1\\_P124.mzXML & 511                                                      & Group1C                                                  & naive                                                    & DPI\\_142                                                & RA                                                       & A1                                                       & P124                                                     & 0.00e+00                                                 & 0.000722040                                             \\\\\n",
       "\t32 & X512\\_Group1C\\_142dpi\\_RA\\_162\\_G\\_A2\\_P124.mzXML & 512                                                      & Group1C                                                  & naive                                                    & DPI\\_142                                                & RA                                                       & A2                                                       & P124                                                     & 3.25e-05                                                 & 0.005251773                                             \\\\\n",
       "\t33 & X513\\_Group1C\\_142dpi\\_RA\\_163\\_G\\_A3\\_P124.mzXML & 513                                                      & Group1C                                                  & naive                                                    & DPI\\_142                                                & RA                                                       & A3                                                       & P124                                                     & 0.00e+00                                                 & 0.001428677                                             \\\\\n",
       "\t34 & X514\\_Group1C\\_142dpi\\_RA\\_164\\_G\\_A4\\_P124.mzXML & 514                                                      & Group1C                                                  & naive                                                    & DPI\\_142                                                & RA                                                       & A4                                                       & P124                                                     & 0.00e+00                                                 & 0.001536334                                             \\\\\n",
       "\t35 & X515\\_Group1C\\_142dpi\\_RA\\_165\\_G\\_A5\\_P124.mzXML & 515                                                      & Group1C                                                  & naive                                                    & DPI\\_142                                                & RA                                                       & A5                                                       & P124                                                     & 0.00e+00                                                 & 0.000752024                                             \\\\\n",
       "\t36 & X531\\_Group1C\\_142dpi\\_RA\\_166\\_G\\_A6\\_P124.mzXML & 531                                                      & Group1C                                                  & naive                                                    & DPI\\_142                                                & RA                                                       & A6                                                       & P124                                                     & 0.00e+00                                                 & 0.001017006                                             \\\\\n",
       "\\end{tabular}\n"
      ],
      "text/markdown": [
       "\n",
       "| <!--/--> | filename | MouseID | Treatmentgroup | status | DPI | organ | well_position | plate | CAR_mid_chain | CAR_long_chain |\n",
       "|---|---|---|---|---|---|---|---|---|---|---|\n",
       "| 31 | X511_Group1C_142dpi_RA_161_G_A1_P124.mzXML | 511                                        | Group1C                                    | naive                                      | DPI_142                                    | RA                                         | A1                                         | P124                                       | 0.00e+00                                   | 0.000722040                                |\n",
       "| 32 | X512_Group1C_142dpi_RA_162_G_A2_P124.mzXML | 512                                        | Group1C                                    | naive                                      | DPI_142                                    | RA                                         | A2                                         | P124                                       | 3.25e-05                                   | 0.005251773                                |\n",
       "| 33 | X513_Group1C_142dpi_RA_163_G_A3_P124.mzXML | 513                                        | Group1C                                    | naive                                      | DPI_142                                    | RA                                         | A3                                         | P124                                       | 0.00e+00                                   | 0.001428677                                |\n",
       "| 34 | X514_Group1C_142dpi_RA_164_G_A4_P124.mzXML | 514                                        | Group1C                                    | naive                                      | DPI_142                                    | RA                                         | A4                                         | P124                                       | 0.00e+00                                   | 0.001536334                                |\n",
       "| 35 | X515_Group1C_142dpi_RA_165_G_A5_P124.mzXML | 515                                        | Group1C                                    | naive                                      | DPI_142                                    | RA                                         | A5                                         | P124                                       | 0.00e+00                                   | 0.000752024                                |\n",
       "| 36 | X531_Group1C_142dpi_RA_166_G_A6_P124.mzXML | 531                                        | Group1C                                    | naive                                      | DPI_142                                    | RA                                         | A6                                         | P124                                       | 0.00e+00                                   | 0.001017006                                |\n",
       "\n"
      ],
      "text/plain": [
       "   filename                                   MouseID Treatmentgroup status\n",
       "31 X511_Group1C_142dpi_RA_161_G_A1_P124.mzXML 511     Group1C        naive \n",
       "32 X512_Group1C_142dpi_RA_162_G_A2_P124.mzXML 512     Group1C        naive \n",
       "33 X513_Group1C_142dpi_RA_163_G_A3_P124.mzXML 513     Group1C        naive \n",
       "34 X514_Group1C_142dpi_RA_164_G_A4_P124.mzXML 514     Group1C        naive \n",
       "35 X515_Group1C_142dpi_RA_165_G_A5_P124.mzXML 515     Group1C        naive \n",
       "36 X531_Group1C_142dpi_RA_166_G_A6_P124.mzXML 531     Group1C        naive \n",
       "   DPI     organ well_position plate CAR_mid_chain CAR_long_chain\n",
       "31 DPI_142 RA    A1            P124  0.00e+00      0.000722040   \n",
       "32 DPI_142 RA    A2            P124  3.25e-05      0.005251773   \n",
       "33 DPI_142 RA    A3            P124  0.00e+00      0.001428677   \n",
       "34 DPI_142 RA    A4            P124  0.00e+00      0.001536334   \n",
       "35 DPI_142 RA    A5            P124  0.00e+00      0.000752024   \n",
       "36 DPI_142 RA    A6            P124  0.00e+00      0.001017006   "
      ]
     },
     "metadata": {},
     "output_type": "display_data"
    },
    {
     "data": {
      "text/html": [
       "<ol class=list-inline>\n",
       "\t<li>30</li>\n",
       "\t<li>10</li>\n",
       "</ol>\n"
      ],
      "text/latex": [
       "\\begin{enumerate*}\n",
       "\\item 30\n",
       "\\item 10\n",
       "\\end{enumerate*}\n"
      ],
      "text/markdown": [
       "1. 30\n",
       "2. 10\n",
       "\n",
       "\n"
      ],
      "text/plain": [
       "[1] 30 10"
      ]
     },
     "metadata": {},
     "output_type": "display_data"
    }
   ],
   "source": [
    "features_pos<-droplevels(subset(a, a$Treatmentgroup==c(\"Group1C\")|a$Treatmentgroup==c(\"Group3E\")))\n",
    "head(features_pos)\n",
    "dim(features_pos)"
   ]
  },
  {
   "cell_type": "code",
   "execution_count": 4,
   "metadata": {
    "scrolled": false
   },
   "outputs": [
    {
     "data": {
      "text/html": [
       "<table>\n",
       "<thead><tr><th></th><th scope=col>CAR_mid_chain</th><th scope=col>CAR_long_chain</th></tr></thead>\n",
       "<tbody>\n",
       "\t<tr><th scope=row>31</th><td>0.00e+00   </td><td>0.000722040</td></tr>\n",
       "\t<tr><th scope=row>32</th><td>3.25e-05   </td><td>0.005251773</td></tr>\n",
       "\t<tr><th scope=row>33</th><td>0.00e+00   </td><td>0.001428677</td></tr>\n",
       "\t<tr><th scope=row>34</th><td>0.00e+00   </td><td>0.001536334</td></tr>\n",
       "\t<tr><th scope=row>35</th><td>0.00e+00   </td><td>0.000752024</td></tr>\n",
       "\t<tr><th scope=row>36</th><td>0.00e+00   </td><td>0.001017006</td></tr>\n",
       "</tbody>\n",
       "</table>\n"
      ],
      "text/latex": [
       "\\begin{tabular}{r|ll}\n",
       "  & CAR\\_mid\\_chain & CAR\\_long\\_chain\\\\\n",
       "\\hline\n",
       "\t31 & 0.00e+00    & 0.000722040\\\\\n",
       "\t32 & 3.25e-05    & 0.005251773\\\\\n",
       "\t33 & 0.00e+00    & 0.001428677\\\\\n",
       "\t34 & 0.00e+00    & 0.001536334\\\\\n",
       "\t35 & 0.00e+00    & 0.000752024\\\\\n",
       "\t36 & 0.00e+00    & 0.001017006\\\\\n",
       "\\end{tabular}\n"
      ],
      "text/markdown": [
       "\n",
       "| <!--/--> | CAR_mid_chain | CAR_long_chain |\n",
       "|---|---|---|\n",
       "| 31 | 0.00e+00    | 0.000722040 |\n",
       "| 32 | 3.25e-05    | 0.005251773 |\n",
       "| 33 | 0.00e+00    | 0.001428677 |\n",
       "| 34 | 0.00e+00    | 0.001536334 |\n",
       "| 35 | 0.00e+00    | 0.000752024 |\n",
       "| 36 | 0.00e+00    | 0.001017006 |\n",
       "\n"
      ],
      "text/plain": [
       "   CAR_mid_chain CAR_long_chain\n",
       "31 0.00e+00      0.000722040   \n",
       "32 3.25e-05      0.005251773   \n",
       "33 0.00e+00      0.001428677   \n",
       "34 0.00e+00      0.001536334   \n",
       "35 0.00e+00      0.000752024   \n",
       "36 0.00e+00      0.001017006   "
      ]
     },
     "metadata": {},
     "output_type": "display_data"
    },
    {
     "data": {
      "text/html": [
       "<dl class=dl-horizontal>\n",
       "\t<dt>CAR_mid_chain</dt>\n",
       "\t\t<dd>1</dd>\n",
       "\t<dt>CAR_long_chain</dt>\n",
       "\t\t<dd>2</dd>\n",
       "</dl>\n"
      ],
      "text/latex": [
       "\\begin{description*}\n",
       "\\item[CAR\\textbackslash{}\\_mid\\textbackslash{}\\_chain] 1\n",
       "\\item[CAR\\textbackslash{}\\_long\\textbackslash{}\\_chain] 2\n",
       "\\end{description*}\n"
      ],
      "text/markdown": [
       "CAR_mid_chain\n",
       ":   1CAR_long_chain\n",
       ":   2\n",
       "\n"
      ],
      "text/plain": [
       " CAR_mid_chain CAR_long_chain \n",
       "             1              2 "
      ]
     },
     "metadata": {},
     "output_type": "display_data"
    },
    {
     "data": {
      "text/html": [
       "<table>\n",
       "<thead><tr><th></th><th scope=col>CAR_mid_chain</th><th scope=col>CAR_long_chain</th></tr></thead>\n",
       "<tbody>\n",
       "\t<tr><th scope=row>31</th><td>0.00e+00   </td><td>0.000722040</td></tr>\n",
       "\t<tr><th scope=row>32</th><td>3.25e-05   </td><td>0.005251773</td></tr>\n",
       "\t<tr><th scope=row>33</th><td>0.00e+00   </td><td>0.001428677</td></tr>\n",
       "\t<tr><th scope=row>34</th><td>0.00e+00   </td><td>0.001536334</td></tr>\n",
       "\t<tr><th scope=row>35</th><td>0.00e+00   </td><td>0.000752024</td></tr>\n",
       "\t<tr><th scope=row>36</th><td>0.00e+00   </td><td>0.001017006</td></tr>\n",
       "\t<tr><th scope=row>37</th><td>0.00e+00   </td><td>0.000325448</td></tr>\n",
       "\t<tr><th scope=row>38</th><td>0.00e+00   </td><td>0.004246878</td></tr>\n",
       "\t<tr><th scope=row>39</th><td>0.00e+00   </td><td>0.001413581</td></tr>\n",
       "\t<tr><th scope=row>40</th><td>0.00e+00   </td><td>0.001296033</td></tr>\n",
       "\t<tr><th scope=row>41</th><td>0.00e+00   </td><td>0.004604176</td></tr>\n",
       "\t<tr><th scope=row>42</th><td>0.00e+00   </td><td>0.002602930</td></tr>\n",
       "\t<tr><th scope=row>43</th><td>0.00e+00   </td><td>0.001975781</td></tr>\n",
       "\t<tr><th scope=row>44</th><td>0.00e+00   </td><td>0.001541476</td></tr>\n",
       "\t<tr><th scope=row>45</th><td>0.00e+00   </td><td>0.005881852</td></tr>\n",
       "\t<tr><th scope=row>76</th><td>0.00e+00   </td><td>0.005147358</td></tr>\n",
       "\t<tr><th scope=row>77</th><td>0.00e+00   </td><td>0.006398734</td></tr>\n",
       "\t<tr><th scope=row>78</th><td>0.00e+00   </td><td>0.004067739</td></tr>\n",
       "\t<tr><th scope=row>79</th><td>0.00e+00   </td><td>0.007727994</td></tr>\n",
       "\t<tr><th scope=row>80</th><td>7.67e-05   </td><td>0.008717704</td></tr>\n",
       "\t<tr><th scope=row>81</th><td>0.00e+00   </td><td>0.001066209</td></tr>\n",
       "\t<tr><th scope=row>82</th><td>0.00e+00   </td><td>0.003285900</td></tr>\n",
       "\t<tr><th scope=row>83</th><td>0.00e+00   </td><td>0.002257876</td></tr>\n",
       "\t<tr><th scope=row>84</th><td>0.00e+00   </td><td>0.003821364</td></tr>\n",
       "\t<tr><th scope=row>85</th><td>0.00e+00   </td><td>0.001684721</td></tr>\n",
       "\t<tr><th scope=row>86</th><td>0.00e+00   </td><td>0.005657812</td></tr>\n",
       "\t<tr><th scope=row>87</th><td>0.00e+00   </td><td>0.003647437</td></tr>\n",
       "\t<tr><th scope=row>88</th><td>0.00e+00   </td><td>0.003431166</td></tr>\n",
       "\t<tr><th scope=row>89</th><td>0.00e+00   </td><td>0.000936574</td></tr>\n",
       "\t<tr><th scope=row>90</th><td>0.00e+00   </td><td>0.002393614</td></tr>\n",
       "</tbody>\n",
       "</table>\n"
      ],
      "text/latex": [
       "\\begin{tabular}{r|ll}\n",
       "  & CAR\\_mid\\_chain & CAR\\_long\\_chain\\\\\n",
       "\\hline\n",
       "\t31 & 0.00e+00    & 0.000722040\\\\\n",
       "\t32 & 3.25e-05    & 0.005251773\\\\\n",
       "\t33 & 0.00e+00    & 0.001428677\\\\\n",
       "\t34 & 0.00e+00    & 0.001536334\\\\\n",
       "\t35 & 0.00e+00    & 0.000752024\\\\\n",
       "\t36 & 0.00e+00    & 0.001017006\\\\\n",
       "\t37 & 0.00e+00    & 0.000325448\\\\\n",
       "\t38 & 0.00e+00    & 0.004246878\\\\\n",
       "\t39 & 0.00e+00    & 0.001413581\\\\\n",
       "\t40 & 0.00e+00    & 0.001296033\\\\\n",
       "\t41 & 0.00e+00    & 0.004604176\\\\\n",
       "\t42 & 0.00e+00    & 0.002602930\\\\\n",
       "\t43 & 0.00e+00    & 0.001975781\\\\\n",
       "\t44 & 0.00e+00    & 0.001541476\\\\\n",
       "\t45 & 0.00e+00    & 0.005881852\\\\\n",
       "\t76 & 0.00e+00    & 0.005147358\\\\\n",
       "\t77 & 0.00e+00    & 0.006398734\\\\\n",
       "\t78 & 0.00e+00    & 0.004067739\\\\\n",
       "\t79 & 0.00e+00    & 0.007727994\\\\\n",
       "\t80 & 7.67e-05    & 0.008717704\\\\\n",
       "\t81 & 0.00e+00    & 0.001066209\\\\\n",
       "\t82 & 0.00e+00    & 0.003285900\\\\\n",
       "\t83 & 0.00e+00    & 0.002257876\\\\\n",
       "\t84 & 0.00e+00    & 0.003821364\\\\\n",
       "\t85 & 0.00e+00    & 0.001684721\\\\\n",
       "\t86 & 0.00e+00    & 0.005657812\\\\\n",
       "\t87 & 0.00e+00    & 0.003647437\\\\\n",
       "\t88 & 0.00e+00    & 0.003431166\\\\\n",
       "\t89 & 0.00e+00    & 0.000936574\\\\\n",
       "\t90 & 0.00e+00    & 0.002393614\\\\\n",
       "\\end{tabular}\n"
      ],
      "text/markdown": [
       "\n",
       "| <!--/--> | CAR_mid_chain | CAR_long_chain |\n",
       "|---|---|---|\n",
       "| 31 | 0.00e+00    | 0.000722040 |\n",
       "| 32 | 3.25e-05    | 0.005251773 |\n",
       "| 33 | 0.00e+00    | 0.001428677 |\n",
       "| 34 | 0.00e+00    | 0.001536334 |\n",
       "| 35 | 0.00e+00    | 0.000752024 |\n",
       "| 36 | 0.00e+00    | 0.001017006 |\n",
       "| 37 | 0.00e+00    | 0.000325448 |\n",
       "| 38 | 0.00e+00    | 0.004246878 |\n",
       "| 39 | 0.00e+00    | 0.001413581 |\n",
       "| 40 | 0.00e+00    | 0.001296033 |\n",
       "| 41 | 0.00e+00    | 0.004604176 |\n",
       "| 42 | 0.00e+00    | 0.002602930 |\n",
       "| 43 | 0.00e+00    | 0.001975781 |\n",
       "| 44 | 0.00e+00    | 0.001541476 |\n",
       "| 45 | 0.00e+00    | 0.005881852 |\n",
       "| 76 | 0.00e+00    | 0.005147358 |\n",
       "| 77 | 0.00e+00    | 0.006398734 |\n",
       "| 78 | 0.00e+00    | 0.004067739 |\n",
       "| 79 | 0.00e+00    | 0.007727994 |\n",
       "| 80 | 7.67e-05    | 0.008717704 |\n",
       "| 81 | 0.00e+00    | 0.001066209 |\n",
       "| 82 | 0.00e+00    | 0.003285900 |\n",
       "| 83 | 0.00e+00    | 0.002257876 |\n",
       "| 84 | 0.00e+00    | 0.003821364 |\n",
       "| 85 | 0.00e+00    | 0.001684721 |\n",
       "| 86 | 0.00e+00    | 0.005657812 |\n",
       "| 87 | 0.00e+00    | 0.003647437 |\n",
       "| 88 | 0.00e+00    | 0.003431166 |\n",
       "| 89 | 0.00e+00    | 0.000936574 |\n",
       "| 90 | 0.00e+00    | 0.002393614 |\n",
       "\n"
      ],
      "text/plain": [
       "   CAR_mid_chain CAR_long_chain\n",
       "31 0.00e+00      0.000722040   \n",
       "32 3.25e-05      0.005251773   \n",
       "33 0.00e+00      0.001428677   \n",
       "34 0.00e+00      0.001536334   \n",
       "35 0.00e+00      0.000752024   \n",
       "36 0.00e+00      0.001017006   \n",
       "37 0.00e+00      0.000325448   \n",
       "38 0.00e+00      0.004246878   \n",
       "39 0.00e+00      0.001413581   \n",
       "40 0.00e+00      0.001296033   \n",
       "41 0.00e+00      0.004604176   \n",
       "42 0.00e+00      0.002602930   \n",
       "43 0.00e+00      0.001975781   \n",
       "44 0.00e+00      0.001541476   \n",
       "45 0.00e+00      0.005881852   \n",
       "76 0.00e+00      0.005147358   \n",
       "77 0.00e+00      0.006398734   \n",
       "78 0.00e+00      0.004067739   \n",
       "79 0.00e+00      0.007727994   \n",
       "80 7.67e-05      0.008717704   \n",
       "81 0.00e+00      0.001066209   \n",
       "82 0.00e+00      0.003285900   \n",
       "83 0.00e+00      0.002257876   \n",
       "84 0.00e+00      0.003821364   \n",
       "85 0.00e+00      0.001684721   \n",
       "86 0.00e+00      0.005657812   \n",
       "87 0.00e+00      0.003647437   \n",
       "88 0.00e+00      0.003431166   \n",
       "89 0.00e+00      0.000936574   \n",
       "90 0.00e+00      0.002393614   "
      ]
     },
     "metadata": {},
     "output_type": "display_data"
    },
    {
     "data": {
      "text/html": [
       "<table>\n",
       "<thead><tr><th></th><th scope=col>filename</th><th scope=col>MouseID</th><th scope=col>Treatmentgroup</th><th scope=col>status</th><th scope=col>DPI</th><th scope=col>organ</th><th scope=col>well_position</th><th scope=col>plate</th><th scope=col>CAR_mid_chain</th><th scope=col>CAR_long_chain</th></tr></thead>\n",
       "<tbody>\n",
       "\t<tr><th scope=row>31</th><td>X511_Group1C_142dpi_RA_161_G_A1_P124.mzXML</td><td>511                                       </td><td>Group1C                                   </td><td>naive                                     </td><td>DPI_142                                   </td><td>RA                                        </td><td>A1                                        </td><td>P124                                      </td><td>0.00e+00                                  </td><td>0.000722040                               </td></tr>\n",
       "\t<tr><th scope=row>32</th><td>X512_Group1C_142dpi_RA_162_G_A2_P124.mzXML</td><td>512                                       </td><td>Group1C                                   </td><td>naive                                     </td><td>DPI_142                                   </td><td>RA                                        </td><td>A2                                        </td><td>P124                                      </td><td>3.25e-05                                  </td><td>0.005251773                               </td></tr>\n",
       "\t<tr><th scope=row>33</th><td>X513_Group1C_142dpi_RA_163_G_A3_P124.mzXML</td><td>513                                       </td><td>Group1C                                   </td><td>naive                                     </td><td>DPI_142                                   </td><td>RA                                        </td><td>A3                                        </td><td>P124                                      </td><td>0.00e+00                                  </td><td>0.001428677                               </td></tr>\n",
       "\t<tr><th scope=row>34</th><td>X514_Group1C_142dpi_RA_164_G_A4_P124.mzXML</td><td>514                                       </td><td>Group1C                                   </td><td>naive                                     </td><td>DPI_142                                   </td><td>RA                                        </td><td>A4                                        </td><td>P124                                      </td><td>0.00e+00                                  </td><td>0.001536334                               </td></tr>\n",
       "\t<tr><th scope=row>35</th><td>X515_Group1C_142dpi_RA_165_G_A5_P124.mzXML</td><td>515                                       </td><td>Group1C                                   </td><td>naive                                     </td><td>DPI_142                                   </td><td>RA                                        </td><td>A5                                        </td><td>P124                                      </td><td>0.00e+00                                  </td><td>0.000752024                               </td></tr>\n",
       "\t<tr><th scope=row>36</th><td>X531_Group1C_142dpi_RA_166_G_A6_P124.mzXML</td><td>531                                       </td><td>Group1C                                   </td><td>naive                                     </td><td>DPI_142                                   </td><td>RA                                        </td><td>A6                                        </td><td>P124                                      </td><td>0.00e+00                                  </td><td>0.001017006                               </td></tr>\n",
       "</tbody>\n",
       "</table>\n"
      ],
      "text/latex": [
       "\\begin{tabular}{r|llllllllll}\n",
       "  & filename & MouseID & Treatmentgroup & status & DPI & organ & well\\_position & plate & CAR\\_mid\\_chain & CAR\\_long\\_chain\\\\\n",
       "\\hline\n",
       "\t31 & X511\\_Group1C\\_142dpi\\_RA\\_161\\_G\\_A1\\_P124.mzXML & 511                                                      & Group1C                                                  & naive                                                    & DPI\\_142                                                & RA                                                       & A1                                                       & P124                                                     & 0.00e+00                                                 & 0.000722040                                             \\\\\n",
       "\t32 & X512\\_Group1C\\_142dpi\\_RA\\_162\\_G\\_A2\\_P124.mzXML & 512                                                      & Group1C                                                  & naive                                                    & DPI\\_142                                                & RA                                                       & A2                                                       & P124                                                     & 3.25e-05                                                 & 0.005251773                                             \\\\\n",
       "\t33 & X513\\_Group1C\\_142dpi\\_RA\\_163\\_G\\_A3\\_P124.mzXML & 513                                                      & Group1C                                                  & naive                                                    & DPI\\_142                                                & RA                                                       & A3                                                       & P124                                                     & 0.00e+00                                                 & 0.001428677                                             \\\\\n",
       "\t34 & X514\\_Group1C\\_142dpi\\_RA\\_164\\_G\\_A4\\_P124.mzXML & 514                                                      & Group1C                                                  & naive                                                    & DPI\\_142                                                & RA                                                       & A4                                                       & P124                                                     & 0.00e+00                                                 & 0.001536334                                             \\\\\n",
       "\t35 & X515\\_Group1C\\_142dpi\\_RA\\_165\\_G\\_A5\\_P124.mzXML & 515                                                      & Group1C                                                  & naive                                                    & DPI\\_142                                                & RA                                                       & A5                                                       & P124                                                     & 0.00e+00                                                 & 0.000752024                                             \\\\\n",
       "\t36 & X531\\_Group1C\\_142dpi\\_RA\\_166\\_G\\_A6\\_P124.mzXML & 531                                                      & Group1C                                                  & naive                                                    & DPI\\_142                                                & RA                                                       & A6                                                       & P124                                                     & 0.00e+00                                                 & 0.001017006                                             \\\\\n",
       "\\end{tabular}\n"
      ],
      "text/markdown": [
       "\n",
       "| <!--/--> | filename | MouseID | Treatmentgroup | status | DPI | organ | well_position | plate | CAR_mid_chain | CAR_long_chain |\n",
       "|---|---|---|---|---|---|---|---|---|---|---|\n",
       "| 31 | X511_Group1C_142dpi_RA_161_G_A1_P124.mzXML | 511                                        | Group1C                                    | naive                                      | DPI_142                                    | RA                                         | A1                                         | P124                                       | 0.00e+00                                   | 0.000722040                                |\n",
       "| 32 | X512_Group1C_142dpi_RA_162_G_A2_P124.mzXML | 512                                        | Group1C                                    | naive                                      | DPI_142                                    | RA                                         | A2                                         | P124                                       | 3.25e-05                                   | 0.005251773                                |\n",
       "| 33 | X513_Group1C_142dpi_RA_163_G_A3_P124.mzXML | 513                                        | Group1C                                    | naive                                      | DPI_142                                    | RA                                         | A3                                         | P124                                       | 0.00e+00                                   | 0.001428677                                |\n",
       "| 34 | X514_Group1C_142dpi_RA_164_G_A4_P124.mzXML | 514                                        | Group1C                                    | naive                                      | DPI_142                                    | RA                                         | A4                                         | P124                                       | 0.00e+00                                   | 0.001536334                                |\n",
       "| 35 | X515_Group1C_142dpi_RA_165_G_A5_P124.mzXML | 515                                        | Group1C                                    | naive                                      | DPI_142                                    | RA                                         | A5                                         | P124                                       | 0.00e+00                                   | 0.000752024                                |\n",
       "| 36 | X531_Group1C_142dpi_RA_166_G_A6_P124.mzXML | 531                                        | Group1C                                    | naive                                      | DPI_142                                    | RA                                         | A6                                         | P124                                       | 0.00e+00                                   | 0.001017006                                |\n",
       "\n"
      ],
      "text/plain": [
       "   filename                                   MouseID Treatmentgroup status\n",
       "31 X511_Group1C_142dpi_RA_161_G_A1_P124.mzXML 511     Group1C        naive \n",
       "32 X512_Group1C_142dpi_RA_162_G_A2_P124.mzXML 512     Group1C        naive \n",
       "33 X513_Group1C_142dpi_RA_163_G_A3_P124.mzXML 513     Group1C        naive \n",
       "34 X514_Group1C_142dpi_RA_164_G_A4_P124.mzXML 514     Group1C        naive \n",
       "35 X515_Group1C_142dpi_RA_165_G_A5_P124.mzXML 515     Group1C        naive \n",
       "36 X531_Group1C_142dpi_RA_166_G_A6_P124.mzXML 531     Group1C        naive \n",
       "   DPI     organ well_position plate CAR_mid_chain CAR_long_chain\n",
       "31 DPI_142 RA    A1            P124  0.00e+00      0.000722040   \n",
       "32 DPI_142 RA    A2            P124  3.25e-05      0.005251773   \n",
       "33 DPI_142 RA    A3            P124  0.00e+00      0.001428677   \n",
       "34 DPI_142 RA    A4            P124  0.00e+00      0.001536334   \n",
       "35 DPI_142 RA    A5            P124  0.00e+00      0.000752024   \n",
       "36 DPI_142 RA    A6            P124  0.00e+00      0.001017006   "
      ]
     },
     "metadata": {},
     "output_type": "display_data"
    },
    {
     "data": {
      "text/html": [
       "<ol class=list-inline>\n",
       "\t<li>30</li>\n",
       "\t<li>10</li>\n",
       "</ol>\n"
      ],
      "text/latex": [
       "\\begin{enumerate*}\n",
       "\\item 30\n",
       "\\item 10\n",
       "\\end{enumerate*}\n"
      ],
      "text/markdown": [
       "1. 30\n",
       "2. 10\n",
       "\n",
       "\n"
      ],
      "text/plain": [
       "[1] 30 10"
      ]
     },
     "metadata": {},
     "output_type": "display_data"
    },
    {
     "data": {
      "text/html": [
       "<ol class=list-inline>\n",
       "\t<li>30</li>\n",
       "\t<li>2</li>\n",
       "</ol>\n"
      ],
      "text/latex": [
       "\\begin{enumerate*}\n",
       "\\item 30\n",
       "\\item 2\n",
       "\\end{enumerate*}\n"
      ],
      "text/markdown": [
       "1. 30\n",
       "2. 2\n",
       "\n",
       "\n"
      ],
      "text/plain": [
       "[1] 30  2"
      ]
     },
     "metadata": {},
     "output_type": "display_data"
    },
    {
     "data": {
      "text/html": [
       "<ol class=list-inline>\n",
       "\t<li>30</li>\n",
       "\t<li>2</li>\n",
       "</ol>\n"
      ],
      "text/latex": [
       "\\begin{enumerate*}\n",
       "\\item 30\n",
       "\\item 2\n",
       "\\end{enumerate*}\n"
      ],
      "text/markdown": [
       "1. 30\n",
       "2. 2\n",
       "\n",
       "\n"
      ],
      "text/plain": [
       "[1] 30  2"
      ]
     },
     "metadata": {},
     "output_type": "display_data"
    },
    {
     "data": {
      "text/html": [
       "<ol class=list-inline>\n",
       "\t<li>30</li>\n",
       "\t<li>10</li>\n",
       "</ol>\n"
      ],
      "text/latex": [
       "\\begin{enumerate*}\n",
       "\\item 30\n",
       "\\item 10\n",
       "\\end{enumerate*}\n"
      ],
      "text/markdown": [
       "1. 30\n",
       "2. 10\n",
       "\n",
       "\n"
      ],
      "text/plain": [
       "[1] 30 10"
      ]
     },
     "metadata": {},
     "output_type": "display_data"
    }
   ],
   "source": [
    "noMeta<-features_pos[,9:10]\n",
    "head(noMeta)\n",
    "not_zero<-which(colSums(noMeta) != 0)\n",
    "head(not_zero)\n",
    "nonzero <- noMeta[, not_zero]\n",
    "nonzero\n",
    "nonzero_wMeta<-cbind(features_pos[,1:8], nonzero)\n",
    "head(nonzero_wMeta)\n",
    "dim(features_pos)\n",
    "dim(noMeta)\n",
    "dim(nonzero)\n",
    "dim(nonzero_wMeta)"
   ]
  },
  {
   "cell_type": "code",
   "execution_count": 5,
   "metadata": {
    "scrolled": true
   },
   "outputs": [
    {
     "name": "stderr",
     "output_type": "stream",
     "text": [
      "Warning message in wilcox.test.default(x = c(0, 3.25e-05, 0, 0, 0, 0, 0, 0, 0, 0, :\n",
      "\"cannot compute exact p-value with ties\""
     ]
    },
    {
     "data": {
      "text/html": [
       "<ol class=list-inline>\n",
       "\t<li>1</li>\n",
       "\t<li>0.0367175416419757</li>\n",
       "</ol>\n"
      ],
      "text/latex": [
       "\\begin{enumerate*}\n",
       "\\item 1\n",
       "\\item 0.0367175416419757\n",
       "\\end{enumerate*}\n"
      ],
      "text/markdown": [
       "1. 1\n",
       "2. 0.0367175416419757\n",
       "\n",
       "\n"
      ],
      "text/plain": [
       "[1] 1.00000000 0.03671754"
      ]
     },
     "metadata": {},
     "output_type": "display_data"
    },
    {
     "data": {
      "text/html": [
       "<ol class=list-inline>\n",
       "\t<li>1</li>\n",
       "\t<li>0.0734350832839514</li>\n",
       "</ol>\n"
      ],
      "text/latex": [
       "\\begin{enumerate*}\n",
       "\\item 1\n",
       "\\item 0.0734350832839514\n",
       "\\end{enumerate*}\n"
      ],
      "text/markdown": [
       "1. 1\n",
       "2. 0.0734350832839514\n",
       "\n",
       "\n"
      ],
      "text/plain": [
       "[1] 1.00000000 0.07343508"
      ]
     },
     "metadata": {},
     "output_type": "display_data"
    }
   ],
   "source": [
    "pval<-c()\n",
    "\n",
    "for (i in 9:ncol(nonzero_wMeta)) \n",
    "pval<-c(pval,wilcox.test(nonzero_wMeta[,i]~nonzero_wMeta$Treatmentgroup)$p.value)\n",
    "head(pval)\n",
    "pAdj <- p.adjust(pval, method = c(\"fdr\"), n=length(pval)) \n",
    "head(pAdj) \n",
    "\n"
   ]
  },
  {
   "cell_type": "code",
   "execution_count": 6,
   "metadata": {
    "scrolled": true
   },
   "outputs": [
    {
     "data": {
      "text/html": [
       "2"
      ],
      "text/latex": [
       "2"
      ],
      "text/markdown": [
       "2"
      ],
      "text/plain": [
       "[1] 2"
      ]
     },
     "metadata": {},
     "output_type": "display_data"
    }
   ],
   "source": [
    "length(pval)"
   ]
  },
  {
   "cell_type": "code",
   "execution_count": 7,
   "metadata": {
    "scrolled": true
   },
   "outputs": [
    {
     "data": {
      "text/html": [
       "2"
      ],
      "text/latex": [
       "2"
      ],
      "text/markdown": [
       "2"
      ],
      "text/plain": [
       "[1] 2"
      ]
     },
     "metadata": {},
     "output_type": "display_data"
    }
   ],
   "source": [
    "length(pAdj)"
   ]
  },
  {
   "cell_type": "code",
   "execution_count": 8,
   "metadata": {},
   "outputs": [
    {
     "data": {
      "text/html": [
       "<ol class=list-inline>\n",
       "\t<li>2</li>\n",
       "\t<li>2</li>\n",
       "</ol>\n"
      ],
      "text/latex": [
       "\\begin{enumerate*}\n",
       "\\item 2\n",
       "\\item 2\n",
       "\\end{enumerate*}\n"
      ],
      "text/markdown": [
       "1. 2\n",
       "2. 2\n",
       "\n",
       "\n"
      ],
      "text/plain": [
       "[1] 2 2"
      ]
     },
     "metadata": {},
     "output_type": "display_data"
    },
    {
     "data": {
      "text/html": [
       "<table>\n",
       "<thead><tr><th></th><th scope=col>CAR_mid_chain</th><th scope=col>CAR_long_chain</th></tr></thead>\n",
       "<tbody>\n",
       "\t<tr><th scope=row>Group1C</th><td>2.166667e-06</td><td>0.002306401 </td></tr>\n",
       "\t<tr><th scope=row>Group3E</th><td>5.113333e-06</td><td>0.004016147 </td></tr>\n",
       "</tbody>\n",
       "</table>\n"
      ],
      "text/latex": [
       "\\begin{tabular}{r|ll}\n",
       "  & CAR\\_mid\\_chain & CAR\\_long\\_chain\\\\\n",
       "\\hline\n",
       "\tGroup1C & 2.166667e-06 & 0.002306401 \\\\\n",
       "\tGroup3E & 5.113333e-06 & 0.004016147 \\\\\n",
       "\\end{tabular}\n"
      ],
      "text/markdown": [
       "\n",
       "| <!--/--> | CAR_mid_chain | CAR_long_chain |\n",
       "|---|---|---|\n",
       "| Group1C | 2.166667e-06 | 0.002306401  |\n",
       "| Group3E | 5.113333e-06 | 0.004016147  |\n",
       "\n"
      ],
      "text/plain": [
       "        CAR_mid_chain CAR_long_chain\n",
       "Group1C 2.166667e-06  0.002306401   \n",
       "Group3E 5.113333e-06  0.004016147   "
      ]
     },
     "metadata": {},
     "output_type": "display_data"
    },
    {
     "data": {
      "text/html": [
       "<dl class=dl-horizontal>\n",
       "\t<dt>CAR_mid_chain</dt>\n",
       "\t\t<dd>0.423728813559322</dd>\n",
       "\t<dt>CAR_long_chain</dt>\n",
       "\t\t<dd>0.574281946068306</dd>\n",
       "</dl>\n"
      ],
      "text/latex": [
       "\\begin{description*}\n",
       "\\item[CAR\\textbackslash{}\\_mid\\textbackslash{}\\_chain] 0.423728813559322\n",
       "\\item[CAR\\textbackslash{}\\_long\\textbackslash{}\\_chain] 0.574281946068306\n",
       "\\end{description*}\n"
      ],
      "text/markdown": [
       "CAR_mid_chain\n",
       ":   0.423728813559322CAR_long_chain\n",
       ":   0.574281946068306\n",
       "\n"
      ],
      "text/plain": [
       " CAR_mid_chain CAR_long_chain \n",
       "     0.4237288      0.5742819 "
      ]
     },
     "metadata": {},
     "output_type": "display_data"
    },
    {
     "data": {
      "text/html": [
       "<ol class=list-inline>\n",
       "\t<li>'numeric'</li>\n",
       "\t<li>'vector'</li>\n",
       "</ol>\n"
      ],
      "text/latex": [
       "\\begin{enumerate*}\n",
       "\\item 'numeric'\n",
       "\\item 'vector'\n",
       "\\end{enumerate*}\n"
      ],
      "text/markdown": [
       "1. 'numeric'\n",
       "2. 'vector'\n",
       "\n",
       "\n"
      ],
      "text/plain": [
       "[1] \"numeric\" \"vector\" "
      ]
     },
     "metadata": {},
     "output_type": "display_data"
    }
   ],
   "source": [
    "avg<- apply(nonzero_wMeta[,9:ncol(nonzero_wMeta)], 2, function(x) tapply(x, nonzero_wMeta$Treatmentgroup, function(x) mean(x))) \n",
    "\n",
    "dim(avg) \n",
    "\n",
    "avg[,1:2]\n",
    "\n",
    "fch <- apply(avg, 2, function(x) x[1]/x[2])\n",
    "\n",
    "head(fch) \n",
    "is(fch)"
   ]
  },
  {
   "cell_type": "code",
   "execution_count": 9,
   "metadata": {
    "scrolled": true
   },
   "outputs": [
    {
     "data": {
      "text/html": [
       "<dl class=dl-horizontal>\n",
       "\t<dt>CAR_mid_chain</dt>\n",
       "\t\t<dd>0.423728813559322</dd>\n",
       "\t<dt>CAR_long_chain</dt>\n",
       "\t\t<dd>0.574281946068306</dd>\n",
       "</dl>\n"
      ],
      "text/latex": [
       "\\begin{description*}\n",
       "\\item[CAR\\textbackslash{}\\_mid\\textbackslash{}\\_chain] 0.423728813559322\n",
       "\\item[CAR\\textbackslash{}\\_long\\textbackslash{}\\_chain] 0.574281946068306\n",
       "\\end{description*}\n"
      ],
      "text/markdown": [
       "CAR_mid_chain\n",
       ":   0.423728813559322CAR_long_chain\n",
       ":   0.574281946068306\n",
       "\n"
      ],
      "text/plain": [
       " CAR_mid_chain CAR_long_chain \n",
       "     0.4237288      0.5742819 "
      ]
     },
     "metadata": {},
     "output_type": "display_data"
    }
   ],
   "source": [
    "fch"
   ]
  },
  {
   "cell_type": "code",
   "execution_count": 10,
   "metadata": {
    "scrolled": false
   },
   "outputs": [],
   "source": [
    "df <- data.frame(fch,pval, pAdj)\n",
    "write.csv(df, \"CAR-time-RA-wilcox-1C-3E.csv\")"
   ]
  },
  {
   "cell_type": "code",
   "execution_count": null,
   "metadata": {},
   "outputs": [],
   "source": []
  },
  {
   "cell_type": "code",
   "execution_count": null,
   "metadata": {},
   "outputs": [],
   "source": []
  },
  {
   "cell_type": "code",
   "execution_count": null,
   "metadata": {},
   "outputs": [],
   "source": []
  },
  {
   "cell_type": "code",
   "execution_count": null,
   "metadata": {},
   "outputs": [],
   "source": []
  },
  {
   "cell_type": "code",
   "execution_count": null,
   "metadata": {},
   "outputs": [],
   "source": []
  },
  {
   "cell_type": "code",
   "execution_count": null,
   "metadata": {},
   "outputs": [],
   "source": []
  }
 ],
 "metadata": {
  "kernelspec": {
   "display_name": "R",
   "language": "R",
   "name": "ir"
  },
  "language_info": {
   "codemirror_mode": "r",
   "file_extension": ".r",
   "mimetype": "text/x-r-source",
   "name": "R",
   "pygments_lexer": "r",
   "version": "3.6.1"
  }
 },
 "nbformat": 4,
 "nbformat_minor": 2
}
