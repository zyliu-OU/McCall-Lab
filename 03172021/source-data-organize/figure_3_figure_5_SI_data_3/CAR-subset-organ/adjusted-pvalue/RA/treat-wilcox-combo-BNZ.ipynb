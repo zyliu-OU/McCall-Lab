{
 "cells": [
  {
   "cell_type": "code",
   "execution_count": 5,
   "metadata": {},
   "outputs": [],
   "source": [
    "a <- read.csv(\"03172021-CAR-treatment-RA-M-F.csv\")"
   ]
  },
  {
   "cell_type": "code",
   "execution_count": 6,
   "metadata": {},
   "outputs": [
    {
     "data": {
      "text/html": [
       "<table>\n",
       "<thead><tr><th scope=col>filename</th><th scope=col>MouseID</th><th scope=col>Treatmentgroup</th><th scope=col>DPI</th><th scope=col>organ</th><th scope=col>well_position</th><th scope=col>plate</th><th scope=col>CAR_mid_chain</th><th scope=col>CAR_long_chain</th></tr></thead>\n",
       "<tbody>\n",
       "\t<tr><td>X511_Group1C_142dpi_RA_161_G_A1_P124.mzXML</td><td>511                                       </td><td>naive                                     </td><td>142                                       </td><td>RA                                        </td><td>A1                                        </td><td>P124                                      </td><td>0.00e+00                                  </td><td>0.000722040                               </td></tr>\n",
       "\t<tr><td>X512_Group1C_142dpi_RA_162_G_A2_P124.mzXML</td><td>512                                       </td><td>naive                                     </td><td>142                                       </td><td>RA                                        </td><td>A2                                        </td><td>P124                                      </td><td>3.25e-05                                  </td><td>0.005251773                               </td></tr>\n",
       "\t<tr><td>X513_Group1C_142dpi_RA_163_G_A3_P124.mzXML</td><td>513                                       </td><td>naive                                     </td><td>142                                       </td><td>RA                                        </td><td>A3                                        </td><td>P124                                      </td><td>0.00e+00                                  </td><td>0.001428677                               </td></tr>\n",
       "\t<tr><td>X514_Group1C_142dpi_RA_164_G_A4_P124.mzXML</td><td>514                                       </td><td>naive                                     </td><td>142                                       </td><td>RA                                        </td><td>A4                                        </td><td>P124                                      </td><td>0.00e+00                                  </td><td>0.001536334                               </td></tr>\n",
       "\t<tr><td>X515_Group1C_142dpi_RA_165_G_A5_P124.mzXML</td><td>515                                       </td><td>naive                                     </td><td>142                                       </td><td>RA                                        </td><td>A5                                        </td><td>P124                                      </td><td>0.00e+00                                  </td><td>0.000752024                               </td></tr>\n",
       "\t<tr><td>X531_Group1C_142dpi_RA_166_G_A6_P124.mzXML</td><td>531                                       </td><td>naive                                     </td><td>142                                       </td><td>RA                                        </td><td>A6                                        </td><td>P124                                      </td><td>0.00e+00                                  </td><td>0.001017006                               </td></tr>\n",
       "</tbody>\n",
       "</table>\n"
      ],
      "text/latex": [
       "\\begin{tabular}{r|lllllllll}\n",
       " filename & MouseID & Treatmentgroup & DPI & organ & well\\_position & plate & CAR\\_mid\\_chain & CAR\\_long\\_chain\\\\\n",
       "\\hline\n",
       "\t X511\\_Group1C\\_142dpi\\_RA\\_161\\_G\\_A1\\_P124.mzXML & 511                                                      & naive                                                    & 142                                                      & RA                                                       & A1                                                       & P124                                                     & 0.00e+00                                                 & 0.000722040                                             \\\\\n",
       "\t X512\\_Group1C\\_142dpi\\_RA\\_162\\_G\\_A2\\_P124.mzXML & 512                                                      & naive                                                    & 142                                                      & RA                                                       & A2                                                       & P124                                                     & 3.25e-05                                                 & 0.005251773                                             \\\\\n",
       "\t X513\\_Group1C\\_142dpi\\_RA\\_163\\_G\\_A3\\_P124.mzXML & 513                                                      & naive                                                    & 142                                                      & RA                                                       & A3                                                       & P124                                                     & 0.00e+00                                                 & 0.001428677                                             \\\\\n",
       "\t X514\\_Group1C\\_142dpi\\_RA\\_164\\_G\\_A4\\_P124.mzXML & 514                                                      & naive                                                    & 142                                                      & RA                                                       & A4                                                       & P124                                                     & 0.00e+00                                                 & 0.001536334                                             \\\\\n",
       "\t X515\\_Group1C\\_142dpi\\_RA\\_165\\_G\\_A5\\_P124.mzXML & 515                                                      & naive                                                    & 142                                                      & RA                                                       & A5                                                       & P124                                                     & 0.00e+00                                                 & 0.000752024                                             \\\\\n",
       "\t X531\\_Group1C\\_142dpi\\_RA\\_166\\_G\\_A6\\_P124.mzXML & 531                                                      & naive                                                    & 142                                                      & RA                                                       & A6                                                       & P124                                                     & 0.00e+00                                                 & 0.001017006                                             \\\\\n",
       "\\end{tabular}\n"
      ],
      "text/markdown": [
       "\n",
       "| filename | MouseID | Treatmentgroup | DPI | organ | well_position | plate | CAR_mid_chain | CAR_long_chain |\n",
       "|---|---|---|---|---|---|---|---|---|\n",
       "| X511_Group1C_142dpi_RA_161_G_A1_P124.mzXML | 511                                        | naive                                      | 142                                        | RA                                         | A1                                         | P124                                       | 0.00e+00                                   | 0.000722040                                |\n",
       "| X512_Group1C_142dpi_RA_162_G_A2_P124.mzXML | 512                                        | naive                                      | 142                                        | RA                                         | A2                                         | P124                                       | 3.25e-05                                   | 0.005251773                                |\n",
       "| X513_Group1C_142dpi_RA_163_G_A3_P124.mzXML | 513                                        | naive                                      | 142                                        | RA                                         | A3                                         | P124                                       | 0.00e+00                                   | 0.001428677                                |\n",
       "| X514_Group1C_142dpi_RA_164_G_A4_P124.mzXML | 514                                        | naive                                      | 142                                        | RA                                         | A4                                         | P124                                       | 0.00e+00                                   | 0.001536334                                |\n",
       "| X515_Group1C_142dpi_RA_165_G_A5_P124.mzXML | 515                                        | naive                                      | 142                                        | RA                                         | A5                                         | P124                                       | 0.00e+00                                   | 0.000752024                                |\n",
       "| X531_Group1C_142dpi_RA_166_G_A6_P124.mzXML | 531                                        | naive                                      | 142                                        | RA                                         | A6                                         | P124                                       | 0.00e+00                                   | 0.001017006                                |\n",
       "\n"
      ],
      "text/plain": [
       "  filename                                   MouseID Treatmentgroup DPI organ\n",
       "1 X511_Group1C_142dpi_RA_161_G_A1_P124.mzXML 511     naive          142 RA   \n",
       "2 X512_Group1C_142dpi_RA_162_G_A2_P124.mzXML 512     naive          142 RA   \n",
       "3 X513_Group1C_142dpi_RA_163_G_A3_P124.mzXML 513     naive          142 RA   \n",
       "4 X514_Group1C_142dpi_RA_164_G_A4_P124.mzXML 514     naive          142 RA   \n",
       "5 X515_Group1C_142dpi_RA_165_G_A5_P124.mzXML 515     naive          142 RA   \n",
       "6 X531_Group1C_142dpi_RA_166_G_A6_P124.mzXML 531     naive          142 RA   \n",
       "  well_position plate CAR_mid_chain CAR_long_chain\n",
       "1 A1            P124  0.00e+00      0.000722040   \n",
       "2 A2            P124  3.25e-05      0.005251773   \n",
       "3 A3            P124  0.00e+00      0.001428677   \n",
       "4 A4            P124  0.00e+00      0.001536334   \n",
       "5 A5            P124  0.00e+00      0.000752024   \n",
       "6 A6            P124  0.00e+00      0.001017006   "
      ]
     },
     "metadata": {},
     "output_type": "display_data"
    },
    {
     "data": {
      "text/html": [
       "<ol class=list-inline>\n",
       "\t<li>60</li>\n",
       "\t<li>9</li>\n",
       "</ol>\n"
      ],
      "text/latex": [
       "\\begin{enumerate*}\n",
       "\\item 60\n",
       "\\item 9\n",
       "\\end{enumerate*}\n"
      ],
      "text/markdown": [
       "1. 60\n",
       "2. 9\n",
       "\n",
       "\n"
      ],
      "text/plain": [
       "[1] 60  9"
      ]
     },
     "metadata": {},
     "output_type": "display_data"
    }
   ],
   "source": [
    "head(a)\n",
    "dim(a)"
   ]
  },
  {
   "cell_type": "code",
   "execution_count": 7,
   "metadata": {},
   "outputs": [
    {
     "data": {
      "text/html": [
       "<table>\n",
       "<thead><tr><th></th><th scope=col>filename</th><th scope=col>MouseID</th><th scope=col>Treatmentgroup</th><th scope=col>DPI</th><th scope=col>organ</th><th scope=col>well_position</th><th scope=col>plate</th><th scope=col>CAR_mid_chain</th><th scope=col>CAR_long_chain</th></tr></thead>\n",
       "<tbody>\n",
       "\t<tr><th scope=row>21</th><td>X611_Group9_142dpi_RA_181_G_B9_P124.mzXML </td><td>611                                       </td><td>combo                                     </td><td>142                                       </td><td>RA                                        </td><td>B9                                        </td><td>P124                                      </td><td>0                                         </td><td>0.003146454                               </td></tr>\n",
       "\t<tr><th scope=row>22</th><td>X612_Group9_142dpi_RA_182_G_B10_P124.mzXML</td><td>612                                       </td><td>combo                                     </td><td>142                                       </td><td>RA                                        </td><td>B10                                       </td><td>P124                                      </td><td>0                                         </td><td>0.005374843                               </td></tr>\n",
       "\t<tr><th scope=row>23</th><td>X613_Group9_142dpi_RA_183_G_B11_P124.mzXML</td><td>613                                       </td><td>combo                                     </td><td>142                                       </td><td>RA                                        </td><td>B11                                       </td><td>P124                                      </td><td>0                                         </td><td>0.004721533                               </td></tr>\n",
       "\t<tr><th scope=row>24</th><td>X614_Group9_142dpi_RA_184_G_B12_P124.mzXML</td><td>614                                       </td><td>combo                                     </td><td>142                                       </td><td>RA                                        </td><td>B12                                       </td><td>P124                                      </td><td>0                                         </td><td>0.005233590                               </td></tr>\n",
       "\t<tr><th scope=row>25</th><td>X615_Group9_142dpi_RA_185_G_C1_P124.mzXML </td><td>615                                       </td><td>combo                                     </td><td>142                                       </td><td>RA                                        </td><td>C1                                        </td><td>P124                                      </td><td>0                                         </td><td>0.005787677                               </td></tr>\n",
       "\t<tr><th scope=row>26</th><td>X631_Group15_142dpi_RA_191_G_C7_P124.mzXML</td><td>631                                       </td><td>BNZ                                       </td><td>142                                       </td><td>RA                                        </td><td>C7                                        </td><td>P124                                      </td><td>0                                         </td><td>0.001998533                               </td></tr>\n",
       "</tbody>\n",
       "</table>\n"
      ],
      "text/latex": [
       "\\begin{tabular}{r|lllllllll}\n",
       "  & filename & MouseID & Treatmentgroup & DPI & organ & well\\_position & plate & CAR\\_mid\\_chain & CAR\\_long\\_chain\\\\\n",
       "\\hline\n",
       "\t21 & X611\\_Group9\\_142dpi\\_RA\\_181\\_G\\_B9\\_P124.mzXML  & 611                                                      & combo                                                    & 142                                                      & RA                                                       & B9                                                       & P124                                                     & 0                                                        & 0.003146454                                             \\\\\n",
       "\t22 & X612\\_Group9\\_142dpi\\_RA\\_182\\_G\\_B10\\_P124.mzXML & 612                                                      & combo                                                    & 142                                                      & RA                                                       & B10                                                      & P124                                                     & 0                                                        & 0.005374843                                             \\\\\n",
       "\t23 & X613\\_Group9\\_142dpi\\_RA\\_183\\_G\\_B11\\_P124.mzXML & 613                                                      & combo                                                    & 142                                                      & RA                                                       & B11                                                      & P124                                                     & 0                                                        & 0.004721533                                             \\\\\n",
       "\t24 & X614\\_Group9\\_142dpi\\_RA\\_184\\_G\\_B12\\_P124.mzXML & 614                                                      & combo                                                    & 142                                                      & RA                                                       & B12                                                      & P124                                                     & 0                                                        & 0.005233590                                             \\\\\n",
       "\t25 & X615\\_Group9\\_142dpi\\_RA\\_185\\_G\\_C1\\_P124.mzXML  & 615                                                      & combo                                                    & 142                                                      & RA                                                       & C1                                                       & P124                                                     & 0                                                        & 0.005787677                                             \\\\\n",
       "\t26 & X631\\_Group15\\_142dpi\\_RA\\_191\\_G\\_C7\\_P124.mzXML & 631                                                      & BNZ                                                      & 142                                                      & RA                                                       & C7                                                       & P124                                                     & 0                                                        & 0.001998533                                             \\\\\n",
       "\\end{tabular}\n"
      ],
      "text/markdown": [
       "\n",
       "| <!--/--> | filename | MouseID | Treatmentgroup | DPI | organ | well_position | plate | CAR_mid_chain | CAR_long_chain |\n",
       "|---|---|---|---|---|---|---|---|---|---|\n",
       "| 21 | X611_Group9_142dpi_RA_181_G_B9_P124.mzXML  | 611                                        | combo                                      | 142                                        | RA                                         | B9                                         | P124                                       | 0                                          | 0.003146454                                |\n",
       "| 22 | X612_Group9_142dpi_RA_182_G_B10_P124.mzXML | 612                                        | combo                                      | 142                                        | RA                                         | B10                                        | P124                                       | 0                                          | 0.005374843                                |\n",
       "| 23 | X613_Group9_142dpi_RA_183_G_B11_P124.mzXML | 613                                        | combo                                      | 142                                        | RA                                         | B11                                        | P124                                       | 0                                          | 0.004721533                                |\n",
       "| 24 | X614_Group9_142dpi_RA_184_G_B12_P124.mzXML | 614                                        | combo                                      | 142                                        | RA                                         | B12                                        | P124                                       | 0                                          | 0.005233590                                |\n",
       "| 25 | X615_Group9_142dpi_RA_185_G_C1_P124.mzXML  | 615                                        | combo                                      | 142                                        | RA                                         | C1                                         | P124                                       | 0                                          | 0.005787677                                |\n",
       "| 26 | X631_Group15_142dpi_RA_191_G_C7_P124.mzXML | 631                                        | BNZ                                        | 142                                        | RA                                         | C7                                         | P124                                       | 0                                          | 0.001998533                                |\n",
       "\n"
      ],
      "text/plain": [
       "   filename                                   MouseID Treatmentgroup DPI organ\n",
       "21 X611_Group9_142dpi_RA_181_G_B9_P124.mzXML  611     combo          142 RA   \n",
       "22 X612_Group9_142dpi_RA_182_G_B10_P124.mzXML 612     combo          142 RA   \n",
       "23 X613_Group9_142dpi_RA_183_G_B11_P124.mzXML 613     combo          142 RA   \n",
       "24 X614_Group9_142dpi_RA_184_G_B12_P124.mzXML 614     combo          142 RA   \n",
       "25 X615_Group9_142dpi_RA_185_G_C1_P124.mzXML  615     combo          142 RA   \n",
       "26 X631_Group15_142dpi_RA_191_G_C7_P124.mzXML 631     BNZ            142 RA   \n",
       "   well_position plate CAR_mid_chain CAR_long_chain\n",
       "21 B9            P124  0             0.003146454   \n",
       "22 B10           P124  0             0.005374843   \n",
       "23 B11           P124  0             0.004721533   \n",
       "24 B12           P124  0             0.005233590   \n",
       "25 C1            P124  0             0.005787677   \n",
       "26 C7            P124  0             0.001998533   "
      ]
     },
     "metadata": {},
     "output_type": "display_data"
    },
    {
     "data": {
      "text/html": [
       "<ol class=list-inline>\n",
       "\t<li>30</li>\n",
       "\t<li>9</li>\n",
       "</ol>\n"
      ],
      "text/latex": [
       "\\begin{enumerate*}\n",
       "\\item 30\n",
       "\\item 9\n",
       "\\end{enumerate*}\n"
      ],
      "text/markdown": [
       "1. 30\n",
       "2. 9\n",
       "\n",
       "\n"
      ],
      "text/plain": [
       "[1] 30  9"
      ]
     },
     "metadata": {},
     "output_type": "display_data"
    }
   ],
   "source": [
    "features_pos<-droplevels(subset(a, a$Treatmentgroup==c(\"combo\")|a$Treatmentgroup==c(\"BNZ\")))\n",
    "head(features_pos)\n",
    "dim(features_pos)"
   ]
  },
  {
   "cell_type": "code",
   "execution_count": 8,
   "metadata": {
    "scrolled": false
   },
   "outputs": [
    {
     "data": {
      "text/html": [
       "<table>\n",
       "<thead><tr><th></th><th scope=col>CAR_mid_chain</th><th scope=col>CAR_long_chain</th></tr></thead>\n",
       "<tbody>\n",
       "\t<tr><th scope=row>21</th><td>0          </td><td>0.003146454</td></tr>\n",
       "\t<tr><th scope=row>22</th><td>0          </td><td>0.005374843</td></tr>\n",
       "\t<tr><th scope=row>23</th><td>0          </td><td>0.004721533</td></tr>\n",
       "\t<tr><th scope=row>24</th><td>0          </td><td>0.005233590</td></tr>\n",
       "\t<tr><th scope=row>25</th><td>0          </td><td>0.005787677</td></tr>\n",
       "\t<tr><th scope=row>26</th><td>0          </td><td>0.001998533</td></tr>\n",
       "</tbody>\n",
       "</table>\n"
      ],
      "text/latex": [
       "\\begin{tabular}{r|ll}\n",
       "  & CAR\\_mid\\_chain & CAR\\_long\\_chain\\\\\n",
       "\\hline\n",
       "\t21 & 0           & 0.003146454\\\\\n",
       "\t22 & 0           & 0.005374843\\\\\n",
       "\t23 & 0           & 0.004721533\\\\\n",
       "\t24 & 0           & 0.005233590\\\\\n",
       "\t25 & 0           & 0.005787677\\\\\n",
       "\t26 & 0           & 0.001998533\\\\\n",
       "\\end{tabular}\n"
      ],
      "text/markdown": [
       "\n",
       "| <!--/--> | CAR_mid_chain | CAR_long_chain |\n",
       "|---|---|---|\n",
       "| 21 | 0           | 0.003146454 |\n",
       "| 22 | 0           | 0.005374843 |\n",
       "| 23 | 0           | 0.004721533 |\n",
       "| 24 | 0           | 0.005233590 |\n",
       "| 25 | 0           | 0.005787677 |\n",
       "| 26 | 0           | 0.001998533 |\n",
       "\n"
      ],
      "text/plain": [
       "   CAR_mid_chain CAR_long_chain\n",
       "21 0             0.003146454   \n",
       "22 0             0.005374843   \n",
       "23 0             0.004721533   \n",
       "24 0             0.005233590   \n",
       "25 0             0.005787677   \n",
       "26 0             0.001998533   "
      ]
     },
     "metadata": {},
     "output_type": "display_data"
    },
    {
     "data": {
      "text/html": [
       "<dl class=dl-horizontal>\n",
       "\t<dt>CAR_mid_chain</dt>\n",
       "\t\t<dd>1</dd>\n",
       "\t<dt>CAR_long_chain</dt>\n",
       "\t\t<dd>2</dd>\n",
       "</dl>\n"
      ],
      "text/latex": [
       "\\begin{description*}\n",
       "\\item[CAR\\textbackslash{}\\_mid\\textbackslash{}\\_chain] 1\n",
       "\\item[CAR\\textbackslash{}\\_long\\textbackslash{}\\_chain] 2\n",
       "\\end{description*}\n"
      ],
      "text/markdown": [
       "CAR_mid_chain\n",
       ":   1CAR_long_chain\n",
       ":   2\n",
       "\n"
      ],
      "text/plain": [
       " CAR_mid_chain CAR_long_chain \n",
       "             1              2 "
      ]
     },
     "metadata": {},
     "output_type": "display_data"
    },
    {
     "data": {
      "text/html": [
       "<table>\n",
       "<thead><tr><th></th><th scope=col>CAR_mid_chain</th><th scope=col>CAR_long_chain</th></tr></thead>\n",
       "<tbody>\n",
       "\t<tr><th scope=row>21</th><td>0.00e+00   </td><td>0.003146454</td></tr>\n",
       "\t<tr><th scope=row>22</th><td>0.00e+00   </td><td>0.005374843</td></tr>\n",
       "\t<tr><th scope=row>23</th><td>0.00e+00   </td><td>0.004721533</td></tr>\n",
       "\t<tr><th scope=row>24</th><td>0.00e+00   </td><td>0.005233590</td></tr>\n",
       "\t<tr><th scope=row>25</th><td>0.00e+00   </td><td>0.005787677</td></tr>\n",
       "\t<tr><th scope=row>26</th><td>0.00e+00   </td><td>0.001998533</td></tr>\n",
       "\t<tr><th scope=row>27</th><td>0.00e+00   </td><td>0.005438450</td></tr>\n",
       "\t<tr><th scope=row>28</th><td>0.00e+00   </td><td>0.002672164</td></tr>\n",
       "\t<tr><th scope=row>29</th><td>0.00e+00   </td><td>0.001942616</td></tr>\n",
       "\t<tr><th scope=row>30</th><td>0.00e+00   </td><td>0.001305775</td></tr>\n",
       "\t<tr><th scope=row>36</th><td>0.00e+00   </td><td>0.004438706</td></tr>\n",
       "\t<tr><th scope=row>37</th><td>0.00e+00   </td><td>0.003109728</td></tr>\n",
       "\t<tr><th scope=row>38</th><td>2.39e-05   </td><td>0.010384820</td></tr>\n",
       "\t<tr><th scope=row>39</th><td>0.00e+00   </td><td>0.006142335</td></tr>\n",
       "\t<tr><th scope=row>40</th><td>0.00e+00   </td><td>0.006712309</td></tr>\n",
       "\t<tr><th scope=row>41</th><td>0.00e+00   </td><td>0.003094818</td></tr>\n",
       "\t<tr><th scope=row>42</th><td>0.00e+00   </td><td>0.001329478</td></tr>\n",
       "\t<tr><th scope=row>43</th><td>0.00e+00   </td><td>0.004196020</td></tr>\n",
       "\t<tr><th scope=row>44</th><td>0.00e+00   </td><td>0.000988187</td></tr>\n",
       "\t<tr><th scope=row>45</th><td>0.00e+00   </td><td>0.001316158</td></tr>\n",
       "\t<tr><th scope=row>51</th><td>0.00e+00   </td><td>0.004063653</td></tr>\n",
       "\t<tr><th scope=row>52</th><td>0.00e+00   </td><td>0.005303991</td></tr>\n",
       "\t<tr><th scope=row>53</th><td>0.00e+00   </td><td>0.001589160</td></tr>\n",
       "\t<tr><th scope=row>54</th><td>0.00e+00   </td><td>0.002675411</td></tr>\n",
       "\t<tr><th scope=row>55</th><td>0.00e+00   </td><td>0.001414955</td></tr>\n",
       "\t<tr><th scope=row>56</th><td>0.00e+00   </td><td>0.004513954</td></tr>\n",
       "\t<tr><th scope=row>57</th><td>0.00e+00   </td><td>0.001446315</td></tr>\n",
       "\t<tr><th scope=row>58</th><td>0.00e+00   </td><td>0.001458816</td></tr>\n",
       "\t<tr><th scope=row>59</th><td>0.00e+00   </td><td>0.002415577</td></tr>\n",
       "\t<tr><th scope=row>60</th><td>0.00e+00   </td><td>0.000984478</td></tr>\n",
       "</tbody>\n",
       "</table>\n"
      ],
      "text/latex": [
       "\\begin{tabular}{r|ll}\n",
       "  & CAR\\_mid\\_chain & CAR\\_long\\_chain\\\\\n",
       "\\hline\n",
       "\t21 & 0.00e+00    & 0.003146454\\\\\n",
       "\t22 & 0.00e+00    & 0.005374843\\\\\n",
       "\t23 & 0.00e+00    & 0.004721533\\\\\n",
       "\t24 & 0.00e+00    & 0.005233590\\\\\n",
       "\t25 & 0.00e+00    & 0.005787677\\\\\n",
       "\t26 & 0.00e+00    & 0.001998533\\\\\n",
       "\t27 & 0.00e+00    & 0.005438450\\\\\n",
       "\t28 & 0.00e+00    & 0.002672164\\\\\n",
       "\t29 & 0.00e+00    & 0.001942616\\\\\n",
       "\t30 & 0.00e+00    & 0.001305775\\\\\n",
       "\t36 & 0.00e+00    & 0.004438706\\\\\n",
       "\t37 & 0.00e+00    & 0.003109728\\\\\n",
       "\t38 & 2.39e-05    & 0.010384820\\\\\n",
       "\t39 & 0.00e+00    & 0.006142335\\\\\n",
       "\t40 & 0.00e+00    & 0.006712309\\\\\n",
       "\t41 & 0.00e+00    & 0.003094818\\\\\n",
       "\t42 & 0.00e+00    & 0.001329478\\\\\n",
       "\t43 & 0.00e+00    & 0.004196020\\\\\n",
       "\t44 & 0.00e+00    & 0.000988187\\\\\n",
       "\t45 & 0.00e+00    & 0.001316158\\\\\n",
       "\t51 & 0.00e+00    & 0.004063653\\\\\n",
       "\t52 & 0.00e+00    & 0.005303991\\\\\n",
       "\t53 & 0.00e+00    & 0.001589160\\\\\n",
       "\t54 & 0.00e+00    & 0.002675411\\\\\n",
       "\t55 & 0.00e+00    & 0.001414955\\\\\n",
       "\t56 & 0.00e+00    & 0.004513954\\\\\n",
       "\t57 & 0.00e+00    & 0.001446315\\\\\n",
       "\t58 & 0.00e+00    & 0.001458816\\\\\n",
       "\t59 & 0.00e+00    & 0.002415577\\\\\n",
       "\t60 & 0.00e+00    & 0.000984478\\\\\n",
       "\\end{tabular}\n"
      ],
      "text/markdown": [
       "\n",
       "| <!--/--> | CAR_mid_chain | CAR_long_chain |\n",
       "|---|---|---|\n",
       "| 21 | 0.00e+00    | 0.003146454 |\n",
       "| 22 | 0.00e+00    | 0.005374843 |\n",
       "| 23 | 0.00e+00    | 0.004721533 |\n",
       "| 24 | 0.00e+00    | 0.005233590 |\n",
       "| 25 | 0.00e+00    | 0.005787677 |\n",
       "| 26 | 0.00e+00    | 0.001998533 |\n",
       "| 27 | 0.00e+00    | 0.005438450 |\n",
       "| 28 | 0.00e+00    | 0.002672164 |\n",
       "| 29 | 0.00e+00    | 0.001942616 |\n",
       "| 30 | 0.00e+00    | 0.001305775 |\n",
       "| 36 | 0.00e+00    | 0.004438706 |\n",
       "| 37 | 0.00e+00    | 0.003109728 |\n",
       "| 38 | 2.39e-05    | 0.010384820 |\n",
       "| 39 | 0.00e+00    | 0.006142335 |\n",
       "| 40 | 0.00e+00    | 0.006712309 |\n",
       "| 41 | 0.00e+00    | 0.003094818 |\n",
       "| 42 | 0.00e+00    | 0.001329478 |\n",
       "| 43 | 0.00e+00    | 0.004196020 |\n",
       "| 44 | 0.00e+00    | 0.000988187 |\n",
       "| 45 | 0.00e+00    | 0.001316158 |\n",
       "| 51 | 0.00e+00    | 0.004063653 |\n",
       "| 52 | 0.00e+00    | 0.005303991 |\n",
       "| 53 | 0.00e+00    | 0.001589160 |\n",
       "| 54 | 0.00e+00    | 0.002675411 |\n",
       "| 55 | 0.00e+00    | 0.001414955 |\n",
       "| 56 | 0.00e+00    | 0.004513954 |\n",
       "| 57 | 0.00e+00    | 0.001446315 |\n",
       "| 58 | 0.00e+00    | 0.001458816 |\n",
       "| 59 | 0.00e+00    | 0.002415577 |\n",
       "| 60 | 0.00e+00    | 0.000984478 |\n",
       "\n"
      ],
      "text/plain": [
       "   CAR_mid_chain CAR_long_chain\n",
       "21 0.00e+00      0.003146454   \n",
       "22 0.00e+00      0.005374843   \n",
       "23 0.00e+00      0.004721533   \n",
       "24 0.00e+00      0.005233590   \n",
       "25 0.00e+00      0.005787677   \n",
       "26 0.00e+00      0.001998533   \n",
       "27 0.00e+00      0.005438450   \n",
       "28 0.00e+00      0.002672164   \n",
       "29 0.00e+00      0.001942616   \n",
       "30 0.00e+00      0.001305775   \n",
       "36 0.00e+00      0.004438706   \n",
       "37 0.00e+00      0.003109728   \n",
       "38 2.39e-05      0.010384820   \n",
       "39 0.00e+00      0.006142335   \n",
       "40 0.00e+00      0.006712309   \n",
       "41 0.00e+00      0.003094818   \n",
       "42 0.00e+00      0.001329478   \n",
       "43 0.00e+00      0.004196020   \n",
       "44 0.00e+00      0.000988187   \n",
       "45 0.00e+00      0.001316158   \n",
       "51 0.00e+00      0.004063653   \n",
       "52 0.00e+00      0.005303991   \n",
       "53 0.00e+00      0.001589160   \n",
       "54 0.00e+00      0.002675411   \n",
       "55 0.00e+00      0.001414955   \n",
       "56 0.00e+00      0.004513954   \n",
       "57 0.00e+00      0.001446315   \n",
       "58 0.00e+00      0.001458816   \n",
       "59 0.00e+00      0.002415577   \n",
       "60 0.00e+00      0.000984478   "
      ]
     },
     "metadata": {},
     "output_type": "display_data"
    },
    {
     "data": {
      "text/html": [
       "<table>\n",
       "<thead><tr><th></th><th scope=col>filename</th><th scope=col>MouseID</th><th scope=col>Treatmentgroup</th><th scope=col>DPI</th><th scope=col>organ</th><th scope=col>well_position</th><th scope=col>plate</th><th scope=col>CAR_mid_chain</th><th scope=col>CAR_long_chain</th></tr></thead>\n",
       "<tbody>\n",
       "\t<tr><th scope=row>21</th><td>X611_Group9_142dpi_RA_181_G_B9_P124.mzXML </td><td>611                                       </td><td>combo                                     </td><td>142                                       </td><td>RA                                        </td><td>B9                                        </td><td>P124                                      </td><td>0                                         </td><td>0.003146454                               </td></tr>\n",
       "\t<tr><th scope=row>22</th><td>X612_Group9_142dpi_RA_182_G_B10_P124.mzXML</td><td>612                                       </td><td>combo                                     </td><td>142                                       </td><td>RA                                        </td><td>B10                                       </td><td>P124                                      </td><td>0                                         </td><td>0.005374843                               </td></tr>\n",
       "\t<tr><th scope=row>23</th><td>X613_Group9_142dpi_RA_183_G_B11_P124.mzXML</td><td>613                                       </td><td>combo                                     </td><td>142                                       </td><td>RA                                        </td><td>B11                                       </td><td>P124                                      </td><td>0                                         </td><td>0.004721533                               </td></tr>\n",
       "\t<tr><th scope=row>24</th><td>X614_Group9_142dpi_RA_184_G_B12_P124.mzXML</td><td>614                                       </td><td>combo                                     </td><td>142                                       </td><td>RA                                        </td><td>B12                                       </td><td>P124                                      </td><td>0                                         </td><td>0.005233590                               </td></tr>\n",
       "\t<tr><th scope=row>25</th><td>X615_Group9_142dpi_RA_185_G_C1_P124.mzXML </td><td>615                                       </td><td>combo                                     </td><td>142                                       </td><td>RA                                        </td><td>C1                                        </td><td>P124                                      </td><td>0                                         </td><td>0.005787677                               </td></tr>\n",
       "\t<tr><th scope=row>26</th><td>X631_Group15_142dpi_RA_191_G_C7_P124.mzXML</td><td>631                                       </td><td>BNZ                                       </td><td>142                                       </td><td>RA                                        </td><td>C7                                        </td><td>P124                                      </td><td>0                                         </td><td>0.001998533                               </td></tr>\n",
       "</tbody>\n",
       "</table>\n"
      ],
      "text/latex": [
       "\\begin{tabular}{r|lllllllll}\n",
       "  & filename & MouseID & Treatmentgroup & DPI & organ & well\\_position & plate & CAR\\_mid\\_chain & CAR\\_long\\_chain\\\\\n",
       "\\hline\n",
       "\t21 & X611\\_Group9\\_142dpi\\_RA\\_181\\_G\\_B9\\_P124.mzXML  & 611                                                      & combo                                                    & 142                                                      & RA                                                       & B9                                                       & P124                                                     & 0                                                        & 0.003146454                                             \\\\\n",
       "\t22 & X612\\_Group9\\_142dpi\\_RA\\_182\\_G\\_B10\\_P124.mzXML & 612                                                      & combo                                                    & 142                                                      & RA                                                       & B10                                                      & P124                                                     & 0                                                        & 0.005374843                                             \\\\\n",
       "\t23 & X613\\_Group9\\_142dpi\\_RA\\_183\\_G\\_B11\\_P124.mzXML & 613                                                      & combo                                                    & 142                                                      & RA                                                       & B11                                                      & P124                                                     & 0                                                        & 0.004721533                                             \\\\\n",
       "\t24 & X614\\_Group9\\_142dpi\\_RA\\_184\\_G\\_B12\\_P124.mzXML & 614                                                      & combo                                                    & 142                                                      & RA                                                       & B12                                                      & P124                                                     & 0                                                        & 0.005233590                                             \\\\\n",
       "\t25 & X615\\_Group9\\_142dpi\\_RA\\_185\\_G\\_C1\\_P124.mzXML  & 615                                                      & combo                                                    & 142                                                      & RA                                                       & C1                                                       & P124                                                     & 0                                                        & 0.005787677                                             \\\\\n",
       "\t26 & X631\\_Group15\\_142dpi\\_RA\\_191\\_G\\_C7\\_P124.mzXML & 631                                                      & BNZ                                                      & 142                                                      & RA                                                       & C7                                                       & P124                                                     & 0                                                        & 0.001998533                                             \\\\\n",
       "\\end{tabular}\n"
      ],
      "text/markdown": [
       "\n",
       "| <!--/--> | filename | MouseID | Treatmentgroup | DPI | organ | well_position | plate | CAR_mid_chain | CAR_long_chain |\n",
       "|---|---|---|---|---|---|---|---|---|---|\n",
       "| 21 | X611_Group9_142dpi_RA_181_G_B9_P124.mzXML  | 611                                        | combo                                      | 142                                        | RA                                         | B9                                         | P124                                       | 0                                          | 0.003146454                                |\n",
       "| 22 | X612_Group9_142dpi_RA_182_G_B10_P124.mzXML | 612                                        | combo                                      | 142                                        | RA                                         | B10                                        | P124                                       | 0                                          | 0.005374843                                |\n",
       "| 23 | X613_Group9_142dpi_RA_183_G_B11_P124.mzXML | 613                                        | combo                                      | 142                                        | RA                                         | B11                                        | P124                                       | 0                                          | 0.004721533                                |\n",
       "| 24 | X614_Group9_142dpi_RA_184_G_B12_P124.mzXML | 614                                        | combo                                      | 142                                        | RA                                         | B12                                        | P124                                       | 0                                          | 0.005233590                                |\n",
       "| 25 | X615_Group9_142dpi_RA_185_G_C1_P124.mzXML  | 615                                        | combo                                      | 142                                        | RA                                         | C1                                         | P124                                       | 0                                          | 0.005787677                                |\n",
       "| 26 | X631_Group15_142dpi_RA_191_G_C7_P124.mzXML | 631                                        | BNZ                                        | 142                                        | RA                                         | C7                                         | P124                                       | 0                                          | 0.001998533                                |\n",
       "\n"
      ],
      "text/plain": [
       "   filename                                   MouseID Treatmentgroup DPI organ\n",
       "21 X611_Group9_142dpi_RA_181_G_B9_P124.mzXML  611     combo          142 RA   \n",
       "22 X612_Group9_142dpi_RA_182_G_B10_P124.mzXML 612     combo          142 RA   \n",
       "23 X613_Group9_142dpi_RA_183_G_B11_P124.mzXML 613     combo          142 RA   \n",
       "24 X614_Group9_142dpi_RA_184_G_B12_P124.mzXML 614     combo          142 RA   \n",
       "25 X615_Group9_142dpi_RA_185_G_C1_P124.mzXML  615     combo          142 RA   \n",
       "26 X631_Group15_142dpi_RA_191_G_C7_P124.mzXML 631     BNZ            142 RA   \n",
       "   well_position plate CAR_mid_chain CAR_long_chain\n",
       "21 B9            P124  0             0.003146454   \n",
       "22 B10           P124  0             0.005374843   \n",
       "23 B11           P124  0             0.004721533   \n",
       "24 B12           P124  0             0.005233590   \n",
       "25 C1            P124  0             0.005787677   \n",
       "26 C7            P124  0             0.001998533   "
      ]
     },
     "metadata": {},
     "output_type": "display_data"
    },
    {
     "data": {
      "text/html": [
       "<ol class=list-inline>\n",
       "\t<li>30</li>\n",
       "\t<li>9</li>\n",
       "</ol>\n"
      ],
      "text/latex": [
       "\\begin{enumerate*}\n",
       "\\item 30\n",
       "\\item 9\n",
       "\\end{enumerate*}\n"
      ],
      "text/markdown": [
       "1. 30\n",
       "2. 9\n",
       "\n",
       "\n"
      ],
      "text/plain": [
       "[1] 30  9"
      ]
     },
     "metadata": {},
     "output_type": "display_data"
    },
    {
     "data": {
      "text/html": [
       "<ol class=list-inline>\n",
       "\t<li>30</li>\n",
       "\t<li>2</li>\n",
       "</ol>\n"
      ],
      "text/latex": [
       "\\begin{enumerate*}\n",
       "\\item 30\n",
       "\\item 2\n",
       "\\end{enumerate*}\n"
      ],
      "text/markdown": [
       "1. 30\n",
       "2. 2\n",
       "\n",
       "\n"
      ],
      "text/plain": [
       "[1] 30  2"
      ]
     },
     "metadata": {},
     "output_type": "display_data"
    },
    {
     "data": {
      "text/html": [
       "<ol class=list-inline>\n",
       "\t<li>30</li>\n",
       "\t<li>2</li>\n",
       "</ol>\n"
      ],
      "text/latex": [
       "\\begin{enumerate*}\n",
       "\\item 30\n",
       "\\item 2\n",
       "\\end{enumerate*}\n"
      ],
      "text/markdown": [
       "1. 30\n",
       "2. 2\n",
       "\n",
       "\n"
      ],
      "text/plain": [
       "[1] 30  2"
      ]
     },
     "metadata": {},
     "output_type": "display_data"
    },
    {
     "data": {
      "text/html": [
       "<ol class=list-inline>\n",
       "\t<li>30</li>\n",
       "\t<li>9</li>\n",
       "</ol>\n"
      ],
      "text/latex": [
       "\\begin{enumerate*}\n",
       "\\item 30\n",
       "\\item 9\n",
       "\\end{enumerate*}\n"
      ],
      "text/markdown": [
       "1. 30\n",
       "2. 9\n",
       "\n",
       "\n"
      ],
      "text/plain": [
       "[1] 30  9"
      ]
     },
     "metadata": {},
     "output_type": "display_data"
    }
   ],
   "source": [
    "noMeta<-features_pos[,8:9]\n",
    "head(noMeta)\n",
    "not_zero<-which(colSums(noMeta) != 0)\n",
    "head(not_zero)\n",
    "nonzero <- noMeta[, not_zero] \n",
    "nonzero\n",
    "nonzero_wMeta<-cbind(features_pos[,1:7], nonzero)\n",
    "head(nonzero_wMeta)\n",
    "dim(features_pos)\n",
    "dim(noMeta)\n",
    "dim(nonzero)\n",
    "dim(nonzero_wMeta)"
   ]
  },
  {
   "cell_type": "code",
   "execution_count": 9,
   "metadata": {
    "scrolled": true
   },
   "outputs": [
    {
     "name": "stderr",
     "output_type": "stream",
     "text": [
      "Warning message in wilcox.test.default(x = c(0, 0, 0, 0, 0, 0, 0, 0, 0, 0, 0, 0, :\n",
      "\"cannot compute exact p-value with ties\""
     ]
    },
    {
     "data": {
      "text/html": [
       "<ol class=list-inline>\n",
       "\t<li>0.350647889704459</li>\n",
       "\t<li>0.00118667446462527</li>\n",
       "</ol>\n"
      ],
      "text/latex": [
       "\\begin{enumerate*}\n",
       "\\item 0.350647889704459\n",
       "\\item 0.00118667446462527\n",
       "\\end{enumerate*}\n"
      ],
      "text/markdown": [
       "1. 0.350647889704459\n",
       "2. 0.00118667446462527\n",
       "\n",
       "\n"
      ],
      "text/plain": [
       "[1] 0.350647890 0.001186674"
      ]
     },
     "metadata": {},
     "output_type": "display_data"
    },
    {
     "data": {
      "text/html": [
       "<ol class=list-inline>\n",
       "\t<li>0.350647889704459</li>\n",
       "\t<li>0.00237334892925054</li>\n",
       "</ol>\n"
      ],
      "text/latex": [
       "\\begin{enumerate*}\n",
       "\\item 0.350647889704459\n",
       "\\item 0.00237334892925054\n",
       "\\end{enumerate*}\n"
      ],
      "text/markdown": [
       "1. 0.350647889704459\n",
       "2. 0.00237334892925054\n",
       "\n",
       "\n"
      ],
      "text/plain": [
       "[1] 0.350647890 0.002373349"
      ]
     },
     "metadata": {},
     "output_type": "display_data"
    }
   ],
   "source": [
    "pval<-c()\n",
    "\n",
    "for (i in 8:ncol(nonzero_wMeta)) \n",
    "pval<-c(pval,wilcox.test(nonzero_wMeta[,i]~nonzero_wMeta$Treatmentgroup)$p.value)\n",
    "head(pval)\n",
    "pAdj <- p.adjust(pval, method = c(\"fdr\"), n=length(pval)) \n",
    "head(pAdj) \n",
    "\n"
   ]
  },
  {
   "cell_type": "code",
   "execution_count": 10,
   "metadata": {
    "scrolled": true
   },
   "outputs": [
    {
     "data": {
      "text/html": [
       "2"
      ],
      "text/latex": [
       "2"
      ],
      "text/markdown": [
       "2"
      ],
      "text/plain": [
       "[1] 2"
      ]
     },
     "metadata": {},
     "output_type": "display_data"
    }
   ],
   "source": [
    "length(pval)"
   ]
  },
  {
   "cell_type": "code",
   "execution_count": 11,
   "metadata": {
    "scrolled": true
   },
   "outputs": [
    {
     "data": {
      "text/html": [
       "2"
      ],
      "text/latex": [
       "2"
      ],
      "text/markdown": [
       "2"
      ],
      "text/plain": [
       "[1] 2"
      ]
     },
     "metadata": {},
     "output_type": "display_data"
    }
   ],
   "source": [
    "length(pAdj)"
   ]
  },
  {
   "cell_type": "code",
   "execution_count": 12,
   "metadata": {},
   "outputs": [
    {
     "data": {
      "text/html": [
       "<ol class=list-inline>\n",
       "\t<li>2</li>\n",
       "\t<li>2</li>\n",
       "</ol>\n"
      ],
      "text/latex": [
       "\\begin{enumerate*}\n",
       "\\item 2\n",
       "\\item 2\n",
       "\\end{enumerate*}\n"
      ],
      "text/markdown": [
       "1. 2\n",
       "2. 2\n",
       "\n",
       "\n"
      ],
      "text/plain": [
       "[1] 2 2"
      ]
     },
     "metadata": {},
     "output_type": "display_data"
    },
    {
     "data": {
      "text/html": [
       "<table>\n",
       "<thead><tr><th></th><th scope=col>CAR_mid_chain</th><th scope=col>CAR_long_chain</th></tr></thead>\n",
       "<tbody>\n",
       "\t<tr><th scope=row>BNZ</th><td>0.000000e+00</td><td>0.002340089 </td></tr>\n",
       "\t<tr><th scope=row>combo</th><td>1.593333e-06</td><td>0.004673278 </td></tr>\n",
       "</tbody>\n",
       "</table>\n"
      ],
      "text/latex": [
       "\\begin{tabular}{r|ll}\n",
       "  & CAR\\_mid\\_chain & CAR\\_long\\_chain\\\\\n",
       "\\hline\n",
       "\tBNZ & 0.000000e+00 & 0.002340089 \\\\\n",
       "\tcombo & 1.593333e-06 & 0.004673278 \\\\\n",
       "\\end{tabular}\n"
      ],
      "text/markdown": [
       "\n",
       "| <!--/--> | CAR_mid_chain | CAR_long_chain |\n",
       "|---|---|---|\n",
       "| BNZ | 0.000000e+00 | 0.002340089  |\n",
       "| combo | 1.593333e-06 | 0.004673278  |\n",
       "\n"
      ],
      "text/plain": [
       "      CAR_mid_chain CAR_long_chain\n",
       "BNZ   0.000000e+00  0.002340089   \n",
       "combo 1.593333e-06  0.004673278   "
      ]
     },
     "metadata": {},
     "output_type": "display_data"
    },
    {
     "data": {
      "text/html": [
       "<dl class=dl-horizontal>\n",
       "\t<dt>CAR_mid_chain</dt>\n",
       "\t\t<dd>0</dd>\n",
       "\t<dt>CAR_long_chain</dt>\n",
       "\t\t<dd>0.500738332617799</dd>\n",
       "</dl>\n"
      ],
      "text/latex": [
       "\\begin{description*}\n",
       "\\item[CAR\\textbackslash{}\\_mid\\textbackslash{}\\_chain] 0\n",
       "\\item[CAR\\textbackslash{}\\_long\\textbackslash{}\\_chain] 0.500738332617799\n",
       "\\end{description*}\n"
      ],
      "text/markdown": [
       "CAR_mid_chain\n",
       ":   0CAR_long_chain\n",
       ":   0.500738332617799\n",
       "\n"
      ],
      "text/plain": [
       " CAR_mid_chain CAR_long_chain \n",
       "     0.0000000      0.5007383 "
      ]
     },
     "metadata": {},
     "output_type": "display_data"
    },
    {
     "data": {
      "text/html": [
       "<ol class=list-inline>\n",
       "\t<li>'numeric'</li>\n",
       "\t<li>'vector'</li>\n",
       "</ol>\n"
      ],
      "text/latex": [
       "\\begin{enumerate*}\n",
       "\\item 'numeric'\n",
       "\\item 'vector'\n",
       "\\end{enumerate*}\n"
      ],
      "text/markdown": [
       "1. 'numeric'\n",
       "2. 'vector'\n",
       "\n",
       "\n"
      ],
      "text/plain": [
       "[1] \"numeric\" \"vector\" "
      ]
     },
     "metadata": {},
     "output_type": "display_data"
    }
   ],
   "source": [
    "avg<- apply(nonzero_wMeta[,8:ncol(nonzero_wMeta)], 2, function(x) tapply(x, nonzero_wMeta$Treatmentgroup, function(x) mean(x))) \n",
    "\n",
    "dim(avg)\n",
    "\n",
    "avg[,1:2]\n",
    "\n",
    "fch <- apply(avg, 2, function(x) x[1]/x[2])\n",
    "\n",
    "head(fch)\n",
    "is(fch)"
   ]
  },
  {
   "cell_type": "code",
   "execution_count": 13,
   "metadata": {
    "scrolled": true
   },
   "outputs": [
    {
     "data": {
      "text/html": [
       "<dl class=dl-horizontal>\n",
       "\t<dt>CAR_mid_chain</dt>\n",
       "\t\t<dd>0</dd>\n",
       "\t<dt>CAR_long_chain</dt>\n",
       "\t\t<dd>0.500738332617799</dd>\n",
       "</dl>\n"
      ],
      "text/latex": [
       "\\begin{description*}\n",
       "\\item[CAR\\textbackslash{}\\_mid\\textbackslash{}\\_chain] 0\n",
       "\\item[CAR\\textbackslash{}\\_long\\textbackslash{}\\_chain] 0.500738332617799\n",
       "\\end{description*}\n"
      ],
      "text/markdown": [
       "CAR_mid_chain\n",
       ":   0CAR_long_chain\n",
       ":   0.500738332617799\n",
       "\n"
      ],
      "text/plain": [
       " CAR_mid_chain CAR_long_chain \n",
       "     0.0000000      0.5007383 "
      ]
     },
     "metadata": {},
     "output_type": "display_data"
    }
   ],
   "source": [
    "fch"
   ]
  },
  {
   "cell_type": "code",
   "execution_count": 14,
   "metadata": {
    "scrolled": false
   },
   "outputs": [],
   "source": [
    "df <- data.frame(fch,pval, pAdj)\n",
    "write.csv(df, \"CAR-treat-RA-wilcox-combo-BNZ.csv\")"
   ]
  },
  {
   "cell_type": "code",
   "execution_count": null,
   "metadata": {},
   "outputs": [],
   "source": []
  },
  {
   "cell_type": "code",
   "execution_count": null,
   "metadata": {},
   "outputs": [],
   "source": []
  },
  {
   "cell_type": "code",
   "execution_count": null,
   "metadata": {},
   "outputs": [],
   "source": []
  },
  {
   "cell_type": "code",
   "execution_count": null,
   "metadata": {},
   "outputs": [],
   "source": []
  },
  {
   "cell_type": "code",
   "execution_count": null,
   "metadata": {},
   "outputs": [],
   "source": []
  },
  {
   "cell_type": "code",
   "execution_count": null,
   "metadata": {},
   "outputs": [],
   "source": []
  }
 ],
 "metadata": {
  "kernelspec": {
   "display_name": "R",
   "language": "R",
   "name": "ir"
  },
  "language_info": {
   "codemirror_mode": "r",
   "file_extension": ".r",
   "mimetype": "text/x-r-source",
   "name": "R",
   "pygments_lexer": "r",
   "version": "3.6.1"
  }
 },
 "nbformat": 4,
 "nbformat_minor": 2
}
