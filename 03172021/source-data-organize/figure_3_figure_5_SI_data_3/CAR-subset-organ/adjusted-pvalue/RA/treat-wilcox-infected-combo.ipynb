{
 "cells": [
  {
   "cell_type": "code",
   "execution_count": 1,
   "metadata": {},
   "outputs": [],
   "source": [
    "a <- read.csv(\"03172021-CAR-treatment-RA-M-F.csv\")"
   ]
  },
  {
   "cell_type": "code",
   "execution_count": 2,
   "metadata": {},
   "outputs": [
    {
     "data": {
      "text/html": [
       "<table>\n",
       "<thead><tr><th scope=col>filename</th><th scope=col>MouseID</th><th scope=col>Treatmentgroup</th><th scope=col>DPI</th><th scope=col>organ</th><th scope=col>well_position</th><th scope=col>plate</th><th scope=col>CAR_mid_chain</th><th scope=col>CAR_long_chain</th></tr></thead>\n",
       "<tbody>\n",
       "\t<tr><td>X511_Group1C_142dpi_RA_161_G_A1_P124.mzXML</td><td>511                                       </td><td>naive                                     </td><td>142                                       </td><td>RA                                        </td><td>A1                                        </td><td>P124                                      </td><td>0.00e+00                                  </td><td>0.000722040                               </td></tr>\n",
       "\t<tr><td>X512_Group1C_142dpi_RA_162_G_A2_P124.mzXML</td><td>512                                       </td><td>naive                                     </td><td>142                                       </td><td>RA                                        </td><td>A2                                        </td><td>P124                                      </td><td>3.25e-05                                  </td><td>0.005251773                               </td></tr>\n",
       "\t<tr><td>X513_Group1C_142dpi_RA_163_G_A3_P124.mzXML</td><td>513                                       </td><td>naive                                     </td><td>142                                       </td><td>RA                                        </td><td>A3                                        </td><td>P124                                      </td><td>0.00e+00                                  </td><td>0.001428677                               </td></tr>\n",
       "\t<tr><td>X514_Group1C_142dpi_RA_164_G_A4_P124.mzXML</td><td>514                                       </td><td>naive                                     </td><td>142                                       </td><td>RA                                        </td><td>A4                                        </td><td>P124                                      </td><td>0.00e+00                                  </td><td>0.001536334                               </td></tr>\n",
       "\t<tr><td>X515_Group1C_142dpi_RA_165_G_A5_P124.mzXML</td><td>515                                       </td><td>naive                                     </td><td>142                                       </td><td>RA                                        </td><td>A5                                        </td><td>P124                                      </td><td>0.00e+00                                  </td><td>0.000752024                               </td></tr>\n",
       "\t<tr><td>X531_Group1C_142dpi_RA_166_G_A6_P124.mzXML</td><td>531                                       </td><td>naive                                     </td><td>142                                       </td><td>RA                                        </td><td>A6                                        </td><td>P124                                      </td><td>0.00e+00                                  </td><td>0.001017006                               </td></tr>\n",
       "</tbody>\n",
       "</table>\n"
      ],
      "text/latex": [
       "\\begin{tabular}{r|lllllllll}\n",
       " filename & MouseID & Treatmentgroup & DPI & organ & well\\_position & plate & CAR\\_mid\\_chain & CAR\\_long\\_chain\\\\\n",
       "\\hline\n",
       "\t X511\\_Group1C\\_142dpi\\_RA\\_161\\_G\\_A1\\_P124.mzXML & 511                                                      & naive                                                    & 142                                                      & RA                                                       & A1                                                       & P124                                                     & 0.00e+00                                                 & 0.000722040                                             \\\\\n",
       "\t X512\\_Group1C\\_142dpi\\_RA\\_162\\_G\\_A2\\_P124.mzXML & 512                                                      & naive                                                    & 142                                                      & RA                                                       & A2                                                       & P124                                                     & 3.25e-05                                                 & 0.005251773                                             \\\\\n",
       "\t X513\\_Group1C\\_142dpi\\_RA\\_163\\_G\\_A3\\_P124.mzXML & 513                                                      & naive                                                    & 142                                                      & RA                                                       & A3                                                       & P124                                                     & 0.00e+00                                                 & 0.001428677                                             \\\\\n",
       "\t X514\\_Group1C\\_142dpi\\_RA\\_164\\_G\\_A4\\_P124.mzXML & 514                                                      & naive                                                    & 142                                                      & RA                                                       & A4                                                       & P124                                                     & 0.00e+00                                                 & 0.001536334                                             \\\\\n",
       "\t X515\\_Group1C\\_142dpi\\_RA\\_165\\_G\\_A5\\_P124.mzXML & 515                                                      & naive                                                    & 142                                                      & RA                                                       & A5                                                       & P124                                                     & 0.00e+00                                                 & 0.000752024                                             \\\\\n",
       "\t X531\\_Group1C\\_142dpi\\_RA\\_166\\_G\\_A6\\_P124.mzXML & 531                                                      & naive                                                    & 142                                                      & RA                                                       & A6                                                       & P124                                                     & 0.00e+00                                                 & 0.001017006                                             \\\\\n",
       "\\end{tabular}\n"
      ],
      "text/markdown": [
       "\n",
       "| filename | MouseID | Treatmentgroup | DPI | organ | well_position | plate | CAR_mid_chain | CAR_long_chain |\n",
       "|---|---|---|---|---|---|---|---|---|\n",
       "| X511_Group1C_142dpi_RA_161_G_A1_P124.mzXML | 511                                        | naive                                      | 142                                        | RA                                         | A1                                         | P124                                       | 0.00e+00                                   | 0.000722040                                |\n",
       "| X512_Group1C_142dpi_RA_162_G_A2_P124.mzXML | 512                                        | naive                                      | 142                                        | RA                                         | A2                                         | P124                                       | 3.25e-05                                   | 0.005251773                                |\n",
       "| X513_Group1C_142dpi_RA_163_G_A3_P124.mzXML | 513                                        | naive                                      | 142                                        | RA                                         | A3                                         | P124                                       | 0.00e+00                                   | 0.001428677                                |\n",
       "| X514_Group1C_142dpi_RA_164_G_A4_P124.mzXML | 514                                        | naive                                      | 142                                        | RA                                         | A4                                         | P124                                       | 0.00e+00                                   | 0.001536334                                |\n",
       "| X515_Group1C_142dpi_RA_165_G_A5_P124.mzXML | 515                                        | naive                                      | 142                                        | RA                                         | A5                                         | P124                                       | 0.00e+00                                   | 0.000752024                                |\n",
       "| X531_Group1C_142dpi_RA_166_G_A6_P124.mzXML | 531                                        | naive                                      | 142                                        | RA                                         | A6                                         | P124                                       | 0.00e+00                                   | 0.001017006                                |\n",
       "\n"
      ],
      "text/plain": [
       "  filename                                   MouseID Treatmentgroup DPI organ\n",
       "1 X511_Group1C_142dpi_RA_161_G_A1_P124.mzXML 511     naive          142 RA   \n",
       "2 X512_Group1C_142dpi_RA_162_G_A2_P124.mzXML 512     naive          142 RA   \n",
       "3 X513_Group1C_142dpi_RA_163_G_A3_P124.mzXML 513     naive          142 RA   \n",
       "4 X514_Group1C_142dpi_RA_164_G_A4_P124.mzXML 514     naive          142 RA   \n",
       "5 X515_Group1C_142dpi_RA_165_G_A5_P124.mzXML 515     naive          142 RA   \n",
       "6 X531_Group1C_142dpi_RA_166_G_A6_P124.mzXML 531     naive          142 RA   \n",
       "  well_position plate CAR_mid_chain CAR_long_chain\n",
       "1 A1            P124  0.00e+00      0.000722040   \n",
       "2 A2            P124  3.25e-05      0.005251773   \n",
       "3 A3            P124  0.00e+00      0.001428677   \n",
       "4 A4            P124  0.00e+00      0.001536334   \n",
       "5 A5            P124  0.00e+00      0.000752024   \n",
       "6 A6            P124  0.00e+00      0.001017006   "
      ]
     },
     "metadata": {},
     "output_type": "display_data"
    },
    {
     "data": {
      "text/html": [
       "<ol class=list-inline>\n",
       "\t<li>60</li>\n",
       "\t<li>9</li>\n",
       "</ol>\n"
      ],
      "text/latex": [
       "\\begin{enumerate*}\n",
       "\\item 60\n",
       "\\item 9\n",
       "\\end{enumerate*}\n"
      ],
      "text/markdown": [
       "1. 60\n",
       "2. 9\n",
       "\n",
       "\n"
      ],
      "text/plain": [
       "[1] 60  9"
      ]
     },
     "metadata": {},
     "output_type": "display_data"
    }
   ],
   "source": [
    "head(a)\n",
    "dim(a)"
   ]
  },
  {
   "cell_type": "code",
   "execution_count": 3,
   "metadata": {},
   "outputs": [
    {
     "data": {
      "text/html": [
       "<table>\n",
       "<thead><tr><th></th><th scope=col>filename</th><th scope=col>MouseID</th><th scope=col>Treatmentgroup</th><th scope=col>DPI</th><th scope=col>organ</th><th scope=col>well_position</th><th scope=col>plate</th><th scope=col>CAR_mid_chain</th><th scope=col>CAR_long_chain</th></tr></thead>\n",
       "<tbody>\n",
       "\t<tr><th scope=row>16</th><td>X581_Group3E_142dpi_RA_176_G_B4_P124.mzXML</td><td>581                                       </td><td>infected                                  </td><td>142                                       </td><td>RA                                        </td><td>B4                                        </td><td>P124                                      </td><td>0.00e+00                                  </td><td>0.005147358                               </td></tr>\n",
       "\t<tr><th scope=row>17</th><td>X582_Group3E_142dpi_RA_177_G_B5_P124.mzXML</td><td>582                                       </td><td>infected                                  </td><td>142                                       </td><td>RA                                        </td><td>B5                                        </td><td>P124                                      </td><td>0.00e+00                                  </td><td>0.006398734                               </td></tr>\n",
       "\t<tr><th scope=row>18</th><td>X583_Group3E_142dpi_RA_178_G_B6_P124.mzXML</td><td>583                                       </td><td>infected                                  </td><td>142                                       </td><td>RA                                        </td><td>B6                                        </td><td>P124                                      </td><td>0.00e+00                                  </td><td>0.004067739                               </td></tr>\n",
       "\t<tr><th scope=row>19</th><td>X584_Group3E_142dpi_RA_179_G_B7_P124.mzXML</td><td>584                                       </td><td>infected                                  </td><td>142                                       </td><td>RA                                        </td><td>B7                                        </td><td>P124                                      </td><td>0.00e+00                                  </td><td>0.007727994                               </td></tr>\n",
       "\t<tr><th scope=row>20</th><td>X585_Group3E_142dpi_RA_180_G_B8_P124.mzXML</td><td>585                                       </td><td>infected                                  </td><td>142                                       </td><td>RA                                        </td><td>B8                                        </td><td>P124                                      </td><td>7.67e-05                                  </td><td>0.008717704                               </td></tr>\n",
       "\t<tr><th scope=row>21</th><td>X611_Group9_142dpi_RA_181_G_B9_P124.mzXML </td><td>611                                       </td><td>combo                                     </td><td>142                                       </td><td>RA                                        </td><td>B9                                        </td><td>P124                                      </td><td>0.00e+00                                  </td><td>0.003146454                               </td></tr>\n",
       "</tbody>\n",
       "</table>\n"
      ],
      "text/latex": [
       "\\begin{tabular}{r|lllllllll}\n",
       "  & filename & MouseID & Treatmentgroup & DPI & organ & well\\_position & plate & CAR\\_mid\\_chain & CAR\\_long\\_chain\\\\\n",
       "\\hline\n",
       "\t16 & X581\\_Group3E\\_142dpi\\_RA\\_176\\_G\\_B4\\_P124.mzXML & 581                                                      & infected                                                 & 142                                                      & RA                                                       & B4                                                       & P124                                                     & 0.00e+00                                                 & 0.005147358                                             \\\\\n",
       "\t17 & X582\\_Group3E\\_142dpi\\_RA\\_177\\_G\\_B5\\_P124.mzXML & 582                                                      & infected                                                 & 142                                                      & RA                                                       & B5                                                       & P124                                                     & 0.00e+00                                                 & 0.006398734                                             \\\\\n",
       "\t18 & X583\\_Group3E\\_142dpi\\_RA\\_178\\_G\\_B6\\_P124.mzXML & 583                                                      & infected                                                 & 142                                                      & RA                                                       & B6                                                       & P124                                                     & 0.00e+00                                                 & 0.004067739                                             \\\\\n",
       "\t19 & X584\\_Group3E\\_142dpi\\_RA\\_179\\_G\\_B7\\_P124.mzXML & 584                                                      & infected                                                 & 142                                                      & RA                                                       & B7                                                       & P124                                                     & 0.00e+00                                                 & 0.007727994                                             \\\\\n",
       "\t20 & X585\\_Group3E\\_142dpi\\_RA\\_180\\_G\\_B8\\_P124.mzXML & 585                                                      & infected                                                 & 142                                                      & RA                                                       & B8                                                       & P124                                                     & 7.67e-05                                                 & 0.008717704                                             \\\\\n",
       "\t21 & X611\\_Group9\\_142dpi\\_RA\\_181\\_G\\_B9\\_P124.mzXML  & 611                                                      & combo                                                    & 142                                                      & RA                                                       & B9                                                       & P124                                                     & 0.00e+00                                                 & 0.003146454                                             \\\\\n",
       "\\end{tabular}\n"
      ],
      "text/markdown": [
       "\n",
       "| <!--/--> | filename | MouseID | Treatmentgroup | DPI | organ | well_position | plate | CAR_mid_chain | CAR_long_chain |\n",
       "|---|---|---|---|---|---|---|---|---|---|\n",
       "| 16 | X581_Group3E_142dpi_RA_176_G_B4_P124.mzXML | 581                                        | infected                                   | 142                                        | RA                                         | B4                                         | P124                                       | 0.00e+00                                   | 0.005147358                                |\n",
       "| 17 | X582_Group3E_142dpi_RA_177_G_B5_P124.mzXML | 582                                        | infected                                   | 142                                        | RA                                         | B5                                         | P124                                       | 0.00e+00                                   | 0.006398734                                |\n",
       "| 18 | X583_Group3E_142dpi_RA_178_G_B6_P124.mzXML | 583                                        | infected                                   | 142                                        | RA                                         | B6                                         | P124                                       | 0.00e+00                                   | 0.004067739                                |\n",
       "| 19 | X584_Group3E_142dpi_RA_179_G_B7_P124.mzXML | 584                                        | infected                                   | 142                                        | RA                                         | B7                                         | P124                                       | 0.00e+00                                   | 0.007727994                                |\n",
       "| 20 | X585_Group3E_142dpi_RA_180_G_B8_P124.mzXML | 585                                        | infected                                   | 142                                        | RA                                         | B8                                         | P124                                       | 7.67e-05                                   | 0.008717704                                |\n",
       "| 21 | X611_Group9_142dpi_RA_181_G_B9_P124.mzXML  | 611                                        | combo                                      | 142                                        | RA                                         | B9                                         | P124                                       | 0.00e+00                                   | 0.003146454                                |\n",
       "\n"
      ],
      "text/plain": [
       "   filename                                   MouseID Treatmentgroup DPI organ\n",
       "16 X581_Group3E_142dpi_RA_176_G_B4_P124.mzXML 581     infected       142 RA   \n",
       "17 X582_Group3E_142dpi_RA_177_G_B5_P124.mzXML 582     infected       142 RA   \n",
       "18 X583_Group3E_142dpi_RA_178_G_B6_P124.mzXML 583     infected       142 RA   \n",
       "19 X584_Group3E_142dpi_RA_179_G_B7_P124.mzXML 584     infected       142 RA   \n",
       "20 X585_Group3E_142dpi_RA_180_G_B8_P124.mzXML 585     infected       142 RA   \n",
       "21 X611_Group9_142dpi_RA_181_G_B9_P124.mzXML  611     combo          142 RA   \n",
       "   well_position plate CAR_mid_chain CAR_long_chain\n",
       "16 B4            P124  0.00e+00      0.005147358   \n",
       "17 B5            P124  0.00e+00      0.006398734   \n",
       "18 B6            P124  0.00e+00      0.004067739   \n",
       "19 B7            P124  0.00e+00      0.007727994   \n",
       "20 B8            P124  7.67e-05      0.008717704   \n",
       "21 B9            P124  0.00e+00      0.003146454   "
      ]
     },
     "metadata": {},
     "output_type": "display_data"
    },
    {
     "data": {
      "text/html": [
       "<ol class=list-inline>\n",
       "\t<li>30</li>\n",
       "\t<li>9</li>\n",
       "</ol>\n"
      ],
      "text/latex": [
       "\\begin{enumerate*}\n",
       "\\item 30\n",
       "\\item 9\n",
       "\\end{enumerate*}\n"
      ],
      "text/markdown": [
       "1. 30\n",
       "2. 9\n",
       "\n",
       "\n"
      ],
      "text/plain": [
       "[1] 30  9"
      ]
     },
     "metadata": {},
     "output_type": "display_data"
    }
   ],
   "source": [
    "features_pos<-droplevels(subset(a, a$Treatmentgroup==c(\"infected\")|a$Treatmentgroup==c(\"combo\")))\n",
    "head(features_pos)\n",
    "dim(features_pos)"
   ]
  },
  {
   "cell_type": "code",
   "execution_count": 4,
   "metadata": {
    "scrolled": false
   },
   "outputs": [
    {
     "data": {
      "text/html": [
       "<table>\n",
       "<thead><tr><th></th><th scope=col>CAR_mid_chain</th><th scope=col>CAR_long_chain</th></tr></thead>\n",
       "<tbody>\n",
       "\t<tr><th scope=row>16</th><td>0.00e+00   </td><td>0.005147358</td></tr>\n",
       "\t<tr><th scope=row>17</th><td>0.00e+00   </td><td>0.006398734</td></tr>\n",
       "\t<tr><th scope=row>18</th><td>0.00e+00   </td><td>0.004067739</td></tr>\n",
       "\t<tr><th scope=row>19</th><td>0.00e+00   </td><td>0.007727994</td></tr>\n",
       "\t<tr><th scope=row>20</th><td>7.67e-05   </td><td>0.008717704</td></tr>\n",
       "\t<tr><th scope=row>21</th><td>0.00e+00   </td><td>0.003146454</td></tr>\n",
       "</tbody>\n",
       "</table>\n"
      ],
      "text/latex": [
       "\\begin{tabular}{r|ll}\n",
       "  & CAR\\_mid\\_chain & CAR\\_long\\_chain\\\\\n",
       "\\hline\n",
       "\t16 & 0.00e+00    & 0.005147358\\\\\n",
       "\t17 & 0.00e+00    & 0.006398734\\\\\n",
       "\t18 & 0.00e+00    & 0.004067739\\\\\n",
       "\t19 & 0.00e+00    & 0.007727994\\\\\n",
       "\t20 & 7.67e-05    & 0.008717704\\\\\n",
       "\t21 & 0.00e+00    & 0.003146454\\\\\n",
       "\\end{tabular}\n"
      ],
      "text/markdown": [
       "\n",
       "| <!--/--> | CAR_mid_chain | CAR_long_chain |\n",
       "|---|---|---|\n",
       "| 16 | 0.00e+00    | 0.005147358 |\n",
       "| 17 | 0.00e+00    | 0.006398734 |\n",
       "| 18 | 0.00e+00    | 0.004067739 |\n",
       "| 19 | 0.00e+00    | 0.007727994 |\n",
       "| 20 | 7.67e-05    | 0.008717704 |\n",
       "| 21 | 0.00e+00    | 0.003146454 |\n",
       "\n"
      ],
      "text/plain": [
       "   CAR_mid_chain CAR_long_chain\n",
       "16 0.00e+00      0.005147358   \n",
       "17 0.00e+00      0.006398734   \n",
       "18 0.00e+00      0.004067739   \n",
       "19 0.00e+00      0.007727994   \n",
       "20 7.67e-05      0.008717704   \n",
       "21 0.00e+00      0.003146454   "
      ]
     },
     "metadata": {},
     "output_type": "display_data"
    },
    {
     "data": {
      "text/html": [
       "<dl class=dl-horizontal>\n",
       "\t<dt>CAR_mid_chain</dt>\n",
       "\t\t<dd>1</dd>\n",
       "\t<dt>CAR_long_chain</dt>\n",
       "\t\t<dd>2</dd>\n",
       "</dl>\n"
      ],
      "text/latex": [
       "\\begin{description*}\n",
       "\\item[CAR\\textbackslash{}\\_mid\\textbackslash{}\\_chain] 1\n",
       "\\item[CAR\\textbackslash{}\\_long\\textbackslash{}\\_chain] 2\n",
       "\\end{description*}\n"
      ],
      "text/markdown": [
       "CAR_mid_chain\n",
       ":   1CAR_long_chain\n",
       ":   2\n",
       "\n"
      ],
      "text/plain": [
       " CAR_mid_chain CAR_long_chain \n",
       "             1              2 "
      ]
     },
     "metadata": {},
     "output_type": "display_data"
    },
    {
     "data": {
      "text/html": [
       "<table>\n",
       "<thead><tr><th></th><th scope=col>CAR_mid_chain</th><th scope=col>CAR_long_chain</th></tr></thead>\n",
       "<tbody>\n",
       "\t<tr><th scope=row>16</th><td>0.00e+00   </td><td>0.005147358</td></tr>\n",
       "\t<tr><th scope=row>17</th><td>0.00e+00   </td><td>0.006398734</td></tr>\n",
       "\t<tr><th scope=row>18</th><td>0.00e+00   </td><td>0.004067739</td></tr>\n",
       "\t<tr><th scope=row>19</th><td>0.00e+00   </td><td>0.007727994</td></tr>\n",
       "\t<tr><th scope=row>20</th><td>7.67e-05   </td><td>0.008717704</td></tr>\n",
       "\t<tr><th scope=row>21</th><td>0.00e+00   </td><td>0.003146454</td></tr>\n",
       "\t<tr><th scope=row>22</th><td>0.00e+00   </td><td>0.005374843</td></tr>\n",
       "\t<tr><th scope=row>23</th><td>0.00e+00   </td><td>0.004721533</td></tr>\n",
       "\t<tr><th scope=row>24</th><td>0.00e+00   </td><td>0.005233590</td></tr>\n",
       "\t<tr><th scope=row>25</th><td>0.00e+00   </td><td>0.005787677</td></tr>\n",
       "\t<tr><th scope=row>31</th><td>0.00e+00   </td><td>0.001066209</td></tr>\n",
       "\t<tr><th scope=row>32</th><td>0.00e+00   </td><td>0.003285900</td></tr>\n",
       "\t<tr><th scope=row>33</th><td>0.00e+00   </td><td>0.002257876</td></tr>\n",
       "\t<tr><th scope=row>34</th><td>0.00e+00   </td><td>0.003821364</td></tr>\n",
       "\t<tr><th scope=row>35</th><td>0.00e+00   </td><td>0.001684721</td></tr>\n",
       "\t<tr><th scope=row>36</th><td>0.00e+00   </td><td>0.004438706</td></tr>\n",
       "\t<tr><th scope=row>37</th><td>0.00e+00   </td><td>0.003109728</td></tr>\n",
       "\t<tr><th scope=row>38</th><td>2.39e-05   </td><td>0.010384820</td></tr>\n",
       "\t<tr><th scope=row>39</th><td>0.00e+00   </td><td>0.006142335</td></tr>\n",
       "\t<tr><th scope=row>40</th><td>0.00e+00   </td><td>0.006712309</td></tr>\n",
       "\t<tr><th scope=row>46</th><td>0.00e+00   </td><td>0.005657812</td></tr>\n",
       "\t<tr><th scope=row>47</th><td>0.00e+00   </td><td>0.003647437</td></tr>\n",
       "\t<tr><th scope=row>48</th><td>0.00e+00   </td><td>0.003431166</td></tr>\n",
       "\t<tr><th scope=row>49</th><td>0.00e+00   </td><td>0.000936574</td></tr>\n",
       "\t<tr><th scope=row>50</th><td>0.00e+00   </td><td>0.002393614</td></tr>\n",
       "\t<tr><th scope=row>51</th><td>0.00e+00   </td><td>0.004063653</td></tr>\n",
       "\t<tr><th scope=row>52</th><td>0.00e+00   </td><td>0.005303991</td></tr>\n",
       "\t<tr><th scope=row>53</th><td>0.00e+00   </td><td>0.001589160</td></tr>\n",
       "\t<tr><th scope=row>54</th><td>0.00e+00   </td><td>0.002675411</td></tr>\n",
       "\t<tr><th scope=row>55</th><td>0.00e+00   </td><td>0.001414955</td></tr>\n",
       "</tbody>\n",
       "</table>\n"
      ],
      "text/latex": [
       "\\begin{tabular}{r|ll}\n",
       "  & CAR\\_mid\\_chain & CAR\\_long\\_chain\\\\\n",
       "\\hline\n",
       "\t16 & 0.00e+00    & 0.005147358\\\\\n",
       "\t17 & 0.00e+00    & 0.006398734\\\\\n",
       "\t18 & 0.00e+00    & 0.004067739\\\\\n",
       "\t19 & 0.00e+00    & 0.007727994\\\\\n",
       "\t20 & 7.67e-05    & 0.008717704\\\\\n",
       "\t21 & 0.00e+00    & 0.003146454\\\\\n",
       "\t22 & 0.00e+00    & 0.005374843\\\\\n",
       "\t23 & 0.00e+00    & 0.004721533\\\\\n",
       "\t24 & 0.00e+00    & 0.005233590\\\\\n",
       "\t25 & 0.00e+00    & 0.005787677\\\\\n",
       "\t31 & 0.00e+00    & 0.001066209\\\\\n",
       "\t32 & 0.00e+00    & 0.003285900\\\\\n",
       "\t33 & 0.00e+00    & 0.002257876\\\\\n",
       "\t34 & 0.00e+00    & 0.003821364\\\\\n",
       "\t35 & 0.00e+00    & 0.001684721\\\\\n",
       "\t36 & 0.00e+00    & 0.004438706\\\\\n",
       "\t37 & 0.00e+00    & 0.003109728\\\\\n",
       "\t38 & 2.39e-05    & 0.010384820\\\\\n",
       "\t39 & 0.00e+00    & 0.006142335\\\\\n",
       "\t40 & 0.00e+00    & 0.006712309\\\\\n",
       "\t46 & 0.00e+00    & 0.005657812\\\\\n",
       "\t47 & 0.00e+00    & 0.003647437\\\\\n",
       "\t48 & 0.00e+00    & 0.003431166\\\\\n",
       "\t49 & 0.00e+00    & 0.000936574\\\\\n",
       "\t50 & 0.00e+00    & 0.002393614\\\\\n",
       "\t51 & 0.00e+00    & 0.004063653\\\\\n",
       "\t52 & 0.00e+00    & 0.005303991\\\\\n",
       "\t53 & 0.00e+00    & 0.001589160\\\\\n",
       "\t54 & 0.00e+00    & 0.002675411\\\\\n",
       "\t55 & 0.00e+00    & 0.001414955\\\\\n",
       "\\end{tabular}\n"
      ],
      "text/markdown": [
       "\n",
       "| <!--/--> | CAR_mid_chain | CAR_long_chain |\n",
       "|---|---|---|\n",
       "| 16 | 0.00e+00    | 0.005147358 |\n",
       "| 17 | 0.00e+00    | 0.006398734 |\n",
       "| 18 | 0.00e+00    | 0.004067739 |\n",
       "| 19 | 0.00e+00    | 0.007727994 |\n",
       "| 20 | 7.67e-05    | 0.008717704 |\n",
       "| 21 | 0.00e+00    | 0.003146454 |\n",
       "| 22 | 0.00e+00    | 0.005374843 |\n",
       "| 23 | 0.00e+00    | 0.004721533 |\n",
       "| 24 | 0.00e+00    | 0.005233590 |\n",
       "| 25 | 0.00e+00    | 0.005787677 |\n",
       "| 31 | 0.00e+00    | 0.001066209 |\n",
       "| 32 | 0.00e+00    | 0.003285900 |\n",
       "| 33 | 0.00e+00    | 0.002257876 |\n",
       "| 34 | 0.00e+00    | 0.003821364 |\n",
       "| 35 | 0.00e+00    | 0.001684721 |\n",
       "| 36 | 0.00e+00    | 0.004438706 |\n",
       "| 37 | 0.00e+00    | 0.003109728 |\n",
       "| 38 | 2.39e-05    | 0.010384820 |\n",
       "| 39 | 0.00e+00    | 0.006142335 |\n",
       "| 40 | 0.00e+00    | 0.006712309 |\n",
       "| 46 | 0.00e+00    | 0.005657812 |\n",
       "| 47 | 0.00e+00    | 0.003647437 |\n",
       "| 48 | 0.00e+00    | 0.003431166 |\n",
       "| 49 | 0.00e+00    | 0.000936574 |\n",
       "| 50 | 0.00e+00    | 0.002393614 |\n",
       "| 51 | 0.00e+00    | 0.004063653 |\n",
       "| 52 | 0.00e+00    | 0.005303991 |\n",
       "| 53 | 0.00e+00    | 0.001589160 |\n",
       "| 54 | 0.00e+00    | 0.002675411 |\n",
       "| 55 | 0.00e+00    | 0.001414955 |\n",
       "\n"
      ],
      "text/plain": [
       "   CAR_mid_chain CAR_long_chain\n",
       "16 0.00e+00      0.005147358   \n",
       "17 0.00e+00      0.006398734   \n",
       "18 0.00e+00      0.004067739   \n",
       "19 0.00e+00      0.007727994   \n",
       "20 7.67e-05      0.008717704   \n",
       "21 0.00e+00      0.003146454   \n",
       "22 0.00e+00      0.005374843   \n",
       "23 0.00e+00      0.004721533   \n",
       "24 0.00e+00      0.005233590   \n",
       "25 0.00e+00      0.005787677   \n",
       "31 0.00e+00      0.001066209   \n",
       "32 0.00e+00      0.003285900   \n",
       "33 0.00e+00      0.002257876   \n",
       "34 0.00e+00      0.003821364   \n",
       "35 0.00e+00      0.001684721   \n",
       "36 0.00e+00      0.004438706   \n",
       "37 0.00e+00      0.003109728   \n",
       "38 2.39e-05      0.010384820   \n",
       "39 0.00e+00      0.006142335   \n",
       "40 0.00e+00      0.006712309   \n",
       "46 0.00e+00      0.005657812   \n",
       "47 0.00e+00      0.003647437   \n",
       "48 0.00e+00      0.003431166   \n",
       "49 0.00e+00      0.000936574   \n",
       "50 0.00e+00      0.002393614   \n",
       "51 0.00e+00      0.004063653   \n",
       "52 0.00e+00      0.005303991   \n",
       "53 0.00e+00      0.001589160   \n",
       "54 0.00e+00      0.002675411   \n",
       "55 0.00e+00      0.001414955   "
      ]
     },
     "metadata": {},
     "output_type": "display_data"
    },
    {
     "data": {
      "text/html": [
       "<table>\n",
       "<thead><tr><th></th><th scope=col>filename</th><th scope=col>MouseID</th><th scope=col>Treatmentgroup</th><th scope=col>DPI</th><th scope=col>organ</th><th scope=col>well_position</th><th scope=col>plate</th><th scope=col>CAR_mid_chain</th><th scope=col>CAR_long_chain</th></tr></thead>\n",
       "<tbody>\n",
       "\t<tr><th scope=row>16</th><td>X581_Group3E_142dpi_RA_176_G_B4_P124.mzXML</td><td>581                                       </td><td>infected                                  </td><td>142                                       </td><td>RA                                        </td><td>B4                                        </td><td>P124                                      </td><td>0.00e+00                                  </td><td>0.005147358                               </td></tr>\n",
       "\t<tr><th scope=row>17</th><td>X582_Group3E_142dpi_RA_177_G_B5_P124.mzXML</td><td>582                                       </td><td>infected                                  </td><td>142                                       </td><td>RA                                        </td><td>B5                                        </td><td>P124                                      </td><td>0.00e+00                                  </td><td>0.006398734                               </td></tr>\n",
       "\t<tr><th scope=row>18</th><td>X583_Group3E_142dpi_RA_178_G_B6_P124.mzXML</td><td>583                                       </td><td>infected                                  </td><td>142                                       </td><td>RA                                        </td><td>B6                                        </td><td>P124                                      </td><td>0.00e+00                                  </td><td>0.004067739                               </td></tr>\n",
       "\t<tr><th scope=row>19</th><td>X584_Group3E_142dpi_RA_179_G_B7_P124.mzXML</td><td>584                                       </td><td>infected                                  </td><td>142                                       </td><td>RA                                        </td><td>B7                                        </td><td>P124                                      </td><td>0.00e+00                                  </td><td>0.007727994                               </td></tr>\n",
       "\t<tr><th scope=row>20</th><td>X585_Group3E_142dpi_RA_180_G_B8_P124.mzXML</td><td>585                                       </td><td>infected                                  </td><td>142                                       </td><td>RA                                        </td><td>B8                                        </td><td>P124                                      </td><td>7.67e-05                                  </td><td>0.008717704                               </td></tr>\n",
       "\t<tr><th scope=row>21</th><td>X611_Group9_142dpi_RA_181_G_B9_P124.mzXML </td><td>611                                       </td><td>combo                                     </td><td>142                                       </td><td>RA                                        </td><td>B9                                        </td><td>P124                                      </td><td>0.00e+00                                  </td><td>0.003146454                               </td></tr>\n",
       "</tbody>\n",
       "</table>\n"
      ],
      "text/latex": [
       "\\begin{tabular}{r|lllllllll}\n",
       "  & filename & MouseID & Treatmentgroup & DPI & organ & well\\_position & plate & CAR\\_mid\\_chain & CAR\\_long\\_chain\\\\\n",
       "\\hline\n",
       "\t16 & X581\\_Group3E\\_142dpi\\_RA\\_176\\_G\\_B4\\_P124.mzXML & 581                                                      & infected                                                 & 142                                                      & RA                                                       & B4                                                       & P124                                                     & 0.00e+00                                                 & 0.005147358                                             \\\\\n",
       "\t17 & X582\\_Group3E\\_142dpi\\_RA\\_177\\_G\\_B5\\_P124.mzXML & 582                                                      & infected                                                 & 142                                                      & RA                                                       & B5                                                       & P124                                                     & 0.00e+00                                                 & 0.006398734                                             \\\\\n",
       "\t18 & X583\\_Group3E\\_142dpi\\_RA\\_178\\_G\\_B6\\_P124.mzXML & 583                                                      & infected                                                 & 142                                                      & RA                                                       & B6                                                       & P124                                                     & 0.00e+00                                                 & 0.004067739                                             \\\\\n",
       "\t19 & X584\\_Group3E\\_142dpi\\_RA\\_179\\_G\\_B7\\_P124.mzXML & 584                                                      & infected                                                 & 142                                                      & RA                                                       & B7                                                       & P124                                                     & 0.00e+00                                                 & 0.007727994                                             \\\\\n",
       "\t20 & X585\\_Group3E\\_142dpi\\_RA\\_180\\_G\\_B8\\_P124.mzXML & 585                                                      & infected                                                 & 142                                                      & RA                                                       & B8                                                       & P124                                                     & 7.67e-05                                                 & 0.008717704                                             \\\\\n",
       "\t21 & X611\\_Group9\\_142dpi\\_RA\\_181\\_G\\_B9\\_P124.mzXML  & 611                                                      & combo                                                    & 142                                                      & RA                                                       & B9                                                       & P124                                                     & 0.00e+00                                                 & 0.003146454                                             \\\\\n",
       "\\end{tabular}\n"
      ],
      "text/markdown": [
       "\n",
       "| <!--/--> | filename | MouseID | Treatmentgroup | DPI | organ | well_position | plate | CAR_mid_chain | CAR_long_chain |\n",
       "|---|---|---|---|---|---|---|---|---|---|\n",
       "| 16 | X581_Group3E_142dpi_RA_176_G_B4_P124.mzXML | 581                                        | infected                                   | 142                                        | RA                                         | B4                                         | P124                                       | 0.00e+00                                   | 0.005147358                                |\n",
       "| 17 | X582_Group3E_142dpi_RA_177_G_B5_P124.mzXML | 582                                        | infected                                   | 142                                        | RA                                         | B5                                         | P124                                       | 0.00e+00                                   | 0.006398734                                |\n",
       "| 18 | X583_Group3E_142dpi_RA_178_G_B6_P124.mzXML | 583                                        | infected                                   | 142                                        | RA                                         | B6                                         | P124                                       | 0.00e+00                                   | 0.004067739                                |\n",
       "| 19 | X584_Group3E_142dpi_RA_179_G_B7_P124.mzXML | 584                                        | infected                                   | 142                                        | RA                                         | B7                                         | P124                                       | 0.00e+00                                   | 0.007727994                                |\n",
       "| 20 | X585_Group3E_142dpi_RA_180_G_B8_P124.mzXML | 585                                        | infected                                   | 142                                        | RA                                         | B8                                         | P124                                       | 7.67e-05                                   | 0.008717704                                |\n",
       "| 21 | X611_Group9_142dpi_RA_181_G_B9_P124.mzXML  | 611                                        | combo                                      | 142                                        | RA                                         | B9                                         | P124                                       | 0.00e+00                                   | 0.003146454                                |\n",
       "\n"
      ],
      "text/plain": [
       "   filename                                   MouseID Treatmentgroup DPI organ\n",
       "16 X581_Group3E_142dpi_RA_176_G_B4_P124.mzXML 581     infected       142 RA   \n",
       "17 X582_Group3E_142dpi_RA_177_G_B5_P124.mzXML 582     infected       142 RA   \n",
       "18 X583_Group3E_142dpi_RA_178_G_B6_P124.mzXML 583     infected       142 RA   \n",
       "19 X584_Group3E_142dpi_RA_179_G_B7_P124.mzXML 584     infected       142 RA   \n",
       "20 X585_Group3E_142dpi_RA_180_G_B8_P124.mzXML 585     infected       142 RA   \n",
       "21 X611_Group9_142dpi_RA_181_G_B9_P124.mzXML  611     combo          142 RA   \n",
       "   well_position plate CAR_mid_chain CAR_long_chain\n",
       "16 B4            P124  0.00e+00      0.005147358   \n",
       "17 B5            P124  0.00e+00      0.006398734   \n",
       "18 B6            P124  0.00e+00      0.004067739   \n",
       "19 B7            P124  0.00e+00      0.007727994   \n",
       "20 B8            P124  7.67e-05      0.008717704   \n",
       "21 B9            P124  0.00e+00      0.003146454   "
      ]
     },
     "metadata": {},
     "output_type": "display_data"
    },
    {
     "data": {
      "text/html": [
       "<ol class=list-inline>\n",
       "\t<li>30</li>\n",
       "\t<li>9</li>\n",
       "</ol>\n"
      ],
      "text/latex": [
       "\\begin{enumerate*}\n",
       "\\item 30\n",
       "\\item 9\n",
       "\\end{enumerate*}\n"
      ],
      "text/markdown": [
       "1. 30\n",
       "2. 9\n",
       "\n",
       "\n"
      ],
      "text/plain": [
       "[1] 30  9"
      ]
     },
     "metadata": {},
     "output_type": "display_data"
    },
    {
     "data": {
      "text/html": [
       "<ol class=list-inline>\n",
       "\t<li>30</li>\n",
       "\t<li>2</li>\n",
       "</ol>\n"
      ],
      "text/latex": [
       "\\begin{enumerate*}\n",
       "\\item 30\n",
       "\\item 2\n",
       "\\end{enumerate*}\n"
      ],
      "text/markdown": [
       "1. 30\n",
       "2. 2\n",
       "\n",
       "\n"
      ],
      "text/plain": [
       "[1] 30  2"
      ]
     },
     "metadata": {},
     "output_type": "display_data"
    },
    {
     "data": {
      "text/html": [
       "<ol class=list-inline>\n",
       "\t<li>30</li>\n",
       "\t<li>2</li>\n",
       "</ol>\n"
      ],
      "text/latex": [
       "\\begin{enumerate*}\n",
       "\\item 30\n",
       "\\item 2\n",
       "\\end{enumerate*}\n"
      ],
      "text/markdown": [
       "1. 30\n",
       "2. 2\n",
       "\n",
       "\n"
      ],
      "text/plain": [
       "[1] 30  2"
      ]
     },
     "metadata": {},
     "output_type": "display_data"
    },
    {
     "data": {
      "text/html": [
       "<ol class=list-inline>\n",
       "\t<li>30</li>\n",
       "\t<li>9</li>\n",
       "</ol>\n"
      ],
      "text/latex": [
       "\\begin{enumerate*}\n",
       "\\item 30\n",
       "\\item 9\n",
       "\\end{enumerate*}\n"
      ],
      "text/markdown": [
       "1. 30\n",
       "2. 9\n",
       "\n",
       "\n"
      ],
      "text/plain": [
       "[1] 30  9"
      ]
     },
     "metadata": {},
     "output_type": "display_data"
    }
   ],
   "source": [
    "noMeta<-features_pos[,8:9]\n",
    "head(noMeta)\n",
    "not_zero<-which(colSums(noMeta) != 0)\n",
    "head(not_zero)\n",
    "nonzero <- noMeta[, not_zero]\n",
    "nonzero\n",
    "nonzero_wMeta<-cbind(features_pos[,1:7], nonzero)\n",
    "head(nonzero_wMeta)\n",
    "dim(features_pos)\n",
    "dim(noMeta)\n",
    "dim(nonzero)\n",
    "dim(nonzero_wMeta)"
   ]
  },
  {
   "cell_type": "code",
   "execution_count": 5,
   "metadata": {
    "scrolled": true
   },
   "outputs": [
    {
     "name": "stderr",
     "output_type": "stream",
     "text": [
      "Warning message in wilcox.test.default(x = c(0, 0, 0, 0, 0, 0, 0, 2.39e-05, 0, 0, :\n",
      "\"cannot compute exact p-value with ties\""
     ]
    },
    {
     "data": {
      "text/html": [
       "<ol class=list-inline>\n",
       "\t<li>1</li>\n",
       "\t<li>0.412375778055245</li>\n",
       "</ol>\n"
      ],
      "text/latex": [
       "\\begin{enumerate*}\n",
       "\\item 1\n",
       "\\item 0.412375778055245\n",
       "\\end{enumerate*}\n"
      ],
      "text/markdown": [
       "1. 1\n",
       "2. 0.412375778055245\n",
       "\n",
       "\n"
      ],
      "text/plain": [
       "[1] 1.0000000 0.4123758"
      ]
     },
     "metadata": {},
     "output_type": "display_data"
    },
    {
     "data": {
      "text/html": [
       "<ol class=list-inline>\n",
       "\t<li>1</li>\n",
       "\t<li>0.82475155611049</li>\n",
       "</ol>\n"
      ],
      "text/latex": [
       "\\begin{enumerate*}\n",
       "\\item 1\n",
       "\\item 0.82475155611049\n",
       "\\end{enumerate*}\n"
      ],
      "text/markdown": [
       "1. 1\n",
       "2. 0.82475155611049\n",
       "\n",
       "\n"
      ],
      "text/plain": [
       "[1] 1.0000000 0.8247516"
      ]
     },
     "metadata": {},
     "output_type": "display_data"
    }
   ],
   "source": [
    "pval<-c()\n",
    "\n",
    "for (i in 8:ncol(nonzero_wMeta)) \n",
    "pval<-c(pval,wilcox.test(nonzero_wMeta[,i]~nonzero_wMeta$Treatmentgroup)$p.value)\n",
    "head(pval)\n",
    "pAdj <- p.adjust(pval, method = c(\"fdr\"), n=length(pval)) \n",
    "head(pAdj) \n",
    "\n"
   ]
  },
  {
   "cell_type": "code",
   "execution_count": 6,
   "metadata": {
    "scrolled": true
   },
   "outputs": [
    {
     "data": {
      "text/html": [
       "2"
      ],
      "text/latex": [
       "2"
      ],
      "text/markdown": [
       "2"
      ],
      "text/plain": [
       "[1] 2"
      ]
     },
     "metadata": {},
     "output_type": "display_data"
    }
   ],
   "source": [
    "length(pval)"
   ]
  },
  {
   "cell_type": "code",
   "execution_count": 7,
   "metadata": {
    "scrolled": true
   },
   "outputs": [
    {
     "data": {
      "text/html": [
       "2"
      ],
      "text/latex": [
       "2"
      ],
      "text/markdown": [
       "2"
      ],
      "text/plain": [
       "[1] 2"
      ]
     },
     "metadata": {},
     "output_type": "display_data"
    }
   ],
   "source": [
    "length(pAdj)"
   ]
  },
  {
   "cell_type": "code",
   "execution_count": 8,
   "metadata": {},
   "outputs": [
    {
     "data": {
      "text/html": [
       "<ol class=list-inline>\n",
       "\t<li>2</li>\n",
       "\t<li>2</li>\n",
       "</ol>\n"
      ],
      "text/latex": [
       "\\begin{enumerate*}\n",
       "\\item 2\n",
       "\\item 2\n",
       "\\end{enumerate*}\n"
      ],
      "text/markdown": [
       "1. 2\n",
       "2. 2\n",
       "\n",
       "\n"
      ],
      "text/plain": [
       "[1] 2 2"
      ]
     },
     "metadata": {},
     "output_type": "display_data"
    },
    {
     "data": {
      "text/html": [
       "<table>\n",
       "<thead><tr><th></th><th scope=col>CAR_mid_chain</th><th scope=col>CAR_long_chain</th></tr></thead>\n",
       "<tbody>\n",
       "\t<tr><th scope=row>combo</th><td>1.593333e-06</td><td>0.004673278 </td></tr>\n",
       "\t<tr><th scope=row>infected</th><td>5.113333e-06</td><td>0.004016147 </td></tr>\n",
       "</tbody>\n",
       "</table>\n"
      ],
      "text/latex": [
       "\\begin{tabular}{r|ll}\n",
       "  & CAR\\_mid\\_chain & CAR\\_long\\_chain\\\\\n",
       "\\hline\n",
       "\tcombo & 1.593333e-06 & 0.004673278 \\\\\n",
       "\tinfected & 5.113333e-06 & 0.004016147 \\\\\n",
       "\\end{tabular}\n"
      ],
      "text/markdown": [
       "\n",
       "| <!--/--> | CAR_mid_chain | CAR_long_chain |\n",
       "|---|---|---|\n",
       "| combo | 1.593333e-06 | 0.004673278  |\n",
       "| infected | 5.113333e-06 | 0.004016147  |\n",
       "\n"
      ],
      "text/plain": [
       "         CAR_mid_chain CAR_long_chain\n",
       "combo    1.593333e-06  0.004673278   \n",
       "infected 5.113333e-06  0.004016147   "
      ]
     },
     "metadata": {},
     "output_type": "display_data"
    },
    {
     "data": {
      "text/html": [
       "<dl class=dl-horizontal>\n",
       "\t<dt>CAR_mid_chain</dt>\n",
       "\t\t<dd>0.311603650586701</dd>\n",
       "\t<dt>CAR_long_chain</dt>\n",
       "\t\t<dd>1.16362222283973</dd>\n",
       "</dl>\n"
      ],
      "text/latex": [
       "\\begin{description*}\n",
       "\\item[CAR\\textbackslash{}\\_mid\\textbackslash{}\\_chain] 0.311603650586701\n",
       "\\item[CAR\\textbackslash{}\\_long\\textbackslash{}\\_chain] 1.16362222283973\n",
       "\\end{description*}\n"
      ],
      "text/markdown": [
       "CAR_mid_chain\n",
       ":   0.311603650586701CAR_long_chain\n",
       ":   1.16362222283973\n",
       "\n"
      ],
      "text/plain": [
       " CAR_mid_chain CAR_long_chain \n",
       "     0.3116037      1.1636222 "
      ]
     },
     "metadata": {},
     "output_type": "display_data"
    },
    {
     "data": {
      "text/html": [
       "<ol class=list-inline>\n",
       "\t<li>'numeric'</li>\n",
       "\t<li>'vector'</li>\n",
       "</ol>\n"
      ],
      "text/latex": [
       "\\begin{enumerate*}\n",
       "\\item 'numeric'\n",
       "\\item 'vector'\n",
       "\\end{enumerate*}\n"
      ],
      "text/markdown": [
       "1. 'numeric'\n",
       "2. 'vector'\n",
       "\n",
       "\n"
      ],
      "text/plain": [
       "[1] \"numeric\" \"vector\" "
      ]
     },
     "metadata": {},
     "output_type": "display_data"
    }
   ],
   "source": [
    "avg<- apply(nonzero_wMeta[,8:ncol(nonzero_wMeta)], 2, function(x) tapply(x, nonzero_wMeta$Treatmentgroup, function(x) mean(x))) \n",
    "\n",
    "dim(avg)\n",
    "\n",
    "avg[,1:2]\n",
    "\n",
    "fch <- apply(avg, 2, function(x) x[1]/x[2]) \n",
    "\n",
    "head(fch)\n",
    "is(fch)"
   ]
  },
  {
   "cell_type": "code",
   "execution_count": 9,
   "metadata": {
    "scrolled": true
   },
   "outputs": [
    {
     "data": {
      "text/html": [
       "<dl class=dl-horizontal>\n",
       "\t<dt>CAR_mid_chain</dt>\n",
       "\t\t<dd>0.311603650586701</dd>\n",
       "\t<dt>CAR_long_chain</dt>\n",
       "\t\t<dd>1.16362222283973</dd>\n",
       "</dl>\n"
      ],
      "text/latex": [
       "\\begin{description*}\n",
       "\\item[CAR\\textbackslash{}\\_mid\\textbackslash{}\\_chain] 0.311603650586701\n",
       "\\item[CAR\\textbackslash{}\\_long\\textbackslash{}\\_chain] 1.16362222283973\n",
       "\\end{description*}\n"
      ],
      "text/markdown": [
       "CAR_mid_chain\n",
       ":   0.311603650586701CAR_long_chain\n",
       ":   1.16362222283973\n",
       "\n"
      ],
      "text/plain": [
       " CAR_mid_chain CAR_long_chain \n",
       "     0.3116037      1.1636222 "
      ]
     },
     "metadata": {},
     "output_type": "display_data"
    }
   ],
   "source": [
    "fch"
   ]
  },
  {
   "cell_type": "code",
   "execution_count": 10,
   "metadata": {
    "scrolled": false
   },
   "outputs": [],
   "source": [
    "df <- data.frame(fch,pval, pAdj)\n",
    "write.csv(df, \"CAR-treat-RA-wilcox-infected-combo.csv\")"
   ]
  },
  {
   "cell_type": "code",
   "execution_count": null,
   "metadata": {},
   "outputs": [],
   "source": []
  },
  {
   "cell_type": "code",
   "execution_count": null,
   "metadata": {},
   "outputs": [],
   "source": []
  },
  {
   "cell_type": "code",
   "execution_count": null,
   "metadata": {},
   "outputs": [],
   "source": []
  },
  {
   "cell_type": "code",
   "execution_count": null,
   "metadata": {},
   "outputs": [],
   "source": []
  },
  {
   "cell_type": "code",
   "execution_count": null,
   "metadata": {},
   "outputs": [],
   "source": []
  },
  {
   "cell_type": "code",
   "execution_count": null,
   "metadata": {},
   "outputs": [],
   "source": []
  }
 ],
 "metadata": {
  "kernelspec": {
   "display_name": "R",
   "language": "R",
   "name": "ir"
  },
  "language_info": {
   "codemirror_mode": "r",
   "file_extension": ".r",
   "mimetype": "text/x-r-source",
   "name": "R",
   "pygments_lexer": "r",
   "version": "3.6.1"
  }
 },
 "nbformat": 4,
 "nbformat_minor": 2
}
