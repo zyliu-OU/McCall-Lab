{
 "cells": [
  {
   "cell_type": "code",
   "execution_count": 1,
   "metadata": {},
   "outputs": [],
   "source": [
    "a <- read.csv(\"03172021-CAR-time-RVT-M-F.csv\")"
   ]
  },
  {
   "cell_type": "code",
   "execution_count": 2,
   "metadata": {},
   "outputs": [
    {
     "data": {
      "text/html": [
       "<table>\n",
       "<thead><tr><th scope=col>filename</th><th scope=col>MouseID</th><th scope=col>Treatmentgroup</th><th scope=col>status</th><th scope=col>DPI</th><th scope=col>organ</th><th scope=col>well_position</th><th scope=col>plate</th><th scope=col>CAR_mid_chain</th><th scope=col>CAR_long_chain</th></tr></thead>\n",
       "<tbody>\n",
       "\t<tr><td>X501_Group1A_50dpi_RV_top_251_B_A1_P137.mzXML</td><td>501                                          </td><td>Group1A                                      </td><td>naive                                        </td><td>DPI_50                                       </td><td>RV_top                                       </td><td>A1                                           </td><td>P137                                         </td><td>0                                            </td><td>0.000273748                                  </td></tr>\n",
       "\t<tr><td>X502_Group1A_50dpi_RV_top_252_B_A2_P137.mzXML</td><td>502                                          </td><td>Group1A                                      </td><td>naive                                        </td><td>DPI_50                                       </td><td>RV_top                                       </td><td>A2                                           </td><td>P137                                         </td><td>0                                            </td><td>0.000396923                                  </td></tr>\n",
       "\t<tr><td>X503_Group1A_50dpi_RV_top_253_B_A3_P137.mzXML</td><td>503                                          </td><td>Group1A                                      </td><td>naive                                        </td><td>DPI_50                                       </td><td>RV_top                                       </td><td>A3                                           </td><td>P137                                         </td><td>0                                            </td><td>0.000040600                                  </td></tr>\n",
       "\t<tr><td>X504_Group1A_50dpi_RV_top_254_B_A4_P137.mzXML</td><td>504                                          </td><td>Group1A                                      </td><td>naive                                        </td><td>DPI_50                                       </td><td>RV_top                                       </td><td>A4                                           </td><td>P137                                         </td><td>0                                            </td><td>0.001474421                                  </td></tr>\n",
       "\t<tr><td>X505_Group1A_50dpi_RV_top_255_B_A5_P137.mzXML</td><td>505                                          </td><td>Group1A                                      </td><td>naive                                        </td><td>DPI_50                                       </td><td>RV_top                                       </td><td>A5                                           </td><td>P137                                         </td><td>0                                            </td><td>0.000274512                                  </td></tr>\n",
       "\t<tr><td>X521_Group1A_50dpi_RV_top_256_B_A6_P137.mzXML</td><td>521                                          </td><td>Group1A                                      </td><td>naive                                        </td><td>DPI_50                                       </td><td>RV_top                                       </td><td>A6                                           </td><td>P137                                         </td><td>0                                            </td><td>0.000128641                                  </td></tr>\n",
       "</tbody>\n",
       "</table>\n"
      ],
      "text/latex": [
       "\\begin{tabular}{r|llllllllll}\n",
       " filename & MouseID & Treatmentgroup & status & DPI & organ & well\\_position & plate & CAR\\_mid\\_chain & CAR\\_long\\_chain\\\\\n",
       "\\hline\n",
       "\t X501\\_Group1A\\_50dpi\\_RV\\_top\\_251\\_B\\_A1\\_P137.mzXML & 501                                                           & Group1A                                                       & naive                                                         & DPI\\_50                                                      & RV\\_top                                                      & A1                                                            & P137                                                          & 0                                                             & 0.000273748                                                  \\\\\n",
       "\t X502\\_Group1A\\_50dpi\\_RV\\_top\\_252\\_B\\_A2\\_P137.mzXML & 502                                                           & Group1A                                                       & naive                                                         & DPI\\_50                                                      & RV\\_top                                                      & A2                                                            & P137                                                          & 0                                                             & 0.000396923                                                  \\\\\n",
       "\t X503\\_Group1A\\_50dpi\\_RV\\_top\\_253\\_B\\_A3\\_P137.mzXML & 503                                                           & Group1A                                                       & naive                                                         & DPI\\_50                                                      & RV\\_top                                                      & A3                                                            & P137                                                          & 0                                                             & 0.000040600                                                  \\\\\n",
       "\t X504\\_Group1A\\_50dpi\\_RV\\_top\\_254\\_B\\_A4\\_P137.mzXML & 504                                                           & Group1A                                                       & naive                                                         & DPI\\_50                                                      & RV\\_top                                                      & A4                                                            & P137                                                          & 0                                                             & 0.001474421                                                  \\\\\n",
       "\t X505\\_Group1A\\_50dpi\\_RV\\_top\\_255\\_B\\_A5\\_P137.mzXML & 505                                                           & Group1A                                                       & naive                                                         & DPI\\_50                                                      & RV\\_top                                                      & A5                                                            & P137                                                          & 0                                                             & 0.000274512                                                  \\\\\n",
       "\t X521\\_Group1A\\_50dpi\\_RV\\_top\\_256\\_B\\_A6\\_P137.mzXML & 521                                                           & Group1A                                                       & naive                                                         & DPI\\_50                                                      & RV\\_top                                                      & A6                                                            & P137                                                          & 0                                                             & 0.000128641                                                  \\\\\n",
       "\\end{tabular}\n"
      ],
      "text/markdown": [
       "\n",
       "| filename | MouseID | Treatmentgroup | status | DPI | organ | well_position | plate | CAR_mid_chain | CAR_long_chain |\n",
       "|---|---|---|---|---|---|---|---|---|---|\n",
       "| X501_Group1A_50dpi_RV_top_251_B_A1_P137.mzXML | 501                                           | Group1A                                       | naive                                         | DPI_50                                        | RV_top                                        | A1                                            | P137                                          | 0                                             | 0.000273748                                   |\n",
       "| X502_Group1A_50dpi_RV_top_252_B_A2_P137.mzXML | 502                                           | Group1A                                       | naive                                         | DPI_50                                        | RV_top                                        | A2                                            | P137                                          | 0                                             | 0.000396923                                   |\n",
       "| X503_Group1A_50dpi_RV_top_253_B_A3_P137.mzXML | 503                                           | Group1A                                       | naive                                         | DPI_50                                        | RV_top                                        | A3                                            | P137                                          | 0                                             | 0.000040600                                   |\n",
       "| X504_Group1A_50dpi_RV_top_254_B_A4_P137.mzXML | 504                                           | Group1A                                       | naive                                         | DPI_50                                        | RV_top                                        | A4                                            | P137                                          | 0                                             | 0.001474421                                   |\n",
       "| X505_Group1A_50dpi_RV_top_255_B_A5_P137.mzXML | 505                                           | Group1A                                       | naive                                         | DPI_50                                        | RV_top                                        | A5                                            | P137                                          | 0                                             | 0.000274512                                   |\n",
       "| X521_Group1A_50dpi_RV_top_256_B_A6_P137.mzXML | 521                                           | Group1A                                       | naive                                         | DPI_50                                        | RV_top                                        | A6                                            | P137                                          | 0                                             | 0.000128641                                   |\n",
       "\n"
      ],
      "text/plain": [
       "  filename                                      MouseID Treatmentgroup status\n",
       "1 X501_Group1A_50dpi_RV_top_251_B_A1_P137.mzXML 501     Group1A        naive \n",
       "2 X502_Group1A_50dpi_RV_top_252_B_A2_P137.mzXML 502     Group1A        naive \n",
       "3 X503_Group1A_50dpi_RV_top_253_B_A3_P137.mzXML 503     Group1A        naive \n",
       "4 X504_Group1A_50dpi_RV_top_254_B_A4_P137.mzXML 504     Group1A        naive \n",
       "5 X505_Group1A_50dpi_RV_top_255_B_A5_P137.mzXML 505     Group1A        naive \n",
       "6 X521_Group1A_50dpi_RV_top_256_B_A6_P137.mzXML 521     Group1A        naive \n",
       "  DPI    organ  well_position plate CAR_mid_chain CAR_long_chain\n",
       "1 DPI_50 RV_top A1            P137  0             0.000273748   \n",
       "2 DPI_50 RV_top A2            P137  0             0.000396923   \n",
       "3 DPI_50 RV_top A3            P137  0             0.000040600   \n",
       "4 DPI_50 RV_top A4            P137  0             0.001474421   \n",
       "5 DPI_50 RV_top A5            P137  0             0.000274512   \n",
       "6 DPI_50 RV_top A6            P137  0             0.000128641   "
      ]
     },
     "metadata": {},
     "output_type": "display_data"
    },
    {
     "data": {
      "text/html": [
       "<ol class=list-inline>\n",
       "\t<li>90</li>\n",
       "\t<li>10</li>\n",
       "</ol>\n"
      ],
      "text/latex": [
       "\\begin{enumerate*}\n",
       "\\item 90\n",
       "\\item 10\n",
       "\\end{enumerate*}\n"
      ],
      "text/markdown": [
       "1. 90\n",
       "2. 10\n",
       "\n",
       "\n"
      ],
      "text/plain": [
       "[1] 90 10"
      ]
     },
     "metadata": {},
     "output_type": "display_data"
    }
   ],
   "source": [
    "head(a)\n",
    "dim(a)"
   ]
  },
  {
   "cell_type": "code",
   "execution_count": 3,
   "metadata": {},
   "outputs": [
    {
     "data": {
      "text/html": [
       "<table>\n",
       "<thead><tr><th scope=col>filename</th><th scope=col>MouseID</th><th scope=col>Treatmentgroup</th><th scope=col>status</th><th scope=col>DPI</th><th scope=col>organ</th><th scope=col>well_position</th><th scope=col>plate</th><th scope=col>CAR_mid_chain</th><th scope=col>CAR_long_chain</th></tr></thead>\n",
       "<tbody>\n",
       "\t<tr><td>X501_Group1A_50dpi_RV_top_251_B_A1_P137.mzXML</td><td>501                                          </td><td>Group1A                                      </td><td>naive                                        </td><td>DPI_50                                       </td><td>RV_top                                       </td><td>A1                                           </td><td>P137                                         </td><td>0                                            </td><td>0.000273748                                  </td></tr>\n",
       "\t<tr><td>X502_Group1A_50dpi_RV_top_252_B_A2_P137.mzXML</td><td>502                                          </td><td>Group1A                                      </td><td>naive                                        </td><td>DPI_50                                       </td><td>RV_top                                       </td><td>A2                                           </td><td>P137                                         </td><td>0                                            </td><td>0.000396923                                  </td></tr>\n",
       "\t<tr><td>X503_Group1A_50dpi_RV_top_253_B_A3_P137.mzXML</td><td>503                                          </td><td>Group1A                                      </td><td>naive                                        </td><td>DPI_50                                       </td><td>RV_top                                       </td><td>A3                                           </td><td>P137                                         </td><td>0                                            </td><td>0.000040600                                  </td></tr>\n",
       "\t<tr><td>X504_Group1A_50dpi_RV_top_254_B_A4_P137.mzXML</td><td>504                                          </td><td>Group1A                                      </td><td>naive                                        </td><td>DPI_50                                       </td><td>RV_top                                       </td><td>A4                                           </td><td>P137                                         </td><td>0                                            </td><td>0.001474421                                  </td></tr>\n",
       "\t<tr><td>X505_Group1A_50dpi_RV_top_255_B_A5_P137.mzXML</td><td>505                                          </td><td>Group1A                                      </td><td>naive                                        </td><td>DPI_50                                       </td><td>RV_top                                       </td><td>A5                                           </td><td>P137                                         </td><td>0                                            </td><td>0.000274512                                  </td></tr>\n",
       "\t<tr><td>X521_Group1A_50dpi_RV_top_256_B_A6_P137.mzXML</td><td>521                                          </td><td>Group1A                                      </td><td>naive                                        </td><td>DPI_50                                       </td><td>RV_top                                       </td><td>A6                                           </td><td>P137                                         </td><td>0                                            </td><td>0.000128641                                  </td></tr>\n",
       "</tbody>\n",
       "</table>\n"
      ],
      "text/latex": [
       "\\begin{tabular}{r|llllllllll}\n",
       " filename & MouseID & Treatmentgroup & status & DPI & organ & well\\_position & plate & CAR\\_mid\\_chain & CAR\\_long\\_chain\\\\\n",
       "\\hline\n",
       "\t X501\\_Group1A\\_50dpi\\_RV\\_top\\_251\\_B\\_A1\\_P137.mzXML & 501                                                           & Group1A                                                       & naive                                                         & DPI\\_50                                                      & RV\\_top                                                      & A1                                                            & P137                                                          & 0                                                             & 0.000273748                                                  \\\\\n",
       "\t X502\\_Group1A\\_50dpi\\_RV\\_top\\_252\\_B\\_A2\\_P137.mzXML & 502                                                           & Group1A                                                       & naive                                                         & DPI\\_50                                                      & RV\\_top                                                      & A2                                                            & P137                                                          & 0                                                             & 0.000396923                                                  \\\\\n",
       "\t X503\\_Group1A\\_50dpi\\_RV\\_top\\_253\\_B\\_A3\\_P137.mzXML & 503                                                           & Group1A                                                       & naive                                                         & DPI\\_50                                                      & RV\\_top                                                      & A3                                                            & P137                                                          & 0                                                             & 0.000040600                                                  \\\\\n",
       "\t X504\\_Group1A\\_50dpi\\_RV\\_top\\_254\\_B\\_A4\\_P137.mzXML & 504                                                           & Group1A                                                       & naive                                                         & DPI\\_50                                                      & RV\\_top                                                      & A4                                                            & P137                                                          & 0                                                             & 0.001474421                                                  \\\\\n",
       "\t X505\\_Group1A\\_50dpi\\_RV\\_top\\_255\\_B\\_A5\\_P137.mzXML & 505                                                           & Group1A                                                       & naive                                                         & DPI\\_50                                                      & RV\\_top                                                      & A5                                                            & P137                                                          & 0                                                             & 0.000274512                                                  \\\\\n",
       "\t X521\\_Group1A\\_50dpi\\_RV\\_top\\_256\\_B\\_A6\\_P137.mzXML & 521                                                           & Group1A                                                       & naive                                                         & DPI\\_50                                                      & RV\\_top                                                      & A6                                                            & P137                                                          & 0                                                             & 0.000128641                                                  \\\\\n",
       "\\end{tabular}\n"
      ],
      "text/markdown": [
       "\n",
       "| filename | MouseID | Treatmentgroup | status | DPI | organ | well_position | plate | CAR_mid_chain | CAR_long_chain |\n",
       "|---|---|---|---|---|---|---|---|---|---|\n",
       "| X501_Group1A_50dpi_RV_top_251_B_A1_P137.mzXML | 501                                           | Group1A                                       | naive                                         | DPI_50                                        | RV_top                                        | A1                                            | P137                                          | 0                                             | 0.000273748                                   |\n",
       "| X502_Group1A_50dpi_RV_top_252_B_A2_P137.mzXML | 502                                           | Group1A                                       | naive                                         | DPI_50                                        | RV_top                                        | A2                                            | P137                                          | 0                                             | 0.000396923                                   |\n",
       "| X503_Group1A_50dpi_RV_top_253_B_A3_P137.mzXML | 503                                           | Group1A                                       | naive                                         | DPI_50                                        | RV_top                                        | A3                                            | P137                                          | 0                                             | 0.000040600                                   |\n",
       "| X504_Group1A_50dpi_RV_top_254_B_A4_P137.mzXML | 504                                           | Group1A                                       | naive                                         | DPI_50                                        | RV_top                                        | A4                                            | P137                                          | 0                                             | 0.001474421                                   |\n",
       "| X505_Group1A_50dpi_RV_top_255_B_A5_P137.mzXML | 505                                           | Group1A                                       | naive                                         | DPI_50                                        | RV_top                                        | A5                                            | P137                                          | 0                                             | 0.000274512                                   |\n",
       "| X521_Group1A_50dpi_RV_top_256_B_A6_P137.mzXML | 521                                           | Group1A                                       | naive                                         | DPI_50                                        | RV_top                                        | A6                                            | P137                                          | 0                                             | 0.000128641                                   |\n",
       "\n"
      ],
      "text/plain": [
       "  filename                                      MouseID Treatmentgroup status\n",
       "1 X501_Group1A_50dpi_RV_top_251_B_A1_P137.mzXML 501     Group1A        naive \n",
       "2 X502_Group1A_50dpi_RV_top_252_B_A2_P137.mzXML 502     Group1A        naive \n",
       "3 X503_Group1A_50dpi_RV_top_253_B_A3_P137.mzXML 503     Group1A        naive \n",
       "4 X504_Group1A_50dpi_RV_top_254_B_A4_P137.mzXML 504     Group1A        naive \n",
       "5 X505_Group1A_50dpi_RV_top_255_B_A5_P137.mzXML 505     Group1A        naive \n",
       "6 X521_Group1A_50dpi_RV_top_256_B_A6_P137.mzXML 521     Group1A        naive \n",
       "  DPI    organ  well_position plate CAR_mid_chain CAR_long_chain\n",
       "1 DPI_50 RV_top A1            P137  0             0.000273748   \n",
       "2 DPI_50 RV_top A2            P137  0             0.000396923   \n",
       "3 DPI_50 RV_top A3            P137  0             0.000040600   \n",
       "4 DPI_50 RV_top A4            P137  0             0.001474421   \n",
       "5 DPI_50 RV_top A5            P137  0             0.000274512   \n",
       "6 DPI_50 RV_top A6            P137  0             0.000128641   "
      ]
     },
     "metadata": {},
     "output_type": "display_data"
    },
    {
     "data": {
      "text/html": [
       "<ol class=list-inline>\n",
       "\t<li>30</li>\n",
       "\t<li>10</li>\n",
       "</ol>\n"
      ],
      "text/latex": [
       "\\begin{enumerate*}\n",
       "\\item 30\n",
       "\\item 10\n",
       "\\end{enumerate*}\n"
      ],
      "text/markdown": [
       "1. 30\n",
       "2. 10\n",
       "\n",
       "\n"
      ],
      "text/plain": [
       "[1] 30 10"
      ]
     },
     "metadata": {},
     "output_type": "display_data"
    }
   ],
   "source": [
    "features_pos<-droplevels(subset(a, a$Treatmentgroup==c(\"Group1A\")|a$Treatmentgroup==c(\"Group3A\")))\n",
    "head(features_pos)\n",
    "dim(features_pos)"
   ]
  },
  {
   "cell_type": "code",
   "execution_count": 4,
   "metadata": {
    "scrolled": false
   },
   "outputs": [
    {
     "data": {
      "text/html": [
       "<table>\n",
       "<thead><tr><th scope=col>CAR_mid_chain</th><th scope=col>CAR_long_chain</th></tr></thead>\n",
       "<tbody>\n",
       "\t<tr><td>0          </td><td>0.000273748</td></tr>\n",
       "\t<tr><td>0          </td><td>0.000396923</td></tr>\n",
       "\t<tr><td>0          </td><td>0.000040600</td></tr>\n",
       "\t<tr><td>0          </td><td>0.001474421</td></tr>\n",
       "\t<tr><td>0          </td><td>0.000274512</td></tr>\n",
       "\t<tr><td>0          </td><td>0.000128641</td></tr>\n",
       "</tbody>\n",
       "</table>\n"
      ],
      "text/latex": [
       "\\begin{tabular}{r|ll}\n",
       " CAR\\_mid\\_chain & CAR\\_long\\_chain\\\\\n",
       "\\hline\n",
       "\t 0           & 0.000273748\\\\\n",
       "\t 0           & 0.000396923\\\\\n",
       "\t 0           & 0.000040600\\\\\n",
       "\t 0           & 0.001474421\\\\\n",
       "\t 0           & 0.000274512\\\\\n",
       "\t 0           & 0.000128641\\\\\n",
       "\\end{tabular}\n"
      ],
      "text/markdown": [
       "\n",
       "| CAR_mid_chain | CAR_long_chain |\n",
       "|---|---|\n",
       "| 0           | 0.000273748 |\n",
       "| 0           | 0.000396923 |\n",
       "| 0           | 0.000040600 |\n",
       "| 0           | 0.001474421 |\n",
       "| 0           | 0.000274512 |\n",
       "| 0           | 0.000128641 |\n",
       "\n"
      ],
      "text/plain": [
       "  CAR_mid_chain CAR_long_chain\n",
       "1 0             0.000273748   \n",
       "2 0             0.000396923   \n",
       "3 0             0.000040600   \n",
       "4 0             0.001474421   \n",
       "5 0             0.000274512   \n",
       "6 0             0.000128641   "
      ]
     },
     "metadata": {},
     "output_type": "display_data"
    },
    {
     "data": {
      "text/html": [
       "<dl class=dl-horizontal>\n",
       "\t<dt>CAR_mid_chain</dt>\n",
       "\t\t<dd>1</dd>\n",
       "\t<dt>CAR_long_chain</dt>\n",
       "\t\t<dd>2</dd>\n",
       "</dl>\n"
      ],
      "text/latex": [
       "\\begin{description*}\n",
       "\\item[CAR\\textbackslash{}\\_mid\\textbackslash{}\\_chain] 1\n",
       "\\item[CAR\\textbackslash{}\\_long\\textbackslash{}\\_chain] 2\n",
       "\\end{description*}\n"
      ],
      "text/markdown": [
       "CAR_mid_chain\n",
       ":   1CAR_long_chain\n",
       ":   2\n",
       "\n"
      ],
      "text/plain": [
       " CAR_mid_chain CAR_long_chain \n",
       "             1              2 "
      ]
     },
     "metadata": {},
     "output_type": "display_data"
    },
    {
     "data": {
      "text/html": [
       "<table>\n",
       "<thead><tr><th></th><th scope=col>CAR_mid_chain</th><th scope=col>CAR_long_chain</th></tr></thead>\n",
       "<tbody>\n",
       "\t<tr><th scope=row>1</th><td>0.00e+00   </td><td>0.000273748</td></tr>\n",
       "\t<tr><th scope=row>2</th><td>0.00e+00   </td><td>0.000396923</td></tr>\n",
       "\t<tr><th scope=row>3</th><td>0.00e+00   </td><td>0.000040600</td></tr>\n",
       "\t<tr><th scope=row>4</th><td>0.00e+00   </td><td>0.001474421</td></tr>\n",
       "\t<tr><th scope=row>5</th><td>0.00e+00   </td><td>0.000274512</td></tr>\n",
       "\t<tr><th scope=row>6</th><td>0.00e+00   </td><td>0.000128641</td></tr>\n",
       "\t<tr><th scope=row>7</th><td>0.00e+00   </td><td>0.002324911</td></tr>\n",
       "\t<tr><th scope=row>8</th><td>0.00e+00   </td><td>0.000072000</td></tr>\n",
       "\t<tr><th scope=row>9</th><td>0.00e+00   </td><td>0.010487334</td></tr>\n",
       "\t<tr><th scope=row>10</th><td>0.00e+00   </td><td>0.000652513</td></tr>\n",
       "\t<tr><th scope=row>11</th><td>0.00e+00   </td><td>0.010065618</td></tr>\n",
       "\t<tr><th scope=row>12</th><td>0.00e+00   </td><td>0.004387461</td></tr>\n",
       "\t<tr><th scope=row>13</th><td>0.00e+00   </td><td>0.000100900</td></tr>\n",
       "\t<tr><th scope=row>14</th><td>0.00e+00   </td><td>0.008186389</td></tr>\n",
       "\t<tr><th scope=row>15</th><td>0.00e+00   </td><td>0.000056600</td></tr>\n",
       "\t<tr><th scope=row>46</th><td>0.00e+00   </td><td>0.002066470</td></tr>\n",
       "\t<tr><th scope=row>47</th><td>0.00e+00   </td><td>0.007242973</td></tr>\n",
       "\t<tr><th scope=row>48</th><td>0.00e+00   </td><td>0.001596940</td></tr>\n",
       "\t<tr><th scope=row>49</th><td>0.00e+00   </td><td>0.000501512</td></tr>\n",
       "\t<tr><th scope=row>50</th><td>0.00e+00   </td><td>0.000472390</td></tr>\n",
       "\t<tr><th scope=row>51</th><td>6.63e-05   </td><td>0.000037200</td></tr>\n",
       "\t<tr><th scope=row>52</th><td>0.00e+00   </td><td>0.000045600</td></tr>\n",
       "\t<tr><th scope=row>53</th><td>0.00e+00   </td><td>0.000086400</td></tr>\n",
       "\t<tr><th scope=row>54</th><td>0.00e+00   </td><td>0.000610296</td></tr>\n",
       "\t<tr><th scope=row>55</th><td>0.00e+00   </td><td>0.000928591</td></tr>\n",
       "\t<tr><th scope=row>56</th><td>0.00e+00   </td><td>0.000068300</td></tr>\n",
       "\t<tr><th scope=row>57</th><td>0.00e+00   </td><td>0.000270585</td></tr>\n",
       "\t<tr><th scope=row>58</th><td>0.00e+00   </td><td>0.000000000</td></tr>\n",
       "\t<tr><th scope=row>59</th><td>0.00e+00   </td><td>0.000000000</td></tr>\n",
       "\t<tr><th scope=row>60</th><td>0.00e+00   </td><td>0.000051400</td></tr>\n",
       "</tbody>\n",
       "</table>\n"
      ],
      "text/latex": [
       "\\begin{tabular}{r|ll}\n",
       "  & CAR\\_mid\\_chain & CAR\\_long\\_chain\\\\\n",
       "\\hline\n",
       "\t1 & 0.00e+00    & 0.000273748\\\\\n",
       "\t2 & 0.00e+00    & 0.000396923\\\\\n",
       "\t3 & 0.00e+00    & 0.000040600\\\\\n",
       "\t4 & 0.00e+00    & 0.001474421\\\\\n",
       "\t5 & 0.00e+00    & 0.000274512\\\\\n",
       "\t6 & 0.00e+00    & 0.000128641\\\\\n",
       "\t7 & 0.00e+00    & 0.002324911\\\\\n",
       "\t8 & 0.00e+00    & 0.000072000\\\\\n",
       "\t9 & 0.00e+00    & 0.010487334\\\\\n",
       "\t10 & 0.00e+00    & 0.000652513\\\\\n",
       "\t11 & 0.00e+00    & 0.010065618\\\\\n",
       "\t12 & 0.00e+00    & 0.004387461\\\\\n",
       "\t13 & 0.00e+00    & 0.000100900\\\\\n",
       "\t14 & 0.00e+00    & 0.008186389\\\\\n",
       "\t15 & 0.00e+00    & 0.000056600\\\\\n",
       "\t46 & 0.00e+00    & 0.002066470\\\\\n",
       "\t47 & 0.00e+00    & 0.007242973\\\\\n",
       "\t48 & 0.00e+00    & 0.001596940\\\\\n",
       "\t49 & 0.00e+00    & 0.000501512\\\\\n",
       "\t50 & 0.00e+00    & 0.000472390\\\\\n",
       "\t51 & 6.63e-05    & 0.000037200\\\\\n",
       "\t52 & 0.00e+00    & 0.000045600\\\\\n",
       "\t53 & 0.00e+00    & 0.000086400\\\\\n",
       "\t54 & 0.00e+00    & 0.000610296\\\\\n",
       "\t55 & 0.00e+00    & 0.000928591\\\\\n",
       "\t56 & 0.00e+00    & 0.000068300\\\\\n",
       "\t57 & 0.00e+00    & 0.000270585\\\\\n",
       "\t58 & 0.00e+00    & 0.000000000\\\\\n",
       "\t59 & 0.00e+00    & 0.000000000\\\\\n",
       "\t60 & 0.00e+00    & 0.000051400\\\\\n",
       "\\end{tabular}\n"
      ],
      "text/markdown": [
       "\n",
       "| <!--/--> | CAR_mid_chain | CAR_long_chain |\n",
       "|---|---|---|\n",
       "| 1 | 0.00e+00    | 0.000273748 |\n",
       "| 2 | 0.00e+00    | 0.000396923 |\n",
       "| 3 | 0.00e+00    | 0.000040600 |\n",
       "| 4 | 0.00e+00    | 0.001474421 |\n",
       "| 5 | 0.00e+00    | 0.000274512 |\n",
       "| 6 | 0.00e+00    | 0.000128641 |\n",
       "| 7 | 0.00e+00    | 0.002324911 |\n",
       "| 8 | 0.00e+00    | 0.000072000 |\n",
       "| 9 | 0.00e+00    | 0.010487334 |\n",
       "| 10 | 0.00e+00    | 0.000652513 |\n",
       "| 11 | 0.00e+00    | 0.010065618 |\n",
       "| 12 | 0.00e+00    | 0.004387461 |\n",
       "| 13 | 0.00e+00    | 0.000100900 |\n",
       "| 14 | 0.00e+00    | 0.008186389 |\n",
       "| 15 | 0.00e+00    | 0.000056600 |\n",
       "| 46 | 0.00e+00    | 0.002066470 |\n",
       "| 47 | 0.00e+00    | 0.007242973 |\n",
       "| 48 | 0.00e+00    | 0.001596940 |\n",
       "| 49 | 0.00e+00    | 0.000501512 |\n",
       "| 50 | 0.00e+00    | 0.000472390 |\n",
       "| 51 | 6.63e-05    | 0.000037200 |\n",
       "| 52 | 0.00e+00    | 0.000045600 |\n",
       "| 53 | 0.00e+00    | 0.000086400 |\n",
       "| 54 | 0.00e+00    | 0.000610296 |\n",
       "| 55 | 0.00e+00    | 0.000928591 |\n",
       "| 56 | 0.00e+00    | 0.000068300 |\n",
       "| 57 | 0.00e+00    | 0.000270585 |\n",
       "| 58 | 0.00e+00    | 0.000000000 |\n",
       "| 59 | 0.00e+00    | 0.000000000 |\n",
       "| 60 | 0.00e+00    | 0.000051400 |\n",
       "\n"
      ],
      "text/plain": [
       "   CAR_mid_chain CAR_long_chain\n",
       "1  0.00e+00      0.000273748   \n",
       "2  0.00e+00      0.000396923   \n",
       "3  0.00e+00      0.000040600   \n",
       "4  0.00e+00      0.001474421   \n",
       "5  0.00e+00      0.000274512   \n",
       "6  0.00e+00      0.000128641   \n",
       "7  0.00e+00      0.002324911   \n",
       "8  0.00e+00      0.000072000   \n",
       "9  0.00e+00      0.010487334   \n",
       "10 0.00e+00      0.000652513   \n",
       "11 0.00e+00      0.010065618   \n",
       "12 0.00e+00      0.004387461   \n",
       "13 0.00e+00      0.000100900   \n",
       "14 0.00e+00      0.008186389   \n",
       "15 0.00e+00      0.000056600   \n",
       "46 0.00e+00      0.002066470   \n",
       "47 0.00e+00      0.007242973   \n",
       "48 0.00e+00      0.001596940   \n",
       "49 0.00e+00      0.000501512   \n",
       "50 0.00e+00      0.000472390   \n",
       "51 6.63e-05      0.000037200   \n",
       "52 0.00e+00      0.000045600   \n",
       "53 0.00e+00      0.000086400   \n",
       "54 0.00e+00      0.000610296   \n",
       "55 0.00e+00      0.000928591   \n",
       "56 0.00e+00      0.000068300   \n",
       "57 0.00e+00      0.000270585   \n",
       "58 0.00e+00      0.000000000   \n",
       "59 0.00e+00      0.000000000   \n",
       "60 0.00e+00      0.000051400   "
      ]
     },
     "metadata": {},
     "output_type": "display_data"
    },
    {
     "data": {
      "text/html": [
       "<table>\n",
       "<thead><tr><th scope=col>filename</th><th scope=col>MouseID</th><th scope=col>Treatmentgroup</th><th scope=col>status</th><th scope=col>DPI</th><th scope=col>organ</th><th scope=col>well_position</th><th scope=col>plate</th><th scope=col>CAR_mid_chain</th><th scope=col>CAR_long_chain</th></tr></thead>\n",
       "<tbody>\n",
       "\t<tr><td>X501_Group1A_50dpi_RV_top_251_B_A1_P137.mzXML</td><td>501                                          </td><td>Group1A                                      </td><td>naive                                        </td><td>DPI_50                                       </td><td>RV_top                                       </td><td>A1                                           </td><td>P137                                         </td><td>0                                            </td><td>0.000273748                                  </td></tr>\n",
       "\t<tr><td>X502_Group1A_50dpi_RV_top_252_B_A2_P137.mzXML</td><td>502                                          </td><td>Group1A                                      </td><td>naive                                        </td><td>DPI_50                                       </td><td>RV_top                                       </td><td>A2                                           </td><td>P137                                         </td><td>0                                            </td><td>0.000396923                                  </td></tr>\n",
       "\t<tr><td>X503_Group1A_50dpi_RV_top_253_B_A3_P137.mzXML</td><td>503                                          </td><td>Group1A                                      </td><td>naive                                        </td><td>DPI_50                                       </td><td>RV_top                                       </td><td>A3                                           </td><td>P137                                         </td><td>0                                            </td><td>0.000040600                                  </td></tr>\n",
       "\t<tr><td>X504_Group1A_50dpi_RV_top_254_B_A4_P137.mzXML</td><td>504                                          </td><td>Group1A                                      </td><td>naive                                        </td><td>DPI_50                                       </td><td>RV_top                                       </td><td>A4                                           </td><td>P137                                         </td><td>0                                            </td><td>0.001474421                                  </td></tr>\n",
       "\t<tr><td>X505_Group1A_50dpi_RV_top_255_B_A5_P137.mzXML</td><td>505                                          </td><td>Group1A                                      </td><td>naive                                        </td><td>DPI_50                                       </td><td>RV_top                                       </td><td>A5                                           </td><td>P137                                         </td><td>0                                            </td><td>0.000274512                                  </td></tr>\n",
       "\t<tr><td>X521_Group1A_50dpi_RV_top_256_B_A6_P137.mzXML</td><td>521                                          </td><td>Group1A                                      </td><td>naive                                        </td><td>DPI_50                                       </td><td>RV_top                                       </td><td>A6                                           </td><td>P137                                         </td><td>0                                            </td><td>0.000128641                                  </td></tr>\n",
       "</tbody>\n",
       "</table>\n"
      ],
      "text/latex": [
       "\\begin{tabular}{r|llllllllll}\n",
       " filename & MouseID & Treatmentgroup & status & DPI & organ & well\\_position & plate & CAR\\_mid\\_chain & CAR\\_long\\_chain\\\\\n",
       "\\hline\n",
       "\t X501\\_Group1A\\_50dpi\\_RV\\_top\\_251\\_B\\_A1\\_P137.mzXML & 501                                                           & Group1A                                                       & naive                                                         & DPI\\_50                                                      & RV\\_top                                                      & A1                                                            & P137                                                          & 0                                                             & 0.000273748                                                  \\\\\n",
       "\t X502\\_Group1A\\_50dpi\\_RV\\_top\\_252\\_B\\_A2\\_P137.mzXML & 502                                                           & Group1A                                                       & naive                                                         & DPI\\_50                                                      & RV\\_top                                                      & A2                                                            & P137                                                          & 0                                                             & 0.000396923                                                  \\\\\n",
       "\t X503\\_Group1A\\_50dpi\\_RV\\_top\\_253\\_B\\_A3\\_P137.mzXML & 503                                                           & Group1A                                                       & naive                                                         & DPI\\_50                                                      & RV\\_top                                                      & A3                                                            & P137                                                          & 0                                                             & 0.000040600                                                  \\\\\n",
       "\t X504\\_Group1A\\_50dpi\\_RV\\_top\\_254\\_B\\_A4\\_P137.mzXML & 504                                                           & Group1A                                                       & naive                                                         & DPI\\_50                                                      & RV\\_top                                                      & A4                                                            & P137                                                          & 0                                                             & 0.001474421                                                  \\\\\n",
       "\t X505\\_Group1A\\_50dpi\\_RV\\_top\\_255\\_B\\_A5\\_P137.mzXML & 505                                                           & Group1A                                                       & naive                                                         & DPI\\_50                                                      & RV\\_top                                                      & A5                                                            & P137                                                          & 0                                                             & 0.000274512                                                  \\\\\n",
       "\t X521\\_Group1A\\_50dpi\\_RV\\_top\\_256\\_B\\_A6\\_P137.mzXML & 521                                                           & Group1A                                                       & naive                                                         & DPI\\_50                                                      & RV\\_top                                                      & A6                                                            & P137                                                          & 0                                                             & 0.000128641                                                  \\\\\n",
       "\\end{tabular}\n"
      ],
      "text/markdown": [
       "\n",
       "| filename | MouseID | Treatmentgroup | status | DPI | organ | well_position | plate | CAR_mid_chain | CAR_long_chain |\n",
       "|---|---|---|---|---|---|---|---|---|---|\n",
       "| X501_Group1A_50dpi_RV_top_251_B_A1_P137.mzXML | 501                                           | Group1A                                       | naive                                         | DPI_50                                        | RV_top                                        | A1                                            | P137                                          | 0                                             | 0.000273748                                   |\n",
       "| X502_Group1A_50dpi_RV_top_252_B_A2_P137.mzXML | 502                                           | Group1A                                       | naive                                         | DPI_50                                        | RV_top                                        | A2                                            | P137                                          | 0                                             | 0.000396923                                   |\n",
       "| X503_Group1A_50dpi_RV_top_253_B_A3_P137.mzXML | 503                                           | Group1A                                       | naive                                         | DPI_50                                        | RV_top                                        | A3                                            | P137                                          | 0                                             | 0.000040600                                   |\n",
       "| X504_Group1A_50dpi_RV_top_254_B_A4_P137.mzXML | 504                                           | Group1A                                       | naive                                         | DPI_50                                        | RV_top                                        | A4                                            | P137                                          | 0                                             | 0.001474421                                   |\n",
       "| X505_Group1A_50dpi_RV_top_255_B_A5_P137.mzXML | 505                                           | Group1A                                       | naive                                         | DPI_50                                        | RV_top                                        | A5                                            | P137                                          | 0                                             | 0.000274512                                   |\n",
       "| X521_Group1A_50dpi_RV_top_256_B_A6_P137.mzXML | 521                                           | Group1A                                       | naive                                         | DPI_50                                        | RV_top                                        | A6                                            | P137                                          | 0                                             | 0.000128641                                   |\n",
       "\n"
      ],
      "text/plain": [
       "  filename                                      MouseID Treatmentgroup status\n",
       "1 X501_Group1A_50dpi_RV_top_251_B_A1_P137.mzXML 501     Group1A        naive \n",
       "2 X502_Group1A_50dpi_RV_top_252_B_A2_P137.mzXML 502     Group1A        naive \n",
       "3 X503_Group1A_50dpi_RV_top_253_B_A3_P137.mzXML 503     Group1A        naive \n",
       "4 X504_Group1A_50dpi_RV_top_254_B_A4_P137.mzXML 504     Group1A        naive \n",
       "5 X505_Group1A_50dpi_RV_top_255_B_A5_P137.mzXML 505     Group1A        naive \n",
       "6 X521_Group1A_50dpi_RV_top_256_B_A6_P137.mzXML 521     Group1A        naive \n",
       "  DPI    organ  well_position plate CAR_mid_chain CAR_long_chain\n",
       "1 DPI_50 RV_top A1            P137  0             0.000273748   \n",
       "2 DPI_50 RV_top A2            P137  0             0.000396923   \n",
       "3 DPI_50 RV_top A3            P137  0             0.000040600   \n",
       "4 DPI_50 RV_top A4            P137  0             0.001474421   \n",
       "5 DPI_50 RV_top A5            P137  0             0.000274512   \n",
       "6 DPI_50 RV_top A6            P137  0             0.000128641   "
      ]
     },
     "metadata": {},
     "output_type": "display_data"
    },
    {
     "data": {
      "text/html": [
       "<ol class=list-inline>\n",
       "\t<li>30</li>\n",
       "\t<li>10</li>\n",
       "</ol>\n"
      ],
      "text/latex": [
       "\\begin{enumerate*}\n",
       "\\item 30\n",
       "\\item 10\n",
       "\\end{enumerate*}\n"
      ],
      "text/markdown": [
       "1. 30\n",
       "2. 10\n",
       "\n",
       "\n"
      ],
      "text/plain": [
       "[1] 30 10"
      ]
     },
     "metadata": {},
     "output_type": "display_data"
    },
    {
     "data": {
      "text/html": [
       "<ol class=list-inline>\n",
       "\t<li>30</li>\n",
       "\t<li>2</li>\n",
       "</ol>\n"
      ],
      "text/latex": [
       "\\begin{enumerate*}\n",
       "\\item 30\n",
       "\\item 2\n",
       "\\end{enumerate*}\n"
      ],
      "text/markdown": [
       "1. 30\n",
       "2. 2\n",
       "\n",
       "\n"
      ],
      "text/plain": [
       "[1] 30  2"
      ]
     },
     "metadata": {},
     "output_type": "display_data"
    },
    {
     "data": {
      "text/html": [
       "<ol class=list-inline>\n",
       "\t<li>30</li>\n",
       "\t<li>2</li>\n",
       "</ol>\n"
      ],
      "text/latex": [
       "\\begin{enumerate*}\n",
       "\\item 30\n",
       "\\item 2\n",
       "\\end{enumerate*}\n"
      ],
      "text/markdown": [
       "1. 30\n",
       "2. 2\n",
       "\n",
       "\n"
      ],
      "text/plain": [
       "[1] 30  2"
      ]
     },
     "metadata": {},
     "output_type": "display_data"
    },
    {
     "data": {
      "text/html": [
       "<ol class=list-inline>\n",
       "\t<li>30</li>\n",
       "\t<li>10</li>\n",
       "</ol>\n"
      ],
      "text/latex": [
       "\\begin{enumerate*}\n",
       "\\item 30\n",
       "\\item 10\n",
       "\\end{enumerate*}\n"
      ],
      "text/markdown": [
       "1. 30\n",
       "2. 10\n",
       "\n",
       "\n"
      ],
      "text/plain": [
       "[1] 30 10"
      ]
     },
     "metadata": {},
     "output_type": "display_data"
    }
   ],
   "source": [
    "noMeta<-features_pos[,9:10]\n",
    "head(noMeta)\n",
    "not_zero<-which(colSums(noMeta) != 0)\n",
    "head(not_zero)\n",
    "nonzero <- noMeta[, not_zero]\n",
    "nonzero\n",
    "nonzero_wMeta<-cbind(features_pos[,1:8], nonzero)\n",
    "head(nonzero_wMeta)\n",
    "dim(features_pos)\n",
    "dim(noMeta)\n",
    "dim(nonzero)\n",
    "dim(nonzero_wMeta)"
   ]
  },
  {
   "cell_type": "code",
   "execution_count": 5,
   "metadata": {
    "scrolled": true
   },
   "outputs": [
    {
     "name": "stderr",
     "output_type": "stream",
     "text": [
      "Warning message in wilcox.test.default(x = c(0, 0, 0, 0, 0, 0, 0, 0, 0, 0, 0, 0, :\n",
      "\"cannot compute exact p-value with ties\"Warning message in wilcox.test.default(x = c(0.000273748, 0.000396923, 4.06e-05, :\n",
      "\"cannot compute exact p-value with ties\""
     ]
    },
    {
     "data": {
      "text/html": [
       "<ol class=list-inline>\n",
       "\t<li>0.350647889704459</li>\n",
       "\t<li>0.146531113782421</li>\n",
       "</ol>\n"
      ],
      "text/latex": [
       "\\begin{enumerate*}\n",
       "\\item 0.350647889704459\n",
       "\\item 0.146531113782421\n",
       "\\end{enumerate*}\n"
      ],
      "text/markdown": [
       "1. 0.350647889704459\n",
       "2. 0.146531113782421\n",
       "\n",
       "\n"
      ],
      "text/plain": [
       "[1] 0.3506479 0.1465311"
      ]
     },
     "metadata": {},
     "output_type": "display_data"
    },
    {
     "data": {
      "text/html": [
       "<ol class=list-inline>\n",
       "\t<li>0.350647889704459</li>\n",
       "\t<li>0.293062227564841</li>\n",
       "</ol>\n"
      ],
      "text/latex": [
       "\\begin{enumerate*}\n",
       "\\item 0.350647889704459\n",
       "\\item 0.293062227564841\n",
       "\\end{enumerate*}\n"
      ],
      "text/markdown": [
       "1. 0.350647889704459\n",
       "2. 0.293062227564841\n",
       "\n",
       "\n"
      ],
      "text/plain": [
       "[1] 0.3506479 0.2930622"
      ]
     },
     "metadata": {},
     "output_type": "display_data"
    }
   ],
   "source": [
    "pval<-c()\n",
    "\n",
    "for (i in 9:ncol(nonzero_wMeta)) \n",
    "pval<-c(pval,wilcox.test(nonzero_wMeta[,i]~nonzero_wMeta$Treatmentgroup)$p.value)\n",
    "head(pval) \n",
    "pAdj <- p.adjust(pval, method = c(\"fdr\"), n=length(pval)) \n",
    "head(pAdj) \n",
    "\n"
   ]
  },
  {
   "cell_type": "code",
   "execution_count": 6,
   "metadata": {
    "scrolled": true
   },
   "outputs": [
    {
     "data": {
      "text/html": [
       "2"
      ],
      "text/latex": [
       "2"
      ],
      "text/markdown": [
       "2"
      ],
      "text/plain": [
       "[1] 2"
      ]
     },
     "metadata": {},
     "output_type": "display_data"
    }
   ],
   "source": [
    "length(pval)"
   ]
  },
  {
   "cell_type": "code",
   "execution_count": 7,
   "metadata": {
    "scrolled": true
   },
   "outputs": [
    {
     "data": {
      "text/html": [
       "2"
      ],
      "text/latex": [
       "2"
      ],
      "text/markdown": [
       "2"
      ],
      "text/plain": [
       "[1] 2"
      ]
     },
     "metadata": {},
     "output_type": "display_data"
    }
   ],
   "source": [
    "length(pAdj)"
   ]
  },
  {
   "cell_type": "code",
   "execution_count": 8,
   "metadata": {},
   "outputs": [
    {
     "data": {
      "text/html": [
       "<ol class=list-inline>\n",
       "\t<li>2</li>\n",
       "\t<li>2</li>\n",
       "</ol>\n"
      ],
      "text/latex": [
       "\\begin{enumerate*}\n",
       "\\item 2\n",
       "\\item 2\n",
       "\\end{enumerate*}\n"
      ],
      "text/markdown": [
       "1. 2\n",
       "2. 2\n",
       "\n",
       "\n"
      ],
      "text/plain": [
       "[1] 2 2"
      ]
     },
     "metadata": {},
     "output_type": "display_data"
    },
    {
     "data": {
      "text/html": [
       "<table>\n",
       "<thead><tr><th></th><th scope=col>CAR_mid_chain</th><th scope=col>CAR_long_chain</th></tr></thead>\n",
       "<tbody>\n",
       "\t<tr><th scope=row>Group1A</th><td>0.00e+00    </td><td>0.0025948381</td></tr>\n",
       "\t<tr><th scope=row>Group3A</th><td>4.42e-06    </td><td>0.0009319105</td></tr>\n",
       "</tbody>\n",
       "</table>\n"
      ],
      "text/latex": [
       "\\begin{tabular}{r|ll}\n",
       "  & CAR\\_mid\\_chain & CAR\\_long\\_chain\\\\\n",
       "\\hline\n",
       "\tGroup1A & 0.00e+00     & 0.0025948381\\\\\n",
       "\tGroup3A & 4.42e-06     & 0.0009319105\\\\\n",
       "\\end{tabular}\n"
      ],
      "text/markdown": [
       "\n",
       "| <!--/--> | CAR_mid_chain | CAR_long_chain |\n",
       "|---|---|---|\n",
       "| Group1A | 0.00e+00     | 0.0025948381 |\n",
       "| Group3A | 4.42e-06     | 0.0009319105 |\n",
       "\n"
      ],
      "text/plain": [
       "        CAR_mid_chain CAR_long_chain\n",
       "Group1A 0.00e+00      0.0025948381  \n",
       "Group3A 4.42e-06      0.0009319105  "
      ]
     },
     "metadata": {},
     "output_type": "display_data"
    },
    {
     "data": {
      "text/html": [
       "<dl class=dl-horizontal>\n",
       "\t<dt>CAR_mid_chain</dt>\n",
       "\t\t<dd>0</dd>\n",
       "\t<dt>CAR_long_chain</dt>\n",
       "\t\t<dd>2.78442850411166</dd>\n",
       "</dl>\n"
      ],
      "text/latex": [
       "\\begin{description*}\n",
       "\\item[CAR\\textbackslash{}\\_mid\\textbackslash{}\\_chain] 0\n",
       "\\item[CAR\\textbackslash{}\\_long\\textbackslash{}\\_chain] 2.78442850411166\n",
       "\\end{description*}\n"
      ],
      "text/markdown": [
       "CAR_mid_chain\n",
       ":   0CAR_long_chain\n",
       ":   2.78442850411166\n",
       "\n"
      ],
      "text/plain": [
       " CAR_mid_chain CAR_long_chain \n",
       "      0.000000       2.784429 "
      ]
     },
     "metadata": {},
     "output_type": "display_data"
    },
    {
     "data": {
      "text/html": [
       "<ol class=list-inline>\n",
       "\t<li>'numeric'</li>\n",
       "\t<li>'vector'</li>\n",
       "</ol>\n"
      ],
      "text/latex": [
       "\\begin{enumerate*}\n",
       "\\item 'numeric'\n",
       "\\item 'vector'\n",
       "\\end{enumerate*}\n"
      ],
      "text/markdown": [
       "1. 'numeric'\n",
       "2. 'vector'\n",
       "\n",
       "\n"
      ],
      "text/plain": [
       "[1] \"numeric\" \"vector\" "
      ]
     },
     "metadata": {},
     "output_type": "display_data"
    }
   ],
   "source": [
    "avg<- apply(nonzero_wMeta[,9:ncol(nonzero_wMeta)], 2, function(x) tapply(x, nonzero_wMeta$Treatmentgroup, function(x) mean(x))) \n",
    "\n",
    "dim(avg) \n",
    "\n",
    "avg[,1:2]\n",
    "\n",
    "fch <- apply(avg, 2, function(x) x[1]/x[2])\n",
    "\n",
    "head(fch) \n",
    "is(fch)"
   ]
  },
  {
   "cell_type": "code",
   "execution_count": 9,
   "metadata": {
    "scrolled": true
   },
   "outputs": [
    {
     "data": {
      "text/html": [
       "<dl class=dl-horizontal>\n",
       "\t<dt>CAR_mid_chain</dt>\n",
       "\t\t<dd>0</dd>\n",
       "\t<dt>CAR_long_chain</dt>\n",
       "\t\t<dd>2.78442850411166</dd>\n",
       "</dl>\n"
      ],
      "text/latex": [
       "\\begin{description*}\n",
       "\\item[CAR\\textbackslash{}\\_mid\\textbackslash{}\\_chain] 0\n",
       "\\item[CAR\\textbackslash{}\\_long\\textbackslash{}\\_chain] 2.78442850411166\n",
       "\\end{description*}\n"
      ],
      "text/markdown": [
       "CAR_mid_chain\n",
       ":   0CAR_long_chain\n",
       ":   2.78442850411166\n",
       "\n"
      ],
      "text/plain": [
       " CAR_mid_chain CAR_long_chain \n",
       "      0.000000       2.784429 "
      ]
     },
     "metadata": {},
     "output_type": "display_data"
    }
   ],
   "source": [
    "fch"
   ]
  },
  {
   "cell_type": "code",
   "execution_count": 10,
   "metadata": {
    "scrolled": false
   },
   "outputs": [],
   "source": [
    "df <- data.frame(fch,pval, pAdj)\n",
    "write.csv(df, \"CAR-time-RVT-wilcox-1A-3A.csv\")"
   ]
  },
  {
   "cell_type": "code",
   "execution_count": null,
   "metadata": {},
   "outputs": [],
   "source": []
  },
  {
   "cell_type": "code",
   "execution_count": null,
   "metadata": {},
   "outputs": [],
   "source": []
  },
  {
   "cell_type": "code",
   "execution_count": null,
   "metadata": {},
   "outputs": [],
   "source": []
  },
  {
   "cell_type": "code",
   "execution_count": null,
   "metadata": {},
   "outputs": [],
   "source": []
  },
  {
   "cell_type": "code",
   "execution_count": null,
   "metadata": {},
   "outputs": [],
   "source": []
  },
  {
   "cell_type": "code",
   "execution_count": null,
   "metadata": {},
   "outputs": [],
   "source": []
  }
 ],
 "metadata": {
  "kernelspec": {
   "display_name": "R",
   "language": "R",
   "name": "ir"
  },
  "language_info": {
   "codemirror_mode": "r",
   "file_extension": ".r",
   "mimetype": "text/x-r-source",
   "name": "R",
   "pygments_lexer": "r",
   "version": "3.6.1"
  }
 },
 "nbformat": 4,
 "nbformat_minor": 2
}
