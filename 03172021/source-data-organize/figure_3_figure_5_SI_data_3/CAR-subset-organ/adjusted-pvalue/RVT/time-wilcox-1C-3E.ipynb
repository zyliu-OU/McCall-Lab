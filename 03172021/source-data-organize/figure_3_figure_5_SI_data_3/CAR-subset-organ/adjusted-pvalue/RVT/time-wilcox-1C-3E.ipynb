{
 "cells": [
  {
   "cell_type": "code",
   "execution_count": 11,
   "metadata": {},
   "outputs": [],
   "source": [
    "a <- read.csv(\"03172021-CAR-time-RVT-M-F.csv\")"
   ]
  },
  {
   "cell_type": "code",
   "execution_count": 12,
   "metadata": {},
   "outputs": [
    {
     "data": {
      "text/html": [
       "<table>\n",
       "<thead><tr><th scope=col>filename</th><th scope=col>MouseID</th><th scope=col>Treatmentgroup</th><th scope=col>status</th><th scope=col>DPI</th><th scope=col>organ</th><th scope=col>well_position</th><th scope=col>plate</th><th scope=col>CAR_mid_chain</th><th scope=col>CAR_long_chain</th></tr></thead>\n",
       "<tbody>\n",
       "\t<tr><td>X501_Group1A_50dpi_RV_top_251_B_A1_P137.mzXML</td><td>501                                          </td><td>Group1A                                      </td><td>naive                                        </td><td>DPI_50                                       </td><td>RV_top                                       </td><td>A1                                           </td><td>P137                                         </td><td>0                                            </td><td>0.000273748                                  </td></tr>\n",
       "\t<tr><td>X502_Group1A_50dpi_RV_top_252_B_A2_P137.mzXML</td><td>502                                          </td><td>Group1A                                      </td><td>naive                                        </td><td>DPI_50                                       </td><td>RV_top                                       </td><td>A2                                           </td><td>P137                                         </td><td>0                                            </td><td>0.000396923                                  </td></tr>\n",
       "\t<tr><td>X503_Group1A_50dpi_RV_top_253_B_A3_P137.mzXML</td><td>503                                          </td><td>Group1A                                      </td><td>naive                                        </td><td>DPI_50                                       </td><td>RV_top                                       </td><td>A3                                           </td><td>P137                                         </td><td>0                                            </td><td>0.000040600                                  </td></tr>\n",
       "\t<tr><td>X504_Group1A_50dpi_RV_top_254_B_A4_P137.mzXML</td><td>504                                          </td><td>Group1A                                      </td><td>naive                                        </td><td>DPI_50                                       </td><td>RV_top                                       </td><td>A4                                           </td><td>P137                                         </td><td>0                                            </td><td>0.001474421                                  </td></tr>\n",
       "\t<tr><td>X505_Group1A_50dpi_RV_top_255_B_A5_P137.mzXML</td><td>505                                          </td><td>Group1A                                      </td><td>naive                                        </td><td>DPI_50                                       </td><td>RV_top                                       </td><td>A5                                           </td><td>P137                                         </td><td>0                                            </td><td>0.000274512                                  </td></tr>\n",
       "\t<tr><td>X521_Group1A_50dpi_RV_top_256_B_A6_P137.mzXML</td><td>521                                          </td><td>Group1A                                      </td><td>naive                                        </td><td>DPI_50                                       </td><td>RV_top                                       </td><td>A6                                           </td><td>P137                                         </td><td>0                                            </td><td>0.000128641                                  </td></tr>\n",
       "</tbody>\n",
       "</table>\n"
      ],
      "text/latex": [
       "\\begin{tabular}{r|llllllllll}\n",
       " filename & MouseID & Treatmentgroup & status & DPI & organ & well\\_position & plate & CAR\\_mid\\_chain & CAR\\_long\\_chain\\\\\n",
       "\\hline\n",
       "\t X501\\_Group1A\\_50dpi\\_RV\\_top\\_251\\_B\\_A1\\_P137.mzXML & 501                                                           & Group1A                                                       & naive                                                         & DPI\\_50                                                      & RV\\_top                                                      & A1                                                            & P137                                                          & 0                                                             & 0.000273748                                                  \\\\\n",
       "\t X502\\_Group1A\\_50dpi\\_RV\\_top\\_252\\_B\\_A2\\_P137.mzXML & 502                                                           & Group1A                                                       & naive                                                         & DPI\\_50                                                      & RV\\_top                                                      & A2                                                            & P137                                                          & 0                                                             & 0.000396923                                                  \\\\\n",
       "\t X503\\_Group1A\\_50dpi\\_RV\\_top\\_253\\_B\\_A3\\_P137.mzXML & 503                                                           & Group1A                                                       & naive                                                         & DPI\\_50                                                      & RV\\_top                                                      & A3                                                            & P137                                                          & 0                                                             & 0.000040600                                                  \\\\\n",
       "\t X504\\_Group1A\\_50dpi\\_RV\\_top\\_254\\_B\\_A4\\_P137.mzXML & 504                                                           & Group1A                                                       & naive                                                         & DPI\\_50                                                      & RV\\_top                                                      & A4                                                            & P137                                                          & 0                                                             & 0.001474421                                                  \\\\\n",
       "\t X505\\_Group1A\\_50dpi\\_RV\\_top\\_255\\_B\\_A5\\_P137.mzXML & 505                                                           & Group1A                                                       & naive                                                         & DPI\\_50                                                      & RV\\_top                                                      & A5                                                            & P137                                                          & 0                                                             & 0.000274512                                                  \\\\\n",
       "\t X521\\_Group1A\\_50dpi\\_RV\\_top\\_256\\_B\\_A6\\_P137.mzXML & 521                                                           & Group1A                                                       & naive                                                         & DPI\\_50                                                      & RV\\_top                                                      & A6                                                            & P137                                                          & 0                                                             & 0.000128641                                                  \\\\\n",
       "\\end{tabular}\n"
      ],
      "text/markdown": [
       "\n",
       "| filename | MouseID | Treatmentgroup | status | DPI | organ | well_position | plate | CAR_mid_chain | CAR_long_chain |\n",
       "|---|---|---|---|---|---|---|---|---|---|\n",
       "| X501_Group1A_50dpi_RV_top_251_B_A1_P137.mzXML | 501                                           | Group1A                                       | naive                                         | DPI_50                                        | RV_top                                        | A1                                            | P137                                          | 0                                             | 0.000273748                                   |\n",
       "| X502_Group1A_50dpi_RV_top_252_B_A2_P137.mzXML | 502                                           | Group1A                                       | naive                                         | DPI_50                                        | RV_top                                        | A2                                            | P137                                          | 0                                             | 0.000396923                                   |\n",
       "| X503_Group1A_50dpi_RV_top_253_B_A3_P137.mzXML | 503                                           | Group1A                                       | naive                                         | DPI_50                                        | RV_top                                        | A3                                            | P137                                          | 0                                             | 0.000040600                                   |\n",
       "| X504_Group1A_50dpi_RV_top_254_B_A4_P137.mzXML | 504                                           | Group1A                                       | naive                                         | DPI_50                                        | RV_top                                        | A4                                            | P137                                          | 0                                             | 0.001474421                                   |\n",
       "| X505_Group1A_50dpi_RV_top_255_B_A5_P137.mzXML | 505                                           | Group1A                                       | naive                                         | DPI_50                                        | RV_top                                        | A5                                            | P137                                          | 0                                             | 0.000274512                                   |\n",
       "| X521_Group1A_50dpi_RV_top_256_B_A6_P137.mzXML | 521                                           | Group1A                                       | naive                                         | DPI_50                                        | RV_top                                        | A6                                            | P137                                          | 0                                             | 0.000128641                                   |\n",
       "\n"
      ],
      "text/plain": [
       "  filename                                      MouseID Treatmentgroup status\n",
       "1 X501_Group1A_50dpi_RV_top_251_B_A1_P137.mzXML 501     Group1A        naive \n",
       "2 X502_Group1A_50dpi_RV_top_252_B_A2_P137.mzXML 502     Group1A        naive \n",
       "3 X503_Group1A_50dpi_RV_top_253_B_A3_P137.mzXML 503     Group1A        naive \n",
       "4 X504_Group1A_50dpi_RV_top_254_B_A4_P137.mzXML 504     Group1A        naive \n",
       "5 X505_Group1A_50dpi_RV_top_255_B_A5_P137.mzXML 505     Group1A        naive \n",
       "6 X521_Group1A_50dpi_RV_top_256_B_A6_P137.mzXML 521     Group1A        naive \n",
       "  DPI    organ  well_position plate CAR_mid_chain CAR_long_chain\n",
       "1 DPI_50 RV_top A1            P137  0             0.000273748   \n",
       "2 DPI_50 RV_top A2            P137  0             0.000396923   \n",
       "3 DPI_50 RV_top A3            P137  0             0.000040600   \n",
       "4 DPI_50 RV_top A4            P137  0             0.001474421   \n",
       "5 DPI_50 RV_top A5            P137  0             0.000274512   \n",
       "6 DPI_50 RV_top A6            P137  0             0.000128641   "
      ]
     },
     "metadata": {},
     "output_type": "display_data"
    },
    {
     "data": {
      "text/html": [
       "<ol class=list-inline>\n",
       "\t<li>90</li>\n",
       "\t<li>10</li>\n",
       "</ol>\n"
      ],
      "text/latex": [
       "\\begin{enumerate*}\n",
       "\\item 90\n",
       "\\item 10\n",
       "\\end{enumerate*}\n"
      ],
      "text/markdown": [
       "1. 90\n",
       "2. 10\n",
       "\n",
       "\n"
      ],
      "text/plain": [
       "[1] 90 10"
      ]
     },
     "metadata": {},
     "output_type": "display_data"
    }
   ],
   "source": [
    "head(a)\n",
    "dim(a)"
   ]
  },
  {
   "cell_type": "code",
   "execution_count": 13,
   "metadata": {},
   "outputs": [
    {
     "data": {
      "text/html": [
       "<table>\n",
       "<thead><tr><th></th><th scope=col>filename</th><th scope=col>MouseID</th><th scope=col>Treatmentgroup</th><th scope=col>status</th><th scope=col>DPI</th><th scope=col>organ</th><th scope=col>well_position</th><th scope=col>plate</th><th scope=col>CAR_mid_chain</th><th scope=col>CAR_long_chain</th></tr></thead>\n",
       "<tbody>\n",
       "\t<tr><th scope=row>31</th><td>X511_Group1C_142dpi_RV_top_161_G_A1_P136.mzXML</td><td>511                                           </td><td>Group1C                                       </td><td>naive                                         </td><td>DPI_142                                       </td><td>RV_top                                        </td><td>A1                                            </td><td>P136                                          </td><td>0                                             </td><td>0                                             </td></tr>\n",
       "\t<tr><th scope=row>32</th><td>X512_Group1C_142dpi_RV_top_162_G_A2_P136.mzXML</td><td>512                                           </td><td>Group1C                                       </td><td>naive                                         </td><td>DPI_142                                       </td><td>RV_top                                        </td><td>A2                                            </td><td>P136                                          </td><td>0                                             </td><td>0                                             </td></tr>\n",
       "\t<tr><th scope=row>33</th><td>X513_Group1C_142dpi_RV_top_163_G_A3_P136.mzXML</td><td>513                                           </td><td>Group1C                                       </td><td>naive                                         </td><td>DPI_142                                       </td><td>RV_top                                        </td><td>A3                                            </td><td>P136                                          </td><td>0                                             </td><td>0                                             </td></tr>\n",
       "\t<tr><th scope=row>34</th><td>X514_Group1C_142dpi_RV_top_164_G_A4_P136.mzXML</td><td>514                                           </td><td>Group1C                                       </td><td>naive                                         </td><td>DPI_142                                       </td><td>RV_top                                        </td><td>A4                                            </td><td>P136                                          </td><td>0                                             </td><td>0                                             </td></tr>\n",
       "\t<tr><th scope=row>35</th><td>X515_Group1C_142dpi_RV_top_165_G_A5_P136.mzXML</td><td>515                                           </td><td>Group1C                                       </td><td>naive                                         </td><td>DPI_142                                       </td><td>RV_top                                        </td><td>A5                                            </td><td>P136                                          </td><td>0                                             </td><td>0                                             </td></tr>\n",
       "\t<tr><th scope=row>36</th><td>X531_Group1C_142dpi_RV_top_166_G_A6_P136.mzXML</td><td>531                                           </td><td>Group1C                                       </td><td>naive                                         </td><td>DPI_142                                       </td><td>RV_top                                        </td><td>A6                                            </td><td>P136                                          </td><td>0                                             </td><td>0                                             </td></tr>\n",
       "</tbody>\n",
       "</table>\n"
      ],
      "text/latex": [
       "\\begin{tabular}{r|llllllllll}\n",
       "  & filename & MouseID & Treatmentgroup & status & DPI & organ & well\\_position & plate & CAR\\_mid\\_chain & CAR\\_long\\_chain\\\\\n",
       "\\hline\n",
       "\t31 & X511\\_Group1C\\_142dpi\\_RV\\_top\\_161\\_G\\_A1\\_P136.mzXML & 511                                                            & Group1C                                                        & naive                                                          & DPI\\_142                                                      & RV\\_top                                                       & A1                                                             & P136                                                           & 0                                                              & 0                                                             \\\\\n",
       "\t32 & X512\\_Group1C\\_142dpi\\_RV\\_top\\_162\\_G\\_A2\\_P136.mzXML & 512                                                            & Group1C                                                        & naive                                                          & DPI\\_142                                                      & RV\\_top                                                       & A2                                                             & P136                                                           & 0                                                              & 0                                                             \\\\\n",
       "\t33 & X513\\_Group1C\\_142dpi\\_RV\\_top\\_163\\_G\\_A3\\_P136.mzXML & 513                                                            & Group1C                                                        & naive                                                          & DPI\\_142                                                      & RV\\_top                                                       & A3                                                             & P136                                                           & 0                                                              & 0                                                             \\\\\n",
       "\t34 & X514\\_Group1C\\_142dpi\\_RV\\_top\\_164\\_G\\_A4\\_P136.mzXML & 514                                                            & Group1C                                                        & naive                                                          & DPI\\_142                                                      & RV\\_top                                                       & A4                                                             & P136                                                           & 0                                                              & 0                                                             \\\\\n",
       "\t35 & X515\\_Group1C\\_142dpi\\_RV\\_top\\_165\\_G\\_A5\\_P136.mzXML & 515                                                            & Group1C                                                        & naive                                                          & DPI\\_142                                                      & RV\\_top                                                       & A5                                                             & P136                                                           & 0                                                              & 0                                                             \\\\\n",
       "\t36 & X531\\_Group1C\\_142dpi\\_RV\\_top\\_166\\_G\\_A6\\_P136.mzXML & 531                                                            & Group1C                                                        & naive                                                          & DPI\\_142                                                      & RV\\_top                                                       & A6                                                             & P136                                                           & 0                                                              & 0                                                             \\\\\n",
       "\\end{tabular}\n"
      ],
      "text/markdown": [
       "\n",
       "| <!--/--> | filename | MouseID | Treatmentgroup | status | DPI | organ | well_position | plate | CAR_mid_chain | CAR_long_chain |\n",
       "|---|---|---|---|---|---|---|---|---|---|---|\n",
       "| 31 | X511_Group1C_142dpi_RV_top_161_G_A1_P136.mzXML | 511                                            | Group1C                                        | naive                                          | DPI_142                                        | RV_top                                         | A1                                             | P136                                           | 0                                              | 0                                              |\n",
       "| 32 | X512_Group1C_142dpi_RV_top_162_G_A2_P136.mzXML | 512                                            | Group1C                                        | naive                                          | DPI_142                                        | RV_top                                         | A2                                             | P136                                           | 0                                              | 0                                              |\n",
       "| 33 | X513_Group1C_142dpi_RV_top_163_G_A3_P136.mzXML | 513                                            | Group1C                                        | naive                                          | DPI_142                                        | RV_top                                         | A3                                             | P136                                           | 0                                              | 0                                              |\n",
       "| 34 | X514_Group1C_142dpi_RV_top_164_G_A4_P136.mzXML | 514                                            | Group1C                                        | naive                                          | DPI_142                                        | RV_top                                         | A4                                             | P136                                           | 0                                              | 0                                              |\n",
       "| 35 | X515_Group1C_142dpi_RV_top_165_G_A5_P136.mzXML | 515                                            | Group1C                                        | naive                                          | DPI_142                                        | RV_top                                         | A5                                             | P136                                           | 0                                              | 0                                              |\n",
       "| 36 | X531_Group1C_142dpi_RV_top_166_G_A6_P136.mzXML | 531                                            | Group1C                                        | naive                                          | DPI_142                                        | RV_top                                         | A6                                             | P136                                           | 0                                              | 0                                              |\n",
       "\n"
      ],
      "text/plain": [
       "   filename                                       MouseID Treatmentgroup status\n",
       "31 X511_Group1C_142dpi_RV_top_161_G_A1_P136.mzXML 511     Group1C        naive \n",
       "32 X512_Group1C_142dpi_RV_top_162_G_A2_P136.mzXML 512     Group1C        naive \n",
       "33 X513_Group1C_142dpi_RV_top_163_G_A3_P136.mzXML 513     Group1C        naive \n",
       "34 X514_Group1C_142dpi_RV_top_164_G_A4_P136.mzXML 514     Group1C        naive \n",
       "35 X515_Group1C_142dpi_RV_top_165_G_A5_P136.mzXML 515     Group1C        naive \n",
       "36 X531_Group1C_142dpi_RV_top_166_G_A6_P136.mzXML 531     Group1C        naive \n",
       "   DPI     organ  well_position plate CAR_mid_chain CAR_long_chain\n",
       "31 DPI_142 RV_top A1            P136  0             0             \n",
       "32 DPI_142 RV_top A2            P136  0             0             \n",
       "33 DPI_142 RV_top A3            P136  0             0             \n",
       "34 DPI_142 RV_top A4            P136  0             0             \n",
       "35 DPI_142 RV_top A5            P136  0             0             \n",
       "36 DPI_142 RV_top A6            P136  0             0             "
      ]
     },
     "metadata": {},
     "output_type": "display_data"
    },
    {
     "data": {
      "text/html": [
       "<ol class=list-inline>\n",
       "\t<li>30</li>\n",
       "\t<li>10</li>\n",
       "</ol>\n"
      ],
      "text/latex": [
       "\\begin{enumerate*}\n",
       "\\item 30\n",
       "\\item 10\n",
       "\\end{enumerate*}\n"
      ],
      "text/markdown": [
       "1. 30\n",
       "2. 10\n",
       "\n",
       "\n"
      ],
      "text/plain": [
       "[1] 30 10"
      ]
     },
     "metadata": {},
     "output_type": "display_data"
    }
   ],
   "source": [
    "features_pos<-droplevels(subset(a, a$Treatmentgroup==c(\"Group1C\")|a$Treatmentgroup==c(\"Group3E\")))\n",
    "head(features_pos)\n",
    "dim(features_pos)"
   ]
  },
  {
   "cell_type": "code",
   "execution_count": 14,
   "metadata": {
    "scrolled": false
   },
   "outputs": [
    {
     "data": {
      "text/html": [
       "<table>\n",
       "<thead><tr><th></th><th scope=col>CAR_mid_chain</th><th scope=col>CAR_long_chain</th></tr></thead>\n",
       "<tbody>\n",
       "\t<tr><th scope=row>31</th><td>0</td><td>0</td></tr>\n",
       "\t<tr><th scope=row>32</th><td>0</td><td>0</td></tr>\n",
       "\t<tr><th scope=row>33</th><td>0</td><td>0</td></tr>\n",
       "\t<tr><th scope=row>34</th><td>0</td><td>0</td></tr>\n",
       "\t<tr><th scope=row>35</th><td>0</td><td>0</td></tr>\n",
       "\t<tr><th scope=row>36</th><td>0</td><td>0</td></tr>\n",
       "</tbody>\n",
       "</table>\n"
      ],
      "text/latex": [
       "\\begin{tabular}{r|ll}\n",
       "  & CAR\\_mid\\_chain & CAR\\_long\\_chain\\\\\n",
       "\\hline\n",
       "\t31 & 0 & 0\\\\\n",
       "\t32 & 0 & 0\\\\\n",
       "\t33 & 0 & 0\\\\\n",
       "\t34 & 0 & 0\\\\\n",
       "\t35 & 0 & 0\\\\\n",
       "\t36 & 0 & 0\\\\\n",
       "\\end{tabular}\n"
      ],
      "text/markdown": [
       "\n",
       "| <!--/--> | CAR_mid_chain | CAR_long_chain |\n",
       "|---|---|---|\n",
       "| 31 | 0 | 0 |\n",
       "| 32 | 0 | 0 |\n",
       "| 33 | 0 | 0 |\n",
       "| 34 | 0 | 0 |\n",
       "| 35 | 0 | 0 |\n",
       "| 36 | 0 | 0 |\n",
       "\n"
      ],
      "text/plain": [
       "   CAR_mid_chain CAR_long_chain\n",
       "31 0             0             \n",
       "32 0             0             \n",
       "33 0             0             \n",
       "34 0             0             \n",
       "35 0             0             \n",
       "36 0             0             "
      ]
     },
     "metadata": {},
     "output_type": "display_data"
    },
    {
     "data": {
      "text/html": [
       "<strong>CAR_long_chain:</strong> 2"
      ],
      "text/latex": [
       "\\textbf{CAR\\textbackslash{}\\_long\\textbackslash{}\\_chain:} 2"
      ],
      "text/markdown": [
       "**CAR_long_chain:** 2"
      ],
      "text/plain": [
       "CAR_long_chain \n",
       "             2 "
      ]
     },
     "metadata": {},
     "output_type": "display_data"
    },
    {
     "data": {
      "text/html": [
       "<ol class=list-inline>\n",
       "\t<li>0</li>\n",
       "\t<li>0</li>\n",
       "\t<li>0</li>\n",
       "\t<li>0</li>\n",
       "\t<li>0</li>\n",
       "\t<li>0</li>\n",
       "\t<li>0</li>\n",
       "\t<li>0</li>\n",
       "\t<li>0</li>\n",
       "\t<li>0</li>\n",
       "\t<li>0</li>\n",
       "\t<li>4.8e-05</li>\n",
       "\t<li>0.0001049</li>\n",
       "\t<li>0</li>\n",
       "\t<li>0</li>\n",
       "\t<li>0.000228289</li>\n",
       "\t<li>0.000383836</li>\n",
       "\t<li>0.000189735</li>\n",
       "\t<li>5.8e-05</li>\n",
       "\t<li>0</li>\n",
       "\t<li>0.000308143</li>\n",
       "\t<li>0.000167156</li>\n",
       "\t<li>0.000276301</li>\n",
       "\t<li>0.001552789</li>\n",
       "\t<li>0.0001333</li>\n",
       "\t<li>0.001202458</li>\n",
       "\t<li>0.000576867</li>\n",
       "\t<li>0.000705598</li>\n",
       "\t<li>4.27e-05</li>\n",
       "\t<li>0.000333156</li>\n",
       "</ol>\n"
      ],
      "text/latex": [
       "\\begin{enumerate*}\n",
       "\\item 0\n",
       "\\item 0\n",
       "\\item 0\n",
       "\\item 0\n",
       "\\item 0\n",
       "\\item 0\n",
       "\\item 0\n",
       "\\item 0\n",
       "\\item 0\n",
       "\\item 0\n",
       "\\item 0\n",
       "\\item 4.8e-05\n",
       "\\item 0.0001049\n",
       "\\item 0\n",
       "\\item 0\n",
       "\\item 0.000228289\n",
       "\\item 0.000383836\n",
       "\\item 0.000189735\n",
       "\\item 5.8e-05\n",
       "\\item 0\n",
       "\\item 0.000308143\n",
       "\\item 0.000167156\n",
       "\\item 0.000276301\n",
       "\\item 0.001552789\n",
       "\\item 0.0001333\n",
       "\\item 0.001202458\n",
       "\\item 0.000576867\n",
       "\\item 0.000705598\n",
       "\\item 4.27e-05\n",
       "\\item 0.000333156\n",
       "\\end{enumerate*}\n"
      ],
      "text/markdown": [
       "1. 0\n",
       "2. 0\n",
       "3. 0\n",
       "4. 0\n",
       "5. 0\n",
       "6. 0\n",
       "7. 0\n",
       "8. 0\n",
       "9. 0\n",
       "10. 0\n",
       "11. 0\n",
       "12. 4.8e-05\n",
       "13. 0.0001049\n",
       "14. 0\n",
       "15. 0\n",
       "16. 0.000228289\n",
       "17. 0.000383836\n",
       "18. 0.000189735\n",
       "19. 5.8e-05\n",
       "20. 0\n",
       "21. 0.000308143\n",
       "22. 0.000167156\n",
       "23. 0.000276301\n",
       "24. 0.001552789\n",
       "25. 0.0001333\n",
       "26. 0.001202458\n",
       "27. 0.000576867\n",
       "28. 0.000705598\n",
       "29. 4.27e-05\n",
       "30. 0.000333156\n",
       "\n",
       "\n"
      ],
      "text/plain": [
       " [1] 0.000000000 0.000000000 0.000000000 0.000000000 0.000000000 0.000000000\n",
       " [7] 0.000000000 0.000000000 0.000000000 0.000000000 0.000000000 0.000048000\n",
       "[13] 0.000104900 0.000000000 0.000000000 0.000228289 0.000383836 0.000189735\n",
       "[19] 0.000058000 0.000000000 0.000308143 0.000167156 0.000276301 0.001552789\n",
       "[25] 0.000133300 0.001202458 0.000576867 0.000705598 0.000042700 0.000333156"
      ]
     },
     "metadata": {},
     "output_type": "display_data"
    },
    {
     "data": {
      "text/html": [
       "<table>\n",
       "<thead><tr><th></th><th scope=col>filename</th><th scope=col>MouseID</th><th scope=col>Treatmentgroup</th><th scope=col>status</th><th scope=col>DPI</th><th scope=col>organ</th><th scope=col>well_position</th><th scope=col>plate</th><th scope=col>nonzero</th></tr></thead>\n",
       "<tbody>\n",
       "\t<tr><th scope=row>31</th><td>X511_Group1C_142dpi_RV_top_161_G_A1_P136.mzXML</td><td>511                                           </td><td>Group1C                                       </td><td>naive                                         </td><td>DPI_142                                       </td><td>RV_top                                        </td><td>A1                                            </td><td>P136                                          </td><td>0                                             </td></tr>\n",
       "\t<tr><th scope=row>32</th><td>X512_Group1C_142dpi_RV_top_162_G_A2_P136.mzXML</td><td>512                                           </td><td>Group1C                                       </td><td>naive                                         </td><td>DPI_142                                       </td><td>RV_top                                        </td><td>A2                                            </td><td>P136                                          </td><td>0                                             </td></tr>\n",
       "\t<tr><th scope=row>33</th><td>X513_Group1C_142dpi_RV_top_163_G_A3_P136.mzXML</td><td>513                                           </td><td>Group1C                                       </td><td>naive                                         </td><td>DPI_142                                       </td><td>RV_top                                        </td><td>A3                                            </td><td>P136                                          </td><td>0                                             </td></tr>\n",
       "\t<tr><th scope=row>34</th><td>X514_Group1C_142dpi_RV_top_164_G_A4_P136.mzXML</td><td>514                                           </td><td>Group1C                                       </td><td>naive                                         </td><td>DPI_142                                       </td><td>RV_top                                        </td><td>A4                                            </td><td>P136                                          </td><td>0                                             </td></tr>\n",
       "\t<tr><th scope=row>35</th><td>X515_Group1C_142dpi_RV_top_165_G_A5_P136.mzXML</td><td>515                                           </td><td>Group1C                                       </td><td>naive                                         </td><td>DPI_142                                       </td><td>RV_top                                        </td><td>A5                                            </td><td>P136                                          </td><td>0                                             </td></tr>\n",
       "\t<tr><th scope=row>36</th><td>X531_Group1C_142dpi_RV_top_166_G_A6_P136.mzXML</td><td>531                                           </td><td>Group1C                                       </td><td>naive                                         </td><td>DPI_142                                       </td><td>RV_top                                        </td><td>A6                                            </td><td>P136                                          </td><td>0                                             </td></tr>\n",
       "</tbody>\n",
       "</table>\n"
      ],
      "text/latex": [
       "\\begin{tabular}{r|lllllllll}\n",
       "  & filename & MouseID & Treatmentgroup & status & DPI & organ & well\\_position & plate & nonzero\\\\\n",
       "\\hline\n",
       "\t31 & X511\\_Group1C\\_142dpi\\_RV\\_top\\_161\\_G\\_A1\\_P136.mzXML & 511                                                            & Group1C                                                        & naive                                                          & DPI\\_142                                                      & RV\\_top                                                       & A1                                                             & P136                                                           & 0                                                             \\\\\n",
       "\t32 & X512\\_Group1C\\_142dpi\\_RV\\_top\\_162\\_G\\_A2\\_P136.mzXML & 512                                                            & Group1C                                                        & naive                                                          & DPI\\_142                                                      & RV\\_top                                                       & A2                                                             & P136                                                           & 0                                                             \\\\\n",
       "\t33 & X513\\_Group1C\\_142dpi\\_RV\\_top\\_163\\_G\\_A3\\_P136.mzXML & 513                                                            & Group1C                                                        & naive                                                          & DPI\\_142                                                      & RV\\_top                                                       & A3                                                             & P136                                                           & 0                                                             \\\\\n",
       "\t34 & X514\\_Group1C\\_142dpi\\_RV\\_top\\_164\\_G\\_A4\\_P136.mzXML & 514                                                            & Group1C                                                        & naive                                                          & DPI\\_142                                                      & RV\\_top                                                       & A4                                                             & P136                                                           & 0                                                             \\\\\n",
       "\t35 & X515\\_Group1C\\_142dpi\\_RV\\_top\\_165\\_G\\_A5\\_P136.mzXML & 515                                                            & Group1C                                                        & naive                                                          & DPI\\_142                                                      & RV\\_top                                                       & A5                                                             & P136                                                           & 0                                                             \\\\\n",
       "\t36 & X531\\_Group1C\\_142dpi\\_RV\\_top\\_166\\_G\\_A6\\_P136.mzXML & 531                                                            & Group1C                                                        & naive                                                          & DPI\\_142                                                      & RV\\_top                                                       & A6                                                             & P136                                                           & 0                                                             \\\\\n",
       "\\end{tabular}\n"
      ],
      "text/markdown": [
       "\n",
       "| <!--/--> | filename | MouseID | Treatmentgroup | status | DPI | organ | well_position | plate | nonzero |\n",
       "|---|---|---|---|---|---|---|---|---|---|\n",
       "| 31 | X511_Group1C_142dpi_RV_top_161_G_A1_P136.mzXML | 511                                            | Group1C                                        | naive                                          | DPI_142                                        | RV_top                                         | A1                                             | P136                                           | 0                                              |\n",
       "| 32 | X512_Group1C_142dpi_RV_top_162_G_A2_P136.mzXML | 512                                            | Group1C                                        | naive                                          | DPI_142                                        | RV_top                                         | A2                                             | P136                                           | 0                                              |\n",
       "| 33 | X513_Group1C_142dpi_RV_top_163_G_A3_P136.mzXML | 513                                            | Group1C                                        | naive                                          | DPI_142                                        | RV_top                                         | A3                                             | P136                                           | 0                                              |\n",
       "| 34 | X514_Group1C_142dpi_RV_top_164_G_A4_P136.mzXML | 514                                            | Group1C                                        | naive                                          | DPI_142                                        | RV_top                                         | A4                                             | P136                                           | 0                                              |\n",
       "| 35 | X515_Group1C_142dpi_RV_top_165_G_A5_P136.mzXML | 515                                            | Group1C                                        | naive                                          | DPI_142                                        | RV_top                                         | A5                                             | P136                                           | 0                                              |\n",
       "| 36 | X531_Group1C_142dpi_RV_top_166_G_A6_P136.mzXML | 531                                            | Group1C                                        | naive                                          | DPI_142                                        | RV_top                                         | A6                                             | P136                                           | 0                                              |\n",
       "\n"
      ],
      "text/plain": [
       "   filename                                       MouseID Treatmentgroup status\n",
       "31 X511_Group1C_142dpi_RV_top_161_G_A1_P136.mzXML 511     Group1C        naive \n",
       "32 X512_Group1C_142dpi_RV_top_162_G_A2_P136.mzXML 512     Group1C        naive \n",
       "33 X513_Group1C_142dpi_RV_top_163_G_A3_P136.mzXML 513     Group1C        naive \n",
       "34 X514_Group1C_142dpi_RV_top_164_G_A4_P136.mzXML 514     Group1C        naive \n",
       "35 X515_Group1C_142dpi_RV_top_165_G_A5_P136.mzXML 515     Group1C        naive \n",
       "36 X531_Group1C_142dpi_RV_top_166_G_A6_P136.mzXML 531     Group1C        naive \n",
       "   DPI     organ  well_position plate nonzero\n",
       "31 DPI_142 RV_top A1            P136  0      \n",
       "32 DPI_142 RV_top A2            P136  0      \n",
       "33 DPI_142 RV_top A3            P136  0      \n",
       "34 DPI_142 RV_top A4            P136  0      \n",
       "35 DPI_142 RV_top A5            P136  0      \n",
       "36 DPI_142 RV_top A6            P136  0      "
      ]
     },
     "metadata": {},
     "output_type": "display_data"
    },
    {
     "data": {
      "text/html": [
       "<ol class=list-inline>\n",
       "\t<li>30</li>\n",
       "\t<li>10</li>\n",
       "</ol>\n"
      ],
      "text/latex": [
       "\\begin{enumerate*}\n",
       "\\item 30\n",
       "\\item 10\n",
       "\\end{enumerate*}\n"
      ],
      "text/markdown": [
       "1. 30\n",
       "2. 10\n",
       "\n",
       "\n"
      ],
      "text/plain": [
       "[1] 30 10"
      ]
     },
     "metadata": {},
     "output_type": "display_data"
    },
    {
     "data": {
      "text/html": [
       "<ol class=list-inline>\n",
       "\t<li>30</li>\n",
       "\t<li>2</li>\n",
       "</ol>\n"
      ],
      "text/latex": [
       "\\begin{enumerate*}\n",
       "\\item 30\n",
       "\\item 2\n",
       "\\end{enumerate*}\n"
      ],
      "text/markdown": [
       "1. 30\n",
       "2. 2\n",
       "\n",
       "\n"
      ],
      "text/plain": [
       "[1] 30  2"
      ]
     },
     "metadata": {},
     "output_type": "display_data"
    },
    {
     "data": {
      "text/plain": [
       "NULL"
      ]
     },
     "metadata": {},
     "output_type": "display_data"
    },
    {
     "data": {
      "text/html": [
       "<ol class=list-inline>\n",
       "\t<li>30</li>\n",
       "\t<li>9</li>\n",
       "</ol>\n"
      ],
      "text/latex": [
       "\\begin{enumerate*}\n",
       "\\item 30\n",
       "\\item 9\n",
       "\\end{enumerate*}\n"
      ],
      "text/markdown": [
       "1. 30\n",
       "2. 9\n",
       "\n",
       "\n"
      ],
      "text/plain": [
       "[1] 30  9"
      ]
     },
     "metadata": {},
     "output_type": "display_data"
    }
   ],
   "source": [
    "noMeta<-features_pos[,9:10]\n",
    "head(noMeta)\n",
    "not_zero<-which(colSums(noMeta) != 0)\n",
    "head(not_zero)\n",
    "nonzero <- noMeta[, not_zero]\n",
    "nonzero\n",
    "nonzero_wMeta<-cbind(features_pos[,1:8], nonzero)\n",
    "head(nonzero_wMeta)\n",
    "dim(features_pos)\n",
    "dim(noMeta)\n",
    "dim(nonzero)\n",
    "dim(nonzero_wMeta)"
   ]
  },
  {
   "cell_type": "code",
   "execution_count": 15,
   "metadata": {
    "scrolled": true
   },
   "outputs": [
    {
     "name": "stderr",
     "output_type": "stream",
     "text": [
      "Warning message in wilcox.test.default(x = c(0, 0, 0, 0, 0, 0, 0, 0, 0, 0, 0, 4.8e-05, :\n",
      "\"cannot compute exact p-value with ties\""
     ]
    },
    {
     "data": {
      "text/html": [
       "1.09745684078721e-05"
      ],
      "text/latex": [
       "1.09745684078721e-05"
      ],
      "text/markdown": [
       "1.09745684078721e-05"
      ],
      "text/plain": [
       "[1] 1.097457e-05"
      ]
     },
     "metadata": {},
     "output_type": "display_data"
    },
    {
     "data": {
      "text/html": [
       "1.09745684078721e-05"
      ],
      "text/latex": [
       "1.09745684078721e-05"
      ],
      "text/markdown": [
       "1.09745684078721e-05"
      ],
      "text/plain": [
       "[1] 1.097457e-05"
      ]
     },
     "metadata": {},
     "output_type": "display_data"
    }
   ],
   "source": [
    "pval<-c()\n",
    "\n",
    "for (i in 9:ncol(nonzero_wMeta)) \n",
    "pval<-c(pval,wilcox.test(nonzero_wMeta[,i]~nonzero_wMeta$Treatmentgroup)$p.value)\n",
    "head(pval) \n",
    "pAdj <- p.adjust(pval, method = c(\"fdr\"), n=length(pval)) \n",
    "head(pAdj) \n",
    "\n"
   ]
  },
  {
   "cell_type": "code",
   "execution_count": 16,
   "metadata": {
    "scrolled": true
   },
   "outputs": [
    {
     "data": {
      "text/html": [
       "1"
      ],
      "text/latex": [
       "1"
      ],
      "text/markdown": [
       "1"
      ],
      "text/plain": [
       "[1] 1"
      ]
     },
     "metadata": {},
     "output_type": "display_data"
    }
   ],
   "source": [
    "length(pval)"
   ]
  },
  {
   "cell_type": "code",
   "execution_count": 17,
   "metadata": {
    "scrolled": true
   },
   "outputs": [
    {
     "data": {
      "text/html": [
       "1"
      ],
      "text/latex": [
       "1"
      ],
      "text/markdown": [
       "1"
      ],
      "text/plain": [
       "[1] 1"
      ]
     },
     "metadata": {},
     "output_type": "display_data"
    }
   ],
   "source": [
    "length(pAdj)"
   ]
  },
  {
   "cell_type": "code",
   "execution_count": 18,
   "metadata": {},
   "outputs": [
    {
     "ename": "ERROR",
     "evalue": "Error in apply(nonzero_wMeta[, 9:ncol(nonzero_wMeta)], 2, function(x) tapply(x, : dim(X) must have a positive length\n",
     "output_type": "error",
     "traceback": [
      "Error in apply(nonzero_wMeta[, 9:ncol(nonzero_wMeta)], 2, function(x) tapply(x, : dim(X) must have a positive length\nTraceback:\n",
      "1. apply(nonzero_wMeta[, 9:ncol(nonzero_wMeta)], 2, function(x) tapply(x, \n .     nonzero_wMeta$Treatmentgroup, function(x) mean(x)))",
      "2. stop(\"dim(X) must have a positive length\")"
     ]
    }
   ],
   "source": [
    "avg<- apply(nonzero_wMeta[,9:ncol(nonzero_wMeta)], 2, function(x) tapply(x, nonzero_wMeta$Treatmentgroup, function(x) mean(x))) \n",
    "\n",
    "dim(avg) \n",
    "\n",
    "avg[,1:2]\n",
    "\n",
    "fch <- apply(avg, 2, function(x) x[1]/x[2])\n",
    "\n",
    "head(fch)\n",
    "is(fch)"
   ]
  },
  {
   "cell_type": "code",
   "execution_count": 19,
   "metadata": {
    "scrolled": true
   },
   "outputs": [
    {
     "ename": "ERROR",
     "evalue": "Error in eval(expr, envir, enclos): object 'fch' not found\n",
     "output_type": "error",
     "traceback": [
      "Error in eval(expr, envir, enclos): object 'fch' not found\nTraceback:\n"
     ]
    }
   ],
   "source": [
    "fch"
   ]
  },
  {
   "cell_type": "code",
   "execution_count": 20,
   "metadata": {
    "scrolled": false
   },
   "outputs": [],
   "source": [
    "df <- data.frame(pval, pAdj)\n",
    "write.csv(df, \"CAR-time-RVT-wilcox-1C-3E.csv\")"
   ]
  },
  {
   "cell_type": "code",
   "execution_count": null,
   "metadata": {},
   "outputs": [],
   "source": []
  },
  {
   "cell_type": "code",
   "execution_count": null,
   "metadata": {},
   "outputs": [],
   "source": []
  },
  {
   "cell_type": "code",
   "execution_count": null,
   "metadata": {},
   "outputs": [],
   "source": []
  },
  {
   "cell_type": "code",
   "execution_count": null,
   "metadata": {},
   "outputs": [],
   "source": []
  },
  {
   "cell_type": "code",
   "execution_count": null,
   "metadata": {},
   "outputs": [],
   "source": []
  },
  {
   "cell_type": "code",
   "execution_count": null,
   "metadata": {},
   "outputs": [],
   "source": []
  }
 ],
 "metadata": {
  "kernelspec": {
   "display_name": "R",
   "language": "R",
   "name": "ir"
  },
  "language_info": {
   "codemirror_mode": "r",
   "file_extension": ".r",
   "mimetype": "text/x-r-source",
   "name": "R",
   "pygments_lexer": "r",
   "version": "3.6.1"
  }
 },
 "nbformat": 4,
 "nbformat_minor": 2
}
