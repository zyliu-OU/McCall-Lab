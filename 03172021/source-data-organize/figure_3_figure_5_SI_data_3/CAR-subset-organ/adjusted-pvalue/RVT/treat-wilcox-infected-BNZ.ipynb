{
 "cells": [
  {
   "cell_type": "code",
   "execution_count": 11,
   "metadata": {},
   "outputs": [],
   "source": [
    "a <- read.csv(\"03172021-CAR-treatment-RVT-M-F.csv\")"
   ]
  },
  {
   "cell_type": "code",
   "execution_count": 12,
   "metadata": {},
   "outputs": [
    {
     "data": {
      "text/html": [
       "<table>\n",
       "<thead><tr><th scope=col>filename</th><th scope=col>MouseID</th><th scope=col>Treatmentgroup</th><th scope=col>DPI</th><th scope=col>organ</th><th scope=col>well_position</th><th scope=col>plate</th><th scope=col>CAR_mid_chain</th><th scope=col>CAR_long_chain</th></tr></thead>\n",
       "<tbody>\n",
       "\t<tr><td>X511_Group1C_142dpi_RV_top_161_G_A1_P136.mzXML</td><td>511                                           </td><td>naive                                         </td><td>142                                           </td><td>RV_top                                        </td><td>A1                                            </td><td>P136                                          </td><td>0                                             </td><td>0                                             </td></tr>\n",
       "\t<tr><td>X512_Group1C_142dpi_RV_top_162_G_A2_P136.mzXML</td><td>512                                           </td><td>naive                                         </td><td>142                                           </td><td>RV_top                                        </td><td>A2                                            </td><td>P136                                          </td><td>0                                             </td><td>0                                             </td></tr>\n",
       "\t<tr><td>X513_Group1C_142dpi_RV_top_163_G_A3_P136.mzXML</td><td>513                                           </td><td>naive                                         </td><td>142                                           </td><td>RV_top                                        </td><td>A3                                            </td><td>P136                                          </td><td>0                                             </td><td>0                                             </td></tr>\n",
       "\t<tr><td>X514_Group1C_142dpi_RV_top_164_G_A4_P136.mzXML</td><td>514                                           </td><td>naive                                         </td><td>142                                           </td><td>RV_top                                        </td><td>A4                                            </td><td>P136                                          </td><td>0                                             </td><td>0                                             </td></tr>\n",
       "\t<tr><td>X515_Group1C_142dpi_RV_top_165_G_A5_P136.mzXML</td><td>515                                           </td><td>naive                                         </td><td>142                                           </td><td>RV_top                                        </td><td>A5                                            </td><td>P136                                          </td><td>0                                             </td><td>0                                             </td></tr>\n",
       "\t<tr><td>X531_Group1C_142dpi_RV_top_166_G_A6_P136.mzXML</td><td>531                                           </td><td>naive                                         </td><td>142                                           </td><td>RV_top                                        </td><td>A6                                            </td><td>P136                                          </td><td>0                                             </td><td>0                                             </td></tr>\n",
       "</tbody>\n",
       "</table>\n"
      ],
      "text/latex": [
       "\\begin{tabular}{r|lllllllll}\n",
       " filename & MouseID & Treatmentgroup & DPI & organ & well\\_position & plate & CAR\\_mid\\_chain & CAR\\_long\\_chain\\\\\n",
       "\\hline\n",
       "\t X511\\_Group1C\\_142dpi\\_RV\\_top\\_161\\_G\\_A1\\_P136.mzXML & 511                                                            & naive                                                          & 142                                                            & RV\\_top                                                       & A1                                                             & P136                                                           & 0                                                              & 0                                                             \\\\\n",
       "\t X512\\_Group1C\\_142dpi\\_RV\\_top\\_162\\_G\\_A2\\_P136.mzXML & 512                                                            & naive                                                          & 142                                                            & RV\\_top                                                       & A2                                                             & P136                                                           & 0                                                              & 0                                                             \\\\\n",
       "\t X513\\_Group1C\\_142dpi\\_RV\\_top\\_163\\_G\\_A3\\_P136.mzXML & 513                                                            & naive                                                          & 142                                                            & RV\\_top                                                       & A3                                                             & P136                                                           & 0                                                              & 0                                                             \\\\\n",
       "\t X514\\_Group1C\\_142dpi\\_RV\\_top\\_164\\_G\\_A4\\_P136.mzXML & 514                                                            & naive                                                          & 142                                                            & RV\\_top                                                       & A4                                                             & P136                                                           & 0                                                              & 0                                                             \\\\\n",
       "\t X515\\_Group1C\\_142dpi\\_RV\\_top\\_165\\_G\\_A5\\_P136.mzXML & 515                                                            & naive                                                          & 142                                                            & RV\\_top                                                       & A5                                                             & P136                                                           & 0                                                              & 0                                                             \\\\\n",
       "\t X531\\_Group1C\\_142dpi\\_RV\\_top\\_166\\_G\\_A6\\_P136.mzXML & 531                                                            & naive                                                          & 142                                                            & RV\\_top                                                       & A6                                                             & P136                                                           & 0                                                              & 0                                                             \\\\\n",
       "\\end{tabular}\n"
      ],
      "text/markdown": [
       "\n",
       "| filename | MouseID | Treatmentgroup | DPI | organ | well_position | plate | CAR_mid_chain | CAR_long_chain |\n",
       "|---|---|---|---|---|---|---|---|---|\n",
       "| X511_Group1C_142dpi_RV_top_161_G_A1_P136.mzXML | 511                                            | naive                                          | 142                                            | RV_top                                         | A1                                             | P136                                           | 0                                              | 0                                              |\n",
       "| X512_Group1C_142dpi_RV_top_162_G_A2_P136.mzXML | 512                                            | naive                                          | 142                                            | RV_top                                         | A2                                             | P136                                           | 0                                              | 0                                              |\n",
       "| X513_Group1C_142dpi_RV_top_163_G_A3_P136.mzXML | 513                                            | naive                                          | 142                                            | RV_top                                         | A3                                             | P136                                           | 0                                              | 0                                              |\n",
       "| X514_Group1C_142dpi_RV_top_164_G_A4_P136.mzXML | 514                                            | naive                                          | 142                                            | RV_top                                         | A4                                             | P136                                           | 0                                              | 0                                              |\n",
       "| X515_Group1C_142dpi_RV_top_165_G_A5_P136.mzXML | 515                                            | naive                                          | 142                                            | RV_top                                         | A5                                             | P136                                           | 0                                              | 0                                              |\n",
       "| X531_Group1C_142dpi_RV_top_166_G_A6_P136.mzXML | 531                                            | naive                                          | 142                                            | RV_top                                         | A6                                             | P136                                           | 0                                              | 0                                              |\n",
       "\n"
      ],
      "text/plain": [
       "  filename                                       MouseID Treatmentgroup DPI\n",
       "1 X511_Group1C_142dpi_RV_top_161_G_A1_P136.mzXML 511     naive          142\n",
       "2 X512_Group1C_142dpi_RV_top_162_G_A2_P136.mzXML 512     naive          142\n",
       "3 X513_Group1C_142dpi_RV_top_163_G_A3_P136.mzXML 513     naive          142\n",
       "4 X514_Group1C_142dpi_RV_top_164_G_A4_P136.mzXML 514     naive          142\n",
       "5 X515_Group1C_142dpi_RV_top_165_G_A5_P136.mzXML 515     naive          142\n",
       "6 X531_Group1C_142dpi_RV_top_166_G_A6_P136.mzXML 531     naive          142\n",
       "  organ  well_position plate CAR_mid_chain CAR_long_chain\n",
       "1 RV_top A1            P136  0             0             \n",
       "2 RV_top A2            P136  0             0             \n",
       "3 RV_top A3            P136  0             0             \n",
       "4 RV_top A4            P136  0             0             \n",
       "5 RV_top A5            P136  0             0             \n",
       "6 RV_top A6            P136  0             0             "
      ]
     },
     "metadata": {},
     "output_type": "display_data"
    },
    {
     "data": {
      "text/html": [
       "<ol class=list-inline>\n",
       "\t<li>60</li>\n",
       "\t<li>9</li>\n",
       "</ol>\n"
      ],
      "text/latex": [
       "\\begin{enumerate*}\n",
       "\\item 60\n",
       "\\item 9\n",
       "\\end{enumerate*}\n"
      ],
      "text/markdown": [
       "1. 60\n",
       "2. 9\n",
       "\n",
       "\n"
      ],
      "text/plain": [
       "[1] 60  9"
      ]
     },
     "metadata": {},
     "output_type": "display_data"
    }
   ],
   "source": [
    "head(a)\n",
    "dim(a)"
   ]
  },
  {
   "cell_type": "code",
   "execution_count": 13,
   "metadata": {},
   "outputs": [
    {
     "data": {
      "text/html": [
       "<table>\n",
       "<thead><tr><th></th><th scope=col>filename</th><th scope=col>MouseID</th><th scope=col>Treatmentgroup</th><th scope=col>DPI</th><th scope=col>organ</th><th scope=col>well_position</th><th scope=col>plate</th><th scope=col>CAR_mid_chain</th><th scope=col>CAR_long_chain</th></tr></thead>\n",
       "<tbody>\n",
       "\t<tr><th scope=row>16</th><td>X581_Group3E_142dpi_RV_top_176_G_B4_P136.mzXML</td><td>581                                           </td><td>infected                                      </td><td>142                                           </td><td>RV_top                                        </td><td>B4                                            </td><td>P136                                          </td><td>0                                             </td><td>0.000228289                                   </td></tr>\n",
       "\t<tr><th scope=row>17</th><td>X582_Group3E_142dpi_RV_top_177_G_B5_P136.mzXML</td><td>582                                           </td><td>infected                                      </td><td>142                                           </td><td>RV_top                                        </td><td>B5                                            </td><td>P136                                          </td><td>0                                             </td><td>0.000383836                                   </td></tr>\n",
       "\t<tr><th scope=row>18</th><td>X583_Group3E_142dpi_RV_top_178_G_B6_P136.mzXML</td><td>583                                           </td><td>infected                                      </td><td>142                                           </td><td>RV_top                                        </td><td>B6                                            </td><td>P136                                          </td><td>0                                             </td><td>0.000189735                                   </td></tr>\n",
       "\t<tr><th scope=row>19</th><td>X584_Group3E_142dpi_RV_top_179_G_B7_P136.mzXML</td><td>584                                           </td><td>infected                                      </td><td>142                                           </td><td>RV_top                                        </td><td>B7                                            </td><td>P136                                          </td><td>0                                             </td><td>0.000058000                                   </td></tr>\n",
       "\t<tr><th scope=row>20</th><td>X585_Group3E_142dpi_RV_top_180_G_B8_P136.mzXML</td><td>585                                           </td><td>infected                                      </td><td>142                                           </td><td>RV_top                                        </td><td>B8                                            </td><td>P136                                          </td><td>0                                             </td><td>0.000000000                                   </td></tr>\n",
       "\t<tr><th scope=row>26</th><td>X631_Group15_142dpi_RV_top_191_G_C7_P136.mzXML</td><td>631                                           </td><td>BNZ                                           </td><td>142                                           </td><td>RV_top                                        </td><td>C7                                            </td><td>P136                                          </td><td>0                                             </td><td>0.000653108                                   </td></tr>\n",
       "</tbody>\n",
       "</table>\n"
      ],
      "text/latex": [
       "\\begin{tabular}{r|lllllllll}\n",
       "  & filename & MouseID & Treatmentgroup & DPI & organ & well\\_position & plate & CAR\\_mid\\_chain & CAR\\_long\\_chain\\\\\n",
       "\\hline\n",
       "\t16 & X581\\_Group3E\\_142dpi\\_RV\\_top\\_176\\_G\\_B4\\_P136.mzXML & 581                                                            & infected                                                       & 142                                                            & RV\\_top                                                       & B4                                                             & P136                                                           & 0                                                              & 0.000228289                                                   \\\\\n",
       "\t17 & X582\\_Group3E\\_142dpi\\_RV\\_top\\_177\\_G\\_B5\\_P136.mzXML & 582                                                            & infected                                                       & 142                                                            & RV\\_top                                                       & B5                                                             & P136                                                           & 0                                                              & 0.000383836                                                   \\\\\n",
       "\t18 & X583\\_Group3E\\_142dpi\\_RV\\_top\\_178\\_G\\_B6\\_P136.mzXML & 583                                                            & infected                                                       & 142                                                            & RV\\_top                                                       & B6                                                             & P136                                                           & 0                                                              & 0.000189735                                                   \\\\\n",
       "\t19 & X584\\_Group3E\\_142dpi\\_RV\\_top\\_179\\_G\\_B7\\_P136.mzXML & 584                                                            & infected                                                       & 142                                                            & RV\\_top                                                       & B7                                                             & P136                                                           & 0                                                              & 0.000058000                                                   \\\\\n",
       "\t20 & X585\\_Group3E\\_142dpi\\_RV\\_top\\_180\\_G\\_B8\\_P136.mzXML & 585                                                            & infected                                                       & 142                                                            & RV\\_top                                                       & B8                                                             & P136                                                           & 0                                                              & 0.000000000                                                   \\\\\n",
       "\t26 & X631\\_Group15\\_142dpi\\_RV\\_top\\_191\\_G\\_C7\\_P136.mzXML & 631                                                            & BNZ                                                            & 142                                                            & RV\\_top                                                       & C7                                                             & P136                                                           & 0                                                              & 0.000653108                                                   \\\\\n",
       "\\end{tabular}\n"
      ],
      "text/markdown": [
       "\n",
       "| <!--/--> | filename | MouseID | Treatmentgroup | DPI | organ | well_position | plate | CAR_mid_chain | CAR_long_chain |\n",
       "|---|---|---|---|---|---|---|---|---|---|\n",
       "| 16 | X581_Group3E_142dpi_RV_top_176_G_B4_P136.mzXML | 581                                            | infected                                       | 142                                            | RV_top                                         | B4                                             | P136                                           | 0                                              | 0.000228289                                    |\n",
       "| 17 | X582_Group3E_142dpi_RV_top_177_G_B5_P136.mzXML | 582                                            | infected                                       | 142                                            | RV_top                                         | B5                                             | P136                                           | 0                                              | 0.000383836                                    |\n",
       "| 18 | X583_Group3E_142dpi_RV_top_178_G_B6_P136.mzXML | 583                                            | infected                                       | 142                                            | RV_top                                         | B6                                             | P136                                           | 0                                              | 0.000189735                                    |\n",
       "| 19 | X584_Group3E_142dpi_RV_top_179_G_B7_P136.mzXML | 584                                            | infected                                       | 142                                            | RV_top                                         | B7                                             | P136                                           | 0                                              | 0.000058000                                    |\n",
       "| 20 | X585_Group3E_142dpi_RV_top_180_G_B8_P136.mzXML | 585                                            | infected                                       | 142                                            | RV_top                                         | B8                                             | P136                                           | 0                                              | 0.000000000                                    |\n",
       "| 26 | X631_Group15_142dpi_RV_top_191_G_C7_P136.mzXML | 631                                            | BNZ                                            | 142                                            | RV_top                                         | C7                                             | P136                                           | 0                                              | 0.000653108                                    |\n",
       "\n"
      ],
      "text/plain": [
       "   filename                                       MouseID Treatmentgroup DPI\n",
       "16 X581_Group3E_142dpi_RV_top_176_G_B4_P136.mzXML 581     infected       142\n",
       "17 X582_Group3E_142dpi_RV_top_177_G_B5_P136.mzXML 582     infected       142\n",
       "18 X583_Group3E_142dpi_RV_top_178_G_B6_P136.mzXML 583     infected       142\n",
       "19 X584_Group3E_142dpi_RV_top_179_G_B7_P136.mzXML 584     infected       142\n",
       "20 X585_Group3E_142dpi_RV_top_180_G_B8_P136.mzXML 585     infected       142\n",
       "26 X631_Group15_142dpi_RV_top_191_G_C7_P136.mzXML 631     BNZ            142\n",
       "   organ  well_position plate CAR_mid_chain CAR_long_chain\n",
       "16 RV_top B4            P136  0             0.000228289   \n",
       "17 RV_top B5            P136  0             0.000383836   \n",
       "18 RV_top B6            P136  0             0.000189735   \n",
       "19 RV_top B7            P136  0             0.000058000   \n",
       "20 RV_top B8            P136  0             0.000000000   \n",
       "26 RV_top C7            P136  0             0.000653108   "
      ]
     },
     "metadata": {},
     "output_type": "display_data"
    },
    {
     "data": {
      "text/html": [
       "<ol class=list-inline>\n",
       "\t<li>30</li>\n",
       "\t<li>9</li>\n",
       "</ol>\n"
      ],
      "text/latex": [
       "\\begin{enumerate*}\n",
       "\\item 30\n",
       "\\item 9\n",
       "\\end{enumerate*}\n"
      ],
      "text/markdown": [
       "1. 30\n",
       "2. 9\n",
       "\n",
       "\n"
      ],
      "text/plain": [
       "[1] 30  9"
      ]
     },
     "metadata": {},
     "output_type": "display_data"
    }
   ],
   "source": [
    "features_pos<-droplevels(subset(a, a$Treatmentgroup==c(\"infected\")|a$Treatmentgroup==c(\"BNZ\")))\n",
    "head(features_pos)\n",
    "dim(features_pos)"
   ]
  },
  {
   "cell_type": "code",
   "execution_count": 14,
   "metadata": {
    "scrolled": false
   },
   "outputs": [
    {
     "data": {
      "text/html": [
       "<table>\n",
       "<thead><tr><th></th><th scope=col>CAR_mid_chain</th><th scope=col>CAR_long_chain</th></tr></thead>\n",
       "<tbody>\n",
       "\t<tr><th scope=row>16</th><td>0          </td><td>0.000228289</td></tr>\n",
       "\t<tr><th scope=row>17</th><td>0          </td><td>0.000383836</td></tr>\n",
       "\t<tr><th scope=row>18</th><td>0          </td><td>0.000189735</td></tr>\n",
       "\t<tr><th scope=row>19</th><td>0          </td><td>0.000058000</td></tr>\n",
       "\t<tr><th scope=row>20</th><td>0          </td><td>0.000000000</td></tr>\n",
       "\t<tr><th scope=row>26</th><td>0          </td><td>0.000653108</td></tr>\n",
       "</tbody>\n",
       "</table>\n"
      ],
      "text/latex": [
       "\\begin{tabular}{r|ll}\n",
       "  & CAR\\_mid\\_chain & CAR\\_long\\_chain\\\\\n",
       "\\hline\n",
       "\t16 & 0           & 0.000228289\\\\\n",
       "\t17 & 0           & 0.000383836\\\\\n",
       "\t18 & 0           & 0.000189735\\\\\n",
       "\t19 & 0           & 0.000058000\\\\\n",
       "\t20 & 0           & 0.000000000\\\\\n",
       "\t26 & 0           & 0.000653108\\\\\n",
       "\\end{tabular}\n"
      ],
      "text/markdown": [
       "\n",
       "| <!--/--> | CAR_mid_chain | CAR_long_chain |\n",
       "|---|---|---|\n",
       "| 16 | 0           | 0.000228289 |\n",
       "| 17 | 0           | 0.000383836 |\n",
       "| 18 | 0           | 0.000189735 |\n",
       "| 19 | 0           | 0.000058000 |\n",
       "| 20 | 0           | 0.000000000 |\n",
       "| 26 | 0           | 0.000653108 |\n",
       "\n"
      ],
      "text/plain": [
       "   CAR_mid_chain CAR_long_chain\n",
       "16 0             0.000228289   \n",
       "17 0             0.000383836   \n",
       "18 0             0.000189735   \n",
       "19 0             0.000058000   \n",
       "20 0             0.000000000   \n",
       "26 0             0.000653108   "
      ]
     },
     "metadata": {},
     "output_type": "display_data"
    },
    {
     "data": {
      "text/html": [
       "<strong>CAR_long_chain:</strong> 2"
      ],
      "text/latex": [
       "\\textbf{CAR\\textbackslash{}\\_long\\textbackslash{}\\_chain:} 2"
      ],
      "text/markdown": [
       "**CAR_long_chain:** 2"
      ],
      "text/plain": [
       "CAR_long_chain \n",
       "             2 "
      ]
     },
     "metadata": {},
     "output_type": "display_data"
    },
    {
     "data": {
      "text/html": [
       "<ol class=list-inline>\n",
       "\t<li>0.000228289</li>\n",
       "\t<li>0.000383836</li>\n",
       "\t<li>0.000189735</li>\n",
       "\t<li>5.8e-05</li>\n",
       "\t<li>0</li>\n",
       "\t<li>0.000653108</li>\n",
       "\t<li>6.89e-05</li>\n",
       "\t<li>0</li>\n",
       "\t<li>0.000287006</li>\n",
       "\t<li>0.000375859</li>\n",
       "\t<li>0.000308143</li>\n",
       "\t<li>0.000167156</li>\n",
       "\t<li>0.000276301</li>\n",
       "\t<li>0.001552789</li>\n",
       "\t<li>0.0001333</li>\n",
       "\t<li>0.000393353</li>\n",
       "\t<li>0</li>\n",
       "\t<li>0</li>\n",
       "\t<li>0</li>\n",
       "\t<li>0.000167597</li>\n",
       "\t<li>0.001202458</li>\n",
       "\t<li>0.000576867</li>\n",
       "\t<li>0.000705598</li>\n",
       "\t<li>4.27e-05</li>\n",
       "\t<li>0.000333156</li>\n",
       "\t<li>0</li>\n",
       "\t<li>8.66e-05</li>\n",
       "\t<li>0.000223127</li>\n",
       "\t<li>0.000480735</li>\n",
       "\t<li>0.000168202</li>\n",
       "</ol>\n"
      ],
      "text/latex": [
       "\\begin{enumerate*}\n",
       "\\item 0.000228289\n",
       "\\item 0.000383836\n",
       "\\item 0.000189735\n",
       "\\item 5.8e-05\n",
       "\\item 0\n",
       "\\item 0.000653108\n",
       "\\item 6.89e-05\n",
       "\\item 0\n",
       "\\item 0.000287006\n",
       "\\item 0.000375859\n",
       "\\item 0.000308143\n",
       "\\item 0.000167156\n",
       "\\item 0.000276301\n",
       "\\item 0.001552789\n",
       "\\item 0.0001333\n",
       "\\item 0.000393353\n",
       "\\item 0\n",
       "\\item 0\n",
       "\\item 0\n",
       "\\item 0.000167597\n",
       "\\item 0.001202458\n",
       "\\item 0.000576867\n",
       "\\item 0.000705598\n",
       "\\item 4.27e-05\n",
       "\\item 0.000333156\n",
       "\\item 0\n",
       "\\item 8.66e-05\n",
       "\\item 0.000223127\n",
       "\\item 0.000480735\n",
       "\\item 0.000168202\n",
       "\\end{enumerate*}\n"
      ],
      "text/markdown": [
       "1. 0.000228289\n",
       "2. 0.000383836\n",
       "3. 0.000189735\n",
       "4. 5.8e-05\n",
       "5. 0\n",
       "6. 0.000653108\n",
       "7. 6.89e-05\n",
       "8. 0\n",
       "9. 0.000287006\n",
       "10. 0.000375859\n",
       "11. 0.000308143\n",
       "12. 0.000167156\n",
       "13. 0.000276301\n",
       "14. 0.001552789\n",
       "15. 0.0001333\n",
       "16. 0.000393353\n",
       "17. 0\n",
       "18. 0\n",
       "19. 0\n",
       "20. 0.000167597\n",
       "21. 0.001202458\n",
       "22. 0.000576867\n",
       "23. 0.000705598\n",
       "24. 4.27e-05\n",
       "25. 0.000333156\n",
       "26. 0\n",
       "27. 8.66e-05\n",
       "28. 0.000223127\n",
       "29. 0.000480735\n",
       "30. 0.000168202\n",
       "\n",
       "\n"
      ],
      "text/plain": [
       " [1] 0.000228289 0.000383836 0.000189735 0.000058000 0.000000000 0.000653108\n",
       " [7] 0.000068900 0.000000000 0.000287006 0.000375859 0.000308143 0.000167156\n",
       "[13] 0.000276301 0.001552789 0.000133300 0.000393353 0.000000000 0.000000000\n",
       "[19] 0.000000000 0.000167597 0.001202458 0.000576867 0.000705598 0.000042700\n",
       "[25] 0.000333156 0.000000000 0.000086600 0.000223127 0.000480735 0.000168202"
      ]
     },
     "metadata": {},
     "output_type": "display_data"
    },
    {
     "data": {
      "text/html": [
       "<table>\n",
       "<thead><tr><th></th><th scope=col>filename</th><th scope=col>MouseID</th><th scope=col>Treatmentgroup</th><th scope=col>DPI</th><th scope=col>organ</th><th scope=col>well_position</th><th scope=col>plate</th><th scope=col>nonzero</th></tr></thead>\n",
       "<tbody>\n",
       "\t<tr><th scope=row>16</th><td>X581_Group3E_142dpi_RV_top_176_G_B4_P136.mzXML</td><td>581                                           </td><td>infected                                      </td><td>142                                           </td><td>RV_top                                        </td><td>B4                                            </td><td>P136                                          </td><td>0.000228289                                   </td></tr>\n",
       "\t<tr><th scope=row>17</th><td>X582_Group3E_142dpi_RV_top_177_G_B5_P136.mzXML</td><td>582                                           </td><td>infected                                      </td><td>142                                           </td><td>RV_top                                        </td><td>B5                                            </td><td>P136                                          </td><td>0.000383836                                   </td></tr>\n",
       "\t<tr><th scope=row>18</th><td>X583_Group3E_142dpi_RV_top_178_G_B6_P136.mzXML</td><td>583                                           </td><td>infected                                      </td><td>142                                           </td><td>RV_top                                        </td><td>B6                                            </td><td>P136                                          </td><td>0.000189735                                   </td></tr>\n",
       "\t<tr><th scope=row>19</th><td>X584_Group3E_142dpi_RV_top_179_G_B7_P136.mzXML</td><td>584                                           </td><td>infected                                      </td><td>142                                           </td><td>RV_top                                        </td><td>B7                                            </td><td>P136                                          </td><td>0.000058000                                   </td></tr>\n",
       "\t<tr><th scope=row>20</th><td>X585_Group3E_142dpi_RV_top_180_G_B8_P136.mzXML</td><td>585                                           </td><td>infected                                      </td><td>142                                           </td><td>RV_top                                        </td><td>B8                                            </td><td>P136                                          </td><td>0.000000000                                   </td></tr>\n",
       "\t<tr><th scope=row>26</th><td>X631_Group15_142dpi_RV_top_191_G_C7_P136.mzXML</td><td>631                                           </td><td>BNZ                                           </td><td>142                                           </td><td>RV_top                                        </td><td>C7                                            </td><td>P136                                          </td><td>0.000653108                                   </td></tr>\n",
       "</tbody>\n",
       "</table>\n"
      ],
      "text/latex": [
       "\\begin{tabular}{r|llllllll}\n",
       "  & filename & MouseID & Treatmentgroup & DPI & organ & well\\_position & plate & nonzero\\\\\n",
       "\\hline\n",
       "\t16 & X581\\_Group3E\\_142dpi\\_RV\\_top\\_176\\_G\\_B4\\_P136.mzXML & 581                                                            & infected                                                       & 142                                                            & RV\\_top                                                       & B4                                                             & P136                                                           & 0.000228289                                                   \\\\\n",
       "\t17 & X582\\_Group3E\\_142dpi\\_RV\\_top\\_177\\_G\\_B5\\_P136.mzXML & 582                                                            & infected                                                       & 142                                                            & RV\\_top                                                       & B5                                                             & P136                                                           & 0.000383836                                                   \\\\\n",
       "\t18 & X583\\_Group3E\\_142dpi\\_RV\\_top\\_178\\_G\\_B6\\_P136.mzXML & 583                                                            & infected                                                       & 142                                                            & RV\\_top                                                       & B6                                                             & P136                                                           & 0.000189735                                                   \\\\\n",
       "\t19 & X584\\_Group3E\\_142dpi\\_RV\\_top\\_179\\_G\\_B7\\_P136.mzXML & 584                                                            & infected                                                       & 142                                                            & RV\\_top                                                       & B7                                                             & P136                                                           & 0.000058000                                                   \\\\\n",
       "\t20 & X585\\_Group3E\\_142dpi\\_RV\\_top\\_180\\_G\\_B8\\_P136.mzXML & 585                                                            & infected                                                       & 142                                                            & RV\\_top                                                       & B8                                                             & P136                                                           & 0.000000000                                                   \\\\\n",
       "\t26 & X631\\_Group15\\_142dpi\\_RV\\_top\\_191\\_G\\_C7\\_P136.mzXML & 631                                                            & BNZ                                                            & 142                                                            & RV\\_top                                                       & C7                                                             & P136                                                           & 0.000653108                                                   \\\\\n",
       "\\end{tabular}\n"
      ],
      "text/markdown": [
       "\n",
       "| <!--/--> | filename | MouseID | Treatmentgroup | DPI | organ | well_position | plate | nonzero |\n",
       "|---|---|---|---|---|---|---|---|---|\n",
       "| 16 | X581_Group3E_142dpi_RV_top_176_G_B4_P136.mzXML | 581                                            | infected                                       | 142                                            | RV_top                                         | B4                                             | P136                                           | 0.000228289                                    |\n",
       "| 17 | X582_Group3E_142dpi_RV_top_177_G_B5_P136.mzXML | 582                                            | infected                                       | 142                                            | RV_top                                         | B5                                             | P136                                           | 0.000383836                                    |\n",
       "| 18 | X583_Group3E_142dpi_RV_top_178_G_B6_P136.mzXML | 583                                            | infected                                       | 142                                            | RV_top                                         | B6                                             | P136                                           | 0.000189735                                    |\n",
       "| 19 | X584_Group3E_142dpi_RV_top_179_G_B7_P136.mzXML | 584                                            | infected                                       | 142                                            | RV_top                                         | B7                                             | P136                                           | 0.000058000                                    |\n",
       "| 20 | X585_Group3E_142dpi_RV_top_180_G_B8_P136.mzXML | 585                                            | infected                                       | 142                                            | RV_top                                         | B8                                             | P136                                           | 0.000000000                                    |\n",
       "| 26 | X631_Group15_142dpi_RV_top_191_G_C7_P136.mzXML | 631                                            | BNZ                                            | 142                                            | RV_top                                         | C7                                             | P136                                           | 0.000653108                                    |\n",
       "\n"
      ],
      "text/plain": [
       "   filename                                       MouseID Treatmentgroup DPI\n",
       "16 X581_Group3E_142dpi_RV_top_176_G_B4_P136.mzXML 581     infected       142\n",
       "17 X582_Group3E_142dpi_RV_top_177_G_B5_P136.mzXML 582     infected       142\n",
       "18 X583_Group3E_142dpi_RV_top_178_G_B6_P136.mzXML 583     infected       142\n",
       "19 X584_Group3E_142dpi_RV_top_179_G_B7_P136.mzXML 584     infected       142\n",
       "20 X585_Group3E_142dpi_RV_top_180_G_B8_P136.mzXML 585     infected       142\n",
       "26 X631_Group15_142dpi_RV_top_191_G_C7_P136.mzXML 631     BNZ            142\n",
       "   organ  well_position plate nonzero    \n",
       "16 RV_top B4            P136  0.000228289\n",
       "17 RV_top B5            P136  0.000383836\n",
       "18 RV_top B6            P136  0.000189735\n",
       "19 RV_top B7            P136  0.000058000\n",
       "20 RV_top B8            P136  0.000000000\n",
       "26 RV_top C7            P136  0.000653108"
      ]
     },
     "metadata": {},
     "output_type": "display_data"
    },
    {
     "data": {
      "text/html": [
       "<ol class=list-inline>\n",
       "\t<li>30</li>\n",
       "\t<li>9</li>\n",
       "</ol>\n"
      ],
      "text/latex": [
       "\\begin{enumerate*}\n",
       "\\item 30\n",
       "\\item 9\n",
       "\\end{enumerate*}\n"
      ],
      "text/markdown": [
       "1. 30\n",
       "2. 9\n",
       "\n",
       "\n"
      ],
      "text/plain": [
       "[1] 30  9"
      ]
     },
     "metadata": {},
     "output_type": "display_data"
    },
    {
     "data": {
      "text/html": [
       "<ol class=list-inline>\n",
       "\t<li>30</li>\n",
       "\t<li>2</li>\n",
       "</ol>\n"
      ],
      "text/latex": [
       "\\begin{enumerate*}\n",
       "\\item 30\n",
       "\\item 2\n",
       "\\end{enumerate*}\n"
      ],
      "text/markdown": [
       "1. 30\n",
       "2. 2\n",
       "\n",
       "\n"
      ],
      "text/plain": [
       "[1] 30  2"
      ]
     },
     "metadata": {},
     "output_type": "display_data"
    },
    {
     "data": {
      "text/plain": [
       "NULL"
      ]
     },
     "metadata": {},
     "output_type": "display_data"
    },
    {
     "data": {
      "text/html": [
       "<ol class=list-inline>\n",
       "\t<li>30</li>\n",
       "\t<li>8</li>\n",
       "</ol>\n"
      ],
      "text/latex": [
       "\\begin{enumerate*}\n",
       "\\item 30\n",
       "\\item 8\n",
       "\\end{enumerate*}\n"
      ],
      "text/markdown": [
       "1. 30\n",
       "2. 8\n",
       "\n",
       "\n"
      ],
      "text/plain": [
       "[1] 30  8"
      ]
     },
     "metadata": {},
     "output_type": "display_data"
    }
   ],
   "source": [
    "noMeta<-features_pos[,8:9]\n",
    "head(noMeta)\n",
    "not_zero<-which(colSums(noMeta) != 0)\n",
    "head(not_zero)\n",
    "nonzero <- noMeta[, not_zero]\n",
    "nonzero\n",
    "nonzero_wMeta<-cbind(features_pos[,1:7], nonzero)\n",
    "head(nonzero_wMeta)\n",
    "dim(features_pos)\n",
    "dim(noMeta)\n",
    "dim(nonzero)\n",
    "dim(nonzero_wMeta)"
   ]
  },
  {
   "cell_type": "code",
   "execution_count": 15,
   "metadata": {
    "scrolled": true
   },
   "outputs": [
    {
     "name": "stderr",
     "output_type": "stream",
     "text": [
      "Warning message in wilcox.test.default(x = c(0.000653108, 6.89e-05, 0, 0.000287006, :\n",
      "\"cannot compute exact p-value with ties\""
     ]
    },
    {
     "data": {
      "text/html": [
       "0.139344152930862"
      ],
      "text/latex": [
       "0.139344152930862"
      ],
      "text/markdown": [
       "0.139344152930862"
      ],
      "text/plain": [
       "[1] 0.1393442"
      ]
     },
     "metadata": {},
     "output_type": "display_data"
    },
    {
     "data": {
      "text/html": [
       "0.139344152930862"
      ],
      "text/latex": [
       "0.139344152930862"
      ],
      "text/markdown": [
       "0.139344152930862"
      ],
      "text/plain": [
       "[1] 0.1393442"
      ]
     },
     "metadata": {},
     "output_type": "display_data"
    }
   ],
   "source": [
    "pval<-c()\n",
    "\n",
    "for (i in 8:ncol(nonzero_wMeta)) \n",
    "pval<-c(pval,wilcox.test(nonzero_wMeta[,i]~nonzero_wMeta$Treatmentgroup)$p.value)\n",
    "head(pval) \n",
    "pAdj <- p.adjust(pval, method = c(\"fdr\"), n=length(pval)) \n",
    "head(pAdj) \n",
    "\n"
   ]
  },
  {
   "cell_type": "code",
   "execution_count": 16,
   "metadata": {
    "scrolled": true
   },
   "outputs": [
    {
     "data": {
      "text/html": [
       "1"
      ],
      "text/latex": [
       "1"
      ],
      "text/markdown": [
       "1"
      ],
      "text/plain": [
       "[1] 1"
      ]
     },
     "metadata": {},
     "output_type": "display_data"
    }
   ],
   "source": [
    "length(pval)"
   ]
  },
  {
   "cell_type": "code",
   "execution_count": 17,
   "metadata": {
    "scrolled": true
   },
   "outputs": [
    {
     "data": {
      "text/html": [
       "1"
      ],
      "text/latex": [
       "1"
      ],
      "text/markdown": [
       "1"
      ],
      "text/plain": [
       "[1] 1"
      ]
     },
     "metadata": {},
     "output_type": "display_data"
    }
   ],
   "source": [
    "length(pAdj)"
   ]
  },
  {
   "cell_type": "code",
   "execution_count": 18,
   "metadata": {},
   "outputs": [
    {
     "ename": "ERROR",
     "evalue": "Error in apply(nonzero_wMeta[, 8:ncol(nonzero_wMeta)], 2, function(x) tapply(x, : dim(X) must have a positive length\n",
     "output_type": "error",
     "traceback": [
      "Error in apply(nonzero_wMeta[, 8:ncol(nonzero_wMeta)], 2, function(x) tapply(x, : dim(X) must have a positive length\nTraceback:\n",
      "1. apply(nonzero_wMeta[, 8:ncol(nonzero_wMeta)], 2, function(x) tapply(x, \n .     nonzero_wMeta$Treatmentgroup, function(x) mean(x)))",
      "2. stop(\"dim(X) must have a positive length\")"
     ]
    }
   ],
   "source": [
    "avg<- apply(nonzero_wMeta[,8:ncol(nonzero_wMeta)], 2, function(x) tapply(x, nonzero_wMeta$Treatmentgroup, function(x) mean(x))) \n",
    "\n",
    "dim(avg) \n",
    "\n",
    "avg[,1:2]\n",
    "\n",
    "fch <- apply(avg, 2, function(x) x[1]/x[2]) \n",
    "\n",
    "head(fch) \n",
    "is(fch)"
   ]
  },
  {
   "cell_type": "code",
   "execution_count": 19,
   "metadata": {
    "scrolled": true
   },
   "outputs": [
    {
     "ename": "ERROR",
     "evalue": "Error in eval(expr, envir, enclos): object 'fch' not found\n",
     "output_type": "error",
     "traceback": [
      "Error in eval(expr, envir, enclos): object 'fch' not found\nTraceback:\n"
     ]
    }
   ],
   "source": [
    "fch"
   ]
  },
  {
   "cell_type": "code",
   "execution_count": 20,
   "metadata": {
    "scrolled": false
   },
   "outputs": [],
   "source": [
    "df <- data.frame(pval, pAdj)\n",
    "write.csv(df, \"CAR-treat-RVT-wilcox-infected-BNZ.csv\")"
   ]
  },
  {
   "cell_type": "code",
   "execution_count": null,
   "metadata": {},
   "outputs": [],
   "source": []
  },
  {
   "cell_type": "code",
   "execution_count": null,
   "metadata": {},
   "outputs": [],
   "source": []
  },
  {
   "cell_type": "code",
   "execution_count": null,
   "metadata": {},
   "outputs": [],
   "source": []
  },
  {
   "cell_type": "code",
   "execution_count": null,
   "metadata": {},
   "outputs": [],
   "source": []
  },
  {
   "cell_type": "code",
   "execution_count": null,
   "metadata": {},
   "outputs": [],
   "source": []
  },
  {
   "cell_type": "code",
   "execution_count": null,
   "metadata": {},
   "outputs": [],
   "source": []
  }
 ],
 "metadata": {
  "kernelspec": {
   "display_name": "R",
   "language": "R",
   "name": "ir"
  },
  "language_info": {
   "codemirror_mode": "r",
   "file_extension": ".r",
   "mimetype": "text/x-r-source",
   "name": "R",
   "pygments_lexer": "r",
   "version": "3.6.1"
  }
 },
 "nbformat": 4,
 "nbformat_minor": 2
}
