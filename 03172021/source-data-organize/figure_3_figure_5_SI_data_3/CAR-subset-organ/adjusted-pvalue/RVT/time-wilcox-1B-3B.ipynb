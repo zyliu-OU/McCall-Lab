{
 "cells": [
  {
   "cell_type": "code",
   "execution_count": 11,
   "metadata": {},
   "outputs": [],
   "source": [
    "a <- read.csv(\"03172021-CAR-time-RVT-M-F.csv\")"
   ]
  },
  {
   "cell_type": "code",
   "execution_count": 12,
   "metadata": {},
   "outputs": [
    {
     "data": {
      "text/html": [
       "<table>\n",
       "<thead><tr><th scope=col>filename</th><th scope=col>MouseID</th><th scope=col>Treatmentgroup</th><th scope=col>status</th><th scope=col>DPI</th><th scope=col>organ</th><th scope=col>well_position</th><th scope=col>plate</th><th scope=col>CAR_mid_chain</th><th scope=col>CAR_long_chain</th></tr></thead>\n",
       "<tbody>\n",
       "\t<tr><td>X501_Group1A_50dpi_RV_top_251_B_A1_P137.mzXML</td><td>501                                          </td><td>Group1A                                      </td><td>naive                                        </td><td>DPI_50                                       </td><td>RV_top                                       </td><td>A1                                           </td><td>P137                                         </td><td>0                                            </td><td>0.000273748                                  </td></tr>\n",
       "\t<tr><td>X502_Group1A_50dpi_RV_top_252_B_A2_P137.mzXML</td><td>502                                          </td><td>Group1A                                      </td><td>naive                                        </td><td>DPI_50                                       </td><td>RV_top                                       </td><td>A2                                           </td><td>P137                                         </td><td>0                                            </td><td>0.000396923                                  </td></tr>\n",
       "\t<tr><td>X503_Group1A_50dpi_RV_top_253_B_A3_P137.mzXML</td><td>503                                          </td><td>Group1A                                      </td><td>naive                                        </td><td>DPI_50                                       </td><td>RV_top                                       </td><td>A3                                           </td><td>P137                                         </td><td>0                                            </td><td>0.000040600                                  </td></tr>\n",
       "\t<tr><td>X504_Group1A_50dpi_RV_top_254_B_A4_P137.mzXML</td><td>504                                          </td><td>Group1A                                      </td><td>naive                                        </td><td>DPI_50                                       </td><td>RV_top                                       </td><td>A4                                           </td><td>P137                                         </td><td>0                                            </td><td>0.001474421                                  </td></tr>\n",
       "\t<tr><td>X505_Group1A_50dpi_RV_top_255_B_A5_P137.mzXML</td><td>505                                          </td><td>Group1A                                      </td><td>naive                                        </td><td>DPI_50                                       </td><td>RV_top                                       </td><td>A5                                           </td><td>P137                                         </td><td>0                                            </td><td>0.000274512                                  </td></tr>\n",
       "\t<tr><td>X521_Group1A_50dpi_RV_top_256_B_A6_P137.mzXML</td><td>521                                          </td><td>Group1A                                      </td><td>naive                                        </td><td>DPI_50                                       </td><td>RV_top                                       </td><td>A6                                           </td><td>P137                                         </td><td>0                                            </td><td>0.000128641                                  </td></tr>\n",
       "</tbody>\n",
       "</table>\n"
      ],
      "text/latex": [
       "\\begin{tabular}{r|llllllllll}\n",
       " filename & MouseID & Treatmentgroup & status & DPI & organ & well\\_position & plate & CAR\\_mid\\_chain & CAR\\_long\\_chain\\\\\n",
       "\\hline\n",
       "\t X501\\_Group1A\\_50dpi\\_RV\\_top\\_251\\_B\\_A1\\_P137.mzXML & 501                                                           & Group1A                                                       & naive                                                         & DPI\\_50                                                      & RV\\_top                                                      & A1                                                            & P137                                                          & 0                                                             & 0.000273748                                                  \\\\\n",
       "\t X502\\_Group1A\\_50dpi\\_RV\\_top\\_252\\_B\\_A2\\_P137.mzXML & 502                                                           & Group1A                                                       & naive                                                         & DPI\\_50                                                      & RV\\_top                                                      & A2                                                            & P137                                                          & 0                                                             & 0.000396923                                                  \\\\\n",
       "\t X503\\_Group1A\\_50dpi\\_RV\\_top\\_253\\_B\\_A3\\_P137.mzXML & 503                                                           & Group1A                                                       & naive                                                         & DPI\\_50                                                      & RV\\_top                                                      & A3                                                            & P137                                                          & 0                                                             & 0.000040600                                                  \\\\\n",
       "\t X504\\_Group1A\\_50dpi\\_RV\\_top\\_254\\_B\\_A4\\_P137.mzXML & 504                                                           & Group1A                                                       & naive                                                         & DPI\\_50                                                      & RV\\_top                                                      & A4                                                            & P137                                                          & 0                                                             & 0.001474421                                                  \\\\\n",
       "\t X505\\_Group1A\\_50dpi\\_RV\\_top\\_255\\_B\\_A5\\_P137.mzXML & 505                                                           & Group1A                                                       & naive                                                         & DPI\\_50                                                      & RV\\_top                                                      & A5                                                            & P137                                                          & 0                                                             & 0.000274512                                                  \\\\\n",
       "\t X521\\_Group1A\\_50dpi\\_RV\\_top\\_256\\_B\\_A6\\_P137.mzXML & 521                                                           & Group1A                                                       & naive                                                         & DPI\\_50                                                      & RV\\_top                                                      & A6                                                            & P137                                                          & 0                                                             & 0.000128641                                                  \\\\\n",
       "\\end{tabular}\n"
      ],
      "text/markdown": [
       "\n",
       "| filename | MouseID | Treatmentgroup | status | DPI | organ | well_position | plate | CAR_mid_chain | CAR_long_chain |\n",
       "|---|---|---|---|---|---|---|---|---|---|\n",
       "| X501_Group1A_50dpi_RV_top_251_B_A1_P137.mzXML | 501                                           | Group1A                                       | naive                                         | DPI_50                                        | RV_top                                        | A1                                            | P137                                          | 0                                             | 0.000273748                                   |\n",
       "| X502_Group1A_50dpi_RV_top_252_B_A2_P137.mzXML | 502                                           | Group1A                                       | naive                                         | DPI_50                                        | RV_top                                        | A2                                            | P137                                          | 0                                             | 0.000396923                                   |\n",
       "| X503_Group1A_50dpi_RV_top_253_B_A3_P137.mzXML | 503                                           | Group1A                                       | naive                                         | DPI_50                                        | RV_top                                        | A3                                            | P137                                          | 0                                             | 0.000040600                                   |\n",
       "| X504_Group1A_50dpi_RV_top_254_B_A4_P137.mzXML | 504                                           | Group1A                                       | naive                                         | DPI_50                                        | RV_top                                        | A4                                            | P137                                          | 0                                             | 0.001474421                                   |\n",
       "| X505_Group1A_50dpi_RV_top_255_B_A5_P137.mzXML | 505                                           | Group1A                                       | naive                                         | DPI_50                                        | RV_top                                        | A5                                            | P137                                          | 0                                             | 0.000274512                                   |\n",
       "| X521_Group1A_50dpi_RV_top_256_B_A6_P137.mzXML | 521                                           | Group1A                                       | naive                                         | DPI_50                                        | RV_top                                        | A6                                            | P137                                          | 0                                             | 0.000128641                                   |\n",
       "\n"
      ],
      "text/plain": [
       "  filename                                      MouseID Treatmentgroup status\n",
       "1 X501_Group1A_50dpi_RV_top_251_B_A1_P137.mzXML 501     Group1A        naive \n",
       "2 X502_Group1A_50dpi_RV_top_252_B_A2_P137.mzXML 502     Group1A        naive \n",
       "3 X503_Group1A_50dpi_RV_top_253_B_A3_P137.mzXML 503     Group1A        naive \n",
       "4 X504_Group1A_50dpi_RV_top_254_B_A4_P137.mzXML 504     Group1A        naive \n",
       "5 X505_Group1A_50dpi_RV_top_255_B_A5_P137.mzXML 505     Group1A        naive \n",
       "6 X521_Group1A_50dpi_RV_top_256_B_A6_P137.mzXML 521     Group1A        naive \n",
       "  DPI    organ  well_position plate CAR_mid_chain CAR_long_chain\n",
       "1 DPI_50 RV_top A1            P137  0             0.000273748   \n",
       "2 DPI_50 RV_top A2            P137  0             0.000396923   \n",
       "3 DPI_50 RV_top A3            P137  0             0.000040600   \n",
       "4 DPI_50 RV_top A4            P137  0             0.001474421   \n",
       "5 DPI_50 RV_top A5            P137  0             0.000274512   \n",
       "6 DPI_50 RV_top A6            P137  0             0.000128641   "
      ]
     },
     "metadata": {},
     "output_type": "display_data"
    },
    {
     "data": {
      "text/html": [
       "<ol class=list-inline>\n",
       "\t<li>90</li>\n",
       "\t<li>10</li>\n",
       "</ol>\n"
      ],
      "text/latex": [
       "\\begin{enumerate*}\n",
       "\\item 90\n",
       "\\item 10\n",
       "\\end{enumerate*}\n"
      ],
      "text/markdown": [
       "1. 90\n",
       "2. 10\n",
       "\n",
       "\n"
      ],
      "text/plain": [
       "[1] 90 10"
      ]
     },
     "metadata": {},
     "output_type": "display_data"
    }
   ],
   "source": [
    "head(a)\n",
    "dim(a)"
   ]
  },
  {
   "cell_type": "code",
   "execution_count": 13,
   "metadata": {},
   "outputs": [
    {
     "data": {
      "text/html": [
       "<table>\n",
       "<thead><tr><th></th><th scope=col>filename</th><th scope=col>MouseID</th><th scope=col>Treatmentgroup</th><th scope=col>status</th><th scope=col>DPI</th><th scope=col>organ</th><th scope=col>well_position</th><th scope=col>plate</th><th scope=col>CAR_mid_chain</th><th scope=col>CAR_long_chain</th></tr></thead>\n",
       "<tbody>\n",
       "\t<tr><th scope=row>16</th><td>X506_Group1B_70dpi_RV_top_281_B_C7_P137.mzXML </td><td>506                                           </td><td>Group1B                                       </td><td>naive                                         </td><td>DPI_75                                        </td><td>RV_top                                        </td><td>C7                                            </td><td>P137                                          </td><td>0                                             </td><td>0.000150700                                   </td></tr>\n",
       "\t<tr><th scope=row>17</th><td>X507_Group1B_70dpi_RV_top_282_B_C8_P137.mzXML </td><td>507                                           </td><td>Group1B                                       </td><td>naive                                         </td><td>DPI_75                                        </td><td>RV_top                                        </td><td>C8                                            </td><td>P137                                          </td><td>0                                             </td><td>0.005176063                                   </td></tr>\n",
       "\t<tr><th scope=row>18</th><td>X508_Group1B_70dpi_RV_top_283_B_C9_P137.mzXML </td><td>508                                           </td><td>Group1B                                       </td><td>naive                                         </td><td>DPI_75                                        </td><td>RV_top                                        </td><td>C9                                            </td><td>P137                                          </td><td>0                                             </td><td>0.008103268                                   </td></tr>\n",
       "\t<tr><th scope=row>19</th><td>X509_Group1B_70dpi_RV_top_284_B_C10_P137.mzXML</td><td>509                                           </td><td>Group1B                                       </td><td>naive                                         </td><td>DPI_75                                        </td><td>RV_top                                        </td><td>C10                                           </td><td>P137                                          </td><td>0                                             </td><td>0.000000000                                   </td></tr>\n",
       "\t<tr><th scope=row>20</th><td>X510_Group1B_70dpi_RV_top_285_B_C11_P137.mzXML</td><td>510                                           </td><td>Group1B                                       </td><td>naive                                         </td><td>DPI_75                                        </td><td>RV_top                                        </td><td>C11                                           </td><td>P137                                          </td><td>0                                             </td><td>0.000000000                                   </td></tr>\n",
       "\t<tr><th scope=row>21</th><td>X526_Group1B_70dpi_RV_top_286_B_C12_P137.mzXML</td><td>526                                           </td><td>Group1B                                       </td><td>naive                                         </td><td>DPI_75                                        </td><td>RV_top                                        </td><td>C12                                           </td><td>P137                                          </td><td>0                                             </td><td>0.001559781                                   </td></tr>\n",
       "</tbody>\n",
       "</table>\n"
      ],
      "text/latex": [
       "\\begin{tabular}{r|llllllllll}\n",
       "  & filename & MouseID & Treatmentgroup & status & DPI & organ & well\\_position & plate & CAR\\_mid\\_chain & CAR\\_long\\_chain\\\\\n",
       "\\hline\n",
       "\t16 & X506\\_Group1B\\_70dpi\\_RV\\_top\\_281\\_B\\_C7\\_P137.mzXML  & 506                                                            & Group1B                                                        & naive                                                          & DPI\\_75                                                       & RV\\_top                                                       & C7                                                             & P137                                                           & 0                                                              & 0.000150700                                                   \\\\\n",
       "\t17 & X507\\_Group1B\\_70dpi\\_RV\\_top\\_282\\_B\\_C8\\_P137.mzXML  & 507                                                            & Group1B                                                        & naive                                                          & DPI\\_75                                                       & RV\\_top                                                       & C8                                                             & P137                                                           & 0                                                              & 0.005176063                                                   \\\\\n",
       "\t18 & X508\\_Group1B\\_70dpi\\_RV\\_top\\_283\\_B\\_C9\\_P137.mzXML  & 508                                                            & Group1B                                                        & naive                                                          & DPI\\_75                                                       & RV\\_top                                                       & C9                                                             & P137                                                           & 0                                                              & 0.008103268                                                   \\\\\n",
       "\t19 & X509\\_Group1B\\_70dpi\\_RV\\_top\\_284\\_B\\_C10\\_P137.mzXML & 509                                                            & Group1B                                                        & naive                                                          & DPI\\_75                                                       & RV\\_top                                                       & C10                                                            & P137                                                           & 0                                                              & 0.000000000                                                   \\\\\n",
       "\t20 & X510\\_Group1B\\_70dpi\\_RV\\_top\\_285\\_B\\_C11\\_P137.mzXML & 510                                                            & Group1B                                                        & naive                                                          & DPI\\_75                                                       & RV\\_top                                                       & C11                                                            & P137                                                           & 0                                                              & 0.000000000                                                   \\\\\n",
       "\t21 & X526\\_Group1B\\_70dpi\\_RV\\_top\\_286\\_B\\_C12\\_P137.mzXML & 526                                                            & Group1B                                                        & naive                                                          & DPI\\_75                                                       & RV\\_top                                                       & C12                                                            & P137                                                           & 0                                                              & 0.001559781                                                   \\\\\n",
       "\\end{tabular}\n"
      ],
      "text/markdown": [
       "\n",
       "| <!--/--> | filename | MouseID | Treatmentgroup | status | DPI | organ | well_position | plate | CAR_mid_chain | CAR_long_chain |\n",
       "|---|---|---|---|---|---|---|---|---|---|---|\n",
       "| 16 | X506_Group1B_70dpi_RV_top_281_B_C7_P137.mzXML  | 506                                            | Group1B                                        | naive                                          | DPI_75                                         | RV_top                                         | C7                                             | P137                                           | 0                                              | 0.000150700                                    |\n",
       "| 17 | X507_Group1B_70dpi_RV_top_282_B_C8_P137.mzXML  | 507                                            | Group1B                                        | naive                                          | DPI_75                                         | RV_top                                         | C8                                             | P137                                           | 0                                              | 0.005176063                                    |\n",
       "| 18 | X508_Group1B_70dpi_RV_top_283_B_C9_P137.mzXML  | 508                                            | Group1B                                        | naive                                          | DPI_75                                         | RV_top                                         | C9                                             | P137                                           | 0                                              | 0.008103268                                    |\n",
       "| 19 | X509_Group1B_70dpi_RV_top_284_B_C10_P137.mzXML | 509                                            | Group1B                                        | naive                                          | DPI_75                                         | RV_top                                         | C10                                            | P137                                           | 0                                              | 0.000000000                                    |\n",
       "| 20 | X510_Group1B_70dpi_RV_top_285_B_C11_P137.mzXML | 510                                            | Group1B                                        | naive                                          | DPI_75                                         | RV_top                                         | C11                                            | P137                                           | 0                                              | 0.000000000                                    |\n",
       "| 21 | X526_Group1B_70dpi_RV_top_286_B_C12_P137.mzXML | 526                                            | Group1B                                        | naive                                          | DPI_75                                         | RV_top                                         | C12                                            | P137                                           | 0                                              | 0.001559781                                    |\n",
       "\n"
      ],
      "text/plain": [
       "   filename                                       MouseID Treatmentgroup status\n",
       "16 X506_Group1B_70dpi_RV_top_281_B_C7_P137.mzXML  506     Group1B        naive \n",
       "17 X507_Group1B_70dpi_RV_top_282_B_C8_P137.mzXML  507     Group1B        naive \n",
       "18 X508_Group1B_70dpi_RV_top_283_B_C9_P137.mzXML  508     Group1B        naive \n",
       "19 X509_Group1B_70dpi_RV_top_284_B_C10_P137.mzXML 509     Group1B        naive \n",
       "20 X510_Group1B_70dpi_RV_top_285_B_C11_P137.mzXML 510     Group1B        naive \n",
       "21 X526_Group1B_70dpi_RV_top_286_B_C12_P137.mzXML 526     Group1B        naive \n",
       "   DPI    organ  well_position plate CAR_mid_chain CAR_long_chain\n",
       "16 DPI_75 RV_top C7            P137  0             0.000150700   \n",
       "17 DPI_75 RV_top C8            P137  0             0.005176063   \n",
       "18 DPI_75 RV_top C9            P137  0             0.008103268   \n",
       "19 DPI_75 RV_top C10           P137  0             0.000000000   \n",
       "20 DPI_75 RV_top C11           P137  0             0.000000000   \n",
       "21 DPI_75 RV_top C12           P137  0             0.001559781   "
      ]
     },
     "metadata": {},
     "output_type": "display_data"
    },
    {
     "data": {
      "text/html": [
       "<ol class=list-inline>\n",
       "\t<li>30</li>\n",
       "\t<li>10</li>\n",
       "</ol>\n"
      ],
      "text/latex": [
       "\\begin{enumerate*}\n",
       "\\item 30\n",
       "\\item 10\n",
       "\\end{enumerate*}\n"
      ],
      "text/markdown": [
       "1. 30\n",
       "2. 10\n",
       "\n",
       "\n"
      ],
      "text/plain": [
       "[1] 30 10"
      ]
     },
     "metadata": {},
     "output_type": "display_data"
    }
   ],
   "source": [
    "features_pos<-droplevels(subset(a, a$Treatmentgroup==c(\"Group1B\")|a$Treatmentgroup==c(\"Group3B\")))\n",
    "head(features_pos)\n",
    "dim(features_pos)"
   ]
  },
  {
   "cell_type": "code",
   "execution_count": 14,
   "metadata": {
    "scrolled": false
   },
   "outputs": [
    {
     "data": {
      "text/html": [
       "<table>\n",
       "<thead><tr><th></th><th scope=col>CAR_mid_chain</th><th scope=col>CAR_long_chain</th></tr></thead>\n",
       "<tbody>\n",
       "\t<tr><th scope=row>16</th><td>0          </td><td>0.000150700</td></tr>\n",
       "\t<tr><th scope=row>17</th><td>0          </td><td>0.005176063</td></tr>\n",
       "\t<tr><th scope=row>18</th><td>0          </td><td>0.008103268</td></tr>\n",
       "\t<tr><th scope=row>19</th><td>0          </td><td>0.000000000</td></tr>\n",
       "\t<tr><th scope=row>20</th><td>0          </td><td>0.000000000</td></tr>\n",
       "\t<tr><th scope=row>21</th><td>0          </td><td>0.001559781</td></tr>\n",
       "</tbody>\n",
       "</table>\n"
      ],
      "text/latex": [
       "\\begin{tabular}{r|ll}\n",
       "  & CAR\\_mid\\_chain & CAR\\_long\\_chain\\\\\n",
       "\\hline\n",
       "\t16 & 0           & 0.000150700\\\\\n",
       "\t17 & 0           & 0.005176063\\\\\n",
       "\t18 & 0           & 0.008103268\\\\\n",
       "\t19 & 0           & 0.000000000\\\\\n",
       "\t20 & 0           & 0.000000000\\\\\n",
       "\t21 & 0           & 0.001559781\\\\\n",
       "\\end{tabular}\n"
      ],
      "text/markdown": [
       "\n",
       "| <!--/--> | CAR_mid_chain | CAR_long_chain |\n",
       "|---|---|---|\n",
       "| 16 | 0           | 0.000150700 |\n",
       "| 17 | 0           | 0.005176063 |\n",
       "| 18 | 0           | 0.008103268 |\n",
       "| 19 | 0           | 0.000000000 |\n",
       "| 20 | 0           | 0.000000000 |\n",
       "| 21 | 0           | 0.001559781 |\n",
       "\n"
      ],
      "text/plain": [
       "   CAR_mid_chain CAR_long_chain\n",
       "16 0             0.000150700   \n",
       "17 0             0.005176063   \n",
       "18 0             0.008103268   \n",
       "19 0             0.000000000   \n",
       "20 0             0.000000000   \n",
       "21 0             0.001559781   "
      ]
     },
     "metadata": {},
     "output_type": "display_data"
    },
    {
     "data": {
      "text/html": [
       "<strong>CAR_long_chain:</strong> 2"
      ],
      "text/latex": [
       "\\textbf{CAR\\textbackslash{}\\_long\\textbackslash{}\\_chain:} 2"
      ],
      "text/markdown": [
       "**CAR_long_chain:** 2"
      ],
      "text/plain": [
       "CAR_long_chain \n",
       "             2 "
      ]
     },
     "metadata": {},
     "output_type": "display_data"
    },
    {
     "data": {
      "text/html": [
       "<ol class=list-inline>\n",
       "\t<li>0.0001507</li>\n",
       "\t<li>0.005176063</li>\n",
       "\t<li>0.008103268</li>\n",
       "\t<li>0</li>\n",
       "\t<li>0</li>\n",
       "\t<li>0.001559781</li>\n",
       "\t<li>0.000381722</li>\n",
       "\t<li>0.000919545</li>\n",
       "\t<li>0.009652877</li>\n",
       "\t<li>0.006723995</li>\n",
       "\t<li>0.000779297</li>\n",
       "\t<li>0.004649618</li>\n",
       "\t<li>0.000843272</li>\n",
       "\t<li>0.0001464</li>\n",
       "\t<li>0.004576467</li>\n",
       "\t<li>0.001829309</li>\n",
       "\t<li>0.000541462</li>\n",
       "\t<li>0.000712247</li>\n",
       "\t<li>0.023181301</li>\n",
       "\t<li>0.005206582</li>\n",
       "\t<li>0.001798659</li>\n",
       "\t<li>0.000637806</li>\n",
       "\t<li>0.000240491</li>\n",
       "\t<li>0.000169222</li>\n",
       "\t<li>0.003513262</li>\n",
       "\t<li>0.00031785</li>\n",
       "\t<li>0.001806214</li>\n",
       "\t<li>0.000192374</li>\n",
       "\t<li>0.000218041</li>\n",
       "\t<li>0.000752395</li>\n",
       "</ol>\n"
      ],
      "text/latex": [
       "\\begin{enumerate*}\n",
       "\\item 0.0001507\n",
       "\\item 0.005176063\n",
       "\\item 0.008103268\n",
       "\\item 0\n",
       "\\item 0\n",
       "\\item 0.001559781\n",
       "\\item 0.000381722\n",
       "\\item 0.000919545\n",
       "\\item 0.009652877\n",
       "\\item 0.006723995\n",
       "\\item 0.000779297\n",
       "\\item 0.004649618\n",
       "\\item 0.000843272\n",
       "\\item 0.0001464\n",
       "\\item 0.004576467\n",
       "\\item 0.001829309\n",
       "\\item 0.000541462\n",
       "\\item 0.000712247\n",
       "\\item 0.023181301\n",
       "\\item 0.005206582\n",
       "\\item 0.001798659\n",
       "\\item 0.000637806\n",
       "\\item 0.000240491\n",
       "\\item 0.000169222\n",
       "\\item 0.003513262\n",
       "\\item 0.00031785\n",
       "\\item 0.001806214\n",
       "\\item 0.000192374\n",
       "\\item 0.000218041\n",
       "\\item 0.000752395\n",
       "\\end{enumerate*}\n"
      ],
      "text/markdown": [
       "1. 0.0001507\n",
       "2. 0.005176063\n",
       "3. 0.008103268\n",
       "4. 0\n",
       "5. 0\n",
       "6. 0.001559781\n",
       "7. 0.000381722\n",
       "8. 0.000919545\n",
       "9. 0.009652877\n",
       "10. 0.006723995\n",
       "11. 0.000779297\n",
       "12. 0.004649618\n",
       "13. 0.000843272\n",
       "14. 0.0001464\n",
       "15. 0.004576467\n",
       "16. 0.001829309\n",
       "17. 0.000541462\n",
       "18. 0.000712247\n",
       "19. 0.023181301\n",
       "20. 0.005206582\n",
       "21. 0.001798659\n",
       "22. 0.000637806\n",
       "23. 0.000240491\n",
       "24. 0.000169222\n",
       "25. 0.003513262\n",
       "26. 0.00031785\n",
       "27. 0.001806214\n",
       "28. 0.000192374\n",
       "29. 0.000218041\n",
       "30. 0.000752395\n",
       "\n",
       "\n"
      ],
      "text/plain": [
       " [1] 0.000150700 0.005176063 0.008103268 0.000000000 0.000000000 0.001559781\n",
       " [7] 0.000381722 0.000919545 0.009652877 0.006723995 0.000779297 0.004649618\n",
       "[13] 0.000843272 0.000146400 0.004576467 0.001829309 0.000541462 0.000712247\n",
       "[19] 0.023181301 0.005206582 0.001798659 0.000637806 0.000240491 0.000169222\n",
       "[25] 0.003513262 0.000317850 0.001806214 0.000192374 0.000218041 0.000752395"
      ]
     },
     "metadata": {},
     "output_type": "display_data"
    },
    {
     "data": {
      "text/html": [
       "<table>\n",
       "<thead><tr><th></th><th scope=col>filename</th><th scope=col>MouseID</th><th scope=col>Treatmentgroup</th><th scope=col>status</th><th scope=col>DPI</th><th scope=col>organ</th><th scope=col>well_position</th><th scope=col>plate</th><th scope=col>nonzero</th></tr></thead>\n",
       "<tbody>\n",
       "\t<tr><th scope=row>16</th><td>X506_Group1B_70dpi_RV_top_281_B_C7_P137.mzXML </td><td>506                                           </td><td>Group1B                                       </td><td>naive                                         </td><td>DPI_75                                        </td><td>RV_top                                        </td><td>C7                                            </td><td>P137                                          </td><td>0.000150700                                   </td></tr>\n",
       "\t<tr><th scope=row>17</th><td>X507_Group1B_70dpi_RV_top_282_B_C8_P137.mzXML </td><td>507                                           </td><td>Group1B                                       </td><td>naive                                         </td><td>DPI_75                                        </td><td>RV_top                                        </td><td>C8                                            </td><td>P137                                          </td><td>0.005176063                                   </td></tr>\n",
       "\t<tr><th scope=row>18</th><td>X508_Group1B_70dpi_RV_top_283_B_C9_P137.mzXML </td><td>508                                           </td><td>Group1B                                       </td><td>naive                                         </td><td>DPI_75                                        </td><td>RV_top                                        </td><td>C9                                            </td><td>P137                                          </td><td>0.008103268                                   </td></tr>\n",
       "\t<tr><th scope=row>19</th><td>X509_Group1B_70dpi_RV_top_284_B_C10_P137.mzXML</td><td>509                                           </td><td>Group1B                                       </td><td>naive                                         </td><td>DPI_75                                        </td><td>RV_top                                        </td><td>C10                                           </td><td>P137                                          </td><td>0.000000000                                   </td></tr>\n",
       "\t<tr><th scope=row>20</th><td>X510_Group1B_70dpi_RV_top_285_B_C11_P137.mzXML</td><td>510                                           </td><td>Group1B                                       </td><td>naive                                         </td><td>DPI_75                                        </td><td>RV_top                                        </td><td>C11                                           </td><td>P137                                          </td><td>0.000000000                                   </td></tr>\n",
       "\t<tr><th scope=row>21</th><td>X526_Group1B_70dpi_RV_top_286_B_C12_P137.mzXML</td><td>526                                           </td><td>Group1B                                       </td><td>naive                                         </td><td>DPI_75                                        </td><td>RV_top                                        </td><td>C12                                           </td><td>P137                                          </td><td>0.001559781                                   </td></tr>\n",
       "</tbody>\n",
       "</table>\n"
      ],
      "text/latex": [
       "\\begin{tabular}{r|lllllllll}\n",
       "  & filename & MouseID & Treatmentgroup & status & DPI & organ & well\\_position & plate & nonzero\\\\\n",
       "\\hline\n",
       "\t16 & X506\\_Group1B\\_70dpi\\_RV\\_top\\_281\\_B\\_C7\\_P137.mzXML  & 506                                                            & Group1B                                                        & naive                                                          & DPI\\_75                                                       & RV\\_top                                                       & C7                                                             & P137                                                           & 0.000150700                                                   \\\\\n",
       "\t17 & X507\\_Group1B\\_70dpi\\_RV\\_top\\_282\\_B\\_C8\\_P137.mzXML  & 507                                                            & Group1B                                                        & naive                                                          & DPI\\_75                                                       & RV\\_top                                                       & C8                                                             & P137                                                           & 0.005176063                                                   \\\\\n",
       "\t18 & X508\\_Group1B\\_70dpi\\_RV\\_top\\_283\\_B\\_C9\\_P137.mzXML  & 508                                                            & Group1B                                                        & naive                                                          & DPI\\_75                                                       & RV\\_top                                                       & C9                                                             & P137                                                           & 0.008103268                                                   \\\\\n",
       "\t19 & X509\\_Group1B\\_70dpi\\_RV\\_top\\_284\\_B\\_C10\\_P137.mzXML & 509                                                            & Group1B                                                        & naive                                                          & DPI\\_75                                                       & RV\\_top                                                       & C10                                                            & P137                                                           & 0.000000000                                                   \\\\\n",
       "\t20 & X510\\_Group1B\\_70dpi\\_RV\\_top\\_285\\_B\\_C11\\_P137.mzXML & 510                                                            & Group1B                                                        & naive                                                          & DPI\\_75                                                       & RV\\_top                                                       & C11                                                            & P137                                                           & 0.000000000                                                   \\\\\n",
       "\t21 & X526\\_Group1B\\_70dpi\\_RV\\_top\\_286\\_B\\_C12\\_P137.mzXML & 526                                                            & Group1B                                                        & naive                                                          & DPI\\_75                                                       & RV\\_top                                                       & C12                                                            & P137                                                           & 0.001559781                                                   \\\\\n",
       "\\end{tabular}\n"
      ],
      "text/markdown": [
       "\n",
       "| <!--/--> | filename | MouseID | Treatmentgroup | status | DPI | organ | well_position | plate | nonzero |\n",
       "|---|---|---|---|---|---|---|---|---|---|\n",
       "| 16 | X506_Group1B_70dpi_RV_top_281_B_C7_P137.mzXML  | 506                                            | Group1B                                        | naive                                          | DPI_75                                         | RV_top                                         | C7                                             | P137                                           | 0.000150700                                    |\n",
       "| 17 | X507_Group1B_70dpi_RV_top_282_B_C8_P137.mzXML  | 507                                            | Group1B                                        | naive                                          | DPI_75                                         | RV_top                                         | C8                                             | P137                                           | 0.005176063                                    |\n",
       "| 18 | X508_Group1B_70dpi_RV_top_283_B_C9_P137.mzXML  | 508                                            | Group1B                                        | naive                                          | DPI_75                                         | RV_top                                         | C9                                             | P137                                           | 0.008103268                                    |\n",
       "| 19 | X509_Group1B_70dpi_RV_top_284_B_C10_P137.mzXML | 509                                            | Group1B                                        | naive                                          | DPI_75                                         | RV_top                                         | C10                                            | P137                                           | 0.000000000                                    |\n",
       "| 20 | X510_Group1B_70dpi_RV_top_285_B_C11_P137.mzXML | 510                                            | Group1B                                        | naive                                          | DPI_75                                         | RV_top                                         | C11                                            | P137                                           | 0.000000000                                    |\n",
       "| 21 | X526_Group1B_70dpi_RV_top_286_B_C12_P137.mzXML | 526                                            | Group1B                                        | naive                                          | DPI_75                                         | RV_top                                         | C12                                            | P137                                           | 0.001559781                                    |\n",
       "\n"
      ],
      "text/plain": [
       "   filename                                       MouseID Treatmentgroup status\n",
       "16 X506_Group1B_70dpi_RV_top_281_B_C7_P137.mzXML  506     Group1B        naive \n",
       "17 X507_Group1B_70dpi_RV_top_282_B_C8_P137.mzXML  507     Group1B        naive \n",
       "18 X508_Group1B_70dpi_RV_top_283_B_C9_P137.mzXML  508     Group1B        naive \n",
       "19 X509_Group1B_70dpi_RV_top_284_B_C10_P137.mzXML 509     Group1B        naive \n",
       "20 X510_Group1B_70dpi_RV_top_285_B_C11_P137.mzXML 510     Group1B        naive \n",
       "21 X526_Group1B_70dpi_RV_top_286_B_C12_P137.mzXML 526     Group1B        naive \n",
       "   DPI    organ  well_position plate nonzero    \n",
       "16 DPI_75 RV_top C7            P137  0.000150700\n",
       "17 DPI_75 RV_top C8            P137  0.005176063\n",
       "18 DPI_75 RV_top C9            P137  0.008103268\n",
       "19 DPI_75 RV_top C10           P137  0.000000000\n",
       "20 DPI_75 RV_top C11           P137  0.000000000\n",
       "21 DPI_75 RV_top C12           P137  0.001559781"
      ]
     },
     "metadata": {},
     "output_type": "display_data"
    },
    {
     "data": {
      "text/html": [
       "<ol class=list-inline>\n",
       "\t<li>30</li>\n",
       "\t<li>10</li>\n",
       "</ol>\n"
      ],
      "text/latex": [
       "\\begin{enumerate*}\n",
       "\\item 30\n",
       "\\item 10\n",
       "\\end{enumerate*}\n"
      ],
      "text/markdown": [
       "1. 30\n",
       "2. 10\n",
       "\n",
       "\n"
      ],
      "text/plain": [
       "[1] 30 10"
      ]
     },
     "metadata": {},
     "output_type": "display_data"
    },
    {
     "data": {
      "text/html": [
       "<ol class=list-inline>\n",
       "\t<li>30</li>\n",
       "\t<li>2</li>\n",
       "</ol>\n"
      ],
      "text/latex": [
       "\\begin{enumerate*}\n",
       "\\item 30\n",
       "\\item 2\n",
       "\\end{enumerate*}\n"
      ],
      "text/markdown": [
       "1. 30\n",
       "2. 2\n",
       "\n",
       "\n"
      ],
      "text/plain": [
       "[1] 30  2"
      ]
     },
     "metadata": {},
     "output_type": "display_data"
    },
    {
     "data": {
      "text/plain": [
       "NULL"
      ]
     },
     "metadata": {},
     "output_type": "display_data"
    },
    {
     "data": {
      "text/html": [
       "<ol class=list-inline>\n",
       "\t<li>30</li>\n",
       "\t<li>9</li>\n",
       "</ol>\n"
      ],
      "text/latex": [
       "\\begin{enumerate*}\n",
       "\\item 30\n",
       "\\item 9\n",
       "\\end{enumerate*}\n"
      ],
      "text/markdown": [
       "1. 30\n",
       "2. 9\n",
       "\n",
       "\n"
      ],
      "text/plain": [
       "[1] 30  9"
      ]
     },
     "metadata": {},
     "output_type": "display_data"
    }
   ],
   "source": [
    "noMeta<-features_pos[,9:10]\n",
    "head(noMeta)\n",
    "not_zero<-which(colSums(noMeta) != 0)\n",
    "head(not_zero)\n",
    "nonzero <- noMeta[, not_zero]\n",
    "nonzero\n",
    "nonzero_wMeta<-cbind(features_pos[,1:8], nonzero)\n",
    "head(nonzero_wMeta)\n",
    "dim(features_pos)\n",
    "dim(noMeta)\n",
    "dim(nonzero)\n",
    "dim(nonzero_wMeta)"
   ]
  },
  {
   "cell_type": "code",
   "execution_count": 15,
   "metadata": {
    "scrolled": true
   },
   "outputs": [
    {
     "name": "stderr",
     "output_type": "stream",
     "text": [
      "Warning message in wilcox.test.default(x = c(0.0001507, 0.005176063, 0.008103268, :\n",
      "\"cannot compute exact p-value with ties\""
     ]
    },
    {
     "data": {
      "text/html": [
       "0.708892327542744"
      ],
      "text/latex": [
       "0.708892327542744"
      ],
      "text/markdown": [
       "0.708892327542744"
      ],
      "text/plain": [
       "[1] 0.7088923"
      ]
     },
     "metadata": {},
     "output_type": "display_data"
    },
    {
     "data": {
      "text/html": [
       "0.708892327542744"
      ],
      "text/latex": [
       "0.708892327542744"
      ],
      "text/markdown": [
       "0.708892327542744"
      ],
      "text/plain": [
       "[1] 0.7088923"
      ]
     },
     "metadata": {},
     "output_type": "display_data"
    }
   ],
   "source": [
    "pval<-c()\n",
    "\n",
    "for (i in 9:ncol(nonzero_wMeta)) \n",
    "pval<-c(pval,wilcox.test(nonzero_wMeta[,i]~nonzero_wMeta$Treatmentgroup)$p.value)\n",
    "head(pval) \n",
    "pAdj <- p.adjust(pval, method = c(\"fdr\"), n=length(pval)) \n",
    "head(pAdj) \n",
    "\n"
   ]
  },
  {
   "cell_type": "code",
   "execution_count": 16,
   "metadata": {
    "scrolled": true
   },
   "outputs": [
    {
     "data": {
      "text/html": [
       "1"
      ],
      "text/latex": [
       "1"
      ],
      "text/markdown": [
       "1"
      ],
      "text/plain": [
       "[1] 1"
      ]
     },
     "metadata": {},
     "output_type": "display_data"
    }
   ],
   "source": [
    "length(pval)"
   ]
  },
  {
   "cell_type": "code",
   "execution_count": 17,
   "metadata": {
    "scrolled": true
   },
   "outputs": [
    {
     "data": {
      "text/html": [
       "1"
      ],
      "text/latex": [
       "1"
      ],
      "text/markdown": [
       "1"
      ],
      "text/plain": [
       "[1] 1"
      ]
     },
     "metadata": {},
     "output_type": "display_data"
    }
   ],
   "source": [
    "length(pAdj)"
   ]
  },
  {
   "cell_type": "code",
   "execution_count": 18,
   "metadata": {},
   "outputs": [
    {
     "ename": "ERROR",
     "evalue": "Error in apply(nonzero_wMeta[, 9:ncol(nonzero_wMeta)], 2, function(x) tapply(x, : dim(X) must have a positive length\n",
     "output_type": "error",
     "traceback": [
      "Error in apply(nonzero_wMeta[, 9:ncol(nonzero_wMeta)], 2, function(x) tapply(x, : dim(X) must have a positive length\nTraceback:\n",
      "1. apply(nonzero_wMeta[, 9:ncol(nonzero_wMeta)], 2, function(x) tapply(x, \n .     nonzero_wMeta$Treatmentgroup, function(x) mean(x)))",
      "2. stop(\"dim(X) must have a positive length\")"
     ]
    }
   ],
   "source": [
    "avg<- apply(nonzero_wMeta[,9:ncol(nonzero_wMeta)], 2, function(x) tapply(x, nonzero_wMeta$Treatmentgroup, function(x) mean(x))) \n",
    "\n",
    "dim(avg) \n",
    "\n",
    "avg[,1:2]\n",
    "\n",
    "fch <- apply(avg, 2, function(x) x[1]/x[2])\n",
    "\n",
    "head(fch) \n",
    "is(fch)"
   ]
  },
  {
   "cell_type": "code",
   "execution_count": 19,
   "metadata": {
    "scrolled": true
   },
   "outputs": [
    {
     "ename": "ERROR",
     "evalue": "Error in eval(expr, envir, enclos): object 'fch' not found\n",
     "output_type": "error",
     "traceback": [
      "Error in eval(expr, envir, enclos): object 'fch' not found\nTraceback:\n"
     ]
    }
   ],
   "source": [
    "fch"
   ]
  },
  {
   "cell_type": "code",
   "execution_count": 20,
   "metadata": {
    "scrolled": false
   },
   "outputs": [],
   "source": [
    "df <- data.frame(pval, pAdj)\n",
    "write.csv(df, \"CAR-time-RVT-wilcox-1B-3B.csv\")"
   ]
  },
  {
   "cell_type": "code",
   "execution_count": null,
   "metadata": {},
   "outputs": [],
   "source": []
  },
  {
   "cell_type": "code",
   "execution_count": null,
   "metadata": {},
   "outputs": [],
   "source": []
  },
  {
   "cell_type": "code",
   "execution_count": null,
   "metadata": {},
   "outputs": [],
   "source": []
  },
  {
   "cell_type": "code",
   "execution_count": null,
   "metadata": {},
   "outputs": [],
   "source": []
  },
  {
   "cell_type": "code",
   "execution_count": null,
   "metadata": {},
   "outputs": [],
   "source": []
  },
  {
   "cell_type": "code",
   "execution_count": null,
   "metadata": {},
   "outputs": [],
   "source": []
  }
 ],
 "metadata": {
  "kernelspec": {
   "display_name": "R",
   "language": "R",
   "name": "ir"
  },
  "language_info": {
   "codemirror_mode": "r",
   "file_extension": ".r",
   "mimetype": "text/x-r-source",
   "name": "R",
   "pygments_lexer": "r",
   "version": "3.6.1"
  }
 },
 "nbformat": 4,
 "nbformat_minor": 2
}
