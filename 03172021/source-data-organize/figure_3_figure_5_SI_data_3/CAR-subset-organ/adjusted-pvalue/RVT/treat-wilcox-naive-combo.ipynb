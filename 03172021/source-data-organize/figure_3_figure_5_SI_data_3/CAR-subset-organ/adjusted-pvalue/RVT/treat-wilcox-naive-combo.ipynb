{
 "cells": [
  {
   "cell_type": "code",
   "execution_count": 11,
   "metadata": {},
   "outputs": [],
   "source": [
    "a <- read.csv(\"03172021-CAR-treatment-RVT-M-F.csv\")"
   ]
  },
  {
   "cell_type": "code",
   "execution_count": 12,
   "metadata": {},
   "outputs": [
    {
     "data": {
      "text/html": [
       "<table>\n",
       "<thead><tr><th scope=col>filename</th><th scope=col>MouseID</th><th scope=col>Treatmentgroup</th><th scope=col>DPI</th><th scope=col>organ</th><th scope=col>well_position</th><th scope=col>plate</th><th scope=col>CAR_mid_chain</th><th scope=col>CAR_long_chain</th></tr></thead>\n",
       "<tbody>\n",
       "\t<tr><td>X511_Group1C_142dpi_RV_top_161_G_A1_P136.mzXML</td><td>511                                           </td><td>naive                                         </td><td>142                                           </td><td>RV_top                                        </td><td>A1                                            </td><td>P136                                          </td><td>0                                             </td><td>0                                             </td></tr>\n",
       "\t<tr><td>X512_Group1C_142dpi_RV_top_162_G_A2_P136.mzXML</td><td>512                                           </td><td>naive                                         </td><td>142                                           </td><td>RV_top                                        </td><td>A2                                            </td><td>P136                                          </td><td>0                                             </td><td>0                                             </td></tr>\n",
       "\t<tr><td>X513_Group1C_142dpi_RV_top_163_G_A3_P136.mzXML</td><td>513                                           </td><td>naive                                         </td><td>142                                           </td><td>RV_top                                        </td><td>A3                                            </td><td>P136                                          </td><td>0                                             </td><td>0                                             </td></tr>\n",
       "\t<tr><td>X514_Group1C_142dpi_RV_top_164_G_A4_P136.mzXML</td><td>514                                           </td><td>naive                                         </td><td>142                                           </td><td>RV_top                                        </td><td>A4                                            </td><td>P136                                          </td><td>0                                             </td><td>0                                             </td></tr>\n",
       "\t<tr><td>X515_Group1C_142dpi_RV_top_165_G_A5_P136.mzXML</td><td>515                                           </td><td>naive                                         </td><td>142                                           </td><td>RV_top                                        </td><td>A5                                            </td><td>P136                                          </td><td>0                                             </td><td>0                                             </td></tr>\n",
       "\t<tr><td>X531_Group1C_142dpi_RV_top_166_G_A6_P136.mzXML</td><td>531                                           </td><td>naive                                         </td><td>142                                           </td><td>RV_top                                        </td><td>A6                                            </td><td>P136                                          </td><td>0                                             </td><td>0                                             </td></tr>\n",
       "</tbody>\n",
       "</table>\n"
      ],
      "text/latex": [
       "\\begin{tabular}{r|lllllllll}\n",
       " filename & MouseID & Treatmentgroup & DPI & organ & well\\_position & plate & CAR\\_mid\\_chain & CAR\\_long\\_chain\\\\\n",
       "\\hline\n",
       "\t X511\\_Group1C\\_142dpi\\_RV\\_top\\_161\\_G\\_A1\\_P136.mzXML & 511                                                            & naive                                                          & 142                                                            & RV\\_top                                                       & A1                                                             & P136                                                           & 0                                                              & 0                                                             \\\\\n",
       "\t X512\\_Group1C\\_142dpi\\_RV\\_top\\_162\\_G\\_A2\\_P136.mzXML & 512                                                            & naive                                                          & 142                                                            & RV\\_top                                                       & A2                                                             & P136                                                           & 0                                                              & 0                                                             \\\\\n",
       "\t X513\\_Group1C\\_142dpi\\_RV\\_top\\_163\\_G\\_A3\\_P136.mzXML & 513                                                            & naive                                                          & 142                                                            & RV\\_top                                                       & A3                                                             & P136                                                           & 0                                                              & 0                                                             \\\\\n",
       "\t X514\\_Group1C\\_142dpi\\_RV\\_top\\_164\\_G\\_A4\\_P136.mzXML & 514                                                            & naive                                                          & 142                                                            & RV\\_top                                                       & A4                                                             & P136                                                           & 0                                                              & 0                                                             \\\\\n",
       "\t X515\\_Group1C\\_142dpi\\_RV\\_top\\_165\\_G\\_A5\\_P136.mzXML & 515                                                            & naive                                                          & 142                                                            & RV\\_top                                                       & A5                                                             & P136                                                           & 0                                                              & 0                                                             \\\\\n",
       "\t X531\\_Group1C\\_142dpi\\_RV\\_top\\_166\\_G\\_A6\\_P136.mzXML & 531                                                            & naive                                                          & 142                                                            & RV\\_top                                                       & A6                                                             & P136                                                           & 0                                                              & 0                                                             \\\\\n",
       "\\end{tabular}\n"
      ],
      "text/markdown": [
       "\n",
       "| filename | MouseID | Treatmentgroup | DPI | organ | well_position | plate | CAR_mid_chain | CAR_long_chain |\n",
       "|---|---|---|---|---|---|---|---|---|\n",
       "| X511_Group1C_142dpi_RV_top_161_G_A1_P136.mzXML | 511                                            | naive                                          | 142                                            | RV_top                                         | A1                                             | P136                                           | 0                                              | 0                                              |\n",
       "| X512_Group1C_142dpi_RV_top_162_G_A2_P136.mzXML | 512                                            | naive                                          | 142                                            | RV_top                                         | A2                                             | P136                                           | 0                                              | 0                                              |\n",
       "| X513_Group1C_142dpi_RV_top_163_G_A3_P136.mzXML | 513                                            | naive                                          | 142                                            | RV_top                                         | A3                                             | P136                                           | 0                                              | 0                                              |\n",
       "| X514_Group1C_142dpi_RV_top_164_G_A4_P136.mzXML | 514                                            | naive                                          | 142                                            | RV_top                                         | A4                                             | P136                                           | 0                                              | 0                                              |\n",
       "| X515_Group1C_142dpi_RV_top_165_G_A5_P136.mzXML | 515                                            | naive                                          | 142                                            | RV_top                                         | A5                                             | P136                                           | 0                                              | 0                                              |\n",
       "| X531_Group1C_142dpi_RV_top_166_G_A6_P136.mzXML | 531                                            | naive                                          | 142                                            | RV_top                                         | A6                                             | P136                                           | 0                                              | 0                                              |\n",
       "\n"
      ],
      "text/plain": [
       "  filename                                       MouseID Treatmentgroup DPI\n",
       "1 X511_Group1C_142dpi_RV_top_161_G_A1_P136.mzXML 511     naive          142\n",
       "2 X512_Group1C_142dpi_RV_top_162_G_A2_P136.mzXML 512     naive          142\n",
       "3 X513_Group1C_142dpi_RV_top_163_G_A3_P136.mzXML 513     naive          142\n",
       "4 X514_Group1C_142dpi_RV_top_164_G_A4_P136.mzXML 514     naive          142\n",
       "5 X515_Group1C_142dpi_RV_top_165_G_A5_P136.mzXML 515     naive          142\n",
       "6 X531_Group1C_142dpi_RV_top_166_G_A6_P136.mzXML 531     naive          142\n",
       "  organ  well_position plate CAR_mid_chain CAR_long_chain\n",
       "1 RV_top A1            P136  0             0             \n",
       "2 RV_top A2            P136  0             0             \n",
       "3 RV_top A3            P136  0             0             \n",
       "4 RV_top A4            P136  0             0             \n",
       "5 RV_top A5            P136  0             0             \n",
       "6 RV_top A6            P136  0             0             "
      ]
     },
     "metadata": {},
     "output_type": "display_data"
    },
    {
     "data": {
      "text/html": [
       "<ol class=list-inline>\n",
       "\t<li>60</li>\n",
       "\t<li>9</li>\n",
       "</ol>\n"
      ],
      "text/latex": [
       "\\begin{enumerate*}\n",
       "\\item 60\n",
       "\\item 9\n",
       "\\end{enumerate*}\n"
      ],
      "text/markdown": [
       "1. 60\n",
       "2. 9\n",
       "\n",
       "\n"
      ],
      "text/plain": [
       "[1] 60  9"
      ]
     },
     "metadata": {},
     "output_type": "display_data"
    }
   ],
   "source": [
    "head(a)\n",
    "dim(a)"
   ]
  },
  {
   "cell_type": "code",
   "execution_count": 13,
   "metadata": {},
   "outputs": [
    {
     "data": {
      "text/html": [
       "<table>\n",
       "<thead><tr><th scope=col>filename</th><th scope=col>MouseID</th><th scope=col>Treatmentgroup</th><th scope=col>DPI</th><th scope=col>organ</th><th scope=col>well_position</th><th scope=col>plate</th><th scope=col>CAR_mid_chain</th><th scope=col>CAR_long_chain</th></tr></thead>\n",
       "<tbody>\n",
       "\t<tr><td>X511_Group1C_142dpi_RV_top_161_G_A1_P136.mzXML</td><td>511                                           </td><td>naive                                         </td><td>142                                           </td><td>RV_top                                        </td><td>A1                                            </td><td>P136                                          </td><td>0                                             </td><td>0                                             </td></tr>\n",
       "\t<tr><td>X512_Group1C_142dpi_RV_top_162_G_A2_P136.mzXML</td><td>512                                           </td><td>naive                                         </td><td>142                                           </td><td>RV_top                                        </td><td>A2                                            </td><td>P136                                          </td><td>0                                             </td><td>0                                             </td></tr>\n",
       "\t<tr><td>X513_Group1C_142dpi_RV_top_163_G_A3_P136.mzXML</td><td>513                                           </td><td>naive                                         </td><td>142                                           </td><td>RV_top                                        </td><td>A3                                            </td><td>P136                                          </td><td>0                                             </td><td>0                                             </td></tr>\n",
       "\t<tr><td>X514_Group1C_142dpi_RV_top_164_G_A4_P136.mzXML</td><td>514                                           </td><td>naive                                         </td><td>142                                           </td><td>RV_top                                        </td><td>A4                                            </td><td>P136                                          </td><td>0                                             </td><td>0                                             </td></tr>\n",
       "\t<tr><td>X515_Group1C_142dpi_RV_top_165_G_A5_P136.mzXML</td><td>515                                           </td><td>naive                                         </td><td>142                                           </td><td>RV_top                                        </td><td>A5                                            </td><td>P136                                          </td><td>0                                             </td><td>0                                             </td></tr>\n",
       "\t<tr><td>X531_Group1C_142dpi_RV_top_166_G_A6_P136.mzXML</td><td>531                                           </td><td>naive                                         </td><td>142                                           </td><td>RV_top                                        </td><td>A6                                            </td><td>P136                                          </td><td>0                                             </td><td>0                                             </td></tr>\n",
       "</tbody>\n",
       "</table>\n"
      ],
      "text/latex": [
       "\\begin{tabular}{r|lllllllll}\n",
       " filename & MouseID & Treatmentgroup & DPI & organ & well\\_position & plate & CAR\\_mid\\_chain & CAR\\_long\\_chain\\\\\n",
       "\\hline\n",
       "\t X511\\_Group1C\\_142dpi\\_RV\\_top\\_161\\_G\\_A1\\_P136.mzXML & 511                                                            & naive                                                          & 142                                                            & RV\\_top                                                       & A1                                                             & P136                                                           & 0                                                              & 0                                                             \\\\\n",
       "\t X512\\_Group1C\\_142dpi\\_RV\\_top\\_162\\_G\\_A2\\_P136.mzXML & 512                                                            & naive                                                          & 142                                                            & RV\\_top                                                       & A2                                                             & P136                                                           & 0                                                              & 0                                                             \\\\\n",
       "\t X513\\_Group1C\\_142dpi\\_RV\\_top\\_163\\_G\\_A3\\_P136.mzXML & 513                                                            & naive                                                          & 142                                                            & RV\\_top                                                       & A3                                                             & P136                                                           & 0                                                              & 0                                                             \\\\\n",
       "\t X514\\_Group1C\\_142dpi\\_RV\\_top\\_164\\_G\\_A4\\_P136.mzXML & 514                                                            & naive                                                          & 142                                                            & RV\\_top                                                       & A4                                                             & P136                                                           & 0                                                              & 0                                                             \\\\\n",
       "\t X515\\_Group1C\\_142dpi\\_RV\\_top\\_165\\_G\\_A5\\_P136.mzXML & 515                                                            & naive                                                          & 142                                                            & RV\\_top                                                       & A5                                                             & P136                                                           & 0                                                              & 0                                                             \\\\\n",
       "\t X531\\_Group1C\\_142dpi\\_RV\\_top\\_166\\_G\\_A6\\_P136.mzXML & 531                                                            & naive                                                          & 142                                                            & RV\\_top                                                       & A6                                                             & P136                                                           & 0                                                              & 0                                                             \\\\\n",
       "\\end{tabular}\n"
      ],
      "text/markdown": [
       "\n",
       "| filename | MouseID | Treatmentgroup | DPI | organ | well_position | plate | CAR_mid_chain | CAR_long_chain |\n",
       "|---|---|---|---|---|---|---|---|---|\n",
       "| X511_Group1C_142dpi_RV_top_161_G_A1_P136.mzXML | 511                                            | naive                                          | 142                                            | RV_top                                         | A1                                             | P136                                           | 0                                              | 0                                              |\n",
       "| X512_Group1C_142dpi_RV_top_162_G_A2_P136.mzXML | 512                                            | naive                                          | 142                                            | RV_top                                         | A2                                             | P136                                           | 0                                              | 0                                              |\n",
       "| X513_Group1C_142dpi_RV_top_163_G_A3_P136.mzXML | 513                                            | naive                                          | 142                                            | RV_top                                         | A3                                             | P136                                           | 0                                              | 0                                              |\n",
       "| X514_Group1C_142dpi_RV_top_164_G_A4_P136.mzXML | 514                                            | naive                                          | 142                                            | RV_top                                         | A4                                             | P136                                           | 0                                              | 0                                              |\n",
       "| X515_Group1C_142dpi_RV_top_165_G_A5_P136.mzXML | 515                                            | naive                                          | 142                                            | RV_top                                         | A5                                             | P136                                           | 0                                              | 0                                              |\n",
       "| X531_Group1C_142dpi_RV_top_166_G_A6_P136.mzXML | 531                                            | naive                                          | 142                                            | RV_top                                         | A6                                             | P136                                           | 0                                              | 0                                              |\n",
       "\n"
      ],
      "text/plain": [
       "  filename                                       MouseID Treatmentgroup DPI\n",
       "1 X511_Group1C_142dpi_RV_top_161_G_A1_P136.mzXML 511     naive          142\n",
       "2 X512_Group1C_142dpi_RV_top_162_G_A2_P136.mzXML 512     naive          142\n",
       "3 X513_Group1C_142dpi_RV_top_163_G_A3_P136.mzXML 513     naive          142\n",
       "4 X514_Group1C_142dpi_RV_top_164_G_A4_P136.mzXML 514     naive          142\n",
       "5 X515_Group1C_142dpi_RV_top_165_G_A5_P136.mzXML 515     naive          142\n",
       "6 X531_Group1C_142dpi_RV_top_166_G_A6_P136.mzXML 531     naive          142\n",
       "  organ  well_position plate CAR_mid_chain CAR_long_chain\n",
       "1 RV_top A1            P136  0             0             \n",
       "2 RV_top A2            P136  0             0             \n",
       "3 RV_top A3            P136  0             0             \n",
       "4 RV_top A4            P136  0             0             \n",
       "5 RV_top A5            P136  0             0             \n",
       "6 RV_top A6            P136  0             0             "
      ]
     },
     "metadata": {},
     "output_type": "display_data"
    },
    {
     "data": {
      "text/html": [
       "<ol class=list-inline>\n",
       "\t<li>30</li>\n",
       "\t<li>9</li>\n",
       "</ol>\n"
      ],
      "text/latex": [
       "\\begin{enumerate*}\n",
       "\\item 30\n",
       "\\item 9\n",
       "\\end{enumerate*}\n"
      ],
      "text/markdown": [
       "1. 30\n",
       "2. 9\n",
       "\n",
       "\n"
      ],
      "text/plain": [
       "[1] 30  9"
      ]
     },
     "metadata": {},
     "output_type": "display_data"
    }
   ],
   "source": [
    "features_pos<-droplevels(subset(a, a$Treatmentgroup==c(\"naive\")|a$Treatmentgroup==c(\"combo\")))\n",
    "head(features_pos)\n",
    "dim(features_pos)"
   ]
  },
  {
   "cell_type": "code",
   "execution_count": 14,
   "metadata": {
    "scrolled": false
   },
   "outputs": [
    {
     "data": {
      "text/html": [
       "<table>\n",
       "<thead><tr><th scope=col>CAR_mid_chain</th><th scope=col>CAR_long_chain</th></tr></thead>\n",
       "<tbody>\n",
       "\t<tr><td>0</td><td>0</td></tr>\n",
       "\t<tr><td>0</td><td>0</td></tr>\n",
       "\t<tr><td>0</td><td>0</td></tr>\n",
       "\t<tr><td>0</td><td>0</td></tr>\n",
       "\t<tr><td>0</td><td>0</td></tr>\n",
       "\t<tr><td>0</td><td>0</td></tr>\n",
       "</tbody>\n",
       "</table>\n"
      ],
      "text/latex": [
       "\\begin{tabular}{r|ll}\n",
       " CAR\\_mid\\_chain & CAR\\_long\\_chain\\\\\n",
       "\\hline\n",
       "\t 0 & 0\\\\\n",
       "\t 0 & 0\\\\\n",
       "\t 0 & 0\\\\\n",
       "\t 0 & 0\\\\\n",
       "\t 0 & 0\\\\\n",
       "\t 0 & 0\\\\\n",
       "\\end{tabular}\n"
      ],
      "text/markdown": [
       "\n",
       "| CAR_mid_chain | CAR_long_chain |\n",
       "|---|---|\n",
       "| 0 | 0 |\n",
       "| 0 | 0 |\n",
       "| 0 | 0 |\n",
       "| 0 | 0 |\n",
       "| 0 | 0 |\n",
       "| 0 | 0 |\n",
       "\n"
      ],
      "text/plain": [
       "  CAR_mid_chain CAR_long_chain\n",
       "1 0             0             \n",
       "2 0             0             \n",
       "3 0             0             \n",
       "4 0             0             \n",
       "5 0             0             \n",
       "6 0             0             "
      ]
     },
     "metadata": {},
     "output_type": "display_data"
    },
    {
     "data": {
      "text/html": [
       "<strong>CAR_long_chain:</strong> 2"
      ],
      "text/latex": [
       "\\textbf{CAR\\textbackslash{}\\_long\\textbackslash{}\\_chain:} 2"
      ],
      "text/markdown": [
       "**CAR_long_chain:** 2"
      ],
      "text/plain": [
       "CAR_long_chain \n",
       "             2 "
      ]
     },
     "metadata": {},
     "output_type": "display_data"
    },
    {
     "data": {
      "text/html": [
       "<ol class=list-inline>\n",
       "\t<li>0</li>\n",
       "\t<li>0</li>\n",
       "\t<li>0</li>\n",
       "\t<li>0</li>\n",
       "\t<li>0</li>\n",
       "\t<li>0</li>\n",
       "\t<li>0</li>\n",
       "\t<li>0</li>\n",
       "\t<li>0</li>\n",
       "\t<li>0</li>\n",
       "\t<li>0</li>\n",
       "\t<li>4.8e-05</li>\n",
       "\t<li>0.0001049</li>\n",
       "\t<li>0</li>\n",
       "\t<li>0</li>\n",
       "\t<li>0.000523323</li>\n",
       "\t<li>0.000465131</li>\n",
       "\t<li>0.000217049</li>\n",
       "\t<li>0.001175458</li>\n",
       "\t<li>6.88e-05</li>\n",
       "\t<li>5.93e-05</li>\n",
       "\t<li>0.0001075</li>\n",
       "\t<li>0.000160169</li>\n",
       "\t<li>0.000215561</li>\n",
       "\t<li>0.005205618</li>\n",
       "\t<li>0.000574648</li>\n",
       "\t<li>6.43e-05</li>\n",
       "\t<li>0.0001055</li>\n",
       "\t<li>0.000364345</li>\n",
       "\t<li>0.000519554</li>\n",
       "</ol>\n"
      ],
      "text/latex": [
       "\\begin{enumerate*}\n",
       "\\item 0\n",
       "\\item 0\n",
       "\\item 0\n",
       "\\item 0\n",
       "\\item 0\n",
       "\\item 0\n",
       "\\item 0\n",
       "\\item 0\n",
       "\\item 0\n",
       "\\item 0\n",
       "\\item 0\n",
       "\\item 4.8e-05\n",
       "\\item 0.0001049\n",
       "\\item 0\n",
       "\\item 0\n",
       "\\item 0.000523323\n",
       "\\item 0.000465131\n",
       "\\item 0.000217049\n",
       "\\item 0.001175458\n",
       "\\item 6.88e-05\n",
       "\\item 5.93e-05\n",
       "\\item 0.0001075\n",
       "\\item 0.000160169\n",
       "\\item 0.000215561\n",
       "\\item 0.005205618\n",
       "\\item 0.000574648\n",
       "\\item 6.43e-05\n",
       "\\item 0.0001055\n",
       "\\item 0.000364345\n",
       "\\item 0.000519554\n",
       "\\end{enumerate*}\n"
      ],
      "text/markdown": [
       "1. 0\n",
       "2. 0\n",
       "3. 0\n",
       "4. 0\n",
       "5. 0\n",
       "6. 0\n",
       "7. 0\n",
       "8. 0\n",
       "9. 0\n",
       "10. 0\n",
       "11. 0\n",
       "12. 4.8e-05\n",
       "13. 0.0001049\n",
       "14. 0\n",
       "15. 0\n",
       "16. 0.000523323\n",
       "17. 0.000465131\n",
       "18. 0.000217049\n",
       "19. 0.001175458\n",
       "20. 6.88e-05\n",
       "21. 5.93e-05\n",
       "22. 0.0001075\n",
       "23. 0.000160169\n",
       "24. 0.000215561\n",
       "25. 0.005205618\n",
       "26. 0.000574648\n",
       "27. 6.43e-05\n",
       "28. 0.0001055\n",
       "29. 0.000364345\n",
       "30. 0.000519554\n",
       "\n",
       "\n"
      ],
      "text/plain": [
       " [1] 0.000000000 0.000000000 0.000000000 0.000000000 0.000000000 0.000000000\n",
       " [7] 0.000000000 0.000000000 0.000000000 0.000000000 0.000000000 0.000048000\n",
       "[13] 0.000104900 0.000000000 0.000000000 0.000523323 0.000465131 0.000217049\n",
       "[19] 0.001175458 0.000068800 0.000059300 0.000107500 0.000160169 0.000215561\n",
       "[25] 0.005205618 0.000574648 0.000064300 0.000105500 0.000364345 0.000519554"
      ]
     },
     "metadata": {},
     "output_type": "display_data"
    },
    {
     "data": {
      "text/html": [
       "<table>\n",
       "<thead><tr><th scope=col>filename</th><th scope=col>MouseID</th><th scope=col>Treatmentgroup</th><th scope=col>DPI</th><th scope=col>organ</th><th scope=col>well_position</th><th scope=col>plate</th><th scope=col>nonzero</th></tr></thead>\n",
       "<tbody>\n",
       "\t<tr><td>X511_Group1C_142dpi_RV_top_161_G_A1_P136.mzXML</td><td>511                                           </td><td>naive                                         </td><td>142                                           </td><td>RV_top                                        </td><td>A1                                            </td><td>P136                                          </td><td>0                                             </td></tr>\n",
       "\t<tr><td>X512_Group1C_142dpi_RV_top_162_G_A2_P136.mzXML</td><td>512                                           </td><td>naive                                         </td><td>142                                           </td><td>RV_top                                        </td><td>A2                                            </td><td>P136                                          </td><td>0                                             </td></tr>\n",
       "\t<tr><td>X513_Group1C_142dpi_RV_top_163_G_A3_P136.mzXML</td><td>513                                           </td><td>naive                                         </td><td>142                                           </td><td>RV_top                                        </td><td>A3                                            </td><td>P136                                          </td><td>0                                             </td></tr>\n",
       "\t<tr><td>X514_Group1C_142dpi_RV_top_164_G_A4_P136.mzXML</td><td>514                                           </td><td>naive                                         </td><td>142                                           </td><td>RV_top                                        </td><td>A4                                            </td><td>P136                                          </td><td>0                                             </td></tr>\n",
       "\t<tr><td>X515_Group1C_142dpi_RV_top_165_G_A5_P136.mzXML</td><td>515                                           </td><td>naive                                         </td><td>142                                           </td><td>RV_top                                        </td><td>A5                                            </td><td>P136                                          </td><td>0                                             </td></tr>\n",
       "\t<tr><td>X531_Group1C_142dpi_RV_top_166_G_A6_P136.mzXML</td><td>531                                           </td><td>naive                                         </td><td>142                                           </td><td>RV_top                                        </td><td>A6                                            </td><td>P136                                          </td><td>0                                             </td></tr>\n",
       "</tbody>\n",
       "</table>\n"
      ],
      "text/latex": [
       "\\begin{tabular}{r|llllllll}\n",
       " filename & MouseID & Treatmentgroup & DPI & organ & well\\_position & plate & nonzero\\\\\n",
       "\\hline\n",
       "\t X511\\_Group1C\\_142dpi\\_RV\\_top\\_161\\_G\\_A1\\_P136.mzXML & 511                                                            & naive                                                          & 142                                                            & RV\\_top                                                       & A1                                                             & P136                                                           & 0                                                             \\\\\n",
       "\t X512\\_Group1C\\_142dpi\\_RV\\_top\\_162\\_G\\_A2\\_P136.mzXML & 512                                                            & naive                                                          & 142                                                            & RV\\_top                                                       & A2                                                             & P136                                                           & 0                                                             \\\\\n",
       "\t X513\\_Group1C\\_142dpi\\_RV\\_top\\_163\\_G\\_A3\\_P136.mzXML & 513                                                            & naive                                                          & 142                                                            & RV\\_top                                                       & A3                                                             & P136                                                           & 0                                                             \\\\\n",
       "\t X514\\_Group1C\\_142dpi\\_RV\\_top\\_164\\_G\\_A4\\_P136.mzXML & 514                                                            & naive                                                          & 142                                                            & RV\\_top                                                       & A4                                                             & P136                                                           & 0                                                             \\\\\n",
       "\t X515\\_Group1C\\_142dpi\\_RV\\_top\\_165\\_G\\_A5\\_P136.mzXML & 515                                                            & naive                                                          & 142                                                            & RV\\_top                                                       & A5                                                             & P136                                                           & 0                                                             \\\\\n",
       "\t X531\\_Group1C\\_142dpi\\_RV\\_top\\_166\\_G\\_A6\\_P136.mzXML & 531                                                            & naive                                                          & 142                                                            & RV\\_top                                                       & A6                                                             & P136                                                           & 0                                                             \\\\\n",
       "\\end{tabular}\n"
      ],
      "text/markdown": [
       "\n",
       "| filename | MouseID | Treatmentgroup | DPI | organ | well_position | plate | nonzero |\n",
       "|---|---|---|---|---|---|---|---|\n",
       "| X511_Group1C_142dpi_RV_top_161_G_A1_P136.mzXML | 511                                            | naive                                          | 142                                            | RV_top                                         | A1                                             | P136                                           | 0                                              |\n",
       "| X512_Group1C_142dpi_RV_top_162_G_A2_P136.mzXML | 512                                            | naive                                          | 142                                            | RV_top                                         | A2                                             | P136                                           | 0                                              |\n",
       "| X513_Group1C_142dpi_RV_top_163_G_A3_P136.mzXML | 513                                            | naive                                          | 142                                            | RV_top                                         | A3                                             | P136                                           | 0                                              |\n",
       "| X514_Group1C_142dpi_RV_top_164_G_A4_P136.mzXML | 514                                            | naive                                          | 142                                            | RV_top                                         | A4                                             | P136                                           | 0                                              |\n",
       "| X515_Group1C_142dpi_RV_top_165_G_A5_P136.mzXML | 515                                            | naive                                          | 142                                            | RV_top                                         | A5                                             | P136                                           | 0                                              |\n",
       "| X531_Group1C_142dpi_RV_top_166_G_A6_P136.mzXML | 531                                            | naive                                          | 142                                            | RV_top                                         | A6                                             | P136                                           | 0                                              |\n",
       "\n"
      ],
      "text/plain": [
       "  filename                                       MouseID Treatmentgroup DPI\n",
       "1 X511_Group1C_142dpi_RV_top_161_G_A1_P136.mzXML 511     naive          142\n",
       "2 X512_Group1C_142dpi_RV_top_162_G_A2_P136.mzXML 512     naive          142\n",
       "3 X513_Group1C_142dpi_RV_top_163_G_A3_P136.mzXML 513     naive          142\n",
       "4 X514_Group1C_142dpi_RV_top_164_G_A4_P136.mzXML 514     naive          142\n",
       "5 X515_Group1C_142dpi_RV_top_165_G_A5_P136.mzXML 515     naive          142\n",
       "6 X531_Group1C_142dpi_RV_top_166_G_A6_P136.mzXML 531     naive          142\n",
       "  organ  well_position plate nonzero\n",
       "1 RV_top A1            P136  0      \n",
       "2 RV_top A2            P136  0      \n",
       "3 RV_top A3            P136  0      \n",
       "4 RV_top A4            P136  0      \n",
       "5 RV_top A5            P136  0      \n",
       "6 RV_top A6            P136  0      "
      ]
     },
     "metadata": {},
     "output_type": "display_data"
    },
    {
     "data": {
      "text/html": [
       "<ol class=list-inline>\n",
       "\t<li>30</li>\n",
       "\t<li>9</li>\n",
       "</ol>\n"
      ],
      "text/latex": [
       "\\begin{enumerate*}\n",
       "\\item 30\n",
       "\\item 9\n",
       "\\end{enumerate*}\n"
      ],
      "text/markdown": [
       "1. 30\n",
       "2. 9\n",
       "\n",
       "\n"
      ],
      "text/plain": [
       "[1] 30  9"
      ]
     },
     "metadata": {},
     "output_type": "display_data"
    },
    {
     "data": {
      "text/html": [
       "<ol class=list-inline>\n",
       "\t<li>30</li>\n",
       "\t<li>2</li>\n",
       "</ol>\n"
      ],
      "text/latex": [
       "\\begin{enumerate*}\n",
       "\\item 30\n",
       "\\item 2\n",
       "\\end{enumerate*}\n"
      ],
      "text/markdown": [
       "1. 30\n",
       "2. 2\n",
       "\n",
       "\n"
      ],
      "text/plain": [
       "[1] 30  2"
      ]
     },
     "metadata": {},
     "output_type": "display_data"
    },
    {
     "data": {
      "text/plain": [
       "NULL"
      ]
     },
     "metadata": {},
     "output_type": "display_data"
    },
    {
     "data": {
      "text/html": [
       "<ol class=list-inline>\n",
       "\t<li>30</li>\n",
       "\t<li>8</li>\n",
       "</ol>\n"
      ],
      "text/latex": [
       "\\begin{enumerate*}\n",
       "\\item 30\n",
       "\\item 8\n",
       "\\end{enumerate*}\n"
      ],
      "text/markdown": [
       "1. 30\n",
       "2. 8\n",
       "\n",
       "\n"
      ],
      "text/plain": [
       "[1] 30  8"
      ]
     },
     "metadata": {},
     "output_type": "display_data"
    }
   ],
   "source": [
    "noMeta<-features_pos[,8:9] \n",
    "head(noMeta)\n",
    "not_zero<-which(colSums(noMeta) != 0)\n",
    "head(not_zero)\n",
    "nonzero <- noMeta[, not_zero] \n",
    "nonzero\n",
    "nonzero_wMeta<-cbind(features_pos[,1:7], nonzero)\n",
    "head(nonzero_wMeta)\n",
    "dim(features_pos)\n",
    "dim(noMeta)\n",
    "dim(nonzero)\n",
    "dim(nonzero_wMeta)"
   ]
  },
  {
   "cell_type": "code",
   "execution_count": 15,
   "metadata": {
    "scrolled": true
   },
   "outputs": [
    {
     "name": "stderr",
     "output_type": "stream",
     "text": [
      "Warning message in wilcox.test.default(x = c(0.000523323, 0.000465131, 0.000217049, :\n",
      "\"cannot compute exact p-value with ties\""
     ]
    },
    {
     "data": {
      "text/html": [
       "2.40417796221792e-06"
      ],
      "text/latex": [
       "2.40417796221792e-06"
      ],
      "text/markdown": [
       "2.40417796221792e-06"
      ],
      "text/plain": [
       "[1] 2.404178e-06"
      ]
     },
     "metadata": {},
     "output_type": "display_data"
    },
    {
     "data": {
      "text/html": [
       "2.40417796221792e-06"
      ],
      "text/latex": [
       "2.40417796221792e-06"
      ],
      "text/markdown": [
       "2.40417796221792e-06"
      ],
      "text/plain": [
       "[1] 2.404178e-06"
      ]
     },
     "metadata": {},
     "output_type": "display_data"
    }
   ],
   "source": [
    "pval<-c()\n",
    "\n",
    "for (i in 8:ncol(nonzero_wMeta)) \n",
    "pval<-c(pval,wilcox.test(nonzero_wMeta[,i]~nonzero_wMeta$Treatmentgroup)$p.value)\n",
    "head(pval)\n",
    "pAdj <- p.adjust(pval, method = c(\"fdr\"), n=length(pval)) \n",
    "head(pAdj) \n",
    "\n"
   ]
  },
  {
   "cell_type": "code",
   "execution_count": 16,
   "metadata": {
    "scrolled": true
   },
   "outputs": [
    {
     "data": {
      "text/html": [
       "1"
      ],
      "text/latex": [
       "1"
      ],
      "text/markdown": [
       "1"
      ],
      "text/plain": [
       "[1] 1"
      ]
     },
     "metadata": {},
     "output_type": "display_data"
    }
   ],
   "source": [
    "length(pval)"
   ]
  },
  {
   "cell_type": "code",
   "execution_count": 17,
   "metadata": {
    "scrolled": true
   },
   "outputs": [
    {
     "data": {
      "text/html": [
       "1"
      ],
      "text/latex": [
       "1"
      ],
      "text/markdown": [
       "1"
      ],
      "text/plain": [
       "[1] 1"
      ]
     },
     "metadata": {},
     "output_type": "display_data"
    }
   ],
   "source": [
    "length(pAdj)"
   ]
  },
  {
   "cell_type": "code",
   "execution_count": 18,
   "metadata": {},
   "outputs": [
    {
     "ename": "ERROR",
     "evalue": "Error in apply(nonzero_wMeta[, 8:ncol(nonzero_wMeta)], 2, function(x) tapply(x, : dim(X) must have a positive length\n",
     "output_type": "error",
     "traceback": [
      "Error in apply(nonzero_wMeta[, 8:ncol(nonzero_wMeta)], 2, function(x) tapply(x, : dim(X) must have a positive length\nTraceback:\n",
      "1. apply(nonzero_wMeta[, 8:ncol(nonzero_wMeta)], 2, function(x) tapply(x, \n .     nonzero_wMeta$Treatmentgroup, function(x) mean(x)))",
      "2. stop(\"dim(X) must have a positive length\")"
     ]
    }
   ],
   "source": [
    "avg<- apply(nonzero_wMeta[,8:ncol(nonzero_wMeta)], 2, function(x) tapply(x, nonzero_wMeta$Treatmentgroup, function(x) mean(x))) \n",
    "\n",
    "dim(avg) \n",
    "\n",
    "avg[,1:2]\n",
    "\n",
    "fch <- apply(avg, 2, function(x) x[1]/x[2])\n",
    "\n",
    "head(fch)\n",
    "is(fch)"
   ]
  },
  {
   "cell_type": "code",
   "execution_count": 19,
   "metadata": {
    "scrolled": true
   },
   "outputs": [
    {
     "ename": "ERROR",
     "evalue": "Error in eval(expr, envir, enclos): object 'fch' not found\n",
     "output_type": "error",
     "traceback": [
      "Error in eval(expr, envir, enclos): object 'fch' not found\nTraceback:\n"
     ]
    }
   ],
   "source": [
    "fch"
   ]
  },
  {
   "cell_type": "code",
   "execution_count": 20,
   "metadata": {
    "scrolled": false
   },
   "outputs": [],
   "source": [
    "df <- data.frame(pval, pAdj)\n",
    "write.csv(df, \"CAR-treat-RVT-wilcox-naive-combo.csv\")"
   ]
  },
  {
   "cell_type": "code",
   "execution_count": null,
   "metadata": {},
   "outputs": [],
   "source": []
  },
  {
   "cell_type": "code",
   "execution_count": null,
   "metadata": {},
   "outputs": [],
   "source": []
  },
  {
   "cell_type": "code",
   "execution_count": null,
   "metadata": {},
   "outputs": [],
   "source": []
  },
  {
   "cell_type": "code",
   "execution_count": null,
   "metadata": {},
   "outputs": [],
   "source": []
  },
  {
   "cell_type": "code",
   "execution_count": null,
   "metadata": {},
   "outputs": [],
   "source": []
  },
  {
   "cell_type": "code",
   "execution_count": null,
   "metadata": {},
   "outputs": [],
   "source": []
  }
 ],
 "metadata": {
  "kernelspec": {
   "display_name": "R",
   "language": "R",
   "name": "ir"
  },
  "language_info": {
   "codemirror_mode": "r",
   "file_extension": ".r",
   "mimetype": "text/x-r-source",
   "name": "R",
   "pygments_lexer": "r",
   "version": "3.6.1"
  }
 },
 "nbformat": 4,
 "nbformat_minor": 2
}
