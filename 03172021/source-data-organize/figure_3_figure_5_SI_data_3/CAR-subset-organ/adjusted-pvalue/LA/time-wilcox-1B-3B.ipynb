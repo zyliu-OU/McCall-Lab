{
 "cells": [
  {
   "cell_type": "code",
   "execution_count": 1,
   "metadata": {},
   "outputs": [],
   "source": [
    "a <- read.csv(\"03172021-CAR-time-LA-M-F.csv\")"
   ]
  },
  {
   "cell_type": "code",
   "execution_count": 2,
   "metadata": {},
   "outputs": [
    {
     "data": {
      "text/html": [
       "<table>\n",
       "<thead><tr><th scope=col>filename</th><th scope=col>MouseID</th><th scope=col>Treatmentgroup</th><th scope=col>status</th><th scope=col>DPI</th><th scope=col>organ</th><th scope=col>well_position</th><th scope=col>plate</th><th scope=col>CAR_mid_chain</th><th scope=col>CAR_long_chain</th></tr></thead>\n",
       "<tbody>\n",
       "\t<tr><td>X501_Group1A_50dpi_LA_251_B_A1_P121.mzXML</td><td>501                                      </td><td>Group1A                                  </td><td>naive                                    </td><td>DPI_50                                   </td><td>LA                                       </td><td>A1                                       </td><td>P121                                     </td><td>0.00e+00                                 </td><td>0.000569214                              </td></tr>\n",
       "\t<tr><td>X502_Group1A_50dpi_LA_252_B_A2_P121.mzXML</td><td>502                                      </td><td>Group1A                                  </td><td>naive                                    </td><td>DPI_50                                   </td><td>LA                                       </td><td>A2                                       </td><td>P121                                     </td><td>3.66e-05                                 </td><td>0.004412355                              </td></tr>\n",
       "\t<tr><td>X503_Group1A_50dpi_LA_253_B_A3_P121.mzXML</td><td>503                                      </td><td>Group1A                                  </td><td>naive                                    </td><td>DPI_50                                   </td><td>LA                                       </td><td>A3                                       </td><td>P121                                     </td><td>6.04e-05                                 </td><td>0.010824450                              </td></tr>\n",
       "\t<tr><td>X504_Group1A_50dpi_LA_254_B_A4_P121.mzXML</td><td>504                                      </td><td>Group1A                                  </td><td>naive                                    </td><td>DPI_50                                   </td><td>LA                                       </td><td>A4                                       </td><td>P121                                     </td><td>1.71e-05                                 </td><td>0.004532281                              </td></tr>\n",
       "\t<tr><td>X505_Group1A_50dpi_LA_255_B_A5_P121.mzXML</td><td>505                                      </td><td>Group1A                                  </td><td>naive                                    </td><td>DPI_50                                   </td><td>LA                                       </td><td>A5                                       </td><td>P121                                     </td><td>5.10e-05                                 </td><td>0.006736306                              </td></tr>\n",
       "\t<tr><td>X521_Group1A_50dpi_LA_256_B_A6_P121.mzXML</td><td>521                                      </td><td>Group1A                                  </td><td>naive                                    </td><td>DPI_50                                   </td><td>LA                                       </td><td>A6                                       </td><td>P121                                     </td><td>4.29e-05                                 </td><td>0.009858084                              </td></tr>\n",
       "</tbody>\n",
       "</table>\n"
      ],
      "text/latex": [
       "\\begin{tabular}{r|llllllllll}\n",
       " filename & MouseID & Treatmentgroup & status & DPI & organ & well\\_position & plate & CAR\\_mid\\_chain & CAR\\_long\\_chain\\\\\n",
       "\\hline\n",
       "\t X501\\_Group1A\\_50dpi\\_LA\\_251\\_B\\_A1\\_P121.mzXML & 501                                                     & Group1A                                                 & naive                                                   & DPI\\_50                                                & LA                                                      & A1                                                      & P121                                                    & 0.00e+00                                                & 0.000569214                                            \\\\\n",
       "\t X502\\_Group1A\\_50dpi\\_LA\\_252\\_B\\_A2\\_P121.mzXML & 502                                                     & Group1A                                                 & naive                                                   & DPI\\_50                                                & LA                                                      & A2                                                      & P121                                                    & 3.66e-05                                                & 0.004412355                                            \\\\\n",
       "\t X503\\_Group1A\\_50dpi\\_LA\\_253\\_B\\_A3\\_P121.mzXML & 503                                                     & Group1A                                                 & naive                                                   & DPI\\_50                                                & LA                                                      & A3                                                      & P121                                                    & 6.04e-05                                                & 0.010824450                                            \\\\\n",
       "\t X504\\_Group1A\\_50dpi\\_LA\\_254\\_B\\_A4\\_P121.mzXML & 504                                                     & Group1A                                                 & naive                                                   & DPI\\_50                                                & LA                                                      & A4                                                      & P121                                                    & 1.71e-05                                                & 0.004532281                                            \\\\\n",
       "\t X505\\_Group1A\\_50dpi\\_LA\\_255\\_B\\_A5\\_P121.mzXML & 505                                                     & Group1A                                                 & naive                                                   & DPI\\_50                                                & LA                                                      & A5                                                      & P121                                                    & 5.10e-05                                                & 0.006736306                                            \\\\\n",
       "\t X521\\_Group1A\\_50dpi\\_LA\\_256\\_B\\_A6\\_P121.mzXML & 521                                                     & Group1A                                                 & naive                                                   & DPI\\_50                                                & LA                                                      & A6                                                      & P121                                                    & 4.29e-05                                                & 0.009858084                                            \\\\\n",
       "\\end{tabular}\n"
      ],
      "text/markdown": [
       "\n",
       "| filename | MouseID | Treatmentgroup | status | DPI | organ | well_position | plate | CAR_mid_chain | CAR_long_chain |\n",
       "|---|---|---|---|---|---|---|---|---|---|\n",
       "| X501_Group1A_50dpi_LA_251_B_A1_P121.mzXML | 501                                       | Group1A                                   | naive                                     | DPI_50                                    | LA                                        | A1                                        | P121                                      | 0.00e+00                                  | 0.000569214                               |\n",
       "| X502_Group1A_50dpi_LA_252_B_A2_P121.mzXML | 502                                       | Group1A                                   | naive                                     | DPI_50                                    | LA                                        | A2                                        | P121                                      | 3.66e-05                                  | 0.004412355                               |\n",
       "| X503_Group1A_50dpi_LA_253_B_A3_P121.mzXML | 503                                       | Group1A                                   | naive                                     | DPI_50                                    | LA                                        | A3                                        | P121                                      | 6.04e-05                                  | 0.010824450                               |\n",
       "| X504_Group1A_50dpi_LA_254_B_A4_P121.mzXML | 504                                       | Group1A                                   | naive                                     | DPI_50                                    | LA                                        | A4                                        | P121                                      | 1.71e-05                                  | 0.004532281                               |\n",
       "| X505_Group1A_50dpi_LA_255_B_A5_P121.mzXML | 505                                       | Group1A                                   | naive                                     | DPI_50                                    | LA                                        | A5                                        | P121                                      | 5.10e-05                                  | 0.006736306                               |\n",
       "| X521_Group1A_50dpi_LA_256_B_A6_P121.mzXML | 521                                       | Group1A                                   | naive                                     | DPI_50                                    | LA                                        | A6                                        | P121                                      | 4.29e-05                                  | 0.009858084                               |\n",
       "\n"
      ],
      "text/plain": [
       "  filename                                  MouseID Treatmentgroup status\n",
       "1 X501_Group1A_50dpi_LA_251_B_A1_P121.mzXML 501     Group1A        naive \n",
       "2 X502_Group1A_50dpi_LA_252_B_A2_P121.mzXML 502     Group1A        naive \n",
       "3 X503_Group1A_50dpi_LA_253_B_A3_P121.mzXML 503     Group1A        naive \n",
       "4 X504_Group1A_50dpi_LA_254_B_A4_P121.mzXML 504     Group1A        naive \n",
       "5 X505_Group1A_50dpi_LA_255_B_A5_P121.mzXML 505     Group1A        naive \n",
       "6 X521_Group1A_50dpi_LA_256_B_A6_P121.mzXML 521     Group1A        naive \n",
       "  DPI    organ well_position plate CAR_mid_chain CAR_long_chain\n",
       "1 DPI_50 LA    A1            P121  0.00e+00      0.000569214   \n",
       "2 DPI_50 LA    A2            P121  3.66e-05      0.004412355   \n",
       "3 DPI_50 LA    A3            P121  6.04e-05      0.010824450   \n",
       "4 DPI_50 LA    A4            P121  1.71e-05      0.004532281   \n",
       "5 DPI_50 LA    A5            P121  5.10e-05      0.006736306   \n",
       "6 DPI_50 LA    A6            P121  4.29e-05      0.009858084   "
      ]
     },
     "metadata": {},
     "output_type": "display_data"
    },
    {
     "data": {
      "text/html": [
       "<ol class=list-inline>\n",
       "\t<li>90</li>\n",
       "\t<li>10</li>\n",
       "</ol>\n"
      ],
      "text/latex": [
       "\\begin{enumerate*}\n",
       "\\item 90\n",
       "\\item 10\n",
       "\\end{enumerate*}\n"
      ],
      "text/markdown": [
       "1. 90\n",
       "2. 10\n",
       "\n",
       "\n"
      ],
      "text/plain": [
       "[1] 90 10"
      ]
     },
     "metadata": {},
     "output_type": "display_data"
    }
   ],
   "source": [
    "head(a)\n",
    "dim(a)"
   ]
  },
  {
   "cell_type": "code",
   "execution_count": 3,
   "metadata": {},
   "outputs": [
    {
     "data": {
      "text/html": [
       "<table>\n",
       "<thead><tr><th></th><th scope=col>filename</th><th scope=col>MouseID</th><th scope=col>Treatmentgroup</th><th scope=col>status</th><th scope=col>DPI</th><th scope=col>organ</th><th scope=col>well_position</th><th scope=col>plate</th><th scope=col>CAR_mid_chain</th><th scope=col>CAR_long_chain</th></tr></thead>\n",
       "<tbody>\n",
       "\t<tr><th scope=row>16</th><td>X506_Group1B_70dpi_LA_281_B_C7_P121.mzXML </td><td>506                                       </td><td>Group1B                                   </td><td>naive                                     </td><td>DPI_75                                    </td><td>LA                                        </td><td>C7                                        </td><td>P121                                      </td><td>0.00e+00                                  </td><td>0.003384796                               </td></tr>\n",
       "\t<tr><th scope=row>17</th><td>X507_Group1B_70dpi_LA_282_B_C8_P121.mzXML </td><td>507                                       </td><td>Group1B                                   </td><td>naive                                     </td><td>DPI_75                                    </td><td>LA                                        </td><td>C8                                        </td><td>P121                                      </td><td>1.23e-04                                  </td><td>0.028690832                               </td></tr>\n",
       "\t<tr><th scope=row>18</th><td>X508_Group1B_70dpi_LA_283_B_C9_P121.mzXML </td><td>508                                       </td><td>Group1B                                   </td><td>naive                                     </td><td>DPI_75                                    </td><td>LA                                        </td><td>C9                                        </td><td>P121                                      </td><td>0.00e+00                                  </td><td>0.000526666                               </td></tr>\n",
       "\t<tr><th scope=row>19</th><td>X509_Group1B_70dpi_LA_284_B_C10_P121.mzXML</td><td>509                                       </td><td>Group1B                                   </td><td>naive                                     </td><td>DPI_75                                    </td><td>LA                                        </td><td>C10                                       </td><td>P121                                      </td><td>2.59e-05                                  </td><td>0.005635522                               </td></tr>\n",
       "\t<tr><th scope=row>20</th><td>X510_Group1B_70dpi_LA_285_B_C11_P121.mzXML</td><td>510                                       </td><td>Group1B                                   </td><td>naive                                     </td><td>DPI_75                                    </td><td>LA                                        </td><td>C11                                       </td><td>P121                                      </td><td>0.00e+00                                  </td><td>0.002039672                               </td></tr>\n",
       "\t<tr><th scope=row>21</th><td>X526_Group1B_70dpi_LA_286_B_C12_P121.mzXML</td><td>526                                       </td><td>Group1B                                   </td><td>naive                                     </td><td>DPI_75                                    </td><td>LA                                        </td><td>C12                                       </td><td>P121                                      </td><td>2.27e-05                                  </td><td>0.004820784                               </td></tr>\n",
       "</tbody>\n",
       "</table>\n"
      ],
      "text/latex": [
       "\\begin{tabular}{r|llllllllll}\n",
       "  & filename & MouseID & Treatmentgroup & status & DPI & organ & well\\_position & plate & CAR\\_mid\\_chain & CAR\\_long\\_chain\\\\\n",
       "\\hline\n",
       "\t16 & X506\\_Group1B\\_70dpi\\_LA\\_281\\_B\\_C7\\_P121.mzXML  & 506                                                      & Group1B                                                  & naive                                                    & DPI\\_75                                                 & LA                                                       & C7                                                       & P121                                                     & 0.00e+00                                                 & 0.003384796                                             \\\\\n",
       "\t17 & X507\\_Group1B\\_70dpi\\_LA\\_282\\_B\\_C8\\_P121.mzXML  & 507                                                      & Group1B                                                  & naive                                                    & DPI\\_75                                                 & LA                                                       & C8                                                       & P121                                                     & 1.23e-04                                                 & 0.028690832                                             \\\\\n",
       "\t18 & X508\\_Group1B\\_70dpi\\_LA\\_283\\_B\\_C9\\_P121.mzXML  & 508                                                      & Group1B                                                  & naive                                                    & DPI\\_75                                                 & LA                                                       & C9                                                       & P121                                                     & 0.00e+00                                                 & 0.000526666                                             \\\\\n",
       "\t19 & X509\\_Group1B\\_70dpi\\_LA\\_284\\_B\\_C10\\_P121.mzXML & 509                                                      & Group1B                                                  & naive                                                    & DPI\\_75                                                 & LA                                                       & C10                                                      & P121                                                     & 2.59e-05                                                 & 0.005635522                                             \\\\\n",
       "\t20 & X510\\_Group1B\\_70dpi\\_LA\\_285\\_B\\_C11\\_P121.mzXML & 510                                                      & Group1B                                                  & naive                                                    & DPI\\_75                                                 & LA                                                       & C11                                                      & P121                                                     & 0.00e+00                                                 & 0.002039672                                             \\\\\n",
       "\t21 & X526\\_Group1B\\_70dpi\\_LA\\_286\\_B\\_C12\\_P121.mzXML & 526                                                      & Group1B                                                  & naive                                                    & DPI\\_75                                                 & LA                                                       & C12                                                      & P121                                                     & 2.27e-05                                                 & 0.004820784                                             \\\\\n",
       "\\end{tabular}\n"
      ],
      "text/markdown": [
       "\n",
       "| <!--/--> | filename | MouseID | Treatmentgroup | status | DPI | organ | well_position | plate | CAR_mid_chain | CAR_long_chain |\n",
       "|---|---|---|---|---|---|---|---|---|---|---|\n",
       "| 16 | X506_Group1B_70dpi_LA_281_B_C7_P121.mzXML  | 506                                        | Group1B                                    | naive                                      | DPI_75                                     | LA                                         | C7                                         | P121                                       | 0.00e+00                                   | 0.003384796                                |\n",
       "| 17 | X507_Group1B_70dpi_LA_282_B_C8_P121.mzXML  | 507                                        | Group1B                                    | naive                                      | DPI_75                                     | LA                                         | C8                                         | P121                                       | 1.23e-04                                   | 0.028690832                                |\n",
       "| 18 | X508_Group1B_70dpi_LA_283_B_C9_P121.mzXML  | 508                                        | Group1B                                    | naive                                      | DPI_75                                     | LA                                         | C9                                         | P121                                       | 0.00e+00                                   | 0.000526666                                |\n",
       "| 19 | X509_Group1B_70dpi_LA_284_B_C10_P121.mzXML | 509                                        | Group1B                                    | naive                                      | DPI_75                                     | LA                                         | C10                                        | P121                                       | 2.59e-05                                   | 0.005635522                                |\n",
       "| 20 | X510_Group1B_70dpi_LA_285_B_C11_P121.mzXML | 510                                        | Group1B                                    | naive                                      | DPI_75                                     | LA                                         | C11                                        | P121                                       | 0.00e+00                                   | 0.002039672                                |\n",
       "| 21 | X526_Group1B_70dpi_LA_286_B_C12_P121.mzXML | 526                                        | Group1B                                    | naive                                      | DPI_75                                     | LA                                         | C12                                        | P121                                       | 2.27e-05                                   | 0.004820784                                |\n",
       "\n"
      ],
      "text/plain": [
       "   filename                                   MouseID Treatmentgroup status\n",
       "16 X506_Group1B_70dpi_LA_281_B_C7_P121.mzXML  506     Group1B        naive \n",
       "17 X507_Group1B_70dpi_LA_282_B_C8_P121.mzXML  507     Group1B        naive \n",
       "18 X508_Group1B_70dpi_LA_283_B_C9_P121.mzXML  508     Group1B        naive \n",
       "19 X509_Group1B_70dpi_LA_284_B_C10_P121.mzXML 509     Group1B        naive \n",
       "20 X510_Group1B_70dpi_LA_285_B_C11_P121.mzXML 510     Group1B        naive \n",
       "21 X526_Group1B_70dpi_LA_286_B_C12_P121.mzXML 526     Group1B        naive \n",
       "   DPI    organ well_position plate CAR_mid_chain CAR_long_chain\n",
       "16 DPI_75 LA    C7            P121  0.00e+00      0.003384796   \n",
       "17 DPI_75 LA    C8            P121  1.23e-04      0.028690832   \n",
       "18 DPI_75 LA    C9            P121  0.00e+00      0.000526666   \n",
       "19 DPI_75 LA    C10           P121  2.59e-05      0.005635522   \n",
       "20 DPI_75 LA    C11           P121  0.00e+00      0.002039672   \n",
       "21 DPI_75 LA    C12           P121  2.27e-05      0.004820784   "
      ]
     },
     "metadata": {},
     "output_type": "display_data"
    },
    {
     "data": {
      "text/html": [
       "<ol class=list-inline>\n",
       "\t<li>30</li>\n",
       "\t<li>10</li>\n",
       "</ol>\n"
      ],
      "text/latex": [
       "\\begin{enumerate*}\n",
       "\\item 30\n",
       "\\item 10\n",
       "\\end{enumerate*}\n"
      ],
      "text/markdown": [
       "1. 30\n",
       "2. 10\n",
       "\n",
       "\n"
      ],
      "text/plain": [
       "[1] 30 10"
      ]
     },
     "metadata": {},
     "output_type": "display_data"
    }
   ],
   "source": [
    "features_pos<-droplevels(subset(a, a$Treatmentgroup==c(\"Group1B\")|a$Treatmentgroup==c(\"Group3B\")))\n",
    "head(features_pos)\n",
    "dim(features_pos)"
   ]
  },
  {
   "cell_type": "code",
   "execution_count": 4,
   "metadata": {
    "scrolled": false
   },
   "outputs": [
    {
     "data": {
      "text/html": [
       "<table>\n",
       "<thead><tr><th></th><th scope=col>CAR_mid_chain</th><th scope=col>CAR_long_chain</th></tr></thead>\n",
       "<tbody>\n",
       "\t<tr><th scope=row>16</th><td>0.00e+00   </td><td>0.003384796</td></tr>\n",
       "\t<tr><th scope=row>17</th><td>1.23e-04   </td><td>0.028690832</td></tr>\n",
       "\t<tr><th scope=row>18</th><td>0.00e+00   </td><td>0.000526666</td></tr>\n",
       "\t<tr><th scope=row>19</th><td>2.59e-05   </td><td>0.005635522</td></tr>\n",
       "\t<tr><th scope=row>20</th><td>0.00e+00   </td><td>0.002039672</td></tr>\n",
       "\t<tr><th scope=row>21</th><td>2.27e-05   </td><td>0.004820784</td></tr>\n",
       "</tbody>\n",
       "</table>\n"
      ],
      "text/latex": [
       "\\begin{tabular}{r|ll}\n",
       "  & CAR\\_mid\\_chain & CAR\\_long\\_chain\\\\\n",
       "\\hline\n",
       "\t16 & 0.00e+00    & 0.003384796\\\\\n",
       "\t17 & 1.23e-04    & 0.028690832\\\\\n",
       "\t18 & 0.00e+00    & 0.000526666\\\\\n",
       "\t19 & 2.59e-05    & 0.005635522\\\\\n",
       "\t20 & 0.00e+00    & 0.002039672\\\\\n",
       "\t21 & 2.27e-05    & 0.004820784\\\\\n",
       "\\end{tabular}\n"
      ],
      "text/markdown": [
       "\n",
       "| <!--/--> | CAR_mid_chain | CAR_long_chain |\n",
       "|---|---|---|\n",
       "| 16 | 0.00e+00    | 0.003384796 |\n",
       "| 17 | 1.23e-04    | 0.028690832 |\n",
       "| 18 | 0.00e+00    | 0.000526666 |\n",
       "| 19 | 2.59e-05    | 0.005635522 |\n",
       "| 20 | 0.00e+00    | 0.002039672 |\n",
       "| 21 | 2.27e-05    | 0.004820784 |\n",
       "\n"
      ],
      "text/plain": [
       "   CAR_mid_chain CAR_long_chain\n",
       "16 0.00e+00      0.003384796   \n",
       "17 1.23e-04      0.028690832   \n",
       "18 0.00e+00      0.000526666   \n",
       "19 2.59e-05      0.005635522   \n",
       "20 0.00e+00      0.002039672   \n",
       "21 2.27e-05      0.004820784   "
      ]
     },
     "metadata": {},
     "output_type": "display_data"
    },
    {
     "data": {
      "text/html": [
       "<dl class=dl-horizontal>\n",
       "\t<dt>CAR_mid_chain</dt>\n",
       "\t\t<dd>1</dd>\n",
       "\t<dt>CAR_long_chain</dt>\n",
       "\t\t<dd>2</dd>\n",
       "</dl>\n"
      ],
      "text/latex": [
       "\\begin{description*}\n",
       "\\item[CAR\\textbackslash{}\\_mid\\textbackslash{}\\_chain] 1\n",
       "\\item[CAR\\textbackslash{}\\_long\\textbackslash{}\\_chain] 2\n",
       "\\end{description*}\n"
      ],
      "text/markdown": [
       "CAR_mid_chain\n",
       ":   1CAR_long_chain\n",
       ":   2\n",
       "\n"
      ],
      "text/plain": [
       " CAR_mid_chain CAR_long_chain \n",
       "             1              2 "
      ]
     },
     "metadata": {},
     "output_type": "display_data"
    },
    {
     "data": {
      "text/html": [
       "<table>\n",
       "<thead><tr><th></th><th scope=col>CAR_mid_chain</th><th scope=col>CAR_long_chain</th></tr></thead>\n",
       "<tbody>\n",
       "\t<tr><th scope=row>16</th><td>0.000000000</td><td>0.003384796</td></tr>\n",
       "\t<tr><th scope=row>17</th><td>0.000123000</td><td>0.028690832</td></tr>\n",
       "\t<tr><th scope=row>18</th><td>0.000000000</td><td>0.000526666</td></tr>\n",
       "\t<tr><th scope=row>19</th><td>0.000025900</td><td>0.005635522</td></tr>\n",
       "\t<tr><th scope=row>20</th><td>0.000000000</td><td>0.002039672</td></tr>\n",
       "\t<tr><th scope=row>21</th><td>0.000022700</td><td>0.004820784</td></tr>\n",
       "\t<tr><th scope=row>22</th><td>0.000000000</td><td>0.005369205</td></tr>\n",
       "\t<tr><th scope=row>23</th><td>0.000039000</td><td>0.004778107</td></tr>\n",
       "\t<tr><th scope=row>24</th><td>0.000000000</td><td>0.003765747</td></tr>\n",
       "\t<tr><th scope=row>25</th><td>0.000000000</td><td>0.001926021</td></tr>\n",
       "\t<tr><th scope=row>26</th><td>0.000000000</td><td>0.000910241</td></tr>\n",
       "\t<tr><th scope=row>27</th><td>0.000000000</td><td>0.009803275</td></tr>\n",
       "\t<tr><th scope=row>28</th><td>0.000000000</td><td>0.000000000</td></tr>\n",
       "\t<tr><th scope=row>29</th><td>0.000000000</td><td>0.006560443</td></tr>\n",
       "\t<tr><th scope=row>30</th><td>0.000000000</td><td>0.002630973</td></tr>\n",
       "\t<tr><th scope=row>61</th><td>0.000626497</td><td>0.005409667</td></tr>\n",
       "\t<tr><th scope=row>62</th><td>0.000119069</td><td>0.005415135</td></tr>\n",
       "\t<tr><th scope=row>63</th><td>0.000000000</td><td>0.002122307</td></tr>\n",
       "\t<tr><th scope=row>64</th><td>0.000141000</td><td>0.014842335</td></tr>\n",
       "\t<tr><th scope=row>65</th><td>0.000079800</td><td>0.002554678</td></tr>\n",
       "\t<tr><th scope=row>66</th><td>0.000000000</td><td>0.000318239</td></tr>\n",
       "\t<tr><th scope=row>67</th><td>0.000000000</td><td>0.000857314</td></tr>\n",
       "\t<tr><th scope=row>68</th><td>0.000000000</td><td>0.000997842</td></tr>\n",
       "\t<tr><th scope=row>69</th><td>0.000000000</td><td>0.000967429</td></tr>\n",
       "\t<tr><th scope=row>70</th><td>0.000000000</td><td>0.001758485</td></tr>\n",
       "\t<tr><th scope=row>71</th><td>0.000000000</td><td>0.000732075</td></tr>\n",
       "\t<tr><th scope=row>72</th><td>0.000000000</td><td>0.000246612</td></tr>\n",
       "\t<tr><th scope=row>73</th><td>0.000021200</td><td>0.000275527</td></tr>\n",
       "\t<tr><th scope=row>74</th><td>0.000000000</td><td>0.000729341</td></tr>\n",
       "\t<tr><th scope=row>75</th><td>0.000000000</td><td>0.000179938</td></tr>\n",
       "</tbody>\n",
       "</table>\n"
      ],
      "text/latex": [
       "\\begin{tabular}{r|ll}\n",
       "  & CAR\\_mid\\_chain & CAR\\_long\\_chain\\\\\n",
       "\\hline\n",
       "\t16 & 0.000000000 & 0.003384796\\\\\n",
       "\t17 & 0.000123000 & 0.028690832\\\\\n",
       "\t18 & 0.000000000 & 0.000526666\\\\\n",
       "\t19 & 0.000025900 & 0.005635522\\\\\n",
       "\t20 & 0.000000000 & 0.002039672\\\\\n",
       "\t21 & 0.000022700 & 0.004820784\\\\\n",
       "\t22 & 0.000000000 & 0.005369205\\\\\n",
       "\t23 & 0.000039000 & 0.004778107\\\\\n",
       "\t24 & 0.000000000 & 0.003765747\\\\\n",
       "\t25 & 0.000000000 & 0.001926021\\\\\n",
       "\t26 & 0.000000000 & 0.000910241\\\\\n",
       "\t27 & 0.000000000 & 0.009803275\\\\\n",
       "\t28 & 0.000000000 & 0.000000000\\\\\n",
       "\t29 & 0.000000000 & 0.006560443\\\\\n",
       "\t30 & 0.000000000 & 0.002630973\\\\\n",
       "\t61 & 0.000626497 & 0.005409667\\\\\n",
       "\t62 & 0.000119069 & 0.005415135\\\\\n",
       "\t63 & 0.000000000 & 0.002122307\\\\\n",
       "\t64 & 0.000141000 & 0.014842335\\\\\n",
       "\t65 & 0.000079800 & 0.002554678\\\\\n",
       "\t66 & 0.000000000 & 0.000318239\\\\\n",
       "\t67 & 0.000000000 & 0.000857314\\\\\n",
       "\t68 & 0.000000000 & 0.000997842\\\\\n",
       "\t69 & 0.000000000 & 0.000967429\\\\\n",
       "\t70 & 0.000000000 & 0.001758485\\\\\n",
       "\t71 & 0.000000000 & 0.000732075\\\\\n",
       "\t72 & 0.000000000 & 0.000246612\\\\\n",
       "\t73 & 0.000021200 & 0.000275527\\\\\n",
       "\t74 & 0.000000000 & 0.000729341\\\\\n",
       "\t75 & 0.000000000 & 0.000179938\\\\\n",
       "\\end{tabular}\n"
      ],
      "text/markdown": [
       "\n",
       "| <!--/--> | CAR_mid_chain | CAR_long_chain |\n",
       "|---|---|---|\n",
       "| 16 | 0.000000000 | 0.003384796 |\n",
       "| 17 | 0.000123000 | 0.028690832 |\n",
       "| 18 | 0.000000000 | 0.000526666 |\n",
       "| 19 | 0.000025900 | 0.005635522 |\n",
       "| 20 | 0.000000000 | 0.002039672 |\n",
       "| 21 | 0.000022700 | 0.004820784 |\n",
       "| 22 | 0.000000000 | 0.005369205 |\n",
       "| 23 | 0.000039000 | 0.004778107 |\n",
       "| 24 | 0.000000000 | 0.003765747 |\n",
       "| 25 | 0.000000000 | 0.001926021 |\n",
       "| 26 | 0.000000000 | 0.000910241 |\n",
       "| 27 | 0.000000000 | 0.009803275 |\n",
       "| 28 | 0.000000000 | 0.000000000 |\n",
       "| 29 | 0.000000000 | 0.006560443 |\n",
       "| 30 | 0.000000000 | 0.002630973 |\n",
       "| 61 | 0.000626497 | 0.005409667 |\n",
       "| 62 | 0.000119069 | 0.005415135 |\n",
       "| 63 | 0.000000000 | 0.002122307 |\n",
       "| 64 | 0.000141000 | 0.014842335 |\n",
       "| 65 | 0.000079800 | 0.002554678 |\n",
       "| 66 | 0.000000000 | 0.000318239 |\n",
       "| 67 | 0.000000000 | 0.000857314 |\n",
       "| 68 | 0.000000000 | 0.000997842 |\n",
       "| 69 | 0.000000000 | 0.000967429 |\n",
       "| 70 | 0.000000000 | 0.001758485 |\n",
       "| 71 | 0.000000000 | 0.000732075 |\n",
       "| 72 | 0.000000000 | 0.000246612 |\n",
       "| 73 | 0.000021200 | 0.000275527 |\n",
       "| 74 | 0.000000000 | 0.000729341 |\n",
       "| 75 | 0.000000000 | 0.000179938 |\n",
       "\n"
      ],
      "text/plain": [
       "   CAR_mid_chain CAR_long_chain\n",
       "16 0.000000000   0.003384796   \n",
       "17 0.000123000   0.028690832   \n",
       "18 0.000000000   0.000526666   \n",
       "19 0.000025900   0.005635522   \n",
       "20 0.000000000   0.002039672   \n",
       "21 0.000022700   0.004820784   \n",
       "22 0.000000000   0.005369205   \n",
       "23 0.000039000   0.004778107   \n",
       "24 0.000000000   0.003765747   \n",
       "25 0.000000000   0.001926021   \n",
       "26 0.000000000   0.000910241   \n",
       "27 0.000000000   0.009803275   \n",
       "28 0.000000000   0.000000000   \n",
       "29 0.000000000   0.006560443   \n",
       "30 0.000000000   0.002630973   \n",
       "61 0.000626497   0.005409667   \n",
       "62 0.000119069   0.005415135   \n",
       "63 0.000000000   0.002122307   \n",
       "64 0.000141000   0.014842335   \n",
       "65 0.000079800   0.002554678   \n",
       "66 0.000000000   0.000318239   \n",
       "67 0.000000000   0.000857314   \n",
       "68 0.000000000   0.000997842   \n",
       "69 0.000000000   0.000967429   \n",
       "70 0.000000000   0.001758485   \n",
       "71 0.000000000   0.000732075   \n",
       "72 0.000000000   0.000246612   \n",
       "73 0.000021200   0.000275527   \n",
       "74 0.000000000   0.000729341   \n",
       "75 0.000000000   0.000179938   "
      ]
     },
     "metadata": {},
     "output_type": "display_data"
    },
    {
     "data": {
      "text/html": [
       "<table>\n",
       "<thead><tr><th></th><th scope=col>filename</th><th scope=col>MouseID</th><th scope=col>Treatmentgroup</th><th scope=col>status</th><th scope=col>DPI</th><th scope=col>organ</th><th scope=col>well_position</th><th scope=col>plate</th><th scope=col>CAR_mid_chain</th><th scope=col>CAR_long_chain</th></tr></thead>\n",
       "<tbody>\n",
       "\t<tr><th scope=row>16</th><td>X506_Group1B_70dpi_LA_281_B_C7_P121.mzXML </td><td>506                                       </td><td>Group1B                                   </td><td>naive                                     </td><td>DPI_75                                    </td><td>LA                                        </td><td>C7                                        </td><td>P121                                      </td><td>0.00e+00                                  </td><td>0.003384796                               </td></tr>\n",
       "\t<tr><th scope=row>17</th><td>X507_Group1B_70dpi_LA_282_B_C8_P121.mzXML </td><td>507                                       </td><td>Group1B                                   </td><td>naive                                     </td><td>DPI_75                                    </td><td>LA                                        </td><td>C8                                        </td><td>P121                                      </td><td>1.23e-04                                  </td><td>0.028690832                               </td></tr>\n",
       "\t<tr><th scope=row>18</th><td>X508_Group1B_70dpi_LA_283_B_C9_P121.mzXML </td><td>508                                       </td><td>Group1B                                   </td><td>naive                                     </td><td>DPI_75                                    </td><td>LA                                        </td><td>C9                                        </td><td>P121                                      </td><td>0.00e+00                                  </td><td>0.000526666                               </td></tr>\n",
       "\t<tr><th scope=row>19</th><td>X509_Group1B_70dpi_LA_284_B_C10_P121.mzXML</td><td>509                                       </td><td>Group1B                                   </td><td>naive                                     </td><td>DPI_75                                    </td><td>LA                                        </td><td>C10                                       </td><td>P121                                      </td><td>2.59e-05                                  </td><td>0.005635522                               </td></tr>\n",
       "\t<tr><th scope=row>20</th><td>X510_Group1B_70dpi_LA_285_B_C11_P121.mzXML</td><td>510                                       </td><td>Group1B                                   </td><td>naive                                     </td><td>DPI_75                                    </td><td>LA                                        </td><td>C11                                       </td><td>P121                                      </td><td>0.00e+00                                  </td><td>0.002039672                               </td></tr>\n",
       "\t<tr><th scope=row>21</th><td>X526_Group1B_70dpi_LA_286_B_C12_P121.mzXML</td><td>526                                       </td><td>Group1B                                   </td><td>naive                                     </td><td>DPI_75                                    </td><td>LA                                        </td><td>C12                                       </td><td>P121                                      </td><td>2.27e-05                                  </td><td>0.004820784                               </td></tr>\n",
       "</tbody>\n",
       "</table>\n"
      ],
      "text/latex": [
       "\\begin{tabular}{r|llllllllll}\n",
       "  & filename & MouseID & Treatmentgroup & status & DPI & organ & well\\_position & plate & CAR\\_mid\\_chain & CAR\\_long\\_chain\\\\\n",
       "\\hline\n",
       "\t16 & X506\\_Group1B\\_70dpi\\_LA\\_281\\_B\\_C7\\_P121.mzXML  & 506                                                      & Group1B                                                  & naive                                                    & DPI\\_75                                                 & LA                                                       & C7                                                       & P121                                                     & 0.00e+00                                                 & 0.003384796                                             \\\\\n",
       "\t17 & X507\\_Group1B\\_70dpi\\_LA\\_282\\_B\\_C8\\_P121.mzXML  & 507                                                      & Group1B                                                  & naive                                                    & DPI\\_75                                                 & LA                                                       & C8                                                       & P121                                                     & 1.23e-04                                                 & 0.028690832                                             \\\\\n",
       "\t18 & X508\\_Group1B\\_70dpi\\_LA\\_283\\_B\\_C9\\_P121.mzXML  & 508                                                      & Group1B                                                  & naive                                                    & DPI\\_75                                                 & LA                                                       & C9                                                       & P121                                                     & 0.00e+00                                                 & 0.000526666                                             \\\\\n",
       "\t19 & X509\\_Group1B\\_70dpi\\_LA\\_284\\_B\\_C10\\_P121.mzXML & 509                                                      & Group1B                                                  & naive                                                    & DPI\\_75                                                 & LA                                                       & C10                                                      & P121                                                     & 2.59e-05                                                 & 0.005635522                                             \\\\\n",
       "\t20 & X510\\_Group1B\\_70dpi\\_LA\\_285\\_B\\_C11\\_P121.mzXML & 510                                                      & Group1B                                                  & naive                                                    & DPI\\_75                                                 & LA                                                       & C11                                                      & P121                                                     & 0.00e+00                                                 & 0.002039672                                             \\\\\n",
       "\t21 & X526\\_Group1B\\_70dpi\\_LA\\_286\\_B\\_C12\\_P121.mzXML & 526                                                      & Group1B                                                  & naive                                                    & DPI\\_75                                                 & LA                                                       & C12                                                      & P121                                                     & 2.27e-05                                                 & 0.004820784                                             \\\\\n",
       "\\end{tabular}\n"
      ],
      "text/markdown": [
       "\n",
       "| <!--/--> | filename | MouseID | Treatmentgroup | status | DPI | organ | well_position | plate | CAR_mid_chain | CAR_long_chain |\n",
       "|---|---|---|---|---|---|---|---|---|---|---|\n",
       "| 16 | X506_Group1B_70dpi_LA_281_B_C7_P121.mzXML  | 506                                        | Group1B                                    | naive                                      | DPI_75                                     | LA                                         | C7                                         | P121                                       | 0.00e+00                                   | 0.003384796                                |\n",
       "| 17 | X507_Group1B_70dpi_LA_282_B_C8_P121.mzXML  | 507                                        | Group1B                                    | naive                                      | DPI_75                                     | LA                                         | C8                                         | P121                                       | 1.23e-04                                   | 0.028690832                                |\n",
       "| 18 | X508_Group1B_70dpi_LA_283_B_C9_P121.mzXML  | 508                                        | Group1B                                    | naive                                      | DPI_75                                     | LA                                         | C9                                         | P121                                       | 0.00e+00                                   | 0.000526666                                |\n",
       "| 19 | X509_Group1B_70dpi_LA_284_B_C10_P121.mzXML | 509                                        | Group1B                                    | naive                                      | DPI_75                                     | LA                                         | C10                                        | P121                                       | 2.59e-05                                   | 0.005635522                                |\n",
       "| 20 | X510_Group1B_70dpi_LA_285_B_C11_P121.mzXML | 510                                        | Group1B                                    | naive                                      | DPI_75                                     | LA                                         | C11                                        | P121                                       | 0.00e+00                                   | 0.002039672                                |\n",
       "| 21 | X526_Group1B_70dpi_LA_286_B_C12_P121.mzXML | 526                                        | Group1B                                    | naive                                      | DPI_75                                     | LA                                         | C12                                        | P121                                       | 2.27e-05                                   | 0.004820784                                |\n",
       "\n"
      ],
      "text/plain": [
       "   filename                                   MouseID Treatmentgroup status\n",
       "16 X506_Group1B_70dpi_LA_281_B_C7_P121.mzXML  506     Group1B        naive \n",
       "17 X507_Group1B_70dpi_LA_282_B_C8_P121.mzXML  507     Group1B        naive \n",
       "18 X508_Group1B_70dpi_LA_283_B_C9_P121.mzXML  508     Group1B        naive \n",
       "19 X509_Group1B_70dpi_LA_284_B_C10_P121.mzXML 509     Group1B        naive \n",
       "20 X510_Group1B_70dpi_LA_285_B_C11_P121.mzXML 510     Group1B        naive \n",
       "21 X526_Group1B_70dpi_LA_286_B_C12_P121.mzXML 526     Group1B        naive \n",
       "   DPI    organ well_position plate CAR_mid_chain CAR_long_chain\n",
       "16 DPI_75 LA    C7            P121  0.00e+00      0.003384796   \n",
       "17 DPI_75 LA    C8            P121  1.23e-04      0.028690832   \n",
       "18 DPI_75 LA    C9            P121  0.00e+00      0.000526666   \n",
       "19 DPI_75 LA    C10           P121  2.59e-05      0.005635522   \n",
       "20 DPI_75 LA    C11           P121  0.00e+00      0.002039672   \n",
       "21 DPI_75 LA    C12           P121  2.27e-05      0.004820784   "
      ]
     },
     "metadata": {},
     "output_type": "display_data"
    },
    {
     "data": {
      "text/html": [
       "<ol class=list-inline>\n",
       "\t<li>30</li>\n",
       "\t<li>10</li>\n",
       "</ol>\n"
      ],
      "text/latex": [
       "\\begin{enumerate*}\n",
       "\\item 30\n",
       "\\item 10\n",
       "\\end{enumerate*}\n"
      ],
      "text/markdown": [
       "1. 30\n",
       "2. 10\n",
       "\n",
       "\n"
      ],
      "text/plain": [
       "[1] 30 10"
      ]
     },
     "metadata": {},
     "output_type": "display_data"
    },
    {
     "data": {
      "text/html": [
       "<ol class=list-inline>\n",
       "\t<li>30</li>\n",
       "\t<li>2</li>\n",
       "</ol>\n"
      ],
      "text/latex": [
       "\\begin{enumerate*}\n",
       "\\item 30\n",
       "\\item 2\n",
       "\\end{enumerate*}\n"
      ],
      "text/markdown": [
       "1. 30\n",
       "2. 2\n",
       "\n",
       "\n"
      ],
      "text/plain": [
       "[1] 30  2"
      ]
     },
     "metadata": {},
     "output_type": "display_data"
    },
    {
     "data": {
      "text/html": [
       "<ol class=list-inline>\n",
       "\t<li>30</li>\n",
       "\t<li>2</li>\n",
       "</ol>\n"
      ],
      "text/latex": [
       "\\begin{enumerate*}\n",
       "\\item 30\n",
       "\\item 2\n",
       "\\end{enumerate*}\n"
      ],
      "text/markdown": [
       "1. 30\n",
       "2. 2\n",
       "\n",
       "\n"
      ],
      "text/plain": [
       "[1] 30  2"
      ]
     },
     "metadata": {},
     "output_type": "display_data"
    },
    {
     "data": {
      "text/html": [
       "<ol class=list-inline>\n",
       "\t<li>30</li>\n",
       "\t<li>10</li>\n",
       "</ol>\n"
      ],
      "text/latex": [
       "\\begin{enumerate*}\n",
       "\\item 30\n",
       "\\item 10\n",
       "\\end{enumerate*}\n"
      ],
      "text/markdown": [
       "1. 30\n",
       "2. 10\n",
       "\n",
       "\n"
      ],
      "text/plain": [
       "[1] 30 10"
      ]
     },
     "metadata": {},
     "output_type": "display_data"
    }
   ],
   "source": [
    "noMeta<-features_pos[,9:10]\n",
    "head(noMeta)\n",
    "not_zero<-which(colSums(noMeta) != 0)\n",
    "head(not_zero)\n",
    "nonzero <- noMeta[, not_zero]\n",
    "nonzero\n",
    "nonzero_wMeta<-cbind(features_pos[,1:8], nonzero)\n",
    "head(nonzero_wMeta)\n",
    "dim(features_pos)\n",
    "dim(noMeta)\n",
    "dim(nonzero)\n",
    "dim(nonzero_wMeta)"
   ]
  },
  {
   "cell_type": "code",
   "execution_count": 5,
   "metadata": {
    "scrolled": true
   },
   "outputs": [
    {
     "name": "stderr",
     "output_type": "stream",
     "text": [
      "Warning message in wilcox.test.default(x = c(0, 0.000123, 0, 2.59e-05, 0, 2.27e-05, :\n",
      "\"cannot compute exact p-value with ties\""
     ]
    },
    {
     "data": {
      "text/html": [
       "<ol class=list-inline>\n",
       "\t<li>0.573621189165499</li>\n",
       "\t<li>0.0502223733334571</li>\n",
       "</ol>\n"
      ],
      "text/latex": [
       "\\begin{enumerate*}\n",
       "\\item 0.573621189165499\n",
       "\\item 0.0502223733334571\n",
       "\\end{enumerate*}\n"
      ],
      "text/markdown": [
       "1. 0.573621189165499\n",
       "2. 0.0502223733334571\n",
       "\n",
       "\n"
      ],
      "text/plain": [
       "[1] 0.57362119 0.05022237"
      ]
     },
     "metadata": {},
     "output_type": "display_data"
    },
    {
     "data": {
      "text/html": [
       "<ol class=list-inline>\n",
       "\t<li>0.573621189165499</li>\n",
       "\t<li>0.100444746666914</li>\n",
       "</ol>\n"
      ],
      "text/latex": [
       "\\begin{enumerate*}\n",
       "\\item 0.573621189165499\n",
       "\\item 0.100444746666914\n",
       "\\end{enumerate*}\n"
      ],
      "text/markdown": [
       "1. 0.573621189165499\n",
       "2. 0.100444746666914\n",
       "\n",
       "\n"
      ],
      "text/plain": [
       "[1] 0.5736212 0.1004447"
      ]
     },
     "metadata": {},
     "output_type": "display_data"
    }
   ],
   "source": [
    "pval<-c()\n",
    "\n",
    "for (i in 9:ncol(nonzero_wMeta)) \n",
    "pval<-c(pval,wilcox.test(nonzero_wMeta[,i]~nonzero_wMeta$Treatmentgroup)$p.value)\n",
    "head(pval)\n",
    "pAdj <- p.adjust(pval, method = c(\"fdr\"), n=length(pval)) \n",
    "head(pAdj) \n",
    "\n"
   ]
  },
  {
   "cell_type": "code",
   "execution_count": 6,
   "metadata": {
    "scrolled": true
   },
   "outputs": [
    {
     "data": {
      "text/html": [
       "2"
      ],
      "text/latex": [
       "2"
      ],
      "text/markdown": [
       "2"
      ],
      "text/plain": [
       "[1] 2"
      ]
     },
     "metadata": {},
     "output_type": "display_data"
    }
   ],
   "source": [
    "length(pval)"
   ]
  },
  {
   "cell_type": "code",
   "execution_count": 7,
   "metadata": {
    "scrolled": true
   },
   "outputs": [
    {
     "data": {
      "text/html": [
       "2"
      ],
      "text/latex": [
       "2"
      ],
      "text/markdown": [
       "2"
      ],
      "text/plain": [
       "[1] 2"
      ]
     },
     "metadata": {},
     "output_type": "display_data"
    }
   ],
   "source": [
    "length(pAdj)"
   ]
  },
  {
   "cell_type": "code",
   "execution_count": 8,
   "metadata": {},
   "outputs": [
    {
     "data": {
      "text/html": [
       "<ol class=list-inline>\n",
       "\t<li>2</li>\n",
       "\t<li>2</li>\n",
       "</ol>\n"
      ],
      "text/latex": [
       "\\begin{enumerate*}\n",
       "\\item 2\n",
       "\\item 2\n",
       "\\end{enumerate*}\n"
      ],
      "text/markdown": [
       "1. 2\n",
       "2. 2\n",
       "\n",
       "\n"
      ],
      "text/plain": [
       "[1] 2 2"
      ]
     },
     "metadata": {},
     "output_type": "display_data"
    },
    {
     "data": {
      "text/html": [
       "<table>\n",
       "<thead><tr><th></th><th scope=col>CAR_mid_chain</th><th scope=col>CAR_long_chain</th></tr></thead>\n",
       "<tbody>\n",
       "\t<tr><th scope=row>Group1B</th><td>1.404000e-05</td><td>0.005389486 </td></tr>\n",
       "\t<tr><th scope=row>Group3B</th><td>6.583773e-05</td><td>0.002493795 </td></tr>\n",
       "</tbody>\n",
       "</table>\n"
      ],
      "text/latex": [
       "\\begin{tabular}{r|ll}\n",
       "  & CAR\\_mid\\_chain & CAR\\_long\\_chain\\\\\n",
       "\\hline\n",
       "\tGroup1B & 1.404000e-05 & 0.005389486 \\\\\n",
       "\tGroup3B & 6.583773e-05 & 0.002493795 \\\\\n",
       "\\end{tabular}\n"
      ],
      "text/markdown": [
       "\n",
       "| <!--/--> | CAR_mid_chain | CAR_long_chain |\n",
       "|---|---|---|\n",
       "| Group1B | 1.404000e-05 | 0.005389486  |\n",
       "| Group3B | 6.583773e-05 | 0.002493795  |\n",
       "\n"
      ],
      "text/plain": [
       "        CAR_mid_chain CAR_long_chain\n",
       "Group1B 1.404000e-05  0.005389486   \n",
       "Group3B 6.583773e-05  0.002493795   "
      ]
     },
     "metadata": {},
     "output_type": "display_data"
    },
    {
     "data": {
      "text/html": [
       "<dl class=dl-horizontal>\n",
       "\t<dt>CAR_mid_chain</dt>\n",
       "\t\t<dd>0.213251570021649</dd>\n",
       "\t<dt>CAR_long_chain</dt>\n",
       "\t\t<dd>2.1611582925129</dd>\n",
       "</dl>\n"
      ],
      "text/latex": [
       "\\begin{description*}\n",
       "\\item[CAR\\textbackslash{}\\_mid\\textbackslash{}\\_chain] 0.213251570021649\n",
       "\\item[CAR\\textbackslash{}\\_long\\textbackslash{}\\_chain] 2.1611582925129\n",
       "\\end{description*}\n"
      ],
      "text/markdown": [
       "CAR_mid_chain\n",
       ":   0.213251570021649CAR_long_chain\n",
       ":   2.1611582925129\n",
       "\n"
      ],
      "text/plain": [
       " CAR_mid_chain CAR_long_chain \n",
       "     0.2132516      2.1611583 "
      ]
     },
     "metadata": {},
     "output_type": "display_data"
    },
    {
     "data": {
      "text/html": [
       "<ol class=list-inline>\n",
       "\t<li>'numeric'</li>\n",
       "\t<li>'vector'</li>\n",
       "</ol>\n"
      ],
      "text/latex": [
       "\\begin{enumerate*}\n",
       "\\item 'numeric'\n",
       "\\item 'vector'\n",
       "\\end{enumerate*}\n"
      ],
      "text/markdown": [
       "1. 'numeric'\n",
       "2. 'vector'\n",
       "\n",
       "\n"
      ],
      "text/plain": [
       "[1] \"numeric\" \"vector\" "
      ]
     },
     "metadata": {},
     "output_type": "display_data"
    }
   ],
   "source": [
    "avg<- apply(nonzero_wMeta[,9:ncol(nonzero_wMeta)], 2, function(x) tapply(x, nonzero_wMeta$Treatmentgroup, function(x) mean(x))) \n",
    "\n",
    "dim(avg)\n",
    "\n",
    "avg[,1:2]\n",
    "\n",
    "fch <- apply(avg, 2, function(x) x[1]/x[2])\n",
    "\n",
    "head(fch)\n",
    "is(fch)"
   ]
  },
  {
   "cell_type": "code",
   "execution_count": 9,
   "metadata": {
    "scrolled": true
   },
   "outputs": [
    {
     "data": {
      "text/html": [
       "<dl class=dl-horizontal>\n",
       "\t<dt>CAR_mid_chain</dt>\n",
       "\t\t<dd>0.213251570021649</dd>\n",
       "\t<dt>CAR_long_chain</dt>\n",
       "\t\t<dd>2.1611582925129</dd>\n",
       "</dl>\n"
      ],
      "text/latex": [
       "\\begin{description*}\n",
       "\\item[CAR\\textbackslash{}\\_mid\\textbackslash{}\\_chain] 0.213251570021649\n",
       "\\item[CAR\\textbackslash{}\\_long\\textbackslash{}\\_chain] 2.1611582925129\n",
       "\\end{description*}\n"
      ],
      "text/markdown": [
       "CAR_mid_chain\n",
       ":   0.213251570021649CAR_long_chain\n",
       ":   2.1611582925129\n",
       "\n"
      ],
      "text/plain": [
       " CAR_mid_chain CAR_long_chain \n",
       "     0.2132516      2.1611583 "
      ]
     },
     "metadata": {},
     "output_type": "display_data"
    }
   ],
   "source": [
    "fch"
   ]
  },
  {
   "cell_type": "code",
   "execution_count": 10,
   "metadata": {
    "scrolled": false
   },
   "outputs": [],
   "source": [
    "df <- data.frame(fch,pval, pAdj)\n",
    "write.csv(df, \"CAR-time-LA-wilcox-1B-3B.csv\")"
   ]
  },
  {
   "cell_type": "code",
   "execution_count": null,
   "metadata": {},
   "outputs": [],
   "source": []
  },
  {
   "cell_type": "code",
   "execution_count": null,
   "metadata": {},
   "outputs": [],
   "source": []
  },
  {
   "cell_type": "code",
   "execution_count": null,
   "metadata": {},
   "outputs": [],
   "source": []
  },
  {
   "cell_type": "code",
   "execution_count": null,
   "metadata": {},
   "outputs": [],
   "source": []
  },
  {
   "cell_type": "code",
   "execution_count": null,
   "metadata": {},
   "outputs": [],
   "source": []
  },
  {
   "cell_type": "code",
   "execution_count": null,
   "metadata": {},
   "outputs": [],
   "source": []
  }
 ],
 "metadata": {
  "kernelspec": {
   "display_name": "R",
   "language": "R",
   "name": "ir"
  },
  "language_info": {
   "codemirror_mode": "r",
   "file_extension": ".r",
   "mimetype": "text/x-r-source",
   "name": "R",
   "pygments_lexer": "r",
   "version": "3.6.1"
  }
 },
 "nbformat": 4,
 "nbformat_minor": 2
}
