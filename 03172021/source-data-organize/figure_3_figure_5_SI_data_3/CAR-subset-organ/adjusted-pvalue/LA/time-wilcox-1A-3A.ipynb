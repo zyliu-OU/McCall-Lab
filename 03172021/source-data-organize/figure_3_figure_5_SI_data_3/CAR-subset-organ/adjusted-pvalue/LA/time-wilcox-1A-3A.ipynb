{
 "cells": [
  {
   "cell_type": "code",
   "execution_count": 1,
   "metadata": {},
   "outputs": [],
   "source": [
    "a <- read.csv(\"03172021-CAR-time-LA-M-F.csv\")"
   ]
  },
  {
   "cell_type": "code",
   "execution_count": 2,
   "metadata": {},
   "outputs": [
    {
     "data": {
      "text/html": [
       "<table>\n",
       "<thead><tr><th scope=col>filename</th><th scope=col>MouseID</th><th scope=col>Treatmentgroup</th><th scope=col>status</th><th scope=col>DPI</th><th scope=col>organ</th><th scope=col>well_position</th><th scope=col>plate</th><th scope=col>CAR_mid_chain</th><th scope=col>CAR_long_chain</th></tr></thead>\n",
       "<tbody>\n",
       "\t<tr><td>X501_Group1A_50dpi_LA_251_B_A1_P121.mzXML</td><td>501                                      </td><td>Group1A                                  </td><td>naive                                    </td><td>DPI_50                                   </td><td>LA                                       </td><td>A1                                       </td><td>P121                                     </td><td>0.00e+00                                 </td><td>0.000569214                              </td></tr>\n",
       "\t<tr><td>X502_Group1A_50dpi_LA_252_B_A2_P121.mzXML</td><td>502                                      </td><td>Group1A                                  </td><td>naive                                    </td><td>DPI_50                                   </td><td>LA                                       </td><td>A2                                       </td><td>P121                                     </td><td>3.66e-05                                 </td><td>0.004412355                              </td></tr>\n",
       "\t<tr><td>X503_Group1A_50dpi_LA_253_B_A3_P121.mzXML</td><td>503                                      </td><td>Group1A                                  </td><td>naive                                    </td><td>DPI_50                                   </td><td>LA                                       </td><td>A3                                       </td><td>P121                                     </td><td>6.04e-05                                 </td><td>0.010824450                              </td></tr>\n",
       "\t<tr><td>X504_Group1A_50dpi_LA_254_B_A4_P121.mzXML</td><td>504                                      </td><td>Group1A                                  </td><td>naive                                    </td><td>DPI_50                                   </td><td>LA                                       </td><td>A4                                       </td><td>P121                                     </td><td>1.71e-05                                 </td><td>0.004532281                              </td></tr>\n",
       "\t<tr><td>X505_Group1A_50dpi_LA_255_B_A5_P121.mzXML</td><td>505                                      </td><td>Group1A                                  </td><td>naive                                    </td><td>DPI_50                                   </td><td>LA                                       </td><td>A5                                       </td><td>P121                                     </td><td>5.10e-05                                 </td><td>0.006736306                              </td></tr>\n",
       "\t<tr><td>X521_Group1A_50dpi_LA_256_B_A6_P121.mzXML</td><td>521                                      </td><td>Group1A                                  </td><td>naive                                    </td><td>DPI_50                                   </td><td>LA                                       </td><td>A6                                       </td><td>P121                                     </td><td>4.29e-05                                 </td><td>0.009858084                              </td></tr>\n",
       "</tbody>\n",
       "</table>\n"
      ],
      "text/latex": [
       "\\begin{tabular}{r|llllllllll}\n",
       " filename & MouseID & Treatmentgroup & status & DPI & organ & well\\_position & plate & CAR\\_mid\\_chain & CAR\\_long\\_chain\\\\\n",
       "\\hline\n",
       "\t X501\\_Group1A\\_50dpi\\_LA\\_251\\_B\\_A1\\_P121.mzXML & 501                                                     & Group1A                                                 & naive                                                   & DPI\\_50                                                & LA                                                      & A1                                                      & P121                                                    & 0.00e+00                                                & 0.000569214                                            \\\\\n",
       "\t X502\\_Group1A\\_50dpi\\_LA\\_252\\_B\\_A2\\_P121.mzXML & 502                                                     & Group1A                                                 & naive                                                   & DPI\\_50                                                & LA                                                      & A2                                                      & P121                                                    & 3.66e-05                                                & 0.004412355                                            \\\\\n",
       "\t X503\\_Group1A\\_50dpi\\_LA\\_253\\_B\\_A3\\_P121.mzXML & 503                                                     & Group1A                                                 & naive                                                   & DPI\\_50                                                & LA                                                      & A3                                                      & P121                                                    & 6.04e-05                                                & 0.010824450                                            \\\\\n",
       "\t X504\\_Group1A\\_50dpi\\_LA\\_254\\_B\\_A4\\_P121.mzXML & 504                                                     & Group1A                                                 & naive                                                   & DPI\\_50                                                & LA                                                      & A4                                                      & P121                                                    & 1.71e-05                                                & 0.004532281                                            \\\\\n",
       "\t X505\\_Group1A\\_50dpi\\_LA\\_255\\_B\\_A5\\_P121.mzXML & 505                                                     & Group1A                                                 & naive                                                   & DPI\\_50                                                & LA                                                      & A5                                                      & P121                                                    & 5.10e-05                                                & 0.006736306                                            \\\\\n",
       "\t X521\\_Group1A\\_50dpi\\_LA\\_256\\_B\\_A6\\_P121.mzXML & 521                                                     & Group1A                                                 & naive                                                   & DPI\\_50                                                & LA                                                      & A6                                                      & P121                                                    & 4.29e-05                                                & 0.009858084                                            \\\\\n",
       "\\end{tabular}\n"
      ],
      "text/markdown": [
       "\n",
       "| filename | MouseID | Treatmentgroup | status | DPI | organ | well_position | plate | CAR_mid_chain | CAR_long_chain |\n",
       "|---|---|---|---|---|---|---|---|---|---|\n",
       "| X501_Group1A_50dpi_LA_251_B_A1_P121.mzXML | 501                                       | Group1A                                   | naive                                     | DPI_50                                    | LA                                        | A1                                        | P121                                      | 0.00e+00                                  | 0.000569214                               |\n",
       "| X502_Group1A_50dpi_LA_252_B_A2_P121.mzXML | 502                                       | Group1A                                   | naive                                     | DPI_50                                    | LA                                        | A2                                        | P121                                      | 3.66e-05                                  | 0.004412355                               |\n",
       "| X503_Group1A_50dpi_LA_253_B_A3_P121.mzXML | 503                                       | Group1A                                   | naive                                     | DPI_50                                    | LA                                        | A3                                        | P121                                      | 6.04e-05                                  | 0.010824450                               |\n",
       "| X504_Group1A_50dpi_LA_254_B_A4_P121.mzXML | 504                                       | Group1A                                   | naive                                     | DPI_50                                    | LA                                        | A4                                        | P121                                      | 1.71e-05                                  | 0.004532281                               |\n",
       "| X505_Group1A_50dpi_LA_255_B_A5_P121.mzXML | 505                                       | Group1A                                   | naive                                     | DPI_50                                    | LA                                        | A5                                        | P121                                      | 5.10e-05                                  | 0.006736306                               |\n",
       "| X521_Group1A_50dpi_LA_256_B_A6_P121.mzXML | 521                                       | Group1A                                   | naive                                     | DPI_50                                    | LA                                        | A6                                        | P121                                      | 4.29e-05                                  | 0.009858084                               |\n",
       "\n"
      ],
      "text/plain": [
       "  filename                                  MouseID Treatmentgroup status\n",
       "1 X501_Group1A_50dpi_LA_251_B_A1_P121.mzXML 501     Group1A        naive \n",
       "2 X502_Group1A_50dpi_LA_252_B_A2_P121.mzXML 502     Group1A        naive \n",
       "3 X503_Group1A_50dpi_LA_253_B_A3_P121.mzXML 503     Group1A        naive \n",
       "4 X504_Group1A_50dpi_LA_254_B_A4_P121.mzXML 504     Group1A        naive \n",
       "5 X505_Group1A_50dpi_LA_255_B_A5_P121.mzXML 505     Group1A        naive \n",
       "6 X521_Group1A_50dpi_LA_256_B_A6_P121.mzXML 521     Group1A        naive \n",
       "  DPI    organ well_position plate CAR_mid_chain CAR_long_chain\n",
       "1 DPI_50 LA    A1            P121  0.00e+00      0.000569214   \n",
       "2 DPI_50 LA    A2            P121  3.66e-05      0.004412355   \n",
       "3 DPI_50 LA    A3            P121  6.04e-05      0.010824450   \n",
       "4 DPI_50 LA    A4            P121  1.71e-05      0.004532281   \n",
       "5 DPI_50 LA    A5            P121  5.10e-05      0.006736306   \n",
       "6 DPI_50 LA    A6            P121  4.29e-05      0.009858084   "
      ]
     },
     "metadata": {},
     "output_type": "display_data"
    },
    {
     "data": {
      "text/html": [
       "<ol class=list-inline>\n",
       "\t<li>90</li>\n",
       "\t<li>10</li>\n",
       "</ol>\n"
      ],
      "text/latex": [
       "\\begin{enumerate*}\n",
       "\\item 90\n",
       "\\item 10\n",
       "\\end{enumerate*}\n"
      ],
      "text/markdown": [
       "1. 90\n",
       "2. 10\n",
       "\n",
       "\n"
      ],
      "text/plain": [
       "[1] 90 10"
      ]
     },
     "metadata": {},
     "output_type": "display_data"
    }
   ],
   "source": [
    "head(a)\n",
    "dim(a)"
   ]
  },
  {
   "cell_type": "code",
   "execution_count": 3,
   "metadata": {},
   "outputs": [
    {
     "data": {
      "text/html": [
       "<table>\n",
       "<thead><tr><th scope=col>filename</th><th scope=col>MouseID</th><th scope=col>Treatmentgroup</th><th scope=col>status</th><th scope=col>DPI</th><th scope=col>organ</th><th scope=col>well_position</th><th scope=col>plate</th><th scope=col>CAR_mid_chain</th><th scope=col>CAR_long_chain</th></tr></thead>\n",
       "<tbody>\n",
       "\t<tr><td>X501_Group1A_50dpi_LA_251_B_A1_P121.mzXML</td><td>501                                      </td><td>Group1A                                  </td><td>naive                                    </td><td>DPI_50                                   </td><td>LA                                       </td><td>A1                                       </td><td>P121                                     </td><td>0.00e+00                                 </td><td>0.000569214                              </td></tr>\n",
       "\t<tr><td>X502_Group1A_50dpi_LA_252_B_A2_P121.mzXML</td><td>502                                      </td><td>Group1A                                  </td><td>naive                                    </td><td>DPI_50                                   </td><td>LA                                       </td><td>A2                                       </td><td>P121                                     </td><td>3.66e-05                                 </td><td>0.004412355                              </td></tr>\n",
       "\t<tr><td>X503_Group1A_50dpi_LA_253_B_A3_P121.mzXML</td><td>503                                      </td><td>Group1A                                  </td><td>naive                                    </td><td>DPI_50                                   </td><td>LA                                       </td><td>A3                                       </td><td>P121                                     </td><td>6.04e-05                                 </td><td>0.010824450                              </td></tr>\n",
       "\t<tr><td>X504_Group1A_50dpi_LA_254_B_A4_P121.mzXML</td><td>504                                      </td><td>Group1A                                  </td><td>naive                                    </td><td>DPI_50                                   </td><td>LA                                       </td><td>A4                                       </td><td>P121                                     </td><td>1.71e-05                                 </td><td>0.004532281                              </td></tr>\n",
       "\t<tr><td>X505_Group1A_50dpi_LA_255_B_A5_P121.mzXML</td><td>505                                      </td><td>Group1A                                  </td><td>naive                                    </td><td>DPI_50                                   </td><td>LA                                       </td><td>A5                                       </td><td>P121                                     </td><td>5.10e-05                                 </td><td>0.006736306                              </td></tr>\n",
       "\t<tr><td>X521_Group1A_50dpi_LA_256_B_A6_P121.mzXML</td><td>521                                      </td><td>Group1A                                  </td><td>naive                                    </td><td>DPI_50                                   </td><td>LA                                       </td><td>A6                                       </td><td>P121                                     </td><td>4.29e-05                                 </td><td>0.009858084                              </td></tr>\n",
       "</tbody>\n",
       "</table>\n"
      ],
      "text/latex": [
       "\\begin{tabular}{r|llllllllll}\n",
       " filename & MouseID & Treatmentgroup & status & DPI & organ & well\\_position & plate & CAR\\_mid\\_chain & CAR\\_long\\_chain\\\\\n",
       "\\hline\n",
       "\t X501\\_Group1A\\_50dpi\\_LA\\_251\\_B\\_A1\\_P121.mzXML & 501                                                     & Group1A                                                 & naive                                                   & DPI\\_50                                                & LA                                                      & A1                                                      & P121                                                    & 0.00e+00                                                & 0.000569214                                            \\\\\n",
       "\t X502\\_Group1A\\_50dpi\\_LA\\_252\\_B\\_A2\\_P121.mzXML & 502                                                     & Group1A                                                 & naive                                                   & DPI\\_50                                                & LA                                                      & A2                                                      & P121                                                    & 3.66e-05                                                & 0.004412355                                            \\\\\n",
       "\t X503\\_Group1A\\_50dpi\\_LA\\_253\\_B\\_A3\\_P121.mzXML & 503                                                     & Group1A                                                 & naive                                                   & DPI\\_50                                                & LA                                                      & A3                                                      & P121                                                    & 6.04e-05                                                & 0.010824450                                            \\\\\n",
       "\t X504\\_Group1A\\_50dpi\\_LA\\_254\\_B\\_A4\\_P121.mzXML & 504                                                     & Group1A                                                 & naive                                                   & DPI\\_50                                                & LA                                                      & A4                                                      & P121                                                    & 1.71e-05                                                & 0.004532281                                            \\\\\n",
       "\t X505\\_Group1A\\_50dpi\\_LA\\_255\\_B\\_A5\\_P121.mzXML & 505                                                     & Group1A                                                 & naive                                                   & DPI\\_50                                                & LA                                                      & A5                                                      & P121                                                    & 5.10e-05                                                & 0.006736306                                            \\\\\n",
       "\t X521\\_Group1A\\_50dpi\\_LA\\_256\\_B\\_A6\\_P121.mzXML & 521                                                     & Group1A                                                 & naive                                                   & DPI\\_50                                                & LA                                                      & A6                                                      & P121                                                    & 4.29e-05                                                & 0.009858084                                            \\\\\n",
       "\\end{tabular}\n"
      ],
      "text/markdown": [
       "\n",
       "| filename | MouseID | Treatmentgroup | status | DPI | organ | well_position | plate | CAR_mid_chain | CAR_long_chain |\n",
       "|---|---|---|---|---|---|---|---|---|---|\n",
       "| X501_Group1A_50dpi_LA_251_B_A1_P121.mzXML | 501                                       | Group1A                                   | naive                                     | DPI_50                                    | LA                                        | A1                                        | P121                                      | 0.00e+00                                  | 0.000569214                               |\n",
       "| X502_Group1A_50dpi_LA_252_B_A2_P121.mzXML | 502                                       | Group1A                                   | naive                                     | DPI_50                                    | LA                                        | A2                                        | P121                                      | 3.66e-05                                  | 0.004412355                               |\n",
       "| X503_Group1A_50dpi_LA_253_B_A3_P121.mzXML | 503                                       | Group1A                                   | naive                                     | DPI_50                                    | LA                                        | A3                                        | P121                                      | 6.04e-05                                  | 0.010824450                               |\n",
       "| X504_Group1A_50dpi_LA_254_B_A4_P121.mzXML | 504                                       | Group1A                                   | naive                                     | DPI_50                                    | LA                                        | A4                                        | P121                                      | 1.71e-05                                  | 0.004532281                               |\n",
       "| X505_Group1A_50dpi_LA_255_B_A5_P121.mzXML | 505                                       | Group1A                                   | naive                                     | DPI_50                                    | LA                                        | A5                                        | P121                                      | 5.10e-05                                  | 0.006736306                               |\n",
       "| X521_Group1A_50dpi_LA_256_B_A6_P121.mzXML | 521                                       | Group1A                                   | naive                                     | DPI_50                                    | LA                                        | A6                                        | P121                                      | 4.29e-05                                  | 0.009858084                               |\n",
       "\n"
      ],
      "text/plain": [
       "  filename                                  MouseID Treatmentgroup status\n",
       "1 X501_Group1A_50dpi_LA_251_B_A1_P121.mzXML 501     Group1A        naive \n",
       "2 X502_Group1A_50dpi_LA_252_B_A2_P121.mzXML 502     Group1A        naive \n",
       "3 X503_Group1A_50dpi_LA_253_B_A3_P121.mzXML 503     Group1A        naive \n",
       "4 X504_Group1A_50dpi_LA_254_B_A4_P121.mzXML 504     Group1A        naive \n",
       "5 X505_Group1A_50dpi_LA_255_B_A5_P121.mzXML 505     Group1A        naive \n",
       "6 X521_Group1A_50dpi_LA_256_B_A6_P121.mzXML 521     Group1A        naive \n",
       "  DPI    organ well_position plate CAR_mid_chain CAR_long_chain\n",
       "1 DPI_50 LA    A1            P121  0.00e+00      0.000569214   \n",
       "2 DPI_50 LA    A2            P121  3.66e-05      0.004412355   \n",
       "3 DPI_50 LA    A3            P121  6.04e-05      0.010824450   \n",
       "4 DPI_50 LA    A4            P121  1.71e-05      0.004532281   \n",
       "5 DPI_50 LA    A5            P121  5.10e-05      0.006736306   \n",
       "6 DPI_50 LA    A6            P121  4.29e-05      0.009858084   "
      ]
     },
     "metadata": {},
     "output_type": "display_data"
    },
    {
     "data": {
      "text/html": [
       "<ol class=list-inline>\n",
       "\t<li>30</li>\n",
       "\t<li>10</li>\n",
       "</ol>\n"
      ],
      "text/latex": [
       "\\begin{enumerate*}\n",
       "\\item 30\n",
       "\\item 10\n",
       "\\end{enumerate*}\n"
      ],
      "text/markdown": [
       "1. 30\n",
       "2. 10\n",
       "\n",
       "\n"
      ],
      "text/plain": [
       "[1] 30 10"
      ]
     },
     "metadata": {},
     "output_type": "display_data"
    }
   ],
   "source": [
    "features_pos<-droplevels(subset(a, a$Treatmentgroup==c(\"Group1A\")|a$Treatmentgroup==c(\"Group3A\")))\n",
    "head(features_pos)\n",
    "dim(features_pos)"
   ]
  },
  {
   "cell_type": "code",
   "execution_count": 4,
   "metadata": {
    "scrolled": false
   },
   "outputs": [
    {
     "data": {
      "text/html": [
       "<table>\n",
       "<thead><tr><th scope=col>CAR_mid_chain</th><th scope=col>CAR_long_chain</th></tr></thead>\n",
       "<tbody>\n",
       "\t<tr><td>0.00e+00   </td><td>0.000569214</td></tr>\n",
       "\t<tr><td>3.66e-05   </td><td>0.004412355</td></tr>\n",
       "\t<tr><td>6.04e-05   </td><td>0.010824450</td></tr>\n",
       "\t<tr><td>1.71e-05   </td><td>0.004532281</td></tr>\n",
       "\t<tr><td>5.10e-05   </td><td>0.006736306</td></tr>\n",
       "\t<tr><td>4.29e-05   </td><td>0.009858084</td></tr>\n",
       "</tbody>\n",
       "</table>\n"
      ],
      "text/latex": [
       "\\begin{tabular}{r|ll}\n",
       " CAR\\_mid\\_chain & CAR\\_long\\_chain\\\\\n",
       "\\hline\n",
       "\t 0.00e+00    & 0.000569214\\\\\n",
       "\t 3.66e-05    & 0.004412355\\\\\n",
       "\t 6.04e-05    & 0.010824450\\\\\n",
       "\t 1.71e-05    & 0.004532281\\\\\n",
       "\t 5.10e-05    & 0.006736306\\\\\n",
       "\t 4.29e-05    & 0.009858084\\\\\n",
       "\\end{tabular}\n"
      ],
      "text/markdown": [
       "\n",
       "| CAR_mid_chain | CAR_long_chain |\n",
       "|---|---|\n",
       "| 0.00e+00    | 0.000569214 |\n",
       "| 3.66e-05    | 0.004412355 |\n",
       "| 6.04e-05    | 0.010824450 |\n",
       "| 1.71e-05    | 0.004532281 |\n",
       "| 5.10e-05    | 0.006736306 |\n",
       "| 4.29e-05    | 0.009858084 |\n",
       "\n"
      ],
      "text/plain": [
       "  CAR_mid_chain CAR_long_chain\n",
       "1 0.00e+00      0.000569214   \n",
       "2 3.66e-05      0.004412355   \n",
       "3 6.04e-05      0.010824450   \n",
       "4 1.71e-05      0.004532281   \n",
       "5 5.10e-05      0.006736306   \n",
       "6 4.29e-05      0.009858084   "
      ]
     },
     "metadata": {},
     "output_type": "display_data"
    },
    {
     "data": {
      "text/html": [
       "<dl class=dl-horizontal>\n",
       "\t<dt>CAR_mid_chain</dt>\n",
       "\t\t<dd>1</dd>\n",
       "\t<dt>CAR_long_chain</dt>\n",
       "\t\t<dd>2</dd>\n",
       "</dl>\n"
      ],
      "text/latex": [
       "\\begin{description*}\n",
       "\\item[CAR\\textbackslash{}\\_mid\\textbackslash{}\\_chain] 1\n",
       "\\item[CAR\\textbackslash{}\\_long\\textbackslash{}\\_chain] 2\n",
       "\\end{description*}\n"
      ],
      "text/markdown": [
       "CAR_mid_chain\n",
       ":   1CAR_long_chain\n",
       ":   2\n",
       "\n"
      ],
      "text/plain": [
       " CAR_mid_chain CAR_long_chain \n",
       "             1              2 "
      ]
     },
     "metadata": {},
     "output_type": "display_data"
    },
    {
     "data": {
      "text/html": [
       "<table>\n",
       "<thead><tr><th></th><th scope=col>CAR_mid_chain</th><th scope=col>CAR_long_chain</th></tr></thead>\n",
       "<tbody>\n",
       "\t<tr><th scope=row>1</th><td>0.000000000</td><td>0.000569214</td></tr>\n",
       "\t<tr><th scope=row>2</th><td>0.000036600</td><td>0.004412355</td></tr>\n",
       "\t<tr><th scope=row>3</th><td>0.000060400</td><td>0.010824450</td></tr>\n",
       "\t<tr><th scope=row>4</th><td>0.000017100</td><td>0.004532281</td></tr>\n",
       "\t<tr><th scope=row>5</th><td>0.000051000</td><td>0.006736306</td></tr>\n",
       "\t<tr><th scope=row>6</th><td>0.000042900</td><td>0.009858084</td></tr>\n",
       "\t<tr><th scope=row>7</th><td>0.000158276</td><td>0.009241265</td></tr>\n",
       "\t<tr><th scope=row>8</th><td>0.000000000</td><td>0.001118359</td></tr>\n",
       "\t<tr><th scope=row>9</th><td>0.000000000</td><td>0.001817576</td></tr>\n",
       "\t<tr><th scope=row>10</th><td>0.000000000</td><td>0.000890300</td></tr>\n",
       "\t<tr><th scope=row>11</th><td>0.000022400</td><td>0.006727007</td></tr>\n",
       "\t<tr><th scope=row>12</th><td>0.000000000</td><td>0.004383209</td></tr>\n",
       "\t<tr><th scope=row>13</th><td>0.000000000</td><td>0.000364128</td></tr>\n",
       "\t<tr><th scope=row>14</th><td>0.000029700</td><td>0.002597334</td></tr>\n",
       "\t<tr><th scope=row>15</th><td>0.000000000</td><td>0.001254499</td></tr>\n",
       "\t<tr><th scope=row>46</th><td>0.000000000</td><td>0.004190287</td></tr>\n",
       "\t<tr><th scope=row>47</th><td>0.000000000</td><td>0.003405855</td></tr>\n",
       "\t<tr><th scope=row>48</th><td>0.000000000</td><td>0.001487063</td></tr>\n",
       "\t<tr><th scope=row>49</th><td>0.000000000</td><td>0.004110366</td></tr>\n",
       "\t<tr><th scope=row>50</th><td>0.000000000</td><td>0.000355680</td></tr>\n",
       "\t<tr><th scope=row>51</th><td>0.000000000</td><td>0.001576815</td></tr>\n",
       "\t<tr><th scope=row>52</th><td>0.000000000</td><td>0.001769642</td></tr>\n",
       "\t<tr><th scope=row>53</th><td>0.000000000</td><td>0.000000000</td></tr>\n",
       "\t<tr><th scope=row>54</th><td>0.000172800</td><td>0.003741154</td></tr>\n",
       "\t<tr><th scope=row>55</th><td>0.000559000</td><td>0.014973008</td></tr>\n",
       "\t<tr><th scope=row>56</th><td>0.000104853</td><td>0.004022789</td></tr>\n",
       "\t<tr><th scope=row>57</th><td>0.000000000</td><td>0.000000000</td></tr>\n",
       "\t<tr><th scope=row>58</th><td>0.000000000</td><td>0.002954629</td></tr>\n",
       "\t<tr><th scope=row>59</th><td>0.000000000</td><td>0.001050012</td></tr>\n",
       "\t<tr><th scope=row>60</th><td>0.000000000</td><td>0.001273196</td></tr>\n",
       "</tbody>\n",
       "</table>\n"
      ],
      "text/latex": [
       "\\begin{tabular}{r|ll}\n",
       "  & CAR\\_mid\\_chain & CAR\\_long\\_chain\\\\\n",
       "\\hline\n",
       "\t1 & 0.000000000 & 0.000569214\\\\\n",
       "\t2 & 0.000036600 & 0.004412355\\\\\n",
       "\t3 & 0.000060400 & 0.010824450\\\\\n",
       "\t4 & 0.000017100 & 0.004532281\\\\\n",
       "\t5 & 0.000051000 & 0.006736306\\\\\n",
       "\t6 & 0.000042900 & 0.009858084\\\\\n",
       "\t7 & 0.000158276 & 0.009241265\\\\\n",
       "\t8 & 0.000000000 & 0.001118359\\\\\n",
       "\t9 & 0.000000000 & 0.001817576\\\\\n",
       "\t10 & 0.000000000 & 0.000890300\\\\\n",
       "\t11 & 0.000022400 & 0.006727007\\\\\n",
       "\t12 & 0.000000000 & 0.004383209\\\\\n",
       "\t13 & 0.000000000 & 0.000364128\\\\\n",
       "\t14 & 0.000029700 & 0.002597334\\\\\n",
       "\t15 & 0.000000000 & 0.001254499\\\\\n",
       "\t46 & 0.000000000 & 0.004190287\\\\\n",
       "\t47 & 0.000000000 & 0.003405855\\\\\n",
       "\t48 & 0.000000000 & 0.001487063\\\\\n",
       "\t49 & 0.000000000 & 0.004110366\\\\\n",
       "\t50 & 0.000000000 & 0.000355680\\\\\n",
       "\t51 & 0.000000000 & 0.001576815\\\\\n",
       "\t52 & 0.000000000 & 0.001769642\\\\\n",
       "\t53 & 0.000000000 & 0.000000000\\\\\n",
       "\t54 & 0.000172800 & 0.003741154\\\\\n",
       "\t55 & 0.000559000 & 0.014973008\\\\\n",
       "\t56 & 0.000104853 & 0.004022789\\\\\n",
       "\t57 & 0.000000000 & 0.000000000\\\\\n",
       "\t58 & 0.000000000 & 0.002954629\\\\\n",
       "\t59 & 0.000000000 & 0.001050012\\\\\n",
       "\t60 & 0.000000000 & 0.001273196\\\\\n",
       "\\end{tabular}\n"
      ],
      "text/markdown": [
       "\n",
       "| <!--/--> | CAR_mid_chain | CAR_long_chain |\n",
       "|---|---|---|\n",
       "| 1 | 0.000000000 | 0.000569214 |\n",
       "| 2 | 0.000036600 | 0.004412355 |\n",
       "| 3 | 0.000060400 | 0.010824450 |\n",
       "| 4 | 0.000017100 | 0.004532281 |\n",
       "| 5 | 0.000051000 | 0.006736306 |\n",
       "| 6 | 0.000042900 | 0.009858084 |\n",
       "| 7 | 0.000158276 | 0.009241265 |\n",
       "| 8 | 0.000000000 | 0.001118359 |\n",
       "| 9 | 0.000000000 | 0.001817576 |\n",
       "| 10 | 0.000000000 | 0.000890300 |\n",
       "| 11 | 0.000022400 | 0.006727007 |\n",
       "| 12 | 0.000000000 | 0.004383209 |\n",
       "| 13 | 0.000000000 | 0.000364128 |\n",
       "| 14 | 0.000029700 | 0.002597334 |\n",
       "| 15 | 0.000000000 | 0.001254499 |\n",
       "| 46 | 0.000000000 | 0.004190287 |\n",
       "| 47 | 0.000000000 | 0.003405855 |\n",
       "| 48 | 0.000000000 | 0.001487063 |\n",
       "| 49 | 0.000000000 | 0.004110366 |\n",
       "| 50 | 0.000000000 | 0.000355680 |\n",
       "| 51 | 0.000000000 | 0.001576815 |\n",
       "| 52 | 0.000000000 | 0.001769642 |\n",
       "| 53 | 0.000000000 | 0.000000000 |\n",
       "| 54 | 0.000172800 | 0.003741154 |\n",
       "| 55 | 0.000559000 | 0.014973008 |\n",
       "| 56 | 0.000104853 | 0.004022789 |\n",
       "| 57 | 0.000000000 | 0.000000000 |\n",
       "| 58 | 0.000000000 | 0.002954629 |\n",
       "| 59 | 0.000000000 | 0.001050012 |\n",
       "| 60 | 0.000000000 | 0.001273196 |\n",
       "\n"
      ],
      "text/plain": [
       "   CAR_mid_chain CAR_long_chain\n",
       "1  0.000000000   0.000569214   \n",
       "2  0.000036600   0.004412355   \n",
       "3  0.000060400   0.010824450   \n",
       "4  0.000017100   0.004532281   \n",
       "5  0.000051000   0.006736306   \n",
       "6  0.000042900   0.009858084   \n",
       "7  0.000158276   0.009241265   \n",
       "8  0.000000000   0.001118359   \n",
       "9  0.000000000   0.001817576   \n",
       "10 0.000000000   0.000890300   \n",
       "11 0.000022400   0.006727007   \n",
       "12 0.000000000   0.004383209   \n",
       "13 0.000000000   0.000364128   \n",
       "14 0.000029700   0.002597334   \n",
       "15 0.000000000   0.001254499   \n",
       "46 0.000000000   0.004190287   \n",
       "47 0.000000000   0.003405855   \n",
       "48 0.000000000   0.001487063   \n",
       "49 0.000000000   0.004110366   \n",
       "50 0.000000000   0.000355680   \n",
       "51 0.000000000   0.001576815   \n",
       "52 0.000000000   0.001769642   \n",
       "53 0.000000000   0.000000000   \n",
       "54 0.000172800   0.003741154   \n",
       "55 0.000559000   0.014973008   \n",
       "56 0.000104853   0.004022789   \n",
       "57 0.000000000   0.000000000   \n",
       "58 0.000000000   0.002954629   \n",
       "59 0.000000000   0.001050012   \n",
       "60 0.000000000   0.001273196   "
      ]
     },
     "metadata": {},
     "output_type": "display_data"
    },
    {
     "data": {
      "text/html": [
       "<table>\n",
       "<thead><tr><th scope=col>filename</th><th scope=col>MouseID</th><th scope=col>Treatmentgroup</th><th scope=col>status</th><th scope=col>DPI</th><th scope=col>organ</th><th scope=col>well_position</th><th scope=col>plate</th><th scope=col>CAR_mid_chain</th><th scope=col>CAR_long_chain</th></tr></thead>\n",
       "<tbody>\n",
       "\t<tr><td>X501_Group1A_50dpi_LA_251_B_A1_P121.mzXML</td><td>501                                      </td><td>Group1A                                  </td><td>naive                                    </td><td>DPI_50                                   </td><td>LA                                       </td><td>A1                                       </td><td>P121                                     </td><td>0.00e+00                                 </td><td>0.000569214                              </td></tr>\n",
       "\t<tr><td>X502_Group1A_50dpi_LA_252_B_A2_P121.mzXML</td><td>502                                      </td><td>Group1A                                  </td><td>naive                                    </td><td>DPI_50                                   </td><td>LA                                       </td><td>A2                                       </td><td>P121                                     </td><td>3.66e-05                                 </td><td>0.004412355                              </td></tr>\n",
       "\t<tr><td>X503_Group1A_50dpi_LA_253_B_A3_P121.mzXML</td><td>503                                      </td><td>Group1A                                  </td><td>naive                                    </td><td>DPI_50                                   </td><td>LA                                       </td><td>A3                                       </td><td>P121                                     </td><td>6.04e-05                                 </td><td>0.010824450                              </td></tr>\n",
       "\t<tr><td>X504_Group1A_50dpi_LA_254_B_A4_P121.mzXML</td><td>504                                      </td><td>Group1A                                  </td><td>naive                                    </td><td>DPI_50                                   </td><td>LA                                       </td><td>A4                                       </td><td>P121                                     </td><td>1.71e-05                                 </td><td>0.004532281                              </td></tr>\n",
       "\t<tr><td>X505_Group1A_50dpi_LA_255_B_A5_P121.mzXML</td><td>505                                      </td><td>Group1A                                  </td><td>naive                                    </td><td>DPI_50                                   </td><td>LA                                       </td><td>A5                                       </td><td>P121                                     </td><td>5.10e-05                                 </td><td>0.006736306                              </td></tr>\n",
       "\t<tr><td>X521_Group1A_50dpi_LA_256_B_A6_P121.mzXML</td><td>521                                      </td><td>Group1A                                  </td><td>naive                                    </td><td>DPI_50                                   </td><td>LA                                       </td><td>A6                                       </td><td>P121                                     </td><td>4.29e-05                                 </td><td>0.009858084                              </td></tr>\n",
       "</tbody>\n",
       "</table>\n"
      ],
      "text/latex": [
       "\\begin{tabular}{r|llllllllll}\n",
       " filename & MouseID & Treatmentgroup & status & DPI & organ & well\\_position & plate & CAR\\_mid\\_chain & CAR\\_long\\_chain\\\\\n",
       "\\hline\n",
       "\t X501\\_Group1A\\_50dpi\\_LA\\_251\\_B\\_A1\\_P121.mzXML & 501                                                     & Group1A                                                 & naive                                                   & DPI\\_50                                                & LA                                                      & A1                                                      & P121                                                    & 0.00e+00                                                & 0.000569214                                            \\\\\n",
       "\t X502\\_Group1A\\_50dpi\\_LA\\_252\\_B\\_A2\\_P121.mzXML & 502                                                     & Group1A                                                 & naive                                                   & DPI\\_50                                                & LA                                                      & A2                                                      & P121                                                    & 3.66e-05                                                & 0.004412355                                            \\\\\n",
       "\t X503\\_Group1A\\_50dpi\\_LA\\_253\\_B\\_A3\\_P121.mzXML & 503                                                     & Group1A                                                 & naive                                                   & DPI\\_50                                                & LA                                                      & A3                                                      & P121                                                    & 6.04e-05                                                & 0.010824450                                            \\\\\n",
       "\t X504\\_Group1A\\_50dpi\\_LA\\_254\\_B\\_A4\\_P121.mzXML & 504                                                     & Group1A                                                 & naive                                                   & DPI\\_50                                                & LA                                                      & A4                                                      & P121                                                    & 1.71e-05                                                & 0.004532281                                            \\\\\n",
       "\t X505\\_Group1A\\_50dpi\\_LA\\_255\\_B\\_A5\\_P121.mzXML & 505                                                     & Group1A                                                 & naive                                                   & DPI\\_50                                                & LA                                                      & A5                                                      & P121                                                    & 5.10e-05                                                & 0.006736306                                            \\\\\n",
       "\t X521\\_Group1A\\_50dpi\\_LA\\_256\\_B\\_A6\\_P121.mzXML & 521                                                     & Group1A                                                 & naive                                                   & DPI\\_50                                                & LA                                                      & A6                                                      & P121                                                    & 4.29e-05                                                & 0.009858084                                            \\\\\n",
       "\\end{tabular}\n"
      ],
      "text/markdown": [
       "\n",
       "| filename | MouseID | Treatmentgroup | status | DPI | organ | well_position | plate | CAR_mid_chain | CAR_long_chain |\n",
       "|---|---|---|---|---|---|---|---|---|---|\n",
       "| X501_Group1A_50dpi_LA_251_B_A1_P121.mzXML | 501                                       | Group1A                                   | naive                                     | DPI_50                                    | LA                                        | A1                                        | P121                                      | 0.00e+00                                  | 0.000569214                               |\n",
       "| X502_Group1A_50dpi_LA_252_B_A2_P121.mzXML | 502                                       | Group1A                                   | naive                                     | DPI_50                                    | LA                                        | A2                                        | P121                                      | 3.66e-05                                  | 0.004412355                               |\n",
       "| X503_Group1A_50dpi_LA_253_B_A3_P121.mzXML | 503                                       | Group1A                                   | naive                                     | DPI_50                                    | LA                                        | A3                                        | P121                                      | 6.04e-05                                  | 0.010824450                               |\n",
       "| X504_Group1A_50dpi_LA_254_B_A4_P121.mzXML | 504                                       | Group1A                                   | naive                                     | DPI_50                                    | LA                                        | A4                                        | P121                                      | 1.71e-05                                  | 0.004532281                               |\n",
       "| X505_Group1A_50dpi_LA_255_B_A5_P121.mzXML | 505                                       | Group1A                                   | naive                                     | DPI_50                                    | LA                                        | A5                                        | P121                                      | 5.10e-05                                  | 0.006736306                               |\n",
       "| X521_Group1A_50dpi_LA_256_B_A6_P121.mzXML | 521                                       | Group1A                                   | naive                                     | DPI_50                                    | LA                                        | A6                                        | P121                                      | 4.29e-05                                  | 0.009858084                               |\n",
       "\n"
      ],
      "text/plain": [
       "  filename                                  MouseID Treatmentgroup status\n",
       "1 X501_Group1A_50dpi_LA_251_B_A1_P121.mzXML 501     Group1A        naive \n",
       "2 X502_Group1A_50dpi_LA_252_B_A2_P121.mzXML 502     Group1A        naive \n",
       "3 X503_Group1A_50dpi_LA_253_B_A3_P121.mzXML 503     Group1A        naive \n",
       "4 X504_Group1A_50dpi_LA_254_B_A4_P121.mzXML 504     Group1A        naive \n",
       "5 X505_Group1A_50dpi_LA_255_B_A5_P121.mzXML 505     Group1A        naive \n",
       "6 X521_Group1A_50dpi_LA_256_B_A6_P121.mzXML 521     Group1A        naive \n",
       "  DPI    organ well_position plate CAR_mid_chain CAR_long_chain\n",
       "1 DPI_50 LA    A1            P121  0.00e+00      0.000569214   \n",
       "2 DPI_50 LA    A2            P121  3.66e-05      0.004412355   \n",
       "3 DPI_50 LA    A3            P121  6.04e-05      0.010824450   \n",
       "4 DPI_50 LA    A4            P121  1.71e-05      0.004532281   \n",
       "5 DPI_50 LA    A5            P121  5.10e-05      0.006736306   \n",
       "6 DPI_50 LA    A6            P121  4.29e-05      0.009858084   "
      ]
     },
     "metadata": {},
     "output_type": "display_data"
    },
    {
     "data": {
      "text/html": [
       "<ol class=list-inline>\n",
       "\t<li>30</li>\n",
       "\t<li>10</li>\n",
       "</ol>\n"
      ],
      "text/latex": [
       "\\begin{enumerate*}\n",
       "\\item 30\n",
       "\\item 10\n",
       "\\end{enumerate*}\n"
      ],
      "text/markdown": [
       "1. 30\n",
       "2. 10\n",
       "\n",
       "\n"
      ],
      "text/plain": [
       "[1] 30 10"
      ]
     },
     "metadata": {},
     "output_type": "display_data"
    },
    {
     "data": {
      "text/html": [
       "<ol class=list-inline>\n",
       "\t<li>30</li>\n",
       "\t<li>2</li>\n",
       "</ol>\n"
      ],
      "text/latex": [
       "\\begin{enumerate*}\n",
       "\\item 30\n",
       "\\item 2\n",
       "\\end{enumerate*}\n"
      ],
      "text/markdown": [
       "1. 30\n",
       "2. 2\n",
       "\n",
       "\n"
      ],
      "text/plain": [
       "[1] 30  2"
      ]
     },
     "metadata": {},
     "output_type": "display_data"
    },
    {
     "data": {
      "text/html": [
       "<ol class=list-inline>\n",
       "\t<li>30</li>\n",
       "\t<li>2</li>\n",
       "</ol>\n"
      ],
      "text/latex": [
       "\\begin{enumerate*}\n",
       "\\item 30\n",
       "\\item 2\n",
       "\\end{enumerate*}\n"
      ],
      "text/markdown": [
       "1. 30\n",
       "2. 2\n",
       "\n",
       "\n"
      ],
      "text/plain": [
       "[1] 30  2"
      ]
     },
     "metadata": {},
     "output_type": "display_data"
    },
    {
     "data": {
      "text/html": [
       "<ol class=list-inline>\n",
       "\t<li>30</li>\n",
       "\t<li>10</li>\n",
       "</ol>\n"
      ],
      "text/latex": [
       "\\begin{enumerate*}\n",
       "\\item 30\n",
       "\\item 10\n",
       "\\end{enumerate*}\n"
      ],
      "text/markdown": [
       "1. 30\n",
       "2. 10\n",
       "\n",
       "\n"
      ],
      "text/plain": [
       "[1] 30 10"
      ]
     },
     "metadata": {},
     "output_type": "display_data"
    }
   ],
   "source": [
    "noMeta<-features_pos[,9:10]\n",
    "head(noMeta)\n",
    "not_zero<-which(colSums(noMeta) != 0)\n",
    "head(not_zero)\n",
    "nonzero <- noMeta[, not_zero]\n",
    "nonzero\n",
    "nonzero_wMeta<-cbind(features_pos[,1:8], nonzero)\n",
    "head(nonzero_wMeta)\n",
    "dim(features_pos)\n",
    "dim(noMeta)\n",
    "dim(nonzero)\n",
    "dim(nonzero_wMeta)"
   ]
  },
  {
   "cell_type": "code",
   "execution_count": 5,
   "metadata": {
    "scrolled": true
   },
   "outputs": [
    {
     "name": "stderr",
     "output_type": "stream",
     "text": [
      "Warning message in wilcox.test.default(x = c(0, 3.66e-05, 6.04e-05, 1.71e-05, 5.1e-05, :\n",
      "\"cannot compute exact p-value with ties\"Warning message in wilcox.test.default(x = c(0.000569214, 0.004412355, 0.01082445, :\n",
      "\"cannot compute exact p-value with ties\""
     ]
    },
    {
     "data": {
      "text/html": [
       "<ol class=list-inline>\n",
       "\t<li>0.211930178824504</li>\n",
       "\t<li>0.184361246043808</li>\n",
       "</ol>\n"
      ],
      "text/latex": [
       "\\begin{enumerate*}\n",
       "\\item 0.211930178824504\n",
       "\\item 0.184361246043808\n",
       "\\end{enumerate*}\n"
      ],
      "text/markdown": [
       "1. 0.211930178824504\n",
       "2. 0.184361246043808\n",
       "\n",
       "\n"
      ],
      "text/plain": [
       "[1] 0.2119302 0.1843612"
      ]
     },
     "metadata": {},
     "output_type": "display_data"
    },
    {
     "data": {
      "text/html": [
       "<ol class=list-inline>\n",
       "\t<li>0.211930178824504</li>\n",
       "\t<li>0.211930178824504</li>\n",
       "</ol>\n"
      ],
      "text/latex": [
       "\\begin{enumerate*}\n",
       "\\item 0.211930178824504\n",
       "\\item 0.211930178824504\n",
       "\\end{enumerate*}\n"
      ],
      "text/markdown": [
       "1. 0.211930178824504\n",
       "2. 0.211930178824504\n",
       "\n",
       "\n"
      ],
      "text/plain": [
       "[1] 0.2119302 0.2119302"
      ]
     },
     "metadata": {},
     "output_type": "display_data"
    }
   ],
   "source": [
    "pval<-c()\n",
    "\n",
    "for (i in 9:ncol(nonzero_wMeta)) \n",
    "pval<-c(pval,wilcox.test(nonzero_wMeta[,i]~nonzero_wMeta$Treatmentgroup)$p.value)\n",
    "head(pval) \n",
    "pAdj <- p.adjust(pval, method = c(\"fdr\"), n=length(pval)) \n",
    "head(pAdj) \n",
    "\n"
   ]
  },
  {
   "cell_type": "code",
   "execution_count": 6,
   "metadata": {
    "scrolled": true
   },
   "outputs": [
    {
     "data": {
      "text/html": [
       "2"
      ],
      "text/latex": [
       "2"
      ],
      "text/markdown": [
       "2"
      ],
      "text/plain": [
       "[1] 2"
      ]
     },
     "metadata": {},
     "output_type": "display_data"
    }
   ],
   "source": [
    "length(pval)"
   ]
  },
  {
   "cell_type": "code",
   "execution_count": 7,
   "metadata": {
    "scrolled": true
   },
   "outputs": [
    {
     "data": {
      "text/html": [
       "2"
      ],
      "text/latex": [
       "2"
      ],
      "text/markdown": [
       "2"
      ],
      "text/plain": [
       "[1] 2"
      ]
     },
     "metadata": {},
     "output_type": "display_data"
    }
   ],
   "source": [
    "length(pAdj)"
   ]
  },
  {
   "cell_type": "code",
   "execution_count": 8,
   "metadata": {},
   "outputs": [
    {
     "data": {
      "text/html": [
       "<ol class=list-inline>\n",
       "\t<li>2</li>\n",
       "\t<li>2</li>\n",
       "</ol>\n"
      ],
      "text/latex": [
       "\\begin{enumerate*}\n",
       "\\item 2\n",
       "\\item 2\n",
       "\\end{enumerate*}\n"
      ],
      "text/markdown": [
       "1. 2\n",
       "2. 2\n",
       "\n",
       "\n"
      ],
      "text/plain": [
       "[1] 2 2"
      ]
     },
     "metadata": {},
     "output_type": "display_data"
    },
    {
     "data": {
      "text/html": [
       "<table>\n",
       "<thead><tr><th></th><th scope=col>CAR_mid_chain</th><th scope=col>CAR_long_chain</th></tr></thead>\n",
       "<tbody>\n",
       "\t<tr><th scope=row>Group1A</th><td>2.789173e-05</td><td>0.004355091 </td></tr>\n",
       "\t<tr><th scope=row>Group3A</th><td>5.577687e-05</td><td>0.002994033 </td></tr>\n",
       "</tbody>\n",
       "</table>\n"
      ],
      "text/latex": [
       "\\begin{tabular}{r|ll}\n",
       "  & CAR\\_mid\\_chain & CAR\\_long\\_chain\\\\\n",
       "\\hline\n",
       "\tGroup1A & 2.789173e-05 & 0.004355091 \\\\\n",
       "\tGroup3A & 5.577687e-05 & 0.002994033 \\\\\n",
       "\\end{tabular}\n"
      ],
      "text/markdown": [
       "\n",
       "| <!--/--> | CAR_mid_chain | CAR_long_chain |\n",
       "|---|---|---|\n",
       "| Group1A | 2.789173e-05 | 0.004355091  |\n",
       "| Group3A | 5.577687e-05 | 0.002994033  |\n",
       "\n"
      ],
      "text/plain": [
       "        CAR_mid_chain CAR_long_chain\n",
       "Group1A 2.789173e-05  0.004355091   \n",
       "Group3A 5.577687e-05  0.002994033   "
      ]
     },
     "metadata": {},
     "output_type": "display_data"
    },
    {
     "data": {
      "text/html": [
       "<dl class=dl-horizontal>\n",
       "\t<dt>CAR_mid_chain</dt>\n",
       "\t\t<dd>0.500059164313043</dd>\n",
       "\t<dt>CAR_long_chain</dt>\n",
       "\t\t<dd>1.45459019201213</dd>\n",
       "</dl>\n"
      ],
      "text/latex": [
       "\\begin{description*}\n",
       "\\item[CAR\\textbackslash{}\\_mid\\textbackslash{}\\_chain] 0.500059164313043\n",
       "\\item[CAR\\textbackslash{}\\_long\\textbackslash{}\\_chain] 1.45459019201213\n",
       "\\end{description*}\n"
      ],
      "text/markdown": [
       "CAR_mid_chain\n",
       ":   0.500059164313043CAR_long_chain\n",
       ":   1.45459019201213\n",
       "\n"
      ],
      "text/plain": [
       " CAR_mid_chain CAR_long_chain \n",
       "     0.5000592      1.4545902 "
      ]
     },
     "metadata": {},
     "output_type": "display_data"
    },
    {
     "data": {
      "text/html": [
       "<ol class=list-inline>\n",
       "\t<li>'numeric'</li>\n",
       "\t<li>'vector'</li>\n",
       "</ol>\n"
      ],
      "text/latex": [
       "\\begin{enumerate*}\n",
       "\\item 'numeric'\n",
       "\\item 'vector'\n",
       "\\end{enumerate*}\n"
      ],
      "text/markdown": [
       "1. 'numeric'\n",
       "2. 'vector'\n",
       "\n",
       "\n"
      ],
      "text/plain": [
       "[1] \"numeric\" \"vector\" "
      ]
     },
     "metadata": {},
     "output_type": "display_data"
    }
   ],
   "source": [
    "avg<- apply(nonzero_wMeta[,9:ncol(nonzero_wMeta)], 2, function(x) tapply(x, nonzero_wMeta$Treatmentgroup, function(x) mean(x))) \n",
    "\n",
    "dim(avg)\n",
    "\n",
    "avg[,1:2]\n",
    "\n",
    "fch <- apply(avg, 2, function(x) x[1]/x[2])\n",
    "\n",
    "head(fch)\n",
    "is(fch)"
   ]
  },
  {
   "cell_type": "code",
   "execution_count": 9,
   "metadata": {
    "scrolled": true
   },
   "outputs": [
    {
     "data": {
      "text/html": [
       "<dl class=dl-horizontal>\n",
       "\t<dt>CAR_mid_chain</dt>\n",
       "\t\t<dd>0.500059164313043</dd>\n",
       "\t<dt>CAR_long_chain</dt>\n",
       "\t\t<dd>1.45459019201213</dd>\n",
       "</dl>\n"
      ],
      "text/latex": [
       "\\begin{description*}\n",
       "\\item[CAR\\textbackslash{}\\_mid\\textbackslash{}\\_chain] 0.500059164313043\n",
       "\\item[CAR\\textbackslash{}\\_long\\textbackslash{}\\_chain] 1.45459019201213\n",
       "\\end{description*}\n"
      ],
      "text/markdown": [
       "CAR_mid_chain\n",
       ":   0.500059164313043CAR_long_chain\n",
       ":   1.45459019201213\n",
       "\n"
      ],
      "text/plain": [
       " CAR_mid_chain CAR_long_chain \n",
       "     0.5000592      1.4545902 "
      ]
     },
     "metadata": {},
     "output_type": "display_data"
    }
   ],
   "source": [
    "fch"
   ]
  },
  {
   "cell_type": "code",
   "execution_count": 10,
   "metadata": {
    "scrolled": false
   },
   "outputs": [],
   "source": [
    "df <- data.frame(fch,pval, pAdj)\n",
    "write.csv(df, \"CAR-time-LA-wilcox-1A-3A.csv\")"
   ]
  },
  {
   "cell_type": "code",
   "execution_count": null,
   "metadata": {},
   "outputs": [],
   "source": []
  },
  {
   "cell_type": "code",
   "execution_count": null,
   "metadata": {},
   "outputs": [],
   "source": []
  },
  {
   "cell_type": "code",
   "execution_count": null,
   "metadata": {},
   "outputs": [],
   "source": []
  },
  {
   "cell_type": "code",
   "execution_count": null,
   "metadata": {},
   "outputs": [],
   "source": []
  },
  {
   "cell_type": "code",
   "execution_count": null,
   "metadata": {},
   "outputs": [],
   "source": []
  },
  {
   "cell_type": "code",
   "execution_count": null,
   "metadata": {},
   "outputs": [],
   "source": []
  }
 ],
 "metadata": {
  "kernelspec": {
   "display_name": "R",
   "language": "R",
   "name": "ir"
  },
  "language_info": {
   "codemirror_mode": "r",
   "file_extension": ".r",
   "mimetype": "text/x-r-source",
   "name": "R",
   "pygments_lexer": "r",
   "version": "3.6.1"
  }
 },
 "nbformat": 4,
 "nbformat_minor": 2
}
