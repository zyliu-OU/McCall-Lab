{
 "cells": [
  {
   "cell_type": "code",
   "execution_count": 1,
   "metadata": {},
   "outputs": [],
   "source": [
    "a <- read.csv(\"03172021-CAR-treatment-LA-M-F.csv\")"
   ]
  },
  {
   "cell_type": "code",
   "execution_count": 2,
   "metadata": {},
   "outputs": [
    {
     "data": {
      "text/html": [
       "<table>\n",
       "<thead><tr><th scope=col>filename</th><th scope=col>MouseID</th><th scope=col>Treatmentgroup</th><th scope=col>DPI</th><th scope=col>organ</th><th scope=col>well_position</th><th scope=col>plate</th><th scope=col>CAR_mid_chain</th><th scope=col>CAR_long_chain</th></tr></thead>\n",
       "<tbody>\n",
       "\t<tr><td>X511_Group1C_142dpi_LA_161_G_A1_P120.mzXML</td><td>511                                       </td><td>naive                                     </td><td>142                                       </td><td>LA                                        </td><td>A1                                        </td><td>P120                                      </td><td>0                                         </td><td>0.002466692                               </td></tr>\n",
       "\t<tr><td>X512_Group1C_142dpi_LA_162_G_A2_P120.mzXML</td><td>512                                       </td><td>naive                                     </td><td>142                                       </td><td>LA                                        </td><td>A2                                        </td><td>P120                                      </td><td>0                                         </td><td>0.001265076                               </td></tr>\n",
       "\t<tr><td>X513_Group1C_142dpi_LA_163_G_A3_P120.mzXML</td><td>513                                       </td><td>naive                                     </td><td>142                                       </td><td>LA                                        </td><td>A3                                        </td><td>P120                                      </td><td>0                                         </td><td>0.000731922                               </td></tr>\n",
       "\t<tr><td>X514_Group1C_142dpi_LA_164_G_A4_P120.mzXML</td><td>514                                       </td><td>naive                                     </td><td>142                                       </td><td>LA                                        </td><td>A4                                        </td><td>P120                                      </td><td>0                                         </td><td>0.001584927                               </td></tr>\n",
       "\t<tr><td>X515_Group1C_142dpi_LA_165_G_A5_P120.mzXML</td><td>515                                       </td><td>naive                                     </td><td>142                                       </td><td>LA                                        </td><td>A5                                        </td><td>P120                                      </td><td>0                                         </td><td>0.000793961                               </td></tr>\n",
       "\t<tr><td>X531_Group1C_142dpi_LA_166_G_A6_P120.mzXML</td><td>531                                       </td><td>naive                                     </td><td>142                                       </td><td>LA                                        </td><td>A6                                        </td><td>P120                                      </td><td>0                                         </td><td>0.001016111                               </td></tr>\n",
       "</tbody>\n",
       "</table>\n"
      ],
      "text/latex": [
       "\\begin{tabular}{r|lllllllll}\n",
       " filename & MouseID & Treatmentgroup & DPI & organ & well\\_position & plate & CAR\\_mid\\_chain & CAR\\_long\\_chain\\\\\n",
       "\\hline\n",
       "\t X511\\_Group1C\\_142dpi\\_LA\\_161\\_G\\_A1\\_P120.mzXML & 511                                                      & naive                                                    & 142                                                      & LA                                                       & A1                                                       & P120                                                     & 0                                                        & 0.002466692                                             \\\\\n",
       "\t X512\\_Group1C\\_142dpi\\_LA\\_162\\_G\\_A2\\_P120.mzXML & 512                                                      & naive                                                    & 142                                                      & LA                                                       & A2                                                       & P120                                                     & 0                                                        & 0.001265076                                             \\\\\n",
       "\t X513\\_Group1C\\_142dpi\\_LA\\_163\\_G\\_A3\\_P120.mzXML & 513                                                      & naive                                                    & 142                                                      & LA                                                       & A3                                                       & P120                                                     & 0                                                        & 0.000731922                                             \\\\\n",
       "\t X514\\_Group1C\\_142dpi\\_LA\\_164\\_G\\_A4\\_P120.mzXML & 514                                                      & naive                                                    & 142                                                      & LA                                                       & A4                                                       & P120                                                     & 0                                                        & 0.001584927                                             \\\\\n",
       "\t X515\\_Group1C\\_142dpi\\_LA\\_165\\_G\\_A5\\_P120.mzXML & 515                                                      & naive                                                    & 142                                                      & LA                                                       & A5                                                       & P120                                                     & 0                                                        & 0.000793961                                             \\\\\n",
       "\t X531\\_Group1C\\_142dpi\\_LA\\_166\\_G\\_A6\\_P120.mzXML & 531                                                      & naive                                                    & 142                                                      & LA                                                       & A6                                                       & P120                                                     & 0                                                        & 0.001016111                                             \\\\\n",
       "\\end{tabular}\n"
      ],
      "text/markdown": [
       "\n",
       "| filename | MouseID | Treatmentgroup | DPI | organ | well_position | plate | CAR_mid_chain | CAR_long_chain |\n",
       "|---|---|---|---|---|---|---|---|---|\n",
       "| X511_Group1C_142dpi_LA_161_G_A1_P120.mzXML | 511                                        | naive                                      | 142                                        | LA                                         | A1                                         | P120                                       | 0                                          | 0.002466692                                |\n",
       "| X512_Group1C_142dpi_LA_162_G_A2_P120.mzXML | 512                                        | naive                                      | 142                                        | LA                                         | A2                                         | P120                                       | 0                                          | 0.001265076                                |\n",
       "| X513_Group1C_142dpi_LA_163_G_A3_P120.mzXML | 513                                        | naive                                      | 142                                        | LA                                         | A3                                         | P120                                       | 0                                          | 0.000731922                                |\n",
       "| X514_Group1C_142dpi_LA_164_G_A4_P120.mzXML | 514                                        | naive                                      | 142                                        | LA                                         | A4                                         | P120                                       | 0                                          | 0.001584927                                |\n",
       "| X515_Group1C_142dpi_LA_165_G_A5_P120.mzXML | 515                                        | naive                                      | 142                                        | LA                                         | A5                                         | P120                                       | 0                                          | 0.000793961                                |\n",
       "| X531_Group1C_142dpi_LA_166_G_A6_P120.mzXML | 531                                        | naive                                      | 142                                        | LA                                         | A6                                         | P120                                       | 0                                          | 0.001016111                                |\n",
       "\n"
      ],
      "text/plain": [
       "  filename                                   MouseID Treatmentgroup DPI organ\n",
       "1 X511_Group1C_142dpi_LA_161_G_A1_P120.mzXML 511     naive          142 LA   \n",
       "2 X512_Group1C_142dpi_LA_162_G_A2_P120.mzXML 512     naive          142 LA   \n",
       "3 X513_Group1C_142dpi_LA_163_G_A3_P120.mzXML 513     naive          142 LA   \n",
       "4 X514_Group1C_142dpi_LA_164_G_A4_P120.mzXML 514     naive          142 LA   \n",
       "5 X515_Group1C_142dpi_LA_165_G_A5_P120.mzXML 515     naive          142 LA   \n",
       "6 X531_Group1C_142dpi_LA_166_G_A6_P120.mzXML 531     naive          142 LA   \n",
       "  well_position plate CAR_mid_chain CAR_long_chain\n",
       "1 A1            P120  0             0.002466692   \n",
       "2 A2            P120  0             0.001265076   \n",
       "3 A3            P120  0             0.000731922   \n",
       "4 A4            P120  0             0.001584927   \n",
       "5 A5            P120  0             0.000793961   \n",
       "6 A6            P120  0             0.001016111   "
      ]
     },
     "metadata": {},
     "output_type": "display_data"
    },
    {
     "data": {
      "text/html": [
       "<ol class=list-inline>\n",
       "\t<li>60</li>\n",
       "\t<li>9</li>\n",
       "</ol>\n"
      ],
      "text/latex": [
       "\\begin{enumerate*}\n",
       "\\item 60\n",
       "\\item 9\n",
       "\\end{enumerate*}\n"
      ],
      "text/markdown": [
       "1. 60\n",
       "2. 9\n",
       "\n",
       "\n"
      ],
      "text/plain": [
       "[1] 60  9"
      ]
     },
     "metadata": {},
     "output_type": "display_data"
    }
   ],
   "source": [
    "head(a)\n",
    "dim(a)"
   ]
  },
  {
   "cell_type": "code",
   "execution_count": 3,
   "metadata": {},
   "outputs": [
    {
     "data": {
      "text/html": [
       "<table>\n",
       "<thead><tr><th></th><th scope=col>filename</th><th scope=col>MouseID</th><th scope=col>Treatmentgroup</th><th scope=col>DPI</th><th scope=col>organ</th><th scope=col>well_position</th><th scope=col>plate</th><th scope=col>CAR_mid_chain</th><th scope=col>CAR_long_chain</th></tr></thead>\n",
       "<tbody>\n",
       "\t<tr><th scope=row>16</th><td>X581_Group3E_142dpi_LA_176_G_B4_P120.mzXML</td><td>581                                       </td><td>infected                                  </td><td>142                                       </td><td>LA                                        </td><td>B4                                        </td><td>P120                                      </td><td>0                                         </td><td>0.001375106                               </td></tr>\n",
       "\t<tr><th scope=row>17</th><td>X582_Group3E_142dpi_LA_177_G_B5_P120.mzXML</td><td>582                                       </td><td>infected                                  </td><td>142                                       </td><td>LA                                        </td><td>B5                                        </td><td>P120                                      </td><td>0                                         </td><td>0.001090347                               </td></tr>\n",
       "\t<tr><th scope=row>18</th><td>X583_Group3E_142dpi_LA_178_G_B6_P120.mzXML</td><td>583                                       </td><td>infected                                  </td><td>142                                       </td><td>LA                                        </td><td>B6                                        </td><td>P120                                      </td><td>0                                         </td><td>0.002862502                               </td></tr>\n",
       "\t<tr><th scope=row>19</th><td>X584_Group3E_142dpi_LA_179_G_B7_P120.mzXML</td><td>584                                       </td><td>infected                                  </td><td>142                                       </td><td>LA                                        </td><td>B7                                        </td><td>P120                                      </td><td>0                                         </td><td>0.004437563                               </td></tr>\n",
       "\t<tr><th scope=row>20</th><td>X585_Group3E_142dpi_LA_180_G_B8_P120.mzXML</td><td>585                                       </td><td>infected                                  </td><td>142                                       </td><td>LA                                        </td><td>B8                                        </td><td>P120                                      </td><td>0                                         </td><td>0.003129263                               </td></tr>\n",
       "\t<tr><th scope=row>21</th><td>X611_Group9_142dpi_LA_181_G_B9_P120.mzXML </td><td>611                                       </td><td>combo                                     </td><td>142                                       </td><td>LA                                        </td><td>B9                                        </td><td>P120                                      </td><td>0                                         </td><td>0.011610114                               </td></tr>\n",
       "</tbody>\n",
       "</table>\n"
      ],
      "text/latex": [
       "\\begin{tabular}{r|lllllllll}\n",
       "  & filename & MouseID & Treatmentgroup & DPI & organ & well\\_position & plate & CAR\\_mid\\_chain & CAR\\_long\\_chain\\\\\n",
       "\\hline\n",
       "\t16 & X581\\_Group3E\\_142dpi\\_LA\\_176\\_G\\_B4\\_P120.mzXML & 581                                                      & infected                                                 & 142                                                      & LA                                                       & B4                                                       & P120                                                     & 0                                                        & 0.001375106                                             \\\\\n",
       "\t17 & X582\\_Group3E\\_142dpi\\_LA\\_177\\_G\\_B5\\_P120.mzXML & 582                                                      & infected                                                 & 142                                                      & LA                                                       & B5                                                       & P120                                                     & 0                                                        & 0.001090347                                             \\\\\n",
       "\t18 & X583\\_Group3E\\_142dpi\\_LA\\_178\\_G\\_B6\\_P120.mzXML & 583                                                      & infected                                                 & 142                                                      & LA                                                       & B6                                                       & P120                                                     & 0                                                        & 0.002862502                                             \\\\\n",
       "\t19 & X584\\_Group3E\\_142dpi\\_LA\\_179\\_G\\_B7\\_P120.mzXML & 584                                                      & infected                                                 & 142                                                      & LA                                                       & B7                                                       & P120                                                     & 0                                                        & 0.004437563                                             \\\\\n",
       "\t20 & X585\\_Group3E\\_142dpi\\_LA\\_180\\_G\\_B8\\_P120.mzXML & 585                                                      & infected                                                 & 142                                                      & LA                                                       & B8                                                       & P120                                                     & 0                                                        & 0.003129263                                             \\\\\n",
       "\t21 & X611\\_Group9\\_142dpi\\_LA\\_181\\_G\\_B9\\_P120.mzXML  & 611                                                      & combo                                                    & 142                                                      & LA                                                       & B9                                                       & P120                                                     & 0                                                        & 0.011610114                                             \\\\\n",
       "\\end{tabular}\n"
      ],
      "text/markdown": [
       "\n",
       "| <!--/--> | filename | MouseID | Treatmentgroup | DPI | organ | well_position | plate | CAR_mid_chain | CAR_long_chain |\n",
       "|---|---|---|---|---|---|---|---|---|---|\n",
       "| 16 | X581_Group3E_142dpi_LA_176_G_B4_P120.mzXML | 581                                        | infected                                   | 142                                        | LA                                         | B4                                         | P120                                       | 0                                          | 0.001375106                                |\n",
       "| 17 | X582_Group3E_142dpi_LA_177_G_B5_P120.mzXML | 582                                        | infected                                   | 142                                        | LA                                         | B5                                         | P120                                       | 0                                          | 0.001090347                                |\n",
       "| 18 | X583_Group3E_142dpi_LA_178_G_B6_P120.mzXML | 583                                        | infected                                   | 142                                        | LA                                         | B6                                         | P120                                       | 0                                          | 0.002862502                                |\n",
       "| 19 | X584_Group3E_142dpi_LA_179_G_B7_P120.mzXML | 584                                        | infected                                   | 142                                        | LA                                         | B7                                         | P120                                       | 0                                          | 0.004437563                                |\n",
       "| 20 | X585_Group3E_142dpi_LA_180_G_B8_P120.mzXML | 585                                        | infected                                   | 142                                        | LA                                         | B8                                         | P120                                       | 0                                          | 0.003129263                                |\n",
       "| 21 | X611_Group9_142dpi_LA_181_G_B9_P120.mzXML  | 611                                        | combo                                      | 142                                        | LA                                         | B9                                         | P120                                       | 0                                          | 0.011610114                                |\n",
       "\n"
      ],
      "text/plain": [
       "   filename                                   MouseID Treatmentgroup DPI organ\n",
       "16 X581_Group3E_142dpi_LA_176_G_B4_P120.mzXML 581     infected       142 LA   \n",
       "17 X582_Group3E_142dpi_LA_177_G_B5_P120.mzXML 582     infected       142 LA   \n",
       "18 X583_Group3E_142dpi_LA_178_G_B6_P120.mzXML 583     infected       142 LA   \n",
       "19 X584_Group3E_142dpi_LA_179_G_B7_P120.mzXML 584     infected       142 LA   \n",
       "20 X585_Group3E_142dpi_LA_180_G_B8_P120.mzXML 585     infected       142 LA   \n",
       "21 X611_Group9_142dpi_LA_181_G_B9_P120.mzXML  611     combo          142 LA   \n",
       "   well_position plate CAR_mid_chain CAR_long_chain\n",
       "16 B4            P120  0             0.001375106   \n",
       "17 B5            P120  0             0.001090347   \n",
       "18 B6            P120  0             0.002862502   \n",
       "19 B7            P120  0             0.004437563   \n",
       "20 B8            P120  0             0.003129263   \n",
       "21 B9            P120  0             0.011610114   "
      ]
     },
     "metadata": {},
     "output_type": "display_data"
    },
    {
     "data": {
      "text/html": [
       "<ol class=list-inline>\n",
       "\t<li>30</li>\n",
       "\t<li>9</li>\n",
       "</ol>\n"
      ],
      "text/latex": [
       "\\begin{enumerate*}\n",
       "\\item 30\n",
       "\\item 9\n",
       "\\end{enumerate*}\n"
      ],
      "text/markdown": [
       "1. 30\n",
       "2. 9\n",
       "\n",
       "\n"
      ],
      "text/plain": [
       "[1] 30  9"
      ]
     },
     "metadata": {},
     "output_type": "display_data"
    }
   ],
   "source": [
    "features_pos<-droplevels(subset(a, a$Treatmentgroup==c(\"infected\")|a$Treatmentgroup==c(\"combo\")))\n",
    "head(features_pos)\n",
    "dim(features_pos)"
   ]
  },
  {
   "cell_type": "code",
   "execution_count": 4,
   "metadata": {
    "scrolled": false
   },
   "outputs": [
    {
     "data": {
      "text/html": [
       "<table>\n",
       "<thead><tr><th></th><th scope=col>CAR_mid_chain</th><th scope=col>CAR_long_chain</th></tr></thead>\n",
       "<tbody>\n",
       "\t<tr><th scope=row>16</th><td>0          </td><td>0.001375106</td></tr>\n",
       "\t<tr><th scope=row>17</th><td>0          </td><td>0.001090347</td></tr>\n",
       "\t<tr><th scope=row>18</th><td>0          </td><td>0.002862502</td></tr>\n",
       "\t<tr><th scope=row>19</th><td>0          </td><td>0.004437563</td></tr>\n",
       "\t<tr><th scope=row>20</th><td>0          </td><td>0.003129263</td></tr>\n",
       "\t<tr><th scope=row>21</th><td>0          </td><td>0.011610114</td></tr>\n",
       "</tbody>\n",
       "</table>\n"
      ],
      "text/latex": [
       "\\begin{tabular}{r|ll}\n",
       "  & CAR\\_mid\\_chain & CAR\\_long\\_chain\\\\\n",
       "\\hline\n",
       "\t16 & 0           & 0.001375106\\\\\n",
       "\t17 & 0           & 0.001090347\\\\\n",
       "\t18 & 0           & 0.002862502\\\\\n",
       "\t19 & 0           & 0.004437563\\\\\n",
       "\t20 & 0           & 0.003129263\\\\\n",
       "\t21 & 0           & 0.011610114\\\\\n",
       "\\end{tabular}\n"
      ],
      "text/markdown": [
       "\n",
       "| <!--/--> | CAR_mid_chain | CAR_long_chain |\n",
       "|---|---|---|\n",
       "| 16 | 0           | 0.001375106 |\n",
       "| 17 | 0           | 0.001090347 |\n",
       "| 18 | 0           | 0.002862502 |\n",
       "| 19 | 0           | 0.004437563 |\n",
       "| 20 | 0           | 0.003129263 |\n",
       "| 21 | 0           | 0.011610114 |\n",
       "\n"
      ],
      "text/plain": [
       "   CAR_mid_chain CAR_long_chain\n",
       "16 0             0.001375106   \n",
       "17 0             0.001090347   \n",
       "18 0             0.002862502   \n",
       "19 0             0.004437563   \n",
       "20 0             0.003129263   \n",
       "21 0             0.011610114   "
      ]
     },
     "metadata": {},
     "output_type": "display_data"
    },
    {
     "data": {
      "text/html": [
       "<dl class=dl-horizontal>\n",
       "\t<dt>CAR_mid_chain</dt>\n",
       "\t\t<dd>1</dd>\n",
       "\t<dt>CAR_long_chain</dt>\n",
       "\t\t<dd>2</dd>\n",
       "</dl>\n"
      ],
      "text/latex": [
       "\\begin{description*}\n",
       "\\item[CAR\\textbackslash{}\\_mid\\textbackslash{}\\_chain] 1\n",
       "\\item[CAR\\textbackslash{}\\_long\\textbackslash{}\\_chain] 2\n",
       "\\end{description*}\n"
      ],
      "text/markdown": [
       "CAR_mid_chain\n",
       ":   1CAR_long_chain\n",
       ":   2\n",
       "\n"
      ],
      "text/plain": [
       " CAR_mid_chain CAR_long_chain \n",
       "             1              2 "
      ]
     },
     "metadata": {},
     "output_type": "display_data"
    },
    {
     "data": {
      "text/html": [
       "<table>\n",
       "<thead><tr><th></th><th scope=col>CAR_mid_chain</th><th scope=col>CAR_long_chain</th></tr></thead>\n",
       "<tbody>\n",
       "\t<tr><th scope=row>16</th><td>0.00e+00   </td><td>0.001375106</td></tr>\n",
       "\t<tr><th scope=row>17</th><td>0.00e+00   </td><td>0.001090347</td></tr>\n",
       "\t<tr><th scope=row>18</th><td>0.00e+00   </td><td>0.002862502</td></tr>\n",
       "\t<tr><th scope=row>19</th><td>0.00e+00   </td><td>0.004437563</td></tr>\n",
       "\t<tr><th scope=row>20</th><td>0.00e+00   </td><td>0.003129263</td></tr>\n",
       "\t<tr><th scope=row>21</th><td>0.00e+00   </td><td>0.011610114</td></tr>\n",
       "\t<tr><th scope=row>22</th><td>0.00e+00   </td><td>0.002357211</td></tr>\n",
       "\t<tr><th scope=row>23</th><td>0.00e+00   </td><td>0.001973185</td></tr>\n",
       "\t<tr><th scope=row>24</th><td>0.00e+00   </td><td>0.003930774</td></tr>\n",
       "\t<tr><th scope=row>25</th><td>3.61e-05   </td><td>0.006991817</td></tr>\n",
       "\t<tr><th scope=row>31</th><td>0.00e+00   </td><td>0.003986599</td></tr>\n",
       "\t<tr><th scope=row>32</th><td>0.00e+00   </td><td>0.001532614</td></tr>\n",
       "\t<tr><th scope=row>33</th><td>0.00e+00   </td><td>0.002406818</td></tr>\n",
       "\t<tr><th scope=row>34</th><td>0.00e+00   </td><td>0.000802385</td></tr>\n",
       "\t<tr><th scope=row>35</th><td>0.00e+00   </td><td>0.003235769</td></tr>\n",
       "\t<tr><th scope=row>36</th><td>0.00e+00   </td><td>0.001577145</td></tr>\n",
       "\t<tr><th scope=row>37</th><td>0.00e+00   </td><td>0.000164400</td></tr>\n",
       "\t<tr><th scope=row>38</th><td>0.00e+00   </td><td>0.004433829</td></tr>\n",
       "\t<tr><th scope=row>39</th><td>2.31e-05   </td><td>0.005217251</td></tr>\n",
       "\t<tr><th scope=row>40</th><td>0.00e+00   </td><td>0.001503109</td></tr>\n",
       "\t<tr><th scope=row>46</th><td>0.00e+00   </td><td>0.002701864</td></tr>\n",
       "\t<tr><th scope=row>47</th><td>0.00e+00   </td><td>0.002079755</td></tr>\n",
       "\t<tr><th scope=row>48</th><td>0.00e+00   </td><td>0.000738733</td></tr>\n",
       "\t<tr><th scope=row>49</th><td>0.00e+00   </td><td>0.000398490</td></tr>\n",
       "\t<tr><th scope=row>50</th><td>0.00e+00   </td><td>0.001300849</td></tr>\n",
       "\t<tr><th scope=row>51</th><td>0.00e+00   </td><td>0.002814208</td></tr>\n",
       "\t<tr><th scope=row>52</th><td>0.00e+00   </td><td>0.004115445</td></tr>\n",
       "\t<tr><th scope=row>53</th><td>0.00e+00   </td><td>0.001358827</td></tr>\n",
       "\t<tr><th scope=row>54</th><td>0.00e+00   </td><td>0.000960926</td></tr>\n",
       "\t<tr><th scope=row>55</th><td>0.00e+00   </td><td>0.002823466</td></tr>\n",
       "</tbody>\n",
       "</table>\n"
      ],
      "text/latex": [
       "\\begin{tabular}{r|ll}\n",
       "  & CAR\\_mid\\_chain & CAR\\_long\\_chain\\\\\n",
       "\\hline\n",
       "\t16 & 0.00e+00    & 0.001375106\\\\\n",
       "\t17 & 0.00e+00    & 0.001090347\\\\\n",
       "\t18 & 0.00e+00    & 0.002862502\\\\\n",
       "\t19 & 0.00e+00    & 0.004437563\\\\\n",
       "\t20 & 0.00e+00    & 0.003129263\\\\\n",
       "\t21 & 0.00e+00    & 0.011610114\\\\\n",
       "\t22 & 0.00e+00    & 0.002357211\\\\\n",
       "\t23 & 0.00e+00    & 0.001973185\\\\\n",
       "\t24 & 0.00e+00    & 0.003930774\\\\\n",
       "\t25 & 3.61e-05    & 0.006991817\\\\\n",
       "\t31 & 0.00e+00    & 0.003986599\\\\\n",
       "\t32 & 0.00e+00    & 0.001532614\\\\\n",
       "\t33 & 0.00e+00    & 0.002406818\\\\\n",
       "\t34 & 0.00e+00    & 0.000802385\\\\\n",
       "\t35 & 0.00e+00    & 0.003235769\\\\\n",
       "\t36 & 0.00e+00    & 0.001577145\\\\\n",
       "\t37 & 0.00e+00    & 0.000164400\\\\\n",
       "\t38 & 0.00e+00    & 0.004433829\\\\\n",
       "\t39 & 2.31e-05    & 0.005217251\\\\\n",
       "\t40 & 0.00e+00    & 0.001503109\\\\\n",
       "\t46 & 0.00e+00    & 0.002701864\\\\\n",
       "\t47 & 0.00e+00    & 0.002079755\\\\\n",
       "\t48 & 0.00e+00    & 0.000738733\\\\\n",
       "\t49 & 0.00e+00    & 0.000398490\\\\\n",
       "\t50 & 0.00e+00    & 0.001300849\\\\\n",
       "\t51 & 0.00e+00    & 0.002814208\\\\\n",
       "\t52 & 0.00e+00    & 0.004115445\\\\\n",
       "\t53 & 0.00e+00    & 0.001358827\\\\\n",
       "\t54 & 0.00e+00    & 0.000960926\\\\\n",
       "\t55 & 0.00e+00    & 0.002823466\\\\\n",
       "\\end{tabular}\n"
      ],
      "text/markdown": [
       "\n",
       "| <!--/--> | CAR_mid_chain | CAR_long_chain |\n",
       "|---|---|---|\n",
       "| 16 | 0.00e+00    | 0.001375106 |\n",
       "| 17 | 0.00e+00    | 0.001090347 |\n",
       "| 18 | 0.00e+00    | 0.002862502 |\n",
       "| 19 | 0.00e+00    | 0.004437563 |\n",
       "| 20 | 0.00e+00    | 0.003129263 |\n",
       "| 21 | 0.00e+00    | 0.011610114 |\n",
       "| 22 | 0.00e+00    | 0.002357211 |\n",
       "| 23 | 0.00e+00    | 0.001973185 |\n",
       "| 24 | 0.00e+00    | 0.003930774 |\n",
       "| 25 | 3.61e-05    | 0.006991817 |\n",
       "| 31 | 0.00e+00    | 0.003986599 |\n",
       "| 32 | 0.00e+00    | 0.001532614 |\n",
       "| 33 | 0.00e+00    | 0.002406818 |\n",
       "| 34 | 0.00e+00    | 0.000802385 |\n",
       "| 35 | 0.00e+00    | 0.003235769 |\n",
       "| 36 | 0.00e+00    | 0.001577145 |\n",
       "| 37 | 0.00e+00    | 0.000164400 |\n",
       "| 38 | 0.00e+00    | 0.004433829 |\n",
       "| 39 | 2.31e-05    | 0.005217251 |\n",
       "| 40 | 0.00e+00    | 0.001503109 |\n",
       "| 46 | 0.00e+00    | 0.002701864 |\n",
       "| 47 | 0.00e+00    | 0.002079755 |\n",
       "| 48 | 0.00e+00    | 0.000738733 |\n",
       "| 49 | 0.00e+00    | 0.000398490 |\n",
       "| 50 | 0.00e+00    | 0.001300849 |\n",
       "| 51 | 0.00e+00    | 0.002814208 |\n",
       "| 52 | 0.00e+00    | 0.004115445 |\n",
       "| 53 | 0.00e+00    | 0.001358827 |\n",
       "| 54 | 0.00e+00    | 0.000960926 |\n",
       "| 55 | 0.00e+00    | 0.002823466 |\n",
       "\n"
      ],
      "text/plain": [
       "   CAR_mid_chain CAR_long_chain\n",
       "16 0.00e+00      0.001375106   \n",
       "17 0.00e+00      0.001090347   \n",
       "18 0.00e+00      0.002862502   \n",
       "19 0.00e+00      0.004437563   \n",
       "20 0.00e+00      0.003129263   \n",
       "21 0.00e+00      0.011610114   \n",
       "22 0.00e+00      0.002357211   \n",
       "23 0.00e+00      0.001973185   \n",
       "24 0.00e+00      0.003930774   \n",
       "25 3.61e-05      0.006991817   \n",
       "31 0.00e+00      0.003986599   \n",
       "32 0.00e+00      0.001532614   \n",
       "33 0.00e+00      0.002406818   \n",
       "34 0.00e+00      0.000802385   \n",
       "35 0.00e+00      0.003235769   \n",
       "36 0.00e+00      0.001577145   \n",
       "37 0.00e+00      0.000164400   \n",
       "38 0.00e+00      0.004433829   \n",
       "39 2.31e-05      0.005217251   \n",
       "40 0.00e+00      0.001503109   \n",
       "46 0.00e+00      0.002701864   \n",
       "47 0.00e+00      0.002079755   \n",
       "48 0.00e+00      0.000738733   \n",
       "49 0.00e+00      0.000398490   \n",
       "50 0.00e+00      0.001300849   \n",
       "51 0.00e+00      0.002814208   \n",
       "52 0.00e+00      0.004115445   \n",
       "53 0.00e+00      0.001358827   \n",
       "54 0.00e+00      0.000960926   \n",
       "55 0.00e+00      0.002823466   "
      ]
     },
     "metadata": {},
     "output_type": "display_data"
    },
    {
     "data": {
      "text/html": [
       "<table>\n",
       "<thead><tr><th></th><th scope=col>filename</th><th scope=col>MouseID</th><th scope=col>Treatmentgroup</th><th scope=col>DPI</th><th scope=col>organ</th><th scope=col>well_position</th><th scope=col>plate</th><th scope=col>CAR_mid_chain</th><th scope=col>CAR_long_chain</th></tr></thead>\n",
       "<tbody>\n",
       "\t<tr><th scope=row>16</th><td>X581_Group3E_142dpi_LA_176_G_B4_P120.mzXML</td><td>581                                       </td><td>infected                                  </td><td>142                                       </td><td>LA                                        </td><td>B4                                        </td><td>P120                                      </td><td>0                                         </td><td>0.001375106                               </td></tr>\n",
       "\t<tr><th scope=row>17</th><td>X582_Group3E_142dpi_LA_177_G_B5_P120.mzXML</td><td>582                                       </td><td>infected                                  </td><td>142                                       </td><td>LA                                        </td><td>B5                                        </td><td>P120                                      </td><td>0                                         </td><td>0.001090347                               </td></tr>\n",
       "\t<tr><th scope=row>18</th><td>X583_Group3E_142dpi_LA_178_G_B6_P120.mzXML</td><td>583                                       </td><td>infected                                  </td><td>142                                       </td><td>LA                                        </td><td>B6                                        </td><td>P120                                      </td><td>0                                         </td><td>0.002862502                               </td></tr>\n",
       "\t<tr><th scope=row>19</th><td>X584_Group3E_142dpi_LA_179_G_B7_P120.mzXML</td><td>584                                       </td><td>infected                                  </td><td>142                                       </td><td>LA                                        </td><td>B7                                        </td><td>P120                                      </td><td>0                                         </td><td>0.004437563                               </td></tr>\n",
       "\t<tr><th scope=row>20</th><td>X585_Group3E_142dpi_LA_180_G_B8_P120.mzXML</td><td>585                                       </td><td>infected                                  </td><td>142                                       </td><td>LA                                        </td><td>B8                                        </td><td>P120                                      </td><td>0                                         </td><td>0.003129263                               </td></tr>\n",
       "\t<tr><th scope=row>21</th><td>X611_Group9_142dpi_LA_181_G_B9_P120.mzXML </td><td>611                                       </td><td>combo                                     </td><td>142                                       </td><td>LA                                        </td><td>B9                                        </td><td>P120                                      </td><td>0                                         </td><td>0.011610114                               </td></tr>\n",
       "</tbody>\n",
       "</table>\n"
      ],
      "text/latex": [
       "\\begin{tabular}{r|lllllllll}\n",
       "  & filename & MouseID & Treatmentgroup & DPI & organ & well\\_position & plate & CAR\\_mid\\_chain & CAR\\_long\\_chain\\\\\n",
       "\\hline\n",
       "\t16 & X581\\_Group3E\\_142dpi\\_LA\\_176\\_G\\_B4\\_P120.mzXML & 581                                                      & infected                                                 & 142                                                      & LA                                                       & B4                                                       & P120                                                     & 0                                                        & 0.001375106                                             \\\\\n",
       "\t17 & X582\\_Group3E\\_142dpi\\_LA\\_177\\_G\\_B5\\_P120.mzXML & 582                                                      & infected                                                 & 142                                                      & LA                                                       & B5                                                       & P120                                                     & 0                                                        & 0.001090347                                             \\\\\n",
       "\t18 & X583\\_Group3E\\_142dpi\\_LA\\_178\\_G\\_B6\\_P120.mzXML & 583                                                      & infected                                                 & 142                                                      & LA                                                       & B6                                                       & P120                                                     & 0                                                        & 0.002862502                                             \\\\\n",
       "\t19 & X584\\_Group3E\\_142dpi\\_LA\\_179\\_G\\_B7\\_P120.mzXML & 584                                                      & infected                                                 & 142                                                      & LA                                                       & B7                                                       & P120                                                     & 0                                                        & 0.004437563                                             \\\\\n",
       "\t20 & X585\\_Group3E\\_142dpi\\_LA\\_180\\_G\\_B8\\_P120.mzXML & 585                                                      & infected                                                 & 142                                                      & LA                                                       & B8                                                       & P120                                                     & 0                                                        & 0.003129263                                             \\\\\n",
       "\t21 & X611\\_Group9\\_142dpi\\_LA\\_181\\_G\\_B9\\_P120.mzXML  & 611                                                      & combo                                                    & 142                                                      & LA                                                       & B9                                                       & P120                                                     & 0                                                        & 0.011610114                                             \\\\\n",
       "\\end{tabular}\n"
      ],
      "text/markdown": [
       "\n",
       "| <!--/--> | filename | MouseID | Treatmentgroup | DPI | organ | well_position | plate | CAR_mid_chain | CAR_long_chain |\n",
       "|---|---|---|---|---|---|---|---|---|---|\n",
       "| 16 | X581_Group3E_142dpi_LA_176_G_B4_P120.mzXML | 581                                        | infected                                   | 142                                        | LA                                         | B4                                         | P120                                       | 0                                          | 0.001375106                                |\n",
       "| 17 | X582_Group3E_142dpi_LA_177_G_B5_P120.mzXML | 582                                        | infected                                   | 142                                        | LA                                         | B5                                         | P120                                       | 0                                          | 0.001090347                                |\n",
       "| 18 | X583_Group3E_142dpi_LA_178_G_B6_P120.mzXML | 583                                        | infected                                   | 142                                        | LA                                         | B6                                         | P120                                       | 0                                          | 0.002862502                                |\n",
       "| 19 | X584_Group3E_142dpi_LA_179_G_B7_P120.mzXML | 584                                        | infected                                   | 142                                        | LA                                         | B7                                         | P120                                       | 0                                          | 0.004437563                                |\n",
       "| 20 | X585_Group3E_142dpi_LA_180_G_B8_P120.mzXML | 585                                        | infected                                   | 142                                        | LA                                         | B8                                         | P120                                       | 0                                          | 0.003129263                                |\n",
       "| 21 | X611_Group9_142dpi_LA_181_G_B9_P120.mzXML  | 611                                        | combo                                      | 142                                        | LA                                         | B9                                         | P120                                       | 0                                          | 0.011610114                                |\n",
       "\n"
      ],
      "text/plain": [
       "   filename                                   MouseID Treatmentgroup DPI organ\n",
       "16 X581_Group3E_142dpi_LA_176_G_B4_P120.mzXML 581     infected       142 LA   \n",
       "17 X582_Group3E_142dpi_LA_177_G_B5_P120.mzXML 582     infected       142 LA   \n",
       "18 X583_Group3E_142dpi_LA_178_G_B6_P120.mzXML 583     infected       142 LA   \n",
       "19 X584_Group3E_142dpi_LA_179_G_B7_P120.mzXML 584     infected       142 LA   \n",
       "20 X585_Group3E_142dpi_LA_180_G_B8_P120.mzXML 585     infected       142 LA   \n",
       "21 X611_Group9_142dpi_LA_181_G_B9_P120.mzXML  611     combo          142 LA   \n",
       "   well_position plate CAR_mid_chain CAR_long_chain\n",
       "16 B4            P120  0             0.001375106   \n",
       "17 B5            P120  0             0.001090347   \n",
       "18 B6            P120  0             0.002862502   \n",
       "19 B7            P120  0             0.004437563   \n",
       "20 B8            P120  0             0.003129263   \n",
       "21 B9            P120  0             0.011610114   "
      ]
     },
     "metadata": {},
     "output_type": "display_data"
    },
    {
     "data": {
      "text/html": [
       "<ol class=list-inline>\n",
       "\t<li>30</li>\n",
       "\t<li>9</li>\n",
       "</ol>\n"
      ],
      "text/latex": [
       "\\begin{enumerate*}\n",
       "\\item 30\n",
       "\\item 9\n",
       "\\end{enumerate*}\n"
      ],
      "text/markdown": [
       "1. 30\n",
       "2. 9\n",
       "\n",
       "\n"
      ],
      "text/plain": [
       "[1] 30  9"
      ]
     },
     "metadata": {},
     "output_type": "display_data"
    },
    {
     "data": {
      "text/html": [
       "<ol class=list-inline>\n",
       "\t<li>30</li>\n",
       "\t<li>2</li>\n",
       "</ol>\n"
      ],
      "text/latex": [
       "\\begin{enumerate*}\n",
       "\\item 30\n",
       "\\item 2\n",
       "\\end{enumerate*}\n"
      ],
      "text/markdown": [
       "1. 30\n",
       "2. 2\n",
       "\n",
       "\n"
      ],
      "text/plain": [
       "[1] 30  2"
      ]
     },
     "metadata": {},
     "output_type": "display_data"
    },
    {
     "data": {
      "text/html": [
       "<ol class=list-inline>\n",
       "\t<li>30</li>\n",
       "\t<li>2</li>\n",
       "</ol>\n"
      ],
      "text/latex": [
       "\\begin{enumerate*}\n",
       "\\item 30\n",
       "\\item 2\n",
       "\\end{enumerate*}\n"
      ],
      "text/markdown": [
       "1. 30\n",
       "2. 2\n",
       "\n",
       "\n"
      ],
      "text/plain": [
       "[1] 30  2"
      ]
     },
     "metadata": {},
     "output_type": "display_data"
    },
    {
     "data": {
      "text/html": [
       "<ol class=list-inline>\n",
       "\t<li>30</li>\n",
       "\t<li>9</li>\n",
       "</ol>\n"
      ],
      "text/latex": [
       "\\begin{enumerate*}\n",
       "\\item 30\n",
       "\\item 9\n",
       "\\end{enumerate*}\n"
      ],
      "text/markdown": [
       "1. 30\n",
       "2. 9\n",
       "\n",
       "\n"
      ],
      "text/plain": [
       "[1] 30  9"
      ]
     },
     "metadata": {},
     "output_type": "display_data"
    }
   ],
   "source": [
    "noMeta<-features_pos[,8:9]\n",
    "head(noMeta)\n",
    "not_zero<-which(colSums(noMeta) != 0)\n",
    "head(not_zero)\n",
    "nonzero <- noMeta[, not_zero] \n",
    "nonzero\n",
    "nonzero_wMeta<-cbind(features_pos[,1:7], nonzero)\n",
    "head(nonzero_wMeta)\n",
    "dim(features_pos)\n",
    "dim(noMeta)\n",
    "dim(nonzero)\n",
    "dim(nonzero_wMeta)"
   ]
  },
  {
   "cell_type": "code",
   "execution_count": 5,
   "metadata": {
    "scrolled": true
   },
   "outputs": [
    {
     "name": "stderr",
     "output_type": "stream",
     "text": [
      "Warning message in wilcox.test.default(x = c(0, 0, 0, 0, 3.61e-05, 0, 0, 0, 2.31e-05, :\n",
      "\"cannot compute exact p-value with ties\""
     ]
    },
    {
     "data": {
      "text/html": [
       "<ol class=list-inline>\n",
       "\t<li>0.164394222391658</li>\n",
       "\t<li>0.232811909318818</li>\n",
       "</ol>\n"
      ],
      "text/latex": [
       "\\begin{enumerate*}\n",
       "\\item 0.164394222391658\n",
       "\\item 0.232811909318818\n",
       "\\end{enumerate*}\n"
      ],
      "text/markdown": [
       "1. 0.164394222391658\n",
       "2. 0.232811909318818\n",
       "\n",
       "\n"
      ],
      "text/plain": [
       "[1] 0.1643942 0.2328119"
      ]
     },
     "metadata": {},
     "output_type": "display_data"
    },
    {
     "data": {
      "text/html": [
       "<ol class=list-inline>\n",
       "\t<li>0.232811909318818</li>\n",
       "\t<li>0.232811909318818</li>\n",
       "</ol>\n"
      ],
      "text/latex": [
       "\\begin{enumerate*}\n",
       "\\item 0.232811909318818\n",
       "\\item 0.232811909318818\n",
       "\\end{enumerate*}\n"
      ],
      "text/markdown": [
       "1. 0.232811909318818\n",
       "2. 0.232811909318818\n",
       "\n",
       "\n"
      ],
      "text/plain": [
       "[1] 0.2328119 0.2328119"
      ]
     },
     "metadata": {},
     "output_type": "display_data"
    }
   ],
   "source": [
    "pval<-c()\n",
    "\n",
    "for (i in 8:ncol(nonzero_wMeta)) \n",
    "pval<-c(pval,wilcox.test(nonzero_wMeta[,i]~nonzero_wMeta$Treatmentgroup)$p.value)\n",
    "head(pval)\n",
    "pAdj <- p.adjust(pval, method = c(\"fdr\"), n=length(pval)) \n",
    "head(pAdj) \n",
    "\n"
   ]
  },
  {
   "cell_type": "code",
   "execution_count": 6,
   "metadata": {
    "scrolled": true
   },
   "outputs": [
    {
     "data": {
      "text/html": [
       "2"
      ],
      "text/latex": [
       "2"
      ],
      "text/markdown": [
       "2"
      ],
      "text/plain": [
       "[1] 2"
      ]
     },
     "metadata": {},
     "output_type": "display_data"
    }
   ],
   "source": [
    "length(pval)"
   ]
  },
  {
   "cell_type": "code",
   "execution_count": 7,
   "metadata": {
    "scrolled": true
   },
   "outputs": [
    {
     "data": {
      "text/html": [
       "2"
      ],
      "text/latex": [
       "2"
      ],
      "text/markdown": [
       "2"
      ],
      "text/plain": [
       "[1] 2"
      ]
     },
     "metadata": {},
     "output_type": "display_data"
    }
   ],
   "source": [
    "length(pAdj)"
   ]
  },
  {
   "cell_type": "code",
   "execution_count": 8,
   "metadata": {},
   "outputs": [
    {
     "data": {
      "text/html": [
       "<ol class=list-inline>\n",
       "\t<li>2</li>\n",
       "\t<li>2</li>\n",
       "</ol>\n"
      ],
      "text/latex": [
       "\\begin{enumerate*}\n",
       "\\item 2\n",
       "\\item 2\n",
       "\\end{enumerate*}\n"
      ],
      "text/markdown": [
       "1. 2\n",
       "2. 2\n",
       "\n",
       "\n"
      ],
      "text/plain": [
       "[1] 2 2"
      ]
     },
     "metadata": {},
     "output_type": "display_data"
    },
    {
     "data": {
      "text/html": [
       "<table>\n",
       "<thead><tr><th></th><th scope=col>CAR_mid_chain</th><th scope=col>CAR_long_chain</th></tr></thead>\n",
       "<tbody>\n",
       "\t<tr><th scope=row>combo</th><td>3.946667e-06</td><td>0.003455447 </td></tr>\n",
       "\t<tr><th scope=row>infected</th><td>0.000000e+00</td><td>0.002138577 </td></tr>\n",
       "</tbody>\n",
       "</table>\n"
      ],
      "text/latex": [
       "\\begin{tabular}{r|ll}\n",
       "  & CAR\\_mid\\_chain & CAR\\_long\\_chain\\\\\n",
       "\\hline\n",
       "\tcombo & 3.946667e-06 & 0.003455447 \\\\\n",
       "\tinfected & 0.000000e+00 & 0.002138577 \\\\\n",
       "\\end{tabular}\n"
      ],
      "text/markdown": [
       "\n",
       "| <!--/--> | CAR_mid_chain | CAR_long_chain |\n",
       "|---|---|---|\n",
       "| combo | 3.946667e-06 | 0.003455447  |\n",
       "| infected | 0.000000e+00 | 0.002138577  |\n",
       "\n"
      ],
      "text/plain": [
       "         CAR_mid_chain CAR_long_chain\n",
       "combo    3.946667e-06  0.003455447   \n",
       "infected 0.000000e+00  0.002138577   "
      ]
     },
     "metadata": {},
     "output_type": "display_data"
    },
    {
     "data": {
      "text/html": [
       "<dl class=dl-horizontal>\n",
       "\t<dt>CAR_mid_chain</dt>\n",
       "\t\t<dd>Inf</dd>\n",
       "\t<dt>CAR_long_chain</dt>\n",
       "\t\t<dd>1.61576923248377</dd>\n",
       "</dl>\n"
      ],
      "text/latex": [
       "\\begin{description*}\n",
       "\\item[CAR\\textbackslash{}\\_mid\\textbackslash{}\\_chain] Inf\n",
       "\\item[CAR\\textbackslash{}\\_long\\textbackslash{}\\_chain] 1.61576923248377\n",
       "\\end{description*}\n"
      ],
      "text/markdown": [
       "CAR_mid_chain\n",
       ":   InfCAR_long_chain\n",
       ":   1.61576923248377\n",
       "\n"
      ],
      "text/plain": [
       " CAR_mid_chain CAR_long_chain \n",
       "           Inf       1.615769 "
      ]
     },
     "metadata": {},
     "output_type": "display_data"
    },
    {
     "data": {
      "text/html": [
       "<ol class=list-inline>\n",
       "\t<li>'numeric'</li>\n",
       "\t<li>'vector'</li>\n",
       "</ol>\n"
      ],
      "text/latex": [
       "\\begin{enumerate*}\n",
       "\\item 'numeric'\n",
       "\\item 'vector'\n",
       "\\end{enumerate*}\n"
      ],
      "text/markdown": [
       "1. 'numeric'\n",
       "2. 'vector'\n",
       "\n",
       "\n"
      ],
      "text/plain": [
       "[1] \"numeric\" \"vector\" "
      ]
     },
     "metadata": {},
     "output_type": "display_data"
    }
   ],
   "source": [
    "avg<- apply(nonzero_wMeta[,8:ncol(nonzero_wMeta)], 2, function(x) tapply(x, nonzero_wMeta$Treatmentgroup, function(x) mean(x))) \n",
    "\n",
    "dim(avg) \n",
    "\n",
    "avg[,1:2]\n",
    "\n",
    "fch <- apply(avg, 2, function(x) x[1]/x[2])\n",
    "\n",
    "head(fch)\n",
    "is(fch)"
   ]
  },
  {
   "cell_type": "code",
   "execution_count": 9,
   "metadata": {
    "scrolled": true
   },
   "outputs": [
    {
     "data": {
      "text/html": [
       "<dl class=dl-horizontal>\n",
       "\t<dt>CAR_mid_chain</dt>\n",
       "\t\t<dd>Inf</dd>\n",
       "\t<dt>CAR_long_chain</dt>\n",
       "\t\t<dd>1.61576923248377</dd>\n",
       "</dl>\n"
      ],
      "text/latex": [
       "\\begin{description*}\n",
       "\\item[CAR\\textbackslash{}\\_mid\\textbackslash{}\\_chain] Inf\n",
       "\\item[CAR\\textbackslash{}\\_long\\textbackslash{}\\_chain] 1.61576923248377\n",
       "\\end{description*}\n"
      ],
      "text/markdown": [
       "CAR_mid_chain\n",
       ":   InfCAR_long_chain\n",
       ":   1.61576923248377\n",
       "\n"
      ],
      "text/plain": [
       " CAR_mid_chain CAR_long_chain \n",
       "           Inf       1.615769 "
      ]
     },
     "metadata": {},
     "output_type": "display_data"
    }
   ],
   "source": [
    "fch"
   ]
  },
  {
   "cell_type": "code",
   "execution_count": 10,
   "metadata": {
    "scrolled": false
   },
   "outputs": [],
   "source": [
    "df <- data.frame(fch,pval, pAdj)\n",
    "write.csv(df, \"CAR-treat-LA-wilcox-infected-combo.csv\")"
   ]
  },
  {
   "cell_type": "code",
   "execution_count": null,
   "metadata": {},
   "outputs": [],
   "source": []
  },
  {
   "cell_type": "code",
   "execution_count": null,
   "metadata": {},
   "outputs": [],
   "source": []
  },
  {
   "cell_type": "code",
   "execution_count": null,
   "metadata": {},
   "outputs": [],
   "source": []
  },
  {
   "cell_type": "code",
   "execution_count": null,
   "metadata": {},
   "outputs": [],
   "source": []
  },
  {
   "cell_type": "code",
   "execution_count": null,
   "metadata": {},
   "outputs": [],
   "source": []
  },
  {
   "cell_type": "code",
   "execution_count": null,
   "metadata": {},
   "outputs": [],
   "source": []
  }
 ],
 "metadata": {
  "kernelspec": {
   "display_name": "R",
   "language": "R",
   "name": "ir"
  },
  "language_info": {
   "codemirror_mode": "r",
   "file_extension": ".r",
   "mimetype": "text/x-r-source",
   "name": "R",
   "pygments_lexer": "r",
   "version": "3.6.1"
  }
 },
 "nbformat": 4,
 "nbformat_minor": 2
}
