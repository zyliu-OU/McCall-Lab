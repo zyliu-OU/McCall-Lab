{
 "cells": [
  {
   "cell_type": "code",
   "execution_count": 1,
   "metadata": {},
   "outputs": [],
   "source": [
    "a <- read.csv(\"03172021-CAR-treatment-LA-M-F.csv\")"
   ]
  },
  {
   "cell_type": "code",
   "execution_count": 2,
   "metadata": {},
   "outputs": [
    {
     "data": {
      "text/html": [
       "<table>\n",
       "<thead><tr><th scope=col>filename</th><th scope=col>MouseID</th><th scope=col>Treatmentgroup</th><th scope=col>DPI</th><th scope=col>organ</th><th scope=col>well_position</th><th scope=col>plate</th><th scope=col>CAR_mid_chain</th><th scope=col>CAR_long_chain</th></tr></thead>\n",
       "<tbody>\n",
       "\t<tr><td>X511_Group1C_142dpi_LA_161_G_A1_P120.mzXML</td><td>511                                       </td><td>naive                                     </td><td>142                                       </td><td>LA                                        </td><td>A1                                        </td><td>P120                                      </td><td>0                                         </td><td>0.002466692                               </td></tr>\n",
       "\t<tr><td>X512_Group1C_142dpi_LA_162_G_A2_P120.mzXML</td><td>512                                       </td><td>naive                                     </td><td>142                                       </td><td>LA                                        </td><td>A2                                        </td><td>P120                                      </td><td>0                                         </td><td>0.001265076                               </td></tr>\n",
       "\t<tr><td>X513_Group1C_142dpi_LA_163_G_A3_P120.mzXML</td><td>513                                       </td><td>naive                                     </td><td>142                                       </td><td>LA                                        </td><td>A3                                        </td><td>P120                                      </td><td>0                                         </td><td>0.000731922                               </td></tr>\n",
       "\t<tr><td>X514_Group1C_142dpi_LA_164_G_A4_P120.mzXML</td><td>514                                       </td><td>naive                                     </td><td>142                                       </td><td>LA                                        </td><td>A4                                        </td><td>P120                                      </td><td>0                                         </td><td>0.001584927                               </td></tr>\n",
       "\t<tr><td>X515_Group1C_142dpi_LA_165_G_A5_P120.mzXML</td><td>515                                       </td><td>naive                                     </td><td>142                                       </td><td>LA                                        </td><td>A5                                        </td><td>P120                                      </td><td>0                                         </td><td>0.000793961                               </td></tr>\n",
       "\t<tr><td>X531_Group1C_142dpi_LA_166_G_A6_P120.mzXML</td><td>531                                       </td><td>naive                                     </td><td>142                                       </td><td>LA                                        </td><td>A6                                        </td><td>P120                                      </td><td>0                                         </td><td>0.001016111                               </td></tr>\n",
       "</tbody>\n",
       "</table>\n"
      ],
      "text/latex": [
       "\\begin{tabular}{r|lllllllll}\n",
       " filename & MouseID & Treatmentgroup & DPI & organ & well\\_position & plate & CAR\\_mid\\_chain & CAR\\_long\\_chain\\\\\n",
       "\\hline\n",
       "\t X511\\_Group1C\\_142dpi\\_LA\\_161\\_G\\_A1\\_P120.mzXML & 511                                                      & naive                                                    & 142                                                      & LA                                                       & A1                                                       & P120                                                     & 0                                                        & 0.002466692                                             \\\\\n",
       "\t X512\\_Group1C\\_142dpi\\_LA\\_162\\_G\\_A2\\_P120.mzXML & 512                                                      & naive                                                    & 142                                                      & LA                                                       & A2                                                       & P120                                                     & 0                                                        & 0.001265076                                             \\\\\n",
       "\t X513\\_Group1C\\_142dpi\\_LA\\_163\\_G\\_A3\\_P120.mzXML & 513                                                      & naive                                                    & 142                                                      & LA                                                       & A3                                                       & P120                                                     & 0                                                        & 0.000731922                                             \\\\\n",
       "\t X514\\_Group1C\\_142dpi\\_LA\\_164\\_G\\_A4\\_P120.mzXML & 514                                                      & naive                                                    & 142                                                      & LA                                                       & A4                                                       & P120                                                     & 0                                                        & 0.001584927                                             \\\\\n",
       "\t X515\\_Group1C\\_142dpi\\_LA\\_165\\_G\\_A5\\_P120.mzXML & 515                                                      & naive                                                    & 142                                                      & LA                                                       & A5                                                       & P120                                                     & 0                                                        & 0.000793961                                             \\\\\n",
       "\t X531\\_Group1C\\_142dpi\\_LA\\_166\\_G\\_A6\\_P120.mzXML & 531                                                      & naive                                                    & 142                                                      & LA                                                       & A6                                                       & P120                                                     & 0                                                        & 0.001016111                                             \\\\\n",
       "\\end{tabular}\n"
      ],
      "text/markdown": [
       "\n",
       "| filename | MouseID | Treatmentgroup | DPI | organ | well_position | plate | CAR_mid_chain | CAR_long_chain |\n",
       "|---|---|---|---|---|---|---|---|---|\n",
       "| X511_Group1C_142dpi_LA_161_G_A1_P120.mzXML | 511                                        | naive                                      | 142                                        | LA                                         | A1                                         | P120                                       | 0                                          | 0.002466692                                |\n",
       "| X512_Group1C_142dpi_LA_162_G_A2_P120.mzXML | 512                                        | naive                                      | 142                                        | LA                                         | A2                                         | P120                                       | 0                                          | 0.001265076                                |\n",
       "| X513_Group1C_142dpi_LA_163_G_A3_P120.mzXML | 513                                        | naive                                      | 142                                        | LA                                         | A3                                         | P120                                       | 0                                          | 0.000731922                                |\n",
       "| X514_Group1C_142dpi_LA_164_G_A4_P120.mzXML | 514                                        | naive                                      | 142                                        | LA                                         | A4                                         | P120                                       | 0                                          | 0.001584927                                |\n",
       "| X515_Group1C_142dpi_LA_165_G_A5_P120.mzXML | 515                                        | naive                                      | 142                                        | LA                                         | A5                                         | P120                                       | 0                                          | 0.000793961                                |\n",
       "| X531_Group1C_142dpi_LA_166_G_A6_P120.mzXML | 531                                        | naive                                      | 142                                        | LA                                         | A6                                         | P120                                       | 0                                          | 0.001016111                                |\n",
       "\n"
      ],
      "text/plain": [
       "  filename                                   MouseID Treatmentgroup DPI organ\n",
       "1 X511_Group1C_142dpi_LA_161_G_A1_P120.mzXML 511     naive          142 LA   \n",
       "2 X512_Group1C_142dpi_LA_162_G_A2_P120.mzXML 512     naive          142 LA   \n",
       "3 X513_Group1C_142dpi_LA_163_G_A3_P120.mzXML 513     naive          142 LA   \n",
       "4 X514_Group1C_142dpi_LA_164_G_A4_P120.mzXML 514     naive          142 LA   \n",
       "5 X515_Group1C_142dpi_LA_165_G_A5_P120.mzXML 515     naive          142 LA   \n",
       "6 X531_Group1C_142dpi_LA_166_G_A6_P120.mzXML 531     naive          142 LA   \n",
       "  well_position plate CAR_mid_chain CAR_long_chain\n",
       "1 A1            P120  0             0.002466692   \n",
       "2 A2            P120  0             0.001265076   \n",
       "3 A3            P120  0             0.000731922   \n",
       "4 A4            P120  0             0.001584927   \n",
       "5 A5            P120  0             0.000793961   \n",
       "6 A6            P120  0             0.001016111   "
      ]
     },
     "metadata": {},
     "output_type": "display_data"
    },
    {
     "data": {
      "text/html": [
       "<ol class=list-inline>\n",
       "\t<li>60</li>\n",
       "\t<li>9</li>\n",
       "</ol>\n"
      ],
      "text/latex": [
       "\\begin{enumerate*}\n",
       "\\item 60\n",
       "\\item 9\n",
       "\\end{enumerate*}\n"
      ],
      "text/markdown": [
       "1. 60\n",
       "2. 9\n",
       "\n",
       "\n"
      ],
      "text/plain": [
       "[1] 60  9"
      ]
     },
     "metadata": {},
     "output_type": "display_data"
    }
   ],
   "source": [
    "head(a)\n",
    "dim(a)"
   ]
  },
  {
   "cell_type": "code",
   "execution_count": 3,
   "metadata": {},
   "outputs": [
    {
     "data": {
      "text/html": [
       "<table>\n",
       "<thead><tr><th scope=col>filename</th><th scope=col>MouseID</th><th scope=col>Treatmentgroup</th><th scope=col>DPI</th><th scope=col>organ</th><th scope=col>well_position</th><th scope=col>plate</th><th scope=col>CAR_mid_chain</th><th scope=col>CAR_long_chain</th></tr></thead>\n",
       "<tbody>\n",
       "\t<tr><td>X511_Group1C_142dpi_LA_161_G_A1_P120.mzXML</td><td>511                                       </td><td>naive                                     </td><td>142                                       </td><td>LA                                        </td><td>A1                                        </td><td>P120                                      </td><td>0                                         </td><td>0.002466692                               </td></tr>\n",
       "\t<tr><td>X512_Group1C_142dpi_LA_162_G_A2_P120.mzXML</td><td>512                                       </td><td>naive                                     </td><td>142                                       </td><td>LA                                        </td><td>A2                                        </td><td>P120                                      </td><td>0                                         </td><td>0.001265076                               </td></tr>\n",
       "\t<tr><td>X513_Group1C_142dpi_LA_163_G_A3_P120.mzXML</td><td>513                                       </td><td>naive                                     </td><td>142                                       </td><td>LA                                        </td><td>A3                                        </td><td>P120                                      </td><td>0                                         </td><td>0.000731922                               </td></tr>\n",
       "\t<tr><td>X514_Group1C_142dpi_LA_164_G_A4_P120.mzXML</td><td>514                                       </td><td>naive                                     </td><td>142                                       </td><td>LA                                        </td><td>A4                                        </td><td>P120                                      </td><td>0                                         </td><td>0.001584927                               </td></tr>\n",
       "\t<tr><td>X515_Group1C_142dpi_LA_165_G_A5_P120.mzXML</td><td>515                                       </td><td>naive                                     </td><td>142                                       </td><td>LA                                        </td><td>A5                                        </td><td>P120                                      </td><td>0                                         </td><td>0.000793961                               </td></tr>\n",
       "\t<tr><td>X531_Group1C_142dpi_LA_166_G_A6_P120.mzXML</td><td>531                                       </td><td>naive                                     </td><td>142                                       </td><td>LA                                        </td><td>A6                                        </td><td>P120                                      </td><td>0                                         </td><td>0.001016111                               </td></tr>\n",
       "</tbody>\n",
       "</table>\n"
      ],
      "text/latex": [
       "\\begin{tabular}{r|lllllllll}\n",
       " filename & MouseID & Treatmentgroup & DPI & organ & well\\_position & plate & CAR\\_mid\\_chain & CAR\\_long\\_chain\\\\\n",
       "\\hline\n",
       "\t X511\\_Group1C\\_142dpi\\_LA\\_161\\_G\\_A1\\_P120.mzXML & 511                                                      & naive                                                    & 142                                                      & LA                                                       & A1                                                       & P120                                                     & 0                                                        & 0.002466692                                             \\\\\n",
       "\t X512\\_Group1C\\_142dpi\\_LA\\_162\\_G\\_A2\\_P120.mzXML & 512                                                      & naive                                                    & 142                                                      & LA                                                       & A2                                                       & P120                                                     & 0                                                        & 0.001265076                                             \\\\\n",
       "\t X513\\_Group1C\\_142dpi\\_LA\\_163\\_G\\_A3\\_P120.mzXML & 513                                                      & naive                                                    & 142                                                      & LA                                                       & A3                                                       & P120                                                     & 0                                                        & 0.000731922                                             \\\\\n",
       "\t X514\\_Group1C\\_142dpi\\_LA\\_164\\_G\\_A4\\_P120.mzXML & 514                                                      & naive                                                    & 142                                                      & LA                                                       & A4                                                       & P120                                                     & 0                                                        & 0.001584927                                             \\\\\n",
       "\t X515\\_Group1C\\_142dpi\\_LA\\_165\\_G\\_A5\\_P120.mzXML & 515                                                      & naive                                                    & 142                                                      & LA                                                       & A5                                                       & P120                                                     & 0                                                        & 0.000793961                                             \\\\\n",
       "\t X531\\_Group1C\\_142dpi\\_LA\\_166\\_G\\_A6\\_P120.mzXML & 531                                                      & naive                                                    & 142                                                      & LA                                                       & A6                                                       & P120                                                     & 0                                                        & 0.001016111                                             \\\\\n",
       "\\end{tabular}\n"
      ],
      "text/markdown": [
       "\n",
       "| filename | MouseID | Treatmentgroup | DPI | organ | well_position | plate | CAR_mid_chain | CAR_long_chain |\n",
       "|---|---|---|---|---|---|---|---|---|\n",
       "| X511_Group1C_142dpi_LA_161_G_A1_P120.mzXML | 511                                        | naive                                      | 142                                        | LA                                         | A1                                         | P120                                       | 0                                          | 0.002466692                                |\n",
       "| X512_Group1C_142dpi_LA_162_G_A2_P120.mzXML | 512                                        | naive                                      | 142                                        | LA                                         | A2                                         | P120                                       | 0                                          | 0.001265076                                |\n",
       "| X513_Group1C_142dpi_LA_163_G_A3_P120.mzXML | 513                                        | naive                                      | 142                                        | LA                                         | A3                                         | P120                                       | 0                                          | 0.000731922                                |\n",
       "| X514_Group1C_142dpi_LA_164_G_A4_P120.mzXML | 514                                        | naive                                      | 142                                        | LA                                         | A4                                         | P120                                       | 0                                          | 0.001584927                                |\n",
       "| X515_Group1C_142dpi_LA_165_G_A5_P120.mzXML | 515                                        | naive                                      | 142                                        | LA                                         | A5                                         | P120                                       | 0                                          | 0.000793961                                |\n",
       "| X531_Group1C_142dpi_LA_166_G_A6_P120.mzXML | 531                                        | naive                                      | 142                                        | LA                                         | A6                                         | P120                                       | 0                                          | 0.001016111                                |\n",
       "\n"
      ],
      "text/plain": [
       "  filename                                   MouseID Treatmentgroup DPI organ\n",
       "1 X511_Group1C_142dpi_LA_161_G_A1_P120.mzXML 511     naive          142 LA   \n",
       "2 X512_Group1C_142dpi_LA_162_G_A2_P120.mzXML 512     naive          142 LA   \n",
       "3 X513_Group1C_142dpi_LA_163_G_A3_P120.mzXML 513     naive          142 LA   \n",
       "4 X514_Group1C_142dpi_LA_164_G_A4_P120.mzXML 514     naive          142 LA   \n",
       "5 X515_Group1C_142dpi_LA_165_G_A5_P120.mzXML 515     naive          142 LA   \n",
       "6 X531_Group1C_142dpi_LA_166_G_A6_P120.mzXML 531     naive          142 LA   \n",
       "  well_position plate CAR_mid_chain CAR_long_chain\n",
       "1 A1            P120  0             0.002466692   \n",
       "2 A2            P120  0             0.001265076   \n",
       "3 A3            P120  0             0.000731922   \n",
       "4 A4            P120  0             0.001584927   \n",
       "5 A5            P120  0             0.000793961   \n",
       "6 A6            P120  0             0.001016111   "
      ]
     },
     "metadata": {},
     "output_type": "display_data"
    },
    {
     "data": {
      "text/html": [
       "<ol class=list-inline>\n",
       "\t<li>30</li>\n",
       "\t<li>9</li>\n",
       "</ol>\n"
      ],
      "text/latex": [
       "\\begin{enumerate*}\n",
       "\\item 30\n",
       "\\item 9\n",
       "\\end{enumerate*}\n"
      ],
      "text/markdown": [
       "1. 30\n",
       "2. 9\n",
       "\n",
       "\n"
      ],
      "text/plain": [
       "[1] 30  9"
      ]
     },
     "metadata": {},
     "output_type": "display_data"
    }
   ],
   "source": [
    "features_pos<-droplevels(subset(a, a$Treatmentgroup==c(\"naive\")|a$Treatmentgroup==c(\"combo\")))\n",
    "head(features_pos)\n",
    "dim(features_pos)"
   ]
  },
  {
   "cell_type": "code",
   "execution_count": 4,
   "metadata": {
    "scrolled": false
   },
   "outputs": [
    {
     "data": {
      "text/html": [
       "<table>\n",
       "<thead><tr><th scope=col>CAR_mid_chain</th><th scope=col>CAR_long_chain</th></tr></thead>\n",
       "<tbody>\n",
       "\t<tr><td>0          </td><td>0.002466692</td></tr>\n",
       "\t<tr><td>0          </td><td>0.001265076</td></tr>\n",
       "\t<tr><td>0          </td><td>0.000731922</td></tr>\n",
       "\t<tr><td>0          </td><td>0.001584927</td></tr>\n",
       "\t<tr><td>0          </td><td>0.000793961</td></tr>\n",
       "\t<tr><td>0          </td><td>0.001016111</td></tr>\n",
       "</tbody>\n",
       "</table>\n"
      ],
      "text/latex": [
       "\\begin{tabular}{r|ll}\n",
       " CAR\\_mid\\_chain & CAR\\_long\\_chain\\\\\n",
       "\\hline\n",
       "\t 0           & 0.002466692\\\\\n",
       "\t 0           & 0.001265076\\\\\n",
       "\t 0           & 0.000731922\\\\\n",
       "\t 0           & 0.001584927\\\\\n",
       "\t 0           & 0.000793961\\\\\n",
       "\t 0           & 0.001016111\\\\\n",
       "\\end{tabular}\n"
      ],
      "text/markdown": [
       "\n",
       "| CAR_mid_chain | CAR_long_chain |\n",
       "|---|---|\n",
       "| 0           | 0.002466692 |\n",
       "| 0           | 0.001265076 |\n",
       "| 0           | 0.000731922 |\n",
       "| 0           | 0.001584927 |\n",
       "| 0           | 0.000793961 |\n",
       "| 0           | 0.001016111 |\n",
       "\n"
      ],
      "text/plain": [
       "  CAR_mid_chain CAR_long_chain\n",
       "1 0             0.002466692   \n",
       "2 0             0.001265076   \n",
       "3 0             0.000731922   \n",
       "4 0             0.001584927   \n",
       "5 0             0.000793961   \n",
       "6 0             0.001016111   "
      ]
     },
     "metadata": {},
     "output_type": "display_data"
    },
    {
     "data": {
      "text/html": [
       "<dl class=dl-horizontal>\n",
       "\t<dt>CAR_mid_chain</dt>\n",
       "\t\t<dd>1</dd>\n",
       "\t<dt>CAR_long_chain</dt>\n",
       "\t\t<dd>2</dd>\n",
       "</dl>\n"
      ],
      "text/latex": [
       "\\begin{description*}\n",
       "\\item[CAR\\textbackslash{}\\_mid\\textbackslash{}\\_chain] 1\n",
       "\\item[CAR\\textbackslash{}\\_long\\textbackslash{}\\_chain] 2\n",
       "\\end{description*}\n"
      ],
      "text/markdown": [
       "CAR_mid_chain\n",
       ":   1CAR_long_chain\n",
       ":   2\n",
       "\n"
      ],
      "text/plain": [
       " CAR_mid_chain CAR_long_chain \n",
       "             1              2 "
      ]
     },
     "metadata": {},
     "output_type": "display_data"
    },
    {
     "data": {
      "text/html": [
       "<table>\n",
       "<thead><tr><th></th><th scope=col>CAR_mid_chain</th><th scope=col>CAR_long_chain</th></tr></thead>\n",
       "<tbody>\n",
       "\t<tr><th scope=row>1</th><td>0.00e+00   </td><td>0.002466692</td></tr>\n",
       "\t<tr><th scope=row>2</th><td>0.00e+00   </td><td>0.001265076</td></tr>\n",
       "\t<tr><th scope=row>3</th><td>0.00e+00   </td><td>0.000731922</td></tr>\n",
       "\t<tr><th scope=row>4</th><td>0.00e+00   </td><td>0.001584927</td></tr>\n",
       "\t<tr><th scope=row>5</th><td>0.00e+00   </td><td>0.000793961</td></tr>\n",
       "\t<tr><th scope=row>6</th><td>0.00e+00   </td><td>0.001016111</td></tr>\n",
       "\t<tr><th scope=row>7</th><td>0.00e+00   </td><td>0.001184383</td></tr>\n",
       "\t<tr><th scope=row>8</th><td>0.00e+00   </td><td>0.001126250</td></tr>\n",
       "\t<tr><th scope=row>9</th><td>0.00e+00   </td><td>0.001804336</td></tr>\n",
       "\t<tr><th scope=row>10</th><td>0.00e+00   </td><td>0.001334937</td></tr>\n",
       "\t<tr><th scope=row>11</th><td>1.88e-05   </td><td>0.005038145</td></tr>\n",
       "\t<tr><th scope=row>12</th><td>0.00e+00   </td><td>0.001818173</td></tr>\n",
       "\t<tr><th scope=row>13</th><td>0.00e+00   </td><td>0.002070501</td></tr>\n",
       "\t<tr><th scope=row>14</th><td>0.00e+00   </td><td>0.000719968</td></tr>\n",
       "\t<tr><th scope=row>15</th><td>0.00e+00   </td><td>0.005655063</td></tr>\n",
       "\t<tr><th scope=row>21</th><td>0.00e+00   </td><td>0.011610114</td></tr>\n",
       "\t<tr><th scope=row>22</th><td>0.00e+00   </td><td>0.002357211</td></tr>\n",
       "\t<tr><th scope=row>23</th><td>0.00e+00   </td><td>0.001973185</td></tr>\n",
       "\t<tr><th scope=row>24</th><td>0.00e+00   </td><td>0.003930774</td></tr>\n",
       "\t<tr><th scope=row>25</th><td>3.61e-05   </td><td>0.006991817</td></tr>\n",
       "\t<tr><th scope=row>36</th><td>0.00e+00   </td><td>0.001577145</td></tr>\n",
       "\t<tr><th scope=row>37</th><td>0.00e+00   </td><td>0.000164400</td></tr>\n",
       "\t<tr><th scope=row>38</th><td>0.00e+00   </td><td>0.004433829</td></tr>\n",
       "\t<tr><th scope=row>39</th><td>2.31e-05   </td><td>0.005217251</td></tr>\n",
       "\t<tr><th scope=row>40</th><td>0.00e+00   </td><td>0.001503109</td></tr>\n",
       "\t<tr><th scope=row>51</th><td>0.00e+00   </td><td>0.002814208</td></tr>\n",
       "\t<tr><th scope=row>52</th><td>0.00e+00   </td><td>0.004115445</td></tr>\n",
       "\t<tr><th scope=row>53</th><td>0.00e+00   </td><td>0.001358827</td></tr>\n",
       "\t<tr><th scope=row>54</th><td>0.00e+00   </td><td>0.000960926</td></tr>\n",
       "\t<tr><th scope=row>55</th><td>0.00e+00   </td><td>0.002823466</td></tr>\n",
       "</tbody>\n",
       "</table>\n"
      ],
      "text/latex": [
       "\\begin{tabular}{r|ll}\n",
       "  & CAR\\_mid\\_chain & CAR\\_long\\_chain\\\\\n",
       "\\hline\n",
       "\t1 & 0.00e+00    & 0.002466692\\\\\n",
       "\t2 & 0.00e+00    & 0.001265076\\\\\n",
       "\t3 & 0.00e+00    & 0.000731922\\\\\n",
       "\t4 & 0.00e+00    & 0.001584927\\\\\n",
       "\t5 & 0.00e+00    & 0.000793961\\\\\n",
       "\t6 & 0.00e+00    & 0.001016111\\\\\n",
       "\t7 & 0.00e+00    & 0.001184383\\\\\n",
       "\t8 & 0.00e+00    & 0.001126250\\\\\n",
       "\t9 & 0.00e+00    & 0.001804336\\\\\n",
       "\t10 & 0.00e+00    & 0.001334937\\\\\n",
       "\t11 & 1.88e-05    & 0.005038145\\\\\n",
       "\t12 & 0.00e+00    & 0.001818173\\\\\n",
       "\t13 & 0.00e+00    & 0.002070501\\\\\n",
       "\t14 & 0.00e+00    & 0.000719968\\\\\n",
       "\t15 & 0.00e+00    & 0.005655063\\\\\n",
       "\t21 & 0.00e+00    & 0.011610114\\\\\n",
       "\t22 & 0.00e+00    & 0.002357211\\\\\n",
       "\t23 & 0.00e+00    & 0.001973185\\\\\n",
       "\t24 & 0.00e+00    & 0.003930774\\\\\n",
       "\t25 & 3.61e-05    & 0.006991817\\\\\n",
       "\t36 & 0.00e+00    & 0.001577145\\\\\n",
       "\t37 & 0.00e+00    & 0.000164400\\\\\n",
       "\t38 & 0.00e+00    & 0.004433829\\\\\n",
       "\t39 & 2.31e-05    & 0.005217251\\\\\n",
       "\t40 & 0.00e+00    & 0.001503109\\\\\n",
       "\t51 & 0.00e+00    & 0.002814208\\\\\n",
       "\t52 & 0.00e+00    & 0.004115445\\\\\n",
       "\t53 & 0.00e+00    & 0.001358827\\\\\n",
       "\t54 & 0.00e+00    & 0.000960926\\\\\n",
       "\t55 & 0.00e+00    & 0.002823466\\\\\n",
       "\\end{tabular}\n"
      ],
      "text/markdown": [
       "\n",
       "| <!--/--> | CAR_mid_chain | CAR_long_chain |\n",
       "|---|---|---|\n",
       "| 1 | 0.00e+00    | 0.002466692 |\n",
       "| 2 | 0.00e+00    | 0.001265076 |\n",
       "| 3 | 0.00e+00    | 0.000731922 |\n",
       "| 4 | 0.00e+00    | 0.001584927 |\n",
       "| 5 | 0.00e+00    | 0.000793961 |\n",
       "| 6 | 0.00e+00    | 0.001016111 |\n",
       "| 7 | 0.00e+00    | 0.001184383 |\n",
       "| 8 | 0.00e+00    | 0.001126250 |\n",
       "| 9 | 0.00e+00    | 0.001804336 |\n",
       "| 10 | 0.00e+00    | 0.001334937 |\n",
       "| 11 | 1.88e-05    | 0.005038145 |\n",
       "| 12 | 0.00e+00    | 0.001818173 |\n",
       "| 13 | 0.00e+00    | 0.002070501 |\n",
       "| 14 | 0.00e+00    | 0.000719968 |\n",
       "| 15 | 0.00e+00    | 0.005655063 |\n",
       "| 21 | 0.00e+00    | 0.011610114 |\n",
       "| 22 | 0.00e+00    | 0.002357211 |\n",
       "| 23 | 0.00e+00    | 0.001973185 |\n",
       "| 24 | 0.00e+00    | 0.003930774 |\n",
       "| 25 | 3.61e-05    | 0.006991817 |\n",
       "| 36 | 0.00e+00    | 0.001577145 |\n",
       "| 37 | 0.00e+00    | 0.000164400 |\n",
       "| 38 | 0.00e+00    | 0.004433829 |\n",
       "| 39 | 2.31e-05    | 0.005217251 |\n",
       "| 40 | 0.00e+00    | 0.001503109 |\n",
       "| 51 | 0.00e+00    | 0.002814208 |\n",
       "| 52 | 0.00e+00    | 0.004115445 |\n",
       "| 53 | 0.00e+00    | 0.001358827 |\n",
       "| 54 | 0.00e+00    | 0.000960926 |\n",
       "| 55 | 0.00e+00    | 0.002823466 |\n",
       "\n"
      ],
      "text/plain": [
       "   CAR_mid_chain CAR_long_chain\n",
       "1  0.00e+00      0.002466692   \n",
       "2  0.00e+00      0.001265076   \n",
       "3  0.00e+00      0.000731922   \n",
       "4  0.00e+00      0.001584927   \n",
       "5  0.00e+00      0.000793961   \n",
       "6  0.00e+00      0.001016111   \n",
       "7  0.00e+00      0.001184383   \n",
       "8  0.00e+00      0.001126250   \n",
       "9  0.00e+00      0.001804336   \n",
       "10 0.00e+00      0.001334937   \n",
       "11 1.88e-05      0.005038145   \n",
       "12 0.00e+00      0.001818173   \n",
       "13 0.00e+00      0.002070501   \n",
       "14 0.00e+00      0.000719968   \n",
       "15 0.00e+00      0.005655063   \n",
       "21 0.00e+00      0.011610114   \n",
       "22 0.00e+00      0.002357211   \n",
       "23 0.00e+00      0.001973185   \n",
       "24 0.00e+00      0.003930774   \n",
       "25 3.61e-05      0.006991817   \n",
       "36 0.00e+00      0.001577145   \n",
       "37 0.00e+00      0.000164400   \n",
       "38 0.00e+00      0.004433829   \n",
       "39 2.31e-05      0.005217251   \n",
       "40 0.00e+00      0.001503109   \n",
       "51 0.00e+00      0.002814208   \n",
       "52 0.00e+00      0.004115445   \n",
       "53 0.00e+00      0.001358827   \n",
       "54 0.00e+00      0.000960926   \n",
       "55 0.00e+00      0.002823466   "
      ]
     },
     "metadata": {},
     "output_type": "display_data"
    },
    {
     "data": {
      "text/html": [
       "<table>\n",
       "<thead><tr><th scope=col>filename</th><th scope=col>MouseID</th><th scope=col>Treatmentgroup</th><th scope=col>DPI</th><th scope=col>organ</th><th scope=col>well_position</th><th scope=col>plate</th><th scope=col>CAR_mid_chain</th><th scope=col>CAR_long_chain</th></tr></thead>\n",
       "<tbody>\n",
       "\t<tr><td>X511_Group1C_142dpi_LA_161_G_A1_P120.mzXML</td><td>511                                       </td><td>naive                                     </td><td>142                                       </td><td>LA                                        </td><td>A1                                        </td><td>P120                                      </td><td>0                                         </td><td>0.002466692                               </td></tr>\n",
       "\t<tr><td>X512_Group1C_142dpi_LA_162_G_A2_P120.mzXML</td><td>512                                       </td><td>naive                                     </td><td>142                                       </td><td>LA                                        </td><td>A2                                        </td><td>P120                                      </td><td>0                                         </td><td>0.001265076                               </td></tr>\n",
       "\t<tr><td>X513_Group1C_142dpi_LA_163_G_A3_P120.mzXML</td><td>513                                       </td><td>naive                                     </td><td>142                                       </td><td>LA                                        </td><td>A3                                        </td><td>P120                                      </td><td>0                                         </td><td>0.000731922                               </td></tr>\n",
       "\t<tr><td>X514_Group1C_142dpi_LA_164_G_A4_P120.mzXML</td><td>514                                       </td><td>naive                                     </td><td>142                                       </td><td>LA                                        </td><td>A4                                        </td><td>P120                                      </td><td>0                                         </td><td>0.001584927                               </td></tr>\n",
       "\t<tr><td>X515_Group1C_142dpi_LA_165_G_A5_P120.mzXML</td><td>515                                       </td><td>naive                                     </td><td>142                                       </td><td>LA                                        </td><td>A5                                        </td><td>P120                                      </td><td>0                                         </td><td>0.000793961                               </td></tr>\n",
       "\t<tr><td>X531_Group1C_142dpi_LA_166_G_A6_P120.mzXML</td><td>531                                       </td><td>naive                                     </td><td>142                                       </td><td>LA                                        </td><td>A6                                        </td><td>P120                                      </td><td>0                                         </td><td>0.001016111                               </td></tr>\n",
       "</tbody>\n",
       "</table>\n"
      ],
      "text/latex": [
       "\\begin{tabular}{r|lllllllll}\n",
       " filename & MouseID & Treatmentgroup & DPI & organ & well\\_position & plate & CAR\\_mid\\_chain & CAR\\_long\\_chain\\\\\n",
       "\\hline\n",
       "\t X511\\_Group1C\\_142dpi\\_LA\\_161\\_G\\_A1\\_P120.mzXML & 511                                                      & naive                                                    & 142                                                      & LA                                                       & A1                                                       & P120                                                     & 0                                                        & 0.002466692                                             \\\\\n",
       "\t X512\\_Group1C\\_142dpi\\_LA\\_162\\_G\\_A2\\_P120.mzXML & 512                                                      & naive                                                    & 142                                                      & LA                                                       & A2                                                       & P120                                                     & 0                                                        & 0.001265076                                             \\\\\n",
       "\t X513\\_Group1C\\_142dpi\\_LA\\_163\\_G\\_A3\\_P120.mzXML & 513                                                      & naive                                                    & 142                                                      & LA                                                       & A3                                                       & P120                                                     & 0                                                        & 0.000731922                                             \\\\\n",
       "\t X514\\_Group1C\\_142dpi\\_LA\\_164\\_G\\_A4\\_P120.mzXML & 514                                                      & naive                                                    & 142                                                      & LA                                                       & A4                                                       & P120                                                     & 0                                                        & 0.001584927                                             \\\\\n",
       "\t X515\\_Group1C\\_142dpi\\_LA\\_165\\_G\\_A5\\_P120.mzXML & 515                                                      & naive                                                    & 142                                                      & LA                                                       & A5                                                       & P120                                                     & 0                                                        & 0.000793961                                             \\\\\n",
       "\t X531\\_Group1C\\_142dpi\\_LA\\_166\\_G\\_A6\\_P120.mzXML & 531                                                      & naive                                                    & 142                                                      & LA                                                       & A6                                                       & P120                                                     & 0                                                        & 0.001016111                                             \\\\\n",
       "\\end{tabular}\n"
      ],
      "text/markdown": [
       "\n",
       "| filename | MouseID | Treatmentgroup | DPI | organ | well_position | plate | CAR_mid_chain | CAR_long_chain |\n",
       "|---|---|---|---|---|---|---|---|---|\n",
       "| X511_Group1C_142dpi_LA_161_G_A1_P120.mzXML | 511                                        | naive                                      | 142                                        | LA                                         | A1                                         | P120                                       | 0                                          | 0.002466692                                |\n",
       "| X512_Group1C_142dpi_LA_162_G_A2_P120.mzXML | 512                                        | naive                                      | 142                                        | LA                                         | A2                                         | P120                                       | 0                                          | 0.001265076                                |\n",
       "| X513_Group1C_142dpi_LA_163_G_A3_P120.mzXML | 513                                        | naive                                      | 142                                        | LA                                         | A3                                         | P120                                       | 0                                          | 0.000731922                                |\n",
       "| X514_Group1C_142dpi_LA_164_G_A4_P120.mzXML | 514                                        | naive                                      | 142                                        | LA                                         | A4                                         | P120                                       | 0                                          | 0.001584927                                |\n",
       "| X515_Group1C_142dpi_LA_165_G_A5_P120.mzXML | 515                                        | naive                                      | 142                                        | LA                                         | A5                                         | P120                                       | 0                                          | 0.000793961                                |\n",
       "| X531_Group1C_142dpi_LA_166_G_A6_P120.mzXML | 531                                        | naive                                      | 142                                        | LA                                         | A6                                         | P120                                       | 0                                          | 0.001016111                                |\n",
       "\n"
      ],
      "text/plain": [
       "  filename                                   MouseID Treatmentgroup DPI organ\n",
       "1 X511_Group1C_142dpi_LA_161_G_A1_P120.mzXML 511     naive          142 LA   \n",
       "2 X512_Group1C_142dpi_LA_162_G_A2_P120.mzXML 512     naive          142 LA   \n",
       "3 X513_Group1C_142dpi_LA_163_G_A3_P120.mzXML 513     naive          142 LA   \n",
       "4 X514_Group1C_142dpi_LA_164_G_A4_P120.mzXML 514     naive          142 LA   \n",
       "5 X515_Group1C_142dpi_LA_165_G_A5_P120.mzXML 515     naive          142 LA   \n",
       "6 X531_Group1C_142dpi_LA_166_G_A6_P120.mzXML 531     naive          142 LA   \n",
       "  well_position plate CAR_mid_chain CAR_long_chain\n",
       "1 A1            P120  0             0.002466692   \n",
       "2 A2            P120  0             0.001265076   \n",
       "3 A3            P120  0             0.000731922   \n",
       "4 A4            P120  0             0.001584927   \n",
       "5 A5            P120  0             0.000793961   \n",
       "6 A6            P120  0             0.001016111   "
      ]
     },
     "metadata": {},
     "output_type": "display_data"
    },
    {
     "data": {
      "text/html": [
       "<ol class=list-inline>\n",
       "\t<li>30</li>\n",
       "\t<li>9</li>\n",
       "</ol>\n"
      ],
      "text/latex": [
       "\\begin{enumerate*}\n",
       "\\item 30\n",
       "\\item 9\n",
       "\\end{enumerate*}\n"
      ],
      "text/markdown": [
       "1. 30\n",
       "2. 9\n",
       "\n",
       "\n"
      ],
      "text/plain": [
       "[1] 30  9"
      ]
     },
     "metadata": {},
     "output_type": "display_data"
    },
    {
     "data": {
      "text/html": [
       "<ol class=list-inline>\n",
       "\t<li>30</li>\n",
       "\t<li>2</li>\n",
       "</ol>\n"
      ],
      "text/latex": [
       "\\begin{enumerate*}\n",
       "\\item 30\n",
       "\\item 2\n",
       "\\end{enumerate*}\n"
      ],
      "text/markdown": [
       "1. 30\n",
       "2. 2\n",
       "\n",
       "\n"
      ],
      "text/plain": [
       "[1] 30  2"
      ]
     },
     "metadata": {},
     "output_type": "display_data"
    },
    {
     "data": {
      "text/html": [
       "<ol class=list-inline>\n",
       "\t<li>30</li>\n",
       "\t<li>2</li>\n",
       "</ol>\n"
      ],
      "text/latex": [
       "\\begin{enumerate*}\n",
       "\\item 30\n",
       "\\item 2\n",
       "\\end{enumerate*}\n"
      ],
      "text/markdown": [
       "1. 30\n",
       "2. 2\n",
       "\n",
       "\n"
      ],
      "text/plain": [
       "[1] 30  2"
      ]
     },
     "metadata": {},
     "output_type": "display_data"
    },
    {
     "data": {
      "text/html": [
       "<ol class=list-inline>\n",
       "\t<li>30</li>\n",
       "\t<li>9</li>\n",
       "</ol>\n"
      ],
      "text/latex": [
       "\\begin{enumerate*}\n",
       "\\item 30\n",
       "\\item 9\n",
       "\\end{enumerate*}\n"
      ],
      "text/markdown": [
       "1. 30\n",
       "2. 9\n",
       "\n",
       "\n"
      ],
      "text/plain": [
       "[1] 30  9"
      ]
     },
     "metadata": {},
     "output_type": "display_data"
    }
   ],
   "source": [
    "noMeta<-features_pos[,8:9]\n",
    "head(noMeta)\n",
    "not_zero<-which(colSums(noMeta) != 0)\n",
    "head(not_zero)\n",
    "nonzero <- noMeta[, not_zero] \n",
    "nonzero\n",
    "nonzero_wMeta<-cbind(features_pos[,1:7], nonzero)\n",
    "head(nonzero_wMeta)\n",
    "dim(features_pos)\n",
    "dim(noMeta)\n",
    "dim(nonzero)\n",
    "dim(nonzero_wMeta)"
   ]
  },
  {
   "cell_type": "code",
   "execution_count": 5,
   "metadata": {
    "scrolled": true
   },
   "outputs": [
    {
     "name": "stderr",
     "output_type": "stream",
     "text": [
      "Warning message in wilcox.test.default(x = c(0, 0, 0, 0, 3.61e-05, 0, 0, 0, 2.31e-05, :\n",
      "\"cannot compute exact p-value with ties\""
     ]
    },
    {
     "data": {
      "text/html": [
       "<ol class=list-inline>\n",
       "\t<li>0.523998655936988</li>\n",
       "\t<li>0.0555296397209032</li>\n",
       "</ol>\n"
      ],
      "text/latex": [
       "\\begin{enumerate*}\n",
       "\\item 0.523998655936988\n",
       "\\item 0.0555296397209032\n",
       "\\end{enumerate*}\n"
      ],
      "text/markdown": [
       "1. 0.523998655936988\n",
       "2. 0.0555296397209032\n",
       "\n",
       "\n"
      ],
      "text/plain": [
       "[1] 0.52399866 0.05552964"
      ]
     },
     "metadata": {},
     "output_type": "display_data"
    },
    {
     "data": {
      "text/html": [
       "<ol class=list-inline>\n",
       "\t<li>0.523998655936988</li>\n",
       "\t<li>0.111059279441806</li>\n",
       "</ol>\n"
      ],
      "text/latex": [
       "\\begin{enumerate*}\n",
       "\\item 0.523998655936988\n",
       "\\item 0.111059279441806\n",
       "\\end{enumerate*}\n"
      ],
      "text/markdown": [
       "1. 0.523998655936988\n",
       "2. 0.111059279441806\n",
       "\n",
       "\n"
      ],
      "text/plain": [
       "[1] 0.5239987 0.1110593"
      ]
     },
     "metadata": {},
     "output_type": "display_data"
    }
   ],
   "source": [
    "pval<-c()\n",
    "\n",
    "for (i in 8:ncol(nonzero_wMeta)) \n",
    "pval<-c(pval,wilcox.test(nonzero_wMeta[,i]~nonzero_wMeta$Treatmentgroup)$p.value)\n",
    "head(pval)\n",
    "pAdj <- p.adjust(pval, method = c(\"fdr\"), n=length(pval)) \n",
    "head(pAdj) \n",
    "\n"
   ]
  },
  {
   "cell_type": "code",
   "execution_count": 6,
   "metadata": {
    "scrolled": true
   },
   "outputs": [
    {
     "data": {
      "text/html": [
       "2"
      ],
      "text/latex": [
       "2"
      ],
      "text/markdown": [
       "2"
      ],
      "text/plain": [
       "[1] 2"
      ]
     },
     "metadata": {},
     "output_type": "display_data"
    }
   ],
   "source": [
    "length(pval)"
   ]
  },
  {
   "cell_type": "code",
   "execution_count": 7,
   "metadata": {
    "scrolled": true
   },
   "outputs": [
    {
     "data": {
      "text/html": [
       "2"
      ],
      "text/latex": [
       "2"
      ],
      "text/markdown": [
       "2"
      ],
      "text/plain": [
       "[1] 2"
      ]
     },
     "metadata": {},
     "output_type": "display_data"
    }
   ],
   "source": [
    "length(pAdj)"
   ]
  },
  {
   "cell_type": "code",
   "execution_count": 8,
   "metadata": {},
   "outputs": [
    {
     "data": {
      "text/html": [
       "<ol class=list-inline>\n",
       "\t<li>2</li>\n",
       "\t<li>2</li>\n",
       "</ol>\n"
      ],
      "text/latex": [
       "\\begin{enumerate*}\n",
       "\\item 2\n",
       "\\item 2\n",
       "\\end{enumerate*}\n"
      ],
      "text/markdown": [
       "1. 2\n",
       "2. 2\n",
       "\n",
       "\n"
      ],
      "text/plain": [
       "[1] 2 2"
      ]
     },
     "metadata": {},
     "output_type": "display_data"
    },
    {
     "data": {
      "text/html": [
       "<table>\n",
       "<thead><tr><th></th><th scope=col>CAR_mid_chain</th><th scope=col>CAR_long_chain</th></tr></thead>\n",
       "<tbody>\n",
       "\t<tr><th scope=row>combo</th><td>3.946667e-06</td><td>0.003455447 </td></tr>\n",
       "\t<tr><th scope=row>naive</th><td>1.253333e-06</td><td>0.001907363 </td></tr>\n",
       "</tbody>\n",
       "</table>\n"
      ],
      "text/latex": [
       "\\begin{tabular}{r|ll}\n",
       "  & CAR\\_mid\\_chain & CAR\\_long\\_chain\\\\\n",
       "\\hline\n",
       "\tcombo & 3.946667e-06 & 0.003455447 \\\\\n",
       "\tnaive & 1.253333e-06 & 0.001907363 \\\\\n",
       "\\end{tabular}\n"
      ],
      "text/markdown": [
       "\n",
       "| <!--/--> | CAR_mid_chain | CAR_long_chain |\n",
       "|---|---|---|\n",
       "| combo | 3.946667e-06 | 0.003455447  |\n",
       "| naive | 1.253333e-06 | 0.001907363  |\n",
       "\n"
      ],
      "text/plain": [
       "      CAR_mid_chain CAR_long_chain\n",
       "combo 3.946667e-06  0.003455447   \n",
       "naive 1.253333e-06  0.001907363   "
      ]
     },
     "metadata": {},
     "output_type": "display_data"
    },
    {
     "data": {
      "text/html": [
       "<dl class=dl-horizontal>\n",
       "\t<dt>CAR_mid_chain</dt>\n",
       "\t\t<dd>3.14893617021277</dd>\n",
       "\t<dt>CAR_long_chain</dt>\n",
       "\t\t<dd>1.81163582041454</dd>\n",
       "</dl>\n"
      ],
      "text/latex": [
       "\\begin{description*}\n",
       "\\item[CAR\\textbackslash{}\\_mid\\textbackslash{}\\_chain] 3.14893617021277\n",
       "\\item[CAR\\textbackslash{}\\_long\\textbackslash{}\\_chain] 1.81163582041454\n",
       "\\end{description*}\n"
      ],
      "text/markdown": [
       "CAR_mid_chain\n",
       ":   3.14893617021277CAR_long_chain\n",
       ":   1.81163582041454\n",
       "\n"
      ],
      "text/plain": [
       " CAR_mid_chain CAR_long_chain \n",
       "      3.148936       1.811636 "
      ]
     },
     "metadata": {},
     "output_type": "display_data"
    },
    {
     "data": {
      "text/html": [
       "<ol class=list-inline>\n",
       "\t<li>'numeric'</li>\n",
       "\t<li>'vector'</li>\n",
       "</ol>\n"
      ],
      "text/latex": [
       "\\begin{enumerate*}\n",
       "\\item 'numeric'\n",
       "\\item 'vector'\n",
       "\\end{enumerate*}\n"
      ],
      "text/markdown": [
       "1. 'numeric'\n",
       "2. 'vector'\n",
       "\n",
       "\n"
      ],
      "text/plain": [
       "[1] \"numeric\" \"vector\" "
      ]
     },
     "metadata": {},
     "output_type": "display_data"
    }
   ],
   "source": [
    "avg<- apply(nonzero_wMeta[,8:ncol(nonzero_wMeta)], 2, function(x) tapply(x, nonzero_wMeta$Treatmentgroup, function(x) mean(x))) \n",
    "\n",
    "dim(avg)\n",
    "\n",
    "avg[,1:2]\n",
    "\n",
    "fch <- apply(avg, 2, function(x) x[1]/x[2])\n",
    "\n",
    "head(fch)\n",
    "is(fch)"
   ]
  },
  {
   "cell_type": "code",
   "execution_count": 9,
   "metadata": {
    "scrolled": true
   },
   "outputs": [
    {
     "data": {
      "text/html": [
       "<dl class=dl-horizontal>\n",
       "\t<dt>CAR_mid_chain</dt>\n",
       "\t\t<dd>3.14893617021277</dd>\n",
       "\t<dt>CAR_long_chain</dt>\n",
       "\t\t<dd>1.81163582041454</dd>\n",
       "</dl>\n"
      ],
      "text/latex": [
       "\\begin{description*}\n",
       "\\item[CAR\\textbackslash{}\\_mid\\textbackslash{}\\_chain] 3.14893617021277\n",
       "\\item[CAR\\textbackslash{}\\_long\\textbackslash{}\\_chain] 1.81163582041454\n",
       "\\end{description*}\n"
      ],
      "text/markdown": [
       "CAR_mid_chain\n",
       ":   3.14893617021277CAR_long_chain\n",
       ":   1.81163582041454\n",
       "\n"
      ],
      "text/plain": [
       " CAR_mid_chain CAR_long_chain \n",
       "      3.148936       1.811636 "
      ]
     },
     "metadata": {},
     "output_type": "display_data"
    }
   ],
   "source": [
    "fch"
   ]
  },
  {
   "cell_type": "code",
   "execution_count": 10,
   "metadata": {
    "scrolled": false
   },
   "outputs": [],
   "source": [
    "df <- data.frame(fch,pval, pAdj)\n",
    "write.csv(df, \"CAR-treat-LA-wilcox-naive-combo.csv\")"
   ]
  },
  {
   "cell_type": "code",
   "execution_count": null,
   "metadata": {},
   "outputs": [],
   "source": []
  },
  {
   "cell_type": "code",
   "execution_count": null,
   "metadata": {},
   "outputs": [],
   "source": []
  },
  {
   "cell_type": "code",
   "execution_count": null,
   "metadata": {},
   "outputs": [],
   "source": []
  },
  {
   "cell_type": "code",
   "execution_count": null,
   "metadata": {},
   "outputs": [],
   "source": []
  },
  {
   "cell_type": "code",
   "execution_count": null,
   "metadata": {},
   "outputs": [],
   "source": []
  },
  {
   "cell_type": "code",
   "execution_count": null,
   "metadata": {},
   "outputs": [],
   "source": []
  }
 ],
 "metadata": {
  "kernelspec": {
   "display_name": "R",
   "language": "R",
   "name": "ir"
  },
  "language_info": {
   "codemirror_mode": "r",
   "file_extension": ".r",
   "mimetype": "text/x-r-source",
   "name": "R",
   "pygments_lexer": "r",
   "version": "3.6.1"
  }
 },
 "nbformat": 4,
 "nbformat_minor": 2
}
