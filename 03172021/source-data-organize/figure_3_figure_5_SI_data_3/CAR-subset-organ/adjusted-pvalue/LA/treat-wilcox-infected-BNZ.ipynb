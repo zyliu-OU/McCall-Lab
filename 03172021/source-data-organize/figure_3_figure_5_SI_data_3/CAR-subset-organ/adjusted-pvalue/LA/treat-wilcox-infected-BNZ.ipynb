{
 "cells": [
  {
   "cell_type": "code",
   "execution_count": 1,
   "metadata": {},
   "outputs": [],
   "source": [
    "a <- read.csv(\"03172021-CAR-treatment-LA-M-F.csv\")"
   ]
  },
  {
   "cell_type": "code",
   "execution_count": 2,
   "metadata": {},
   "outputs": [
    {
     "data": {
      "text/html": [
       "<table>\n",
       "<thead><tr><th scope=col>filename</th><th scope=col>MouseID</th><th scope=col>Treatmentgroup</th><th scope=col>DPI</th><th scope=col>organ</th><th scope=col>well_position</th><th scope=col>plate</th><th scope=col>CAR_mid_chain</th><th scope=col>CAR_long_chain</th></tr></thead>\n",
       "<tbody>\n",
       "\t<tr><td>X511_Group1C_142dpi_LA_161_G_A1_P120.mzXML</td><td>511                                       </td><td>naive                                     </td><td>142                                       </td><td>LA                                        </td><td>A1                                        </td><td>P120                                      </td><td>0                                         </td><td>0.002466692                               </td></tr>\n",
       "\t<tr><td>X512_Group1C_142dpi_LA_162_G_A2_P120.mzXML</td><td>512                                       </td><td>naive                                     </td><td>142                                       </td><td>LA                                        </td><td>A2                                        </td><td>P120                                      </td><td>0                                         </td><td>0.001265076                               </td></tr>\n",
       "\t<tr><td>X513_Group1C_142dpi_LA_163_G_A3_P120.mzXML</td><td>513                                       </td><td>naive                                     </td><td>142                                       </td><td>LA                                        </td><td>A3                                        </td><td>P120                                      </td><td>0                                         </td><td>0.000731922                               </td></tr>\n",
       "\t<tr><td>X514_Group1C_142dpi_LA_164_G_A4_P120.mzXML</td><td>514                                       </td><td>naive                                     </td><td>142                                       </td><td>LA                                        </td><td>A4                                        </td><td>P120                                      </td><td>0                                         </td><td>0.001584927                               </td></tr>\n",
       "\t<tr><td>X515_Group1C_142dpi_LA_165_G_A5_P120.mzXML</td><td>515                                       </td><td>naive                                     </td><td>142                                       </td><td>LA                                        </td><td>A5                                        </td><td>P120                                      </td><td>0                                         </td><td>0.000793961                               </td></tr>\n",
       "\t<tr><td>X531_Group1C_142dpi_LA_166_G_A6_P120.mzXML</td><td>531                                       </td><td>naive                                     </td><td>142                                       </td><td>LA                                        </td><td>A6                                        </td><td>P120                                      </td><td>0                                         </td><td>0.001016111                               </td></tr>\n",
       "</tbody>\n",
       "</table>\n"
      ],
      "text/latex": [
       "\\begin{tabular}{r|lllllllll}\n",
       " filename & MouseID & Treatmentgroup & DPI & organ & well\\_position & plate & CAR\\_mid\\_chain & CAR\\_long\\_chain\\\\\n",
       "\\hline\n",
       "\t X511\\_Group1C\\_142dpi\\_LA\\_161\\_G\\_A1\\_P120.mzXML & 511                                                      & naive                                                    & 142                                                      & LA                                                       & A1                                                       & P120                                                     & 0                                                        & 0.002466692                                             \\\\\n",
       "\t X512\\_Group1C\\_142dpi\\_LA\\_162\\_G\\_A2\\_P120.mzXML & 512                                                      & naive                                                    & 142                                                      & LA                                                       & A2                                                       & P120                                                     & 0                                                        & 0.001265076                                             \\\\\n",
       "\t X513\\_Group1C\\_142dpi\\_LA\\_163\\_G\\_A3\\_P120.mzXML & 513                                                      & naive                                                    & 142                                                      & LA                                                       & A3                                                       & P120                                                     & 0                                                        & 0.000731922                                             \\\\\n",
       "\t X514\\_Group1C\\_142dpi\\_LA\\_164\\_G\\_A4\\_P120.mzXML & 514                                                      & naive                                                    & 142                                                      & LA                                                       & A4                                                       & P120                                                     & 0                                                        & 0.001584927                                             \\\\\n",
       "\t X515\\_Group1C\\_142dpi\\_LA\\_165\\_G\\_A5\\_P120.mzXML & 515                                                      & naive                                                    & 142                                                      & LA                                                       & A5                                                       & P120                                                     & 0                                                        & 0.000793961                                             \\\\\n",
       "\t X531\\_Group1C\\_142dpi\\_LA\\_166\\_G\\_A6\\_P120.mzXML & 531                                                      & naive                                                    & 142                                                      & LA                                                       & A6                                                       & P120                                                     & 0                                                        & 0.001016111                                             \\\\\n",
       "\\end{tabular}\n"
      ],
      "text/markdown": [
       "\n",
       "| filename | MouseID | Treatmentgroup | DPI | organ | well_position | plate | CAR_mid_chain | CAR_long_chain |\n",
       "|---|---|---|---|---|---|---|---|---|\n",
       "| X511_Group1C_142dpi_LA_161_G_A1_P120.mzXML | 511                                        | naive                                      | 142                                        | LA                                         | A1                                         | P120                                       | 0                                          | 0.002466692                                |\n",
       "| X512_Group1C_142dpi_LA_162_G_A2_P120.mzXML | 512                                        | naive                                      | 142                                        | LA                                         | A2                                         | P120                                       | 0                                          | 0.001265076                                |\n",
       "| X513_Group1C_142dpi_LA_163_G_A3_P120.mzXML | 513                                        | naive                                      | 142                                        | LA                                         | A3                                         | P120                                       | 0                                          | 0.000731922                                |\n",
       "| X514_Group1C_142dpi_LA_164_G_A4_P120.mzXML | 514                                        | naive                                      | 142                                        | LA                                         | A4                                         | P120                                       | 0                                          | 0.001584927                                |\n",
       "| X515_Group1C_142dpi_LA_165_G_A5_P120.mzXML | 515                                        | naive                                      | 142                                        | LA                                         | A5                                         | P120                                       | 0                                          | 0.000793961                                |\n",
       "| X531_Group1C_142dpi_LA_166_G_A6_P120.mzXML | 531                                        | naive                                      | 142                                        | LA                                         | A6                                         | P120                                       | 0                                          | 0.001016111                                |\n",
       "\n"
      ],
      "text/plain": [
       "  filename                                   MouseID Treatmentgroup DPI organ\n",
       "1 X511_Group1C_142dpi_LA_161_G_A1_P120.mzXML 511     naive          142 LA   \n",
       "2 X512_Group1C_142dpi_LA_162_G_A2_P120.mzXML 512     naive          142 LA   \n",
       "3 X513_Group1C_142dpi_LA_163_G_A3_P120.mzXML 513     naive          142 LA   \n",
       "4 X514_Group1C_142dpi_LA_164_G_A4_P120.mzXML 514     naive          142 LA   \n",
       "5 X515_Group1C_142dpi_LA_165_G_A5_P120.mzXML 515     naive          142 LA   \n",
       "6 X531_Group1C_142dpi_LA_166_G_A6_P120.mzXML 531     naive          142 LA   \n",
       "  well_position plate CAR_mid_chain CAR_long_chain\n",
       "1 A1            P120  0             0.002466692   \n",
       "2 A2            P120  0             0.001265076   \n",
       "3 A3            P120  0             0.000731922   \n",
       "4 A4            P120  0             0.001584927   \n",
       "5 A5            P120  0             0.000793961   \n",
       "6 A6            P120  0             0.001016111   "
      ]
     },
     "metadata": {},
     "output_type": "display_data"
    },
    {
     "data": {
      "text/html": [
       "<ol class=list-inline>\n",
       "\t<li>60</li>\n",
       "\t<li>9</li>\n",
       "</ol>\n"
      ],
      "text/latex": [
       "\\begin{enumerate*}\n",
       "\\item 60\n",
       "\\item 9\n",
       "\\end{enumerate*}\n"
      ],
      "text/markdown": [
       "1. 60\n",
       "2. 9\n",
       "\n",
       "\n"
      ],
      "text/plain": [
       "[1] 60  9"
      ]
     },
     "metadata": {},
     "output_type": "display_data"
    }
   ],
   "source": [
    "head(a)\n",
    "dim(a)"
   ]
  },
  {
   "cell_type": "code",
   "execution_count": 3,
   "metadata": {},
   "outputs": [
    {
     "data": {
      "text/html": [
       "<table>\n",
       "<thead><tr><th></th><th scope=col>filename</th><th scope=col>MouseID</th><th scope=col>Treatmentgroup</th><th scope=col>DPI</th><th scope=col>organ</th><th scope=col>well_position</th><th scope=col>plate</th><th scope=col>CAR_mid_chain</th><th scope=col>CAR_long_chain</th></tr></thead>\n",
       "<tbody>\n",
       "\t<tr><th scope=row>16</th><td>X581_Group3E_142dpi_LA_176_G_B4_P120.mzXML</td><td>581                                       </td><td>infected                                  </td><td>142                                       </td><td>LA                                        </td><td>B4                                        </td><td>P120                                      </td><td>0                                         </td><td>0.001375106                               </td></tr>\n",
       "\t<tr><th scope=row>17</th><td>X582_Group3E_142dpi_LA_177_G_B5_P120.mzXML</td><td>582                                       </td><td>infected                                  </td><td>142                                       </td><td>LA                                        </td><td>B5                                        </td><td>P120                                      </td><td>0                                         </td><td>0.001090347                               </td></tr>\n",
       "\t<tr><th scope=row>18</th><td>X583_Group3E_142dpi_LA_178_G_B6_P120.mzXML</td><td>583                                       </td><td>infected                                  </td><td>142                                       </td><td>LA                                        </td><td>B6                                        </td><td>P120                                      </td><td>0                                         </td><td>0.002862502                               </td></tr>\n",
       "\t<tr><th scope=row>19</th><td>X584_Group3E_142dpi_LA_179_G_B7_P120.mzXML</td><td>584                                       </td><td>infected                                  </td><td>142                                       </td><td>LA                                        </td><td>B7                                        </td><td>P120                                      </td><td>0                                         </td><td>0.004437563                               </td></tr>\n",
       "\t<tr><th scope=row>20</th><td>X585_Group3E_142dpi_LA_180_G_B8_P120.mzXML</td><td>585                                       </td><td>infected                                  </td><td>142                                       </td><td>LA                                        </td><td>B8                                        </td><td>P120                                      </td><td>0                                         </td><td>0.003129263                               </td></tr>\n",
       "\t<tr><th scope=row>26</th><td>X631_Group15_142dpi_LA_191_G_C7_P120.mzXML</td><td>631                                       </td><td>BNZ                                       </td><td>142                                       </td><td>LA                                        </td><td>C7                                        </td><td>P120                                      </td><td>0                                         </td><td>0.007523776                               </td></tr>\n",
       "</tbody>\n",
       "</table>\n"
      ],
      "text/latex": [
       "\\begin{tabular}{r|lllllllll}\n",
       "  & filename & MouseID & Treatmentgroup & DPI & organ & well\\_position & plate & CAR\\_mid\\_chain & CAR\\_long\\_chain\\\\\n",
       "\\hline\n",
       "\t16 & X581\\_Group3E\\_142dpi\\_LA\\_176\\_G\\_B4\\_P120.mzXML & 581                                                      & infected                                                 & 142                                                      & LA                                                       & B4                                                       & P120                                                     & 0                                                        & 0.001375106                                             \\\\\n",
       "\t17 & X582\\_Group3E\\_142dpi\\_LA\\_177\\_G\\_B5\\_P120.mzXML & 582                                                      & infected                                                 & 142                                                      & LA                                                       & B5                                                       & P120                                                     & 0                                                        & 0.001090347                                             \\\\\n",
       "\t18 & X583\\_Group3E\\_142dpi\\_LA\\_178\\_G\\_B6\\_P120.mzXML & 583                                                      & infected                                                 & 142                                                      & LA                                                       & B6                                                       & P120                                                     & 0                                                        & 0.002862502                                             \\\\\n",
       "\t19 & X584\\_Group3E\\_142dpi\\_LA\\_179\\_G\\_B7\\_P120.mzXML & 584                                                      & infected                                                 & 142                                                      & LA                                                       & B7                                                       & P120                                                     & 0                                                        & 0.004437563                                             \\\\\n",
       "\t20 & X585\\_Group3E\\_142dpi\\_LA\\_180\\_G\\_B8\\_P120.mzXML & 585                                                      & infected                                                 & 142                                                      & LA                                                       & B8                                                       & P120                                                     & 0                                                        & 0.003129263                                             \\\\\n",
       "\t26 & X631\\_Group15\\_142dpi\\_LA\\_191\\_G\\_C7\\_P120.mzXML & 631                                                      & BNZ                                                      & 142                                                      & LA                                                       & C7                                                       & P120                                                     & 0                                                        & 0.007523776                                             \\\\\n",
       "\\end{tabular}\n"
      ],
      "text/markdown": [
       "\n",
       "| <!--/--> | filename | MouseID | Treatmentgroup | DPI | organ | well_position | plate | CAR_mid_chain | CAR_long_chain |\n",
       "|---|---|---|---|---|---|---|---|---|---|\n",
       "| 16 | X581_Group3E_142dpi_LA_176_G_B4_P120.mzXML | 581                                        | infected                                   | 142                                        | LA                                         | B4                                         | P120                                       | 0                                          | 0.001375106                                |\n",
       "| 17 | X582_Group3E_142dpi_LA_177_G_B5_P120.mzXML | 582                                        | infected                                   | 142                                        | LA                                         | B5                                         | P120                                       | 0                                          | 0.001090347                                |\n",
       "| 18 | X583_Group3E_142dpi_LA_178_G_B6_P120.mzXML | 583                                        | infected                                   | 142                                        | LA                                         | B6                                         | P120                                       | 0                                          | 0.002862502                                |\n",
       "| 19 | X584_Group3E_142dpi_LA_179_G_B7_P120.mzXML | 584                                        | infected                                   | 142                                        | LA                                         | B7                                         | P120                                       | 0                                          | 0.004437563                                |\n",
       "| 20 | X585_Group3E_142dpi_LA_180_G_B8_P120.mzXML | 585                                        | infected                                   | 142                                        | LA                                         | B8                                         | P120                                       | 0                                          | 0.003129263                                |\n",
       "| 26 | X631_Group15_142dpi_LA_191_G_C7_P120.mzXML | 631                                        | BNZ                                        | 142                                        | LA                                         | C7                                         | P120                                       | 0                                          | 0.007523776                                |\n",
       "\n"
      ],
      "text/plain": [
       "   filename                                   MouseID Treatmentgroup DPI organ\n",
       "16 X581_Group3E_142dpi_LA_176_G_B4_P120.mzXML 581     infected       142 LA   \n",
       "17 X582_Group3E_142dpi_LA_177_G_B5_P120.mzXML 582     infected       142 LA   \n",
       "18 X583_Group3E_142dpi_LA_178_G_B6_P120.mzXML 583     infected       142 LA   \n",
       "19 X584_Group3E_142dpi_LA_179_G_B7_P120.mzXML 584     infected       142 LA   \n",
       "20 X585_Group3E_142dpi_LA_180_G_B8_P120.mzXML 585     infected       142 LA   \n",
       "26 X631_Group15_142dpi_LA_191_G_C7_P120.mzXML 631     BNZ            142 LA   \n",
       "   well_position plate CAR_mid_chain CAR_long_chain\n",
       "16 B4            P120  0             0.001375106   \n",
       "17 B5            P120  0             0.001090347   \n",
       "18 B6            P120  0             0.002862502   \n",
       "19 B7            P120  0             0.004437563   \n",
       "20 B8            P120  0             0.003129263   \n",
       "26 C7            P120  0             0.007523776   "
      ]
     },
     "metadata": {},
     "output_type": "display_data"
    },
    {
     "data": {
      "text/html": [
       "<ol class=list-inline>\n",
       "\t<li>30</li>\n",
       "\t<li>9</li>\n",
       "</ol>\n"
      ],
      "text/latex": [
       "\\begin{enumerate*}\n",
       "\\item 30\n",
       "\\item 9\n",
       "\\end{enumerate*}\n"
      ],
      "text/markdown": [
       "1. 30\n",
       "2. 9\n",
       "\n",
       "\n"
      ],
      "text/plain": [
       "[1] 30  9"
      ]
     },
     "metadata": {},
     "output_type": "display_data"
    }
   ],
   "source": [
    "features_pos<-droplevels(subset(a, a$Treatmentgroup==c(\"infected\")|a$Treatmentgroup==c(\"BNZ\")))\n",
    "head(features_pos)\n",
    "dim(features_pos)"
   ]
  },
  {
   "cell_type": "code",
   "execution_count": 4,
   "metadata": {
    "scrolled": false
   },
   "outputs": [
    {
     "data": {
      "text/html": [
       "<table>\n",
       "<thead><tr><th></th><th scope=col>CAR_mid_chain</th><th scope=col>CAR_long_chain</th></tr></thead>\n",
       "<tbody>\n",
       "\t<tr><th scope=row>16</th><td>0          </td><td>0.001375106</td></tr>\n",
       "\t<tr><th scope=row>17</th><td>0          </td><td>0.001090347</td></tr>\n",
       "\t<tr><th scope=row>18</th><td>0          </td><td>0.002862502</td></tr>\n",
       "\t<tr><th scope=row>19</th><td>0          </td><td>0.004437563</td></tr>\n",
       "\t<tr><th scope=row>20</th><td>0          </td><td>0.003129263</td></tr>\n",
       "\t<tr><th scope=row>26</th><td>0          </td><td>0.007523776</td></tr>\n",
       "</tbody>\n",
       "</table>\n"
      ],
      "text/latex": [
       "\\begin{tabular}{r|ll}\n",
       "  & CAR\\_mid\\_chain & CAR\\_long\\_chain\\\\\n",
       "\\hline\n",
       "\t16 & 0           & 0.001375106\\\\\n",
       "\t17 & 0           & 0.001090347\\\\\n",
       "\t18 & 0           & 0.002862502\\\\\n",
       "\t19 & 0           & 0.004437563\\\\\n",
       "\t20 & 0           & 0.003129263\\\\\n",
       "\t26 & 0           & 0.007523776\\\\\n",
       "\\end{tabular}\n"
      ],
      "text/markdown": [
       "\n",
       "| <!--/--> | CAR_mid_chain | CAR_long_chain |\n",
       "|---|---|---|\n",
       "| 16 | 0           | 0.001375106 |\n",
       "| 17 | 0           | 0.001090347 |\n",
       "| 18 | 0           | 0.002862502 |\n",
       "| 19 | 0           | 0.004437563 |\n",
       "| 20 | 0           | 0.003129263 |\n",
       "| 26 | 0           | 0.007523776 |\n",
       "\n"
      ],
      "text/plain": [
       "   CAR_mid_chain CAR_long_chain\n",
       "16 0             0.001375106   \n",
       "17 0             0.001090347   \n",
       "18 0             0.002862502   \n",
       "19 0             0.004437563   \n",
       "20 0             0.003129263   \n",
       "26 0             0.007523776   "
      ]
     },
     "metadata": {},
     "output_type": "display_data"
    },
    {
     "data": {
      "text/html": [
       "<strong>CAR_long_chain:</strong> 2"
      ],
      "text/latex": [
       "\\textbf{CAR\\textbackslash{}\\_long\\textbackslash{}\\_chain:} 2"
      ],
      "text/markdown": [
       "**CAR_long_chain:** 2"
      ],
      "text/plain": [
       "CAR_long_chain \n",
       "             2 "
      ]
     },
     "metadata": {},
     "output_type": "display_data"
    },
    {
     "data": {
      "text/html": [
       "<ol class=list-inline>\n",
       "\t<li>0.001375106</li>\n",
       "\t<li>0.001090347</li>\n",
       "\t<li>0.002862502</li>\n",
       "\t<li>0.004437563</li>\n",
       "\t<li>0.003129263</li>\n",
       "\t<li>0.007523776</li>\n",
       "\t<li>0.001181233</li>\n",
       "\t<li>0.000631913</li>\n",
       "\t<li>0.004163269</li>\n",
       "\t<li>0.001293676</li>\n",
       "\t<li>0.003986599</li>\n",
       "\t<li>0.001532614</li>\n",
       "\t<li>0.002406818</li>\n",
       "\t<li>0.000802385</li>\n",
       "\t<li>0.003235769</li>\n",
       "\t<li>0.001668795</li>\n",
       "\t<li>0.000768751</li>\n",
       "\t<li>0.001555548</li>\n",
       "\t<li>0.001295085</li>\n",
       "\t<li>0.0001784</li>\n",
       "\t<li>0.002701864</li>\n",
       "\t<li>0.002079755</li>\n",
       "\t<li>0.000738733</li>\n",
       "\t<li>0.00039849</li>\n",
       "\t<li>0.001300849</li>\n",
       "\t<li>0.002717918</li>\n",
       "\t<li>0.011441982</li>\n",
       "\t<li>0.001955901</li>\n",
       "\t<li>0.00039539</li>\n",
       "\t<li>0.000607254</li>\n",
       "</ol>\n"
      ],
      "text/latex": [
       "\\begin{enumerate*}\n",
       "\\item 0.001375106\n",
       "\\item 0.001090347\n",
       "\\item 0.002862502\n",
       "\\item 0.004437563\n",
       "\\item 0.003129263\n",
       "\\item 0.007523776\n",
       "\\item 0.001181233\n",
       "\\item 0.000631913\n",
       "\\item 0.004163269\n",
       "\\item 0.001293676\n",
       "\\item 0.003986599\n",
       "\\item 0.001532614\n",
       "\\item 0.002406818\n",
       "\\item 0.000802385\n",
       "\\item 0.003235769\n",
       "\\item 0.001668795\n",
       "\\item 0.000768751\n",
       "\\item 0.001555548\n",
       "\\item 0.001295085\n",
       "\\item 0.0001784\n",
       "\\item 0.002701864\n",
       "\\item 0.002079755\n",
       "\\item 0.000738733\n",
       "\\item 0.00039849\n",
       "\\item 0.001300849\n",
       "\\item 0.002717918\n",
       "\\item 0.011441982\n",
       "\\item 0.001955901\n",
       "\\item 0.00039539\n",
       "\\item 0.000607254\n",
       "\\end{enumerate*}\n"
      ],
      "text/markdown": [
       "1. 0.001375106\n",
       "2. 0.001090347\n",
       "3. 0.002862502\n",
       "4. 0.004437563\n",
       "5. 0.003129263\n",
       "6. 0.007523776\n",
       "7. 0.001181233\n",
       "8. 0.000631913\n",
       "9. 0.004163269\n",
       "10. 0.001293676\n",
       "11. 0.003986599\n",
       "12. 0.001532614\n",
       "13. 0.002406818\n",
       "14. 0.000802385\n",
       "15. 0.003235769\n",
       "16. 0.001668795\n",
       "17. 0.000768751\n",
       "18. 0.001555548\n",
       "19. 0.001295085\n",
       "20. 0.0001784\n",
       "21. 0.002701864\n",
       "22. 0.002079755\n",
       "23. 0.000738733\n",
       "24. 0.00039849\n",
       "25. 0.001300849\n",
       "26. 0.002717918\n",
       "27. 0.011441982\n",
       "28. 0.001955901\n",
       "29. 0.00039539\n",
       "30. 0.000607254\n",
       "\n",
       "\n"
      ],
      "text/plain": [
       " [1] 0.001375106 0.001090347 0.002862502 0.004437563 0.003129263 0.007523776\n",
       " [7] 0.001181233 0.000631913 0.004163269 0.001293676 0.003986599 0.001532614\n",
       "[13] 0.002406818 0.000802385 0.003235769 0.001668795 0.000768751 0.001555548\n",
       "[19] 0.001295085 0.000178400 0.002701864 0.002079755 0.000738733 0.000398490\n",
       "[25] 0.001300849 0.002717918 0.011441982 0.001955901 0.000395390 0.000607254"
      ]
     },
     "metadata": {},
     "output_type": "display_data"
    },
    {
     "data": {
      "text/html": [
       "<table>\n",
       "<thead><tr><th></th><th scope=col>filename</th><th scope=col>MouseID</th><th scope=col>Treatmentgroup</th><th scope=col>DPI</th><th scope=col>organ</th><th scope=col>well_position</th><th scope=col>plate</th><th scope=col>nonzero</th></tr></thead>\n",
       "<tbody>\n",
       "\t<tr><th scope=row>16</th><td>X581_Group3E_142dpi_LA_176_G_B4_P120.mzXML</td><td>581                                       </td><td>infected                                  </td><td>142                                       </td><td>LA                                        </td><td>B4                                        </td><td>P120                                      </td><td>0.001375106                               </td></tr>\n",
       "\t<tr><th scope=row>17</th><td>X582_Group3E_142dpi_LA_177_G_B5_P120.mzXML</td><td>582                                       </td><td>infected                                  </td><td>142                                       </td><td>LA                                        </td><td>B5                                        </td><td>P120                                      </td><td>0.001090347                               </td></tr>\n",
       "\t<tr><th scope=row>18</th><td>X583_Group3E_142dpi_LA_178_G_B6_P120.mzXML</td><td>583                                       </td><td>infected                                  </td><td>142                                       </td><td>LA                                        </td><td>B6                                        </td><td>P120                                      </td><td>0.002862502                               </td></tr>\n",
       "\t<tr><th scope=row>19</th><td>X584_Group3E_142dpi_LA_179_G_B7_P120.mzXML</td><td>584                                       </td><td>infected                                  </td><td>142                                       </td><td>LA                                        </td><td>B7                                        </td><td>P120                                      </td><td>0.004437563                               </td></tr>\n",
       "\t<tr><th scope=row>20</th><td>X585_Group3E_142dpi_LA_180_G_B8_P120.mzXML</td><td>585                                       </td><td>infected                                  </td><td>142                                       </td><td>LA                                        </td><td>B8                                        </td><td>P120                                      </td><td>0.003129263                               </td></tr>\n",
       "\t<tr><th scope=row>26</th><td>X631_Group15_142dpi_LA_191_G_C7_P120.mzXML</td><td>631                                       </td><td>BNZ                                       </td><td>142                                       </td><td>LA                                        </td><td>C7                                        </td><td>P120                                      </td><td>0.007523776                               </td></tr>\n",
       "</tbody>\n",
       "</table>\n"
      ],
      "text/latex": [
       "\\begin{tabular}{r|llllllll}\n",
       "  & filename & MouseID & Treatmentgroup & DPI & organ & well\\_position & plate & nonzero\\\\\n",
       "\\hline\n",
       "\t16 & X581\\_Group3E\\_142dpi\\_LA\\_176\\_G\\_B4\\_P120.mzXML & 581                                                      & infected                                                 & 142                                                      & LA                                                       & B4                                                       & P120                                                     & 0.001375106                                             \\\\\n",
       "\t17 & X582\\_Group3E\\_142dpi\\_LA\\_177\\_G\\_B5\\_P120.mzXML & 582                                                      & infected                                                 & 142                                                      & LA                                                       & B5                                                       & P120                                                     & 0.001090347                                             \\\\\n",
       "\t18 & X583\\_Group3E\\_142dpi\\_LA\\_178\\_G\\_B6\\_P120.mzXML & 583                                                      & infected                                                 & 142                                                      & LA                                                       & B6                                                       & P120                                                     & 0.002862502                                             \\\\\n",
       "\t19 & X584\\_Group3E\\_142dpi\\_LA\\_179\\_G\\_B7\\_P120.mzXML & 584                                                      & infected                                                 & 142                                                      & LA                                                       & B7                                                       & P120                                                     & 0.004437563                                             \\\\\n",
       "\t20 & X585\\_Group3E\\_142dpi\\_LA\\_180\\_G\\_B8\\_P120.mzXML & 585                                                      & infected                                                 & 142                                                      & LA                                                       & B8                                                       & P120                                                     & 0.003129263                                             \\\\\n",
       "\t26 & X631\\_Group15\\_142dpi\\_LA\\_191\\_G\\_C7\\_P120.mzXML & 631                                                      & BNZ                                                      & 142                                                      & LA                                                       & C7                                                       & P120                                                     & 0.007523776                                             \\\\\n",
       "\\end{tabular}\n"
      ],
      "text/markdown": [
       "\n",
       "| <!--/--> | filename | MouseID | Treatmentgroup | DPI | organ | well_position | plate | nonzero |\n",
       "|---|---|---|---|---|---|---|---|---|\n",
       "| 16 | X581_Group3E_142dpi_LA_176_G_B4_P120.mzXML | 581                                        | infected                                   | 142                                        | LA                                         | B4                                         | P120                                       | 0.001375106                                |\n",
       "| 17 | X582_Group3E_142dpi_LA_177_G_B5_P120.mzXML | 582                                        | infected                                   | 142                                        | LA                                         | B5                                         | P120                                       | 0.001090347                                |\n",
       "| 18 | X583_Group3E_142dpi_LA_178_G_B6_P120.mzXML | 583                                        | infected                                   | 142                                        | LA                                         | B6                                         | P120                                       | 0.002862502                                |\n",
       "| 19 | X584_Group3E_142dpi_LA_179_G_B7_P120.mzXML | 584                                        | infected                                   | 142                                        | LA                                         | B7                                         | P120                                       | 0.004437563                                |\n",
       "| 20 | X585_Group3E_142dpi_LA_180_G_B8_P120.mzXML | 585                                        | infected                                   | 142                                        | LA                                         | B8                                         | P120                                       | 0.003129263                                |\n",
       "| 26 | X631_Group15_142dpi_LA_191_G_C7_P120.mzXML | 631                                        | BNZ                                        | 142                                        | LA                                         | C7                                         | P120                                       | 0.007523776                                |\n",
       "\n"
      ],
      "text/plain": [
       "   filename                                   MouseID Treatmentgroup DPI organ\n",
       "16 X581_Group3E_142dpi_LA_176_G_B4_P120.mzXML 581     infected       142 LA   \n",
       "17 X582_Group3E_142dpi_LA_177_G_B5_P120.mzXML 582     infected       142 LA   \n",
       "18 X583_Group3E_142dpi_LA_178_G_B6_P120.mzXML 583     infected       142 LA   \n",
       "19 X584_Group3E_142dpi_LA_179_G_B7_P120.mzXML 584     infected       142 LA   \n",
       "20 X585_Group3E_142dpi_LA_180_G_B8_P120.mzXML 585     infected       142 LA   \n",
       "26 X631_Group15_142dpi_LA_191_G_C7_P120.mzXML 631     BNZ            142 LA   \n",
       "   well_position plate nonzero    \n",
       "16 B4            P120  0.001375106\n",
       "17 B5            P120  0.001090347\n",
       "18 B6            P120  0.002862502\n",
       "19 B7            P120  0.004437563\n",
       "20 B8            P120  0.003129263\n",
       "26 C7            P120  0.007523776"
      ]
     },
     "metadata": {},
     "output_type": "display_data"
    },
    {
     "data": {
      "text/html": [
       "<ol class=list-inline>\n",
       "\t<li>30</li>\n",
       "\t<li>9</li>\n",
       "</ol>\n"
      ],
      "text/latex": [
       "\\begin{enumerate*}\n",
       "\\item 30\n",
       "\\item 9\n",
       "\\end{enumerate*}\n"
      ],
      "text/markdown": [
       "1. 30\n",
       "2. 9\n",
       "\n",
       "\n"
      ],
      "text/plain": [
       "[1] 30  9"
      ]
     },
     "metadata": {},
     "output_type": "display_data"
    },
    {
     "data": {
      "text/html": [
       "<ol class=list-inline>\n",
       "\t<li>30</li>\n",
       "\t<li>2</li>\n",
       "</ol>\n"
      ],
      "text/latex": [
       "\\begin{enumerate*}\n",
       "\\item 30\n",
       "\\item 2\n",
       "\\end{enumerate*}\n"
      ],
      "text/markdown": [
       "1. 30\n",
       "2. 2\n",
       "\n",
       "\n"
      ],
      "text/plain": [
       "[1] 30  2"
      ]
     },
     "metadata": {},
     "output_type": "display_data"
    },
    {
     "data": {
      "text/plain": [
       "NULL"
      ]
     },
     "metadata": {},
     "output_type": "display_data"
    },
    {
     "data": {
      "text/html": [
       "<ol class=list-inline>\n",
       "\t<li>30</li>\n",
       "\t<li>8</li>\n",
       "</ol>\n"
      ],
      "text/latex": [
       "\\begin{enumerate*}\n",
       "\\item 30\n",
       "\\item 8\n",
       "\\end{enumerate*}\n"
      ],
      "text/markdown": [
       "1. 30\n",
       "2. 8\n",
       "\n",
       "\n"
      ],
      "text/plain": [
       "[1] 30  8"
      ]
     },
     "metadata": {},
     "output_type": "display_data"
    }
   ],
   "source": [
    "noMeta<-features_pos[,8:9]\n",
    "head(noMeta)\n",
    "not_zero<-which(colSums(noMeta) != 0)\n",
    "head(not_zero)\n",
    "nonzero <- noMeta[, not_zero]\n",
    "nonzero\n",
    "nonzero_wMeta<-cbind(features_pos[,1:7], nonzero)\n",
    "head(nonzero_wMeta)\n",
    "dim(features_pos)\n",
    "dim(noMeta)\n",
    "dim(nonzero)\n",
    "dim(nonzero_wMeta)"
   ]
  },
  {
   "cell_type": "code",
   "execution_count": 5,
   "metadata": {
    "scrolled": true
   },
   "outputs": [
    {
     "data": {
      "text/html": [
       "0.389233298727313"
      ],
      "text/latex": [
       "0.389233298727313"
      ],
      "text/markdown": [
       "0.389233298727313"
      ],
      "text/plain": [
       "[1] 0.3892333"
      ]
     },
     "metadata": {},
     "output_type": "display_data"
    },
    {
     "data": {
      "text/html": [
       "0.389233298727313"
      ],
      "text/latex": [
       "0.389233298727313"
      ],
      "text/markdown": [
       "0.389233298727313"
      ],
      "text/plain": [
       "[1] 0.3892333"
      ]
     },
     "metadata": {},
     "output_type": "display_data"
    }
   ],
   "source": [
    "pval<-c()\n",
    "\n",
    "for (i in 8:ncol(nonzero_wMeta)) \n",
    "pval<-c(pval,wilcox.test(nonzero_wMeta[,i]~nonzero_wMeta$Treatmentgroup)$p.value)\n",
    "head(pval)\n",
    "pAdj <- p.adjust(pval, method = c(\"fdr\"), n=length(pval)) \n",
    "head(pAdj) \n",
    "\n"
   ]
  },
  {
   "cell_type": "code",
   "execution_count": 6,
   "metadata": {
    "scrolled": true
   },
   "outputs": [
    {
     "data": {
      "text/html": [
       "1"
      ],
      "text/latex": [
       "1"
      ],
      "text/markdown": [
       "1"
      ],
      "text/plain": [
       "[1] 1"
      ]
     },
     "metadata": {},
     "output_type": "display_data"
    }
   ],
   "source": [
    "length(pval)"
   ]
  },
  {
   "cell_type": "code",
   "execution_count": 7,
   "metadata": {
    "scrolled": true
   },
   "outputs": [
    {
     "data": {
      "text/html": [
       "1"
      ],
      "text/latex": [
       "1"
      ],
      "text/markdown": [
       "1"
      ],
      "text/plain": [
       "[1] 1"
      ]
     },
     "metadata": {},
     "output_type": "display_data"
    }
   ],
   "source": [
    "length(pAdj)"
   ]
  },
  {
   "cell_type": "code",
   "execution_count": 8,
   "metadata": {},
   "outputs": [
    {
     "ename": "ERROR",
     "evalue": "Error in apply(nonzero_wMeta[, 8:ncol(nonzero_wMeta)], 2, function(x) tapply(x, : dim(X) must have a positive length\n",
     "output_type": "error",
     "traceback": [
      "Error in apply(nonzero_wMeta[, 8:ncol(nonzero_wMeta)], 2, function(x) tapply(x, : dim(X) must have a positive length\nTraceback:\n",
      "1. apply(nonzero_wMeta[, 8:ncol(nonzero_wMeta)], 2, function(x) tapply(x, \n .     nonzero_wMeta$Treatmentgroup, function(x) mean(x)))",
      "2. stop(\"dim(X) must have a positive length\")"
     ]
    }
   ],
   "source": [
    "avg<- apply(nonzero_wMeta[,8:ncol(nonzero_wMeta)], 2, function(x) tapply(x, nonzero_wMeta$Treatmentgroup, function(x) mean(x))) \n",
    "\n",
    "dim(avg)\n",
    "\n",
    "avg[,1:1]\n",
    "\n",
    "fch <- apply(avg, 2, function(x) x[1]/x[2])\n",
    "\n",
    "head(fch)\n",
    "is(fch)"
   ]
  },
  {
   "cell_type": "code",
   "execution_count": 9,
   "metadata": {
    "scrolled": true
   },
   "outputs": [
    {
     "ename": "ERROR",
     "evalue": "Error in eval(expr, envir, enclos): object 'fch' not found\n",
     "output_type": "error",
     "traceback": [
      "Error in eval(expr, envir, enclos): object 'fch' not found\nTraceback:\n"
     ]
    }
   ],
   "source": [
    "fch"
   ]
  },
  {
   "cell_type": "code",
   "execution_count": 10,
   "metadata": {
    "scrolled": false
   },
   "outputs": [],
   "source": [
    "df <- data.frame(pval, pAdj)\n",
    "write.csv(df, \"CAR-treat-LA-wilcox-infected-BNZ.csv\")"
   ]
  },
  {
   "cell_type": "code",
   "execution_count": null,
   "metadata": {},
   "outputs": [],
   "source": []
  },
  {
   "cell_type": "code",
   "execution_count": null,
   "metadata": {},
   "outputs": [],
   "source": []
  },
  {
   "cell_type": "code",
   "execution_count": null,
   "metadata": {},
   "outputs": [],
   "source": []
  },
  {
   "cell_type": "code",
   "execution_count": null,
   "metadata": {},
   "outputs": [],
   "source": []
  },
  {
   "cell_type": "code",
   "execution_count": null,
   "metadata": {},
   "outputs": [],
   "source": []
  },
  {
   "cell_type": "code",
   "execution_count": null,
   "metadata": {},
   "outputs": [],
   "source": []
  }
 ],
 "metadata": {
  "kernelspec": {
   "display_name": "R",
   "language": "R",
   "name": "ir"
  },
  "language_info": {
   "codemirror_mode": "r",
   "file_extension": ".r",
   "mimetype": "text/x-r-source",
   "name": "R",
   "pygments_lexer": "r",
   "version": "3.6.1"
  }
 },
 "nbformat": 4,
 "nbformat_minor": 2
}
