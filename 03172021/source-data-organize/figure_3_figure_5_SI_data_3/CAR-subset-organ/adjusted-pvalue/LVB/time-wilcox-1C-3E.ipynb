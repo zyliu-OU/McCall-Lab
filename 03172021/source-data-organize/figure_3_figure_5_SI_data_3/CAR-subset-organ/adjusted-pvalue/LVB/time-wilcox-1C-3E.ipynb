{
 "cells": [
  {
   "cell_type": "code",
   "execution_count": 11,
   "metadata": {},
   "outputs": [],
   "source": [
    "a <- read.csv(\"03172021-CAR-time-LVB-M-F.csv\")"
   ]
  },
  {
   "cell_type": "code",
   "execution_count": 12,
   "metadata": {},
   "outputs": [
    {
     "data": {
      "text/html": [
       "<table>\n",
       "<thead><tr><th scope=col>filename</th><th scope=col>MouseID</th><th scope=col>Treatmentgroup</th><th scope=col>status</th><th scope=col>DPI</th><th scope=col>organ</th><th scope=col>well_position</th><th scope=col>plate</th><th scope=col>CAR_mid_chain</th><th scope=col>CAR_long_chain</th></tr></thead>\n",
       "<tbody>\n",
       "\t<tr><td>X501_Group1A_50dpi_LV_bottom_251_B_A1_P133.mzXML</td><td>501                                             </td><td>Group1A                                         </td><td>naive                                           </td><td>DPI_50                                          </td><td>LV_bottom                                       </td><td>A1                                              </td><td>P133                                            </td><td>0                                               </td><td>0.002987575                                     </td></tr>\n",
       "\t<tr><td>X502_Group1A_50dpi_LV_bottom_252_B_A2_P133.mzXML</td><td>502                                             </td><td>Group1A                                         </td><td>naive                                           </td><td>DPI_50                                          </td><td>LV_bottom                                       </td><td>A2                                              </td><td>P133                                            </td><td>0                                               </td><td>0.000376124                                     </td></tr>\n",
       "\t<tr><td>X503_Group1A_50dpi_LV_bottom_253_B_A3_P133.mzXML</td><td>503                                             </td><td>Group1A                                         </td><td>naive                                           </td><td>DPI_50                                          </td><td>LV_bottom                                       </td><td>A3                                              </td><td>P133                                            </td><td>0                                               </td><td>0.000392436                                     </td></tr>\n",
       "\t<tr><td>X504_Group1A_50dpi_LV_bottom_254_B_A4_P133.mzXML</td><td>504                                             </td><td>Group1A                                         </td><td>naive                                           </td><td>DPI_50                                          </td><td>LV_bottom                                       </td><td>A4                                              </td><td>P133                                            </td><td>0                                               </td><td>0.000290270                                     </td></tr>\n",
       "\t<tr><td>X505_Group1A_50dpi_LV_bottom_255_B_A5_P133.mzXML</td><td>505                                             </td><td>Group1A                                         </td><td>naive                                           </td><td>DPI_50                                          </td><td>LV_bottom                                       </td><td>A5                                              </td><td>P133                                            </td><td>0                                               </td><td>0.000767165                                     </td></tr>\n",
       "\t<tr><td>X521_Group1A_50dpi_LV_bottom_256_B_A6_P133.mzXML</td><td>521                                             </td><td>Group1A                                         </td><td>naive                                           </td><td>DPI_50                                          </td><td>LV_bottom                                       </td><td>A6                                              </td><td>P133                                            </td><td>0                                               </td><td>0.000740446                                     </td></tr>\n",
       "</tbody>\n",
       "</table>\n"
      ],
      "text/latex": [
       "\\begin{tabular}{r|llllllllll}\n",
       " filename & MouseID & Treatmentgroup & status & DPI & organ & well\\_position & plate & CAR\\_mid\\_chain & CAR\\_long\\_chain\\\\\n",
       "\\hline\n",
       "\t X501\\_Group1A\\_50dpi\\_LV\\_bottom\\_251\\_B\\_A1\\_P133.mzXML & 501                                                              & Group1A                                                          & naive                                                            & DPI\\_50                                                         & LV\\_bottom                                                      & A1                                                               & P133                                                             & 0                                                                & 0.002987575                                                     \\\\\n",
       "\t X502\\_Group1A\\_50dpi\\_LV\\_bottom\\_252\\_B\\_A2\\_P133.mzXML & 502                                                              & Group1A                                                          & naive                                                            & DPI\\_50                                                         & LV\\_bottom                                                      & A2                                                               & P133                                                             & 0                                                                & 0.000376124                                                     \\\\\n",
       "\t X503\\_Group1A\\_50dpi\\_LV\\_bottom\\_253\\_B\\_A3\\_P133.mzXML & 503                                                              & Group1A                                                          & naive                                                            & DPI\\_50                                                         & LV\\_bottom                                                      & A3                                                               & P133                                                             & 0                                                                & 0.000392436                                                     \\\\\n",
       "\t X504\\_Group1A\\_50dpi\\_LV\\_bottom\\_254\\_B\\_A4\\_P133.mzXML & 504                                                              & Group1A                                                          & naive                                                            & DPI\\_50                                                         & LV\\_bottom                                                      & A4                                                               & P133                                                             & 0                                                                & 0.000290270                                                     \\\\\n",
       "\t X505\\_Group1A\\_50dpi\\_LV\\_bottom\\_255\\_B\\_A5\\_P133.mzXML & 505                                                              & Group1A                                                          & naive                                                            & DPI\\_50                                                         & LV\\_bottom                                                      & A5                                                               & P133                                                             & 0                                                                & 0.000767165                                                     \\\\\n",
       "\t X521\\_Group1A\\_50dpi\\_LV\\_bottom\\_256\\_B\\_A6\\_P133.mzXML & 521                                                              & Group1A                                                          & naive                                                            & DPI\\_50                                                         & LV\\_bottom                                                      & A6                                                               & P133                                                             & 0                                                                & 0.000740446                                                     \\\\\n",
       "\\end{tabular}\n"
      ],
      "text/markdown": [
       "\n",
       "| filename | MouseID | Treatmentgroup | status | DPI | organ | well_position | plate | CAR_mid_chain | CAR_long_chain |\n",
       "|---|---|---|---|---|---|---|---|---|---|\n",
       "| X501_Group1A_50dpi_LV_bottom_251_B_A1_P133.mzXML | 501                                              | Group1A                                          | naive                                            | DPI_50                                           | LV_bottom                                        | A1                                               | P133                                             | 0                                                | 0.002987575                                      |\n",
       "| X502_Group1A_50dpi_LV_bottom_252_B_A2_P133.mzXML | 502                                              | Group1A                                          | naive                                            | DPI_50                                           | LV_bottom                                        | A2                                               | P133                                             | 0                                                | 0.000376124                                      |\n",
       "| X503_Group1A_50dpi_LV_bottom_253_B_A3_P133.mzXML | 503                                              | Group1A                                          | naive                                            | DPI_50                                           | LV_bottom                                        | A3                                               | P133                                             | 0                                                | 0.000392436                                      |\n",
       "| X504_Group1A_50dpi_LV_bottom_254_B_A4_P133.mzXML | 504                                              | Group1A                                          | naive                                            | DPI_50                                           | LV_bottom                                        | A4                                               | P133                                             | 0                                                | 0.000290270                                      |\n",
       "| X505_Group1A_50dpi_LV_bottom_255_B_A5_P133.mzXML | 505                                              | Group1A                                          | naive                                            | DPI_50                                           | LV_bottom                                        | A5                                               | P133                                             | 0                                                | 0.000767165                                      |\n",
       "| X521_Group1A_50dpi_LV_bottom_256_B_A6_P133.mzXML | 521                                              | Group1A                                          | naive                                            | DPI_50                                           | LV_bottom                                        | A6                                               | P133                                             | 0                                                | 0.000740446                                      |\n",
       "\n"
      ],
      "text/plain": [
       "  filename                                         MouseID Treatmentgroup\n",
       "1 X501_Group1A_50dpi_LV_bottom_251_B_A1_P133.mzXML 501     Group1A       \n",
       "2 X502_Group1A_50dpi_LV_bottom_252_B_A2_P133.mzXML 502     Group1A       \n",
       "3 X503_Group1A_50dpi_LV_bottom_253_B_A3_P133.mzXML 503     Group1A       \n",
       "4 X504_Group1A_50dpi_LV_bottom_254_B_A4_P133.mzXML 504     Group1A       \n",
       "5 X505_Group1A_50dpi_LV_bottom_255_B_A5_P133.mzXML 505     Group1A       \n",
       "6 X521_Group1A_50dpi_LV_bottom_256_B_A6_P133.mzXML 521     Group1A       \n",
       "  status DPI    organ     well_position plate CAR_mid_chain CAR_long_chain\n",
       "1 naive  DPI_50 LV_bottom A1            P133  0             0.002987575   \n",
       "2 naive  DPI_50 LV_bottom A2            P133  0             0.000376124   \n",
       "3 naive  DPI_50 LV_bottom A3            P133  0             0.000392436   \n",
       "4 naive  DPI_50 LV_bottom A4            P133  0             0.000290270   \n",
       "5 naive  DPI_50 LV_bottom A5            P133  0             0.000767165   \n",
       "6 naive  DPI_50 LV_bottom A6            P133  0             0.000740446   "
      ]
     },
     "metadata": {},
     "output_type": "display_data"
    },
    {
     "data": {
      "text/html": [
       "<ol class=list-inline>\n",
       "\t<li>90</li>\n",
       "\t<li>10</li>\n",
       "</ol>\n"
      ],
      "text/latex": [
       "\\begin{enumerate*}\n",
       "\\item 90\n",
       "\\item 10\n",
       "\\end{enumerate*}\n"
      ],
      "text/markdown": [
       "1. 90\n",
       "2. 10\n",
       "\n",
       "\n"
      ],
      "text/plain": [
       "[1] 90 10"
      ]
     },
     "metadata": {},
     "output_type": "display_data"
    }
   ],
   "source": [
    "head(a)\n",
    "dim(a)"
   ]
  },
  {
   "cell_type": "code",
   "execution_count": 13,
   "metadata": {},
   "outputs": [
    {
     "data": {
      "text/html": [
       "<table>\n",
       "<thead><tr><th></th><th scope=col>filename</th><th scope=col>MouseID</th><th scope=col>Treatmentgroup</th><th scope=col>status</th><th scope=col>DPI</th><th scope=col>organ</th><th scope=col>well_position</th><th scope=col>plate</th><th scope=col>CAR_mid_chain</th><th scope=col>CAR_long_chain</th></tr></thead>\n",
       "<tbody>\n",
       "\t<tr><th scope=row>31</th><td>X511_Group1C_142dpi_LV_bottom_161_G_A1_P132.mzXML</td><td>511                                              </td><td>Group1C                                          </td><td>naive                                            </td><td>DPI_142                                          </td><td>LV_bottom                                        </td><td>A1                                               </td><td>P132                                             </td><td>0                                                </td><td>3.07e-05                                         </td></tr>\n",
       "\t<tr><th scope=row>32</th><td>X512_Group1C_142dpi_LV_bottom_162_G_A2_P132.mzXML</td><td>512                                              </td><td>Group1C                                          </td><td>naive                                            </td><td>DPI_142                                          </td><td>LV_bottom                                        </td><td>A2                                               </td><td>P132                                             </td><td>0                                                </td><td>0.00e+00                                         </td></tr>\n",
       "\t<tr><th scope=row>33</th><td>X513_Group1C_142dpi_LV_bottom_163_G_A3_P132.mzXML</td><td>513                                              </td><td>Group1C                                          </td><td>naive                                            </td><td>DPI_142                                          </td><td>LV_bottom                                        </td><td>A3                                               </td><td>P132                                             </td><td>0                                                </td><td>3.16e-05                                         </td></tr>\n",
       "\t<tr><th scope=row>34</th><td>X514_Group1C_142dpi_LV_bottom_164_G_A4_P132.mzXML</td><td>514                                              </td><td>Group1C                                          </td><td>naive                                            </td><td>DPI_142                                          </td><td>LV_bottom                                        </td><td>A4                                               </td><td>P132                                             </td><td>0                                                </td><td>0.00e+00                                         </td></tr>\n",
       "\t<tr><th scope=row>35</th><td>X515_Group1C_142dpi_LV_bottom_165_G_A5_P132.mzXML</td><td>515                                              </td><td>Group1C                                          </td><td>naive                                            </td><td>DPI_142                                          </td><td>LV_bottom                                        </td><td>A5                                               </td><td>P132                                             </td><td>0                                                </td><td>2.93e-05                                         </td></tr>\n",
       "\t<tr><th scope=row>36</th><td>X531_Group1C_142dpi_LV_bottom_166_G_A6_P132.mzXML</td><td>531                                              </td><td>Group1C                                          </td><td>naive                                            </td><td>DPI_142                                          </td><td>LV_bottom                                        </td><td>A6                                               </td><td>P132                                             </td><td>0                                                </td><td>0.00e+00                                         </td></tr>\n",
       "</tbody>\n",
       "</table>\n"
      ],
      "text/latex": [
       "\\begin{tabular}{r|llllllllll}\n",
       "  & filename & MouseID & Treatmentgroup & status & DPI & organ & well\\_position & plate & CAR\\_mid\\_chain & CAR\\_long\\_chain\\\\\n",
       "\\hline\n",
       "\t31 & X511\\_Group1C\\_142dpi\\_LV\\_bottom\\_161\\_G\\_A1\\_P132.mzXML & 511                                                               & Group1C                                                           & naive                                                             & DPI\\_142                                                         & LV\\_bottom                                                       & A1                                                                & P132                                                              & 0                                                                 & 3.07e-05                                                         \\\\\n",
       "\t32 & X512\\_Group1C\\_142dpi\\_LV\\_bottom\\_162\\_G\\_A2\\_P132.mzXML & 512                                                               & Group1C                                                           & naive                                                             & DPI\\_142                                                         & LV\\_bottom                                                       & A2                                                                & P132                                                              & 0                                                                 & 0.00e+00                                                         \\\\\n",
       "\t33 & X513\\_Group1C\\_142dpi\\_LV\\_bottom\\_163\\_G\\_A3\\_P132.mzXML & 513                                                               & Group1C                                                           & naive                                                             & DPI\\_142                                                         & LV\\_bottom                                                       & A3                                                                & P132                                                              & 0                                                                 & 3.16e-05                                                         \\\\\n",
       "\t34 & X514\\_Group1C\\_142dpi\\_LV\\_bottom\\_164\\_G\\_A4\\_P132.mzXML & 514                                                               & Group1C                                                           & naive                                                             & DPI\\_142                                                         & LV\\_bottom                                                       & A4                                                                & P132                                                              & 0                                                                 & 0.00e+00                                                         \\\\\n",
       "\t35 & X515\\_Group1C\\_142dpi\\_LV\\_bottom\\_165\\_G\\_A5\\_P132.mzXML & 515                                                               & Group1C                                                           & naive                                                             & DPI\\_142                                                         & LV\\_bottom                                                       & A5                                                                & P132                                                              & 0                                                                 & 2.93e-05                                                         \\\\\n",
       "\t36 & X531\\_Group1C\\_142dpi\\_LV\\_bottom\\_166\\_G\\_A6\\_P132.mzXML & 531                                                               & Group1C                                                           & naive                                                             & DPI\\_142                                                         & LV\\_bottom                                                       & A6                                                                & P132                                                              & 0                                                                 & 0.00e+00                                                         \\\\\n",
       "\\end{tabular}\n"
      ],
      "text/markdown": [
       "\n",
       "| <!--/--> | filename | MouseID | Treatmentgroup | status | DPI | organ | well_position | plate | CAR_mid_chain | CAR_long_chain |\n",
       "|---|---|---|---|---|---|---|---|---|---|---|\n",
       "| 31 | X511_Group1C_142dpi_LV_bottom_161_G_A1_P132.mzXML | 511                                               | Group1C                                           | naive                                             | DPI_142                                           | LV_bottom                                         | A1                                                | P132                                              | 0                                                 | 3.07e-05                                          |\n",
       "| 32 | X512_Group1C_142dpi_LV_bottom_162_G_A2_P132.mzXML | 512                                               | Group1C                                           | naive                                             | DPI_142                                           | LV_bottom                                         | A2                                                | P132                                              | 0                                                 | 0.00e+00                                          |\n",
       "| 33 | X513_Group1C_142dpi_LV_bottom_163_G_A3_P132.mzXML | 513                                               | Group1C                                           | naive                                             | DPI_142                                           | LV_bottom                                         | A3                                                | P132                                              | 0                                                 | 3.16e-05                                          |\n",
       "| 34 | X514_Group1C_142dpi_LV_bottom_164_G_A4_P132.mzXML | 514                                               | Group1C                                           | naive                                             | DPI_142                                           | LV_bottom                                         | A4                                                | P132                                              | 0                                                 | 0.00e+00                                          |\n",
       "| 35 | X515_Group1C_142dpi_LV_bottom_165_G_A5_P132.mzXML | 515                                               | Group1C                                           | naive                                             | DPI_142                                           | LV_bottom                                         | A5                                                | P132                                              | 0                                                 | 2.93e-05                                          |\n",
       "| 36 | X531_Group1C_142dpi_LV_bottom_166_G_A6_P132.mzXML | 531                                               | Group1C                                           | naive                                             | DPI_142                                           | LV_bottom                                         | A6                                                | P132                                              | 0                                                 | 0.00e+00                                          |\n",
       "\n"
      ],
      "text/plain": [
       "   filename                                          MouseID Treatmentgroup\n",
       "31 X511_Group1C_142dpi_LV_bottom_161_G_A1_P132.mzXML 511     Group1C       \n",
       "32 X512_Group1C_142dpi_LV_bottom_162_G_A2_P132.mzXML 512     Group1C       \n",
       "33 X513_Group1C_142dpi_LV_bottom_163_G_A3_P132.mzXML 513     Group1C       \n",
       "34 X514_Group1C_142dpi_LV_bottom_164_G_A4_P132.mzXML 514     Group1C       \n",
       "35 X515_Group1C_142dpi_LV_bottom_165_G_A5_P132.mzXML 515     Group1C       \n",
       "36 X531_Group1C_142dpi_LV_bottom_166_G_A6_P132.mzXML 531     Group1C       \n",
       "   status DPI     organ     well_position plate CAR_mid_chain CAR_long_chain\n",
       "31 naive  DPI_142 LV_bottom A1            P132  0             3.07e-05      \n",
       "32 naive  DPI_142 LV_bottom A2            P132  0             0.00e+00      \n",
       "33 naive  DPI_142 LV_bottom A3            P132  0             3.16e-05      \n",
       "34 naive  DPI_142 LV_bottom A4            P132  0             0.00e+00      \n",
       "35 naive  DPI_142 LV_bottom A5            P132  0             2.93e-05      \n",
       "36 naive  DPI_142 LV_bottom A6            P132  0             0.00e+00      "
      ]
     },
     "metadata": {},
     "output_type": "display_data"
    },
    {
     "data": {
      "text/html": [
       "<ol class=list-inline>\n",
       "\t<li>30</li>\n",
       "\t<li>10</li>\n",
       "</ol>\n"
      ],
      "text/latex": [
       "\\begin{enumerate*}\n",
       "\\item 30\n",
       "\\item 10\n",
       "\\end{enumerate*}\n"
      ],
      "text/markdown": [
       "1. 30\n",
       "2. 10\n",
       "\n",
       "\n"
      ],
      "text/plain": [
       "[1] 30 10"
      ]
     },
     "metadata": {},
     "output_type": "display_data"
    }
   ],
   "source": [
    "features_pos<-droplevels(subset(a, a$Treatmentgroup==c(\"Group1C\")|a$Treatmentgroup==c(\"Group3E\")))\n",
    "head(features_pos)\n",
    "dim(features_pos)"
   ]
  },
  {
   "cell_type": "code",
   "execution_count": 14,
   "metadata": {
    "scrolled": false
   },
   "outputs": [
    {
     "data": {
      "text/html": [
       "<table>\n",
       "<thead><tr><th></th><th scope=col>CAR_mid_chain</th><th scope=col>CAR_long_chain</th></tr></thead>\n",
       "<tbody>\n",
       "\t<tr><th scope=row>31</th><td>0       </td><td>3.07e-05</td></tr>\n",
       "\t<tr><th scope=row>32</th><td>0       </td><td>0.00e+00</td></tr>\n",
       "\t<tr><th scope=row>33</th><td>0       </td><td>3.16e-05</td></tr>\n",
       "\t<tr><th scope=row>34</th><td>0       </td><td>0.00e+00</td></tr>\n",
       "\t<tr><th scope=row>35</th><td>0       </td><td>2.93e-05</td></tr>\n",
       "\t<tr><th scope=row>36</th><td>0       </td><td>0.00e+00</td></tr>\n",
       "</tbody>\n",
       "</table>\n"
      ],
      "text/latex": [
       "\\begin{tabular}{r|ll}\n",
       "  & CAR\\_mid\\_chain & CAR\\_long\\_chain\\\\\n",
       "\\hline\n",
       "\t31 & 0        & 3.07e-05\\\\\n",
       "\t32 & 0        & 0.00e+00\\\\\n",
       "\t33 & 0        & 3.16e-05\\\\\n",
       "\t34 & 0        & 0.00e+00\\\\\n",
       "\t35 & 0        & 2.93e-05\\\\\n",
       "\t36 & 0        & 0.00e+00\\\\\n",
       "\\end{tabular}\n"
      ],
      "text/markdown": [
       "\n",
       "| <!--/--> | CAR_mid_chain | CAR_long_chain |\n",
       "|---|---|---|\n",
       "| 31 | 0        | 3.07e-05 |\n",
       "| 32 | 0        | 0.00e+00 |\n",
       "| 33 | 0        | 3.16e-05 |\n",
       "| 34 | 0        | 0.00e+00 |\n",
       "| 35 | 0        | 2.93e-05 |\n",
       "| 36 | 0        | 0.00e+00 |\n",
       "\n"
      ],
      "text/plain": [
       "   CAR_mid_chain CAR_long_chain\n",
       "31 0             3.07e-05      \n",
       "32 0             0.00e+00      \n",
       "33 0             3.16e-05      \n",
       "34 0             0.00e+00      \n",
       "35 0             2.93e-05      \n",
       "36 0             0.00e+00      "
      ]
     },
     "metadata": {},
     "output_type": "display_data"
    },
    {
     "data": {
      "text/html": [
       "<strong>CAR_long_chain:</strong> 2"
      ],
      "text/latex": [
       "\\textbf{CAR\\textbackslash{}\\_long\\textbackslash{}\\_chain:} 2"
      ],
      "text/markdown": [
       "**CAR_long_chain:** 2"
      ],
      "text/plain": [
       "CAR_long_chain \n",
       "             2 "
      ]
     },
     "metadata": {},
     "output_type": "display_data"
    },
    {
     "data": {
      "text/html": [
       "<ol class=list-inline>\n",
       "\t<li>3.07e-05</li>\n",
       "\t<li>0</li>\n",
       "\t<li>3.16e-05</li>\n",
       "\t<li>0</li>\n",
       "\t<li>2.93e-05</li>\n",
       "\t<li>0</li>\n",
       "\t<li>4.01e-05</li>\n",
       "\t<li>3.11e-05</li>\n",
       "\t<li>0</li>\n",
       "\t<li>0</li>\n",
       "\t<li>2.74e-05</li>\n",
       "\t<li>0</li>\n",
       "\t<li>0</li>\n",
       "\t<li>0</li>\n",
       "\t<li>0.0001115</li>\n",
       "\t<li>0.000441601</li>\n",
       "\t<li>0.000718141</li>\n",
       "\t<li>0.000412639</li>\n",
       "\t<li>0.00061308</li>\n",
       "\t<li>0.000852706</li>\n",
       "\t<li>0.000636327</li>\n",
       "\t<li>0.000803193</li>\n",
       "\t<li>0.001137111</li>\n",
       "\t<li>0.000457203</li>\n",
       "\t<li>0.001184399</li>\n",
       "\t<li>0.000695979</li>\n",
       "\t<li>0.000242945</li>\n",
       "\t<li>0.000191507</li>\n",
       "\t<li>0</li>\n",
       "\t<li>0</li>\n",
       "</ol>\n"
      ],
      "text/latex": [
       "\\begin{enumerate*}\n",
       "\\item 3.07e-05\n",
       "\\item 0\n",
       "\\item 3.16e-05\n",
       "\\item 0\n",
       "\\item 2.93e-05\n",
       "\\item 0\n",
       "\\item 4.01e-05\n",
       "\\item 3.11e-05\n",
       "\\item 0\n",
       "\\item 0\n",
       "\\item 2.74e-05\n",
       "\\item 0\n",
       "\\item 0\n",
       "\\item 0\n",
       "\\item 0.0001115\n",
       "\\item 0.000441601\n",
       "\\item 0.000718141\n",
       "\\item 0.000412639\n",
       "\\item 0.00061308\n",
       "\\item 0.000852706\n",
       "\\item 0.000636327\n",
       "\\item 0.000803193\n",
       "\\item 0.001137111\n",
       "\\item 0.000457203\n",
       "\\item 0.001184399\n",
       "\\item 0.000695979\n",
       "\\item 0.000242945\n",
       "\\item 0.000191507\n",
       "\\item 0\n",
       "\\item 0\n",
       "\\end{enumerate*}\n"
      ],
      "text/markdown": [
       "1. 3.07e-05\n",
       "2. 0\n",
       "3. 3.16e-05\n",
       "4. 0\n",
       "5. 2.93e-05\n",
       "6. 0\n",
       "7. 4.01e-05\n",
       "8. 3.11e-05\n",
       "9. 0\n",
       "10. 0\n",
       "11. 2.74e-05\n",
       "12. 0\n",
       "13. 0\n",
       "14. 0\n",
       "15. 0.0001115\n",
       "16. 0.000441601\n",
       "17. 0.000718141\n",
       "18. 0.000412639\n",
       "19. 0.00061308\n",
       "20. 0.000852706\n",
       "21. 0.000636327\n",
       "22. 0.000803193\n",
       "23. 0.001137111\n",
       "24. 0.000457203\n",
       "25. 0.001184399\n",
       "26. 0.000695979\n",
       "27. 0.000242945\n",
       "28. 0.000191507\n",
       "29. 0\n",
       "30. 0\n",
       "\n",
       "\n"
      ],
      "text/plain": [
       " [1] 0.000030700 0.000000000 0.000031600 0.000000000 0.000029300 0.000000000\n",
       " [7] 0.000040100 0.000031100 0.000000000 0.000000000 0.000027400 0.000000000\n",
       "[13] 0.000000000 0.000000000 0.000111500 0.000441601 0.000718141 0.000412639\n",
       "[19] 0.000613080 0.000852706 0.000636327 0.000803193 0.001137111 0.000457203\n",
       "[25] 0.001184399 0.000695979 0.000242945 0.000191507 0.000000000 0.000000000"
      ]
     },
     "metadata": {},
     "output_type": "display_data"
    },
    {
     "data": {
      "text/html": [
       "<table>\n",
       "<thead><tr><th></th><th scope=col>filename</th><th scope=col>MouseID</th><th scope=col>Treatmentgroup</th><th scope=col>status</th><th scope=col>DPI</th><th scope=col>organ</th><th scope=col>well_position</th><th scope=col>plate</th><th scope=col>nonzero</th></tr></thead>\n",
       "<tbody>\n",
       "\t<tr><th scope=row>31</th><td>X511_Group1C_142dpi_LV_bottom_161_G_A1_P132.mzXML</td><td>511                                              </td><td>Group1C                                          </td><td>naive                                            </td><td>DPI_142                                          </td><td>LV_bottom                                        </td><td>A1                                               </td><td>P132                                             </td><td>3.07e-05                                         </td></tr>\n",
       "\t<tr><th scope=row>32</th><td>X512_Group1C_142dpi_LV_bottom_162_G_A2_P132.mzXML</td><td>512                                              </td><td>Group1C                                          </td><td>naive                                            </td><td>DPI_142                                          </td><td>LV_bottom                                        </td><td>A2                                               </td><td>P132                                             </td><td>0.00e+00                                         </td></tr>\n",
       "\t<tr><th scope=row>33</th><td>X513_Group1C_142dpi_LV_bottom_163_G_A3_P132.mzXML</td><td>513                                              </td><td>Group1C                                          </td><td>naive                                            </td><td>DPI_142                                          </td><td>LV_bottom                                        </td><td>A3                                               </td><td>P132                                             </td><td>3.16e-05                                         </td></tr>\n",
       "\t<tr><th scope=row>34</th><td>X514_Group1C_142dpi_LV_bottom_164_G_A4_P132.mzXML</td><td>514                                              </td><td>Group1C                                          </td><td>naive                                            </td><td>DPI_142                                          </td><td>LV_bottom                                        </td><td>A4                                               </td><td>P132                                             </td><td>0.00e+00                                         </td></tr>\n",
       "\t<tr><th scope=row>35</th><td>X515_Group1C_142dpi_LV_bottom_165_G_A5_P132.mzXML</td><td>515                                              </td><td>Group1C                                          </td><td>naive                                            </td><td>DPI_142                                          </td><td>LV_bottom                                        </td><td>A5                                               </td><td>P132                                             </td><td>2.93e-05                                         </td></tr>\n",
       "\t<tr><th scope=row>36</th><td>X531_Group1C_142dpi_LV_bottom_166_G_A6_P132.mzXML</td><td>531                                              </td><td>Group1C                                          </td><td>naive                                            </td><td>DPI_142                                          </td><td>LV_bottom                                        </td><td>A6                                               </td><td>P132                                             </td><td>0.00e+00                                         </td></tr>\n",
       "</tbody>\n",
       "</table>\n"
      ],
      "text/latex": [
       "\\begin{tabular}{r|lllllllll}\n",
       "  & filename & MouseID & Treatmentgroup & status & DPI & organ & well\\_position & plate & nonzero\\\\\n",
       "\\hline\n",
       "\t31 & X511\\_Group1C\\_142dpi\\_LV\\_bottom\\_161\\_G\\_A1\\_P132.mzXML & 511                                                               & Group1C                                                           & naive                                                             & DPI\\_142                                                         & LV\\_bottom                                                       & A1                                                                & P132                                                              & 3.07e-05                                                         \\\\\n",
       "\t32 & X512\\_Group1C\\_142dpi\\_LV\\_bottom\\_162\\_G\\_A2\\_P132.mzXML & 512                                                               & Group1C                                                           & naive                                                             & DPI\\_142                                                         & LV\\_bottom                                                       & A2                                                                & P132                                                              & 0.00e+00                                                         \\\\\n",
       "\t33 & X513\\_Group1C\\_142dpi\\_LV\\_bottom\\_163\\_G\\_A3\\_P132.mzXML & 513                                                               & Group1C                                                           & naive                                                             & DPI\\_142                                                         & LV\\_bottom                                                       & A3                                                                & P132                                                              & 3.16e-05                                                         \\\\\n",
       "\t34 & X514\\_Group1C\\_142dpi\\_LV\\_bottom\\_164\\_G\\_A4\\_P132.mzXML & 514                                                               & Group1C                                                           & naive                                                             & DPI\\_142                                                         & LV\\_bottom                                                       & A4                                                                & P132                                                              & 0.00e+00                                                         \\\\\n",
       "\t35 & X515\\_Group1C\\_142dpi\\_LV\\_bottom\\_165\\_G\\_A5\\_P132.mzXML & 515                                                               & Group1C                                                           & naive                                                             & DPI\\_142                                                         & LV\\_bottom                                                       & A5                                                                & P132                                                              & 2.93e-05                                                         \\\\\n",
       "\t36 & X531\\_Group1C\\_142dpi\\_LV\\_bottom\\_166\\_G\\_A6\\_P132.mzXML & 531                                                               & Group1C                                                           & naive                                                             & DPI\\_142                                                         & LV\\_bottom                                                       & A6                                                                & P132                                                              & 0.00e+00                                                         \\\\\n",
       "\\end{tabular}\n"
      ],
      "text/markdown": [
       "\n",
       "| <!--/--> | filename | MouseID | Treatmentgroup | status | DPI | organ | well_position | plate | nonzero |\n",
       "|---|---|---|---|---|---|---|---|---|---|\n",
       "| 31 | X511_Group1C_142dpi_LV_bottom_161_G_A1_P132.mzXML | 511                                               | Group1C                                           | naive                                             | DPI_142                                           | LV_bottom                                         | A1                                                | P132                                              | 3.07e-05                                          |\n",
       "| 32 | X512_Group1C_142dpi_LV_bottom_162_G_A2_P132.mzXML | 512                                               | Group1C                                           | naive                                             | DPI_142                                           | LV_bottom                                         | A2                                                | P132                                              | 0.00e+00                                          |\n",
       "| 33 | X513_Group1C_142dpi_LV_bottom_163_G_A3_P132.mzXML | 513                                               | Group1C                                           | naive                                             | DPI_142                                           | LV_bottom                                         | A3                                                | P132                                              | 3.16e-05                                          |\n",
       "| 34 | X514_Group1C_142dpi_LV_bottom_164_G_A4_P132.mzXML | 514                                               | Group1C                                           | naive                                             | DPI_142                                           | LV_bottom                                         | A4                                                | P132                                              | 0.00e+00                                          |\n",
       "| 35 | X515_Group1C_142dpi_LV_bottom_165_G_A5_P132.mzXML | 515                                               | Group1C                                           | naive                                             | DPI_142                                           | LV_bottom                                         | A5                                                | P132                                              | 2.93e-05                                          |\n",
       "| 36 | X531_Group1C_142dpi_LV_bottom_166_G_A6_P132.mzXML | 531                                               | Group1C                                           | naive                                             | DPI_142                                           | LV_bottom                                         | A6                                                | P132                                              | 0.00e+00                                          |\n",
       "\n"
      ],
      "text/plain": [
       "   filename                                          MouseID Treatmentgroup\n",
       "31 X511_Group1C_142dpi_LV_bottom_161_G_A1_P132.mzXML 511     Group1C       \n",
       "32 X512_Group1C_142dpi_LV_bottom_162_G_A2_P132.mzXML 512     Group1C       \n",
       "33 X513_Group1C_142dpi_LV_bottom_163_G_A3_P132.mzXML 513     Group1C       \n",
       "34 X514_Group1C_142dpi_LV_bottom_164_G_A4_P132.mzXML 514     Group1C       \n",
       "35 X515_Group1C_142dpi_LV_bottom_165_G_A5_P132.mzXML 515     Group1C       \n",
       "36 X531_Group1C_142dpi_LV_bottom_166_G_A6_P132.mzXML 531     Group1C       \n",
       "   status DPI     organ     well_position plate nonzero \n",
       "31 naive  DPI_142 LV_bottom A1            P132  3.07e-05\n",
       "32 naive  DPI_142 LV_bottom A2            P132  0.00e+00\n",
       "33 naive  DPI_142 LV_bottom A3            P132  3.16e-05\n",
       "34 naive  DPI_142 LV_bottom A4            P132  0.00e+00\n",
       "35 naive  DPI_142 LV_bottom A5            P132  2.93e-05\n",
       "36 naive  DPI_142 LV_bottom A6            P132  0.00e+00"
      ]
     },
     "metadata": {},
     "output_type": "display_data"
    },
    {
     "data": {
      "text/html": [
       "<ol class=list-inline>\n",
       "\t<li>30</li>\n",
       "\t<li>10</li>\n",
       "</ol>\n"
      ],
      "text/latex": [
       "\\begin{enumerate*}\n",
       "\\item 30\n",
       "\\item 10\n",
       "\\end{enumerate*}\n"
      ],
      "text/markdown": [
       "1. 30\n",
       "2. 10\n",
       "\n",
       "\n"
      ],
      "text/plain": [
       "[1] 30 10"
      ]
     },
     "metadata": {},
     "output_type": "display_data"
    },
    {
     "data": {
      "text/html": [
       "<ol class=list-inline>\n",
       "\t<li>30</li>\n",
       "\t<li>2</li>\n",
       "</ol>\n"
      ],
      "text/latex": [
       "\\begin{enumerate*}\n",
       "\\item 30\n",
       "\\item 2\n",
       "\\end{enumerate*}\n"
      ],
      "text/markdown": [
       "1. 30\n",
       "2. 2\n",
       "\n",
       "\n"
      ],
      "text/plain": [
       "[1] 30  2"
      ]
     },
     "metadata": {},
     "output_type": "display_data"
    },
    {
     "data": {
      "text/plain": [
       "NULL"
      ]
     },
     "metadata": {},
     "output_type": "display_data"
    },
    {
     "data": {
      "text/html": [
       "<ol class=list-inline>\n",
       "\t<li>30</li>\n",
       "\t<li>9</li>\n",
       "</ol>\n"
      ],
      "text/latex": [
       "\\begin{enumerate*}\n",
       "\\item 30\n",
       "\\item 9\n",
       "\\end{enumerate*}\n"
      ],
      "text/markdown": [
       "1. 30\n",
       "2. 9\n",
       "\n",
       "\n"
      ],
      "text/plain": [
       "[1] 30  9"
      ]
     },
     "metadata": {},
     "output_type": "display_data"
    }
   ],
   "source": [
    "noMeta<-features_pos[,9:10]\n",
    "head(noMeta)\n",
    "not_zero<-which(colSums(noMeta) != 0)\n",
    "head(not_zero)\n",
    "nonzero <- noMeta[, not_zero]\n",
    "nonzero\n",
    "nonzero_wMeta<-cbind(features_pos[,1:8], nonzero)\n",
    "head(nonzero_wMeta)\n",
    "dim(features_pos)\n",
    "dim(noMeta)\n",
    "dim(nonzero)\n",
    "dim(nonzero_wMeta)"
   ]
  },
  {
   "cell_type": "code",
   "execution_count": 15,
   "metadata": {
    "scrolled": true
   },
   "outputs": [
    {
     "name": "stderr",
     "output_type": "stream",
     "text": [
      "Warning message in wilcox.test.default(x = c(3.07e-05, 0, 3.16e-05, 0, 2.93e-05, :\n",
      "\"cannot compute exact p-value with ties\""
     ]
    },
    {
     "data": {
      "text/html": [
       "0.000142673533825389"
      ],
      "text/latex": [
       "0.000142673533825389"
      ],
      "text/markdown": [
       "0.000142673533825389"
      ],
      "text/plain": [
       "[1] 0.0001426735"
      ]
     },
     "metadata": {},
     "output_type": "display_data"
    },
    {
     "data": {
      "text/html": [
       "0.000142673533825389"
      ],
      "text/latex": [
       "0.000142673533825389"
      ],
      "text/markdown": [
       "0.000142673533825389"
      ],
      "text/plain": [
       "[1] 0.0001426735"
      ]
     },
     "metadata": {},
     "output_type": "display_data"
    }
   ],
   "source": [
    "pval<-c()\n",
    "\n",
    "for (i in 9:ncol(nonzero_wMeta)) \n",
    "pval<-c(pval,wilcox.test(nonzero_wMeta[,i]~nonzero_wMeta$Treatmentgroup)$p.value)\n",
    "head(pval) \n",
    "pAdj <- p.adjust(pval, method = c(\"fdr\"), n=length(pval)) \n",
    "head(pAdj) \n",
    "\n"
   ]
  },
  {
   "cell_type": "code",
   "execution_count": 16,
   "metadata": {
    "scrolled": true
   },
   "outputs": [
    {
     "data": {
      "text/html": [
       "1"
      ],
      "text/latex": [
       "1"
      ],
      "text/markdown": [
       "1"
      ],
      "text/plain": [
       "[1] 1"
      ]
     },
     "metadata": {},
     "output_type": "display_data"
    }
   ],
   "source": [
    "length(pval)"
   ]
  },
  {
   "cell_type": "code",
   "execution_count": 17,
   "metadata": {
    "scrolled": true
   },
   "outputs": [
    {
     "data": {
      "text/html": [
       "1"
      ],
      "text/latex": [
       "1"
      ],
      "text/markdown": [
       "1"
      ],
      "text/plain": [
       "[1] 1"
      ]
     },
     "metadata": {},
     "output_type": "display_data"
    }
   ],
   "source": [
    "length(pAdj)"
   ]
  },
  {
   "cell_type": "code",
   "execution_count": 18,
   "metadata": {},
   "outputs": [
    {
     "ename": "ERROR",
     "evalue": "Error in apply(nonzero_wMeta[, 9:ncol(nonzero_wMeta)], 2, function(x) tapply(x, : dim(X) must have a positive length\n",
     "output_type": "error",
     "traceback": [
      "Error in apply(nonzero_wMeta[, 9:ncol(nonzero_wMeta)], 2, function(x) tapply(x, : dim(X) must have a positive length\nTraceback:\n",
      "1. apply(nonzero_wMeta[, 9:ncol(nonzero_wMeta)], 2, function(x) tapply(x, \n .     nonzero_wMeta$Treatmentgroup, function(x) mean(x)))",
      "2. stop(\"dim(X) must have a positive length\")"
     ]
    }
   ],
   "source": [
    "avg<- apply(nonzero_wMeta[,9:ncol(nonzero_wMeta)], 2, function(x) tapply(x, nonzero_wMeta$Treatmentgroup, function(x) mean(x))) \n",
    "\n",
    "dim(avg)\n",
    "\n",
    "avg[,1:2]\n",
    "\n",
    "fch <- apply(avg, 2, function(x) x[1]/x[2])\n",
    "\n",
    "head(fch)\n",
    "is(fch)"
   ]
  },
  {
   "cell_type": "code",
   "execution_count": 19,
   "metadata": {
    "scrolled": true
   },
   "outputs": [
    {
     "ename": "ERROR",
     "evalue": "Error in eval(expr, envir, enclos): object 'fch' not found\n",
     "output_type": "error",
     "traceback": [
      "Error in eval(expr, envir, enclos): object 'fch' not found\nTraceback:\n"
     ]
    }
   ],
   "source": [
    "fch"
   ]
  },
  {
   "cell_type": "code",
   "execution_count": 20,
   "metadata": {
    "scrolled": false
   },
   "outputs": [],
   "source": [
    "df <- data.frame(pval, pAdj)\n",
    "write.csv(df, \"CAR-time-LVB-wilcox-1C-3E.csv\")"
   ]
  },
  {
   "cell_type": "code",
   "execution_count": null,
   "metadata": {},
   "outputs": [],
   "source": []
  },
  {
   "cell_type": "code",
   "execution_count": null,
   "metadata": {},
   "outputs": [],
   "source": []
  },
  {
   "cell_type": "code",
   "execution_count": null,
   "metadata": {},
   "outputs": [],
   "source": []
  },
  {
   "cell_type": "code",
   "execution_count": null,
   "metadata": {},
   "outputs": [],
   "source": []
  },
  {
   "cell_type": "code",
   "execution_count": null,
   "metadata": {},
   "outputs": [],
   "source": []
  },
  {
   "cell_type": "code",
   "execution_count": null,
   "metadata": {},
   "outputs": [],
   "source": []
  }
 ],
 "metadata": {
  "kernelspec": {
   "display_name": "R",
   "language": "R",
   "name": "ir"
  },
  "language_info": {
   "codemirror_mode": "r",
   "file_extension": ".r",
   "mimetype": "text/x-r-source",
   "name": "R",
   "pygments_lexer": "r",
   "version": "3.6.1"
  }
 },
 "nbformat": 4,
 "nbformat_minor": 2
}
