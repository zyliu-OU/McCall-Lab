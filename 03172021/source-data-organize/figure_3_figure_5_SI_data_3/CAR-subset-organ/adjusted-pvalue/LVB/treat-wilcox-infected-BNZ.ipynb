{
 "cells": [
  {
   "cell_type": "code",
   "execution_count": 1,
   "metadata": {},
   "outputs": [],
   "source": [
    "a <- read.csv(\"03172021-CAR-treatment-LVB-M-F.csv\")"
   ]
  },
  {
   "cell_type": "code",
   "execution_count": 2,
   "metadata": {},
   "outputs": [
    {
     "data": {
      "text/html": [
       "<table>\n",
       "<thead><tr><th scope=col>filename</th><th scope=col>MouseID</th><th scope=col>Treatmentgroup</th><th scope=col>DPI</th><th scope=col>organ</th><th scope=col>well_position</th><th scope=col>plate</th><th scope=col>CAR_mid_chain</th><th scope=col>CAR_long_chain</th></tr></thead>\n",
       "<tbody>\n",
       "\t<tr><td>X511_Group1C_142dpi_LV_bottom_161_G_A1_P132.mzXML</td><td>511                                              </td><td>naive                                            </td><td>142                                              </td><td>LV_bottom                                        </td><td>A1                                               </td><td>P132                                             </td><td>0                                                </td><td>3.07e-05                                         </td></tr>\n",
       "\t<tr><td>X512_Group1C_142dpi_LV_bottom_162_G_A2_P132.mzXML</td><td>512                                              </td><td>naive                                            </td><td>142                                              </td><td>LV_bottom                                        </td><td>A2                                               </td><td>P132                                             </td><td>0                                                </td><td>0.00e+00                                         </td></tr>\n",
       "\t<tr><td>X513_Group1C_142dpi_LV_bottom_163_G_A3_P132.mzXML</td><td>513                                              </td><td>naive                                            </td><td>142                                              </td><td>LV_bottom                                        </td><td>A3                                               </td><td>P132                                             </td><td>0                                                </td><td>3.16e-05                                         </td></tr>\n",
       "\t<tr><td>X514_Group1C_142dpi_LV_bottom_164_G_A4_P132.mzXML</td><td>514                                              </td><td>naive                                            </td><td>142                                              </td><td>LV_bottom                                        </td><td>A4                                               </td><td>P132                                             </td><td>0                                                </td><td>0.00e+00                                         </td></tr>\n",
       "\t<tr><td>X515_Group1C_142dpi_LV_bottom_165_G_A5_P132.mzXML</td><td>515                                              </td><td>naive                                            </td><td>142                                              </td><td>LV_bottom                                        </td><td>A5                                               </td><td>P132                                             </td><td>0                                                </td><td>2.93e-05                                         </td></tr>\n",
       "\t<tr><td>X531_Group1C_142dpi_LV_bottom_166_G_A6_P132.mzXML</td><td>531                                              </td><td>naive                                            </td><td>142                                              </td><td>LV_bottom                                        </td><td>A6                                               </td><td>P132                                             </td><td>0                                                </td><td>0.00e+00                                         </td></tr>\n",
       "</tbody>\n",
       "</table>\n"
      ],
      "text/latex": [
       "\\begin{tabular}{r|lllllllll}\n",
       " filename & MouseID & Treatmentgroup & DPI & organ & well\\_position & plate & CAR\\_mid\\_chain & CAR\\_long\\_chain\\\\\n",
       "\\hline\n",
       "\t X511\\_Group1C\\_142dpi\\_LV\\_bottom\\_161\\_G\\_A1\\_P132.mzXML & 511                                                               & naive                                                             & 142                                                               & LV\\_bottom                                                       & A1                                                                & P132                                                              & 0                                                                 & 3.07e-05                                                         \\\\\n",
       "\t X512\\_Group1C\\_142dpi\\_LV\\_bottom\\_162\\_G\\_A2\\_P132.mzXML & 512                                                               & naive                                                             & 142                                                               & LV\\_bottom                                                       & A2                                                                & P132                                                              & 0                                                                 & 0.00e+00                                                         \\\\\n",
       "\t X513\\_Group1C\\_142dpi\\_LV\\_bottom\\_163\\_G\\_A3\\_P132.mzXML & 513                                                               & naive                                                             & 142                                                               & LV\\_bottom                                                       & A3                                                                & P132                                                              & 0                                                                 & 3.16e-05                                                         \\\\\n",
       "\t X514\\_Group1C\\_142dpi\\_LV\\_bottom\\_164\\_G\\_A4\\_P132.mzXML & 514                                                               & naive                                                             & 142                                                               & LV\\_bottom                                                       & A4                                                                & P132                                                              & 0                                                                 & 0.00e+00                                                         \\\\\n",
       "\t X515\\_Group1C\\_142dpi\\_LV\\_bottom\\_165\\_G\\_A5\\_P132.mzXML & 515                                                               & naive                                                             & 142                                                               & LV\\_bottom                                                       & A5                                                                & P132                                                              & 0                                                                 & 2.93e-05                                                         \\\\\n",
       "\t X531\\_Group1C\\_142dpi\\_LV\\_bottom\\_166\\_G\\_A6\\_P132.mzXML & 531                                                               & naive                                                             & 142                                                               & LV\\_bottom                                                       & A6                                                                & P132                                                              & 0                                                                 & 0.00e+00                                                         \\\\\n",
       "\\end{tabular}\n"
      ],
      "text/markdown": [
       "\n",
       "| filename | MouseID | Treatmentgroup | DPI | organ | well_position | plate | CAR_mid_chain | CAR_long_chain |\n",
       "|---|---|---|---|---|---|---|---|---|\n",
       "| X511_Group1C_142dpi_LV_bottom_161_G_A1_P132.mzXML | 511                                               | naive                                             | 142                                               | LV_bottom                                         | A1                                                | P132                                              | 0                                                 | 3.07e-05                                          |\n",
       "| X512_Group1C_142dpi_LV_bottom_162_G_A2_P132.mzXML | 512                                               | naive                                             | 142                                               | LV_bottom                                         | A2                                                | P132                                              | 0                                                 | 0.00e+00                                          |\n",
       "| X513_Group1C_142dpi_LV_bottom_163_G_A3_P132.mzXML | 513                                               | naive                                             | 142                                               | LV_bottom                                         | A3                                                | P132                                              | 0                                                 | 3.16e-05                                          |\n",
       "| X514_Group1C_142dpi_LV_bottom_164_G_A4_P132.mzXML | 514                                               | naive                                             | 142                                               | LV_bottom                                         | A4                                                | P132                                              | 0                                                 | 0.00e+00                                          |\n",
       "| X515_Group1C_142dpi_LV_bottom_165_G_A5_P132.mzXML | 515                                               | naive                                             | 142                                               | LV_bottom                                         | A5                                                | P132                                              | 0                                                 | 2.93e-05                                          |\n",
       "| X531_Group1C_142dpi_LV_bottom_166_G_A6_P132.mzXML | 531                                               | naive                                             | 142                                               | LV_bottom                                         | A6                                                | P132                                              | 0                                                 | 0.00e+00                                          |\n",
       "\n"
      ],
      "text/plain": [
       "  filename                                          MouseID Treatmentgroup DPI\n",
       "1 X511_Group1C_142dpi_LV_bottom_161_G_A1_P132.mzXML 511     naive          142\n",
       "2 X512_Group1C_142dpi_LV_bottom_162_G_A2_P132.mzXML 512     naive          142\n",
       "3 X513_Group1C_142dpi_LV_bottom_163_G_A3_P132.mzXML 513     naive          142\n",
       "4 X514_Group1C_142dpi_LV_bottom_164_G_A4_P132.mzXML 514     naive          142\n",
       "5 X515_Group1C_142dpi_LV_bottom_165_G_A5_P132.mzXML 515     naive          142\n",
       "6 X531_Group1C_142dpi_LV_bottom_166_G_A6_P132.mzXML 531     naive          142\n",
       "  organ     well_position plate CAR_mid_chain CAR_long_chain\n",
       "1 LV_bottom A1            P132  0             3.07e-05      \n",
       "2 LV_bottom A2            P132  0             0.00e+00      \n",
       "3 LV_bottom A3            P132  0             3.16e-05      \n",
       "4 LV_bottom A4            P132  0             0.00e+00      \n",
       "5 LV_bottom A5            P132  0             2.93e-05      \n",
       "6 LV_bottom A6            P132  0             0.00e+00      "
      ]
     },
     "metadata": {},
     "output_type": "display_data"
    },
    {
     "data": {
      "text/html": [
       "<ol class=list-inline>\n",
       "\t<li>60</li>\n",
       "\t<li>9</li>\n",
       "</ol>\n"
      ],
      "text/latex": [
       "\\begin{enumerate*}\n",
       "\\item 60\n",
       "\\item 9\n",
       "\\end{enumerate*}\n"
      ],
      "text/markdown": [
       "1. 60\n",
       "2. 9\n",
       "\n",
       "\n"
      ],
      "text/plain": [
       "[1] 60  9"
      ]
     },
     "metadata": {},
     "output_type": "display_data"
    }
   ],
   "source": [
    "head(a)\n",
    "dim(a)"
   ]
  },
  {
   "cell_type": "code",
   "execution_count": 3,
   "metadata": {},
   "outputs": [
    {
     "data": {
      "text/html": [
       "<table>\n",
       "<thead><tr><th></th><th scope=col>filename</th><th scope=col>MouseID</th><th scope=col>Treatmentgroup</th><th scope=col>DPI</th><th scope=col>organ</th><th scope=col>well_position</th><th scope=col>plate</th><th scope=col>CAR_mid_chain</th><th scope=col>CAR_long_chain</th></tr></thead>\n",
       "<tbody>\n",
       "\t<tr><th scope=row>16</th><td>X581_Group3E_142dpi_LV_bottom_176_G_B4_P132.mzXML</td><td>581                                              </td><td>infected                                         </td><td>142                                              </td><td>LV_bottom                                        </td><td>B4                                               </td><td>P132                                             </td><td>0                                                </td><td>0.000441601                                      </td></tr>\n",
       "\t<tr><th scope=row>17</th><td>X582_Group3E_142dpi_LV_bottom_177_G_B5_P132.mzXML</td><td>582                                              </td><td>infected                                         </td><td>142                                              </td><td>LV_bottom                                        </td><td>B5                                               </td><td>P132                                             </td><td>0                                                </td><td>0.000718141                                      </td></tr>\n",
       "\t<tr><th scope=row>18</th><td>X583_Group3E_142dpi_LV_bottom_178_G_B6_P132.mzXML</td><td>583                                              </td><td>infected                                         </td><td>142                                              </td><td>LV_bottom                                        </td><td>B6                                               </td><td>P132                                             </td><td>0                                                </td><td>0.000412639                                      </td></tr>\n",
       "\t<tr><th scope=row>19</th><td>X584_Group3E_142dpi_LV_bottom_179_G_B7_P132.mzXML</td><td>584                                              </td><td>infected                                         </td><td>142                                              </td><td>LV_bottom                                        </td><td>B7                                               </td><td>P132                                             </td><td>0                                                </td><td>0.000613080                                      </td></tr>\n",
       "\t<tr><th scope=row>20</th><td>X585_Group3E_142dpi_LV_bottom_180_G_B8_P132.mzXML</td><td>585                                              </td><td>infected                                         </td><td>142                                              </td><td>LV_bottom                                        </td><td>B8                                               </td><td>P132                                             </td><td>0                                                </td><td>0.000852706                                      </td></tr>\n",
       "\t<tr><th scope=row>26</th><td>X631_Group15_142dpi_LV_bottom_191_G_C7_P132.mzXML</td><td>631                                              </td><td>BNZ                                              </td><td>142                                              </td><td>LV_bottom                                        </td><td>C7                                               </td><td>P132                                             </td><td>0                                                </td><td>0.001048426                                      </td></tr>\n",
       "</tbody>\n",
       "</table>\n"
      ],
      "text/latex": [
       "\\begin{tabular}{r|lllllllll}\n",
       "  & filename & MouseID & Treatmentgroup & DPI & organ & well\\_position & plate & CAR\\_mid\\_chain & CAR\\_long\\_chain\\\\\n",
       "\\hline\n",
       "\t16 & X581\\_Group3E\\_142dpi\\_LV\\_bottom\\_176\\_G\\_B4\\_P132.mzXML & 581                                                               & infected                                                          & 142                                                               & LV\\_bottom                                                       & B4                                                                & P132                                                              & 0                                                                 & 0.000441601                                                      \\\\\n",
       "\t17 & X582\\_Group3E\\_142dpi\\_LV\\_bottom\\_177\\_G\\_B5\\_P132.mzXML & 582                                                               & infected                                                          & 142                                                               & LV\\_bottom                                                       & B5                                                                & P132                                                              & 0                                                                 & 0.000718141                                                      \\\\\n",
       "\t18 & X583\\_Group3E\\_142dpi\\_LV\\_bottom\\_178\\_G\\_B6\\_P132.mzXML & 583                                                               & infected                                                          & 142                                                               & LV\\_bottom                                                       & B6                                                                & P132                                                              & 0                                                                 & 0.000412639                                                      \\\\\n",
       "\t19 & X584\\_Group3E\\_142dpi\\_LV\\_bottom\\_179\\_G\\_B7\\_P132.mzXML & 584                                                               & infected                                                          & 142                                                               & LV\\_bottom                                                       & B7                                                                & P132                                                              & 0                                                                 & 0.000613080                                                      \\\\\n",
       "\t20 & X585\\_Group3E\\_142dpi\\_LV\\_bottom\\_180\\_G\\_B8\\_P132.mzXML & 585                                                               & infected                                                          & 142                                                               & LV\\_bottom                                                       & B8                                                                & P132                                                              & 0                                                                 & 0.000852706                                                      \\\\\n",
       "\t26 & X631\\_Group15\\_142dpi\\_LV\\_bottom\\_191\\_G\\_C7\\_P132.mzXML & 631                                                               & BNZ                                                               & 142                                                               & LV\\_bottom                                                       & C7                                                                & P132                                                              & 0                                                                 & 0.001048426                                                      \\\\\n",
       "\\end{tabular}\n"
      ],
      "text/markdown": [
       "\n",
       "| <!--/--> | filename | MouseID | Treatmentgroup | DPI | organ | well_position | plate | CAR_mid_chain | CAR_long_chain |\n",
       "|---|---|---|---|---|---|---|---|---|---|\n",
       "| 16 | X581_Group3E_142dpi_LV_bottom_176_G_B4_P132.mzXML | 581                                               | infected                                          | 142                                               | LV_bottom                                         | B4                                                | P132                                              | 0                                                 | 0.000441601                                       |\n",
       "| 17 | X582_Group3E_142dpi_LV_bottom_177_G_B5_P132.mzXML | 582                                               | infected                                          | 142                                               | LV_bottom                                         | B5                                                | P132                                              | 0                                                 | 0.000718141                                       |\n",
       "| 18 | X583_Group3E_142dpi_LV_bottom_178_G_B6_P132.mzXML | 583                                               | infected                                          | 142                                               | LV_bottom                                         | B6                                                | P132                                              | 0                                                 | 0.000412639                                       |\n",
       "| 19 | X584_Group3E_142dpi_LV_bottom_179_G_B7_P132.mzXML | 584                                               | infected                                          | 142                                               | LV_bottom                                         | B7                                                | P132                                              | 0                                                 | 0.000613080                                       |\n",
       "| 20 | X585_Group3E_142dpi_LV_bottom_180_G_B8_P132.mzXML | 585                                               | infected                                          | 142                                               | LV_bottom                                         | B8                                                | P132                                              | 0                                                 | 0.000852706                                       |\n",
       "| 26 | X631_Group15_142dpi_LV_bottom_191_G_C7_P132.mzXML | 631                                               | BNZ                                               | 142                                               | LV_bottom                                         | C7                                                | P132                                              | 0                                                 | 0.001048426                                       |\n",
       "\n"
      ],
      "text/plain": [
       "   filename                                          MouseID Treatmentgroup DPI\n",
       "16 X581_Group3E_142dpi_LV_bottom_176_G_B4_P132.mzXML 581     infected       142\n",
       "17 X582_Group3E_142dpi_LV_bottom_177_G_B5_P132.mzXML 582     infected       142\n",
       "18 X583_Group3E_142dpi_LV_bottom_178_G_B6_P132.mzXML 583     infected       142\n",
       "19 X584_Group3E_142dpi_LV_bottom_179_G_B7_P132.mzXML 584     infected       142\n",
       "20 X585_Group3E_142dpi_LV_bottom_180_G_B8_P132.mzXML 585     infected       142\n",
       "26 X631_Group15_142dpi_LV_bottom_191_G_C7_P132.mzXML 631     BNZ            142\n",
       "   organ     well_position plate CAR_mid_chain CAR_long_chain\n",
       "16 LV_bottom B4            P132  0             0.000441601   \n",
       "17 LV_bottom B5            P132  0             0.000718141   \n",
       "18 LV_bottom B6            P132  0             0.000412639   \n",
       "19 LV_bottom B7            P132  0             0.000613080   \n",
       "20 LV_bottom B8            P132  0             0.000852706   \n",
       "26 LV_bottom C7            P132  0             0.001048426   "
      ]
     },
     "metadata": {},
     "output_type": "display_data"
    },
    {
     "data": {
      "text/html": [
       "<ol class=list-inline>\n",
       "\t<li>30</li>\n",
       "\t<li>9</li>\n",
       "</ol>\n"
      ],
      "text/latex": [
       "\\begin{enumerate*}\n",
       "\\item 30\n",
       "\\item 9\n",
       "\\end{enumerate*}\n"
      ],
      "text/markdown": [
       "1. 30\n",
       "2. 9\n",
       "\n",
       "\n"
      ],
      "text/plain": [
       "[1] 30  9"
      ]
     },
     "metadata": {},
     "output_type": "display_data"
    }
   ],
   "source": [
    "features_pos<-droplevels(subset(a, a$Treatmentgroup==c(\"infected\")|a$Treatmentgroup==c(\"BNZ\")))\n",
    "head(features_pos)\n",
    "dim(features_pos)"
   ]
  },
  {
   "cell_type": "code",
   "execution_count": 4,
   "metadata": {
    "scrolled": false
   },
   "outputs": [
    {
     "data": {
      "text/html": [
       "<table>\n",
       "<thead><tr><th></th><th scope=col>CAR_mid_chain</th><th scope=col>CAR_long_chain</th></tr></thead>\n",
       "<tbody>\n",
       "\t<tr><th scope=row>16</th><td>0          </td><td>0.000441601</td></tr>\n",
       "\t<tr><th scope=row>17</th><td>0          </td><td>0.000718141</td></tr>\n",
       "\t<tr><th scope=row>18</th><td>0          </td><td>0.000412639</td></tr>\n",
       "\t<tr><th scope=row>19</th><td>0          </td><td>0.000613080</td></tr>\n",
       "\t<tr><th scope=row>20</th><td>0          </td><td>0.000852706</td></tr>\n",
       "\t<tr><th scope=row>26</th><td>0          </td><td>0.001048426</td></tr>\n",
       "</tbody>\n",
       "</table>\n"
      ],
      "text/latex": [
       "\\begin{tabular}{r|ll}\n",
       "  & CAR\\_mid\\_chain & CAR\\_long\\_chain\\\\\n",
       "\\hline\n",
       "\t16 & 0           & 0.000441601\\\\\n",
       "\t17 & 0           & 0.000718141\\\\\n",
       "\t18 & 0           & 0.000412639\\\\\n",
       "\t19 & 0           & 0.000613080\\\\\n",
       "\t20 & 0           & 0.000852706\\\\\n",
       "\t26 & 0           & 0.001048426\\\\\n",
       "\\end{tabular}\n"
      ],
      "text/markdown": [
       "\n",
       "| <!--/--> | CAR_mid_chain | CAR_long_chain |\n",
       "|---|---|---|\n",
       "| 16 | 0           | 0.000441601 |\n",
       "| 17 | 0           | 0.000718141 |\n",
       "| 18 | 0           | 0.000412639 |\n",
       "| 19 | 0           | 0.000613080 |\n",
       "| 20 | 0           | 0.000852706 |\n",
       "| 26 | 0           | 0.001048426 |\n",
       "\n"
      ],
      "text/plain": [
       "   CAR_mid_chain CAR_long_chain\n",
       "16 0             0.000441601   \n",
       "17 0             0.000718141   \n",
       "18 0             0.000412639   \n",
       "19 0             0.000613080   \n",
       "20 0             0.000852706   \n",
       "26 0             0.001048426   "
      ]
     },
     "metadata": {},
     "output_type": "display_data"
    },
    {
     "data": {
      "text/html": [
       "<dl class=dl-horizontal>\n",
       "\t<dt>CAR_mid_chain</dt>\n",
       "\t\t<dd>1</dd>\n",
       "\t<dt>CAR_long_chain</dt>\n",
       "\t\t<dd>2</dd>\n",
       "</dl>\n"
      ],
      "text/latex": [
       "\\begin{description*}\n",
       "\\item[CAR\\textbackslash{}\\_mid\\textbackslash{}\\_chain] 1\n",
       "\\item[CAR\\textbackslash{}\\_long\\textbackslash{}\\_chain] 2\n",
       "\\end{description*}\n"
      ],
      "text/markdown": [
       "CAR_mid_chain\n",
       ":   1CAR_long_chain\n",
       ":   2\n",
       "\n"
      ],
      "text/plain": [
       " CAR_mid_chain CAR_long_chain \n",
       "             1              2 "
      ]
     },
     "metadata": {},
     "output_type": "display_data"
    },
    {
     "data": {
      "text/html": [
       "<table>\n",
       "<thead><tr><th></th><th scope=col>CAR_mid_chain</th><th scope=col>CAR_long_chain</th></tr></thead>\n",
       "<tbody>\n",
       "\t<tr><th scope=row>16</th><td>0.000000000</td><td>0.000441601</td></tr>\n",
       "\t<tr><th scope=row>17</th><td>0.000000000</td><td>0.000718141</td></tr>\n",
       "\t<tr><th scope=row>18</th><td>0.000000000</td><td>0.000412639</td></tr>\n",
       "\t<tr><th scope=row>19</th><td>0.000000000</td><td>0.000613080</td></tr>\n",
       "\t<tr><th scope=row>20</th><td>0.000000000</td><td>0.000852706</td></tr>\n",
       "\t<tr><th scope=row>26</th><td>0.000000000</td><td>0.001048426</td></tr>\n",
       "\t<tr><th scope=row>27</th><td>0.000000000</td><td>0.000567214</td></tr>\n",
       "\t<tr><th scope=row>28</th><td>0.000000000</td><td>0.000395188</td></tr>\n",
       "\t<tr><th scope=row>29</th><td>0.000000000</td><td>0.000502377</td></tr>\n",
       "\t<tr><th scope=row>30</th><td>0.000000000</td><td>0.000045700</td></tr>\n",
       "\t<tr><th scope=row>31</th><td>0.000000000</td><td>0.000636327</td></tr>\n",
       "\t<tr><th scope=row>32</th><td>0.000000000</td><td>0.000803193</td></tr>\n",
       "\t<tr><th scope=row>33</th><td>0.000000000</td><td>0.001137111</td></tr>\n",
       "\t<tr><th scope=row>34</th><td>0.000000000</td><td>0.000457203</td></tr>\n",
       "\t<tr><th scope=row>35</th><td>0.000000000</td><td>0.001184399</td></tr>\n",
       "\t<tr><th scope=row>41</th><td>0.000000000</td><td>0.000245647</td></tr>\n",
       "\t<tr><th scope=row>42</th><td>0.000000000</td><td>0.000185003</td></tr>\n",
       "\t<tr><th scope=row>43</th><td>0.000000000</td><td>0.000546013</td></tr>\n",
       "\t<tr><th scope=row>44</th><td>0.000000000</td><td>0.000114328</td></tr>\n",
       "\t<tr><th scope=row>45</th><td>0.000000000</td><td>0.000105500</td></tr>\n",
       "\t<tr><th scope=row>46</th><td>0.000000000</td><td>0.000695979</td></tr>\n",
       "\t<tr><th scope=row>47</th><td>0.000000000</td><td>0.000242945</td></tr>\n",
       "\t<tr><th scope=row>48</th><td>0.000000000</td><td>0.000191507</td></tr>\n",
       "\t<tr><th scope=row>49</th><td>0.000000000</td><td>0.000000000</td></tr>\n",
       "\t<tr><th scope=row>50</th><td>0.000000000</td><td>0.000000000</td></tr>\n",
       "\t<tr><th scope=row>56</th><td>0.000000000</td><td>0.000107310</td></tr>\n",
       "\t<tr><th scope=row>57</th><td>0.000000000</td><td>0.000036800</td></tr>\n",
       "\t<tr><th scope=row>58</th><td>0.000161335</td><td>0.000051200</td></tr>\n",
       "\t<tr><th scope=row>59</th><td>0.000000000</td><td>0.000149423</td></tr>\n",
       "\t<tr><th scope=row>60</th><td>0.000000000</td><td>0.000136300</td></tr>\n",
       "</tbody>\n",
       "</table>\n"
      ],
      "text/latex": [
       "\\begin{tabular}{r|ll}\n",
       "  & CAR\\_mid\\_chain & CAR\\_long\\_chain\\\\\n",
       "\\hline\n",
       "\t16 & 0.000000000 & 0.000441601\\\\\n",
       "\t17 & 0.000000000 & 0.000718141\\\\\n",
       "\t18 & 0.000000000 & 0.000412639\\\\\n",
       "\t19 & 0.000000000 & 0.000613080\\\\\n",
       "\t20 & 0.000000000 & 0.000852706\\\\\n",
       "\t26 & 0.000000000 & 0.001048426\\\\\n",
       "\t27 & 0.000000000 & 0.000567214\\\\\n",
       "\t28 & 0.000000000 & 0.000395188\\\\\n",
       "\t29 & 0.000000000 & 0.000502377\\\\\n",
       "\t30 & 0.000000000 & 0.000045700\\\\\n",
       "\t31 & 0.000000000 & 0.000636327\\\\\n",
       "\t32 & 0.000000000 & 0.000803193\\\\\n",
       "\t33 & 0.000000000 & 0.001137111\\\\\n",
       "\t34 & 0.000000000 & 0.000457203\\\\\n",
       "\t35 & 0.000000000 & 0.001184399\\\\\n",
       "\t41 & 0.000000000 & 0.000245647\\\\\n",
       "\t42 & 0.000000000 & 0.000185003\\\\\n",
       "\t43 & 0.000000000 & 0.000546013\\\\\n",
       "\t44 & 0.000000000 & 0.000114328\\\\\n",
       "\t45 & 0.000000000 & 0.000105500\\\\\n",
       "\t46 & 0.000000000 & 0.000695979\\\\\n",
       "\t47 & 0.000000000 & 0.000242945\\\\\n",
       "\t48 & 0.000000000 & 0.000191507\\\\\n",
       "\t49 & 0.000000000 & 0.000000000\\\\\n",
       "\t50 & 0.000000000 & 0.000000000\\\\\n",
       "\t56 & 0.000000000 & 0.000107310\\\\\n",
       "\t57 & 0.000000000 & 0.000036800\\\\\n",
       "\t58 & 0.000161335 & 0.000051200\\\\\n",
       "\t59 & 0.000000000 & 0.000149423\\\\\n",
       "\t60 & 0.000000000 & 0.000136300\\\\\n",
       "\\end{tabular}\n"
      ],
      "text/markdown": [
       "\n",
       "| <!--/--> | CAR_mid_chain | CAR_long_chain |\n",
       "|---|---|---|\n",
       "| 16 | 0.000000000 | 0.000441601 |\n",
       "| 17 | 0.000000000 | 0.000718141 |\n",
       "| 18 | 0.000000000 | 0.000412639 |\n",
       "| 19 | 0.000000000 | 0.000613080 |\n",
       "| 20 | 0.000000000 | 0.000852706 |\n",
       "| 26 | 0.000000000 | 0.001048426 |\n",
       "| 27 | 0.000000000 | 0.000567214 |\n",
       "| 28 | 0.000000000 | 0.000395188 |\n",
       "| 29 | 0.000000000 | 0.000502377 |\n",
       "| 30 | 0.000000000 | 0.000045700 |\n",
       "| 31 | 0.000000000 | 0.000636327 |\n",
       "| 32 | 0.000000000 | 0.000803193 |\n",
       "| 33 | 0.000000000 | 0.001137111 |\n",
       "| 34 | 0.000000000 | 0.000457203 |\n",
       "| 35 | 0.000000000 | 0.001184399 |\n",
       "| 41 | 0.000000000 | 0.000245647 |\n",
       "| 42 | 0.000000000 | 0.000185003 |\n",
       "| 43 | 0.000000000 | 0.000546013 |\n",
       "| 44 | 0.000000000 | 0.000114328 |\n",
       "| 45 | 0.000000000 | 0.000105500 |\n",
       "| 46 | 0.000000000 | 0.000695979 |\n",
       "| 47 | 0.000000000 | 0.000242945 |\n",
       "| 48 | 0.000000000 | 0.000191507 |\n",
       "| 49 | 0.000000000 | 0.000000000 |\n",
       "| 50 | 0.000000000 | 0.000000000 |\n",
       "| 56 | 0.000000000 | 0.000107310 |\n",
       "| 57 | 0.000000000 | 0.000036800 |\n",
       "| 58 | 0.000161335 | 0.000051200 |\n",
       "| 59 | 0.000000000 | 0.000149423 |\n",
       "| 60 | 0.000000000 | 0.000136300 |\n",
       "\n"
      ],
      "text/plain": [
       "   CAR_mid_chain CAR_long_chain\n",
       "16 0.000000000   0.000441601   \n",
       "17 0.000000000   0.000718141   \n",
       "18 0.000000000   0.000412639   \n",
       "19 0.000000000   0.000613080   \n",
       "20 0.000000000   0.000852706   \n",
       "26 0.000000000   0.001048426   \n",
       "27 0.000000000   0.000567214   \n",
       "28 0.000000000   0.000395188   \n",
       "29 0.000000000   0.000502377   \n",
       "30 0.000000000   0.000045700   \n",
       "31 0.000000000   0.000636327   \n",
       "32 0.000000000   0.000803193   \n",
       "33 0.000000000   0.001137111   \n",
       "34 0.000000000   0.000457203   \n",
       "35 0.000000000   0.001184399   \n",
       "41 0.000000000   0.000245647   \n",
       "42 0.000000000   0.000185003   \n",
       "43 0.000000000   0.000546013   \n",
       "44 0.000000000   0.000114328   \n",
       "45 0.000000000   0.000105500   \n",
       "46 0.000000000   0.000695979   \n",
       "47 0.000000000   0.000242945   \n",
       "48 0.000000000   0.000191507   \n",
       "49 0.000000000   0.000000000   \n",
       "50 0.000000000   0.000000000   \n",
       "56 0.000000000   0.000107310   \n",
       "57 0.000000000   0.000036800   \n",
       "58 0.000161335   0.000051200   \n",
       "59 0.000000000   0.000149423   \n",
       "60 0.000000000   0.000136300   "
      ]
     },
     "metadata": {},
     "output_type": "display_data"
    },
    {
     "data": {
      "text/html": [
       "<table>\n",
       "<thead><tr><th></th><th scope=col>filename</th><th scope=col>MouseID</th><th scope=col>Treatmentgroup</th><th scope=col>DPI</th><th scope=col>organ</th><th scope=col>well_position</th><th scope=col>plate</th><th scope=col>CAR_mid_chain</th><th scope=col>CAR_long_chain</th></tr></thead>\n",
       "<tbody>\n",
       "\t<tr><th scope=row>16</th><td>X581_Group3E_142dpi_LV_bottom_176_G_B4_P132.mzXML</td><td>581                                              </td><td>infected                                         </td><td>142                                              </td><td>LV_bottom                                        </td><td>B4                                               </td><td>P132                                             </td><td>0                                                </td><td>0.000441601                                      </td></tr>\n",
       "\t<tr><th scope=row>17</th><td>X582_Group3E_142dpi_LV_bottom_177_G_B5_P132.mzXML</td><td>582                                              </td><td>infected                                         </td><td>142                                              </td><td>LV_bottom                                        </td><td>B5                                               </td><td>P132                                             </td><td>0                                                </td><td>0.000718141                                      </td></tr>\n",
       "\t<tr><th scope=row>18</th><td>X583_Group3E_142dpi_LV_bottom_178_G_B6_P132.mzXML</td><td>583                                              </td><td>infected                                         </td><td>142                                              </td><td>LV_bottom                                        </td><td>B6                                               </td><td>P132                                             </td><td>0                                                </td><td>0.000412639                                      </td></tr>\n",
       "\t<tr><th scope=row>19</th><td>X584_Group3E_142dpi_LV_bottom_179_G_B7_P132.mzXML</td><td>584                                              </td><td>infected                                         </td><td>142                                              </td><td>LV_bottom                                        </td><td>B7                                               </td><td>P132                                             </td><td>0                                                </td><td>0.000613080                                      </td></tr>\n",
       "\t<tr><th scope=row>20</th><td>X585_Group3E_142dpi_LV_bottom_180_G_B8_P132.mzXML</td><td>585                                              </td><td>infected                                         </td><td>142                                              </td><td>LV_bottom                                        </td><td>B8                                               </td><td>P132                                             </td><td>0                                                </td><td>0.000852706                                      </td></tr>\n",
       "\t<tr><th scope=row>26</th><td>X631_Group15_142dpi_LV_bottom_191_G_C7_P132.mzXML</td><td>631                                              </td><td>BNZ                                              </td><td>142                                              </td><td>LV_bottom                                        </td><td>C7                                               </td><td>P132                                             </td><td>0                                                </td><td>0.001048426                                      </td></tr>\n",
       "</tbody>\n",
       "</table>\n"
      ],
      "text/latex": [
       "\\begin{tabular}{r|lllllllll}\n",
       "  & filename & MouseID & Treatmentgroup & DPI & organ & well\\_position & plate & CAR\\_mid\\_chain & CAR\\_long\\_chain\\\\\n",
       "\\hline\n",
       "\t16 & X581\\_Group3E\\_142dpi\\_LV\\_bottom\\_176\\_G\\_B4\\_P132.mzXML & 581                                                               & infected                                                          & 142                                                               & LV\\_bottom                                                       & B4                                                                & P132                                                              & 0                                                                 & 0.000441601                                                      \\\\\n",
       "\t17 & X582\\_Group3E\\_142dpi\\_LV\\_bottom\\_177\\_G\\_B5\\_P132.mzXML & 582                                                               & infected                                                          & 142                                                               & LV\\_bottom                                                       & B5                                                                & P132                                                              & 0                                                                 & 0.000718141                                                      \\\\\n",
       "\t18 & X583\\_Group3E\\_142dpi\\_LV\\_bottom\\_178\\_G\\_B6\\_P132.mzXML & 583                                                               & infected                                                          & 142                                                               & LV\\_bottom                                                       & B6                                                                & P132                                                              & 0                                                                 & 0.000412639                                                      \\\\\n",
       "\t19 & X584\\_Group3E\\_142dpi\\_LV\\_bottom\\_179\\_G\\_B7\\_P132.mzXML & 584                                                               & infected                                                          & 142                                                               & LV\\_bottom                                                       & B7                                                                & P132                                                              & 0                                                                 & 0.000613080                                                      \\\\\n",
       "\t20 & X585\\_Group3E\\_142dpi\\_LV\\_bottom\\_180\\_G\\_B8\\_P132.mzXML & 585                                                               & infected                                                          & 142                                                               & LV\\_bottom                                                       & B8                                                                & P132                                                              & 0                                                                 & 0.000852706                                                      \\\\\n",
       "\t26 & X631\\_Group15\\_142dpi\\_LV\\_bottom\\_191\\_G\\_C7\\_P132.mzXML & 631                                                               & BNZ                                                               & 142                                                               & LV\\_bottom                                                       & C7                                                                & P132                                                              & 0                                                                 & 0.001048426                                                      \\\\\n",
       "\\end{tabular}\n"
      ],
      "text/markdown": [
       "\n",
       "| <!--/--> | filename | MouseID | Treatmentgroup | DPI | organ | well_position | plate | CAR_mid_chain | CAR_long_chain |\n",
       "|---|---|---|---|---|---|---|---|---|---|\n",
       "| 16 | X581_Group3E_142dpi_LV_bottom_176_G_B4_P132.mzXML | 581                                               | infected                                          | 142                                               | LV_bottom                                         | B4                                                | P132                                              | 0                                                 | 0.000441601                                       |\n",
       "| 17 | X582_Group3E_142dpi_LV_bottom_177_G_B5_P132.mzXML | 582                                               | infected                                          | 142                                               | LV_bottom                                         | B5                                                | P132                                              | 0                                                 | 0.000718141                                       |\n",
       "| 18 | X583_Group3E_142dpi_LV_bottom_178_G_B6_P132.mzXML | 583                                               | infected                                          | 142                                               | LV_bottom                                         | B6                                                | P132                                              | 0                                                 | 0.000412639                                       |\n",
       "| 19 | X584_Group3E_142dpi_LV_bottom_179_G_B7_P132.mzXML | 584                                               | infected                                          | 142                                               | LV_bottom                                         | B7                                                | P132                                              | 0                                                 | 0.000613080                                       |\n",
       "| 20 | X585_Group3E_142dpi_LV_bottom_180_G_B8_P132.mzXML | 585                                               | infected                                          | 142                                               | LV_bottom                                         | B8                                                | P132                                              | 0                                                 | 0.000852706                                       |\n",
       "| 26 | X631_Group15_142dpi_LV_bottom_191_G_C7_P132.mzXML | 631                                               | BNZ                                               | 142                                               | LV_bottom                                         | C7                                                | P132                                              | 0                                                 | 0.001048426                                       |\n",
       "\n"
      ],
      "text/plain": [
       "   filename                                          MouseID Treatmentgroup DPI\n",
       "16 X581_Group3E_142dpi_LV_bottom_176_G_B4_P132.mzXML 581     infected       142\n",
       "17 X582_Group3E_142dpi_LV_bottom_177_G_B5_P132.mzXML 582     infected       142\n",
       "18 X583_Group3E_142dpi_LV_bottom_178_G_B6_P132.mzXML 583     infected       142\n",
       "19 X584_Group3E_142dpi_LV_bottom_179_G_B7_P132.mzXML 584     infected       142\n",
       "20 X585_Group3E_142dpi_LV_bottom_180_G_B8_P132.mzXML 585     infected       142\n",
       "26 X631_Group15_142dpi_LV_bottom_191_G_C7_P132.mzXML 631     BNZ            142\n",
       "   organ     well_position plate CAR_mid_chain CAR_long_chain\n",
       "16 LV_bottom B4            P132  0             0.000441601   \n",
       "17 LV_bottom B5            P132  0             0.000718141   \n",
       "18 LV_bottom B6            P132  0             0.000412639   \n",
       "19 LV_bottom B7            P132  0             0.000613080   \n",
       "20 LV_bottom B8            P132  0             0.000852706   \n",
       "26 LV_bottom C7            P132  0             0.001048426   "
      ]
     },
     "metadata": {},
     "output_type": "display_data"
    },
    {
     "data": {
      "text/html": [
       "<ol class=list-inline>\n",
       "\t<li>30</li>\n",
       "\t<li>9</li>\n",
       "</ol>\n"
      ],
      "text/latex": [
       "\\begin{enumerate*}\n",
       "\\item 30\n",
       "\\item 9\n",
       "\\end{enumerate*}\n"
      ],
      "text/markdown": [
       "1. 30\n",
       "2. 9\n",
       "\n",
       "\n"
      ],
      "text/plain": [
       "[1] 30  9"
      ]
     },
     "metadata": {},
     "output_type": "display_data"
    },
    {
     "data": {
      "text/html": [
       "<ol class=list-inline>\n",
       "\t<li>30</li>\n",
       "\t<li>2</li>\n",
       "</ol>\n"
      ],
      "text/latex": [
       "\\begin{enumerate*}\n",
       "\\item 30\n",
       "\\item 2\n",
       "\\end{enumerate*}\n"
      ],
      "text/markdown": [
       "1. 30\n",
       "2. 2\n",
       "\n",
       "\n"
      ],
      "text/plain": [
       "[1] 30  2"
      ]
     },
     "metadata": {},
     "output_type": "display_data"
    },
    {
     "data": {
      "text/html": [
       "<ol class=list-inline>\n",
       "\t<li>30</li>\n",
       "\t<li>2</li>\n",
       "</ol>\n"
      ],
      "text/latex": [
       "\\begin{enumerate*}\n",
       "\\item 30\n",
       "\\item 2\n",
       "\\end{enumerate*}\n"
      ],
      "text/markdown": [
       "1. 30\n",
       "2. 2\n",
       "\n",
       "\n"
      ],
      "text/plain": [
       "[1] 30  2"
      ]
     },
     "metadata": {},
     "output_type": "display_data"
    },
    {
     "data": {
      "text/html": [
       "<ol class=list-inline>\n",
       "\t<li>30</li>\n",
       "\t<li>9</li>\n",
       "</ol>\n"
      ],
      "text/latex": [
       "\\begin{enumerate*}\n",
       "\\item 30\n",
       "\\item 9\n",
       "\\end{enumerate*}\n"
      ],
      "text/markdown": [
       "1. 30\n",
       "2. 9\n",
       "\n",
       "\n"
      ],
      "text/plain": [
       "[1] 30  9"
      ]
     },
     "metadata": {},
     "output_type": "display_data"
    }
   ],
   "source": [
    "noMeta<-features_pos[,8:9]\n",
    "head(noMeta)\n",
    "not_zero<-which(colSums(noMeta) != 0)\n",
    "head(not_zero)\n",
    "nonzero <- noMeta[, not_zero]\n",
    "nonzero\n",
    "nonzero_wMeta<-cbind(features_pos[,1:7], nonzero)\n",
    "head(nonzero_wMeta)\n",
    "dim(features_pos)\n",
    "dim(noMeta)\n",
    "dim(nonzero)\n",
    "dim(nonzero_wMeta)"
   ]
  },
  {
   "cell_type": "code",
   "execution_count": 5,
   "metadata": {
    "scrolled": true
   },
   "outputs": [
    {
     "name": "stderr",
     "output_type": "stream",
     "text": [
      "Warning message in wilcox.test.default(x = c(0, 0, 0, 0, 0, 0, 0, 0, 0, 0, 0, 0, :\n",
      "\"cannot compute exact p-value with ties\"Warning message in wilcox.test.default(x = c(0.001048426, 0.000567214, 0.000395188, :\n",
      "\"cannot compute exact p-value with ties\""
     ]
    },
    {
     "data": {
      "text/html": [
       "<ol class=list-inline>\n",
       "\t<li>0.350647889704459</li>\n",
       "\t<li>0.030997913917811</li>\n",
       "</ol>\n"
      ],
      "text/latex": [
       "\\begin{enumerate*}\n",
       "\\item 0.350647889704459\n",
       "\\item 0.030997913917811\n",
       "\\end{enumerate*}\n"
      ],
      "text/markdown": [
       "1. 0.350647889704459\n",
       "2. 0.030997913917811\n",
       "\n",
       "\n"
      ],
      "text/plain": [
       "[1] 0.35064789 0.03099791"
      ]
     },
     "metadata": {},
     "output_type": "display_data"
    },
    {
     "data": {
      "text/html": [
       "<ol class=list-inline>\n",
       "\t<li>0.350647889704459</li>\n",
       "\t<li>0.0619958278356219</li>\n",
       "</ol>\n"
      ],
      "text/latex": [
       "\\begin{enumerate*}\n",
       "\\item 0.350647889704459\n",
       "\\item 0.0619958278356219\n",
       "\\end{enumerate*}\n"
      ],
      "text/markdown": [
       "1. 0.350647889704459\n",
       "2. 0.0619958278356219\n",
       "\n",
       "\n"
      ],
      "text/plain": [
       "[1] 0.35064789 0.06199583"
      ]
     },
     "metadata": {},
     "output_type": "display_data"
    }
   ],
   "source": [
    "pval<-c()\n",
    "\n",
    "for (i in 8:ncol(nonzero_wMeta)) \n",
    "pval<-c(pval,wilcox.test(nonzero_wMeta[,i]~nonzero_wMeta$Treatmentgroup)$p.value)\n",
    "head(pval)\n",
    "pAdj <- p.adjust(pval, method = c(\"fdr\"), n=length(pval)) \n",
    "head(pAdj) \n",
    "\n"
   ]
  },
  {
   "cell_type": "code",
   "execution_count": 6,
   "metadata": {
    "scrolled": true
   },
   "outputs": [
    {
     "data": {
      "text/html": [
       "2"
      ],
      "text/latex": [
       "2"
      ],
      "text/markdown": [
       "2"
      ],
      "text/plain": [
       "[1] 2"
      ]
     },
     "metadata": {},
     "output_type": "display_data"
    }
   ],
   "source": [
    "length(pval)"
   ]
  },
  {
   "cell_type": "code",
   "execution_count": 7,
   "metadata": {
    "scrolled": true
   },
   "outputs": [
    {
     "data": {
      "text/html": [
       "2"
      ],
      "text/latex": [
       "2"
      ],
      "text/markdown": [
       "2"
      ],
      "text/plain": [
       "[1] 2"
      ]
     },
     "metadata": {},
     "output_type": "display_data"
    }
   ],
   "source": [
    "length(pAdj)"
   ]
  },
  {
   "cell_type": "code",
   "execution_count": 8,
   "metadata": {},
   "outputs": [
    {
     "data": {
      "text/html": [
       "<ol class=list-inline>\n",
       "\t<li>2</li>\n",
       "\t<li>2</li>\n",
       "</ol>\n"
      ],
      "text/latex": [
       "\\begin{enumerate*}\n",
       "\\item 2\n",
       "\\item 2\n",
       "\\end{enumerate*}\n"
      ],
      "text/markdown": [
       "1. 2\n",
       "2. 2\n",
       "\n",
       "\n"
      ],
      "text/plain": [
       "[1] 2 2"
      ]
     },
     "metadata": {},
     "output_type": "display_data"
    },
    {
     "data": {
      "text/html": [
       "<table>\n",
       "<thead><tr><th></th><th scope=col>CAR_mid_chain</th><th scope=col>CAR_long_chain</th></tr></thead>\n",
       "<tbody>\n",
       "\t<tr><th scope=row>BNZ</th><td>1.075567e-05</td><td>0.0002824286</td></tr>\n",
       "\t<tr><th scope=row>infected</th><td>0.000000e+00</td><td>0.0005591221</td></tr>\n",
       "</tbody>\n",
       "</table>\n"
      ],
      "text/latex": [
       "\\begin{tabular}{r|ll}\n",
       "  & CAR\\_mid\\_chain & CAR\\_long\\_chain\\\\\n",
       "\\hline\n",
       "\tBNZ & 1.075567e-05 & 0.0002824286\\\\\n",
       "\tinfected & 0.000000e+00 & 0.0005591221\\\\\n",
       "\\end{tabular}\n"
      ],
      "text/markdown": [
       "\n",
       "| <!--/--> | CAR_mid_chain | CAR_long_chain |\n",
       "|---|---|---|\n",
       "| BNZ | 1.075567e-05 | 0.0002824286 |\n",
       "| infected | 0.000000e+00 | 0.0005591221 |\n",
       "\n"
      ],
      "text/plain": [
       "         CAR_mid_chain CAR_long_chain\n",
       "BNZ      1.075567e-05  0.0002824286  \n",
       "infected 0.000000e+00  0.0005591221  "
      ]
     },
     "metadata": {},
     "output_type": "display_data"
    },
    {
     "data": {
      "text/html": [
       "<dl class=dl-horizontal>\n",
       "\t<dt>CAR_mid_chain</dt>\n",
       "\t\t<dd>Inf</dd>\n",
       "\t<dt>CAR_long_chain</dt>\n",
       "\t\t<dd>0.505128695212769</dd>\n",
       "</dl>\n"
      ],
      "text/latex": [
       "\\begin{description*}\n",
       "\\item[CAR\\textbackslash{}\\_mid\\textbackslash{}\\_chain] Inf\n",
       "\\item[CAR\\textbackslash{}\\_long\\textbackslash{}\\_chain] 0.505128695212769\n",
       "\\end{description*}\n"
      ],
      "text/markdown": [
       "CAR_mid_chain\n",
       ":   InfCAR_long_chain\n",
       ":   0.505128695212769\n",
       "\n"
      ],
      "text/plain": [
       " CAR_mid_chain CAR_long_chain \n",
       "           Inf      0.5051287 "
      ]
     },
     "metadata": {},
     "output_type": "display_data"
    },
    {
     "data": {
      "text/html": [
       "<ol class=list-inline>\n",
       "\t<li>'numeric'</li>\n",
       "\t<li>'vector'</li>\n",
       "</ol>\n"
      ],
      "text/latex": [
       "\\begin{enumerate*}\n",
       "\\item 'numeric'\n",
       "\\item 'vector'\n",
       "\\end{enumerate*}\n"
      ],
      "text/markdown": [
       "1. 'numeric'\n",
       "2. 'vector'\n",
       "\n",
       "\n"
      ],
      "text/plain": [
       "[1] \"numeric\" \"vector\" "
      ]
     },
     "metadata": {},
     "output_type": "display_data"
    }
   ],
   "source": [
    "avg<- apply(nonzero_wMeta[,8:ncol(nonzero_wMeta)], 2, function(x) tapply(x, nonzero_wMeta$Treatmentgroup, function(x) mean(x))) \n",
    "\n",
    "dim(avg) \n",
    "\n",
    "avg[,1:2]\n",
    "\n",
    "fch <- apply(avg, 2, function(x) x[1]/x[2])\n",
    "\n",
    "head(fch)\n",
    "is(fch)"
   ]
  },
  {
   "cell_type": "code",
   "execution_count": 9,
   "metadata": {
    "scrolled": true
   },
   "outputs": [
    {
     "data": {
      "text/html": [
       "<dl class=dl-horizontal>\n",
       "\t<dt>CAR_mid_chain</dt>\n",
       "\t\t<dd>Inf</dd>\n",
       "\t<dt>CAR_long_chain</dt>\n",
       "\t\t<dd>0.505128695212769</dd>\n",
       "</dl>\n"
      ],
      "text/latex": [
       "\\begin{description*}\n",
       "\\item[CAR\\textbackslash{}\\_mid\\textbackslash{}\\_chain] Inf\n",
       "\\item[CAR\\textbackslash{}\\_long\\textbackslash{}\\_chain] 0.505128695212769\n",
       "\\end{description*}\n"
      ],
      "text/markdown": [
       "CAR_mid_chain\n",
       ":   InfCAR_long_chain\n",
       ":   0.505128695212769\n",
       "\n"
      ],
      "text/plain": [
       " CAR_mid_chain CAR_long_chain \n",
       "           Inf      0.5051287 "
      ]
     },
     "metadata": {},
     "output_type": "display_data"
    }
   ],
   "source": [
    "fch"
   ]
  },
  {
   "cell_type": "code",
   "execution_count": 10,
   "metadata": {
    "scrolled": false
   },
   "outputs": [],
   "source": [
    "df <- data.frame(fch,pval, pAdj)\n",
    "write.csv(df, \"CAR-treat-LVB-wilcox-infected-BNZ.csv\")"
   ]
  },
  {
   "cell_type": "code",
   "execution_count": null,
   "metadata": {},
   "outputs": [],
   "source": []
  },
  {
   "cell_type": "code",
   "execution_count": null,
   "metadata": {},
   "outputs": [],
   "source": []
  },
  {
   "cell_type": "code",
   "execution_count": null,
   "metadata": {},
   "outputs": [],
   "source": []
  },
  {
   "cell_type": "code",
   "execution_count": null,
   "metadata": {},
   "outputs": [],
   "source": []
  },
  {
   "cell_type": "code",
   "execution_count": null,
   "metadata": {},
   "outputs": [],
   "source": []
  },
  {
   "cell_type": "code",
   "execution_count": null,
   "metadata": {},
   "outputs": [],
   "source": []
  }
 ],
 "metadata": {
  "kernelspec": {
   "display_name": "R",
   "language": "R",
   "name": "ir"
  },
  "language_info": {
   "codemirror_mode": "r",
   "file_extension": ".r",
   "mimetype": "text/x-r-source",
   "name": "R",
   "pygments_lexer": "r",
   "version": "3.6.1"
  }
 },
 "nbformat": 4,
 "nbformat_minor": 2
}
