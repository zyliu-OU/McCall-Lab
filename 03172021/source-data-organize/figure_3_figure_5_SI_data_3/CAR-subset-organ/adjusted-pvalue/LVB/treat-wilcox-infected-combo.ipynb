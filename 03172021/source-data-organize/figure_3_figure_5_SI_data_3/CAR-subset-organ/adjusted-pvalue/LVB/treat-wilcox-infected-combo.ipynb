{
 "cells": [
  {
   "cell_type": "code",
   "execution_count": 11,
   "metadata": {},
   "outputs": [],
   "source": [
    "a <- read.csv(\"03172021-CAR-treatment-LVB-M-F.csv\")"
   ]
  },
  {
   "cell_type": "code",
   "execution_count": 12,
   "metadata": {},
   "outputs": [
    {
     "data": {
      "text/html": [
       "<table>\n",
       "<thead><tr><th scope=col>filename</th><th scope=col>MouseID</th><th scope=col>Treatmentgroup</th><th scope=col>DPI</th><th scope=col>organ</th><th scope=col>well_position</th><th scope=col>plate</th><th scope=col>CAR_mid_chain</th><th scope=col>CAR_long_chain</th></tr></thead>\n",
       "<tbody>\n",
       "\t<tr><td>X511_Group1C_142dpi_LV_bottom_161_G_A1_P132.mzXML</td><td>511                                              </td><td>naive                                            </td><td>142                                              </td><td>LV_bottom                                        </td><td>A1                                               </td><td>P132                                             </td><td>0                                                </td><td>3.07e-05                                         </td></tr>\n",
       "\t<tr><td>X512_Group1C_142dpi_LV_bottom_162_G_A2_P132.mzXML</td><td>512                                              </td><td>naive                                            </td><td>142                                              </td><td>LV_bottom                                        </td><td>A2                                               </td><td>P132                                             </td><td>0                                                </td><td>0.00e+00                                         </td></tr>\n",
       "\t<tr><td>X513_Group1C_142dpi_LV_bottom_163_G_A3_P132.mzXML</td><td>513                                              </td><td>naive                                            </td><td>142                                              </td><td>LV_bottom                                        </td><td>A3                                               </td><td>P132                                             </td><td>0                                                </td><td>3.16e-05                                         </td></tr>\n",
       "\t<tr><td>X514_Group1C_142dpi_LV_bottom_164_G_A4_P132.mzXML</td><td>514                                              </td><td>naive                                            </td><td>142                                              </td><td>LV_bottom                                        </td><td>A4                                               </td><td>P132                                             </td><td>0                                                </td><td>0.00e+00                                         </td></tr>\n",
       "\t<tr><td>X515_Group1C_142dpi_LV_bottom_165_G_A5_P132.mzXML</td><td>515                                              </td><td>naive                                            </td><td>142                                              </td><td>LV_bottom                                        </td><td>A5                                               </td><td>P132                                             </td><td>0                                                </td><td>2.93e-05                                         </td></tr>\n",
       "\t<tr><td>X531_Group1C_142dpi_LV_bottom_166_G_A6_P132.mzXML</td><td>531                                              </td><td>naive                                            </td><td>142                                              </td><td>LV_bottom                                        </td><td>A6                                               </td><td>P132                                             </td><td>0                                                </td><td>0.00e+00                                         </td></tr>\n",
       "</tbody>\n",
       "</table>\n"
      ],
      "text/latex": [
       "\\begin{tabular}{r|lllllllll}\n",
       " filename & MouseID & Treatmentgroup & DPI & organ & well\\_position & plate & CAR\\_mid\\_chain & CAR\\_long\\_chain\\\\\n",
       "\\hline\n",
       "\t X511\\_Group1C\\_142dpi\\_LV\\_bottom\\_161\\_G\\_A1\\_P132.mzXML & 511                                                               & naive                                                             & 142                                                               & LV\\_bottom                                                       & A1                                                                & P132                                                              & 0                                                                 & 3.07e-05                                                         \\\\\n",
       "\t X512\\_Group1C\\_142dpi\\_LV\\_bottom\\_162\\_G\\_A2\\_P132.mzXML & 512                                                               & naive                                                             & 142                                                               & LV\\_bottom                                                       & A2                                                                & P132                                                              & 0                                                                 & 0.00e+00                                                         \\\\\n",
       "\t X513\\_Group1C\\_142dpi\\_LV\\_bottom\\_163\\_G\\_A3\\_P132.mzXML & 513                                                               & naive                                                             & 142                                                               & LV\\_bottom                                                       & A3                                                                & P132                                                              & 0                                                                 & 3.16e-05                                                         \\\\\n",
       "\t X514\\_Group1C\\_142dpi\\_LV\\_bottom\\_164\\_G\\_A4\\_P132.mzXML & 514                                                               & naive                                                             & 142                                                               & LV\\_bottom                                                       & A4                                                                & P132                                                              & 0                                                                 & 0.00e+00                                                         \\\\\n",
       "\t X515\\_Group1C\\_142dpi\\_LV\\_bottom\\_165\\_G\\_A5\\_P132.mzXML & 515                                                               & naive                                                             & 142                                                               & LV\\_bottom                                                       & A5                                                                & P132                                                              & 0                                                                 & 2.93e-05                                                         \\\\\n",
       "\t X531\\_Group1C\\_142dpi\\_LV\\_bottom\\_166\\_G\\_A6\\_P132.mzXML & 531                                                               & naive                                                             & 142                                                               & LV\\_bottom                                                       & A6                                                                & P132                                                              & 0                                                                 & 0.00e+00                                                         \\\\\n",
       "\\end{tabular}\n"
      ],
      "text/markdown": [
       "\n",
       "| filename | MouseID | Treatmentgroup | DPI | organ | well_position | plate | CAR_mid_chain | CAR_long_chain |\n",
       "|---|---|---|---|---|---|---|---|---|\n",
       "| X511_Group1C_142dpi_LV_bottom_161_G_A1_P132.mzXML | 511                                               | naive                                             | 142                                               | LV_bottom                                         | A1                                                | P132                                              | 0                                                 | 3.07e-05                                          |\n",
       "| X512_Group1C_142dpi_LV_bottom_162_G_A2_P132.mzXML | 512                                               | naive                                             | 142                                               | LV_bottom                                         | A2                                                | P132                                              | 0                                                 | 0.00e+00                                          |\n",
       "| X513_Group1C_142dpi_LV_bottom_163_G_A3_P132.mzXML | 513                                               | naive                                             | 142                                               | LV_bottom                                         | A3                                                | P132                                              | 0                                                 | 3.16e-05                                          |\n",
       "| X514_Group1C_142dpi_LV_bottom_164_G_A4_P132.mzXML | 514                                               | naive                                             | 142                                               | LV_bottom                                         | A4                                                | P132                                              | 0                                                 | 0.00e+00                                          |\n",
       "| X515_Group1C_142dpi_LV_bottom_165_G_A5_P132.mzXML | 515                                               | naive                                             | 142                                               | LV_bottom                                         | A5                                                | P132                                              | 0                                                 | 2.93e-05                                          |\n",
       "| X531_Group1C_142dpi_LV_bottom_166_G_A6_P132.mzXML | 531                                               | naive                                             | 142                                               | LV_bottom                                         | A6                                                | P132                                              | 0                                                 | 0.00e+00                                          |\n",
       "\n"
      ],
      "text/plain": [
       "  filename                                          MouseID Treatmentgroup DPI\n",
       "1 X511_Group1C_142dpi_LV_bottom_161_G_A1_P132.mzXML 511     naive          142\n",
       "2 X512_Group1C_142dpi_LV_bottom_162_G_A2_P132.mzXML 512     naive          142\n",
       "3 X513_Group1C_142dpi_LV_bottom_163_G_A3_P132.mzXML 513     naive          142\n",
       "4 X514_Group1C_142dpi_LV_bottom_164_G_A4_P132.mzXML 514     naive          142\n",
       "5 X515_Group1C_142dpi_LV_bottom_165_G_A5_P132.mzXML 515     naive          142\n",
       "6 X531_Group1C_142dpi_LV_bottom_166_G_A6_P132.mzXML 531     naive          142\n",
       "  organ     well_position plate CAR_mid_chain CAR_long_chain\n",
       "1 LV_bottom A1            P132  0             3.07e-05      \n",
       "2 LV_bottom A2            P132  0             0.00e+00      \n",
       "3 LV_bottom A3            P132  0             3.16e-05      \n",
       "4 LV_bottom A4            P132  0             0.00e+00      \n",
       "5 LV_bottom A5            P132  0             2.93e-05      \n",
       "6 LV_bottom A6            P132  0             0.00e+00      "
      ]
     },
     "metadata": {},
     "output_type": "display_data"
    },
    {
     "data": {
      "text/html": [
       "<ol class=list-inline>\n",
       "\t<li>60</li>\n",
       "\t<li>9</li>\n",
       "</ol>\n"
      ],
      "text/latex": [
       "\\begin{enumerate*}\n",
       "\\item 60\n",
       "\\item 9\n",
       "\\end{enumerate*}\n"
      ],
      "text/markdown": [
       "1. 60\n",
       "2. 9\n",
       "\n",
       "\n"
      ],
      "text/plain": [
       "[1] 60  9"
      ]
     },
     "metadata": {},
     "output_type": "display_data"
    }
   ],
   "source": [
    "head(a)\n",
    "dim(a)"
   ]
  },
  {
   "cell_type": "code",
   "execution_count": 13,
   "metadata": {},
   "outputs": [
    {
     "data": {
      "text/html": [
       "<table>\n",
       "<thead><tr><th></th><th scope=col>filename</th><th scope=col>MouseID</th><th scope=col>Treatmentgroup</th><th scope=col>DPI</th><th scope=col>organ</th><th scope=col>well_position</th><th scope=col>plate</th><th scope=col>CAR_mid_chain</th><th scope=col>CAR_long_chain</th></tr></thead>\n",
       "<tbody>\n",
       "\t<tr><th scope=row>16</th><td>X581_Group3E_142dpi_LV_bottom_176_G_B4_P132.mzXML</td><td>581                                              </td><td>infected                                         </td><td>142                                              </td><td>LV_bottom                                        </td><td>B4                                               </td><td>P132                                             </td><td>0                                                </td><td>0.000441601                                      </td></tr>\n",
       "\t<tr><th scope=row>17</th><td>X582_Group3E_142dpi_LV_bottom_177_G_B5_P132.mzXML</td><td>582                                              </td><td>infected                                         </td><td>142                                              </td><td>LV_bottom                                        </td><td>B5                                               </td><td>P132                                             </td><td>0                                                </td><td>0.000718141                                      </td></tr>\n",
       "\t<tr><th scope=row>18</th><td>X583_Group3E_142dpi_LV_bottom_178_G_B6_P132.mzXML</td><td>583                                              </td><td>infected                                         </td><td>142                                              </td><td>LV_bottom                                        </td><td>B6                                               </td><td>P132                                             </td><td>0                                                </td><td>0.000412639                                      </td></tr>\n",
       "\t<tr><th scope=row>19</th><td>X584_Group3E_142dpi_LV_bottom_179_G_B7_P132.mzXML</td><td>584                                              </td><td>infected                                         </td><td>142                                              </td><td>LV_bottom                                        </td><td>B7                                               </td><td>P132                                             </td><td>0                                                </td><td>0.000613080                                      </td></tr>\n",
       "\t<tr><th scope=row>20</th><td>X585_Group3E_142dpi_LV_bottom_180_G_B8_P132.mzXML</td><td>585                                              </td><td>infected                                         </td><td>142                                              </td><td>LV_bottom                                        </td><td>B8                                               </td><td>P132                                             </td><td>0                                                </td><td>0.000852706                                      </td></tr>\n",
       "\t<tr><th scope=row>21</th><td>X611_Group9_142dpi_LV_bottom_181_G_B9_P132.mzXML </td><td>611                                              </td><td>combo                                            </td><td>142                                              </td><td>LV_bottom                                        </td><td>B9                                               </td><td>P132                                             </td><td>0                                                </td><td>0.000222028                                      </td></tr>\n",
       "</tbody>\n",
       "</table>\n"
      ],
      "text/latex": [
       "\\begin{tabular}{r|lllllllll}\n",
       "  & filename & MouseID & Treatmentgroup & DPI & organ & well\\_position & plate & CAR\\_mid\\_chain & CAR\\_long\\_chain\\\\\n",
       "\\hline\n",
       "\t16 & X581\\_Group3E\\_142dpi\\_LV\\_bottom\\_176\\_G\\_B4\\_P132.mzXML & 581                                                               & infected                                                          & 142                                                               & LV\\_bottom                                                       & B4                                                                & P132                                                              & 0                                                                 & 0.000441601                                                      \\\\\n",
       "\t17 & X582\\_Group3E\\_142dpi\\_LV\\_bottom\\_177\\_G\\_B5\\_P132.mzXML & 582                                                               & infected                                                          & 142                                                               & LV\\_bottom                                                       & B5                                                                & P132                                                              & 0                                                                 & 0.000718141                                                      \\\\\n",
       "\t18 & X583\\_Group3E\\_142dpi\\_LV\\_bottom\\_178\\_G\\_B6\\_P132.mzXML & 583                                                               & infected                                                          & 142                                                               & LV\\_bottom                                                       & B6                                                                & P132                                                              & 0                                                                 & 0.000412639                                                      \\\\\n",
       "\t19 & X584\\_Group3E\\_142dpi\\_LV\\_bottom\\_179\\_G\\_B7\\_P132.mzXML & 584                                                               & infected                                                          & 142                                                               & LV\\_bottom                                                       & B7                                                                & P132                                                              & 0                                                                 & 0.000613080                                                      \\\\\n",
       "\t20 & X585\\_Group3E\\_142dpi\\_LV\\_bottom\\_180\\_G\\_B8\\_P132.mzXML & 585                                                               & infected                                                          & 142                                                               & LV\\_bottom                                                       & B8                                                                & P132                                                              & 0                                                                 & 0.000852706                                                      \\\\\n",
       "\t21 & X611\\_Group9\\_142dpi\\_LV\\_bottom\\_181\\_G\\_B9\\_P132.mzXML  & 611                                                               & combo                                                             & 142                                                               & LV\\_bottom                                                       & B9                                                                & P132                                                              & 0                                                                 & 0.000222028                                                      \\\\\n",
       "\\end{tabular}\n"
      ],
      "text/markdown": [
       "\n",
       "| <!--/--> | filename | MouseID | Treatmentgroup | DPI | organ | well_position | plate | CAR_mid_chain | CAR_long_chain |\n",
       "|---|---|---|---|---|---|---|---|---|---|\n",
       "| 16 | X581_Group3E_142dpi_LV_bottom_176_G_B4_P132.mzXML | 581                                               | infected                                          | 142                                               | LV_bottom                                         | B4                                                | P132                                              | 0                                                 | 0.000441601                                       |\n",
       "| 17 | X582_Group3E_142dpi_LV_bottom_177_G_B5_P132.mzXML | 582                                               | infected                                          | 142                                               | LV_bottom                                         | B5                                                | P132                                              | 0                                                 | 0.000718141                                       |\n",
       "| 18 | X583_Group3E_142dpi_LV_bottom_178_G_B6_P132.mzXML | 583                                               | infected                                          | 142                                               | LV_bottom                                         | B6                                                | P132                                              | 0                                                 | 0.000412639                                       |\n",
       "| 19 | X584_Group3E_142dpi_LV_bottom_179_G_B7_P132.mzXML | 584                                               | infected                                          | 142                                               | LV_bottom                                         | B7                                                | P132                                              | 0                                                 | 0.000613080                                       |\n",
       "| 20 | X585_Group3E_142dpi_LV_bottom_180_G_B8_P132.mzXML | 585                                               | infected                                          | 142                                               | LV_bottom                                         | B8                                                | P132                                              | 0                                                 | 0.000852706                                       |\n",
       "| 21 | X611_Group9_142dpi_LV_bottom_181_G_B9_P132.mzXML  | 611                                               | combo                                             | 142                                               | LV_bottom                                         | B9                                                | P132                                              | 0                                                 | 0.000222028                                       |\n",
       "\n"
      ],
      "text/plain": [
       "   filename                                          MouseID Treatmentgroup DPI\n",
       "16 X581_Group3E_142dpi_LV_bottom_176_G_B4_P132.mzXML 581     infected       142\n",
       "17 X582_Group3E_142dpi_LV_bottom_177_G_B5_P132.mzXML 582     infected       142\n",
       "18 X583_Group3E_142dpi_LV_bottom_178_G_B6_P132.mzXML 583     infected       142\n",
       "19 X584_Group3E_142dpi_LV_bottom_179_G_B7_P132.mzXML 584     infected       142\n",
       "20 X585_Group3E_142dpi_LV_bottom_180_G_B8_P132.mzXML 585     infected       142\n",
       "21 X611_Group9_142dpi_LV_bottom_181_G_B9_P132.mzXML  611     combo          142\n",
       "   organ     well_position plate CAR_mid_chain CAR_long_chain\n",
       "16 LV_bottom B4            P132  0             0.000441601   \n",
       "17 LV_bottom B5            P132  0             0.000718141   \n",
       "18 LV_bottom B6            P132  0             0.000412639   \n",
       "19 LV_bottom B7            P132  0             0.000613080   \n",
       "20 LV_bottom B8            P132  0             0.000852706   \n",
       "21 LV_bottom B9            P132  0             0.000222028   "
      ]
     },
     "metadata": {},
     "output_type": "display_data"
    },
    {
     "data": {
      "text/html": [
       "<ol class=list-inline>\n",
       "\t<li>30</li>\n",
       "\t<li>9</li>\n",
       "</ol>\n"
      ],
      "text/latex": [
       "\\begin{enumerate*}\n",
       "\\item 30\n",
       "\\item 9\n",
       "\\end{enumerate*}\n"
      ],
      "text/markdown": [
       "1. 30\n",
       "2. 9\n",
       "\n",
       "\n"
      ],
      "text/plain": [
       "[1] 30  9"
      ]
     },
     "metadata": {},
     "output_type": "display_data"
    }
   ],
   "source": [
    "features_pos<-droplevels(subset(a, a$Treatmentgroup==c(\"infected\")|a$Treatmentgroup==c(\"combo\")))\n",
    "head(features_pos)\n",
    "dim(features_pos)"
   ]
  },
  {
   "cell_type": "code",
   "execution_count": 14,
   "metadata": {
    "scrolled": false
   },
   "outputs": [
    {
     "data": {
      "text/html": [
       "<table>\n",
       "<thead><tr><th></th><th scope=col>CAR_mid_chain</th><th scope=col>CAR_long_chain</th></tr></thead>\n",
       "<tbody>\n",
       "\t<tr><th scope=row>16</th><td>0          </td><td>0.000441601</td></tr>\n",
       "\t<tr><th scope=row>17</th><td>0          </td><td>0.000718141</td></tr>\n",
       "\t<tr><th scope=row>18</th><td>0          </td><td>0.000412639</td></tr>\n",
       "\t<tr><th scope=row>19</th><td>0          </td><td>0.000613080</td></tr>\n",
       "\t<tr><th scope=row>20</th><td>0          </td><td>0.000852706</td></tr>\n",
       "\t<tr><th scope=row>21</th><td>0          </td><td>0.000222028</td></tr>\n",
       "</tbody>\n",
       "</table>\n"
      ],
      "text/latex": [
       "\\begin{tabular}{r|ll}\n",
       "  & CAR\\_mid\\_chain & CAR\\_long\\_chain\\\\\n",
       "\\hline\n",
       "\t16 & 0           & 0.000441601\\\\\n",
       "\t17 & 0           & 0.000718141\\\\\n",
       "\t18 & 0           & 0.000412639\\\\\n",
       "\t19 & 0           & 0.000613080\\\\\n",
       "\t20 & 0           & 0.000852706\\\\\n",
       "\t21 & 0           & 0.000222028\\\\\n",
       "\\end{tabular}\n"
      ],
      "text/markdown": [
       "\n",
       "| <!--/--> | CAR_mid_chain | CAR_long_chain |\n",
       "|---|---|---|\n",
       "| 16 | 0           | 0.000441601 |\n",
       "| 17 | 0           | 0.000718141 |\n",
       "| 18 | 0           | 0.000412639 |\n",
       "| 19 | 0           | 0.000613080 |\n",
       "| 20 | 0           | 0.000852706 |\n",
       "| 21 | 0           | 0.000222028 |\n",
       "\n"
      ],
      "text/plain": [
       "   CAR_mid_chain CAR_long_chain\n",
       "16 0             0.000441601   \n",
       "17 0             0.000718141   \n",
       "18 0             0.000412639   \n",
       "19 0             0.000613080   \n",
       "20 0             0.000852706   \n",
       "21 0             0.000222028   "
      ]
     },
     "metadata": {},
     "output_type": "display_data"
    },
    {
     "data": {
      "text/html": [
       "<strong>CAR_long_chain:</strong> 2"
      ],
      "text/latex": [
       "\\textbf{CAR\\textbackslash{}\\_long\\textbackslash{}\\_chain:} 2"
      ],
      "text/markdown": [
       "**CAR_long_chain:** 2"
      ],
      "text/plain": [
       "CAR_long_chain \n",
       "             2 "
      ]
     },
     "metadata": {},
     "output_type": "display_data"
    },
    {
     "data": {
      "text/html": [
       "<ol class=list-inline>\n",
       "\t<li>0.000441601</li>\n",
       "\t<li>0.000718141</li>\n",
       "\t<li>0.000412639</li>\n",
       "\t<li>0.00061308</li>\n",
       "\t<li>0.000852706</li>\n",
       "\t<li>0.000222028</li>\n",
       "\t<li>4.62e-05</li>\n",
       "\t<li>0.000451238</li>\n",
       "\t<li>0.000356286</li>\n",
       "\t<li>0.000209509</li>\n",
       "\t<li>0.000636327</li>\n",
       "\t<li>0.000803193</li>\n",
       "\t<li>0.001137111</li>\n",
       "\t<li>0.000457203</li>\n",
       "\t<li>0.001184399</li>\n",
       "\t<li>0.000726574</li>\n",
       "\t<li>0.000811299</li>\n",
       "\t<li>0.000636416</li>\n",
       "\t<li>0.001149502</li>\n",
       "\t<li>0.000253673</li>\n",
       "\t<li>0.000695979</li>\n",
       "\t<li>0.000242945</li>\n",
       "\t<li>0.000191507</li>\n",
       "\t<li>0</li>\n",
       "\t<li>0</li>\n",
       "\t<li>8.05e-05</li>\n",
       "\t<li>0.000930857</li>\n",
       "\t<li>0.00043498</li>\n",
       "\t<li>0.000337471</li>\n",
       "\t<li>0.000398411</li>\n",
       "</ol>\n"
      ],
      "text/latex": [
       "\\begin{enumerate*}\n",
       "\\item 0.000441601\n",
       "\\item 0.000718141\n",
       "\\item 0.000412639\n",
       "\\item 0.00061308\n",
       "\\item 0.000852706\n",
       "\\item 0.000222028\n",
       "\\item 4.62e-05\n",
       "\\item 0.000451238\n",
       "\\item 0.000356286\n",
       "\\item 0.000209509\n",
       "\\item 0.000636327\n",
       "\\item 0.000803193\n",
       "\\item 0.001137111\n",
       "\\item 0.000457203\n",
       "\\item 0.001184399\n",
       "\\item 0.000726574\n",
       "\\item 0.000811299\n",
       "\\item 0.000636416\n",
       "\\item 0.001149502\n",
       "\\item 0.000253673\n",
       "\\item 0.000695979\n",
       "\\item 0.000242945\n",
       "\\item 0.000191507\n",
       "\\item 0\n",
       "\\item 0\n",
       "\\item 8.05e-05\n",
       "\\item 0.000930857\n",
       "\\item 0.00043498\n",
       "\\item 0.000337471\n",
       "\\item 0.000398411\n",
       "\\end{enumerate*}\n"
      ],
      "text/markdown": [
       "1. 0.000441601\n",
       "2. 0.000718141\n",
       "3. 0.000412639\n",
       "4. 0.00061308\n",
       "5. 0.000852706\n",
       "6. 0.000222028\n",
       "7. 4.62e-05\n",
       "8. 0.000451238\n",
       "9. 0.000356286\n",
       "10. 0.000209509\n",
       "11. 0.000636327\n",
       "12. 0.000803193\n",
       "13. 0.001137111\n",
       "14. 0.000457203\n",
       "15. 0.001184399\n",
       "16. 0.000726574\n",
       "17. 0.000811299\n",
       "18. 0.000636416\n",
       "19. 0.001149502\n",
       "20. 0.000253673\n",
       "21. 0.000695979\n",
       "22. 0.000242945\n",
       "23. 0.000191507\n",
       "24. 0\n",
       "25. 0\n",
       "26. 8.05e-05\n",
       "27. 0.000930857\n",
       "28. 0.00043498\n",
       "29. 0.000337471\n",
       "30. 0.000398411\n",
       "\n",
       "\n"
      ],
      "text/plain": [
       " [1] 0.000441601 0.000718141 0.000412639 0.000613080 0.000852706 0.000222028\n",
       " [7] 0.000046200 0.000451238 0.000356286 0.000209509 0.000636327 0.000803193\n",
       "[13] 0.001137111 0.000457203 0.001184399 0.000726574 0.000811299 0.000636416\n",
       "[19] 0.001149502 0.000253673 0.000695979 0.000242945 0.000191507 0.000000000\n",
       "[25] 0.000000000 0.000080500 0.000930857 0.000434980 0.000337471 0.000398411"
      ]
     },
     "metadata": {},
     "output_type": "display_data"
    },
    {
     "data": {
      "text/html": [
       "<table>\n",
       "<thead><tr><th></th><th scope=col>filename</th><th scope=col>MouseID</th><th scope=col>Treatmentgroup</th><th scope=col>DPI</th><th scope=col>organ</th><th scope=col>well_position</th><th scope=col>plate</th><th scope=col>nonzero</th></tr></thead>\n",
       "<tbody>\n",
       "\t<tr><th scope=row>16</th><td>X581_Group3E_142dpi_LV_bottom_176_G_B4_P132.mzXML</td><td>581                                              </td><td>infected                                         </td><td>142                                              </td><td>LV_bottom                                        </td><td>B4                                               </td><td>P132                                             </td><td>0.000441601                                      </td></tr>\n",
       "\t<tr><th scope=row>17</th><td>X582_Group3E_142dpi_LV_bottom_177_G_B5_P132.mzXML</td><td>582                                              </td><td>infected                                         </td><td>142                                              </td><td>LV_bottom                                        </td><td>B5                                               </td><td>P132                                             </td><td>0.000718141                                      </td></tr>\n",
       "\t<tr><th scope=row>18</th><td>X583_Group3E_142dpi_LV_bottom_178_G_B6_P132.mzXML</td><td>583                                              </td><td>infected                                         </td><td>142                                              </td><td>LV_bottom                                        </td><td>B6                                               </td><td>P132                                             </td><td>0.000412639                                      </td></tr>\n",
       "\t<tr><th scope=row>19</th><td>X584_Group3E_142dpi_LV_bottom_179_G_B7_P132.mzXML</td><td>584                                              </td><td>infected                                         </td><td>142                                              </td><td>LV_bottom                                        </td><td>B7                                               </td><td>P132                                             </td><td>0.000613080                                      </td></tr>\n",
       "\t<tr><th scope=row>20</th><td>X585_Group3E_142dpi_LV_bottom_180_G_B8_P132.mzXML</td><td>585                                              </td><td>infected                                         </td><td>142                                              </td><td>LV_bottom                                        </td><td>B8                                               </td><td>P132                                             </td><td>0.000852706                                      </td></tr>\n",
       "\t<tr><th scope=row>21</th><td>X611_Group9_142dpi_LV_bottom_181_G_B9_P132.mzXML </td><td>611                                              </td><td>combo                                            </td><td>142                                              </td><td>LV_bottom                                        </td><td>B9                                               </td><td>P132                                             </td><td>0.000222028                                      </td></tr>\n",
       "</tbody>\n",
       "</table>\n"
      ],
      "text/latex": [
       "\\begin{tabular}{r|llllllll}\n",
       "  & filename & MouseID & Treatmentgroup & DPI & organ & well\\_position & plate & nonzero\\\\\n",
       "\\hline\n",
       "\t16 & X581\\_Group3E\\_142dpi\\_LV\\_bottom\\_176\\_G\\_B4\\_P132.mzXML & 581                                                               & infected                                                          & 142                                                               & LV\\_bottom                                                       & B4                                                                & P132                                                              & 0.000441601                                                      \\\\\n",
       "\t17 & X582\\_Group3E\\_142dpi\\_LV\\_bottom\\_177\\_G\\_B5\\_P132.mzXML & 582                                                               & infected                                                          & 142                                                               & LV\\_bottom                                                       & B5                                                                & P132                                                              & 0.000718141                                                      \\\\\n",
       "\t18 & X583\\_Group3E\\_142dpi\\_LV\\_bottom\\_178\\_G\\_B6\\_P132.mzXML & 583                                                               & infected                                                          & 142                                                               & LV\\_bottom                                                       & B6                                                                & P132                                                              & 0.000412639                                                      \\\\\n",
       "\t19 & X584\\_Group3E\\_142dpi\\_LV\\_bottom\\_179\\_G\\_B7\\_P132.mzXML & 584                                                               & infected                                                          & 142                                                               & LV\\_bottom                                                       & B7                                                                & P132                                                              & 0.000613080                                                      \\\\\n",
       "\t20 & X585\\_Group3E\\_142dpi\\_LV\\_bottom\\_180\\_G\\_B8\\_P132.mzXML & 585                                                               & infected                                                          & 142                                                               & LV\\_bottom                                                       & B8                                                                & P132                                                              & 0.000852706                                                      \\\\\n",
       "\t21 & X611\\_Group9\\_142dpi\\_LV\\_bottom\\_181\\_G\\_B9\\_P132.mzXML  & 611                                                               & combo                                                             & 142                                                               & LV\\_bottom                                                       & B9                                                                & P132                                                              & 0.000222028                                                      \\\\\n",
       "\\end{tabular}\n"
      ],
      "text/markdown": [
       "\n",
       "| <!--/--> | filename | MouseID | Treatmentgroup | DPI | organ | well_position | plate | nonzero |\n",
       "|---|---|---|---|---|---|---|---|---|\n",
       "| 16 | X581_Group3E_142dpi_LV_bottom_176_G_B4_P132.mzXML | 581                                               | infected                                          | 142                                               | LV_bottom                                         | B4                                                | P132                                              | 0.000441601                                       |\n",
       "| 17 | X582_Group3E_142dpi_LV_bottom_177_G_B5_P132.mzXML | 582                                               | infected                                          | 142                                               | LV_bottom                                         | B5                                                | P132                                              | 0.000718141                                       |\n",
       "| 18 | X583_Group3E_142dpi_LV_bottom_178_G_B6_P132.mzXML | 583                                               | infected                                          | 142                                               | LV_bottom                                         | B6                                                | P132                                              | 0.000412639                                       |\n",
       "| 19 | X584_Group3E_142dpi_LV_bottom_179_G_B7_P132.mzXML | 584                                               | infected                                          | 142                                               | LV_bottom                                         | B7                                                | P132                                              | 0.000613080                                       |\n",
       "| 20 | X585_Group3E_142dpi_LV_bottom_180_G_B8_P132.mzXML | 585                                               | infected                                          | 142                                               | LV_bottom                                         | B8                                                | P132                                              | 0.000852706                                       |\n",
       "| 21 | X611_Group9_142dpi_LV_bottom_181_G_B9_P132.mzXML  | 611                                               | combo                                             | 142                                               | LV_bottom                                         | B9                                                | P132                                              | 0.000222028                                       |\n",
       "\n"
      ],
      "text/plain": [
       "   filename                                          MouseID Treatmentgroup DPI\n",
       "16 X581_Group3E_142dpi_LV_bottom_176_G_B4_P132.mzXML 581     infected       142\n",
       "17 X582_Group3E_142dpi_LV_bottom_177_G_B5_P132.mzXML 582     infected       142\n",
       "18 X583_Group3E_142dpi_LV_bottom_178_G_B6_P132.mzXML 583     infected       142\n",
       "19 X584_Group3E_142dpi_LV_bottom_179_G_B7_P132.mzXML 584     infected       142\n",
       "20 X585_Group3E_142dpi_LV_bottom_180_G_B8_P132.mzXML 585     infected       142\n",
       "21 X611_Group9_142dpi_LV_bottom_181_G_B9_P132.mzXML  611     combo          142\n",
       "   organ     well_position plate nonzero    \n",
       "16 LV_bottom B4            P132  0.000441601\n",
       "17 LV_bottom B5            P132  0.000718141\n",
       "18 LV_bottom B6            P132  0.000412639\n",
       "19 LV_bottom B7            P132  0.000613080\n",
       "20 LV_bottom B8            P132  0.000852706\n",
       "21 LV_bottom B9            P132  0.000222028"
      ]
     },
     "metadata": {},
     "output_type": "display_data"
    },
    {
     "data": {
      "text/html": [
       "<ol class=list-inline>\n",
       "\t<li>30</li>\n",
       "\t<li>9</li>\n",
       "</ol>\n"
      ],
      "text/latex": [
       "\\begin{enumerate*}\n",
       "\\item 30\n",
       "\\item 9\n",
       "\\end{enumerate*}\n"
      ],
      "text/markdown": [
       "1. 30\n",
       "2. 9\n",
       "\n",
       "\n"
      ],
      "text/plain": [
       "[1] 30  9"
      ]
     },
     "metadata": {},
     "output_type": "display_data"
    },
    {
     "data": {
      "text/html": [
       "<ol class=list-inline>\n",
       "\t<li>30</li>\n",
       "\t<li>2</li>\n",
       "</ol>\n"
      ],
      "text/latex": [
       "\\begin{enumerate*}\n",
       "\\item 30\n",
       "\\item 2\n",
       "\\end{enumerate*}\n"
      ],
      "text/markdown": [
       "1. 30\n",
       "2. 2\n",
       "\n",
       "\n"
      ],
      "text/plain": [
       "[1] 30  2"
      ]
     },
     "metadata": {},
     "output_type": "display_data"
    },
    {
     "data": {
      "text/plain": [
       "NULL"
      ]
     },
     "metadata": {},
     "output_type": "display_data"
    },
    {
     "data": {
      "text/html": [
       "<ol class=list-inline>\n",
       "\t<li>30</li>\n",
       "\t<li>8</li>\n",
       "</ol>\n"
      ],
      "text/latex": [
       "\\begin{enumerate*}\n",
       "\\item 30\n",
       "\\item 8\n",
       "\\end{enumerate*}\n"
      ],
      "text/markdown": [
       "1. 30\n",
       "2. 8\n",
       "\n",
       "\n"
      ],
      "text/plain": [
       "[1] 30  8"
      ]
     },
     "metadata": {},
     "output_type": "display_data"
    }
   ],
   "source": [
    "noMeta<-features_pos[,8:9] \n",
    "head(noMeta)\n",
    "not_zero<-which(colSums(noMeta) != 0)\n",
    "head(not_zero)\n",
    "nonzero <- noMeta[, not_zero] \n",
    "nonzero\n",
    "nonzero_wMeta<-cbind(features_pos[,1:7], nonzero)\n",
    "head(nonzero_wMeta)\n",
    "dim(features_pos)\n",
    "dim(noMeta)\n",
    "dim(nonzero)\n",
    "dim(nonzero_wMeta)"
   ]
  },
  {
   "cell_type": "code",
   "execution_count": 15,
   "metadata": {
    "scrolled": true
   },
   "outputs": [
    {
     "name": "stderr",
     "output_type": "stream",
     "text": [
      "Warning message in wilcox.test.default(x = c(0.000222028, 4.62e-05, 0.000451238, :\n",
      "\"cannot compute exact p-value with ties\""
     ]
    },
    {
     "data": {
      "text/html": [
       "0.50686766850184"
      ],
      "text/latex": [
       "0.50686766850184"
      ],
      "text/markdown": [
       "0.50686766850184"
      ],
      "text/plain": [
       "[1] 0.5068677"
      ]
     },
     "metadata": {},
     "output_type": "display_data"
    },
    {
     "data": {
      "text/html": [
       "0.50686766850184"
      ],
      "text/latex": [
       "0.50686766850184"
      ],
      "text/markdown": [
       "0.50686766850184"
      ],
      "text/plain": [
       "[1] 0.5068677"
      ]
     },
     "metadata": {},
     "output_type": "display_data"
    }
   ],
   "source": [
    "pval<-c()\n",
    "\n",
    "for (i in 8:ncol(nonzero_wMeta)) \n",
    "pval<-c(pval,wilcox.test(nonzero_wMeta[,i]~nonzero_wMeta$Treatmentgroup)$p.value)\n",
    "head(pval)\n",
    "pAdj <- p.adjust(pval, method = c(\"fdr\"), n=length(pval)) \n",
    "head(pAdj) \n",
    "\n"
   ]
  },
  {
   "cell_type": "code",
   "execution_count": 16,
   "metadata": {
    "scrolled": true
   },
   "outputs": [
    {
     "data": {
      "text/html": [
       "1"
      ],
      "text/latex": [
       "1"
      ],
      "text/markdown": [
       "1"
      ],
      "text/plain": [
       "[1] 1"
      ]
     },
     "metadata": {},
     "output_type": "display_data"
    }
   ],
   "source": [
    "length(pval)"
   ]
  },
  {
   "cell_type": "code",
   "execution_count": 17,
   "metadata": {
    "scrolled": true
   },
   "outputs": [
    {
     "data": {
      "text/html": [
       "1"
      ],
      "text/latex": [
       "1"
      ],
      "text/markdown": [
       "1"
      ],
      "text/plain": [
       "[1] 1"
      ]
     },
     "metadata": {},
     "output_type": "display_data"
    }
   ],
   "source": [
    "length(pAdj)"
   ]
  },
  {
   "cell_type": "code",
   "execution_count": 18,
   "metadata": {},
   "outputs": [
    {
     "ename": "ERROR",
     "evalue": "Error in apply(nonzero_wMeta[, 8:ncol(nonzero_wMeta)], 2, function(x) tapply(x, : dim(X) must have a positive length\n",
     "output_type": "error",
     "traceback": [
      "Error in apply(nonzero_wMeta[, 8:ncol(nonzero_wMeta)], 2, function(x) tapply(x, : dim(X) must have a positive length\nTraceback:\n",
      "1. apply(nonzero_wMeta[, 8:ncol(nonzero_wMeta)], 2, function(x) tapply(x, \n .     nonzero_wMeta$Treatmentgroup, function(x) mean(x)))",
      "2. stop(\"dim(X) must have a positive length\")"
     ]
    }
   ],
   "source": [
    "avg<- apply(nonzero_wMeta[,8:ncol(nonzero_wMeta)], 2, function(x) tapply(x, nonzero_wMeta$Treatmentgroup, function(x) mean(x))) \n",
    "\n",
    "dim(avg)\n",
    "\n",
    "avg[,1:2]\n",
    "\n",
    "fch <- apply(avg, 2, function(x) x[1]/x[2])\n",
    "\n",
    "head(fch)\n",
    "is(fch)"
   ]
  },
  {
   "cell_type": "code",
   "execution_count": 19,
   "metadata": {
    "scrolled": true
   },
   "outputs": [
    {
     "ename": "ERROR",
     "evalue": "Error in eval(expr, envir, enclos): object 'fch' not found\n",
     "output_type": "error",
     "traceback": [
      "Error in eval(expr, envir, enclos): object 'fch' not found\nTraceback:\n"
     ]
    }
   ],
   "source": [
    "fch"
   ]
  },
  {
   "cell_type": "code",
   "execution_count": 20,
   "metadata": {
    "scrolled": false
   },
   "outputs": [],
   "source": [
    "df <- data.frame(pval, pAdj)\n",
    "write.csv(df, \"CAR-treat-LVB-wilcox-infected-combo.csv\")"
   ]
  },
  {
   "cell_type": "code",
   "execution_count": null,
   "metadata": {},
   "outputs": [],
   "source": []
  },
  {
   "cell_type": "code",
   "execution_count": null,
   "metadata": {},
   "outputs": [],
   "source": []
  },
  {
   "cell_type": "code",
   "execution_count": null,
   "metadata": {},
   "outputs": [],
   "source": []
  },
  {
   "cell_type": "code",
   "execution_count": null,
   "metadata": {},
   "outputs": [],
   "source": []
  },
  {
   "cell_type": "code",
   "execution_count": null,
   "metadata": {},
   "outputs": [],
   "source": []
  },
  {
   "cell_type": "code",
   "execution_count": null,
   "metadata": {},
   "outputs": [],
   "source": []
  }
 ],
 "metadata": {
  "kernelspec": {
   "display_name": "R",
   "language": "R",
   "name": "ir"
  },
  "language_info": {
   "codemirror_mode": "r",
   "file_extension": ".r",
   "mimetype": "text/x-r-source",
   "name": "R",
   "pygments_lexer": "r",
   "version": "3.6.1"
  }
 },
 "nbformat": 4,
 "nbformat_minor": 2
}
