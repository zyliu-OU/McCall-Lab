{
 "cells": [
  {
   "cell_type": "code",
   "execution_count": 11,
   "metadata": {},
   "outputs": [],
   "source": [
    "a <- read.csv(\"03172021-CAR-time-LVB-M-F.csv\")"
   ]
  },
  {
   "cell_type": "code",
   "execution_count": 12,
   "metadata": {},
   "outputs": [
    {
     "data": {
      "text/html": [
       "<table>\n",
       "<thead><tr><th scope=col>filename</th><th scope=col>MouseID</th><th scope=col>Treatmentgroup</th><th scope=col>status</th><th scope=col>DPI</th><th scope=col>organ</th><th scope=col>well_position</th><th scope=col>plate</th><th scope=col>CAR_mid_chain</th><th scope=col>CAR_long_chain</th></tr></thead>\n",
       "<tbody>\n",
       "\t<tr><td>X501_Group1A_50dpi_LV_bottom_251_B_A1_P133.mzXML</td><td>501                                             </td><td>Group1A                                         </td><td>naive                                           </td><td>DPI_50                                          </td><td>LV_bottom                                       </td><td>A1                                              </td><td>P133                                            </td><td>0                                               </td><td>0.002987575                                     </td></tr>\n",
       "\t<tr><td>X502_Group1A_50dpi_LV_bottom_252_B_A2_P133.mzXML</td><td>502                                             </td><td>Group1A                                         </td><td>naive                                           </td><td>DPI_50                                          </td><td>LV_bottom                                       </td><td>A2                                              </td><td>P133                                            </td><td>0                                               </td><td>0.000376124                                     </td></tr>\n",
       "\t<tr><td>X503_Group1A_50dpi_LV_bottom_253_B_A3_P133.mzXML</td><td>503                                             </td><td>Group1A                                         </td><td>naive                                           </td><td>DPI_50                                          </td><td>LV_bottom                                       </td><td>A3                                              </td><td>P133                                            </td><td>0                                               </td><td>0.000392436                                     </td></tr>\n",
       "\t<tr><td>X504_Group1A_50dpi_LV_bottom_254_B_A4_P133.mzXML</td><td>504                                             </td><td>Group1A                                         </td><td>naive                                           </td><td>DPI_50                                          </td><td>LV_bottom                                       </td><td>A4                                              </td><td>P133                                            </td><td>0                                               </td><td>0.000290270                                     </td></tr>\n",
       "\t<tr><td>X505_Group1A_50dpi_LV_bottom_255_B_A5_P133.mzXML</td><td>505                                             </td><td>Group1A                                         </td><td>naive                                           </td><td>DPI_50                                          </td><td>LV_bottom                                       </td><td>A5                                              </td><td>P133                                            </td><td>0                                               </td><td>0.000767165                                     </td></tr>\n",
       "\t<tr><td>X521_Group1A_50dpi_LV_bottom_256_B_A6_P133.mzXML</td><td>521                                             </td><td>Group1A                                         </td><td>naive                                           </td><td>DPI_50                                          </td><td>LV_bottom                                       </td><td>A6                                              </td><td>P133                                            </td><td>0                                               </td><td>0.000740446                                     </td></tr>\n",
       "</tbody>\n",
       "</table>\n"
      ],
      "text/latex": [
       "\\begin{tabular}{r|llllllllll}\n",
       " filename & MouseID & Treatmentgroup & status & DPI & organ & well\\_position & plate & CAR\\_mid\\_chain & CAR\\_long\\_chain\\\\\n",
       "\\hline\n",
       "\t X501\\_Group1A\\_50dpi\\_LV\\_bottom\\_251\\_B\\_A1\\_P133.mzXML & 501                                                              & Group1A                                                          & naive                                                            & DPI\\_50                                                         & LV\\_bottom                                                      & A1                                                               & P133                                                             & 0                                                                & 0.002987575                                                     \\\\\n",
       "\t X502\\_Group1A\\_50dpi\\_LV\\_bottom\\_252\\_B\\_A2\\_P133.mzXML & 502                                                              & Group1A                                                          & naive                                                            & DPI\\_50                                                         & LV\\_bottom                                                      & A2                                                               & P133                                                             & 0                                                                & 0.000376124                                                     \\\\\n",
       "\t X503\\_Group1A\\_50dpi\\_LV\\_bottom\\_253\\_B\\_A3\\_P133.mzXML & 503                                                              & Group1A                                                          & naive                                                            & DPI\\_50                                                         & LV\\_bottom                                                      & A3                                                               & P133                                                             & 0                                                                & 0.000392436                                                     \\\\\n",
       "\t X504\\_Group1A\\_50dpi\\_LV\\_bottom\\_254\\_B\\_A4\\_P133.mzXML & 504                                                              & Group1A                                                          & naive                                                            & DPI\\_50                                                         & LV\\_bottom                                                      & A4                                                               & P133                                                             & 0                                                                & 0.000290270                                                     \\\\\n",
       "\t X505\\_Group1A\\_50dpi\\_LV\\_bottom\\_255\\_B\\_A5\\_P133.mzXML & 505                                                              & Group1A                                                          & naive                                                            & DPI\\_50                                                         & LV\\_bottom                                                      & A5                                                               & P133                                                             & 0                                                                & 0.000767165                                                     \\\\\n",
       "\t X521\\_Group1A\\_50dpi\\_LV\\_bottom\\_256\\_B\\_A6\\_P133.mzXML & 521                                                              & Group1A                                                          & naive                                                            & DPI\\_50                                                         & LV\\_bottom                                                      & A6                                                               & P133                                                             & 0                                                                & 0.000740446                                                     \\\\\n",
       "\\end{tabular}\n"
      ],
      "text/markdown": [
       "\n",
       "| filename | MouseID | Treatmentgroup | status | DPI | organ | well_position | plate | CAR_mid_chain | CAR_long_chain |\n",
       "|---|---|---|---|---|---|---|---|---|---|\n",
       "| X501_Group1A_50dpi_LV_bottom_251_B_A1_P133.mzXML | 501                                              | Group1A                                          | naive                                            | DPI_50                                           | LV_bottom                                        | A1                                               | P133                                             | 0                                                | 0.002987575                                      |\n",
       "| X502_Group1A_50dpi_LV_bottom_252_B_A2_P133.mzXML | 502                                              | Group1A                                          | naive                                            | DPI_50                                           | LV_bottom                                        | A2                                               | P133                                             | 0                                                | 0.000376124                                      |\n",
       "| X503_Group1A_50dpi_LV_bottom_253_B_A3_P133.mzXML | 503                                              | Group1A                                          | naive                                            | DPI_50                                           | LV_bottom                                        | A3                                               | P133                                             | 0                                                | 0.000392436                                      |\n",
       "| X504_Group1A_50dpi_LV_bottom_254_B_A4_P133.mzXML | 504                                              | Group1A                                          | naive                                            | DPI_50                                           | LV_bottom                                        | A4                                               | P133                                             | 0                                                | 0.000290270                                      |\n",
       "| X505_Group1A_50dpi_LV_bottom_255_B_A5_P133.mzXML | 505                                              | Group1A                                          | naive                                            | DPI_50                                           | LV_bottom                                        | A5                                               | P133                                             | 0                                                | 0.000767165                                      |\n",
       "| X521_Group1A_50dpi_LV_bottom_256_B_A6_P133.mzXML | 521                                              | Group1A                                          | naive                                            | DPI_50                                           | LV_bottom                                        | A6                                               | P133                                             | 0                                                | 0.000740446                                      |\n",
       "\n"
      ],
      "text/plain": [
       "  filename                                         MouseID Treatmentgroup\n",
       "1 X501_Group1A_50dpi_LV_bottom_251_B_A1_P133.mzXML 501     Group1A       \n",
       "2 X502_Group1A_50dpi_LV_bottom_252_B_A2_P133.mzXML 502     Group1A       \n",
       "3 X503_Group1A_50dpi_LV_bottom_253_B_A3_P133.mzXML 503     Group1A       \n",
       "4 X504_Group1A_50dpi_LV_bottom_254_B_A4_P133.mzXML 504     Group1A       \n",
       "5 X505_Group1A_50dpi_LV_bottom_255_B_A5_P133.mzXML 505     Group1A       \n",
       "6 X521_Group1A_50dpi_LV_bottom_256_B_A6_P133.mzXML 521     Group1A       \n",
       "  status DPI    organ     well_position plate CAR_mid_chain CAR_long_chain\n",
       "1 naive  DPI_50 LV_bottom A1            P133  0             0.002987575   \n",
       "2 naive  DPI_50 LV_bottom A2            P133  0             0.000376124   \n",
       "3 naive  DPI_50 LV_bottom A3            P133  0             0.000392436   \n",
       "4 naive  DPI_50 LV_bottom A4            P133  0             0.000290270   \n",
       "5 naive  DPI_50 LV_bottom A5            P133  0             0.000767165   \n",
       "6 naive  DPI_50 LV_bottom A6            P133  0             0.000740446   "
      ]
     },
     "metadata": {},
     "output_type": "display_data"
    },
    {
     "data": {
      "text/html": [
       "<ol class=list-inline>\n",
       "\t<li>90</li>\n",
       "\t<li>10</li>\n",
       "</ol>\n"
      ],
      "text/latex": [
       "\\begin{enumerate*}\n",
       "\\item 90\n",
       "\\item 10\n",
       "\\end{enumerate*}\n"
      ],
      "text/markdown": [
       "1. 90\n",
       "2. 10\n",
       "\n",
       "\n"
      ],
      "text/plain": [
       "[1] 90 10"
      ]
     },
     "metadata": {},
     "output_type": "display_data"
    }
   ],
   "source": [
    "head(a)\n",
    "dim(a)"
   ]
  },
  {
   "cell_type": "code",
   "execution_count": 13,
   "metadata": {},
   "outputs": [
    {
     "data": {
      "text/html": [
       "<table>\n",
       "<thead><tr><th></th><th scope=col>filename</th><th scope=col>MouseID</th><th scope=col>Treatmentgroup</th><th scope=col>status</th><th scope=col>DPI</th><th scope=col>organ</th><th scope=col>well_position</th><th scope=col>plate</th><th scope=col>CAR_mid_chain</th><th scope=col>CAR_long_chain</th></tr></thead>\n",
       "<tbody>\n",
       "\t<tr><th scope=row>16</th><td>X506_Group1B_70dpi_LV_bottom_281_B_C7_P133.mzXML </td><td>506                                              </td><td>Group1B                                          </td><td>naive                                            </td><td>DPI_75                                           </td><td>LV_bottom                                        </td><td>C7                                               </td><td>P133                                             </td><td>0                                                </td><td>0.004283705                                      </td></tr>\n",
       "\t<tr><th scope=row>17</th><td>X507_Group1B_70dpi_LV_bottom_282_B_C8_P133.mzXML </td><td>507                                              </td><td>Group1B                                          </td><td>naive                                            </td><td>DPI_75                                           </td><td>LV_bottom                                        </td><td>C8                                               </td><td>P133                                             </td><td>0                                                </td><td>0.006946244                                      </td></tr>\n",
       "\t<tr><th scope=row>18</th><td>X508_Group1B_70dpi_LV_bottom_283_B_C9_P133.mzXML </td><td>508                                              </td><td>Group1B                                          </td><td>naive                                            </td><td>DPI_75                                           </td><td>LV_bottom                                        </td><td>C9                                               </td><td>P133                                             </td><td>0                                                </td><td>0.002468332                                      </td></tr>\n",
       "\t<tr><th scope=row>19</th><td>X509_Group1B_70dpi_LV_bottom_284_B_C10_P133.mzXML</td><td>509                                              </td><td>Group1B                                          </td><td>naive                                            </td><td>DPI_75                                           </td><td>LV_bottom                                        </td><td>C10                                              </td><td>P133                                             </td><td>0                                                </td><td>0.002595280                                      </td></tr>\n",
       "\t<tr><th scope=row>20</th><td>X510_Group1B_70dpi_LV_bottom_285_B_C11_P133.mzXML</td><td>510                                              </td><td>Group1B                                          </td><td>naive                                            </td><td>DPI_75                                           </td><td>LV_bottom                                        </td><td>C11                                              </td><td>P133                                             </td><td>0                                                </td><td>0.006775005                                      </td></tr>\n",
       "\t<tr><th scope=row>21</th><td>X526_Group1B_70dpi_LV_bottom_286_B_C12_P133.mzXML</td><td>526                                              </td><td>Group1B                                          </td><td>naive                                            </td><td>DPI_75                                           </td><td>LV_bottom                                        </td><td>C12                                              </td><td>P133                                             </td><td>0                                                </td><td>0.000165406                                      </td></tr>\n",
       "</tbody>\n",
       "</table>\n"
      ],
      "text/latex": [
       "\\begin{tabular}{r|llllllllll}\n",
       "  & filename & MouseID & Treatmentgroup & status & DPI & organ & well\\_position & plate & CAR\\_mid\\_chain & CAR\\_long\\_chain\\\\\n",
       "\\hline\n",
       "\t16 & X506\\_Group1B\\_70dpi\\_LV\\_bottom\\_281\\_B\\_C7\\_P133.mzXML  & 506                                                               & Group1B                                                           & naive                                                             & DPI\\_75                                                          & LV\\_bottom                                                       & C7                                                                & P133                                                              & 0                                                                 & 0.004283705                                                      \\\\\n",
       "\t17 & X507\\_Group1B\\_70dpi\\_LV\\_bottom\\_282\\_B\\_C8\\_P133.mzXML  & 507                                                               & Group1B                                                           & naive                                                             & DPI\\_75                                                          & LV\\_bottom                                                       & C8                                                                & P133                                                              & 0                                                                 & 0.006946244                                                      \\\\\n",
       "\t18 & X508\\_Group1B\\_70dpi\\_LV\\_bottom\\_283\\_B\\_C9\\_P133.mzXML  & 508                                                               & Group1B                                                           & naive                                                             & DPI\\_75                                                          & LV\\_bottom                                                       & C9                                                                & P133                                                              & 0                                                                 & 0.002468332                                                      \\\\\n",
       "\t19 & X509\\_Group1B\\_70dpi\\_LV\\_bottom\\_284\\_B\\_C10\\_P133.mzXML & 509                                                               & Group1B                                                           & naive                                                             & DPI\\_75                                                          & LV\\_bottom                                                       & C10                                                               & P133                                                              & 0                                                                 & 0.002595280                                                      \\\\\n",
       "\t20 & X510\\_Group1B\\_70dpi\\_LV\\_bottom\\_285\\_B\\_C11\\_P133.mzXML & 510                                                               & Group1B                                                           & naive                                                             & DPI\\_75                                                          & LV\\_bottom                                                       & C11                                                               & P133                                                              & 0                                                                 & 0.006775005                                                      \\\\\n",
       "\t21 & X526\\_Group1B\\_70dpi\\_LV\\_bottom\\_286\\_B\\_C12\\_P133.mzXML & 526                                                               & Group1B                                                           & naive                                                             & DPI\\_75                                                          & LV\\_bottom                                                       & C12                                                               & P133                                                              & 0                                                                 & 0.000165406                                                      \\\\\n",
       "\\end{tabular}\n"
      ],
      "text/markdown": [
       "\n",
       "| <!--/--> | filename | MouseID | Treatmentgroup | status | DPI | organ | well_position | plate | CAR_mid_chain | CAR_long_chain |\n",
       "|---|---|---|---|---|---|---|---|---|---|---|\n",
       "| 16 | X506_Group1B_70dpi_LV_bottom_281_B_C7_P133.mzXML  | 506                                               | Group1B                                           | naive                                             | DPI_75                                            | LV_bottom                                         | C7                                                | P133                                              | 0                                                 | 0.004283705                                       |\n",
       "| 17 | X507_Group1B_70dpi_LV_bottom_282_B_C8_P133.mzXML  | 507                                               | Group1B                                           | naive                                             | DPI_75                                            | LV_bottom                                         | C8                                                | P133                                              | 0                                                 | 0.006946244                                       |\n",
       "| 18 | X508_Group1B_70dpi_LV_bottom_283_B_C9_P133.mzXML  | 508                                               | Group1B                                           | naive                                             | DPI_75                                            | LV_bottom                                         | C9                                                | P133                                              | 0                                                 | 0.002468332                                       |\n",
       "| 19 | X509_Group1B_70dpi_LV_bottom_284_B_C10_P133.mzXML | 509                                               | Group1B                                           | naive                                             | DPI_75                                            | LV_bottom                                         | C10                                               | P133                                              | 0                                                 | 0.002595280                                       |\n",
       "| 20 | X510_Group1B_70dpi_LV_bottom_285_B_C11_P133.mzXML | 510                                               | Group1B                                           | naive                                             | DPI_75                                            | LV_bottom                                         | C11                                               | P133                                              | 0                                                 | 0.006775005                                       |\n",
       "| 21 | X526_Group1B_70dpi_LV_bottom_286_B_C12_P133.mzXML | 526                                               | Group1B                                           | naive                                             | DPI_75                                            | LV_bottom                                         | C12                                               | P133                                              | 0                                                 | 0.000165406                                       |\n",
       "\n"
      ],
      "text/plain": [
       "   filename                                          MouseID Treatmentgroup\n",
       "16 X506_Group1B_70dpi_LV_bottom_281_B_C7_P133.mzXML  506     Group1B       \n",
       "17 X507_Group1B_70dpi_LV_bottom_282_B_C8_P133.mzXML  507     Group1B       \n",
       "18 X508_Group1B_70dpi_LV_bottom_283_B_C9_P133.mzXML  508     Group1B       \n",
       "19 X509_Group1B_70dpi_LV_bottom_284_B_C10_P133.mzXML 509     Group1B       \n",
       "20 X510_Group1B_70dpi_LV_bottom_285_B_C11_P133.mzXML 510     Group1B       \n",
       "21 X526_Group1B_70dpi_LV_bottom_286_B_C12_P133.mzXML 526     Group1B       \n",
       "   status DPI    organ     well_position plate CAR_mid_chain CAR_long_chain\n",
       "16 naive  DPI_75 LV_bottom C7            P133  0             0.004283705   \n",
       "17 naive  DPI_75 LV_bottom C8            P133  0             0.006946244   \n",
       "18 naive  DPI_75 LV_bottom C9            P133  0             0.002468332   \n",
       "19 naive  DPI_75 LV_bottom C10           P133  0             0.002595280   \n",
       "20 naive  DPI_75 LV_bottom C11           P133  0             0.006775005   \n",
       "21 naive  DPI_75 LV_bottom C12           P133  0             0.000165406   "
      ]
     },
     "metadata": {},
     "output_type": "display_data"
    },
    {
     "data": {
      "text/html": [
       "<ol class=list-inline>\n",
       "\t<li>30</li>\n",
       "\t<li>10</li>\n",
       "</ol>\n"
      ],
      "text/latex": [
       "\\begin{enumerate*}\n",
       "\\item 30\n",
       "\\item 10\n",
       "\\end{enumerate*}\n"
      ],
      "text/markdown": [
       "1. 30\n",
       "2. 10\n",
       "\n",
       "\n"
      ],
      "text/plain": [
       "[1] 30 10"
      ]
     },
     "metadata": {},
     "output_type": "display_data"
    }
   ],
   "source": [
    "features_pos<-droplevels(subset(a, a$Treatmentgroup==c(\"Group1B\")|a$Treatmentgroup==c(\"Group3B\")))\n",
    "head(features_pos)\n",
    "dim(features_pos)"
   ]
  },
  {
   "cell_type": "code",
   "execution_count": 14,
   "metadata": {
    "scrolled": false
   },
   "outputs": [
    {
     "data": {
      "text/html": [
       "<table>\n",
       "<thead><tr><th></th><th scope=col>CAR_mid_chain</th><th scope=col>CAR_long_chain</th></tr></thead>\n",
       "<tbody>\n",
       "\t<tr><th scope=row>16</th><td>0          </td><td>0.004283705</td></tr>\n",
       "\t<tr><th scope=row>17</th><td>0          </td><td>0.006946244</td></tr>\n",
       "\t<tr><th scope=row>18</th><td>0          </td><td>0.002468332</td></tr>\n",
       "\t<tr><th scope=row>19</th><td>0          </td><td>0.002595280</td></tr>\n",
       "\t<tr><th scope=row>20</th><td>0          </td><td>0.006775005</td></tr>\n",
       "\t<tr><th scope=row>21</th><td>0          </td><td>0.000165406</td></tr>\n",
       "</tbody>\n",
       "</table>\n"
      ],
      "text/latex": [
       "\\begin{tabular}{r|ll}\n",
       "  & CAR\\_mid\\_chain & CAR\\_long\\_chain\\\\\n",
       "\\hline\n",
       "\t16 & 0           & 0.004283705\\\\\n",
       "\t17 & 0           & 0.006946244\\\\\n",
       "\t18 & 0           & 0.002468332\\\\\n",
       "\t19 & 0           & 0.002595280\\\\\n",
       "\t20 & 0           & 0.006775005\\\\\n",
       "\t21 & 0           & 0.000165406\\\\\n",
       "\\end{tabular}\n"
      ],
      "text/markdown": [
       "\n",
       "| <!--/--> | CAR_mid_chain | CAR_long_chain |\n",
       "|---|---|---|\n",
       "| 16 | 0           | 0.004283705 |\n",
       "| 17 | 0           | 0.006946244 |\n",
       "| 18 | 0           | 0.002468332 |\n",
       "| 19 | 0           | 0.002595280 |\n",
       "| 20 | 0           | 0.006775005 |\n",
       "| 21 | 0           | 0.000165406 |\n",
       "\n"
      ],
      "text/plain": [
       "   CAR_mid_chain CAR_long_chain\n",
       "16 0             0.004283705   \n",
       "17 0             0.006946244   \n",
       "18 0             0.002468332   \n",
       "19 0             0.002595280   \n",
       "20 0             0.006775005   \n",
       "21 0             0.000165406   "
      ]
     },
     "metadata": {},
     "output_type": "display_data"
    },
    {
     "data": {
      "text/html": [
       "<strong>CAR_long_chain:</strong> 2"
      ],
      "text/latex": [
       "\\textbf{CAR\\textbackslash{}\\_long\\textbackslash{}\\_chain:} 2"
      ],
      "text/markdown": [
       "**CAR_long_chain:** 2"
      ],
      "text/plain": [
       "CAR_long_chain \n",
       "             2 "
      ]
     },
     "metadata": {},
     "output_type": "display_data"
    },
    {
     "data": {
      "text/html": [
       "<ol class=list-inline>\n",
       "\t<li>0.004283705</li>\n",
       "\t<li>0.006946244</li>\n",
       "\t<li>0.002468332</li>\n",
       "\t<li>0.00259528</li>\n",
       "\t<li>0.006775005</li>\n",
       "\t<li>0.000165406</li>\n",
       "\t<li>0.000769446</li>\n",
       "\t<li>0.000177728</li>\n",
       "\t<li>0.00116831</li>\n",
       "\t<li>0.001685316</li>\n",
       "\t<li>0.001409697</li>\n",
       "\t<li>0.00336544</li>\n",
       "\t<li>0.000231215</li>\n",
       "\t<li>0.000965968</li>\n",
       "\t<li>0.000228294</li>\n",
       "\t<li>0.006008719</li>\n",
       "\t<li>0.001739005</li>\n",
       "\t<li>0.001549104</li>\n",
       "\t<li>0.001092793</li>\n",
       "\t<li>0.002320144</li>\n",
       "\t<li>0.0010021</li>\n",
       "\t<li>0.001149901</li>\n",
       "\t<li>0.000807841</li>\n",
       "\t<li>0.000755452</li>\n",
       "\t<li>0.000345432</li>\n",
       "\t<li>0.001931068</li>\n",
       "\t<li>0.000340208</li>\n",
       "\t<li>0.000450791</li>\n",
       "\t<li>0.000737741</li>\n",
       "\t<li>0.000855815</li>\n",
       "</ol>\n"
      ],
      "text/latex": [
       "\\begin{enumerate*}\n",
       "\\item 0.004283705\n",
       "\\item 0.006946244\n",
       "\\item 0.002468332\n",
       "\\item 0.00259528\n",
       "\\item 0.006775005\n",
       "\\item 0.000165406\n",
       "\\item 0.000769446\n",
       "\\item 0.000177728\n",
       "\\item 0.00116831\n",
       "\\item 0.001685316\n",
       "\\item 0.001409697\n",
       "\\item 0.00336544\n",
       "\\item 0.000231215\n",
       "\\item 0.000965968\n",
       "\\item 0.000228294\n",
       "\\item 0.006008719\n",
       "\\item 0.001739005\n",
       "\\item 0.001549104\n",
       "\\item 0.001092793\n",
       "\\item 0.002320144\n",
       "\\item 0.0010021\n",
       "\\item 0.001149901\n",
       "\\item 0.000807841\n",
       "\\item 0.000755452\n",
       "\\item 0.000345432\n",
       "\\item 0.001931068\n",
       "\\item 0.000340208\n",
       "\\item 0.000450791\n",
       "\\item 0.000737741\n",
       "\\item 0.000855815\n",
       "\\end{enumerate*}\n"
      ],
      "text/markdown": [
       "1. 0.004283705\n",
       "2. 0.006946244\n",
       "3. 0.002468332\n",
       "4. 0.00259528\n",
       "5. 0.006775005\n",
       "6. 0.000165406\n",
       "7. 0.000769446\n",
       "8. 0.000177728\n",
       "9. 0.00116831\n",
       "10. 0.001685316\n",
       "11. 0.001409697\n",
       "12. 0.00336544\n",
       "13. 0.000231215\n",
       "14. 0.000965968\n",
       "15. 0.000228294\n",
       "16. 0.006008719\n",
       "17. 0.001739005\n",
       "18. 0.001549104\n",
       "19. 0.001092793\n",
       "20. 0.002320144\n",
       "21. 0.0010021\n",
       "22. 0.001149901\n",
       "23. 0.000807841\n",
       "24. 0.000755452\n",
       "25. 0.000345432\n",
       "26. 0.001931068\n",
       "27. 0.000340208\n",
       "28. 0.000450791\n",
       "29. 0.000737741\n",
       "30. 0.000855815\n",
       "\n",
       "\n"
      ],
      "text/plain": [
       " [1] 0.004283705 0.006946244 0.002468332 0.002595280 0.006775005 0.000165406\n",
       " [7] 0.000769446 0.000177728 0.001168310 0.001685316 0.001409697 0.003365440\n",
       "[13] 0.000231215 0.000965968 0.000228294 0.006008719 0.001739005 0.001549104\n",
       "[19] 0.001092793 0.002320144 0.001002100 0.001149901 0.000807841 0.000755452\n",
       "[25] 0.000345432 0.001931068 0.000340208 0.000450791 0.000737741 0.000855815"
      ]
     },
     "metadata": {},
     "output_type": "display_data"
    },
    {
     "data": {
      "text/html": [
       "<table>\n",
       "<thead><tr><th></th><th scope=col>filename</th><th scope=col>MouseID</th><th scope=col>Treatmentgroup</th><th scope=col>status</th><th scope=col>DPI</th><th scope=col>organ</th><th scope=col>well_position</th><th scope=col>plate</th><th scope=col>nonzero</th></tr></thead>\n",
       "<tbody>\n",
       "\t<tr><th scope=row>16</th><td>X506_Group1B_70dpi_LV_bottom_281_B_C7_P133.mzXML </td><td>506                                              </td><td>Group1B                                          </td><td>naive                                            </td><td>DPI_75                                           </td><td>LV_bottom                                        </td><td>C7                                               </td><td>P133                                             </td><td>0.004283705                                      </td></tr>\n",
       "\t<tr><th scope=row>17</th><td>X507_Group1B_70dpi_LV_bottom_282_B_C8_P133.mzXML </td><td>507                                              </td><td>Group1B                                          </td><td>naive                                            </td><td>DPI_75                                           </td><td>LV_bottom                                        </td><td>C8                                               </td><td>P133                                             </td><td>0.006946244                                      </td></tr>\n",
       "\t<tr><th scope=row>18</th><td>X508_Group1B_70dpi_LV_bottom_283_B_C9_P133.mzXML </td><td>508                                              </td><td>Group1B                                          </td><td>naive                                            </td><td>DPI_75                                           </td><td>LV_bottom                                        </td><td>C9                                               </td><td>P133                                             </td><td>0.002468332                                      </td></tr>\n",
       "\t<tr><th scope=row>19</th><td>X509_Group1B_70dpi_LV_bottom_284_B_C10_P133.mzXML</td><td>509                                              </td><td>Group1B                                          </td><td>naive                                            </td><td>DPI_75                                           </td><td>LV_bottom                                        </td><td>C10                                              </td><td>P133                                             </td><td>0.002595280                                      </td></tr>\n",
       "\t<tr><th scope=row>20</th><td>X510_Group1B_70dpi_LV_bottom_285_B_C11_P133.mzXML</td><td>510                                              </td><td>Group1B                                          </td><td>naive                                            </td><td>DPI_75                                           </td><td>LV_bottom                                        </td><td>C11                                              </td><td>P133                                             </td><td>0.006775005                                      </td></tr>\n",
       "\t<tr><th scope=row>21</th><td>X526_Group1B_70dpi_LV_bottom_286_B_C12_P133.mzXML</td><td>526                                              </td><td>Group1B                                          </td><td>naive                                            </td><td>DPI_75                                           </td><td>LV_bottom                                        </td><td>C12                                              </td><td>P133                                             </td><td>0.000165406                                      </td></tr>\n",
       "</tbody>\n",
       "</table>\n"
      ],
      "text/latex": [
       "\\begin{tabular}{r|lllllllll}\n",
       "  & filename & MouseID & Treatmentgroup & status & DPI & organ & well\\_position & plate & nonzero\\\\\n",
       "\\hline\n",
       "\t16 & X506\\_Group1B\\_70dpi\\_LV\\_bottom\\_281\\_B\\_C7\\_P133.mzXML  & 506                                                               & Group1B                                                           & naive                                                             & DPI\\_75                                                          & LV\\_bottom                                                       & C7                                                                & P133                                                              & 0.004283705                                                      \\\\\n",
       "\t17 & X507\\_Group1B\\_70dpi\\_LV\\_bottom\\_282\\_B\\_C8\\_P133.mzXML  & 507                                                               & Group1B                                                           & naive                                                             & DPI\\_75                                                          & LV\\_bottom                                                       & C8                                                                & P133                                                              & 0.006946244                                                      \\\\\n",
       "\t18 & X508\\_Group1B\\_70dpi\\_LV\\_bottom\\_283\\_B\\_C9\\_P133.mzXML  & 508                                                               & Group1B                                                           & naive                                                             & DPI\\_75                                                          & LV\\_bottom                                                       & C9                                                                & P133                                                              & 0.002468332                                                      \\\\\n",
       "\t19 & X509\\_Group1B\\_70dpi\\_LV\\_bottom\\_284\\_B\\_C10\\_P133.mzXML & 509                                                               & Group1B                                                           & naive                                                             & DPI\\_75                                                          & LV\\_bottom                                                       & C10                                                               & P133                                                              & 0.002595280                                                      \\\\\n",
       "\t20 & X510\\_Group1B\\_70dpi\\_LV\\_bottom\\_285\\_B\\_C11\\_P133.mzXML & 510                                                               & Group1B                                                           & naive                                                             & DPI\\_75                                                          & LV\\_bottom                                                       & C11                                                               & P133                                                              & 0.006775005                                                      \\\\\n",
       "\t21 & X526\\_Group1B\\_70dpi\\_LV\\_bottom\\_286\\_B\\_C12\\_P133.mzXML & 526                                                               & Group1B                                                           & naive                                                             & DPI\\_75                                                          & LV\\_bottom                                                       & C12                                                               & P133                                                              & 0.000165406                                                      \\\\\n",
       "\\end{tabular}\n"
      ],
      "text/markdown": [
       "\n",
       "| <!--/--> | filename | MouseID | Treatmentgroup | status | DPI | organ | well_position | plate | nonzero |\n",
       "|---|---|---|---|---|---|---|---|---|---|\n",
       "| 16 | X506_Group1B_70dpi_LV_bottom_281_B_C7_P133.mzXML  | 506                                               | Group1B                                           | naive                                             | DPI_75                                            | LV_bottom                                         | C7                                                | P133                                              | 0.004283705                                       |\n",
       "| 17 | X507_Group1B_70dpi_LV_bottom_282_B_C8_P133.mzXML  | 507                                               | Group1B                                           | naive                                             | DPI_75                                            | LV_bottom                                         | C8                                                | P133                                              | 0.006946244                                       |\n",
       "| 18 | X508_Group1B_70dpi_LV_bottom_283_B_C9_P133.mzXML  | 508                                               | Group1B                                           | naive                                             | DPI_75                                            | LV_bottom                                         | C9                                                | P133                                              | 0.002468332                                       |\n",
       "| 19 | X509_Group1B_70dpi_LV_bottom_284_B_C10_P133.mzXML | 509                                               | Group1B                                           | naive                                             | DPI_75                                            | LV_bottom                                         | C10                                               | P133                                              | 0.002595280                                       |\n",
       "| 20 | X510_Group1B_70dpi_LV_bottom_285_B_C11_P133.mzXML | 510                                               | Group1B                                           | naive                                             | DPI_75                                            | LV_bottom                                         | C11                                               | P133                                              | 0.006775005                                       |\n",
       "| 21 | X526_Group1B_70dpi_LV_bottom_286_B_C12_P133.mzXML | 526                                               | Group1B                                           | naive                                             | DPI_75                                            | LV_bottom                                         | C12                                               | P133                                              | 0.000165406                                       |\n",
       "\n"
      ],
      "text/plain": [
       "   filename                                          MouseID Treatmentgroup\n",
       "16 X506_Group1B_70dpi_LV_bottom_281_B_C7_P133.mzXML  506     Group1B       \n",
       "17 X507_Group1B_70dpi_LV_bottom_282_B_C8_P133.mzXML  507     Group1B       \n",
       "18 X508_Group1B_70dpi_LV_bottom_283_B_C9_P133.mzXML  508     Group1B       \n",
       "19 X509_Group1B_70dpi_LV_bottom_284_B_C10_P133.mzXML 509     Group1B       \n",
       "20 X510_Group1B_70dpi_LV_bottom_285_B_C11_P133.mzXML 510     Group1B       \n",
       "21 X526_Group1B_70dpi_LV_bottom_286_B_C12_P133.mzXML 526     Group1B       \n",
       "   status DPI    organ     well_position plate nonzero    \n",
       "16 naive  DPI_75 LV_bottom C7            P133  0.004283705\n",
       "17 naive  DPI_75 LV_bottom C8            P133  0.006946244\n",
       "18 naive  DPI_75 LV_bottom C9            P133  0.002468332\n",
       "19 naive  DPI_75 LV_bottom C10           P133  0.002595280\n",
       "20 naive  DPI_75 LV_bottom C11           P133  0.006775005\n",
       "21 naive  DPI_75 LV_bottom C12           P133  0.000165406"
      ]
     },
     "metadata": {},
     "output_type": "display_data"
    },
    {
     "data": {
      "text/html": [
       "<ol class=list-inline>\n",
       "\t<li>30</li>\n",
       "\t<li>10</li>\n",
       "</ol>\n"
      ],
      "text/latex": [
       "\\begin{enumerate*}\n",
       "\\item 30\n",
       "\\item 10\n",
       "\\end{enumerate*}\n"
      ],
      "text/markdown": [
       "1. 30\n",
       "2. 10\n",
       "\n",
       "\n"
      ],
      "text/plain": [
       "[1] 30 10"
      ]
     },
     "metadata": {},
     "output_type": "display_data"
    },
    {
     "data": {
      "text/html": [
       "<ol class=list-inline>\n",
       "\t<li>30</li>\n",
       "\t<li>2</li>\n",
       "</ol>\n"
      ],
      "text/latex": [
       "\\begin{enumerate*}\n",
       "\\item 30\n",
       "\\item 2\n",
       "\\end{enumerate*}\n"
      ],
      "text/markdown": [
       "1. 30\n",
       "2. 2\n",
       "\n",
       "\n"
      ],
      "text/plain": [
       "[1] 30  2"
      ]
     },
     "metadata": {},
     "output_type": "display_data"
    },
    {
     "data": {
      "text/plain": [
       "NULL"
      ]
     },
     "metadata": {},
     "output_type": "display_data"
    },
    {
     "data": {
      "text/html": [
       "<ol class=list-inline>\n",
       "\t<li>30</li>\n",
       "\t<li>9</li>\n",
       "</ol>\n"
      ],
      "text/latex": [
       "\\begin{enumerate*}\n",
       "\\item 30\n",
       "\\item 9\n",
       "\\end{enumerate*}\n"
      ],
      "text/markdown": [
       "1. 30\n",
       "2. 9\n",
       "\n",
       "\n"
      ],
      "text/plain": [
       "[1] 30  9"
      ]
     },
     "metadata": {},
     "output_type": "display_data"
    }
   ],
   "source": [
    "noMeta<-features_pos[,9:10]\n",
    "head(noMeta)\n",
    "not_zero<-which(colSums(noMeta) != 0)\n",
    "head(not_zero)\n",
    "nonzero <- noMeta[, not_zero] \n",
    "nonzero\n",
    "nonzero_wMeta<-cbind(features_pos[,1:8], nonzero)\n",
    "head(nonzero_wMeta)\n",
    "dim(features_pos)\n",
    "dim(noMeta)\n",
    "dim(nonzero)\n",
    "dim(nonzero_wMeta)"
   ]
  },
  {
   "cell_type": "code",
   "execution_count": 15,
   "metadata": {
    "scrolled": true
   },
   "outputs": [
    {
     "data": {
      "text/html": [
       "0.512486352283095"
      ],
      "text/latex": [
       "0.512486352283095"
      ],
      "text/markdown": [
       "0.512486352283095"
      ],
      "text/plain": [
       "[1] 0.5124864"
      ]
     },
     "metadata": {},
     "output_type": "display_data"
    },
    {
     "data": {
      "text/html": [
       "0.512486352283095"
      ],
      "text/latex": [
       "0.512486352283095"
      ],
      "text/markdown": [
       "0.512486352283095"
      ],
      "text/plain": [
       "[1] 0.5124864"
      ]
     },
     "metadata": {},
     "output_type": "display_data"
    }
   ],
   "source": [
    "pval<-c()\n",
    "\n",
    "for (i in 9:ncol(nonzero_wMeta)) \n",
    "pval<-c(pval,wilcox.test(nonzero_wMeta[,i]~nonzero_wMeta$Treatmentgroup)$p.value)\n",
    "head(pval) \n",
    "pAdj <- p.adjust(pval, method = c(\"fdr\"), n=length(pval)) \n",
    "head(pAdj) \n",
    "\n"
   ]
  },
  {
   "cell_type": "code",
   "execution_count": 16,
   "metadata": {
    "scrolled": true
   },
   "outputs": [
    {
     "data": {
      "text/html": [
       "1"
      ],
      "text/latex": [
       "1"
      ],
      "text/markdown": [
       "1"
      ],
      "text/plain": [
       "[1] 1"
      ]
     },
     "metadata": {},
     "output_type": "display_data"
    }
   ],
   "source": [
    "length(pval)"
   ]
  },
  {
   "cell_type": "code",
   "execution_count": 17,
   "metadata": {
    "scrolled": true
   },
   "outputs": [
    {
     "data": {
      "text/html": [
       "1"
      ],
      "text/latex": [
       "1"
      ],
      "text/markdown": [
       "1"
      ],
      "text/plain": [
       "[1] 1"
      ]
     },
     "metadata": {},
     "output_type": "display_data"
    }
   ],
   "source": [
    "length(pAdj)"
   ]
  },
  {
   "cell_type": "code",
   "execution_count": 18,
   "metadata": {},
   "outputs": [
    {
     "ename": "ERROR",
     "evalue": "Error in apply(nonzero_wMeta[, 9:ncol(nonzero_wMeta)], 2, function(x) tapply(x, : dim(X) must have a positive length\n",
     "output_type": "error",
     "traceback": [
      "Error in apply(nonzero_wMeta[, 9:ncol(nonzero_wMeta)], 2, function(x) tapply(x, : dim(X) must have a positive length\nTraceback:\n",
      "1. apply(nonzero_wMeta[, 9:ncol(nonzero_wMeta)], 2, function(x) tapply(x, \n .     nonzero_wMeta$Treatmentgroup, function(x) mean(x)))",
      "2. stop(\"dim(X) must have a positive length\")"
     ]
    }
   ],
   "source": [
    "avg<- apply(nonzero_wMeta[,9:ncol(nonzero_wMeta)], 2, function(x) tapply(x, nonzero_wMeta$Treatmentgroup, function(x) mean(x))) \n",
    "\n",
    "dim(avg)\n",
    "\n",
    "avg[,1:2]\n",
    "\n",
    "fch <- apply(avg, 2, function(x) x[1]/x[2])\n",
    "\n",
    "head(fch)\n",
    "is(fch)"
   ]
  },
  {
   "cell_type": "code",
   "execution_count": 19,
   "metadata": {
    "scrolled": true
   },
   "outputs": [
    {
     "ename": "ERROR",
     "evalue": "Error in eval(expr, envir, enclos): object 'fch' not found\n",
     "output_type": "error",
     "traceback": [
      "Error in eval(expr, envir, enclos): object 'fch' not found\nTraceback:\n"
     ]
    }
   ],
   "source": [
    "fch"
   ]
  },
  {
   "cell_type": "code",
   "execution_count": 20,
   "metadata": {
    "scrolled": false
   },
   "outputs": [],
   "source": [
    "df <- data.frame(pval, pAdj)\n",
    "write.csv(df, \"CAR-time-LVB-wilcox-1B-3B.csv\")"
   ]
  },
  {
   "cell_type": "code",
   "execution_count": null,
   "metadata": {},
   "outputs": [],
   "source": []
  },
  {
   "cell_type": "code",
   "execution_count": null,
   "metadata": {},
   "outputs": [],
   "source": []
  },
  {
   "cell_type": "code",
   "execution_count": null,
   "metadata": {},
   "outputs": [],
   "source": []
  },
  {
   "cell_type": "code",
   "execution_count": null,
   "metadata": {},
   "outputs": [],
   "source": []
  },
  {
   "cell_type": "code",
   "execution_count": null,
   "metadata": {},
   "outputs": [],
   "source": []
  },
  {
   "cell_type": "code",
   "execution_count": null,
   "metadata": {},
   "outputs": [],
   "source": []
  }
 ],
 "metadata": {
  "kernelspec": {
   "display_name": "R",
   "language": "R",
   "name": "ir"
  },
  "language_info": {
   "codemirror_mode": "r",
   "file_extension": ".r",
   "mimetype": "text/x-r-source",
   "name": "R",
   "pygments_lexer": "r",
   "version": "3.6.1"
  }
 },
 "nbformat": 4,
 "nbformat_minor": 2
}
