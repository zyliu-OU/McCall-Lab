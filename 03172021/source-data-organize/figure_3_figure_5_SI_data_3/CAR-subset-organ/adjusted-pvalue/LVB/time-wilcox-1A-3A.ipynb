{
 "cells": [
  {
   "cell_type": "code",
   "execution_count": 1,
   "metadata": {},
   "outputs": [],
   "source": [
    "a <- read.csv(\"03172021-CAR-time-LVB-M-F.csv\")"
   ]
  },
  {
   "cell_type": "code",
   "execution_count": 2,
   "metadata": {},
   "outputs": [
    {
     "data": {
      "text/html": [
       "<table>\n",
       "<thead><tr><th scope=col>filename</th><th scope=col>MouseID</th><th scope=col>Treatmentgroup</th><th scope=col>status</th><th scope=col>DPI</th><th scope=col>organ</th><th scope=col>well_position</th><th scope=col>plate</th><th scope=col>CAR_mid_chain</th><th scope=col>CAR_long_chain</th></tr></thead>\n",
       "<tbody>\n",
       "\t<tr><td>X501_Group1A_50dpi_LV_bottom_251_B_A1_P133.mzXML</td><td>501                                             </td><td>Group1A                                         </td><td>naive                                           </td><td>DPI_50                                          </td><td>LV_bottom                                       </td><td>A1                                              </td><td>P133                                            </td><td>0                                               </td><td>0.002987575                                     </td></tr>\n",
       "\t<tr><td>X502_Group1A_50dpi_LV_bottom_252_B_A2_P133.mzXML</td><td>502                                             </td><td>Group1A                                         </td><td>naive                                           </td><td>DPI_50                                          </td><td>LV_bottom                                       </td><td>A2                                              </td><td>P133                                            </td><td>0                                               </td><td>0.000376124                                     </td></tr>\n",
       "\t<tr><td>X503_Group1A_50dpi_LV_bottom_253_B_A3_P133.mzXML</td><td>503                                             </td><td>Group1A                                         </td><td>naive                                           </td><td>DPI_50                                          </td><td>LV_bottom                                       </td><td>A3                                              </td><td>P133                                            </td><td>0                                               </td><td>0.000392436                                     </td></tr>\n",
       "\t<tr><td>X504_Group1A_50dpi_LV_bottom_254_B_A4_P133.mzXML</td><td>504                                             </td><td>Group1A                                         </td><td>naive                                           </td><td>DPI_50                                          </td><td>LV_bottom                                       </td><td>A4                                              </td><td>P133                                            </td><td>0                                               </td><td>0.000290270                                     </td></tr>\n",
       "\t<tr><td>X505_Group1A_50dpi_LV_bottom_255_B_A5_P133.mzXML</td><td>505                                             </td><td>Group1A                                         </td><td>naive                                           </td><td>DPI_50                                          </td><td>LV_bottom                                       </td><td>A5                                              </td><td>P133                                            </td><td>0                                               </td><td>0.000767165                                     </td></tr>\n",
       "\t<tr><td>X521_Group1A_50dpi_LV_bottom_256_B_A6_P133.mzXML</td><td>521                                             </td><td>Group1A                                         </td><td>naive                                           </td><td>DPI_50                                          </td><td>LV_bottom                                       </td><td>A6                                              </td><td>P133                                            </td><td>0                                               </td><td>0.000740446                                     </td></tr>\n",
       "</tbody>\n",
       "</table>\n"
      ],
      "text/latex": [
       "\\begin{tabular}{r|llllllllll}\n",
       " filename & MouseID & Treatmentgroup & status & DPI & organ & well\\_position & plate & CAR\\_mid\\_chain & CAR\\_long\\_chain\\\\\n",
       "\\hline\n",
       "\t X501\\_Group1A\\_50dpi\\_LV\\_bottom\\_251\\_B\\_A1\\_P133.mzXML & 501                                                              & Group1A                                                          & naive                                                            & DPI\\_50                                                         & LV\\_bottom                                                      & A1                                                               & P133                                                             & 0                                                                & 0.002987575                                                     \\\\\n",
       "\t X502\\_Group1A\\_50dpi\\_LV\\_bottom\\_252\\_B\\_A2\\_P133.mzXML & 502                                                              & Group1A                                                          & naive                                                            & DPI\\_50                                                         & LV\\_bottom                                                      & A2                                                               & P133                                                             & 0                                                                & 0.000376124                                                     \\\\\n",
       "\t X503\\_Group1A\\_50dpi\\_LV\\_bottom\\_253\\_B\\_A3\\_P133.mzXML & 503                                                              & Group1A                                                          & naive                                                            & DPI\\_50                                                         & LV\\_bottom                                                      & A3                                                               & P133                                                             & 0                                                                & 0.000392436                                                     \\\\\n",
       "\t X504\\_Group1A\\_50dpi\\_LV\\_bottom\\_254\\_B\\_A4\\_P133.mzXML & 504                                                              & Group1A                                                          & naive                                                            & DPI\\_50                                                         & LV\\_bottom                                                      & A4                                                               & P133                                                             & 0                                                                & 0.000290270                                                     \\\\\n",
       "\t X505\\_Group1A\\_50dpi\\_LV\\_bottom\\_255\\_B\\_A5\\_P133.mzXML & 505                                                              & Group1A                                                          & naive                                                            & DPI\\_50                                                         & LV\\_bottom                                                      & A5                                                               & P133                                                             & 0                                                                & 0.000767165                                                     \\\\\n",
       "\t X521\\_Group1A\\_50dpi\\_LV\\_bottom\\_256\\_B\\_A6\\_P133.mzXML & 521                                                              & Group1A                                                          & naive                                                            & DPI\\_50                                                         & LV\\_bottom                                                      & A6                                                               & P133                                                             & 0                                                                & 0.000740446                                                     \\\\\n",
       "\\end{tabular}\n"
      ],
      "text/markdown": [
       "\n",
       "| filename | MouseID | Treatmentgroup | status | DPI | organ | well_position | plate | CAR_mid_chain | CAR_long_chain |\n",
       "|---|---|---|---|---|---|---|---|---|---|\n",
       "| X501_Group1A_50dpi_LV_bottom_251_B_A1_P133.mzXML | 501                                              | Group1A                                          | naive                                            | DPI_50                                           | LV_bottom                                        | A1                                               | P133                                             | 0                                                | 0.002987575                                      |\n",
       "| X502_Group1A_50dpi_LV_bottom_252_B_A2_P133.mzXML | 502                                              | Group1A                                          | naive                                            | DPI_50                                           | LV_bottom                                        | A2                                               | P133                                             | 0                                                | 0.000376124                                      |\n",
       "| X503_Group1A_50dpi_LV_bottom_253_B_A3_P133.mzXML | 503                                              | Group1A                                          | naive                                            | DPI_50                                           | LV_bottom                                        | A3                                               | P133                                             | 0                                                | 0.000392436                                      |\n",
       "| X504_Group1A_50dpi_LV_bottom_254_B_A4_P133.mzXML | 504                                              | Group1A                                          | naive                                            | DPI_50                                           | LV_bottom                                        | A4                                               | P133                                             | 0                                                | 0.000290270                                      |\n",
       "| X505_Group1A_50dpi_LV_bottom_255_B_A5_P133.mzXML | 505                                              | Group1A                                          | naive                                            | DPI_50                                           | LV_bottom                                        | A5                                               | P133                                             | 0                                                | 0.000767165                                      |\n",
       "| X521_Group1A_50dpi_LV_bottom_256_B_A6_P133.mzXML | 521                                              | Group1A                                          | naive                                            | DPI_50                                           | LV_bottom                                        | A6                                               | P133                                             | 0                                                | 0.000740446                                      |\n",
       "\n"
      ],
      "text/plain": [
       "  filename                                         MouseID Treatmentgroup\n",
       "1 X501_Group1A_50dpi_LV_bottom_251_B_A1_P133.mzXML 501     Group1A       \n",
       "2 X502_Group1A_50dpi_LV_bottom_252_B_A2_P133.mzXML 502     Group1A       \n",
       "3 X503_Group1A_50dpi_LV_bottom_253_B_A3_P133.mzXML 503     Group1A       \n",
       "4 X504_Group1A_50dpi_LV_bottom_254_B_A4_P133.mzXML 504     Group1A       \n",
       "5 X505_Group1A_50dpi_LV_bottom_255_B_A5_P133.mzXML 505     Group1A       \n",
       "6 X521_Group1A_50dpi_LV_bottom_256_B_A6_P133.mzXML 521     Group1A       \n",
       "  status DPI    organ     well_position plate CAR_mid_chain CAR_long_chain\n",
       "1 naive  DPI_50 LV_bottom A1            P133  0             0.002987575   \n",
       "2 naive  DPI_50 LV_bottom A2            P133  0             0.000376124   \n",
       "3 naive  DPI_50 LV_bottom A3            P133  0             0.000392436   \n",
       "4 naive  DPI_50 LV_bottom A4            P133  0             0.000290270   \n",
       "5 naive  DPI_50 LV_bottom A5            P133  0             0.000767165   \n",
       "6 naive  DPI_50 LV_bottom A6            P133  0             0.000740446   "
      ]
     },
     "metadata": {},
     "output_type": "display_data"
    },
    {
     "data": {
      "text/html": [
       "<ol class=list-inline>\n",
       "\t<li>90</li>\n",
       "\t<li>10</li>\n",
       "</ol>\n"
      ],
      "text/latex": [
       "\\begin{enumerate*}\n",
       "\\item 90\n",
       "\\item 10\n",
       "\\end{enumerate*}\n"
      ],
      "text/markdown": [
       "1. 90\n",
       "2. 10\n",
       "\n",
       "\n"
      ],
      "text/plain": [
       "[1] 90 10"
      ]
     },
     "metadata": {},
     "output_type": "display_data"
    }
   ],
   "source": [
    "head(a)\n",
    "dim(a)"
   ]
  },
  {
   "cell_type": "code",
   "execution_count": 3,
   "metadata": {},
   "outputs": [
    {
     "data": {
      "text/html": [
       "<table>\n",
       "<thead><tr><th scope=col>filename</th><th scope=col>MouseID</th><th scope=col>Treatmentgroup</th><th scope=col>status</th><th scope=col>DPI</th><th scope=col>organ</th><th scope=col>well_position</th><th scope=col>plate</th><th scope=col>CAR_mid_chain</th><th scope=col>CAR_long_chain</th></tr></thead>\n",
       "<tbody>\n",
       "\t<tr><td>X501_Group1A_50dpi_LV_bottom_251_B_A1_P133.mzXML</td><td>501                                             </td><td>Group1A                                         </td><td>naive                                           </td><td>DPI_50                                          </td><td>LV_bottom                                       </td><td>A1                                              </td><td>P133                                            </td><td>0                                               </td><td>0.002987575                                     </td></tr>\n",
       "\t<tr><td>X502_Group1A_50dpi_LV_bottom_252_B_A2_P133.mzXML</td><td>502                                             </td><td>Group1A                                         </td><td>naive                                           </td><td>DPI_50                                          </td><td>LV_bottom                                       </td><td>A2                                              </td><td>P133                                            </td><td>0                                               </td><td>0.000376124                                     </td></tr>\n",
       "\t<tr><td>X503_Group1A_50dpi_LV_bottom_253_B_A3_P133.mzXML</td><td>503                                             </td><td>Group1A                                         </td><td>naive                                           </td><td>DPI_50                                          </td><td>LV_bottom                                       </td><td>A3                                              </td><td>P133                                            </td><td>0                                               </td><td>0.000392436                                     </td></tr>\n",
       "\t<tr><td>X504_Group1A_50dpi_LV_bottom_254_B_A4_P133.mzXML</td><td>504                                             </td><td>Group1A                                         </td><td>naive                                           </td><td>DPI_50                                          </td><td>LV_bottom                                       </td><td>A4                                              </td><td>P133                                            </td><td>0                                               </td><td>0.000290270                                     </td></tr>\n",
       "\t<tr><td>X505_Group1A_50dpi_LV_bottom_255_B_A5_P133.mzXML</td><td>505                                             </td><td>Group1A                                         </td><td>naive                                           </td><td>DPI_50                                          </td><td>LV_bottom                                       </td><td>A5                                              </td><td>P133                                            </td><td>0                                               </td><td>0.000767165                                     </td></tr>\n",
       "\t<tr><td>X521_Group1A_50dpi_LV_bottom_256_B_A6_P133.mzXML</td><td>521                                             </td><td>Group1A                                         </td><td>naive                                           </td><td>DPI_50                                          </td><td>LV_bottom                                       </td><td>A6                                              </td><td>P133                                            </td><td>0                                               </td><td>0.000740446                                     </td></tr>\n",
       "</tbody>\n",
       "</table>\n"
      ],
      "text/latex": [
       "\\begin{tabular}{r|llllllllll}\n",
       " filename & MouseID & Treatmentgroup & status & DPI & organ & well\\_position & plate & CAR\\_mid\\_chain & CAR\\_long\\_chain\\\\\n",
       "\\hline\n",
       "\t X501\\_Group1A\\_50dpi\\_LV\\_bottom\\_251\\_B\\_A1\\_P133.mzXML & 501                                                              & Group1A                                                          & naive                                                            & DPI\\_50                                                         & LV\\_bottom                                                      & A1                                                               & P133                                                             & 0                                                                & 0.002987575                                                     \\\\\n",
       "\t X502\\_Group1A\\_50dpi\\_LV\\_bottom\\_252\\_B\\_A2\\_P133.mzXML & 502                                                              & Group1A                                                          & naive                                                            & DPI\\_50                                                         & LV\\_bottom                                                      & A2                                                               & P133                                                             & 0                                                                & 0.000376124                                                     \\\\\n",
       "\t X503\\_Group1A\\_50dpi\\_LV\\_bottom\\_253\\_B\\_A3\\_P133.mzXML & 503                                                              & Group1A                                                          & naive                                                            & DPI\\_50                                                         & LV\\_bottom                                                      & A3                                                               & P133                                                             & 0                                                                & 0.000392436                                                     \\\\\n",
       "\t X504\\_Group1A\\_50dpi\\_LV\\_bottom\\_254\\_B\\_A4\\_P133.mzXML & 504                                                              & Group1A                                                          & naive                                                            & DPI\\_50                                                         & LV\\_bottom                                                      & A4                                                               & P133                                                             & 0                                                                & 0.000290270                                                     \\\\\n",
       "\t X505\\_Group1A\\_50dpi\\_LV\\_bottom\\_255\\_B\\_A5\\_P133.mzXML & 505                                                              & Group1A                                                          & naive                                                            & DPI\\_50                                                         & LV\\_bottom                                                      & A5                                                               & P133                                                             & 0                                                                & 0.000767165                                                     \\\\\n",
       "\t X521\\_Group1A\\_50dpi\\_LV\\_bottom\\_256\\_B\\_A6\\_P133.mzXML & 521                                                              & Group1A                                                          & naive                                                            & DPI\\_50                                                         & LV\\_bottom                                                      & A6                                                               & P133                                                             & 0                                                                & 0.000740446                                                     \\\\\n",
       "\\end{tabular}\n"
      ],
      "text/markdown": [
       "\n",
       "| filename | MouseID | Treatmentgroup | status | DPI | organ | well_position | plate | CAR_mid_chain | CAR_long_chain |\n",
       "|---|---|---|---|---|---|---|---|---|---|\n",
       "| X501_Group1A_50dpi_LV_bottom_251_B_A1_P133.mzXML | 501                                              | Group1A                                          | naive                                            | DPI_50                                           | LV_bottom                                        | A1                                               | P133                                             | 0                                                | 0.002987575                                      |\n",
       "| X502_Group1A_50dpi_LV_bottom_252_B_A2_P133.mzXML | 502                                              | Group1A                                          | naive                                            | DPI_50                                           | LV_bottom                                        | A2                                               | P133                                             | 0                                                | 0.000376124                                      |\n",
       "| X503_Group1A_50dpi_LV_bottom_253_B_A3_P133.mzXML | 503                                              | Group1A                                          | naive                                            | DPI_50                                           | LV_bottom                                        | A3                                               | P133                                             | 0                                                | 0.000392436                                      |\n",
       "| X504_Group1A_50dpi_LV_bottom_254_B_A4_P133.mzXML | 504                                              | Group1A                                          | naive                                            | DPI_50                                           | LV_bottom                                        | A4                                               | P133                                             | 0                                                | 0.000290270                                      |\n",
       "| X505_Group1A_50dpi_LV_bottom_255_B_A5_P133.mzXML | 505                                              | Group1A                                          | naive                                            | DPI_50                                           | LV_bottom                                        | A5                                               | P133                                             | 0                                                | 0.000767165                                      |\n",
       "| X521_Group1A_50dpi_LV_bottom_256_B_A6_P133.mzXML | 521                                              | Group1A                                          | naive                                            | DPI_50                                           | LV_bottom                                        | A6                                               | P133                                             | 0                                                | 0.000740446                                      |\n",
       "\n"
      ],
      "text/plain": [
       "  filename                                         MouseID Treatmentgroup\n",
       "1 X501_Group1A_50dpi_LV_bottom_251_B_A1_P133.mzXML 501     Group1A       \n",
       "2 X502_Group1A_50dpi_LV_bottom_252_B_A2_P133.mzXML 502     Group1A       \n",
       "3 X503_Group1A_50dpi_LV_bottom_253_B_A3_P133.mzXML 503     Group1A       \n",
       "4 X504_Group1A_50dpi_LV_bottom_254_B_A4_P133.mzXML 504     Group1A       \n",
       "5 X505_Group1A_50dpi_LV_bottom_255_B_A5_P133.mzXML 505     Group1A       \n",
       "6 X521_Group1A_50dpi_LV_bottom_256_B_A6_P133.mzXML 521     Group1A       \n",
       "  status DPI    organ     well_position plate CAR_mid_chain CAR_long_chain\n",
       "1 naive  DPI_50 LV_bottom A1            P133  0             0.002987575   \n",
       "2 naive  DPI_50 LV_bottom A2            P133  0             0.000376124   \n",
       "3 naive  DPI_50 LV_bottom A3            P133  0             0.000392436   \n",
       "4 naive  DPI_50 LV_bottom A4            P133  0             0.000290270   \n",
       "5 naive  DPI_50 LV_bottom A5            P133  0             0.000767165   \n",
       "6 naive  DPI_50 LV_bottom A6            P133  0             0.000740446   "
      ]
     },
     "metadata": {},
     "output_type": "display_data"
    },
    {
     "data": {
      "text/html": [
       "<ol class=list-inline>\n",
       "\t<li>30</li>\n",
       "\t<li>10</li>\n",
       "</ol>\n"
      ],
      "text/latex": [
       "\\begin{enumerate*}\n",
       "\\item 30\n",
       "\\item 10\n",
       "\\end{enumerate*}\n"
      ],
      "text/markdown": [
       "1. 30\n",
       "2. 10\n",
       "\n",
       "\n"
      ],
      "text/plain": [
       "[1] 30 10"
      ]
     },
     "metadata": {},
     "output_type": "display_data"
    }
   ],
   "source": [
    "features_pos<-droplevels(subset(a, a$Treatmentgroup==c(\"Group1A\")|a$Treatmentgroup==c(\"Group3A\")))\n",
    "head(features_pos)\n",
    "dim(features_pos)"
   ]
  },
  {
   "cell_type": "code",
   "execution_count": 4,
   "metadata": {
    "scrolled": false
   },
   "outputs": [
    {
     "data": {
      "text/html": [
       "<table>\n",
       "<thead><tr><th scope=col>CAR_mid_chain</th><th scope=col>CAR_long_chain</th></tr></thead>\n",
       "<tbody>\n",
       "\t<tr><td>0          </td><td>0.002987575</td></tr>\n",
       "\t<tr><td>0          </td><td>0.000376124</td></tr>\n",
       "\t<tr><td>0          </td><td>0.000392436</td></tr>\n",
       "\t<tr><td>0          </td><td>0.000290270</td></tr>\n",
       "\t<tr><td>0          </td><td>0.000767165</td></tr>\n",
       "\t<tr><td>0          </td><td>0.000740446</td></tr>\n",
       "</tbody>\n",
       "</table>\n"
      ],
      "text/latex": [
       "\\begin{tabular}{r|ll}\n",
       " CAR\\_mid\\_chain & CAR\\_long\\_chain\\\\\n",
       "\\hline\n",
       "\t 0           & 0.002987575\\\\\n",
       "\t 0           & 0.000376124\\\\\n",
       "\t 0           & 0.000392436\\\\\n",
       "\t 0           & 0.000290270\\\\\n",
       "\t 0           & 0.000767165\\\\\n",
       "\t 0           & 0.000740446\\\\\n",
       "\\end{tabular}\n"
      ],
      "text/markdown": [
       "\n",
       "| CAR_mid_chain | CAR_long_chain |\n",
       "|---|---|\n",
       "| 0           | 0.002987575 |\n",
       "| 0           | 0.000376124 |\n",
       "| 0           | 0.000392436 |\n",
       "| 0           | 0.000290270 |\n",
       "| 0           | 0.000767165 |\n",
       "| 0           | 0.000740446 |\n",
       "\n"
      ],
      "text/plain": [
       "  CAR_mid_chain CAR_long_chain\n",
       "1 0             0.002987575   \n",
       "2 0             0.000376124   \n",
       "3 0             0.000392436   \n",
       "4 0             0.000290270   \n",
       "5 0             0.000767165   \n",
       "6 0             0.000740446   "
      ]
     },
     "metadata": {},
     "output_type": "display_data"
    },
    {
     "data": {
      "text/html": [
       "<strong>CAR_long_chain:</strong> 2"
      ],
      "text/latex": [
       "\\textbf{CAR\\textbackslash{}\\_long\\textbackslash{}\\_chain:} 2"
      ],
      "text/markdown": [
       "**CAR_long_chain:** 2"
      ],
      "text/plain": [
       "CAR_long_chain \n",
       "             2 "
      ]
     },
     "metadata": {},
     "output_type": "display_data"
    },
    {
     "data": {
      "text/html": [
       "<ol class=list-inline>\n",
       "\t<li>0.002987575</li>\n",
       "\t<li>0.000376124</li>\n",
       "\t<li>0.000392436</li>\n",
       "\t<li>0.00029027</li>\n",
       "\t<li>0.000767165</li>\n",
       "\t<li>0.000740446</li>\n",
       "\t<li>0.000726133</li>\n",
       "\t<li>0.000641371</li>\n",
       "\t<li>0.000641218</li>\n",
       "\t<li>0.000491308</li>\n",
       "\t<li>0.000390869</li>\n",
       "\t<li>0.000276154</li>\n",
       "\t<li>0</li>\n",
       "\t<li>0.006749339</li>\n",
       "\t<li>0.002865334</li>\n",
       "\t<li>0.001055354</li>\n",
       "\t<li>0.004249435</li>\n",
       "\t<li>0.00151401</li>\n",
       "\t<li>0.000917702</li>\n",
       "\t<li>0.001407353</li>\n",
       "\t<li>4.51e-05</li>\n",
       "\t<li>0.000594408</li>\n",
       "\t<li>5.89e-05</li>\n",
       "\t<li>0.004188735</li>\n",
       "\t<li>0.000521931</li>\n",
       "\t<li>0.002127712</li>\n",
       "\t<li>0.000146037</li>\n",
       "\t<li>0</li>\n",
       "\t<li>0.000262852</li>\n",
       "\t<li>0</li>\n",
       "</ol>\n"
      ],
      "text/latex": [
       "\\begin{enumerate*}\n",
       "\\item 0.002987575\n",
       "\\item 0.000376124\n",
       "\\item 0.000392436\n",
       "\\item 0.00029027\n",
       "\\item 0.000767165\n",
       "\\item 0.000740446\n",
       "\\item 0.000726133\n",
       "\\item 0.000641371\n",
       "\\item 0.000641218\n",
       "\\item 0.000491308\n",
       "\\item 0.000390869\n",
       "\\item 0.000276154\n",
       "\\item 0\n",
       "\\item 0.006749339\n",
       "\\item 0.002865334\n",
       "\\item 0.001055354\n",
       "\\item 0.004249435\n",
       "\\item 0.00151401\n",
       "\\item 0.000917702\n",
       "\\item 0.001407353\n",
       "\\item 4.51e-05\n",
       "\\item 0.000594408\n",
       "\\item 5.89e-05\n",
       "\\item 0.004188735\n",
       "\\item 0.000521931\n",
       "\\item 0.002127712\n",
       "\\item 0.000146037\n",
       "\\item 0\n",
       "\\item 0.000262852\n",
       "\\item 0\n",
       "\\end{enumerate*}\n"
      ],
      "text/markdown": [
       "1. 0.002987575\n",
       "2. 0.000376124\n",
       "3. 0.000392436\n",
       "4. 0.00029027\n",
       "5. 0.000767165\n",
       "6. 0.000740446\n",
       "7. 0.000726133\n",
       "8. 0.000641371\n",
       "9. 0.000641218\n",
       "10. 0.000491308\n",
       "11. 0.000390869\n",
       "12. 0.000276154\n",
       "13. 0\n",
       "14. 0.006749339\n",
       "15. 0.002865334\n",
       "16. 0.001055354\n",
       "17. 0.004249435\n",
       "18. 0.00151401\n",
       "19. 0.000917702\n",
       "20. 0.001407353\n",
       "21. 4.51e-05\n",
       "22. 0.000594408\n",
       "23. 5.89e-05\n",
       "24. 0.004188735\n",
       "25. 0.000521931\n",
       "26. 0.002127712\n",
       "27. 0.000146037\n",
       "28. 0\n",
       "29. 0.000262852\n",
       "30. 0\n",
       "\n",
       "\n"
      ],
      "text/plain": [
       " [1] 0.002987575 0.000376124 0.000392436 0.000290270 0.000767165 0.000740446\n",
       " [7] 0.000726133 0.000641371 0.000641218 0.000491308 0.000390869 0.000276154\n",
       "[13] 0.000000000 0.006749339 0.002865334 0.001055354 0.004249435 0.001514010\n",
       "[19] 0.000917702 0.001407353 0.000045100 0.000594408 0.000058900 0.004188735\n",
       "[25] 0.000521931 0.002127712 0.000146037 0.000000000 0.000262852 0.000000000"
      ]
     },
     "metadata": {},
     "output_type": "display_data"
    },
    {
     "data": {
      "text/html": [
       "<table>\n",
       "<thead><tr><th scope=col>filename</th><th scope=col>MouseID</th><th scope=col>Treatmentgroup</th><th scope=col>status</th><th scope=col>DPI</th><th scope=col>organ</th><th scope=col>well_position</th><th scope=col>plate</th><th scope=col>nonzero</th></tr></thead>\n",
       "<tbody>\n",
       "\t<tr><td>X501_Group1A_50dpi_LV_bottom_251_B_A1_P133.mzXML</td><td>501                                             </td><td>Group1A                                         </td><td>naive                                           </td><td>DPI_50                                          </td><td>LV_bottom                                       </td><td>A1                                              </td><td>P133                                            </td><td>0.002987575                                     </td></tr>\n",
       "\t<tr><td>X502_Group1A_50dpi_LV_bottom_252_B_A2_P133.mzXML</td><td>502                                             </td><td>Group1A                                         </td><td>naive                                           </td><td>DPI_50                                          </td><td>LV_bottom                                       </td><td>A2                                              </td><td>P133                                            </td><td>0.000376124                                     </td></tr>\n",
       "\t<tr><td>X503_Group1A_50dpi_LV_bottom_253_B_A3_P133.mzXML</td><td>503                                             </td><td>Group1A                                         </td><td>naive                                           </td><td>DPI_50                                          </td><td>LV_bottom                                       </td><td>A3                                              </td><td>P133                                            </td><td>0.000392436                                     </td></tr>\n",
       "\t<tr><td>X504_Group1A_50dpi_LV_bottom_254_B_A4_P133.mzXML</td><td>504                                             </td><td>Group1A                                         </td><td>naive                                           </td><td>DPI_50                                          </td><td>LV_bottom                                       </td><td>A4                                              </td><td>P133                                            </td><td>0.000290270                                     </td></tr>\n",
       "\t<tr><td>X505_Group1A_50dpi_LV_bottom_255_B_A5_P133.mzXML</td><td>505                                             </td><td>Group1A                                         </td><td>naive                                           </td><td>DPI_50                                          </td><td>LV_bottom                                       </td><td>A5                                              </td><td>P133                                            </td><td>0.000767165                                     </td></tr>\n",
       "\t<tr><td>X521_Group1A_50dpi_LV_bottom_256_B_A6_P133.mzXML</td><td>521                                             </td><td>Group1A                                         </td><td>naive                                           </td><td>DPI_50                                          </td><td>LV_bottom                                       </td><td>A6                                              </td><td>P133                                            </td><td>0.000740446                                     </td></tr>\n",
       "</tbody>\n",
       "</table>\n"
      ],
      "text/latex": [
       "\\begin{tabular}{r|lllllllll}\n",
       " filename & MouseID & Treatmentgroup & status & DPI & organ & well\\_position & plate & nonzero\\\\\n",
       "\\hline\n",
       "\t X501\\_Group1A\\_50dpi\\_LV\\_bottom\\_251\\_B\\_A1\\_P133.mzXML & 501                                                              & Group1A                                                          & naive                                                            & DPI\\_50                                                         & LV\\_bottom                                                      & A1                                                               & P133                                                             & 0.002987575                                                     \\\\\n",
       "\t X502\\_Group1A\\_50dpi\\_LV\\_bottom\\_252\\_B\\_A2\\_P133.mzXML & 502                                                              & Group1A                                                          & naive                                                            & DPI\\_50                                                         & LV\\_bottom                                                      & A2                                                               & P133                                                             & 0.000376124                                                     \\\\\n",
       "\t X503\\_Group1A\\_50dpi\\_LV\\_bottom\\_253\\_B\\_A3\\_P133.mzXML & 503                                                              & Group1A                                                          & naive                                                            & DPI\\_50                                                         & LV\\_bottom                                                      & A3                                                               & P133                                                             & 0.000392436                                                     \\\\\n",
       "\t X504\\_Group1A\\_50dpi\\_LV\\_bottom\\_254\\_B\\_A4\\_P133.mzXML & 504                                                              & Group1A                                                          & naive                                                            & DPI\\_50                                                         & LV\\_bottom                                                      & A4                                                               & P133                                                             & 0.000290270                                                     \\\\\n",
       "\t X505\\_Group1A\\_50dpi\\_LV\\_bottom\\_255\\_B\\_A5\\_P133.mzXML & 505                                                              & Group1A                                                          & naive                                                            & DPI\\_50                                                         & LV\\_bottom                                                      & A5                                                               & P133                                                             & 0.000767165                                                     \\\\\n",
       "\t X521\\_Group1A\\_50dpi\\_LV\\_bottom\\_256\\_B\\_A6\\_P133.mzXML & 521                                                              & Group1A                                                          & naive                                                            & DPI\\_50                                                         & LV\\_bottom                                                      & A6                                                               & P133                                                             & 0.000740446                                                     \\\\\n",
       "\\end{tabular}\n"
      ],
      "text/markdown": [
       "\n",
       "| filename | MouseID | Treatmentgroup | status | DPI | organ | well_position | plate | nonzero |\n",
       "|---|---|---|---|---|---|---|---|---|\n",
       "| X501_Group1A_50dpi_LV_bottom_251_B_A1_P133.mzXML | 501                                              | Group1A                                          | naive                                            | DPI_50                                           | LV_bottom                                        | A1                                               | P133                                             | 0.002987575                                      |\n",
       "| X502_Group1A_50dpi_LV_bottom_252_B_A2_P133.mzXML | 502                                              | Group1A                                          | naive                                            | DPI_50                                           | LV_bottom                                        | A2                                               | P133                                             | 0.000376124                                      |\n",
       "| X503_Group1A_50dpi_LV_bottom_253_B_A3_P133.mzXML | 503                                              | Group1A                                          | naive                                            | DPI_50                                           | LV_bottom                                        | A3                                               | P133                                             | 0.000392436                                      |\n",
       "| X504_Group1A_50dpi_LV_bottom_254_B_A4_P133.mzXML | 504                                              | Group1A                                          | naive                                            | DPI_50                                           | LV_bottom                                        | A4                                               | P133                                             | 0.000290270                                      |\n",
       "| X505_Group1A_50dpi_LV_bottom_255_B_A5_P133.mzXML | 505                                              | Group1A                                          | naive                                            | DPI_50                                           | LV_bottom                                        | A5                                               | P133                                             | 0.000767165                                      |\n",
       "| X521_Group1A_50dpi_LV_bottom_256_B_A6_P133.mzXML | 521                                              | Group1A                                          | naive                                            | DPI_50                                           | LV_bottom                                        | A6                                               | P133                                             | 0.000740446                                      |\n",
       "\n"
      ],
      "text/plain": [
       "  filename                                         MouseID Treatmentgroup\n",
       "1 X501_Group1A_50dpi_LV_bottom_251_B_A1_P133.mzXML 501     Group1A       \n",
       "2 X502_Group1A_50dpi_LV_bottom_252_B_A2_P133.mzXML 502     Group1A       \n",
       "3 X503_Group1A_50dpi_LV_bottom_253_B_A3_P133.mzXML 503     Group1A       \n",
       "4 X504_Group1A_50dpi_LV_bottom_254_B_A4_P133.mzXML 504     Group1A       \n",
       "5 X505_Group1A_50dpi_LV_bottom_255_B_A5_P133.mzXML 505     Group1A       \n",
       "6 X521_Group1A_50dpi_LV_bottom_256_B_A6_P133.mzXML 521     Group1A       \n",
       "  status DPI    organ     well_position plate nonzero    \n",
       "1 naive  DPI_50 LV_bottom A1            P133  0.002987575\n",
       "2 naive  DPI_50 LV_bottom A2            P133  0.000376124\n",
       "3 naive  DPI_50 LV_bottom A3            P133  0.000392436\n",
       "4 naive  DPI_50 LV_bottom A4            P133  0.000290270\n",
       "5 naive  DPI_50 LV_bottom A5            P133  0.000767165\n",
       "6 naive  DPI_50 LV_bottom A6            P133  0.000740446"
      ]
     },
     "metadata": {},
     "output_type": "display_data"
    },
    {
     "data": {
      "text/html": [
       "<ol class=list-inline>\n",
       "\t<li>30</li>\n",
       "\t<li>10</li>\n",
       "</ol>\n"
      ],
      "text/latex": [
       "\\begin{enumerate*}\n",
       "\\item 30\n",
       "\\item 10\n",
       "\\end{enumerate*}\n"
      ],
      "text/markdown": [
       "1. 30\n",
       "2. 10\n",
       "\n",
       "\n"
      ],
      "text/plain": [
       "[1] 30 10"
      ]
     },
     "metadata": {},
     "output_type": "display_data"
    },
    {
     "data": {
      "text/html": [
       "<ol class=list-inline>\n",
       "\t<li>30</li>\n",
       "\t<li>2</li>\n",
       "</ol>\n"
      ],
      "text/latex": [
       "\\begin{enumerate*}\n",
       "\\item 30\n",
       "\\item 2\n",
       "\\end{enumerate*}\n"
      ],
      "text/markdown": [
       "1. 30\n",
       "2. 2\n",
       "\n",
       "\n"
      ],
      "text/plain": [
       "[1] 30  2"
      ]
     },
     "metadata": {},
     "output_type": "display_data"
    },
    {
     "data": {
      "text/plain": [
       "NULL"
      ]
     },
     "metadata": {},
     "output_type": "display_data"
    },
    {
     "data": {
      "text/html": [
       "<ol class=list-inline>\n",
       "\t<li>30</li>\n",
       "\t<li>9</li>\n",
       "</ol>\n"
      ],
      "text/latex": [
       "\\begin{enumerate*}\n",
       "\\item 30\n",
       "\\item 9\n",
       "\\end{enumerate*}\n"
      ],
      "text/markdown": [
       "1. 30\n",
       "2. 9\n",
       "\n",
       "\n"
      ],
      "text/plain": [
       "[1] 30  9"
      ]
     },
     "metadata": {},
     "output_type": "display_data"
    }
   ],
   "source": [
    "noMeta<-features_pos[,9:10] \n",
    "head(noMeta)\n",
    "not_zero<-which(colSums(noMeta) != 0)\n",
    "head(not_zero)\n",
    "nonzero <- noMeta[, not_zero]\n",
    "nonzero\n",
    "nonzero_wMeta<-cbind(features_pos[,1:8], nonzero)\n",
    "head(nonzero_wMeta)\n",
    "dim(features_pos)\n",
    "dim(noMeta)\n",
    "dim(nonzero)\n",
    "dim(nonzero_wMeta)"
   ]
  },
  {
   "cell_type": "code",
   "execution_count": 5,
   "metadata": {
    "scrolled": true
   },
   "outputs": [
    {
     "name": "stderr",
     "output_type": "stream",
     "text": [
      "Warning message in wilcox.test.default(x = c(0.002987575, 0.000376124, 0.000392436, :\n",
      "\"cannot compute exact p-value with ties\""
     ]
    },
    {
     "data": {
      "text/html": [
       "0.83563292039375"
      ],
      "text/latex": [
       "0.83563292039375"
      ],
      "text/markdown": [
       "0.83563292039375"
      ],
      "text/plain": [
       "[1] 0.8356329"
      ]
     },
     "metadata": {},
     "output_type": "display_data"
    },
    {
     "data": {
      "text/html": [
       "0.83563292039375"
      ],
      "text/latex": [
       "0.83563292039375"
      ],
      "text/markdown": [
       "0.83563292039375"
      ],
      "text/plain": [
       "[1] 0.8356329"
      ]
     },
     "metadata": {},
     "output_type": "display_data"
    }
   ],
   "source": [
    "pval<-c()\n",
    "\n",
    "for (i in 9:ncol(nonzero_wMeta)) \n",
    "pval<-c(pval,wilcox.test(nonzero_wMeta[,i]~nonzero_wMeta$Treatmentgroup)$p.value)\n",
    "head(pval)\n",
    "pAdj <- p.adjust(pval, method = c(\"fdr\"), n=length(pval)) \n",
    "head(pAdj) \n",
    "\n"
   ]
  },
  {
   "cell_type": "code",
   "execution_count": 6,
   "metadata": {
    "scrolled": true
   },
   "outputs": [
    {
     "data": {
      "text/html": [
       "1"
      ],
      "text/latex": [
       "1"
      ],
      "text/markdown": [
       "1"
      ],
      "text/plain": [
       "[1] 1"
      ]
     },
     "metadata": {},
     "output_type": "display_data"
    }
   ],
   "source": [
    "length(pval)"
   ]
  },
  {
   "cell_type": "code",
   "execution_count": 7,
   "metadata": {
    "scrolled": true
   },
   "outputs": [
    {
     "data": {
      "text/html": [
       "1"
      ],
      "text/latex": [
       "1"
      ],
      "text/markdown": [
       "1"
      ],
      "text/plain": [
       "[1] 1"
      ]
     },
     "metadata": {},
     "output_type": "display_data"
    }
   ],
   "source": [
    "length(pAdj)"
   ]
  },
  {
   "cell_type": "code",
   "execution_count": 8,
   "metadata": {},
   "outputs": [
    {
     "ename": "ERROR",
     "evalue": "Error in apply(nonzero_wMeta[, 9:ncol(nonzero_wMeta)], 2, function(x) tapply(x, : dim(X) must have a positive length\n",
     "output_type": "error",
     "traceback": [
      "Error in apply(nonzero_wMeta[, 9:ncol(nonzero_wMeta)], 2, function(x) tapply(x, : dim(X) must have a positive length\nTraceback:\n",
      "1. apply(nonzero_wMeta[, 9:ncol(nonzero_wMeta)], 2, function(x) tapply(x, \n .     nonzero_wMeta$Treatmentgroup, function(x) mean(x)))",
      "2. stop(\"dim(X) must have a positive length\")"
     ]
    }
   ],
   "source": [
    "avg<- apply(nonzero_wMeta[,9:ncol(nonzero_wMeta)], 2, function(x) tapply(x, nonzero_wMeta$Treatmentgroup, function(x) mean(x))) \n",
    "\n",
    "dim(avg)\n",
    "\n",
    "avg[,1:2]\n",
    "\n",
    "fch <- apply(avg, 2, function(x) x[1]/x[2]) \n",
    "\n",
    "head(fch)\n",
    "is(fch)"
   ]
  },
  {
   "cell_type": "code",
   "execution_count": 9,
   "metadata": {
    "scrolled": true
   },
   "outputs": [
    {
     "ename": "ERROR",
     "evalue": "Error in eval(expr, envir, enclos): object 'fch' not found\n",
     "output_type": "error",
     "traceback": [
      "Error in eval(expr, envir, enclos): object 'fch' not found\nTraceback:\n"
     ]
    }
   ],
   "source": [
    "fch"
   ]
  },
  {
   "cell_type": "code",
   "execution_count": 10,
   "metadata": {
    "scrolled": false
   },
   "outputs": [],
   "source": [
    "df <- data.frame(pval, pAdj)\n",
    "write.csv(df, \"CAR-time-LVB-wilcox-1A-3A.csv\")"
   ]
  },
  {
   "cell_type": "code",
   "execution_count": null,
   "metadata": {},
   "outputs": [],
   "source": []
  },
  {
   "cell_type": "code",
   "execution_count": null,
   "metadata": {},
   "outputs": [],
   "source": []
  },
  {
   "cell_type": "code",
   "execution_count": null,
   "metadata": {},
   "outputs": [],
   "source": []
  },
  {
   "cell_type": "code",
   "execution_count": null,
   "metadata": {},
   "outputs": [],
   "source": []
  },
  {
   "cell_type": "code",
   "execution_count": null,
   "metadata": {},
   "outputs": [],
   "source": []
  },
  {
   "cell_type": "code",
   "execution_count": null,
   "metadata": {},
   "outputs": [],
   "source": []
  }
 ],
 "metadata": {
  "kernelspec": {
   "display_name": "R",
   "language": "R",
   "name": "ir"
  },
  "language_info": {
   "codemirror_mode": "r",
   "file_extension": ".r",
   "mimetype": "text/x-r-source",
   "name": "R",
   "pygments_lexer": "r",
   "version": "3.6.1"
  }
 },
 "nbformat": 4,
 "nbformat_minor": 2
}
