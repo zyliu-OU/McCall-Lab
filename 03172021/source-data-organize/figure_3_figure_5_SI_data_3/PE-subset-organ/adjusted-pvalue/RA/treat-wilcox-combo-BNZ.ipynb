{
 "cells": [
  {
   "cell_type": "code",
   "execution_count": 1,
   "metadata": {},
   "outputs": [],
   "source": [
    "a <- read.csv(\"03172021-PE-treatment-RA-M-F.csv\")"
   ]
  },
  {
   "cell_type": "code",
   "execution_count": 2,
   "metadata": {},
   "outputs": [
    {
     "data": {
      "text/html": [
       "<table>\n",
       "<thead><tr><th scope=col>filename</th><th scope=col>MouseID</th><th scope=col>Treatmentgroup</th><th scope=col>DPI</th><th scope=col>organ</th><th scope=col>well_position</th><th scope=col>plate</th><th scope=col>mass_400</th><th scope=col>mass_500</th><th scope=col>mass_600</th><th scope=col>mass_700</th><th scope=col>mass_800</th></tr></thead>\n",
       "<tbody>\n",
       "\t<tr><td>X511_Group1C_142dpi_RA_161_G_A1_P124.mzXML</td><td>511                                       </td><td>naive                                     </td><td>142dpi                                    </td><td>RA                                        </td><td>A1                                        </td><td>P124                                      </td><td>0.000654335                               </td><td>0.003736275                               </td><td>0.000000000                               </td><td>0.000832270                               </td><td>0.000000000                               </td></tr>\n",
       "\t<tr><td>X512_Group1C_142dpi_RA_162_G_A2_P124.mzXML</td><td>512                                       </td><td>naive                                     </td><td>142dpi                                    </td><td>RA                                        </td><td>A2                                        </td><td>P124                                      </td><td>0.001902661                               </td><td>0.007220000                               </td><td>0.000000000                               </td><td>0.003141999                               </td><td>0.000000000                               </td></tr>\n",
       "\t<tr><td>X513_Group1C_142dpi_RA_163_G_A3_P124.mzXML</td><td>513                                       </td><td>naive                                     </td><td>142dpi                                    </td><td>RA                                        </td><td>A3                                        </td><td>P124                                      </td><td>0.005683259                               </td><td>0.006810000                               </td><td>0.000069000                               </td><td>0.010410065                               </td><td>0.000484937                               </td></tr>\n",
       "\t<tr><td>X514_Group1C_142dpi_RA_164_G_A4_P124.mzXML</td><td>514                                       </td><td>naive                                     </td><td>142dpi                                    </td><td>RA                                        </td><td>A4                                        </td><td>P124                                      </td><td>0.004470928                               </td><td>0.004333828                               </td><td>0.000201159                               </td><td>0.001951171                               </td><td>0.000000000                               </td></tr>\n",
       "\t<tr><td>X515_Group1C_142dpi_RA_165_G_A5_P124.mzXML</td><td>515                                       </td><td>naive                                     </td><td>142dpi                                    </td><td>RA                                        </td><td>A5                                        </td><td>P124                                      </td><td>0.000504340                               </td><td>0.002660000                               </td><td>0.000000000                               </td><td>0.000772434                               </td><td>0.000000000                               </td></tr>\n",
       "\t<tr><td>X531_Group1C_142dpi_RA_166_G_A6_P124.mzXML</td><td>531                                       </td><td>naive                                     </td><td>142dpi                                    </td><td>RA                                        </td><td>A6                                        </td><td>P124                                      </td><td>0.003767551                               </td><td>0.009470000                               </td><td>0.000000000                               </td><td>0.002650000                               </td><td>0.000000000                               </td></tr>\n",
       "</tbody>\n",
       "</table>\n"
      ],
      "text/latex": [
       "\\begin{tabular}{r|llllllllllll}\n",
       " filename & MouseID & Treatmentgroup & DPI & organ & well\\_position & plate & mass\\_400 & mass\\_500 & mass\\_600 & mass\\_700 & mass\\_800\\\\\n",
       "\\hline\n",
       "\t X511\\_Group1C\\_142dpi\\_RA\\_161\\_G\\_A1\\_P124.mzXML & 511                                                      & naive                                                    & 142dpi                                                   & RA                                                       & A1                                                       & P124                                                     & 0.000654335                                              & 0.003736275                                              & 0.000000000                                              & 0.000832270                                              & 0.000000000                                             \\\\\n",
       "\t X512\\_Group1C\\_142dpi\\_RA\\_162\\_G\\_A2\\_P124.mzXML & 512                                                      & naive                                                    & 142dpi                                                   & RA                                                       & A2                                                       & P124                                                     & 0.001902661                                              & 0.007220000                                              & 0.000000000                                              & 0.003141999                                              & 0.000000000                                             \\\\\n",
       "\t X513\\_Group1C\\_142dpi\\_RA\\_163\\_G\\_A3\\_P124.mzXML & 513                                                      & naive                                                    & 142dpi                                                   & RA                                                       & A3                                                       & P124                                                     & 0.005683259                                              & 0.006810000                                              & 0.000069000                                              & 0.010410065                                              & 0.000484937                                             \\\\\n",
       "\t X514\\_Group1C\\_142dpi\\_RA\\_164\\_G\\_A4\\_P124.mzXML & 514                                                      & naive                                                    & 142dpi                                                   & RA                                                       & A4                                                       & P124                                                     & 0.004470928                                              & 0.004333828                                              & 0.000201159                                              & 0.001951171                                              & 0.000000000                                             \\\\\n",
       "\t X515\\_Group1C\\_142dpi\\_RA\\_165\\_G\\_A5\\_P124.mzXML & 515                                                      & naive                                                    & 142dpi                                                   & RA                                                       & A5                                                       & P124                                                     & 0.000504340                                              & 0.002660000                                              & 0.000000000                                              & 0.000772434                                              & 0.000000000                                             \\\\\n",
       "\t X531\\_Group1C\\_142dpi\\_RA\\_166\\_G\\_A6\\_P124.mzXML & 531                                                      & naive                                                    & 142dpi                                                   & RA                                                       & A6                                                       & P124                                                     & 0.003767551                                              & 0.009470000                                              & 0.000000000                                              & 0.002650000                                              & 0.000000000                                             \\\\\n",
       "\\end{tabular}\n"
      ],
      "text/markdown": [
       "\n",
       "| filename | MouseID | Treatmentgroup | DPI | organ | well_position | plate | mass_400 | mass_500 | mass_600 | mass_700 | mass_800 |\n",
       "|---|---|---|---|---|---|---|---|---|---|---|---|\n",
       "| X511_Group1C_142dpi_RA_161_G_A1_P124.mzXML | 511                                        | naive                                      | 142dpi                                     | RA                                         | A1                                         | P124                                       | 0.000654335                                | 0.003736275                                | 0.000000000                                | 0.000832270                                | 0.000000000                                |\n",
       "| X512_Group1C_142dpi_RA_162_G_A2_P124.mzXML | 512                                        | naive                                      | 142dpi                                     | RA                                         | A2                                         | P124                                       | 0.001902661                                | 0.007220000                                | 0.000000000                                | 0.003141999                                | 0.000000000                                |\n",
       "| X513_Group1C_142dpi_RA_163_G_A3_P124.mzXML | 513                                        | naive                                      | 142dpi                                     | RA                                         | A3                                         | P124                                       | 0.005683259                                | 0.006810000                                | 0.000069000                                | 0.010410065                                | 0.000484937                                |\n",
       "| X514_Group1C_142dpi_RA_164_G_A4_P124.mzXML | 514                                        | naive                                      | 142dpi                                     | RA                                         | A4                                         | P124                                       | 0.004470928                                | 0.004333828                                | 0.000201159                                | 0.001951171                                | 0.000000000                                |\n",
       "| X515_Group1C_142dpi_RA_165_G_A5_P124.mzXML | 515                                        | naive                                      | 142dpi                                     | RA                                         | A5                                         | P124                                       | 0.000504340                                | 0.002660000                                | 0.000000000                                | 0.000772434                                | 0.000000000                                |\n",
       "| X531_Group1C_142dpi_RA_166_G_A6_P124.mzXML | 531                                        | naive                                      | 142dpi                                     | RA                                         | A6                                         | P124                                       | 0.003767551                                | 0.009470000                                | 0.000000000                                | 0.002650000                                | 0.000000000                                |\n",
       "\n"
      ],
      "text/plain": [
       "  filename                                   MouseID Treatmentgroup DPI   \n",
       "1 X511_Group1C_142dpi_RA_161_G_A1_P124.mzXML 511     naive          142dpi\n",
       "2 X512_Group1C_142dpi_RA_162_G_A2_P124.mzXML 512     naive          142dpi\n",
       "3 X513_Group1C_142dpi_RA_163_G_A3_P124.mzXML 513     naive          142dpi\n",
       "4 X514_Group1C_142dpi_RA_164_G_A4_P124.mzXML 514     naive          142dpi\n",
       "5 X515_Group1C_142dpi_RA_165_G_A5_P124.mzXML 515     naive          142dpi\n",
       "6 X531_Group1C_142dpi_RA_166_G_A6_P124.mzXML 531     naive          142dpi\n",
       "  organ well_position plate mass_400    mass_500    mass_600    mass_700   \n",
       "1 RA    A1            P124  0.000654335 0.003736275 0.000000000 0.000832270\n",
       "2 RA    A2            P124  0.001902661 0.007220000 0.000000000 0.003141999\n",
       "3 RA    A3            P124  0.005683259 0.006810000 0.000069000 0.010410065\n",
       "4 RA    A4            P124  0.004470928 0.004333828 0.000201159 0.001951171\n",
       "5 RA    A5            P124  0.000504340 0.002660000 0.000000000 0.000772434\n",
       "6 RA    A6            P124  0.003767551 0.009470000 0.000000000 0.002650000\n",
       "  mass_800   \n",
       "1 0.000000000\n",
       "2 0.000000000\n",
       "3 0.000484937\n",
       "4 0.000000000\n",
       "5 0.000000000\n",
       "6 0.000000000"
      ]
     },
     "metadata": {},
     "output_type": "display_data"
    },
    {
     "data": {
      "text/html": [
       "<ol class=list-inline>\n",
       "\t<li>60</li>\n",
       "\t<li>12</li>\n",
       "</ol>\n"
      ],
      "text/latex": [
       "\\begin{enumerate*}\n",
       "\\item 60\n",
       "\\item 12\n",
       "\\end{enumerate*}\n"
      ],
      "text/markdown": [
       "1. 60\n",
       "2. 12\n",
       "\n",
       "\n"
      ],
      "text/plain": [
       "[1] 60 12"
      ]
     },
     "metadata": {},
     "output_type": "display_data"
    }
   ],
   "source": [
    "head(a)\n",
    "dim(a)"
   ]
  },
  {
   "cell_type": "code",
   "execution_count": 3,
   "metadata": {},
   "outputs": [
    {
     "data": {
      "text/html": [
       "<table>\n",
       "<thead><tr><th></th><th scope=col>filename</th><th scope=col>MouseID</th><th scope=col>Treatmentgroup</th><th scope=col>DPI</th><th scope=col>organ</th><th scope=col>well_position</th><th scope=col>plate</th><th scope=col>mass_400</th><th scope=col>mass_500</th><th scope=col>mass_600</th><th scope=col>mass_700</th><th scope=col>mass_800</th></tr></thead>\n",
       "<tbody>\n",
       "\t<tr><th scope=row>21</th><td>X611_Group9_142dpi_RA_181_G_B9_P124.mzXML </td><td>611                                       </td><td>combo                                     </td><td>142dpi                                    </td><td>RA                                        </td><td>B9                                        </td><td>P124                                      </td><td>0.001313951                               </td><td>0.002900000                               </td><td>0.00e+00                                  </td><td>0.000360499                               </td><td>0                                         </td></tr>\n",
       "\t<tr><th scope=row>22</th><td>X612_Group9_142dpi_RA_182_G_B10_P124.mzXML</td><td>612                                       </td><td>combo                                     </td><td>142dpi                                    </td><td>RA                                        </td><td>B10                                       </td><td>P124                                      </td><td>0.001351687                               </td><td>0.007094888                               </td><td>0.00e+00                                  </td><td>0.001720036                               </td><td>0                                         </td></tr>\n",
       "\t<tr><th scope=row>23</th><td>X613_Group9_142dpi_RA_183_G_B11_P124.mzXML</td><td>613                                       </td><td>combo                                     </td><td>142dpi                                    </td><td>RA                                        </td><td>B11                                       </td><td>P124                                      </td><td>0.005236741                               </td><td>0.012265284                               </td><td>7.62e-05                                  </td><td>0.004143269                               </td><td>0                                         </td></tr>\n",
       "\t<tr><th scope=row>24</th><td>X614_Group9_142dpi_RA_184_G_B12_P124.mzXML</td><td>614                                       </td><td>combo                                     </td><td>142dpi                                    </td><td>RA                                        </td><td>B12                                       </td><td>P124                                      </td><td>0.003651434                               </td><td>0.005511553                               </td><td>0.00e+00                                  </td><td>0.000933502                               </td><td>0                                         </td></tr>\n",
       "\t<tr><th scope=row>25</th><td>X615_Group9_142dpi_RA_185_G_C1_P124.mzXML </td><td>615                                       </td><td>combo                                     </td><td>142dpi                                    </td><td>RA                                        </td><td>C1                                        </td><td>P124                                      </td><td>0.001423112                               </td><td>0.003741692                               </td><td>3.17e-05                                  </td><td>0.000356207                               </td><td>0                                         </td></tr>\n",
       "\t<tr><th scope=row>26</th><td>X631_Group15_142dpi_RA_191_G_C7_P124.mzXML</td><td>631                                       </td><td>BNZ                                       </td><td>142dpi                                    </td><td>RA                                        </td><td>C7                                        </td><td>P124                                      </td><td>0.004634800                               </td><td>0.008130000                               </td><td>0.00e+00                                  </td><td>0.000392000                               </td><td>0                                         </td></tr>\n",
       "</tbody>\n",
       "</table>\n"
      ],
      "text/latex": [
       "\\begin{tabular}{r|llllllllllll}\n",
       "  & filename & MouseID & Treatmentgroup & DPI & organ & well\\_position & plate & mass\\_400 & mass\\_500 & mass\\_600 & mass\\_700 & mass\\_800\\\\\n",
       "\\hline\n",
       "\t21 & X611\\_Group9\\_142dpi\\_RA\\_181\\_G\\_B9\\_P124.mzXML  & 611                                                      & combo                                                    & 142dpi                                                   & RA                                                       & B9                                                       & P124                                                     & 0.001313951                                              & 0.002900000                                              & 0.00e+00                                                 & 0.000360499                                              & 0                                                       \\\\\n",
       "\t22 & X612\\_Group9\\_142dpi\\_RA\\_182\\_G\\_B10\\_P124.mzXML & 612                                                      & combo                                                    & 142dpi                                                   & RA                                                       & B10                                                      & P124                                                     & 0.001351687                                              & 0.007094888                                              & 0.00e+00                                                 & 0.001720036                                              & 0                                                       \\\\\n",
       "\t23 & X613\\_Group9\\_142dpi\\_RA\\_183\\_G\\_B11\\_P124.mzXML & 613                                                      & combo                                                    & 142dpi                                                   & RA                                                       & B11                                                      & P124                                                     & 0.005236741                                              & 0.012265284                                              & 7.62e-05                                                 & 0.004143269                                              & 0                                                       \\\\\n",
       "\t24 & X614\\_Group9\\_142dpi\\_RA\\_184\\_G\\_B12\\_P124.mzXML & 614                                                      & combo                                                    & 142dpi                                                   & RA                                                       & B12                                                      & P124                                                     & 0.003651434                                              & 0.005511553                                              & 0.00e+00                                                 & 0.000933502                                              & 0                                                       \\\\\n",
       "\t25 & X615\\_Group9\\_142dpi\\_RA\\_185\\_G\\_C1\\_P124.mzXML  & 615                                                      & combo                                                    & 142dpi                                                   & RA                                                       & C1                                                       & P124                                                     & 0.001423112                                              & 0.003741692                                              & 3.17e-05                                                 & 0.000356207                                              & 0                                                       \\\\\n",
       "\t26 & X631\\_Group15\\_142dpi\\_RA\\_191\\_G\\_C7\\_P124.mzXML & 631                                                      & BNZ                                                      & 142dpi                                                   & RA                                                       & C7                                                       & P124                                                     & 0.004634800                                              & 0.008130000                                              & 0.00e+00                                                 & 0.000392000                                              & 0                                                       \\\\\n",
       "\\end{tabular}\n"
      ],
      "text/markdown": [
       "\n",
       "| <!--/--> | filename | MouseID | Treatmentgroup | DPI | organ | well_position | plate | mass_400 | mass_500 | mass_600 | mass_700 | mass_800 |\n",
       "|---|---|---|---|---|---|---|---|---|---|---|---|---|\n",
       "| 21 | X611_Group9_142dpi_RA_181_G_B9_P124.mzXML  | 611                                        | combo                                      | 142dpi                                     | RA                                         | B9                                         | P124                                       | 0.001313951                                | 0.002900000                                | 0.00e+00                                   | 0.000360499                                | 0                                          |\n",
       "| 22 | X612_Group9_142dpi_RA_182_G_B10_P124.mzXML | 612                                        | combo                                      | 142dpi                                     | RA                                         | B10                                        | P124                                       | 0.001351687                                | 0.007094888                                | 0.00e+00                                   | 0.001720036                                | 0                                          |\n",
       "| 23 | X613_Group9_142dpi_RA_183_G_B11_P124.mzXML | 613                                        | combo                                      | 142dpi                                     | RA                                         | B11                                        | P124                                       | 0.005236741                                | 0.012265284                                | 7.62e-05                                   | 0.004143269                                | 0                                          |\n",
       "| 24 | X614_Group9_142dpi_RA_184_G_B12_P124.mzXML | 614                                        | combo                                      | 142dpi                                     | RA                                         | B12                                        | P124                                       | 0.003651434                                | 0.005511553                                | 0.00e+00                                   | 0.000933502                                | 0                                          |\n",
       "| 25 | X615_Group9_142dpi_RA_185_G_C1_P124.mzXML  | 615                                        | combo                                      | 142dpi                                     | RA                                         | C1                                         | P124                                       | 0.001423112                                | 0.003741692                                | 3.17e-05                                   | 0.000356207                                | 0                                          |\n",
       "| 26 | X631_Group15_142dpi_RA_191_G_C7_P124.mzXML | 631                                        | BNZ                                        | 142dpi                                     | RA                                         | C7                                         | P124                                       | 0.004634800                                | 0.008130000                                | 0.00e+00                                   | 0.000392000                                | 0                                          |\n",
       "\n"
      ],
      "text/plain": [
       "   filename                                   MouseID Treatmentgroup DPI   \n",
       "21 X611_Group9_142dpi_RA_181_G_B9_P124.mzXML  611     combo          142dpi\n",
       "22 X612_Group9_142dpi_RA_182_G_B10_P124.mzXML 612     combo          142dpi\n",
       "23 X613_Group9_142dpi_RA_183_G_B11_P124.mzXML 613     combo          142dpi\n",
       "24 X614_Group9_142dpi_RA_184_G_B12_P124.mzXML 614     combo          142dpi\n",
       "25 X615_Group9_142dpi_RA_185_G_C1_P124.mzXML  615     combo          142dpi\n",
       "26 X631_Group15_142dpi_RA_191_G_C7_P124.mzXML 631     BNZ            142dpi\n",
       "   organ well_position plate mass_400    mass_500    mass_600 mass_700   \n",
       "21 RA    B9            P124  0.001313951 0.002900000 0.00e+00 0.000360499\n",
       "22 RA    B10           P124  0.001351687 0.007094888 0.00e+00 0.001720036\n",
       "23 RA    B11           P124  0.005236741 0.012265284 7.62e-05 0.004143269\n",
       "24 RA    B12           P124  0.003651434 0.005511553 0.00e+00 0.000933502\n",
       "25 RA    C1            P124  0.001423112 0.003741692 3.17e-05 0.000356207\n",
       "26 RA    C7            P124  0.004634800 0.008130000 0.00e+00 0.000392000\n",
       "   mass_800\n",
       "21 0       \n",
       "22 0       \n",
       "23 0       \n",
       "24 0       \n",
       "25 0       \n",
       "26 0       "
      ]
     },
     "metadata": {},
     "output_type": "display_data"
    },
    {
     "data": {
      "text/html": [
       "<ol class=list-inline>\n",
       "\t<li>30</li>\n",
       "\t<li>12</li>\n",
       "</ol>\n"
      ],
      "text/latex": [
       "\\begin{enumerate*}\n",
       "\\item 30\n",
       "\\item 12\n",
       "\\end{enumerate*}\n"
      ],
      "text/markdown": [
       "1. 30\n",
       "2. 12\n",
       "\n",
       "\n"
      ],
      "text/plain": [
       "[1] 30 12"
      ]
     },
     "metadata": {},
     "output_type": "display_data"
    }
   ],
   "source": [
    "features_pos<-droplevels(subset(a, a$Treatmentgroup==c(\"combo\")|a$Treatmentgroup==c(\"BNZ\")))\n",
    "head(features_pos)\n",
    "dim(features_pos)"
   ]
  },
  {
   "cell_type": "code",
   "execution_count": 4,
   "metadata": {
    "scrolled": false
   },
   "outputs": [
    {
     "data": {
      "text/html": [
       "<table>\n",
       "<thead><tr><th></th><th scope=col>mass_400</th><th scope=col>mass_500</th><th scope=col>mass_600</th><th scope=col>mass_700</th><th scope=col>mass_800</th></tr></thead>\n",
       "<tbody>\n",
       "\t<tr><th scope=row>21</th><td>0.001313951</td><td>0.002900000</td><td>0.00e+00   </td><td>0.000360499</td><td>0          </td></tr>\n",
       "\t<tr><th scope=row>22</th><td>0.001351687</td><td>0.007094888</td><td>0.00e+00   </td><td>0.001720036</td><td>0          </td></tr>\n",
       "\t<tr><th scope=row>23</th><td>0.005236741</td><td>0.012265284</td><td>7.62e-05   </td><td>0.004143269</td><td>0          </td></tr>\n",
       "\t<tr><th scope=row>24</th><td>0.003651434</td><td>0.005511553</td><td>0.00e+00   </td><td>0.000933502</td><td>0          </td></tr>\n",
       "\t<tr><th scope=row>25</th><td>0.001423112</td><td>0.003741692</td><td>3.17e-05   </td><td>0.000356207</td><td>0          </td></tr>\n",
       "\t<tr><th scope=row>26</th><td>0.004634800</td><td>0.008130000</td><td>0.00e+00   </td><td>0.000392000</td><td>0          </td></tr>\n",
       "</tbody>\n",
       "</table>\n"
      ],
      "text/latex": [
       "\\begin{tabular}{r|lllll}\n",
       "  & mass\\_400 & mass\\_500 & mass\\_600 & mass\\_700 & mass\\_800\\\\\n",
       "\\hline\n",
       "\t21 & 0.001313951 & 0.002900000 & 0.00e+00    & 0.000360499 & 0          \\\\\n",
       "\t22 & 0.001351687 & 0.007094888 & 0.00e+00    & 0.001720036 & 0          \\\\\n",
       "\t23 & 0.005236741 & 0.012265284 & 7.62e-05    & 0.004143269 & 0          \\\\\n",
       "\t24 & 0.003651434 & 0.005511553 & 0.00e+00    & 0.000933502 & 0          \\\\\n",
       "\t25 & 0.001423112 & 0.003741692 & 3.17e-05    & 0.000356207 & 0          \\\\\n",
       "\t26 & 0.004634800 & 0.008130000 & 0.00e+00    & 0.000392000 & 0          \\\\\n",
       "\\end{tabular}\n"
      ],
      "text/markdown": [
       "\n",
       "| <!--/--> | mass_400 | mass_500 | mass_600 | mass_700 | mass_800 |\n",
       "|---|---|---|---|---|---|\n",
       "| 21 | 0.001313951 | 0.002900000 | 0.00e+00    | 0.000360499 | 0           |\n",
       "| 22 | 0.001351687 | 0.007094888 | 0.00e+00    | 0.001720036 | 0           |\n",
       "| 23 | 0.005236741 | 0.012265284 | 7.62e-05    | 0.004143269 | 0           |\n",
       "| 24 | 0.003651434 | 0.005511553 | 0.00e+00    | 0.000933502 | 0           |\n",
       "| 25 | 0.001423112 | 0.003741692 | 3.17e-05    | 0.000356207 | 0           |\n",
       "| 26 | 0.004634800 | 0.008130000 | 0.00e+00    | 0.000392000 | 0           |\n",
       "\n"
      ],
      "text/plain": [
       "   mass_400    mass_500    mass_600 mass_700    mass_800\n",
       "21 0.001313951 0.002900000 0.00e+00 0.000360499 0       \n",
       "22 0.001351687 0.007094888 0.00e+00 0.001720036 0       \n",
       "23 0.005236741 0.012265284 7.62e-05 0.004143269 0       \n",
       "24 0.003651434 0.005511553 0.00e+00 0.000933502 0       \n",
       "25 0.001423112 0.003741692 3.17e-05 0.000356207 0       \n",
       "26 0.004634800 0.008130000 0.00e+00 0.000392000 0       "
      ]
     },
     "metadata": {},
     "output_type": "display_data"
    },
    {
     "data": {
      "text/html": [
       "<dl class=dl-horizontal>\n",
       "\t<dt>mass_400</dt>\n",
       "\t\t<dd>1</dd>\n",
       "\t<dt>mass_500</dt>\n",
       "\t\t<dd>2</dd>\n",
       "\t<dt>mass_600</dt>\n",
       "\t\t<dd>3</dd>\n",
       "\t<dt>mass_700</dt>\n",
       "\t\t<dd>4</dd>\n",
       "\t<dt>mass_800</dt>\n",
       "\t\t<dd>5</dd>\n",
       "</dl>\n"
      ],
      "text/latex": [
       "\\begin{description*}\n",
       "\\item[mass\\textbackslash{}\\_400] 1\n",
       "\\item[mass\\textbackslash{}\\_500] 2\n",
       "\\item[mass\\textbackslash{}\\_600] 3\n",
       "\\item[mass\\textbackslash{}\\_700] 4\n",
       "\\item[mass\\textbackslash{}\\_800] 5\n",
       "\\end{description*}\n"
      ],
      "text/markdown": [
       "mass_400\n",
       ":   1mass_500\n",
       ":   2mass_600\n",
       ":   3mass_700\n",
       ":   4mass_800\n",
       ":   5\n",
       "\n"
      ],
      "text/plain": [
       "mass_400 mass_500 mass_600 mass_700 mass_800 \n",
       "       1        2        3        4        5 "
      ]
     },
     "metadata": {},
     "output_type": "display_data"
    },
    {
     "data": {
      "text/html": [
       "<table>\n",
       "<thead><tr><th></th><th scope=col>mass_400</th><th scope=col>mass_500</th><th scope=col>mass_600</th><th scope=col>mass_700</th><th scope=col>mass_800</th></tr></thead>\n",
       "<tbody>\n",
       "\t<tr><th scope=row>21</th><td>0.001313951</td><td>0.002900000</td><td>0.000000000</td><td>0.000360499</td><td>0.000000000</td></tr>\n",
       "\t<tr><th scope=row>22</th><td>0.001351687</td><td>0.007094888</td><td>0.000000000</td><td>0.001720036</td><td>0.000000000</td></tr>\n",
       "\t<tr><th scope=row>23</th><td>0.005236741</td><td>0.012265284</td><td>0.000076200</td><td>0.004143269</td><td>0.000000000</td></tr>\n",
       "\t<tr><th scope=row>24</th><td>0.003651434</td><td>0.005511553</td><td>0.000000000</td><td>0.000933502</td><td>0.000000000</td></tr>\n",
       "\t<tr><th scope=row>25</th><td>0.001423112</td><td>0.003741692</td><td>0.000031700</td><td>0.000356207</td><td>0.000000000</td></tr>\n",
       "\t<tr><th scope=row>26</th><td>0.004634800</td><td>0.008130000</td><td>0.000000000</td><td>0.000392000</td><td>0.000000000</td></tr>\n",
       "\t<tr><th scope=row>27</th><td>0.001145037</td><td>0.004120000</td><td>0.000000000</td><td>0.001280000</td><td>0.000000000</td></tr>\n",
       "\t<tr><th scope=row>28</th><td>0.009590847</td><td>0.017267594</td><td>0.000000000</td><td>0.004839455</td><td>0.000117151</td></tr>\n",
       "\t<tr><th scope=row>29</th><td>0.005949973</td><td>0.015005459</td><td>0.000230937</td><td>0.005398365</td><td>0.000000000</td></tr>\n",
       "\t<tr><th scope=row>30</th><td>0.000886040</td><td>0.003950000</td><td>0.000000000</td><td>0.001458761</td><td>0.000000000</td></tr>\n",
       "\t<tr><th scope=row>36</th><td>0.000531601</td><td>0.004115328</td><td>0.000000000</td><td>0.010825591</td><td>0.000000000</td></tr>\n",
       "\t<tr><th scope=row>37</th><td>0.001041158</td><td>0.004750490</td><td>0.000000000</td><td>0.006247059</td><td>0.000020400</td></tr>\n",
       "\t<tr><th scope=row>38</th><td>0.001890196</td><td>0.006248327</td><td>0.000000000</td><td>0.017948616</td><td>0.000294877</td></tr>\n",
       "\t<tr><th scope=row>39</th><td>0.002015563</td><td>0.005454913</td><td>0.000000000</td><td>0.001926347</td><td>0.000000000</td></tr>\n",
       "\t<tr><th scope=row>40</th><td>0.010755077</td><td>0.010400000</td><td>0.000000000</td><td>0.002804127</td><td>0.000000000</td></tr>\n",
       "\t<tr><th scope=row>41</th><td>0.005294117</td><td>0.005468799</td><td>0.000127552</td><td>0.001634777</td><td>0.000000000</td></tr>\n",
       "\t<tr><th scope=row>42</th><td>0.002665173</td><td>0.007183264</td><td>0.000000000</td><td>0.001430000</td><td>0.000000000</td></tr>\n",
       "\t<tr><th scope=row>43</th><td>0.001145335</td><td>0.006015767</td><td>0.000024200</td><td>0.002506955</td><td>0.000000000</td></tr>\n",
       "\t<tr><th scope=row>44</th><td>0.012438866</td><td>0.014725690</td><td>0.000477354</td><td>0.001333816</td><td>0.000000000</td></tr>\n",
       "\t<tr><th scope=row>45</th><td>0.007629190</td><td>0.011840259</td><td>0.000000000</td><td>0.000989143</td><td>0.000000000</td></tr>\n",
       "\t<tr><th scope=row>51</th><td>0.004949750</td><td>0.019298844</td><td>0.000000000</td><td>0.001644146</td><td>0.000000000</td></tr>\n",
       "\t<tr><th scope=row>52</th><td>0.002716288</td><td>0.007778546</td><td>0.000000000</td><td>0.000811257</td><td>0.000000000</td></tr>\n",
       "\t<tr><th scope=row>53</th><td>0.003492299</td><td>0.014049647</td><td>0.000063200</td><td>0.000000000</td><td>0.000000000</td></tr>\n",
       "\t<tr><th scope=row>54</th><td>0.010592708</td><td>0.017130988</td><td>0.000000000</td><td>0.000639461</td><td>0.000000000</td></tr>\n",
       "\t<tr><th scope=row>55</th><td>0.001216809</td><td>0.004317490</td><td>0.000000000</td><td>0.000766749</td><td>0.000000000</td></tr>\n",
       "\t<tr><th scope=row>56</th><td>0.002163037</td><td>0.004800000</td><td>0.000260710</td><td>0.001097633</td><td>0.000000000</td></tr>\n",
       "\t<tr><th scope=row>57</th><td>0.000407350</td><td>0.002230000</td><td>0.000000000</td><td>0.000786049</td><td>0.000000000</td></tr>\n",
       "\t<tr><th scope=row>58</th><td>0.005721820</td><td>0.008826802</td><td>0.000000000</td><td>0.000000000</td><td>0.000000000</td></tr>\n",
       "\t<tr><th scope=row>59</th><td>0.000956452</td><td>0.003134981</td><td>0.000040800</td><td>0.000112778</td><td>0.000000000</td></tr>\n",
       "\t<tr><th scope=row>60</th><td>0.000586962</td><td>0.004279801</td><td>0.000000000</td><td>0.001706468</td><td>0.000000000</td></tr>\n",
       "</tbody>\n",
       "</table>\n"
      ],
      "text/latex": [
       "\\begin{tabular}{r|lllll}\n",
       "  & mass\\_400 & mass\\_500 & mass\\_600 & mass\\_700 & mass\\_800\\\\\n",
       "\\hline\n",
       "\t21 & 0.001313951 & 0.002900000 & 0.000000000 & 0.000360499 & 0.000000000\\\\\n",
       "\t22 & 0.001351687 & 0.007094888 & 0.000000000 & 0.001720036 & 0.000000000\\\\\n",
       "\t23 & 0.005236741 & 0.012265284 & 0.000076200 & 0.004143269 & 0.000000000\\\\\n",
       "\t24 & 0.003651434 & 0.005511553 & 0.000000000 & 0.000933502 & 0.000000000\\\\\n",
       "\t25 & 0.001423112 & 0.003741692 & 0.000031700 & 0.000356207 & 0.000000000\\\\\n",
       "\t26 & 0.004634800 & 0.008130000 & 0.000000000 & 0.000392000 & 0.000000000\\\\\n",
       "\t27 & 0.001145037 & 0.004120000 & 0.000000000 & 0.001280000 & 0.000000000\\\\\n",
       "\t28 & 0.009590847 & 0.017267594 & 0.000000000 & 0.004839455 & 0.000117151\\\\\n",
       "\t29 & 0.005949973 & 0.015005459 & 0.000230937 & 0.005398365 & 0.000000000\\\\\n",
       "\t30 & 0.000886040 & 0.003950000 & 0.000000000 & 0.001458761 & 0.000000000\\\\\n",
       "\t36 & 0.000531601 & 0.004115328 & 0.000000000 & 0.010825591 & 0.000000000\\\\\n",
       "\t37 & 0.001041158 & 0.004750490 & 0.000000000 & 0.006247059 & 0.000020400\\\\\n",
       "\t38 & 0.001890196 & 0.006248327 & 0.000000000 & 0.017948616 & 0.000294877\\\\\n",
       "\t39 & 0.002015563 & 0.005454913 & 0.000000000 & 0.001926347 & 0.000000000\\\\\n",
       "\t40 & 0.010755077 & 0.010400000 & 0.000000000 & 0.002804127 & 0.000000000\\\\\n",
       "\t41 & 0.005294117 & 0.005468799 & 0.000127552 & 0.001634777 & 0.000000000\\\\\n",
       "\t42 & 0.002665173 & 0.007183264 & 0.000000000 & 0.001430000 & 0.000000000\\\\\n",
       "\t43 & 0.001145335 & 0.006015767 & 0.000024200 & 0.002506955 & 0.000000000\\\\\n",
       "\t44 & 0.012438866 & 0.014725690 & 0.000477354 & 0.001333816 & 0.000000000\\\\\n",
       "\t45 & 0.007629190 & 0.011840259 & 0.000000000 & 0.000989143 & 0.000000000\\\\\n",
       "\t51 & 0.004949750 & 0.019298844 & 0.000000000 & 0.001644146 & 0.000000000\\\\\n",
       "\t52 & 0.002716288 & 0.007778546 & 0.000000000 & 0.000811257 & 0.000000000\\\\\n",
       "\t53 & 0.003492299 & 0.014049647 & 0.000063200 & 0.000000000 & 0.000000000\\\\\n",
       "\t54 & 0.010592708 & 0.017130988 & 0.000000000 & 0.000639461 & 0.000000000\\\\\n",
       "\t55 & 0.001216809 & 0.004317490 & 0.000000000 & 0.000766749 & 0.000000000\\\\\n",
       "\t56 & 0.002163037 & 0.004800000 & 0.000260710 & 0.001097633 & 0.000000000\\\\\n",
       "\t57 & 0.000407350 & 0.002230000 & 0.000000000 & 0.000786049 & 0.000000000\\\\\n",
       "\t58 & 0.005721820 & 0.008826802 & 0.000000000 & 0.000000000 & 0.000000000\\\\\n",
       "\t59 & 0.000956452 & 0.003134981 & 0.000040800 & 0.000112778 & 0.000000000\\\\\n",
       "\t60 & 0.000586962 & 0.004279801 & 0.000000000 & 0.001706468 & 0.000000000\\\\\n",
       "\\end{tabular}\n"
      ],
      "text/markdown": [
       "\n",
       "| <!--/--> | mass_400 | mass_500 | mass_600 | mass_700 | mass_800 |\n",
       "|---|---|---|---|---|---|\n",
       "| 21 | 0.001313951 | 0.002900000 | 0.000000000 | 0.000360499 | 0.000000000 |\n",
       "| 22 | 0.001351687 | 0.007094888 | 0.000000000 | 0.001720036 | 0.000000000 |\n",
       "| 23 | 0.005236741 | 0.012265284 | 0.000076200 | 0.004143269 | 0.000000000 |\n",
       "| 24 | 0.003651434 | 0.005511553 | 0.000000000 | 0.000933502 | 0.000000000 |\n",
       "| 25 | 0.001423112 | 0.003741692 | 0.000031700 | 0.000356207 | 0.000000000 |\n",
       "| 26 | 0.004634800 | 0.008130000 | 0.000000000 | 0.000392000 | 0.000000000 |\n",
       "| 27 | 0.001145037 | 0.004120000 | 0.000000000 | 0.001280000 | 0.000000000 |\n",
       "| 28 | 0.009590847 | 0.017267594 | 0.000000000 | 0.004839455 | 0.000117151 |\n",
       "| 29 | 0.005949973 | 0.015005459 | 0.000230937 | 0.005398365 | 0.000000000 |\n",
       "| 30 | 0.000886040 | 0.003950000 | 0.000000000 | 0.001458761 | 0.000000000 |\n",
       "| 36 | 0.000531601 | 0.004115328 | 0.000000000 | 0.010825591 | 0.000000000 |\n",
       "| 37 | 0.001041158 | 0.004750490 | 0.000000000 | 0.006247059 | 0.000020400 |\n",
       "| 38 | 0.001890196 | 0.006248327 | 0.000000000 | 0.017948616 | 0.000294877 |\n",
       "| 39 | 0.002015563 | 0.005454913 | 0.000000000 | 0.001926347 | 0.000000000 |\n",
       "| 40 | 0.010755077 | 0.010400000 | 0.000000000 | 0.002804127 | 0.000000000 |\n",
       "| 41 | 0.005294117 | 0.005468799 | 0.000127552 | 0.001634777 | 0.000000000 |\n",
       "| 42 | 0.002665173 | 0.007183264 | 0.000000000 | 0.001430000 | 0.000000000 |\n",
       "| 43 | 0.001145335 | 0.006015767 | 0.000024200 | 0.002506955 | 0.000000000 |\n",
       "| 44 | 0.012438866 | 0.014725690 | 0.000477354 | 0.001333816 | 0.000000000 |\n",
       "| 45 | 0.007629190 | 0.011840259 | 0.000000000 | 0.000989143 | 0.000000000 |\n",
       "| 51 | 0.004949750 | 0.019298844 | 0.000000000 | 0.001644146 | 0.000000000 |\n",
       "| 52 | 0.002716288 | 0.007778546 | 0.000000000 | 0.000811257 | 0.000000000 |\n",
       "| 53 | 0.003492299 | 0.014049647 | 0.000063200 | 0.000000000 | 0.000000000 |\n",
       "| 54 | 0.010592708 | 0.017130988 | 0.000000000 | 0.000639461 | 0.000000000 |\n",
       "| 55 | 0.001216809 | 0.004317490 | 0.000000000 | 0.000766749 | 0.000000000 |\n",
       "| 56 | 0.002163037 | 0.004800000 | 0.000260710 | 0.001097633 | 0.000000000 |\n",
       "| 57 | 0.000407350 | 0.002230000 | 0.000000000 | 0.000786049 | 0.000000000 |\n",
       "| 58 | 0.005721820 | 0.008826802 | 0.000000000 | 0.000000000 | 0.000000000 |\n",
       "| 59 | 0.000956452 | 0.003134981 | 0.000040800 | 0.000112778 | 0.000000000 |\n",
       "| 60 | 0.000586962 | 0.004279801 | 0.000000000 | 0.001706468 | 0.000000000 |\n",
       "\n"
      ],
      "text/plain": [
       "   mass_400    mass_500    mass_600    mass_700    mass_800   \n",
       "21 0.001313951 0.002900000 0.000000000 0.000360499 0.000000000\n",
       "22 0.001351687 0.007094888 0.000000000 0.001720036 0.000000000\n",
       "23 0.005236741 0.012265284 0.000076200 0.004143269 0.000000000\n",
       "24 0.003651434 0.005511553 0.000000000 0.000933502 0.000000000\n",
       "25 0.001423112 0.003741692 0.000031700 0.000356207 0.000000000\n",
       "26 0.004634800 0.008130000 0.000000000 0.000392000 0.000000000\n",
       "27 0.001145037 0.004120000 0.000000000 0.001280000 0.000000000\n",
       "28 0.009590847 0.017267594 0.000000000 0.004839455 0.000117151\n",
       "29 0.005949973 0.015005459 0.000230937 0.005398365 0.000000000\n",
       "30 0.000886040 0.003950000 0.000000000 0.001458761 0.000000000\n",
       "36 0.000531601 0.004115328 0.000000000 0.010825591 0.000000000\n",
       "37 0.001041158 0.004750490 0.000000000 0.006247059 0.000020400\n",
       "38 0.001890196 0.006248327 0.000000000 0.017948616 0.000294877\n",
       "39 0.002015563 0.005454913 0.000000000 0.001926347 0.000000000\n",
       "40 0.010755077 0.010400000 0.000000000 0.002804127 0.000000000\n",
       "41 0.005294117 0.005468799 0.000127552 0.001634777 0.000000000\n",
       "42 0.002665173 0.007183264 0.000000000 0.001430000 0.000000000\n",
       "43 0.001145335 0.006015767 0.000024200 0.002506955 0.000000000\n",
       "44 0.012438866 0.014725690 0.000477354 0.001333816 0.000000000\n",
       "45 0.007629190 0.011840259 0.000000000 0.000989143 0.000000000\n",
       "51 0.004949750 0.019298844 0.000000000 0.001644146 0.000000000\n",
       "52 0.002716288 0.007778546 0.000000000 0.000811257 0.000000000\n",
       "53 0.003492299 0.014049647 0.000063200 0.000000000 0.000000000\n",
       "54 0.010592708 0.017130988 0.000000000 0.000639461 0.000000000\n",
       "55 0.001216809 0.004317490 0.000000000 0.000766749 0.000000000\n",
       "56 0.002163037 0.004800000 0.000260710 0.001097633 0.000000000\n",
       "57 0.000407350 0.002230000 0.000000000 0.000786049 0.000000000\n",
       "58 0.005721820 0.008826802 0.000000000 0.000000000 0.000000000\n",
       "59 0.000956452 0.003134981 0.000040800 0.000112778 0.000000000\n",
       "60 0.000586962 0.004279801 0.000000000 0.001706468 0.000000000"
      ]
     },
     "metadata": {},
     "output_type": "display_data"
    },
    {
     "data": {
      "text/html": [
       "<table>\n",
       "<thead><tr><th></th><th scope=col>filename</th><th scope=col>MouseID</th><th scope=col>Treatmentgroup</th><th scope=col>DPI</th><th scope=col>organ</th><th scope=col>well_position</th><th scope=col>plate</th><th scope=col>mass_400</th><th scope=col>mass_500</th><th scope=col>mass_600</th><th scope=col>mass_700</th><th scope=col>mass_800</th></tr></thead>\n",
       "<tbody>\n",
       "\t<tr><th scope=row>21</th><td>X611_Group9_142dpi_RA_181_G_B9_P124.mzXML </td><td>611                                       </td><td>combo                                     </td><td>142dpi                                    </td><td>RA                                        </td><td>B9                                        </td><td>P124                                      </td><td>0.001313951                               </td><td>0.002900000                               </td><td>0.00e+00                                  </td><td>0.000360499                               </td><td>0                                         </td></tr>\n",
       "\t<tr><th scope=row>22</th><td>X612_Group9_142dpi_RA_182_G_B10_P124.mzXML</td><td>612                                       </td><td>combo                                     </td><td>142dpi                                    </td><td>RA                                        </td><td>B10                                       </td><td>P124                                      </td><td>0.001351687                               </td><td>0.007094888                               </td><td>0.00e+00                                  </td><td>0.001720036                               </td><td>0                                         </td></tr>\n",
       "\t<tr><th scope=row>23</th><td>X613_Group9_142dpi_RA_183_G_B11_P124.mzXML</td><td>613                                       </td><td>combo                                     </td><td>142dpi                                    </td><td>RA                                        </td><td>B11                                       </td><td>P124                                      </td><td>0.005236741                               </td><td>0.012265284                               </td><td>7.62e-05                                  </td><td>0.004143269                               </td><td>0                                         </td></tr>\n",
       "\t<tr><th scope=row>24</th><td>X614_Group9_142dpi_RA_184_G_B12_P124.mzXML</td><td>614                                       </td><td>combo                                     </td><td>142dpi                                    </td><td>RA                                        </td><td>B12                                       </td><td>P124                                      </td><td>0.003651434                               </td><td>0.005511553                               </td><td>0.00e+00                                  </td><td>0.000933502                               </td><td>0                                         </td></tr>\n",
       "\t<tr><th scope=row>25</th><td>X615_Group9_142dpi_RA_185_G_C1_P124.mzXML </td><td>615                                       </td><td>combo                                     </td><td>142dpi                                    </td><td>RA                                        </td><td>C1                                        </td><td>P124                                      </td><td>0.001423112                               </td><td>0.003741692                               </td><td>3.17e-05                                  </td><td>0.000356207                               </td><td>0                                         </td></tr>\n",
       "\t<tr><th scope=row>26</th><td>X631_Group15_142dpi_RA_191_G_C7_P124.mzXML</td><td>631                                       </td><td>BNZ                                       </td><td>142dpi                                    </td><td>RA                                        </td><td>C7                                        </td><td>P124                                      </td><td>0.004634800                               </td><td>0.008130000                               </td><td>0.00e+00                                  </td><td>0.000392000                               </td><td>0                                         </td></tr>\n",
       "</tbody>\n",
       "</table>\n"
      ],
      "text/latex": [
       "\\begin{tabular}{r|llllllllllll}\n",
       "  & filename & MouseID & Treatmentgroup & DPI & organ & well\\_position & plate & mass\\_400 & mass\\_500 & mass\\_600 & mass\\_700 & mass\\_800\\\\\n",
       "\\hline\n",
       "\t21 & X611\\_Group9\\_142dpi\\_RA\\_181\\_G\\_B9\\_P124.mzXML  & 611                                                      & combo                                                    & 142dpi                                                   & RA                                                       & B9                                                       & P124                                                     & 0.001313951                                              & 0.002900000                                              & 0.00e+00                                                 & 0.000360499                                              & 0                                                       \\\\\n",
       "\t22 & X612\\_Group9\\_142dpi\\_RA\\_182\\_G\\_B10\\_P124.mzXML & 612                                                      & combo                                                    & 142dpi                                                   & RA                                                       & B10                                                      & P124                                                     & 0.001351687                                              & 0.007094888                                              & 0.00e+00                                                 & 0.001720036                                              & 0                                                       \\\\\n",
       "\t23 & X613\\_Group9\\_142dpi\\_RA\\_183\\_G\\_B11\\_P124.mzXML & 613                                                      & combo                                                    & 142dpi                                                   & RA                                                       & B11                                                      & P124                                                     & 0.005236741                                              & 0.012265284                                              & 7.62e-05                                                 & 0.004143269                                              & 0                                                       \\\\\n",
       "\t24 & X614\\_Group9\\_142dpi\\_RA\\_184\\_G\\_B12\\_P124.mzXML & 614                                                      & combo                                                    & 142dpi                                                   & RA                                                       & B12                                                      & P124                                                     & 0.003651434                                              & 0.005511553                                              & 0.00e+00                                                 & 0.000933502                                              & 0                                                       \\\\\n",
       "\t25 & X615\\_Group9\\_142dpi\\_RA\\_185\\_G\\_C1\\_P124.mzXML  & 615                                                      & combo                                                    & 142dpi                                                   & RA                                                       & C1                                                       & P124                                                     & 0.001423112                                              & 0.003741692                                              & 3.17e-05                                                 & 0.000356207                                              & 0                                                       \\\\\n",
       "\t26 & X631\\_Group15\\_142dpi\\_RA\\_191\\_G\\_C7\\_P124.mzXML & 631                                                      & BNZ                                                      & 142dpi                                                   & RA                                                       & C7                                                       & P124                                                     & 0.004634800                                              & 0.008130000                                              & 0.00e+00                                                 & 0.000392000                                              & 0                                                       \\\\\n",
       "\\end{tabular}\n"
      ],
      "text/markdown": [
       "\n",
       "| <!--/--> | filename | MouseID | Treatmentgroup | DPI | organ | well_position | plate | mass_400 | mass_500 | mass_600 | mass_700 | mass_800 |\n",
       "|---|---|---|---|---|---|---|---|---|---|---|---|---|\n",
       "| 21 | X611_Group9_142dpi_RA_181_G_B9_P124.mzXML  | 611                                        | combo                                      | 142dpi                                     | RA                                         | B9                                         | P124                                       | 0.001313951                                | 0.002900000                                | 0.00e+00                                   | 0.000360499                                | 0                                          |\n",
       "| 22 | X612_Group9_142dpi_RA_182_G_B10_P124.mzXML | 612                                        | combo                                      | 142dpi                                     | RA                                         | B10                                        | P124                                       | 0.001351687                                | 0.007094888                                | 0.00e+00                                   | 0.001720036                                | 0                                          |\n",
       "| 23 | X613_Group9_142dpi_RA_183_G_B11_P124.mzXML | 613                                        | combo                                      | 142dpi                                     | RA                                         | B11                                        | P124                                       | 0.005236741                                | 0.012265284                                | 7.62e-05                                   | 0.004143269                                | 0                                          |\n",
       "| 24 | X614_Group9_142dpi_RA_184_G_B12_P124.mzXML | 614                                        | combo                                      | 142dpi                                     | RA                                         | B12                                        | P124                                       | 0.003651434                                | 0.005511553                                | 0.00e+00                                   | 0.000933502                                | 0                                          |\n",
       "| 25 | X615_Group9_142dpi_RA_185_G_C1_P124.mzXML  | 615                                        | combo                                      | 142dpi                                     | RA                                         | C1                                         | P124                                       | 0.001423112                                | 0.003741692                                | 3.17e-05                                   | 0.000356207                                | 0                                          |\n",
       "| 26 | X631_Group15_142dpi_RA_191_G_C7_P124.mzXML | 631                                        | BNZ                                        | 142dpi                                     | RA                                         | C7                                         | P124                                       | 0.004634800                                | 0.008130000                                | 0.00e+00                                   | 0.000392000                                | 0                                          |\n",
       "\n"
      ],
      "text/plain": [
       "   filename                                   MouseID Treatmentgroup DPI   \n",
       "21 X611_Group9_142dpi_RA_181_G_B9_P124.mzXML  611     combo          142dpi\n",
       "22 X612_Group9_142dpi_RA_182_G_B10_P124.mzXML 612     combo          142dpi\n",
       "23 X613_Group9_142dpi_RA_183_G_B11_P124.mzXML 613     combo          142dpi\n",
       "24 X614_Group9_142dpi_RA_184_G_B12_P124.mzXML 614     combo          142dpi\n",
       "25 X615_Group9_142dpi_RA_185_G_C1_P124.mzXML  615     combo          142dpi\n",
       "26 X631_Group15_142dpi_RA_191_G_C7_P124.mzXML 631     BNZ            142dpi\n",
       "   organ well_position plate mass_400    mass_500    mass_600 mass_700   \n",
       "21 RA    B9            P124  0.001313951 0.002900000 0.00e+00 0.000360499\n",
       "22 RA    B10           P124  0.001351687 0.007094888 0.00e+00 0.001720036\n",
       "23 RA    B11           P124  0.005236741 0.012265284 7.62e-05 0.004143269\n",
       "24 RA    B12           P124  0.003651434 0.005511553 0.00e+00 0.000933502\n",
       "25 RA    C1            P124  0.001423112 0.003741692 3.17e-05 0.000356207\n",
       "26 RA    C7            P124  0.004634800 0.008130000 0.00e+00 0.000392000\n",
       "   mass_800\n",
       "21 0       \n",
       "22 0       \n",
       "23 0       \n",
       "24 0       \n",
       "25 0       \n",
       "26 0       "
      ]
     },
     "metadata": {},
     "output_type": "display_data"
    },
    {
     "data": {
      "text/html": [
       "<ol class=list-inline>\n",
       "\t<li>30</li>\n",
       "\t<li>12</li>\n",
       "</ol>\n"
      ],
      "text/latex": [
       "\\begin{enumerate*}\n",
       "\\item 30\n",
       "\\item 12\n",
       "\\end{enumerate*}\n"
      ],
      "text/markdown": [
       "1. 30\n",
       "2. 12\n",
       "\n",
       "\n"
      ],
      "text/plain": [
       "[1] 30 12"
      ]
     },
     "metadata": {},
     "output_type": "display_data"
    },
    {
     "data": {
      "text/html": [
       "<ol class=list-inline>\n",
       "\t<li>30</li>\n",
       "\t<li>5</li>\n",
       "</ol>\n"
      ],
      "text/latex": [
       "\\begin{enumerate*}\n",
       "\\item 30\n",
       "\\item 5\n",
       "\\end{enumerate*}\n"
      ],
      "text/markdown": [
       "1. 30\n",
       "2. 5\n",
       "\n",
       "\n"
      ],
      "text/plain": [
       "[1] 30  5"
      ]
     },
     "metadata": {},
     "output_type": "display_data"
    },
    {
     "data": {
      "text/html": [
       "<ol class=list-inline>\n",
       "\t<li>30</li>\n",
       "\t<li>5</li>\n",
       "</ol>\n"
      ],
      "text/latex": [
       "\\begin{enumerate*}\n",
       "\\item 30\n",
       "\\item 5\n",
       "\\end{enumerate*}\n"
      ],
      "text/markdown": [
       "1. 30\n",
       "2. 5\n",
       "\n",
       "\n"
      ],
      "text/plain": [
       "[1] 30  5"
      ]
     },
     "metadata": {},
     "output_type": "display_data"
    },
    {
     "data": {
      "text/html": [
       "<ol class=list-inline>\n",
       "\t<li>30</li>\n",
       "\t<li>12</li>\n",
       "</ol>\n"
      ],
      "text/latex": [
       "\\begin{enumerate*}\n",
       "\\item 30\n",
       "\\item 12\n",
       "\\end{enumerate*}\n"
      ],
      "text/markdown": [
       "1. 30\n",
       "2. 12\n",
       "\n",
       "\n"
      ],
      "text/plain": [
       "[1] 30 12"
      ]
     },
     "metadata": {},
     "output_type": "display_data"
    }
   ],
   "source": [
    "noMeta<-features_pos[,8:12]\n",
    "head(noMeta)\n",
    "not_zero<-which(colSums(noMeta) != 0)\n",
    "head(not_zero)\n",
    "nonzero <- noMeta[, not_zero]\n",
    "nonzero\n",
    "nonzero_wMeta<-cbind(features_pos[,1:7], nonzero)\n",
    "head(nonzero_wMeta)\n",
    "dim(features_pos)\n",
    "dim(noMeta)\n",
    "dim(nonzero)\n",
    "dim(nonzero_wMeta)"
   ]
  },
  {
   "cell_type": "code",
   "execution_count": 5,
   "metadata": {
    "scrolled": true
   },
   "outputs": [
    {
     "name": "stderr",
     "output_type": "stream",
     "text": [
      "Warning message in wilcox.test.default(x = c(0, 0, 0, 0.000230937, 0, 0.000127552, :\n",
      "\"cannot compute exact p-value with ties\"Warning message in wilcox.test.default(x = c(0.000392, 0.00128, 0.004839455, 0.005398365, :\n",
      "\"cannot compute exact p-value with ties\"Warning message in wilcox.test.default(x = c(0, 0, 0.000117151, 0, 0, 0, 0, 0, 0, :\n",
      "\"cannot compute exact p-value with ties\""
     ]
    },
    {
     "data": {
      "text/html": [
       "<ol class=list-inline>\n",
       "\t<li>0.967417297543179</li>\n",
       "\t<li>0.838134776780856</li>\n",
       "\t<li>0.183491705200314</li>\n",
       "\t<li>0.633325914515613</li>\n",
       "\t<li>0.577155449664142</li>\n",
       "</ol>\n"
      ],
      "text/latex": [
       "\\begin{enumerate*}\n",
       "\\item 0.967417297543179\n",
       "\\item 0.838134776780856\n",
       "\\item 0.183491705200314\n",
       "\\item 0.633325914515613\n",
       "\\item 0.577155449664142\n",
       "\\end{enumerate*}\n"
      ],
      "text/markdown": [
       "1. 0.967417297543179\n",
       "2. 0.838134776780856\n",
       "3. 0.183491705200314\n",
       "4. 0.633325914515613\n",
       "5. 0.577155449664142\n",
       "\n",
       "\n"
      ],
      "text/plain": [
       "[1] 0.9674173 0.8381348 0.1834917 0.6333259 0.5771554"
      ]
     },
     "metadata": {},
     "output_type": "display_data"
    },
    {
     "data": {
      "text/html": [
       "<ol class=list-inline>\n",
       "\t<li>0.967417297543179</li>\n",
       "\t<li>0.967417297543179</li>\n",
       "\t<li>0.917458526001571</li>\n",
       "\t<li>0.967417297543179</li>\n",
       "\t<li>0.967417297543179</li>\n",
       "</ol>\n"
      ],
      "text/latex": [
       "\\begin{enumerate*}\n",
       "\\item 0.967417297543179\n",
       "\\item 0.967417297543179\n",
       "\\item 0.917458526001571\n",
       "\\item 0.967417297543179\n",
       "\\item 0.967417297543179\n",
       "\\end{enumerate*}\n"
      ],
      "text/markdown": [
       "1. 0.967417297543179\n",
       "2. 0.967417297543179\n",
       "3. 0.917458526001571\n",
       "4. 0.967417297543179\n",
       "5. 0.967417297543179\n",
       "\n",
       "\n"
      ],
      "text/plain": [
       "[1] 0.9674173 0.9674173 0.9174585 0.9674173 0.9674173"
      ]
     },
     "metadata": {},
     "output_type": "display_data"
    }
   ],
   "source": [
    "pval<-c()\n",
    "\n",
    "for (i in 8:ncol(nonzero_wMeta)) \n",
    "pval<-c(pval,wilcox.test(nonzero_wMeta[,i]~nonzero_wMeta$Treatmentgroup)$p.value)\n",
    "head(pval)\n",
    "pAdj <- p.adjust(pval, method = c(\"fdr\"), n=length(pval)) \n",
    "head(pAdj) \n",
    "\n"
   ]
  },
  {
   "cell_type": "code",
   "execution_count": 6,
   "metadata": {
    "scrolled": true
   },
   "outputs": [
    {
     "data": {
      "text/html": [
       "5"
      ],
      "text/latex": [
       "5"
      ],
      "text/markdown": [
       "5"
      ],
      "text/plain": [
       "[1] 5"
      ]
     },
     "metadata": {},
     "output_type": "display_data"
    }
   ],
   "source": [
    "length(pval)"
   ]
  },
  {
   "cell_type": "code",
   "execution_count": 7,
   "metadata": {
    "scrolled": true
   },
   "outputs": [
    {
     "data": {
      "text/html": [
       "5"
      ],
      "text/latex": [
       "5"
      ],
      "text/markdown": [
       "5"
      ],
      "text/plain": [
       "[1] 5"
      ]
     },
     "metadata": {},
     "output_type": "display_data"
    }
   ],
   "source": [
    "length(pAdj)"
   ]
  },
  {
   "cell_type": "code",
   "execution_count": 8,
   "metadata": {},
   "outputs": [
    {
     "data": {
      "text/html": [
       "<ol class=list-inline>\n",
       "\t<li>2</li>\n",
       "\t<li>5</li>\n",
       "</ol>\n"
      ],
      "text/latex": [
       "\\begin{enumerate*}\n",
       "\\item 2\n",
       "\\item 5\n",
       "\\end{enumerate*}\n"
      ],
      "text/markdown": [
       "1. 2\n",
       "2. 5\n",
       "\n",
       "\n"
      ],
      "text/plain": [
       "[1] 2 5"
      ]
     },
     "metadata": {},
     "output_type": "display_data"
    },
    {
     "data": {
      "text/html": [
       "<table>\n",
       "<thead><tr><th></th><th scope=col>mass_400</th><th scope=col>mass_500</th><th scope=col>mass_600</th></tr></thead>\n",
       "<tbody>\n",
       "\t<tr><th scope=row>BNZ</th><td>0.004081000 </td><td>0.007798561 </td><td>7.743687e-05</td></tr>\n",
       "\t<tr><th scope=row>combo</th><td>0.003478558 </td><td>0.008337199 </td><td>1.140667e-05</td></tr>\n",
       "</tbody>\n",
       "</table>\n"
      ],
      "text/latex": [
       "\\begin{tabular}{r|lll}\n",
       "  & mass\\_400 & mass\\_500 & mass\\_600\\\\\n",
       "\\hline\n",
       "\tBNZ & 0.004081000  & 0.007798561  & 7.743687e-05\\\\\n",
       "\tcombo & 0.003478558  & 0.008337199  & 1.140667e-05\\\\\n",
       "\\end{tabular}\n"
      ],
      "text/markdown": [
       "\n",
       "| <!--/--> | mass_400 | mass_500 | mass_600 |\n",
       "|---|---|---|---|\n",
       "| BNZ | 0.004081000  | 0.007798561  | 7.743687e-05 |\n",
       "| combo | 0.003478558  | 0.008337199  | 1.140667e-05 |\n",
       "\n"
      ],
      "text/plain": [
       "      mass_400    mass_500    mass_600    \n",
       "BNZ   0.004081000 0.007798561 7.743687e-05\n",
       "combo 0.003478558 0.008337199 1.140667e-05"
      ]
     },
     "metadata": {},
     "output_type": "display_data"
    },
    {
     "data": {
      "text/html": [
       "<dl class=dl-horizontal>\n",
       "\t<dt>mass_400</dt>\n",
       "\t\t<dd>1.17318717137487</dd>\n",
       "\t<dt>mass_500</dt>\n",
       "\t\t<dd>0.93539338030301</dd>\n",
       "\t<dt>mass_600</dt>\n",
       "\t\t<dd>6.78873758036236</dd>\n",
       "\t<dt>mass_700</dt>\n",
       "\t\t<dd>0.488318607285649</dd>\n",
       "\t<dt>mass_800</dt>\n",
       "\t\t<dd>0.371581180993222</dd>\n",
       "</dl>\n"
      ],
      "text/latex": [
       "\\begin{description*}\n",
       "\\item[mass\\textbackslash{}\\_400] 1.17318717137487\n",
       "\\item[mass\\textbackslash{}\\_500] 0.93539338030301\n",
       "\\item[mass\\textbackslash{}\\_600] 6.78873758036236\n",
       "\\item[mass\\textbackslash{}\\_700] 0.488318607285649\n",
       "\\item[mass\\textbackslash{}\\_800] 0.371581180993222\n",
       "\\end{description*}\n"
      ],
      "text/markdown": [
       "mass_400\n",
       ":   1.17318717137487mass_500\n",
       ":   0.93539338030301mass_600\n",
       ":   6.78873758036236mass_700\n",
       ":   0.488318607285649mass_800\n",
       ":   0.371581180993222\n",
       "\n"
      ],
      "text/plain": [
       " mass_400  mass_500  mass_600  mass_700  mass_800 \n",
       "1.1731872 0.9353934 6.7887376 0.4883186 0.3715812 "
      ]
     },
     "metadata": {},
     "output_type": "display_data"
    },
    {
     "data": {
      "text/html": [
       "<ol class=list-inline>\n",
       "\t<li>'numeric'</li>\n",
       "\t<li>'vector'</li>\n",
       "</ol>\n"
      ],
      "text/latex": [
       "\\begin{enumerate*}\n",
       "\\item 'numeric'\n",
       "\\item 'vector'\n",
       "\\end{enumerate*}\n"
      ],
      "text/markdown": [
       "1. 'numeric'\n",
       "2. 'vector'\n",
       "\n",
       "\n"
      ],
      "text/plain": [
       "[1] \"numeric\" \"vector\" "
      ]
     },
     "metadata": {},
     "output_type": "display_data"
    }
   ],
   "source": [
    "avg<- apply(nonzero_wMeta[,8:ncol(nonzero_wMeta)], 2, function(x) tapply(x, nonzero_wMeta$Treatmentgroup, function(x) mean(x))) \n",
    "\n",
    "dim(avg)\n",
    "\n",
    "avg[,1:3]\n",
    "\n",
    "fch <- apply(avg, 2, function(x) x[1]/x[2])\n",
    "\n",
    "head(fch)\n",
    "is(fch)"
   ]
  },
  {
   "cell_type": "code",
   "execution_count": 9,
   "metadata": {
    "scrolled": true
   },
   "outputs": [
    {
     "data": {
      "text/html": [
       "<dl class=dl-horizontal>\n",
       "\t<dt>mass_400</dt>\n",
       "\t\t<dd>1.17318717137487</dd>\n",
       "\t<dt>mass_500</dt>\n",
       "\t\t<dd>0.93539338030301</dd>\n",
       "\t<dt>mass_600</dt>\n",
       "\t\t<dd>6.78873758036236</dd>\n",
       "\t<dt>mass_700</dt>\n",
       "\t\t<dd>0.488318607285649</dd>\n",
       "\t<dt>mass_800</dt>\n",
       "\t\t<dd>0.371581180993222</dd>\n",
       "</dl>\n"
      ],
      "text/latex": [
       "\\begin{description*}\n",
       "\\item[mass\\textbackslash{}\\_400] 1.17318717137487\n",
       "\\item[mass\\textbackslash{}\\_500] 0.93539338030301\n",
       "\\item[mass\\textbackslash{}\\_600] 6.78873758036236\n",
       "\\item[mass\\textbackslash{}\\_700] 0.488318607285649\n",
       "\\item[mass\\textbackslash{}\\_800] 0.371581180993222\n",
       "\\end{description*}\n"
      ],
      "text/markdown": [
       "mass_400\n",
       ":   1.17318717137487mass_500\n",
       ":   0.93539338030301mass_600\n",
       ":   6.78873758036236mass_700\n",
       ":   0.488318607285649mass_800\n",
       ":   0.371581180993222\n",
       "\n"
      ],
      "text/plain": [
       " mass_400  mass_500  mass_600  mass_700  mass_800 \n",
       "1.1731872 0.9353934 6.7887376 0.4883186 0.3715812 "
      ]
     },
     "metadata": {},
     "output_type": "display_data"
    }
   ],
   "source": [
    "fch"
   ]
  },
  {
   "cell_type": "code",
   "execution_count": 10,
   "metadata": {
    "scrolled": false
   },
   "outputs": [],
   "source": [
    "df <- data.frame(fch,pval, pAdj)\n",
    "write.csv(df, \"PE-treat-RA-wilcox-combo-BNZ.csv\")"
   ]
  },
  {
   "cell_type": "code",
   "execution_count": null,
   "metadata": {},
   "outputs": [],
   "source": []
  },
  {
   "cell_type": "code",
   "execution_count": null,
   "metadata": {},
   "outputs": [],
   "source": []
  },
  {
   "cell_type": "code",
   "execution_count": null,
   "metadata": {},
   "outputs": [],
   "source": []
  },
  {
   "cell_type": "code",
   "execution_count": null,
   "metadata": {},
   "outputs": [],
   "source": []
  },
  {
   "cell_type": "code",
   "execution_count": null,
   "metadata": {},
   "outputs": [],
   "source": []
  },
  {
   "cell_type": "code",
   "execution_count": null,
   "metadata": {},
   "outputs": [],
   "source": []
  }
 ],
 "metadata": {
  "kernelspec": {
   "display_name": "R",
   "language": "R",
   "name": "ir"
  },
  "language_info": {
   "codemirror_mode": "r",
   "file_extension": ".r",
   "mimetype": "text/x-r-source",
   "name": "R",
   "pygments_lexer": "r",
   "version": "3.6.1"
  }
 },
 "nbformat": 4,
 "nbformat_minor": 2
}
