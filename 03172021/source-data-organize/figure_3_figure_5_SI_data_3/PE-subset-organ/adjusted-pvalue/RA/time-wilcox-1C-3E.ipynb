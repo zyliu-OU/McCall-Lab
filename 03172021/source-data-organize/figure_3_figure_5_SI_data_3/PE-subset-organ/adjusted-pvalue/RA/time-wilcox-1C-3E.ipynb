{
 "cells": [
  {
   "cell_type": "code",
   "execution_count": 1,
   "metadata": {},
   "outputs": [],
   "source": [
    "a <- read.csv(\"03172021-PE-time-RA-M-F.csv\")"
   ]
  },
  {
   "cell_type": "code",
   "execution_count": 2,
   "metadata": {},
   "outputs": [
    {
     "data": {
      "text/html": [
       "<table>\n",
       "<thead><tr><th scope=col>filename</th><th scope=col>MouseID</th><th scope=col>Treatmentgroup</th><th scope=col>status</th><th scope=col>DPI</th><th scope=col>organ</th><th scope=col>well_position</th><th scope=col>plate</th><th scope=col>mass_400</th><th scope=col>mass_500</th><th scope=col>mass_600</th><th scope=col>mass_700</th><th scope=col>mass_800</th></tr></thead>\n",
       "<tbody>\n",
       "\t<tr><td>X501_Group1A_50dpi_RA_251_B_A1_P125.mzXML</td><td>501                                      </td><td>Group1A                                  </td><td>naive                                    </td><td>50dpi                                    </td><td>RA                                       </td><td>A1                                       </td><td>P125                                     </td><td>0.002276123                              </td><td>0.005112843                              </td><td>2.55e-05                                 </td><td>0.004763915                              </td><td>4.86e-05                                 </td></tr>\n",
       "\t<tr><td>X502_Group1A_50dpi_RA_252_B_A2_P125.mzXML</td><td>502                                      </td><td>Group1A                                  </td><td>naive                                    </td><td>50dpi                                    </td><td>RA                                       </td><td>A2                                       </td><td>P125                                     </td><td>0.011214204                              </td><td>0.007530000                              </td><td>0.00e+00                                 </td><td>0.000060700                              </td><td>0.00e+00                                 </td></tr>\n",
       "\t<tr><td>X503_Group1A_50dpi_RA_253_B_A3_P125.mzXML</td><td>503                                      </td><td>Group1A                                  </td><td>naive                                    </td><td>50dpi                                    </td><td>RA                                       </td><td>A3                                       </td><td>P125                                     </td><td>0.001466114                              </td><td>0.002284202                              </td><td>0.00e+00                                 </td><td>0.002540344                              </td><td>0.00e+00                                 </td></tr>\n",
       "\t<tr><td>X504_Group1A_50dpi_RA_254_B_A4_P125.mzXML</td><td>504                                      </td><td>Group1A                                  </td><td>naive                                    </td><td>50dpi                                    </td><td>RA                                       </td><td>A4                                       </td><td>P125                                     </td><td>0.001911612                              </td><td>0.003449213                              </td><td>0.00e+00                                 </td><td>0.000348250                              </td><td>0.00e+00                                 </td></tr>\n",
       "\t<tr><td>X505_Group1A_50dpi_RA_255_B_A5_P125.mzXML</td><td>505                                      </td><td>Group1A                                  </td><td>naive                                    </td><td>50dpi                                    </td><td>RA                                       </td><td>A5                                       </td><td>P125                                     </td><td>0.001948260                              </td><td>0.002946007                              </td><td>0.00e+00                                 </td><td>0.001875139                              </td><td>0.00e+00                                 </td></tr>\n",
       "\t<tr><td>X521_Group1A_50dpi_RA_256_B_A6_P125.mzXML</td><td>521                                      </td><td>Group1A                                  </td><td>naive                                    </td><td>50dpi                                    </td><td>RA                                       </td><td>A6                                       </td><td>P125                                     </td><td>0.000759709                              </td><td>0.002598417                              </td><td>0.00e+00                                 </td><td>0.000693786                              </td><td>0.00e+00                                 </td></tr>\n",
       "</tbody>\n",
       "</table>\n"
      ],
      "text/latex": [
       "\\begin{tabular}{r|lllllllllllll}\n",
       " filename & MouseID & Treatmentgroup & status & DPI & organ & well\\_position & plate & mass\\_400 & mass\\_500 & mass\\_600 & mass\\_700 & mass\\_800\\\\\n",
       "\\hline\n",
       "\t X501\\_Group1A\\_50dpi\\_RA\\_251\\_B\\_A1\\_P125.mzXML & 501                                                     & Group1A                                                 & naive                                                   & 50dpi                                                   & RA                                                      & A1                                                      & P125                                                    & 0.002276123                                             & 0.005112843                                             & 2.55e-05                                                & 0.004763915                                             & 4.86e-05                                               \\\\\n",
       "\t X502\\_Group1A\\_50dpi\\_RA\\_252\\_B\\_A2\\_P125.mzXML & 502                                                     & Group1A                                                 & naive                                                   & 50dpi                                                   & RA                                                      & A2                                                      & P125                                                    & 0.011214204                                             & 0.007530000                                             & 0.00e+00                                                & 0.000060700                                             & 0.00e+00                                               \\\\\n",
       "\t X503\\_Group1A\\_50dpi\\_RA\\_253\\_B\\_A3\\_P125.mzXML & 503                                                     & Group1A                                                 & naive                                                   & 50dpi                                                   & RA                                                      & A3                                                      & P125                                                    & 0.001466114                                             & 0.002284202                                             & 0.00e+00                                                & 0.002540344                                             & 0.00e+00                                               \\\\\n",
       "\t X504\\_Group1A\\_50dpi\\_RA\\_254\\_B\\_A4\\_P125.mzXML & 504                                                     & Group1A                                                 & naive                                                   & 50dpi                                                   & RA                                                      & A4                                                      & P125                                                    & 0.001911612                                             & 0.003449213                                             & 0.00e+00                                                & 0.000348250                                             & 0.00e+00                                               \\\\\n",
       "\t X505\\_Group1A\\_50dpi\\_RA\\_255\\_B\\_A5\\_P125.mzXML & 505                                                     & Group1A                                                 & naive                                                   & 50dpi                                                   & RA                                                      & A5                                                      & P125                                                    & 0.001948260                                             & 0.002946007                                             & 0.00e+00                                                & 0.001875139                                             & 0.00e+00                                               \\\\\n",
       "\t X521\\_Group1A\\_50dpi\\_RA\\_256\\_B\\_A6\\_P125.mzXML & 521                                                     & Group1A                                                 & naive                                                   & 50dpi                                                   & RA                                                      & A6                                                      & P125                                                    & 0.000759709                                             & 0.002598417                                             & 0.00e+00                                                & 0.000693786                                             & 0.00e+00                                               \\\\\n",
       "\\end{tabular}\n"
      ],
      "text/markdown": [
       "\n",
       "| filename | MouseID | Treatmentgroup | status | DPI | organ | well_position | plate | mass_400 | mass_500 | mass_600 | mass_700 | mass_800 |\n",
       "|---|---|---|---|---|---|---|---|---|---|---|---|---|\n",
       "| X501_Group1A_50dpi_RA_251_B_A1_P125.mzXML | 501                                       | Group1A                                   | naive                                     | 50dpi                                     | RA                                        | A1                                        | P125                                      | 0.002276123                               | 0.005112843                               | 2.55e-05                                  | 0.004763915                               | 4.86e-05                                  |\n",
       "| X502_Group1A_50dpi_RA_252_B_A2_P125.mzXML | 502                                       | Group1A                                   | naive                                     | 50dpi                                     | RA                                        | A2                                        | P125                                      | 0.011214204                               | 0.007530000                               | 0.00e+00                                  | 0.000060700                               | 0.00e+00                                  |\n",
       "| X503_Group1A_50dpi_RA_253_B_A3_P125.mzXML | 503                                       | Group1A                                   | naive                                     | 50dpi                                     | RA                                        | A3                                        | P125                                      | 0.001466114                               | 0.002284202                               | 0.00e+00                                  | 0.002540344                               | 0.00e+00                                  |\n",
       "| X504_Group1A_50dpi_RA_254_B_A4_P125.mzXML | 504                                       | Group1A                                   | naive                                     | 50dpi                                     | RA                                        | A4                                        | P125                                      | 0.001911612                               | 0.003449213                               | 0.00e+00                                  | 0.000348250                               | 0.00e+00                                  |\n",
       "| X505_Group1A_50dpi_RA_255_B_A5_P125.mzXML | 505                                       | Group1A                                   | naive                                     | 50dpi                                     | RA                                        | A5                                        | P125                                      | 0.001948260                               | 0.002946007                               | 0.00e+00                                  | 0.001875139                               | 0.00e+00                                  |\n",
       "| X521_Group1A_50dpi_RA_256_B_A6_P125.mzXML | 521                                       | Group1A                                   | naive                                     | 50dpi                                     | RA                                        | A6                                        | P125                                      | 0.000759709                               | 0.002598417                               | 0.00e+00                                  | 0.000693786                               | 0.00e+00                                  |\n",
       "\n"
      ],
      "text/plain": [
       "  filename                                  MouseID Treatmentgroup status DPI  \n",
       "1 X501_Group1A_50dpi_RA_251_B_A1_P125.mzXML 501     Group1A        naive  50dpi\n",
       "2 X502_Group1A_50dpi_RA_252_B_A2_P125.mzXML 502     Group1A        naive  50dpi\n",
       "3 X503_Group1A_50dpi_RA_253_B_A3_P125.mzXML 503     Group1A        naive  50dpi\n",
       "4 X504_Group1A_50dpi_RA_254_B_A4_P125.mzXML 504     Group1A        naive  50dpi\n",
       "5 X505_Group1A_50dpi_RA_255_B_A5_P125.mzXML 505     Group1A        naive  50dpi\n",
       "6 X521_Group1A_50dpi_RA_256_B_A6_P125.mzXML 521     Group1A        naive  50dpi\n",
       "  organ well_position plate mass_400    mass_500    mass_600 mass_700   \n",
       "1 RA    A1            P125  0.002276123 0.005112843 2.55e-05 0.004763915\n",
       "2 RA    A2            P125  0.011214204 0.007530000 0.00e+00 0.000060700\n",
       "3 RA    A3            P125  0.001466114 0.002284202 0.00e+00 0.002540344\n",
       "4 RA    A4            P125  0.001911612 0.003449213 0.00e+00 0.000348250\n",
       "5 RA    A5            P125  0.001948260 0.002946007 0.00e+00 0.001875139\n",
       "6 RA    A6            P125  0.000759709 0.002598417 0.00e+00 0.000693786\n",
       "  mass_800\n",
       "1 4.86e-05\n",
       "2 0.00e+00\n",
       "3 0.00e+00\n",
       "4 0.00e+00\n",
       "5 0.00e+00\n",
       "6 0.00e+00"
      ]
     },
     "metadata": {},
     "output_type": "display_data"
    },
    {
     "data": {
      "text/html": [
       "<ol class=list-inline>\n",
       "\t<li>90</li>\n",
       "\t<li>13</li>\n",
       "</ol>\n"
      ],
      "text/latex": [
       "\\begin{enumerate*}\n",
       "\\item 90\n",
       "\\item 13\n",
       "\\end{enumerate*}\n"
      ],
      "text/markdown": [
       "1. 90\n",
       "2. 13\n",
       "\n",
       "\n"
      ],
      "text/plain": [
       "[1] 90 13"
      ]
     },
     "metadata": {},
     "output_type": "display_data"
    }
   ],
   "source": [
    "head(a)\n",
    "dim(a)"
   ]
  },
  {
   "cell_type": "code",
   "execution_count": 3,
   "metadata": {},
   "outputs": [
    {
     "data": {
      "text/html": [
       "<table>\n",
       "<thead><tr><th></th><th scope=col>filename</th><th scope=col>MouseID</th><th scope=col>Treatmentgroup</th><th scope=col>status</th><th scope=col>DPI</th><th scope=col>organ</th><th scope=col>well_position</th><th scope=col>plate</th><th scope=col>mass_400</th><th scope=col>mass_500</th><th scope=col>mass_600</th><th scope=col>mass_700</th><th scope=col>mass_800</th></tr></thead>\n",
       "<tbody>\n",
       "\t<tr><th scope=row>31</th><td>X511_Group1C_142dpi_RA_161_G_A1_P124.mzXML</td><td>511                                       </td><td>Group1C                                   </td><td>naive                                     </td><td>142dpi                                    </td><td>RA                                        </td><td>A1                                        </td><td>P124                                      </td><td>0.000654335                               </td><td>0.003736275                               </td><td>0.000000000                               </td><td>0.000832270                               </td><td>0.000000000                               </td></tr>\n",
       "\t<tr><th scope=row>32</th><td>X512_Group1C_142dpi_RA_162_G_A2_P124.mzXML</td><td>512                                       </td><td>Group1C                                   </td><td>naive                                     </td><td>142dpi                                    </td><td>RA                                        </td><td>A2                                        </td><td>P124                                      </td><td>0.001902661                               </td><td>0.007220000                               </td><td>0.000000000                               </td><td>0.003141999                               </td><td>0.000000000                               </td></tr>\n",
       "\t<tr><th scope=row>33</th><td>X513_Group1C_142dpi_RA_163_G_A3_P124.mzXML</td><td>513                                       </td><td>Group1C                                   </td><td>naive                                     </td><td>142dpi                                    </td><td>RA                                        </td><td>A3                                        </td><td>P124                                      </td><td>0.005683259                               </td><td>0.006810000                               </td><td>0.000069000                               </td><td>0.010410065                               </td><td>0.000484937                               </td></tr>\n",
       "\t<tr><th scope=row>34</th><td>X514_Group1C_142dpi_RA_164_G_A4_P124.mzXML</td><td>514                                       </td><td>Group1C                                   </td><td>naive                                     </td><td>142dpi                                    </td><td>RA                                        </td><td>A4                                        </td><td>P124                                      </td><td>0.004470928                               </td><td>0.004333828                               </td><td>0.000201159                               </td><td>0.001951171                               </td><td>0.000000000                               </td></tr>\n",
       "\t<tr><th scope=row>35</th><td>X515_Group1C_142dpi_RA_165_G_A5_P124.mzXML</td><td>515                                       </td><td>Group1C                                   </td><td>naive                                     </td><td>142dpi                                    </td><td>RA                                        </td><td>A5                                        </td><td>P124                                      </td><td>0.000504340                               </td><td>0.002660000                               </td><td>0.000000000                               </td><td>0.000772434                               </td><td>0.000000000                               </td></tr>\n",
       "\t<tr><th scope=row>36</th><td>X531_Group1C_142dpi_RA_166_G_A6_P124.mzXML</td><td>531                                       </td><td>Group1C                                   </td><td>naive                                     </td><td>142dpi                                    </td><td>RA                                        </td><td>A6                                        </td><td>P124                                      </td><td>0.003767551                               </td><td>0.009470000                               </td><td>0.000000000                               </td><td>0.002650000                               </td><td>0.000000000                               </td></tr>\n",
       "</tbody>\n",
       "</table>\n"
      ],
      "text/latex": [
       "\\begin{tabular}{r|lllllllllllll}\n",
       "  & filename & MouseID & Treatmentgroup & status & DPI & organ & well\\_position & plate & mass\\_400 & mass\\_500 & mass\\_600 & mass\\_700 & mass\\_800\\\\\n",
       "\\hline\n",
       "\t31 & X511\\_Group1C\\_142dpi\\_RA\\_161\\_G\\_A1\\_P124.mzXML & 511                                                      & Group1C                                                  & naive                                                    & 142dpi                                                   & RA                                                       & A1                                                       & P124                                                     & 0.000654335                                              & 0.003736275                                              & 0.000000000                                              & 0.000832270                                              & 0.000000000                                             \\\\\n",
       "\t32 & X512\\_Group1C\\_142dpi\\_RA\\_162\\_G\\_A2\\_P124.mzXML & 512                                                      & Group1C                                                  & naive                                                    & 142dpi                                                   & RA                                                       & A2                                                       & P124                                                     & 0.001902661                                              & 0.007220000                                              & 0.000000000                                              & 0.003141999                                              & 0.000000000                                             \\\\\n",
       "\t33 & X513\\_Group1C\\_142dpi\\_RA\\_163\\_G\\_A3\\_P124.mzXML & 513                                                      & Group1C                                                  & naive                                                    & 142dpi                                                   & RA                                                       & A3                                                       & P124                                                     & 0.005683259                                              & 0.006810000                                              & 0.000069000                                              & 0.010410065                                              & 0.000484937                                             \\\\\n",
       "\t34 & X514\\_Group1C\\_142dpi\\_RA\\_164\\_G\\_A4\\_P124.mzXML & 514                                                      & Group1C                                                  & naive                                                    & 142dpi                                                   & RA                                                       & A4                                                       & P124                                                     & 0.004470928                                              & 0.004333828                                              & 0.000201159                                              & 0.001951171                                              & 0.000000000                                             \\\\\n",
       "\t35 & X515\\_Group1C\\_142dpi\\_RA\\_165\\_G\\_A5\\_P124.mzXML & 515                                                      & Group1C                                                  & naive                                                    & 142dpi                                                   & RA                                                       & A5                                                       & P124                                                     & 0.000504340                                              & 0.002660000                                              & 0.000000000                                              & 0.000772434                                              & 0.000000000                                             \\\\\n",
       "\t36 & X531\\_Group1C\\_142dpi\\_RA\\_166\\_G\\_A6\\_P124.mzXML & 531                                                      & Group1C                                                  & naive                                                    & 142dpi                                                   & RA                                                       & A6                                                       & P124                                                     & 0.003767551                                              & 0.009470000                                              & 0.000000000                                              & 0.002650000                                              & 0.000000000                                             \\\\\n",
       "\\end{tabular}\n"
      ],
      "text/markdown": [
       "\n",
       "| <!--/--> | filename | MouseID | Treatmentgroup | status | DPI | organ | well_position | plate | mass_400 | mass_500 | mass_600 | mass_700 | mass_800 |\n",
       "|---|---|---|---|---|---|---|---|---|---|---|---|---|---|\n",
       "| 31 | X511_Group1C_142dpi_RA_161_G_A1_P124.mzXML | 511                                        | Group1C                                    | naive                                      | 142dpi                                     | RA                                         | A1                                         | P124                                       | 0.000654335                                | 0.003736275                                | 0.000000000                                | 0.000832270                                | 0.000000000                                |\n",
       "| 32 | X512_Group1C_142dpi_RA_162_G_A2_P124.mzXML | 512                                        | Group1C                                    | naive                                      | 142dpi                                     | RA                                         | A2                                         | P124                                       | 0.001902661                                | 0.007220000                                | 0.000000000                                | 0.003141999                                | 0.000000000                                |\n",
       "| 33 | X513_Group1C_142dpi_RA_163_G_A3_P124.mzXML | 513                                        | Group1C                                    | naive                                      | 142dpi                                     | RA                                         | A3                                         | P124                                       | 0.005683259                                | 0.006810000                                | 0.000069000                                | 0.010410065                                | 0.000484937                                |\n",
       "| 34 | X514_Group1C_142dpi_RA_164_G_A4_P124.mzXML | 514                                        | Group1C                                    | naive                                      | 142dpi                                     | RA                                         | A4                                         | P124                                       | 0.004470928                                | 0.004333828                                | 0.000201159                                | 0.001951171                                | 0.000000000                                |\n",
       "| 35 | X515_Group1C_142dpi_RA_165_G_A5_P124.mzXML | 515                                        | Group1C                                    | naive                                      | 142dpi                                     | RA                                         | A5                                         | P124                                       | 0.000504340                                | 0.002660000                                | 0.000000000                                | 0.000772434                                | 0.000000000                                |\n",
       "| 36 | X531_Group1C_142dpi_RA_166_G_A6_P124.mzXML | 531                                        | Group1C                                    | naive                                      | 142dpi                                     | RA                                         | A6                                         | P124                                       | 0.003767551                                | 0.009470000                                | 0.000000000                                | 0.002650000                                | 0.000000000                                |\n",
       "\n"
      ],
      "text/plain": [
       "   filename                                   MouseID Treatmentgroup status\n",
       "31 X511_Group1C_142dpi_RA_161_G_A1_P124.mzXML 511     Group1C        naive \n",
       "32 X512_Group1C_142dpi_RA_162_G_A2_P124.mzXML 512     Group1C        naive \n",
       "33 X513_Group1C_142dpi_RA_163_G_A3_P124.mzXML 513     Group1C        naive \n",
       "34 X514_Group1C_142dpi_RA_164_G_A4_P124.mzXML 514     Group1C        naive \n",
       "35 X515_Group1C_142dpi_RA_165_G_A5_P124.mzXML 515     Group1C        naive \n",
       "36 X531_Group1C_142dpi_RA_166_G_A6_P124.mzXML 531     Group1C        naive \n",
       "   DPI    organ well_position plate mass_400    mass_500    mass_600   \n",
       "31 142dpi RA    A1            P124  0.000654335 0.003736275 0.000000000\n",
       "32 142dpi RA    A2            P124  0.001902661 0.007220000 0.000000000\n",
       "33 142dpi RA    A3            P124  0.005683259 0.006810000 0.000069000\n",
       "34 142dpi RA    A4            P124  0.004470928 0.004333828 0.000201159\n",
       "35 142dpi RA    A5            P124  0.000504340 0.002660000 0.000000000\n",
       "36 142dpi RA    A6            P124  0.003767551 0.009470000 0.000000000\n",
       "   mass_700    mass_800   \n",
       "31 0.000832270 0.000000000\n",
       "32 0.003141999 0.000000000\n",
       "33 0.010410065 0.000484937\n",
       "34 0.001951171 0.000000000\n",
       "35 0.000772434 0.000000000\n",
       "36 0.002650000 0.000000000"
      ]
     },
     "metadata": {},
     "output_type": "display_data"
    },
    {
     "data": {
      "text/html": [
       "<ol class=list-inline>\n",
       "\t<li>30</li>\n",
       "\t<li>13</li>\n",
       "</ol>\n"
      ],
      "text/latex": [
       "\\begin{enumerate*}\n",
       "\\item 30\n",
       "\\item 13\n",
       "\\end{enumerate*}\n"
      ],
      "text/markdown": [
       "1. 30\n",
       "2. 13\n",
       "\n",
       "\n"
      ],
      "text/plain": [
       "[1] 30 13"
      ]
     },
     "metadata": {},
     "output_type": "display_data"
    }
   ],
   "source": [
    "features_pos<-droplevels(subset(a, a$Treatmentgroup==c(\"Group1C\")|a$Treatmentgroup==c(\"Group3E\")))\n",
    "head(features_pos)\n",
    "dim(features_pos)"
   ]
  },
  {
   "cell_type": "code",
   "execution_count": 4,
   "metadata": {
    "scrolled": false
   },
   "outputs": [
    {
     "data": {
      "text/html": [
       "<table>\n",
       "<thead><tr><th></th><th scope=col>mass_400</th><th scope=col>mass_500</th><th scope=col>mass_600</th><th scope=col>mass_700</th><th scope=col>mass_800</th></tr></thead>\n",
       "<tbody>\n",
       "\t<tr><th scope=row>31</th><td>0.000654335</td><td>0.003736275</td><td>0.000000000</td><td>0.000832270</td><td>0.000000000</td></tr>\n",
       "\t<tr><th scope=row>32</th><td>0.001902661</td><td>0.007220000</td><td>0.000000000</td><td>0.003141999</td><td>0.000000000</td></tr>\n",
       "\t<tr><th scope=row>33</th><td>0.005683259</td><td>0.006810000</td><td>0.000069000</td><td>0.010410065</td><td>0.000484937</td></tr>\n",
       "\t<tr><th scope=row>34</th><td>0.004470928</td><td>0.004333828</td><td>0.000201159</td><td>0.001951171</td><td>0.000000000</td></tr>\n",
       "\t<tr><th scope=row>35</th><td>0.000504340</td><td>0.002660000</td><td>0.000000000</td><td>0.000772434</td><td>0.000000000</td></tr>\n",
       "\t<tr><th scope=row>36</th><td>0.003767551</td><td>0.009470000</td><td>0.000000000</td><td>0.002650000</td><td>0.000000000</td></tr>\n",
       "</tbody>\n",
       "</table>\n"
      ],
      "text/latex": [
       "\\begin{tabular}{r|lllll}\n",
       "  & mass\\_400 & mass\\_500 & mass\\_600 & mass\\_700 & mass\\_800\\\\\n",
       "\\hline\n",
       "\t31 & 0.000654335 & 0.003736275 & 0.000000000 & 0.000832270 & 0.000000000\\\\\n",
       "\t32 & 0.001902661 & 0.007220000 & 0.000000000 & 0.003141999 & 0.000000000\\\\\n",
       "\t33 & 0.005683259 & 0.006810000 & 0.000069000 & 0.010410065 & 0.000484937\\\\\n",
       "\t34 & 0.004470928 & 0.004333828 & 0.000201159 & 0.001951171 & 0.000000000\\\\\n",
       "\t35 & 0.000504340 & 0.002660000 & 0.000000000 & 0.000772434 & 0.000000000\\\\\n",
       "\t36 & 0.003767551 & 0.009470000 & 0.000000000 & 0.002650000 & 0.000000000\\\\\n",
       "\\end{tabular}\n"
      ],
      "text/markdown": [
       "\n",
       "| <!--/--> | mass_400 | mass_500 | mass_600 | mass_700 | mass_800 |\n",
       "|---|---|---|---|---|---|\n",
       "| 31 | 0.000654335 | 0.003736275 | 0.000000000 | 0.000832270 | 0.000000000 |\n",
       "| 32 | 0.001902661 | 0.007220000 | 0.000000000 | 0.003141999 | 0.000000000 |\n",
       "| 33 | 0.005683259 | 0.006810000 | 0.000069000 | 0.010410065 | 0.000484937 |\n",
       "| 34 | 0.004470928 | 0.004333828 | 0.000201159 | 0.001951171 | 0.000000000 |\n",
       "| 35 | 0.000504340 | 0.002660000 | 0.000000000 | 0.000772434 | 0.000000000 |\n",
       "| 36 | 0.003767551 | 0.009470000 | 0.000000000 | 0.002650000 | 0.000000000 |\n",
       "\n"
      ],
      "text/plain": [
       "   mass_400    mass_500    mass_600    mass_700    mass_800   \n",
       "31 0.000654335 0.003736275 0.000000000 0.000832270 0.000000000\n",
       "32 0.001902661 0.007220000 0.000000000 0.003141999 0.000000000\n",
       "33 0.005683259 0.006810000 0.000069000 0.010410065 0.000484937\n",
       "34 0.004470928 0.004333828 0.000201159 0.001951171 0.000000000\n",
       "35 0.000504340 0.002660000 0.000000000 0.000772434 0.000000000\n",
       "36 0.003767551 0.009470000 0.000000000 0.002650000 0.000000000"
      ]
     },
     "metadata": {},
     "output_type": "display_data"
    },
    {
     "data": {
      "text/html": [
       "<dl class=dl-horizontal>\n",
       "\t<dt>mass_400</dt>\n",
       "\t\t<dd>1</dd>\n",
       "\t<dt>mass_500</dt>\n",
       "\t\t<dd>2</dd>\n",
       "\t<dt>mass_600</dt>\n",
       "\t\t<dd>3</dd>\n",
       "\t<dt>mass_700</dt>\n",
       "\t\t<dd>4</dd>\n",
       "\t<dt>mass_800</dt>\n",
       "\t\t<dd>5</dd>\n",
       "</dl>\n"
      ],
      "text/latex": [
       "\\begin{description*}\n",
       "\\item[mass\\textbackslash{}\\_400] 1\n",
       "\\item[mass\\textbackslash{}\\_500] 2\n",
       "\\item[mass\\textbackslash{}\\_600] 3\n",
       "\\item[mass\\textbackslash{}\\_700] 4\n",
       "\\item[mass\\textbackslash{}\\_800] 5\n",
       "\\end{description*}\n"
      ],
      "text/markdown": [
       "mass_400\n",
       ":   1mass_500\n",
       ":   2mass_600\n",
       ":   3mass_700\n",
       ":   4mass_800\n",
       ":   5\n",
       "\n"
      ],
      "text/plain": [
       "mass_400 mass_500 mass_600 mass_700 mass_800 \n",
       "       1        2        3        4        5 "
      ]
     },
     "metadata": {},
     "output_type": "display_data"
    },
    {
     "data": {
      "text/html": [
       "<table>\n",
       "<thead><tr><th></th><th scope=col>mass_400</th><th scope=col>mass_500</th><th scope=col>mass_600</th><th scope=col>mass_700</th><th scope=col>mass_800</th></tr></thead>\n",
       "<tbody>\n",
       "\t<tr><th scope=row>31</th><td>0.000654335</td><td>0.003736275</td><td>0.000000000</td><td>0.000832270</td><td>0.000000000</td></tr>\n",
       "\t<tr><th scope=row>32</th><td>0.001902661</td><td>0.007220000</td><td>0.000000000</td><td>0.003141999</td><td>0.000000000</td></tr>\n",
       "\t<tr><th scope=row>33</th><td>0.005683259</td><td>0.006810000</td><td>0.000069000</td><td>0.010410065</td><td>0.000484937</td></tr>\n",
       "\t<tr><th scope=row>34</th><td>0.004470928</td><td>0.004333828</td><td>0.000201159</td><td>0.001951171</td><td>0.000000000</td></tr>\n",
       "\t<tr><th scope=row>35</th><td>0.000504340</td><td>0.002660000</td><td>0.000000000</td><td>0.000772434</td><td>0.000000000</td></tr>\n",
       "\t<tr><th scope=row>36</th><td>0.003767551</td><td>0.009470000</td><td>0.000000000</td><td>0.002650000</td><td>0.000000000</td></tr>\n",
       "\t<tr><th scope=row>37</th><td>0.001517949</td><td>0.011335882</td><td>0.000000000</td><td>0.005563492</td><td>0.000000000</td></tr>\n",
       "\t<tr><th scope=row>38</th><td>0.001959477</td><td>0.004740000</td><td>0.000112444</td><td>0.003329130</td><td>0.000000000</td></tr>\n",
       "\t<tr><th scope=row>39</th><td>0.002994415</td><td>0.011536300</td><td>0.000000000</td><td>0.000541951</td><td>0.000000000</td></tr>\n",
       "\t<tr><th scope=row>40</th><td>0.000303758</td><td>0.002895742</td><td>0.000000000</td><td>0.000888971</td><td>0.000000000</td></tr>\n",
       "\t<tr><th scope=row>41</th><td>0.004739988</td><td>0.011400000</td><td>0.000000000</td><td>0.012963938</td><td>0.000082200</td></tr>\n",
       "\t<tr><th scope=row>42</th><td>0.000859999</td><td>0.004180000</td><td>0.000000000</td><td>0.000440698</td><td>0.000000000</td></tr>\n",
       "\t<tr><th scope=row>43</th><td>0.001795163</td><td>0.003165380</td><td>0.000113822</td><td>0.002203896</td><td>0.000000000</td></tr>\n",
       "\t<tr><th scope=row>44</th><td>0.003370242</td><td>0.003699897</td><td>0.000000000</td><td>0.003042212</td><td>0.000022300</td></tr>\n",
       "\t<tr><th scope=row>45</th><td>0.001475775</td><td>0.005550000</td><td>0.000000000</td><td>0.001720000</td><td>0.000000000</td></tr>\n",
       "\t<tr><th scope=row>76</th><td>0.010463229</td><td>0.020277467</td><td>0.000031200</td><td>0.004249540</td><td>0.000000000</td></tr>\n",
       "\t<tr><th scope=row>77</th><td>0.011081501</td><td>0.025045727</td><td>0.000048800</td><td>0.008411663</td><td>0.000000000</td></tr>\n",
       "\t<tr><th scope=row>78</th><td>0.003708060</td><td>0.014433959</td><td>0.000044400</td><td>0.000000000</td><td>0.000000000</td></tr>\n",
       "\t<tr><th scope=row>79</th><td>0.000650048</td><td>0.004210000</td><td>0.000031600</td><td>0.015013471</td><td>0.000326066</td></tr>\n",
       "\t<tr><th scope=row>80</th><td>0.007332559</td><td>0.021689420</td><td>0.000000000</td><td>0.008542580</td><td>0.000000000</td></tr>\n",
       "\t<tr><th scope=row>81</th><td>0.002130889</td><td>0.003407951</td><td>0.000000000</td><td>0.009411127</td><td>0.000032000</td></tr>\n",
       "\t<tr><th scope=row>82</th><td>0.003501736</td><td>0.005342402</td><td>0.000000000</td><td>0.002292800</td><td>0.000000000</td></tr>\n",
       "\t<tr><th scope=row>83</th><td>0.002284882</td><td>0.007417578</td><td>0.000040400</td><td>0.008480000</td><td>0.000000000</td></tr>\n",
       "\t<tr><th scope=row>84</th><td>0.000998424</td><td>0.002437253</td><td>0.000000000</td><td>0.002812995</td><td>0.000000000</td></tr>\n",
       "\t<tr><th scope=row>85</th><td>0.003766915</td><td>0.011081875</td><td>0.000051800</td><td>0.000629076</td><td>0.000000000</td></tr>\n",
       "\t<tr><th scope=row>86</th><td>0.011338511</td><td>0.018123618</td><td>0.000527748</td><td>0.000000000</td><td>0.000000000</td></tr>\n",
       "\t<tr><th scope=row>87</th><td>0.004311037</td><td>0.005870000</td><td>0.000038100</td><td>0.000900420</td><td>0.000000000</td></tr>\n",
       "\t<tr><th scope=row>88</th><td>0.001433183</td><td>0.005537921</td><td>0.000000000</td><td>0.004315050</td><td>0.000000000</td></tr>\n",
       "\t<tr><th scope=row>89</th><td>0.000830768</td><td>0.004719166</td><td>0.000000000</td><td>0.002219404</td><td>0.000000000</td></tr>\n",
       "\t<tr><th scope=row>90</th><td>0.005090592</td><td>0.008840000</td><td>0.000362419</td><td>0.000000000</td><td>0.000000000</td></tr>\n",
       "</tbody>\n",
       "</table>\n"
      ],
      "text/latex": [
       "\\begin{tabular}{r|lllll}\n",
       "  & mass\\_400 & mass\\_500 & mass\\_600 & mass\\_700 & mass\\_800\\\\\n",
       "\\hline\n",
       "\t31 & 0.000654335 & 0.003736275 & 0.000000000 & 0.000832270 & 0.000000000\\\\\n",
       "\t32 & 0.001902661 & 0.007220000 & 0.000000000 & 0.003141999 & 0.000000000\\\\\n",
       "\t33 & 0.005683259 & 0.006810000 & 0.000069000 & 0.010410065 & 0.000484937\\\\\n",
       "\t34 & 0.004470928 & 0.004333828 & 0.000201159 & 0.001951171 & 0.000000000\\\\\n",
       "\t35 & 0.000504340 & 0.002660000 & 0.000000000 & 0.000772434 & 0.000000000\\\\\n",
       "\t36 & 0.003767551 & 0.009470000 & 0.000000000 & 0.002650000 & 0.000000000\\\\\n",
       "\t37 & 0.001517949 & 0.011335882 & 0.000000000 & 0.005563492 & 0.000000000\\\\\n",
       "\t38 & 0.001959477 & 0.004740000 & 0.000112444 & 0.003329130 & 0.000000000\\\\\n",
       "\t39 & 0.002994415 & 0.011536300 & 0.000000000 & 0.000541951 & 0.000000000\\\\\n",
       "\t40 & 0.000303758 & 0.002895742 & 0.000000000 & 0.000888971 & 0.000000000\\\\\n",
       "\t41 & 0.004739988 & 0.011400000 & 0.000000000 & 0.012963938 & 0.000082200\\\\\n",
       "\t42 & 0.000859999 & 0.004180000 & 0.000000000 & 0.000440698 & 0.000000000\\\\\n",
       "\t43 & 0.001795163 & 0.003165380 & 0.000113822 & 0.002203896 & 0.000000000\\\\\n",
       "\t44 & 0.003370242 & 0.003699897 & 0.000000000 & 0.003042212 & 0.000022300\\\\\n",
       "\t45 & 0.001475775 & 0.005550000 & 0.000000000 & 0.001720000 & 0.000000000\\\\\n",
       "\t76 & 0.010463229 & 0.020277467 & 0.000031200 & 0.004249540 & 0.000000000\\\\\n",
       "\t77 & 0.011081501 & 0.025045727 & 0.000048800 & 0.008411663 & 0.000000000\\\\\n",
       "\t78 & 0.003708060 & 0.014433959 & 0.000044400 & 0.000000000 & 0.000000000\\\\\n",
       "\t79 & 0.000650048 & 0.004210000 & 0.000031600 & 0.015013471 & 0.000326066\\\\\n",
       "\t80 & 0.007332559 & 0.021689420 & 0.000000000 & 0.008542580 & 0.000000000\\\\\n",
       "\t81 & 0.002130889 & 0.003407951 & 0.000000000 & 0.009411127 & 0.000032000\\\\\n",
       "\t82 & 0.003501736 & 0.005342402 & 0.000000000 & 0.002292800 & 0.000000000\\\\\n",
       "\t83 & 0.002284882 & 0.007417578 & 0.000040400 & 0.008480000 & 0.000000000\\\\\n",
       "\t84 & 0.000998424 & 0.002437253 & 0.000000000 & 0.002812995 & 0.000000000\\\\\n",
       "\t85 & 0.003766915 & 0.011081875 & 0.000051800 & 0.000629076 & 0.000000000\\\\\n",
       "\t86 & 0.011338511 & 0.018123618 & 0.000527748 & 0.000000000 & 0.000000000\\\\\n",
       "\t87 & 0.004311037 & 0.005870000 & 0.000038100 & 0.000900420 & 0.000000000\\\\\n",
       "\t88 & 0.001433183 & 0.005537921 & 0.000000000 & 0.004315050 & 0.000000000\\\\\n",
       "\t89 & 0.000830768 & 0.004719166 & 0.000000000 & 0.002219404 & 0.000000000\\\\\n",
       "\t90 & 0.005090592 & 0.008840000 & 0.000362419 & 0.000000000 & 0.000000000\\\\\n",
       "\\end{tabular}\n"
      ],
      "text/markdown": [
       "\n",
       "| <!--/--> | mass_400 | mass_500 | mass_600 | mass_700 | mass_800 |\n",
       "|---|---|---|---|---|---|\n",
       "| 31 | 0.000654335 | 0.003736275 | 0.000000000 | 0.000832270 | 0.000000000 |\n",
       "| 32 | 0.001902661 | 0.007220000 | 0.000000000 | 0.003141999 | 0.000000000 |\n",
       "| 33 | 0.005683259 | 0.006810000 | 0.000069000 | 0.010410065 | 0.000484937 |\n",
       "| 34 | 0.004470928 | 0.004333828 | 0.000201159 | 0.001951171 | 0.000000000 |\n",
       "| 35 | 0.000504340 | 0.002660000 | 0.000000000 | 0.000772434 | 0.000000000 |\n",
       "| 36 | 0.003767551 | 0.009470000 | 0.000000000 | 0.002650000 | 0.000000000 |\n",
       "| 37 | 0.001517949 | 0.011335882 | 0.000000000 | 0.005563492 | 0.000000000 |\n",
       "| 38 | 0.001959477 | 0.004740000 | 0.000112444 | 0.003329130 | 0.000000000 |\n",
       "| 39 | 0.002994415 | 0.011536300 | 0.000000000 | 0.000541951 | 0.000000000 |\n",
       "| 40 | 0.000303758 | 0.002895742 | 0.000000000 | 0.000888971 | 0.000000000 |\n",
       "| 41 | 0.004739988 | 0.011400000 | 0.000000000 | 0.012963938 | 0.000082200 |\n",
       "| 42 | 0.000859999 | 0.004180000 | 0.000000000 | 0.000440698 | 0.000000000 |\n",
       "| 43 | 0.001795163 | 0.003165380 | 0.000113822 | 0.002203896 | 0.000000000 |\n",
       "| 44 | 0.003370242 | 0.003699897 | 0.000000000 | 0.003042212 | 0.000022300 |\n",
       "| 45 | 0.001475775 | 0.005550000 | 0.000000000 | 0.001720000 | 0.000000000 |\n",
       "| 76 | 0.010463229 | 0.020277467 | 0.000031200 | 0.004249540 | 0.000000000 |\n",
       "| 77 | 0.011081501 | 0.025045727 | 0.000048800 | 0.008411663 | 0.000000000 |\n",
       "| 78 | 0.003708060 | 0.014433959 | 0.000044400 | 0.000000000 | 0.000000000 |\n",
       "| 79 | 0.000650048 | 0.004210000 | 0.000031600 | 0.015013471 | 0.000326066 |\n",
       "| 80 | 0.007332559 | 0.021689420 | 0.000000000 | 0.008542580 | 0.000000000 |\n",
       "| 81 | 0.002130889 | 0.003407951 | 0.000000000 | 0.009411127 | 0.000032000 |\n",
       "| 82 | 0.003501736 | 0.005342402 | 0.000000000 | 0.002292800 | 0.000000000 |\n",
       "| 83 | 0.002284882 | 0.007417578 | 0.000040400 | 0.008480000 | 0.000000000 |\n",
       "| 84 | 0.000998424 | 0.002437253 | 0.000000000 | 0.002812995 | 0.000000000 |\n",
       "| 85 | 0.003766915 | 0.011081875 | 0.000051800 | 0.000629076 | 0.000000000 |\n",
       "| 86 | 0.011338511 | 0.018123618 | 0.000527748 | 0.000000000 | 0.000000000 |\n",
       "| 87 | 0.004311037 | 0.005870000 | 0.000038100 | 0.000900420 | 0.000000000 |\n",
       "| 88 | 0.001433183 | 0.005537921 | 0.000000000 | 0.004315050 | 0.000000000 |\n",
       "| 89 | 0.000830768 | 0.004719166 | 0.000000000 | 0.002219404 | 0.000000000 |\n",
       "| 90 | 0.005090592 | 0.008840000 | 0.000362419 | 0.000000000 | 0.000000000 |\n",
       "\n"
      ],
      "text/plain": [
       "   mass_400    mass_500    mass_600    mass_700    mass_800   \n",
       "31 0.000654335 0.003736275 0.000000000 0.000832270 0.000000000\n",
       "32 0.001902661 0.007220000 0.000000000 0.003141999 0.000000000\n",
       "33 0.005683259 0.006810000 0.000069000 0.010410065 0.000484937\n",
       "34 0.004470928 0.004333828 0.000201159 0.001951171 0.000000000\n",
       "35 0.000504340 0.002660000 0.000000000 0.000772434 0.000000000\n",
       "36 0.003767551 0.009470000 0.000000000 0.002650000 0.000000000\n",
       "37 0.001517949 0.011335882 0.000000000 0.005563492 0.000000000\n",
       "38 0.001959477 0.004740000 0.000112444 0.003329130 0.000000000\n",
       "39 0.002994415 0.011536300 0.000000000 0.000541951 0.000000000\n",
       "40 0.000303758 0.002895742 0.000000000 0.000888971 0.000000000\n",
       "41 0.004739988 0.011400000 0.000000000 0.012963938 0.000082200\n",
       "42 0.000859999 0.004180000 0.000000000 0.000440698 0.000000000\n",
       "43 0.001795163 0.003165380 0.000113822 0.002203896 0.000000000\n",
       "44 0.003370242 0.003699897 0.000000000 0.003042212 0.000022300\n",
       "45 0.001475775 0.005550000 0.000000000 0.001720000 0.000000000\n",
       "76 0.010463229 0.020277467 0.000031200 0.004249540 0.000000000\n",
       "77 0.011081501 0.025045727 0.000048800 0.008411663 0.000000000\n",
       "78 0.003708060 0.014433959 0.000044400 0.000000000 0.000000000\n",
       "79 0.000650048 0.004210000 0.000031600 0.015013471 0.000326066\n",
       "80 0.007332559 0.021689420 0.000000000 0.008542580 0.000000000\n",
       "81 0.002130889 0.003407951 0.000000000 0.009411127 0.000032000\n",
       "82 0.003501736 0.005342402 0.000000000 0.002292800 0.000000000\n",
       "83 0.002284882 0.007417578 0.000040400 0.008480000 0.000000000\n",
       "84 0.000998424 0.002437253 0.000000000 0.002812995 0.000000000\n",
       "85 0.003766915 0.011081875 0.000051800 0.000629076 0.000000000\n",
       "86 0.011338511 0.018123618 0.000527748 0.000000000 0.000000000\n",
       "87 0.004311037 0.005870000 0.000038100 0.000900420 0.000000000\n",
       "88 0.001433183 0.005537921 0.000000000 0.004315050 0.000000000\n",
       "89 0.000830768 0.004719166 0.000000000 0.002219404 0.000000000\n",
       "90 0.005090592 0.008840000 0.000362419 0.000000000 0.000000000"
      ]
     },
     "metadata": {},
     "output_type": "display_data"
    },
    {
     "data": {
      "text/html": [
       "<table>\n",
       "<thead><tr><th></th><th scope=col>filename</th><th scope=col>MouseID</th><th scope=col>Treatmentgroup</th><th scope=col>status</th><th scope=col>DPI</th><th scope=col>organ</th><th scope=col>well_position</th><th scope=col>plate</th><th scope=col>mass_400</th><th scope=col>mass_500</th><th scope=col>mass_600</th><th scope=col>mass_700</th><th scope=col>mass_800</th></tr></thead>\n",
       "<tbody>\n",
       "\t<tr><th scope=row>31</th><td>X511_Group1C_142dpi_RA_161_G_A1_P124.mzXML</td><td>511                                       </td><td>Group1C                                   </td><td>naive                                     </td><td>142dpi                                    </td><td>RA                                        </td><td>A1                                        </td><td>P124                                      </td><td>0.000654335                               </td><td>0.003736275                               </td><td>0.000000000                               </td><td>0.000832270                               </td><td>0.000000000                               </td></tr>\n",
       "\t<tr><th scope=row>32</th><td>X512_Group1C_142dpi_RA_162_G_A2_P124.mzXML</td><td>512                                       </td><td>Group1C                                   </td><td>naive                                     </td><td>142dpi                                    </td><td>RA                                        </td><td>A2                                        </td><td>P124                                      </td><td>0.001902661                               </td><td>0.007220000                               </td><td>0.000000000                               </td><td>0.003141999                               </td><td>0.000000000                               </td></tr>\n",
       "\t<tr><th scope=row>33</th><td>X513_Group1C_142dpi_RA_163_G_A3_P124.mzXML</td><td>513                                       </td><td>Group1C                                   </td><td>naive                                     </td><td>142dpi                                    </td><td>RA                                        </td><td>A3                                        </td><td>P124                                      </td><td>0.005683259                               </td><td>0.006810000                               </td><td>0.000069000                               </td><td>0.010410065                               </td><td>0.000484937                               </td></tr>\n",
       "\t<tr><th scope=row>34</th><td>X514_Group1C_142dpi_RA_164_G_A4_P124.mzXML</td><td>514                                       </td><td>Group1C                                   </td><td>naive                                     </td><td>142dpi                                    </td><td>RA                                        </td><td>A4                                        </td><td>P124                                      </td><td>0.004470928                               </td><td>0.004333828                               </td><td>0.000201159                               </td><td>0.001951171                               </td><td>0.000000000                               </td></tr>\n",
       "\t<tr><th scope=row>35</th><td>X515_Group1C_142dpi_RA_165_G_A5_P124.mzXML</td><td>515                                       </td><td>Group1C                                   </td><td>naive                                     </td><td>142dpi                                    </td><td>RA                                        </td><td>A5                                        </td><td>P124                                      </td><td>0.000504340                               </td><td>0.002660000                               </td><td>0.000000000                               </td><td>0.000772434                               </td><td>0.000000000                               </td></tr>\n",
       "\t<tr><th scope=row>36</th><td>X531_Group1C_142dpi_RA_166_G_A6_P124.mzXML</td><td>531                                       </td><td>Group1C                                   </td><td>naive                                     </td><td>142dpi                                    </td><td>RA                                        </td><td>A6                                        </td><td>P124                                      </td><td>0.003767551                               </td><td>0.009470000                               </td><td>0.000000000                               </td><td>0.002650000                               </td><td>0.000000000                               </td></tr>\n",
       "</tbody>\n",
       "</table>\n"
      ],
      "text/latex": [
       "\\begin{tabular}{r|lllllllllllll}\n",
       "  & filename & MouseID & Treatmentgroup & status & DPI & organ & well\\_position & plate & mass\\_400 & mass\\_500 & mass\\_600 & mass\\_700 & mass\\_800\\\\\n",
       "\\hline\n",
       "\t31 & X511\\_Group1C\\_142dpi\\_RA\\_161\\_G\\_A1\\_P124.mzXML & 511                                                      & Group1C                                                  & naive                                                    & 142dpi                                                   & RA                                                       & A1                                                       & P124                                                     & 0.000654335                                              & 0.003736275                                              & 0.000000000                                              & 0.000832270                                              & 0.000000000                                             \\\\\n",
       "\t32 & X512\\_Group1C\\_142dpi\\_RA\\_162\\_G\\_A2\\_P124.mzXML & 512                                                      & Group1C                                                  & naive                                                    & 142dpi                                                   & RA                                                       & A2                                                       & P124                                                     & 0.001902661                                              & 0.007220000                                              & 0.000000000                                              & 0.003141999                                              & 0.000000000                                             \\\\\n",
       "\t33 & X513\\_Group1C\\_142dpi\\_RA\\_163\\_G\\_A3\\_P124.mzXML & 513                                                      & Group1C                                                  & naive                                                    & 142dpi                                                   & RA                                                       & A3                                                       & P124                                                     & 0.005683259                                              & 0.006810000                                              & 0.000069000                                              & 0.010410065                                              & 0.000484937                                             \\\\\n",
       "\t34 & X514\\_Group1C\\_142dpi\\_RA\\_164\\_G\\_A4\\_P124.mzXML & 514                                                      & Group1C                                                  & naive                                                    & 142dpi                                                   & RA                                                       & A4                                                       & P124                                                     & 0.004470928                                              & 0.004333828                                              & 0.000201159                                              & 0.001951171                                              & 0.000000000                                             \\\\\n",
       "\t35 & X515\\_Group1C\\_142dpi\\_RA\\_165\\_G\\_A5\\_P124.mzXML & 515                                                      & Group1C                                                  & naive                                                    & 142dpi                                                   & RA                                                       & A5                                                       & P124                                                     & 0.000504340                                              & 0.002660000                                              & 0.000000000                                              & 0.000772434                                              & 0.000000000                                             \\\\\n",
       "\t36 & X531\\_Group1C\\_142dpi\\_RA\\_166\\_G\\_A6\\_P124.mzXML & 531                                                      & Group1C                                                  & naive                                                    & 142dpi                                                   & RA                                                       & A6                                                       & P124                                                     & 0.003767551                                              & 0.009470000                                              & 0.000000000                                              & 0.002650000                                              & 0.000000000                                             \\\\\n",
       "\\end{tabular}\n"
      ],
      "text/markdown": [
       "\n",
       "| <!--/--> | filename | MouseID | Treatmentgroup | status | DPI | organ | well_position | plate | mass_400 | mass_500 | mass_600 | mass_700 | mass_800 |\n",
       "|---|---|---|---|---|---|---|---|---|---|---|---|---|---|\n",
       "| 31 | X511_Group1C_142dpi_RA_161_G_A1_P124.mzXML | 511                                        | Group1C                                    | naive                                      | 142dpi                                     | RA                                         | A1                                         | P124                                       | 0.000654335                                | 0.003736275                                | 0.000000000                                | 0.000832270                                | 0.000000000                                |\n",
       "| 32 | X512_Group1C_142dpi_RA_162_G_A2_P124.mzXML | 512                                        | Group1C                                    | naive                                      | 142dpi                                     | RA                                         | A2                                         | P124                                       | 0.001902661                                | 0.007220000                                | 0.000000000                                | 0.003141999                                | 0.000000000                                |\n",
       "| 33 | X513_Group1C_142dpi_RA_163_G_A3_P124.mzXML | 513                                        | Group1C                                    | naive                                      | 142dpi                                     | RA                                         | A3                                         | P124                                       | 0.005683259                                | 0.006810000                                | 0.000069000                                | 0.010410065                                | 0.000484937                                |\n",
       "| 34 | X514_Group1C_142dpi_RA_164_G_A4_P124.mzXML | 514                                        | Group1C                                    | naive                                      | 142dpi                                     | RA                                         | A4                                         | P124                                       | 0.004470928                                | 0.004333828                                | 0.000201159                                | 0.001951171                                | 0.000000000                                |\n",
       "| 35 | X515_Group1C_142dpi_RA_165_G_A5_P124.mzXML | 515                                        | Group1C                                    | naive                                      | 142dpi                                     | RA                                         | A5                                         | P124                                       | 0.000504340                                | 0.002660000                                | 0.000000000                                | 0.000772434                                | 0.000000000                                |\n",
       "| 36 | X531_Group1C_142dpi_RA_166_G_A6_P124.mzXML | 531                                        | Group1C                                    | naive                                      | 142dpi                                     | RA                                         | A6                                         | P124                                       | 0.003767551                                | 0.009470000                                | 0.000000000                                | 0.002650000                                | 0.000000000                                |\n",
       "\n"
      ],
      "text/plain": [
       "   filename                                   MouseID Treatmentgroup status\n",
       "31 X511_Group1C_142dpi_RA_161_G_A1_P124.mzXML 511     Group1C        naive \n",
       "32 X512_Group1C_142dpi_RA_162_G_A2_P124.mzXML 512     Group1C        naive \n",
       "33 X513_Group1C_142dpi_RA_163_G_A3_P124.mzXML 513     Group1C        naive \n",
       "34 X514_Group1C_142dpi_RA_164_G_A4_P124.mzXML 514     Group1C        naive \n",
       "35 X515_Group1C_142dpi_RA_165_G_A5_P124.mzXML 515     Group1C        naive \n",
       "36 X531_Group1C_142dpi_RA_166_G_A6_P124.mzXML 531     Group1C        naive \n",
       "   DPI    organ well_position plate mass_400    mass_500    mass_600   \n",
       "31 142dpi RA    A1            P124  0.000654335 0.003736275 0.000000000\n",
       "32 142dpi RA    A2            P124  0.001902661 0.007220000 0.000000000\n",
       "33 142dpi RA    A3            P124  0.005683259 0.006810000 0.000069000\n",
       "34 142dpi RA    A4            P124  0.004470928 0.004333828 0.000201159\n",
       "35 142dpi RA    A5            P124  0.000504340 0.002660000 0.000000000\n",
       "36 142dpi RA    A6            P124  0.003767551 0.009470000 0.000000000\n",
       "   mass_700    mass_800   \n",
       "31 0.000832270 0.000000000\n",
       "32 0.003141999 0.000000000\n",
       "33 0.010410065 0.000484937\n",
       "34 0.001951171 0.000000000\n",
       "35 0.000772434 0.000000000\n",
       "36 0.002650000 0.000000000"
      ]
     },
     "metadata": {},
     "output_type": "display_data"
    },
    {
     "data": {
      "text/html": [
       "<ol class=list-inline>\n",
       "\t<li>30</li>\n",
       "\t<li>13</li>\n",
       "</ol>\n"
      ],
      "text/latex": [
       "\\begin{enumerate*}\n",
       "\\item 30\n",
       "\\item 13\n",
       "\\end{enumerate*}\n"
      ],
      "text/markdown": [
       "1. 30\n",
       "2. 13\n",
       "\n",
       "\n"
      ],
      "text/plain": [
       "[1] 30 13"
      ]
     },
     "metadata": {},
     "output_type": "display_data"
    },
    {
     "data": {
      "text/html": [
       "<ol class=list-inline>\n",
       "\t<li>30</li>\n",
       "\t<li>5</li>\n",
       "</ol>\n"
      ],
      "text/latex": [
       "\\begin{enumerate*}\n",
       "\\item 30\n",
       "\\item 5\n",
       "\\end{enumerate*}\n"
      ],
      "text/markdown": [
       "1. 30\n",
       "2. 5\n",
       "\n",
       "\n"
      ],
      "text/plain": [
       "[1] 30  5"
      ]
     },
     "metadata": {},
     "output_type": "display_data"
    },
    {
     "data": {
      "text/html": [
       "<ol class=list-inline>\n",
       "\t<li>30</li>\n",
       "\t<li>5</li>\n",
       "</ol>\n"
      ],
      "text/latex": [
       "\\begin{enumerate*}\n",
       "\\item 30\n",
       "\\item 5\n",
       "\\end{enumerate*}\n"
      ],
      "text/markdown": [
       "1. 30\n",
       "2. 5\n",
       "\n",
       "\n"
      ],
      "text/plain": [
       "[1] 30  5"
      ]
     },
     "metadata": {},
     "output_type": "display_data"
    },
    {
     "data": {
      "text/html": [
       "<ol class=list-inline>\n",
       "\t<li>30</li>\n",
       "\t<li>13</li>\n",
       "</ol>\n"
      ],
      "text/latex": [
       "\\begin{enumerate*}\n",
       "\\item 30\n",
       "\\item 13\n",
       "\\end{enumerate*}\n"
      ],
      "text/markdown": [
       "1. 30\n",
       "2. 13\n",
       "\n",
       "\n"
      ],
      "text/plain": [
       "[1] 30 13"
      ]
     },
     "metadata": {},
     "output_type": "display_data"
    }
   ],
   "source": [
    "noMeta<-features_pos[,9:13]\n",
    "head(noMeta)\n",
    "not_zero<-which(colSums(noMeta) != 0)\n",
    "head(not_zero)\n",
    "nonzero <- noMeta[, not_zero]\n",
    "nonzero\n",
    "nonzero_wMeta<-cbind(features_pos[,1:8], nonzero)\n",
    "head(nonzero_wMeta)\n",
    "dim(features_pos)\n",
    "dim(noMeta)\n",
    "dim(nonzero)\n",
    "dim(nonzero_wMeta)"
   ]
  },
  {
   "cell_type": "code",
   "execution_count": 5,
   "metadata": {
    "scrolled": true
   },
   "outputs": [
    {
     "name": "stderr",
     "output_type": "stream",
     "text": [
      "Warning message in wilcox.test.default(x = c(0, 0, 6.9e-05, 0.000201159, 0, 0, 0, :\n",
      "\"cannot compute exact p-value with ties\"Warning message in wilcox.test.default(x = c(0.00083227, 0.003141999, 0.010410065, :\n",
      "\"cannot compute exact p-value with ties\"Warning message in wilcox.test.default(x = c(0, 0, 0.000484937, 0, 0, 0, 0, 0, 0, :\n",
      "\"cannot compute exact p-value with ties\""
     ]
    },
    {
     "data": {
      "text/html": [
       "<ol class=list-inline>\n",
       "\t<li>0.126147401015694</li>\n",
       "\t<li>0.126147401015694</li>\n",
       "\t<li>0.215756659722366</li>\n",
       "\t<li>0.678167266576102</li>\n",
       "\t<li>0.654749244038902</li>\n",
       "</ol>\n"
      ],
      "text/latex": [
       "\\begin{enumerate*}\n",
       "\\item 0.126147401015694\n",
       "\\item 0.126147401015694\n",
       "\\item 0.215756659722366\n",
       "\\item 0.678167266576102\n",
       "\\item 0.654749244038902\n",
       "\\end{enumerate*}\n"
      ],
      "text/markdown": [
       "1. 0.126147401015694\n",
       "2. 0.126147401015694\n",
       "3. 0.215756659722366\n",
       "4. 0.678167266576102\n",
       "5. 0.654749244038902\n",
       "\n",
       "\n"
      ],
      "text/plain": [
       "[1] 0.1261474 0.1261474 0.2157567 0.6781673 0.6547492"
      ]
     },
     "metadata": {},
     "output_type": "display_data"
    },
    {
     "data": {
      "text/html": [
       "<ol class=list-inline>\n",
       "\t<li>0.315368502539236</li>\n",
       "\t<li>0.315368502539236</li>\n",
       "\t<li>0.35959443287061</li>\n",
       "\t<li>0.678167266576102</li>\n",
       "\t<li>0.678167266576102</li>\n",
       "</ol>\n"
      ],
      "text/latex": [
       "\\begin{enumerate*}\n",
       "\\item 0.315368502539236\n",
       "\\item 0.315368502539236\n",
       "\\item 0.35959443287061\n",
       "\\item 0.678167266576102\n",
       "\\item 0.678167266576102\n",
       "\\end{enumerate*}\n"
      ],
      "text/markdown": [
       "1. 0.315368502539236\n",
       "2. 0.315368502539236\n",
       "3. 0.35959443287061\n",
       "4. 0.678167266576102\n",
       "5. 0.678167266576102\n",
       "\n",
       "\n"
      ],
      "text/plain": [
       "[1] 0.3153685 0.3153685 0.3595944 0.6781673 0.6781673"
      ]
     },
     "metadata": {},
     "output_type": "display_data"
    }
   ],
   "source": [
    "pval<-c()\n",
    "\n",
    "for (i in 9:ncol(nonzero_wMeta)) \n",
    "pval<-c(pval,wilcox.test(nonzero_wMeta[,i]~nonzero_wMeta$Treatmentgroup)$p.value)\n",
    "head(pval)\n",
    "pAdj <- p.adjust(pval, method = c(\"fdr\"), n=length(pval)) \n",
    "head(pAdj) \n",
    "\n"
   ]
  },
  {
   "cell_type": "code",
   "execution_count": 6,
   "metadata": {
    "scrolled": true
   },
   "outputs": [
    {
     "data": {
      "text/html": [
       "5"
      ],
      "text/latex": [
       "5"
      ],
      "text/markdown": [
       "5"
      ],
      "text/plain": [
       "[1] 5"
      ]
     },
     "metadata": {},
     "output_type": "display_data"
    }
   ],
   "source": [
    "length(pval)"
   ]
  },
  {
   "cell_type": "code",
   "execution_count": 7,
   "metadata": {
    "scrolled": true
   },
   "outputs": [
    {
     "data": {
      "text/html": [
       "5"
      ],
      "text/latex": [
       "5"
      ],
      "text/markdown": [
       "5"
      ],
      "text/plain": [
       "[1] 5"
      ]
     },
     "metadata": {},
     "output_type": "display_data"
    }
   ],
   "source": [
    "length(pAdj)"
   ]
  },
  {
   "cell_type": "code",
   "execution_count": 8,
   "metadata": {},
   "outputs": [
    {
     "data": {
      "text/html": [
       "<ol class=list-inline>\n",
       "\t<li>2</li>\n",
       "\t<li>5</li>\n",
       "</ol>\n"
      ],
      "text/latex": [
       "\\begin{enumerate*}\n",
       "\\item 2\n",
       "\\item 5\n",
       "\\end{enumerate*}\n"
      ],
      "text/markdown": [
       "1. 2\n",
       "2. 5\n",
       "\n",
       "\n"
      ],
      "text/plain": [
       "[1] 2 5"
      ]
     },
     "metadata": {},
     "output_type": "display_data"
    },
    {
     "data": {
      "text/html": [
       "<table>\n",
       "<thead><tr><th></th><th scope=col>mass_400</th><th scope=col>mass_500</th><th scope=col>mass_600</th></tr></thead>\n",
       "<tbody>\n",
       "\t<tr><th scope=row>Group1C</th><td>0.002399989 </td><td>0.00618222  </td><td>3.309500e-05</td></tr>\n",
       "\t<tr><th scope=row>Group3E</th><td>0.004594822 </td><td>0.01056229  </td><td>7.843113e-05</td></tr>\n",
       "</tbody>\n",
       "</table>\n"
      ],
      "text/latex": [
       "\\begin{tabular}{r|lll}\n",
       "  & mass\\_400 & mass\\_500 & mass\\_600\\\\\n",
       "\\hline\n",
       "\tGroup1C & 0.002399989  & 0.00618222   & 3.309500e-05\\\\\n",
       "\tGroup3E & 0.004594822  & 0.01056229   & 7.843113e-05\\\\\n",
       "\\end{tabular}\n"
      ],
      "text/markdown": [
       "\n",
       "| <!--/--> | mass_400 | mass_500 | mass_600 |\n",
       "|---|---|---|---|\n",
       "| Group1C | 0.002399989  | 0.00618222   | 3.309500e-05 |\n",
       "| Group3E | 0.004594822  | 0.01056229   | 7.843113e-05 |\n",
       "\n"
      ],
      "text/plain": [
       "        mass_400    mass_500   mass_600    \n",
       "Group1C 0.002399989 0.00618222 3.309500e-05\n",
       "Group3E 0.004594822 0.01056229 7.843113e-05"
      ]
     },
     "metadata": {},
     "output_type": "display_data"
    },
    {
     "data": {
      "text/html": [
       "<dl class=dl-horizontal>\n",
       "\t<dt>mass_400</dt>\n",
       "\t\t<dd>0.522324737290528</dd>\n",
       "\t<dt>mass_500</dt>\n",
       "\t\t<dd>0.58531064512865</dd>\n",
       "\t<dt>mass_600</dt>\n",
       "\t\t<dd>0.421962536985738</dd>\n",
       "\t<dt>mass_700</dt>\n",
       "\t\t<dd>0.749905355568317</dd>\n",
       "\t<dt>mass_800</dt>\n",
       "\t\t<dd>1.64616858344551</dd>\n",
       "</dl>\n"
      ],
      "text/latex": [
       "\\begin{description*}\n",
       "\\item[mass\\textbackslash{}\\_400] 0.522324737290528\n",
       "\\item[mass\\textbackslash{}\\_500] 0.58531064512865\n",
       "\\item[mass\\textbackslash{}\\_600] 0.421962536985738\n",
       "\\item[mass\\textbackslash{}\\_700] 0.749905355568317\n",
       "\\item[mass\\textbackslash{}\\_800] 1.64616858344551\n",
       "\\end{description*}\n"
      ],
      "text/markdown": [
       "mass_400\n",
       ":   0.522324737290528mass_500\n",
       ":   0.58531064512865mass_600\n",
       ":   0.421962536985738mass_700\n",
       ":   0.749905355568317mass_800\n",
       ":   1.64616858344551\n",
       "\n"
      ],
      "text/plain": [
       " mass_400  mass_500  mass_600  mass_700  mass_800 \n",
       "0.5223247 0.5853106 0.4219625 0.7499054 1.6461686 "
      ]
     },
     "metadata": {},
     "output_type": "display_data"
    },
    {
     "data": {
      "text/html": [
       "<ol class=list-inline>\n",
       "\t<li>'numeric'</li>\n",
       "\t<li>'vector'</li>\n",
       "</ol>\n"
      ],
      "text/latex": [
       "\\begin{enumerate*}\n",
       "\\item 'numeric'\n",
       "\\item 'vector'\n",
       "\\end{enumerate*}\n"
      ],
      "text/markdown": [
       "1. 'numeric'\n",
       "2. 'vector'\n",
       "\n",
       "\n"
      ],
      "text/plain": [
       "[1] \"numeric\" \"vector\" "
      ]
     },
     "metadata": {},
     "output_type": "display_data"
    }
   ],
   "source": [
    "avg<- apply(nonzero_wMeta[,9:ncol(nonzero_wMeta)], 2, function(x) tapply(x, nonzero_wMeta$Treatmentgroup, function(x) mean(x))) \n",
    "\n",
    "dim(avg)\n",
    "\n",
    "avg[,1:3]\n",
    "\n",
    "fch <- apply(avg, 2, function(x) x[1]/x[2])\n",
    "\n",
    "head(fch)\n",
    "is(fch)"
   ]
  },
  {
   "cell_type": "code",
   "execution_count": 9,
   "metadata": {
    "scrolled": true
   },
   "outputs": [
    {
     "data": {
      "text/html": [
       "<dl class=dl-horizontal>\n",
       "\t<dt>mass_400</dt>\n",
       "\t\t<dd>0.522324737290528</dd>\n",
       "\t<dt>mass_500</dt>\n",
       "\t\t<dd>0.58531064512865</dd>\n",
       "\t<dt>mass_600</dt>\n",
       "\t\t<dd>0.421962536985738</dd>\n",
       "\t<dt>mass_700</dt>\n",
       "\t\t<dd>0.749905355568317</dd>\n",
       "\t<dt>mass_800</dt>\n",
       "\t\t<dd>1.64616858344551</dd>\n",
       "</dl>\n"
      ],
      "text/latex": [
       "\\begin{description*}\n",
       "\\item[mass\\textbackslash{}\\_400] 0.522324737290528\n",
       "\\item[mass\\textbackslash{}\\_500] 0.58531064512865\n",
       "\\item[mass\\textbackslash{}\\_600] 0.421962536985738\n",
       "\\item[mass\\textbackslash{}\\_700] 0.749905355568317\n",
       "\\item[mass\\textbackslash{}\\_800] 1.64616858344551\n",
       "\\end{description*}\n"
      ],
      "text/markdown": [
       "mass_400\n",
       ":   0.522324737290528mass_500\n",
       ":   0.58531064512865mass_600\n",
       ":   0.421962536985738mass_700\n",
       ":   0.749905355568317mass_800\n",
       ":   1.64616858344551\n",
       "\n"
      ],
      "text/plain": [
       " mass_400  mass_500  mass_600  mass_700  mass_800 \n",
       "0.5223247 0.5853106 0.4219625 0.7499054 1.6461686 "
      ]
     },
     "metadata": {},
     "output_type": "display_data"
    }
   ],
   "source": [
    "fch"
   ]
  },
  {
   "cell_type": "code",
   "execution_count": 10,
   "metadata": {
    "scrolled": false
   },
   "outputs": [],
   "source": [
    "df <- data.frame(fch,pval, pAdj)\n",
    "write.csv(df, \"PE-time-RA-wilcox-1C-3E.csv\")"
   ]
  },
  {
   "cell_type": "code",
   "execution_count": null,
   "metadata": {},
   "outputs": [],
   "source": []
  },
  {
   "cell_type": "code",
   "execution_count": null,
   "metadata": {},
   "outputs": [],
   "source": []
  },
  {
   "cell_type": "code",
   "execution_count": null,
   "metadata": {},
   "outputs": [],
   "source": []
  },
  {
   "cell_type": "code",
   "execution_count": null,
   "metadata": {},
   "outputs": [],
   "source": []
  },
  {
   "cell_type": "code",
   "execution_count": null,
   "metadata": {},
   "outputs": [],
   "source": []
  },
  {
   "cell_type": "code",
   "execution_count": null,
   "metadata": {},
   "outputs": [],
   "source": []
  }
 ],
 "metadata": {
  "kernelspec": {
   "display_name": "R",
   "language": "R",
   "name": "ir"
  },
  "language_info": {
   "codemirror_mode": "r",
   "file_extension": ".r",
   "mimetype": "text/x-r-source",
   "name": "R",
   "pygments_lexer": "r",
   "version": "3.6.1"
  }
 },
 "nbformat": 4,
 "nbformat_minor": 2
}
