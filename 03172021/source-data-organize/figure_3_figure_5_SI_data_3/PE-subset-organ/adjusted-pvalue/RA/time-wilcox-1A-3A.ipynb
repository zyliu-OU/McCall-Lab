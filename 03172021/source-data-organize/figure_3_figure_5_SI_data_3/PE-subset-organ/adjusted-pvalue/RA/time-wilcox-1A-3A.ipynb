{
 "cells": [
  {
   "cell_type": "code",
   "execution_count": 1,
   "metadata": {},
   "outputs": [],
   "source": [
    "a <- read.csv(\"03172021-PE-time-RA-M-F.csv\")"
   ]
  },
  {
   "cell_type": "code",
   "execution_count": 2,
   "metadata": {},
   "outputs": [
    {
     "data": {
      "text/html": [
       "<table>\n",
       "<thead><tr><th scope=col>filename</th><th scope=col>MouseID</th><th scope=col>Treatmentgroup</th><th scope=col>status</th><th scope=col>DPI</th><th scope=col>organ</th><th scope=col>well_position</th><th scope=col>plate</th><th scope=col>mass_400</th><th scope=col>mass_500</th><th scope=col>mass_600</th><th scope=col>mass_700</th><th scope=col>mass_800</th></tr></thead>\n",
       "<tbody>\n",
       "\t<tr><td>X501_Group1A_50dpi_RA_251_B_A1_P125.mzXML</td><td>501                                      </td><td>Group1A                                  </td><td>naive                                    </td><td>50dpi                                    </td><td>RA                                       </td><td>A1                                       </td><td>P125                                     </td><td>0.002276123                              </td><td>0.005112843                              </td><td>2.55e-05                                 </td><td>0.004763915                              </td><td>4.86e-05                                 </td></tr>\n",
       "\t<tr><td>X502_Group1A_50dpi_RA_252_B_A2_P125.mzXML</td><td>502                                      </td><td>Group1A                                  </td><td>naive                                    </td><td>50dpi                                    </td><td>RA                                       </td><td>A2                                       </td><td>P125                                     </td><td>0.011214204                              </td><td>0.007530000                              </td><td>0.00e+00                                 </td><td>0.000060700                              </td><td>0.00e+00                                 </td></tr>\n",
       "\t<tr><td>X503_Group1A_50dpi_RA_253_B_A3_P125.mzXML</td><td>503                                      </td><td>Group1A                                  </td><td>naive                                    </td><td>50dpi                                    </td><td>RA                                       </td><td>A3                                       </td><td>P125                                     </td><td>0.001466114                              </td><td>0.002284202                              </td><td>0.00e+00                                 </td><td>0.002540344                              </td><td>0.00e+00                                 </td></tr>\n",
       "\t<tr><td>X504_Group1A_50dpi_RA_254_B_A4_P125.mzXML</td><td>504                                      </td><td>Group1A                                  </td><td>naive                                    </td><td>50dpi                                    </td><td>RA                                       </td><td>A4                                       </td><td>P125                                     </td><td>0.001911612                              </td><td>0.003449213                              </td><td>0.00e+00                                 </td><td>0.000348250                              </td><td>0.00e+00                                 </td></tr>\n",
       "\t<tr><td>X505_Group1A_50dpi_RA_255_B_A5_P125.mzXML</td><td>505                                      </td><td>Group1A                                  </td><td>naive                                    </td><td>50dpi                                    </td><td>RA                                       </td><td>A5                                       </td><td>P125                                     </td><td>0.001948260                              </td><td>0.002946007                              </td><td>0.00e+00                                 </td><td>0.001875139                              </td><td>0.00e+00                                 </td></tr>\n",
       "\t<tr><td>X521_Group1A_50dpi_RA_256_B_A6_P125.mzXML</td><td>521                                      </td><td>Group1A                                  </td><td>naive                                    </td><td>50dpi                                    </td><td>RA                                       </td><td>A6                                       </td><td>P125                                     </td><td>0.000759709                              </td><td>0.002598417                              </td><td>0.00e+00                                 </td><td>0.000693786                              </td><td>0.00e+00                                 </td></tr>\n",
       "</tbody>\n",
       "</table>\n"
      ],
      "text/latex": [
       "\\begin{tabular}{r|lllllllllllll}\n",
       " filename & MouseID & Treatmentgroup & status & DPI & organ & well\\_position & plate & mass\\_400 & mass\\_500 & mass\\_600 & mass\\_700 & mass\\_800\\\\\n",
       "\\hline\n",
       "\t X501\\_Group1A\\_50dpi\\_RA\\_251\\_B\\_A1\\_P125.mzXML & 501                                                     & Group1A                                                 & naive                                                   & 50dpi                                                   & RA                                                      & A1                                                      & P125                                                    & 0.002276123                                             & 0.005112843                                             & 2.55e-05                                                & 0.004763915                                             & 4.86e-05                                               \\\\\n",
       "\t X502\\_Group1A\\_50dpi\\_RA\\_252\\_B\\_A2\\_P125.mzXML & 502                                                     & Group1A                                                 & naive                                                   & 50dpi                                                   & RA                                                      & A2                                                      & P125                                                    & 0.011214204                                             & 0.007530000                                             & 0.00e+00                                                & 0.000060700                                             & 0.00e+00                                               \\\\\n",
       "\t X503\\_Group1A\\_50dpi\\_RA\\_253\\_B\\_A3\\_P125.mzXML & 503                                                     & Group1A                                                 & naive                                                   & 50dpi                                                   & RA                                                      & A3                                                      & P125                                                    & 0.001466114                                             & 0.002284202                                             & 0.00e+00                                                & 0.002540344                                             & 0.00e+00                                               \\\\\n",
       "\t X504\\_Group1A\\_50dpi\\_RA\\_254\\_B\\_A4\\_P125.mzXML & 504                                                     & Group1A                                                 & naive                                                   & 50dpi                                                   & RA                                                      & A4                                                      & P125                                                    & 0.001911612                                             & 0.003449213                                             & 0.00e+00                                                & 0.000348250                                             & 0.00e+00                                               \\\\\n",
       "\t X505\\_Group1A\\_50dpi\\_RA\\_255\\_B\\_A5\\_P125.mzXML & 505                                                     & Group1A                                                 & naive                                                   & 50dpi                                                   & RA                                                      & A5                                                      & P125                                                    & 0.001948260                                             & 0.002946007                                             & 0.00e+00                                                & 0.001875139                                             & 0.00e+00                                               \\\\\n",
       "\t X521\\_Group1A\\_50dpi\\_RA\\_256\\_B\\_A6\\_P125.mzXML & 521                                                     & Group1A                                                 & naive                                                   & 50dpi                                                   & RA                                                      & A6                                                      & P125                                                    & 0.000759709                                             & 0.002598417                                             & 0.00e+00                                                & 0.000693786                                             & 0.00e+00                                               \\\\\n",
       "\\end{tabular}\n"
      ],
      "text/markdown": [
       "\n",
       "| filename | MouseID | Treatmentgroup | status | DPI | organ | well_position | plate | mass_400 | mass_500 | mass_600 | mass_700 | mass_800 |\n",
       "|---|---|---|---|---|---|---|---|---|---|---|---|---|\n",
       "| X501_Group1A_50dpi_RA_251_B_A1_P125.mzXML | 501                                       | Group1A                                   | naive                                     | 50dpi                                     | RA                                        | A1                                        | P125                                      | 0.002276123                               | 0.005112843                               | 2.55e-05                                  | 0.004763915                               | 4.86e-05                                  |\n",
       "| X502_Group1A_50dpi_RA_252_B_A2_P125.mzXML | 502                                       | Group1A                                   | naive                                     | 50dpi                                     | RA                                        | A2                                        | P125                                      | 0.011214204                               | 0.007530000                               | 0.00e+00                                  | 0.000060700                               | 0.00e+00                                  |\n",
       "| X503_Group1A_50dpi_RA_253_B_A3_P125.mzXML | 503                                       | Group1A                                   | naive                                     | 50dpi                                     | RA                                        | A3                                        | P125                                      | 0.001466114                               | 0.002284202                               | 0.00e+00                                  | 0.002540344                               | 0.00e+00                                  |\n",
       "| X504_Group1A_50dpi_RA_254_B_A4_P125.mzXML | 504                                       | Group1A                                   | naive                                     | 50dpi                                     | RA                                        | A4                                        | P125                                      | 0.001911612                               | 0.003449213                               | 0.00e+00                                  | 0.000348250                               | 0.00e+00                                  |\n",
       "| X505_Group1A_50dpi_RA_255_B_A5_P125.mzXML | 505                                       | Group1A                                   | naive                                     | 50dpi                                     | RA                                        | A5                                        | P125                                      | 0.001948260                               | 0.002946007                               | 0.00e+00                                  | 0.001875139                               | 0.00e+00                                  |\n",
       "| X521_Group1A_50dpi_RA_256_B_A6_P125.mzXML | 521                                       | Group1A                                   | naive                                     | 50dpi                                     | RA                                        | A6                                        | P125                                      | 0.000759709                               | 0.002598417                               | 0.00e+00                                  | 0.000693786                               | 0.00e+00                                  |\n",
       "\n"
      ],
      "text/plain": [
       "  filename                                  MouseID Treatmentgroup status DPI  \n",
       "1 X501_Group1A_50dpi_RA_251_B_A1_P125.mzXML 501     Group1A        naive  50dpi\n",
       "2 X502_Group1A_50dpi_RA_252_B_A2_P125.mzXML 502     Group1A        naive  50dpi\n",
       "3 X503_Group1A_50dpi_RA_253_B_A3_P125.mzXML 503     Group1A        naive  50dpi\n",
       "4 X504_Group1A_50dpi_RA_254_B_A4_P125.mzXML 504     Group1A        naive  50dpi\n",
       "5 X505_Group1A_50dpi_RA_255_B_A5_P125.mzXML 505     Group1A        naive  50dpi\n",
       "6 X521_Group1A_50dpi_RA_256_B_A6_P125.mzXML 521     Group1A        naive  50dpi\n",
       "  organ well_position plate mass_400    mass_500    mass_600 mass_700   \n",
       "1 RA    A1            P125  0.002276123 0.005112843 2.55e-05 0.004763915\n",
       "2 RA    A2            P125  0.011214204 0.007530000 0.00e+00 0.000060700\n",
       "3 RA    A3            P125  0.001466114 0.002284202 0.00e+00 0.002540344\n",
       "4 RA    A4            P125  0.001911612 0.003449213 0.00e+00 0.000348250\n",
       "5 RA    A5            P125  0.001948260 0.002946007 0.00e+00 0.001875139\n",
       "6 RA    A6            P125  0.000759709 0.002598417 0.00e+00 0.000693786\n",
       "  mass_800\n",
       "1 4.86e-05\n",
       "2 0.00e+00\n",
       "3 0.00e+00\n",
       "4 0.00e+00\n",
       "5 0.00e+00\n",
       "6 0.00e+00"
      ]
     },
     "metadata": {},
     "output_type": "display_data"
    },
    {
     "data": {
      "text/html": [
       "<ol class=list-inline>\n",
       "\t<li>90</li>\n",
       "\t<li>13</li>\n",
       "</ol>\n"
      ],
      "text/latex": [
       "\\begin{enumerate*}\n",
       "\\item 90\n",
       "\\item 13\n",
       "\\end{enumerate*}\n"
      ],
      "text/markdown": [
       "1. 90\n",
       "2. 13\n",
       "\n",
       "\n"
      ],
      "text/plain": [
       "[1] 90 13"
      ]
     },
     "metadata": {},
     "output_type": "display_data"
    }
   ],
   "source": [
    "head(a)\n",
    "dim(a)"
   ]
  },
  {
   "cell_type": "code",
   "execution_count": 3,
   "metadata": {},
   "outputs": [
    {
     "data": {
      "text/html": [
       "<table>\n",
       "<thead><tr><th scope=col>filename</th><th scope=col>MouseID</th><th scope=col>Treatmentgroup</th><th scope=col>status</th><th scope=col>DPI</th><th scope=col>organ</th><th scope=col>well_position</th><th scope=col>plate</th><th scope=col>mass_400</th><th scope=col>mass_500</th><th scope=col>mass_600</th><th scope=col>mass_700</th><th scope=col>mass_800</th></tr></thead>\n",
       "<tbody>\n",
       "\t<tr><td>X501_Group1A_50dpi_RA_251_B_A1_P125.mzXML</td><td>501                                      </td><td>Group1A                                  </td><td>naive                                    </td><td>50dpi                                    </td><td>RA                                       </td><td>A1                                       </td><td>P125                                     </td><td>0.002276123                              </td><td>0.005112843                              </td><td>2.55e-05                                 </td><td>0.004763915                              </td><td>4.86e-05                                 </td></tr>\n",
       "\t<tr><td>X502_Group1A_50dpi_RA_252_B_A2_P125.mzXML</td><td>502                                      </td><td>Group1A                                  </td><td>naive                                    </td><td>50dpi                                    </td><td>RA                                       </td><td>A2                                       </td><td>P125                                     </td><td>0.011214204                              </td><td>0.007530000                              </td><td>0.00e+00                                 </td><td>0.000060700                              </td><td>0.00e+00                                 </td></tr>\n",
       "\t<tr><td>X503_Group1A_50dpi_RA_253_B_A3_P125.mzXML</td><td>503                                      </td><td>Group1A                                  </td><td>naive                                    </td><td>50dpi                                    </td><td>RA                                       </td><td>A3                                       </td><td>P125                                     </td><td>0.001466114                              </td><td>0.002284202                              </td><td>0.00e+00                                 </td><td>0.002540344                              </td><td>0.00e+00                                 </td></tr>\n",
       "\t<tr><td>X504_Group1A_50dpi_RA_254_B_A4_P125.mzXML</td><td>504                                      </td><td>Group1A                                  </td><td>naive                                    </td><td>50dpi                                    </td><td>RA                                       </td><td>A4                                       </td><td>P125                                     </td><td>0.001911612                              </td><td>0.003449213                              </td><td>0.00e+00                                 </td><td>0.000348250                              </td><td>0.00e+00                                 </td></tr>\n",
       "\t<tr><td>X505_Group1A_50dpi_RA_255_B_A5_P125.mzXML</td><td>505                                      </td><td>Group1A                                  </td><td>naive                                    </td><td>50dpi                                    </td><td>RA                                       </td><td>A5                                       </td><td>P125                                     </td><td>0.001948260                              </td><td>0.002946007                              </td><td>0.00e+00                                 </td><td>0.001875139                              </td><td>0.00e+00                                 </td></tr>\n",
       "\t<tr><td>X521_Group1A_50dpi_RA_256_B_A6_P125.mzXML</td><td>521                                      </td><td>Group1A                                  </td><td>naive                                    </td><td>50dpi                                    </td><td>RA                                       </td><td>A6                                       </td><td>P125                                     </td><td>0.000759709                              </td><td>0.002598417                              </td><td>0.00e+00                                 </td><td>0.000693786                              </td><td>0.00e+00                                 </td></tr>\n",
       "</tbody>\n",
       "</table>\n"
      ],
      "text/latex": [
       "\\begin{tabular}{r|lllllllllllll}\n",
       " filename & MouseID & Treatmentgroup & status & DPI & organ & well\\_position & plate & mass\\_400 & mass\\_500 & mass\\_600 & mass\\_700 & mass\\_800\\\\\n",
       "\\hline\n",
       "\t X501\\_Group1A\\_50dpi\\_RA\\_251\\_B\\_A1\\_P125.mzXML & 501                                                     & Group1A                                                 & naive                                                   & 50dpi                                                   & RA                                                      & A1                                                      & P125                                                    & 0.002276123                                             & 0.005112843                                             & 2.55e-05                                                & 0.004763915                                             & 4.86e-05                                               \\\\\n",
       "\t X502\\_Group1A\\_50dpi\\_RA\\_252\\_B\\_A2\\_P125.mzXML & 502                                                     & Group1A                                                 & naive                                                   & 50dpi                                                   & RA                                                      & A2                                                      & P125                                                    & 0.011214204                                             & 0.007530000                                             & 0.00e+00                                                & 0.000060700                                             & 0.00e+00                                               \\\\\n",
       "\t X503\\_Group1A\\_50dpi\\_RA\\_253\\_B\\_A3\\_P125.mzXML & 503                                                     & Group1A                                                 & naive                                                   & 50dpi                                                   & RA                                                      & A3                                                      & P125                                                    & 0.001466114                                             & 0.002284202                                             & 0.00e+00                                                & 0.002540344                                             & 0.00e+00                                               \\\\\n",
       "\t X504\\_Group1A\\_50dpi\\_RA\\_254\\_B\\_A4\\_P125.mzXML & 504                                                     & Group1A                                                 & naive                                                   & 50dpi                                                   & RA                                                      & A4                                                      & P125                                                    & 0.001911612                                             & 0.003449213                                             & 0.00e+00                                                & 0.000348250                                             & 0.00e+00                                               \\\\\n",
       "\t X505\\_Group1A\\_50dpi\\_RA\\_255\\_B\\_A5\\_P125.mzXML & 505                                                     & Group1A                                                 & naive                                                   & 50dpi                                                   & RA                                                      & A5                                                      & P125                                                    & 0.001948260                                             & 0.002946007                                             & 0.00e+00                                                & 0.001875139                                             & 0.00e+00                                               \\\\\n",
       "\t X521\\_Group1A\\_50dpi\\_RA\\_256\\_B\\_A6\\_P125.mzXML & 521                                                     & Group1A                                                 & naive                                                   & 50dpi                                                   & RA                                                      & A6                                                      & P125                                                    & 0.000759709                                             & 0.002598417                                             & 0.00e+00                                                & 0.000693786                                             & 0.00e+00                                               \\\\\n",
       "\\end{tabular}\n"
      ],
      "text/markdown": [
       "\n",
       "| filename | MouseID | Treatmentgroup | status | DPI | organ | well_position | plate | mass_400 | mass_500 | mass_600 | mass_700 | mass_800 |\n",
       "|---|---|---|---|---|---|---|---|---|---|---|---|---|\n",
       "| X501_Group1A_50dpi_RA_251_B_A1_P125.mzXML | 501                                       | Group1A                                   | naive                                     | 50dpi                                     | RA                                        | A1                                        | P125                                      | 0.002276123                               | 0.005112843                               | 2.55e-05                                  | 0.004763915                               | 4.86e-05                                  |\n",
       "| X502_Group1A_50dpi_RA_252_B_A2_P125.mzXML | 502                                       | Group1A                                   | naive                                     | 50dpi                                     | RA                                        | A2                                        | P125                                      | 0.011214204                               | 0.007530000                               | 0.00e+00                                  | 0.000060700                               | 0.00e+00                                  |\n",
       "| X503_Group1A_50dpi_RA_253_B_A3_P125.mzXML | 503                                       | Group1A                                   | naive                                     | 50dpi                                     | RA                                        | A3                                        | P125                                      | 0.001466114                               | 0.002284202                               | 0.00e+00                                  | 0.002540344                               | 0.00e+00                                  |\n",
       "| X504_Group1A_50dpi_RA_254_B_A4_P125.mzXML | 504                                       | Group1A                                   | naive                                     | 50dpi                                     | RA                                        | A4                                        | P125                                      | 0.001911612                               | 0.003449213                               | 0.00e+00                                  | 0.000348250                               | 0.00e+00                                  |\n",
       "| X505_Group1A_50dpi_RA_255_B_A5_P125.mzXML | 505                                       | Group1A                                   | naive                                     | 50dpi                                     | RA                                        | A5                                        | P125                                      | 0.001948260                               | 0.002946007                               | 0.00e+00                                  | 0.001875139                               | 0.00e+00                                  |\n",
       "| X521_Group1A_50dpi_RA_256_B_A6_P125.mzXML | 521                                       | Group1A                                   | naive                                     | 50dpi                                     | RA                                        | A6                                        | P125                                      | 0.000759709                               | 0.002598417                               | 0.00e+00                                  | 0.000693786                               | 0.00e+00                                  |\n",
       "\n"
      ],
      "text/plain": [
       "  filename                                  MouseID Treatmentgroup status DPI  \n",
       "1 X501_Group1A_50dpi_RA_251_B_A1_P125.mzXML 501     Group1A        naive  50dpi\n",
       "2 X502_Group1A_50dpi_RA_252_B_A2_P125.mzXML 502     Group1A        naive  50dpi\n",
       "3 X503_Group1A_50dpi_RA_253_B_A3_P125.mzXML 503     Group1A        naive  50dpi\n",
       "4 X504_Group1A_50dpi_RA_254_B_A4_P125.mzXML 504     Group1A        naive  50dpi\n",
       "5 X505_Group1A_50dpi_RA_255_B_A5_P125.mzXML 505     Group1A        naive  50dpi\n",
       "6 X521_Group1A_50dpi_RA_256_B_A6_P125.mzXML 521     Group1A        naive  50dpi\n",
       "  organ well_position plate mass_400    mass_500    mass_600 mass_700   \n",
       "1 RA    A1            P125  0.002276123 0.005112843 2.55e-05 0.004763915\n",
       "2 RA    A2            P125  0.011214204 0.007530000 0.00e+00 0.000060700\n",
       "3 RA    A3            P125  0.001466114 0.002284202 0.00e+00 0.002540344\n",
       "4 RA    A4            P125  0.001911612 0.003449213 0.00e+00 0.000348250\n",
       "5 RA    A5            P125  0.001948260 0.002946007 0.00e+00 0.001875139\n",
       "6 RA    A6            P125  0.000759709 0.002598417 0.00e+00 0.000693786\n",
       "  mass_800\n",
       "1 4.86e-05\n",
       "2 0.00e+00\n",
       "3 0.00e+00\n",
       "4 0.00e+00\n",
       "5 0.00e+00\n",
       "6 0.00e+00"
      ]
     },
     "metadata": {},
     "output_type": "display_data"
    },
    {
     "data": {
      "text/html": [
       "<ol class=list-inline>\n",
       "\t<li>30</li>\n",
       "\t<li>13</li>\n",
       "</ol>\n"
      ],
      "text/latex": [
       "\\begin{enumerate*}\n",
       "\\item 30\n",
       "\\item 13\n",
       "\\end{enumerate*}\n"
      ],
      "text/markdown": [
       "1. 30\n",
       "2. 13\n",
       "\n",
       "\n"
      ],
      "text/plain": [
       "[1] 30 13"
      ]
     },
     "metadata": {},
     "output_type": "display_data"
    }
   ],
   "source": [
    "features_pos<-droplevels(subset(a, a$Treatmentgroup==c(\"Group1A\")|a$Treatmentgroup==c(\"Group3A\")))\n",
    "head(features_pos)\n",
    "dim(features_pos)"
   ]
  },
  {
   "cell_type": "code",
   "execution_count": 4,
   "metadata": {
    "scrolled": false
   },
   "outputs": [
    {
     "data": {
      "text/html": [
       "<table>\n",
       "<thead><tr><th scope=col>mass_400</th><th scope=col>mass_500</th><th scope=col>mass_600</th><th scope=col>mass_700</th><th scope=col>mass_800</th></tr></thead>\n",
       "<tbody>\n",
       "\t<tr><td>0.002276123</td><td>0.005112843</td><td>2.55e-05   </td><td>0.004763915</td><td>4.86e-05   </td></tr>\n",
       "\t<tr><td>0.011214204</td><td>0.007530000</td><td>0.00e+00   </td><td>0.000060700</td><td>0.00e+00   </td></tr>\n",
       "\t<tr><td>0.001466114</td><td>0.002284202</td><td>0.00e+00   </td><td>0.002540344</td><td>0.00e+00   </td></tr>\n",
       "\t<tr><td>0.001911612</td><td>0.003449213</td><td>0.00e+00   </td><td>0.000348250</td><td>0.00e+00   </td></tr>\n",
       "\t<tr><td>0.001948260</td><td>0.002946007</td><td>0.00e+00   </td><td>0.001875139</td><td>0.00e+00   </td></tr>\n",
       "\t<tr><td>0.000759709</td><td>0.002598417</td><td>0.00e+00   </td><td>0.000693786</td><td>0.00e+00   </td></tr>\n",
       "</tbody>\n",
       "</table>\n"
      ],
      "text/latex": [
       "\\begin{tabular}{r|lllll}\n",
       " mass\\_400 & mass\\_500 & mass\\_600 & mass\\_700 & mass\\_800\\\\\n",
       "\\hline\n",
       "\t 0.002276123 & 0.005112843 & 2.55e-05    & 0.004763915 & 4.86e-05   \\\\\n",
       "\t 0.011214204 & 0.007530000 & 0.00e+00    & 0.000060700 & 0.00e+00   \\\\\n",
       "\t 0.001466114 & 0.002284202 & 0.00e+00    & 0.002540344 & 0.00e+00   \\\\\n",
       "\t 0.001911612 & 0.003449213 & 0.00e+00    & 0.000348250 & 0.00e+00   \\\\\n",
       "\t 0.001948260 & 0.002946007 & 0.00e+00    & 0.001875139 & 0.00e+00   \\\\\n",
       "\t 0.000759709 & 0.002598417 & 0.00e+00    & 0.000693786 & 0.00e+00   \\\\\n",
       "\\end{tabular}\n"
      ],
      "text/markdown": [
       "\n",
       "| mass_400 | mass_500 | mass_600 | mass_700 | mass_800 |\n",
       "|---|---|---|---|---|\n",
       "| 0.002276123 | 0.005112843 | 2.55e-05    | 0.004763915 | 4.86e-05    |\n",
       "| 0.011214204 | 0.007530000 | 0.00e+00    | 0.000060700 | 0.00e+00    |\n",
       "| 0.001466114 | 0.002284202 | 0.00e+00    | 0.002540344 | 0.00e+00    |\n",
       "| 0.001911612 | 0.003449213 | 0.00e+00    | 0.000348250 | 0.00e+00    |\n",
       "| 0.001948260 | 0.002946007 | 0.00e+00    | 0.001875139 | 0.00e+00    |\n",
       "| 0.000759709 | 0.002598417 | 0.00e+00    | 0.000693786 | 0.00e+00    |\n",
       "\n"
      ],
      "text/plain": [
       "  mass_400    mass_500    mass_600 mass_700    mass_800\n",
       "1 0.002276123 0.005112843 2.55e-05 0.004763915 4.86e-05\n",
       "2 0.011214204 0.007530000 0.00e+00 0.000060700 0.00e+00\n",
       "3 0.001466114 0.002284202 0.00e+00 0.002540344 0.00e+00\n",
       "4 0.001911612 0.003449213 0.00e+00 0.000348250 0.00e+00\n",
       "5 0.001948260 0.002946007 0.00e+00 0.001875139 0.00e+00\n",
       "6 0.000759709 0.002598417 0.00e+00 0.000693786 0.00e+00"
      ]
     },
     "metadata": {},
     "output_type": "display_data"
    },
    {
     "data": {
      "text/html": [
       "<dl class=dl-horizontal>\n",
       "\t<dt>mass_400</dt>\n",
       "\t\t<dd>1</dd>\n",
       "\t<dt>mass_500</dt>\n",
       "\t\t<dd>2</dd>\n",
       "\t<dt>mass_600</dt>\n",
       "\t\t<dd>3</dd>\n",
       "\t<dt>mass_700</dt>\n",
       "\t\t<dd>4</dd>\n",
       "\t<dt>mass_800</dt>\n",
       "\t\t<dd>5</dd>\n",
       "</dl>\n"
      ],
      "text/latex": [
       "\\begin{description*}\n",
       "\\item[mass\\textbackslash{}\\_400] 1\n",
       "\\item[mass\\textbackslash{}\\_500] 2\n",
       "\\item[mass\\textbackslash{}\\_600] 3\n",
       "\\item[mass\\textbackslash{}\\_700] 4\n",
       "\\item[mass\\textbackslash{}\\_800] 5\n",
       "\\end{description*}\n"
      ],
      "text/markdown": [
       "mass_400\n",
       ":   1mass_500\n",
       ":   2mass_600\n",
       ":   3mass_700\n",
       ":   4mass_800\n",
       ":   5\n",
       "\n"
      ],
      "text/plain": [
       "mass_400 mass_500 mass_600 mass_700 mass_800 \n",
       "       1        2        3        4        5 "
      ]
     },
     "metadata": {},
     "output_type": "display_data"
    },
    {
     "data": {
      "text/html": [
       "<table>\n",
       "<thead><tr><th></th><th scope=col>mass_400</th><th scope=col>mass_500</th><th scope=col>mass_600</th><th scope=col>mass_700</th><th scope=col>mass_800</th></tr></thead>\n",
       "<tbody>\n",
       "\t<tr><th scope=row>1</th><td>0.002276123</td><td>0.005112843</td><td>0.000025500</td><td>0.004763915</td><td>0.000048600</td></tr>\n",
       "\t<tr><th scope=row>2</th><td>0.011214204</td><td>0.007530000</td><td>0.000000000</td><td>0.000060700</td><td>0.000000000</td></tr>\n",
       "\t<tr><th scope=row>3</th><td>0.001466114</td><td>0.002284202</td><td>0.000000000</td><td>0.002540344</td><td>0.000000000</td></tr>\n",
       "\t<tr><th scope=row>4</th><td>0.001911612</td><td>0.003449213</td><td>0.000000000</td><td>0.000348250</td><td>0.000000000</td></tr>\n",
       "\t<tr><th scope=row>5</th><td>0.001948260</td><td>0.002946007</td><td>0.000000000</td><td>0.001875139</td><td>0.000000000</td></tr>\n",
       "\t<tr><th scope=row>6</th><td>0.000759709</td><td>0.002598417</td><td>0.000000000</td><td>0.000693786</td><td>0.000000000</td></tr>\n",
       "\t<tr><th scope=row>7</th><td>0.001289244</td><td>0.002890000</td><td>0.000000000</td><td>0.000527202</td><td>0.000000000</td></tr>\n",
       "\t<tr><th scope=row>8</th><td>0.006143484</td><td>0.004933557</td><td>0.000000000</td><td>0.000034500</td><td>0.000000000</td></tr>\n",
       "\t<tr><th scope=row>9</th><td>0.001736667</td><td>0.003020000</td><td>0.000000000</td><td>0.000586597</td><td>0.000000000</td></tr>\n",
       "\t<tr><th scope=row>10</th><td>0.006851618</td><td>0.003414049</td><td>0.000000000</td><td>0.000000000</td><td>0.000000000</td></tr>\n",
       "\t<tr><th scope=row>11</th><td>0.000942294</td><td>0.003460000</td><td>0.000000000</td><td>0.000316925</td><td>0.000000000</td></tr>\n",
       "\t<tr><th scope=row>12</th><td>0.001921839</td><td>0.009151301</td><td>0.000000000</td><td>0.003422258</td><td>0.000000000</td></tr>\n",
       "\t<tr><th scope=row>13</th><td>0.004837185</td><td>0.007788800</td><td>0.000000000</td><td>0.000057300</td><td>0.000000000</td></tr>\n",
       "\t<tr><th scope=row>14</th><td>0.000703624</td><td>0.003154609</td><td>0.000000000</td><td>0.000801390</td><td>0.000000000</td></tr>\n",
       "\t<tr><th scope=row>15</th><td>0.000341934</td><td>0.001726156</td><td>0.000000000</td><td>0.001126310</td><td>0.000000000</td></tr>\n",
       "\t<tr><th scope=row>46</th><td>0.003684458</td><td>0.005552954</td><td>0.000000000</td><td>0.000000000</td><td>0.000000000</td></tr>\n",
       "\t<tr><th scope=row>47</th><td>0.002646336</td><td>0.005810000</td><td>0.000000000</td><td>0.005541616</td><td>0.000024000</td></tr>\n",
       "\t<tr><th scope=row>48</th><td>0.003186277</td><td>0.006654263</td><td>0.000000000</td><td>0.000000000</td><td>0.000000000</td></tr>\n",
       "\t<tr><th scope=row>49</th><td>0.004541371</td><td>0.008716514</td><td>0.000000000</td><td>0.000097100</td><td>0.000000000</td></tr>\n",
       "\t<tr><th scope=row>50</th><td>0.001472963</td><td>0.003807316</td><td>0.000000000</td><td>0.000391559</td><td>0.000000000</td></tr>\n",
       "\t<tr><th scope=row>51</th><td>0.012293125</td><td>0.011466086</td><td>0.000000000</td><td>0.000648640</td><td>0.000000000</td></tr>\n",
       "\t<tr><th scope=row>52</th><td>0.006773545</td><td>0.008356624</td><td>0.000000000</td><td>0.000000000</td><td>0.000000000</td></tr>\n",
       "\t<tr><th scope=row>53</th><td>0.000812576</td><td>0.002870010</td><td>0.000000000</td><td>0.000082900</td><td>0.000000000</td></tr>\n",
       "\t<tr><th scope=row>54</th><td>0.002446918</td><td>0.002893390</td><td>0.000000000</td><td>0.000737470</td><td>0.000000000</td></tr>\n",
       "\t<tr><th scope=row>55</th><td>0.001969498</td><td>0.002420676</td><td>0.000195625</td><td>0.000033700</td><td>0.000000000</td></tr>\n",
       "\t<tr><th scope=row>56</th><td>0.002507661</td><td>0.006080000</td><td>0.000239020</td><td>0.003137472</td><td>0.000151478</td></tr>\n",
       "\t<tr><th scope=row>57</th><td>0.000491421</td><td>0.000749468</td><td>0.000000000</td><td>0.006484704</td><td>0.000000000</td></tr>\n",
       "\t<tr><th scope=row>58</th><td>0.002312159</td><td>0.004971036</td><td>0.000000000</td><td>0.000348471</td><td>0.000000000</td></tr>\n",
       "\t<tr><th scope=row>59</th><td>0.009475039</td><td>0.013170502</td><td>0.000000000</td><td>0.001534339</td><td>0.000000000</td></tr>\n",
       "\t<tr><th scope=row>60</th><td>0.001799637</td><td>0.005880000</td><td>0.000078800</td><td>0.012214403</td><td>0.000271321</td></tr>\n",
       "</tbody>\n",
       "</table>\n"
      ],
      "text/latex": [
       "\\begin{tabular}{r|lllll}\n",
       "  & mass\\_400 & mass\\_500 & mass\\_600 & mass\\_700 & mass\\_800\\\\\n",
       "\\hline\n",
       "\t1 & 0.002276123 & 0.005112843 & 0.000025500 & 0.004763915 & 0.000048600\\\\\n",
       "\t2 & 0.011214204 & 0.007530000 & 0.000000000 & 0.000060700 & 0.000000000\\\\\n",
       "\t3 & 0.001466114 & 0.002284202 & 0.000000000 & 0.002540344 & 0.000000000\\\\\n",
       "\t4 & 0.001911612 & 0.003449213 & 0.000000000 & 0.000348250 & 0.000000000\\\\\n",
       "\t5 & 0.001948260 & 0.002946007 & 0.000000000 & 0.001875139 & 0.000000000\\\\\n",
       "\t6 & 0.000759709 & 0.002598417 & 0.000000000 & 0.000693786 & 0.000000000\\\\\n",
       "\t7 & 0.001289244 & 0.002890000 & 0.000000000 & 0.000527202 & 0.000000000\\\\\n",
       "\t8 & 0.006143484 & 0.004933557 & 0.000000000 & 0.000034500 & 0.000000000\\\\\n",
       "\t9 & 0.001736667 & 0.003020000 & 0.000000000 & 0.000586597 & 0.000000000\\\\\n",
       "\t10 & 0.006851618 & 0.003414049 & 0.000000000 & 0.000000000 & 0.000000000\\\\\n",
       "\t11 & 0.000942294 & 0.003460000 & 0.000000000 & 0.000316925 & 0.000000000\\\\\n",
       "\t12 & 0.001921839 & 0.009151301 & 0.000000000 & 0.003422258 & 0.000000000\\\\\n",
       "\t13 & 0.004837185 & 0.007788800 & 0.000000000 & 0.000057300 & 0.000000000\\\\\n",
       "\t14 & 0.000703624 & 0.003154609 & 0.000000000 & 0.000801390 & 0.000000000\\\\\n",
       "\t15 & 0.000341934 & 0.001726156 & 0.000000000 & 0.001126310 & 0.000000000\\\\\n",
       "\t46 & 0.003684458 & 0.005552954 & 0.000000000 & 0.000000000 & 0.000000000\\\\\n",
       "\t47 & 0.002646336 & 0.005810000 & 0.000000000 & 0.005541616 & 0.000024000\\\\\n",
       "\t48 & 0.003186277 & 0.006654263 & 0.000000000 & 0.000000000 & 0.000000000\\\\\n",
       "\t49 & 0.004541371 & 0.008716514 & 0.000000000 & 0.000097100 & 0.000000000\\\\\n",
       "\t50 & 0.001472963 & 0.003807316 & 0.000000000 & 0.000391559 & 0.000000000\\\\\n",
       "\t51 & 0.012293125 & 0.011466086 & 0.000000000 & 0.000648640 & 0.000000000\\\\\n",
       "\t52 & 0.006773545 & 0.008356624 & 0.000000000 & 0.000000000 & 0.000000000\\\\\n",
       "\t53 & 0.000812576 & 0.002870010 & 0.000000000 & 0.000082900 & 0.000000000\\\\\n",
       "\t54 & 0.002446918 & 0.002893390 & 0.000000000 & 0.000737470 & 0.000000000\\\\\n",
       "\t55 & 0.001969498 & 0.002420676 & 0.000195625 & 0.000033700 & 0.000000000\\\\\n",
       "\t56 & 0.002507661 & 0.006080000 & 0.000239020 & 0.003137472 & 0.000151478\\\\\n",
       "\t57 & 0.000491421 & 0.000749468 & 0.000000000 & 0.006484704 & 0.000000000\\\\\n",
       "\t58 & 0.002312159 & 0.004971036 & 0.000000000 & 0.000348471 & 0.000000000\\\\\n",
       "\t59 & 0.009475039 & 0.013170502 & 0.000000000 & 0.001534339 & 0.000000000\\\\\n",
       "\t60 & 0.001799637 & 0.005880000 & 0.000078800 & 0.012214403 & 0.000271321\\\\\n",
       "\\end{tabular}\n"
      ],
      "text/markdown": [
       "\n",
       "| <!--/--> | mass_400 | mass_500 | mass_600 | mass_700 | mass_800 |\n",
       "|---|---|---|---|---|---|\n",
       "| 1 | 0.002276123 | 0.005112843 | 0.000025500 | 0.004763915 | 0.000048600 |\n",
       "| 2 | 0.011214204 | 0.007530000 | 0.000000000 | 0.000060700 | 0.000000000 |\n",
       "| 3 | 0.001466114 | 0.002284202 | 0.000000000 | 0.002540344 | 0.000000000 |\n",
       "| 4 | 0.001911612 | 0.003449213 | 0.000000000 | 0.000348250 | 0.000000000 |\n",
       "| 5 | 0.001948260 | 0.002946007 | 0.000000000 | 0.001875139 | 0.000000000 |\n",
       "| 6 | 0.000759709 | 0.002598417 | 0.000000000 | 0.000693786 | 0.000000000 |\n",
       "| 7 | 0.001289244 | 0.002890000 | 0.000000000 | 0.000527202 | 0.000000000 |\n",
       "| 8 | 0.006143484 | 0.004933557 | 0.000000000 | 0.000034500 | 0.000000000 |\n",
       "| 9 | 0.001736667 | 0.003020000 | 0.000000000 | 0.000586597 | 0.000000000 |\n",
       "| 10 | 0.006851618 | 0.003414049 | 0.000000000 | 0.000000000 | 0.000000000 |\n",
       "| 11 | 0.000942294 | 0.003460000 | 0.000000000 | 0.000316925 | 0.000000000 |\n",
       "| 12 | 0.001921839 | 0.009151301 | 0.000000000 | 0.003422258 | 0.000000000 |\n",
       "| 13 | 0.004837185 | 0.007788800 | 0.000000000 | 0.000057300 | 0.000000000 |\n",
       "| 14 | 0.000703624 | 0.003154609 | 0.000000000 | 0.000801390 | 0.000000000 |\n",
       "| 15 | 0.000341934 | 0.001726156 | 0.000000000 | 0.001126310 | 0.000000000 |\n",
       "| 46 | 0.003684458 | 0.005552954 | 0.000000000 | 0.000000000 | 0.000000000 |\n",
       "| 47 | 0.002646336 | 0.005810000 | 0.000000000 | 0.005541616 | 0.000024000 |\n",
       "| 48 | 0.003186277 | 0.006654263 | 0.000000000 | 0.000000000 | 0.000000000 |\n",
       "| 49 | 0.004541371 | 0.008716514 | 0.000000000 | 0.000097100 | 0.000000000 |\n",
       "| 50 | 0.001472963 | 0.003807316 | 0.000000000 | 0.000391559 | 0.000000000 |\n",
       "| 51 | 0.012293125 | 0.011466086 | 0.000000000 | 0.000648640 | 0.000000000 |\n",
       "| 52 | 0.006773545 | 0.008356624 | 0.000000000 | 0.000000000 | 0.000000000 |\n",
       "| 53 | 0.000812576 | 0.002870010 | 0.000000000 | 0.000082900 | 0.000000000 |\n",
       "| 54 | 0.002446918 | 0.002893390 | 0.000000000 | 0.000737470 | 0.000000000 |\n",
       "| 55 | 0.001969498 | 0.002420676 | 0.000195625 | 0.000033700 | 0.000000000 |\n",
       "| 56 | 0.002507661 | 0.006080000 | 0.000239020 | 0.003137472 | 0.000151478 |\n",
       "| 57 | 0.000491421 | 0.000749468 | 0.000000000 | 0.006484704 | 0.000000000 |\n",
       "| 58 | 0.002312159 | 0.004971036 | 0.000000000 | 0.000348471 | 0.000000000 |\n",
       "| 59 | 0.009475039 | 0.013170502 | 0.000000000 | 0.001534339 | 0.000000000 |\n",
       "| 60 | 0.001799637 | 0.005880000 | 0.000078800 | 0.012214403 | 0.000271321 |\n",
       "\n"
      ],
      "text/plain": [
       "   mass_400    mass_500    mass_600    mass_700    mass_800   \n",
       "1  0.002276123 0.005112843 0.000025500 0.004763915 0.000048600\n",
       "2  0.011214204 0.007530000 0.000000000 0.000060700 0.000000000\n",
       "3  0.001466114 0.002284202 0.000000000 0.002540344 0.000000000\n",
       "4  0.001911612 0.003449213 0.000000000 0.000348250 0.000000000\n",
       "5  0.001948260 0.002946007 0.000000000 0.001875139 0.000000000\n",
       "6  0.000759709 0.002598417 0.000000000 0.000693786 0.000000000\n",
       "7  0.001289244 0.002890000 0.000000000 0.000527202 0.000000000\n",
       "8  0.006143484 0.004933557 0.000000000 0.000034500 0.000000000\n",
       "9  0.001736667 0.003020000 0.000000000 0.000586597 0.000000000\n",
       "10 0.006851618 0.003414049 0.000000000 0.000000000 0.000000000\n",
       "11 0.000942294 0.003460000 0.000000000 0.000316925 0.000000000\n",
       "12 0.001921839 0.009151301 0.000000000 0.003422258 0.000000000\n",
       "13 0.004837185 0.007788800 0.000000000 0.000057300 0.000000000\n",
       "14 0.000703624 0.003154609 0.000000000 0.000801390 0.000000000\n",
       "15 0.000341934 0.001726156 0.000000000 0.001126310 0.000000000\n",
       "46 0.003684458 0.005552954 0.000000000 0.000000000 0.000000000\n",
       "47 0.002646336 0.005810000 0.000000000 0.005541616 0.000024000\n",
       "48 0.003186277 0.006654263 0.000000000 0.000000000 0.000000000\n",
       "49 0.004541371 0.008716514 0.000000000 0.000097100 0.000000000\n",
       "50 0.001472963 0.003807316 0.000000000 0.000391559 0.000000000\n",
       "51 0.012293125 0.011466086 0.000000000 0.000648640 0.000000000\n",
       "52 0.006773545 0.008356624 0.000000000 0.000000000 0.000000000\n",
       "53 0.000812576 0.002870010 0.000000000 0.000082900 0.000000000\n",
       "54 0.002446918 0.002893390 0.000000000 0.000737470 0.000000000\n",
       "55 0.001969498 0.002420676 0.000195625 0.000033700 0.000000000\n",
       "56 0.002507661 0.006080000 0.000239020 0.003137472 0.000151478\n",
       "57 0.000491421 0.000749468 0.000000000 0.006484704 0.000000000\n",
       "58 0.002312159 0.004971036 0.000000000 0.000348471 0.000000000\n",
       "59 0.009475039 0.013170502 0.000000000 0.001534339 0.000000000\n",
       "60 0.001799637 0.005880000 0.000078800 0.012214403 0.000271321"
      ]
     },
     "metadata": {},
     "output_type": "display_data"
    },
    {
     "data": {
      "text/html": [
       "<table>\n",
       "<thead><tr><th scope=col>filename</th><th scope=col>MouseID</th><th scope=col>Treatmentgroup</th><th scope=col>status</th><th scope=col>DPI</th><th scope=col>organ</th><th scope=col>well_position</th><th scope=col>plate</th><th scope=col>mass_400</th><th scope=col>mass_500</th><th scope=col>mass_600</th><th scope=col>mass_700</th><th scope=col>mass_800</th></tr></thead>\n",
       "<tbody>\n",
       "\t<tr><td>X501_Group1A_50dpi_RA_251_B_A1_P125.mzXML</td><td>501                                      </td><td>Group1A                                  </td><td>naive                                    </td><td>50dpi                                    </td><td>RA                                       </td><td>A1                                       </td><td>P125                                     </td><td>0.002276123                              </td><td>0.005112843                              </td><td>2.55e-05                                 </td><td>0.004763915                              </td><td>4.86e-05                                 </td></tr>\n",
       "\t<tr><td>X502_Group1A_50dpi_RA_252_B_A2_P125.mzXML</td><td>502                                      </td><td>Group1A                                  </td><td>naive                                    </td><td>50dpi                                    </td><td>RA                                       </td><td>A2                                       </td><td>P125                                     </td><td>0.011214204                              </td><td>0.007530000                              </td><td>0.00e+00                                 </td><td>0.000060700                              </td><td>0.00e+00                                 </td></tr>\n",
       "\t<tr><td>X503_Group1A_50dpi_RA_253_B_A3_P125.mzXML</td><td>503                                      </td><td>Group1A                                  </td><td>naive                                    </td><td>50dpi                                    </td><td>RA                                       </td><td>A3                                       </td><td>P125                                     </td><td>0.001466114                              </td><td>0.002284202                              </td><td>0.00e+00                                 </td><td>0.002540344                              </td><td>0.00e+00                                 </td></tr>\n",
       "\t<tr><td>X504_Group1A_50dpi_RA_254_B_A4_P125.mzXML</td><td>504                                      </td><td>Group1A                                  </td><td>naive                                    </td><td>50dpi                                    </td><td>RA                                       </td><td>A4                                       </td><td>P125                                     </td><td>0.001911612                              </td><td>0.003449213                              </td><td>0.00e+00                                 </td><td>0.000348250                              </td><td>0.00e+00                                 </td></tr>\n",
       "\t<tr><td>X505_Group1A_50dpi_RA_255_B_A5_P125.mzXML</td><td>505                                      </td><td>Group1A                                  </td><td>naive                                    </td><td>50dpi                                    </td><td>RA                                       </td><td>A5                                       </td><td>P125                                     </td><td>0.001948260                              </td><td>0.002946007                              </td><td>0.00e+00                                 </td><td>0.001875139                              </td><td>0.00e+00                                 </td></tr>\n",
       "\t<tr><td>X521_Group1A_50dpi_RA_256_B_A6_P125.mzXML</td><td>521                                      </td><td>Group1A                                  </td><td>naive                                    </td><td>50dpi                                    </td><td>RA                                       </td><td>A6                                       </td><td>P125                                     </td><td>0.000759709                              </td><td>0.002598417                              </td><td>0.00e+00                                 </td><td>0.000693786                              </td><td>0.00e+00                                 </td></tr>\n",
       "</tbody>\n",
       "</table>\n"
      ],
      "text/latex": [
       "\\begin{tabular}{r|lllllllllllll}\n",
       " filename & MouseID & Treatmentgroup & status & DPI & organ & well\\_position & plate & mass\\_400 & mass\\_500 & mass\\_600 & mass\\_700 & mass\\_800\\\\\n",
       "\\hline\n",
       "\t X501\\_Group1A\\_50dpi\\_RA\\_251\\_B\\_A1\\_P125.mzXML & 501                                                     & Group1A                                                 & naive                                                   & 50dpi                                                   & RA                                                      & A1                                                      & P125                                                    & 0.002276123                                             & 0.005112843                                             & 2.55e-05                                                & 0.004763915                                             & 4.86e-05                                               \\\\\n",
       "\t X502\\_Group1A\\_50dpi\\_RA\\_252\\_B\\_A2\\_P125.mzXML & 502                                                     & Group1A                                                 & naive                                                   & 50dpi                                                   & RA                                                      & A2                                                      & P125                                                    & 0.011214204                                             & 0.007530000                                             & 0.00e+00                                                & 0.000060700                                             & 0.00e+00                                               \\\\\n",
       "\t X503\\_Group1A\\_50dpi\\_RA\\_253\\_B\\_A3\\_P125.mzXML & 503                                                     & Group1A                                                 & naive                                                   & 50dpi                                                   & RA                                                      & A3                                                      & P125                                                    & 0.001466114                                             & 0.002284202                                             & 0.00e+00                                                & 0.002540344                                             & 0.00e+00                                               \\\\\n",
       "\t X504\\_Group1A\\_50dpi\\_RA\\_254\\_B\\_A4\\_P125.mzXML & 504                                                     & Group1A                                                 & naive                                                   & 50dpi                                                   & RA                                                      & A4                                                      & P125                                                    & 0.001911612                                             & 0.003449213                                             & 0.00e+00                                                & 0.000348250                                             & 0.00e+00                                               \\\\\n",
       "\t X505\\_Group1A\\_50dpi\\_RA\\_255\\_B\\_A5\\_P125.mzXML & 505                                                     & Group1A                                                 & naive                                                   & 50dpi                                                   & RA                                                      & A5                                                      & P125                                                    & 0.001948260                                             & 0.002946007                                             & 0.00e+00                                                & 0.001875139                                             & 0.00e+00                                               \\\\\n",
       "\t X521\\_Group1A\\_50dpi\\_RA\\_256\\_B\\_A6\\_P125.mzXML & 521                                                     & Group1A                                                 & naive                                                   & 50dpi                                                   & RA                                                      & A6                                                      & P125                                                    & 0.000759709                                             & 0.002598417                                             & 0.00e+00                                                & 0.000693786                                             & 0.00e+00                                               \\\\\n",
       "\\end{tabular}\n"
      ],
      "text/markdown": [
       "\n",
       "| filename | MouseID | Treatmentgroup | status | DPI | organ | well_position | plate | mass_400 | mass_500 | mass_600 | mass_700 | mass_800 |\n",
       "|---|---|---|---|---|---|---|---|---|---|---|---|---|\n",
       "| X501_Group1A_50dpi_RA_251_B_A1_P125.mzXML | 501                                       | Group1A                                   | naive                                     | 50dpi                                     | RA                                        | A1                                        | P125                                      | 0.002276123                               | 0.005112843                               | 2.55e-05                                  | 0.004763915                               | 4.86e-05                                  |\n",
       "| X502_Group1A_50dpi_RA_252_B_A2_P125.mzXML | 502                                       | Group1A                                   | naive                                     | 50dpi                                     | RA                                        | A2                                        | P125                                      | 0.011214204                               | 0.007530000                               | 0.00e+00                                  | 0.000060700                               | 0.00e+00                                  |\n",
       "| X503_Group1A_50dpi_RA_253_B_A3_P125.mzXML | 503                                       | Group1A                                   | naive                                     | 50dpi                                     | RA                                        | A3                                        | P125                                      | 0.001466114                               | 0.002284202                               | 0.00e+00                                  | 0.002540344                               | 0.00e+00                                  |\n",
       "| X504_Group1A_50dpi_RA_254_B_A4_P125.mzXML | 504                                       | Group1A                                   | naive                                     | 50dpi                                     | RA                                        | A4                                        | P125                                      | 0.001911612                               | 0.003449213                               | 0.00e+00                                  | 0.000348250                               | 0.00e+00                                  |\n",
       "| X505_Group1A_50dpi_RA_255_B_A5_P125.mzXML | 505                                       | Group1A                                   | naive                                     | 50dpi                                     | RA                                        | A5                                        | P125                                      | 0.001948260                               | 0.002946007                               | 0.00e+00                                  | 0.001875139                               | 0.00e+00                                  |\n",
       "| X521_Group1A_50dpi_RA_256_B_A6_P125.mzXML | 521                                       | Group1A                                   | naive                                     | 50dpi                                     | RA                                        | A6                                        | P125                                      | 0.000759709                               | 0.002598417                               | 0.00e+00                                  | 0.000693786                               | 0.00e+00                                  |\n",
       "\n"
      ],
      "text/plain": [
       "  filename                                  MouseID Treatmentgroup status DPI  \n",
       "1 X501_Group1A_50dpi_RA_251_B_A1_P125.mzXML 501     Group1A        naive  50dpi\n",
       "2 X502_Group1A_50dpi_RA_252_B_A2_P125.mzXML 502     Group1A        naive  50dpi\n",
       "3 X503_Group1A_50dpi_RA_253_B_A3_P125.mzXML 503     Group1A        naive  50dpi\n",
       "4 X504_Group1A_50dpi_RA_254_B_A4_P125.mzXML 504     Group1A        naive  50dpi\n",
       "5 X505_Group1A_50dpi_RA_255_B_A5_P125.mzXML 505     Group1A        naive  50dpi\n",
       "6 X521_Group1A_50dpi_RA_256_B_A6_P125.mzXML 521     Group1A        naive  50dpi\n",
       "  organ well_position plate mass_400    mass_500    mass_600 mass_700   \n",
       "1 RA    A1            P125  0.002276123 0.005112843 2.55e-05 0.004763915\n",
       "2 RA    A2            P125  0.011214204 0.007530000 0.00e+00 0.000060700\n",
       "3 RA    A3            P125  0.001466114 0.002284202 0.00e+00 0.002540344\n",
       "4 RA    A4            P125  0.001911612 0.003449213 0.00e+00 0.000348250\n",
       "5 RA    A5            P125  0.001948260 0.002946007 0.00e+00 0.001875139\n",
       "6 RA    A6            P125  0.000759709 0.002598417 0.00e+00 0.000693786\n",
       "  mass_800\n",
       "1 4.86e-05\n",
       "2 0.00e+00\n",
       "3 0.00e+00\n",
       "4 0.00e+00\n",
       "5 0.00e+00\n",
       "6 0.00e+00"
      ]
     },
     "metadata": {},
     "output_type": "display_data"
    },
    {
     "data": {
      "text/html": [
       "<ol class=list-inline>\n",
       "\t<li>30</li>\n",
       "\t<li>13</li>\n",
       "</ol>\n"
      ],
      "text/latex": [
       "\\begin{enumerate*}\n",
       "\\item 30\n",
       "\\item 13\n",
       "\\end{enumerate*}\n"
      ],
      "text/markdown": [
       "1. 30\n",
       "2. 13\n",
       "\n",
       "\n"
      ],
      "text/plain": [
       "[1] 30 13"
      ]
     },
     "metadata": {},
     "output_type": "display_data"
    },
    {
     "data": {
      "text/html": [
       "<ol class=list-inline>\n",
       "\t<li>30</li>\n",
       "\t<li>5</li>\n",
       "</ol>\n"
      ],
      "text/latex": [
       "\\begin{enumerate*}\n",
       "\\item 30\n",
       "\\item 5\n",
       "\\end{enumerate*}\n"
      ],
      "text/markdown": [
       "1. 30\n",
       "2. 5\n",
       "\n",
       "\n"
      ],
      "text/plain": [
       "[1] 30  5"
      ]
     },
     "metadata": {},
     "output_type": "display_data"
    },
    {
     "data": {
      "text/html": [
       "<ol class=list-inline>\n",
       "\t<li>30</li>\n",
       "\t<li>5</li>\n",
       "</ol>\n"
      ],
      "text/latex": [
       "\\begin{enumerate*}\n",
       "\\item 30\n",
       "\\item 5\n",
       "\\end{enumerate*}\n"
      ],
      "text/markdown": [
       "1. 30\n",
       "2. 5\n",
       "\n",
       "\n"
      ],
      "text/plain": [
       "[1] 30  5"
      ]
     },
     "metadata": {},
     "output_type": "display_data"
    },
    {
     "data": {
      "text/html": [
       "<ol class=list-inline>\n",
       "\t<li>30</li>\n",
       "\t<li>13</li>\n",
       "</ol>\n"
      ],
      "text/latex": [
       "\\begin{enumerate*}\n",
       "\\item 30\n",
       "\\item 13\n",
       "\\end{enumerate*}\n"
      ],
      "text/markdown": [
       "1. 30\n",
       "2. 13\n",
       "\n",
       "\n"
      ],
      "text/plain": [
       "[1] 30 13"
      ]
     },
     "metadata": {},
     "output_type": "display_data"
    }
   ],
   "source": [
    "noMeta<-features_pos[,9:13] \n",
    "head(noMeta)\n",
    "not_zero<-which(colSums(noMeta) != 0)\n",
    "head(not_zero)\n",
    "nonzero <- noMeta[, not_zero] \n",
    "nonzero\n",
    "nonzero_wMeta<-cbind(features_pos[,1:8], nonzero)\n",
    "head(nonzero_wMeta)\n",
    "dim(features_pos)\n",
    "dim(noMeta)\n",
    "dim(nonzero)\n",
    "dim(nonzero_wMeta)"
   ]
  },
  {
   "cell_type": "code",
   "execution_count": 5,
   "metadata": {
    "scrolled": true
   },
   "outputs": [
    {
     "name": "stderr",
     "output_type": "stream",
     "text": [
      "Warning message in wilcox.test.default(x = c(2.55e-05, 0, 0, 0, 0, 0, 0, 0, 0, 0, :\n",
      "\"cannot compute exact p-value with ties\"Warning message in wilcox.test.default(x = c(0.004763915, 6.07e-05, 0.002540344, :\n",
      "\"cannot compute exact p-value with ties\"Warning message in wilcox.test.default(x = c(4.86e-05, 0, 0, 0, 0, 0, 0, 0, 0, 0, :\n",
      "\"cannot compute exact p-value with ties\""
     ]
    },
    {
     "data": {
      "text/html": [
       "<ol class=list-inline>\n",
       "\t<li>0.173608899884423</li>\n",
       "\t<li>0.148479991170565</li>\n",
       "\t<li>0.261466305877338</li>\n",
       "\t<li>0.884446389792182</li>\n",
       "\t<li>0.292456088688432</li>\n",
       "</ol>\n"
      ],
      "text/latex": [
       "\\begin{enumerate*}\n",
       "\\item 0.173608899884423\n",
       "\\item 0.148479991170565\n",
       "\\item 0.261466305877338\n",
       "\\item 0.884446389792182\n",
       "\\item 0.292456088688432\n",
       "\\end{enumerate*}\n"
      ],
      "text/markdown": [
       "1. 0.173608899884423\n",
       "2. 0.148479991170565\n",
       "3. 0.261466305877338\n",
       "4. 0.884446389792182\n",
       "5. 0.292456088688432\n",
       "\n",
       "\n"
      ],
      "text/plain": [
       "[1] 0.1736089 0.1484800 0.2614663 0.8844464 0.2924561"
      ]
     },
     "metadata": {},
     "output_type": "display_data"
    },
    {
     "data": {
      "text/html": [
       "<ol class=list-inline>\n",
       "\t<li>0.365570110860539</li>\n",
       "\t<li>0.365570110860539</li>\n",
       "\t<li>0.365570110860539</li>\n",
       "\t<li>0.884446389792182</li>\n",
       "\t<li>0.365570110860539</li>\n",
       "</ol>\n"
      ],
      "text/latex": [
       "\\begin{enumerate*}\n",
       "\\item 0.365570110860539\n",
       "\\item 0.365570110860539\n",
       "\\item 0.365570110860539\n",
       "\\item 0.884446389792182\n",
       "\\item 0.365570110860539\n",
       "\\end{enumerate*}\n"
      ],
      "text/markdown": [
       "1. 0.365570110860539\n",
       "2. 0.365570110860539\n",
       "3. 0.365570110860539\n",
       "4. 0.884446389792182\n",
       "5. 0.365570110860539\n",
       "\n",
       "\n"
      ],
      "text/plain": [
       "[1] 0.3655701 0.3655701 0.3655701 0.8844464 0.3655701"
      ]
     },
     "metadata": {},
     "output_type": "display_data"
    }
   ],
   "source": [
    "pval<-c()\n",
    "\n",
    "for (i in 9:ncol(nonzero_wMeta)) \n",
    "pval<-c(pval,wilcox.test(nonzero_wMeta[,i]~nonzero_wMeta$Treatmentgroup)$p.value)\n",
    "head(pval)\n",
    "pAdj <- p.adjust(pval, method = c(\"fdr\"), n=length(pval)) \n",
    "head(pAdj) \n",
    "\n"
   ]
  },
  {
   "cell_type": "code",
   "execution_count": 6,
   "metadata": {
    "scrolled": true
   },
   "outputs": [
    {
     "data": {
      "text/html": [
       "5"
      ],
      "text/latex": [
       "5"
      ],
      "text/markdown": [
       "5"
      ],
      "text/plain": [
       "[1] 5"
      ]
     },
     "metadata": {},
     "output_type": "display_data"
    }
   ],
   "source": [
    "length(pval)"
   ]
  },
  {
   "cell_type": "code",
   "execution_count": 7,
   "metadata": {
    "scrolled": true
   },
   "outputs": [
    {
     "data": {
      "text/html": [
       "5"
      ],
      "text/latex": [
       "5"
      ],
      "text/markdown": [
       "5"
      ],
      "text/plain": [
       "[1] 5"
      ]
     },
     "metadata": {},
     "output_type": "display_data"
    }
   ],
   "source": [
    "length(pAdj)"
   ]
  },
  {
   "cell_type": "code",
   "execution_count": 8,
   "metadata": {},
   "outputs": [
    {
     "data": {
      "text/html": [
       "<ol class=list-inline>\n",
       "\t<li>2</li>\n",
       "\t<li>5</li>\n",
       "</ol>\n"
      ],
      "text/latex": [
       "\\begin{enumerate*}\n",
       "\\item 2\n",
       "\\item 5\n",
       "\\end{enumerate*}\n"
      ],
      "text/markdown": [
       "1. 2\n",
       "2. 5\n",
       "\n",
       "\n"
      ],
      "text/plain": [
       "[1] 2 5"
      ]
     },
     "metadata": {},
     "output_type": "display_data"
    },
    {
     "data": {
      "text/html": [
       "<table>\n",
       "<thead><tr><th></th><th scope=col>mass_400</th><th scope=col>mass_500</th><th scope=col>mass_600</th></tr></thead>\n",
       "<tbody>\n",
       "\t<tr><th scope=row>Group1A</th><td>0.002956261 </td><td>0.004230610 </td><td>1.700000e-06</td></tr>\n",
       "\t<tr><th scope=row>Group3A</th><td>0.003760866 </td><td>0.005959923 </td><td>3.422967e-05</td></tr>\n",
       "</tbody>\n",
       "</table>\n"
      ],
      "text/latex": [
       "\\begin{tabular}{r|lll}\n",
       "  & mass\\_400 & mass\\_500 & mass\\_600\\\\\n",
       "\\hline\n",
       "\tGroup1A & 0.002956261  & 0.004230610  & 1.700000e-06\\\\\n",
       "\tGroup3A & 0.003760866  & 0.005959923  & 3.422967e-05\\\\\n",
       "\\end{tabular}\n"
      ],
      "text/markdown": [
       "\n",
       "| <!--/--> | mass_400 | mass_500 | mass_600 |\n",
       "|---|---|---|---|\n",
       "| Group1A | 0.002956261  | 0.004230610  | 1.700000e-06 |\n",
       "| Group3A | 0.003760866  | 0.005959923  | 3.422967e-05 |\n",
       "\n"
      ],
      "text/plain": [
       "        mass_400    mass_500    mass_600    \n",
       "Group1A 0.002956261 0.004230610 1.700000e-06\n",
       "Group3A 0.003760866 0.005959923 3.422967e-05"
      ]
     },
     "metadata": {},
     "output_type": "display_data"
    },
    {
     "data": {
      "text/html": [
       "<dl class=dl-horizontal>\n",
       "\t<dt>mass_400</dt>\n",
       "\t\t<dd>0.786058596013996</dd>\n",
       "\t<dt>mass_500</dt>\n",
       "\t\t<dd>0.709843155793108</dd>\n",
       "\t<dt>mass_600</dt>\n",
       "\t\t<dd>0.0496645210295163</dd>\n",
       "\t<dt>mass_700</dt>\n",
       "\t\t<dd>0.548906012708027</dd>\n",
       "\t<dt>mass_800</dt>\n",
       "\t\t<dd>0.108773743898263</dd>\n",
       "</dl>\n"
      ],
      "text/latex": [
       "\\begin{description*}\n",
       "\\item[mass\\textbackslash{}\\_400] 0.786058596013996\n",
       "\\item[mass\\textbackslash{}\\_500] 0.709843155793108\n",
       "\\item[mass\\textbackslash{}\\_600] 0.0496645210295163\n",
       "\\item[mass\\textbackslash{}\\_700] 0.548906012708027\n",
       "\\item[mass\\textbackslash{}\\_800] 0.108773743898263\n",
       "\\end{description*}\n"
      ],
      "text/markdown": [
       "mass_400\n",
       ":   0.786058596013996mass_500\n",
       ":   0.709843155793108mass_600\n",
       ":   0.0496645210295163mass_700\n",
       ":   0.548906012708027mass_800\n",
       ":   0.108773743898263\n",
       "\n"
      ],
      "text/plain": [
       "  mass_400   mass_500   mass_600   mass_700   mass_800 \n",
       "0.78605860 0.70984316 0.04966452 0.54890601 0.10877374 "
      ]
     },
     "metadata": {},
     "output_type": "display_data"
    },
    {
     "data": {
      "text/html": [
       "<ol class=list-inline>\n",
       "\t<li>'numeric'</li>\n",
       "\t<li>'vector'</li>\n",
       "</ol>\n"
      ],
      "text/latex": [
       "\\begin{enumerate*}\n",
       "\\item 'numeric'\n",
       "\\item 'vector'\n",
       "\\end{enumerate*}\n"
      ],
      "text/markdown": [
       "1. 'numeric'\n",
       "2. 'vector'\n",
       "\n",
       "\n"
      ],
      "text/plain": [
       "[1] \"numeric\" \"vector\" "
      ]
     },
     "metadata": {},
     "output_type": "display_data"
    }
   ],
   "source": [
    "avg<- apply(nonzero_wMeta[,9:ncol(nonzero_wMeta)], 2, function(x) tapply(x, nonzero_wMeta$Treatmentgroup, function(x) mean(x))) \n",
    "\n",
    "dim(avg)\n",
    "\n",
    "avg[,1:3]\n",
    "\n",
    "fch <- apply(avg, 2, function(x) x[1]/x[2])\n",
    "\n",
    "head(fch)\n",
    "is(fch)"
   ]
  },
  {
   "cell_type": "code",
   "execution_count": 9,
   "metadata": {
    "scrolled": true
   },
   "outputs": [
    {
     "data": {
      "text/html": [
       "<dl class=dl-horizontal>\n",
       "\t<dt>mass_400</dt>\n",
       "\t\t<dd>0.786058596013996</dd>\n",
       "\t<dt>mass_500</dt>\n",
       "\t\t<dd>0.709843155793108</dd>\n",
       "\t<dt>mass_600</dt>\n",
       "\t\t<dd>0.0496645210295163</dd>\n",
       "\t<dt>mass_700</dt>\n",
       "\t\t<dd>0.548906012708027</dd>\n",
       "\t<dt>mass_800</dt>\n",
       "\t\t<dd>0.108773743898263</dd>\n",
       "</dl>\n"
      ],
      "text/latex": [
       "\\begin{description*}\n",
       "\\item[mass\\textbackslash{}\\_400] 0.786058596013996\n",
       "\\item[mass\\textbackslash{}\\_500] 0.709843155793108\n",
       "\\item[mass\\textbackslash{}\\_600] 0.0496645210295163\n",
       "\\item[mass\\textbackslash{}\\_700] 0.548906012708027\n",
       "\\item[mass\\textbackslash{}\\_800] 0.108773743898263\n",
       "\\end{description*}\n"
      ],
      "text/markdown": [
       "mass_400\n",
       ":   0.786058596013996mass_500\n",
       ":   0.709843155793108mass_600\n",
       ":   0.0496645210295163mass_700\n",
       ":   0.548906012708027mass_800\n",
       ":   0.108773743898263\n",
       "\n"
      ],
      "text/plain": [
       "  mass_400   mass_500   mass_600   mass_700   mass_800 \n",
       "0.78605860 0.70984316 0.04966452 0.54890601 0.10877374 "
      ]
     },
     "metadata": {},
     "output_type": "display_data"
    }
   ],
   "source": [
    "fch"
   ]
  },
  {
   "cell_type": "code",
   "execution_count": 10,
   "metadata": {
    "scrolled": false
   },
   "outputs": [],
   "source": [
    "df <- data.frame(fch,pval, pAdj)\n",
    "write.csv(df, \"PE-time-RA-wilcox-1A-3A.csv\")"
   ]
  },
  {
   "cell_type": "code",
   "execution_count": null,
   "metadata": {},
   "outputs": [],
   "source": []
  },
  {
   "cell_type": "code",
   "execution_count": null,
   "metadata": {},
   "outputs": [],
   "source": []
  },
  {
   "cell_type": "code",
   "execution_count": null,
   "metadata": {},
   "outputs": [],
   "source": []
  },
  {
   "cell_type": "code",
   "execution_count": null,
   "metadata": {},
   "outputs": [],
   "source": []
  },
  {
   "cell_type": "code",
   "execution_count": null,
   "metadata": {},
   "outputs": [],
   "source": []
  },
  {
   "cell_type": "code",
   "execution_count": null,
   "metadata": {},
   "outputs": [],
   "source": []
  }
 ],
 "metadata": {
  "kernelspec": {
   "display_name": "R",
   "language": "R",
   "name": "ir"
  },
  "language_info": {
   "codemirror_mode": "r",
   "file_extension": ".r",
   "mimetype": "text/x-r-source",
   "name": "R",
   "pygments_lexer": "r",
   "version": "3.6.1"
  }
 },
 "nbformat": 4,
 "nbformat_minor": 2
}
