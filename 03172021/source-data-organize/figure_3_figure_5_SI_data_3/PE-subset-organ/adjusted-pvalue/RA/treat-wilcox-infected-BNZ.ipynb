{
 "cells": [
  {
   "cell_type": "code",
   "execution_count": 1,
   "metadata": {},
   "outputs": [],
   "source": [
    "a <- read.csv(\"03172021-PE-treatment-RA-M-F.csv\")"
   ]
  },
  {
   "cell_type": "code",
   "execution_count": 2,
   "metadata": {},
   "outputs": [
    {
     "data": {
      "text/html": [
       "<table>\n",
       "<thead><tr><th scope=col>filename</th><th scope=col>MouseID</th><th scope=col>Treatmentgroup</th><th scope=col>DPI</th><th scope=col>organ</th><th scope=col>well_position</th><th scope=col>plate</th><th scope=col>mass_400</th><th scope=col>mass_500</th><th scope=col>mass_600</th><th scope=col>mass_700</th><th scope=col>mass_800</th></tr></thead>\n",
       "<tbody>\n",
       "\t<tr><td>X511_Group1C_142dpi_RA_161_G_A1_P124.mzXML</td><td>511                                       </td><td>naive                                     </td><td>142dpi                                    </td><td>RA                                        </td><td>A1                                        </td><td>P124                                      </td><td>0.000654335                               </td><td>0.003736275                               </td><td>0.000000000                               </td><td>0.000832270                               </td><td>0.000000000                               </td></tr>\n",
       "\t<tr><td>X512_Group1C_142dpi_RA_162_G_A2_P124.mzXML</td><td>512                                       </td><td>naive                                     </td><td>142dpi                                    </td><td>RA                                        </td><td>A2                                        </td><td>P124                                      </td><td>0.001902661                               </td><td>0.007220000                               </td><td>0.000000000                               </td><td>0.003141999                               </td><td>0.000000000                               </td></tr>\n",
       "\t<tr><td>X513_Group1C_142dpi_RA_163_G_A3_P124.mzXML</td><td>513                                       </td><td>naive                                     </td><td>142dpi                                    </td><td>RA                                        </td><td>A3                                        </td><td>P124                                      </td><td>0.005683259                               </td><td>0.006810000                               </td><td>0.000069000                               </td><td>0.010410065                               </td><td>0.000484937                               </td></tr>\n",
       "\t<tr><td>X514_Group1C_142dpi_RA_164_G_A4_P124.mzXML</td><td>514                                       </td><td>naive                                     </td><td>142dpi                                    </td><td>RA                                        </td><td>A4                                        </td><td>P124                                      </td><td>0.004470928                               </td><td>0.004333828                               </td><td>0.000201159                               </td><td>0.001951171                               </td><td>0.000000000                               </td></tr>\n",
       "\t<tr><td>X515_Group1C_142dpi_RA_165_G_A5_P124.mzXML</td><td>515                                       </td><td>naive                                     </td><td>142dpi                                    </td><td>RA                                        </td><td>A5                                        </td><td>P124                                      </td><td>0.000504340                               </td><td>0.002660000                               </td><td>0.000000000                               </td><td>0.000772434                               </td><td>0.000000000                               </td></tr>\n",
       "\t<tr><td>X531_Group1C_142dpi_RA_166_G_A6_P124.mzXML</td><td>531                                       </td><td>naive                                     </td><td>142dpi                                    </td><td>RA                                        </td><td>A6                                        </td><td>P124                                      </td><td>0.003767551                               </td><td>0.009470000                               </td><td>0.000000000                               </td><td>0.002650000                               </td><td>0.000000000                               </td></tr>\n",
       "</tbody>\n",
       "</table>\n"
      ],
      "text/latex": [
       "\\begin{tabular}{r|llllllllllll}\n",
       " filename & MouseID & Treatmentgroup & DPI & organ & well\\_position & plate & mass\\_400 & mass\\_500 & mass\\_600 & mass\\_700 & mass\\_800\\\\\n",
       "\\hline\n",
       "\t X511\\_Group1C\\_142dpi\\_RA\\_161\\_G\\_A1\\_P124.mzXML & 511                                                      & naive                                                    & 142dpi                                                   & RA                                                       & A1                                                       & P124                                                     & 0.000654335                                              & 0.003736275                                              & 0.000000000                                              & 0.000832270                                              & 0.000000000                                             \\\\\n",
       "\t X512\\_Group1C\\_142dpi\\_RA\\_162\\_G\\_A2\\_P124.mzXML & 512                                                      & naive                                                    & 142dpi                                                   & RA                                                       & A2                                                       & P124                                                     & 0.001902661                                              & 0.007220000                                              & 0.000000000                                              & 0.003141999                                              & 0.000000000                                             \\\\\n",
       "\t X513\\_Group1C\\_142dpi\\_RA\\_163\\_G\\_A3\\_P124.mzXML & 513                                                      & naive                                                    & 142dpi                                                   & RA                                                       & A3                                                       & P124                                                     & 0.005683259                                              & 0.006810000                                              & 0.000069000                                              & 0.010410065                                              & 0.000484937                                             \\\\\n",
       "\t X514\\_Group1C\\_142dpi\\_RA\\_164\\_G\\_A4\\_P124.mzXML & 514                                                      & naive                                                    & 142dpi                                                   & RA                                                       & A4                                                       & P124                                                     & 0.004470928                                              & 0.004333828                                              & 0.000201159                                              & 0.001951171                                              & 0.000000000                                             \\\\\n",
       "\t X515\\_Group1C\\_142dpi\\_RA\\_165\\_G\\_A5\\_P124.mzXML & 515                                                      & naive                                                    & 142dpi                                                   & RA                                                       & A5                                                       & P124                                                     & 0.000504340                                              & 0.002660000                                              & 0.000000000                                              & 0.000772434                                              & 0.000000000                                             \\\\\n",
       "\t X531\\_Group1C\\_142dpi\\_RA\\_166\\_G\\_A6\\_P124.mzXML & 531                                                      & naive                                                    & 142dpi                                                   & RA                                                       & A6                                                       & P124                                                     & 0.003767551                                              & 0.009470000                                              & 0.000000000                                              & 0.002650000                                              & 0.000000000                                             \\\\\n",
       "\\end{tabular}\n"
      ],
      "text/markdown": [
       "\n",
       "| filename | MouseID | Treatmentgroup | DPI | organ | well_position | plate | mass_400 | mass_500 | mass_600 | mass_700 | mass_800 |\n",
       "|---|---|---|---|---|---|---|---|---|---|---|---|\n",
       "| X511_Group1C_142dpi_RA_161_G_A1_P124.mzXML | 511                                        | naive                                      | 142dpi                                     | RA                                         | A1                                         | P124                                       | 0.000654335                                | 0.003736275                                | 0.000000000                                | 0.000832270                                | 0.000000000                                |\n",
       "| X512_Group1C_142dpi_RA_162_G_A2_P124.mzXML | 512                                        | naive                                      | 142dpi                                     | RA                                         | A2                                         | P124                                       | 0.001902661                                | 0.007220000                                | 0.000000000                                | 0.003141999                                | 0.000000000                                |\n",
       "| X513_Group1C_142dpi_RA_163_G_A3_P124.mzXML | 513                                        | naive                                      | 142dpi                                     | RA                                         | A3                                         | P124                                       | 0.005683259                                | 0.006810000                                | 0.000069000                                | 0.010410065                                | 0.000484937                                |\n",
       "| X514_Group1C_142dpi_RA_164_G_A4_P124.mzXML | 514                                        | naive                                      | 142dpi                                     | RA                                         | A4                                         | P124                                       | 0.004470928                                | 0.004333828                                | 0.000201159                                | 0.001951171                                | 0.000000000                                |\n",
       "| X515_Group1C_142dpi_RA_165_G_A5_P124.mzXML | 515                                        | naive                                      | 142dpi                                     | RA                                         | A5                                         | P124                                       | 0.000504340                                | 0.002660000                                | 0.000000000                                | 0.000772434                                | 0.000000000                                |\n",
       "| X531_Group1C_142dpi_RA_166_G_A6_P124.mzXML | 531                                        | naive                                      | 142dpi                                     | RA                                         | A6                                         | P124                                       | 0.003767551                                | 0.009470000                                | 0.000000000                                | 0.002650000                                | 0.000000000                                |\n",
       "\n"
      ],
      "text/plain": [
       "  filename                                   MouseID Treatmentgroup DPI   \n",
       "1 X511_Group1C_142dpi_RA_161_G_A1_P124.mzXML 511     naive          142dpi\n",
       "2 X512_Group1C_142dpi_RA_162_G_A2_P124.mzXML 512     naive          142dpi\n",
       "3 X513_Group1C_142dpi_RA_163_G_A3_P124.mzXML 513     naive          142dpi\n",
       "4 X514_Group1C_142dpi_RA_164_G_A4_P124.mzXML 514     naive          142dpi\n",
       "5 X515_Group1C_142dpi_RA_165_G_A5_P124.mzXML 515     naive          142dpi\n",
       "6 X531_Group1C_142dpi_RA_166_G_A6_P124.mzXML 531     naive          142dpi\n",
       "  organ well_position plate mass_400    mass_500    mass_600    mass_700   \n",
       "1 RA    A1            P124  0.000654335 0.003736275 0.000000000 0.000832270\n",
       "2 RA    A2            P124  0.001902661 0.007220000 0.000000000 0.003141999\n",
       "3 RA    A3            P124  0.005683259 0.006810000 0.000069000 0.010410065\n",
       "4 RA    A4            P124  0.004470928 0.004333828 0.000201159 0.001951171\n",
       "5 RA    A5            P124  0.000504340 0.002660000 0.000000000 0.000772434\n",
       "6 RA    A6            P124  0.003767551 0.009470000 0.000000000 0.002650000\n",
       "  mass_800   \n",
       "1 0.000000000\n",
       "2 0.000000000\n",
       "3 0.000484937\n",
       "4 0.000000000\n",
       "5 0.000000000\n",
       "6 0.000000000"
      ]
     },
     "metadata": {},
     "output_type": "display_data"
    },
    {
     "data": {
      "text/html": [
       "<ol class=list-inline>\n",
       "\t<li>60</li>\n",
       "\t<li>12</li>\n",
       "</ol>\n"
      ],
      "text/latex": [
       "\\begin{enumerate*}\n",
       "\\item 60\n",
       "\\item 12\n",
       "\\end{enumerate*}\n"
      ],
      "text/markdown": [
       "1. 60\n",
       "2. 12\n",
       "\n",
       "\n"
      ],
      "text/plain": [
       "[1] 60 12"
      ]
     },
     "metadata": {},
     "output_type": "display_data"
    }
   ],
   "source": [
    "head(a)\n",
    "dim(a)"
   ]
  },
  {
   "cell_type": "code",
   "execution_count": 3,
   "metadata": {},
   "outputs": [
    {
     "data": {
      "text/html": [
       "<table>\n",
       "<thead><tr><th></th><th scope=col>filename</th><th scope=col>MouseID</th><th scope=col>Treatmentgroup</th><th scope=col>DPI</th><th scope=col>organ</th><th scope=col>well_position</th><th scope=col>plate</th><th scope=col>mass_400</th><th scope=col>mass_500</th><th scope=col>mass_600</th><th scope=col>mass_700</th><th scope=col>mass_800</th></tr></thead>\n",
       "<tbody>\n",
       "\t<tr><th scope=row>16</th><td>X581_Group3E_142dpi_RA_176_G_B4_P124.mzXML</td><td>581                                       </td><td>infected                                  </td><td>142dpi                                    </td><td>RA                                        </td><td>B4                                        </td><td>P124                                      </td><td>0.010463229                               </td><td>0.02027747                                </td><td>3.12e-05                                  </td><td>0.004249540                               </td><td>0.000000000                               </td></tr>\n",
       "\t<tr><th scope=row>17</th><td>X582_Group3E_142dpi_RA_177_G_B5_P124.mzXML</td><td>582                                       </td><td>infected                                  </td><td>142dpi                                    </td><td>RA                                        </td><td>B5                                        </td><td>P124                                      </td><td>0.011081501                               </td><td>0.02504573                                </td><td>4.88e-05                                  </td><td>0.008411663                               </td><td>0.000000000                               </td></tr>\n",
       "\t<tr><th scope=row>18</th><td>X583_Group3E_142dpi_RA_178_G_B6_P124.mzXML</td><td>583                                       </td><td>infected                                  </td><td>142dpi                                    </td><td>RA                                        </td><td>B6                                        </td><td>P124                                      </td><td>0.003708060                               </td><td>0.01443396                                </td><td>4.44e-05                                  </td><td>0.000000000                               </td><td>0.000000000                               </td></tr>\n",
       "\t<tr><th scope=row>19</th><td>X584_Group3E_142dpi_RA_179_G_B7_P124.mzXML</td><td>584                                       </td><td>infected                                  </td><td>142dpi                                    </td><td>RA                                        </td><td>B7                                        </td><td>P124                                      </td><td>0.000650048                               </td><td>0.00421000                                </td><td>3.16e-05                                  </td><td>0.015013471                               </td><td>0.000326066                               </td></tr>\n",
       "\t<tr><th scope=row>20</th><td>X585_Group3E_142dpi_RA_180_G_B8_P124.mzXML</td><td>585                                       </td><td>infected                                  </td><td>142dpi                                    </td><td>RA                                        </td><td>B8                                        </td><td>P124                                      </td><td>0.007332559                               </td><td>0.02168942                                </td><td>0.00e+00                                  </td><td>0.008542580                               </td><td>0.000000000                               </td></tr>\n",
       "\t<tr><th scope=row>26</th><td>X631_Group15_142dpi_RA_191_G_C7_P124.mzXML</td><td>631                                       </td><td>BNZ                                       </td><td>142dpi                                    </td><td>RA                                        </td><td>C7                                        </td><td>P124                                      </td><td>0.004634800                               </td><td>0.00813000                                </td><td>0.00e+00                                  </td><td>0.000392000                               </td><td>0.000000000                               </td></tr>\n",
       "</tbody>\n",
       "</table>\n"
      ],
      "text/latex": [
       "\\begin{tabular}{r|llllllllllll}\n",
       "  & filename & MouseID & Treatmentgroup & DPI & organ & well\\_position & plate & mass\\_400 & mass\\_500 & mass\\_600 & mass\\_700 & mass\\_800\\\\\n",
       "\\hline\n",
       "\t16 & X581\\_Group3E\\_142dpi\\_RA\\_176\\_G\\_B4\\_P124.mzXML & 581                                                      & infected                                                 & 142dpi                                                   & RA                                                       & B4                                                       & P124                                                     & 0.010463229                                              & 0.02027747                                               & 3.12e-05                                                 & 0.004249540                                              & 0.000000000                                             \\\\\n",
       "\t17 & X582\\_Group3E\\_142dpi\\_RA\\_177\\_G\\_B5\\_P124.mzXML & 582                                                      & infected                                                 & 142dpi                                                   & RA                                                       & B5                                                       & P124                                                     & 0.011081501                                              & 0.02504573                                               & 4.88e-05                                                 & 0.008411663                                              & 0.000000000                                             \\\\\n",
       "\t18 & X583\\_Group3E\\_142dpi\\_RA\\_178\\_G\\_B6\\_P124.mzXML & 583                                                      & infected                                                 & 142dpi                                                   & RA                                                       & B6                                                       & P124                                                     & 0.003708060                                              & 0.01443396                                               & 4.44e-05                                                 & 0.000000000                                              & 0.000000000                                             \\\\\n",
       "\t19 & X584\\_Group3E\\_142dpi\\_RA\\_179\\_G\\_B7\\_P124.mzXML & 584                                                      & infected                                                 & 142dpi                                                   & RA                                                       & B7                                                       & P124                                                     & 0.000650048                                              & 0.00421000                                               & 3.16e-05                                                 & 0.015013471                                              & 0.000326066                                             \\\\\n",
       "\t20 & X585\\_Group3E\\_142dpi\\_RA\\_180\\_G\\_B8\\_P124.mzXML & 585                                                      & infected                                                 & 142dpi                                                   & RA                                                       & B8                                                       & P124                                                     & 0.007332559                                              & 0.02168942                                               & 0.00e+00                                                 & 0.008542580                                              & 0.000000000                                             \\\\\n",
       "\t26 & X631\\_Group15\\_142dpi\\_RA\\_191\\_G\\_C7\\_P124.mzXML & 631                                                      & BNZ                                                      & 142dpi                                                   & RA                                                       & C7                                                       & P124                                                     & 0.004634800                                              & 0.00813000                                               & 0.00e+00                                                 & 0.000392000                                              & 0.000000000                                             \\\\\n",
       "\\end{tabular}\n"
      ],
      "text/markdown": [
       "\n",
       "| <!--/--> | filename | MouseID | Treatmentgroup | DPI | organ | well_position | plate | mass_400 | mass_500 | mass_600 | mass_700 | mass_800 |\n",
       "|---|---|---|---|---|---|---|---|---|---|---|---|---|\n",
       "| 16 | X581_Group3E_142dpi_RA_176_G_B4_P124.mzXML | 581                                        | infected                                   | 142dpi                                     | RA                                         | B4                                         | P124                                       | 0.010463229                                | 0.02027747                                 | 3.12e-05                                   | 0.004249540                                | 0.000000000                                |\n",
       "| 17 | X582_Group3E_142dpi_RA_177_G_B5_P124.mzXML | 582                                        | infected                                   | 142dpi                                     | RA                                         | B5                                         | P124                                       | 0.011081501                                | 0.02504573                                 | 4.88e-05                                   | 0.008411663                                | 0.000000000                                |\n",
       "| 18 | X583_Group3E_142dpi_RA_178_G_B6_P124.mzXML | 583                                        | infected                                   | 142dpi                                     | RA                                         | B6                                         | P124                                       | 0.003708060                                | 0.01443396                                 | 4.44e-05                                   | 0.000000000                                | 0.000000000                                |\n",
       "| 19 | X584_Group3E_142dpi_RA_179_G_B7_P124.mzXML | 584                                        | infected                                   | 142dpi                                     | RA                                         | B7                                         | P124                                       | 0.000650048                                | 0.00421000                                 | 3.16e-05                                   | 0.015013471                                | 0.000326066                                |\n",
       "| 20 | X585_Group3E_142dpi_RA_180_G_B8_P124.mzXML | 585                                        | infected                                   | 142dpi                                     | RA                                         | B8                                         | P124                                       | 0.007332559                                | 0.02168942                                 | 0.00e+00                                   | 0.008542580                                | 0.000000000                                |\n",
       "| 26 | X631_Group15_142dpi_RA_191_G_C7_P124.mzXML | 631                                        | BNZ                                        | 142dpi                                     | RA                                         | C7                                         | P124                                       | 0.004634800                                | 0.00813000                                 | 0.00e+00                                   | 0.000392000                                | 0.000000000                                |\n",
       "\n"
      ],
      "text/plain": [
       "   filename                                   MouseID Treatmentgroup DPI   \n",
       "16 X581_Group3E_142dpi_RA_176_G_B4_P124.mzXML 581     infected       142dpi\n",
       "17 X582_Group3E_142dpi_RA_177_G_B5_P124.mzXML 582     infected       142dpi\n",
       "18 X583_Group3E_142dpi_RA_178_G_B6_P124.mzXML 583     infected       142dpi\n",
       "19 X584_Group3E_142dpi_RA_179_G_B7_P124.mzXML 584     infected       142dpi\n",
       "20 X585_Group3E_142dpi_RA_180_G_B8_P124.mzXML 585     infected       142dpi\n",
       "26 X631_Group15_142dpi_RA_191_G_C7_P124.mzXML 631     BNZ            142dpi\n",
       "   organ well_position plate mass_400    mass_500   mass_600 mass_700   \n",
       "16 RA    B4            P124  0.010463229 0.02027747 3.12e-05 0.004249540\n",
       "17 RA    B5            P124  0.011081501 0.02504573 4.88e-05 0.008411663\n",
       "18 RA    B6            P124  0.003708060 0.01443396 4.44e-05 0.000000000\n",
       "19 RA    B7            P124  0.000650048 0.00421000 3.16e-05 0.015013471\n",
       "20 RA    B8            P124  0.007332559 0.02168942 0.00e+00 0.008542580\n",
       "26 RA    C7            P124  0.004634800 0.00813000 0.00e+00 0.000392000\n",
       "   mass_800   \n",
       "16 0.000000000\n",
       "17 0.000000000\n",
       "18 0.000000000\n",
       "19 0.000326066\n",
       "20 0.000000000\n",
       "26 0.000000000"
      ]
     },
     "metadata": {},
     "output_type": "display_data"
    },
    {
     "data": {
      "text/html": [
       "<ol class=list-inline>\n",
       "\t<li>30</li>\n",
       "\t<li>12</li>\n",
       "</ol>\n"
      ],
      "text/latex": [
       "\\begin{enumerate*}\n",
       "\\item 30\n",
       "\\item 12\n",
       "\\end{enumerate*}\n"
      ],
      "text/markdown": [
       "1. 30\n",
       "2. 12\n",
       "\n",
       "\n"
      ],
      "text/plain": [
       "[1] 30 12"
      ]
     },
     "metadata": {},
     "output_type": "display_data"
    }
   ],
   "source": [
    "features_pos<-droplevels(subset(a, a$Treatmentgroup==c(\"infected\")|a$Treatmentgroup==c(\"BNZ\")))\n",
    "head(features_pos)\n",
    "dim(features_pos)"
   ]
  },
  {
   "cell_type": "code",
   "execution_count": 4,
   "metadata": {
    "scrolled": false
   },
   "outputs": [
    {
     "data": {
      "text/html": [
       "<table>\n",
       "<thead><tr><th></th><th scope=col>mass_400</th><th scope=col>mass_500</th><th scope=col>mass_600</th><th scope=col>mass_700</th><th scope=col>mass_800</th></tr></thead>\n",
       "<tbody>\n",
       "\t<tr><th scope=row>16</th><td>0.010463229</td><td>0.02027747 </td><td>3.12e-05   </td><td>0.004249540</td><td>0.000000000</td></tr>\n",
       "\t<tr><th scope=row>17</th><td>0.011081501</td><td>0.02504573 </td><td>4.88e-05   </td><td>0.008411663</td><td>0.000000000</td></tr>\n",
       "\t<tr><th scope=row>18</th><td>0.003708060</td><td>0.01443396 </td><td>4.44e-05   </td><td>0.000000000</td><td>0.000000000</td></tr>\n",
       "\t<tr><th scope=row>19</th><td>0.000650048</td><td>0.00421000 </td><td>3.16e-05   </td><td>0.015013471</td><td>0.000326066</td></tr>\n",
       "\t<tr><th scope=row>20</th><td>0.007332559</td><td>0.02168942 </td><td>0.00e+00   </td><td>0.008542580</td><td>0.000000000</td></tr>\n",
       "\t<tr><th scope=row>26</th><td>0.004634800</td><td>0.00813000 </td><td>0.00e+00   </td><td>0.000392000</td><td>0.000000000</td></tr>\n",
       "</tbody>\n",
       "</table>\n"
      ],
      "text/latex": [
       "\\begin{tabular}{r|lllll}\n",
       "  & mass\\_400 & mass\\_500 & mass\\_600 & mass\\_700 & mass\\_800\\\\\n",
       "\\hline\n",
       "\t16 & 0.010463229 & 0.02027747  & 3.12e-05    & 0.004249540 & 0.000000000\\\\\n",
       "\t17 & 0.011081501 & 0.02504573  & 4.88e-05    & 0.008411663 & 0.000000000\\\\\n",
       "\t18 & 0.003708060 & 0.01443396  & 4.44e-05    & 0.000000000 & 0.000000000\\\\\n",
       "\t19 & 0.000650048 & 0.00421000  & 3.16e-05    & 0.015013471 & 0.000326066\\\\\n",
       "\t20 & 0.007332559 & 0.02168942  & 0.00e+00    & 0.008542580 & 0.000000000\\\\\n",
       "\t26 & 0.004634800 & 0.00813000  & 0.00e+00    & 0.000392000 & 0.000000000\\\\\n",
       "\\end{tabular}\n"
      ],
      "text/markdown": [
       "\n",
       "| <!--/--> | mass_400 | mass_500 | mass_600 | mass_700 | mass_800 |\n",
       "|---|---|---|---|---|---|\n",
       "| 16 | 0.010463229 | 0.02027747  | 3.12e-05    | 0.004249540 | 0.000000000 |\n",
       "| 17 | 0.011081501 | 0.02504573  | 4.88e-05    | 0.008411663 | 0.000000000 |\n",
       "| 18 | 0.003708060 | 0.01443396  | 4.44e-05    | 0.000000000 | 0.000000000 |\n",
       "| 19 | 0.000650048 | 0.00421000  | 3.16e-05    | 0.015013471 | 0.000326066 |\n",
       "| 20 | 0.007332559 | 0.02168942  | 0.00e+00    | 0.008542580 | 0.000000000 |\n",
       "| 26 | 0.004634800 | 0.00813000  | 0.00e+00    | 0.000392000 | 0.000000000 |\n",
       "\n"
      ],
      "text/plain": [
       "   mass_400    mass_500   mass_600 mass_700    mass_800   \n",
       "16 0.010463229 0.02027747 3.12e-05 0.004249540 0.000000000\n",
       "17 0.011081501 0.02504573 4.88e-05 0.008411663 0.000000000\n",
       "18 0.003708060 0.01443396 4.44e-05 0.000000000 0.000000000\n",
       "19 0.000650048 0.00421000 3.16e-05 0.015013471 0.000326066\n",
       "20 0.007332559 0.02168942 0.00e+00 0.008542580 0.000000000\n",
       "26 0.004634800 0.00813000 0.00e+00 0.000392000 0.000000000"
      ]
     },
     "metadata": {},
     "output_type": "display_data"
    },
    {
     "data": {
      "text/html": [
       "<dl class=dl-horizontal>\n",
       "\t<dt>mass_400</dt>\n",
       "\t\t<dd>1</dd>\n",
       "\t<dt>mass_500</dt>\n",
       "\t\t<dd>2</dd>\n",
       "\t<dt>mass_600</dt>\n",
       "\t\t<dd>3</dd>\n",
       "\t<dt>mass_700</dt>\n",
       "\t\t<dd>4</dd>\n",
       "\t<dt>mass_800</dt>\n",
       "\t\t<dd>5</dd>\n",
       "</dl>\n"
      ],
      "text/latex": [
       "\\begin{description*}\n",
       "\\item[mass\\textbackslash{}\\_400] 1\n",
       "\\item[mass\\textbackslash{}\\_500] 2\n",
       "\\item[mass\\textbackslash{}\\_600] 3\n",
       "\\item[mass\\textbackslash{}\\_700] 4\n",
       "\\item[mass\\textbackslash{}\\_800] 5\n",
       "\\end{description*}\n"
      ],
      "text/markdown": [
       "mass_400\n",
       ":   1mass_500\n",
       ":   2mass_600\n",
       ":   3mass_700\n",
       ":   4mass_800\n",
       ":   5\n",
       "\n"
      ],
      "text/plain": [
       "mass_400 mass_500 mass_600 mass_700 mass_800 \n",
       "       1        2        3        4        5 "
      ]
     },
     "metadata": {},
     "output_type": "display_data"
    },
    {
     "data": {
      "text/html": [
       "<table>\n",
       "<thead><tr><th></th><th scope=col>mass_400</th><th scope=col>mass_500</th><th scope=col>mass_600</th><th scope=col>mass_700</th><th scope=col>mass_800</th></tr></thead>\n",
       "<tbody>\n",
       "\t<tr><th scope=row>16</th><td>0.010463229</td><td>0.020277467</td><td>0.000031200</td><td>0.004249540</td><td>0.000000000</td></tr>\n",
       "\t<tr><th scope=row>17</th><td>0.011081501</td><td>0.025045727</td><td>0.000048800</td><td>0.008411663</td><td>0.000000000</td></tr>\n",
       "\t<tr><th scope=row>18</th><td>0.003708060</td><td>0.014433959</td><td>0.000044400</td><td>0.000000000</td><td>0.000000000</td></tr>\n",
       "\t<tr><th scope=row>19</th><td>0.000650048</td><td>0.004210000</td><td>0.000031600</td><td>0.015013471</td><td>0.000326066</td></tr>\n",
       "\t<tr><th scope=row>20</th><td>0.007332559</td><td>0.021689420</td><td>0.000000000</td><td>0.008542580</td><td>0.000000000</td></tr>\n",
       "\t<tr><th scope=row>26</th><td>0.004634800</td><td>0.008130000</td><td>0.000000000</td><td>0.000392000</td><td>0.000000000</td></tr>\n",
       "\t<tr><th scope=row>27</th><td>0.001145037</td><td>0.004120000</td><td>0.000000000</td><td>0.001280000</td><td>0.000000000</td></tr>\n",
       "\t<tr><th scope=row>28</th><td>0.009590847</td><td>0.017267594</td><td>0.000000000</td><td>0.004839455</td><td>0.000117151</td></tr>\n",
       "\t<tr><th scope=row>29</th><td>0.005949973</td><td>0.015005459</td><td>0.000230937</td><td>0.005398365</td><td>0.000000000</td></tr>\n",
       "\t<tr><th scope=row>30</th><td>0.000886040</td><td>0.003950000</td><td>0.000000000</td><td>0.001458761</td><td>0.000000000</td></tr>\n",
       "\t<tr><th scope=row>31</th><td>0.002130889</td><td>0.003407951</td><td>0.000000000</td><td>0.009411127</td><td>0.000032000</td></tr>\n",
       "\t<tr><th scope=row>32</th><td>0.003501736</td><td>0.005342402</td><td>0.000000000</td><td>0.002292800</td><td>0.000000000</td></tr>\n",
       "\t<tr><th scope=row>33</th><td>0.002284882</td><td>0.007417578</td><td>0.000040400</td><td>0.008480000</td><td>0.000000000</td></tr>\n",
       "\t<tr><th scope=row>34</th><td>0.000998424</td><td>0.002437253</td><td>0.000000000</td><td>0.002812995</td><td>0.000000000</td></tr>\n",
       "\t<tr><th scope=row>35</th><td>0.003766915</td><td>0.011081875</td><td>0.000051800</td><td>0.000629076</td><td>0.000000000</td></tr>\n",
       "\t<tr><th scope=row>41</th><td>0.005294117</td><td>0.005468799</td><td>0.000127552</td><td>0.001634777</td><td>0.000000000</td></tr>\n",
       "\t<tr><th scope=row>42</th><td>0.002665173</td><td>0.007183264</td><td>0.000000000</td><td>0.001430000</td><td>0.000000000</td></tr>\n",
       "\t<tr><th scope=row>43</th><td>0.001145335</td><td>0.006015767</td><td>0.000024200</td><td>0.002506955</td><td>0.000000000</td></tr>\n",
       "\t<tr><th scope=row>44</th><td>0.012438866</td><td>0.014725690</td><td>0.000477354</td><td>0.001333816</td><td>0.000000000</td></tr>\n",
       "\t<tr><th scope=row>45</th><td>0.007629190</td><td>0.011840259</td><td>0.000000000</td><td>0.000989143</td><td>0.000000000</td></tr>\n",
       "\t<tr><th scope=row>46</th><td>0.011338511</td><td>0.018123618</td><td>0.000527748</td><td>0.000000000</td><td>0.000000000</td></tr>\n",
       "\t<tr><th scope=row>47</th><td>0.004311037</td><td>0.005870000</td><td>0.000038100</td><td>0.000900420</td><td>0.000000000</td></tr>\n",
       "\t<tr><th scope=row>48</th><td>0.001433183</td><td>0.005537921</td><td>0.000000000</td><td>0.004315050</td><td>0.000000000</td></tr>\n",
       "\t<tr><th scope=row>49</th><td>0.000830768</td><td>0.004719166</td><td>0.000000000</td><td>0.002219404</td><td>0.000000000</td></tr>\n",
       "\t<tr><th scope=row>50</th><td>0.005090592</td><td>0.008840000</td><td>0.000362419</td><td>0.000000000</td><td>0.000000000</td></tr>\n",
       "\t<tr><th scope=row>56</th><td>0.002163037</td><td>0.004800000</td><td>0.000260710</td><td>0.001097633</td><td>0.000000000</td></tr>\n",
       "\t<tr><th scope=row>57</th><td>0.000407350</td><td>0.002230000</td><td>0.000000000</td><td>0.000786049</td><td>0.000000000</td></tr>\n",
       "\t<tr><th scope=row>58</th><td>0.005721820</td><td>0.008826802</td><td>0.000000000</td><td>0.000000000</td><td>0.000000000</td></tr>\n",
       "\t<tr><th scope=row>59</th><td>0.000956452</td><td>0.003134981</td><td>0.000040800</td><td>0.000112778</td><td>0.000000000</td></tr>\n",
       "\t<tr><th scope=row>60</th><td>0.000586962</td><td>0.004279801</td><td>0.000000000</td><td>0.001706468</td><td>0.000000000</td></tr>\n",
       "</tbody>\n",
       "</table>\n"
      ],
      "text/latex": [
       "\\begin{tabular}{r|lllll}\n",
       "  & mass\\_400 & mass\\_500 & mass\\_600 & mass\\_700 & mass\\_800\\\\\n",
       "\\hline\n",
       "\t16 & 0.010463229 & 0.020277467 & 0.000031200 & 0.004249540 & 0.000000000\\\\\n",
       "\t17 & 0.011081501 & 0.025045727 & 0.000048800 & 0.008411663 & 0.000000000\\\\\n",
       "\t18 & 0.003708060 & 0.014433959 & 0.000044400 & 0.000000000 & 0.000000000\\\\\n",
       "\t19 & 0.000650048 & 0.004210000 & 0.000031600 & 0.015013471 & 0.000326066\\\\\n",
       "\t20 & 0.007332559 & 0.021689420 & 0.000000000 & 0.008542580 & 0.000000000\\\\\n",
       "\t26 & 0.004634800 & 0.008130000 & 0.000000000 & 0.000392000 & 0.000000000\\\\\n",
       "\t27 & 0.001145037 & 0.004120000 & 0.000000000 & 0.001280000 & 0.000000000\\\\\n",
       "\t28 & 0.009590847 & 0.017267594 & 0.000000000 & 0.004839455 & 0.000117151\\\\\n",
       "\t29 & 0.005949973 & 0.015005459 & 0.000230937 & 0.005398365 & 0.000000000\\\\\n",
       "\t30 & 0.000886040 & 0.003950000 & 0.000000000 & 0.001458761 & 0.000000000\\\\\n",
       "\t31 & 0.002130889 & 0.003407951 & 0.000000000 & 0.009411127 & 0.000032000\\\\\n",
       "\t32 & 0.003501736 & 0.005342402 & 0.000000000 & 0.002292800 & 0.000000000\\\\\n",
       "\t33 & 0.002284882 & 0.007417578 & 0.000040400 & 0.008480000 & 0.000000000\\\\\n",
       "\t34 & 0.000998424 & 0.002437253 & 0.000000000 & 0.002812995 & 0.000000000\\\\\n",
       "\t35 & 0.003766915 & 0.011081875 & 0.000051800 & 0.000629076 & 0.000000000\\\\\n",
       "\t41 & 0.005294117 & 0.005468799 & 0.000127552 & 0.001634777 & 0.000000000\\\\\n",
       "\t42 & 0.002665173 & 0.007183264 & 0.000000000 & 0.001430000 & 0.000000000\\\\\n",
       "\t43 & 0.001145335 & 0.006015767 & 0.000024200 & 0.002506955 & 0.000000000\\\\\n",
       "\t44 & 0.012438866 & 0.014725690 & 0.000477354 & 0.001333816 & 0.000000000\\\\\n",
       "\t45 & 0.007629190 & 0.011840259 & 0.000000000 & 0.000989143 & 0.000000000\\\\\n",
       "\t46 & 0.011338511 & 0.018123618 & 0.000527748 & 0.000000000 & 0.000000000\\\\\n",
       "\t47 & 0.004311037 & 0.005870000 & 0.000038100 & 0.000900420 & 0.000000000\\\\\n",
       "\t48 & 0.001433183 & 0.005537921 & 0.000000000 & 0.004315050 & 0.000000000\\\\\n",
       "\t49 & 0.000830768 & 0.004719166 & 0.000000000 & 0.002219404 & 0.000000000\\\\\n",
       "\t50 & 0.005090592 & 0.008840000 & 0.000362419 & 0.000000000 & 0.000000000\\\\\n",
       "\t56 & 0.002163037 & 0.004800000 & 0.000260710 & 0.001097633 & 0.000000000\\\\\n",
       "\t57 & 0.000407350 & 0.002230000 & 0.000000000 & 0.000786049 & 0.000000000\\\\\n",
       "\t58 & 0.005721820 & 0.008826802 & 0.000000000 & 0.000000000 & 0.000000000\\\\\n",
       "\t59 & 0.000956452 & 0.003134981 & 0.000040800 & 0.000112778 & 0.000000000\\\\\n",
       "\t60 & 0.000586962 & 0.004279801 & 0.000000000 & 0.001706468 & 0.000000000\\\\\n",
       "\\end{tabular}\n"
      ],
      "text/markdown": [
       "\n",
       "| <!--/--> | mass_400 | mass_500 | mass_600 | mass_700 | mass_800 |\n",
       "|---|---|---|---|---|---|\n",
       "| 16 | 0.010463229 | 0.020277467 | 0.000031200 | 0.004249540 | 0.000000000 |\n",
       "| 17 | 0.011081501 | 0.025045727 | 0.000048800 | 0.008411663 | 0.000000000 |\n",
       "| 18 | 0.003708060 | 0.014433959 | 0.000044400 | 0.000000000 | 0.000000000 |\n",
       "| 19 | 0.000650048 | 0.004210000 | 0.000031600 | 0.015013471 | 0.000326066 |\n",
       "| 20 | 0.007332559 | 0.021689420 | 0.000000000 | 0.008542580 | 0.000000000 |\n",
       "| 26 | 0.004634800 | 0.008130000 | 0.000000000 | 0.000392000 | 0.000000000 |\n",
       "| 27 | 0.001145037 | 0.004120000 | 0.000000000 | 0.001280000 | 0.000000000 |\n",
       "| 28 | 0.009590847 | 0.017267594 | 0.000000000 | 0.004839455 | 0.000117151 |\n",
       "| 29 | 0.005949973 | 0.015005459 | 0.000230937 | 0.005398365 | 0.000000000 |\n",
       "| 30 | 0.000886040 | 0.003950000 | 0.000000000 | 0.001458761 | 0.000000000 |\n",
       "| 31 | 0.002130889 | 0.003407951 | 0.000000000 | 0.009411127 | 0.000032000 |\n",
       "| 32 | 0.003501736 | 0.005342402 | 0.000000000 | 0.002292800 | 0.000000000 |\n",
       "| 33 | 0.002284882 | 0.007417578 | 0.000040400 | 0.008480000 | 0.000000000 |\n",
       "| 34 | 0.000998424 | 0.002437253 | 0.000000000 | 0.002812995 | 0.000000000 |\n",
       "| 35 | 0.003766915 | 0.011081875 | 0.000051800 | 0.000629076 | 0.000000000 |\n",
       "| 41 | 0.005294117 | 0.005468799 | 0.000127552 | 0.001634777 | 0.000000000 |\n",
       "| 42 | 0.002665173 | 0.007183264 | 0.000000000 | 0.001430000 | 0.000000000 |\n",
       "| 43 | 0.001145335 | 0.006015767 | 0.000024200 | 0.002506955 | 0.000000000 |\n",
       "| 44 | 0.012438866 | 0.014725690 | 0.000477354 | 0.001333816 | 0.000000000 |\n",
       "| 45 | 0.007629190 | 0.011840259 | 0.000000000 | 0.000989143 | 0.000000000 |\n",
       "| 46 | 0.011338511 | 0.018123618 | 0.000527748 | 0.000000000 | 0.000000000 |\n",
       "| 47 | 0.004311037 | 0.005870000 | 0.000038100 | 0.000900420 | 0.000000000 |\n",
       "| 48 | 0.001433183 | 0.005537921 | 0.000000000 | 0.004315050 | 0.000000000 |\n",
       "| 49 | 0.000830768 | 0.004719166 | 0.000000000 | 0.002219404 | 0.000000000 |\n",
       "| 50 | 0.005090592 | 0.008840000 | 0.000362419 | 0.000000000 | 0.000000000 |\n",
       "| 56 | 0.002163037 | 0.004800000 | 0.000260710 | 0.001097633 | 0.000000000 |\n",
       "| 57 | 0.000407350 | 0.002230000 | 0.000000000 | 0.000786049 | 0.000000000 |\n",
       "| 58 | 0.005721820 | 0.008826802 | 0.000000000 | 0.000000000 | 0.000000000 |\n",
       "| 59 | 0.000956452 | 0.003134981 | 0.000040800 | 0.000112778 | 0.000000000 |\n",
       "| 60 | 0.000586962 | 0.004279801 | 0.000000000 | 0.001706468 | 0.000000000 |\n",
       "\n"
      ],
      "text/plain": [
       "   mass_400    mass_500    mass_600    mass_700    mass_800   \n",
       "16 0.010463229 0.020277467 0.000031200 0.004249540 0.000000000\n",
       "17 0.011081501 0.025045727 0.000048800 0.008411663 0.000000000\n",
       "18 0.003708060 0.014433959 0.000044400 0.000000000 0.000000000\n",
       "19 0.000650048 0.004210000 0.000031600 0.015013471 0.000326066\n",
       "20 0.007332559 0.021689420 0.000000000 0.008542580 0.000000000\n",
       "26 0.004634800 0.008130000 0.000000000 0.000392000 0.000000000\n",
       "27 0.001145037 0.004120000 0.000000000 0.001280000 0.000000000\n",
       "28 0.009590847 0.017267594 0.000000000 0.004839455 0.000117151\n",
       "29 0.005949973 0.015005459 0.000230937 0.005398365 0.000000000\n",
       "30 0.000886040 0.003950000 0.000000000 0.001458761 0.000000000\n",
       "31 0.002130889 0.003407951 0.000000000 0.009411127 0.000032000\n",
       "32 0.003501736 0.005342402 0.000000000 0.002292800 0.000000000\n",
       "33 0.002284882 0.007417578 0.000040400 0.008480000 0.000000000\n",
       "34 0.000998424 0.002437253 0.000000000 0.002812995 0.000000000\n",
       "35 0.003766915 0.011081875 0.000051800 0.000629076 0.000000000\n",
       "41 0.005294117 0.005468799 0.000127552 0.001634777 0.000000000\n",
       "42 0.002665173 0.007183264 0.000000000 0.001430000 0.000000000\n",
       "43 0.001145335 0.006015767 0.000024200 0.002506955 0.000000000\n",
       "44 0.012438866 0.014725690 0.000477354 0.001333816 0.000000000\n",
       "45 0.007629190 0.011840259 0.000000000 0.000989143 0.000000000\n",
       "46 0.011338511 0.018123618 0.000527748 0.000000000 0.000000000\n",
       "47 0.004311037 0.005870000 0.000038100 0.000900420 0.000000000\n",
       "48 0.001433183 0.005537921 0.000000000 0.004315050 0.000000000\n",
       "49 0.000830768 0.004719166 0.000000000 0.002219404 0.000000000\n",
       "50 0.005090592 0.008840000 0.000362419 0.000000000 0.000000000\n",
       "56 0.002163037 0.004800000 0.000260710 0.001097633 0.000000000\n",
       "57 0.000407350 0.002230000 0.000000000 0.000786049 0.000000000\n",
       "58 0.005721820 0.008826802 0.000000000 0.000000000 0.000000000\n",
       "59 0.000956452 0.003134981 0.000040800 0.000112778 0.000000000\n",
       "60 0.000586962 0.004279801 0.000000000 0.001706468 0.000000000"
      ]
     },
     "metadata": {},
     "output_type": "display_data"
    },
    {
     "data": {
      "text/html": [
       "<table>\n",
       "<thead><tr><th></th><th scope=col>filename</th><th scope=col>MouseID</th><th scope=col>Treatmentgroup</th><th scope=col>DPI</th><th scope=col>organ</th><th scope=col>well_position</th><th scope=col>plate</th><th scope=col>mass_400</th><th scope=col>mass_500</th><th scope=col>mass_600</th><th scope=col>mass_700</th><th scope=col>mass_800</th></tr></thead>\n",
       "<tbody>\n",
       "\t<tr><th scope=row>16</th><td>X581_Group3E_142dpi_RA_176_G_B4_P124.mzXML</td><td>581                                       </td><td>infected                                  </td><td>142dpi                                    </td><td>RA                                        </td><td>B4                                        </td><td>P124                                      </td><td>0.010463229                               </td><td>0.02027747                                </td><td>3.12e-05                                  </td><td>0.004249540                               </td><td>0.000000000                               </td></tr>\n",
       "\t<tr><th scope=row>17</th><td>X582_Group3E_142dpi_RA_177_G_B5_P124.mzXML</td><td>582                                       </td><td>infected                                  </td><td>142dpi                                    </td><td>RA                                        </td><td>B5                                        </td><td>P124                                      </td><td>0.011081501                               </td><td>0.02504573                                </td><td>4.88e-05                                  </td><td>0.008411663                               </td><td>0.000000000                               </td></tr>\n",
       "\t<tr><th scope=row>18</th><td>X583_Group3E_142dpi_RA_178_G_B6_P124.mzXML</td><td>583                                       </td><td>infected                                  </td><td>142dpi                                    </td><td>RA                                        </td><td>B6                                        </td><td>P124                                      </td><td>0.003708060                               </td><td>0.01443396                                </td><td>4.44e-05                                  </td><td>0.000000000                               </td><td>0.000000000                               </td></tr>\n",
       "\t<tr><th scope=row>19</th><td>X584_Group3E_142dpi_RA_179_G_B7_P124.mzXML</td><td>584                                       </td><td>infected                                  </td><td>142dpi                                    </td><td>RA                                        </td><td>B7                                        </td><td>P124                                      </td><td>0.000650048                               </td><td>0.00421000                                </td><td>3.16e-05                                  </td><td>0.015013471                               </td><td>0.000326066                               </td></tr>\n",
       "\t<tr><th scope=row>20</th><td>X585_Group3E_142dpi_RA_180_G_B8_P124.mzXML</td><td>585                                       </td><td>infected                                  </td><td>142dpi                                    </td><td>RA                                        </td><td>B8                                        </td><td>P124                                      </td><td>0.007332559                               </td><td>0.02168942                                </td><td>0.00e+00                                  </td><td>0.008542580                               </td><td>0.000000000                               </td></tr>\n",
       "\t<tr><th scope=row>26</th><td>X631_Group15_142dpi_RA_191_G_C7_P124.mzXML</td><td>631                                       </td><td>BNZ                                       </td><td>142dpi                                    </td><td>RA                                        </td><td>C7                                        </td><td>P124                                      </td><td>0.004634800                               </td><td>0.00813000                                </td><td>0.00e+00                                  </td><td>0.000392000                               </td><td>0.000000000                               </td></tr>\n",
       "</tbody>\n",
       "</table>\n"
      ],
      "text/latex": [
       "\\begin{tabular}{r|llllllllllll}\n",
       "  & filename & MouseID & Treatmentgroup & DPI & organ & well\\_position & plate & mass\\_400 & mass\\_500 & mass\\_600 & mass\\_700 & mass\\_800\\\\\n",
       "\\hline\n",
       "\t16 & X581\\_Group3E\\_142dpi\\_RA\\_176\\_G\\_B4\\_P124.mzXML & 581                                                      & infected                                                 & 142dpi                                                   & RA                                                       & B4                                                       & P124                                                     & 0.010463229                                              & 0.02027747                                               & 3.12e-05                                                 & 0.004249540                                              & 0.000000000                                             \\\\\n",
       "\t17 & X582\\_Group3E\\_142dpi\\_RA\\_177\\_G\\_B5\\_P124.mzXML & 582                                                      & infected                                                 & 142dpi                                                   & RA                                                       & B5                                                       & P124                                                     & 0.011081501                                              & 0.02504573                                               & 4.88e-05                                                 & 0.008411663                                              & 0.000000000                                             \\\\\n",
       "\t18 & X583\\_Group3E\\_142dpi\\_RA\\_178\\_G\\_B6\\_P124.mzXML & 583                                                      & infected                                                 & 142dpi                                                   & RA                                                       & B6                                                       & P124                                                     & 0.003708060                                              & 0.01443396                                               & 4.44e-05                                                 & 0.000000000                                              & 0.000000000                                             \\\\\n",
       "\t19 & X584\\_Group3E\\_142dpi\\_RA\\_179\\_G\\_B7\\_P124.mzXML & 584                                                      & infected                                                 & 142dpi                                                   & RA                                                       & B7                                                       & P124                                                     & 0.000650048                                              & 0.00421000                                               & 3.16e-05                                                 & 0.015013471                                              & 0.000326066                                             \\\\\n",
       "\t20 & X585\\_Group3E\\_142dpi\\_RA\\_180\\_G\\_B8\\_P124.mzXML & 585                                                      & infected                                                 & 142dpi                                                   & RA                                                       & B8                                                       & P124                                                     & 0.007332559                                              & 0.02168942                                               & 0.00e+00                                                 & 0.008542580                                              & 0.000000000                                             \\\\\n",
       "\t26 & X631\\_Group15\\_142dpi\\_RA\\_191\\_G\\_C7\\_P124.mzXML & 631                                                      & BNZ                                                      & 142dpi                                                   & RA                                                       & C7                                                       & P124                                                     & 0.004634800                                              & 0.00813000                                               & 0.00e+00                                                 & 0.000392000                                              & 0.000000000                                             \\\\\n",
       "\\end{tabular}\n"
      ],
      "text/markdown": [
       "\n",
       "| <!--/--> | filename | MouseID | Treatmentgroup | DPI | organ | well_position | plate | mass_400 | mass_500 | mass_600 | mass_700 | mass_800 |\n",
       "|---|---|---|---|---|---|---|---|---|---|---|---|---|\n",
       "| 16 | X581_Group3E_142dpi_RA_176_G_B4_P124.mzXML | 581                                        | infected                                   | 142dpi                                     | RA                                         | B4                                         | P124                                       | 0.010463229                                | 0.02027747                                 | 3.12e-05                                   | 0.004249540                                | 0.000000000                                |\n",
       "| 17 | X582_Group3E_142dpi_RA_177_G_B5_P124.mzXML | 582                                        | infected                                   | 142dpi                                     | RA                                         | B5                                         | P124                                       | 0.011081501                                | 0.02504573                                 | 4.88e-05                                   | 0.008411663                                | 0.000000000                                |\n",
       "| 18 | X583_Group3E_142dpi_RA_178_G_B6_P124.mzXML | 583                                        | infected                                   | 142dpi                                     | RA                                         | B6                                         | P124                                       | 0.003708060                                | 0.01443396                                 | 4.44e-05                                   | 0.000000000                                | 0.000000000                                |\n",
       "| 19 | X584_Group3E_142dpi_RA_179_G_B7_P124.mzXML | 584                                        | infected                                   | 142dpi                                     | RA                                         | B7                                         | P124                                       | 0.000650048                                | 0.00421000                                 | 3.16e-05                                   | 0.015013471                                | 0.000326066                                |\n",
       "| 20 | X585_Group3E_142dpi_RA_180_G_B8_P124.mzXML | 585                                        | infected                                   | 142dpi                                     | RA                                         | B8                                         | P124                                       | 0.007332559                                | 0.02168942                                 | 0.00e+00                                   | 0.008542580                                | 0.000000000                                |\n",
       "| 26 | X631_Group15_142dpi_RA_191_G_C7_P124.mzXML | 631                                        | BNZ                                        | 142dpi                                     | RA                                         | C7                                         | P124                                       | 0.004634800                                | 0.00813000                                 | 0.00e+00                                   | 0.000392000                                | 0.000000000                                |\n",
       "\n"
      ],
      "text/plain": [
       "   filename                                   MouseID Treatmentgroup DPI   \n",
       "16 X581_Group3E_142dpi_RA_176_G_B4_P124.mzXML 581     infected       142dpi\n",
       "17 X582_Group3E_142dpi_RA_177_G_B5_P124.mzXML 582     infected       142dpi\n",
       "18 X583_Group3E_142dpi_RA_178_G_B6_P124.mzXML 583     infected       142dpi\n",
       "19 X584_Group3E_142dpi_RA_179_G_B7_P124.mzXML 584     infected       142dpi\n",
       "20 X585_Group3E_142dpi_RA_180_G_B8_P124.mzXML 585     infected       142dpi\n",
       "26 X631_Group15_142dpi_RA_191_G_C7_P124.mzXML 631     BNZ            142dpi\n",
       "   organ well_position plate mass_400    mass_500   mass_600 mass_700   \n",
       "16 RA    B4            P124  0.010463229 0.02027747 3.12e-05 0.004249540\n",
       "17 RA    B5            P124  0.011081501 0.02504573 4.88e-05 0.008411663\n",
       "18 RA    B6            P124  0.003708060 0.01443396 4.44e-05 0.000000000\n",
       "19 RA    B7            P124  0.000650048 0.00421000 3.16e-05 0.015013471\n",
       "20 RA    B8            P124  0.007332559 0.02168942 0.00e+00 0.008542580\n",
       "26 RA    C7            P124  0.004634800 0.00813000 0.00e+00 0.000392000\n",
       "   mass_800   \n",
       "16 0.000000000\n",
       "17 0.000000000\n",
       "18 0.000000000\n",
       "19 0.000326066\n",
       "20 0.000000000\n",
       "26 0.000000000"
      ]
     },
     "metadata": {},
     "output_type": "display_data"
    },
    {
     "data": {
      "text/html": [
       "<ol class=list-inline>\n",
       "\t<li>30</li>\n",
       "\t<li>12</li>\n",
       "</ol>\n"
      ],
      "text/latex": [
       "\\begin{enumerate*}\n",
       "\\item 30\n",
       "\\item 12\n",
       "\\end{enumerate*}\n"
      ],
      "text/markdown": [
       "1. 30\n",
       "2. 12\n",
       "\n",
       "\n"
      ],
      "text/plain": [
       "[1] 30 12"
      ]
     },
     "metadata": {},
     "output_type": "display_data"
    },
    {
     "data": {
      "text/html": [
       "<ol class=list-inline>\n",
       "\t<li>30</li>\n",
       "\t<li>5</li>\n",
       "</ol>\n"
      ],
      "text/latex": [
       "\\begin{enumerate*}\n",
       "\\item 30\n",
       "\\item 5\n",
       "\\end{enumerate*}\n"
      ],
      "text/markdown": [
       "1. 30\n",
       "2. 5\n",
       "\n",
       "\n"
      ],
      "text/plain": [
       "[1] 30  5"
      ]
     },
     "metadata": {},
     "output_type": "display_data"
    },
    {
     "data": {
      "text/html": [
       "<ol class=list-inline>\n",
       "\t<li>30</li>\n",
       "\t<li>5</li>\n",
       "</ol>\n"
      ],
      "text/latex": [
       "\\begin{enumerate*}\n",
       "\\item 30\n",
       "\\item 5\n",
       "\\end{enumerate*}\n"
      ],
      "text/markdown": [
       "1. 30\n",
       "2. 5\n",
       "\n",
       "\n"
      ],
      "text/plain": [
       "[1] 30  5"
      ]
     },
     "metadata": {},
     "output_type": "display_data"
    },
    {
     "data": {
      "text/html": [
       "<ol class=list-inline>\n",
       "\t<li>30</li>\n",
       "\t<li>12</li>\n",
       "</ol>\n"
      ],
      "text/latex": [
       "\\begin{enumerate*}\n",
       "\\item 30\n",
       "\\item 12\n",
       "\\end{enumerate*}\n"
      ],
      "text/markdown": [
       "1. 30\n",
       "2. 12\n",
       "\n",
       "\n"
      ],
      "text/plain": [
       "[1] 30 12"
      ]
     },
     "metadata": {},
     "output_type": "display_data"
    }
   ],
   "source": [
    "noMeta<-features_pos[,8:12]\n",
    "head(noMeta)\n",
    "not_zero<-which(colSums(noMeta) != 0)\n",
    "head(not_zero)\n",
    "nonzero <- noMeta[, not_zero]\n",
    "nonzero\n",
    "nonzero_wMeta<-cbind(features_pos[,1:7], nonzero)\n",
    "head(nonzero_wMeta)\n",
    "dim(features_pos)\n",
    "dim(noMeta)\n",
    "dim(nonzero)\n",
    "dim(nonzero_wMeta)"
   ]
  },
  {
   "cell_type": "code",
   "execution_count": 5,
   "metadata": {
    "scrolled": true
   },
   "outputs": [
    {
     "name": "stderr",
     "output_type": "stream",
     "text": [
      "Warning message in wilcox.test.default(x = c(0, 0, 0, 0.000230937, 0, 0.000127552, :\n",
      "\"cannot compute exact p-value with ties\"Warning message in wilcox.test.default(x = c(0.000392, 0.00128, 0.004839455, 0.005398365, :\n",
      "\"cannot compute exact p-value with ties\"Warning message in wilcox.test.default(x = c(0, 0, 0.000117151, 0, 0, 0, 0, 0, 0, :\n",
      "\"cannot compute exact p-value with ties\""
     ]
    },
    {
     "data": {
      "text/html": [
       "<ol class=list-inline>\n",
       "\t<li>0.712965124764759</li>\n",
       "\t<li>0.366875192434742</li>\n",
       "\t<li>0.478137295326329</li>\n",
       "\t<li>0.164206178601001</li>\n",
       "\t<li>0.577155449664142</li>\n",
       "</ol>\n"
      ],
      "text/latex": [
       "\\begin{enumerate*}\n",
       "\\item 0.712965124764759\n",
       "\\item 0.366875192434742\n",
       "\\item 0.478137295326329\n",
       "\\item 0.164206178601001\n",
       "\\item 0.577155449664142\n",
       "\\end{enumerate*}\n"
      ],
      "text/markdown": [
       "1. 0.712965124764759\n",
       "2. 0.366875192434742\n",
       "3. 0.478137295326329\n",
       "4. 0.164206178601001\n",
       "5. 0.577155449664142\n",
       "\n",
       "\n"
      ],
      "text/plain": [
       "[1] 0.7129651 0.3668752 0.4781373 0.1642062 0.5771554"
      ]
     },
     "metadata": {},
     "output_type": "display_data"
    },
    {
     "data": {
      "text/html": [
       "<ol class=list-inline>\n",
       "\t<li>0.712965124764759</li>\n",
       "\t<li>0.712965124764759</li>\n",
       "\t<li>0.712965124764759</li>\n",
       "\t<li>0.712965124764759</li>\n",
       "\t<li>0.712965124764759</li>\n",
       "</ol>\n"
      ],
      "text/latex": [
       "\\begin{enumerate*}\n",
       "\\item 0.712965124764759\n",
       "\\item 0.712965124764759\n",
       "\\item 0.712965124764759\n",
       "\\item 0.712965124764759\n",
       "\\item 0.712965124764759\n",
       "\\end{enumerate*}\n"
      ],
      "text/markdown": [
       "1. 0.712965124764759\n",
       "2. 0.712965124764759\n",
       "3. 0.712965124764759\n",
       "4. 0.712965124764759\n",
       "5. 0.712965124764759\n",
       "\n",
       "\n"
      ],
      "text/plain": [
       "[1] 0.7129651 0.7129651 0.7129651 0.7129651 0.7129651"
      ]
     },
     "metadata": {},
     "output_type": "display_data"
    }
   ],
   "source": [
    "pval<-c()\n",
    "\n",
    "for (i in 8:ncol(nonzero_wMeta)) \n",
    "pval<-c(pval,wilcox.test(nonzero_wMeta[,i]~nonzero_wMeta$Treatmentgroup)$p.value)\n",
    "head(pval)\n",
    "pAdj <- p.adjust(pval, method = c(\"fdr\"), n=length(pval)) \n",
    "head(pAdj) \n",
    "\n"
   ]
  },
  {
   "cell_type": "code",
   "execution_count": 6,
   "metadata": {
    "scrolled": true
   },
   "outputs": [
    {
     "data": {
      "text/html": [
       "5"
      ],
      "text/latex": [
       "5"
      ],
      "text/markdown": [
       "5"
      ],
      "text/plain": [
       "[1] 5"
      ]
     },
     "metadata": {},
     "output_type": "display_data"
    }
   ],
   "source": [
    "length(pval)"
   ]
  },
  {
   "cell_type": "code",
   "execution_count": 7,
   "metadata": {
    "scrolled": true
   },
   "outputs": [
    {
     "data": {
      "text/html": [
       "5"
      ],
      "text/latex": [
       "5"
      ],
      "text/markdown": [
       "5"
      ],
      "text/plain": [
       "[1] 5"
      ]
     },
     "metadata": {},
     "output_type": "display_data"
    }
   ],
   "source": [
    "length(pAdj)"
   ]
  },
  {
   "cell_type": "code",
   "execution_count": 8,
   "metadata": {},
   "outputs": [
    {
     "data": {
      "text/html": [
       "<ol class=list-inline>\n",
       "\t<li>2</li>\n",
       "\t<li>5</li>\n",
       "</ol>\n"
      ],
      "text/latex": [
       "\\begin{enumerate*}\n",
       "\\item 2\n",
       "\\item 5\n",
       "\\end{enumerate*}\n"
      ],
      "text/markdown": [
       "1. 2\n",
       "2. 5\n",
       "\n",
       "\n"
      ],
      "text/plain": [
       "[1] 2 5"
      ]
     },
     "metadata": {},
     "output_type": "display_data"
    },
    {
     "data": {
      "text/html": [
       "<table>\n",
       "<thead><tr><th></th><th scope=col>mass_400</th><th scope=col>mass_500</th><th scope=col>mass_600</th></tr></thead>\n",
       "<tbody>\n",
       "\t<tr><th scope=row>BNZ</th><td>0.004081000 </td><td>0.007798561 </td><td>7.743687e-05</td></tr>\n",
       "\t<tr><th scope=row>infected</th><td>0.004594822 </td><td>0.010562289 </td><td>7.843113e-05</td></tr>\n",
       "</tbody>\n",
       "</table>\n"
      ],
      "text/latex": [
       "\\begin{tabular}{r|lll}\n",
       "  & mass\\_400 & mass\\_500 & mass\\_600\\\\\n",
       "\\hline\n",
       "\tBNZ & 0.004081000  & 0.007798561  & 7.743687e-05\\\\\n",
       "\tinfected & 0.004594822  & 0.010562289  & 7.843113e-05\\\\\n",
       "\\end{tabular}\n"
      ],
      "text/markdown": [
       "\n",
       "| <!--/--> | mass_400 | mass_500 | mass_600 |\n",
       "|---|---|---|---|\n",
       "| BNZ | 0.004081000  | 0.007798561  | 7.743687e-05 |\n",
       "| infected | 0.004594822  | 0.010562289  | 7.843113e-05 |\n",
       "\n"
      ],
      "text/plain": [
       "         mass_400    mass_500    mass_600    \n",
       "BNZ      0.004081000 0.007798561 7.743687e-05\n",
       "infected 0.004594822 0.010562289 7.843113e-05"
      ]
     },
     "metadata": {},
     "output_type": "display_data"
    },
    {
     "data": {
      "text/html": [
       "<dl class=dl-horizontal>\n",
       "\t<dt>mass_400</dt>\n",
       "\t\t<dd>0.888173621630399</dd>\n",
       "\t<dt>mass_500</dt>\n",
       "\t\t<dd>0.738340048091974</dd>\n",
       "\t<dt>mass_600</dt>\n",
       "\t\t<dd>0.987323061335337</dd>\n",
       "\t<dt>mass_700</dt>\n",
       "\t\t<dd>0.371089408762664</dd>\n",
       "\t<dt>mass_800</dt>\n",
       "\t\t<dd>0.327177112599353</dd>\n",
       "</dl>\n"
      ],
      "text/latex": [
       "\\begin{description*}\n",
       "\\item[mass\\textbackslash{}\\_400] 0.888173621630399\n",
       "\\item[mass\\textbackslash{}\\_500] 0.738340048091974\n",
       "\\item[mass\\textbackslash{}\\_600] 0.987323061335337\n",
       "\\item[mass\\textbackslash{}\\_700] 0.371089408762664\n",
       "\\item[mass\\textbackslash{}\\_800] 0.327177112599353\n",
       "\\end{description*}\n"
      ],
      "text/markdown": [
       "mass_400\n",
       ":   0.888173621630399mass_500\n",
       ":   0.738340048091974mass_600\n",
       ":   0.987323061335337mass_700\n",
       ":   0.371089408762664mass_800\n",
       ":   0.327177112599353\n",
       "\n"
      ],
      "text/plain": [
       " mass_400  mass_500  mass_600  mass_700  mass_800 \n",
       "0.8881736 0.7383400 0.9873231 0.3710894 0.3271771 "
      ]
     },
     "metadata": {},
     "output_type": "display_data"
    },
    {
     "data": {
      "text/html": [
       "<ol class=list-inline>\n",
       "\t<li>'numeric'</li>\n",
       "\t<li>'vector'</li>\n",
       "</ol>\n"
      ],
      "text/latex": [
       "\\begin{enumerate*}\n",
       "\\item 'numeric'\n",
       "\\item 'vector'\n",
       "\\end{enumerate*}\n"
      ],
      "text/markdown": [
       "1. 'numeric'\n",
       "2. 'vector'\n",
       "\n",
       "\n"
      ],
      "text/plain": [
       "[1] \"numeric\" \"vector\" "
      ]
     },
     "metadata": {},
     "output_type": "display_data"
    }
   ],
   "source": [
    "avg<- apply(nonzero_wMeta[,8:ncol(nonzero_wMeta)], 2, function(x) tapply(x, nonzero_wMeta$Treatmentgroup, function(x) mean(x))) \n",
    "\n",
    "dim(avg)\n",
    "\n",
    "avg[,1:3]\n",
    "\n",
    "fch <- apply(avg, 2, function(x) x[1]/x[2])\n",
    "\n",
    "head(fch)\n",
    "is(fch)"
   ]
  },
  {
   "cell_type": "code",
   "execution_count": 9,
   "metadata": {
    "scrolled": true
   },
   "outputs": [
    {
     "data": {
      "text/html": [
       "<dl class=dl-horizontal>\n",
       "\t<dt>mass_400</dt>\n",
       "\t\t<dd>0.888173621630399</dd>\n",
       "\t<dt>mass_500</dt>\n",
       "\t\t<dd>0.738340048091974</dd>\n",
       "\t<dt>mass_600</dt>\n",
       "\t\t<dd>0.987323061335337</dd>\n",
       "\t<dt>mass_700</dt>\n",
       "\t\t<dd>0.371089408762664</dd>\n",
       "\t<dt>mass_800</dt>\n",
       "\t\t<dd>0.327177112599353</dd>\n",
       "</dl>\n"
      ],
      "text/latex": [
       "\\begin{description*}\n",
       "\\item[mass\\textbackslash{}\\_400] 0.888173621630399\n",
       "\\item[mass\\textbackslash{}\\_500] 0.738340048091974\n",
       "\\item[mass\\textbackslash{}\\_600] 0.987323061335337\n",
       "\\item[mass\\textbackslash{}\\_700] 0.371089408762664\n",
       "\\item[mass\\textbackslash{}\\_800] 0.327177112599353\n",
       "\\end{description*}\n"
      ],
      "text/markdown": [
       "mass_400\n",
       ":   0.888173621630399mass_500\n",
       ":   0.738340048091974mass_600\n",
       ":   0.987323061335337mass_700\n",
       ":   0.371089408762664mass_800\n",
       ":   0.327177112599353\n",
       "\n"
      ],
      "text/plain": [
       " mass_400  mass_500  mass_600  mass_700  mass_800 \n",
       "0.8881736 0.7383400 0.9873231 0.3710894 0.3271771 "
      ]
     },
     "metadata": {},
     "output_type": "display_data"
    }
   ],
   "source": [
    "fch"
   ]
  },
  {
   "cell_type": "code",
   "execution_count": 10,
   "metadata": {
    "scrolled": false
   },
   "outputs": [],
   "source": [
    "df <- data.frame(fch,pval, pAdj)\n",
    "write.csv(df, \"PE-treat-RA-wilcox-infected-BNZ.csv\")"
   ]
  },
  {
   "cell_type": "code",
   "execution_count": null,
   "metadata": {},
   "outputs": [],
   "source": []
  },
  {
   "cell_type": "code",
   "execution_count": null,
   "metadata": {},
   "outputs": [],
   "source": []
  },
  {
   "cell_type": "code",
   "execution_count": null,
   "metadata": {},
   "outputs": [],
   "source": []
  },
  {
   "cell_type": "code",
   "execution_count": null,
   "metadata": {},
   "outputs": [],
   "source": []
  },
  {
   "cell_type": "code",
   "execution_count": null,
   "metadata": {},
   "outputs": [],
   "source": []
  },
  {
   "cell_type": "code",
   "execution_count": null,
   "metadata": {},
   "outputs": [],
   "source": []
  }
 ],
 "metadata": {
  "kernelspec": {
   "display_name": "R",
   "language": "R",
   "name": "ir"
  },
  "language_info": {
   "codemirror_mode": "r",
   "file_extension": ".r",
   "mimetype": "text/x-r-source",
   "name": "R",
   "pygments_lexer": "r",
   "version": "3.6.1"
  }
 },
 "nbformat": 4,
 "nbformat_minor": 2
}
