{
 "cells": [
  {
   "cell_type": "code",
   "execution_count": 1,
   "metadata": {},
   "outputs": [],
   "source": [
    "a <- read.csv(\"03172021-PE-treatment-RA-M-F.csv\")"
   ]
  },
  {
   "cell_type": "code",
   "execution_count": 2,
   "metadata": {},
   "outputs": [
    {
     "data": {
      "text/html": [
       "<table>\n",
       "<thead><tr><th scope=col>filename</th><th scope=col>MouseID</th><th scope=col>Treatmentgroup</th><th scope=col>DPI</th><th scope=col>organ</th><th scope=col>well_position</th><th scope=col>plate</th><th scope=col>mass_400</th><th scope=col>mass_500</th><th scope=col>mass_600</th><th scope=col>mass_700</th><th scope=col>mass_800</th></tr></thead>\n",
       "<tbody>\n",
       "\t<tr><td>X511_Group1C_142dpi_RA_161_G_A1_P124.mzXML</td><td>511                                       </td><td>naive                                     </td><td>142dpi                                    </td><td>RA                                        </td><td>A1                                        </td><td>P124                                      </td><td>0.000654335                               </td><td>0.003736275                               </td><td>0.000000000                               </td><td>0.000832270                               </td><td>0.000000000                               </td></tr>\n",
       "\t<tr><td>X512_Group1C_142dpi_RA_162_G_A2_P124.mzXML</td><td>512                                       </td><td>naive                                     </td><td>142dpi                                    </td><td>RA                                        </td><td>A2                                        </td><td>P124                                      </td><td>0.001902661                               </td><td>0.007220000                               </td><td>0.000000000                               </td><td>0.003141999                               </td><td>0.000000000                               </td></tr>\n",
       "\t<tr><td>X513_Group1C_142dpi_RA_163_G_A3_P124.mzXML</td><td>513                                       </td><td>naive                                     </td><td>142dpi                                    </td><td>RA                                        </td><td>A3                                        </td><td>P124                                      </td><td>0.005683259                               </td><td>0.006810000                               </td><td>0.000069000                               </td><td>0.010410065                               </td><td>0.000484937                               </td></tr>\n",
       "\t<tr><td>X514_Group1C_142dpi_RA_164_G_A4_P124.mzXML</td><td>514                                       </td><td>naive                                     </td><td>142dpi                                    </td><td>RA                                        </td><td>A4                                        </td><td>P124                                      </td><td>0.004470928                               </td><td>0.004333828                               </td><td>0.000201159                               </td><td>0.001951171                               </td><td>0.000000000                               </td></tr>\n",
       "\t<tr><td>X515_Group1C_142dpi_RA_165_G_A5_P124.mzXML</td><td>515                                       </td><td>naive                                     </td><td>142dpi                                    </td><td>RA                                        </td><td>A5                                        </td><td>P124                                      </td><td>0.000504340                               </td><td>0.002660000                               </td><td>0.000000000                               </td><td>0.000772434                               </td><td>0.000000000                               </td></tr>\n",
       "\t<tr><td>X531_Group1C_142dpi_RA_166_G_A6_P124.mzXML</td><td>531                                       </td><td>naive                                     </td><td>142dpi                                    </td><td>RA                                        </td><td>A6                                        </td><td>P124                                      </td><td>0.003767551                               </td><td>0.009470000                               </td><td>0.000000000                               </td><td>0.002650000                               </td><td>0.000000000                               </td></tr>\n",
       "</tbody>\n",
       "</table>\n"
      ],
      "text/latex": [
       "\\begin{tabular}{r|llllllllllll}\n",
       " filename & MouseID & Treatmentgroup & DPI & organ & well\\_position & plate & mass\\_400 & mass\\_500 & mass\\_600 & mass\\_700 & mass\\_800\\\\\n",
       "\\hline\n",
       "\t X511\\_Group1C\\_142dpi\\_RA\\_161\\_G\\_A1\\_P124.mzXML & 511                                                      & naive                                                    & 142dpi                                                   & RA                                                       & A1                                                       & P124                                                     & 0.000654335                                              & 0.003736275                                              & 0.000000000                                              & 0.000832270                                              & 0.000000000                                             \\\\\n",
       "\t X512\\_Group1C\\_142dpi\\_RA\\_162\\_G\\_A2\\_P124.mzXML & 512                                                      & naive                                                    & 142dpi                                                   & RA                                                       & A2                                                       & P124                                                     & 0.001902661                                              & 0.007220000                                              & 0.000000000                                              & 0.003141999                                              & 0.000000000                                             \\\\\n",
       "\t X513\\_Group1C\\_142dpi\\_RA\\_163\\_G\\_A3\\_P124.mzXML & 513                                                      & naive                                                    & 142dpi                                                   & RA                                                       & A3                                                       & P124                                                     & 0.005683259                                              & 0.006810000                                              & 0.000069000                                              & 0.010410065                                              & 0.000484937                                             \\\\\n",
       "\t X514\\_Group1C\\_142dpi\\_RA\\_164\\_G\\_A4\\_P124.mzXML & 514                                                      & naive                                                    & 142dpi                                                   & RA                                                       & A4                                                       & P124                                                     & 0.004470928                                              & 0.004333828                                              & 0.000201159                                              & 0.001951171                                              & 0.000000000                                             \\\\\n",
       "\t X515\\_Group1C\\_142dpi\\_RA\\_165\\_G\\_A5\\_P124.mzXML & 515                                                      & naive                                                    & 142dpi                                                   & RA                                                       & A5                                                       & P124                                                     & 0.000504340                                              & 0.002660000                                              & 0.000000000                                              & 0.000772434                                              & 0.000000000                                             \\\\\n",
       "\t X531\\_Group1C\\_142dpi\\_RA\\_166\\_G\\_A6\\_P124.mzXML & 531                                                      & naive                                                    & 142dpi                                                   & RA                                                       & A6                                                       & P124                                                     & 0.003767551                                              & 0.009470000                                              & 0.000000000                                              & 0.002650000                                              & 0.000000000                                             \\\\\n",
       "\\end{tabular}\n"
      ],
      "text/markdown": [
       "\n",
       "| filename | MouseID | Treatmentgroup | DPI | organ | well_position | plate | mass_400 | mass_500 | mass_600 | mass_700 | mass_800 |\n",
       "|---|---|---|---|---|---|---|---|---|---|---|---|\n",
       "| X511_Group1C_142dpi_RA_161_G_A1_P124.mzXML | 511                                        | naive                                      | 142dpi                                     | RA                                         | A1                                         | P124                                       | 0.000654335                                | 0.003736275                                | 0.000000000                                | 0.000832270                                | 0.000000000                                |\n",
       "| X512_Group1C_142dpi_RA_162_G_A2_P124.mzXML | 512                                        | naive                                      | 142dpi                                     | RA                                         | A2                                         | P124                                       | 0.001902661                                | 0.007220000                                | 0.000000000                                | 0.003141999                                | 0.000000000                                |\n",
       "| X513_Group1C_142dpi_RA_163_G_A3_P124.mzXML | 513                                        | naive                                      | 142dpi                                     | RA                                         | A3                                         | P124                                       | 0.005683259                                | 0.006810000                                | 0.000069000                                | 0.010410065                                | 0.000484937                                |\n",
       "| X514_Group1C_142dpi_RA_164_G_A4_P124.mzXML | 514                                        | naive                                      | 142dpi                                     | RA                                         | A4                                         | P124                                       | 0.004470928                                | 0.004333828                                | 0.000201159                                | 0.001951171                                | 0.000000000                                |\n",
       "| X515_Group1C_142dpi_RA_165_G_A5_P124.mzXML | 515                                        | naive                                      | 142dpi                                     | RA                                         | A5                                         | P124                                       | 0.000504340                                | 0.002660000                                | 0.000000000                                | 0.000772434                                | 0.000000000                                |\n",
       "| X531_Group1C_142dpi_RA_166_G_A6_P124.mzXML | 531                                        | naive                                      | 142dpi                                     | RA                                         | A6                                         | P124                                       | 0.003767551                                | 0.009470000                                | 0.000000000                                | 0.002650000                                | 0.000000000                                |\n",
       "\n"
      ],
      "text/plain": [
       "  filename                                   MouseID Treatmentgroup DPI   \n",
       "1 X511_Group1C_142dpi_RA_161_G_A1_P124.mzXML 511     naive          142dpi\n",
       "2 X512_Group1C_142dpi_RA_162_G_A2_P124.mzXML 512     naive          142dpi\n",
       "3 X513_Group1C_142dpi_RA_163_G_A3_P124.mzXML 513     naive          142dpi\n",
       "4 X514_Group1C_142dpi_RA_164_G_A4_P124.mzXML 514     naive          142dpi\n",
       "5 X515_Group1C_142dpi_RA_165_G_A5_P124.mzXML 515     naive          142dpi\n",
       "6 X531_Group1C_142dpi_RA_166_G_A6_P124.mzXML 531     naive          142dpi\n",
       "  organ well_position plate mass_400    mass_500    mass_600    mass_700   \n",
       "1 RA    A1            P124  0.000654335 0.003736275 0.000000000 0.000832270\n",
       "2 RA    A2            P124  0.001902661 0.007220000 0.000000000 0.003141999\n",
       "3 RA    A3            P124  0.005683259 0.006810000 0.000069000 0.010410065\n",
       "4 RA    A4            P124  0.004470928 0.004333828 0.000201159 0.001951171\n",
       "5 RA    A5            P124  0.000504340 0.002660000 0.000000000 0.000772434\n",
       "6 RA    A6            P124  0.003767551 0.009470000 0.000000000 0.002650000\n",
       "  mass_800   \n",
       "1 0.000000000\n",
       "2 0.000000000\n",
       "3 0.000484937\n",
       "4 0.000000000\n",
       "5 0.000000000\n",
       "6 0.000000000"
      ]
     },
     "metadata": {},
     "output_type": "display_data"
    },
    {
     "data": {
      "text/html": [
       "<ol class=list-inline>\n",
       "\t<li>60</li>\n",
       "\t<li>12</li>\n",
       "</ol>\n"
      ],
      "text/latex": [
       "\\begin{enumerate*}\n",
       "\\item 60\n",
       "\\item 12\n",
       "\\end{enumerate*}\n"
      ],
      "text/markdown": [
       "1. 60\n",
       "2. 12\n",
       "\n",
       "\n"
      ],
      "text/plain": [
       "[1] 60 12"
      ]
     },
     "metadata": {},
     "output_type": "display_data"
    }
   ],
   "source": [
    "head(a)\n",
    "dim(a)"
   ]
  },
  {
   "cell_type": "code",
   "execution_count": 3,
   "metadata": {},
   "outputs": [
    {
     "data": {
      "text/html": [
       "<table>\n",
       "<thead><tr><th></th><th scope=col>filename</th><th scope=col>MouseID</th><th scope=col>Treatmentgroup</th><th scope=col>DPI</th><th scope=col>organ</th><th scope=col>well_position</th><th scope=col>plate</th><th scope=col>mass_400</th><th scope=col>mass_500</th><th scope=col>mass_600</th><th scope=col>mass_700</th><th scope=col>mass_800</th></tr></thead>\n",
       "<tbody>\n",
       "\t<tr><th scope=row>16</th><td>X581_Group3E_142dpi_RA_176_G_B4_P124.mzXML</td><td>581                                       </td><td>infected                                  </td><td>142dpi                                    </td><td>RA                                        </td><td>B4                                        </td><td>P124                                      </td><td>0.010463229                               </td><td>0.02027747                                </td><td>3.12e-05                                  </td><td>0.004249540                               </td><td>0.000000000                               </td></tr>\n",
       "\t<tr><th scope=row>17</th><td>X582_Group3E_142dpi_RA_177_G_B5_P124.mzXML</td><td>582                                       </td><td>infected                                  </td><td>142dpi                                    </td><td>RA                                        </td><td>B5                                        </td><td>P124                                      </td><td>0.011081501                               </td><td>0.02504573                                </td><td>4.88e-05                                  </td><td>0.008411663                               </td><td>0.000000000                               </td></tr>\n",
       "\t<tr><th scope=row>18</th><td>X583_Group3E_142dpi_RA_178_G_B6_P124.mzXML</td><td>583                                       </td><td>infected                                  </td><td>142dpi                                    </td><td>RA                                        </td><td>B6                                        </td><td>P124                                      </td><td>0.003708060                               </td><td>0.01443396                                </td><td>4.44e-05                                  </td><td>0.000000000                               </td><td>0.000000000                               </td></tr>\n",
       "\t<tr><th scope=row>19</th><td>X584_Group3E_142dpi_RA_179_G_B7_P124.mzXML</td><td>584                                       </td><td>infected                                  </td><td>142dpi                                    </td><td>RA                                        </td><td>B7                                        </td><td>P124                                      </td><td>0.000650048                               </td><td>0.00421000                                </td><td>3.16e-05                                  </td><td>0.015013471                               </td><td>0.000326066                               </td></tr>\n",
       "\t<tr><th scope=row>20</th><td>X585_Group3E_142dpi_RA_180_G_B8_P124.mzXML</td><td>585                                       </td><td>infected                                  </td><td>142dpi                                    </td><td>RA                                        </td><td>B8                                        </td><td>P124                                      </td><td>0.007332559                               </td><td>0.02168942                                </td><td>0.00e+00                                  </td><td>0.008542580                               </td><td>0.000000000                               </td></tr>\n",
       "\t<tr><th scope=row>21</th><td>X611_Group9_142dpi_RA_181_G_B9_P124.mzXML </td><td>611                                       </td><td>combo                                     </td><td>142dpi                                    </td><td>RA                                        </td><td>B9                                        </td><td>P124                                      </td><td>0.001313951                               </td><td>0.00290000                                </td><td>0.00e+00                                  </td><td>0.000360499                               </td><td>0.000000000                               </td></tr>\n",
       "</tbody>\n",
       "</table>\n"
      ],
      "text/latex": [
       "\\begin{tabular}{r|llllllllllll}\n",
       "  & filename & MouseID & Treatmentgroup & DPI & organ & well\\_position & plate & mass\\_400 & mass\\_500 & mass\\_600 & mass\\_700 & mass\\_800\\\\\n",
       "\\hline\n",
       "\t16 & X581\\_Group3E\\_142dpi\\_RA\\_176\\_G\\_B4\\_P124.mzXML & 581                                                      & infected                                                 & 142dpi                                                   & RA                                                       & B4                                                       & P124                                                     & 0.010463229                                              & 0.02027747                                               & 3.12e-05                                                 & 0.004249540                                              & 0.000000000                                             \\\\\n",
       "\t17 & X582\\_Group3E\\_142dpi\\_RA\\_177\\_G\\_B5\\_P124.mzXML & 582                                                      & infected                                                 & 142dpi                                                   & RA                                                       & B5                                                       & P124                                                     & 0.011081501                                              & 0.02504573                                               & 4.88e-05                                                 & 0.008411663                                              & 0.000000000                                             \\\\\n",
       "\t18 & X583\\_Group3E\\_142dpi\\_RA\\_178\\_G\\_B6\\_P124.mzXML & 583                                                      & infected                                                 & 142dpi                                                   & RA                                                       & B6                                                       & P124                                                     & 0.003708060                                              & 0.01443396                                               & 4.44e-05                                                 & 0.000000000                                              & 0.000000000                                             \\\\\n",
       "\t19 & X584\\_Group3E\\_142dpi\\_RA\\_179\\_G\\_B7\\_P124.mzXML & 584                                                      & infected                                                 & 142dpi                                                   & RA                                                       & B7                                                       & P124                                                     & 0.000650048                                              & 0.00421000                                               & 3.16e-05                                                 & 0.015013471                                              & 0.000326066                                             \\\\\n",
       "\t20 & X585\\_Group3E\\_142dpi\\_RA\\_180\\_G\\_B8\\_P124.mzXML & 585                                                      & infected                                                 & 142dpi                                                   & RA                                                       & B8                                                       & P124                                                     & 0.007332559                                              & 0.02168942                                               & 0.00e+00                                                 & 0.008542580                                              & 0.000000000                                             \\\\\n",
       "\t21 & X611\\_Group9\\_142dpi\\_RA\\_181\\_G\\_B9\\_P124.mzXML  & 611                                                      & combo                                                    & 142dpi                                                   & RA                                                       & B9                                                       & P124                                                     & 0.001313951                                              & 0.00290000                                               & 0.00e+00                                                 & 0.000360499                                              & 0.000000000                                             \\\\\n",
       "\\end{tabular}\n"
      ],
      "text/markdown": [
       "\n",
       "| <!--/--> | filename | MouseID | Treatmentgroup | DPI | organ | well_position | plate | mass_400 | mass_500 | mass_600 | mass_700 | mass_800 |\n",
       "|---|---|---|---|---|---|---|---|---|---|---|---|---|\n",
       "| 16 | X581_Group3E_142dpi_RA_176_G_B4_P124.mzXML | 581                                        | infected                                   | 142dpi                                     | RA                                         | B4                                         | P124                                       | 0.010463229                                | 0.02027747                                 | 3.12e-05                                   | 0.004249540                                | 0.000000000                                |\n",
       "| 17 | X582_Group3E_142dpi_RA_177_G_B5_P124.mzXML | 582                                        | infected                                   | 142dpi                                     | RA                                         | B5                                         | P124                                       | 0.011081501                                | 0.02504573                                 | 4.88e-05                                   | 0.008411663                                | 0.000000000                                |\n",
       "| 18 | X583_Group3E_142dpi_RA_178_G_B6_P124.mzXML | 583                                        | infected                                   | 142dpi                                     | RA                                         | B6                                         | P124                                       | 0.003708060                                | 0.01443396                                 | 4.44e-05                                   | 0.000000000                                | 0.000000000                                |\n",
       "| 19 | X584_Group3E_142dpi_RA_179_G_B7_P124.mzXML | 584                                        | infected                                   | 142dpi                                     | RA                                         | B7                                         | P124                                       | 0.000650048                                | 0.00421000                                 | 3.16e-05                                   | 0.015013471                                | 0.000326066                                |\n",
       "| 20 | X585_Group3E_142dpi_RA_180_G_B8_P124.mzXML | 585                                        | infected                                   | 142dpi                                     | RA                                         | B8                                         | P124                                       | 0.007332559                                | 0.02168942                                 | 0.00e+00                                   | 0.008542580                                | 0.000000000                                |\n",
       "| 21 | X611_Group9_142dpi_RA_181_G_B9_P124.mzXML  | 611                                        | combo                                      | 142dpi                                     | RA                                         | B9                                         | P124                                       | 0.001313951                                | 0.00290000                                 | 0.00e+00                                   | 0.000360499                                | 0.000000000                                |\n",
       "\n"
      ],
      "text/plain": [
       "   filename                                   MouseID Treatmentgroup DPI   \n",
       "16 X581_Group3E_142dpi_RA_176_G_B4_P124.mzXML 581     infected       142dpi\n",
       "17 X582_Group3E_142dpi_RA_177_G_B5_P124.mzXML 582     infected       142dpi\n",
       "18 X583_Group3E_142dpi_RA_178_G_B6_P124.mzXML 583     infected       142dpi\n",
       "19 X584_Group3E_142dpi_RA_179_G_B7_P124.mzXML 584     infected       142dpi\n",
       "20 X585_Group3E_142dpi_RA_180_G_B8_P124.mzXML 585     infected       142dpi\n",
       "21 X611_Group9_142dpi_RA_181_G_B9_P124.mzXML  611     combo          142dpi\n",
       "   organ well_position plate mass_400    mass_500   mass_600 mass_700   \n",
       "16 RA    B4            P124  0.010463229 0.02027747 3.12e-05 0.004249540\n",
       "17 RA    B5            P124  0.011081501 0.02504573 4.88e-05 0.008411663\n",
       "18 RA    B6            P124  0.003708060 0.01443396 4.44e-05 0.000000000\n",
       "19 RA    B7            P124  0.000650048 0.00421000 3.16e-05 0.015013471\n",
       "20 RA    B8            P124  0.007332559 0.02168942 0.00e+00 0.008542580\n",
       "21 RA    B9            P124  0.001313951 0.00290000 0.00e+00 0.000360499\n",
       "   mass_800   \n",
       "16 0.000000000\n",
       "17 0.000000000\n",
       "18 0.000000000\n",
       "19 0.000326066\n",
       "20 0.000000000\n",
       "21 0.000000000"
      ]
     },
     "metadata": {},
     "output_type": "display_data"
    },
    {
     "data": {
      "text/html": [
       "<ol class=list-inline>\n",
       "\t<li>30</li>\n",
       "\t<li>12</li>\n",
       "</ol>\n"
      ],
      "text/latex": [
       "\\begin{enumerate*}\n",
       "\\item 30\n",
       "\\item 12\n",
       "\\end{enumerate*}\n"
      ],
      "text/markdown": [
       "1. 30\n",
       "2. 12\n",
       "\n",
       "\n"
      ],
      "text/plain": [
       "[1] 30 12"
      ]
     },
     "metadata": {},
     "output_type": "display_data"
    }
   ],
   "source": [
    "features_pos<-droplevels(subset(a, a$Treatmentgroup==c(\"infected\")|a$Treatmentgroup==c(\"combo\")))\n",
    "head(features_pos)\n",
    "dim(features_pos)"
   ]
  },
  {
   "cell_type": "code",
   "execution_count": 4,
   "metadata": {
    "scrolled": false
   },
   "outputs": [
    {
     "data": {
      "text/html": [
       "<table>\n",
       "<thead><tr><th></th><th scope=col>mass_400</th><th scope=col>mass_500</th><th scope=col>mass_600</th><th scope=col>mass_700</th><th scope=col>mass_800</th></tr></thead>\n",
       "<tbody>\n",
       "\t<tr><th scope=row>16</th><td>0.010463229</td><td>0.02027747 </td><td>3.12e-05   </td><td>0.004249540</td><td>0.000000000</td></tr>\n",
       "\t<tr><th scope=row>17</th><td>0.011081501</td><td>0.02504573 </td><td>4.88e-05   </td><td>0.008411663</td><td>0.000000000</td></tr>\n",
       "\t<tr><th scope=row>18</th><td>0.003708060</td><td>0.01443396 </td><td>4.44e-05   </td><td>0.000000000</td><td>0.000000000</td></tr>\n",
       "\t<tr><th scope=row>19</th><td>0.000650048</td><td>0.00421000 </td><td>3.16e-05   </td><td>0.015013471</td><td>0.000326066</td></tr>\n",
       "\t<tr><th scope=row>20</th><td>0.007332559</td><td>0.02168942 </td><td>0.00e+00   </td><td>0.008542580</td><td>0.000000000</td></tr>\n",
       "\t<tr><th scope=row>21</th><td>0.001313951</td><td>0.00290000 </td><td>0.00e+00   </td><td>0.000360499</td><td>0.000000000</td></tr>\n",
       "</tbody>\n",
       "</table>\n"
      ],
      "text/latex": [
       "\\begin{tabular}{r|lllll}\n",
       "  & mass\\_400 & mass\\_500 & mass\\_600 & mass\\_700 & mass\\_800\\\\\n",
       "\\hline\n",
       "\t16 & 0.010463229 & 0.02027747  & 3.12e-05    & 0.004249540 & 0.000000000\\\\\n",
       "\t17 & 0.011081501 & 0.02504573  & 4.88e-05    & 0.008411663 & 0.000000000\\\\\n",
       "\t18 & 0.003708060 & 0.01443396  & 4.44e-05    & 0.000000000 & 0.000000000\\\\\n",
       "\t19 & 0.000650048 & 0.00421000  & 3.16e-05    & 0.015013471 & 0.000326066\\\\\n",
       "\t20 & 0.007332559 & 0.02168942  & 0.00e+00    & 0.008542580 & 0.000000000\\\\\n",
       "\t21 & 0.001313951 & 0.00290000  & 0.00e+00    & 0.000360499 & 0.000000000\\\\\n",
       "\\end{tabular}\n"
      ],
      "text/markdown": [
       "\n",
       "| <!--/--> | mass_400 | mass_500 | mass_600 | mass_700 | mass_800 |\n",
       "|---|---|---|---|---|---|\n",
       "| 16 | 0.010463229 | 0.02027747  | 3.12e-05    | 0.004249540 | 0.000000000 |\n",
       "| 17 | 0.011081501 | 0.02504573  | 4.88e-05    | 0.008411663 | 0.000000000 |\n",
       "| 18 | 0.003708060 | 0.01443396  | 4.44e-05    | 0.000000000 | 0.000000000 |\n",
       "| 19 | 0.000650048 | 0.00421000  | 3.16e-05    | 0.015013471 | 0.000326066 |\n",
       "| 20 | 0.007332559 | 0.02168942  | 0.00e+00    | 0.008542580 | 0.000000000 |\n",
       "| 21 | 0.001313951 | 0.00290000  | 0.00e+00    | 0.000360499 | 0.000000000 |\n",
       "\n"
      ],
      "text/plain": [
       "   mass_400    mass_500   mass_600 mass_700    mass_800   \n",
       "16 0.010463229 0.02027747 3.12e-05 0.004249540 0.000000000\n",
       "17 0.011081501 0.02504573 4.88e-05 0.008411663 0.000000000\n",
       "18 0.003708060 0.01443396 4.44e-05 0.000000000 0.000000000\n",
       "19 0.000650048 0.00421000 3.16e-05 0.015013471 0.000326066\n",
       "20 0.007332559 0.02168942 0.00e+00 0.008542580 0.000000000\n",
       "21 0.001313951 0.00290000 0.00e+00 0.000360499 0.000000000"
      ]
     },
     "metadata": {},
     "output_type": "display_data"
    },
    {
     "data": {
      "text/html": [
       "<dl class=dl-horizontal>\n",
       "\t<dt>mass_400</dt>\n",
       "\t\t<dd>1</dd>\n",
       "\t<dt>mass_500</dt>\n",
       "\t\t<dd>2</dd>\n",
       "\t<dt>mass_600</dt>\n",
       "\t\t<dd>3</dd>\n",
       "\t<dt>mass_700</dt>\n",
       "\t\t<dd>4</dd>\n",
       "\t<dt>mass_800</dt>\n",
       "\t\t<dd>5</dd>\n",
       "</dl>\n"
      ],
      "text/latex": [
       "\\begin{description*}\n",
       "\\item[mass\\textbackslash{}\\_400] 1\n",
       "\\item[mass\\textbackslash{}\\_500] 2\n",
       "\\item[mass\\textbackslash{}\\_600] 3\n",
       "\\item[mass\\textbackslash{}\\_700] 4\n",
       "\\item[mass\\textbackslash{}\\_800] 5\n",
       "\\end{description*}\n"
      ],
      "text/markdown": [
       "mass_400\n",
       ":   1mass_500\n",
       ":   2mass_600\n",
       ":   3mass_700\n",
       ":   4mass_800\n",
       ":   5\n",
       "\n"
      ],
      "text/plain": [
       "mass_400 mass_500 mass_600 mass_700 mass_800 \n",
       "       1        2        3        4        5 "
      ]
     },
     "metadata": {},
     "output_type": "display_data"
    },
    {
     "data": {
      "text/html": [
       "<table>\n",
       "<thead><tr><th></th><th scope=col>mass_400</th><th scope=col>mass_500</th><th scope=col>mass_600</th><th scope=col>mass_700</th><th scope=col>mass_800</th></tr></thead>\n",
       "<tbody>\n",
       "\t<tr><th scope=row>16</th><td>0.010463229</td><td>0.020277467</td><td>0.000031200</td><td>0.004249540</td><td>0.000000000</td></tr>\n",
       "\t<tr><th scope=row>17</th><td>0.011081501</td><td>0.025045727</td><td>0.000048800</td><td>0.008411663</td><td>0.000000000</td></tr>\n",
       "\t<tr><th scope=row>18</th><td>0.003708060</td><td>0.014433959</td><td>0.000044400</td><td>0.000000000</td><td>0.000000000</td></tr>\n",
       "\t<tr><th scope=row>19</th><td>0.000650048</td><td>0.004210000</td><td>0.000031600</td><td>0.015013471</td><td>0.000326066</td></tr>\n",
       "\t<tr><th scope=row>20</th><td>0.007332559</td><td>0.021689420</td><td>0.000000000</td><td>0.008542580</td><td>0.000000000</td></tr>\n",
       "\t<tr><th scope=row>21</th><td>0.001313951</td><td>0.002900000</td><td>0.000000000</td><td>0.000360499</td><td>0.000000000</td></tr>\n",
       "\t<tr><th scope=row>22</th><td>0.001351687</td><td>0.007094888</td><td>0.000000000</td><td>0.001720036</td><td>0.000000000</td></tr>\n",
       "\t<tr><th scope=row>23</th><td>0.005236741</td><td>0.012265284</td><td>0.000076200</td><td>0.004143269</td><td>0.000000000</td></tr>\n",
       "\t<tr><th scope=row>24</th><td>0.003651434</td><td>0.005511553</td><td>0.000000000</td><td>0.000933502</td><td>0.000000000</td></tr>\n",
       "\t<tr><th scope=row>25</th><td>0.001423112</td><td>0.003741692</td><td>0.000031700</td><td>0.000356207</td><td>0.000000000</td></tr>\n",
       "\t<tr><th scope=row>31</th><td>0.002130889</td><td>0.003407951</td><td>0.000000000</td><td>0.009411127</td><td>0.000032000</td></tr>\n",
       "\t<tr><th scope=row>32</th><td>0.003501736</td><td>0.005342402</td><td>0.000000000</td><td>0.002292800</td><td>0.000000000</td></tr>\n",
       "\t<tr><th scope=row>33</th><td>0.002284882</td><td>0.007417578</td><td>0.000040400</td><td>0.008480000</td><td>0.000000000</td></tr>\n",
       "\t<tr><th scope=row>34</th><td>0.000998424</td><td>0.002437253</td><td>0.000000000</td><td>0.002812995</td><td>0.000000000</td></tr>\n",
       "\t<tr><th scope=row>35</th><td>0.003766915</td><td>0.011081875</td><td>0.000051800</td><td>0.000629076</td><td>0.000000000</td></tr>\n",
       "\t<tr><th scope=row>36</th><td>0.000531601</td><td>0.004115328</td><td>0.000000000</td><td>0.010825591</td><td>0.000000000</td></tr>\n",
       "\t<tr><th scope=row>37</th><td>0.001041158</td><td>0.004750490</td><td>0.000000000</td><td>0.006247059</td><td>0.000020400</td></tr>\n",
       "\t<tr><th scope=row>38</th><td>0.001890196</td><td>0.006248327</td><td>0.000000000</td><td>0.017948616</td><td>0.000294877</td></tr>\n",
       "\t<tr><th scope=row>39</th><td>0.002015563</td><td>0.005454913</td><td>0.000000000</td><td>0.001926347</td><td>0.000000000</td></tr>\n",
       "\t<tr><th scope=row>40</th><td>0.010755077</td><td>0.010400000</td><td>0.000000000</td><td>0.002804127</td><td>0.000000000</td></tr>\n",
       "\t<tr><th scope=row>46</th><td>0.011338511</td><td>0.018123618</td><td>0.000527748</td><td>0.000000000</td><td>0.000000000</td></tr>\n",
       "\t<tr><th scope=row>47</th><td>0.004311037</td><td>0.005870000</td><td>0.000038100</td><td>0.000900420</td><td>0.000000000</td></tr>\n",
       "\t<tr><th scope=row>48</th><td>0.001433183</td><td>0.005537921</td><td>0.000000000</td><td>0.004315050</td><td>0.000000000</td></tr>\n",
       "\t<tr><th scope=row>49</th><td>0.000830768</td><td>0.004719166</td><td>0.000000000</td><td>0.002219404</td><td>0.000000000</td></tr>\n",
       "\t<tr><th scope=row>50</th><td>0.005090592</td><td>0.008840000</td><td>0.000362419</td><td>0.000000000</td><td>0.000000000</td></tr>\n",
       "\t<tr><th scope=row>51</th><td>0.004949750</td><td>0.019298844</td><td>0.000000000</td><td>0.001644146</td><td>0.000000000</td></tr>\n",
       "\t<tr><th scope=row>52</th><td>0.002716288</td><td>0.007778546</td><td>0.000000000</td><td>0.000811257</td><td>0.000000000</td></tr>\n",
       "\t<tr><th scope=row>53</th><td>0.003492299</td><td>0.014049647</td><td>0.000063200</td><td>0.000000000</td><td>0.000000000</td></tr>\n",
       "\t<tr><th scope=row>54</th><td>0.010592708</td><td>0.017130988</td><td>0.000000000</td><td>0.000639461</td><td>0.000000000</td></tr>\n",
       "\t<tr><th scope=row>55</th><td>0.001216809</td><td>0.004317490</td><td>0.000000000</td><td>0.000766749</td><td>0.000000000</td></tr>\n",
       "</tbody>\n",
       "</table>\n"
      ],
      "text/latex": [
       "\\begin{tabular}{r|lllll}\n",
       "  & mass\\_400 & mass\\_500 & mass\\_600 & mass\\_700 & mass\\_800\\\\\n",
       "\\hline\n",
       "\t16 & 0.010463229 & 0.020277467 & 0.000031200 & 0.004249540 & 0.000000000\\\\\n",
       "\t17 & 0.011081501 & 0.025045727 & 0.000048800 & 0.008411663 & 0.000000000\\\\\n",
       "\t18 & 0.003708060 & 0.014433959 & 0.000044400 & 0.000000000 & 0.000000000\\\\\n",
       "\t19 & 0.000650048 & 0.004210000 & 0.000031600 & 0.015013471 & 0.000326066\\\\\n",
       "\t20 & 0.007332559 & 0.021689420 & 0.000000000 & 0.008542580 & 0.000000000\\\\\n",
       "\t21 & 0.001313951 & 0.002900000 & 0.000000000 & 0.000360499 & 0.000000000\\\\\n",
       "\t22 & 0.001351687 & 0.007094888 & 0.000000000 & 0.001720036 & 0.000000000\\\\\n",
       "\t23 & 0.005236741 & 0.012265284 & 0.000076200 & 0.004143269 & 0.000000000\\\\\n",
       "\t24 & 0.003651434 & 0.005511553 & 0.000000000 & 0.000933502 & 0.000000000\\\\\n",
       "\t25 & 0.001423112 & 0.003741692 & 0.000031700 & 0.000356207 & 0.000000000\\\\\n",
       "\t31 & 0.002130889 & 0.003407951 & 0.000000000 & 0.009411127 & 0.000032000\\\\\n",
       "\t32 & 0.003501736 & 0.005342402 & 0.000000000 & 0.002292800 & 0.000000000\\\\\n",
       "\t33 & 0.002284882 & 0.007417578 & 0.000040400 & 0.008480000 & 0.000000000\\\\\n",
       "\t34 & 0.000998424 & 0.002437253 & 0.000000000 & 0.002812995 & 0.000000000\\\\\n",
       "\t35 & 0.003766915 & 0.011081875 & 0.000051800 & 0.000629076 & 0.000000000\\\\\n",
       "\t36 & 0.000531601 & 0.004115328 & 0.000000000 & 0.010825591 & 0.000000000\\\\\n",
       "\t37 & 0.001041158 & 0.004750490 & 0.000000000 & 0.006247059 & 0.000020400\\\\\n",
       "\t38 & 0.001890196 & 0.006248327 & 0.000000000 & 0.017948616 & 0.000294877\\\\\n",
       "\t39 & 0.002015563 & 0.005454913 & 0.000000000 & 0.001926347 & 0.000000000\\\\\n",
       "\t40 & 0.010755077 & 0.010400000 & 0.000000000 & 0.002804127 & 0.000000000\\\\\n",
       "\t46 & 0.011338511 & 0.018123618 & 0.000527748 & 0.000000000 & 0.000000000\\\\\n",
       "\t47 & 0.004311037 & 0.005870000 & 0.000038100 & 0.000900420 & 0.000000000\\\\\n",
       "\t48 & 0.001433183 & 0.005537921 & 0.000000000 & 0.004315050 & 0.000000000\\\\\n",
       "\t49 & 0.000830768 & 0.004719166 & 0.000000000 & 0.002219404 & 0.000000000\\\\\n",
       "\t50 & 0.005090592 & 0.008840000 & 0.000362419 & 0.000000000 & 0.000000000\\\\\n",
       "\t51 & 0.004949750 & 0.019298844 & 0.000000000 & 0.001644146 & 0.000000000\\\\\n",
       "\t52 & 0.002716288 & 0.007778546 & 0.000000000 & 0.000811257 & 0.000000000\\\\\n",
       "\t53 & 0.003492299 & 0.014049647 & 0.000063200 & 0.000000000 & 0.000000000\\\\\n",
       "\t54 & 0.010592708 & 0.017130988 & 0.000000000 & 0.000639461 & 0.000000000\\\\\n",
       "\t55 & 0.001216809 & 0.004317490 & 0.000000000 & 0.000766749 & 0.000000000\\\\\n",
       "\\end{tabular}\n"
      ],
      "text/markdown": [
       "\n",
       "| <!--/--> | mass_400 | mass_500 | mass_600 | mass_700 | mass_800 |\n",
       "|---|---|---|---|---|---|\n",
       "| 16 | 0.010463229 | 0.020277467 | 0.000031200 | 0.004249540 | 0.000000000 |\n",
       "| 17 | 0.011081501 | 0.025045727 | 0.000048800 | 0.008411663 | 0.000000000 |\n",
       "| 18 | 0.003708060 | 0.014433959 | 0.000044400 | 0.000000000 | 0.000000000 |\n",
       "| 19 | 0.000650048 | 0.004210000 | 0.000031600 | 0.015013471 | 0.000326066 |\n",
       "| 20 | 0.007332559 | 0.021689420 | 0.000000000 | 0.008542580 | 0.000000000 |\n",
       "| 21 | 0.001313951 | 0.002900000 | 0.000000000 | 0.000360499 | 0.000000000 |\n",
       "| 22 | 0.001351687 | 0.007094888 | 0.000000000 | 0.001720036 | 0.000000000 |\n",
       "| 23 | 0.005236741 | 0.012265284 | 0.000076200 | 0.004143269 | 0.000000000 |\n",
       "| 24 | 0.003651434 | 0.005511553 | 0.000000000 | 0.000933502 | 0.000000000 |\n",
       "| 25 | 0.001423112 | 0.003741692 | 0.000031700 | 0.000356207 | 0.000000000 |\n",
       "| 31 | 0.002130889 | 0.003407951 | 0.000000000 | 0.009411127 | 0.000032000 |\n",
       "| 32 | 0.003501736 | 0.005342402 | 0.000000000 | 0.002292800 | 0.000000000 |\n",
       "| 33 | 0.002284882 | 0.007417578 | 0.000040400 | 0.008480000 | 0.000000000 |\n",
       "| 34 | 0.000998424 | 0.002437253 | 0.000000000 | 0.002812995 | 0.000000000 |\n",
       "| 35 | 0.003766915 | 0.011081875 | 0.000051800 | 0.000629076 | 0.000000000 |\n",
       "| 36 | 0.000531601 | 0.004115328 | 0.000000000 | 0.010825591 | 0.000000000 |\n",
       "| 37 | 0.001041158 | 0.004750490 | 0.000000000 | 0.006247059 | 0.000020400 |\n",
       "| 38 | 0.001890196 | 0.006248327 | 0.000000000 | 0.017948616 | 0.000294877 |\n",
       "| 39 | 0.002015563 | 0.005454913 | 0.000000000 | 0.001926347 | 0.000000000 |\n",
       "| 40 | 0.010755077 | 0.010400000 | 0.000000000 | 0.002804127 | 0.000000000 |\n",
       "| 46 | 0.011338511 | 0.018123618 | 0.000527748 | 0.000000000 | 0.000000000 |\n",
       "| 47 | 0.004311037 | 0.005870000 | 0.000038100 | 0.000900420 | 0.000000000 |\n",
       "| 48 | 0.001433183 | 0.005537921 | 0.000000000 | 0.004315050 | 0.000000000 |\n",
       "| 49 | 0.000830768 | 0.004719166 | 0.000000000 | 0.002219404 | 0.000000000 |\n",
       "| 50 | 0.005090592 | 0.008840000 | 0.000362419 | 0.000000000 | 0.000000000 |\n",
       "| 51 | 0.004949750 | 0.019298844 | 0.000000000 | 0.001644146 | 0.000000000 |\n",
       "| 52 | 0.002716288 | 0.007778546 | 0.000000000 | 0.000811257 | 0.000000000 |\n",
       "| 53 | 0.003492299 | 0.014049647 | 0.000063200 | 0.000000000 | 0.000000000 |\n",
       "| 54 | 0.010592708 | 0.017130988 | 0.000000000 | 0.000639461 | 0.000000000 |\n",
       "| 55 | 0.001216809 | 0.004317490 | 0.000000000 | 0.000766749 | 0.000000000 |\n",
       "\n"
      ],
      "text/plain": [
       "   mass_400    mass_500    mass_600    mass_700    mass_800   \n",
       "16 0.010463229 0.020277467 0.000031200 0.004249540 0.000000000\n",
       "17 0.011081501 0.025045727 0.000048800 0.008411663 0.000000000\n",
       "18 0.003708060 0.014433959 0.000044400 0.000000000 0.000000000\n",
       "19 0.000650048 0.004210000 0.000031600 0.015013471 0.000326066\n",
       "20 0.007332559 0.021689420 0.000000000 0.008542580 0.000000000\n",
       "21 0.001313951 0.002900000 0.000000000 0.000360499 0.000000000\n",
       "22 0.001351687 0.007094888 0.000000000 0.001720036 0.000000000\n",
       "23 0.005236741 0.012265284 0.000076200 0.004143269 0.000000000\n",
       "24 0.003651434 0.005511553 0.000000000 0.000933502 0.000000000\n",
       "25 0.001423112 0.003741692 0.000031700 0.000356207 0.000000000\n",
       "31 0.002130889 0.003407951 0.000000000 0.009411127 0.000032000\n",
       "32 0.003501736 0.005342402 0.000000000 0.002292800 0.000000000\n",
       "33 0.002284882 0.007417578 0.000040400 0.008480000 0.000000000\n",
       "34 0.000998424 0.002437253 0.000000000 0.002812995 0.000000000\n",
       "35 0.003766915 0.011081875 0.000051800 0.000629076 0.000000000\n",
       "36 0.000531601 0.004115328 0.000000000 0.010825591 0.000000000\n",
       "37 0.001041158 0.004750490 0.000000000 0.006247059 0.000020400\n",
       "38 0.001890196 0.006248327 0.000000000 0.017948616 0.000294877\n",
       "39 0.002015563 0.005454913 0.000000000 0.001926347 0.000000000\n",
       "40 0.010755077 0.010400000 0.000000000 0.002804127 0.000000000\n",
       "46 0.011338511 0.018123618 0.000527748 0.000000000 0.000000000\n",
       "47 0.004311037 0.005870000 0.000038100 0.000900420 0.000000000\n",
       "48 0.001433183 0.005537921 0.000000000 0.004315050 0.000000000\n",
       "49 0.000830768 0.004719166 0.000000000 0.002219404 0.000000000\n",
       "50 0.005090592 0.008840000 0.000362419 0.000000000 0.000000000\n",
       "51 0.004949750 0.019298844 0.000000000 0.001644146 0.000000000\n",
       "52 0.002716288 0.007778546 0.000000000 0.000811257 0.000000000\n",
       "53 0.003492299 0.014049647 0.000063200 0.000000000 0.000000000\n",
       "54 0.010592708 0.017130988 0.000000000 0.000639461 0.000000000\n",
       "55 0.001216809 0.004317490 0.000000000 0.000766749 0.000000000"
      ]
     },
     "metadata": {},
     "output_type": "display_data"
    },
    {
     "data": {
      "text/html": [
       "<table>\n",
       "<thead><tr><th></th><th scope=col>filename</th><th scope=col>MouseID</th><th scope=col>Treatmentgroup</th><th scope=col>DPI</th><th scope=col>organ</th><th scope=col>well_position</th><th scope=col>plate</th><th scope=col>mass_400</th><th scope=col>mass_500</th><th scope=col>mass_600</th><th scope=col>mass_700</th><th scope=col>mass_800</th></tr></thead>\n",
       "<tbody>\n",
       "\t<tr><th scope=row>16</th><td>X581_Group3E_142dpi_RA_176_G_B4_P124.mzXML</td><td>581                                       </td><td>infected                                  </td><td>142dpi                                    </td><td>RA                                        </td><td>B4                                        </td><td>P124                                      </td><td>0.010463229                               </td><td>0.02027747                                </td><td>3.12e-05                                  </td><td>0.004249540                               </td><td>0.000000000                               </td></tr>\n",
       "\t<tr><th scope=row>17</th><td>X582_Group3E_142dpi_RA_177_G_B5_P124.mzXML</td><td>582                                       </td><td>infected                                  </td><td>142dpi                                    </td><td>RA                                        </td><td>B5                                        </td><td>P124                                      </td><td>0.011081501                               </td><td>0.02504573                                </td><td>4.88e-05                                  </td><td>0.008411663                               </td><td>0.000000000                               </td></tr>\n",
       "\t<tr><th scope=row>18</th><td>X583_Group3E_142dpi_RA_178_G_B6_P124.mzXML</td><td>583                                       </td><td>infected                                  </td><td>142dpi                                    </td><td>RA                                        </td><td>B6                                        </td><td>P124                                      </td><td>0.003708060                               </td><td>0.01443396                                </td><td>4.44e-05                                  </td><td>0.000000000                               </td><td>0.000000000                               </td></tr>\n",
       "\t<tr><th scope=row>19</th><td>X584_Group3E_142dpi_RA_179_G_B7_P124.mzXML</td><td>584                                       </td><td>infected                                  </td><td>142dpi                                    </td><td>RA                                        </td><td>B7                                        </td><td>P124                                      </td><td>0.000650048                               </td><td>0.00421000                                </td><td>3.16e-05                                  </td><td>0.015013471                               </td><td>0.000326066                               </td></tr>\n",
       "\t<tr><th scope=row>20</th><td>X585_Group3E_142dpi_RA_180_G_B8_P124.mzXML</td><td>585                                       </td><td>infected                                  </td><td>142dpi                                    </td><td>RA                                        </td><td>B8                                        </td><td>P124                                      </td><td>0.007332559                               </td><td>0.02168942                                </td><td>0.00e+00                                  </td><td>0.008542580                               </td><td>0.000000000                               </td></tr>\n",
       "\t<tr><th scope=row>21</th><td>X611_Group9_142dpi_RA_181_G_B9_P124.mzXML </td><td>611                                       </td><td>combo                                     </td><td>142dpi                                    </td><td>RA                                        </td><td>B9                                        </td><td>P124                                      </td><td>0.001313951                               </td><td>0.00290000                                </td><td>0.00e+00                                  </td><td>0.000360499                               </td><td>0.000000000                               </td></tr>\n",
       "</tbody>\n",
       "</table>\n"
      ],
      "text/latex": [
       "\\begin{tabular}{r|llllllllllll}\n",
       "  & filename & MouseID & Treatmentgroup & DPI & organ & well\\_position & plate & mass\\_400 & mass\\_500 & mass\\_600 & mass\\_700 & mass\\_800\\\\\n",
       "\\hline\n",
       "\t16 & X581\\_Group3E\\_142dpi\\_RA\\_176\\_G\\_B4\\_P124.mzXML & 581                                                      & infected                                                 & 142dpi                                                   & RA                                                       & B4                                                       & P124                                                     & 0.010463229                                              & 0.02027747                                               & 3.12e-05                                                 & 0.004249540                                              & 0.000000000                                             \\\\\n",
       "\t17 & X582\\_Group3E\\_142dpi\\_RA\\_177\\_G\\_B5\\_P124.mzXML & 582                                                      & infected                                                 & 142dpi                                                   & RA                                                       & B5                                                       & P124                                                     & 0.011081501                                              & 0.02504573                                               & 4.88e-05                                                 & 0.008411663                                              & 0.000000000                                             \\\\\n",
       "\t18 & X583\\_Group3E\\_142dpi\\_RA\\_178\\_G\\_B6\\_P124.mzXML & 583                                                      & infected                                                 & 142dpi                                                   & RA                                                       & B6                                                       & P124                                                     & 0.003708060                                              & 0.01443396                                               & 4.44e-05                                                 & 0.000000000                                              & 0.000000000                                             \\\\\n",
       "\t19 & X584\\_Group3E\\_142dpi\\_RA\\_179\\_G\\_B7\\_P124.mzXML & 584                                                      & infected                                                 & 142dpi                                                   & RA                                                       & B7                                                       & P124                                                     & 0.000650048                                              & 0.00421000                                               & 3.16e-05                                                 & 0.015013471                                              & 0.000326066                                             \\\\\n",
       "\t20 & X585\\_Group3E\\_142dpi\\_RA\\_180\\_G\\_B8\\_P124.mzXML & 585                                                      & infected                                                 & 142dpi                                                   & RA                                                       & B8                                                       & P124                                                     & 0.007332559                                              & 0.02168942                                               & 0.00e+00                                                 & 0.008542580                                              & 0.000000000                                             \\\\\n",
       "\t21 & X611\\_Group9\\_142dpi\\_RA\\_181\\_G\\_B9\\_P124.mzXML  & 611                                                      & combo                                                    & 142dpi                                                   & RA                                                       & B9                                                       & P124                                                     & 0.001313951                                              & 0.00290000                                               & 0.00e+00                                                 & 0.000360499                                              & 0.000000000                                             \\\\\n",
       "\\end{tabular}\n"
      ],
      "text/markdown": [
       "\n",
       "| <!--/--> | filename | MouseID | Treatmentgroup | DPI | organ | well_position | plate | mass_400 | mass_500 | mass_600 | mass_700 | mass_800 |\n",
       "|---|---|---|---|---|---|---|---|---|---|---|---|---|\n",
       "| 16 | X581_Group3E_142dpi_RA_176_G_B4_P124.mzXML | 581                                        | infected                                   | 142dpi                                     | RA                                         | B4                                         | P124                                       | 0.010463229                                | 0.02027747                                 | 3.12e-05                                   | 0.004249540                                | 0.000000000                                |\n",
       "| 17 | X582_Group3E_142dpi_RA_177_G_B5_P124.mzXML | 582                                        | infected                                   | 142dpi                                     | RA                                         | B5                                         | P124                                       | 0.011081501                                | 0.02504573                                 | 4.88e-05                                   | 0.008411663                                | 0.000000000                                |\n",
       "| 18 | X583_Group3E_142dpi_RA_178_G_B6_P124.mzXML | 583                                        | infected                                   | 142dpi                                     | RA                                         | B6                                         | P124                                       | 0.003708060                                | 0.01443396                                 | 4.44e-05                                   | 0.000000000                                | 0.000000000                                |\n",
       "| 19 | X584_Group3E_142dpi_RA_179_G_B7_P124.mzXML | 584                                        | infected                                   | 142dpi                                     | RA                                         | B7                                         | P124                                       | 0.000650048                                | 0.00421000                                 | 3.16e-05                                   | 0.015013471                                | 0.000326066                                |\n",
       "| 20 | X585_Group3E_142dpi_RA_180_G_B8_P124.mzXML | 585                                        | infected                                   | 142dpi                                     | RA                                         | B8                                         | P124                                       | 0.007332559                                | 0.02168942                                 | 0.00e+00                                   | 0.008542580                                | 0.000000000                                |\n",
       "| 21 | X611_Group9_142dpi_RA_181_G_B9_P124.mzXML  | 611                                        | combo                                      | 142dpi                                     | RA                                         | B9                                         | P124                                       | 0.001313951                                | 0.00290000                                 | 0.00e+00                                   | 0.000360499                                | 0.000000000                                |\n",
       "\n"
      ],
      "text/plain": [
       "   filename                                   MouseID Treatmentgroup DPI   \n",
       "16 X581_Group3E_142dpi_RA_176_G_B4_P124.mzXML 581     infected       142dpi\n",
       "17 X582_Group3E_142dpi_RA_177_G_B5_P124.mzXML 582     infected       142dpi\n",
       "18 X583_Group3E_142dpi_RA_178_G_B6_P124.mzXML 583     infected       142dpi\n",
       "19 X584_Group3E_142dpi_RA_179_G_B7_P124.mzXML 584     infected       142dpi\n",
       "20 X585_Group3E_142dpi_RA_180_G_B8_P124.mzXML 585     infected       142dpi\n",
       "21 X611_Group9_142dpi_RA_181_G_B9_P124.mzXML  611     combo          142dpi\n",
       "   organ well_position plate mass_400    mass_500   mass_600 mass_700   \n",
       "16 RA    B4            P124  0.010463229 0.02027747 3.12e-05 0.004249540\n",
       "17 RA    B5            P124  0.011081501 0.02504573 4.88e-05 0.008411663\n",
       "18 RA    B6            P124  0.003708060 0.01443396 4.44e-05 0.000000000\n",
       "19 RA    B7            P124  0.000650048 0.00421000 3.16e-05 0.015013471\n",
       "20 RA    B8            P124  0.007332559 0.02168942 0.00e+00 0.008542580\n",
       "21 RA    B9            P124  0.001313951 0.00290000 0.00e+00 0.000360499\n",
       "   mass_800   \n",
       "16 0.000000000\n",
       "17 0.000000000\n",
       "18 0.000000000\n",
       "19 0.000326066\n",
       "20 0.000000000\n",
       "21 0.000000000"
      ]
     },
     "metadata": {},
     "output_type": "display_data"
    },
    {
     "data": {
      "text/html": [
       "<ol class=list-inline>\n",
       "\t<li>30</li>\n",
       "\t<li>12</li>\n",
       "</ol>\n"
      ],
      "text/latex": [
       "\\begin{enumerate*}\n",
       "\\item 30\n",
       "\\item 12\n",
       "\\end{enumerate*}\n"
      ],
      "text/markdown": [
       "1. 30\n",
       "2. 12\n",
       "\n",
       "\n"
      ],
      "text/plain": [
       "[1] 30 12"
      ]
     },
     "metadata": {},
     "output_type": "display_data"
    },
    {
     "data": {
      "text/html": [
       "<ol class=list-inline>\n",
       "\t<li>30</li>\n",
       "\t<li>5</li>\n",
       "</ol>\n"
      ],
      "text/latex": [
       "\\begin{enumerate*}\n",
       "\\item 30\n",
       "\\item 5\n",
       "\\end{enumerate*}\n"
      ],
      "text/markdown": [
       "1. 30\n",
       "2. 5\n",
       "\n",
       "\n"
      ],
      "text/plain": [
       "[1] 30  5"
      ]
     },
     "metadata": {},
     "output_type": "display_data"
    },
    {
     "data": {
      "text/html": [
       "<ol class=list-inline>\n",
       "\t<li>30</li>\n",
       "\t<li>5</li>\n",
       "</ol>\n"
      ],
      "text/latex": [
       "\\begin{enumerate*}\n",
       "\\item 30\n",
       "\\item 5\n",
       "\\end{enumerate*}\n"
      ],
      "text/markdown": [
       "1. 30\n",
       "2. 5\n",
       "\n",
       "\n"
      ],
      "text/plain": [
       "[1] 30  5"
      ]
     },
     "metadata": {},
     "output_type": "display_data"
    },
    {
     "data": {
      "text/html": [
       "<ol class=list-inline>\n",
       "\t<li>30</li>\n",
       "\t<li>12</li>\n",
       "</ol>\n"
      ],
      "text/latex": [
       "\\begin{enumerate*}\n",
       "\\item 30\n",
       "\\item 12\n",
       "\\end{enumerate*}\n"
      ],
      "text/markdown": [
       "1. 30\n",
       "2. 12\n",
       "\n",
       "\n"
      ],
      "text/plain": [
       "[1] 30 12"
      ]
     },
     "metadata": {},
     "output_type": "display_data"
    }
   ],
   "source": [
    "noMeta<-features_pos[,8:12]\n",
    "head(noMeta)\n",
    "not_zero<-which(colSums(noMeta) != 0)\n",
    "head(not_zero)\n",
    "nonzero <- noMeta[, not_zero]\n",
    "nonzero\n",
    "nonzero_wMeta<-cbind(features_pos[,1:7], nonzero)\n",
    "head(nonzero_wMeta)\n",
    "dim(features_pos)\n",
    "dim(noMeta)\n",
    "dim(nonzero)\n",
    "dim(nonzero_wMeta)"
   ]
  },
  {
   "cell_type": "code",
   "execution_count": 5,
   "metadata": {
    "scrolled": true
   },
   "outputs": [
    {
     "name": "stderr",
     "output_type": "stream",
     "text": [
      "Warning message in wilcox.test.default(x = c(0, 0, 7.62e-05, 0, 3.17e-05, 0, 0, :\n",
      "\"cannot compute exact p-value with ties\"Warning message in wilcox.test.default(x = c(0.000360499, 0.001720036, 0.004143269, :\n",
      "\"cannot compute exact p-value with ties\"Warning message in wilcox.test.default(x = c(0, 0, 0, 0, 0, 0, 2.04e-05, 0.000294877, :\n",
      "\"cannot compute exact p-value with ties\""
     ]
    },
    {
     "data": {
      "text/html": [
       "<ol class=list-inline>\n",
       "\t<li>0.345310897182987</li>\n",
       "\t<li>0.512486352283095</li>\n",
       "\t<li>0.0491899251281326</li>\n",
       "\t<li>0.442368828504037</li>\n",
       "\t<li>0.972006675490599</li>\n",
       "</ol>\n"
      ],
      "text/latex": [
       "\\begin{enumerate*}\n",
       "\\item 0.345310897182987\n",
       "\\item 0.512486352283095\n",
       "\\item 0.0491899251281326\n",
       "\\item 0.442368828504037\n",
       "\\item 0.972006675490599\n",
       "\\end{enumerate*}\n"
      ],
      "text/markdown": [
       "1. 0.345310897182987\n",
       "2. 0.512486352283095\n",
       "3. 0.0491899251281326\n",
       "4. 0.442368828504037\n",
       "5. 0.972006675490599\n",
       "\n",
       "\n"
      ],
      "text/plain": [
       "[1] 0.34531090 0.51248635 0.04918993 0.44236883 0.97200668"
      ]
     },
     "metadata": {},
     "output_type": "display_data"
    },
    {
     "data": {
      "text/html": [
       "<ol class=list-inline>\n",
       "\t<li>0.640607940353868</li>\n",
       "\t<li>0.640607940353868</li>\n",
       "\t<li>0.245949625640663</li>\n",
       "\t<li>0.640607940353868</li>\n",
       "\t<li>0.972006675490599</li>\n",
       "</ol>\n"
      ],
      "text/latex": [
       "\\begin{enumerate*}\n",
       "\\item 0.640607940353868\n",
       "\\item 0.640607940353868\n",
       "\\item 0.245949625640663\n",
       "\\item 0.640607940353868\n",
       "\\item 0.972006675490599\n",
       "\\end{enumerate*}\n"
      ],
      "text/markdown": [
       "1. 0.640607940353868\n",
       "2. 0.640607940353868\n",
       "3. 0.245949625640663\n",
       "4. 0.640607940353868\n",
       "5. 0.972006675490599\n",
       "\n",
       "\n"
      ],
      "text/plain": [
       "[1] 0.6406079 0.6406079 0.2459496 0.6406079 0.9720067"
      ]
     },
     "metadata": {},
     "output_type": "display_data"
    }
   ],
   "source": [
    "pval<-c()\n",
    "\n",
    "for (i in 8:ncol(nonzero_wMeta)) \n",
    "pval<-c(pval,wilcox.test(nonzero_wMeta[,i]~nonzero_wMeta$Treatmentgroup)$p.value)\n",
    "head(pval)\n",
    "pAdj <- p.adjust(pval, method = c(\"fdr\"), n=length(pval)) \n",
    "head(pAdj) \n",
    "\n"
   ]
  },
  {
   "cell_type": "code",
   "execution_count": 6,
   "metadata": {
    "scrolled": true
   },
   "outputs": [
    {
     "data": {
      "text/html": [
       "5"
      ],
      "text/latex": [
       "5"
      ],
      "text/markdown": [
       "5"
      ],
      "text/plain": [
       "[1] 5"
      ]
     },
     "metadata": {},
     "output_type": "display_data"
    }
   ],
   "source": [
    "length(pval)"
   ]
  },
  {
   "cell_type": "code",
   "execution_count": 7,
   "metadata": {
    "scrolled": true
   },
   "outputs": [
    {
     "data": {
      "text/html": [
       "5"
      ],
      "text/latex": [
       "5"
      ],
      "text/markdown": [
       "5"
      ],
      "text/plain": [
       "[1] 5"
      ]
     },
     "metadata": {},
     "output_type": "display_data"
    }
   ],
   "source": [
    "length(pAdj)"
   ]
  },
  {
   "cell_type": "code",
   "execution_count": 8,
   "metadata": {},
   "outputs": [
    {
     "data": {
      "text/html": [
       "<ol class=list-inline>\n",
       "\t<li>2</li>\n",
       "\t<li>5</li>\n",
       "</ol>\n"
      ],
      "text/latex": [
       "\\begin{enumerate*}\n",
       "\\item 2\n",
       "\\item 5\n",
       "\\end{enumerate*}\n"
      ],
      "text/markdown": [
       "1. 2\n",
       "2. 5\n",
       "\n",
       "\n"
      ],
      "text/plain": [
       "[1] 2 5"
      ]
     },
     "metadata": {},
     "output_type": "display_data"
    },
    {
     "data": {
      "text/html": [
       "<table>\n",
       "<thead><tr><th></th><th scope=col>mass_400</th><th scope=col>mass_500</th><th scope=col>mass_600</th></tr></thead>\n",
       "<tbody>\n",
       "\t<tr><th scope=row>combo</th><td>0.003478558 </td><td>0.008337199 </td><td>1.140667e-05</td></tr>\n",
       "\t<tr><th scope=row>infected</th><td>0.004594822 </td><td>0.010562289 </td><td>7.843113e-05</td></tr>\n",
       "</tbody>\n",
       "</table>\n"
      ],
      "text/latex": [
       "\\begin{tabular}{r|lll}\n",
       "  & mass\\_400 & mass\\_500 & mass\\_600\\\\\n",
       "\\hline\n",
       "\tcombo & 0.003478558  & 0.008337199  & 1.140667e-05\\\\\n",
       "\tinfected & 0.004594822  & 0.010562289  & 7.843113e-05\\\\\n",
       "\\end{tabular}\n"
      ],
      "text/markdown": [
       "\n",
       "| <!--/--> | mass_400 | mass_500 | mass_600 |\n",
       "|---|---|---|---|\n",
       "| combo | 0.003478558  | 0.008337199  | 1.140667e-05 |\n",
       "| infected | 0.004594822  | 0.010562289  | 7.843113e-05 |\n",
       "\n"
      ],
      "text/plain": [
       "         mass_400    mass_500    mass_600    \n",
       "combo    0.003478558 0.008337199 1.140667e-05\n",
       "infected 0.004594822 0.010562289 7.843113e-05"
      ]
     },
     "metadata": {},
     "output_type": "display_data"
    },
    {
     "data": {
      "text/html": [
       "<dl class=dl-horizontal>\n",
       "\t<dt>mass_400</dt>\n",
       "\t\t<dd>0.757060461707522</dd>\n",
       "\t<dt>mass_500</dt>\n",
       "\t\t<dd>0.789336405024373</dd>\n",
       "\t<dt>mass_600</dt>\n",
       "\t\t<dd>0.145435443578103</dd>\n",
       "\t<dt>mass_700</dt>\n",
       "\t\t<dd>0.759932968406403</dd>\n",
       "\t<dt>mass_800</dt>\n",
       "\t\t<dd>0.880499684415722</dd>\n",
       "</dl>\n"
      ],
      "text/latex": [
       "\\begin{description*}\n",
       "\\item[mass\\textbackslash{}\\_400] 0.757060461707522\n",
       "\\item[mass\\textbackslash{}\\_500] 0.789336405024373\n",
       "\\item[mass\\textbackslash{}\\_600] 0.145435443578103\n",
       "\\item[mass\\textbackslash{}\\_700] 0.759932968406403\n",
       "\\item[mass\\textbackslash{}\\_800] 0.880499684415722\n",
       "\\end{description*}\n"
      ],
      "text/markdown": [
       "mass_400\n",
       ":   0.757060461707522mass_500\n",
       ":   0.789336405024373mass_600\n",
       ":   0.145435443578103mass_700\n",
       ":   0.759932968406403mass_800\n",
       ":   0.880499684415722\n",
       "\n"
      ],
      "text/plain": [
       " mass_400  mass_500  mass_600  mass_700  mass_800 \n",
       "0.7570605 0.7893364 0.1454354 0.7599330 0.8804997 "
      ]
     },
     "metadata": {},
     "output_type": "display_data"
    },
    {
     "data": {
      "text/html": [
       "<ol class=list-inline>\n",
       "\t<li>'numeric'</li>\n",
       "\t<li>'vector'</li>\n",
       "</ol>\n"
      ],
      "text/latex": [
       "\\begin{enumerate*}\n",
       "\\item 'numeric'\n",
       "\\item 'vector'\n",
       "\\end{enumerate*}\n"
      ],
      "text/markdown": [
       "1. 'numeric'\n",
       "2. 'vector'\n",
       "\n",
       "\n"
      ],
      "text/plain": [
       "[1] \"numeric\" \"vector\" "
      ]
     },
     "metadata": {},
     "output_type": "display_data"
    }
   ],
   "source": [
    "avg<- apply(nonzero_wMeta[,8:ncol(nonzero_wMeta)], 2, function(x) tapply(x, nonzero_wMeta$Treatmentgroup, function(x) mean(x))) \n",
    "\n",
    "dim(avg)\n",
    "\n",
    "avg[,1:3]\n",
    "\n",
    "fch <- apply(avg, 2, function(x) x[1]/x[2])\n",
    "\n",
    "head(fch)\n",
    "is(fch)"
   ]
  },
  {
   "cell_type": "code",
   "execution_count": 9,
   "metadata": {
    "scrolled": true
   },
   "outputs": [
    {
     "data": {
      "text/html": [
       "<dl class=dl-horizontal>\n",
       "\t<dt>mass_400</dt>\n",
       "\t\t<dd>0.757060461707522</dd>\n",
       "\t<dt>mass_500</dt>\n",
       "\t\t<dd>0.789336405024373</dd>\n",
       "\t<dt>mass_600</dt>\n",
       "\t\t<dd>0.145435443578103</dd>\n",
       "\t<dt>mass_700</dt>\n",
       "\t\t<dd>0.759932968406403</dd>\n",
       "\t<dt>mass_800</dt>\n",
       "\t\t<dd>0.880499684415722</dd>\n",
       "</dl>\n"
      ],
      "text/latex": [
       "\\begin{description*}\n",
       "\\item[mass\\textbackslash{}\\_400] 0.757060461707522\n",
       "\\item[mass\\textbackslash{}\\_500] 0.789336405024373\n",
       "\\item[mass\\textbackslash{}\\_600] 0.145435443578103\n",
       "\\item[mass\\textbackslash{}\\_700] 0.759932968406403\n",
       "\\item[mass\\textbackslash{}\\_800] 0.880499684415722\n",
       "\\end{description*}\n"
      ],
      "text/markdown": [
       "mass_400\n",
       ":   0.757060461707522mass_500\n",
       ":   0.789336405024373mass_600\n",
       ":   0.145435443578103mass_700\n",
       ":   0.759932968406403mass_800\n",
       ":   0.880499684415722\n",
       "\n"
      ],
      "text/plain": [
       " mass_400  mass_500  mass_600  mass_700  mass_800 \n",
       "0.7570605 0.7893364 0.1454354 0.7599330 0.8804997 "
      ]
     },
     "metadata": {},
     "output_type": "display_data"
    }
   ],
   "source": [
    "fch"
   ]
  },
  {
   "cell_type": "code",
   "execution_count": 10,
   "metadata": {
    "scrolled": false
   },
   "outputs": [],
   "source": [
    "df <- data.frame(fch,pval, pAdj)\n",
    "write.csv(df, \"PE-treat-RA-wilcox-infected-combo.csv\")"
   ]
  },
  {
   "cell_type": "code",
   "execution_count": null,
   "metadata": {},
   "outputs": [],
   "source": []
  },
  {
   "cell_type": "code",
   "execution_count": null,
   "metadata": {},
   "outputs": [],
   "source": []
  },
  {
   "cell_type": "code",
   "execution_count": null,
   "metadata": {},
   "outputs": [],
   "source": []
  },
  {
   "cell_type": "code",
   "execution_count": null,
   "metadata": {},
   "outputs": [],
   "source": []
  },
  {
   "cell_type": "code",
   "execution_count": null,
   "metadata": {},
   "outputs": [],
   "source": []
  },
  {
   "cell_type": "code",
   "execution_count": null,
   "metadata": {},
   "outputs": [],
   "source": []
  }
 ],
 "metadata": {
  "kernelspec": {
   "display_name": "R",
   "language": "R",
   "name": "ir"
  },
  "language_info": {
   "codemirror_mode": "r",
   "file_extension": ".r",
   "mimetype": "text/x-r-source",
   "name": "R",
   "pygments_lexer": "r",
   "version": "3.6.1"
  }
 },
 "nbformat": 4,
 "nbformat_minor": 2
}
