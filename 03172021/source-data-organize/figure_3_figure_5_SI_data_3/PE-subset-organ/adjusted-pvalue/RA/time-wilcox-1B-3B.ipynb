{
 "cells": [
  {
   "cell_type": "code",
   "execution_count": 1,
   "metadata": {},
   "outputs": [],
   "source": [
    "a <- read.csv(\"03172021-PE-time-RA-M-F.csv\")"
   ]
  },
  {
   "cell_type": "code",
   "execution_count": 2,
   "metadata": {},
   "outputs": [
    {
     "data": {
      "text/html": [
       "<table>\n",
       "<thead><tr><th scope=col>filename</th><th scope=col>MouseID</th><th scope=col>Treatmentgroup</th><th scope=col>status</th><th scope=col>DPI</th><th scope=col>organ</th><th scope=col>well_position</th><th scope=col>plate</th><th scope=col>mass_400</th><th scope=col>mass_500</th><th scope=col>mass_600</th><th scope=col>mass_700</th><th scope=col>mass_800</th></tr></thead>\n",
       "<tbody>\n",
       "\t<tr><td>X501_Group1A_50dpi_RA_251_B_A1_P125.mzXML</td><td>501                                      </td><td>Group1A                                  </td><td>naive                                    </td><td>50dpi                                    </td><td>RA                                       </td><td>A1                                       </td><td>P125                                     </td><td>0.002276123                              </td><td>0.005112843                              </td><td>2.55e-05                                 </td><td>0.004763915                              </td><td>4.86e-05                                 </td></tr>\n",
       "\t<tr><td>X502_Group1A_50dpi_RA_252_B_A2_P125.mzXML</td><td>502                                      </td><td>Group1A                                  </td><td>naive                                    </td><td>50dpi                                    </td><td>RA                                       </td><td>A2                                       </td><td>P125                                     </td><td>0.011214204                              </td><td>0.007530000                              </td><td>0.00e+00                                 </td><td>0.000060700                              </td><td>0.00e+00                                 </td></tr>\n",
       "\t<tr><td>X503_Group1A_50dpi_RA_253_B_A3_P125.mzXML</td><td>503                                      </td><td>Group1A                                  </td><td>naive                                    </td><td>50dpi                                    </td><td>RA                                       </td><td>A3                                       </td><td>P125                                     </td><td>0.001466114                              </td><td>0.002284202                              </td><td>0.00e+00                                 </td><td>0.002540344                              </td><td>0.00e+00                                 </td></tr>\n",
       "\t<tr><td>X504_Group1A_50dpi_RA_254_B_A4_P125.mzXML</td><td>504                                      </td><td>Group1A                                  </td><td>naive                                    </td><td>50dpi                                    </td><td>RA                                       </td><td>A4                                       </td><td>P125                                     </td><td>0.001911612                              </td><td>0.003449213                              </td><td>0.00e+00                                 </td><td>0.000348250                              </td><td>0.00e+00                                 </td></tr>\n",
       "\t<tr><td>X505_Group1A_50dpi_RA_255_B_A5_P125.mzXML</td><td>505                                      </td><td>Group1A                                  </td><td>naive                                    </td><td>50dpi                                    </td><td>RA                                       </td><td>A5                                       </td><td>P125                                     </td><td>0.001948260                              </td><td>0.002946007                              </td><td>0.00e+00                                 </td><td>0.001875139                              </td><td>0.00e+00                                 </td></tr>\n",
       "\t<tr><td>X521_Group1A_50dpi_RA_256_B_A6_P125.mzXML</td><td>521                                      </td><td>Group1A                                  </td><td>naive                                    </td><td>50dpi                                    </td><td>RA                                       </td><td>A6                                       </td><td>P125                                     </td><td>0.000759709                              </td><td>0.002598417                              </td><td>0.00e+00                                 </td><td>0.000693786                              </td><td>0.00e+00                                 </td></tr>\n",
       "</tbody>\n",
       "</table>\n"
      ],
      "text/latex": [
       "\\begin{tabular}{r|lllllllllllll}\n",
       " filename & MouseID & Treatmentgroup & status & DPI & organ & well\\_position & plate & mass\\_400 & mass\\_500 & mass\\_600 & mass\\_700 & mass\\_800\\\\\n",
       "\\hline\n",
       "\t X501\\_Group1A\\_50dpi\\_RA\\_251\\_B\\_A1\\_P125.mzXML & 501                                                     & Group1A                                                 & naive                                                   & 50dpi                                                   & RA                                                      & A1                                                      & P125                                                    & 0.002276123                                             & 0.005112843                                             & 2.55e-05                                                & 0.004763915                                             & 4.86e-05                                               \\\\\n",
       "\t X502\\_Group1A\\_50dpi\\_RA\\_252\\_B\\_A2\\_P125.mzXML & 502                                                     & Group1A                                                 & naive                                                   & 50dpi                                                   & RA                                                      & A2                                                      & P125                                                    & 0.011214204                                             & 0.007530000                                             & 0.00e+00                                                & 0.000060700                                             & 0.00e+00                                               \\\\\n",
       "\t X503\\_Group1A\\_50dpi\\_RA\\_253\\_B\\_A3\\_P125.mzXML & 503                                                     & Group1A                                                 & naive                                                   & 50dpi                                                   & RA                                                      & A3                                                      & P125                                                    & 0.001466114                                             & 0.002284202                                             & 0.00e+00                                                & 0.002540344                                             & 0.00e+00                                               \\\\\n",
       "\t X504\\_Group1A\\_50dpi\\_RA\\_254\\_B\\_A4\\_P125.mzXML & 504                                                     & Group1A                                                 & naive                                                   & 50dpi                                                   & RA                                                      & A4                                                      & P125                                                    & 0.001911612                                             & 0.003449213                                             & 0.00e+00                                                & 0.000348250                                             & 0.00e+00                                               \\\\\n",
       "\t X505\\_Group1A\\_50dpi\\_RA\\_255\\_B\\_A5\\_P125.mzXML & 505                                                     & Group1A                                                 & naive                                                   & 50dpi                                                   & RA                                                      & A5                                                      & P125                                                    & 0.001948260                                             & 0.002946007                                             & 0.00e+00                                                & 0.001875139                                             & 0.00e+00                                               \\\\\n",
       "\t X521\\_Group1A\\_50dpi\\_RA\\_256\\_B\\_A6\\_P125.mzXML & 521                                                     & Group1A                                                 & naive                                                   & 50dpi                                                   & RA                                                      & A6                                                      & P125                                                    & 0.000759709                                             & 0.002598417                                             & 0.00e+00                                                & 0.000693786                                             & 0.00e+00                                               \\\\\n",
       "\\end{tabular}\n"
      ],
      "text/markdown": [
       "\n",
       "| filename | MouseID | Treatmentgroup | status | DPI | organ | well_position | plate | mass_400 | mass_500 | mass_600 | mass_700 | mass_800 |\n",
       "|---|---|---|---|---|---|---|---|---|---|---|---|---|\n",
       "| X501_Group1A_50dpi_RA_251_B_A1_P125.mzXML | 501                                       | Group1A                                   | naive                                     | 50dpi                                     | RA                                        | A1                                        | P125                                      | 0.002276123                               | 0.005112843                               | 2.55e-05                                  | 0.004763915                               | 4.86e-05                                  |\n",
       "| X502_Group1A_50dpi_RA_252_B_A2_P125.mzXML | 502                                       | Group1A                                   | naive                                     | 50dpi                                     | RA                                        | A2                                        | P125                                      | 0.011214204                               | 0.007530000                               | 0.00e+00                                  | 0.000060700                               | 0.00e+00                                  |\n",
       "| X503_Group1A_50dpi_RA_253_B_A3_P125.mzXML | 503                                       | Group1A                                   | naive                                     | 50dpi                                     | RA                                        | A3                                        | P125                                      | 0.001466114                               | 0.002284202                               | 0.00e+00                                  | 0.002540344                               | 0.00e+00                                  |\n",
       "| X504_Group1A_50dpi_RA_254_B_A4_P125.mzXML | 504                                       | Group1A                                   | naive                                     | 50dpi                                     | RA                                        | A4                                        | P125                                      | 0.001911612                               | 0.003449213                               | 0.00e+00                                  | 0.000348250                               | 0.00e+00                                  |\n",
       "| X505_Group1A_50dpi_RA_255_B_A5_P125.mzXML | 505                                       | Group1A                                   | naive                                     | 50dpi                                     | RA                                        | A5                                        | P125                                      | 0.001948260                               | 0.002946007                               | 0.00e+00                                  | 0.001875139                               | 0.00e+00                                  |\n",
       "| X521_Group1A_50dpi_RA_256_B_A6_P125.mzXML | 521                                       | Group1A                                   | naive                                     | 50dpi                                     | RA                                        | A6                                        | P125                                      | 0.000759709                               | 0.002598417                               | 0.00e+00                                  | 0.000693786                               | 0.00e+00                                  |\n",
       "\n"
      ],
      "text/plain": [
       "  filename                                  MouseID Treatmentgroup status DPI  \n",
       "1 X501_Group1A_50dpi_RA_251_B_A1_P125.mzXML 501     Group1A        naive  50dpi\n",
       "2 X502_Group1A_50dpi_RA_252_B_A2_P125.mzXML 502     Group1A        naive  50dpi\n",
       "3 X503_Group1A_50dpi_RA_253_B_A3_P125.mzXML 503     Group1A        naive  50dpi\n",
       "4 X504_Group1A_50dpi_RA_254_B_A4_P125.mzXML 504     Group1A        naive  50dpi\n",
       "5 X505_Group1A_50dpi_RA_255_B_A5_P125.mzXML 505     Group1A        naive  50dpi\n",
       "6 X521_Group1A_50dpi_RA_256_B_A6_P125.mzXML 521     Group1A        naive  50dpi\n",
       "  organ well_position plate mass_400    mass_500    mass_600 mass_700   \n",
       "1 RA    A1            P125  0.002276123 0.005112843 2.55e-05 0.004763915\n",
       "2 RA    A2            P125  0.011214204 0.007530000 0.00e+00 0.000060700\n",
       "3 RA    A3            P125  0.001466114 0.002284202 0.00e+00 0.002540344\n",
       "4 RA    A4            P125  0.001911612 0.003449213 0.00e+00 0.000348250\n",
       "5 RA    A5            P125  0.001948260 0.002946007 0.00e+00 0.001875139\n",
       "6 RA    A6            P125  0.000759709 0.002598417 0.00e+00 0.000693786\n",
       "  mass_800\n",
       "1 4.86e-05\n",
       "2 0.00e+00\n",
       "3 0.00e+00\n",
       "4 0.00e+00\n",
       "5 0.00e+00\n",
       "6 0.00e+00"
      ]
     },
     "metadata": {},
     "output_type": "display_data"
    },
    {
     "data": {
      "text/html": [
       "<ol class=list-inline>\n",
       "\t<li>90</li>\n",
       "\t<li>13</li>\n",
       "</ol>\n"
      ],
      "text/latex": [
       "\\begin{enumerate*}\n",
       "\\item 90\n",
       "\\item 13\n",
       "\\end{enumerate*}\n"
      ],
      "text/markdown": [
       "1. 90\n",
       "2. 13\n",
       "\n",
       "\n"
      ],
      "text/plain": [
       "[1] 90 13"
      ]
     },
     "metadata": {},
     "output_type": "display_data"
    }
   ],
   "source": [
    "head(a)\n",
    "dim(a)"
   ]
  },
  {
   "cell_type": "code",
   "execution_count": 3,
   "metadata": {},
   "outputs": [
    {
     "data": {
      "text/html": [
       "<table>\n",
       "<thead><tr><th></th><th scope=col>filename</th><th scope=col>MouseID</th><th scope=col>Treatmentgroup</th><th scope=col>status</th><th scope=col>DPI</th><th scope=col>organ</th><th scope=col>well_position</th><th scope=col>plate</th><th scope=col>mass_400</th><th scope=col>mass_500</th><th scope=col>mass_600</th><th scope=col>mass_700</th><th scope=col>mass_800</th></tr></thead>\n",
       "<tbody>\n",
       "\t<tr><th scope=row>16</th><td>X506_Group1B_70dpi_RA_281_B_C7_P125.mzXML </td><td>506                                       </td><td>Group1B                                   </td><td>naive                                     </td><td>70dpi                                     </td><td>RA                                        </td><td>C7                                        </td><td>P125                                      </td><td>0.000583441                               </td><td>0.003228752                               </td><td>0                                         </td><td>0.000044600                               </td><td>0.00e+00                                  </td></tr>\n",
       "\t<tr><th scope=row>17</th><td>X507_Group1B_70dpi_RA_282_B_C8_P125.mzXML </td><td>507                                       </td><td>Group1B                                   </td><td>naive                                     </td><td>70dpi                                     </td><td>RA                                        </td><td>C8                                        </td><td>P125                                      </td><td>0.000430902                               </td><td>0.001274070                               </td><td>0                                         </td><td>0.000533969                               </td><td>0.00e+00                                  </td></tr>\n",
       "\t<tr><th scope=row>18</th><td>X508_Group1B_70dpi_RA_283_B_C9_P125.mzXML </td><td>508                                       </td><td>Group1B                                   </td><td>naive                                     </td><td>70dpi                                     </td><td>RA                                        </td><td>C9                                        </td><td>P125                                      </td><td>0.004846783                               </td><td>0.006010626                               </td><td>0                                         </td><td>0.001799281                               </td><td>2.34e-05                                  </td></tr>\n",
       "\t<tr><th scope=row>19</th><td>X509_Group1B_70dpi_RA_284_B_C10_P125.mzXML</td><td>509                                       </td><td>Group1B                                   </td><td>naive                                     </td><td>70dpi                                     </td><td>RA                                        </td><td>C10                                       </td><td>P125                                      </td><td>0.005841696                               </td><td>0.006497116                               </td><td>0                                         </td><td>0.002290000                               </td><td>0.00e+00                                  </td></tr>\n",
       "\t<tr><th scope=row>20</th><td>X510_Group1B_70dpi_RA_285_B_C11_P125.mzXML</td><td>510                                       </td><td>Group1B                                   </td><td>naive                                     </td><td>70dpi                                     </td><td>RA                                        </td><td>C11                                       </td><td>P125                                      </td><td>0.007016807                               </td><td>0.003090000                               </td><td>0                                         </td><td>0.000000000                               </td><td>0.00e+00                                  </td></tr>\n",
       "\t<tr><th scope=row>21</th><td>X526_Group1B_70dpi_RA_286_B_C12_P125.mzXML</td><td>526                                       </td><td>Group1B                                   </td><td>naive                                     </td><td>70dpi                                     </td><td>RA                                        </td><td>C12                                       </td><td>P125                                      </td><td>0.003759032                               </td><td>0.006938287                               </td><td>0                                         </td><td>0.000000000                               </td><td>0.00e+00                                  </td></tr>\n",
       "</tbody>\n",
       "</table>\n"
      ],
      "text/latex": [
       "\\begin{tabular}{r|lllllllllllll}\n",
       "  & filename & MouseID & Treatmentgroup & status & DPI & organ & well\\_position & plate & mass\\_400 & mass\\_500 & mass\\_600 & mass\\_700 & mass\\_800\\\\\n",
       "\\hline\n",
       "\t16 & X506\\_Group1B\\_70dpi\\_RA\\_281\\_B\\_C7\\_P125.mzXML  & 506                                                      & Group1B                                                  & naive                                                    & 70dpi                                                    & RA                                                       & C7                                                       & P125                                                     & 0.000583441                                              & 0.003228752                                              & 0                                                        & 0.000044600                                              & 0.00e+00                                                \\\\\n",
       "\t17 & X507\\_Group1B\\_70dpi\\_RA\\_282\\_B\\_C8\\_P125.mzXML  & 507                                                      & Group1B                                                  & naive                                                    & 70dpi                                                    & RA                                                       & C8                                                       & P125                                                     & 0.000430902                                              & 0.001274070                                              & 0                                                        & 0.000533969                                              & 0.00e+00                                                \\\\\n",
       "\t18 & X508\\_Group1B\\_70dpi\\_RA\\_283\\_B\\_C9\\_P125.mzXML  & 508                                                      & Group1B                                                  & naive                                                    & 70dpi                                                    & RA                                                       & C9                                                       & P125                                                     & 0.004846783                                              & 0.006010626                                              & 0                                                        & 0.001799281                                              & 2.34e-05                                                \\\\\n",
       "\t19 & X509\\_Group1B\\_70dpi\\_RA\\_284\\_B\\_C10\\_P125.mzXML & 509                                                      & Group1B                                                  & naive                                                    & 70dpi                                                    & RA                                                       & C10                                                      & P125                                                     & 0.005841696                                              & 0.006497116                                              & 0                                                        & 0.002290000                                              & 0.00e+00                                                \\\\\n",
       "\t20 & X510\\_Group1B\\_70dpi\\_RA\\_285\\_B\\_C11\\_P125.mzXML & 510                                                      & Group1B                                                  & naive                                                    & 70dpi                                                    & RA                                                       & C11                                                      & P125                                                     & 0.007016807                                              & 0.003090000                                              & 0                                                        & 0.000000000                                              & 0.00e+00                                                \\\\\n",
       "\t21 & X526\\_Group1B\\_70dpi\\_RA\\_286\\_B\\_C12\\_P125.mzXML & 526                                                      & Group1B                                                  & naive                                                    & 70dpi                                                    & RA                                                       & C12                                                      & P125                                                     & 0.003759032                                              & 0.006938287                                              & 0                                                        & 0.000000000                                              & 0.00e+00                                                \\\\\n",
       "\\end{tabular}\n"
      ],
      "text/markdown": [
       "\n",
       "| <!--/--> | filename | MouseID | Treatmentgroup | status | DPI | organ | well_position | plate | mass_400 | mass_500 | mass_600 | mass_700 | mass_800 |\n",
       "|---|---|---|---|---|---|---|---|---|---|---|---|---|---|\n",
       "| 16 | X506_Group1B_70dpi_RA_281_B_C7_P125.mzXML  | 506                                        | Group1B                                    | naive                                      | 70dpi                                      | RA                                         | C7                                         | P125                                       | 0.000583441                                | 0.003228752                                | 0                                          | 0.000044600                                | 0.00e+00                                   |\n",
       "| 17 | X507_Group1B_70dpi_RA_282_B_C8_P125.mzXML  | 507                                        | Group1B                                    | naive                                      | 70dpi                                      | RA                                         | C8                                         | P125                                       | 0.000430902                                | 0.001274070                                | 0                                          | 0.000533969                                | 0.00e+00                                   |\n",
       "| 18 | X508_Group1B_70dpi_RA_283_B_C9_P125.mzXML  | 508                                        | Group1B                                    | naive                                      | 70dpi                                      | RA                                         | C9                                         | P125                                       | 0.004846783                                | 0.006010626                                | 0                                          | 0.001799281                                | 2.34e-05                                   |\n",
       "| 19 | X509_Group1B_70dpi_RA_284_B_C10_P125.mzXML | 509                                        | Group1B                                    | naive                                      | 70dpi                                      | RA                                         | C10                                        | P125                                       | 0.005841696                                | 0.006497116                                | 0                                          | 0.002290000                                | 0.00e+00                                   |\n",
       "| 20 | X510_Group1B_70dpi_RA_285_B_C11_P125.mzXML | 510                                        | Group1B                                    | naive                                      | 70dpi                                      | RA                                         | C11                                        | P125                                       | 0.007016807                                | 0.003090000                                | 0                                          | 0.000000000                                | 0.00e+00                                   |\n",
       "| 21 | X526_Group1B_70dpi_RA_286_B_C12_P125.mzXML | 526                                        | Group1B                                    | naive                                      | 70dpi                                      | RA                                         | C12                                        | P125                                       | 0.003759032                                | 0.006938287                                | 0                                          | 0.000000000                                | 0.00e+00                                   |\n",
       "\n"
      ],
      "text/plain": [
       "   filename                                   MouseID Treatmentgroup status\n",
       "16 X506_Group1B_70dpi_RA_281_B_C7_P125.mzXML  506     Group1B        naive \n",
       "17 X507_Group1B_70dpi_RA_282_B_C8_P125.mzXML  507     Group1B        naive \n",
       "18 X508_Group1B_70dpi_RA_283_B_C9_P125.mzXML  508     Group1B        naive \n",
       "19 X509_Group1B_70dpi_RA_284_B_C10_P125.mzXML 509     Group1B        naive \n",
       "20 X510_Group1B_70dpi_RA_285_B_C11_P125.mzXML 510     Group1B        naive \n",
       "21 X526_Group1B_70dpi_RA_286_B_C12_P125.mzXML 526     Group1B        naive \n",
       "   DPI   organ well_position plate mass_400    mass_500    mass_600 mass_700   \n",
       "16 70dpi RA    C7            P125  0.000583441 0.003228752 0        0.000044600\n",
       "17 70dpi RA    C8            P125  0.000430902 0.001274070 0        0.000533969\n",
       "18 70dpi RA    C9            P125  0.004846783 0.006010626 0        0.001799281\n",
       "19 70dpi RA    C10           P125  0.005841696 0.006497116 0        0.002290000\n",
       "20 70dpi RA    C11           P125  0.007016807 0.003090000 0        0.000000000\n",
       "21 70dpi RA    C12           P125  0.003759032 0.006938287 0        0.000000000\n",
       "   mass_800\n",
       "16 0.00e+00\n",
       "17 0.00e+00\n",
       "18 2.34e-05\n",
       "19 0.00e+00\n",
       "20 0.00e+00\n",
       "21 0.00e+00"
      ]
     },
     "metadata": {},
     "output_type": "display_data"
    },
    {
     "data": {
      "text/html": [
       "<ol class=list-inline>\n",
       "\t<li>30</li>\n",
       "\t<li>13</li>\n",
       "</ol>\n"
      ],
      "text/latex": [
       "\\begin{enumerate*}\n",
       "\\item 30\n",
       "\\item 13\n",
       "\\end{enumerate*}\n"
      ],
      "text/markdown": [
       "1. 30\n",
       "2. 13\n",
       "\n",
       "\n"
      ],
      "text/plain": [
       "[1] 30 13"
      ]
     },
     "metadata": {},
     "output_type": "display_data"
    }
   ],
   "source": [
    "features_pos<-droplevels(subset(a, a$Treatmentgroup==c(\"Group1B\")|a$Treatmentgroup==c(\"Group3B\")))\n",
    "head(features_pos)\n",
    "dim(features_pos)"
   ]
  },
  {
   "cell_type": "code",
   "execution_count": 4,
   "metadata": {
    "scrolled": false
   },
   "outputs": [
    {
     "data": {
      "text/html": [
       "<table>\n",
       "<thead><tr><th></th><th scope=col>mass_400</th><th scope=col>mass_500</th><th scope=col>mass_600</th><th scope=col>mass_700</th><th scope=col>mass_800</th></tr></thead>\n",
       "<tbody>\n",
       "\t<tr><th scope=row>16</th><td>0.000583441</td><td>0.003228752</td><td>0          </td><td>0.000044600</td><td>0.00e+00   </td></tr>\n",
       "\t<tr><th scope=row>17</th><td>0.000430902</td><td>0.001274070</td><td>0          </td><td>0.000533969</td><td>0.00e+00   </td></tr>\n",
       "\t<tr><th scope=row>18</th><td>0.004846783</td><td>0.006010626</td><td>0          </td><td>0.001799281</td><td>2.34e-05   </td></tr>\n",
       "\t<tr><th scope=row>19</th><td>0.005841696</td><td>0.006497116</td><td>0          </td><td>0.002290000</td><td>0.00e+00   </td></tr>\n",
       "\t<tr><th scope=row>20</th><td>0.007016807</td><td>0.003090000</td><td>0          </td><td>0.000000000</td><td>0.00e+00   </td></tr>\n",
       "\t<tr><th scope=row>21</th><td>0.003759032</td><td>0.006938287</td><td>0          </td><td>0.000000000</td><td>0.00e+00   </td></tr>\n",
       "</tbody>\n",
       "</table>\n"
      ],
      "text/latex": [
       "\\begin{tabular}{r|lllll}\n",
       "  & mass\\_400 & mass\\_500 & mass\\_600 & mass\\_700 & mass\\_800\\\\\n",
       "\\hline\n",
       "\t16 & 0.000583441 & 0.003228752 & 0           & 0.000044600 & 0.00e+00   \\\\\n",
       "\t17 & 0.000430902 & 0.001274070 & 0           & 0.000533969 & 0.00e+00   \\\\\n",
       "\t18 & 0.004846783 & 0.006010626 & 0           & 0.001799281 & 2.34e-05   \\\\\n",
       "\t19 & 0.005841696 & 0.006497116 & 0           & 0.002290000 & 0.00e+00   \\\\\n",
       "\t20 & 0.007016807 & 0.003090000 & 0           & 0.000000000 & 0.00e+00   \\\\\n",
       "\t21 & 0.003759032 & 0.006938287 & 0           & 0.000000000 & 0.00e+00   \\\\\n",
       "\\end{tabular}\n"
      ],
      "text/markdown": [
       "\n",
       "| <!--/--> | mass_400 | mass_500 | mass_600 | mass_700 | mass_800 |\n",
       "|---|---|---|---|---|---|\n",
       "| 16 | 0.000583441 | 0.003228752 | 0           | 0.000044600 | 0.00e+00    |\n",
       "| 17 | 0.000430902 | 0.001274070 | 0           | 0.000533969 | 0.00e+00    |\n",
       "| 18 | 0.004846783 | 0.006010626 | 0           | 0.001799281 | 2.34e-05    |\n",
       "| 19 | 0.005841696 | 0.006497116 | 0           | 0.002290000 | 0.00e+00    |\n",
       "| 20 | 0.007016807 | 0.003090000 | 0           | 0.000000000 | 0.00e+00    |\n",
       "| 21 | 0.003759032 | 0.006938287 | 0           | 0.000000000 | 0.00e+00    |\n",
       "\n"
      ],
      "text/plain": [
       "   mass_400    mass_500    mass_600 mass_700    mass_800\n",
       "16 0.000583441 0.003228752 0        0.000044600 0.00e+00\n",
       "17 0.000430902 0.001274070 0        0.000533969 0.00e+00\n",
       "18 0.004846783 0.006010626 0        0.001799281 2.34e-05\n",
       "19 0.005841696 0.006497116 0        0.002290000 0.00e+00\n",
       "20 0.007016807 0.003090000 0        0.000000000 0.00e+00\n",
       "21 0.003759032 0.006938287 0        0.000000000 0.00e+00"
      ]
     },
     "metadata": {},
     "output_type": "display_data"
    },
    {
     "data": {
      "text/html": [
       "<dl class=dl-horizontal>\n",
       "\t<dt>mass_400</dt>\n",
       "\t\t<dd>1</dd>\n",
       "\t<dt>mass_500</dt>\n",
       "\t\t<dd>2</dd>\n",
       "\t<dt>mass_600</dt>\n",
       "\t\t<dd>3</dd>\n",
       "\t<dt>mass_700</dt>\n",
       "\t\t<dd>4</dd>\n",
       "\t<dt>mass_800</dt>\n",
       "\t\t<dd>5</dd>\n",
       "</dl>\n"
      ],
      "text/latex": [
       "\\begin{description*}\n",
       "\\item[mass\\textbackslash{}\\_400] 1\n",
       "\\item[mass\\textbackslash{}\\_500] 2\n",
       "\\item[mass\\textbackslash{}\\_600] 3\n",
       "\\item[mass\\textbackslash{}\\_700] 4\n",
       "\\item[mass\\textbackslash{}\\_800] 5\n",
       "\\end{description*}\n"
      ],
      "text/markdown": [
       "mass_400\n",
       ":   1mass_500\n",
       ":   2mass_600\n",
       ":   3mass_700\n",
       ":   4mass_800\n",
       ":   5\n",
       "\n"
      ],
      "text/plain": [
       "mass_400 mass_500 mass_600 mass_700 mass_800 \n",
       "       1        2        3        4        5 "
      ]
     },
     "metadata": {},
     "output_type": "display_data"
    },
    {
     "data": {
      "text/html": [
       "<table>\n",
       "<thead><tr><th></th><th scope=col>mass_400</th><th scope=col>mass_500</th><th scope=col>mass_600</th><th scope=col>mass_700</th><th scope=col>mass_800</th></tr></thead>\n",
       "<tbody>\n",
       "\t<tr><th scope=row>16</th><td>0.000583441</td><td>0.003228752</td><td>0.000000000</td><td>0.000044600</td><td>0.000000000</td></tr>\n",
       "\t<tr><th scope=row>17</th><td>0.000430902</td><td>0.001274070</td><td>0.000000000</td><td>0.000533969</td><td>0.000000000</td></tr>\n",
       "\t<tr><th scope=row>18</th><td>0.004846783</td><td>0.006010626</td><td>0.000000000</td><td>0.001799281</td><td>0.000023400</td></tr>\n",
       "\t<tr><th scope=row>19</th><td>0.005841696</td><td>0.006497116</td><td>0.000000000</td><td>0.002290000</td><td>0.000000000</td></tr>\n",
       "\t<tr><th scope=row>20</th><td>0.007016807</td><td>0.003090000</td><td>0.000000000</td><td>0.000000000</td><td>0.000000000</td></tr>\n",
       "\t<tr><th scope=row>21</th><td>0.003759032</td><td>0.006938287</td><td>0.000000000</td><td>0.000000000</td><td>0.000000000</td></tr>\n",
       "\t<tr><th scope=row>22</th><td>0.001259187</td><td>0.001938547</td><td>0.000000000</td><td>0.001138903</td><td>0.000000000</td></tr>\n",
       "\t<tr><th scope=row>23</th><td>0.005140563</td><td>0.008516537</td><td>0.000000000</td><td>0.000000000</td><td>0.000000000</td></tr>\n",
       "\t<tr><th scope=row>24</th><td>0.001634800</td><td>0.004120000</td><td>0.000000000</td><td>0.005520000</td><td>0.000000000</td></tr>\n",
       "\t<tr><th scope=row>25</th><td>0.000792616</td><td>0.005057070</td><td>0.000000000</td><td>0.000000000</td><td>0.000000000</td></tr>\n",
       "\t<tr><th scope=row>26</th><td>0.000479444</td><td>0.001652123</td><td>0.000000000</td><td>0.001257810</td><td>0.000000000</td></tr>\n",
       "\t<tr><th scope=row>27</th><td>0.005764559</td><td>0.004968538</td><td>0.000000000</td><td>0.000000000</td><td>0.000000000</td></tr>\n",
       "\t<tr><th scope=row>28</th><td>0.002372640</td><td>0.004829881</td><td>0.000000000</td><td>0.000174903</td><td>0.000000000</td></tr>\n",
       "\t<tr><th scope=row>29</th><td>0.004260605</td><td>0.006697132</td><td>0.000000000</td><td>0.000000000</td><td>0.000000000</td></tr>\n",
       "\t<tr><th scope=row>30</th><td>0.003945331</td><td>0.006688821</td><td>0.000000000</td><td>0.000000000</td><td>0.000000000</td></tr>\n",
       "\t<tr><th scope=row>61</th><td>0.001060358</td><td>0.003308686</td><td>0.000000000</td><td>0.001103053</td><td>0.000000000</td></tr>\n",
       "\t<tr><th scope=row>62</th><td>0.005003473</td><td>0.009575894</td><td>0.000000000</td><td>0.000000000</td><td>0.000000000</td></tr>\n",
       "\t<tr><th scope=row>63</th><td>0.000844260</td><td>0.003645286</td><td>0.000000000</td><td>0.000257413</td><td>0.000000000</td></tr>\n",
       "\t<tr><th scope=row>64</th><td>0.010052080</td><td>0.009761710</td><td>0.000000000</td><td>0.000000000</td><td>0.000000000</td></tr>\n",
       "\t<tr><th scope=row>65</th><td>0.003630729</td><td>0.005163071</td><td>0.000000000</td><td>0.004214737</td><td>0.000000000</td></tr>\n",
       "\t<tr><th scope=row>66</th><td>0.005566987</td><td>0.005220000</td><td>0.000330583</td><td>0.003883003</td><td>0.000025500</td></tr>\n",
       "\t<tr><th scope=row>67</th><td>0.001765973</td><td>0.002465739</td><td>0.000000000</td><td>0.004609635</td><td>0.000000000</td></tr>\n",
       "\t<tr><th scope=row>68</th><td>0.001771402</td><td>0.006250000</td><td>0.000407861</td><td>0.005593737</td><td>0.000000000</td></tr>\n",
       "\t<tr><th scope=row>69</th><td>0.001896754</td><td>0.005770000</td><td>0.000082800</td><td>0.004584947</td><td>0.000000000</td></tr>\n",
       "\t<tr><th scope=row>70</th><td>0.008535240</td><td>0.022428467</td><td>0.000136489</td><td>0.002601847</td><td>0.000000000</td></tr>\n",
       "\t<tr><th scope=row>71</th><td>0.014472332</td><td>0.014426331</td><td>0.000000000</td><td>0.002153875</td><td>0.000000000</td></tr>\n",
       "\t<tr><th scope=row>72</th><td>0.004101229</td><td>0.009830000</td><td>0.000055900</td><td>0.003026524</td><td>0.000000000</td></tr>\n",
       "\t<tr><th scope=row>73</th><td>0.002765171</td><td>0.008760825</td><td>0.000177710</td><td>0.013646923</td><td>0.000227154</td></tr>\n",
       "\t<tr><th scope=row>74</th><td>0.008763008</td><td>0.024877715</td><td>0.000561817</td><td>0.006599960</td><td>0.000000000</td></tr>\n",
       "\t<tr><th scope=row>75</th><td>0.010439662</td><td>0.012300000</td><td>0.000072300</td><td>0.012806423</td><td>0.000000000</td></tr>\n",
       "</tbody>\n",
       "</table>\n"
      ],
      "text/latex": [
       "\\begin{tabular}{r|lllll}\n",
       "  & mass\\_400 & mass\\_500 & mass\\_600 & mass\\_700 & mass\\_800\\\\\n",
       "\\hline\n",
       "\t16 & 0.000583441 & 0.003228752 & 0.000000000 & 0.000044600 & 0.000000000\\\\\n",
       "\t17 & 0.000430902 & 0.001274070 & 0.000000000 & 0.000533969 & 0.000000000\\\\\n",
       "\t18 & 0.004846783 & 0.006010626 & 0.000000000 & 0.001799281 & 0.000023400\\\\\n",
       "\t19 & 0.005841696 & 0.006497116 & 0.000000000 & 0.002290000 & 0.000000000\\\\\n",
       "\t20 & 0.007016807 & 0.003090000 & 0.000000000 & 0.000000000 & 0.000000000\\\\\n",
       "\t21 & 0.003759032 & 0.006938287 & 0.000000000 & 0.000000000 & 0.000000000\\\\\n",
       "\t22 & 0.001259187 & 0.001938547 & 0.000000000 & 0.001138903 & 0.000000000\\\\\n",
       "\t23 & 0.005140563 & 0.008516537 & 0.000000000 & 0.000000000 & 0.000000000\\\\\n",
       "\t24 & 0.001634800 & 0.004120000 & 0.000000000 & 0.005520000 & 0.000000000\\\\\n",
       "\t25 & 0.000792616 & 0.005057070 & 0.000000000 & 0.000000000 & 0.000000000\\\\\n",
       "\t26 & 0.000479444 & 0.001652123 & 0.000000000 & 0.001257810 & 0.000000000\\\\\n",
       "\t27 & 0.005764559 & 0.004968538 & 0.000000000 & 0.000000000 & 0.000000000\\\\\n",
       "\t28 & 0.002372640 & 0.004829881 & 0.000000000 & 0.000174903 & 0.000000000\\\\\n",
       "\t29 & 0.004260605 & 0.006697132 & 0.000000000 & 0.000000000 & 0.000000000\\\\\n",
       "\t30 & 0.003945331 & 0.006688821 & 0.000000000 & 0.000000000 & 0.000000000\\\\\n",
       "\t61 & 0.001060358 & 0.003308686 & 0.000000000 & 0.001103053 & 0.000000000\\\\\n",
       "\t62 & 0.005003473 & 0.009575894 & 0.000000000 & 0.000000000 & 0.000000000\\\\\n",
       "\t63 & 0.000844260 & 0.003645286 & 0.000000000 & 0.000257413 & 0.000000000\\\\\n",
       "\t64 & 0.010052080 & 0.009761710 & 0.000000000 & 0.000000000 & 0.000000000\\\\\n",
       "\t65 & 0.003630729 & 0.005163071 & 0.000000000 & 0.004214737 & 0.000000000\\\\\n",
       "\t66 & 0.005566987 & 0.005220000 & 0.000330583 & 0.003883003 & 0.000025500\\\\\n",
       "\t67 & 0.001765973 & 0.002465739 & 0.000000000 & 0.004609635 & 0.000000000\\\\\n",
       "\t68 & 0.001771402 & 0.006250000 & 0.000407861 & 0.005593737 & 0.000000000\\\\\n",
       "\t69 & 0.001896754 & 0.005770000 & 0.000082800 & 0.004584947 & 0.000000000\\\\\n",
       "\t70 & 0.008535240 & 0.022428467 & 0.000136489 & 0.002601847 & 0.000000000\\\\\n",
       "\t71 & 0.014472332 & 0.014426331 & 0.000000000 & 0.002153875 & 0.000000000\\\\\n",
       "\t72 & 0.004101229 & 0.009830000 & 0.000055900 & 0.003026524 & 0.000000000\\\\\n",
       "\t73 & 0.002765171 & 0.008760825 & 0.000177710 & 0.013646923 & 0.000227154\\\\\n",
       "\t74 & 0.008763008 & 0.024877715 & 0.000561817 & 0.006599960 & 0.000000000\\\\\n",
       "\t75 & 0.010439662 & 0.012300000 & 0.000072300 & 0.012806423 & 0.000000000\\\\\n",
       "\\end{tabular}\n"
      ],
      "text/markdown": [
       "\n",
       "| <!--/--> | mass_400 | mass_500 | mass_600 | mass_700 | mass_800 |\n",
       "|---|---|---|---|---|---|\n",
       "| 16 | 0.000583441 | 0.003228752 | 0.000000000 | 0.000044600 | 0.000000000 |\n",
       "| 17 | 0.000430902 | 0.001274070 | 0.000000000 | 0.000533969 | 0.000000000 |\n",
       "| 18 | 0.004846783 | 0.006010626 | 0.000000000 | 0.001799281 | 0.000023400 |\n",
       "| 19 | 0.005841696 | 0.006497116 | 0.000000000 | 0.002290000 | 0.000000000 |\n",
       "| 20 | 0.007016807 | 0.003090000 | 0.000000000 | 0.000000000 | 0.000000000 |\n",
       "| 21 | 0.003759032 | 0.006938287 | 0.000000000 | 0.000000000 | 0.000000000 |\n",
       "| 22 | 0.001259187 | 0.001938547 | 0.000000000 | 0.001138903 | 0.000000000 |\n",
       "| 23 | 0.005140563 | 0.008516537 | 0.000000000 | 0.000000000 | 0.000000000 |\n",
       "| 24 | 0.001634800 | 0.004120000 | 0.000000000 | 0.005520000 | 0.000000000 |\n",
       "| 25 | 0.000792616 | 0.005057070 | 0.000000000 | 0.000000000 | 0.000000000 |\n",
       "| 26 | 0.000479444 | 0.001652123 | 0.000000000 | 0.001257810 | 0.000000000 |\n",
       "| 27 | 0.005764559 | 0.004968538 | 0.000000000 | 0.000000000 | 0.000000000 |\n",
       "| 28 | 0.002372640 | 0.004829881 | 0.000000000 | 0.000174903 | 0.000000000 |\n",
       "| 29 | 0.004260605 | 0.006697132 | 0.000000000 | 0.000000000 | 0.000000000 |\n",
       "| 30 | 0.003945331 | 0.006688821 | 0.000000000 | 0.000000000 | 0.000000000 |\n",
       "| 61 | 0.001060358 | 0.003308686 | 0.000000000 | 0.001103053 | 0.000000000 |\n",
       "| 62 | 0.005003473 | 0.009575894 | 0.000000000 | 0.000000000 | 0.000000000 |\n",
       "| 63 | 0.000844260 | 0.003645286 | 0.000000000 | 0.000257413 | 0.000000000 |\n",
       "| 64 | 0.010052080 | 0.009761710 | 0.000000000 | 0.000000000 | 0.000000000 |\n",
       "| 65 | 0.003630729 | 0.005163071 | 0.000000000 | 0.004214737 | 0.000000000 |\n",
       "| 66 | 0.005566987 | 0.005220000 | 0.000330583 | 0.003883003 | 0.000025500 |\n",
       "| 67 | 0.001765973 | 0.002465739 | 0.000000000 | 0.004609635 | 0.000000000 |\n",
       "| 68 | 0.001771402 | 0.006250000 | 0.000407861 | 0.005593737 | 0.000000000 |\n",
       "| 69 | 0.001896754 | 0.005770000 | 0.000082800 | 0.004584947 | 0.000000000 |\n",
       "| 70 | 0.008535240 | 0.022428467 | 0.000136489 | 0.002601847 | 0.000000000 |\n",
       "| 71 | 0.014472332 | 0.014426331 | 0.000000000 | 0.002153875 | 0.000000000 |\n",
       "| 72 | 0.004101229 | 0.009830000 | 0.000055900 | 0.003026524 | 0.000000000 |\n",
       "| 73 | 0.002765171 | 0.008760825 | 0.000177710 | 0.013646923 | 0.000227154 |\n",
       "| 74 | 0.008763008 | 0.024877715 | 0.000561817 | 0.006599960 | 0.000000000 |\n",
       "| 75 | 0.010439662 | 0.012300000 | 0.000072300 | 0.012806423 | 0.000000000 |\n",
       "\n"
      ],
      "text/plain": [
       "   mass_400    mass_500    mass_600    mass_700    mass_800   \n",
       "16 0.000583441 0.003228752 0.000000000 0.000044600 0.000000000\n",
       "17 0.000430902 0.001274070 0.000000000 0.000533969 0.000000000\n",
       "18 0.004846783 0.006010626 0.000000000 0.001799281 0.000023400\n",
       "19 0.005841696 0.006497116 0.000000000 0.002290000 0.000000000\n",
       "20 0.007016807 0.003090000 0.000000000 0.000000000 0.000000000\n",
       "21 0.003759032 0.006938287 0.000000000 0.000000000 0.000000000\n",
       "22 0.001259187 0.001938547 0.000000000 0.001138903 0.000000000\n",
       "23 0.005140563 0.008516537 0.000000000 0.000000000 0.000000000\n",
       "24 0.001634800 0.004120000 0.000000000 0.005520000 0.000000000\n",
       "25 0.000792616 0.005057070 0.000000000 0.000000000 0.000000000\n",
       "26 0.000479444 0.001652123 0.000000000 0.001257810 0.000000000\n",
       "27 0.005764559 0.004968538 0.000000000 0.000000000 0.000000000\n",
       "28 0.002372640 0.004829881 0.000000000 0.000174903 0.000000000\n",
       "29 0.004260605 0.006697132 0.000000000 0.000000000 0.000000000\n",
       "30 0.003945331 0.006688821 0.000000000 0.000000000 0.000000000\n",
       "61 0.001060358 0.003308686 0.000000000 0.001103053 0.000000000\n",
       "62 0.005003473 0.009575894 0.000000000 0.000000000 0.000000000\n",
       "63 0.000844260 0.003645286 0.000000000 0.000257413 0.000000000\n",
       "64 0.010052080 0.009761710 0.000000000 0.000000000 0.000000000\n",
       "65 0.003630729 0.005163071 0.000000000 0.004214737 0.000000000\n",
       "66 0.005566987 0.005220000 0.000330583 0.003883003 0.000025500\n",
       "67 0.001765973 0.002465739 0.000000000 0.004609635 0.000000000\n",
       "68 0.001771402 0.006250000 0.000407861 0.005593737 0.000000000\n",
       "69 0.001896754 0.005770000 0.000082800 0.004584947 0.000000000\n",
       "70 0.008535240 0.022428467 0.000136489 0.002601847 0.000000000\n",
       "71 0.014472332 0.014426331 0.000000000 0.002153875 0.000000000\n",
       "72 0.004101229 0.009830000 0.000055900 0.003026524 0.000000000\n",
       "73 0.002765171 0.008760825 0.000177710 0.013646923 0.000227154\n",
       "74 0.008763008 0.024877715 0.000561817 0.006599960 0.000000000\n",
       "75 0.010439662 0.012300000 0.000072300 0.012806423 0.000000000"
      ]
     },
     "metadata": {},
     "output_type": "display_data"
    },
    {
     "data": {
      "text/html": [
       "<table>\n",
       "<thead><tr><th></th><th scope=col>filename</th><th scope=col>MouseID</th><th scope=col>Treatmentgroup</th><th scope=col>status</th><th scope=col>DPI</th><th scope=col>organ</th><th scope=col>well_position</th><th scope=col>plate</th><th scope=col>mass_400</th><th scope=col>mass_500</th><th scope=col>mass_600</th><th scope=col>mass_700</th><th scope=col>mass_800</th></tr></thead>\n",
       "<tbody>\n",
       "\t<tr><th scope=row>16</th><td>X506_Group1B_70dpi_RA_281_B_C7_P125.mzXML </td><td>506                                       </td><td>Group1B                                   </td><td>naive                                     </td><td>70dpi                                     </td><td>RA                                        </td><td>C7                                        </td><td>P125                                      </td><td>0.000583441                               </td><td>0.003228752                               </td><td>0                                         </td><td>0.000044600                               </td><td>0.00e+00                                  </td></tr>\n",
       "\t<tr><th scope=row>17</th><td>X507_Group1B_70dpi_RA_282_B_C8_P125.mzXML </td><td>507                                       </td><td>Group1B                                   </td><td>naive                                     </td><td>70dpi                                     </td><td>RA                                        </td><td>C8                                        </td><td>P125                                      </td><td>0.000430902                               </td><td>0.001274070                               </td><td>0                                         </td><td>0.000533969                               </td><td>0.00e+00                                  </td></tr>\n",
       "\t<tr><th scope=row>18</th><td>X508_Group1B_70dpi_RA_283_B_C9_P125.mzXML </td><td>508                                       </td><td>Group1B                                   </td><td>naive                                     </td><td>70dpi                                     </td><td>RA                                        </td><td>C9                                        </td><td>P125                                      </td><td>0.004846783                               </td><td>0.006010626                               </td><td>0                                         </td><td>0.001799281                               </td><td>2.34e-05                                  </td></tr>\n",
       "\t<tr><th scope=row>19</th><td>X509_Group1B_70dpi_RA_284_B_C10_P125.mzXML</td><td>509                                       </td><td>Group1B                                   </td><td>naive                                     </td><td>70dpi                                     </td><td>RA                                        </td><td>C10                                       </td><td>P125                                      </td><td>0.005841696                               </td><td>0.006497116                               </td><td>0                                         </td><td>0.002290000                               </td><td>0.00e+00                                  </td></tr>\n",
       "\t<tr><th scope=row>20</th><td>X510_Group1B_70dpi_RA_285_B_C11_P125.mzXML</td><td>510                                       </td><td>Group1B                                   </td><td>naive                                     </td><td>70dpi                                     </td><td>RA                                        </td><td>C11                                       </td><td>P125                                      </td><td>0.007016807                               </td><td>0.003090000                               </td><td>0                                         </td><td>0.000000000                               </td><td>0.00e+00                                  </td></tr>\n",
       "\t<tr><th scope=row>21</th><td>X526_Group1B_70dpi_RA_286_B_C12_P125.mzXML</td><td>526                                       </td><td>Group1B                                   </td><td>naive                                     </td><td>70dpi                                     </td><td>RA                                        </td><td>C12                                       </td><td>P125                                      </td><td>0.003759032                               </td><td>0.006938287                               </td><td>0                                         </td><td>0.000000000                               </td><td>0.00e+00                                  </td></tr>\n",
       "</tbody>\n",
       "</table>\n"
      ],
      "text/latex": [
       "\\begin{tabular}{r|lllllllllllll}\n",
       "  & filename & MouseID & Treatmentgroup & status & DPI & organ & well\\_position & plate & mass\\_400 & mass\\_500 & mass\\_600 & mass\\_700 & mass\\_800\\\\\n",
       "\\hline\n",
       "\t16 & X506\\_Group1B\\_70dpi\\_RA\\_281\\_B\\_C7\\_P125.mzXML  & 506                                                      & Group1B                                                  & naive                                                    & 70dpi                                                    & RA                                                       & C7                                                       & P125                                                     & 0.000583441                                              & 0.003228752                                              & 0                                                        & 0.000044600                                              & 0.00e+00                                                \\\\\n",
       "\t17 & X507\\_Group1B\\_70dpi\\_RA\\_282\\_B\\_C8\\_P125.mzXML  & 507                                                      & Group1B                                                  & naive                                                    & 70dpi                                                    & RA                                                       & C8                                                       & P125                                                     & 0.000430902                                              & 0.001274070                                              & 0                                                        & 0.000533969                                              & 0.00e+00                                                \\\\\n",
       "\t18 & X508\\_Group1B\\_70dpi\\_RA\\_283\\_B\\_C9\\_P125.mzXML  & 508                                                      & Group1B                                                  & naive                                                    & 70dpi                                                    & RA                                                       & C9                                                       & P125                                                     & 0.004846783                                              & 0.006010626                                              & 0                                                        & 0.001799281                                              & 2.34e-05                                                \\\\\n",
       "\t19 & X509\\_Group1B\\_70dpi\\_RA\\_284\\_B\\_C10\\_P125.mzXML & 509                                                      & Group1B                                                  & naive                                                    & 70dpi                                                    & RA                                                       & C10                                                      & P125                                                     & 0.005841696                                              & 0.006497116                                              & 0                                                        & 0.002290000                                              & 0.00e+00                                                \\\\\n",
       "\t20 & X510\\_Group1B\\_70dpi\\_RA\\_285\\_B\\_C11\\_P125.mzXML & 510                                                      & Group1B                                                  & naive                                                    & 70dpi                                                    & RA                                                       & C11                                                      & P125                                                     & 0.007016807                                              & 0.003090000                                              & 0                                                        & 0.000000000                                              & 0.00e+00                                                \\\\\n",
       "\t21 & X526\\_Group1B\\_70dpi\\_RA\\_286\\_B\\_C12\\_P125.mzXML & 526                                                      & Group1B                                                  & naive                                                    & 70dpi                                                    & RA                                                       & C12                                                      & P125                                                     & 0.003759032                                              & 0.006938287                                              & 0                                                        & 0.000000000                                              & 0.00e+00                                                \\\\\n",
       "\\end{tabular}\n"
      ],
      "text/markdown": [
       "\n",
       "| <!--/--> | filename | MouseID | Treatmentgroup | status | DPI | organ | well_position | plate | mass_400 | mass_500 | mass_600 | mass_700 | mass_800 |\n",
       "|---|---|---|---|---|---|---|---|---|---|---|---|---|---|\n",
       "| 16 | X506_Group1B_70dpi_RA_281_B_C7_P125.mzXML  | 506                                        | Group1B                                    | naive                                      | 70dpi                                      | RA                                         | C7                                         | P125                                       | 0.000583441                                | 0.003228752                                | 0                                          | 0.000044600                                | 0.00e+00                                   |\n",
       "| 17 | X507_Group1B_70dpi_RA_282_B_C8_P125.mzXML  | 507                                        | Group1B                                    | naive                                      | 70dpi                                      | RA                                         | C8                                         | P125                                       | 0.000430902                                | 0.001274070                                | 0                                          | 0.000533969                                | 0.00e+00                                   |\n",
       "| 18 | X508_Group1B_70dpi_RA_283_B_C9_P125.mzXML  | 508                                        | Group1B                                    | naive                                      | 70dpi                                      | RA                                         | C9                                         | P125                                       | 0.004846783                                | 0.006010626                                | 0                                          | 0.001799281                                | 2.34e-05                                   |\n",
       "| 19 | X509_Group1B_70dpi_RA_284_B_C10_P125.mzXML | 509                                        | Group1B                                    | naive                                      | 70dpi                                      | RA                                         | C10                                        | P125                                       | 0.005841696                                | 0.006497116                                | 0                                          | 0.002290000                                | 0.00e+00                                   |\n",
       "| 20 | X510_Group1B_70dpi_RA_285_B_C11_P125.mzXML | 510                                        | Group1B                                    | naive                                      | 70dpi                                      | RA                                         | C11                                        | P125                                       | 0.007016807                                | 0.003090000                                | 0                                          | 0.000000000                                | 0.00e+00                                   |\n",
       "| 21 | X526_Group1B_70dpi_RA_286_B_C12_P125.mzXML | 526                                        | Group1B                                    | naive                                      | 70dpi                                      | RA                                         | C12                                        | P125                                       | 0.003759032                                | 0.006938287                                | 0                                          | 0.000000000                                | 0.00e+00                                   |\n",
       "\n"
      ],
      "text/plain": [
       "   filename                                   MouseID Treatmentgroup status\n",
       "16 X506_Group1B_70dpi_RA_281_B_C7_P125.mzXML  506     Group1B        naive \n",
       "17 X507_Group1B_70dpi_RA_282_B_C8_P125.mzXML  507     Group1B        naive \n",
       "18 X508_Group1B_70dpi_RA_283_B_C9_P125.mzXML  508     Group1B        naive \n",
       "19 X509_Group1B_70dpi_RA_284_B_C10_P125.mzXML 509     Group1B        naive \n",
       "20 X510_Group1B_70dpi_RA_285_B_C11_P125.mzXML 510     Group1B        naive \n",
       "21 X526_Group1B_70dpi_RA_286_B_C12_P125.mzXML 526     Group1B        naive \n",
       "   DPI   organ well_position plate mass_400    mass_500    mass_600 mass_700   \n",
       "16 70dpi RA    C7            P125  0.000583441 0.003228752 0        0.000044600\n",
       "17 70dpi RA    C8            P125  0.000430902 0.001274070 0        0.000533969\n",
       "18 70dpi RA    C9            P125  0.004846783 0.006010626 0        0.001799281\n",
       "19 70dpi RA    C10           P125  0.005841696 0.006497116 0        0.002290000\n",
       "20 70dpi RA    C11           P125  0.007016807 0.003090000 0        0.000000000\n",
       "21 70dpi RA    C12           P125  0.003759032 0.006938287 0        0.000000000\n",
       "   mass_800\n",
       "16 0.00e+00\n",
       "17 0.00e+00\n",
       "18 2.34e-05\n",
       "19 0.00e+00\n",
       "20 0.00e+00\n",
       "21 0.00e+00"
      ]
     },
     "metadata": {},
     "output_type": "display_data"
    },
    {
     "data": {
      "text/html": [
       "<ol class=list-inline>\n",
       "\t<li>30</li>\n",
       "\t<li>13</li>\n",
       "</ol>\n"
      ],
      "text/latex": [
       "\\begin{enumerate*}\n",
       "\\item 30\n",
       "\\item 13\n",
       "\\end{enumerate*}\n"
      ],
      "text/markdown": [
       "1. 30\n",
       "2. 13\n",
       "\n",
       "\n"
      ],
      "text/plain": [
       "[1] 30 13"
      ]
     },
     "metadata": {},
     "output_type": "display_data"
    },
    {
     "data": {
      "text/html": [
       "<ol class=list-inline>\n",
       "\t<li>30</li>\n",
       "\t<li>5</li>\n",
       "</ol>\n"
      ],
      "text/latex": [
       "\\begin{enumerate*}\n",
       "\\item 30\n",
       "\\item 5\n",
       "\\end{enumerate*}\n"
      ],
      "text/markdown": [
       "1. 30\n",
       "2. 5\n",
       "\n",
       "\n"
      ],
      "text/plain": [
       "[1] 30  5"
      ]
     },
     "metadata": {},
     "output_type": "display_data"
    },
    {
     "data": {
      "text/html": [
       "<ol class=list-inline>\n",
       "\t<li>30</li>\n",
       "\t<li>5</li>\n",
       "</ol>\n"
      ],
      "text/latex": [
       "\\begin{enumerate*}\n",
       "\\item 30\n",
       "\\item 5\n",
       "\\end{enumerate*}\n"
      ],
      "text/markdown": [
       "1. 30\n",
       "2. 5\n",
       "\n",
       "\n"
      ],
      "text/plain": [
       "[1] 30  5"
      ]
     },
     "metadata": {},
     "output_type": "display_data"
    },
    {
     "data": {
      "text/html": [
       "<ol class=list-inline>\n",
       "\t<li>30</li>\n",
       "\t<li>13</li>\n",
       "</ol>\n"
      ],
      "text/latex": [
       "\\begin{enumerate*}\n",
       "\\item 30\n",
       "\\item 13\n",
       "\\end{enumerate*}\n"
      ],
      "text/markdown": [
       "1. 30\n",
       "2. 13\n",
       "\n",
       "\n"
      ],
      "text/plain": [
       "[1] 30 13"
      ]
     },
     "metadata": {},
     "output_type": "display_data"
    }
   ],
   "source": [
    "noMeta<-features_pos[,9:13]\n",
    "head(noMeta)\n",
    "not_zero<-which(colSums(noMeta) != 0)\n",
    "head(not_zero)\n",
    "nonzero <- noMeta[, not_zero]\n",
    "nonzero\n",
    "nonzero_wMeta<-cbind(features_pos[,1:8], nonzero)\n",
    "head(nonzero_wMeta)\n",
    "dim(features_pos)\n",
    "dim(noMeta)\n",
    "dim(nonzero)\n",
    "dim(nonzero_wMeta)"
   ]
  },
  {
   "cell_type": "code",
   "execution_count": 5,
   "metadata": {
    "scrolled": true
   },
   "outputs": [
    {
     "name": "stderr",
     "output_type": "stream",
     "text": [
      "Warning message in wilcox.test.default(x = c(0, 0, 0, 0, 0, 0, 0, 0, 0, 0, 0, 0, :\n",
      "\"cannot compute exact p-value with ties\"Warning message in wilcox.test.default(x = c(4.46e-05, 0.000533969, 0.001799281, :\n",
      "\"cannot compute exact p-value with ties\"Warning message in wilcox.test.default(x = c(0, 0, 2.34e-05, 0, 0, 0, 0, 0, 0, 0, :\n",
      "\"cannot compute exact p-value with ties\""
     ]
    },
    {
     "data": {
      "text/html": [
       "<ol class=list-inline>\n",
       "\t<li>0.160685472537209</li>\n",
       "\t<li>0.0164317222193857</li>\n",
       "\t<li>0.00152295328439113</li>\n",
       "\t<li>0.00325033374982728</li>\n",
       "\t<li>0.523998655936988</li>\n",
       "</ol>\n"
      ],
      "text/latex": [
       "\\begin{enumerate*}\n",
       "\\item 0.160685472537209\n",
       "\\item 0.0164317222193857\n",
       "\\item 0.00152295328439113\n",
       "\\item 0.00325033374982728\n",
       "\\item 0.523998655936988\n",
       "\\end{enumerate*}\n"
      ],
      "text/markdown": [
       "1. 0.160685472537209\n",
       "2. 0.0164317222193857\n",
       "3. 0.00152295328439113\n",
       "4. 0.00325033374982728\n",
       "5. 0.523998655936988\n",
       "\n",
       "\n"
      ],
      "text/plain": [
       "[1] 0.160685473 0.016431722 0.001522953 0.003250334 0.523998656"
      ]
     },
     "metadata": {},
     "output_type": "display_data"
    },
    {
     "data": {
      "text/html": [
       "<ol class=list-inline>\n",
       "\t<li>0.200856840671512</li>\n",
       "\t<li>0.0273862036989761</li>\n",
       "\t<li>0.00761476642195563</li>\n",
       "\t<li>0.00812583437456821</li>\n",
       "\t<li>0.523998655936988</li>\n",
       "</ol>\n"
      ],
      "text/latex": [
       "\\begin{enumerate*}\n",
       "\\item 0.200856840671512\n",
       "\\item 0.0273862036989761\n",
       "\\item 0.00761476642195563\n",
       "\\item 0.00812583437456821\n",
       "\\item 0.523998655936988\n",
       "\\end{enumerate*}\n"
      ],
      "text/markdown": [
       "1. 0.200856840671512\n",
       "2. 0.0273862036989761\n",
       "3. 0.00761476642195563\n",
       "4. 0.00812583437456821\n",
       "5. 0.523998655936988\n",
       "\n",
       "\n"
      ],
      "text/plain": [
       "[1] 0.200856841 0.027386204 0.007614766 0.008125834 0.523998656"
      ]
     },
     "metadata": {},
     "output_type": "display_data"
    }
   ],
   "source": [
    "pval<-c()\n",
    "\n",
    "for (i in 9:ncol(nonzero_wMeta)) \n",
    "pval<-c(pval,wilcox.test(nonzero_wMeta[,i]~nonzero_wMeta$Treatmentgroup)$p.value)\n",
    "head(pval)\n",
    "pAdj <- p.adjust(pval, method = c(\"fdr\"), n=length(pval)) \n",
    "head(pAdj) \n",
    "\n"
   ]
  },
  {
   "cell_type": "code",
   "execution_count": 6,
   "metadata": {
    "scrolled": true
   },
   "outputs": [
    {
     "data": {
      "text/html": [
       "5"
      ],
      "text/latex": [
       "5"
      ],
      "text/markdown": [
       "5"
      ],
      "text/plain": [
       "[1] 5"
      ]
     },
     "metadata": {},
     "output_type": "display_data"
    }
   ],
   "source": [
    "length(pval)"
   ]
  },
  {
   "cell_type": "code",
   "execution_count": 7,
   "metadata": {
    "scrolled": true
   },
   "outputs": [
    {
     "data": {
      "text/html": [
       "5"
      ],
      "text/latex": [
       "5"
      ],
      "text/markdown": [
       "5"
      ],
      "text/plain": [
       "[1] 5"
      ]
     },
     "metadata": {},
     "output_type": "display_data"
    }
   ],
   "source": [
    "length(pAdj)"
   ]
  },
  {
   "cell_type": "code",
   "execution_count": 8,
   "metadata": {},
   "outputs": [
    {
     "data": {
      "text/html": [
       "<ol class=list-inline>\n",
       "\t<li>2</li>\n",
       "\t<li>5</li>\n",
       "</ol>\n"
      ],
      "text/latex": [
       "\\begin{enumerate*}\n",
       "\\item 2\n",
       "\\item 5\n",
       "\\end{enumerate*}\n"
      ],
      "text/markdown": [
       "1. 2\n",
       "2. 5\n",
       "\n",
       "\n"
      ],
      "text/plain": [
       "[1] 2 5"
      ]
     },
     "metadata": {},
     "output_type": "display_data"
    },
    {
     "data": {
      "text/html": [
       "<table>\n",
       "<thead><tr><th></th><th scope=col>mass_400</th><th scope=col>mass_500</th><th scope=col>mass_600</th></tr></thead>\n",
       "<tbody>\n",
       "\t<tr><th scope=row>Group1B</th><td>0.003208560 </td><td>0.004767167 </td><td>0.0000000000</td></tr>\n",
       "\t<tr><th scope=row>Group3B</th><td>0.005377911 </td><td>0.009585582 </td><td>0.0001216973</td></tr>\n",
       "</tbody>\n",
       "</table>\n"
      ],
      "text/latex": [
       "\\begin{tabular}{r|lll}\n",
       "  & mass\\_400 & mass\\_500 & mass\\_600\\\\\n",
       "\\hline\n",
       "\tGroup1B & 0.003208560  & 0.004767167  & 0.0000000000\\\\\n",
       "\tGroup3B & 0.005377911  & 0.009585582  & 0.0001216973\\\\\n",
       "\\end{tabular}\n"
      ],
      "text/markdown": [
       "\n",
       "| <!--/--> | mass_400 | mass_500 | mass_600 |\n",
       "|---|---|---|---|\n",
       "| Group1B | 0.003208560  | 0.004767167  | 0.0000000000 |\n",
       "| Group3B | 0.005377911  | 0.009585582  | 0.0001216973 |\n",
       "\n"
      ],
      "text/plain": [
       "        mass_400    mass_500    mass_600    \n",
       "Group1B 0.003208560 0.004767167 0.0000000000\n",
       "Group3B 0.005377911 0.009585582 0.0001216973"
      ]
     },
     "metadata": {},
     "output_type": "display_data"
    },
    {
     "data": {
      "text/html": [
       "<dl class=dl-horizontal>\n",
       "\t<dt>mass_400</dt>\n",
       "\t\t<dd>0.596618404139065</dd>\n",
       "\t<dt>mass_500</dt>\n",
       "\t\t<dd>0.497326804527611</dd>\n",
       "\t<dt>mass_600</dt>\n",
       "\t\t<dd>0</dd>\n",
       "\t<dt>mass_700</dt>\n",
       "\t\t<dd>0.196051917642395</dd>\n",
       "\t<dt>mass_800</dt>\n",
       "\t\t<dd>0.0926167802607519</dd>\n",
       "</dl>\n"
      ],
      "text/latex": [
       "\\begin{description*}\n",
       "\\item[mass\\textbackslash{}\\_400] 0.596618404139065\n",
       "\\item[mass\\textbackslash{}\\_500] 0.497326804527611\n",
       "\\item[mass\\textbackslash{}\\_600] 0\n",
       "\\item[mass\\textbackslash{}\\_700] 0.196051917642395\n",
       "\\item[mass\\textbackslash{}\\_800] 0.0926167802607519\n",
       "\\end{description*}\n"
      ],
      "text/markdown": [
       "mass_400\n",
       ":   0.596618404139065mass_500\n",
       ":   0.497326804527611mass_600\n",
       ":   0mass_700\n",
       ":   0.196051917642395mass_800\n",
       ":   0.0926167802607519\n",
       "\n"
      ],
      "text/plain": [
       "  mass_400   mass_500   mass_600   mass_700   mass_800 \n",
       "0.59661840 0.49732680 0.00000000 0.19605192 0.09261678 "
      ]
     },
     "metadata": {},
     "output_type": "display_data"
    },
    {
     "data": {
      "text/html": [
       "<ol class=list-inline>\n",
       "\t<li>'numeric'</li>\n",
       "\t<li>'vector'</li>\n",
       "</ol>\n"
      ],
      "text/latex": [
       "\\begin{enumerate*}\n",
       "\\item 'numeric'\n",
       "\\item 'vector'\n",
       "\\end{enumerate*}\n"
      ],
      "text/markdown": [
       "1. 'numeric'\n",
       "2. 'vector'\n",
       "\n",
       "\n"
      ],
      "text/plain": [
       "[1] \"numeric\" \"vector\" "
      ]
     },
     "metadata": {},
     "output_type": "display_data"
    }
   ],
   "source": [
    "avg<- apply(nonzero_wMeta[,9:ncol(nonzero_wMeta)], 2, function(x) tapply(x, nonzero_wMeta$Treatmentgroup, function(x) mean(x))) \n",
    "\n",
    "dim(avg)\n",
    "\n",
    "avg[,1:3]\n",
    "\n",
    "fch <- apply(avg, 2, function(x) x[1]/x[2])\n",
    "\n",
    "head(fch)\n",
    "is(fch)"
   ]
  },
  {
   "cell_type": "code",
   "execution_count": 9,
   "metadata": {
    "scrolled": true
   },
   "outputs": [
    {
     "data": {
      "text/html": [
       "<dl class=dl-horizontal>\n",
       "\t<dt>mass_400</dt>\n",
       "\t\t<dd>0.596618404139065</dd>\n",
       "\t<dt>mass_500</dt>\n",
       "\t\t<dd>0.497326804527611</dd>\n",
       "\t<dt>mass_600</dt>\n",
       "\t\t<dd>0</dd>\n",
       "\t<dt>mass_700</dt>\n",
       "\t\t<dd>0.196051917642395</dd>\n",
       "\t<dt>mass_800</dt>\n",
       "\t\t<dd>0.0926167802607519</dd>\n",
       "</dl>\n"
      ],
      "text/latex": [
       "\\begin{description*}\n",
       "\\item[mass\\textbackslash{}\\_400] 0.596618404139065\n",
       "\\item[mass\\textbackslash{}\\_500] 0.497326804527611\n",
       "\\item[mass\\textbackslash{}\\_600] 0\n",
       "\\item[mass\\textbackslash{}\\_700] 0.196051917642395\n",
       "\\item[mass\\textbackslash{}\\_800] 0.0926167802607519\n",
       "\\end{description*}\n"
      ],
      "text/markdown": [
       "mass_400\n",
       ":   0.596618404139065mass_500\n",
       ":   0.497326804527611mass_600\n",
       ":   0mass_700\n",
       ":   0.196051917642395mass_800\n",
       ":   0.0926167802607519\n",
       "\n"
      ],
      "text/plain": [
       "  mass_400   mass_500   mass_600   mass_700   mass_800 \n",
       "0.59661840 0.49732680 0.00000000 0.19605192 0.09261678 "
      ]
     },
     "metadata": {},
     "output_type": "display_data"
    }
   ],
   "source": [
    "fch"
   ]
  },
  {
   "cell_type": "code",
   "execution_count": 10,
   "metadata": {
    "scrolled": false
   },
   "outputs": [],
   "source": [
    "df <- data.frame(fch,pval, pAdj)\n",
    "write.csv(df, \"PE-time-RA-wilcox-1B-3B.csv\")"
   ]
  },
  {
   "cell_type": "code",
   "execution_count": null,
   "metadata": {},
   "outputs": [],
   "source": []
  },
  {
   "cell_type": "code",
   "execution_count": null,
   "metadata": {},
   "outputs": [],
   "source": []
  },
  {
   "cell_type": "code",
   "execution_count": null,
   "metadata": {},
   "outputs": [],
   "source": []
  },
  {
   "cell_type": "code",
   "execution_count": null,
   "metadata": {},
   "outputs": [],
   "source": []
  },
  {
   "cell_type": "code",
   "execution_count": null,
   "metadata": {},
   "outputs": [],
   "source": []
  },
  {
   "cell_type": "code",
   "execution_count": null,
   "metadata": {},
   "outputs": [],
   "source": []
  }
 ],
 "metadata": {
  "kernelspec": {
   "display_name": "R",
   "language": "R",
   "name": "ir"
  },
  "language_info": {
   "codemirror_mode": "r",
   "file_extension": ".r",
   "mimetype": "text/x-r-source",
   "name": "R",
   "pygments_lexer": "r",
   "version": "3.6.1"
  }
 },
 "nbformat": 4,
 "nbformat_minor": 2
}
