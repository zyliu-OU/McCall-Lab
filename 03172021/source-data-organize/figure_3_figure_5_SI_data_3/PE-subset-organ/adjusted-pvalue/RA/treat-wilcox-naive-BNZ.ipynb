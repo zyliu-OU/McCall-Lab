{
 "cells": [
  {
   "cell_type": "code",
   "execution_count": 1,
   "metadata": {},
   "outputs": [],
   "source": [
    "a <- read.csv(\"03172021-PE-treatment-RA-M-F.csv\")"
   ]
  },
  {
   "cell_type": "code",
   "execution_count": 2,
   "metadata": {},
   "outputs": [
    {
     "data": {
      "text/html": [
       "<table>\n",
       "<thead><tr><th scope=col>filename</th><th scope=col>MouseID</th><th scope=col>Treatmentgroup</th><th scope=col>DPI</th><th scope=col>organ</th><th scope=col>well_position</th><th scope=col>plate</th><th scope=col>mass_400</th><th scope=col>mass_500</th><th scope=col>mass_600</th><th scope=col>mass_700</th><th scope=col>mass_800</th></tr></thead>\n",
       "<tbody>\n",
       "\t<tr><td>X511_Group1C_142dpi_RA_161_G_A1_P124.mzXML</td><td>511                                       </td><td>naive                                     </td><td>142dpi                                    </td><td>RA                                        </td><td>A1                                        </td><td>P124                                      </td><td>0.000654335                               </td><td>0.003736275                               </td><td>0.000000000                               </td><td>0.000832270                               </td><td>0.000000000                               </td></tr>\n",
       "\t<tr><td>X512_Group1C_142dpi_RA_162_G_A2_P124.mzXML</td><td>512                                       </td><td>naive                                     </td><td>142dpi                                    </td><td>RA                                        </td><td>A2                                        </td><td>P124                                      </td><td>0.001902661                               </td><td>0.007220000                               </td><td>0.000000000                               </td><td>0.003141999                               </td><td>0.000000000                               </td></tr>\n",
       "\t<tr><td>X513_Group1C_142dpi_RA_163_G_A3_P124.mzXML</td><td>513                                       </td><td>naive                                     </td><td>142dpi                                    </td><td>RA                                        </td><td>A3                                        </td><td>P124                                      </td><td>0.005683259                               </td><td>0.006810000                               </td><td>0.000069000                               </td><td>0.010410065                               </td><td>0.000484937                               </td></tr>\n",
       "\t<tr><td>X514_Group1C_142dpi_RA_164_G_A4_P124.mzXML</td><td>514                                       </td><td>naive                                     </td><td>142dpi                                    </td><td>RA                                        </td><td>A4                                        </td><td>P124                                      </td><td>0.004470928                               </td><td>0.004333828                               </td><td>0.000201159                               </td><td>0.001951171                               </td><td>0.000000000                               </td></tr>\n",
       "\t<tr><td>X515_Group1C_142dpi_RA_165_G_A5_P124.mzXML</td><td>515                                       </td><td>naive                                     </td><td>142dpi                                    </td><td>RA                                        </td><td>A5                                        </td><td>P124                                      </td><td>0.000504340                               </td><td>0.002660000                               </td><td>0.000000000                               </td><td>0.000772434                               </td><td>0.000000000                               </td></tr>\n",
       "\t<tr><td>X531_Group1C_142dpi_RA_166_G_A6_P124.mzXML</td><td>531                                       </td><td>naive                                     </td><td>142dpi                                    </td><td>RA                                        </td><td>A6                                        </td><td>P124                                      </td><td>0.003767551                               </td><td>0.009470000                               </td><td>0.000000000                               </td><td>0.002650000                               </td><td>0.000000000                               </td></tr>\n",
       "</tbody>\n",
       "</table>\n"
      ],
      "text/latex": [
       "\\begin{tabular}{r|llllllllllll}\n",
       " filename & MouseID & Treatmentgroup & DPI & organ & well\\_position & plate & mass\\_400 & mass\\_500 & mass\\_600 & mass\\_700 & mass\\_800\\\\\n",
       "\\hline\n",
       "\t X511\\_Group1C\\_142dpi\\_RA\\_161\\_G\\_A1\\_P124.mzXML & 511                                                      & naive                                                    & 142dpi                                                   & RA                                                       & A1                                                       & P124                                                     & 0.000654335                                              & 0.003736275                                              & 0.000000000                                              & 0.000832270                                              & 0.000000000                                             \\\\\n",
       "\t X512\\_Group1C\\_142dpi\\_RA\\_162\\_G\\_A2\\_P124.mzXML & 512                                                      & naive                                                    & 142dpi                                                   & RA                                                       & A2                                                       & P124                                                     & 0.001902661                                              & 0.007220000                                              & 0.000000000                                              & 0.003141999                                              & 0.000000000                                             \\\\\n",
       "\t X513\\_Group1C\\_142dpi\\_RA\\_163\\_G\\_A3\\_P124.mzXML & 513                                                      & naive                                                    & 142dpi                                                   & RA                                                       & A3                                                       & P124                                                     & 0.005683259                                              & 0.006810000                                              & 0.000069000                                              & 0.010410065                                              & 0.000484937                                             \\\\\n",
       "\t X514\\_Group1C\\_142dpi\\_RA\\_164\\_G\\_A4\\_P124.mzXML & 514                                                      & naive                                                    & 142dpi                                                   & RA                                                       & A4                                                       & P124                                                     & 0.004470928                                              & 0.004333828                                              & 0.000201159                                              & 0.001951171                                              & 0.000000000                                             \\\\\n",
       "\t X515\\_Group1C\\_142dpi\\_RA\\_165\\_G\\_A5\\_P124.mzXML & 515                                                      & naive                                                    & 142dpi                                                   & RA                                                       & A5                                                       & P124                                                     & 0.000504340                                              & 0.002660000                                              & 0.000000000                                              & 0.000772434                                              & 0.000000000                                             \\\\\n",
       "\t X531\\_Group1C\\_142dpi\\_RA\\_166\\_G\\_A6\\_P124.mzXML & 531                                                      & naive                                                    & 142dpi                                                   & RA                                                       & A6                                                       & P124                                                     & 0.003767551                                              & 0.009470000                                              & 0.000000000                                              & 0.002650000                                              & 0.000000000                                             \\\\\n",
       "\\end{tabular}\n"
      ],
      "text/markdown": [
       "\n",
       "| filename | MouseID | Treatmentgroup | DPI | organ | well_position | plate | mass_400 | mass_500 | mass_600 | mass_700 | mass_800 |\n",
       "|---|---|---|---|---|---|---|---|---|---|---|---|\n",
       "| X511_Group1C_142dpi_RA_161_G_A1_P124.mzXML | 511                                        | naive                                      | 142dpi                                     | RA                                         | A1                                         | P124                                       | 0.000654335                                | 0.003736275                                | 0.000000000                                | 0.000832270                                | 0.000000000                                |\n",
       "| X512_Group1C_142dpi_RA_162_G_A2_P124.mzXML | 512                                        | naive                                      | 142dpi                                     | RA                                         | A2                                         | P124                                       | 0.001902661                                | 0.007220000                                | 0.000000000                                | 0.003141999                                | 0.000000000                                |\n",
       "| X513_Group1C_142dpi_RA_163_G_A3_P124.mzXML | 513                                        | naive                                      | 142dpi                                     | RA                                         | A3                                         | P124                                       | 0.005683259                                | 0.006810000                                | 0.000069000                                | 0.010410065                                | 0.000484937                                |\n",
       "| X514_Group1C_142dpi_RA_164_G_A4_P124.mzXML | 514                                        | naive                                      | 142dpi                                     | RA                                         | A4                                         | P124                                       | 0.004470928                                | 0.004333828                                | 0.000201159                                | 0.001951171                                | 0.000000000                                |\n",
       "| X515_Group1C_142dpi_RA_165_G_A5_P124.mzXML | 515                                        | naive                                      | 142dpi                                     | RA                                         | A5                                         | P124                                       | 0.000504340                                | 0.002660000                                | 0.000000000                                | 0.000772434                                | 0.000000000                                |\n",
       "| X531_Group1C_142dpi_RA_166_G_A6_P124.mzXML | 531                                        | naive                                      | 142dpi                                     | RA                                         | A6                                         | P124                                       | 0.003767551                                | 0.009470000                                | 0.000000000                                | 0.002650000                                | 0.000000000                                |\n",
       "\n"
      ],
      "text/plain": [
       "  filename                                   MouseID Treatmentgroup DPI   \n",
       "1 X511_Group1C_142dpi_RA_161_G_A1_P124.mzXML 511     naive          142dpi\n",
       "2 X512_Group1C_142dpi_RA_162_G_A2_P124.mzXML 512     naive          142dpi\n",
       "3 X513_Group1C_142dpi_RA_163_G_A3_P124.mzXML 513     naive          142dpi\n",
       "4 X514_Group1C_142dpi_RA_164_G_A4_P124.mzXML 514     naive          142dpi\n",
       "5 X515_Group1C_142dpi_RA_165_G_A5_P124.mzXML 515     naive          142dpi\n",
       "6 X531_Group1C_142dpi_RA_166_G_A6_P124.mzXML 531     naive          142dpi\n",
       "  organ well_position plate mass_400    mass_500    mass_600    mass_700   \n",
       "1 RA    A1            P124  0.000654335 0.003736275 0.000000000 0.000832270\n",
       "2 RA    A2            P124  0.001902661 0.007220000 0.000000000 0.003141999\n",
       "3 RA    A3            P124  0.005683259 0.006810000 0.000069000 0.010410065\n",
       "4 RA    A4            P124  0.004470928 0.004333828 0.000201159 0.001951171\n",
       "5 RA    A5            P124  0.000504340 0.002660000 0.000000000 0.000772434\n",
       "6 RA    A6            P124  0.003767551 0.009470000 0.000000000 0.002650000\n",
       "  mass_800   \n",
       "1 0.000000000\n",
       "2 0.000000000\n",
       "3 0.000484937\n",
       "4 0.000000000\n",
       "5 0.000000000\n",
       "6 0.000000000"
      ]
     },
     "metadata": {},
     "output_type": "display_data"
    },
    {
     "data": {
      "text/html": [
       "<ol class=list-inline>\n",
       "\t<li>60</li>\n",
       "\t<li>12</li>\n",
       "</ol>\n"
      ],
      "text/latex": [
       "\\begin{enumerate*}\n",
       "\\item 60\n",
       "\\item 12\n",
       "\\end{enumerate*}\n"
      ],
      "text/markdown": [
       "1. 60\n",
       "2. 12\n",
       "\n",
       "\n"
      ],
      "text/plain": [
       "[1] 60 12"
      ]
     },
     "metadata": {},
     "output_type": "display_data"
    }
   ],
   "source": [
    "head(a)\n",
    "dim(a)"
   ]
  },
  {
   "cell_type": "code",
   "execution_count": 3,
   "metadata": {},
   "outputs": [
    {
     "data": {
      "text/html": [
       "<table>\n",
       "<thead><tr><th scope=col>filename</th><th scope=col>MouseID</th><th scope=col>Treatmentgroup</th><th scope=col>DPI</th><th scope=col>organ</th><th scope=col>well_position</th><th scope=col>plate</th><th scope=col>mass_400</th><th scope=col>mass_500</th><th scope=col>mass_600</th><th scope=col>mass_700</th><th scope=col>mass_800</th></tr></thead>\n",
       "<tbody>\n",
       "\t<tr><td>X511_Group1C_142dpi_RA_161_G_A1_P124.mzXML</td><td>511                                       </td><td>naive                                     </td><td>142dpi                                    </td><td>RA                                        </td><td>A1                                        </td><td>P124                                      </td><td>0.000654335                               </td><td>0.003736275                               </td><td>0.000000000                               </td><td>0.000832270                               </td><td>0.000000000                               </td></tr>\n",
       "\t<tr><td>X512_Group1C_142dpi_RA_162_G_A2_P124.mzXML</td><td>512                                       </td><td>naive                                     </td><td>142dpi                                    </td><td>RA                                        </td><td>A2                                        </td><td>P124                                      </td><td>0.001902661                               </td><td>0.007220000                               </td><td>0.000000000                               </td><td>0.003141999                               </td><td>0.000000000                               </td></tr>\n",
       "\t<tr><td>X513_Group1C_142dpi_RA_163_G_A3_P124.mzXML</td><td>513                                       </td><td>naive                                     </td><td>142dpi                                    </td><td>RA                                        </td><td>A3                                        </td><td>P124                                      </td><td>0.005683259                               </td><td>0.006810000                               </td><td>0.000069000                               </td><td>0.010410065                               </td><td>0.000484937                               </td></tr>\n",
       "\t<tr><td>X514_Group1C_142dpi_RA_164_G_A4_P124.mzXML</td><td>514                                       </td><td>naive                                     </td><td>142dpi                                    </td><td>RA                                        </td><td>A4                                        </td><td>P124                                      </td><td>0.004470928                               </td><td>0.004333828                               </td><td>0.000201159                               </td><td>0.001951171                               </td><td>0.000000000                               </td></tr>\n",
       "\t<tr><td>X515_Group1C_142dpi_RA_165_G_A5_P124.mzXML</td><td>515                                       </td><td>naive                                     </td><td>142dpi                                    </td><td>RA                                        </td><td>A5                                        </td><td>P124                                      </td><td>0.000504340                               </td><td>0.002660000                               </td><td>0.000000000                               </td><td>0.000772434                               </td><td>0.000000000                               </td></tr>\n",
       "\t<tr><td>X531_Group1C_142dpi_RA_166_G_A6_P124.mzXML</td><td>531                                       </td><td>naive                                     </td><td>142dpi                                    </td><td>RA                                        </td><td>A6                                        </td><td>P124                                      </td><td>0.003767551                               </td><td>0.009470000                               </td><td>0.000000000                               </td><td>0.002650000                               </td><td>0.000000000                               </td></tr>\n",
       "</tbody>\n",
       "</table>\n"
      ],
      "text/latex": [
       "\\begin{tabular}{r|llllllllllll}\n",
       " filename & MouseID & Treatmentgroup & DPI & organ & well\\_position & plate & mass\\_400 & mass\\_500 & mass\\_600 & mass\\_700 & mass\\_800\\\\\n",
       "\\hline\n",
       "\t X511\\_Group1C\\_142dpi\\_RA\\_161\\_G\\_A1\\_P124.mzXML & 511                                                      & naive                                                    & 142dpi                                                   & RA                                                       & A1                                                       & P124                                                     & 0.000654335                                              & 0.003736275                                              & 0.000000000                                              & 0.000832270                                              & 0.000000000                                             \\\\\n",
       "\t X512\\_Group1C\\_142dpi\\_RA\\_162\\_G\\_A2\\_P124.mzXML & 512                                                      & naive                                                    & 142dpi                                                   & RA                                                       & A2                                                       & P124                                                     & 0.001902661                                              & 0.007220000                                              & 0.000000000                                              & 0.003141999                                              & 0.000000000                                             \\\\\n",
       "\t X513\\_Group1C\\_142dpi\\_RA\\_163\\_G\\_A3\\_P124.mzXML & 513                                                      & naive                                                    & 142dpi                                                   & RA                                                       & A3                                                       & P124                                                     & 0.005683259                                              & 0.006810000                                              & 0.000069000                                              & 0.010410065                                              & 0.000484937                                             \\\\\n",
       "\t X514\\_Group1C\\_142dpi\\_RA\\_164\\_G\\_A4\\_P124.mzXML & 514                                                      & naive                                                    & 142dpi                                                   & RA                                                       & A4                                                       & P124                                                     & 0.004470928                                              & 0.004333828                                              & 0.000201159                                              & 0.001951171                                              & 0.000000000                                             \\\\\n",
       "\t X515\\_Group1C\\_142dpi\\_RA\\_165\\_G\\_A5\\_P124.mzXML & 515                                                      & naive                                                    & 142dpi                                                   & RA                                                       & A5                                                       & P124                                                     & 0.000504340                                              & 0.002660000                                              & 0.000000000                                              & 0.000772434                                              & 0.000000000                                             \\\\\n",
       "\t X531\\_Group1C\\_142dpi\\_RA\\_166\\_G\\_A6\\_P124.mzXML & 531                                                      & naive                                                    & 142dpi                                                   & RA                                                       & A6                                                       & P124                                                     & 0.003767551                                              & 0.009470000                                              & 0.000000000                                              & 0.002650000                                              & 0.000000000                                             \\\\\n",
       "\\end{tabular}\n"
      ],
      "text/markdown": [
       "\n",
       "| filename | MouseID | Treatmentgroup | DPI | organ | well_position | plate | mass_400 | mass_500 | mass_600 | mass_700 | mass_800 |\n",
       "|---|---|---|---|---|---|---|---|---|---|---|---|\n",
       "| X511_Group1C_142dpi_RA_161_G_A1_P124.mzXML | 511                                        | naive                                      | 142dpi                                     | RA                                         | A1                                         | P124                                       | 0.000654335                                | 0.003736275                                | 0.000000000                                | 0.000832270                                | 0.000000000                                |\n",
       "| X512_Group1C_142dpi_RA_162_G_A2_P124.mzXML | 512                                        | naive                                      | 142dpi                                     | RA                                         | A2                                         | P124                                       | 0.001902661                                | 0.007220000                                | 0.000000000                                | 0.003141999                                | 0.000000000                                |\n",
       "| X513_Group1C_142dpi_RA_163_G_A3_P124.mzXML | 513                                        | naive                                      | 142dpi                                     | RA                                         | A3                                         | P124                                       | 0.005683259                                | 0.006810000                                | 0.000069000                                | 0.010410065                                | 0.000484937                                |\n",
       "| X514_Group1C_142dpi_RA_164_G_A4_P124.mzXML | 514                                        | naive                                      | 142dpi                                     | RA                                         | A4                                         | P124                                       | 0.004470928                                | 0.004333828                                | 0.000201159                                | 0.001951171                                | 0.000000000                                |\n",
       "| X515_Group1C_142dpi_RA_165_G_A5_P124.mzXML | 515                                        | naive                                      | 142dpi                                     | RA                                         | A5                                         | P124                                       | 0.000504340                                | 0.002660000                                | 0.000000000                                | 0.000772434                                | 0.000000000                                |\n",
       "| X531_Group1C_142dpi_RA_166_G_A6_P124.mzXML | 531                                        | naive                                      | 142dpi                                     | RA                                         | A6                                         | P124                                       | 0.003767551                                | 0.009470000                                | 0.000000000                                | 0.002650000                                | 0.000000000                                |\n",
       "\n"
      ],
      "text/plain": [
       "  filename                                   MouseID Treatmentgroup DPI   \n",
       "1 X511_Group1C_142dpi_RA_161_G_A1_P124.mzXML 511     naive          142dpi\n",
       "2 X512_Group1C_142dpi_RA_162_G_A2_P124.mzXML 512     naive          142dpi\n",
       "3 X513_Group1C_142dpi_RA_163_G_A3_P124.mzXML 513     naive          142dpi\n",
       "4 X514_Group1C_142dpi_RA_164_G_A4_P124.mzXML 514     naive          142dpi\n",
       "5 X515_Group1C_142dpi_RA_165_G_A5_P124.mzXML 515     naive          142dpi\n",
       "6 X531_Group1C_142dpi_RA_166_G_A6_P124.mzXML 531     naive          142dpi\n",
       "  organ well_position plate mass_400    mass_500    mass_600    mass_700   \n",
       "1 RA    A1            P124  0.000654335 0.003736275 0.000000000 0.000832270\n",
       "2 RA    A2            P124  0.001902661 0.007220000 0.000000000 0.003141999\n",
       "3 RA    A3            P124  0.005683259 0.006810000 0.000069000 0.010410065\n",
       "4 RA    A4            P124  0.004470928 0.004333828 0.000201159 0.001951171\n",
       "5 RA    A5            P124  0.000504340 0.002660000 0.000000000 0.000772434\n",
       "6 RA    A6            P124  0.003767551 0.009470000 0.000000000 0.002650000\n",
       "  mass_800   \n",
       "1 0.000000000\n",
       "2 0.000000000\n",
       "3 0.000484937\n",
       "4 0.000000000\n",
       "5 0.000000000\n",
       "6 0.000000000"
      ]
     },
     "metadata": {},
     "output_type": "display_data"
    },
    {
     "data": {
      "text/html": [
       "<ol class=list-inline>\n",
       "\t<li>30</li>\n",
       "\t<li>12</li>\n",
       "</ol>\n"
      ],
      "text/latex": [
       "\\begin{enumerate*}\n",
       "\\item 30\n",
       "\\item 12\n",
       "\\end{enumerate*}\n"
      ],
      "text/markdown": [
       "1. 30\n",
       "2. 12\n",
       "\n",
       "\n"
      ],
      "text/plain": [
       "[1] 30 12"
      ]
     },
     "metadata": {},
     "output_type": "display_data"
    }
   ],
   "source": [
    "features_pos<-droplevels(subset(a, a$Treatmentgroup==c(\"naive\")|a$Treatmentgroup==c(\"BNZ\")))\n",
    "head(features_pos)\n",
    "dim(features_pos)"
   ]
  },
  {
   "cell_type": "code",
   "execution_count": 4,
   "metadata": {
    "scrolled": false
   },
   "outputs": [
    {
     "data": {
      "text/html": [
       "<table>\n",
       "<thead><tr><th scope=col>mass_400</th><th scope=col>mass_500</th><th scope=col>mass_600</th><th scope=col>mass_700</th><th scope=col>mass_800</th></tr></thead>\n",
       "<tbody>\n",
       "\t<tr><td>0.000654335</td><td>0.003736275</td><td>0.000000000</td><td>0.000832270</td><td>0.000000000</td></tr>\n",
       "\t<tr><td>0.001902661</td><td>0.007220000</td><td>0.000000000</td><td>0.003141999</td><td>0.000000000</td></tr>\n",
       "\t<tr><td>0.005683259</td><td>0.006810000</td><td>0.000069000</td><td>0.010410065</td><td>0.000484937</td></tr>\n",
       "\t<tr><td>0.004470928</td><td>0.004333828</td><td>0.000201159</td><td>0.001951171</td><td>0.000000000</td></tr>\n",
       "\t<tr><td>0.000504340</td><td>0.002660000</td><td>0.000000000</td><td>0.000772434</td><td>0.000000000</td></tr>\n",
       "\t<tr><td>0.003767551</td><td>0.009470000</td><td>0.000000000</td><td>0.002650000</td><td>0.000000000</td></tr>\n",
       "</tbody>\n",
       "</table>\n"
      ],
      "text/latex": [
       "\\begin{tabular}{r|lllll}\n",
       " mass\\_400 & mass\\_500 & mass\\_600 & mass\\_700 & mass\\_800\\\\\n",
       "\\hline\n",
       "\t 0.000654335 & 0.003736275 & 0.000000000 & 0.000832270 & 0.000000000\\\\\n",
       "\t 0.001902661 & 0.007220000 & 0.000000000 & 0.003141999 & 0.000000000\\\\\n",
       "\t 0.005683259 & 0.006810000 & 0.000069000 & 0.010410065 & 0.000484937\\\\\n",
       "\t 0.004470928 & 0.004333828 & 0.000201159 & 0.001951171 & 0.000000000\\\\\n",
       "\t 0.000504340 & 0.002660000 & 0.000000000 & 0.000772434 & 0.000000000\\\\\n",
       "\t 0.003767551 & 0.009470000 & 0.000000000 & 0.002650000 & 0.000000000\\\\\n",
       "\\end{tabular}\n"
      ],
      "text/markdown": [
       "\n",
       "| mass_400 | mass_500 | mass_600 | mass_700 | mass_800 |\n",
       "|---|---|---|---|---|\n",
       "| 0.000654335 | 0.003736275 | 0.000000000 | 0.000832270 | 0.000000000 |\n",
       "| 0.001902661 | 0.007220000 | 0.000000000 | 0.003141999 | 0.000000000 |\n",
       "| 0.005683259 | 0.006810000 | 0.000069000 | 0.010410065 | 0.000484937 |\n",
       "| 0.004470928 | 0.004333828 | 0.000201159 | 0.001951171 | 0.000000000 |\n",
       "| 0.000504340 | 0.002660000 | 0.000000000 | 0.000772434 | 0.000000000 |\n",
       "| 0.003767551 | 0.009470000 | 0.000000000 | 0.002650000 | 0.000000000 |\n",
       "\n"
      ],
      "text/plain": [
       "  mass_400    mass_500    mass_600    mass_700    mass_800   \n",
       "1 0.000654335 0.003736275 0.000000000 0.000832270 0.000000000\n",
       "2 0.001902661 0.007220000 0.000000000 0.003141999 0.000000000\n",
       "3 0.005683259 0.006810000 0.000069000 0.010410065 0.000484937\n",
       "4 0.004470928 0.004333828 0.000201159 0.001951171 0.000000000\n",
       "5 0.000504340 0.002660000 0.000000000 0.000772434 0.000000000\n",
       "6 0.003767551 0.009470000 0.000000000 0.002650000 0.000000000"
      ]
     },
     "metadata": {},
     "output_type": "display_data"
    },
    {
     "data": {
      "text/html": [
       "<dl class=dl-horizontal>\n",
       "\t<dt>mass_400</dt>\n",
       "\t\t<dd>1</dd>\n",
       "\t<dt>mass_500</dt>\n",
       "\t\t<dd>2</dd>\n",
       "\t<dt>mass_600</dt>\n",
       "\t\t<dd>3</dd>\n",
       "\t<dt>mass_700</dt>\n",
       "\t\t<dd>4</dd>\n",
       "\t<dt>mass_800</dt>\n",
       "\t\t<dd>5</dd>\n",
       "</dl>\n"
      ],
      "text/latex": [
       "\\begin{description*}\n",
       "\\item[mass\\textbackslash{}\\_400] 1\n",
       "\\item[mass\\textbackslash{}\\_500] 2\n",
       "\\item[mass\\textbackslash{}\\_600] 3\n",
       "\\item[mass\\textbackslash{}\\_700] 4\n",
       "\\item[mass\\textbackslash{}\\_800] 5\n",
       "\\end{description*}\n"
      ],
      "text/markdown": [
       "mass_400\n",
       ":   1mass_500\n",
       ":   2mass_600\n",
       ":   3mass_700\n",
       ":   4mass_800\n",
       ":   5\n",
       "\n"
      ],
      "text/plain": [
       "mass_400 mass_500 mass_600 mass_700 mass_800 \n",
       "       1        2        3        4        5 "
      ]
     },
     "metadata": {},
     "output_type": "display_data"
    },
    {
     "data": {
      "text/html": [
       "<table>\n",
       "<thead><tr><th></th><th scope=col>mass_400</th><th scope=col>mass_500</th><th scope=col>mass_600</th><th scope=col>mass_700</th><th scope=col>mass_800</th></tr></thead>\n",
       "<tbody>\n",
       "\t<tr><th scope=row>1</th><td>0.000654335</td><td>0.003736275</td><td>0.000000000</td><td>0.000832270</td><td>0.000000000</td></tr>\n",
       "\t<tr><th scope=row>2</th><td>0.001902661</td><td>0.007220000</td><td>0.000000000</td><td>0.003141999</td><td>0.000000000</td></tr>\n",
       "\t<tr><th scope=row>3</th><td>0.005683259</td><td>0.006810000</td><td>0.000069000</td><td>0.010410065</td><td>0.000484937</td></tr>\n",
       "\t<tr><th scope=row>4</th><td>0.004470928</td><td>0.004333828</td><td>0.000201159</td><td>0.001951171</td><td>0.000000000</td></tr>\n",
       "\t<tr><th scope=row>5</th><td>0.000504340</td><td>0.002660000</td><td>0.000000000</td><td>0.000772434</td><td>0.000000000</td></tr>\n",
       "\t<tr><th scope=row>6</th><td>0.003767551</td><td>0.009470000</td><td>0.000000000</td><td>0.002650000</td><td>0.000000000</td></tr>\n",
       "\t<tr><th scope=row>7</th><td>0.001517949</td><td>0.011335882</td><td>0.000000000</td><td>0.005563492</td><td>0.000000000</td></tr>\n",
       "\t<tr><th scope=row>8</th><td>0.001959477</td><td>0.004740000</td><td>0.000112444</td><td>0.003329130</td><td>0.000000000</td></tr>\n",
       "\t<tr><th scope=row>9</th><td>0.002994415</td><td>0.011536300</td><td>0.000000000</td><td>0.000541951</td><td>0.000000000</td></tr>\n",
       "\t<tr><th scope=row>10</th><td>0.000303758</td><td>0.002895742</td><td>0.000000000</td><td>0.000888971</td><td>0.000000000</td></tr>\n",
       "\t<tr><th scope=row>11</th><td>0.004739988</td><td>0.011400000</td><td>0.000000000</td><td>0.012963938</td><td>0.000082200</td></tr>\n",
       "\t<tr><th scope=row>12</th><td>0.000859999</td><td>0.004180000</td><td>0.000000000</td><td>0.000440698</td><td>0.000000000</td></tr>\n",
       "\t<tr><th scope=row>13</th><td>0.001795163</td><td>0.003165380</td><td>0.000113822</td><td>0.002203896</td><td>0.000000000</td></tr>\n",
       "\t<tr><th scope=row>14</th><td>0.003370242</td><td>0.003699897</td><td>0.000000000</td><td>0.003042212</td><td>0.000022300</td></tr>\n",
       "\t<tr><th scope=row>15</th><td>0.001475775</td><td>0.005550000</td><td>0.000000000</td><td>0.001720000</td><td>0.000000000</td></tr>\n",
       "\t<tr><th scope=row>26</th><td>0.004634800</td><td>0.008130000</td><td>0.000000000</td><td>0.000392000</td><td>0.000000000</td></tr>\n",
       "\t<tr><th scope=row>27</th><td>0.001145037</td><td>0.004120000</td><td>0.000000000</td><td>0.001280000</td><td>0.000000000</td></tr>\n",
       "\t<tr><th scope=row>28</th><td>0.009590847</td><td>0.017267594</td><td>0.000000000</td><td>0.004839455</td><td>0.000117151</td></tr>\n",
       "\t<tr><th scope=row>29</th><td>0.005949973</td><td>0.015005459</td><td>0.000230937</td><td>0.005398365</td><td>0.000000000</td></tr>\n",
       "\t<tr><th scope=row>30</th><td>0.000886040</td><td>0.003950000</td><td>0.000000000</td><td>0.001458761</td><td>0.000000000</td></tr>\n",
       "\t<tr><th scope=row>41</th><td>0.005294117</td><td>0.005468799</td><td>0.000127552</td><td>0.001634777</td><td>0.000000000</td></tr>\n",
       "\t<tr><th scope=row>42</th><td>0.002665173</td><td>0.007183264</td><td>0.000000000</td><td>0.001430000</td><td>0.000000000</td></tr>\n",
       "\t<tr><th scope=row>43</th><td>0.001145335</td><td>0.006015767</td><td>0.000024200</td><td>0.002506955</td><td>0.000000000</td></tr>\n",
       "\t<tr><th scope=row>44</th><td>0.012438866</td><td>0.014725690</td><td>0.000477354</td><td>0.001333816</td><td>0.000000000</td></tr>\n",
       "\t<tr><th scope=row>45</th><td>0.007629190</td><td>0.011840259</td><td>0.000000000</td><td>0.000989143</td><td>0.000000000</td></tr>\n",
       "\t<tr><th scope=row>56</th><td>0.002163037</td><td>0.004800000</td><td>0.000260710</td><td>0.001097633</td><td>0.000000000</td></tr>\n",
       "\t<tr><th scope=row>57</th><td>0.000407350</td><td>0.002230000</td><td>0.000000000</td><td>0.000786049</td><td>0.000000000</td></tr>\n",
       "\t<tr><th scope=row>58</th><td>0.005721820</td><td>0.008826802</td><td>0.000000000</td><td>0.000000000</td><td>0.000000000</td></tr>\n",
       "\t<tr><th scope=row>59</th><td>0.000956452</td><td>0.003134981</td><td>0.000040800</td><td>0.000112778</td><td>0.000000000</td></tr>\n",
       "\t<tr><th scope=row>60</th><td>0.000586962</td><td>0.004279801</td><td>0.000000000</td><td>0.001706468</td><td>0.000000000</td></tr>\n",
       "</tbody>\n",
       "</table>\n"
      ],
      "text/latex": [
       "\\begin{tabular}{r|lllll}\n",
       "  & mass\\_400 & mass\\_500 & mass\\_600 & mass\\_700 & mass\\_800\\\\\n",
       "\\hline\n",
       "\t1 & 0.000654335 & 0.003736275 & 0.000000000 & 0.000832270 & 0.000000000\\\\\n",
       "\t2 & 0.001902661 & 0.007220000 & 0.000000000 & 0.003141999 & 0.000000000\\\\\n",
       "\t3 & 0.005683259 & 0.006810000 & 0.000069000 & 0.010410065 & 0.000484937\\\\\n",
       "\t4 & 0.004470928 & 0.004333828 & 0.000201159 & 0.001951171 & 0.000000000\\\\\n",
       "\t5 & 0.000504340 & 0.002660000 & 0.000000000 & 0.000772434 & 0.000000000\\\\\n",
       "\t6 & 0.003767551 & 0.009470000 & 0.000000000 & 0.002650000 & 0.000000000\\\\\n",
       "\t7 & 0.001517949 & 0.011335882 & 0.000000000 & 0.005563492 & 0.000000000\\\\\n",
       "\t8 & 0.001959477 & 0.004740000 & 0.000112444 & 0.003329130 & 0.000000000\\\\\n",
       "\t9 & 0.002994415 & 0.011536300 & 0.000000000 & 0.000541951 & 0.000000000\\\\\n",
       "\t10 & 0.000303758 & 0.002895742 & 0.000000000 & 0.000888971 & 0.000000000\\\\\n",
       "\t11 & 0.004739988 & 0.011400000 & 0.000000000 & 0.012963938 & 0.000082200\\\\\n",
       "\t12 & 0.000859999 & 0.004180000 & 0.000000000 & 0.000440698 & 0.000000000\\\\\n",
       "\t13 & 0.001795163 & 0.003165380 & 0.000113822 & 0.002203896 & 0.000000000\\\\\n",
       "\t14 & 0.003370242 & 0.003699897 & 0.000000000 & 0.003042212 & 0.000022300\\\\\n",
       "\t15 & 0.001475775 & 0.005550000 & 0.000000000 & 0.001720000 & 0.000000000\\\\\n",
       "\t26 & 0.004634800 & 0.008130000 & 0.000000000 & 0.000392000 & 0.000000000\\\\\n",
       "\t27 & 0.001145037 & 0.004120000 & 0.000000000 & 0.001280000 & 0.000000000\\\\\n",
       "\t28 & 0.009590847 & 0.017267594 & 0.000000000 & 0.004839455 & 0.000117151\\\\\n",
       "\t29 & 0.005949973 & 0.015005459 & 0.000230937 & 0.005398365 & 0.000000000\\\\\n",
       "\t30 & 0.000886040 & 0.003950000 & 0.000000000 & 0.001458761 & 0.000000000\\\\\n",
       "\t41 & 0.005294117 & 0.005468799 & 0.000127552 & 0.001634777 & 0.000000000\\\\\n",
       "\t42 & 0.002665173 & 0.007183264 & 0.000000000 & 0.001430000 & 0.000000000\\\\\n",
       "\t43 & 0.001145335 & 0.006015767 & 0.000024200 & 0.002506955 & 0.000000000\\\\\n",
       "\t44 & 0.012438866 & 0.014725690 & 0.000477354 & 0.001333816 & 0.000000000\\\\\n",
       "\t45 & 0.007629190 & 0.011840259 & 0.000000000 & 0.000989143 & 0.000000000\\\\\n",
       "\t56 & 0.002163037 & 0.004800000 & 0.000260710 & 0.001097633 & 0.000000000\\\\\n",
       "\t57 & 0.000407350 & 0.002230000 & 0.000000000 & 0.000786049 & 0.000000000\\\\\n",
       "\t58 & 0.005721820 & 0.008826802 & 0.000000000 & 0.000000000 & 0.000000000\\\\\n",
       "\t59 & 0.000956452 & 0.003134981 & 0.000040800 & 0.000112778 & 0.000000000\\\\\n",
       "\t60 & 0.000586962 & 0.004279801 & 0.000000000 & 0.001706468 & 0.000000000\\\\\n",
       "\\end{tabular}\n"
      ],
      "text/markdown": [
       "\n",
       "| <!--/--> | mass_400 | mass_500 | mass_600 | mass_700 | mass_800 |\n",
       "|---|---|---|---|---|---|\n",
       "| 1 | 0.000654335 | 0.003736275 | 0.000000000 | 0.000832270 | 0.000000000 |\n",
       "| 2 | 0.001902661 | 0.007220000 | 0.000000000 | 0.003141999 | 0.000000000 |\n",
       "| 3 | 0.005683259 | 0.006810000 | 0.000069000 | 0.010410065 | 0.000484937 |\n",
       "| 4 | 0.004470928 | 0.004333828 | 0.000201159 | 0.001951171 | 0.000000000 |\n",
       "| 5 | 0.000504340 | 0.002660000 | 0.000000000 | 0.000772434 | 0.000000000 |\n",
       "| 6 | 0.003767551 | 0.009470000 | 0.000000000 | 0.002650000 | 0.000000000 |\n",
       "| 7 | 0.001517949 | 0.011335882 | 0.000000000 | 0.005563492 | 0.000000000 |\n",
       "| 8 | 0.001959477 | 0.004740000 | 0.000112444 | 0.003329130 | 0.000000000 |\n",
       "| 9 | 0.002994415 | 0.011536300 | 0.000000000 | 0.000541951 | 0.000000000 |\n",
       "| 10 | 0.000303758 | 0.002895742 | 0.000000000 | 0.000888971 | 0.000000000 |\n",
       "| 11 | 0.004739988 | 0.011400000 | 0.000000000 | 0.012963938 | 0.000082200 |\n",
       "| 12 | 0.000859999 | 0.004180000 | 0.000000000 | 0.000440698 | 0.000000000 |\n",
       "| 13 | 0.001795163 | 0.003165380 | 0.000113822 | 0.002203896 | 0.000000000 |\n",
       "| 14 | 0.003370242 | 0.003699897 | 0.000000000 | 0.003042212 | 0.000022300 |\n",
       "| 15 | 0.001475775 | 0.005550000 | 0.000000000 | 0.001720000 | 0.000000000 |\n",
       "| 26 | 0.004634800 | 0.008130000 | 0.000000000 | 0.000392000 | 0.000000000 |\n",
       "| 27 | 0.001145037 | 0.004120000 | 0.000000000 | 0.001280000 | 0.000000000 |\n",
       "| 28 | 0.009590847 | 0.017267594 | 0.000000000 | 0.004839455 | 0.000117151 |\n",
       "| 29 | 0.005949973 | 0.015005459 | 0.000230937 | 0.005398365 | 0.000000000 |\n",
       "| 30 | 0.000886040 | 0.003950000 | 0.000000000 | 0.001458761 | 0.000000000 |\n",
       "| 41 | 0.005294117 | 0.005468799 | 0.000127552 | 0.001634777 | 0.000000000 |\n",
       "| 42 | 0.002665173 | 0.007183264 | 0.000000000 | 0.001430000 | 0.000000000 |\n",
       "| 43 | 0.001145335 | 0.006015767 | 0.000024200 | 0.002506955 | 0.000000000 |\n",
       "| 44 | 0.012438866 | 0.014725690 | 0.000477354 | 0.001333816 | 0.000000000 |\n",
       "| 45 | 0.007629190 | 0.011840259 | 0.000000000 | 0.000989143 | 0.000000000 |\n",
       "| 56 | 0.002163037 | 0.004800000 | 0.000260710 | 0.001097633 | 0.000000000 |\n",
       "| 57 | 0.000407350 | 0.002230000 | 0.000000000 | 0.000786049 | 0.000000000 |\n",
       "| 58 | 0.005721820 | 0.008826802 | 0.000000000 | 0.000000000 | 0.000000000 |\n",
       "| 59 | 0.000956452 | 0.003134981 | 0.000040800 | 0.000112778 | 0.000000000 |\n",
       "| 60 | 0.000586962 | 0.004279801 | 0.000000000 | 0.001706468 | 0.000000000 |\n",
       "\n"
      ],
      "text/plain": [
       "   mass_400    mass_500    mass_600    mass_700    mass_800   \n",
       "1  0.000654335 0.003736275 0.000000000 0.000832270 0.000000000\n",
       "2  0.001902661 0.007220000 0.000000000 0.003141999 0.000000000\n",
       "3  0.005683259 0.006810000 0.000069000 0.010410065 0.000484937\n",
       "4  0.004470928 0.004333828 0.000201159 0.001951171 0.000000000\n",
       "5  0.000504340 0.002660000 0.000000000 0.000772434 0.000000000\n",
       "6  0.003767551 0.009470000 0.000000000 0.002650000 0.000000000\n",
       "7  0.001517949 0.011335882 0.000000000 0.005563492 0.000000000\n",
       "8  0.001959477 0.004740000 0.000112444 0.003329130 0.000000000\n",
       "9  0.002994415 0.011536300 0.000000000 0.000541951 0.000000000\n",
       "10 0.000303758 0.002895742 0.000000000 0.000888971 0.000000000\n",
       "11 0.004739988 0.011400000 0.000000000 0.012963938 0.000082200\n",
       "12 0.000859999 0.004180000 0.000000000 0.000440698 0.000000000\n",
       "13 0.001795163 0.003165380 0.000113822 0.002203896 0.000000000\n",
       "14 0.003370242 0.003699897 0.000000000 0.003042212 0.000022300\n",
       "15 0.001475775 0.005550000 0.000000000 0.001720000 0.000000000\n",
       "26 0.004634800 0.008130000 0.000000000 0.000392000 0.000000000\n",
       "27 0.001145037 0.004120000 0.000000000 0.001280000 0.000000000\n",
       "28 0.009590847 0.017267594 0.000000000 0.004839455 0.000117151\n",
       "29 0.005949973 0.015005459 0.000230937 0.005398365 0.000000000\n",
       "30 0.000886040 0.003950000 0.000000000 0.001458761 0.000000000\n",
       "41 0.005294117 0.005468799 0.000127552 0.001634777 0.000000000\n",
       "42 0.002665173 0.007183264 0.000000000 0.001430000 0.000000000\n",
       "43 0.001145335 0.006015767 0.000024200 0.002506955 0.000000000\n",
       "44 0.012438866 0.014725690 0.000477354 0.001333816 0.000000000\n",
       "45 0.007629190 0.011840259 0.000000000 0.000989143 0.000000000\n",
       "56 0.002163037 0.004800000 0.000260710 0.001097633 0.000000000\n",
       "57 0.000407350 0.002230000 0.000000000 0.000786049 0.000000000\n",
       "58 0.005721820 0.008826802 0.000000000 0.000000000 0.000000000\n",
       "59 0.000956452 0.003134981 0.000040800 0.000112778 0.000000000\n",
       "60 0.000586962 0.004279801 0.000000000 0.001706468 0.000000000"
      ]
     },
     "metadata": {},
     "output_type": "display_data"
    },
    {
     "data": {
      "text/html": [
       "<table>\n",
       "<thead><tr><th scope=col>filename</th><th scope=col>MouseID</th><th scope=col>Treatmentgroup</th><th scope=col>DPI</th><th scope=col>organ</th><th scope=col>well_position</th><th scope=col>plate</th><th scope=col>mass_400</th><th scope=col>mass_500</th><th scope=col>mass_600</th><th scope=col>mass_700</th><th scope=col>mass_800</th></tr></thead>\n",
       "<tbody>\n",
       "\t<tr><td>X511_Group1C_142dpi_RA_161_G_A1_P124.mzXML</td><td>511                                       </td><td>naive                                     </td><td>142dpi                                    </td><td>RA                                        </td><td>A1                                        </td><td>P124                                      </td><td>0.000654335                               </td><td>0.003736275                               </td><td>0.000000000                               </td><td>0.000832270                               </td><td>0.000000000                               </td></tr>\n",
       "\t<tr><td>X512_Group1C_142dpi_RA_162_G_A2_P124.mzXML</td><td>512                                       </td><td>naive                                     </td><td>142dpi                                    </td><td>RA                                        </td><td>A2                                        </td><td>P124                                      </td><td>0.001902661                               </td><td>0.007220000                               </td><td>0.000000000                               </td><td>0.003141999                               </td><td>0.000000000                               </td></tr>\n",
       "\t<tr><td>X513_Group1C_142dpi_RA_163_G_A3_P124.mzXML</td><td>513                                       </td><td>naive                                     </td><td>142dpi                                    </td><td>RA                                        </td><td>A3                                        </td><td>P124                                      </td><td>0.005683259                               </td><td>0.006810000                               </td><td>0.000069000                               </td><td>0.010410065                               </td><td>0.000484937                               </td></tr>\n",
       "\t<tr><td>X514_Group1C_142dpi_RA_164_G_A4_P124.mzXML</td><td>514                                       </td><td>naive                                     </td><td>142dpi                                    </td><td>RA                                        </td><td>A4                                        </td><td>P124                                      </td><td>0.004470928                               </td><td>0.004333828                               </td><td>0.000201159                               </td><td>0.001951171                               </td><td>0.000000000                               </td></tr>\n",
       "\t<tr><td>X515_Group1C_142dpi_RA_165_G_A5_P124.mzXML</td><td>515                                       </td><td>naive                                     </td><td>142dpi                                    </td><td>RA                                        </td><td>A5                                        </td><td>P124                                      </td><td>0.000504340                               </td><td>0.002660000                               </td><td>0.000000000                               </td><td>0.000772434                               </td><td>0.000000000                               </td></tr>\n",
       "\t<tr><td>X531_Group1C_142dpi_RA_166_G_A6_P124.mzXML</td><td>531                                       </td><td>naive                                     </td><td>142dpi                                    </td><td>RA                                        </td><td>A6                                        </td><td>P124                                      </td><td>0.003767551                               </td><td>0.009470000                               </td><td>0.000000000                               </td><td>0.002650000                               </td><td>0.000000000                               </td></tr>\n",
       "</tbody>\n",
       "</table>\n"
      ],
      "text/latex": [
       "\\begin{tabular}{r|llllllllllll}\n",
       " filename & MouseID & Treatmentgroup & DPI & organ & well\\_position & plate & mass\\_400 & mass\\_500 & mass\\_600 & mass\\_700 & mass\\_800\\\\\n",
       "\\hline\n",
       "\t X511\\_Group1C\\_142dpi\\_RA\\_161\\_G\\_A1\\_P124.mzXML & 511                                                      & naive                                                    & 142dpi                                                   & RA                                                       & A1                                                       & P124                                                     & 0.000654335                                              & 0.003736275                                              & 0.000000000                                              & 0.000832270                                              & 0.000000000                                             \\\\\n",
       "\t X512\\_Group1C\\_142dpi\\_RA\\_162\\_G\\_A2\\_P124.mzXML & 512                                                      & naive                                                    & 142dpi                                                   & RA                                                       & A2                                                       & P124                                                     & 0.001902661                                              & 0.007220000                                              & 0.000000000                                              & 0.003141999                                              & 0.000000000                                             \\\\\n",
       "\t X513\\_Group1C\\_142dpi\\_RA\\_163\\_G\\_A3\\_P124.mzXML & 513                                                      & naive                                                    & 142dpi                                                   & RA                                                       & A3                                                       & P124                                                     & 0.005683259                                              & 0.006810000                                              & 0.000069000                                              & 0.010410065                                              & 0.000484937                                             \\\\\n",
       "\t X514\\_Group1C\\_142dpi\\_RA\\_164\\_G\\_A4\\_P124.mzXML & 514                                                      & naive                                                    & 142dpi                                                   & RA                                                       & A4                                                       & P124                                                     & 0.004470928                                              & 0.004333828                                              & 0.000201159                                              & 0.001951171                                              & 0.000000000                                             \\\\\n",
       "\t X515\\_Group1C\\_142dpi\\_RA\\_165\\_G\\_A5\\_P124.mzXML & 515                                                      & naive                                                    & 142dpi                                                   & RA                                                       & A5                                                       & P124                                                     & 0.000504340                                              & 0.002660000                                              & 0.000000000                                              & 0.000772434                                              & 0.000000000                                             \\\\\n",
       "\t X531\\_Group1C\\_142dpi\\_RA\\_166\\_G\\_A6\\_P124.mzXML & 531                                                      & naive                                                    & 142dpi                                                   & RA                                                       & A6                                                       & P124                                                     & 0.003767551                                              & 0.009470000                                              & 0.000000000                                              & 0.002650000                                              & 0.000000000                                             \\\\\n",
       "\\end{tabular}\n"
      ],
      "text/markdown": [
       "\n",
       "| filename | MouseID | Treatmentgroup | DPI | organ | well_position | plate | mass_400 | mass_500 | mass_600 | mass_700 | mass_800 |\n",
       "|---|---|---|---|---|---|---|---|---|---|---|---|\n",
       "| X511_Group1C_142dpi_RA_161_G_A1_P124.mzXML | 511                                        | naive                                      | 142dpi                                     | RA                                         | A1                                         | P124                                       | 0.000654335                                | 0.003736275                                | 0.000000000                                | 0.000832270                                | 0.000000000                                |\n",
       "| X512_Group1C_142dpi_RA_162_G_A2_P124.mzXML | 512                                        | naive                                      | 142dpi                                     | RA                                         | A2                                         | P124                                       | 0.001902661                                | 0.007220000                                | 0.000000000                                | 0.003141999                                | 0.000000000                                |\n",
       "| X513_Group1C_142dpi_RA_163_G_A3_P124.mzXML | 513                                        | naive                                      | 142dpi                                     | RA                                         | A3                                         | P124                                       | 0.005683259                                | 0.006810000                                | 0.000069000                                | 0.010410065                                | 0.000484937                                |\n",
       "| X514_Group1C_142dpi_RA_164_G_A4_P124.mzXML | 514                                        | naive                                      | 142dpi                                     | RA                                         | A4                                         | P124                                       | 0.004470928                                | 0.004333828                                | 0.000201159                                | 0.001951171                                | 0.000000000                                |\n",
       "| X515_Group1C_142dpi_RA_165_G_A5_P124.mzXML | 515                                        | naive                                      | 142dpi                                     | RA                                         | A5                                         | P124                                       | 0.000504340                                | 0.002660000                                | 0.000000000                                | 0.000772434                                | 0.000000000                                |\n",
       "| X531_Group1C_142dpi_RA_166_G_A6_P124.mzXML | 531                                        | naive                                      | 142dpi                                     | RA                                         | A6                                         | P124                                       | 0.003767551                                | 0.009470000                                | 0.000000000                                | 0.002650000                                | 0.000000000                                |\n",
       "\n"
      ],
      "text/plain": [
       "  filename                                   MouseID Treatmentgroup DPI   \n",
       "1 X511_Group1C_142dpi_RA_161_G_A1_P124.mzXML 511     naive          142dpi\n",
       "2 X512_Group1C_142dpi_RA_162_G_A2_P124.mzXML 512     naive          142dpi\n",
       "3 X513_Group1C_142dpi_RA_163_G_A3_P124.mzXML 513     naive          142dpi\n",
       "4 X514_Group1C_142dpi_RA_164_G_A4_P124.mzXML 514     naive          142dpi\n",
       "5 X515_Group1C_142dpi_RA_165_G_A5_P124.mzXML 515     naive          142dpi\n",
       "6 X531_Group1C_142dpi_RA_166_G_A6_P124.mzXML 531     naive          142dpi\n",
       "  organ well_position plate mass_400    mass_500    mass_600    mass_700   \n",
       "1 RA    A1            P124  0.000654335 0.003736275 0.000000000 0.000832270\n",
       "2 RA    A2            P124  0.001902661 0.007220000 0.000000000 0.003141999\n",
       "3 RA    A3            P124  0.005683259 0.006810000 0.000069000 0.010410065\n",
       "4 RA    A4            P124  0.004470928 0.004333828 0.000201159 0.001951171\n",
       "5 RA    A5            P124  0.000504340 0.002660000 0.000000000 0.000772434\n",
       "6 RA    A6            P124  0.003767551 0.009470000 0.000000000 0.002650000\n",
       "  mass_800   \n",
       "1 0.000000000\n",
       "2 0.000000000\n",
       "3 0.000484937\n",
       "4 0.000000000\n",
       "5 0.000000000\n",
       "6 0.000000000"
      ]
     },
     "metadata": {},
     "output_type": "display_data"
    },
    {
     "data": {
      "text/html": [
       "<ol class=list-inline>\n",
       "\t<li>30</li>\n",
       "\t<li>12</li>\n",
       "</ol>\n"
      ],
      "text/latex": [
       "\\begin{enumerate*}\n",
       "\\item 30\n",
       "\\item 12\n",
       "\\end{enumerate*}\n"
      ],
      "text/markdown": [
       "1. 30\n",
       "2. 12\n",
       "\n",
       "\n"
      ],
      "text/plain": [
       "[1] 30 12"
      ]
     },
     "metadata": {},
     "output_type": "display_data"
    },
    {
     "data": {
      "text/html": [
       "<ol class=list-inline>\n",
       "\t<li>30</li>\n",
       "\t<li>5</li>\n",
       "</ol>\n"
      ],
      "text/latex": [
       "\\begin{enumerate*}\n",
       "\\item 30\n",
       "\\item 5\n",
       "\\end{enumerate*}\n"
      ],
      "text/markdown": [
       "1. 30\n",
       "2. 5\n",
       "\n",
       "\n"
      ],
      "text/plain": [
       "[1] 30  5"
      ]
     },
     "metadata": {},
     "output_type": "display_data"
    },
    {
     "data": {
      "text/html": [
       "<ol class=list-inline>\n",
       "\t<li>30</li>\n",
       "\t<li>5</li>\n",
       "</ol>\n"
      ],
      "text/latex": [
       "\\begin{enumerate*}\n",
       "\\item 30\n",
       "\\item 5\n",
       "\\end{enumerate*}\n"
      ],
      "text/markdown": [
       "1. 30\n",
       "2. 5\n",
       "\n",
       "\n"
      ],
      "text/plain": [
       "[1] 30  5"
      ]
     },
     "metadata": {},
     "output_type": "display_data"
    },
    {
     "data": {
      "text/html": [
       "<ol class=list-inline>\n",
       "\t<li>30</li>\n",
       "\t<li>12</li>\n",
       "</ol>\n"
      ],
      "text/latex": [
       "\\begin{enumerate*}\n",
       "\\item 30\n",
       "\\item 12\n",
       "\\end{enumerate*}\n"
      ],
      "text/markdown": [
       "1. 30\n",
       "2. 12\n",
       "\n",
       "\n"
      ],
      "text/plain": [
       "[1] 30 12"
      ]
     },
     "metadata": {},
     "output_type": "display_data"
    }
   ],
   "source": [
    "noMeta<-features_pos[,8:12]\n",
    "head(noMeta)\n",
    "not_zero<-which(colSums(noMeta) != 0)\n",
    "head(not_zero)\n",
    "nonzero <- noMeta[, not_zero] \n",
    "nonzero\n",
    "nonzero_wMeta<-cbind(features_pos[,1:7], nonzero)\n",
    "head(nonzero_wMeta)\n",
    "dim(features_pos)\n",
    "dim(noMeta)\n",
    "dim(nonzero)\n",
    "dim(nonzero_wMeta)"
   ]
  },
  {
   "cell_type": "code",
   "execution_count": 5,
   "metadata": {
    "scrolled": true
   },
   "outputs": [
    {
     "name": "stderr",
     "output_type": "stream",
     "text": [
      "Warning message in wilcox.test.default(x = c(0, 0, 0, 0.000230937, 0, 0.000127552, :\n",
      "\"cannot compute exact p-value with ties\"Warning message in wilcox.test.default(x = c(0, 0, 0.000117151, 0, 0, 0, 0, 0, 0, :\n",
      "\"cannot compute exact p-value with ties\""
     ]
    },
    {
     "data": {
      "text/html": [
       "<ol class=list-inline>\n",
       "\t<li>0.285440870895821</li>\n",
       "\t<li>0.366875192434742</li>\n",
       "\t<li>0.387018620217908</li>\n",
       "\t<li>0.126147401015694</li>\n",
       "\t<li>0.325821260421724</li>\n",
       "</ol>\n"
      ],
      "text/latex": [
       "\\begin{enumerate*}\n",
       "\\item 0.285440870895821\n",
       "\\item 0.366875192434742\n",
       "\\item 0.387018620217908\n",
       "\\item 0.126147401015694\n",
       "\\item 0.325821260421724\n",
       "\\end{enumerate*}\n"
      ],
      "text/markdown": [
       "1. 0.285440870895821\n",
       "2. 0.366875192434742\n",
       "3. 0.387018620217908\n",
       "4. 0.126147401015694\n",
       "5. 0.325821260421724\n",
       "\n",
       "\n"
      ],
      "text/plain": [
       "[1] 0.2854409 0.3668752 0.3870186 0.1261474 0.3258213"
      ]
     },
     "metadata": {},
     "output_type": "display_data"
    },
    {
     "data": {
      "text/html": [
       "<ol class=list-inline>\n",
       "\t<li>0.387018620217908</li>\n",
       "\t<li>0.387018620217908</li>\n",
       "\t<li>0.387018620217908</li>\n",
       "\t<li>0.387018620217908</li>\n",
       "\t<li>0.387018620217908</li>\n",
       "</ol>\n"
      ],
      "text/latex": [
       "\\begin{enumerate*}\n",
       "\\item 0.387018620217908\n",
       "\\item 0.387018620217908\n",
       "\\item 0.387018620217908\n",
       "\\item 0.387018620217908\n",
       "\\item 0.387018620217908\n",
       "\\end{enumerate*}\n"
      ],
      "text/markdown": [
       "1. 0.387018620217908\n",
       "2. 0.387018620217908\n",
       "3. 0.387018620217908\n",
       "4. 0.387018620217908\n",
       "5. 0.387018620217908\n",
       "\n",
       "\n"
      ],
      "text/plain": [
       "[1] 0.3870186 0.3870186 0.3870186 0.3870186 0.3870186"
      ]
     },
     "metadata": {},
     "output_type": "display_data"
    }
   ],
   "source": [
    "pval<-c()\n",
    "\n",
    "for (i in 8:ncol(nonzero_wMeta)) \n",
    "pval<-c(pval,wilcox.test(nonzero_wMeta[,i]~nonzero_wMeta$Treatmentgroup)$p.value)\n",
    "head(pval)\n",
    "pAdj <- p.adjust(pval, method = c(\"fdr\"), n=length(pval)) \n",
    "head(pAdj) \n",
    "\n"
   ]
  },
  {
   "cell_type": "code",
   "execution_count": 6,
   "metadata": {
    "scrolled": true
   },
   "outputs": [
    {
     "data": {
      "text/html": [
       "5"
      ],
      "text/latex": [
       "5"
      ],
      "text/markdown": [
       "5"
      ],
      "text/plain": [
       "[1] 5"
      ]
     },
     "metadata": {},
     "output_type": "display_data"
    }
   ],
   "source": [
    "length(pval)"
   ]
  },
  {
   "cell_type": "code",
   "execution_count": 7,
   "metadata": {
    "scrolled": true
   },
   "outputs": [
    {
     "data": {
      "text/html": [
       "5"
      ],
      "text/latex": [
       "5"
      ],
      "text/markdown": [
       "5"
      ],
      "text/plain": [
       "[1] 5"
      ]
     },
     "metadata": {},
     "output_type": "display_data"
    }
   ],
   "source": [
    "length(pAdj)"
   ]
  },
  {
   "cell_type": "code",
   "execution_count": 8,
   "metadata": {},
   "outputs": [
    {
     "data": {
      "text/html": [
       "<ol class=list-inline>\n",
       "\t<li>2</li>\n",
       "\t<li>5</li>\n",
       "</ol>\n"
      ],
      "text/latex": [
       "\\begin{enumerate*}\n",
       "\\item 2\n",
       "\\item 5\n",
       "\\end{enumerate*}\n"
      ],
      "text/markdown": [
       "1. 2\n",
       "2. 5\n",
       "\n",
       "\n"
      ],
      "text/plain": [
       "[1] 2 5"
      ]
     },
     "metadata": {},
     "output_type": "display_data"
    },
    {
     "data": {
      "text/html": [
       "<table>\n",
       "<thead><tr><th></th><th scope=col>mass_400</th><th scope=col>mass_500</th><th scope=col>mass_600</th></tr></thead>\n",
       "<tbody>\n",
       "\t<tr><th scope=row>BNZ</th><td>0.004081000 </td><td>0.007798561 </td><td>7.743687e-05</td></tr>\n",
       "\t<tr><th scope=row>naive</th><td>0.002399989 </td><td>0.006182220 </td><td>3.309500e-05</td></tr>\n",
       "</tbody>\n",
       "</table>\n"
      ],
      "text/latex": [
       "\\begin{tabular}{r|lll}\n",
       "  & mass\\_400 & mass\\_500 & mass\\_600\\\\\n",
       "\\hline\n",
       "\tBNZ & 0.004081000  & 0.007798561  & 7.743687e-05\\\\\n",
       "\tnaive & 0.002399989  & 0.006182220  & 3.309500e-05\\\\\n",
       "\\end{tabular}\n"
      ],
      "text/markdown": [
       "\n",
       "| <!--/--> | mass_400 | mass_500 | mass_600 |\n",
       "|---|---|---|---|\n",
       "| BNZ | 0.004081000  | 0.007798561  | 7.743687e-05 |\n",
       "| naive | 0.002399989  | 0.006182220  | 3.309500e-05 |\n",
       "\n"
      ],
      "text/plain": [
       "      mass_400    mass_500    mass_600    \n",
       "BNZ   0.004081000 0.007798561 7.743687e-05\n",
       "naive 0.002399989 0.006182220 3.309500e-05"
      ]
     },
     "metadata": {},
     "output_type": "display_data"
    },
    {
     "data": {
      "text/html": [
       "<dl class=dl-horizontal>\n",
       "\t<dt>mass_400</dt>\n",
       "\t\t<dd>1.70042419632976</dd>\n",
       "\t<dt>mass_500</dt>\n",
       "\t\t<dd>1.26144988859666</dd>\n",
       "\t<dt>mass_600</dt>\n",
       "\t\t<dd>2.33983582615702</dd>\n",
       "\t<dt>mass_700</dt>\n",
       "\t\t<dd>0.494848324534812</dd>\n",
       "\t<dt>mass_800</dt>\n",
       "\t\t<dd>0.198750672251657</dd>\n",
       "</dl>\n"
      ],
      "text/latex": [
       "\\begin{description*}\n",
       "\\item[mass\\textbackslash{}\\_400] 1.70042419632976\n",
       "\\item[mass\\textbackslash{}\\_500] 1.26144988859666\n",
       "\\item[mass\\textbackslash{}\\_600] 2.33983582615702\n",
       "\\item[mass\\textbackslash{}\\_700] 0.494848324534812\n",
       "\\item[mass\\textbackslash{}\\_800] 0.198750672251657\n",
       "\\end{description*}\n"
      ],
      "text/markdown": [
       "mass_400\n",
       ":   1.70042419632976mass_500\n",
       ":   1.26144988859666mass_600\n",
       ":   2.33983582615702mass_700\n",
       ":   0.494848324534812mass_800\n",
       ":   0.198750672251657\n",
       "\n"
      ],
      "text/plain": [
       " mass_400  mass_500  mass_600  mass_700  mass_800 \n",
       "1.7004242 1.2614499 2.3398358 0.4948483 0.1987507 "
      ]
     },
     "metadata": {},
     "output_type": "display_data"
    },
    {
     "data": {
      "text/html": [
       "<ol class=list-inline>\n",
       "\t<li>'numeric'</li>\n",
       "\t<li>'vector'</li>\n",
       "</ol>\n"
      ],
      "text/latex": [
       "\\begin{enumerate*}\n",
       "\\item 'numeric'\n",
       "\\item 'vector'\n",
       "\\end{enumerate*}\n"
      ],
      "text/markdown": [
       "1. 'numeric'\n",
       "2. 'vector'\n",
       "\n",
       "\n"
      ],
      "text/plain": [
       "[1] \"numeric\" \"vector\" "
      ]
     },
     "metadata": {},
     "output_type": "display_data"
    }
   ],
   "source": [
    "avg<- apply(nonzero_wMeta[,8:ncol(nonzero_wMeta)], 2, function(x) tapply(x, nonzero_wMeta$Treatmentgroup, function(x) mean(x))) \n",
    "\n",
    "dim(avg)\n",
    "\n",
    "avg[,1:3]\n",
    "\n",
    "fch <- apply(avg, 2, function(x) x[1]/x[2])\n",
    "\n",
    "head(fch)\n",
    "is(fch)"
   ]
  },
  {
   "cell_type": "code",
   "execution_count": 9,
   "metadata": {
    "scrolled": true
   },
   "outputs": [
    {
     "data": {
      "text/html": [
       "<dl class=dl-horizontal>\n",
       "\t<dt>mass_400</dt>\n",
       "\t\t<dd>1.70042419632976</dd>\n",
       "\t<dt>mass_500</dt>\n",
       "\t\t<dd>1.26144988859666</dd>\n",
       "\t<dt>mass_600</dt>\n",
       "\t\t<dd>2.33983582615702</dd>\n",
       "\t<dt>mass_700</dt>\n",
       "\t\t<dd>0.494848324534812</dd>\n",
       "\t<dt>mass_800</dt>\n",
       "\t\t<dd>0.198750672251657</dd>\n",
       "</dl>\n"
      ],
      "text/latex": [
       "\\begin{description*}\n",
       "\\item[mass\\textbackslash{}\\_400] 1.70042419632976\n",
       "\\item[mass\\textbackslash{}\\_500] 1.26144988859666\n",
       "\\item[mass\\textbackslash{}\\_600] 2.33983582615702\n",
       "\\item[mass\\textbackslash{}\\_700] 0.494848324534812\n",
       "\\item[mass\\textbackslash{}\\_800] 0.198750672251657\n",
       "\\end{description*}\n"
      ],
      "text/markdown": [
       "mass_400\n",
       ":   1.70042419632976mass_500\n",
       ":   1.26144988859666mass_600\n",
       ":   2.33983582615702mass_700\n",
       ":   0.494848324534812mass_800\n",
       ":   0.198750672251657\n",
       "\n"
      ],
      "text/plain": [
       " mass_400  mass_500  mass_600  mass_700  mass_800 \n",
       "1.7004242 1.2614499 2.3398358 0.4948483 0.1987507 "
      ]
     },
     "metadata": {},
     "output_type": "display_data"
    }
   ],
   "source": [
    "fch"
   ]
  },
  {
   "cell_type": "code",
   "execution_count": 10,
   "metadata": {
    "scrolled": false
   },
   "outputs": [],
   "source": [
    "df <- data.frame(fch,pval, pAdj)\n",
    "write.csv(df, \"PE-treat-RA-wilcox-naive-BNZ.csv\")"
   ]
  },
  {
   "cell_type": "code",
   "execution_count": null,
   "metadata": {},
   "outputs": [],
   "source": []
  },
  {
   "cell_type": "code",
   "execution_count": null,
   "metadata": {},
   "outputs": [],
   "source": []
  },
  {
   "cell_type": "code",
   "execution_count": null,
   "metadata": {},
   "outputs": [],
   "source": []
  },
  {
   "cell_type": "code",
   "execution_count": null,
   "metadata": {},
   "outputs": [],
   "source": []
  },
  {
   "cell_type": "code",
   "execution_count": null,
   "metadata": {},
   "outputs": [],
   "source": []
  },
  {
   "cell_type": "code",
   "execution_count": null,
   "metadata": {},
   "outputs": [],
   "source": []
  }
 ],
 "metadata": {
  "kernelspec": {
   "display_name": "R",
   "language": "R",
   "name": "ir"
  },
  "language_info": {
   "codemirror_mode": "r",
   "file_extension": ".r",
   "mimetype": "text/x-r-source",
   "name": "R",
   "pygments_lexer": "r",
   "version": "3.6.1"
  }
 },
 "nbformat": 4,
 "nbformat_minor": 2
}
