{
 "cells": [
  {
   "cell_type": "code",
   "execution_count": 1,
   "metadata": {},
   "outputs": [],
   "source": [
    "a <- read.csv(\"03172021-PE-time-RVT-M-F.csv\")"
   ]
  },
  {
   "cell_type": "code",
   "execution_count": 2,
   "metadata": {},
   "outputs": [
    {
     "data": {
      "text/html": [
       "<table>\n",
       "<thead><tr><th scope=col>filename</th><th scope=col>MouseID</th><th scope=col>Treatmentgroup</th><th scope=col>status</th><th scope=col>DPI</th><th scope=col>organ</th><th scope=col>well_position</th><th scope=col>plate</th><th scope=col>mass_400</th><th scope=col>mass_500</th><th scope=col>mass_600</th><th scope=col>mass_700</th><th scope=col>mass_800</th></tr></thead>\n",
       "<tbody>\n",
       "\t<tr><td>X501_Group1A_50dpi_RV_top_251_B_A1_P137.mzXML</td><td>501                                          </td><td>Group1A                                      </td><td>naive                                        </td><td>50dpi                                        </td><td>RV_top                                       </td><td>A1                                           </td><td>P137                                         </td><td>0.000689227                                  </td><td>0.003880256                                  </td><td>0.000000000                                  </td><td>0.000000000                                  </td><td>0                                            </td></tr>\n",
       "\t<tr><td>X502_Group1A_50dpi_RV_top_252_B_A2_P137.mzXML</td><td>502                                          </td><td>Group1A                                      </td><td>naive                                        </td><td>50dpi                                        </td><td>RV_top                                       </td><td>A2                                           </td><td>P137                                         </td><td>0.001208015                                  </td><td>0.005265772                                  </td><td>0.000110198                                  </td><td>0.000000000                                  </td><td>0                                            </td></tr>\n",
       "\t<tr><td>X503_Group1A_50dpi_RV_top_253_B_A3_P137.mzXML</td><td>503                                          </td><td>Group1A                                      </td><td>naive                                        </td><td>50dpi                                        </td><td>RV_top                                       </td><td>A3                                           </td><td>P137                                         </td><td>0.000999221                                  </td><td>0.005218108                                  </td><td>0.000000000                                  </td><td>0.000706719                                  </td><td>0                                            </td></tr>\n",
       "\t<tr><td>X504_Group1A_50dpi_RV_top_254_B_A4_P137.mzXML</td><td>504                                          </td><td>Group1A                                      </td><td>naive                                        </td><td>50dpi                                        </td><td>RV_top                                       </td><td>A4                                           </td><td>P137                                         </td><td>0.001044375                                  </td><td>0.003351871                                  </td><td>0.000278093                                  </td><td>0.000000000                                  </td><td>0                                            </td></tr>\n",
       "\t<tr><td>X505_Group1A_50dpi_RV_top_255_B_A5_P137.mzXML</td><td>505                                          </td><td>Group1A                                      </td><td>naive                                        </td><td>50dpi                                        </td><td>RV_top                                       </td><td>A5                                           </td><td>P137                                         </td><td>0.001161190                                  </td><td>0.003870088                                  </td><td>0.000051500                                  </td><td>0.000000000                                  </td><td>0                                            </td></tr>\n",
       "\t<tr><td>X521_Group1A_50dpi_RV_top_256_B_A6_P137.mzXML</td><td>521                                          </td><td>Group1A                                      </td><td>naive                                        </td><td>50dpi                                        </td><td>RV_top                                       </td><td>A6                                           </td><td>P137                                         </td><td>0.000810124                                  </td><td>0.001880512                                  </td><td>0.000000000                                  </td><td>0.000214414                                  </td><td>0                                            </td></tr>\n",
       "</tbody>\n",
       "</table>\n"
      ],
      "text/latex": [
       "\\begin{tabular}{r|lllllllllllll}\n",
       " filename & MouseID & Treatmentgroup & status & DPI & organ & well\\_position & plate & mass\\_400 & mass\\_500 & mass\\_600 & mass\\_700 & mass\\_800\\\\\n",
       "\\hline\n",
       "\t X501\\_Group1A\\_50dpi\\_RV\\_top\\_251\\_B\\_A1\\_P137.mzXML & 501                                                           & Group1A                                                       & naive                                                         & 50dpi                                                         & RV\\_top                                                      & A1                                                            & P137                                                          & 0.000689227                                                   & 0.003880256                                                   & 0.000000000                                                   & 0.000000000                                                   & 0                                                            \\\\\n",
       "\t X502\\_Group1A\\_50dpi\\_RV\\_top\\_252\\_B\\_A2\\_P137.mzXML & 502                                                           & Group1A                                                       & naive                                                         & 50dpi                                                         & RV\\_top                                                      & A2                                                            & P137                                                          & 0.001208015                                                   & 0.005265772                                                   & 0.000110198                                                   & 0.000000000                                                   & 0                                                            \\\\\n",
       "\t X503\\_Group1A\\_50dpi\\_RV\\_top\\_253\\_B\\_A3\\_P137.mzXML & 503                                                           & Group1A                                                       & naive                                                         & 50dpi                                                         & RV\\_top                                                      & A3                                                            & P137                                                          & 0.000999221                                                   & 0.005218108                                                   & 0.000000000                                                   & 0.000706719                                                   & 0                                                            \\\\\n",
       "\t X504\\_Group1A\\_50dpi\\_RV\\_top\\_254\\_B\\_A4\\_P137.mzXML & 504                                                           & Group1A                                                       & naive                                                         & 50dpi                                                         & RV\\_top                                                      & A4                                                            & P137                                                          & 0.001044375                                                   & 0.003351871                                                   & 0.000278093                                                   & 0.000000000                                                   & 0                                                            \\\\\n",
       "\t X505\\_Group1A\\_50dpi\\_RV\\_top\\_255\\_B\\_A5\\_P137.mzXML & 505                                                           & Group1A                                                       & naive                                                         & 50dpi                                                         & RV\\_top                                                      & A5                                                            & P137                                                          & 0.001161190                                                   & 0.003870088                                                   & 0.000051500                                                   & 0.000000000                                                   & 0                                                            \\\\\n",
       "\t X521\\_Group1A\\_50dpi\\_RV\\_top\\_256\\_B\\_A6\\_P137.mzXML & 521                                                           & Group1A                                                       & naive                                                         & 50dpi                                                         & RV\\_top                                                      & A6                                                            & P137                                                          & 0.000810124                                                   & 0.001880512                                                   & 0.000000000                                                   & 0.000214414                                                   & 0                                                            \\\\\n",
       "\\end{tabular}\n"
      ],
      "text/markdown": [
       "\n",
       "| filename | MouseID | Treatmentgroup | status | DPI | organ | well_position | plate | mass_400 | mass_500 | mass_600 | mass_700 | mass_800 |\n",
       "|---|---|---|---|---|---|---|---|---|---|---|---|---|\n",
       "| X501_Group1A_50dpi_RV_top_251_B_A1_P137.mzXML | 501                                           | Group1A                                       | naive                                         | 50dpi                                         | RV_top                                        | A1                                            | P137                                          | 0.000689227                                   | 0.003880256                                   | 0.000000000                                   | 0.000000000                                   | 0                                             |\n",
       "| X502_Group1A_50dpi_RV_top_252_B_A2_P137.mzXML | 502                                           | Group1A                                       | naive                                         | 50dpi                                         | RV_top                                        | A2                                            | P137                                          | 0.001208015                                   | 0.005265772                                   | 0.000110198                                   | 0.000000000                                   | 0                                             |\n",
       "| X503_Group1A_50dpi_RV_top_253_B_A3_P137.mzXML | 503                                           | Group1A                                       | naive                                         | 50dpi                                         | RV_top                                        | A3                                            | P137                                          | 0.000999221                                   | 0.005218108                                   | 0.000000000                                   | 0.000706719                                   | 0                                             |\n",
       "| X504_Group1A_50dpi_RV_top_254_B_A4_P137.mzXML | 504                                           | Group1A                                       | naive                                         | 50dpi                                         | RV_top                                        | A4                                            | P137                                          | 0.001044375                                   | 0.003351871                                   | 0.000278093                                   | 0.000000000                                   | 0                                             |\n",
       "| X505_Group1A_50dpi_RV_top_255_B_A5_P137.mzXML | 505                                           | Group1A                                       | naive                                         | 50dpi                                         | RV_top                                        | A5                                            | P137                                          | 0.001161190                                   | 0.003870088                                   | 0.000051500                                   | 0.000000000                                   | 0                                             |\n",
       "| X521_Group1A_50dpi_RV_top_256_B_A6_P137.mzXML | 521                                           | Group1A                                       | naive                                         | 50dpi                                         | RV_top                                        | A6                                            | P137                                          | 0.000810124                                   | 0.001880512                                   | 0.000000000                                   | 0.000214414                                   | 0                                             |\n",
       "\n"
      ],
      "text/plain": [
       "  filename                                      MouseID Treatmentgroup status\n",
       "1 X501_Group1A_50dpi_RV_top_251_B_A1_P137.mzXML 501     Group1A        naive \n",
       "2 X502_Group1A_50dpi_RV_top_252_B_A2_P137.mzXML 502     Group1A        naive \n",
       "3 X503_Group1A_50dpi_RV_top_253_B_A3_P137.mzXML 503     Group1A        naive \n",
       "4 X504_Group1A_50dpi_RV_top_254_B_A4_P137.mzXML 504     Group1A        naive \n",
       "5 X505_Group1A_50dpi_RV_top_255_B_A5_P137.mzXML 505     Group1A        naive \n",
       "6 X521_Group1A_50dpi_RV_top_256_B_A6_P137.mzXML 521     Group1A        naive \n",
       "  DPI   organ  well_position plate mass_400    mass_500    mass_600   \n",
       "1 50dpi RV_top A1            P137  0.000689227 0.003880256 0.000000000\n",
       "2 50dpi RV_top A2            P137  0.001208015 0.005265772 0.000110198\n",
       "3 50dpi RV_top A3            P137  0.000999221 0.005218108 0.000000000\n",
       "4 50dpi RV_top A4            P137  0.001044375 0.003351871 0.000278093\n",
       "5 50dpi RV_top A5            P137  0.001161190 0.003870088 0.000051500\n",
       "6 50dpi RV_top A6            P137  0.000810124 0.001880512 0.000000000\n",
       "  mass_700    mass_800\n",
       "1 0.000000000 0       \n",
       "2 0.000000000 0       \n",
       "3 0.000706719 0       \n",
       "4 0.000000000 0       \n",
       "5 0.000000000 0       \n",
       "6 0.000214414 0       "
      ]
     },
     "metadata": {},
     "output_type": "display_data"
    },
    {
     "data": {
      "text/html": [
       "<ol class=list-inline>\n",
       "\t<li>90</li>\n",
       "\t<li>13</li>\n",
       "</ol>\n"
      ],
      "text/latex": [
       "\\begin{enumerate*}\n",
       "\\item 90\n",
       "\\item 13\n",
       "\\end{enumerate*}\n"
      ],
      "text/markdown": [
       "1. 90\n",
       "2. 13\n",
       "\n",
       "\n"
      ],
      "text/plain": [
       "[1] 90 13"
      ]
     },
     "metadata": {},
     "output_type": "display_data"
    }
   ],
   "source": [
    "head(a)\n",
    "dim(a)"
   ]
  },
  {
   "cell_type": "code",
   "execution_count": 3,
   "metadata": {},
   "outputs": [
    {
     "data": {
      "text/html": [
       "<table>\n",
       "<thead><tr><th scope=col>filename</th><th scope=col>MouseID</th><th scope=col>Treatmentgroup</th><th scope=col>status</th><th scope=col>DPI</th><th scope=col>organ</th><th scope=col>well_position</th><th scope=col>plate</th><th scope=col>mass_400</th><th scope=col>mass_500</th><th scope=col>mass_600</th><th scope=col>mass_700</th><th scope=col>mass_800</th></tr></thead>\n",
       "<tbody>\n",
       "\t<tr><td>X501_Group1A_50dpi_RV_top_251_B_A1_P137.mzXML</td><td>501                                          </td><td>Group1A                                      </td><td>naive                                        </td><td>50dpi                                        </td><td>RV_top                                       </td><td>A1                                           </td><td>P137                                         </td><td>0.000689227                                  </td><td>0.003880256                                  </td><td>0.000000000                                  </td><td>0.000000000                                  </td><td>0                                            </td></tr>\n",
       "\t<tr><td>X502_Group1A_50dpi_RV_top_252_B_A2_P137.mzXML</td><td>502                                          </td><td>Group1A                                      </td><td>naive                                        </td><td>50dpi                                        </td><td>RV_top                                       </td><td>A2                                           </td><td>P137                                         </td><td>0.001208015                                  </td><td>0.005265772                                  </td><td>0.000110198                                  </td><td>0.000000000                                  </td><td>0                                            </td></tr>\n",
       "\t<tr><td>X503_Group1A_50dpi_RV_top_253_B_A3_P137.mzXML</td><td>503                                          </td><td>Group1A                                      </td><td>naive                                        </td><td>50dpi                                        </td><td>RV_top                                       </td><td>A3                                           </td><td>P137                                         </td><td>0.000999221                                  </td><td>0.005218108                                  </td><td>0.000000000                                  </td><td>0.000706719                                  </td><td>0                                            </td></tr>\n",
       "\t<tr><td>X504_Group1A_50dpi_RV_top_254_B_A4_P137.mzXML</td><td>504                                          </td><td>Group1A                                      </td><td>naive                                        </td><td>50dpi                                        </td><td>RV_top                                       </td><td>A4                                           </td><td>P137                                         </td><td>0.001044375                                  </td><td>0.003351871                                  </td><td>0.000278093                                  </td><td>0.000000000                                  </td><td>0                                            </td></tr>\n",
       "\t<tr><td>X505_Group1A_50dpi_RV_top_255_B_A5_P137.mzXML</td><td>505                                          </td><td>Group1A                                      </td><td>naive                                        </td><td>50dpi                                        </td><td>RV_top                                       </td><td>A5                                           </td><td>P137                                         </td><td>0.001161190                                  </td><td>0.003870088                                  </td><td>0.000051500                                  </td><td>0.000000000                                  </td><td>0                                            </td></tr>\n",
       "\t<tr><td>X521_Group1A_50dpi_RV_top_256_B_A6_P137.mzXML</td><td>521                                          </td><td>Group1A                                      </td><td>naive                                        </td><td>50dpi                                        </td><td>RV_top                                       </td><td>A6                                           </td><td>P137                                         </td><td>0.000810124                                  </td><td>0.001880512                                  </td><td>0.000000000                                  </td><td>0.000214414                                  </td><td>0                                            </td></tr>\n",
       "</tbody>\n",
       "</table>\n"
      ],
      "text/latex": [
       "\\begin{tabular}{r|lllllllllllll}\n",
       " filename & MouseID & Treatmentgroup & status & DPI & organ & well\\_position & plate & mass\\_400 & mass\\_500 & mass\\_600 & mass\\_700 & mass\\_800\\\\\n",
       "\\hline\n",
       "\t X501\\_Group1A\\_50dpi\\_RV\\_top\\_251\\_B\\_A1\\_P137.mzXML & 501                                                           & Group1A                                                       & naive                                                         & 50dpi                                                         & RV\\_top                                                      & A1                                                            & P137                                                          & 0.000689227                                                   & 0.003880256                                                   & 0.000000000                                                   & 0.000000000                                                   & 0                                                            \\\\\n",
       "\t X502\\_Group1A\\_50dpi\\_RV\\_top\\_252\\_B\\_A2\\_P137.mzXML & 502                                                           & Group1A                                                       & naive                                                         & 50dpi                                                         & RV\\_top                                                      & A2                                                            & P137                                                          & 0.001208015                                                   & 0.005265772                                                   & 0.000110198                                                   & 0.000000000                                                   & 0                                                            \\\\\n",
       "\t X503\\_Group1A\\_50dpi\\_RV\\_top\\_253\\_B\\_A3\\_P137.mzXML & 503                                                           & Group1A                                                       & naive                                                         & 50dpi                                                         & RV\\_top                                                      & A3                                                            & P137                                                          & 0.000999221                                                   & 0.005218108                                                   & 0.000000000                                                   & 0.000706719                                                   & 0                                                            \\\\\n",
       "\t X504\\_Group1A\\_50dpi\\_RV\\_top\\_254\\_B\\_A4\\_P137.mzXML & 504                                                           & Group1A                                                       & naive                                                         & 50dpi                                                         & RV\\_top                                                      & A4                                                            & P137                                                          & 0.001044375                                                   & 0.003351871                                                   & 0.000278093                                                   & 0.000000000                                                   & 0                                                            \\\\\n",
       "\t X505\\_Group1A\\_50dpi\\_RV\\_top\\_255\\_B\\_A5\\_P137.mzXML & 505                                                           & Group1A                                                       & naive                                                         & 50dpi                                                         & RV\\_top                                                      & A5                                                            & P137                                                          & 0.001161190                                                   & 0.003870088                                                   & 0.000051500                                                   & 0.000000000                                                   & 0                                                            \\\\\n",
       "\t X521\\_Group1A\\_50dpi\\_RV\\_top\\_256\\_B\\_A6\\_P137.mzXML & 521                                                           & Group1A                                                       & naive                                                         & 50dpi                                                         & RV\\_top                                                      & A6                                                            & P137                                                          & 0.000810124                                                   & 0.001880512                                                   & 0.000000000                                                   & 0.000214414                                                   & 0                                                            \\\\\n",
       "\\end{tabular}\n"
      ],
      "text/markdown": [
       "\n",
       "| filename | MouseID | Treatmentgroup | status | DPI | organ | well_position | plate | mass_400 | mass_500 | mass_600 | mass_700 | mass_800 |\n",
       "|---|---|---|---|---|---|---|---|---|---|---|---|---|\n",
       "| X501_Group1A_50dpi_RV_top_251_B_A1_P137.mzXML | 501                                           | Group1A                                       | naive                                         | 50dpi                                         | RV_top                                        | A1                                            | P137                                          | 0.000689227                                   | 0.003880256                                   | 0.000000000                                   | 0.000000000                                   | 0                                             |\n",
       "| X502_Group1A_50dpi_RV_top_252_B_A2_P137.mzXML | 502                                           | Group1A                                       | naive                                         | 50dpi                                         | RV_top                                        | A2                                            | P137                                          | 0.001208015                                   | 0.005265772                                   | 0.000110198                                   | 0.000000000                                   | 0                                             |\n",
       "| X503_Group1A_50dpi_RV_top_253_B_A3_P137.mzXML | 503                                           | Group1A                                       | naive                                         | 50dpi                                         | RV_top                                        | A3                                            | P137                                          | 0.000999221                                   | 0.005218108                                   | 0.000000000                                   | 0.000706719                                   | 0                                             |\n",
       "| X504_Group1A_50dpi_RV_top_254_B_A4_P137.mzXML | 504                                           | Group1A                                       | naive                                         | 50dpi                                         | RV_top                                        | A4                                            | P137                                          | 0.001044375                                   | 0.003351871                                   | 0.000278093                                   | 0.000000000                                   | 0                                             |\n",
       "| X505_Group1A_50dpi_RV_top_255_B_A5_P137.mzXML | 505                                           | Group1A                                       | naive                                         | 50dpi                                         | RV_top                                        | A5                                            | P137                                          | 0.001161190                                   | 0.003870088                                   | 0.000051500                                   | 0.000000000                                   | 0                                             |\n",
       "| X521_Group1A_50dpi_RV_top_256_B_A6_P137.mzXML | 521                                           | Group1A                                       | naive                                         | 50dpi                                         | RV_top                                        | A6                                            | P137                                          | 0.000810124                                   | 0.001880512                                   | 0.000000000                                   | 0.000214414                                   | 0                                             |\n",
       "\n"
      ],
      "text/plain": [
       "  filename                                      MouseID Treatmentgroup status\n",
       "1 X501_Group1A_50dpi_RV_top_251_B_A1_P137.mzXML 501     Group1A        naive \n",
       "2 X502_Group1A_50dpi_RV_top_252_B_A2_P137.mzXML 502     Group1A        naive \n",
       "3 X503_Group1A_50dpi_RV_top_253_B_A3_P137.mzXML 503     Group1A        naive \n",
       "4 X504_Group1A_50dpi_RV_top_254_B_A4_P137.mzXML 504     Group1A        naive \n",
       "5 X505_Group1A_50dpi_RV_top_255_B_A5_P137.mzXML 505     Group1A        naive \n",
       "6 X521_Group1A_50dpi_RV_top_256_B_A6_P137.mzXML 521     Group1A        naive \n",
       "  DPI   organ  well_position plate mass_400    mass_500    mass_600   \n",
       "1 50dpi RV_top A1            P137  0.000689227 0.003880256 0.000000000\n",
       "2 50dpi RV_top A2            P137  0.001208015 0.005265772 0.000110198\n",
       "3 50dpi RV_top A3            P137  0.000999221 0.005218108 0.000000000\n",
       "4 50dpi RV_top A4            P137  0.001044375 0.003351871 0.000278093\n",
       "5 50dpi RV_top A5            P137  0.001161190 0.003870088 0.000051500\n",
       "6 50dpi RV_top A6            P137  0.000810124 0.001880512 0.000000000\n",
       "  mass_700    mass_800\n",
       "1 0.000000000 0       \n",
       "2 0.000000000 0       \n",
       "3 0.000706719 0       \n",
       "4 0.000000000 0       \n",
       "5 0.000000000 0       \n",
       "6 0.000214414 0       "
      ]
     },
     "metadata": {},
     "output_type": "display_data"
    },
    {
     "data": {
      "text/html": [
       "<ol class=list-inline>\n",
       "\t<li>30</li>\n",
       "\t<li>13</li>\n",
       "</ol>\n"
      ],
      "text/latex": [
       "\\begin{enumerate*}\n",
       "\\item 30\n",
       "\\item 13\n",
       "\\end{enumerate*}\n"
      ],
      "text/markdown": [
       "1. 30\n",
       "2. 13\n",
       "\n",
       "\n"
      ],
      "text/plain": [
       "[1] 30 13"
      ]
     },
     "metadata": {},
     "output_type": "display_data"
    }
   ],
   "source": [
    "features_pos<-droplevels(subset(a, a$Treatmentgroup==c(\"Group1A\")|a$Treatmentgroup==c(\"Group3A\")))\n",
    "head(features_pos)\n",
    "dim(features_pos)"
   ]
  },
  {
   "cell_type": "code",
   "execution_count": 4,
   "metadata": {
    "scrolled": false
   },
   "outputs": [
    {
     "data": {
      "text/html": [
       "<table>\n",
       "<thead><tr><th scope=col>mass_400</th><th scope=col>mass_500</th><th scope=col>mass_600</th><th scope=col>mass_700</th><th scope=col>mass_800</th></tr></thead>\n",
       "<tbody>\n",
       "\t<tr><td>0.000689227</td><td>0.003880256</td><td>0.000000000</td><td>0.000000000</td><td>0          </td></tr>\n",
       "\t<tr><td>0.001208015</td><td>0.005265772</td><td>0.000110198</td><td>0.000000000</td><td>0          </td></tr>\n",
       "\t<tr><td>0.000999221</td><td>0.005218108</td><td>0.000000000</td><td>0.000706719</td><td>0          </td></tr>\n",
       "\t<tr><td>0.001044375</td><td>0.003351871</td><td>0.000278093</td><td>0.000000000</td><td>0          </td></tr>\n",
       "\t<tr><td>0.001161190</td><td>0.003870088</td><td>0.000051500</td><td>0.000000000</td><td>0          </td></tr>\n",
       "\t<tr><td>0.000810124</td><td>0.001880512</td><td>0.000000000</td><td>0.000214414</td><td>0          </td></tr>\n",
       "</tbody>\n",
       "</table>\n"
      ],
      "text/latex": [
       "\\begin{tabular}{r|lllll}\n",
       " mass\\_400 & mass\\_500 & mass\\_600 & mass\\_700 & mass\\_800\\\\\n",
       "\\hline\n",
       "\t 0.000689227 & 0.003880256 & 0.000000000 & 0.000000000 & 0          \\\\\n",
       "\t 0.001208015 & 0.005265772 & 0.000110198 & 0.000000000 & 0          \\\\\n",
       "\t 0.000999221 & 0.005218108 & 0.000000000 & 0.000706719 & 0          \\\\\n",
       "\t 0.001044375 & 0.003351871 & 0.000278093 & 0.000000000 & 0          \\\\\n",
       "\t 0.001161190 & 0.003870088 & 0.000051500 & 0.000000000 & 0          \\\\\n",
       "\t 0.000810124 & 0.001880512 & 0.000000000 & 0.000214414 & 0          \\\\\n",
       "\\end{tabular}\n"
      ],
      "text/markdown": [
       "\n",
       "| mass_400 | mass_500 | mass_600 | mass_700 | mass_800 |\n",
       "|---|---|---|---|---|\n",
       "| 0.000689227 | 0.003880256 | 0.000000000 | 0.000000000 | 0           |\n",
       "| 0.001208015 | 0.005265772 | 0.000110198 | 0.000000000 | 0           |\n",
       "| 0.000999221 | 0.005218108 | 0.000000000 | 0.000706719 | 0           |\n",
       "| 0.001044375 | 0.003351871 | 0.000278093 | 0.000000000 | 0           |\n",
       "| 0.001161190 | 0.003870088 | 0.000051500 | 0.000000000 | 0           |\n",
       "| 0.000810124 | 0.001880512 | 0.000000000 | 0.000214414 | 0           |\n",
       "\n"
      ],
      "text/plain": [
       "  mass_400    mass_500    mass_600    mass_700    mass_800\n",
       "1 0.000689227 0.003880256 0.000000000 0.000000000 0       \n",
       "2 0.001208015 0.005265772 0.000110198 0.000000000 0       \n",
       "3 0.000999221 0.005218108 0.000000000 0.000706719 0       \n",
       "4 0.001044375 0.003351871 0.000278093 0.000000000 0       \n",
       "5 0.001161190 0.003870088 0.000051500 0.000000000 0       \n",
       "6 0.000810124 0.001880512 0.000000000 0.000214414 0       "
      ]
     },
     "metadata": {},
     "output_type": "display_data"
    },
    {
     "data": {
      "text/html": [
       "<dl class=dl-horizontal>\n",
       "\t<dt>mass_400</dt>\n",
       "\t\t<dd>1</dd>\n",
       "\t<dt>mass_500</dt>\n",
       "\t\t<dd>2</dd>\n",
       "\t<dt>mass_600</dt>\n",
       "\t\t<dd>3</dd>\n",
       "\t<dt>mass_700</dt>\n",
       "\t\t<dd>4</dd>\n",
       "\t<dt>mass_800</dt>\n",
       "\t\t<dd>5</dd>\n",
       "</dl>\n"
      ],
      "text/latex": [
       "\\begin{description*}\n",
       "\\item[mass\\textbackslash{}\\_400] 1\n",
       "\\item[mass\\textbackslash{}\\_500] 2\n",
       "\\item[mass\\textbackslash{}\\_600] 3\n",
       "\\item[mass\\textbackslash{}\\_700] 4\n",
       "\\item[mass\\textbackslash{}\\_800] 5\n",
       "\\end{description*}\n"
      ],
      "text/markdown": [
       "mass_400\n",
       ":   1mass_500\n",
       ":   2mass_600\n",
       ":   3mass_700\n",
       ":   4mass_800\n",
       ":   5\n",
       "\n"
      ],
      "text/plain": [
       "mass_400 mass_500 mass_600 mass_700 mass_800 \n",
       "       1        2        3        4        5 "
      ]
     },
     "metadata": {},
     "output_type": "display_data"
    },
    {
     "data": {
      "text/html": [
       "<table>\n",
       "<thead><tr><th></th><th scope=col>mass_400</th><th scope=col>mass_500</th><th scope=col>mass_600</th><th scope=col>mass_700</th><th scope=col>mass_800</th></tr></thead>\n",
       "<tbody>\n",
       "\t<tr><th scope=row>1</th><td>0.000689227</td><td>0.003880256</td><td>0.000000000</td><td>0.000000000</td><td>0.000000000</td></tr>\n",
       "\t<tr><th scope=row>2</th><td>0.001208015</td><td>0.005265772</td><td>0.000110198</td><td>0.000000000</td><td>0.000000000</td></tr>\n",
       "\t<tr><th scope=row>3</th><td>0.000999221</td><td>0.005218108</td><td>0.000000000</td><td>0.000706719</td><td>0.000000000</td></tr>\n",
       "\t<tr><th scope=row>4</th><td>0.001044375</td><td>0.003351871</td><td>0.000278093</td><td>0.000000000</td><td>0.000000000</td></tr>\n",
       "\t<tr><th scope=row>5</th><td>0.001161190</td><td>0.003870088</td><td>0.000051500</td><td>0.000000000</td><td>0.000000000</td></tr>\n",
       "\t<tr><th scope=row>6</th><td>0.000810124</td><td>0.001880512</td><td>0.000000000</td><td>0.000214414</td><td>0.000000000</td></tr>\n",
       "\t<tr><th scope=row>7</th><td>0.001147390</td><td>0.003885629</td><td>0.000210918</td><td>0.000412990</td><td>0.000000000</td></tr>\n",
       "\t<tr><th scope=row>8</th><td>0.000670281</td><td>0.001730134</td><td>0.000000000</td><td>0.000000000</td><td>0.000000000</td></tr>\n",
       "\t<tr><th scope=row>9</th><td>0.000859935</td><td>0.003334185</td><td>0.000032900</td><td>0.000195831</td><td>0.000039100</td></tr>\n",
       "\t<tr><th scope=row>10</th><td>0.001271834</td><td>0.004240226</td><td>0.000294765</td><td>0.000000000</td><td>0.000000000</td></tr>\n",
       "\t<tr><th scope=row>11</th><td>0.000893822</td><td>0.005803087</td><td>0.000083500</td><td>0.000181000</td><td>0.000040300</td></tr>\n",
       "\t<tr><th scope=row>12</th><td>0.001180891</td><td>0.004359884</td><td>0.000430324</td><td>0.000264804</td><td>0.000000000</td></tr>\n",
       "\t<tr><th scope=row>13</th><td>0.001371873</td><td>0.004164789</td><td>0.000000000</td><td>0.001462614</td><td>0.000000000</td></tr>\n",
       "\t<tr><th scope=row>14</th><td>0.001979859</td><td>0.005738524</td><td>0.000041700</td><td>0.002308954</td><td>0.000141901</td></tr>\n",
       "\t<tr><th scope=row>15</th><td>0.001714081</td><td>0.005639228</td><td>0.000000000</td><td>0.000855173</td><td>0.000000000</td></tr>\n",
       "\t<tr><th scope=row>46</th><td>0.000940277</td><td>0.003165046</td><td>0.000044200</td><td>0.000000000</td><td>0.000000000</td></tr>\n",
       "\t<tr><th scope=row>47</th><td>0.001271261</td><td>0.005378199</td><td>0.000083900</td><td>0.000710929</td><td>0.000098500</td></tr>\n",
       "\t<tr><th scope=row>48</th><td>0.000907947</td><td>0.003325517</td><td>0.000000000</td><td>0.000474284</td><td>0.000000000</td></tr>\n",
       "\t<tr><th scope=row>49</th><td>0.000854159</td><td>0.003130131</td><td>0.000209698</td><td>0.000264808</td><td>0.000000000</td></tr>\n",
       "\t<tr><th scope=row>50</th><td>0.000789376</td><td>0.004290229</td><td>0.000000000</td><td>0.001792401</td><td>0.000000000</td></tr>\n",
       "\t<tr><th scope=row>51</th><td>0.002120313</td><td>0.006682713</td><td>0.000000000</td><td>0.001948736</td><td>0.000371743</td></tr>\n",
       "\t<tr><th scope=row>52</th><td>0.001088889</td><td>0.004133310</td><td>0.000000000</td><td>0.000000000</td><td>0.000000000</td></tr>\n",
       "\t<tr><th scope=row>53</th><td>0.000491088</td><td>0.001983087</td><td>0.000000000</td><td>0.000000000</td><td>0.000000000</td></tr>\n",
       "\t<tr><th scope=row>54</th><td>0.000516711</td><td>0.004158753</td><td>0.000000000</td><td>0.000276335</td><td>0.000000000</td></tr>\n",
       "\t<tr><th scope=row>55</th><td>0.000656912</td><td>0.001052288</td><td>0.000519000</td><td>0.000000000</td><td>0.000000000</td></tr>\n",
       "\t<tr><th scope=row>56</th><td>0.001055340</td><td>0.003226437</td><td>0.000041500</td><td>0.000269506</td><td>0.000000000</td></tr>\n",
       "\t<tr><th scope=row>57</th><td>0.000244836</td><td>0.003874567</td><td>0.000000000</td><td>0.000000000</td><td>0.000000000</td></tr>\n",
       "\t<tr><th scope=row>58</th><td>0.000416412</td><td>0.001575199</td><td>0.000000000</td><td>0.000000000</td><td>0.000000000</td></tr>\n",
       "\t<tr><th scope=row>59</th><td>0.000850581</td><td>0.001495618</td><td>0.000000000</td><td>0.000000000</td><td>0.000000000</td></tr>\n",
       "\t<tr><th scope=row>60</th><td>0.000221963</td><td>0.003994043</td><td>0.000000000</td><td>0.000000000</td><td>0.000000000</td></tr>\n",
       "</tbody>\n",
       "</table>\n"
      ],
      "text/latex": [
       "\\begin{tabular}{r|lllll}\n",
       "  & mass\\_400 & mass\\_500 & mass\\_600 & mass\\_700 & mass\\_800\\\\\n",
       "\\hline\n",
       "\t1 & 0.000689227 & 0.003880256 & 0.000000000 & 0.000000000 & 0.000000000\\\\\n",
       "\t2 & 0.001208015 & 0.005265772 & 0.000110198 & 0.000000000 & 0.000000000\\\\\n",
       "\t3 & 0.000999221 & 0.005218108 & 0.000000000 & 0.000706719 & 0.000000000\\\\\n",
       "\t4 & 0.001044375 & 0.003351871 & 0.000278093 & 0.000000000 & 0.000000000\\\\\n",
       "\t5 & 0.001161190 & 0.003870088 & 0.000051500 & 0.000000000 & 0.000000000\\\\\n",
       "\t6 & 0.000810124 & 0.001880512 & 0.000000000 & 0.000214414 & 0.000000000\\\\\n",
       "\t7 & 0.001147390 & 0.003885629 & 0.000210918 & 0.000412990 & 0.000000000\\\\\n",
       "\t8 & 0.000670281 & 0.001730134 & 0.000000000 & 0.000000000 & 0.000000000\\\\\n",
       "\t9 & 0.000859935 & 0.003334185 & 0.000032900 & 0.000195831 & 0.000039100\\\\\n",
       "\t10 & 0.001271834 & 0.004240226 & 0.000294765 & 0.000000000 & 0.000000000\\\\\n",
       "\t11 & 0.000893822 & 0.005803087 & 0.000083500 & 0.000181000 & 0.000040300\\\\\n",
       "\t12 & 0.001180891 & 0.004359884 & 0.000430324 & 0.000264804 & 0.000000000\\\\\n",
       "\t13 & 0.001371873 & 0.004164789 & 0.000000000 & 0.001462614 & 0.000000000\\\\\n",
       "\t14 & 0.001979859 & 0.005738524 & 0.000041700 & 0.002308954 & 0.000141901\\\\\n",
       "\t15 & 0.001714081 & 0.005639228 & 0.000000000 & 0.000855173 & 0.000000000\\\\\n",
       "\t46 & 0.000940277 & 0.003165046 & 0.000044200 & 0.000000000 & 0.000000000\\\\\n",
       "\t47 & 0.001271261 & 0.005378199 & 0.000083900 & 0.000710929 & 0.000098500\\\\\n",
       "\t48 & 0.000907947 & 0.003325517 & 0.000000000 & 0.000474284 & 0.000000000\\\\\n",
       "\t49 & 0.000854159 & 0.003130131 & 0.000209698 & 0.000264808 & 0.000000000\\\\\n",
       "\t50 & 0.000789376 & 0.004290229 & 0.000000000 & 0.001792401 & 0.000000000\\\\\n",
       "\t51 & 0.002120313 & 0.006682713 & 0.000000000 & 0.001948736 & 0.000371743\\\\\n",
       "\t52 & 0.001088889 & 0.004133310 & 0.000000000 & 0.000000000 & 0.000000000\\\\\n",
       "\t53 & 0.000491088 & 0.001983087 & 0.000000000 & 0.000000000 & 0.000000000\\\\\n",
       "\t54 & 0.000516711 & 0.004158753 & 0.000000000 & 0.000276335 & 0.000000000\\\\\n",
       "\t55 & 0.000656912 & 0.001052288 & 0.000519000 & 0.000000000 & 0.000000000\\\\\n",
       "\t56 & 0.001055340 & 0.003226437 & 0.000041500 & 0.000269506 & 0.000000000\\\\\n",
       "\t57 & 0.000244836 & 0.003874567 & 0.000000000 & 0.000000000 & 0.000000000\\\\\n",
       "\t58 & 0.000416412 & 0.001575199 & 0.000000000 & 0.000000000 & 0.000000000\\\\\n",
       "\t59 & 0.000850581 & 0.001495618 & 0.000000000 & 0.000000000 & 0.000000000\\\\\n",
       "\t60 & 0.000221963 & 0.003994043 & 0.000000000 & 0.000000000 & 0.000000000\\\\\n",
       "\\end{tabular}\n"
      ],
      "text/markdown": [
       "\n",
       "| <!--/--> | mass_400 | mass_500 | mass_600 | mass_700 | mass_800 |\n",
       "|---|---|---|---|---|---|\n",
       "| 1 | 0.000689227 | 0.003880256 | 0.000000000 | 0.000000000 | 0.000000000 |\n",
       "| 2 | 0.001208015 | 0.005265772 | 0.000110198 | 0.000000000 | 0.000000000 |\n",
       "| 3 | 0.000999221 | 0.005218108 | 0.000000000 | 0.000706719 | 0.000000000 |\n",
       "| 4 | 0.001044375 | 0.003351871 | 0.000278093 | 0.000000000 | 0.000000000 |\n",
       "| 5 | 0.001161190 | 0.003870088 | 0.000051500 | 0.000000000 | 0.000000000 |\n",
       "| 6 | 0.000810124 | 0.001880512 | 0.000000000 | 0.000214414 | 0.000000000 |\n",
       "| 7 | 0.001147390 | 0.003885629 | 0.000210918 | 0.000412990 | 0.000000000 |\n",
       "| 8 | 0.000670281 | 0.001730134 | 0.000000000 | 0.000000000 | 0.000000000 |\n",
       "| 9 | 0.000859935 | 0.003334185 | 0.000032900 | 0.000195831 | 0.000039100 |\n",
       "| 10 | 0.001271834 | 0.004240226 | 0.000294765 | 0.000000000 | 0.000000000 |\n",
       "| 11 | 0.000893822 | 0.005803087 | 0.000083500 | 0.000181000 | 0.000040300 |\n",
       "| 12 | 0.001180891 | 0.004359884 | 0.000430324 | 0.000264804 | 0.000000000 |\n",
       "| 13 | 0.001371873 | 0.004164789 | 0.000000000 | 0.001462614 | 0.000000000 |\n",
       "| 14 | 0.001979859 | 0.005738524 | 0.000041700 | 0.002308954 | 0.000141901 |\n",
       "| 15 | 0.001714081 | 0.005639228 | 0.000000000 | 0.000855173 | 0.000000000 |\n",
       "| 46 | 0.000940277 | 0.003165046 | 0.000044200 | 0.000000000 | 0.000000000 |\n",
       "| 47 | 0.001271261 | 0.005378199 | 0.000083900 | 0.000710929 | 0.000098500 |\n",
       "| 48 | 0.000907947 | 0.003325517 | 0.000000000 | 0.000474284 | 0.000000000 |\n",
       "| 49 | 0.000854159 | 0.003130131 | 0.000209698 | 0.000264808 | 0.000000000 |\n",
       "| 50 | 0.000789376 | 0.004290229 | 0.000000000 | 0.001792401 | 0.000000000 |\n",
       "| 51 | 0.002120313 | 0.006682713 | 0.000000000 | 0.001948736 | 0.000371743 |\n",
       "| 52 | 0.001088889 | 0.004133310 | 0.000000000 | 0.000000000 | 0.000000000 |\n",
       "| 53 | 0.000491088 | 0.001983087 | 0.000000000 | 0.000000000 | 0.000000000 |\n",
       "| 54 | 0.000516711 | 0.004158753 | 0.000000000 | 0.000276335 | 0.000000000 |\n",
       "| 55 | 0.000656912 | 0.001052288 | 0.000519000 | 0.000000000 | 0.000000000 |\n",
       "| 56 | 0.001055340 | 0.003226437 | 0.000041500 | 0.000269506 | 0.000000000 |\n",
       "| 57 | 0.000244836 | 0.003874567 | 0.000000000 | 0.000000000 | 0.000000000 |\n",
       "| 58 | 0.000416412 | 0.001575199 | 0.000000000 | 0.000000000 | 0.000000000 |\n",
       "| 59 | 0.000850581 | 0.001495618 | 0.000000000 | 0.000000000 | 0.000000000 |\n",
       "| 60 | 0.000221963 | 0.003994043 | 0.000000000 | 0.000000000 | 0.000000000 |\n",
       "\n"
      ],
      "text/plain": [
       "   mass_400    mass_500    mass_600    mass_700    mass_800   \n",
       "1  0.000689227 0.003880256 0.000000000 0.000000000 0.000000000\n",
       "2  0.001208015 0.005265772 0.000110198 0.000000000 0.000000000\n",
       "3  0.000999221 0.005218108 0.000000000 0.000706719 0.000000000\n",
       "4  0.001044375 0.003351871 0.000278093 0.000000000 0.000000000\n",
       "5  0.001161190 0.003870088 0.000051500 0.000000000 0.000000000\n",
       "6  0.000810124 0.001880512 0.000000000 0.000214414 0.000000000\n",
       "7  0.001147390 0.003885629 0.000210918 0.000412990 0.000000000\n",
       "8  0.000670281 0.001730134 0.000000000 0.000000000 0.000000000\n",
       "9  0.000859935 0.003334185 0.000032900 0.000195831 0.000039100\n",
       "10 0.001271834 0.004240226 0.000294765 0.000000000 0.000000000\n",
       "11 0.000893822 0.005803087 0.000083500 0.000181000 0.000040300\n",
       "12 0.001180891 0.004359884 0.000430324 0.000264804 0.000000000\n",
       "13 0.001371873 0.004164789 0.000000000 0.001462614 0.000000000\n",
       "14 0.001979859 0.005738524 0.000041700 0.002308954 0.000141901\n",
       "15 0.001714081 0.005639228 0.000000000 0.000855173 0.000000000\n",
       "46 0.000940277 0.003165046 0.000044200 0.000000000 0.000000000\n",
       "47 0.001271261 0.005378199 0.000083900 0.000710929 0.000098500\n",
       "48 0.000907947 0.003325517 0.000000000 0.000474284 0.000000000\n",
       "49 0.000854159 0.003130131 0.000209698 0.000264808 0.000000000\n",
       "50 0.000789376 0.004290229 0.000000000 0.001792401 0.000000000\n",
       "51 0.002120313 0.006682713 0.000000000 0.001948736 0.000371743\n",
       "52 0.001088889 0.004133310 0.000000000 0.000000000 0.000000000\n",
       "53 0.000491088 0.001983087 0.000000000 0.000000000 0.000000000\n",
       "54 0.000516711 0.004158753 0.000000000 0.000276335 0.000000000\n",
       "55 0.000656912 0.001052288 0.000519000 0.000000000 0.000000000\n",
       "56 0.001055340 0.003226437 0.000041500 0.000269506 0.000000000\n",
       "57 0.000244836 0.003874567 0.000000000 0.000000000 0.000000000\n",
       "58 0.000416412 0.001575199 0.000000000 0.000000000 0.000000000\n",
       "59 0.000850581 0.001495618 0.000000000 0.000000000 0.000000000\n",
       "60 0.000221963 0.003994043 0.000000000 0.000000000 0.000000000"
      ]
     },
     "metadata": {},
     "output_type": "display_data"
    },
    {
     "data": {
      "text/html": [
       "<table>\n",
       "<thead><tr><th scope=col>filename</th><th scope=col>MouseID</th><th scope=col>Treatmentgroup</th><th scope=col>status</th><th scope=col>DPI</th><th scope=col>organ</th><th scope=col>well_position</th><th scope=col>plate</th><th scope=col>mass_400</th><th scope=col>mass_500</th><th scope=col>mass_600</th><th scope=col>mass_700</th><th scope=col>mass_800</th></tr></thead>\n",
       "<tbody>\n",
       "\t<tr><td>X501_Group1A_50dpi_RV_top_251_B_A1_P137.mzXML</td><td>501                                          </td><td>Group1A                                      </td><td>naive                                        </td><td>50dpi                                        </td><td>RV_top                                       </td><td>A1                                           </td><td>P137                                         </td><td>0.000689227                                  </td><td>0.003880256                                  </td><td>0.000000000                                  </td><td>0.000000000                                  </td><td>0                                            </td></tr>\n",
       "\t<tr><td>X502_Group1A_50dpi_RV_top_252_B_A2_P137.mzXML</td><td>502                                          </td><td>Group1A                                      </td><td>naive                                        </td><td>50dpi                                        </td><td>RV_top                                       </td><td>A2                                           </td><td>P137                                         </td><td>0.001208015                                  </td><td>0.005265772                                  </td><td>0.000110198                                  </td><td>0.000000000                                  </td><td>0                                            </td></tr>\n",
       "\t<tr><td>X503_Group1A_50dpi_RV_top_253_B_A3_P137.mzXML</td><td>503                                          </td><td>Group1A                                      </td><td>naive                                        </td><td>50dpi                                        </td><td>RV_top                                       </td><td>A3                                           </td><td>P137                                         </td><td>0.000999221                                  </td><td>0.005218108                                  </td><td>0.000000000                                  </td><td>0.000706719                                  </td><td>0                                            </td></tr>\n",
       "\t<tr><td>X504_Group1A_50dpi_RV_top_254_B_A4_P137.mzXML</td><td>504                                          </td><td>Group1A                                      </td><td>naive                                        </td><td>50dpi                                        </td><td>RV_top                                       </td><td>A4                                           </td><td>P137                                         </td><td>0.001044375                                  </td><td>0.003351871                                  </td><td>0.000278093                                  </td><td>0.000000000                                  </td><td>0                                            </td></tr>\n",
       "\t<tr><td>X505_Group1A_50dpi_RV_top_255_B_A5_P137.mzXML</td><td>505                                          </td><td>Group1A                                      </td><td>naive                                        </td><td>50dpi                                        </td><td>RV_top                                       </td><td>A5                                           </td><td>P137                                         </td><td>0.001161190                                  </td><td>0.003870088                                  </td><td>0.000051500                                  </td><td>0.000000000                                  </td><td>0                                            </td></tr>\n",
       "\t<tr><td>X521_Group1A_50dpi_RV_top_256_B_A6_P137.mzXML</td><td>521                                          </td><td>Group1A                                      </td><td>naive                                        </td><td>50dpi                                        </td><td>RV_top                                       </td><td>A6                                           </td><td>P137                                         </td><td>0.000810124                                  </td><td>0.001880512                                  </td><td>0.000000000                                  </td><td>0.000214414                                  </td><td>0                                            </td></tr>\n",
       "</tbody>\n",
       "</table>\n"
      ],
      "text/latex": [
       "\\begin{tabular}{r|lllllllllllll}\n",
       " filename & MouseID & Treatmentgroup & status & DPI & organ & well\\_position & plate & mass\\_400 & mass\\_500 & mass\\_600 & mass\\_700 & mass\\_800\\\\\n",
       "\\hline\n",
       "\t X501\\_Group1A\\_50dpi\\_RV\\_top\\_251\\_B\\_A1\\_P137.mzXML & 501                                                           & Group1A                                                       & naive                                                         & 50dpi                                                         & RV\\_top                                                      & A1                                                            & P137                                                          & 0.000689227                                                   & 0.003880256                                                   & 0.000000000                                                   & 0.000000000                                                   & 0                                                            \\\\\n",
       "\t X502\\_Group1A\\_50dpi\\_RV\\_top\\_252\\_B\\_A2\\_P137.mzXML & 502                                                           & Group1A                                                       & naive                                                         & 50dpi                                                         & RV\\_top                                                      & A2                                                            & P137                                                          & 0.001208015                                                   & 0.005265772                                                   & 0.000110198                                                   & 0.000000000                                                   & 0                                                            \\\\\n",
       "\t X503\\_Group1A\\_50dpi\\_RV\\_top\\_253\\_B\\_A3\\_P137.mzXML & 503                                                           & Group1A                                                       & naive                                                         & 50dpi                                                         & RV\\_top                                                      & A3                                                            & P137                                                          & 0.000999221                                                   & 0.005218108                                                   & 0.000000000                                                   & 0.000706719                                                   & 0                                                            \\\\\n",
       "\t X504\\_Group1A\\_50dpi\\_RV\\_top\\_254\\_B\\_A4\\_P137.mzXML & 504                                                           & Group1A                                                       & naive                                                         & 50dpi                                                         & RV\\_top                                                      & A4                                                            & P137                                                          & 0.001044375                                                   & 0.003351871                                                   & 0.000278093                                                   & 0.000000000                                                   & 0                                                            \\\\\n",
       "\t X505\\_Group1A\\_50dpi\\_RV\\_top\\_255\\_B\\_A5\\_P137.mzXML & 505                                                           & Group1A                                                       & naive                                                         & 50dpi                                                         & RV\\_top                                                      & A5                                                            & P137                                                          & 0.001161190                                                   & 0.003870088                                                   & 0.000051500                                                   & 0.000000000                                                   & 0                                                            \\\\\n",
       "\t X521\\_Group1A\\_50dpi\\_RV\\_top\\_256\\_B\\_A6\\_P137.mzXML & 521                                                           & Group1A                                                       & naive                                                         & 50dpi                                                         & RV\\_top                                                      & A6                                                            & P137                                                          & 0.000810124                                                   & 0.001880512                                                   & 0.000000000                                                   & 0.000214414                                                   & 0                                                            \\\\\n",
       "\\end{tabular}\n"
      ],
      "text/markdown": [
       "\n",
       "| filename | MouseID | Treatmentgroup | status | DPI | organ | well_position | plate | mass_400 | mass_500 | mass_600 | mass_700 | mass_800 |\n",
       "|---|---|---|---|---|---|---|---|---|---|---|---|---|\n",
       "| X501_Group1A_50dpi_RV_top_251_B_A1_P137.mzXML | 501                                           | Group1A                                       | naive                                         | 50dpi                                         | RV_top                                        | A1                                            | P137                                          | 0.000689227                                   | 0.003880256                                   | 0.000000000                                   | 0.000000000                                   | 0                                             |\n",
       "| X502_Group1A_50dpi_RV_top_252_B_A2_P137.mzXML | 502                                           | Group1A                                       | naive                                         | 50dpi                                         | RV_top                                        | A2                                            | P137                                          | 0.001208015                                   | 0.005265772                                   | 0.000110198                                   | 0.000000000                                   | 0                                             |\n",
       "| X503_Group1A_50dpi_RV_top_253_B_A3_P137.mzXML | 503                                           | Group1A                                       | naive                                         | 50dpi                                         | RV_top                                        | A3                                            | P137                                          | 0.000999221                                   | 0.005218108                                   | 0.000000000                                   | 0.000706719                                   | 0                                             |\n",
       "| X504_Group1A_50dpi_RV_top_254_B_A4_P137.mzXML | 504                                           | Group1A                                       | naive                                         | 50dpi                                         | RV_top                                        | A4                                            | P137                                          | 0.001044375                                   | 0.003351871                                   | 0.000278093                                   | 0.000000000                                   | 0                                             |\n",
       "| X505_Group1A_50dpi_RV_top_255_B_A5_P137.mzXML | 505                                           | Group1A                                       | naive                                         | 50dpi                                         | RV_top                                        | A5                                            | P137                                          | 0.001161190                                   | 0.003870088                                   | 0.000051500                                   | 0.000000000                                   | 0                                             |\n",
       "| X521_Group1A_50dpi_RV_top_256_B_A6_P137.mzXML | 521                                           | Group1A                                       | naive                                         | 50dpi                                         | RV_top                                        | A6                                            | P137                                          | 0.000810124                                   | 0.001880512                                   | 0.000000000                                   | 0.000214414                                   | 0                                             |\n",
       "\n"
      ],
      "text/plain": [
       "  filename                                      MouseID Treatmentgroup status\n",
       "1 X501_Group1A_50dpi_RV_top_251_B_A1_P137.mzXML 501     Group1A        naive \n",
       "2 X502_Group1A_50dpi_RV_top_252_B_A2_P137.mzXML 502     Group1A        naive \n",
       "3 X503_Group1A_50dpi_RV_top_253_B_A3_P137.mzXML 503     Group1A        naive \n",
       "4 X504_Group1A_50dpi_RV_top_254_B_A4_P137.mzXML 504     Group1A        naive \n",
       "5 X505_Group1A_50dpi_RV_top_255_B_A5_P137.mzXML 505     Group1A        naive \n",
       "6 X521_Group1A_50dpi_RV_top_256_B_A6_P137.mzXML 521     Group1A        naive \n",
       "  DPI   organ  well_position plate mass_400    mass_500    mass_600   \n",
       "1 50dpi RV_top A1            P137  0.000689227 0.003880256 0.000000000\n",
       "2 50dpi RV_top A2            P137  0.001208015 0.005265772 0.000110198\n",
       "3 50dpi RV_top A3            P137  0.000999221 0.005218108 0.000000000\n",
       "4 50dpi RV_top A4            P137  0.001044375 0.003351871 0.000278093\n",
       "5 50dpi RV_top A5            P137  0.001161190 0.003870088 0.000051500\n",
       "6 50dpi RV_top A6            P137  0.000810124 0.001880512 0.000000000\n",
       "  mass_700    mass_800\n",
       "1 0.000000000 0       \n",
       "2 0.000000000 0       \n",
       "3 0.000706719 0       \n",
       "4 0.000000000 0       \n",
       "5 0.000000000 0       \n",
       "6 0.000214414 0       "
      ]
     },
     "metadata": {},
     "output_type": "display_data"
    },
    {
     "data": {
      "text/html": [
       "<ol class=list-inline>\n",
       "\t<li>30</li>\n",
       "\t<li>13</li>\n",
       "</ol>\n"
      ],
      "text/latex": [
       "\\begin{enumerate*}\n",
       "\\item 30\n",
       "\\item 13\n",
       "\\end{enumerate*}\n"
      ],
      "text/markdown": [
       "1. 30\n",
       "2. 13\n",
       "\n",
       "\n"
      ],
      "text/plain": [
       "[1] 30 13"
      ]
     },
     "metadata": {},
     "output_type": "display_data"
    },
    {
     "data": {
      "text/html": [
       "<ol class=list-inline>\n",
       "\t<li>30</li>\n",
       "\t<li>5</li>\n",
       "</ol>\n"
      ],
      "text/latex": [
       "\\begin{enumerate*}\n",
       "\\item 30\n",
       "\\item 5\n",
       "\\end{enumerate*}\n"
      ],
      "text/markdown": [
       "1. 30\n",
       "2. 5\n",
       "\n",
       "\n"
      ],
      "text/plain": [
       "[1] 30  5"
      ]
     },
     "metadata": {},
     "output_type": "display_data"
    },
    {
     "data": {
      "text/html": [
       "<ol class=list-inline>\n",
       "\t<li>30</li>\n",
       "\t<li>5</li>\n",
       "</ol>\n"
      ],
      "text/latex": [
       "\\begin{enumerate*}\n",
       "\\item 30\n",
       "\\item 5\n",
       "\\end{enumerate*}\n"
      ],
      "text/markdown": [
       "1. 30\n",
       "2. 5\n",
       "\n",
       "\n"
      ],
      "text/plain": [
       "[1] 30  5"
      ]
     },
     "metadata": {},
     "output_type": "display_data"
    },
    {
     "data": {
      "text/html": [
       "<ol class=list-inline>\n",
       "\t<li>30</li>\n",
       "\t<li>13</li>\n",
       "</ol>\n"
      ],
      "text/latex": [
       "\\begin{enumerate*}\n",
       "\\item 30\n",
       "\\item 13\n",
       "\\end{enumerate*}\n"
      ],
      "text/markdown": [
       "1. 30\n",
       "2. 13\n",
       "\n",
       "\n"
      ],
      "text/plain": [
       "[1] 30 13"
      ]
     },
     "metadata": {},
     "output_type": "display_data"
    }
   ],
   "source": [
    "noMeta<-features_pos[,9:13]\n",
    "head(noMeta)\n",
    "not_zero<-which(colSums(noMeta) != 0)\n",
    "head(not_zero)\n",
    "nonzero <- noMeta[, not_zero]\n",
    "nonzero\n",
    "nonzero_wMeta<-cbind(features_pos[,1:8], nonzero)\n",
    "head(nonzero_wMeta)\n",
    "dim(features_pos)\n",
    "dim(noMeta)\n",
    "dim(nonzero)\n",
    "dim(nonzero_wMeta)"
   ]
  },
  {
   "cell_type": "code",
   "execution_count": 5,
   "metadata": {
    "scrolled": true
   },
   "outputs": [
    {
     "name": "stderr",
     "output_type": "stream",
     "text": [
      "Warning message in wilcox.test.default(x = c(0, 0.000110198, 0, 0.000278093, 5.15e-05, :\n",
      "\"cannot compute exact p-value with ties\"Warning message in wilcox.test.default(x = c(0, 0, 0.000706719, 0, 0, 0.000214414, :\n",
      "\"cannot compute exact p-value with ties\"Warning message in wilcox.test.default(x = c(0, 0, 0, 0, 0, 0, 0, 0, 3.91e-05, 0, :\n",
      "\"cannot compute exact p-value with ties\""
     ]
    },
    {
     "data": {
      "text/html": [
       "<ol class=list-inline>\n",
       "\t<li>0.0234961466635103</li>\n",
       "\t<li>0.0975257598239064</li>\n",
       "\t<li>0.162799326829136</li>\n",
       "\t<li>0.759406453643091</li>\n",
       "\t<li>0.749415487420956</li>\n",
       "</ol>\n"
      ],
      "text/latex": [
       "\\begin{enumerate*}\n",
       "\\item 0.0234961466635103\n",
       "\\item 0.0975257598239064\n",
       "\\item 0.162799326829136\n",
       "\\item 0.759406453643091\n",
       "\\item 0.749415487420956\n",
       "\\end{enumerate*}\n"
      ],
      "text/markdown": [
       "1. 0.0234961466635103\n",
       "2. 0.0975257598239064\n",
       "3. 0.162799326829136\n",
       "4. 0.759406453643091\n",
       "5. 0.749415487420956\n",
       "\n",
       "\n"
      ],
      "text/plain": [
       "[1] 0.02349615 0.09752576 0.16279933 0.75940645 0.74941549"
      ]
     },
     "metadata": {},
     "output_type": "display_data"
    },
    {
     "data": {
      "text/html": [
       "<ol class=list-inline>\n",
       "\t<li>0.117480733317552</li>\n",
       "\t<li>0.243814399559766</li>\n",
       "\t<li>0.271332211381893</li>\n",
       "\t<li>0.759406453643091</li>\n",
       "\t<li>0.759406453643091</li>\n",
       "</ol>\n"
      ],
      "text/latex": [
       "\\begin{enumerate*}\n",
       "\\item 0.117480733317552\n",
       "\\item 0.243814399559766\n",
       "\\item 0.271332211381893\n",
       "\\item 0.759406453643091\n",
       "\\item 0.759406453643091\n",
       "\\end{enumerate*}\n"
      ],
      "text/markdown": [
       "1. 0.117480733317552\n",
       "2. 0.243814399559766\n",
       "3. 0.271332211381893\n",
       "4. 0.759406453643091\n",
       "5. 0.759406453643091\n",
       "\n",
       "\n"
      ],
      "text/plain": [
       "[1] 0.1174807 0.2438144 0.2713322 0.7594065 0.7594065"
      ]
     },
     "metadata": {},
     "output_type": "display_data"
    }
   ],
   "source": [
    "pval<-c()\n",
    "\n",
    "for (i in 9:ncol(nonzero_wMeta)) \n",
    "pval<-c(pval,wilcox.test(nonzero_wMeta[,i]~nonzero_wMeta$Treatmentgroup)$p.value)\n",
    "head(pval)\n",
    "pAdj <- p.adjust(pval, method = c(\"fdr\"), n=length(pval)) \n",
    "head(pAdj) \n",
    "\n"
   ]
  },
  {
   "cell_type": "code",
   "execution_count": 6,
   "metadata": {
    "scrolled": true
   },
   "outputs": [
    {
     "data": {
      "text/html": [
       "5"
      ],
      "text/latex": [
       "5"
      ],
      "text/markdown": [
       "5"
      ],
      "text/plain": [
       "[1] 5"
      ]
     },
     "metadata": {},
     "output_type": "display_data"
    }
   ],
   "source": [
    "length(pval)"
   ]
  },
  {
   "cell_type": "code",
   "execution_count": 7,
   "metadata": {
    "scrolled": true
   },
   "outputs": [
    {
     "data": {
      "text/html": [
       "5"
      ],
      "text/latex": [
       "5"
      ],
      "text/markdown": [
       "5"
      ],
      "text/plain": [
       "[1] 5"
      ]
     },
     "metadata": {},
     "output_type": "display_data"
    }
   ],
   "source": [
    "length(pAdj)"
   ]
  },
  {
   "cell_type": "code",
   "execution_count": 8,
   "metadata": {},
   "outputs": [
    {
     "data": {
      "text/html": [
       "<ol class=list-inline>\n",
       "\t<li>2</li>\n",
       "\t<li>5</li>\n",
       "</ol>\n"
      ],
      "text/latex": [
       "\\begin{enumerate*}\n",
       "\\item 2\n",
       "\\item 5\n",
       "\\end{enumerate*}\n"
      ],
      "text/markdown": [
       "1. 2\n",
       "2. 5\n",
       "\n",
       "\n"
      ],
      "text/plain": [
       "[1] 2 5"
      ]
     },
     "metadata": {},
     "output_type": "display_data"
    },
    {
     "data": {
      "text/html": [
       "<table>\n",
       "<thead><tr><th></th><th scope=col>mass_400</th><th scope=col>mass_500</th><th scope=col>mass_600</th></tr></thead>\n",
       "<tbody>\n",
       "\t<tr><th scope=row>Group1A</th><td>0.0011334745</td><td>0.004157486 </td><td>1.022599e-04</td></tr>\n",
       "\t<tr><th scope=row>Group3A</th><td>0.0008284043</td><td>0.003431009 </td><td>5.988653e-05</td></tr>\n",
       "</tbody>\n",
       "</table>\n"
      ],
      "text/latex": [
       "\\begin{tabular}{r|lll}\n",
       "  & mass\\_400 & mass\\_500 & mass\\_600\\\\\n",
       "\\hline\n",
       "\tGroup1A & 0.0011334745 & 0.004157486  & 1.022599e-04\\\\\n",
       "\tGroup3A & 0.0008284043 & 0.003431009  & 5.988653e-05\\\\\n",
       "\\end{tabular}\n"
      ],
      "text/markdown": [
       "\n",
       "| <!--/--> | mass_400 | mass_500 | mass_600 |\n",
       "|---|---|---|---|\n",
       "| Group1A | 0.0011334745 | 0.004157486  | 1.022599e-04 |\n",
       "| Group3A | 0.0008284043 | 0.003431009  | 5.988653e-05 |\n",
       "\n"
      ],
      "text/plain": [
       "        mass_400     mass_500    mass_600    \n",
       "Group1A 0.0011334745 0.004157486 1.022599e-04\n",
       "Group3A 0.0008284043 0.003431009 5.988653e-05"
      ]
     },
     "metadata": {},
     "output_type": "display_data"
    },
    {
     "data": {
      "text/html": [
       "<dl class=dl-horizontal>\n",
       "\t<dt>mass_400</dt>\n",
       "\t\t<dd>1.36826243867226</dd>\n",
       "\t<dt>mass_500</dt>\n",
       "\t\t<dd>1.2117385988888</dd>\n",
       "\t<dt>mass_600</dt>\n",
       "\t\t<dd>1.70756029736235</dd>\n",
       "\t<dt>mass_700</dt>\n",
       "\t\t<dd>1.15086284658582</dd>\n",
       "\t<dt>mass_800</dt>\n",
       "\t\t<dd>0.470609876170406</dd>\n",
       "</dl>\n"
      ],
      "text/latex": [
       "\\begin{description*}\n",
       "\\item[mass\\textbackslash{}\\_400] 1.36826243867226\n",
       "\\item[mass\\textbackslash{}\\_500] 1.2117385988888\n",
       "\\item[mass\\textbackslash{}\\_600] 1.70756029736235\n",
       "\\item[mass\\textbackslash{}\\_700] 1.15086284658582\n",
       "\\item[mass\\textbackslash{}\\_800] 0.470609876170406\n",
       "\\end{description*}\n"
      ],
      "text/markdown": [
       "mass_400\n",
       ":   1.36826243867226mass_500\n",
       ":   1.2117385988888mass_600\n",
       ":   1.70756029736235mass_700\n",
       ":   1.15086284658582mass_800\n",
       ":   0.470609876170406\n",
       "\n"
      ],
      "text/plain": [
       " mass_400  mass_500  mass_600  mass_700  mass_800 \n",
       "1.3682624 1.2117386 1.7075603 1.1508628 0.4706099 "
      ]
     },
     "metadata": {},
     "output_type": "display_data"
    },
    {
     "data": {
      "text/html": [
       "<ol class=list-inline>\n",
       "\t<li>'numeric'</li>\n",
       "\t<li>'vector'</li>\n",
       "</ol>\n"
      ],
      "text/latex": [
       "\\begin{enumerate*}\n",
       "\\item 'numeric'\n",
       "\\item 'vector'\n",
       "\\end{enumerate*}\n"
      ],
      "text/markdown": [
       "1. 'numeric'\n",
       "2. 'vector'\n",
       "\n",
       "\n"
      ],
      "text/plain": [
       "[1] \"numeric\" \"vector\" "
      ]
     },
     "metadata": {},
     "output_type": "display_data"
    }
   ],
   "source": [
    "avg<- apply(nonzero_wMeta[,9:ncol(nonzero_wMeta)], 2, function(x) tapply(x, nonzero_wMeta$Treatmentgroup, function(x) mean(x))) \n",
    "\n",
    "dim(avg)\n",
    "\n",
    "avg[,1:3]\n",
    "\n",
    "fch <- apply(avg, 2, function(x) x[1]/x[2])\n",
    "\n",
    "head(fch)\n",
    "is(fch)"
   ]
  },
  {
   "cell_type": "code",
   "execution_count": 9,
   "metadata": {
    "scrolled": true
   },
   "outputs": [
    {
     "data": {
      "text/html": [
       "<dl class=dl-horizontal>\n",
       "\t<dt>mass_400</dt>\n",
       "\t\t<dd>1.36826243867226</dd>\n",
       "\t<dt>mass_500</dt>\n",
       "\t\t<dd>1.2117385988888</dd>\n",
       "\t<dt>mass_600</dt>\n",
       "\t\t<dd>1.70756029736235</dd>\n",
       "\t<dt>mass_700</dt>\n",
       "\t\t<dd>1.15086284658582</dd>\n",
       "\t<dt>mass_800</dt>\n",
       "\t\t<dd>0.470609876170406</dd>\n",
       "</dl>\n"
      ],
      "text/latex": [
       "\\begin{description*}\n",
       "\\item[mass\\textbackslash{}\\_400] 1.36826243867226\n",
       "\\item[mass\\textbackslash{}\\_500] 1.2117385988888\n",
       "\\item[mass\\textbackslash{}\\_600] 1.70756029736235\n",
       "\\item[mass\\textbackslash{}\\_700] 1.15086284658582\n",
       "\\item[mass\\textbackslash{}\\_800] 0.470609876170406\n",
       "\\end{description*}\n"
      ],
      "text/markdown": [
       "mass_400\n",
       ":   1.36826243867226mass_500\n",
       ":   1.2117385988888mass_600\n",
       ":   1.70756029736235mass_700\n",
       ":   1.15086284658582mass_800\n",
       ":   0.470609876170406\n",
       "\n"
      ],
      "text/plain": [
       " mass_400  mass_500  mass_600  mass_700  mass_800 \n",
       "1.3682624 1.2117386 1.7075603 1.1508628 0.4706099 "
      ]
     },
     "metadata": {},
     "output_type": "display_data"
    }
   ],
   "source": [
    "fch"
   ]
  },
  {
   "cell_type": "code",
   "execution_count": 10,
   "metadata": {
    "scrolled": false
   },
   "outputs": [],
   "source": [
    "df <- data.frame(fch,pval, pAdj)\n",
    "write.csv(df, \"PE-time-RVT-wilcox-1A-3A.csv\")"
   ]
  },
  {
   "cell_type": "code",
   "execution_count": null,
   "metadata": {},
   "outputs": [],
   "source": []
  },
  {
   "cell_type": "code",
   "execution_count": null,
   "metadata": {},
   "outputs": [],
   "source": []
  },
  {
   "cell_type": "code",
   "execution_count": null,
   "metadata": {},
   "outputs": [],
   "source": []
  },
  {
   "cell_type": "code",
   "execution_count": null,
   "metadata": {},
   "outputs": [],
   "source": []
  },
  {
   "cell_type": "code",
   "execution_count": null,
   "metadata": {},
   "outputs": [],
   "source": []
  },
  {
   "cell_type": "code",
   "execution_count": null,
   "metadata": {},
   "outputs": [],
   "source": []
  }
 ],
 "metadata": {
  "kernelspec": {
   "display_name": "R",
   "language": "R",
   "name": "ir"
  },
  "language_info": {
   "codemirror_mode": "r",
   "file_extension": ".r",
   "mimetype": "text/x-r-source",
   "name": "R",
   "pygments_lexer": "r",
   "version": "3.6.1"
  }
 },
 "nbformat": 4,
 "nbformat_minor": 2
}
