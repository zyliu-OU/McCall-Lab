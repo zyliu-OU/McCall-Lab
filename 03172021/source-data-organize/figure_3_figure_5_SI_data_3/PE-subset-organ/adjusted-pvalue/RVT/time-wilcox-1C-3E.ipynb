{
 "cells": [
  {
   "cell_type": "code",
   "execution_count": 1,
   "metadata": {},
   "outputs": [],
   "source": [
    "a <- read.csv(\"03172021-PE-time-RVT-M-F.csv\")"
   ]
  },
  {
   "cell_type": "code",
   "execution_count": 2,
   "metadata": {},
   "outputs": [
    {
     "data": {
      "text/html": [
       "<table>\n",
       "<thead><tr><th scope=col>filename</th><th scope=col>MouseID</th><th scope=col>Treatmentgroup</th><th scope=col>status</th><th scope=col>DPI</th><th scope=col>organ</th><th scope=col>well_position</th><th scope=col>plate</th><th scope=col>mass_400</th><th scope=col>mass_500</th><th scope=col>mass_600</th><th scope=col>mass_700</th><th scope=col>mass_800</th></tr></thead>\n",
       "<tbody>\n",
       "\t<tr><td>X501_Group1A_50dpi_RV_top_251_B_A1_P137.mzXML</td><td>501                                          </td><td>Group1A                                      </td><td>naive                                        </td><td>50dpi                                        </td><td>RV_top                                       </td><td>A1                                           </td><td>P137                                         </td><td>0.000689227                                  </td><td>0.003880256                                  </td><td>0.000000000                                  </td><td>0.000000000                                  </td><td>0                                            </td></tr>\n",
       "\t<tr><td>X502_Group1A_50dpi_RV_top_252_B_A2_P137.mzXML</td><td>502                                          </td><td>Group1A                                      </td><td>naive                                        </td><td>50dpi                                        </td><td>RV_top                                       </td><td>A2                                           </td><td>P137                                         </td><td>0.001208015                                  </td><td>0.005265772                                  </td><td>0.000110198                                  </td><td>0.000000000                                  </td><td>0                                            </td></tr>\n",
       "\t<tr><td>X503_Group1A_50dpi_RV_top_253_B_A3_P137.mzXML</td><td>503                                          </td><td>Group1A                                      </td><td>naive                                        </td><td>50dpi                                        </td><td>RV_top                                       </td><td>A3                                           </td><td>P137                                         </td><td>0.000999221                                  </td><td>0.005218108                                  </td><td>0.000000000                                  </td><td>0.000706719                                  </td><td>0                                            </td></tr>\n",
       "\t<tr><td>X504_Group1A_50dpi_RV_top_254_B_A4_P137.mzXML</td><td>504                                          </td><td>Group1A                                      </td><td>naive                                        </td><td>50dpi                                        </td><td>RV_top                                       </td><td>A4                                           </td><td>P137                                         </td><td>0.001044375                                  </td><td>0.003351871                                  </td><td>0.000278093                                  </td><td>0.000000000                                  </td><td>0                                            </td></tr>\n",
       "\t<tr><td>X505_Group1A_50dpi_RV_top_255_B_A5_P137.mzXML</td><td>505                                          </td><td>Group1A                                      </td><td>naive                                        </td><td>50dpi                                        </td><td>RV_top                                       </td><td>A5                                           </td><td>P137                                         </td><td>0.001161190                                  </td><td>0.003870088                                  </td><td>0.000051500                                  </td><td>0.000000000                                  </td><td>0                                            </td></tr>\n",
       "\t<tr><td>X521_Group1A_50dpi_RV_top_256_B_A6_P137.mzXML</td><td>521                                          </td><td>Group1A                                      </td><td>naive                                        </td><td>50dpi                                        </td><td>RV_top                                       </td><td>A6                                           </td><td>P137                                         </td><td>0.000810124                                  </td><td>0.001880512                                  </td><td>0.000000000                                  </td><td>0.000214414                                  </td><td>0                                            </td></tr>\n",
       "</tbody>\n",
       "</table>\n"
      ],
      "text/latex": [
       "\\begin{tabular}{r|lllllllllllll}\n",
       " filename & MouseID & Treatmentgroup & status & DPI & organ & well\\_position & plate & mass\\_400 & mass\\_500 & mass\\_600 & mass\\_700 & mass\\_800\\\\\n",
       "\\hline\n",
       "\t X501\\_Group1A\\_50dpi\\_RV\\_top\\_251\\_B\\_A1\\_P137.mzXML & 501                                                           & Group1A                                                       & naive                                                         & 50dpi                                                         & RV\\_top                                                      & A1                                                            & P137                                                          & 0.000689227                                                   & 0.003880256                                                   & 0.000000000                                                   & 0.000000000                                                   & 0                                                            \\\\\n",
       "\t X502\\_Group1A\\_50dpi\\_RV\\_top\\_252\\_B\\_A2\\_P137.mzXML & 502                                                           & Group1A                                                       & naive                                                         & 50dpi                                                         & RV\\_top                                                      & A2                                                            & P137                                                          & 0.001208015                                                   & 0.005265772                                                   & 0.000110198                                                   & 0.000000000                                                   & 0                                                            \\\\\n",
       "\t X503\\_Group1A\\_50dpi\\_RV\\_top\\_253\\_B\\_A3\\_P137.mzXML & 503                                                           & Group1A                                                       & naive                                                         & 50dpi                                                         & RV\\_top                                                      & A3                                                            & P137                                                          & 0.000999221                                                   & 0.005218108                                                   & 0.000000000                                                   & 0.000706719                                                   & 0                                                            \\\\\n",
       "\t X504\\_Group1A\\_50dpi\\_RV\\_top\\_254\\_B\\_A4\\_P137.mzXML & 504                                                           & Group1A                                                       & naive                                                         & 50dpi                                                         & RV\\_top                                                      & A4                                                            & P137                                                          & 0.001044375                                                   & 0.003351871                                                   & 0.000278093                                                   & 0.000000000                                                   & 0                                                            \\\\\n",
       "\t X505\\_Group1A\\_50dpi\\_RV\\_top\\_255\\_B\\_A5\\_P137.mzXML & 505                                                           & Group1A                                                       & naive                                                         & 50dpi                                                         & RV\\_top                                                      & A5                                                            & P137                                                          & 0.001161190                                                   & 0.003870088                                                   & 0.000051500                                                   & 0.000000000                                                   & 0                                                            \\\\\n",
       "\t X521\\_Group1A\\_50dpi\\_RV\\_top\\_256\\_B\\_A6\\_P137.mzXML & 521                                                           & Group1A                                                       & naive                                                         & 50dpi                                                         & RV\\_top                                                      & A6                                                            & P137                                                          & 0.000810124                                                   & 0.001880512                                                   & 0.000000000                                                   & 0.000214414                                                   & 0                                                            \\\\\n",
       "\\end{tabular}\n"
      ],
      "text/markdown": [
       "\n",
       "| filename | MouseID | Treatmentgroup | status | DPI | organ | well_position | plate | mass_400 | mass_500 | mass_600 | mass_700 | mass_800 |\n",
       "|---|---|---|---|---|---|---|---|---|---|---|---|---|\n",
       "| X501_Group1A_50dpi_RV_top_251_B_A1_P137.mzXML | 501                                           | Group1A                                       | naive                                         | 50dpi                                         | RV_top                                        | A1                                            | P137                                          | 0.000689227                                   | 0.003880256                                   | 0.000000000                                   | 0.000000000                                   | 0                                             |\n",
       "| X502_Group1A_50dpi_RV_top_252_B_A2_P137.mzXML | 502                                           | Group1A                                       | naive                                         | 50dpi                                         | RV_top                                        | A2                                            | P137                                          | 0.001208015                                   | 0.005265772                                   | 0.000110198                                   | 0.000000000                                   | 0                                             |\n",
       "| X503_Group1A_50dpi_RV_top_253_B_A3_P137.mzXML | 503                                           | Group1A                                       | naive                                         | 50dpi                                         | RV_top                                        | A3                                            | P137                                          | 0.000999221                                   | 0.005218108                                   | 0.000000000                                   | 0.000706719                                   | 0                                             |\n",
       "| X504_Group1A_50dpi_RV_top_254_B_A4_P137.mzXML | 504                                           | Group1A                                       | naive                                         | 50dpi                                         | RV_top                                        | A4                                            | P137                                          | 0.001044375                                   | 0.003351871                                   | 0.000278093                                   | 0.000000000                                   | 0                                             |\n",
       "| X505_Group1A_50dpi_RV_top_255_B_A5_P137.mzXML | 505                                           | Group1A                                       | naive                                         | 50dpi                                         | RV_top                                        | A5                                            | P137                                          | 0.001161190                                   | 0.003870088                                   | 0.000051500                                   | 0.000000000                                   | 0                                             |\n",
       "| X521_Group1A_50dpi_RV_top_256_B_A6_P137.mzXML | 521                                           | Group1A                                       | naive                                         | 50dpi                                         | RV_top                                        | A6                                            | P137                                          | 0.000810124                                   | 0.001880512                                   | 0.000000000                                   | 0.000214414                                   | 0                                             |\n",
       "\n"
      ],
      "text/plain": [
       "  filename                                      MouseID Treatmentgroup status\n",
       "1 X501_Group1A_50dpi_RV_top_251_B_A1_P137.mzXML 501     Group1A        naive \n",
       "2 X502_Group1A_50dpi_RV_top_252_B_A2_P137.mzXML 502     Group1A        naive \n",
       "3 X503_Group1A_50dpi_RV_top_253_B_A3_P137.mzXML 503     Group1A        naive \n",
       "4 X504_Group1A_50dpi_RV_top_254_B_A4_P137.mzXML 504     Group1A        naive \n",
       "5 X505_Group1A_50dpi_RV_top_255_B_A5_P137.mzXML 505     Group1A        naive \n",
       "6 X521_Group1A_50dpi_RV_top_256_B_A6_P137.mzXML 521     Group1A        naive \n",
       "  DPI   organ  well_position plate mass_400    mass_500    mass_600   \n",
       "1 50dpi RV_top A1            P137  0.000689227 0.003880256 0.000000000\n",
       "2 50dpi RV_top A2            P137  0.001208015 0.005265772 0.000110198\n",
       "3 50dpi RV_top A3            P137  0.000999221 0.005218108 0.000000000\n",
       "4 50dpi RV_top A4            P137  0.001044375 0.003351871 0.000278093\n",
       "5 50dpi RV_top A5            P137  0.001161190 0.003870088 0.000051500\n",
       "6 50dpi RV_top A6            P137  0.000810124 0.001880512 0.000000000\n",
       "  mass_700    mass_800\n",
       "1 0.000000000 0       \n",
       "2 0.000000000 0       \n",
       "3 0.000706719 0       \n",
       "4 0.000000000 0       \n",
       "5 0.000000000 0       \n",
       "6 0.000214414 0       "
      ]
     },
     "metadata": {},
     "output_type": "display_data"
    },
    {
     "data": {
      "text/html": [
       "<ol class=list-inline>\n",
       "\t<li>90</li>\n",
       "\t<li>13</li>\n",
       "</ol>\n"
      ],
      "text/latex": [
       "\\begin{enumerate*}\n",
       "\\item 90\n",
       "\\item 13\n",
       "\\end{enumerate*}\n"
      ],
      "text/markdown": [
       "1. 90\n",
       "2. 13\n",
       "\n",
       "\n"
      ],
      "text/plain": [
       "[1] 90 13"
      ]
     },
     "metadata": {},
     "output_type": "display_data"
    }
   ],
   "source": [
    "head(a)\n",
    "dim(a)"
   ]
  },
  {
   "cell_type": "code",
   "execution_count": 3,
   "metadata": {},
   "outputs": [
    {
     "data": {
      "text/html": [
       "<table>\n",
       "<thead><tr><th></th><th scope=col>filename</th><th scope=col>MouseID</th><th scope=col>Treatmentgroup</th><th scope=col>status</th><th scope=col>DPI</th><th scope=col>organ</th><th scope=col>well_position</th><th scope=col>plate</th><th scope=col>mass_400</th><th scope=col>mass_500</th><th scope=col>mass_600</th><th scope=col>mass_700</th><th scope=col>mass_800</th></tr></thead>\n",
       "<tbody>\n",
       "\t<tr><th scope=row>31</th><td>X511_Group1C_142dpi_RV_top_161_G_A1_P136.mzXML</td><td>511                                           </td><td>Group1C                                       </td><td>naive                                         </td><td>142dpi                                        </td><td>RV_top                                        </td><td>A1                                            </td><td>P136                                          </td><td>0.000569869                                   </td><td>0.002178443                                   </td><td>0.00e+00                                      </td><td>0.000000000                                   </td><td>0                                             </td></tr>\n",
       "\t<tr><th scope=row>32</th><td>X512_Group1C_142dpi_RV_top_162_G_A2_P136.mzXML</td><td>512                                           </td><td>Group1C                                       </td><td>naive                                         </td><td>142dpi                                        </td><td>RV_top                                        </td><td>A2                                            </td><td>P136                                          </td><td>0.000509792                                   </td><td>0.002042879                                   </td><td>0.00e+00                                      </td><td>0.000000000                                   </td><td>0                                             </td></tr>\n",
       "\t<tr><th scope=row>33</th><td>X513_Group1C_142dpi_RV_top_163_G_A3_P136.mzXML</td><td>513                                           </td><td>Group1C                                       </td><td>naive                                         </td><td>142dpi                                        </td><td>RV_top                                        </td><td>A3                                            </td><td>P136                                          </td><td>0.000816324                                   </td><td>0.002407532                                   </td><td>4.79e-05                                      </td><td>0.000000000                                   </td><td>0                                             </td></tr>\n",
       "\t<tr><th scope=row>34</th><td>X514_Group1C_142dpi_RV_top_164_G_A4_P136.mzXML</td><td>514                                           </td><td>Group1C                                       </td><td>naive                                         </td><td>142dpi                                        </td><td>RV_top                                        </td><td>A4                                            </td><td>P136                                          </td><td>0.000301313                                   </td><td>0.002019899                                   </td><td>0.00e+00                                      </td><td>0.000000000                                   </td><td>0                                             </td></tr>\n",
       "\t<tr><th scope=row>35</th><td>X515_Group1C_142dpi_RV_top_165_G_A5_P136.mzXML</td><td>515                                           </td><td>Group1C                                       </td><td>naive                                         </td><td>142dpi                                        </td><td>RV_top                                        </td><td>A5                                            </td><td>P136                                          </td><td>0.001533985                                   </td><td>0.002727735                                   </td><td>9.35e-05                                      </td><td>0.000000000                                   </td><td>0                                             </td></tr>\n",
       "\t<tr><th scope=row>36</th><td>X531_Group1C_142dpi_RV_top_166_G_A6_P136.mzXML</td><td>531                                           </td><td>Group1C                                       </td><td>naive                                         </td><td>142dpi                                        </td><td>RV_top                                        </td><td>A6                                            </td><td>P136                                          </td><td>0.000153049                                   </td><td>0.000965296                                   </td><td>0.00e+00                                      </td><td>0.000247528                                   </td><td>0                                             </td></tr>\n",
       "</tbody>\n",
       "</table>\n"
      ],
      "text/latex": [
       "\\begin{tabular}{r|lllllllllllll}\n",
       "  & filename & MouseID & Treatmentgroup & status & DPI & organ & well\\_position & plate & mass\\_400 & mass\\_500 & mass\\_600 & mass\\_700 & mass\\_800\\\\\n",
       "\\hline\n",
       "\t31 & X511\\_Group1C\\_142dpi\\_RV\\_top\\_161\\_G\\_A1\\_P136.mzXML & 511                                                            & Group1C                                                        & naive                                                          & 142dpi                                                         & RV\\_top                                                       & A1                                                             & P136                                                           & 0.000569869                                                    & 0.002178443                                                    & 0.00e+00                                                       & 0.000000000                                                    & 0                                                             \\\\\n",
       "\t32 & X512\\_Group1C\\_142dpi\\_RV\\_top\\_162\\_G\\_A2\\_P136.mzXML & 512                                                            & Group1C                                                        & naive                                                          & 142dpi                                                         & RV\\_top                                                       & A2                                                             & P136                                                           & 0.000509792                                                    & 0.002042879                                                    & 0.00e+00                                                       & 0.000000000                                                    & 0                                                             \\\\\n",
       "\t33 & X513\\_Group1C\\_142dpi\\_RV\\_top\\_163\\_G\\_A3\\_P136.mzXML & 513                                                            & Group1C                                                        & naive                                                          & 142dpi                                                         & RV\\_top                                                       & A3                                                             & P136                                                           & 0.000816324                                                    & 0.002407532                                                    & 4.79e-05                                                       & 0.000000000                                                    & 0                                                             \\\\\n",
       "\t34 & X514\\_Group1C\\_142dpi\\_RV\\_top\\_164\\_G\\_A4\\_P136.mzXML & 514                                                            & Group1C                                                        & naive                                                          & 142dpi                                                         & RV\\_top                                                       & A4                                                             & P136                                                           & 0.000301313                                                    & 0.002019899                                                    & 0.00e+00                                                       & 0.000000000                                                    & 0                                                             \\\\\n",
       "\t35 & X515\\_Group1C\\_142dpi\\_RV\\_top\\_165\\_G\\_A5\\_P136.mzXML & 515                                                            & Group1C                                                        & naive                                                          & 142dpi                                                         & RV\\_top                                                       & A5                                                             & P136                                                           & 0.001533985                                                    & 0.002727735                                                    & 9.35e-05                                                       & 0.000000000                                                    & 0                                                             \\\\\n",
       "\t36 & X531\\_Group1C\\_142dpi\\_RV\\_top\\_166\\_G\\_A6\\_P136.mzXML & 531                                                            & Group1C                                                        & naive                                                          & 142dpi                                                         & RV\\_top                                                       & A6                                                             & P136                                                           & 0.000153049                                                    & 0.000965296                                                    & 0.00e+00                                                       & 0.000247528                                                    & 0                                                             \\\\\n",
       "\\end{tabular}\n"
      ],
      "text/markdown": [
       "\n",
       "| <!--/--> | filename | MouseID | Treatmentgroup | status | DPI | organ | well_position | plate | mass_400 | mass_500 | mass_600 | mass_700 | mass_800 |\n",
       "|---|---|---|---|---|---|---|---|---|---|---|---|---|---|\n",
       "| 31 | X511_Group1C_142dpi_RV_top_161_G_A1_P136.mzXML | 511                                            | Group1C                                        | naive                                          | 142dpi                                         | RV_top                                         | A1                                             | P136                                           | 0.000569869                                    | 0.002178443                                    | 0.00e+00                                       | 0.000000000                                    | 0                                              |\n",
       "| 32 | X512_Group1C_142dpi_RV_top_162_G_A2_P136.mzXML | 512                                            | Group1C                                        | naive                                          | 142dpi                                         | RV_top                                         | A2                                             | P136                                           | 0.000509792                                    | 0.002042879                                    | 0.00e+00                                       | 0.000000000                                    | 0                                              |\n",
       "| 33 | X513_Group1C_142dpi_RV_top_163_G_A3_P136.mzXML | 513                                            | Group1C                                        | naive                                          | 142dpi                                         | RV_top                                         | A3                                             | P136                                           | 0.000816324                                    | 0.002407532                                    | 4.79e-05                                       | 0.000000000                                    | 0                                              |\n",
       "| 34 | X514_Group1C_142dpi_RV_top_164_G_A4_P136.mzXML | 514                                            | Group1C                                        | naive                                          | 142dpi                                         | RV_top                                         | A4                                             | P136                                           | 0.000301313                                    | 0.002019899                                    | 0.00e+00                                       | 0.000000000                                    | 0                                              |\n",
       "| 35 | X515_Group1C_142dpi_RV_top_165_G_A5_P136.mzXML | 515                                            | Group1C                                        | naive                                          | 142dpi                                         | RV_top                                         | A5                                             | P136                                           | 0.001533985                                    | 0.002727735                                    | 9.35e-05                                       | 0.000000000                                    | 0                                              |\n",
       "| 36 | X531_Group1C_142dpi_RV_top_166_G_A6_P136.mzXML | 531                                            | Group1C                                        | naive                                          | 142dpi                                         | RV_top                                         | A6                                             | P136                                           | 0.000153049                                    | 0.000965296                                    | 0.00e+00                                       | 0.000247528                                    | 0                                              |\n",
       "\n"
      ],
      "text/plain": [
       "   filename                                       MouseID Treatmentgroup status\n",
       "31 X511_Group1C_142dpi_RV_top_161_G_A1_P136.mzXML 511     Group1C        naive \n",
       "32 X512_Group1C_142dpi_RV_top_162_G_A2_P136.mzXML 512     Group1C        naive \n",
       "33 X513_Group1C_142dpi_RV_top_163_G_A3_P136.mzXML 513     Group1C        naive \n",
       "34 X514_Group1C_142dpi_RV_top_164_G_A4_P136.mzXML 514     Group1C        naive \n",
       "35 X515_Group1C_142dpi_RV_top_165_G_A5_P136.mzXML 515     Group1C        naive \n",
       "36 X531_Group1C_142dpi_RV_top_166_G_A6_P136.mzXML 531     Group1C        naive \n",
       "   DPI    organ  well_position plate mass_400    mass_500    mass_600\n",
       "31 142dpi RV_top A1            P136  0.000569869 0.002178443 0.00e+00\n",
       "32 142dpi RV_top A2            P136  0.000509792 0.002042879 0.00e+00\n",
       "33 142dpi RV_top A3            P136  0.000816324 0.002407532 4.79e-05\n",
       "34 142dpi RV_top A4            P136  0.000301313 0.002019899 0.00e+00\n",
       "35 142dpi RV_top A5            P136  0.001533985 0.002727735 9.35e-05\n",
       "36 142dpi RV_top A6            P136  0.000153049 0.000965296 0.00e+00\n",
       "   mass_700    mass_800\n",
       "31 0.000000000 0       \n",
       "32 0.000000000 0       \n",
       "33 0.000000000 0       \n",
       "34 0.000000000 0       \n",
       "35 0.000000000 0       \n",
       "36 0.000247528 0       "
      ]
     },
     "metadata": {},
     "output_type": "display_data"
    },
    {
     "data": {
      "text/html": [
       "<ol class=list-inline>\n",
       "\t<li>30</li>\n",
       "\t<li>13</li>\n",
       "</ol>\n"
      ],
      "text/latex": [
       "\\begin{enumerate*}\n",
       "\\item 30\n",
       "\\item 13\n",
       "\\end{enumerate*}\n"
      ],
      "text/markdown": [
       "1. 30\n",
       "2. 13\n",
       "\n",
       "\n"
      ],
      "text/plain": [
       "[1] 30 13"
      ]
     },
     "metadata": {},
     "output_type": "display_data"
    }
   ],
   "source": [
    "features_pos<-droplevels(subset(a, a$Treatmentgroup==c(\"Group1C\")|a$Treatmentgroup==c(\"Group3E\")))\n",
    "head(features_pos)\n",
    "dim(features_pos)"
   ]
  },
  {
   "cell_type": "code",
   "execution_count": 4,
   "metadata": {
    "scrolled": false
   },
   "outputs": [
    {
     "data": {
      "text/html": [
       "<table>\n",
       "<thead><tr><th></th><th scope=col>mass_400</th><th scope=col>mass_500</th><th scope=col>mass_600</th><th scope=col>mass_700</th><th scope=col>mass_800</th></tr></thead>\n",
       "<tbody>\n",
       "\t<tr><th scope=row>31</th><td>0.000569869</td><td>0.002178443</td><td>0.00e+00   </td><td>0.000000000</td><td>0          </td></tr>\n",
       "\t<tr><th scope=row>32</th><td>0.000509792</td><td>0.002042879</td><td>0.00e+00   </td><td>0.000000000</td><td>0          </td></tr>\n",
       "\t<tr><th scope=row>33</th><td>0.000816324</td><td>0.002407532</td><td>4.79e-05   </td><td>0.000000000</td><td>0          </td></tr>\n",
       "\t<tr><th scope=row>34</th><td>0.000301313</td><td>0.002019899</td><td>0.00e+00   </td><td>0.000000000</td><td>0          </td></tr>\n",
       "\t<tr><th scope=row>35</th><td>0.001533985</td><td>0.002727735</td><td>9.35e-05   </td><td>0.000000000</td><td>0          </td></tr>\n",
       "\t<tr><th scope=row>36</th><td>0.000153049</td><td>0.000965296</td><td>0.00e+00   </td><td>0.000247528</td><td>0          </td></tr>\n",
       "</tbody>\n",
       "</table>\n"
      ],
      "text/latex": [
       "\\begin{tabular}{r|lllll}\n",
       "  & mass\\_400 & mass\\_500 & mass\\_600 & mass\\_700 & mass\\_800\\\\\n",
       "\\hline\n",
       "\t31 & 0.000569869 & 0.002178443 & 0.00e+00    & 0.000000000 & 0          \\\\\n",
       "\t32 & 0.000509792 & 0.002042879 & 0.00e+00    & 0.000000000 & 0          \\\\\n",
       "\t33 & 0.000816324 & 0.002407532 & 4.79e-05    & 0.000000000 & 0          \\\\\n",
       "\t34 & 0.000301313 & 0.002019899 & 0.00e+00    & 0.000000000 & 0          \\\\\n",
       "\t35 & 0.001533985 & 0.002727735 & 9.35e-05    & 0.000000000 & 0          \\\\\n",
       "\t36 & 0.000153049 & 0.000965296 & 0.00e+00    & 0.000247528 & 0          \\\\\n",
       "\\end{tabular}\n"
      ],
      "text/markdown": [
       "\n",
       "| <!--/--> | mass_400 | mass_500 | mass_600 | mass_700 | mass_800 |\n",
       "|---|---|---|---|---|---|\n",
       "| 31 | 0.000569869 | 0.002178443 | 0.00e+00    | 0.000000000 | 0           |\n",
       "| 32 | 0.000509792 | 0.002042879 | 0.00e+00    | 0.000000000 | 0           |\n",
       "| 33 | 0.000816324 | 0.002407532 | 4.79e-05    | 0.000000000 | 0           |\n",
       "| 34 | 0.000301313 | 0.002019899 | 0.00e+00    | 0.000000000 | 0           |\n",
       "| 35 | 0.001533985 | 0.002727735 | 9.35e-05    | 0.000000000 | 0           |\n",
       "| 36 | 0.000153049 | 0.000965296 | 0.00e+00    | 0.000247528 | 0           |\n",
       "\n"
      ],
      "text/plain": [
       "   mass_400    mass_500    mass_600 mass_700    mass_800\n",
       "31 0.000569869 0.002178443 0.00e+00 0.000000000 0       \n",
       "32 0.000509792 0.002042879 0.00e+00 0.000000000 0       \n",
       "33 0.000816324 0.002407532 4.79e-05 0.000000000 0       \n",
       "34 0.000301313 0.002019899 0.00e+00 0.000000000 0       \n",
       "35 0.001533985 0.002727735 9.35e-05 0.000000000 0       \n",
       "36 0.000153049 0.000965296 0.00e+00 0.000247528 0       "
      ]
     },
     "metadata": {},
     "output_type": "display_data"
    },
    {
     "data": {
      "text/html": [
       "<dl class=dl-horizontal>\n",
       "\t<dt>mass_400</dt>\n",
       "\t\t<dd>1</dd>\n",
       "\t<dt>mass_500</dt>\n",
       "\t\t<dd>2</dd>\n",
       "\t<dt>mass_600</dt>\n",
       "\t\t<dd>3</dd>\n",
       "\t<dt>mass_700</dt>\n",
       "\t\t<dd>4</dd>\n",
       "\t<dt>mass_800</dt>\n",
       "\t\t<dd>5</dd>\n",
       "</dl>\n"
      ],
      "text/latex": [
       "\\begin{description*}\n",
       "\\item[mass\\textbackslash{}\\_400] 1\n",
       "\\item[mass\\textbackslash{}\\_500] 2\n",
       "\\item[mass\\textbackslash{}\\_600] 3\n",
       "\\item[mass\\textbackslash{}\\_700] 4\n",
       "\\item[mass\\textbackslash{}\\_800] 5\n",
       "\\end{description*}\n"
      ],
      "text/markdown": [
       "mass_400\n",
       ":   1mass_500\n",
       ":   2mass_600\n",
       ":   3mass_700\n",
       ":   4mass_800\n",
       ":   5\n",
       "\n"
      ],
      "text/plain": [
       "mass_400 mass_500 mass_600 mass_700 mass_800 \n",
       "       1        2        3        4        5 "
      ]
     },
     "metadata": {},
     "output_type": "display_data"
    },
    {
     "data": {
      "text/html": [
       "<table>\n",
       "<thead><tr><th></th><th scope=col>mass_400</th><th scope=col>mass_500</th><th scope=col>mass_600</th><th scope=col>mass_700</th><th scope=col>mass_800</th></tr></thead>\n",
       "<tbody>\n",
       "\t<tr><th scope=row>31</th><td>0.000569869</td><td>0.002178443</td><td>0.000000000</td><td>0.000000000</td><td>0.000000000</td></tr>\n",
       "\t<tr><th scope=row>32</th><td>0.000509792</td><td>0.002042879</td><td>0.000000000</td><td>0.000000000</td><td>0.000000000</td></tr>\n",
       "\t<tr><th scope=row>33</th><td>0.000816324</td><td>0.002407532</td><td>0.000047900</td><td>0.000000000</td><td>0.000000000</td></tr>\n",
       "\t<tr><th scope=row>34</th><td>0.000301313</td><td>0.002019899</td><td>0.000000000</td><td>0.000000000</td><td>0.000000000</td></tr>\n",
       "\t<tr><th scope=row>35</th><td>0.001533985</td><td>0.002727735</td><td>0.000093500</td><td>0.000000000</td><td>0.000000000</td></tr>\n",
       "\t<tr><th scope=row>36</th><td>0.000153049</td><td>0.000965296</td><td>0.000000000</td><td>0.000247528</td><td>0.000000000</td></tr>\n",
       "\t<tr><th scope=row>37</th><td>0.000075500</td><td>0.001213120</td><td>0.000000000</td><td>0.000000000</td><td>0.000000000</td></tr>\n",
       "\t<tr><th scope=row>38</th><td>0.000145535</td><td>0.001532144</td><td>0.000000000</td><td>0.000000000</td><td>0.000000000</td></tr>\n",
       "\t<tr><th scope=row>39</th><td>0.001038047</td><td>0.004464137</td><td>0.000000000</td><td>0.000000000</td><td>0.000000000</td></tr>\n",
       "\t<tr><th scope=row>40</th><td>0.000436314</td><td>0.001584317</td><td>0.000000000</td><td>0.000000000</td><td>0.000000000</td></tr>\n",
       "\t<tr><th scope=row>41</th><td>0.000000000</td><td>0.000759807</td><td>0.000000000</td><td>0.000000000</td><td>0.000000000</td></tr>\n",
       "\t<tr><th scope=row>42</th><td>0.001382608</td><td>0.004233342</td><td>0.000000000</td><td>0.000000000</td><td>0.000000000</td></tr>\n",
       "\t<tr><th scope=row>43</th><td>0.000741191</td><td>0.003148006</td><td>0.000000000</td><td>0.000310199</td><td>0.000000000</td></tr>\n",
       "\t<tr><th scope=row>44</th><td>0.001008741</td><td>0.002326894</td><td>0.000104976</td><td>0.000000000</td><td>0.000000000</td></tr>\n",
       "\t<tr><th scope=row>45</th><td>0.000758610</td><td>0.001878710</td><td>0.000090000</td><td>0.000000000</td><td>0.000000000</td></tr>\n",
       "\t<tr><th scope=row>76</th><td>0.002105318</td><td>0.004538325</td><td>0.000000000</td><td>0.000000000</td><td>0.000000000</td></tr>\n",
       "\t<tr><th scope=row>77</th><td>0.000973754</td><td>0.004393339</td><td>0.000000000</td><td>0.000000000</td><td>0.000000000</td></tr>\n",
       "\t<tr><th scope=row>78</th><td>0.000462391</td><td>0.002073038</td><td>0.000000000</td><td>0.000189585</td><td>0.000000000</td></tr>\n",
       "\t<tr><th scope=row>79</th><td>0.000123065</td><td>0.000592476</td><td>0.000000000</td><td>0.000000000</td><td>0.000000000</td></tr>\n",
       "\t<tr><th scope=row>80</th><td>0.000048400</td><td>0.001140661</td><td>0.000000000</td><td>0.000000000</td><td>0.000000000</td></tr>\n",
       "\t<tr><th scope=row>81</th><td>0.000636423</td><td>0.003249991</td><td>0.000000000</td><td>0.000057600</td><td>0.000000000</td></tr>\n",
       "\t<tr><th scope=row>82</th><td>0.000671128</td><td>0.002769636</td><td>0.000000000</td><td>0.000393872</td><td>0.000000000</td></tr>\n",
       "\t<tr><th scope=row>83</th><td>0.000430006</td><td>0.002459320</td><td>0.000000000</td><td>0.000000000</td><td>0.000000000</td></tr>\n",
       "\t<tr><th scope=row>84</th><td>0.001096215</td><td>0.004951822</td><td>0.000000000</td><td>0.000244456</td><td>0.000000000</td></tr>\n",
       "\t<tr><th scope=row>85</th><td>0.000394392</td><td>0.002460555</td><td>0.000000000</td><td>0.000000000</td><td>0.000000000</td></tr>\n",
       "\t<tr><th scope=row>86</th><td>0.002841460</td><td>0.008887495</td><td>0.000000000</td><td>0.001924834</td><td>0.000724215</td></tr>\n",
       "\t<tr><th scope=row>87</th><td>0.000664903</td><td>0.003959735</td><td>0.000000000</td><td>0.000588520</td><td>0.000102253</td></tr>\n",
       "\t<tr><th scope=row>88</th><td>0.001095010</td><td>0.007112991</td><td>0.000000000</td><td>0.000477194</td><td>0.000000000</td></tr>\n",
       "\t<tr><th scope=row>89</th><td>0.000384390</td><td>0.002200604</td><td>0.000000000</td><td>0.000000000</td><td>0.000000000</td></tr>\n",
       "\t<tr><th scope=row>90</th><td>0.000501509</td><td>0.001814986</td><td>0.000000000</td><td>0.000190467</td><td>0.000000000</td></tr>\n",
       "</tbody>\n",
       "</table>\n"
      ],
      "text/latex": [
       "\\begin{tabular}{r|lllll}\n",
       "  & mass\\_400 & mass\\_500 & mass\\_600 & mass\\_700 & mass\\_800\\\\\n",
       "\\hline\n",
       "\t31 & 0.000569869 & 0.002178443 & 0.000000000 & 0.000000000 & 0.000000000\\\\\n",
       "\t32 & 0.000509792 & 0.002042879 & 0.000000000 & 0.000000000 & 0.000000000\\\\\n",
       "\t33 & 0.000816324 & 0.002407532 & 0.000047900 & 0.000000000 & 0.000000000\\\\\n",
       "\t34 & 0.000301313 & 0.002019899 & 0.000000000 & 0.000000000 & 0.000000000\\\\\n",
       "\t35 & 0.001533985 & 0.002727735 & 0.000093500 & 0.000000000 & 0.000000000\\\\\n",
       "\t36 & 0.000153049 & 0.000965296 & 0.000000000 & 0.000247528 & 0.000000000\\\\\n",
       "\t37 & 0.000075500 & 0.001213120 & 0.000000000 & 0.000000000 & 0.000000000\\\\\n",
       "\t38 & 0.000145535 & 0.001532144 & 0.000000000 & 0.000000000 & 0.000000000\\\\\n",
       "\t39 & 0.001038047 & 0.004464137 & 0.000000000 & 0.000000000 & 0.000000000\\\\\n",
       "\t40 & 0.000436314 & 0.001584317 & 0.000000000 & 0.000000000 & 0.000000000\\\\\n",
       "\t41 & 0.000000000 & 0.000759807 & 0.000000000 & 0.000000000 & 0.000000000\\\\\n",
       "\t42 & 0.001382608 & 0.004233342 & 0.000000000 & 0.000000000 & 0.000000000\\\\\n",
       "\t43 & 0.000741191 & 0.003148006 & 0.000000000 & 0.000310199 & 0.000000000\\\\\n",
       "\t44 & 0.001008741 & 0.002326894 & 0.000104976 & 0.000000000 & 0.000000000\\\\\n",
       "\t45 & 0.000758610 & 0.001878710 & 0.000090000 & 0.000000000 & 0.000000000\\\\\n",
       "\t76 & 0.002105318 & 0.004538325 & 0.000000000 & 0.000000000 & 0.000000000\\\\\n",
       "\t77 & 0.000973754 & 0.004393339 & 0.000000000 & 0.000000000 & 0.000000000\\\\\n",
       "\t78 & 0.000462391 & 0.002073038 & 0.000000000 & 0.000189585 & 0.000000000\\\\\n",
       "\t79 & 0.000123065 & 0.000592476 & 0.000000000 & 0.000000000 & 0.000000000\\\\\n",
       "\t80 & 0.000048400 & 0.001140661 & 0.000000000 & 0.000000000 & 0.000000000\\\\\n",
       "\t81 & 0.000636423 & 0.003249991 & 0.000000000 & 0.000057600 & 0.000000000\\\\\n",
       "\t82 & 0.000671128 & 0.002769636 & 0.000000000 & 0.000393872 & 0.000000000\\\\\n",
       "\t83 & 0.000430006 & 0.002459320 & 0.000000000 & 0.000000000 & 0.000000000\\\\\n",
       "\t84 & 0.001096215 & 0.004951822 & 0.000000000 & 0.000244456 & 0.000000000\\\\\n",
       "\t85 & 0.000394392 & 0.002460555 & 0.000000000 & 0.000000000 & 0.000000000\\\\\n",
       "\t86 & 0.002841460 & 0.008887495 & 0.000000000 & 0.001924834 & 0.000724215\\\\\n",
       "\t87 & 0.000664903 & 0.003959735 & 0.000000000 & 0.000588520 & 0.000102253\\\\\n",
       "\t88 & 0.001095010 & 0.007112991 & 0.000000000 & 0.000477194 & 0.000000000\\\\\n",
       "\t89 & 0.000384390 & 0.002200604 & 0.000000000 & 0.000000000 & 0.000000000\\\\\n",
       "\t90 & 0.000501509 & 0.001814986 & 0.000000000 & 0.000190467 & 0.000000000\\\\\n",
       "\\end{tabular}\n"
      ],
      "text/markdown": [
       "\n",
       "| <!--/--> | mass_400 | mass_500 | mass_600 | mass_700 | mass_800 |\n",
       "|---|---|---|---|---|---|\n",
       "| 31 | 0.000569869 | 0.002178443 | 0.000000000 | 0.000000000 | 0.000000000 |\n",
       "| 32 | 0.000509792 | 0.002042879 | 0.000000000 | 0.000000000 | 0.000000000 |\n",
       "| 33 | 0.000816324 | 0.002407532 | 0.000047900 | 0.000000000 | 0.000000000 |\n",
       "| 34 | 0.000301313 | 0.002019899 | 0.000000000 | 0.000000000 | 0.000000000 |\n",
       "| 35 | 0.001533985 | 0.002727735 | 0.000093500 | 0.000000000 | 0.000000000 |\n",
       "| 36 | 0.000153049 | 0.000965296 | 0.000000000 | 0.000247528 | 0.000000000 |\n",
       "| 37 | 0.000075500 | 0.001213120 | 0.000000000 | 0.000000000 | 0.000000000 |\n",
       "| 38 | 0.000145535 | 0.001532144 | 0.000000000 | 0.000000000 | 0.000000000 |\n",
       "| 39 | 0.001038047 | 0.004464137 | 0.000000000 | 0.000000000 | 0.000000000 |\n",
       "| 40 | 0.000436314 | 0.001584317 | 0.000000000 | 0.000000000 | 0.000000000 |\n",
       "| 41 | 0.000000000 | 0.000759807 | 0.000000000 | 0.000000000 | 0.000000000 |\n",
       "| 42 | 0.001382608 | 0.004233342 | 0.000000000 | 0.000000000 | 0.000000000 |\n",
       "| 43 | 0.000741191 | 0.003148006 | 0.000000000 | 0.000310199 | 0.000000000 |\n",
       "| 44 | 0.001008741 | 0.002326894 | 0.000104976 | 0.000000000 | 0.000000000 |\n",
       "| 45 | 0.000758610 | 0.001878710 | 0.000090000 | 0.000000000 | 0.000000000 |\n",
       "| 76 | 0.002105318 | 0.004538325 | 0.000000000 | 0.000000000 | 0.000000000 |\n",
       "| 77 | 0.000973754 | 0.004393339 | 0.000000000 | 0.000000000 | 0.000000000 |\n",
       "| 78 | 0.000462391 | 0.002073038 | 0.000000000 | 0.000189585 | 0.000000000 |\n",
       "| 79 | 0.000123065 | 0.000592476 | 0.000000000 | 0.000000000 | 0.000000000 |\n",
       "| 80 | 0.000048400 | 0.001140661 | 0.000000000 | 0.000000000 | 0.000000000 |\n",
       "| 81 | 0.000636423 | 0.003249991 | 0.000000000 | 0.000057600 | 0.000000000 |\n",
       "| 82 | 0.000671128 | 0.002769636 | 0.000000000 | 0.000393872 | 0.000000000 |\n",
       "| 83 | 0.000430006 | 0.002459320 | 0.000000000 | 0.000000000 | 0.000000000 |\n",
       "| 84 | 0.001096215 | 0.004951822 | 0.000000000 | 0.000244456 | 0.000000000 |\n",
       "| 85 | 0.000394392 | 0.002460555 | 0.000000000 | 0.000000000 | 0.000000000 |\n",
       "| 86 | 0.002841460 | 0.008887495 | 0.000000000 | 0.001924834 | 0.000724215 |\n",
       "| 87 | 0.000664903 | 0.003959735 | 0.000000000 | 0.000588520 | 0.000102253 |\n",
       "| 88 | 0.001095010 | 0.007112991 | 0.000000000 | 0.000477194 | 0.000000000 |\n",
       "| 89 | 0.000384390 | 0.002200604 | 0.000000000 | 0.000000000 | 0.000000000 |\n",
       "| 90 | 0.000501509 | 0.001814986 | 0.000000000 | 0.000190467 | 0.000000000 |\n",
       "\n"
      ],
      "text/plain": [
       "   mass_400    mass_500    mass_600    mass_700    mass_800   \n",
       "31 0.000569869 0.002178443 0.000000000 0.000000000 0.000000000\n",
       "32 0.000509792 0.002042879 0.000000000 0.000000000 0.000000000\n",
       "33 0.000816324 0.002407532 0.000047900 0.000000000 0.000000000\n",
       "34 0.000301313 0.002019899 0.000000000 0.000000000 0.000000000\n",
       "35 0.001533985 0.002727735 0.000093500 0.000000000 0.000000000\n",
       "36 0.000153049 0.000965296 0.000000000 0.000247528 0.000000000\n",
       "37 0.000075500 0.001213120 0.000000000 0.000000000 0.000000000\n",
       "38 0.000145535 0.001532144 0.000000000 0.000000000 0.000000000\n",
       "39 0.001038047 0.004464137 0.000000000 0.000000000 0.000000000\n",
       "40 0.000436314 0.001584317 0.000000000 0.000000000 0.000000000\n",
       "41 0.000000000 0.000759807 0.000000000 0.000000000 0.000000000\n",
       "42 0.001382608 0.004233342 0.000000000 0.000000000 0.000000000\n",
       "43 0.000741191 0.003148006 0.000000000 0.000310199 0.000000000\n",
       "44 0.001008741 0.002326894 0.000104976 0.000000000 0.000000000\n",
       "45 0.000758610 0.001878710 0.000090000 0.000000000 0.000000000\n",
       "76 0.002105318 0.004538325 0.000000000 0.000000000 0.000000000\n",
       "77 0.000973754 0.004393339 0.000000000 0.000000000 0.000000000\n",
       "78 0.000462391 0.002073038 0.000000000 0.000189585 0.000000000\n",
       "79 0.000123065 0.000592476 0.000000000 0.000000000 0.000000000\n",
       "80 0.000048400 0.001140661 0.000000000 0.000000000 0.000000000\n",
       "81 0.000636423 0.003249991 0.000000000 0.000057600 0.000000000\n",
       "82 0.000671128 0.002769636 0.000000000 0.000393872 0.000000000\n",
       "83 0.000430006 0.002459320 0.000000000 0.000000000 0.000000000\n",
       "84 0.001096215 0.004951822 0.000000000 0.000244456 0.000000000\n",
       "85 0.000394392 0.002460555 0.000000000 0.000000000 0.000000000\n",
       "86 0.002841460 0.008887495 0.000000000 0.001924834 0.000724215\n",
       "87 0.000664903 0.003959735 0.000000000 0.000588520 0.000102253\n",
       "88 0.001095010 0.007112991 0.000000000 0.000477194 0.000000000\n",
       "89 0.000384390 0.002200604 0.000000000 0.000000000 0.000000000\n",
       "90 0.000501509 0.001814986 0.000000000 0.000190467 0.000000000"
      ]
     },
     "metadata": {},
     "output_type": "display_data"
    },
    {
     "data": {
      "text/html": [
       "<table>\n",
       "<thead><tr><th></th><th scope=col>filename</th><th scope=col>MouseID</th><th scope=col>Treatmentgroup</th><th scope=col>status</th><th scope=col>DPI</th><th scope=col>organ</th><th scope=col>well_position</th><th scope=col>plate</th><th scope=col>mass_400</th><th scope=col>mass_500</th><th scope=col>mass_600</th><th scope=col>mass_700</th><th scope=col>mass_800</th></tr></thead>\n",
       "<tbody>\n",
       "\t<tr><th scope=row>31</th><td>X511_Group1C_142dpi_RV_top_161_G_A1_P136.mzXML</td><td>511                                           </td><td>Group1C                                       </td><td>naive                                         </td><td>142dpi                                        </td><td>RV_top                                        </td><td>A1                                            </td><td>P136                                          </td><td>0.000569869                                   </td><td>0.002178443                                   </td><td>0.00e+00                                      </td><td>0.000000000                                   </td><td>0                                             </td></tr>\n",
       "\t<tr><th scope=row>32</th><td>X512_Group1C_142dpi_RV_top_162_G_A2_P136.mzXML</td><td>512                                           </td><td>Group1C                                       </td><td>naive                                         </td><td>142dpi                                        </td><td>RV_top                                        </td><td>A2                                            </td><td>P136                                          </td><td>0.000509792                                   </td><td>0.002042879                                   </td><td>0.00e+00                                      </td><td>0.000000000                                   </td><td>0                                             </td></tr>\n",
       "\t<tr><th scope=row>33</th><td>X513_Group1C_142dpi_RV_top_163_G_A3_P136.mzXML</td><td>513                                           </td><td>Group1C                                       </td><td>naive                                         </td><td>142dpi                                        </td><td>RV_top                                        </td><td>A3                                            </td><td>P136                                          </td><td>0.000816324                                   </td><td>0.002407532                                   </td><td>4.79e-05                                      </td><td>0.000000000                                   </td><td>0                                             </td></tr>\n",
       "\t<tr><th scope=row>34</th><td>X514_Group1C_142dpi_RV_top_164_G_A4_P136.mzXML</td><td>514                                           </td><td>Group1C                                       </td><td>naive                                         </td><td>142dpi                                        </td><td>RV_top                                        </td><td>A4                                            </td><td>P136                                          </td><td>0.000301313                                   </td><td>0.002019899                                   </td><td>0.00e+00                                      </td><td>0.000000000                                   </td><td>0                                             </td></tr>\n",
       "\t<tr><th scope=row>35</th><td>X515_Group1C_142dpi_RV_top_165_G_A5_P136.mzXML</td><td>515                                           </td><td>Group1C                                       </td><td>naive                                         </td><td>142dpi                                        </td><td>RV_top                                        </td><td>A5                                            </td><td>P136                                          </td><td>0.001533985                                   </td><td>0.002727735                                   </td><td>9.35e-05                                      </td><td>0.000000000                                   </td><td>0                                             </td></tr>\n",
       "\t<tr><th scope=row>36</th><td>X531_Group1C_142dpi_RV_top_166_G_A6_P136.mzXML</td><td>531                                           </td><td>Group1C                                       </td><td>naive                                         </td><td>142dpi                                        </td><td>RV_top                                        </td><td>A6                                            </td><td>P136                                          </td><td>0.000153049                                   </td><td>0.000965296                                   </td><td>0.00e+00                                      </td><td>0.000247528                                   </td><td>0                                             </td></tr>\n",
       "</tbody>\n",
       "</table>\n"
      ],
      "text/latex": [
       "\\begin{tabular}{r|lllllllllllll}\n",
       "  & filename & MouseID & Treatmentgroup & status & DPI & organ & well\\_position & plate & mass\\_400 & mass\\_500 & mass\\_600 & mass\\_700 & mass\\_800\\\\\n",
       "\\hline\n",
       "\t31 & X511\\_Group1C\\_142dpi\\_RV\\_top\\_161\\_G\\_A1\\_P136.mzXML & 511                                                            & Group1C                                                        & naive                                                          & 142dpi                                                         & RV\\_top                                                       & A1                                                             & P136                                                           & 0.000569869                                                    & 0.002178443                                                    & 0.00e+00                                                       & 0.000000000                                                    & 0                                                             \\\\\n",
       "\t32 & X512\\_Group1C\\_142dpi\\_RV\\_top\\_162\\_G\\_A2\\_P136.mzXML & 512                                                            & Group1C                                                        & naive                                                          & 142dpi                                                         & RV\\_top                                                       & A2                                                             & P136                                                           & 0.000509792                                                    & 0.002042879                                                    & 0.00e+00                                                       & 0.000000000                                                    & 0                                                             \\\\\n",
       "\t33 & X513\\_Group1C\\_142dpi\\_RV\\_top\\_163\\_G\\_A3\\_P136.mzXML & 513                                                            & Group1C                                                        & naive                                                          & 142dpi                                                         & RV\\_top                                                       & A3                                                             & P136                                                           & 0.000816324                                                    & 0.002407532                                                    & 4.79e-05                                                       & 0.000000000                                                    & 0                                                             \\\\\n",
       "\t34 & X514\\_Group1C\\_142dpi\\_RV\\_top\\_164\\_G\\_A4\\_P136.mzXML & 514                                                            & Group1C                                                        & naive                                                          & 142dpi                                                         & RV\\_top                                                       & A4                                                             & P136                                                           & 0.000301313                                                    & 0.002019899                                                    & 0.00e+00                                                       & 0.000000000                                                    & 0                                                             \\\\\n",
       "\t35 & X515\\_Group1C\\_142dpi\\_RV\\_top\\_165\\_G\\_A5\\_P136.mzXML & 515                                                            & Group1C                                                        & naive                                                          & 142dpi                                                         & RV\\_top                                                       & A5                                                             & P136                                                           & 0.001533985                                                    & 0.002727735                                                    & 9.35e-05                                                       & 0.000000000                                                    & 0                                                             \\\\\n",
       "\t36 & X531\\_Group1C\\_142dpi\\_RV\\_top\\_166\\_G\\_A6\\_P136.mzXML & 531                                                            & Group1C                                                        & naive                                                          & 142dpi                                                         & RV\\_top                                                       & A6                                                             & P136                                                           & 0.000153049                                                    & 0.000965296                                                    & 0.00e+00                                                       & 0.000247528                                                    & 0                                                             \\\\\n",
       "\\end{tabular}\n"
      ],
      "text/markdown": [
       "\n",
       "| <!--/--> | filename | MouseID | Treatmentgroup | status | DPI | organ | well_position | plate | mass_400 | mass_500 | mass_600 | mass_700 | mass_800 |\n",
       "|---|---|---|---|---|---|---|---|---|---|---|---|---|---|\n",
       "| 31 | X511_Group1C_142dpi_RV_top_161_G_A1_P136.mzXML | 511                                            | Group1C                                        | naive                                          | 142dpi                                         | RV_top                                         | A1                                             | P136                                           | 0.000569869                                    | 0.002178443                                    | 0.00e+00                                       | 0.000000000                                    | 0                                              |\n",
       "| 32 | X512_Group1C_142dpi_RV_top_162_G_A2_P136.mzXML | 512                                            | Group1C                                        | naive                                          | 142dpi                                         | RV_top                                         | A2                                             | P136                                           | 0.000509792                                    | 0.002042879                                    | 0.00e+00                                       | 0.000000000                                    | 0                                              |\n",
       "| 33 | X513_Group1C_142dpi_RV_top_163_G_A3_P136.mzXML | 513                                            | Group1C                                        | naive                                          | 142dpi                                         | RV_top                                         | A3                                             | P136                                           | 0.000816324                                    | 0.002407532                                    | 4.79e-05                                       | 0.000000000                                    | 0                                              |\n",
       "| 34 | X514_Group1C_142dpi_RV_top_164_G_A4_P136.mzXML | 514                                            | Group1C                                        | naive                                          | 142dpi                                         | RV_top                                         | A4                                             | P136                                           | 0.000301313                                    | 0.002019899                                    | 0.00e+00                                       | 0.000000000                                    | 0                                              |\n",
       "| 35 | X515_Group1C_142dpi_RV_top_165_G_A5_P136.mzXML | 515                                            | Group1C                                        | naive                                          | 142dpi                                         | RV_top                                         | A5                                             | P136                                           | 0.001533985                                    | 0.002727735                                    | 9.35e-05                                       | 0.000000000                                    | 0                                              |\n",
       "| 36 | X531_Group1C_142dpi_RV_top_166_G_A6_P136.mzXML | 531                                            | Group1C                                        | naive                                          | 142dpi                                         | RV_top                                         | A6                                             | P136                                           | 0.000153049                                    | 0.000965296                                    | 0.00e+00                                       | 0.000247528                                    | 0                                              |\n",
       "\n"
      ],
      "text/plain": [
       "   filename                                       MouseID Treatmentgroup status\n",
       "31 X511_Group1C_142dpi_RV_top_161_G_A1_P136.mzXML 511     Group1C        naive \n",
       "32 X512_Group1C_142dpi_RV_top_162_G_A2_P136.mzXML 512     Group1C        naive \n",
       "33 X513_Group1C_142dpi_RV_top_163_G_A3_P136.mzXML 513     Group1C        naive \n",
       "34 X514_Group1C_142dpi_RV_top_164_G_A4_P136.mzXML 514     Group1C        naive \n",
       "35 X515_Group1C_142dpi_RV_top_165_G_A5_P136.mzXML 515     Group1C        naive \n",
       "36 X531_Group1C_142dpi_RV_top_166_G_A6_P136.mzXML 531     Group1C        naive \n",
       "   DPI    organ  well_position plate mass_400    mass_500    mass_600\n",
       "31 142dpi RV_top A1            P136  0.000569869 0.002178443 0.00e+00\n",
       "32 142dpi RV_top A2            P136  0.000509792 0.002042879 0.00e+00\n",
       "33 142dpi RV_top A3            P136  0.000816324 0.002407532 4.79e-05\n",
       "34 142dpi RV_top A4            P136  0.000301313 0.002019899 0.00e+00\n",
       "35 142dpi RV_top A5            P136  0.001533985 0.002727735 9.35e-05\n",
       "36 142dpi RV_top A6            P136  0.000153049 0.000965296 0.00e+00\n",
       "   mass_700    mass_800\n",
       "31 0.000000000 0       \n",
       "32 0.000000000 0       \n",
       "33 0.000000000 0       \n",
       "34 0.000000000 0       \n",
       "35 0.000000000 0       \n",
       "36 0.000247528 0       "
      ]
     },
     "metadata": {},
     "output_type": "display_data"
    },
    {
     "data": {
      "text/html": [
       "<ol class=list-inline>\n",
       "\t<li>30</li>\n",
       "\t<li>13</li>\n",
       "</ol>\n"
      ],
      "text/latex": [
       "\\begin{enumerate*}\n",
       "\\item 30\n",
       "\\item 13\n",
       "\\end{enumerate*}\n"
      ],
      "text/markdown": [
       "1. 30\n",
       "2. 13\n",
       "\n",
       "\n"
      ],
      "text/plain": [
       "[1] 30 13"
      ]
     },
     "metadata": {},
     "output_type": "display_data"
    },
    {
     "data": {
      "text/html": [
       "<ol class=list-inline>\n",
       "\t<li>30</li>\n",
       "\t<li>5</li>\n",
       "</ol>\n"
      ],
      "text/latex": [
       "\\begin{enumerate*}\n",
       "\\item 30\n",
       "\\item 5\n",
       "\\end{enumerate*}\n"
      ],
      "text/markdown": [
       "1. 30\n",
       "2. 5\n",
       "\n",
       "\n"
      ],
      "text/plain": [
       "[1] 30  5"
      ]
     },
     "metadata": {},
     "output_type": "display_data"
    },
    {
     "data": {
      "text/html": [
       "<ol class=list-inline>\n",
       "\t<li>30</li>\n",
       "\t<li>5</li>\n",
       "</ol>\n"
      ],
      "text/latex": [
       "\\begin{enumerate*}\n",
       "\\item 30\n",
       "\\item 5\n",
       "\\end{enumerate*}\n"
      ],
      "text/markdown": [
       "1. 30\n",
       "2. 5\n",
       "\n",
       "\n"
      ],
      "text/plain": [
       "[1] 30  5"
      ]
     },
     "metadata": {},
     "output_type": "display_data"
    },
    {
     "data": {
      "text/html": [
       "<ol class=list-inline>\n",
       "\t<li>30</li>\n",
       "\t<li>13</li>\n",
       "</ol>\n"
      ],
      "text/latex": [
       "\\begin{enumerate*}\n",
       "\\item 30\n",
       "\\item 13\n",
       "\\end{enumerate*}\n"
      ],
      "text/markdown": [
       "1. 30\n",
       "2. 13\n",
       "\n",
       "\n"
      ],
      "text/plain": [
       "[1] 30 13"
      ]
     },
     "metadata": {},
     "output_type": "display_data"
    }
   ],
   "source": [
    "noMeta<-features_pos[,9:13]\n",
    "head(noMeta)\n",
    "not_zero<-which(colSums(noMeta) != 0)\n",
    "head(not_zero)\n",
    "nonzero <- noMeta[, not_zero]\n",
    "nonzero\n",
    "nonzero_wMeta<-cbind(features_pos[,1:8], nonzero)\n",
    "head(nonzero_wMeta)\n",
    "dim(features_pos)\n",
    "dim(noMeta)\n",
    "dim(nonzero)\n",
    "dim(nonzero_wMeta)"
   ]
  },
  {
   "cell_type": "code",
   "execution_count": 5,
   "metadata": {
    "scrolled": true
   },
   "outputs": [
    {
     "name": "stderr",
     "output_type": "stream",
     "text": [
      "Warning message in wilcox.test.default(x = c(0, 0, 4.79e-05, 0, 9.35e-05, 0, 0, :\n",
      "\"cannot compute exact p-value with ties\"Warning message in wilcox.test.default(x = c(0, 0, 0, 0, 0, 0.000247528, 0, 0, 0, :\n",
      "\"cannot compute exact p-value with ties\"Warning message in wilcox.test.default(x = c(0, 0, 0, 0, 0, 0, 0, 0, 0, 0, 0, 0, :\n",
      "\"cannot compute exact p-value with ties\""
     ]
    },
    {
     "data": {
      "text/html": [
       "<ol class=list-inline>\n",
       "\t<li>0.743702065375981</li>\n",
       "\t<li>0.0612792417000994</li>\n",
       "\t<li>0.0384143238141604</li>\n",
       "\t<li>0.0278306810035529</li>\n",
       "\t<li>0.164394222391658</li>\n",
       "</ol>\n"
      ],
      "text/latex": [
       "\\begin{enumerate*}\n",
       "\\item 0.743702065375981\n",
       "\\item 0.0612792417000994\n",
       "\\item 0.0384143238141604\n",
       "\\item 0.0278306810035529\n",
       "\\item 0.164394222391658\n",
       "\\end{enumerate*}\n"
      ],
      "text/markdown": [
       "1. 0.743702065375981\n",
       "2. 0.0612792417000994\n",
       "3. 0.0384143238141604\n",
       "4. 0.0278306810035529\n",
       "5. 0.164394222391658\n",
       "\n",
       "\n"
      ],
      "text/plain": [
       "[1] 0.74370207 0.06127924 0.03841432 0.02783068 0.16439422"
      ]
     },
     "metadata": {},
     "output_type": "display_data"
    },
    {
     "data": {
      "text/html": [
       "<ol class=list-inline>\n",
       "\t<li>0.743702065375981</li>\n",
       "\t<li>0.102132069500166</li>\n",
       "\t<li>0.096035809535401</li>\n",
       "\t<li>0.096035809535401</li>\n",
       "\t<li>0.205492777989572</li>\n",
       "</ol>\n"
      ],
      "text/latex": [
       "\\begin{enumerate*}\n",
       "\\item 0.743702065375981\n",
       "\\item 0.102132069500166\n",
       "\\item 0.096035809535401\n",
       "\\item 0.096035809535401\n",
       "\\item 0.205492777989572\n",
       "\\end{enumerate*}\n"
      ],
      "text/markdown": [
       "1. 0.743702065375981\n",
       "2. 0.102132069500166\n",
       "3. 0.096035809535401\n",
       "4. 0.096035809535401\n",
       "5. 0.205492777989572\n",
       "\n",
       "\n"
      ],
      "text/plain": [
       "[1] 0.74370207 0.10213207 0.09603581 0.09603581 0.20549278"
      ]
     },
     "metadata": {},
     "output_type": "display_data"
    }
   ],
   "source": [
    "pval<-c()\n",
    "\n",
    "for (i in 9:ncol(nonzero_wMeta)) \n",
    "pval<-c(pval,wilcox.test(nonzero_wMeta[,i]~nonzero_wMeta$Treatmentgroup)$p.value)\n",
    "head(pval)\n",
    "pAdj <- p.adjust(pval, method = c(\"fdr\"), n=length(pval)) \n",
    "head(pAdj) \n",
    "\n"
   ]
  },
  {
   "cell_type": "code",
   "execution_count": 6,
   "metadata": {
    "scrolled": true
   },
   "outputs": [
    {
     "data": {
      "text/html": [
       "5"
      ],
      "text/latex": [
       "5"
      ],
      "text/markdown": [
       "5"
      ],
      "text/plain": [
       "[1] 5"
      ]
     },
     "metadata": {},
     "output_type": "display_data"
    }
   ],
   "source": [
    "length(pval)"
   ]
  },
  {
   "cell_type": "code",
   "execution_count": 7,
   "metadata": {
    "scrolled": true
   },
   "outputs": [
    {
     "data": {
      "text/html": [
       "5"
      ],
      "text/latex": [
       "5"
      ],
      "text/markdown": [
       "5"
      ],
      "text/plain": [
       "[1] 5"
      ]
     },
     "metadata": {},
     "output_type": "display_data"
    }
   ],
   "source": [
    "length(pAdj)"
   ]
  },
  {
   "cell_type": "code",
   "execution_count": 8,
   "metadata": {},
   "outputs": [
    {
     "data": {
      "text/html": [
       "<ol class=list-inline>\n",
       "\t<li>2</li>\n",
       "\t<li>5</li>\n",
       "</ol>\n"
      ],
      "text/latex": [
       "\\begin{enumerate*}\n",
       "\\item 2\n",
       "\\item 5\n",
       "\\end{enumerate*}\n"
      ],
      "text/markdown": [
       "1. 2\n",
       "2. 5\n",
       "\n",
       "\n"
      ],
      "text/plain": [
       "[1] 2 5"
      ]
     },
     "metadata": {},
     "output_type": "display_data"
    },
    {
     "data": {
      "text/html": [
       "<table>\n",
       "<thead><tr><th></th><th scope=col>mass_400</th><th scope=col>mass_500</th><th scope=col>mass_600</th></tr></thead>\n",
       "<tbody>\n",
       "\t<tr><th scope=row>Group1C</th><td>0.0006313919</td><td>0.002232151 </td><td>2.242507e-05</td></tr>\n",
       "\t<tr><th scope=row>Group3E</th><td>0.0008285576</td><td>0.003506998 </td><td>0.000000e+00</td></tr>\n",
       "</tbody>\n",
       "</table>\n"
      ],
      "text/latex": [
       "\\begin{tabular}{r|lll}\n",
       "  & mass\\_400 & mass\\_500 & mass\\_600\\\\\n",
       "\\hline\n",
       "\tGroup1C & 0.0006313919 & 0.002232151  & 2.242507e-05\\\\\n",
       "\tGroup3E & 0.0008285576 & 0.003506998  & 0.000000e+00\\\\\n",
       "\\end{tabular}\n"
      ],
      "text/markdown": [
       "\n",
       "| <!--/--> | mass_400 | mass_500 | mass_600 |\n",
       "|---|---|---|---|\n",
       "| Group1C | 0.0006313919 | 0.002232151  | 2.242507e-05 |\n",
       "| Group3E | 0.0008285576 | 0.003506998  | 0.000000e+00 |\n",
       "\n"
      ],
      "text/plain": [
       "        mass_400     mass_500    mass_600    \n",
       "Group1C 0.0006313919 0.002232151 2.242507e-05\n",
       "Group3E 0.0008285576 0.003506998 0.000000e+00"
      ]
     },
     "metadata": {},
     "output_type": "display_data"
    },
    {
     "data": {
      "text/html": [
       "<dl class=dl-horizontal>\n",
       "\t<dt>mass_400</dt>\n",
       "\t\t<dd>0.762037384807848</dd>\n",
       "\t<dt>mass_500</dt>\n",
       "\t\t<dd>0.63648469819603</dd>\n",
       "\t<dt>mass_600</dt>\n",
       "\t\t<dd>Inf</dd>\n",
       "\t<dt>mass_700</dt>\n",
       "\t\t<dd>0.137150660219234</dd>\n",
       "\t<dt>mass_800</dt>\n",
       "\t\t<dd>0</dd>\n",
       "</dl>\n"
      ],
      "text/latex": [
       "\\begin{description*}\n",
       "\\item[mass\\textbackslash{}\\_400] 0.762037384807848\n",
       "\\item[mass\\textbackslash{}\\_500] 0.63648469819603\n",
       "\\item[mass\\textbackslash{}\\_600] Inf\n",
       "\\item[mass\\textbackslash{}\\_700] 0.137150660219234\n",
       "\\item[mass\\textbackslash{}\\_800] 0\n",
       "\\end{description*}\n"
      ],
      "text/markdown": [
       "mass_400\n",
       ":   0.762037384807848mass_500\n",
       ":   0.63648469819603mass_600\n",
       ":   Infmass_700\n",
       ":   0.137150660219234mass_800\n",
       ":   0\n",
       "\n"
      ],
      "text/plain": [
       " mass_400  mass_500  mass_600  mass_700  mass_800 \n",
       "0.7620374 0.6364847       Inf 0.1371507 0.0000000 "
      ]
     },
     "metadata": {},
     "output_type": "display_data"
    },
    {
     "data": {
      "text/html": [
       "<ol class=list-inline>\n",
       "\t<li>'numeric'</li>\n",
       "\t<li>'vector'</li>\n",
       "</ol>\n"
      ],
      "text/latex": [
       "\\begin{enumerate*}\n",
       "\\item 'numeric'\n",
       "\\item 'vector'\n",
       "\\end{enumerate*}\n"
      ],
      "text/markdown": [
       "1. 'numeric'\n",
       "2. 'vector'\n",
       "\n",
       "\n"
      ],
      "text/plain": [
       "[1] \"numeric\" \"vector\" "
      ]
     },
     "metadata": {},
     "output_type": "display_data"
    }
   ],
   "source": [
    "avg<- apply(nonzero_wMeta[,9:ncol(nonzero_wMeta)], 2, function(x) tapply(x, nonzero_wMeta$Treatmentgroup, function(x) mean(x))) \n",
    "\n",
    "dim(avg)\n",
    "\n",
    "avg[,1:3]\n",
    "\n",
    "fch <- apply(avg, 2, function(x) x[1]/x[2])\n",
    "\n",
    "head(fch)\n",
    "is(fch)"
   ]
  },
  {
   "cell_type": "code",
   "execution_count": 9,
   "metadata": {
    "scrolled": true
   },
   "outputs": [
    {
     "data": {
      "text/html": [
       "<dl class=dl-horizontal>\n",
       "\t<dt>mass_400</dt>\n",
       "\t\t<dd>0.762037384807848</dd>\n",
       "\t<dt>mass_500</dt>\n",
       "\t\t<dd>0.63648469819603</dd>\n",
       "\t<dt>mass_600</dt>\n",
       "\t\t<dd>Inf</dd>\n",
       "\t<dt>mass_700</dt>\n",
       "\t\t<dd>0.137150660219234</dd>\n",
       "\t<dt>mass_800</dt>\n",
       "\t\t<dd>0</dd>\n",
       "</dl>\n"
      ],
      "text/latex": [
       "\\begin{description*}\n",
       "\\item[mass\\textbackslash{}\\_400] 0.762037384807848\n",
       "\\item[mass\\textbackslash{}\\_500] 0.63648469819603\n",
       "\\item[mass\\textbackslash{}\\_600] Inf\n",
       "\\item[mass\\textbackslash{}\\_700] 0.137150660219234\n",
       "\\item[mass\\textbackslash{}\\_800] 0\n",
       "\\end{description*}\n"
      ],
      "text/markdown": [
       "mass_400\n",
       ":   0.762037384807848mass_500\n",
       ":   0.63648469819603mass_600\n",
       ":   Infmass_700\n",
       ":   0.137150660219234mass_800\n",
       ":   0\n",
       "\n"
      ],
      "text/plain": [
       " mass_400  mass_500  mass_600  mass_700  mass_800 \n",
       "0.7620374 0.6364847       Inf 0.1371507 0.0000000 "
      ]
     },
     "metadata": {},
     "output_type": "display_data"
    }
   ],
   "source": [
    "fch"
   ]
  },
  {
   "cell_type": "code",
   "execution_count": 10,
   "metadata": {
    "scrolled": false
   },
   "outputs": [],
   "source": [
    "df <- data.frame(fch,pval, pAdj)\n",
    "write.csv(df, \"PE-time-RVT-wilcox-1C-3E.csv\")"
   ]
  },
  {
   "cell_type": "code",
   "execution_count": null,
   "metadata": {},
   "outputs": [],
   "source": []
  },
  {
   "cell_type": "code",
   "execution_count": null,
   "metadata": {},
   "outputs": [],
   "source": []
  },
  {
   "cell_type": "code",
   "execution_count": null,
   "metadata": {},
   "outputs": [],
   "source": []
  },
  {
   "cell_type": "code",
   "execution_count": null,
   "metadata": {},
   "outputs": [],
   "source": []
  },
  {
   "cell_type": "code",
   "execution_count": null,
   "metadata": {},
   "outputs": [],
   "source": []
  },
  {
   "cell_type": "code",
   "execution_count": null,
   "metadata": {},
   "outputs": [],
   "source": []
  }
 ],
 "metadata": {
  "kernelspec": {
   "display_name": "R",
   "language": "R",
   "name": "ir"
  },
  "language_info": {
   "codemirror_mode": "r",
   "file_extension": ".r",
   "mimetype": "text/x-r-source",
   "name": "R",
   "pygments_lexer": "r",
   "version": "3.6.1"
  }
 },
 "nbformat": 4,
 "nbformat_minor": 2
}
