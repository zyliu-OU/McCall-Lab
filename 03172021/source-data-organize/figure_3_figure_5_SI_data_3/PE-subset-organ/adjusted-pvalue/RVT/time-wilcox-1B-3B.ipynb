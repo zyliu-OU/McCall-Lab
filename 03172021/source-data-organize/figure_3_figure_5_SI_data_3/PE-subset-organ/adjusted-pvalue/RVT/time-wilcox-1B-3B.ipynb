{
 "cells": [
  {
   "cell_type": "code",
   "execution_count": 1,
   "metadata": {},
   "outputs": [],
   "source": [
    "a <- read.csv(\"03172021-PE-time-RVT-M-F.csv\")"
   ]
  },
  {
   "cell_type": "code",
   "execution_count": 2,
   "metadata": {},
   "outputs": [
    {
     "data": {
      "text/html": [
       "<table>\n",
       "<thead><tr><th scope=col>filename</th><th scope=col>MouseID</th><th scope=col>Treatmentgroup</th><th scope=col>status</th><th scope=col>DPI</th><th scope=col>organ</th><th scope=col>well_position</th><th scope=col>plate</th><th scope=col>mass_400</th><th scope=col>mass_500</th><th scope=col>mass_600</th><th scope=col>mass_700</th><th scope=col>mass_800</th></tr></thead>\n",
       "<tbody>\n",
       "\t<tr><td>X501_Group1A_50dpi_RV_top_251_B_A1_P137.mzXML</td><td>501                                          </td><td>Group1A                                      </td><td>naive                                        </td><td>50dpi                                        </td><td>RV_top                                       </td><td>A1                                           </td><td>P137                                         </td><td>0.000689227                                  </td><td>0.003880256                                  </td><td>0.000000000                                  </td><td>0.000000000                                  </td><td>0                                            </td></tr>\n",
       "\t<tr><td>X502_Group1A_50dpi_RV_top_252_B_A2_P137.mzXML</td><td>502                                          </td><td>Group1A                                      </td><td>naive                                        </td><td>50dpi                                        </td><td>RV_top                                       </td><td>A2                                           </td><td>P137                                         </td><td>0.001208015                                  </td><td>0.005265772                                  </td><td>0.000110198                                  </td><td>0.000000000                                  </td><td>0                                            </td></tr>\n",
       "\t<tr><td>X503_Group1A_50dpi_RV_top_253_B_A3_P137.mzXML</td><td>503                                          </td><td>Group1A                                      </td><td>naive                                        </td><td>50dpi                                        </td><td>RV_top                                       </td><td>A3                                           </td><td>P137                                         </td><td>0.000999221                                  </td><td>0.005218108                                  </td><td>0.000000000                                  </td><td>0.000706719                                  </td><td>0                                            </td></tr>\n",
       "\t<tr><td>X504_Group1A_50dpi_RV_top_254_B_A4_P137.mzXML</td><td>504                                          </td><td>Group1A                                      </td><td>naive                                        </td><td>50dpi                                        </td><td>RV_top                                       </td><td>A4                                           </td><td>P137                                         </td><td>0.001044375                                  </td><td>0.003351871                                  </td><td>0.000278093                                  </td><td>0.000000000                                  </td><td>0                                            </td></tr>\n",
       "\t<tr><td>X505_Group1A_50dpi_RV_top_255_B_A5_P137.mzXML</td><td>505                                          </td><td>Group1A                                      </td><td>naive                                        </td><td>50dpi                                        </td><td>RV_top                                       </td><td>A5                                           </td><td>P137                                         </td><td>0.001161190                                  </td><td>0.003870088                                  </td><td>0.000051500                                  </td><td>0.000000000                                  </td><td>0                                            </td></tr>\n",
       "\t<tr><td>X521_Group1A_50dpi_RV_top_256_B_A6_P137.mzXML</td><td>521                                          </td><td>Group1A                                      </td><td>naive                                        </td><td>50dpi                                        </td><td>RV_top                                       </td><td>A6                                           </td><td>P137                                         </td><td>0.000810124                                  </td><td>0.001880512                                  </td><td>0.000000000                                  </td><td>0.000214414                                  </td><td>0                                            </td></tr>\n",
       "</tbody>\n",
       "</table>\n"
      ],
      "text/latex": [
       "\\begin{tabular}{r|lllllllllllll}\n",
       " filename & MouseID & Treatmentgroup & status & DPI & organ & well\\_position & plate & mass\\_400 & mass\\_500 & mass\\_600 & mass\\_700 & mass\\_800\\\\\n",
       "\\hline\n",
       "\t X501\\_Group1A\\_50dpi\\_RV\\_top\\_251\\_B\\_A1\\_P137.mzXML & 501                                                           & Group1A                                                       & naive                                                         & 50dpi                                                         & RV\\_top                                                      & A1                                                            & P137                                                          & 0.000689227                                                   & 0.003880256                                                   & 0.000000000                                                   & 0.000000000                                                   & 0                                                            \\\\\n",
       "\t X502\\_Group1A\\_50dpi\\_RV\\_top\\_252\\_B\\_A2\\_P137.mzXML & 502                                                           & Group1A                                                       & naive                                                         & 50dpi                                                         & RV\\_top                                                      & A2                                                            & P137                                                          & 0.001208015                                                   & 0.005265772                                                   & 0.000110198                                                   & 0.000000000                                                   & 0                                                            \\\\\n",
       "\t X503\\_Group1A\\_50dpi\\_RV\\_top\\_253\\_B\\_A3\\_P137.mzXML & 503                                                           & Group1A                                                       & naive                                                         & 50dpi                                                         & RV\\_top                                                      & A3                                                            & P137                                                          & 0.000999221                                                   & 0.005218108                                                   & 0.000000000                                                   & 0.000706719                                                   & 0                                                            \\\\\n",
       "\t X504\\_Group1A\\_50dpi\\_RV\\_top\\_254\\_B\\_A4\\_P137.mzXML & 504                                                           & Group1A                                                       & naive                                                         & 50dpi                                                         & RV\\_top                                                      & A4                                                            & P137                                                          & 0.001044375                                                   & 0.003351871                                                   & 0.000278093                                                   & 0.000000000                                                   & 0                                                            \\\\\n",
       "\t X505\\_Group1A\\_50dpi\\_RV\\_top\\_255\\_B\\_A5\\_P137.mzXML & 505                                                           & Group1A                                                       & naive                                                         & 50dpi                                                         & RV\\_top                                                      & A5                                                            & P137                                                          & 0.001161190                                                   & 0.003870088                                                   & 0.000051500                                                   & 0.000000000                                                   & 0                                                            \\\\\n",
       "\t X521\\_Group1A\\_50dpi\\_RV\\_top\\_256\\_B\\_A6\\_P137.mzXML & 521                                                           & Group1A                                                       & naive                                                         & 50dpi                                                         & RV\\_top                                                      & A6                                                            & P137                                                          & 0.000810124                                                   & 0.001880512                                                   & 0.000000000                                                   & 0.000214414                                                   & 0                                                            \\\\\n",
       "\\end{tabular}\n"
      ],
      "text/markdown": [
       "\n",
       "| filename | MouseID | Treatmentgroup | status | DPI | organ | well_position | plate | mass_400 | mass_500 | mass_600 | mass_700 | mass_800 |\n",
       "|---|---|---|---|---|---|---|---|---|---|---|---|---|\n",
       "| X501_Group1A_50dpi_RV_top_251_B_A1_P137.mzXML | 501                                           | Group1A                                       | naive                                         | 50dpi                                         | RV_top                                        | A1                                            | P137                                          | 0.000689227                                   | 0.003880256                                   | 0.000000000                                   | 0.000000000                                   | 0                                             |\n",
       "| X502_Group1A_50dpi_RV_top_252_B_A2_P137.mzXML | 502                                           | Group1A                                       | naive                                         | 50dpi                                         | RV_top                                        | A2                                            | P137                                          | 0.001208015                                   | 0.005265772                                   | 0.000110198                                   | 0.000000000                                   | 0                                             |\n",
       "| X503_Group1A_50dpi_RV_top_253_B_A3_P137.mzXML | 503                                           | Group1A                                       | naive                                         | 50dpi                                         | RV_top                                        | A3                                            | P137                                          | 0.000999221                                   | 0.005218108                                   | 0.000000000                                   | 0.000706719                                   | 0                                             |\n",
       "| X504_Group1A_50dpi_RV_top_254_B_A4_P137.mzXML | 504                                           | Group1A                                       | naive                                         | 50dpi                                         | RV_top                                        | A4                                            | P137                                          | 0.001044375                                   | 0.003351871                                   | 0.000278093                                   | 0.000000000                                   | 0                                             |\n",
       "| X505_Group1A_50dpi_RV_top_255_B_A5_P137.mzXML | 505                                           | Group1A                                       | naive                                         | 50dpi                                         | RV_top                                        | A5                                            | P137                                          | 0.001161190                                   | 0.003870088                                   | 0.000051500                                   | 0.000000000                                   | 0                                             |\n",
       "| X521_Group1A_50dpi_RV_top_256_B_A6_P137.mzXML | 521                                           | Group1A                                       | naive                                         | 50dpi                                         | RV_top                                        | A6                                            | P137                                          | 0.000810124                                   | 0.001880512                                   | 0.000000000                                   | 0.000214414                                   | 0                                             |\n",
       "\n"
      ],
      "text/plain": [
       "  filename                                      MouseID Treatmentgroup status\n",
       "1 X501_Group1A_50dpi_RV_top_251_B_A1_P137.mzXML 501     Group1A        naive \n",
       "2 X502_Group1A_50dpi_RV_top_252_B_A2_P137.mzXML 502     Group1A        naive \n",
       "3 X503_Group1A_50dpi_RV_top_253_B_A3_P137.mzXML 503     Group1A        naive \n",
       "4 X504_Group1A_50dpi_RV_top_254_B_A4_P137.mzXML 504     Group1A        naive \n",
       "5 X505_Group1A_50dpi_RV_top_255_B_A5_P137.mzXML 505     Group1A        naive \n",
       "6 X521_Group1A_50dpi_RV_top_256_B_A6_P137.mzXML 521     Group1A        naive \n",
       "  DPI   organ  well_position plate mass_400    mass_500    mass_600   \n",
       "1 50dpi RV_top A1            P137  0.000689227 0.003880256 0.000000000\n",
       "2 50dpi RV_top A2            P137  0.001208015 0.005265772 0.000110198\n",
       "3 50dpi RV_top A3            P137  0.000999221 0.005218108 0.000000000\n",
       "4 50dpi RV_top A4            P137  0.001044375 0.003351871 0.000278093\n",
       "5 50dpi RV_top A5            P137  0.001161190 0.003870088 0.000051500\n",
       "6 50dpi RV_top A6            P137  0.000810124 0.001880512 0.000000000\n",
       "  mass_700    mass_800\n",
       "1 0.000000000 0       \n",
       "2 0.000000000 0       \n",
       "3 0.000706719 0       \n",
       "4 0.000000000 0       \n",
       "5 0.000000000 0       \n",
       "6 0.000214414 0       "
      ]
     },
     "metadata": {},
     "output_type": "display_data"
    },
    {
     "data": {
      "text/html": [
       "<ol class=list-inline>\n",
       "\t<li>90</li>\n",
       "\t<li>13</li>\n",
       "</ol>\n"
      ],
      "text/latex": [
       "\\begin{enumerate*}\n",
       "\\item 90\n",
       "\\item 13\n",
       "\\end{enumerate*}\n"
      ],
      "text/markdown": [
       "1. 90\n",
       "2. 13\n",
       "\n",
       "\n"
      ],
      "text/plain": [
       "[1] 90 13"
      ]
     },
     "metadata": {},
     "output_type": "display_data"
    }
   ],
   "source": [
    "head(a)\n",
    "dim(a)"
   ]
  },
  {
   "cell_type": "code",
   "execution_count": 3,
   "metadata": {},
   "outputs": [
    {
     "data": {
      "text/html": [
       "<table>\n",
       "<thead><tr><th></th><th scope=col>filename</th><th scope=col>MouseID</th><th scope=col>Treatmentgroup</th><th scope=col>status</th><th scope=col>DPI</th><th scope=col>organ</th><th scope=col>well_position</th><th scope=col>plate</th><th scope=col>mass_400</th><th scope=col>mass_500</th><th scope=col>mass_600</th><th scope=col>mass_700</th><th scope=col>mass_800</th></tr></thead>\n",
       "<tbody>\n",
       "\t<tr><th scope=row>16</th><td>X506_Group1B_70dpi_RV_top_281_B_C7_P137.mzXML </td><td>506                                           </td><td>Group1B                                       </td><td>naive                                         </td><td>70dpi                                         </td><td>RV_top                                        </td><td>C7                                            </td><td>P137                                          </td><td>0.000704142                                   </td><td>0.003315680                                   </td><td>4.15e-05                                      </td><td>0.000295251                                   </td><td>0.00e+00                                      </td></tr>\n",
       "\t<tr><th scope=row>17</th><td>X507_Group1B_70dpi_RV_top_282_B_C8_P137.mzXML </td><td>507                                           </td><td>Group1B                                       </td><td>naive                                         </td><td>70dpi                                         </td><td>RV_top                                        </td><td>C8                                            </td><td>P137                                          </td><td>0.000269393                                   </td><td>0.002105935                                   </td><td>0.00e+00                                      </td><td>0.000000000                                   </td><td>0.00e+00                                      </td></tr>\n",
       "\t<tr><th scope=row>18</th><td>X508_Group1B_70dpi_RV_top_283_B_C9_P137.mzXML </td><td>508                                           </td><td>Group1B                                       </td><td>naive                                         </td><td>70dpi                                         </td><td>RV_top                                        </td><td>C9                                            </td><td>P137                                          </td><td>0.000784000                                   </td><td>0.002903224                                   </td><td>0.00e+00                                      </td><td>0.000223149                                   </td><td>3.62e-05                                      </td></tr>\n",
       "\t<tr><th scope=row>19</th><td>X509_Group1B_70dpi_RV_top_284_B_C10_P137.mzXML</td><td>509                                           </td><td>Group1B                                       </td><td>naive                                         </td><td>70dpi                                         </td><td>RV_top                                        </td><td>C10                                           </td><td>P137                                          </td><td>0.000633233                                   </td><td>0.002613035                                   </td><td>0.00e+00                                      </td><td>0.000000000                                   </td><td>0.00e+00                                      </td></tr>\n",
       "\t<tr><th scope=row>20</th><td>X510_Group1B_70dpi_RV_top_285_B_C11_P137.mzXML</td><td>510                                           </td><td>Group1B                                       </td><td>naive                                         </td><td>70dpi                                         </td><td>RV_top                                        </td><td>C11                                           </td><td>P137                                          </td><td>0.000514782                                   </td><td>0.002137601                                   </td><td>0.00e+00                                      </td><td>0.000221159                                   </td><td>0.00e+00                                      </td></tr>\n",
       "\t<tr><th scope=row>21</th><td>X526_Group1B_70dpi_RV_top_286_B_C12_P137.mzXML</td><td>526                                           </td><td>Group1B                                       </td><td>naive                                         </td><td>70dpi                                         </td><td>RV_top                                        </td><td>C12                                           </td><td>P137                                          </td><td>0.000424809                                   </td><td>0.002630015                                   </td><td>0.00e+00                                      </td><td>0.000000000                                   </td><td>0.00e+00                                      </td></tr>\n",
       "</tbody>\n",
       "</table>\n"
      ],
      "text/latex": [
       "\\begin{tabular}{r|lllllllllllll}\n",
       "  & filename & MouseID & Treatmentgroup & status & DPI & organ & well\\_position & plate & mass\\_400 & mass\\_500 & mass\\_600 & mass\\_700 & mass\\_800\\\\\n",
       "\\hline\n",
       "\t16 & X506\\_Group1B\\_70dpi\\_RV\\_top\\_281\\_B\\_C7\\_P137.mzXML  & 506                                                            & Group1B                                                        & naive                                                          & 70dpi                                                          & RV\\_top                                                       & C7                                                             & P137                                                           & 0.000704142                                                    & 0.003315680                                                    & 4.15e-05                                                       & 0.000295251                                                    & 0.00e+00                                                      \\\\\n",
       "\t17 & X507\\_Group1B\\_70dpi\\_RV\\_top\\_282\\_B\\_C8\\_P137.mzXML  & 507                                                            & Group1B                                                        & naive                                                          & 70dpi                                                          & RV\\_top                                                       & C8                                                             & P137                                                           & 0.000269393                                                    & 0.002105935                                                    & 0.00e+00                                                       & 0.000000000                                                    & 0.00e+00                                                      \\\\\n",
       "\t18 & X508\\_Group1B\\_70dpi\\_RV\\_top\\_283\\_B\\_C9\\_P137.mzXML  & 508                                                            & Group1B                                                        & naive                                                          & 70dpi                                                          & RV\\_top                                                       & C9                                                             & P137                                                           & 0.000784000                                                    & 0.002903224                                                    & 0.00e+00                                                       & 0.000223149                                                    & 3.62e-05                                                      \\\\\n",
       "\t19 & X509\\_Group1B\\_70dpi\\_RV\\_top\\_284\\_B\\_C10\\_P137.mzXML & 509                                                            & Group1B                                                        & naive                                                          & 70dpi                                                          & RV\\_top                                                       & C10                                                            & P137                                                           & 0.000633233                                                    & 0.002613035                                                    & 0.00e+00                                                       & 0.000000000                                                    & 0.00e+00                                                      \\\\\n",
       "\t20 & X510\\_Group1B\\_70dpi\\_RV\\_top\\_285\\_B\\_C11\\_P137.mzXML & 510                                                            & Group1B                                                        & naive                                                          & 70dpi                                                          & RV\\_top                                                       & C11                                                            & P137                                                           & 0.000514782                                                    & 0.002137601                                                    & 0.00e+00                                                       & 0.000221159                                                    & 0.00e+00                                                      \\\\\n",
       "\t21 & X526\\_Group1B\\_70dpi\\_RV\\_top\\_286\\_B\\_C12\\_P137.mzXML & 526                                                            & Group1B                                                        & naive                                                          & 70dpi                                                          & RV\\_top                                                       & C12                                                            & P137                                                           & 0.000424809                                                    & 0.002630015                                                    & 0.00e+00                                                       & 0.000000000                                                    & 0.00e+00                                                      \\\\\n",
       "\\end{tabular}\n"
      ],
      "text/markdown": [
       "\n",
       "| <!--/--> | filename | MouseID | Treatmentgroup | status | DPI | organ | well_position | plate | mass_400 | mass_500 | mass_600 | mass_700 | mass_800 |\n",
       "|---|---|---|---|---|---|---|---|---|---|---|---|---|---|\n",
       "| 16 | X506_Group1B_70dpi_RV_top_281_B_C7_P137.mzXML  | 506                                            | Group1B                                        | naive                                          | 70dpi                                          | RV_top                                         | C7                                             | P137                                           | 0.000704142                                    | 0.003315680                                    | 4.15e-05                                       | 0.000295251                                    | 0.00e+00                                       |\n",
       "| 17 | X507_Group1B_70dpi_RV_top_282_B_C8_P137.mzXML  | 507                                            | Group1B                                        | naive                                          | 70dpi                                          | RV_top                                         | C8                                             | P137                                           | 0.000269393                                    | 0.002105935                                    | 0.00e+00                                       | 0.000000000                                    | 0.00e+00                                       |\n",
       "| 18 | X508_Group1B_70dpi_RV_top_283_B_C9_P137.mzXML  | 508                                            | Group1B                                        | naive                                          | 70dpi                                          | RV_top                                         | C9                                             | P137                                           | 0.000784000                                    | 0.002903224                                    | 0.00e+00                                       | 0.000223149                                    | 3.62e-05                                       |\n",
       "| 19 | X509_Group1B_70dpi_RV_top_284_B_C10_P137.mzXML | 509                                            | Group1B                                        | naive                                          | 70dpi                                          | RV_top                                         | C10                                            | P137                                           | 0.000633233                                    | 0.002613035                                    | 0.00e+00                                       | 0.000000000                                    | 0.00e+00                                       |\n",
       "| 20 | X510_Group1B_70dpi_RV_top_285_B_C11_P137.mzXML | 510                                            | Group1B                                        | naive                                          | 70dpi                                          | RV_top                                         | C11                                            | P137                                           | 0.000514782                                    | 0.002137601                                    | 0.00e+00                                       | 0.000221159                                    | 0.00e+00                                       |\n",
       "| 21 | X526_Group1B_70dpi_RV_top_286_B_C12_P137.mzXML | 526                                            | Group1B                                        | naive                                          | 70dpi                                          | RV_top                                         | C12                                            | P137                                           | 0.000424809                                    | 0.002630015                                    | 0.00e+00                                       | 0.000000000                                    | 0.00e+00                                       |\n",
       "\n"
      ],
      "text/plain": [
       "   filename                                       MouseID Treatmentgroup status\n",
       "16 X506_Group1B_70dpi_RV_top_281_B_C7_P137.mzXML  506     Group1B        naive \n",
       "17 X507_Group1B_70dpi_RV_top_282_B_C8_P137.mzXML  507     Group1B        naive \n",
       "18 X508_Group1B_70dpi_RV_top_283_B_C9_P137.mzXML  508     Group1B        naive \n",
       "19 X509_Group1B_70dpi_RV_top_284_B_C10_P137.mzXML 509     Group1B        naive \n",
       "20 X510_Group1B_70dpi_RV_top_285_B_C11_P137.mzXML 510     Group1B        naive \n",
       "21 X526_Group1B_70dpi_RV_top_286_B_C12_P137.mzXML 526     Group1B        naive \n",
       "   DPI   organ  well_position plate mass_400    mass_500    mass_600\n",
       "16 70dpi RV_top C7            P137  0.000704142 0.003315680 4.15e-05\n",
       "17 70dpi RV_top C8            P137  0.000269393 0.002105935 0.00e+00\n",
       "18 70dpi RV_top C9            P137  0.000784000 0.002903224 0.00e+00\n",
       "19 70dpi RV_top C10           P137  0.000633233 0.002613035 0.00e+00\n",
       "20 70dpi RV_top C11           P137  0.000514782 0.002137601 0.00e+00\n",
       "21 70dpi RV_top C12           P137  0.000424809 0.002630015 0.00e+00\n",
       "   mass_700    mass_800\n",
       "16 0.000295251 0.00e+00\n",
       "17 0.000000000 0.00e+00\n",
       "18 0.000223149 3.62e-05\n",
       "19 0.000000000 0.00e+00\n",
       "20 0.000221159 0.00e+00\n",
       "21 0.000000000 0.00e+00"
      ]
     },
     "metadata": {},
     "output_type": "display_data"
    },
    {
     "data": {
      "text/html": [
       "<ol class=list-inline>\n",
       "\t<li>30</li>\n",
       "\t<li>13</li>\n",
       "</ol>\n"
      ],
      "text/latex": [
       "\\begin{enumerate*}\n",
       "\\item 30\n",
       "\\item 13\n",
       "\\end{enumerate*}\n"
      ],
      "text/markdown": [
       "1. 30\n",
       "2. 13\n",
       "\n",
       "\n"
      ],
      "text/plain": [
       "[1] 30 13"
      ]
     },
     "metadata": {},
     "output_type": "display_data"
    }
   ],
   "source": [
    "features_pos<-droplevels(subset(a, a$Treatmentgroup==c(\"Group1B\")|a$Treatmentgroup==c(\"Group3B\")))\n",
    "head(features_pos)\n",
    "dim(features_pos)"
   ]
  },
  {
   "cell_type": "code",
   "execution_count": 4,
   "metadata": {
    "scrolled": false
   },
   "outputs": [
    {
     "data": {
      "text/html": [
       "<table>\n",
       "<thead><tr><th></th><th scope=col>mass_400</th><th scope=col>mass_500</th><th scope=col>mass_600</th><th scope=col>mass_700</th><th scope=col>mass_800</th></tr></thead>\n",
       "<tbody>\n",
       "\t<tr><th scope=row>16</th><td>0.000704142</td><td>0.003315680</td><td>4.15e-05   </td><td>0.000295251</td><td>0.00e+00   </td></tr>\n",
       "\t<tr><th scope=row>17</th><td>0.000269393</td><td>0.002105935</td><td>0.00e+00   </td><td>0.000000000</td><td>0.00e+00   </td></tr>\n",
       "\t<tr><th scope=row>18</th><td>0.000784000</td><td>0.002903224</td><td>0.00e+00   </td><td>0.000223149</td><td>3.62e-05   </td></tr>\n",
       "\t<tr><th scope=row>19</th><td>0.000633233</td><td>0.002613035</td><td>0.00e+00   </td><td>0.000000000</td><td>0.00e+00   </td></tr>\n",
       "\t<tr><th scope=row>20</th><td>0.000514782</td><td>0.002137601</td><td>0.00e+00   </td><td>0.000221159</td><td>0.00e+00   </td></tr>\n",
       "\t<tr><th scope=row>21</th><td>0.000424809</td><td>0.002630015</td><td>0.00e+00   </td><td>0.000000000</td><td>0.00e+00   </td></tr>\n",
       "</tbody>\n",
       "</table>\n"
      ],
      "text/latex": [
       "\\begin{tabular}{r|lllll}\n",
       "  & mass\\_400 & mass\\_500 & mass\\_600 & mass\\_700 & mass\\_800\\\\\n",
       "\\hline\n",
       "\t16 & 0.000704142 & 0.003315680 & 4.15e-05    & 0.000295251 & 0.00e+00   \\\\\n",
       "\t17 & 0.000269393 & 0.002105935 & 0.00e+00    & 0.000000000 & 0.00e+00   \\\\\n",
       "\t18 & 0.000784000 & 0.002903224 & 0.00e+00    & 0.000223149 & 3.62e-05   \\\\\n",
       "\t19 & 0.000633233 & 0.002613035 & 0.00e+00    & 0.000000000 & 0.00e+00   \\\\\n",
       "\t20 & 0.000514782 & 0.002137601 & 0.00e+00    & 0.000221159 & 0.00e+00   \\\\\n",
       "\t21 & 0.000424809 & 0.002630015 & 0.00e+00    & 0.000000000 & 0.00e+00   \\\\\n",
       "\\end{tabular}\n"
      ],
      "text/markdown": [
       "\n",
       "| <!--/--> | mass_400 | mass_500 | mass_600 | mass_700 | mass_800 |\n",
       "|---|---|---|---|---|---|\n",
       "| 16 | 0.000704142 | 0.003315680 | 4.15e-05    | 0.000295251 | 0.00e+00    |\n",
       "| 17 | 0.000269393 | 0.002105935 | 0.00e+00    | 0.000000000 | 0.00e+00    |\n",
       "| 18 | 0.000784000 | 0.002903224 | 0.00e+00    | 0.000223149 | 3.62e-05    |\n",
       "| 19 | 0.000633233 | 0.002613035 | 0.00e+00    | 0.000000000 | 0.00e+00    |\n",
       "| 20 | 0.000514782 | 0.002137601 | 0.00e+00    | 0.000221159 | 0.00e+00    |\n",
       "| 21 | 0.000424809 | 0.002630015 | 0.00e+00    | 0.000000000 | 0.00e+00    |\n",
       "\n"
      ],
      "text/plain": [
       "   mass_400    mass_500    mass_600 mass_700    mass_800\n",
       "16 0.000704142 0.003315680 4.15e-05 0.000295251 0.00e+00\n",
       "17 0.000269393 0.002105935 0.00e+00 0.000000000 0.00e+00\n",
       "18 0.000784000 0.002903224 0.00e+00 0.000223149 3.62e-05\n",
       "19 0.000633233 0.002613035 0.00e+00 0.000000000 0.00e+00\n",
       "20 0.000514782 0.002137601 0.00e+00 0.000221159 0.00e+00\n",
       "21 0.000424809 0.002630015 0.00e+00 0.000000000 0.00e+00"
      ]
     },
     "metadata": {},
     "output_type": "display_data"
    },
    {
     "data": {
      "text/html": [
       "<dl class=dl-horizontal>\n",
       "\t<dt>mass_400</dt>\n",
       "\t\t<dd>1</dd>\n",
       "\t<dt>mass_500</dt>\n",
       "\t\t<dd>2</dd>\n",
       "\t<dt>mass_600</dt>\n",
       "\t\t<dd>3</dd>\n",
       "\t<dt>mass_700</dt>\n",
       "\t\t<dd>4</dd>\n",
       "\t<dt>mass_800</dt>\n",
       "\t\t<dd>5</dd>\n",
       "</dl>\n"
      ],
      "text/latex": [
       "\\begin{description*}\n",
       "\\item[mass\\textbackslash{}\\_400] 1\n",
       "\\item[mass\\textbackslash{}\\_500] 2\n",
       "\\item[mass\\textbackslash{}\\_600] 3\n",
       "\\item[mass\\textbackslash{}\\_700] 4\n",
       "\\item[mass\\textbackslash{}\\_800] 5\n",
       "\\end{description*}\n"
      ],
      "text/markdown": [
       "mass_400\n",
       ":   1mass_500\n",
       ":   2mass_600\n",
       ":   3mass_700\n",
       ":   4mass_800\n",
       ":   5\n",
       "\n"
      ],
      "text/plain": [
       "mass_400 mass_500 mass_600 mass_700 mass_800 \n",
       "       1        2        3        4        5 "
      ]
     },
     "metadata": {},
     "output_type": "display_data"
    },
    {
     "data": {
      "text/html": [
       "<table>\n",
       "<thead><tr><th></th><th scope=col>mass_400</th><th scope=col>mass_500</th><th scope=col>mass_600</th><th scope=col>mass_700</th><th scope=col>mass_800</th></tr></thead>\n",
       "<tbody>\n",
       "\t<tr><th scope=row>16</th><td>0.000704142</td><td>0.003315680</td><td>0.000041500</td><td>0.000295251</td><td>0.000000000</td></tr>\n",
       "\t<tr><th scope=row>17</th><td>0.000269393</td><td>0.002105935</td><td>0.000000000</td><td>0.000000000</td><td>0.000000000</td></tr>\n",
       "\t<tr><th scope=row>18</th><td>0.000784000</td><td>0.002903224</td><td>0.000000000</td><td>0.000223149</td><td>0.000036200</td></tr>\n",
       "\t<tr><th scope=row>19</th><td>0.000633233</td><td>0.002613035</td><td>0.000000000</td><td>0.000000000</td><td>0.000000000</td></tr>\n",
       "\t<tr><th scope=row>20</th><td>0.000514782</td><td>0.002137601</td><td>0.000000000</td><td>0.000221159</td><td>0.000000000</td></tr>\n",
       "\t<tr><th scope=row>21</th><td>0.000424809</td><td>0.002630015</td><td>0.000000000</td><td>0.000000000</td><td>0.000000000</td></tr>\n",
       "\t<tr><th scope=row>22</th><td>0.000795924</td><td>0.007290795</td><td>0.000000000</td><td>0.000000000</td><td>0.000000000</td></tr>\n",
       "\t<tr><th scope=row>23</th><td>0.000697425</td><td>0.002750592</td><td>0.000000000</td><td>0.000000000</td><td>0.000000000</td></tr>\n",
       "\t<tr><th scope=row>24</th><td>0.000749913</td><td>0.002295345</td><td>0.000000000</td><td>0.000000000</td><td>0.000000000</td></tr>\n",
       "\t<tr><th scope=row>25</th><td>0.000755120</td><td>0.003692771</td><td>0.000000000</td><td>0.000167000</td><td>0.000000000</td></tr>\n",
       "\t<tr><th scope=row>26</th><td>0.000308738</td><td>0.001383526</td><td>0.000000000</td><td>0.000000000</td><td>0.000000000</td></tr>\n",
       "\t<tr><th scope=row>27</th><td>0.000791252</td><td>0.002602794</td><td>0.000000000</td><td>0.000137772</td><td>0.000000000</td></tr>\n",
       "\t<tr><th scope=row>28</th><td>0.000692077</td><td>0.002900542</td><td>0.000000000</td><td>0.000000000</td><td>0.000000000</td></tr>\n",
       "\t<tr><th scope=row>29</th><td>0.000328995</td><td>0.000896163</td><td>0.000000000</td><td>0.000448965</td><td>0.000000000</td></tr>\n",
       "\t<tr><th scope=row>30</th><td>0.000639994</td><td>0.002373096</td><td>0.000042000</td><td>0.000000000</td><td>0.000000000</td></tr>\n",
       "\t<tr><th scope=row>61</th><td>0.000892157</td><td>0.002471858</td><td>0.000000000</td><td>0.000203390</td><td>0.000067500</td></tr>\n",
       "\t<tr><th scope=row>62</th><td>0.000990481</td><td>0.003429514</td><td>0.000000000</td><td>0.000128996</td><td>0.000000000</td></tr>\n",
       "\t<tr><th scope=row>63</th><td>0.000620921</td><td>0.002586015</td><td>0.000000000</td><td>0.000000000</td><td>0.000000000</td></tr>\n",
       "\t<tr><th scope=row>64</th><td>0.001456664</td><td>0.003745600</td><td>0.000000000</td><td>0.000541639</td><td>0.000000000</td></tr>\n",
       "\t<tr><th scope=row>65</th><td>0.000187522</td><td>0.003093664</td><td>0.000000000</td><td>0.000000000</td><td>0.000000000</td></tr>\n",
       "\t<tr><th scope=row>66</th><td>0.001592243</td><td>0.005491701</td><td>0.000382653</td><td>0.001655079</td><td>0.000231706</td></tr>\n",
       "\t<tr><th scope=row>67</th><td>0.001470859</td><td>0.004621542</td><td>0.000464661</td><td>0.001980000</td><td>0.001046106</td></tr>\n",
       "\t<tr><th scope=row>68</th><td>0.001358633</td><td>0.004563221</td><td>0.000117611</td><td>0.000447190</td><td>0.000000000</td></tr>\n",
       "\t<tr><th scope=row>69</th><td>0.001028717</td><td>0.002637141</td><td>0.000040900</td><td>0.000000000</td><td>0.000000000</td></tr>\n",
       "\t<tr><th scope=row>70</th><td>0.002298434</td><td>0.004844629</td><td>0.000291734</td><td>0.002240000</td><td>0.000898495</td></tr>\n",
       "\t<tr><th scope=row>71</th><td>0.000936760</td><td>0.003808730</td><td>0.000210414</td><td>0.000532600</td><td>0.000000000</td></tr>\n",
       "\t<tr><th scope=row>72</th><td>0.002227987</td><td>0.003120000</td><td>0.000199723</td><td>0.000670525</td><td>0.000306096</td></tr>\n",
       "\t<tr><th scope=row>73</th><td>0.000606556</td><td>0.005021298</td><td>0.000000000</td><td>0.000532680</td><td>0.000000000</td></tr>\n",
       "\t<tr><th scope=row>74</th><td>0.000775765</td><td>0.004576115</td><td>0.000070200</td><td>0.001908532</td><td>0.000070300</td></tr>\n",
       "\t<tr><th scope=row>75</th><td>0.001316925</td><td>0.006890224</td><td>0.000156340</td><td>0.000161980</td><td>0.000186334</td></tr>\n",
       "</tbody>\n",
       "</table>\n"
      ],
      "text/latex": [
       "\\begin{tabular}{r|lllll}\n",
       "  & mass\\_400 & mass\\_500 & mass\\_600 & mass\\_700 & mass\\_800\\\\\n",
       "\\hline\n",
       "\t16 & 0.000704142 & 0.003315680 & 0.000041500 & 0.000295251 & 0.000000000\\\\\n",
       "\t17 & 0.000269393 & 0.002105935 & 0.000000000 & 0.000000000 & 0.000000000\\\\\n",
       "\t18 & 0.000784000 & 0.002903224 & 0.000000000 & 0.000223149 & 0.000036200\\\\\n",
       "\t19 & 0.000633233 & 0.002613035 & 0.000000000 & 0.000000000 & 0.000000000\\\\\n",
       "\t20 & 0.000514782 & 0.002137601 & 0.000000000 & 0.000221159 & 0.000000000\\\\\n",
       "\t21 & 0.000424809 & 0.002630015 & 0.000000000 & 0.000000000 & 0.000000000\\\\\n",
       "\t22 & 0.000795924 & 0.007290795 & 0.000000000 & 0.000000000 & 0.000000000\\\\\n",
       "\t23 & 0.000697425 & 0.002750592 & 0.000000000 & 0.000000000 & 0.000000000\\\\\n",
       "\t24 & 0.000749913 & 0.002295345 & 0.000000000 & 0.000000000 & 0.000000000\\\\\n",
       "\t25 & 0.000755120 & 0.003692771 & 0.000000000 & 0.000167000 & 0.000000000\\\\\n",
       "\t26 & 0.000308738 & 0.001383526 & 0.000000000 & 0.000000000 & 0.000000000\\\\\n",
       "\t27 & 0.000791252 & 0.002602794 & 0.000000000 & 0.000137772 & 0.000000000\\\\\n",
       "\t28 & 0.000692077 & 0.002900542 & 0.000000000 & 0.000000000 & 0.000000000\\\\\n",
       "\t29 & 0.000328995 & 0.000896163 & 0.000000000 & 0.000448965 & 0.000000000\\\\\n",
       "\t30 & 0.000639994 & 0.002373096 & 0.000042000 & 0.000000000 & 0.000000000\\\\\n",
       "\t61 & 0.000892157 & 0.002471858 & 0.000000000 & 0.000203390 & 0.000067500\\\\\n",
       "\t62 & 0.000990481 & 0.003429514 & 0.000000000 & 0.000128996 & 0.000000000\\\\\n",
       "\t63 & 0.000620921 & 0.002586015 & 0.000000000 & 0.000000000 & 0.000000000\\\\\n",
       "\t64 & 0.001456664 & 0.003745600 & 0.000000000 & 0.000541639 & 0.000000000\\\\\n",
       "\t65 & 0.000187522 & 0.003093664 & 0.000000000 & 0.000000000 & 0.000000000\\\\\n",
       "\t66 & 0.001592243 & 0.005491701 & 0.000382653 & 0.001655079 & 0.000231706\\\\\n",
       "\t67 & 0.001470859 & 0.004621542 & 0.000464661 & 0.001980000 & 0.001046106\\\\\n",
       "\t68 & 0.001358633 & 0.004563221 & 0.000117611 & 0.000447190 & 0.000000000\\\\\n",
       "\t69 & 0.001028717 & 0.002637141 & 0.000040900 & 0.000000000 & 0.000000000\\\\\n",
       "\t70 & 0.002298434 & 0.004844629 & 0.000291734 & 0.002240000 & 0.000898495\\\\\n",
       "\t71 & 0.000936760 & 0.003808730 & 0.000210414 & 0.000532600 & 0.000000000\\\\\n",
       "\t72 & 0.002227987 & 0.003120000 & 0.000199723 & 0.000670525 & 0.000306096\\\\\n",
       "\t73 & 0.000606556 & 0.005021298 & 0.000000000 & 0.000532680 & 0.000000000\\\\\n",
       "\t74 & 0.000775765 & 0.004576115 & 0.000070200 & 0.001908532 & 0.000070300\\\\\n",
       "\t75 & 0.001316925 & 0.006890224 & 0.000156340 & 0.000161980 & 0.000186334\\\\\n",
       "\\end{tabular}\n"
      ],
      "text/markdown": [
       "\n",
       "| <!--/--> | mass_400 | mass_500 | mass_600 | mass_700 | mass_800 |\n",
       "|---|---|---|---|---|---|\n",
       "| 16 | 0.000704142 | 0.003315680 | 0.000041500 | 0.000295251 | 0.000000000 |\n",
       "| 17 | 0.000269393 | 0.002105935 | 0.000000000 | 0.000000000 | 0.000000000 |\n",
       "| 18 | 0.000784000 | 0.002903224 | 0.000000000 | 0.000223149 | 0.000036200 |\n",
       "| 19 | 0.000633233 | 0.002613035 | 0.000000000 | 0.000000000 | 0.000000000 |\n",
       "| 20 | 0.000514782 | 0.002137601 | 0.000000000 | 0.000221159 | 0.000000000 |\n",
       "| 21 | 0.000424809 | 0.002630015 | 0.000000000 | 0.000000000 | 0.000000000 |\n",
       "| 22 | 0.000795924 | 0.007290795 | 0.000000000 | 0.000000000 | 0.000000000 |\n",
       "| 23 | 0.000697425 | 0.002750592 | 0.000000000 | 0.000000000 | 0.000000000 |\n",
       "| 24 | 0.000749913 | 0.002295345 | 0.000000000 | 0.000000000 | 0.000000000 |\n",
       "| 25 | 0.000755120 | 0.003692771 | 0.000000000 | 0.000167000 | 0.000000000 |\n",
       "| 26 | 0.000308738 | 0.001383526 | 0.000000000 | 0.000000000 | 0.000000000 |\n",
       "| 27 | 0.000791252 | 0.002602794 | 0.000000000 | 0.000137772 | 0.000000000 |\n",
       "| 28 | 0.000692077 | 0.002900542 | 0.000000000 | 0.000000000 | 0.000000000 |\n",
       "| 29 | 0.000328995 | 0.000896163 | 0.000000000 | 0.000448965 | 0.000000000 |\n",
       "| 30 | 0.000639994 | 0.002373096 | 0.000042000 | 0.000000000 | 0.000000000 |\n",
       "| 61 | 0.000892157 | 0.002471858 | 0.000000000 | 0.000203390 | 0.000067500 |\n",
       "| 62 | 0.000990481 | 0.003429514 | 0.000000000 | 0.000128996 | 0.000000000 |\n",
       "| 63 | 0.000620921 | 0.002586015 | 0.000000000 | 0.000000000 | 0.000000000 |\n",
       "| 64 | 0.001456664 | 0.003745600 | 0.000000000 | 0.000541639 | 0.000000000 |\n",
       "| 65 | 0.000187522 | 0.003093664 | 0.000000000 | 0.000000000 | 0.000000000 |\n",
       "| 66 | 0.001592243 | 0.005491701 | 0.000382653 | 0.001655079 | 0.000231706 |\n",
       "| 67 | 0.001470859 | 0.004621542 | 0.000464661 | 0.001980000 | 0.001046106 |\n",
       "| 68 | 0.001358633 | 0.004563221 | 0.000117611 | 0.000447190 | 0.000000000 |\n",
       "| 69 | 0.001028717 | 0.002637141 | 0.000040900 | 0.000000000 | 0.000000000 |\n",
       "| 70 | 0.002298434 | 0.004844629 | 0.000291734 | 0.002240000 | 0.000898495 |\n",
       "| 71 | 0.000936760 | 0.003808730 | 0.000210414 | 0.000532600 | 0.000000000 |\n",
       "| 72 | 0.002227987 | 0.003120000 | 0.000199723 | 0.000670525 | 0.000306096 |\n",
       "| 73 | 0.000606556 | 0.005021298 | 0.000000000 | 0.000532680 | 0.000000000 |\n",
       "| 74 | 0.000775765 | 0.004576115 | 0.000070200 | 0.001908532 | 0.000070300 |\n",
       "| 75 | 0.001316925 | 0.006890224 | 0.000156340 | 0.000161980 | 0.000186334 |\n",
       "\n"
      ],
      "text/plain": [
       "   mass_400    mass_500    mass_600    mass_700    mass_800   \n",
       "16 0.000704142 0.003315680 0.000041500 0.000295251 0.000000000\n",
       "17 0.000269393 0.002105935 0.000000000 0.000000000 0.000000000\n",
       "18 0.000784000 0.002903224 0.000000000 0.000223149 0.000036200\n",
       "19 0.000633233 0.002613035 0.000000000 0.000000000 0.000000000\n",
       "20 0.000514782 0.002137601 0.000000000 0.000221159 0.000000000\n",
       "21 0.000424809 0.002630015 0.000000000 0.000000000 0.000000000\n",
       "22 0.000795924 0.007290795 0.000000000 0.000000000 0.000000000\n",
       "23 0.000697425 0.002750592 0.000000000 0.000000000 0.000000000\n",
       "24 0.000749913 0.002295345 0.000000000 0.000000000 0.000000000\n",
       "25 0.000755120 0.003692771 0.000000000 0.000167000 0.000000000\n",
       "26 0.000308738 0.001383526 0.000000000 0.000000000 0.000000000\n",
       "27 0.000791252 0.002602794 0.000000000 0.000137772 0.000000000\n",
       "28 0.000692077 0.002900542 0.000000000 0.000000000 0.000000000\n",
       "29 0.000328995 0.000896163 0.000000000 0.000448965 0.000000000\n",
       "30 0.000639994 0.002373096 0.000042000 0.000000000 0.000000000\n",
       "61 0.000892157 0.002471858 0.000000000 0.000203390 0.000067500\n",
       "62 0.000990481 0.003429514 0.000000000 0.000128996 0.000000000\n",
       "63 0.000620921 0.002586015 0.000000000 0.000000000 0.000000000\n",
       "64 0.001456664 0.003745600 0.000000000 0.000541639 0.000000000\n",
       "65 0.000187522 0.003093664 0.000000000 0.000000000 0.000000000\n",
       "66 0.001592243 0.005491701 0.000382653 0.001655079 0.000231706\n",
       "67 0.001470859 0.004621542 0.000464661 0.001980000 0.001046106\n",
       "68 0.001358633 0.004563221 0.000117611 0.000447190 0.000000000\n",
       "69 0.001028717 0.002637141 0.000040900 0.000000000 0.000000000\n",
       "70 0.002298434 0.004844629 0.000291734 0.002240000 0.000898495\n",
       "71 0.000936760 0.003808730 0.000210414 0.000532600 0.000000000\n",
       "72 0.002227987 0.003120000 0.000199723 0.000670525 0.000306096\n",
       "73 0.000606556 0.005021298 0.000000000 0.000532680 0.000000000\n",
       "74 0.000775765 0.004576115 0.000070200 0.001908532 0.000070300\n",
       "75 0.001316925 0.006890224 0.000156340 0.000161980 0.000186334"
      ]
     },
     "metadata": {},
     "output_type": "display_data"
    },
    {
     "data": {
      "text/html": [
       "<table>\n",
       "<thead><tr><th></th><th scope=col>filename</th><th scope=col>MouseID</th><th scope=col>Treatmentgroup</th><th scope=col>status</th><th scope=col>DPI</th><th scope=col>organ</th><th scope=col>well_position</th><th scope=col>plate</th><th scope=col>mass_400</th><th scope=col>mass_500</th><th scope=col>mass_600</th><th scope=col>mass_700</th><th scope=col>mass_800</th></tr></thead>\n",
       "<tbody>\n",
       "\t<tr><th scope=row>16</th><td>X506_Group1B_70dpi_RV_top_281_B_C7_P137.mzXML </td><td>506                                           </td><td>Group1B                                       </td><td>naive                                         </td><td>70dpi                                         </td><td>RV_top                                        </td><td>C7                                            </td><td>P137                                          </td><td>0.000704142                                   </td><td>0.003315680                                   </td><td>4.15e-05                                      </td><td>0.000295251                                   </td><td>0.00e+00                                      </td></tr>\n",
       "\t<tr><th scope=row>17</th><td>X507_Group1B_70dpi_RV_top_282_B_C8_P137.mzXML </td><td>507                                           </td><td>Group1B                                       </td><td>naive                                         </td><td>70dpi                                         </td><td>RV_top                                        </td><td>C8                                            </td><td>P137                                          </td><td>0.000269393                                   </td><td>0.002105935                                   </td><td>0.00e+00                                      </td><td>0.000000000                                   </td><td>0.00e+00                                      </td></tr>\n",
       "\t<tr><th scope=row>18</th><td>X508_Group1B_70dpi_RV_top_283_B_C9_P137.mzXML </td><td>508                                           </td><td>Group1B                                       </td><td>naive                                         </td><td>70dpi                                         </td><td>RV_top                                        </td><td>C9                                            </td><td>P137                                          </td><td>0.000784000                                   </td><td>0.002903224                                   </td><td>0.00e+00                                      </td><td>0.000223149                                   </td><td>3.62e-05                                      </td></tr>\n",
       "\t<tr><th scope=row>19</th><td>X509_Group1B_70dpi_RV_top_284_B_C10_P137.mzXML</td><td>509                                           </td><td>Group1B                                       </td><td>naive                                         </td><td>70dpi                                         </td><td>RV_top                                        </td><td>C10                                           </td><td>P137                                          </td><td>0.000633233                                   </td><td>0.002613035                                   </td><td>0.00e+00                                      </td><td>0.000000000                                   </td><td>0.00e+00                                      </td></tr>\n",
       "\t<tr><th scope=row>20</th><td>X510_Group1B_70dpi_RV_top_285_B_C11_P137.mzXML</td><td>510                                           </td><td>Group1B                                       </td><td>naive                                         </td><td>70dpi                                         </td><td>RV_top                                        </td><td>C11                                           </td><td>P137                                          </td><td>0.000514782                                   </td><td>0.002137601                                   </td><td>0.00e+00                                      </td><td>0.000221159                                   </td><td>0.00e+00                                      </td></tr>\n",
       "\t<tr><th scope=row>21</th><td>X526_Group1B_70dpi_RV_top_286_B_C12_P137.mzXML</td><td>526                                           </td><td>Group1B                                       </td><td>naive                                         </td><td>70dpi                                         </td><td>RV_top                                        </td><td>C12                                           </td><td>P137                                          </td><td>0.000424809                                   </td><td>0.002630015                                   </td><td>0.00e+00                                      </td><td>0.000000000                                   </td><td>0.00e+00                                      </td></tr>\n",
       "</tbody>\n",
       "</table>\n"
      ],
      "text/latex": [
       "\\begin{tabular}{r|lllllllllllll}\n",
       "  & filename & MouseID & Treatmentgroup & status & DPI & organ & well\\_position & plate & mass\\_400 & mass\\_500 & mass\\_600 & mass\\_700 & mass\\_800\\\\\n",
       "\\hline\n",
       "\t16 & X506\\_Group1B\\_70dpi\\_RV\\_top\\_281\\_B\\_C7\\_P137.mzXML  & 506                                                            & Group1B                                                        & naive                                                          & 70dpi                                                          & RV\\_top                                                       & C7                                                             & P137                                                           & 0.000704142                                                    & 0.003315680                                                    & 4.15e-05                                                       & 0.000295251                                                    & 0.00e+00                                                      \\\\\n",
       "\t17 & X507\\_Group1B\\_70dpi\\_RV\\_top\\_282\\_B\\_C8\\_P137.mzXML  & 507                                                            & Group1B                                                        & naive                                                          & 70dpi                                                          & RV\\_top                                                       & C8                                                             & P137                                                           & 0.000269393                                                    & 0.002105935                                                    & 0.00e+00                                                       & 0.000000000                                                    & 0.00e+00                                                      \\\\\n",
       "\t18 & X508\\_Group1B\\_70dpi\\_RV\\_top\\_283\\_B\\_C9\\_P137.mzXML  & 508                                                            & Group1B                                                        & naive                                                          & 70dpi                                                          & RV\\_top                                                       & C9                                                             & P137                                                           & 0.000784000                                                    & 0.002903224                                                    & 0.00e+00                                                       & 0.000223149                                                    & 3.62e-05                                                      \\\\\n",
       "\t19 & X509\\_Group1B\\_70dpi\\_RV\\_top\\_284\\_B\\_C10\\_P137.mzXML & 509                                                            & Group1B                                                        & naive                                                          & 70dpi                                                          & RV\\_top                                                       & C10                                                            & P137                                                           & 0.000633233                                                    & 0.002613035                                                    & 0.00e+00                                                       & 0.000000000                                                    & 0.00e+00                                                      \\\\\n",
       "\t20 & X510\\_Group1B\\_70dpi\\_RV\\_top\\_285\\_B\\_C11\\_P137.mzXML & 510                                                            & Group1B                                                        & naive                                                          & 70dpi                                                          & RV\\_top                                                       & C11                                                            & P137                                                           & 0.000514782                                                    & 0.002137601                                                    & 0.00e+00                                                       & 0.000221159                                                    & 0.00e+00                                                      \\\\\n",
       "\t21 & X526\\_Group1B\\_70dpi\\_RV\\_top\\_286\\_B\\_C12\\_P137.mzXML & 526                                                            & Group1B                                                        & naive                                                          & 70dpi                                                          & RV\\_top                                                       & C12                                                            & P137                                                           & 0.000424809                                                    & 0.002630015                                                    & 0.00e+00                                                       & 0.000000000                                                    & 0.00e+00                                                      \\\\\n",
       "\\end{tabular}\n"
      ],
      "text/markdown": [
       "\n",
       "| <!--/--> | filename | MouseID | Treatmentgroup | status | DPI | organ | well_position | plate | mass_400 | mass_500 | mass_600 | mass_700 | mass_800 |\n",
       "|---|---|---|---|---|---|---|---|---|---|---|---|---|---|\n",
       "| 16 | X506_Group1B_70dpi_RV_top_281_B_C7_P137.mzXML  | 506                                            | Group1B                                        | naive                                          | 70dpi                                          | RV_top                                         | C7                                             | P137                                           | 0.000704142                                    | 0.003315680                                    | 4.15e-05                                       | 0.000295251                                    | 0.00e+00                                       |\n",
       "| 17 | X507_Group1B_70dpi_RV_top_282_B_C8_P137.mzXML  | 507                                            | Group1B                                        | naive                                          | 70dpi                                          | RV_top                                         | C8                                             | P137                                           | 0.000269393                                    | 0.002105935                                    | 0.00e+00                                       | 0.000000000                                    | 0.00e+00                                       |\n",
       "| 18 | X508_Group1B_70dpi_RV_top_283_B_C9_P137.mzXML  | 508                                            | Group1B                                        | naive                                          | 70dpi                                          | RV_top                                         | C9                                             | P137                                           | 0.000784000                                    | 0.002903224                                    | 0.00e+00                                       | 0.000223149                                    | 3.62e-05                                       |\n",
       "| 19 | X509_Group1B_70dpi_RV_top_284_B_C10_P137.mzXML | 509                                            | Group1B                                        | naive                                          | 70dpi                                          | RV_top                                         | C10                                            | P137                                           | 0.000633233                                    | 0.002613035                                    | 0.00e+00                                       | 0.000000000                                    | 0.00e+00                                       |\n",
       "| 20 | X510_Group1B_70dpi_RV_top_285_B_C11_P137.mzXML | 510                                            | Group1B                                        | naive                                          | 70dpi                                          | RV_top                                         | C11                                            | P137                                           | 0.000514782                                    | 0.002137601                                    | 0.00e+00                                       | 0.000221159                                    | 0.00e+00                                       |\n",
       "| 21 | X526_Group1B_70dpi_RV_top_286_B_C12_P137.mzXML | 526                                            | Group1B                                        | naive                                          | 70dpi                                          | RV_top                                         | C12                                            | P137                                           | 0.000424809                                    | 0.002630015                                    | 0.00e+00                                       | 0.000000000                                    | 0.00e+00                                       |\n",
       "\n"
      ],
      "text/plain": [
       "   filename                                       MouseID Treatmentgroup status\n",
       "16 X506_Group1B_70dpi_RV_top_281_B_C7_P137.mzXML  506     Group1B        naive \n",
       "17 X507_Group1B_70dpi_RV_top_282_B_C8_P137.mzXML  507     Group1B        naive \n",
       "18 X508_Group1B_70dpi_RV_top_283_B_C9_P137.mzXML  508     Group1B        naive \n",
       "19 X509_Group1B_70dpi_RV_top_284_B_C10_P137.mzXML 509     Group1B        naive \n",
       "20 X510_Group1B_70dpi_RV_top_285_B_C11_P137.mzXML 510     Group1B        naive \n",
       "21 X526_Group1B_70dpi_RV_top_286_B_C12_P137.mzXML 526     Group1B        naive \n",
       "   DPI   organ  well_position plate mass_400    mass_500    mass_600\n",
       "16 70dpi RV_top C7            P137  0.000704142 0.003315680 4.15e-05\n",
       "17 70dpi RV_top C8            P137  0.000269393 0.002105935 0.00e+00\n",
       "18 70dpi RV_top C9            P137  0.000784000 0.002903224 0.00e+00\n",
       "19 70dpi RV_top C10           P137  0.000633233 0.002613035 0.00e+00\n",
       "20 70dpi RV_top C11           P137  0.000514782 0.002137601 0.00e+00\n",
       "21 70dpi RV_top C12           P137  0.000424809 0.002630015 0.00e+00\n",
       "   mass_700    mass_800\n",
       "16 0.000295251 0.00e+00\n",
       "17 0.000000000 0.00e+00\n",
       "18 0.000223149 3.62e-05\n",
       "19 0.000000000 0.00e+00\n",
       "20 0.000221159 0.00e+00\n",
       "21 0.000000000 0.00e+00"
      ]
     },
     "metadata": {},
     "output_type": "display_data"
    },
    {
     "data": {
      "text/html": [
       "<ol class=list-inline>\n",
       "\t<li>30</li>\n",
       "\t<li>13</li>\n",
       "</ol>\n"
      ],
      "text/latex": [
       "\\begin{enumerate*}\n",
       "\\item 30\n",
       "\\item 13\n",
       "\\end{enumerate*}\n"
      ],
      "text/markdown": [
       "1. 30\n",
       "2. 13\n",
       "\n",
       "\n"
      ],
      "text/plain": [
       "[1] 30 13"
      ]
     },
     "metadata": {},
     "output_type": "display_data"
    },
    {
     "data": {
      "text/html": [
       "<ol class=list-inline>\n",
       "\t<li>30</li>\n",
       "\t<li>5</li>\n",
       "</ol>\n"
      ],
      "text/latex": [
       "\\begin{enumerate*}\n",
       "\\item 30\n",
       "\\item 5\n",
       "\\end{enumerate*}\n"
      ],
      "text/markdown": [
       "1. 30\n",
       "2. 5\n",
       "\n",
       "\n"
      ],
      "text/plain": [
       "[1] 30  5"
      ]
     },
     "metadata": {},
     "output_type": "display_data"
    },
    {
     "data": {
      "text/html": [
       "<ol class=list-inline>\n",
       "\t<li>30</li>\n",
       "\t<li>5</li>\n",
       "</ol>\n"
      ],
      "text/latex": [
       "\\begin{enumerate*}\n",
       "\\item 30\n",
       "\\item 5\n",
       "\\end{enumerate*}\n"
      ],
      "text/markdown": [
       "1. 30\n",
       "2. 5\n",
       "\n",
       "\n"
      ],
      "text/plain": [
       "[1] 30  5"
      ]
     },
     "metadata": {},
     "output_type": "display_data"
    },
    {
     "data": {
      "text/html": [
       "<ol class=list-inline>\n",
       "\t<li>30</li>\n",
       "\t<li>13</li>\n",
       "</ol>\n"
      ],
      "text/latex": [
       "\\begin{enumerate*}\n",
       "\\item 30\n",
       "\\item 13\n",
       "\\end{enumerate*}\n"
      ],
      "text/markdown": [
       "1. 30\n",
       "2. 13\n",
       "\n",
       "\n"
      ],
      "text/plain": [
       "[1] 30 13"
      ]
     },
     "metadata": {},
     "output_type": "display_data"
    }
   ],
   "source": [
    "noMeta<-features_pos[,9:13]\n",
    "head(noMeta)\n",
    "not_zero<-which(colSums(noMeta) != 0)\n",
    "head(not_zero)\n",
    "nonzero <- noMeta[, not_zero]\n",
    "nonzero\n",
    "nonzero_wMeta<-cbind(features_pos[,1:8], nonzero)\n",
    "head(nonzero_wMeta)\n",
    "dim(features_pos)\n",
    "dim(noMeta)\n",
    "dim(nonzero)\n",
    "dim(nonzero_wMeta)"
   ]
  },
  {
   "cell_type": "code",
   "execution_count": 5,
   "metadata": {
    "scrolled": true
   },
   "outputs": [
    {
     "name": "stderr",
     "output_type": "stream",
     "text": [
      "Warning message in wilcox.test.default(x = c(4.15e-05, 0, 0, 0, 0, 0, 0, 0, 0, 0, :\n",
      "\"cannot compute exact p-value with ties\"Warning message in wilcox.test.default(x = c(0.000295251, 0, 0.000223149, 0, 0.000221159, :\n",
      "\"cannot compute exact p-value with ties\"Warning message in wilcox.test.default(x = c(0, 0, 3.62e-05, 0, 0, 0, 0, 0, 0, 0, :\n",
      "\"cannot compute exact p-value with ties\""
     ]
    },
    {
     "data": {
      "text/html": [
       "<ol class=list-inline>\n",
       "\t<li>0.00140811946967693</li>\n",
       "\t<li>0.00230645771025736</li>\n",
       "\t<li>0.00461674826551907</li>\n",
       "\t<li>0.00569689375526923</li>\n",
       "\t<li>0.0105417903887955</li>\n",
       "</ol>\n"
      ],
      "text/latex": [
       "\\begin{enumerate*}\n",
       "\\item 0.00140811946967693\n",
       "\\item 0.00230645771025736\n",
       "\\item 0.00461674826551907\n",
       "\\item 0.00569689375526923\n",
       "\\item 0.0105417903887955\n",
       "\\end{enumerate*}\n"
      ],
      "text/markdown": [
       "1. 0.00140811946967693\n",
       "2. 0.00230645771025736\n",
       "3. 0.00461674826551907\n",
       "4. 0.00569689375526923\n",
       "5. 0.0105417903887955\n",
       "\n",
       "\n"
      ],
      "text/plain": [
       "[1] 0.001408119 0.002306458 0.004616748 0.005696894 0.010541790"
      ]
     },
     "metadata": {},
     "output_type": "display_data"
    },
    {
     "data": {
      "text/html": [
       "<ol class=list-inline>\n",
       "\t<li>0.0057661442756434</li>\n",
       "\t<li>0.0057661442756434</li>\n",
       "\t<li>0.00712111719408654</li>\n",
       "\t<li>0.00712111719408654</li>\n",
       "\t<li>0.0105417903887955</li>\n",
       "</ol>\n"
      ],
      "text/latex": [
       "\\begin{enumerate*}\n",
       "\\item 0.0057661442756434\n",
       "\\item 0.0057661442756434\n",
       "\\item 0.00712111719408654\n",
       "\\item 0.00712111719408654\n",
       "\\item 0.0105417903887955\n",
       "\\end{enumerate*}\n"
      ],
      "text/markdown": [
       "1. 0.0057661442756434\n",
       "2. 0.0057661442756434\n",
       "3. 0.00712111719408654\n",
       "4. 0.00712111719408654\n",
       "5. 0.0105417903887955\n",
       "\n",
       "\n"
      ],
      "text/plain": [
       "[1] 0.005766144 0.005766144 0.007121117 0.007121117 0.010541790"
      ]
     },
     "metadata": {},
     "output_type": "display_data"
    }
   ],
   "source": [
    "pval<-c()\n",
    "\n",
    "for (i in 9:ncol(nonzero_wMeta)) \n",
    "pval<-c(pval,wilcox.test(nonzero_wMeta[,i]~nonzero_wMeta$Treatmentgroup)$p.value)\n",
    "head(pval)\n",
    "pAdj <- p.adjust(pval, method = c(\"fdr\"), n=length(pval)) \n",
    "head(pAdj) \n",
    "\n"
   ]
  },
  {
   "cell_type": "code",
   "execution_count": 6,
   "metadata": {
    "scrolled": true
   },
   "outputs": [
    {
     "data": {
      "text/html": [
       "5"
      ],
      "text/latex": [
       "5"
      ],
      "text/markdown": [
       "5"
      ],
      "text/plain": [
       "[1] 5"
      ]
     },
     "metadata": {},
     "output_type": "display_data"
    }
   ],
   "source": [
    "length(pval)"
   ]
  },
  {
   "cell_type": "code",
   "execution_count": 7,
   "metadata": {
    "scrolled": true
   },
   "outputs": [
    {
     "data": {
      "text/html": [
       "5"
      ],
      "text/latex": [
       "5"
      ],
      "text/markdown": [
       "5"
      ],
      "text/plain": [
       "[1] 5"
      ]
     },
     "metadata": {},
     "output_type": "display_data"
    }
   ],
   "source": [
    "length(pAdj)"
   ]
  },
  {
   "cell_type": "code",
   "execution_count": 8,
   "metadata": {},
   "outputs": [
    {
     "data": {
      "text/html": [
       "<ol class=list-inline>\n",
       "\t<li>2</li>\n",
       "\t<li>5</li>\n",
       "</ol>\n"
      ],
      "text/latex": [
       "\\begin{enumerate*}\n",
       "\\item 2\n",
       "\\item 5\n",
       "\\end{enumerate*}\n"
      ],
      "text/markdown": [
       "1. 2\n",
       "2. 5\n",
       "\n",
       "\n"
      ],
      "text/plain": [
       "[1] 2 5"
      ]
     },
     "metadata": {},
     "output_type": "display_data"
    },
    {
     "data": {
      "text/html": [
       "<table>\n",
       "<thead><tr><th></th><th scope=col>mass_400</th><th scope=col>mass_500</th><th scope=col>mass_600</th></tr></thead>\n",
       "<tbody>\n",
       "\t<tr><th scope=row>Group1B</th><td>0.0006059865</td><td>0.002792741 </td><td>5.566667e-06</td></tr>\n",
       "\t<tr><th scope=row>Group3B</th><td>0.0011840416</td><td>0.004060083 </td><td>1.289491e-04</td></tr>\n",
       "</tbody>\n",
       "</table>\n"
      ],
      "text/latex": [
       "\\begin{tabular}{r|lll}\n",
       "  & mass\\_400 & mass\\_500 & mass\\_600\\\\\n",
       "\\hline\n",
       "\tGroup1B & 0.0006059865 & 0.002792741  & 5.566667e-06\\\\\n",
       "\tGroup3B & 0.0011840416 & 0.004060083  & 1.289491e-04\\\\\n",
       "\\end{tabular}\n"
      ],
      "text/markdown": [
       "\n",
       "| <!--/--> | mass_400 | mass_500 | mass_600 |\n",
       "|---|---|---|---|\n",
       "| Group1B | 0.0006059865 | 0.002792741  | 5.566667e-06 |\n",
       "| Group3B | 0.0011840416 | 0.004060083  | 1.289491e-04 |\n",
       "\n"
      ],
      "text/plain": [
       "        mass_400     mass_500    mass_600    \n",
       "Group1B 0.0006059865 0.002792741 5.566667e-06\n",
       "Group3B 0.0011840416 0.004060083 1.289491e-04"
      ]
     },
     "metadata": {},
     "output_type": "display_data"
    },
    {
     "data": {
      "text/html": [
       "<dl class=dl-horizontal>\n",
       "\t<dt>mass_400</dt>\n",
       "\t\t<dd>0.511794912160744</dd>\n",
       "\t<dt>mass_500</dt>\n",
       "\t\t<dd>0.687853083874203</dd>\n",
       "\t<dt>mass_600</dt>\n",
       "\t\t<dd>0.043169499481966</dd>\n",
       "\t<dt>mass_700</dt>\n",
       "\t\t<dd>0.135721966358712</dd>\n",
       "\t<dt>mass_800</dt>\n",
       "\t\t<dd>0.0128984581354174</dd>\n",
       "</dl>\n"
      ],
      "text/latex": [
       "\\begin{description*}\n",
       "\\item[mass\\textbackslash{}\\_400] 0.511794912160744\n",
       "\\item[mass\\textbackslash{}\\_500] 0.687853083874203\n",
       "\\item[mass\\textbackslash{}\\_600] 0.043169499481966\n",
       "\\item[mass\\textbackslash{}\\_700] 0.135721966358712\n",
       "\\item[mass\\textbackslash{}\\_800] 0.0128984581354174\n",
       "\\end{description*}\n"
      ],
      "text/markdown": [
       "mass_400\n",
       ":   0.511794912160744mass_500\n",
       ":   0.687853083874203mass_600\n",
       ":   0.043169499481966mass_700\n",
       ":   0.135721966358712mass_800\n",
       ":   0.0128984581354174\n",
       "\n"
      ],
      "text/plain": [
       "  mass_400   mass_500   mass_600   mass_700   mass_800 \n",
       "0.51179491 0.68785308 0.04316950 0.13572197 0.01289846 "
      ]
     },
     "metadata": {},
     "output_type": "display_data"
    },
    {
     "data": {
      "text/html": [
       "<ol class=list-inline>\n",
       "\t<li>'numeric'</li>\n",
       "\t<li>'vector'</li>\n",
       "</ol>\n"
      ],
      "text/latex": [
       "\\begin{enumerate*}\n",
       "\\item 'numeric'\n",
       "\\item 'vector'\n",
       "\\end{enumerate*}\n"
      ],
      "text/markdown": [
       "1. 'numeric'\n",
       "2. 'vector'\n",
       "\n",
       "\n"
      ],
      "text/plain": [
       "[1] \"numeric\" \"vector\" "
      ]
     },
     "metadata": {},
     "output_type": "display_data"
    }
   ],
   "source": [
    "avg<- apply(nonzero_wMeta[,9:ncol(nonzero_wMeta)], 2, function(x) tapply(x, nonzero_wMeta$Treatmentgroup, function(x) mean(x))) \n",
    "\n",
    "dim(avg)\n",
    "\n",
    "avg[,1:3]\n",
    "\n",
    "fch <- apply(avg, 2, function(x) x[1]/x[2])\n",
    "\n",
    "head(fch)\n",
    "is(fch)"
   ]
  },
  {
   "cell_type": "code",
   "execution_count": 9,
   "metadata": {
    "scrolled": true
   },
   "outputs": [
    {
     "data": {
      "text/html": [
       "<dl class=dl-horizontal>\n",
       "\t<dt>mass_400</dt>\n",
       "\t\t<dd>0.511794912160744</dd>\n",
       "\t<dt>mass_500</dt>\n",
       "\t\t<dd>0.687853083874203</dd>\n",
       "\t<dt>mass_600</dt>\n",
       "\t\t<dd>0.043169499481966</dd>\n",
       "\t<dt>mass_700</dt>\n",
       "\t\t<dd>0.135721966358712</dd>\n",
       "\t<dt>mass_800</dt>\n",
       "\t\t<dd>0.0128984581354174</dd>\n",
       "</dl>\n"
      ],
      "text/latex": [
       "\\begin{description*}\n",
       "\\item[mass\\textbackslash{}\\_400] 0.511794912160744\n",
       "\\item[mass\\textbackslash{}\\_500] 0.687853083874203\n",
       "\\item[mass\\textbackslash{}\\_600] 0.043169499481966\n",
       "\\item[mass\\textbackslash{}\\_700] 0.135721966358712\n",
       "\\item[mass\\textbackslash{}\\_800] 0.0128984581354174\n",
       "\\end{description*}\n"
      ],
      "text/markdown": [
       "mass_400\n",
       ":   0.511794912160744mass_500\n",
       ":   0.687853083874203mass_600\n",
       ":   0.043169499481966mass_700\n",
       ":   0.135721966358712mass_800\n",
       ":   0.0128984581354174\n",
       "\n"
      ],
      "text/plain": [
       "  mass_400   mass_500   mass_600   mass_700   mass_800 \n",
       "0.51179491 0.68785308 0.04316950 0.13572197 0.01289846 "
      ]
     },
     "metadata": {},
     "output_type": "display_data"
    }
   ],
   "source": [
    "fch"
   ]
  },
  {
   "cell_type": "code",
   "execution_count": 10,
   "metadata": {
    "scrolled": false
   },
   "outputs": [],
   "source": [
    "df <- data.frame(fch,pval, pAdj)\n",
    "write.csv(df, \"PE-time-RVT-wilcox-1B-3B.csv\")"
   ]
  },
  {
   "cell_type": "code",
   "execution_count": null,
   "metadata": {},
   "outputs": [],
   "source": []
  },
  {
   "cell_type": "code",
   "execution_count": null,
   "metadata": {},
   "outputs": [],
   "source": []
  },
  {
   "cell_type": "code",
   "execution_count": null,
   "metadata": {},
   "outputs": [],
   "source": []
  },
  {
   "cell_type": "code",
   "execution_count": null,
   "metadata": {},
   "outputs": [],
   "source": []
  },
  {
   "cell_type": "code",
   "execution_count": null,
   "metadata": {},
   "outputs": [],
   "source": []
  },
  {
   "cell_type": "code",
   "execution_count": null,
   "metadata": {},
   "outputs": [],
   "source": []
  }
 ],
 "metadata": {
  "kernelspec": {
   "display_name": "R",
   "language": "R",
   "name": "ir"
  },
  "language_info": {
   "codemirror_mode": "r",
   "file_extension": ".r",
   "mimetype": "text/x-r-source",
   "name": "R",
   "pygments_lexer": "r",
   "version": "3.6.1"
  }
 },
 "nbformat": 4,
 "nbformat_minor": 2
}
