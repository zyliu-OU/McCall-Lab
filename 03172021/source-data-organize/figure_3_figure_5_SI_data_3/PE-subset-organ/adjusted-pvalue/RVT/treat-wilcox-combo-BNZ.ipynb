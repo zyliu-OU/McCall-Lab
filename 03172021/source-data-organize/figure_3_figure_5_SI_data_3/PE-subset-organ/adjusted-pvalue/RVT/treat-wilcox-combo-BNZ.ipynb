{
 "cells": [
  {
   "cell_type": "code",
   "execution_count": 1,
   "metadata": {},
   "outputs": [],
   "source": [
    "a <- read.csv(\"03172021-PE-treatment-RVT-M-F.csv\")"
   ]
  },
  {
   "cell_type": "code",
   "execution_count": 2,
   "metadata": {},
   "outputs": [
    {
     "data": {
      "text/html": [
       "<table>\n",
       "<thead><tr><th scope=col>filename</th><th scope=col>MouseID</th><th scope=col>Treatmentgroup</th><th scope=col>DPI</th><th scope=col>organ</th><th scope=col>well_position</th><th scope=col>plate</th><th scope=col>mass_400</th><th scope=col>mass_500</th><th scope=col>mass_600</th><th scope=col>mass_700</th><th scope=col>mass_800</th></tr></thead>\n",
       "<tbody>\n",
       "\t<tr><td>X511_Group1C_142dpi_RV_top_161_G_A1_P136.mzXML</td><td>511                                           </td><td>naive                                         </td><td>142dpi                                        </td><td>RV_top                                        </td><td>A1                                            </td><td>P136                                          </td><td>0.000569869                                   </td><td>0.002178443                                   </td><td>0.00e+00                                      </td><td>0.000000000                                   </td><td>0                                             </td></tr>\n",
       "\t<tr><td>X512_Group1C_142dpi_RV_top_162_G_A2_P136.mzXML</td><td>512                                           </td><td>naive                                         </td><td>142dpi                                        </td><td>RV_top                                        </td><td>A2                                            </td><td>P136                                          </td><td>0.000509792                                   </td><td>0.002042879                                   </td><td>0.00e+00                                      </td><td>0.000000000                                   </td><td>0                                             </td></tr>\n",
       "\t<tr><td>X513_Group1C_142dpi_RV_top_163_G_A3_P136.mzXML</td><td>513                                           </td><td>naive                                         </td><td>142dpi                                        </td><td>RV_top                                        </td><td>A3                                            </td><td>P136                                          </td><td>0.000816324                                   </td><td>0.002407532                                   </td><td>4.79e-05                                      </td><td>0.000000000                                   </td><td>0                                             </td></tr>\n",
       "\t<tr><td>X514_Group1C_142dpi_RV_top_164_G_A4_P136.mzXML</td><td>514                                           </td><td>naive                                         </td><td>142dpi                                        </td><td>RV_top                                        </td><td>A4                                            </td><td>P136                                          </td><td>0.000301313                                   </td><td>0.002019899                                   </td><td>0.00e+00                                      </td><td>0.000000000                                   </td><td>0                                             </td></tr>\n",
       "\t<tr><td>X515_Group1C_142dpi_RV_top_165_G_A5_P136.mzXML</td><td>515                                           </td><td>naive                                         </td><td>142dpi                                        </td><td>RV_top                                        </td><td>A5                                            </td><td>P136                                          </td><td>0.001533985                                   </td><td>0.002727735                                   </td><td>9.35e-05                                      </td><td>0.000000000                                   </td><td>0                                             </td></tr>\n",
       "\t<tr><td>X531_Group1C_142dpi_RV_top_166_G_A6_P136.mzXML</td><td>531                                           </td><td>naive                                         </td><td>142dpi                                        </td><td>RV_top                                        </td><td>A6                                            </td><td>P136                                          </td><td>0.000153049                                   </td><td>0.000965296                                   </td><td>0.00e+00                                      </td><td>0.000247528                                   </td><td>0                                             </td></tr>\n",
       "</tbody>\n",
       "</table>\n"
      ],
      "text/latex": [
       "\\begin{tabular}{r|llllllllllll}\n",
       " filename & MouseID & Treatmentgroup & DPI & organ & well\\_position & plate & mass\\_400 & mass\\_500 & mass\\_600 & mass\\_700 & mass\\_800\\\\\n",
       "\\hline\n",
       "\t X511\\_Group1C\\_142dpi\\_RV\\_top\\_161\\_G\\_A1\\_P136.mzXML & 511                                                            & naive                                                          & 142dpi                                                         & RV\\_top                                                       & A1                                                             & P136                                                           & 0.000569869                                                    & 0.002178443                                                    & 0.00e+00                                                       & 0.000000000                                                    & 0                                                             \\\\\n",
       "\t X512\\_Group1C\\_142dpi\\_RV\\_top\\_162\\_G\\_A2\\_P136.mzXML & 512                                                            & naive                                                          & 142dpi                                                         & RV\\_top                                                       & A2                                                             & P136                                                           & 0.000509792                                                    & 0.002042879                                                    & 0.00e+00                                                       & 0.000000000                                                    & 0                                                             \\\\\n",
       "\t X513\\_Group1C\\_142dpi\\_RV\\_top\\_163\\_G\\_A3\\_P136.mzXML & 513                                                            & naive                                                          & 142dpi                                                         & RV\\_top                                                       & A3                                                             & P136                                                           & 0.000816324                                                    & 0.002407532                                                    & 4.79e-05                                                       & 0.000000000                                                    & 0                                                             \\\\\n",
       "\t X514\\_Group1C\\_142dpi\\_RV\\_top\\_164\\_G\\_A4\\_P136.mzXML & 514                                                            & naive                                                          & 142dpi                                                         & RV\\_top                                                       & A4                                                             & P136                                                           & 0.000301313                                                    & 0.002019899                                                    & 0.00e+00                                                       & 0.000000000                                                    & 0                                                             \\\\\n",
       "\t X515\\_Group1C\\_142dpi\\_RV\\_top\\_165\\_G\\_A5\\_P136.mzXML & 515                                                            & naive                                                          & 142dpi                                                         & RV\\_top                                                       & A5                                                             & P136                                                           & 0.001533985                                                    & 0.002727735                                                    & 9.35e-05                                                       & 0.000000000                                                    & 0                                                             \\\\\n",
       "\t X531\\_Group1C\\_142dpi\\_RV\\_top\\_166\\_G\\_A6\\_P136.mzXML & 531                                                            & naive                                                          & 142dpi                                                         & RV\\_top                                                       & A6                                                             & P136                                                           & 0.000153049                                                    & 0.000965296                                                    & 0.00e+00                                                       & 0.000247528                                                    & 0                                                             \\\\\n",
       "\\end{tabular}\n"
      ],
      "text/markdown": [
       "\n",
       "| filename | MouseID | Treatmentgroup | DPI | organ | well_position | plate | mass_400 | mass_500 | mass_600 | mass_700 | mass_800 |\n",
       "|---|---|---|---|---|---|---|---|---|---|---|---|\n",
       "| X511_Group1C_142dpi_RV_top_161_G_A1_P136.mzXML | 511                                            | naive                                          | 142dpi                                         | RV_top                                         | A1                                             | P136                                           | 0.000569869                                    | 0.002178443                                    | 0.00e+00                                       | 0.000000000                                    | 0                                              |\n",
       "| X512_Group1C_142dpi_RV_top_162_G_A2_P136.mzXML | 512                                            | naive                                          | 142dpi                                         | RV_top                                         | A2                                             | P136                                           | 0.000509792                                    | 0.002042879                                    | 0.00e+00                                       | 0.000000000                                    | 0                                              |\n",
       "| X513_Group1C_142dpi_RV_top_163_G_A3_P136.mzXML | 513                                            | naive                                          | 142dpi                                         | RV_top                                         | A3                                             | P136                                           | 0.000816324                                    | 0.002407532                                    | 4.79e-05                                       | 0.000000000                                    | 0                                              |\n",
       "| X514_Group1C_142dpi_RV_top_164_G_A4_P136.mzXML | 514                                            | naive                                          | 142dpi                                         | RV_top                                         | A4                                             | P136                                           | 0.000301313                                    | 0.002019899                                    | 0.00e+00                                       | 0.000000000                                    | 0                                              |\n",
       "| X515_Group1C_142dpi_RV_top_165_G_A5_P136.mzXML | 515                                            | naive                                          | 142dpi                                         | RV_top                                         | A5                                             | P136                                           | 0.001533985                                    | 0.002727735                                    | 9.35e-05                                       | 0.000000000                                    | 0                                              |\n",
       "| X531_Group1C_142dpi_RV_top_166_G_A6_P136.mzXML | 531                                            | naive                                          | 142dpi                                         | RV_top                                         | A6                                             | P136                                           | 0.000153049                                    | 0.000965296                                    | 0.00e+00                                       | 0.000247528                                    | 0                                              |\n",
       "\n"
      ],
      "text/plain": [
       "  filename                                       MouseID Treatmentgroup DPI   \n",
       "1 X511_Group1C_142dpi_RV_top_161_G_A1_P136.mzXML 511     naive          142dpi\n",
       "2 X512_Group1C_142dpi_RV_top_162_G_A2_P136.mzXML 512     naive          142dpi\n",
       "3 X513_Group1C_142dpi_RV_top_163_G_A3_P136.mzXML 513     naive          142dpi\n",
       "4 X514_Group1C_142dpi_RV_top_164_G_A4_P136.mzXML 514     naive          142dpi\n",
       "5 X515_Group1C_142dpi_RV_top_165_G_A5_P136.mzXML 515     naive          142dpi\n",
       "6 X531_Group1C_142dpi_RV_top_166_G_A6_P136.mzXML 531     naive          142dpi\n",
       "  organ  well_position plate mass_400    mass_500    mass_600 mass_700   \n",
       "1 RV_top A1            P136  0.000569869 0.002178443 0.00e+00 0.000000000\n",
       "2 RV_top A2            P136  0.000509792 0.002042879 0.00e+00 0.000000000\n",
       "3 RV_top A3            P136  0.000816324 0.002407532 4.79e-05 0.000000000\n",
       "4 RV_top A4            P136  0.000301313 0.002019899 0.00e+00 0.000000000\n",
       "5 RV_top A5            P136  0.001533985 0.002727735 9.35e-05 0.000000000\n",
       "6 RV_top A6            P136  0.000153049 0.000965296 0.00e+00 0.000247528\n",
       "  mass_800\n",
       "1 0       \n",
       "2 0       \n",
       "3 0       \n",
       "4 0       \n",
       "5 0       \n",
       "6 0       "
      ]
     },
     "metadata": {},
     "output_type": "display_data"
    },
    {
     "data": {
      "text/html": [
       "<ol class=list-inline>\n",
       "\t<li>60</li>\n",
       "\t<li>12</li>\n",
       "</ol>\n"
      ],
      "text/latex": [
       "\\begin{enumerate*}\n",
       "\\item 60\n",
       "\\item 12\n",
       "\\end{enumerate*}\n"
      ],
      "text/markdown": [
       "1. 60\n",
       "2. 12\n",
       "\n",
       "\n"
      ],
      "text/plain": [
       "[1] 60 12"
      ]
     },
     "metadata": {},
     "output_type": "display_data"
    }
   ],
   "source": [
    "head(a)\n",
    "dim(a)"
   ]
  },
  {
   "cell_type": "code",
   "execution_count": 3,
   "metadata": {},
   "outputs": [
    {
     "data": {
      "text/html": [
       "<table>\n",
       "<thead><tr><th></th><th scope=col>filename</th><th scope=col>MouseID</th><th scope=col>Treatmentgroup</th><th scope=col>DPI</th><th scope=col>organ</th><th scope=col>well_position</th><th scope=col>plate</th><th scope=col>mass_400</th><th scope=col>mass_500</th><th scope=col>mass_600</th><th scope=col>mass_700</th><th scope=col>mass_800</th></tr></thead>\n",
       "<tbody>\n",
       "\t<tr><th scope=row>21</th><td>X611_Group9_142dpi_RV_top_181_G_B9_P136.mzXML </td><td>611                                           </td><td>combo                                         </td><td>142dpi                                        </td><td>RV_top                                        </td><td>B9                                            </td><td>P136                                          </td><td>0.000321880                                   </td><td>0.002367646                                   </td><td>0                                             </td><td>0                                             </td><td>0                                             </td></tr>\n",
       "\t<tr><th scope=row>22</th><td>X612_Group9_142dpi_RV_top_182_G_B10_P136.mzXML</td><td>612                                           </td><td>combo                                         </td><td>142dpi                                        </td><td>RV_top                                        </td><td>B10                                           </td><td>P136                                          </td><td>0.000269650                                   </td><td>0.002149282                                   </td><td>0                                             </td><td>0                                             </td><td>0                                             </td></tr>\n",
       "\t<tr><th scope=row>23</th><td>X613_Group9_142dpi_RV_top_183_G_B11_P136.mzXML</td><td>613                                           </td><td>combo                                         </td><td>142dpi                                        </td><td>RV_top                                        </td><td>B11                                           </td><td>P136                                          </td><td>0.000535273                                   </td><td>0.001191808                                   </td><td>0                                             </td><td>0                                             </td><td>0                                             </td></tr>\n",
       "\t<tr><th scope=row>24</th><td>X614_Group9_142dpi_RV_top_184_G_B12_P136.mzXML</td><td>614                                           </td><td>combo                                         </td><td>142dpi                                        </td><td>RV_top                                        </td><td>B12                                           </td><td>P136                                          </td><td>0.000765517                                   </td><td>0.002423287                                   </td><td>0                                             </td><td>0                                             </td><td>0                                             </td></tr>\n",
       "\t<tr><th scope=row>25</th><td>X615_Group9_142dpi_RV_top_185_G_C1_P136.mzXML </td><td>615                                           </td><td>combo                                         </td><td>142dpi                                        </td><td>RV_top                                        </td><td>C1                                            </td><td>P136                                          </td><td>0.000446179                                   </td><td>0.002101150                                   </td><td>0                                             </td><td>0                                             </td><td>0                                             </td></tr>\n",
       "\t<tr><th scope=row>26</th><td>X631_Group15_142dpi_RV_top_191_G_C7_P136.mzXML</td><td>631                                           </td><td>BNZ                                           </td><td>142dpi                                        </td><td>RV_top                                        </td><td>C7                                            </td><td>P136                                          </td><td>0.000352090                                   </td><td>0.001562441                                   </td><td>0                                             </td><td>0                                             </td><td>0                                             </td></tr>\n",
       "</tbody>\n",
       "</table>\n"
      ],
      "text/latex": [
       "\\begin{tabular}{r|llllllllllll}\n",
       "  & filename & MouseID & Treatmentgroup & DPI & organ & well\\_position & plate & mass\\_400 & mass\\_500 & mass\\_600 & mass\\_700 & mass\\_800\\\\\n",
       "\\hline\n",
       "\t21 & X611\\_Group9\\_142dpi\\_RV\\_top\\_181\\_G\\_B9\\_P136.mzXML  & 611                                                            & combo                                                          & 142dpi                                                         & RV\\_top                                                       & B9                                                             & P136                                                           & 0.000321880                                                    & 0.002367646                                                    & 0                                                              & 0                                                              & 0                                                             \\\\\n",
       "\t22 & X612\\_Group9\\_142dpi\\_RV\\_top\\_182\\_G\\_B10\\_P136.mzXML & 612                                                            & combo                                                          & 142dpi                                                         & RV\\_top                                                       & B10                                                            & P136                                                           & 0.000269650                                                    & 0.002149282                                                    & 0                                                              & 0                                                              & 0                                                             \\\\\n",
       "\t23 & X613\\_Group9\\_142dpi\\_RV\\_top\\_183\\_G\\_B11\\_P136.mzXML & 613                                                            & combo                                                          & 142dpi                                                         & RV\\_top                                                       & B11                                                            & P136                                                           & 0.000535273                                                    & 0.001191808                                                    & 0                                                              & 0                                                              & 0                                                             \\\\\n",
       "\t24 & X614\\_Group9\\_142dpi\\_RV\\_top\\_184\\_G\\_B12\\_P136.mzXML & 614                                                            & combo                                                          & 142dpi                                                         & RV\\_top                                                       & B12                                                            & P136                                                           & 0.000765517                                                    & 0.002423287                                                    & 0                                                              & 0                                                              & 0                                                             \\\\\n",
       "\t25 & X615\\_Group9\\_142dpi\\_RV\\_top\\_185\\_G\\_C1\\_P136.mzXML  & 615                                                            & combo                                                          & 142dpi                                                         & RV\\_top                                                       & C1                                                             & P136                                                           & 0.000446179                                                    & 0.002101150                                                    & 0                                                              & 0                                                              & 0                                                             \\\\\n",
       "\t26 & X631\\_Group15\\_142dpi\\_RV\\_top\\_191\\_G\\_C7\\_P136.mzXML & 631                                                            & BNZ                                                            & 142dpi                                                         & RV\\_top                                                       & C7                                                             & P136                                                           & 0.000352090                                                    & 0.001562441                                                    & 0                                                              & 0                                                              & 0                                                             \\\\\n",
       "\\end{tabular}\n"
      ],
      "text/markdown": [
       "\n",
       "| <!--/--> | filename | MouseID | Treatmentgroup | DPI | organ | well_position | plate | mass_400 | mass_500 | mass_600 | mass_700 | mass_800 |\n",
       "|---|---|---|---|---|---|---|---|---|---|---|---|---|\n",
       "| 21 | X611_Group9_142dpi_RV_top_181_G_B9_P136.mzXML  | 611                                            | combo                                          | 142dpi                                         | RV_top                                         | B9                                             | P136                                           | 0.000321880                                    | 0.002367646                                    | 0                                              | 0                                              | 0                                              |\n",
       "| 22 | X612_Group9_142dpi_RV_top_182_G_B10_P136.mzXML | 612                                            | combo                                          | 142dpi                                         | RV_top                                         | B10                                            | P136                                           | 0.000269650                                    | 0.002149282                                    | 0                                              | 0                                              | 0                                              |\n",
       "| 23 | X613_Group9_142dpi_RV_top_183_G_B11_P136.mzXML | 613                                            | combo                                          | 142dpi                                         | RV_top                                         | B11                                            | P136                                           | 0.000535273                                    | 0.001191808                                    | 0                                              | 0                                              | 0                                              |\n",
       "| 24 | X614_Group9_142dpi_RV_top_184_G_B12_P136.mzXML | 614                                            | combo                                          | 142dpi                                         | RV_top                                         | B12                                            | P136                                           | 0.000765517                                    | 0.002423287                                    | 0                                              | 0                                              | 0                                              |\n",
       "| 25 | X615_Group9_142dpi_RV_top_185_G_C1_P136.mzXML  | 615                                            | combo                                          | 142dpi                                         | RV_top                                         | C1                                             | P136                                           | 0.000446179                                    | 0.002101150                                    | 0                                              | 0                                              | 0                                              |\n",
       "| 26 | X631_Group15_142dpi_RV_top_191_G_C7_P136.mzXML | 631                                            | BNZ                                            | 142dpi                                         | RV_top                                         | C7                                             | P136                                           | 0.000352090                                    | 0.001562441                                    | 0                                              | 0                                              | 0                                              |\n",
       "\n"
      ],
      "text/plain": [
       "   filename                                       MouseID Treatmentgroup DPI   \n",
       "21 X611_Group9_142dpi_RV_top_181_G_B9_P136.mzXML  611     combo          142dpi\n",
       "22 X612_Group9_142dpi_RV_top_182_G_B10_P136.mzXML 612     combo          142dpi\n",
       "23 X613_Group9_142dpi_RV_top_183_G_B11_P136.mzXML 613     combo          142dpi\n",
       "24 X614_Group9_142dpi_RV_top_184_G_B12_P136.mzXML 614     combo          142dpi\n",
       "25 X615_Group9_142dpi_RV_top_185_G_C1_P136.mzXML  615     combo          142dpi\n",
       "26 X631_Group15_142dpi_RV_top_191_G_C7_P136.mzXML 631     BNZ            142dpi\n",
       "   organ  well_position plate mass_400    mass_500    mass_600 mass_700\n",
       "21 RV_top B9            P136  0.000321880 0.002367646 0        0       \n",
       "22 RV_top B10           P136  0.000269650 0.002149282 0        0       \n",
       "23 RV_top B11           P136  0.000535273 0.001191808 0        0       \n",
       "24 RV_top B12           P136  0.000765517 0.002423287 0        0       \n",
       "25 RV_top C1            P136  0.000446179 0.002101150 0        0       \n",
       "26 RV_top C7            P136  0.000352090 0.001562441 0        0       \n",
       "   mass_800\n",
       "21 0       \n",
       "22 0       \n",
       "23 0       \n",
       "24 0       \n",
       "25 0       \n",
       "26 0       "
      ]
     },
     "metadata": {},
     "output_type": "display_data"
    },
    {
     "data": {
      "text/html": [
       "<ol class=list-inline>\n",
       "\t<li>30</li>\n",
       "\t<li>12</li>\n",
       "</ol>\n"
      ],
      "text/latex": [
       "\\begin{enumerate*}\n",
       "\\item 30\n",
       "\\item 12\n",
       "\\end{enumerate*}\n"
      ],
      "text/markdown": [
       "1. 30\n",
       "2. 12\n",
       "\n",
       "\n"
      ],
      "text/plain": [
       "[1] 30 12"
      ]
     },
     "metadata": {},
     "output_type": "display_data"
    }
   ],
   "source": [
    "features_pos<-droplevels(subset(a, a$Treatmentgroup==c(\"combo\")|a$Treatmentgroup==c(\"BNZ\")))\n",
    "head(features_pos)\n",
    "dim(features_pos)"
   ]
  },
  {
   "cell_type": "code",
   "execution_count": 4,
   "metadata": {
    "scrolled": false
   },
   "outputs": [
    {
     "data": {
      "text/html": [
       "<table>\n",
       "<thead><tr><th></th><th scope=col>mass_400</th><th scope=col>mass_500</th><th scope=col>mass_600</th><th scope=col>mass_700</th><th scope=col>mass_800</th></tr></thead>\n",
       "<tbody>\n",
       "\t<tr><th scope=row>21</th><td>0.000321880</td><td>0.002367646</td><td>0          </td><td>0          </td><td>0          </td></tr>\n",
       "\t<tr><th scope=row>22</th><td>0.000269650</td><td>0.002149282</td><td>0          </td><td>0          </td><td>0          </td></tr>\n",
       "\t<tr><th scope=row>23</th><td>0.000535273</td><td>0.001191808</td><td>0          </td><td>0          </td><td>0          </td></tr>\n",
       "\t<tr><th scope=row>24</th><td>0.000765517</td><td>0.002423287</td><td>0          </td><td>0          </td><td>0          </td></tr>\n",
       "\t<tr><th scope=row>25</th><td>0.000446179</td><td>0.002101150</td><td>0          </td><td>0          </td><td>0          </td></tr>\n",
       "\t<tr><th scope=row>26</th><td>0.000352090</td><td>0.001562441</td><td>0          </td><td>0          </td><td>0          </td></tr>\n",
       "</tbody>\n",
       "</table>\n"
      ],
      "text/latex": [
       "\\begin{tabular}{r|lllll}\n",
       "  & mass\\_400 & mass\\_500 & mass\\_600 & mass\\_700 & mass\\_800\\\\\n",
       "\\hline\n",
       "\t21 & 0.000321880 & 0.002367646 & 0           & 0           & 0          \\\\\n",
       "\t22 & 0.000269650 & 0.002149282 & 0           & 0           & 0          \\\\\n",
       "\t23 & 0.000535273 & 0.001191808 & 0           & 0           & 0          \\\\\n",
       "\t24 & 0.000765517 & 0.002423287 & 0           & 0           & 0          \\\\\n",
       "\t25 & 0.000446179 & 0.002101150 & 0           & 0           & 0          \\\\\n",
       "\t26 & 0.000352090 & 0.001562441 & 0           & 0           & 0          \\\\\n",
       "\\end{tabular}\n"
      ],
      "text/markdown": [
       "\n",
       "| <!--/--> | mass_400 | mass_500 | mass_600 | mass_700 | mass_800 |\n",
       "|---|---|---|---|---|---|\n",
       "| 21 | 0.000321880 | 0.002367646 | 0           | 0           | 0           |\n",
       "| 22 | 0.000269650 | 0.002149282 | 0           | 0           | 0           |\n",
       "| 23 | 0.000535273 | 0.001191808 | 0           | 0           | 0           |\n",
       "| 24 | 0.000765517 | 0.002423287 | 0           | 0           | 0           |\n",
       "| 25 | 0.000446179 | 0.002101150 | 0           | 0           | 0           |\n",
       "| 26 | 0.000352090 | 0.001562441 | 0           | 0           | 0           |\n",
       "\n"
      ],
      "text/plain": [
       "   mass_400    mass_500    mass_600 mass_700 mass_800\n",
       "21 0.000321880 0.002367646 0        0        0       \n",
       "22 0.000269650 0.002149282 0        0        0       \n",
       "23 0.000535273 0.001191808 0        0        0       \n",
       "24 0.000765517 0.002423287 0        0        0       \n",
       "25 0.000446179 0.002101150 0        0        0       \n",
       "26 0.000352090 0.001562441 0        0        0       "
      ]
     },
     "metadata": {},
     "output_type": "display_data"
    },
    {
     "data": {
      "text/html": [
       "<dl class=dl-horizontal>\n",
       "\t<dt>mass_400</dt>\n",
       "\t\t<dd>1</dd>\n",
       "\t<dt>mass_500</dt>\n",
       "\t\t<dd>2</dd>\n",
       "\t<dt>mass_700</dt>\n",
       "\t\t<dd>4</dd>\n",
       "</dl>\n"
      ],
      "text/latex": [
       "\\begin{description*}\n",
       "\\item[mass\\textbackslash{}\\_400] 1\n",
       "\\item[mass\\textbackslash{}\\_500] 2\n",
       "\\item[mass\\textbackslash{}\\_700] 4\n",
       "\\end{description*}\n"
      ],
      "text/markdown": [
       "mass_400\n",
       ":   1mass_500\n",
       ":   2mass_700\n",
       ":   4\n",
       "\n"
      ],
      "text/plain": [
       "mass_400 mass_500 mass_700 \n",
       "       1        2        4 "
      ]
     },
     "metadata": {},
     "output_type": "display_data"
    },
    {
     "data": {
      "text/html": [
       "<table>\n",
       "<thead><tr><th></th><th scope=col>mass_400</th><th scope=col>mass_500</th><th scope=col>mass_700</th></tr></thead>\n",
       "<tbody>\n",
       "\t<tr><th scope=row>21</th><td>0.000321880</td><td>0.002367646</td><td>0.000000000</td></tr>\n",
       "\t<tr><th scope=row>22</th><td>0.000269650</td><td>0.002149282</td><td>0.000000000</td></tr>\n",
       "\t<tr><th scope=row>23</th><td>0.000535273</td><td>0.001191808</td><td>0.000000000</td></tr>\n",
       "\t<tr><th scope=row>24</th><td>0.000765517</td><td>0.002423287</td><td>0.000000000</td></tr>\n",
       "\t<tr><th scope=row>25</th><td>0.000446179</td><td>0.002101150</td><td>0.000000000</td></tr>\n",
       "\t<tr><th scope=row>26</th><td>0.000352090</td><td>0.001562441</td><td>0.000000000</td></tr>\n",
       "\t<tr><th scope=row>27</th><td>0.000182130</td><td>0.001866084</td><td>0.000000000</td></tr>\n",
       "\t<tr><th scope=row>28</th><td>0.000184298</td><td>0.001427423</td><td>0.000000000</td></tr>\n",
       "\t<tr><th scope=row>29</th><td>0.000372491</td><td>0.001967608</td><td>0.000000000</td></tr>\n",
       "\t<tr><th scope=row>30</th><td>0.000264516</td><td>0.001735910</td><td>0.000000000</td></tr>\n",
       "\t<tr><th scope=row>36</th><td>0.000360806</td><td>0.002265789</td><td>0.000000000</td></tr>\n",
       "\t<tr><th scope=row>37</th><td>0.000194526</td><td>0.002148311</td><td>0.000000000</td></tr>\n",
       "\t<tr><th scope=row>38</th><td>0.000407232</td><td>0.002424928</td><td>0.000000000</td></tr>\n",
       "\t<tr><th scope=row>39</th><td>0.000367189</td><td>0.002607846</td><td>0.000000000</td></tr>\n",
       "\t<tr><th scope=row>40</th><td>0.000178892</td><td>0.001818219</td><td>0.000000000</td></tr>\n",
       "\t<tr><th scope=row>41</th><td>0.000315792</td><td>0.001505723</td><td>0.000000000</td></tr>\n",
       "\t<tr><th scope=row>42</th><td>0.000342290</td><td>0.002309171</td><td>0.000000000</td></tr>\n",
       "\t<tr><th scope=row>43</th><td>0.000298158</td><td>0.002169732</td><td>0.000000000</td></tr>\n",
       "\t<tr><th scope=row>44</th><td>0.000360740</td><td>0.003396796</td><td>0.000246531</td></tr>\n",
       "\t<tr><th scope=row>45</th><td>0.001527913</td><td>0.004618996</td><td>0.000000000</td></tr>\n",
       "\t<tr><th scope=row>51</th><td>0.000423505</td><td>0.002945587</td><td>0.000000000</td></tr>\n",
       "\t<tr><th scope=row>52</th><td>0.000408303</td><td>0.003076784</td><td>0.000064900</td></tr>\n",
       "\t<tr><th scope=row>53</th><td>0.000755155</td><td>0.002730894</td><td>0.000358026</td></tr>\n",
       "\t<tr><th scope=row>54</th><td>0.000497530</td><td>0.003452254</td><td>0.000067000</td></tr>\n",
       "\t<tr><th scope=row>55</th><td>0.000930824</td><td>0.004896156</td><td>0.001065028</td></tr>\n",
       "\t<tr><th scope=row>56</th><td>0.000461236</td><td>0.002329634</td><td>0.000210705</td></tr>\n",
       "\t<tr><th scope=row>57</th><td>0.000394364</td><td>0.002541047</td><td>0.000105927</td></tr>\n",
       "\t<tr><th scope=row>58</th><td>0.000638008</td><td>0.002696531</td><td>0.000000000</td></tr>\n",
       "\t<tr><th scope=row>59</th><td>0.001684435</td><td>0.006418673</td><td>0.000000000</td></tr>\n",
       "\t<tr><th scope=row>60</th><td>0.000837679</td><td>0.003959346</td><td>0.000000000</td></tr>\n",
       "</tbody>\n",
       "</table>\n"
      ],
      "text/latex": [
       "\\begin{tabular}{r|lll}\n",
       "  & mass\\_400 & mass\\_500 & mass\\_700\\\\\n",
       "\\hline\n",
       "\t21 & 0.000321880 & 0.002367646 & 0.000000000\\\\\n",
       "\t22 & 0.000269650 & 0.002149282 & 0.000000000\\\\\n",
       "\t23 & 0.000535273 & 0.001191808 & 0.000000000\\\\\n",
       "\t24 & 0.000765517 & 0.002423287 & 0.000000000\\\\\n",
       "\t25 & 0.000446179 & 0.002101150 & 0.000000000\\\\\n",
       "\t26 & 0.000352090 & 0.001562441 & 0.000000000\\\\\n",
       "\t27 & 0.000182130 & 0.001866084 & 0.000000000\\\\\n",
       "\t28 & 0.000184298 & 0.001427423 & 0.000000000\\\\\n",
       "\t29 & 0.000372491 & 0.001967608 & 0.000000000\\\\\n",
       "\t30 & 0.000264516 & 0.001735910 & 0.000000000\\\\\n",
       "\t36 & 0.000360806 & 0.002265789 & 0.000000000\\\\\n",
       "\t37 & 0.000194526 & 0.002148311 & 0.000000000\\\\\n",
       "\t38 & 0.000407232 & 0.002424928 & 0.000000000\\\\\n",
       "\t39 & 0.000367189 & 0.002607846 & 0.000000000\\\\\n",
       "\t40 & 0.000178892 & 0.001818219 & 0.000000000\\\\\n",
       "\t41 & 0.000315792 & 0.001505723 & 0.000000000\\\\\n",
       "\t42 & 0.000342290 & 0.002309171 & 0.000000000\\\\\n",
       "\t43 & 0.000298158 & 0.002169732 & 0.000000000\\\\\n",
       "\t44 & 0.000360740 & 0.003396796 & 0.000246531\\\\\n",
       "\t45 & 0.001527913 & 0.004618996 & 0.000000000\\\\\n",
       "\t51 & 0.000423505 & 0.002945587 & 0.000000000\\\\\n",
       "\t52 & 0.000408303 & 0.003076784 & 0.000064900\\\\\n",
       "\t53 & 0.000755155 & 0.002730894 & 0.000358026\\\\\n",
       "\t54 & 0.000497530 & 0.003452254 & 0.000067000\\\\\n",
       "\t55 & 0.000930824 & 0.004896156 & 0.001065028\\\\\n",
       "\t56 & 0.000461236 & 0.002329634 & 0.000210705\\\\\n",
       "\t57 & 0.000394364 & 0.002541047 & 0.000105927\\\\\n",
       "\t58 & 0.000638008 & 0.002696531 & 0.000000000\\\\\n",
       "\t59 & 0.001684435 & 0.006418673 & 0.000000000\\\\\n",
       "\t60 & 0.000837679 & 0.003959346 & 0.000000000\\\\\n",
       "\\end{tabular}\n"
      ],
      "text/markdown": [
       "\n",
       "| <!--/--> | mass_400 | mass_500 | mass_700 |\n",
       "|---|---|---|---|\n",
       "| 21 | 0.000321880 | 0.002367646 | 0.000000000 |\n",
       "| 22 | 0.000269650 | 0.002149282 | 0.000000000 |\n",
       "| 23 | 0.000535273 | 0.001191808 | 0.000000000 |\n",
       "| 24 | 0.000765517 | 0.002423287 | 0.000000000 |\n",
       "| 25 | 0.000446179 | 0.002101150 | 0.000000000 |\n",
       "| 26 | 0.000352090 | 0.001562441 | 0.000000000 |\n",
       "| 27 | 0.000182130 | 0.001866084 | 0.000000000 |\n",
       "| 28 | 0.000184298 | 0.001427423 | 0.000000000 |\n",
       "| 29 | 0.000372491 | 0.001967608 | 0.000000000 |\n",
       "| 30 | 0.000264516 | 0.001735910 | 0.000000000 |\n",
       "| 36 | 0.000360806 | 0.002265789 | 0.000000000 |\n",
       "| 37 | 0.000194526 | 0.002148311 | 0.000000000 |\n",
       "| 38 | 0.000407232 | 0.002424928 | 0.000000000 |\n",
       "| 39 | 0.000367189 | 0.002607846 | 0.000000000 |\n",
       "| 40 | 0.000178892 | 0.001818219 | 0.000000000 |\n",
       "| 41 | 0.000315792 | 0.001505723 | 0.000000000 |\n",
       "| 42 | 0.000342290 | 0.002309171 | 0.000000000 |\n",
       "| 43 | 0.000298158 | 0.002169732 | 0.000000000 |\n",
       "| 44 | 0.000360740 | 0.003396796 | 0.000246531 |\n",
       "| 45 | 0.001527913 | 0.004618996 | 0.000000000 |\n",
       "| 51 | 0.000423505 | 0.002945587 | 0.000000000 |\n",
       "| 52 | 0.000408303 | 0.003076784 | 0.000064900 |\n",
       "| 53 | 0.000755155 | 0.002730894 | 0.000358026 |\n",
       "| 54 | 0.000497530 | 0.003452254 | 0.000067000 |\n",
       "| 55 | 0.000930824 | 0.004896156 | 0.001065028 |\n",
       "| 56 | 0.000461236 | 0.002329634 | 0.000210705 |\n",
       "| 57 | 0.000394364 | 0.002541047 | 0.000105927 |\n",
       "| 58 | 0.000638008 | 0.002696531 | 0.000000000 |\n",
       "| 59 | 0.001684435 | 0.006418673 | 0.000000000 |\n",
       "| 60 | 0.000837679 | 0.003959346 | 0.000000000 |\n",
       "\n"
      ],
      "text/plain": [
       "   mass_400    mass_500    mass_700   \n",
       "21 0.000321880 0.002367646 0.000000000\n",
       "22 0.000269650 0.002149282 0.000000000\n",
       "23 0.000535273 0.001191808 0.000000000\n",
       "24 0.000765517 0.002423287 0.000000000\n",
       "25 0.000446179 0.002101150 0.000000000\n",
       "26 0.000352090 0.001562441 0.000000000\n",
       "27 0.000182130 0.001866084 0.000000000\n",
       "28 0.000184298 0.001427423 0.000000000\n",
       "29 0.000372491 0.001967608 0.000000000\n",
       "30 0.000264516 0.001735910 0.000000000\n",
       "36 0.000360806 0.002265789 0.000000000\n",
       "37 0.000194526 0.002148311 0.000000000\n",
       "38 0.000407232 0.002424928 0.000000000\n",
       "39 0.000367189 0.002607846 0.000000000\n",
       "40 0.000178892 0.001818219 0.000000000\n",
       "41 0.000315792 0.001505723 0.000000000\n",
       "42 0.000342290 0.002309171 0.000000000\n",
       "43 0.000298158 0.002169732 0.000000000\n",
       "44 0.000360740 0.003396796 0.000246531\n",
       "45 0.001527913 0.004618996 0.000000000\n",
       "51 0.000423505 0.002945587 0.000000000\n",
       "52 0.000408303 0.003076784 0.000064900\n",
       "53 0.000755155 0.002730894 0.000358026\n",
       "54 0.000497530 0.003452254 0.000067000\n",
       "55 0.000930824 0.004896156 0.001065028\n",
       "56 0.000461236 0.002329634 0.000210705\n",
       "57 0.000394364 0.002541047 0.000105927\n",
       "58 0.000638008 0.002696531 0.000000000\n",
       "59 0.001684435 0.006418673 0.000000000\n",
       "60 0.000837679 0.003959346 0.000000000"
      ]
     },
     "metadata": {},
     "output_type": "display_data"
    },
    {
     "data": {
      "text/html": [
       "<table>\n",
       "<thead><tr><th></th><th scope=col>filename</th><th scope=col>MouseID</th><th scope=col>Treatmentgroup</th><th scope=col>DPI</th><th scope=col>organ</th><th scope=col>well_position</th><th scope=col>plate</th><th scope=col>mass_400</th><th scope=col>mass_500</th><th scope=col>mass_700</th></tr></thead>\n",
       "<tbody>\n",
       "\t<tr><th scope=row>21</th><td>X611_Group9_142dpi_RV_top_181_G_B9_P136.mzXML </td><td>611                                           </td><td>combo                                         </td><td>142dpi                                        </td><td>RV_top                                        </td><td>B9                                            </td><td>P136                                          </td><td>0.000321880                                   </td><td>0.002367646                                   </td><td>0                                             </td></tr>\n",
       "\t<tr><th scope=row>22</th><td>X612_Group9_142dpi_RV_top_182_G_B10_P136.mzXML</td><td>612                                           </td><td>combo                                         </td><td>142dpi                                        </td><td>RV_top                                        </td><td>B10                                           </td><td>P136                                          </td><td>0.000269650                                   </td><td>0.002149282                                   </td><td>0                                             </td></tr>\n",
       "\t<tr><th scope=row>23</th><td>X613_Group9_142dpi_RV_top_183_G_B11_P136.mzXML</td><td>613                                           </td><td>combo                                         </td><td>142dpi                                        </td><td>RV_top                                        </td><td>B11                                           </td><td>P136                                          </td><td>0.000535273                                   </td><td>0.001191808                                   </td><td>0                                             </td></tr>\n",
       "\t<tr><th scope=row>24</th><td>X614_Group9_142dpi_RV_top_184_G_B12_P136.mzXML</td><td>614                                           </td><td>combo                                         </td><td>142dpi                                        </td><td>RV_top                                        </td><td>B12                                           </td><td>P136                                          </td><td>0.000765517                                   </td><td>0.002423287                                   </td><td>0                                             </td></tr>\n",
       "\t<tr><th scope=row>25</th><td>X615_Group9_142dpi_RV_top_185_G_C1_P136.mzXML </td><td>615                                           </td><td>combo                                         </td><td>142dpi                                        </td><td>RV_top                                        </td><td>C1                                            </td><td>P136                                          </td><td>0.000446179                                   </td><td>0.002101150                                   </td><td>0                                             </td></tr>\n",
       "\t<tr><th scope=row>26</th><td>X631_Group15_142dpi_RV_top_191_G_C7_P136.mzXML</td><td>631                                           </td><td>BNZ                                           </td><td>142dpi                                        </td><td>RV_top                                        </td><td>C7                                            </td><td>P136                                          </td><td>0.000352090                                   </td><td>0.001562441                                   </td><td>0                                             </td></tr>\n",
       "</tbody>\n",
       "</table>\n"
      ],
      "text/latex": [
       "\\begin{tabular}{r|llllllllll}\n",
       "  & filename & MouseID & Treatmentgroup & DPI & organ & well\\_position & plate & mass\\_400 & mass\\_500 & mass\\_700\\\\\n",
       "\\hline\n",
       "\t21 & X611\\_Group9\\_142dpi\\_RV\\_top\\_181\\_G\\_B9\\_P136.mzXML  & 611                                                            & combo                                                          & 142dpi                                                         & RV\\_top                                                       & B9                                                             & P136                                                           & 0.000321880                                                    & 0.002367646                                                    & 0                                                             \\\\\n",
       "\t22 & X612\\_Group9\\_142dpi\\_RV\\_top\\_182\\_G\\_B10\\_P136.mzXML & 612                                                            & combo                                                          & 142dpi                                                         & RV\\_top                                                       & B10                                                            & P136                                                           & 0.000269650                                                    & 0.002149282                                                    & 0                                                             \\\\\n",
       "\t23 & X613\\_Group9\\_142dpi\\_RV\\_top\\_183\\_G\\_B11\\_P136.mzXML & 613                                                            & combo                                                          & 142dpi                                                         & RV\\_top                                                       & B11                                                            & P136                                                           & 0.000535273                                                    & 0.001191808                                                    & 0                                                             \\\\\n",
       "\t24 & X614\\_Group9\\_142dpi\\_RV\\_top\\_184\\_G\\_B12\\_P136.mzXML & 614                                                            & combo                                                          & 142dpi                                                         & RV\\_top                                                       & B12                                                            & P136                                                           & 0.000765517                                                    & 0.002423287                                                    & 0                                                             \\\\\n",
       "\t25 & X615\\_Group9\\_142dpi\\_RV\\_top\\_185\\_G\\_C1\\_P136.mzXML  & 615                                                            & combo                                                          & 142dpi                                                         & RV\\_top                                                       & C1                                                             & P136                                                           & 0.000446179                                                    & 0.002101150                                                    & 0                                                             \\\\\n",
       "\t26 & X631\\_Group15\\_142dpi\\_RV\\_top\\_191\\_G\\_C7\\_P136.mzXML & 631                                                            & BNZ                                                            & 142dpi                                                         & RV\\_top                                                       & C7                                                             & P136                                                           & 0.000352090                                                    & 0.001562441                                                    & 0                                                             \\\\\n",
       "\\end{tabular}\n"
      ],
      "text/markdown": [
       "\n",
       "| <!--/--> | filename | MouseID | Treatmentgroup | DPI | organ | well_position | plate | mass_400 | mass_500 | mass_700 |\n",
       "|---|---|---|---|---|---|---|---|---|---|---|\n",
       "| 21 | X611_Group9_142dpi_RV_top_181_G_B9_P136.mzXML  | 611                                            | combo                                          | 142dpi                                         | RV_top                                         | B9                                             | P136                                           | 0.000321880                                    | 0.002367646                                    | 0                                              |\n",
       "| 22 | X612_Group9_142dpi_RV_top_182_G_B10_P136.mzXML | 612                                            | combo                                          | 142dpi                                         | RV_top                                         | B10                                            | P136                                           | 0.000269650                                    | 0.002149282                                    | 0                                              |\n",
       "| 23 | X613_Group9_142dpi_RV_top_183_G_B11_P136.mzXML | 613                                            | combo                                          | 142dpi                                         | RV_top                                         | B11                                            | P136                                           | 0.000535273                                    | 0.001191808                                    | 0                                              |\n",
       "| 24 | X614_Group9_142dpi_RV_top_184_G_B12_P136.mzXML | 614                                            | combo                                          | 142dpi                                         | RV_top                                         | B12                                            | P136                                           | 0.000765517                                    | 0.002423287                                    | 0                                              |\n",
       "| 25 | X615_Group9_142dpi_RV_top_185_G_C1_P136.mzXML  | 615                                            | combo                                          | 142dpi                                         | RV_top                                         | C1                                             | P136                                           | 0.000446179                                    | 0.002101150                                    | 0                                              |\n",
       "| 26 | X631_Group15_142dpi_RV_top_191_G_C7_P136.mzXML | 631                                            | BNZ                                            | 142dpi                                         | RV_top                                         | C7                                             | P136                                           | 0.000352090                                    | 0.001562441                                    | 0                                              |\n",
       "\n"
      ],
      "text/plain": [
       "   filename                                       MouseID Treatmentgroup DPI   \n",
       "21 X611_Group9_142dpi_RV_top_181_G_B9_P136.mzXML  611     combo          142dpi\n",
       "22 X612_Group9_142dpi_RV_top_182_G_B10_P136.mzXML 612     combo          142dpi\n",
       "23 X613_Group9_142dpi_RV_top_183_G_B11_P136.mzXML 613     combo          142dpi\n",
       "24 X614_Group9_142dpi_RV_top_184_G_B12_P136.mzXML 614     combo          142dpi\n",
       "25 X615_Group9_142dpi_RV_top_185_G_C1_P136.mzXML  615     combo          142dpi\n",
       "26 X631_Group15_142dpi_RV_top_191_G_C7_P136.mzXML 631     BNZ            142dpi\n",
       "   organ  well_position plate mass_400    mass_500    mass_700\n",
       "21 RV_top B9            P136  0.000321880 0.002367646 0       \n",
       "22 RV_top B10           P136  0.000269650 0.002149282 0       \n",
       "23 RV_top B11           P136  0.000535273 0.001191808 0       \n",
       "24 RV_top B12           P136  0.000765517 0.002423287 0       \n",
       "25 RV_top C1            P136  0.000446179 0.002101150 0       \n",
       "26 RV_top C7            P136  0.000352090 0.001562441 0       "
      ]
     },
     "metadata": {},
     "output_type": "display_data"
    },
    {
     "data": {
      "text/html": [
       "<ol class=list-inline>\n",
       "\t<li>30</li>\n",
       "\t<li>12</li>\n",
       "</ol>\n"
      ],
      "text/latex": [
       "\\begin{enumerate*}\n",
       "\\item 30\n",
       "\\item 12\n",
       "\\end{enumerate*}\n"
      ],
      "text/markdown": [
       "1. 30\n",
       "2. 12\n",
       "\n",
       "\n"
      ],
      "text/plain": [
       "[1] 30 12"
      ]
     },
     "metadata": {},
     "output_type": "display_data"
    },
    {
     "data": {
      "text/html": [
       "<ol class=list-inline>\n",
       "\t<li>30</li>\n",
       "\t<li>5</li>\n",
       "</ol>\n"
      ],
      "text/latex": [
       "\\begin{enumerate*}\n",
       "\\item 30\n",
       "\\item 5\n",
       "\\end{enumerate*}\n"
      ],
      "text/markdown": [
       "1. 30\n",
       "2. 5\n",
       "\n",
       "\n"
      ],
      "text/plain": [
       "[1] 30  5"
      ]
     },
     "metadata": {},
     "output_type": "display_data"
    },
    {
     "data": {
      "text/html": [
       "<ol class=list-inline>\n",
       "\t<li>30</li>\n",
       "\t<li>3</li>\n",
       "</ol>\n"
      ],
      "text/latex": [
       "\\begin{enumerate*}\n",
       "\\item 30\n",
       "\\item 3\n",
       "\\end{enumerate*}\n"
      ],
      "text/markdown": [
       "1. 30\n",
       "2. 3\n",
       "\n",
       "\n"
      ],
      "text/plain": [
       "[1] 30  3"
      ]
     },
     "metadata": {},
     "output_type": "display_data"
    },
    {
     "data": {
      "text/html": [
       "<ol class=list-inline>\n",
       "\t<li>30</li>\n",
       "\t<li>10</li>\n",
       "</ol>\n"
      ],
      "text/latex": [
       "\\begin{enumerate*}\n",
       "\\item 30\n",
       "\\item 10\n",
       "\\end{enumerate*}\n"
      ],
      "text/markdown": [
       "1. 30\n",
       "2. 10\n",
       "\n",
       "\n"
      ],
      "text/plain": [
       "[1] 30 10"
      ]
     },
     "metadata": {},
     "output_type": "display_data"
    }
   ],
   "source": [
    "noMeta<-features_pos[,8:12]\n",
    "head(noMeta)\n",
    "not_zero<-which(colSums(noMeta) != 0)\n",
    "head(not_zero)\n",
    "nonzero <- noMeta[, not_zero]\n",
    "nonzero\n",
    "nonzero_wMeta<-cbind(features_pos[,1:7], nonzero)\n",
    "head(nonzero_wMeta)\n",
    "dim(features_pos)\n",
    "dim(noMeta)\n",
    "dim(nonzero)\n",
    "dim(nonzero_wMeta)"
   ]
  },
  {
   "cell_type": "code",
   "execution_count": 5,
   "metadata": {
    "scrolled": true
   },
   "outputs": [
    {
     "name": "stderr",
     "output_type": "stream",
     "text": [
      "Warning message in wilcox.test.default(x = c(0, 0, 0, 0, 0, 0, 0, 0, 0.000246531, :\n",
      "\"cannot compute exact p-value with ties\""
     ]
    },
    {
     "data": {
      "text/html": [
       "<ol class=list-inline>\n",
       "\t<li>0.623594278712037</li>\n",
       "\t<li>0.623594278712037</li>\n",
       "\t<li>0.695352222477702</li>\n",
       "</ol>\n"
      ],
      "text/latex": [
       "\\begin{enumerate*}\n",
       "\\item 0.623594278712037\n",
       "\\item 0.623594278712037\n",
       "\\item 0.695352222477702\n",
       "\\end{enumerate*}\n"
      ],
      "text/markdown": [
       "1. 0.623594278712037\n",
       "2. 0.623594278712037\n",
       "3. 0.695352222477702\n",
       "\n",
       "\n"
      ],
      "text/plain": [
       "[1] 0.6235943 0.6235943 0.6953522"
      ]
     },
     "metadata": {},
     "output_type": "display_data"
    },
    {
     "data": {
      "text/html": [
       "<ol class=list-inline>\n",
       "\t<li>0.695352222477702</li>\n",
       "\t<li>0.695352222477702</li>\n",
       "\t<li>0.695352222477702</li>\n",
       "</ol>\n"
      ],
      "text/latex": [
       "\\begin{enumerate*}\n",
       "\\item 0.695352222477702\n",
       "\\item 0.695352222477702\n",
       "\\item 0.695352222477702\n",
       "\\end{enumerate*}\n"
      ],
      "text/markdown": [
       "1. 0.695352222477702\n",
       "2. 0.695352222477702\n",
       "3. 0.695352222477702\n",
       "\n",
       "\n"
      ],
      "text/plain": [
       "[1] 0.6953522 0.6953522 0.6953522"
      ]
     },
     "metadata": {},
     "output_type": "display_data"
    }
   ],
   "source": [
    "pval<-c()\n",
    "\n",
    "for (i in 8:ncol(nonzero_wMeta)) \n",
    "pval<-c(pval,wilcox.test(nonzero_wMeta[,i]~nonzero_wMeta$Treatmentgroup)$p.value)\n",
    "head(pval)\n",
    "pAdj <- p.adjust(pval, method = c(\"fdr\"), n=length(pval)) \n",
    "head(pAdj) \n",
    "\n"
   ]
  },
  {
   "cell_type": "code",
   "execution_count": 6,
   "metadata": {
    "scrolled": true
   },
   "outputs": [
    {
     "data": {
      "text/html": [
       "3"
      ],
      "text/latex": [
       "3"
      ],
      "text/markdown": [
       "3"
      ],
      "text/plain": [
       "[1] 3"
      ]
     },
     "metadata": {},
     "output_type": "display_data"
    }
   ],
   "source": [
    "length(pval)"
   ]
  },
  {
   "cell_type": "code",
   "execution_count": 7,
   "metadata": {
    "scrolled": true
   },
   "outputs": [
    {
     "data": {
      "text/html": [
       "3"
      ],
      "text/latex": [
       "3"
      ],
      "text/markdown": [
       "3"
      ],
      "text/plain": [
       "[1] 3"
      ]
     },
     "metadata": {},
     "output_type": "display_data"
    }
   ],
   "source": [
    "length(pAdj)"
   ]
  },
  {
   "cell_type": "code",
   "execution_count": 8,
   "metadata": {},
   "outputs": [
    {
     "data": {
      "text/html": [
       "<ol class=list-inline>\n",
       "\t<li>2</li>\n",
       "\t<li>3</li>\n",
       "</ol>\n"
      ],
      "text/latex": [
       "\\begin{enumerate*}\n",
       "\\item 2\n",
       "\\item 3\n",
       "\\end{enumerate*}\n"
      ],
      "text/markdown": [
       "1. 2\n",
       "2. 3\n",
       "\n",
       "\n"
      ],
      "text/plain": [
       "[1] 2 3"
      ]
     },
     "metadata": {},
     "output_type": "display_data"
    },
    {
     "data": {
      "text/html": [
       "<table>\n",
       "<thead><tr><th></th><th scope=col>mass_400</th><th scope=col>mass_500</th><th scope=col>mass_700</th></tr></thead>\n",
       "<tbody>\n",
       "\t<tr><th scope=row>BNZ</th><td>0.0005477427</td><td>0.002700341 </td><td>0.0000375442</td></tr>\n",
       "\t<tr><th scope=row>combo</th><td>0.0004574974</td><td>0.002573329 </td><td>0.0001036636</td></tr>\n",
       "</tbody>\n",
       "</table>\n"
      ],
      "text/latex": [
       "\\begin{tabular}{r|lll}\n",
       "  & mass\\_400 & mass\\_500 & mass\\_700\\\\\n",
       "\\hline\n",
       "\tBNZ & 0.0005477427 & 0.002700341  & 0.0000375442\\\\\n",
       "\tcombo & 0.0004574974 & 0.002573329  & 0.0001036636\\\\\n",
       "\\end{tabular}\n"
      ],
      "text/markdown": [
       "\n",
       "| <!--/--> | mass_400 | mass_500 | mass_700 |\n",
       "|---|---|---|---|\n",
       "| BNZ | 0.0005477427 | 0.002700341  | 0.0000375442 |\n",
       "| combo | 0.0004574974 | 0.002573329  | 0.0001036636 |\n",
       "\n"
      ],
      "text/plain": [
       "      mass_400     mass_500    mass_700    \n",
       "BNZ   0.0005477427 0.002700341 0.0000375442\n",
       "combo 0.0004574974 0.002573329 0.0001036636"
      ]
     },
     "metadata": {},
     "output_type": "display_data"
    },
    {
     "data": {
      "text/html": [
       "<dl class=dl-horizontal>\n",
       "\t<dt>mass_400</dt>\n",
       "\t\t<dd>1.19725853451116</dd>\n",
       "\t<dt>mass_500</dt>\n",
       "\t\t<dd>1.04935691482015</dd>\n",
       "\t<dt>mass_700</dt>\n",
       "\t\t<dd>0.362173414776257</dd>\n",
       "</dl>\n"
      ],
      "text/latex": [
       "\\begin{description*}\n",
       "\\item[mass\\textbackslash{}\\_400] 1.19725853451116\n",
       "\\item[mass\\textbackslash{}\\_500] 1.04935691482015\n",
       "\\item[mass\\textbackslash{}\\_700] 0.362173414776257\n",
       "\\end{description*}\n"
      ],
      "text/markdown": [
       "mass_400\n",
       ":   1.19725853451116mass_500\n",
       ":   1.04935691482015mass_700\n",
       ":   0.362173414776257\n",
       "\n"
      ],
      "text/plain": [
       " mass_400  mass_500  mass_700 \n",
       "1.1972585 1.0493569 0.3621734 "
      ]
     },
     "metadata": {},
     "output_type": "display_data"
    },
    {
     "data": {
      "text/html": [
       "<ol class=list-inline>\n",
       "\t<li>'numeric'</li>\n",
       "\t<li>'vector'</li>\n",
       "</ol>\n"
      ],
      "text/latex": [
       "\\begin{enumerate*}\n",
       "\\item 'numeric'\n",
       "\\item 'vector'\n",
       "\\end{enumerate*}\n"
      ],
      "text/markdown": [
       "1. 'numeric'\n",
       "2. 'vector'\n",
       "\n",
       "\n"
      ],
      "text/plain": [
       "[1] \"numeric\" \"vector\" "
      ]
     },
     "metadata": {},
     "output_type": "display_data"
    }
   ],
   "source": [
    "avg<- apply(nonzero_wMeta[,8:ncol(nonzero_wMeta)], 2, function(x) tapply(x, nonzero_wMeta$Treatmentgroup, function(x) mean(x))) \n",
    "\n",
    "dim(avg)\n",
    "\n",
    "avg[,1:3]\n",
    "\n",
    "fch <- apply(avg, 2, function(x) x[1]/x[2])\n",
    "\n",
    "head(fch)\n",
    "is(fch)"
   ]
  },
  {
   "cell_type": "code",
   "execution_count": 9,
   "metadata": {
    "scrolled": true
   },
   "outputs": [
    {
     "data": {
      "text/html": [
       "<dl class=dl-horizontal>\n",
       "\t<dt>mass_400</dt>\n",
       "\t\t<dd>1.19725853451116</dd>\n",
       "\t<dt>mass_500</dt>\n",
       "\t\t<dd>1.04935691482015</dd>\n",
       "\t<dt>mass_700</dt>\n",
       "\t\t<dd>0.362173414776257</dd>\n",
       "</dl>\n"
      ],
      "text/latex": [
       "\\begin{description*}\n",
       "\\item[mass\\textbackslash{}\\_400] 1.19725853451116\n",
       "\\item[mass\\textbackslash{}\\_500] 1.04935691482015\n",
       "\\item[mass\\textbackslash{}\\_700] 0.362173414776257\n",
       "\\end{description*}\n"
      ],
      "text/markdown": [
       "mass_400\n",
       ":   1.19725853451116mass_500\n",
       ":   1.04935691482015mass_700\n",
       ":   0.362173414776257\n",
       "\n"
      ],
      "text/plain": [
       " mass_400  mass_500  mass_700 \n",
       "1.1972585 1.0493569 0.3621734 "
      ]
     },
     "metadata": {},
     "output_type": "display_data"
    }
   ],
   "source": [
    "fch"
   ]
  },
  {
   "cell_type": "code",
   "execution_count": 10,
   "metadata": {
    "scrolled": false
   },
   "outputs": [],
   "source": [
    "df <- data.frame(fch,pval, pAdj)\n",
    "write.csv(df, \"PE-treat-RVT-wilcox-combo-BNZ.csv\")"
   ]
  },
  {
   "cell_type": "code",
   "execution_count": null,
   "metadata": {},
   "outputs": [],
   "source": []
  },
  {
   "cell_type": "code",
   "execution_count": null,
   "metadata": {},
   "outputs": [],
   "source": []
  },
  {
   "cell_type": "code",
   "execution_count": null,
   "metadata": {},
   "outputs": [],
   "source": []
  },
  {
   "cell_type": "code",
   "execution_count": null,
   "metadata": {},
   "outputs": [],
   "source": []
  },
  {
   "cell_type": "code",
   "execution_count": null,
   "metadata": {},
   "outputs": [],
   "source": []
  },
  {
   "cell_type": "code",
   "execution_count": null,
   "metadata": {},
   "outputs": [],
   "source": []
  }
 ],
 "metadata": {
  "kernelspec": {
   "display_name": "R",
   "language": "R",
   "name": "ir"
  },
  "language_info": {
   "codemirror_mode": "r",
   "file_extension": ".r",
   "mimetype": "text/x-r-source",
   "name": "R",
   "pygments_lexer": "r",
   "version": "3.6.1"
  }
 },
 "nbformat": 4,
 "nbformat_minor": 2
}
