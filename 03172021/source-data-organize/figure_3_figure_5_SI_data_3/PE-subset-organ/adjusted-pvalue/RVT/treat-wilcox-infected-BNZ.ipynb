{
 "cells": [
  {
   "cell_type": "code",
   "execution_count": 1,
   "metadata": {},
   "outputs": [],
   "source": [
    "a <- read.csv(\"03172021-PE-treatment-RVT-M-F.csv\")"
   ]
  },
  {
   "cell_type": "code",
   "execution_count": 2,
   "metadata": {},
   "outputs": [
    {
     "data": {
      "text/html": [
       "<table>\n",
       "<thead><tr><th scope=col>filename</th><th scope=col>MouseID</th><th scope=col>Treatmentgroup</th><th scope=col>DPI</th><th scope=col>organ</th><th scope=col>well_position</th><th scope=col>plate</th><th scope=col>mass_400</th><th scope=col>mass_500</th><th scope=col>mass_600</th><th scope=col>mass_700</th><th scope=col>mass_800</th></tr></thead>\n",
       "<tbody>\n",
       "\t<tr><td>X511_Group1C_142dpi_RV_top_161_G_A1_P136.mzXML</td><td>511                                           </td><td>naive                                         </td><td>142dpi                                        </td><td>RV_top                                        </td><td>A1                                            </td><td>P136                                          </td><td>0.000569869                                   </td><td>0.002178443                                   </td><td>0.00e+00                                      </td><td>0.000000000                                   </td><td>0                                             </td></tr>\n",
       "\t<tr><td>X512_Group1C_142dpi_RV_top_162_G_A2_P136.mzXML</td><td>512                                           </td><td>naive                                         </td><td>142dpi                                        </td><td>RV_top                                        </td><td>A2                                            </td><td>P136                                          </td><td>0.000509792                                   </td><td>0.002042879                                   </td><td>0.00e+00                                      </td><td>0.000000000                                   </td><td>0                                             </td></tr>\n",
       "\t<tr><td>X513_Group1C_142dpi_RV_top_163_G_A3_P136.mzXML</td><td>513                                           </td><td>naive                                         </td><td>142dpi                                        </td><td>RV_top                                        </td><td>A3                                            </td><td>P136                                          </td><td>0.000816324                                   </td><td>0.002407532                                   </td><td>4.79e-05                                      </td><td>0.000000000                                   </td><td>0                                             </td></tr>\n",
       "\t<tr><td>X514_Group1C_142dpi_RV_top_164_G_A4_P136.mzXML</td><td>514                                           </td><td>naive                                         </td><td>142dpi                                        </td><td>RV_top                                        </td><td>A4                                            </td><td>P136                                          </td><td>0.000301313                                   </td><td>0.002019899                                   </td><td>0.00e+00                                      </td><td>0.000000000                                   </td><td>0                                             </td></tr>\n",
       "\t<tr><td>X515_Group1C_142dpi_RV_top_165_G_A5_P136.mzXML</td><td>515                                           </td><td>naive                                         </td><td>142dpi                                        </td><td>RV_top                                        </td><td>A5                                            </td><td>P136                                          </td><td>0.001533985                                   </td><td>0.002727735                                   </td><td>9.35e-05                                      </td><td>0.000000000                                   </td><td>0                                             </td></tr>\n",
       "\t<tr><td>X531_Group1C_142dpi_RV_top_166_G_A6_P136.mzXML</td><td>531                                           </td><td>naive                                         </td><td>142dpi                                        </td><td>RV_top                                        </td><td>A6                                            </td><td>P136                                          </td><td>0.000153049                                   </td><td>0.000965296                                   </td><td>0.00e+00                                      </td><td>0.000247528                                   </td><td>0                                             </td></tr>\n",
       "</tbody>\n",
       "</table>\n"
      ],
      "text/latex": [
       "\\begin{tabular}{r|llllllllllll}\n",
       " filename & MouseID & Treatmentgroup & DPI & organ & well\\_position & plate & mass\\_400 & mass\\_500 & mass\\_600 & mass\\_700 & mass\\_800\\\\\n",
       "\\hline\n",
       "\t X511\\_Group1C\\_142dpi\\_RV\\_top\\_161\\_G\\_A1\\_P136.mzXML & 511                                                            & naive                                                          & 142dpi                                                         & RV\\_top                                                       & A1                                                             & P136                                                           & 0.000569869                                                    & 0.002178443                                                    & 0.00e+00                                                       & 0.000000000                                                    & 0                                                             \\\\\n",
       "\t X512\\_Group1C\\_142dpi\\_RV\\_top\\_162\\_G\\_A2\\_P136.mzXML & 512                                                            & naive                                                          & 142dpi                                                         & RV\\_top                                                       & A2                                                             & P136                                                           & 0.000509792                                                    & 0.002042879                                                    & 0.00e+00                                                       & 0.000000000                                                    & 0                                                             \\\\\n",
       "\t X513\\_Group1C\\_142dpi\\_RV\\_top\\_163\\_G\\_A3\\_P136.mzXML & 513                                                            & naive                                                          & 142dpi                                                         & RV\\_top                                                       & A3                                                             & P136                                                           & 0.000816324                                                    & 0.002407532                                                    & 4.79e-05                                                       & 0.000000000                                                    & 0                                                             \\\\\n",
       "\t X514\\_Group1C\\_142dpi\\_RV\\_top\\_164\\_G\\_A4\\_P136.mzXML & 514                                                            & naive                                                          & 142dpi                                                         & RV\\_top                                                       & A4                                                             & P136                                                           & 0.000301313                                                    & 0.002019899                                                    & 0.00e+00                                                       & 0.000000000                                                    & 0                                                             \\\\\n",
       "\t X515\\_Group1C\\_142dpi\\_RV\\_top\\_165\\_G\\_A5\\_P136.mzXML & 515                                                            & naive                                                          & 142dpi                                                         & RV\\_top                                                       & A5                                                             & P136                                                           & 0.001533985                                                    & 0.002727735                                                    & 9.35e-05                                                       & 0.000000000                                                    & 0                                                             \\\\\n",
       "\t X531\\_Group1C\\_142dpi\\_RV\\_top\\_166\\_G\\_A6\\_P136.mzXML & 531                                                            & naive                                                          & 142dpi                                                         & RV\\_top                                                       & A6                                                             & P136                                                           & 0.000153049                                                    & 0.000965296                                                    & 0.00e+00                                                       & 0.000247528                                                    & 0                                                             \\\\\n",
       "\\end{tabular}\n"
      ],
      "text/markdown": [
       "\n",
       "| filename | MouseID | Treatmentgroup | DPI | organ | well_position | plate | mass_400 | mass_500 | mass_600 | mass_700 | mass_800 |\n",
       "|---|---|---|---|---|---|---|---|---|---|---|---|\n",
       "| X511_Group1C_142dpi_RV_top_161_G_A1_P136.mzXML | 511                                            | naive                                          | 142dpi                                         | RV_top                                         | A1                                             | P136                                           | 0.000569869                                    | 0.002178443                                    | 0.00e+00                                       | 0.000000000                                    | 0                                              |\n",
       "| X512_Group1C_142dpi_RV_top_162_G_A2_P136.mzXML | 512                                            | naive                                          | 142dpi                                         | RV_top                                         | A2                                             | P136                                           | 0.000509792                                    | 0.002042879                                    | 0.00e+00                                       | 0.000000000                                    | 0                                              |\n",
       "| X513_Group1C_142dpi_RV_top_163_G_A3_P136.mzXML | 513                                            | naive                                          | 142dpi                                         | RV_top                                         | A3                                             | P136                                           | 0.000816324                                    | 0.002407532                                    | 4.79e-05                                       | 0.000000000                                    | 0                                              |\n",
       "| X514_Group1C_142dpi_RV_top_164_G_A4_P136.mzXML | 514                                            | naive                                          | 142dpi                                         | RV_top                                         | A4                                             | P136                                           | 0.000301313                                    | 0.002019899                                    | 0.00e+00                                       | 0.000000000                                    | 0                                              |\n",
       "| X515_Group1C_142dpi_RV_top_165_G_A5_P136.mzXML | 515                                            | naive                                          | 142dpi                                         | RV_top                                         | A5                                             | P136                                           | 0.001533985                                    | 0.002727735                                    | 9.35e-05                                       | 0.000000000                                    | 0                                              |\n",
       "| X531_Group1C_142dpi_RV_top_166_G_A6_P136.mzXML | 531                                            | naive                                          | 142dpi                                         | RV_top                                         | A6                                             | P136                                           | 0.000153049                                    | 0.000965296                                    | 0.00e+00                                       | 0.000247528                                    | 0                                              |\n",
       "\n"
      ],
      "text/plain": [
       "  filename                                       MouseID Treatmentgroup DPI   \n",
       "1 X511_Group1C_142dpi_RV_top_161_G_A1_P136.mzXML 511     naive          142dpi\n",
       "2 X512_Group1C_142dpi_RV_top_162_G_A2_P136.mzXML 512     naive          142dpi\n",
       "3 X513_Group1C_142dpi_RV_top_163_G_A3_P136.mzXML 513     naive          142dpi\n",
       "4 X514_Group1C_142dpi_RV_top_164_G_A4_P136.mzXML 514     naive          142dpi\n",
       "5 X515_Group1C_142dpi_RV_top_165_G_A5_P136.mzXML 515     naive          142dpi\n",
       "6 X531_Group1C_142dpi_RV_top_166_G_A6_P136.mzXML 531     naive          142dpi\n",
       "  organ  well_position plate mass_400    mass_500    mass_600 mass_700   \n",
       "1 RV_top A1            P136  0.000569869 0.002178443 0.00e+00 0.000000000\n",
       "2 RV_top A2            P136  0.000509792 0.002042879 0.00e+00 0.000000000\n",
       "3 RV_top A3            P136  0.000816324 0.002407532 4.79e-05 0.000000000\n",
       "4 RV_top A4            P136  0.000301313 0.002019899 0.00e+00 0.000000000\n",
       "5 RV_top A5            P136  0.001533985 0.002727735 9.35e-05 0.000000000\n",
       "6 RV_top A6            P136  0.000153049 0.000965296 0.00e+00 0.000247528\n",
       "  mass_800\n",
       "1 0       \n",
       "2 0       \n",
       "3 0       \n",
       "4 0       \n",
       "5 0       \n",
       "6 0       "
      ]
     },
     "metadata": {},
     "output_type": "display_data"
    },
    {
     "data": {
      "text/html": [
       "<ol class=list-inline>\n",
       "\t<li>60</li>\n",
       "\t<li>12</li>\n",
       "</ol>\n"
      ],
      "text/latex": [
       "\\begin{enumerate*}\n",
       "\\item 60\n",
       "\\item 12\n",
       "\\end{enumerate*}\n"
      ],
      "text/markdown": [
       "1. 60\n",
       "2. 12\n",
       "\n",
       "\n"
      ],
      "text/plain": [
       "[1] 60 12"
      ]
     },
     "metadata": {},
     "output_type": "display_data"
    }
   ],
   "source": [
    "head(a)\n",
    "dim(a)"
   ]
  },
  {
   "cell_type": "code",
   "execution_count": 3,
   "metadata": {},
   "outputs": [
    {
     "data": {
      "text/html": [
       "<table>\n",
       "<thead><tr><th></th><th scope=col>filename</th><th scope=col>MouseID</th><th scope=col>Treatmentgroup</th><th scope=col>DPI</th><th scope=col>organ</th><th scope=col>well_position</th><th scope=col>plate</th><th scope=col>mass_400</th><th scope=col>mass_500</th><th scope=col>mass_600</th><th scope=col>mass_700</th><th scope=col>mass_800</th></tr></thead>\n",
       "<tbody>\n",
       "\t<tr><th scope=row>16</th><td>X581_Group3E_142dpi_RV_top_176_G_B4_P136.mzXML</td><td>581                                           </td><td>infected                                      </td><td>142dpi                                        </td><td>RV_top                                        </td><td>B4                                            </td><td>P136                                          </td><td>0.002105318                                   </td><td>0.004538325                                   </td><td>0                                             </td><td>0.000000000                                   </td><td>0                                             </td></tr>\n",
       "\t<tr><th scope=row>17</th><td>X582_Group3E_142dpi_RV_top_177_G_B5_P136.mzXML</td><td>582                                           </td><td>infected                                      </td><td>142dpi                                        </td><td>RV_top                                        </td><td>B5                                            </td><td>P136                                          </td><td>0.000973754                                   </td><td>0.004393339                                   </td><td>0                                             </td><td>0.000000000                                   </td><td>0                                             </td></tr>\n",
       "\t<tr><th scope=row>18</th><td>X583_Group3E_142dpi_RV_top_178_G_B6_P136.mzXML</td><td>583                                           </td><td>infected                                      </td><td>142dpi                                        </td><td>RV_top                                        </td><td>B6                                            </td><td>P136                                          </td><td>0.000462391                                   </td><td>0.002073038                                   </td><td>0                                             </td><td>0.000189585                                   </td><td>0                                             </td></tr>\n",
       "\t<tr><th scope=row>19</th><td>X584_Group3E_142dpi_RV_top_179_G_B7_P136.mzXML</td><td>584                                           </td><td>infected                                      </td><td>142dpi                                        </td><td>RV_top                                        </td><td>B7                                            </td><td>P136                                          </td><td>0.000123065                                   </td><td>0.000592476                                   </td><td>0                                             </td><td>0.000000000                                   </td><td>0                                             </td></tr>\n",
       "\t<tr><th scope=row>20</th><td>X585_Group3E_142dpi_RV_top_180_G_B8_P136.mzXML</td><td>585                                           </td><td>infected                                      </td><td>142dpi                                        </td><td>RV_top                                        </td><td>B8                                            </td><td>P136                                          </td><td>0.000048400                                   </td><td>0.001140661                                   </td><td>0                                             </td><td>0.000000000                                   </td><td>0                                             </td></tr>\n",
       "\t<tr><th scope=row>26</th><td>X631_Group15_142dpi_RV_top_191_G_C7_P136.mzXML</td><td>631                                           </td><td>BNZ                                           </td><td>142dpi                                        </td><td>RV_top                                        </td><td>C7                                            </td><td>P136                                          </td><td>0.000352090                                   </td><td>0.001562441                                   </td><td>0                                             </td><td>0.000000000                                   </td><td>0                                             </td></tr>\n",
       "</tbody>\n",
       "</table>\n"
      ],
      "text/latex": [
       "\\begin{tabular}{r|llllllllllll}\n",
       "  & filename & MouseID & Treatmentgroup & DPI & organ & well\\_position & plate & mass\\_400 & mass\\_500 & mass\\_600 & mass\\_700 & mass\\_800\\\\\n",
       "\\hline\n",
       "\t16 & X581\\_Group3E\\_142dpi\\_RV\\_top\\_176\\_G\\_B4\\_P136.mzXML & 581                                                            & infected                                                       & 142dpi                                                         & RV\\_top                                                       & B4                                                             & P136                                                           & 0.002105318                                                    & 0.004538325                                                    & 0                                                              & 0.000000000                                                    & 0                                                             \\\\\n",
       "\t17 & X582\\_Group3E\\_142dpi\\_RV\\_top\\_177\\_G\\_B5\\_P136.mzXML & 582                                                            & infected                                                       & 142dpi                                                         & RV\\_top                                                       & B5                                                             & P136                                                           & 0.000973754                                                    & 0.004393339                                                    & 0                                                              & 0.000000000                                                    & 0                                                             \\\\\n",
       "\t18 & X583\\_Group3E\\_142dpi\\_RV\\_top\\_178\\_G\\_B6\\_P136.mzXML & 583                                                            & infected                                                       & 142dpi                                                         & RV\\_top                                                       & B6                                                             & P136                                                           & 0.000462391                                                    & 0.002073038                                                    & 0                                                              & 0.000189585                                                    & 0                                                             \\\\\n",
       "\t19 & X584\\_Group3E\\_142dpi\\_RV\\_top\\_179\\_G\\_B7\\_P136.mzXML & 584                                                            & infected                                                       & 142dpi                                                         & RV\\_top                                                       & B7                                                             & P136                                                           & 0.000123065                                                    & 0.000592476                                                    & 0                                                              & 0.000000000                                                    & 0                                                             \\\\\n",
       "\t20 & X585\\_Group3E\\_142dpi\\_RV\\_top\\_180\\_G\\_B8\\_P136.mzXML & 585                                                            & infected                                                       & 142dpi                                                         & RV\\_top                                                       & B8                                                             & P136                                                           & 0.000048400                                                    & 0.001140661                                                    & 0                                                              & 0.000000000                                                    & 0                                                             \\\\\n",
       "\t26 & X631\\_Group15\\_142dpi\\_RV\\_top\\_191\\_G\\_C7\\_P136.mzXML & 631                                                            & BNZ                                                            & 142dpi                                                         & RV\\_top                                                       & C7                                                             & P136                                                           & 0.000352090                                                    & 0.001562441                                                    & 0                                                              & 0.000000000                                                    & 0                                                             \\\\\n",
       "\\end{tabular}\n"
      ],
      "text/markdown": [
       "\n",
       "| <!--/--> | filename | MouseID | Treatmentgroup | DPI | organ | well_position | plate | mass_400 | mass_500 | mass_600 | mass_700 | mass_800 |\n",
       "|---|---|---|---|---|---|---|---|---|---|---|---|---|\n",
       "| 16 | X581_Group3E_142dpi_RV_top_176_G_B4_P136.mzXML | 581                                            | infected                                       | 142dpi                                         | RV_top                                         | B4                                             | P136                                           | 0.002105318                                    | 0.004538325                                    | 0                                              | 0.000000000                                    | 0                                              |\n",
       "| 17 | X582_Group3E_142dpi_RV_top_177_G_B5_P136.mzXML | 582                                            | infected                                       | 142dpi                                         | RV_top                                         | B5                                             | P136                                           | 0.000973754                                    | 0.004393339                                    | 0                                              | 0.000000000                                    | 0                                              |\n",
       "| 18 | X583_Group3E_142dpi_RV_top_178_G_B6_P136.mzXML | 583                                            | infected                                       | 142dpi                                         | RV_top                                         | B6                                             | P136                                           | 0.000462391                                    | 0.002073038                                    | 0                                              | 0.000189585                                    | 0                                              |\n",
       "| 19 | X584_Group3E_142dpi_RV_top_179_G_B7_P136.mzXML | 584                                            | infected                                       | 142dpi                                         | RV_top                                         | B7                                             | P136                                           | 0.000123065                                    | 0.000592476                                    | 0                                              | 0.000000000                                    | 0                                              |\n",
       "| 20 | X585_Group3E_142dpi_RV_top_180_G_B8_P136.mzXML | 585                                            | infected                                       | 142dpi                                         | RV_top                                         | B8                                             | P136                                           | 0.000048400                                    | 0.001140661                                    | 0                                              | 0.000000000                                    | 0                                              |\n",
       "| 26 | X631_Group15_142dpi_RV_top_191_G_C7_P136.mzXML | 631                                            | BNZ                                            | 142dpi                                         | RV_top                                         | C7                                             | P136                                           | 0.000352090                                    | 0.001562441                                    | 0                                              | 0.000000000                                    | 0                                              |\n",
       "\n"
      ],
      "text/plain": [
       "   filename                                       MouseID Treatmentgroup DPI   \n",
       "16 X581_Group3E_142dpi_RV_top_176_G_B4_P136.mzXML 581     infected       142dpi\n",
       "17 X582_Group3E_142dpi_RV_top_177_G_B5_P136.mzXML 582     infected       142dpi\n",
       "18 X583_Group3E_142dpi_RV_top_178_G_B6_P136.mzXML 583     infected       142dpi\n",
       "19 X584_Group3E_142dpi_RV_top_179_G_B7_P136.mzXML 584     infected       142dpi\n",
       "20 X585_Group3E_142dpi_RV_top_180_G_B8_P136.mzXML 585     infected       142dpi\n",
       "26 X631_Group15_142dpi_RV_top_191_G_C7_P136.mzXML 631     BNZ            142dpi\n",
       "   organ  well_position plate mass_400    mass_500    mass_600 mass_700   \n",
       "16 RV_top B4            P136  0.002105318 0.004538325 0        0.000000000\n",
       "17 RV_top B5            P136  0.000973754 0.004393339 0        0.000000000\n",
       "18 RV_top B6            P136  0.000462391 0.002073038 0        0.000189585\n",
       "19 RV_top B7            P136  0.000123065 0.000592476 0        0.000000000\n",
       "20 RV_top B8            P136  0.000048400 0.001140661 0        0.000000000\n",
       "26 RV_top C7            P136  0.000352090 0.001562441 0        0.000000000\n",
       "   mass_800\n",
       "16 0       \n",
       "17 0       \n",
       "18 0       \n",
       "19 0       \n",
       "20 0       \n",
       "26 0       "
      ]
     },
     "metadata": {},
     "output_type": "display_data"
    },
    {
     "data": {
      "text/html": [
       "<ol class=list-inline>\n",
       "\t<li>30</li>\n",
       "\t<li>12</li>\n",
       "</ol>\n"
      ],
      "text/latex": [
       "\\begin{enumerate*}\n",
       "\\item 30\n",
       "\\item 12\n",
       "\\end{enumerate*}\n"
      ],
      "text/markdown": [
       "1. 30\n",
       "2. 12\n",
       "\n",
       "\n"
      ],
      "text/plain": [
       "[1] 30 12"
      ]
     },
     "metadata": {},
     "output_type": "display_data"
    }
   ],
   "source": [
    "features_pos<-droplevels(subset(a, a$Treatmentgroup==c(\"infected\")|a$Treatmentgroup==c(\"BNZ\")))\n",
    "head(features_pos)\n",
    "dim(features_pos)"
   ]
  },
  {
   "cell_type": "code",
   "execution_count": 4,
   "metadata": {
    "scrolled": false
   },
   "outputs": [
    {
     "data": {
      "text/html": [
       "<table>\n",
       "<thead><tr><th></th><th scope=col>mass_400</th><th scope=col>mass_500</th><th scope=col>mass_600</th><th scope=col>mass_700</th><th scope=col>mass_800</th></tr></thead>\n",
       "<tbody>\n",
       "\t<tr><th scope=row>16</th><td>0.002105318</td><td>0.004538325</td><td>0          </td><td>0.000000000</td><td>0          </td></tr>\n",
       "\t<tr><th scope=row>17</th><td>0.000973754</td><td>0.004393339</td><td>0          </td><td>0.000000000</td><td>0          </td></tr>\n",
       "\t<tr><th scope=row>18</th><td>0.000462391</td><td>0.002073038</td><td>0          </td><td>0.000189585</td><td>0          </td></tr>\n",
       "\t<tr><th scope=row>19</th><td>0.000123065</td><td>0.000592476</td><td>0          </td><td>0.000000000</td><td>0          </td></tr>\n",
       "\t<tr><th scope=row>20</th><td>0.000048400</td><td>0.001140661</td><td>0          </td><td>0.000000000</td><td>0          </td></tr>\n",
       "\t<tr><th scope=row>26</th><td>0.000352090</td><td>0.001562441</td><td>0          </td><td>0.000000000</td><td>0          </td></tr>\n",
       "</tbody>\n",
       "</table>\n"
      ],
      "text/latex": [
       "\\begin{tabular}{r|lllll}\n",
       "  & mass\\_400 & mass\\_500 & mass\\_600 & mass\\_700 & mass\\_800\\\\\n",
       "\\hline\n",
       "\t16 & 0.002105318 & 0.004538325 & 0           & 0.000000000 & 0          \\\\\n",
       "\t17 & 0.000973754 & 0.004393339 & 0           & 0.000000000 & 0          \\\\\n",
       "\t18 & 0.000462391 & 0.002073038 & 0           & 0.000189585 & 0          \\\\\n",
       "\t19 & 0.000123065 & 0.000592476 & 0           & 0.000000000 & 0          \\\\\n",
       "\t20 & 0.000048400 & 0.001140661 & 0           & 0.000000000 & 0          \\\\\n",
       "\t26 & 0.000352090 & 0.001562441 & 0           & 0.000000000 & 0          \\\\\n",
       "\\end{tabular}\n"
      ],
      "text/markdown": [
       "\n",
       "| <!--/--> | mass_400 | mass_500 | mass_600 | mass_700 | mass_800 |\n",
       "|---|---|---|---|---|---|\n",
       "| 16 | 0.002105318 | 0.004538325 | 0           | 0.000000000 | 0           |\n",
       "| 17 | 0.000973754 | 0.004393339 | 0           | 0.000000000 | 0           |\n",
       "| 18 | 0.000462391 | 0.002073038 | 0           | 0.000189585 | 0           |\n",
       "| 19 | 0.000123065 | 0.000592476 | 0           | 0.000000000 | 0           |\n",
       "| 20 | 0.000048400 | 0.001140661 | 0           | 0.000000000 | 0           |\n",
       "| 26 | 0.000352090 | 0.001562441 | 0           | 0.000000000 | 0           |\n",
       "\n"
      ],
      "text/plain": [
       "   mass_400    mass_500    mass_600 mass_700    mass_800\n",
       "16 0.002105318 0.004538325 0        0.000000000 0       \n",
       "17 0.000973754 0.004393339 0        0.000000000 0       \n",
       "18 0.000462391 0.002073038 0        0.000189585 0       \n",
       "19 0.000123065 0.000592476 0        0.000000000 0       \n",
       "20 0.000048400 0.001140661 0        0.000000000 0       \n",
       "26 0.000352090 0.001562441 0        0.000000000 0       "
      ]
     },
     "metadata": {},
     "output_type": "display_data"
    },
    {
     "data": {
      "text/html": [
       "<dl class=dl-horizontal>\n",
       "\t<dt>mass_400</dt>\n",
       "\t\t<dd>1</dd>\n",
       "\t<dt>mass_500</dt>\n",
       "\t\t<dd>2</dd>\n",
       "\t<dt>mass_700</dt>\n",
       "\t\t<dd>4</dd>\n",
       "\t<dt>mass_800</dt>\n",
       "\t\t<dd>5</dd>\n",
       "</dl>\n"
      ],
      "text/latex": [
       "\\begin{description*}\n",
       "\\item[mass\\textbackslash{}\\_400] 1\n",
       "\\item[mass\\textbackslash{}\\_500] 2\n",
       "\\item[mass\\textbackslash{}\\_700] 4\n",
       "\\item[mass\\textbackslash{}\\_800] 5\n",
       "\\end{description*}\n"
      ],
      "text/markdown": [
       "mass_400\n",
       ":   1mass_500\n",
       ":   2mass_700\n",
       ":   4mass_800\n",
       ":   5\n",
       "\n"
      ],
      "text/plain": [
       "mass_400 mass_500 mass_700 mass_800 \n",
       "       1        2        4        5 "
      ]
     },
     "metadata": {},
     "output_type": "display_data"
    },
    {
     "data": {
      "text/html": [
       "<table>\n",
       "<thead><tr><th></th><th scope=col>mass_400</th><th scope=col>mass_500</th><th scope=col>mass_700</th><th scope=col>mass_800</th></tr></thead>\n",
       "<tbody>\n",
       "\t<tr><th scope=row>16</th><td>0.002105318</td><td>0.004538325</td><td>0.000000000</td><td>0.000000000</td></tr>\n",
       "\t<tr><th scope=row>17</th><td>0.000973754</td><td>0.004393339</td><td>0.000000000</td><td>0.000000000</td></tr>\n",
       "\t<tr><th scope=row>18</th><td>0.000462391</td><td>0.002073038</td><td>0.000189585</td><td>0.000000000</td></tr>\n",
       "\t<tr><th scope=row>19</th><td>0.000123065</td><td>0.000592476</td><td>0.000000000</td><td>0.000000000</td></tr>\n",
       "\t<tr><th scope=row>20</th><td>0.000048400</td><td>0.001140661</td><td>0.000000000</td><td>0.000000000</td></tr>\n",
       "\t<tr><th scope=row>26</th><td>0.000352090</td><td>0.001562441</td><td>0.000000000</td><td>0.000000000</td></tr>\n",
       "\t<tr><th scope=row>27</th><td>0.000182130</td><td>0.001866084</td><td>0.000000000</td><td>0.000000000</td></tr>\n",
       "\t<tr><th scope=row>28</th><td>0.000184298</td><td>0.001427423</td><td>0.000000000</td><td>0.000000000</td></tr>\n",
       "\t<tr><th scope=row>29</th><td>0.000372491</td><td>0.001967608</td><td>0.000000000</td><td>0.000000000</td></tr>\n",
       "\t<tr><th scope=row>30</th><td>0.000264516</td><td>0.001735910</td><td>0.000000000</td><td>0.000000000</td></tr>\n",
       "\t<tr><th scope=row>31</th><td>0.000636423</td><td>0.003249991</td><td>0.000057600</td><td>0.000000000</td></tr>\n",
       "\t<tr><th scope=row>32</th><td>0.000671128</td><td>0.002769636</td><td>0.000393872</td><td>0.000000000</td></tr>\n",
       "\t<tr><th scope=row>33</th><td>0.000430006</td><td>0.002459320</td><td>0.000000000</td><td>0.000000000</td></tr>\n",
       "\t<tr><th scope=row>34</th><td>0.001096215</td><td>0.004951822</td><td>0.000244456</td><td>0.000000000</td></tr>\n",
       "\t<tr><th scope=row>35</th><td>0.000394392</td><td>0.002460555</td><td>0.000000000</td><td>0.000000000</td></tr>\n",
       "\t<tr><th scope=row>41</th><td>0.000315792</td><td>0.001505723</td><td>0.000000000</td><td>0.000000000</td></tr>\n",
       "\t<tr><th scope=row>42</th><td>0.000342290</td><td>0.002309171</td><td>0.000000000</td><td>0.000000000</td></tr>\n",
       "\t<tr><th scope=row>43</th><td>0.000298158</td><td>0.002169732</td><td>0.000000000</td><td>0.000000000</td></tr>\n",
       "\t<tr><th scope=row>44</th><td>0.000360740</td><td>0.003396796</td><td>0.000246531</td><td>0.000000000</td></tr>\n",
       "\t<tr><th scope=row>45</th><td>0.001527913</td><td>0.004618996</td><td>0.000000000</td><td>0.000000000</td></tr>\n",
       "\t<tr><th scope=row>46</th><td>0.002841460</td><td>0.008887495</td><td>0.001924834</td><td>0.000724215</td></tr>\n",
       "\t<tr><th scope=row>47</th><td>0.000664903</td><td>0.003959735</td><td>0.000588520</td><td>0.000102253</td></tr>\n",
       "\t<tr><th scope=row>48</th><td>0.001095010</td><td>0.007112991</td><td>0.000477194</td><td>0.000000000</td></tr>\n",
       "\t<tr><th scope=row>49</th><td>0.000384390</td><td>0.002200604</td><td>0.000000000</td><td>0.000000000</td></tr>\n",
       "\t<tr><th scope=row>50</th><td>0.000501509</td><td>0.001814986</td><td>0.000190467</td><td>0.000000000</td></tr>\n",
       "\t<tr><th scope=row>56</th><td>0.000461236</td><td>0.002329634</td><td>0.000210705</td><td>0.000000000</td></tr>\n",
       "\t<tr><th scope=row>57</th><td>0.000394364</td><td>0.002541047</td><td>0.000105927</td><td>0.000000000</td></tr>\n",
       "\t<tr><th scope=row>58</th><td>0.000638008</td><td>0.002696531</td><td>0.000000000</td><td>0.000000000</td></tr>\n",
       "\t<tr><th scope=row>59</th><td>0.001684435</td><td>0.006418673</td><td>0.000000000</td><td>0.000000000</td></tr>\n",
       "\t<tr><th scope=row>60</th><td>0.000837679</td><td>0.003959346</td><td>0.000000000</td><td>0.000000000</td></tr>\n",
       "</tbody>\n",
       "</table>\n"
      ],
      "text/latex": [
       "\\begin{tabular}{r|llll}\n",
       "  & mass\\_400 & mass\\_500 & mass\\_700 & mass\\_800\\\\\n",
       "\\hline\n",
       "\t16 & 0.002105318 & 0.004538325 & 0.000000000 & 0.000000000\\\\\n",
       "\t17 & 0.000973754 & 0.004393339 & 0.000000000 & 0.000000000\\\\\n",
       "\t18 & 0.000462391 & 0.002073038 & 0.000189585 & 0.000000000\\\\\n",
       "\t19 & 0.000123065 & 0.000592476 & 0.000000000 & 0.000000000\\\\\n",
       "\t20 & 0.000048400 & 0.001140661 & 0.000000000 & 0.000000000\\\\\n",
       "\t26 & 0.000352090 & 0.001562441 & 0.000000000 & 0.000000000\\\\\n",
       "\t27 & 0.000182130 & 0.001866084 & 0.000000000 & 0.000000000\\\\\n",
       "\t28 & 0.000184298 & 0.001427423 & 0.000000000 & 0.000000000\\\\\n",
       "\t29 & 0.000372491 & 0.001967608 & 0.000000000 & 0.000000000\\\\\n",
       "\t30 & 0.000264516 & 0.001735910 & 0.000000000 & 0.000000000\\\\\n",
       "\t31 & 0.000636423 & 0.003249991 & 0.000057600 & 0.000000000\\\\\n",
       "\t32 & 0.000671128 & 0.002769636 & 0.000393872 & 0.000000000\\\\\n",
       "\t33 & 0.000430006 & 0.002459320 & 0.000000000 & 0.000000000\\\\\n",
       "\t34 & 0.001096215 & 0.004951822 & 0.000244456 & 0.000000000\\\\\n",
       "\t35 & 0.000394392 & 0.002460555 & 0.000000000 & 0.000000000\\\\\n",
       "\t41 & 0.000315792 & 0.001505723 & 0.000000000 & 0.000000000\\\\\n",
       "\t42 & 0.000342290 & 0.002309171 & 0.000000000 & 0.000000000\\\\\n",
       "\t43 & 0.000298158 & 0.002169732 & 0.000000000 & 0.000000000\\\\\n",
       "\t44 & 0.000360740 & 0.003396796 & 0.000246531 & 0.000000000\\\\\n",
       "\t45 & 0.001527913 & 0.004618996 & 0.000000000 & 0.000000000\\\\\n",
       "\t46 & 0.002841460 & 0.008887495 & 0.001924834 & 0.000724215\\\\\n",
       "\t47 & 0.000664903 & 0.003959735 & 0.000588520 & 0.000102253\\\\\n",
       "\t48 & 0.001095010 & 0.007112991 & 0.000477194 & 0.000000000\\\\\n",
       "\t49 & 0.000384390 & 0.002200604 & 0.000000000 & 0.000000000\\\\\n",
       "\t50 & 0.000501509 & 0.001814986 & 0.000190467 & 0.000000000\\\\\n",
       "\t56 & 0.000461236 & 0.002329634 & 0.000210705 & 0.000000000\\\\\n",
       "\t57 & 0.000394364 & 0.002541047 & 0.000105927 & 0.000000000\\\\\n",
       "\t58 & 0.000638008 & 0.002696531 & 0.000000000 & 0.000000000\\\\\n",
       "\t59 & 0.001684435 & 0.006418673 & 0.000000000 & 0.000000000\\\\\n",
       "\t60 & 0.000837679 & 0.003959346 & 0.000000000 & 0.000000000\\\\\n",
       "\\end{tabular}\n"
      ],
      "text/markdown": [
       "\n",
       "| <!--/--> | mass_400 | mass_500 | mass_700 | mass_800 |\n",
       "|---|---|---|---|---|\n",
       "| 16 | 0.002105318 | 0.004538325 | 0.000000000 | 0.000000000 |\n",
       "| 17 | 0.000973754 | 0.004393339 | 0.000000000 | 0.000000000 |\n",
       "| 18 | 0.000462391 | 0.002073038 | 0.000189585 | 0.000000000 |\n",
       "| 19 | 0.000123065 | 0.000592476 | 0.000000000 | 0.000000000 |\n",
       "| 20 | 0.000048400 | 0.001140661 | 0.000000000 | 0.000000000 |\n",
       "| 26 | 0.000352090 | 0.001562441 | 0.000000000 | 0.000000000 |\n",
       "| 27 | 0.000182130 | 0.001866084 | 0.000000000 | 0.000000000 |\n",
       "| 28 | 0.000184298 | 0.001427423 | 0.000000000 | 0.000000000 |\n",
       "| 29 | 0.000372491 | 0.001967608 | 0.000000000 | 0.000000000 |\n",
       "| 30 | 0.000264516 | 0.001735910 | 0.000000000 | 0.000000000 |\n",
       "| 31 | 0.000636423 | 0.003249991 | 0.000057600 | 0.000000000 |\n",
       "| 32 | 0.000671128 | 0.002769636 | 0.000393872 | 0.000000000 |\n",
       "| 33 | 0.000430006 | 0.002459320 | 0.000000000 | 0.000000000 |\n",
       "| 34 | 0.001096215 | 0.004951822 | 0.000244456 | 0.000000000 |\n",
       "| 35 | 0.000394392 | 0.002460555 | 0.000000000 | 0.000000000 |\n",
       "| 41 | 0.000315792 | 0.001505723 | 0.000000000 | 0.000000000 |\n",
       "| 42 | 0.000342290 | 0.002309171 | 0.000000000 | 0.000000000 |\n",
       "| 43 | 0.000298158 | 0.002169732 | 0.000000000 | 0.000000000 |\n",
       "| 44 | 0.000360740 | 0.003396796 | 0.000246531 | 0.000000000 |\n",
       "| 45 | 0.001527913 | 0.004618996 | 0.000000000 | 0.000000000 |\n",
       "| 46 | 0.002841460 | 0.008887495 | 0.001924834 | 0.000724215 |\n",
       "| 47 | 0.000664903 | 0.003959735 | 0.000588520 | 0.000102253 |\n",
       "| 48 | 0.001095010 | 0.007112991 | 0.000477194 | 0.000000000 |\n",
       "| 49 | 0.000384390 | 0.002200604 | 0.000000000 | 0.000000000 |\n",
       "| 50 | 0.000501509 | 0.001814986 | 0.000190467 | 0.000000000 |\n",
       "| 56 | 0.000461236 | 0.002329634 | 0.000210705 | 0.000000000 |\n",
       "| 57 | 0.000394364 | 0.002541047 | 0.000105927 | 0.000000000 |\n",
       "| 58 | 0.000638008 | 0.002696531 | 0.000000000 | 0.000000000 |\n",
       "| 59 | 0.001684435 | 0.006418673 | 0.000000000 | 0.000000000 |\n",
       "| 60 | 0.000837679 | 0.003959346 | 0.000000000 | 0.000000000 |\n",
       "\n"
      ],
      "text/plain": [
       "   mass_400    mass_500    mass_700    mass_800   \n",
       "16 0.002105318 0.004538325 0.000000000 0.000000000\n",
       "17 0.000973754 0.004393339 0.000000000 0.000000000\n",
       "18 0.000462391 0.002073038 0.000189585 0.000000000\n",
       "19 0.000123065 0.000592476 0.000000000 0.000000000\n",
       "20 0.000048400 0.001140661 0.000000000 0.000000000\n",
       "26 0.000352090 0.001562441 0.000000000 0.000000000\n",
       "27 0.000182130 0.001866084 0.000000000 0.000000000\n",
       "28 0.000184298 0.001427423 0.000000000 0.000000000\n",
       "29 0.000372491 0.001967608 0.000000000 0.000000000\n",
       "30 0.000264516 0.001735910 0.000000000 0.000000000\n",
       "31 0.000636423 0.003249991 0.000057600 0.000000000\n",
       "32 0.000671128 0.002769636 0.000393872 0.000000000\n",
       "33 0.000430006 0.002459320 0.000000000 0.000000000\n",
       "34 0.001096215 0.004951822 0.000244456 0.000000000\n",
       "35 0.000394392 0.002460555 0.000000000 0.000000000\n",
       "41 0.000315792 0.001505723 0.000000000 0.000000000\n",
       "42 0.000342290 0.002309171 0.000000000 0.000000000\n",
       "43 0.000298158 0.002169732 0.000000000 0.000000000\n",
       "44 0.000360740 0.003396796 0.000246531 0.000000000\n",
       "45 0.001527913 0.004618996 0.000000000 0.000000000\n",
       "46 0.002841460 0.008887495 0.001924834 0.000724215\n",
       "47 0.000664903 0.003959735 0.000588520 0.000102253\n",
       "48 0.001095010 0.007112991 0.000477194 0.000000000\n",
       "49 0.000384390 0.002200604 0.000000000 0.000000000\n",
       "50 0.000501509 0.001814986 0.000190467 0.000000000\n",
       "56 0.000461236 0.002329634 0.000210705 0.000000000\n",
       "57 0.000394364 0.002541047 0.000105927 0.000000000\n",
       "58 0.000638008 0.002696531 0.000000000 0.000000000\n",
       "59 0.001684435 0.006418673 0.000000000 0.000000000\n",
       "60 0.000837679 0.003959346 0.000000000 0.000000000"
      ]
     },
     "metadata": {},
     "output_type": "display_data"
    },
    {
     "data": {
      "text/html": [
       "<table>\n",
       "<thead><tr><th></th><th scope=col>filename</th><th scope=col>MouseID</th><th scope=col>Treatmentgroup</th><th scope=col>DPI</th><th scope=col>organ</th><th scope=col>well_position</th><th scope=col>plate</th><th scope=col>mass_400</th><th scope=col>mass_500</th><th scope=col>mass_700</th><th scope=col>mass_800</th></tr></thead>\n",
       "<tbody>\n",
       "\t<tr><th scope=row>16</th><td>X581_Group3E_142dpi_RV_top_176_G_B4_P136.mzXML</td><td>581                                           </td><td>infected                                      </td><td>142dpi                                        </td><td>RV_top                                        </td><td>B4                                            </td><td>P136                                          </td><td>0.002105318                                   </td><td>0.004538325                                   </td><td>0.000000000                                   </td><td>0                                             </td></tr>\n",
       "\t<tr><th scope=row>17</th><td>X582_Group3E_142dpi_RV_top_177_G_B5_P136.mzXML</td><td>582                                           </td><td>infected                                      </td><td>142dpi                                        </td><td>RV_top                                        </td><td>B5                                            </td><td>P136                                          </td><td>0.000973754                                   </td><td>0.004393339                                   </td><td>0.000000000                                   </td><td>0                                             </td></tr>\n",
       "\t<tr><th scope=row>18</th><td>X583_Group3E_142dpi_RV_top_178_G_B6_P136.mzXML</td><td>583                                           </td><td>infected                                      </td><td>142dpi                                        </td><td>RV_top                                        </td><td>B6                                            </td><td>P136                                          </td><td>0.000462391                                   </td><td>0.002073038                                   </td><td>0.000189585                                   </td><td>0                                             </td></tr>\n",
       "\t<tr><th scope=row>19</th><td>X584_Group3E_142dpi_RV_top_179_G_B7_P136.mzXML</td><td>584                                           </td><td>infected                                      </td><td>142dpi                                        </td><td>RV_top                                        </td><td>B7                                            </td><td>P136                                          </td><td>0.000123065                                   </td><td>0.000592476                                   </td><td>0.000000000                                   </td><td>0                                             </td></tr>\n",
       "\t<tr><th scope=row>20</th><td>X585_Group3E_142dpi_RV_top_180_G_B8_P136.mzXML</td><td>585                                           </td><td>infected                                      </td><td>142dpi                                        </td><td>RV_top                                        </td><td>B8                                            </td><td>P136                                          </td><td>0.000048400                                   </td><td>0.001140661                                   </td><td>0.000000000                                   </td><td>0                                             </td></tr>\n",
       "\t<tr><th scope=row>26</th><td>X631_Group15_142dpi_RV_top_191_G_C7_P136.mzXML</td><td>631                                           </td><td>BNZ                                           </td><td>142dpi                                        </td><td>RV_top                                        </td><td>C7                                            </td><td>P136                                          </td><td>0.000352090                                   </td><td>0.001562441                                   </td><td>0.000000000                                   </td><td>0                                             </td></tr>\n",
       "</tbody>\n",
       "</table>\n"
      ],
      "text/latex": [
       "\\begin{tabular}{r|lllllllllll}\n",
       "  & filename & MouseID & Treatmentgroup & DPI & organ & well\\_position & plate & mass\\_400 & mass\\_500 & mass\\_700 & mass\\_800\\\\\n",
       "\\hline\n",
       "\t16 & X581\\_Group3E\\_142dpi\\_RV\\_top\\_176\\_G\\_B4\\_P136.mzXML & 581                                                            & infected                                                       & 142dpi                                                         & RV\\_top                                                       & B4                                                             & P136                                                           & 0.002105318                                                    & 0.004538325                                                    & 0.000000000                                                    & 0                                                             \\\\\n",
       "\t17 & X582\\_Group3E\\_142dpi\\_RV\\_top\\_177\\_G\\_B5\\_P136.mzXML & 582                                                            & infected                                                       & 142dpi                                                         & RV\\_top                                                       & B5                                                             & P136                                                           & 0.000973754                                                    & 0.004393339                                                    & 0.000000000                                                    & 0                                                             \\\\\n",
       "\t18 & X583\\_Group3E\\_142dpi\\_RV\\_top\\_178\\_G\\_B6\\_P136.mzXML & 583                                                            & infected                                                       & 142dpi                                                         & RV\\_top                                                       & B6                                                             & P136                                                           & 0.000462391                                                    & 0.002073038                                                    & 0.000189585                                                    & 0                                                             \\\\\n",
       "\t19 & X584\\_Group3E\\_142dpi\\_RV\\_top\\_179\\_G\\_B7\\_P136.mzXML & 584                                                            & infected                                                       & 142dpi                                                         & RV\\_top                                                       & B7                                                             & P136                                                           & 0.000123065                                                    & 0.000592476                                                    & 0.000000000                                                    & 0                                                             \\\\\n",
       "\t20 & X585\\_Group3E\\_142dpi\\_RV\\_top\\_180\\_G\\_B8\\_P136.mzXML & 585                                                            & infected                                                       & 142dpi                                                         & RV\\_top                                                       & B8                                                             & P136                                                           & 0.000048400                                                    & 0.001140661                                                    & 0.000000000                                                    & 0                                                             \\\\\n",
       "\t26 & X631\\_Group15\\_142dpi\\_RV\\_top\\_191\\_G\\_C7\\_P136.mzXML & 631                                                            & BNZ                                                            & 142dpi                                                         & RV\\_top                                                       & C7                                                             & P136                                                           & 0.000352090                                                    & 0.001562441                                                    & 0.000000000                                                    & 0                                                             \\\\\n",
       "\\end{tabular}\n"
      ],
      "text/markdown": [
       "\n",
       "| <!--/--> | filename | MouseID | Treatmentgroup | DPI | organ | well_position | plate | mass_400 | mass_500 | mass_700 | mass_800 |\n",
       "|---|---|---|---|---|---|---|---|---|---|---|---|\n",
       "| 16 | X581_Group3E_142dpi_RV_top_176_G_B4_P136.mzXML | 581                                            | infected                                       | 142dpi                                         | RV_top                                         | B4                                             | P136                                           | 0.002105318                                    | 0.004538325                                    | 0.000000000                                    | 0                                              |\n",
       "| 17 | X582_Group3E_142dpi_RV_top_177_G_B5_P136.mzXML | 582                                            | infected                                       | 142dpi                                         | RV_top                                         | B5                                             | P136                                           | 0.000973754                                    | 0.004393339                                    | 0.000000000                                    | 0                                              |\n",
       "| 18 | X583_Group3E_142dpi_RV_top_178_G_B6_P136.mzXML | 583                                            | infected                                       | 142dpi                                         | RV_top                                         | B6                                             | P136                                           | 0.000462391                                    | 0.002073038                                    | 0.000189585                                    | 0                                              |\n",
       "| 19 | X584_Group3E_142dpi_RV_top_179_G_B7_P136.mzXML | 584                                            | infected                                       | 142dpi                                         | RV_top                                         | B7                                             | P136                                           | 0.000123065                                    | 0.000592476                                    | 0.000000000                                    | 0                                              |\n",
       "| 20 | X585_Group3E_142dpi_RV_top_180_G_B8_P136.mzXML | 585                                            | infected                                       | 142dpi                                         | RV_top                                         | B8                                             | P136                                           | 0.000048400                                    | 0.001140661                                    | 0.000000000                                    | 0                                              |\n",
       "| 26 | X631_Group15_142dpi_RV_top_191_G_C7_P136.mzXML | 631                                            | BNZ                                            | 142dpi                                         | RV_top                                         | C7                                             | P136                                           | 0.000352090                                    | 0.001562441                                    | 0.000000000                                    | 0                                              |\n",
       "\n"
      ],
      "text/plain": [
       "   filename                                       MouseID Treatmentgroup DPI   \n",
       "16 X581_Group3E_142dpi_RV_top_176_G_B4_P136.mzXML 581     infected       142dpi\n",
       "17 X582_Group3E_142dpi_RV_top_177_G_B5_P136.mzXML 582     infected       142dpi\n",
       "18 X583_Group3E_142dpi_RV_top_178_G_B6_P136.mzXML 583     infected       142dpi\n",
       "19 X584_Group3E_142dpi_RV_top_179_G_B7_P136.mzXML 584     infected       142dpi\n",
       "20 X585_Group3E_142dpi_RV_top_180_G_B8_P136.mzXML 585     infected       142dpi\n",
       "26 X631_Group15_142dpi_RV_top_191_G_C7_P136.mzXML 631     BNZ            142dpi\n",
       "   organ  well_position plate mass_400    mass_500    mass_700    mass_800\n",
       "16 RV_top B4            P136  0.002105318 0.004538325 0.000000000 0       \n",
       "17 RV_top B5            P136  0.000973754 0.004393339 0.000000000 0       \n",
       "18 RV_top B6            P136  0.000462391 0.002073038 0.000189585 0       \n",
       "19 RV_top B7            P136  0.000123065 0.000592476 0.000000000 0       \n",
       "20 RV_top B8            P136  0.000048400 0.001140661 0.000000000 0       \n",
       "26 RV_top C7            P136  0.000352090 0.001562441 0.000000000 0       "
      ]
     },
     "metadata": {},
     "output_type": "display_data"
    },
    {
     "data": {
      "text/html": [
       "<ol class=list-inline>\n",
       "\t<li>30</li>\n",
       "\t<li>12</li>\n",
       "</ol>\n"
      ],
      "text/latex": [
       "\\begin{enumerate*}\n",
       "\\item 30\n",
       "\\item 12\n",
       "\\end{enumerate*}\n"
      ],
      "text/markdown": [
       "1. 30\n",
       "2. 12\n",
       "\n",
       "\n"
      ],
      "text/plain": [
       "[1] 30 12"
      ]
     },
     "metadata": {},
     "output_type": "display_data"
    },
    {
     "data": {
      "text/html": [
       "<ol class=list-inline>\n",
       "\t<li>30</li>\n",
       "\t<li>5</li>\n",
       "</ol>\n"
      ],
      "text/latex": [
       "\\begin{enumerate*}\n",
       "\\item 30\n",
       "\\item 5\n",
       "\\end{enumerate*}\n"
      ],
      "text/markdown": [
       "1. 30\n",
       "2. 5\n",
       "\n",
       "\n"
      ],
      "text/plain": [
       "[1] 30  5"
      ]
     },
     "metadata": {},
     "output_type": "display_data"
    },
    {
     "data": {
      "text/html": [
       "<ol class=list-inline>\n",
       "\t<li>30</li>\n",
       "\t<li>4</li>\n",
       "</ol>\n"
      ],
      "text/latex": [
       "\\begin{enumerate*}\n",
       "\\item 30\n",
       "\\item 4\n",
       "\\end{enumerate*}\n"
      ],
      "text/markdown": [
       "1. 30\n",
       "2. 4\n",
       "\n",
       "\n"
      ],
      "text/plain": [
       "[1] 30  4"
      ]
     },
     "metadata": {},
     "output_type": "display_data"
    },
    {
     "data": {
      "text/html": [
       "<ol class=list-inline>\n",
       "\t<li>30</li>\n",
       "\t<li>11</li>\n",
       "</ol>\n"
      ],
      "text/latex": [
       "\\begin{enumerate*}\n",
       "\\item 30\n",
       "\\item 11\n",
       "\\end{enumerate*}\n"
      ],
      "text/markdown": [
       "1. 30\n",
       "2. 11\n",
       "\n",
       "\n"
      ],
      "text/plain": [
       "[1] 30 11"
      ]
     },
     "metadata": {},
     "output_type": "display_data"
    }
   ],
   "source": [
    "noMeta<-features_pos[,8:12]\n",
    "head(noMeta)\n",
    "not_zero<-which(colSums(noMeta) != 0)\n",
    "head(not_zero)\n",
    "nonzero <- noMeta[, not_zero]\n",
    "nonzero\n",
    "nonzero_wMeta<-cbind(features_pos[,1:7], nonzero)\n",
    "head(nonzero_wMeta)\n",
    "dim(features_pos)\n",
    "dim(noMeta)\n",
    "dim(nonzero)\n",
    "dim(nonzero_wMeta)"
   ]
  },
  {
   "cell_type": "code",
   "execution_count": 5,
   "metadata": {
    "scrolled": true
   },
   "outputs": [
    {
     "name": "stderr",
     "output_type": "stream",
     "text": [
      "Warning message in wilcox.test.default(x = c(0, 0, 0, 0, 0, 0, 0, 0, 0.000246531, :\n",
      "\"cannot compute exact p-value with ties\"Warning message in wilcox.test.default(x = c(0, 0, 0, 0, 0, 0, 0, 0, 0, 0, 0, 0, :\n",
      "\"cannot compute exact p-value with ties\""
     ]
    },
    {
     "data": {
      "text/html": [
       "<ol class=list-inline>\n",
       "\t<li>0.0814293446671917</li>\n",
       "\t<li>0.267097024243296</li>\n",
       "\t<li>0.0490180700763259</li>\n",
       "\t<li>0.164394222391658</li>\n",
       "</ol>\n"
      ],
      "text/latex": [
       "\\begin{enumerate*}\n",
       "\\item 0.0814293446671917\n",
       "\\item 0.267097024243296\n",
       "\\item 0.0490180700763259\n",
       "\\item 0.164394222391658\n",
       "\\end{enumerate*}\n"
      ],
      "text/markdown": [
       "1. 0.0814293446671917\n",
       "2. 0.267097024243296\n",
       "3. 0.0490180700763259\n",
       "4. 0.164394222391658\n",
       "\n",
       "\n"
      ],
      "text/plain": [
       "[1] 0.08142934 0.26709702 0.04901807 0.16439422"
      ]
     },
     "metadata": {},
     "output_type": "display_data"
    },
    {
     "data": {
      "text/html": [
       "<ol class=list-inline>\n",
       "\t<li>0.162858689334383</li>\n",
       "\t<li>0.267097024243296</li>\n",
       "\t<li>0.162858689334383</li>\n",
       "\t<li>0.219192296522211</li>\n",
       "</ol>\n"
      ],
      "text/latex": [
       "\\begin{enumerate*}\n",
       "\\item 0.162858689334383\n",
       "\\item 0.267097024243296\n",
       "\\item 0.162858689334383\n",
       "\\item 0.219192296522211\n",
       "\\end{enumerate*}\n"
      ],
      "text/markdown": [
       "1. 0.162858689334383\n",
       "2. 0.267097024243296\n",
       "3. 0.162858689334383\n",
       "4. 0.219192296522211\n",
       "\n",
       "\n"
      ],
      "text/plain": [
       "[1] 0.1628587 0.2670970 0.1628587 0.2191923"
      ]
     },
     "metadata": {},
     "output_type": "display_data"
    }
   ],
   "source": [
    "pval<-c()\n",
    "\n",
    "for (i in 8:ncol(nonzero_wMeta)) \n",
    "pval<-c(pval,wilcox.test(nonzero_wMeta[,i]~nonzero_wMeta$Treatmentgroup)$p.value)\n",
    "head(pval)\n",
    "pAdj <- p.adjust(pval, method = c(\"fdr\"), n=length(pval)) \n",
    "head(pAdj) \n",
    "\n"
   ]
  },
  {
   "cell_type": "code",
   "execution_count": 6,
   "metadata": {
    "scrolled": true
   },
   "outputs": [
    {
     "data": {
      "text/html": [
       "4"
      ],
      "text/latex": [
       "4"
      ],
      "text/markdown": [
       "4"
      ],
      "text/plain": [
       "[1] 4"
      ]
     },
     "metadata": {},
     "output_type": "display_data"
    }
   ],
   "source": [
    "length(pval)"
   ]
  },
  {
   "cell_type": "code",
   "execution_count": 7,
   "metadata": {
    "scrolled": true
   },
   "outputs": [
    {
     "data": {
      "text/html": [
       "4"
      ],
      "text/latex": [
       "4"
      ],
      "text/markdown": [
       "4"
      ],
      "text/plain": [
       "[1] 4"
      ]
     },
     "metadata": {},
     "output_type": "display_data"
    }
   ],
   "source": [
    "length(pAdj)"
   ]
  },
  {
   "cell_type": "code",
   "execution_count": 8,
   "metadata": {},
   "outputs": [
    {
     "data": {
      "text/html": [
       "<ol class=list-inline>\n",
       "\t<li>2</li>\n",
       "\t<li>4</li>\n",
       "</ol>\n"
      ],
      "text/latex": [
       "\\begin{enumerate*}\n",
       "\\item 2\n",
       "\\item 4\n",
       "\\end{enumerate*}\n"
      ],
      "text/markdown": [
       "1. 2\n",
       "2. 4\n",
       "\n",
       "\n"
      ],
      "text/plain": [
       "[1] 2 4"
      ]
     },
     "metadata": {},
     "output_type": "display_data"
    },
    {
     "data": {
      "text/html": [
       "<table>\n",
       "<thead><tr><th></th><th scope=col>mass_400</th><th scope=col>mass_500</th><th scope=col>mass_700</th></tr></thead>\n",
       "<tbody>\n",
       "\t<tr><th scope=row>BNZ</th><td>0.0005477427</td><td>0.002700341 </td><td>0.0000375442</td></tr>\n",
       "\t<tr><th scope=row>infected</th><td>0.0008285576</td><td>0.003506998 </td><td>0.0002711019</td></tr>\n",
       "</tbody>\n",
       "</table>\n"
      ],
      "text/latex": [
       "\\begin{tabular}{r|lll}\n",
       "  & mass\\_400 & mass\\_500 & mass\\_700\\\\\n",
       "\\hline\n",
       "\tBNZ & 0.0005477427 & 0.002700341  & 0.0000375442\\\\\n",
       "\tinfected & 0.0008285576 & 0.003506998  & 0.0002711019\\\\\n",
       "\\end{tabular}\n"
      ],
      "text/markdown": [
       "\n",
       "| <!--/--> | mass_400 | mass_500 | mass_700 |\n",
       "|---|---|---|---|\n",
       "| BNZ | 0.0005477427 | 0.002700341  | 0.0000375442 |\n",
       "| infected | 0.0008285576 | 0.003506998  | 0.0002711019 |\n",
       "\n"
      ],
      "text/plain": [
       "         mass_400     mass_500    mass_700    \n",
       "BNZ      0.0005477427 0.002700341 0.0000375442\n",
       "infected 0.0008285576 0.003506998 0.0002711019"
      ]
     },
     "metadata": {},
     "output_type": "display_data"
    },
    {
     "data": {
      "text/html": [
       "<dl class=dl-horizontal>\n",
       "\t<dt>mass_400</dt>\n",
       "\t\t<dd>0.661079768825567</dd>\n",
       "\t<dt>mass_500</dt>\n",
       "\t\t<dd>0.769986408509583</dd>\n",
       "\t<dt>mass_700</dt>\n",
       "\t\t<dd>0.138487427112269</dd>\n",
       "\t<dt>mass_800</dt>\n",
       "\t\t<dd>0</dd>\n",
       "</dl>\n"
      ],
      "text/latex": [
       "\\begin{description*}\n",
       "\\item[mass\\textbackslash{}\\_400] 0.661079768825567\n",
       "\\item[mass\\textbackslash{}\\_500] 0.769986408509583\n",
       "\\item[mass\\textbackslash{}\\_700] 0.138487427112269\n",
       "\\item[mass\\textbackslash{}\\_800] 0\n",
       "\\end{description*}\n"
      ],
      "text/markdown": [
       "mass_400\n",
       ":   0.661079768825567mass_500\n",
       ":   0.769986408509583mass_700\n",
       ":   0.138487427112269mass_800\n",
       ":   0\n",
       "\n"
      ],
      "text/plain": [
       " mass_400  mass_500  mass_700  mass_800 \n",
       "0.6610798 0.7699864 0.1384874 0.0000000 "
      ]
     },
     "metadata": {},
     "output_type": "display_data"
    },
    {
     "data": {
      "text/html": [
       "<ol class=list-inline>\n",
       "\t<li>'numeric'</li>\n",
       "\t<li>'vector'</li>\n",
       "</ol>\n"
      ],
      "text/latex": [
       "\\begin{enumerate*}\n",
       "\\item 'numeric'\n",
       "\\item 'vector'\n",
       "\\end{enumerate*}\n"
      ],
      "text/markdown": [
       "1. 'numeric'\n",
       "2. 'vector'\n",
       "\n",
       "\n"
      ],
      "text/plain": [
       "[1] \"numeric\" \"vector\" "
      ]
     },
     "metadata": {},
     "output_type": "display_data"
    }
   ],
   "source": [
    "avg<- apply(nonzero_wMeta[,8:ncol(nonzero_wMeta)], 2, function(x) tapply(x, nonzero_wMeta$Treatmentgroup, function(x) mean(x))) \n",
    "\n",
    "dim(avg)\n",
    "\n",
    "avg[,1:3]\n",
    "\n",
    "fch <- apply(avg, 2, function(x) x[1]/x[2])\n",
    "\n",
    "head(fch)\n",
    "is(fch)"
   ]
  },
  {
   "cell_type": "code",
   "execution_count": 9,
   "metadata": {
    "scrolled": true
   },
   "outputs": [
    {
     "data": {
      "text/html": [
       "<dl class=dl-horizontal>\n",
       "\t<dt>mass_400</dt>\n",
       "\t\t<dd>0.661079768825567</dd>\n",
       "\t<dt>mass_500</dt>\n",
       "\t\t<dd>0.769986408509583</dd>\n",
       "\t<dt>mass_700</dt>\n",
       "\t\t<dd>0.138487427112269</dd>\n",
       "\t<dt>mass_800</dt>\n",
       "\t\t<dd>0</dd>\n",
       "</dl>\n"
      ],
      "text/latex": [
       "\\begin{description*}\n",
       "\\item[mass\\textbackslash{}\\_400] 0.661079768825567\n",
       "\\item[mass\\textbackslash{}\\_500] 0.769986408509583\n",
       "\\item[mass\\textbackslash{}\\_700] 0.138487427112269\n",
       "\\item[mass\\textbackslash{}\\_800] 0\n",
       "\\end{description*}\n"
      ],
      "text/markdown": [
       "mass_400\n",
       ":   0.661079768825567mass_500\n",
       ":   0.769986408509583mass_700\n",
       ":   0.138487427112269mass_800\n",
       ":   0\n",
       "\n"
      ],
      "text/plain": [
       " mass_400  mass_500  mass_700  mass_800 \n",
       "0.6610798 0.7699864 0.1384874 0.0000000 "
      ]
     },
     "metadata": {},
     "output_type": "display_data"
    }
   ],
   "source": [
    "fch"
   ]
  },
  {
   "cell_type": "code",
   "execution_count": 10,
   "metadata": {
    "scrolled": false
   },
   "outputs": [],
   "source": [
    "df <- data.frame(fch,pval, pAdj)\n",
    "write.csv(df, \"PE-treat-RVT-wilcox-infected-BNZ.csv\")"
   ]
  },
  {
   "cell_type": "code",
   "execution_count": null,
   "metadata": {},
   "outputs": [],
   "source": []
  },
  {
   "cell_type": "code",
   "execution_count": null,
   "metadata": {},
   "outputs": [],
   "source": []
  },
  {
   "cell_type": "code",
   "execution_count": null,
   "metadata": {},
   "outputs": [],
   "source": []
  },
  {
   "cell_type": "code",
   "execution_count": null,
   "metadata": {},
   "outputs": [],
   "source": []
  },
  {
   "cell_type": "code",
   "execution_count": null,
   "metadata": {},
   "outputs": [],
   "source": []
  },
  {
   "cell_type": "code",
   "execution_count": null,
   "metadata": {},
   "outputs": [],
   "source": []
  }
 ],
 "metadata": {
  "kernelspec": {
   "display_name": "R",
   "language": "R",
   "name": "ir"
  },
  "language_info": {
   "codemirror_mode": "r",
   "file_extension": ".r",
   "mimetype": "text/x-r-source",
   "name": "R",
   "pygments_lexer": "r",
   "version": "3.6.1"
  }
 },
 "nbformat": 4,
 "nbformat_minor": 2
}
