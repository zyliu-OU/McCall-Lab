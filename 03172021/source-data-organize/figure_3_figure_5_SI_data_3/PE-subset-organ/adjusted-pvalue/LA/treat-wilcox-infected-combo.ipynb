{
 "cells": [
  {
   "cell_type": "code",
   "execution_count": 1,
   "metadata": {},
   "outputs": [],
   "source": [
    "a <- read.csv(\"03172021-PE-treatment-LA-M-F.csv\")"
   ]
  },
  {
   "cell_type": "code",
   "execution_count": 2,
   "metadata": {},
   "outputs": [
    {
     "data": {
      "text/html": [
       "<table>\n",
       "<thead><tr><th scope=col>filename</th><th scope=col>MouseID</th><th scope=col>Treatmentgroup</th><th scope=col>DPI</th><th scope=col>organ</th><th scope=col>well_position</th><th scope=col>plate</th><th scope=col>mass_400</th><th scope=col>mass_500</th><th scope=col>mass_600</th><th scope=col>mass_700</th><th scope=col>mass_800</th></tr></thead>\n",
       "<tbody>\n",
       "\t<tr><td>X511_Group1C_142dpi_LA_161_G_A1_P120.mzXML</td><td>511                                       </td><td>naive                                     </td><td>142dpi                                    </td><td>LA                                        </td><td>A1                                        </td><td>P120                                      </td><td>0.002077955                               </td><td>0.002490702                               </td><td>0.00e+00                                  </td><td>0.000232453                               </td><td>0.000149389                               </td></tr>\n",
       "\t<tr><td>X512_Group1C_142dpi_LA_162_G_A2_P120.mzXML</td><td>512                                       </td><td>naive                                     </td><td>142dpi                                    </td><td>LA                                        </td><td>A2                                        </td><td>P120                                      </td><td>0.001422483                               </td><td>0.001827962                               </td><td>2.59e-05                                  </td><td>0.000955615                               </td><td>0.000000000                               </td></tr>\n",
       "\t<tr><td>X513_Group1C_142dpi_LA_163_G_A3_P120.mzXML</td><td>513                                       </td><td>naive                                     </td><td>142dpi                                    </td><td>LA                                        </td><td>A3                                        </td><td>P120                                      </td><td>0.000422008                               </td><td>0.001031656                               </td><td>4.61e-05                                  </td><td>0.000000000                               </td><td>0.000000000                               </td></tr>\n",
       "\t<tr><td>X514_Group1C_142dpi_LA_164_G_A4_P120.mzXML</td><td>514                                       </td><td>naive                                     </td><td>142dpi                                    </td><td>LA                                        </td><td>A4                                        </td><td>P120                                      </td><td>0.001861510                               </td><td>0.002679198                               </td><td>1.95e-05                                  </td><td>0.001053337                               </td><td>0.000081800                               </td></tr>\n",
       "\t<tr><td>X515_Group1C_142dpi_LA_165_G_A5_P120.mzXML</td><td>515                                       </td><td>naive                                     </td><td>142dpi                                    </td><td>LA                                        </td><td>A5                                        </td><td>P120                                      </td><td>0.001966674                               </td><td>0.002742174                               </td><td>2.00e-05                                  </td><td>0.000639894                               </td><td>0.000151910                               </td></tr>\n",
       "\t<tr><td>X531_Group1C_142dpi_LA_166_G_A6_P120.mzXML</td><td>531                                       </td><td>naive                                     </td><td>142dpi                                    </td><td>LA                                        </td><td>A6                                        </td><td>P120                                      </td><td>0.001182584                               </td><td>0.001621899                               </td><td>3.75e-05                                  </td><td>0.000000000                               </td><td>0.000000000                               </td></tr>\n",
       "</tbody>\n",
       "</table>\n"
      ],
      "text/latex": [
       "\\begin{tabular}{r|llllllllllll}\n",
       " filename & MouseID & Treatmentgroup & DPI & organ & well\\_position & plate & mass\\_400 & mass\\_500 & mass\\_600 & mass\\_700 & mass\\_800\\\\\n",
       "\\hline\n",
       "\t X511\\_Group1C\\_142dpi\\_LA\\_161\\_G\\_A1\\_P120.mzXML & 511                                                      & naive                                                    & 142dpi                                                   & LA                                                       & A1                                                       & P120                                                     & 0.002077955                                              & 0.002490702                                              & 0.00e+00                                                 & 0.000232453                                              & 0.000149389                                             \\\\\n",
       "\t X512\\_Group1C\\_142dpi\\_LA\\_162\\_G\\_A2\\_P120.mzXML & 512                                                      & naive                                                    & 142dpi                                                   & LA                                                       & A2                                                       & P120                                                     & 0.001422483                                              & 0.001827962                                              & 2.59e-05                                                 & 0.000955615                                              & 0.000000000                                             \\\\\n",
       "\t X513\\_Group1C\\_142dpi\\_LA\\_163\\_G\\_A3\\_P120.mzXML & 513                                                      & naive                                                    & 142dpi                                                   & LA                                                       & A3                                                       & P120                                                     & 0.000422008                                              & 0.001031656                                              & 4.61e-05                                                 & 0.000000000                                              & 0.000000000                                             \\\\\n",
       "\t X514\\_Group1C\\_142dpi\\_LA\\_164\\_G\\_A4\\_P120.mzXML & 514                                                      & naive                                                    & 142dpi                                                   & LA                                                       & A4                                                       & P120                                                     & 0.001861510                                              & 0.002679198                                              & 1.95e-05                                                 & 0.001053337                                              & 0.000081800                                             \\\\\n",
       "\t X515\\_Group1C\\_142dpi\\_LA\\_165\\_G\\_A5\\_P120.mzXML & 515                                                      & naive                                                    & 142dpi                                                   & LA                                                       & A5                                                       & P120                                                     & 0.001966674                                              & 0.002742174                                              & 2.00e-05                                                 & 0.000639894                                              & 0.000151910                                             \\\\\n",
       "\t X531\\_Group1C\\_142dpi\\_LA\\_166\\_G\\_A6\\_P120.mzXML & 531                                                      & naive                                                    & 142dpi                                                   & LA                                                       & A6                                                       & P120                                                     & 0.001182584                                              & 0.001621899                                              & 3.75e-05                                                 & 0.000000000                                              & 0.000000000                                             \\\\\n",
       "\\end{tabular}\n"
      ],
      "text/markdown": [
       "\n",
       "| filename | MouseID | Treatmentgroup | DPI | organ | well_position | plate | mass_400 | mass_500 | mass_600 | mass_700 | mass_800 |\n",
       "|---|---|---|---|---|---|---|---|---|---|---|---|\n",
       "| X511_Group1C_142dpi_LA_161_G_A1_P120.mzXML | 511                                        | naive                                      | 142dpi                                     | LA                                         | A1                                         | P120                                       | 0.002077955                                | 0.002490702                                | 0.00e+00                                   | 0.000232453                                | 0.000149389                                |\n",
       "| X512_Group1C_142dpi_LA_162_G_A2_P120.mzXML | 512                                        | naive                                      | 142dpi                                     | LA                                         | A2                                         | P120                                       | 0.001422483                                | 0.001827962                                | 2.59e-05                                   | 0.000955615                                | 0.000000000                                |\n",
       "| X513_Group1C_142dpi_LA_163_G_A3_P120.mzXML | 513                                        | naive                                      | 142dpi                                     | LA                                         | A3                                         | P120                                       | 0.000422008                                | 0.001031656                                | 4.61e-05                                   | 0.000000000                                | 0.000000000                                |\n",
       "| X514_Group1C_142dpi_LA_164_G_A4_P120.mzXML | 514                                        | naive                                      | 142dpi                                     | LA                                         | A4                                         | P120                                       | 0.001861510                                | 0.002679198                                | 1.95e-05                                   | 0.001053337                                | 0.000081800                                |\n",
       "| X515_Group1C_142dpi_LA_165_G_A5_P120.mzXML | 515                                        | naive                                      | 142dpi                                     | LA                                         | A5                                         | P120                                       | 0.001966674                                | 0.002742174                                | 2.00e-05                                   | 0.000639894                                | 0.000151910                                |\n",
       "| X531_Group1C_142dpi_LA_166_G_A6_P120.mzXML | 531                                        | naive                                      | 142dpi                                     | LA                                         | A6                                         | P120                                       | 0.001182584                                | 0.001621899                                | 3.75e-05                                   | 0.000000000                                | 0.000000000                                |\n",
       "\n"
      ],
      "text/plain": [
       "  filename                                   MouseID Treatmentgroup DPI   \n",
       "1 X511_Group1C_142dpi_LA_161_G_A1_P120.mzXML 511     naive          142dpi\n",
       "2 X512_Group1C_142dpi_LA_162_G_A2_P120.mzXML 512     naive          142dpi\n",
       "3 X513_Group1C_142dpi_LA_163_G_A3_P120.mzXML 513     naive          142dpi\n",
       "4 X514_Group1C_142dpi_LA_164_G_A4_P120.mzXML 514     naive          142dpi\n",
       "5 X515_Group1C_142dpi_LA_165_G_A5_P120.mzXML 515     naive          142dpi\n",
       "6 X531_Group1C_142dpi_LA_166_G_A6_P120.mzXML 531     naive          142dpi\n",
       "  organ well_position plate mass_400    mass_500    mass_600 mass_700   \n",
       "1 LA    A1            P120  0.002077955 0.002490702 0.00e+00 0.000232453\n",
       "2 LA    A2            P120  0.001422483 0.001827962 2.59e-05 0.000955615\n",
       "3 LA    A3            P120  0.000422008 0.001031656 4.61e-05 0.000000000\n",
       "4 LA    A4            P120  0.001861510 0.002679198 1.95e-05 0.001053337\n",
       "5 LA    A5            P120  0.001966674 0.002742174 2.00e-05 0.000639894\n",
       "6 LA    A6            P120  0.001182584 0.001621899 3.75e-05 0.000000000\n",
       "  mass_800   \n",
       "1 0.000149389\n",
       "2 0.000000000\n",
       "3 0.000000000\n",
       "4 0.000081800\n",
       "5 0.000151910\n",
       "6 0.000000000"
      ]
     },
     "metadata": {},
     "output_type": "display_data"
    },
    {
     "data": {
      "text/html": [
       "<ol class=list-inline>\n",
       "\t<li>60</li>\n",
       "\t<li>12</li>\n",
       "</ol>\n"
      ],
      "text/latex": [
       "\\begin{enumerate*}\n",
       "\\item 60\n",
       "\\item 12\n",
       "\\end{enumerate*}\n"
      ],
      "text/markdown": [
       "1. 60\n",
       "2. 12\n",
       "\n",
       "\n"
      ],
      "text/plain": [
       "[1] 60 12"
      ]
     },
     "metadata": {},
     "output_type": "display_data"
    }
   ],
   "source": [
    "head(a)\n",
    "dim(a)"
   ]
  },
  {
   "cell_type": "code",
   "execution_count": 3,
   "metadata": {},
   "outputs": [
    {
     "data": {
      "text/html": [
       "<table>\n",
       "<thead><tr><th></th><th scope=col>filename</th><th scope=col>MouseID</th><th scope=col>Treatmentgroup</th><th scope=col>DPI</th><th scope=col>organ</th><th scope=col>well_position</th><th scope=col>plate</th><th scope=col>mass_400</th><th scope=col>mass_500</th><th scope=col>mass_600</th><th scope=col>mass_700</th><th scope=col>mass_800</th></tr></thead>\n",
       "<tbody>\n",
       "\t<tr><th scope=row>16</th><td>X581_Group3E_142dpi_LA_176_G_B4_P120.mzXML</td><td>581                                       </td><td>infected                                  </td><td>142dpi                                    </td><td>LA                                        </td><td>B4                                        </td><td>P120                                      </td><td>0.003182039                               </td><td>0.003871148                               </td><td>0.000111846                               </td><td>0.000657259                               </td><td>0                                         </td></tr>\n",
       "\t<tr><th scope=row>17</th><td>X582_Group3E_142dpi_LA_177_G_B5_P120.mzXML</td><td>582                                       </td><td>infected                                  </td><td>142dpi                                    </td><td>LA                                        </td><td>B5                                        </td><td>P120                                      </td><td>0.003804928                               </td><td>0.001831666                               </td><td>0.000019000                               </td><td>0.000824241                               </td><td>0                                         </td></tr>\n",
       "\t<tr><th scope=row>18</th><td>X583_Group3E_142dpi_LA_178_G_B6_P120.mzXML</td><td>583                                       </td><td>infected                                  </td><td>142dpi                                    </td><td>LA                                        </td><td>B6                                        </td><td>P120                                      </td><td>0.001858255                               </td><td>0.002137595                               </td><td>0.000000000                               </td><td>0.000070200                               </td><td>0                                         </td></tr>\n",
       "\t<tr><th scope=row>19</th><td>X584_Group3E_142dpi_LA_179_G_B7_P120.mzXML</td><td>584                                       </td><td>infected                                  </td><td>142dpi                                    </td><td>LA                                        </td><td>B7                                        </td><td>P120                                      </td><td>0.001765435                               </td><td>0.002913983                               </td><td>0.000045900                               </td><td>0.000476821                               </td><td>0                                         </td></tr>\n",
       "\t<tr><th scope=row>20</th><td>X585_Group3E_142dpi_LA_180_G_B8_P120.mzXML</td><td>585                                       </td><td>infected                                  </td><td>142dpi                                    </td><td>LA                                        </td><td>B8                                        </td><td>P120                                      </td><td>0.000944339                               </td><td>0.001841540                               </td><td>0.000000000                               </td><td>0.000359929                               </td><td>0                                         </td></tr>\n",
       "\t<tr><th scope=row>21</th><td>X611_Group9_142dpi_LA_181_G_B9_P120.mzXML </td><td>611                                       </td><td>combo                                     </td><td>142dpi                                    </td><td>LA                                        </td><td>B9                                        </td><td>P120                                      </td><td>0.002783635                               </td><td>0.003425629                               </td><td>0.000045600                               </td><td>0.000832183                               </td><td>0                                         </td></tr>\n",
       "</tbody>\n",
       "</table>\n"
      ],
      "text/latex": [
       "\\begin{tabular}{r|llllllllllll}\n",
       "  & filename & MouseID & Treatmentgroup & DPI & organ & well\\_position & plate & mass\\_400 & mass\\_500 & mass\\_600 & mass\\_700 & mass\\_800\\\\\n",
       "\\hline\n",
       "\t16 & X581\\_Group3E\\_142dpi\\_LA\\_176\\_G\\_B4\\_P120.mzXML & 581                                                      & infected                                                 & 142dpi                                                   & LA                                                       & B4                                                       & P120                                                     & 0.003182039                                              & 0.003871148                                              & 0.000111846                                              & 0.000657259                                              & 0                                                       \\\\\n",
       "\t17 & X582\\_Group3E\\_142dpi\\_LA\\_177\\_G\\_B5\\_P120.mzXML & 582                                                      & infected                                                 & 142dpi                                                   & LA                                                       & B5                                                       & P120                                                     & 0.003804928                                              & 0.001831666                                              & 0.000019000                                              & 0.000824241                                              & 0                                                       \\\\\n",
       "\t18 & X583\\_Group3E\\_142dpi\\_LA\\_178\\_G\\_B6\\_P120.mzXML & 583                                                      & infected                                                 & 142dpi                                                   & LA                                                       & B6                                                       & P120                                                     & 0.001858255                                              & 0.002137595                                              & 0.000000000                                              & 0.000070200                                              & 0                                                       \\\\\n",
       "\t19 & X584\\_Group3E\\_142dpi\\_LA\\_179\\_G\\_B7\\_P120.mzXML & 584                                                      & infected                                                 & 142dpi                                                   & LA                                                       & B7                                                       & P120                                                     & 0.001765435                                              & 0.002913983                                              & 0.000045900                                              & 0.000476821                                              & 0                                                       \\\\\n",
       "\t20 & X585\\_Group3E\\_142dpi\\_LA\\_180\\_G\\_B8\\_P120.mzXML & 585                                                      & infected                                                 & 142dpi                                                   & LA                                                       & B8                                                       & P120                                                     & 0.000944339                                              & 0.001841540                                              & 0.000000000                                              & 0.000359929                                              & 0                                                       \\\\\n",
       "\t21 & X611\\_Group9\\_142dpi\\_LA\\_181\\_G\\_B9\\_P120.mzXML  & 611                                                      & combo                                                    & 142dpi                                                   & LA                                                       & B9                                                       & P120                                                     & 0.002783635                                              & 0.003425629                                              & 0.000045600                                              & 0.000832183                                              & 0                                                       \\\\\n",
       "\\end{tabular}\n"
      ],
      "text/markdown": [
       "\n",
       "| <!--/--> | filename | MouseID | Treatmentgroup | DPI | organ | well_position | plate | mass_400 | mass_500 | mass_600 | mass_700 | mass_800 |\n",
       "|---|---|---|---|---|---|---|---|---|---|---|---|---|\n",
       "| 16 | X581_Group3E_142dpi_LA_176_G_B4_P120.mzXML | 581                                        | infected                                   | 142dpi                                     | LA                                         | B4                                         | P120                                       | 0.003182039                                | 0.003871148                                | 0.000111846                                | 0.000657259                                | 0                                          |\n",
       "| 17 | X582_Group3E_142dpi_LA_177_G_B5_P120.mzXML | 582                                        | infected                                   | 142dpi                                     | LA                                         | B5                                         | P120                                       | 0.003804928                                | 0.001831666                                | 0.000019000                                | 0.000824241                                | 0                                          |\n",
       "| 18 | X583_Group3E_142dpi_LA_178_G_B6_P120.mzXML | 583                                        | infected                                   | 142dpi                                     | LA                                         | B6                                         | P120                                       | 0.001858255                                | 0.002137595                                | 0.000000000                                | 0.000070200                                | 0                                          |\n",
       "| 19 | X584_Group3E_142dpi_LA_179_G_B7_P120.mzXML | 584                                        | infected                                   | 142dpi                                     | LA                                         | B7                                         | P120                                       | 0.001765435                                | 0.002913983                                | 0.000045900                                | 0.000476821                                | 0                                          |\n",
       "| 20 | X585_Group3E_142dpi_LA_180_G_B8_P120.mzXML | 585                                        | infected                                   | 142dpi                                     | LA                                         | B8                                         | P120                                       | 0.000944339                                | 0.001841540                                | 0.000000000                                | 0.000359929                                | 0                                          |\n",
       "| 21 | X611_Group9_142dpi_LA_181_G_B9_P120.mzXML  | 611                                        | combo                                      | 142dpi                                     | LA                                         | B9                                         | P120                                       | 0.002783635                                | 0.003425629                                | 0.000045600                                | 0.000832183                                | 0                                          |\n",
       "\n"
      ],
      "text/plain": [
       "   filename                                   MouseID Treatmentgroup DPI   \n",
       "16 X581_Group3E_142dpi_LA_176_G_B4_P120.mzXML 581     infected       142dpi\n",
       "17 X582_Group3E_142dpi_LA_177_G_B5_P120.mzXML 582     infected       142dpi\n",
       "18 X583_Group3E_142dpi_LA_178_G_B6_P120.mzXML 583     infected       142dpi\n",
       "19 X584_Group3E_142dpi_LA_179_G_B7_P120.mzXML 584     infected       142dpi\n",
       "20 X585_Group3E_142dpi_LA_180_G_B8_P120.mzXML 585     infected       142dpi\n",
       "21 X611_Group9_142dpi_LA_181_G_B9_P120.mzXML  611     combo          142dpi\n",
       "   organ well_position plate mass_400    mass_500    mass_600    mass_700   \n",
       "16 LA    B4            P120  0.003182039 0.003871148 0.000111846 0.000657259\n",
       "17 LA    B5            P120  0.003804928 0.001831666 0.000019000 0.000824241\n",
       "18 LA    B6            P120  0.001858255 0.002137595 0.000000000 0.000070200\n",
       "19 LA    B7            P120  0.001765435 0.002913983 0.000045900 0.000476821\n",
       "20 LA    B8            P120  0.000944339 0.001841540 0.000000000 0.000359929\n",
       "21 LA    B9            P120  0.002783635 0.003425629 0.000045600 0.000832183\n",
       "   mass_800\n",
       "16 0       \n",
       "17 0       \n",
       "18 0       \n",
       "19 0       \n",
       "20 0       \n",
       "21 0       "
      ]
     },
     "metadata": {},
     "output_type": "display_data"
    },
    {
     "data": {
      "text/html": [
       "<ol class=list-inline>\n",
       "\t<li>30</li>\n",
       "\t<li>12</li>\n",
       "</ol>\n"
      ],
      "text/latex": [
       "\\begin{enumerate*}\n",
       "\\item 30\n",
       "\\item 12\n",
       "\\end{enumerate*}\n"
      ],
      "text/markdown": [
       "1. 30\n",
       "2. 12\n",
       "\n",
       "\n"
      ],
      "text/plain": [
       "[1] 30 12"
      ]
     },
     "metadata": {},
     "output_type": "display_data"
    }
   ],
   "source": [
    "features_pos<-droplevels(subset(a, a$Treatmentgroup==c(\"infected\")|a$Treatmentgroup==c(\"combo\")))\n",
    "head(features_pos)\n",
    "dim(features_pos)"
   ]
  },
  {
   "cell_type": "code",
   "execution_count": 4,
   "metadata": {
    "scrolled": false
   },
   "outputs": [
    {
     "data": {
      "text/html": [
       "<table>\n",
       "<thead><tr><th></th><th scope=col>mass_400</th><th scope=col>mass_500</th><th scope=col>mass_600</th><th scope=col>mass_700</th><th scope=col>mass_800</th></tr></thead>\n",
       "<tbody>\n",
       "\t<tr><th scope=row>16</th><td>0.003182039</td><td>0.003871148</td><td>0.000111846</td><td>0.000657259</td><td>0          </td></tr>\n",
       "\t<tr><th scope=row>17</th><td>0.003804928</td><td>0.001831666</td><td>0.000019000</td><td>0.000824241</td><td>0          </td></tr>\n",
       "\t<tr><th scope=row>18</th><td>0.001858255</td><td>0.002137595</td><td>0.000000000</td><td>0.000070200</td><td>0          </td></tr>\n",
       "\t<tr><th scope=row>19</th><td>0.001765435</td><td>0.002913983</td><td>0.000045900</td><td>0.000476821</td><td>0          </td></tr>\n",
       "\t<tr><th scope=row>20</th><td>0.000944339</td><td>0.001841540</td><td>0.000000000</td><td>0.000359929</td><td>0          </td></tr>\n",
       "\t<tr><th scope=row>21</th><td>0.002783635</td><td>0.003425629</td><td>0.000045600</td><td>0.000832183</td><td>0          </td></tr>\n",
       "</tbody>\n",
       "</table>\n"
      ],
      "text/latex": [
       "\\begin{tabular}{r|lllll}\n",
       "  & mass\\_400 & mass\\_500 & mass\\_600 & mass\\_700 & mass\\_800\\\\\n",
       "\\hline\n",
       "\t16 & 0.003182039 & 0.003871148 & 0.000111846 & 0.000657259 & 0          \\\\\n",
       "\t17 & 0.003804928 & 0.001831666 & 0.000019000 & 0.000824241 & 0          \\\\\n",
       "\t18 & 0.001858255 & 0.002137595 & 0.000000000 & 0.000070200 & 0          \\\\\n",
       "\t19 & 0.001765435 & 0.002913983 & 0.000045900 & 0.000476821 & 0          \\\\\n",
       "\t20 & 0.000944339 & 0.001841540 & 0.000000000 & 0.000359929 & 0          \\\\\n",
       "\t21 & 0.002783635 & 0.003425629 & 0.000045600 & 0.000832183 & 0          \\\\\n",
       "\\end{tabular}\n"
      ],
      "text/markdown": [
       "\n",
       "| <!--/--> | mass_400 | mass_500 | mass_600 | mass_700 | mass_800 |\n",
       "|---|---|---|---|---|---|\n",
       "| 16 | 0.003182039 | 0.003871148 | 0.000111846 | 0.000657259 | 0           |\n",
       "| 17 | 0.003804928 | 0.001831666 | 0.000019000 | 0.000824241 | 0           |\n",
       "| 18 | 0.001858255 | 0.002137595 | 0.000000000 | 0.000070200 | 0           |\n",
       "| 19 | 0.001765435 | 0.002913983 | 0.000045900 | 0.000476821 | 0           |\n",
       "| 20 | 0.000944339 | 0.001841540 | 0.000000000 | 0.000359929 | 0           |\n",
       "| 21 | 0.002783635 | 0.003425629 | 0.000045600 | 0.000832183 | 0           |\n",
       "\n"
      ],
      "text/plain": [
       "   mass_400    mass_500    mass_600    mass_700    mass_800\n",
       "16 0.003182039 0.003871148 0.000111846 0.000657259 0       \n",
       "17 0.003804928 0.001831666 0.000019000 0.000824241 0       \n",
       "18 0.001858255 0.002137595 0.000000000 0.000070200 0       \n",
       "19 0.001765435 0.002913983 0.000045900 0.000476821 0       \n",
       "20 0.000944339 0.001841540 0.000000000 0.000359929 0       \n",
       "21 0.002783635 0.003425629 0.000045600 0.000832183 0       "
      ]
     },
     "metadata": {},
     "output_type": "display_data"
    },
    {
     "data": {
      "text/html": [
       "<dl class=dl-horizontal>\n",
       "\t<dt>mass_400</dt>\n",
       "\t\t<dd>1</dd>\n",
       "\t<dt>mass_500</dt>\n",
       "\t\t<dd>2</dd>\n",
       "\t<dt>mass_600</dt>\n",
       "\t\t<dd>3</dd>\n",
       "\t<dt>mass_700</dt>\n",
       "\t\t<dd>4</dd>\n",
       "\t<dt>mass_800</dt>\n",
       "\t\t<dd>5</dd>\n",
       "</dl>\n"
      ],
      "text/latex": [
       "\\begin{description*}\n",
       "\\item[mass\\textbackslash{}\\_400] 1\n",
       "\\item[mass\\textbackslash{}\\_500] 2\n",
       "\\item[mass\\textbackslash{}\\_600] 3\n",
       "\\item[mass\\textbackslash{}\\_700] 4\n",
       "\\item[mass\\textbackslash{}\\_800] 5\n",
       "\\end{description*}\n"
      ],
      "text/markdown": [
       "mass_400\n",
       ":   1mass_500\n",
       ":   2mass_600\n",
       ":   3mass_700\n",
       ":   4mass_800\n",
       ":   5\n",
       "\n"
      ],
      "text/plain": [
       "mass_400 mass_500 mass_600 mass_700 mass_800 \n",
       "       1        2        3        4        5 "
      ]
     },
     "metadata": {},
     "output_type": "display_data"
    },
    {
     "data": {
      "text/html": [
       "<table>\n",
       "<thead><tr><th></th><th scope=col>mass_400</th><th scope=col>mass_500</th><th scope=col>mass_600</th><th scope=col>mass_700</th><th scope=col>mass_800</th></tr></thead>\n",
       "<tbody>\n",
       "\t<tr><th scope=row>16</th><td>0.003182039</td><td>0.003871148</td><td>0.000111846</td><td>0.000657259</td><td>0.000000000</td></tr>\n",
       "\t<tr><th scope=row>17</th><td>0.003804928</td><td>0.001831666</td><td>0.000019000</td><td>0.000824241</td><td>0.000000000</td></tr>\n",
       "\t<tr><th scope=row>18</th><td>0.001858255</td><td>0.002137595</td><td>0.000000000</td><td>0.000070200</td><td>0.000000000</td></tr>\n",
       "\t<tr><th scope=row>19</th><td>0.001765435</td><td>0.002913983</td><td>0.000045900</td><td>0.000476821</td><td>0.000000000</td></tr>\n",
       "\t<tr><th scope=row>20</th><td>0.000944339</td><td>0.001841540</td><td>0.000000000</td><td>0.000359929</td><td>0.000000000</td></tr>\n",
       "\t<tr><th scope=row>21</th><td>0.002783635</td><td>0.003425629</td><td>0.000045600</td><td>0.000832183</td><td>0.000000000</td></tr>\n",
       "\t<tr><th scope=row>22</th><td>0.002159900</td><td>0.001721661</td><td>0.000000000</td><td>0.000350532</td><td>0.000000000</td></tr>\n",
       "\t<tr><th scope=row>23</th><td>0.001764529</td><td>0.001513378</td><td>0.000018700</td><td>0.000700973</td><td>0.000000000</td></tr>\n",
       "\t<tr><th scope=row>24</th><td>0.001613998</td><td>0.001328994</td><td>0.000000000</td><td>0.001203537</td><td>0.000000000</td></tr>\n",
       "\t<tr><th scope=row>25</th><td>0.001740730</td><td>0.003000567</td><td>0.000077000</td><td>0.000888956</td><td>0.000111877</td></tr>\n",
       "\t<tr><th scope=row>31</th><td>0.002416400</td><td>0.002967068</td><td>0.000000000</td><td>0.001067936</td><td>0.000000000</td></tr>\n",
       "\t<tr><th scope=row>32</th><td>0.004351841</td><td>0.003273077</td><td>0.000020000</td><td>0.001635049</td><td>0.000311349</td></tr>\n",
       "\t<tr><th scope=row>33</th><td>0.002636841</td><td>0.003616622</td><td>0.000000000</td><td>0.001505071</td><td>0.000200553</td></tr>\n",
       "\t<tr><th scope=row>34</th><td>0.002383023</td><td>0.003432886</td><td>0.000081600</td><td>0.002240275</td><td>0.000000000</td></tr>\n",
       "\t<tr><th scope=row>35</th><td>0.001486499</td><td>0.002254976</td><td>0.000000000</td><td>0.002053865</td><td>0.000177580</td></tr>\n",
       "\t<tr><th scope=row>36</th><td>0.000337976</td><td>0.000736000</td><td>0.000000000</td><td>0.000000000</td><td>0.000000000</td></tr>\n",
       "\t<tr><th scope=row>37</th><td>0.001050271</td><td>0.001030000</td><td>0.000000000</td><td>0.000000000</td><td>0.000000000</td></tr>\n",
       "\t<tr><th scope=row>38</th><td>0.001770978</td><td>0.002450000</td><td>0.000000000</td><td>0.000940385</td><td>0.000000000</td></tr>\n",
       "\t<tr><th scope=row>39</th><td>0.003831133</td><td>0.004760299</td><td>0.000135928</td><td>0.002288139</td><td>0.000075700</td></tr>\n",
       "\t<tr><th scope=row>40</th><td>0.003709793</td><td>0.006821428</td><td>0.000120550</td><td>0.005153266</td><td>0.000292134</td></tr>\n",
       "\t<tr><th scope=row>46</th><td>0.001623204</td><td>0.002084003</td><td>0.000000000</td><td>0.000948279</td><td>0.000000000</td></tr>\n",
       "\t<tr><th scope=row>47</th><td>0.001531886</td><td>0.002412509</td><td>0.000000000</td><td>0.000925587</td><td>0.000151768</td></tr>\n",
       "\t<tr><th scope=row>48</th><td>0.000608053</td><td>0.000870000</td><td>0.000000000</td><td>0.000000000</td><td>0.000000000</td></tr>\n",
       "\t<tr><th scope=row>49</th><td>0.000692180</td><td>0.001351519</td><td>0.000000000</td><td>0.000097200</td><td>0.000000000</td></tr>\n",
       "\t<tr><th scope=row>50</th><td>0.000634235</td><td>0.001082745</td><td>0.000000000</td><td>0.000566075</td><td>0.000000000</td></tr>\n",
       "\t<tr><th scope=row>51</th><td>0.001551798</td><td>0.002182888</td><td>0.000000000</td><td>0.000267723</td><td>0.000000000</td></tr>\n",
       "\t<tr><th scope=row>52</th><td>0.000842800</td><td>0.001290000</td><td>0.000000000</td><td>0.000000000</td><td>0.000000000</td></tr>\n",
       "\t<tr><th scope=row>53</th><td>0.001695478</td><td>0.001914254</td><td>0.000000000</td><td>0.000000000</td><td>0.000000000</td></tr>\n",
       "\t<tr><th scope=row>54</th><td>0.001015298</td><td>0.001010000</td><td>0.000000000</td><td>0.000000000</td><td>0.000000000</td></tr>\n",
       "\t<tr><th scope=row>55</th><td>0.004088860</td><td>0.004889050</td><td>0.000217666</td><td>0.002034145</td><td>0.000222247</td></tr>\n",
       "</tbody>\n",
       "</table>\n"
      ],
      "text/latex": [
       "\\begin{tabular}{r|lllll}\n",
       "  & mass\\_400 & mass\\_500 & mass\\_600 & mass\\_700 & mass\\_800\\\\\n",
       "\\hline\n",
       "\t16 & 0.003182039 & 0.003871148 & 0.000111846 & 0.000657259 & 0.000000000\\\\\n",
       "\t17 & 0.003804928 & 0.001831666 & 0.000019000 & 0.000824241 & 0.000000000\\\\\n",
       "\t18 & 0.001858255 & 0.002137595 & 0.000000000 & 0.000070200 & 0.000000000\\\\\n",
       "\t19 & 0.001765435 & 0.002913983 & 0.000045900 & 0.000476821 & 0.000000000\\\\\n",
       "\t20 & 0.000944339 & 0.001841540 & 0.000000000 & 0.000359929 & 0.000000000\\\\\n",
       "\t21 & 0.002783635 & 0.003425629 & 0.000045600 & 0.000832183 & 0.000000000\\\\\n",
       "\t22 & 0.002159900 & 0.001721661 & 0.000000000 & 0.000350532 & 0.000000000\\\\\n",
       "\t23 & 0.001764529 & 0.001513378 & 0.000018700 & 0.000700973 & 0.000000000\\\\\n",
       "\t24 & 0.001613998 & 0.001328994 & 0.000000000 & 0.001203537 & 0.000000000\\\\\n",
       "\t25 & 0.001740730 & 0.003000567 & 0.000077000 & 0.000888956 & 0.000111877\\\\\n",
       "\t31 & 0.002416400 & 0.002967068 & 0.000000000 & 0.001067936 & 0.000000000\\\\\n",
       "\t32 & 0.004351841 & 0.003273077 & 0.000020000 & 0.001635049 & 0.000311349\\\\\n",
       "\t33 & 0.002636841 & 0.003616622 & 0.000000000 & 0.001505071 & 0.000200553\\\\\n",
       "\t34 & 0.002383023 & 0.003432886 & 0.000081600 & 0.002240275 & 0.000000000\\\\\n",
       "\t35 & 0.001486499 & 0.002254976 & 0.000000000 & 0.002053865 & 0.000177580\\\\\n",
       "\t36 & 0.000337976 & 0.000736000 & 0.000000000 & 0.000000000 & 0.000000000\\\\\n",
       "\t37 & 0.001050271 & 0.001030000 & 0.000000000 & 0.000000000 & 0.000000000\\\\\n",
       "\t38 & 0.001770978 & 0.002450000 & 0.000000000 & 0.000940385 & 0.000000000\\\\\n",
       "\t39 & 0.003831133 & 0.004760299 & 0.000135928 & 0.002288139 & 0.000075700\\\\\n",
       "\t40 & 0.003709793 & 0.006821428 & 0.000120550 & 0.005153266 & 0.000292134\\\\\n",
       "\t46 & 0.001623204 & 0.002084003 & 0.000000000 & 0.000948279 & 0.000000000\\\\\n",
       "\t47 & 0.001531886 & 0.002412509 & 0.000000000 & 0.000925587 & 0.000151768\\\\\n",
       "\t48 & 0.000608053 & 0.000870000 & 0.000000000 & 0.000000000 & 0.000000000\\\\\n",
       "\t49 & 0.000692180 & 0.001351519 & 0.000000000 & 0.000097200 & 0.000000000\\\\\n",
       "\t50 & 0.000634235 & 0.001082745 & 0.000000000 & 0.000566075 & 0.000000000\\\\\n",
       "\t51 & 0.001551798 & 0.002182888 & 0.000000000 & 0.000267723 & 0.000000000\\\\\n",
       "\t52 & 0.000842800 & 0.001290000 & 0.000000000 & 0.000000000 & 0.000000000\\\\\n",
       "\t53 & 0.001695478 & 0.001914254 & 0.000000000 & 0.000000000 & 0.000000000\\\\\n",
       "\t54 & 0.001015298 & 0.001010000 & 0.000000000 & 0.000000000 & 0.000000000\\\\\n",
       "\t55 & 0.004088860 & 0.004889050 & 0.000217666 & 0.002034145 & 0.000222247\\\\\n",
       "\\end{tabular}\n"
      ],
      "text/markdown": [
       "\n",
       "| <!--/--> | mass_400 | mass_500 | mass_600 | mass_700 | mass_800 |\n",
       "|---|---|---|---|---|---|\n",
       "| 16 | 0.003182039 | 0.003871148 | 0.000111846 | 0.000657259 | 0.000000000 |\n",
       "| 17 | 0.003804928 | 0.001831666 | 0.000019000 | 0.000824241 | 0.000000000 |\n",
       "| 18 | 0.001858255 | 0.002137595 | 0.000000000 | 0.000070200 | 0.000000000 |\n",
       "| 19 | 0.001765435 | 0.002913983 | 0.000045900 | 0.000476821 | 0.000000000 |\n",
       "| 20 | 0.000944339 | 0.001841540 | 0.000000000 | 0.000359929 | 0.000000000 |\n",
       "| 21 | 0.002783635 | 0.003425629 | 0.000045600 | 0.000832183 | 0.000000000 |\n",
       "| 22 | 0.002159900 | 0.001721661 | 0.000000000 | 0.000350532 | 0.000000000 |\n",
       "| 23 | 0.001764529 | 0.001513378 | 0.000018700 | 0.000700973 | 0.000000000 |\n",
       "| 24 | 0.001613998 | 0.001328994 | 0.000000000 | 0.001203537 | 0.000000000 |\n",
       "| 25 | 0.001740730 | 0.003000567 | 0.000077000 | 0.000888956 | 0.000111877 |\n",
       "| 31 | 0.002416400 | 0.002967068 | 0.000000000 | 0.001067936 | 0.000000000 |\n",
       "| 32 | 0.004351841 | 0.003273077 | 0.000020000 | 0.001635049 | 0.000311349 |\n",
       "| 33 | 0.002636841 | 0.003616622 | 0.000000000 | 0.001505071 | 0.000200553 |\n",
       "| 34 | 0.002383023 | 0.003432886 | 0.000081600 | 0.002240275 | 0.000000000 |\n",
       "| 35 | 0.001486499 | 0.002254976 | 0.000000000 | 0.002053865 | 0.000177580 |\n",
       "| 36 | 0.000337976 | 0.000736000 | 0.000000000 | 0.000000000 | 0.000000000 |\n",
       "| 37 | 0.001050271 | 0.001030000 | 0.000000000 | 0.000000000 | 0.000000000 |\n",
       "| 38 | 0.001770978 | 0.002450000 | 0.000000000 | 0.000940385 | 0.000000000 |\n",
       "| 39 | 0.003831133 | 0.004760299 | 0.000135928 | 0.002288139 | 0.000075700 |\n",
       "| 40 | 0.003709793 | 0.006821428 | 0.000120550 | 0.005153266 | 0.000292134 |\n",
       "| 46 | 0.001623204 | 0.002084003 | 0.000000000 | 0.000948279 | 0.000000000 |\n",
       "| 47 | 0.001531886 | 0.002412509 | 0.000000000 | 0.000925587 | 0.000151768 |\n",
       "| 48 | 0.000608053 | 0.000870000 | 0.000000000 | 0.000000000 | 0.000000000 |\n",
       "| 49 | 0.000692180 | 0.001351519 | 0.000000000 | 0.000097200 | 0.000000000 |\n",
       "| 50 | 0.000634235 | 0.001082745 | 0.000000000 | 0.000566075 | 0.000000000 |\n",
       "| 51 | 0.001551798 | 0.002182888 | 0.000000000 | 0.000267723 | 0.000000000 |\n",
       "| 52 | 0.000842800 | 0.001290000 | 0.000000000 | 0.000000000 | 0.000000000 |\n",
       "| 53 | 0.001695478 | 0.001914254 | 0.000000000 | 0.000000000 | 0.000000000 |\n",
       "| 54 | 0.001015298 | 0.001010000 | 0.000000000 | 0.000000000 | 0.000000000 |\n",
       "| 55 | 0.004088860 | 0.004889050 | 0.000217666 | 0.002034145 | 0.000222247 |\n",
       "\n"
      ],
      "text/plain": [
       "   mass_400    mass_500    mass_600    mass_700    mass_800   \n",
       "16 0.003182039 0.003871148 0.000111846 0.000657259 0.000000000\n",
       "17 0.003804928 0.001831666 0.000019000 0.000824241 0.000000000\n",
       "18 0.001858255 0.002137595 0.000000000 0.000070200 0.000000000\n",
       "19 0.001765435 0.002913983 0.000045900 0.000476821 0.000000000\n",
       "20 0.000944339 0.001841540 0.000000000 0.000359929 0.000000000\n",
       "21 0.002783635 0.003425629 0.000045600 0.000832183 0.000000000\n",
       "22 0.002159900 0.001721661 0.000000000 0.000350532 0.000000000\n",
       "23 0.001764529 0.001513378 0.000018700 0.000700973 0.000000000\n",
       "24 0.001613998 0.001328994 0.000000000 0.001203537 0.000000000\n",
       "25 0.001740730 0.003000567 0.000077000 0.000888956 0.000111877\n",
       "31 0.002416400 0.002967068 0.000000000 0.001067936 0.000000000\n",
       "32 0.004351841 0.003273077 0.000020000 0.001635049 0.000311349\n",
       "33 0.002636841 0.003616622 0.000000000 0.001505071 0.000200553\n",
       "34 0.002383023 0.003432886 0.000081600 0.002240275 0.000000000\n",
       "35 0.001486499 0.002254976 0.000000000 0.002053865 0.000177580\n",
       "36 0.000337976 0.000736000 0.000000000 0.000000000 0.000000000\n",
       "37 0.001050271 0.001030000 0.000000000 0.000000000 0.000000000\n",
       "38 0.001770978 0.002450000 0.000000000 0.000940385 0.000000000\n",
       "39 0.003831133 0.004760299 0.000135928 0.002288139 0.000075700\n",
       "40 0.003709793 0.006821428 0.000120550 0.005153266 0.000292134\n",
       "46 0.001623204 0.002084003 0.000000000 0.000948279 0.000000000\n",
       "47 0.001531886 0.002412509 0.000000000 0.000925587 0.000151768\n",
       "48 0.000608053 0.000870000 0.000000000 0.000000000 0.000000000\n",
       "49 0.000692180 0.001351519 0.000000000 0.000097200 0.000000000\n",
       "50 0.000634235 0.001082745 0.000000000 0.000566075 0.000000000\n",
       "51 0.001551798 0.002182888 0.000000000 0.000267723 0.000000000\n",
       "52 0.000842800 0.001290000 0.000000000 0.000000000 0.000000000\n",
       "53 0.001695478 0.001914254 0.000000000 0.000000000 0.000000000\n",
       "54 0.001015298 0.001010000 0.000000000 0.000000000 0.000000000\n",
       "55 0.004088860 0.004889050 0.000217666 0.002034145 0.000222247"
      ]
     },
     "metadata": {},
     "output_type": "display_data"
    },
    {
     "data": {
      "text/html": [
       "<table>\n",
       "<thead><tr><th></th><th scope=col>filename</th><th scope=col>MouseID</th><th scope=col>Treatmentgroup</th><th scope=col>DPI</th><th scope=col>organ</th><th scope=col>well_position</th><th scope=col>plate</th><th scope=col>mass_400</th><th scope=col>mass_500</th><th scope=col>mass_600</th><th scope=col>mass_700</th><th scope=col>mass_800</th></tr></thead>\n",
       "<tbody>\n",
       "\t<tr><th scope=row>16</th><td>X581_Group3E_142dpi_LA_176_G_B4_P120.mzXML</td><td>581                                       </td><td>infected                                  </td><td>142dpi                                    </td><td>LA                                        </td><td>B4                                        </td><td>P120                                      </td><td>0.003182039                               </td><td>0.003871148                               </td><td>0.000111846                               </td><td>0.000657259                               </td><td>0                                         </td></tr>\n",
       "\t<tr><th scope=row>17</th><td>X582_Group3E_142dpi_LA_177_G_B5_P120.mzXML</td><td>582                                       </td><td>infected                                  </td><td>142dpi                                    </td><td>LA                                        </td><td>B5                                        </td><td>P120                                      </td><td>0.003804928                               </td><td>0.001831666                               </td><td>0.000019000                               </td><td>0.000824241                               </td><td>0                                         </td></tr>\n",
       "\t<tr><th scope=row>18</th><td>X583_Group3E_142dpi_LA_178_G_B6_P120.mzXML</td><td>583                                       </td><td>infected                                  </td><td>142dpi                                    </td><td>LA                                        </td><td>B6                                        </td><td>P120                                      </td><td>0.001858255                               </td><td>0.002137595                               </td><td>0.000000000                               </td><td>0.000070200                               </td><td>0                                         </td></tr>\n",
       "\t<tr><th scope=row>19</th><td>X584_Group3E_142dpi_LA_179_G_B7_P120.mzXML</td><td>584                                       </td><td>infected                                  </td><td>142dpi                                    </td><td>LA                                        </td><td>B7                                        </td><td>P120                                      </td><td>0.001765435                               </td><td>0.002913983                               </td><td>0.000045900                               </td><td>0.000476821                               </td><td>0                                         </td></tr>\n",
       "\t<tr><th scope=row>20</th><td>X585_Group3E_142dpi_LA_180_G_B8_P120.mzXML</td><td>585                                       </td><td>infected                                  </td><td>142dpi                                    </td><td>LA                                        </td><td>B8                                        </td><td>P120                                      </td><td>0.000944339                               </td><td>0.001841540                               </td><td>0.000000000                               </td><td>0.000359929                               </td><td>0                                         </td></tr>\n",
       "\t<tr><th scope=row>21</th><td>X611_Group9_142dpi_LA_181_G_B9_P120.mzXML </td><td>611                                       </td><td>combo                                     </td><td>142dpi                                    </td><td>LA                                        </td><td>B9                                        </td><td>P120                                      </td><td>0.002783635                               </td><td>0.003425629                               </td><td>0.000045600                               </td><td>0.000832183                               </td><td>0                                         </td></tr>\n",
       "</tbody>\n",
       "</table>\n"
      ],
      "text/latex": [
       "\\begin{tabular}{r|llllllllllll}\n",
       "  & filename & MouseID & Treatmentgroup & DPI & organ & well\\_position & plate & mass\\_400 & mass\\_500 & mass\\_600 & mass\\_700 & mass\\_800\\\\\n",
       "\\hline\n",
       "\t16 & X581\\_Group3E\\_142dpi\\_LA\\_176\\_G\\_B4\\_P120.mzXML & 581                                                      & infected                                                 & 142dpi                                                   & LA                                                       & B4                                                       & P120                                                     & 0.003182039                                              & 0.003871148                                              & 0.000111846                                              & 0.000657259                                              & 0                                                       \\\\\n",
       "\t17 & X582\\_Group3E\\_142dpi\\_LA\\_177\\_G\\_B5\\_P120.mzXML & 582                                                      & infected                                                 & 142dpi                                                   & LA                                                       & B5                                                       & P120                                                     & 0.003804928                                              & 0.001831666                                              & 0.000019000                                              & 0.000824241                                              & 0                                                       \\\\\n",
       "\t18 & X583\\_Group3E\\_142dpi\\_LA\\_178\\_G\\_B6\\_P120.mzXML & 583                                                      & infected                                                 & 142dpi                                                   & LA                                                       & B6                                                       & P120                                                     & 0.001858255                                              & 0.002137595                                              & 0.000000000                                              & 0.000070200                                              & 0                                                       \\\\\n",
       "\t19 & X584\\_Group3E\\_142dpi\\_LA\\_179\\_G\\_B7\\_P120.mzXML & 584                                                      & infected                                                 & 142dpi                                                   & LA                                                       & B7                                                       & P120                                                     & 0.001765435                                              & 0.002913983                                              & 0.000045900                                              & 0.000476821                                              & 0                                                       \\\\\n",
       "\t20 & X585\\_Group3E\\_142dpi\\_LA\\_180\\_G\\_B8\\_P120.mzXML & 585                                                      & infected                                                 & 142dpi                                                   & LA                                                       & B8                                                       & P120                                                     & 0.000944339                                              & 0.001841540                                              & 0.000000000                                              & 0.000359929                                              & 0                                                       \\\\\n",
       "\t21 & X611\\_Group9\\_142dpi\\_LA\\_181\\_G\\_B9\\_P120.mzXML  & 611                                                      & combo                                                    & 142dpi                                                   & LA                                                       & B9                                                       & P120                                                     & 0.002783635                                              & 0.003425629                                              & 0.000045600                                              & 0.000832183                                              & 0                                                       \\\\\n",
       "\\end{tabular}\n"
      ],
      "text/markdown": [
       "\n",
       "| <!--/--> | filename | MouseID | Treatmentgroup | DPI | organ | well_position | plate | mass_400 | mass_500 | mass_600 | mass_700 | mass_800 |\n",
       "|---|---|---|---|---|---|---|---|---|---|---|---|---|\n",
       "| 16 | X581_Group3E_142dpi_LA_176_G_B4_P120.mzXML | 581                                        | infected                                   | 142dpi                                     | LA                                         | B4                                         | P120                                       | 0.003182039                                | 0.003871148                                | 0.000111846                                | 0.000657259                                | 0                                          |\n",
       "| 17 | X582_Group3E_142dpi_LA_177_G_B5_P120.mzXML | 582                                        | infected                                   | 142dpi                                     | LA                                         | B5                                         | P120                                       | 0.003804928                                | 0.001831666                                | 0.000019000                                | 0.000824241                                | 0                                          |\n",
       "| 18 | X583_Group3E_142dpi_LA_178_G_B6_P120.mzXML | 583                                        | infected                                   | 142dpi                                     | LA                                         | B6                                         | P120                                       | 0.001858255                                | 0.002137595                                | 0.000000000                                | 0.000070200                                | 0                                          |\n",
       "| 19 | X584_Group3E_142dpi_LA_179_G_B7_P120.mzXML | 584                                        | infected                                   | 142dpi                                     | LA                                         | B7                                         | P120                                       | 0.001765435                                | 0.002913983                                | 0.000045900                                | 0.000476821                                | 0                                          |\n",
       "| 20 | X585_Group3E_142dpi_LA_180_G_B8_P120.mzXML | 585                                        | infected                                   | 142dpi                                     | LA                                         | B8                                         | P120                                       | 0.000944339                                | 0.001841540                                | 0.000000000                                | 0.000359929                                | 0                                          |\n",
       "| 21 | X611_Group9_142dpi_LA_181_G_B9_P120.mzXML  | 611                                        | combo                                      | 142dpi                                     | LA                                         | B9                                         | P120                                       | 0.002783635                                | 0.003425629                                | 0.000045600                                | 0.000832183                                | 0                                          |\n",
       "\n"
      ],
      "text/plain": [
       "   filename                                   MouseID Treatmentgroup DPI   \n",
       "16 X581_Group3E_142dpi_LA_176_G_B4_P120.mzXML 581     infected       142dpi\n",
       "17 X582_Group3E_142dpi_LA_177_G_B5_P120.mzXML 582     infected       142dpi\n",
       "18 X583_Group3E_142dpi_LA_178_G_B6_P120.mzXML 583     infected       142dpi\n",
       "19 X584_Group3E_142dpi_LA_179_G_B7_P120.mzXML 584     infected       142dpi\n",
       "20 X585_Group3E_142dpi_LA_180_G_B8_P120.mzXML 585     infected       142dpi\n",
       "21 X611_Group9_142dpi_LA_181_G_B9_P120.mzXML  611     combo          142dpi\n",
       "   organ well_position plate mass_400    mass_500    mass_600    mass_700   \n",
       "16 LA    B4            P120  0.003182039 0.003871148 0.000111846 0.000657259\n",
       "17 LA    B5            P120  0.003804928 0.001831666 0.000019000 0.000824241\n",
       "18 LA    B6            P120  0.001858255 0.002137595 0.000000000 0.000070200\n",
       "19 LA    B7            P120  0.001765435 0.002913983 0.000045900 0.000476821\n",
       "20 LA    B8            P120  0.000944339 0.001841540 0.000000000 0.000359929\n",
       "21 LA    B9            P120  0.002783635 0.003425629 0.000045600 0.000832183\n",
       "   mass_800\n",
       "16 0       \n",
       "17 0       \n",
       "18 0       \n",
       "19 0       \n",
       "20 0       \n",
       "21 0       "
      ]
     },
     "metadata": {},
     "output_type": "display_data"
    },
    {
     "data": {
      "text/html": [
       "<ol class=list-inline>\n",
       "\t<li>30</li>\n",
       "\t<li>12</li>\n",
       "</ol>\n"
      ],
      "text/latex": [
       "\\begin{enumerate*}\n",
       "\\item 30\n",
       "\\item 12\n",
       "\\end{enumerate*}\n"
      ],
      "text/markdown": [
       "1. 30\n",
       "2. 12\n",
       "\n",
       "\n"
      ],
      "text/plain": [
       "[1] 30 12"
      ]
     },
     "metadata": {},
     "output_type": "display_data"
    },
    {
     "data": {
      "text/html": [
       "<ol class=list-inline>\n",
       "\t<li>30</li>\n",
       "\t<li>5</li>\n",
       "</ol>\n"
      ],
      "text/latex": [
       "\\begin{enumerate*}\n",
       "\\item 30\n",
       "\\item 5\n",
       "\\end{enumerate*}\n"
      ],
      "text/markdown": [
       "1. 30\n",
       "2. 5\n",
       "\n",
       "\n"
      ],
      "text/plain": [
       "[1] 30  5"
      ]
     },
     "metadata": {},
     "output_type": "display_data"
    },
    {
     "data": {
      "text/html": [
       "<ol class=list-inline>\n",
       "\t<li>30</li>\n",
       "\t<li>5</li>\n",
       "</ol>\n"
      ],
      "text/latex": [
       "\\begin{enumerate*}\n",
       "\\item 30\n",
       "\\item 5\n",
       "\\end{enumerate*}\n"
      ],
      "text/markdown": [
       "1. 30\n",
       "2. 5\n",
       "\n",
       "\n"
      ],
      "text/plain": [
       "[1] 30  5"
      ]
     },
     "metadata": {},
     "output_type": "display_data"
    },
    {
     "data": {
      "text/html": [
       "<ol class=list-inline>\n",
       "\t<li>30</li>\n",
       "\t<li>12</li>\n",
       "</ol>\n"
      ],
      "text/latex": [
       "\\begin{enumerate*}\n",
       "\\item 30\n",
       "\\item 12\n",
       "\\end{enumerate*}\n"
      ],
      "text/markdown": [
       "1. 30\n",
       "2. 12\n",
       "\n",
       "\n"
      ],
      "text/plain": [
       "[1] 30 12"
      ]
     },
     "metadata": {},
     "output_type": "display_data"
    }
   ],
   "source": [
    "noMeta<-features_pos[,8:12]\n",
    "head(noMeta)\n",
    "not_zero<-which(colSums(noMeta) != 0)\n",
    "head(not_zero)\n",
    "nonzero <- noMeta[, not_zero]\n",
    "nonzero\n",
    "nonzero_wMeta<-cbind(features_pos[,1:7], nonzero)\n",
    "head(nonzero_wMeta)\n",
    "dim(features_pos)\n",
    "dim(noMeta)\n",
    "dim(nonzero)\n",
    "dim(nonzero_wMeta)"
   ]
  },
  {
   "cell_type": "code",
   "execution_count": 5,
   "metadata": {
    "scrolled": true
   },
   "outputs": [
    {
     "name": "stderr",
     "output_type": "stream",
     "text": [
      "Warning message in wilcox.test.default(x = c(4.56e-05, 0, 1.87e-05, 0, 7.7e-05, :\n",
      "\"cannot compute exact p-value with ties\"Warning message in wilcox.test.default(x = c(0.000832183, 0.000350532, 0.000700973, :\n",
      "\"cannot compute exact p-value with ties\"Warning message in wilcox.test.default(x = c(0, 0, 0, 0, 0.000111877, 0, 0, 0, 7.57e-05, :\n",
      "\"cannot compute exact p-value with ties\""
     ]
    },
    {
     "data": {
      "text/html": [
       "<ol class=list-inline>\n",
       "\t<li>0.967417297543179</li>\n",
       "\t<li>0.65287003041307</li>\n",
       "\t<li>0.564529235098601</li>\n",
       "\t<li>0.466179839227115</li>\n",
       "\t<li>0.936298600136668</li>\n",
       "</ol>\n"
      ],
      "text/latex": [
       "\\begin{enumerate*}\n",
       "\\item 0.967417297543179\n",
       "\\item 0.65287003041307\n",
       "\\item 0.564529235098601\n",
       "\\item 0.466179839227115\n",
       "\\item 0.936298600136668\n",
       "\\end{enumerate*}\n"
      ],
      "text/markdown": [
       "1. 0.967417297543179\n",
       "2. 0.65287003041307\n",
       "3. 0.564529235098601\n",
       "4. 0.466179839227115\n",
       "5. 0.936298600136668\n",
       "\n",
       "\n"
      ],
      "text/plain": [
       "[1] 0.9674173 0.6528700 0.5645292 0.4661798 0.9362986"
      ]
     },
     "metadata": {},
     "output_type": "display_data"
    },
    {
     "data": {
      "text/html": [
       "<ol class=list-inline>\n",
       "\t<li>0.967417297543179</li>\n",
       "\t<li>0.967417297543179</li>\n",
       "\t<li>0.967417297543179</li>\n",
       "\t<li>0.967417297543179</li>\n",
       "\t<li>0.967417297543179</li>\n",
       "</ol>\n"
      ],
      "text/latex": [
       "\\begin{enumerate*}\n",
       "\\item 0.967417297543179\n",
       "\\item 0.967417297543179\n",
       "\\item 0.967417297543179\n",
       "\\item 0.967417297543179\n",
       "\\item 0.967417297543179\n",
       "\\end{enumerate*}\n"
      ],
      "text/markdown": [
       "1. 0.967417297543179\n",
       "2. 0.967417297543179\n",
       "3. 0.967417297543179\n",
       "4. 0.967417297543179\n",
       "5. 0.967417297543179\n",
       "\n",
       "\n"
      ],
      "text/plain": [
       "[1] 0.9674173 0.9674173 0.9674173 0.9674173 0.9674173"
      ]
     },
     "metadata": {},
     "output_type": "display_data"
    }
   ],
   "source": [
    "pval<-c()\n",
    "\n",
    "for (i in 8:ncol(nonzero_wMeta)) \n",
    "pval<-c(pval,wilcox.test(nonzero_wMeta[,i]~nonzero_wMeta$Treatmentgroup)$p.value)\n",
    "head(pval)\n",
    "pAdj <- p.adjust(pval, method = c(\"fdr\"), n=length(pval)) \n",
    "head(pAdj) \n",
    "\n"
   ]
  },
  {
   "cell_type": "code",
   "execution_count": 6,
   "metadata": {
    "scrolled": true
   },
   "outputs": [
    {
     "data": {
      "text/html": [
       "5"
      ],
      "text/latex": [
       "5"
      ],
      "text/markdown": [
       "5"
      ],
      "text/plain": [
       "[1] 5"
      ]
     },
     "metadata": {},
     "output_type": "display_data"
    }
   ],
   "source": [
    "length(pval)"
   ]
  },
  {
   "cell_type": "code",
   "execution_count": 7,
   "metadata": {
    "scrolled": true
   },
   "outputs": [
    {
     "data": {
      "text/html": [
       "5"
      ],
      "text/latex": [
       "5"
      ],
      "text/markdown": [
       "5"
      ],
      "text/plain": [
       "[1] 5"
      ]
     },
     "metadata": {},
     "output_type": "display_data"
    }
   ],
   "source": [
    "length(pAdj)"
   ]
  },
  {
   "cell_type": "code",
   "execution_count": 8,
   "metadata": {},
   "outputs": [
    {
     "data": {
      "text/html": [
       "<ol class=list-inline>\n",
       "\t<li>2</li>\n",
       "\t<li>5</li>\n",
       "</ol>\n"
      ],
      "text/latex": [
       "\\begin{enumerate*}\n",
       "\\item 2\n",
       "\\item 5\n",
       "\\end{enumerate*}\n"
      ],
      "text/markdown": [
       "1. 2\n",
       "2. 5\n",
       "\n",
       "\n"
      ],
      "text/plain": [
       "[1] 2 5"
      ]
     },
     "metadata": {},
     "output_type": "display_data"
    },
    {
     "data": {
      "text/html": [
       "<table>\n",
       "<thead><tr><th></th><th scope=col>mass_400</th><th scope=col>mass_500</th><th scope=col>mass_600</th></tr></thead>\n",
       "<tbody>\n",
       "\t<tr><th scope=row>combo</th><td>0.001997145</td><td>0.002538277</td><td>4.10296e-05</td></tr>\n",
       "\t<tr><th scope=row>infected</th><td>0.001994611</td><td>0.002396089</td><td>1.85564e-05</td></tr>\n",
       "</tbody>\n",
       "</table>\n"
      ],
      "text/latex": [
       "\\begin{tabular}{r|lll}\n",
       "  & mass\\_400 & mass\\_500 & mass\\_600\\\\\n",
       "\\hline\n",
       "\tcombo & 0.001997145 & 0.002538277 & 4.10296e-05\\\\\n",
       "\tinfected & 0.001994611 & 0.002396089 & 1.85564e-05\\\\\n",
       "\\end{tabular}\n"
      ],
      "text/markdown": [
       "\n",
       "| <!--/--> | mass_400 | mass_500 | mass_600 |\n",
       "|---|---|---|---|\n",
       "| combo | 0.001997145 | 0.002538277 | 4.10296e-05 |\n",
       "| infected | 0.001994611 | 0.002396089 | 1.85564e-05 |\n",
       "\n"
      ],
      "text/plain": [
       "         mass_400    mass_500    mass_600   \n",
       "combo    0.001997145 0.002538277 4.10296e-05\n",
       "infected 0.001994611 0.002396089 1.85564e-05"
      ]
     },
     "metadata": {},
     "output_type": "display_data"
    },
    {
     "data": {
      "text/html": [
       "<dl class=dl-horizontal>\n",
       "\t<dt>mass_400</dt>\n",
       "\t\t<dd>1.00127072426303</dd>\n",
       "\t<dt>mass_500</dt>\n",
       "\t\t<dd>1.05934144853877</dd>\n",
       "\t<dt>mass_600</dt>\n",
       "\t\t<dd>2.21107542411244</dd>\n",
       "\t<dt>mass_700</dt>\n",
       "\t\t<dd>1.09175391298656</dd>\n",
       "\t<dt>mass_800</dt>\n",
       "\t\t<dd>0.834422585438336</dd>\n",
       "</dl>\n"
      ],
      "text/latex": [
       "\\begin{description*}\n",
       "\\item[mass\\textbackslash{}\\_400] 1.00127072426303\n",
       "\\item[mass\\textbackslash{}\\_500] 1.05934144853877\n",
       "\\item[mass\\textbackslash{}\\_600] 2.21107542411244\n",
       "\\item[mass\\textbackslash{}\\_700] 1.09175391298656\n",
       "\\item[mass\\textbackslash{}\\_800] 0.834422585438336\n",
       "\\end{description*}\n"
      ],
      "text/markdown": [
       "mass_400\n",
       ":   1.00127072426303mass_500\n",
       ":   1.05934144853877mass_600\n",
       ":   2.21107542411244mass_700\n",
       ":   1.09175391298656mass_800\n",
       ":   0.834422585438336\n",
       "\n"
      ],
      "text/plain": [
       " mass_400  mass_500  mass_600  mass_700  mass_800 \n",
       "1.0012707 1.0593414 2.2110754 1.0917539 0.8344226 "
      ]
     },
     "metadata": {},
     "output_type": "display_data"
    },
    {
     "data": {
      "text/html": [
       "<ol class=list-inline>\n",
       "\t<li>'numeric'</li>\n",
       "\t<li>'vector'</li>\n",
       "</ol>\n"
      ],
      "text/latex": [
       "\\begin{enumerate*}\n",
       "\\item 'numeric'\n",
       "\\item 'vector'\n",
       "\\end{enumerate*}\n"
      ],
      "text/markdown": [
       "1. 'numeric'\n",
       "2. 'vector'\n",
       "\n",
       "\n"
      ],
      "text/plain": [
       "[1] \"numeric\" \"vector\" "
      ]
     },
     "metadata": {},
     "output_type": "display_data"
    }
   ],
   "source": [
    "avg<- apply(nonzero_wMeta[,8:ncol(nonzero_wMeta)], 2, function(x) tapply(x, nonzero_wMeta$Treatmentgroup, function(x) mean(x))) \n",
    "\n",
    "dim(avg)\n",
    "\n",
    "avg[,1:3]\n",
    "\n",
    "fch <- apply(avg, 2, function(x) x[1]/x[2])\n",
    "\n",
    "head(fch) \n",
    "is(fch)"
   ]
  },
  {
   "cell_type": "code",
   "execution_count": 9,
   "metadata": {
    "scrolled": true
   },
   "outputs": [
    {
     "data": {
      "text/html": [
       "<dl class=dl-horizontal>\n",
       "\t<dt>mass_400</dt>\n",
       "\t\t<dd>1.00127072426303</dd>\n",
       "\t<dt>mass_500</dt>\n",
       "\t\t<dd>1.05934144853877</dd>\n",
       "\t<dt>mass_600</dt>\n",
       "\t\t<dd>2.21107542411244</dd>\n",
       "\t<dt>mass_700</dt>\n",
       "\t\t<dd>1.09175391298656</dd>\n",
       "\t<dt>mass_800</dt>\n",
       "\t\t<dd>0.834422585438336</dd>\n",
       "</dl>\n"
      ],
      "text/latex": [
       "\\begin{description*}\n",
       "\\item[mass\\textbackslash{}\\_400] 1.00127072426303\n",
       "\\item[mass\\textbackslash{}\\_500] 1.05934144853877\n",
       "\\item[mass\\textbackslash{}\\_600] 2.21107542411244\n",
       "\\item[mass\\textbackslash{}\\_700] 1.09175391298656\n",
       "\\item[mass\\textbackslash{}\\_800] 0.834422585438336\n",
       "\\end{description*}\n"
      ],
      "text/markdown": [
       "mass_400\n",
       ":   1.00127072426303mass_500\n",
       ":   1.05934144853877mass_600\n",
       ":   2.21107542411244mass_700\n",
       ":   1.09175391298656mass_800\n",
       ":   0.834422585438336\n",
       "\n"
      ],
      "text/plain": [
       " mass_400  mass_500  mass_600  mass_700  mass_800 \n",
       "1.0012707 1.0593414 2.2110754 1.0917539 0.8344226 "
      ]
     },
     "metadata": {},
     "output_type": "display_data"
    }
   ],
   "source": [
    "fch"
   ]
  },
  {
   "cell_type": "code",
   "execution_count": 10,
   "metadata": {
    "scrolled": false
   },
   "outputs": [],
   "source": [
    "df <- data.frame(fch,pval, pAdj)\n",
    "write.csv(df, \"PE-treat-LA-wilcox-infected-combo.csv\")"
   ]
  },
  {
   "cell_type": "code",
   "execution_count": null,
   "metadata": {},
   "outputs": [],
   "source": []
  },
  {
   "cell_type": "code",
   "execution_count": null,
   "metadata": {},
   "outputs": [],
   "source": []
  },
  {
   "cell_type": "code",
   "execution_count": null,
   "metadata": {},
   "outputs": [],
   "source": []
  },
  {
   "cell_type": "code",
   "execution_count": null,
   "metadata": {},
   "outputs": [],
   "source": []
  },
  {
   "cell_type": "code",
   "execution_count": null,
   "metadata": {},
   "outputs": [],
   "source": []
  },
  {
   "cell_type": "code",
   "execution_count": null,
   "metadata": {},
   "outputs": [],
   "source": []
  }
 ],
 "metadata": {
  "kernelspec": {
   "display_name": "R",
   "language": "R",
   "name": "ir"
  },
  "language_info": {
   "codemirror_mode": "r",
   "file_extension": ".r",
   "mimetype": "text/x-r-source",
   "name": "R",
   "pygments_lexer": "r",
   "version": "3.6.1"
  }
 },
 "nbformat": 4,
 "nbformat_minor": 2
}
