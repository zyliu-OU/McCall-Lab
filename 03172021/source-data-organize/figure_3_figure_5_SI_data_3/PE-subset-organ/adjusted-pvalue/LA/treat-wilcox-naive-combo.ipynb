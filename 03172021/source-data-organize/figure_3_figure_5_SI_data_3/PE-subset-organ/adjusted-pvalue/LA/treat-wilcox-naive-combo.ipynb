{
 "cells": [
  {
   "cell_type": "code",
   "execution_count": 21,
   "metadata": {},
   "outputs": [],
   "source": [
    "a <- read.csv(\"03172021-PE-treatment-LA-M-F.csv\")"
   ]
  },
  {
   "cell_type": "code",
   "execution_count": 22,
   "metadata": {},
   "outputs": [
    {
     "data": {
      "text/html": [
       "<table>\n",
       "<thead><tr><th scope=col>filename</th><th scope=col>MouseID</th><th scope=col>Treatmentgroup</th><th scope=col>DPI</th><th scope=col>organ</th><th scope=col>well_position</th><th scope=col>plate</th><th scope=col>mass_400</th><th scope=col>mass_500</th><th scope=col>mass_600</th><th scope=col>mass_700</th><th scope=col>mass_800</th></tr></thead>\n",
       "<tbody>\n",
       "\t<tr><td>X511_Group1C_142dpi_LA_161_G_A1_P120.mzXML</td><td>511                                       </td><td>naive                                     </td><td>142dpi                                    </td><td>LA                                        </td><td>A1                                        </td><td>P120                                      </td><td>0.002077955                               </td><td>0.002490702                               </td><td>0.00e+00                                  </td><td>0.000232453                               </td><td>0.000149389                               </td></tr>\n",
       "\t<tr><td>X512_Group1C_142dpi_LA_162_G_A2_P120.mzXML</td><td>512                                       </td><td>naive                                     </td><td>142dpi                                    </td><td>LA                                        </td><td>A2                                        </td><td>P120                                      </td><td>0.001422483                               </td><td>0.001827962                               </td><td>2.59e-05                                  </td><td>0.000955615                               </td><td>0.000000000                               </td></tr>\n",
       "\t<tr><td>X513_Group1C_142dpi_LA_163_G_A3_P120.mzXML</td><td>513                                       </td><td>naive                                     </td><td>142dpi                                    </td><td>LA                                        </td><td>A3                                        </td><td>P120                                      </td><td>0.000422008                               </td><td>0.001031656                               </td><td>4.61e-05                                  </td><td>0.000000000                               </td><td>0.000000000                               </td></tr>\n",
       "\t<tr><td>X514_Group1C_142dpi_LA_164_G_A4_P120.mzXML</td><td>514                                       </td><td>naive                                     </td><td>142dpi                                    </td><td>LA                                        </td><td>A4                                        </td><td>P120                                      </td><td>0.001861510                               </td><td>0.002679198                               </td><td>1.95e-05                                  </td><td>0.001053337                               </td><td>0.000081800                               </td></tr>\n",
       "\t<tr><td>X515_Group1C_142dpi_LA_165_G_A5_P120.mzXML</td><td>515                                       </td><td>naive                                     </td><td>142dpi                                    </td><td>LA                                        </td><td>A5                                        </td><td>P120                                      </td><td>0.001966674                               </td><td>0.002742174                               </td><td>2.00e-05                                  </td><td>0.000639894                               </td><td>0.000151910                               </td></tr>\n",
       "\t<tr><td>X531_Group1C_142dpi_LA_166_G_A6_P120.mzXML</td><td>531                                       </td><td>naive                                     </td><td>142dpi                                    </td><td>LA                                        </td><td>A6                                        </td><td>P120                                      </td><td>0.001182584                               </td><td>0.001621899                               </td><td>3.75e-05                                  </td><td>0.000000000                               </td><td>0.000000000                               </td></tr>\n",
       "</tbody>\n",
       "</table>\n"
      ],
      "text/latex": [
       "\\begin{tabular}{r|llllllllllll}\n",
       " filename & MouseID & Treatmentgroup & DPI & organ & well\\_position & plate & mass\\_400 & mass\\_500 & mass\\_600 & mass\\_700 & mass\\_800\\\\\n",
       "\\hline\n",
       "\t X511\\_Group1C\\_142dpi\\_LA\\_161\\_G\\_A1\\_P120.mzXML & 511                                                      & naive                                                    & 142dpi                                                   & LA                                                       & A1                                                       & P120                                                     & 0.002077955                                              & 0.002490702                                              & 0.00e+00                                                 & 0.000232453                                              & 0.000149389                                             \\\\\n",
       "\t X512\\_Group1C\\_142dpi\\_LA\\_162\\_G\\_A2\\_P120.mzXML & 512                                                      & naive                                                    & 142dpi                                                   & LA                                                       & A2                                                       & P120                                                     & 0.001422483                                              & 0.001827962                                              & 2.59e-05                                                 & 0.000955615                                              & 0.000000000                                             \\\\\n",
       "\t X513\\_Group1C\\_142dpi\\_LA\\_163\\_G\\_A3\\_P120.mzXML & 513                                                      & naive                                                    & 142dpi                                                   & LA                                                       & A3                                                       & P120                                                     & 0.000422008                                              & 0.001031656                                              & 4.61e-05                                                 & 0.000000000                                              & 0.000000000                                             \\\\\n",
       "\t X514\\_Group1C\\_142dpi\\_LA\\_164\\_G\\_A4\\_P120.mzXML & 514                                                      & naive                                                    & 142dpi                                                   & LA                                                       & A4                                                       & P120                                                     & 0.001861510                                              & 0.002679198                                              & 1.95e-05                                                 & 0.001053337                                              & 0.000081800                                             \\\\\n",
       "\t X515\\_Group1C\\_142dpi\\_LA\\_165\\_G\\_A5\\_P120.mzXML & 515                                                      & naive                                                    & 142dpi                                                   & LA                                                       & A5                                                       & P120                                                     & 0.001966674                                              & 0.002742174                                              & 2.00e-05                                                 & 0.000639894                                              & 0.000151910                                             \\\\\n",
       "\t X531\\_Group1C\\_142dpi\\_LA\\_166\\_G\\_A6\\_P120.mzXML & 531                                                      & naive                                                    & 142dpi                                                   & LA                                                       & A6                                                       & P120                                                     & 0.001182584                                              & 0.001621899                                              & 3.75e-05                                                 & 0.000000000                                              & 0.000000000                                             \\\\\n",
       "\\end{tabular}\n"
      ],
      "text/markdown": [
       "\n",
       "| filename | MouseID | Treatmentgroup | DPI | organ | well_position | plate | mass_400 | mass_500 | mass_600 | mass_700 | mass_800 |\n",
       "|---|---|---|---|---|---|---|---|---|---|---|---|\n",
       "| X511_Group1C_142dpi_LA_161_G_A1_P120.mzXML | 511                                        | naive                                      | 142dpi                                     | LA                                         | A1                                         | P120                                       | 0.002077955                                | 0.002490702                                | 0.00e+00                                   | 0.000232453                                | 0.000149389                                |\n",
       "| X512_Group1C_142dpi_LA_162_G_A2_P120.mzXML | 512                                        | naive                                      | 142dpi                                     | LA                                         | A2                                         | P120                                       | 0.001422483                                | 0.001827962                                | 2.59e-05                                   | 0.000955615                                | 0.000000000                                |\n",
       "| X513_Group1C_142dpi_LA_163_G_A3_P120.mzXML | 513                                        | naive                                      | 142dpi                                     | LA                                         | A3                                         | P120                                       | 0.000422008                                | 0.001031656                                | 4.61e-05                                   | 0.000000000                                | 0.000000000                                |\n",
       "| X514_Group1C_142dpi_LA_164_G_A4_P120.mzXML | 514                                        | naive                                      | 142dpi                                     | LA                                         | A4                                         | P120                                       | 0.001861510                                | 0.002679198                                | 1.95e-05                                   | 0.001053337                                | 0.000081800                                |\n",
       "| X515_Group1C_142dpi_LA_165_G_A5_P120.mzXML | 515                                        | naive                                      | 142dpi                                     | LA                                         | A5                                         | P120                                       | 0.001966674                                | 0.002742174                                | 2.00e-05                                   | 0.000639894                                | 0.000151910                                |\n",
       "| X531_Group1C_142dpi_LA_166_G_A6_P120.mzXML | 531                                        | naive                                      | 142dpi                                     | LA                                         | A6                                         | P120                                       | 0.001182584                                | 0.001621899                                | 3.75e-05                                   | 0.000000000                                | 0.000000000                                |\n",
       "\n"
      ],
      "text/plain": [
       "  filename                                   MouseID Treatmentgroup DPI   \n",
       "1 X511_Group1C_142dpi_LA_161_G_A1_P120.mzXML 511     naive          142dpi\n",
       "2 X512_Group1C_142dpi_LA_162_G_A2_P120.mzXML 512     naive          142dpi\n",
       "3 X513_Group1C_142dpi_LA_163_G_A3_P120.mzXML 513     naive          142dpi\n",
       "4 X514_Group1C_142dpi_LA_164_G_A4_P120.mzXML 514     naive          142dpi\n",
       "5 X515_Group1C_142dpi_LA_165_G_A5_P120.mzXML 515     naive          142dpi\n",
       "6 X531_Group1C_142dpi_LA_166_G_A6_P120.mzXML 531     naive          142dpi\n",
       "  organ well_position plate mass_400    mass_500    mass_600 mass_700   \n",
       "1 LA    A1            P120  0.002077955 0.002490702 0.00e+00 0.000232453\n",
       "2 LA    A2            P120  0.001422483 0.001827962 2.59e-05 0.000955615\n",
       "3 LA    A3            P120  0.000422008 0.001031656 4.61e-05 0.000000000\n",
       "4 LA    A4            P120  0.001861510 0.002679198 1.95e-05 0.001053337\n",
       "5 LA    A5            P120  0.001966674 0.002742174 2.00e-05 0.000639894\n",
       "6 LA    A6            P120  0.001182584 0.001621899 3.75e-05 0.000000000\n",
       "  mass_800   \n",
       "1 0.000149389\n",
       "2 0.000000000\n",
       "3 0.000000000\n",
       "4 0.000081800\n",
       "5 0.000151910\n",
       "6 0.000000000"
      ]
     },
     "metadata": {},
     "output_type": "display_data"
    },
    {
     "data": {
      "text/html": [
       "<ol class=list-inline>\n",
       "\t<li>60</li>\n",
       "\t<li>12</li>\n",
       "</ol>\n"
      ],
      "text/latex": [
       "\\begin{enumerate*}\n",
       "\\item 60\n",
       "\\item 12\n",
       "\\end{enumerate*}\n"
      ],
      "text/markdown": [
       "1. 60\n",
       "2. 12\n",
       "\n",
       "\n"
      ],
      "text/plain": [
       "[1] 60 12"
      ]
     },
     "metadata": {},
     "output_type": "display_data"
    }
   ],
   "source": [
    "head(a)\n",
    "dim(a)"
   ]
  },
  {
   "cell_type": "code",
   "execution_count": 23,
   "metadata": {},
   "outputs": [
    {
     "data": {
      "text/html": [
       "<table>\n",
       "<thead><tr><th scope=col>filename</th><th scope=col>MouseID</th><th scope=col>Treatmentgroup</th><th scope=col>DPI</th><th scope=col>organ</th><th scope=col>well_position</th><th scope=col>plate</th><th scope=col>mass_400</th><th scope=col>mass_500</th><th scope=col>mass_600</th><th scope=col>mass_700</th><th scope=col>mass_800</th></tr></thead>\n",
       "<tbody>\n",
       "\t<tr><td>X511_Group1C_142dpi_LA_161_G_A1_P120.mzXML</td><td>511                                       </td><td>naive                                     </td><td>142dpi                                    </td><td>LA                                        </td><td>A1                                        </td><td>P120                                      </td><td>0.002077955                               </td><td>0.002490702                               </td><td>0.00e+00                                  </td><td>0.000232453                               </td><td>0.000149389                               </td></tr>\n",
       "\t<tr><td>X512_Group1C_142dpi_LA_162_G_A2_P120.mzXML</td><td>512                                       </td><td>naive                                     </td><td>142dpi                                    </td><td>LA                                        </td><td>A2                                        </td><td>P120                                      </td><td>0.001422483                               </td><td>0.001827962                               </td><td>2.59e-05                                  </td><td>0.000955615                               </td><td>0.000000000                               </td></tr>\n",
       "\t<tr><td>X513_Group1C_142dpi_LA_163_G_A3_P120.mzXML</td><td>513                                       </td><td>naive                                     </td><td>142dpi                                    </td><td>LA                                        </td><td>A3                                        </td><td>P120                                      </td><td>0.000422008                               </td><td>0.001031656                               </td><td>4.61e-05                                  </td><td>0.000000000                               </td><td>0.000000000                               </td></tr>\n",
       "\t<tr><td>X514_Group1C_142dpi_LA_164_G_A4_P120.mzXML</td><td>514                                       </td><td>naive                                     </td><td>142dpi                                    </td><td>LA                                        </td><td>A4                                        </td><td>P120                                      </td><td>0.001861510                               </td><td>0.002679198                               </td><td>1.95e-05                                  </td><td>0.001053337                               </td><td>0.000081800                               </td></tr>\n",
       "\t<tr><td>X515_Group1C_142dpi_LA_165_G_A5_P120.mzXML</td><td>515                                       </td><td>naive                                     </td><td>142dpi                                    </td><td>LA                                        </td><td>A5                                        </td><td>P120                                      </td><td>0.001966674                               </td><td>0.002742174                               </td><td>2.00e-05                                  </td><td>0.000639894                               </td><td>0.000151910                               </td></tr>\n",
       "\t<tr><td>X531_Group1C_142dpi_LA_166_G_A6_P120.mzXML</td><td>531                                       </td><td>naive                                     </td><td>142dpi                                    </td><td>LA                                        </td><td>A6                                        </td><td>P120                                      </td><td>0.001182584                               </td><td>0.001621899                               </td><td>3.75e-05                                  </td><td>0.000000000                               </td><td>0.000000000                               </td></tr>\n",
       "</tbody>\n",
       "</table>\n"
      ],
      "text/latex": [
       "\\begin{tabular}{r|llllllllllll}\n",
       " filename & MouseID & Treatmentgroup & DPI & organ & well\\_position & plate & mass\\_400 & mass\\_500 & mass\\_600 & mass\\_700 & mass\\_800\\\\\n",
       "\\hline\n",
       "\t X511\\_Group1C\\_142dpi\\_LA\\_161\\_G\\_A1\\_P120.mzXML & 511                                                      & naive                                                    & 142dpi                                                   & LA                                                       & A1                                                       & P120                                                     & 0.002077955                                              & 0.002490702                                              & 0.00e+00                                                 & 0.000232453                                              & 0.000149389                                             \\\\\n",
       "\t X512\\_Group1C\\_142dpi\\_LA\\_162\\_G\\_A2\\_P120.mzXML & 512                                                      & naive                                                    & 142dpi                                                   & LA                                                       & A2                                                       & P120                                                     & 0.001422483                                              & 0.001827962                                              & 2.59e-05                                                 & 0.000955615                                              & 0.000000000                                             \\\\\n",
       "\t X513\\_Group1C\\_142dpi\\_LA\\_163\\_G\\_A3\\_P120.mzXML & 513                                                      & naive                                                    & 142dpi                                                   & LA                                                       & A3                                                       & P120                                                     & 0.000422008                                              & 0.001031656                                              & 4.61e-05                                                 & 0.000000000                                              & 0.000000000                                             \\\\\n",
       "\t X514\\_Group1C\\_142dpi\\_LA\\_164\\_G\\_A4\\_P120.mzXML & 514                                                      & naive                                                    & 142dpi                                                   & LA                                                       & A4                                                       & P120                                                     & 0.001861510                                              & 0.002679198                                              & 1.95e-05                                                 & 0.001053337                                              & 0.000081800                                             \\\\\n",
       "\t X515\\_Group1C\\_142dpi\\_LA\\_165\\_G\\_A5\\_P120.mzXML & 515                                                      & naive                                                    & 142dpi                                                   & LA                                                       & A5                                                       & P120                                                     & 0.001966674                                              & 0.002742174                                              & 2.00e-05                                                 & 0.000639894                                              & 0.000151910                                             \\\\\n",
       "\t X531\\_Group1C\\_142dpi\\_LA\\_166\\_G\\_A6\\_P120.mzXML & 531                                                      & naive                                                    & 142dpi                                                   & LA                                                       & A6                                                       & P120                                                     & 0.001182584                                              & 0.001621899                                              & 3.75e-05                                                 & 0.000000000                                              & 0.000000000                                             \\\\\n",
       "\\end{tabular}\n"
      ],
      "text/markdown": [
       "\n",
       "| filename | MouseID | Treatmentgroup | DPI | organ | well_position | plate | mass_400 | mass_500 | mass_600 | mass_700 | mass_800 |\n",
       "|---|---|---|---|---|---|---|---|---|---|---|---|\n",
       "| X511_Group1C_142dpi_LA_161_G_A1_P120.mzXML | 511                                        | naive                                      | 142dpi                                     | LA                                         | A1                                         | P120                                       | 0.002077955                                | 0.002490702                                | 0.00e+00                                   | 0.000232453                                | 0.000149389                                |\n",
       "| X512_Group1C_142dpi_LA_162_G_A2_P120.mzXML | 512                                        | naive                                      | 142dpi                                     | LA                                         | A2                                         | P120                                       | 0.001422483                                | 0.001827962                                | 2.59e-05                                   | 0.000955615                                | 0.000000000                                |\n",
       "| X513_Group1C_142dpi_LA_163_G_A3_P120.mzXML | 513                                        | naive                                      | 142dpi                                     | LA                                         | A3                                         | P120                                       | 0.000422008                                | 0.001031656                                | 4.61e-05                                   | 0.000000000                                | 0.000000000                                |\n",
       "| X514_Group1C_142dpi_LA_164_G_A4_P120.mzXML | 514                                        | naive                                      | 142dpi                                     | LA                                         | A4                                         | P120                                       | 0.001861510                                | 0.002679198                                | 1.95e-05                                   | 0.001053337                                | 0.000081800                                |\n",
       "| X515_Group1C_142dpi_LA_165_G_A5_P120.mzXML | 515                                        | naive                                      | 142dpi                                     | LA                                         | A5                                         | P120                                       | 0.001966674                                | 0.002742174                                | 2.00e-05                                   | 0.000639894                                | 0.000151910                                |\n",
       "| X531_Group1C_142dpi_LA_166_G_A6_P120.mzXML | 531                                        | naive                                      | 142dpi                                     | LA                                         | A6                                         | P120                                       | 0.001182584                                | 0.001621899                                | 3.75e-05                                   | 0.000000000                                | 0.000000000                                |\n",
       "\n"
      ],
      "text/plain": [
       "  filename                                   MouseID Treatmentgroup DPI   \n",
       "1 X511_Group1C_142dpi_LA_161_G_A1_P120.mzXML 511     naive          142dpi\n",
       "2 X512_Group1C_142dpi_LA_162_G_A2_P120.mzXML 512     naive          142dpi\n",
       "3 X513_Group1C_142dpi_LA_163_G_A3_P120.mzXML 513     naive          142dpi\n",
       "4 X514_Group1C_142dpi_LA_164_G_A4_P120.mzXML 514     naive          142dpi\n",
       "5 X515_Group1C_142dpi_LA_165_G_A5_P120.mzXML 515     naive          142dpi\n",
       "6 X531_Group1C_142dpi_LA_166_G_A6_P120.mzXML 531     naive          142dpi\n",
       "  organ well_position plate mass_400    mass_500    mass_600 mass_700   \n",
       "1 LA    A1            P120  0.002077955 0.002490702 0.00e+00 0.000232453\n",
       "2 LA    A2            P120  0.001422483 0.001827962 2.59e-05 0.000955615\n",
       "3 LA    A3            P120  0.000422008 0.001031656 4.61e-05 0.000000000\n",
       "4 LA    A4            P120  0.001861510 0.002679198 1.95e-05 0.001053337\n",
       "5 LA    A5            P120  0.001966674 0.002742174 2.00e-05 0.000639894\n",
       "6 LA    A6            P120  0.001182584 0.001621899 3.75e-05 0.000000000\n",
       "  mass_800   \n",
       "1 0.000149389\n",
       "2 0.000000000\n",
       "3 0.000000000\n",
       "4 0.000081800\n",
       "5 0.000151910\n",
       "6 0.000000000"
      ]
     },
     "metadata": {},
     "output_type": "display_data"
    },
    {
     "data": {
      "text/html": [
       "<ol class=list-inline>\n",
       "\t<li>30</li>\n",
       "\t<li>12</li>\n",
       "</ol>\n"
      ],
      "text/latex": [
       "\\begin{enumerate*}\n",
       "\\item 30\n",
       "\\item 12\n",
       "\\end{enumerate*}\n"
      ],
      "text/markdown": [
       "1. 30\n",
       "2. 12\n",
       "\n",
       "\n"
      ],
      "text/plain": [
       "[1] 30 12"
      ]
     },
     "metadata": {},
     "output_type": "display_data"
    }
   ],
   "source": [
    "features_pos<-droplevels(subset(a, a$Treatmentgroup==c(\"naive\")|a$Treatmentgroup==c(\"combo\")))\n",
    "head(features_pos)\n",
    "dim(features_pos)"
   ]
  },
  {
   "cell_type": "code",
   "execution_count": 24,
   "metadata": {
    "scrolled": false
   },
   "outputs": [
    {
     "data": {
      "text/html": [
       "<table>\n",
       "<thead><tr><th scope=col>mass_400</th><th scope=col>mass_500</th><th scope=col>mass_600</th><th scope=col>mass_700</th><th scope=col>mass_800</th></tr></thead>\n",
       "<tbody>\n",
       "\t<tr><td>0.002077955</td><td>0.002490702</td><td>0.00e+00   </td><td>0.000232453</td><td>0.000149389</td></tr>\n",
       "\t<tr><td>0.001422483</td><td>0.001827962</td><td>2.59e-05   </td><td>0.000955615</td><td>0.000000000</td></tr>\n",
       "\t<tr><td>0.000422008</td><td>0.001031656</td><td>4.61e-05   </td><td>0.000000000</td><td>0.000000000</td></tr>\n",
       "\t<tr><td>0.001861510</td><td>0.002679198</td><td>1.95e-05   </td><td>0.001053337</td><td>0.000081800</td></tr>\n",
       "\t<tr><td>0.001966674</td><td>0.002742174</td><td>2.00e-05   </td><td>0.000639894</td><td>0.000151910</td></tr>\n",
       "\t<tr><td>0.001182584</td><td>0.001621899</td><td>3.75e-05   </td><td>0.000000000</td><td>0.000000000</td></tr>\n",
       "</tbody>\n",
       "</table>\n"
      ],
      "text/latex": [
       "\\begin{tabular}{r|lllll}\n",
       " mass\\_400 & mass\\_500 & mass\\_600 & mass\\_700 & mass\\_800\\\\\n",
       "\\hline\n",
       "\t 0.002077955 & 0.002490702 & 0.00e+00    & 0.000232453 & 0.000149389\\\\\n",
       "\t 0.001422483 & 0.001827962 & 2.59e-05    & 0.000955615 & 0.000000000\\\\\n",
       "\t 0.000422008 & 0.001031656 & 4.61e-05    & 0.000000000 & 0.000000000\\\\\n",
       "\t 0.001861510 & 0.002679198 & 1.95e-05    & 0.001053337 & 0.000081800\\\\\n",
       "\t 0.001966674 & 0.002742174 & 2.00e-05    & 0.000639894 & 0.000151910\\\\\n",
       "\t 0.001182584 & 0.001621899 & 3.75e-05    & 0.000000000 & 0.000000000\\\\\n",
       "\\end{tabular}\n"
      ],
      "text/markdown": [
       "\n",
       "| mass_400 | mass_500 | mass_600 | mass_700 | mass_800 |\n",
       "|---|---|---|---|---|\n",
       "| 0.002077955 | 0.002490702 | 0.00e+00    | 0.000232453 | 0.000149389 |\n",
       "| 0.001422483 | 0.001827962 | 2.59e-05    | 0.000955615 | 0.000000000 |\n",
       "| 0.000422008 | 0.001031656 | 4.61e-05    | 0.000000000 | 0.000000000 |\n",
       "| 0.001861510 | 0.002679198 | 1.95e-05    | 0.001053337 | 0.000081800 |\n",
       "| 0.001966674 | 0.002742174 | 2.00e-05    | 0.000639894 | 0.000151910 |\n",
       "| 0.001182584 | 0.001621899 | 3.75e-05    | 0.000000000 | 0.000000000 |\n",
       "\n"
      ],
      "text/plain": [
       "  mass_400    mass_500    mass_600 mass_700    mass_800   \n",
       "1 0.002077955 0.002490702 0.00e+00 0.000232453 0.000149389\n",
       "2 0.001422483 0.001827962 2.59e-05 0.000955615 0.000000000\n",
       "3 0.000422008 0.001031656 4.61e-05 0.000000000 0.000000000\n",
       "4 0.001861510 0.002679198 1.95e-05 0.001053337 0.000081800\n",
       "5 0.001966674 0.002742174 2.00e-05 0.000639894 0.000151910\n",
       "6 0.001182584 0.001621899 3.75e-05 0.000000000 0.000000000"
      ]
     },
     "metadata": {},
     "output_type": "display_data"
    },
    {
     "data": {
      "text/html": [
       "<dl class=dl-horizontal>\n",
       "\t<dt>mass_400</dt>\n",
       "\t\t<dd>1</dd>\n",
       "\t<dt>mass_500</dt>\n",
       "\t\t<dd>2</dd>\n",
       "\t<dt>mass_600</dt>\n",
       "\t\t<dd>3</dd>\n",
       "\t<dt>mass_700</dt>\n",
       "\t\t<dd>4</dd>\n",
       "\t<dt>mass_800</dt>\n",
       "\t\t<dd>5</dd>\n",
       "</dl>\n"
      ],
      "text/latex": [
       "\\begin{description*}\n",
       "\\item[mass\\textbackslash{}\\_400] 1\n",
       "\\item[mass\\textbackslash{}\\_500] 2\n",
       "\\item[mass\\textbackslash{}\\_600] 3\n",
       "\\item[mass\\textbackslash{}\\_700] 4\n",
       "\\item[mass\\textbackslash{}\\_800] 5\n",
       "\\end{description*}\n"
      ],
      "text/markdown": [
       "mass_400\n",
       ":   1mass_500\n",
       ":   2mass_600\n",
       ":   3mass_700\n",
       ":   4mass_800\n",
       ":   5\n",
       "\n"
      ],
      "text/plain": [
       "mass_400 mass_500 mass_600 mass_700 mass_800 \n",
       "       1        2        3        4        5 "
      ]
     },
     "metadata": {},
     "output_type": "display_data"
    },
    {
     "data": {
      "text/html": [
       "<table>\n",
       "<thead><tr><th></th><th scope=col>mass_400</th><th scope=col>mass_500</th><th scope=col>mass_600</th><th scope=col>mass_700</th><th scope=col>mass_800</th></tr></thead>\n",
       "<tbody>\n",
       "\t<tr><th scope=row>1</th><td>0.002077955</td><td>0.002490702</td><td>0.000000000</td><td>0.000232453</td><td>0.000149389</td></tr>\n",
       "\t<tr><th scope=row>2</th><td>0.001422483</td><td>0.001827962</td><td>0.000025900</td><td>0.000955615</td><td>0.000000000</td></tr>\n",
       "\t<tr><th scope=row>3</th><td>0.000422008</td><td>0.001031656</td><td>0.000046100</td><td>0.000000000</td><td>0.000000000</td></tr>\n",
       "\t<tr><th scope=row>4</th><td>0.001861510</td><td>0.002679198</td><td>0.000019500</td><td>0.001053337</td><td>0.000081800</td></tr>\n",
       "\t<tr><th scope=row>5</th><td>0.001966674</td><td>0.002742174</td><td>0.000020000</td><td>0.000639894</td><td>0.000151910</td></tr>\n",
       "\t<tr><th scope=row>6</th><td>0.001182584</td><td>0.001621899</td><td>0.000037500</td><td>0.000000000</td><td>0.000000000</td></tr>\n",
       "\t<tr><th scope=row>7</th><td>0.001504649</td><td>0.001894215</td><td>0.000056600</td><td>0.000106000</td><td>0.000000000</td></tr>\n",
       "\t<tr><th scope=row>8</th><td>0.000233053</td><td>0.000824168</td><td>0.000000000</td><td>0.000000000</td><td>0.000000000</td></tr>\n",
       "\t<tr><th scope=row>9</th><td>0.001368836</td><td>0.002097561</td><td>0.000023100</td><td>0.000500256</td><td>0.000077200</td></tr>\n",
       "\t<tr><th scope=row>10</th><td>0.000696004</td><td>0.002011549</td><td>0.000029500</td><td>0.002329258</td><td>0.000084800</td></tr>\n",
       "\t<tr><th scope=row>11</th><td>0.001927404</td><td>0.003465862</td><td>0.000073500</td><td>0.001539389</td><td>0.000180591</td></tr>\n",
       "\t<tr><th scope=row>12</th><td>0.001847992</td><td>0.003467323</td><td>0.000000000</td><td>0.002499821</td><td>0.000089000</td></tr>\n",
       "\t<tr><th scope=row>13</th><td>0.002746289</td><td>0.004157470</td><td>0.000101723</td><td>0.002059262</td><td>0.000232048</td></tr>\n",
       "\t<tr><th scope=row>14</th><td>0.000427877</td><td>0.001395300</td><td>0.000106390</td><td>0.000836145</td><td>0.000000000</td></tr>\n",
       "\t<tr><th scope=row>15</th><td>0.002605183</td><td>0.002725392</td><td>0.000000000</td><td>0.000988586</td><td>0.000120159</td></tr>\n",
       "\t<tr><th scope=row>21</th><td>0.002783635</td><td>0.003425629</td><td>0.000045600</td><td>0.000832183</td><td>0.000000000</td></tr>\n",
       "\t<tr><th scope=row>22</th><td>0.002159900</td><td>0.001721661</td><td>0.000000000</td><td>0.000350532</td><td>0.000000000</td></tr>\n",
       "\t<tr><th scope=row>23</th><td>0.001764529</td><td>0.001513378</td><td>0.000018700</td><td>0.000700973</td><td>0.000000000</td></tr>\n",
       "\t<tr><th scope=row>24</th><td>0.001613998</td><td>0.001328994</td><td>0.000000000</td><td>0.001203537</td><td>0.000000000</td></tr>\n",
       "\t<tr><th scope=row>25</th><td>0.001740730</td><td>0.003000567</td><td>0.000077000</td><td>0.000888956</td><td>0.000111877</td></tr>\n",
       "\t<tr><th scope=row>36</th><td>0.000337976</td><td>0.000736000</td><td>0.000000000</td><td>0.000000000</td><td>0.000000000</td></tr>\n",
       "\t<tr><th scope=row>37</th><td>0.001050271</td><td>0.001030000</td><td>0.000000000</td><td>0.000000000</td><td>0.000000000</td></tr>\n",
       "\t<tr><th scope=row>38</th><td>0.001770978</td><td>0.002450000</td><td>0.000000000</td><td>0.000940385</td><td>0.000000000</td></tr>\n",
       "\t<tr><th scope=row>39</th><td>0.003831133</td><td>0.004760299</td><td>0.000135928</td><td>0.002288139</td><td>0.000075700</td></tr>\n",
       "\t<tr><th scope=row>40</th><td>0.003709793</td><td>0.006821428</td><td>0.000120550</td><td>0.005153266</td><td>0.000292134</td></tr>\n",
       "\t<tr><th scope=row>51</th><td>0.001551798</td><td>0.002182888</td><td>0.000000000</td><td>0.000267723</td><td>0.000000000</td></tr>\n",
       "\t<tr><th scope=row>52</th><td>0.000842800</td><td>0.001290000</td><td>0.000000000</td><td>0.000000000</td><td>0.000000000</td></tr>\n",
       "\t<tr><th scope=row>53</th><td>0.001695478</td><td>0.001914254</td><td>0.000000000</td><td>0.000000000</td><td>0.000000000</td></tr>\n",
       "\t<tr><th scope=row>54</th><td>0.001015298</td><td>0.001010000</td><td>0.000000000</td><td>0.000000000</td><td>0.000000000</td></tr>\n",
       "\t<tr><th scope=row>55</th><td>0.004088860</td><td>0.004889050</td><td>0.000217666</td><td>0.002034145</td><td>0.000222247</td></tr>\n",
       "</tbody>\n",
       "</table>\n"
      ],
      "text/latex": [
       "\\begin{tabular}{r|lllll}\n",
       "  & mass\\_400 & mass\\_500 & mass\\_600 & mass\\_700 & mass\\_800\\\\\n",
       "\\hline\n",
       "\t1 & 0.002077955 & 0.002490702 & 0.000000000 & 0.000232453 & 0.000149389\\\\\n",
       "\t2 & 0.001422483 & 0.001827962 & 0.000025900 & 0.000955615 & 0.000000000\\\\\n",
       "\t3 & 0.000422008 & 0.001031656 & 0.000046100 & 0.000000000 & 0.000000000\\\\\n",
       "\t4 & 0.001861510 & 0.002679198 & 0.000019500 & 0.001053337 & 0.000081800\\\\\n",
       "\t5 & 0.001966674 & 0.002742174 & 0.000020000 & 0.000639894 & 0.000151910\\\\\n",
       "\t6 & 0.001182584 & 0.001621899 & 0.000037500 & 0.000000000 & 0.000000000\\\\\n",
       "\t7 & 0.001504649 & 0.001894215 & 0.000056600 & 0.000106000 & 0.000000000\\\\\n",
       "\t8 & 0.000233053 & 0.000824168 & 0.000000000 & 0.000000000 & 0.000000000\\\\\n",
       "\t9 & 0.001368836 & 0.002097561 & 0.000023100 & 0.000500256 & 0.000077200\\\\\n",
       "\t10 & 0.000696004 & 0.002011549 & 0.000029500 & 0.002329258 & 0.000084800\\\\\n",
       "\t11 & 0.001927404 & 0.003465862 & 0.000073500 & 0.001539389 & 0.000180591\\\\\n",
       "\t12 & 0.001847992 & 0.003467323 & 0.000000000 & 0.002499821 & 0.000089000\\\\\n",
       "\t13 & 0.002746289 & 0.004157470 & 0.000101723 & 0.002059262 & 0.000232048\\\\\n",
       "\t14 & 0.000427877 & 0.001395300 & 0.000106390 & 0.000836145 & 0.000000000\\\\\n",
       "\t15 & 0.002605183 & 0.002725392 & 0.000000000 & 0.000988586 & 0.000120159\\\\\n",
       "\t21 & 0.002783635 & 0.003425629 & 0.000045600 & 0.000832183 & 0.000000000\\\\\n",
       "\t22 & 0.002159900 & 0.001721661 & 0.000000000 & 0.000350532 & 0.000000000\\\\\n",
       "\t23 & 0.001764529 & 0.001513378 & 0.000018700 & 0.000700973 & 0.000000000\\\\\n",
       "\t24 & 0.001613998 & 0.001328994 & 0.000000000 & 0.001203537 & 0.000000000\\\\\n",
       "\t25 & 0.001740730 & 0.003000567 & 0.000077000 & 0.000888956 & 0.000111877\\\\\n",
       "\t36 & 0.000337976 & 0.000736000 & 0.000000000 & 0.000000000 & 0.000000000\\\\\n",
       "\t37 & 0.001050271 & 0.001030000 & 0.000000000 & 0.000000000 & 0.000000000\\\\\n",
       "\t38 & 0.001770978 & 0.002450000 & 0.000000000 & 0.000940385 & 0.000000000\\\\\n",
       "\t39 & 0.003831133 & 0.004760299 & 0.000135928 & 0.002288139 & 0.000075700\\\\\n",
       "\t40 & 0.003709793 & 0.006821428 & 0.000120550 & 0.005153266 & 0.000292134\\\\\n",
       "\t51 & 0.001551798 & 0.002182888 & 0.000000000 & 0.000267723 & 0.000000000\\\\\n",
       "\t52 & 0.000842800 & 0.001290000 & 0.000000000 & 0.000000000 & 0.000000000\\\\\n",
       "\t53 & 0.001695478 & 0.001914254 & 0.000000000 & 0.000000000 & 0.000000000\\\\\n",
       "\t54 & 0.001015298 & 0.001010000 & 0.000000000 & 0.000000000 & 0.000000000\\\\\n",
       "\t55 & 0.004088860 & 0.004889050 & 0.000217666 & 0.002034145 & 0.000222247\\\\\n",
       "\\end{tabular}\n"
      ],
      "text/markdown": [
       "\n",
       "| <!--/--> | mass_400 | mass_500 | mass_600 | mass_700 | mass_800 |\n",
       "|---|---|---|---|---|---|\n",
       "| 1 | 0.002077955 | 0.002490702 | 0.000000000 | 0.000232453 | 0.000149389 |\n",
       "| 2 | 0.001422483 | 0.001827962 | 0.000025900 | 0.000955615 | 0.000000000 |\n",
       "| 3 | 0.000422008 | 0.001031656 | 0.000046100 | 0.000000000 | 0.000000000 |\n",
       "| 4 | 0.001861510 | 0.002679198 | 0.000019500 | 0.001053337 | 0.000081800 |\n",
       "| 5 | 0.001966674 | 0.002742174 | 0.000020000 | 0.000639894 | 0.000151910 |\n",
       "| 6 | 0.001182584 | 0.001621899 | 0.000037500 | 0.000000000 | 0.000000000 |\n",
       "| 7 | 0.001504649 | 0.001894215 | 0.000056600 | 0.000106000 | 0.000000000 |\n",
       "| 8 | 0.000233053 | 0.000824168 | 0.000000000 | 0.000000000 | 0.000000000 |\n",
       "| 9 | 0.001368836 | 0.002097561 | 0.000023100 | 0.000500256 | 0.000077200 |\n",
       "| 10 | 0.000696004 | 0.002011549 | 0.000029500 | 0.002329258 | 0.000084800 |\n",
       "| 11 | 0.001927404 | 0.003465862 | 0.000073500 | 0.001539389 | 0.000180591 |\n",
       "| 12 | 0.001847992 | 0.003467323 | 0.000000000 | 0.002499821 | 0.000089000 |\n",
       "| 13 | 0.002746289 | 0.004157470 | 0.000101723 | 0.002059262 | 0.000232048 |\n",
       "| 14 | 0.000427877 | 0.001395300 | 0.000106390 | 0.000836145 | 0.000000000 |\n",
       "| 15 | 0.002605183 | 0.002725392 | 0.000000000 | 0.000988586 | 0.000120159 |\n",
       "| 21 | 0.002783635 | 0.003425629 | 0.000045600 | 0.000832183 | 0.000000000 |\n",
       "| 22 | 0.002159900 | 0.001721661 | 0.000000000 | 0.000350532 | 0.000000000 |\n",
       "| 23 | 0.001764529 | 0.001513378 | 0.000018700 | 0.000700973 | 0.000000000 |\n",
       "| 24 | 0.001613998 | 0.001328994 | 0.000000000 | 0.001203537 | 0.000000000 |\n",
       "| 25 | 0.001740730 | 0.003000567 | 0.000077000 | 0.000888956 | 0.000111877 |\n",
       "| 36 | 0.000337976 | 0.000736000 | 0.000000000 | 0.000000000 | 0.000000000 |\n",
       "| 37 | 0.001050271 | 0.001030000 | 0.000000000 | 0.000000000 | 0.000000000 |\n",
       "| 38 | 0.001770978 | 0.002450000 | 0.000000000 | 0.000940385 | 0.000000000 |\n",
       "| 39 | 0.003831133 | 0.004760299 | 0.000135928 | 0.002288139 | 0.000075700 |\n",
       "| 40 | 0.003709793 | 0.006821428 | 0.000120550 | 0.005153266 | 0.000292134 |\n",
       "| 51 | 0.001551798 | 0.002182888 | 0.000000000 | 0.000267723 | 0.000000000 |\n",
       "| 52 | 0.000842800 | 0.001290000 | 0.000000000 | 0.000000000 | 0.000000000 |\n",
       "| 53 | 0.001695478 | 0.001914254 | 0.000000000 | 0.000000000 | 0.000000000 |\n",
       "| 54 | 0.001015298 | 0.001010000 | 0.000000000 | 0.000000000 | 0.000000000 |\n",
       "| 55 | 0.004088860 | 0.004889050 | 0.000217666 | 0.002034145 | 0.000222247 |\n",
       "\n"
      ],
      "text/plain": [
       "   mass_400    mass_500    mass_600    mass_700    mass_800   \n",
       "1  0.002077955 0.002490702 0.000000000 0.000232453 0.000149389\n",
       "2  0.001422483 0.001827962 0.000025900 0.000955615 0.000000000\n",
       "3  0.000422008 0.001031656 0.000046100 0.000000000 0.000000000\n",
       "4  0.001861510 0.002679198 0.000019500 0.001053337 0.000081800\n",
       "5  0.001966674 0.002742174 0.000020000 0.000639894 0.000151910\n",
       "6  0.001182584 0.001621899 0.000037500 0.000000000 0.000000000\n",
       "7  0.001504649 0.001894215 0.000056600 0.000106000 0.000000000\n",
       "8  0.000233053 0.000824168 0.000000000 0.000000000 0.000000000\n",
       "9  0.001368836 0.002097561 0.000023100 0.000500256 0.000077200\n",
       "10 0.000696004 0.002011549 0.000029500 0.002329258 0.000084800\n",
       "11 0.001927404 0.003465862 0.000073500 0.001539389 0.000180591\n",
       "12 0.001847992 0.003467323 0.000000000 0.002499821 0.000089000\n",
       "13 0.002746289 0.004157470 0.000101723 0.002059262 0.000232048\n",
       "14 0.000427877 0.001395300 0.000106390 0.000836145 0.000000000\n",
       "15 0.002605183 0.002725392 0.000000000 0.000988586 0.000120159\n",
       "21 0.002783635 0.003425629 0.000045600 0.000832183 0.000000000\n",
       "22 0.002159900 0.001721661 0.000000000 0.000350532 0.000000000\n",
       "23 0.001764529 0.001513378 0.000018700 0.000700973 0.000000000\n",
       "24 0.001613998 0.001328994 0.000000000 0.001203537 0.000000000\n",
       "25 0.001740730 0.003000567 0.000077000 0.000888956 0.000111877\n",
       "36 0.000337976 0.000736000 0.000000000 0.000000000 0.000000000\n",
       "37 0.001050271 0.001030000 0.000000000 0.000000000 0.000000000\n",
       "38 0.001770978 0.002450000 0.000000000 0.000940385 0.000000000\n",
       "39 0.003831133 0.004760299 0.000135928 0.002288139 0.000075700\n",
       "40 0.003709793 0.006821428 0.000120550 0.005153266 0.000292134\n",
       "51 0.001551798 0.002182888 0.000000000 0.000267723 0.000000000\n",
       "52 0.000842800 0.001290000 0.000000000 0.000000000 0.000000000\n",
       "53 0.001695478 0.001914254 0.000000000 0.000000000 0.000000000\n",
       "54 0.001015298 0.001010000 0.000000000 0.000000000 0.000000000\n",
       "55 0.004088860 0.004889050 0.000217666 0.002034145 0.000222247"
      ]
     },
     "metadata": {},
     "output_type": "display_data"
    },
    {
     "data": {
      "text/html": [
       "<table>\n",
       "<thead><tr><th scope=col>filename</th><th scope=col>MouseID</th><th scope=col>Treatmentgroup</th><th scope=col>DPI</th><th scope=col>organ</th><th scope=col>well_position</th><th scope=col>plate</th><th scope=col>mass_400</th><th scope=col>mass_500</th><th scope=col>mass_600</th><th scope=col>mass_700</th><th scope=col>mass_800</th></tr></thead>\n",
       "<tbody>\n",
       "\t<tr><td>X511_Group1C_142dpi_LA_161_G_A1_P120.mzXML</td><td>511                                       </td><td>naive                                     </td><td>142dpi                                    </td><td>LA                                        </td><td>A1                                        </td><td>P120                                      </td><td>0.002077955                               </td><td>0.002490702                               </td><td>0.00e+00                                  </td><td>0.000232453                               </td><td>0.000149389                               </td></tr>\n",
       "\t<tr><td>X512_Group1C_142dpi_LA_162_G_A2_P120.mzXML</td><td>512                                       </td><td>naive                                     </td><td>142dpi                                    </td><td>LA                                        </td><td>A2                                        </td><td>P120                                      </td><td>0.001422483                               </td><td>0.001827962                               </td><td>2.59e-05                                  </td><td>0.000955615                               </td><td>0.000000000                               </td></tr>\n",
       "\t<tr><td>X513_Group1C_142dpi_LA_163_G_A3_P120.mzXML</td><td>513                                       </td><td>naive                                     </td><td>142dpi                                    </td><td>LA                                        </td><td>A3                                        </td><td>P120                                      </td><td>0.000422008                               </td><td>0.001031656                               </td><td>4.61e-05                                  </td><td>0.000000000                               </td><td>0.000000000                               </td></tr>\n",
       "\t<tr><td>X514_Group1C_142dpi_LA_164_G_A4_P120.mzXML</td><td>514                                       </td><td>naive                                     </td><td>142dpi                                    </td><td>LA                                        </td><td>A4                                        </td><td>P120                                      </td><td>0.001861510                               </td><td>0.002679198                               </td><td>1.95e-05                                  </td><td>0.001053337                               </td><td>0.000081800                               </td></tr>\n",
       "\t<tr><td>X515_Group1C_142dpi_LA_165_G_A5_P120.mzXML</td><td>515                                       </td><td>naive                                     </td><td>142dpi                                    </td><td>LA                                        </td><td>A5                                        </td><td>P120                                      </td><td>0.001966674                               </td><td>0.002742174                               </td><td>2.00e-05                                  </td><td>0.000639894                               </td><td>0.000151910                               </td></tr>\n",
       "\t<tr><td>X531_Group1C_142dpi_LA_166_G_A6_P120.mzXML</td><td>531                                       </td><td>naive                                     </td><td>142dpi                                    </td><td>LA                                        </td><td>A6                                        </td><td>P120                                      </td><td>0.001182584                               </td><td>0.001621899                               </td><td>3.75e-05                                  </td><td>0.000000000                               </td><td>0.000000000                               </td></tr>\n",
       "</tbody>\n",
       "</table>\n"
      ],
      "text/latex": [
       "\\begin{tabular}{r|llllllllllll}\n",
       " filename & MouseID & Treatmentgroup & DPI & organ & well\\_position & plate & mass\\_400 & mass\\_500 & mass\\_600 & mass\\_700 & mass\\_800\\\\\n",
       "\\hline\n",
       "\t X511\\_Group1C\\_142dpi\\_LA\\_161\\_G\\_A1\\_P120.mzXML & 511                                                      & naive                                                    & 142dpi                                                   & LA                                                       & A1                                                       & P120                                                     & 0.002077955                                              & 0.002490702                                              & 0.00e+00                                                 & 0.000232453                                              & 0.000149389                                             \\\\\n",
       "\t X512\\_Group1C\\_142dpi\\_LA\\_162\\_G\\_A2\\_P120.mzXML & 512                                                      & naive                                                    & 142dpi                                                   & LA                                                       & A2                                                       & P120                                                     & 0.001422483                                              & 0.001827962                                              & 2.59e-05                                                 & 0.000955615                                              & 0.000000000                                             \\\\\n",
       "\t X513\\_Group1C\\_142dpi\\_LA\\_163\\_G\\_A3\\_P120.mzXML & 513                                                      & naive                                                    & 142dpi                                                   & LA                                                       & A3                                                       & P120                                                     & 0.000422008                                              & 0.001031656                                              & 4.61e-05                                                 & 0.000000000                                              & 0.000000000                                             \\\\\n",
       "\t X514\\_Group1C\\_142dpi\\_LA\\_164\\_G\\_A4\\_P120.mzXML & 514                                                      & naive                                                    & 142dpi                                                   & LA                                                       & A4                                                       & P120                                                     & 0.001861510                                              & 0.002679198                                              & 1.95e-05                                                 & 0.001053337                                              & 0.000081800                                             \\\\\n",
       "\t X515\\_Group1C\\_142dpi\\_LA\\_165\\_G\\_A5\\_P120.mzXML & 515                                                      & naive                                                    & 142dpi                                                   & LA                                                       & A5                                                       & P120                                                     & 0.001966674                                              & 0.002742174                                              & 2.00e-05                                                 & 0.000639894                                              & 0.000151910                                             \\\\\n",
       "\t X531\\_Group1C\\_142dpi\\_LA\\_166\\_G\\_A6\\_P120.mzXML & 531                                                      & naive                                                    & 142dpi                                                   & LA                                                       & A6                                                       & P120                                                     & 0.001182584                                              & 0.001621899                                              & 3.75e-05                                                 & 0.000000000                                              & 0.000000000                                             \\\\\n",
       "\\end{tabular}\n"
      ],
      "text/markdown": [
       "\n",
       "| filename | MouseID | Treatmentgroup | DPI | organ | well_position | plate | mass_400 | mass_500 | mass_600 | mass_700 | mass_800 |\n",
       "|---|---|---|---|---|---|---|---|---|---|---|---|\n",
       "| X511_Group1C_142dpi_LA_161_G_A1_P120.mzXML | 511                                        | naive                                      | 142dpi                                     | LA                                         | A1                                         | P120                                       | 0.002077955                                | 0.002490702                                | 0.00e+00                                   | 0.000232453                                | 0.000149389                                |\n",
       "| X512_Group1C_142dpi_LA_162_G_A2_P120.mzXML | 512                                        | naive                                      | 142dpi                                     | LA                                         | A2                                         | P120                                       | 0.001422483                                | 0.001827962                                | 2.59e-05                                   | 0.000955615                                | 0.000000000                                |\n",
       "| X513_Group1C_142dpi_LA_163_G_A3_P120.mzXML | 513                                        | naive                                      | 142dpi                                     | LA                                         | A3                                         | P120                                       | 0.000422008                                | 0.001031656                                | 4.61e-05                                   | 0.000000000                                | 0.000000000                                |\n",
       "| X514_Group1C_142dpi_LA_164_G_A4_P120.mzXML | 514                                        | naive                                      | 142dpi                                     | LA                                         | A4                                         | P120                                       | 0.001861510                                | 0.002679198                                | 1.95e-05                                   | 0.001053337                                | 0.000081800                                |\n",
       "| X515_Group1C_142dpi_LA_165_G_A5_P120.mzXML | 515                                        | naive                                      | 142dpi                                     | LA                                         | A5                                         | P120                                       | 0.001966674                                | 0.002742174                                | 2.00e-05                                   | 0.000639894                                | 0.000151910                                |\n",
       "| X531_Group1C_142dpi_LA_166_G_A6_P120.mzXML | 531                                        | naive                                      | 142dpi                                     | LA                                         | A6                                         | P120                                       | 0.001182584                                | 0.001621899                                | 3.75e-05                                   | 0.000000000                                | 0.000000000                                |\n",
       "\n"
      ],
      "text/plain": [
       "  filename                                   MouseID Treatmentgroup DPI   \n",
       "1 X511_Group1C_142dpi_LA_161_G_A1_P120.mzXML 511     naive          142dpi\n",
       "2 X512_Group1C_142dpi_LA_162_G_A2_P120.mzXML 512     naive          142dpi\n",
       "3 X513_Group1C_142dpi_LA_163_G_A3_P120.mzXML 513     naive          142dpi\n",
       "4 X514_Group1C_142dpi_LA_164_G_A4_P120.mzXML 514     naive          142dpi\n",
       "5 X515_Group1C_142dpi_LA_165_G_A5_P120.mzXML 515     naive          142dpi\n",
       "6 X531_Group1C_142dpi_LA_166_G_A6_P120.mzXML 531     naive          142dpi\n",
       "  organ well_position plate mass_400    mass_500    mass_600 mass_700   \n",
       "1 LA    A1            P120  0.002077955 0.002490702 0.00e+00 0.000232453\n",
       "2 LA    A2            P120  0.001422483 0.001827962 2.59e-05 0.000955615\n",
       "3 LA    A3            P120  0.000422008 0.001031656 4.61e-05 0.000000000\n",
       "4 LA    A4            P120  0.001861510 0.002679198 1.95e-05 0.001053337\n",
       "5 LA    A5            P120  0.001966674 0.002742174 2.00e-05 0.000639894\n",
       "6 LA    A6            P120  0.001182584 0.001621899 3.75e-05 0.000000000\n",
       "  mass_800   \n",
       "1 0.000149389\n",
       "2 0.000000000\n",
       "3 0.000000000\n",
       "4 0.000081800\n",
       "5 0.000151910\n",
       "6 0.000000000"
      ]
     },
     "metadata": {},
     "output_type": "display_data"
    },
    {
     "data": {
      "text/html": [
       "<ol class=list-inline>\n",
       "\t<li>30</li>\n",
       "\t<li>12</li>\n",
       "</ol>\n"
      ],
      "text/latex": [
       "\\begin{enumerate*}\n",
       "\\item 30\n",
       "\\item 12\n",
       "\\end{enumerate*}\n"
      ],
      "text/markdown": [
       "1. 30\n",
       "2. 12\n",
       "\n",
       "\n"
      ],
      "text/plain": [
       "[1] 30 12"
      ]
     },
     "metadata": {},
     "output_type": "display_data"
    },
    {
     "data": {
      "text/html": [
       "<ol class=list-inline>\n",
       "\t<li>30</li>\n",
       "\t<li>5</li>\n",
       "</ol>\n"
      ],
      "text/latex": [
       "\\begin{enumerate*}\n",
       "\\item 30\n",
       "\\item 5\n",
       "\\end{enumerate*}\n"
      ],
      "text/markdown": [
       "1. 30\n",
       "2. 5\n",
       "\n",
       "\n"
      ],
      "text/plain": [
       "[1] 30  5"
      ]
     },
     "metadata": {},
     "output_type": "display_data"
    },
    {
     "data": {
      "text/html": [
       "<ol class=list-inline>\n",
       "\t<li>30</li>\n",
       "\t<li>5</li>\n",
       "</ol>\n"
      ],
      "text/latex": [
       "\\begin{enumerate*}\n",
       "\\item 30\n",
       "\\item 5\n",
       "\\end{enumerate*}\n"
      ],
      "text/markdown": [
       "1. 30\n",
       "2. 5\n",
       "\n",
       "\n"
      ],
      "text/plain": [
       "[1] 30  5"
      ]
     },
     "metadata": {},
     "output_type": "display_data"
    },
    {
     "data": {
      "text/html": [
       "<ol class=list-inline>\n",
       "\t<li>30</li>\n",
       "\t<li>12</li>\n",
       "</ol>\n"
      ],
      "text/latex": [
       "\\begin{enumerate*}\n",
       "\\item 30\n",
       "\\item 12\n",
       "\\end{enumerate*}\n"
      ],
      "text/markdown": [
       "1. 30\n",
       "2. 12\n",
       "\n",
       "\n"
      ],
      "text/plain": [
       "[1] 30 12"
      ]
     },
     "metadata": {},
     "output_type": "display_data"
    }
   ],
   "source": [
    "noMeta<-features_pos[,8:12]\n",
    "head(noMeta)\n",
    "not_zero<-which(colSums(noMeta) != 0)\n",
    "head(not_zero)\n",
    "nonzero <- noMeta[, not_zero]\n",
    "nonzero\n",
    "nonzero_wMeta<-cbind(features_pos[,1:7], nonzero)\n",
    "head(nonzero_wMeta)\n",
    "dim(features_pos)\n",
    "dim(noMeta)\n",
    "dim(nonzero)\n",
    "dim(nonzero_wMeta)"
   ]
  },
  {
   "cell_type": "code",
   "execution_count": 25,
   "metadata": {
    "scrolled": true
   },
   "outputs": [
    {
     "name": "stderr",
     "output_type": "stream",
     "text": [
      "Warning message in wilcox.test.default(x = c(4.56e-05, 0, 1.87e-05, 0, 7.7e-05, :\n",
      "\"cannot compute exact p-value with ties\"Warning message in wilcox.test.default(x = c(0.000832183, 0.000350532, 0.000700973, :\n",
      "\"cannot compute exact p-value with ties\"Warning message in wilcox.test.default(x = c(0, 0, 0, 0, 0.000111877, 0, 0, 0, 7.57e-05, :\n",
      "\"cannot compute exact p-value with ties\""
     ]
    },
    {
     "data": {
      "text/html": [
       "<ol class=list-inline>\n",
       "\t<li>0.389233298727313</li>\n",
       "\t<li>0.743702065375981</li>\n",
       "\t<li>0.341162016432201</li>\n",
       "\t<li>0.571896621178812</li>\n",
       "\t<li>0.119037783363991</li>\n",
       "</ol>\n"
      ],
      "text/latex": [
       "\\begin{enumerate*}\n",
       "\\item 0.389233298727313\n",
       "\\item 0.743702065375981\n",
       "\\item 0.341162016432201\n",
       "\\item 0.571896621178812\n",
       "\\item 0.119037783363991\n",
       "\\end{enumerate*}\n"
      ],
      "text/markdown": [
       "1. 0.389233298727313\n",
       "2. 0.743702065375981\n",
       "3. 0.341162016432201\n",
       "4. 0.571896621178812\n",
       "5. 0.119037783363991\n",
       "\n",
       "\n"
      ],
      "text/plain": [
       "[1] 0.3892333 0.7437021 0.3411620 0.5718966 0.1190378"
      ]
     },
     "metadata": {},
     "output_type": "display_data"
    },
    {
     "data": {
      "text/html": [
       "<ol class=list-inline>\n",
       "\t<li>0.648722164545522</li>\n",
       "\t<li>0.743702065375981</li>\n",
       "\t<li>0.648722164545522</li>\n",
       "\t<li>0.714870776473515</li>\n",
       "\t<li>0.595188916819955</li>\n",
       "</ol>\n"
      ],
      "text/latex": [
       "\\begin{enumerate*}\n",
       "\\item 0.648722164545522\n",
       "\\item 0.743702065375981\n",
       "\\item 0.648722164545522\n",
       "\\item 0.714870776473515\n",
       "\\item 0.595188916819955\n",
       "\\end{enumerate*}\n"
      ],
      "text/markdown": [
       "1. 0.648722164545522\n",
       "2. 0.743702065375981\n",
       "3. 0.648722164545522\n",
       "4. 0.714870776473515\n",
       "5. 0.595188916819955\n",
       "\n",
       "\n"
      ],
      "text/plain": [
       "[1] 0.6487222 0.7437021 0.6487222 0.7148708 0.5951889"
      ]
     },
     "metadata": {},
     "output_type": "display_data"
    }
   ],
   "source": [
    "pval<-c()\n",
    "\n",
    "for (i in 8:ncol(nonzero_wMeta)) \n",
    "pval<-c(pval,wilcox.test(nonzero_wMeta[,i]~nonzero_wMeta$Treatmentgroup)$p.value)\n",
    "head(pval)\n",
    "pAdj <- p.adjust(pval, method = c(\"fdr\"), n=length(pval)) \n",
    "head(pAdj) \n",
    "\n"
   ]
  },
  {
   "cell_type": "code",
   "execution_count": 26,
   "metadata": {
    "scrolled": true
   },
   "outputs": [
    {
     "data": {
      "text/html": [
       "5"
      ],
      "text/latex": [
       "5"
      ],
      "text/markdown": [
       "5"
      ],
      "text/plain": [
       "[1] 5"
      ]
     },
     "metadata": {},
     "output_type": "display_data"
    }
   ],
   "source": [
    "length(pval)"
   ]
  },
  {
   "cell_type": "code",
   "execution_count": 27,
   "metadata": {
    "scrolled": true
   },
   "outputs": [
    {
     "data": {
      "text/html": [
       "5"
      ],
      "text/latex": [
       "5"
      ],
      "text/markdown": [
       "5"
      ],
      "text/plain": [
       "[1] 5"
      ]
     },
     "metadata": {},
     "output_type": "display_data"
    }
   ],
   "source": [
    "length(pAdj)"
   ]
  },
  {
   "cell_type": "code",
   "execution_count": 28,
   "metadata": {},
   "outputs": [
    {
     "data": {
      "text/html": [
       "<ol class=list-inline>\n",
       "\t<li>2</li>\n",
       "\t<li>5</li>\n",
       "</ol>\n"
      ],
      "text/latex": [
       "\\begin{enumerate*}\n",
       "\\item 2\n",
       "\\item 5\n",
       "\\end{enumerate*}\n"
      ],
      "text/markdown": [
       "1. 2\n",
       "2. 5\n",
       "\n",
       "\n"
      ],
      "text/plain": [
       "[1] 2 5"
      ]
     },
     "metadata": {},
     "output_type": "display_data"
    },
    {
     "data": {
      "text/html": [
       "<table>\n",
       "<thead><tr><th></th><th scope=col>mass_400</th><th scope=col>mass_500</th><th scope=col>mass_600</th></tr></thead>\n",
       "<tbody>\n",
       "\t<tr><th scope=row>combo</th><td>0.001997145 </td><td>0.002538277 </td><td>4.102960e-05</td></tr>\n",
       "\t<tr><th scope=row>naive</th><td>0.001486033 </td><td>0.002295495 </td><td>3.598753e-05</td></tr>\n",
       "</tbody>\n",
       "</table>\n"
      ],
      "text/latex": [
       "\\begin{tabular}{r|lll}\n",
       "  & mass\\_400 & mass\\_500 & mass\\_600\\\\\n",
       "\\hline\n",
       "\tcombo & 0.001997145  & 0.002538277  & 4.102960e-05\\\\\n",
       "\tnaive & 0.001486033  & 0.002295495  & 3.598753e-05\\\\\n",
       "\\end{tabular}\n"
      ],
      "text/markdown": [
       "\n",
       "| <!--/--> | mass_400 | mass_500 | mass_600 |\n",
       "|---|---|---|---|\n",
       "| combo | 0.001997145  | 0.002538277  | 4.102960e-05 |\n",
       "| naive | 0.001486033  | 0.002295495  | 3.598753e-05 |\n",
       "\n"
      ],
      "text/plain": [
       "      mass_400    mass_500    mass_600    \n",
       "combo 0.001997145 0.002538277 4.102960e-05\n",
       "naive 0.001486033 0.002295495 3.598753e-05"
      ]
     },
     "metadata": {},
     "output_type": "display_data"
    },
    {
     "data": {
      "text/html": [
       "<dl class=dl-horizontal>\n",
       "\t<dt>mass_400</dt>\n",
       "\t\t<dd>1.34394363769572</dd>\n",
       "\t<dt>mass_500</dt>\n",
       "\t\t<dd>1.10576415589129</dd>\n",
       "\t<dt>mass_600</dt>\n",
       "\t\t<dd>1.14010592557052</dd>\n",
       "\t<dt>mass_700</dt>\n",
       "\t\t<dd>1.0669448274296</dd>\n",
       "\t<dt>mass_800</dt>\n",
       "\t\t<dd>0.601559520677489</dd>\n",
       "</dl>\n"
      ],
      "text/latex": [
       "\\begin{description*}\n",
       "\\item[mass\\textbackslash{}\\_400] 1.34394363769572\n",
       "\\item[mass\\textbackslash{}\\_500] 1.10576415589129\n",
       "\\item[mass\\textbackslash{}\\_600] 1.14010592557052\n",
       "\\item[mass\\textbackslash{}\\_700] 1.0669448274296\n",
       "\\item[mass\\textbackslash{}\\_800] 0.601559520677489\n",
       "\\end{description*}\n"
      ],
      "text/markdown": [
       "mass_400\n",
       ":   1.34394363769572mass_500\n",
       ":   1.10576415589129mass_600\n",
       ":   1.14010592557052mass_700\n",
       ":   1.0669448274296mass_800\n",
       ":   0.601559520677489\n",
       "\n"
      ],
      "text/plain": [
       " mass_400  mass_500  mass_600  mass_700  mass_800 \n",
       "1.3439436 1.1057642 1.1401059 1.0669448 0.6015595 "
      ]
     },
     "metadata": {},
     "output_type": "display_data"
    },
    {
     "data": {
      "text/html": [
       "<ol class=list-inline>\n",
       "\t<li>'numeric'</li>\n",
       "\t<li>'vector'</li>\n",
       "</ol>\n"
      ],
      "text/latex": [
       "\\begin{enumerate*}\n",
       "\\item 'numeric'\n",
       "\\item 'vector'\n",
       "\\end{enumerate*}\n"
      ],
      "text/markdown": [
       "1. 'numeric'\n",
       "2. 'vector'\n",
       "\n",
       "\n"
      ],
      "text/plain": [
       "[1] \"numeric\" \"vector\" "
      ]
     },
     "metadata": {},
     "output_type": "display_data"
    }
   ],
   "source": [
    "avg<- apply(nonzero_wMeta[,8:ncol(nonzero_wMeta)], 2, function(x) tapply(x, nonzero_wMeta$Treatmentgroup, function(x) mean(x))) \n",
    "\n",
    "dim(avg)\n",
    "\n",
    "avg[,1:3]\n",
    "\n",
    "fch <- apply(avg, 2, function(x) x[1]/x[2])\n",
    "\n",
    "head(fch)\n",
    "is(fch)"
   ]
  },
  {
   "cell_type": "code",
   "execution_count": 29,
   "metadata": {
    "scrolled": true
   },
   "outputs": [
    {
     "data": {
      "text/html": [
       "<dl class=dl-horizontal>\n",
       "\t<dt>mass_400</dt>\n",
       "\t\t<dd>1.34394363769572</dd>\n",
       "\t<dt>mass_500</dt>\n",
       "\t\t<dd>1.10576415589129</dd>\n",
       "\t<dt>mass_600</dt>\n",
       "\t\t<dd>1.14010592557052</dd>\n",
       "\t<dt>mass_700</dt>\n",
       "\t\t<dd>1.0669448274296</dd>\n",
       "\t<dt>mass_800</dt>\n",
       "\t\t<dd>0.601559520677489</dd>\n",
       "</dl>\n"
      ],
      "text/latex": [
       "\\begin{description*}\n",
       "\\item[mass\\textbackslash{}\\_400] 1.34394363769572\n",
       "\\item[mass\\textbackslash{}\\_500] 1.10576415589129\n",
       "\\item[mass\\textbackslash{}\\_600] 1.14010592557052\n",
       "\\item[mass\\textbackslash{}\\_700] 1.0669448274296\n",
       "\\item[mass\\textbackslash{}\\_800] 0.601559520677489\n",
       "\\end{description*}\n"
      ],
      "text/markdown": [
       "mass_400\n",
       ":   1.34394363769572mass_500\n",
       ":   1.10576415589129mass_600\n",
       ":   1.14010592557052mass_700\n",
       ":   1.0669448274296mass_800\n",
       ":   0.601559520677489\n",
       "\n"
      ],
      "text/plain": [
       " mass_400  mass_500  mass_600  mass_700  mass_800 \n",
       "1.3439436 1.1057642 1.1401059 1.0669448 0.6015595 "
      ]
     },
     "metadata": {},
     "output_type": "display_data"
    }
   ],
   "source": [
    "fch"
   ]
  },
  {
   "cell_type": "code",
   "execution_count": 30,
   "metadata": {
    "scrolled": false
   },
   "outputs": [],
   "source": [
    "df <- data.frame(fch,pval, pAdj)\n",
    "write.csv(df, \"PE-treat-LA-wilcox-naive-combo.csv\")"
   ]
  },
  {
   "cell_type": "code",
   "execution_count": null,
   "metadata": {},
   "outputs": [],
   "source": []
  },
  {
   "cell_type": "code",
   "execution_count": null,
   "metadata": {},
   "outputs": [],
   "source": []
  },
  {
   "cell_type": "code",
   "execution_count": null,
   "metadata": {},
   "outputs": [],
   "source": []
  },
  {
   "cell_type": "code",
   "execution_count": null,
   "metadata": {},
   "outputs": [],
   "source": []
  },
  {
   "cell_type": "code",
   "execution_count": null,
   "metadata": {},
   "outputs": [],
   "source": []
  },
  {
   "cell_type": "code",
   "execution_count": null,
   "metadata": {},
   "outputs": [],
   "source": []
  }
 ],
 "metadata": {
  "kernelspec": {
   "display_name": "R",
   "language": "R",
   "name": "ir"
  },
  "language_info": {
   "codemirror_mode": "r",
   "file_extension": ".r",
   "mimetype": "text/x-r-source",
   "name": "R",
   "pygments_lexer": "r",
   "version": "3.6.1"
  }
 },
 "nbformat": 4,
 "nbformat_minor": 2
}
