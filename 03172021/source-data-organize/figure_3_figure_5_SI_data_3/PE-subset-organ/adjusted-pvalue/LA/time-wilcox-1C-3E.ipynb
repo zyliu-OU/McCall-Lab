{
 "cells": [
  {
   "cell_type": "code",
   "execution_count": 1,
   "metadata": {},
   "outputs": [],
   "source": [
    "a <- read.csv(\"03172021-PE-time-LA-M-F.csv\")"
   ]
  },
  {
   "cell_type": "code",
   "execution_count": 2,
   "metadata": {},
   "outputs": [
    {
     "data": {
      "text/html": [
       "<table>\n",
       "<thead><tr><th scope=col>filename</th><th scope=col>MouseID</th><th scope=col>Treatmentgroup</th><th scope=col>status</th><th scope=col>DPI</th><th scope=col>organ</th><th scope=col>well_position</th><th scope=col>plate</th><th scope=col>mass_400</th><th scope=col>mass_500</th><th scope=col>mass_600</th><th scope=col>mass_700</th><th scope=col>mass_800</th></tr></thead>\n",
       "<tbody>\n",
       "\t<tr><td>X501_Group1A_50dpi_LA_251_B_A1_P121.mzXML</td><td>501                                      </td><td>Group1A                                  </td><td>naive                                    </td><td>50dpi                                    </td><td>LA                                       </td><td>A1                                       </td><td>P121                                     </td><td>0.004329022                              </td><td>0.007620000                              </td><td>0.000045400                              </td><td>0.006026924                              </td><td>0.000145139                              </td></tr>\n",
       "\t<tr><td>X502_Group1A_50dpi_LA_252_B_A2_P121.mzXML</td><td>502                                      </td><td>Group1A                                  </td><td>naive                                    </td><td>50dpi                                    </td><td>LA                                       </td><td>A2                                       </td><td>P121                                     </td><td>0.004129671                              </td><td>0.007778374                              </td><td>0.000312508                              </td><td>0.008177560                              </td><td>0.000861575                              </td></tr>\n",
       "\t<tr><td>X503_Group1A_50dpi_LA_253_B_A3_P121.mzXML</td><td>503                                      </td><td>Group1A                                  </td><td>naive                                    </td><td>50dpi                                    </td><td>LA                                       </td><td>A3                                       </td><td>P121                                     </td><td>0.002857480                              </td><td>0.009480000                              </td><td>0.000177773                              </td><td>0.010588891                              </td><td>0.000596837                              </td></tr>\n",
       "\t<tr><td>X504_Group1A_50dpi_LA_254_B_A4_P121.mzXML</td><td>504                                      </td><td>Group1A                                  </td><td>naive                                    </td><td>50dpi                                    </td><td>LA                                       </td><td>A4                                       </td><td>P121                                     </td><td>0.001465009                              </td><td>0.005300000                              </td><td>0.000251431                              </td><td>0.014642428                              </td><td>0.000700246                              </td></tr>\n",
       "\t<tr><td>X505_Group1A_50dpi_LA_255_B_A5_P121.mzXML</td><td>505                                      </td><td>Group1A                                  </td><td>naive                                    </td><td>50dpi                                    </td><td>LA                                       </td><td>A5                                       </td><td>P121                                     </td><td>0.003791592                              </td><td>0.009620000                              </td><td>0.000487519                              </td><td>0.001993340                              </td><td>0.000125690                              </td></tr>\n",
       "\t<tr><td>X521_Group1A_50dpi_LA_256_B_A6_P121.mzXML</td><td>521                                      </td><td>Group1A                                  </td><td>naive                                    </td><td>50dpi                                    </td><td>LA                                       </td><td>A6                                       </td><td>P121                                     </td><td>0.003461733                              </td><td>0.007410000                              </td><td>0.000142605                              </td><td>0.009728104                              </td><td>0.000715742                              </td></tr>\n",
       "</tbody>\n",
       "</table>\n"
      ],
      "text/latex": [
       "\\begin{tabular}{r|lllllllllllll}\n",
       " filename & MouseID & Treatmentgroup & status & DPI & organ & well\\_position & plate & mass\\_400 & mass\\_500 & mass\\_600 & mass\\_700 & mass\\_800\\\\\n",
       "\\hline\n",
       "\t X501\\_Group1A\\_50dpi\\_LA\\_251\\_B\\_A1\\_P121.mzXML & 501                                                     & Group1A                                                 & naive                                                   & 50dpi                                                   & LA                                                      & A1                                                      & P121                                                    & 0.004329022                                             & 0.007620000                                             & 0.000045400                                             & 0.006026924                                             & 0.000145139                                            \\\\\n",
       "\t X502\\_Group1A\\_50dpi\\_LA\\_252\\_B\\_A2\\_P121.mzXML & 502                                                     & Group1A                                                 & naive                                                   & 50dpi                                                   & LA                                                      & A2                                                      & P121                                                    & 0.004129671                                             & 0.007778374                                             & 0.000312508                                             & 0.008177560                                             & 0.000861575                                            \\\\\n",
       "\t X503\\_Group1A\\_50dpi\\_LA\\_253\\_B\\_A3\\_P121.mzXML & 503                                                     & Group1A                                                 & naive                                                   & 50dpi                                                   & LA                                                      & A3                                                      & P121                                                    & 0.002857480                                             & 0.009480000                                             & 0.000177773                                             & 0.010588891                                             & 0.000596837                                            \\\\\n",
       "\t X504\\_Group1A\\_50dpi\\_LA\\_254\\_B\\_A4\\_P121.mzXML & 504                                                     & Group1A                                                 & naive                                                   & 50dpi                                                   & LA                                                      & A4                                                      & P121                                                    & 0.001465009                                             & 0.005300000                                             & 0.000251431                                             & 0.014642428                                             & 0.000700246                                            \\\\\n",
       "\t X505\\_Group1A\\_50dpi\\_LA\\_255\\_B\\_A5\\_P121.mzXML & 505                                                     & Group1A                                                 & naive                                                   & 50dpi                                                   & LA                                                      & A5                                                      & P121                                                    & 0.003791592                                             & 0.009620000                                             & 0.000487519                                             & 0.001993340                                             & 0.000125690                                            \\\\\n",
       "\t X521\\_Group1A\\_50dpi\\_LA\\_256\\_B\\_A6\\_P121.mzXML & 521                                                     & Group1A                                                 & naive                                                   & 50dpi                                                   & LA                                                      & A6                                                      & P121                                                    & 0.003461733                                             & 0.007410000                                             & 0.000142605                                             & 0.009728104                                             & 0.000715742                                            \\\\\n",
       "\\end{tabular}\n"
      ],
      "text/markdown": [
       "\n",
       "| filename | MouseID | Treatmentgroup | status | DPI | organ | well_position | plate | mass_400 | mass_500 | mass_600 | mass_700 | mass_800 |\n",
       "|---|---|---|---|---|---|---|---|---|---|---|---|---|\n",
       "| X501_Group1A_50dpi_LA_251_B_A1_P121.mzXML | 501                                       | Group1A                                   | naive                                     | 50dpi                                     | LA                                        | A1                                        | P121                                      | 0.004329022                               | 0.007620000                               | 0.000045400                               | 0.006026924                               | 0.000145139                               |\n",
       "| X502_Group1A_50dpi_LA_252_B_A2_P121.mzXML | 502                                       | Group1A                                   | naive                                     | 50dpi                                     | LA                                        | A2                                        | P121                                      | 0.004129671                               | 0.007778374                               | 0.000312508                               | 0.008177560                               | 0.000861575                               |\n",
       "| X503_Group1A_50dpi_LA_253_B_A3_P121.mzXML | 503                                       | Group1A                                   | naive                                     | 50dpi                                     | LA                                        | A3                                        | P121                                      | 0.002857480                               | 0.009480000                               | 0.000177773                               | 0.010588891                               | 0.000596837                               |\n",
       "| X504_Group1A_50dpi_LA_254_B_A4_P121.mzXML | 504                                       | Group1A                                   | naive                                     | 50dpi                                     | LA                                        | A4                                        | P121                                      | 0.001465009                               | 0.005300000                               | 0.000251431                               | 0.014642428                               | 0.000700246                               |\n",
       "| X505_Group1A_50dpi_LA_255_B_A5_P121.mzXML | 505                                       | Group1A                                   | naive                                     | 50dpi                                     | LA                                        | A5                                        | P121                                      | 0.003791592                               | 0.009620000                               | 0.000487519                               | 0.001993340                               | 0.000125690                               |\n",
       "| X521_Group1A_50dpi_LA_256_B_A6_P121.mzXML | 521                                       | Group1A                                   | naive                                     | 50dpi                                     | LA                                        | A6                                        | P121                                      | 0.003461733                               | 0.007410000                               | 0.000142605                               | 0.009728104                               | 0.000715742                               |\n",
       "\n"
      ],
      "text/plain": [
       "  filename                                  MouseID Treatmentgroup status DPI  \n",
       "1 X501_Group1A_50dpi_LA_251_B_A1_P121.mzXML 501     Group1A        naive  50dpi\n",
       "2 X502_Group1A_50dpi_LA_252_B_A2_P121.mzXML 502     Group1A        naive  50dpi\n",
       "3 X503_Group1A_50dpi_LA_253_B_A3_P121.mzXML 503     Group1A        naive  50dpi\n",
       "4 X504_Group1A_50dpi_LA_254_B_A4_P121.mzXML 504     Group1A        naive  50dpi\n",
       "5 X505_Group1A_50dpi_LA_255_B_A5_P121.mzXML 505     Group1A        naive  50dpi\n",
       "6 X521_Group1A_50dpi_LA_256_B_A6_P121.mzXML 521     Group1A        naive  50dpi\n",
       "  organ well_position plate mass_400    mass_500    mass_600    mass_700   \n",
       "1 LA    A1            P121  0.004329022 0.007620000 0.000045400 0.006026924\n",
       "2 LA    A2            P121  0.004129671 0.007778374 0.000312508 0.008177560\n",
       "3 LA    A3            P121  0.002857480 0.009480000 0.000177773 0.010588891\n",
       "4 LA    A4            P121  0.001465009 0.005300000 0.000251431 0.014642428\n",
       "5 LA    A5            P121  0.003791592 0.009620000 0.000487519 0.001993340\n",
       "6 LA    A6            P121  0.003461733 0.007410000 0.000142605 0.009728104\n",
       "  mass_800   \n",
       "1 0.000145139\n",
       "2 0.000861575\n",
       "3 0.000596837\n",
       "4 0.000700246\n",
       "5 0.000125690\n",
       "6 0.000715742"
      ]
     },
     "metadata": {},
     "output_type": "display_data"
    },
    {
     "data": {
      "text/html": [
       "<ol class=list-inline>\n",
       "\t<li>90</li>\n",
       "\t<li>13</li>\n",
       "</ol>\n"
      ],
      "text/latex": [
       "\\begin{enumerate*}\n",
       "\\item 90\n",
       "\\item 13\n",
       "\\end{enumerate*}\n"
      ],
      "text/markdown": [
       "1. 90\n",
       "2. 13\n",
       "\n",
       "\n"
      ],
      "text/plain": [
       "[1] 90 13"
      ]
     },
     "metadata": {},
     "output_type": "display_data"
    }
   ],
   "source": [
    "head(a)\n",
    "dim(a)"
   ]
  },
  {
   "cell_type": "code",
   "execution_count": 3,
   "metadata": {},
   "outputs": [
    {
     "data": {
      "text/html": [
       "<table>\n",
       "<thead><tr><th></th><th scope=col>filename</th><th scope=col>MouseID</th><th scope=col>Treatmentgroup</th><th scope=col>status</th><th scope=col>DPI</th><th scope=col>organ</th><th scope=col>well_position</th><th scope=col>plate</th><th scope=col>mass_400</th><th scope=col>mass_500</th><th scope=col>mass_600</th><th scope=col>mass_700</th><th scope=col>mass_800</th></tr></thead>\n",
       "<tbody>\n",
       "\t<tr><th scope=row>31</th><td>X511_Group1C_142dpi_LA_161_G_A1_P120.mzXML</td><td>511                                       </td><td>Group1C                                   </td><td>naive                                     </td><td>142dpi                                    </td><td>LA                                        </td><td>A1                                        </td><td>P120                                      </td><td>0.002077955                               </td><td>0.002490702                               </td><td>0.00e+00                                  </td><td>0.000232453                               </td><td>0.000149389                               </td></tr>\n",
       "\t<tr><th scope=row>32</th><td>X512_Group1C_142dpi_LA_162_G_A2_P120.mzXML</td><td>512                                       </td><td>Group1C                                   </td><td>naive                                     </td><td>142dpi                                    </td><td>LA                                        </td><td>A2                                        </td><td>P120                                      </td><td>0.001422483                               </td><td>0.001827962                               </td><td>2.59e-05                                  </td><td>0.000955615                               </td><td>0.000000000                               </td></tr>\n",
       "\t<tr><th scope=row>33</th><td>X513_Group1C_142dpi_LA_163_G_A3_P120.mzXML</td><td>513                                       </td><td>Group1C                                   </td><td>naive                                     </td><td>142dpi                                    </td><td>LA                                        </td><td>A3                                        </td><td>P120                                      </td><td>0.000422008                               </td><td>0.001031656                               </td><td>4.61e-05                                  </td><td>0.000000000                               </td><td>0.000000000                               </td></tr>\n",
       "\t<tr><th scope=row>34</th><td>X514_Group1C_142dpi_LA_164_G_A4_P120.mzXML</td><td>514                                       </td><td>Group1C                                   </td><td>naive                                     </td><td>142dpi                                    </td><td>LA                                        </td><td>A4                                        </td><td>P120                                      </td><td>0.001861510                               </td><td>0.002679198                               </td><td>1.95e-05                                  </td><td>0.001053337                               </td><td>0.000081800                               </td></tr>\n",
       "\t<tr><th scope=row>35</th><td>X515_Group1C_142dpi_LA_165_G_A5_P120.mzXML</td><td>515                                       </td><td>Group1C                                   </td><td>naive                                     </td><td>142dpi                                    </td><td>LA                                        </td><td>A5                                        </td><td>P120                                      </td><td>0.001966674                               </td><td>0.002742174                               </td><td>2.00e-05                                  </td><td>0.000639894                               </td><td>0.000151910                               </td></tr>\n",
       "\t<tr><th scope=row>36</th><td>X531_Group1C_142dpi_LA_166_G_A6_P120.mzXML</td><td>531                                       </td><td>Group1C                                   </td><td>naive                                     </td><td>142dpi                                    </td><td>LA                                        </td><td>A6                                        </td><td>P120                                      </td><td>0.001182584                               </td><td>0.001621899                               </td><td>3.75e-05                                  </td><td>0.000000000                               </td><td>0.000000000                               </td></tr>\n",
       "</tbody>\n",
       "</table>\n"
      ],
      "text/latex": [
       "\\begin{tabular}{r|lllllllllllll}\n",
       "  & filename & MouseID & Treatmentgroup & status & DPI & organ & well\\_position & plate & mass\\_400 & mass\\_500 & mass\\_600 & mass\\_700 & mass\\_800\\\\\n",
       "\\hline\n",
       "\t31 & X511\\_Group1C\\_142dpi\\_LA\\_161\\_G\\_A1\\_P120.mzXML & 511                                                      & Group1C                                                  & naive                                                    & 142dpi                                                   & LA                                                       & A1                                                       & P120                                                     & 0.002077955                                              & 0.002490702                                              & 0.00e+00                                                 & 0.000232453                                              & 0.000149389                                             \\\\\n",
       "\t32 & X512\\_Group1C\\_142dpi\\_LA\\_162\\_G\\_A2\\_P120.mzXML & 512                                                      & Group1C                                                  & naive                                                    & 142dpi                                                   & LA                                                       & A2                                                       & P120                                                     & 0.001422483                                              & 0.001827962                                              & 2.59e-05                                                 & 0.000955615                                              & 0.000000000                                             \\\\\n",
       "\t33 & X513\\_Group1C\\_142dpi\\_LA\\_163\\_G\\_A3\\_P120.mzXML & 513                                                      & Group1C                                                  & naive                                                    & 142dpi                                                   & LA                                                       & A3                                                       & P120                                                     & 0.000422008                                              & 0.001031656                                              & 4.61e-05                                                 & 0.000000000                                              & 0.000000000                                             \\\\\n",
       "\t34 & X514\\_Group1C\\_142dpi\\_LA\\_164\\_G\\_A4\\_P120.mzXML & 514                                                      & Group1C                                                  & naive                                                    & 142dpi                                                   & LA                                                       & A4                                                       & P120                                                     & 0.001861510                                              & 0.002679198                                              & 1.95e-05                                                 & 0.001053337                                              & 0.000081800                                             \\\\\n",
       "\t35 & X515\\_Group1C\\_142dpi\\_LA\\_165\\_G\\_A5\\_P120.mzXML & 515                                                      & Group1C                                                  & naive                                                    & 142dpi                                                   & LA                                                       & A5                                                       & P120                                                     & 0.001966674                                              & 0.002742174                                              & 2.00e-05                                                 & 0.000639894                                              & 0.000151910                                             \\\\\n",
       "\t36 & X531\\_Group1C\\_142dpi\\_LA\\_166\\_G\\_A6\\_P120.mzXML & 531                                                      & Group1C                                                  & naive                                                    & 142dpi                                                   & LA                                                       & A6                                                       & P120                                                     & 0.001182584                                              & 0.001621899                                              & 3.75e-05                                                 & 0.000000000                                              & 0.000000000                                             \\\\\n",
       "\\end{tabular}\n"
      ],
      "text/markdown": [
       "\n",
       "| <!--/--> | filename | MouseID | Treatmentgroup | status | DPI | organ | well_position | plate | mass_400 | mass_500 | mass_600 | mass_700 | mass_800 |\n",
       "|---|---|---|---|---|---|---|---|---|---|---|---|---|---|\n",
       "| 31 | X511_Group1C_142dpi_LA_161_G_A1_P120.mzXML | 511                                        | Group1C                                    | naive                                      | 142dpi                                     | LA                                         | A1                                         | P120                                       | 0.002077955                                | 0.002490702                                | 0.00e+00                                   | 0.000232453                                | 0.000149389                                |\n",
       "| 32 | X512_Group1C_142dpi_LA_162_G_A2_P120.mzXML | 512                                        | Group1C                                    | naive                                      | 142dpi                                     | LA                                         | A2                                         | P120                                       | 0.001422483                                | 0.001827962                                | 2.59e-05                                   | 0.000955615                                | 0.000000000                                |\n",
       "| 33 | X513_Group1C_142dpi_LA_163_G_A3_P120.mzXML | 513                                        | Group1C                                    | naive                                      | 142dpi                                     | LA                                         | A3                                         | P120                                       | 0.000422008                                | 0.001031656                                | 4.61e-05                                   | 0.000000000                                | 0.000000000                                |\n",
       "| 34 | X514_Group1C_142dpi_LA_164_G_A4_P120.mzXML | 514                                        | Group1C                                    | naive                                      | 142dpi                                     | LA                                         | A4                                         | P120                                       | 0.001861510                                | 0.002679198                                | 1.95e-05                                   | 0.001053337                                | 0.000081800                                |\n",
       "| 35 | X515_Group1C_142dpi_LA_165_G_A5_P120.mzXML | 515                                        | Group1C                                    | naive                                      | 142dpi                                     | LA                                         | A5                                         | P120                                       | 0.001966674                                | 0.002742174                                | 2.00e-05                                   | 0.000639894                                | 0.000151910                                |\n",
       "| 36 | X531_Group1C_142dpi_LA_166_G_A6_P120.mzXML | 531                                        | Group1C                                    | naive                                      | 142dpi                                     | LA                                         | A6                                         | P120                                       | 0.001182584                                | 0.001621899                                | 3.75e-05                                   | 0.000000000                                | 0.000000000                                |\n",
       "\n"
      ],
      "text/plain": [
       "   filename                                   MouseID Treatmentgroup status\n",
       "31 X511_Group1C_142dpi_LA_161_G_A1_P120.mzXML 511     Group1C        naive \n",
       "32 X512_Group1C_142dpi_LA_162_G_A2_P120.mzXML 512     Group1C        naive \n",
       "33 X513_Group1C_142dpi_LA_163_G_A3_P120.mzXML 513     Group1C        naive \n",
       "34 X514_Group1C_142dpi_LA_164_G_A4_P120.mzXML 514     Group1C        naive \n",
       "35 X515_Group1C_142dpi_LA_165_G_A5_P120.mzXML 515     Group1C        naive \n",
       "36 X531_Group1C_142dpi_LA_166_G_A6_P120.mzXML 531     Group1C        naive \n",
       "   DPI    organ well_position plate mass_400    mass_500    mass_600\n",
       "31 142dpi LA    A1            P120  0.002077955 0.002490702 0.00e+00\n",
       "32 142dpi LA    A2            P120  0.001422483 0.001827962 2.59e-05\n",
       "33 142dpi LA    A3            P120  0.000422008 0.001031656 4.61e-05\n",
       "34 142dpi LA    A4            P120  0.001861510 0.002679198 1.95e-05\n",
       "35 142dpi LA    A5            P120  0.001966674 0.002742174 2.00e-05\n",
       "36 142dpi LA    A6            P120  0.001182584 0.001621899 3.75e-05\n",
       "   mass_700    mass_800   \n",
       "31 0.000232453 0.000149389\n",
       "32 0.000955615 0.000000000\n",
       "33 0.000000000 0.000000000\n",
       "34 0.001053337 0.000081800\n",
       "35 0.000639894 0.000151910\n",
       "36 0.000000000 0.000000000"
      ]
     },
     "metadata": {},
     "output_type": "display_data"
    },
    {
     "data": {
      "text/html": [
       "<ol class=list-inline>\n",
       "\t<li>30</li>\n",
       "\t<li>13</li>\n",
       "</ol>\n"
      ],
      "text/latex": [
       "\\begin{enumerate*}\n",
       "\\item 30\n",
       "\\item 13\n",
       "\\end{enumerate*}\n"
      ],
      "text/markdown": [
       "1. 30\n",
       "2. 13\n",
       "\n",
       "\n"
      ],
      "text/plain": [
       "[1] 30 13"
      ]
     },
     "metadata": {},
     "output_type": "display_data"
    }
   ],
   "source": [
    "features_pos<-droplevels(subset(a, a$Treatmentgroup==c(\"Group1C\")|a$Treatmentgroup==c(\"Group3E\")))\n",
    "head(features_pos)\n",
    "dim(features_pos)"
   ]
  },
  {
   "cell_type": "code",
   "execution_count": 4,
   "metadata": {
    "scrolled": false
   },
   "outputs": [
    {
     "data": {
      "text/html": [
       "<table>\n",
       "<thead><tr><th></th><th scope=col>mass_400</th><th scope=col>mass_500</th><th scope=col>mass_600</th><th scope=col>mass_700</th><th scope=col>mass_800</th></tr></thead>\n",
       "<tbody>\n",
       "\t<tr><th scope=row>31</th><td>0.002077955</td><td>0.002490702</td><td>0.00e+00   </td><td>0.000232453</td><td>0.000149389</td></tr>\n",
       "\t<tr><th scope=row>32</th><td>0.001422483</td><td>0.001827962</td><td>2.59e-05   </td><td>0.000955615</td><td>0.000000000</td></tr>\n",
       "\t<tr><th scope=row>33</th><td>0.000422008</td><td>0.001031656</td><td>4.61e-05   </td><td>0.000000000</td><td>0.000000000</td></tr>\n",
       "\t<tr><th scope=row>34</th><td>0.001861510</td><td>0.002679198</td><td>1.95e-05   </td><td>0.001053337</td><td>0.000081800</td></tr>\n",
       "\t<tr><th scope=row>35</th><td>0.001966674</td><td>0.002742174</td><td>2.00e-05   </td><td>0.000639894</td><td>0.000151910</td></tr>\n",
       "\t<tr><th scope=row>36</th><td>0.001182584</td><td>0.001621899</td><td>3.75e-05   </td><td>0.000000000</td><td>0.000000000</td></tr>\n",
       "</tbody>\n",
       "</table>\n"
      ],
      "text/latex": [
       "\\begin{tabular}{r|lllll}\n",
       "  & mass\\_400 & mass\\_500 & mass\\_600 & mass\\_700 & mass\\_800\\\\\n",
       "\\hline\n",
       "\t31 & 0.002077955 & 0.002490702 & 0.00e+00    & 0.000232453 & 0.000149389\\\\\n",
       "\t32 & 0.001422483 & 0.001827962 & 2.59e-05    & 0.000955615 & 0.000000000\\\\\n",
       "\t33 & 0.000422008 & 0.001031656 & 4.61e-05    & 0.000000000 & 0.000000000\\\\\n",
       "\t34 & 0.001861510 & 0.002679198 & 1.95e-05    & 0.001053337 & 0.000081800\\\\\n",
       "\t35 & 0.001966674 & 0.002742174 & 2.00e-05    & 0.000639894 & 0.000151910\\\\\n",
       "\t36 & 0.001182584 & 0.001621899 & 3.75e-05    & 0.000000000 & 0.000000000\\\\\n",
       "\\end{tabular}\n"
      ],
      "text/markdown": [
       "\n",
       "| <!--/--> | mass_400 | mass_500 | mass_600 | mass_700 | mass_800 |\n",
       "|---|---|---|---|---|---|\n",
       "| 31 | 0.002077955 | 0.002490702 | 0.00e+00    | 0.000232453 | 0.000149389 |\n",
       "| 32 | 0.001422483 | 0.001827962 | 2.59e-05    | 0.000955615 | 0.000000000 |\n",
       "| 33 | 0.000422008 | 0.001031656 | 4.61e-05    | 0.000000000 | 0.000000000 |\n",
       "| 34 | 0.001861510 | 0.002679198 | 1.95e-05    | 0.001053337 | 0.000081800 |\n",
       "| 35 | 0.001966674 | 0.002742174 | 2.00e-05    | 0.000639894 | 0.000151910 |\n",
       "| 36 | 0.001182584 | 0.001621899 | 3.75e-05    | 0.000000000 | 0.000000000 |\n",
       "\n"
      ],
      "text/plain": [
       "   mass_400    mass_500    mass_600 mass_700    mass_800   \n",
       "31 0.002077955 0.002490702 0.00e+00 0.000232453 0.000149389\n",
       "32 0.001422483 0.001827962 2.59e-05 0.000955615 0.000000000\n",
       "33 0.000422008 0.001031656 4.61e-05 0.000000000 0.000000000\n",
       "34 0.001861510 0.002679198 1.95e-05 0.001053337 0.000081800\n",
       "35 0.001966674 0.002742174 2.00e-05 0.000639894 0.000151910\n",
       "36 0.001182584 0.001621899 3.75e-05 0.000000000 0.000000000"
      ]
     },
     "metadata": {},
     "output_type": "display_data"
    },
    {
     "data": {
      "text/html": [
       "<dl class=dl-horizontal>\n",
       "\t<dt>mass_400</dt>\n",
       "\t\t<dd>1</dd>\n",
       "\t<dt>mass_500</dt>\n",
       "\t\t<dd>2</dd>\n",
       "\t<dt>mass_600</dt>\n",
       "\t\t<dd>3</dd>\n",
       "\t<dt>mass_700</dt>\n",
       "\t\t<dd>4</dd>\n",
       "\t<dt>mass_800</dt>\n",
       "\t\t<dd>5</dd>\n",
       "</dl>\n"
      ],
      "text/latex": [
       "\\begin{description*}\n",
       "\\item[mass\\textbackslash{}\\_400] 1\n",
       "\\item[mass\\textbackslash{}\\_500] 2\n",
       "\\item[mass\\textbackslash{}\\_600] 3\n",
       "\\item[mass\\textbackslash{}\\_700] 4\n",
       "\\item[mass\\textbackslash{}\\_800] 5\n",
       "\\end{description*}\n"
      ],
      "text/markdown": [
       "mass_400\n",
       ":   1mass_500\n",
       ":   2mass_600\n",
       ":   3mass_700\n",
       ":   4mass_800\n",
       ":   5\n",
       "\n"
      ],
      "text/plain": [
       "mass_400 mass_500 mass_600 mass_700 mass_800 \n",
       "       1        2        3        4        5 "
      ]
     },
     "metadata": {},
     "output_type": "display_data"
    },
    {
     "data": {
      "text/html": [
       "<table>\n",
       "<thead><tr><th></th><th scope=col>mass_400</th><th scope=col>mass_500</th><th scope=col>mass_600</th><th scope=col>mass_700</th><th scope=col>mass_800</th></tr></thead>\n",
       "<tbody>\n",
       "\t<tr><th scope=row>31</th><td>0.002077955</td><td>0.002490702</td><td>0.000000000</td><td>0.000232453</td><td>0.000149389</td></tr>\n",
       "\t<tr><th scope=row>32</th><td>0.001422483</td><td>0.001827962</td><td>0.000025900</td><td>0.000955615</td><td>0.000000000</td></tr>\n",
       "\t<tr><th scope=row>33</th><td>0.000422008</td><td>0.001031656</td><td>0.000046100</td><td>0.000000000</td><td>0.000000000</td></tr>\n",
       "\t<tr><th scope=row>34</th><td>0.001861510</td><td>0.002679198</td><td>0.000019500</td><td>0.001053337</td><td>0.000081800</td></tr>\n",
       "\t<tr><th scope=row>35</th><td>0.001966674</td><td>0.002742174</td><td>0.000020000</td><td>0.000639894</td><td>0.000151910</td></tr>\n",
       "\t<tr><th scope=row>36</th><td>0.001182584</td><td>0.001621899</td><td>0.000037500</td><td>0.000000000</td><td>0.000000000</td></tr>\n",
       "\t<tr><th scope=row>37</th><td>0.001504649</td><td>0.001894215</td><td>0.000056600</td><td>0.000106000</td><td>0.000000000</td></tr>\n",
       "\t<tr><th scope=row>38</th><td>0.000233053</td><td>0.000824168</td><td>0.000000000</td><td>0.000000000</td><td>0.000000000</td></tr>\n",
       "\t<tr><th scope=row>39</th><td>0.001368836</td><td>0.002097561</td><td>0.000023100</td><td>0.000500256</td><td>0.000077200</td></tr>\n",
       "\t<tr><th scope=row>40</th><td>0.000696004</td><td>0.002011549</td><td>0.000029500</td><td>0.002329258</td><td>0.000084800</td></tr>\n",
       "\t<tr><th scope=row>41</th><td>0.001927404</td><td>0.003465862</td><td>0.000073500</td><td>0.001539389</td><td>0.000180591</td></tr>\n",
       "\t<tr><th scope=row>42</th><td>0.001847992</td><td>0.003467323</td><td>0.000000000</td><td>0.002499821</td><td>0.000089000</td></tr>\n",
       "\t<tr><th scope=row>43</th><td>0.002746289</td><td>0.004157470</td><td>0.000101723</td><td>0.002059262</td><td>0.000232048</td></tr>\n",
       "\t<tr><th scope=row>44</th><td>0.000427877</td><td>0.001395300</td><td>0.000106390</td><td>0.000836145</td><td>0.000000000</td></tr>\n",
       "\t<tr><th scope=row>45</th><td>0.002605183</td><td>0.002725392</td><td>0.000000000</td><td>0.000988586</td><td>0.000120159</td></tr>\n",
       "\t<tr><th scope=row>76</th><td>0.003182039</td><td>0.003871148</td><td>0.000111846</td><td>0.000657259</td><td>0.000000000</td></tr>\n",
       "\t<tr><th scope=row>77</th><td>0.003804928</td><td>0.001831666</td><td>0.000019000</td><td>0.000824241</td><td>0.000000000</td></tr>\n",
       "\t<tr><th scope=row>78</th><td>0.001858255</td><td>0.002137595</td><td>0.000000000</td><td>0.000070200</td><td>0.000000000</td></tr>\n",
       "\t<tr><th scope=row>79</th><td>0.001765435</td><td>0.002913983</td><td>0.000045900</td><td>0.000476821</td><td>0.000000000</td></tr>\n",
       "\t<tr><th scope=row>80</th><td>0.000944339</td><td>0.001841540</td><td>0.000000000</td><td>0.000359929</td><td>0.000000000</td></tr>\n",
       "\t<tr><th scope=row>81</th><td>0.002416400</td><td>0.002967068</td><td>0.000000000</td><td>0.001067936</td><td>0.000000000</td></tr>\n",
       "\t<tr><th scope=row>82</th><td>0.004351841</td><td>0.003273077</td><td>0.000020000</td><td>0.001635049</td><td>0.000311349</td></tr>\n",
       "\t<tr><th scope=row>83</th><td>0.002636841</td><td>0.003616622</td><td>0.000000000</td><td>0.001505071</td><td>0.000200553</td></tr>\n",
       "\t<tr><th scope=row>84</th><td>0.002383023</td><td>0.003432886</td><td>0.000081600</td><td>0.002240275</td><td>0.000000000</td></tr>\n",
       "\t<tr><th scope=row>85</th><td>0.001486499</td><td>0.002254976</td><td>0.000000000</td><td>0.002053865</td><td>0.000177580</td></tr>\n",
       "\t<tr><th scope=row>86</th><td>0.001623204</td><td>0.002084003</td><td>0.000000000</td><td>0.000948279</td><td>0.000000000</td></tr>\n",
       "\t<tr><th scope=row>87</th><td>0.001531886</td><td>0.002412509</td><td>0.000000000</td><td>0.000925587</td><td>0.000151768</td></tr>\n",
       "\t<tr><th scope=row>88</th><td>0.000608053</td><td>0.000870000</td><td>0.000000000</td><td>0.000000000</td><td>0.000000000</td></tr>\n",
       "\t<tr><th scope=row>89</th><td>0.000692180</td><td>0.001351519</td><td>0.000000000</td><td>0.000097200</td><td>0.000000000</td></tr>\n",
       "\t<tr><th scope=row>90</th><td>0.000634235</td><td>0.001082745</td><td>0.000000000</td><td>0.000566075</td><td>0.000000000</td></tr>\n",
       "</tbody>\n",
       "</table>\n"
      ],
      "text/latex": [
       "\\begin{tabular}{r|lllll}\n",
       "  & mass\\_400 & mass\\_500 & mass\\_600 & mass\\_700 & mass\\_800\\\\\n",
       "\\hline\n",
       "\t31 & 0.002077955 & 0.002490702 & 0.000000000 & 0.000232453 & 0.000149389\\\\\n",
       "\t32 & 0.001422483 & 0.001827962 & 0.000025900 & 0.000955615 & 0.000000000\\\\\n",
       "\t33 & 0.000422008 & 0.001031656 & 0.000046100 & 0.000000000 & 0.000000000\\\\\n",
       "\t34 & 0.001861510 & 0.002679198 & 0.000019500 & 0.001053337 & 0.000081800\\\\\n",
       "\t35 & 0.001966674 & 0.002742174 & 0.000020000 & 0.000639894 & 0.000151910\\\\\n",
       "\t36 & 0.001182584 & 0.001621899 & 0.000037500 & 0.000000000 & 0.000000000\\\\\n",
       "\t37 & 0.001504649 & 0.001894215 & 0.000056600 & 0.000106000 & 0.000000000\\\\\n",
       "\t38 & 0.000233053 & 0.000824168 & 0.000000000 & 0.000000000 & 0.000000000\\\\\n",
       "\t39 & 0.001368836 & 0.002097561 & 0.000023100 & 0.000500256 & 0.000077200\\\\\n",
       "\t40 & 0.000696004 & 0.002011549 & 0.000029500 & 0.002329258 & 0.000084800\\\\\n",
       "\t41 & 0.001927404 & 0.003465862 & 0.000073500 & 0.001539389 & 0.000180591\\\\\n",
       "\t42 & 0.001847992 & 0.003467323 & 0.000000000 & 0.002499821 & 0.000089000\\\\\n",
       "\t43 & 0.002746289 & 0.004157470 & 0.000101723 & 0.002059262 & 0.000232048\\\\\n",
       "\t44 & 0.000427877 & 0.001395300 & 0.000106390 & 0.000836145 & 0.000000000\\\\\n",
       "\t45 & 0.002605183 & 0.002725392 & 0.000000000 & 0.000988586 & 0.000120159\\\\\n",
       "\t76 & 0.003182039 & 0.003871148 & 0.000111846 & 0.000657259 & 0.000000000\\\\\n",
       "\t77 & 0.003804928 & 0.001831666 & 0.000019000 & 0.000824241 & 0.000000000\\\\\n",
       "\t78 & 0.001858255 & 0.002137595 & 0.000000000 & 0.000070200 & 0.000000000\\\\\n",
       "\t79 & 0.001765435 & 0.002913983 & 0.000045900 & 0.000476821 & 0.000000000\\\\\n",
       "\t80 & 0.000944339 & 0.001841540 & 0.000000000 & 0.000359929 & 0.000000000\\\\\n",
       "\t81 & 0.002416400 & 0.002967068 & 0.000000000 & 0.001067936 & 0.000000000\\\\\n",
       "\t82 & 0.004351841 & 0.003273077 & 0.000020000 & 0.001635049 & 0.000311349\\\\\n",
       "\t83 & 0.002636841 & 0.003616622 & 0.000000000 & 0.001505071 & 0.000200553\\\\\n",
       "\t84 & 0.002383023 & 0.003432886 & 0.000081600 & 0.002240275 & 0.000000000\\\\\n",
       "\t85 & 0.001486499 & 0.002254976 & 0.000000000 & 0.002053865 & 0.000177580\\\\\n",
       "\t86 & 0.001623204 & 0.002084003 & 0.000000000 & 0.000948279 & 0.000000000\\\\\n",
       "\t87 & 0.001531886 & 0.002412509 & 0.000000000 & 0.000925587 & 0.000151768\\\\\n",
       "\t88 & 0.000608053 & 0.000870000 & 0.000000000 & 0.000000000 & 0.000000000\\\\\n",
       "\t89 & 0.000692180 & 0.001351519 & 0.000000000 & 0.000097200 & 0.000000000\\\\\n",
       "\t90 & 0.000634235 & 0.001082745 & 0.000000000 & 0.000566075 & 0.000000000\\\\\n",
       "\\end{tabular}\n"
      ],
      "text/markdown": [
       "\n",
       "| <!--/--> | mass_400 | mass_500 | mass_600 | mass_700 | mass_800 |\n",
       "|---|---|---|---|---|---|\n",
       "| 31 | 0.002077955 | 0.002490702 | 0.000000000 | 0.000232453 | 0.000149389 |\n",
       "| 32 | 0.001422483 | 0.001827962 | 0.000025900 | 0.000955615 | 0.000000000 |\n",
       "| 33 | 0.000422008 | 0.001031656 | 0.000046100 | 0.000000000 | 0.000000000 |\n",
       "| 34 | 0.001861510 | 0.002679198 | 0.000019500 | 0.001053337 | 0.000081800 |\n",
       "| 35 | 0.001966674 | 0.002742174 | 0.000020000 | 0.000639894 | 0.000151910 |\n",
       "| 36 | 0.001182584 | 0.001621899 | 0.000037500 | 0.000000000 | 0.000000000 |\n",
       "| 37 | 0.001504649 | 0.001894215 | 0.000056600 | 0.000106000 | 0.000000000 |\n",
       "| 38 | 0.000233053 | 0.000824168 | 0.000000000 | 0.000000000 | 0.000000000 |\n",
       "| 39 | 0.001368836 | 0.002097561 | 0.000023100 | 0.000500256 | 0.000077200 |\n",
       "| 40 | 0.000696004 | 0.002011549 | 0.000029500 | 0.002329258 | 0.000084800 |\n",
       "| 41 | 0.001927404 | 0.003465862 | 0.000073500 | 0.001539389 | 0.000180591 |\n",
       "| 42 | 0.001847992 | 0.003467323 | 0.000000000 | 0.002499821 | 0.000089000 |\n",
       "| 43 | 0.002746289 | 0.004157470 | 0.000101723 | 0.002059262 | 0.000232048 |\n",
       "| 44 | 0.000427877 | 0.001395300 | 0.000106390 | 0.000836145 | 0.000000000 |\n",
       "| 45 | 0.002605183 | 0.002725392 | 0.000000000 | 0.000988586 | 0.000120159 |\n",
       "| 76 | 0.003182039 | 0.003871148 | 0.000111846 | 0.000657259 | 0.000000000 |\n",
       "| 77 | 0.003804928 | 0.001831666 | 0.000019000 | 0.000824241 | 0.000000000 |\n",
       "| 78 | 0.001858255 | 0.002137595 | 0.000000000 | 0.000070200 | 0.000000000 |\n",
       "| 79 | 0.001765435 | 0.002913983 | 0.000045900 | 0.000476821 | 0.000000000 |\n",
       "| 80 | 0.000944339 | 0.001841540 | 0.000000000 | 0.000359929 | 0.000000000 |\n",
       "| 81 | 0.002416400 | 0.002967068 | 0.000000000 | 0.001067936 | 0.000000000 |\n",
       "| 82 | 0.004351841 | 0.003273077 | 0.000020000 | 0.001635049 | 0.000311349 |\n",
       "| 83 | 0.002636841 | 0.003616622 | 0.000000000 | 0.001505071 | 0.000200553 |\n",
       "| 84 | 0.002383023 | 0.003432886 | 0.000081600 | 0.002240275 | 0.000000000 |\n",
       "| 85 | 0.001486499 | 0.002254976 | 0.000000000 | 0.002053865 | 0.000177580 |\n",
       "| 86 | 0.001623204 | 0.002084003 | 0.000000000 | 0.000948279 | 0.000000000 |\n",
       "| 87 | 0.001531886 | 0.002412509 | 0.000000000 | 0.000925587 | 0.000151768 |\n",
       "| 88 | 0.000608053 | 0.000870000 | 0.000000000 | 0.000000000 | 0.000000000 |\n",
       "| 89 | 0.000692180 | 0.001351519 | 0.000000000 | 0.000097200 | 0.000000000 |\n",
       "| 90 | 0.000634235 | 0.001082745 | 0.000000000 | 0.000566075 | 0.000000000 |\n",
       "\n"
      ],
      "text/plain": [
       "   mass_400    mass_500    mass_600    mass_700    mass_800   \n",
       "31 0.002077955 0.002490702 0.000000000 0.000232453 0.000149389\n",
       "32 0.001422483 0.001827962 0.000025900 0.000955615 0.000000000\n",
       "33 0.000422008 0.001031656 0.000046100 0.000000000 0.000000000\n",
       "34 0.001861510 0.002679198 0.000019500 0.001053337 0.000081800\n",
       "35 0.001966674 0.002742174 0.000020000 0.000639894 0.000151910\n",
       "36 0.001182584 0.001621899 0.000037500 0.000000000 0.000000000\n",
       "37 0.001504649 0.001894215 0.000056600 0.000106000 0.000000000\n",
       "38 0.000233053 0.000824168 0.000000000 0.000000000 0.000000000\n",
       "39 0.001368836 0.002097561 0.000023100 0.000500256 0.000077200\n",
       "40 0.000696004 0.002011549 0.000029500 0.002329258 0.000084800\n",
       "41 0.001927404 0.003465862 0.000073500 0.001539389 0.000180591\n",
       "42 0.001847992 0.003467323 0.000000000 0.002499821 0.000089000\n",
       "43 0.002746289 0.004157470 0.000101723 0.002059262 0.000232048\n",
       "44 0.000427877 0.001395300 0.000106390 0.000836145 0.000000000\n",
       "45 0.002605183 0.002725392 0.000000000 0.000988586 0.000120159\n",
       "76 0.003182039 0.003871148 0.000111846 0.000657259 0.000000000\n",
       "77 0.003804928 0.001831666 0.000019000 0.000824241 0.000000000\n",
       "78 0.001858255 0.002137595 0.000000000 0.000070200 0.000000000\n",
       "79 0.001765435 0.002913983 0.000045900 0.000476821 0.000000000\n",
       "80 0.000944339 0.001841540 0.000000000 0.000359929 0.000000000\n",
       "81 0.002416400 0.002967068 0.000000000 0.001067936 0.000000000\n",
       "82 0.004351841 0.003273077 0.000020000 0.001635049 0.000311349\n",
       "83 0.002636841 0.003616622 0.000000000 0.001505071 0.000200553\n",
       "84 0.002383023 0.003432886 0.000081600 0.002240275 0.000000000\n",
       "85 0.001486499 0.002254976 0.000000000 0.002053865 0.000177580\n",
       "86 0.001623204 0.002084003 0.000000000 0.000948279 0.000000000\n",
       "87 0.001531886 0.002412509 0.000000000 0.000925587 0.000151768\n",
       "88 0.000608053 0.000870000 0.000000000 0.000000000 0.000000000\n",
       "89 0.000692180 0.001351519 0.000000000 0.000097200 0.000000000\n",
       "90 0.000634235 0.001082745 0.000000000 0.000566075 0.000000000"
      ]
     },
     "metadata": {},
     "output_type": "display_data"
    },
    {
     "data": {
      "text/html": [
       "<table>\n",
       "<thead><tr><th></th><th scope=col>filename</th><th scope=col>MouseID</th><th scope=col>Treatmentgroup</th><th scope=col>status</th><th scope=col>DPI</th><th scope=col>organ</th><th scope=col>well_position</th><th scope=col>plate</th><th scope=col>mass_400</th><th scope=col>mass_500</th><th scope=col>mass_600</th><th scope=col>mass_700</th><th scope=col>mass_800</th></tr></thead>\n",
       "<tbody>\n",
       "\t<tr><th scope=row>31</th><td>X511_Group1C_142dpi_LA_161_G_A1_P120.mzXML</td><td>511                                       </td><td>Group1C                                   </td><td>naive                                     </td><td>142dpi                                    </td><td>LA                                        </td><td>A1                                        </td><td>P120                                      </td><td>0.002077955                               </td><td>0.002490702                               </td><td>0.00e+00                                  </td><td>0.000232453                               </td><td>0.000149389                               </td></tr>\n",
       "\t<tr><th scope=row>32</th><td>X512_Group1C_142dpi_LA_162_G_A2_P120.mzXML</td><td>512                                       </td><td>Group1C                                   </td><td>naive                                     </td><td>142dpi                                    </td><td>LA                                        </td><td>A2                                        </td><td>P120                                      </td><td>0.001422483                               </td><td>0.001827962                               </td><td>2.59e-05                                  </td><td>0.000955615                               </td><td>0.000000000                               </td></tr>\n",
       "\t<tr><th scope=row>33</th><td>X513_Group1C_142dpi_LA_163_G_A3_P120.mzXML</td><td>513                                       </td><td>Group1C                                   </td><td>naive                                     </td><td>142dpi                                    </td><td>LA                                        </td><td>A3                                        </td><td>P120                                      </td><td>0.000422008                               </td><td>0.001031656                               </td><td>4.61e-05                                  </td><td>0.000000000                               </td><td>0.000000000                               </td></tr>\n",
       "\t<tr><th scope=row>34</th><td>X514_Group1C_142dpi_LA_164_G_A4_P120.mzXML</td><td>514                                       </td><td>Group1C                                   </td><td>naive                                     </td><td>142dpi                                    </td><td>LA                                        </td><td>A4                                        </td><td>P120                                      </td><td>0.001861510                               </td><td>0.002679198                               </td><td>1.95e-05                                  </td><td>0.001053337                               </td><td>0.000081800                               </td></tr>\n",
       "\t<tr><th scope=row>35</th><td>X515_Group1C_142dpi_LA_165_G_A5_P120.mzXML</td><td>515                                       </td><td>Group1C                                   </td><td>naive                                     </td><td>142dpi                                    </td><td>LA                                        </td><td>A5                                        </td><td>P120                                      </td><td>0.001966674                               </td><td>0.002742174                               </td><td>2.00e-05                                  </td><td>0.000639894                               </td><td>0.000151910                               </td></tr>\n",
       "\t<tr><th scope=row>36</th><td>X531_Group1C_142dpi_LA_166_G_A6_P120.mzXML</td><td>531                                       </td><td>Group1C                                   </td><td>naive                                     </td><td>142dpi                                    </td><td>LA                                        </td><td>A6                                        </td><td>P120                                      </td><td>0.001182584                               </td><td>0.001621899                               </td><td>3.75e-05                                  </td><td>0.000000000                               </td><td>0.000000000                               </td></tr>\n",
       "</tbody>\n",
       "</table>\n"
      ],
      "text/latex": [
       "\\begin{tabular}{r|lllllllllllll}\n",
       "  & filename & MouseID & Treatmentgroup & status & DPI & organ & well\\_position & plate & mass\\_400 & mass\\_500 & mass\\_600 & mass\\_700 & mass\\_800\\\\\n",
       "\\hline\n",
       "\t31 & X511\\_Group1C\\_142dpi\\_LA\\_161\\_G\\_A1\\_P120.mzXML & 511                                                      & Group1C                                                  & naive                                                    & 142dpi                                                   & LA                                                       & A1                                                       & P120                                                     & 0.002077955                                              & 0.002490702                                              & 0.00e+00                                                 & 0.000232453                                              & 0.000149389                                             \\\\\n",
       "\t32 & X512\\_Group1C\\_142dpi\\_LA\\_162\\_G\\_A2\\_P120.mzXML & 512                                                      & Group1C                                                  & naive                                                    & 142dpi                                                   & LA                                                       & A2                                                       & P120                                                     & 0.001422483                                              & 0.001827962                                              & 2.59e-05                                                 & 0.000955615                                              & 0.000000000                                             \\\\\n",
       "\t33 & X513\\_Group1C\\_142dpi\\_LA\\_163\\_G\\_A3\\_P120.mzXML & 513                                                      & Group1C                                                  & naive                                                    & 142dpi                                                   & LA                                                       & A3                                                       & P120                                                     & 0.000422008                                              & 0.001031656                                              & 4.61e-05                                                 & 0.000000000                                              & 0.000000000                                             \\\\\n",
       "\t34 & X514\\_Group1C\\_142dpi\\_LA\\_164\\_G\\_A4\\_P120.mzXML & 514                                                      & Group1C                                                  & naive                                                    & 142dpi                                                   & LA                                                       & A4                                                       & P120                                                     & 0.001861510                                              & 0.002679198                                              & 1.95e-05                                                 & 0.001053337                                              & 0.000081800                                             \\\\\n",
       "\t35 & X515\\_Group1C\\_142dpi\\_LA\\_165\\_G\\_A5\\_P120.mzXML & 515                                                      & Group1C                                                  & naive                                                    & 142dpi                                                   & LA                                                       & A5                                                       & P120                                                     & 0.001966674                                              & 0.002742174                                              & 2.00e-05                                                 & 0.000639894                                              & 0.000151910                                             \\\\\n",
       "\t36 & X531\\_Group1C\\_142dpi\\_LA\\_166\\_G\\_A6\\_P120.mzXML & 531                                                      & Group1C                                                  & naive                                                    & 142dpi                                                   & LA                                                       & A6                                                       & P120                                                     & 0.001182584                                              & 0.001621899                                              & 3.75e-05                                                 & 0.000000000                                              & 0.000000000                                             \\\\\n",
       "\\end{tabular}\n"
      ],
      "text/markdown": [
       "\n",
       "| <!--/--> | filename | MouseID | Treatmentgroup | status | DPI | organ | well_position | plate | mass_400 | mass_500 | mass_600 | mass_700 | mass_800 |\n",
       "|---|---|---|---|---|---|---|---|---|---|---|---|---|---|\n",
       "| 31 | X511_Group1C_142dpi_LA_161_G_A1_P120.mzXML | 511                                        | Group1C                                    | naive                                      | 142dpi                                     | LA                                         | A1                                         | P120                                       | 0.002077955                                | 0.002490702                                | 0.00e+00                                   | 0.000232453                                | 0.000149389                                |\n",
       "| 32 | X512_Group1C_142dpi_LA_162_G_A2_P120.mzXML | 512                                        | Group1C                                    | naive                                      | 142dpi                                     | LA                                         | A2                                         | P120                                       | 0.001422483                                | 0.001827962                                | 2.59e-05                                   | 0.000955615                                | 0.000000000                                |\n",
       "| 33 | X513_Group1C_142dpi_LA_163_G_A3_P120.mzXML | 513                                        | Group1C                                    | naive                                      | 142dpi                                     | LA                                         | A3                                         | P120                                       | 0.000422008                                | 0.001031656                                | 4.61e-05                                   | 0.000000000                                | 0.000000000                                |\n",
       "| 34 | X514_Group1C_142dpi_LA_164_G_A4_P120.mzXML | 514                                        | Group1C                                    | naive                                      | 142dpi                                     | LA                                         | A4                                         | P120                                       | 0.001861510                                | 0.002679198                                | 1.95e-05                                   | 0.001053337                                | 0.000081800                                |\n",
       "| 35 | X515_Group1C_142dpi_LA_165_G_A5_P120.mzXML | 515                                        | Group1C                                    | naive                                      | 142dpi                                     | LA                                         | A5                                         | P120                                       | 0.001966674                                | 0.002742174                                | 2.00e-05                                   | 0.000639894                                | 0.000151910                                |\n",
       "| 36 | X531_Group1C_142dpi_LA_166_G_A6_P120.mzXML | 531                                        | Group1C                                    | naive                                      | 142dpi                                     | LA                                         | A6                                         | P120                                       | 0.001182584                                | 0.001621899                                | 3.75e-05                                   | 0.000000000                                | 0.000000000                                |\n",
       "\n"
      ],
      "text/plain": [
       "   filename                                   MouseID Treatmentgroup status\n",
       "31 X511_Group1C_142dpi_LA_161_G_A1_P120.mzXML 511     Group1C        naive \n",
       "32 X512_Group1C_142dpi_LA_162_G_A2_P120.mzXML 512     Group1C        naive \n",
       "33 X513_Group1C_142dpi_LA_163_G_A3_P120.mzXML 513     Group1C        naive \n",
       "34 X514_Group1C_142dpi_LA_164_G_A4_P120.mzXML 514     Group1C        naive \n",
       "35 X515_Group1C_142dpi_LA_165_G_A5_P120.mzXML 515     Group1C        naive \n",
       "36 X531_Group1C_142dpi_LA_166_G_A6_P120.mzXML 531     Group1C        naive \n",
       "   DPI    organ well_position plate mass_400    mass_500    mass_600\n",
       "31 142dpi LA    A1            P120  0.002077955 0.002490702 0.00e+00\n",
       "32 142dpi LA    A2            P120  0.001422483 0.001827962 2.59e-05\n",
       "33 142dpi LA    A3            P120  0.000422008 0.001031656 4.61e-05\n",
       "34 142dpi LA    A4            P120  0.001861510 0.002679198 1.95e-05\n",
       "35 142dpi LA    A5            P120  0.001966674 0.002742174 2.00e-05\n",
       "36 142dpi LA    A6            P120  0.001182584 0.001621899 3.75e-05\n",
       "   mass_700    mass_800   \n",
       "31 0.000232453 0.000149389\n",
       "32 0.000955615 0.000000000\n",
       "33 0.000000000 0.000000000\n",
       "34 0.001053337 0.000081800\n",
       "35 0.000639894 0.000151910\n",
       "36 0.000000000 0.000000000"
      ]
     },
     "metadata": {},
     "output_type": "display_data"
    },
    {
     "data": {
      "text/html": [
       "<ol class=list-inline>\n",
       "\t<li>30</li>\n",
       "\t<li>13</li>\n",
       "</ol>\n"
      ],
      "text/latex": [
       "\\begin{enumerate*}\n",
       "\\item 30\n",
       "\\item 13\n",
       "\\end{enumerate*}\n"
      ],
      "text/markdown": [
       "1. 30\n",
       "2. 13\n",
       "\n",
       "\n"
      ],
      "text/plain": [
       "[1] 30 13"
      ]
     },
     "metadata": {},
     "output_type": "display_data"
    },
    {
     "data": {
      "text/html": [
       "<ol class=list-inline>\n",
       "\t<li>30</li>\n",
       "\t<li>5</li>\n",
       "</ol>\n"
      ],
      "text/latex": [
       "\\begin{enumerate*}\n",
       "\\item 30\n",
       "\\item 5\n",
       "\\end{enumerate*}\n"
      ],
      "text/markdown": [
       "1. 30\n",
       "2. 5\n",
       "\n",
       "\n"
      ],
      "text/plain": [
       "[1] 30  5"
      ]
     },
     "metadata": {},
     "output_type": "display_data"
    },
    {
     "data": {
      "text/html": [
       "<ol class=list-inline>\n",
       "\t<li>30</li>\n",
       "\t<li>5</li>\n",
       "</ol>\n"
      ],
      "text/latex": [
       "\\begin{enumerate*}\n",
       "\\item 30\n",
       "\\item 5\n",
       "\\end{enumerate*}\n"
      ],
      "text/markdown": [
       "1. 30\n",
       "2. 5\n",
       "\n",
       "\n"
      ],
      "text/plain": [
       "[1] 30  5"
      ]
     },
     "metadata": {},
     "output_type": "display_data"
    },
    {
     "data": {
      "text/html": [
       "<ol class=list-inline>\n",
       "\t<li>30</li>\n",
       "\t<li>13</li>\n",
       "</ol>\n"
      ],
      "text/latex": [
       "\\begin{enumerate*}\n",
       "\\item 30\n",
       "\\item 13\n",
       "\\end{enumerate*}\n"
      ],
      "text/markdown": [
       "1. 30\n",
       "2. 13\n",
       "\n",
       "\n"
      ],
      "text/plain": [
       "[1] 30 13"
      ]
     },
     "metadata": {},
     "output_type": "display_data"
    }
   ],
   "source": [
    "noMeta<-features_pos[,9:13]\n",
    "head(noMeta)\n",
    "not_zero<-which(colSums(noMeta) != 0)\n",
    "head(not_zero)\n",
    "nonzero <- noMeta[, not_zero]\n",
    "nonzero\n",
    "nonzero_wMeta<-cbind(features_pos[,1:8], nonzero)\n",
    "head(nonzero_wMeta)\n",
    "dim(features_pos)\n",
    "dim(noMeta)\n",
    "dim(nonzero)\n",
    "dim(nonzero_wMeta)"
   ]
  },
  {
   "cell_type": "code",
   "execution_count": 5,
   "metadata": {
    "scrolled": true
   },
   "outputs": [
    {
     "name": "stderr",
     "output_type": "stream",
     "text": [
      "Warning message in wilcox.test.default(x = c(0, 2.59e-05, 4.61e-05, 1.95e-05, 2e-05, :\n",
      "\"cannot compute exact p-value with ties\"Warning message in wilcox.test.default(x = c(0.000232453, 0.000955615, 0, 0.001053337, :\n",
      "\"cannot compute exact p-value with ties\"Warning message in wilcox.test.default(x = c(0.000149389, 0, 0, 8.18e-05, 0.00015191, :\n",
      "\"cannot compute exact p-value with ties\""
     ]
    },
    {
     "data": {
      "text/html": [
       "<ol class=list-inline>\n",
       "\t<li>0.304590816047085</li>\n",
       "\t<li>0.712965124764759</li>\n",
       "\t<li>0.0515129708750995</li>\n",
       "\t<li>1</li>\n",
       "\t<li>0.251714508786452</li>\n",
       "</ol>\n"
      ],
      "text/latex": [
       "\\begin{enumerate*}\n",
       "\\item 0.304590816047085\n",
       "\\item 0.712965124764759\n",
       "\\item 0.0515129708750995\n",
       "\\item 1\n",
       "\\item 0.251714508786452\n",
       "\\end{enumerate*}\n"
      ],
      "text/markdown": [
       "1. 0.304590816047085\n",
       "2. 0.712965124764759\n",
       "3. 0.0515129708750995\n",
       "4. 1\n",
       "5. 0.251714508786452\n",
       "\n",
       "\n"
      ],
      "text/plain": [
       "[1] 0.30459082 0.71296512 0.05151297 1.00000000 0.25171451"
      ]
     },
     "metadata": {},
     "output_type": "display_data"
    },
    {
     "data": {
      "text/html": [
       "<ol class=list-inline>\n",
       "\t<li>0.507651360078475</li>\n",
       "\t<li>0.891206405955949</li>\n",
       "\t<li>0.257564854375498</li>\n",
       "\t<li>1</li>\n",
       "\t<li>0.507651360078475</li>\n",
       "</ol>\n"
      ],
      "text/latex": [
       "\\begin{enumerate*}\n",
       "\\item 0.507651360078475\n",
       "\\item 0.891206405955949\n",
       "\\item 0.257564854375498\n",
       "\\item 1\n",
       "\\item 0.507651360078475\n",
       "\\end{enumerate*}\n"
      ],
      "text/markdown": [
       "1. 0.507651360078475\n",
       "2. 0.891206405955949\n",
       "3. 0.257564854375498\n",
       "4. 1\n",
       "5. 0.507651360078475\n",
       "\n",
       "\n"
      ],
      "text/plain": [
       "[1] 0.5076514 0.8912064 0.2575649 1.0000000 0.5076514"
      ]
     },
     "metadata": {},
     "output_type": "display_data"
    }
   ],
   "source": [
    "pval<-c()\n",
    "\n",
    "for (i in 9:ncol(nonzero_wMeta)) \n",
    "pval<-c(pval,wilcox.test(nonzero_wMeta[,i]~nonzero_wMeta$Treatmentgroup)$p.value)\n",
    "head(pval)\n",
    "pAdj <- p.adjust(pval, method = c(\"fdr\"), n=length(pval)) \n",
    "head(pAdj) \n",
    "\n"
   ]
  },
  {
   "cell_type": "code",
   "execution_count": 6,
   "metadata": {
    "scrolled": true
   },
   "outputs": [
    {
     "data": {
      "text/html": [
       "5"
      ],
      "text/latex": [
       "5"
      ],
      "text/markdown": [
       "5"
      ],
      "text/plain": [
       "[1] 5"
      ]
     },
     "metadata": {},
     "output_type": "display_data"
    }
   ],
   "source": [
    "length(pval)"
   ]
  },
  {
   "cell_type": "code",
   "execution_count": 7,
   "metadata": {
    "scrolled": true
   },
   "outputs": [
    {
     "data": {
      "text/html": [
       "5"
      ],
      "text/latex": [
       "5"
      ],
      "text/markdown": [
       "5"
      ],
      "text/plain": [
       "[1] 5"
      ]
     },
     "metadata": {},
     "output_type": "display_data"
    }
   ],
   "source": [
    "length(pAdj)"
   ]
  },
  {
   "cell_type": "code",
   "execution_count": 8,
   "metadata": {},
   "outputs": [
    {
     "data": {
      "text/html": [
       "<ol class=list-inline>\n",
       "\t<li>2</li>\n",
       "\t<li>5</li>\n",
       "</ol>\n"
      ],
      "text/latex": [
       "\\begin{enumerate*}\n",
       "\\item 2\n",
       "\\item 5\n",
       "\\end{enumerate*}\n"
      ],
      "text/markdown": [
       "1. 2\n",
       "2. 5\n",
       "\n",
       "\n"
      ],
      "text/plain": [
       "[1] 2 5"
      ]
     },
     "metadata": {},
     "output_type": "display_data"
    },
    {
     "data": {
      "text/html": [
       "<table>\n",
       "<thead><tr><th></th><th scope=col>mass_400</th><th scope=col>mass_500</th><th scope=col>mass_600</th></tr></thead>\n",
       "<tbody>\n",
       "\t<tr><th scope=row>Group1C</th><td>0.001486033 </td><td>0.002295495 </td><td>3.598753e-05</td></tr>\n",
       "\t<tr><th scope=row>Group3E</th><td>0.001994611 </td><td>0.002396089 </td><td>1.855640e-05</td></tr>\n",
       "</tbody>\n",
       "</table>\n"
      ],
      "text/latex": [
       "\\begin{tabular}{r|lll}\n",
       "  & mass\\_400 & mass\\_500 & mass\\_600\\\\\n",
       "\\hline\n",
       "\tGroup1C & 0.001486033  & 0.002295495  & 3.598753e-05\\\\\n",
       "\tGroup3E & 0.001994611  & 0.002396089  & 1.855640e-05\\\\\n",
       "\\end{tabular}\n"
      ],
      "text/markdown": [
       "\n",
       "| <!--/--> | mass_400 | mass_500 | mass_600 |\n",
       "|---|---|---|---|\n",
       "| Group1C | 0.001486033  | 0.002295495  | 3.598753e-05 |\n",
       "| Group3E | 0.001994611  | 0.002396089  | 1.855640e-05 |\n",
       "\n"
      ],
      "text/plain": [
       "        mass_400    mass_500    mass_600    \n",
       "Group1C 0.001486033 0.002295495 3.598753e-05\n",
       "Group3E 0.001994611 0.002396089 1.855640e-05"
      ]
     },
     "metadata": {},
     "output_type": "display_data"
    },
    {
     "data": {
      "text/html": [
       "<dl class=dl-horizontal>\n",
       "\t<dt>mass_400</dt>\n",
       "\t\t<dd>0.745024341928339</dd>\n",
       "\t<dt>mass_500</dt>\n",
       "\t\t<dd>0.958017532848041</dd>\n",
       "\t<dt>mass_600</dt>\n",
       "\t\t<dd>1.93935964590833</dd>\n",
       "\t<dt>mass_700</dt>\n",
       "\t\t<dd>1.02325245403431</dd>\n",
       "\t<dt>mass_800</dt>\n",
       "\t\t<dd>1.38709895988113</dd>\n",
       "</dl>\n"
      ],
      "text/latex": [
       "\\begin{description*}\n",
       "\\item[mass\\textbackslash{}\\_400] 0.745024341928339\n",
       "\\item[mass\\textbackslash{}\\_500] 0.958017532848041\n",
       "\\item[mass\\textbackslash{}\\_600] 1.93935964590833\n",
       "\\item[mass\\textbackslash{}\\_700] 1.02325245403431\n",
       "\\item[mass\\textbackslash{}\\_800] 1.38709895988113\n",
       "\\end{description*}\n"
      ],
      "text/markdown": [
       "mass_400\n",
       ":   0.745024341928339mass_500\n",
       ":   0.958017532848041mass_600\n",
       ":   1.93935964590833mass_700\n",
       ":   1.02325245403431mass_800\n",
       ":   1.38709895988113\n",
       "\n"
      ],
      "text/plain": [
       " mass_400  mass_500  mass_600  mass_700  mass_800 \n",
       "0.7450243 0.9580175 1.9393596 1.0232525 1.3870990 "
      ]
     },
     "metadata": {},
     "output_type": "display_data"
    },
    {
     "data": {
      "text/html": [
       "<ol class=list-inline>\n",
       "\t<li>'numeric'</li>\n",
       "\t<li>'vector'</li>\n",
       "</ol>\n"
      ],
      "text/latex": [
       "\\begin{enumerate*}\n",
       "\\item 'numeric'\n",
       "\\item 'vector'\n",
       "\\end{enumerate*}\n"
      ],
      "text/markdown": [
       "1. 'numeric'\n",
       "2. 'vector'\n",
       "\n",
       "\n"
      ],
      "text/plain": [
       "[1] \"numeric\" \"vector\" "
      ]
     },
     "metadata": {},
     "output_type": "display_data"
    }
   ],
   "source": [
    "avg<- apply(nonzero_wMeta[,9:ncol(nonzero_wMeta)], 2, function(x) tapply(x, nonzero_wMeta$Treatmentgroup, function(x) mean(x))) \n",
    "\n",
    "dim(avg)\n",
    "\n",
    "avg[,1:3]\n",
    "\n",
    "fch <- apply(avg, 2, function(x) x[1]/x[2])\n",
    "\n",
    "head(fch)\n",
    "is(fch)"
   ]
  },
  {
   "cell_type": "code",
   "execution_count": 9,
   "metadata": {
    "scrolled": true
   },
   "outputs": [
    {
     "data": {
      "text/html": [
       "<dl class=dl-horizontal>\n",
       "\t<dt>mass_400</dt>\n",
       "\t\t<dd>0.745024341928339</dd>\n",
       "\t<dt>mass_500</dt>\n",
       "\t\t<dd>0.958017532848041</dd>\n",
       "\t<dt>mass_600</dt>\n",
       "\t\t<dd>1.93935964590833</dd>\n",
       "\t<dt>mass_700</dt>\n",
       "\t\t<dd>1.02325245403431</dd>\n",
       "\t<dt>mass_800</dt>\n",
       "\t\t<dd>1.38709895988113</dd>\n",
       "</dl>\n"
      ],
      "text/latex": [
       "\\begin{description*}\n",
       "\\item[mass\\textbackslash{}\\_400] 0.745024341928339\n",
       "\\item[mass\\textbackslash{}\\_500] 0.958017532848041\n",
       "\\item[mass\\textbackslash{}\\_600] 1.93935964590833\n",
       "\\item[mass\\textbackslash{}\\_700] 1.02325245403431\n",
       "\\item[mass\\textbackslash{}\\_800] 1.38709895988113\n",
       "\\end{description*}\n"
      ],
      "text/markdown": [
       "mass_400\n",
       ":   0.745024341928339mass_500\n",
       ":   0.958017532848041mass_600\n",
       ":   1.93935964590833mass_700\n",
       ":   1.02325245403431mass_800\n",
       ":   1.38709895988113\n",
       "\n"
      ],
      "text/plain": [
       " mass_400  mass_500  mass_600  mass_700  mass_800 \n",
       "0.7450243 0.9580175 1.9393596 1.0232525 1.3870990 "
      ]
     },
     "metadata": {},
     "output_type": "display_data"
    }
   ],
   "source": [
    "fch"
   ]
  },
  {
   "cell_type": "code",
   "execution_count": 10,
   "metadata": {
    "scrolled": false
   },
   "outputs": [],
   "source": [
    "df <- data.frame(fch,pval, pAdj)\n",
    "write.csv(df, \"PE-time-LA-wilcox-1C-3E.csv\")"
   ]
  },
  {
   "cell_type": "code",
   "execution_count": null,
   "metadata": {},
   "outputs": [],
   "source": []
  },
  {
   "cell_type": "code",
   "execution_count": null,
   "metadata": {},
   "outputs": [],
   "source": []
  },
  {
   "cell_type": "code",
   "execution_count": null,
   "metadata": {},
   "outputs": [],
   "source": []
  },
  {
   "cell_type": "code",
   "execution_count": null,
   "metadata": {},
   "outputs": [],
   "source": []
  },
  {
   "cell_type": "code",
   "execution_count": null,
   "metadata": {},
   "outputs": [],
   "source": []
  },
  {
   "cell_type": "code",
   "execution_count": null,
   "metadata": {},
   "outputs": [],
   "source": []
  }
 ],
 "metadata": {
  "kernelspec": {
   "display_name": "R",
   "language": "R",
   "name": "ir"
  },
  "language_info": {
   "codemirror_mode": "r",
   "file_extension": ".r",
   "mimetype": "text/x-r-source",
   "name": "R",
   "pygments_lexer": "r",
   "version": "3.6.1"
  }
 },
 "nbformat": 4,
 "nbformat_minor": 2
}
