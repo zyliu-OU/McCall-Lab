{
 "cells": [
  {
   "cell_type": "code",
   "execution_count": 1,
   "metadata": {},
   "outputs": [],
   "source": [
    "a <- read.csv(\"03172021-PE-treatment-LA-M-F.csv\")"
   ]
  },
  {
   "cell_type": "code",
   "execution_count": 2,
   "metadata": {},
   "outputs": [
    {
     "data": {
      "text/html": [
       "<table>\n",
       "<thead><tr><th scope=col>filename</th><th scope=col>MouseID</th><th scope=col>Treatmentgroup</th><th scope=col>DPI</th><th scope=col>organ</th><th scope=col>well_position</th><th scope=col>plate</th><th scope=col>mass_400</th><th scope=col>mass_500</th><th scope=col>mass_600</th><th scope=col>mass_700</th><th scope=col>mass_800</th></tr></thead>\n",
       "<tbody>\n",
       "\t<tr><td>X511_Group1C_142dpi_LA_161_G_A1_P120.mzXML</td><td>511                                       </td><td>naive                                     </td><td>142dpi                                    </td><td>LA                                        </td><td>A1                                        </td><td>P120                                      </td><td>0.002077955                               </td><td>0.002490702                               </td><td>0.00e+00                                  </td><td>0.000232453                               </td><td>0.000149389                               </td></tr>\n",
       "\t<tr><td>X512_Group1C_142dpi_LA_162_G_A2_P120.mzXML</td><td>512                                       </td><td>naive                                     </td><td>142dpi                                    </td><td>LA                                        </td><td>A2                                        </td><td>P120                                      </td><td>0.001422483                               </td><td>0.001827962                               </td><td>2.59e-05                                  </td><td>0.000955615                               </td><td>0.000000000                               </td></tr>\n",
       "\t<tr><td>X513_Group1C_142dpi_LA_163_G_A3_P120.mzXML</td><td>513                                       </td><td>naive                                     </td><td>142dpi                                    </td><td>LA                                        </td><td>A3                                        </td><td>P120                                      </td><td>0.000422008                               </td><td>0.001031656                               </td><td>4.61e-05                                  </td><td>0.000000000                               </td><td>0.000000000                               </td></tr>\n",
       "\t<tr><td>X514_Group1C_142dpi_LA_164_G_A4_P120.mzXML</td><td>514                                       </td><td>naive                                     </td><td>142dpi                                    </td><td>LA                                        </td><td>A4                                        </td><td>P120                                      </td><td>0.001861510                               </td><td>0.002679198                               </td><td>1.95e-05                                  </td><td>0.001053337                               </td><td>0.000081800                               </td></tr>\n",
       "\t<tr><td>X515_Group1C_142dpi_LA_165_G_A5_P120.mzXML</td><td>515                                       </td><td>naive                                     </td><td>142dpi                                    </td><td>LA                                        </td><td>A5                                        </td><td>P120                                      </td><td>0.001966674                               </td><td>0.002742174                               </td><td>2.00e-05                                  </td><td>0.000639894                               </td><td>0.000151910                               </td></tr>\n",
       "\t<tr><td>X531_Group1C_142dpi_LA_166_G_A6_P120.mzXML</td><td>531                                       </td><td>naive                                     </td><td>142dpi                                    </td><td>LA                                        </td><td>A6                                        </td><td>P120                                      </td><td>0.001182584                               </td><td>0.001621899                               </td><td>3.75e-05                                  </td><td>0.000000000                               </td><td>0.000000000                               </td></tr>\n",
       "</tbody>\n",
       "</table>\n"
      ],
      "text/latex": [
       "\\begin{tabular}{r|llllllllllll}\n",
       " filename & MouseID & Treatmentgroup & DPI & organ & well\\_position & plate & mass\\_400 & mass\\_500 & mass\\_600 & mass\\_700 & mass\\_800\\\\\n",
       "\\hline\n",
       "\t X511\\_Group1C\\_142dpi\\_LA\\_161\\_G\\_A1\\_P120.mzXML & 511                                                      & naive                                                    & 142dpi                                                   & LA                                                       & A1                                                       & P120                                                     & 0.002077955                                              & 0.002490702                                              & 0.00e+00                                                 & 0.000232453                                              & 0.000149389                                             \\\\\n",
       "\t X512\\_Group1C\\_142dpi\\_LA\\_162\\_G\\_A2\\_P120.mzXML & 512                                                      & naive                                                    & 142dpi                                                   & LA                                                       & A2                                                       & P120                                                     & 0.001422483                                              & 0.001827962                                              & 2.59e-05                                                 & 0.000955615                                              & 0.000000000                                             \\\\\n",
       "\t X513\\_Group1C\\_142dpi\\_LA\\_163\\_G\\_A3\\_P120.mzXML & 513                                                      & naive                                                    & 142dpi                                                   & LA                                                       & A3                                                       & P120                                                     & 0.000422008                                              & 0.001031656                                              & 4.61e-05                                                 & 0.000000000                                              & 0.000000000                                             \\\\\n",
       "\t X514\\_Group1C\\_142dpi\\_LA\\_164\\_G\\_A4\\_P120.mzXML & 514                                                      & naive                                                    & 142dpi                                                   & LA                                                       & A4                                                       & P120                                                     & 0.001861510                                              & 0.002679198                                              & 1.95e-05                                                 & 0.001053337                                              & 0.000081800                                             \\\\\n",
       "\t X515\\_Group1C\\_142dpi\\_LA\\_165\\_G\\_A5\\_P120.mzXML & 515                                                      & naive                                                    & 142dpi                                                   & LA                                                       & A5                                                       & P120                                                     & 0.001966674                                              & 0.002742174                                              & 2.00e-05                                                 & 0.000639894                                              & 0.000151910                                             \\\\\n",
       "\t X531\\_Group1C\\_142dpi\\_LA\\_166\\_G\\_A6\\_P120.mzXML & 531                                                      & naive                                                    & 142dpi                                                   & LA                                                       & A6                                                       & P120                                                     & 0.001182584                                              & 0.001621899                                              & 3.75e-05                                                 & 0.000000000                                              & 0.000000000                                             \\\\\n",
       "\\end{tabular}\n"
      ],
      "text/markdown": [
       "\n",
       "| filename | MouseID | Treatmentgroup | DPI | organ | well_position | plate | mass_400 | mass_500 | mass_600 | mass_700 | mass_800 |\n",
       "|---|---|---|---|---|---|---|---|---|---|---|---|\n",
       "| X511_Group1C_142dpi_LA_161_G_A1_P120.mzXML | 511                                        | naive                                      | 142dpi                                     | LA                                         | A1                                         | P120                                       | 0.002077955                                | 0.002490702                                | 0.00e+00                                   | 0.000232453                                | 0.000149389                                |\n",
       "| X512_Group1C_142dpi_LA_162_G_A2_P120.mzXML | 512                                        | naive                                      | 142dpi                                     | LA                                         | A2                                         | P120                                       | 0.001422483                                | 0.001827962                                | 2.59e-05                                   | 0.000955615                                | 0.000000000                                |\n",
       "| X513_Group1C_142dpi_LA_163_G_A3_P120.mzXML | 513                                        | naive                                      | 142dpi                                     | LA                                         | A3                                         | P120                                       | 0.000422008                                | 0.001031656                                | 4.61e-05                                   | 0.000000000                                | 0.000000000                                |\n",
       "| X514_Group1C_142dpi_LA_164_G_A4_P120.mzXML | 514                                        | naive                                      | 142dpi                                     | LA                                         | A4                                         | P120                                       | 0.001861510                                | 0.002679198                                | 1.95e-05                                   | 0.001053337                                | 0.000081800                                |\n",
       "| X515_Group1C_142dpi_LA_165_G_A5_P120.mzXML | 515                                        | naive                                      | 142dpi                                     | LA                                         | A5                                         | P120                                       | 0.001966674                                | 0.002742174                                | 2.00e-05                                   | 0.000639894                                | 0.000151910                                |\n",
       "| X531_Group1C_142dpi_LA_166_G_A6_P120.mzXML | 531                                        | naive                                      | 142dpi                                     | LA                                         | A6                                         | P120                                       | 0.001182584                                | 0.001621899                                | 3.75e-05                                   | 0.000000000                                | 0.000000000                                |\n",
       "\n"
      ],
      "text/plain": [
       "  filename                                   MouseID Treatmentgroup DPI   \n",
       "1 X511_Group1C_142dpi_LA_161_G_A1_P120.mzXML 511     naive          142dpi\n",
       "2 X512_Group1C_142dpi_LA_162_G_A2_P120.mzXML 512     naive          142dpi\n",
       "3 X513_Group1C_142dpi_LA_163_G_A3_P120.mzXML 513     naive          142dpi\n",
       "4 X514_Group1C_142dpi_LA_164_G_A4_P120.mzXML 514     naive          142dpi\n",
       "5 X515_Group1C_142dpi_LA_165_G_A5_P120.mzXML 515     naive          142dpi\n",
       "6 X531_Group1C_142dpi_LA_166_G_A6_P120.mzXML 531     naive          142dpi\n",
       "  organ well_position plate mass_400    mass_500    mass_600 mass_700   \n",
       "1 LA    A1            P120  0.002077955 0.002490702 0.00e+00 0.000232453\n",
       "2 LA    A2            P120  0.001422483 0.001827962 2.59e-05 0.000955615\n",
       "3 LA    A3            P120  0.000422008 0.001031656 4.61e-05 0.000000000\n",
       "4 LA    A4            P120  0.001861510 0.002679198 1.95e-05 0.001053337\n",
       "5 LA    A5            P120  0.001966674 0.002742174 2.00e-05 0.000639894\n",
       "6 LA    A6            P120  0.001182584 0.001621899 3.75e-05 0.000000000\n",
       "  mass_800   \n",
       "1 0.000149389\n",
       "2 0.000000000\n",
       "3 0.000000000\n",
       "4 0.000081800\n",
       "5 0.000151910\n",
       "6 0.000000000"
      ]
     },
     "metadata": {},
     "output_type": "display_data"
    },
    {
     "data": {
      "text/html": [
       "<ol class=list-inline>\n",
       "\t<li>60</li>\n",
       "\t<li>12</li>\n",
       "</ol>\n"
      ],
      "text/latex": [
       "\\begin{enumerate*}\n",
       "\\item 60\n",
       "\\item 12\n",
       "\\end{enumerate*}\n"
      ],
      "text/markdown": [
       "1. 60\n",
       "2. 12\n",
       "\n",
       "\n"
      ],
      "text/plain": [
       "[1] 60 12"
      ]
     },
     "metadata": {},
     "output_type": "display_data"
    }
   ],
   "source": [
    "head(a)\n",
    "dim(a)"
   ]
  },
  {
   "cell_type": "code",
   "execution_count": 3,
   "metadata": {},
   "outputs": [
    {
     "data": {
      "text/html": [
       "<table>\n",
       "<thead><tr><th></th><th scope=col>filename</th><th scope=col>MouseID</th><th scope=col>Treatmentgroup</th><th scope=col>DPI</th><th scope=col>organ</th><th scope=col>well_position</th><th scope=col>plate</th><th scope=col>mass_400</th><th scope=col>mass_500</th><th scope=col>mass_600</th><th scope=col>mass_700</th><th scope=col>mass_800</th></tr></thead>\n",
       "<tbody>\n",
       "\t<tr><th scope=row>21</th><td>X611_Group9_142dpi_LA_181_G_B9_P120.mzXML </td><td>611                                       </td><td>combo                                     </td><td>142dpi                                    </td><td>LA                                        </td><td>B9                                        </td><td>P120                                      </td><td>0.002783635                               </td><td>0.003425629                               </td><td>0.000045600                               </td><td>0.000832183                               </td><td>0.000000000                               </td></tr>\n",
       "\t<tr><th scope=row>22</th><td>X612_Group9_142dpi_LA_182_G_B10_P120.mzXML</td><td>612                                       </td><td>combo                                     </td><td>142dpi                                    </td><td>LA                                        </td><td>B10                                       </td><td>P120                                      </td><td>0.002159900                               </td><td>0.001721661                               </td><td>0.000000000                               </td><td>0.000350532                               </td><td>0.000000000                               </td></tr>\n",
       "\t<tr><th scope=row>23</th><td>X613_Group9_142dpi_LA_183_G_B11_P120.mzXML</td><td>613                                       </td><td>combo                                     </td><td>142dpi                                    </td><td>LA                                        </td><td>B11                                       </td><td>P120                                      </td><td>0.001764529                               </td><td>0.001513378                               </td><td>0.000018700                               </td><td>0.000700973                               </td><td>0.000000000                               </td></tr>\n",
       "\t<tr><th scope=row>24</th><td>X614_Group9_142dpi_LA_184_G_B12_P120.mzXML</td><td>614                                       </td><td>combo                                     </td><td>142dpi                                    </td><td>LA                                        </td><td>B12                                       </td><td>P120                                      </td><td>0.001613998                               </td><td>0.001328994                               </td><td>0.000000000                               </td><td>0.001203537                               </td><td>0.000000000                               </td></tr>\n",
       "\t<tr><th scope=row>25</th><td>X615_Group9_142dpi_LA_185_G_C1_P120.mzXML </td><td>615                                       </td><td>combo                                     </td><td>142dpi                                    </td><td>LA                                        </td><td>C1                                        </td><td>P120                                      </td><td>0.001740730                               </td><td>0.003000567                               </td><td>0.000077000                               </td><td>0.000888956                               </td><td>0.000111877                               </td></tr>\n",
       "\t<tr><th scope=row>26</th><td>X631_Group15_142dpi_LA_191_G_C7_P120.mzXML</td><td>631                                       </td><td>BNZ                                       </td><td>142dpi                                    </td><td>LA                                        </td><td>C7                                        </td><td>P120                                      </td><td>0.002346225                               </td><td>0.003462907                               </td><td>0.000108091                               </td><td>0.001227320                               </td><td>0.000248173                               </td></tr>\n",
       "</tbody>\n",
       "</table>\n"
      ],
      "text/latex": [
       "\\begin{tabular}{r|llllllllllll}\n",
       "  & filename & MouseID & Treatmentgroup & DPI & organ & well\\_position & plate & mass\\_400 & mass\\_500 & mass\\_600 & mass\\_700 & mass\\_800\\\\\n",
       "\\hline\n",
       "\t21 & X611\\_Group9\\_142dpi\\_LA\\_181\\_G\\_B9\\_P120.mzXML  & 611                                                      & combo                                                    & 142dpi                                                   & LA                                                       & B9                                                       & P120                                                     & 0.002783635                                              & 0.003425629                                              & 0.000045600                                              & 0.000832183                                              & 0.000000000                                             \\\\\n",
       "\t22 & X612\\_Group9\\_142dpi\\_LA\\_182\\_G\\_B10\\_P120.mzXML & 612                                                      & combo                                                    & 142dpi                                                   & LA                                                       & B10                                                      & P120                                                     & 0.002159900                                              & 0.001721661                                              & 0.000000000                                              & 0.000350532                                              & 0.000000000                                             \\\\\n",
       "\t23 & X613\\_Group9\\_142dpi\\_LA\\_183\\_G\\_B11\\_P120.mzXML & 613                                                      & combo                                                    & 142dpi                                                   & LA                                                       & B11                                                      & P120                                                     & 0.001764529                                              & 0.001513378                                              & 0.000018700                                              & 0.000700973                                              & 0.000000000                                             \\\\\n",
       "\t24 & X614\\_Group9\\_142dpi\\_LA\\_184\\_G\\_B12\\_P120.mzXML & 614                                                      & combo                                                    & 142dpi                                                   & LA                                                       & B12                                                      & P120                                                     & 0.001613998                                              & 0.001328994                                              & 0.000000000                                              & 0.001203537                                              & 0.000000000                                             \\\\\n",
       "\t25 & X615\\_Group9\\_142dpi\\_LA\\_185\\_G\\_C1\\_P120.mzXML  & 615                                                      & combo                                                    & 142dpi                                                   & LA                                                       & C1                                                       & P120                                                     & 0.001740730                                              & 0.003000567                                              & 0.000077000                                              & 0.000888956                                              & 0.000111877                                             \\\\\n",
       "\t26 & X631\\_Group15\\_142dpi\\_LA\\_191\\_G\\_C7\\_P120.mzXML & 631                                                      & BNZ                                                      & 142dpi                                                   & LA                                                       & C7                                                       & P120                                                     & 0.002346225                                              & 0.003462907                                              & 0.000108091                                              & 0.001227320                                              & 0.000248173                                             \\\\\n",
       "\\end{tabular}\n"
      ],
      "text/markdown": [
       "\n",
       "| <!--/--> | filename | MouseID | Treatmentgroup | DPI | organ | well_position | plate | mass_400 | mass_500 | mass_600 | mass_700 | mass_800 |\n",
       "|---|---|---|---|---|---|---|---|---|---|---|---|---|\n",
       "| 21 | X611_Group9_142dpi_LA_181_G_B9_P120.mzXML  | 611                                        | combo                                      | 142dpi                                     | LA                                         | B9                                         | P120                                       | 0.002783635                                | 0.003425629                                | 0.000045600                                | 0.000832183                                | 0.000000000                                |\n",
       "| 22 | X612_Group9_142dpi_LA_182_G_B10_P120.mzXML | 612                                        | combo                                      | 142dpi                                     | LA                                         | B10                                        | P120                                       | 0.002159900                                | 0.001721661                                | 0.000000000                                | 0.000350532                                | 0.000000000                                |\n",
       "| 23 | X613_Group9_142dpi_LA_183_G_B11_P120.mzXML | 613                                        | combo                                      | 142dpi                                     | LA                                         | B11                                        | P120                                       | 0.001764529                                | 0.001513378                                | 0.000018700                                | 0.000700973                                | 0.000000000                                |\n",
       "| 24 | X614_Group9_142dpi_LA_184_G_B12_P120.mzXML | 614                                        | combo                                      | 142dpi                                     | LA                                         | B12                                        | P120                                       | 0.001613998                                | 0.001328994                                | 0.000000000                                | 0.001203537                                | 0.000000000                                |\n",
       "| 25 | X615_Group9_142dpi_LA_185_G_C1_P120.mzXML  | 615                                        | combo                                      | 142dpi                                     | LA                                         | C1                                         | P120                                       | 0.001740730                                | 0.003000567                                | 0.000077000                                | 0.000888956                                | 0.000111877                                |\n",
       "| 26 | X631_Group15_142dpi_LA_191_G_C7_P120.mzXML | 631                                        | BNZ                                        | 142dpi                                     | LA                                         | C7                                         | P120                                       | 0.002346225                                | 0.003462907                                | 0.000108091                                | 0.001227320                                | 0.000248173                                |\n",
       "\n"
      ],
      "text/plain": [
       "   filename                                   MouseID Treatmentgroup DPI   \n",
       "21 X611_Group9_142dpi_LA_181_G_B9_P120.mzXML  611     combo          142dpi\n",
       "22 X612_Group9_142dpi_LA_182_G_B10_P120.mzXML 612     combo          142dpi\n",
       "23 X613_Group9_142dpi_LA_183_G_B11_P120.mzXML 613     combo          142dpi\n",
       "24 X614_Group9_142dpi_LA_184_G_B12_P120.mzXML 614     combo          142dpi\n",
       "25 X615_Group9_142dpi_LA_185_G_C1_P120.mzXML  615     combo          142dpi\n",
       "26 X631_Group15_142dpi_LA_191_G_C7_P120.mzXML 631     BNZ            142dpi\n",
       "   organ well_position plate mass_400    mass_500    mass_600    mass_700   \n",
       "21 LA    B9            P120  0.002783635 0.003425629 0.000045600 0.000832183\n",
       "22 LA    B10           P120  0.002159900 0.001721661 0.000000000 0.000350532\n",
       "23 LA    B11           P120  0.001764529 0.001513378 0.000018700 0.000700973\n",
       "24 LA    B12           P120  0.001613998 0.001328994 0.000000000 0.001203537\n",
       "25 LA    C1            P120  0.001740730 0.003000567 0.000077000 0.000888956\n",
       "26 LA    C7            P120  0.002346225 0.003462907 0.000108091 0.001227320\n",
       "   mass_800   \n",
       "21 0.000000000\n",
       "22 0.000000000\n",
       "23 0.000000000\n",
       "24 0.000000000\n",
       "25 0.000111877\n",
       "26 0.000248173"
      ]
     },
     "metadata": {},
     "output_type": "display_data"
    },
    {
     "data": {
      "text/html": [
       "<ol class=list-inline>\n",
       "\t<li>30</li>\n",
       "\t<li>12</li>\n",
       "</ol>\n"
      ],
      "text/latex": [
       "\\begin{enumerate*}\n",
       "\\item 30\n",
       "\\item 12\n",
       "\\end{enumerate*}\n"
      ],
      "text/markdown": [
       "1. 30\n",
       "2. 12\n",
       "\n",
       "\n"
      ],
      "text/plain": [
       "[1] 30 12"
      ]
     },
     "metadata": {},
     "output_type": "display_data"
    }
   ],
   "source": [
    "features_pos<-droplevels(subset(a, a$Treatmentgroup==c(\"combo\")|a$Treatmentgroup==c(\"BNZ\")))\n",
    "head(features_pos)\n",
    "dim(features_pos)"
   ]
  },
  {
   "cell_type": "code",
   "execution_count": 4,
   "metadata": {
    "scrolled": false
   },
   "outputs": [
    {
     "data": {
      "text/html": [
       "<table>\n",
       "<thead><tr><th></th><th scope=col>mass_400</th><th scope=col>mass_500</th><th scope=col>mass_600</th><th scope=col>mass_700</th><th scope=col>mass_800</th></tr></thead>\n",
       "<tbody>\n",
       "\t<tr><th scope=row>21</th><td>0.002783635</td><td>0.003425629</td><td>0.000045600</td><td>0.000832183</td><td>0.000000000</td></tr>\n",
       "\t<tr><th scope=row>22</th><td>0.002159900</td><td>0.001721661</td><td>0.000000000</td><td>0.000350532</td><td>0.000000000</td></tr>\n",
       "\t<tr><th scope=row>23</th><td>0.001764529</td><td>0.001513378</td><td>0.000018700</td><td>0.000700973</td><td>0.000000000</td></tr>\n",
       "\t<tr><th scope=row>24</th><td>0.001613998</td><td>0.001328994</td><td>0.000000000</td><td>0.001203537</td><td>0.000000000</td></tr>\n",
       "\t<tr><th scope=row>25</th><td>0.001740730</td><td>0.003000567</td><td>0.000077000</td><td>0.000888956</td><td>0.000111877</td></tr>\n",
       "\t<tr><th scope=row>26</th><td>0.002346225</td><td>0.003462907</td><td>0.000108091</td><td>0.001227320</td><td>0.000248173</td></tr>\n",
       "</tbody>\n",
       "</table>\n"
      ],
      "text/latex": [
       "\\begin{tabular}{r|lllll}\n",
       "  & mass\\_400 & mass\\_500 & mass\\_600 & mass\\_700 & mass\\_800\\\\\n",
       "\\hline\n",
       "\t21 & 0.002783635 & 0.003425629 & 0.000045600 & 0.000832183 & 0.000000000\\\\\n",
       "\t22 & 0.002159900 & 0.001721661 & 0.000000000 & 0.000350532 & 0.000000000\\\\\n",
       "\t23 & 0.001764529 & 0.001513378 & 0.000018700 & 0.000700973 & 0.000000000\\\\\n",
       "\t24 & 0.001613998 & 0.001328994 & 0.000000000 & 0.001203537 & 0.000000000\\\\\n",
       "\t25 & 0.001740730 & 0.003000567 & 0.000077000 & 0.000888956 & 0.000111877\\\\\n",
       "\t26 & 0.002346225 & 0.003462907 & 0.000108091 & 0.001227320 & 0.000248173\\\\\n",
       "\\end{tabular}\n"
      ],
      "text/markdown": [
       "\n",
       "| <!--/--> | mass_400 | mass_500 | mass_600 | mass_700 | mass_800 |\n",
       "|---|---|---|---|---|---|\n",
       "| 21 | 0.002783635 | 0.003425629 | 0.000045600 | 0.000832183 | 0.000000000 |\n",
       "| 22 | 0.002159900 | 0.001721661 | 0.000000000 | 0.000350532 | 0.000000000 |\n",
       "| 23 | 0.001764529 | 0.001513378 | 0.000018700 | 0.000700973 | 0.000000000 |\n",
       "| 24 | 0.001613998 | 0.001328994 | 0.000000000 | 0.001203537 | 0.000000000 |\n",
       "| 25 | 0.001740730 | 0.003000567 | 0.000077000 | 0.000888956 | 0.000111877 |\n",
       "| 26 | 0.002346225 | 0.003462907 | 0.000108091 | 0.001227320 | 0.000248173 |\n",
       "\n"
      ],
      "text/plain": [
       "   mass_400    mass_500    mass_600    mass_700    mass_800   \n",
       "21 0.002783635 0.003425629 0.000045600 0.000832183 0.000000000\n",
       "22 0.002159900 0.001721661 0.000000000 0.000350532 0.000000000\n",
       "23 0.001764529 0.001513378 0.000018700 0.000700973 0.000000000\n",
       "24 0.001613998 0.001328994 0.000000000 0.001203537 0.000000000\n",
       "25 0.001740730 0.003000567 0.000077000 0.000888956 0.000111877\n",
       "26 0.002346225 0.003462907 0.000108091 0.001227320 0.000248173"
      ]
     },
     "metadata": {},
     "output_type": "display_data"
    },
    {
     "data": {
      "text/html": [
       "<dl class=dl-horizontal>\n",
       "\t<dt>mass_400</dt>\n",
       "\t\t<dd>1</dd>\n",
       "\t<dt>mass_500</dt>\n",
       "\t\t<dd>2</dd>\n",
       "\t<dt>mass_600</dt>\n",
       "\t\t<dd>3</dd>\n",
       "\t<dt>mass_700</dt>\n",
       "\t\t<dd>4</dd>\n",
       "\t<dt>mass_800</dt>\n",
       "\t\t<dd>5</dd>\n",
       "</dl>\n"
      ],
      "text/latex": [
       "\\begin{description*}\n",
       "\\item[mass\\textbackslash{}\\_400] 1\n",
       "\\item[mass\\textbackslash{}\\_500] 2\n",
       "\\item[mass\\textbackslash{}\\_600] 3\n",
       "\\item[mass\\textbackslash{}\\_700] 4\n",
       "\\item[mass\\textbackslash{}\\_800] 5\n",
       "\\end{description*}\n"
      ],
      "text/markdown": [
       "mass_400\n",
       ":   1mass_500\n",
       ":   2mass_600\n",
       ":   3mass_700\n",
       ":   4mass_800\n",
       ":   5\n",
       "\n"
      ],
      "text/plain": [
       "mass_400 mass_500 mass_600 mass_700 mass_800 \n",
       "       1        2        3        4        5 "
      ]
     },
     "metadata": {},
     "output_type": "display_data"
    },
    {
     "data": {
      "text/html": [
       "<table>\n",
       "<thead><tr><th></th><th scope=col>mass_400</th><th scope=col>mass_500</th><th scope=col>mass_600</th><th scope=col>mass_700</th><th scope=col>mass_800</th></tr></thead>\n",
       "<tbody>\n",
       "\t<tr><th scope=row>21</th><td>0.002783635</td><td>0.003425629</td><td>0.000045600</td><td>0.000832183</td><td>0.000000000</td></tr>\n",
       "\t<tr><th scope=row>22</th><td>0.002159900</td><td>0.001721661</td><td>0.000000000</td><td>0.000350532</td><td>0.000000000</td></tr>\n",
       "\t<tr><th scope=row>23</th><td>0.001764529</td><td>0.001513378</td><td>0.000018700</td><td>0.000700973</td><td>0.000000000</td></tr>\n",
       "\t<tr><th scope=row>24</th><td>0.001613998</td><td>0.001328994</td><td>0.000000000</td><td>0.001203537</td><td>0.000000000</td></tr>\n",
       "\t<tr><th scope=row>25</th><td>0.001740730</td><td>0.003000567</td><td>0.000077000</td><td>0.000888956</td><td>0.000111877</td></tr>\n",
       "\t<tr><th scope=row>26</th><td>0.002346225</td><td>0.003462907</td><td>0.000108091</td><td>0.001227320</td><td>0.000248173</td></tr>\n",
       "\t<tr><th scope=row>27</th><td>0.001375996</td><td>0.001192738</td><td>0.000048400</td><td>0.000000000</td><td>0.000000000</td></tr>\n",
       "\t<tr><th scope=row>28</th><td>0.000180100</td><td>0.000598382</td><td>0.000022800</td><td>0.000083200</td><td>0.000000000</td></tr>\n",
       "\t<tr><th scope=row>29</th><td>0.001592335</td><td>0.001875963</td><td>0.000000000</td><td>0.000205292</td><td>0.000000000</td></tr>\n",
       "\t<tr><th scope=row>30</th><td>0.000590930</td><td>0.001170181</td><td>0.000000000</td><td>0.000141400</td><td>0.000000000</td></tr>\n",
       "\t<tr><th scope=row>36</th><td>0.000337976</td><td>0.000736000</td><td>0.000000000</td><td>0.000000000</td><td>0.000000000</td></tr>\n",
       "\t<tr><th scope=row>37</th><td>0.001050271</td><td>0.001030000</td><td>0.000000000</td><td>0.000000000</td><td>0.000000000</td></tr>\n",
       "\t<tr><th scope=row>38</th><td>0.001770978</td><td>0.002450000</td><td>0.000000000</td><td>0.000940385</td><td>0.000000000</td></tr>\n",
       "\t<tr><th scope=row>39</th><td>0.003831133</td><td>0.004760299</td><td>0.000135928</td><td>0.002288139</td><td>0.000075700</td></tr>\n",
       "\t<tr><th scope=row>40</th><td>0.003709793</td><td>0.006821428</td><td>0.000120550</td><td>0.005153266</td><td>0.000292134</td></tr>\n",
       "\t<tr><th scope=row>41</th><td>0.000591894</td><td>0.001237021</td><td>0.000000000</td><td>0.000000000</td><td>0.000000000</td></tr>\n",
       "\t<tr><th scope=row>42</th><td>0.000628128</td><td>0.001186251</td><td>0.000000000</td><td>0.001090241</td><td>0.000000000</td></tr>\n",
       "\t<tr><th scope=row>43</th><td>0.001364169</td><td>0.002309028</td><td>0.000000000</td><td>0.000973225</td><td>0.000000000</td></tr>\n",
       "\t<tr><th scope=row>44</th><td>0.001896093</td><td>0.002188046</td><td>0.000024200</td><td>0.000718581</td><td>0.000000000</td></tr>\n",
       "\t<tr><th scope=row>45</th><td>0.000867146</td><td>0.001508218</td><td>0.000000000</td><td>0.000000000</td><td>0.000000000</td></tr>\n",
       "\t<tr><th scope=row>51</th><td>0.001551798</td><td>0.002182888</td><td>0.000000000</td><td>0.000267723</td><td>0.000000000</td></tr>\n",
       "\t<tr><th scope=row>52</th><td>0.000842800</td><td>0.001290000</td><td>0.000000000</td><td>0.000000000</td><td>0.000000000</td></tr>\n",
       "\t<tr><th scope=row>53</th><td>0.001695478</td><td>0.001914254</td><td>0.000000000</td><td>0.000000000</td><td>0.000000000</td></tr>\n",
       "\t<tr><th scope=row>54</th><td>0.001015298</td><td>0.001010000</td><td>0.000000000</td><td>0.000000000</td><td>0.000000000</td></tr>\n",
       "\t<tr><th scope=row>55</th><td>0.004088860</td><td>0.004889050</td><td>0.000217666</td><td>0.002034145</td><td>0.000222247</td></tr>\n",
       "\t<tr><th scope=row>56</th><td>0.000921969</td><td>0.001712642</td><td>0.000000000</td><td>0.000825071</td><td>0.000000000</td></tr>\n",
       "\t<tr><th scope=row>57</th><td>0.001670379</td><td>0.002969716</td><td>0.000038600</td><td>0.001922137</td><td>0.000294969</td></tr>\n",
       "\t<tr><th scope=row>58</th><td>0.001139409</td><td>0.002460000</td><td>0.000022700</td><td>0.002328150</td><td>0.000236968</td></tr>\n",
       "\t<tr><th scope=row>59</th><td>0.000204856</td><td>0.001440000</td><td>0.000000000</td><td>0.001500000</td><td>0.000000000</td></tr>\n",
       "\t<tr><th scope=row>60</th><td>0.000933078</td><td>0.001332973</td><td>0.000000000</td><td>0.000323864</td><td>0.000000000</td></tr>\n",
       "</tbody>\n",
       "</table>\n"
      ],
      "text/latex": [
       "\\begin{tabular}{r|lllll}\n",
       "  & mass\\_400 & mass\\_500 & mass\\_600 & mass\\_700 & mass\\_800\\\\\n",
       "\\hline\n",
       "\t21 & 0.002783635 & 0.003425629 & 0.000045600 & 0.000832183 & 0.000000000\\\\\n",
       "\t22 & 0.002159900 & 0.001721661 & 0.000000000 & 0.000350532 & 0.000000000\\\\\n",
       "\t23 & 0.001764529 & 0.001513378 & 0.000018700 & 0.000700973 & 0.000000000\\\\\n",
       "\t24 & 0.001613998 & 0.001328994 & 0.000000000 & 0.001203537 & 0.000000000\\\\\n",
       "\t25 & 0.001740730 & 0.003000567 & 0.000077000 & 0.000888956 & 0.000111877\\\\\n",
       "\t26 & 0.002346225 & 0.003462907 & 0.000108091 & 0.001227320 & 0.000248173\\\\\n",
       "\t27 & 0.001375996 & 0.001192738 & 0.000048400 & 0.000000000 & 0.000000000\\\\\n",
       "\t28 & 0.000180100 & 0.000598382 & 0.000022800 & 0.000083200 & 0.000000000\\\\\n",
       "\t29 & 0.001592335 & 0.001875963 & 0.000000000 & 0.000205292 & 0.000000000\\\\\n",
       "\t30 & 0.000590930 & 0.001170181 & 0.000000000 & 0.000141400 & 0.000000000\\\\\n",
       "\t36 & 0.000337976 & 0.000736000 & 0.000000000 & 0.000000000 & 0.000000000\\\\\n",
       "\t37 & 0.001050271 & 0.001030000 & 0.000000000 & 0.000000000 & 0.000000000\\\\\n",
       "\t38 & 0.001770978 & 0.002450000 & 0.000000000 & 0.000940385 & 0.000000000\\\\\n",
       "\t39 & 0.003831133 & 0.004760299 & 0.000135928 & 0.002288139 & 0.000075700\\\\\n",
       "\t40 & 0.003709793 & 0.006821428 & 0.000120550 & 0.005153266 & 0.000292134\\\\\n",
       "\t41 & 0.000591894 & 0.001237021 & 0.000000000 & 0.000000000 & 0.000000000\\\\\n",
       "\t42 & 0.000628128 & 0.001186251 & 0.000000000 & 0.001090241 & 0.000000000\\\\\n",
       "\t43 & 0.001364169 & 0.002309028 & 0.000000000 & 0.000973225 & 0.000000000\\\\\n",
       "\t44 & 0.001896093 & 0.002188046 & 0.000024200 & 0.000718581 & 0.000000000\\\\\n",
       "\t45 & 0.000867146 & 0.001508218 & 0.000000000 & 0.000000000 & 0.000000000\\\\\n",
       "\t51 & 0.001551798 & 0.002182888 & 0.000000000 & 0.000267723 & 0.000000000\\\\\n",
       "\t52 & 0.000842800 & 0.001290000 & 0.000000000 & 0.000000000 & 0.000000000\\\\\n",
       "\t53 & 0.001695478 & 0.001914254 & 0.000000000 & 0.000000000 & 0.000000000\\\\\n",
       "\t54 & 0.001015298 & 0.001010000 & 0.000000000 & 0.000000000 & 0.000000000\\\\\n",
       "\t55 & 0.004088860 & 0.004889050 & 0.000217666 & 0.002034145 & 0.000222247\\\\\n",
       "\t56 & 0.000921969 & 0.001712642 & 0.000000000 & 0.000825071 & 0.000000000\\\\\n",
       "\t57 & 0.001670379 & 0.002969716 & 0.000038600 & 0.001922137 & 0.000294969\\\\\n",
       "\t58 & 0.001139409 & 0.002460000 & 0.000022700 & 0.002328150 & 0.000236968\\\\\n",
       "\t59 & 0.000204856 & 0.001440000 & 0.000000000 & 0.001500000 & 0.000000000\\\\\n",
       "\t60 & 0.000933078 & 0.001332973 & 0.000000000 & 0.000323864 & 0.000000000\\\\\n",
       "\\end{tabular}\n"
      ],
      "text/markdown": [
       "\n",
       "| <!--/--> | mass_400 | mass_500 | mass_600 | mass_700 | mass_800 |\n",
       "|---|---|---|---|---|---|\n",
       "| 21 | 0.002783635 | 0.003425629 | 0.000045600 | 0.000832183 | 0.000000000 |\n",
       "| 22 | 0.002159900 | 0.001721661 | 0.000000000 | 0.000350532 | 0.000000000 |\n",
       "| 23 | 0.001764529 | 0.001513378 | 0.000018700 | 0.000700973 | 0.000000000 |\n",
       "| 24 | 0.001613998 | 0.001328994 | 0.000000000 | 0.001203537 | 0.000000000 |\n",
       "| 25 | 0.001740730 | 0.003000567 | 0.000077000 | 0.000888956 | 0.000111877 |\n",
       "| 26 | 0.002346225 | 0.003462907 | 0.000108091 | 0.001227320 | 0.000248173 |\n",
       "| 27 | 0.001375996 | 0.001192738 | 0.000048400 | 0.000000000 | 0.000000000 |\n",
       "| 28 | 0.000180100 | 0.000598382 | 0.000022800 | 0.000083200 | 0.000000000 |\n",
       "| 29 | 0.001592335 | 0.001875963 | 0.000000000 | 0.000205292 | 0.000000000 |\n",
       "| 30 | 0.000590930 | 0.001170181 | 0.000000000 | 0.000141400 | 0.000000000 |\n",
       "| 36 | 0.000337976 | 0.000736000 | 0.000000000 | 0.000000000 | 0.000000000 |\n",
       "| 37 | 0.001050271 | 0.001030000 | 0.000000000 | 0.000000000 | 0.000000000 |\n",
       "| 38 | 0.001770978 | 0.002450000 | 0.000000000 | 0.000940385 | 0.000000000 |\n",
       "| 39 | 0.003831133 | 0.004760299 | 0.000135928 | 0.002288139 | 0.000075700 |\n",
       "| 40 | 0.003709793 | 0.006821428 | 0.000120550 | 0.005153266 | 0.000292134 |\n",
       "| 41 | 0.000591894 | 0.001237021 | 0.000000000 | 0.000000000 | 0.000000000 |\n",
       "| 42 | 0.000628128 | 0.001186251 | 0.000000000 | 0.001090241 | 0.000000000 |\n",
       "| 43 | 0.001364169 | 0.002309028 | 0.000000000 | 0.000973225 | 0.000000000 |\n",
       "| 44 | 0.001896093 | 0.002188046 | 0.000024200 | 0.000718581 | 0.000000000 |\n",
       "| 45 | 0.000867146 | 0.001508218 | 0.000000000 | 0.000000000 | 0.000000000 |\n",
       "| 51 | 0.001551798 | 0.002182888 | 0.000000000 | 0.000267723 | 0.000000000 |\n",
       "| 52 | 0.000842800 | 0.001290000 | 0.000000000 | 0.000000000 | 0.000000000 |\n",
       "| 53 | 0.001695478 | 0.001914254 | 0.000000000 | 0.000000000 | 0.000000000 |\n",
       "| 54 | 0.001015298 | 0.001010000 | 0.000000000 | 0.000000000 | 0.000000000 |\n",
       "| 55 | 0.004088860 | 0.004889050 | 0.000217666 | 0.002034145 | 0.000222247 |\n",
       "| 56 | 0.000921969 | 0.001712642 | 0.000000000 | 0.000825071 | 0.000000000 |\n",
       "| 57 | 0.001670379 | 0.002969716 | 0.000038600 | 0.001922137 | 0.000294969 |\n",
       "| 58 | 0.001139409 | 0.002460000 | 0.000022700 | 0.002328150 | 0.000236968 |\n",
       "| 59 | 0.000204856 | 0.001440000 | 0.000000000 | 0.001500000 | 0.000000000 |\n",
       "| 60 | 0.000933078 | 0.001332973 | 0.000000000 | 0.000323864 | 0.000000000 |\n",
       "\n"
      ],
      "text/plain": [
       "   mass_400    mass_500    mass_600    mass_700    mass_800   \n",
       "21 0.002783635 0.003425629 0.000045600 0.000832183 0.000000000\n",
       "22 0.002159900 0.001721661 0.000000000 0.000350532 0.000000000\n",
       "23 0.001764529 0.001513378 0.000018700 0.000700973 0.000000000\n",
       "24 0.001613998 0.001328994 0.000000000 0.001203537 0.000000000\n",
       "25 0.001740730 0.003000567 0.000077000 0.000888956 0.000111877\n",
       "26 0.002346225 0.003462907 0.000108091 0.001227320 0.000248173\n",
       "27 0.001375996 0.001192738 0.000048400 0.000000000 0.000000000\n",
       "28 0.000180100 0.000598382 0.000022800 0.000083200 0.000000000\n",
       "29 0.001592335 0.001875963 0.000000000 0.000205292 0.000000000\n",
       "30 0.000590930 0.001170181 0.000000000 0.000141400 0.000000000\n",
       "36 0.000337976 0.000736000 0.000000000 0.000000000 0.000000000\n",
       "37 0.001050271 0.001030000 0.000000000 0.000000000 0.000000000\n",
       "38 0.001770978 0.002450000 0.000000000 0.000940385 0.000000000\n",
       "39 0.003831133 0.004760299 0.000135928 0.002288139 0.000075700\n",
       "40 0.003709793 0.006821428 0.000120550 0.005153266 0.000292134\n",
       "41 0.000591894 0.001237021 0.000000000 0.000000000 0.000000000\n",
       "42 0.000628128 0.001186251 0.000000000 0.001090241 0.000000000\n",
       "43 0.001364169 0.002309028 0.000000000 0.000973225 0.000000000\n",
       "44 0.001896093 0.002188046 0.000024200 0.000718581 0.000000000\n",
       "45 0.000867146 0.001508218 0.000000000 0.000000000 0.000000000\n",
       "51 0.001551798 0.002182888 0.000000000 0.000267723 0.000000000\n",
       "52 0.000842800 0.001290000 0.000000000 0.000000000 0.000000000\n",
       "53 0.001695478 0.001914254 0.000000000 0.000000000 0.000000000\n",
       "54 0.001015298 0.001010000 0.000000000 0.000000000 0.000000000\n",
       "55 0.004088860 0.004889050 0.000217666 0.002034145 0.000222247\n",
       "56 0.000921969 0.001712642 0.000000000 0.000825071 0.000000000\n",
       "57 0.001670379 0.002969716 0.000038600 0.001922137 0.000294969\n",
       "58 0.001139409 0.002460000 0.000022700 0.002328150 0.000236968\n",
       "59 0.000204856 0.001440000 0.000000000 0.001500000 0.000000000\n",
       "60 0.000933078 0.001332973 0.000000000 0.000323864 0.000000000"
      ]
     },
     "metadata": {},
     "output_type": "display_data"
    },
    {
     "data": {
      "text/html": [
       "<table>\n",
       "<thead><tr><th></th><th scope=col>filename</th><th scope=col>MouseID</th><th scope=col>Treatmentgroup</th><th scope=col>DPI</th><th scope=col>organ</th><th scope=col>well_position</th><th scope=col>plate</th><th scope=col>mass_400</th><th scope=col>mass_500</th><th scope=col>mass_600</th><th scope=col>mass_700</th><th scope=col>mass_800</th></tr></thead>\n",
       "<tbody>\n",
       "\t<tr><th scope=row>21</th><td>X611_Group9_142dpi_LA_181_G_B9_P120.mzXML </td><td>611                                       </td><td>combo                                     </td><td>142dpi                                    </td><td>LA                                        </td><td>B9                                        </td><td>P120                                      </td><td>0.002783635                               </td><td>0.003425629                               </td><td>0.000045600                               </td><td>0.000832183                               </td><td>0.000000000                               </td></tr>\n",
       "\t<tr><th scope=row>22</th><td>X612_Group9_142dpi_LA_182_G_B10_P120.mzXML</td><td>612                                       </td><td>combo                                     </td><td>142dpi                                    </td><td>LA                                        </td><td>B10                                       </td><td>P120                                      </td><td>0.002159900                               </td><td>0.001721661                               </td><td>0.000000000                               </td><td>0.000350532                               </td><td>0.000000000                               </td></tr>\n",
       "\t<tr><th scope=row>23</th><td>X613_Group9_142dpi_LA_183_G_B11_P120.mzXML</td><td>613                                       </td><td>combo                                     </td><td>142dpi                                    </td><td>LA                                        </td><td>B11                                       </td><td>P120                                      </td><td>0.001764529                               </td><td>0.001513378                               </td><td>0.000018700                               </td><td>0.000700973                               </td><td>0.000000000                               </td></tr>\n",
       "\t<tr><th scope=row>24</th><td>X614_Group9_142dpi_LA_184_G_B12_P120.mzXML</td><td>614                                       </td><td>combo                                     </td><td>142dpi                                    </td><td>LA                                        </td><td>B12                                       </td><td>P120                                      </td><td>0.001613998                               </td><td>0.001328994                               </td><td>0.000000000                               </td><td>0.001203537                               </td><td>0.000000000                               </td></tr>\n",
       "\t<tr><th scope=row>25</th><td>X615_Group9_142dpi_LA_185_G_C1_P120.mzXML </td><td>615                                       </td><td>combo                                     </td><td>142dpi                                    </td><td>LA                                        </td><td>C1                                        </td><td>P120                                      </td><td>0.001740730                               </td><td>0.003000567                               </td><td>0.000077000                               </td><td>0.000888956                               </td><td>0.000111877                               </td></tr>\n",
       "\t<tr><th scope=row>26</th><td>X631_Group15_142dpi_LA_191_G_C7_P120.mzXML</td><td>631                                       </td><td>BNZ                                       </td><td>142dpi                                    </td><td>LA                                        </td><td>C7                                        </td><td>P120                                      </td><td>0.002346225                               </td><td>0.003462907                               </td><td>0.000108091                               </td><td>0.001227320                               </td><td>0.000248173                               </td></tr>\n",
       "</tbody>\n",
       "</table>\n"
      ],
      "text/latex": [
       "\\begin{tabular}{r|llllllllllll}\n",
       "  & filename & MouseID & Treatmentgroup & DPI & organ & well\\_position & plate & mass\\_400 & mass\\_500 & mass\\_600 & mass\\_700 & mass\\_800\\\\\n",
       "\\hline\n",
       "\t21 & X611\\_Group9\\_142dpi\\_LA\\_181\\_G\\_B9\\_P120.mzXML  & 611                                                      & combo                                                    & 142dpi                                                   & LA                                                       & B9                                                       & P120                                                     & 0.002783635                                              & 0.003425629                                              & 0.000045600                                              & 0.000832183                                              & 0.000000000                                             \\\\\n",
       "\t22 & X612\\_Group9\\_142dpi\\_LA\\_182\\_G\\_B10\\_P120.mzXML & 612                                                      & combo                                                    & 142dpi                                                   & LA                                                       & B10                                                      & P120                                                     & 0.002159900                                              & 0.001721661                                              & 0.000000000                                              & 0.000350532                                              & 0.000000000                                             \\\\\n",
       "\t23 & X613\\_Group9\\_142dpi\\_LA\\_183\\_G\\_B11\\_P120.mzXML & 613                                                      & combo                                                    & 142dpi                                                   & LA                                                       & B11                                                      & P120                                                     & 0.001764529                                              & 0.001513378                                              & 0.000018700                                              & 0.000700973                                              & 0.000000000                                             \\\\\n",
       "\t24 & X614\\_Group9\\_142dpi\\_LA\\_184\\_G\\_B12\\_P120.mzXML & 614                                                      & combo                                                    & 142dpi                                                   & LA                                                       & B12                                                      & P120                                                     & 0.001613998                                              & 0.001328994                                              & 0.000000000                                              & 0.001203537                                              & 0.000000000                                             \\\\\n",
       "\t25 & X615\\_Group9\\_142dpi\\_LA\\_185\\_G\\_C1\\_P120.mzXML  & 615                                                      & combo                                                    & 142dpi                                                   & LA                                                       & C1                                                       & P120                                                     & 0.001740730                                              & 0.003000567                                              & 0.000077000                                              & 0.000888956                                              & 0.000111877                                             \\\\\n",
       "\t26 & X631\\_Group15\\_142dpi\\_LA\\_191\\_G\\_C7\\_P120.mzXML & 631                                                      & BNZ                                                      & 142dpi                                                   & LA                                                       & C7                                                       & P120                                                     & 0.002346225                                              & 0.003462907                                              & 0.000108091                                              & 0.001227320                                              & 0.000248173                                             \\\\\n",
       "\\end{tabular}\n"
      ],
      "text/markdown": [
       "\n",
       "| <!--/--> | filename | MouseID | Treatmentgroup | DPI | organ | well_position | plate | mass_400 | mass_500 | mass_600 | mass_700 | mass_800 |\n",
       "|---|---|---|---|---|---|---|---|---|---|---|---|---|\n",
       "| 21 | X611_Group9_142dpi_LA_181_G_B9_P120.mzXML  | 611                                        | combo                                      | 142dpi                                     | LA                                         | B9                                         | P120                                       | 0.002783635                                | 0.003425629                                | 0.000045600                                | 0.000832183                                | 0.000000000                                |\n",
       "| 22 | X612_Group9_142dpi_LA_182_G_B10_P120.mzXML | 612                                        | combo                                      | 142dpi                                     | LA                                         | B10                                        | P120                                       | 0.002159900                                | 0.001721661                                | 0.000000000                                | 0.000350532                                | 0.000000000                                |\n",
       "| 23 | X613_Group9_142dpi_LA_183_G_B11_P120.mzXML | 613                                        | combo                                      | 142dpi                                     | LA                                         | B11                                        | P120                                       | 0.001764529                                | 0.001513378                                | 0.000018700                                | 0.000700973                                | 0.000000000                                |\n",
       "| 24 | X614_Group9_142dpi_LA_184_G_B12_P120.mzXML | 614                                        | combo                                      | 142dpi                                     | LA                                         | B12                                        | P120                                       | 0.001613998                                | 0.001328994                                | 0.000000000                                | 0.001203537                                | 0.000000000                                |\n",
       "| 25 | X615_Group9_142dpi_LA_185_G_C1_P120.mzXML  | 615                                        | combo                                      | 142dpi                                     | LA                                         | C1                                         | P120                                       | 0.001740730                                | 0.003000567                                | 0.000077000                                | 0.000888956                                | 0.000111877                                |\n",
       "| 26 | X631_Group15_142dpi_LA_191_G_C7_P120.mzXML | 631                                        | BNZ                                        | 142dpi                                     | LA                                         | C7                                         | P120                                       | 0.002346225                                | 0.003462907                                | 0.000108091                                | 0.001227320                                | 0.000248173                                |\n",
       "\n"
      ],
      "text/plain": [
       "   filename                                   MouseID Treatmentgroup DPI   \n",
       "21 X611_Group9_142dpi_LA_181_G_B9_P120.mzXML  611     combo          142dpi\n",
       "22 X612_Group9_142dpi_LA_182_G_B10_P120.mzXML 612     combo          142dpi\n",
       "23 X613_Group9_142dpi_LA_183_G_B11_P120.mzXML 613     combo          142dpi\n",
       "24 X614_Group9_142dpi_LA_184_G_B12_P120.mzXML 614     combo          142dpi\n",
       "25 X615_Group9_142dpi_LA_185_G_C1_P120.mzXML  615     combo          142dpi\n",
       "26 X631_Group15_142dpi_LA_191_G_C7_P120.mzXML 631     BNZ            142dpi\n",
       "   organ well_position plate mass_400    mass_500    mass_600    mass_700   \n",
       "21 LA    B9            P120  0.002783635 0.003425629 0.000045600 0.000832183\n",
       "22 LA    B10           P120  0.002159900 0.001721661 0.000000000 0.000350532\n",
       "23 LA    B11           P120  0.001764529 0.001513378 0.000018700 0.000700973\n",
       "24 LA    B12           P120  0.001613998 0.001328994 0.000000000 0.001203537\n",
       "25 LA    C1            P120  0.001740730 0.003000567 0.000077000 0.000888956\n",
       "26 LA    C7            P120  0.002346225 0.003462907 0.000108091 0.001227320\n",
       "   mass_800   \n",
       "21 0.000000000\n",
       "22 0.000000000\n",
       "23 0.000000000\n",
       "24 0.000000000\n",
       "25 0.000111877\n",
       "26 0.000248173"
      ]
     },
     "metadata": {},
     "output_type": "display_data"
    },
    {
     "data": {
      "text/html": [
       "<ol class=list-inline>\n",
       "\t<li>30</li>\n",
       "\t<li>12</li>\n",
       "</ol>\n"
      ],
      "text/latex": [
       "\\begin{enumerate*}\n",
       "\\item 30\n",
       "\\item 12\n",
       "\\end{enumerate*}\n"
      ],
      "text/markdown": [
       "1. 30\n",
       "2. 12\n",
       "\n",
       "\n"
      ],
      "text/plain": [
       "[1] 30 12"
      ]
     },
     "metadata": {},
     "output_type": "display_data"
    },
    {
     "data": {
      "text/html": [
       "<ol class=list-inline>\n",
       "\t<li>30</li>\n",
       "\t<li>5</li>\n",
       "</ol>\n"
      ],
      "text/latex": [
       "\\begin{enumerate*}\n",
       "\\item 30\n",
       "\\item 5\n",
       "\\end{enumerate*}\n"
      ],
      "text/markdown": [
       "1. 30\n",
       "2. 5\n",
       "\n",
       "\n"
      ],
      "text/plain": [
       "[1] 30  5"
      ]
     },
     "metadata": {},
     "output_type": "display_data"
    },
    {
     "data": {
      "text/html": [
       "<ol class=list-inline>\n",
       "\t<li>30</li>\n",
       "\t<li>5</li>\n",
       "</ol>\n"
      ],
      "text/latex": [
       "\\begin{enumerate*}\n",
       "\\item 30\n",
       "\\item 5\n",
       "\\end{enumerate*}\n"
      ],
      "text/markdown": [
       "1. 30\n",
       "2. 5\n",
       "\n",
       "\n"
      ],
      "text/plain": [
       "[1] 30  5"
      ]
     },
     "metadata": {},
     "output_type": "display_data"
    },
    {
     "data": {
      "text/html": [
       "<ol class=list-inline>\n",
       "\t<li>30</li>\n",
       "\t<li>12</li>\n",
       "</ol>\n"
      ],
      "text/latex": [
       "\\begin{enumerate*}\n",
       "\\item 30\n",
       "\\item 12\n",
       "\\end{enumerate*}\n"
      ],
      "text/markdown": [
       "1. 30\n",
       "2. 12\n",
       "\n",
       "\n"
      ],
      "text/plain": [
       "[1] 30 12"
      ]
     },
     "metadata": {},
     "output_type": "display_data"
    }
   ],
   "source": [
    "noMeta<-features_pos[,8:12]\n",
    "head(noMeta)\n",
    "not_zero<-which(colSums(noMeta) != 0)\n",
    "head(not_zero)\n",
    "nonzero <- noMeta[, not_zero]\n",
    "nonzero\n",
    "nonzero_wMeta<-cbind(features_pos[,1:7], nonzero)\n",
    "head(nonzero_wMeta)\n",
    "dim(features_pos)\n",
    "dim(noMeta)\n",
    "dim(nonzero)\n",
    "dim(nonzero_wMeta)"
   ]
  },
  {
   "cell_type": "code",
   "execution_count": 5,
   "metadata": {
    "scrolled": true
   },
   "outputs": [
    {
     "name": "stderr",
     "output_type": "stream",
     "text": [
      "Warning message in wilcox.test.default(x = c(0.000108091, 4.84e-05, 2.28e-05, 0, :\n",
      "\"cannot compute exact p-value with ties\"Warning message in wilcox.test.default(x = c(0.00122732, 0, 8.32e-05, 0.000205292, :\n",
      "\"cannot compute exact p-value with ties\"Warning message in wilcox.test.default(x = c(0.000248173, 0, 0, 0, 0, 0, 0, 0, 0, :\n",
      "\"cannot compute exact p-value with ties\""
     ]
    },
    {
     "data": {
      "text/html": [
       "<ol class=list-inline>\n",
       "\t<li>0.0127990313408827</li>\n",
       "\t<li>0.366875192434742</li>\n",
       "\t<li>0.690577447022705</li>\n",
       "\t<li>0.883488005361431</li>\n",
       "\t<li>0.866717430312698</li>\n",
       "</ol>\n"
      ],
      "text/latex": [
       "\\begin{enumerate*}\n",
       "\\item 0.0127990313408827\n",
       "\\item 0.366875192434742\n",
       "\\item 0.690577447022705\n",
       "\\item 0.883488005361431\n",
       "\\item 0.866717430312698\n",
       "\\end{enumerate*}\n"
      ],
      "text/markdown": [
       "1. 0.0127990313408827\n",
       "2. 0.366875192434742\n",
       "3. 0.690577447022705\n",
       "4. 0.883488005361431\n",
       "5. 0.866717430312698\n",
       "\n",
       "\n"
      ],
      "text/plain": [
       "[1] 0.01279903 0.36687519 0.69057745 0.88348801 0.86671743"
      ]
     },
     "metadata": {},
     "output_type": "display_data"
    },
    {
     "data": {
      "text/html": [
       "<ol class=list-inline>\n",
       "\t<li>0.0639951567044135</li>\n",
       "\t<li>0.883488005361431</li>\n",
       "\t<li>0.883488005361431</li>\n",
       "\t<li>0.883488005361431</li>\n",
       "\t<li>0.883488005361431</li>\n",
       "</ol>\n"
      ],
      "text/latex": [
       "\\begin{enumerate*}\n",
       "\\item 0.0639951567044135\n",
       "\\item 0.883488005361431\n",
       "\\item 0.883488005361431\n",
       "\\item 0.883488005361431\n",
       "\\item 0.883488005361431\n",
       "\\end{enumerate*}\n"
      ],
      "text/markdown": [
       "1. 0.0639951567044135\n",
       "2. 0.883488005361431\n",
       "3. 0.883488005361431\n",
       "4. 0.883488005361431\n",
       "5. 0.883488005361431\n",
       "\n",
       "\n"
      ],
      "text/plain": [
       "[1] 0.06399516 0.88348801 0.88348801 0.88348801 0.88348801"
      ]
     },
     "metadata": {},
     "output_type": "display_data"
    }
   ],
   "source": [
    "pval<-c()\n",
    "\n",
    "for (i in 8:ncol(nonzero_wMeta)) \n",
    "pval<-c(pval,wilcox.test(nonzero_wMeta[,i]~nonzero_wMeta$Treatmentgroup)$p.value)\n",
    "head(pval)\n",
    "pAdj <- p.adjust(pval, method = c(\"fdr\"), n=length(pval)) \n",
    "head(pAdj) \n",
    "\n"
   ]
  },
  {
   "cell_type": "code",
   "execution_count": 6,
   "metadata": {
    "scrolled": true
   },
   "outputs": [
    {
     "data": {
      "text/html": [
       "5"
      ],
      "text/latex": [
       "5"
      ],
      "text/markdown": [
       "5"
      ],
      "text/plain": [
       "[1] 5"
      ]
     },
     "metadata": {},
     "output_type": "display_data"
    }
   ],
   "source": [
    "length(pval)"
   ]
  },
  {
   "cell_type": "code",
   "execution_count": 7,
   "metadata": {
    "scrolled": true
   },
   "outputs": [
    {
     "data": {
      "text/html": [
       "5"
      ],
      "text/latex": [
       "5"
      ],
      "text/markdown": [
       "5"
      ],
      "text/plain": [
       "[1] 5"
      ]
     },
     "metadata": {},
     "output_type": "display_data"
    }
   ],
   "source": [
    "length(pAdj)"
   ]
  },
  {
   "cell_type": "code",
   "execution_count": 8,
   "metadata": {},
   "outputs": [
    {
     "data": {
      "text/html": [
       "<ol class=list-inline>\n",
       "\t<li>2</li>\n",
       "\t<li>5</li>\n",
       "</ol>\n"
      ],
      "text/latex": [
       "\\begin{enumerate*}\n",
       "\\item 2\n",
       "\\item 5\n",
       "\\end{enumerate*}\n"
      ],
      "text/markdown": [
       "1. 2\n",
       "2. 5\n",
       "\n",
       "\n"
      ],
      "text/plain": [
       "[1] 2 5"
      ]
     },
     "metadata": {},
     "output_type": "display_data"
    },
    {
     "data": {
      "text/html": [
       "<table>\n",
       "<thead><tr><th></th><th scope=col>mass_400</th><th scope=col>mass_500</th><th scope=col>mass_600</th></tr></thead>\n",
       "<tbody>\n",
       "\t<tr><th scope=row>BNZ</th><td>0.001086847 </td><td>0.001776271 </td><td>1.765273e-05</td></tr>\n",
       "\t<tr><th scope=row>combo</th><td>0.001997145 </td><td>0.002538277 </td><td>4.102960e-05</td></tr>\n",
       "</tbody>\n",
       "</table>\n"
      ],
      "text/latex": [
       "\\begin{tabular}{r|lll}\n",
       "  & mass\\_400 & mass\\_500 & mass\\_600\\\\\n",
       "\\hline\n",
       "\tBNZ & 0.001086847  & 0.001776271  & 1.765273e-05\\\\\n",
       "\tcombo & 0.001997145  & 0.002538277  & 4.102960e-05\\\\\n",
       "\\end{tabular}\n"
      ],
      "text/markdown": [
       "\n",
       "| <!--/--> | mass_400 | mass_500 | mass_600 |\n",
       "|---|---|---|---|\n",
       "| BNZ | 0.001086847  | 0.001776271  | 1.765273e-05 |\n",
       "| combo | 0.001997145  | 0.002538277  | 4.102960e-05 |\n",
       "\n"
      ],
      "text/plain": [
       "      mass_400    mass_500    mass_600    \n",
       "BNZ   0.001086847 0.001776271 1.765273e-05\n",
       "combo 0.001997145 0.002538277 4.102960e-05"
      ]
     },
     "metadata": {},
     "output_type": "display_data"
    },
    {
     "data": {
      "text/html": [
       "<dl class=dl-horizontal>\n",
       "\t<dt>mass_400</dt>\n",
       "\t\t<dd>0.544200376423987</dd>\n",
       "\t<dt>mass_500</dt>\n",
       "\t\t<dd>0.69979414903782</dd>\n",
       "\t<dt>mass_600</dt>\n",
       "\t\t<dd>0.430243856467851</dd>\n",
       "\t<dt>mass_700</dt>\n",
       "\t\t<dd>0.77343830310824</dd>\n",
       "\t<dt>mass_800</dt>\n",
       "\t\t<dd>1.11133429635391</dd>\n",
       "</dl>\n"
      ],
      "text/latex": [
       "\\begin{description*}\n",
       "\\item[mass\\textbackslash{}\\_400] 0.544200376423987\n",
       "\\item[mass\\textbackslash{}\\_500] 0.69979414903782\n",
       "\\item[mass\\textbackslash{}\\_600] 0.430243856467851\n",
       "\\item[mass\\textbackslash{}\\_700] 0.77343830310824\n",
       "\\item[mass\\textbackslash{}\\_800] 1.11133429635391\n",
       "\\end{description*}\n"
      ],
      "text/markdown": [
       "mass_400\n",
       ":   0.544200376423987mass_500\n",
       ":   0.69979414903782mass_600\n",
       ":   0.430243856467851mass_700\n",
       ":   0.77343830310824mass_800\n",
       ":   1.11133429635391\n",
       "\n"
      ],
      "text/plain": [
       " mass_400  mass_500  mass_600  mass_700  mass_800 \n",
       "0.5442004 0.6997941 0.4302439 0.7734383 1.1113343 "
      ]
     },
     "metadata": {},
     "output_type": "display_data"
    },
    {
     "data": {
      "text/html": [
       "<ol class=list-inline>\n",
       "\t<li>'numeric'</li>\n",
       "\t<li>'vector'</li>\n",
       "</ol>\n"
      ],
      "text/latex": [
       "\\begin{enumerate*}\n",
       "\\item 'numeric'\n",
       "\\item 'vector'\n",
       "\\end{enumerate*}\n"
      ],
      "text/markdown": [
       "1. 'numeric'\n",
       "2. 'vector'\n",
       "\n",
       "\n"
      ],
      "text/plain": [
       "[1] \"numeric\" \"vector\" "
      ]
     },
     "metadata": {},
     "output_type": "display_data"
    }
   ],
   "source": [
    "avg<- apply(nonzero_wMeta[,8:ncol(nonzero_wMeta)], 2, function(x) tapply(x, nonzero_wMeta$Treatmentgroup, function(x) mean(x))) \n",
    "\n",
    "dim(avg)\n",
    "\n",
    "avg[,1:3]\n",
    "\n",
    "fch <- apply(avg, 2, function(x) x[1]/x[2])\n",
    "\n",
    "head(fch)\n",
    "is(fch)"
   ]
  },
  {
   "cell_type": "code",
   "execution_count": 9,
   "metadata": {
    "scrolled": true
   },
   "outputs": [
    {
     "data": {
      "text/html": [
       "<dl class=dl-horizontal>\n",
       "\t<dt>mass_400</dt>\n",
       "\t\t<dd>0.544200376423987</dd>\n",
       "\t<dt>mass_500</dt>\n",
       "\t\t<dd>0.69979414903782</dd>\n",
       "\t<dt>mass_600</dt>\n",
       "\t\t<dd>0.430243856467851</dd>\n",
       "\t<dt>mass_700</dt>\n",
       "\t\t<dd>0.77343830310824</dd>\n",
       "\t<dt>mass_800</dt>\n",
       "\t\t<dd>1.11133429635391</dd>\n",
       "</dl>\n"
      ],
      "text/latex": [
       "\\begin{description*}\n",
       "\\item[mass\\textbackslash{}\\_400] 0.544200376423987\n",
       "\\item[mass\\textbackslash{}\\_500] 0.69979414903782\n",
       "\\item[mass\\textbackslash{}\\_600] 0.430243856467851\n",
       "\\item[mass\\textbackslash{}\\_700] 0.77343830310824\n",
       "\\item[mass\\textbackslash{}\\_800] 1.11133429635391\n",
       "\\end{description*}\n"
      ],
      "text/markdown": [
       "mass_400\n",
       ":   0.544200376423987mass_500\n",
       ":   0.69979414903782mass_600\n",
       ":   0.430243856467851mass_700\n",
       ":   0.77343830310824mass_800\n",
       ":   1.11133429635391\n",
       "\n"
      ],
      "text/plain": [
       " mass_400  mass_500  mass_600  mass_700  mass_800 \n",
       "0.5442004 0.6997941 0.4302439 0.7734383 1.1113343 "
      ]
     },
     "metadata": {},
     "output_type": "display_data"
    }
   ],
   "source": [
    "fch"
   ]
  },
  {
   "cell_type": "code",
   "execution_count": 10,
   "metadata": {
    "scrolled": false
   },
   "outputs": [],
   "source": [
    "df <- data.frame(fch,pval, pAdj)\n",
    "write.csv(df, \"PE-treat-LA-wilcox-combo-BNZ.csv\")"
   ]
  },
  {
   "cell_type": "code",
   "execution_count": null,
   "metadata": {},
   "outputs": [],
   "source": []
  },
  {
   "cell_type": "code",
   "execution_count": null,
   "metadata": {},
   "outputs": [],
   "source": []
  },
  {
   "cell_type": "code",
   "execution_count": null,
   "metadata": {},
   "outputs": [],
   "source": []
  },
  {
   "cell_type": "code",
   "execution_count": null,
   "metadata": {},
   "outputs": [],
   "source": []
  },
  {
   "cell_type": "code",
   "execution_count": null,
   "metadata": {},
   "outputs": [],
   "source": []
  },
  {
   "cell_type": "code",
   "execution_count": null,
   "metadata": {},
   "outputs": [],
   "source": []
  }
 ],
 "metadata": {
  "kernelspec": {
   "display_name": "R",
   "language": "R",
   "name": "ir"
  },
  "language_info": {
   "codemirror_mode": "r",
   "file_extension": ".r",
   "mimetype": "text/x-r-source",
   "name": "R",
   "pygments_lexer": "r",
   "version": "3.6.1"
  }
 },
 "nbformat": 4,
 "nbformat_minor": 2
}
