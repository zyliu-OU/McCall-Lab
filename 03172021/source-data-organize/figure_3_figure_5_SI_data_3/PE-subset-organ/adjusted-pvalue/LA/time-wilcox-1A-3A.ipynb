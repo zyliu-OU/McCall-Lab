{
 "cells": [
  {
   "cell_type": "code",
   "execution_count": 4,
   "metadata": {},
   "outputs": [],
   "source": [
    "a <- read.csv(\"03172021-PE-time-LA-M-F.csv\")"
   ]
  },
  {
   "cell_type": "code",
   "execution_count": 5,
   "metadata": {},
   "outputs": [
    {
     "data": {
      "text/html": [
       "<table>\n",
       "<thead><tr><th scope=col>filename</th><th scope=col>MouseID</th><th scope=col>Treatmentgroup</th><th scope=col>status</th><th scope=col>DPI</th><th scope=col>organ</th><th scope=col>well_position</th><th scope=col>plate</th><th scope=col>mass_400</th><th scope=col>mass_500</th><th scope=col>mass_600</th><th scope=col>mass_700</th><th scope=col>mass_800</th></tr></thead>\n",
       "<tbody>\n",
       "\t<tr><td>X501_Group1A_50dpi_LA_251_B_A1_P121.mzXML</td><td>501                                      </td><td>Group1A                                  </td><td>naive                                    </td><td>50dpi                                    </td><td>LA                                       </td><td>A1                                       </td><td>P121                                     </td><td>0.004329022                              </td><td>0.007620000                              </td><td>0.000045400                              </td><td>0.006026924                              </td><td>0.000145139                              </td></tr>\n",
       "\t<tr><td>X502_Group1A_50dpi_LA_252_B_A2_P121.mzXML</td><td>502                                      </td><td>Group1A                                  </td><td>naive                                    </td><td>50dpi                                    </td><td>LA                                       </td><td>A2                                       </td><td>P121                                     </td><td>0.004129671                              </td><td>0.007778374                              </td><td>0.000312508                              </td><td>0.008177560                              </td><td>0.000861575                              </td></tr>\n",
       "\t<tr><td>X503_Group1A_50dpi_LA_253_B_A3_P121.mzXML</td><td>503                                      </td><td>Group1A                                  </td><td>naive                                    </td><td>50dpi                                    </td><td>LA                                       </td><td>A3                                       </td><td>P121                                     </td><td>0.002857480                              </td><td>0.009480000                              </td><td>0.000177773                              </td><td>0.010588891                              </td><td>0.000596837                              </td></tr>\n",
       "\t<tr><td>X504_Group1A_50dpi_LA_254_B_A4_P121.mzXML</td><td>504                                      </td><td>Group1A                                  </td><td>naive                                    </td><td>50dpi                                    </td><td>LA                                       </td><td>A4                                       </td><td>P121                                     </td><td>0.001465009                              </td><td>0.005300000                              </td><td>0.000251431                              </td><td>0.014642428                              </td><td>0.000700246                              </td></tr>\n",
       "\t<tr><td>X505_Group1A_50dpi_LA_255_B_A5_P121.mzXML</td><td>505                                      </td><td>Group1A                                  </td><td>naive                                    </td><td>50dpi                                    </td><td>LA                                       </td><td>A5                                       </td><td>P121                                     </td><td>0.003791592                              </td><td>0.009620000                              </td><td>0.000487519                              </td><td>0.001993340                              </td><td>0.000125690                              </td></tr>\n",
       "\t<tr><td>X521_Group1A_50dpi_LA_256_B_A6_P121.mzXML</td><td>521                                      </td><td>Group1A                                  </td><td>naive                                    </td><td>50dpi                                    </td><td>LA                                       </td><td>A6                                       </td><td>P121                                     </td><td>0.003461733                              </td><td>0.007410000                              </td><td>0.000142605                              </td><td>0.009728104                              </td><td>0.000715742                              </td></tr>\n",
       "</tbody>\n",
       "</table>\n"
      ],
      "text/latex": [
       "\\begin{tabular}{r|lllllllllllll}\n",
       " filename & MouseID & Treatmentgroup & status & DPI & organ & well\\_position & plate & mass\\_400 & mass\\_500 & mass\\_600 & mass\\_700 & mass\\_800\\\\\n",
       "\\hline\n",
       "\t X501\\_Group1A\\_50dpi\\_LA\\_251\\_B\\_A1\\_P121.mzXML & 501                                                     & Group1A                                                 & naive                                                   & 50dpi                                                   & LA                                                      & A1                                                      & P121                                                    & 0.004329022                                             & 0.007620000                                             & 0.000045400                                             & 0.006026924                                             & 0.000145139                                            \\\\\n",
       "\t X502\\_Group1A\\_50dpi\\_LA\\_252\\_B\\_A2\\_P121.mzXML & 502                                                     & Group1A                                                 & naive                                                   & 50dpi                                                   & LA                                                      & A2                                                      & P121                                                    & 0.004129671                                             & 0.007778374                                             & 0.000312508                                             & 0.008177560                                             & 0.000861575                                            \\\\\n",
       "\t X503\\_Group1A\\_50dpi\\_LA\\_253\\_B\\_A3\\_P121.mzXML & 503                                                     & Group1A                                                 & naive                                                   & 50dpi                                                   & LA                                                      & A3                                                      & P121                                                    & 0.002857480                                             & 0.009480000                                             & 0.000177773                                             & 0.010588891                                             & 0.000596837                                            \\\\\n",
       "\t X504\\_Group1A\\_50dpi\\_LA\\_254\\_B\\_A4\\_P121.mzXML & 504                                                     & Group1A                                                 & naive                                                   & 50dpi                                                   & LA                                                      & A4                                                      & P121                                                    & 0.001465009                                             & 0.005300000                                             & 0.000251431                                             & 0.014642428                                             & 0.000700246                                            \\\\\n",
       "\t X505\\_Group1A\\_50dpi\\_LA\\_255\\_B\\_A5\\_P121.mzXML & 505                                                     & Group1A                                                 & naive                                                   & 50dpi                                                   & LA                                                      & A5                                                      & P121                                                    & 0.003791592                                             & 0.009620000                                             & 0.000487519                                             & 0.001993340                                             & 0.000125690                                            \\\\\n",
       "\t X521\\_Group1A\\_50dpi\\_LA\\_256\\_B\\_A6\\_P121.mzXML & 521                                                     & Group1A                                                 & naive                                                   & 50dpi                                                   & LA                                                      & A6                                                      & P121                                                    & 0.003461733                                             & 0.007410000                                             & 0.000142605                                             & 0.009728104                                             & 0.000715742                                            \\\\\n",
       "\\end{tabular}\n"
      ],
      "text/markdown": [
       "\n",
       "| filename | MouseID | Treatmentgroup | status | DPI | organ | well_position | plate | mass_400 | mass_500 | mass_600 | mass_700 | mass_800 |\n",
       "|---|---|---|---|---|---|---|---|---|---|---|---|---|\n",
       "| X501_Group1A_50dpi_LA_251_B_A1_P121.mzXML | 501                                       | Group1A                                   | naive                                     | 50dpi                                     | LA                                        | A1                                        | P121                                      | 0.004329022                               | 0.007620000                               | 0.000045400                               | 0.006026924                               | 0.000145139                               |\n",
       "| X502_Group1A_50dpi_LA_252_B_A2_P121.mzXML | 502                                       | Group1A                                   | naive                                     | 50dpi                                     | LA                                        | A2                                        | P121                                      | 0.004129671                               | 0.007778374                               | 0.000312508                               | 0.008177560                               | 0.000861575                               |\n",
       "| X503_Group1A_50dpi_LA_253_B_A3_P121.mzXML | 503                                       | Group1A                                   | naive                                     | 50dpi                                     | LA                                        | A3                                        | P121                                      | 0.002857480                               | 0.009480000                               | 0.000177773                               | 0.010588891                               | 0.000596837                               |\n",
       "| X504_Group1A_50dpi_LA_254_B_A4_P121.mzXML | 504                                       | Group1A                                   | naive                                     | 50dpi                                     | LA                                        | A4                                        | P121                                      | 0.001465009                               | 0.005300000                               | 0.000251431                               | 0.014642428                               | 0.000700246                               |\n",
       "| X505_Group1A_50dpi_LA_255_B_A5_P121.mzXML | 505                                       | Group1A                                   | naive                                     | 50dpi                                     | LA                                        | A5                                        | P121                                      | 0.003791592                               | 0.009620000                               | 0.000487519                               | 0.001993340                               | 0.000125690                               |\n",
       "| X521_Group1A_50dpi_LA_256_B_A6_P121.mzXML | 521                                       | Group1A                                   | naive                                     | 50dpi                                     | LA                                        | A6                                        | P121                                      | 0.003461733                               | 0.007410000                               | 0.000142605                               | 0.009728104                               | 0.000715742                               |\n",
       "\n"
      ],
      "text/plain": [
       "  filename                                  MouseID Treatmentgroup status DPI  \n",
       "1 X501_Group1A_50dpi_LA_251_B_A1_P121.mzXML 501     Group1A        naive  50dpi\n",
       "2 X502_Group1A_50dpi_LA_252_B_A2_P121.mzXML 502     Group1A        naive  50dpi\n",
       "3 X503_Group1A_50dpi_LA_253_B_A3_P121.mzXML 503     Group1A        naive  50dpi\n",
       "4 X504_Group1A_50dpi_LA_254_B_A4_P121.mzXML 504     Group1A        naive  50dpi\n",
       "5 X505_Group1A_50dpi_LA_255_B_A5_P121.mzXML 505     Group1A        naive  50dpi\n",
       "6 X521_Group1A_50dpi_LA_256_B_A6_P121.mzXML 521     Group1A        naive  50dpi\n",
       "  organ well_position plate mass_400    mass_500    mass_600    mass_700   \n",
       "1 LA    A1            P121  0.004329022 0.007620000 0.000045400 0.006026924\n",
       "2 LA    A2            P121  0.004129671 0.007778374 0.000312508 0.008177560\n",
       "3 LA    A3            P121  0.002857480 0.009480000 0.000177773 0.010588891\n",
       "4 LA    A4            P121  0.001465009 0.005300000 0.000251431 0.014642428\n",
       "5 LA    A5            P121  0.003791592 0.009620000 0.000487519 0.001993340\n",
       "6 LA    A6            P121  0.003461733 0.007410000 0.000142605 0.009728104\n",
       "  mass_800   \n",
       "1 0.000145139\n",
       "2 0.000861575\n",
       "3 0.000596837\n",
       "4 0.000700246\n",
       "5 0.000125690\n",
       "6 0.000715742"
      ]
     },
     "metadata": {},
     "output_type": "display_data"
    },
    {
     "data": {
      "text/html": [
       "<ol class=list-inline>\n",
       "\t<li>90</li>\n",
       "\t<li>13</li>\n",
       "</ol>\n"
      ],
      "text/latex": [
       "\\begin{enumerate*}\n",
       "\\item 90\n",
       "\\item 13\n",
       "\\end{enumerate*}\n"
      ],
      "text/markdown": [
       "1. 90\n",
       "2. 13\n",
       "\n",
       "\n"
      ],
      "text/plain": [
       "[1] 90 13"
      ]
     },
     "metadata": {},
     "output_type": "display_data"
    }
   ],
   "source": [
    "head(a)\n",
    "dim(a)"
   ]
  },
  {
   "cell_type": "code",
   "execution_count": 6,
   "metadata": {},
   "outputs": [
    {
     "data": {
      "text/html": [
       "<table>\n",
       "<thead><tr><th scope=col>filename</th><th scope=col>MouseID</th><th scope=col>Treatmentgroup</th><th scope=col>status</th><th scope=col>DPI</th><th scope=col>organ</th><th scope=col>well_position</th><th scope=col>plate</th><th scope=col>mass_400</th><th scope=col>mass_500</th><th scope=col>mass_600</th><th scope=col>mass_700</th><th scope=col>mass_800</th></tr></thead>\n",
       "<tbody>\n",
       "\t<tr><td>X501_Group1A_50dpi_LA_251_B_A1_P121.mzXML</td><td>501                                      </td><td>Group1A                                  </td><td>naive                                    </td><td>50dpi                                    </td><td>LA                                       </td><td>A1                                       </td><td>P121                                     </td><td>0.004329022                              </td><td>0.007620000                              </td><td>0.000045400                              </td><td>0.006026924                              </td><td>0.000145139                              </td></tr>\n",
       "\t<tr><td>X502_Group1A_50dpi_LA_252_B_A2_P121.mzXML</td><td>502                                      </td><td>Group1A                                  </td><td>naive                                    </td><td>50dpi                                    </td><td>LA                                       </td><td>A2                                       </td><td>P121                                     </td><td>0.004129671                              </td><td>0.007778374                              </td><td>0.000312508                              </td><td>0.008177560                              </td><td>0.000861575                              </td></tr>\n",
       "\t<tr><td>X503_Group1A_50dpi_LA_253_B_A3_P121.mzXML</td><td>503                                      </td><td>Group1A                                  </td><td>naive                                    </td><td>50dpi                                    </td><td>LA                                       </td><td>A3                                       </td><td>P121                                     </td><td>0.002857480                              </td><td>0.009480000                              </td><td>0.000177773                              </td><td>0.010588891                              </td><td>0.000596837                              </td></tr>\n",
       "\t<tr><td>X504_Group1A_50dpi_LA_254_B_A4_P121.mzXML</td><td>504                                      </td><td>Group1A                                  </td><td>naive                                    </td><td>50dpi                                    </td><td>LA                                       </td><td>A4                                       </td><td>P121                                     </td><td>0.001465009                              </td><td>0.005300000                              </td><td>0.000251431                              </td><td>0.014642428                              </td><td>0.000700246                              </td></tr>\n",
       "\t<tr><td>X505_Group1A_50dpi_LA_255_B_A5_P121.mzXML</td><td>505                                      </td><td>Group1A                                  </td><td>naive                                    </td><td>50dpi                                    </td><td>LA                                       </td><td>A5                                       </td><td>P121                                     </td><td>0.003791592                              </td><td>0.009620000                              </td><td>0.000487519                              </td><td>0.001993340                              </td><td>0.000125690                              </td></tr>\n",
       "\t<tr><td>X521_Group1A_50dpi_LA_256_B_A6_P121.mzXML</td><td>521                                      </td><td>Group1A                                  </td><td>naive                                    </td><td>50dpi                                    </td><td>LA                                       </td><td>A6                                       </td><td>P121                                     </td><td>0.003461733                              </td><td>0.007410000                              </td><td>0.000142605                              </td><td>0.009728104                              </td><td>0.000715742                              </td></tr>\n",
       "</tbody>\n",
       "</table>\n"
      ],
      "text/latex": [
       "\\begin{tabular}{r|lllllllllllll}\n",
       " filename & MouseID & Treatmentgroup & status & DPI & organ & well\\_position & plate & mass\\_400 & mass\\_500 & mass\\_600 & mass\\_700 & mass\\_800\\\\\n",
       "\\hline\n",
       "\t X501\\_Group1A\\_50dpi\\_LA\\_251\\_B\\_A1\\_P121.mzXML & 501                                                     & Group1A                                                 & naive                                                   & 50dpi                                                   & LA                                                      & A1                                                      & P121                                                    & 0.004329022                                             & 0.007620000                                             & 0.000045400                                             & 0.006026924                                             & 0.000145139                                            \\\\\n",
       "\t X502\\_Group1A\\_50dpi\\_LA\\_252\\_B\\_A2\\_P121.mzXML & 502                                                     & Group1A                                                 & naive                                                   & 50dpi                                                   & LA                                                      & A2                                                      & P121                                                    & 0.004129671                                             & 0.007778374                                             & 0.000312508                                             & 0.008177560                                             & 0.000861575                                            \\\\\n",
       "\t X503\\_Group1A\\_50dpi\\_LA\\_253\\_B\\_A3\\_P121.mzXML & 503                                                     & Group1A                                                 & naive                                                   & 50dpi                                                   & LA                                                      & A3                                                      & P121                                                    & 0.002857480                                             & 0.009480000                                             & 0.000177773                                             & 0.010588891                                             & 0.000596837                                            \\\\\n",
       "\t X504\\_Group1A\\_50dpi\\_LA\\_254\\_B\\_A4\\_P121.mzXML & 504                                                     & Group1A                                                 & naive                                                   & 50dpi                                                   & LA                                                      & A4                                                      & P121                                                    & 0.001465009                                             & 0.005300000                                             & 0.000251431                                             & 0.014642428                                             & 0.000700246                                            \\\\\n",
       "\t X505\\_Group1A\\_50dpi\\_LA\\_255\\_B\\_A5\\_P121.mzXML & 505                                                     & Group1A                                                 & naive                                                   & 50dpi                                                   & LA                                                      & A5                                                      & P121                                                    & 0.003791592                                             & 0.009620000                                             & 0.000487519                                             & 0.001993340                                             & 0.000125690                                            \\\\\n",
       "\t X521\\_Group1A\\_50dpi\\_LA\\_256\\_B\\_A6\\_P121.mzXML & 521                                                     & Group1A                                                 & naive                                                   & 50dpi                                                   & LA                                                      & A6                                                      & P121                                                    & 0.003461733                                             & 0.007410000                                             & 0.000142605                                             & 0.009728104                                             & 0.000715742                                            \\\\\n",
       "\\end{tabular}\n"
      ],
      "text/markdown": [
       "\n",
       "| filename | MouseID | Treatmentgroup | status | DPI | organ | well_position | plate | mass_400 | mass_500 | mass_600 | mass_700 | mass_800 |\n",
       "|---|---|---|---|---|---|---|---|---|---|---|---|---|\n",
       "| X501_Group1A_50dpi_LA_251_B_A1_P121.mzXML | 501                                       | Group1A                                   | naive                                     | 50dpi                                     | LA                                        | A1                                        | P121                                      | 0.004329022                               | 0.007620000                               | 0.000045400                               | 0.006026924                               | 0.000145139                               |\n",
       "| X502_Group1A_50dpi_LA_252_B_A2_P121.mzXML | 502                                       | Group1A                                   | naive                                     | 50dpi                                     | LA                                        | A2                                        | P121                                      | 0.004129671                               | 0.007778374                               | 0.000312508                               | 0.008177560                               | 0.000861575                               |\n",
       "| X503_Group1A_50dpi_LA_253_B_A3_P121.mzXML | 503                                       | Group1A                                   | naive                                     | 50dpi                                     | LA                                        | A3                                        | P121                                      | 0.002857480                               | 0.009480000                               | 0.000177773                               | 0.010588891                               | 0.000596837                               |\n",
       "| X504_Group1A_50dpi_LA_254_B_A4_P121.mzXML | 504                                       | Group1A                                   | naive                                     | 50dpi                                     | LA                                        | A4                                        | P121                                      | 0.001465009                               | 0.005300000                               | 0.000251431                               | 0.014642428                               | 0.000700246                               |\n",
       "| X505_Group1A_50dpi_LA_255_B_A5_P121.mzXML | 505                                       | Group1A                                   | naive                                     | 50dpi                                     | LA                                        | A5                                        | P121                                      | 0.003791592                               | 0.009620000                               | 0.000487519                               | 0.001993340                               | 0.000125690                               |\n",
       "| X521_Group1A_50dpi_LA_256_B_A6_P121.mzXML | 521                                       | Group1A                                   | naive                                     | 50dpi                                     | LA                                        | A6                                        | P121                                      | 0.003461733                               | 0.007410000                               | 0.000142605                               | 0.009728104                               | 0.000715742                               |\n",
       "\n"
      ],
      "text/plain": [
       "  filename                                  MouseID Treatmentgroup status DPI  \n",
       "1 X501_Group1A_50dpi_LA_251_B_A1_P121.mzXML 501     Group1A        naive  50dpi\n",
       "2 X502_Group1A_50dpi_LA_252_B_A2_P121.mzXML 502     Group1A        naive  50dpi\n",
       "3 X503_Group1A_50dpi_LA_253_B_A3_P121.mzXML 503     Group1A        naive  50dpi\n",
       "4 X504_Group1A_50dpi_LA_254_B_A4_P121.mzXML 504     Group1A        naive  50dpi\n",
       "5 X505_Group1A_50dpi_LA_255_B_A5_P121.mzXML 505     Group1A        naive  50dpi\n",
       "6 X521_Group1A_50dpi_LA_256_B_A6_P121.mzXML 521     Group1A        naive  50dpi\n",
       "  organ well_position plate mass_400    mass_500    mass_600    mass_700   \n",
       "1 LA    A1            P121  0.004329022 0.007620000 0.000045400 0.006026924\n",
       "2 LA    A2            P121  0.004129671 0.007778374 0.000312508 0.008177560\n",
       "3 LA    A3            P121  0.002857480 0.009480000 0.000177773 0.010588891\n",
       "4 LA    A4            P121  0.001465009 0.005300000 0.000251431 0.014642428\n",
       "5 LA    A5            P121  0.003791592 0.009620000 0.000487519 0.001993340\n",
       "6 LA    A6            P121  0.003461733 0.007410000 0.000142605 0.009728104\n",
       "  mass_800   \n",
       "1 0.000145139\n",
       "2 0.000861575\n",
       "3 0.000596837\n",
       "4 0.000700246\n",
       "5 0.000125690\n",
       "6 0.000715742"
      ]
     },
     "metadata": {},
     "output_type": "display_data"
    },
    {
     "data": {
      "text/html": [
       "<ol class=list-inline>\n",
       "\t<li>30</li>\n",
       "\t<li>13</li>\n",
       "</ol>\n"
      ],
      "text/latex": [
       "\\begin{enumerate*}\n",
       "\\item 30\n",
       "\\item 13\n",
       "\\end{enumerate*}\n"
      ],
      "text/markdown": [
       "1. 30\n",
       "2. 13\n",
       "\n",
       "\n"
      ],
      "text/plain": [
       "[1] 30 13"
      ]
     },
     "metadata": {},
     "output_type": "display_data"
    }
   ],
   "source": [
    "features_pos<-droplevels(subset(a, a$Treatmentgroup==c(\"Group1A\")|a$Treatmentgroup==c(\"Group3A\")))\n",
    "head(features_pos)\n",
    "dim(features_pos)"
   ]
  },
  {
   "cell_type": "code",
   "execution_count": 7,
   "metadata": {
    "scrolled": false
   },
   "outputs": [
    {
     "data": {
      "text/html": [
       "<table>\n",
       "<thead><tr><th scope=col>mass_400</th><th scope=col>mass_500</th><th scope=col>mass_600</th><th scope=col>mass_700</th><th scope=col>mass_800</th></tr></thead>\n",
       "<tbody>\n",
       "\t<tr><td>0.004329022</td><td>0.007620000</td><td>0.000045400</td><td>0.006026924</td><td>0.000145139</td></tr>\n",
       "\t<tr><td>0.004129671</td><td>0.007778374</td><td>0.000312508</td><td>0.008177560</td><td>0.000861575</td></tr>\n",
       "\t<tr><td>0.002857480</td><td>0.009480000</td><td>0.000177773</td><td>0.010588891</td><td>0.000596837</td></tr>\n",
       "\t<tr><td>0.001465009</td><td>0.005300000</td><td>0.000251431</td><td>0.014642428</td><td>0.000700246</td></tr>\n",
       "\t<tr><td>0.003791592</td><td>0.009620000</td><td>0.000487519</td><td>0.001993340</td><td>0.000125690</td></tr>\n",
       "\t<tr><td>0.003461733</td><td>0.007410000</td><td>0.000142605</td><td>0.009728104</td><td>0.000715742</td></tr>\n",
       "</tbody>\n",
       "</table>\n"
      ],
      "text/latex": [
       "\\begin{tabular}{r|lllll}\n",
       " mass\\_400 & mass\\_500 & mass\\_600 & mass\\_700 & mass\\_800\\\\\n",
       "\\hline\n",
       "\t 0.004329022 & 0.007620000 & 0.000045400 & 0.006026924 & 0.000145139\\\\\n",
       "\t 0.004129671 & 0.007778374 & 0.000312508 & 0.008177560 & 0.000861575\\\\\n",
       "\t 0.002857480 & 0.009480000 & 0.000177773 & 0.010588891 & 0.000596837\\\\\n",
       "\t 0.001465009 & 0.005300000 & 0.000251431 & 0.014642428 & 0.000700246\\\\\n",
       "\t 0.003791592 & 0.009620000 & 0.000487519 & 0.001993340 & 0.000125690\\\\\n",
       "\t 0.003461733 & 0.007410000 & 0.000142605 & 0.009728104 & 0.000715742\\\\\n",
       "\\end{tabular}\n"
      ],
      "text/markdown": [
       "\n",
       "| mass_400 | mass_500 | mass_600 | mass_700 | mass_800 |\n",
       "|---|---|---|---|---|\n",
       "| 0.004329022 | 0.007620000 | 0.000045400 | 0.006026924 | 0.000145139 |\n",
       "| 0.004129671 | 0.007778374 | 0.000312508 | 0.008177560 | 0.000861575 |\n",
       "| 0.002857480 | 0.009480000 | 0.000177773 | 0.010588891 | 0.000596837 |\n",
       "| 0.001465009 | 0.005300000 | 0.000251431 | 0.014642428 | 0.000700246 |\n",
       "| 0.003791592 | 0.009620000 | 0.000487519 | 0.001993340 | 0.000125690 |\n",
       "| 0.003461733 | 0.007410000 | 0.000142605 | 0.009728104 | 0.000715742 |\n",
       "\n"
      ],
      "text/plain": [
       "  mass_400    mass_500    mass_600    mass_700    mass_800   \n",
       "1 0.004329022 0.007620000 0.000045400 0.006026924 0.000145139\n",
       "2 0.004129671 0.007778374 0.000312508 0.008177560 0.000861575\n",
       "3 0.002857480 0.009480000 0.000177773 0.010588891 0.000596837\n",
       "4 0.001465009 0.005300000 0.000251431 0.014642428 0.000700246\n",
       "5 0.003791592 0.009620000 0.000487519 0.001993340 0.000125690\n",
       "6 0.003461733 0.007410000 0.000142605 0.009728104 0.000715742"
      ]
     },
     "metadata": {},
     "output_type": "display_data"
    },
    {
     "data": {
      "text/html": [
       "<dl class=dl-horizontal>\n",
       "\t<dt>mass_400</dt>\n",
       "\t\t<dd>1</dd>\n",
       "\t<dt>mass_500</dt>\n",
       "\t\t<dd>2</dd>\n",
       "\t<dt>mass_600</dt>\n",
       "\t\t<dd>3</dd>\n",
       "\t<dt>mass_700</dt>\n",
       "\t\t<dd>4</dd>\n",
       "\t<dt>mass_800</dt>\n",
       "\t\t<dd>5</dd>\n",
       "</dl>\n"
      ],
      "text/latex": [
       "\\begin{description*}\n",
       "\\item[mass\\textbackslash{}\\_400] 1\n",
       "\\item[mass\\textbackslash{}\\_500] 2\n",
       "\\item[mass\\textbackslash{}\\_600] 3\n",
       "\\item[mass\\textbackslash{}\\_700] 4\n",
       "\\item[mass\\textbackslash{}\\_800] 5\n",
       "\\end{description*}\n"
      ],
      "text/markdown": [
       "mass_400\n",
       ":   1mass_500\n",
       ":   2mass_600\n",
       ":   3mass_700\n",
       ":   4mass_800\n",
       ":   5\n",
       "\n"
      ],
      "text/plain": [
       "mass_400 mass_500 mass_600 mass_700 mass_800 \n",
       "       1        2        3        4        5 "
      ]
     },
     "metadata": {},
     "output_type": "display_data"
    },
    {
     "data": {
      "text/html": [
       "<table>\n",
       "<thead><tr><th></th><th scope=col>mass_400</th><th scope=col>mass_500</th><th scope=col>mass_600</th><th scope=col>mass_700</th><th scope=col>mass_800</th></tr></thead>\n",
       "<tbody>\n",
       "\t<tr><th scope=row>1</th><td>0.004329022</td><td>0.007620000</td><td>0.000045400</td><td>0.006026924</td><td>0.000145139</td></tr>\n",
       "\t<tr><th scope=row>2</th><td>0.004129671</td><td>0.007778374</td><td>0.000312508</td><td>0.008177560</td><td>0.000861575</td></tr>\n",
       "\t<tr><th scope=row>3</th><td>0.002857480</td><td>0.009480000</td><td>0.000177773</td><td>0.010588891</td><td>0.000596837</td></tr>\n",
       "\t<tr><th scope=row>4</th><td>0.001465009</td><td>0.005300000</td><td>0.000251431</td><td>0.014642428</td><td>0.000700246</td></tr>\n",
       "\t<tr><th scope=row>5</th><td>0.003791592</td><td>0.009620000</td><td>0.000487519</td><td>0.001993340</td><td>0.000125690</td></tr>\n",
       "\t<tr><th scope=row>6</th><td>0.003461733</td><td>0.007410000</td><td>0.000142605</td><td>0.009728104</td><td>0.000715742</td></tr>\n",
       "\t<tr><th scope=row>7</th><td>0.003618919</td><td>0.011200000</td><td>0.000743803</td><td>0.010716392</td><td>0.001188843</td></tr>\n",
       "\t<tr><th scope=row>8</th><td>0.004594042</td><td>0.008320000</td><td>0.000110096</td><td>0.003805104</td><td>0.000195336</td></tr>\n",
       "\t<tr><th scope=row>9</th><td>0.004685268</td><td>0.006490000</td><td>0.000143358</td><td>0.005520808</td><td>0.000646710</td></tr>\n",
       "\t<tr><th scope=row>10</th><td>0.001275047</td><td>0.003621433</td><td>0.000476920</td><td>0.003478863</td><td>0.000116820</td></tr>\n",
       "\t<tr><th scope=row>11</th><td>0.004839990</td><td>0.009620000</td><td>0.000288811</td><td>0.019330440</td><td>0.000569166</td></tr>\n",
       "\t<tr><th scope=row>12</th><td>0.002387957</td><td>0.008860000</td><td>0.000326000</td><td>0.018623259</td><td>0.001165702</td></tr>\n",
       "\t<tr><th scope=row>13</th><td>0.003694409</td><td>0.004250000</td><td>0.000000000</td><td>0.002693717</td><td>0.000000000</td></tr>\n",
       "\t<tr><th scope=row>14</th><td>0.002719902</td><td>0.006670000</td><td>0.000248276</td><td>0.003410837</td><td>0.000138571</td></tr>\n",
       "\t<tr><th scope=row>15</th><td>0.001841719</td><td>0.005570000</td><td>0.000166491</td><td>0.007833157</td><td>0.000583695</td></tr>\n",
       "\t<tr><th scope=row>46</th><td>0.002359137</td><td>0.010887050</td><td>0.000015300</td><td>0.011994838</td><td>0.000238993</td></tr>\n",
       "\t<tr><th scope=row>47</th><td>0.002716605</td><td>0.010300000</td><td>0.000153437</td><td>0.011290742</td><td>0.000407357</td></tr>\n",
       "\t<tr><th scope=row>48</th><td>0.003711618</td><td>0.008280689</td><td>0.000125598</td><td>0.002509643</td><td>0.000000000</td></tr>\n",
       "\t<tr><th scope=row>49</th><td>0.003471473</td><td>0.008066924</td><td>0.000000000</td><td>0.008131406</td><td>0.000188980</td></tr>\n",
       "\t<tr><th scope=row>50</th><td>0.001674417</td><td>0.004649174</td><td>0.000000000</td><td>0.000971000</td><td>0.000000000</td></tr>\n",
       "\t<tr><th scope=row>51</th><td>0.006935268</td><td>0.010194508</td><td>0.000047600</td><td>0.005786172</td><td>0.000132065</td></tr>\n",
       "\t<tr><th scope=row>52</th><td>0.005754976</td><td>0.009763549</td><td>0.000000000</td><td>0.004319540</td><td>0.000148016</td></tr>\n",
       "\t<tr><th scope=row>53</th><td>0.000000000</td><td>0.000000000</td><td>0.000000000</td><td>0.000288571</td><td>0.000000000</td></tr>\n",
       "\t<tr><th scope=row>54</th><td>0.003641521</td><td>0.011765667</td><td>0.000052300</td><td>0.017978564</td><td>0.000681919</td></tr>\n",
       "\t<tr><th scope=row>55</th><td>0.001675011</td><td>0.003180000</td><td>0.000574561</td><td>0.000000000</td><td>0.000237173</td></tr>\n",
       "\t<tr><th scope=row>56</th><td>0.001386628</td><td>0.002700000</td><td>0.000164746</td><td>0.000796859</td><td>0.000000000</td></tr>\n",
       "\t<tr><th scope=row>57</th><td>0.001042934</td><td>0.001540422</td><td>0.000000000</td><td>0.001272950</td><td>0.000000000</td></tr>\n",
       "\t<tr><th scope=row>58</th><td>0.006552357</td><td>0.007269190</td><td>0.000000000</td><td>0.000113200</td><td>0.000000000</td></tr>\n",
       "\t<tr><th scope=row>59</th><td>0.003187226</td><td>0.005672645</td><td>0.000000000</td><td>0.000217000</td><td>0.000000000</td></tr>\n",
       "\t<tr><th scope=row>60</th><td>0.005682894</td><td>0.006832268</td><td>0.000000000</td><td>0.001837954</td><td>0.000000000</td></tr>\n",
       "</tbody>\n",
       "</table>\n"
      ],
      "text/latex": [
       "\\begin{tabular}{r|lllll}\n",
       "  & mass\\_400 & mass\\_500 & mass\\_600 & mass\\_700 & mass\\_800\\\\\n",
       "\\hline\n",
       "\t1 & 0.004329022 & 0.007620000 & 0.000045400 & 0.006026924 & 0.000145139\\\\\n",
       "\t2 & 0.004129671 & 0.007778374 & 0.000312508 & 0.008177560 & 0.000861575\\\\\n",
       "\t3 & 0.002857480 & 0.009480000 & 0.000177773 & 0.010588891 & 0.000596837\\\\\n",
       "\t4 & 0.001465009 & 0.005300000 & 0.000251431 & 0.014642428 & 0.000700246\\\\\n",
       "\t5 & 0.003791592 & 0.009620000 & 0.000487519 & 0.001993340 & 0.000125690\\\\\n",
       "\t6 & 0.003461733 & 0.007410000 & 0.000142605 & 0.009728104 & 0.000715742\\\\\n",
       "\t7 & 0.003618919 & 0.011200000 & 0.000743803 & 0.010716392 & 0.001188843\\\\\n",
       "\t8 & 0.004594042 & 0.008320000 & 0.000110096 & 0.003805104 & 0.000195336\\\\\n",
       "\t9 & 0.004685268 & 0.006490000 & 0.000143358 & 0.005520808 & 0.000646710\\\\\n",
       "\t10 & 0.001275047 & 0.003621433 & 0.000476920 & 0.003478863 & 0.000116820\\\\\n",
       "\t11 & 0.004839990 & 0.009620000 & 0.000288811 & 0.019330440 & 0.000569166\\\\\n",
       "\t12 & 0.002387957 & 0.008860000 & 0.000326000 & 0.018623259 & 0.001165702\\\\\n",
       "\t13 & 0.003694409 & 0.004250000 & 0.000000000 & 0.002693717 & 0.000000000\\\\\n",
       "\t14 & 0.002719902 & 0.006670000 & 0.000248276 & 0.003410837 & 0.000138571\\\\\n",
       "\t15 & 0.001841719 & 0.005570000 & 0.000166491 & 0.007833157 & 0.000583695\\\\\n",
       "\t46 & 0.002359137 & 0.010887050 & 0.000015300 & 0.011994838 & 0.000238993\\\\\n",
       "\t47 & 0.002716605 & 0.010300000 & 0.000153437 & 0.011290742 & 0.000407357\\\\\n",
       "\t48 & 0.003711618 & 0.008280689 & 0.000125598 & 0.002509643 & 0.000000000\\\\\n",
       "\t49 & 0.003471473 & 0.008066924 & 0.000000000 & 0.008131406 & 0.000188980\\\\\n",
       "\t50 & 0.001674417 & 0.004649174 & 0.000000000 & 0.000971000 & 0.000000000\\\\\n",
       "\t51 & 0.006935268 & 0.010194508 & 0.000047600 & 0.005786172 & 0.000132065\\\\\n",
       "\t52 & 0.005754976 & 0.009763549 & 0.000000000 & 0.004319540 & 0.000148016\\\\\n",
       "\t53 & 0.000000000 & 0.000000000 & 0.000000000 & 0.000288571 & 0.000000000\\\\\n",
       "\t54 & 0.003641521 & 0.011765667 & 0.000052300 & 0.017978564 & 0.000681919\\\\\n",
       "\t55 & 0.001675011 & 0.003180000 & 0.000574561 & 0.000000000 & 0.000237173\\\\\n",
       "\t56 & 0.001386628 & 0.002700000 & 0.000164746 & 0.000796859 & 0.000000000\\\\\n",
       "\t57 & 0.001042934 & 0.001540422 & 0.000000000 & 0.001272950 & 0.000000000\\\\\n",
       "\t58 & 0.006552357 & 0.007269190 & 0.000000000 & 0.000113200 & 0.000000000\\\\\n",
       "\t59 & 0.003187226 & 0.005672645 & 0.000000000 & 0.000217000 & 0.000000000\\\\\n",
       "\t60 & 0.005682894 & 0.006832268 & 0.000000000 & 0.001837954 & 0.000000000\\\\\n",
       "\\end{tabular}\n"
      ],
      "text/markdown": [
       "\n",
       "| <!--/--> | mass_400 | mass_500 | mass_600 | mass_700 | mass_800 |\n",
       "|---|---|---|---|---|---|\n",
       "| 1 | 0.004329022 | 0.007620000 | 0.000045400 | 0.006026924 | 0.000145139 |\n",
       "| 2 | 0.004129671 | 0.007778374 | 0.000312508 | 0.008177560 | 0.000861575 |\n",
       "| 3 | 0.002857480 | 0.009480000 | 0.000177773 | 0.010588891 | 0.000596837 |\n",
       "| 4 | 0.001465009 | 0.005300000 | 0.000251431 | 0.014642428 | 0.000700246 |\n",
       "| 5 | 0.003791592 | 0.009620000 | 0.000487519 | 0.001993340 | 0.000125690 |\n",
       "| 6 | 0.003461733 | 0.007410000 | 0.000142605 | 0.009728104 | 0.000715742 |\n",
       "| 7 | 0.003618919 | 0.011200000 | 0.000743803 | 0.010716392 | 0.001188843 |\n",
       "| 8 | 0.004594042 | 0.008320000 | 0.000110096 | 0.003805104 | 0.000195336 |\n",
       "| 9 | 0.004685268 | 0.006490000 | 0.000143358 | 0.005520808 | 0.000646710 |\n",
       "| 10 | 0.001275047 | 0.003621433 | 0.000476920 | 0.003478863 | 0.000116820 |\n",
       "| 11 | 0.004839990 | 0.009620000 | 0.000288811 | 0.019330440 | 0.000569166 |\n",
       "| 12 | 0.002387957 | 0.008860000 | 0.000326000 | 0.018623259 | 0.001165702 |\n",
       "| 13 | 0.003694409 | 0.004250000 | 0.000000000 | 0.002693717 | 0.000000000 |\n",
       "| 14 | 0.002719902 | 0.006670000 | 0.000248276 | 0.003410837 | 0.000138571 |\n",
       "| 15 | 0.001841719 | 0.005570000 | 0.000166491 | 0.007833157 | 0.000583695 |\n",
       "| 46 | 0.002359137 | 0.010887050 | 0.000015300 | 0.011994838 | 0.000238993 |\n",
       "| 47 | 0.002716605 | 0.010300000 | 0.000153437 | 0.011290742 | 0.000407357 |\n",
       "| 48 | 0.003711618 | 0.008280689 | 0.000125598 | 0.002509643 | 0.000000000 |\n",
       "| 49 | 0.003471473 | 0.008066924 | 0.000000000 | 0.008131406 | 0.000188980 |\n",
       "| 50 | 0.001674417 | 0.004649174 | 0.000000000 | 0.000971000 | 0.000000000 |\n",
       "| 51 | 0.006935268 | 0.010194508 | 0.000047600 | 0.005786172 | 0.000132065 |\n",
       "| 52 | 0.005754976 | 0.009763549 | 0.000000000 | 0.004319540 | 0.000148016 |\n",
       "| 53 | 0.000000000 | 0.000000000 | 0.000000000 | 0.000288571 | 0.000000000 |\n",
       "| 54 | 0.003641521 | 0.011765667 | 0.000052300 | 0.017978564 | 0.000681919 |\n",
       "| 55 | 0.001675011 | 0.003180000 | 0.000574561 | 0.000000000 | 0.000237173 |\n",
       "| 56 | 0.001386628 | 0.002700000 | 0.000164746 | 0.000796859 | 0.000000000 |\n",
       "| 57 | 0.001042934 | 0.001540422 | 0.000000000 | 0.001272950 | 0.000000000 |\n",
       "| 58 | 0.006552357 | 0.007269190 | 0.000000000 | 0.000113200 | 0.000000000 |\n",
       "| 59 | 0.003187226 | 0.005672645 | 0.000000000 | 0.000217000 | 0.000000000 |\n",
       "| 60 | 0.005682894 | 0.006832268 | 0.000000000 | 0.001837954 | 0.000000000 |\n",
       "\n"
      ],
      "text/plain": [
       "   mass_400    mass_500    mass_600    mass_700    mass_800   \n",
       "1  0.004329022 0.007620000 0.000045400 0.006026924 0.000145139\n",
       "2  0.004129671 0.007778374 0.000312508 0.008177560 0.000861575\n",
       "3  0.002857480 0.009480000 0.000177773 0.010588891 0.000596837\n",
       "4  0.001465009 0.005300000 0.000251431 0.014642428 0.000700246\n",
       "5  0.003791592 0.009620000 0.000487519 0.001993340 0.000125690\n",
       "6  0.003461733 0.007410000 0.000142605 0.009728104 0.000715742\n",
       "7  0.003618919 0.011200000 0.000743803 0.010716392 0.001188843\n",
       "8  0.004594042 0.008320000 0.000110096 0.003805104 0.000195336\n",
       "9  0.004685268 0.006490000 0.000143358 0.005520808 0.000646710\n",
       "10 0.001275047 0.003621433 0.000476920 0.003478863 0.000116820\n",
       "11 0.004839990 0.009620000 0.000288811 0.019330440 0.000569166\n",
       "12 0.002387957 0.008860000 0.000326000 0.018623259 0.001165702\n",
       "13 0.003694409 0.004250000 0.000000000 0.002693717 0.000000000\n",
       "14 0.002719902 0.006670000 0.000248276 0.003410837 0.000138571\n",
       "15 0.001841719 0.005570000 0.000166491 0.007833157 0.000583695\n",
       "46 0.002359137 0.010887050 0.000015300 0.011994838 0.000238993\n",
       "47 0.002716605 0.010300000 0.000153437 0.011290742 0.000407357\n",
       "48 0.003711618 0.008280689 0.000125598 0.002509643 0.000000000\n",
       "49 0.003471473 0.008066924 0.000000000 0.008131406 0.000188980\n",
       "50 0.001674417 0.004649174 0.000000000 0.000971000 0.000000000\n",
       "51 0.006935268 0.010194508 0.000047600 0.005786172 0.000132065\n",
       "52 0.005754976 0.009763549 0.000000000 0.004319540 0.000148016\n",
       "53 0.000000000 0.000000000 0.000000000 0.000288571 0.000000000\n",
       "54 0.003641521 0.011765667 0.000052300 0.017978564 0.000681919\n",
       "55 0.001675011 0.003180000 0.000574561 0.000000000 0.000237173\n",
       "56 0.001386628 0.002700000 0.000164746 0.000796859 0.000000000\n",
       "57 0.001042934 0.001540422 0.000000000 0.001272950 0.000000000\n",
       "58 0.006552357 0.007269190 0.000000000 0.000113200 0.000000000\n",
       "59 0.003187226 0.005672645 0.000000000 0.000217000 0.000000000\n",
       "60 0.005682894 0.006832268 0.000000000 0.001837954 0.000000000"
      ]
     },
     "metadata": {},
     "output_type": "display_data"
    },
    {
     "data": {
      "text/html": [
       "<table>\n",
       "<thead><tr><th scope=col>filename</th><th scope=col>MouseID</th><th scope=col>Treatmentgroup</th><th scope=col>status</th><th scope=col>DPI</th><th scope=col>organ</th><th scope=col>well_position</th><th scope=col>plate</th><th scope=col>mass_400</th><th scope=col>mass_500</th><th scope=col>mass_600</th><th scope=col>mass_700</th><th scope=col>mass_800</th></tr></thead>\n",
       "<tbody>\n",
       "\t<tr><td>X501_Group1A_50dpi_LA_251_B_A1_P121.mzXML</td><td>501                                      </td><td>Group1A                                  </td><td>naive                                    </td><td>50dpi                                    </td><td>LA                                       </td><td>A1                                       </td><td>P121                                     </td><td>0.004329022                              </td><td>0.007620000                              </td><td>0.000045400                              </td><td>0.006026924                              </td><td>0.000145139                              </td></tr>\n",
       "\t<tr><td>X502_Group1A_50dpi_LA_252_B_A2_P121.mzXML</td><td>502                                      </td><td>Group1A                                  </td><td>naive                                    </td><td>50dpi                                    </td><td>LA                                       </td><td>A2                                       </td><td>P121                                     </td><td>0.004129671                              </td><td>0.007778374                              </td><td>0.000312508                              </td><td>0.008177560                              </td><td>0.000861575                              </td></tr>\n",
       "\t<tr><td>X503_Group1A_50dpi_LA_253_B_A3_P121.mzXML</td><td>503                                      </td><td>Group1A                                  </td><td>naive                                    </td><td>50dpi                                    </td><td>LA                                       </td><td>A3                                       </td><td>P121                                     </td><td>0.002857480                              </td><td>0.009480000                              </td><td>0.000177773                              </td><td>0.010588891                              </td><td>0.000596837                              </td></tr>\n",
       "\t<tr><td>X504_Group1A_50dpi_LA_254_B_A4_P121.mzXML</td><td>504                                      </td><td>Group1A                                  </td><td>naive                                    </td><td>50dpi                                    </td><td>LA                                       </td><td>A4                                       </td><td>P121                                     </td><td>0.001465009                              </td><td>0.005300000                              </td><td>0.000251431                              </td><td>0.014642428                              </td><td>0.000700246                              </td></tr>\n",
       "\t<tr><td>X505_Group1A_50dpi_LA_255_B_A5_P121.mzXML</td><td>505                                      </td><td>Group1A                                  </td><td>naive                                    </td><td>50dpi                                    </td><td>LA                                       </td><td>A5                                       </td><td>P121                                     </td><td>0.003791592                              </td><td>0.009620000                              </td><td>0.000487519                              </td><td>0.001993340                              </td><td>0.000125690                              </td></tr>\n",
       "\t<tr><td>X521_Group1A_50dpi_LA_256_B_A6_P121.mzXML</td><td>521                                      </td><td>Group1A                                  </td><td>naive                                    </td><td>50dpi                                    </td><td>LA                                       </td><td>A6                                       </td><td>P121                                     </td><td>0.003461733                              </td><td>0.007410000                              </td><td>0.000142605                              </td><td>0.009728104                              </td><td>0.000715742                              </td></tr>\n",
       "</tbody>\n",
       "</table>\n"
      ],
      "text/latex": [
       "\\begin{tabular}{r|lllllllllllll}\n",
       " filename & MouseID & Treatmentgroup & status & DPI & organ & well\\_position & plate & mass\\_400 & mass\\_500 & mass\\_600 & mass\\_700 & mass\\_800\\\\\n",
       "\\hline\n",
       "\t X501\\_Group1A\\_50dpi\\_LA\\_251\\_B\\_A1\\_P121.mzXML & 501                                                     & Group1A                                                 & naive                                                   & 50dpi                                                   & LA                                                      & A1                                                      & P121                                                    & 0.004329022                                             & 0.007620000                                             & 0.000045400                                             & 0.006026924                                             & 0.000145139                                            \\\\\n",
       "\t X502\\_Group1A\\_50dpi\\_LA\\_252\\_B\\_A2\\_P121.mzXML & 502                                                     & Group1A                                                 & naive                                                   & 50dpi                                                   & LA                                                      & A2                                                      & P121                                                    & 0.004129671                                             & 0.007778374                                             & 0.000312508                                             & 0.008177560                                             & 0.000861575                                            \\\\\n",
       "\t X503\\_Group1A\\_50dpi\\_LA\\_253\\_B\\_A3\\_P121.mzXML & 503                                                     & Group1A                                                 & naive                                                   & 50dpi                                                   & LA                                                      & A3                                                      & P121                                                    & 0.002857480                                             & 0.009480000                                             & 0.000177773                                             & 0.010588891                                             & 0.000596837                                            \\\\\n",
       "\t X504\\_Group1A\\_50dpi\\_LA\\_254\\_B\\_A4\\_P121.mzXML & 504                                                     & Group1A                                                 & naive                                                   & 50dpi                                                   & LA                                                      & A4                                                      & P121                                                    & 0.001465009                                             & 0.005300000                                             & 0.000251431                                             & 0.014642428                                             & 0.000700246                                            \\\\\n",
       "\t X505\\_Group1A\\_50dpi\\_LA\\_255\\_B\\_A5\\_P121.mzXML & 505                                                     & Group1A                                                 & naive                                                   & 50dpi                                                   & LA                                                      & A5                                                      & P121                                                    & 0.003791592                                             & 0.009620000                                             & 0.000487519                                             & 0.001993340                                             & 0.000125690                                            \\\\\n",
       "\t X521\\_Group1A\\_50dpi\\_LA\\_256\\_B\\_A6\\_P121.mzXML & 521                                                     & Group1A                                                 & naive                                                   & 50dpi                                                   & LA                                                      & A6                                                      & P121                                                    & 0.003461733                                             & 0.007410000                                             & 0.000142605                                             & 0.009728104                                             & 0.000715742                                            \\\\\n",
       "\\end{tabular}\n"
      ],
      "text/markdown": [
       "\n",
       "| filename | MouseID | Treatmentgroup | status | DPI | organ | well_position | plate | mass_400 | mass_500 | mass_600 | mass_700 | mass_800 |\n",
       "|---|---|---|---|---|---|---|---|---|---|---|---|---|\n",
       "| X501_Group1A_50dpi_LA_251_B_A1_P121.mzXML | 501                                       | Group1A                                   | naive                                     | 50dpi                                     | LA                                        | A1                                        | P121                                      | 0.004329022                               | 0.007620000                               | 0.000045400                               | 0.006026924                               | 0.000145139                               |\n",
       "| X502_Group1A_50dpi_LA_252_B_A2_P121.mzXML | 502                                       | Group1A                                   | naive                                     | 50dpi                                     | LA                                        | A2                                        | P121                                      | 0.004129671                               | 0.007778374                               | 0.000312508                               | 0.008177560                               | 0.000861575                               |\n",
       "| X503_Group1A_50dpi_LA_253_B_A3_P121.mzXML | 503                                       | Group1A                                   | naive                                     | 50dpi                                     | LA                                        | A3                                        | P121                                      | 0.002857480                               | 0.009480000                               | 0.000177773                               | 0.010588891                               | 0.000596837                               |\n",
       "| X504_Group1A_50dpi_LA_254_B_A4_P121.mzXML | 504                                       | Group1A                                   | naive                                     | 50dpi                                     | LA                                        | A4                                        | P121                                      | 0.001465009                               | 0.005300000                               | 0.000251431                               | 0.014642428                               | 0.000700246                               |\n",
       "| X505_Group1A_50dpi_LA_255_B_A5_P121.mzXML | 505                                       | Group1A                                   | naive                                     | 50dpi                                     | LA                                        | A5                                        | P121                                      | 0.003791592                               | 0.009620000                               | 0.000487519                               | 0.001993340                               | 0.000125690                               |\n",
       "| X521_Group1A_50dpi_LA_256_B_A6_P121.mzXML | 521                                       | Group1A                                   | naive                                     | 50dpi                                     | LA                                        | A6                                        | P121                                      | 0.003461733                               | 0.007410000                               | 0.000142605                               | 0.009728104                               | 0.000715742                               |\n",
       "\n"
      ],
      "text/plain": [
       "  filename                                  MouseID Treatmentgroup status DPI  \n",
       "1 X501_Group1A_50dpi_LA_251_B_A1_P121.mzXML 501     Group1A        naive  50dpi\n",
       "2 X502_Group1A_50dpi_LA_252_B_A2_P121.mzXML 502     Group1A        naive  50dpi\n",
       "3 X503_Group1A_50dpi_LA_253_B_A3_P121.mzXML 503     Group1A        naive  50dpi\n",
       "4 X504_Group1A_50dpi_LA_254_B_A4_P121.mzXML 504     Group1A        naive  50dpi\n",
       "5 X505_Group1A_50dpi_LA_255_B_A5_P121.mzXML 505     Group1A        naive  50dpi\n",
       "6 X521_Group1A_50dpi_LA_256_B_A6_P121.mzXML 521     Group1A        naive  50dpi\n",
       "  organ well_position plate mass_400    mass_500    mass_600    mass_700   \n",
       "1 LA    A1            P121  0.004329022 0.007620000 0.000045400 0.006026924\n",
       "2 LA    A2            P121  0.004129671 0.007778374 0.000312508 0.008177560\n",
       "3 LA    A3            P121  0.002857480 0.009480000 0.000177773 0.010588891\n",
       "4 LA    A4            P121  0.001465009 0.005300000 0.000251431 0.014642428\n",
       "5 LA    A5            P121  0.003791592 0.009620000 0.000487519 0.001993340\n",
       "6 LA    A6            P121  0.003461733 0.007410000 0.000142605 0.009728104\n",
       "  mass_800   \n",
       "1 0.000145139\n",
       "2 0.000861575\n",
       "3 0.000596837\n",
       "4 0.000700246\n",
       "5 0.000125690\n",
       "6 0.000715742"
      ]
     },
     "metadata": {},
     "output_type": "display_data"
    },
    {
     "data": {
      "text/html": [
       "<ol class=list-inline>\n",
       "\t<li>30</li>\n",
       "\t<li>13</li>\n",
       "</ol>\n"
      ],
      "text/latex": [
       "\\begin{enumerate*}\n",
       "\\item 30\n",
       "\\item 13\n",
       "\\end{enumerate*}\n"
      ],
      "text/markdown": [
       "1. 30\n",
       "2. 13\n",
       "\n",
       "\n"
      ],
      "text/plain": [
       "[1] 30 13"
      ]
     },
     "metadata": {},
     "output_type": "display_data"
    },
    {
     "data": {
      "text/html": [
       "<ol class=list-inline>\n",
       "\t<li>30</li>\n",
       "\t<li>5</li>\n",
       "</ol>\n"
      ],
      "text/latex": [
       "\\begin{enumerate*}\n",
       "\\item 30\n",
       "\\item 5\n",
       "\\end{enumerate*}\n"
      ],
      "text/markdown": [
       "1. 30\n",
       "2. 5\n",
       "\n",
       "\n"
      ],
      "text/plain": [
       "[1] 30  5"
      ]
     },
     "metadata": {},
     "output_type": "display_data"
    },
    {
     "data": {
      "text/html": [
       "<ol class=list-inline>\n",
       "\t<li>30</li>\n",
       "\t<li>5</li>\n",
       "</ol>\n"
      ],
      "text/latex": [
       "\\begin{enumerate*}\n",
       "\\item 30\n",
       "\\item 5\n",
       "\\end{enumerate*}\n"
      ],
      "text/markdown": [
       "1. 30\n",
       "2. 5\n",
       "\n",
       "\n"
      ],
      "text/plain": [
       "[1] 30  5"
      ]
     },
     "metadata": {},
     "output_type": "display_data"
    },
    {
     "data": {
      "text/html": [
       "<ol class=list-inline>\n",
       "\t<li>30</li>\n",
       "\t<li>13</li>\n",
       "</ol>\n"
      ],
      "text/latex": [
       "\\begin{enumerate*}\n",
       "\\item 30\n",
       "\\item 13\n",
       "\\end{enumerate*}\n"
      ],
      "text/markdown": [
       "1. 30\n",
       "2. 13\n",
       "\n",
       "\n"
      ],
      "text/plain": [
       "[1] 30 13"
      ]
     },
     "metadata": {},
     "output_type": "display_data"
    }
   ],
   "source": [
    "noMeta<-features_pos[,9:13]\n",
    "head(noMeta)\n",
    "not_zero<-which(colSums(noMeta) != 0)\n",
    "head(not_zero)\n",
    "nonzero <- noMeta[, not_zero]\n",
    "nonzero\n",
    "nonzero_wMeta<-cbind(features_pos[,1:8], nonzero)\n",
    "head(nonzero_wMeta)\n",
    "dim(features_pos)\n",
    "dim(noMeta)\n",
    "dim(nonzero)\n",
    "dim(nonzero_wMeta)"
   ]
  },
  {
   "cell_type": "code",
   "execution_count": 8,
   "metadata": {
    "scrolled": true
   },
   "outputs": [
    {
     "name": "stderr",
     "output_type": "stream",
     "text": [
      "Warning message in wilcox.test.default(x = c(0.00762, 0.007778374, 0.00948, 0.0053, :\n",
      "\"cannot compute exact p-value with ties\"Warning message in wilcox.test.default(x = c(4.54e-05, 0.000312508, 0.000177773, :\n",
      "\"cannot compute exact p-value with ties\"Warning message in wilcox.test.default(x = c(0.000145139, 0.000861575, 0.000596837, :\n",
      "\"cannot compute exact p-value with ties\""
     ]
    },
    {
     "data": {
      "text/html": [
       "<ol class=list-inline>\n",
       "\t<li>0.682673807575057</li>\n",
       "\t<li>0.835687009241157</li>\n",
       "\t<li>0.00139698775036612</li>\n",
       "\t<li>0.0209023068445138</li>\n",
       "\t<li>0.00484918637572713</li>\n",
       "</ol>\n"
      ],
      "text/latex": [
       "\\begin{enumerate*}\n",
       "\\item 0.682673807575057\n",
       "\\item 0.835687009241157\n",
       "\\item 0.00139698775036612\n",
       "\\item 0.0209023068445138\n",
       "\\item 0.00484918637572713\n",
       "\\end{enumerate*}\n"
      ],
      "text/markdown": [
       "1. 0.682673807575057\n",
       "2. 0.835687009241157\n",
       "3. 0.00139698775036612\n",
       "4. 0.0209023068445138\n",
       "5. 0.00484918637572713\n",
       "\n",
       "\n"
      ],
      "text/plain": [
       "[1] 0.682673808 0.835687009 0.001396988 0.020902307 0.004849186"
      ]
     },
     "metadata": {},
     "output_type": "display_data"
    },
    {
     "data": {
      "text/html": [
       "<ol class=list-inline>\n",
       "\t<li>0.835687009241157</li>\n",
       "\t<li>0.835687009241157</li>\n",
       "\t<li>0.00698493875183062</li>\n",
       "\t<li>0.0348371780741896</li>\n",
       "\t<li>0.0121229659393178</li>\n",
       "</ol>\n"
      ],
      "text/latex": [
       "\\begin{enumerate*}\n",
       "\\item 0.835687009241157\n",
       "\\item 0.835687009241157\n",
       "\\item 0.00698493875183062\n",
       "\\item 0.0348371780741896\n",
       "\\item 0.0121229659393178\n",
       "\\end{enumerate*}\n"
      ],
      "text/markdown": [
       "1. 0.835687009241157\n",
       "2. 0.835687009241157\n",
       "3. 0.00698493875183062\n",
       "4. 0.0348371780741896\n",
       "5. 0.0121229659393178\n",
       "\n",
       "\n"
      ],
      "text/plain": [
       "[1] 0.835687009 0.835687009 0.006984939 0.034837178 0.012122966"
      ]
     },
     "metadata": {},
     "output_type": "display_data"
    }
   ],
   "source": [
    "pval<-c()\n",
    "\n",
    "for (i in 9:ncol(nonzero_wMeta)) \n",
    "pval<-c(pval,wilcox.test(nonzero_wMeta[,i]~nonzero_wMeta$Treatmentgroup)$p.value)\n",
    "head(pval) #to check\n",
    "pAdj <- p.adjust(pval, method = c(\"fdr\"), n=length(pval)) \n",
    "head(pAdj) \n",
    "\n"
   ]
  },
  {
   "cell_type": "code",
   "execution_count": 9,
   "metadata": {
    "scrolled": true
   },
   "outputs": [
    {
     "data": {
      "text/html": [
       "5"
      ],
      "text/latex": [
       "5"
      ],
      "text/markdown": [
       "5"
      ],
      "text/plain": [
       "[1] 5"
      ]
     },
     "metadata": {},
     "output_type": "display_data"
    }
   ],
   "source": [
    "length(pval)"
   ]
  },
  {
   "cell_type": "code",
   "execution_count": 10,
   "metadata": {
    "scrolled": true
   },
   "outputs": [
    {
     "data": {
      "text/html": [
       "5"
      ],
      "text/latex": [
       "5"
      ],
      "text/markdown": [
       "5"
      ],
      "text/plain": [
       "[1] 5"
      ]
     },
     "metadata": {},
     "output_type": "display_data"
    }
   ],
   "source": [
    "length(pAdj)"
   ]
  },
  {
   "cell_type": "code",
   "execution_count": 11,
   "metadata": {},
   "outputs": [
    {
     "data": {
      "text/html": [
       "<ol class=list-inline>\n",
       "\t<li>2</li>\n",
       "\t<li>5</li>\n",
       "</ol>\n"
      ],
      "text/latex": [
       "\\begin{enumerate*}\n",
       "\\item 2\n",
       "\\item 5\n",
       "\\end{enumerate*}\n"
      ],
      "text/markdown": [
       "1. 2\n",
       "2. 5\n",
       "\n",
       "\n"
      ],
      "text/plain": [
       "[1] 2 5"
      ]
     },
     "metadata": {},
     "output_type": "display_data"
    },
    {
     "data": {
      "text/html": [
       "<table>\n",
       "<thead><tr><th></th><th scope=col>mass_400</th><th scope=col>mass_500</th><th scope=col>mass_600</th></tr></thead>\n",
       "<tbody>\n",
       "\t<tr><th scope=row>Group1A</th><td>0.003312784 </td><td>0.007453987 </td><td>2.613994e-04</td></tr>\n",
       "\t<tr><th scope=row>Group3A</th><td>0.003319471 </td><td>0.006740139 </td><td>7.556947e-05</td></tr>\n",
       "</tbody>\n",
       "</table>\n"
      ],
      "text/latex": [
       "\\begin{tabular}{r|lll}\n",
       "  & mass\\_400 & mass\\_500 & mass\\_600\\\\\n",
       "\\hline\n",
       "\tGroup1A & 0.003312784  & 0.007453987  & 2.613994e-04\\\\\n",
       "\tGroup3A & 0.003319471  & 0.006740139  & 7.556947e-05\\\\\n",
       "\\end{tabular}\n"
      ],
      "text/markdown": [
       "\n",
       "| <!--/--> | mass_400 | mass_500 | mass_600 |\n",
       "|---|---|---|---|\n",
       "| Group1A | 0.003312784  | 0.007453987  | 2.613994e-04 |\n",
       "| Group3A | 0.003319471  | 0.006740139  | 7.556947e-05 |\n",
       "\n"
      ],
      "text/plain": [
       "        mass_400    mass_500    mass_600    \n",
       "Group1A 0.003312784 0.007453987 2.613994e-04\n",
       "Group3A 0.003319471 0.006740139 7.556947e-05"
      ]
     },
     "metadata": {},
     "output_type": "display_data"
    },
    {
     "data": {
      "text/html": [
       "<dl class=dl-horizontal>\n",
       "\t<dt>mass_400</dt>\n",
       "\t\t<dd>0.997985522391971</dd>\n",
       "\t<dt>mass_500</dt>\n",
       "\t\t<dd>1.10590999081859</dd>\n",
       "\t<dt>mass_600</dt>\n",
       "\t\t<dd>3.45906106699178</dd>\n",
       "\t<dt>mass_700</dt>\n",
       "\t\t<dd>1.87487410277699</dd>\n",
       "\t<dt>mass_800</dt>\n",
       "\t\t<dd>3.80931952422778</dd>\n",
       "</dl>\n"
      ],
      "text/latex": [
       "\\begin{description*}\n",
       "\\item[mass\\textbackslash{}\\_400] 0.997985522391971\n",
       "\\item[mass\\textbackslash{}\\_500] 1.10590999081859\n",
       "\\item[mass\\textbackslash{}\\_600] 3.45906106699178\n",
       "\\item[mass\\textbackslash{}\\_700] 1.87487410277699\n",
       "\\item[mass\\textbackslash{}\\_800] 3.80931952422778\n",
       "\\end{description*}\n"
      ],
      "text/markdown": [
       "mass_400\n",
       ":   0.997985522391971mass_500\n",
       ":   1.10590999081859mass_600\n",
       ":   3.45906106699178mass_700\n",
       ":   1.87487410277699mass_800\n",
       ":   3.80931952422778\n",
       "\n"
      ],
      "text/plain": [
       " mass_400  mass_500  mass_600  mass_700  mass_800 \n",
       "0.9979855 1.1059100 3.4590611 1.8748741 3.8093195 "
      ]
     },
     "metadata": {},
     "output_type": "display_data"
    },
    {
     "data": {
      "text/html": [
       "<ol class=list-inline>\n",
       "\t<li>'numeric'</li>\n",
       "\t<li>'vector'</li>\n",
       "</ol>\n"
      ],
      "text/latex": [
       "\\begin{enumerate*}\n",
       "\\item 'numeric'\n",
       "\\item 'vector'\n",
       "\\end{enumerate*}\n"
      ],
      "text/markdown": [
       "1. 'numeric'\n",
       "2. 'vector'\n",
       "\n",
       "\n"
      ],
      "text/plain": [
       "[1] \"numeric\" \"vector\" "
      ]
     },
     "metadata": {},
     "output_type": "display_data"
    }
   ],
   "source": [
    "avg<- apply(nonzero_wMeta[,9:ncol(nonzero_wMeta)], 2, function(x) tapply(x, nonzero_wMeta$Treatmentgroup, function(x) mean(x))) \n",
    "\n",
    "dim(avg)\n",
    "\n",
    "avg[,1:3]\n",
    "\n",
    "fch <- apply(avg, 2, function(x) x[1]/x[2])\n",
    "\n",
    "head(fch)\n",
    "is(fch)"
   ]
  },
  {
   "cell_type": "code",
   "execution_count": 12,
   "metadata": {
    "scrolled": true
   },
   "outputs": [
    {
     "data": {
      "text/html": [
       "<dl class=dl-horizontal>\n",
       "\t<dt>mass_400</dt>\n",
       "\t\t<dd>0.997985522391971</dd>\n",
       "\t<dt>mass_500</dt>\n",
       "\t\t<dd>1.10590999081859</dd>\n",
       "\t<dt>mass_600</dt>\n",
       "\t\t<dd>3.45906106699178</dd>\n",
       "\t<dt>mass_700</dt>\n",
       "\t\t<dd>1.87487410277699</dd>\n",
       "\t<dt>mass_800</dt>\n",
       "\t\t<dd>3.80931952422778</dd>\n",
       "</dl>\n"
      ],
      "text/latex": [
       "\\begin{description*}\n",
       "\\item[mass\\textbackslash{}\\_400] 0.997985522391971\n",
       "\\item[mass\\textbackslash{}\\_500] 1.10590999081859\n",
       "\\item[mass\\textbackslash{}\\_600] 3.45906106699178\n",
       "\\item[mass\\textbackslash{}\\_700] 1.87487410277699\n",
       "\\item[mass\\textbackslash{}\\_800] 3.80931952422778\n",
       "\\end{description*}\n"
      ],
      "text/markdown": [
       "mass_400\n",
       ":   0.997985522391971mass_500\n",
       ":   1.10590999081859mass_600\n",
       ":   3.45906106699178mass_700\n",
       ":   1.87487410277699mass_800\n",
       ":   3.80931952422778\n",
       "\n"
      ],
      "text/plain": [
       " mass_400  mass_500  mass_600  mass_700  mass_800 \n",
       "0.9979855 1.1059100 3.4590611 1.8748741 3.8093195 "
      ]
     },
     "metadata": {},
     "output_type": "display_data"
    }
   ],
   "source": [
    "fch"
   ]
  },
  {
   "cell_type": "code",
   "execution_count": 13,
   "metadata": {
    "scrolled": false
   },
   "outputs": [],
   "source": [
    "df <- data.frame(fch,pval, pAdj)\n",
    "write.csv(df, \"PE-time-LA-wilcox-1A-3A.csv\")"
   ]
  },
  {
   "cell_type": "code",
   "execution_count": null,
   "metadata": {},
   "outputs": [],
   "source": []
  },
  {
   "cell_type": "code",
   "execution_count": null,
   "metadata": {},
   "outputs": [],
   "source": []
  },
  {
   "cell_type": "code",
   "execution_count": null,
   "metadata": {},
   "outputs": [],
   "source": []
  },
  {
   "cell_type": "code",
   "execution_count": null,
   "metadata": {},
   "outputs": [],
   "source": []
  },
  {
   "cell_type": "code",
   "execution_count": null,
   "metadata": {},
   "outputs": [],
   "source": []
  },
  {
   "cell_type": "code",
   "execution_count": null,
   "metadata": {},
   "outputs": [],
   "source": []
  }
 ],
 "metadata": {
  "kernelspec": {
   "display_name": "R",
   "language": "R",
   "name": "ir"
  },
  "language_info": {
   "codemirror_mode": "r",
   "file_extension": ".r",
   "mimetype": "text/x-r-source",
   "name": "R",
   "pygments_lexer": "r",
   "version": "3.6.1"
  }
 },
 "nbformat": 4,
 "nbformat_minor": 2
}
