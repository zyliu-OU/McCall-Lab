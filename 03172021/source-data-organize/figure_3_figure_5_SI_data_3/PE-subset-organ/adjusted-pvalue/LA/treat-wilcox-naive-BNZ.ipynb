{
 "cells": [
  {
   "cell_type": "code",
   "execution_count": 1,
   "metadata": {},
   "outputs": [],
   "source": [
    "a <- read.csv(\"03172021-PE-treatment-LA-M-F.csv\")"
   ]
  },
  {
   "cell_type": "code",
   "execution_count": 2,
   "metadata": {},
   "outputs": [
    {
     "data": {
      "text/html": [
       "<table>\n",
       "<thead><tr><th scope=col>filename</th><th scope=col>MouseID</th><th scope=col>Treatmentgroup</th><th scope=col>DPI</th><th scope=col>organ</th><th scope=col>well_position</th><th scope=col>plate</th><th scope=col>mass_400</th><th scope=col>mass_500</th><th scope=col>mass_600</th><th scope=col>mass_700</th><th scope=col>mass_800</th></tr></thead>\n",
       "<tbody>\n",
       "\t<tr><td>X511_Group1C_142dpi_LA_161_G_A1_P120.mzXML</td><td>511                                       </td><td>naive                                     </td><td>142dpi                                    </td><td>LA                                        </td><td>A1                                        </td><td>P120                                      </td><td>0.002077955                               </td><td>0.002490702                               </td><td>0.00e+00                                  </td><td>0.000232453                               </td><td>0.000149389                               </td></tr>\n",
       "\t<tr><td>X512_Group1C_142dpi_LA_162_G_A2_P120.mzXML</td><td>512                                       </td><td>naive                                     </td><td>142dpi                                    </td><td>LA                                        </td><td>A2                                        </td><td>P120                                      </td><td>0.001422483                               </td><td>0.001827962                               </td><td>2.59e-05                                  </td><td>0.000955615                               </td><td>0.000000000                               </td></tr>\n",
       "\t<tr><td>X513_Group1C_142dpi_LA_163_G_A3_P120.mzXML</td><td>513                                       </td><td>naive                                     </td><td>142dpi                                    </td><td>LA                                        </td><td>A3                                        </td><td>P120                                      </td><td>0.000422008                               </td><td>0.001031656                               </td><td>4.61e-05                                  </td><td>0.000000000                               </td><td>0.000000000                               </td></tr>\n",
       "\t<tr><td>X514_Group1C_142dpi_LA_164_G_A4_P120.mzXML</td><td>514                                       </td><td>naive                                     </td><td>142dpi                                    </td><td>LA                                        </td><td>A4                                        </td><td>P120                                      </td><td>0.001861510                               </td><td>0.002679198                               </td><td>1.95e-05                                  </td><td>0.001053337                               </td><td>0.000081800                               </td></tr>\n",
       "\t<tr><td>X515_Group1C_142dpi_LA_165_G_A5_P120.mzXML</td><td>515                                       </td><td>naive                                     </td><td>142dpi                                    </td><td>LA                                        </td><td>A5                                        </td><td>P120                                      </td><td>0.001966674                               </td><td>0.002742174                               </td><td>2.00e-05                                  </td><td>0.000639894                               </td><td>0.000151910                               </td></tr>\n",
       "\t<tr><td>X531_Group1C_142dpi_LA_166_G_A6_P120.mzXML</td><td>531                                       </td><td>naive                                     </td><td>142dpi                                    </td><td>LA                                        </td><td>A6                                        </td><td>P120                                      </td><td>0.001182584                               </td><td>0.001621899                               </td><td>3.75e-05                                  </td><td>0.000000000                               </td><td>0.000000000                               </td></tr>\n",
       "</tbody>\n",
       "</table>\n"
      ],
      "text/latex": [
       "\\begin{tabular}{r|llllllllllll}\n",
       " filename & MouseID & Treatmentgroup & DPI & organ & well\\_position & plate & mass\\_400 & mass\\_500 & mass\\_600 & mass\\_700 & mass\\_800\\\\\n",
       "\\hline\n",
       "\t X511\\_Group1C\\_142dpi\\_LA\\_161\\_G\\_A1\\_P120.mzXML & 511                                                      & naive                                                    & 142dpi                                                   & LA                                                       & A1                                                       & P120                                                     & 0.002077955                                              & 0.002490702                                              & 0.00e+00                                                 & 0.000232453                                              & 0.000149389                                             \\\\\n",
       "\t X512\\_Group1C\\_142dpi\\_LA\\_162\\_G\\_A2\\_P120.mzXML & 512                                                      & naive                                                    & 142dpi                                                   & LA                                                       & A2                                                       & P120                                                     & 0.001422483                                              & 0.001827962                                              & 2.59e-05                                                 & 0.000955615                                              & 0.000000000                                             \\\\\n",
       "\t X513\\_Group1C\\_142dpi\\_LA\\_163\\_G\\_A3\\_P120.mzXML & 513                                                      & naive                                                    & 142dpi                                                   & LA                                                       & A3                                                       & P120                                                     & 0.000422008                                              & 0.001031656                                              & 4.61e-05                                                 & 0.000000000                                              & 0.000000000                                             \\\\\n",
       "\t X514\\_Group1C\\_142dpi\\_LA\\_164\\_G\\_A4\\_P120.mzXML & 514                                                      & naive                                                    & 142dpi                                                   & LA                                                       & A4                                                       & P120                                                     & 0.001861510                                              & 0.002679198                                              & 1.95e-05                                                 & 0.001053337                                              & 0.000081800                                             \\\\\n",
       "\t X515\\_Group1C\\_142dpi\\_LA\\_165\\_G\\_A5\\_P120.mzXML & 515                                                      & naive                                                    & 142dpi                                                   & LA                                                       & A5                                                       & P120                                                     & 0.001966674                                              & 0.002742174                                              & 2.00e-05                                                 & 0.000639894                                              & 0.000151910                                             \\\\\n",
       "\t X531\\_Group1C\\_142dpi\\_LA\\_166\\_G\\_A6\\_P120.mzXML & 531                                                      & naive                                                    & 142dpi                                                   & LA                                                       & A6                                                       & P120                                                     & 0.001182584                                              & 0.001621899                                              & 3.75e-05                                                 & 0.000000000                                              & 0.000000000                                             \\\\\n",
       "\\end{tabular}\n"
      ],
      "text/markdown": [
       "\n",
       "| filename | MouseID | Treatmentgroup | DPI | organ | well_position | plate | mass_400 | mass_500 | mass_600 | mass_700 | mass_800 |\n",
       "|---|---|---|---|---|---|---|---|---|---|---|---|\n",
       "| X511_Group1C_142dpi_LA_161_G_A1_P120.mzXML | 511                                        | naive                                      | 142dpi                                     | LA                                         | A1                                         | P120                                       | 0.002077955                                | 0.002490702                                | 0.00e+00                                   | 0.000232453                                | 0.000149389                                |\n",
       "| X512_Group1C_142dpi_LA_162_G_A2_P120.mzXML | 512                                        | naive                                      | 142dpi                                     | LA                                         | A2                                         | P120                                       | 0.001422483                                | 0.001827962                                | 2.59e-05                                   | 0.000955615                                | 0.000000000                                |\n",
       "| X513_Group1C_142dpi_LA_163_G_A3_P120.mzXML | 513                                        | naive                                      | 142dpi                                     | LA                                         | A3                                         | P120                                       | 0.000422008                                | 0.001031656                                | 4.61e-05                                   | 0.000000000                                | 0.000000000                                |\n",
       "| X514_Group1C_142dpi_LA_164_G_A4_P120.mzXML | 514                                        | naive                                      | 142dpi                                     | LA                                         | A4                                         | P120                                       | 0.001861510                                | 0.002679198                                | 1.95e-05                                   | 0.001053337                                | 0.000081800                                |\n",
       "| X515_Group1C_142dpi_LA_165_G_A5_P120.mzXML | 515                                        | naive                                      | 142dpi                                     | LA                                         | A5                                         | P120                                       | 0.001966674                                | 0.002742174                                | 2.00e-05                                   | 0.000639894                                | 0.000151910                                |\n",
       "| X531_Group1C_142dpi_LA_166_G_A6_P120.mzXML | 531                                        | naive                                      | 142dpi                                     | LA                                         | A6                                         | P120                                       | 0.001182584                                | 0.001621899                                | 3.75e-05                                   | 0.000000000                                | 0.000000000                                |\n",
       "\n"
      ],
      "text/plain": [
       "  filename                                   MouseID Treatmentgroup DPI   \n",
       "1 X511_Group1C_142dpi_LA_161_G_A1_P120.mzXML 511     naive          142dpi\n",
       "2 X512_Group1C_142dpi_LA_162_G_A2_P120.mzXML 512     naive          142dpi\n",
       "3 X513_Group1C_142dpi_LA_163_G_A3_P120.mzXML 513     naive          142dpi\n",
       "4 X514_Group1C_142dpi_LA_164_G_A4_P120.mzXML 514     naive          142dpi\n",
       "5 X515_Group1C_142dpi_LA_165_G_A5_P120.mzXML 515     naive          142dpi\n",
       "6 X531_Group1C_142dpi_LA_166_G_A6_P120.mzXML 531     naive          142dpi\n",
       "  organ well_position plate mass_400    mass_500    mass_600 mass_700   \n",
       "1 LA    A1            P120  0.002077955 0.002490702 0.00e+00 0.000232453\n",
       "2 LA    A2            P120  0.001422483 0.001827962 2.59e-05 0.000955615\n",
       "3 LA    A3            P120  0.000422008 0.001031656 4.61e-05 0.000000000\n",
       "4 LA    A4            P120  0.001861510 0.002679198 1.95e-05 0.001053337\n",
       "5 LA    A5            P120  0.001966674 0.002742174 2.00e-05 0.000639894\n",
       "6 LA    A6            P120  0.001182584 0.001621899 3.75e-05 0.000000000\n",
       "  mass_800   \n",
       "1 0.000149389\n",
       "2 0.000000000\n",
       "3 0.000000000\n",
       "4 0.000081800\n",
       "5 0.000151910\n",
       "6 0.000000000"
      ]
     },
     "metadata": {},
     "output_type": "display_data"
    },
    {
     "data": {
      "text/html": [
       "<ol class=list-inline>\n",
       "\t<li>60</li>\n",
       "\t<li>12</li>\n",
       "</ol>\n"
      ],
      "text/latex": [
       "\\begin{enumerate*}\n",
       "\\item 60\n",
       "\\item 12\n",
       "\\end{enumerate*}\n"
      ],
      "text/markdown": [
       "1. 60\n",
       "2. 12\n",
       "\n",
       "\n"
      ],
      "text/plain": [
       "[1] 60 12"
      ]
     },
     "metadata": {},
     "output_type": "display_data"
    }
   ],
   "source": [
    "head(a)\n",
    "dim(a)"
   ]
  },
  {
   "cell_type": "code",
   "execution_count": 3,
   "metadata": {},
   "outputs": [
    {
     "data": {
      "text/html": [
       "<table>\n",
       "<thead><tr><th scope=col>filename</th><th scope=col>MouseID</th><th scope=col>Treatmentgroup</th><th scope=col>DPI</th><th scope=col>organ</th><th scope=col>well_position</th><th scope=col>plate</th><th scope=col>mass_400</th><th scope=col>mass_500</th><th scope=col>mass_600</th><th scope=col>mass_700</th><th scope=col>mass_800</th></tr></thead>\n",
       "<tbody>\n",
       "\t<tr><td>X511_Group1C_142dpi_LA_161_G_A1_P120.mzXML</td><td>511                                       </td><td>naive                                     </td><td>142dpi                                    </td><td>LA                                        </td><td>A1                                        </td><td>P120                                      </td><td>0.002077955                               </td><td>0.002490702                               </td><td>0.00e+00                                  </td><td>0.000232453                               </td><td>0.000149389                               </td></tr>\n",
       "\t<tr><td>X512_Group1C_142dpi_LA_162_G_A2_P120.mzXML</td><td>512                                       </td><td>naive                                     </td><td>142dpi                                    </td><td>LA                                        </td><td>A2                                        </td><td>P120                                      </td><td>0.001422483                               </td><td>0.001827962                               </td><td>2.59e-05                                  </td><td>0.000955615                               </td><td>0.000000000                               </td></tr>\n",
       "\t<tr><td>X513_Group1C_142dpi_LA_163_G_A3_P120.mzXML</td><td>513                                       </td><td>naive                                     </td><td>142dpi                                    </td><td>LA                                        </td><td>A3                                        </td><td>P120                                      </td><td>0.000422008                               </td><td>0.001031656                               </td><td>4.61e-05                                  </td><td>0.000000000                               </td><td>0.000000000                               </td></tr>\n",
       "\t<tr><td>X514_Group1C_142dpi_LA_164_G_A4_P120.mzXML</td><td>514                                       </td><td>naive                                     </td><td>142dpi                                    </td><td>LA                                        </td><td>A4                                        </td><td>P120                                      </td><td>0.001861510                               </td><td>0.002679198                               </td><td>1.95e-05                                  </td><td>0.001053337                               </td><td>0.000081800                               </td></tr>\n",
       "\t<tr><td>X515_Group1C_142dpi_LA_165_G_A5_P120.mzXML</td><td>515                                       </td><td>naive                                     </td><td>142dpi                                    </td><td>LA                                        </td><td>A5                                        </td><td>P120                                      </td><td>0.001966674                               </td><td>0.002742174                               </td><td>2.00e-05                                  </td><td>0.000639894                               </td><td>0.000151910                               </td></tr>\n",
       "\t<tr><td>X531_Group1C_142dpi_LA_166_G_A6_P120.mzXML</td><td>531                                       </td><td>naive                                     </td><td>142dpi                                    </td><td>LA                                        </td><td>A6                                        </td><td>P120                                      </td><td>0.001182584                               </td><td>0.001621899                               </td><td>3.75e-05                                  </td><td>0.000000000                               </td><td>0.000000000                               </td></tr>\n",
       "</tbody>\n",
       "</table>\n"
      ],
      "text/latex": [
       "\\begin{tabular}{r|llllllllllll}\n",
       " filename & MouseID & Treatmentgroup & DPI & organ & well\\_position & plate & mass\\_400 & mass\\_500 & mass\\_600 & mass\\_700 & mass\\_800\\\\\n",
       "\\hline\n",
       "\t X511\\_Group1C\\_142dpi\\_LA\\_161\\_G\\_A1\\_P120.mzXML & 511                                                      & naive                                                    & 142dpi                                                   & LA                                                       & A1                                                       & P120                                                     & 0.002077955                                              & 0.002490702                                              & 0.00e+00                                                 & 0.000232453                                              & 0.000149389                                             \\\\\n",
       "\t X512\\_Group1C\\_142dpi\\_LA\\_162\\_G\\_A2\\_P120.mzXML & 512                                                      & naive                                                    & 142dpi                                                   & LA                                                       & A2                                                       & P120                                                     & 0.001422483                                              & 0.001827962                                              & 2.59e-05                                                 & 0.000955615                                              & 0.000000000                                             \\\\\n",
       "\t X513\\_Group1C\\_142dpi\\_LA\\_163\\_G\\_A3\\_P120.mzXML & 513                                                      & naive                                                    & 142dpi                                                   & LA                                                       & A3                                                       & P120                                                     & 0.000422008                                              & 0.001031656                                              & 4.61e-05                                                 & 0.000000000                                              & 0.000000000                                             \\\\\n",
       "\t X514\\_Group1C\\_142dpi\\_LA\\_164\\_G\\_A4\\_P120.mzXML & 514                                                      & naive                                                    & 142dpi                                                   & LA                                                       & A4                                                       & P120                                                     & 0.001861510                                              & 0.002679198                                              & 1.95e-05                                                 & 0.001053337                                              & 0.000081800                                             \\\\\n",
       "\t X515\\_Group1C\\_142dpi\\_LA\\_165\\_G\\_A5\\_P120.mzXML & 515                                                      & naive                                                    & 142dpi                                                   & LA                                                       & A5                                                       & P120                                                     & 0.001966674                                              & 0.002742174                                              & 2.00e-05                                                 & 0.000639894                                              & 0.000151910                                             \\\\\n",
       "\t X531\\_Group1C\\_142dpi\\_LA\\_166\\_G\\_A6\\_P120.mzXML & 531                                                      & naive                                                    & 142dpi                                                   & LA                                                       & A6                                                       & P120                                                     & 0.001182584                                              & 0.001621899                                              & 3.75e-05                                                 & 0.000000000                                              & 0.000000000                                             \\\\\n",
       "\\end{tabular}\n"
      ],
      "text/markdown": [
       "\n",
       "| filename | MouseID | Treatmentgroup | DPI | organ | well_position | plate | mass_400 | mass_500 | mass_600 | mass_700 | mass_800 |\n",
       "|---|---|---|---|---|---|---|---|---|---|---|---|\n",
       "| X511_Group1C_142dpi_LA_161_G_A1_P120.mzXML | 511                                        | naive                                      | 142dpi                                     | LA                                         | A1                                         | P120                                       | 0.002077955                                | 0.002490702                                | 0.00e+00                                   | 0.000232453                                | 0.000149389                                |\n",
       "| X512_Group1C_142dpi_LA_162_G_A2_P120.mzXML | 512                                        | naive                                      | 142dpi                                     | LA                                         | A2                                         | P120                                       | 0.001422483                                | 0.001827962                                | 2.59e-05                                   | 0.000955615                                | 0.000000000                                |\n",
       "| X513_Group1C_142dpi_LA_163_G_A3_P120.mzXML | 513                                        | naive                                      | 142dpi                                     | LA                                         | A3                                         | P120                                       | 0.000422008                                | 0.001031656                                | 4.61e-05                                   | 0.000000000                                | 0.000000000                                |\n",
       "| X514_Group1C_142dpi_LA_164_G_A4_P120.mzXML | 514                                        | naive                                      | 142dpi                                     | LA                                         | A4                                         | P120                                       | 0.001861510                                | 0.002679198                                | 1.95e-05                                   | 0.001053337                                | 0.000081800                                |\n",
       "| X515_Group1C_142dpi_LA_165_G_A5_P120.mzXML | 515                                        | naive                                      | 142dpi                                     | LA                                         | A5                                         | P120                                       | 0.001966674                                | 0.002742174                                | 2.00e-05                                   | 0.000639894                                | 0.000151910                                |\n",
       "| X531_Group1C_142dpi_LA_166_G_A6_P120.mzXML | 531                                        | naive                                      | 142dpi                                     | LA                                         | A6                                         | P120                                       | 0.001182584                                | 0.001621899                                | 3.75e-05                                   | 0.000000000                                | 0.000000000                                |\n",
       "\n"
      ],
      "text/plain": [
       "  filename                                   MouseID Treatmentgroup DPI   \n",
       "1 X511_Group1C_142dpi_LA_161_G_A1_P120.mzXML 511     naive          142dpi\n",
       "2 X512_Group1C_142dpi_LA_162_G_A2_P120.mzXML 512     naive          142dpi\n",
       "3 X513_Group1C_142dpi_LA_163_G_A3_P120.mzXML 513     naive          142dpi\n",
       "4 X514_Group1C_142dpi_LA_164_G_A4_P120.mzXML 514     naive          142dpi\n",
       "5 X515_Group1C_142dpi_LA_165_G_A5_P120.mzXML 515     naive          142dpi\n",
       "6 X531_Group1C_142dpi_LA_166_G_A6_P120.mzXML 531     naive          142dpi\n",
       "  organ well_position plate mass_400    mass_500    mass_600 mass_700   \n",
       "1 LA    A1            P120  0.002077955 0.002490702 0.00e+00 0.000232453\n",
       "2 LA    A2            P120  0.001422483 0.001827962 2.59e-05 0.000955615\n",
       "3 LA    A3            P120  0.000422008 0.001031656 4.61e-05 0.000000000\n",
       "4 LA    A4            P120  0.001861510 0.002679198 1.95e-05 0.001053337\n",
       "5 LA    A5            P120  0.001966674 0.002742174 2.00e-05 0.000639894\n",
       "6 LA    A6            P120  0.001182584 0.001621899 3.75e-05 0.000000000\n",
       "  mass_800   \n",
       "1 0.000149389\n",
       "2 0.000000000\n",
       "3 0.000000000\n",
       "4 0.000081800\n",
       "5 0.000151910\n",
       "6 0.000000000"
      ]
     },
     "metadata": {},
     "output_type": "display_data"
    },
    {
     "data": {
      "text/html": [
       "<ol class=list-inline>\n",
       "\t<li>30</li>\n",
       "\t<li>12</li>\n",
       "</ol>\n"
      ],
      "text/latex": [
       "\\begin{enumerate*}\n",
       "\\item 30\n",
       "\\item 12\n",
       "\\end{enumerate*}\n"
      ],
      "text/markdown": [
       "1. 30\n",
       "2. 12\n",
       "\n",
       "\n"
      ],
      "text/plain": [
       "[1] 30 12"
      ]
     },
     "metadata": {},
     "output_type": "display_data"
    }
   ],
   "source": [
    "features_pos<-droplevels(subset(a, a$Treatmentgroup==c(\"naive\")|a$Treatmentgroup==c(\"BNZ\")))\n",
    "head(features_pos)\n",
    "dim(features_pos)"
   ]
  },
  {
   "cell_type": "code",
   "execution_count": 4,
   "metadata": {
    "scrolled": false
   },
   "outputs": [
    {
     "data": {
      "text/html": [
       "<table>\n",
       "<thead><tr><th scope=col>mass_400</th><th scope=col>mass_500</th><th scope=col>mass_600</th><th scope=col>mass_700</th><th scope=col>mass_800</th></tr></thead>\n",
       "<tbody>\n",
       "\t<tr><td>0.002077955</td><td>0.002490702</td><td>0.00e+00   </td><td>0.000232453</td><td>0.000149389</td></tr>\n",
       "\t<tr><td>0.001422483</td><td>0.001827962</td><td>2.59e-05   </td><td>0.000955615</td><td>0.000000000</td></tr>\n",
       "\t<tr><td>0.000422008</td><td>0.001031656</td><td>4.61e-05   </td><td>0.000000000</td><td>0.000000000</td></tr>\n",
       "\t<tr><td>0.001861510</td><td>0.002679198</td><td>1.95e-05   </td><td>0.001053337</td><td>0.000081800</td></tr>\n",
       "\t<tr><td>0.001966674</td><td>0.002742174</td><td>2.00e-05   </td><td>0.000639894</td><td>0.000151910</td></tr>\n",
       "\t<tr><td>0.001182584</td><td>0.001621899</td><td>3.75e-05   </td><td>0.000000000</td><td>0.000000000</td></tr>\n",
       "</tbody>\n",
       "</table>\n"
      ],
      "text/latex": [
       "\\begin{tabular}{r|lllll}\n",
       " mass\\_400 & mass\\_500 & mass\\_600 & mass\\_700 & mass\\_800\\\\\n",
       "\\hline\n",
       "\t 0.002077955 & 0.002490702 & 0.00e+00    & 0.000232453 & 0.000149389\\\\\n",
       "\t 0.001422483 & 0.001827962 & 2.59e-05    & 0.000955615 & 0.000000000\\\\\n",
       "\t 0.000422008 & 0.001031656 & 4.61e-05    & 0.000000000 & 0.000000000\\\\\n",
       "\t 0.001861510 & 0.002679198 & 1.95e-05    & 0.001053337 & 0.000081800\\\\\n",
       "\t 0.001966674 & 0.002742174 & 2.00e-05    & 0.000639894 & 0.000151910\\\\\n",
       "\t 0.001182584 & 0.001621899 & 3.75e-05    & 0.000000000 & 0.000000000\\\\\n",
       "\\end{tabular}\n"
      ],
      "text/markdown": [
       "\n",
       "| mass_400 | mass_500 | mass_600 | mass_700 | mass_800 |\n",
       "|---|---|---|---|---|\n",
       "| 0.002077955 | 0.002490702 | 0.00e+00    | 0.000232453 | 0.000149389 |\n",
       "| 0.001422483 | 0.001827962 | 2.59e-05    | 0.000955615 | 0.000000000 |\n",
       "| 0.000422008 | 0.001031656 | 4.61e-05    | 0.000000000 | 0.000000000 |\n",
       "| 0.001861510 | 0.002679198 | 1.95e-05    | 0.001053337 | 0.000081800 |\n",
       "| 0.001966674 | 0.002742174 | 2.00e-05    | 0.000639894 | 0.000151910 |\n",
       "| 0.001182584 | 0.001621899 | 3.75e-05    | 0.000000000 | 0.000000000 |\n",
       "\n"
      ],
      "text/plain": [
       "  mass_400    mass_500    mass_600 mass_700    mass_800   \n",
       "1 0.002077955 0.002490702 0.00e+00 0.000232453 0.000149389\n",
       "2 0.001422483 0.001827962 2.59e-05 0.000955615 0.000000000\n",
       "3 0.000422008 0.001031656 4.61e-05 0.000000000 0.000000000\n",
       "4 0.001861510 0.002679198 1.95e-05 0.001053337 0.000081800\n",
       "5 0.001966674 0.002742174 2.00e-05 0.000639894 0.000151910\n",
       "6 0.001182584 0.001621899 3.75e-05 0.000000000 0.000000000"
      ]
     },
     "metadata": {},
     "output_type": "display_data"
    },
    {
     "data": {
      "text/html": [
       "<dl class=dl-horizontal>\n",
       "\t<dt>mass_400</dt>\n",
       "\t\t<dd>1</dd>\n",
       "\t<dt>mass_500</dt>\n",
       "\t\t<dd>2</dd>\n",
       "\t<dt>mass_600</dt>\n",
       "\t\t<dd>3</dd>\n",
       "\t<dt>mass_700</dt>\n",
       "\t\t<dd>4</dd>\n",
       "\t<dt>mass_800</dt>\n",
       "\t\t<dd>5</dd>\n",
       "</dl>\n"
      ],
      "text/latex": [
       "\\begin{description*}\n",
       "\\item[mass\\textbackslash{}\\_400] 1\n",
       "\\item[mass\\textbackslash{}\\_500] 2\n",
       "\\item[mass\\textbackslash{}\\_600] 3\n",
       "\\item[mass\\textbackslash{}\\_700] 4\n",
       "\\item[mass\\textbackslash{}\\_800] 5\n",
       "\\end{description*}\n"
      ],
      "text/markdown": [
       "mass_400\n",
       ":   1mass_500\n",
       ":   2mass_600\n",
       ":   3mass_700\n",
       ":   4mass_800\n",
       ":   5\n",
       "\n"
      ],
      "text/plain": [
       "mass_400 mass_500 mass_600 mass_700 mass_800 \n",
       "       1        2        3        4        5 "
      ]
     },
     "metadata": {},
     "output_type": "display_data"
    },
    {
     "data": {
      "text/html": [
       "<table>\n",
       "<thead><tr><th></th><th scope=col>mass_400</th><th scope=col>mass_500</th><th scope=col>mass_600</th><th scope=col>mass_700</th><th scope=col>mass_800</th></tr></thead>\n",
       "<tbody>\n",
       "\t<tr><th scope=row>1</th><td>0.002077955</td><td>0.002490702</td><td>0.000000000</td><td>0.000232453</td><td>0.000149389</td></tr>\n",
       "\t<tr><th scope=row>2</th><td>0.001422483</td><td>0.001827962</td><td>0.000025900</td><td>0.000955615</td><td>0.000000000</td></tr>\n",
       "\t<tr><th scope=row>3</th><td>0.000422008</td><td>0.001031656</td><td>0.000046100</td><td>0.000000000</td><td>0.000000000</td></tr>\n",
       "\t<tr><th scope=row>4</th><td>0.001861510</td><td>0.002679198</td><td>0.000019500</td><td>0.001053337</td><td>0.000081800</td></tr>\n",
       "\t<tr><th scope=row>5</th><td>0.001966674</td><td>0.002742174</td><td>0.000020000</td><td>0.000639894</td><td>0.000151910</td></tr>\n",
       "\t<tr><th scope=row>6</th><td>0.001182584</td><td>0.001621899</td><td>0.000037500</td><td>0.000000000</td><td>0.000000000</td></tr>\n",
       "\t<tr><th scope=row>7</th><td>0.001504649</td><td>0.001894215</td><td>0.000056600</td><td>0.000106000</td><td>0.000000000</td></tr>\n",
       "\t<tr><th scope=row>8</th><td>0.000233053</td><td>0.000824168</td><td>0.000000000</td><td>0.000000000</td><td>0.000000000</td></tr>\n",
       "\t<tr><th scope=row>9</th><td>0.001368836</td><td>0.002097561</td><td>0.000023100</td><td>0.000500256</td><td>0.000077200</td></tr>\n",
       "\t<tr><th scope=row>10</th><td>0.000696004</td><td>0.002011549</td><td>0.000029500</td><td>0.002329258</td><td>0.000084800</td></tr>\n",
       "\t<tr><th scope=row>11</th><td>0.001927404</td><td>0.003465862</td><td>0.000073500</td><td>0.001539389</td><td>0.000180591</td></tr>\n",
       "\t<tr><th scope=row>12</th><td>0.001847992</td><td>0.003467323</td><td>0.000000000</td><td>0.002499821</td><td>0.000089000</td></tr>\n",
       "\t<tr><th scope=row>13</th><td>0.002746289</td><td>0.004157470</td><td>0.000101723</td><td>0.002059262</td><td>0.000232048</td></tr>\n",
       "\t<tr><th scope=row>14</th><td>0.000427877</td><td>0.001395300</td><td>0.000106390</td><td>0.000836145</td><td>0.000000000</td></tr>\n",
       "\t<tr><th scope=row>15</th><td>0.002605183</td><td>0.002725392</td><td>0.000000000</td><td>0.000988586</td><td>0.000120159</td></tr>\n",
       "\t<tr><th scope=row>26</th><td>0.002346225</td><td>0.003462907</td><td>0.000108091</td><td>0.001227320</td><td>0.000248173</td></tr>\n",
       "\t<tr><th scope=row>27</th><td>0.001375996</td><td>0.001192738</td><td>0.000048400</td><td>0.000000000</td><td>0.000000000</td></tr>\n",
       "\t<tr><th scope=row>28</th><td>0.000180100</td><td>0.000598382</td><td>0.000022800</td><td>0.000083200</td><td>0.000000000</td></tr>\n",
       "\t<tr><th scope=row>29</th><td>0.001592335</td><td>0.001875963</td><td>0.000000000</td><td>0.000205292</td><td>0.000000000</td></tr>\n",
       "\t<tr><th scope=row>30</th><td>0.000590930</td><td>0.001170181</td><td>0.000000000</td><td>0.000141400</td><td>0.000000000</td></tr>\n",
       "\t<tr><th scope=row>41</th><td>0.000591894</td><td>0.001237021</td><td>0.000000000</td><td>0.000000000</td><td>0.000000000</td></tr>\n",
       "\t<tr><th scope=row>42</th><td>0.000628128</td><td>0.001186251</td><td>0.000000000</td><td>0.001090241</td><td>0.000000000</td></tr>\n",
       "\t<tr><th scope=row>43</th><td>0.001364169</td><td>0.002309028</td><td>0.000000000</td><td>0.000973225</td><td>0.000000000</td></tr>\n",
       "\t<tr><th scope=row>44</th><td>0.001896093</td><td>0.002188046</td><td>0.000024200</td><td>0.000718581</td><td>0.000000000</td></tr>\n",
       "\t<tr><th scope=row>45</th><td>0.000867146</td><td>0.001508218</td><td>0.000000000</td><td>0.000000000</td><td>0.000000000</td></tr>\n",
       "\t<tr><th scope=row>56</th><td>0.000921969</td><td>0.001712642</td><td>0.000000000</td><td>0.000825071</td><td>0.000000000</td></tr>\n",
       "\t<tr><th scope=row>57</th><td>0.001670379</td><td>0.002969716</td><td>0.000038600</td><td>0.001922137</td><td>0.000294969</td></tr>\n",
       "\t<tr><th scope=row>58</th><td>0.001139409</td><td>0.002460000</td><td>0.000022700</td><td>0.002328150</td><td>0.000236968</td></tr>\n",
       "\t<tr><th scope=row>59</th><td>0.000204856</td><td>0.001440000</td><td>0.000000000</td><td>0.001500000</td><td>0.000000000</td></tr>\n",
       "\t<tr><th scope=row>60</th><td>0.000933078</td><td>0.001332973</td><td>0.000000000</td><td>0.000323864</td><td>0.000000000</td></tr>\n",
       "</tbody>\n",
       "</table>\n"
      ],
      "text/latex": [
       "\\begin{tabular}{r|lllll}\n",
       "  & mass\\_400 & mass\\_500 & mass\\_600 & mass\\_700 & mass\\_800\\\\\n",
       "\\hline\n",
       "\t1 & 0.002077955 & 0.002490702 & 0.000000000 & 0.000232453 & 0.000149389\\\\\n",
       "\t2 & 0.001422483 & 0.001827962 & 0.000025900 & 0.000955615 & 0.000000000\\\\\n",
       "\t3 & 0.000422008 & 0.001031656 & 0.000046100 & 0.000000000 & 0.000000000\\\\\n",
       "\t4 & 0.001861510 & 0.002679198 & 0.000019500 & 0.001053337 & 0.000081800\\\\\n",
       "\t5 & 0.001966674 & 0.002742174 & 0.000020000 & 0.000639894 & 0.000151910\\\\\n",
       "\t6 & 0.001182584 & 0.001621899 & 0.000037500 & 0.000000000 & 0.000000000\\\\\n",
       "\t7 & 0.001504649 & 0.001894215 & 0.000056600 & 0.000106000 & 0.000000000\\\\\n",
       "\t8 & 0.000233053 & 0.000824168 & 0.000000000 & 0.000000000 & 0.000000000\\\\\n",
       "\t9 & 0.001368836 & 0.002097561 & 0.000023100 & 0.000500256 & 0.000077200\\\\\n",
       "\t10 & 0.000696004 & 0.002011549 & 0.000029500 & 0.002329258 & 0.000084800\\\\\n",
       "\t11 & 0.001927404 & 0.003465862 & 0.000073500 & 0.001539389 & 0.000180591\\\\\n",
       "\t12 & 0.001847992 & 0.003467323 & 0.000000000 & 0.002499821 & 0.000089000\\\\\n",
       "\t13 & 0.002746289 & 0.004157470 & 0.000101723 & 0.002059262 & 0.000232048\\\\\n",
       "\t14 & 0.000427877 & 0.001395300 & 0.000106390 & 0.000836145 & 0.000000000\\\\\n",
       "\t15 & 0.002605183 & 0.002725392 & 0.000000000 & 0.000988586 & 0.000120159\\\\\n",
       "\t26 & 0.002346225 & 0.003462907 & 0.000108091 & 0.001227320 & 0.000248173\\\\\n",
       "\t27 & 0.001375996 & 0.001192738 & 0.000048400 & 0.000000000 & 0.000000000\\\\\n",
       "\t28 & 0.000180100 & 0.000598382 & 0.000022800 & 0.000083200 & 0.000000000\\\\\n",
       "\t29 & 0.001592335 & 0.001875963 & 0.000000000 & 0.000205292 & 0.000000000\\\\\n",
       "\t30 & 0.000590930 & 0.001170181 & 0.000000000 & 0.000141400 & 0.000000000\\\\\n",
       "\t41 & 0.000591894 & 0.001237021 & 0.000000000 & 0.000000000 & 0.000000000\\\\\n",
       "\t42 & 0.000628128 & 0.001186251 & 0.000000000 & 0.001090241 & 0.000000000\\\\\n",
       "\t43 & 0.001364169 & 0.002309028 & 0.000000000 & 0.000973225 & 0.000000000\\\\\n",
       "\t44 & 0.001896093 & 0.002188046 & 0.000024200 & 0.000718581 & 0.000000000\\\\\n",
       "\t45 & 0.000867146 & 0.001508218 & 0.000000000 & 0.000000000 & 0.000000000\\\\\n",
       "\t56 & 0.000921969 & 0.001712642 & 0.000000000 & 0.000825071 & 0.000000000\\\\\n",
       "\t57 & 0.001670379 & 0.002969716 & 0.000038600 & 0.001922137 & 0.000294969\\\\\n",
       "\t58 & 0.001139409 & 0.002460000 & 0.000022700 & 0.002328150 & 0.000236968\\\\\n",
       "\t59 & 0.000204856 & 0.001440000 & 0.000000000 & 0.001500000 & 0.000000000\\\\\n",
       "\t60 & 0.000933078 & 0.001332973 & 0.000000000 & 0.000323864 & 0.000000000\\\\\n",
       "\\end{tabular}\n"
      ],
      "text/markdown": [
       "\n",
       "| <!--/--> | mass_400 | mass_500 | mass_600 | mass_700 | mass_800 |\n",
       "|---|---|---|---|---|---|\n",
       "| 1 | 0.002077955 | 0.002490702 | 0.000000000 | 0.000232453 | 0.000149389 |\n",
       "| 2 | 0.001422483 | 0.001827962 | 0.000025900 | 0.000955615 | 0.000000000 |\n",
       "| 3 | 0.000422008 | 0.001031656 | 0.000046100 | 0.000000000 | 0.000000000 |\n",
       "| 4 | 0.001861510 | 0.002679198 | 0.000019500 | 0.001053337 | 0.000081800 |\n",
       "| 5 | 0.001966674 | 0.002742174 | 0.000020000 | 0.000639894 | 0.000151910 |\n",
       "| 6 | 0.001182584 | 0.001621899 | 0.000037500 | 0.000000000 | 0.000000000 |\n",
       "| 7 | 0.001504649 | 0.001894215 | 0.000056600 | 0.000106000 | 0.000000000 |\n",
       "| 8 | 0.000233053 | 0.000824168 | 0.000000000 | 0.000000000 | 0.000000000 |\n",
       "| 9 | 0.001368836 | 0.002097561 | 0.000023100 | 0.000500256 | 0.000077200 |\n",
       "| 10 | 0.000696004 | 0.002011549 | 0.000029500 | 0.002329258 | 0.000084800 |\n",
       "| 11 | 0.001927404 | 0.003465862 | 0.000073500 | 0.001539389 | 0.000180591 |\n",
       "| 12 | 0.001847992 | 0.003467323 | 0.000000000 | 0.002499821 | 0.000089000 |\n",
       "| 13 | 0.002746289 | 0.004157470 | 0.000101723 | 0.002059262 | 0.000232048 |\n",
       "| 14 | 0.000427877 | 0.001395300 | 0.000106390 | 0.000836145 | 0.000000000 |\n",
       "| 15 | 0.002605183 | 0.002725392 | 0.000000000 | 0.000988586 | 0.000120159 |\n",
       "| 26 | 0.002346225 | 0.003462907 | 0.000108091 | 0.001227320 | 0.000248173 |\n",
       "| 27 | 0.001375996 | 0.001192738 | 0.000048400 | 0.000000000 | 0.000000000 |\n",
       "| 28 | 0.000180100 | 0.000598382 | 0.000022800 | 0.000083200 | 0.000000000 |\n",
       "| 29 | 0.001592335 | 0.001875963 | 0.000000000 | 0.000205292 | 0.000000000 |\n",
       "| 30 | 0.000590930 | 0.001170181 | 0.000000000 | 0.000141400 | 0.000000000 |\n",
       "| 41 | 0.000591894 | 0.001237021 | 0.000000000 | 0.000000000 | 0.000000000 |\n",
       "| 42 | 0.000628128 | 0.001186251 | 0.000000000 | 0.001090241 | 0.000000000 |\n",
       "| 43 | 0.001364169 | 0.002309028 | 0.000000000 | 0.000973225 | 0.000000000 |\n",
       "| 44 | 0.001896093 | 0.002188046 | 0.000024200 | 0.000718581 | 0.000000000 |\n",
       "| 45 | 0.000867146 | 0.001508218 | 0.000000000 | 0.000000000 | 0.000000000 |\n",
       "| 56 | 0.000921969 | 0.001712642 | 0.000000000 | 0.000825071 | 0.000000000 |\n",
       "| 57 | 0.001670379 | 0.002969716 | 0.000038600 | 0.001922137 | 0.000294969 |\n",
       "| 58 | 0.001139409 | 0.002460000 | 0.000022700 | 0.002328150 | 0.000236968 |\n",
       "| 59 | 0.000204856 | 0.001440000 | 0.000000000 | 0.001500000 | 0.000000000 |\n",
       "| 60 | 0.000933078 | 0.001332973 | 0.000000000 | 0.000323864 | 0.000000000 |\n",
       "\n"
      ],
      "text/plain": [
       "   mass_400    mass_500    mass_600    mass_700    mass_800   \n",
       "1  0.002077955 0.002490702 0.000000000 0.000232453 0.000149389\n",
       "2  0.001422483 0.001827962 0.000025900 0.000955615 0.000000000\n",
       "3  0.000422008 0.001031656 0.000046100 0.000000000 0.000000000\n",
       "4  0.001861510 0.002679198 0.000019500 0.001053337 0.000081800\n",
       "5  0.001966674 0.002742174 0.000020000 0.000639894 0.000151910\n",
       "6  0.001182584 0.001621899 0.000037500 0.000000000 0.000000000\n",
       "7  0.001504649 0.001894215 0.000056600 0.000106000 0.000000000\n",
       "8  0.000233053 0.000824168 0.000000000 0.000000000 0.000000000\n",
       "9  0.001368836 0.002097561 0.000023100 0.000500256 0.000077200\n",
       "10 0.000696004 0.002011549 0.000029500 0.002329258 0.000084800\n",
       "11 0.001927404 0.003465862 0.000073500 0.001539389 0.000180591\n",
       "12 0.001847992 0.003467323 0.000000000 0.002499821 0.000089000\n",
       "13 0.002746289 0.004157470 0.000101723 0.002059262 0.000232048\n",
       "14 0.000427877 0.001395300 0.000106390 0.000836145 0.000000000\n",
       "15 0.002605183 0.002725392 0.000000000 0.000988586 0.000120159\n",
       "26 0.002346225 0.003462907 0.000108091 0.001227320 0.000248173\n",
       "27 0.001375996 0.001192738 0.000048400 0.000000000 0.000000000\n",
       "28 0.000180100 0.000598382 0.000022800 0.000083200 0.000000000\n",
       "29 0.001592335 0.001875963 0.000000000 0.000205292 0.000000000\n",
       "30 0.000590930 0.001170181 0.000000000 0.000141400 0.000000000\n",
       "41 0.000591894 0.001237021 0.000000000 0.000000000 0.000000000\n",
       "42 0.000628128 0.001186251 0.000000000 0.001090241 0.000000000\n",
       "43 0.001364169 0.002309028 0.000000000 0.000973225 0.000000000\n",
       "44 0.001896093 0.002188046 0.000024200 0.000718581 0.000000000\n",
       "45 0.000867146 0.001508218 0.000000000 0.000000000 0.000000000\n",
       "56 0.000921969 0.001712642 0.000000000 0.000825071 0.000000000\n",
       "57 0.001670379 0.002969716 0.000038600 0.001922137 0.000294969\n",
       "58 0.001139409 0.002460000 0.000022700 0.002328150 0.000236968\n",
       "59 0.000204856 0.001440000 0.000000000 0.001500000 0.000000000\n",
       "60 0.000933078 0.001332973 0.000000000 0.000323864 0.000000000"
      ]
     },
     "metadata": {},
     "output_type": "display_data"
    },
    {
     "data": {
      "text/html": [
       "<table>\n",
       "<thead><tr><th scope=col>filename</th><th scope=col>MouseID</th><th scope=col>Treatmentgroup</th><th scope=col>DPI</th><th scope=col>organ</th><th scope=col>well_position</th><th scope=col>plate</th><th scope=col>mass_400</th><th scope=col>mass_500</th><th scope=col>mass_600</th><th scope=col>mass_700</th><th scope=col>mass_800</th></tr></thead>\n",
       "<tbody>\n",
       "\t<tr><td>X511_Group1C_142dpi_LA_161_G_A1_P120.mzXML</td><td>511                                       </td><td>naive                                     </td><td>142dpi                                    </td><td>LA                                        </td><td>A1                                        </td><td>P120                                      </td><td>0.002077955                               </td><td>0.002490702                               </td><td>0.00e+00                                  </td><td>0.000232453                               </td><td>0.000149389                               </td></tr>\n",
       "\t<tr><td>X512_Group1C_142dpi_LA_162_G_A2_P120.mzXML</td><td>512                                       </td><td>naive                                     </td><td>142dpi                                    </td><td>LA                                        </td><td>A2                                        </td><td>P120                                      </td><td>0.001422483                               </td><td>0.001827962                               </td><td>2.59e-05                                  </td><td>0.000955615                               </td><td>0.000000000                               </td></tr>\n",
       "\t<tr><td>X513_Group1C_142dpi_LA_163_G_A3_P120.mzXML</td><td>513                                       </td><td>naive                                     </td><td>142dpi                                    </td><td>LA                                        </td><td>A3                                        </td><td>P120                                      </td><td>0.000422008                               </td><td>0.001031656                               </td><td>4.61e-05                                  </td><td>0.000000000                               </td><td>0.000000000                               </td></tr>\n",
       "\t<tr><td>X514_Group1C_142dpi_LA_164_G_A4_P120.mzXML</td><td>514                                       </td><td>naive                                     </td><td>142dpi                                    </td><td>LA                                        </td><td>A4                                        </td><td>P120                                      </td><td>0.001861510                               </td><td>0.002679198                               </td><td>1.95e-05                                  </td><td>0.001053337                               </td><td>0.000081800                               </td></tr>\n",
       "\t<tr><td>X515_Group1C_142dpi_LA_165_G_A5_P120.mzXML</td><td>515                                       </td><td>naive                                     </td><td>142dpi                                    </td><td>LA                                        </td><td>A5                                        </td><td>P120                                      </td><td>0.001966674                               </td><td>0.002742174                               </td><td>2.00e-05                                  </td><td>0.000639894                               </td><td>0.000151910                               </td></tr>\n",
       "\t<tr><td>X531_Group1C_142dpi_LA_166_G_A6_P120.mzXML</td><td>531                                       </td><td>naive                                     </td><td>142dpi                                    </td><td>LA                                        </td><td>A6                                        </td><td>P120                                      </td><td>0.001182584                               </td><td>0.001621899                               </td><td>3.75e-05                                  </td><td>0.000000000                               </td><td>0.000000000                               </td></tr>\n",
       "</tbody>\n",
       "</table>\n"
      ],
      "text/latex": [
       "\\begin{tabular}{r|llllllllllll}\n",
       " filename & MouseID & Treatmentgroup & DPI & organ & well\\_position & plate & mass\\_400 & mass\\_500 & mass\\_600 & mass\\_700 & mass\\_800\\\\\n",
       "\\hline\n",
       "\t X511\\_Group1C\\_142dpi\\_LA\\_161\\_G\\_A1\\_P120.mzXML & 511                                                      & naive                                                    & 142dpi                                                   & LA                                                       & A1                                                       & P120                                                     & 0.002077955                                              & 0.002490702                                              & 0.00e+00                                                 & 0.000232453                                              & 0.000149389                                             \\\\\n",
       "\t X512\\_Group1C\\_142dpi\\_LA\\_162\\_G\\_A2\\_P120.mzXML & 512                                                      & naive                                                    & 142dpi                                                   & LA                                                       & A2                                                       & P120                                                     & 0.001422483                                              & 0.001827962                                              & 2.59e-05                                                 & 0.000955615                                              & 0.000000000                                             \\\\\n",
       "\t X513\\_Group1C\\_142dpi\\_LA\\_163\\_G\\_A3\\_P120.mzXML & 513                                                      & naive                                                    & 142dpi                                                   & LA                                                       & A3                                                       & P120                                                     & 0.000422008                                              & 0.001031656                                              & 4.61e-05                                                 & 0.000000000                                              & 0.000000000                                             \\\\\n",
       "\t X514\\_Group1C\\_142dpi\\_LA\\_164\\_G\\_A4\\_P120.mzXML & 514                                                      & naive                                                    & 142dpi                                                   & LA                                                       & A4                                                       & P120                                                     & 0.001861510                                              & 0.002679198                                              & 1.95e-05                                                 & 0.001053337                                              & 0.000081800                                             \\\\\n",
       "\t X515\\_Group1C\\_142dpi\\_LA\\_165\\_G\\_A5\\_P120.mzXML & 515                                                      & naive                                                    & 142dpi                                                   & LA                                                       & A5                                                       & P120                                                     & 0.001966674                                              & 0.002742174                                              & 2.00e-05                                                 & 0.000639894                                              & 0.000151910                                             \\\\\n",
       "\t X531\\_Group1C\\_142dpi\\_LA\\_166\\_G\\_A6\\_P120.mzXML & 531                                                      & naive                                                    & 142dpi                                                   & LA                                                       & A6                                                       & P120                                                     & 0.001182584                                              & 0.001621899                                              & 3.75e-05                                                 & 0.000000000                                              & 0.000000000                                             \\\\\n",
       "\\end{tabular}\n"
      ],
      "text/markdown": [
       "\n",
       "| filename | MouseID | Treatmentgroup | DPI | organ | well_position | plate | mass_400 | mass_500 | mass_600 | mass_700 | mass_800 |\n",
       "|---|---|---|---|---|---|---|---|---|---|---|---|\n",
       "| X511_Group1C_142dpi_LA_161_G_A1_P120.mzXML | 511                                        | naive                                      | 142dpi                                     | LA                                         | A1                                         | P120                                       | 0.002077955                                | 0.002490702                                | 0.00e+00                                   | 0.000232453                                | 0.000149389                                |\n",
       "| X512_Group1C_142dpi_LA_162_G_A2_P120.mzXML | 512                                        | naive                                      | 142dpi                                     | LA                                         | A2                                         | P120                                       | 0.001422483                                | 0.001827962                                | 2.59e-05                                   | 0.000955615                                | 0.000000000                                |\n",
       "| X513_Group1C_142dpi_LA_163_G_A3_P120.mzXML | 513                                        | naive                                      | 142dpi                                     | LA                                         | A3                                         | P120                                       | 0.000422008                                | 0.001031656                                | 4.61e-05                                   | 0.000000000                                | 0.000000000                                |\n",
       "| X514_Group1C_142dpi_LA_164_G_A4_P120.mzXML | 514                                        | naive                                      | 142dpi                                     | LA                                         | A4                                         | P120                                       | 0.001861510                                | 0.002679198                                | 1.95e-05                                   | 0.001053337                                | 0.000081800                                |\n",
       "| X515_Group1C_142dpi_LA_165_G_A5_P120.mzXML | 515                                        | naive                                      | 142dpi                                     | LA                                         | A5                                         | P120                                       | 0.001966674                                | 0.002742174                                | 2.00e-05                                   | 0.000639894                                | 0.000151910                                |\n",
       "| X531_Group1C_142dpi_LA_166_G_A6_P120.mzXML | 531                                        | naive                                      | 142dpi                                     | LA                                         | A6                                         | P120                                       | 0.001182584                                | 0.001621899                                | 3.75e-05                                   | 0.000000000                                | 0.000000000                                |\n",
       "\n"
      ],
      "text/plain": [
       "  filename                                   MouseID Treatmentgroup DPI   \n",
       "1 X511_Group1C_142dpi_LA_161_G_A1_P120.mzXML 511     naive          142dpi\n",
       "2 X512_Group1C_142dpi_LA_162_G_A2_P120.mzXML 512     naive          142dpi\n",
       "3 X513_Group1C_142dpi_LA_163_G_A3_P120.mzXML 513     naive          142dpi\n",
       "4 X514_Group1C_142dpi_LA_164_G_A4_P120.mzXML 514     naive          142dpi\n",
       "5 X515_Group1C_142dpi_LA_165_G_A5_P120.mzXML 515     naive          142dpi\n",
       "6 X531_Group1C_142dpi_LA_166_G_A6_P120.mzXML 531     naive          142dpi\n",
       "  organ well_position plate mass_400    mass_500    mass_600 mass_700   \n",
       "1 LA    A1            P120  0.002077955 0.002490702 0.00e+00 0.000232453\n",
       "2 LA    A2            P120  0.001422483 0.001827962 2.59e-05 0.000955615\n",
       "3 LA    A3            P120  0.000422008 0.001031656 4.61e-05 0.000000000\n",
       "4 LA    A4            P120  0.001861510 0.002679198 1.95e-05 0.001053337\n",
       "5 LA    A5            P120  0.001966674 0.002742174 2.00e-05 0.000639894\n",
       "6 LA    A6            P120  0.001182584 0.001621899 3.75e-05 0.000000000\n",
       "  mass_800   \n",
       "1 0.000149389\n",
       "2 0.000000000\n",
       "3 0.000000000\n",
       "4 0.000081800\n",
       "5 0.000151910\n",
       "6 0.000000000"
      ]
     },
     "metadata": {},
     "output_type": "display_data"
    },
    {
     "data": {
      "text/html": [
       "<ol class=list-inline>\n",
       "\t<li>30</li>\n",
       "\t<li>12</li>\n",
       "</ol>\n"
      ],
      "text/latex": [
       "\\begin{enumerate*}\n",
       "\\item 30\n",
       "\\item 12\n",
       "\\end{enumerate*}\n"
      ],
      "text/markdown": [
       "1. 30\n",
       "2. 12\n",
       "\n",
       "\n"
      ],
      "text/plain": [
       "[1] 30 12"
      ]
     },
     "metadata": {},
     "output_type": "display_data"
    },
    {
     "data": {
      "text/html": [
       "<ol class=list-inline>\n",
       "\t<li>30</li>\n",
       "\t<li>5</li>\n",
       "</ol>\n"
      ],
      "text/latex": [
       "\\begin{enumerate*}\n",
       "\\item 30\n",
       "\\item 5\n",
       "\\end{enumerate*}\n"
      ],
      "text/markdown": [
       "1. 30\n",
       "2. 5\n",
       "\n",
       "\n"
      ],
      "text/plain": [
       "[1] 30  5"
      ]
     },
     "metadata": {},
     "output_type": "display_data"
    },
    {
     "data": {
      "text/html": [
       "<ol class=list-inline>\n",
       "\t<li>30</li>\n",
       "\t<li>5</li>\n",
       "</ol>\n"
      ],
      "text/latex": [
       "\\begin{enumerate*}\n",
       "\\item 30\n",
       "\\item 5\n",
       "\\end{enumerate*}\n"
      ],
      "text/markdown": [
       "1. 30\n",
       "2. 5\n",
       "\n",
       "\n"
      ],
      "text/plain": [
       "[1] 30  5"
      ]
     },
     "metadata": {},
     "output_type": "display_data"
    },
    {
     "data": {
      "text/html": [
       "<ol class=list-inline>\n",
       "\t<li>30</li>\n",
       "\t<li>12</li>\n",
       "</ol>\n"
      ],
      "text/latex": [
       "\\begin{enumerate*}\n",
       "\\item 30\n",
       "\\item 12\n",
       "\\end{enumerate*}\n"
      ],
      "text/markdown": [
       "1. 30\n",
       "2. 12\n",
       "\n",
       "\n"
      ],
      "text/plain": [
       "[1] 30 12"
      ]
     },
     "metadata": {},
     "output_type": "display_data"
    }
   ],
   "source": [
    "noMeta<-features_pos[,8:12]\n",
    "head(noMeta)\n",
    "not_zero<-which(colSums(noMeta) != 0)\n",
    "head(not_zero)\n",
    "nonzero <- noMeta[, not_zero] \n",
    "nonzero\n",
    "nonzero_wMeta<-cbind(features_pos[,1:7], nonzero)\n",
    "head(nonzero_wMeta)\n",
    "dim(features_pos)\n",
    "dim(noMeta)\n",
    "dim(nonzero)\n",
    "dim(nonzero_wMeta)"
   ]
  },
  {
   "cell_type": "code",
   "execution_count": 5,
   "metadata": {
    "scrolled": true
   },
   "outputs": [
    {
     "name": "stderr",
     "output_type": "stream",
     "text": [
      "Warning message in wilcox.test.default(x = c(0.000108091, 4.84e-05, 2.28e-05, 0, :\n",
      "\"cannot compute exact p-value with ties\"Warning message in wilcox.test.default(x = c(0.00122732, 0, 8.32e-05, 0.000205292, :\n",
      "\"cannot compute exact p-value with ties\"Warning message in wilcox.test.default(x = c(0.000248173, 0, 0, 0, 0, 0, 0, 0, 0, :\n",
      "\"cannot compute exact p-value with ties\""
     ]
    },
    {
     "data": {
      "text/html": [
       "<ol class=list-inline>\n",
       "\t<li>0.126147401015694</li>\n",
       "\t<li>0.106445693561888</li>\n",
       "\t<li>0.0915247243918227</li>\n",
       "\t<li>0.661947999523594</li>\n",
       "\t<li>0.146559908306244</li>\n",
       "</ol>\n"
      ],
      "text/latex": [
       "\\begin{enumerate*}\n",
       "\\item 0.126147401015694\n",
       "\\item 0.106445693561888\n",
       "\\item 0.0915247243918227\n",
       "\\item 0.661947999523594\n",
       "\\item 0.146559908306244\n",
       "\\end{enumerate*}\n"
      ],
      "text/markdown": [
       "1. 0.126147401015694\n",
       "2. 0.106445693561888\n",
       "3. 0.0915247243918227\n",
       "4. 0.661947999523594\n",
       "5. 0.146559908306244\n",
       "\n",
       "\n"
      ],
      "text/plain": [
       "[1] 0.12614740 0.10644569 0.09152472 0.66194800 0.14655991"
      ]
     },
     "metadata": {},
     "output_type": "display_data"
    },
    {
     "data": {
      "text/html": [
       "<ol class=list-inline>\n",
       "\t<li>0.183199885382805</li>\n",
       "\t<li>0.183199885382805</li>\n",
       "\t<li>0.183199885382805</li>\n",
       "\t<li>0.661947999523594</li>\n",
       "\t<li>0.183199885382805</li>\n",
       "</ol>\n"
      ],
      "text/latex": [
       "\\begin{enumerate*}\n",
       "\\item 0.183199885382805\n",
       "\\item 0.183199885382805\n",
       "\\item 0.183199885382805\n",
       "\\item 0.661947999523594\n",
       "\\item 0.183199885382805\n",
       "\\end{enumerate*}\n"
      ],
      "text/markdown": [
       "1. 0.183199885382805\n",
       "2. 0.183199885382805\n",
       "3. 0.183199885382805\n",
       "4. 0.661947999523594\n",
       "5. 0.183199885382805\n",
       "\n",
       "\n"
      ],
      "text/plain": [
       "[1] 0.1831999 0.1831999 0.1831999 0.6619480 0.1831999"
      ]
     },
     "metadata": {},
     "output_type": "display_data"
    }
   ],
   "source": [
    "pval<-c()\n",
    "\n",
    "for (i in 8:ncol(nonzero_wMeta)) \n",
    "pval<-c(pval,wilcox.test(nonzero_wMeta[,i]~nonzero_wMeta$Treatmentgroup)$p.value)\n",
    "head(pval)\n",
    "pAdj <- p.adjust(pval, method = c(\"fdr\"), n=length(pval)) \n",
    "head(pAdj) "
   ]
  },
  {
   "cell_type": "code",
   "execution_count": 6,
   "metadata": {
    "scrolled": true
   },
   "outputs": [
    {
     "data": {
      "text/html": [
       "5"
      ],
      "text/latex": [
       "5"
      ],
      "text/markdown": [
       "5"
      ],
      "text/plain": [
       "[1] 5"
      ]
     },
     "metadata": {},
     "output_type": "display_data"
    }
   ],
   "source": [
    "length(pval)"
   ]
  },
  {
   "cell_type": "code",
   "execution_count": 7,
   "metadata": {
    "scrolled": true
   },
   "outputs": [
    {
     "data": {
      "text/html": [
       "5"
      ],
      "text/latex": [
       "5"
      ],
      "text/markdown": [
       "5"
      ],
      "text/plain": [
       "[1] 5"
      ]
     },
     "metadata": {},
     "output_type": "display_data"
    }
   ],
   "source": [
    "length(pAdj)"
   ]
  },
  {
   "cell_type": "code",
   "execution_count": 8,
   "metadata": {},
   "outputs": [
    {
     "data": {
      "text/html": [
       "<ol class=list-inline>\n",
       "\t<li>2</li>\n",
       "\t<li>5</li>\n",
       "</ol>\n"
      ],
      "text/latex": [
       "\\begin{enumerate*}\n",
       "\\item 2\n",
       "\\item 5\n",
       "\\end{enumerate*}\n"
      ],
      "text/markdown": [
       "1. 2\n",
       "2. 5\n",
       "\n",
       "\n"
      ],
      "text/plain": [
       "[1] 2 5"
      ]
     },
     "metadata": {},
     "output_type": "display_data"
    },
    {
     "data": {
      "text/html": [
       "<table>\n",
       "<thead><tr><th></th><th scope=col>mass_400</th><th scope=col>mass_500</th><th scope=col>mass_600</th></tr></thead>\n",
       "<tbody>\n",
       "\t<tr><th scope=row>BNZ</th><td>0.001086847 </td><td>0.001776271 </td><td>1.765273e-05</td></tr>\n",
       "\t<tr><th scope=row>naive</th><td>0.001486033 </td><td>0.002295495 </td><td>3.598753e-05</td></tr>\n",
       "</tbody>\n",
       "</table>\n"
      ],
      "text/latex": [
       "\\begin{tabular}{r|lll}\n",
       "  & mass\\_400 & mass\\_500 & mass\\_600\\\\\n",
       "\\hline\n",
       "\tBNZ & 0.001086847  & 0.001776271  & 1.765273e-05\\\\\n",
       "\tnaive & 0.001486033  & 0.002295495  & 3.598753e-05\\\\\n",
       "\\end{tabular}\n"
      ],
      "text/markdown": [
       "\n",
       "| <!--/--> | mass_400 | mass_500 | mass_600 |\n",
       "|---|---|---|---|\n",
       "| BNZ | 0.001086847  | 0.001776271  | 1.765273e-05 |\n",
       "| naive | 0.001486033  | 0.002295495  | 3.598753e-05 |\n",
       "\n"
      ],
      "text/plain": [
       "      mass_400    mass_500    mass_600    \n",
       "BNZ   0.001086847 0.001776271 1.765273e-05\n",
       "naive 0.001486033 0.002295495 3.598753e-05"
      ]
     },
     "metadata": {},
     "output_type": "display_data"
    },
    {
     "data": {
      "text/html": [
       "<dl class=dl-horizontal>\n",
       "\t<dt>mass_400</dt>\n",
       "\t\t<dd>0.731374633526631</dd>\n",
       "\t<dt>mass_500</dt>\n",
       "\t\t<dd>0.773807286508466</dd>\n",
       "\t<dt>mass_600</dt>\n",
       "\t\t<dd>0.49052357019931</dd>\n",
       "\t<dt>mass_700</dt>\n",
       "\t\t<dd>0.825215996837267</dd>\n",
       "\t<dt>mass_800</dt>\n",
       "\t\t<dd>0.668533726627115</dd>\n",
       "</dl>\n"
      ],
      "text/latex": [
       "\\begin{description*}\n",
       "\\item[mass\\textbackslash{}\\_400] 0.731374633526631\n",
       "\\item[mass\\textbackslash{}\\_500] 0.773807286508466\n",
       "\\item[mass\\textbackslash{}\\_600] 0.49052357019931\n",
       "\\item[mass\\textbackslash{}\\_700] 0.825215996837267\n",
       "\\item[mass\\textbackslash{}\\_800] 0.668533726627115\n",
       "\\end{description*}\n"
      ],
      "text/markdown": [
       "mass_400\n",
       ":   0.731374633526631mass_500\n",
       ":   0.773807286508466mass_600\n",
       ":   0.49052357019931mass_700\n",
       ":   0.825215996837267mass_800\n",
       ":   0.668533726627115\n",
       "\n"
      ],
      "text/plain": [
       " mass_400  mass_500  mass_600  mass_700  mass_800 \n",
       "0.7313746 0.7738073 0.4905236 0.8252160 0.6685337 "
      ]
     },
     "metadata": {},
     "output_type": "display_data"
    },
    {
     "data": {
      "text/html": [
       "<ol class=list-inline>\n",
       "\t<li>'numeric'</li>\n",
       "\t<li>'vector'</li>\n",
       "</ol>\n"
      ],
      "text/latex": [
       "\\begin{enumerate*}\n",
       "\\item 'numeric'\n",
       "\\item 'vector'\n",
       "\\end{enumerate*}\n"
      ],
      "text/markdown": [
       "1. 'numeric'\n",
       "2. 'vector'\n",
       "\n",
       "\n"
      ],
      "text/plain": [
       "[1] \"numeric\" \"vector\" "
      ]
     },
     "metadata": {},
     "output_type": "display_data"
    }
   ],
   "source": [
    "avg<- apply(nonzero_wMeta[,8:ncol(nonzero_wMeta)], 2, function(x) tapply(x, nonzero_wMeta$Treatmentgroup, function(x) mean(x))) \n",
    "\n",
    "dim(avg)\n",
    "\n",
    "avg[,1:3]\n",
    "\n",
    "fch <- apply(avg, 2, function(x) x[1]/x[2]) \n",
    "\n",
    "head(fch)\n",
    "is(fch)"
   ]
  },
  {
   "cell_type": "code",
   "execution_count": 9,
   "metadata": {
    "scrolled": true
   },
   "outputs": [
    {
     "data": {
      "text/html": [
       "<dl class=dl-horizontal>\n",
       "\t<dt>mass_400</dt>\n",
       "\t\t<dd>0.731374633526631</dd>\n",
       "\t<dt>mass_500</dt>\n",
       "\t\t<dd>0.773807286508466</dd>\n",
       "\t<dt>mass_600</dt>\n",
       "\t\t<dd>0.49052357019931</dd>\n",
       "\t<dt>mass_700</dt>\n",
       "\t\t<dd>0.825215996837267</dd>\n",
       "\t<dt>mass_800</dt>\n",
       "\t\t<dd>0.668533726627115</dd>\n",
       "</dl>\n"
      ],
      "text/latex": [
       "\\begin{description*}\n",
       "\\item[mass\\textbackslash{}\\_400] 0.731374633526631\n",
       "\\item[mass\\textbackslash{}\\_500] 0.773807286508466\n",
       "\\item[mass\\textbackslash{}\\_600] 0.49052357019931\n",
       "\\item[mass\\textbackslash{}\\_700] 0.825215996837267\n",
       "\\item[mass\\textbackslash{}\\_800] 0.668533726627115\n",
       "\\end{description*}\n"
      ],
      "text/markdown": [
       "mass_400\n",
       ":   0.731374633526631mass_500\n",
       ":   0.773807286508466mass_600\n",
       ":   0.49052357019931mass_700\n",
       ":   0.825215996837267mass_800\n",
       ":   0.668533726627115\n",
       "\n"
      ],
      "text/plain": [
       " mass_400  mass_500  mass_600  mass_700  mass_800 \n",
       "0.7313746 0.7738073 0.4905236 0.8252160 0.6685337 "
      ]
     },
     "metadata": {},
     "output_type": "display_data"
    }
   ],
   "source": [
    "fch"
   ]
  },
  {
   "cell_type": "code",
   "execution_count": 10,
   "metadata": {
    "scrolled": false
   },
   "outputs": [],
   "source": [
    "df <- data.frame(fch,pval, pAdj)\n",
    "write.csv(df, \"PE-treat-LA-wilcox-naive-BNZ.csv\")"
   ]
  },
  {
   "cell_type": "code",
   "execution_count": null,
   "metadata": {},
   "outputs": [],
   "source": []
  },
  {
   "cell_type": "code",
   "execution_count": null,
   "metadata": {},
   "outputs": [],
   "source": []
  },
  {
   "cell_type": "code",
   "execution_count": null,
   "metadata": {},
   "outputs": [],
   "source": []
  },
  {
   "cell_type": "code",
   "execution_count": null,
   "metadata": {},
   "outputs": [],
   "source": []
  },
  {
   "cell_type": "code",
   "execution_count": null,
   "metadata": {},
   "outputs": [],
   "source": []
  },
  {
   "cell_type": "code",
   "execution_count": null,
   "metadata": {},
   "outputs": [],
   "source": []
  }
 ],
 "metadata": {
  "kernelspec": {
   "display_name": "R",
   "language": "R",
   "name": "ir"
  },
  "language_info": {
   "codemirror_mode": "r",
   "file_extension": ".r",
   "mimetype": "text/x-r-source",
   "name": "R",
   "pygments_lexer": "r",
   "version": "3.6.1"
  }
 },
 "nbformat": 4,
 "nbformat_minor": 2
}
