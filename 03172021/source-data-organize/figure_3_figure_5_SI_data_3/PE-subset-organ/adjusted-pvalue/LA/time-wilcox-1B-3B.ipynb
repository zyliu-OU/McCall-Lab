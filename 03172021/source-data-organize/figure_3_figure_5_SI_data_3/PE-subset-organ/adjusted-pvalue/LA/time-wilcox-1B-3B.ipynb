{
 "cells": [
  {
   "cell_type": "code",
   "execution_count": 1,
   "metadata": {},
   "outputs": [],
   "source": [
    "a <- read.csv(\"03172021-PE-time-LA-M-F.csv\")"
   ]
  },
  {
   "cell_type": "code",
   "execution_count": 2,
   "metadata": {},
   "outputs": [
    {
     "data": {
      "text/html": [
       "<table>\n",
       "<thead><tr><th scope=col>filename</th><th scope=col>MouseID</th><th scope=col>Treatmentgroup</th><th scope=col>status</th><th scope=col>DPI</th><th scope=col>organ</th><th scope=col>well_position</th><th scope=col>plate</th><th scope=col>mass_400</th><th scope=col>mass_500</th><th scope=col>mass_600</th><th scope=col>mass_700</th><th scope=col>mass_800</th></tr></thead>\n",
       "<tbody>\n",
       "\t<tr><td>X501_Group1A_50dpi_LA_251_B_A1_P121.mzXML</td><td>501                                      </td><td>Group1A                                  </td><td>naive                                    </td><td>50dpi                                    </td><td>LA                                       </td><td>A1                                       </td><td>P121                                     </td><td>0.004329022                              </td><td>0.007620000                              </td><td>0.000045400                              </td><td>0.006026924                              </td><td>0.000145139                              </td></tr>\n",
       "\t<tr><td>X502_Group1A_50dpi_LA_252_B_A2_P121.mzXML</td><td>502                                      </td><td>Group1A                                  </td><td>naive                                    </td><td>50dpi                                    </td><td>LA                                       </td><td>A2                                       </td><td>P121                                     </td><td>0.004129671                              </td><td>0.007778374                              </td><td>0.000312508                              </td><td>0.008177560                              </td><td>0.000861575                              </td></tr>\n",
       "\t<tr><td>X503_Group1A_50dpi_LA_253_B_A3_P121.mzXML</td><td>503                                      </td><td>Group1A                                  </td><td>naive                                    </td><td>50dpi                                    </td><td>LA                                       </td><td>A3                                       </td><td>P121                                     </td><td>0.002857480                              </td><td>0.009480000                              </td><td>0.000177773                              </td><td>0.010588891                              </td><td>0.000596837                              </td></tr>\n",
       "\t<tr><td>X504_Group1A_50dpi_LA_254_B_A4_P121.mzXML</td><td>504                                      </td><td>Group1A                                  </td><td>naive                                    </td><td>50dpi                                    </td><td>LA                                       </td><td>A4                                       </td><td>P121                                     </td><td>0.001465009                              </td><td>0.005300000                              </td><td>0.000251431                              </td><td>0.014642428                              </td><td>0.000700246                              </td></tr>\n",
       "\t<tr><td>X505_Group1A_50dpi_LA_255_B_A5_P121.mzXML</td><td>505                                      </td><td>Group1A                                  </td><td>naive                                    </td><td>50dpi                                    </td><td>LA                                       </td><td>A5                                       </td><td>P121                                     </td><td>0.003791592                              </td><td>0.009620000                              </td><td>0.000487519                              </td><td>0.001993340                              </td><td>0.000125690                              </td></tr>\n",
       "\t<tr><td>X521_Group1A_50dpi_LA_256_B_A6_P121.mzXML</td><td>521                                      </td><td>Group1A                                  </td><td>naive                                    </td><td>50dpi                                    </td><td>LA                                       </td><td>A6                                       </td><td>P121                                     </td><td>0.003461733                              </td><td>0.007410000                              </td><td>0.000142605                              </td><td>0.009728104                              </td><td>0.000715742                              </td></tr>\n",
       "</tbody>\n",
       "</table>\n"
      ],
      "text/latex": [
       "\\begin{tabular}{r|lllllllllllll}\n",
       " filename & MouseID & Treatmentgroup & status & DPI & organ & well\\_position & plate & mass\\_400 & mass\\_500 & mass\\_600 & mass\\_700 & mass\\_800\\\\\n",
       "\\hline\n",
       "\t X501\\_Group1A\\_50dpi\\_LA\\_251\\_B\\_A1\\_P121.mzXML & 501                                                     & Group1A                                                 & naive                                                   & 50dpi                                                   & LA                                                      & A1                                                      & P121                                                    & 0.004329022                                             & 0.007620000                                             & 0.000045400                                             & 0.006026924                                             & 0.000145139                                            \\\\\n",
       "\t X502\\_Group1A\\_50dpi\\_LA\\_252\\_B\\_A2\\_P121.mzXML & 502                                                     & Group1A                                                 & naive                                                   & 50dpi                                                   & LA                                                      & A2                                                      & P121                                                    & 0.004129671                                             & 0.007778374                                             & 0.000312508                                             & 0.008177560                                             & 0.000861575                                            \\\\\n",
       "\t X503\\_Group1A\\_50dpi\\_LA\\_253\\_B\\_A3\\_P121.mzXML & 503                                                     & Group1A                                                 & naive                                                   & 50dpi                                                   & LA                                                      & A3                                                      & P121                                                    & 0.002857480                                             & 0.009480000                                             & 0.000177773                                             & 0.010588891                                             & 0.000596837                                            \\\\\n",
       "\t X504\\_Group1A\\_50dpi\\_LA\\_254\\_B\\_A4\\_P121.mzXML & 504                                                     & Group1A                                                 & naive                                                   & 50dpi                                                   & LA                                                      & A4                                                      & P121                                                    & 0.001465009                                             & 0.005300000                                             & 0.000251431                                             & 0.014642428                                             & 0.000700246                                            \\\\\n",
       "\t X505\\_Group1A\\_50dpi\\_LA\\_255\\_B\\_A5\\_P121.mzXML & 505                                                     & Group1A                                                 & naive                                                   & 50dpi                                                   & LA                                                      & A5                                                      & P121                                                    & 0.003791592                                             & 0.009620000                                             & 0.000487519                                             & 0.001993340                                             & 0.000125690                                            \\\\\n",
       "\t X521\\_Group1A\\_50dpi\\_LA\\_256\\_B\\_A6\\_P121.mzXML & 521                                                     & Group1A                                                 & naive                                                   & 50dpi                                                   & LA                                                      & A6                                                      & P121                                                    & 0.003461733                                             & 0.007410000                                             & 0.000142605                                             & 0.009728104                                             & 0.000715742                                            \\\\\n",
       "\\end{tabular}\n"
      ],
      "text/markdown": [
       "\n",
       "| filename | MouseID | Treatmentgroup | status | DPI | organ | well_position | plate | mass_400 | mass_500 | mass_600 | mass_700 | mass_800 |\n",
       "|---|---|---|---|---|---|---|---|---|---|---|---|---|\n",
       "| X501_Group1A_50dpi_LA_251_B_A1_P121.mzXML | 501                                       | Group1A                                   | naive                                     | 50dpi                                     | LA                                        | A1                                        | P121                                      | 0.004329022                               | 0.007620000                               | 0.000045400                               | 0.006026924                               | 0.000145139                               |\n",
       "| X502_Group1A_50dpi_LA_252_B_A2_P121.mzXML | 502                                       | Group1A                                   | naive                                     | 50dpi                                     | LA                                        | A2                                        | P121                                      | 0.004129671                               | 0.007778374                               | 0.000312508                               | 0.008177560                               | 0.000861575                               |\n",
       "| X503_Group1A_50dpi_LA_253_B_A3_P121.mzXML | 503                                       | Group1A                                   | naive                                     | 50dpi                                     | LA                                        | A3                                        | P121                                      | 0.002857480                               | 0.009480000                               | 0.000177773                               | 0.010588891                               | 0.000596837                               |\n",
       "| X504_Group1A_50dpi_LA_254_B_A4_P121.mzXML | 504                                       | Group1A                                   | naive                                     | 50dpi                                     | LA                                        | A4                                        | P121                                      | 0.001465009                               | 0.005300000                               | 0.000251431                               | 0.014642428                               | 0.000700246                               |\n",
       "| X505_Group1A_50dpi_LA_255_B_A5_P121.mzXML | 505                                       | Group1A                                   | naive                                     | 50dpi                                     | LA                                        | A5                                        | P121                                      | 0.003791592                               | 0.009620000                               | 0.000487519                               | 0.001993340                               | 0.000125690                               |\n",
       "| X521_Group1A_50dpi_LA_256_B_A6_P121.mzXML | 521                                       | Group1A                                   | naive                                     | 50dpi                                     | LA                                        | A6                                        | P121                                      | 0.003461733                               | 0.007410000                               | 0.000142605                               | 0.009728104                               | 0.000715742                               |\n",
       "\n"
      ],
      "text/plain": [
       "  filename                                  MouseID Treatmentgroup status DPI  \n",
       "1 X501_Group1A_50dpi_LA_251_B_A1_P121.mzXML 501     Group1A        naive  50dpi\n",
       "2 X502_Group1A_50dpi_LA_252_B_A2_P121.mzXML 502     Group1A        naive  50dpi\n",
       "3 X503_Group1A_50dpi_LA_253_B_A3_P121.mzXML 503     Group1A        naive  50dpi\n",
       "4 X504_Group1A_50dpi_LA_254_B_A4_P121.mzXML 504     Group1A        naive  50dpi\n",
       "5 X505_Group1A_50dpi_LA_255_B_A5_P121.mzXML 505     Group1A        naive  50dpi\n",
       "6 X521_Group1A_50dpi_LA_256_B_A6_P121.mzXML 521     Group1A        naive  50dpi\n",
       "  organ well_position plate mass_400    mass_500    mass_600    mass_700   \n",
       "1 LA    A1            P121  0.004329022 0.007620000 0.000045400 0.006026924\n",
       "2 LA    A2            P121  0.004129671 0.007778374 0.000312508 0.008177560\n",
       "3 LA    A3            P121  0.002857480 0.009480000 0.000177773 0.010588891\n",
       "4 LA    A4            P121  0.001465009 0.005300000 0.000251431 0.014642428\n",
       "5 LA    A5            P121  0.003791592 0.009620000 0.000487519 0.001993340\n",
       "6 LA    A6            P121  0.003461733 0.007410000 0.000142605 0.009728104\n",
       "  mass_800   \n",
       "1 0.000145139\n",
       "2 0.000861575\n",
       "3 0.000596837\n",
       "4 0.000700246\n",
       "5 0.000125690\n",
       "6 0.000715742"
      ]
     },
     "metadata": {},
     "output_type": "display_data"
    },
    {
     "data": {
      "text/html": [
       "<ol class=list-inline>\n",
       "\t<li>90</li>\n",
       "\t<li>13</li>\n",
       "</ol>\n"
      ],
      "text/latex": [
       "\\begin{enumerate*}\n",
       "\\item 90\n",
       "\\item 13\n",
       "\\end{enumerate*}\n"
      ],
      "text/markdown": [
       "1. 90\n",
       "2. 13\n",
       "\n",
       "\n"
      ],
      "text/plain": [
       "[1] 90 13"
      ]
     },
     "metadata": {},
     "output_type": "display_data"
    }
   ],
   "source": [
    "head(a)\n",
    "dim(a)"
   ]
  },
  {
   "cell_type": "code",
   "execution_count": 3,
   "metadata": {},
   "outputs": [
    {
     "data": {
      "text/html": [
       "<table>\n",
       "<thead><tr><th></th><th scope=col>filename</th><th scope=col>MouseID</th><th scope=col>Treatmentgroup</th><th scope=col>status</th><th scope=col>DPI</th><th scope=col>organ</th><th scope=col>well_position</th><th scope=col>plate</th><th scope=col>mass_400</th><th scope=col>mass_500</th><th scope=col>mass_600</th><th scope=col>mass_700</th><th scope=col>mass_800</th></tr></thead>\n",
       "<tbody>\n",
       "\t<tr><th scope=row>16</th><td>X506_Group1B_70dpi_LA_281_B_C7_P121.mzXML </td><td>506                                       </td><td>Group1B                                   </td><td>naive                                     </td><td>70dpi                                     </td><td>LA                                        </td><td>C7                                        </td><td>P121                                      </td><td>0.002189330                               </td><td>0.012088528                               </td><td>0.000000000                               </td><td>0.017248829                               </td><td>0.000289101                               </td></tr>\n",
       "\t<tr><th scope=row>17</th><td>X507_Group1B_70dpi_LA_282_B_C8_P121.mzXML </td><td>507                                       </td><td>Group1B                                   </td><td>naive                                     </td><td>70dpi                                     </td><td>LA                                        </td><td>C8                                        </td><td>P121                                      </td><td>0.002309082                               </td><td>0.007170160                               </td><td>0.000198742                               </td><td>0.002241806                               </td><td>0.000370428                               </td></tr>\n",
       "\t<tr><th scope=row>18</th><td>X508_Group1B_70dpi_LA_283_B_C9_P121.mzXML </td><td>508                                       </td><td>Group1B                                   </td><td>naive                                     </td><td>70dpi                                     </td><td>LA                                        </td><td>C9                                        </td><td>P121                                      </td><td>0.002559756                               </td><td>0.004880000                               </td><td>0.000000000                               </td><td>0.000137450                               </td><td>0.000000000                               </td></tr>\n",
       "\t<tr><th scope=row>19</th><td>X509_Group1B_70dpi_LA_284_B_C10_P121.mzXML</td><td>509                                       </td><td>Group1B                                   </td><td>naive                                     </td><td>70dpi                                     </td><td>LA                                        </td><td>C10                                       </td><td>P121                                      </td><td>0.005345325                               </td><td>0.010400000                               </td><td>0.000228916                               </td><td>0.024739055                               </td><td>0.001641423                               </td></tr>\n",
       "\t<tr><th scope=row>20</th><td>X510_Group1B_70dpi_LA_285_B_C11_P121.mzXML</td><td>510                                       </td><td>Group1B                                   </td><td>naive                                     </td><td>70dpi                                     </td><td>LA                                        </td><td>C11                                       </td><td>P121                                      </td><td>0.002532088                               </td><td>0.004776248                               </td><td>0.000140990                               </td><td>0.002565503                               </td><td>0.000000000                               </td></tr>\n",
       "\t<tr><th scope=row>21</th><td>X526_Group1B_70dpi_LA_286_B_C12_P121.mzXML</td><td>526                                       </td><td>Group1B                                   </td><td>naive                                     </td><td>70dpi                                     </td><td>LA                                        </td><td>C12                                       </td><td>P121                                      </td><td>0.003978928                               </td><td>0.010700000                               </td><td>0.000083800                               </td><td>0.002037804                               </td><td>0.000161675                               </td></tr>\n",
       "</tbody>\n",
       "</table>\n"
      ],
      "text/latex": [
       "\\begin{tabular}{r|lllllllllllll}\n",
       "  & filename & MouseID & Treatmentgroup & status & DPI & organ & well\\_position & plate & mass\\_400 & mass\\_500 & mass\\_600 & mass\\_700 & mass\\_800\\\\\n",
       "\\hline\n",
       "\t16 & X506\\_Group1B\\_70dpi\\_LA\\_281\\_B\\_C7\\_P121.mzXML  & 506                                                      & Group1B                                                  & naive                                                    & 70dpi                                                    & LA                                                       & C7                                                       & P121                                                     & 0.002189330                                              & 0.012088528                                              & 0.000000000                                              & 0.017248829                                              & 0.000289101                                             \\\\\n",
       "\t17 & X507\\_Group1B\\_70dpi\\_LA\\_282\\_B\\_C8\\_P121.mzXML  & 507                                                      & Group1B                                                  & naive                                                    & 70dpi                                                    & LA                                                       & C8                                                       & P121                                                     & 0.002309082                                              & 0.007170160                                              & 0.000198742                                              & 0.002241806                                              & 0.000370428                                             \\\\\n",
       "\t18 & X508\\_Group1B\\_70dpi\\_LA\\_283\\_B\\_C9\\_P121.mzXML  & 508                                                      & Group1B                                                  & naive                                                    & 70dpi                                                    & LA                                                       & C9                                                       & P121                                                     & 0.002559756                                              & 0.004880000                                              & 0.000000000                                              & 0.000137450                                              & 0.000000000                                             \\\\\n",
       "\t19 & X509\\_Group1B\\_70dpi\\_LA\\_284\\_B\\_C10\\_P121.mzXML & 509                                                      & Group1B                                                  & naive                                                    & 70dpi                                                    & LA                                                       & C10                                                      & P121                                                     & 0.005345325                                              & 0.010400000                                              & 0.000228916                                              & 0.024739055                                              & 0.001641423                                             \\\\\n",
       "\t20 & X510\\_Group1B\\_70dpi\\_LA\\_285\\_B\\_C11\\_P121.mzXML & 510                                                      & Group1B                                                  & naive                                                    & 70dpi                                                    & LA                                                       & C11                                                      & P121                                                     & 0.002532088                                              & 0.004776248                                              & 0.000140990                                              & 0.002565503                                              & 0.000000000                                             \\\\\n",
       "\t21 & X526\\_Group1B\\_70dpi\\_LA\\_286\\_B\\_C12\\_P121.mzXML & 526                                                      & Group1B                                                  & naive                                                    & 70dpi                                                    & LA                                                       & C12                                                      & P121                                                     & 0.003978928                                              & 0.010700000                                              & 0.000083800                                              & 0.002037804                                              & 0.000161675                                             \\\\\n",
       "\\end{tabular}\n"
      ],
      "text/markdown": [
       "\n",
       "| <!--/--> | filename | MouseID | Treatmentgroup | status | DPI | organ | well_position | plate | mass_400 | mass_500 | mass_600 | mass_700 | mass_800 |\n",
       "|---|---|---|---|---|---|---|---|---|---|---|---|---|---|\n",
       "| 16 | X506_Group1B_70dpi_LA_281_B_C7_P121.mzXML  | 506                                        | Group1B                                    | naive                                      | 70dpi                                      | LA                                         | C7                                         | P121                                       | 0.002189330                                | 0.012088528                                | 0.000000000                                | 0.017248829                                | 0.000289101                                |\n",
       "| 17 | X507_Group1B_70dpi_LA_282_B_C8_P121.mzXML  | 507                                        | Group1B                                    | naive                                      | 70dpi                                      | LA                                         | C8                                         | P121                                       | 0.002309082                                | 0.007170160                                | 0.000198742                                | 0.002241806                                | 0.000370428                                |\n",
       "| 18 | X508_Group1B_70dpi_LA_283_B_C9_P121.mzXML  | 508                                        | Group1B                                    | naive                                      | 70dpi                                      | LA                                         | C9                                         | P121                                       | 0.002559756                                | 0.004880000                                | 0.000000000                                | 0.000137450                                | 0.000000000                                |\n",
       "| 19 | X509_Group1B_70dpi_LA_284_B_C10_P121.mzXML | 509                                        | Group1B                                    | naive                                      | 70dpi                                      | LA                                         | C10                                        | P121                                       | 0.005345325                                | 0.010400000                                | 0.000228916                                | 0.024739055                                | 0.001641423                                |\n",
       "| 20 | X510_Group1B_70dpi_LA_285_B_C11_P121.mzXML | 510                                        | Group1B                                    | naive                                      | 70dpi                                      | LA                                         | C11                                        | P121                                       | 0.002532088                                | 0.004776248                                | 0.000140990                                | 0.002565503                                | 0.000000000                                |\n",
       "| 21 | X526_Group1B_70dpi_LA_286_B_C12_P121.mzXML | 526                                        | Group1B                                    | naive                                      | 70dpi                                      | LA                                         | C12                                        | P121                                       | 0.003978928                                | 0.010700000                                | 0.000083800                                | 0.002037804                                | 0.000161675                                |\n",
       "\n"
      ],
      "text/plain": [
       "   filename                                   MouseID Treatmentgroup status\n",
       "16 X506_Group1B_70dpi_LA_281_B_C7_P121.mzXML  506     Group1B        naive \n",
       "17 X507_Group1B_70dpi_LA_282_B_C8_P121.mzXML  507     Group1B        naive \n",
       "18 X508_Group1B_70dpi_LA_283_B_C9_P121.mzXML  508     Group1B        naive \n",
       "19 X509_Group1B_70dpi_LA_284_B_C10_P121.mzXML 509     Group1B        naive \n",
       "20 X510_Group1B_70dpi_LA_285_B_C11_P121.mzXML 510     Group1B        naive \n",
       "21 X526_Group1B_70dpi_LA_286_B_C12_P121.mzXML 526     Group1B        naive \n",
       "   DPI   organ well_position plate mass_400    mass_500    mass_600   \n",
       "16 70dpi LA    C7            P121  0.002189330 0.012088528 0.000000000\n",
       "17 70dpi LA    C8            P121  0.002309082 0.007170160 0.000198742\n",
       "18 70dpi LA    C9            P121  0.002559756 0.004880000 0.000000000\n",
       "19 70dpi LA    C10           P121  0.005345325 0.010400000 0.000228916\n",
       "20 70dpi LA    C11           P121  0.002532088 0.004776248 0.000140990\n",
       "21 70dpi LA    C12           P121  0.003978928 0.010700000 0.000083800\n",
       "   mass_700    mass_800   \n",
       "16 0.017248829 0.000289101\n",
       "17 0.002241806 0.000370428\n",
       "18 0.000137450 0.000000000\n",
       "19 0.024739055 0.001641423\n",
       "20 0.002565503 0.000000000\n",
       "21 0.002037804 0.000161675"
      ]
     },
     "metadata": {},
     "output_type": "display_data"
    },
    {
     "data": {
      "text/html": [
       "<ol class=list-inline>\n",
       "\t<li>30</li>\n",
       "\t<li>13</li>\n",
       "</ol>\n"
      ],
      "text/latex": [
       "\\begin{enumerate*}\n",
       "\\item 30\n",
       "\\item 13\n",
       "\\end{enumerate*}\n"
      ],
      "text/markdown": [
       "1. 30\n",
       "2. 13\n",
       "\n",
       "\n"
      ],
      "text/plain": [
       "[1] 30 13"
      ]
     },
     "metadata": {},
     "output_type": "display_data"
    }
   ],
   "source": [
    "features_pos<-droplevels(subset(a, a$Treatmentgroup==c(\"Group1B\")|a$Treatmentgroup==c(\"Group3B\")))\n",
    "head(features_pos)\n",
    "dim(features_pos)"
   ]
  },
  {
   "cell_type": "code",
   "execution_count": 4,
   "metadata": {
    "scrolled": false
   },
   "outputs": [
    {
     "data": {
      "text/html": [
       "<table>\n",
       "<thead><tr><th></th><th scope=col>mass_400</th><th scope=col>mass_500</th><th scope=col>mass_600</th><th scope=col>mass_700</th><th scope=col>mass_800</th></tr></thead>\n",
       "<tbody>\n",
       "\t<tr><th scope=row>16</th><td>0.002189330</td><td>0.012088528</td><td>0.000000000</td><td>0.017248829</td><td>0.000289101</td></tr>\n",
       "\t<tr><th scope=row>17</th><td>0.002309082</td><td>0.007170160</td><td>0.000198742</td><td>0.002241806</td><td>0.000370428</td></tr>\n",
       "\t<tr><th scope=row>18</th><td>0.002559756</td><td>0.004880000</td><td>0.000000000</td><td>0.000137450</td><td>0.000000000</td></tr>\n",
       "\t<tr><th scope=row>19</th><td>0.005345325</td><td>0.010400000</td><td>0.000228916</td><td>0.024739055</td><td>0.001641423</td></tr>\n",
       "\t<tr><th scope=row>20</th><td>0.002532088</td><td>0.004776248</td><td>0.000140990</td><td>0.002565503</td><td>0.000000000</td></tr>\n",
       "\t<tr><th scope=row>21</th><td>0.003978928</td><td>0.010700000</td><td>0.000083800</td><td>0.002037804</td><td>0.000161675</td></tr>\n",
       "</tbody>\n",
       "</table>\n"
      ],
      "text/latex": [
       "\\begin{tabular}{r|lllll}\n",
       "  & mass\\_400 & mass\\_500 & mass\\_600 & mass\\_700 & mass\\_800\\\\\n",
       "\\hline\n",
       "\t16 & 0.002189330 & 0.012088528 & 0.000000000 & 0.017248829 & 0.000289101\\\\\n",
       "\t17 & 0.002309082 & 0.007170160 & 0.000198742 & 0.002241806 & 0.000370428\\\\\n",
       "\t18 & 0.002559756 & 0.004880000 & 0.000000000 & 0.000137450 & 0.000000000\\\\\n",
       "\t19 & 0.005345325 & 0.010400000 & 0.000228916 & 0.024739055 & 0.001641423\\\\\n",
       "\t20 & 0.002532088 & 0.004776248 & 0.000140990 & 0.002565503 & 0.000000000\\\\\n",
       "\t21 & 0.003978928 & 0.010700000 & 0.000083800 & 0.002037804 & 0.000161675\\\\\n",
       "\\end{tabular}\n"
      ],
      "text/markdown": [
       "\n",
       "| <!--/--> | mass_400 | mass_500 | mass_600 | mass_700 | mass_800 |\n",
       "|---|---|---|---|---|---|\n",
       "| 16 | 0.002189330 | 0.012088528 | 0.000000000 | 0.017248829 | 0.000289101 |\n",
       "| 17 | 0.002309082 | 0.007170160 | 0.000198742 | 0.002241806 | 0.000370428 |\n",
       "| 18 | 0.002559756 | 0.004880000 | 0.000000000 | 0.000137450 | 0.000000000 |\n",
       "| 19 | 0.005345325 | 0.010400000 | 0.000228916 | 0.024739055 | 0.001641423 |\n",
       "| 20 | 0.002532088 | 0.004776248 | 0.000140990 | 0.002565503 | 0.000000000 |\n",
       "| 21 | 0.003978928 | 0.010700000 | 0.000083800 | 0.002037804 | 0.000161675 |\n",
       "\n"
      ],
      "text/plain": [
       "   mass_400    mass_500    mass_600    mass_700    mass_800   \n",
       "16 0.002189330 0.012088528 0.000000000 0.017248829 0.000289101\n",
       "17 0.002309082 0.007170160 0.000198742 0.002241806 0.000370428\n",
       "18 0.002559756 0.004880000 0.000000000 0.000137450 0.000000000\n",
       "19 0.005345325 0.010400000 0.000228916 0.024739055 0.001641423\n",
       "20 0.002532088 0.004776248 0.000140990 0.002565503 0.000000000\n",
       "21 0.003978928 0.010700000 0.000083800 0.002037804 0.000161675"
      ]
     },
     "metadata": {},
     "output_type": "display_data"
    },
    {
     "data": {
      "text/html": [
       "<dl class=dl-horizontal>\n",
       "\t<dt>mass_400</dt>\n",
       "\t\t<dd>1</dd>\n",
       "\t<dt>mass_500</dt>\n",
       "\t\t<dd>2</dd>\n",
       "\t<dt>mass_600</dt>\n",
       "\t\t<dd>3</dd>\n",
       "\t<dt>mass_700</dt>\n",
       "\t\t<dd>4</dd>\n",
       "\t<dt>mass_800</dt>\n",
       "\t\t<dd>5</dd>\n",
       "</dl>\n"
      ],
      "text/latex": [
       "\\begin{description*}\n",
       "\\item[mass\\textbackslash{}\\_400] 1\n",
       "\\item[mass\\textbackslash{}\\_500] 2\n",
       "\\item[mass\\textbackslash{}\\_600] 3\n",
       "\\item[mass\\textbackslash{}\\_700] 4\n",
       "\\item[mass\\textbackslash{}\\_800] 5\n",
       "\\end{description*}\n"
      ],
      "text/markdown": [
       "mass_400\n",
       ":   1mass_500\n",
       ":   2mass_600\n",
       ":   3mass_700\n",
       ":   4mass_800\n",
       ":   5\n",
       "\n"
      ],
      "text/plain": [
       "mass_400 mass_500 mass_600 mass_700 mass_800 \n",
       "       1        2        3        4        5 "
      ]
     },
     "metadata": {},
     "output_type": "display_data"
    },
    {
     "data": {
      "text/html": [
       "<table>\n",
       "<thead><tr><th></th><th scope=col>mass_400</th><th scope=col>mass_500</th><th scope=col>mass_600</th><th scope=col>mass_700</th><th scope=col>mass_800</th></tr></thead>\n",
       "<tbody>\n",
       "\t<tr><th scope=row>16</th><td>0.002189330</td><td>0.012088528</td><td>0.000000000</td><td>0.017248829</td><td>0.000289101</td></tr>\n",
       "\t<tr><th scope=row>17</th><td>0.002309082</td><td>0.007170160</td><td>0.000198742</td><td>0.002241806</td><td>0.000370428</td></tr>\n",
       "\t<tr><th scope=row>18</th><td>0.002559756</td><td>0.004880000</td><td>0.000000000</td><td>0.000137450</td><td>0.000000000</td></tr>\n",
       "\t<tr><th scope=row>19</th><td>0.005345325</td><td>0.010400000</td><td>0.000228916</td><td>0.024739055</td><td>0.001641423</td></tr>\n",
       "\t<tr><th scope=row>20</th><td>0.002532088</td><td>0.004776248</td><td>0.000140990</td><td>0.002565503</td><td>0.000000000</td></tr>\n",
       "\t<tr><th scope=row>21</th><td>0.003978928</td><td>0.010700000</td><td>0.000083800</td><td>0.002037804</td><td>0.000161675</td></tr>\n",
       "\t<tr><th scope=row>22</th><td>0.002197484</td><td>0.009382154</td><td>0.000000000</td><td>0.017624308</td><td>0.000470245</td></tr>\n",
       "\t<tr><th scope=row>23</th><td>0.004784239</td><td>0.009520000</td><td>0.000233869</td><td>0.011466378</td><td>0.001119887</td></tr>\n",
       "\t<tr><th scope=row>24</th><td>0.002327503</td><td>0.008079056</td><td>0.000269615</td><td>0.017514708</td><td>0.000112580</td></tr>\n",
       "\t<tr><th scope=row>25</th><td>0.003596053</td><td>0.007600000</td><td>0.000245014</td><td>0.004886481</td><td>0.000182184</td></tr>\n",
       "\t<tr><th scope=row>26</th><td>0.000447366</td><td>0.001296671</td><td>0.000030800</td><td>0.000043500</td><td>0.000000000</td></tr>\n",
       "\t<tr><th scope=row>27</th><td>0.002718565</td><td>0.009182224</td><td>0.000178890</td><td>0.009290751</td><td>0.000289945</td></tr>\n",
       "\t<tr><th scope=row>28</th><td>0.000000000</td><td>0.000000000</td><td>0.000000000</td><td>0.000000000</td><td>0.000000000</td></tr>\n",
       "\t<tr><th scope=row>29</th><td>0.002620708</td><td>0.008350000</td><td>0.000176700</td><td>0.005347300</td><td>0.000151167</td></tr>\n",
       "\t<tr><th scope=row>30</th><td>0.001980170</td><td>0.007430000</td><td>0.000196737</td><td>0.010592467</td><td>0.000509434</td></tr>\n",
       "\t<tr><th scope=row>61</th><td>0.005428440</td><td>0.011825860</td><td>0.000131316</td><td>0.006745505</td><td>0.000129786</td></tr>\n",
       "\t<tr><th scope=row>62</th><td>0.004868684</td><td>0.009060870</td><td>0.000250969</td><td>0.018868901</td><td>0.000378857</td></tr>\n",
       "\t<tr><th scope=row>63</th><td>0.002744809</td><td>0.007780000</td><td>0.000000000</td><td>0.005764089</td><td>0.000195715</td></tr>\n",
       "\t<tr><th scope=row>64</th><td>0.003678059</td><td>0.009370000</td><td>0.000144200</td><td>0.009903026</td><td>0.000374568</td></tr>\n",
       "\t<tr><th scope=row>65</th><td>0.008264834</td><td>0.010855926</td><td>0.000209129</td><td>0.021918407</td><td>0.000358847</td></tr>\n",
       "\t<tr><th scope=row>66</th><td>0.005034214</td><td>0.003380000</td><td>0.000108658</td><td>0.004746610</td><td>0.000027500</td></tr>\n",
       "\t<tr><th scope=row>67</th><td>0.003405706</td><td>0.010038750</td><td>0.000177422</td><td>0.000973656</td><td>0.000000000</td></tr>\n",
       "\t<tr><th scope=row>68</th><td>0.003487418</td><td>0.010200000</td><td>0.000273034</td><td>0.000194000</td><td>0.000000000</td></tr>\n",
       "\t<tr><th scope=row>69</th><td>0.014027449</td><td>0.011775015</td><td>0.000371666</td><td>0.000999904</td><td>0.000000000</td></tr>\n",
       "\t<tr><th scope=row>70</th><td>0.004097146</td><td>0.012369274</td><td>0.001165209</td><td>0.000195367</td><td>0.000000000</td></tr>\n",
       "\t<tr><th scope=row>71</th><td>0.006256336</td><td>0.007450000</td><td>0.000000000</td><td>0.000730975</td><td>0.000000000</td></tr>\n",
       "\t<tr><th scope=row>72</th><td>0.002656572</td><td>0.004290000</td><td>0.000222006</td><td>0.005932194</td><td>0.000646613</td></tr>\n",
       "\t<tr><th scope=row>73</th><td>0.003692315</td><td>0.004720000</td><td>0.000455413</td><td>0.006447782</td><td>0.000000000</td></tr>\n",
       "\t<tr><th scope=row>74</th><td>0.006533937</td><td>0.008260000</td><td>0.000000000</td><td>0.008754219</td><td>0.000107600</td></tr>\n",
       "\t<tr><th scope=row>75</th><td>0.001987805</td><td>0.002620000</td><td>0.000030400</td><td>0.002081751</td><td>0.000000000</td></tr>\n",
       "</tbody>\n",
       "</table>\n"
      ],
      "text/latex": [
       "\\begin{tabular}{r|lllll}\n",
       "  & mass\\_400 & mass\\_500 & mass\\_600 & mass\\_700 & mass\\_800\\\\\n",
       "\\hline\n",
       "\t16 & 0.002189330 & 0.012088528 & 0.000000000 & 0.017248829 & 0.000289101\\\\\n",
       "\t17 & 0.002309082 & 0.007170160 & 0.000198742 & 0.002241806 & 0.000370428\\\\\n",
       "\t18 & 0.002559756 & 0.004880000 & 0.000000000 & 0.000137450 & 0.000000000\\\\\n",
       "\t19 & 0.005345325 & 0.010400000 & 0.000228916 & 0.024739055 & 0.001641423\\\\\n",
       "\t20 & 0.002532088 & 0.004776248 & 0.000140990 & 0.002565503 & 0.000000000\\\\\n",
       "\t21 & 0.003978928 & 0.010700000 & 0.000083800 & 0.002037804 & 0.000161675\\\\\n",
       "\t22 & 0.002197484 & 0.009382154 & 0.000000000 & 0.017624308 & 0.000470245\\\\\n",
       "\t23 & 0.004784239 & 0.009520000 & 0.000233869 & 0.011466378 & 0.001119887\\\\\n",
       "\t24 & 0.002327503 & 0.008079056 & 0.000269615 & 0.017514708 & 0.000112580\\\\\n",
       "\t25 & 0.003596053 & 0.007600000 & 0.000245014 & 0.004886481 & 0.000182184\\\\\n",
       "\t26 & 0.000447366 & 0.001296671 & 0.000030800 & 0.000043500 & 0.000000000\\\\\n",
       "\t27 & 0.002718565 & 0.009182224 & 0.000178890 & 0.009290751 & 0.000289945\\\\\n",
       "\t28 & 0.000000000 & 0.000000000 & 0.000000000 & 0.000000000 & 0.000000000\\\\\n",
       "\t29 & 0.002620708 & 0.008350000 & 0.000176700 & 0.005347300 & 0.000151167\\\\\n",
       "\t30 & 0.001980170 & 0.007430000 & 0.000196737 & 0.010592467 & 0.000509434\\\\\n",
       "\t61 & 0.005428440 & 0.011825860 & 0.000131316 & 0.006745505 & 0.000129786\\\\\n",
       "\t62 & 0.004868684 & 0.009060870 & 0.000250969 & 0.018868901 & 0.000378857\\\\\n",
       "\t63 & 0.002744809 & 0.007780000 & 0.000000000 & 0.005764089 & 0.000195715\\\\\n",
       "\t64 & 0.003678059 & 0.009370000 & 0.000144200 & 0.009903026 & 0.000374568\\\\\n",
       "\t65 & 0.008264834 & 0.010855926 & 0.000209129 & 0.021918407 & 0.000358847\\\\\n",
       "\t66 & 0.005034214 & 0.003380000 & 0.000108658 & 0.004746610 & 0.000027500\\\\\n",
       "\t67 & 0.003405706 & 0.010038750 & 0.000177422 & 0.000973656 & 0.000000000\\\\\n",
       "\t68 & 0.003487418 & 0.010200000 & 0.000273034 & 0.000194000 & 0.000000000\\\\\n",
       "\t69 & 0.014027449 & 0.011775015 & 0.000371666 & 0.000999904 & 0.000000000\\\\\n",
       "\t70 & 0.004097146 & 0.012369274 & 0.001165209 & 0.000195367 & 0.000000000\\\\\n",
       "\t71 & 0.006256336 & 0.007450000 & 0.000000000 & 0.000730975 & 0.000000000\\\\\n",
       "\t72 & 0.002656572 & 0.004290000 & 0.000222006 & 0.005932194 & 0.000646613\\\\\n",
       "\t73 & 0.003692315 & 0.004720000 & 0.000455413 & 0.006447782 & 0.000000000\\\\\n",
       "\t74 & 0.006533937 & 0.008260000 & 0.000000000 & 0.008754219 & 0.000107600\\\\\n",
       "\t75 & 0.001987805 & 0.002620000 & 0.000030400 & 0.002081751 & 0.000000000\\\\\n",
       "\\end{tabular}\n"
      ],
      "text/markdown": [
       "\n",
       "| <!--/--> | mass_400 | mass_500 | mass_600 | mass_700 | mass_800 |\n",
       "|---|---|---|---|---|---|\n",
       "| 16 | 0.002189330 | 0.012088528 | 0.000000000 | 0.017248829 | 0.000289101 |\n",
       "| 17 | 0.002309082 | 0.007170160 | 0.000198742 | 0.002241806 | 0.000370428 |\n",
       "| 18 | 0.002559756 | 0.004880000 | 0.000000000 | 0.000137450 | 0.000000000 |\n",
       "| 19 | 0.005345325 | 0.010400000 | 0.000228916 | 0.024739055 | 0.001641423 |\n",
       "| 20 | 0.002532088 | 0.004776248 | 0.000140990 | 0.002565503 | 0.000000000 |\n",
       "| 21 | 0.003978928 | 0.010700000 | 0.000083800 | 0.002037804 | 0.000161675 |\n",
       "| 22 | 0.002197484 | 0.009382154 | 0.000000000 | 0.017624308 | 0.000470245 |\n",
       "| 23 | 0.004784239 | 0.009520000 | 0.000233869 | 0.011466378 | 0.001119887 |\n",
       "| 24 | 0.002327503 | 0.008079056 | 0.000269615 | 0.017514708 | 0.000112580 |\n",
       "| 25 | 0.003596053 | 0.007600000 | 0.000245014 | 0.004886481 | 0.000182184 |\n",
       "| 26 | 0.000447366 | 0.001296671 | 0.000030800 | 0.000043500 | 0.000000000 |\n",
       "| 27 | 0.002718565 | 0.009182224 | 0.000178890 | 0.009290751 | 0.000289945 |\n",
       "| 28 | 0.000000000 | 0.000000000 | 0.000000000 | 0.000000000 | 0.000000000 |\n",
       "| 29 | 0.002620708 | 0.008350000 | 0.000176700 | 0.005347300 | 0.000151167 |\n",
       "| 30 | 0.001980170 | 0.007430000 | 0.000196737 | 0.010592467 | 0.000509434 |\n",
       "| 61 | 0.005428440 | 0.011825860 | 0.000131316 | 0.006745505 | 0.000129786 |\n",
       "| 62 | 0.004868684 | 0.009060870 | 0.000250969 | 0.018868901 | 0.000378857 |\n",
       "| 63 | 0.002744809 | 0.007780000 | 0.000000000 | 0.005764089 | 0.000195715 |\n",
       "| 64 | 0.003678059 | 0.009370000 | 0.000144200 | 0.009903026 | 0.000374568 |\n",
       "| 65 | 0.008264834 | 0.010855926 | 0.000209129 | 0.021918407 | 0.000358847 |\n",
       "| 66 | 0.005034214 | 0.003380000 | 0.000108658 | 0.004746610 | 0.000027500 |\n",
       "| 67 | 0.003405706 | 0.010038750 | 0.000177422 | 0.000973656 | 0.000000000 |\n",
       "| 68 | 0.003487418 | 0.010200000 | 0.000273034 | 0.000194000 | 0.000000000 |\n",
       "| 69 | 0.014027449 | 0.011775015 | 0.000371666 | 0.000999904 | 0.000000000 |\n",
       "| 70 | 0.004097146 | 0.012369274 | 0.001165209 | 0.000195367 | 0.000000000 |\n",
       "| 71 | 0.006256336 | 0.007450000 | 0.000000000 | 0.000730975 | 0.000000000 |\n",
       "| 72 | 0.002656572 | 0.004290000 | 0.000222006 | 0.005932194 | 0.000646613 |\n",
       "| 73 | 0.003692315 | 0.004720000 | 0.000455413 | 0.006447782 | 0.000000000 |\n",
       "| 74 | 0.006533937 | 0.008260000 | 0.000000000 | 0.008754219 | 0.000107600 |\n",
       "| 75 | 0.001987805 | 0.002620000 | 0.000030400 | 0.002081751 | 0.000000000 |\n",
       "\n"
      ],
      "text/plain": [
       "   mass_400    mass_500    mass_600    mass_700    mass_800   \n",
       "16 0.002189330 0.012088528 0.000000000 0.017248829 0.000289101\n",
       "17 0.002309082 0.007170160 0.000198742 0.002241806 0.000370428\n",
       "18 0.002559756 0.004880000 0.000000000 0.000137450 0.000000000\n",
       "19 0.005345325 0.010400000 0.000228916 0.024739055 0.001641423\n",
       "20 0.002532088 0.004776248 0.000140990 0.002565503 0.000000000\n",
       "21 0.003978928 0.010700000 0.000083800 0.002037804 0.000161675\n",
       "22 0.002197484 0.009382154 0.000000000 0.017624308 0.000470245\n",
       "23 0.004784239 0.009520000 0.000233869 0.011466378 0.001119887\n",
       "24 0.002327503 0.008079056 0.000269615 0.017514708 0.000112580\n",
       "25 0.003596053 0.007600000 0.000245014 0.004886481 0.000182184\n",
       "26 0.000447366 0.001296671 0.000030800 0.000043500 0.000000000\n",
       "27 0.002718565 0.009182224 0.000178890 0.009290751 0.000289945\n",
       "28 0.000000000 0.000000000 0.000000000 0.000000000 0.000000000\n",
       "29 0.002620708 0.008350000 0.000176700 0.005347300 0.000151167\n",
       "30 0.001980170 0.007430000 0.000196737 0.010592467 0.000509434\n",
       "61 0.005428440 0.011825860 0.000131316 0.006745505 0.000129786\n",
       "62 0.004868684 0.009060870 0.000250969 0.018868901 0.000378857\n",
       "63 0.002744809 0.007780000 0.000000000 0.005764089 0.000195715\n",
       "64 0.003678059 0.009370000 0.000144200 0.009903026 0.000374568\n",
       "65 0.008264834 0.010855926 0.000209129 0.021918407 0.000358847\n",
       "66 0.005034214 0.003380000 0.000108658 0.004746610 0.000027500\n",
       "67 0.003405706 0.010038750 0.000177422 0.000973656 0.000000000\n",
       "68 0.003487418 0.010200000 0.000273034 0.000194000 0.000000000\n",
       "69 0.014027449 0.011775015 0.000371666 0.000999904 0.000000000\n",
       "70 0.004097146 0.012369274 0.001165209 0.000195367 0.000000000\n",
       "71 0.006256336 0.007450000 0.000000000 0.000730975 0.000000000\n",
       "72 0.002656572 0.004290000 0.000222006 0.005932194 0.000646613\n",
       "73 0.003692315 0.004720000 0.000455413 0.006447782 0.000000000\n",
       "74 0.006533937 0.008260000 0.000000000 0.008754219 0.000107600\n",
       "75 0.001987805 0.002620000 0.000030400 0.002081751 0.000000000"
      ]
     },
     "metadata": {},
     "output_type": "display_data"
    },
    {
     "data": {
      "text/html": [
       "<table>\n",
       "<thead><tr><th></th><th scope=col>filename</th><th scope=col>MouseID</th><th scope=col>Treatmentgroup</th><th scope=col>status</th><th scope=col>DPI</th><th scope=col>organ</th><th scope=col>well_position</th><th scope=col>plate</th><th scope=col>mass_400</th><th scope=col>mass_500</th><th scope=col>mass_600</th><th scope=col>mass_700</th><th scope=col>mass_800</th></tr></thead>\n",
       "<tbody>\n",
       "\t<tr><th scope=row>16</th><td>X506_Group1B_70dpi_LA_281_B_C7_P121.mzXML </td><td>506                                       </td><td>Group1B                                   </td><td>naive                                     </td><td>70dpi                                     </td><td>LA                                        </td><td>C7                                        </td><td>P121                                      </td><td>0.002189330                               </td><td>0.012088528                               </td><td>0.000000000                               </td><td>0.017248829                               </td><td>0.000289101                               </td></tr>\n",
       "\t<tr><th scope=row>17</th><td>X507_Group1B_70dpi_LA_282_B_C8_P121.mzXML </td><td>507                                       </td><td>Group1B                                   </td><td>naive                                     </td><td>70dpi                                     </td><td>LA                                        </td><td>C8                                        </td><td>P121                                      </td><td>0.002309082                               </td><td>0.007170160                               </td><td>0.000198742                               </td><td>0.002241806                               </td><td>0.000370428                               </td></tr>\n",
       "\t<tr><th scope=row>18</th><td>X508_Group1B_70dpi_LA_283_B_C9_P121.mzXML </td><td>508                                       </td><td>Group1B                                   </td><td>naive                                     </td><td>70dpi                                     </td><td>LA                                        </td><td>C9                                        </td><td>P121                                      </td><td>0.002559756                               </td><td>0.004880000                               </td><td>0.000000000                               </td><td>0.000137450                               </td><td>0.000000000                               </td></tr>\n",
       "\t<tr><th scope=row>19</th><td>X509_Group1B_70dpi_LA_284_B_C10_P121.mzXML</td><td>509                                       </td><td>Group1B                                   </td><td>naive                                     </td><td>70dpi                                     </td><td>LA                                        </td><td>C10                                       </td><td>P121                                      </td><td>0.005345325                               </td><td>0.010400000                               </td><td>0.000228916                               </td><td>0.024739055                               </td><td>0.001641423                               </td></tr>\n",
       "\t<tr><th scope=row>20</th><td>X510_Group1B_70dpi_LA_285_B_C11_P121.mzXML</td><td>510                                       </td><td>Group1B                                   </td><td>naive                                     </td><td>70dpi                                     </td><td>LA                                        </td><td>C11                                       </td><td>P121                                      </td><td>0.002532088                               </td><td>0.004776248                               </td><td>0.000140990                               </td><td>0.002565503                               </td><td>0.000000000                               </td></tr>\n",
       "\t<tr><th scope=row>21</th><td>X526_Group1B_70dpi_LA_286_B_C12_P121.mzXML</td><td>526                                       </td><td>Group1B                                   </td><td>naive                                     </td><td>70dpi                                     </td><td>LA                                        </td><td>C12                                       </td><td>P121                                      </td><td>0.003978928                               </td><td>0.010700000                               </td><td>0.000083800                               </td><td>0.002037804                               </td><td>0.000161675                               </td></tr>\n",
       "</tbody>\n",
       "</table>\n"
      ],
      "text/latex": [
       "\\begin{tabular}{r|lllllllllllll}\n",
       "  & filename & MouseID & Treatmentgroup & status & DPI & organ & well\\_position & plate & mass\\_400 & mass\\_500 & mass\\_600 & mass\\_700 & mass\\_800\\\\\n",
       "\\hline\n",
       "\t16 & X506\\_Group1B\\_70dpi\\_LA\\_281\\_B\\_C7\\_P121.mzXML  & 506                                                      & Group1B                                                  & naive                                                    & 70dpi                                                    & LA                                                       & C7                                                       & P121                                                     & 0.002189330                                              & 0.012088528                                              & 0.000000000                                              & 0.017248829                                              & 0.000289101                                             \\\\\n",
       "\t17 & X507\\_Group1B\\_70dpi\\_LA\\_282\\_B\\_C8\\_P121.mzXML  & 507                                                      & Group1B                                                  & naive                                                    & 70dpi                                                    & LA                                                       & C8                                                       & P121                                                     & 0.002309082                                              & 0.007170160                                              & 0.000198742                                              & 0.002241806                                              & 0.000370428                                             \\\\\n",
       "\t18 & X508\\_Group1B\\_70dpi\\_LA\\_283\\_B\\_C9\\_P121.mzXML  & 508                                                      & Group1B                                                  & naive                                                    & 70dpi                                                    & LA                                                       & C9                                                       & P121                                                     & 0.002559756                                              & 0.004880000                                              & 0.000000000                                              & 0.000137450                                              & 0.000000000                                             \\\\\n",
       "\t19 & X509\\_Group1B\\_70dpi\\_LA\\_284\\_B\\_C10\\_P121.mzXML & 509                                                      & Group1B                                                  & naive                                                    & 70dpi                                                    & LA                                                       & C10                                                      & P121                                                     & 0.005345325                                              & 0.010400000                                              & 0.000228916                                              & 0.024739055                                              & 0.001641423                                             \\\\\n",
       "\t20 & X510\\_Group1B\\_70dpi\\_LA\\_285\\_B\\_C11\\_P121.mzXML & 510                                                      & Group1B                                                  & naive                                                    & 70dpi                                                    & LA                                                       & C11                                                      & P121                                                     & 0.002532088                                              & 0.004776248                                              & 0.000140990                                              & 0.002565503                                              & 0.000000000                                             \\\\\n",
       "\t21 & X526\\_Group1B\\_70dpi\\_LA\\_286\\_B\\_C12\\_P121.mzXML & 526                                                      & Group1B                                                  & naive                                                    & 70dpi                                                    & LA                                                       & C12                                                      & P121                                                     & 0.003978928                                              & 0.010700000                                              & 0.000083800                                              & 0.002037804                                              & 0.000161675                                             \\\\\n",
       "\\end{tabular}\n"
      ],
      "text/markdown": [
       "\n",
       "| <!--/--> | filename | MouseID | Treatmentgroup | status | DPI | organ | well_position | plate | mass_400 | mass_500 | mass_600 | mass_700 | mass_800 |\n",
       "|---|---|---|---|---|---|---|---|---|---|---|---|---|---|\n",
       "| 16 | X506_Group1B_70dpi_LA_281_B_C7_P121.mzXML  | 506                                        | Group1B                                    | naive                                      | 70dpi                                      | LA                                         | C7                                         | P121                                       | 0.002189330                                | 0.012088528                                | 0.000000000                                | 0.017248829                                | 0.000289101                                |\n",
       "| 17 | X507_Group1B_70dpi_LA_282_B_C8_P121.mzXML  | 507                                        | Group1B                                    | naive                                      | 70dpi                                      | LA                                         | C8                                         | P121                                       | 0.002309082                                | 0.007170160                                | 0.000198742                                | 0.002241806                                | 0.000370428                                |\n",
       "| 18 | X508_Group1B_70dpi_LA_283_B_C9_P121.mzXML  | 508                                        | Group1B                                    | naive                                      | 70dpi                                      | LA                                         | C9                                         | P121                                       | 0.002559756                                | 0.004880000                                | 0.000000000                                | 0.000137450                                | 0.000000000                                |\n",
       "| 19 | X509_Group1B_70dpi_LA_284_B_C10_P121.mzXML | 509                                        | Group1B                                    | naive                                      | 70dpi                                      | LA                                         | C10                                        | P121                                       | 0.005345325                                | 0.010400000                                | 0.000228916                                | 0.024739055                                | 0.001641423                                |\n",
       "| 20 | X510_Group1B_70dpi_LA_285_B_C11_P121.mzXML | 510                                        | Group1B                                    | naive                                      | 70dpi                                      | LA                                         | C11                                        | P121                                       | 0.002532088                                | 0.004776248                                | 0.000140990                                | 0.002565503                                | 0.000000000                                |\n",
       "| 21 | X526_Group1B_70dpi_LA_286_B_C12_P121.mzXML | 526                                        | Group1B                                    | naive                                      | 70dpi                                      | LA                                         | C12                                        | P121                                       | 0.003978928                                | 0.010700000                                | 0.000083800                                | 0.002037804                                | 0.000161675                                |\n",
       "\n"
      ],
      "text/plain": [
       "   filename                                   MouseID Treatmentgroup status\n",
       "16 X506_Group1B_70dpi_LA_281_B_C7_P121.mzXML  506     Group1B        naive \n",
       "17 X507_Group1B_70dpi_LA_282_B_C8_P121.mzXML  507     Group1B        naive \n",
       "18 X508_Group1B_70dpi_LA_283_B_C9_P121.mzXML  508     Group1B        naive \n",
       "19 X509_Group1B_70dpi_LA_284_B_C10_P121.mzXML 509     Group1B        naive \n",
       "20 X510_Group1B_70dpi_LA_285_B_C11_P121.mzXML 510     Group1B        naive \n",
       "21 X526_Group1B_70dpi_LA_286_B_C12_P121.mzXML 526     Group1B        naive \n",
       "   DPI   organ well_position plate mass_400    mass_500    mass_600   \n",
       "16 70dpi LA    C7            P121  0.002189330 0.012088528 0.000000000\n",
       "17 70dpi LA    C8            P121  0.002309082 0.007170160 0.000198742\n",
       "18 70dpi LA    C9            P121  0.002559756 0.004880000 0.000000000\n",
       "19 70dpi LA    C10           P121  0.005345325 0.010400000 0.000228916\n",
       "20 70dpi LA    C11           P121  0.002532088 0.004776248 0.000140990\n",
       "21 70dpi LA    C12           P121  0.003978928 0.010700000 0.000083800\n",
       "   mass_700    mass_800   \n",
       "16 0.017248829 0.000289101\n",
       "17 0.002241806 0.000370428\n",
       "18 0.000137450 0.000000000\n",
       "19 0.024739055 0.001641423\n",
       "20 0.002565503 0.000000000\n",
       "21 0.002037804 0.000161675"
      ]
     },
     "metadata": {},
     "output_type": "display_data"
    },
    {
     "data": {
      "text/html": [
       "<ol class=list-inline>\n",
       "\t<li>30</li>\n",
       "\t<li>13</li>\n",
       "</ol>\n"
      ],
      "text/latex": [
       "\\begin{enumerate*}\n",
       "\\item 30\n",
       "\\item 13\n",
       "\\end{enumerate*}\n"
      ],
      "text/markdown": [
       "1. 30\n",
       "2. 13\n",
       "\n",
       "\n"
      ],
      "text/plain": [
       "[1] 30 13"
      ]
     },
     "metadata": {},
     "output_type": "display_data"
    },
    {
     "data": {
      "text/html": [
       "<ol class=list-inline>\n",
       "\t<li>30</li>\n",
       "\t<li>5</li>\n",
       "</ol>\n"
      ],
      "text/latex": [
       "\\begin{enumerate*}\n",
       "\\item 30\n",
       "\\item 5\n",
       "\\end{enumerate*}\n"
      ],
      "text/markdown": [
       "1. 30\n",
       "2. 5\n",
       "\n",
       "\n"
      ],
      "text/plain": [
       "[1] 30  5"
      ]
     },
     "metadata": {},
     "output_type": "display_data"
    },
    {
     "data": {
      "text/html": [
       "<ol class=list-inline>\n",
       "\t<li>30</li>\n",
       "\t<li>5</li>\n",
       "</ol>\n"
      ],
      "text/latex": [
       "\\begin{enumerate*}\n",
       "\\item 30\n",
       "\\item 5\n",
       "\\end{enumerate*}\n"
      ],
      "text/markdown": [
       "1. 30\n",
       "2. 5\n",
       "\n",
       "\n"
      ],
      "text/plain": [
       "[1] 30  5"
      ]
     },
     "metadata": {},
     "output_type": "display_data"
    },
    {
     "data": {
      "text/html": [
       "<ol class=list-inline>\n",
       "\t<li>30</li>\n",
       "\t<li>13</li>\n",
       "</ol>\n"
      ],
      "text/latex": [
       "\\begin{enumerate*}\n",
       "\\item 30\n",
       "\\item 13\n",
       "\\end{enumerate*}\n"
      ],
      "text/markdown": [
       "1. 30\n",
       "2. 13\n",
       "\n",
       "\n"
      ],
      "text/plain": [
       "[1] 30 13"
      ]
     },
     "metadata": {},
     "output_type": "display_data"
    }
   ],
   "source": [
    "noMeta<-features_pos[,9:13]\n",
    "head(noMeta)\n",
    "not_zero<-which(colSums(noMeta) != 0)\n",
    "head(not_zero)\n",
    "nonzero <- noMeta[, not_zero]\n",
    "nonzero\n",
    "nonzero_wMeta<-cbind(features_pos[,1:8], nonzero)\n",
    "head(nonzero_wMeta)\n",
    "dim(features_pos)\n",
    "dim(noMeta)\n",
    "dim(nonzero)\n",
    "dim(nonzero_wMeta)"
   ]
  },
  {
   "cell_type": "code",
   "execution_count": 5,
   "metadata": {
    "scrolled": true
   },
   "outputs": [
    {
     "name": "stderr",
     "output_type": "stream",
     "text": [
      "Warning message in wilcox.test.default(x = c(0, 0.000198742, 0, 0.000228916, 0.00014099, :\n",
      "\"cannot compute exact p-value with ties\"Warning message in wilcox.test.default(x = c(0.000289101, 0.000370428, 0, 0.001641423, :\n",
      "\"cannot compute exact p-value with ties\""
     ]
    },
    {
     "data": {
      "text/html": [
       "<ol class=list-inline>\n",
       "\t<li>0.00166521486418813</li>\n",
       "\t<li>0.512486352283095</li>\n",
       "\t<li>0.403842938764215</li>\n",
       "\t<li>0.682673807575057</li>\n",
       "\t<li>0.173506599935187</li>\n",
       "</ol>\n"
      ],
      "text/latex": [
       "\\begin{enumerate*}\n",
       "\\item 0.00166521486418813\n",
       "\\item 0.512486352283095\n",
       "\\item 0.403842938764215\n",
       "\\item 0.682673807575057\n",
       "\\item 0.173506599935187\n",
       "\\end{enumerate*}\n"
      ],
      "text/markdown": [
       "1. 0.00166521486418813\n",
       "2. 0.512486352283095\n",
       "3. 0.403842938764215\n",
       "4. 0.682673807575057\n",
       "5. 0.173506599935187\n",
       "\n",
       "\n"
      ],
      "text/plain": [
       "[1] 0.001665215 0.512486352 0.403842939 0.682673808 0.173506600"
      ]
     },
     "metadata": {},
     "output_type": "display_data"
    },
    {
     "data": {
      "text/html": [
       "<ol class=list-inline>\n",
       "\t<li>0.00832607432094066</li>\n",
       "\t<li>0.640607940353868</li>\n",
       "\t<li>0.640607940353868</li>\n",
       "\t<li>0.682673807575057</li>\n",
       "\t<li>0.433766499837967</li>\n",
       "</ol>\n"
      ],
      "text/latex": [
       "\\begin{enumerate*}\n",
       "\\item 0.00832607432094066\n",
       "\\item 0.640607940353868\n",
       "\\item 0.640607940353868\n",
       "\\item 0.682673807575057\n",
       "\\item 0.433766499837967\n",
       "\\end{enumerate*}\n"
      ],
      "text/markdown": [
       "1. 0.00832607432094066\n",
       "2. 0.640607940353868\n",
       "3. 0.640607940353868\n",
       "4. 0.682673807575057\n",
       "5. 0.433766499837967\n",
       "\n",
       "\n"
      ],
      "text/plain": [
       "[1] 0.008326074 0.640607940 0.640607940 0.682673808 0.433766500"
      ]
     },
     "metadata": {},
     "output_type": "display_data"
    }
   ],
   "source": [
    "pval<-c()\n",
    "\n",
    "for (i in 9:ncol(nonzero_wMeta)) \n",
    "pval<-c(pval,wilcox.test(nonzero_wMeta[,i]~nonzero_wMeta$Treatmentgroup)$p.value)\n",
    "head(pval)\n",
    "pAdj <- p.adjust(pval, method = c(\"fdr\"), n=length(pval)) \n",
    "head(pAdj) \n",
    "\n"
   ]
  },
  {
   "cell_type": "code",
   "execution_count": 6,
   "metadata": {
    "scrolled": true
   },
   "outputs": [
    {
     "data": {
      "text/html": [
       "5"
      ],
      "text/latex": [
       "5"
      ],
      "text/markdown": [
       "5"
      ],
      "text/plain": [
       "[1] 5"
      ]
     },
     "metadata": {},
     "output_type": "display_data"
    }
   ],
   "source": [
    "length(pval)"
   ]
  },
  {
   "cell_type": "code",
   "execution_count": 7,
   "metadata": {
    "scrolled": true
   },
   "outputs": [
    {
     "data": {
      "text/html": [
       "5"
      ],
      "text/latex": [
       "5"
      ],
      "text/markdown": [
       "5"
      ],
      "text/plain": [
       "[1] 5"
      ]
     },
     "metadata": {},
     "output_type": "display_data"
    }
   ],
   "source": [
    "length(pAdj)"
   ]
  },
  {
   "cell_type": "code",
   "execution_count": 8,
   "metadata": {},
   "outputs": [
    {
     "data": {
      "text/html": [
       "<ol class=list-inline>\n",
       "\t<li>2</li>\n",
       "\t<li>5</li>\n",
       "</ol>\n"
      ],
      "text/latex": [
       "\\begin{enumerate*}\n",
       "\\item 2\n",
       "\\item 5\n",
       "\\end{enumerate*}\n"
      ],
      "text/markdown": [
       "1. 2\n",
       "2. 5\n",
       "\n",
       "\n"
      ],
      "text/plain": [
       "[1] 2 5"
      ]
     },
     "metadata": {},
     "output_type": "display_data"
    },
    {
     "data": {
      "text/html": [
       "<table>\n",
       "<thead><tr><th></th><th scope=col>mass_400</th><th scope=col>mass_500</th><th scope=col>mass_600</th></tr></thead>\n",
       "<tbody>\n",
       "\t<tr><th scope=row>Group1B</th><td>0.002639106 </td><td>0.007390336 </td><td>0.0001322715</td></tr>\n",
       "\t<tr><th scope=row>Group3B</th><td>0.005077582 </td><td>0.008266380 </td><td>0.0002359615</td></tr>\n",
       "</tbody>\n",
       "</table>\n"
      ],
      "text/latex": [
       "\\begin{tabular}{r|lll}\n",
       "  & mass\\_400 & mass\\_500 & mass\\_600\\\\\n",
       "\\hline\n",
       "\tGroup1B & 0.002639106  & 0.007390336  & 0.0001322715\\\\\n",
       "\tGroup3B & 0.005077582  & 0.008266380  & 0.0002359615\\\\\n",
       "\\end{tabular}\n"
      ],
      "text/markdown": [
       "\n",
       "| <!--/--> | mass_400 | mass_500 | mass_600 |\n",
       "|---|---|---|---|\n",
       "| Group1B | 0.002639106  | 0.007390336  | 0.0001322715 |\n",
       "| Group3B | 0.005077582  | 0.008266380  | 0.0002359615 |\n",
       "\n"
      ],
      "text/plain": [
       "        mass_400    mass_500    mass_600    \n",
       "Group1B 0.002639106 0.007390336 0.0001322715\n",
       "Group3B 0.005077582 0.008266380 0.0002359615"
      ]
     },
     "metadata": {},
     "output_type": "display_data"
    },
    {
     "data": {
      "text/html": [
       "<dl class=dl-horizontal>\n",
       "\t<dt>mass_400</dt>\n",
       "\t\t<dd>0.519756583856115</dd>\n",
       "\t<dt>mass_500</dt>\n",
       "\t\t<dd>0.894023304599406</dd>\n",
       "\t<dt>mass_600</dt>\n",
       "\t\t<dd>0.560564126007015</dd>\n",
       "\t<dt>mass_700</dt>\n",
       "\t\t<dd>1.33398218768965</dd>\n",
       "\t<dt>mass_800</dt>\n",
       "\t\t<dd>2.38707024959833</dd>\n",
       "</dl>\n"
      ],
      "text/latex": [
       "\\begin{description*}\n",
       "\\item[mass\\textbackslash{}\\_400] 0.519756583856115\n",
       "\\item[mass\\textbackslash{}\\_500] 0.894023304599406\n",
       "\\item[mass\\textbackslash{}\\_600] 0.560564126007015\n",
       "\\item[mass\\textbackslash{}\\_700] 1.33398218768965\n",
       "\\item[mass\\textbackslash{}\\_800] 2.38707024959833\n",
       "\\end{description*}\n"
      ],
      "text/markdown": [
       "mass_400\n",
       ":   0.519756583856115mass_500\n",
       ":   0.894023304599406mass_600\n",
       ":   0.560564126007015mass_700\n",
       ":   1.33398218768965mass_800\n",
       ":   2.38707024959833\n",
       "\n"
      ],
      "text/plain": [
       " mass_400  mass_500  mass_600  mass_700  mass_800 \n",
       "0.5197566 0.8940233 0.5605641 1.3339822 2.3870702 "
      ]
     },
     "metadata": {},
     "output_type": "display_data"
    },
    {
     "data": {
      "text/html": [
       "<ol class=list-inline>\n",
       "\t<li>'numeric'</li>\n",
       "\t<li>'vector'</li>\n",
       "</ol>\n"
      ],
      "text/latex": [
       "\\begin{enumerate*}\n",
       "\\item 'numeric'\n",
       "\\item 'vector'\n",
       "\\end{enumerate*}\n"
      ],
      "text/markdown": [
       "1. 'numeric'\n",
       "2. 'vector'\n",
       "\n",
       "\n"
      ],
      "text/plain": [
       "[1] \"numeric\" \"vector\" "
      ]
     },
     "metadata": {},
     "output_type": "display_data"
    }
   ],
   "source": [
    "avg<- apply(nonzero_wMeta[,9:ncol(nonzero_wMeta)], 2, function(x) tapply(x, nonzero_wMeta$Treatmentgroup, function(x) mean(x))) \n",
    "\n",
    "dim(avg)\n",
    "\n",
    "avg[,1:3]\n",
    "\n",
    "fch <- apply(avg, 2, function(x) x[1]/x[2])\n",
    "\n",
    "head(fch)\n",
    "is(fch)"
   ]
  },
  {
   "cell_type": "code",
   "execution_count": 9,
   "metadata": {
    "scrolled": true
   },
   "outputs": [
    {
     "data": {
      "text/html": [
       "<dl class=dl-horizontal>\n",
       "\t<dt>mass_400</dt>\n",
       "\t\t<dd>0.519756583856115</dd>\n",
       "\t<dt>mass_500</dt>\n",
       "\t\t<dd>0.894023304599406</dd>\n",
       "\t<dt>mass_600</dt>\n",
       "\t\t<dd>0.560564126007015</dd>\n",
       "\t<dt>mass_700</dt>\n",
       "\t\t<dd>1.33398218768965</dd>\n",
       "\t<dt>mass_800</dt>\n",
       "\t\t<dd>2.38707024959833</dd>\n",
       "</dl>\n"
      ],
      "text/latex": [
       "\\begin{description*}\n",
       "\\item[mass\\textbackslash{}\\_400] 0.519756583856115\n",
       "\\item[mass\\textbackslash{}\\_500] 0.894023304599406\n",
       "\\item[mass\\textbackslash{}\\_600] 0.560564126007015\n",
       "\\item[mass\\textbackslash{}\\_700] 1.33398218768965\n",
       "\\item[mass\\textbackslash{}\\_800] 2.38707024959833\n",
       "\\end{description*}\n"
      ],
      "text/markdown": [
       "mass_400\n",
       ":   0.519756583856115mass_500\n",
       ":   0.894023304599406mass_600\n",
       ":   0.560564126007015mass_700\n",
       ":   1.33398218768965mass_800\n",
       ":   2.38707024959833\n",
       "\n"
      ],
      "text/plain": [
       " mass_400  mass_500  mass_600  mass_700  mass_800 \n",
       "0.5197566 0.8940233 0.5605641 1.3339822 2.3870702 "
      ]
     },
     "metadata": {},
     "output_type": "display_data"
    }
   ],
   "source": [
    "fch"
   ]
  },
  {
   "cell_type": "code",
   "execution_count": 10,
   "metadata": {
    "scrolled": false
   },
   "outputs": [],
   "source": [
    "df <- data.frame(fch,pval, pAdj)\n",
    "write.csv(df, \"PE-time-LA-wilcox-1B-3B.csv\")"
   ]
  },
  {
   "cell_type": "code",
   "execution_count": null,
   "metadata": {},
   "outputs": [],
   "source": []
  },
  {
   "cell_type": "code",
   "execution_count": null,
   "metadata": {},
   "outputs": [],
   "source": []
  },
  {
   "cell_type": "code",
   "execution_count": null,
   "metadata": {},
   "outputs": [],
   "source": []
  },
  {
   "cell_type": "code",
   "execution_count": null,
   "metadata": {},
   "outputs": [],
   "source": []
  },
  {
   "cell_type": "code",
   "execution_count": null,
   "metadata": {},
   "outputs": [],
   "source": []
  },
  {
   "cell_type": "code",
   "execution_count": null,
   "metadata": {},
   "outputs": [],
   "source": []
  }
 ],
 "metadata": {
  "kernelspec": {
   "display_name": "R",
   "language": "R",
   "name": "ir"
  },
  "language_info": {
   "codemirror_mode": "r",
   "file_extension": ".r",
   "mimetype": "text/x-r-source",
   "name": "R",
   "pygments_lexer": "r",
   "version": "3.6.1"
  }
 },
 "nbformat": 4,
 "nbformat_minor": 2
}
