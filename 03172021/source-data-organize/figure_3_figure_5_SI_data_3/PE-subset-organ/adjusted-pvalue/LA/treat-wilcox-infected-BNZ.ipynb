{
 "cells": [
  {
   "cell_type": "code",
   "execution_count": 1,
   "metadata": {},
   "outputs": [],
   "source": [
    "a <- read.csv(\"03172021-PE-treatment-LA-M-F.csv\")"
   ]
  },
  {
   "cell_type": "code",
   "execution_count": 2,
   "metadata": {},
   "outputs": [
    {
     "data": {
      "text/html": [
       "<table>\n",
       "<thead><tr><th scope=col>filename</th><th scope=col>MouseID</th><th scope=col>Treatmentgroup</th><th scope=col>DPI</th><th scope=col>organ</th><th scope=col>well_position</th><th scope=col>plate</th><th scope=col>mass_400</th><th scope=col>mass_500</th><th scope=col>mass_600</th><th scope=col>mass_700</th><th scope=col>mass_800</th></tr></thead>\n",
       "<tbody>\n",
       "\t<tr><td>X511_Group1C_142dpi_LA_161_G_A1_P120.mzXML</td><td>511                                       </td><td>naive                                     </td><td>142dpi                                    </td><td>LA                                        </td><td>A1                                        </td><td>P120                                      </td><td>0.002077955                               </td><td>0.002490702                               </td><td>0.00e+00                                  </td><td>0.000232453                               </td><td>0.000149389                               </td></tr>\n",
       "\t<tr><td>X512_Group1C_142dpi_LA_162_G_A2_P120.mzXML</td><td>512                                       </td><td>naive                                     </td><td>142dpi                                    </td><td>LA                                        </td><td>A2                                        </td><td>P120                                      </td><td>0.001422483                               </td><td>0.001827962                               </td><td>2.59e-05                                  </td><td>0.000955615                               </td><td>0.000000000                               </td></tr>\n",
       "\t<tr><td>X513_Group1C_142dpi_LA_163_G_A3_P120.mzXML</td><td>513                                       </td><td>naive                                     </td><td>142dpi                                    </td><td>LA                                        </td><td>A3                                        </td><td>P120                                      </td><td>0.000422008                               </td><td>0.001031656                               </td><td>4.61e-05                                  </td><td>0.000000000                               </td><td>0.000000000                               </td></tr>\n",
       "\t<tr><td>X514_Group1C_142dpi_LA_164_G_A4_P120.mzXML</td><td>514                                       </td><td>naive                                     </td><td>142dpi                                    </td><td>LA                                        </td><td>A4                                        </td><td>P120                                      </td><td>0.001861510                               </td><td>0.002679198                               </td><td>1.95e-05                                  </td><td>0.001053337                               </td><td>0.000081800                               </td></tr>\n",
       "\t<tr><td>X515_Group1C_142dpi_LA_165_G_A5_P120.mzXML</td><td>515                                       </td><td>naive                                     </td><td>142dpi                                    </td><td>LA                                        </td><td>A5                                        </td><td>P120                                      </td><td>0.001966674                               </td><td>0.002742174                               </td><td>2.00e-05                                  </td><td>0.000639894                               </td><td>0.000151910                               </td></tr>\n",
       "\t<tr><td>X531_Group1C_142dpi_LA_166_G_A6_P120.mzXML</td><td>531                                       </td><td>naive                                     </td><td>142dpi                                    </td><td>LA                                        </td><td>A6                                        </td><td>P120                                      </td><td>0.001182584                               </td><td>0.001621899                               </td><td>3.75e-05                                  </td><td>0.000000000                               </td><td>0.000000000                               </td></tr>\n",
       "</tbody>\n",
       "</table>\n"
      ],
      "text/latex": [
       "\\begin{tabular}{r|llllllllllll}\n",
       " filename & MouseID & Treatmentgroup & DPI & organ & well\\_position & plate & mass\\_400 & mass\\_500 & mass\\_600 & mass\\_700 & mass\\_800\\\\\n",
       "\\hline\n",
       "\t X511\\_Group1C\\_142dpi\\_LA\\_161\\_G\\_A1\\_P120.mzXML & 511                                                      & naive                                                    & 142dpi                                                   & LA                                                       & A1                                                       & P120                                                     & 0.002077955                                              & 0.002490702                                              & 0.00e+00                                                 & 0.000232453                                              & 0.000149389                                             \\\\\n",
       "\t X512\\_Group1C\\_142dpi\\_LA\\_162\\_G\\_A2\\_P120.mzXML & 512                                                      & naive                                                    & 142dpi                                                   & LA                                                       & A2                                                       & P120                                                     & 0.001422483                                              & 0.001827962                                              & 2.59e-05                                                 & 0.000955615                                              & 0.000000000                                             \\\\\n",
       "\t X513\\_Group1C\\_142dpi\\_LA\\_163\\_G\\_A3\\_P120.mzXML & 513                                                      & naive                                                    & 142dpi                                                   & LA                                                       & A3                                                       & P120                                                     & 0.000422008                                              & 0.001031656                                              & 4.61e-05                                                 & 0.000000000                                              & 0.000000000                                             \\\\\n",
       "\t X514\\_Group1C\\_142dpi\\_LA\\_164\\_G\\_A4\\_P120.mzXML & 514                                                      & naive                                                    & 142dpi                                                   & LA                                                       & A4                                                       & P120                                                     & 0.001861510                                              & 0.002679198                                              & 1.95e-05                                                 & 0.001053337                                              & 0.000081800                                             \\\\\n",
       "\t X515\\_Group1C\\_142dpi\\_LA\\_165\\_G\\_A5\\_P120.mzXML & 515                                                      & naive                                                    & 142dpi                                                   & LA                                                       & A5                                                       & P120                                                     & 0.001966674                                              & 0.002742174                                              & 2.00e-05                                                 & 0.000639894                                              & 0.000151910                                             \\\\\n",
       "\t X531\\_Group1C\\_142dpi\\_LA\\_166\\_G\\_A6\\_P120.mzXML & 531                                                      & naive                                                    & 142dpi                                                   & LA                                                       & A6                                                       & P120                                                     & 0.001182584                                              & 0.001621899                                              & 3.75e-05                                                 & 0.000000000                                              & 0.000000000                                             \\\\\n",
       "\\end{tabular}\n"
      ],
      "text/markdown": [
       "\n",
       "| filename | MouseID | Treatmentgroup | DPI | organ | well_position | plate | mass_400 | mass_500 | mass_600 | mass_700 | mass_800 |\n",
       "|---|---|---|---|---|---|---|---|---|---|---|---|\n",
       "| X511_Group1C_142dpi_LA_161_G_A1_P120.mzXML | 511                                        | naive                                      | 142dpi                                     | LA                                         | A1                                         | P120                                       | 0.002077955                                | 0.002490702                                | 0.00e+00                                   | 0.000232453                                | 0.000149389                                |\n",
       "| X512_Group1C_142dpi_LA_162_G_A2_P120.mzXML | 512                                        | naive                                      | 142dpi                                     | LA                                         | A2                                         | P120                                       | 0.001422483                                | 0.001827962                                | 2.59e-05                                   | 0.000955615                                | 0.000000000                                |\n",
       "| X513_Group1C_142dpi_LA_163_G_A3_P120.mzXML | 513                                        | naive                                      | 142dpi                                     | LA                                         | A3                                         | P120                                       | 0.000422008                                | 0.001031656                                | 4.61e-05                                   | 0.000000000                                | 0.000000000                                |\n",
       "| X514_Group1C_142dpi_LA_164_G_A4_P120.mzXML | 514                                        | naive                                      | 142dpi                                     | LA                                         | A4                                         | P120                                       | 0.001861510                                | 0.002679198                                | 1.95e-05                                   | 0.001053337                                | 0.000081800                                |\n",
       "| X515_Group1C_142dpi_LA_165_G_A5_P120.mzXML | 515                                        | naive                                      | 142dpi                                     | LA                                         | A5                                         | P120                                       | 0.001966674                                | 0.002742174                                | 2.00e-05                                   | 0.000639894                                | 0.000151910                                |\n",
       "| X531_Group1C_142dpi_LA_166_G_A6_P120.mzXML | 531                                        | naive                                      | 142dpi                                     | LA                                         | A6                                         | P120                                       | 0.001182584                                | 0.001621899                                | 3.75e-05                                   | 0.000000000                                | 0.000000000                                |\n",
       "\n"
      ],
      "text/plain": [
       "  filename                                   MouseID Treatmentgroup DPI   \n",
       "1 X511_Group1C_142dpi_LA_161_G_A1_P120.mzXML 511     naive          142dpi\n",
       "2 X512_Group1C_142dpi_LA_162_G_A2_P120.mzXML 512     naive          142dpi\n",
       "3 X513_Group1C_142dpi_LA_163_G_A3_P120.mzXML 513     naive          142dpi\n",
       "4 X514_Group1C_142dpi_LA_164_G_A4_P120.mzXML 514     naive          142dpi\n",
       "5 X515_Group1C_142dpi_LA_165_G_A5_P120.mzXML 515     naive          142dpi\n",
       "6 X531_Group1C_142dpi_LA_166_G_A6_P120.mzXML 531     naive          142dpi\n",
       "  organ well_position plate mass_400    mass_500    mass_600 mass_700   \n",
       "1 LA    A1            P120  0.002077955 0.002490702 0.00e+00 0.000232453\n",
       "2 LA    A2            P120  0.001422483 0.001827962 2.59e-05 0.000955615\n",
       "3 LA    A3            P120  0.000422008 0.001031656 4.61e-05 0.000000000\n",
       "4 LA    A4            P120  0.001861510 0.002679198 1.95e-05 0.001053337\n",
       "5 LA    A5            P120  0.001966674 0.002742174 2.00e-05 0.000639894\n",
       "6 LA    A6            P120  0.001182584 0.001621899 3.75e-05 0.000000000\n",
       "  mass_800   \n",
       "1 0.000149389\n",
       "2 0.000000000\n",
       "3 0.000000000\n",
       "4 0.000081800\n",
       "5 0.000151910\n",
       "6 0.000000000"
      ]
     },
     "metadata": {},
     "output_type": "display_data"
    },
    {
     "data": {
      "text/html": [
       "<ol class=list-inline>\n",
       "\t<li>60</li>\n",
       "\t<li>12</li>\n",
       "</ol>\n"
      ],
      "text/latex": [
       "\\begin{enumerate*}\n",
       "\\item 60\n",
       "\\item 12\n",
       "\\end{enumerate*}\n"
      ],
      "text/markdown": [
       "1. 60\n",
       "2. 12\n",
       "\n",
       "\n"
      ],
      "text/plain": [
       "[1] 60 12"
      ]
     },
     "metadata": {},
     "output_type": "display_data"
    }
   ],
   "source": [
    "head(a)\n",
    "dim(a)"
   ]
  },
  {
   "cell_type": "code",
   "execution_count": 3,
   "metadata": {},
   "outputs": [
    {
     "data": {
      "text/html": [
       "<table>\n",
       "<thead><tr><th></th><th scope=col>filename</th><th scope=col>MouseID</th><th scope=col>Treatmentgroup</th><th scope=col>DPI</th><th scope=col>organ</th><th scope=col>well_position</th><th scope=col>plate</th><th scope=col>mass_400</th><th scope=col>mass_500</th><th scope=col>mass_600</th><th scope=col>mass_700</th><th scope=col>mass_800</th></tr></thead>\n",
       "<tbody>\n",
       "\t<tr><th scope=row>16</th><td>X581_Group3E_142dpi_LA_176_G_B4_P120.mzXML</td><td>581                                       </td><td>infected                                  </td><td>142dpi                                    </td><td>LA                                        </td><td>B4                                        </td><td>P120                                      </td><td>0.003182039                               </td><td>0.003871148                               </td><td>0.000111846                               </td><td>0.000657259                               </td><td>0.000000000                               </td></tr>\n",
       "\t<tr><th scope=row>17</th><td>X582_Group3E_142dpi_LA_177_G_B5_P120.mzXML</td><td>582                                       </td><td>infected                                  </td><td>142dpi                                    </td><td>LA                                        </td><td>B5                                        </td><td>P120                                      </td><td>0.003804928                               </td><td>0.001831666                               </td><td>0.000019000                               </td><td>0.000824241                               </td><td>0.000000000                               </td></tr>\n",
       "\t<tr><th scope=row>18</th><td>X583_Group3E_142dpi_LA_178_G_B6_P120.mzXML</td><td>583                                       </td><td>infected                                  </td><td>142dpi                                    </td><td>LA                                        </td><td>B6                                        </td><td>P120                                      </td><td>0.001858255                               </td><td>0.002137595                               </td><td>0.000000000                               </td><td>0.000070200                               </td><td>0.000000000                               </td></tr>\n",
       "\t<tr><th scope=row>19</th><td>X584_Group3E_142dpi_LA_179_G_B7_P120.mzXML</td><td>584                                       </td><td>infected                                  </td><td>142dpi                                    </td><td>LA                                        </td><td>B7                                        </td><td>P120                                      </td><td>0.001765435                               </td><td>0.002913983                               </td><td>0.000045900                               </td><td>0.000476821                               </td><td>0.000000000                               </td></tr>\n",
       "\t<tr><th scope=row>20</th><td>X585_Group3E_142dpi_LA_180_G_B8_P120.mzXML</td><td>585                                       </td><td>infected                                  </td><td>142dpi                                    </td><td>LA                                        </td><td>B8                                        </td><td>P120                                      </td><td>0.000944339                               </td><td>0.001841540                               </td><td>0.000000000                               </td><td>0.000359929                               </td><td>0.000000000                               </td></tr>\n",
       "\t<tr><th scope=row>26</th><td>X631_Group15_142dpi_LA_191_G_C7_P120.mzXML</td><td>631                                       </td><td>BNZ                                       </td><td>142dpi                                    </td><td>LA                                        </td><td>C7                                        </td><td>P120                                      </td><td>0.002346225                               </td><td>0.003462907                               </td><td>0.000108091                               </td><td>0.001227320                               </td><td>0.000248173                               </td></tr>\n",
       "</tbody>\n",
       "</table>\n"
      ],
      "text/latex": [
       "\\begin{tabular}{r|llllllllllll}\n",
       "  & filename & MouseID & Treatmentgroup & DPI & organ & well\\_position & plate & mass\\_400 & mass\\_500 & mass\\_600 & mass\\_700 & mass\\_800\\\\\n",
       "\\hline\n",
       "\t16 & X581\\_Group3E\\_142dpi\\_LA\\_176\\_G\\_B4\\_P120.mzXML & 581                                                      & infected                                                 & 142dpi                                                   & LA                                                       & B4                                                       & P120                                                     & 0.003182039                                              & 0.003871148                                              & 0.000111846                                              & 0.000657259                                              & 0.000000000                                             \\\\\n",
       "\t17 & X582\\_Group3E\\_142dpi\\_LA\\_177\\_G\\_B5\\_P120.mzXML & 582                                                      & infected                                                 & 142dpi                                                   & LA                                                       & B5                                                       & P120                                                     & 0.003804928                                              & 0.001831666                                              & 0.000019000                                              & 0.000824241                                              & 0.000000000                                             \\\\\n",
       "\t18 & X583\\_Group3E\\_142dpi\\_LA\\_178\\_G\\_B6\\_P120.mzXML & 583                                                      & infected                                                 & 142dpi                                                   & LA                                                       & B6                                                       & P120                                                     & 0.001858255                                              & 0.002137595                                              & 0.000000000                                              & 0.000070200                                              & 0.000000000                                             \\\\\n",
       "\t19 & X584\\_Group3E\\_142dpi\\_LA\\_179\\_G\\_B7\\_P120.mzXML & 584                                                      & infected                                                 & 142dpi                                                   & LA                                                       & B7                                                       & P120                                                     & 0.001765435                                              & 0.002913983                                              & 0.000045900                                              & 0.000476821                                              & 0.000000000                                             \\\\\n",
       "\t20 & X585\\_Group3E\\_142dpi\\_LA\\_180\\_G\\_B8\\_P120.mzXML & 585                                                      & infected                                                 & 142dpi                                                   & LA                                                       & B8                                                       & P120                                                     & 0.000944339                                              & 0.001841540                                              & 0.000000000                                              & 0.000359929                                              & 0.000000000                                             \\\\\n",
       "\t26 & X631\\_Group15\\_142dpi\\_LA\\_191\\_G\\_C7\\_P120.mzXML & 631                                                      & BNZ                                                      & 142dpi                                                   & LA                                                       & C7                                                       & P120                                                     & 0.002346225                                              & 0.003462907                                              & 0.000108091                                              & 0.001227320                                              & 0.000248173                                             \\\\\n",
       "\\end{tabular}\n"
      ],
      "text/markdown": [
       "\n",
       "| <!--/--> | filename | MouseID | Treatmentgroup | DPI | organ | well_position | plate | mass_400 | mass_500 | mass_600 | mass_700 | mass_800 |\n",
       "|---|---|---|---|---|---|---|---|---|---|---|---|---|\n",
       "| 16 | X581_Group3E_142dpi_LA_176_G_B4_P120.mzXML | 581                                        | infected                                   | 142dpi                                     | LA                                         | B4                                         | P120                                       | 0.003182039                                | 0.003871148                                | 0.000111846                                | 0.000657259                                | 0.000000000                                |\n",
       "| 17 | X582_Group3E_142dpi_LA_177_G_B5_P120.mzXML | 582                                        | infected                                   | 142dpi                                     | LA                                         | B5                                         | P120                                       | 0.003804928                                | 0.001831666                                | 0.000019000                                | 0.000824241                                | 0.000000000                                |\n",
       "| 18 | X583_Group3E_142dpi_LA_178_G_B6_P120.mzXML | 583                                        | infected                                   | 142dpi                                     | LA                                         | B6                                         | P120                                       | 0.001858255                                | 0.002137595                                | 0.000000000                                | 0.000070200                                | 0.000000000                                |\n",
       "| 19 | X584_Group3E_142dpi_LA_179_G_B7_P120.mzXML | 584                                        | infected                                   | 142dpi                                     | LA                                         | B7                                         | P120                                       | 0.001765435                                | 0.002913983                                | 0.000045900                                | 0.000476821                                | 0.000000000                                |\n",
       "| 20 | X585_Group3E_142dpi_LA_180_G_B8_P120.mzXML | 585                                        | infected                                   | 142dpi                                     | LA                                         | B8                                         | P120                                       | 0.000944339                                | 0.001841540                                | 0.000000000                                | 0.000359929                                | 0.000000000                                |\n",
       "| 26 | X631_Group15_142dpi_LA_191_G_C7_P120.mzXML | 631                                        | BNZ                                        | 142dpi                                     | LA                                         | C7                                         | P120                                       | 0.002346225                                | 0.003462907                                | 0.000108091                                | 0.001227320                                | 0.000248173                                |\n",
       "\n"
      ],
      "text/plain": [
       "   filename                                   MouseID Treatmentgroup DPI   \n",
       "16 X581_Group3E_142dpi_LA_176_G_B4_P120.mzXML 581     infected       142dpi\n",
       "17 X582_Group3E_142dpi_LA_177_G_B5_P120.mzXML 582     infected       142dpi\n",
       "18 X583_Group3E_142dpi_LA_178_G_B6_P120.mzXML 583     infected       142dpi\n",
       "19 X584_Group3E_142dpi_LA_179_G_B7_P120.mzXML 584     infected       142dpi\n",
       "20 X585_Group3E_142dpi_LA_180_G_B8_P120.mzXML 585     infected       142dpi\n",
       "26 X631_Group15_142dpi_LA_191_G_C7_P120.mzXML 631     BNZ            142dpi\n",
       "   organ well_position plate mass_400    mass_500    mass_600    mass_700   \n",
       "16 LA    B4            P120  0.003182039 0.003871148 0.000111846 0.000657259\n",
       "17 LA    B5            P120  0.003804928 0.001831666 0.000019000 0.000824241\n",
       "18 LA    B6            P120  0.001858255 0.002137595 0.000000000 0.000070200\n",
       "19 LA    B7            P120  0.001765435 0.002913983 0.000045900 0.000476821\n",
       "20 LA    B8            P120  0.000944339 0.001841540 0.000000000 0.000359929\n",
       "26 LA    C7            P120  0.002346225 0.003462907 0.000108091 0.001227320\n",
       "   mass_800   \n",
       "16 0.000000000\n",
       "17 0.000000000\n",
       "18 0.000000000\n",
       "19 0.000000000\n",
       "20 0.000000000\n",
       "26 0.000248173"
      ]
     },
     "metadata": {},
     "output_type": "display_data"
    },
    {
     "data": {
      "text/html": [
       "<ol class=list-inline>\n",
       "\t<li>30</li>\n",
       "\t<li>12</li>\n",
       "</ol>\n"
      ],
      "text/latex": [
       "\\begin{enumerate*}\n",
       "\\item 30\n",
       "\\item 12\n",
       "\\end{enumerate*}\n"
      ],
      "text/markdown": [
       "1. 30\n",
       "2. 12\n",
       "\n",
       "\n"
      ],
      "text/plain": [
       "[1] 30 12"
      ]
     },
     "metadata": {},
     "output_type": "display_data"
    }
   ],
   "source": [
    "features_pos<-droplevels(subset(a, a$Treatmentgroup==c(\"infected\")|a$Treatmentgroup==c(\"BNZ\")))\n",
    "head(features_pos)\n",
    "dim(features_pos)"
   ]
  },
  {
   "cell_type": "code",
   "execution_count": 4,
   "metadata": {
    "scrolled": false
   },
   "outputs": [
    {
     "data": {
      "text/html": [
       "<table>\n",
       "<thead><tr><th></th><th scope=col>mass_400</th><th scope=col>mass_500</th><th scope=col>mass_600</th><th scope=col>mass_700</th><th scope=col>mass_800</th></tr></thead>\n",
       "<tbody>\n",
       "\t<tr><th scope=row>16</th><td>0.003182039</td><td>0.003871148</td><td>0.000111846</td><td>0.000657259</td><td>0.000000000</td></tr>\n",
       "\t<tr><th scope=row>17</th><td>0.003804928</td><td>0.001831666</td><td>0.000019000</td><td>0.000824241</td><td>0.000000000</td></tr>\n",
       "\t<tr><th scope=row>18</th><td>0.001858255</td><td>0.002137595</td><td>0.000000000</td><td>0.000070200</td><td>0.000000000</td></tr>\n",
       "\t<tr><th scope=row>19</th><td>0.001765435</td><td>0.002913983</td><td>0.000045900</td><td>0.000476821</td><td>0.000000000</td></tr>\n",
       "\t<tr><th scope=row>20</th><td>0.000944339</td><td>0.001841540</td><td>0.000000000</td><td>0.000359929</td><td>0.000000000</td></tr>\n",
       "\t<tr><th scope=row>26</th><td>0.002346225</td><td>0.003462907</td><td>0.000108091</td><td>0.001227320</td><td>0.000248173</td></tr>\n",
       "</tbody>\n",
       "</table>\n"
      ],
      "text/latex": [
       "\\begin{tabular}{r|lllll}\n",
       "  & mass\\_400 & mass\\_500 & mass\\_600 & mass\\_700 & mass\\_800\\\\\n",
       "\\hline\n",
       "\t16 & 0.003182039 & 0.003871148 & 0.000111846 & 0.000657259 & 0.000000000\\\\\n",
       "\t17 & 0.003804928 & 0.001831666 & 0.000019000 & 0.000824241 & 0.000000000\\\\\n",
       "\t18 & 0.001858255 & 0.002137595 & 0.000000000 & 0.000070200 & 0.000000000\\\\\n",
       "\t19 & 0.001765435 & 0.002913983 & 0.000045900 & 0.000476821 & 0.000000000\\\\\n",
       "\t20 & 0.000944339 & 0.001841540 & 0.000000000 & 0.000359929 & 0.000000000\\\\\n",
       "\t26 & 0.002346225 & 0.003462907 & 0.000108091 & 0.001227320 & 0.000248173\\\\\n",
       "\\end{tabular}\n"
      ],
      "text/markdown": [
       "\n",
       "| <!--/--> | mass_400 | mass_500 | mass_600 | mass_700 | mass_800 |\n",
       "|---|---|---|---|---|---|\n",
       "| 16 | 0.003182039 | 0.003871148 | 0.000111846 | 0.000657259 | 0.000000000 |\n",
       "| 17 | 0.003804928 | 0.001831666 | 0.000019000 | 0.000824241 | 0.000000000 |\n",
       "| 18 | 0.001858255 | 0.002137595 | 0.000000000 | 0.000070200 | 0.000000000 |\n",
       "| 19 | 0.001765435 | 0.002913983 | 0.000045900 | 0.000476821 | 0.000000000 |\n",
       "| 20 | 0.000944339 | 0.001841540 | 0.000000000 | 0.000359929 | 0.000000000 |\n",
       "| 26 | 0.002346225 | 0.003462907 | 0.000108091 | 0.001227320 | 0.000248173 |\n",
       "\n"
      ],
      "text/plain": [
       "   mass_400    mass_500    mass_600    mass_700    mass_800   \n",
       "16 0.003182039 0.003871148 0.000111846 0.000657259 0.000000000\n",
       "17 0.003804928 0.001831666 0.000019000 0.000824241 0.000000000\n",
       "18 0.001858255 0.002137595 0.000000000 0.000070200 0.000000000\n",
       "19 0.001765435 0.002913983 0.000045900 0.000476821 0.000000000\n",
       "20 0.000944339 0.001841540 0.000000000 0.000359929 0.000000000\n",
       "26 0.002346225 0.003462907 0.000108091 0.001227320 0.000248173"
      ]
     },
     "metadata": {},
     "output_type": "display_data"
    },
    {
     "data": {
      "text/html": [
       "<dl class=dl-horizontal>\n",
       "\t<dt>mass_400</dt>\n",
       "\t\t<dd>1</dd>\n",
       "\t<dt>mass_500</dt>\n",
       "\t\t<dd>2</dd>\n",
       "\t<dt>mass_600</dt>\n",
       "\t\t<dd>3</dd>\n",
       "\t<dt>mass_700</dt>\n",
       "\t\t<dd>4</dd>\n",
       "\t<dt>mass_800</dt>\n",
       "\t\t<dd>5</dd>\n",
       "</dl>\n"
      ],
      "text/latex": [
       "\\begin{description*}\n",
       "\\item[mass\\textbackslash{}\\_400] 1\n",
       "\\item[mass\\textbackslash{}\\_500] 2\n",
       "\\item[mass\\textbackslash{}\\_600] 3\n",
       "\\item[mass\\textbackslash{}\\_700] 4\n",
       "\\item[mass\\textbackslash{}\\_800] 5\n",
       "\\end{description*}\n"
      ],
      "text/markdown": [
       "mass_400\n",
       ":   1mass_500\n",
       ":   2mass_600\n",
       ":   3mass_700\n",
       ":   4mass_800\n",
       ":   5\n",
       "\n"
      ],
      "text/plain": [
       "mass_400 mass_500 mass_600 mass_700 mass_800 \n",
       "       1        2        3        4        5 "
      ]
     },
     "metadata": {},
     "output_type": "display_data"
    },
    {
     "data": {
      "text/html": [
       "<table>\n",
       "<thead><tr><th></th><th scope=col>mass_400</th><th scope=col>mass_500</th><th scope=col>mass_600</th><th scope=col>mass_700</th><th scope=col>mass_800</th></tr></thead>\n",
       "<tbody>\n",
       "\t<tr><th scope=row>16</th><td>0.003182039</td><td>0.003871148</td><td>0.000111846</td><td>0.000657259</td><td>0.000000000</td></tr>\n",
       "\t<tr><th scope=row>17</th><td>0.003804928</td><td>0.001831666</td><td>0.000019000</td><td>0.000824241</td><td>0.000000000</td></tr>\n",
       "\t<tr><th scope=row>18</th><td>0.001858255</td><td>0.002137595</td><td>0.000000000</td><td>0.000070200</td><td>0.000000000</td></tr>\n",
       "\t<tr><th scope=row>19</th><td>0.001765435</td><td>0.002913983</td><td>0.000045900</td><td>0.000476821</td><td>0.000000000</td></tr>\n",
       "\t<tr><th scope=row>20</th><td>0.000944339</td><td>0.001841540</td><td>0.000000000</td><td>0.000359929</td><td>0.000000000</td></tr>\n",
       "\t<tr><th scope=row>26</th><td>0.002346225</td><td>0.003462907</td><td>0.000108091</td><td>0.001227320</td><td>0.000248173</td></tr>\n",
       "\t<tr><th scope=row>27</th><td>0.001375996</td><td>0.001192738</td><td>0.000048400</td><td>0.000000000</td><td>0.000000000</td></tr>\n",
       "\t<tr><th scope=row>28</th><td>0.000180100</td><td>0.000598382</td><td>0.000022800</td><td>0.000083200</td><td>0.000000000</td></tr>\n",
       "\t<tr><th scope=row>29</th><td>0.001592335</td><td>0.001875963</td><td>0.000000000</td><td>0.000205292</td><td>0.000000000</td></tr>\n",
       "\t<tr><th scope=row>30</th><td>0.000590930</td><td>0.001170181</td><td>0.000000000</td><td>0.000141400</td><td>0.000000000</td></tr>\n",
       "\t<tr><th scope=row>31</th><td>0.002416400</td><td>0.002967068</td><td>0.000000000</td><td>0.001067936</td><td>0.000000000</td></tr>\n",
       "\t<tr><th scope=row>32</th><td>0.004351841</td><td>0.003273077</td><td>0.000020000</td><td>0.001635049</td><td>0.000311349</td></tr>\n",
       "\t<tr><th scope=row>33</th><td>0.002636841</td><td>0.003616622</td><td>0.000000000</td><td>0.001505071</td><td>0.000200553</td></tr>\n",
       "\t<tr><th scope=row>34</th><td>0.002383023</td><td>0.003432886</td><td>0.000081600</td><td>0.002240275</td><td>0.000000000</td></tr>\n",
       "\t<tr><th scope=row>35</th><td>0.001486499</td><td>0.002254976</td><td>0.000000000</td><td>0.002053865</td><td>0.000177580</td></tr>\n",
       "\t<tr><th scope=row>41</th><td>0.000591894</td><td>0.001237021</td><td>0.000000000</td><td>0.000000000</td><td>0.000000000</td></tr>\n",
       "\t<tr><th scope=row>42</th><td>0.000628128</td><td>0.001186251</td><td>0.000000000</td><td>0.001090241</td><td>0.000000000</td></tr>\n",
       "\t<tr><th scope=row>43</th><td>0.001364169</td><td>0.002309028</td><td>0.000000000</td><td>0.000973225</td><td>0.000000000</td></tr>\n",
       "\t<tr><th scope=row>44</th><td>0.001896093</td><td>0.002188046</td><td>0.000024200</td><td>0.000718581</td><td>0.000000000</td></tr>\n",
       "\t<tr><th scope=row>45</th><td>0.000867146</td><td>0.001508218</td><td>0.000000000</td><td>0.000000000</td><td>0.000000000</td></tr>\n",
       "\t<tr><th scope=row>46</th><td>0.001623204</td><td>0.002084003</td><td>0.000000000</td><td>0.000948279</td><td>0.000000000</td></tr>\n",
       "\t<tr><th scope=row>47</th><td>0.001531886</td><td>0.002412509</td><td>0.000000000</td><td>0.000925587</td><td>0.000151768</td></tr>\n",
       "\t<tr><th scope=row>48</th><td>0.000608053</td><td>0.000870000</td><td>0.000000000</td><td>0.000000000</td><td>0.000000000</td></tr>\n",
       "\t<tr><th scope=row>49</th><td>0.000692180</td><td>0.001351519</td><td>0.000000000</td><td>0.000097200</td><td>0.000000000</td></tr>\n",
       "\t<tr><th scope=row>50</th><td>0.000634235</td><td>0.001082745</td><td>0.000000000</td><td>0.000566075</td><td>0.000000000</td></tr>\n",
       "\t<tr><th scope=row>56</th><td>0.000921969</td><td>0.001712642</td><td>0.000000000</td><td>0.000825071</td><td>0.000000000</td></tr>\n",
       "\t<tr><th scope=row>57</th><td>0.001670379</td><td>0.002969716</td><td>0.000038600</td><td>0.001922137</td><td>0.000294969</td></tr>\n",
       "\t<tr><th scope=row>58</th><td>0.001139409</td><td>0.002460000</td><td>0.000022700</td><td>0.002328150</td><td>0.000236968</td></tr>\n",
       "\t<tr><th scope=row>59</th><td>0.000204856</td><td>0.001440000</td><td>0.000000000</td><td>0.001500000</td><td>0.000000000</td></tr>\n",
       "\t<tr><th scope=row>60</th><td>0.000933078</td><td>0.001332973</td><td>0.000000000</td><td>0.000323864</td><td>0.000000000</td></tr>\n",
       "</tbody>\n",
       "</table>\n"
      ],
      "text/latex": [
       "\\begin{tabular}{r|lllll}\n",
       "  & mass\\_400 & mass\\_500 & mass\\_600 & mass\\_700 & mass\\_800\\\\\n",
       "\\hline\n",
       "\t16 & 0.003182039 & 0.003871148 & 0.000111846 & 0.000657259 & 0.000000000\\\\\n",
       "\t17 & 0.003804928 & 0.001831666 & 0.000019000 & 0.000824241 & 0.000000000\\\\\n",
       "\t18 & 0.001858255 & 0.002137595 & 0.000000000 & 0.000070200 & 0.000000000\\\\\n",
       "\t19 & 0.001765435 & 0.002913983 & 0.000045900 & 0.000476821 & 0.000000000\\\\\n",
       "\t20 & 0.000944339 & 0.001841540 & 0.000000000 & 0.000359929 & 0.000000000\\\\\n",
       "\t26 & 0.002346225 & 0.003462907 & 0.000108091 & 0.001227320 & 0.000248173\\\\\n",
       "\t27 & 0.001375996 & 0.001192738 & 0.000048400 & 0.000000000 & 0.000000000\\\\\n",
       "\t28 & 0.000180100 & 0.000598382 & 0.000022800 & 0.000083200 & 0.000000000\\\\\n",
       "\t29 & 0.001592335 & 0.001875963 & 0.000000000 & 0.000205292 & 0.000000000\\\\\n",
       "\t30 & 0.000590930 & 0.001170181 & 0.000000000 & 0.000141400 & 0.000000000\\\\\n",
       "\t31 & 0.002416400 & 0.002967068 & 0.000000000 & 0.001067936 & 0.000000000\\\\\n",
       "\t32 & 0.004351841 & 0.003273077 & 0.000020000 & 0.001635049 & 0.000311349\\\\\n",
       "\t33 & 0.002636841 & 0.003616622 & 0.000000000 & 0.001505071 & 0.000200553\\\\\n",
       "\t34 & 0.002383023 & 0.003432886 & 0.000081600 & 0.002240275 & 0.000000000\\\\\n",
       "\t35 & 0.001486499 & 0.002254976 & 0.000000000 & 0.002053865 & 0.000177580\\\\\n",
       "\t41 & 0.000591894 & 0.001237021 & 0.000000000 & 0.000000000 & 0.000000000\\\\\n",
       "\t42 & 0.000628128 & 0.001186251 & 0.000000000 & 0.001090241 & 0.000000000\\\\\n",
       "\t43 & 0.001364169 & 0.002309028 & 0.000000000 & 0.000973225 & 0.000000000\\\\\n",
       "\t44 & 0.001896093 & 0.002188046 & 0.000024200 & 0.000718581 & 0.000000000\\\\\n",
       "\t45 & 0.000867146 & 0.001508218 & 0.000000000 & 0.000000000 & 0.000000000\\\\\n",
       "\t46 & 0.001623204 & 0.002084003 & 0.000000000 & 0.000948279 & 0.000000000\\\\\n",
       "\t47 & 0.001531886 & 0.002412509 & 0.000000000 & 0.000925587 & 0.000151768\\\\\n",
       "\t48 & 0.000608053 & 0.000870000 & 0.000000000 & 0.000000000 & 0.000000000\\\\\n",
       "\t49 & 0.000692180 & 0.001351519 & 0.000000000 & 0.000097200 & 0.000000000\\\\\n",
       "\t50 & 0.000634235 & 0.001082745 & 0.000000000 & 0.000566075 & 0.000000000\\\\\n",
       "\t56 & 0.000921969 & 0.001712642 & 0.000000000 & 0.000825071 & 0.000000000\\\\\n",
       "\t57 & 0.001670379 & 0.002969716 & 0.000038600 & 0.001922137 & 0.000294969\\\\\n",
       "\t58 & 0.001139409 & 0.002460000 & 0.000022700 & 0.002328150 & 0.000236968\\\\\n",
       "\t59 & 0.000204856 & 0.001440000 & 0.000000000 & 0.001500000 & 0.000000000\\\\\n",
       "\t60 & 0.000933078 & 0.001332973 & 0.000000000 & 0.000323864 & 0.000000000\\\\\n",
       "\\end{tabular}\n"
      ],
      "text/markdown": [
       "\n",
       "| <!--/--> | mass_400 | mass_500 | mass_600 | mass_700 | mass_800 |\n",
       "|---|---|---|---|---|---|\n",
       "| 16 | 0.003182039 | 0.003871148 | 0.000111846 | 0.000657259 | 0.000000000 |\n",
       "| 17 | 0.003804928 | 0.001831666 | 0.000019000 | 0.000824241 | 0.000000000 |\n",
       "| 18 | 0.001858255 | 0.002137595 | 0.000000000 | 0.000070200 | 0.000000000 |\n",
       "| 19 | 0.001765435 | 0.002913983 | 0.000045900 | 0.000476821 | 0.000000000 |\n",
       "| 20 | 0.000944339 | 0.001841540 | 0.000000000 | 0.000359929 | 0.000000000 |\n",
       "| 26 | 0.002346225 | 0.003462907 | 0.000108091 | 0.001227320 | 0.000248173 |\n",
       "| 27 | 0.001375996 | 0.001192738 | 0.000048400 | 0.000000000 | 0.000000000 |\n",
       "| 28 | 0.000180100 | 0.000598382 | 0.000022800 | 0.000083200 | 0.000000000 |\n",
       "| 29 | 0.001592335 | 0.001875963 | 0.000000000 | 0.000205292 | 0.000000000 |\n",
       "| 30 | 0.000590930 | 0.001170181 | 0.000000000 | 0.000141400 | 0.000000000 |\n",
       "| 31 | 0.002416400 | 0.002967068 | 0.000000000 | 0.001067936 | 0.000000000 |\n",
       "| 32 | 0.004351841 | 0.003273077 | 0.000020000 | 0.001635049 | 0.000311349 |\n",
       "| 33 | 0.002636841 | 0.003616622 | 0.000000000 | 0.001505071 | 0.000200553 |\n",
       "| 34 | 0.002383023 | 0.003432886 | 0.000081600 | 0.002240275 | 0.000000000 |\n",
       "| 35 | 0.001486499 | 0.002254976 | 0.000000000 | 0.002053865 | 0.000177580 |\n",
       "| 41 | 0.000591894 | 0.001237021 | 0.000000000 | 0.000000000 | 0.000000000 |\n",
       "| 42 | 0.000628128 | 0.001186251 | 0.000000000 | 0.001090241 | 0.000000000 |\n",
       "| 43 | 0.001364169 | 0.002309028 | 0.000000000 | 0.000973225 | 0.000000000 |\n",
       "| 44 | 0.001896093 | 0.002188046 | 0.000024200 | 0.000718581 | 0.000000000 |\n",
       "| 45 | 0.000867146 | 0.001508218 | 0.000000000 | 0.000000000 | 0.000000000 |\n",
       "| 46 | 0.001623204 | 0.002084003 | 0.000000000 | 0.000948279 | 0.000000000 |\n",
       "| 47 | 0.001531886 | 0.002412509 | 0.000000000 | 0.000925587 | 0.000151768 |\n",
       "| 48 | 0.000608053 | 0.000870000 | 0.000000000 | 0.000000000 | 0.000000000 |\n",
       "| 49 | 0.000692180 | 0.001351519 | 0.000000000 | 0.000097200 | 0.000000000 |\n",
       "| 50 | 0.000634235 | 0.001082745 | 0.000000000 | 0.000566075 | 0.000000000 |\n",
       "| 56 | 0.000921969 | 0.001712642 | 0.000000000 | 0.000825071 | 0.000000000 |\n",
       "| 57 | 0.001670379 | 0.002969716 | 0.000038600 | 0.001922137 | 0.000294969 |\n",
       "| 58 | 0.001139409 | 0.002460000 | 0.000022700 | 0.002328150 | 0.000236968 |\n",
       "| 59 | 0.000204856 | 0.001440000 | 0.000000000 | 0.001500000 | 0.000000000 |\n",
       "| 60 | 0.000933078 | 0.001332973 | 0.000000000 | 0.000323864 | 0.000000000 |\n",
       "\n"
      ],
      "text/plain": [
       "   mass_400    mass_500    mass_600    mass_700    mass_800   \n",
       "16 0.003182039 0.003871148 0.000111846 0.000657259 0.000000000\n",
       "17 0.003804928 0.001831666 0.000019000 0.000824241 0.000000000\n",
       "18 0.001858255 0.002137595 0.000000000 0.000070200 0.000000000\n",
       "19 0.001765435 0.002913983 0.000045900 0.000476821 0.000000000\n",
       "20 0.000944339 0.001841540 0.000000000 0.000359929 0.000000000\n",
       "26 0.002346225 0.003462907 0.000108091 0.001227320 0.000248173\n",
       "27 0.001375996 0.001192738 0.000048400 0.000000000 0.000000000\n",
       "28 0.000180100 0.000598382 0.000022800 0.000083200 0.000000000\n",
       "29 0.001592335 0.001875963 0.000000000 0.000205292 0.000000000\n",
       "30 0.000590930 0.001170181 0.000000000 0.000141400 0.000000000\n",
       "31 0.002416400 0.002967068 0.000000000 0.001067936 0.000000000\n",
       "32 0.004351841 0.003273077 0.000020000 0.001635049 0.000311349\n",
       "33 0.002636841 0.003616622 0.000000000 0.001505071 0.000200553\n",
       "34 0.002383023 0.003432886 0.000081600 0.002240275 0.000000000\n",
       "35 0.001486499 0.002254976 0.000000000 0.002053865 0.000177580\n",
       "41 0.000591894 0.001237021 0.000000000 0.000000000 0.000000000\n",
       "42 0.000628128 0.001186251 0.000000000 0.001090241 0.000000000\n",
       "43 0.001364169 0.002309028 0.000000000 0.000973225 0.000000000\n",
       "44 0.001896093 0.002188046 0.000024200 0.000718581 0.000000000\n",
       "45 0.000867146 0.001508218 0.000000000 0.000000000 0.000000000\n",
       "46 0.001623204 0.002084003 0.000000000 0.000948279 0.000000000\n",
       "47 0.001531886 0.002412509 0.000000000 0.000925587 0.000151768\n",
       "48 0.000608053 0.000870000 0.000000000 0.000000000 0.000000000\n",
       "49 0.000692180 0.001351519 0.000000000 0.000097200 0.000000000\n",
       "50 0.000634235 0.001082745 0.000000000 0.000566075 0.000000000\n",
       "56 0.000921969 0.001712642 0.000000000 0.000825071 0.000000000\n",
       "57 0.001670379 0.002969716 0.000038600 0.001922137 0.000294969\n",
       "58 0.001139409 0.002460000 0.000022700 0.002328150 0.000236968\n",
       "59 0.000204856 0.001440000 0.000000000 0.001500000 0.000000000\n",
       "60 0.000933078 0.001332973 0.000000000 0.000323864 0.000000000"
      ]
     },
     "metadata": {},
     "output_type": "display_data"
    },
    {
     "data": {
      "text/html": [
       "<table>\n",
       "<thead><tr><th></th><th scope=col>filename</th><th scope=col>MouseID</th><th scope=col>Treatmentgroup</th><th scope=col>DPI</th><th scope=col>organ</th><th scope=col>well_position</th><th scope=col>plate</th><th scope=col>mass_400</th><th scope=col>mass_500</th><th scope=col>mass_600</th><th scope=col>mass_700</th><th scope=col>mass_800</th></tr></thead>\n",
       "<tbody>\n",
       "\t<tr><th scope=row>16</th><td>X581_Group3E_142dpi_LA_176_G_B4_P120.mzXML</td><td>581                                       </td><td>infected                                  </td><td>142dpi                                    </td><td>LA                                        </td><td>B4                                        </td><td>P120                                      </td><td>0.003182039                               </td><td>0.003871148                               </td><td>0.000111846                               </td><td>0.000657259                               </td><td>0.000000000                               </td></tr>\n",
       "\t<tr><th scope=row>17</th><td>X582_Group3E_142dpi_LA_177_G_B5_P120.mzXML</td><td>582                                       </td><td>infected                                  </td><td>142dpi                                    </td><td>LA                                        </td><td>B5                                        </td><td>P120                                      </td><td>0.003804928                               </td><td>0.001831666                               </td><td>0.000019000                               </td><td>0.000824241                               </td><td>0.000000000                               </td></tr>\n",
       "\t<tr><th scope=row>18</th><td>X583_Group3E_142dpi_LA_178_G_B6_P120.mzXML</td><td>583                                       </td><td>infected                                  </td><td>142dpi                                    </td><td>LA                                        </td><td>B6                                        </td><td>P120                                      </td><td>0.001858255                               </td><td>0.002137595                               </td><td>0.000000000                               </td><td>0.000070200                               </td><td>0.000000000                               </td></tr>\n",
       "\t<tr><th scope=row>19</th><td>X584_Group3E_142dpi_LA_179_G_B7_P120.mzXML</td><td>584                                       </td><td>infected                                  </td><td>142dpi                                    </td><td>LA                                        </td><td>B7                                        </td><td>P120                                      </td><td>0.001765435                               </td><td>0.002913983                               </td><td>0.000045900                               </td><td>0.000476821                               </td><td>0.000000000                               </td></tr>\n",
       "\t<tr><th scope=row>20</th><td>X585_Group3E_142dpi_LA_180_G_B8_P120.mzXML</td><td>585                                       </td><td>infected                                  </td><td>142dpi                                    </td><td>LA                                        </td><td>B8                                        </td><td>P120                                      </td><td>0.000944339                               </td><td>0.001841540                               </td><td>0.000000000                               </td><td>0.000359929                               </td><td>0.000000000                               </td></tr>\n",
       "\t<tr><th scope=row>26</th><td>X631_Group15_142dpi_LA_191_G_C7_P120.mzXML</td><td>631                                       </td><td>BNZ                                       </td><td>142dpi                                    </td><td>LA                                        </td><td>C7                                        </td><td>P120                                      </td><td>0.002346225                               </td><td>0.003462907                               </td><td>0.000108091                               </td><td>0.001227320                               </td><td>0.000248173                               </td></tr>\n",
       "</tbody>\n",
       "</table>\n"
      ],
      "text/latex": [
       "\\begin{tabular}{r|llllllllllll}\n",
       "  & filename & MouseID & Treatmentgroup & DPI & organ & well\\_position & plate & mass\\_400 & mass\\_500 & mass\\_600 & mass\\_700 & mass\\_800\\\\\n",
       "\\hline\n",
       "\t16 & X581\\_Group3E\\_142dpi\\_LA\\_176\\_G\\_B4\\_P120.mzXML & 581                                                      & infected                                                 & 142dpi                                                   & LA                                                       & B4                                                       & P120                                                     & 0.003182039                                              & 0.003871148                                              & 0.000111846                                              & 0.000657259                                              & 0.000000000                                             \\\\\n",
       "\t17 & X582\\_Group3E\\_142dpi\\_LA\\_177\\_G\\_B5\\_P120.mzXML & 582                                                      & infected                                                 & 142dpi                                                   & LA                                                       & B5                                                       & P120                                                     & 0.003804928                                              & 0.001831666                                              & 0.000019000                                              & 0.000824241                                              & 0.000000000                                             \\\\\n",
       "\t18 & X583\\_Group3E\\_142dpi\\_LA\\_178\\_G\\_B6\\_P120.mzXML & 583                                                      & infected                                                 & 142dpi                                                   & LA                                                       & B6                                                       & P120                                                     & 0.001858255                                              & 0.002137595                                              & 0.000000000                                              & 0.000070200                                              & 0.000000000                                             \\\\\n",
       "\t19 & X584\\_Group3E\\_142dpi\\_LA\\_179\\_G\\_B7\\_P120.mzXML & 584                                                      & infected                                                 & 142dpi                                                   & LA                                                       & B7                                                       & P120                                                     & 0.001765435                                              & 0.002913983                                              & 0.000045900                                              & 0.000476821                                              & 0.000000000                                             \\\\\n",
       "\t20 & X585\\_Group3E\\_142dpi\\_LA\\_180\\_G\\_B8\\_P120.mzXML & 585                                                      & infected                                                 & 142dpi                                                   & LA                                                       & B8                                                       & P120                                                     & 0.000944339                                              & 0.001841540                                              & 0.000000000                                              & 0.000359929                                              & 0.000000000                                             \\\\\n",
       "\t26 & X631\\_Group15\\_142dpi\\_LA\\_191\\_G\\_C7\\_P120.mzXML & 631                                                      & BNZ                                                      & 142dpi                                                   & LA                                                       & C7                                                       & P120                                                     & 0.002346225                                              & 0.003462907                                              & 0.000108091                                              & 0.001227320                                              & 0.000248173                                             \\\\\n",
       "\\end{tabular}\n"
      ],
      "text/markdown": [
       "\n",
       "| <!--/--> | filename | MouseID | Treatmentgroup | DPI | organ | well_position | plate | mass_400 | mass_500 | mass_600 | mass_700 | mass_800 |\n",
       "|---|---|---|---|---|---|---|---|---|---|---|---|---|\n",
       "| 16 | X581_Group3E_142dpi_LA_176_G_B4_P120.mzXML | 581                                        | infected                                   | 142dpi                                     | LA                                         | B4                                         | P120                                       | 0.003182039                                | 0.003871148                                | 0.000111846                                | 0.000657259                                | 0.000000000                                |\n",
       "| 17 | X582_Group3E_142dpi_LA_177_G_B5_P120.mzXML | 582                                        | infected                                   | 142dpi                                     | LA                                         | B5                                         | P120                                       | 0.003804928                                | 0.001831666                                | 0.000019000                                | 0.000824241                                | 0.000000000                                |\n",
       "| 18 | X583_Group3E_142dpi_LA_178_G_B6_P120.mzXML | 583                                        | infected                                   | 142dpi                                     | LA                                         | B6                                         | P120                                       | 0.001858255                                | 0.002137595                                | 0.000000000                                | 0.000070200                                | 0.000000000                                |\n",
       "| 19 | X584_Group3E_142dpi_LA_179_G_B7_P120.mzXML | 584                                        | infected                                   | 142dpi                                     | LA                                         | B7                                         | P120                                       | 0.001765435                                | 0.002913983                                | 0.000045900                                | 0.000476821                                | 0.000000000                                |\n",
       "| 20 | X585_Group3E_142dpi_LA_180_G_B8_P120.mzXML | 585                                        | infected                                   | 142dpi                                     | LA                                         | B8                                         | P120                                       | 0.000944339                                | 0.001841540                                | 0.000000000                                | 0.000359929                                | 0.000000000                                |\n",
       "| 26 | X631_Group15_142dpi_LA_191_G_C7_P120.mzXML | 631                                        | BNZ                                        | 142dpi                                     | LA                                         | C7                                         | P120                                       | 0.002346225                                | 0.003462907                                | 0.000108091                                | 0.001227320                                | 0.000248173                                |\n",
       "\n"
      ],
      "text/plain": [
       "   filename                                   MouseID Treatmentgroup DPI   \n",
       "16 X581_Group3E_142dpi_LA_176_G_B4_P120.mzXML 581     infected       142dpi\n",
       "17 X582_Group3E_142dpi_LA_177_G_B5_P120.mzXML 582     infected       142dpi\n",
       "18 X583_Group3E_142dpi_LA_178_G_B6_P120.mzXML 583     infected       142dpi\n",
       "19 X584_Group3E_142dpi_LA_179_G_B7_P120.mzXML 584     infected       142dpi\n",
       "20 X585_Group3E_142dpi_LA_180_G_B8_P120.mzXML 585     infected       142dpi\n",
       "26 X631_Group15_142dpi_LA_191_G_C7_P120.mzXML 631     BNZ            142dpi\n",
       "   organ well_position plate mass_400    mass_500    mass_600    mass_700   \n",
       "16 LA    B4            P120  0.003182039 0.003871148 0.000111846 0.000657259\n",
       "17 LA    B5            P120  0.003804928 0.001831666 0.000019000 0.000824241\n",
       "18 LA    B6            P120  0.001858255 0.002137595 0.000000000 0.000070200\n",
       "19 LA    B7            P120  0.001765435 0.002913983 0.000045900 0.000476821\n",
       "20 LA    B8            P120  0.000944339 0.001841540 0.000000000 0.000359929\n",
       "26 LA    C7            P120  0.002346225 0.003462907 0.000108091 0.001227320\n",
       "   mass_800   \n",
       "16 0.000000000\n",
       "17 0.000000000\n",
       "18 0.000000000\n",
       "19 0.000000000\n",
       "20 0.000000000\n",
       "26 0.000248173"
      ]
     },
     "metadata": {},
     "output_type": "display_data"
    },
    {
     "data": {
      "text/html": [
       "<ol class=list-inline>\n",
       "\t<li>30</li>\n",
       "\t<li>12</li>\n",
       "</ol>\n"
      ],
      "text/latex": [
       "\\begin{enumerate*}\n",
       "\\item 30\n",
       "\\item 12\n",
       "\\end{enumerate*}\n"
      ],
      "text/markdown": [
       "1. 30\n",
       "2. 12\n",
       "\n",
       "\n"
      ],
      "text/plain": [
       "[1] 30 12"
      ]
     },
     "metadata": {},
     "output_type": "display_data"
    },
    {
     "data": {
      "text/html": [
       "<ol class=list-inline>\n",
       "\t<li>30</li>\n",
       "\t<li>5</li>\n",
       "</ol>\n"
      ],
      "text/latex": [
       "\\begin{enumerate*}\n",
       "\\item 30\n",
       "\\item 5\n",
       "\\end{enumerate*}\n"
      ],
      "text/markdown": [
       "1. 30\n",
       "2. 5\n",
       "\n",
       "\n"
      ],
      "text/plain": [
       "[1] 30  5"
      ]
     },
     "metadata": {},
     "output_type": "display_data"
    },
    {
     "data": {
      "text/html": [
       "<ol class=list-inline>\n",
       "\t<li>30</li>\n",
       "\t<li>5</li>\n",
       "</ol>\n"
      ],
      "text/latex": [
       "\\begin{enumerate*}\n",
       "\\item 30\n",
       "\\item 5\n",
       "\\end{enumerate*}\n"
      ],
      "text/markdown": [
       "1. 30\n",
       "2. 5\n",
       "\n",
       "\n"
      ],
      "text/plain": [
       "[1] 30  5"
      ]
     },
     "metadata": {},
     "output_type": "display_data"
    },
    {
     "data": {
      "text/html": [
       "<ol class=list-inline>\n",
       "\t<li>30</li>\n",
       "\t<li>12</li>\n",
       "</ol>\n"
      ],
      "text/latex": [
       "\\begin{enumerate*}\n",
       "\\item 30\n",
       "\\item 12\n",
       "\\end{enumerate*}\n"
      ],
      "text/markdown": [
       "1. 30\n",
       "2. 12\n",
       "\n",
       "\n"
      ],
      "text/plain": [
       "[1] 30 12"
      ]
     },
     "metadata": {},
     "output_type": "display_data"
    }
   ],
   "source": [
    "noMeta<-features_pos[,8:12]\n",
    "head(noMeta)\n",
    "not_zero<-which(colSums(noMeta) != 0)\n",
    "head(not_zero)\n",
    "nonzero <- noMeta[, not_zero]\n",
    "nonzero\n",
    "nonzero_wMeta<-cbind(features_pos[,1:7], nonzero)\n",
    "head(nonzero_wMeta)\n",
    "dim(features_pos)\n",
    "dim(noMeta)\n",
    "dim(nonzero)\n",
    "dim(nonzero_wMeta)"
   ]
  },
  {
   "cell_type": "code",
   "execution_count": 5,
   "metadata": {
    "scrolled": true
   },
   "outputs": [
    {
     "name": "stderr",
     "output_type": "stream",
     "text": [
      "Warning message in wilcox.test.default(x = c(0.000108091, 4.84e-05, 2.28e-05, 0, :\n",
      "\"cannot compute exact p-value with ties\"Warning message in wilcox.test.default(x = c(0.00122732, 0, 8.32e-05, 0.000205292, :\n",
      "\"cannot compute exact p-value with ties\"Warning message in wilcox.test.default(x = c(0.000248173, 0, 0, 0, 0, 0, 0, 0, 0, :\n",
      "\"cannot compute exact p-value with ties\""
     ]
    },
    {
     "data": {
      "text/html": [
       "<ol class=list-inline>\n",
       "\t<li>0.0127990313408827</li>\n",
       "\t<li>0.0975257598239064</li>\n",
       "\t<li>0.736814931343811</li>\n",
       "\t<li>0.575085375710953</li>\n",
       "\t<li>0.822934220992531</li>\n",
       "</ol>\n"
      ],
      "text/latex": [
       "\\begin{enumerate*}\n",
       "\\item 0.0127990313408827\n",
       "\\item 0.0975257598239064\n",
       "\\item 0.736814931343811\n",
       "\\item 0.575085375710953\n",
       "\\item 0.822934220992531\n",
       "\\end{enumerate*}\n"
      ],
      "text/markdown": [
       "1. 0.0127990313408827\n",
       "2. 0.0975257598239064\n",
       "3. 0.736814931343811\n",
       "4. 0.575085375710953\n",
       "5. 0.822934220992531\n",
       "\n",
       "\n"
      ],
      "text/plain": [
       "[1] 0.01279903 0.09752576 0.73681493 0.57508538 0.82293422"
      ]
     },
     "metadata": {},
     "output_type": "display_data"
    },
    {
     "data": {
      "text/html": [
       "<ol class=list-inline>\n",
       "\t<li>0.0639951567044135</li>\n",
       "\t<li>0.243814399559766</li>\n",
       "\t<li>0.822934220992531</li>\n",
       "\t<li>0.822934220992531</li>\n",
       "\t<li>0.822934220992531</li>\n",
       "</ol>\n"
      ],
      "text/latex": [
       "\\begin{enumerate*}\n",
       "\\item 0.0639951567044135\n",
       "\\item 0.243814399559766\n",
       "\\item 0.822934220992531\n",
       "\\item 0.822934220992531\n",
       "\\item 0.822934220992531\n",
       "\\end{enumerate*}\n"
      ],
      "text/markdown": [
       "1. 0.0639951567044135\n",
       "2. 0.243814399559766\n",
       "3. 0.822934220992531\n",
       "4. 0.822934220992531\n",
       "5. 0.822934220992531\n",
       "\n",
       "\n"
      ],
      "text/plain": [
       "[1] 0.06399516 0.24381440 0.82293422 0.82293422 0.82293422"
      ]
     },
     "metadata": {},
     "output_type": "display_data"
    }
   ],
   "source": [
    "pval<-c()\n",
    "\n",
    "for (i in 8:ncol(nonzero_wMeta)) \n",
    "pval<-c(pval,wilcox.test(nonzero_wMeta[,i]~nonzero_wMeta$Treatmentgroup)$p.value)\n",
    "head(pval)\n",
    "pAdj <- p.adjust(pval, method = c(\"fdr\"), n=length(pval)) \n",
    "head(pAdj) \n",
    "\n"
   ]
  },
  {
   "cell_type": "code",
   "execution_count": 6,
   "metadata": {
    "scrolled": true
   },
   "outputs": [
    {
     "data": {
      "text/html": [
       "5"
      ],
      "text/latex": [
       "5"
      ],
      "text/markdown": [
       "5"
      ],
      "text/plain": [
       "[1] 5"
      ]
     },
     "metadata": {},
     "output_type": "display_data"
    }
   ],
   "source": [
    "length(pval)"
   ]
  },
  {
   "cell_type": "code",
   "execution_count": 7,
   "metadata": {
    "scrolled": true
   },
   "outputs": [
    {
     "data": {
      "text/html": [
       "5"
      ],
      "text/latex": [
       "5"
      ],
      "text/markdown": [
       "5"
      ],
      "text/plain": [
       "[1] 5"
      ]
     },
     "metadata": {},
     "output_type": "display_data"
    }
   ],
   "source": [
    "length(pAdj)"
   ]
  },
  {
   "cell_type": "code",
   "execution_count": 8,
   "metadata": {},
   "outputs": [
    {
     "data": {
      "text/html": [
       "<ol class=list-inline>\n",
       "\t<li>2</li>\n",
       "\t<li>5</li>\n",
       "</ol>\n"
      ],
      "text/latex": [
       "\\begin{enumerate*}\n",
       "\\item 2\n",
       "\\item 5\n",
       "\\end{enumerate*}\n"
      ],
      "text/markdown": [
       "1. 2\n",
       "2. 5\n",
       "\n",
       "\n"
      ],
      "text/plain": [
       "[1] 2 5"
      ]
     },
     "metadata": {},
     "output_type": "display_data"
    },
    {
     "data": {
      "text/html": [
       "<table>\n",
       "<thead><tr><th></th><th scope=col>mass_400</th><th scope=col>mass_500</th><th scope=col>mass_600</th></tr></thead>\n",
       "<tbody>\n",
       "\t<tr><th scope=row>BNZ</th><td>0.001086847 </td><td>0.001776271 </td><td>1.765273e-05</td></tr>\n",
       "\t<tr><th scope=row>infected</th><td>0.001994611 </td><td>0.002396089 </td><td>1.855640e-05</td></tr>\n",
       "</tbody>\n",
       "</table>\n"
      ],
      "text/latex": [
       "\\begin{tabular}{r|lll}\n",
       "  & mass\\_400 & mass\\_500 & mass\\_600\\\\\n",
       "\\hline\n",
       "\tBNZ & 0.001086847  & 0.001776271  & 1.765273e-05\\\\\n",
       "\tinfected & 0.001994611  & 0.002396089  & 1.855640e-05\\\\\n",
       "\\end{tabular}\n"
      ],
      "text/markdown": [
       "\n",
       "| <!--/--> | mass_400 | mass_500 | mass_600 |\n",
       "|---|---|---|---|\n",
       "| BNZ | 0.001086847  | 0.001776271  | 1.765273e-05 |\n",
       "| infected | 0.001994611  | 0.002396089  | 1.855640e-05 |\n",
       "\n"
      ],
      "text/plain": [
       "         mass_400    mass_500    mass_600    \n",
       "BNZ      0.001086847 0.001776271 1.765273e-05\n",
       "infected 0.001994611 0.002396089 1.855640e-05"
      ]
     },
     "metadata": {},
     "output_type": "display_data"
    },
    {
     "data": {
      "text/html": [
       "<dl class=dl-horizontal>\n",
       "\t<dt>mass_400</dt>\n",
       "\t\t<dd>0.544891905046258</dd>\n",
       "\t<dt>mass_500</dt>\n",
       "\t\t<dd>0.741320947520678</dd>\n",
       "\t<dt>mass_600</dt>\n",
       "\t\t<dd>0.951301617411423</dd>\n",
       "\t<dt>mass_700</dt>\n",
       "\t\t<dd>0.844404293872103</dd>\n",
       "\t<dt>mass_800</dt>\n",
       "\t\t<dd>0.927322436849926</dd>\n",
       "</dl>\n"
      ],
      "text/latex": [
       "\\begin{description*}\n",
       "\\item[mass\\textbackslash{}\\_400] 0.544891905046258\n",
       "\\item[mass\\textbackslash{}\\_500] 0.741320947520678\n",
       "\\item[mass\\textbackslash{}\\_600] 0.951301617411423\n",
       "\\item[mass\\textbackslash{}\\_700] 0.844404293872103\n",
       "\\item[mass\\textbackslash{}\\_800] 0.927322436849926\n",
       "\\end{description*}\n"
      ],
      "text/markdown": [
       "mass_400\n",
       ":   0.544891905046258mass_500\n",
       ":   0.741320947520678mass_600\n",
       ":   0.951301617411423mass_700\n",
       ":   0.844404293872103mass_800\n",
       ":   0.927322436849926\n",
       "\n"
      ],
      "text/plain": [
       " mass_400  mass_500  mass_600  mass_700  mass_800 \n",
       "0.5448919 0.7413209 0.9513016 0.8444043 0.9273224 "
      ]
     },
     "metadata": {},
     "output_type": "display_data"
    },
    {
     "data": {
      "text/html": [
       "<ol class=list-inline>\n",
       "\t<li>'numeric'</li>\n",
       "\t<li>'vector'</li>\n",
       "</ol>\n"
      ],
      "text/latex": [
       "\\begin{enumerate*}\n",
       "\\item 'numeric'\n",
       "\\item 'vector'\n",
       "\\end{enumerate*}\n"
      ],
      "text/markdown": [
       "1. 'numeric'\n",
       "2. 'vector'\n",
       "\n",
       "\n"
      ],
      "text/plain": [
       "[1] \"numeric\" \"vector\" "
      ]
     },
     "metadata": {},
     "output_type": "display_data"
    }
   ],
   "source": [
    "avg<- apply(nonzero_wMeta[,8:ncol(nonzero_wMeta)], 2, function(x) tapply(x, nonzero_wMeta$Treatmentgroup, function(x) mean(x))) \n",
    "\n",
    "dim(avg)\n",
    "\n",
    "avg[,1:3]\n",
    "\n",
    "fch <- apply(avg, 2, function(x) x[1]/x[2])\n",
    "\n",
    "head(fch)\n",
    "is(fch)"
   ]
  },
  {
   "cell_type": "code",
   "execution_count": 9,
   "metadata": {
    "scrolled": true
   },
   "outputs": [
    {
     "data": {
      "text/html": [
       "<dl class=dl-horizontal>\n",
       "\t<dt>mass_400</dt>\n",
       "\t\t<dd>0.544891905046258</dd>\n",
       "\t<dt>mass_500</dt>\n",
       "\t\t<dd>0.741320947520678</dd>\n",
       "\t<dt>mass_600</dt>\n",
       "\t\t<dd>0.951301617411423</dd>\n",
       "\t<dt>mass_700</dt>\n",
       "\t\t<dd>0.844404293872103</dd>\n",
       "\t<dt>mass_800</dt>\n",
       "\t\t<dd>0.927322436849926</dd>\n",
       "</dl>\n"
      ],
      "text/latex": [
       "\\begin{description*}\n",
       "\\item[mass\\textbackslash{}\\_400] 0.544891905046258\n",
       "\\item[mass\\textbackslash{}\\_500] 0.741320947520678\n",
       "\\item[mass\\textbackslash{}\\_600] 0.951301617411423\n",
       "\\item[mass\\textbackslash{}\\_700] 0.844404293872103\n",
       "\\item[mass\\textbackslash{}\\_800] 0.927322436849926\n",
       "\\end{description*}\n"
      ],
      "text/markdown": [
       "mass_400\n",
       ":   0.544891905046258mass_500\n",
       ":   0.741320947520678mass_600\n",
       ":   0.951301617411423mass_700\n",
       ":   0.844404293872103mass_800\n",
       ":   0.927322436849926\n",
       "\n"
      ],
      "text/plain": [
       " mass_400  mass_500  mass_600  mass_700  mass_800 \n",
       "0.5448919 0.7413209 0.9513016 0.8444043 0.9273224 "
      ]
     },
     "metadata": {},
     "output_type": "display_data"
    }
   ],
   "source": [
    "fch"
   ]
  },
  {
   "cell_type": "code",
   "execution_count": 10,
   "metadata": {
    "scrolled": false
   },
   "outputs": [],
   "source": [
    "df <- data.frame(fch,pval, pAdj)\n",
    "write.csv(df, \"PE-treat-LA-wilcox-infected-BNZ.csv\")"
   ]
  },
  {
   "cell_type": "code",
   "execution_count": null,
   "metadata": {},
   "outputs": [],
   "source": []
  },
  {
   "cell_type": "code",
   "execution_count": null,
   "metadata": {},
   "outputs": [],
   "source": []
  },
  {
   "cell_type": "code",
   "execution_count": null,
   "metadata": {},
   "outputs": [],
   "source": []
  },
  {
   "cell_type": "code",
   "execution_count": null,
   "metadata": {},
   "outputs": [],
   "source": []
  },
  {
   "cell_type": "code",
   "execution_count": null,
   "metadata": {},
   "outputs": [],
   "source": []
  },
  {
   "cell_type": "code",
   "execution_count": null,
   "metadata": {},
   "outputs": [],
   "source": []
  }
 ],
 "metadata": {
  "kernelspec": {
   "display_name": "R",
   "language": "R",
   "name": "ir"
  },
  "language_info": {
   "codemirror_mode": "r",
   "file_extension": ".r",
   "mimetype": "text/x-r-source",
   "name": "R",
   "pygments_lexer": "r",
   "version": "3.6.1"
  }
 },
 "nbformat": 4,
 "nbformat_minor": 2
}
