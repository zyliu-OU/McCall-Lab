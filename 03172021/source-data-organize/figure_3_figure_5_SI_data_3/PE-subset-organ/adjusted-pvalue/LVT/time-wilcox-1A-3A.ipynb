{
 "cells": [
  {
   "cell_type": "code",
   "execution_count": 1,
   "metadata": {},
   "outputs": [],
   "source": [
    "a <- read.csv(\"03172021-PE-time-LVT-M-F.csv\")"
   ]
  },
  {
   "cell_type": "code",
   "execution_count": 2,
   "metadata": {},
   "outputs": [
    {
     "data": {
      "text/html": [
       "<table>\n",
       "<thead><tr><th scope=col>filename</th><th scope=col>MouseID</th><th scope=col>Treatmentgroup</th><th scope=col>status</th><th scope=col>DPI</th><th scope=col>organ</th><th scope=col>well_position</th><th scope=col>plate</th><th scope=col>mass_400</th><th scope=col>mass_500</th><th scope=col>mass_600</th><th scope=col>mass_700</th><th scope=col>mass_800</th></tr></thead>\n",
       "<tbody>\n",
       "\t<tr><td>X501_Group1A_50dpi_LV_top_251_B_A1_P129.mzXML</td><td>501                                          </td><td>Group1A                                      </td><td>naive                                        </td><td>50dpi                                        </td><td>LV_top                                       </td><td>A1                                           </td><td>P129                                         </td><td>0.01053354                                   </td><td>0.02046503                                   </td><td>0.000721330                                  </td><td>0.001451111                                  </td><td>0.000097400                                  </td></tr>\n",
       "\t<tr><td>X502_Group1A_50dpi_LV_top_252_B_A2_P129.mzXML</td><td>502                                          </td><td>Group1A                                      </td><td>naive                                        </td><td>50dpi                                        </td><td>LV_top                                       </td><td>A2                                           </td><td>P129                                         </td><td>0.01021398                                   </td><td>0.02092002                                   </td><td>0.000570535                                  </td><td>0.004060000                                  </td><td>0.000000000                                  </td></tr>\n",
       "\t<tr><td>X503_Group1A_50dpi_LV_top_253_B_A3_P129.mzXML</td><td>503                                          </td><td>Group1A                                      </td><td>naive                                        </td><td>50dpi                                        </td><td>LV_top                                       </td><td>A3                                           </td><td>P129                                         </td><td>0.01201106                                   </td><td>0.02075585                                   </td><td>0.000657954                                  </td><td>0.004291087                                  </td><td>0.000000000                                  </td></tr>\n",
       "\t<tr><td>X504_Group1A_50dpi_LV_top_254_B_A4_P129.mzXML</td><td>504                                          </td><td>Group1A                                      </td><td>naive                                        </td><td>50dpi                                        </td><td>LV_top                                       </td><td>A4                                           </td><td>P129                                         </td><td>0.01001927                                   </td><td>0.02091586                                   </td><td>0.001080712                                  </td><td>0.001449577                                  </td><td>0.000000000                                  </td></tr>\n",
       "\t<tr><td>X505_Group1A_50dpi_LV_top_255_B_A5_P129.mzXML</td><td>505                                          </td><td>Group1A                                      </td><td>naive                                        </td><td>50dpi                                        </td><td>LV_top                                       </td><td>A5                                           </td><td>P129                                         </td><td>0.01026407                                   </td><td>0.01977764                                   </td><td>0.001055370                                  </td><td>0.001997117                                  </td><td>0.000129107                                  </td></tr>\n",
       "\t<tr><td>X521_Group1A_50dpi_LV_top_256_B_A6_P129.mzXML</td><td>521                                          </td><td>Group1A                                      </td><td>naive                                        </td><td>50dpi                                        </td><td>LV_top                                       </td><td>A6                                           </td><td>P129                                         </td><td>0.01061997                                   </td><td>0.02200000                                   </td><td>0.000305079                                  </td><td>0.001969700                                  </td><td>0.000000000                                  </td></tr>\n",
       "</tbody>\n",
       "</table>\n"
      ],
      "text/latex": [
       "\\begin{tabular}{r|lllllllllllll}\n",
       " filename & MouseID & Treatmentgroup & status & DPI & organ & well\\_position & plate & mass\\_400 & mass\\_500 & mass\\_600 & mass\\_700 & mass\\_800\\\\\n",
       "\\hline\n",
       "\t X501\\_Group1A\\_50dpi\\_LV\\_top\\_251\\_B\\_A1\\_P129.mzXML & 501                                                           & Group1A                                                       & naive                                                         & 50dpi                                                         & LV\\_top                                                      & A1                                                            & P129                                                          & 0.01053354                                                    & 0.02046503                                                    & 0.000721330                                                   & 0.001451111                                                   & 0.000097400                                                  \\\\\n",
       "\t X502\\_Group1A\\_50dpi\\_LV\\_top\\_252\\_B\\_A2\\_P129.mzXML & 502                                                           & Group1A                                                       & naive                                                         & 50dpi                                                         & LV\\_top                                                      & A2                                                            & P129                                                          & 0.01021398                                                    & 0.02092002                                                    & 0.000570535                                                   & 0.004060000                                                   & 0.000000000                                                  \\\\\n",
       "\t X503\\_Group1A\\_50dpi\\_LV\\_top\\_253\\_B\\_A3\\_P129.mzXML & 503                                                           & Group1A                                                       & naive                                                         & 50dpi                                                         & LV\\_top                                                      & A3                                                            & P129                                                          & 0.01201106                                                    & 0.02075585                                                    & 0.000657954                                                   & 0.004291087                                                   & 0.000000000                                                  \\\\\n",
       "\t X504\\_Group1A\\_50dpi\\_LV\\_top\\_254\\_B\\_A4\\_P129.mzXML & 504                                                           & Group1A                                                       & naive                                                         & 50dpi                                                         & LV\\_top                                                      & A4                                                            & P129                                                          & 0.01001927                                                    & 0.02091586                                                    & 0.001080712                                                   & 0.001449577                                                   & 0.000000000                                                  \\\\\n",
       "\t X505\\_Group1A\\_50dpi\\_LV\\_top\\_255\\_B\\_A5\\_P129.mzXML & 505                                                           & Group1A                                                       & naive                                                         & 50dpi                                                         & LV\\_top                                                      & A5                                                            & P129                                                          & 0.01026407                                                    & 0.01977764                                                    & 0.001055370                                                   & 0.001997117                                                   & 0.000129107                                                  \\\\\n",
       "\t X521\\_Group1A\\_50dpi\\_LV\\_top\\_256\\_B\\_A6\\_P129.mzXML & 521                                                           & Group1A                                                       & naive                                                         & 50dpi                                                         & LV\\_top                                                      & A6                                                            & P129                                                          & 0.01061997                                                    & 0.02200000                                                    & 0.000305079                                                   & 0.001969700                                                   & 0.000000000                                                  \\\\\n",
       "\\end{tabular}\n"
      ],
      "text/markdown": [
       "\n",
       "| filename | MouseID | Treatmentgroup | status | DPI | organ | well_position | plate | mass_400 | mass_500 | mass_600 | mass_700 | mass_800 |\n",
       "|---|---|---|---|---|---|---|---|---|---|---|---|---|\n",
       "| X501_Group1A_50dpi_LV_top_251_B_A1_P129.mzXML | 501                                           | Group1A                                       | naive                                         | 50dpi                                         | LV_top                                        | A1                                            | P129                                          | 0.01053354                                    | 0.02046503                                    | 0.000721330                                   | 0.001451111                                   | 0.000097400                                   |\n",
       "| X502_Group1A_50dpi_LV_top_252_B_A2_P129.mzXML | 502                                           | Group1A                                       | naive                                         | 50dpi                                         | LV_top                                        | A2                                            | P129                                          | 0.01021398                                    | 0.02092002                                    | 0.000570535                                   | 0.004060000                                   | 0.000000000                                   |\n",
       "| X503_Group1A_50dpi_LV_top_253_B_A3_P129.mzXML | 503                                           | Group1A                                       | naive                                         | 50dpi                                         | LV_top                                        | A3                                            | P129                                          | 0.01201106                                    | 0.02075585                                    | 0.000657954                                   | 0.004291087                                   | 0.000000000                                   |\n",
       "| X504_Group1A_50dpi_LV_top_254_B_A4_P129.mzXML | 504                                           | Group1A                                       | naive                                         | 50dpi                                         | LV_top                                        | A4                                            | P129                                          | 0.01001927                                    | 0.02091586                                    | 0.001080712                                   | 0.001449577                                   | 0.000000000                                   |\n",
       "| X505_Group1A_50dpi_LV_top_255_B_A5_P129.mzXML | 505                                           | Group1A                                       | naive                                         | 50dpi                                         | LV_top                                        | A5                                            | P129                                          | 0.01026407                                    | 0.01977764                                    | 0.001055370                                   | 0.001997117                                   | 0.000129107                                   |\n",
       "| X521_Group1A_50dpi_LV_top_256_B_A6_P129.mzXML | 521                                           | Group1A                                       | naive                                         | 50dpi                                         | LV_top                                        | A6                                            | P129                                          | 0.01061997                                    | 0.02200000                                    | 0.000305079                                   | 0.001969700                                   | 0.000000000                                   |\n",
       "\n"
      ],
      "text/plain": [
       "  filename                                      MouseID Treatmentgroup status\n",
       "1 X501_Group1A_50dpi_LV_top_251_B_A1_P129.mzXML 501     Group1A        naive \n",
       "2 X502_Group1A_50dpi_LV_top_252_B_A2_P129.mzXML 502     Group1A        naive \n",
       "3 X503_Group1A_50dpi_LV_top_253_B_A3_P129.mzXML 503     Group1A        naive \n",
       "4 X504_Group1A_50dpi_LV_top_254_B_A4_P129.mzXML 504     Group1A        naive \n",
       "5 X505_Group1A_50dpi_LV_top_255_B_A5_P129.mzXML 505     Group1A        naive \n",
       "6 X521_Group1A_50dpi_LV_top_256_B_A6_P129.mzXML 521     Group1A        naive \n",
       "  DPI   organ  well_position plate mass_400   mass_500   mass_600   \n",
       "1 50dpi LV_top A1            P129  0.01053354 0.02046503 0.000721330\n",
       "2 50dpi LV_top A2            P129  0.01021398 0.02092002 0.000570535\n",
       "3 50dpi LV_top A3            P129  0.01201106 0.02075585 0.000657954\n",
       "4 50dpi LV_top A4            P129  0.01001927 0.02091586 0.001080712\n",
       "5 50dpi LV_top A5            P129  0.01026407 0.01977764 0.001055370\n",
       "6 50dpi LV_top A6            P129  0.01061997 0.02200000 0.000305079\n",
       "  mass_700    mass_800   \n",
       "1 0.001451111 0.000097400\n",
       "2 0.004060000 0.000000000\n",
       "3 0.004291087 0.000000000\n",
       "4 0.001449577 0.000000000\n",
       "5 0.001997117 0.000129107\n",
       "6 0.001969700 0.000000000"
      ]
     },
     "metadata": {},
     "output_type": "display_data"
    },
    {
     "data": {
      "text/html": [
       "<ol class=list-inline>\n",
       "\t<li>90</li>\n",
       "\t<li>13</li>\n",
       "</ol>\n"
      ],
      "text/latex": [
       "\\begin{enumerate*}\n",
       "\\item 90\n",
       "\\item 13\n",
       "\\end{enumerate*}\n"
      ],
      "text/markdown": [
       "1. 90\n",
       "2. 13\n",
       "\n",
       "\n"
      ],
      "text/plain": [
       "[1] 90 13"
      ]
     },
     "metadata": {},
     "output_type": "display_data"
    }
   ],
   "source": [
    "head(a)\n",
    "dim(a)"
   ]
  },
  {
   "cell_type": "code",
   "execution_count": 3,
   "metadata": {},
   "outputs": [
    {
     "data": {
      "text/html": [
       "<table>\n",
       "<thead><tr><th scope=col>filename</th><th scope=col>MouseID</th><th scope=col>Treatmentgroup</th><th scope=col>status</th><th scope=col>DPI</th><th scope=col>organ</th><th scope=col>well_position</th><th scope=col>plate</th><th scope=col>mass_400</th><th scope=col>mass_500</th><th scope=col>mass_600</th><th scope=col>mass_700</th><th scope=col>mass_800</th></tr></thead>\n",
       "<tbody>\n",
       "\t<tr><td>X501_Group1A_50dpi_LV_top_251_B_A1_P129.mzXML</td><td>501                                          </td><td>Group1A                                      </td><td>naive                                        </td><td>50dpi                                        </td><td>LV_top                                       </td><td>A1                                           </td><td>P129                                         </td><td>0.01053354                                   </td><td>0.02046503                                   </td><td>0.000721330                                  </td><td>0.001451111                                  </td><td>0.000097400                                  </td></tr>\n",
       "\t<tr><td>X502_Group1A_50dpi_LV_top_252_B_A2_P129.mzXML</td><td>502                                          </td><td>Group1A                                      </td><td>naive                                        </td><td>50dpi                                        </td><td>LV_top                                       </td><td>A2                                           </td><td>P129                                         </td><td>0.01021398                                   </td><td>0.02092002                                   </td><td>0.000570535                                  </td><td>0.004060000                                  </td><td>0.000000000                                  </td></tr>\n",
       "\t<tr><td>X503_Group1A_50dpi_LV_top_253_B_A3_P129.mzXML</td><td>503                                          </td><td>Group1A                                      </td><td>naive                                        </td><td>50dpi                                        </td><td>LV_top                                       </td><td>A3                                           </td><td>P129                                         </td><td>0.01201106                                   </td><td>0.02075585                                   </td><td>0.000657954                                  </td><td>0.004291087                                  </td><td>0.000000000                                  </td></tr>\n",
       "\t<tr><td>X504_Group1A_50dpi_LV_top_254_B_A4_P129.mzXML</td><td>504                                          </td><td>Group1A                                      </td><td>naive                                        </td><td>50dpi                                        </td><td>LV_top                                       </td><td>A4                                           </td><td>P129                                         </td><td>0.01001927                                   </td><td>0.02091586                                   </td><td>0.001080712                                  </td><td>0.001449577                                  </td><td>0.000000000                                  </td></tr>\n",
       "\t<tr><td>X505_Group1A_50dpi_LV_top_255_B_A5_P129.mzXML</td><td>505                                          </td><td>Group1A                                      </td><td>naive                                        </td><td>50dpi                                        </td><td>LV_top                                       </td><td>A5                                           </td><td>P129                                         </td><td>0.01026407                                   </td><td>0.01977764                                   </td><td>0.001055370                                  </td><td>0.001997117                                  </td><td>0.000129107                                  </td></tr>\n",
       "\t<tr><td>X521_Group1A_50dpi_LV_top_256_B_A6_P129.mzXML</td><td>521                                          </td><td>Group1A                                      </td><td>naive                                        </td><td>50dpi                                        </td><td>LV_top                                       </td><td>A6                                           </td><td>P129                                         </td><td>0.01061997                                   </td><td>0.02200000                                   </td><td>0.000305079                                  </td><td>0.001969700                                  </td><td>0.000000000                                  </td></tr>\n",
       "</tbody>\n",
       "</table>\n"
      ],
      "text/latex": [
       "\\begin{tabular}{r|lllllllllllll}\n",
       " filename & MouseID & Treatmentgroup & status & DPI & organ & well\\_position & plate & mass\\_400 & mass\\_500 & mass\\_600 & mass\\_700 & mass\\_800\\\\\n",
       "\\hline\n",
       "\t X501\\_Group1A\\_50dpi\\_LV\\_top\\_251\\_B\\_A1\\_P129.mzXML & 501                                                           & Group1A                                                       & naive                                                         & 50dpi                                                         & LV\\_top                                                      & A1                                                            & P129                                                          & 0.01053354                                                    & 0.02046503                                                    & 0.000721330                                                   & 0.001451111                                                   & 0.000097400                                                  \\\\\n",
       "\t X502\\_Group1A\\_50dpi\\_LV\\_top\\_252\\_B\\_A2\\_P129.mzXML & 502                                                           & Group1A                                                       & naive                                                         & 50dpi                                                         & LV\\_top                                                      & A2                                                            & P129                                                          & 0.01021398                                                    & 0.02092002                                                    & 0.000570535                                                   & 0.004060000                                                   & 0.000000000                                                  \\\\\n",
       "\t X503\\_Group1A\\_50dpi\\_LV\\_top\\_253\\_B\\_A3\\_P129.mzXML & 503                                                           & Group1A                                                       & naive                                                         & 50dpi                                                         & LV\\_top                                                      & A3                                                            & P129                                                          & 0.01201106                                                    & 0.02075585                                                    & 0.000657954                                                   & 0.004291087                                                   & 0.000000000                                                  \\\\\n",
       "\t X504\\_Group1A\\_50dpi\\_LV\\_top\\_254\\_B\\_A4\\_P129.mzXML & 504                                                           & Group1A                                                       & naive                                                         & 50dpi                                                         & LV\\_top                                                      & A4                                                            & P129                                                          & 0.01001927                                                    & 0.02091586                                                    & 0.001080712                                                   & 0.001449577                                                   & 0.000000000                                                  \\\\\n",
       "\t X505\\_Group1A\\_50dpi\\_LV\\_top\\_255\\_B\\_A5\\_P129.mzXML & 505                                                           & Group1A                                                       & naive                                                         & 50dpi                                                         & LV\\_top                                                      & A5                                                            & P129                                                          & 0.01026407                                                    & 0.01977764                                                    & 0.001055370                                                   & 0.001997117                                                   & 0.000129107                                                  \\\\\n",
       "\t X521\\_Group1A\\_50dpi\\_LV\\_top\\_256\\_B\\_A6\\_P129.mzXML & 521                                                           & Group1A                                                       & naive                                                         & 50dpi                                                         & LV\\_top                                                      & A6                                                            & P129                                                          & 0.01061997                                                    & 0.02200000                                                    & 0.000305079                                                   & 0.001969700                                                   & 0.000000000                                                  \\\\\n",
       "\\end{tabular}\n"
      ],
      "text/markdown": [
       "\n",
       "| filename | MouseID | Treatmentgroup | status | DPI | organ | well_position | plate | mass_400 | mass_500 | mass_600 | mass_700 | mass_800 |\n",
       "|---|---|---|---|---|---|---|---|---|---|---|---|---|\n",
       "| X501_Group1A_50dpi_LV_top_251_B_A1_P129.mzXML | 501                                           | Group1A                                       | naive                                         | 50dpi                                         | LV_top                                        | A1                                            | P129                                          | 0.01053354                                    | 0.02046503                                    | 0.000721330                                   | 0.001451111                                   | 0.000097400                                   |\n",
       "| X502_Group1A_50dpi_LV_top_252_B_A2_P129.mzXML | 502                                           | Group1A                                       | naive                                         | 50dpi                                         | LV_top                                        | A2                                            | P129                                          | 0.01021398                                    | 0.02092002                                    | 0.000570535                                   | 0.004060000                                   | 0.000000000                                   |\n",
       "| X503_Group1A_50dpi_LV_top_253_B_A3_P129.mzXML | 503                                           | Group1A                                       | naive                                         | 50dpi                                         | LV_top                                        | A3                                            | P129                                          | 0.01201106                                    | 0.02075585                                    | 0.000657954                                   | 0.004291087                                   | 0.000000000                                   |\n",
       "| X504_Group1A_50dpi_LV_top_254_B_A4_P129.mzXML | 504                                           | Group1A                                       | naive                                         | 50dpi                                         | LV_top                                        | A4                                            | P129                                          | 0.01001927                                    | 0.02091586                                    | 0.001080712                                   | 0.001449577                                   | 0.000000000                                   |\n",
       "| X505_Group1A_50dpi_LV_top_255_B_A5_P129.mzXML | 505                                           | Group1A                                       | naive                                         | 50dpi                                         | LV_top                                        | A5                                            | P129                                          | 0.01026407                                    | 0.01977764                                    | 0.001055370                                   | 0.001997117                                   | 0.000129107                                   |\n",
       "| X521_Group1A_50dpi_LV_top_256_B_A6_P129.mzXML | 521                                           | Group1A                                       | naive                                         | 50dpi                                         | LV_top                                        | A6                                            | P129                                          | 0.01061997                                    | 0.02200000                                    | 0.000305079                                   | 0.001969700                                   | 0.000000000                                   |\n",
       "\n"
      ],
      "text/plain": [
       "  filename                                      MouseID Treatmentgroup status\n",
       "1 X501_Group1A_50dpi_LV_top_251_B_A1_P129.mzXML 501     Group1A        naive \n",
       "2 X502_Group1A_50dpi_LV_top_252_B_A2_P129.mzXML 502     Group1A        naive \n",
       "3 X503_Group1A_50dpi_LV_top_253_B_A3_P129.mzXML 503     Group1A        naive \n",
       "4 X504_Group1A_50dpi_LV_top_254_B_A4_P129.mzXML 504     Group1A        naive \n",
       "5 X505_Group1A_50dpi_LV_top_255_B_A5_P129.mzXML 505     Group1A        naive \n",
       "6 X521_Group1A_50dpi_LV_top_256_B_A6_P129.mzXML 521     Group1A        naive \n",
       "  DPI   organ  well_position plate mass_400   mass_500   mass_600   \n",
       "1 50dpi LV_top A1            P129  0.01053354 0.02046503 0.000721330\n",
       "2 50dpi LV_top A2            P129  0.01021398 0.02092002 0.000570535\n",
       "3 50dpi LV_top A3            P129  0.01201106 0.02075585 0.000657954\n",
       "4 50dpi LV_top A4            P129  0.01001927 0.02091586 0.001080712\n",
       "5 50dpi LV_top A5            P129  0.01026407 0.01977764 0.001055370\n",
       "6 50dpi LV_top A6            P129  0.01061997 0.02200000 0.000305079\n",
       "  mass_700    mass_800   \n",
       "1 0.001451111 0.000097400\n",
       "2 0.004060000 0.000000000\n",
       "3 0.004291087 0.000000000\n",
       "4 0.001449577 0.000000000\n",
       "5 0.001997117 0.000129107\n",
       "6 0.001969700 0.000000000"
      ]
     },
     "metadata": {},
     "output_type": "display_data"
    },
    {
     "data": {
      "text/html": [
       "<ol class=list-inline>\n",
       "\t<li>30</li>\n",
       "\t<li>13</li>\n",
       "</ol>\n"
      ],
      "text/latex": [
       "\\begin{enumerate*}\n",
       "\\item 30\n",
       "\\item 13\n",
       "\\end{enumerate*}\n"
      ],
      "text/markdown": [
       "1. 30\n",
       "2. 13\n",
       "\n",
       "\n"
      ],
      "text/plain": [
       "[1] 30 13"
      ]
     },
     "metadata": {},
     "output_type": "display_data"
    }
   ],
   "source": [
    "features_pos<-droplevels(subset(a, a$Treatmentgroup==c(\"Group1A\")|a$Treatmentgroup==c(\"Group3A\")))\n",
    "head(features_pos)\n",
    "dim(features_pos)"
   ]
  },
  {
   "cell_type": "code",
   "execution_count": 4,
   "metadata": {
    "scrolled": false
   },
   "outputs": [
    {
     "data": {
      "text/html": [
       "<table>\n",
       "<thead><tr><th scope=col>mass_400</th><th scope=col>mass_500</th><th scope=col>mass_600</th><th scope=col>mass_700</th><th scope=col>mass_800</th></tr></thead>\n",
       "<tbody>\n",
       "\t<tr><td>0.01053354 </td><td>0.02046503 </td><td>0.000721330</td><td>0.001451111</td><td>0.000097400</td></tr>\n",
       "\t<tr><td>0.01021398 </td><td>0.02092002 </td><td>0.000570535</td><td>0.004060000</td><td>0.000000000</td></tr>\n",
       "\t<tr><td>0.01201106 </td><td>0.02075585 </td><td>0.000657954</td><td>0.004291087</td><td>0.000000000</td></tr>\n",
       "\t<tr><td>0.01001927 </td><td>0.02091586 </td><td>0.001080712</td><td>0.001449577</td><td>0.000000000</td></tr>\n",
       "\t<tr><td>0.01026407 </td><td>0.01977764 </td><td>0.001055370</td><td>0.001997117</td><td>0.000129107</td></tr>\n",
       "\t<tr><td>0.01061997 </td><td>0.02200000 </td><td>0.000305079</td><td>0.001969700</td><td>0.000000000</td></tr>\n",
       "</tbody>\n",
       "</table>\n"
      ],
      "text/latex": [
       "\\begin{tabular}{r|lllll}\n",
       " mass\\_400 & mass\\_500 & mass\\_600 & mass\\_700 & mass\\_800\\\\\n",
       "\\hline\n",
       "\t 0.01053354  & 0.02046503  & 0.000721330 & 0.001451111 & 0.000097400\\\\\n",
       "\t 0.01021398  & 0.02092002  & 0.000570535 & 0.004060000 & 0.000000000\\\\\n",
       "\t 0.01201106  & 0.02075585  & 0.000657954 & 0.004291087 & 0.000000000\\\\\n",
       "\t 0.01001927  & 0.02091586  & 0.001080712 & 0.001449577 & 0.000000000\\\\\n",
       "\t 0.01026407  & 0.01977764  & 0.001055370 & 0.001997117 & 0.000129107\\\\\n",
       "\t 0.01061997  & 0.02200000  & 0.000305079 & 0.001969700 & 0.000000000\\\\\n",
       "\\end{tabular}\n"
      ],
      "text/markdown": [
       "\n",
       "| mass_400 | mass_500 | mass_600 | mass_700 | mass_800 |\n",
       "|---|---|---|---|---|\n",
       "| 0.01053354  | 0.02046503  | 0.000721330 | 0.001451111 | 0.000097400 |\n",
       "| 0.01021398  | 0.02092002  | 0.000570535 | 0.004060000 | 0.000000000 |\n",
       "| 0.01201106  | 0.02075585  | 0.000657954 | 0.004291087 | 0.000000000 |\n",
       "| 0.01001927  | 0.02091586  | 0.001080712 | 0.001449577 | 0.000000000 |\n",
       "| 0.01026407  | 0.01977764  | 0.001055370 | 0.001997117 | 0.000129107 |\n",
       "| 0.01061997  | 0.02200000  | 0.000305079 | 0.001969700 | 0.000000000 |\n",
       "\n"
      ],
      "text/plain": [
       "  mass_400   mass_500   mass_600    mass_700    mass_800   \n",
       "1 0.01053354 0.02046503 0.000721330 0.001451111 0.000097400\n",
       "2 0.01021398 0.02092002 0.000570535 0.004060000 0.000000000\n",
       "3 0.01201106 0.02075585 0.000657954 0.004291087 0.000000000\n",
       "4 0.01001927 0.02091586 0.001080712 0.001449577 0.000000000\n",
       "5 0.01026407 0.01977764 0.001055370 0.001997117 0.000129107\n",
       "6 0.01061997 0.02200000 0.000305079 0.001969700 0.000000000"
      ]
     },
     "metadata": {},
     "output_type": "display_data"
    },
    {
     "data": {
      "text/html": [
       "<dl class=dl-horizontal>\n",
       "\t<dt>mass_400</dt>\n",
       "\t\t<dd>1</dd>\n",
       "\t<dt>mass_500</dt>\n",
       "\t\t<dd>2</dd>\n",
       "\t<dt>mass_600</dt>\n",
       "\t\t<dd>3</dd>\n",
       "\t<dt>mass_700</dt>\n",
       "\t\t<dd>4</dd>\n",
       "\t<dt>mass_800</dt>\n",
       "\t\t<dd>5</dd>\n",
       "</dl>\n"
      ],
      "text/latex": [
       "\\begin{description*}\n",
       "\\item[mass\\textbackslash{}\\_400] 1\n",
       "\\item[mass\\textbackslash{}\\_500] 2\n",
       "\\item[mass\\textbackslash{}\\_600] 3\n",
       "\\item[mass\\textbackslash{}\\_700] 4\n",
       "\\item[mass\\textbackslash{}\\_800] 5\n",
       "\\end{description*}\n"
      ],
      "text/markdown": [
       "mass_400\n",
       ":   1mass_500\n",
       ":   2mass_600\n",
       ":   3mass_700\n",
       ":   4mass_800\n",
       ":   5\n",
       "\n"
      ],
      "text/plain": [
       "mass_400 mass_500 mass_600 mass_700 mass_800 \n",
       "       1        2        3        4        5 "
      ]
     },
     "metadata": {},
     "output_type": "display_data"
    },
    {
     "data": {
      "text/html": [
       "<table>\n",
       "<thead><tr><th></th><th scope=col>mass_400</th><th scope=col>mass_500</th><th scope=col>mass_600</th><th scope=col>mass_700</th><th scope=col>mass_800</th></tr></thead>\n",
       "<tbody>\n",
       "\t<tr><th scope=row>1</th><td>0.010533542</td><td>0.020465031</td><td>0.000721330</td><td>0.001451111</td><td>0.000097400</td></tr>\n",
       "\t<tr><th scope=row>2</th><td>0.010213984</td><td>0.020920025</td><td>0.000570535</td><td>0.004060000</td><td>0.000000000</td></tr>\n",
       "\t<tr><th scope=row>3</th><td>0.012011057</td><td>0.020755847</td><td>0.000657954</td><td>0.004291087</td><td>0.000000000</td></tr>\n",
       "\t<tr><th scope=row>4</th><td>0.010019269</td><td>0.020915855</td><td>0.001080712</td><td>0.001449577</td><td>0.000000000</td></tr>\n",
       "\t<tr><th scope=row>5</th><td>0.010264075</td><td>0.019777644</td><td>0.001055370</td><td>0.001997117</td><td>0.000129107</td></tr>\n",
       "\t<tr><th scope=row>6</th><td>0.010619971</td><td>0.022000000</td><td>0.000305079</td><td>0.001969700</td><td>0.000000000</td></tr>\n",
       "\t<tr><th scope=row>7</th><td>0.008922815</td><td>0.020976748</td><td>0.000666238</td><td>0.002645488</td><td>0.000368525</td></tr>\n",
       "\t<tr><th scope=row>8</th><td>0.009318406</td><td>0.026323195</td><td>0.001103235</td><td>0.000238157</td><td>0.000000000</td></tr>\n",
       "\t<tr><th scope=row>9</th><td>0.008579264</td><td>0.022121349</td><td>0.000952653</td><td>0.000045900</td><td>0.000000000</td></tr>\n",
       "\t<tr><th scope=row>10</th><td>0.004493871</td><td>0.016600000</td><td>0.000576179</td><td>0.002515044</td><td>0.000031600</td></tr>\n",
       "\t<tr><th scope=row>11</th><td>0.002529754</td><td>0.010782801</td><td>0.000157701</td><td>0.000671396</td><td>0.000000000</td></tr>\n",
       "\t<tr><th scope=row>12</th><td>0.005268878</td><td>0.022836134</td><td>0.000368775</td><td>0.007209004</td><td>0.000464895</td></tr>\n",
       "\t<tr><th scope=row>13</th><td>0.013615598</td><td>0.022760576</td><td>0.001188651</td><td>0.002338731</td><td>0.000311513</td></tr>\n",
       "\t<tr><th scope=row>14</th><td>0.012576439</td><td>0.024426981</td><td>0.000971986</td><td>0.003621057</td><td>0.001293916</td></tr>\n",
       "\t<tr><th scope=row>15</th><td>0.012631976</td><td>0.026882084</td><td>0.001294834</td><td>0.002148459</td><td>0.000323767</td></tr>\n",
       "\t<tr><th scope=row>46</th><td>0.011923980</td><td>0.022849402</td><td>0.000865399</td><td>0.004672265</td><td>0.000965334</td></tr>\n",
       "\t<tr><th scope=row>47</th><td>0.011489568</td><td>0.024099079</td><td>0.000599903</td><td>0.002371887</td><td>0.000031600</td></tr>\n",
       "\t<tr><th scope=row>48</th><td>0.013588470</td><td>0.020243359</td><td>0.000948434</td><td>0.006801734</td><td>0.000987016</td></tr>\n",
       "\t<tr><th scope=row>49</th><td>0.008143579</td><td>0.020918570</td><td>0.000354887</td><td>0.005463359</td><td>0.000451062</td></tr>\n",
       "\t<tr><th scope=row>50</th><td>0.007713915</td><td>0.027000000</td><td>0.001264465</td><td>0.004489811</td><td>0.000741563</td></tr>\n",
       "\t<tr><th scope=row>51</th><td>0.009361366</td><td>0.021495972</td><td>0.000480260</td><td>0.002451777</td><td>0.000000000</td></tr>\n",
       "\t<tr><th scope=row>52</th><td>0.007943840</td><td>0.014246590</td><td>0.000647739</td><td>0.001672413</td><td>0.000279225</td></tr>\n",
       "\t<tr><th scope=row>53</th><td>0.004927073</td><td>0.014725681</td><td>0.000000000</td><td>0.000201801</td><td>0.000000000</td></tr>\n",
       "\t<tr><th scope=row>54</th><td>0.000341555</td><td>0.000472176</td><td>0.000000000</td><td>0.000341148</td><td>0.000000000</td></tr>\n",
       "\t<tr><th scope=row>55</th><td>0.000739617</td><td>0.001670064</td><td>0.000442655</td><td>0.000000000</td><td>0.000000000</td></tr>\n",
       "\t<tr><th scope=row>56</th><td>0.003659523</td><td>0.006590000</td><td>0.000754719</td><td>0.000938917</td><td>0.000000000</td></tr>\n",
       "\t<tr><th scope=row>57</th><td>0.013807433</td><td>0.026100000</td><td>0.000346757</td><td>0.009460646</td><td>0.001097215</td></tr>\n",
       "\t<tr><th scope=row>58</th><td>0.002807861</td><td>0.005668780</td><td>0.000000000</td><td>0.000000000</td><td>0.000000000</td></tr>\n",
       "\t<tr><th scope=row>59</th><td>0.000000000</td><td>0.000000000</td><td>0.000000000</td><td>0.002427383</td><td>0.000000000</td></tr>\n",
       "\t<tr><th scope=row>60</th><td>0.000365693</td><td>0.001266338</td><td>0.000000000</td><td>0.004619442</td><td>0.000000000</td></tr>\n",
       "</tbody>\n",
       "</table>\n"
      ],
      "text/latex": [
       "\\begin{tabular}{r|lllll}\n",
       "  & mass\\_400 & mass\\_500 & mass\\_600 & mass\\_700 & mass\\_800\\\\\n",
       "\\hline\n",
       "\t1 & 0.010533542 & 0.020465031 & 0.000721330 & 0.001451111 & 0.000097400\\\\\n",
       "\t2 & 0.010213984 & 0.020920025 & 0.000570535 & 0.004060000 & 0.000000000\\\\\n",
       "\t3 & 0.012011057 & 0.020755847 & 0.000657954 & 0.004291087 & 0.000000000\\\\\n",
       "\t4 & 0.010019269 & 0.020915855 & 0.001080712 & 0.001449577 & 0.000000000\\\\\n",
       "\t5 & 0.010264075 & 0.019777644 & 0.001055370 & 0.001997117 & 0.000129107\\\\\n",
       "\t6 & 0.010619971 & 0.022000000 & 0.000305079 & 0.001969700 & 0.000000000\\\\\n",
       "\t7 & 0.008922815 & 0.020976748 & 0.000666238 & 0.002645488 & 0.000368525\\\\\n",
       "\t8 & 0.009318406 & 0.026323195 & 0.001103235 & 0.000238157 & 0.000000000\\\\\n",
       "\t9 & 0.008579264 & 0.022121349 & 0.000952653 & 0.000045900 & 0.000000000\\\\\n",
       "\t10 & 0.004493871 & 0.016600000 & 0.000576179 & 0.002515044 & 0.000031600\\\\\n",
       "\t11 & 0.002529754 & 0.010782801 & 0.000157701 & 0.000671396 & 0.000000000\\\\\n",
       "\t12 & 0.005268878 & 0.022836134 & 0.000368775 & 0.007209004 & 0.000464895\\\\\n",
       "\t13 & 0.013615598 & 0.022760576 & 0.001188651 & 0.002338731 & 0.000311513\\\\\n",
       "\t14 & 0.012576439 & 0.024426981 & 0.000971986 & 0.003621057 & 0.001293916\\\\\n",
       "\t15 & 0.012631976 & 0.026882084 & 0.001294834 & 0.002148459 & 0.000323767\\\\\n",
       "\t46 & 0.011923980 & 0.022849402 & 0.000865399 & 0.004672265 & 0.000965334\\\\\n",
       "\t47 & 0.011489568 & 0.024099079 & 0.000599903 & 0.002371887 & 0.000031600\\\\\n",
       "\t48 & 0.013588470 & 0.020243359 & 0.000948434 & 0.006801734 & 0.000987016\\\\\n",
       "\t49 & 0.008143579 & 0.020918570 & 0.000354887 & 0.005463359 & 0.000451062\\\\\n",
       "\t50 & 0.007713915 & 0.027000000 & 0.001264465 & 0.004489811 & 0.000741563\\\\\n",
       "\t51 & 0.009361366 & 0.021495972 & 0.000480260 & 0.002451777 & 0.000000000\\\\\n",
       "\t52 & 0.007943840 & 0.014246590 & 0.000647739 & 0.001672413 & 0.000279225\\\\\n",
       "\t53 & 0.004927073 & 0.014725681 & 0.000000000 & 0.000201801 & 0.000000000\\\\\n",
       "\t54 & 0.000341555 & 0.000472176 & 0.000000000 & 0.000341148 & 0.000000000\\\\\n",
       "\t55 & 0.000739617 & 0.001670064 & 0.000442655 & 0.000000000 & 0.000000000\\\\\n",
       "\t56 & 0.003659523 & 0.006590000 & 0.000754719 & 0.000938917 & 0.000000000\\\\\n",
       "\t57 & 0.013807433 & 0.026100000 & 0.000346757 & 0.009460646 & 0.001097215\\\\\n",
       "\t58 & 0.002807861 & 0.005668780 & 0.000000000 & 0.000000000 & 0.000000000\\\\\n",
       "\t59 & 0.000000000 & 0.000000000 & 0.000000000 & 0.002427383 & 0.000000000\\\\\n",
       "\t60 & 0.000365693 & 0.001266338 & 0.000000000 & 0.004619442 & 0.000000000\\\\\n",
       "\\end{tabular}\n"
      ],
      "text/markdown": [
       "\n",
       "| <!--/--> | mass_400 | mass_500 | mass_600 | mass_700 | mass_800 |\n",
       "|---|---|---|---|---|---|\n",
       "| 1 | 0.010533542 | 0.020465031 | 0.000721330 | 0.001451111 | 0.000097400 |\n",
       "| 2 | 0.010213984 | 0.020920025 | 0.000570535 | 0.004060000 | 0.000000000 |\n",
       "| 3 | 0.012011057 | 0.020755847 | 0.000657954 | 0.004291087 | 0.000000000 |\n",
       "| 4 | 0.010019269 | 0.020915855 | 0.001080712 | 0.001449577 | 0.000000000 |\n",
       "| 5 | 0.010264075 | 0.019777644 | 0.001055370 | 0.001997117 | 0.000129107 |\n",
       "| 6 | 0.010619971 | 0.022000000 | 0.000305079 | 0.001969700 | 0.000000000 |\n",
       "| 7 | 0.008922815 | 0.020976748 | 0.000666238 | 0.002645488 | 0.000368525 |\n",
       "| 8 | 0.009318406 | 0.026323195 | 0.001103235 | 0.000238157 | 0.000000000 |\n",
       "| 9 | 0.008579264 | 0.022121349 | 0.000952653 | 0.000045900 | 0.000000000 |\n",
       "| 10 | 0.004493871 | 0.016600000 | 0.000576179 | 0.002515044 | 0.000031600 |\n",
       "| 11 | 0.002529754 | 0.010782801 | 0.000157701 | 0.000671396 | 0.000000000 |\n",
       "| 12 | 0.005268878 | 0.022836134 | 0.000368775 | 0.007209004 | 0.000464895 |\n",
       "| 13 | 0.013615598 | 0.022760576 | 0.001188651 | 0.002338731 | 0.000311513 |\n",
       "| 14 | 0.012576439 | 0.024426981 | 0.000971986 | 0.003621057 | 0.001293916 |\n",
       "| 15 | 0.012631976 | 0.026882084 | 0.001294834 | 0.002148459 | 0.000323767 |\n",
       "| 46 | 0.011923980 | 0.022849402 | 0.000865399 | 0.004672265 | 0.000965334 |\n",
       "| 47 | 0.011489568 | 0.024099079 | 0.000599903 | 0.002371887 | 0.000031600 |\n",
       "| 48 | 0.013588470 | 0.020243359 | 0.000948434 | 0.006801734 | 0.000987016 |\n",
       "| 49 | 0.008143579 | 0.020918570 | 0.000354887 | 0.005463359 | 0.000451062 |\n",
       "| 50 | 0.007713915 | 0.027000000 | 0.001264465 | 0.004489811 | 0.000741563 |\n",
       "| 51 | 0.009361366 | 0.021495972 | 0.000480260 | 0.002451777 | 0.000000000 |\n",
       "| 52 | 0.007943840 | 0.014246590 | 0.000647739 | 0.001672413 | 0.000279225 |\n",
       "| 53 | 0.004927073 | 0.014725681 | 0.000000000 | 0.000201801 | 0.000000000 |\n",
       "| 54 | 0.000341555 | 0.000472176 | 0.000000000 | 0.000341148 | 0.000000000 |\n",
       "| 55 | 0.000739617 | 0.001670064 | 0.000442655 | 0.000000000 | 0.000000000 |\n",
       "| 56 | 0.003659523 | 0.006590000 | 0.000754719 | 0.000938917 | 0.000000000 |\n",
       "| 57 | 0.013807433 | 0.026100000 | 0.000346757 | 0.009460646 | 0.001097215 |\n",
       "| 58 | 0.002807861 | 0.005668780 | 0.000000000 | 0.000000000 | 0.000000000 |\n",
       "| 59 | 0.000000000 | 0.000000000 | 0.000000000 | 0.002427383 | 0.000000000 |\n",
       "| 60 | 0.000365693 | 0.001266338 | 0.000000000 | 0.004619442 | 0.000000000 |\n",
       "\n"
      ],
      "text/plain": [
       "   mass_400    mass_500    mass_600    mass_700    mass_800   \n",
       "1  0.010533542 0.020465031 0.000721330 0.001451111 0.000097400\n",
       "2  0.010213984 0.020920025 0.000570535 0.004060000 0.000000000\n",
       "3  0.012011057 0.020755847 0.000657954 0.004291087 0.000000000\n",
       "4  0.010019269 0.020915855 0.001080712 0.001449577 0.000000000\n",
       "5  0.010264075 0.019777644 0.001055370 0.001997117 0.000129107\n",
       "6  0.010619971 0.022000000 0.000305079 0.001969700 0.000000000\n",
       "7  0.008922815 0.020976748 0.000666238 0.002645488 0.000368525\n",
       "8  0.009318406 0.026323195 0.001103235 0.000238157 0.000000000\n",
       "9  0.008579264 0.022121349 0.000952653 0.000045900 0.000000000\n",
       "10 0.004493871 0.016600000 0.000576179 0.002515044 0.000031600\n",
       "11 0.002529754 0.010782801 0.000157701 0.000671396 0.000000000\n",
       "12 0.005268878 0.022836134 0.000368775 0.007209004 0.000464895\n",
       "13 0.013615598 0.022760576 0.001188651 0.002338731 0.000311513\n",
       "14 0.012576439 0.024426981 0.000971986 0.003621057 0.001293916\n",
       "15 0.012631976 0.026882084 0.001294834 0.002148459 0.000323767\n",
       "46 0.011923980 0.022849402 0.000865399 0.004672265 0.000965334\n",
       "47 0.011489568 0.024099079 0.000599903 0.002371887 0.000031600\n",
       "48 0.013588470 0.020243359 0.000948434 0.006801734 0.000987016\n",
       "49 0.008143579 0.020918570 0.000354887 0.005463359 0.000451062\n",
       "50 0.007713915 0.027000000 0.001264465 0.004489811 0.000741563\n",
       "51 0.009361366 0.021495972 0.000480260 0.002451777 0.000000000\n",
       "52 0.007943840 0.014246590 0.000647739 0.001672413 0.000279225\n",
       "53 0.004927073 0.014725681 0.000000000 0.000201801 0.000000000\n",
       "54 0.000341555 0.000472176 0.000000000 0.000341148 0.000000000\n",
       "55 0.000739617 0.001670064 0.000442655 0.000000000 0.000000000\n",
       "56 0.003659523 0.006590000 0.000754719 0.000938917 0.000000000\n",
       "57 0.013807433 0.026100000 0.000346757 0.009460646 0.001097215\n",
       "58 0.002807861 0.005668780 0.000000000 0.000000000 0.000000000\n",
       "59 0.000000000 0.000000000 0.000000000 0.002427383 0.000000000\n",
       "60 0.000365693 0.001266338 0.000000000 0.004619442 0.000000000"
      ]
     },
     "metadata": {},
     "output_type": "display_data"
    },
    {
     "data": {
      "text/html": [
       "<table>\n",
       "<thead><tr><th scope=col>filename</th><th scope=col>MouseID</th><th scope=col>Treatmentgroup</th><th scope=col>status</th><th scope=col>DPI</th><th scope=col>organ</th><th scope=col>well_position</th><th scope=col>plate</th><th scope=col>mass_400</th><th scope=col>mass_500</th><th scope=col>mass_600</th><th scope=col>mass_700</th><th scope=col>mass_800</th></tr></thead>\n",
       "<tbody>\n",
       "\t<tr><td>X501_Group1A_50dpi_LV_top_251_B_A1_P129.mzXML</td><td>501                                          </td><td>Group1A                                      </td><td>naive                                        </td><td>50dpi                                        </td><td>LV_top                                       </td><td>A1                                           </td><td>P129                                         </td><td>0.01053354                                   </td><td>0.02046503                                   </td><td>0.000721330                                  </td><td>0.001451111                                  </td><td>0.000097400                                  </td></tr>\n",
       "\t<tr><td>X502_Group1A_50dpi_LV_top_252_B_A2_P129.mzXML</td><td>502                                          </td><td>Group1A                                      </td><td>naive                                        </td><td>50dpi                                        </td><td>LV_top                                       </td><td>A2                                           </td><td>P129                                         </td><td>0.01021398                                   </td><td>0.02092002                                   </td><td>0.000570535                                  </td><td>0.004060000                                  </td><td>0.000000000                                  </td></tr>\n",
       "\t<tr><td>X503_Group1A_50dpi_LV_top_253_B_A3_P129.mzXML</td><td>503                                          </td><td>Group1A                                      </td><td>naive                                        </td><td>50dpi                                        </td><td>LV_top                                       </td><td>A3                                           </td><td>P129                                         </td><td>0.01201106                                   </td><td>0.02075585                                   </td><td>0.000657954                                  </td><td>0.004291087                                  </td><td>0.000000000                                  </td></tr>\n",
       "\t<tr><td>X504_Group1A_50dpi_LV_top_254_B_A4_P129.mzXML</td><td>504                                          </td><td>Group1A                                      </td><td>naive                                        </td><td>50dpi                                        </td><td>LV_top                                       </td><td>A4                                           </td><td>P129                                         </td><td>0.01001927                                   </td><td>0.02091586                                   </td><td>0.001080712                                  </td><td>0.001449577                                  </td><td>0.000000000                                  </td></tr>\n",
       "\t<tr><td>X505_Group1A_50dpi_LV_top_255_B_A5_P129.mzXML</td><td>505                                          </td><td>Group1A                                      </td><td>naive                                        </td><td>50dpi                                        </td><td>LV_top                                       </td><td>A5                                           </td><td>P129                                         </td><td>0.01026407                                   </td><td>0.01977764                                   </td><td>0.001055370                                  </td><td>0.001997117                                  </td><td>0.000129107                                  </td></tr>\n",
       "\t<tr><td>X521_Group1A_50dpi_LV_top_256_B_A6_P129.mzXML</td><td>521                                          </td><td>Group1A                                      </td><td>naive                                        </td><td>50dpi                                        </td><td>LV_top                                       </td><td>A6                                           </td><td>P129                                         </td><td>0.01061997                                   </td><td>0.02200000                                   </td><td>0.000305079                                  </td><td>0.001969700                                  </td><td>0.000000000                                  </td></tr>\n",
       "</tbody>\n",
       "</table>\n"
      ],
      "text/latex": [
       "\\begin{tabular}{r|lllllllllllll}\n",
       " filename & MouseID & Treatmentgroup & status & DPI & organ & well\\_position & plate & mass\\_400 & mass\\_500 & mass\\_600 & mass\\_700 & mass\\_800\\\\\n",
       "\\hline\n",
       "\t X501\\_Group1A\\_50dpi\\_LV\\_top\\_251\\_B\\_A1\\_P129.mzXML & 501                                                           & Group1A                                                       & naive                                                         & 50dpi                                                         & LV\\_top                                                      & A1                                                            & P129                                                          & 0.01053354                                                    & 0.02046503                                                    & 0.000721330                                                   & 0.001451111                                                   & 0.000097400                                                  \\\\\n",
       "\t X502\\_Group1A\\_50dpi\\_LV\\_top\\_252\\_B\\_A2\\_P129.mzXML & 502                                                           & Group1A                                                       & naive                                                         & 50dpi                                                         & LV\\_top                                                      & A2                                                            & P129                                                          & 0.01021398                                                    & 0.02092002                                                    & 0.000570535                                                   & 0.004060000                                                   & 0.000000000                                                  \\\\\n",
       "\t X503\\_Group1A\\_50dpi\\_LV\\_top\\_253\\_B\\_A3\\_P129.mzXML & 503                                                           & Group1A                                                       & naive                                                         & 50dpi                                                         & LV\\_top                                                      & A3                                                            & P129                                                          & 0.01201106                                                    & 0.02075585                                                    & 0.000657954                                                   & 0.004291087                                                   & 0.000000000                                                  \\\\\n",
       "\t X504\\_Group1A\\_50dpi\\_LV\\_top\\_254\\_B\\_A4\\_P129.mzXML & 504                                                           & Group1A                                                       & naive                                                         & 50dpi                                                         & LV\\_top                                                      & A4                                                            & P129                                                          & 0.01001927                                                    & 0.02091586                                                    & 0.001080712                                                   & 0.001449577                                                   & 0.000000000                                                  \\\\\n",
       "\t X505\\_Group1A\\_50dpi\\_LV\\_top\\_255\\_B\\_A5\\_P129.mzXML & 505                                                           & Group1A                                                       & naive                                                         & 50dpi                                                         & LV\\_top                                                      & A5                                                            & P129                                                          & 0.01026407                                                    & 0.01977764                                                    & 0.001055370                                                   & 0.001997117                                                   & 0.000129107                                                  \\\\\n",
       "\t X521\\_Group1A\\_50dpi\\_LV\\_top\\_256\\_B\\_A6\\_P129.mzXML & 521                                                           & Group1A                                                       & naive                                                         & 50dpi                                                         & LV\\_top                                                      & A6                                                            & P129                                                          & 0.01061997                                                    & 0.02200000                                                    & 0.000305079                                                   & 0.001969700                                                   & 0.000000000                                                  \\\\\n",
       "\\end{tabular}\n"
      ],
      "text/markdown": [
       "\n",
       "| filename | MouseID | Treatmentgroup | status | DPI | organ | well_position | plate | mass_400 | mass_500 | mass_600 | mass_700 | mass_800 |\n",
       "|---|---|---|---|---|---|---|---|---|---|---|---|---|\n",
       "| X501_Group1A_50dpi_LV_top_251_B_A1_P129.mzXML | 501                                           | Group1A                                       | naive                                         | 50dpi                                         | LV_top                                        | A1                                            | P129                                          | 0.01053354                                    | 0.02046503                                    | 0.000721330                                   | 0.001451111                                   | 0.000097400                                   |\n",
       "| X502_Group1A_50dpi_LV_top_252_B_A2_P129.mzXML | 502                                           | Group1A                                       | naive                                         | 50dpi                                         | LV_top                                        | A2                                            | P129                                          | 0.01021398                                    | 0.02092002                                    | 0.000570535                                   | 0.004060000                                   | 0.000000000                                   |\n",
       "| X503_Group1A_50dpi_LV_top_253_B_A3_P129.mzXML | 503                                           | Group1A                                       | naive                                         | 50dpi                                         | LV_top                                        | A3                                            | P129                                          | 0.01201106                                    | 0.02075585                                    | 0.000657954                                   | 0.004291087                                   | 0.000000000                                   |\n",
       "| X504_Group1A_50dpi_LV_top_254_B_A4_P129.mzXML | 504                                           | Group1A                                       | naive                                         | 50dpi                                         | LV_top                                        | A4                                            | P129                                          | 0.01001927                                    | 0.02091586                                    | 0.001080712                                   | 0.001449577                                   | 0.000000000                                   |\n",
       "| X505_Group1A_50dpi_LV_top_255_B_A5_P129.mzXML | 505                                           | Group1A                                       | naive                                         | 50dpi                                         | LV_top                                        | A5                                            | P129                                          | 0.01026407                                    | 0.01977764                                    | 0.001055370                                   | 0.001997117                                   | 0.000129107                                   |\n",
       "| X521_Group1A_50dpi_LV_top_256_B_A6_P129.mzXML | 521                                           | Group1A                                       | naive                                         | 50dpi                                         | LV_top                                        | A6                                            | P129                                          | 0.01061997                                    | 0.02200000                                    | 0.000305079                                   | 0.001969700                                   | 0.000000000                                   |\n",
       "\n"
      ],
      "text/plain": [
       "  filename                                      MouseID Treatmentgroup status\n",
       "1 X501_Group1A_50dpi_LV_top_251_B_A1_P129.mzXML 501     Group1A        naive \n",
       "2 X502_Group1A_50dpi_LV_top_252_B_A2_P129.mzXML 502     Group1A        naive \n",
       "3 X503_Group1A_50dpi_LV_top_253_B_A3_P129.mzXML 503     Group1A        naive \n",
       "4 X504_Group1A_50dpi_LV_top_254_B_A4_P129.mzXML 504     Group1A        naive \n",
       "5 X505_Group1A_50dpi_LV_top_255_B_A5_P129.mzXML 505     Group1A        naive \n",
       "6 X521_Group1A_50dpi_LV_top_256_B_A6_P129.mzXML 521     Group1A        naive \n",
       "  DPI   organ  well_position plate mass_400   mass_500   mass_600   \n",
       "1 50dpi LV_top A1            P129  0.01053354 0.02046503 0.000721330\n",
       "2 50dpi LV_top A2            P129  0.01021398 0.02092002 0.000570535\n",
       "3 50dpi LV_top A3            P129  0.01201106 0.02075585 0.000657954\n",
       "4 50dpi LV_top A4            P129  0.01001927 0.02091586 0.001080712\n",
       "5 50dpi LV_top A5            P129  0.01026407 0.01977764 0.001055370\n",
       "6 50dpi LV_top A6            P129  0.01061997 0.02200000 0.000305079\n",
       "  mass_700    mass_800   \n",
       "1 0.001451111 0.000097400\n",
       "2 0.004060000 0.000000000\n",
       "3 0.004291087 0.000000000\n",
       "4 0.001449577 0.000000000\n",
       "5 0.001997117 0.000129107\n",
       "6 0.001969700 0.000000000"
      ]
     },
     "metadata": {},
     "output_type": "display_data"
    },
    {
     "data": {
      "text/html": [
       "<ol class=list-inline>\n",
       "\t<li>30</li>\n",
       "\t<li>13</li>\n",
       "</ol>\n"
      ],
      "text/latex": [
       "\\begin{enumerate*}\n",
       "\\item 30\n",
       "\\item 13\n",
       "\\end{enumerate*}\n"
      ],
      "text/markdown": [
       "1. 30\n",
       "2. 13\n",
       "\n",
       "\n"
      ],
      "text/plain": [
       "[1] 30 13"
      ]
     },
     "metadata": {},
     "output_type": "display_data"
    },
    {
     "data": {
      "text/html": [
       "<ol class=list-inline>\n",
       "\t<li>30</li>\n",
       "\t<li>5</li>\n",
       "</ol>\n"
      ],
      "text/latex": [
       "\\begin{enumerate*}\n",
       "\\item 30\n",
       "\\item 5\n",
       "\\end{enumerate*}\n"
      ],
      "text/markdown": [
       "1. 30\n",
       "2. 5\n",
       "\n",
       "\n"
      ],
      "text/plain": [
       "[1] 30  5"
      ]
     },
     "metadata": {},
     "output_type": "display_data"
    },
    {
     "data": {
      "text/html": [
       "<ol class=list-inline>\n",
       "\t<li>30</li>\n",
       "\t<li>5</li>\n",
       "</ol>\n"
      ],
      "text/latex": [
       "\\begin{enumerate*}\n",
       "\\item 30\n",
       "\\item 5\n",
       "\\end{enumerate*}\n"
      ],
      "text/markdown": [
       "1. 30\n",
       "2. 5\n",
       "\n",
       "\n"
      ],
      "text/plain": [
       "[1] 30  5"
      ]
     },
     "metadata": {},
     "output_type": "display_data"
    },
    {
     "data": {
      "text/html": [
       "<ol class=list-inline>\n",
       "\t<li>30</li>\n",
       "\t<li>13</li>\n",
       "</ol>\n"
      ],
      "text/latex": [
       "\\begin{enumerate*}\n",
       "\\item 30\n",
       "\\item 13\n",
       "\\end{enumerate*}\n"
      ],
      "text/markdown": [
       "1. 30\n",
       "2. 13\n",
       "\n",
       "\n"
      ],
      "text/plain": [
       "[1] 30 13"
      ]
     },
     "metadata": {},
     "output_type": "display_data"
    }
   ],
   "source": [
    "noMeta<-features_pos[,9:13]\n",
    "head(noMeta)\n",
    "not_zero<-which(colSums(noMeta) != 0)\n",
    "head(not_zero)\n",
    "nonzero <- noMeta[, not_zero] \n",
    "nonzero\n",
    "nonzero_wMeta<-cbind(features_pos[,1:8], nonzero)\n",
    "head(nonzero_wMeta)\n",
    "dim(features_pos)\n",
    "dim(noMeta)\n",
    "dim(nonzero)\n",
    "dim(nonzero_wMeta)"
   ]
  },
  {
   "cell_type": "code",
   "execution_count": 5,
   "metadata": {
    "scrolled": true
   },
   "outputs": [
    {
     "name": "stderr",
     "output_type": "stream",
     "text": [
      "Warning message in wilcox.test.default(x = c(0.00072133, 0.000570535, 0.000657954, :\n",
      "\"cannot compute exact p-value with ties\"Warning message in wilcox.test.default(x = c(0.001451111, 0.00406, 0.004291087, :\n",
      "\"cannot compute exact p-value with ties\"Warning message in wilcox.test.default(x = c(9.74e-05, 0, 0, 0, 0.000129107, 0, :\n",
      "\"cannot compute exact p-value with ties\""
     ]
    },
    {
     "data": {
      "text/html": [
       "<ol class=list-inline>\n",
       "\t<li>0.0814293446671917</li>\n",
       "\t<li>0.0891947730984869</li>\n",
       "\t<li>0.0247799950151675</li>\n",
       "\t<li>0.678268681794262</li>\n",
       "\t<li>0.94697539324981</li>\n",
       "</ol>\n"
      ],
      "text/latex": [
       "\\begin{enumerate*}\n",
       "\\item 0.0814293446671917\n",
       "\\item 0.0891947730984869\n",
       "\\item 0.0247799950151675\n",
       "\\item 0.678268681794262\n",
       "\\item 0.94697539324981\n",
       "\\end{enumerate*}\n"
      ],
      "text/markdown": [
       "1. 0.0814293446671917\n",
       "2. 0.0891947730984869\n",
       "3. 0.0247799950151675\n",
       "4. 0.678268681794262\n",
       "5. 0.94697539324981\n",
       "\n",
       "\n"
      ],
      "text/plain": [
       "[1] 0.08142934 0.08919477 0.02478000 0.67826868 0.94697539"
      ]
     },
     "metadata": {},
     "output_type": "display_data"
    },
    {
     "data": {
      "text/html": [
       "<ol class=list-inline>\n",
       "\t<li>0.148657955164145</li>\n",
       "\t<li>0.148657955164145</li>\n",
       "\t<li>0.123899975075837</li>\n",
       "\t<li>0.847835852242827</li>\n",
       "\t<li>0.94697539324981</li>\n",
       "</ol>\n"
      ],
      "text/latex": [
       "\\begin{enumerate*}\n",
       "\\item 0.148657955164145\n",
       "\\item 0.148657955164145\n",
       "\\item 0.123899975075837\n",
       "\\item 0.847835852242827\n",
       "\\item 0.94697539324981\n",
       "\\end{enumerate*}\n"
      ],
      "text/markdown": [
       "1. 0.148657955164145\n",
       "2. 0.148657955164145\n",
       "3. 0.123899975075837\n",
       "4. 0.847835852242827\n",
       "5. 0.94697539324981\n",
       "\n",
       "\n"
      ],
      "text/plain": [
       "[1] 0.1486580 0.1486580 0.1239000 0.8478359 0.9469754"
      ]
     },
     "metadata": {},
     "output_type": "display_data"
    }
   ],
   "source": [
    "pval<-c()\n",
    "\n",
    "for (i in 9:ncol(nonzero_wMeta)) \n",
    "pval<-c(pval,wilcox.test(nonzero_wMeta[,i]~nonzero_wMeta$Treatmentgroup)$p.value)\n",
    "head(pval)\n",
    "pAdj <- p.adjust(pval, method = c(\"fdr\"), n=length(pval)) \n",
    "head(pAdj) \n",
    "\n"
   ]
  },
  {
   "cell_type": "code",
   "execution_count": 6,
   "metadata": {
    "scrolled": true
   },
   "outputs": [
    {
     "data": {
      "text/html": [
       "5"
      ],
      "text/latex": [
       "5"
      ],
      "text/markdown": [
       "5"
      ],
      "text/plain": [
       "[1] 5"
      ]
     },
     "metadata": {},
     "output_type": "display_data"
    }
   ],
   "source": [
    "length(pval)"
   ]
  },
  {
   "cell_type": "code",
   "execution_count": 7,
   "metadata": {
    "scrolled": true
   },
   "outputs": [
    {
     "data": {
      "text/html": [
       "5"
      ],
      "text/latex": [
       "5"
      ],
      "text/markdown": [
       "5"
      ],
      "text/plain": [
       "[1] 5"
      ]
     },
     "metadata": {},
     "output_type": "display_data"
    }
   ],
   "source": [
    "length(pAdj)"
   ]
  },
  {
   "cell_type": "code",
   "execution_count": 8,
   "metadata": {},
   "outputs": [
    {
     "data": {
      "text/html": [
       "<ol class=list-inline>\n",
       "\t<li>2</li>\n",
       "\t<li>5</li>\n",
       "</ol>\n"
      ],
      "text/latex": [
       "\\begin{enumerate*}\n",
       "\\item 2\n",
       "\\item 5\n",
       "\\end{enumerate*}\n"
      ],
      "text/markdown": [
       "1. 2\n",
       "2. 5\n",
       "\n",
       "\n"
      ],
      "text/plain": [
       "[1] 2 5"
      ]
     },
     "metadata": {},
     "output_type": "display_data"
    },
    {
     "data": {
      "text/html": [
       "<table>\n",
       "<thead><tr><th></th><th scope=col>mass_400</th><th scope=col>mass_500</th><th scope=col>mass_600</th></tr></thead>\n",
       "<tbody>\n",
       "\t<tr><th scope=row>Group1A</th><td>0.009439927 </td><td>0.02123628  </td><td>0.0007780821</td></tr>\n",
       "\t<tr><th scope=row>Group3A</th><td>0.006454232 </td><td>0.01382307  </td><td>0.0004470145</td></tr>\n",
       "</tbody>\n",
       "</table>\n"
      ],
      "text/latex": [
       "\\begin{tabular}{r|lll}\n",
       "  & mass\\_400 & mass\\_500 & mass\\_600\\\\\n",
       "\\hline\n",
       "\tGroup1A & 0.009439927  & 0.02123628   & 0.0007780821\\\\\n",
       "\tGroup3A & 0.006454232  & 0.01382307   & 0.0004470145\\\\\n",
       "\\end{tabular}\n"
      ],
      "text/markdown": [
       "\n",
       "| <!--/--> | mass_400 | mass_500 | mass_600 |\n",
       "|---|---|---|---|\n",
       "| Group1A | 0.009439927  | 0.02123628   | 0.0007780821 |\n",
       "| Group3A | 0.006454232  | 0.01382307   | 0.0004470145 |\n",
       "\n"
      ],
      "text/plain": [
       "        mass_400    mass_500   mass_600    \n",
       "Group1A 0.009439927 0.02123628 0.0007780821\n",
       "Group3A 0.006454232 0.01382307 0.0004470145"
      ]
     },
     "metadata": {},
     "output_type": "display_data"
    },
    {
     "data": {
      "text/html": [
       "<dl class=dl-horizontal>\n",
       "\t<dt>mass_400</dt>\n",
       "\t\t<dd>1.46259497373883</dd>\n",
       "\t<dt>mass_500</dt>\n",
       "\t\t<dd>1.53629321569152</dd>\n",
       "\t<dt>mass_600</dt>\n",
       "\t\t<dd>1.74061932065445</dd>\n",
       "\t<dt>mass_700</dt>\n",
       "\t\t<dd>0.798295926848637</dd>\n",
       "\t<dt>mass_800</dt>\n",
       "\t\t<dd>0.663455534409616</dd>\n",
       "</dl>\n"
      ],
      "text/latex": [
       "\\begin{description*}\n",
       "\\item[mass\\textbackslash{}\\_400] 1.46259497373883\n",
       "\\item[mass\\textbackslash{}\\_500] 1.53629321569152\n",
       "\\item[mass\\textbackslash{}\\_600] 1.74061932065445\n",
       "\\item[mass\\textbackslash{}\\_700] 0.798295926848637\n",
       "\\item[mass\\textbackslash{}\\_800] 0.663455534409616\n",
       "\\end{description*}\n"
      ],
      "text/markdown": [
       "mass_400\n",
       ":   1.46259497373883mass_500\n",
       ":   1.53629321569152mass_600\n",
       ":   1.74061932065445mass_700\n",
       ":   0.798295926848637mass_800\n",
       ":   0.663455534409616\n",
       "\n"
      ],
      "text/plain": [
       " mass_400  mass_500  mass_600  mass_700  mass_800 \n",
       "1.4625950 1.5362932 1.7406193 0.7982959 0.6634555 "
      ]
     },
     "metadata": {},
     "output_type": "display_data"
    },
    {
     "data": {
      "text/html": [
       "<ol class=list-inline>\n",
       "\t<li>'numeric'</li>\n",
       "\t<li>'vector'</li>\n",
       "</ol>\n"
      ],
      "text/latex": [
       "\\begin{enumerate*}\n",
       "\\item 'numeric'\n",
       "\\item 'vector'\n",
       "\\end{enumerate*}\n"
      ],
      "text/markdown": [
       "1. 'numeric'\n",
       "2. 'vector'\n",
       "\n",
       "\n"
      ],
      "text/plain": [
       "[1] \"numeric\" \"vector\" "
      ]
     },
     "metadata": {},
     "output_type": "display_data"
    }
   ],
   "source": [
    "avg<- apply(nonzero_wMeta[,9:ncol(nonzero_wMeta)], 2, function(x) tapply(x, nonzero_wMeta$Treatmentgroup, function(x) mean(x))) \n",
    "\n",
    "dim(avg) \n",
    "\n",
    "avg[,1:3]\n",
    "\n",
    "fch <- apply(avg, 2, function(x) x[1]/x[2])\n",
    "\n",
    "head(fch)\n",
    "is(fch)"
   ]
  },
  {
   "cell_type": "code",
   "execution_count": 9,
   "metadata": {
    "scrolled": true
   },
   "outputs": [
    {
     "data": {
      "text/html": [
       "<dl class=dl-horizontal>\n",
       "\t<dt>mass_400</dt>\n",
       "\t\t<dd>1.46259497373883</dd>\n",
       "\t<dt>mass_500</dt>\n",
       "\t\t<dd>1.53629321569152</dd>\n",
       "\t<dt>mass_600</dt>\n",
       "\t\t<dd>1.74061932065445</dd>\n",
       "\t<dt>mass_700</dt>\n",
       "\t\t<dd>0.798295926848637</dd>\n",
       "\t<dt>mass_800</dt>\n",
       "\t\t<dd>0.663455534409616</dd>\n",
       "</dl>\n"
      ],
      "text/latex": [
       "\\begin{description*}\n",
       "\\item[mass\\textbackslash{}\\_400] 1.46259497373883\n",
       "\\item[mass\\textbackslash{}\\_500] 1.53629321569152\n",
       "\\item[mass\\textbackslash{}\\_600] 1.74061932065445\n",
       "\\item[mass\\textbackslash{}\\_700] 0.798295926848637\n",
       "\\item[mass\\textbackslash{}\\_800] 0.663455534409616\n",
       "\\end{description*}\n"
      ],
      "text/markdown": [
       "mass_400\n",
       ":   1.46259497373883mass_500\n",
       ":   1.53629321569152mass_600\n",
       ":   1.74061932065445mass_700\n",
       ":   0.798295926848637mass_800\n",
       ":   0.663455534409616\n",
       "\n"
      ],
      "text/plain": [
       " mass_400  mass_500  mass_600  mass_700  mass_800 \n",
       "1.4625950 1.5362932 1.7406193 0.7982959 0.6634555 "
      ]
     },
     "metadata": {},
     "output_type": "display_data"
    }
   ],
   "source": [
    "fch"
   ]
  },
  {
   "cell_type": "code",
   "execution_count": 10,
   "metadata": {
    "scrolled": false
   },
   "outputs": [],
   "source": [
    "df <- data.frame(fch,pval, pAdj)\n",
    "write.csv(df, \"PE-time-LVT-wilcox-1A-3A.csv\")"
   ]
  },
  {
   "cell_type": "code",
   "execution_count": null,
   "metadata": {},
   "outputs": [],
   "source": []
  },
  {
   "cell_type": "code",
   "execution_count": null,
   "metadata": {},
   "outputs": [],
   "source": []
  },
  {
   "cell_type": "code",
   "execution_count": null,
   "metadata": {},
   "outputs": [],
   "source": []
  },
  {
   "cell_type": "code",
   "execution_count": null,
   "metadata": {},
   "outputs": [],
   "source": []
  },
  {
   "cell_type": "code",
   "execution_count": null,
   "metadata": {},
   "outputs": [],
   "source": []
  },
  {
   "cell_type": "code",
   "execution_count": null,
   "metadata": {},
   "outputs": [],
   "source": []
  }
 ],
 "metadata": {
  "kernelspec": {
   "display_name": "R",
   "language": "R",
   "name": "ir"
  },
  "language_info": {
   "codemirror_mode": "r",
   "file_extension": ".r",
   "mimetype": "text/x-r-source",
   "name": "R",
   "pygments_lexer": "r",
   "version": "3.6.1"
  }
 },
 "nbformat": 4,
 "nbformat_minor": 2
}
