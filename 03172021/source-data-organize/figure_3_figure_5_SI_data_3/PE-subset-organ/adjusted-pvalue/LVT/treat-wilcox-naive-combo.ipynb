{
 "cells": [
  {
   "cell_type": "code",
   "execution_count": 1,
   "metadata": {},
   "outputs": [],
   "source": [
    "a <- read.csv(\"03172021-PE-treatment-LVT-M-F.csv\")"
   ]
  },
  {
   "cell_type": "code",
   "execution_count": 2,
   "metadata": {},
   "outputs": [
    {
     "data": {
      "text/html": [
       "<table>\n",
       "<thead><tr><th scope=col>filename</th><th scope=col>MouseID</th><th scope=col>Treatmentgroup</th><th scope=col>DPI</th><th scope=col>organ</th><th scope=col>well_position</th><th scope=col>plate</th><th scope=col>mass_400</th><th scope=col>mass_500</th><th scope=col>mass_600</th><th scope=col>mass_700</th><th scope=col>mass_800</th></tr></thead>\n",
       "<tbody>\n",
       "\t<tr><td>X511_Group1C_142dpi_LV_top_161_G_A1_P128.mzXML</td><td>511                                           </td><td>naive                                         </td><td>142dpi                                        </td><td>LV_top                                        </td><td>A1                                            </td><td>P128                                          </td><td>0.007457554                                   </td><td>0.02744597                                    </td><td>0.000521874                                   </td><td>0.000673111                                   </td><td>0.000000000                                   </td></tr>\n",
       "\t<tr><td>X512_Group1C_142dpi_LV_top_162_G_A2_P128.mzXML</td><td>512                                           </td><td>naive                                         </td><td>142dpi                                        </td><td>LV_top                                        </td><td>A2                                            </td><td>P128                                          </td><td>0.008515695                                   </td><td>0.02741206                                    </td><td>0.000255829                                   </td><td>0.000566018                                   </td><td>0.000000000                                   </td></tr>\n",
       "\t<tr><td>X513_Group1C_142dpi_LV_top_163_G_A3_P128.mzXML</td><td>513                                           </td><td>naive                                         </td><td>142dpi                                        </td><td>LV_top                                        </td><td>A3                                            </td><td>P128                                          </td><td>0.008847471                                   </td><td>0.03699675                                    </td><td>0.000000000                                   </td><td>0.007030000                                   </td><td>0.000523528                                   </td></tr>\n",
       "\t<tr><td>X514_Group1C_142dpi_LV_top_164_G_A4_P128.mzXML</td><td>514                                           </td><td>naive                                         </td><td>142dpi                                        </td><td>LV_top                                        </td><td>A4                                            </td><td>P128                                          </td><td>0.006734363                                   </td><td>0.01865059                                    </td><td>0.000214131                                   </td><td>0.000000000                                   </td><td>0.000000000                                   </td></tr>\n",
       "\t<tr><td>X515_Group1C_142dpi_LV_top_165_G_A5_P128.mzXML</td><td>515                                           </td><td>naive                                         </td><td>142dpi                                        </td><td>LV_top                                        </td><td>A5                                            </td><td>P128                                          </td><td>0.012388772                                   </td><td>0.03474977                                    </td><td>0.000635973                                   </td><td>0.006520000                                   </td><td>0.000621587                                   </td></tr>\n",
       "\t<tr><td>X531_Group1C_142dpi_LV_top_166_G_A6_P128.mzXML</td><td>531                                           </td><td>naive                                         </td><td>142dpi                                        </td><td>LV_top                                        </td><td>A6                                            </td><td>P128                                          </td><td>0.012357413                                   </td><td>0.03113655                                    </td><td>0.000643272                                   </td><td>0.007864901                                   </td><td>0.000467785                                   </td></tr>\n",
       "</tbody>\n",
       "</table>\n"
      ],
      "text/latex": [
       "\\begin{tabular}{r|llllllllllll}\n",
       " filename & MouseID & Treatmentgroup & DPI & organ & well\\_position & plate & mass\\_400 & mass\\_500 & mass\\_600 & mass\\_700 & mass\\_800\\\\\n",
       "\\hline\n",
       "\t X511\\_Group1C\\_142dpi\\_LV\\_top\\_161\\_G\\_A1\\_P128.mzXML & 511                                                            & naive                                                          & 142dpi                                                         & LV\\_top                                                       & A1                                                             & P128                                                           & 0.007457554                                                    & 0.02744597                                                     & 0.000521874                                                    & 0.000673111                                                    & 0.000000000                                                   \\\\\n",
       "\t X512\\_Group1C\\_142dpi\\_LV\\_top\\_162\\_G\\_A2\\_P128.mzXML & 512                                                            & naive                                                          & 142dpi                                                         & LV\\_top                                                       & A2                                                             & P128                                                           & 0.008515695                                                    & 0.02741206                                                     & 0.000255829                                                    & 0.000566018                                                    & 0.000000000                                                   \\\\\n",
       "\t X513\\_Group1C\\_142dpi\\_LV\\_top\\_163\\_G\\_A3\\_P128.mzXML & 513                                                            & naive                                                          & 142dpi                                                         & LV\\_top                                                       & A3                                                             & P128                                                           & 0.008847471                                                    & 0.03699675                                                     & 0.000000000                                                    & 0.007030000                                                    & 0.000523528                                                   \\\\\n",
       "\t X514\\_Group1C\\_142dpi\\_LV\\_top\\_164\\_G\\_A4\\_P128.mzXML & 514                                                            & naive                                                          & 142dpi                                                         & LV\\_top                                                       & A4                                                             & P128                                                           & 0.006734363                                                    & 0.01865059                                                     & 0.000214131                                                    & 0.000000000                                                    & 0.000000000                                                   \\\\\n",
       "\t X515\\_Group1C\\_142dpi\\_LV\\_top\\_165\\_G\\_A5\\_P128.mzXML & 515                                                            & naive                                                          & 142dpi                                                         & LV\\_top                                                       & A5                                                             & P128                                                           & 0.012388772                                                    & 0.03474977                                                     & 0.000635973                                                    & 0.006520000                                                    & 0.000621587                                                   \\\\\n",
       "\t X531\\_Group1C\\_142dpi\\_LV\\_top\\_166\\_G\\_A6\\_P128.mzXML & 531                                                            & naive                                                          & 142dpi                                                         & LV\\_top                                                       & A6                                                             & P128                                                           & 0.012357413                                                    & 0.03113655                                                     & 0.000643272                                                    & 0.007864901                                                    & 0.000467785                                                   \\\\\n",
       "\\end{tabular}\n"
      ],
      "text/markdown": [
       "\n",
       "| filename | MouseID | Treatmentgroup | DPI | organ | well_position | plate | mass_400 | mass_500 | mass_600 | mass_700 | mass_800 |\n",
       "|---|---|---|---|---|---|---|---|---|---|---|---|\n",
       "| X511_Group1C_142dpi_LV_top_161_G_A1_P128.mzXML | 511                                            | naive                                          | 142dpi                                         | LV_top                                         | A1                                             | P128                                           | 0.007457554                                    | 0.02744597                                     | 0.000521874                                    | 0.000673111                                    | 0.000000000                                    |\n",
       "| X512_Group1C_142dpi_LV_top_162_G_A2_P128.mzXML | 512                                            | naive                                          | 142dpi                                         | LV_top                                         | A2                                             | P128                                           | 0.008515695                                    | 0.02741206                                     | 0.000255829                                    | 0.000566018                                    | 0.000000000                                    |\n",
       "| X513_Group1C_142dpi_LV_top_163_G_A3_P128.mzXML | 513                                            | naive                                          | 142dpi                                         | LV_top                                         | A3                                             | P128                                           | 0.008847471                                    | 0.03699675                                     | 0.000000000                                    | 0.007030000                                    | 0.000523528                                    |\n",
       "| X514_Group1C_142dpi_LV_top_164_G_A4_P128.mzXML | 514                                            | naive                                          | 142dpi                                         | LV_top                                         | A4                                             | P128                                           | 0.006734363                                    | 0.01865059                                     | 0.000214131                                    | 0.000000000                                    | 0.000000000                                    |\n",
       "| X515_Group1C_142dpi_LV_top_165_G_A5_P128.mzXML | 515                                            | naive                                          | 142dpi                                         | LV_top                                         | A5                                             | P128                                           | 0.012388772                                    | 0.03474977                                     | 0.000635973                                    | 0.006520000                                    | 0.000621587                                    |\n",
       "| X531_Group1C_142dpi_LV_top_166_G_A6_P128.mzXML | 531                                            | naive                                          | 142dpi                                         | LV_top                                         | A6                                             | P128                                           | 0.012357413                                    | 0.03113655                                     | 0.000643272                                    | 0.007864901                                    | 0.000467785                                    |\n",
       "\n"
      ],
      "text/plain": [
       "  filename                                       MouseID Treatmentgroup DPI   \n",
       "1 X511_Group1C_142dpi_LV_top_161_G_A1_P128.mzXML 511     naive          142dpi\n",
       "2 X512_Group1C_142dpi_LV_top_162_G_A2_P128.mzXML 512     naive          142dpi\n",
       "3 X513_Group1C_142dpi_LV_top_163_G_A3_P128.mzXML 513     naive          142dpi\n",
       "4 X514_Group1C_142dpi_LV_top_164_G_A4_P128.mzXML 514     naive          142dpi\n",
       "5 X515_Group1C_142dpi_LV_top_165_G_A5_P128.mzXML 515     naive          142dpi\n",
       "6 X531_Group1C_142dpi_LV_top_166_G_A6_P128.mzXML 531     naive          142dpi\n",
       "  organ  well_position plate mass_400    mass_500   mass_600    mass_700   \n",
       "1 LV_top A1            P128  0.007457554 0.02744597 0.000521874 0.000673111\n",
       "2 LV_top A2            P128  0.008515695 0.02741206 0.000255829 0.000566018\n",
       "3 LV_top A3            P128  0.008847471 0.03699675 0.000000000 0.007030000\n",
       "4 LV_top A4            P128  0.006734363 0.01865059 0.000214131 0.000000000\n",
       "5 LV_top A5            P128  0.012388772 0.03474977 0.000635973 0.006520000\n",
       "6 LV_top A6            P128  0.012357413 0.03113655 0.000643272 0.007864901\n",
       "  mass_800   \n",
       "1 0.000000000\n",
       "2 0.000000000\n",
       "3 0.000523528\n",
       "4 0.000000000\n",
       "5 0.000621587\n",
       "6 0.000467785"
      ]
     },
     "metadata": {},
     "output_type": "display_data"
    },
    {
     "data": {
      "text/html": [
       "<ol class=list-inline>\n",
       "\t<li>60</li>\n",
       "\t<li>12</li>\n",
       "</ol>\n"
      ],
      "text/latex": [
       "\\begin{enumerate*}\n",
       "\\item 60\n",
       "\\item 12\n",
       "\\end{enumerate*}\n"
      ],
      "text/markdown": [
       "1. 60\n",
       "2. 12\n",
       "\n",
       "\n"
      ],
      "text/plain": [
       "[1] 60 12"
      ]
     },
     "metadata": {},
     "output_type": "display_data"
    }
   ],
   "source": [
    "head(a)\n",
    "dim(a)"
   ]
  },
  {
   "cell_type": "code",
   "execution_count": 3,
   "metadata": {},
   "outputs": [
    {
     "data": {
      "text/html": [
       "<table>\n",
       "<thead><tr><th scope=col>filename</th><th scope=col>MouseID</th><th scope=col>Treatmentgroup</th><th scope=col>DPI</th><th scope=col>organ</th><th scope=col>well_position</th><th scope=col>plate</th><th scope=col>mass_400</th><th scope=col>mass_500</th><th scope=col>mass_600</th><th scope=col>mass_700</th><th scope=col>mass_800</th></tr></thead>\n",
       "<tbody>\n",
       "\t<tr><td>X511_Group1C_142dpi_LV_top_161_G_A1_P128.mzXML</td><td>511                                           </td><td>naive                                         </td><td>142dpi                                        </td><td>LV_top                                        </td><td>A1                                            </td><td>P128                                          </td><td>0.007457554                                   </td><td>0.02744597                                    </td><td>0.000521874                                   </td><td>0.000673111                                   </td><td>0.000000000                                   </td></tr>\n",
       "\t<tr><td>X512_Group1C_142dpi_LV_top_162_G_A2_P128.mzXML</td><td>512                                           </td><td>naive                                         </td><td>142dpi                                        </td><td>LV_top                                        </td><td>A2                                            </td><td>P128                                          </td><td>0.008515695                                   </td><td>0.02741206                                    </td><td>0.000255829                                   </td><td>0.000566018                                   </td><td>0.000000000                                   </td></tr>\n",
       "\t<tr><td>X513_Group1C_142dpi_LV_top_163_G_A3_P128.mzXML</td><td>513                                           </td><td>naive                                         </td><td>142dpi                                        </td><td>LV_top                                        </td><td>A3                                            </td><td>P128                                          </td><td>0.008847471                                   </td><td>0.03699675                                    </td><td>0.000000000                                   </td><td>0.007030000                                   </td><td>0.000523528                                   </td></tr>\n",
       "\t<tr><td>X514_Group1C_142dpi_LV_top_164_G_A4_P128.mzXML</td><td>514                                           </td><td>naive                                         </td><td>142dpi                                        </td><td>LV_top                                        </td><td>A4                                            </td><td>P128                                          </td><td>0.006734363                                   </td><td>0.01865059                                    </td><td>0.000214131                                   </td><td>0.000000000                                   </td><td>0.000000000                                   </td></tr>\n",
       "\t<tr><td>X515_Group1C_142dpi_LV_top_165_G_A5_P128.mzXML</td><td>515                                           </td><td>naive                                         </td><td>142dpi                                        </td><td>LV_top                                        </td><td>A5                                            </td><td>P128                                          </td><td>0.012388772                                   </td><td>0.03474977                                    </td><td>0.000635973                                   </td><td>0.006520000                                   </td><td>0.000621587                                   </td></tr>\n",
       "\t<tr><td>X531_Group1C_142dpi_LV_top_166_G_A6_P128.mzXML</td><td>531                                           </td><td>naive                                         </td><td>142dpi                                        </td><td>LV_top                                        </td><td>A6                                            </td><td>P128                                          </td><td>0.012357413                                   </td><td>0.03113655                                    </td><td>0.000643272                                   </td><td>0.007864901                                   </td><td>0.000467785                                   </td></tr>\n",
       "</tbody>\n",
       "</table>\n"
      ],
      "text/latex": [
       "\\begin{tabular}{r|llllllllllll}\n",
       " filename & MouseID & Treatmentgroup & DPI & organ & well\\_position & plate & mass\\_400 & mass\\_500 & mass\\_600 & mass\\_700 & mass\\_800\\\\\n",
       "\\hline\n",
       "\t X511\\_Group1C\\_142dpi\\_LV\\_top\\_161\\_G\\_A1\\_P128.mzXML & 511                                                            & naive                                                          & 142dpi                                                         & LV\\_top                                                       & A1                                                             & P128                                                           & 0.007457554                                                    & 0.02744597                                                     & 0.000521874                                                    & 0.000673111                                                    & 0.000000000                                                   \\\\\n",
       "\t X512\\_Group1C\\_142dpi\\_LV\\_top\\_162\\_G\\_A2\\_P128.mzXML & 512                                                            & naive                                                          & 142dpi                                                         & LV\\_top                                                       & A2                                                             & P128                                                           & 0.008515695                                                    & 0.02741206                                                     & 0.000255829                                                    & 0.000566018                                                    & 0.000000000                                                   \\\\\n",
       "\t X513\\_Group1C\\_142dpi\\_LV\\_top\\_163\\_G\\_A3\\_P128.mzXML & 513                                                            & naive                                                          & 142dpi                                                         & LV\\_top                                                       & A3                                                             & P128                                                           & 0.008847471                                                    & 0.03699675                                                     & 0.000000000                                                    & 0.007030000                                                    & 0.000523528                                                   \\\\\n",
       "\t X514\\_Group1C\\_142dpi\\_LV\\_top\\_164\\_G\\_A4\\_P128.mzXML & 514                                                            & naive                                                          & 142dpi                                                         & LV\\_top                                                       & A4                                                             & P128                                                           & 0.006734363                                                    & 0.01865059                                                     & 0.000214131                                                    & 0.000000000                                                    & 0.000000000                                                   \\\\\n",
       "\t X515\\_Group1C\\_142dpi\\_LV\\_top\\_165\\_G\\_A5\\_P128.mzXML & 515                                                            & naive                                                          & 142dpi                                                         & LV\\_top                                                       & A5                                                             & P128                                                           & 0.012388772                                                    & 0.03474977                                                     & 0.000635973                                                    & 0.006520000                                                    & 0.000621587                                                   \\\\\n",
       "\t X531\\_Group1C\\_142dpi\\_LV\\_top\\_166\\_G\\_A6\\_P128.mzXML & 531                                                            & naive                                                          & 142dpi                                                         & LV\\_top                                                       & A6                                                             & P128                                                           & 0.012357413                                                    & 0.03113655                                                     & 0.000643272                                                    & 0.007864901                                                    & 0.000467785                                                   \\\\\n",
       "\\end{tabular}\n"
      ],
      "text/markdown": [
       "\n",
       "| filename | MouseID | Treatmentgroup | DPI | organ | well_position | plate | mass_400 | mass_500 | mass_600 | mass_700 | mass_800 |\n",
       "|---|---|---|---|---|---|---|---|---|---|---|---|\n",
       "| X511_Group1C_142dpi_LV_top_161_G_A1_P128.mzXML | 511                                            | naive                                          | 142dpi                                         | LV_top                                         | A1                                             | P128                                           | 0.007457554                                    | 0.02744597                                     | 0.000521874                                    | 0.000673111                                    | 0.000000000                                    |\n",
       "| X512_Group1C_142dpi_LV_top_162_G_A2_P128.mzXML | 512                                            | naive                                          | 142dpi                                         | LV_top                                         | A2                                             | P128                                           | 0.008515695                                    | 0.02741206                                     | 0.000255829                                    | 0.000566018                                    | 0.000000000                                    |\n",
       "| X513_Group1C_142dpi_LV_top_163_G_A3_P128.mzXML | 513                                            | naive                                          | 142dpi                                         | LV_top                                         | A3                                             | P128                                           | 0.008847471                                    | 0.03699675                                     | 0.000000000                                    | 0.007030000                                    | 0.000523528                                    |\n",
       "| X514_Group1C_142dpi_LV_top_164_G_A4_P128.mzXML | 514                                            | naive                                          | 142dpi                                         | LV_top                                         | A4                                             | P128                                           | 0.006734363                                    | 0.01865059                                     | 0.000214131                                    | 0.000000000                                    | 0.000000000                                    |\n",
       "| X515_Group1C_142dpi_LV_top_165_G_A5_P128.mzXML | 515                                            | naive                                          | 142dpi                                         | LV_top                                         | A5                                             | P128                                           | 0.012388772                                    | 0.03474977                                     | 0.000635973                                    | 0.006520000                                    | 0.000621587                                    |\n",
       "| X531_Group1C_142dpi_LV_top_166_G_A6_P128.mzXML | 531                                            | naive                                          | 142dpi                                         | LV_top                                         | A6                                             | P128                                           | 0.012357413                                    | 0.03113655                                     | 0.000643272                                    | 0.007864901                                    | 0.000467785                                    |\n",
       "\n"
      ],
      "text/plain": [
       "  filename                                       MouseID Treatmentgroup DPI   \n",
       "1 X511_Group1C_142dpi_LV_top_161_G_A1_P128.mzXML 511     naive          142dpi\n",
       "2 X512_Group1C_142dpi_LV_top_162_G_A2_P128.mzXML 512     naive          142dpi\n",
       "3 X513_Group1C_142dpi_LV_top_163_G_A3_P128.mzXML 513     naive          142dpi\n",
       "4 X514_Group1C_142dpi_LV_top_164_G_A4_P128.mzXML 514     naive          142dpi\n",
       "5 X515_Group1C_142dpi_LV_top_165_G_A5_P128.mzXML 515     naive          142dpi\n",
       "6 X531_Group1C_142dpi_LV_top_166_G_A6_P128.mzXML 531     naive          142dpi\n",
       "  organ  well_position plate mass_400    mass_500   mass_600    mass_700   \n",
       "1 LV_top A1            P128  0.007457554 0.02744597 0.000521874 0.000673111\n",
       "2 LV_top A2            P128  0.008515695 0.02741206 0.000255829 0.000566018\n",
       "3 LV_top A3            P128  0.008847471 0.03699675 0.000000000 0.007030000\n",
       "4 LV_top A4            P128  0.006734363 0.01865059 0.000214131 0.000000000\n",
       "5 LV_top A5            P128  0.012388772 0.03474977 0.000635973 0.006520000\n",
       "6 LV_top A6            P128  0.012357413 0.03113655 0.000643272 0.007864901\n",
       "  mass_800   \n",
       "1 0.000000000\n",
       "2 0.000000000\n",
       "3 0.000523528\n",
       "4 0.000000000\n",
       "5 0.000621587\n",
       "6 0.000467785"
      ]
     },
     "metadata": {},
     "output_type": "display_data"
    },
    {
     "data": {
      "text/html": [
       "<ol class=list-inline>\n",
       "\t<li>30</li>\n",
       "\t<li>12</li>\n",
       "</ol>\n"
      ],
      "text/latex": [
       "\\begin{enumerate*}\n",
       "\\item 30\n",
       "\\item 12\n",
       "\\end{enumerate*}\n"
      ],
      "text/markdown": [
       "1. 30\n",
       "2. 12\n",
       "\n",
       "\n"
      ],
      "text/plain": [
       "[1] 30 12"
      ]
     },
     "metadata": {},
     "output_type": "display_data"
    }
   ],
   "source": [
    "features_pos<-droplevels(subset(a, a$Treatmentgroup==c(\"naive\")|a$Treatmentgroup==c(\"combo\")))\n",
    "head(features_pos)\n",
    "dim(features_pos)"
   ]
  },
  {
   "cell_type": "code",
   "execution_count": 4,
   "metadata": {
    "scrolled": false
   },
   "outputs": [
    {
     "data": {
      "text/html": [
       "<table>\n",
       "<thead><tr><th scope=col>mass_400</th><th scope=col>mass_500</th><th scope=col>mass_600</th><th scope=col>mass_700</th><th scope=col>mass_800</th></tr></thead>\n",
       "<tbody>\n",
       "\t<tr><td>0.007457554</td><td>0.02744597 </td><td>0.000521874</td><td>0.000673111</td><td>0.000000000</td></tr>\n",
       "\t<tr><td>0.008515695</td><td>0.02741206 </td><td>0.000255829</td><td>0.000566018</td><td>0.000000000</td></tr>\n",
       "\t<tr><td>0.008847471</td><td>0.03699675 </td><td>0.000000000</td><td>0.007030000</td><td>0.000523528</td></tr>\n",
       "\t<tr><td>0.006734363</td><td>0.01865059 </td><td>0.000214131</td><td>0.000000000</td><td>0.000000000</td></tr>\n",
       "\t<tr><td>0.012388772</td><td>0.03474977 </td><td>0.000635973</td><td>0.006520000</td><td>0.000621587</td></tr>\n",
       "\t<tr><td>0.012357413</td><td>0.03113655 </td><td>0.000643272</td><td>0.007864901</td><td>0.000467785</td></tr>\n",
       "</tbody>\n",
       "</table>\n"
      ],
      "text/latex": [
       "\\begin{tabular}{r|lllll}\n",
       " mass\\_400 & mass\\_500 & mass\\_600 & mass\\_700 & mass\\_800\\\\\n",
       "\\hline\n",
       "\t 0.007457554 & 0.02744597  & 0.000521874 & 0.000673111 & 0.000000000\\\\\n",
       "\t 0.008515695 & 0.02741206  & 0.000255829 & 0.000566018 & 0.000000000\\\\\n",
       "\t 0.008847471 & 0.03699675  & 0.000000000 & 0.007030000 & 0.000523528\\\\\n",
       "\t 0.006734363 & 0.01865059  & 0.000214131 & 0.000000000 & 0.000000000\\\\\n",
       "\t 0.012388772 & 0.03474977  & 0.000635973 & 0.006520000 & 0.000621587\\\\\n",
       "\t 0.012357413 & 0.03113655  & 0.000643272 & 0.007864901 & 0.000467785\\\\\n",
       "\\end{tabular}\n"
      ],
      "text/markdown": [
       "\n",
       "| mass_400 | mass_500 | mass_600 | mass_700 | mass_800 |\n",
       "|---|---|---|---|---|\n",
       "| 0.007457554 | 0.02744597  | 0.000521874 | 0.000673111 | 0.000000000 |\n",
       "| 0.008515695 | 0.02741206  | 0.000255829 | 0.000566018 | 0.000000000 |\n",
       "| 0.008847471 | 0.03699675  | 0.000000000 | 0.007030000 | 0.000523528 |\n",
       "| 0.006734363 | 0.01865059  | 0.000214131 | 0.000000000 | 0.000000000 |\n",
       "| 0.012388772 | 0.03474977  | 0.000635973 | 0.006520000 | 0.000621587 |\n",
       "| 0.012357413 | 0.03113655  | 0.000643272 | 0.007864901 | 0.000467785 |\n",
       "\n"
      ],
      "text/plain": [
       "  mass_400    mass_500   mass_600    mass_700    mass_800   \n",
       "1 0.007457554 0.02744597 0.000521874 0.000673111 0.000000000\n",
       "2 0.008515695 0.02741206 0.000255829 0.000566018 0.000000000\n",
       "3 0.008847471 0.03699675 0.000000000 0.007030000 0.000523528\n",
       "4 0.006734363 0.01865059 0.000214131 0.000000000 0.000000000\n",
       "5 0.012388772 0.03474977 0.000635973 0.006520000 0.000621587\n",
       "6 0.012357413 0.03113655 0.000643272 0.007864901 0.000467785"
      ]
     },
     "metadata": {},
     "output_type": "display_data"
    },
    {
     "data": {
      "text/html": [
       "<dl class=dl-horizontal>\n",
       "\t<dt>mass_400</dt>\n",
       "\t\t<dd>1</dd>\n",
       "\t<dt>mass_500</dt>\n",
       "\t\t<dd>2</dd>\n",
       "\t<dt>mass_600</dt>\n",
       "\t\t<dd>3</dd>\n",
       "\t<dt>mass_700</dt>\n",
       "\t\t<dd>4</dd>\n",
       "\t<dt>mass_800</dt>\n",
       "\t\t<dd>5</dd>\n",
       "</dl>\n"
      ],
      "text/latex": [
       "\\begin{description*}\n",
       "\\item[mass\\textbackslash{}\\_400] 1\n",
       "\\item[mass\\textbackslash{}\\_500] 2\n",
       "\\item[mass\\textbackslash{}\\_600] 3\n",
       "\\item[mass\\textbackslash{}\\_700] 4\n",
       "\\item[mass\\textbackslash{}\\_800] 5\n",
       "\\end{description*}\n"
      ],
      "text/markdown": [
       "mass_400\n",
       ":   1mass_500\n",
       ":   2mass_600\n",
       ":   3mass_700\n",
       ":   4mass_800\n",
       ":   5\n",
       "\n"
      ],
      "text/plain": [
       "mass_400 mass_500 mass_600 mass_700 mass_800 \n",
       "       1        2        3        4        5 "
      ]
     },
     "metadata": {},
     "output_type": "display_data"
    },
    {
     "data": {
      "text/html": [
       "<table>\n",
       "<thead><tr><th></th><th scope=col>mass_400</th><th scope=col>mass_500</th><th scope=col>mass_600</th><th scope=col>mass_700</th><th scope=col>mass_800</th></tr></thead>\n",
       "<tbody>\n",
       "\t<tr><th scope=row>1</th><td>0.007457554</td><td>0.02744597 </td><td>0.000521874</td><td>0.000673111</td><td>0.000000000</td></tr>\n",
       "\t<tr><th scope=row>2</th><td>0.008515695</td><td>0.02741206 </td><td>0.000255829</td><td>0.000566018</td><td>0.000000000</td></tr>\n",
       "\t<tr><th scope=row>3</th><td>0.008847471</td><td>0.03699675 </td><td>0.000000000</td><td>0.007030000</td><td>0.000523528</td></tr>\n",
       "\t<tr><th scope=row>4</th><td>0.006734363</td><td>0.01865059 </td><td>0.000214131</td><td>0.000000000</td><td>0.000000000</td></tr>\n",
       "\t<tr><th scope=row>5</th><td>0.012388772</td><td>0.03474977 </td><td>0.000635973</td><td>0.006520000</td><td>0.000621587</td></tr>\n",
       "\t<tr><th scope=row>6</th><td>0.012357413</td><td>0.03113655 </td><td>0.000643272</td><td>0.007864901</td><td>0.000467785</td></tr>\n",
       "\t<tr><th scope=row>7</th><td>0.009592636</td><td>0.02218788 </td><td>0.000253102</td><td>0.001157849</td><td>0.000084700</td></tr>\n",
       "\t<tr><th scope=row>8</th><td>0.009171067</td><td>0.03216132 </td><td>0.000284424</td><td>0.003150000</td><td>0.000081400</td></tr>\n",
       "\t<tr><th scope=row>9</th><td>0.005449869</td><td>0.02117406 </td><td>0.000278587</td><td>0.001512774</td><td>0.000000000</td></tr>\n",
       "\t<tr><th scope=row>10</th><td>0.005808289</td><td>0.01863846 </td><td>0.000137290</td><td>0.000396516</td><td>0.000000000</td></tr>\n",
       "\t<tr><th scope=row>11</th><td>0.009907023</td><td>0.02170000 </td><td>0.000270569</td><td>0.002303199</td><td>0.000225835</td></tr>\n",
       "\t<tr><th scope=row>12</th><td>0.007681753</td><td>0.01842385 </td><td>0.000246572</td><td>0.000162443</td><td>0.000000000</td></tr>\n",
       "\t<tr><th scope=row>13</th><td>0.005759053</td><td>0.02484998 </td><td>0.000365955</td><td>0.012059818</td><td>0.001416417</td></tr>\n",
       "\t<tr><th scope=row>14</th><td>0.009423142</td><td>0.03224386 </td><td>0.000223252</td><td>0.000894712</td><td>0.000000000</td></tr>\n",
       "\t<tr><th scope=row>15</th><td>0.008509249</td><td>0.03723699 </td><td>0.000303505</td><td>0.007890000</td><td>0.000756203</td></tr>\n",
       "\t<tr><th scope=row>21</th><td>0.006243760</td><td>0.03036229 </td><td>0.000331154</td><td>0.003441070</td><td>0.000859417</td></tr>\n",
       "\t<tr><th scope=row>22</th><td>0.005234528</td><td>0.02397661 </td><td>0.000048000</td><td>0.000000000</td><td>0.000000000</td></tr>\n",
       "\t<tr><th scope=row>23</th><td>0.009664593</td><td>0.02451257 </td><td>0.000176687</td><td>0.001891457</td><td>0.000128239</td></tr>\n",
       "\t<tr><th scope=row>24</th><td>0.006482640</td><td>0.02110000 </td><td>0.000488605</td><td>0.000470912</td><td>0.000000000</td></tr>\n",
       "\t<tr><th scope=row>25</th><td>0.005064922</td><td>0.02030000 </td><td>0.000374310</td><td>0.006426943</td><td>0.000572521</td></tr>\n",
       "\t<tr><th scope=row>36</th><td>0.006367099</td><td>0.01768122 </td><td>0.000231809</td><td>0.001947490</td><td>0.000146315</td></tr>\n",
       "\t<tr><th scope=row>37</th><td>0.002399353</td><td>0.00575000 </td><td>0.000291966</td><td>0.002698221</td><td>0.000000000</td></tr>\n",
       "\t<tr><th scope=row>38</th><td>0.006393058</td><td>0.02465794 </td><td>0.000140195</td><td>0.000879214</td><td>0.000000000</td></tr>\n",
       "\t<tr><th scope=row>39</th><td>0.004417419</td><td>0.02598592 </td><td>0.000143508</td><td>0.013600000</td><td>0.002311562</td></tr>\n",
       "\t<tr><th scope=row>40</th><td>0.011183880</td><td>0.03270686 </td><td>0.000812960</td><td>0.016400000</td><td>0.000436279</td></tr>\n",
       "\t<tr><th scope=row>51</th><td>0.001330723</td><td>0.00459000 </td><td>0.000153607</td><td>0.001698120</td><td>0.000190696</td></tr>\n",
       "\t<tr><th scope=row>52</th><td>0.001984121</td><td>0.00752000 </td><td>0.000186044</td><td>0.000890778</td><td>0.000326271</td></tr>\n",
       "\t<tr><th scope=row>53</th><td>0.003848343</td><td>0.00787102 </td><td>0.000274015</td><td>0.005355796</td><td>0.000281382</td></tr>\n",
       "\t<tr><th scope=row>54</th><td>0.008439803</td><td>0.03182014 </td><td>0.000229809</td><td>0.003210000</td><td>0.000145121</td></tr>\n",
       "\t<tr><th scope=row>55</th><td>0.012026823</td><td>0.02977598 </td><td>0.000290526</td><td>0.018035514</td><td>0.001581852</td></tr>\n",
       "</tbody>\n",
       "</table>\n"
      ],
      "text/latex": [
       "\\begin{tabular}{r|lllll}\n",
       "  & mass\\_400 & mass\\_500 & mass\\_600 & mass\\_700 & mass\\_800\\\\\n",
       "\\hline\n",
       "\t1 & 0.007457554 & 0.02744597  & 0.000521874 & 0.000673111 & 0.000000000\\\\\n",
       "\t2 & 0.008515695 & 0.02741206  & 0.000255829 & 0.000566018 & 0.000000000\\\\\n",
       "\t3 & 0.008847471 & 0.03699675  & 0.000000000 & 0.007030000 & 0.000523528\\\\\n",
       "\t4 & 0.006734363 & 0.01865059  & 0.000214131 & 0.000000000 & 0.000000000\\\\\n",
       "\t5 & 0.012388772 & 0.03474977  & 0.000635973 & 0.006520000 & 0.000621587\\\\\n",
       "\t6 & 0.012357413 & 0.03113655  & 0.000643272 & 0.007864901 & 0.000467785\\\\\n",
       "\t7 & 0.009592636 & 0.02218788  & 0.000253102 & 0.001157849 & 0.000084700\\\\\n",
       "\t8 & 0.009171067 & 0.03216132  & 0.000284424 & 0.003150000 & 0.000081400\\\\\n",
       "\t9 & 0.005449869 & 0.02117406  & 0.000278587 & 0.001512774 & 0.000000000\\\\\n",
       "\t10 & 0.005808289 & 0.01863846  & 0.000137290 & 0.000396516 & 0.000000000\\\\\n",
       "\t11 & 0.009907023 & 0.02170000  & 0.000270569 & 0.002303199 & 0.000225835\\\\\n",
       "\t12 & 0.007681753 & 0.01842385  & 0.000246572 & 0.000162443 & 0.000000000\\\\\n",
       "\t13 & 0.005759053 & 0.02484998  & 0.000365955 & 0.012059818 & 0.001416417\\\\\n",
       "\t14 & 0.009423142 & 0.03224386  & 0.000223252 & 0.000894712 & 0.000000000\\\\\n",
       "\t15 & 0.008509249 & 0.03723699  & 0.000303505 & 0.007890000 & 0.000756203\\\\\n",
       "\t21 & 0.006243760 & 0.03036229  & 0.000331154 & 0.003441070 & 0.000859417\\\\\n",
       "\t22 & 0.005234528 & 0.02397661  & 0.000048000 & 0.000000000 & 0.000000000\\\\\n",
       "\t23 & 0.009664593 & 0.02451257  & 0.000176687 & 0.001891457 & 0.000128239\\\\\n",
       "\t24 & 0.006482640 & 0.02110000  & 0.000488605 & 0.000470912 & 0.000000000\\\\\n",
       "\t25 & 0.005064922 & 0.02030000  & 0.000374310 & 0.006426943 & 0.000572521\\\\\n",
       "\t36 & 0.006367099 & 0.01768122  & 0.000231809 & 0.001947490 & 0.000146315\\\\\n",
       "\t37 & 0.002399353 & 0.00575000  & 0.000291966 & 0.002698221 & 0.000000000\\\\\n",
       "\t38 & 0.006393058 & 0.02465794  & 0.000140195 & 0.000879214 & 0.000000000\\\\\n",
       "\t39 & 0.004417419 & 0.02598592  & 0.000143508 & 0.013600000 & 0.002311562\\\\\n",
       "\t40 & 0.011183880 & 0.03270686  & 0.000812960 & 0.016400000 & 0.000436279\\\\\n",
       "\t51 & 0.001330723 & 0.00459000  & 0.000153607 & 0.001698120 & 0.000190696\\\\\n",
       "\t52 & 0.001984121 & 0.00752000  & 0.000186044 & 0.000890778 & 0.000326271\\\\\n",
       "\t53 & 0.003848343 & 0.00787102  & 0.000274015 & 0.005355796 & 0.000281382\\\\\n",
       "\t54 & 0.008439803 & 0.03182014  & 0.000229809 & 0.003210000 & 0.000145121\\\\\n",
       "\t55 & 0.012026823 & 0.02977598  & 0.000290526 & 0.018035514 & 0.001581852\\\\\n",
       "\\end{tabular}\n"
      ],
      "text/markdown": [
       "\n",
       "| <!--/--> | mass_400 | mass_500 | mass_600 | mass_700 | mass_800 |\n",
       "|---|---|---|---|---|---|\n",
       "| 1 | 0.007457554 | 0.02744597  | 0.000521874 | 0.000673111 | 0.000000000 |\n",
       "| 2 | 0.008515695 | 0.02741206  | 0.000255829 | 0.000566018 | 0.000000000 |\n",
       "| 3 | 0.008847471 | 0.03699675  | 0.000000000 | 0.007030000 | 0.000523528 |\n",
       "| 4 | 0.006734363 | 0.01865059  | 0.000214131 | 0.000000000 | 0.000000000 |\n",
       "| 5 | 0.012388772 | 0.03474977  | 0.000635973 | 0.006520000 | 0.000621587 |\n",
       "| 6 | 0.012357413 | 0.03113655  | 0.000643272 | 0.007864901 | 0.000467785 |\n",
       "| 7 | 0.009592636 | 0.02218788  | 0.000253102 | 0.001157849 | 0.000084700 |\n",
       "| 8 | 0.009171067 | 0.03216132  | 0.000284424 | 0.003150000 | 0.000081400 |\n",
       "| 9 | 0.005449869 | 0.02117406  | 0.000278587 | 0.001512774 | 0.000000000 |\n",
       "| 10 | 0.005808289 | 0.01863846  | 0.000137290 | 0.000396516 | 0.000000000 |\n",
       "| 11 | 0.009907023 | 0.02170000  | 0.000270569 | 0.002303199 | 0.000225835 |\n",
       "| 12 | 0.007681753 | 0.01842385  | 0.000246572 | 0.000162443 | 0.000000000 |\n",
       "| 13 | 0.005759053 | 0.02484998  | 0.000365955 | 0.012059818 | 0.001416417 |\n",
       "| 14 | 0.009423142 | 0.03224386  | 0.000223252 | 0.000894712 | 0.000000000 |\n",
       "| 15 | 0.008509249 | 0.03723699  | 0.000303505 | 0.007890000 | 0.000756203 |\n",
       "| 21 | 0.006243760 | 0.03036229  | 0.000331154 | 0.003441070 | 0.000859417 |\n",
       "| 22 | 0.005234528 | 0.02397661  | 0.000048000 | 0.000000000 | 0.000000000 |\n",
       "| 23 | 0.009664593 | 0.02451257  | 0.000176687 | 0.001891457 | 0.000128239 |\n",
       "| 24 | 0.006482640 | 0.02110000  | 0.000488605 | 0.000470912 | 0.000000000 |\n",
       "| 25 | 0.005064922 | 0.02030000  | 0.000374310 | 0.006426943 | 0.000572521 |\n",
       "| 36 | 0.006367099 | 0.01768122  | 0.000231809 | 0.001947490 | 0.000146315 |\n",
       "| 37 | 0.002399353 | 0.00575000  | 0.000291966 | 0.002698221 | 0.000000000 |\n",
       "| 38 | 0.006393058 | 0.02465794  | 0.000140195 | 0.000879214 | 0.000000000 |\n",
       "| 39 | 0.004417419 | 0.02598592  | 0.000143508 | 0.013600000 | 0.002311562 |\n",
       "| 40 | 0.011183880 | 0.03270686  | 0.000812960 | 0.016400000 | 0.000436279 |\n",
       "| 51 | 0.001330723 | 0.00459000  | 0.000153607 | 0.001698120 | 0.000190696 |\n",
       "| 52 | 0.001984121 | 0.00752000  | 0.000186044 | 0.000890778 | 0.000326271 |\n",
       "| 53 | 0.003848343 | 0.00787102  | 0.000274015 | 0.005355796 | 0.000281382 |\n",
       "| 54 | 0.008439803 | 0.03182014  | 0.000229809 | 0.003210000 | 0.000145121 |\n",
       "| 55 | 0.012026823 | 0.02977598  | 0.000290526 | 0.018035514 | 0.001581852 |\n",
       "\n"
      ],
      "text/plain": [
       "   mass_400    mass_500   mass_600    mass_700    mass_800   \n",
       "1  0.007457554 0.02744597 0.000521874 0.000673111 0.000000000\n",
       "2  0.008515695 0.02741206 0.000255829 0.000566018 0.000000000\n",
       "3  0.008847471 0.03699675 0.000000000 0.007030000 0.000523528\n",
       "4  0.006734363 0.01865059 0.000214131 0.000000000 0.000000000\n",
       "5  0.012388772 0.03474977 0.000635973 0.006520000 0.000621587\n",
       "6  0.012357413 0.03113655 0.000643272 0.007864901 0.000467785\n",
       "7  0.009592636 0.02218788 0.000253102 0.001157849 0.000084700\n",
       "8  0.009171067 0.03216132 0.000284424 0.003150000 0.000081400\n",
       "9  0.005449869 0.02117406 0.000278587 0.001512774 0.000000000\n",
       "10 0.005808289 0.01863846 0.000137290 0.000396516 0.000000000\n",
       "11 0.009907023 0.02170000 0.000270569 0.002303199 0.000225835\n",
       "12 0.007681753 0.01842385 0.000246572 0.000162443 0.000000000\n",
       "13 0.005759053 0.02484998 0.000365955 0.012059818 0.001416417\n",
       "14 0.009423142 0.03224386 0.000223252 0.000894712 0.000000000\n",
       "15 0.008509249 0.03723699 0.000303505 0.007890000 0.000756203\n",
       "21 0.006243760 0.03036229 0.000331154 0.003441070 0.000859417\n",
       "22 0.005234528 0.02397661 0.000048000 0.000000000 0.000000000\n",
       "23 0.009664593 0.02451257 0.000176687 0.001891457 0.000128239\n",
       "24 0.006482640 0.02110000 0.000488605 0.000470912 0.000000000\n",
       "25 0.005064922 0.02030000 0.000374310 0.006426943 0.000572521\n",
       "36 0.006367099 0.01768122 0.000231809 0.001947490 0.000146315\n",
       "37 0.002399353 0.00575000 0.000291966 0.002698221 0.000000000\n",
       "38 0.006393058 0.02465794 0.000140195 0.000879214 0.000000000\n",
       "39 0.004417419 0.02598592 0.000143508 0.013600000 0.002311562\n",
       "40 0.011183880 0.03270686 0.000812960 0.016400000 0.000436279\n",
       "51 0.001330723 0.00459000 0.000153607 0.001698120 0.000190696\n",
       "52 0.001984121 0.00752000 0.000186044 0.000890778 0.000326271\n",
       "53 0.003848343 0.00787102 0.000274015 0.005355796 0.000281382\n",
       "54 0.008439803 0.03182014 0.000229809 0.003210000 0.000145121\n",
       "55 0.012026823 0.02977598 0.000290526 0.018035514 0.001581852"
      ]
     },
     "metadata": {},
     "output_type": "display_data"
    },
    {
     "data": {
      "text/html": [
       "<table>\n",
       "<thead><tr><th scope=col>filename</th><th scope=col>MouseID</th><th scope=col>Treatmentgroup</th><th scope=col>DPI</th><th scope=col>organ</th><th scope=col>well_position</th><th scope=col>plate</th><th scope=col>mass_400</th><th scope=col>mass_500</th><th scope=col>mass_600</th><th scope=col>mass_700</th><th scope=col>mass_800</th></tr></thead>\n",
       "<tbody>\n",
       "\t<tr><td>X511_Group1C_142dpi_LV_top_161_G_A1_P128.mzXML</td><td>511                                           </td><td>naive                                         </td><td>142dpi                                        </td><td>LV_top                                        </td><td>A1                                            </td><td>P128                                          </td><td>0.007457554                                   </td><td>0.02744597                                    </td><td>0.000521874                                   </td><td>0.000673111                                   </td><td>0.000000000                                   </td></tr>\n",
       "\t<tr><td>X512_Group1C_142dpi_LV_top_162_G_A2_P128.mzXML</td><td>512                                           </td><td>naive                                         </td><td>142dpi                                        </td><td>LV_top                                        </td><td>A2                                            </td><td>P128                                          </td><td>0.008515695                                   </td><td>0.02741206                                    </td><td>0.000255829                                   </td><td>0.000566018                                   </td><td>0.000000000                                   </td></tr>\n",
       "\t<tr><td>X513_Group1C_142dpi_LV_top_163_G_A3_P128.mzXML</td><td>513                                           </td><td>naive                                         </td><td>142dpi                                        </td><td>LV_top                                        </td><td>A3                                            </td><td>P128                                          </td><td>0.008847471                                   </td><td>0.03699675                                    </td><td>0.000000000                                   </td><td>0.007030000                                   </td><td>0.000523528                                   </td></tr>\n",
       "\t<tr><td>X514_Group1C_142dpi_LV_top_164_G_A4_P128.mzXML</td><td>514                                           </td><td>naive                                         </td><td>142dpi                                        </td><td>LV_top                                        </td><td>A4                                            </td><td>P128                                          </td><td>0.006734363                                   </td><td>0.01865059                                    </td><td>0.000214131                                   </td><td>0.000000000                                   </td><td>0.000000000                                   </td></tr>\n",
       "\t<tr><td>X515_Group1C_142dpi_LV_top_165_G_A5_P128.mzXML</td><td>515                                           </td><td>naive                                         </td><td>142dpi                                        </td><td>LV_top                                        </td><td>A5                                            </td><td>P128                                          </td><td>0.012388772                                   </td><td>0.03474977                                    </td><td>0.000635973                                   </td><td>0.006520000                                   </td><td>0.000621587                                   </td></tr>\n",
       "\t<tr><td>X531_Group1C_142dpi_LV_top_166_G_A6_P128.mzXML</td><td>531                                           </td><td>naive                                         </td><td>142dpi                                        </td><td>LV_top                                        </td><td>A6                                            </td><td>P128                                          </td><td>0.012357413                                   </td><td>0.03113655                                    </td><td>0.000643272                                   </td><td>0.007864901                                   </td><td>0.000467785                                   </td></tr>\n",
       "</tbody>\n",
       "</table>\n"
      ],
      "text/latex": [
       "\\begin{tabular}{r|llllllllllll}\n",
       " filename & MouseID & Treatmentgroup & DPI & organ & well\\_position & plate & mass\\_400 & mass\\_500 & mass\\_600 & mass\\_700 & mass\\_800\\\\\n",
       "\\hline\n",
       "\t X511\\_Group1C\\_142dpi\\_LV\\_top\\_161\\_G\\_A1\\_P128.mzXML & 511                                                            & naive                                                          & 142dpi                                                         & LV\\_top                                                       & A1                                                             & P128                                                           & 0.007457554                                                    & 0.02744597                                                     & 0.000521874                                                    & 0.000673111                                                    & 0.000000000                                                   \\\\\n",
       "\t X512\\_Group1C\\_142dpi\\_LV\\_top\\_162\\_G\\_A2\\_P128.mzXML & 512                                                            & naive                                                          & 142dpi                                                         & LV\\_top                                                       & A2                                                             & P128                                                           & 0.008515695                                                    & 0.02741206                                                     & 0.000255829                                                    & 0.000566018                                                    & 0.000000000                                                   \\\\\n",
       "\t X513\\_Group1C\\_142dpi\\_LV\\_top\\_163\\_G\\_A3\\_P128.mzXML & 513                                                            & naive                                                          & 142dpi                                                         & LV\\_top                                                       & A3                                                             & P128                                                           & 0.008847471                                                    & 0.03699675                                                     & 0.000000000                                                    & 0.007030000                                                    & 0.000523528                                                   \\\\\n",
       "\t X514\\_Group1C\\_142dpi\\_LV\\_top\\_164\\_G\\_A4\\_P128.mzXML & 514                                                            & naive                                                          & 142dpi                                                         & LV\\_top                                                       & A4                                                             & P128                                                           & 0.006734363                                                    & 0.01865059                                                     & 0.000214131                                                    & 0.000000000                                                    & 0.000000000                                                   \\\\\n",
       "\t X515\\_Group1C\\_142dpi\\_LV\\_top\\_165\\_G\\_A5\\_P128.mzXML & 515                                                            & naive                                                          & 142dpi                                                         & LV\\_top                                                       & A5                                                             & P128                                                           & 0.012388772                                                    & 0.03474977                                                     & 0.000635973                                                    & 0.006520000                                                    & 0.000621587                                                   \\\\\n",
       "\t X531\\_Group1C\\_142dpi\\_LV\\_top\\_166\\_G\\_A6\\_P128.mzXML & 531                                                            & naive                                                          & 142dpi                                                         & LV\\_top                                                       & A6                                                             & P128                                                           & 0.012357413                                                    & 0.03113655                                                     & 0.000643272                                                    & 0.007864901                                                    & 0.000467785                                                   \\\\\n",
       "\\end{tabular}\n"
      ],
      "text/markdown": [
       "\n",
       "| filename | MouseID | Treatmentgroup | DPI | organ | well_position | plate | mass_400 | mass_500 | mass_600 | mass_700 | mass_800 |\n",
       "|---|---|---|---|---|---|---|---|---|---|---|---|\n",
       "| X511_Group1C_142dpi_LV_top_161_G_A1_P128.mzXML | 511                                            | naive                                          | 142dpi                                         | LV_top                                         | A1                                             | P128                                           | 0.007457554                                    | 0.02744597                                     | 0.000521874                                    | 0.000673111                                    | 0.000000000                                    |\n",
       "| X512_Group1C_142dpi_LV_top_162_G_A2_P128.mzXML | 512                                            | naive                                          | 142dpi                                         | LV_top                                         | A2                                             | P128                                           | 0.008515695                                    | 0.02741206                                     | 0.000255829                                    | 0.000566018                                    | 0.000000000                                    |\n",
       "| X513_Group1C_142dpi_LV_top_163_G_A3_P128.mzXML | 513                                            | naive                                          | 142dpi                                         | LV_top                                         | A3                                             | P128                                           | 0.008847471                                    | 0.03699675                                     | 0.000000000                                    | 0.007030000                                    | 0.000523528                                    |\n",
       "| X514_Group1C_142dpi_LV_top_164_G_A4_P128.mzXML | 514                                            | naive                                          | 142dpi                                         | LV_top                                         | A4                                             | P128                                           | 0.006734363                                    | 0.01865059                                     | 0.000214131                                    | 0.000000000                                    | 0.000000000                                    |\n",
       "| X515_Group1C_142dpi_LV_top_165_G_A5_P128.mzXML | 515                                            | naive                                          | 142dpi                                         | LV_top                                         | A5                                             | P128                                           | 0.012388772                                    | 0.03474977                                     | 0.000635973                                    | 0.006520000                                    | 0.000621587                                    |\n",
       "| X531_Group1C_142dpi_LV_top_166_G_A6_P128.mzXML | 531                                            | naive                                          | 142dpi                                         | LV_top                                         | A6                                             | P128                                           | 0.012357413                                    | 0.03113655                                     | 0.000643272                                    | 0.007864901                                    | 0.000467785                                    |\n",
       "\n"
      ],
      "text/plain": [
       "  filename                                       MouseID Treatmentgroup DPI   \n",
       "1 X511_Group1C_142dpi_LV_top_161_G_A1_P128.mzXML 511     naive          142dpi\n",
       "2 X512_Group1C_142dpi_LV_top_162_G_A2_P128.mzXML 512     naive          142dpi\n",
       "3 X513_Group1C_142dpi_LV_top_163_G_A3_P128.mzXML 513     naive          142dpi\n",
       "4 X514_Group1C_142dpi_LV_top_164_G_A4_P128.mzXML 514     naive          142dpi\n",
       "5 X515_Group1C_142dpi_LV_top_165_G_A5_P128.mzXML 515     naive          142dpi\n",
       "6 X531_Group1C_142dpi_LV_top_166_G_A6_P128.mzXML 531     naive          142dpi\n",
       "  organ  well_position plate mass_400    mass_500   mass_600    mass_700   \n",
       "1 LV_top A1            P128  0.007457554 0.02744597 0.000521874 0.000673111\n",
       "2 LV_top A2            P128  0.008515695 0.02741206 0.000255829 0.000566018\n",
       "3 LV_top A3            P128  0.008847471 0.03699675 0.000000000 0.007030000\n",
       "4 LV_top A4            P128  0.006734363 0.01865059 0.000214131 0.000000000\n",
       "5 LV_top A5            P128  0.012388772 0.03474977 0.000635973 0.006520000\n",
       "6 LV_top A6            P128  0.012357413 0.03113655 0.000643272 0.007864901\n",
       "  mass_800   \n",
       "1 0.000000000\n",
       "2 0.000000000\n",
       "3 0.000523528\n",
       "4 0.000000000\n",
       "5 0.000621587\n",
       "6 0.000467785"
      ]
     },
     "metadata": {},
     "output_type": "display_data"
    },
    {
     "data": {
      "text/html": [
       "<ol class=list-inline>\n",
       "\t<li>30</li>\n",
       "\t<li>12</li>\n",
       "</ol>\n"
      ],
      "text/latex": [
       "\\begin{enumerate*}\n",
       "\\item 30\n",
       "\\item 12\n",
       "\\end{enumerate*}\n"
      ],
      "text/markdown": [
       "1. 30\n",
       "2. 12\n",
       "\n",
       "\n"
      ],
      "text/plain": [
       "[1] 30 12"
      ]
     },
     "metadata": {},
     "output_type": "display_data"
    },
    {
     "data": {
      "text/html": [
       "<ol class=list-inline>\n",
       "\t<li>30</li>\n",
       "\t<li>5</li>\n",
       "</ol>\n"
      ],
      "text/latex": [
       "\\begin{enumerate*}\n",
       "\\item 30\n",
       "\\item 5\n",
       "\\end{enumerate*}\n"
      ],
      "text/markdown": [
       "1. 30\n",
       "2. 5\n",
       "\n",
       "\n"
      ],
      "text/plain": [
       "[1] 30  5"
      ]
     },
     "metadata": {},
     "output_type": "display_data"
    },
    {
     "data": {
      "text/html": [
       "<ol class=list-inline>\n",
       "\t<li>30</li>\n",
       "\t<li>5</li>\n",
       "</ol>\n"
      ],
      "text/latex": [
       "\\begin{enumerate*}\n",
       "\\item 30\n",
       "\\item 5\n",
       "\\end{enumerate*}\n"
      ],
      "text/markdown": [
       "1. 30\n",
       "2. 5\n",
       "\n",
       "\n"
      ],
      "text/plain": [
       "[1] 30  5"
      ]
     },
     "metadata": {},
     "output_type": "display_data"
    },
    {
     "data": {
      "text/html": [
       "<ol class=list-inline>\n",
       "\t<li>30</li>\n",
       "\t<li>12</li>\n",
       "</ol>\n"
      ],
      "text/latex": [
       "\\begin{enumerate*}\n",
       "\\item 30\n",
       "\\item 12\n",
       "\\end{enumerate*}\n"
      ],
      "text/markdown": [
       "1. 30\n",
       "2. 12\n",
       "\n",
       "\n"
      ],
      "text/plain": [
       "[1] 30 12"
      ]
     },
     "metadata": {},
     "output_type": "display_data"
    }
   ],
   "source": [
    "noMeta<-features_pos[,8:12]\n",
    "head(noMeta)\n",
    "not_zero<-which(colSums(noMeta) != 0)\n",
    "head(not_zero)\n",
    "nonzero <- noMeta[, not_zero]\n",
    "nonzero\n",
    "nonzero_wMeta<-cbind(features_pos[,1:7], nonzero)\n",
    "head(nonzero_wMeta)\n",
    "dim(features_pos)\n",
    "dim(noMeta)\n",
    "dim(nonzero)\n",
    "dim(nonzero_wMeta)"
   ]
  },
  {
   "cell_type": "code",
   "execution_count": 5,
   "metadata": {
    "scrolled": true
   },
   "outputs": [
    {
     "name": "stderr",
     "output_type": "stream",
     "text": [
      "Warning message in wilcox.test.default(x = c(0.00344107, 0, 0.001891457, 0.000470912, :\n",
      "\"cannot compute exact p-value with ties\"Warning message in wilcox.test.default(x = c(0.000859417, 0, 0.000128239, 0, 0.000572521, :\n",
      "\"cannot compute exact p-value with ties\""
     ]
    },
    {
     "data": {
      "text/html": [
       "<ol class=list-inline>\n",
       "\t<li>0.0185537262328588</li>\n",
       "\t<li>0.0891947730984869</li>\n",
       "\t<li>0.539298539584697</li>\n",
       "\t<li>0.442826121138731</li>\n",
       "\t<li>0.32795817166021</li>\n",
       "</ol>\n"
      ],
      "text/latex": [
       "\\begin{enumerate*}\n",
       "\\item 0.0185537262328588\n",
       "\\item 0.0891947730984869\n",
       "\\item 0.539298539584697\n",
       "\\item 0.442826121138731\n",
       "\\item 0.32795817166021\n",
       "\\end{enumerate*}\n"
      ],
      "text/markdown": [
       "1. 0.0185537262328588\n",
       "2. 0.0891947730984869\n",
       "3. 0.539298539584697\n",
       "4. 0.442826121138731\n",
       "5. 0.32795817166021\n",
       "\n",
       "\n"
      ],
      "text/plain": [
       "[1] 0.01855373 0.08919477 0.53929854 0.44282612 0.32795817"
      ]
     },
     "metadata": {},
     "output_type": "display_data"
    },
    {
     "data": {
      "text/html": [
       "<ol class=list-inline>\n",
       "\t<li>0.092768631164294</li>\n",
       "\t<li>0.222986932746217</li>\n",
       "\t<li>0.539298539584697</li>\n",
       "\t<li>0.539298539584697</li>\n",
       "\t<li>0.539298539584697</li>\n",
       "</ol>\n"
      ],
      "text/latex": [
       "\\begin{enumerate*}\n",
       "\\item 0.092768631164294\n",
       "\\item 0.222986932746217\n",
       "\\item 0.539298539584697\n",
       "\\item 0.539298539584697\n",
       "\\item 0.539298539584697\n",
       "\\end{enumerate*}\n"
      ],
      "text/markdown": [
       "1. 0.092768631164294\n",
       "2. 0.222986932746217\n",
       "3. 0.539298539584697\n",
       "4. 0.539298539584697\n",
       "5. 0.539298539584697\n",
       "\n",
       "\n"
      ],
      "text/plain": [
       "[1] 0.09276863 0.22298693 0.53929854 0.53929854 0.53929854"
      ]
     },
     "metadata": {},
     "output_type": "display_data"
    }
   ],
   "source": [
    "pval<-c()\n",
    "\n",
    "for (i in 8:ncol(nonzero_wMeta)) \n",
    "pval<-c(pval,wilcox.test(nonzero_wMeta[,i]~nonzero_wMeta$Treatmentgroup)$p.value)\n",
    "head(pval)\n",
    "pAdj <- p.adjust(pval, method = c(\"fdr\"), n=length(pval)) \n",
    "head(pAdj) \n",
    "\n"
   ]
  },
  {
   "cell_type": "code",
   "execution_count": 6,
   "metadata": {
    "scrolled": true
   },
   "outputs": [
    {
     "data": {
      "text/html": [
       "5"
      ],
      "text/latex": [
       "5"
      ],
      "text/markdown": [
       "5"
      ],
      "text/plain": [
       "[1] 5"
      ]
     },
     "metadata": {},
     "output_type": "display_data"
    }
   ],
   "source": [
    "length(pval)"
   ]
  },
  {
   "cell_type": "code",
   "execution_count": 7,
   "metadata": {
    "scrolled": true
   },
   "outputs": [
    {
     "data": {
      "text/html": [
       "5"
      ],
      "text/latex": [
       "5"
      ],
      "text/markdown": [
       "5"
      ],
      "text/plain": [
       "[1] 5"
      ]
     },
     "metadata": {},
     "output_type": "display_data"
    }
   ],
   "source": [
    "length(pAdj)"
   ]
  },
  {
   "cell_type": "code",
   "execution_count": 8,
   "metadata": {},
   "outputs": [
    {
     "data": {
      "text/html": [
       "<ol class=list-inline>\n",
       "\t<li>2</li>\n",
       "\t<li>5</li>\n",
       "</ol>\n"
      ],
      "text/latex": [
       "\\begin{enumerate*}\n",
       "\\item 2\n",
       "\\item 5\n",
       "\\end{enumerate*}\n"
      ],
      "text/markdown": [
       "1. 2\n",
       "2. 5\n",
       "\n",
       "\n"
      ],
      "text/plain": [
       "[1] 2 5"
      ]
     },
     "metadata": {},
     "output_type": "display_data"
    },
    {
     "data": {
      "text/html": [
       "<table>\n",
       "<thead><tr><th></th><th scope=col>mass_400</th><th scope=col>mass_500</th><th scope=col>mass_600</th></tr></thead>\n",
       "<tbody>\n",
       "\t<tr><th scope=row>combo</th><td>0.006072071 </td><td>0.02057404  </td><td>0.0002782130</td></tr>\n",
       "\t<tr><th scope=row>naive</th><td>0.008506890 </td><td>0.02700054  </td><td>0.0003089557</td></tr>\n",
       "</tbody>\n",
       "</table>\n"
      ],
      "text/latex": [
       "\\begin{tabular}{r|lll}\n",
       "  & mass\\_400 & mass\\_500 & mass\\_600\\\\\n",
       "\\hline\n",
       "\tcombo & 0.006072071  & 0.02057404   & 0.0002782130\\\\\n",
       "\tnaive & 0.008506890  & 0.02700054   & 0.0003089557\\\\\n",
       "\\end{tabular}\n"
      ],
      "text/markdown": [
       "\n",
       "| <!--/--> | mass_400 | mass_500 | mass_600 |\n",
       "|---|---|---|---|\n",
       "| combo | 0.006072071  | 0.02057404   | 0.0002782130 |\n",
       "| naive | 0.008506890  | 0.02700054   | 0.0003089557 |\n",
       "\n"
      ],
      "text/plain": [
       "      mass_400    mass_500   mass_600    \n",
       "combo 0.006072071 0.02057404 0.0002782130\n",
       "naive 0.008506890 0.02700054 0.0003089557"
      ]
     },
     "metadata": {},
     "output_type": "display_data"
    },
    {
     "data": {
      "text/html": [
       "<dl class=dl-horizontal>\n",
       "\t<dt>mass_400</dt>\n",
       "\t\t<dd>0.713782715843924</dd>\n",
       "\t<dt>mass_500</dt>\n",
       "\t\t<dd>0.761986130415218</dd>\n",
       "\t<dt>mass_600</dt>\n",
       "\t\t<dd>0.90049489301054</dd>\n",
       "\t<dt>mass_700</dt>\n",
       "\t\t<dd>1.47457910290194</dd>\n",
       "\t<dt>mass_800</dt>\n",
       "\t\t<dd>1.67079118745744</dd>\n",
       "</dl>\n"
      ],
      "text/latex": [
       "\\begin{description*}\n",
       "\\item[mass\\textbackslash{}\\_400] 0.713782715843924\n",
       "\\item[mass\\textbackslash{}\\_500] 0.761986130415218\n",
       "\\item[mass\\textbackslash{}\\_600] 0.90049489301054\n",
       "\\item[mass\\textbackslash{}\\_700] 1.47457910290194\n",
       "\\item[mass\\textbackslash{}\\_800] 1.67079118745744\n",
       "\\end{description*}\n"
      ],
      "text/markdown": [
       "mass_400\n",
       ":   0.713782715843924mass_500\n",
       ":   0.761986130415218mass_600\n",
       ":   0.90049489301054mass_700\n",
       ":   1.47457910290194mass_800\n",
       ":   1.67079118745744\n",
       "\n"
      ],
      "text/plain": [
       " mass_400  mass_500  mass_600  mass_700  mass_800 \n",
       "0.7137827 0.7619861 0.9004949 1.4745791 1.6707912 "
      ]
     },
     "metadata": {},
     "output_type": "display_data"
    },
    {
     "data": {
      "text/html": [
       "<ol class=list-inline>\n",
       "\t<li>'numeric'</li>\n",
       "\t<li>'vector'</li>\n",
       "</ol>\n"
      ],
      "text/latex": [
       "\\begin{enumerate*}\n",
       "\\item 'numeric'\n",
       "\\item 'vector'\n",
       "\\end{enumerate*}\n"
      ],
      "text/markdown": [
       "1. 'numeric'\n",
       "2. 'vector'\n",
       "\n",
       "\n"
      ],
      "text/plain": [
       "[1] \"numeric\" \"vector\" "
      ]
     },
     "metadata": {},
     "output_type": "display_data"
    }
   ],
   "source": [
    "avg<- apply(nonzero_wMeta[,8:ncol(nonzero_wMeta)], 2, function(x) tapply(x, nonzero_wMeta$Treatmentgroup, function(x) mean(x))) \n",
    "\n",
    "dim(avg)\n",
    "\n",
    "avg[,1:3]\n",
    "\n",
    "fch <- apply(avg, 2, function(x) x[1]/x[2])\n",
    "\n",
    "head(fch)\n",
    "is(fch)"
   ]
  },
  {
   "cell_type": "code",
   "execution_count": 9,
   "metadata": {
    "scrolled": true
   },
   "outputs": [
    {
     "data": {
      "text/html": [
       "<dl class=dl-horizontal>\n",
       "\t<dt>mass_400</dt>\n",
       "\t\t<dd>0.713782715843924</dd>\n",
       "\t<dt>mass_500</dt>\n",
       "\t\t<dd>0.761986130415218</dd>\n",
       "\t<dt>mass_600</dt>\n",
       "\t\t<dd>0.90049489301054</dd>\n",
       "\t<dt>mass_700</dt>\n",
       "\t\t<dd>1.47457910290194</dd>\n",
       "\t<dt>mass_800</dt>\n",
       "\t\t<dd>1.67079118745744</dd>\n",
       "</dl>\n"
      ],
      "text/latex": [
       "\\begin{description*}\n",
       "\\item[mass\\textbackslash{}\\_400] 0.713782715843924\n",
       "\\item[mass\\textbackslash{}\\_500] 0.761986130415218\n",
       "\\item[mass\\textbackslash{}\\_600] 0.90049489301054\n",
       "\\item[mass\\textbackslash{}\\_700] 1.47457910290194\n",
       "\\item[mass\\textbackslash{}\\_800] 1.67079118745744\n",
       "\\end{description*}\n"
      ],
      "text/markdown": [
       "mass_400\n",
       ":   0.713782715843924mass_500\n",
       ":   0.761986130415218mass_600\n",
       ":   0.90049489301054mass_700\n",
       ":   1.47457910290194mass_800\n",
       ":   1.67079118745744\n",
       "\n"
      ],
      "text/plain": [
       " mass_400  mass_500  mass_600  mass_700  mass_800 \n",
       "0.7137827 0.7619861 0.9004949 1.4745791 1.6707912 "
      ]
     },
     "metadata": {},
     "output_type": "display_data"
    }
   ],
   "source": [
    "fch"
   ]
  },
  {
   "cell_type": "code",
   "execution_count": 10,
   "metadata": {
    "scrolled": false
   },
   "outputs": [],
   "source": [
    "df <- data.frame(fch,pval, pAdj)\n",
    "write.csv(df, \"PE-treat-LVT-wilcox-naive-combo.csv\")"
   ]
  },
  {
   "cell_type": "code",
   "execution_count": null,
   "metadata": {},
   "outputs": [],
   "source": []
  },
  {
   "cell_type": "code",
   "execution_count": null,
   "metadata": {},
   "outputs": [],
   "source": []
  },
  {
   "cell_type": "code",
   "execution_count": null,
   "metadata": {},
   "outputs": [],
   "source": []
  },
  {
   "cell_type": "code",
   "execution_count": null,
   "metadata": {},
   "outputs": [],
   "source": []
  },
  {
   "cell_type": "code",
   "execution_count": null,
   "metadata": {},
   "outputs": [],
   "source": []
  },
  {
   "cell_type": "code",
   "execution_count": null,
   "metadata": {},
   "outputs": [],
   "source": []
  }
 ],
 "metadata": {
  "kernelspec": {
   "display_name": "R",
   "language": "R",
   "name": "ir"
  },
  "language_info": {
   "codemirror_mode": "r",
   "file_extension": ".r",
   "mimetype": "text/x-r-source",
   "name": "R",
   "pygments_lexer": "r",
   "version": "3.6.1"
  }
 },
 "nbformat": 4,
 "nbformat_minor": 2
}
