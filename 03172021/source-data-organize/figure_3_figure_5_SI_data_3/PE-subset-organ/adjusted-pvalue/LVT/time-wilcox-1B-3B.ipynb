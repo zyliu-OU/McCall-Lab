{
 "cells": [
  {
   "cell_type": "code",
   "execution_count": 1,
   "metadata": {},
   "outputs": [],
   "source": [
    "a <- read.csv(\"03172021-PE-time-LVT-M-F.csv\")"
   ]
  },
  {
   "cell_type": "code",
   "execution_count": 2,
   "metadata": {},
   "outputs": [
    {
     "data": {
      "text/html": [
       "<table>\n",
       "<thead><tr><th scope=col>filename</th><th scope=col>MouseID</th><th scope=col>Treatmentgroup</th><th scope=col>status</th><th scope=col>DPI</th><th scope=col>organ</th><th scope=col>well_position</th><th scope=col>plate</th><th scope=col>mass_400</th><th scope=col>mass_500</th><th scope=col>mass_600</th><th scope=col>mass_700</th><th scope=col>mass_800</th></tr></thead>\n",
       "<tbody>\n",
       "\t<tr><td>X501_Group1A_50dpi_LV_top_251_B_A1_P129.mzXML</td><td>501                                          </td><td>Group1A                                      </td><td>naive                                        </td><td>50dpi                                        </td><td>LV_top                                       </td><td>A1                                           </td><td>P129                                         </td><td>0.01053354                                   </td><td>0.02046503                                   </td><td>0.000721330                                  </td><td>0.001451111                                  </td><td>0.000097400                                  </td></tr>\n",
       "\t<tr><td>X502_Group1A_50dpi_LV_top_252_B_A2_P129.mzXML</td><td>502                                          </td><td>Group1A                                      </td><td>naive                                        </td><td>50dpi                                        </td><td>LV_top                                       </td><td>A2                                           </td><td>P129                                         </td><td>0.01021398                                   </td><td>0.02092002                                   </td><td>0.000570535                                  </td><td>0.004060000                                  </td><td>0.000000000                                  </td></tr>\n",
       "\t<tr><td>X503_Group1A_50dpi_LV_top_253_B_A3_P129.mzXML</td><td>503                                          </td><td>Group1A                                      </td><td>naive                                        </td><td>50dpi                                        </td><td>LV_top                                       </td><td>A3                                           </td><td>P129                                         </td><td>0.01201106                                   </td><td>0.02075585                                   </td><td>0.000657954                                  </td><td>0.004291087                                  </td><td>0.000000000                                  </td></tr>\n",
       "\t<tr><td>X504_Group1A_50dpi_LV_top_254_B_A4_P129.mzXML</td><td>504                                          </td><td>Group1A                                      </td><td>naive                                        </td><td>50dpi                                        </td><td>LV_top                                       </td><td>A4                                           </td><td>P129                                         </td><td>0.01001927                                   </td><td>0.02091586                                   </td><td>0.001080712                                  </td><td>0.001449577                                  </td><td>0.000000000                                  </td></tr>\n",
       "\t<tr><td>X505_Group1A_50dpi_LV_top_255_B_A5_P129.mzXML</td><td>505                                          </td><td>Group1A                                      </td><td>naive                                        </td><td>50dpi                                        </td><td>LV_top                                       </td><td>A5                                           </td><td>P129                                         </td><td>0.01026407                                   </td><td>0.01977764                                   </td><td>0.001055370                                  </td><td>0.001997117                                  </td><td>0.000129107                                  </td></tr>\n",
       "\t<tr><td>X521_Group1A_50dpi_LV_top_256_B_A6_P129.mzXML</td><td>521                                          </td><td>Group1A                                      </td><td>naive                                        </td><td>50dpi                                        </td><td>LV_top                                       </td><td>A6                                           </td><td>P129                                         </td><td>0.01061997                                   </td><td>0.02200000                                   </td><td>0.000305079                                  </td><td>0.001969700                                  </td><td>0.000000000                                  </td></tr>\n",
       "</tbody>\n",
       "</table>\n"
      ],
      "text/latex": [
       "\\begin{tabular}{r|lllllllllllll}\n",
       " filename & MouseID & Treatmentgroup & status & DPI & organ & well\\_position & plate & mass\\_400 & mass\\_500 & mass\\_600 & mass\\_700 & mass\\_800\\\\\n",
       "\\hline\n",
       "\t X501\\_Group1A\\_50dpi\\_LV\\_top\\_251\\_B\\_A1\\_P129.mzXML & 501                                                           & Group1A                                                       & naive                                                         & 50dpi                                                         & LV\\_top                                                      & A1                                                            & P129                                                          & 0.01053354                                                    & 0.02046503                                                    & 0.000721330                                                   & 0.001451111                                                   & 0.000097400                                                  \\\\\n",
       "\t X502\\_Group1A\\_50dpi\\_LV\\_top\\_252\\_B\\_A2\\_P129.mzXML & 502                                                           & Group1A                                                       & naive                                                         & 50dpi                                                         & LV\\_top                                                      & A2                                                            & P129                                                          & 0.01021398                                                    & 0.02092002                                                    & 0.000570535                                                   & 0.004060000                                                   & 0.000000000                                                  \\\\\n",
       "\t X503\\_Group1A\\_50dpi\\_LV\\_top\\_253\\_B\\_A3\\_P129.mzXML & 503                                                           & Group1A                                                       & naive                                                         & 50dpi                                                         & LV\\_top                                                      & A3                                                            & P129                                                          & 0.01201106                                                    & 0.02075585                                                    & 0.000657954                                                   & 0.004291087                                                   & 0.000000000                                                  \\\\\n",
       "\t X504\\_Group1A\\_50dpi\\_LV\\_top\\_254\\_B\\_A4\\_P129.mzXML & 504                                                           & Group1A                                                       & naive                                                         & 50dpi                                                         & LV\\_top                                                      & A4                                                            & P129                                                          & 0.01001927                                                    & 0.02091586                                                    & 0.001080712                                                   & 0.001449577                                                   & 0.000000000                                                  \\\\\n",
       "\t X505\\_Group1A\\_50dpi\\_LV\\_top\\_255\\_B\\_A5\\_P129.mzXML & 505                                                           & Group1A                                                       & naive                                                         & 50dpi                                                         & LV\\_top                                                      & A5                                                            & P129                                                          & 0.01026407                                                    & 0.01977764                                                    & 0.001055370                                                   & 0.001997117                                                   & 0.000129107                                                  \\\\\n",
       "\t X521\\_Group1A\\_50dpi\\_LV\\_top\\_256\\_B\\_A6\\_P129.mzXML & 521                                                           & Group1A                                                       & naive                                                         & 50dpi                                                         & LV\\_top                                                      & A6                                                            & P129                                                          & 0.01061997                                                    & 0.02200000                                                    & 0.000305079                                                   & 0.001969700                                                   & 0.000000000                                                  \\\\\n",
       "\\end{tabular}\n"
      ],
      "text/markdown": [
       "\n",
       "| filename | MouseID | Treatmentgroup | status | DPI | organ | well_position | plate | mass_400 | mass_500 | mass_600 | mass_700 | mass_800 |\n",
       "|---|---|---|---|---|---|---|---|---|---|---|---|---|\n",
       "| X501_Group1A_50dpi_LV_top_251_B_A1_P129.mzXML | 501                                           | Group1A                                       | naive                                         | 50dpi                                         | LV_top                                        | A1                                            | P129                                          | 0.01053354                                    | 0.02046503                                    | 0.000721330                                   | 0.001451111                                   | 0.000097400                                   |\n",
       "| X502_Group1A_50dpi_LV_top_252_B_A2_P129.mzXML | 502                                           | Group1A                                       | naive                                         | 50dpi                                         | LV_top                                        | A2                                            | P129                                          | 0.01021398                                    | 0.02092002                                    | 0.000570535                                   | 0.004060000                                   | 0.000000000                                   |\n",
       "| X503_Group1A_50dpi_LV_top_253_B_A3_P129.mzXML | 503                                           | Group1A                                       | naive                                         | 50dpi                                         | LV_top                                        | A3                                            | P129                                          | 0.01201106                                    | 0.02075585                                    | 0.000657954                                   | 0.004291087                                   | 0.000000000                                   |\n",
       "| X504_Group1A_50dpi_LV_top_254_B_A4_P129.mzXML | 504                                           | Group1A                                       | naive                                         | 50dpi                                         | LV_top                                        | A4                                            | P129                                          | 0.01001927                                    | 0.02091586                                    | 0.001080712                                   | 0.001449577                                   | 0.000000000                                   |\n",
       "| X505_Group1A_50dpi_LV_top_255_B_A5_P129.mzXML | 505                                           | Group1A                                       | naive                                         | 50dpi                                         | LV_top                                        | A5                                            | P129                                          | 0.01026407                                    | 0.01977764                                    | 0.001055370                                   | 0.001997117                                   | 0.000129107                                   |\n",
       "| X521_Group1A_50dpi_LV_top_256_B_A6_P129.mzXML | 521                                           | Group1A                                       | naive                                         | 50dpi                                         | LV_top                                        | A6                                            | P129                                          | 0.01061997                                    | 0.02200000                                    | 0.000305079                                   | 0.001969700                                   | 0.000000000                                   |\n",
       "\n"
      ],
      "text/plain": [
       "  filename                                      MouseID Treatmentgroup status\n",
       "1 X501_Group1A_50dpi_LV_top_251_B_A1_P129.mzXML 501     Group1A        naive \n",
       "2 X502_Group1A_50dpi_LV_top_252_B_A2_P129.mzXML 502     Group1A        naive \n",
       "3 X503_Group1A_50dpi_LV_top_253_B_A3_P129.mzXML 503     Group1A        naive \n",
       "4 X504_Group1A_50dpi_LV_top_254_B_A4_P129.mzXML 504     Group1A        naive \n",
       "5 X505_Group1A_50dpi_LV_top_255_B_A5_P129.mzXML 505     Group1A        naive \n",
       "6 X521_Group1A_50dpi_LV_top_256_B_A6_P129.mzXML 521     Group1A        naive \n",
       "  DPI   organ  well_position plate mass_400   mass_500   mass_600   \n",
       "1 50dpi LV_top A1            P129  0.01053354 0.02046503 0.000721330\n",
       "2 50dpi LV_top A2            P129  0.01021398 0.02092002 0.000570535\n",
       "3 50dpi LV_top A3            P129  0.01201106 0.02075585 0.000657954\n",
       "4 50dpi LV_top A4            P129  0.01001927 0.02091586 0.001080712\n",
       "5 50dpi LV_top A5            P129  0.01026407 0.01977764 0.001055370\n",
       "6 50dpi LV_top A6            P129  0.01061997 0.02200000 0.000305079\n",
       "  mass_700    mass_800   \n",
       "1 0.001451111 0.000097400\n",
       "2 0.004060000 0.000000000\n",
       "3 0.004291087 0.000000000\n",
       "4 0.001449577 0.000000000\n",
       "5 0.001997117 0.000129107\n",
       "6 0.001969700 0.000000000"
      ]
     },
     "metadata": {},
     "output_type": "display_data"
    },
    {
     "data": {
      "text/html": [
       "<ol class=list-inline>\n",
       "\t<li>90</li>\n",
       "\t<li>13</li>\n",
       "</ol>\n"
      ],
      "text/latex": [
       "\\begin{enumerate*}\n",
       "\\item 90\n",
       "\\item 13\n",
       "\\end{enumerate*}\n"
      ],
      "text/markdown": [
       "1. 90\n",
       "2. 13\n",
       "\n",
       "\n"
      ],
      "text/plain": [
       "[1] 90 13"
      ]
     },
     "metadata": {},
     "output_type": "display_data"
    }
   ],
   "source": [
    "head(a)\n",
    "dim(a)"
   ]
  },
  {
   "cell_type": "code",
   "execution_count": 3,
   "metadata": {},
   "outputs": [
    {
     "data": {
      "text/html": [
       "<table>\n",
       "<thead><tr><th></th><th scope=col>filename</th><th scope=col>MouseID</th><th scope=col>Treatmentgroup</th><th scope=col>status</th><th scope=col>DPI</th><th scope=col>organ</th><th scope=col>well_position</th><th scope=col>plate</th><th scope=col>mass_400</th><th scope=col>mass_500</th><th scope=col>mass_600</th><th scope=col>mass_700</th><th scope=col>mass_800</th></tr></thead>\n",
       "<tbody>\n",
       "\t<tr><th scope=row>16</th><td>X506_Group1B_70dpi_LV_top_281_B_C7_P129.mzXML </td><td>506                                           </td><td>Group1B                                       </td><td>naive                                         </td><td>70dpi                                         </td><td>LV_top                                        </td><td>C7                                            </td><td>P129                                          </td><td>0.007132665                                   </td><td>0.017993843                                   </td><td>0.001134236                                   </td><td>0.002388530                                   </td><td>0.000000000                                   </td></tr>\n",
       "\t<tr><th scope=row>17</th><td>X507_Group1B_70dpi_LV_top_282_B_C8_P129.mzXML </td><td>507                                           </td><td>Group1B                                       </td><td>naive                                         </td><td>70dpi                                         </td><td>LV_top                                        </td><td>C8                                            </td><td>P129                                          </td><td>0.009149911                                   </td><td>0.011522234                                   </td><td>0.000289309                                   </td><td>0.000895810                                   </td><td>0.000000000                                   </td></tr>\n",
       "\t<tr><th scope=row>18</th><td>X508_Group1B_70dpi_LV_top_283_B_C9_P129.mzXML </td><td>508                                           </td><td>Group1B                                       </td><td>naive                                         </td><td>70dpi                                         </td><td>LV_top                                        </td><td>C9                                            </td><td>P129                                          </td><td>0.001827752                                   </td><td>0.004212732                                   </td><td>0.000300932                                   </td><td>0.003022946                                   </td><td>0.000022800                                   </td></tr>\n",
       "\t<tr><th scope=row>19</th><td>X509_Group1B_70dpi_LV_top_284_B_C10_P129.mzXML</td><td>509                                           </td><td>Group1B                                       </td><td>naive                                         </td><td>70dpi                                         </td><td>LV_top                                        </td><td>C10                                           </td><td>P129                                          </td><td>0.005239035                                   </td><td>0.014700000                                   </td><td>0.000297503                                   </td><td>0.002483543                                   </td><td>0.000027000                                   </td></tr>\n",
       "\t<tr><th scope=row>20</th><td>X510_Group1B_70dpi_LV_top_285_B_C11_P129.mzXML</td><td>510                                           </td><td>Group1B                                       </td><td>naive                                         </td><td>70dpi                                         </td><td>LV_top                                        </td><td>C11                                           </td><td>P129                                          </td><td>0.006024284                                   </td><td>0.016169402                                   </td><td>0.000469285                                   </td><td>0.004189046                                   </td><td>0.000756478                                   </td></tr>\n",
       "\t<tr><th scope=row>21</th><td>X526_Group1B_70dpi_LV_top_286_B_C12_P129.mzXML</td><td>526                                           </td><td>Group1B                                       </td><td>naive                                         </td><td>70dpi                                         </td><td>LV_top                                        </td><td>C12                                           </td><td>P129                                          </td><td>0.004323760                                   </td><td>0.012069876                                   </td><td>0.000066200                                   </td><td>0.003164847                                   </td><td>0.000034000                                   </td></tr>\n",
       "</tbody>\n",
       "</table>\n"
      ],
      "text/latex": [
       "\\begin{tabular}{r|lllllllllllll}\n",
       "  & filename & MouseID & Treatmentgroup & status & DPI & organ & well\\_position & plate & mass\\_400 & mass\\_500 & mass\\_600 & mass\\_700 & mass\\_800\\\\\n",
       "\\hline\n",
       "\t16 & X506\\_Group1B\\_70dpi\\_LV\\_top\\_281\\_B\\_C7\\_P129.mzXML  & 506                                                            & Group1B                                                        & naive                                                          & 70dpi                                                          & LV\\_top                                                       & C7                                                             & P129                                                           & 0.007132665                                                    & 0.017993843                                                    & 0.001134236                                                    & 0.002388530                                                    & 0.000000000                                                   \\\\\n",
       "\t17 & X507\\_Group1B\\_70dpi\\_LV\\_top\\_282\\_B\\_C8\\_P129.mzXML  & 507                                                            & Group1B                                                        & naive                                                          & 70dpi                                                          & LV\\_top                                                       & C8                                                             & P129                                                           & 0.009149911                                                    & 0.011522234                                                    & 0.000289309                                                    & 0.000895810                                                    & 0.000000000                                                   \\\\\n",
       "\t18 & X508\\_Group1B\\_70dpi\\_LV\\_top\\_283\\_B\\_C9\\_P129.mzXML  & 508                                                            & Group1B                                                        & naive                                                          & 70dpi                                                          & LV\\_top                                                       & C9                                                             & P129                                                           & 0.001827752                                                    & 0.004212732                                                    & 0.000300932                                                    & 0.003022946                                                    & 0.000022800                                                   \\\\\n",
       "\t19 & X509\\_Group1B\\_70dpi\\_LV\\_top\\_284\\_B\\_C10\\_P129.mzXML & 509                                                            & Group1B                                                        & naive                                                          & 70dpi                                                          & LV\\_top                                                       & C10                                                            & P129                                                           & 0.005239035                                                    & 0.014700000                                                    & 0.000297503                                                    & 0.002483543                                                    & 0.000027000                                                   \\\\\n",
       "\t20 & X510\\_Group1B\\_70dpi\\_LV\\_top\\_285\\_B\\_C11\\_P129.mzXML & 510                                                            & Group1B                                                        & naive                                                          & 70dpi                                                          & LV\\_top                                                       & C11                                                            & P129                                                           & 0.006024284                                                    & 0.016169402                                                    & 0.000469285                                                    & 0.004189046                                                    & 0.000756478                                                   \\\\\n",
       "\t21 & X526\\_Group1B\\_70dpi\\_LV\\_top\\_286\\_B\\_C12\\_P129.mzXML & 526                                                            & Group1B                                                        & naive                                                          & 70dpi                                                          & LV\\_top                                                       & C12                                                            & P129                                                           & 0.004323760                                                    & 0.012069876                                                    & 0.000066200                                                    & 0.003164847                                                    & 0.000034000                                                   \\\\\n",
       "\\end{tabular}\n"
      ],
      "text/markdown": [
       "\n",
       "| <!--/--> | filename | MouseID | Treatmentgroup | status | DPI | organ | well_position | plate | mass_400 | mass_500 | mass_600 | mass_700 | mass_800 |\n",
       "|---|---|---|---|---|---|---|---|---|---|---|---|---|---|\n",
       "| 16 | X506_Group1B_70dpi_LV_top_281_B_C7_P129.mzXML  | 506                                            | Group1B                                        | naive                                          | 70dpi                                          | LV_top                                         | C7                                             | P129                                           | 0.007132665                                    | 0.017993843                                    | 0.001134236                                    | 0.002388530                                    | 0.000000000                                    |\n",
       "| 17 | X507_Group1B_70dpi_LV_top_282_B_C8_P129.mzXML  | 507                                            | Group1B                                        | naive                                          | 70dpi                                          | LV_top                                         | C8                                             | P129                                           | 0.009149911                                    | 0.011522234                                    | 0.000289309                                    | 0.000895810                                    | 0.000000000                                    |\n",
       "| 18 | X508_Group1B_70dpi_LV_top_283_B_C9_P129.mzXML  | 508                                            | Group1B                                        | naive                                          | 70dpi                                          | LV_top                                         | C9                                             | P129                                           | 0.001827752                                    | 0.004212732                                    | 0.000300932                                    | 0.003022946                                    | 0.000022800                                    |\n",
       "| 19 | X509_Group1B_70dpi_LV_top_284_B_C10_P129.mzXML | 509                                            | Group1B                                        | naive                                          | 70dpi                                          | LV_top                                         | C10                                            | P129                                           | 0.005239035                                    | 0.014700000                                    | 0.000297503                                    | 0.002483543                                    | 0.000027000                                    |\n",
       "| 20 | X510_Group1B_70dpi_LV_top_285_B_C11_P129.mzXML | 510                                            | Group1B                                        | naive                                          | 70dpi                                          | LV_top                                         | C11                                            | P129                                           | 0.006024284                                    | 0.016169402                                    | 0.000469285                                    | 0.004189046                                    | 0.000756478                                    |\n",
       "| 21 | X526_Group1B_70dpi_LV_top_286_B_C12_P129.mzXML | 526                                            | Group1B                                        | naive                                          | 70dpi                                          | LV_top                                         | C12                                            | P129                                           | 0.004323760                                    | 0.012069876                                    | 0.000066200                                    | 0.003164847                                    | 0.000034000                                    |\n",
       "\n"
      ],
      "text/plain": [
       "   filename                                       MouseID Treatmentgroup status\n",
       "16 X506_Group1B_70dpi_LV_top_281_B_C7_P129.mzXML  506     Group1B        naive \n",
       "17 X507_Group1B_70dpi_LV_top_282_B_C8_P129.mzXML  507     Group1B        naive \n",
       "18 X508_Group1B_70dpi_LV_top_283_B_C9_P129.mzXML  508     Group1B        naive \n",
       "19 X509_Group1B_70dpi_LV_top_284_B_C10_P129.mzXML 509     Group1B        naive \n",
       "20 X510_Group1B_70dpi_LV_top_285_B_C11_P129.mzXML 510     Group1B        naive \n",
       "21 X526_Group1B_70dpi_LV_top_286_B_C12_P129.mzXML 526     Group1B        naive \n",
       "   DPI   organ  well_position plate mass_400    mass_500    mass_600   \n",
       "16 70dpi LV_top C7            P129  0.007132665 0.017993843 0.001134236\n",
       "17 70dpi LV_top C8            P129  0.009149911 0.011522234 0.000289309\n",
       "18 70dpi LV_top C9            P129  0.001827752 0.004212732 0.000300932\n",
       "19 70dpi LV_top C10           P129  0.005239035 0.014700000 0.000297503\n",
       "20 70dpi LV_top C11           P129  0.006024284 0.016169402 0.000469285\n",
       "21 70dpi LV_top C12           P129  0.004323760 0.012069876 0.000066200\n",
       "   mass_700    mass_800   \n",
       "16 0.002388530 0.000000000\n",
       "17 0.000895810 0.000000000\n",
       "18 0.003022946 0.000022800\n",
       "19 0.002483543 0.000027000\n",
       "20 0.004189046 0.000756478\n",
       "21 0.003164847 0.000034000"
      ]
     },
     "metadata": {},
     "output_type": "display_data"
    },
    {
     "data": {
      "text/html": [
       "<ol class=list-inline>\n",
       "\t<li>30</li>\n",
       "\t<li>13</li>\n",
       "</ol>\n"
      ],
      "text/latex": [
       "\\begin{enumerate*}\n",
       "\\item 30\n",
       "\\item 13\n",
       "\\end{enumerate*}\n"
      ],
      "text/markdown": [
       "1. 30\n",
       "2. 13\n",
       "\n",
       "\n"
      ],
      "text/plain": [
       "[1] 30 13"
      ]
     },
     "metadata": {},
     "output_type": "display_data"
    }
   ],
   "source": [
    "features_pos<-droplevels(subset(a, a$Treatmentgroup==c(\"Group1B\")|a$Treatmentgroup==c(\"Group3B\")))\n",
    "head(features_pos)\n",
    "dim(features_pos)"
   ]
  },
  {
   "cell_type": "code",
   "execution_count": 4,
   "metadata": {
    "scrolled": false
   },
   "outputs": [
    {
     "data": {
      "text/html": [
       "<table>\n",
       "<thead><tr><th></th><th scope=col>mass_400</th><th scope=col>mass_500</th><th scope=col>mass_600</th><th scope=col>mass_700</th><th scope=col>mass_800</th></tr></thead>\n",
       "<tbody>\n",
       "\t<tr><th scope=row>16</th><td>0.007132665</td><td>0.017993843</td><td>0.001134236</td><td>0.002388530</td><td>0.000000000</td></tr>\n",
       "\t<tr><th scope=row>17</th><td>0.009149911</td><td>0.011522234</td><td>0.000289309</td><td>0.000895810</td><td>0.000000000</td></tr>\n",
       "\t<tr><th scope=row>18</th><td>0.001827752</td><td>0.004212732</td><td>0.000300932</td><td>0.003022946</td><td>0.000022800</td></tr>\n",
       "\t<tr><th scope=row>19</th><td>0.005239035</td><td>0.014700000</td><td>0.000297503</td><td>0.002483543</td><td>0.000027000</td></tr>\n",
       "\t<tr><th scope=row>20</th><td>0.006024284</td><td>0.016169402</td><td>0.000469285</td><td>0.004189046</td><td>0.000756478</td></tr>\n",
       "\t<tr><th scope=row>21</th><td>0.004323760</td><td>0.012069876</td><td>0.000066200</td><td>0.003164847</td><td>0.000034000</td></tr>\n",
       "</tbody>\n",
       "</table>\n"
      ],
      "text/latex": [
       "\\begin{tabular}{r|lllll}\n",
       "  & mass\\_400 & mass\\_500 & mass\\_600 & mass\\_700 & mass\\_800\\\\\n",
       "\\hline\n",
       "\t16 & 0.007132665 & 0.017993843 & 0.001134236 & 0.002388530 & 0.000000000\\\\\n",
       "\t17 & 0.009149911 & 0.011522234 & 0.000289309 & 0.000895810 & 0.000000000\\\\\n",
       "\t18 & 0.001827752 & 0.004212732 & 0.000300932 & 0.003022946 & 0.000022800\\\\\n",
       "\t19 & 0.005239035 & 0.014700000 & 0.000297503 & 0.002483543 & 0.000027000\\\\\n",
       "\t20 & 0.006024284 & 0.016169402 & 0.000469285 & 0.004189046 & 0.000756478\\\\\n",
       "\t21 & 0.004323760 & 0.012069876 & 0.000066200 & 0.003164847 & 0.000034000\\\\\n",
       "\\end{tabular}\n"
      ],
      "text/markdown": [
       "\n",
       "| <!--/--> | mass_400 | mass_500 | mass_600 | mass_700 | mass_800 |\n",
       "|---|---|---|---|---|---|\n",
       "| 16 | 0.007132665 | 0.017993843 | 0.001134236 | 0.002388530 | 0.000000000 |\n",
       "| 17 | 0.009149911 | 0.011522234 | 0.000289309 | 0.000895810 | 0.000000000 |\n",
       "| 18 | 0.001827752 | 0.004212732 | 0.000300932 | 0.003022946 | 0.000022800 |\n",
       "| 19 | 0.005239035 | 0.014700000 | 0.000297503 | 0.002483543 | 0.000027000 |\n",
       "| 20 | 0.006024284 | 0.016169402 | 0.000469285 | 0.004189046 | 0.000756478 |\n",
       "| 21 | 0.004323760 | 0.012069876 | 0.000066200 | 0.003164847 | 0.000034000 |\n",
       "\n"
      ],
      "text/plain": [
       "   mass_400    mass_500    mass_600    mass_700    mass_800   \n",
       "16 0.007132665 0.017993843 0.001134236 0.002388530 0.000000000\n",
       "17 0.009149911 0.011522234 0.000289309 0.000895810 0.000000000\n",
       "18 0.001827752 0.004212732 0.000300932 0.003022946 0.000022800\n",
       "19 0.005239035 0.014700000 0.000297503 0.002483543 0.000027000\n",
       "20 0.006024284 0.016169402 0.000469285 0.004189046 0.000756478\n",
       "21 0.004323760 0.012069876 0.000066200 0.003164847 0.000034000"
      ]
     },
     "metadata": {},
     "output_type": "display_data"
    },
    {
     "data": {
      "text/html": [
       "<dl class=dl-horizontal>\n",
       "\t<dt>mass_400</dt>\n",
       "\t\t<dd>1</dd>\n",
       "\t<dt>mass_500</dt>\n",
       "\t\t<dd>2</dd>\n",
       "\t<dt>mass_600</dt>\n",
       "\t\t<dd>3</dd>\n",
       "\t<dt>mass_700</dt>\n",
       "\t\t<dd>4</dd>\n",
       "\t<dt>mass_800</dt>\n",
       "\t\t<dd>5</dd>\n",
       "</dl>\n"
      ],
      "text/latex": [
       "\\begin{description*}\n",
       "\\item[mass\\textbackslash{}\\_400] 1\n",
       "\\item[mass\\textbackslash{}\\_500] 2\n",
       "\\item[mass\\textbackslash{}\\_600] 3\n",
       "\\item[mass\\textbackslash{}\\_700] 4\n",
       "\\item[mass\\textbackslash{}\\_800] 5\n",
       "\\end{description*}\n"
      ],
      "text/markdown": [
       "mass_400\n",
       ":   1mass_500\n",
       ":   2mass_600\n",
       ":   3mass_700\n",
       ":   4mass_800\n",
       ":   5\n",
       "\n"
      ],
      "text/plain": [
       "mass_400 mass_500 mass_600 mass_700 mass_800 \n",
       "       1        2        3        4        5 "
      ]
     },
     "metadata": {},
     "output_type": "display_data"
    },
    {
     "data": {
      "text/html": [
       "<table>\n",
       "<thead><tr><th></th><th scope=col>mass_400</th><th scope=col>mass_500</th><th scope=col>mass_600</th><th scope=col>mass_700</th><th scope=col>mass_800</th></tr></thead>\n",
       "<tbody>\n",
       "\t<tr><th scope=row>16</th><td>0.007132665</td><td>0.017993843</td><td>0.001134236</td><td>0.002388530</td><td>0.000000000</td></tr>\n",
       "\t<tr><th scope=row>17</th><td>0.009149911</td><td>0.011522234</td><td>0.000289309</td><td>0.000895810</td><td>0.000000000</td></tr>\n",
       "\t<tr><th scope=row>18</th><td>0.001827752</td><td>0.004212732</td><td>0.000300932</td><td>0.003022946</td><td>0.000022800</td></tr>\n",
       "\t<tr><th scope=row>19</th><td>0.005239035</td><td>0.014700000</td><td>0.000297503</td><td>0.002483543</td><td>0.000027000</td></tr>\n",
       "\t<tr><th scope=row>20</th><td>0.006024284</td><td>0.016169402</td><td>0.000469285</td><td>0.004189046</td><td>0.000756478</td></tr>\n",
       "\t<tr><th scope=row>21</th><td>0.004323760</td><td>0.012069876</td><td>0.000066200</td><td>0.003164847</td><td>0.000034000</td></tr>\n",
       "\t<tr><th scope=row>22</th><td>0.012135411</td><td>0.024339766</td><td>0.000451254</td><td>0.000754361</td><td>0.000187175</td></tr>\n",
       "\t<tr><th scope=row>23</th><td>0.004977837</td><td>0.016680849</td><td>0.000151537</td><td>0.000000000</td><td>0.000000000</td></tr>\n",
       "\t<tr><th scope=row>24</th><td>0.009961150</td><td>0.013500000</td><td>0.000352201</td><td>0.005629772</td><td>0.000000000</td></tr>\n",
       "\t<tr><th scope=row>25</th><td>0.011308894</td><td>0.020601950</td><td>0.000369306</td><td>0.009570591</td><td>0.000030200</td></tr>\n",
       "\t<tr><th scope=row>26</th><td>0.009823138</td><td>0.019203817</td><td>0.000584825</td><td>0.008700904</td><td>0.002453642</td></tr>\n",
       "\t<tr><th scope=row>27</th><td>0.000063500</td><td>0.000000000</td><td>0.000000000</td><td>0.000000000</td><td>0.000000000</td></tr>\n",
       "\t<tr><th scope=row>28</th><td>0.006980236</td><td>0.018088742</td><td>0.001020773</td><td>0.001859101</td><td>0.000310985</td></tr>\n",
       "\t<tr><th scope=row>29</th><td>0.005609192</td><td>0.013621394</td><td>0.000386167</td><td>0.001661596</td><td>0.000113640</td></tr>\n",
       "\t<tr><th scope=row>30</th><td>0.007978935</td><td>0.022218848</td><td>0.001027544</td><td>0.003333314</td><td>0.000641684</td></tr>\n",
       "\t<tr><th scope=row>61</th><td>0.006754993</td><td>0.017268559</td><td>0.000110600</td><td>0.003860000</td><td>0.000406838</td></tr>\n",
       "\t<tr><th scope=row>62</th><td>0.006554693</td><td>0.019246528</td><td>0.000736491</td><td>0.007175754</td><td>0.000834979</td></tr>\n",
       "\t<tr><th scope=row>63</th><td>0.006706842</td><td>0.020400000</td><td>0.000229915</td><td>0.003563688</td><td>0.000604957</td></tr>\n",
       "\t<tr><th scope=row>64</th><td>0.014170367</td><td>0.026579495</td><td>0.000059500</td><td>0.004180000</td><td>0.000512233</td></tr>\n",
       "\t<tr><th scope=row>65</th><td>0.002595239</td><td>0.005730000</td><td>0.000289237</td><td>0.003649131</td><td>0.000298310</td></tr>\n",
       "\t<tr><th scope=row>66</th><td>0.006864241</td><td>0.018732780</td><td>0.000431815</td><td>0.000890938</td><td>0.000210605</td></tr>\n",
       "\t<tr><th scope=row>67</th><td>0.001975367</td><td>0.006367299</td><td>0.000000000</td><td>0.000000000</td><td>0.000000000</td></tr>\n",
       "\t<tr><th scope=row>68</th><td>0.010655075</td><td>0.021380706</td><td>0.000413259</td><td>0.003671811</td><td>0.000356593</td></tr>\n",
       "\t<tr><th scope=row>69</th><td>0.010074412</td><td>0.026514084</td><td>0.000581501</td><td>0.001263680</td><td>0.000000000</td></tr>\n",
       "\t<tr><th scope=row>70</th><td>0.008219121</td><td>0.021300000</td><td>0.000772207</td><td>0.004497317</td><td>0.001030793</td></tr>\n",
       "\t<tr><th scope=row>71</th><td>0.002428497</td><td>0.006929820</td><td>0.000393146</td><td>0.001974860</td><td>0.000147658</td></tr>\n",
       "\t<tr><th scope=row>72</th><td>0.007383345</td><td>0.018320680</td><td>0.000369123</td><td>0.004609554</td><td>0.000147429</td></tr>\n",
       "\t<tr><th scope=row>73</th><td>0.002304034</td><td>0.005790000</td><td>0.000297467</td><td>0.005016558</td><td>0.000146200</td></tr>\n",
       "\t<tr><th scope=row>74</th><td>0.003734023</td><td>0.008290208</td><td>0.000000000</td><td>0.000217450</td><td>0.000000000</td></tr>\n",
       "\t<tr><th scope=row>75</th><td>0.003975477</td><td>0.009414339</td><td>0.000000000</td><td>0.000333383</td><td>0.000000000</td></tr>\n",
       "</tbody>\n",
       "</table>\n"
      ],
      "text/latex": [
       "\\begin{tabular}{r|lllll}\n",
       "  & mass\\_400 & mass\\_500 & mass\\_600 & mass\\_700 & mass\\_800\\\\\n",
       "\\hline\n",
       "\t16 & 0.007132665 & 0.017993843 & 0.001134236 & 0.002388530 & 0.000000000\\\\\n",
       "\t17 & 0.009149911 & 0.011522234 & 0.000289309 & 0.000895810 & 0.000000000\\\\\n",
       "\t18 & 0.001827752 & 0.004212732 & 0.000300932 & 0.003022946 & 0.000022800\\\\\n",
       "\t19 & 0.005239035 & 0.014700000 & 0.000297503 & 0.002483543 & 0.000027000\\\\\n",
       "\t20 & 0.006024284 & 0.016169402 & 0.000469285 & 0.004189046 & 0.000756478\\\\\n",
       "\t21 & 0.004323760 & 0.012069876 & 0.000066200 & 0.003164847 & 0.000034000\\\\\n",
       "\t22 & 0.012135411 & 0.024339766 & 0.000451254 & 0.000754361 & 0.000187175\\\\\n",
       "\t23 & 0.004977837 & 0.016680849 & 0.000151537 & 0.000000000 & 0.000000000\\\\\n",
       "\t24 & 0.009961150 & 0.013500000 & 0.000352201 & 0.005629772 & 0.000000000\\\\\n",
       "\t25 & 0.011308894 & 0.020601950 & 0.000369306 & 0.009570591 & 0.000030200\\\\\n",
       "\t26 & 0.009823138 & 0.019203817 & 0.000584825 & 0.008700904 & 0.002453642\\\\\n",
       "\t27 & 0.000063500 & 0.000000000 & 0.000000000 & 0.000000000 & 0.000000000\\\\\n",
       "\t28 & 0.006980236 & 0.018088742 & 0.001020773 & 0.001859101 & 0.000310985\\\\\n",
       "\t29 & 0.005609192 & 0.013621394 & 0.000386167 & 0.001661596 & 0.000113640\\\\\n",
       "\t30 & 0.007978935 & 0.022218848 & 0.001027544 & 0.003333314 & 0.000641684\\\\\n",
       "\t61 & 0.006754993 & 0.017268559 & 0.000110600 & 0.003860000 & 0.000406838\\\\\n",
       "\t62 & 0.006554693 & 0.019246528 & 0.000736491 & 0.007175754 & 0.000834979\\\\\n",
       "\t63 & 0.006706842 & 0.020400000 & 0.000229915 & 0.003563688 & 0.000604957\\\\\n",
       "\t64 & 0.014170367 & 0.026579495 & 0.000059500 & 0.004180000 & 0.000512233\\\\\n",
       "\t65 & 0.002595239 & 0.005730000 & 0.000289237 & 0.003649131 & 0.000298310\\\\\n",
       "\t66 & 0.006864241 & 0.018732780 & 0.000431815 & 0.000890938 & 0.000210605\\\\\n",
       "\t67 & 0.001975367 & 0.006367299 & 0.000000000 & 0.000000000 & 0.000000000\\\\\n",
       "\t68 & 0.010655075 & 0.021380706 & 0.000413259 & 0.003671811 & 0.000356593\\\\\n",
       "\t69 & 0.010074412 & 0.026514084 & 0.000581501 & 0.001263680 & 0.000000000\\\\\n",
       "\t70 & 0.008219121 & 0.021300000 & 0.000772207 & 0.004497317 & 0.001030793\\\\\n",
       "\t71 & 0.002428497 & 0.006929820 & 0.000393146 & 0.001974860 & 0.000147658\\\\\n",
       "\t72 & 0.007383345 & 0.018320680 & 0.000369123 & 0.004609554 & 0.000147429\\\\\n",
       "\t73 & 0.002304034 & 0.005790000 & 0.000297467 & 0.005016558 & 0.000146200\\\\\n",
       "\t74 & 0.003734023 & 0.008290208 & 0.000000000 & 0.000217450 & 0.000000000\\\\\n",
       "\t75 & 0.003975477 & 0.009414339 & 0.000000000 & 0.000333383 & 0.000000000\\\\\n",
       "\\end{tabular}\n"
      ],
      "text/markdown": [
       "\n",
       "| <!--/--> | mass_400 | mass_500 | mass_600 | mass_700 | mass_800 |\n",
       "|---|---|---|---|---|---|\n",
       "| 16 | 0.007132665 | 0.017993843 | 0.001134236 | 0.002388530 | 0.000000000 |\n",
       "| 17 | 0.009149911 | 0.011522234 | 0.000289309 | 0.000895810 | 0.000000000 |\n",
       "| 18 | 0.001827752 | 0.004212732 | 0.000300932 | 0.003022946 | 0.000022800 |\n",
       "| 19 | 0.005239035 | 0.014700000 | 0.000297503 | 0.002483543 | 0.000027000 |\n",
       "| 20 | 0.006024284 | 0.016169402 | 0.000469285 | 0.004189046 | 0.000756478 |\n",
       "| 21 | 0.004323760 | 0.012069876 | 0.000066200 | 0.003164847 | 0.000034000 |\n",
       "| 22 | 0.012135411 | 0.024339766 | 0.000451254 | 0.000754361 | 0.000187175 |\n",
       "| 23 | 0.004977837 | 0.016680849 | 0.000151537 | 0.000000000 | 0.000000000 |\n",
       "| 24 | 0.009961150 | 0.013500000 | 0.000352201 | 0.005629772 | 0.000000000 |\n",
       "| 25 | 0.011308894 | 0.020601950 | 0.000369306 | 0.009570591 | 0.000030200 |\n",
       "| 26 | 0.009823138 | 0.019203817 | 0.000584825 | 0.008700904 | 0.002453642 |\n",
       "| 27 | 0.000063500 | 0.000000000 | 0.000000000 | 0.000000000 | 0.000000000 |\n",
       "| 28 | 0.006980236 | 0.018088742 | 0.001020773 | 0.001859101 | 0.000310985 |\n",
       "| 29 | 0.005609192 | 0.013621394 | 0.000386167 | 0.001661596 | 0.000113640 |\n",
       "| 30 | 0.007978935 | 0.022218848 | 0.001027544 | 0.003333314 | 0.000641684 |\n",
       "| 61 | 0.006754993 | 0.017268559 | 0.000110600 | 0.003860000 | 0.000406838 |\n",
       "| 62 | 0.006554693 | 0.019246528 | 0.000736491 | 0.007175754 | 0.000834979 |\n",
       "| 63 | 0.006706842 | 0.020400000 | 0.000229915 | 0.003563688 | 0.000604957 |\n",
       "| 64 | 0.014170367 | 0.026579495 | 0.000059500 | 0.004180000 | 0.000512233 |\n",
       "| 65 | 0.002595239 | 0.005730000 | 0.000289237 | 0.003649131 | 0.000298310 |\n",
       "| 66 | 0.006864241 | 0.018732780 | 0.000431815 | 0.000890938 | 0.000210605 |\n",
       "| 67 | 0.001975367 | 0.006367299 | 0.000000000 | 0.000000000 | 0.000000000 |\n",
       "| 68 | 0.010655075 | 0.021380706 | 0.000413259 | 0.003671811 | 0.000356593 |\n",
       "| 69 | 0.010074412 | 0.026514084 | 0.000581501 | 0.001263680 | 0.000000000 |\n",
       "| 70 | 0.008219121 | 0.021300000 | 0.000772207 | 0.004497317 | 0.001030793 |\n",
       "| 71 | 0.002428497 | 0.006929820 | 0.000393146 | 0.001974860 | 0.000147658 |\n",
       "| 72 | 0.007383345 | 0.018320680 | 0.000369123 | 0.004609554 | 0.000147429 |\n",
       "| 73 | 0.002304034 | 0.005790000 | 0.000297467 | 0.005016558 | 0.000146200 |\n",
       "| 74 | 0.003734023 | 0.008290208 | 0.000000000 | 0.000217450 | 0.000000000 |\n",
       "| 75 | 0.003975477 | 0.009414339 | 0.000000000 | 0.000333383 | 0.000000000 |\n",
       "\n"
      ],
      "text/plain": [
       "   mass_400    mass_500    mass_600    mass_700    mass_800   \n",
       "16 0.007132665 0.017993843 0.001134236 0.002388530 0.000000000\n",
       "17 0.009149911 0.011522234 0.000289309 0.000895810 0.000000000\n",
       "18 0.001827752 0.004212732 0.000300932 0.003022946 0.000022800\n",
       "19 0.005239035 0.014700000 0.000297503 0.002483543 0.000027000\n",
       "20 0.006024284 0.016169402 0.000469285 0.004189046 0.000756478\n",
       "21 0.004323760 0.012069876 0.000066200 0.003164847 0.000034000\n",
       "22 0.012135411 0.024339766 0.000451254 0.000754361 0.000187175\n",
       "23 0.004977837 0.016680849 0.000151537 0.000000000 0.000000000\n",
       "24 0.009961150 0.013500000 0.000352201 0.005629772 0.000000000\n",
       "25 0.011308894 0.020601950 0.000369306 0.009570591 0.000030200\n",
       "26 0.009823138 0.019203817 0.000584825 0.008700904 0.002453642\n",
       "27 0.000063500 0.000000000 0.000000000 0.000000000 0.000000000\n",
       "28 0.006980236 0.018088742 0.001020773 0.001859101 0.000310985\n",
       "29 0.005609192 0.013621394 0.000386167 0.001661596 0.000113640\n",
       "30 0.007978935 0.022218848 0.001027544 0.003333314 0.000641684\n",
       "61 0.006754993 0.017268559 0.000110600 0.003860000 0.000406838\n",
       "62 0.006554693 0.019246528 0.000736491 0.007175754 0.000834979\n",
       "63 0.006706842 0.020400000 0.000229915 0.003563688 0.000604957\n",
       "64 0.014170367 0.026579495 0.000059500 0.004180000 0.000512233\n",
       "65 0.002595239 0.005730000 0.000289237 0.003649131 0.000298310\n",
       "66 0.006864241 0.018732780 0.000431815 0.000890938 0.000210605\n",
       "67 0.001975367 0.006367299 0.000000000 0.000000000 0.000000000\n",
       "68 0.010655075 0.021380706 0.000413259 0.003671811 0.000356593\n",
       "69 0.010074412 0.026514084 0.000581501 0.001263680 0.000000000\n",
       "70 0.008219121 0.021300000 0.000772207 0.004497317 0.001030793\n",
       "71 0.002428497 0.006929820 0.000393146 0.001974860 0.000147658\n",
       "72 0.007383345 0.018320680 0.000369123 0.004609554 0.000147429\n",
       "73 0.002304034 0.005790000 0.000297467 0.005016558 0.000146200\n",
       "74 0.003734023 0.008290208 0.000000000 0.000217450 0.000000000\n",
       "75 0.003975477 0.009414339 0.000000000 0.000333383 0.000000000"
      ]
     },
     "metadata": {},
     "output_type": "display_data"
    },
    {
     "data": {
      "text/html": [
       "<table>\n",
       "<thead><tr><th></th><th scope=col>filename</th><th scope=col>MouseID</th><th scope=col>Treatmentgroup</th><th scope=col>status</th><th scope=col>DPI</th><th scope=col>organ</th><th scope=col>well_position</th><th scope=col>plate</th><th scope=col>mass_400</th><th scope=col>mass_500</th><th scope=col>mass_600</th><th scope=col>mass_700</th><th scope=col>mass_800</th></tr></thead>\n",
       "<tbody>\n",
       "\t<tr><th scope=row>16</th><td>X506_Group1B_70dpi_LV_top_281_B_C7_P129.mzXML </td><td>506                                           </td><td>Group1B                                       </td><td>naive                                         </td><td>70dpi                                         </td><td>LV_top                                        </td><td>C7                                            </td><td>P129                                          </td><td>0.007132665                                   </td><td>0.017993843                                   </td><td>0.001134236                                   </td><td>0.002388530                                   </td><td>0.000000000                                   </td></tr>\n",
       "\t<tr><th scope=row>17</th><td>X507_Group1B_70dpi_LV_top_282_B_C8_P129.mzXML </td><td>507                                           </td><td>Group1B                                       </td><td>naive                                         </td><td>70dpi                                         </td><td>LV_top                                        </td><td>C8                                            </td><td>P129                                          </td><td>0.009149911                                   </td><td>0.011522234                                   </td><td>0.000289309                                   </td><td>0.000895810                                   </td><td>0.000000000                                   </td></tr>\n",
       "\t<tr><th scope=row>18</th><td>X508_Group1B_70dpi_LV_top_283_B_C9_P129.mzXML </td><td>508                                           </td><td>Group1B                                       </td><td>naive                                         </td><td>70dpi                                         </td><td>LV_top                                        </td><td>C9                                            </td><td>P129                                          </td><td>0.001827752                                   </td><td>0.004212732                                   </td><td>0.000300932                                   </td><td>0.003022946                                   </td><td>0.000022800                                   </td></tr>\n",
       "\t<tr><th scope=row>19</th><td>X509_Group1B_70dpi_LV_top_284_B_C10_P129.mzXML</td><td>509                                           </td><td>Group1B                                       </td><td>naive                                         </td><td>70dpi                                         </td><td>LV_top                                        </td><td>C10                                           </td><td>P129                                          </td><td>0.005239035                                   </td><td>0.014700000                                   </td><td>0.000297503                                   </td><td>0.002483543                                   </td><td>0.000027000                                   </td></tr>\n",
       "\t<tr><th scope=row>20</th><td>X510_Group1B_70dpi_LV_top_285_B_C11_P129.mzXML</td><td>510                                           </td><td>Group1B                                       </td><td>naive                                         </td><td>70dpi                                         </td><td>LV_top                                        </td><td>C11                                           </td><td>P129                                          </td><td>0.006024284                                   </td><td>0.016169402                                   </td><td>0.000469285                                   </td><td>0.004189046                                   </td><td>0.000756478                                   </td></tr>\n",
       "\t<tr><th scope=row>21</th><td>X526_Group1B_70dpi_LV_top_286_B_C12_P129.mzXML</td><td>526                                           </td><td>Group1B                                       </td><td>naive                                         </td><td>70dpi                                         </td><td>LV_top                                        </td><td>C12                                           </td><td>P129                                          </td><td>0.004323760                                   </td><td>0.012069876                                   </td><td>0.000066200                                   </td><td>0.003164847                                   </td><td>0.000034000                                   </td></tr>\n",
       "</tbody>\n",
       "</table>\n"
      ],
      "text/latex": [
       "\\begin{tabular}{r|lllllllllllll}\n",
       "  & filename & MouseID & Treatmentgroup & status & DPI & organ & well\\_position & plate & mass\\_400 & mass\\_500 & mass\\_600 & mass\\_700 & mass\\_800\\\\\n",
       "\\hline\n",
       "\t16 & X506\\_Group1B\\_70dpi\\_LV\\_top\\_281\\_B\\_C7\\_P129.mzXML  & 506                                                            & Group1B                                                        & naive                                                          & 70dpi                                                          & LV\\_top                                                       & C7                                                             & P129                                                           & 0.007132665                                                    & 0.017993843                                                    & 0.001134236                                                    & 0.002388530                                                    & 0.000000000                                                   \\\\\n",
       "\t17 & X507\\_Group1B\\_70dpi\\_LV\\_top\\_282\\_B\\_C8\\_P129.mzXML  & 507                                                            & Group1B                                                        & naive                                                          & 70dpi                                                          & LV\\_top                                                       & C8                                                             & P129                                                           & 0.009149911                                                    & 0.011522234                                                    & 0.000289309                                                    & 0.000895810                                                    & 0.000000000                                                   \\\\\n",
       "\t18 & X508\\_Group1B\\_70dpi\\_LV\\_top\\_283\\_B\\_C9\\_P129.mzXML  & 508                                                            & Group1B                                                        & naive                                                          & 70dpi                                                          & LV\\_top                                                       & C9                                                             & P129                                                           & 0.001827752                                                    & 0.004212732                                                    & 0.000300932                                                    & 0.003022946                                                    & 0.000022800                                                   \\\\\n",
       "\t19 & X509\\_Group1B\\_70dpi\\_LV\\_top\\_284\\_B\\_C10\\_P129.mzXML & 509                                                            & Group1B                                                        & naive                                                          & 70dpi                                                          & LV\\_top                                                       & C10                                                            & P129                                                           & 0.005239035                                                    & 0.014700000                                                    & 0.000297503                                                    & 0.002483543                                                    & 0.000027000                                                   \\\\\n",
       "\t20 & X510\\_Group1B\\_70dpi\\_LV\\_top\\_285\\_B\\_C11\\_P129.mzXML & 510                                                            & Group1B                                                        & naive                                                          & 70dpi                                                          & LV\\_top                                                       & C11                                                            & P129                                                           & 0.006024284                                                    & 0.016169402                                                    & 0.000469285                                                    & 0.004189046                                                    & 0.000756478                                                   \\\\\n",
       "\t21 & X526\\_Group1B\\_70dpi\\_LV\\_top\\_286\\_B\\_C12\\_P129.mzXML & 526                                                            & Group1B                                                        & naive                                                          & 70dpi                                                          & LV\\_top                                                       & C12                                                            & P129                                                           & 0.004323760                                                    & 0.012069876                                                    & 0.000066200                                                    & 0.003164847                                                    & 0.000034000                                                   \\\\\n",
       "\\end{tabular}\n"
      ],
      "text/markdown": [
       "\n",
       "| <!--/--> | filename | MouseID | Treatmentgroup | status | DPI | organ | well_position | plate | mass_400 | mass_500 | mass_600 | mass_700 | mass_800 |\n",
       "|---|---|---|---|---|---|---|---|---|---|---|---|---|---|\n",
       "| 16 | X506_Group1B_70dpi_LV_top_281_B_C7_P129.mzXML  | 506                                            | Group1B                                        | naive                                          | 70dpi                                          | LV_top                                         | C7                                             | P129                                           | 0.007132665                                    | 0.017993843                                    | 0.001134236                                    | 0.002388530                                    | 0.000000000                                    |\n",
       "| 17 | X507_Group1B_70dpi_LV_top_282_B_C8_P129.mzXML  | 507                                            | Group1B                                        | naive                                          | 70dpi                                          | LV_top                                         | C8                                             | P129                                           | 0.009149911                                    | 0.011522234                                    | 0.000289309                                    | 0.000895810                                    | 0.000000000                                    |\n",
       "| 18 | X508_Group1B_70dpi_LV_top_283_B_C9_P129.mzXML  | 508                                            | Group1B                                        | naive                                          | 70dpi                                          | LV_top                                         | C9                                             | P129                                           | 0.001827752                                    | 0.004212732                                    | 0.000300932                                    | 0.003022946                                    | 0.000022800                                    |\n",
       "| 19 | X509_Group1B_70dpi_LV_top_284_B_C10_P129.mzXML | 509                                            | Group1B                                        | naive                                          | 70dpi                                          | LV_top                                         | C10                                            | P129                                           | 0.005239035                                    | 0.014700000                                    | 0.000297503                                    | 0.002483543                                    | 0.000027000                                    |\n",
       "| 20 | X510_Group1B_70dpi_LV_top_285_B_C11_P129.mzXML | 510                                            | Group1B                                        | naive                                          | 70dpi                                          | LV_top                                         | C11                                            | P129                                           | 0.006024284                                    | 0.016169402                                    | 0.000469285                                    | 0.004189046                                    | 0.000756478                                    |\n",
       "| 21 | X526_Group1B_70dpi_LV_top_286_B_C12_P129.mzXML | 526                                            | Group1B                                        | naive                                          | 70dpi                                          | LV_top                                         | C12                                            | P129                                           | 0.004323760                                    | 0.012069876                                    | 0.000066200                                    | 0.003164847                                    | 0.000034000                                    |\n",
       "\n"
      ],
      "text/plain": [
       "   filename                                       MouseID Treatmentgroup status\n",
       "16 X506_Group1B_70dpi_LV_top_281_B_C7_P129.mzXML  506     Group1B        naive \n",
       "17 X507_Group1B_70dpi_LV_top_282_B_C8_P129.mzXML  507     Group1B        naive \n",
       "18 X508_Group1B_70dpi_LV_top_283_B_C9_P129.mzXML  508     Group1B        naive \n",
       "19 X509_Group1B_70dpi_LV_top_284_B_C10_P129.mzXML 509     Group1B        naive \n",
       "20 X510_Group1B_70dpi_LV_top_285_B_C11_P129.mzXML 510     Group1B        naive \n",
       "21 X526_Group1B_70dpi_LV_top_286_B_C12_P129.mzXML 526     Group1B        naive \n",
       "   DPI   organ  well_position plate mass_400    mass_500    mass_600   \n",
       "16 70dpi LV_top C7            P129  0.007132665 0.017993843 0.001134236\n",
       "17 70dpi LV_top C8            P129  0.009149911 0.011522234 0.000289309\n",
       "18 70dpi LV_top C9            P129  0.001827752 0.004212732 0.000300932\n",
       "19 70dpi LV_top C10           P129  0.005239035 0.014700000 0.000297503\n",
       "20 70dpi LV_top C11           P129  0.006024284 0.016169402 0.000469285\n",
       "21 70dpi LV_top C12           P129  0.004323760 0.012069876 0.000066200\n",
       "   mass_700    mass_800   \n",
       "16 0.002388530 0.000000000\n",
       "17 0.000895810 0.000000000\n",
       "18 0.003022946 0.000022800\n",
       "19 0.002483543 0.000027000\n",
       "20 0.004189046 0.000756478\n",
       "21 0.003164847 0.000034000"
      ]
     },
     "metadata": {},
     "output_type": "display_data"
    },
    {
     "data": {
      "text/html": [
       "<ol class=list-inline>\n",
       "\t<li>30</li>\n",
       "\t<li>13</li>\n",
       "</ol>\n"
      ],
      "text/latex": [
       "\\begin{enumerate*}\n",
       "\\item 30\n",
       "\\item 13\n",
       "\\end{enumerate*}\n"
      ],
      "text/markdown": [
       "1. 30\n",
       "2. 13\n",
       "\n",
       "\n"
      ],
      "text/plain": [
       "[1] 30 13"
      ]
     },
     "metadata": {},
     "output_type": "display_data"
    },
    {
     "data": {
      "text/html": [
       "<ol class=list-inline>\n",
       "\t<li>30</li>\n",
       "\t<li>5</li>\n",
       "</ol>\n"
      ],
      "text/latex": [
       "\\begin{enumerate*}\n",
       "\\item 30\n",
       "\\item 5\n",
       "\\end{enumerate*}\n"
      ],
      "text/markdown": [
       "1. 30\n",
       "2. 5\n",
       "\n",
       "\n"
      ],
      "text/plain": [
       "[1] 30  5"
      ]
     },
     "metadata": {},
     "output_type": "display_data"
    },
    {
     "data": {
      "text/html": [
       "<ol class=list-inline>\n",
       "\t<li>30</li>\n",
       "\t<li>5</li>\n",
       "</ol>\n"
      ],
      "text/latex": [
       "\\begin{enumerate*}\n",
       "\\item 30\n",
       "\\item 5\n",
       "\\end{enumerate*}\n"
      ],
      "text/markdown": [
       "1. 30\n",
       "2. 5\n",
       "\n",
       "\n"
      ],
      "text/plain": [
       "[1] 30  5"
      ]
     },
     "metadata": {},
     "output_type": "display_data"
    },
    {
     "data": {
      "text/html": [
       "<ol class=list-inline>\n",
       "\t<li>30</li>\n",
       "\t<li>13</li>\n",
       "</ol>\n"
      ],
      "text/latex": [
       "\\begin{enumerate*}\n",
       "\\item 30\n",
       "\\item 13\n",
       "\\end{enumerate*}\n"
      ],
      "text/markdown": [
       "1. 30\n",
       "2. 13\n",
       "\n",
       "\n"
      ],
      "text/plain": [
       "[1] 30 13"
      ]
     },
     "metadata": {},
     "output_type": "display_data"
    }
   ],
   "source": [
    "noMeta<-features_pos[,9:13]\n",
    "head(noMeta)\n",
    "not_zero<-which(colSums(noMeta) != 0)\n",
    "head(not_zero)\n",
    "nonzero <- noMeta[, not_zero] \n",
    "nonzero\n",
    "nonzero_wMeta<-cbind(features_pos[,1:8], nonzero)\n",
    "head(nonzero_wMeta)\n",
    "dim(features_pos)\n",
    "dim(noMeta)\n",
    "dim(nonzero)\n",
    "dim(nonzero_wMeta)"
   ]
  },
  {
   "cell_type": "code",
   "execution_count": 5,
   "metadata": {
    "scrolled": true
   },
   "outputs": [
    {
     "name": "stderr",
     "output_type": "stream",
     "text": [
      "Warning message in wilcox.test.default(x = c(0.001134236, 0.000289309, 0.000300932, :\n",
      "\"cannot compute exact p-value with ties\"Warning message in wilcox.test.default(x = c(0.00238853, 0.00089581, 0.003022946, :\n",
      "\"cannot compute exact p-value with ties\"Warning message in wilcox.test.default(x = c(0, 0, 2.28e-05, 2.7e-05, 0.000756478, :\n",
      "\"cannot compute exact p-value with ties\""
     ]
    },
    {
     "data": {
      "text/html": [
       "<ol class=list-inline>\n",
       "\t<li>0.623594278712037</li>\n",
       "\t<li>0.682673807575057</li>\n",
       "\t<li>0.236633995163899</li>\n",
       "\t<li>0.708799548959661</li>\n",
       "\t<li>0.293223435259657</li>\n",
       "</ol>\n"
      ],
      "text/latex": [
       "\\begin{enumerate*}\n",
       "\\item 0.623594278712037\n",
       "\\item 0.682673807575057\n",
       "\\item 0.236633995163899\n",
       "\\item 0.708799548959661\n",
       "\\item 0.293223435259657\n",
       "\\end{enumerate*}\n"
      ],
      "text/markdown": [
       "1. 0.623594278712037\n",
       "2. 0.682673807575057\n",
       "3. 0.236633995163899\n",
       "4. 0.708799548959661\n",
       "5. 0.293223435259657\n",
       "\n",
       "\n"
      ],
      "text/plain": [
       "[1] 0.6235943 0.6826738 0.2366340 0.7087995 0.2932234"
      ]
     },
     "metadata": {},
     "output_type": "display_data"
    },
    {
     "data": {
      "text/html": [
       "<ol class=list-inline>\n",
       "\t<li>0.708799548959661</li>\n",
       "\t<li>0.708799548959661</li>\n",
       "\t<li>0.708799548959661</li>\n",
       "\t<li>0.708799548959661</li>\n",
       "\t<li>0.708799548959661</li>\n",
       "</ol>\n"
      ],
      "text/latex": [
       "\\begin{enumerate*}\n",
       "\\item 0.708799548959661\n",
       "\\item 0.708799548959661\n",
       "\\item 0.708799548959661\n",
       "\\item 0.708799548959661\n",
       "\\item 0.708799548959661\n",
       "\\end{enumerate*}\n"
      ],
      "text/markdown": [
       "1. 0.708799548959661\n",
       "2. 0.708799548959661\n",
       "3. 0.708799548959661\n",
       "4. 0.708799548959661\n",
       "5. 0.708799548959661\n",
       "\n",
       "\n"
      ],
      "text/plain": [
       "[1] 0.7087995 0.7087995 0.7087995 0.7087995 0.7087995"
      ]
     },
     "metadata": {},
     "output_type": "display_data"
    }
   ],
   "source": [
    "pval<-c()\n",
    "\n",
    "for (i in 9:ncol(nonzero_wMeta)) \n",
    "pval<-c(pval,wilcox.test(nonzero_wMeta[,i]~nonzero_wMeta$Treatmentgroup)$p.value)\n",
    "pAdj <- p.adjust(pval, method = c(\"fdr\"), n=length(pval)) \n",
    "head(pAdj) \n",
    "\n"
   ]
  },
  {
   "cell_type": "code",
   "execution_count": 6,
   "metadata": {
    "scrolled": true
   },
   "outputs": [
    {
     "data": {
      "text/html": [
       "5"
      ],
      "text/latex": [
       "5"
      ],
      "text/markdown": [
       "5"
      ],
      "text/plain": [
       "[1] 5"
      ]
     },
     "metadata": {},
     "output_type": "display_data"
    }
   ],
   "source": [
    "length(pval)"
   ]
  },
  {
   "cell_type": "code",
   "execution_count": 7,
   "metadata": {
    "scrolled": true
   },
   "outputs": [
    {
     "data": {
      "text/html": [
       "5"
      ],
      "text/latex": [
       "5"
      ],
      "text/markdown": [
       "5"
      ],
      "text/plain": [
       "[1] 5"
      ]
     },
     "metadata": {},
     "output_type": "display_data"
    }
   ],
   "source": [
    "length(pAdj)"
   ]
  },
  {
   "cell_type": "code",
   "execution_count": 8,
   "metadata": {},
   "outputs": [
    {
     "data": {
      "text/html": [
       "<ol class=list-inline>\n",
       "\t<li>2</li>\n",
       "\t<li>5</li>\n",
       "</ol>\n"
      ],
      "text/latex": [
       "\\begin{enumerate*}\n",
       "\\item 2\n",
       "\\item 5\n",
       "\\end{enumerate*}\n"
      ],
      "text/markdown": [
       "1. 2\n",
       "2. 5\n",
       "\n",
       "\n"
      ],
      "text/plain": [
       "[1] 2 5"
      ]
     },
     "metadata": {},
     "output_type": "display_data"
    },
    {
     "data": {
      "text/html": [
       "<table>\n",
       "<thead><tr><th></th><th scope=col>mass_400</th><th scope=col>mass_500</th><th scope=col>mass_600</th></tr></thead>\n",
       "<tbody>\n",
       "\t<tr><th scope=row>Group1B</th><td>0.006835713 </td><td>0.0149949   </td><td>0.0004600715</td></tr>\n",
       "\t<tr><th scope=row>Group3B</th><td>0.006293048 </td><td>0.0154843   </td><td>0.0003122841</td></tr>\n",
       "</tbody>\n",
       "</table>\n"
      ],
      "text/latex": [
       "\\begin{tabular}{r|lll}\n",
       "  & mass\\_400 & mass\\_500 & mass\\_600\\\\\n",
       "\\hline\n",
       "\tGroup1B & 0.006835713  & 0.0149949    & 0.0004600715\\\\\n",
       "\tGroup3B & 0.006293048  & 0.0154843    & 0.0003122841\\\\\n",
       "\\end{tabular}\n"
      ],
      "text/markdown": [
       "\n",
       "| <!--/--> | mass_400 | mass_500 | mass_600 |\n",
       "|---|---|---|---|\n",
       "| Group1B | 0.006835713  | 0.0149949    | 0.0004600715 |\n",
       "| Group3B | 0.006293048  | 0.0154843    | 0.0003122841 |\n",
       "\n"
      ],
      "text/plain": [
       "        mass_400    mass_500  mass_600    \n",
       "Group1B 0.006835713 0.0149949 0.0004600715\n",
       "Group3B 0.006293048 0.0154843 0.0003122841"
      ]
     },
     "metadata": {},
     "output_type": "display_data"
    },
    {
     "data": {
      "text/html": [
       "<dl class=dl-horizontal>\n",
       "\t<dt>mass_400</dt>\n",
       "\t\t<dd>1.08623244234596</dd>\n",
       "\t<dt>mass_500</dt>\n",
       "\t\t<dd>0.968393598405211</dd>\n",
       "\t<dt>mass_600</dt>\n",
       "\t\t<dd>1.47324668715087</dd>\n",
       "\t<dt>mass_700</dt>\n",
       "\t\t<dd>1.06124686899582</dd>\n",
       "\t<dt>mass_800</dt>\n",
       "\t\t<dd>0.974664411131895</dd>\n",
       "</dl>\n"
      ],
      "text/latex": [
       "\\begin{description*}\n",
       "\\item[mass\\textbackslash{}\\_400] 1.08623244234596\n",
       "\\item[mass\\textbackslash{}\\_500] 0.968393598405211\n",
       "\\item[mass\\textbackslash{}\\_600] 1.47324668715087\n",
       "\\item[mass\\textbackslash{}\\_700] 1.06124686899582\n",
       "\\item[mass\\textbackslash{}\\_800] 0.974664411131895\n",
       "\\end{description*}\n"
      ],
      "text/markdown": [
       "mass_400\n",
       ":   1.08623244234596mass_500\n",
       ":   0.968393598405211mass_600\n",
       ":   1.47324668715087mass_700\n",
       ":   1.06124686899582mass_800\n",
       ":   0.974664411131895\n",
       "\n"
      ],
      "text/plain": [
       " mass_400  mass_500  mass_600  mass_700  mass_800 \n",
       "1.0862324 0.9683936 1.4732467 1.0612469 0.9746644 "
      ]
     },
     "metadata": {},
     "output_type": "display_data"
    },
    {
     "data": {
      "text/html": [
       "<ol class=list-inline>\n",
       "\t<li>'numeric'</li>\n",
       "\t<li>'vector'</li>\n",
       "</ol>\n"
      ],
      "text/latex": [
       "\\begin{enumerate*}\n",
       "\\item 'numeric'\n",
       "\\item 'vector'\n",
       "\\end{enumerate*}\n"
      ],
      "text/markdown": [
       "1. 'numeric'\n",
       "2. 'vector'\n",
       "\n",
       "\n"
      ],
      "text/plain": [
       "[1] \"numeric\" \"vector\" "
      ]
     },
     "metadata": {},
     "output_type": "display_data"
    }
   ],
   "source": [
    "avg<- apply(nonzero_wMeta[,9:ncol(nonzero_wMeta)], 2, function(x) tapply(x, nonzero_wMeta$Treatmentgroup, function(x) mean(x))) \n",
    "\n",
    "dim(avg)\n",
    "\n",
    "avg[,1:3]\n",
    "\n",
    "fch <- apply(avg, 2, function(x) x[1]/x[2])\n",
    "\n",
    "head(fch)\n",
    "is(fch)"
   ]
  },
  {
   "cell_type": "code",
   "execution_count": 9,
   "metadata": {
    "scrolled": true
   },
   "outputs": [
    {
     "data": {
      "text/html": [
       "<dl class=dl-horizontal>\n",
       "\t<dt>mass_400</dt>\n",
       "\t\t<dd>1.08623244234596</dd>\n",
       "\t<dt>mass_500</dt>\n",
       "\t\t<dd>0.968393598405211</dd>\n",
       "\t<dt>mass_600</dt>\n",
       "\t\t<dd>1.47324668715087</dd>\n",
       "\t<dt>mass_700</dt>\n",
       "\t\t<dd>1.06124686899582</dd>\n",
       "\t<dt>mass_800</dt>\n",
       "\t\t<dd>0.974664411131895</dd>\n",
       "</dl>\n"
      ],
      "text/latex": [
       "\\begin{description*}\n",
       "\\item[mass\\textbackslash{}\\_400] 1.08623244234596\n",
       "\\item[mass\\textbackslash{}\\_500] 0.968393598405211\n",
       "\\item[mass\\textbackslash{}\\_600] 1.47324668715087\n",
       "\\item[mass\\textbackslash{}\\_700] 1.06124686899582\n",
       "\\item[mass\\textbackslash{}\\_800] 0.974664411131895\n",
       "\\end{description*}\n"
      ],
      "text/markdown": [
       "mass_400\n",
       ":   1.08623244234596mass_500\n",
       ":   0.968393598405211mass_600\n",
       ":   1.47324668715087mass_700\n",
       ":   1.06124686899582mass_800\n",
       ":   0.974664411131895\n",
       "\n"
      ],
      "text/plain": [
       " mass_400  mass_500  mass_600  mass_700  mass_800 \n",
       "1.0862324 0.9683936 1.4732467 1.0612469 0.9746644 "
      ]
     },
     "metadata": {},
     "output_type": "display_data"
    }
   ],
   "source": [
    "fch"
   ]
  },
  {
   "cell_type": "code",
   "execution_count": 10,
   "metadata": {
    "scrolled": false
   },
   "outputs": [],
   "source": [
    "df <- data.frame(fch,pval, pAdj)\n",
    "write.csv(df, \"PE-time-LVT-wilcox-1B-3B.csv\")"
   ]
  },
  {
   "cell_type": "code",
   "execution_count": null,
   "metadata": {},
   "outputs": [],
   "source": []
  },
  {
   "cell_type": "code",
   "execution_count": null,
   "metadata": {},
   "outputs": [],
   "source": []
  },
  {
   "cell_type": "code",
   "execution_count": null,
   "metadata": {},
   "outputs": [],
   "source": []
  },
  {
   "cell_type": "code",
   "execution_count": null,
   "metadata": {},
   "outputs": [],
   "source": []
  },
  {
   "cell_type": "code",
   "execution_count": null,
   "metadata": {},
   "outputs": [],
   "source": []
  },
  {
   "cell_type": "code",
   "execution_count": null,
   "metadata": {},
   "outputs": [],
   "source": []
  }
 ],
 "metadata": {
  "kernelspec": {
   "display_name": "R",
   "language": "R",
   "name": "ir"
  },
  "language_info": {
   "codemirror_mode": "r",
   "file_extension": ".r",
   "mimetype": "text/x-r-source",
   "name": "R",
   "pygments_lexer": "r",
   "version": "3.6.1"
  }
 },
 "nbformat": 4,
 "nbformat_minor": 2
}
