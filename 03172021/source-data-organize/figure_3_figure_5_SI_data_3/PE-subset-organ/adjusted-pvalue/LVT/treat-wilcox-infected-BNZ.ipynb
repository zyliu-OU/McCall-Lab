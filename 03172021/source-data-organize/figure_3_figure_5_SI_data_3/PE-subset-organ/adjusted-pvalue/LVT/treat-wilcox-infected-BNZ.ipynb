{
 "cells": [
  {
   "cell_type": "code",
   "execution_count": 1,
   "metadata": {},
   "outputs": [],
   "source": [
    "a <- read.csv(\"03172021-PE-treatment-LVT-M-F.csv\")"
   ]
  },
  {
   "cell_type": "code",
   "execution_count": 2,
   "metadata": {},
   "outputs": [
    {
     "data": {
      "text/html": [
       "<table>\n",
       "<thead><tr><th scope=col>filename</th><th scope=col>MouseID</th><th scope=col>Treatmentgroup</th><th scope=col>DPI</th><th scope=col>organ</th><th scope=col>well_position</th><th scope=col>plate</th><th scope=col>mass_400</th><th scope=col>mass_500</th><th scope=col>mass_600</th><th scope=col>mass_700</th><th scope=col>mass_800</th></tr></thead>\n",
       "<tbody>\n",
       "\t<tr><td>X511_Group1C_142dpi_LV_top_161_G_A1_P128.mzXML</td><td>511                                           </td><td>naive                                         </td><td>142dpi                                        </td><td>LV_top                                        </td><td>A1                                            </td><td>P128                                          </td><td>0.007457554                                   </td><td>0.02744597                                    </td><td>0.000521874                                   </td><td>0.000673111                                   </td><td>0.000000000                                   </td></tr>\n",
       "\t<tr><td>X512_Group1C_142dpi_LV_top_162_G_A2_P128.mzXML</td><td>512                                           </td><td>naive                                         </td><td>142dpi                                        </td><td>LV_top                                        </td><td>A2                                            </td><td>P128                                          </td><td>0.008515695                                   </td><td>0.02741206                                    </td><td>0.000255829                                   </td><td>0.000566018                                   </td><td>0.000000000                                   </td></tr>\n",
       "\t<tr><td>X513_Group1C_142dpi_LV_top_163_G_A3_P128.mzXML</td><td>513                                           </td><td>naive                                         </td><td>142dpi                                        </td><td>LV_top                                        </td><td>A3                                            </td><td>P128                                          </td><td>0.008847471                                   </td><td>0.03699675                                    </td><td>0.000000000                                   </td><td>0.007030000                                   </td><td>0.000523528                                   </td></tr>\n",
       "\t<tr><td>X514_Group1C_142dpi_LV_top_164_G_A4_P128.mzXML</td><td>514                                           </td><td>naive                                         </td><td>142dpi                                        </td><td>LV_top                                        </td><td>A4                                            </td><td>P128                                          </td><td>0.006734363                                   </td><td>0.01865059                                    </td><td>0.000214131                                   </td><td>0.000000000                                   </td><td>0.000000000                                   </td></tr>\n",
       "\t<tr><td>X515_Group1C_142dpi_LV_top_165_G_A5_P128.mzXML</td><td>515                                           </td><td>naive                                         </td><td>142dpi                                        </td><td>LV_top                                        </td><td>A5                                            </td><td>P128                                          </td><td>0.012388772                                   </td><td>0.03474977                                    </td><td>0.000635973                                   </td><td>0.006520000                                   </td><td>0.000621587                                   </td></tr>\n",
       "\t<tr><td>X531_Group1C_142dpi_LV_top_166_G_A6_P128.mzXML</td><td>531                                           </td><td>naive                                         </td><td>142dpi                                        </td><td>LV_top                                        </td><td>A6                                            </td><td>P128                                          </td><td>0.012357413                                   </td><td>0.03113655                                    </td><td>0.000643272                                   </td><td>0.007864901                                   </td><td>0.000467785                                   </td></tr>\n",
       "</tbody>\n",
       "</table>\n"
      ],
      "text/latex": [
       "\\begin{tabular}{r|llllllllllll}\n",
       " filename & MouseID & Treatmentgroup & DPI & organ & well\\_position & plate & mass\\_400 & mass\\_500 & mass\\_600 & mass\\_700 & mass\\_800\\\\\n",
       "\\hline\n",
       "\t X511\\_Group1C\\_142dpi\\_LV\\_top\\_161\\_G\\_A1\\_P128.mzXML & 511                                                            & naive                                                          & 142dpi                                                         & LV\\_top                                                       & A1                                                             & P128                                                           & 0.007457554                                                    & 0.02744597                                                     & 0.000521874                                                    & 0.000673111                                                    & 0.000000000                                                   \\\\\n",
       "\t X512\\_Group1C\\_142dpi\\_LV\\_top\\_162\\_G\\_A2\\_P128.mzXML & 512                                                            & naive                                                          & 142dpi                                                         & LV\\_top                                                       & A2                                                             & P128                                                           & 0.008515695                                                    & 0.02741206                                                     & 0.000255829                                                    & 0.000566018                                                    & 0.000000000                                                   \\\\\n",
       "\t X513\\_Group1C\\_142dpi\\_LV\\_top\\_163\\_G\\_A3\\_P128.mzXML & 513                                                            & naive                                                          & 142dpi                                                         & LV\\_top                                                       & A3                                                             & P128                                                           & 0.008847471                                                    & 0.03699675                                                     & 0.000000000                                                    & 0.007030000                                                    & 0.000523528                                                   \\\\\n",
       "\t X514\\_Group1C\\_142dpi\\_LV\\_top\\_164\\_G\\_A4\\_P128.mzXML & 514                                                            & naive                                                          & 142dpi                                                         & LV\\_top                                                       & A4                                                             & P128                                                           & 0.006734363                                                    & 0.01865059                                                     & 0.000214131                                                    & 0.000000000                                                    & 0.000000000                                                   \\\\\n",
       "\t X515\\_Group1C\\_142dpi\\_LV\\_top\\_165\\_G\\_A5\\_P128.mzXML & 515                                                            & naive                                                          & 142dpi                                                         & LV\\_top                                                       & A5                                                             & P128                                                           & 0.012388772                                                    & 0.03474977                                                     & 0.000635973                                                    & 0.006520000                                                    & 0.000621587                                                   \\\\\n",
       "\t X531\\_Group1C\\_142dpi\\_LV\\_top\\_166\\_G\\_A6\\_P128.mzXML & 531                                                            & naive                                                          & 142dpi                                                         & LV\\_top                                                       & A6                                                             & P128                                                           & 0.012357413                                                    & 0.03113655                                                     & 0.000643272                                                    & 0.007864901                                                    & 0.000467785                                                   \\\\\n",
       "\\end{tabular}\n"
      ],
      "text/markdown": [
       "\n",
       "| filename | MouseID | Treatmentgroup | DPI | organ | well_position | plate | mass_400 | mass_500 | mass_600 | mass_700 | mass_800 |\n",
       "|---|---|---|---|---|---|---|---|---|---|---|---|\n",
       "| X511_Group1C_142dpi_LV_top_161_G_A1_P128.mzXML | 511                                            | naive                                          | 142dpi                                         | LV_top                                         | A1                                             | P128                                           | 0.007457554                                    | 0.02744597                                     | 0.000521874                                    | 0.000673111                                    | 0.000000000                                    |\n",
       "| X512_Group1C_142dpi_LV_top_162_G_A2_P128.mzXML | 512                                            | naive                                          | 142dpi                                         | LV_top                                         | A2                                             | P128                                           | 0.008515695                                    | 0.02741206                                     | 0.000255829                                    | 0.000566018                                    | 0.000000000                                    |\n",
       "| X513_Group1C_142dpi_LV_top_163_G_A3_P128.mzXML | 513                                            | naive                                          | 142dpi                                         | LV_top                                         | A3                                             | P128                                           | 0.008847471                                    | 0.03699675                                     | 0.000000000                                    | 0.007030000                                    | 0.000523528                                    |\n",
       "| X514_Group1C_142dpi_LV_top_164_G_A4_P128.mzXML | 514                                            | naive                                          | 142dpi                                         | LV_top                                         | A4                                             | P128                                           | 0.006734363                                    | 0.01865059                                     | 0.000214131                                    | 0.000000000                                    | 0.000000000                                    |\n",
       "| X515_Group1C_142dpi_LV_top_165_G_A5_P128.mzXML | 515                                            | naive                                          | 142dpi                                         | LV_top                                         | A5                                             | P128                                           | 0.012388772                                    | 0.03474977                                     | 0.000635973                                    | 0.006520000                                    | 0.000621587                                    |\n",
       "| X531_Group1C_142dpi_LV_top_166_G_A6_P128.mzXML | 531                                            | naive                                          | 142dpi                                         | LV_top                                         | A6                                             | P128                                           | 0.012357413                                    | 0.03113655                                     | 0.000643272                                    | 0.007864901                                    | 0.000467785                                    |\n",
       "\n"
      ],
      "text/plain": [
       "  filename                                       MouseID Treatmentgroup DPI   \n",
       "1 X511_Group1C_142dpi_LV_top_161_G_A1_P128.mzXML 511     naive          142dpi\n",
       "2 X512_Group1C_142dpi_LV_top_162_G_A2_P128.mzXML 512     naive          142dpi\n",
       "3 X513_Group1C_142dpi_LV_top_163_G_A3_P128.mzXML 513     naive          142dpi\n",
       "4 X514_Group1C_142dpi_LV_top_164_G_A4_P128.mzXML 514     naive          142dpi\n",
       "5 X515_Group1C_142dpi_LV_top_165_G_A5_P128.mzXML 515     naive          142dpi\n",
       "6 X531_Group1C_142dpi_LV_top_166_G_A6_P128.mzXML 531     naive          142dpi\n",
       "  organ  well_position plate mass_400    mass_500   mass_600    mass_700   \n",
       "1 LV_top A1            P128  0.007457554 0.02744597 0.000521874 0.000673111\n",
       "2 LV_top A2            P128  0.008515695 0.02741206 0.000255829 0.000566018\n",
       "3 LV_top A3            P128  0.008847471 0.03699675 0.000000000 0.007030000\n",
       "4 LV_top A4            P128  0.006734363 0.01865059 0.000214131 0.000000000\n",
       "5 LV_top A5            P128  0.012388772 0.03474977 0.000635973 0.006520000\n",
       "6 LV_top A6            P128  0.012357413 0.03113655 0.000643272 0.007864901\n",
       "  mass_800   \n",
       "1 0.000000000\n",
       "2 0.000000000\n",
       "3 0.000523528\n",
       "4 0.000000000\n",
       "5 0.000621587\n",
       "6 0.000467785"
      ]
     },
     "metadata": {},
     "output_type": "display_data"
    },
    {
     "data": {
      "text/html": [
       "<ol class=list-inline>\n",
       "\t<li>60</li>\n",
       "\t<li>12</li>\n",
       "</ol>\n"
      ],
      "text/latex": [
       "\\begin{enumerate*}\n",
       "\\item 60\n",
       "\\item 12\n",
       "\\end{enumerate*}\n"
      ],
      "text/markdown": [
       "1. 60\n",
       "2. 12\n",
       "\n",
       "\n"
      ],
      "text/plain": [
       "[1] 60 12"
      ]
     },
     "metadata": {},
     "output_type": "display_data"
    }
   ],
   "source": [
    "head(a)\n",
    "dim(a)"
   ]
  },
  {
   "cell_type": "code",
   "execution_count": 3,
   "metadata": {},
   "outputs": [
    {
     "data": {
      "text/html": [
       "<table>\n",
       "<thead><tr><th></th><th scope=col>filename</th><th scope=col>MouseID</th><th scope=col>Treatmentgroup</th><th scope=col>DPI</th><th scope=col>organ</th><th scope=col>well_position</th><th scope=col>plate</th><th scope=col>mass_400</th><th scope=col>mass_500</th><th scope=col>mass_600</th><th scope=col>mass_700</th><th scope=col>mass_800</th></tr></thead>\n",
       "<tbody>\n",
       "\t<tr><th scope=row>16</th><td>X581_Group3E_142dpi_LV_top_176_G_B4_P128.mzXML</td><td>581                                           </td><td>infected                                      </td><td>142dpi                                        </td><td>LV_top                                        </td><td>B4                                            </td><td>P128                                          </td><td>0.007706250                                   </td><td>0.030149069                                   </td><td>0.000641527                                   </td><td>0.010259495                                   </td><td>0.001126260                                   </td></tr>\n",
       "\t<tr><th scope=row>17</th><td>X582_Group3E_142dpi_LV_top_177_G_B5_P128.mzXML</td><td>582                                           </td><td>infected                                      </td><td>142dpi                                        </td><td>LV_top                                        </td><td>B5                                            </td><td>P128                                          </td><td>0.007974369                                   </td><td>0.025127976                                   </td><td>0.000396005                                   </td><td>0.003305871                                   </td><td>0.000477912                                   </td></tr>\n",
       "\t<tr><th scope=row>18</th><td>X583_Group3E_142dpi_LV_top_178_G_B6_P128.mzXML</td><td>583                                           </td><td>infected                                      </td><td>142dpi                                        </td><td>LV_top                                        </td><td>B6                                            </td><td>P128                                          </td><td>0.011100987                                   </td><td>0.040626484                                   </td><td>0.000387360                                   </td><td>0.006965201                                   </td><td>0.000000000                                   </td></tr>\n",
       "\t<tr><th scope=row>19</th><td>X584_Group3E_142dpi_LV_top_179_G_B7_P128.mzXML</td><td>584                                           </td><td>infected                                      </td><td>142dpi                                        </td><td>LV_top                                        </td><td>B7                                            </td><td>P128                                          </td><td>0.001920445                                   </td><td>0.004590532                                   </td><td>0.000160346                                   </td><td>0.000716275                                   </td><td>0.000000000                                   </td></tr>\n",
       "\t<tr><th scope=row>20</th><td>X585_Group3E_142dpi_LV_top_180_G_B8_P128.mzXML</td><td>585                                           </td><td>infected                                      </td><td>142dpi                                        </td><td>LV_top                                        </td><td>B8                                            </td><td>P128                                          </td><td>0.005807323                                   </td><td>0.023900000                                   </td><td>0.000553334                                   </td><td>0.005300800                                   </td><td>0.000258538                                   </td></tr>\n",
       "\t<tr><th scope=row>26</th><td>X631_Group15_142dpi_LV_top_191_G_C7_P128.mzXML</td><td>631                                           </td><td>BNZ                                           </td><td>142dpi                                        </td><td>LV_top                                        </td><td>C7                                            </td><td>P128                                          </td><td>0.004682804                                   </td><td>0.020500000                                   </td><td>0.000196078                                   </td><td>0.000550960                                   </td><td>0.000000000                                   </td></tr>\n",
       "</tbody>\n",
       "</table>\n"
      ],
      "text/latex": [
       "\\begin{tabular}{r|llllllllllll}\n",
       "  & filename & MouseID & Treatmentgroup & DPI & organ & well\\_position & plate & mass\\_400 & mass\\_500 & mass\\_600 & mass\\_700 & mass\\_800\\\\\n",
       "\\hline\n",
       "\t16 & X581\\_Group3E\\_142dpi\\_LV\\_top\\_176\\_G\\_B4\\_P128.mzXML & 581                                                            & infected                                                       & 142dpi                                                         & LV\\_top                                                       & B4                                                             & P128                                                           & 0.007706250                                                    & 0.030149069                                                    & 0.000641527                                                    & 0.010259495                                                    & 0.001126260                                                   \\\\\n",
       "\t17 & X582\\_Group3E\\_142dpi\\_LV\\_top\\_177\\_G\\_B5\\_P128.mzXML & 582                                                            & infected                                                       & 142dpi                                                         & LV\\_top                                                       & B5                                                             & P128                                                           & 0.007974369                                                    & 0.025127976                                                    & 0.000396005                                                    & 0.003305871                                                    & 0.000477912                                                   \\\\\n",
       "\t18 & X583\\_Group3E\\_142dpi\\_LV\\_top\\_178\\_G\\_B6\\_P128.mzXML & 583                                                            & infected                                                       & 142dpi                                                         & LV\\_top                                                       & B6                                                             & P128                                                           & 0.011100987                                                    & 0.040626484                                                    & 0.000387360                                                    & 0.006965201                                                    & 0.000000000                                                   \\\\\n",
       "\t19 & X584\\_Group3E\\_142dpi\\_LV\\_top\\_179\\_G\\_B7\\_P128.mzXML & 584                                                            & infected                                                       & 142dpi                                                         & LV\\_top                                                       & B7                                                             & P128                                                           & 0.001920445                                                    & 0.004590532                                                    & 0.000160346                                                    & 0.000716275                                                    & 0.000000000                                                   \\\\\n",
       "\t20 & X585\\_Group3E\\_142dpi\\_LV\\_top\\_180\\_G\\_B8\\_P128.mzXML & 585                                                            & infected                                                       & 142dpi                                                         & LV\\_top                                                       & B8                                                             & P128                                                           & 0.005807323                                                    & 0.023900000                                                    & 0.000553334                                                    & 0.005300800                                                    & 0.000258538                                                   \\\\\n",
       "\t26 & X631\\_Group15\\_142dpi\\_LV\\_top\\_191\\_G\\_C7\\_P128.mzXML & 631                                                            & BNZ                                                            & 142dpi                                                         & LV\\_top                                                       & C7                                                             & P128                                                           & 0.004682804                                                    & 0.020500000                                                    & 0.000196078                                                    & 0.000550960                                                    & 0.000000000                                                   \\\\\n",
       "\\end{tabular}\n"
      ],
      "text/markdown": [
       "\n",
       "| <!--/--> | filename | MouseID | Treatmentgroup | DPI | organ | well_position | plate | mass_400 | mass_500 | mass_600 | mass_700 | mass_800 |\n",
       "|---|---|---|---|---|---|---|---|---|---|---|---|---|\n",
       "| 16 | X581_Group3E_142dpi_LV_top_176_G_B4_P128.mzXML | 581                                            | infected                                       | 142dpi                                         | LV_top                                         | B4                                             | P128                                           | 0.007706250                                    | 0.030149069                                    | 0.000641527                                    | 0.010259495                                    | 0.001126260                                    |\n",
       "| 17 | X582_Group3E_142dpi_LV_top_177_G_B5_P128.mzXML | 582                                            | infected                                       | 142dpi                                         | LV_top                                         | B5                                             | P128                                           | 0.007974369                                    | 0.025127976                                    | 0.000396005                                    | 0.003305871                                    | 0.000477912                                    |\n",
       "| 18 | X583_Group3E_142dpi_LV_top_178_G_B6_P128.mzXML | 583                                            | infected                                       | 142dpi                                         | LV_top                                         | B6                                             | P128                                           | 0.011100987                                    | 0.040626484                                    | 0.000387360                                    | 0.006965201                                    | 0.000000000                                    |\n",
       "| 19 | X584_Group3E_142dpi_LV_top_179_G_B7_P128.mzXML | 584                                            | infected                                       | 142dpi                                         | LV_top                                         | B7                                             | P128                                           | 0.001920445                                    | 0.004590532                                    | 0.000160346                                    | 0.000716275                                    | 0.000000000                                    |\n",
       "| 20 | X585_Group3E_142dpi_LV_top_180_G_B8_P128.mzXML | 585                                            | infected                                       | 142dpi                                         | LV_top                                         | B8                                             | P128                                           | 0.005807323                                    | 0.023900000                                    | 0.000553334                                    | 0.005300800                                    | 0.000258538                                    |\n",
       "| 26 | X631_Group15_142dpi_LV_top_191_G_C7_P128.mzXML | 631                                            | BNZ                                            | 142dpi                                         | LV_top                                         | C7                                             | P128                                           | 0.004682804                                    | 0.020500000                                    | 0.000196078                                    | 0.000550960                                    | 0.000000000                                    |\n",
       "\n"
      ],
      "text/plain": [
       "   filename                                       MouseID Treatmentgroup DPI   \n",
       "16 X581_Group3E_142dpi_LV_top_176_G_B4_P128.mzXML 581     infected       142dpi\n",
       "17 X582_Group3E_142dpi_LV_top_177_G_B5_P128.mzXML 582     infected       142dpi\n",
       "18 X583_Group3E_142dpi_LV_top_178_G_B6_P128.mzXML 583     infected       142dpi\n",
       "19 X584_Group3E_142dpi_LV_top_179_G_B7_P128.mzXML 584     infected       142dpi\n",
       "20 X585_Group3E_142dpi_LV_top_180_G_B8_P128.mzXML 585     infected       142dpi\n",
       "26 X631_Group15_142dpi_LV_top_191_G_C7_P128.mzXML 631     BNZ            142dpi\n",
       "   organ  well_position plate mass_400    mass_500    mass_600    mass_700   \n",
       "16 LV_top B4            P128  0.007706250 0.030149069 0.000641527 0.010259495\n",
       "17 LV_top B5            P128  0.007974369 0.025127976 0.000396005 0.003305871\n",
       "18 LV_top B6            P128  0.011100987 0.040626484 0.000387360 0.006965201\n",
       "19 LV_top B7            P128  0.001920445 0.004590532 0.000160346 0.000716275\n",
       "20 LV_top B8            P128  0.005807323 0.023900000 0.000553334 0.005300800\n",
       "26 LV_top C7            P128  0.004682804 0.020500000 0.000196078 0.000550960\n",
       "   mass_800   \n",
       "16 0.001126260\n",
       "17 0.000477912\n",
       "18 0.000000000\n",
       "19 0.000000000\n",
       "20 0.000258538\n",
       "26 0.000000000"
      ]
     },
     "metadata": {},
     "output_type": "display_data"
    },
    {
     "data": {
      "text/html": [
       "<ol class=list-inline>\n",
       "\t<li>30</li>\n",
       "\t<li>12</li>\n",
       "</ol>\n"
      ],
      "text/latex": [
       "\\begin{enumerate*}\n",
       "\\item 30\n",
       "\\item 12\n",
       "\\end{enumerate*}\n"
      ],
      "text/markdown": [
       "1. 30\n",
       "2. 12\n",
       "\n",
       "\n"
      ],
      "text/plain": [
       "[1] 30 12"
      ]
     },
     "metadata": {},
     "output_type": "display_data"
    }
   ],
   "source": [
    "features_pos<-droplevels(subset(a, a$Treatmentgroup==c(\"infected\")|a$Treatmentgroup==c(\"BNZ\")))\n",
    "head(features_pos)\n",
    "dim(features_pos)"
   ]
  },
  {
   "cell_type": "code",
   "execution_count": 4,
   "metadata": {
    "scrolled": false
   },
   "outputs": [
    {
     "data": {
      "text/html": [
       "<table>\n",
       "<thead><tr><th></th><th scope=col>mass_400</th><th scope=col>mass_500</th><th scope=col>mass_600</th><th scope=col>mass_700</th><th scope=col>mass_800</th></tr></thead>\n",
       "<tbody>\n",
       "\t<tr><th scope=row>16</th><td>0.007706250</td><td>0.030149069</td><td>0.000641527</td><td>0.010259495</td><td>0.001126260</td></tr>\n",
       "\t<tr><th scope=row>17</th><td>0.007974369</td><td>0.025127976</td><td>0.000396005</td><td>0.003305871</td><td>0.000477912</td></tr>\n",
       "\t<tr><th scope=row>18</th><td>0.011100987</td><td>0.040626484</td><td>0.000387360</td><td>0.006965201</td><td>0.000000000</td></tr>\n",
       "\t<tr><th scope=row>19</th><td>0.001920445</td><td>0.004590532</td><td>0.000160346</td><td>0.000716275</td><td>0.000000000</td></tr>\n",
       "\t<tr><th scope=row>20</th><td>0.005807323</td><td>0.023900000</td><td>0.000553334</td><td>0.005300800</td><td>0.000258538</td></tr>\n",
       "\t<tr><th scope=row>26</th><td>0.004682804</td><td>0.020500000</td><td>0.000196078</td><td>0.000550960</td><td>0.000000000</td></tr>\n",
       "</tbody>\n",
       "</table>\n"
      ],
      "text/latex": [
       "\\begin{tabular}{r|lllll}\n",
       "  & mass\\_400 & mass\\_500 & mass\\_600 & mass\\_700 & mass\\_800\\\\\n",
       "\\hline\n",
       "\t16 & 0.007706250 & 0.030149069 & 0.000641527 & 0.010259495 & 0.001126260\\\\\n",
       "\t17 & 0.007974369 & 0.025127976 & 0.000396005 & 0.003305871 & 0.000477912\\\\\n",
       "\t18 & 0.011100987 & 0.040626484 & 0.000387360 & 0.006965201 & 0.000000000\\\\\n",
       "\t19 & 0.001920445 & 0.004590532 & 0.000160346 & 0.000716275 & 0.000000000\\\\\n",
       "\t20 & 0.005807323 & 0.023900000 & 0.000553334 & 0.005300800 & 0.000258538\\\\\n",
       "\t26 & 0.004682804 & 0.020500000 & 0.000196078 & 0.000550960 & 0.000000000\\\\\n",
       "\\end{tabular}\n"
      ],
      "text/markdown": [
       "\n",
       "| <!--/--> | mass_400 | mass_500 | mass_600 | mass_700 | mass_800 |\n",
       "|---|---|---|---|---|---|\n",
       "| 16 | 0.007706250 | 0.030149069 | 0.000641527 | 0.010259495 | 0.001126260 |\n",
       "| 17 | 0.007974369 | 0.025127976 | 0.000396005 | 0.003305871 | 0.000477912 |\n",
       "| 18 | 0.011100987 | 0.040626484 | 0.000387360 | 0.006965201 | 0.000000000 |\n",
       "| 19 | 0.001920445 | 0.004590532 | 0.000160346 | 0.000716275 | 0.000000000 |\n",
       "| 20 | 0.005807323 | 0.023900000 | 0.000553334 | 0.005300800 | 0.000258538 |\n",
       "| 26 | 0.004682804 | 0.020500000 | 0.000196078 | 0.000550960 | 0.000000000 |\n",
       "\n"
      ],
      "text/plain": [
       "   mass_400    mass_500    mass_600    mass_700    mass_800   \n",
       "16 0.007706250 0.030149069 0.000641527 0.010259495 0.001126260\n",
       "17 0.007974369 0.025127976 0.000396005 0.003305871 0.000477912\n",
       "18 0.011100987 0.040626484 0.000387360 0.006965201 0.000000000\n",
       "19 0.001920445 0.004590532 0.000160346 0.000716275 0.000000000\n",
       "20 0.005807323 0.023900000 0.000553334 0.005300800 0.000258538\n",
       "26 0.004682804 0.020500000 0.000196078 0.000550960 0.000000000"
      ]
     },
     "metadata": {},
     "output_type": "display_data"
    },
    {
     "data": {
      "text/html": [
       "<dl class=dl-horizontal>\n",
       "\t<dt>mass_400</dt>\n",
       "\t\t<dd>1</dd>\n",
       "\t<dt>mass_500</dt>\n",
       "\t\t<dd>2</dd>\n",
       "\t<dt>mass_600</dt>\n",
       "\t\t<dd>3</dd>\n",
       "\t<dt>mass_700</dt>\n",
       "\t\t<dd>4</dd>\n",
       "\t<dt>mass_800</dt>\n",
       "\t\t<dd>5</dd>\n",
       "</dl>\n"
      ],
      "text/latex": [
       "\\begin{description*}\n",
       "\\item[mass\\textbackslash{}\\_400] 1\n",
       "\\item[mass\\textbackslash{}\\_500] 2\n",
       "\\item[mass\\textbackslash{}\\_600] 3\n",
       "\\item[mass\\textbackslash{}\\_700] 4\n",
       "\\item[mass\\textbackslash{}\\_800] 5\n",
       "\\end{description*}\n"
      ],
      "text/markdown": [
       "mass_400\n",
       ":   1mass_500\n",
       ":   2mass_600\n",
       ":   3mass_700\n",
       ":   4mass_800\n",
       ":   5\n",
       "\n"
      ],
      "text/plain": [
       "mass_400 mass_500 mass_600 mass_700 mass_800 \n",
       "       1        2        3        4        5 "
      ]
     },
     "metadata": {},
     "output_type": "display_data"
    },
    {
     "data": {
      "text/html": [
       "<table>\n",
       "<thead><tr><th></th><th scope=col>mass_400</th><th scope=col>mass_500</th><th scope=col>mass_600</th><th scope=col>mass_700</th><th scope=col>mass_800</th></tr></thead>\n",
       "<tbody>\n",
       "\t<tr><th scope=row>16</th><td>0.007706250</td><td>0.030149069</td><td>0.000641527</td><td>0.010259495</td><td>0.001126260</td></tr>\n",
       "\t<tr><th scope=row>17</th><td>0.007974369</td><td>0.025127976</td><td>0.000396005</td><td>0.003305871</td><td>0.000477912</td></tr>\n",
       "\t<tr><th scope=row>18</th><td>0.011100987</td><td>0.040626484</td><td>0.000387360</td><td>0.006965201</td><td>0.000000000</td></tr>\n",
       "\t<tr><th scope=row>19</th><td>0.001920445</td><td>0.004590532</td><td>0.000160346</td><td>0.000716275</td><td>0.000000000</td></tr>\n",
       "\t<tr><th scope=row>20</th><td>0.005807323</td><td>0.023900000</td><td>0.000553334</td><td>0.005300800</td><td>0.000258538</td></tr>\n",
       "\t<tr><th scope=row>26</th><td>0.004682804</td><td>0.020500000</td><td>0.000196078</td><td>0.000550960</td><td>0.000000000</td></tr>\n",
       "\t<tr><th scope=row>27</th><td>0.006094290</td><td>0.024300000</td><td>0.000379999</td><td>0.000738291</td><td>0.000144442</td></tr>\n",
       "\t<tr><th scope=row>28</th><td>0.008367666</td><td>0.025300000</td><td>0.000183671</td><td>0.001882418</td><td>0.000118409</td></tr>\n",
       "\t<tr><th scope=row>29</th><td>0.007930511</td><td>0.025540688</td><td>0.000324801</td><td>0.000000000</td><td>0.000000000</td></tr>\n",
       "\t<tr><th scope=row>30</th><td>0.006251799</td><td>0.020864278</td><td>0.000000000</td><td>0.010541965</td><td>0.000000000</td></tr>\n",
       "\t<tr><th scope=row>31</th><td>0.007239937</td><td>0.029319686</td><td>0.000424000</td><td>0.018118516</td><td>0.000945717</td></tr>\n",
       "\t<tr><th scope=row>32</th><td>0.008683059</td><td>0.038499006</td><td>0.000275666</td><td>0.004189625</td><td>0.000782938</td></tr>\n",
       "\t<tr><th scope=row>33</th><td>0.007004080</td><td>0.027714844</td><td>0.000000000</td><td>0.003139064</td><td>0.000000000</td></tr>\n",
       "\t<tr><th scope=row>34</th><td>0.002272943</td><td>0.005562702</td><td>0.000325345</td><td>0.001800000</td><td>0.000051500</td></tr>\n",
       "\t<tr><th scope=row>35</th><td>0.002018378</td><td>0.008356147</td><td>0.000044200</td><td>0.000000000</td><td>0.000000000</td></tr>\n",
       "\t<tr><th scope=row>41</th><td>0.011893198</td><td>0.022322169</td><td>0.000321172</td><td>0.006467595</td><td>0.000331555</td></tr>\n",
       "\t<tr><th scope=row>42</th><td>0.008511754</td><td>0.024692489</td><td>0.000140217</td><td>0.000000000</td><td>0.000000000</td></tr>\n",
       "\t<tr><th scope=row>43</th><td>0.003621968</td><td>0.024563097</td><td>0.000000000</td><td>0.002080392</td><td>0.000000000</td></tr>\n",
       "\t<tr><th scope=row>44</th><td>0.003737653</td><td>0.014500000</td><td>0.000305600</td><td>0.006959895</td><td>0.000542014</td></tr>\n",
       "\t<tr><th scope=row>45</th><td>0.006483031</td><td>0.026892282</td><td>0.000720511</td><td>0.001803802</td><td>0.000445998</td></tr>\n",
       "\t<tr><th scope=row>46</th><td>0.005862788</td><td>0.025648657</td><td>0.000233532</td><td>0.005367512</td><td>0.000049700</td></tr>\n",
       "\t<tr><th scope=row>47</th><td>0.008955573</td><td>0.031359081</td><td>0.000173171</td><td>0.002790791</td><td>0.000000000</td></tr>\n",
       "\t<tr><th scope=row>48</th><td>0.004807144</td><td>0.023273240</td><td>0.000125781</td><td>0.018532792</td><td>0.000758280</td></tr>\n",
       "\t<tr><th scope=row>49</th><td>0.006608647</td><td>0.020718858</td><td>0.000805279</td><td>0.001560383</td><td>0.000000000</td></tr>\n",
       "\t<tr><th scope=row>50</th><td>0.002100443</td><td>0.007590000</td><td>0.000482242</td><td>0.010474670</td><td>0.001108683</td></tr>\n",
       "\t<tr><th scope=row>56</th><td>0.002434748</td><td>0.020153196</td><td>0.000073200</td><td>0.000000000</td><td>0.000000000</td></tr>\n",
       "\t<tr><th scope=row>57</th><td>0.006191115</td><td>0.020600000</td><td>0.000720631</td><td>0.002177276</td><td>0.000510772</td></tr>\n",
       "\t<tr><th scope=row>58</th><td>0.003243377</td><td>0.025865588</td><td>0.000244858</td><td>0.003054921</td><td>0.000000000</td></tr>\n",
       "\t<tr><th scope=row>59</th><td>0.005800927</td><td>0.021280629</td><td>0.000191151</td><td>0.002421784</td><td>0.000000000</td></tr>\n",
       "\t<tr><th scope=row>60</th><td>0.009645414</td><td>0.030768357</td><td>0.000831182</td><td>0.013208830</td><td>0.000869912</td></tr>\n",
       "</tbody>\n",
       "</table>\n"
      ],
      "text/latex": [
       "\\begin{tabular}{r|lllll}\n",
       "  & mass\\_400 & mass\\_500 & mass\\_600 & mass\\_700 & mass\\_800\\\\\n",
       "\\hline\n",
       "\t16 & 0.007706250 & 0.030149069 & 0.000641527 & 0.010259495 & 0.001126260\\\\\n",
       "\t17 & 0.007974369 & 0.025127976 & 0.000396005 & 0.003305871 & 0.000477912\\\\\n",
       "\t18 & 0.011100987 & 0.040626484 & 0.000387360 & 0.006965201 & 0.000000000\\\\\n",
       "\t19 & 0.001920445 & 0.004590532 & 0.000160346 & 0.000716275 & 0.000000000\\\\\n",
       "\t20 & 0.005807323 & 0.023900000 & 0.000553334 & 0.005300800 & 0.000258538\\\\\n",
       "\t26 & 0.004682804 & 0.020500000 & 0.000196078 & 0.000550960 & 0.000000000\\\\\n",
       "\t27 & 0.006094290 & 0.024300000 & 0.000379999 & 0.000738291 & 0.000144442\\\\\n",
       "\t28 & 0.008367666 & 0.025300000 & 0.000183671 & 0.001882418 & 0.000118409\\\\\n",
       "\t29 & 0.007930511 & 0.025540688 & 0.000324801 & 0.000000000 & 0.000000000\\\\\n",
       "\t30 & 0.006251799 & 0.020864278 & 0.000000000 & 0.010541965 & 0.000000000\\\\\n",
       "\t31 & 0.007239937 & 0.029319686 & 0.000424000 & 0.018118516 & 0.000945717\\\\\n",
       "\t32 & 0.008683059 & 0.038499006 & 0.000275666 & 0.004189625 & 0.000782938\\\\\n",
       "\t33 & 0.007004080 & 0.027714844 & 0.000000000 & 0.003139064 & 0.000000000\\\\\n",
       "\t34 & 0.002272943 & 0.005562702 & 0.000325345 & 0.001800000 & 0.000051500\\\\\n",
       "\t35 & 0.002018378 & 0.008356147 & 0.000044200 & 0.000000000 & 0.000000000\\\\\n",
       "\t41 & 0.011893198 & 0.022322169 & 0.000321172 & 0.006467595 & 0.000331555\\\\\n",
       "\t42 & 0.008511754 & 0.024692489 & 0.000140217 & 0.000000000 & 0.000000000\\\\\n",
       "\t43 & 0.003621968 & 0.024563097 & 0.000000000 & 0.002080392 & 0.000000000\\\\\n",
       "\t44 & 0.003737653 & 0.014500000 & 0.000305600 & 0.006959895 & 0.000542014\\\\\n",
       "\t45 & 0.006483031 & 0.026892282 & 0.000720511 & 0.001803802 & 0.000445998\\\\\n",
       "\t46 & 0.005862788 & 0.025648657 & 0.000233532 & 0.005367512 & 0.000049700\\\\\n",
       "\t47 & 0.008955573 & 0.031359081 & 0.000173171 & 0.002790791 & 0.000000000\\\\\n",
       "\t48 & 0.004807144 & 0.023273240 & 0.000125781 & 0.018532792 & 0.000758280\\\\\n",
       "\t49 & 0.006608647 & 0.020718858 & 0.000805279 & 0.001560383 & 0.000000000\\\\\n",
       "\t50 & 0.002100443 & 0.007590000 & 0.000482242 & 0.010474670 & 0.001108683\\\\\n",
       "\t56 & 0.002434748 & 0.020153196 & 0.000073200 & 0.000000000 & 0.000000000\\\\\n",
       "\t57 & 0.006191115 & 0.020600000 & 0.000720631 & 0.002177276 & 0.000510772\\\\\n",
       "\t58 & 0.003243377 & 0.025865588 & 0.000244858 & 0.003054921 & 0.000000000\\\\\n",
       "\t59 & 0.005800927 & 0.021280629 & 0.000191151 & 0.002421784 & 0.000000000\\\\\n",
       "\t60 & 0.009645414 & 0.030768357 & 0.000831182 & 0.013208830 & 0.000869912\\\\\n",
       "\\end{tabular}\n"
      ],
      "text/markdown": [
       "\n",
       "| <!--/--> | mass_400 | mass_500 | mass_600 | mass_700 | mass_800 |\n",
       "|---|---|---|---|---|---|\n",
       "| 16 | 0.007706250 | 0.030149069 | 0.000641527 | 0.010259495 | 0.001126260 |\n",
       "| 17 | 0.007974369 | 0.025127976 | 0.000396005 | 0.003305871 | 0.000477912 |\n",
       "| 18 | 0.011100987 | 0.040626484 | 0.000387360 | 0.006965201 | 0.000000000 |\n",
       "| 19 | 0.001920445 | 0.004590532 | 0.000160346 | 0.000716275 | 0.000000000 |\n",
       "| 20 | 0.005807323 | 0.023900000 | 0.000553334 | 0.005300800 | 0.000258538 |\n",
       "| 26 | 0.004682804 | 0.020500000 | 0.000196078 | 0.000550960 | 0.000000000 |\n",
       "| 27 | 0.006094290 | 0.024300000 | 0.000379999 | 0.000738291 | 0.000144442 |\n",
       "| 28 | 0.008367666 | 0.025300000 | 0.000183671 | 0.001882418 | 0.000118409 |\n",
       "| 29 | 0.007930511 | 0.025540688 | 0.000324801 | 0.000000000 | 0.000000000 |\n",
       "| 30 | 0.006251799 | 0.020864278 | 0.000000000 | 0.010541965 | 0.000000000 |\n",
       "| 31 | 0.007239937 | 0.029319686 | 0.000424000 | 0.018118516 | 0.000945717 |\n",
       "| 32 | 0.008683059 | 0.038499006 | 0.000275666 | 0.004189625 | 0.000782938 |\n",
       "| 33 | 0.007004080 | 0.027714844 | 0.000000000 | 0.003139064 | 0.000000000 |\n",
       "| 34 | 0.002272943 | 0.005562702 | 0.000325345 | 0.001800000 | 0.000051500 |\n",
       "| 35 | 0.002018378 | 0.008356147 | 0.000044200 | 0.000000000 | 0.000000000 |\n",
       "| 41 | 0.011893198 | 0.022322169 | 0.000321172 | 0.006467595 | 0.000331555 |\n",
       "| 42 | 0.008511754 | 0.024692489 | 0.000140217 | 0.000000000 | 0.000000000 |\n",
       "| 43 | 0.003621968 | 0.024563097 | 0.000000000 | 0.002080392 | 0.000000000 |\n",
       "| 44 | 0.003737653 | 0.014500000 | 0.000305600 | 0.006959895 | 0.000542014 |\n",
       "| 45 | 0.006483031 | 0.026892282 | 0.000720511 | 0.001803802 | 0.000445998 |\n",
       "| 46 | 0.005862788 | 0.025648657 | 0.000233532 | 0.005367512 | 0.000049700 |\n",
       "| 47 | 0.008955573 | 0.031359081 | 0.000173171 | 0.002790791 | 0.000000000 |\n",
       "| 48 | 0.004807144 | 0.023273240 | 0.000125781 | 0.018532792 | 0.000758280 |\n",
       "| 49 | 0.006608647 | 0.020718858 | 0.000805279 | 0.001560383 | 0.000000000 |\n",
       "| 50 | 0.002100443 | 0.007590000 | 0.000482242 | 0.010474670 | 0.001108683 |\n",
       "| 56 | 0.002434748 | 0.020153196 | 0.000073200 | 0.000000000 | 0.000000000 |\n",
       "| 57 | 0.006191115 | 0.020600000 | 0.000720631 | 0.002177276 | 0.000510772 |\n",
       "| 58 | 0.003243377 | 0.025865588 | 0.000244858 | 0.003054921 | 0.000000000 |\n",
       "| 59 | 0.005800927 | 0.021280629 | 0.000191151 | 0.002421784 | 0.000000000 |\n",
       "| 60 | 0.009645414 | 0.030768357 | 0.000831182 | 0.013208830 | 0.000869912 |\n",
       "\n"
      ],
      "text/plain": [
       "   mass_400    mass_500    mass_600    mass_700    mass_800   \n",
       "16 0.007706250 0.030149069 0.000641527 0.010259495 0.001126260\n",
       "17 0.007974369 0.025127976 0.000396005 0.003305871 0.000477912\n",
       "18 0.011100987 0.040626484 0.000387360 0.006965201 0.000000000\n",
       "19 0.001920445 0.004590532 0.000160346 0.000716275 0.000000000\n",
       "20 0.005807323 0.023900000 0.000553334 0.005300800 0.000258538\n",
       "26 0.004682804 0.020500000 0.000196078 0.000550960 0.000000000\n",
       "27 0.006094290 0.024300000 0.000379999 0.000738291 0.000144442\n",
       "28 0.008367666 0.025300000 0.000183671 0.001882418 0.000118409\n",
       "29 0.007930511 0.025540688 0.000324801 0.000000000 0.000000000\n",
       "30 0.006251799 0.020864278 0.000000000 0.010541965 0.000000000\n",
       "31 0.007239937 0.029319686 0.000424000 0.018118516 0.000945717\n",
       "32 0.008683059 0.038499006 0.000275666 0.004189625 0.000782938\n",
       "33 0.007004080 0.027714844 0.000000000 0.003139064 0.000000000\n",
       "34 0.002272943 0.005562702 0.000325345 0.001800000 0.000051500\n",
       "35 0.002018378 0.008356147 0.000044200 0.000000000 0.000000000\n",
       "41 0.011893198 0.022322169 0.000321172 0.006467595 0.000331555\n",
       "42 0.008511754 0.024692489 0.000140217 0.000000000 0.000000000\n",
       "43 0.003621968 0.024563097 0.000000000 0.002080392 0.000000000\n",
       "44 0.003737653 0.014500000 0.000305600 0.006959895 0.000542014\n",
       "45 0.006483031 0.026892282 0.000720511 0.001803802 0.000445998\n",
       "46 0.005862788 0.025648657 0.000233532 0.005367512 0.000049700\n",
       "47 0.008955573 0.031359081 0.000173171 0.002790791 0.000000000\n",
       "48 0.004807144 0.023273240 0.000125781 0.018532792 0.000758280\n",
       "49 0.006608647 0.020718858 0.000805279 0.001560383 0.000000000\n",
       "50 0.002100443 0.007590000 0.000482242 0.010474670 0.001108683\n",
       "56 0.002434748 0.020153196 0.000073200 0.000000000 0.000000000\n",
       "57 0.006191115 0.020600000 0.000720631 0.002177276 0.000510772\n",
       "58 0.003243377 0.025865588 0.000244858 0.003054921 0.000000000\n",
       "59 0.005800927 0.021280629 0.000191151 0.002421784 0.000000000\n",
       "60 0.009645414 0.030768357 0.000831182 0.013208830 0.000869912"
      ]
     },
     "metadata": {},
     "output_type": "display_data"
    },
    {
     "data": {
      "text/html": [
       "<table>\n",
       "<thead><tr><th></th><th scope=col>filename</th><th scope=col>MouseID</th><th scope=col>Treatmentgroup</th><th scope=col>DPI</th><th scope=col>organ</th><th scope=col>well_position</th><th scope=col>plate</th><th scope=col>mass_400</th><th scope=col>mass_500</th><th scope=col>mass_600</th><th scope=col>mass_700</th><th scope=col>mass_800</th></tr></thead>\n",
       "<tbody>\n",
       "\t<tr><th scope=row>16</th><td>X581_Group3E_142dpi_LV_top_176_G_B4_P128.mzXML</td><td>581                                           </td><td>infected                                      </td><td>142dpi                                        </td><td>LV_top                                        </td><td>B4                                            </td><td>P128                                          </td><td>0.007706250                                   </td><td>0.030149069                                   </td><td>0.000641527                                   </td><td>0.010259495                                   </td><td>0.001126260                                   </td></tr>\n",
       "\t<tr><th scope=row>17</th><td>X582_Group3E_142dpi_LV_top_177_G_B5_P128.mzXML</td><td>582                                           </td><td>infected                                      </td><td>142dpi                                        </td><td>LV_top                                        </td><td>B5                                            </td><td>P128                                          </td><td>0.007974369                                   </td><td>0.025127976                                   </td><td>0.000396005                                   </td><td>0.003305871                                   </td><td>0.000477912                                   </td></tr>\n",
       "\t<tr><th scope=row>18</th><td>X583_Group3E_142dpi_LV_top_178_G_B6_P128.mzXML</td><td>583                                           </td><td>infected                                      </td><td>142dpi                                        </td><td>LV_top                                        </td><td>B6                                            </td><td>P128                                          </td><td>0.011100987                                   </td><td>0.040626484                                   </td><td>0.000387360                                   </td><td>0.006965201                                   </td><td>0.000000000                                   </td></tr>\n",
       "\t<tr><th scope=row>19</th><td>X584_Group3E_142dpi_LV_top_179_G_B7_P128.mzXML</td><td>584                                           </td><td>infected                                      </td><td>142dpi                                        </td><td>LV_top                                        </td><td>B7                                            </td><td>P128                                          </td><td>0.001920445                                   </td><td>0.004590532                                   </td><td>0.000160346                                   </td><td>0.000716275                                   </td><td>0.000000000                                   </td></tr>\n",
       "\t<tr><th scope=row>20</th><td>X585_Group3E_142dpi_LV_top_180_G_B8_P128.mzXML</td><td>585                                           </td><td>infected                                      </td><td>142dpi                                        </td><td>LV_top                                        </td><td>B8                                            </td><td>P128                                          </td><td>0.005807323                                   </td><td>0.023900000                                   </td><td>0.000553334                                   </td><td>0.005300800                                   </td><td>0.000258538                                   </td></tr>\n",
       "\t<tr><th scope=row>26</th><td>X631_Group15_142dpi_LV_top_191_G_C7_P128.mzXML</td><td>631                                           </td><td>BNZ                                           </td><td>142dpi                                        </td><td>LV_top                                        </td><td>C7                                            </td><td>P128                                          </td><td>0.004682804                                   </td><td>0.020500000                                   </td><td>0.000196078                                   </td><td>0.000550960                                   </td><td>0.000000000                                   </td></tr>\n",
       "</tbody>\n",
       "</table>\n"
      ],
      "text/latex": [
       "\\begin{tabular}{r|llllllllllll}\n",
       "  & filename & MouseID & Treatmentgroup & DPI & organ & well\\_position & plate & mass\\_400 & mass\\_500 & mass\\_600 & mass\\_700 & mass\\_800\\\\\n",
       "\\hline\n",
       "\t16 & X581\\_Group3E\\_142dpi\\_LV\\_top\\_176\\_G\\_B4\\_P128.mzXML & 581                                                            & infected                                                       & 142dpi                                                         & LV\\_top                                                       & B4                                                             & P128                                                           & 0.007706250                                                    & 0.030149069                                                    & 0.000641527                                                    & 0.010259495                                                    & 0.001126260                                                   \\\\\n",
       "\t17 & X582\\_Group3E\\_142dpi\\_LV\\_top\\_177\\_G\\_B5\\_P128.mzXML & 582                                                            & infected                                                       & 142dpi                                                         & LV\\_top                                                       & B5                                                             & P128                                                           & 0.007974369                                                    & 0.025127976                                                    & 0.000396005                                                    & 0.003305871                                                    & 0.000477912                                                   \\\\\n",
       "\t18 & X583\\_Group3E\\_142dpi\\_LV\\_top\\_178\\_G\\_B6\\_P128.mzXML & 583                                                            & infected                                                       & 142dpi                                                         & LV\\_top                                                       & B6                                                             & P128                                                           & 0.011100987                                                    & 0.040626484                                                    & 0.000387360                                                    & 0.006965201                                                    & 0.000000000                                                   \\\\\n",
       "\t19 & X584\\_Group3E\\_142dpi\\_LV\\_top\\_179\\_G\\_B7\\_P128.mzXML & 584                                                            & infected                                                       & 142dpi                                                         & LV\\_top                                                       & B7                                                             & P128                                                           & 0.001920445                                                    & 0.004590532                                                    & 0.000160346                                                    & 0.000716275                                                    & 0.000000000                                                   \\\\\n",
       "\t20 & X585\\_Group3E\\_142dpi\\_LV\\_top\\_180\\_G\\_B8\\_P128.mzXML & 585                                                            & infected                                                       & 142dpi                                                         & LV\\_top                                                       & B8                                                             & P128                                                           & 0.005807323                                                    & 0.023900000                                                    & 0.000553334                                                    & 0.005300800                                                    & 0.000258538                                                   \\\\\n",
       "\t26 & X631\\_Group15\\_142dpi\\_LV\\_top\\_191\\_G\\_C7\\_P128.mzXML & 631                                                            & BNZ                                                            & 142dpi                                                         & LV\\_top                                                       & C7                                                             & P128                                                           & 0.004682804                                                    & 0.020500000                                                    & 0.000196078                                                    & 0.000550960                                                    & 0.000000000                                                   \\\\\n",
       "\\end{tabular}\n"
      ],
      "text/markdown": [
       "\n",
       "| <!--/--> | filename | MouseID | Treatmentgroup | DPI | organ | well_position | plate | mass_400 | mass_500 | mass_600 | mass_700 | mass_800 |\n",
       "|---|---|---|---|---|---|---|---|---|---|---|---|---|\n",
       "| 16 | X581_Group3E_142dpi_LV_top_176_G_B4_P128.mzXML | 581                                            | infected                                       | 142dpi                                         | LV_top                                         | B4                                             | P128                                           | 0.007706250                                    | 0.030149069                                    | 0.000641527                                    | 0.010259495                                    | 0.001126260                                    |\n",
       "| 17 | X582_Group3E_142dpi_LV_top_177_G_B5_P128.mzXML | 582                                            | infected                                       | 142dpi                                         | LV_top                                         | B5                                             | P128                                           | 0.007974369                                    | 0.025127976                                    | 0.000396005                                    | 0.003305871                                    | 0.000477912                                    |\n",
       "| 18 | X583_Group3E_142dpi_LV_top_178_G_B6_P128.mzXML | 583                                            | infected                                       | 142dpi                                         | LV_top                                         | B6                                             | P128                                           | 0.011100987                                    | 0.040626484                                    | 0.000387360                                    | 0.006965201                                    | 0.000000000                                    |\n",
       "| 19 | X584_Group3E_142dpi_LV_top_179_G_B7_P128.mzXML | 584                                            | infected                                       | 142dpi                                         | LV_top                                         | B7                                             | P128                                           | 0.001920445                                    | 0.004590532                                    | 0.000160346                                    | 0.000716275                                    | 0.000000000                                    |\n",
       "| 20 | X585_Group3E_142dpi_LV_top_180_G_B8_P128.mzXML | 585                                            | infected                                       | 142dpi                                         | LV_top                                         | B8                                             | P128                                           | 0.005807323                                    | 0.023900000                                    | 0.000553334                                    | 0.005300800                                    | 0.000258538                                    |\n",
       "| 26 | X631_Group15_142dpi_LV_top_191_G_C7_P128.mzXML | 631                                            | BNZ                                            | 142dpi                                         | LV_top                                         | C7                                             | P128                                           | 0.004682804                                    | 0.020500000                                    | 0.000196078                                    | 0.000550960                                    | 0.000000000                                    |\n",
       "\n"
      ],
      "text/plain": [
       "   filename                                       MouseID Treatmentgroup DPI   \n",
       "16 X581_Group3E_142dpi_LV_top_176_G_B4_P128.mzXML 581     infected       142dpi\n",
       "17 X582_Group3E_142dpi_LV_top_177_G_B5_P128.mzXML 582     infected       142dpi\n",
       "18 X583_Group3E_142dpi_LV_top_178_G_B6_P128.mzXML 583     infected       142dpi\n",
       "19 X584_Group3E_142dpi_LV_top_179_G_B7_P128.mzXML 584     infected       142dpi\n",
       "20 X585_Group3E_142dpi_LV_top_180_G_B8_P128.mzXML 585     infected       142dpi\n",
       "26 X631_Group15_142dpi_LV_top_191_G_C7_P128.mzXML 631     BNZ            142dpi\n",
       "   organ  well_position plate mass_400    mass_500    mass_600    mass_700   \n",
       "16 LV_top B4            P128  0.007706250 0.030149069 0.000641527 0.010259495\n",
       "17 LV_top B5            P128  0.007974369 0.025127976 0.000396005 0.003305871\n",
       "18 LV_top B6            P128  0.011100987 0.040626484 0.000387360 0.006965201\n",
       "19 LV_top B7            P128  0.001920445 0.004590532 0.000160346 0.000716275\n",
       "20 LV_top B8            P128  0.005807323 0.023900000 0.000553334 0.005300800\n",
       "26 LV_top C7            P128  0.004682804 0.020500000 0.000196078 0.000550960\n",
       "   mass_800   \n",
       "16 0.001126260\n",
       "17 0.000477912\n",
       "18 0.000000000\n",
       "19 0.000000000\n",
       "20 0.000258538\n",
       "26 0.000000000"
      ]
     },
     "metadata": {},
     "output_type": "display_data"
    },
    {
     "data": {
      "text/html": [
       "<ol class=list-inline>\n",
       "\t<li>30</li>\n",
       "\t<li>12</li>\n",
       "</ol>\n"
      ],
      "text/latex": [
       "\\begin{enumerate*}\n",
       "\\item 30\n",
       "\\item 12\n",
       "\\end{enumerate*}\n"
      ],
      "text/markdown": [
       "1. 30\n",
       "2. 12\n",
       "\n",
       "\n"
      ],
      "text/plain": [
       "[1] 30 12"
      ]
     },
     "metadata": {},
     "output_type": "display_data"
    },
    {
     "data": {
      "text/html": [
       "<ol class=list-inline>\n",
       "\t<li>30</li>\n",
       "\t<li>5</li>\n",
       "</ol>\n"
      ],
      "text/latex": [
       "\\begin{enumerate*}\n",
       "\\item 30\n",
       "\\item 5\n",
       "\\end{enumerate*}\n"
      ],
      "text/markdown": [
       "1. 30\n",
       "2. 5\n",
       "\n",
       "\n"
      ],
      "text/plain": [
       "[1] 30  5"
      ]
     },
     "metadata": {},
     "output_type": "display_data"
    },
    {
     "data": {
      "text/html": [
       "<ol class=list-inline>\n",
       "\t<li>30</li>\n",
       "\t<li>5</li>\n",
       "</ol>\n"
      ],
      "text/latex": [
       "\\begin{enumerate*}\n",
       "\\item 30\n",
       "\\item 5\n",
       "\\end{enumerate*}\n"
      ],
      "text/markdown": [
       "1. 30\n",
       "2. 5\n",
       "\n",
       "\n"
      ],
      "text/plain": [
       "[1] 30  5"
      ]
     },
     "metadata": {},
     "output_type": "display_data"
    },
    {
     "data": {
      "text/html": [
       "<ol class=list-inline>\n",
       "\t<li>30</li>\n",
       "\t<li>12</li>\n",
       "</ol>\n"
      ],
      "text/latex": [
       "\\begin{enumerate*}\n",
       "\\item 30\n",
       "\\item 12\n",
       "\\end{enumerate*}\n"
      ],
      "text/markdown": [
       "1. 30\n",
       "2. 12\n",
       "\n",
       "\n"
      ],
      "text/plain": [
       "[1] 30 12"
      ]
     },
     "metadata": {},
     "output_type": "display_data"
    }
   ],
   "source": [
    "noMeta<-features_pos[,8:12]\n",
    "head(noMeta)\n",
    "not_zero<-which(colSums(noMeta) != 0)\n",
    "head(not_zero)\n",
    "nonzero <- noMeta[, not_zero]\n",
    "nonzero\n",
    "nonzero_wMeta<-cbind(features_pos[,1:7], nonzero)\n",
    "head(nonzero_wMeta)\n",
    "dim(features_pos)\n",
    "dim(noMeta)\n",
    "dim(nonzero)\n",
    "dim(nonzero_wMeta)"
   ]
  },
  {
   "cell_type": "code",
   "execution_count": 5,
   "metadata": {
    "scrolled": true
   },
   "outputs": [
    {
     "name": "stderr",
     "output_type": "stream",
     "text": [
      "Warning message in wilcox.test.default(x = c(0.000196078, 0.000379999, 0.000183671, :\n",
      "\"cannot compute exact p-value with ties\"Warning message in wilcox.test.default(x = c(0.00055096, 0.000738291, 0.001882418, :\n",
      "\"cannot compute exact p-value with ties\"Warning message in wilcox.test.default(x = c(0, 0.000144442, 0.000118409, 0, 0, :\n",
      "\"cannot compute exact p-value with ties\""
     ]
    },
    {
     "data": {
      "text/html": [
       "<ol class=list-inline>\n",
       "\t<li>0.870194456435353</li>\n",
       "\t<li>0.566774494589651</li>\n",
       "\t<li>0.589572967536514</li>\n",
       "\t<li>0.129611336207042</li>\n",
       "\t<li>0.335782229302696</li>\n",
       "</ol>\n"
      ],
      "text/latex": [
       "\\begin{enumerate*}\n",
       "\\item 0.870194456435353\n",
       "\\item 0.566774494589651\n",
       "\\item 0.589572967536514\n",
       "\\item 0.129611336207042\n",
       "\\item 0.335782229302696\n",
       "\\end{enumerate*}\n"
      ],
      "text/markdown": [
       "1. 0.870194456435353\n",
       "2. 0.566774494589651\n",
       "3. 0.589572967536514\n",
       "4. 0.129611336207042\n",
       "5. 0.335782229302696\n",
       "\n",
       "\n"
      ],
      "text/plain": [
       "[1] 0.8701945 0.5667745 0.5895730 0.1296113 0.3357822"
      ]
     },
     "metadata": {},
     "output_type": "display_data"
    },
    {
     "data": {
      "text/html": [
       "<ol class=list-inline>\n",
       "\t<li>0.870194456435353</li>\n",
       "\t<li>0.736966209420642</li>\n",
       "\t<li>0.736966209420642</li>\n",
       "\t<li>0.648056681035211</li>\n",
       "\t<li>0.736966209420642</li>\n",
       "</ol>\n"
      ],
      "text/latex": [
       "\\begin{enumerate*}\n",
       "\\item 0.870194456435353\n",
       "\\item 0.736966209420642\n",
       "\\item 0.736966209420642\n",
       "\\item 0.648056681035211\n",
       "\\item 0.736966209420642\n",
       "\\end{enumerate*}\n"
      ],
      "text/markdown": [
       "1. 0.870194456435353\n",
       "2. 0.736966209420642\n",
       "3. 0.736966209420642\n",
       "4. 0.648056681035211\n",
       "5. 0.736966209420642\n",
       "\n",
       "\n"
      ],
      "text/plain": [
       "[1] 0.8701945 0.7369662 0.7369662 0.6480567 0.7369662"
      ]
     },
     "metadata": {},
     "output_type": "display_data"
    }
   ],
   "source": [
    "pval<-c()\n",
    "\n",
    "for (i in 8:ncol(nonzero_wMeta)) \n",
    "pval<-c(pval,wilcox.test(nonzero_wMeta[,i]~nonzero_wMeta$Treatmentgroup)$p.value)\n",
    "head(pval)\n",
    "pAdj <- p.adjust(pval, method = c(\"fdr\"), n=length(pval)) \n",
    "head(pAdj) \n",
    "\n"
   ]
  },
  {
   "cell_type": "code",
   "execution_count": 6,
   "metadata": {
    "scrolled": true
   },
   "outputs": [
    {
     "data": {
      "text/html": [
       "5"
      ],
      "text/latex": [
       "5"
      ],
      "text/markdown": [
       "5"
      ],
      "text/plain": [
       "[1] 5"
      ]
     },
     "metadata": {},
     "output_type": "display_data"
    }
   ],
   "source": [
    "length(pval)"
   ]
  },
  {
   "cell_type": "code",
   "execution_count": 7,
   "metadata": {
    "scrolled": true
   },
   "outputs": [
    {
     "data": {
      "text/html": [
       "5"
      ],
      "text/latex": [
       "5"
      ],
      "text/markdown": [
       "5"
      ],
      "text/plain": [
       "[1] 5"
      ]
     },
     "metadata": {},
     "output_type": "display_data"
    }
   ],
   "source": [
    "length(pAdj)"
   ]
  },
  {
   "cell_type": "code",
   "execution_count": 8,
   "metadata": {},
   "outputs": [
    {
     "data": {
      "text/html": [
       "<ol class=list-inline>\n",
       "\t<li>2</li>\n",
       "\t<li>5</li>\n",
       "</ol>\n"
      ],
      "text/latex": [
       "\\begin{enumerate*}\n",
       "\\item 2\n",
       "\\item 5\n",
       "\\end{enumerate*}\n"
      ],
      "text/markdown": [
       "1. 2\n",
       "2. 5\n",
       "\n",
       "\n"
      ],
      "text/plain": [
       "[1] 2 5"
      ]
     },
     "metadata": {},
     "output_type": "display_data"
    },
    {
     "data": {
      "text/html": [
       "<table>\n",
       "<thead><tr><th></th><th scope=col>mass_400</th><th scope=col>mass_500</th><th scope=col>mass_600</th></tr></thead>\n",
       "<tbody>\n",
       "\t<tr><th scope=row>BNZ</th><td>0.006326017 </td><td>0.02320952  </td><td>0.0003088714</td></tr>\n",
       "\t<tr><th scope=row>infected</th><td>0.006004158 </td><td>0.02282909  </td><td>0.0003351859</td></tr>\n",
       "</tbody>\n",
       "</table>\n"
      ],
      "text/latex": [
       "\\begin{tabular}{r|lll}\n",
       "  & mass\\_400 & mass\\_500 & mass\\_600\\\\\n",
       "\\hline\n",
       "\tBNZ & 0.006326017  & 0.02320952   & 0.0003088714\\\\\n",
       "\tinfected & 0.006004158  & 0.02282909   & 0.0003351859\\\\\n",
       "\\end{tabular}\n"
      ],
      "text/markdown": [
       "\n",
       "| <!--/--> | mass_400 | mass_500 | mass_600 |\n",
       "|---|---|---|---|\n",
       "| BNZ | 0.006326017  | 0.02320952   | 0.0003088714 |\n",
       "| infected | 0.006004158  | 0.02282909   | 0.0003351859 |\n",
       "\n"
      ],
      "text/plain": [
       "         mass_400    mass_500   mass_600    \n",
       "BNZ      0.006326017 0.02320952 0.0003088714\n",
       "infected 0.006004158 0.02282909 0.0003351859"
      ]
     },
     "metadata": {},
     "output_type": "display_data"
    },
    {
     "data": {
      "text/html": [
       "<dl class=dl-horizontal>\n",
       "\t<dt>mass_400</dt>\n",
       "\t\t<dd>1.05360606449091</dd>\n",
       "\t<dt>mass_500</dt>\n",
       "\t\t<dd>1.01666438779989</dd>\n",
       "\t<dt>mass_600</dt>\n",
       "\t\t<dd>0.921492910997838</dd>\n",
       "\t<dt>mass_700</dt>\n",
       "\t\t<dd>0.560825453725395</dd>\n",
       "\t<dt>mass_800</dt>\n",
       "\t\t<dd>0.532977259940053</dd>\n",
       "</dl>\n"
      ],
      "text/latex": [
       "\\begin{description*}\n",
       "\\item[mass\\textbackslash{}\\_400] 1.05360606449091\n",
       "\\item[mass\\textbackslash{}\\_500] 1.01666438779989\n",
       "\\item[mass\\textbackslash{}\\_600] 0.921492910997838\n",
       "\\item[mass\\textbackslash{}\\_700] 0.560825453725395\n",
       "\\item[mass\\textbackslash{}\\_800] 0.532977259940053\n",
       "\\end{description*}\n"
      ],
      "text/markdown": [
       "mass_400\n",
       ":   1.05360606449091mass_500\n",
       ":   1.01666438779989mass_600\n",
       ":   0.921492910997838mass_700\n",
       ":   0.560825453725395mass_800\n",
       ":   0.532977259940053\n",
       "\n"
      ],
      "text/plain": [
       " mass_400  mass_500  mass_600  mass_700  mass_800 \n",
       "1.0536061 1.0166644 0.9214929 0.5608255 0.5329773 "
      ]
     },
     "metadata": {},
     "output_type": "display_data"
    },
    {
     "data": {
      "text/html": [
       "<ol class=list-inline>\n",
       "\t<li>'numeric'</li>\n",
       "\t<li>'vector'</li>\n",
       "</ol>\n"
      ],
      "text/latex": [
       "\\begin{enumerate*}\n",
       "\\item 'numeric'\n",
       "\\item 'vector'\n",
       "\\end{enumerate*}\n"
      ],
      "text/markdown": [
       "1. 'numeric'\n",
       "2. 'vector'\n",
       "\n",
       "\n"
      ],
      "text/plain": [
       "[1] \"numeric\" \"vector\" "
      ]
     },
     "metadata": {},
     "output_type": "display_data"
    }
   ],
   "source": [
    "avg<- apply(nonzero_wMeta[,8:ncol(nonzero_wMeta)], 2, function(x) tapply(x, nonzero_wMeta$Treatmentgroup, function(x) mean(x))) \n",
    "\n",
    "dim(avg)\n",
    "\n",
    "avg[,1:3]\n",
    "\n",
    "fch <- apply(avg, 2, function(x) x[1]/x[2])\n",
    "\n",
    "head(fch)\n",
    "is(fch)"
   ]
  },
  {
   "cell_type": "code",
   "execution_count": 9,
   "metadata": {
    "scrolled": true
   },
   "outputs": [
    {
     "data": {
      "text/html": [
       "<dl class=dl-horizontal>\n",
       "\t<dt>mass_400</dt>\n",
       "\t\t<dd>1.05360606449091</dd>\n",
       "\t<dt>mass_500</dt>\n",
       "\t\t<dd>1.01666438779989</dd>\n",
       "\t<dt>mass_600</dt>\n",
       "\t\t<dd>0.921492910997838</dd>\n",
       "\t<dt>mass_700</dt>\n",
       "\t\t<dd>0.560825453725395</dd>\n",
       "\t<dt>mass_800</dt>\n",
       "\t\t<dd>0.532977259940053</dd>\n",
       "</dl>\n"
      ],
      "text/latex": [
       "\\begin{description*}\n",
       "\\item[mass\\textbackslash{}\\_400] 1.05360606449091\n",
       "\\item[mass\\textbackslash{}\\_500] 1.01666438779989\n",
       "\\item[mass\\textbackslash{}\\_600] 0.921492910997838\n",
       "\\item[mass\\textbackslash{}\\_700] 0.560825453725395\n",
       "\\item[mass\\textbackslash{}\\_800] 0.532977259940053\n",
       "\\end{description*}\n"
      ],
      "text/markdown": [
       "mass_400\n",
       ":   1.05360606449091mass_500\n",
       ":   1.01666438779989mass_600\n",
       ":   0.921492910997838mass_700\n",
       ":   0.560825453725395mass_800\n",
       ":   0.532977259940053\n",
       "\n"
      ],
      "text/plain": [
       " mass_400  mass_500  mass_600  mass_700  mass_800 \n",
       "1.0536061 1.0166644 0.9214929 0.5608255 0.5329773 "
      ]
     },
     "metadata": {},
     "output_type": "display_data"
    }
   ],
   "source": [
    "fch"
   ]
  },
  {
   "cell_type": "code",
   "execution_count": 10,
   "metadata": {
    "scrolled": false
   },
   "outputs": [],
   "source": [
    "df <- data.frame(fch,pval, pAdj)\n",
    "write.csv(df, \"PE-treat-LVT-wilcox-infected-BNZ.csv\")"
   ]
  },
  {
   "cell_type": "code",
   "execution_count": null,
   "metadata": {},
   "outputs": [],
   "source": []
  },
  {
   "cell_type": "code",
   "execution_count": null,
   "metadata": {},
   "outputs": [],
   "source": []
  },
  {
   "cell_type": "code",
   "execution_count": null,
   "metadata": {},
   "outputs": [],
   "source": []
  },
  {
   "cell_type": "code",
   "execution_count": null,
   "metadata": {},
   "outputs": [],
   "source": []
  },
  {
   "cell_type": "code",
   "execution_count": null,
   "metadata": {},
   "outputs": [],
   "source": []
  },
  {
   "cell_type": "code",
   "execution_count": null,
   "metadata": {},
   "outputs": [],
   "source": []
  }
 ],
 "metadata": {
  "kernelspec": {
   "display_name": "R",
   "language": "R",
   "name": "ir"
  },
  "language_info": {
   "codemirror_mode": "r",
   "file_extension": ".r",
   "mimetype": "text/x-r-source",
   "name": "R",
   "pygments_lexer": "r",
   "version": "3.6.1"
  }
 },
 "nbformat": 4,
 "nbformat_minor": 2
}
