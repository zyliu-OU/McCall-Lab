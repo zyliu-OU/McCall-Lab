{
 "cells": [
  {
   "cell_type": "code",
   "execution_count": 1,
   "metadata": {},
   "outputs": [],
   "source": [
    "a <- read.csv(\"03172021-PE-time-LVT-M-F.csv\")"
   ]
  },
  {
   "cell_type": "code",
   "execution_count": 2,
   "metadata": {},
   "outputs": [
    {
     "data": {
      "text/html": [
       "<table>\n",
       "<thead><tr><th scope=col>filename</th><th scope=col>MouseID</th><th scope=col>Treatmentgroup</th><th scope=col>status</th><th scope=col>DPI</th><th scope=col>organ</th><th scope=col>well_position</th><th scope=col>plate</th><th scope=col>mass_400</th><th scope=col>mass_500</th><th scope=col>mass_600</th><th scope=col>mass_700</th><th scope=col>mass_800</th></tr></thead>\n",
       "<tbody>\n",
       "\t<tr><td>X501_Group1A_50dpi_LV_top_251_B_A1_P129.mzXML</td><td>501                                          </td><td>Group1A                                      </td><td>naive                                        </td><td>50dpi                                        </td><td>LV_top                                       </td><td>A1                                           </td><td>P129                                         </td><td>0.01053354                                   </td><td>0.02046503                                   </td><td>0.000721330                                  </td><td>0.001451111                                  </td><td>0.000097400                                  </td></tr>\n",
       "\t<tr><td>X502_Group1A_50dpi_LV_top_252_B_A2_P129.mzXML</td><td>502                                          </td><td>Group1A                                      </td><td>naive                                        </td><td>50dpi                                        </td><td>LV_top                                       </td><td>A2                                           </td><td>P129                                         </td><td>0.01021398                                   </td><td>0.02092002                                   </td><td>0.000570535                                  </td><td>0.004060000                                  </td><td>0.000000000                                  </td></tr>\n",
       "\t<tr><td>X503_Group1A_50dpi_LV_top_253_B_A3_P129.mzXML</td><td>503                                          </td><td>Group1A                                      </td><td>naive                                        </td><td>50dpi                                        </td><td>LV_top                                       </td><td>A3                                           </td><td>P129                                         </td><td>0.01201106                                   </td><td>0.02075585                                   </td><td>0.000657954                                  </td><td>0.004291087                                  </td><td>0.000000000                                  </td></tr>\n",
       "\t<tr><td>X504_Group1A_50dpi_LV_top_254_B_A4_P129.mzXML</td><td>504                                          </td><td>Group1A                                      </td><td>naive                                        </td><td>50dpi                                        </td><td>LV_top                                       </td><td>A4                                           </td><td>P129                                         </td><td>0.01001927                                   </td><td>0.02091586                                   </td><td>0.001080712                                  </td><td>0.001449577                                  </td><td>0.000000000                                  </td></tr>\n",
       "\t<tr><td>X505_Group1A_50dpi_LV_top_255_B_A5_P129.mzXML</td><td>505                                          </td><td>Group1A                                      </td><td>naive                                        </td><td>50dpi                                        </td><td>LV_top                                       </td><td>A5                                           </td><td>P129                                         </td><td>0.01026407                                   </td><td>0.01977764                                   </td><td>0.001055370                                  </td><td>0.001997117                                  </td><td>0.000129107                                  </td></tr>\n",
       "\t<tr><td>X521_Group1A_50dpi_LV_top_256_B_A6_P129.mzXML</td><td>521                                          </td><td>Group1A                                      </td><td>naive                                        </td><td>50dpi                                        </td><td>LV_top                                       </td><td>A6                                           </td><td>P129                                         </td><td>0.01061997                                   </td><td>0.02200000                                   </td><td>0.000305079                                  </td><td>0.001969700                                  </td><td>0.000000000                                  </td></tr>\n",
       "</tbody>\n",
       "</table>\n"
      ],
      "text/latex": [
       "\\begin{tabular}{r|lllllllllllll}\n",
       " filename & MouseID & Treatmentgroup & status & DPI & organ & well\\_position & plate & mass\\_400 & mass\\_500 & mass\\_600 & mass\\_700 & mass\\_800\\\\\n",
       "\\hline\n",
       "\t X501\\_Group1A\\_50dpi\\_LV\\_top\\_251\\_B\\_A1\\_P129.mzXML & 501                                                           & Group1A                                                       & naive                                                         & 50dpi                                                         & LV\\_top                                                      & A1                                                            & P129                                                          & 0.01053354                                                    & 0.02046503                                                    & 0.000721330                                                   & 0.001451111                                                   & 0.000097400                                                  \\\\\n",
       "\t X502\\_Group1A\\_50dpi\\_LV\\_top\\_252\\_B\\_A2\\_P129.mzXML & 502                                                           & Group1A                                                       & naive                                                         & 50dpi                                                         & LV\\_top                                                      & A2                                                            & P129                                                          & 0.01021398                                                    & 0.02092002                                                    & 0.000570535                                                   & 0.004060000                                                   & 0.000000000                                                  \\\\\n",
       "\t X503\\_Group1A\\_50dpi\\_LV\\_top\\_253\\_B\\_A3\\_P129.mzXML & 503                                                           & Group1A                                                       & naive                                                         & 50dpi                                                         & LV\\_top                                                      & A3                                                            & P129                                                          & 0.01201106                                                    & 0.02075585                                                    & 0.000657954                                                   & 0.004291087                                                   & 0.000000000                                                  \\\\\n",
       "\t X504\\_Group1A\\_50dpi\\_LV\\_top\\_254\\_B\\_A4\\_P129.mzXML & 504                                                           & Group1A                                                       & naive                                                         & 50dpi                                                         & LV\\_top                                                      & A4                                                            & P129                                                          & 0.01001927                                                    & 0.02091586                                                    & 0.001080712                                                   & 0.001449577                                                   & 0.000000000                                                  \\\\\n",
       "\t X505\\_Group1A\\_50dpi\\_LV\\_top\\_255\\_B\\_A5\\_P129.mzXML & 505                                                           & Group1A                                                       & naive                                                         & 50dpi                                                         & LV\\_top                                                      & A5                                                            & P129                                                          & 0.01026407                                                    & 0.01977764                                                    & 0.001055370                                                   & 0.001997117                                                   & 0.000129107                                                  \\\\\n",
       "\t X521\\_Group1A\\_50dpi\\_LV\\_top\\_256\\_B\\_A6\\_P129.mzXML & 521                                                           & Group1A                                                       & naive                                                         & 50dpi                                                         & LV\\_top                                                      & A6                                                            & P129                                                          & 0.01061997                                                    & 0.02200000                                                    & 0.000305079                                                   & 0.001969700                                                   & 0.000000000                                                  \\\\\n",
       "\\end{tabular}\n"
      ],
      "text/markdown": [
       "\n",
       "| filename | MouseID | Treatmentgroup | status | DPI | organ | well_position | plate | mass_400 | mass_500 | mass_600 | mass_700 | mass_800 |\n",
       "|---|---|---|---|---|---|---|---|---|---|---|---|---|\n",
       "| X501_Group1A_50dpi_LV_top_251_B_A1_P129.mzXML | 501                                           | Group1A                                       | naive                                         | 50dpi                                         | LV_top                                        | A1                                            | P129                                          | 0.01053354                                    | 0.02046503                                    | 0.000721330                                   | 0.001451111                                   | 0.000097400                                   |\n",
       "| X502_Group1A_50dpi_LV_top_252_B_A2_P129.mzXML | 502                                           | Group1A                                       | naive                                         | 50dpi                                         | LV_top                                        | A2                                            | P129                                          | 0.01021398                                    | 0.02092002                                    | 0.000570535                                   | 0.004060000                                   | 0.000000000                                   |\n",
       "| X503_Group1A_50dpi_LV_top_253_B_A3_P129.mzXML | 503                                           | Group1A                                       | naive                                         | 50dpi                                         | LV_top                                        | A3                                            | P129                                          | 0.01201106                                    | 0.02075585                                    | 0.000657954                                   | 0.004291087                                   | 0.000000000                                   |\n",
       "| X504_Group1A_50dpi_LV_top_254_B_A4_P129.mzXML | 504                                           | Group1A                                       | naive                                         | 50dpi                                         | LV_top                                        | A4                                            | P129                                          | 0.01001927                                    | 0.02091586                                    | 0.001080712                                   | 0.001449577                                   | 0.000000000                                   |\n",
       "| X505_Group1A_50dpi_LV_top_255_B_A5_P129.mzXML | 505                                           | Group1A                                       | naive                                         | 50dpi                                         | LV_top                                        | A5                                            | P129                                          | 0.01026407                                    | 0.01977764                                    | 0.001055370                                   | 0.001997117                                   | 0.000129107                                   |\n",
       "| X521_Group1A_50dpi_LV_top_256_B_A6_P129.mzXML | 521                                           | Group1A                                       | naive                                         | 50dpi                                         | LV_top                                        | A6                                            | P129                                          | 0.01061997                                    | 0.02200000                                    | 0.000305079                                   | 0.001969700                                   | 0.000000000                                   |\n",
       "\n"
      ],
      "text/plain": [
       "  filename                                      MouseID Treatmentgroup status\n",
       "1 X501_Group1A_50dpi_LV_top_251_B_A1_P129.mzXML 501     Group1A        naive \n",
       "2 X502_Group1A_50dpi_LV_top_252_B_A2_P129.mzXML 502     Group1A        naive \n",
       "3 X503_Group1A_50dpi_LV_top_253_B_A3_P129.mzXML 503     Group1A        naive \n",
       "4 X504_Group1A_50dpi_LV_top_254_B_A4_P129.mzXML 504     Group1A        naive \n",
       "5 X505_Group1A_50dpi_LV_top_255_B_A5_P129.mzXML 505     Group1A        naive \n",
       "6 X521_Group1A_50dpi_LV_top_256_B_A6_P129.mzXML 521     Group1A        naive \n",
       "  DPI   organ  well_position plate mass_400   mass_500   mass_600   \n",
       "1 50dpi LV_top A1            P129  0.01053354 0.02046503 0.000721330\n",
       "2 50dpi LV_top A2            P129  0.01021398 0.02092002 0.000570535\n",
       "3 50dpi LV_top A3            P129  0.01201106 0.02075585 0.000657954\n",
       "4 50dpi LV_top A4            P129  0.01001927 0.02091586 0.001080712\n",
       "5 50dpi LV_top A5            P129  0.01026407 0.01977764 0.001055370\n",
       "6 50dpi LV_top A6            P129  0.01061997 0.02200000 0.000305079\n",
       "  mass_700    mass_800   \n",
       "1 0.001451111 0.000097400\n",
       "2 0.004060000 0.000000000\n",
       "3 0.004291087 0.000000000\n",
       "4 0.001449577 0.000000000\n",
       "5 0.001997117 0.000129107\n",
       "6 0.001969700 0.000000000"
      ]
     },
     "metadata": {},
     "output_type": "display_data"
    },
    {
     "data": {
      "text/html": [
       "<ol class=list-inline>\n",
       "\t<li>90</li>\n",
       "\t<li>13</li>\n",
       "</ol>\n"
      ],
      "text/latex": [
       "\\begin{enumerate*}\n",
       "\\item 90\n",
       "\\item 13\n",
       "\\end{enumerate*}\n"
      ],
      "text/markdown": [
       "1. 90\n",
       "2. 13\n",
       "\n",
       "\n"
      ],
      "text/plain": [
       "[1] 90 13"
      ]
     },
     "metadata": {},
     "output_type": "display_data"
    }
   ],
   "source": [
    "head(a)\n",
    "dim(a)"
   ]
  },
  {
   "cell_type": "code",
   "execution_count": 3,
   "metadata": {},
   "outputs": [
    {
     "data": {
      "text/html": [
       "<table>\n",
       "<thead><tr><th></th><th scope=col>filename</th><th scope=col>MouseID</th><th scope=col>Treatmentgroup</th><th scope=col>status</th><th scope=col>DPI</th><th scope=col>organ</th><th scope=col>well_position</th><th scope=col>plate</th><th scope=col>mass_400</th><th scope=col>mass_500</th><th scope=col>mass_600</th><th scope=col>mass_700</th><th scope=col>mass_800</th></tr></thead>\n",
       "<tbody>\n",
       "\t<tr><th scope=row>31</th><td>X511_Group1C_142dpi_LV_top_161_G_A1_P128.mzXML</td><td>511                                           </td><td>Group1C                                       </td><td>naive                                         </td><td>142dpi                                        </td><td>LV_top                                        </td><td>A1                                            </td><td>P128                                          </td><td>0.007457554                                   </td><td>0.02744597                                    </td><td>0.000521874                                   </td><td>0.000673111                                   </td><td>0.000000000                                   </td></tr>\n",
       "\t<tr><th scope=row>32</th><td>X512_Group1C_142dpi_LV_top_162_G_A2_P128.mzXML</td><td>512                                           </td><td>Group1C                                       </td><td>naive                                         </td><td>142dpi                                        </td><td>LV_top                                        </td><td>A2                                            </td><td>P128                                          </td><td>0.008515695                                   </td><td>0.02741206                                    </td><td>0.000255829                                   </td><td>0.000566018                                   </td><td>0.000000000                                   </td></tr>\n",
       "\t<tr><th scope=row>33</th><td>X513_Group1C_142dpi_LV_top_163_G_A3_P128.mzXML</td><td>513                                           </td><td>Group1C                                       </td><td>naive                                         </td><td>142dpi                                        </td><td>LV_top                                        </td><td>A3                                            </td><td>P128                                          </td><td>0.008847471                                   </td><td>0.03699675                                    </td><td>0.000000000                                   </td><td>0.007030000                                   </td><td>0.000523528                                   </td></tr>\n",
       "\t<tr><th scope=row>34</th><td>X514_Group1C_142dpi_LV_top_164_G_A4_P128.mzXML</td><td>514                                           </td><td>Group1C                                       </td><td>naive                                         </td><td>142dpi                                        </td><td>LV_top                                        </td><td>A4                                            </td><td>P128                                          </td><td>0.006734363                                   </td><td>0.01865059                                    </td><td>0.000214131                                   </td><td>0.000000000                                   </td><td>0.000000000                                   </td></tr>\n",
       "\t<tr><th scope=row>35</th><td>X515_Group1C_142dpi_LV_top_165_G_A5_P128.mzXML</td><td>515                                           </td><td>Group1C                                       </td><td>naive                                         </td><td>142dpi                                        </td><td>LV_top                                        </td><td>A5                                            </td><td>P128                                          </td><td>0.012388772                                   </td><td>0.03474977                                    </td><td>0.000635973                                   </td><td>0.006520000                                   </td><td>0.000621587                                   </td></tr>\n",
       "\t<tr><th scope=row>36</th><td>X531_Group1C_142dpi_LV_top_166_G_A6_P128.mzXML</td><td>531                                           </td><td>Group1C                                       </td><td>naive                                         </td><td>142dpi                                        </td><td>LV_top                                        </td><td>A6                                            </td><td>P128                                          </td><td>0.012357413                                   </td><td>0.03113655                                    </td><td>0.000643272                                   </td><td>0.007864901                                   </td><td>0.000467785                                   </td></tr>\n",
       "</tbody>\n",
       "</table>\n"
      ],
      "text/latex": [
       "\\begin{tabular}{r|lllllllllllll}\n",
       "  & filename & MouseID & Treatmentgroup & status & DPI & organ & well\\_position & plate & mass\\_400 & mass\\_500 & mass\\_600 & mass\\_700 & mass\\_800\\\\\n",
       "\\hline\n",
       "\t31 & X511\\_Group1C\\_142dpi\\_LV\\_top\\_161\\_G\\_A1\\_P128.mzXML & 511                                                            & Group1C                                                        & naive                                                          & 142dpi                                                         & LV\\_top                                                       & A1                                                             & P128                                                           & 0.007457554                                                    & 0.02744597                                                     & 0.000521874                                                    & 0.000673111                                                    & 0.000000000                                                   \\\\\n",
       "\t32 & X512\\_Group1C\\_142dpi\\_LV\\_top\\_162\\_G\\_A2\\_P128.mzXML & 512                                                            & Group1C                                                        & naive                                                          & 142dpi                                                         & LV\\_top                                                       & A2                                                             & P128                                                           & 0.008515695                                                    & 0.02741206                                                     & 0.000255829                                                    & 0.000566018                                                    & 0.000000000                                                   \\\\\n",
       "\t33 & X513\\_Group1C\\_142dpi\\_LV\\_top\\_163\\_G\\_A3\\_P128.mzXML & 513                                                            & Group1C                                                        & naive                                                          & 142dpi                                                         & LV\\_top                                                       & A3                                                             & P128                                                           & 0.008847471                                                    & 0.03699675                                                     & 0.000000000                                                    & 0.007030000                                                    & 0.000523528                                                   \\\\\n",
       "\t34 & X514\\_Group1C\\_142dpi\\_LV\\_top\\_164\\_G\\_A4\\_P128.mzXML & 514                                                            & Group1C                                                        & naive                                                          & 142dpi                                                         & LV\\_top                                                       & A4                                                             & P128                                                           & 0.006734363                                                    & 0.01865059                                                     & 0.000214131                                                    & 0.000000000                                                    & 0.000000000                                                   \\\\\n",
       "\t35 & X515\\_Group1C\\_142dpi\\_LV\\_top\\_165\\_G\\_A5\\_P128.mzXML & 515                                                            & Group1C                                                        & naive                                                          & 142dpi                                                         & LV\\_top                                                       & A5                                                             & P128                                                           & 0.012388772                                                    & 0.03474977                                                     & 0.000635973                                                    & 0.006520000                                                    & 0.000621587                                                   \\\\\n",
       "\t36 & X531\\_Group1C\\_142dpi\\_LV\\_top\\_166\\_G\\_A6\\_P128.mzXML & 531                                                            & Group1C                                                        & naive                                                          & 142dpi                                                         & LV\\_top                                                       & A6                                                             & P128                                                           & 0.012357413                                                    & 0.03113655                                                     & 0.000643272                                                    & 0.007864901                                                    & 0.000467785                                                   \\\\\n",
       "\\end{tabular}\n"
      ],
      "text/markdown": [
       "\n",
       "| <!--/--> | filename | MouseID | Treatmentgroup | status | DPI | organ | well_position | plate | mass_400 | mass_500 | mass_600 | mass_700 | mass_800 |\n",
       "|---|---|---|---|---|---|---|---|---|---|---|---|---|---|\n",
       "| 31 | X511_Group1C_142dpi_LV_top_161_G_A1_P128.mzXML | 511                                            | Group1C                                        | naive                                          | 142dpi                                         | LV_top                                         | A1                                             | P128                                           | 0.007457554                                    | 0.02744597                                     | 0.000521874                                    | 0.000673111                                    | 0.000000000                                    |\n",
       "| 32 | X512_Group1C_142dpi_LV_top_162_G_A2_P128.mzXML | 512                                            | Group1C                                        | naive                                          | 142dpi                                         | LV_top                                         | A2                                             | P128                                           | 0.008515695                                    | 0.02741206                                     | 0.000255829                                    | 0.000566018                                    | 0.000000000                                    |\n",
       "| 33 | X513_Group1C_142dpi_LV_top_163_G_A3_P128.mzXML | 513                                            | Group1C                                        | naive                                          | 142dpi                                         | LV_top                                         | A3                                             | P128                                           | 0.008847471                                    | 0.03699675                                     | 0.000000000                                    | 0.007030000                                    | 0.000523528                                    |\n",
       "| 34 | X514_Group1C_142dpi_LV_top_164_G_A4_P128.mzXML | 514                                            | Group1C                                        | naive                                          | 142dpi                                         | LV_top                                         | A4                                             | P128                                           | 0.006734363                                    | 0.01865059                                     | 0.000214131                                    | 0.000000000                                    | 0.000000000                                    |\n",
       "| 35 | X515_Group1C_142dpi_LV_top_165_G_A5_P128.mzXML | 515                                            | Group1C                                        | naive                                          | 142dpi                                         | LV_top                                         | A5                                             | P128                                           | 0.012388772                                    | 0.03474977                                     | 0.000635973                                    | 0.006520000                                    | 0.000621587                                    |\n",
       "| 36 | X531_Group1C_142dpi_LV_top_166_G_A6_P128.mzXML | 531                                            | Group1C                                        | naive                                          | 142dpi                                         | LV_top                                         | A6                                             | P128                                           | 0.012357413                                    | 0.03113655                                     | 0.000643272                                    | 0.007864901                                    | 0.000467785                                    |\n",
       "\n"
      ],
      "text/plain": [
       "   filename                                       MouseID Treatmentgroup status\n",
       "31 X511_Group1C_142dpi_LV_top_161_G_A1_P128.mzXML 511     Group1C        naive \n",
       "32 X512_Group1C_142dpi_LV_top_162_G_A2_P128.mzXML 512     Group1C        naive \n",
       "33 X513_Group1C_142dpi_LV_top_163_G_A3_P128.mzXML 513     Group1C        naive \n",
       "34 X514_Group1C_142dpi_LV_top_164_G_A4_P128.mzXML 514     Group1C        naive \n",
       "35 X515_Group1C_142dpi_LV_top_165_G_A5_P128.mzXML 515     Group1C        naive \n",
       "36 X531_Group1C_142dpi_LV_top_166_G_A6_P128.mzXML 531     Group1C        naive \n",
       "   DPI    organ  well_position plate mass_400    mass_500   mass_600   \n",
       "31 142dpi LV_top A1            P128  0.007457554 0.02744597 0.000521874\n",
       "32 142dpi LV_top A2            P128  0.008515695 0.02741206 0.000255829\n",
       "33 142dpi LV_top A3            P128  0.008847471 0.03699675 0.000000000\n",
       "34 142dpi LV_top A4            P128  0.006734363 0.01865059 0.000214131\n",
       "35 142dpi LV_top A5            P128  0.012388772 0.03474977 0.000635973\n",
       "36 142dpi LV_top A6            P128  0.012357413 0.03113655 0.000643272\n",
       "   mass_700    mass_800   \n",
       "31 0.000673111 0.000000000\n",
       "32 0.000566018 0.000000000\n",
       "33 0.007030000 0.000523528\n",
       "34 0.000000000 0.000000000\n",
       "35 0.006520000 0.000621587\n",
       "36 0.007864901 0.000467785"
      ]
     },
     "metadata": {},
     "output_type": "display_data"
    },
    {
     "data": {
      "text/html": [
       "<ol class=list-inline>\n",
       "\t<li>30</li>\n",
       "\t<li>13</li>\n",
       "</ol>\n"
      ],
      "text/latex": [
       "\\begin{enumerate*}\n",
       "\\item 30\n",
       "\\item 13\n",
       "\\end{enumerate*}\n"
      ],
      "text/markdown": [
       "1. 30\n",
       "2. 13\n",
       "\n",
       "\n"
      ],
      "text/plain": [
       "[1] 30 13"
      ]
     },
     "metadata": {},
     "output_type": "display_data"
    }
   ],
   "source": [
    "features_pos<-droplevels(subset(a, a$Treatmentgroup==c(\"Group1C\")|a$Treatmentgroup==c(\"Group3E\")))\n",
    "head(features_pos)\n",
    "dim(features_pos)"
   ]
  },
  {
   "cell_type": "code",
   "execution_count": 4,
   "metadata": {
    "scrolled": false
   },
   "outputs": [
    {
     "data": {
      "text/html": [
       "<table>\n",
       "<thead><tr><th></th><th scope=col>mass_400</th><th scope=col>mass_500</th><th scope=col>mass_600</th><th scope=col>mass_700</th><th scope=col>mass_800</th></tr></thead>\n",
       "<tbody>\n",
       "\t<tr><th scope=row>31</th><td>0.007457554</td><td>0.02744597 </td><td>0.000521874</td><td>0.000673111</td><td>0.000000000</td></tr>\n",
       "\t<tr><th scope=row>32</th><td>0.008515695</td><td>0.02741206 </td><td>0.000255829</td><td>0.000566018</td><td>0.000000000</td></tr>\n",
       "\t<tr><th scope=row>33</th><td>0.008847471</td><td>0.03699675 </td><td>0.000000000</td><td>0.007030000</td><td>0.000523528</td></tr>\n",
       "\t<tr><th scope=row>34</th><td>0.006734363</td><td>0.01865059 </td><td>0.000214131</td><td>0.000000000</td><td>0.000000000</td></tr>\n",
       "\t<tr><th scope=row>35</th><td>0.012388772</td><td>0.03474977 </td><td>0.000635973</td><td>0.006520000</td><td>0.000621587</td></tr>\n",
       "\t<tr><th scope=row>36</th><td>0.012357413</td><td>0.03113655 </td><td>0.000643272</td><td>0.007864901</td><td>0.000467785</td></tr>\n",
       "</tbody>\n",
       "</table>\n"
      ],
      "text/latex": [
       "\\begin{tabular}{r|lllll}\n",
       "  & mass\\_400 & mass\\_500 & mass\\_600 & mass\\_700 & mass\\_800\\\\\n",
       "\\hline\n",
       "\t31 & 0.007457554 & 0.02744597  & 0.000521874 & 0.000673111 & 0.000000000\\\\\n",
       "\t32 & 0.008515695 & 0.02741206  & 0.000255829 & 0.000566018 & 0.000000000\\\\\n",
       "\t33 & 0.008847471 & 0.03699675  & 0.000000000 & 0.007030000 & 0.000523528\\\\\n",
       "\t34 & 0.006734363 & 0.01865059  & 0.000214131 & 0.000000000 & 0.000000000\\\\\n",
       "\t35 & 0.012388772 & 0.03474977  & 0.000635973 & 0.006520000 & 0.000621587\\\\\n",
       "\t36 & 0.012357413 & 0.03113655  & 0.000643272 & 0.007864901 & 0.000467785\\\\\n",
       "\\end{tabular}\n"
      ],
      "text/markdown": [
       "\n",
       "| <!--/--> | mass_400 | mass_500 | mass_600 | mass_700 | mass_800 |\n",
       "|---|---|---|---|---|---|\n",
       "| 31 | 0.007457554 | 0.02744597  | 0.000521874 | 0.000673111 | 0.000000000 |\n",
       "| 32 | 0.008515695 | 0.02741206  | 0.000255829 | 0.000566018 | 0.000000000 |\n",
       "| 33 | 0.008847471 | 0.03699675  | 0.000000000 | 0.007030000 | 0.000523528 |\n",
       "| 34 | 0.006734363 | 0.01865059  | 0.000214131 | 0.000000000 | 0.000000000 |\n",
       "| 35 | 0.012388772 | 0.03474977  | 0.000635973 | 0.006520000 | 0.000621587 |\n",
       "| 36 | 0.012357413 | 0.03113655  | 0.000643272 | 0.007864901 | 0.000467785 |\n",
       "\n"
      ],
      "text/plain": [
       "   mass_400    mass_500   mass_600    mass_700    mass_800   \n",
       "31 0.007457554 0.02744597 0.000521874 0.000673111 0.000000000\n",
       "32 0.008515695 0.02741206 0.000255829 0.000566018 0.000000000\n",
       "33 0.008847471 0.03699675 0.000000000 0.007030000 0.000523528\n",
       "34 0.006734363 0.01865059 0.000214131 0.000000000 0.000000000\n",
       "35 0.012388772 0.03474977 0.000635973 0.006520000 0.000621587\n",
       "36 0.012357413 0.03113655 0.000643272 0.007864901 0.000467785"
      ]
     },
     "metadata": {},
     "output_type": "display_data"
    },
    {
     "data": {
      "text/html": [
       "<dl class=dl-horizontal>\n",
       "\t<dt>mass_400</dt>\n",
       "\t\t<dd>1</dd>\n",
       "\t<dt>mass_500</dt>\n",
       "\t\t<dd>2</dd>\n",
       "\t<dt>mass_600</dt>\n",
       "\t\t<dd>3</dd>\n",
       "\t<dt>mass_700</dt>\n",
       "\t\t<dd>4</dd>\n",
       "\t<dt>mass_800</dt>\n",
       "\t\t<dd>5</dd>\n",
       "</dl>\n"
      ],
      "text/latex": [
       "\\begin{description*}\n",
       "\\item[mass\\textbackslash{}\\_400] 1\n",
       "\\item[mass\\textbackslash{}\\_500] 2\n",
       "\\item[mass\\textbackslash{}\\_600] 3\n",
       "\\item[mass\\textbackslash{}\\_700] 4\n",
       "\\item[mass\\textbackslash{}\\_800] 5\n",
       "\\end{description*}\n"
      ],
      "text/markdown": [
       "mass_400\n",
       ":   1mass_500\n",
       ":   2mass_600\n",
       ":   3mass_700\n",
       ":   4mass_800\n",
       ":   5\n",
       "\n"
      ],
      "text/plain": [
       "mass_400 mass_500 mass_600 mass_700 mass_800 \n",
       "       1        2        3        4        5 "
      ]
     },
     "metadata": {},
     "output_type": "display_data"
    },
    {
     "data": {
      "text/html": [
       "<table>\n",
       "<thead><tr><th></th><th scope=col>mass_400</th><th scope=col>mass_500</th><th scope=col>mass_600</th><th scope=col>mass_700</th><th scope=col>mass_800</th></tr></thead>\n",
       "<tbody>\n",
       "\t<tr><th scope=row>31</th><td>0.007457554</td><td>0.027445968</td><td>0.000521874</td><td>0.000673111</td><td>0.000000000</td></tr>\n",
       "\t<tr><th scope=row>32</th><td>0.008515695</td><td>0.027412065</td><td>0.000255829</td><td>0.000566018</td><td>0.000000000</td></tr>\n",
       "\t<tr><th scope=row>33</th><td>0.008847471</td><td>0.036996750</td><td>0.000000000</td><td>0.007030000</td><td>0.000523528</td></tr>\n",
       "\t<tr><th scope=row>34</th><td>0.006734363</td><td>0.018650592</td><td>0.000214131</td><td>0.000000000</td><td>0.000000000</td></tr>\n",
       "\t<tr><th scope=row>35</th><td>0.012388772</td><td>0.034749768</td><td>0.000635973</td><td>0.006520000</td><td>0.000621587</td></tr>\n",
       "\t<tr><th scope=row>36</th><td>0.012357413</td><td>0.031136552</td><td>0.000643272</td><td>0.007864901</td><td>0.000467785</td></tr>\n",
       "\t<tr><th scope=row>37</th><td>0.009592636</td><td>0.022187879</td><td>0.000253102</td><td>0.001157849</td><td>0.000084700</td></tr>\n",
       "\t<tr><th scope=row>38</th><td>0.009171067</td><td>0.032161322</td><td>0.000284424</td><td>0.003150000</td><td>0.000081400</td></tr>\n",
       "\t<tr><th scope=row>39</th><td>0.005449869</td><td>0.021174059</td><td>0.000278587</td><td>0.001512774</td><td>0.000000000</td></tr>\n",
       "\t<tr><th scope=row>40</th><td>0.005808289</td><td>0.018638456</td><td>0.000137290</td><td>0.000396516</td><td>0.000000000</td></tr>\n",
       "\t<tr><th scope=row>41</th><td>0.009907023</td><td>0.021700000</td><td>0.000270569</td><td>0.002303199</td><td>0.000225835</td></tr>\n",
       "\t<tr><th scope=row>42</th><td>0.007681753</td><td>0.018423849</td><td>0.000246572</td><td>0.000162443</td><td>0.000000000</td></tr>\n",
       "\t<tr><th scope=row>43</th><td>0.005759053</td><td>0.024849978</td><td>0.000365955</td><td>0.012059818</td><td>0.001416417</td></tr>\n",
       "\t<tr><th scope=row>44</th><td>0.009423142</td><td>0.032243860</td><td>0.000223252</td><td>0.000894712</td><td>0.000000000</td></tr>\n",
       "\t<tr><th scope=row>45</th><td>0.008509249</td><td>0.037236989</td><td>0.000303505</td><td>0.007890000</td><td>0.000756203</td></tr>\n",
       "\t<tr><th scope=row>76</th><td>0.007706250</td><td>0.030149069</td><td>0.000641527</td><td>0.010259495</td><td>0.001126260</td></tr>\n",
       "\t<tr><th scope=row>77</th><td>0.007974369</td><td>0.025127976</td><td>0.000396005</td><td>0.003305871</td><td>0.000477912</td></tr>\n",
       "\t<tr><th scope=row>78</th><td>0.011100987</td><td>0.040626484</td><td>0.000387360</td><td>0.006965201</td><td>0.000000000</td></tr>\n",
       "\t<tr><th scope=row>79</th><td>0.001920445</td><td>0.004590532</td><td>0.000160346</td><td>0.000716275</td><td>0.000000000</td></tr>\n",
       "\t<tr><th scope=row>80</th><td>0.005807323</td><td>0.023900000</td><td>0.000553334</td><td>0.005300800</td><td>0.000258538</td></tr>\n",
       "\t<tr><th scope=row>81</th><td>0.007239937</td><td>0.029319686</td><td>0.000424000</td><td>0.018118516</td><td>0.000945717</td></tr>\n",
       "\t<tr><th scope=row>82</th><td>0.008683059</td><td>0.038499006</td><td>0.000275666</td><td>0.004189625</td><td>0.000782938</td></tr>\n",
       "\t<tr><th scope=row>83</th><td>0.007004080</td><td>0.027714844</td><td>0.000000000</td><td>0.003139064</td><td>0.000000000</td></tr>\n",
       "\t<tr><th scope=row>84</th><td>0.002272943</td><td>0.005562702</td><td>0.000325345</td><td>0.001800000</td><td>0.000051500</td></tr>\n",
       "\t<tr><th scope=row>85</th><td>0.002018378</td><td>0.008356147</td><td>0.000044200</td><td>0.000000000</td><td>0.000000000</td></tr>\n",
       "\t<tr><th scope=row>86</th><td>0.005862788</td><td>0.025648657</td><td>0.000233532</td><td>0.005367512</td><td>0.000049700</td></tr>\n",
       "\t<tr><th scope=row>87</th><td>0.008955573</td><td>0.031359081</td><td>0.000173171</td><td>0.002790791</td><td>0.000000000</td></tr>\n",
       "\t<tr><th scope=row>88</th><td>0.004807144</td><td>0.023273240</td><td>0.000125781</td><td>0.018532792</td><td>0.000758280</td></tr>\n",
       "\t<tr><th scope=row>89</th><td>0.006608647</td><td>0.020718858</td><td>0.000805279</td><td>0.001560383</td><td>0.000000000</td></tr>\n",
       "\t<tr><th scope=row>90</th><td>0.002100443</td><td>0.007590000</td><td>0.000482242</td><td>0.010474670</td><td>0.001108683</td></tr>\n",
       "</tbody>\n",
       "</table>\n"
      ],
      "text/latex": [
       "\\begin{tabular}{r|lllll}\n",
       "  & mass\\_400 & mass\\_500 & mass\\_600 & mass\\_700 & mass\\_800\\\\\n",
       "\\hline\n",
       "\t31 & 0.007457554 & 0.027445968 & 0.000521874 & 0.000673111 & 0.000000000\\\\\n",
       "\t32 & 0.008515695 & 0.027412065 & 0.000255829 & 0.000566018 & 0.000000000\\\\\n",
       "\t33 & 0.008847471 & 0.036996750 & 0.000000000 & 0.007030000 & 0.000523528\\\\\n",
       "\t34 & 0.006734363 & 0.018650592 & 0.000214131 & 0.000000000 & 0.000000000\\\\\n",
       "\t35 & 0.012388772 & 0.034749768 & 0.000635973 & 0.006520000 & 0.000621587\\\\\n",
       "\t36 & 0.012357413 & 0.031136552 & 0.000643272 & 0.007864901 & 0.000467785\\\\\n",
       "\t37 & 0.009592636 & 0.022187879 & 0.000253102 & 0.001157849 & 0.000084700\\\\\n",
       "\t38 & 0.009171067 & 0.032161322 & 0.000284424 & 0.003150000 & 0.000081400\\\\\n",
       "\t39 & 0.005449869 & 0.021174059 & 0.000278587 & 0.001512774 & 0.000000000\\\\\n",
       "\t40 & 0.005808289 & 0.018638456 & 0.000137290 & 0.000396516 & 0.000000000\\\\\n",
       "\t41 & 0.009907023 & 0.021700000 & 0.000270569 & 0.002303199 & 0.000225835\\\\\n",
       "\t42 & 0.007681753 & 0.018423849 & 0.000246572 & 0.000162443 & 0.000000000\\\\\n",
       "\t43 & 0.005759053 & 0.024849978 & 0.000365955 & 0.012059818 & 0.001416417\\\\\n",
       "\t44 & 0.009423142 & 0.032243860 & 0.000223252 & 0.000894712 & 0.000000000\\\\\n",
       "\t45 & 0.008509249 & 0.037236989 & 0.000303505 & 0.007890000 & 0.000756203\\\\\n",
       "\t76 & 0.007706250 & 0.030149069 & 0.000641527 & 0.010259495 & 0.001126260\\\\\n",
       "\t77 & 0.007974369 & 0.025127976 & 0.000396005 & 0.003305871 & 0.000477912\\\\\n",
       "\t78 & 0.011100987 & 0.040626484 & 0.000387360 & 0.006965201 & 0.000000000\\\\\n",
       "\t79 & 0.001920445 & 0.004590532 & 0.000160346 & 0.000716275 & 0.000000000\\\\\n",
       "\t80 & 0.005807323 & 0.023900000 & 0.000553334 & 0.005300800 & 0.000258538\\\\\n",
       "\t81 & 0.007239937 & 0.029319686 & 0.000424000 & 0.018118516 & 0.000945717\\\\\n",
       "\t82 & 0.008683059 & 0.038499006 & 0.000275666 & 0.004189625 & 0.000782938\\\\\n",
       "\t83 & 0.007004080 & 0.027714844 & 0.000000000 & 0.003139064 & 0.000000000\\\\\n",
       "\t84 & 0.002272943 & 0.005562702 & 0.000325345 & 0.001800000 & 0.000051500\\\\\n",
       "\t85 & 0.002018378 & 0.008356147 & 0.000044200 & 0.000000000 & 0.000000000\\\\\n",
       "\t86 & 0.005862788 & 0.025648657 & 0.000233532 & 0.005367512 & 0.000049700\\\\\n",
       "\t87 & 0.008955573 & 0.031359081 & 0.000173171 & 0.002790791 & 0.000000000\\\\\n",
       "\t88 & 0.004807144 & 0.023273240 & 0.000125781 & 0.018532792 & 0.000758280\\\\\n",
       "\t89 & 0.006608647 & 0.020718858 & 0.000805279 & 0.001560383 & 0.000000000\\\\\n",
       "\t90 & 0.002100443 & 0.007590000 & 0.000482242 & 0.010474670 & 0.001108683\\\\\n",
       "\\end{tabular}\n"
      ],
      "text/markdown": [
       "\n",
       "| <!--/--> | mass_400 | mass_500 | mass_600 | mass_700 | mass_800 |\n",
       "|---|---|---|---|---|---|\n",
       "| 31 | 0.007457554 | 0.027445968 | 0.000521874 | 0.000673111 | 0.000000000 |\n",
       "| 32 | 0.008515695 | 0.027412065 | 0.000255829 | 0.000566018 | 0.000000000 |\n",
       "| 33 | 0.008847471 | 0.036996750 | 0.000000000 | 0.007030000 | 0.000523528 |\n",
       "| 34 | 0.006734363 | 0.018650592 | 0.000214131 | 0.000000000 | 0.000000000 |\n",
       "| 35 | 0.012388772 | 0.034749768 | 0.000635973 | 0.006520000 | 0.000621587 |\n",
       "| 36 | 0.012357413 | 0.031136552 | 0.000643272 | 0.007864901 | 0.000467785 |\n",
       "| 37 | 0.009592636 | 0.022187879 | 0.000253102 | 0.001157849 | 0.000084700 |\n",
       "| 38 | 0.009171067 | 0.032161322 | 0.000284424 | 0.003150000 | 0.000081400 |\n",
       "| 39 | 0.005449869 | 0.021174059 | 0.000278587 | 0.001512774 | 0.000000000 |\n",
       "| 40 | 0.005808289 | 0.018638456 | 0.000137290 | 0.000396516 | 0.000000000 |\n",
       "| 41 | 0.009907023 | 0.021700000 | 0.000270569 | 0.002303199 | 0.000225835 |\n",
       "| 42 | 0.007681753 | 0.018423849 | 0.000246572 | 0.000162443 | 0.000000000 |\n",
       "| 43 | 0.005759053 | 0.024849978 | 0.000365955 | 0.012059818 | 0.001416417 |\n",
       "| 44 | 0.009423142 | 0.032243860 | 0.000223252 | 0.000894712 | 0.000000000 |\n",
       "| 45 | 0.008509249 | 0.037236989 | 0.000303505 | 0.007890000 | 0.000756203 |\n",
       "| 76 | 0.007706250 | 0.030149069 | 0.000641527 | 0.010259495 | 0.001126260 |\n",
       "| 77 | 0.007974369 | 0.025127976 | 0.000396005 | 0.003305871 | 0.000477912 |\n",
       "| 78 | 0.011100987 | 0.040626484 | 0.000387360 | 0.006965201 | 0.000000000 |\n",
       "| 79 | 0.001920445 | 0.004590532 | 0.000160346 | 0.000716275 | 0.000000000 |\n",
       "| 80 | 0.005807323 | 0.023900000 | 0.000553334 | 0.005300800 | 0.000258538 |\n",
       "| 81 | 0.007239937 | 0.029319686 | 0.000424000 | 0.018118516 | 0.000945717 |\n",
       "| 82 | 0.008683059 | 0.038499006 | 0.000275666 | 0.004189625 | 0.000782938 |\n",
       "| 83 | 0.007004080 | 0.027714844 | 0.000000000 | 0.003139064 | 0.000000000 |\n",
       "| 84 | 0.002272943 | 0.005562702 | 0.000325345 | 0.001800000 | 0.000051500 |\n",
       "| 85 | 0.002018378 | 0.008356147 | 0.000044200 | 0.000000000 | 0.000000000 |\n",
       "| 86 | 0.005862788 | 0.025648657 | 0.000233532 | 0.005367512 | 0.000049700 |\n",
       "| 87 | 0.008955573 | 0.031359081 | 0.000173171 | 0.002790791 | 0.000000000 |\n",
       "| 88 | 0.004807144 | 0.023273240 | 0.000125781 | 0.018532792 | 0.000758280 |\n",
       "| 89 | 0.006608647 | 0.020718858 | 0.000805279 | 0.001560383 | 0.000000000 |\n",
       "| 90 | 0.002100443 | 0.007590000 | 0.000482242 | 0.010474670 | 0.001108683 |\n",
       "\n"
      ],
      "text/plain": [
       "   mass_400    mass_500    mass_600    mass_700    mass_800   \n",
       "31 0.007457554 0.027445968 0.000521874 0.000673111 0.000000000\n",
       "32 0.008515695 0.027412065 0.000255829 0.000566018 0.000000000\n",
       "33 0.008847471 0.036996750 0.000000000 0.007030000 0.000523528\n",
       "34 0.006734363 0.018650592 0.000214131 0.000000000 0.000000000\n",
       "35 0.012388772 0.034749768 0.000635973 0.006520000 0.000621587\n",
       "36 0.012357413 0.031136552 0.000643272 0.007864901 0.000467785\n",
       "37 0.009592636 0.022187879 0.000253102 0.001157849 0.000084700\n",
       "38 0.009171067 0.032161322 0.000284424 0.003150000 0.000081400\n",
       "39 0.005449869 0.021174059 0.000278587 0.001512774 0.000000000\n",
       "40 0.005808289 0.018638456 0.000137290 0.000396516 0.000000000\n",
       "41 0.009907023 0.021700000 0.000270569 0.002303199 0.000225835\n",
       "42 0.007681753 0.018423849 0.000246572 0.000162443 0.000000000\n",
       "43 0.005759053 0.024849978 0.000365955 0.012059818 0.001416417\n",
       "44 0.009423142 0.032243860 0.000223252 0.000894712 0.000000000\n",
       "45 0.008509249 0.037236989 0.000303505 0.007890000 0.000756203\n",
       "76 0.007706250 0.030149069 0.000641527 0.010259495 0.001126260\n",
       "77 0.007974369 0.025127976 0.000396005 0.003305871 0.000477912\n",
       "78 0.011100987 0.040626484 0.000387360 0.006965201 0.000000000\n",
       "79 0.001920445 0.004590532 0.000160346 0.000716275 0.000000000\n",
       "80 0.005807323 0.023900000 0.000553334 0.005300800 0.000258538\n",
       "81 0.007239937 0.029319686 0.000424000 0.018118516 0.000945717\n",
       "82 0.008683059 0.038499006 0.000275666 0.004189625 0.000782938\n",
       "83 0.007004080 0.027714844 0.000000000 0.003139064 0.000000000\n",
       "84 0.002272943 0.005562702 0.000325345 0.001800000 0.000051500\n",
       "85 0.002018378 0.008356147 0.000044200 0.000000000 0.000000000\n",
       "86 0.005862788 0.025648657 0.000233532 0.005367512 0.000049700\n",
       "87 0.008955573 0.031359081 0.000173171 0.002790791 0.000000000\n",
       "88 0.004807144 0.023273240 0.000125781 0.018532792 0.000758280\n",
       "89 0.006608647 0.020718858 0.000805279 0.001560383 0.000000000\n",
       "90 0.002100443 0.007590000 0.000482242 0.010474670 0.001108683"
      ]
     },
     "metadata": {},
     "output_type": "display_data"
    },
    {
     "data": {
      "text/html": [
       "<table>\n",
       "<thead><tr><th></th><th scope=col>filename</th><th scope=col>MouseID</th><th scope=col>Treatmentgroup</th><th scope=col>status</th><th scope=col>DPI</th><th scope=col>organ</th><th scope=col>well_position</th><th scope=col>plate</th><th scope=col>mass_400</th><th scope=col>mass_500</th><th scope=col>mass_600</th><th scope=col>mass_700</th><th scope=col>mass_800</th></tr></thead>\n",
       "<tbody>\n",
       "\t<tr><th scope=row>31</th><td>X511_Group1C_142dpi_LV_top_161_G_A1_P128.mzXML</td><td>511                                           </td><td>Group1C                                       </td><td>naive                                         </td><td>142dpi                                        </td><td>LV_top                                        </td><td>A1                                            </td><td>P128                                          </td><td>0.007457554                                   </td><td>0.02744597                                    </td><td>0.000521874                                   </td><td>0.000673111                                   </td><td>0.000000000                                   </td></tr>\n",
       "\t<tr><th scope=row>32</th><td>X512_Group1C_142dpi_LV_top_162_G_A2_P128.mzXML</td><td>512                                           </td><td>Group1C                                       </td><td>naive                                         </td><td>142dpi                                        </td><td>LV_top                                        </td><td>A2                                            </td><td>P128                                          </td><td>0.008515695                                   </td><td>0.02741206                                    </td><td>0.000255829                                   </td><td>0.000566018                                   </td><td>0.000000000                                   </td></tr>\n",
       "\t<tr><th scope=row>33</th><td>X513_Group1C_142dpi_LV_top_163_G_A3_P128.mzXML</td><td>513                                           </td><td>Group1C                                       </td><td>naive                                         </td><td>142dpi                                        </td><td>LV_top                                        </td><td>A3                                            </td><td>P128                                          </td><td>0.008847471                                   </td><td>0.03699675                                    </td><td>0.000000000                                   </td><td>0.007030000                                   </td><td>0.000523528                                   </td></tr>\n",
       "\t<tr><th scope=row>34</th><td>X514_Group1C_142dpi_LV_top_164_G_A4_P128.mzXML</td><td>514                                           </td><td>Group1C                                       </td><td>naive                                         </td><td>142dpi                                        </td><td>LV_top                                        </td><td>A4                                            </td><td>P128                                          </td><td>0.006734363                                   </td><td>0.01865059                                    </td><td>0.000214131                                   </td><td>0.000000000                                   </td><td>0.000000000                                   </td></tr>\n",
       "\t<tr><th scope=row>35</th><td>X515_Group1C_142dpi_LV_top_165_G_A5_P128.mzXML</td><td>515                                           </td><td>Group1C                                       </td><td>naive                                         </td><td>142dpi                                        </td><td>LV_top                                        </td><td>A5                                            </td><td>P128                                          </td><td>0.012388772                                   </td><td>0.03474977                                    </td><td>0.000635973                                   </td><td>0.006520000                                   </td><td>0.000621587                                   </td></tr>\n",
       "\t<tr><th scope=row>36</th><td>X531_Group1C_142dpi_LV_top_166_G_A6_P128.mzXML</td><td>531                                           </td><td>Group1C                                       </td><td>naive                                         </td><td>142dpi                                        </td><td>LV_top                                        </td><td>A6                                            </td><td>P128                                          </td><td>0.012357413                                   </td><td>0.03113655                                    </td><td>0.000643272                                   </td><td>0.007864901                                   </td><td>0.000467785                                   </td></tr>\n",
       "</tbody>\n",
       "</table>\n"
      ],
      "text/latex": [
       "\\begin{tabular}{r|lllllllllllll}\n",
       "  & filename & MouseID & Treatmentgroup & status & DPI & organ & well\\_position & plate & mass\\_400 & mass\\_500 & mass\\_600 & mass\\_700 & mass\\_800\\\\\n",
       "\\hline\n",
       "\t31 & X511\\_Group1C\\_142dpi\\_LV\\_top\\_161\\_G\\_A1\\_P128.mzXML & 511                                                            & Group1C                                                        & naive                                                          & 142dpi                                                         & LV\\_top                                                       & A1                                                             & P128                                                           & 0.007457554                                                    & 0.02744597                                                     & 0.000521874                                                    & 0.000673111                                                    & 0.000000000                                                   \\\\\n",
       "\t32 & X512\\_Group1C\\_142dpi\\_LV\\_top\\_162\\_G\\_A2\\_P128.mzXML & 512                                                            & Group1C                                                        & naive                                                          & 142dpi                                                         & LV\\_top                                                       & A2                                                             & P128                                                           & 0.008515695                                                    & 0.02741206                                                     & 0.000255829                                                    & 0.000566018                                                    & 0.000000000                                                   \\\\\n",
       "\t33 & X513\\_Group1C\\_142dpi\\_LV\\_top\\_163\\_G\\_A3\\_P128.mzXML & 513                                                            & Group1C                                                        & naive                                                          & 142dpi                                                         & LV\\_top                                                       & A3                                                             & P128                                                           & 0.008847471                                                    & 0.03699675                                                     & 0.000000000                                                    & 0.007030000                                                    & 0.000523528                                                   \\\\\n",
       "\t34 & X514\\_Group1C\\_142dpi\\_LV\\_top\\_164\\_G\\_A4\\_P128.mzXML & 514                                                            & Group1C                                                        & naive                                                          & 142dpi                                                         & LV\\_top                                                       & A4                                                             & P128                                                           & 0.006734363                                                    & 0.01865059                                                     & 0.000214131                                                    & 0.000000000                                                    & 0.000000000                                                   \\\\\n",
       "\t35 & X515\\_Group1C\\_142dpi\\_LV\\_top\\_165\\_G\\_A5\\_P128.mzXML & 515                                                            & Group1C                                                        & naive                                                          & 142dpi                                                         & LV\\_top                                                       & A5                                                             & P128                                                           & 0.012388772                                                    & 0.03474977                                                     & 0.000635973                                                    & 0.006520000                                                    & 0.000621587                                                   \\\\\n",
       "\t36 & X531\\_Group1C\\_142dpi\\_LV\\_top\\_166\\_G\\_A6\\_P128.mzXML & 531                                                            & Group1C                                                        & naive                                                          & 142dpi                                                         & LV\\_top                                                       & A6                                                             & P128                                                           & 0.012357413                                                    & 0.03113655                                                     & 0.000643272                                                    & 0.007864901                                                    & 0.000467785                                                   \\\\\n",
       "\\end{tabular}\n"
      ],
      "text/markdown": [
       "\n",
       "| <!--/--> | filename | MouseID | Treatmentgroup | status | DPI | organ | well_position | plate | mass_400 | mass_500 | mass_600 | mass_700 | mass_800 |\n",
       "|---|---|---|---|---|---|---|---|---|---|---|---|---|---|\n",
       "| 31 | X511_Group1C_142dpi_LV_top_161_G_A1_P128.mzXML | 511                                            | Group1C                                        | naive                                          | 142dpi                                         | LV_top                                         | A1                                             | P128                                           | 0.007457554                                    | 0.02744597                                     | 0.000521874                                    | 0.000673111                                    | 0.000000000                                    |\n",
       "| 32 | X512_Group1C_142dpi_LV_top_162_G_A2_P128.mzXML | 512                                            | Group1C                                        | naive                                          | 142dpi                                         | LV_top                                         | A2                                             | P128                                           | 0.008515695                                    | 0.02741206                                     | 0.000255829                                    | 0.000566018                                    | 0.000000000                                    |\n",
       "| 33 | X513_Group1C_142dpi_LV_top_163_G_A3_P128.mzXML | 513                                            | Group1C                                        | naive                                          | 142dpi                                         | LV_top                                         | A3                                             | P128                                           | 0.008847471                                    | 0.03699675                                     | 0.000000000                                    | 0.007030000                                    | 0.000523528                                    |\n",
       "| 34 | X514_Group1C_142dpi_LV_top_164_G_A4_P128.mzXML | 514                                            | Group1C                                        | naive                                          | 142dpi                                         | LV_top                                         | A4                                             | P128                                           | 0.006734363                                    | 0.01865059                                     | 0.000214131                                    | 0.000000000                                    | 0.000000000                                    |\n",
       "| 35 | X515_Group1C_142dpi_LV_top_165_G_A5_P128.mzXML | 515                                            | Group1C                                        | naive                                          | 142dpi                                         | LV_top                                         | A5                                             | P128                                           | 0.012388772                                    | 0.03474977                                     | 0.000635973                                    | 0.006520000                                    | 0.000621587                                    |\n",
       "| 36 | X531_Group1C_142dpi_LV_top_166_G_A6_P128.mzXML | 531                                            | Group1C                                        | naive                                          | 142dpi                                         | LV_top                                         | A6                                             | P128                                           | 0.012357413                                    | 0.03113655                                     | 0.000643272                                    | 0.007864901                                    | 0.000467785                                    |\n",
       "\n"
      ],
      "text/plain": [
       "   filename                                       MouseID Treatmentgroup status\n",
       "31 X511_Group1C_142dpi_LV_top_161_G_A1_P128.mzXML 511     Group1C        naive \n",
       "32 X512_Group1C_142dpi_LV_top_162_G_A2_P128.mzXML 512     Group1C        naive \n",
       "33 X513_Group1C_142dpi_LV_top_163_G_A3_P128.mzXML 513     Group1C        naive \n",
       "34 X514_Group1C_142dpi_LV_top_164_G_A4_P128.mzXML 514     Group1C        naive \n",
       "35 X515_Group1C_142dpi_LV_top_165_G_A5_P128.mzXML 515     Group1C        naive \n",
       "36 X531_Group1C_142dpi_LV_top_166_G_A6_P128.mzXML 531     Group1C        naive \n",
       "   DPI    organ  well_position plate mass_400    mass_500   mass_600   \n",
       "31 142dpi LV_top A1            P128  0.007457554 0.02744597 0.000521874\n",
       "32 142dpi LV_top A2            P128  0.008515695 0.02741206 0.000255829\n",
       "33 142dpi LV_top A3            P128  0.008847471 0.03699675 0.000000000\n",
       "34 142dpi LV_top A4            P128  0.006734363 0.01865059 0.000214131\n",
       "35 142dpi LV_top A5            P128  0.012388772 0.03474977 0.000635973\n",
       "36 142dpi LV_top A6            P128  0.012357413 0.03113655 0.000643272\n",
       "   mass_700    mass_800   \n",
       "31 0.000673111 0.000000000\n",
       "32 0.000566018 0.000000000\n",
       "33 0.007030000 0.000523528\n",
       "34 0.000000000 0.000000000\n",
       "35 0.006520000 0.000621587\n",
       "36 0.007864901 0.000467785"
      ]
     },
     "metadata": {},
     "output_type": "display_data"
    },
    {
     "data": {
      "text/html": [
       "<ol class=list-inline>\n",
       "\t<li>30</li>\n",
       "\t<li>13</li>\n",
       "</ol>\n"
      ],
      "text/latex": [
       "\\begin{enumerate*}\n",
       "\\item 30\n",
       "\\item 13\n",
       "\\end{enumerate*}\n"
      ],
      "text/markdown": [
       "1. 30\n",
       "2. 13\n",
       "\n",
       "\n"
      ],
      "text/plain": [
       "[1] 30 13"
      ]
     },
     "metadata": {},
     "output_type": "display_data"
    },
    {
     "data": {
      "text/html": [
       "<ol class=list-inline>\n",
       "\t<li>30</li>\n",
       "\t<li>5</li>\n",
       "</ol>\n"
      ],
      "text/latex": [
       "\\begin{enumerate*}\n",
       "\\item 30\n",
       "\\item 5\n",
       "\\end{enumerate*}\n"
      ],
      "text/markdown": [
       "1. 30\n",
       "2. 5\n",
       "\n",
       "\n"
      ],
      "text/plain": [
       "[1] 30  5"
      ]
     },
     "metadata": {},
     "output_type": "display_data"
    },
    {
     "data": {
      "text/html": [
       "<ol class=list-inline>\n",
       "\t<li>30</li>\n",
       "\t<li>5</li>\n",
       "</ol>\n"
      ],
      "text/latex": [
       "\\begin{enumerate*}\n",
       "\\item 30\n",
       "\\item 5\n",
       "\\end{enumerate*}\n"
      ],
      "text/markdown": [
       "1. 30\n",
       "2. 5\n",
       "\n",
       "\n"
      ],
      "text/plain": [
       "[1] 30  5"
      ]
     },
     "metadata": {},
     "output_type": "display_data"
    },
    {
     "data": {
      "text/html": [
       "<ol class=list-inline>\n",
       "\t<li>30</li>\n",
       "\t<li>13</li>\n",
       "</ol>\n"
      ],
      "text/latex": [
       "\\begin{enumerate*}\n",
       "\\item 30\n",
       "\\item 13\n",
       "\\end{enumerate*}\n"
      ],
      "text/markdown": [
       "1. 30\n",
       "2. 13\n",
       "\n",
       "\n"
      ],
      "text/plain": [
       "[1] 30 13"
      ]
     },
     "metadata": {},
     "output_type": "display_data"
    }
   ],
   "source": [
    "noMeta<-features_pos[,9:13]\n",
    "head(noMeta)\n",
    "not_zero<-which(colSums(noMeta) != 0)\n",
    "head(not_zero)\n",
    "nonzero <- noMeta[, not_zero]\n",
    "nonzero\n",
    "nonzero_wMeta<-cbind(features_pos[,1:8], nonzero)\n",
    "head(nonzero_wMeta)\n",
    "dim(features_pos)\n",
    "dim(noMeta)\n",
    "dim(nonzero)\n",
    "dim(nonzero_wMeta)"
   ]
  },
  {
   "cell_type": "code",
   "execution_count": 5,
   "metadata": {
    "scrolled": true
   },
   "outputs": [
    {
     "name": "stderr",
     "output_type": "stream",
     "text": [
      "Warning message in wilcox.test.default(x = c(0.000521874, 0.000255829, 0, 0.000214131, :\n",
      "\"cannot compute exact p-value with ties\"Warning message in wilcox.test.default(x = c(0.000673111, 0.000566018, 0.00703, :\n",
      "\"cannot compute exact p-value with ties\"Warning message in wilcox.test.default(x = c(0, 0, 0.000523528, 0, 0.000621587, :\n",
      "\"cannot compute exact p-value with ties\""
     ]
    },
    {
     "data": {
      "text/html": [
       "<ol class=list-inline>\n",
       "\t<li>0.0234961466635103</li>\n",
       "\t<li>0.512486352283095</li>\n",
       "\t<li>0.787439197425723</li>\n",
       "\t<li>0.140849421617936</li>\n",
       "\t<li>0.573796053014171</li>\n",
       "</ol>\n"
      ],
      "text/latex": [
       "\\begin{enumerate*}\n",
       "\\item 0.0234961466635103\n",
       "\\item 0.512486352283095\n",
       "\\item 0.787439197425723\n",
       "\\item 0.140849421617936\n",
       "\\item 0.573796053014171\n",
       "\\end{enumerate*}\n"
      ],
      "text/markdown": [
       "1. 0.0234961466635103\n",
       "2. 0.512486352283095\n",
       "3. 0.787439197425723\n",
       "4. 0.140849421617936\n",
       "5. 0.573796053014171\n",
       "\n",
       "\n"
      ],
      "text/plain": [
       "[1] 0.02349615 0.51248635 0.78743920 0.14084942 0.57379605"
      ]
     },
     "metadata": {},
     "output_type": "display_data"
    },
    {
     "data": {
      "text/html": [
       "<ol class=list-inline>\n",
       "\t<li>0.117480733317552</li>\n",
       "\t<li>0.717245066267714</li>\n",
       "\t<li>0.787439197425723</li>\n",
       "\t<li>0.35212355404484</li>\n",
       "\t<li>0.717245066267714</li>\n",
       "</ol>\n"
      ],
      "text/latex": [
       "\\begin{enumerate*}\n",
       "\\item 0.117480733317552\n",
       "\\item 0.717245066267714\n",
       "\\item 0.787439197425723\n",
       "\\item 0.35212355404484\n",
       "\\item 0.717245066267714\n",
       "\\end{enumerate*}\n"
      ],
      "text/markdown": [
       "1. 0.117480733317552\n",
       "2. 0.717245066267714\n",
       "3. 0.787439197425723\n",
       "4. 0.35212355404484\n",
       "5. 0.717245066267714\n",
       "\n",
       "\n"
      ],
      "text/plain": [
       "[1] 0.1174807 0.7172451 0.7874392 0.3521236 0.7172451"
      ]
     },
     "metadata": {},
     "output_type": "display_data"
    }
   ],
   "source": [
    "pval<-c()\n",
    "\n",
    "for (i in 9:ncol(nonzero_wMeta)) \n",
    "pval<-c(pval,wilcox.test(nonzero_wMeta[,i]~nonzero_wMeta$Treatmentgroup)$p.value)\n",
    "head(pval)\n",
    "pAdj <- p.adjust(pval, method = c(\"fdr\"), n=length(pval)) \n",
    "head(pAdj) \n",
    "\n"
   ]
  },
  {
   "cell_type": "code",
   "execution_count": 6,
   "metadata": {
    "scrolled": true
   },
   "outputs": [
    {
     "data": {
      "text/html": [
       "5"
      ],
      "text/latex": [
       "5"
      ],
      "text/markdown": [
       "5"
      ],
      "text/plain": [
       "[1] 5"
      ]
     },
     "metadata": {},
     "output_type": "display_data"
    }
   ],
   "source": [
    "length(pval)"
   ]
  },
  {
   "cell_type": "code",
   "execution_count": 7,
   "metadata": {
    "scrolled": true
   },
   "outputs": [
    {
     "data": {
      "text/html": [
       "5"
      ],
      "text/latex": [
       "5"
      ],
      "text/markdown": [
       "5"
      ],
      "text/plain": [
       "[1] 5"
      ]
     },
     "metadata": {},
     "output_type": "display_data"
    }
   ],
   "source": [
    "length(pAdj)"
   ]
  },
  {
   "cell_type": "code",
   "execution_count": 8,
   "metadata": {},
   "outputs": [
    {
     "data": {
      "text/html": [
       "<ol class=list-inline>\n",
       "\t<li>2</li>\n",
       "\t<li>5</li>\n",
       "</ol>\n"
      ],
      "text/latex": [
       "\\begin{enumerate*}\n",
       "\\item 2\n",
       "\\item 5\n",
       "\\end{enumerate*}\n"
      ],
      "text/markdown": [
       "1. 2\n",
       "2. 5\n",
       "\n",
       "\n"
      ],
      "text/plain": [
       "[1] 2 5"
      ]
     },
     "metadata": {},
     "output_type": "display_data"
    },
    {
     "data": {
      "text/html": [
       "<table>\n",
       "<thead><tr><th></th><th scope=col>mass_400</th><th scope=col>mass_500</th><th scope=col>mass_600</th></tr></thead>\n",
       "<tbody>\n",
       "\t<tr><th scope=row>Group1C</th><td>0.008506890 </td><td>0.02700054  </td><td>0.0003089557</td></tr>\n",
       "\t<tr><th scope=row>Group3E</th><td>0.006004158 </td><td>0.02282909  </td><td>0.0003351859</td></tr>\n",
       "</tbody>\n",
       "</table>\n"
      ],
      "text/latex": [
       "\\begin{tabular}{r|lll}\n",
       "  & mass\\_400 & mass\\_500 & mass\\_600\\\\\n",
       "\\hline\n",
       "\tGroup1C & 0.008506890  & 0.02700054   & 0.0003089557\\\\\n",
       "\tGroup3E & 0.006004158  & 0.02282909   & 0.0003351859\\\\\n",
       "\\end{tabular}\n"
      ],
      "text/markdown": [
       "\n",
       "| <!--/--> | mass_400 | mass_500 | mass_600 |\n",
       "|---|---|---|---|\n",
       "| Group1C | 0.008506890  | 0.02700054   | 0.0003089557 |\n",
       "| Group3E | 0.006004158  | 0.02282909   | 0.0003351859 |\n",
       "\n"
      ],
      "text/plain": [
       "        mass_400    mass_500   mass_600    \n",
       "Group1C 0.008506890 0.02700054 0.0003089557\n",
       "Group3E 0.006004158 0.02282909 0.0003351859"
      ]
     },
     "metadata": {},
     "output_type": "display_data"
    },
    {
     "data": {
      "text/html": [
       "<dl class=dl-horizontal>\n",
       "\t<dt>mass_400</dt>\n",
       "\t\t<dd>1.41683318646104</dd>\n",
       "\t<dt>mass_500</dt>\n",
       "\t\t<dd>1.18272539531895</dd>\n",
       "\t<dt>mass_600</dt>\n",
       "\t\t<dd>0.921744313801616</dd>\n",
       "\t<dt>mass_700</dt>\n",
       "\t\t<dd>0.563994593875693</dd>\n",
       "\t<dt>mass_800</dt>\n",
       "\t\t<dd>0.75140461564363</dd>\n",
       "</dl>\n"
      ],
      "text/latex": [
       "\\begin{description*}\n",
       "\\item[mass\\textbackslash{}\\_400] 1.41683318646104\n",
       "\\item[mass\\textbackslash{}\\_500] 1.18272539531895\n",
       "\\item[mass\\textbackslash{}\\_600] 0.921744313801616\n",
       "\\item[mass\\textbackslash{}\\_700] 0.563994593875693\n",
       "\\item[mass\\textbackslash{}\\_800] 0.75140461564363\n",
       "\\end{description*}\n"
      ],
      "text/markdown": [
       "mass_400\n",
       ":   1.41683318646104mass_500\n",
       ":   1.18272539531895mass_600\n",
       ":   0.921744313801616mass_700\n",
       ":   0.563994593875693mass_800\n",
       ":   0.75140461564363\n",
       "\n"
      ],
      "text/plain": [
       " mass_400  mass_500  mass_600  mass_700  mass_800 \n",
       "1.4168332 1.1827254 0.9217443 0.5639946 0.7514046 "
      ]
     },
     "metadata": {},
     "output_type": "display_data"
    },
    {
     "data": {
      "text/html": [
       "<ol class=list-inline>\n",
       "\t<li>'numeric'</li>\n",
       "\t<li>'vector'</li>\n",
       "</ol>\n"
      ],
      "text/latex": [
       "\\begin{enumerate*}\n",
       "\\item 'numeric'\n",
       "\\item 'vector'\n",
       "\\end{enumerate*}\n"
      ],
      "text/markdown": [
       "1. 'numeric'\n",
       "2. 'vector'\n",
       "\n",
       "\n"
      ],
      "text/plain": [
       "[1] \"numeric\" \"vector\" "
      ]
     },
     "metadata": {},
     "output_type": "display_data"
    }
   ],
   "source": [
    "avg<- apply(nonzero_wMeta[,9:ncol(nonzero_wMeta)], 2, function(x) tapply(x, nonzero_wMeta$Treatmentgroup, function(x) mean(x))) \n",
    "\n",
    "dim(avg)\n",
    "\n",
    "avg[,1:3]\n",
    "\n",
    "fch <- apply(avg, 2, function(x) x[1]/x[2])\n",
    "\n",
    "head(fch)\n",
    "is(fch)"
   ]
  },
  {
   "cell_type": "code",
   "execution_count": 9,
   "metadata": {
    "scrolled": true
   },
   "outputs": [
    {
     "data": {
      "text/html": [
       "<dl class=dl-horizontal>\n",
       "\t<dt>mass_400</dt>\n",
       "\t\t<dd>1.41683318646104</dd>\n",
       "\t<dt>mass_500</dt>\n",
       "\t\t<dd>1.18272539531895</dd>\n",
       "\t<dt>mass_600</dt>\n",
       "\t\t<dd>0.921744313801616</dd>\n",
       "\t<dt>mass_700</dt>\n",
       "\t\t<dd>0.563994593875693</dd>\n",
       "\t<dt>mass_800</dt>\n",
       "\t\t<dd>0.75140461564363</dd>\n",
       "</dl>\n"
      ],
      "text/latex": [
       "\\begin{description*}\n",
       "\\item[mass\\textbackslash{}\\_400] 1.41683318646104\n",
       "\\item[mass\\textbackslash{}\\_500] 1.18272539531895\n",
       "\\item[mass\\textbackslash{}\\_600] 0.921744313801616\n",
       "\\item[mass\\textbackslash{}\\_700] 0.563994593875693\n",
       "\\item[mass\\textbackslash{}\\_800] 0.75140461564363\n",
       "\\end{description*}\n"
      ],
      "text/markdown": [
       "mass_400\n",
       ":   1.41683318646104mass_500\n",
       ":   1.18272539531895mass_600\n",
       ":   0.921744313801616mass_700\n",
       ":   0.563994593875693mass_800\n",
       ":   0.75140461564363\n",
       "\n"
      ],
      "text/plain": [
       " mass_400  mass_500  mass_600  mass_700  mass_800 \n",
       "1.4168332 1.1827254 0.9217443 0.5639946 0.7514046 "
      ]
     },
     "metadata": {},
     "output_type": "display_data"
    }
   ],
   "source": [
    "fch"
   ]
  },
  {
   "cell_type": "code",
   "execution_count": 10,
   "metadata": {
    "scrolled": false
   },
   "outputs": [],
   "source": [
    "df <- data.frame(fch,pval, pAdj)\n",
    "write.csv(df, \"PE-time-LVT-wilcox-1C-3E.csv\")"
   ]
  },
  {
   "cell_type": "code",
   "execution_count": null,
   "metadata": {},
   "outputs": [],
   "source": []
  },
  {
   "cell_type": "code",
   "execution_count": null,
   "metadata": {},
   "outputs": [],
   "source": []
  },
  {
   "cell_type": "code",
   "execution_count": null,
   "metadata": {},
   "outputs": [],
   "source": []
  },
  {
   "cell_type": "code",
   "execution_count": null,
   "metadata": {},
   "outputs": [],
   "source": []
  },
  {
   "cell_type": "code",
   "execution_count": null,
   "metadata": {},
   "outputs": [],
   "source": []
  },
  {
   "cell_type": "code",
   "execution_count": null,
   "metadata": {},
   "outputs": [],
   "source": []
  }
 ],
 "metadata": {
  "kernelspec": {
   "display_name": "R",
   "language": "R",
   "name": "ir"
  },
  "language_info": {
   "codemirror_mode": "r",
   "file_extension": ".r",
   "mimetype": "text/x-r-source",
   "name": "R",
   "pygments_lexer": "r",
   "version": "3.6.1"
  }
 },
 "nbformat": 4,
 "nbformat_minor": 2
}
