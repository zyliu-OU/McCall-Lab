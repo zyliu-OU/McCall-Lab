{
 "cells": [
  {
   "cell_type": "code",
   "execution_count": 1,
   "metadata": {},
   "outputs": [],
   "source": [
    "a <- read.csv(\"03172021-PE-treatment-LVT-M-F.csv\")"
   ]
  },
  {
   "cell_type": "code",
   "execution_count": 2,
   "metadata": {},
   "outputs": [
    {
     "data": {
      "text/html": [
       "<table>\n",
       "<thead><tr><th scope=col>filename</th><th scope=col>MouseID</th><th scope=col>Treatmentgroup</th><th scope=col>DPI</th><th scope=col>organ</th><th scope=col>well_position</th><th scope=col>plate</th><th scope=col>mass_400</th><th scope=col>mass_500</th><th scope=col>mass_600</th><th scope=col>mass_700</th><th scope=col>mass_800</th></tr></thead>\n",
       "<tbody>\n",
       "\t<tr><td>X511_Group1C_142dpi_LV_top_161_G_A1_P128.mzXML</td><td>511                                           </td><td>naive                                         </td><td>142dpi                                        </td><td>LV_top                                        </td><td>A1                                            </td><td>P128                                          </td><td>0.007457554                                   </td><td>0.02744597                                    </td><td>0.000521874                                   </td><td>0.000673111                                   </td><td>0.000000000                                   </td></tr>\n",
       "\t<tr><td>X512_Group1C_142dpi_LV_top_162_G_A2_P128.mzXML</td><td>512                                           </td><td>naive                                         </td><td>142dpi                                        </td><td>LV_top                                        </td><td>A2                                            </td><td>P128                                          </td><td>0.008515695                                   </td><td>0.02741206                                    </td><td>0.000255829                                   </td><td>0.000566018                                   </td><td>0.000000000                                   </td></tr>\n",
       "\t<tr><td>X513_Group1C_142dpi_LV_top_163_G_A3_P128.mzXML</td><td>513                                           </td><td>naive                                         </td><td>142dpi                                        </td><td>LV_top                                        </td><td>A3                                            </td><td>P128                                          </td><td>0.008847471                                   </td><td>0.03699675                                    </td><td>0.000000000                                   </td><td>0.007030000                                   </td><td>0.000523528                                   </td></tr>\n",
       "\t<tr><td>X514_Group1C_142dpi_LV_top_164_G_A4_P128.mzXML</td><td>514                                           </td><td>naive                                         </td><td>142dpi                                        </td><td>LV_top                                        </td><td>A4                                            </td><td>P128                                          </td><td>0.006734363                                   </td><td>0.01865059                                    </td><td>0.000214131                                   </td><td>0.000000000                                   </td><td>0.000000000                                   </td></tr>\n",
       "\t<tr><td>X515_Group1C_142dpi_LV_top_165_G_A5_P128.mzXML</td><td>515                                           </td><td>naive                                         </td><td>142dpi                                        </td><td>LV_top                                        </td><td>A5                                            </td><td>P128                                          </td><td>0.012388772                                   </td><td>0.03474977                                    </td><td>0.000635973                                   </td><td>0.006520000                                   </td><td>0.000621587                                   </td></tr>\n",
       "\t<tr><td>X531_Group1C_142dpi_LV_top_166_G_A6_P128.mzXML</td><td>531                                           </td><td>naive                                         </td><td>142dpi                                        </td><td>LV_top                                        </td><td>A6                                            </td><td>P128                                          </td><td>0.012357413                                   </td><td>0.03113655                                    </td><td>0.000643272                                   </td><td>0.007864901                                   </td><td>0.000467785                                   </td></tr>\n",
       "</tbody>\n",
       "</table>\n"
      ],
      "text/latex": [
       "\\begin{tabular}{r|llllllllllll}\n",
       " filename & MouseID & Treatmentgroup & DPI & organ & well\\_position & plate & mass\\_400 & mass\\_500 & mass\\_600 & mass\\_700 & mass\\_800\\\\\n",
       "\\hline\n",
       "\t X511\\_Group1C\\_142dpi\\_LV\\_top\\_161\\_G\\_A1\\_P128.mzXML & 511                                                            & naive                                                          & 142dpi                                                         & LV\\_top                                                       & A1                                                             & P128                                                           & 0.007457554                                                    & 0.02744597                                                     & 0.000521874                                                    & 0.000673111                                                    & 0.000000000                                                   \\\\\n",
       "\t X512\\_Group1C\\_142dpi\\_LV\\_top\\_162\\_G\\_A2\\_P128.mzXML & 512                                                            & naive                                                          & 142dpi                                                         & LV\\_top                                                       & A2                                                             & P128                                                           & 0.008515695                                                    & 0.02741206                                                     & 0.000255829                                                    & 0.000566018                                                    & 0.000000000                                                   \\\\\n",
       "\t X513\\_Group1C\\_142dpi\\_LV\\_top\\_163\\_G\\_A3\\_P128.mzXML & 513                                                            & naive                                                          & 142dpi                                                         & LV\\_top                                                       & A3                                                             & P128                                                           & 0.008847471                                                    & 0.03699675                                                     & 0.000000000                                                    & 0.007030000                                                    & 0.000523528                                                   \\\\\n",
       "\t X514\\_Group1C\\_142dpi\\_LV\\_top\\_164\\_G\\_A4\\_P128.mzXML & 514                                                            & naive                                                          & 142dpi                                                         & LV\\_top                                                       & A4                                                             & P128                                                           & 0.006734363                                                    & 0.01865059                                                     & 0.000214131                                                    & 0.000000000                                                    & 0.000000000                                                   \\\\\n",
       "\t X515\\_Group1C\\_142dpi\\_LV\\_top\\_165\\_G\\_A5\\_P128.mzXML & 515                                                            & naive                                                          & 142dpi                                                         & LV\\_top                                                       & A5                                                             & P128                                                           & 0.012388772                                                    & 0.03474977                                                     & 0.000635973                                                    & 0.006520000                                                    & 0.000621587                                                   \\\\\n",
       "\t X531\\_Group1C\\_142dpi\\_LV\\_top\\_166\\_G\\_A6\\_P128.mzXML & 531                                                            & naive                                                          & 142dpi                                                         & LV\\_top                                                       & A6                                                             & P128                                                           & 0.012357413                                                    & 0.03113655                                                     & 0.000643272                                                    & 0.007864901                                                    & 0.000467785                                                   \\\\\n",
       "\\end{tabular}\n"
      ],
      "text/markdown": [
       "\n",
       "| filename | MouseID | Treatmentgroup | DPI | organ | well_position | plate | mass_400 | mass_500 | mass_600 | mass_700 | mass_800 |\n",
       "|---|---|---|---|---|---|---|---|---|---|---|---|\n",
       "| X511_Group1C_142dpi_LV_top_161_G_A1_P128.mzXML | 511                                            | naive                                          | 142dpi                                         | LV_top                                         | A1                                             | P128                                           | 0.007457554                                    | 0.02744597                                     | 0.000521874                                    | 0.000673111                                    | 0.000000000                                    |\n",
       "| X512_Group1C_142dpi_LV_top_162_G_A2_P128.mzXML | 512                                            | naive                                          | 142dpi                                         | LV_top                                         | A2                                             | P128                                           | 0.008515695                                    | 0.02741206                                     | 0.000255829                                    | 0.000566018                                    | 0.000000000                                    |\n",
       "| X513_Group1C_142dpi_LV_top_163_G_A3_P128.mzXML | 513                                            | naive                                          | 142dpi                                         | LV_top                                         | A3                                             | P128                                           | 0.008847471                                    | 0.03699675                                     | 0.000000000                                    | 0.007030000                                    | 0.000523528                                    |\n",
       "| X514_Group1C_142dpi_LV_top_164_G_A4_P128.mzXML | 514                                            | naive                                          | 142dpi                                         | LV_top                                         | A4                                             | P128                                           | 0.006734363                                    | 0.01865059                                     | 0.000214131                                    | 0.000000000                                    | 0.000000000                                    |\n",
       "| X515_Group1C_142dpi_LV_top_165_G_A5_P128.mzXML | 515                                            | naive                                          | 142dpi                                         | LV_top                                         | A5                                             | P128                                           | 0.012388772                                    | 0.03474977                                     | 0.000635973                                    | 0.006520000                                    | 0.000621587                                    |\n",
       "| X531_Group1C_142dpi_LV_top_166_G_A6_P128.mzXML | 531                                            | naive                                          | 142dpi                                         | LV_top                                         | A6                                             | P128                                           | 0.012357413                                    | 0.03113655                                     | 0.000643272                                    | 0.007864901                                    | 0.000467785                                    |\n",
       "\n"
      ],
      "text/plain": [
       "  filename                                       MouseID Treatmentgroup DPI   \n",
       "1 X511_Group1C_142dpi_LV_top_161_G_A1_P128.mzXML 511     naive          142dpi\n",
       "2 X512_Group1C_142dpi_LV_top_162_G_A2_P128.mzXML 512     naive          142dpi\n",
       "3 X513_Group1C_142dpi_LV_top_163_G_A3_P128.mzXML 513     naive          142dpi\n",
       "4 X514_Group1C_142dpi_LV_top_164_G_A4_P128.mzXML 514     naive          142dpi\n",
       "5 X515_Group1C_142dpi_LV_top_165_G_A5_P128.mzXML 515     naive          142dpi\n",
       "6 X531_Group1C_142dpi_LV_top_166_G_A6_P128.mzXML 531     naive          142dpi\n",
       "  organ  well_position plate mass_400    mass_500   mass_600    mass_700   \n",
       "1 LV_top A1            P128  0.007457554 0.02744597 0.000521874 0.000673111\n",
       "2 LV_top A2            P128  0.008515695 0.02741206 0.000255829 0.000566018\n",
       "3 LV_top A3            P128  0.008847471 0.03699675 0.000000000 0.007030000\n",
       "4 LV_top A4            P128  0.006734363 0.01865059 0.000214131 0.000000000\n",
       "5 LV_top A5            P128  0.012388772 0.03474977 0.000635973 0.006520000\n",
       "6 LV_top A6            P128  0.012357413 0.03113655 0.000643272 0.007864901\n",
       "  mass_800   \n",
       "1 0.000000000\n",
       "2 0.000000000\n",
       "3 0.000523528\n",
       "4 0.000000000\n",
       "5 0.000621587\n",
       "6 0.000467785"
      ]
     },
     "metadata": {},
     "output_type": "display_data"
    },
    {
     "data": {
      "text/html": [
       "<ol class=list-inline>\n",
       "\t<li>60</li>\n",
       "\t<li>12</li>\n",
       "</ol>\n"
      ],
      "text/latex": [
       "\\begin{enumerate*}\n",
       "\\item 60\n",
       "\\item 12\n",
       "\\end{enumerate*}\n"
      ],
      "text/markdown": [
       "1. 60\n",
       "2. 12\n",
       "\n",
       "\n"
      ],
      "text/plain": [
       "[1] 60 12"
      ]
     },
     "metadata": {},
     "output_type": "display_data"
    }
   ],
   "source": [
    "head(a)\n",
    "dim(a)"
   ]
  },
  {
   "cell_type": "code",
   "execution_count": 3,
   "metadata": {},
   "outputs": [
    {
     "data": {
      "text/html": [
       "<table>\n",
       "<thead><tr><th></th><th scope=col>filename</th><th scope=col>MouseID</th><th scope=col>Treatmentgroup</th><th scope=col>DPI</th><th scope=col>organ</th><th scope=col>well_position</th><th scope=col>plate</th><th scope=col>mass_400</th><th scope=col>mass_500</th><th scope=col>mass_600</th><th scope=col>mass_700</th><th scope=col>mass_800</th></tr></thead>\n",
       "<tbody>\n",
       "\t<tr><th scope=row>21</th><td>X611_Group9_142dpi_LV_top_181_G_B9_P128.mzXML </td><td>611                                           </td><td>combo                                         </td><td>142dpi                                        </td><td>LV_top                                        </td><td>B9                                            </td><td>P128                                          </td><td>0.006243760                                   </td><td>0.03036229                                    </td><td>0.000331154                                   </td><td>0.003441070                                   </td><td>0.000859417                                   </td></tr>\n",
       "\t<tr><th scope=row>22</th><td>X612_Group9_142dpi_LV_top_182_G_B10_P128.mzXML</td><td>612                                           </td><td>combo                                         </td><td>142dpi                                        </td><td>LV_top                                        </td><td>B10                                           </td><td>P128                                          </td><td>0.005234528                                   </td><td>0.02397661                                    </td><td>0.000048000                                   </td><td>0.000000000                                   </td><td>0.000000000                                   </td></tr>\n",
       "\t<tr><th scope=row>23</th><td>X613_Group9_142dpi_LV_top_183_G_B11_P128.mzXML</td><td>613                                           </td><td>combo                                         </td><td>142dpi                                        </td><td>LV_top                                        </td><td>B11                                           </td><td>P128                                          </td><td>0.009664593                                   </td><td>0.02451257                                    </td><td>0.000176687                                   </td><td>0.001891457                                   </td><td>0.000128239                                   </td></tr>\n",
       "\t<tr><th scope=row>24</th><td>X614_Group9_142dpi_LV_top_184_G_B12_P128.mzXML</td><td>614                                           </td><td>combo                                         </td><td>142dpi                                        </td><td>LV_top                                        </td><td>B12                                           </td><td>P128                                          </td><td>0.006482640                                   </td><td>0.02110000                                    </td><td>0.000488605                                   </td><td>0.000470912                                   </td><td>0.000000000                                   </td></tr>\n",
       "\t<tr><th scope=row>25</th><td>X615_Group9_142dpi_LV_top_185_G_C1_P128.mzXML </td><td>615                                           </td><td>combo                                         </td><td>142dpi                                        </td><td>LV_top                                        </td><td>C1                                            </td><td>P128                                          </td><td>0.005064922                                   </td><td>0.02030000                                    </td><td>0.000374310                                   </td><td>0.006426943                                   </td><td>0.000572521                                   </td></tr>\n",
       "\t<tr><th scope=row>26</th><td>X631_Group15_142dpi_LV_top_191_G_C7_P128.mzXML</td><td>631                                           </td><td>BNZ                                           </td><td>142dpi                                        </td><td>LV_top                                        </td><td>C7                                            </td><td>P128                                          </td><td>0.004682804                                   </td><td>0.02050000                                    </td><td>0.000196078                                   </td><td>0.000550960                                   </td><td>0.000000000                                   </td></tr>\n",
       "</tbody>\n",
       "</table>\n"
      ],
      "text/latex": [
       "\\begin{tabular}{r|llllllllllll}\n",
       "  & filename & MouseID & Treatmentgroup & DPI & organ & well\\_position & plate & mass\\_400 & mass\\_500 & mass\\_600 & mass\\_700 & mass\\_800\\\\\n",
       "\\hline\n",
       "\t21 & X611\\_Group9\\_142dpi\\_LV\\_top\\_181\\_G\\_B9\\_P128.mzXML  & 611                                                            & combo                                                          & 142dpi                                                         & LV\\_top                                                       & B9                                                             & P128                                                           & 0.006243760                                                    & 0.03036229                                                     & 0.000331154                                                    & 0.003441070                                                    & 0.000859417                                                   \\\\\n",
       "\t22 & X612\\_Group9\\_142dpi\\_LV\\_top\\_182\\_G\\_B10\\_P128.mzXML & 612                                                            & combo                                                          & 142dpi                                                         & LV\\_top                                                       & B10                                                            & P128                                                           & 0.005234528                                                    & 0.02397661                                                     & 0.000048000                                                    & 0.000000000                                                    & 0.000000000                                                   \\\\\n",
       "\t23 & X613\\_Group9\\_142dpi\\_LV\\_top\\_183\\_G\\_B11\\_P128.mzXML & 613                                                            & combo                                                          & 142dpi                                                         & LV\\_top                                                       & B11                                                            & P128                                                           & 0.009664593                                                    & 0.02451257                                                     & 0.000176687                                                    & 0.001891457                                                    & 0.000128239                                                   \\\\\n",
       "\t24 & X614\\_Group9\\_142dpi\\_LV\\_top\\_184\\_G\\_B12\\_P128.mzXML & 614                                                            & combo                                                          & 142dpi                                                         & LV\\_top                                                       & B12                                                            & P128                                                           & 0.006482640                                                    & 0.02110000                                                     & 0.000488605                                                    & 0.000470912                                                    & 0.000000000                                                   \\\\\n",
       "\t25 & X615\\_Group9\\_142dpi\\_LV\\_top\\_185\\_G\\_C1\\_P128.mzXML  & 615                                                            & combo                                                          & 142dpi                                                         & LV\\_top                                                       & C1                                                             & P128                                                           & 0.005064922                                                    & 0.02030000                                                     & 0.000374310                                                    & 0.006426943                                                    & 0.000572521                                                   \\\\\n",
       "\t26 & X631\\_Group15\\_142dpi\\_LV\\_top\\_191\\_G\\_C7\\_P128.mzXML & 631                                                            & BNZ                                                            & 142dpi                                                         & LV\\_top                                                       & C7                                                             & P128                                                           & 0.004682804                                                    & 0.02050000                                                     & 0.000196078                                                    & 0.000550960                                                    & 0.000000000                                                   \\\\\n",
       "\\end{tabular}\n"
      ],
      "text/markdown": [
       "\n",
       "| <!--/--> | filename | MouseID | Treatmentgroup | DPI | organ | well_position | plate | mass_400 | mass_500 | mass_600 | mass_700 | mass_800 |\n",
       "|---|---|---|---|---|---|---|---|---|---|---|---|---|\n",
       "| 21 | X611_Group9_142dpi_LV_top_181_G_B9_P128.mzXML  | 611                                            | combo                                          | 142dpi                                         | LV_top                                         | B9                                             | P128                                           | 0.006243760                                    | 0.03036229                                     | 0.000331154                                    | 0.003441070                                    | 0.000859417                                    |\n",
       "| 22 | X612_Group9_142dpi_LV_top_182_G_B10_P128.mzXML | 612                                            | combo                                          | 142dpi                                         | LV_top                                         | B10                                            | P128                                           | 0.005234528                                    | 0.02397661                                     | 0.000048000                                    | 0.000000000                                    | 0.000000000                                    |\n",
       "| 23 | X613_Group9_142dpi_LV_top_183_G_B11_P128.mzXML | 613                                            | combo                                          | 142dpi                                         | LV_top                                         | B11                                            | P128                                           | 0.009664593                                    | 0.02451257                                     | 0.000176687                                    | 0.001891457                                    | 0.000128239                                    |\n",
       "| 24 | X614_Group9_142dpi_LV_top_184_G_B12_P128.mzXML | 614                                            | combo                                          | 142dpi                                         | LV_top                                         | B12                                            | P128                                           | 0.006482640                                    | 0.02110000                                     | 0.000488605                                    | 0.000470912                                    | 0.000000000                                    |\n",
       "| 25 | X615_Group9_142dpi_LV_top_185_G_C1_P128.mzXML  | 615                                            | combo                                          | 142dpi                                         | LV_top                                         | C1                                             | P128                                           | 0.005064922                                    | 0.02030000                                     | 0.000374310                                    | 0.006426943                                    | 0.000572521                                    |\n",
       "| 26 | X631_Group15_142dpi_LV_top_191_G_C7_P128.mzXML | 631                                            | BNZ                                            | 142dpi                                         | LV_top                                         | C7                                             | P128                                           | 0.004682804                                    | 0.02050000                                     | 0.000196078                                    | 0.000550960                                    | 0.000000000                                    |\n",
       "\n"
      ],
      "text/plain": [
       "   filename                                       MouseID Treatmentgroup DPI   \n",
       "21 X611_Group9_142dpi_LV_top_181_G_B9_P128.mzXML  611     combo          142dpi\n",
       "22 X612_Group9_142dpi_LV_top_182_G_B10_P128.mzXML 612     combo          142dpi\n",
       "23 X613_Group9_142dpi_LV_top_183_G_B11_P128.mzXML 613     combo          142dpi\n",
       "24 X614_Group9_142dpi_LV_top_184_G_B12_P128.mzXML 614     combo          142dpi\n",
       "25 X615_Group9_142dpi_LV_top_185_G_C1_P128.mzXML  615     combo          142dpi\n",
       "26 X631_Group15_142dpi_LV_top_191_G_C7_P128.mzXML 631     BNZ            142dpi\n",
       "   organ  well_position plate mass_400    mass_500   mass_600    mass_700   \n",
       "21 LV_top B9            P128  0.006243760 0.03036229 0.000331154 0.003441070\n",
       "22 LV_top B10           P128  0.005234528 0.02397661 0.000048000 0.000000000\n",
       "23 LV_top B11           P128  0.009664593 0.02451257 0.000176687 0.001891457\n",
       "24 LV_top B12           P128  0.006482640 0.02110000 0.000488605 0.000470912\n",
       "25 LV_top C1            P128  0.005064922 0.02030000 0.000374310 0.006426943\n",
       "26 LV_top C7            P128  0.004682804 0.02050000 0.000196078 0.000550960\n",
       "   mass_800   \n",
       "21 0.000859417\n",
       "22 0.000000000\n",
       "23 0.000128239\n",
       "24 0.000000000\n",
       "25 0.000572521\n",
       "26 0.000000000"
      ]
     },
     "metadata": {},
     "output_type": "display_data"
    },
    {
     "data": {
      "text/html": [
       "<ol class=list-inline>\n",
       "\t<li>30</li>\n",
       "\t<li>12</li>\n",
       "</ol>\n"
      ],
      "text/latex": [
       "\\begin{enumerate*}\n",
       "\\item 30\n",
       "\\item 12\n",
       "\\end{enumerate*}\n"
      ],
      "text/markdown": [
       "1. 30\n",
       "2. 12\n",
       "\n",
       "\n"
      ],
      "text/plain": [
       "[1] 30 12"
      ]
     },
     "metadata": {},
     "output_type": "display_data"
    }
   ],
   "source": [
    "features_pos<-droplevels(subset(a, a$Treatmentgroup==c(\"combo\")|a$Treatmentgroup==c(\"BNZ\")))\n",
    "head(features_pos)\n",
    "dim(features_pos)"
   ]
  },
  {
   "cell_type": "code",
   "execution_count": 4,
   "metadata": {
    "scrolled": false
   },
   "outputs": [
    {
     "data": {
      "text/html": [
       "<table>\n",
       "<thead><tr><th></th><th scope=col>mass_400</th><th scope=col>mass_500</th><th scope=col>mass_600</th><th scope=col>mass_700</th><th scope=col>mass_800</th></tr></thead>\n",
       "<tbody>\n",
       "\t<tr><th scope=row>21</th><td>0.006243760</td><td>0.03036229 </td><td>0.000331154</td><td>0.003441070</td><td>0.000859417</td></tr>\n",
       "\t<tr><th scope=row>22</th><td>0.005234528</td><td>0.02397661 </td><td>0.000048000</td><td>0.000000000</td><td>0.000000000</td></tr>\n",
       "\t<tr><th scope=row>23</th><td>0.009664593</td><td>0.02451257 </td><td>0.000176687</td><td>0.001891457</td><td>0.000128239</td></tr>\n",
       "\t<tr><th scope=row>24</th><td>0.006482640</td><td>0.02110000 </td><td>0.000488605</td><td>0.000470912</td><td>0.000000000</td></tr>\n",
       "\t<tr><th scope=row>25</th><td>0.005064922</td><td>0.02030000 </td><td>0.000374310</td><td>0.006426943</td><td>0.000572521</td></tr>\n",
       "\t<tr><th scope=row>26</th><td>0.004682804</td><td>0.02050000 </td><td>0.000196078</td><td>0.000550960</td><td>0.000000000</td></tr>\n",
       "</tbody>\n",
       "</table>\n"
      ],
      "text/latex": [
       "\\begin{tabular}{r|lllll}\n",
       "  & mass\\_400 & mass\\_500 & mass\\_600 & mass\\_700 & mass\\_800\\\\\n",
       "\\hline\n",
       "\t21 & 0.006243760 & 0.03036229  & 0.000331154 & 0.003441070 & 0.000859417\\\\\n",
       "\t22 & 0.005234528 & 0.02397661  & 0.000048000 & 0.000000000 & 0.000000000\\\\\n",
       "\t23 & 0.009664593 & 0.02451257  & 0.000176687 & 0.001891457 & 0.000128239\\\\\n",
       "\t24 & 0.006482640 & 0.02110000  & 0.000488605 & 0.000470912 & 0.000000000\\\\\n",
       "\t25 & 0.005064922 & 0.02030000  & 0.000374310 & 0.006426943 & 0.000572521\\\\\n",
       "\t26 & 0.004682804 & 0.02050000  & 0.000196078 & 0.000550960 & 0.000000000\\\\\n",
       "\\end{tabular}\n"
      ],
      "text/markdown": [
       "\n",
       "| <!--/--> | mass_400 | mass_500 | mass_600 | mass_700 | mass_800 |\n",
       "|---|---|---|---|---|---|\n",
       "| 21 | 0.006243760 | 0.03036229  | 0.000331154 | 0.003441070 | 0.000859417 |\n",
       "| 22 | 0.005234528 | 0.02397661  | 0.000048000 | 0.000000000 | 0.000000000 |\n",
       "| 23 | 0.009664593 | 0.02451257  | 0.000176687 | 0.001891457 | 0.000128239 |\n",
       "| 24 | 0.006482640 | 0.02110000  | 0.000488605 | 0.000470912 | 0.000000000 |\n",
       "| 25 | 0.005064922 | 0.02030000  | 0.000374310 | 0.006426943 | 0.000572521 |\n",
       "| 26 | 0.004682804 | 0.02050000  | 0.000196078 | 0.000550960 | 0.000000000 |\n",
       "\n"
      ],
      "text/plain": [
       "   mass_400    mass_500   mass_600    mass_700    mass_800   \n",
       "21 0.006243760 0.03036229 0.000331154 0.003441070 0.000859417\n",
       "22 0.005234528 0.02397661 0.000048000 0.000000000 0.000000000\n",
       "23 0.009664593 0.02451257 0.000176687 0.001891457 0.000128239\n",
       "24 0.006482640 0.02110000 0.000488605 0.000470912 0.000000000\n",
       "25 0.005064922 0.02030000 0.000374310 0.006426943 0.000572521\n",
       "26 0.004682804 0.02050000 0.000196078 0.000550960 0.000000000"
      ]
     },
     "metadata": {},
     "output_type": "display_data"
    },
    {
     "data": {
      "text/html": [
       "<dl class=dl-horizontal>\n",
       "\t<dt>mass_400</dt>\n",
       "\t\t<dd>1</dd>\n",
       "\t<dt>mass_500</dt>\n",
       "\t\t<dd>2</dd>\n",
       "\t<dt>mass_600</dt>\n",
       "\t\t<dd>3</dd>\n",
       "\t<dt>mass_700</dt>\n",
       "\t\t<dd>4</dd>\n",
       "\t<dt>mass_800</dt>\n",
       "\t\t<dd>5</dd>\n",
       "</dl>\n"
      ],
      "text/latex": [
       "\\begin{description*}\n",
       "\\item[mass\\textbackslash{}\\_400] 1\n",
       "\\item[mass\\textbackslash{}\\_500] 2\n",
       "\\item[mass\\textbackslash{}\\_600] 3\n",
       "\\item[mass\\textbackslash{}\\_700] 4\n",
       "\\item[mass\\textbackslash{}\\_800] 5\n",
       "\\end{description*}\n"
      ],
      "text/markdown": [
       "mass_400\n",
       ":   1mass_500\n",
       ":   2mass_600\n",
       ":   3mass_700\n",
       ":   4mass_800\n",
       ":   5\n",
       "\n"
      ],
      "text/plain": [
       "mass_400 mass_500 mass_600 mass_700 mass_800 \n",
       "       1        2        3        4        5 "
      ]
     },
     "metadata": {},
     "output_type": "display_data"
    },
    {
     "data": {
      "text/html": [
       "<table>\n",
       "<thead><tr><th></th><th scope=col>mass_400</th><th scope=col>mass_500</th><th scope=col>mass_600</th><th scope=col>mass_700</th><th scope=col>mass_800</th></tr></thead>\n",
       "<tbody>\n",
       "\t<tr><th scope=row>21</th><td>0.006243760</td><td>0.03036229 </td><td>0.000331154</td><td>0.003441070</td><td>0.000859417</td></tr>\n",
       "\t<tr><th scope=row>22</th><td>0.005234528</td><td>0.02397661 </td><td>0.000048000</td><td>0.000000000</td><td>0.000000000</td></tr>\n",
       "\t<tr><th scope=row>23</th><td>0.009664593</td><td>0.02451257 </td><td>0.000176687</td><td>0.001891457</td><td>0.000128239</td></tr>\n",
       "\t<tr><th scope=row>24</th><td>0.006482640</td><td>0.02110000 </td><td>0.000488605</td><td>0.000470912</td><td>0.000000000</td></tr>\n",
       "\t<tr><th scope=row>25</th><td>0.005064922</td><td>0.02030000 </td><td>0.000374310</td><td>0.006426943</td><td>0.000572521</td></tr>\n",
       "\t<tr><th scope=row>26</th><td>0.004682804</td><td>0.02050000 </td><td>0.000196078</td><td>0.000550960</td><td>0.000000000</td></tr>\n",
       "\t<tr><th scope=row>27</th><td>0.006094290</td><td>0.02430000 </td><td>0.000379999</td><td>0.000738291</td><td>0.000144442</td></tr>\n",
       "\t<tr><th scope=row>28</th><td>0.008367666</td><td>0.02530000 </td><td>0.000183671</td><td>0.001882418</td><td>0.000118409</td></tr>\n",
       "\t<tr><th scope=row>29</th><td>0.007930511</td><td>0.02554069 </td><td>0.000324801</td><td>0.000000000</td><td>0.000000000</td></tr>\n",
       "\t<tr><th scope=row>30</th><td>0.006251799</td><td>0.02086428 </td><td>0.000000000</td><td>0.010541965</td><td>0.000000000</td></tr>\n",
       "\t<tr><th scope=row>36</th><td>0.006367099</td><td>0.01768122 </td><td>0.000231809</td><td>0.001947490</td><td>0.000146315</td></tr>\n",
       "\t<tr><th scope=row>37</th><td>0.002399353</td><td>0.00575000 </td><td>0.000291966</td><td>0.002698221</td><td>0.000000000</td></tr>\n",
       "\t<tr><th scope=row>38</th><td>0.006393058</td><td>0.02465794 </td><td>0.000140195</td><td>0.000879214</td><td>0.000000000</td></tr>\n",
       "\t<tr><th scope=row>39</th><td>0.004417419</td><td>0.02598592 </td><td>0.000143508</td><td>0.013600000</td><td>0.002311562</td></tr>\n",
       "\t<tr><th scope=row>40</th><td>0.011183880</td><td>0.03270686 </td><td>0.000812960</td><td>0.016400000</td><td>0.000436279</td></tr>\n",
       "\t<tr><th scope=row>41</th><td>0.011893198</td><td>0.02232217 </td><td>0.000321172</td><td>0.006467595</td><td>0.000331555</td></tr>\n",
       "\t<tr><th scope=row>42</th><td>0.008511754</td><td>0.02469249 </td><td>0.000140217</td><td>0.000000000</td><td>0.000000000</td></tr>\n",
       "\t<tr><th scope=row>43</th><td>0.003621968</td><td>0.02456310 </td><td>0.000000000</td><td>0.002080392</td><td>0.000000000</td></tr>\n",
       "\t<tr><th scope=row>44</th><td>0.003737653</td><td>0.01450000 </td><td>0.000305600</td><td>0.006959895</td><td>0.000542014</td></tr>\n",
       "\t<tr><th scope=row>45</th><td>0.006483031</td><td>0.02689228 </td><td>0.000720511</td><td>0.001803802</td><td>0.000445998</td></tr>\n",
       "\t<tr><th scope=row>51</th><td>0.001330723</td><td>0.00459000 </td><td>0.000153607</td><td>0.001698120</td><td>0.000190696</td></tr>\n",
       "\t<tr><th scope=row>52</th><td>0.001984121</td><td>0.00752000 </td><td>0.000186044</td><td>0.000890778</td><td>0.000326271</td></tr>\n",
       "\t<tr><th scope=row>53</th><td>0.003848343</td><td>0.00787102 </td><td>0.000274015</td><td>0.005355796</td><td>0.000281382</td></tr>\n",
       "\t<tr><th scope=row>54</th><td>0.008439803</td><td>0.03182014 </td><td>0.000229809</td><td>0.003210000</td><td>0.000145121</td></tr>\n",
       "\t<tr><th scope=row>55</th><td>0.012026823</td><td>0.02977598 </td><td>0.000290526</td><td>0.018035514</td><td>0.001581852</td></tr>\n",
       "\t<tr><th scope=row>56</th><td>0.002434748</td><td>0.02015320 </td><td>0.000073200</td><td>0.000000000</td><td>0.000000000</td></tr>\n",
       "\t<tr><th scope=row>57</th><td>0.006191115</td><td>0.02060000 </td><td>0.000720631</td><td>0.002177276</td><td>0.000510772</td></tr>\n",
       "\t<tr><th scope=row>58</th><td>0.003243377</td><td>0.02586559 </td><td>0.000244858</td><td>0.003054921</td><td>0.000000000</td></tr>\n",
       "\t<tr><th scope=row>59</th><td>0.005800927</td><td>0.02128063 </td><td>0.000191151</td><td>0.002421784</td><td>0.000000000</td></tr>\n",
       "\t<tr><th scope=row>60</th><td>0.009645414</td><td>0.03076836 </td><td>0.000831182</td><td>0.013208830</td><td>0.000869912</td></tr>\n",
       "</tbody>\n",
       "</table>\n"
      ],
      "text/latex": [
       "\\begin{tabular}{r|lllll}\n",
       "  & mass\\_400 & mass\\_500 & mass\\_600 & mass\\_700 & mass\\_800\\\\\n",
       "\\hline\n",
       "\t21 & 0.006243760 & 0.03036229  & 0.000331154 & 0.003441070 & 0.000859417\\\\\n",
       "\t22 & 0.005234528 & 0.02397661  & 0.000048000 & 0.000000000 & 0.000000000\\\\\n",
       "\t23 & 0.009664593 & 0.02451257  & 0.000176687 & 0.001891457 & 0.000128239\\\\\n",
       "\t24 & 0.006482640 & 0.02110000  & 0.000488605 & 0.000470912 & 0.000000000\\\\\n",
       "\t25 & 0.005064922 & 0.02030000  & 0.000374310 & 0.006426943 & 0.000572521\\\\\n",
       "\t26 & 0.004682804 & 0.02050000  & 0.000196078 & 0.000550960 & 0.000000000\\\\\n",
       "\t27 & 0.006094290 & 0.02430000  & 0.000379999 & 0.000738291 & 0.000144442\\\\\n",
       "\t28 & 0.008367666 & 0.02530000  & 0.000183671 & 0.001882418 & 0.000118409\\\\\n",
       "\t29 & 0.007930511 & 0.02554069  & 0.000324801 & 0.000000000 & 0.000000000\\\\\n",
       "\t30 & 0.006251799 & 0.02086428  & 0.000000000 & 0.010541965 & 0.000000000\\\\\n",
       "\t36 & 0.006367099 & 0.01768122  & 0.000231809 & 0.001947490 & 0.000146315\\\\\n",
       "\t37 & 0.002399353 & 0.00575000  & 0.000291966 & 0.002698221 & 0.000000000\\\\\n",
       "\t38 & 0.006393058 & 0.02465794  & 0.000140195 & 0.000879214 & 0.000000000\\\\\n",
       "\t39 & 0.004417419 & 0.02598592  & 0.000143508 & 0.013600000 & 0.002311562\\\\\n",
       "\t40 & 0.011183880 & 0.03270686  & 0.000812960 & 0.016400000 & 0.000436279\\\\\n",
       "\t41 & 0.011893198 & 0.02232217  & 0.000321172 & 0.006467595 & 0.000331555\\\\\n",
       "\t42 & 0.008511754 & 0.02469249  & 0.000140217 & 0.000000000 & 0.000000000\\\\\n",
       "\t43 & 0.003621968 & 0.02456310  & 0.000000000 & 0.002080392 & 0.000000000\\\\\n",
       "\t44 & 0.003737653 & 0.01450000  & 0.000305600 & 0.006959895 & 0.000542014\\\\\n",
       "\t45 & 0.006483031 & 0.02689228  & 0.000720511 & 0.001803802 & 0.000445998\\\\\n",
       "\t51 & 0.001330723 & 0.00459000  & 0.000153607 & 0.001698120 & 0.000190696\\\\\n",
       "\t52 & 0.001984121 & 0.00752000  & 0.000186044 & 0.000890778 & 0.000326271\\\\\n",
       "\t53 & 0.003848343 & 0.00787102  & 0.000274015 & 0.005355796 & 0.000281382\\\\\n",
       "\t54 & 0.008439803 & 0.03182014  & 0.000229809 & 0.003210000 & 0.000145121\\\\\n",
       "\t55 & 0.012026823 & 0.02977598  & 0.000290526 & 0.018035514 & 0.001581852\\\\\n",
       "\t56 & 0.002434748 & 0.02015320  & 0.000073200 & 0.000000000 & 0.000000000\\\\\n",
       "\t57 & 0.006191115 & 0.02060000  & 0.000720631 & 0.002177276 & 0.000510772\\\\\n",
       "\t58 & 0.003243377 & 0.02586559  & 0.000244858 & 0.003054921 & 0.000000000\\\\\n",
       "\t59 & 0.005800927 & 0.02128063  & 0.000191151 & 0.002421784 & 0.000000000\\\\\n",
       "\t60 & 0.009645414 & 0.03076836  & 0.000831182 & 0.013208830 & 0.000869912\\\\\n",
       "\\end{tabular}\n"
      ],
      "text/markdown": [
       "\n",
       "| <!--/--> | mass_400 | mass_500 | mass_600 | mass_700 | mass_800 |\n",
       "|---|---|---|---|---|---|\n",
       "| 21 | 0.006243760 | 0.03036229  | 0.000331154 | 0.003441070 | 0.000859417 |\n",
       "| 22 | 0.005234528 | 0.02397661  | 0.000048000 | 0.000000000 | 0.000000000 |\n",
       "| 23 | 0.009664593 | 0.02451257  | 0.000176687 | 0.001891457 | 0.000128239 |\n",
       "| 24 | 0.006482640 | 0.02110000  | 0.000488605 | 0.000470912 | 0.000000000 |\n",
       "| 25 | 0.005064922 | 0.02030000  | 0.000374310 | 0.006426943 | 0.000572521 |\n",
       "| 26 | 0.004682804 | 0.02050000  | 0.000196078 | 0.000550960 | 0.000000000 |\n",
       "| 27 | 0.006094290 | 0.02430000  | 0.000379999 | 0.000738291 | 0.000144442 |\n",
       "| 28 | 0.008367666 | 0.02530000  | 0.000183671 | 0.001882418 | 0.000118409 |\n",
       "| 29 | 0.007930511 | 0.02554069  | 0.000324801 | 0.000000000 | 0.000000000 |\n",
       "| 30 | 0.006251799 | 0.02086428  | 0.000000000 | 0.010541965 | 0.000000000 |\n",
       "| 36 | 0.006367099 | 0.01768122  | 0.000231809 | 0.001947490 | 0.000146315 |\n",
       "| 37 | 0.002399353 | 0.00575000  | 0.000291966 | 0.002698221 | 0.000000000 |\n",
       "| 38 | 0.006393058 | 0.02465794  | 0.000140195 | 0.000879214 | 0.000000000 |\n",
       "| 39 | 0.004417419 | 0.02598592  | 0.000143508 | 0.013600000 | 0.002311562 |\n",
       "| 40 | 0.011183880 | 0.03270686  | 0.000812960 | 0.016400000 | 0.000436279 |\n",
       "| 41 | 0.011893198 | 0.02232217  | 0.000321172 | 0.006467595 | 0.000331555 |\n",
       "| 42 | 0.008511754 | 0.02469249  | 0.000140217 | 0.000000000 | 0.000000000 |\n",
       "| 43 | 0.003621968 | 0.02456310  | 0.000000000 | 0.002080392 | 0.000000000 |\n",
       "| 44 | 0.003737653 | 0.01450000  | 0.000305600 | 0.006959895 | 0.000542014 |\n",
       "| 45 | 0.006483031 | 0.02689228  | 0.000720511 | 0.001803802 | 0.000445998 |\n",
       "| 51 | 0.001330723 | 0.00459000  | 0.000153607 | 0.001698120 | 0.000190696 |\n",
       "| 52 | 0.001984121 | 0.00752000  | 0.000186044 | 0.000890778 | 0.000326271 |\n",
       "| 53 | 0.003848343 | 0.00787102  | 0.000274015 | 0.005355796 | 0.000281382 |\n",
       "| 54 | 0.008439803 | 0.03182014  | 0.000229809 | 0.003210000 | 0.000145121 |\n",
       "| 55 | 0.012026823 | 0.02977598  | 0.000290526 | 0.018035514 | 0.001581852 |\n",
       "| 56 | 0.002434748 | 0.02015320  | 0.000073200 | 0.000000000 | 0.000000000 |\n",
       "| 57 | 0.006191115 | 0.02060000  | 0.000720631 | 0.002177276 | 0.000510772 |\n",
       "| 58 | 0.003243377 | 0.02586559  | 0.000244858 | 0.003054921 | 0.000000000 |\n",
       "| 59 | 0.005800927 | 0.02128063  | 0.000191151 | 0.002421784 | 0.000000000 |\n",
       "| 60 | 0.009645414 | 0.03076836  | 0.000831182 | 0.013208830 | 0.000869912 |\n",
       "\n"
      ],
      "text/plain": [
       "   mass_400    mass_500   mass_600    mass_700    mass_800   \n",
       "21 0.006243760 0.03036229 0.000331154 0.003441070 0.000859417\n",
       "22 0.005234528 0.02397661 0.000048000 0.000000000 0.000000000\n",
       "23 0.009664593 0.02451257 0.000176687 0.001891457 0.000128239\n",
       "24 0.006482640 0.02110000 0.000488605 0.000470912 0.000000000\n",
       "25 0.005064922 0.02030000 0.000374310 0.006426943 0.000572521\n",
       "26 0.004682804 0.02050000 0.000196078 0.000550960 0.000000000\n",
       "27 0.006094290 0.02430000 0.000379999 0.000738291 0.000144442\n",
       "28 0.008367666 0.02530000 0.000183671 0.001882418 0.000118409\n",
       "29 0.007930511 0.02554069 0.000324801 0.000000000 0.000000000\n",
       "30 0.006251799 0.02086428 0.000000000 0.010541965 0.000000000\n",
       "36 0.006367099 0.01768122 0.000231809 0.001947490 0.000146315\n",
       "37 0.002399353 0.00575000 0.000291966 0.002698221 0.000000000\n",
       "38 0.006393058 0.02465794 0.000140195 0.000879214 0.000000000\n",
       "39 0.004417419 0.02598592 0.000143508 0.013600000 0.002311562\n",
       "40 0.011183880 0.03270686 0.000812960 0.016400000 0.000436279\n",
       "41 0.011893198 0.02232217 0.000321172 0.006467595 0.000331555\n",
       "42 0.008511754 0.02469249 0.000140217 0.000000000 0.000000000\n",
       "43 0.003621968 0.02456310 0.000000000 0.002080392 0.000000000\n",
       "44 0.003737653 0.01450000 0.000305600 0.006959895 0.000542014\n",
       "45 0.006483031 0.02689228 0.000720511 0.001803802 0.000445998\n",
       "51 0.001330723 0.00459000 0.000153607 0.001698120 0.000190696\n",
       "52 0.001984121 0.00752000 0.000186044 0.000890778 0.000326271\n",
       "53 0.003848343 0.00787102 0.000274015 0.005355796 0.000281382\n",
       "54 0.008439803 0.03182014 0.000229809 0.003210000 0.000145121\n",
       "55 0.012026823 0.02977598 0.000290526 0.018035514 0.001581852\n",
       "56 0.002434748 0.02015320 0.000073200 0.000000000 0.000000000\n",
       "57 0.006191115 0.02060000 0.000720631 0.002177276 0.000510772\n",
       "58 0.003243377 0.02586559 0.000244858 0.003054921 0.000000000\n",
       "59 0.005800927 0.02128063 0.000191151 0.002421784 0.000000000\n",
       "60 0.009645414 0.03076836 0.000831182 0.013208830 0.000869912"
      ]
     },
     "metadata": {},
     "output_type": "display_data"
    },
    {
     "data": {
      "text/html": [
       "<table>\n",
       "<thead><tr><th></th><th scope=col>filename</th><th scope=col>MouseID</th><th scope=col>Treatmentgroup</th><th scope=col>DPI</th><th scope=col>organ</th><th scope=col>well_position</th><th scope=col>plate</th><th scope=col>mass_400</th><th scope=col>mass_500</th><th scope=col>mass_600</th><th scope=col>mass_700</th><th scope=col>mass_800</th></tr></thead>\n",
       "<tbody>\n",
       "\t<tr><th scope=row>21</th><td>X611_Group9_142dpi_LV_top_181_G_B9_P128.mzXML </td><td>611                                           </td><td>combo                                         </td><td>142dpi                                        </td><td>LV_top                                        </td><td>B9                                            </td><td>P128                                          </td><td>0.006243760                                   </td><td>0.03036229                                    </td><td>0.000331154                                   </td><td>0.003441070                                   </td><td>0.000859417                                   </td></tr>\n",
       "\t<tr><th scope=row>22</th><td>X612_Group9_142dpi_LV_top_182_G_B10_P128.mzXML</td><td>612                                           </td><td>combo                                         </td><td>142dpi                                        </td><td>LV_top                                        </td><td>B10                                           </td><td>P128                                          </td><td>0.005234528                                   </td><td>0.02397661                                    </td><td>0.000048000                                   </td><td>0.000000000                                   </td><td>0.000000000                                   </td></tr>\n",
       "\t<tr><th scope=row>23</th><td>X613_Group9_142dpi_LV_top_183_G_B11_P128.mzXML</td><td>613                                           </td><td>combo                                         </td><td>142dpi                                        </td><td>LV_top                                        </td><td>B11                                           </td><td>P128                                          </td><td>0.009664593                                   </td><td>0.02451257                                    </td><td>0.000176687                                   </td><td>0.001891457                                   </td><td>0.000128239                                   </td></tr>\n",
       "\t<tr><th scope=row>24</th><td>X614_Group9_142dpi_LV_top_184_G_B12_P128.mzXML</td><td>614                                           </td><td>combo                                         </td><td>142dpi                                        </td><td>LV_top                                        </td><td>B12                                           </td><td>P128                                          </td><td>0.006482640                                   </td><td>0.02110000                                    </td><td>0.000488605                                   </td><td>0.000470912                                   </td><td>0.000000000                                   </td></tr>\n",
       "\t<tr><th scope=row>25</th><td>X615_Group9_142dpi_LV_top_185_G_C1_P128.mzXML </td><td>615                                           </td><td>combo                                         </td><td>142dpi                                        </td><td>LV_top                                        </td><td>C1                                            </td><td>P128                                          </td><td>0.005064922                                   </td><td>0.02030000                                    </td><td>0.000374310                                   </td><td>0.006426943                                   </td><td>0.000572521                                   </td></tr>\n",
       "\t<tr><th scope=row>26</th><td>X631_Group15_142dpi_LV_top_191_G_C7_P128.mzXML</td><td>631                                           </td><td>BNZ                                           </td><td>142dpi                                        </td><td>LV_top                                        </td><td>C7                                            </td><td>P128                                          </td><td>0.004682804                                   </td><td>0.02050000                                    </td><td>0.000196078                                   </td><td>0.000550960                                   </td><td>0.000000000                                   </td></tr>\n",
       "</tbody>\n",
       "</table>\n"
      ],
      "text/latex": [
       "\\begin{tabular}{r|llllllllllll}\n",
       "  & filename & MouseID & Treatmentgroup & DPI & organ & well\\_position & plate & mass\\_400 & mass\\_500 & mass\\_600 & mass\\_700 & mass\\_800\\\\\n",
       "\\hline\n",
       "\t21 & X611\\_Group9\\_142dpi\\_LV\\_top\\_181\\_G\\_B9\\_P128.mzXML  & 611                                                            & combo                                                          & 142dpi                                                         & LV\\_top                                                       & B9                                                             & P128                                                           & 0.006243760                                                    & 0.03036229                                                     & 0.000331154                                                    & 0.003441070                                                    & 0.000859417                                                   \\\\\n",
       "\t22 & X612\\_Group9\\_142dpi\\_LV\\_top\\_182\\_G\\_B10\\_P128.mzXML & 612                                                            & combo                                                          & 142dpi                                                         & LV\\_top                                                       & B10                                                            & P128                                                           & 0.005234528                                                    & 0.02397661                                                     & 0.000048000                                                    & 0.000000000                                                    & 0.000000000                                                   \\\\\n",
       "\t23 & X613\\_Group9\\_142dpi\\_LV\\_top\\_183\\_G\\_B11\\_P128.mzXML & 613                                                            & combo                                                          & 142dpi                                                         & LV\\_top                                                       & B11                                                            & P128                                                           & 0.009664593                                                    & 0.02451257                                                     & 0.000176687                                                    & 0.001891457                                                    & 0.000128239                                                   \\\\\n",
       "\t24 & X614\\_Group9\\_142dpi\\_LV\\_top\\_184\\_G\\_B12\\_P128.mzXML & 614                                                            & combo                                                          & 142dpi                                                         & LV\\_top                                                       & B12                                                            & P128                                                           & 0.006482640                                                    & 0.02110000                                                     & 0.000488605                                                    & 0.000470912                                                    & 0.000000000                                                   \\\\\n",
       "\t25 & X615\\_Group9\\_142dpi\\_LV\\_top\\_185\\_G\\_C1\\_P128.mzXML  & 615                                                            & combo                                                          & 142dpi                                                         & LV\\_top                                                       & C1                                                             & P128                                                           & 0.005064922                                                    & 0.02030000                                                     & 0.000374310                                                    & 0.006426943                                                    & 0.000572521                                                   \\\\\n",
       "\t26 & X631\\_Group15\\_142dpi\\_LV\\_top\\_191\\_G\\_C7\\_P128.mzXML & 631                                                            & BNZ                                                            & 142dpi                                                         & LV\\_top                                                       & C7                                                             & P128                                                           & 0.004682804                                                    & 0.02050000                                                     & 0.000196078                                                    & 0.000550960                                                    & 0.000000000                                                   \\\\\n",
       "\\end{tabular}\n"
      ],
      "text/markdown": [
       "\n",
       "| <!--/--> | filename | MouseID | Treatmentgroup | DPI | organ | well_position | plate | mass_400 | mass_500 | mass_600 | mass_700 | mass_800 |\n",
       "|---|---|---|---|---|---|---|---|---|---|---|---|---|\n",
       "| 21 | X611_Group9_142dpi_LV_top_181_G_B9_P128.mzXML  | 611                                            | combo                                          | 142dpi                                         | LV_top                                         | B9                                             | P128                                           | 0.006243760                                    | 0.03036229                                     | 0.000331154                                    | 0.003441070                                    | 0.000859417                                    |\n",
       "| 22 | X612_Group9_142dpi_LV_top_182_G_B10_P128.mzXML | 612                                            | combo                                          | 142dpi                                         | LV_top                                         | B10                                            | P128                                           | 0.005234528                                    | 0.02397661                                     | 0.000048000                                    | 0.000000000                                    | 0.000000000                                    |\n",
       "| 23 | X613_Group9_142dpi_LV_top_183_G_B11_P128.mzXML | 613                                            | combo                                          | 142dpi                                         | LV_top                                         | B11                                            | P128                                           | 0.009664593                                    | 0.02451257                                     | 0.000176687                                    | 0.001891457                                    | 0.000128239                                    |\n",
       "| 24 | X614_Group9_142dpi_LV_top_184_G_B12_P128.mzXML | 614                                            | combo                                          | 142dpi                                         | LV_top                                         | B12                                            | P128                                           | 0.006482640                                    | 0.02110000                                     | 0.000488605                                    | 0.000470912                                    | 0.000000000                                    |\n",
       "| 25 | X615_Group9_142dpi_LV_top_185_G_C1_P128.mzXML  | 615                                            | combo                                          | 142dpi                                         | LV_top                                         | C1                                             | P128                                           | 0.005064922                                    | 0.02030000                                     | 0.000374310                                    | 0.006426943                                    | 0.000572521                                    |\n",
       "| 26 | X631_Group15_142dpi_LV_top_191_G_C7_P128.mzXML | 631                                            | BNZ                                            | 142dpi                                         | LV_top                                         | C7                                             | P128                                           | 0.004682804                                    | 0.02050000                                     | 0.000196078                                    | 0.000550960                                    | 0.000000000                                    |\n",
       "\n"
      ],
      "text/plain": [
       "   filename                                       MouseID Treatmentgroup DPI   \n",
       "21 X611_Group9_142dpi_LV_top_181_G_B9_P128.mzXML  611     combo          142dpi\n",
       "22 X612_Group9_142dpi_LV_top_182_G_B10_P128.mzXML 612     combo          142dpi\n",
       "23 X613_Group9_142dpi_LV_top_183_G_B11_P128.mzXML 613     combo          142dpi\n",
       "24 X614_Group9_142dpi_LV_top_184_G_B12_P128.mzXML 614     combo          142dpi\n",
       "25 X615_Group9_142dpi_LV_top_185_G_C1_P128.mzXML  615     combo          142dpi\n",
       "26 X631_Group15_142dpi_LV_top_191_G_C7_P128.mzXML 631     BNZ            142dpi\n",
       "   organ  well_position plate mass_400    mass_500   mass_600    mass_700   \n",
       "21 LV_top B9            P128  0.006243760 0.03036229 0.000331154 0.003441070\n",
       "22 LV_top B10           P128  0.005234528 0.02397661 0.000048000 0.000000000\n",
       "23 LV_top B11           P128  0.009664593 0.02451257 0.000176687 0.001891457\n",
       "24 LV_top B12           P128  0.006482640 0.02110000 0.000488605 0.000470912\n",
       "25 LV_top C1            P128  0.005064922 0.02030000 0.000374310 0.006426943\n",
       "26 LV_top C7            P128  0.004682804 0.02050000 0.000196078 0.000550960\n",
       "   mass_800   \n",
       "21 0.000859417\n",
       "22 0.000000000\n",
       "23 0.000128239\n",
       "24 0.000000000\n",
       "25 0.000572521\n",
       "26 0.000000000"
      ]
     },
     "metadata": {},
     "output_type": "display_data"
    },
    {
     "data": {
      "text/html": [
       "<ol class=list-inline>\n",
       "\t<li>30</li>\n",
       "\t<li>12</li>\n",
       "</ol>\n"
      ],
      "text/latex": [
       "\\begin{enumerate*}\n",
       "\\item 30\n",
       "\\item 12\n",
       "\\end{enumerate*}\n"
      ],
      "text/markdown": [
       "1. 30\n",
       "2. 12\n",
       "\n",
       "\n"
      ],
      "text/plain": [
       "[1] 30 12"
      ]
     },
     "metadata": {},
     "output_type": "display_data"
    },
    {
     "data": {
      "text/html": [
       "<ol class=list-inline>\n",
       "\t<li>30</li>\n",
       "\t<li>5</li>\n",
       "</ol>\n"
      ],
      "text/latex": [
       "\\begin{enumerate*}\n",
       "\\item 30\n",
       "\\item 5\n",
       "\\end{enumerate*}\n"
      ],
      "text/markdown": [
       "1. 30\n",
       "2. 5\n",
       "\n",
       "\n"
      ],
      "text/plain": [
       "[1] 30  5"
      ]
     },
     "metadata": {},
     "output_type": "display_data"
    },
    {
     "data": {
      "text/html": [
       "<ol class=list-inline>\n",
       "\t<li>30</li>\n",
       "\t<li>5</li>\n",
       "</ol>\n"
      ],
      "text/latex": [
       "\\begin{enumerate*}\n",
       "\\item 30\n",
       "\\item 5\n",
       "\\end{enumerate*}\n"
      ],
      "text/markdown": [
       "1. 30\n",
       "2. 5\n",
       "\n",
       "\n"
      ],
      "text/plain": [
       "[1] 30  5"
      ]
     },
     "metadata": {},
     "output_type": "display_data"
    },
    {
     "data": {
      "text/html": [
       "<ol class=list-inline>\n",
       "\t<li>30</li>\n",
       "\t<li>12</li>\n",
       "</ol>\n"
      ],
      "text/latex": [
       "\\begin{enumerate*}\n",
       "\\item 30\n",
       "\\item 12\n",
       "\\end{enumerate*}\n"
      ],
      "text/markdown": [
       "1. 30\n",
       "2. 12\n",
       "\n",
       "\n"
      ],
      "text/plain": [
       "[1] 30 12"
      ]
     },
     "metadata": {},
     "output_type": "display_data"
    }
   ],
   "source": [
    "noMeta<-features_pos[,8:12]\n",
    "head(noMeta)\n",
    "not_zero<-which(colSums(noMeta) != 0)\n",
    "head(not_zero)\n",
    "nonzero <- noMeta[, not_zero]\n",
    "nonzero\n",
    "nonzero_wMeta<-cbind(features_pos[,1:7], nonzero)\n",
    "head(nonzero_wMeta)\n",
    "dim(features_pos)\n",
    "dim(noMeta)\n",
    "dim(nonzero)\n",
    "dim(nonzero_wMeta)"
   ]
  },
  {
   "cell_type": "code",
   "execution_count": 5,
   "metadata": {
    "scrolled": true
   },
   "outputs": [
    {
     "name": "stderr",
     "output_type": "stream",
     "text": [
      "Warning message in wilcox.test.default(x = c(0.000196078, 0.000379999, 0.000183671, :\n",
      "\"cannot compute exact p-value with ties\"Warning message in wilcox.test.default(x = c(0.00055096, 0.000738291, 0.001882418, :\n",
      "\"cannot compute exact p-value with ties\"Warning message in wilcox.test.default(x = c(0, 0.000144442, 0.000118409, 0, 0, :\n",
      "\"cannot compute exact p-value with ties\""
     ]
    },
    {
     "data": {
      "text/html": [
       "<ol class=list-inline>\n",
       "\t<li>0.870194456435353</li>\n",
       "\t<li>0.712965124764759</li>\n",
       "\t<li>0.8682114641097</li>\n",
       "\t<li>0.418099098790292</li>\n",
       "\t<li>0.183918024676862</li>\n",
       "</ol>\n"
      ],
      "text/latex": [
       "\\begin{enumerate*}\n",
       "\\item 0.870194456435353\n",
       "\\item 0.712965124764759\n",
       "\\item 0.8682114641097\n",
       "\\item 0.418099098790292\n",
       "\\item 0.183918024676862\n",
       "\\end{enumerate*}\n"
      ],
      "text/markdown": [
       "1. 0.870194456435353\n",
       "2. 0.712965124764759\n",
       "3. 0.8682114641097\n",
       "4. 0.418099098790292\n",
       "5. 0.183918024676862\n",
       "\n",
       "\n"
      ],
      "text/plain": [
       "[1] 0.8701945 0.7129651 0.8682115 0.4180991 0.1839180"
      ]
     },
     "metadata": {},
     "output_type": "display_data"
    },
    {
     "data": {
      "text/html": [
       "<ol class=list-inline>\n",
       "\t<li>0.870194456435353</li>\n",
       "\t<li>0.870194456435353</li>\n",
       "\t<li>0.870194456435353</li>\n",
       "\t<li>0.870194456435353</li>\n",
       "\t<li>0.870194456435353</li>\n",
       "</ol>\n"
      ],
      "text/latex": [
       "\\begin{enumerate*}\n",
       "\\item 0.870194456435353\n",
       "\\item 0.870194456435353\n",
       "\\item 0.870194456435353\n",
       "\\item 0.870194456435353\n",
       "\\item 0.870194456435353\n",
       "\\end{enumerate*}\n"
      ],
      "text/markdown": [
       "1. 0.870194456435353\n",
       "2. 0.870194456435353\n",
       "3. 0.870194456435353\n",
       "4. 0.870194456435353\n",
       "5. 0.870194456435353\n",
       "\n",
       "\n"
      ],
      "text/plain": [
       "[1] 0.8701945 0.8701945 0.8701945 0.8701945 0.8701945"
      ]
     },
     "metadata": {},
     "output_type": "display_data"
    }
   ],
   "source": [
    "pval<-c()\n",
    "\n",
    "for (i in 8:ncol(nonzero_wMeta)) \n",
    "pval<-c(pval,wilcox.test(nonzero_wMeta[,i]~nonzero_wMeta$Treatmentgroup)$p.value)\n",
    "head(pval)\n",
    "pAdj <- p.adjust(pval, method = c(\"fdr\"), n=length(pval)) \n",
    "head(pAdj) \n",
    "\n"
   ]
  },
  {
   "cell_type": "code",
   "execution_count": 6,
   "metadata": {
    "scrolled": true
   },
   "outputs": [
    {
     "data": {
      "text/html": [
       "5"
      ],
      "text/latex": [
       "5"
      ],
      "text/markdown": [
       "5"
      ],
      "text/plain": [
       "[1] 5"
      ]
     },
     "metadata": {},
     "output_type": "display_data"
    }
   ],
   "source": [
    "length(pval)"
   ]
  },
  {
   "cell_type": "code",
   "execution_count": 7,
   "metadata": {
    "scrolled": true
   },
   "outputs": [
    {
     "data": {
      "text/html": [
       "5"
      ],
      "text/latex": [
       "5"
      ],
      "text/markdown": [
       "5"
      ],
      "text/plain": [
       "[1] 5"
      ]
     },
     "metadata": {},
     "output_type": "display_data"
    }
   ],
   "source": [
    "length(pAdj)"
   ]
  },
  {
   "cell_type": "code",
   "execution_count": 8,
   "metadata": {},
   "outputs": [
    {
     "data": {
      "text/html": [
       "<ol class=list-inline>\n",
       "\t<li>2</li>\n",
       "\t<li>5</li>\n",
       "</ol>\n"
      ],
      "text/latex": [
       "\\begin{enumerate*}\n",
       "\\item 2\n",
       "\\item 5\n",
       "\\end{enumerate*}\n"
      ],
      "text/markdown": [
       "1. 2\n",
       "2. 5\n",
       "\n",
       "\n"
      ],
      "text/plain": [
       "[1] 2 5"
      ]
     },
     "metadata": {},
     "output_type": "display_data"
    },
    {
     "data": {
      "text/html": [
       "<table>\n",
       "<thead><tr><th></th><th scope=col>mass_400</th><th scope=col>mass_500</th><th scope=col>mass_600</th></tr></thead>\n",
       "<tbody>\n",
       "\t<tr><th scope=row>BNZ</th><td>0.006326017 </td><td>0.02320952  </td><td>0.0003088714</td></tr>\n",
       "\t<tr><th scope=row>combo</th><td>0.006072071 </td><td>0.02057404  </td><td>0.0002782130</td></tr>\n",
       "</tbody>\n",
       "</table>\n"
      ],
      "text/latex": [
       "\\begin{tabular}{r|lll}\n",
       "  & mass\\_400 & mass\\_500 & mass\\_600\\\\\n",
       "\\hline\n",
       "\tBNZ & 0.006326017  & 0.02320952   & 0.0003088714\\\\\n",
       "\tcombo & 0.006072071  & 0.02057404   & 0.0002782130\\\\\n",
       "\\end{tabular}\n"
      ],
      "text/markdown": [
       "\n",
       "| <!--/--> | mass_400 | mass_500 | mass_600 |\n",
       "|---|---|---|---|\n",
       "| BNZ | 0.006326017  | 0.02320952   | 0.0003088714 |\n",
       "| combo | 0.006072071  | 0.02057404   | 0.0002782130 |\n",
       "\n"
      ],
      "text/plain": [
       "      mass_400    mass_500   mass_600    \n",
       "BNZ   0.006326017 0.02320952 0.0003088714\n",
       "combo 0.006072071 0.02057404 0.0002782130"
      ]
     },
     "metadata": {},
     "output_type": "display_data"
    },
    {
     "data": {
      "text/html": [
       "<dl class=dl-horizontal>\n",
       "\t<dt>mass_400</dt>\n",
       "\t\t<dd>1.04182197474305</dd>\n",
       "\t<dt>mass_500</dt>\n",
       "\t\t<dd>1.12809746342271</dd>\n",
       "\t<dt>mass_600</dt>\n",
       "\t\t<dd>1.11019758242785</dd>\n",
       "\t<dt>mass_700</dt>\n",
       "\t\t<dd>0.674348972776386</dd>\n",
       "\t<dt>mass_800</dt>\n",
       "\t\t<dd>0.424534163937902</dd>\n",
       "</dl>\n"
      ],
      "text/latex": [
       "\\begin{description*}\n",
       "\\item[mass\\textbackslash{}\\_400] 1.04182197474305\n",
       "\\item[mass\\textbackslash{}\\_500] 1.12809746342271\n",
       "\\item[mass\\textbackslash{}\\_600] 1.11019758242785\n",
       "\\item[mass\\textbackslash{}\\_700] 0.674348972776386\n",
       "\\item[mass\\textbackslash{}\\_800] 0.424534163937902\n",
       "\\end{description*}\n"
      ],
      "text/markdown": [
       "mass_400\n",
       ":   1.04182197474305mass_500\n",
       ":   1.12809746342271mass_600\n",
       ":   1.11019758242785mass_700\n",
       ":   0.674348972776386mass_800\n",
       ":   0.424534163937902\n",
       "\n"
      ],
      "text/plain": [
       " mass_400  mass_500  mass_600  mass_700  mass_800 \n",
       "1.0418220 1.1280975 1.1101976 0.6743490 0.4245342 "
      ]
     },
     "metadata": {},
     "output_type": "display_data"
    },
    {
     "data": {
      "text/html": [
       "<ol class=list-inline>\n",
       "\t<li>'numeric'</li>\n",
       "\t<li>'vector'</li>\n",
       "</ol>\n"
      ],
      "text/latex": [
       "\\begin{enumerate*}\n",
       "\\item 'numeric'\n",
       "\\item 'vector'\n",
       "\\end{enumerate*}\n"
      ],
      "text/markdown": [
       "1. 'numeric'\n",
       "2. 'vector'\n",
       "\n",
       "\n"
      ],
      "text/plain": [
       "[1] \"numeric\" \"vector\" "
      ]
     },
     "metadata": {},
     "output_type": "display_data"
    }
   ],
   "source": [
    "avg<- apply(nonzero_wMeta[,8:ncol(nonzero_wMeta)], 2, function(x) tapply(x, nonzero_wMeta$Treatmentgroup, function(x) mean(x))) \n",
    "\n",
    "dim(avg)\n",
    "\n",
    "avg[,1:3]\n",
    "\n",
    "fch <- apply(avg, 2, function(x) x[1]/x[2])\n",
    "\n",
    "head(fch)\n",
    "is(fch)"
   ]
  },
  {
   "cell_type": "code",
   "execution_count": 9,
   "metadata": {
    "scrolled": true
   },
   "outputs": [
    {
     "data": {
      "text/html": [
       "<dl class=dl-horizontal>\n",
       "\t<dt>mass_400</dt>\n",
       "\t\t<dd>1.04182197474305</dd>\n",
       "\t<dt>mass_500</dt>\n",
       "\t\t<dd>1.12809746342271</dd>\n",
       "\t<dt>mass_600</dt>\n",
       "\t\t<dd>1.11019758242785</dd>\n",
       "\t<dt>mass_700</dt>\n",
       "\t\t<dd>0.674348972776386</dd>\n",
       "\t<dt>mass_800</dt>\n",
       "\t\t<dd>0.424534163937902</dd>\n",
       "</dl>\n"
      ],
      "text/latex": [
       "\\begin{description*}\n",
       "\\item[mass\\textbackslash{}\\_400] 1.04182197474305\n",
       "\\item[mass\\textbackslash{}\\_500] 1.12809746342271\n",
       "\\item[mass\\textbackslash{}\\_600] 1.11019758242785\n",
       "\\item[mass\\textbackslash{}\\_700] 0.674348972776386\n",
       "\\item[mass\\textbackslash{}\\_800] 0.424534163937902\n",
       "\\end{description*}\n"
      ],
      "text/markdown": [
       "mass_400\n",
       ":   1.04182197474305mass_500\n",
       ":   1.12809746342271mass_600\n",
       ":   1.11019758242785mass_700\n",
       ":   0.674348972776386mass_800\n",
       ":   0.424534163937902\n",
       "\n"
      ],
      "text/plain": [
       " mass_400  mass_500  mass_600  mass_700  mass_800 \n",
       "1.0418220 1.1280975 1.1101976 0.6743490 0.4245342 "
      ]
     },
     "metadata": {},
     "output_type": "display_data"
    }
   ],
   "source": [
    "fch"
   ]
  },
  {
   "cell_type": "code",
   "execution_count": 10,
   "metadata": {
    "scrolled": false
   },
   "outputs": [],
   "source": [
    "df <- data.frame(fch,pval, pAdj)\n",
    "write.csv(df, \"PE-treat-LVT-wilcox-combo-BNZ.csv\")"
   ]
  },
  {
   "cell_type": "code",
   "execution_count": null,
   "metadata": {},
   "outputs": [],
   "source": []
  },
  {
   "cell_type": "code",
   "execution_count": null,
   "metadata": {},
   "outputs": [],
   "source": []
  },
  {
   "cell_type": "code",
   "execution_count": null,
   "metadata": {},
   "outputs": [],
   "source": []
  },
  {
   "cell_type": "code",
   "execution_count": null,
   "metadata": {},
   "outputs": [],
   "source": []
  },
  {
   "cell_type": "code",
   "execution_count": null,
   "metadata": {},
   "outputs": [],
   "source": []
  },
  {
   "cell_type": "code",
   "execution_count": null,
   "metadata": {},
   "outputs": [],
   "source": []
  }
 ],
 "metadata": {
  "kernelspec": {
   "display_name": "R",
   "language": "R",
   "name": "ir"
  },
  "language_info": {
   "codemirror_mode": "r",
   "file_extension": ".r",
   "mimetype": "text/x-r-source",
   "name": "R",
   "pygments_lexer": "r",
   "version": "3.6.1"
  }
 },
 "nbformat": 4,
 "nbformat_minor": 2
}
