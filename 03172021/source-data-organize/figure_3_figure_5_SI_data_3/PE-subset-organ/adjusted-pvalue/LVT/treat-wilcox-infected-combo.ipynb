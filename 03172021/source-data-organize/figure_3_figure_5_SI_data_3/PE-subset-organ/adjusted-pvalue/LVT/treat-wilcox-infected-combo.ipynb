{
 "cells": [
  {
   "cell_type": "code",
   "execution_count": 1,
   "metadata": {},
   "outputs": [],
   "source": [
    "a <- read.csv(\"03172021-PE-treatment-LVT-M-F.csv\")"
   ]
  },
  {
   "cell_type": "code",
   "execution_count": 2,
   "metadata": {},
   "outputs": [
    {
     "data": {
      "text/html": [
       "<table>\n",
       "<thead><tr><th scope=col>filename</th><th scope=col>MouseID</th><th scope=col>Treatmentgroup</th><th scope=col>DPI</th><th scope=col>organ</th><th scope=col>well_position</th><th scope=col>plate</th><th scope=col>mass_400</th><th scope=col>mass_500</th><th scope=col>mass_600</th><th scope=col>mass_700</th><th scope=col>mass_800</th></tr></thead>\n",
       "<tbody>\n",
       "\t<tr><td>X511_Group1C_142dpi_LV_top_161_G_A1_P128.mzXML</td><td>511                                           </td><td>naive                                         </td><td>142dpi                                        </td><td>LV_top                                        </td><td>A1                                            </td><td>P128                                          </td><td>0.007457554                                   </td><td>0.02744597                                    </td><td>0.000521874                                   </td><td>0.000673111                                   </td><td>0.000000000                                   </td></tr>\n",
       "\t<tr><td>X512_Group1C_142dpi_LV_top_162_G_A2_P128.mzXML</td><td>512                                           </td><td>naive                                         </td><td>142dpi                                        </td><td>LV_top                                        </td><td>A2                                            </td><td>P128                                          </td><td>0.008515695                                   </td><td>0.02741206                                    </td><td>0.000255829                                   </td><td>0.000566018                                   </td><td>0.000000000                                   </td></tr>\n",
       "\t<tr><td>X513_Group1C_142dpi_LV_top_163_G_A3_P128.mzXML</td><td>513                                           </td><td>naive                                         </td><td>142dpi                                        </td><td>LV_top                                        </td><td>A3                                            </td><td>P128                                          </td><td>0.008847471                                   </td><td>0.03699675                                    </td><td>0.000000000                                   </td><td>0.007030000                                   </td><td>0.000523528                                   </td></tr>\n",
       "\t<tr><td>X514_Group1C_142dpi_LV_top_164_G_A4_P128.mzXML</td><td>514                                           </td><td>naive                                         </td><td>142dpi                                        </td><td>LV_top                                        </td><td>A4                                            </td><td>P128                                          </td><td>0.006734363                                   </td><td>0.01865059                                    </td><td>0.000214131                                   </td><td>0.000000000                                   </td><td>0.000000000                                   </td></tr>\n",
       "\t<tr><td>X515_Group1C_142dpi_LV_top_165_G_A5_P128.mzXML</td><td>515                                           </td><td>naive                                         </td><td>142dpi                                        </td><td>LV_top                                        </td><td>A5                                            </td><td>P128                                          </td><td>0.012388772                                   </td><td>0.03474977                                    </td><td>0.000635973                                   </td><td>0.006520000                                   </td><td>0.000621587                                   </td></tr>\n",
       "\t<tr><td>X531_Group1C_142dpi_LV_top_166_G_A6_P128.mzXML</td><td>531                                           </td><td>naive                                         </td><td>142dpi                                        </td><td>LV_top                                        </td><td>A6                                            </td><td>P128                                          </td><td>0.012357413                                   </td><td>0.03113655                                    </td><td>0.000643272                                   </td><td>0.007864901                                   </td><td>0.000467785                                   </td></tr>\n",
       "</tbody>\n",
       "</table>\n"
      ],
      "text/latex": [
       "\\begin{tabular}{r|llllllllllll}\n",
       " filename & MouseID & Treatmentgroup & DPI & organ & well\\_position & plate & mass\\_400 & mass\\_500 & mass\\_600 & mass\\_700 & mass\\_800\\\\\n",
       "\\hline\n",
       "\t X511\\_Group1C\\_142dpi\\_LV\\_top\\_161\\_G\\_A1\\_P128.mzXML & 511                                                            & naive                                                          & 142dpi                                                         & LV\\_top                                                       & A1                                                             & P128                                                           & 0.007457554                                                    & 0.02744597                                                     & 0.000521874                                                    & 0.000673111                                                    & 0.000000000                                                   \\\\\n",
       "\t X512\\_Group1C\\_142dpi\\_LV\\_top\\_162\\_G\\_A2\\_P128.mzXML & 512                                                            & naive                                                          & 142dpi                                                         & LV\\_top                                                       & A2                                                             & P128                                                           & 0.008515695                                                    & 0.02741206                                                     & 0.000255829                                                    & 0.000566018                                                    & 0.000000000                                                   \\\\\n",
       "\t X513\\_Group1C\\_142dpi\\_LV\\_top\\_163\\_G\\_A3\\_P128.mzXML & 513                                                            & naive                                                          & 142dpi                                                         & LV\\_top                                                       & A3                                                             & P128                                                           & 0.008847471                                                    & 0.03699675                                                     & 0.000000000                                                    & 0.007030000                                                    & 0.000523528                                                   \\\\\n",
       "\t X514\\_Group1C\\_142dpi\\_LV\\_top\\_164\\_G\\_A4\\_P128.mzXML & 514                                                            & naive                                                          & 142dpi                                                         & LV\\_top                                                       & A4                                                             & P128                                                           & 0.006734363                                                    & 0.01865059                                                     & 0.000214131                                                    & 0.000000000                                                    & 0.000000000                                                   \\\\\n",
       "\t X515\\_Group1C\\_142dpi\\_LV\\_top\\_165\\_G\\_A5\\_P128.mzXML & 515                                                            & naive                                                          & 142dpi                                                         & LV\\_top                                                       & A5                                                             & P128                                                           & 0.012388772                                                    & 0.03474977                                                     & 0.000635973                                                    & 0.006520000                                                    & 0.000621587                                                   \\\\\n",
       "\t X531\\_Group1C\\_142dpi\\_LV\\_top\\_166\\_G\\_A6\\_P128.mzXML & 531                                                            & naive                                                          & 142dpi                                                         & LV\\_top                                                       & A6                                                             & P128                                                           & 0.012357413                                                    & 0.03113655                                                     & 0.000643272                                                    & 0.007864901                                                    & 0.000467785                                                   \\\\\n",
       "\\end{tabular}\n"
      ],
      "text/markdown": [
       "\n",
       "| filename | MouseID | Treatmentgroup | DPI | organ | well_position | plate | mass_400 | mass_500 | mass_600 | mass_700 | mass_800 |\n",
       "|---|---|---|---|---|---|---|---|---|---|---|---|\n",
       "| X511_Group1C_142dpi_LV_top_161_G_A1_P128.mzXML | 511                                            | naive                                          | 142dpi                                         | LV_top                                         | A1                                             | P128                                           | 0.007457554                                    | 0.02744597                                     | 0.000521874                                    | 0.000673111                                    | 0.000000000                                    |\n",
       "| X512_Group1C_142dpi_LV_top_162_G_A2_P128.mzXML | 512                                            | naive                                          | 142dpi                                         | LV_top                                         | A2                                             | P128                                           | 0.008515695                                    | 0.02741206                                     | 0.000255829                                    | 0.000566018                                    | 0.000000000                                    |\n",
       "| X513_Group1C_142dpi_LV_top_163_G_A3_P128.mzXML | 513                                            | naive                                          | 142dpi                                         | LV_top                                         | A3                                             | P128                                           | 0.008847471                                    | 0.03699675                                     | 0.000000000                                    | 0.007030000                                    | 0.000523528                                    |\n",
       "| X514_Group1C_142dpi_LV_top_164_G_A4_P128.mzXML | 514                                            | naive                                          | 142dpi                                         | LV_top                                         | A4                                             | P128                                           | 0.006734363                                    | 0.01865059                                     | 0.000214131                                    | 0.000000000                                    | 0.000000000                                    |\n",
       "| X515_Group1C_142dpi_LV_top_165_G_A5_P128.mzXML | 515                                            | naive                                          | 142dpi                                         | LV_top                                         | A5                                             | P128                                           | 0.012388772                                    | 0.03474977                                     | 0.000635973                                    | 0.006520000                                    | 0.000621587                                    |\n",
       "| X531_Group1C_142dpi_LV_top_166_G_A6_P128.mzXML | 531                                            | naive                                          | 142dpi                                         | LV_top                                         | A6                                             | P128                                           | 0.012357413                                    | 0.03113655                                     | 0.000643272                                    | 0.007864901                                    | 0.000467785                                    |\n",
       "\n"
      ],
      "text/plain": [
       "  filename                                       MouseID Treatmentgroup DPI   \n",
       "1 X511_Group1C_142dpi_LV_top_161_G_A1_P128.mzXML 511     naive          142dpi\n",
       "2 X512_Group1C_142dpi_LV_top_162_G_A2_P128.mzXML 512     naive          142dpi\n",
       "3 X513_Group1C_142dpi_LV_top_163_G_A3_P128.mzXML 513     naive          142dpi\n",
       "4 X514_Group1C_142dpi_LV_top_164_G_A4_P128.mzXML 514     naive          142dpi\n",
       "5 X515_Group1C_142dpi_LV_top_165_G_A5_P128.mzXML 515     naive          142dpi\n",
       "6 X531_Group1C_142dpi_LV_top_166_G_A6_P128.mzXML 531     naive          142dpi\n",
       "  organ  well_position plate mass_400    mass_500   mass_600    mass_700   \n",
       "1 LV_top A1            P128  0.007457554 0.02744597 0.000521874 0.000673111\n",
       "2 LV_top A2            P128  0.008515695 0.02741206 0.000255829 0.000566018\n",
       "3 LV_top A3            P128  0.008847471 0.03699675 0.000000000 0.007030000\n",
       "4 LV_top A4            P128  0.006734363 0.01865059 0.000214131 0.000000000\n",
       "5 LV_top A5            P128  0.012388772 0.03474977 0.000635973 0.006520000\n",
       "6 LV_top A6            P128  0.012357413 0.03113655 0.000643272 0.007864901\n",
       "  mass_800   \n",
       "1 0.000000000\n",
       "2 0.000000000\n",
       "3 0.000523528\n",
       "4 0.000000000\n",
       "5 0.000621587\n",
       "6 0.000467785"
      ]
     },
     "metadata": {},
     "output_type": "display_data"
    },
    {
     "data": {
      "text/html": [
       "<ol class=list-inline>\n",
       "\t<li>60</li>\n",
       "\t<li>12</li>\n",
       "</ol>\n"
      ],
      "text/latex": [
       "\\begin{enumerate*}\n",
       "\\item 60\n",
       "\\item 12\n",
       "\\end{enumerate*}\n"
      ],
      "text/markdown": [
       "1. 60\n",
       "2. 12\n",
       "\n",
       "\n"
      ],
      "text/plain": [
       "[1] 60 12"
      ]
     },
     "metadata": {},
     "output_type": "display_data"
    }
   ],
   "source": [
    "head(a)\n",
    "dim(a)"
   ]
  },
  {
   "cell_type": "code",
   "execution_count": 3,
   "metadata": {},
   "outputs": [
    {
     "data": {
      "text/html": [
       "<table>\n",
       "<thead><tr><th></th><th scope=col>filename</th><th scope=col>MouseID</th><th scope=col>Treatmentgroup</th><th scope=col>DPI</th><th scope=col>organ</th><th scope=col>well_position</th><th scope=col>plate</th><th scope=col>mass_400</th><th scope=col>mass_500</th><th scope=col>mass_600</th><th scope=col>mass_700</th><th scope=col>mass_800</th></tr></thead>\n",
       "<tbody>\n",
       "\t<tr><th scope=row>16</th><td>X581_Group3E_142dpi_LV_top_176_G_B4_P128.mzXML</td><td>581                                           </td><td>infected                                      </td><td>142dpi                                        </td><td>LV_top                                        </td><td>B4                                            </td><td>P128                                          </td><td>0.007706250                                   </td><td>0.030149069                                   </td><td>0.000641527                                   </td><td>0.010259495                                   </td><td>0.001126260                                   </td></tr>\n",
       "\t<tr><th scope=row>17</th><td>X582_Group3E_142dpi_LV_top_177_G_B5_P128.mzXML</td><td>582                                           </td><td>infected                                      </td><td>142dpi                                        </td><td>LV_top                                        </td><td>B5                                            </td><td>P128                                          </td><td>0.007974369                                   </td><td>0.025127976                                   </td><td>0.000396005                                   </td><td>0.003305871                                   </td><td>0.000477912                                   </td></tr>\n",
       "\t<tr><th scope=row>18</th><td>X583_Group3E_142dpi_LV_top_178_G_B6_P128.mzXML</td><td>583                                           </td><td>infected                                      </td><td>142dpi                                        </td><td>LV_top                                        </td><td>B6                                            </td><td>P128                                          </td><td>0.011100987                                   </td><td>0.040626484                                   </td><td>0.000387360                                   </td><td>0.006965201                                   </td><td>0.000000000                                   </td></tr>\n",
       "\t<tr><th scope=row>19</th><td>X584_Group3E_142dpi_LV_top_179_G_B7_P128.mzXML</td><td>584                                           </td><td>infected                                      </td><td>142dpi                                        </td><td>LV_top                                        </td><td>B7                                            </td><td>P128                                          </td><td>0.001920445                                   </td><td>0.004590532                                   </td><td>0.000160346                                   </td><td>0.000716275                                   </td><td>0.000000000                                   </td></tr>\n",
       "\t<tr><th scope=row>20</th><td>X585_Group3E_142dpi_LV_top_180_G_B8_P128.mzXML</td><td>585                                           </td><td>infected                                      </td><td>142dpi                                        </td><td>LV_top                                        </td><td>B8                                            </td><td>P128                                          </td><td>0.005807323                                   </td><td>0.023900000                                   </td><td>0.000553334                                   </td><td>0.005300800                                   </td><td>0.000258538                                   </td></tr>\n",
       "\t<tr><th scope=row>21</th><td>X611_Group9_142dpi_LV_top_181_G_B9_P128.mzXML </td><td>611                                           </td><td>combo                                         </td><td>142dpi                                        </td><td>LV_top                                        </td><td>B9                                            </td><td>P128                                          </td><td>0.006243760                                   </td><td>0.030362286                                   </td><td>0.000331154                                   </td><td>0.003441070                                   </td><td>0.000859417                                   </td></tr>\n",
       "</tbody>\n",
       "</table>\n"
      ],
      "text/latex": [
       "\\begin{tabular}{r|llllllllllll}\n",
       "  & filename & MouseID & Treatmentgroup & DPI & organ & well\\_position & plate & mass\\_400 & mass\\_500 & mass\\_600 & mass\\_700 & mass\\_800\\\\\n",
       "\\hline\n",
       "\t16 & X581\\_Group3E\\_142dpi\\_LV\\_top\\_176\\_G\\_B4\\_P128.mzXML & 581                                                            & infected                                                       & 142dpi                                                         & LV\\_top                                                       & B4                                                             & P128                                                           & 0.007706250                                                    & 0.030149069                                                    & 0.000641527                                                    & 0.010259495                                                    & 0.001126260                                                   \\\\\n",
       "\t17 & X582\\_Group3E\\_142dpi\\_LV\\_top\\_177\\_G\\_B5\\_P128.mzXML & 582                                                            & infected                                                       & 142dpi                                                         & LV\\_top                                                       & B5                                                             & P128                                                           & 0.007974369                                                    & 0.025127976                                                    & 0.000396005                                                    & 0.003305871                                                    & 0.000477912                                                   \\\\\n",
       "\t18 & X583\\_Group3E\\_142dpi\\_LV\\_top\\_178\\_G\\_B6\\_P128.mzXML & 583                                                            & infected                                                       & 142dpi                                                         & LV\\_top                                                       & B6                                                             & P128                                                           & 0.011100987                                                    & 0.040626484                                                    & 0.000387360                                                    & 0.006965201                                                    & 0.000000000                                                   \\\\\n",
       "\t19 & X584\\_Group3E\\_142dpi\\_LV\\_top\\_179\\_G\\_B7\\_P128.mzXML & 584                                                            & infected                                                       & 142dpi                                                         & LV\\_top                                                       & B7                                                             & P128                                                           & 0.001920445                                                    & 0.004590532                                                    & 0.000160346                                                    & 0.000716275                                                    & 0.000000000                                                   \\\\\n",
       "\t20 & X585\\_Group3E\\_142dpi\\_LV\\_top\\_180\\_G\\_B8\\_P128.mzXML & 585                                                            & infected                                                       & 142dpi                                                         & LV\\_top                                                       & B8                                                             & P128                                                           & 0.005807323                                                    & 0.023900000                                                    & 0.000553334                                                    & 0.005300800                                                    & 0.000258538                                                   \\\\\n",
       "\t21 & X611\\_Group9\\_142dpi\\_LV\\_top\\_181\\_G\\_B9\\_P128.mzXML  & 611                                                            & combo                                                          & 142dpi                                                         & LV\\_top                                                       & B9                                                             & P128                                                           & 0.006243760                                                    & 0.030362286                                                    & 0.000331154                                                    & 0.003441070                                                    & 0.000859417                                                   \\\\\n",
       "\\end{tabular}\n"
      ],
      "text/markdown": [
       "\n",
       "| <!--/--> | filename | MouseID | Treatmentgroup | DPI | organ | well_position | plate | mass_400 | mass_500 | mass_600 | mass_700 | mass_800 |\n",
       "|---|---|---|---|---|---|---|---|---|---|---|---|---|\n",
       "| 16 | X581_Group3E_142dpi_LV_top_176_G_B4_P128.mzXML | 581                                            | infected                                       | 142dpi                                         | LV_top                                         | B4                                             | P128                                           | 0.007706250                                    | 0.030149069                                    | 0.000641527                                    | 0.010259495                                    | 0.001126260                                    |\n",
       "| 17 | X582_Group3E_142dpi_LV_top_177_G_B5_P128.mzXML | 582                                            | infected                                       | 142dpi                                         | LV_top                                         | B5                                             | P128                                           | 0.007974369                                    | 0.025127976                                    | 0.000396005                                    | 0.003305871                                    | 0.000477912                                    |\n",
       "| 18 | X583_Group3E_142dpi_LV_top_178_G_B6_P128.mzXML | 583                                            | infected                                       | 142dpi                                         | LV_top                                         | B6                                             | P128                                           | 0.011100987                                    | 0.040626484                                    | 0.000387360                                    | 0.006965201                                    | 0.000000000                                    |\n",
       "| 19 | X584_Group3E_142dpi_LV_top_179_G_B7_P128.mzXML | 584                                            | infected                                       | 142dpi                                         | LV_top                                         | B7                                             | P128                                           | 0.001920445                                    | 0.004590532                                    | 0.000160346                                    | 0.000716275                                    | 0.000000000                                    |\n",
       "| 20 | X585_Group3E_142dpi_LV_top_180_G_B8_P128.mzXML | 585                                            | infected                                       | 142dpi                                         | LV_top                                         | B8                                             | P128                                           | 0.005807323                                    | 0.023900000                                    | 0.000553334                                    | 0.005300800                                    | 0.000258538                                    |\n",
       "| 21 | X611_Group9_142dpi_LV_top_181_G_B9_P128.mzXML  | 611                                            | combo                                          | 142dpi                                         | LV_top                                         | B9                                             | P128                                           | 0.006243760                                    | 0.030362286                                    | 0.000331154                                    | 0.003441070                                    | 0.000859417                                    |\n",
       "\n"
      ],
      "text/plain": [
       "   filename                                       MouseID Treatmentgroup DPI   \n",
       "16 X581_Group3E_142dpi_LV_top_176_G_B4_P128.mzXML 581     infected       142dpi\n",
       "17 X582_Group3E_142dpi_LV_top_177_G_B5_P128.mzXML 582     infected       142dpi\n",
       "18 X583_Group3E_142dpi_LV_top_178_G_B6_P128.mzXML 583     infected       142dpi\n",
       "19 X584_Group3E_142dpi_LV_top_179_G_B7_P128.mzXML 584     infected       142dpi\n",
       "20 X585_Group3E_142dpi_LV_top_180_G_B8_P128.mzXML 585     infected       142dpi\n",
       "21 X611_Group9_142dpi_LV_top_181_G_B9_P128.mzXML  611     combo          142dpi\n",
       "   organ  well_position plate mass_400    mass_500    mass_600    mass_700   \n",
       "16 LV_top B4            P128  0.007706250 0.030149069 0.000641527 0.010259495\n",
       "17 LV_top B5            P128  0.007974369 0.025127976 0.000396005 0.003305871\n",
       "18 LV_top B6            P128  0.011100987 0.040626484 0.000387360 0.006965201\n",
       "19 LV_top B7            P128  0.001920445 0.004590532 0.000160346 0.000716275\n",
       "20 LV_top B8            P128  0.005807323 0.023900000 0.000553334 0.005300800\n",
       "21 LV_top B9            P128  0.006243760 0.030362286 0.000331154 0.003441070\n",
       "   mass_800   \n",
       "16 0.001126260\n",
       "17 0.000477912\n",
       "18 0.000000000\n",
       "19 0.000000000\n",
       "20 0.000258538\n",
       "21 0.000859417"
      ]
     },
     "metadata": {},
     "output_type": "display_data"
    },
    {
     "data": {
      "text/html": [
       "<ol class=list-inline>\n",
       "\t<li>30</li>\n",
       "\t<li>12</li>\n",
       "</ol>\n"
      ],
      "text/latex": [
       "\\begin{enumerate*}\n",
       "\\item 30\n",
       "\\item 12\n",
       "\\end{enumerate*}\n"
      ],
      "text/markdown": [
       "1. 30\n",
       "2. 12\n",
       "\n",
       "\n"
      ],
      "text/plain": [
       "[1] 30 12"
      ]
     },
     "metadata": {},
     "output_type": "display_data"
    }
   ],
   "source": [
    "features_pos<-droplevels(subset(a, a$Treatmentgroup==c(\"infected\")|a$Treatmentgroup==c(\"combo\")))\n",
    "head(features_pos)\n",
    "dim(features_pos)"
   ]
  },
  {
   "cell_type": "code",
   "execution_count": 4,
   "metadata": {
    "scrolled": false
   },
   "outputs": [
    {
     "data": {
      "text/html": [
       "<table>\n",
       "<thead><tr><th></th><th scope=col>mass_400</th><th scope=col>mass_500</th><th scope=col>mass_600</th><th scope=col>mass_700</th><th scope=col>mass_800</th></tr></thead>\n",
       "<tbody>\n",
       "\t<tr><th scope=row>16</th><td>0.007706250</td><td>0.030149069</td><td>0.000641527</td><td>0.010259495</td><td>0.001126260</td></tr>\n",
       "\t<tr><th scope=row>17</th><td>0.007974369</td><td>0.025127976</td><td>0.000396005</td><td>0.003305871</td><td>0.000477912</td></tr>\n",
       "\t<tr><th scope=row>18</th><td>0.011100987</td><td>0.040626484</td><td>0.000387360</td><td>0.006965201</td><td>0.000000000</td></tr>\n",
       "\t<tr><th scope=row>19</th><td>0.001920445</td><td>0.004590532</td><td>0.000160346</td><td>0.000716275</td><td>0.000000000</td></tr>\n",
       "\t<tr><th scope=row>20</th><td>0.005807323</td><td>0.023900000</td><td>0.000553334</td><td>0.005300800</td><td>0.000258538</td></tr>\n",
       "\t<tr><th scope=row>21</th><td>0.006243760</td><td>0.030362286</td><td>0.000331154</td><td>0.003441070</td><td>0.000859417</td></tr>\n",
       "</tbody>\n",
       "</table>\n"
      ],
      "text/latex": [
       "\\begin{tabular}{r|lllll}\n",
       "  & mass\\_400 & mass\\_500 & mass\\_600 & mass\\_700 & mass\\_800\\\\\n",
       "\\hline\n",
       "\t16 & 0.007706250 & 0.030149069 & 0.000641527 & 0.010259495 & 0.001126260\\\\\n",
       "\t17 & 0.007974369 & 0.025127976 & 0.000396005 & 0.003305871 & 0.000477912\\\\\n",
       "\t18 & 0.011100987 & 0.040626484 & 0.000387360 & 0.006965201 & 0.000000000\\\\\n",
       "\t19 & 0.001920445 & 0.004590532 & 0.000160346 & 0.000716275 & 0.000000000\\\\\n",
       "\t20 & 0.005807323 & 0.023900000 & 0.000553334 & 0.005300800 & 0.000258538\\\\\n",
       "\t21 & 0.006243760 & 0.030362286 & 0.000331154 & 0.003441070 & 0.000859417\\\\\n",
       "\\end{tabular}\n"
      ],
      "text/markdown": [
       "\n",
       "| <!--/--> | mass_400 | mass_500 | mass_600 | mass_700 | mass_800 |\n",
       "|---|---|---|---|---|---|\n",
       "| 16 | 0.007706250 | 0.030149069 | 0.000641527 | 0.010259495 | 0.001126260 |\n",
       "| 17 | 0.007974369 | 0.025127976 | 0.000396005 | 0.003305871 | 0.000477912 |\n",
       "| 18 | 0.011100987 | 0.040626484 | 0.000387360 | 0.006965201 | 0.000000000 |\n",
       "| 19 | 0.001920445 | 0.004590532 | 0.000160346 | 0.000716275 | 0.000000000 |\n",
       "| 20 | 0.005807323 | 0.023900000 | 0.000553334 | 0.005300800 | 0.000258538 |\n",
       "| 21 | 0.006243760 | 0.030362286 | 0.000331154 | 0.003441070 | 0.000859417 |\n",
       "\n"
      ],
      "text/plain": [
       "   mass_400    mass_500    mass_600    mass_700    mass_800   \n",
       "16 0.007706250 0.030149069 0.000641527 0.010259495 0.001126260\n",
       "17 0.007974369 0.025127976 0.000396005 0.003305871 0.000477912\n",
       "18 0.011100987 0.040626484 0.000387360 0.006965201 0.000000000\n",
       "19 0.001920445 0.004590532 0.000160346 0.000716275 0.000000000\n",
       "20 0.005807323 0.023900000 0.000553334 0.005300800 0.000258538\n",
       "21 0.006243760 0.030362286 0.000331154 0.003441070 0.000859417"
      ]
     },
     "metadata": {},
     "output_type": "display_data"
    },
    {
     "data": {
      "text/html": [
       "<dl class=dl-horizontal>\n",
       "\t<dt>mass_400</dt>\n",
       "\t\t<dd>1</dd>\n",
       "\t<dt>mass_500</dt>\n",
       "\t\t<dd>2</dd>\n",
       "\t<dt>mass_600</dt>\n",
       "\t\t<dd>3</dd>\n",
       "\t<dt>mass_700</dt>\n",
       "\t\t<dd>4</dd>\n",
       "\t<dt>mass_800</dt>\n",
       "\t\t<dd>5</dd>\n",
       "</dl>\n"
      ],
      "text/latex": [
       "\\begin{description*}\n",
       "\\item[mass\\textbackslash{}\\_400] 1\n",
       "\\item[mass\\textbackslash{}\\_500] 2\n",
       "\\item[mass\\textbackslash{}\\_600] 3\n",
       "\\item[mass\\textbackslash{}\\_700] 4\n",
       "\\item[mass\\textbackslash{}\\_800] 5\n",
       "\\end{description*}\n"
      ],
      "text/markdown": [
       "mass_400\n",
       ":   1mass_500\n",
       ":   2mass_600\n",
       ":   3mass_700\n",
       ":   4mass_800\n",
       ":   5\n",
       "\n"
      ],
      "text/plain": [
       "mass_400 mass_500 mass_600 mass_700 mass_800 \n",
       "       1        2        3        4        5 "
      ]
     },
     "metadata": {},
     "output_type": "display_data"
    },
    {
     "data": {
      "text/html": [
       "<table>\n",
       "<thead><tr><th></th><th scope=col>mass_400</th><th scope=col>mass_500</th><th scope=col>mass_600</th><th scope=col>mass_700</th><th scope=col>mass_800</th></tr></thead>\n",
       "<tbody>\n",
       "\t<tr><th scope=row>16</th><td>0.007706250</td><td>0.030149069</td><td>0.000641527</td><td>0.010259495</td><td>0.001126260</td></tr>\n",
       "\t<tr><th scope=row>17</th><td>0.007974369</td><td>0.025127976</td><td>0.000396005</td><td>0.003305871</td><td>0.000477912</td></tr>\n",
       "\t<tr><th scope=row>18</th><td>0.011100987</td><td>0.040626484</td><td>0.000387360</td><td>0.006965201</td><td>0.000000000</td></tr>\n",
       "\t<tr><th scope=row>19</th><td>0.001920445</td><td>0.004590532</td><td>0.000160346</td><td>0.000716275</td><td>0.000000000</td></tr>\n",
       "\t<tr><th scope=row>20</th><td>0.005807323</td><td>0.023900000</td><td>0.000553334</td><td>0.005300800</td><td>0.000258538</td></tr>\n",
       "\t<tr><th scope=row>21</th><td>0.006243760</td><td>0.030362286</td><td>0.000331154</td><td>0.003441070</td><td>0.000859417</td></tr>\n",
       "\t<tr><th scope=row>22</th><td>0.005234528</td><td>0.023976610</td><td>0.000048000</td><td>0.000000000</td><td>0.000000000</td></tr>\n",
       "\t<tr><th scope=row>23</th><td>0.009664593</td><td>0.024512572</td><td>0.000176687</td><td>0.001891457</td><td>0.000128239</td></tr>\n",
       "\t<tr><th scope=row>24</th><td>0.006482640</td><td>0.021100000</td><td>0.000488605</td><td>0.000470912</td><td>0.000000000</td></tr>\n",
       "\t<tr><th scope=row>25</th><td>0.005064922</td><td>0.020300000</td><td>0.000374310</td><td>0.006426943</td><td>0.000572521</td></tr>\n",
       "\t<tr><th scope=row>31</th><td>0.007239937</td><td>0.029319686</td><td>0.000424000</td><td>0.018118516</td><td>0.000945717</td></tr>\n",
       "\t<tr><th scope=row>32</th><td>0.008683059</td><td>0.038499006</td><td>0.000275666</td><td>0.004189625</td><td>0.000782938</td></tr>\n",
       "\t<tr><th scope=row>33</th><td>0.007004080</td><td>0.027714844</td><td>0.000000000</td><td>0.003139064</td><td>0.000000000</td></tr>\n",
       "\t<tr><th scope=row>34</th><td>0.002272943</td><td>0.005562702</td><td>0.000325345</td><td>0.001800000</td><td>0.000051500</td></tr>\n",
       "\t<tr><th scope=row>35</th><td>0.002018378</td><td>0.008356147</td><td>0.000044200</td><td>0.000000000</td><td>0.000000000</td></tr>\n",
       "\t<tr><th scope=row>36</th><td>0.006367099</td><td>0.017681215</td><td>0.000231809</td><td>0.001947490</td><td>0.000146315</td></tr>\n",
       "\t<tr><th scope=row>37</th><td>0.002399353</td><td>0.005750000</td><td>0.000291966</td><td>0.002698221</td><td>0.000000000</td></tr>\n",
       "\t<tr><th scope=row>38</th><td>0.006393058</td><td>0.024657939</td><td>0.000140195</td><td>0.000879214</td><td>0.000000000</td></tr>\n",
       "\t<tr><th scope=row>39</th><td>0.004417419</td><td>0.025985920</td><td>0.000143508</td><td>0.013600000</td><td>0.002311562</td></tr>\n",
       "\t<tr><th scope=row>40</th><td>0.011183880</td><td>0.032706861</td><td>0.000812960</td><td>0.016400000</td><td>0.000436279</td></tr>\n",
       "\t<tr><th scope=row>46</th><td>0.005862788</td><td>0.025648657</td><td>0.000233532</td><td>0.005367512</td><td>0.000049700</td></tr>\n",
       "\t<tr><th scope=row>47</th><td>0.008955573</td><td>0.031359081</td><td>0.000173171</td><td>0.002790791</td><td>0.000000000</td></tr>\n",
       "\t<tr><th scope=row>48</th><td>0.004807144</td><td>0.023273240</td><td>0.000125781</td><td>0.018532792</td><td>0.000758280</td></tr>\n",
       "\t<tr><th scope=row>49</th><td>0.006608647</td><td>0.020718858</td><td>0.000805279</td><td>0.001560383</td><td>0.000000000</td></tr>\n",
       "\t<tr><th scope=row>50</th><td>0.002100443</td><td>0.007590000</td><td>0.000482242</td><td>0.010474670</td><td>0.001108683</td></tr>\n",
       "\t<tr><th scope=row>51</th><td>0.001330723</td><td>0.004590000</td><td>0.000153607</td><td>0.001698120</td><td>0.000190696</td></tr>\n",
       "\t<tr><th scope=row>52</th><td>0.001984121</td><td>0.007520000</td><td>0.000186044</td><td>0.000890778</td><td>0.000326271</td></tr>\n",
       "\t<tr><th scope=row>53</th><td>0.003848343</td><td>0.007871020</td><td>0.000274015</td><td>0.005355796</td><td>0.000281382</td></tr>\n",
       "\t<tr><th scope=row>54</th><td>0.008439803</td><td>0.031820141</td><td>0.000229809</td><td>0.003210000</td><td>0.000145121</td></tr>\n",
       "\t<tr><th scope=row>55</th><td>0.012026823</td><td>0.029775981</td><td>0.000290526</td><td>0.018035514</td><td>0.001581852</td></tr>\n",
       "</tbody>\n",
       "</table>\n"
      ],
      "text/latex": [
       "\\begin{tabular}{r|lllll}\n",
       "  & mass\\_400 & mass\\_500 & mass\\_600 & mass\\_700 & mass\\_800\\\\\n",
       "\\hline\n",
       "\t16 & 0.007706250 & 0.030149069 & 0.000641527 & 0.010259495 & 0.001126260\\\\\n",
       "\t17 & 0.007974369 & 0.025127976 & 0.000396005 & 0.003305871 & 0.000477912\\\\\n",
       "\t18 & 0.011100987 & 0.040626484 & 0.000387360 & 0.006965201 & 0.000000000\\\\\n",
       "\t19 & 0.001920445 & 0.004590532 & 0.000160346 & 0.000716275 & 0.000000000\\\\\n",
       "\t20 & 0.005807323 & 0.023900000 & 0.000553334 & 0.005300800 & 0.000258538\\\\\n",
       "\t21 & 0.006243760 & 0.030362286 & 0.000331154 & 0.003441070 & 0.000859417\\\\\n",
       "\t22 & 0.005234528 & 0.023976610 & 0.000048000 & 0.000000000 & 0.000000000\\\\\n",
       "\t23 & 0.009664593 & 0.024512572 & 0.000176687 & 0.001891457 & 0.000128239\\\\\n",
       "\t24 & 0.006482640 & 0.021100000 & 0.000488605 & 0.000470912 & 0.000000000\\\\\n",
       "\t25 & 0.005064922 & 0.020300000 & 0.000374310 & 0.006426943 & 0.000572521\\\\\n",
       "\t31 & 0.007239937 & 0.029319686 & 0.000424000 & 0.018118516 & 0.000945717\\\\\n",
       "\t32 & 0.008683059 & 0.038499006 & 0.000275666 & 0.004189625 & 0.000782938\\\\\n",
       "\t33 & 0.007004080 & 0.027714844 & 0.000000000 & 0.003139064 & 0.000000000\\\\\n",
       "\t34 & 0.002272943 & 0.005562702 & 0.000325345 & 0.001800000 & 0.000051500\\\\\n",
       "\t35 & 0.002018378 & 0.008356147 & 0.000044200 & 0.000000000 & 0.000000000\\\\\n",
       "\t36 & 0.006367099 & 0.017681215 & 0.000231809 & 0.001947490 & 0.000146315\\\\\n",
       "\t37 & 0.002399353 & 0.005750000 & 0.000291966 & 0.002698221 & 0.000000000\\\\\n",
       "\t38 & 0.006393058 & 0.024657939 & 0.000140195 & 0.000879214 & 0.000000000\\\\\n",
       "\t39 & 0.004417419 & 0.025985920 & 0.000143508 & 0.013600000 & 0.002311562\\\\\n",
       "\t40 & 0.011183880 & 0.032706861 & 0.000812960 & 0.016400000 & 0.000436279\\\\\n",
       "\t46 & 0.005862788 & 0.025648657 & 0.000233532 & 0.005367512 & 0.000049700\\\\\n",
       "\t47 & 0.008955573 & 0.031359081 & 0.000173171 & 0.002790791 & 0.000000000\\\\\n",
       "\t48 & 0.004807144 & 0.023273240 & 0.000125781 & 0.018532792 & 0.000758280\\\\\n",
       "\t49 & 0.006608647 & 0.020718858 & 0.000805279 & 0.001560383 & 0.000000000\\\\\n",
       "\t50 & 0.002100443 & 0.007590000 & 0.000482242 & 0.010474670 & 0.001108683\\\\\n",
       "\t51 & 0.001330723 & 0.004590000 & 0.000153607 & 0.001698120 & 0.000190696\\\\\n",
       "\t52 & 0.001984121 & 0.007520000 & 0.000186044 & 0.000890778 & 0.000326271\\\\\n",
       "\t53 & 0.003848343 & 0.007871020 & 0.000274015 & 0.005355796 & 0.000281382\\\\\n",
       "\t54 & 0.008439803 & 0.031820141 & 0.000229809 & 0.003210000 & 0.000145121\\\\\n",
       "\t55 & 0.012026823 & 0.029775981 & 0.000290526 & 0.018035514 & 0.001581852\\\\\n",
       "\\end{tabular}\n"
      ],
      "text/markdown": [
       "\n",
       "| <!--/--> | mass_400 | mass_500 | mass_600 | mass_700 | mass_800 |\n",
       "|---|---|---|---|---|---|\n",
       "| 16 | 0.007706250 | 0.030149069 | 0.000641527 | 0.010259495 | 0.001126260 |\n",
       "| 17 | 0.007974369 | 0.025127976 | 0.000396005 | 0.003305871 | 0.000477912 |\n",
       "| 18 | 0.011100987 | 0.040626484 | 0.000387360 | 0.006965201 | 0.000000000 |\n",
       "| 19 | 0.001920445 | 0.004590532 | 0.000160346 | 0.000716275 | 0.000000000 |\n",
       "| 20 | 0.005807323 | 0.023900000 | 0.000553334 | 0.005300800 | 0.000258538 |\n",
       "| 21 | 0.006243760 | 0.030362286 | 0.000331154 | 0.003441070 | 0.000859417 |\n",
       "| 22 | 0.005234528 | 0.023976610 | 0.000048000 | 0.000000000 | 0.000000000 |\n",
       "| 23 | 0.009664593 | 0.024512572 | 0.000176687 | 0.001891457 | 0.000128239 |\n",
       "| 24 | 0.006482640 | 0.021100000 | 0.000488605 | 0.000470912 | 0.000000000 |\n",
       "| 25 | 0.005064922 | 0.020300000 | 0.000374310 | 0.006426943 | 0.000572521 |\n",
       "| 31 | 0.007239937 | 0.029319686 | 0.000424000 | 0.018118516 | 0.000945717 |\n",
       "| 32 | 0.008683059 | 0.038499006 | 0.000275666 | 0.004189625 | 0.000782938 |\n",
       "| 33 | 0.007004080 | 0.027714844 | 0.000000000 | 0.003139064 | 0.000000000 |\n",
       "| 34 | 0.002272943 | 0.005562702 | 0.000325345 | 0.001800000 | 0.000051500 |\n",
       "| 35 | 0.002018378 | 0.008356147 | 0.000044200 | 0.000000000 | 0.000000000 |\n",
       "| 36 | 0.006367099 | 0.017681215 | 0.000231809 | 0.001947490 | 0.000146315 |\n",
       "| 37 | 0.002399353 | 0.005750000 | 0.000291966 | 0.002698221 | 0.000000000 |\n",
       "| 38 | 0.006393058 | 0.024657939 | 0.000140195 | 0.000879214 | 0.000000000 |\n",
       "| 39 | 0.004417419 | 0.025985920 | 0.000143508 | 0.013600000 | 0.002311562 |\n",
       "| 40 | 0.011183880 | 0.032706861 | 0.000812960 | 0.016400000 | 0.000436279 |\n",
       "| 46 | 0.005862788 | 0.025648657 | 0.000233532 | 0.005367512 | 0.000049700 |\n",
       "| 47 | 0.008955573 | 0.031359081 | 0.000173171 | 0.002790791 | 0.000000000 |\n",
       "| 48 | 0.004807144 | 0.023273240 | 0.000125781 | 0.018532792 | 0.000758280 |\n",
       "| 49 | 0.006608647 | 0.020718858 | 0.000805279 | 0.001560383 | 0.000000000 |\n",
       "| 50 | 0.002100443 | 0.007590000 | 0.000482242 | 0.010474670 | 0.001108683 |\n",
       "| 51 | 0.001330723 | 0.004590000 | 0.000153607 | 0.001698120 | 0.000190696 |\n",
       "| 52 | 0.001984121 | 0.007520000 | 0.000186044 | 0.000890778 | 0.000326271 |\n",
       "| 53 | 0.003848343 | 0.007871020 | 0.000274015 | 0.005355796 | 0.000281382 |\n",
       "| 54 | 0.008439803 | 0.031820141 | 0.000229809 | 0.003210000 | 0.000145121 |\n",
       "| 55 | 0.012026823 | 0.029775981 | 0.000290526 | 0.018035514 | 0.001581852 |\n",
       "\n"
      ],
      "text/plain": [
       "   mass_400    mass_500    mass_600    mass_700    mass_800   \n",
       "16 0.007706250 0.030149069 0.000641527 0.010259495 0.001126260\n",
       "17 0.007974369 0.025127976 0.000396005 0.003305871 0.000477912\n",
       "18 0.011100987 0.040626484 0.000387360 0.006965201 0.000000000\n",
       "19 0.001920445 0.004590532 0.000160346 0.000716275 0.000000000\n",
       "20 0.005807323 0.023900000 0.000553334 0.005300800 0.000258538\n",
       "21 0.006243760 0.030362286 0.000331154 0.003441070 0.000859417\n",
       "22 0.005234528 0.023976610 0.000048000 0.000000000 0.000000000\n",
       "23 0.009664593 0.024512572 0.000176687 0.001891457 0.000128239\n",
       "24 0.006482640 0.021100000 0.000488605 0.000470912 0.000000000\n",
       "25 0.005064922 0.020300000 0.000374310 0.006426943 0.000572521\n",
       "31 0.007239937 0.029319686 0.000424000 0.018118516 0.000945717\n",
       "32 0.008683059 0.038499006 0.000275666 0.004189625 0.000782938\n",
       "33 0.007004080 0.027714844 0.000000000 0.003139064 0.000000000\n",
       "34 0.002272943 0.005562702 0.000325345 0.001800000 0.000051500\n",
       "35 0.002018378 0.008356147 0.000044200 0.000000000 0.000000000\n",
       "36 0.006367099 0.017681215 0.000231809 0.001947490 0.000146315\n",
       "37 0.002399353 0.005750000 0.000291966 0.002698221 0.000000000\n",
       "38 0.006393058 0.024657939 0.000140195 0.000879214 0.000000000\n",
       "39 0.004417419 0.025985920 0.000143508 0.013600000 0.002311562\n",
       "40 0.011183880 0.032706861 0.000812960 0.016400000 0.000436279\n",
       "46 0.005862788 0.025648657 0.000233532 0.005367512 0.000049700\n",
       "47 0.008955573 0.031359081 0.000173171 0.002790791 0.000000000\n",
       "48 0.004807144 0.023273240 0.000125781 0.018532792 0.000758280\n",
       "49 0.006608647 0.020718858 0.000805279 0.001560383 0.000000000\n",
       "50 0.002100443 0.007590000 0.000482242 0.010474670 0.001108683\n",
       "51 0.001330723 0.004590000 0.000153607 0.001698120 0.000190696\n",
       "52 0.001984121 0.007520000 0.000186044 0.000890778 0.000326271\n",
       "53 0.003848343 0.007871020 0.000274015 0.005355796 0.000281382\n",
       "54 0.008439803 0.031820141 0.000229809 0.003210000 0.000145121\n",
       "55 0.012026823 0.029775981 0.000290526 0.018035514 0.001581852"
      ]
     },
     "metadata": {},
     "output_type": "display_data"
    },
    {
     "data": {
      "text/html": [
       "<table>\n",
       "<thead><tr><th></th><th scope=col>filename</th><th scope=col>MouseID</th><th scope=col>Treatmentgroup</th><th scope=col>DPI</th><th scope=col>organ</th><th scope=col>well_position</th><th scope=col>plate</th><th scope=col>mass_400</th><th scope=col>mass_500</th><th scope=col>mass_600</th><th scope=col>mass_700</th><th scope=col>mass_800</th></tr></thead>\n",
       "<tbody>\n",
       "\t<tr><th scope=row>16</th><td>X581_Group3E_142dpi_LV_top_176_G_B4_P128.mzXML</td><td>581                                           </td><td>infected                                      </td><td>142dpi                                        </td><td>LV_top                                        </td><td>B4                                            </td><td>P128                                          </td><td>0.007706250                                   </td><td>0.030149069                                   </td><td>0.000641527                                   </td><td>0.010259495                                   </td><td>0.001126260                                   </td></tr>\n",
       "\t<tr><th scope=row>17</th><td>X582_Group3E_142dpi_LV_top_177_G_B5_P128.mzXML</td><td>582                                           </td><td>infected                                      </td><td>142dpi                                        </td><td>LV_top                                        </td><td>B5                                            </td><td>P128                                          </td><td>0.007974369                                   </td><td>0.025127976                                   </td><td>0.000396005                                   </td><td>0.003305871                                   </td><td>0.000477912                                   </td></tr>\n",
       "\t<tr><th scope=row>18</th><td>X583_Group3E_142dpi_LV_top_178_G_B6_P128.mzXML</td><td>583                                           </td><td>infected                                      </td><td>142dpi                                        </td><td>LV_top                                        </td><td>B6                                            </td><td>P128                                          </td><td>0.011100987                                   </td><td>0.040626484                                   </td><td>0.000387360                                   </td><td>0.006965201                                   </td><td>0.000000000                                   </td></tr>\n",
       "\t<tr><th scope=row>19</th><td>X584_Group3E_142dpi_LV_top_179_G_B7_P128.mzXML</td><td>584                                           </td><td>infected                                      </td><td>142dpi                                        </td><td>LV_top                                        </td><td>B7                                            </td><td>P128                                          </td><td>0.001920445                                   </td><td>0.004590532                                   </td><td>0.000160346                                   </td><td>0.000716275                                   </td><td>0.000000000                                   </td></tr>\n",
       "\t<tr><th scope=row>20</th><td>X585_Group3E_142dpi_LV_top_180_G_B8_P128.mzXML</td><td>585                                           </td><td>infected                                      </td><td>142dpi                                        </td><td>LV_top                                        </td><td>B8                                            </td><td>P128                                          </td><td>0.005807323                                   </td><td>0.023900000                                   </td><td>0.000553334                                   </td><td>0.005300800                                   </td><td>0.000258538                                   </td></tr>\n",
       "\t<tr><th scope=row>21</th><td>X611_Group9_142dpi_LV_top_181_G_B9_P128.mzXML </td><td>611                                           </td><td>combo                                         </td><td>142dpi                                        </td><td>LV_top                                        </td><td>B9                                            </td><td>P128                                          </td><td>0.006243760                                   </td><td>0.030362286                                   </td><td>0.000331154                                   </td><td>0.003441070                                   </td><td>0.000859417                                   </td></tr>\n",
       "</tbody>\n",
       "</table>\n"
      ],
      "text/latex": [
       "\\begin{tabular}{r|llllllllllll}\n",
       "  & filename & MouseID & Treatmentgroup & DPI & organ & well\\_position & plate & mass\\_400 & mass\\_500 & mass\\_600 & mass\\_700 & mass\\_800\\\\\n",
       "\\hline\n",
       "\t16 & X581\\_Group3E\\_142dpi\\_LV\\_top\\_176\\_G\\_B4\\_P128.mzXML & 581                                                            & infected                                                       & 142dpi                                                         & LV\\_top                                                       & B4                                                             & P128                                                           & 0.007706250                                                    & 0.030149069                                                    & 0.000641527                                                    & 0.010259495                                                    & 0.001126260                                                   \\\\\n",
       "\t17 & X582\\_Group3E\\_142dpi\\_LV\\_top\\_177\\_G\\_B5\\_P128.mzXML & 582                                                            & infected                                                       & 142dpi                                                         & LV\\_top                                                       & B5                                                             & P128                                                           & 0.007974369                                                    & 0.025127976                                                    & 0.000396005                                                    & 0.003305871                                                    & 0.000477912                                                   \\\\\n",
       "\t18 & X583\\_Group3E\\_142dpi\\_LV\\_top\\_178\\_G\\_B6\\_P128.mzXML & 583                                                            & infected                                                       & 142dpi                                                         & LV\\_top                                                       & B6                                                             & P128                                                           & 0.011100987                                                    & 0.040626484                                                    & 0.000387360                                                    & 0.006965201                                                    & 0.000000000                                                   \\\\\n",
       "\t19 & X584\\_Group3E\\_142dpi\\_LV\\_top\\_179\\_G\\_B7\\_P128.mzXML & 584                                                            & infected                                                       & 142dpi                                                         & LV\\_top                                                       & B7                                                             & P128                                                           & 0.001920445                                                    & 0.004590532                                                    & 0.000160346                                                    & 0.000716275                                                    & 0.000000000                                                   \\\\\n",
       "\t20 & X585\\_Group3E\\_142dpi\\_LV\\_top\\_180\\_G\\_B8\\_P128.mzXML & 585                                                            & infected                                                       & 142dpi                                                         & LV\\_top                                                       & B8                                                             & P128                                                           & 0.005807323                                                    & 0.023900000                                                    & 0.000553334                                                    & 0.005300800                                                    & 0.000258538                                                   \\\\\n",
       "\t21 & X611\\_Group9\\_142dpi\\_LV\\_top\\_181\\_G\\_B9\\_P128.mzXML  & 611                                                            & combo                                                          & 142dpi                                                         & LV\\_top                                                       & B9                                                             & P128                                                           & 0.006243760                                                    & 0.030362286                                                    & 0.000331154                                                    & 0.003441070                                                    & 0.000859417                                                   \\\\\n",
       "\\end{tabular}\n"
      ],
      "text/markdown": [
       "\n",
       "| <!--/--> | filename | MouseID | Treatmentgroup | DPI | organ | well_position | plate | mass_400 | mass_500 | mass_600 | mass_700 | mass_800 |\n",
       "|---|---|---|---|---|---|---|---|---|---|---|---|---|\n",
       "| 16 | X581_Group3E_142dpi_LV_top_176_G_B4_P128.mzXML | 581                                            | infected                                       | 142dpi                                         | LV_top                                         | B4                                             | P128                                           | 0.007706250                                    | 0.030149069                                    | 0.000641527                                    | 0.010259495                                    | 0.001126260                                    |\n",
       "| 17 | X582_Group3E_142dpi_LV_top_177_G_B5_P128.mzXML | 582                                            | infected                                       | 142dpi                                         | LV_top                                         | B5                                             | P128                                           | 0.007974369                                    | 0.025127976                                    | 0.000396005                                    | 0.003305871                                    | 0.000477912                                    |\n",
       "| 18 | X583_Group3E_142dpi_LV_top_178_G_B6_P128.mzXML | 583                                            | infected                                       | 142dpi                                         | LV_top                                         | B6                                             | P128                                           | 0.011100987                                    | 0.040626484                                    | 0.000387360                                    | 0.006965201                                    | 0.000000000                                    |\n",
       "| 19 | X584_Group3E_142dpi_LV_top_179_G_B7_P128.mzXML | 584                                            | infected                                       | 142dpi                                         | LV_top                                         | B7                                             | P128                                           | 0.001920445                                    | 0.004590532                                    | 0.000160346                                    | 0.000716275                                    | 0.000000000                                    |\n",
       "| 20 | X585_Group3E_142dpi_LV_top_180_G_B8_P128.mzXML | 585                                            | infected                                       | 142dpi                                         | LV_top                                         | B8                                             | P128                                           | 0.005807323                                    | 0.023900000                                    | 0.000553334                                    | 0.005300800                                    | 0.000258538                                    |\n",
       "| 21 | X611_Group9_142dpi_LV_top_181_G_B9_P128.mzXML  | 611                                            | combo                                          | 142dpi                                         | LV_top                                         | B9                                             | P128                                           | 0.006243760                                    | 0.030362286                                    | 0.000331154                                    | 0.003441070                                    | 0.000859417                                    |\n",
       "\n"
      ],
      "text/plain": [
       "   filename                                       MouseID Treatmentgroup DPI   \n",
       "16 X581_Group3E_142dpi_LV_top_176_G_B4_P128.mzXML 581     infected       142dpi\n",
       "17 X582_Group3E_142dpi_LV_top_177_G_B5_P128.mzXML 582     infected       142dpi\n",
       "18 X583_Group3E_142dpi_LV_top_178_G_B6_P128.mzXML 583     infected       142dpi\n",
       "19 X584_Group3E_142dpi_LV_top_179_G_B7_P128.mzXML 584     infected       142dpi\n",
       "20 X585_Group3E_142dpi_LV_top_180_G_B8_P128.mzXML 585     infected       142dpi\n",
       "21 X611_Group9_142dpi_LV_top_181_G_B9_P128.mzXML  611     combo          142dpi\n",
       "   organ  well_position plate mass_400    mass_500    mass_600    mass_700   \n",
       "16 LV_top B4            P128  0.007706250 0.030149069 0.000641527 0.010259495\n",
       "17 LV_top B5            P128  0.007974369 0.025127976 0.000396005 0.003305871\n",
       "18 LV_top B6            P128  0.011100987 0.040626484 0.000387360 0.006965201\n",
       "19 LV_top B7            P128  0.001920445 0.004590532 0.000160346 0.000716275\n",
       "20 LV_top B8            P128  0.005807323 0.023900000 0.000553334 0.005300800\n",
       "21 LV_top B9            P128  0.006243760 0.030362286 0.000331154 0.003441070\n",
       "   mass_800   \n",
       "16 0.001126260\n",
       "17 0.000477912\n",
       "18 0.000000000\n",
       "19 0.000000000\n",
       "20 0.000258538\n",
       "21 0.000859417"
      ]
     },
     "metadata": {},
     "output_type": "display_data"
    },
    {
     "data": {
      "text/html": [
       "<ol class=list-inline>\n",
       "\t<li>30</li>\n",
       "\t<li>12</li>\n",
       "</ol>\n"
      ],
      "text/latex": [
       "\\begin{enumerate*}\n",
       "\\item 30\n",
       "\\item 12\n",
       "\\end{enumerate*}\n"
      ],
      "text/markdown": [
       "1. 30\n",
       "2. 12\n",
       "\n",
       "\n"
      ],
      "text/plain": [
       "[1] 30 12"
      ]
     },
     "metadata": {},
     "output_type": "display_data"
    },
    {
     "data": {
      "text/html": [
       "<ol class=list-inline>\n",
       "\t<li>30</li>\n",
       "\t<li>5</li>\n",
       "</ol>\n"
      ],
      "text/latex": [
       "\\begin{enumerate*}\n",
       "\\item 30\n",
       "\\item 5\n",
       "\\end{enumerate*}\n"
      ],
      "text/markdown": [
       "1. 30\n",
       "2. 5\n",
       "\n",
       "\n"
      ],
      "text/plain": [
       "[1] 30  5"
      ]
     },
     "metadata": {},
     "output_type": "display_data"
    },
    {
     "data": {
      "text/html": [
       "<ol class=list-inline>\n",
       "\t<li>30</li>\n",
       "\t<li>5</li>\n",
       "</ol>\n"
      ],
      "text/latex": [
       "\\begin{enumerate*}\n",
       "\\item 30\n",
       "\\item 5\n",
       "\\end{enumerate*}\n"
      ],
      "text/markdown": [
       "1. 30\n",
       "2. 5\n",
       "\n",
       "\n"
      ],
      "text/plain": [
       "[1] 30  5"
      ]
     },
     "metadata": {},
     "output_type": "display_data"
    },
    {
     "data": {
      "text/html": [
       "<ol class=list-inline>\n",
       "\t<li>30</li>\n",
       "\t<li>12</li>\n",
       "</ol>\n"
      ],
      "text/latex": [
       "\\begin{enumerate*}\n",
       "\\item 30\n",
       "\\item 12\n",
       "\\end{enumerate*}\n"
      ],
      "text/markdown": [
       "1. 30\n",
       "2. 12\n",
       "\n",
       "\n"
      ],
      "text/plain": [
       "[1] 30 12"
      ]
     },
     "metadata": {},
     "output_type": "display_data"
    }
   ],
   "source": [
    "noMeta<-features_pos[,8:12]\n",
    "head(noMeta)\n",
    "not_zero<-which(colSums(noMeta) != 0)\n",
    "head(not_zero)\n",
    "nonzero <- noMeta[, not_zero] \n",
    "nonzero\n",
    "nonzero_wMeta<-cbind(features_pos[,1:7], nonzero)\n",
    "head(nonzero_wMeta)\n",
    "dim(features_pos)\n",
    "dim(noMeta)\n",
    "dim(nonzero)\n",
    "dim(nonzero_wMeta)"
   ]
  },
  {
   "cell_type": "code",
   "execution_count": 5,
   "metadata": {
    "scrolled": true
   },
   "outputs": [
    {
     "name": "stderr",
     "output_type": "stream",
     "text": [
      "Warning message in wilcox.test.default(x = c(0.00344107, 0, 0.001891457, 0.000470912, :\n",
      "\"cannot compute exact p-value with ties\"Warning message in wilcox.test.default(x = c(0.000859417, 0, 0.000128239, 0, 0.000572521, :\n",
      "\"cannot compute exact p-value with ties\""
     ]
    },
    {
     "data": {
      "text/html": [
       "<ol class=list-inline>\n",
       "\t<li>0.838134776780856</li>\n",
       "\t<li>0.594883930583728</li>\n",
       "\t<li>0.460958749211566</li>\n",
       "\t<li>0.395105521513812</li>\n",
       "\t<li>0.672580079617637</li>\n",
       "</ol>\n"
      ],
      "text/latex": [
       "\\begin{enumerate*}\n",
       "\\item 0.838134776780856\n",
       "\\item 0.594883930583728\n",
       "\\item 0.460958749211566\n",
       "\\item 0.395105521513812\n",
       "\\item 0.672580079617637\n",
       "\\end{enumerate*}\n"
      ],
      "text/markdown": [
       "1. 0.838134776780856\n",
       "2. 0.594883930583728\n",
       "3. 0.460958749211566\n",
       "4. 0.395105521513812\n",
       "5. 0.672580079617637\n",
       "\n",
       "\n"
      ],
      "text/plain": [
       "[1] 0.8381348 0.5948839 0.4609587 0.3951055 0.6725801"
      ]
     },
     "metadata": {},
     "output_type": "display_data"
    },
    {
     "data": {
      "text/html": [
       "<ol class=list-inline>\n",
       "\t<li>0.838134776780856</li>\n",
       "\t<li>0.838134776780856</li>\n",
       "\t<li>0.838134776780856</li>\n",
       "\t<li>0.838134776780856</li>\n",
       "\t<li>0.838134776780856</li>\n",
       "</ol>\n"
      ],
      "text/latex": [
       "\\begin{enumerate*}\n",
       "\\item 0.838134776780856\n",
       "\\item 0.838134776780856\n",
       "\\item 0.838134776780856\n",
       "\\item 0.838134776780856\n",
       "\\item 0.838134776780856\n",
       "\\end{enumerate*}\n"
      ],
      "text/markdown": [
       "1. 0.838134776780856\n",
       "2. 0.838134776780856\n",
       "3. 0.838134776780856\n",
       "4. 0.838134776780856\n",
       "5. 0.838134776780856\n",
       "\n",
       "\n"
      ],
      "text/plain": [
       "[1] 0.8381348 0.8381348 0.8381348 0.8381348 0.8381348"
      ]
     },
     "metadata": {},
     "output_type": "display_data"
    }
   ],
   "source": [
    "pval<-c()\n",
    "\n",
    "for (i in 8:ncol(nonzero_wMeta)) \n",
    "pval<-c(pval,wilcox.test(nonzero_wMeta[,i]~nonzero_wMeta$Treatmentgroup)$p.value)\n",
    "head(pval)\n",
    "pAdj <- p.adjust(pval, method = c(\"fdr\"), n=length(pval)) \n",
    "head(pAdj) \n",
    "\n"
   ]
  },
  {
   "cell_type": "code",
   "execution_count": 6,
   "metadata": {
    "scrolled": true
   },
   "outputs": [
    {
     "data": {
      "text/html": [
       "5"
      ],
      "text/latex": [
       "5"
      ],
      "text/markdown": [
       "5"
      ],
      "text/plain": [
       "[1] 5"
      ]
     },
     "metadata": {},
     "output_type": "display_data"
    }
   ],
   "source": [
    "length(pval)"
   ]
  },
  {
   "cell_type": "code",
   "execution_count": 7,
   "metadata": {
    "scrolled": true
   },
   "outputs": [
    {
     "data": {
      "text/html": [
       "5"
      ],
      "text/latex": [
       "5"
      ],
      "text/markdown": [
       "5"
      ],
      "text/plain": [
       "[1] 5"
      ]
     },
     "metadata": {},
     "output_type": "display_data"
    }
   ],
   "source": [
    "length(pAdj)"
   ]
  },
  {
   "cell_type": "code",
   "execution_count": 8,
   "metadata": {},
   "outputs": [
    {
     "data": {
      "text/html": [
       "<ol class=list-inline>\n",
       "\t<li>2</li>\n",
       "\t<li>5</li>\n",
       "</ol>\n"
      ],
      "text/latex": [
       "\\begin{enumerate*}\n",
       "\\item 2\n",
       "\\item 5\n",
       "\\end{enumerate*}\n"
      ],
      "text/markdown": [
       "1. 2\n",
       "2. 5\n",
       "\n",
       "\n"
      ],
      "text/plain": [
       "[1] 2 5"
      ]
     },
     "metadata": {},
     "output_type": "display_data"
    },
    {
     "data": {
      "text/html": [
       "<table>\n",
       "<thead><tr><th></th><th scope=col>mass_400</th><th scope=col>mass_500</th><th scope=col>mass_600</th></tr></thead>\n",
       "<tbody>\n",
       "\t<tr><th scope=row>combo</th><td>0.006072071 </td><td>0.02057404  </td><td>0.0002782130</td></tr>\n",
       "\t<tr><th scope=row>infected</th><td>0.006004158 </td><td>0.02282909  </td><td>0.0003351859</td></tr>\n",
       "</tbody>\n",
       "</table>\n"
      ],
      "text/latex": [
       "\\begin{tabular}{r|lll}\n",
       "  & mass\\_400 & mass\\_500 & mass\\_600\\\\\n",
       "\\hline\n",
       "\tcombo & 0.006072071  & 0.02057404   & 0.0002782130\\\\\n",
       "\tinfected & 0.006004158  & 0.02282909   & 0.0003351859\\\\\n",
       "\\end{tabular}\n"
      ],
      "text/markdown": [
       "\n",
       "| <!--/--> | mass_400 | mass_500 | mass_600 |\n",
       "|---|---|---|---|\n",
       "| combo | 0.006072071  | 0.02057404   | 0.0002782130 |\n",
       "| infected | 0.006004158  | 0.02282909   | 0.0003351859 |\n",
       "\n"
      ],
      "text/plain": [
       "         mass_400    mass_500   mass_600    \n",
       "combo    0.006072071 0.02057404 0.0002782130\n",
       "infected 0.006004158 0.02282909 0.0003351859"
      ]
     },
     "metadata": {},
     "output_type": "display_data"
    },
    {
     "data": {
      "text/html": [
       "<dl class=dl-horizontal>\n",
       "\t<dt>mass_400</dt>\n",
       "\t\t<dd>1.01131103972996</dd>\n",
       "\t<dt>mass_500</dt>\n",
       "\t\t<dd>0.901220347322893</dd>\n",
       "\t<dt>mass_600</dt>\n",
       "\t\t<dd>0.83002604723986</dd>\n",
       "\t<dt>mass_700</dt>\n",
       "\t\t<dd>0.831654642278761</dd>\n",
       "\t<dt>mass_800</dt>\n",
       "\t\t<dd>1.25544021003222</dd>\n",
       "</dl>\n"
      ],
      "text/latex": [
       "\\begin{description*}\n",
       "\\item[mass\\textbackslash{}\\_400] 1.01131103972996\n",
       "\\item[mass\\textbackslash{}\\_500] 0.901220347322893\n",
       "\\item[mass\\textbackslash{}\\_600] 0.83002604723986\n",
       "\\item[mass\\textbackslash{}\\_700] 0.831654642278761\n",
       "\\item[mass\\textbackslash{}\\_800] 1.25544021003222\n",
       "\\end{description*}\n"
      ],
      "text/markdown": [
       "mass_400\n",
       ":   1.01131103972996mass_500\n",
       ":   0.901220347322893mass_600\n",
       ":   0.83002604723986mass_700\n",
       ":   0.831654642278761mass_800\n",
       ":   1.25544021003222\n",
       "\n"
      ],
      "text/plain": [
       " mass_400  mass_500  mass_600  mass_700  mass_800 \n",
       "1.0113110 0.9012203 0.8300260 0.8316546 1.2554402 "
      ]
     },
     "metadata": {},
     "output_type": "display_data"
    },
    {
     "data": {
      "text/html": [
       "<ol class=list-inline>\n",
       "\t<li>'numeric'</li>\n",
       "\t<li>'vector'</li>\n",
       "</ol>\n"
      ],
      "text/latex": [
       "\\begin{enumerate*}\n",
       "\\item 'numeric'\n",
       "\\item 'vector'\n",
       "\\end{enumerate*}\n"
      ],
      "text/markdown": [
       "1. 'numeric'\n",
       "2. 'vector'\n",
       "\n",
       "\n"
      ],
      "text/plain": [
       "[1] \"numeric\" \"vector\" "
      ]
     },
     "metadata": {},
     "output_type": "display_data"
    }
   ],
   "source": [
    "avg<- apply(nonzero_wMeta[,8:ncol(nonzero_wMeta)], 2, function(x) tapply(x, nonzero_wMeta$Treatmentgroup, function(x) mean(x))) \n",
    "\n",
    "dim(avg)\n",
    "\n",
    "avg[,1:3]\n",
    "\n",
    "fch <- apply(avg, 2, function(x) x[1]/x[2])\n",
    "\n",
    "head(fch)\n",
    "is(fch)"
   ]
  },
  {
   "cell_type": "code",
   "execution_count": 9,
   "metadata": {
    "scrolled": true
   },
   "outputs": [
    {
     "data": {
      "text/html": [
       "<dl class=dl-horizontal>\n",
       "\t<dt>mass_400</dt>\n",
       "\t\t<dd>1.01131103972996</dd>\n",
       "\t<dt>mass_500</dt>\n",
       "\t\t<dd>0.901220347322893</dd>\n",
       "\t<dt>mass_600</dt>\n",
       "\t\t<dd>0.83002604723986</dd>\n",
       "\t<dt>mass_700</dt>\n",
       "\t\t<dd>0.831654642278761</dd>\n",
       "\t<dt>mass_800</dt>\n",
       "\t\t<dd>1.25544021003222</dd>\n",
       "</dl>\n"
      ],
      "text/latex": [
       "\\begin{description*}\n",
       "\\item[mass\\textbackslash{}\\_400] 1.01131103972996\n",
       "\\item[mass\\textbackslash{}\\_500] 0.901220347322893\n",
       "\\item[mass\\textbackslash{}\\_600] 0.83002604723986\n",
       "\\item[mass\\textbackslash{}\\_700] 0.831654642278761\n",
       "\\item[mass\\textbackslash{}\\_800] 1.25544021003222\n",
       "\\end{description*}\n"
      ],
      "text/markdown": [
       "mass_400\n",
       ":   1.01131103972996mass_500\n",
       ":   0.901220347322893mass_600\n",
       ":   0.83002604723986mass_700\n",
       ":   0.831654642278761mass_800\n",
       ":   1.25544021003222\n",
       "\n"
      ],
      "text/plain": [
       " mass_400  mass_500  mass_600  mass_700  mass_800 \n",
       "1.0113110 0.9012203 0.8300260 0.8316546 1.2554402 "
      ]
     },
     "metadata": {},
     "output_type": "display_data"
    }
   ],
   "source": [
    "fch"
   ]
  },
  {
   "cell_type": "code",
   "execution_count": 10,
   "metadata": {
    "scrolled": false
   },
   "outputs": [],
   "source": [
    "df <- data.frame(fch,pval, pAdj)\n",
    "write.csv(df, \"PE-treat-LVT-wilcox-infected-combo.csv\")"
   ]
  },
  {
   "cell_type": "code",
   "execution_count": null,
   "metadata": {},
   "outputs": [],
   "source": []
  },
  {
   "cell_type": "code",
   "execution_count": null,
   "metadata": {},
   "outputs": [],
   "source": []
  },
  {
   "cell_type": "code",
   "execution_count": null,
   "metadata": {},
   "outputs": [],
   "source": []
  },
  {
   "cell_type": "code",
   "execution_count": null,
   "metadata": {},
   "outputs": [],
   "source": []
  },
  {
   "cell_type": "code",
   "execution_count": null,
   "metadata": {},
   "outputs": [],
   "source": []
  },
  {
   "cell_type": "code",
   "execution_count": null,
   "metadata": {},
   "outputs": [],
   "source": []
  }
 ],
 "metadata": {
  "kernelspec": {
   "display_name": "R",
   "language": "R",
   "name": "ir"
  },
  "language_info": {
   "codemirror_mode": "r",
   "file_extension": ".r",
   "mimetype": "text/x-r-source",
   "name": "R",
   "pygments_lexer": "r",
   "version": "3.6.1"
  }
 },
 "nbformat": 4,
 "nbformat_minor": 2
}
