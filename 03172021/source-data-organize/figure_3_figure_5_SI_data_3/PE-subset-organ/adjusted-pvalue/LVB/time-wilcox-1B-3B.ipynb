{
 "cells": [
  {
   "cell_type": "code",
   "execution_count": 1,
   "metadata": {},
   "outputs": [],
   "source": [
    "a <- read.csv(\"03172021-PE-time-LVB-M-F.csv\")"
   ]
  },
  {
   "cell_type": "code",
   "execution_count": 2,
   "metadata": {},
   "outputs": [
    {
     "data": {
      "text/html": [
       "<table>\n",
       "<thead><tr><th scope=col>filename</th><th scope=col>MouseID</th><th scope=col>Treatmentgroup</th><th scope=col>status</th><th scope=col>DPI</th><th scope=col>organ</th><th scope=col>well_position</th><th scope=col>plate</th><th scope=col>mass_400</th><th scope=col>mass_500</th><th scope=col>mass_600</th><th scope=col>mass_700</th><th scope=col>mass_800</th></tr></thead>\n",
       "<tbody>\n",
       "\t<tr><td>X501_Group1A_50dpi_LV_bottom_251_B_A1_P133.mzXML</td><td>501                                             </td><td>Group1A                                         </td><td>naive                                           </td><td>50dpi                                           </td><td>LV_bottom                                       </td><td>A1                                              </td><td>P133                                            </td><td>0.002972957                                     </td><td>0.003479303                                     </td><td>0.000269898                                     </td><td>0.000034000                                     </td><td>0.000000000                                     </td></tr>\n",
       "\t<tr><td>X502_Group1A_50dpi_LV_bottom_252_B_A2_P133.mzXML</td><td>502                                             </td><td>Group1A                                         </td><td>naive                                           </td><td>50dpi                                           </td><td>LV_bottom                                       </td><td>A2                                              </td><td>P133                                            </td><td>0.003200256                                     </td><td>0.005721087                                     </td><td>0.000964777                                     </td><td>0.001450000                                     </td><td>0.000223708                                     </td></tr>\n",
       "\t<tr><td>X503_Group1A_50dpi_LV_bottom_253_B_A3_P133.mzXML</td><td>503                                             </td><td>Group1A                                         </td><td>naive                                           </td><td>50dpi                                           </td><td>LV_bottom                                       </td><td>A3                                              </td><td>P133                                            </td><td>0.004692557                                     </td><td>0.007977204                                     </td><td>0.001291204                                     </td><td>0.000824520                                     </td><td>0.000237466                                     </td></tr>\n",
       "\t<tr><td>X504_Group1A_50dpi_LV_bottom_254_B_A4_P133.mzXML</td><td>504                                             </td><td>Group1A                                         </td><td>naive                                           </td><td>50dpi                                           </td><td>LV_bottom                                       </td><td>A4                                              </td><td>P133                                            </td><td>0.004836650                                     </td><td>0.008975679                                     </td><td>0.001705570                                     </td><td>0.000280497                                     </td><td>0.000000000                                     </td></tr>\n",
       "\t<tr><td>X505_Group1A_50dpi_LV_bottom_255_B_A5_P133.mzXML</td><td>505                                             </td><td>Group1A                                         </td><td>naive                                           </td><td>50dpi                                           </td><td>LV_bottom                                       </td><td>A5                                              </td><td>P133                                            </td><td>0.004188893                                     </td><td>0.008150000                                     </td><td>0.001685713                                     </td><td>0.000852005                                     </td><td>0.000105163                                     </td></tr>\n",
       "\t<tr><td>X521_Group1A_50dpi_LV_bottom_256_B_A6_P133.mzXML</td><td>521                                             </td><td>Group1A                                         </td><td>naive                                           </td><td>50dpi                                           </td><td>LV_bottom                                       </td><td>A6                                              </td><td>P133                                            </td><td>0.003719791                                     </td><td>0.007589209                                     </td><td>0.000961049                                     </td><td>0.001908150                                     </td><td>0.000073400                                     </td></tr>\n",
       "</tbody>\n",
       "</table>\n"
      ],
      "text/latex": [
       "\\begin{tabular}{r|lllllllllllll}\n",
       " filename & MouseID & Treatmentgroup & status & DPI & organ & well\\_position & plate & mass\\_400 & mass\\_500 & mass\\_600 & mass\\_700 & mass\\_800\\\\\n",
       "\\hline\n",
       "\t X501\\_Group1A\\_50dpi\\_LV\\_bottom\\_251\\_B\\_A1\\_P133.mzXML & 501                                                              & Group1A                                                          & naive                                                            & 50dpi                                                            & LV\\_bottom                                                      & A1                                                               & P133                                                             & 0.002972957                                                      & 0.003479303                                                      & 0.000269898                                                      & 0.000034000                                                      & 0.000000000                                                     \\\\\n",
       "\t X502\\_Group1A\\_50dpi\\_LV\\_bottom\\_252\\_B\\_A2\\_P133.mzXML & 502                                                              & Group1A                                                          & naive                                                            & 50dpi                                                            & LV\\_bottom                                                      & A2                                                               & P133                                                             & 0.003200256                                                      & 0.005721087                                                      & 0.000964777                                                      & 0.001450000                                                      & 0.000223708                                                     \\\\\n",
       "\t X503\\_Group1A\\_50dpi\\_LV\\_bottom\\_253\\_B\\_A3\\_P133.mzXML & 503                                                              & Group1A                                                          & naive                                                            & 50dpi                                                            & LV\\_bottom                                                      & A3                                                               & P133                                                             & 0.004692557                                                      & 0.007977204                                                      & 0.001291204                                                      & 0.000824520                                                      & 0.000237466                                                     \\\\\n",
       "\t X504\\_Group1A\\_50dpi\\_LV\\_bottom\\_254\\_B\\_A4\\_P133.mzXML & 504                                                              & Group1A                                                          & naive                                                            & 50dpi                                                            & LV\\_bottom                                                      & A4                                                               & P133                                                             & 0.004836650                                                      & 0.008975679                                                      & 0.001705570                                                      & 0.000280497                                                      & 0.000000000                                                     \\\\\n",
       "\t X505\\_Group1A\\_50dpi\\_LV\\_bottom\\_255\\_B\\_A5\\_P133.mzXML & 505                                                              & Group1A                                                          & naive                                                            & 50dpi                                                            & LV\\_bottom                                                      & A5                                                               & P133                                                             & 0.004188893                                                      & 0.008150000                                                      & 0.001685713                                                      & 0.000852005                                                      & 0.000105163                                                     \\\\\n",
       "\t X521\\_Group1A\\_50dpi\\_LV\\_bottom\\_256\\_B\\_A6\\_P133.mzXML & 521                                                              & Group1A                                                          & naive                                                            & 50dpi                                                            & LV\\_bottom                                                      & A6                                                               & P133                                                             & 0.003719791                                                      & 0.007589209                                                      & 0.000961049                                                      & 0.001908150                                                      & 0.000073400                                                     \\\\\n",
       "\\end{tabular}\n"
      ],
      "text/markdown": [
       "\n",
       "| filename | MouseID | Treatmentgroup | status | DPI | organ | well_position | plate | mass_400 | mass_500 | mass_600 | mass_700 | mass_800 |\n",
       "|---|---|---|---|---|---|---|---|---|---|---|---|---|\n",
       "| X501_Group1A_50dpi_LV_bottom_251_B_A1_P133.mzXML | 501                                              | Group1A                                          | naive                                            | 50dpi                                            | LV_bottom                                        | A1                                               | P133                                             | 0.002972957                                      | 0.003479303                                      | 0.000269898                                      | 0.000034000                                      | 0.000000000                                      |\n",
       "| X502_Group1A_50dpi_LV_bottom_252_B_A2_P133.mzXML | 502                                              | Group1A                                          | naive                                            | 50dpi                                            | LV_bottom                                        | A2                                               | P133                                             | 0.003200256                                      | 0.005721087                                      | 0.000964777                                      | 0.001450000                                      | 0.000223708                                      |\n",
       "| X503_Group1A_50dpi_LV_bottom_253_B_A3_P133.mzXML | 503                                              | Group1A                                          | naive                                            | 50dpi                                            | LV_bottom                                        | A3                                               | P133                                             | 0.004692557                                      | 0.007977204                                      | 0.001291204                                      | 0.000824520                                      | 0.000237466                                      |\n",
       "| X504_Group1A_50dpi_LV_bottom_254_B_A4_P133.mzXML | 504                                              | Group1A                                          | naive                                            | 50dpi                                            | LV_bottom                                        | A4                                               | P133                                             | 0.004836650                                      | 0.008975679                                      | 0.001705570                                      | 0.000280497                                      | 0.000000000                                      |\n",
       "| X505_Group1A_50dpi_LV_bottom_255_B_A5_P133.mzXML | 505                                              | Group1A                                          | naive                                            | 50dpi                                            | LV_bottom                                        | A5                                               | P133                                             | 0.004188893                                      | 0.008150000                                      | 0.001685713                                      | 0.000852005                                      | 0.000105163                                      |\n",
       "| X521_Group1A_50dpi_LV_bottom_256_B_A6_P133.mzXML | 521                                              | Group1A                                          | naive                                            | 50dpi                                            | LV_bottom                                        | A6                                               | P133                                             | 0.003719791                                      | 0.007589209                                      | 0.000961049                                      | 0.001908150                                      | 0.000073400                                      |\n",
       "\n"
      ],
      "text/plain": [
       "  filename                                         MouseID Treatmentgroup\n",
       "1 X501_Group1A_50dpi_LV_bottom_251_B_A1_P133.mzXML 501     Group1A       \n",
       "2 X502_Group1A_50dpi_LV_bottom_252_B_A2_P133.mzXML 502     Group1A       \n",
       "3 X503_Group1A_50dpi_LV_bottom_253_B_A3_P133.mzXML 503     Group1A       \n",
       "4 X504_Group1A_50dpi_LV_bottom_254_B_A4_P133.mzXML 504     Group1A       \n",
       "5 X505_Group1A_50dpi_LV_bottom_255_B_A5_P133.mzXML 505     Group1A       \n",
       "6 X521_Group1A_50dpi_LV_bottom_256_B_A6_P133.mzXML 521     Group1A       \n",
       "  status DPI   organ     well_position plate mass_400    mass_500   \n",
       "1 naive  50dpi LV_bottom A1            P133  0.002972957 0.003479303\n",
       "2 naive  50dpi LV_bottom A2            P133  0.003200256 0.005721087\n",
       "3 naive  50dpi LV_bottom A3            P133  0.004692557 0.007977204\n",
       "4 naive  50dpi LV_bottom A4            P133  0.004836650 0.008975679\n",
       "5 naive  50dpi LV_bottom A5            P133  0.004188893 0.008150000\n",
       "6 naive  50dpi LV_bottom A6            P133  0.003719791 0.007589209\n",
       "  mass_600    mass_700    mass_800   \n",
       "1 0.000269898 0.000034000 0.000000000\n",
       "2 0.000964777 0.001450000 0.000223708\n",
       "3 0.001291204 0.000824520 0.000237466\n",
       "4 0.001705570 0.000280497 0.000000000\n",
       "5 0.001685713 0.000852005 0.000105163\n",
       "6 0.000961049 0.001908150 0.000073400"
      ]
     },
     "metadata": {},
     "output_type": "display_data"
    },
    {
     "data": {
      "text/html": [
       "<ol class=list-inline>\n",
       "\t<li>90</li>\n",
       "\t<li>13</li>\n",
       "</ol>\n"
      ],
      "text/latex": [
       "\\begin{enumerate*}\n",
       "\\item 90\n",
       "\\item 13\n",
       "\\end{enumerate*}\n"
      ],
      "text/markdown": [
       "1. 90\n",
       "2. 13\n",
       "\n",
       "\n"
      ],
      "text/plain": [
       "[1] 90 13"
      ]
     },
     "metadata": {},
     "output_type": "display_data"
    }
   ],
   "source": [
    "head(a)\n",
    "dim(a)"
   ]
  },
  {
   "cell_type": "code",
   "execution_count": 3,
   "metadata": {},
   "outputs": [
    {
     "data": {
      "text/html": [
       "<table>\n",
       "<thead><tr><th></th><th scope=col>filename</th><th scope=col>MouseID</th><th scope=col>Treatmentgroup</th><th scope=col>status</th><th scope=col>DPI</th><th scope=col>organ</th><th scope=col>well_position</th><th scope=col>plate</th><th scope=col>mass_400</th><th scope=col>mass_500</th><th scope=col>mass_600</th><th scope=col>mass_700</th><th scope=col>mass_800</th></tr></thead>\n",
       "<tbody>\n",
       "\t<tr><th scope=row>16</th><td>X506_Group1B_70dpi_LV_bottom_281_B_C7_P133.mzXML </td><td>506                                              </td><td>Group1B                                          </td><td>naive                                            </td><td>70dpi                                            </td><td>LV_bottom                                        </td><td>C7                                               </td><td>P133                                             </td><td>0.002857440                                      </td><td>0.005542089                                      </td><td>0.001103868                                      </td><td>0.000129000                                      </td><td>7.07e-05                                         </td></tr>\n",
       "\t<tr><th scope=row>17</th><td>X507_Group1B_70dpi_LV_bottom_282_B_C8_P133.mzXML </td><td>507                                              </td><td>Group1B                                          </td><td>naive                                            </td><td>70dpi                                            </td><td>LV_bottom                                        </td><td>C8                                               </td><td>P133                                             </td><td>0.002611225                                      </td><td>0.004964885                                      </td><td>0.000804096                                      </td><td>0.000041100                                      </td><td>7.10e-05                                         </td></tr>\n",
       "\t<tr><th scope=row>18</th><td>X508_Group1B_70dpi_LV_bottom_283_B_C9_P133.mzXML </td><td>508                                              </td><td>Group1B                                          </td><td>naive                                            </td><td>70dpi                                            </td><td>LV_bottom                                        </td><td>C9                                               </td><td>P133                                             </td><td>0.002884715                                      </td><td>0.007126133                                      </td><td>0.000767636                                      </td><td>0.000542855                                      </td><td>3.01e-05                                         </td></tr>\n",
       "\t<tr><th scope=row>19</th><td>X509_Group1B_70dpi_LV_bottom_284_B_C10_P133.mzXML</td><td>509                                              </td><td>Group1B                                          </td><td>naive                                            </td><td>70dpi                                            </td><td>LV_bottom                                        </td><td>C10                                              </td><td>P133                                             </td><td>0.000599622                                      </td><td>0.001404994                                      </td><td>0.000033200                                      </td><td>0.000000000                                      </td><td>0.00e+00                                         </td></tr>\n",
       "\t<tr><th scope=row>20</th><td>X510_Group1B_70dpi_LV_bottom_285_B_C11_P133.mzXML</td><td>510                                              </td><td>Group1B                                          </td><td>naive                                            </td><td>70dpi                                            </td><td>LV_bottom                                        </td><td>C11                                              </td><td>P133                                             </td><td>0.001651799                                      </td><td>0.002580000                                      </td><td>0.000220791                                      </td><td>0.000000000                                      </td><td>0.00e+00                                         </td></tr>\n",
       "\t<tr><th scope=row>21</th><td>X526_Group1B_70dpi_LV_bottom_286_B_C12_P133.mzXML</td><td>526                                              </td><td>Group1B                                          </td><td>naive                                            </td><td>70dpi                                            </td><td>LV_bottom                                        </td><td>C12                                              </td><td>P133                                             </td><td>0.002699706                                      </td><td>0.005580000                                      </td><td>0.000893692                                      </td><td>0.000000000                                      </td><td>0.00e+00                                         </td></tr>\n",
       "</tbody>\n",
       "</table>\n"
      ],
      "text/latex": [
       "\\begin{tabular}{r|lllllllllllll}\n",
       "  & filename & MouseID & Treatmentgroup & status & DPI & organ & well\\_position & plate & mass\\_400 & mass\\_500 & mass\\_600 & mass\\_700 & mass\\_800\\\\\n",
       "\\hline\n",
       "\t16 & X506\\_Group1B\\_70dpi\\_LV\\_bottom\\_281\\_B\\_C7\\_P133.mzXML  & 506                                                               & Group1B                                                           & naive                                                             & 70dpi                                                             & LV\\_bottom                                                       & C7                                                                & P133                                                              & 0.002857440                                                       & 0.005542089                                                       & 0.001103868                                                       & 0.000129000                                                       & 7.07e-05                                                         \\\\\n",
       "\t17 & X507\\_Group1B\\_70dpi\\_LV\\_bottom\\_282\\_B\\_C8\\_P133.mzXML  & 507                                                               & Group1B                                                           & naive                                                             & 70dpi                                                             & LV\\_bottom                                                       & C8                                                                & P133                                                              & 0.002611225                                                       & 0.004964885                                                       & 0.000804096                                                       & 0.000041100                                                       & 7.10e-05                                                         \\\\\n",
       "\t18 & X508\\_Group1B\\_70dpi\\_LV\\_bottom\\_283\\_B\\_C9\\_P133.mzXML  & 508                                                               & Group1B                                                           & naive                                                             & 70dpi                                                             & LV\\_bottom                                                       & C9                                                                & P133                                                              & 0.002884715                                                       & 0.007126133                                                       & 0.000767636                                                       & 0.000542855                                                       & 3.01e-05                                                         \\\\\n",
       "\t19 & X509\\_Group1B\\_70dpi\\_LV\\_bottom\\_284\\_B\\_C10\\_P133.mzXML & 509                                                               & Group1B                                                           & naive                                                             & 70dpi                                                             & LV\\_bottom                                                       & C10                                                               & P133                                                              & 0.000599622                                                       & 0.001404994                                                       & 0.000033200                                                       & 0.000000000                                                       & 0.00e+00                                                         \\\\\n",
       "\t20 & X510\\_Group1B\\_70dpi\\_LV\\_bottom\\_285\\_B\\_C11\\_P133.mzXML & 510                                                               & Group1B                                                           & naive                                                             & 70dpi                                                             & LV\\_bottom                                                       & C11                                                               & P133                                                              & 0.001651799                                                       & 0.002580000                                                       & 0.000220791                                                       & 0.000000000                                                       & 0.00e+00                                                         \\\\\n",
       "\t21 & X526\\_Group1B\\_70dpi\\_LV\\_bottom\\_286\\_B\\_C12\\_P133.mzXML & 526                                                               & Group1B                                                           & naive                                                             & 70dpi                                                             & LV\\_bottom                                                       & C12                                                               & P133                                                              & 0.002699706                                                       & 0.005580000                                                       & 0.000893692                                                       & 0.000000000                                                       & 0.00e+00                                                         \\\\\n",
       "\\end{tabular}\n"
      ],
      "text/markdown": [
       "\n",
       "| <!--/--> | filename | MouseID | Treatmentgroup | status | DPI | organ | well_position | plate | mass_400 | mass_500 | mass_600 | mass_700 | mass_800 |\n",
       "|---|---|---|---|---|---|---|---|---|---|---|---|---|---|\n",
       "| 16 | X506_Group1B_70dpi_LV_bottom_281_B_C7_P133.mzXML  | 506                                               | Group1B                                           | naive                                             | 70dpi                                             | LV_bottom                                         | C7                                                | P133                                              | 0.002857440                                       | 0.005542089                                       | 0.001103868                                       | 0.000129000                                       | 7.07e-05                                          |\n",
       "| 17 | X507_Group1B_70dpi_LV_bottom_282_B_C8_P133.mzXML  | 507                                               | Group1B                                           | naive                                             | 70dpi                                             | LV_bottom                                         | C8                                                | P133                                              | 0.002611225                                       | 0.004964885                                       | 0.000804096                                       | 0.000041100                                       | 7.10e-05                                          |\n",
       "| 18 | X508_Group1B_70dpi_LV_bottom_283_B_C9_P133.mzXML  | 508                                               | Group1B                                           | naive                                             | 70dpi                                             | LV_bottom                                         | C9                                                | P133                                              | 0.002884715                                       | 0.007126133                                       | 0.000767636                                       | 0.000542855                                       | 3.01e-05                                          |\n",
       "| 19 | X509_Group1B_70dpi_LV_bottom_284_B_C10_P133.mzXML | 509                                               | Group1B                                           | naive                                             | 70dpi                                             | LV_bottom                                         | C10                                               | P133                                              | 0.000599622                                       | 0.001404994                                       | 0.000033200                                       | 0.000000000                                       | 0.00e+00                                          |\n",
       "| 20 | X510_Group1B_70dpi_LV_bottom_285_B_C11_P133.mzXML | 510                                               | Group1B                                           | naive                                             | 70dpi                                             | LV_bottom                                         | C11                                               | P133                                              | 0.001651799                                       | 0.002580000                                       | 0.000220791                                       | 0.000000000                                       | 0.00e+00                                          |\n",
       "| 21 | X526_Group1B_70dpi_LV_bottom_286_B_C12_P133.mzXML | 526                                               | Group1B                                           | naive                                             | 70dpi                                             | LV_bottom                                         | C12                                               | P133                                              | 0.002699706                                       | 0.005580000                                       | 0.000893692                                       | 0.000000000                                       | 0.00e+00                                          |\n",
       "\n"
      ],
      "text/plain": [
       "   filename                                          MouseID Treatmentgroup\n",
       "16 X506_Group1B_70dpi_LV_bottom_281_B_C7_P133.mzXML  506     Group1B       \n",
       "17 X507_Group1B_70dpi_LV_bottom_282_B_C8_P133.mzXML  507     Group1B       \n",
       "18 X508_Group1B_70dpi_LV_bottom_283_B_C9_P133.mzXML  508     Group1B       \n",
       "19 X509_Group1B_70dpi_LV_bottom_284_B_C10_P133.mzXML 509     Group1B       \n",
       "20 X510_Group1B_70dpi_LV_bottom_285_B_C11_P133.mzXML 510     Group1B       \n",
       "21 X526_Group1B_70dpi_LV_bottom_286_B_C12_P133.mzXML 526     Group1B       \n",
       "   status DPI   organ     well_position plate mass_400    mass_500   \n",
       "16 naive  70dpi LV_bottom C7            P133  0.002857440 0.005542089\n",
       "17 naive  70dpi LV_bottom C8            P133  0.002611225 0.004964885\n",
       "18 naive  70dpi LV_bottom C9            P133  0.002884715 0.007126133\n",
       "19 naive  70dpi LV_bottom C10           P133  0.000599622 0.001404994\n",
       "20 naive  70dpi LV_bottom C11           P133  0.001651799 0.002580000\n",
       "21 naive  70dpi LV_bottom C12           P133  0.002699706 0.005580000\n",
       "   mass_600    mass_700    mass_800\n",
       "16 0.001103868 0.000129000 7.07e-05\n",
       "17 0.000804096 0.000041100 7.10e-05\n",
       "18 0.000767636 0.000542855 3.01e-05\n",
       "19 0.000033200 0.000000000 0.00e+00\n",
       "20 0.000220791 0.000000000 0.00e+00\n",
       "21 0.000893692 0.000000000 0.00e+00"
      ]
     },
     "metadata": {},
     "output_type": "display_data"
    },
    {
     "data": {
      "text/html": [
       "<ol class=list-inline>\n",
       "\t<li>30</li>\n",
       "\t<li>13</li>\n",
       "</ol>\n"
      ],
      "text/latex": [
       "\\begin{enumerate*}\n",
       "\\item 30\n",
       "\\item 13\n",
       "\\end{enumerate*}\n"
      ],
      "text/markdown": [
       "1. 30\n",
       "2. 13\n",
       "\n",
       "\n"
      ],
      "text/plain": [
       "[1] 30 13"
      ]
     },
     "metadata": {},
     "output_type": "display_data"
    }
   ],
   "source": [
    "features_pos<-droplevels(subset(a, a$Treatmentgroup==c(\"Group1B\")|a$Treatmentgroup==c(\"Group3B\")))\n",
    "head(features_pos)\n",
    "dim(features_pos)"
   ]
  },
  {
   "cell_type": "code",
   "execution_count": 4,
   "metadata": {
    "scrolled": false
   },
   "outputs": [
    {
     "data": {
      "text/html": [
       "<table>\n",
       "<thead><tr><th></th><th scope=col>mass_400</th><th scope=col>mass_500</th><th scope=col>mass_600</th><th scope=col>mass_700</th><th scope=col>mass_800</th></tr></thead>\n",
       "<tbody>\n",
       "\t<tr><th scope=row>16</th><td>0.002857440</td><td>0.005542089</td><td>0.001103868</td><td>0.000129000</td><td>7.07e-05   </td></tr>\n",
       "\t<tr><th scope=row>17</th><td>0.002611225</td><td>0.004964885</td><td>0.000804096</td><td>0.000041100</td><td>7.10e-05   </td></tr>\n",
       "\t<tr><th scope=row>18</th><td>0.002884715</td><td>0.007126133</td><td>0.000767636</td><td>0.000542855</td><td>3.01e-05   </td></tr>\n",
       "\t<tr><th scope=row>19</th><td>0.000599622</td><td>0.001404994</td><td>0.000033200</td><td>0.000000000</td><td>0.00e+00   </td></tr>\n",
       "\t<tr><th scope=row>20</th><td>0.001651799</td><td>0.002580000</td><td>0.000220791</td><td>0.000000000</td><td>0.00e+00   </td></tr>\n",
       "\t<tr><th scope=row>21</th><td>0.002699706</td><td>0.005580000</td><td>0.000893692</td><td>0.000000000</td><td>0.00e+00   </td></tr>\n",
       "</tbody>\n",
       "</table>\n"
      ],
      "text/latex": [
       "\\begin{tabular}{r|lllll}\n",
       "  & mass\\_400 & mass\\_500 & mass\\_600 & mass\\_700 & mass\\_800\\\\\n",
       "\\hline\n",
       "\t16 & 0.002857440 & 0.005542089 & 0.001103868 & 0.000129000 & 7.07e-05   \\\\\n",
       "\t17 & 0.002611225 & 0.004964885 & 0.000804096 & 0.000041100 & 7.10e-05   \\\\\n",
       "\t18 & 0.002884715 & 0.007126133 & 0.000767636 & 0.000542855 & 3.01e-05   \\\\\n",
       "\t19 & 0.000599622 & 0.001404994 & 0.000033200 & 0.000000000 & 0.00e+00   \\\\\n",
       "\t20 & 0.001651799 & 0.002580000 & 0.000220791 & 0.000000000 & 0.00e+00   \\\\\n",
       "\t21 & 0.002699706 & 0.005580000 & 0.000893692 & 0.000000000 & 0.00e+00   \\\\\n",
       "\\end{tabular}\n"
      ],
      "text/markdown": [
       "\n",
       "| <!--/--> | mass_400 | mass_500 | mass_600 | mass_700 | mass_800 |\n",
       "|---|---|---|---|---|---|\n",
       "| 16 | 0.002857440 | 0.005542089 | 0.001103868 | 0.000129000 | 7.07e-05    |\n",
       "| 17 | 0.002611225 | 0.004964885 | 0.000804096 | 0.000041100 | 7.10e-05    |\n",
       "| 18 | 0.002884715 | 0.007126133 | 0.000767636 | 0.000542855 | 3.01e-05    |\n",
       "| 19 | 0.000599622 | 0.001404994 | 0.000033200 | 0.000000000 | 0.00e+00    |\n",
       "| 20 | 0.001651799 | 0.002580000 | 0.000220791 | 0.000000000 | 0.00e+00    |\n",
       "| 21 | 0.002699706 | 0.005580000 | 0.000893692 | 0.000000000 | 0.00e+00    |\n",
       "\n"
      ],
      "text/plain": [
       "   mass_400    mass_500    mass_600    mass_700    mass_800\n",
       "16 0.002857440 0.005542089 0.001103868 0.000129000 7.07e-05\n",
       "17 0.002611225 0.004964885 0.000804096 0.000041100 7.10e-05\n",
       "18 0.002884715 0.007126133 0.000767636 0.000542855 3.01e-05\n",
       "19 0.000599622 0.001404994 0.000033200 0.000000000 0.00e+00\n",
       "20 0.001651799 0.002580000 0.000220791 0.000000000 0.00e+00\n",
       "21 0.002699706 0.005580000 0.000893692 0.000000000 0.00e+00"
      ]
     },
     "metadata": {},
     "output_type": "display_data"
    },
    {
     "data": {
      "text/html": [
       "<dl class=dl-horizontal>\n",
       "\t<dt>mass_400</dt>\n",
       "\t\t<dd>1</dd>\n",
       "\t<dt>mass_500</dt>\n",
       "\t\t<dd>2</dd>\n",
       "\t<dt>mass_600</dt>\n",
       "\t\t<dd>3</dd>\n",
       "\t<dt>mass_700</dt>\n",
       "\t\t<dd>4</dd>\n",
       "\t<dt>mass_800</dt>\n",
       "\t\t<dd>5</dd>\n",
       "</dl>\n"
      ],
      "text/latex": [
       "\\begin{description*}\n",
       "\\item[mass\\textbackslash{}\\_400] 1\n",
       "\\item[mass\\textbackslash{}\\_500] 2\n",
       "\\item[mass\\textbackslash{}\\_600] 3\n",
       "\\item[mass\\textbackslash{}\\_700] 4\n",
       "\\item[mass\\textbackslash{}\\_800] 5\n",
       "\\end{description*}\n"
      ],
      "text/markdown": [
       "mass_400\n",
       ":   1mass_500\n",
       ":   2mass_600\n",
       ":   3mass_700\n",
       ":   4mass_800\n",
       ":   5\n",
       "\n"
      ],
      "text/plain": [
       "mass_400 mass_500 mass_600 mass_700 mass_800 \n",
       "       1        2        3        4        5 "
      ]
     },
     "metadata": {},
     "output_type": "display_data"
    },
    {
     "data": {
      "text/html": [
       "<table>\n",
       "<thead><tr><th></th><th scope=col>mass_400</th><th scope=col>mass_500</th><th scope=col>mass_600</th><th scope=col>mass_700</th><th scope=col>mass_800</th></tr></thead>\n",
       "<tbody>\n",
       "\t<tr><th scope=row>16</th><td>0.002857440</td><td>0.005542089</td><td>0.001103868</td><td>0.000129000</td><td>0.000070700</td></tr>\n",
       "\t<tr><th scope=row>17</th><td>0.002611225</td><td>0.004964885</td><td>0.000804096</td><td>0.000041100</td><td>0.000071000</td></tr>\n",
       "\t<tr><th scope=row>18</th><td>0.002884715</td><td>0.007126133</td><td>0.000767636</td><td>0.000542855</td><td>0.000030100</td></tr>\n",
       "\t<tr><th scope=row>19</th><td>0.000599622</td><td>0.001404994</td><td>0.000033200</td><td>0.000000000</td><td>0.000000000</td></tr>\n",
       "\t<tr><th scope=row>20</th><td>0.001651799</td><td>0.002580000</td><td>0.000220791</td><td>0.000000000</td><td>0.000000000</td></tr>\n",
       "\t<tr><th scope=row>21</th><td>0.002699706</td><td>0.005580000</td><td>0.000893692</td><td>0.000000000</td><td>0.000000000</td></tr>\n",
       "\t<tr><th scope=row>22</th><td>0.003766041</td><td>0.008490000</td><td>0.001177203</td><td>0.002157338</td><td>0.000099400</td></tr>\n",
       "\t<tr><th scope=row>23</th><td>0.002045369</td><td>0.005190000</td><td>0.000570573</td><td>0.000745758</td><td>0.000000000</td></tr>\n",
       "\t<tr><th scope=row>24</th><td>0.003721936</td><td>0.005394035</td><td>0.001074683</td><td>0.000752724</td><td>0.000062700</td></tr>\n",
       "\t<tr><th scope=row>25</th><td>0.003287179</td><td>0.006670000</td><td>0.001041183</td><td>0.001909140</td><td>0.000189859</td></tr>\n",
       "\t<tr><th scope=row>26</th><td>0.003066975</td><td>0.007550087</td><td>0.001139261</td><td>0.000518449</td><td>0.000117255</td></tr>\n",
       "\t<tr><th scope=row>27</th><td>0.001058221</td><td>0.001243564</td><td>0.000034400</td><td>0.000000000</td><td>0.000000000</td></tr>\n",
       "\t<tr><th scope=row>28</th><td>0.002636929</td><td>0.006610000</td><td>0.000752178</td><td>0.000000000</td><td>0.000000000</td></tr>\n",
       "\t<tr><th scope=row>29</th><td>0.003276426</td><td>0.005845202</td><td>0.001311235</td><td>0.000023200</td><td>0.000000000</td></tr>\n",
       "\t<tr><th scope=row>30</th><td>0.003042673</td><td>0.006627435</td><td>0.001035547</td><td>0.000040000</td><td>0.000000000</td></tr>\n",
       "\t<tr><th scope=row>61</th><td>0.008193673</td><td>0.010100000</td><td>0.001682961</td><td>0.000733274</td><td>0.000397470</td></tr>\n",
       "\t<tr><th scope=row>62</th><td>0.004331236</td><td>0.008960000</td><td>0.001056600</td><td>0.000042300</td><td>0.000000000</td></tr>\n",
       "\t<tr><th scope=row>63</th><td>0.001598063</td><td>0.001637972</td><td>0.000077600</td><td>0.000000000</td><td>0.000000000</td></tr>\n",
       "\t<tr><th scope=row>64</th><td>0.001322772</td><td>0.001813172</td><td>0.000222532</td><td>0.000000000</td><td>0.000000000</td></tr>\n",
       "\t<tr><th scope=row>65</th><td>0.004269182</td><td>0.007590000</td><td>0.001439861</td><td>0.001468510</td><td>0.000149203</td></tr>\n",
       "\t<tr><th scope=row>66</th><td>0.002686192</td><td>0.005982057</td><td>0.000672207</td><td>0.001724818</td><td>0.000206377</td></tr>\n",
       "\t<tr><th scope=row>67</th><td>0.004164924</td><td>0.008250000</td><td>0.001413587</td><td>0.000925637</td><td>0.000184111</td></tr>\n",
       "\t<tr><th scope=row>68</th><td>0.003411383</td><td>0.008310464</td><td>0.001042648</td><td>0.000342283</td><td>0.000241866</td></tr>\n",
       "\t<tr><th scope=row>69</th><td>0.004228824</td><td>0.010900000</td><td>0.001596070</td><td>0.002061217</td><td>0.000097000</td></tr>\n",
       "\t<tr><th scope=row>70</th><td>0.004029240</td><td>0.009228602</td><td>0.001518321</td><td>0.000254534</td><td>0.000000000</td></tr>\n",
       "\t<tr><th scope=row>71</th><td>0.004706017</td><td>0.007930000</td><td>0.001312828</td><td>0.001108510</td><td>0.000148022</td></tr>\n",
       "\t<tr><th scope=row>72</th><td>0.005143325</td><td>0.006210000</td><td>0.001322145</td><td>0.000343890</td><td>0.000132378</td></tr>\n",
       "\t<tr><th scope=row>73</th><td>0.003587790</td><td>0.006400531</td><td>0.001258450</td><td>0.000229899</td><td>0.000056800</td></tr>\n",
       "\t<tr><th scope=row>74</th><td>0.003407723</td><td>0.005833241</td><td>0.000442996</td><td>0.000000000</td><td>0.000102112</td></tr>\n",
       "\t<tr><th scope=row>75</th><td>0.004276884</td><td>0.009250000</td><td>0.000948245</td><td>0.002767552</td><td>0.000278873</td></tr>\n",
       "</tbody>\n",
       "</table>\n"
      ],
      "text/latex": [
       "\\begin{tabular}{r|lllll}\n",
       "  & mass\\_400 & mass\\_500 & mass\\_600 & mass\\_700 & mass\\_800\\\\\n",
       "\\hline\n",
       "\t16 & 0.002857440 & 0.005542089 & 0.001103868 & 0.000129000 & 0.000070700\\\\\n",
       "\t17 & 0.002611225 & 0.004964885 & 0.000804096 & 0.000041100 & 0.000071000\\\\\n",
       "\t18 & 0.002884715 & 0.007126133 & 0.000767636 & 0.000542855 & 0.000030100\\\\\n",
       "\t19 & 0.000599622 & 0.001404994 & 0.000033200 & 0.000000000 & 0.000000000\\\\\n",
       "\t20 & 0.001651799 & 0.002580000 & 0.000220791 & 0.000000000 & 0.000000000\\\\\n",
       "\t21 & 0.002699706 & 0.005580000 & 0.000893692 & 0.000000000 & 0.000000000\\\\\n",
       "\t22 & 0.003766041 & 0.008490000 & 0.001177203 & 0.002157338 & 0.000099400\\\\\n",
       "\t23 & 0.002045369 & 0.005190000 & 0.000570573 & 0.000745758 & 0.000000000\\\\\n",
       "\t24 & 0.003721936 & 0.005394035 & 0.001074683 & 0.000752724 & 0.000062700\\\\\n",
       "\t25 & 0.003287179 & 0.006670000 & 0.001041183 & 0.001909140 & 0.000189859\\\\\n",
       "\t26 & 0.003066975 & 0.007550087 & 0.001139261 & 0.000518449 & 0.000117255\\\\\n",
       "\t27 & 0.001058221 & 0.001243564 & 0.000034400 & 0.000000000 & 0.000000000\\\\\n",
       "\t28 & 0.002636929 & 0.006610000 & 0.000752178 & 0.000000000 & 0.000000000\\\\\n",
       "\t29 & 0.003276426 & 0.005845202 & 0.001311235 & 0.000023200 & 0.000000000\\\\\n",
       "\t30 & 0.003042673 & 0.006627435 & 0.001035547 & 0.000040000 & 0.000000000\\\\\n",
       "\t61 & 0.008193673 & 0.010100000 & 0.001682961 & 0.000733274 & 0.000397470\\\\\n",
       "\t62 & 0.004331236 & 0.008960000 & 0.001056600 & 0.000042300 & 0.000000000\\\\\n",
       "\t63 & 0.001598063 & 0.001637972 & 0.000077600 & 0.000000000 & 0.000000000\\\\\n",
       "\t64 & 0.001322772 & 0.001813172 & 0.000222532 & 0.000000000 & 0.000000000\\\\\n",
       "\t65 & 0.004269182 & 0.007590000 & 0.001439861 & 0.001468510 & 0.000149203\\\\\n",
       "\t66 & 0.002686192 & 0.005982057 & 0.000672207 & 0.001724818 & 0.000206377\\\\\n",
       "\t67 & 0.004164924 & 0.008250000 & 0.001413587 & 0.000925637 & 0.000184111\\\\\n",
       "\t68 & 0.003411383 & 0.008310464 & 0.001042648 & 0.000342283 & 0.000241866\\\\\n",
       "\t69 & 0.004228824 & 0.010900000 & 0.001596070 & 0.002061217 & 0.000097000\\\\\n",
       "\t70 & 0.004029240 & 0.009228602 & 0.001518321 & 0.000254534 & 0.000000000\\\\\n",
       "\t71 & 0.004706017 & 0.007930000 & 0.001312828 & 0.001108510 & 0.000148022\\\\\n",
       "\t72 & 0.005143325 & 0.006210000 & 0.001322145 & 0.000343890 & 0.000132378\\\\\n",
       "\t73 & 0.003587790 & 0.006400531 & 0.001258450 & 0.000229899 & 0.000056800\\\\\n",
       "\t74 & 0.003407723 & 0.005833241 & 0.000442996 & 0.000000000 & 0.000102112\\\\\n",
       "\t75 & 0.004276884 & 0.009250000 & 0.000948245 & 0.002767552 & 0.000278873\\\\\n",
       "\\end{tabular}\n"
      ],
      "text/markdown": [
       "\n",
       "| <!--/--> | mass_400 | mass_500 | mass_600 | mass_700 | mass_800 |\n",
       "|---|---|---|---|---|---|\n",
       "| 16 | 0.002857440 | 0.005542089 | 0.001103868 | 0.000129000 | 0.000070700 |\n",
       "| 17 | 0.002611225 | 0.004964885 | 0.000804096 | 0.000041100 | 0.000071000 |\n",
       "| 18 | 0.002884715 | 0.007126133 | 0.000767636 | 0.000542855 | 0.000030100 |\n",
       "| 19 | 0.000599622 | 0.001404994 | 0.000033200 | 0.000000000 | 0.000000000 |\n",
       "| 20 | 0.001651799 | 0.002580000 | 0.000220791 | 0.000000000 | 0.000000000 |\n",
       "| 21 | 0.002699706 | 0.005580000 | 0.000893692 | 0.000000000 | 0.000000000 |\n",
       "| 22 | 0.003766041 | 0.008490000 | 0.001177203 | 0.002157338 | 0.000099400 |\n",
       "| 23 | 0.002045369 | 0.005190000 | 0.000570573 | 0.000745758 | 0.000000000 |\n",
       "| 24 | 0.003721936 | 0.005394035 | 0.001074683 | 0.000752724 | 0.000062700 |\n",
       "| 25 | 0.003287179 | 0.006670000 | 0.001041183 | 0.001909140 | 0.000189859 |\n",
       "| 26 | 0.003066975 | 0.007550087 | 0.001139261 | 0.000518449 | 0.000117255 |\n",
       "| 27 | 0.001058221 | 0.001243564 | 0.000034400 | 0.000000000 | 0.000000000 |\n",
       "| 28 | 0.002636929 | 0.006610000 | 0.000752178 | 0.000000000 | 0.000000000 |\n",
       "| 29 | 0.003276426 | 0.005845202 | 0.001311235 | 0.000023200 | 0.000000000 |\n",
       "| 30 | 0.003042673 | 0.006627435 | 0.001035547 | 0.000040000 | 0.000000000 |\n",
       "| 61 | 0.008193673 | 0.010100000 | 0.001682961 | 0.000733274 | 0.000397470 |\n",
       "| 62 | 0.004331236 | 0.008960000 | 0.001056600 | 0.000042300 | 0.000000000 |\n",
       "| 63 | 0.001598063 | 0.001637972 | 0.000077600 | 0.000000000 | 0.000000000 |\n",
       "| 64 | 0.001322772 | 0.001813172 | 0.000222532 | 0.000000000 | 0.000000000 |\n",
       "| 65 | 0.004269182 | 0.007590000 | 0.001439861 | 0.001468510 | 0.000149203 |\n",
       "| 66 | 0.002686192 | 0.005982057 | 0.000672207 | 0.001724818 | 0.000206377 |\n",
       "| 67 | 0.004164924 | 0.008250000 | 0.001413587 | 0.000925637 | 0.000184111 |\n",
       "| 68 | 0.003411383 | 0.008310464 | 0.001042648 | 0.000342283 | 0.000241866 |\n",
       "| 69 | 0.004228824 | 0.010900000 | 0.001596070 | 0.002061217 | 0.000097000 |\n",
       "| 70 | 0.004029240 | 0.009228602 | 0.001518321 | 0.000254534 | 0.000000000 |\n",
       "| 71 | 0.004706017 | 0.007930000 | 0.001312828 | 0.001108510 | 0.000148022 |\n",
       "| 72 | 0.005143325 | 0.006210000 | 0.001322145 | 0.000343890 | 0.000132378 |\n",
       "| 73 | 0.003587790 | 0.006400531 | 0.001258450 | 0.000229899 | 0.000056800 |\n",
       "| 74 | 0.003407723 | 0.005833241 | 0.000442996 | 0.000000000 | 0.000102112 |\n",
       "| 75 | 0.004276884 | 0.009250000 | 0.000948245 | 0.002767552 | 0.000278873 |\n",
       "\n"
      ],
      "text/plain": [
       "   mass_400    mass_500    mass_600    mass_700    mass_800   \n",
       "16 0.002857440 0.005542089 0.001103868 0.000129000 0.000070700\n",
       "17 0.002611225 0.004964885 0.000804096 0.000041100 0.000071000\n",
       "18 0.002884715 0.007126133 0.000767636 0.000542855 0.000030100\n",
       "19 0.000599622 0.001404994 0.000033200 0.000000000 0.000000000\n",
       "20 0.001651799 0.002580000 0.000220791 0.000000000 0.000000000\n",
       "21 0.002699706 0.005580000 0.000893692 0.000000000 0.000000000\n",
       "22 0.003766041 0.008490000 0.001177203 0.002157338 0.000099400\n",
       "23 0.002045369 0.005190000 0.000570573 0.000745758 0.000000000\n",
       "24 0.003721936 0.005394035 0.001074683 0.000752724 0.000062700\n",
       "25 0.003287179 0.006670000 0.001041183 0.001909140 0.000189859\n",
       "26 0.003066975 0.007550087 0.001139261 0.000518449 0.000117255\n",
       "27 0.001058221 0.001243564 0.000034400 0.000000000 0.000000000\n",
       "28 0.002636929 0.006610000 0.000752178 0.000000000 0.000000000\n",
       "29 0.003276426 0.005845202 0.001311235 0.000023200 0.000000000\n",
       "30 0.003042673 0.006627435 0.001035547 0.000040000 0.000000000\n",
       "61 0.008193673 0.010100000 0.001682961 0.000733274 0.000397470\n",
       "62 0.004331236 0.008960000 0.001056600 0.000042300 0.000000000\n",
       "63 0.001598063 0.001637972 0.000077600 0.000000000 0.000000000\n",
       "64 0.001322772 0.001813172 0.000222532 0.000000000 0.000000000\n",
       "65 0.004269182 0.007590000 0.001439861 0.001468510 0.000149203\n",
       "66 0.002686192 0.005982057 0.000672207 0.001724818 0.000206377\n",
       "67 0.004164924 0.008250000 0.001413587 0.000925637 0.000184111\n",
       "68 0.003411383 0.008310464 0.001042648 0.000342283 0.000241866\n",
       "69 0.004228824 0.010900000 0.001596070 0.002061217 0.000097000\n",
       "70 0.004029240 0.009228602 0.001518321 0.000254534 0.000000000\n",
       "71 0.004706017 0.007930000 0.001312828 0.001108510 0.000148022\n",
       "72 0.005143325 0.006210000 0.001322145 0.000343890 0.000132378\n",
       "73 0.003587790 0.006400531 0.001258450 0.000229899 0.000056800\n",
       "74 0.003407723 0.005833241 0.000442996 0.000000000 0.000102112\n",
       "75 0.004276884 0.009250000 0.000948245 0.002767552 0.000278873"
      ]
     },
     "metadata": {},
     "output_type": "display_data"
    },
    {
     "data": {
      "text/html": [
       "<table>\n",
       "<thead><tr><th></th><th scope=col>filename</th><th scope=col>MouseID</th><th scope=col>Treatmentgroup</th><th scope=col>status</th><th scope=col>DPI</th><th scope=col>organ</th><th scope=col>well_position</th><th scope=col>plate</th><th scope=col>mass_400</th><th scope=col>mass_500</th><th scope=col>mass_600</th><th scope=col>mass_700</th><th scope=col>mass_800</th></tr></thead>\n",
       "<tbody>\n",
       "\t<tr><th scope=row>16</th><td>X506_Group1B_70dpi_LV_bottom_281_B_C7_P133.mzXML </td><td>506                                              </td><td>Group1B                                          </td><td>naive                                            </td><td>70dpi                                            </td><td>LV_bottom                                        </td><td>C7                                               </td><td>P133                                             </td><td>0.002857440                                      </td><td>0.005542089                                      </td><td>0.001103868                                      </td><td>0.000129000                                      </td><td>7.07e-05                                         </td></tr>\n",
       "\t<tr><th scope=row>17</th><td>X507_Group1B_70dpi_LV_bottom_282_B_C8_P133.mzXML </td><td>507                                              </td><td>Group1B                                          </td><td>naive                                            </td><td>70dpi                                            </td><td>LV_bottom                                        </td><td>C8                                               </td><td>P133                                             </td><td>0.002611225                                      </td><td>0.004964885                                      </td><td>0.000804096                                      </td><td>0.000041100                                      </td><td>7.10e-05                                         </td></tr>\n",
       "\t<tr><th scope=row>18</th><td>X508_Group1B_70dpi_LV_bottom_283_B_C9_P133.mzXML </td><td>508                                              </td><td>Group1B                                          </td><td>naive                                            </td><td>70dpi                                            </td><td>LV_bottom                                        </td><td>C9                                               </td><td>P133                                             </td><td>0.002884715                                      </td><td>0.007126133                                      </td><td>0.000767636                                      </td><td>0.000542855                                      </td><td>3.01e-05                                         </td></tr>\n",
       "\t<tr><th scope=row>19</th><td>X509_Group1B_70dpi_LV_bottom_284_B_C10_P133.mzXML</td><td>509                                              </td><td>Group1B                                          </td><td>naive                                            </td><td>70dpi                                            </td><td>LV_bottom                                        </td><td>C10                                              </td><td>P133                                             </td><td>0.000599622                                      </td><td>0.001404994                                      </td><td>0.000033200                                      </td><td>0.000000000                                      </td><td>0.00e+00                                         </td></tr>\n",
       "\t<tr><th scope=row>20</th><td>X510_Group1B_70dpi_LV_bottom_285_B_C11_P133.mzXML</td><td>510                                              </td><td>Group1B                                          </td><td>naive                                            </td><td>70dpi                                            </td><td>LV_bottom                                        </td><td>C11                                              </td><td>P133                                             </td><td>0.001651799                                      </td><td>0.002580000                                      </td><td>0.000220791                                      </td><td>0.000000000                                      </td><td>0.00e+00                                         </td></tr>\n",
       "\t<tr><th scope=row>21</th><td>X526_Group1B_70dpi_LV_bottom_286_B_C12_P133.mzXML</td><td>526                                              </td><td>Group1B                                          </td><td>naive                                            </td><td>70dpi                                            </td><td>LV_bottom                                        </td><td>C12                                              </td><td>P133                                             </td><td>0.002699706                                      </td><td>0.005580000                                      </td><td>0.000893692                                      </td><td>0.000000000                                      </td><td>0.00e+00                                         </td></tr>\n",
       "</tbody>\n",
       "</table>\n"
      ],
      "text/latex": [
       "\\begin{tabular}{r|lllllllllllll}\n",
       "  & filename & MouseID & Treatmentgroup & status & DPI & organ & well\\_position & plate & mass\\_400 & mass\\_500 & mass\\_600 & mass\\_700 & mass\\_800\\\\\n",
       "\\hline\n",
       "\t16 & X506\\_Group1B\\_70dpi\\_LV\\_bottom\\_281\\_B\\_C7\\_P133.mzXML  & 506                                                               & Group1B                                                           & naive                                                             & 70dpi                                                             & LV\\_bottom                                                       & C7                                                                & P133                                                              & 0.002857440                                                       & 0.005542089                                                       & 0.001103868                                                       & 0.000129000                                                       & 7.07e-05                                                         \\\\\n",
       "\t17 & X507\\_Group1B\\_70dpi\\_LV\\_bottom\\_282\\_B\\_C8\\_P133.mzXML  & 507                                                               & Group1B                                                           & naive                                                             & 70dpi                                                             & LV\\_bottom                                                       & C8                                                                & P133                                                              & 0.002611225                                                       & 0.004964885                                                       & 0.000804096                                                       & 0.000041100                                                       & 7.10e-05                                                         \\\\\n",
       "\t18 & X508\\_Group1B\\_70dpi\\_LV\\_bottom\\_283\\_B\\_C9\\_P133.mzXML  & 508                                                               & Group1B                                                           & naive                                                             & 70dpi                                                             & LV\\_bottom                                                       & C9                                                                & P133                                                              & 0.002884715                                                       & 0.007126133                                                       & 0.000767636                                                       & 0.000542855                                                       & 3.01e-05                                                         \\\\\n",
       "\t19 & X509\\_Group1B\\_70dpi\\_LV\\_bottom\\_284\\_B\\_C10\\_P133.mzXML & 509                                                               & Group1B                                                           & naive                                                             & 70dpi                                                             & LV\\_bottom                                                       & C10                                                               & P133                                                              & 0.000599622                                                       & 0.001404994                                                       & 0.000033200                                                       & 0.000000000                                                       & 0.00e+00                                                         \\\\\n",
       "\t20 & X510\\_Group1B\\_70dpi\\_LV\\_bottom\\_285\\_B\\_C11\\_P133.mzXML & 510                                                               & Group1B                                                           & naive                                                             & 70dpi                                                             & LV\\_bottom                                                       & C11                                                               & P133                                                              & 0.001651799                                                       & 0.002580000                                                       & 0.000220791                                                       & 0.000000000                                                       & 0.00e+00                                                         \\\\\n",
       "\t21 & X526\\_Group1B\\_70dpi\\_LV\\_bottom\\_286\\_B\\_C12\\_P133.mzXML & 526                                                               & Group1B                                                           & naive                                                             & 70dpi                                                             & LV\\_bottom                                                       & C12                                                               & P133                                                              & 0.002699706                                                       & 0.005580000                                                       & 0.000893692                                                       & 0.000000000                                                       & 0.00e+00                                                         \\\\\n",
       "\\end{tabular}\n"
      ],
      "text/markdown": [
       "\n",
       "| <!--/--> | filename | MouseID | Treatmentgroup | status | DPI | organ | well_position | plate | mass_400 | mass_500 | mass_600 | mass_700 | mass_800 |\n",
       "|---|---|---|---|---|---|---|---|---|---|---|---|---|---|\n",
       "| 16 | X506_Group1B_70dpi_LV_bottom_281_B_C7_P133.mzXML  | 506                                               | Group1B                                           | naive                                             | 70dpi                                             | LV_bottom                                         | C7                                                | P133                                              | 0.002857440                                       | 0.005542089                                       | 0.001103868                                       | 0.000129000                                       | 7.07e-05                                          |\n",
       "| 17 | X507_Group1B_70dpi_LV_bottom_282_B_C8_P133.mzXML  | 507                                               | Group1B                                           | naive                                             | 70dpi                                             | LV_bottom                                         | C8                                                | P133                                              | 0.002611225                                       | 0.004964885                                       | 0.000804096                                       | 0.000041100                                       | 7.10e-05                                          |\n",
       "| 18 | X508_Group1B_70dpi_LV_bottom_283_B_C9_P133.mzXML  | 508                                               | Group1B                                           | naive                                             | 70dpi                                             | LV_bottom                                         | C9                                                | P133                                              | 0.002884715                                       | 0.007126133                                       | 0.000767636                                       | 0.000542855                                       | 3.01e-05                                          |\n",
       "| 19 | X509_Group1B_70dpi_LV_bottom_284_B_C10_P133.mzXML | 509                                               | Group1B                                           | naive                                             | 70dpi                                             | LV_bottom                                         | C10                                               | P133                                              | 0.000599622                                       | 0.001404994                                       | 0.000033200                                       | 0.000000000                                       | 0.00e+00                                          |\n",
       "| 20 | X510_Group1B_70dpi_LV_bottom_285_B_C11_P133.mzXML | 510                                               | Group1B                                           | naive                                             | 70dpi                                             | LV_bottom                                         | C11                                               | P133                                              | 0.001651799                                       | 0.002580000                                       | 0.000220791                                       | 0.000000000                                       | 0.00e+00                                          |\n",
       "| 21 | X526_Group1B_70dpi_LV_bottom_286_B_C12_P133.mzXML | 526                                               | Group1B                                           | naive                                             | 70dpi                                             | LV_bottom                                         | C12                                               | P133                                              | 0.002699706                                       | 0.005580000                                       | 0.000893692                                       | 0.000000000                                       | 0.00e+00                                          |\n",
       "\n"
      ],
      "text/plain": [
       "   filename                                          MouseID Treatmentgroup\n",
       "16 X506_Group1B_70dpi_LV_bottom_281_B_C7_P133.mzXML  506     Group1B       \n",
       "17 X507_Group1B_70dpi_LV_bottom_282_B_C8_P133.mzXML  507     Group1B       \n",
       "18 X508_Group1B_70dpi_LV_bottom_283_B_C9_P133.mzXML  508     Group1B       \n",
       "19 X509_Group1B_70dpi_LV_bottom_284_B_C10_P133.mzXML 509     Group1B       \n",
       "20 X510_Group1B_70dpi_LV_bottom_285_B_C11_P133.mzXML 510     Group1B       \n",
       "21 X526_Group1B_70dpi_LV_bottom_286_B_C12_P133.mzXML 526     Group1B       \n",
       "   status DPI   organ     well_position plate mass_400    mass_500   \n",
       "16 naive  70dpi LV_bottom C7            P133  0.002857440 0.005542089\n",
       "17 naive  70dpi LV_bottom C8            P133  0.002611225 0.004964885\n",
       "18 naive  70dpi LV_bottom C9            P133  0.002884715 0.007126133\n",
       "19 naive  70dpi LV_bottom C10           P133  0.000599622 0.001404994\n",
       "20 naive  70dpi LV_bottom C11           P133  0.001651799 0.002580000\n",
       "21 naive  70dpi LV_bottom C12           P133  0.002699706 0.005580000\n",
       "   mass_600    mass_700    mass_800\n",
       "16 0.001103868 0.000129000 7.07e-05\n",
       "17 0.000804096 0.000041100 7.10e-05\n",
       "18 0.000767636 0.000542855 3.01e-05\n",
       "19 0.000033200 0.000000000 0.00e+00\n",
       "20 0.000220791 0.000000000 0.00e+00\n",
       "21 0.000893692 0.000000000 0.00e+00"
      ]
     },
     "metadata": {},
     "output_type": "display_data"
    },
    {
     "data": {
      "text/html": [
       "<ol class=list-inline>\n",
       "\t<li>30</li>\n",
       "\t<li>13</li>\n",
       "</ol>\n"
      ],
      "text/latex": [
       "\\begin{enumerate*}\n",
       "\\item 30\n",
       "\\item 13\n",
       "\\end{enumerate*}\n"
      ],
      "text/markdown": [
       "1. 30\n",
       "2. 13\n",
       "\n",
       "\n"
      ],
      "text/plain": [
       "[1] 30 13"
      ]
     },
     "metadata": {},
     "output_type": "display_data"
    },
    {
     "data": {
      "text/html": [
       "<ol class=list-inline>\n",
       "\t<li>30</li>\n",
       "\t<li>5</li>\n",
       "</ol>\n"
      ],
      "text/latex": [
       "\\begin{enumerate*}\n",
       "\\item 30\n",
       "\\item 5\n",
       "\\end{enumerate*}\n"
      ],
      "text/markdown": [
       "1. 30\n",
       "2. 5\n",
       "\n",
       "\n"
      ],
      "text/plain": [
       "[1] 30  5"
      ]
     },
     "metadata": {},
     "output_type": "display_data"
    },
    {
     "data": {
      "text/html": [
       "<ol class=list-inline>\n",
       "\t<li>30</li>\n",
       "\t<li>5</li>\n",
       "</ol>\n"
      ],
      "text/latex": [
       "\\begin{enumerate*}\n",
       "\\item 30\n",
       "\\item 5\n",
       "\\end{enumerate*}\n"
      ],
      "text/markdown": [
       "1. 30\n",
       "2. 5\n",
       "\n",
       "\n"
      ],
      "text/plain": [
       "[1] 30  5"
      ]
     },
     "metadata": {},
     "output_type": "display_data"
    },
    {
     "data": {
      "text/html": [
       "<ol class=list-inline>\n",
       "\t<li>30</li>\n",
       "\t<li>13</li>\n",
       "</ol>\n"
      ],
      "text/latex": [
       "\\begin{enumerate*}\n",
       "\\item 30\n",
       "\\item 13\n",
       "\\end{enumerate*}\n"
      ],
      "text/markdown": [
       "1. 30\n",
       "2. 13\n",
       "\n",
       "\n"
      ],
      "text/plain": [
       "[1] 30 13"
      ]
     },
     "metadata": {},
     "output_type": "display_data"
    }
   ],
   "source": [
    "noMeta<-features_pos[,9:13]\n",
    "head(noMeta)\n",
    "not_zero<-which(colSums(noMeta) != 0)\n",
    "head(not_zero)\n",
    "nonzero <- noMeta[, not_zero]\n",
    "nonzero\n",
    "nonzero_wMeta<-cbind(features_pos[,1:8], nonzero)\n",
    "head(nonzero_wMeta)\n",
    "dim(features_pos)\n",
    "dim(noMeta)\n",
    "dim(nonzero)\n",
    "dim(nonzero_wMeta)"
   ]
  },
  {
   "cell_type": "code",
   "execution_count": 5,
   "metadata": {
    "scrolled": true
   },
   "outputs": [
    {
     "name": "stderr",
     "output_type": "stream",
     "text": [
      "Warning message in wilcox.test.default(x = c(0.000129, 4.11e-05, 0.000542855, 0, :\n",
      "\"cannot compute exact p-value with ties\"Warning message in wilcox.test.default(x = c(7.07e-05, 7.1e-05, 3.01e-05, 0, 0, :\n",
      "\"cannot compute exact p-value with ties\""
     ]
    },
    {
     "data": {
      "text/html": [
       "<ol class=list-inline>\n",
       "\t<li>0.00230645771025736</li>\n",
       "\t<li>0.0164317222193857</li>\n",
       "\t<li>0.0555296397209032</li>\n",
       "\t<li>0.201577563503472</li>\n",
       "\t<li>0.0230986950908164</li>\n",
       "</ol>\n"
      ],
      "text/latex": [
       "\\begin{enumerate*}\n",
       "\\item 0.00230645771025736\n",
       "\\item 0.0164317222193857\n",
       "\\item 0.0555296397209032\n",
       "\\item 0.201577563503472\n",
       "\\item 0.0230986950908164\n",
       "\\end{enumerate*}\n"
      ],
      "text/markdown": [
       "1. 0.00230645771025736\n",
       "2. 0.0164317222193857\n",
       "3. 0.0555296397209032\n",
       "4. 0.201577563503472\n",
       "5. 0.0230986950908164\n",
       "\n",
       "\n"
      ],
      "text/plain": [
       "[1] 0.002306458 0.016431722 0.055529640 0.201577564 0.023098695"
      ]
     },
     "metadata": {},
     "output_type": "display_data"
    },
    {
     "data": {
      "text/html": [
       "<ol class=list-inline>\n",
       "\t<li>0.0115322885512868</li>\n",
       "\t<li>0.0384978251513607</li>\n",
       "\t<li>0.069412049651129</li>\n",
       "\t<li>0.201577563503472</li>\n",
       "\t<li>0.0384978251513607</li>\n",
       "</ol>\n"
      ],
      "text/latex": [
       "\\begin{enumerate*}\n",
       "\\item 0.0115322885512868\n",
       "\\item 0.0384978251513607\n",
       "\\item 0.069412049651129\n",
       "\\item 0.201577563503472\n",
       "\\item 0.0384978251513607\n",
       "\\end{enumerate*}\n"
      ],
      "text/markdown": [
       "1. 0.0115322885512868\n",
       "2. 0.0384978251513607\n",
       "3. 0.069412049651129\n",
       "4. 0.201577563503472\n",
       "5. 0.0384978251513607\n",
       "\n",
       "\n"
      ],
      "text/plain": [
       "[1] 0.01153229 0.03849783 0.06941205 0.20157756 0.03849783"
      ]
     },
     "metadata": {},
     "output_type": "display_data"
    }
   ],
   "source": [
    "pval<-c()\n",
    "\n",
    "for (i in 9:ncol(nonzero_wMeta)) \n",
    "pval<-c(pval,wilcox.test(nonzero_wMeta[,i]~nonzero_wMeta$Treatmentgroup)$p.value)\n",
    "head(pval)\n",
    "pAdj <- p.adjust(pval, method = c(\"fdr\"), n=length(pval)) \n",
    "head(pAdj) \n",
    "\n"
   ]
  },
  {
   "cell_type": "code",
   "execution_count": 6,
   "metadata": {
    "scrolled": true
   },
   "outputs": [
    {
     "data": {
      "text/html": [
       "5"
      ],
      "text/latex": [
       "5"
      ],
      "text/markdown": [
       "5"
      ],
      "text/plain": [
       "[1] 5"
      ]
     },
     "metadata": {},
     "output_type": "display_data"
    }
   ],
   "source": [
    "length(pval)"
   ]
  },
  {
   "cell_type": "code",
   "execution_count": 7,
   "metadata": {
    "scrolled": true
   },
   "outputs": [
    {
     "data": {
      "text/html": [
       "5"
      ],
      "text/latex": [
       "5"
      ],
      "text/markdown": [
       "5"
      ],
      "text/plain": [
       "[1] 5"
      ]
     },
     "metadata": {},
     "output_type": "display_data"
    }
   ],
   "source": [
    "length(pAdj)"
   ]
  },
  {
   "cell_type": "code",
   "execution_count": 8,
   "metadata": {},
   "outputs": [
    {
     "data": {
      "text/html": [
       "<ol class=list-inline>\n",
       "\t<li>2</li>\n",
       "\t<li>5</li>\n",
       "</ol>\n"
      ],
      "text/latex": [
       "\\begin{enumerate*}\n",
       "\\item 2\n",
       "\\item 5\n",
       "\\end{enumerate*}\n"
      ],
      "text/markdown": [
       "1. 2\n",
       "2. 5\n",
       "\n",
       "\n"
      ],
      "text/plain": [
       "[1] 2 5"
      ]
     },
     "metadata": {},
     "output_type": "display_data"
    },
    {
     "data": {
      "text/html": [
       "<table>\n",
       "<thead><tr><th></th><th scope=col>mass_400</th><th scope=col>mass_500</th><th scope=col>mass_600</th></tr></thead>\n",
       "<tbody>\n",
       "\t<tr><th scope=row>Group1B</th><td>0.002613750 </td><td>0.005387895 </td><td>0.0007973031</td></tr>\n",
       "\t<tr><th scope=row>Group3B</th><td>0.003957149 </td><td>0.007226403 </td><td>0.0010671367</td></tr>\n",
       "</tbody>\n",
       "</table>\n"
      ],
      "text/latex": [
       "\\begin{tabular}{r|lll}\n",
       "  & mass\\_400 & mass\\_500 & mass\\_600\\\\\n",
       "\\hline\n",
       "\tGroup1B & 0.002613750  & 0.005387895  & 0.0007973031\\\\\n",
       "\tGroup3B & 0.003957149  & 0.007226403  & 0.0010671367\\\\\n",
       "\\end{tabular}\n"
      ],
      "text/markdown": [
       "\n",
       "| <!--/--> | mass_400 | mass_500 | mass_600 |\n",
       "|---|---|---|---|\n",
       "| Group1B | 0.002613750  | 0.005387895  | 0.0007973031 |\n",
       "| Group3B | 0.003957149  | 0.007226403  | 0.0010671367 |\n",
       "\n"
      ],
      "text/plain": [
       "        mass_400    mass_500    mass_600    \n",
       "Group1B 0.002613750 0.005387895 0.0007973031\n",
       "Group3B 0.003957149 0.007226403 0.0010671367"
      ]
     },
     "metadata": {},
     "output_type": "display_data"
    },
    {
     "data": {
      "text/html": [
       "<dl class=dl-horizontal>\n",
       "\t<dt>mass_400</dt>\n",
       "\t\t<dd>0.660513594064736</dd>\n",
       "\t<dt>mass_500</dt>\n",
       "\t\t<dd>0.745584661077883</dd>\n",
       "\t<dt>mass_600</dt>\n",
       "\t\t<dd>0.747142368697395</dd>\n",
       "\t<dt>mass_700</dt>\n",
       "\t\t<dd>0.571514887326093</dd>\n",
       "\t<dt>mass_800</dt>\n",
       "\t\t<dd>0.321437239370739</dd>\n",
       "</dl>\n"
      ],
      "text/latex": [
       "\\begin{description*}\n",
       "\\item[mass\\textbackslash{}\\_400] 0.660513594064736\n",
       "\\item[mass\\textbackslash{}\\_500] 0.745584661077883\n",
       "\\item[mass\\textbackslash{}\\_600] 0.747142368697395\n",
       "\\item[mass\\textbackslash{}\\_700] 0.571514887326093\n",
       "\\item[mass\\textbackslash{}\\_800] 0.321437239370739\n",
       "\\end{description*}\n"
      ],
      "text/markdown": [
       "mass_400\n",
       ":   0.660513594064736mass_500\n",
       ":   0.745584661077883mass_600\n",
       ":   0.747142368697395mass_700\n",
       ":   0.571514887326093mass_800\n",
       ":   0.321437239370739\n",
       "\n"
      ],
      "text/plain": [
       " mass_400  mass_500  mass_600  mass_700  mass_800 \n",
       "0.6605136 0.7455847 0.7471424 0.5715149 0.3214372 "
      ]
     },
     "metadata": {},
     "output_type": "display_data"
    },
    {
     "data": {
      "text/html": [
       "<ol class=list-inline>\n",
       "\t<li>'numeric'</li>\n",
       "\t<li>'vector'</li>\n",
       "</ol>\n"
      ],
      "text/latex": [
       "\\begin{enumerate*}\n",
       "\\item 'numeric'\n",
       "\\item 'vector'\n",
       "\\end{enumerate*}\n"
      ],
      "text/markdown": [
       "1. 'numeric'\n",
       "2. 'vector'\n",
       "\n",
       "\n"
      ],
      "text/plain": [
       "[1] \"numeric\" \"vector\" "
      ]
     },
     "metadata": {},
     "output_type": "display_data"
    }
   ],
   "source": [
    "avg<- apply(nonzero_wMeta[,9:ncol(nonzero_wMeta)], 2, function(x) tapply(x, nonzero_wMeta$Treatmentgroup, function(x) mean(x))) \n",
    "\n",
    "dim(avg)\n",
    "\n",
    "avg[,1:3]\n",
    "\n",
    "fch <- apply(avg, 2, function(x) x[1]/x[2])\n",
    "\n",
    "head(fch)\n",
    "is(fch)"
   ]
  },
  {
   "cell_type": "code",
   "execution_count": 9,
   "metadata": {
    "scrolled": true
   },
   "outputs": [
    {
     "data": {
      "text/html": [
       "<dl class=dl-horizontal>\n",
       "\t<dt>mass_400</dt>\n",
       "\t\t<dd>0.660513594064736</dd>\n",
       "\t<dt>mass_500</dt>\n",
       "\t\t<dd>0.745584661077883</dd>\n",
       "\t<dt>mass_600</dt>\n",
       "\t\t<dd>0.747142368697395</dd>\n",
       "\t<dt>mass_700</dt>\n",
       "\t\t<dd>0.571514887326093</dd>\n",
       "\t<dt>mass_800</dt>\n",
       "\t\t<dd>0.321437239370739</dd>\n",
       "</dl>\n"
      ],
      "text/latex": [
       "\\begin{description*}\n",
       "\\item[mass\\textbackslash{}\\_400] 0.660513594064736\n",
       "\\item[mass\\textbackslash{}\\_500] 0.745584661077883\n",
       "\\item[mass\\textbackslash{}\\_600] 0.747142368697395\n",
       "\\item[mass\\textbackslash{}\\_700] 0.571514887326093\n",
       "\\item[mass\\textbackslash{}\\_800] 0.321437239370739\n",
       "\\end{description*}\n"
      ],
      "text/markdown": [
       "mass_400\n",
       ":   0.660513594064736mass_500\n",
       ":   0.745584661077883mass_600\n",
       ":   0.747142368697395mass_700\n",
       ":   0.571514887326093mass_800\n",
       ":   0.321437239370739\n",
       "\n"
      ],
      "text/plain": [
       " mass_400  mass_500  mass_600  mass_700  mass_800 \n",
       "0.6605136 0.7455847 0.7471424 0.5715149 0.3214372 "
      ]
     },
     "metadata": {},
     "output_type": "display_data"
    }
   ],
   "source": [
    "fch"
   ]
  },
  {
   "cell_type": "code",
   "execution_count": 10,
   "metadata": {
    "scrolled": false
   },
   "outputs": [],
   "source": [
    "df <- data.frame(fch,pval, pAdj)\n",
    "write.csv(df, \"PE-time-LVB-wilcox-1B-3B.csv\")"
   ]
  },
  {
   "cell_type": "code",
   "execution_count": null,
   "metadata": {},
   "outputs": [],
   "source": []
  },
  {
   "cell_type": "code",
   "execution_count": null,
   "metadata": {},
   "outputs": [],
   "source": []
  },
  {
   "cell_type": "code",
   "execution_count": null,
   "metadata": {},
   "outputs": [],
   "source": []
  },
  {
   "cell_type": "code",
   "execution_count": null,
   "metadata": {},
   "outputs": [],
   "source": []
  },
  {
   "cell_type": "code",
   "execution_count": null,
   "metadata": {},
   "outputs": [],
   "source": []
  },
  {
   "cell_type": "code",
   "execution_count": null,
   "metadata": {},
   "outputs": [],
   "source": []
  }
 ],
 "metadata": {
  "kernelspec": {
   "display_name": "R",
   "language": "R",
   "name": "ir"
  },
  "language_info": {
   "codemirror_mode": "r",
   "file_extension": ".r",
   "mimetype": "text/x-r-source",
   "name": "R",
   "pygments_lexer": "r",
   "version": "3.6.1"
  }
 },
 "nbformat": 4,
 "nbformat_minor": 2
}
