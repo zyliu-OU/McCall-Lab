{
 "cells": [
  {
   "cell_type": "code",
   "execution_count": 11,
   "metadata": {},
   "outputs": [],
   "source": [
    "a <- read.csv(\"03172021-PE-time-LVB-M-F.csv\")"
   ]
  },
  {
   "cell_type": "code",
   "execution_count": 12,
   "metadata": {},
   "outputs": [
    {
     "data": {
      "text/html": [
       "<table>\n",
       "<thead><tr><th scope=col>filename</th><th scope=col>MouseID</th><th scope=col>Treatmentgroup</th><th scope=col>status</th><th scope=col>DPI</th><th scope=col>organ</th><th scope=col>well_position</th><th scope=col>plate</th><th scope=col>mass_400</th><th scope=col>mass_500</th><th scope=col>mass_600</th><th scope=col>mass_700</th><th scope=col>mass_800</th></tr></thead>\n",
       "<tbody>\n",
       "\t<tr><td>X501_Group1A_50dpi_LV_bottom_251_B_A1_P133.mzXML</td><td>501                                             </td><td>Group1A                                         </td><td>naive                                           </td><td>50dpi                                           </td><td>LV_bottom                                       </td><td>A1                                              </td><td>P133                                            </td><td>0.002972957                                     </td><td>0.003479303                                     </td><td>0.000269898                                     </td><td>0.000034000                                     </td><td>0.000000000                                     </td></tr>\n",
       "\t<tr><td>X502_Group1A_50dpi_LV_bottom_252_B_A2_P133.mzXML</td><td>502                                             </td><td>Group1A                                         </td><td>naive                                           </td><td>50dpi                                           </td><td>LV_bottom                                       </td><td>A2                                              </td><td>P133                                            </td><td>0.003200256                                     </td><td>0.005721087                                     </td><td>0.000964777                                     </td><td>0.001450000                                     </td><td>0.000223708                                     </td></tr>\n",
       "\t<tr><td>X503_Group1A_50dpi_LV_bottom_253_B_A3_P133.mzXML</td><td>503                                             </td><td>Group1A                                         </td><td>naive                                           </td><td>50dpi                                           </td><td>LV_bottom                                       </td><td>A3                                              </td><td>P133                                            </td><td>0.004692557                                     </td><td>0.007977204                                     </td><td>0.001291204                                     </td><td>0.000824520                                     </td><td>0.000237466                                     </td></tr>\n",
       "\t<tr><td>X504_Group1A_50dpi_LV_bottom_254_B_A4_P133.mzXML</td><td>504                                             </td><td>Group1A                                         </td><td>naive                                           </td><td>50dpi                                           </td><td>LV_bottom                                       </td><td>A4                                              </td><td>P133                                            </td><td>0.004836650                                     </td><td>0.008975679                                     </td><td>0.001705570                                     </td><td>0.000280497                                     </td><td>0.000000000                                     </td></tr>\n",
       "\t<tr><td>X505_Group1A_50dpi_LV_bottom_255_B_A5_P133.mzXML</td><td>505                                             </td><td>Group1A                                         </td><td>naive                                           </td><td>50dpi                                           </td><td>LV_bottom                                       </td><td>A5                                              </td><td>P133                                            </td><td>0.004188893                                     </td><td>0.008150000                                     </td><td>0.001685713                                     </td><td>0.000852005                                     </td><td>0.000105163                                     </td></tr>\n",
       "\t<tr><td>X521_Group1A_50dpi_LV_bottom_256_B_A6_P133.mzXML</td><td>521                                             </td><td>Group1A                                         </td><td>naive                                           </td><td>50dpi                                           </td><td>LV_bottom                                       </td><td>A6                                              </td><td>P133                                            </td><td>0.003719791                                     </td><td>0.007589209                                     </td><td>0.000961049                                     </td><td>0.001908150                                     </td><td>0.000073400                                     </td></tr>\n",
       "</tbody>\n",
       "</table>\n"
      ],
      "text/latex": [
       "\\begin{tabular}{r|lllllllllllll}\n",
       " filename & MouseID & Treatmentgroup & status & DPI & organ & well\\_position & plate & mass\\_400 & mass\\_500 & mass\\_600 & mass\\_700 & mass\\_800\\\\\n",
       "\\hline\n",
       "\t X501\\_Group1A\\_50dpi\\_LV\\_bottom\\_251\\_B\\_A1\\_P133.mzXML & 501                                                              & Group1A                                                          & naive                                                            & 50dpi                                                            & LV\\_bottom                                                      & A1                                                               & P133                                                             & 0.002972957                                                      & 0.003479303                                                      & 0.000269898                                                      & 0.000034000                                                      & 0.000000000                                                     \\\\\n",
       "\t X502\\_Group1A\\_50dpi\\_LV\\_bottom\\_252\\_B\\_A2\\_P133.mzXML & 502                                                              & Group1A                                                          & naive                                                            & 50dpi                                                            & LV\\_bottom                                                      & A2                                                               & P133                                                             & 0.003200256                                                      & 0.005721087                                                      & 0.000964777                                                      & 0.001450000                                                      & 0.000223708                                                     \\\\\n",
       "\t X503\\_Group1A\\_50dpi\\_LV\\_bottom\\_253\\_B\\_A3\\_P133.mzXML & 503                                                              & Group1A                                                          & naive                                                            & 50dpi                                                            & LV\\_bottom                                                      & A3                                                               & P133                                                             & 0.004692557                                                      & 0.007977204                                                      & 0.001291204                                                      & 0.000824520                                                      & 0.000237466                                                     \\\\\n",
       "\t X504\\_Group1A\\_50dpi\\_LV\\_bottom\\_254\\_B\\_A4\\_P133.mzXML & 504                                                              & Group1A                                                          & naive                                                            & 50dpi                                                            & LV\\_bottom                                                      & A4                                                               & P133                                                             & 0.004836650                                                      & 0.008975679                                                      & 0.001705570                                                      & 0.000280497                                                      & 0.000000000                                                     \\\\\n",
       "\t X505\\_Group1A\\_50dpi\\_LV\\_bottom\\_255\\_B\\_A5\\_P133.mzXML & 505                                                              & Group1A                                                          & naive                                                            & 50dpi                                                            & LV\\_bottom                                                      & A5                                                               & P133                                                             & 0.004188893                                                      & 0.008150000                                                      & 0.001685713                                                      & 0.000852005                                                      & 0.000105163                                                     \\\\\n",
       "\t X521\\_Group1A\\_50dpi\\_LV\\_bottom\\_256\\_B\\_A6\\_P133.mzXML & 521                                                              & Group1A                                                          & naive                                                            & 50dpi                                                            & LV\\_bottom                                                      & A6                                                               & P133                                                             & 0.003719791                                                      & 0.007589209                                                      & 0.000961049                                                      & 0.001908150                                                      & 0.000073400                                                     \\\\\n",
       "\\end{tabular}\n"
      ],
      "text/markdown": [
       "\n",
       "| filename | MouseID | Treatmentgroup | status | DPI | organ | well_position | plate | mass_400 | mass_500 | mass_600 | mass_700 | mass_800 |\n",
       "|---|---|---|---|---|---|---|---|---|---|---|---|---|\n",
       "| X501_Group1A_50dpi_LV_bottom_251_B_A1_P133.mzXML | 501                                              | Group1A                                          | naive                                            | 50dpi                                            | LV_bottom                                        | A1                                               | P133                                             | 0.002972957                                      | 0.003479303                                      | 0.000269898                                      | 0.000034000                                      | 0.000000000                                      |\n",
       "| X502_Group1A_50dpi_LV_bottom_252_B_A2_P133.mzXML | 502                                              | Group1A                                          | naive                                            | 50dpi                                            | LV_bottom                                        | A2                                               | P133                                             | 0.003200256                                      | 0.005721087                                      | 0.000964777                                      | 0.001450000                                      | 0.000223708                                      |\n",
       "| X503_Group1A_50dpi_LV_bottom_253_B_A3_P133.mzXML | 503                                              | Group1A                                          | naive                                            | 50dpi                                            | LV_bottom                                        | A3                                               | P133                                             | 0.004692557                                      | 0.007977204                                      | 0.001291204                                      | 0.000824520                                      | 0.000237466                                      |\n",
       "| X504_Group1A_50dpi_LV_bottom_254_B_A4_P133.mzXML | 504                                              | Group1A                                          | naive                                            | 50dpi                                            | LV_bottom                                        | A4                                               | P133                                             | 0.004836650                                      | 0.008975679                                      | 0.001705570                                      | 0.000280497                                      | 0.000000000                                      |\n",
       "| X505_Group1A_50dpi_LV_bottom_255_B_A5_P133.mzXML | 505                                              | Group1A                                          | naive                                            | 50dpi                                            | LV_bottom                                        | A5                                               | P133                                             | 0.004188893                                      | 0.008150000                                      | 0.001685713                                      | 0.000852005                                      | 0.000105163                                      |\n",
       "| X521_Group1A_50dpi_LV_bottom_256_B_A6_P133.mzXML | 521                                              | Group1A                                          | naive                                            | 50dpi                                            | LV_bottom                                        | A6                                               | P133                                             | 0.003719791                                      | 0.007589209                                      | 0.000961049                                      | 0.001908150                                      | 0.000073400                                      |\n",
       "\n"
      ],
      "text/plain": [
       "  filename                                         MouseID Treatmentgroup\n",
       "1 X501_Group1A_50dpi_LV_bottom_251_B_A1_P133.mzXML 501     Group1A       \n",
       "2 X502_Group1A_50dpi_LV_bottom_252_B_A2_P133.mzXML 502     Group1A       \n",
       "3 X503_Group1A_50dpi_LV_bottom_253_B_A3_P133.mzXML 503     Group1A       \n",
       "4 X504_Group1A_50dpi_LV_bottom_254_B_A4_P133.mzXML 504     Group1A       \n",
       "5 X505_Group1A_50dpi_LV_bottom_255_B_A5_P133.mzXML 505     Group1A       \n",
       "6 X521_Group1A_50dpi_LV_bottom_256_B_A6_P133.mzXML 521     Group1A       \n",
       "  status DPI   organ     well_position plate mass_400    mass_500   \n",
       "1 naive  50dpi LV_bottom A1            P133  0.002972957 0.003479303\n",
       "2 naive  50dpi LV_bottom A2            P133  0.003200256 0.005721087\n",
       "3 naive  50dpi LV_bottom A3            P133  0.004692557 0.007977204\n",
       "4 naive  50dpi LV_bottom A4            P133  0.004836650 0.008975679\n",
       "5 naive  50dpi LV_bottom A5            P133  0.004188893 0.008150000\n",
       "6 naive  50dpi LV_bottom A6            P133  0.003719791 0.007589209\n",
       "  mass_600    mass_700    mass_800   \n",
       "1 0.000269898 0.000034000 0.000000000\n",
       "2 0.000964777 0.001450000 0.000223708\n",
       "3 0.001291204 0.000824520 0.000237466\n",
       "4 0.001705570 0.000280497 0.000000000\n",
       "5 0.001685713 0.000852005 0.000105163\n",
       "6 0.000961049 0.001908150 0.000073400"
      ]
     },
     "metadata": {},
     "output_type": "display_data"
    },
    {
     "data": {
      "text/html": [
       "<ol class=list-inline>\n",
       "\t<li>90</li>\n",
       "\t<li>13</li>\n",
       "</ol>\n"
      ],
      "text/latex": [
       "\\begin{enumerate*}\n",
       "\\item 90\n",
       "\\item 13\n",
       "\\end{enumerate*}\n"
      ],
      "text/markdown": [
       "1. 90\n",
       "2. 13\n",
       "\n",
       "\n"
      ],
      "text/plain": [
       "[1] 90 13"
      ]
     },
     "metadata": {},
     "output_type": "display_data"
    }
   ],
   "source": [
    "head(a)\n",
    "dim(a)"
   ]
  },
  {
   "cell_type": "code",
   "execution_count": 13,
   "metadata": {},
   "outputs": [
    {
     "data": {
      "text/html": [
       "<table>\n",
       "<thead><tr><th></th><th scope=col>filename</th><th scope=col>MouseID</th><th scope=col>Treatmentgroup</th><th scope=col>status</th><th scope=col>DPI</th><th scope=col>organ</th><th scope=col>well_position</th><th scope=col>plate</th><th scope=col>mass_400</th><th scope=col>mass_500</th><th scope=col>mass_600</th><th scope=col>mass_700</th><th scope=col>mass_800</th></tr></thead>\n",
       "<tbody>\n",
       "\t<tr><th scope=row>31</th><td>X511_Group1C_142dpi_LV_bottom_161_G_A1_P132.mzXML</td><td>511                                              </td><td>Group1C                                          </td><td>naive                                            </td><td>142dpi                                           </td><td>LV_bottom                                        </td><td>A1                                               </td><td>P132                                             </td><td>0.002386624                                      </td><td>0.006808896                                      </td><td>0.000837413                                      </td><td>0.000237425                                      </td><td>0.00000000                                       </td></tr>\n",
       "\t<tr><th scope=row>32</th><td>X512_Group1C_142dpi_LV_bottom_162_G_A2_P132.mzXML</td><td>512                                              </td><td>Group1C                                          </td><td>naive                                            </td><td>142dpi                                           </td><td>LV_bottom                                        </td><td>A2                                               </td><td>P132                                             </td><td>0.001949328                                      </td><td>0.005010000                                      </td><td>0.000781512                                      </td><td>0.000308839                                      </td><td>0.00011588                                       </td></tr>\n",
       "\t<tr><th scope=row>33</th><td>X513_Group1C_142dpi_LV_bottom_163_G_A3_P132.mzXML</td><td>513                                              </td><td>Group1C                                          </td><td>naive                                            </td><td>142dpi                                           </td><td>LV_bottom                                        </td><td>A3                                               </td><td>P132                                             </td><td>0.001434203                                      </td><td>0.004690000                                      </td><td>0.000345234                                      </td><td>0.000658709                                      </td><td>0.00000000                                       </td></tr>\n",
       "\t<tr><th scope=row>34</th><td>X514_Group1C_142dpi_LV_bottom_164_G_A4_P132.mzXML</td><td>514                                              </td><td>Group1C                                          </td><td>naive                                            </td><td>142dpi                                           </td><td>LV_bottom                                        </td><td>A4                                               </td><td>P132                                             </td><td>0.001641283                                      </td><td>0.003340000                                      </td><td>0.000589426                                      </td><td>0.000083400                                      </td><td>0.00000000                                       </td></tr>\n",
       "\t<tr><th scope=row>35</th><td>X515_Group1C_142dpi_LV_bottom_165_G_A5_P132.mzXML</td><td>515                                              </td><td>Group1C                                          </td><td>naive                                            </td><td>142dpi                                           </td><td>LV_bottom                                        </td><td>A5                                               </td><td>P132                                             </td><td>0.001665581                                      </td><td>0.005882812                                      </td><td>0.000535521                                      </td><td>0.000000000                                      </td><td>0.00000000                                       </td></tr>\n",
       "\t<tr><th scope=row>36</th><td>X531_Group1C_142dpi_LV_bottom_166_G_A6_P132.mzXML</td><td>531                                              </td><td>Group1C                                          </td><td>naive                                            </td><td>142dpi                                           </td><td>LV_bottom                                        </td><td>A6                                               </td><td>P132                                             </td><td>0.001219054                                      </td><td>0.003260000                                      </td><td>0.000628733                                      </td><td>0.000790339                                      </td><td>0.00006560                                       </td></tr>\n",
       "</tbody>\n",
       "</table>\n"
      ],
      "text/latex": [
       "\\begin{tabular}{r|lllllllllllll}\n",
       "  & filename & MouseID & Treatmentgroup & status & DPI & organ & well\\_position & plate & mass\\_400 & mass\\_500 & mass\\_600 & mass\\_700 & mass\\_800\\\\\n",
       "\\hline\n",
       "\t31 & X511\\_Group1C\\_142dpi\\_LV\\_bottom\\_161\\_G\\_A1\\_P132.mzXML & 511                                                               & Group1C                                                           & naive                                                             & 142dpi                                                            & LV\\_bottom                                                       & A1                                                                & P132                                                              & 0.002386624                                                       & 0.006808896                                                       & 0.000837413                                                       & 0.000237425                                                       & 0.00000000                                                       \\\\\n",
       "\t32 & X512\\_Group1C\\_142dpi\\_LV\\_bottom\\_162\\_G\\_A2\\_P132.mzXML & 512                                                               & Group1C                                                           & naive                                                             & 142dpi                                                            & LV\\_bottom                                                       & A2                                                                & P132                                                              & 0.001949328                                                       & 0.005010000                                                       & 0.000781512                                                       & 0.000308839                                                       & 0.00011588                                                       \\\\\n",
       "\t33 & X513\\_Group1C\\_142dpi\\_LV\\_bottom\\_163\\_G\\_A3\\_P132.mzXML & 513                                                               & Group1C                                                           & naive                                                             & 142dpi                                                            & LV\\_bottom                                                       & A3                                                                & P132                                                              & 0.001434203                                                       & 0.004690000                                                       & 0.000345234                                                       & 0.000658709                                                       & 0.00000000                                                       \\\\\n",
       "\t34 & X514\\_Group1C\\_142dpi\\_LV\\_bottom\\_164\\_G\\_A4\\_P132.mzXML & 514                                                               & Group1C                                                           & naive                                                             & 142dpi                                                            & LV\\_bottom                                                       & A4                                                                & P132                                                              & 0.001641283                                                       & 0.003340000                                                       & 0.000589426                                                       & 0.000083400                                                       & 0.00000000                                                       \\\\\n",
       "\t35 & X515\\_Group1C\\_142dpi\\_LV\\_bottom\\_165\\_G\\_A5\\_P132.mzXML & 515                                                               & Group1C                                                           & naive                                                             & 142dpi                                                            & LV\\_bottom                                                       & A5                                                                & P132                                                              & 0.001665581                                                       & 0.005882812                                                       & 0.000535521                                                       & 0.000000000                                                       & 0.00000000                                                       \\\\\n",
       "\t36 & X531\\_Group1C\\_142dpi\\_LV\\_bottom\\_166\\_G\\_A6\\_P132.mzXML & 531                                                               & Group1C                                                           & naive                                                             & 142dpi                                                            & LV\\_bottom                                                       & A6                                                                & P132                                                              & 0.001219054                                                       & 0.003260000                                                       & 0.000628733                                                       & 0.000790339                                                       & 0.00006560                                                       \\\\\n",
       "\\end{tabular}\n"
      ],
      "text/markdown": [
       "\n",
       "| <!--/--> | filename | MouseID | Treatmentgroup | status | DPI | organ | well_position | plate | mass_400 | mass_500 | mass_600 | mass_700 | mass_800 |\n",
       "|---|---|---|---|---|---|---|---|---|---|---|---|---|---|\n",
       "| 31 | X511_Group1C_142dpi_LV_bottom_161_G_A1_P132.mzXML | 511                                               | Group1C                                           | naive                                             | 142dpi                                            | LV_bottom                                         | A1                                                | P132                                              | 0.002386624                                       | 0.006808896                                       | 0.000837413                                       | 0.000237425                                       | 0.00000000                                        |\n",
       "| 32 | X512_Group1C_142dpi_LV_bottom_162_G_A2_P132.mzXML | 512                                               | Group1C                                           | naive                                             | 142dpi                                            | LV_bottom                                         | A2                                                | P132                                              | 0.001949328                                       | 0.005010000                                       | 0.000781512                                       | 0.000308839                                       | 0.00011588                                        |\n",
       "| 33 | X513_Group1C_142dpi_LV_bottom_163_G_A3_P132.mzXML | 513                                               | Group1C                                           | naive                                             | 142dpi                                            | LV_bottom                                         | A3                                                | P132                                              | 0.001434203                                       | 0.004690000                                       | 0.000345234                                       | 0.000658709                                       | 0.00000000                                        |\n",
       "| 34 | X514_Group1C_142dpi_LV_bottom_164_G_A4_P132.mzXML | 514                                               | Group1C                                           | naive                                             | 142dpi                                            | LV_bottom                                         | A4                                                | P132                                              | 0.001641283                                       | 0.003340000                                       | 0.000589426                                       | 0.000083400                                       | 0.00000000                                        |\n",
       "| 35 | X515_Group1C_142dpi_LV_bottom_165_G_A5_P132.mzXML | 515                                               | Group1C                                           | naive                                             | 142dpi                                            | LV_bottom                                         | A5                                                | P132                                              | 0.001665581                                       | 0.005882812                                       | 0.000535521                                       | 0.000000000                                       | 0.00000000                                        |\n",
       "| 36 | X531_Group1C_142dpi_LV_bottom_166_G_A6_P132.mzXML | 531                                               | Group1C                                           | naive                                             | 142dpi                                            | LV_bottom                                         | A6                                                | P132                                              | 0.001219054                                       | 0.003260000                                       | 0.000628733                                       | 0.000790339                                       | 0.00006560                                        |\n",
       "\n"
      ],
      "text/plain": [
       "   filename                                          MouseID Treatmentgroup\n",
       "31 X511_Group1C_142dpi_LV_bottom_161_G_A1_P132.mzXML 511     Group1C       \n",
       "32 X512_Group1C_142dpi_LV_bottom_162_G_A2_P132.mzXML 512     Group1C       \n",
       "33 X513_Group1C_142dpi_LV_bottom_163_G_A3_P132.mzXML 513     Group1C       \n",
       "34 X514_Group1C_142dpi_LV_bottom_164_G_A4_P132.mzXML 514     Group1C       \n",
       "35 X515_Group1C_142dpi_LV_bottom_165_G_A5_P132.mzXML 515     Group1C       \n",
       "36 X531_Group1C_142dpi_LV_bottom_166_G_A6_P132.mzXML 531     Group1C       \n",
       "   status DPI    organ     well_position plate mass_400    mass_500   \n",
       "31 naive  142dpi LV_bottom A1            P132  0.002386624 0.006808896\n",
       "32 naive  142dpi LV_bottom A2            P132  0.001949328 0.005010000\n",
       "33 naive  142dpi LV_bottom A3            P132  0.001434203 0.004690000\n",
       "34 naive  142dpi LV_bottom A4            P132  0.001641283 0.003340000\n",
       "35 naive  142dpi LV_bottom A5            P132  0.001665581 0.005882812\n",
       "36 naive  142dpi LV_bottom A6            P132  0.001219054 0.003260000\n",
       "   mass_600    mass_700    mass_800  \n",
       "31 0.000837413 0.000237425 0.00000000\n",
       "32 0.000781512 0.000308839 0.00011588\n",
       "33 0.000345234 0.000658709 0.00000000\n",
       "34 0.000589426 0.000083400 0.00000000\n",
       "35 0.000535521 0.000000000 0.00000000\n",
       "36 0.000628733 0.000790339 0.00006560"
      ]
     },
     "metadata": {},
     "output_type": "display_data"
    },
    {
     "data": {
      "text/html": [
       "<ol class=list-inline>\n",
       "\t<li>30</li>\n",
       "\t<li>13</li>\n",
       "</ol>\n"
      ],
      "text/latex": [
       "\\begin{enumerate*}\n",
       "\\item 30\n",
       "\\item 13\n",
       "\\end{enumerate*}\n"
      ],
      "text/markdown": [
       "1. 30\n",
       "2. 13\n",
       "\n",
       "\n"
      ],
      "text/plain": [
       "[1] 30 13"
      ]
     },
     "metadata": {},
     "output_type": "display_data"
    }
   ],
   "source": [
    "features_pos<-droplevels(subset(a, a$Treatmentgroup==c(\"Group1C\")|a$Treatmentgroup==c(\"Group3E\")))\n",
    "head(features_pos)\n",
    "dim(features_pos)"
   ]
  },
  {
   "cell_type": "code",
   "execution_count": 14,
   "metadata": {
    "scrolled": false
   },
   "outputs": [
    {
     "data": {
      "text/html": [
       "<table>\n",
       "<thead><tr><th></th><th scope=col>mass_400</th><th scope=col>mass_500</th><th scope=col>mass_600</th><th scope=col>mass_700</th><th scope=col>mass_800</th></tr></thead>\n",
       "<tbody>\n",
       "\t<tr><th scope=row>31</th><td>0.002386624</td><td>0.006808896</td><td>0.000837413</td><td>0.000237425</td><td>0.00000000 </td></tr>\n",
       "\t<tr><th scope=row>32</th><td>0.001949328</td><td>0.005010000</td><td>0.000781512</td><td>0.000308839</td><td>0.00011588 </td></tr>\n",
       "\t<tr><th scope=row>33</th><td>0.001434203</td><td>0.004690000</td><td>0.000345234</td><td>0.000658709</td><td>0.00000000 </td></tr>\n",
       "\t<tr><th scope=row>34</th><td>0.001641283</td><td>0.003340000</td><td>0.000589426</td><td>0.000083400</td><td>0.00000000 </td></tr>\n",
       "\t<tr><th scope=row>35</th><td>0.001665581</td><td>0.005882812</td><td>0.000535521</td><td>0.000000000</td><td>0.00000000 </td></tr>\n",
       "\t<tr><th scope=row>36</th><td>0.001219054</td><td>0.003260000</td><td>0.000628733</td><td>0.000790339</td><td>0.00006560 </td></tr>\n",
       "</tbody>\n",
       "</table>\n"
      ],
      "text/latex": [
       "\\begin{tabular}{r|lllll}\n",
       "  & mass\\_400 & mass\\_500 & mass\\_600 & mass\\_700 & mass\\_800\\\\\n",
       "\\hline\n",
       "\t31 & 0.002386624 & 0.006808896 & 0.000837413 & 0.000237425 & 0.00000000 \\\\\n",
       "\t32 & 0.001949328 & 0.005010000 & 0.000781512 & 0.000308839 & 0.00011588 \\\\\n",
       "\t33 & 0.001434203 & 0.004690000 & 0.000345234 & 0.000658709 & 0.00000000 \\\\\n",
       "\t34 & 0.001641283 & 0.003340000 & 0.000589426 & 0.000083400 & 0.00000000 \\\\\n",
       "\t35 & 0.001665581 & 0.005882812 & 0.000535521 & 0.000000000 & 0.00000000 \\\\\n",
       "\t36 & 0.001219054 & 0.003260000 & 0.000628733 & 0.000790339 & 0.00006560 \\\\\n",
       "\\end{tabular}\n"
      ],
      "text/markdown": [
       "\n",
       "| <!--/--> | mass_400 | mass_500 | mass_600 | mass_700 | mass_800 |\n",
       "|---|---|---|---|---|---|\n",
       "| 31 | 0.002386624 | 0.006808896 | 0.000837413 | 0.000237425 | 0.00000000  |\n",
       "| 32 | 0.001949328 | 0.005010000 | 0.000781512 | 0.000308839 | 0.00011588  |\n",
       "| 33 | 0.001434203 | 0.004690000 | 0.000345234 | 0.000658709 | 0.00000000  |\n",
       "| 34 | 0.001641283 | 0.003340000 | 0.000589426 | 0.000083400 | 0.00000000  |\n",
       "| 35 | 0.001665581 | 0.005882812 | 0.000535521 | 0.000000000 | 0.00000000  |\n",
       "| 36 | 0.001219054 | 0.003260000 | 0.000628733 | 0.000790339 | 0.00006560  |\n",
       "\n"
      ],
      "text/plain": [
       "   mass_400    mass_500    mass_600    mass_700    mass_800  \n",
       "31 0.002386624 0.006808896 0.000837413 0.000237425 0.00000000\n",
       "32 0.001949328 0.005010000 0.000781512 0.000308839 0.00011588\n",
       "33 0.001434203 0.004690000 0.000345234 0.000658709 0.00000000\n",
       "34 0.001641283 0.003340000 0.000589426 0.000083400 0.00000000\n",
       "35 0.001665581 0.005882812 0.000535521 0.000000000 0.00000000\n",
       "36 0.001219054 0.003260000 0.000628733 0.000790339 0.00006560"
      ]
     },
     "metadata": {},
     "output_type": "display_data"
    },
    {
     "data": {
      "text/html": [
       "<dl class=dl-horizontal>\n",
       "\t<dt>mass_400</dt>\n",
       "\t\t<dd>1</dd>\n",
       "\t<dt>mass_500</dt>\n",
       "\t\t<dd>2</dd>\n",
       "\t<dt>mass_600</dt>\n",
       "\t\t<dd>3</dd>\n",
       "\t<dt>mass_700</dt>\n",
       "\t\t<dd>4</dd>\n",
       "\t<dt>mass_800</dt>\n",
       "\t\t<dd>5</dd>\n",
       "</dl>\n"
      ],
      "text/latex": [
       "\\begin{description*}\n",
       "\\item[mass\\textbackslash{}\\_400] 1\n",
       "\\item[mass\\textbackslash{}\\_500] 2\n",
       "\\item[mass\\textbackslash{}\\_600] 3\n",
       "\\item[mass\\textbackslash{}\\_700] 4\n",
       "\\item[mass\\textbackslash{}\\_800] 5\n",
       "\\end{description*}\n"
      ],
      "text/markdown": [
       "mass_400\n",
       ":   1mass_500\n",
       ":   2mass_600\n",
       ":   3mass_700\n",
       ":   4mass_800\n",
       ":   5\n",
       "\n"
      ],
      "text/plain": [
       "mass_400 mass_500 mass_600 mass_700 mass_800 \n",
       "       1        2        3        4        5 "
      ]
     },
     "metadata": {},
     "output_type": "display_data"
    },
    {
     "data": {
      "text/html": [
       "<table>\n",
       "<thead><tr><th></th><th scope=col>mass_400</th><th scope=col>mass_500</th><th scope=col>mass_600</th><th scope=col>mass_700</th><th scope=col>mass_800</th></tr></thead>\n",
       "<tbody>\n",
       "\t<tr><th scope=row>31</th><td>0.002386624</td><td>0.006808896</td><td>0.000837413</td><td>0.000237425</td><td>0.000000000</td></tr>\n",
       "\t<tr><th scope=row>32</th><td>0.001949328</td><td>0.005010000</td><td>0.000781512</td><td>0.000308839</td><td>0.000115880</td></tr>\n",
       "\t<tr><th scope=row>33</th><td>0.001434203</td><td>0.004690000</td><td>0.000345234</td><td>0.000658709</td><td>0.000000000</td></tr>\n",
       "\t<tr><th scope=row>34</th><td>0.001641283</td><td>0.003340000</td><td>0.000589426</td><td>0.000083400</td><td>0.000000000</td></tr>\n",
       "\t<tr><th scope=row>35</th><td>0.001665581</td><td>0.005882812</td><td>0.000535521</td><td>0.000000000</td><td>0.000000000</td></tr>\n",
       "\t<tr><th scope=row>36</th><td>0.001219054</td><td>0.003260000</td><td>0.000628733</td><td>0.000790339</td><td>0.000065600</td></tr>\n",
       "\t<tr><th scope=row>37</th><td>0.001795573</td><td>0.004772157</td><td>0.000495074</td><td>0.000000000</td><td>0.000000000</td></tr>\n",
       "\t<tr><th scope=row>38</th><td>0.002234918</td><td>0.005420000</td><td>0.000413138</td><td>0.000325774</td><td>0.000063700</td></tr>\n",
       "\t<tr><th scope=row>39</th><td>0.001583809</td><td>0.004293131</td><td>0.000414748</td><td>0.000274422</td><td>0.000033000</td></tr>\n",
       "\t<tr><th scope=row>40</th><td>0.000870789</td><td>0.004582205</td><td>0.000116844</td><td>0.000674013</td><td>0.000000000</td></tr>\n",
       "\t<tr><th scope=row>41</th><td>0.002084659</td><td>0.005846914</td><td>0.000529472</td><td>0.000333558</td><td>0.000000000</td></tr>\n",
       "\t<tr><th scope=row>42</th><td>0.002075460</td><td>0.005936022</td><td>0.000346977</td><td>0.000996804</td><td>0.000134158</td></tr>\n",
       "\t<tr><th scope=row>43</th><td>0.002481509</td><td>0.006470000</td><td>0.000684149</td><td>0.000505311</td><td>0.000091900</td></tr>\n",
       "\t<tr><th scope=row>44</th><td>0.001082505</td><td>0.003909082</td><td>0.000187725</td><td>0.000388151</td><td>0.000000000</td></tr>\n",
       "\t<tr><th scope=row>45</th><td>0.001589865</td><td>0.005420000</td><td>0.000610133</td><td>0.002240806</td><td>0.000166443</td></tr>\n",
       "\t<tr><th scope=row>76</th><td>0.002222101</td><td>0.004490000</td><td>0.000513737</td><td>0.000079500</td><td>0.000163421</td></tr>\n",
       "\t<tr><th scope=row>77</th><td>0.001739643</td><td>0.007251383</td><td>0.000362827</td><td>0.002699924</td><td>0.000707577</td></tr>\n",
       "\t<tr><th scope=row>78</th><td>0.001386222</td><td>0.004660000</td><td>0.000276625</td><td>0.002056273</td><td>0.000102736</td></tr>\n",
       "\t<tr><th scope=row>79</th><td>0.001221590</td><td>0.003891675</td><td>0.000361526</td><td>0.000202556</td><td>0.000116045</td></tr>\n",
       "\t<tr><th scope=row>80</th><td>0.001385315</td><td>0.005610814</td><td>0.000221267</td><td>0.001172862</td><td>0.000026800</td></tr>\n",
       "\t<tr><th scope=row>81</th><td>0.001502078</td><td>0.005147911</td><td>0.000250013</td><td>0.001024529</td><td>0.000072800</td></tr>\n",
       "\t<tr><th scope=row>82</th><td>0.000898835</td><td>0.004464547</td><td>0.000076600</td><td>0.000660477</td><td>0.000000000</td></tr>\n",
       "\t<tr><th scope=row>83</th><td>0.001210896</td><td>0.004538624</td><td>0.000159301</td><td>0.000701975</td><td>0.000000000</td></tr>\n",
       "\t<tr><th scope=row>84</th><td>0.001234798</td><td>0.004125246</td><td>0.000257433</td><td>0.000409967</td><td>0.000071600</td></tr>\n",
       "\t<tr><th scope=row>85</th><td>0.001471597</td><td>0.003995852</td><td>0.000196376</td><td>0.000000000</td><td>0.000103846</td></tr>\n",
       "\t<tr><th scope=row>86</th><td>0.001465284</td><td>0.004141659</td><td>0.000202241</td><td>0.000348033</td><td>0.000000000</td></tr>\n",
       "\t<tr><th scope=row>87</th><td>0.000633482</td><td>0.004077569</td><td>0.000000000</td><td>0.000744383</td><td>0.000000000</td></tr>\n",
       "\t<tr><th scope=row>88</th><td>0.001289179</td><td>0.004264533</td><td>0.000033900</td><td>0.000196109</td><td>0.000000000</td></tr>\n",
       "\t<tr><th scope=row>89</th><td>0.000731768</td><td>0.003198521</td><td>0.000000000</td><td>0.000224952</td><td>0.000000000</td></tr>\n",
       "\t<tr><th scope=row>90</th><td>0.000953232</td><td>0.003155758</td><td>0.000199600</td><td>0.000000000</td><td>0.000000000</td></tr>\n",
       "</tbody>\n",
       "</table>\n"
      ],
      "text/latex": [
       "\\begin{tabular}{r|lllll}\n",
       "  & mass\\_400 & mass\\_500 & mass\\_600 & mass\\_700 & mass\\_800\\\\\n",
       "\\hline\n",
       "\t31 & 0.002386624 & 0.006808896 & 0.000837413 & 0.000237425 & 0.000000000\\\\\n",
       "\t32 & 0.001949328 & 0.005010000 & 0.000781512 & 0.000308839 & 0.000115880\\\\\n",
       "\t33 & 0.001434203 & 0.004690000 & 0.000345234 & 0.000658709 & 0.000000000\\\\\n",
       "\t34 & 0.001641283 & 0.003340000 & 0.000589426 & 0.000083400 & 0.000000000\\\\\n",
       "\t35 & 0.001665581 & 0.005882812 & 0.000535521 & 0.000000000 & 0.000000000\\\\\n",
       "\t36 & 0.001219054 & 0.003260000 & 0.000628733 & 0.000790339 & 0.000065600\\\\\n",
       "\t37 & 0.001795573 & 0.004772157 & 0.000495074 & 0.000000000 & 0.000000000\\\\\n",
       "\t38 & 0.002234918 & 0.005420000 & 0.000413138 & 0.000325774 & 0.000063700\\\\\n",
       "\t39 & 0.001583809 & 0.004293131 & 0.000414748 & 0.000274422 & 0.000033000\\\\\n",
       "\t40 & 0.000870789 & 0.004582205 & 0.000116844 & 0.000674013 & 0.000000000\\\\\n",
       "\t41 & 0.002084659 & 0.005846914 & 0.000529472 & 0.000333558 & 0.000000000\\\\\n",
       "\t42 & 0.002075460 & 0.005936022 & 0.000346977 & 0.000996804 & 0.000134158\\\\\n",
       "\t43 & 0.002481509 & 0.006470000 & 0.000684149 & 0.000505311 & 0.000091900\\\\\n",
       "\t44 & 0.001082505 & 0.003909082 & 0.000187725 & 0.000388151 & 0.000000000\\\\\n",
       "\t45 & 0.001589865 & 0.005420000 & 0.000610133 & 0.002240806 & 0.000166443\\\\\n",
       "\t76 & 0.002222101 & 0.004490000 & 0.000513737 & 0.000079500 & 0.000163421\\\\\n",
       "\t77 & 0.001739643 & 0.007251383 & 0.000362827 & 0.002699924 & 0.000707577\\\\\n",
       "\t78 & 0.001386222 & 0.004660000 & 0.000276625 & 0.002056273 & 0.000102736\\\\\n",
       "\t79 & 0.001221590 & 0.003891675 & 0.000361526 & 0.000202556 & 0.000116045\\\\\n",
       "\t80 & 0.001385315 & 0.005610814 & 0.000221267 & 0.001172862 & 0.000026800\\\\\n",
       "\t81 & 0.001502078 & 0.005147911 & 0.000250013 & 0.001024529 & 0.000072800\\\\\n",
       "\t82 & 0.000898835 & 0.004464547 & 0.000076600 & 0.000660477 & 0.000000000\\\\\n",
       "\t83 & 0.001210896 & 0.004538624 & 0.000159301 & 0.000701975 & 0.000000000\\\\\n",
       "\t84 & 0.001234798 & 0.004125246 & 0.000257433 & 0.000409967 & 0.000071600\\\\\n",
       "\t85 & 0.001471597 & 0.003995852 & 0.000196376 & 0.000000000 & 0.000103846\\\\\n",
       "\t86 & 0.001465284 & 0.004141659 & 0.000202241 & 0.000348033 & 0.000000000\\\\\n",
       "\t87 & 0.000633482 & 0.004077569 & 0.000000000 & 0.000744383 & 0.000000000\\\\\n",
       "\t88 & 0.001289179 & 0.004264533 & 0.000033900 & 0.000196109 & 0.000000000\\\\\n",
       "\t89 & 0.000731768 & 0.003198521 & 0.000000000 & 0.000224952 & 0.000000000\\\\\n",
       "\t90 & 0.000953232 & 0.003155758 & 0.000199600 & 0.000000000 & 0.000000000\\\\\n",
       "\\end{tabular}\n"
      ],
      "text/markdown": [
       "\n",
       "| <!--/--> | mass_400 | mass_500 | mass_600 | mass_700 | mass_800 |\n",
       "|---|---|---|---|---|---|\n",
       "| 31 | 0.002386624 | 0.006808896 | 0.000837413 | 0.000237425 | 0.000000000 |\n",
       "| 32 | 0.001949328 | 0.005010000 | 0.000781512 | 0.000308839 | 0.000115880 |\n",
       "| 33 | 0.001434203 | 0.004690000 | 0.000345234 | 0.000658709 | 0.000000000 |\n",
       "| 34 | 0.001641283 | 0.003340000 | 0.000589426 | 0.000083400 | 0.000000000 |\n",
       "| 35 | 0.001665581 | 0.005882812 | 0.000535521 | 0.000000000 | 0.000000000 |\n",
       "| 36 | 0.001219054 | 0.003260000 | 0.000628733 | 0.000790339 | 0.000065600 |\n",
       "| 37 | 0.001795573 | 0.004772157 | 0.000495074 | 0.000000000 | 0.000000000 |\n",
       "| 38 | 0.002234918 | 0.005420000 | 0.000413138 | 0.000325774 | 0.000063700 |\n",
       "| 39 | 0.001583809 | 0.004293131 | 0.000414748 | 0.000274422 | 0.000033000 |\n",
       "| 40 | 0.000870789 | 0.004582205 | 0.000116844 | 0.000674013 | 0.000000000 |\n",
       "| 41 | 0.002084659 | 0.005846914 | 0.000529472 | 0.000333558 | 0.000000000 |\n",
       "| 42 | 0.002075460 | 0.005936022 | 0.000346977 | 0.000996804 | 0.000134158 |\n",
       "| 43 | 0.002481509 | 0.006470000 | 0.000684149 | 0.000505311 | 0.000091900 |\n",
       "| 44 | 0.001082505 | 0.003909082 | 0.000187725 | 0.000388151 | 0.000000000 |\n",
       "| 45 | 0.001589865 | 0.005420000 | 0.000610133 | 0.002240806 | 0.000166443 |\n",
       "| 76 | 0.002222101 | 0.004490000 | 0.000513737 | 0.000079500 | 0.000163421 |\n",
       "| 77 | 0.001739643 | 0.007251383 | 0.000362827 | 0.002699924 | 0.000707577 |\n",
       "| 78 | 0.001386222 | 0.004660000 | 0.000276625 | 0.002056273 | 0.000102736 |\n",
       "| 79 | 0.001221590 | 0.003891675 | 0.000361526 | 0.000202556 | 0.000116045 |\n",
       "| 80 | 0.001385315 | 0.005610814 | 0.000221267 | 0.001172862 | 0.000026800 |\n",
       "| 81 | 0.001502078 | 0.005147911 | 0.000250013 | 0.001024529 | 0.000072800 |\n",
       "| 82 | 0.000898835 | 0.004464547 | 0.000076600 | 0.000660477 | 0.000000000 |\n",
       "| 83 | 0.001210896 | 0.004538624 | 0.000159301 | 0.000701975 | 0.000000000 |\n",
       "| 84 | 0.001234798 | 0.004125246 | 0.000257433 | 0.000409967 | 0.000071600 |\n",
       "| 85 | 0.001471597 | 0.003995852 | 0.000196376 | 0.000000000 | 0.000103846 |\n",
       "| 86 | 0.001465284 | 0.004141659 | 0.000202241 | 0.000348033 | 0.000000000 |\n",
       "| 87 | 0.000633482 | 0.004077569 | 0.000000000 | 0.000744383 | 0.000000000 |\n",
       "| 88 | 0.001289179 | 0.004264533 | 0.000033900 | 0.000196109 | 0.000000000 |\n",
       "| 89 | 0.000731768 | 0.003198521 | 0.000000000 | 0.000224952 | 0.000000000 |\n",
       "| 90 | 0.000953232 | 0.003155758 | 0.000199600 | 0.000000000 | 0.000000000 |\n",
       "\n"
      ],
      "text/plain": [
       "   mass_400    mass_500    mass_600    mass_700    mass_800   \n",
       "31 0.002386624 0.006808896 0.000837413 0.000237425 0.000000000\n",
       "32 0.001949328 0.005010000 0.000781512 0.000308839 0.000115880\n",
       "33 0.001434203 0.004690000 0.000345234 0.000658709 0.000000000\n",
       "34 0.001641283 0.003340000 0.000589426 0.000083400 0.000000000\n",
       "35 0.001665581 0.005882812 0.000535521 0.000000000 0.000000000\n",
       "36 0.001219054 0.003260000 0.000628733 0.000790339 0.000065600\n",
       "37 0.001795573 0.004772157 0.000495074 0.000000000 0.000000000\n",
       "38 0.002234918 0.005420000 0.000413138 0.000325774 0.000063700\n",
       "39 0.001583809 0.004293131 0.000414748 0.000274422 0.000033000\n",
       "40 0.000870789 0.004582205 0.000116844 0.000674013 0.000000000\n",
       "41 0.002084659 0.005846914 0.000529472 0.000333558 0.000000000\n",
       "42 0.002075460 0.005936022 0.000346977 0.000996804 0.000134158\n",
       "43 0.002481509 0.006470000 0.000684149 0.000505311 0.000091900\n",
       "44 0.001082505 0.003909082 0.000187725 0.000388151 0.000000000\n",
       "45 0.001589865 0.005420000 0.000610133 0.002240806 0.000166443\n",
       "76 0.002222101 0.004490000 0.000513737 0.000079500 0.000163421\n",
       "77 0.001739643 0.007251383 0.000362827 0.002699924 0.000707577\n",
       "78 0.001386222 0.004660000 0.000276625 0.002056273 0.000102736\n",
       "79 0.001221590 0.003891675 0.000361526 0.000202556 0.000116045\n",
       "80 0.001385315 0.005610814 0.000221267 0.001172862 0.000026800\n",
       "81 0.001502078 0.005147911 0.000250013 0.001024529 0.000072800\n",
       "82 0.000898835 0.004464547 0.000076600 0.000660477 0.000000000\n",
       "83 0.001210896 0.004538624 0.000159301 0.000701975 0.000000000\n",
       "84 0.001234798 0.004125246 0.000257433 0.000409967 0.000071600\n",
       "85 0.001471597 0.003995852 0.000196376 0.000000000 0.000103846\n",
       "86 0.001465284 0.004141659 0.000202241 0.000348033 0.000000000\n",
       "87 0.000633482 0.004077569 0.000000000 0.000744383 0.000000000\n",
       "88 0.001289179 0.004264533 0.000033900 0.000196109 0.000000000\n",
       "89 0.000731768 0.003198521 0.000000000 0.000224952 0.000000000\n",
       "90 0.000953232 0.003155758 0.000199600 0.000000000 0.000000000"
      ]
     },
     "metadata": {},
     "output_type": "display_data"
    },
    {
     "data": {
      "text/html": [
       "<table>\n",
       "<thead><tr><th></th><th scope=col>filename</th><th scope=col>MouseID</th><th scope=col>Treatmentgroup</th><th scope=col>status</th><th scope=col>DPI</th><th scope=col>organ</th><th scope=col>well_position</th><th scope=col>plate</th><th scope=col>mass_400</th><th scope=col>mass_500</th><th scope=col>mass_600</th><th scope=col>mass_700</th><th scope=col>mass_800</th></tr></thead>\n",
       "<tbody>\n",
       "\t<tr><th scope=row>31</th><td>X511_Group1C_142dpi_LV_bottom_161_G_A1_P132.mzXML</td><td>511                                              </td><td>Group1C                                          </td><td>naive                                            </td><td>142dpi                                           </td><td>LV_bottom                                        </td><td>A1                                               </td><td>P132                                             </td><td>0.002386624                                      </td><td>0.006808896                                      </td><td>0.000837413                                      </td><td>0.000237425                                      </td><td>0.00000000                                       </td></tr>\n",
       "\t<tr><th scope=row>32</th><td>X512_Group1C_142dpi_LV_bottom_162_G_A2_P132.mzXML</td><td>512                                              </td><td>Group1C                                          </td><td>naive                                            </td><td>142dpi                                           </td><td>LV_bottom                                        </td><td>A2                                               </td><td>P132                                             </td><td>0.001949328                                      </td><td>0.005010000                                      </td><td>0.000781512                                      </td><td>0.000308839                                      </td><td>0.00011588                                       </td></tr>\n",
       "\t<tr><th scope=row>33</th><td>X513_Group1C_142dpi_LV_bottom_163_G_A3_P132.mzXML</td><td>513                                              </td><td>Group1C                                          </td><td>naive                                            </td><td>142dpi                                           </td><td>LV_bottom                                        </td><td>A3                                               </td><td>P132                                             </td><td>0.001434203                                      </td><td>0.004690000                                      </td><td>0.000345234                                      </td><td>0.000658709                                      </td><td>0.00000000                                       </td></tr>\n",
       "\t<tr><th scope=row>34</th><td>X514_Group1C_142dpi_LV_bottom_164_G_A4_P132.mzXML</td><td>514                                              </td><td>Group1C                                          </td><td>naive                                            </td><td>142dpi                                           </td><td>LV_bottom                                        </td><td>A4                                               </td><td>P132                                             </td><td>0.001641283                                      </td><td>0.003340000                                      </td><td>0.000589426                                      </td><td>0.000083400                                      </td><td>0.00000000                                       </td></tr>\n",
       "\t<tr><th scope=row>35</th><td>X515_Group1C_142dpi_LV_bottom_165_G_A5_P132.mzXML</td><td>515                                              </td><td>Group1C                                          </td><td>naive                                            </td><td>142dpi                                           </td><td>LV_bottom                                        </td><td>A5                                               </td><td>P132                                             </td><td>0.001665581                                      </td><td>0.005882812                                      </td><td>0.000535521                                      </td><td>0.000000000                                      </td><td>0.00000000                                       </td></tr>\n",
       "\t<tr><th scope=row>36</th><td>X531_Group1C_142dpi_LV_bottom_166_G_A6_P132.mzXML</td><td>531                                              </td><td>Group1C                                          </td><td>naive                                            </td><td>142dpi                                           </td><td>LV_bottom                                        </td><td>A6                                               </td><td>P132                                             </td><td>0.001219054                                      </td><td>0.003260000                                      </td><td>0.000628733                                      </td><td>0.000790339                                      </td><td>0.00006560                                       </td></tr>\n",
       "</tbody>\n",
       "</table>\n"
      ],
      "text/latex": [
       "\\begin{tabular}{r|lllllllllllll}\n",
       "  & filename & MouseID & Treatmentgroup & status & DPI & organ & well\\_position & plate & mass\\_400 & mass\\_500 & mass\\_600 & mass\\_700 & mass\\_800\\\\\n",
       "\\hline\n",
       "\t31 & X511\\_Group1C\\_142dpi\\_LV\\_bottom\\_161\\_G\\_A1\\_P132.mzXML & 511                                                               & Group1C                                                           & naive                                                             & 142dpi                                                            & LV\\_bottom                                                       & A1                                                                & P132                                                              & 0.002386624                                                       & 0.006808896                                                       & 0.000837413                                                       & 0.000237425                                                       & 0.00000000                                                       \\\\\n",
       "\t32 & X512\\_Group1C\\_142dpi\\_LV\\_bottom\\_162\\_G\\_A2\\_P132.mzXML & 512                                                               & Group1C                                                           & naive                                                             & 142dpi                                                            & LV\\_bottom                                                       & A2                                                                & P132                                                              & 0.001949328                                                       & 0.005010000                                                       & 0.000781512                                                       & 0.000308839                                                       & 0.00011588                                                       \\\\\n",
       "\t33 & X513\\_Group1C\\_142dpi\\_LV\\_bottom\\_163\\_G\\_A3\\_P132.mzXML & 513                                                               & Group1C                                                           & naive                                                             & 142dpi                                                            & LV\\_bottom                                                       & A3                                                                & P132                                                              & 0.001434203                                                       & 0.004690000                                                       & 0.000345234                                                       & 0.000658709                                                       & 0.00000000                                                       \\\\\n",
       "\t34 & X514\\_Group1C\\_142dpi\\_LV\\_bottom\\_164\\_G\\_A4\\_P132.mzXML & 514                                                               & Group1C                                                           & naive                                                             & 142dpi                                                            & LV\\_bottom                                                       & A4                                                                & P132                                                              & 0.001641283                                                       & 0.003340000                                                       & 0.000589426                                                       & 0.000083400                                                       & 0.00000000                                                       \\\\\n",
       "\t35 & X515\\_Group1C\\_142dpi\\_LV\\_bottom\\_165\\_G\\_A5\\_P132.mzXML & 515                                                               & Group1C                                                           & naive                                                             & 142dpi                                                            & LV\\_bottom                                                       & A5                                                                & P132                                                              & 0.001665581                                                       & 0.005882812                                                       & 0.000535521                                                       & 0.000000000                                                       & 0.00000000                                                       \\\\\n",
       "\t36 & X531\\_Group1C\\_142dpi\\_LV\\_bottom\\_166\\_G\\_A6\\_P132.mzXML & 531                                                               & Group1C                                                           & naive                                                             & 142dpi                                                            & LV\\_bottom                                                       & A6                                                                & P132                                                              & 0.001219054                                                       & 0.003260000                                                       & 0.000628733                                                       & 0.000790339                                                       & 0.00006560                                                       \\\\\n",
       "\\end{tabular}\n"
      ],
      "text/markdown": [
       "\n",
       "| <!--/--> | filename | MouseID | Treatmentgroup | status | DPI | organ | well_position | plate | mass_400 | mass_500 | mass_600 | mass_700 | mass_800 |\n",
       "|---|---|---|---|---|---|---|---|---|---|---|---|---|---|\n",
       "| 31 | X511_Group1C_142dpi_LV_bottom_161_G_A1_P132.mzXML | 511                                               | Group1C                                           | naive                                             | 142dpi                                            | LV_bottom                                         | A1                                                | P132                                              | 0.002386624                                       | 0.006808896                                       | 0.000837413                                       | 0.000237425                                       | 0.00000000                                        |\n",
       "| 32 | X512_Group1C_142dpi_LV_bottom_162_G_A2_P132.mzXML | 512                                               | Group1C                                           | naive                                             | 142dpi                                            | LV_bottom                                         | A2                                                | P132                                              | 0.001949328                                       | 0.005010000                                       | 0.000781512                                       | 0.000308839                                       | 0.00011588                                        |\n",
       "| 33 | X513_Group1C_142dpi_LV_bottom_163_G_A3_P132.mzXML | 513                                               | Group1C                                           | naive                                             | 142dpi                                            | LV_bottom                                         | A3                                                | P132                                              | 0.001434203                                       | 0.004690000                                       | 0.000345234                                       | 0.000658709                                       | 0.00000000                                        |\n",
       "| 34 | X514_Group1C_142dpi_LV_bottom_164_G_A4_P132.mzXML | 514                                               | Group1C                                           | naive                                             | 142dpi                                            | LV_bottom                                         | A4                                                | P132                                              | 0.001641283                                       | 0.003340000                                       | 0.000589426                                       | 0.000083400                                       | 0.00000000                                        |\n",
       "| 35 | X515_Group1C_142dpi_LV_bottom_165_G_A5_P132.mzXML | 515                                               | Group1C                                           | naive                                             | 142dpi                                            | LV_bottom                                         | A5                                                | P132                                              | 0.001665581                                       | 0.005882812                                       | 0.000535521                                       | 0.000000000                                       | 0.00000000                                        |\n",
       "| 36 | X531_Group1C_142dpi_LV_bottom_166_G_A6_P132.mzXML | 531                                               | Group1C                                           | naive                                             | 142dpi                                            | LV_bottom                                         | A6                                                | P132                                              | 0.001219054                                       | 0.003260000                                       | 0.000628733                                       | 0.000790339                                       | 0.00006560                                        |\n",
       "\n"
      ],
      "text/plain": [
       "   filename                                          MouseID Treatmentgroup\n",
       "31 X511_Group1C_142dpi_LV_bottom_161_G_A1_P132.mzXML 511     Group1C       \n",
       "32 X512_Group1C_142dpi_LV_bottom_162_G_A2_P132.mzXML 512     Group1C       \n",
       "33 X513_Group1C_142dpi_LV_bottom_163_G_A3_P132.mzXML 513     Group1C       \n",
       "34 X514_Group1C_142dpi_LV_bottom_164_G_A4_P132.mzXML 514     Group1C       \n",
       "35 X515_Group1C_142dpi_LV_bottom_165_G_A5_P132.mzXML 515     Group1C       \n",
       "36 X531_Group1C_142dpi_LV_bottom_166_G_A6_P132.mzXML 531     Group1C       \n",
       "   status DPI    organ     well_position plate mass_400    mass_500   \n",
       "31 naive  142dpi LV_bottom A1            P132  0.002386624 0.006808896\n",
       "32 naive  142dpi LV_bottom A2            P132  0.001949328 0.005010000\n",
       "33 naive  142dpi LV_bottom A3            P132  0.001434203 0.004690000\n",
       "34 naive  142dpi LV_bottom A4            P132  0.001641283 0.003340000\n",
       "35 naive  142dpi LV_bottom A5            P132  0.001665581 0.005882812\n",
       "36 naive  142dpi LV_bottom A6            P132  0.001219054 0.003260000\n",
       "   mass_600    mass_700    mass_800  \n",
       "31 0.000837413 0.000237425 0.00000000\n",
       "32 0.000781512 0.000308839 0.00011588\n",
       "33 0.000345234 0.000658709 0.00000000\n",
       "34 0.000589426 0.000083400 0.00000000\n",
       "35 0.000535521 0.000000000 0.00000000\n",
       "36 0.000628733 0.000790339 0.00006560"
      ]
     },
     "metadata": {},
     "output_type": "display_data"
    },
    {
     "data": {
      "text/html": [
       "<ol class=list-inline>\n",
       "\t<li>30</li>\n",
       "\t<li>13</li>\n",
       "</ol>\n"
      ],
      "text/latex": [
       "\\begin{enumerate*}\n",
       "\\item 30\n",
       "\\item 13\n",
       "\\end{enumerate*}\n"
      ],
      "text/markdown": [
       "1. 30\n",
       "2. 13\n",
       "\n",
       "\n"
      ],
      "text/plain": [
       "[1] 30 13"
      ]
     },
     "metadata": {},
     "output_type": "display_data"
    },
    {
     "data": {
      "text/html": [
       "<ol class=list-inline>\n",
       "\t<li>30</li>\n",
       "\t<li>5</li>\n",
       "</ol>\n"
      ],
      "text/latex": [
       "\\begin{enumerate*}\n",
       "\\item 30\n",
       "\\item 5\n",
       "\\end{enumerate*}\n"
      ],
      "text/markdown": [
       "1. 30\n",
       "2. 5\n",
       "\n",
       "\n"
      ],
      "text/plain": [
       "[1] 30  5"
      ]
     },
     "metadata": {},
     "output_type": "display_data"
    },
    {
     "data": {
      "text/html": [
       "<ol class=list-inline>\n",
       "\t<li>30</li>\n",
       "\t<li>5</li>\n",
       "</ol>\n"
      ],
      "text/latex": [
       "\\begin{enumerate*}\n",
       "\\item 30\n",
       "\\item 5\n",
       "\\end{enumerate*}\n"
      ],
      "text/markdown": [
       "1. 30\n",
       "2. 5\n",
       "\n",
       "\n"
      ],
      "text/plain": [
       "[1] 30  5"
      ]
     },
     "metadata": {},
     "output_type": "display_data"
    },
    {
     "data": {
      "text/html": [
       "<ol class=list-inline>\n",
       "\t<li>30</li>\n",
       "\t<li>13</li>\n",
       "</ol>\n"
      ],
      "text/latex": [
       "\\begin{enumerate*}\n",
       "\\item 30\n",
       "\\item 13\n",
       "\\end{enumerate*}\n"
      ],
      "text/markdown": [
       "1. 30\n",
       "2. 13\n",
       "\n",
       "\n"
      ],
      "text/plain": [
       "[1] 30 13"
      ]
     },
     "metadata": {},
     "output_type": "display_data"
    }
   ],
   "source": [
    "noMeta<-features_pos[,9:13]\n",
    "head(noMeta)\n",
    "not_zero<-which(colSums(noMeta) != 0)\n",
    "head(not_zero)\n",
    "nonzero <- noMeta[, not_zero]\n",
    "nonzero\n",
    "nonzero_wMeta<-cbind(features_pos[,1:8], nonzero)\n",
    "head(nonzero_wMeta)\n",
    "dim(features_pos)\n",
    "dim(noMeta)\n",
    "dim(nonzero)\n",
    "dim(nonzero_wMeta)"
   ]
  },
  {
   "cell_type": "code",
   "execution_count": 15,
   "metadata": {
    "scrolled": true
   },
   "outputs": [
    {
     "name": "stderr",
     "output_type": "stream",
     "text": [
      "Warning message in wilcox.test.default(x = c(0.006808896, 0.00501, 0.00469, 0.00334, :\n",
      "\"cannot compute exact p-value with ties\"Warning message in wilcox.test.default(x = c(0.000837413, 0.000781512, 0.000345234, :\n",
      "\"cannot compute exact p-value with ties\"Warning message in wilcox.test.default(x = c(0.000237425, 0.000308839, 0.000658709, :\n",
      "\"cannot compute exact p-value with ties\"Warning message in wilcox.test.default(x = c(0, 0.00011588, 0, 0, 0, 6.56e-05, 0, :\n",
      "\"cannot compute exact p-value with ties\""
     ]
    },
    {
     "data": {
      "text/html": [
       "<ol class=list-inline>\n",
       "\t<li>0.00987482265059421</li>\n",
       "\t<li>0.061940600627052</li>\n",
       "\t<li>0.000669975274440731</li>\n",
       "\t<li>0.708613725598203</li>\n",
       "\t<li>0.625801389967317</li>\n",
       "</ol>\n"
      ],
      "text/latex": [
       "\\begin{enumerate*}\n",
       "\\item 0.00987482265059421\n",
       "\\item 0.061940600627052\n",
       "\\item 0.000669975274440731\n",
       "\\item 0.708613725598203\n",
       "\\item 0.625801389967317\n",
       "\\end{enumerate*}\n"
      ],
      "text/markdown": [
       "1. 0.00987482265059421\n",
       "2. 0.061940600627052\n",
       "3. 0.000669975274440731\n",
       "4. 0.708613725598203\n",
       "5. 0.625801389967317\n",
       "\n",
       "\n"
      ],
      "text/plain": [
       "[1] 0.0098748227 0.0619406006 0.0006699753 0.7086137256 0.6258013900"
      ]
     },
     "metadata": {},
     "output_type": "display_data"
    },
    {
     "data": {
      "text/html": [
       "<ol class=list-inline>\n",
       "\t<li>0.0246870566264855</li>\n",
       "\t<li>0.10323433437842</li>\n",
       "\t<li>0.00334987637220365</li>\n",
       "\t<li>0.708613725598203</li>\n",
       "\t<li>0.708613725598203</li>\n",
       "</ol>\n"
      ],
      "text/latex": [
       "\\begin{enumerate*}\n",
       "\\item 0.0246870566264855\n",
       "\\item 0.10323433437842\n",
       "\\item 0.00334987637220365\n",
       "\\item 0.708613725598203\n",
       "\\item 0.708613725598203\n",
       "\\end{enumerate*}\n"
      ],
      "text/markdown": [
       "1. 0.0246870566264855\n",
       "2. 0.10323433437842\n",
       "3. 0.00334987637220365\n",
       "4. 0.708613725598203\n",
       "5. 0.708613725598203\n",
       "\n",
       "\n"
      ],
      "text/plain": [
       "[1] 0.024687057 0.103234334 0.003349876 0.708613726 0.708613726"
      ]
     },
     "metadata": {},
     "output_type": "display_data"
    }
   ],
   "source": [
    "pval<-c()\n",
    "\n",
    "for (i in 9:ncol(nonzero_wMeta)) \n",
    "pval<-c(pval,wilcox.test(nonzero_wMeta[,i]~nonzero_wMeta$Treatmentgroup)$p.value)\n",
    "head(pval)\n",
    "pAdj <- p.adjust(pval, method = c(\"fdr\"), n=length(pval)) \n",
    "head(pAdj) \n",
    "\n"
   ]
  },
  {
   "cell_type": "code",
   "execution_count": 16,
   "metadata": {
    "scrolled": true
   },
   "outputs": [
    {
     "data": {
      "text/html": [
       "5"
      ],
      "text/latex": [
       "5"
      ],
      "text/markdown": [
       "5"
      ],
      "text/plain": [
       "[1] 5"
      ]
     },
     "metadata": {},
     "output_type": "display_data"
    }
   ],
   "source": [
    "length(pval)"
   ]
  },
  {
   "cell_type": "code",
   "execution_count": 17,
   "metadata": {
    "scrolled": true
   },
   "outputs": [
    {
     "data": {
      "text/html": [
       "5"
      ],
      "text/latex": [
       "5"
      ],
      "text/markdown": [
       "5"
      ],
      "text/plain": [
       "[1] 5"
      ]
     },
     "metadata": {},
     "output_type": "display_data"
    }
   ],
   "source": [
    "length(pAdj)"
   ]
  },
  {
   "cell_type": "code",
   "execution_count": 18,
   "metadata": {},
   "outputs": [
    {
     "data": {
      "text/html": [
       "<ol class=list-inline>\n",
       "\t<li>2</li>\n",
       "\t<li>5</li>\n",
       "</ol>\n"
      ],
      "text/latex": [
       "\\begin{enumerate*}\n",
       "\\item 2\n",
       "\\item 5\n",
       "\\end{enumerate*}\n"
      ],
      "text/markdown": [
       "1. 2\n",
       "2. 5\n",
       "\n",
       "\n"
      ],
      "text/plain": [
       "[1] 2 5"
      ]
     },
     "metadata": {},
     "output_type": "display_data"
    },
    {
     "data": {
      "text/html": [
       "<table>\n",
       "<thead><tr><th></th><th scope=col>mass_400</th><th scope=col>mass_500</th><th scope=col>mass_600</th></tr></thead>\n",
       "<tbody>\n",
       "\t<tr><th scope=row>Group1C</th><td>0.001739677 </td><td>0.005042748 </td><td>0.0005010733</td></tr>\n",
       "\t<tr><th scope=row>Group3E</th><td>0.001289735 </td><td>0.004467606 </td><td>0.0002074297</td></tr>\n",
       "</tbody>\n",
       "</table>\n"
      ],
      "text/latex": [
       "\\begin{tabular}{r|lll}\n",
       "  & mass\\_400 & mass\\_500 & mass\\_600\\\\\n",
       "\\hline\n",
       "\tGroup1C & 0.001739677  & 0.005042748  & 0.0005010733\\\\\n",
       "\tGroup3E & 0.001289735  & 0.004467606  & 0.0002074297\\\\\n",
       "\\end{tabular}\n"
      ],
      "text/markdown": [
       "\n",
       "| <!--/--> | mass_400 | mass_500 | mass_600 |\n",
       "|---|---|---|---|\n",
       "| Group1C | 0.001739677  | 0.005042748  | 0.0005010733 |\n",
       "| Group3E | 0.001289735  | 0.004467606  | 0.0002074297 |\n",
       "\n"
      ],
      "text/plain": [
       "        mass_400    mass_500    mass_600    \n",
       "Group1C 0.001739677 0.005042748 0.0005010733\n",
       "Group3E 0.001289735 0.004467606 0.0002074297"
      ]
     },
     "metadata": {},
     "output_type": "display_data"
    },
    {
     "data": {
      "text/html": [
       "<dl class=dl-horizontal>\n",
       "\t<dt>mass_400</dt>\n",
       "\t\t<dd>1.34886452097124</dd>\n",
       "\t<dt>mass_500</dt>\n",
       "\t\t<dd>1.12873601271804</dd>\n",
       "\t<dt>mass_600</dt>\n",
       "\t\t<dd>2.41562893908491</dd>\n",
       "\t<dt>mass_700</dt>\n",
       "\t\t<dd>0.743004446117204</dd>\n",
       "\t<dt>mass_800</dt>\n",
       "\t\t<dd>0.491404392504534</dd>\n",
       "</dl>\n"
      ],
      "text/latex": [
       "\\begin{description*}\n",
       "\\item[mass\\textbackslash{}\\_400] 1.34886452097124\n",
       "\\item[mass\\textbackslash{}\\_500] 1.12873601271804\n",
       "\\item[mass\\textbackslash{}\\_600] 2.41562893908491\n",
       "\\item[mass\\textbackslash{}\\_700] 0.743004446117204\n",
       "\\item[mass\\textbackslash{}\\_800] 0.491404392504534\n",
       "\\end{description*}\n"
      ],
      "text/markdown": [
       "mass_400\n",
       ":   1.34886452097124mass_500\n",
       ":   1.12873601271804mass_600\n",
       ":   2.41562893908491mass_700\n",
       ":   0.743004446117204mass_800\n",
       ":   0.491404392504534\n",
       "\n"
      ],
      "text/plain": [
       " mass_400  mass_500  mass_600  mass_700  mass_800 \n",
       "1.3488645 1.1287360 2.4156289 0.7430044 0.4914044 "
      ]
     },
     "metadata": {},
     "output_type": "display_data"
    },
    {
     "data": {
      "text/html": [
       "<ol class=list-inline>\n",
       "\t<li>'numeric'</li>\n",
       "\t<li>'vector'</li>\n",
       "</ol>\n"
      ],
      "text/latex": [
       "\\begin{enumerate*}\n",
       "\\item 'numeric'\n",
       "\\item 'vector'\n",
       "\\end{enumerate*}\n"
      ],
      "text/markdown": [
       "1. 'numeric'\n",
       "2. 'vector'\n",
       "\n",
       "\n"
      ],
      "text/plain": [
       "[1] \"numeric\" \"vector\" "
      ]
     },
     "metadata": {},
     "output_type": "display_data"
    }
   ],
   "source": [
    "avg<- apply(nonzero_wMeta[,9:ncol(nonzero_wMeta)], 2, function(x) tapply(x, nonzero_wMeta$Treatmentgroup, function(x) mean(x))) \n",
    "\n",
    "dim(avg)\n",
    "\n",
    "avg[,1:3]\n",
    "\n",
    "fch <- apply(avg, 2, function(x) x[1]/x[2])\n",
    "\n",
    "head(fch)\n",
    "is(fch)"
   ]
  },
  {
   "cell_type": "code",
   "execution_count": 19,
   "metadata": {
    "scrolled": true
   },
   "outputs": [
    {
     "data": {
      "text/html": [
       "<dl class=dl-horizontal>\n",
       "\t<dt>mass_400</dt>\n",
       "\t\t<dd>1.34886452097124</dd>\n",
       "\t<dt>mass_500</dt>\n",
       "\t\t<dd>1.12873601271804</dd>\n",
       "\t<dt>mass_600</dt>\n",
       "\t\t<dd>2.41562893908491</dd>\n",
       "\t<dt>mass_700</dt>\n",
       "\t\t<dd>0.743004446117204</dd>\n",
       "\t<dt>mass_800</dt>\n",
       "\t\t<dd>0.491404392504534</dd>\n",
       "</dl>\n"
      ],
      "text/latex": [
       "\\begin{description*}\n",
       "\\item[mass\\textbackslash{}\\_400] 1.34886452097124\n",
       "\\item[mass\\textbackslash{}\\_500] 1.12873601271804\n",
       "\\item[mass\\textbackslash{}\\_600] 2.41562893908491\n",
       "\\item[mass\\textbackslash{}\\_700] 0.743004446117204\n",
       "\\item[mass\\textbackslash{}\\_800] 0.491404392504534\n",
       "\\end{description*}\n"
      ],
      "text/markdown": [
       "mass_400\n",
       ":   1.34886452097124mass_500\n",
       ":   1.12873601271804mass_600\n",
       ":   2.41562893908491mass_700\n",
       ":   0.743004446117204mass_800\n",
       ":   0.491404392504534\n",
       "\n"
      ],
      "text/plain": [
       " mass_400  mass_500  mass_600  mass_700  mass_800 \n",
       "1.3488645 1.1287360 2.4156289 0.7430044 0.4914044 "
      ]
     },
     "metadata": {},
     "output_type": "display_data"
    }
   ],
   "source": [
    "fch"
   ]
  },
  {
   "cell_type": "code",
   "execution_count": 20,
   "metadata": {
    "scrolled": false
   },
   "outputs": [],
   "source": [
    "df <- data.frame(fch,pval, pAdj)\n",
    "write.csv(df, \"PE-time-LVB-wilcox-1C-3E.csv\")"
   ]
  },
  {
   "cell_type": "code",
   "execution_count": null,
   "metadata": {},
   "outputs": [],
   "source": []
  },
  {
   "cell_type": "code",
   "execution_count": null,
   "metadata": {},
   "outputs": [],
   "source": []
  },
  {
   "cell_type": "code",
   "execution_count": null,
   "metadata": {},
   "outputs": [],
   "source": []
  },
  {
   "cell_type": "code",
   "execution_count": null,
   "metadata": {},
   "outputs": [],
   "source": []
  },
  {
   "cell_type": "code",
   "execution_count": null,
   "metadata": {},
   "outputs": [],
   "source": []
  },
  {
   "cell_type": "code",
   "execution_count": null,
   "metadata": {},
   "outputs": [],
   "source": []
  }
 ],
 "metadata": {
  "kernelspec": {
   "display_name": "R",
   "language": "R",
   "name": "ir"
  },
  "language_info": {
   "codemirror_mode": "r",
   "file_extension": ".r",
   "mimetype": "text/x-r-source",
   "name": "R",
   "pygments_lexer": "r",
   "version": "3.6.1"
  }
 },
 "nbformat": 4,
 "nbformat_minor": 2
}
