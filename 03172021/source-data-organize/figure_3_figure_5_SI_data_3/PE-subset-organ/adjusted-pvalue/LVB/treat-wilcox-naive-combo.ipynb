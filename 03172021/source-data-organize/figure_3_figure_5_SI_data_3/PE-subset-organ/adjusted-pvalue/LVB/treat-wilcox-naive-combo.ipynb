{
 "cells": [
  {
   "cell_type": "code",
   "execution_count": 1,
   "metadata": {},
   "outputs": [],
   "source": [
    "a <- read.csv(\"03172021-PE-treatment-LVB-M-F.csv\")"
   ]
  },
  {
   "cell_type": "code",
   "execution_count": 2,
   "metadata": {},
   "outputs": [
    {
     "data": {
      "text/html": [
       "<table>\n",
       "<thead><tr><th scope=col>filename</th><th scope=col>MouseID</th><th scope=col>Treatmentgroup</th><th scope=col>DPI</th><th scope=col>organ</th><th scope=col>well_position</th><th scope=col>plate</th><th scope=col>mass_400</th><th scope=col>mass_500</th><th scope=col>mass_600</th><th scope=col>mass_700</th><th scope=col>mass_800</th></tr></thead>\n",
       "<tbody>\n",
       "\t<tr><td>X511_Group1C_142dpi_LV_bottom_161_G_A1_P132.mzXML</td><td>511                                              </td><td>naive                                            </td><td>142dpi                                           </td><td>LV_bottom                                        </td><td>A1                                               </td><td>P132                                             </td><td>0.002386624                                      </td><td>0.006808896                                      </td><td>0.000837413                                      </td><td>0.000237425                                      </td><td>0.00000000                                       </td></tr>\n",
       "\t<tr><td>X512_Group1C_142dpi_LV_bottom_162_G_A2_P132.mzXML</td><td>512                                              </td><td>naive                                            </td><td>142dpi                                           </td><td>LV_bottom                                        </td><td>A2                                               </td><td>P132                                             </td><td>0.001949328                                      </td><td>0.005010000                                      </td><td>0.000781512                                      </td><td>0.000308839                                      </td><td>0.00011588                                       </td></tr>\n",
       "\t<tr><td>X513_Group1C_142dpi_LV_bottom_163_G_A3_P132.mzXML</td><td>513                                              </td><td>naive                                            </td><td>142dpi                                           </td><td>LV_bottom                                        </td><td>A3                                               </td><td>P132                                             </td><td>0.001434203                                      </td><td>0.004690000                                      </td><td>0.000345234                                      </td><td>0.000658709                                      </td><td>0.00000000                                       </td></tr>\n",
       "\t<tr><td>X514_Group1C_142dpi_LV_bottom_164_G_A4_P132.mzXML</td><td>514                                              </td><td>naive                                            </td><td>142dpi                                           </td><td>LV_bottom                                        </td><td>A4                                               </td><td>P132                                             </td><td>0.001641283                                      </td><td>0.003340000                                      </td><td>0.000589426                                      </td><td>0.000083400                                      </td><td>0.00000000                                       </td></tr>\n",
       "\t<tr><td>X515_Group1C_142dpi_LV_bottom_165_G_A5_P132.mzXML</td><td>515                                              </td><td>naive                                            </td><td>142dpi                                           </td><td>LV_bottom                                        </td><td>A5                                               </td><td>P132                                             </td><td>0.001665581                                      </td><td>0.005882812                                      </td><td>0.000535521                                      </td><td>0.000000000                                      </td><td>0.00000000                                       </td></tr>\n",
       "\t<tr><td>X531_Group1C_142dpi_LV_bottom_166_G_A6_P132.mzXML</td><td>531                                              </td><td>naive                                            </td><td>142dpi                                           </td><td>LV_bottom                                        </td><td>A6                                               </td><td>P132                                             </td><td>0.001219054                                      </td><td>0.003260000                                      </td><td>0.000628733                                      </td><td>0.000790339                                      </td><td>0.00006560                                       </td></tr>\n",
       "</tbody>\n",
       "</table>\n"
      ],
      "text/latex": [
       "\\begin{tabular}{r|llllllllllll}\n",
       " filename & MouseID & Treatmentgroup & DPI & organ & well\\_position & plate & mass\\_400 & mass\\_500 & mass\\_600 & mass\\_700 & mass\\_800\\\\\n",
       "\\hline\n",
       "\t X511\\_Group1C\\_142dpi\\_LV\\_bottom\\_161\\_G\\_A1\\_P132.mzXML & 511                                                               & naive                                                             & 142dpi                                                            & LV\\_bottom                                                       & A1                                                                & P132                                                              & 0.002386624                                                       & 0.006808896                                                       & 0.000837413                                                       & 0.000237425                                                       & 0.00000000                                                       \\\\\n",
       "\t X512\\_Group1C\\_142dpi\\_LV\\_bottom\\_162\\_G\\_A2\\_P132.mzXML & 512                                                               & naive                                                             & 142dpi                                                            & LV\\_bottom                                                       & A2                                                                & P132                                                              & 0.001949328                                                       & 0.005010000                                                       & 0.000781512                                                       & 0.000308839                                                       & 0.00011588                                                       \\\\\n",
       "\t X513\\_Group1C\\_142dpi\\_LV\\_bottom\\_163\\_G\\_A3\\_P132.mzXML & 513                                                               & naive                                                             & 142dpi                                                            & LV\\_bottom                                                       & A3                                                                & P132                                                              & 0.001434203                                                       & 0.004690000                                                       & 0.000345234                                                       & 0.000658709                                                       & 0.00000000                                                       \\\\\n",
       "\t X514\\_Group1C\\_142dpi\\_LV\\_bottom\\_164\\_G\\_A4\\_P132.mzXML & 514                                                               & naive                                                             & 142dpi                                                            & LV\\_bottom                                                       & A4                                                                & P132                                                              & 0.001641283                                                       & 0.003340000                                                       & 0.000589426                                                       & 0.000083400                                                       & 0.00000000                                                       \\\\\n",
       "\t X515\\_Group1C\\_142dpi\\_LV\\_bottom\\_165\\_G\\_A5\\_P132.mzXML & 515                                                               & naive                                                             & 142dpi                                                            & LV\\_bottom                                                       & A5                                                                & P132                                                              & 0.001665581                                                       & 0.005882812                                                       & 0.000535521                                                       & 0.000000000                                                       & 0.00000000                                                       \\\\\n",
       "\t X531\\_Group1C\\_142dpi\\_LV\\_bottom\\_166\\_G\\_A6\\_P132.mzXML & 531                                                               & naive                                                             & 142dpi                                                            & LV\\_bottom                                                       & A6                                                                & P132                                                              & 0.001219054                                                       & 0.003260000                                                       & 0.000628733                                                       & 0.000790339                                                       & 0.00006560                                                       \\\\\n",
       "\\end{tabular}\n"
      ],
      "text/markdown": [
       "\n",
       "| filename | MouseID | Treatmentgroup | DPI | organ | well_position | plate | mass_400 | mass_500 | mass_600 | mass_700 | mass_800 |\n",
       "|---|---|---|---|---|---|---|---|---|---|---|---|\n",
       "| X511_Group1C_142dpi_LV_bottom_161_G_A1_P132.mzXML | 511                                               | naive                                             | 142dpi                                            | LV_bottom                                         | A1                                                | P132                                              | 0.002386624                                       | 0.006808896                                       | 0.000837413                                       | 0.000237425                                       | 0.00000000                                        |\n",
       "| X512_Group1C_142dpi_LV_bottom_162_G_A2_P132.mzXML | 512                                               | naive                                             | 142dpi                                            | LV_bottom                                         | A2                                                | P132                                              | 0.001949328                                       | 0.005010000                                       | 0.000781512                                       | 0.000308839                                       | 0.00011588                                        |\n",
       "| X513_Group1C_142dpi_LV_bottom_163_G_A3_P132.mzXML | 513                                               | naive                                             | 142dpi                                            | LV_bottom                                         | A3                                                | P132                                              | 0.001434203                                       | 0.004690000                                       | 0.000345234                                       | 0.000658709                                       | 0.00000000                                        |\n",
       "| X514_Group1C_142dpi_LV_bottom_164_G_A4_P132.mzXML | 514                                               | naive                                             | 142dpi                                            | LV_bottom                                         | A4                                                | P132                                              | 0.001641283                                       | 0.003340000                                       | 0.000589426                                       | 0.000083400                                       | 0.00000000                                        |\n",
       "| X515_Group1C_142dpi_LV_bottom_165_G_A5_P132.mzXML | 515                                               | naive                                             | 142dpi                                            | LV_bottom                                         | A5                                                | P132                                              | 0.001665581                                       | 0.005882812                                       | 0.000535521                                       | 0.000000000                                       | 0.00000000                                        |\n",
       "| X531_Group1C_142dpi_LV_bottom_166_G_A6_P132.mzXML | 531                                               | naive                                             | 142dpi                                            | LV_bottom                                         | A6                                                | P132                                              | 0.001219054                                       | 0.003260000                                       | 0.000628733                                       | 0.000790339                                       | 0.00006560                                        |\n",
       "\n"
      ],
      "text/plain": [
       "  filename                                          MouseID Treatmentgroup\n",
       "1 X511_Group1C_142dpi_LV_bottom_161_G_A1_P132.mzXML 511     naive         \n",
       "2 X512_Group1C_142dpi_LV_bottom_162_G_A2_P132.mzXML 512     naive         \n",
       "3 X513_Group1C_142dpi_LV_bottom_163_G_A3_P132.mzXML 513     naive         \n",
       "4 X514_Group1C_142dpi_LV_bottom_164_G_A4_P132.mzXML 514     naive         \n",
       "5 X515_Group1C_142dpi_LV_bottom_165_G_A5_P132.mzXML 515     naive         \n",
       "6 X531_Group1C_142dpi_LV_bottom_166_G_A6_P132.mzXML 531     naive         \n",
       "  DPI    organ     well_position plate mass_400    mass_500    mass_600   \n",
       "1 142dpi LV_bottom A1            P132  0.002386624 0.006808896 0.000837413\n",
       "2 142dpi LV_bottom A2            P132  0.001949328 0.005010000 0.000781512\n",
       "3 142dpi LV_bottom A3            P132  0.001434203 0.004690000 0.000345234\n",
       "4 142dpi LV_bottom A4            P132  0.001641283 0.003340000 0.000589426\n",
       "5 142dpi LV_bottom A5            P132  0.001665581 0.005882812 0.000535521\n",
       "6 142dpi LV_bottom A6            P132  0.001219054 0.003260000 0.000628733\n",
       "  mass_700    mass_800  \n",
       "1 0.000237425 0.00000000\n",
       "2 0.000308839 0.00011588\n",
       "3 0.000658709 0.00000000\n",
       "4 0.000083400 0.00000000\n",
       "5 0.000000000 0.00000000\n",
       "6 0.000790339 0.00006560"
      ]
     },
     "metadata": {},
     "output_type": "display_data"
    },
    {
     "data": {
      "text/html": [
       "<ol class=list-inline>\n",
       "\t<li>60</li>\n",
       "\t<li>12</li>\n",
       "</ol>\n"
      ],
      "text/latex": [
       "\\begin{enumerate*}\n",
       "\\item 60\n",
       "\\item 12\n",
       "\\end{enumerate*}\n"
      ],
      "text/markdown": [
       "1. 60\n",
       "2. 12\n",
       "\n",
       "\n"
      ],
      "text/plain": [
       "[1] 60 12"
      ]
     },
     "metadata": {},
     "output_type": "display_data"
    }
   ],
   "source": [
    "head(a)\n",
    "dim(a)"
   ]
  },
  {
   "cell_type": "code",
   "execution_count": 3,
   "metadata": {},
   "outputs": [
    {
     "data": {
      "text/html": [
       "<table>\n",
       "<thead><tr><th scope=col>filename</th><th scope=col>MouseID</th><th scope=col>Treatmentgroup</th><th scope=col>DPI</th><th scope=col>organ</th><th scope=col>well_position</th><th scope=col>plate</th><th scope=col>mass_400</th><th scope=col>mass_500</th><th scope=col>mass_600</th><th scope=col>mass_700</th><th scope=col>mass_800</th></tr></thead>\n",
       "<tbody>\n",
       "\t<tr><td>X511_Group1C_142dpi_LV_bottom_161_G_A1_P132.mzXML</td><td>511                                              </td><td>naive                                            </td><td>142dpi                                           </td><td>LV_bottom                                        </td><td>A1                                               </td><td>P132                                             </td><td>0.002386624                                      </td><td>0.006808896                                      </td><td>0.000837413                                      </td><td>0.000237425                                      </td><td>0.00000000                                       </td></tr>\n",
       "\t<tr><td>X512_Group1C_142dpi_LV_bottom_162_G_A2_P132.mzXML</td><td>512                                              </td><td>naive                                            </td><td>142dpi                                           </td><td>LV_bottom                                        </td><td>A2                                               </td><td>P132                                             </td><td>0.001949328                                      </td><td>0.005010000                                      </td><td>0.000781512                                      </td><td>0.000308839                                      </td><td>0.00011588                                       </td></tr>\n",
       "\t<tr><td>X513_Group1C_142dpi_LV_bottom_163_G_A3_P132.mzXML</td><td>513                                              </td><td>naive                                            </td><td>142dpi                                           </td><td>LV_bottom                                        </td><td>A3                                               </td><td>P132                                             </td><td>0.001434203                                      </td><td>0.004690000                                      </td><td>0.000345234                                      </td><td>0.000658709                                      </td><td>0.00000000                                       </td></tr>\n",
       "\t<tr><td>X514_Group1C_142dpi_LV_bottom_164_G_A4_P132.mzXML</td><td>514                                              </td><td>naive                                            </td><td>142dpi                                           </td><td>LV_bottom                                        </td><td>A4                                               </td><td>P132                                             </td><td>0.001641283                                      </td><td>0.003340000                                      </td><td>0.000589426                                      </td><td>0.000083400                                      </td><td>0.00000000                                       </td></tr>\n",
       "\t<tr><td>X515_Group1C_142dpi_LV_bottom_165_G_A5_P132.mzXML</td><td>515                                              </td><td>naive                                            </td><td>142dpi                                           </td><td>LV_bottom                                        </td><td>A5                                               </td><td>P132                                             </td><td>0.001665581                                      </td><td>0.005882812                                      </td><td>0.000535521                                      </td><td>0.000000000                                      </td><td>0.00000000                                       </td></tr>\n",
       "\t<tr><td>X531_Group1C_142dpi_LV_bottom_166_G_A6_P132.mzXML</td><td>531                                              </td><td>naive                                            </td><td>142dpi                                           </td><td>LV_bottom                                        </td><td>A6                                               </td><td>P132                                             </td><td>0.001219054                                      </td><td>0.003260000                                      </td><td>0.000628733                                      </td><td>0.000790339                                      </td><td>0.00006560                                       </td></tr>\n",
       "</tbody>\n",
       "</table>\n"
      ],
      "text/latex": [
       "\\begin{tabular}{r|llllllllllll}\n",
       " filename & MouseID & Treatmentgroup & DPI & organ & well\\_position & plate & mass\\_400 & mass\\_500 & mass\\_600 & mass\\_700 & mass\\_800\\\\\n",
       "\\hline\n",
       "\t X511\\_Group1C\\_142dpi\\_LV\\_bottom\\_161\\_G\\_A1\\_P132.mzXML & 511                                                               & naive                                                             & 142dpi                                                            & LV\\_bottom                                                       & A1                                                                & P132                                                              & 0.002386624                                                       & 0.006808896                                                       & 0.000837413                                                       & 0.000237425                                                       & 0.00000000                                                       \\\\\n",
       "\t X512\\_Group1C\\_142dpi\\_LV\\_bottom\\_162\\_G\\_A2\\_P132.mzXML & 512                                                               & naive                                                             & 142dpi                                                            & LV\\_bottom                                                       & A2                                                                & P132                                                              & 0.001949328                                                       & 0.005010000                                                       & 0.000781512                                                       & 0.000308839                                                       & 0.00011588                                                       \\\\\n",
       "\t X513\\_Group1C\\_142dpi\\_LV\\_bottom\\_163\\_G\\_A3\\_P132.mzXML & 513                                                               & naive                                                             & 142dpi                                                            & LV\\_bottom                                                       & A3                                                                & P132                                                              & 0.001434203                                                       & 0.004690000                                                       & 0.000345234                                                       & 0.000658709                                                       & 0.00000000                                                       \\\\\n",
       "\t X514\\_Group1C\\_142dpi\\_LV\\_bottom\\_164\\_G\\_A4\\_P132.mzXML & 514                                                               & naive                                                             & 142dpi                                                            & LV\\_bottom                                                       & A4                                                                & P132                                                              & 0.001641283                                                       & 0.003340000                                                       & 0.000589426                                                       & 0.000083400                                                       & 0.00000000                                                       \\\\\n",
       "\t X515\\_Group1C\\_142dpi\\_LV\\_bottom\\_165\\_G\\_A5\\_P132.mzXML & 515                                                               & naive                                                             & 142dpi                                                            & LV\\_bottom                                                       & A5                                                                & P132                                                              & 0.001665581                                                       & 0.005882812                                                       & 0.000535521                                                       & 0.000000000                                                       & 0.00000000                                                       \\\\\n",
       "\t X531\\_Group1C\\_142dpi\\_LV\\_bottom\\_166\\_G\\_A6\\_P132.mzXML & 531                                                               & naive                                                             & 142dpi                                                            & LV\\_bottom                                                       & A6                                                                & P132                                                              & 0.001219054                                                       & 0.003260000                                                       & 0.000628733                                                       & 0.000790339                                                       & 0.00006560                                                       \\\\\n",
       "\\end{tabular}\n"
      ],
      "text/markdown": [
       "\n",
       "| filename | MouseID | Treatmentgroup | DPI | organ | well_position | plate | mass_400 | mass_500 | mass_600 | mass_700 | mass_800 |\n",
       "|---|---|---|---|---|---|---|---|---|---|---|---|\n",
       "| X511_Group1C_142dpi_LV_bottom_161_G_A1_P132.mzXML | 511                                               | naive                                             | 142dpi                                            | LV_bottom                                         | A1                                                | P132                                              | 0.002386624                                       | 0.006808896                                       | 0.000837413                                       | 0.000237425                                       | 0.00000000                                        |\n",
       "| X512_Group1C_142dpi_LV_bottom_162_G_A2_P132.mzXML | 512                                               | naive                                             | 142dpi                                            | LV_bottom                                         | A2                                                | P132                                              | 0.001949328                                       | 0.005010000                                       | 0.000781512                                       | 0.000308839                                       | 0.00011588                                        |\n",
       "| X513_Group1C_142dpi_LV_bottom_163_G_A3_P132.mzXML | 513                                               | naive                                             | 142dpi                                            | LV_bottom                                         | A3                                                | P132                                              | 0.001434203                                       | 0.004690000                                       | 0.000345234                                       | 0.000658709                                       | 0.00000000                                        |\n",
       "| X514_Group1C_142dpi_LV_bottom_164_G_A4_P132.mzXML | 514                                               | naive                                             | 142dpi                                            | LV_bottom                                         | A4                                                | P132                                              | 0.001641283                                       | 0.003340000                                       | 0.000589426                                       | 0.000083400                                       | 0.00000000                                        |\n",
       "| X515_Group1C_142dpi_LV_bottom_165_G_A5_P132.mzXML | 515                                               | naive                                             | 142dpi                                            | LV_bottom                                         | A5                                                | P132                                              | 0.001665581                                       | 0.005882812                                       | 0.000535521                                       | 0.000000000                                       | 0.00000000                                        |\n",
       "| X531_Group1C_142dpi_LV_bottom_166_G_A6_P132.mzXML | 531                                               | naive                                             | 142dpi                                            | LV_bottom                                         | A6                                                | P132                                              | 0.001219054                                       | 0.003260000                                       | 0.000628733                                       | 0.000790339                                       | 0.00006560                                        |\n",
       "\n"
      ],
      "text/plain": [
       "  filename                                          MouseID Treatmentgroup\n",
       "1 X511_Group1C_142dpi_LV_bottom_161_G_A1_P132.mzXML 511     naive         \n",
       "2 X512_Group1C_142dpi_LV_bottom_162_G_A2_P132.mzXML 512     naive         \n",
       "3 X513_Group1C_142dpi_LV_bottom_163_G_A3_P132.mzXML 513     naive         \n",
       "4 X514_Group1C_142dpi_LV_bottom_164_G_A4_P132.mzXML 514     naive         \n",
       "5 X515_Group1C_142dpi_LV_bottom_165_G_A5_P132.mzXML 515     naive         \n",
       "6 X531_Group1C_142dpi_LV_bottom_166_G_A6_P132.mzXML 531     naive         \n",
       "  DPI    organ     well_position plate mass_400    mass_500    mass_600   \n",
       "1 142dpi LV_bottom A1            P132  0.002386624 0.006808896 0.000837413\n",
       "2 142dpi LV_bottom A2            P132  0.001949328 0.005010000 0.000781512\n",
       "3 142dpi LV_bottom A3            P132  0.001434203 0.004690000 0.000345234\n",
       "4 142dpi LV_bottom A4            P132  0.001641283 0.003340000 0.000589426\n",
       "5 142dpi LV_bottom A5            P132  0.001665581 0.005882812 0.000535521\n",
       "6 142dpi LV_bottom A6            P132  0.001219054 0.003260000 0.000628733\n",
       "  mass_700    mass_800  \n",
       "1 0.000237425 0.00000000\n",
       "2 0.000308839 0.00011588\n",
       "3 0.000658709 0.00000000\n",
       "4 0.000083400 0.00000000\n",
       "5 0.000000000 0.00000000\n",
       "6 0.000790339 0.00006560"
      ]
     },
     "metadata": {},
     "output_type": "display_data"
    },
    {
     "data": {
      "text/html": [
       "<ol class=list-inline>\n",
       "\t<li>30</li>\n",
       "\t<li>12</li>\n",
       "</ol>\n"
      ],
      "text/latex": [
       "\\begin{enumerate*}\n",
       "\\item 30\n",
       "\\item 12\n",
       "\\end{enumerate*}\n"
      ],
      "text/markdown": [
       "1. 30\n",
       "2. 12\n",
       "\n",
       "\n"
      ],
      "text/plain": [
       "[1] 30 12"
      ]
     },
     "metadata": {},
     "output_type": "display_data"
    }
   ],
   "source": [
    "features_pos<-droplevels(subset(a, a$Treatmentgroup==c(\"naive\")|a$Treatmentgroup==c(\"combo\")))\n",
    "head(features_pos)\n",
    "dim(features_pos)"
   ]
  },
  {
   "cell_type": "code",
   "execution_count": 4,
   "metadata": {
    "scrolled": false
   },
   "outputs": [
    {
     "data": {
      "text/html": [
       "<table>\n",
       "<thead><tr><th scope=col>mass_400</th><th scope=col>mass_500</th><th scope=col>mass_600</th><th scope=col>mass_700</th><th scope=col>mass_800</th></tr></thead>\n",
       "<tbody>\n",
       "\t<tr><td>0.002386624</td><td>0.006808896</td><td>0.000837413</td><td>0.000237425</td><td>0.00000000 </td></tr>\n",
       "\t<tr><td>0.001949328</td><td>0.005010000</td><td>0.000781512</td><td>0.000308839</td><td>0.00011588 </td></tr>\n",
       "\t<tr><td>0.001434203</td><td>0.004690000</td><td>0.000345234</td><td>0.000658709</td><td>0.00000000 </td></tr>\n",
       "\t<tr><td>0.001641283</td><td>0.003340000</td><td>0.000589426</td><td>0.000083400</td><td>0.00000000 </td></tr>\n",
       "\t<tr><td>0.001665581</td><td>0.005882812</td><td>0.000535521</td><td>0.000000000</td><td>0.00000000 </td></tr>\n",
       "\t<tr><td>0.001219054</td><td>0.003260000</td><td>0.000628733</td><td>0.000790339</td><td>0.00006560 </td></tr>\n",
       "</tbody>\n",
       "</table>\n"
      ],
      "text/latex": [
       "\\begin{tabular}{r|lllll}\n",
       " mass\\_400 & mass\\_500 & mass\\_600 & mass\\_700 & mass\\_800\\\\\n",
       "\\hline\n",
       "\t 0.002386624 & 0.006808896 & 0.000837413 & 0.000237425 & 0.00000000 \\\\\n",
       "\t 0.001949328 & 0.005010000 & 0.000781512 & 0.000308839 & 0.00011588 \\\\\n",
       "\t 0.001434203 & 0.004690000 & 0.000345234 & 0.000658709 & 0.00000000 \\\\\n",
       "\t 0.001641283 & 0.003340000 & 0.000589426 & 0.000083400 & 0.00000000 \\\\\n",
       "\t 0.001665581 & 0.005882812 & 0.000535521 & 0.000000000 & 0.00000000 \\\\\n",
       "\t 0.001219054 & 0.003260000 & 0.000628733 & 0.000790339 & 0.00006560 \\\\\n",
       "\\end{tabular}\n"
      ],
      "text/markdown": [
       "\n",
       "| mass_400 | mass_500 | mass_600 | mass_700 | mass_800 |\n",
       "|---|---|---|---|---|\n",
       "| 0.002386624 | 0.006808896 | 0.000837413 | 0.000237425 | 0.00000000  |\n",
       "| 0.001949328 | 0.005010000 | 0.000781512 | 0.000308839 | 0.00011588  |\n",
       "| 0.001434203 | 0.004690000 | 0.000345234 | 0.000658709 | 0.00000000  |\n",
       "| 0.001641283 | 0.003340000 | 0.000589426 | 0.000083400 | 0.00000000  |\n",
       "| 0.001665581 | 0.005882812 | 0.000535521 | 0.000000000 | 0.00000000  |\n",
       "| 0.001219054 | 0.003260000 | 0.000628733 | 0.000790339 | 0.00006560  |\n",
       "\n"
      ],
      "text/plain": [
       "  mass_400    mass_500    mass_600    mass_700    mass_800  \n",
       "1 0.002386624 0.006808896 0.000837413 0.000237425 0.00000000\n",
       "2 0.001949328 0.005010000 0.000781512 0.000308839 0.00011588\n",
       "3 0.001434203 0.004690000 0.000345234 0.000658709 0.00000000\n",
       "4 0.001641283 0.003340000 0.000589426 0.000083400 0.00000000\n",
       "5 0.001665581 0.005882812 0.000535521 0.000000000 0.00000000\n",
       "6 0.001219054 0.003260000 0.000628733 0.000790339 0.00006560"
      ]
     },
     "metadata": {},
     "output_type": "display_data"
    },
    {
     "data": {
      "text/html": [
       "<dl class=dl-horizontal>\n",
       "\t<dt>mass_400</dt>\n",
       "\t\t<dd>1</dd>\n",
       "\t<dt>mass_500</dt>\n",
       "\t\t<dd>2</dd>\n",
       "\t<dt>mass_600</dt>\n",
       "\t\t<dd>3</dd>\n",
       "\t<dt>mass_700</dt>\n",
       "\t\t<dd>4</dd>\n",
       "\t<dt>mass_800</dt>\n",
       "\t\t<dd>5</dd>\n",
       "</dl>\n"
      ],
      "text/latex": [
       "\\begin{description*}\n",
       "\\item[mass\\textbackslash{}\\_400] 1\n",
       "\\item[mass\\textbackslash{}\\_500] 2\n",
       "\\item[mass\\textbackslash{}\\_600] 3\n",
       "\\item[mass\\textbackslash{}\\_700] 4\n",
       "\\item[mass\\textbackslash{}\\_800] 5\n",
       "\\end{description*}\n"
      ],
      "text/markdown": [
       "mass_400\n",
       ":   1mass_500\n",
       ":   2mass_600\n",
       ":   3mass_700\n",
       ":   4mass_800\n",
       ":   5\n",
       "\n"
      ],
      "text/plain": [
       "mass_400 mass_500 mass_600 mass_700 mass_800 \n",
       "       1        2        3        4        5 "
      ]
     },
     "metadata": {},
     "output_type": "display_data"
    },
    {
     "data": {
      "text/html": [
       "<table>\n",
       "<thead><tr><th></th><th scope=col>mass_400</th><th scope=col>mass_500</th><th scope=col>mass_600</th><th scope=col>mass_700</th><th scope=col>mass_800</th></tr></thead>\n",
       "<tbody>\n",
       "\t<tr><th scope=row>1</th><td>0.002386624</td><td>0.006808896</td><td>0.000837413</td><td>0.000237425</td><td>0.000000000</td></tr>\n",
       "\t<tr><th scope=row>2</th><td>0.001949328</td><td>0.005010000</td><td>0.000781512</td><td>0.000308839</td><td>0.000115880</td></tr>\n",
       "\t<tr><th scope=row>3</th><td>0.001434203</td><td>0.004690000</td><td>0.000345234</td><td>0.000658709</td><td>0.000000000</td></tr>\n",
       "\t<tr><th scope=row>4</th><td>0.001641283</td><td>0.003340000</td><td>0.000589426</td><td>0.000083400</td><td>0.000000000</td></tr>\n",
       "\t<tr><th scope=row>5</th><td>0.001665581</td><td>0.005882812</td><td>0.000535521</td><td>0.000000000</td><td>0.000000000</td></tr>\n",
       "\t<tr><th scope=row>6</th><td>0.001219054</td><td>0.003260000</td><td>0.000628733</td><td>0.000790339</td><td>0.000065600</td></tr>\n",
       "\t<tr><th scope=row>7</th><td>0.001795573</td><td>0.004772157</td><td>0.000495074</td><td>0.000000000</td><td>0.000000000</td></tr>\n",
       "\t<tr><th scope=row>8</th><td>0.002234918</td><td>0.005420000</td><td>0.000413138</td><td>0.000325774</td><td>0.000063700</td></tr>\n",
       "\t<tr><th scope=row>9</th><td>0.001583809</td><td>0.004293131</td><td>0.000414748</td><td>0.000274422</td><td>0.000033000</td></tr>\n",
       "\t<tr><th scope=row>10</th><td>0.000870789</td><td>0.004582205</td><td>0.000116844</td><td>0.000674013</td><td>0.000000000</td></tr>\n",
       "\t<tr><th scope=row>11</th><td>0.002084659</td><td>0.005846914</td><td>0.000529472</td><td>0.000333558</td><td>0.000000000</td></tr>\n",
       "\t<tr><th scope=row>12</th><td>0.002075460</td><td>0.005936022</td><td>0.000346977</td><td>0.000996804</td><td>0.000134158</td></tr>\n",
       "\t<tr><th scope=row>13</th><td>0.002481509</td><td>0.006470000</td><td>0.000684149</td><td>0.000505311</td><td>0.000091900</td></tr>\n",
       "\t<tr><th scope=row>14</th><td>0.001082505</td><td>0.003909082</td><td>0.000187725</td><td>0.000388151</td><td>0.000000000</td></tr>\n",
       "\t<tr><th scope=row>15</th><td>0.001589865</td><td>0.005420000</td><td>0.000610133</td><td>0.002240806</td><td>0.000166443</td></tr>\n",
       "\t<tr><th scope=row>21</th><td>0.001062645</td><td>0.003010000</td><td>0.000335309</td><td>0.000388805</td><td>0.000027700</td></tr>\n",
       "\t<tr><th scope=row>22</th><td>0.000811914</td><td>0.003326714</td><td>0.000184004</td><td>0.000000000</td><td>0.000000000</td></tr>\n",
       "\t<tr><th scope=row>23</th><td>0.001695508</td><td>0.004860000</td><td>0.000274761</td><td>0.000260920</td><td>0.000210027</td></tr>\n",
       "\t<tr><th scope=row>24</th><td>0.002129603</td><td>0.004932729</td><td>0.000528162</td><td>0.000000000</td><td>0.000000000</td></tr>\n",
       "\t<tr><th scope=row>25</th><td>0.001465557</td><td>0.004510000</td><td>0.000235537</td><td>0.000694272</td><td>0.000000000</td></tr>\n",
       "\t<tr><th scope=row>36</th><td>0.001083977</td><td>0.003967501</td><td>0.000000000</td><td>0.000036500</td><td>0.000000000</td></tr>\n",
       "\t<tr><th scope=row>37</th><td>0.001402901</td><td>0.006183046</td><td>0.000166631</td><td>0.000260642</td><td>0.000000000</td></tr>\n",
       "\t<tr><th scope=row>38</th><td>0.001415367</td><td>0.003316345</td><td>0.000108669</td><td>0.000000000</td><td>0.000000000</td></tr>\n",
       "\t<tr><th scope=row>39</th><td>0.001924595</td><td>0.005143229</td><td>0.000159140</td><td>0.000601471</td><td>0.000000000</td></tr>\n",
       "\t<tr><th scope=row>40</th><td>0.001460686</td><td>0.004244063</td><td>0.000285706</td><td>0.000066100</td><td>0.000090100</td></tr>\n",
       "\t<tr><th scope=row>51</th><td>0.000842396</td><td>0.002737058</td><td>0.000145792</td><td>0.000000000</td><td>0.000000000</td></tr>\n",
       "\t<tr><th scope=row>52</th><td>0.001313667</td><td>0.004140448</td><td>0.000045400</td><td>0.000000000</td><td>0.000000000</td></tr>\n",
       "\t<tr><th scope=row>53</th><td>0.001682174</td><td>0.005174427</td><td>0.000162056</td><td>0.001105236</td><td>0.000170280</td></tr>\n",
       "\t<tr><th scope=row>54</th><td>0.001333159</td><td>0.004920000</td><td>0.000117959</td><td>0.000542336</td><td>0.000000000</td></tr>\n",
       "\t<tr><th scope=row>55</th><td>0.001414720</td><td>0.004396390</td><td>0.000034300</td><td>0.002005957</td><td>0.000000000</td></tr>\n",
       "</tbody>\n",
       "</table>\n"
      ],
      "text/latex": [
       "\\begin{tabular}{r|lllll}\n",
       "  & mass\\_400 & mass\\_500 & mass\\_600 & mass\\_700 & mass\\_800\\\\\n",
       "\\hline\n",
       "\t1 & 0.002386624 & 0.006808896 & 0.000837413 & 0.000237425 & 0.000000000\\\\\n",
       "\t2 & 0.001949328 & 0.005010000 & 0.000781512 & 0.000308839 & 0.000115880\\\\\n",
       "\t3 & 0.001434203 & 0.004690000 & 0.000345234 & 0.000658709 & 0.000000000\\\\\n",
       "\t4 & 0.001641283 & 0.003340000 & 0.000589426 & 0.000083400 & 0.000000000\\\\\n",
       "\t5 & 0.001665581 & 0.005882812 & 0.000535521 & 0.000000000 & 0.000000000\\\\\n",
       "\t6 & 0.001219054 & 0.003260000 & 0.000628733 & 0.000790339 & 0.000065600\\\\\n",
       "\t7 & 0.001795573 & 0.004772157 & 0.000495074 & 0.000000000 & 0.000000000\\\\\n",
       "\t8 & 0.002234918 & 0.005420000 & 0.000413138 & 0.000325774 & 0.000063700\\\\\n",
       "\t9 & 0.001583809 & 0.004293131 & 0.000414748 & 0.000274422 & 0.000033000\\\\\n",
       "\t10 & 0.000870789 & 0.004582205 & 0.000116844 & 0.000674013 & 0.000000000\\\\\n",
       "\t11 & 0.002084659 & 0.005846914 & 0.000529472 & 0.000333558 & 0.000000000\\\\\n",
       "\t12 & 0.002075460 & 0.005936022 & 0.000346977 & 0.000996804 & 0.000134158\\\\\n",
       "\t13 & 0.002481509 & 0.006470000 & 0.000684149 & 0.000505311 & 0.000091900\\\\\n",
       "\t14 & 0.001082505 & 0.003909082 & 0.000187725 & 0.000388151 & 0.000000000\\\\\n",
       "\t15 & 0.001589865 & 0.005420000 & 0.000610133 & 0.002240806 & 0.000166443\\\\\n",
       "\t21 & 0.001062645 & 0.003010000 & 0.000335309 & 0.000388805 & 0.000027700\\\\\n",
       "\t22 & 0.000811914 & 0.003326714 & 0.000184004 & 0.000000000 & 0.000000000\\\\\n",
       "\t23 & 0.001695508 & 0.004860000 & 0.000274761 & 0.000260920 & 0.000210027\\\\\n",
       "\t24 & 0.002129603 & 0.004932729 & 0.000528162 & 0.000000000 & 0.000000000\\\\\n",
       "\t25 & 0.001465557 & 0.004510000 & 0.000235537 & 0.000694272 & 0.000000000\\\\\n",
       "\t36 & 0.001083977 & 0.003967501 & 0.000000000 & 0.000036500 & 0.000000000\\\\\n",
       "\t37 & 0.001402901 & 0.006183046 & 0.000166631 & 0.000260642 & 0.000000000\\\\\n",
       "\t38 & 0.001415367 & 0.003316345 & 0.000108669 & 0.000000000 & 0.000000000\\\\\n",
       "\t39 & 0.001924595 & 0.005143229 & 0.000159140 & 0.000601471 & 0.000000000\\\\\n",
       "\t40 & 0.001460686 & 0.004244063 & 0.000285706 & 0.000066100 & 0.000090100\\\\\n",
       "\t51 & 0.000842396 & 0.002737058 & 0.000145792 & 0.000000000 & 0.000000000\\\\\n",
       "\t52 & 0.001313667 & 0.004140448 & 0.000045400 & 0.000000000 & 0.000000000\\\\\n",
       "\t53 & 0.001682174 & 0.005174427 & 0.000162056 & 0.001105236 & 0.000170280\\\\\n",
       "\t54 & 0.001333159 & 0.004920000 & 0.000117959 & 0.000542336 & 0.000000000\\\\\n",
       "\t55 & 0.001414720 & 0.004396390 & 0.000034300 & 0.002005957 & 0.000000000\\\\\n",
       "\\end{tabular}\n"
      ],
      "text/markdown": [
       "\n",
       "| <!--/--> | mass_400 | mass_500 | mass_600 | mass_700 | mass_800 |\n",
       "|---|---|---|---|---|---|\n",
       "| 1 | 0.002386624 | 0.006808896 | 0.000837413 | 0.000237425 | 0.000000000 |\n",
       "| 2 | 0.001949328 | 0.005010000 | 0.000781512 | 0.000308839 | 0.000115880 |\n",
       "| 3 | 0.001434203 | 0.004690000 | 0.000345234 | 0.000658709 | 0.000000000 |\n",
       "| 4 | 0.001641283 | 0.003340000 | 0.000589426 | 0.000083400 | 0.000000000 |\n",
       "| 5 | 0.001665581 | 0.005882812 | 0.000535521 | 0.000000000 | 0.000000000 |\n",
       "| 6 | 0.001219054 | 0.003260000 | 0.000628733 | 0.000790339 | 0.000065600 |\n",
       "| 7 | 0.001795573 | 0.004772157 | 0.000495074 | 0.000000000 | 0.000000000 |\n",
       "| 8 | 0.002234918 | 0.005420000 | 0.000413138 | 0.000325774 | 0.000063700 |\n",
       "| 9 | 0.001583809 | 0.004293131 | 0.000414748 | 0.000274422 | 0.000033000 |\n",
       "| 10 | 0.000870789 | 0.004582205 | 0.000116844 | 0.000674013 | 0.000000000 |\n",
       "| 11 | 0.002084659 | 0.005846914 | 0.000529472 | 0.000333558 | 0.000000000 |\n",
       "| 12 | 0.002075460 | 0.005936022 | 0.000346977 | 0.000996804 | 0.000134158 |\n",
       "| 13 | 0.002481509 | 0.006470000 | 0.000684149 | 0.000505311 | 0.000091900 |\n",
       "| 14 | 0.001082505 | 0.003909082 | 0.000187725 | 0.000388151 | 0.000000000 |\n",
       "| 15 | 0.001589865 | 0.005420000 | 0.000610133 | 0.002240806 | 0.000166443 |\n",
       "| 21 | 0.001062645 | 0.003010000 | 0.000335309 | 0.000388805 | 0.000027700 |\n",
       "| 22 | 0.000811914 | 0.003326714 | 0.000184004 | 0.000000000 | 0.000000000 |\n",
       "| 23 | 0.001695508 | 0.004860000 | 0.000274761 | 0.000260920 | 0.000210027 |\n",
       "| 24 | 0.002129603 | 0.004932729 | 0.000528162 | 0.000000000 | 0.000000000 |\n",
       "| 25 | 0.001465557 | 0.004510000 | 0.000235537 | 0.000694272 | 0.000000000 |\n",
       "| 36 | 0.001083977 | 0.003967501 | 0.000000000 | 0.000036500 | 0.000000000 |\n",
       "| 37 | 0.001402901 | 0.006183046 | 0.000166631 | 0.000260642 | 0.000000000 |\n",
       "| 38 | 0.001415367 | 0.003316345 | 0.000108669 | 0.000000000 | 0.000000000 |\n",
       "| 39 | 0.001924595 | 0.005143229 | 0.000159140 | 0.000601471 | 0.000000000 |\n",
       "| 40 | 0.001460686 | 0.004244063 | 0.000285706 | 0.000066100 | 0.000090100 |\n",
       "| 51 | 0.000842396 | 0.002737058 | 0.000145792 | 0.000000000 | 0.000000000 |\n",
       "| 52 | 0.001313667 | 0.004140448 | 0.000045400 | 0.000000000 | 0.000000000 |\n",
       "| 53 | 0.001682174 | 0.005174427 | 0.000162056 | 0.001105236 | 0.000170280 |\n",
       "| 54 | 0.001333159 | 0.004920000 | 0.000117959 | 0.000542336 | 0.000000000 |\n",
       "| 55 | 0.001414720 | 0.004396390 | 0.000034300 | 0.002005957 | 0.000000000 |\n",
       "\n"
      ],
      "text/plain": [
       "   mass_400    mass_500    mass_600    mass_700    mass_800   \n",
       "1  0.002386624 0.006808896 0.000837413 0.000237425 0.000000000\n",
       "2  0.001949328 0.005010000 0.000781512 0.000308839 0.000115880\n",
       "3  0.001434203 0.004690000 0.000345234 0.000658709 0.000000000\n",
       "4  0.001641283 0.003340000 0.000589426 0.000083400 0.000000000\n",
       "5  0.001665581 0.005882812 0.000535521 0.000000000 0.000000000\n",
       "6  0.001219054 0.003260000 0.000628733 0.000790339 0.000065600\n",
       "7  0.001795573 0.004772157 0.000495074 0.000000000 0.000000000\n",
       "8  0.002234918 0.005420000 0.000413138 0.000325774 0.000063700\n",
       "9  0.001583809 0.004293131 0.000414748 0.000274422 0.000033000\n",
       "10 0.000870789 0.004582205 0.000116844 0.000674013 0.000000000\n",
       "11 0.002084659 0.005846914 0.000529472 0.000333558 0.000000000\n",
       "12 0.002075460 0.005936022 0.000346977 0.000996804 0.000134158\n",
       "13 0.002481509 0.006470000 0.000684149 0.000505311 0.000091900\n",
       "14 0.001082505 0.003909082 0.000187725 0.000388151 0.000000000\n",
       "15 0.001589865 0.005420000 0.000610133 0.002240806 0.000166443\n",
       "21 0.001062645 0.003010000 0.000335309 0.000388805 0.000027700\n",
       "22 0.000811914 0.003326714 0.000184004 0.000000000 0.000000000\n",
       "23 0.001695508 0.004860000 0.000274761 0.000260920 0.000210027\n",
       "24 0.002129603 0.004932729 0.000528162 0.000000000 0.000000000\n",
       "25 0.001465557 0.004510000 0.000235537 0.000694272 0.000000000\n",
       "36 0.001083977 0.003967501 0.000000000 0.000036500 0.000000000\n",
       "37 0.001402901 0.006183046 0.000166631 0.000260642 0.000000000\n",
       "38 0.001415367 0.003316345 0.000108669 0.000000000 0.000000000\n",
       "39 0.001924595 0.005143229 0.000159140 0.000601471 0.000000000\n",
       "40 0.001460686 0.004244063 0.000285706 0.000066100 0.000090100\n",
       "51 0.000842396 0.002737058 0.000145792 0.000000000 0.000000000\n",
       "52 0.001313667 0.004140448 0.000045400 0.000000000 0.000000000\n",
       "53 0.001682174 0.005174427 0.000162056 0.001105236 0.000170280\n",
       "54 0.001333159 0.004920000 0.000117959 0.000542336 0.000000000\n",
       "55 0.001414720 0.004396390 0.000034300 0.002005957 0.000000000"
      ]
     },
     "metadata": {},
     "output_type": "display_data"
    },
    {
     "data": {
      "text/html": [
       "<table>\n",
       "<thead><tr><th scope=col>filename</th><th scope=col>MouseID</th><th scope=col>Treatmentgroup</th><th scope=col>DPI</th><th scope=col>organ</th><th scope=col>well_position</th><th scope=col>plate</th><th scope=col>mass_400</th><th scope=col>mass_500</th><th scope=col>mass_600</th><th scope=col>mass_700</th><th scope=col>mass_800</th></tr></thead>\n",
       "<tbody>\n",
       "\t<tr><td>X511_Group1C_142dpi_LV_bottom_161_G_A1_P132.mzXML</td><td>511                                              </td><td>naive                                            </td><td>142dpi                                           </td><td>LV_bottom                                        </td><td>A1                                               </td><td>P132                                             </td><td>0.002386624                                      </td><td>0.006808896                                      </td><td>0.000837413                                      </td><td>0.000237425                                      </td><td>0.00000000                                       </td></tr>\n",
       "\t<tr><td>X512_Group1C_142dpi_LV_bottom_162_G_A2_P132.mzXML</td><td>512                                              </td><td>naive                                            </td><td>142dpi                                           </td><td>LV_bottom                                        </td><td>A2                                               </td><td>P132                                             </td><td>0.001949328                                      </td><td>0.005010000                                      </td><td>0.000781512                                      </td><td>0.000308839                                      </td><td>0.00011588                                       </td></tr>\n",
       "\t<tr><td>X513_Group1C_142dpi_LV_bottom_163_G_A3_P132.mzXML</td><td>513                                              </td><td>naive                                            </td><td>142dpi                                           </td><td>LV_bottom                                        </td><td>A3                                               </td><td>P132                                             </td><td>0.001434203                                      </td><td>0.004690000                                      </td><td>0.000345234                                      </td><td>0.000658709                                      </td><td>0.00000000                                       </td></tr>\n",
       "\t<tr><td>X514_Group1C_142dpi_LV_bottom_164_G_A4_P132.mzXML</td><td>514                                              </td><td>naive                                            </td><td>142dpi                                           </td><td>LV_bottom                                        </td><td>A4                                               </td><td>P132                                             </td><td>0.001641283                                      </td><td>0.003340000                                      </td><td>0.000589426                                      </td><td>0.000083400                                      </td><td>0.00000000                                       </td></tr>\n",
       "\t<tr><td>X515_Group1C_142dpi_LV_bottom_165_G_A5_P132.mzXML</td><td>515                                              </td><td>naive                                            </td><td>142dpi                                           </td><td>LV_bottom                                        </td><td>A5                                               </td><td>P132                                             </td><td>0.001665581                                      </td><td>0.005882812                                      </td><td>0.000535521                                      </td><td>0.000000000                                      </td><td>0.00000000                                       </td></tr>\n",
       "\t<tr><td>X531_Group1C_142dpi_LV_bottom_166_G_A6_P132.mzXML</td><td>531                                              </td><td>naive                                            </td><td>142dpi                                           </td><td>LV_bottom                                        </td><td>A6                                               </td><td>P132                                             </td><td>0.001219054                                      </td><td>0.003260000                                      </td><td>0.000628733                                      </td><td>0.000790339                                      </td><td>0.00006560                                       </td></tr>\n",
       "</tbody>\n",
       "</table>\n"
      ],
      "text/latex": [
       "\\begin{tabular}{r|llllllllllll}\n",
       " filename & MouseID & Treatmentgroup & DPI & organ & well\\_position & plate & mass\\_400 & mass\\_500 & mass\\_600 & mass\\_700 & mass\\_800\\\\\n",
       "\\hline\n",
       "\t X511\\_Group1C\\_142dpi\\_LV\\_bottom\\_161\\_G\\_A1\\_P132.mzXML & 511                                                               & naive                                                             & 142dpi                                                            & LV\\_bottom                                                       & A1                                                                & P132                                                              & 0.002386624                                                       & 0.006808896                                                       & 0.000837413                                                       & 0.000237425                                                       & 0.00000000                                                       \\\\\n",
       "\t X512\\_Group1C\\_142dpi\\_LV\\_bottom\\_162\\_G\\_A2\\_P132.mzXML & 512                                                               & naive                                                             & 142dpi                                                            & LV\\_bottom                                                       & A2                                                                & P132                                                              & 0.001949328                                                       & 0.005010000                                                       & 0.000781512                                                       & 0.000308839                                                       & 0.00011588                                                       \\\\\n",
       "\t X513\\_Group1C\\_142dpi\\_LV\\_bottom\\_163\\_G\\_A3\\_P132.mzXML & 513                                                               & naive                                                             & 142dpi                                                            & LV\\_bottom                                                       & A3                                                                & P132                                                              & 0.001434203                                                       & 0.004690000                                                       & 0.000345234                                                       & 0.000658709                                                       & 0.00000000                                                       \\\\\n",
       "\t X514\\_Group1C\\_142dpi\\_LV\\_bottom\\_164\\_G\\_A4\\_P132.mzXML & 514                                                               & naive                                                             & 142dpi                                                            & LV\\_bottom                                                       & A4                                                                & P132                                                              & 0.001641283                                                       & 0.003340000                                                       & 0.000589426                                                       & 0.000083400                                                       & 0.00000000                                                       \\\\\n",
       "\t X515\\_Group1C\\_142dpi\\_LV\\_bottom\\_165\\_G\\_A5\\_P132.mzXML & 515                                                               & naive                                                             & 142dpi                                                            & LV\\_bottom                                                       & A5                                                                & P132                                                              & 0.001665581                                                       & 0.005882812                                                       & 0.000535521                                                       & 0.000000000                                                       & 0.00000000                                                       \\\\\n",
       "\t X531\\_Group1C\\_142dpi\\_LV\\_bottom\\_166\\_G\\_A6\\_P132.mzXML & 531                                                               & naive                                                             & 142dpi                                                            & LV\\_bottom                                                       & A6                                                                & P132                                                              & 0.001219054                                                       & 0.003260000                                                       & 0.000628733                                                       & 0.000790339                                                       & 0.00006560                                                       \\\\\n",
       "\\end{tabular}\n"
      ],
      "text/markdown": [
       "\n",
       "| filename | MouseID | Treatmentgroup | DPI | organ | well_position | plate | mass_400 | mass_500 | mass_600 | mass_700 | mass_800 |\n",
       "|---|---|---|---|---|---|---|---|---|---|---|---|\n",
       "| X511_Group1C_142dpi_LV_bottom_161_G_A1_P132.mzXML | 511                                               | naive                                             | 142dpi                                            | LV_bottom                                         | A1                                                | P132                                              | 0.002386624                                       | 0.006808896                                       | 0.000837413                                       | 0.000237425                                       | 0.00000000                                        |\n",
       "| X512_Group1C_142dpi_LV_bottom_162_G_A2_P132.mzXML | 512                                               | naive                                             | 142dpi                                            | LV_bottom                                         | A2                                                | P132                                              | 0.001949328                                       | 0.005010000                                       | 0.000781512                                       | 0.000308839                                       | 0.00011588                                        |\n",
       "| X513_Group1C_142dpi_LV_bottom_163_G_A3_P132.mzXML | 513                                               | naive                                             | 142dpi                                            | LV_bottom                                         | A3                                                | P132                                              | 0.001434203                                       | 0.004690000                                       | 0.000345234                                       | 0.000658709                                       | 0.00000000                                        |\n",
       "| X514_Group1C_142dpi_LV_bottom_164_G_A4_P132.mzXML | 514                                               | naive                                             | 142dpi                                            | LV_bottom                                         | A4                                                | P132                                              | 0.001641283                                       | 0.003340000                                       | 0.000589426                                       | 0.000083400                                       | 0.00000000                                        |\n",
       "| X515_Group1C_142dpi_LV_bottom_165_G_A5_P132.mzXML | 515                                               | naive                                             | 142dpi                                            | LV_bottom                                         | A5                                                | P132                                              | 0.001665581                                       | 0.005882812                                       | 0.000535521                                       | 0.000000000                                       | 0.00000000                                        |\n",
       "| X531_Group1C_142dpi_LV_bottom_166_G_A6_P132.mzXML | 531                                               | naive                                             | 142dpi                                            | LV_bottom                                         | A6                                                | P132                                              | 0.001219054                                       | 0.003260000                                       | 0.000628733                                       | 0.000790339                                       | 0.00006560                                        |\n",
       "\n"
      ],
      "text/plain": [
       "  filename                                          MouseID Treatmentgroup\n",
       "1 X511_Group1C_142dpi_LV_bottom_161_G_A1_P132.mzXML 511     naive         \n",
       "2 X512_Group1C_142dpi_LV_bottom_162_G_A2_P132.mzXML 512     naive         \n",
       "3 X513_Group1C_142dpi_LV_bottom_163_G_A3_P132.mzXML 513     naive         \n",
       "4 X514_Group1C_142dpi_LV_bottom_164_G_A4_P132.mzXML 514     naive         \n",
       "5 X515_Group1C_142dpi_LV_bottom_165_G_A5_P132.mzXML 515     naive         \n",
       "6 X531_Group1C_142dpi_LV_bottom_166_G_A6_P132.mzXML 531     naive         \n",
       "  DPI    organ     well_position plate mass_400    mass_500    mass_600   \n",
       "1 142dpi LV_bottom A1            P132  0.002386624 0.006808896 0.000837413\n",
       "2 142dpi LV_bottom A2            P132  0.001949328 0.005010000 0.000781512\n",
       "3 142dpi LV_bottom A3            P132  0.001434203 0.004690000 0.000345234\n",
       "4 142dpi LV_bottom A4            P132  0.001641283 0.003340000 0.000589426\n",
       "5 142dpi LV_bottom A5            P132  0.001665581 0.005882812 0.000535521\n",
       "6 142dpi LV_bottom A6            P132  0.001219054 0.003260000 0.000628733\n",
       "  mass_700    mass_800  \n",
       "1 0.000237425 0.00000000\n",
       "2 0.000308839 0.00011588\n",
       "3 0.000658709 0.00000000\n",
       "4 0.000083400 0.00000000\n",
       "5 0.000000000 0.00000000\n",
       "6 0.000790339 0.00006560"
      ]
     },
     "metadata": {},
     "output_type": "display_data"
    },
    {
     "data": {
      "text/html": [
       "<ol class=list-inline>\n",
       "\t<li>30</li>\n",
       "\t<li>12</li>\n",
       "</ol>\n"
      ],
      "text/latex": [
       "\\begin{enumerate*}\n",
       "\\item 30\n",
       "\\item 12\n",
       "\\end{enumerate*}\n"
      ],
      "text/markdown": [
       "1. 30\n",
       "2. 12\n",
       "\n",
       "\n"
      ],
      "text/plain": [
       "[1] 30 12"
      ]
     },
     "metadata": {},
     "output_type": "display_data"
    },
    {
     "data": {
      "text/html": [
       "<ol class=list-inline>\n",
       "\t<li>30</li>\n",
       "\t<li>5</li>\n",
       "</ol>\n"
      ],
      "text/latex": [
       "\\begin{enumerate*}\n",
       "\\item 30\n",
       "\\item 5\n",
       "\\end{enumerate*}\n"
      ],
      "text/markdown": [
       "1. 30\n",
       "2. 5\n",
       "\n",
       "\n"
      ],
      "text/plain": [
       "[1] 30  5"
      ]
     },
     "metadata": {},
     "output_type": "display_data"
    },
    {
     "data": {
      "text/html": [
       "<ol class=list-inline>\n",
       "\t<li>30</li>\n",
       "\t<li>5</li>\n",
       "</ol>\n"
      ],
      "text/latex": [
       "\\begin{enumerate*}\n",
       "\\item 30\n",
       "\\item 5\n",
       "\\end{enumerate*}\n"
      ],
      "text/markdown": [
       "1. 30\n",
       "2. 5\n",
       "\n",
       "\n"
      ],
      "text/plain": [
       "[1] 30  5"
      ]
     },
     "metadata": {},
     "output_type": "display_data"
    },
    {
     "data": {
      "text/html": [
       "<ol class=list-inline>\n",
       "\t<li>30</li>\n",
       "\t<li>12</li>\n",
       "</ol>\n"
      ],
      "text/latex": [
       "\\begin{enumerate*}\n",
       "\\item 30\n",
       "\\item 12\n",
       "\\end{enumerate*}\n"
      ],
      "text/markdown": [
       "1. 30\n",
       "2. 12\n",
       "\n",
       "\n"
      ],
      "text/plain": [
       "[1] 30 12"
      ]
     },
     "metadata": {},
     "output_type": "display_data"
    }
   ],
   "source": [
    "noMeta<-features_pos[,8:12]\n",
    "head(noMeta)\n",
    "not_zero<-which(colSums(noMeta) != 0)\n",
    "head(not_zero)\n",
    "nonzero <- noMeta[, not_zero]\n",
    "nonzero\n",
    "nonzero_wMeta<-cbind(features_pos[,1:7], nonzero)\n",
    "head(nonzero_wMeta)\n",
    "dim(features_pos)\n",
    "dim(noMeta)\n",
    "dim(nonzero)\n",
    "dim(nonzero_wMeta)"
   ]
  },
  {
   "cell_type": "code",
   "execution_count": 5,
   "metadata": {
    "scrolled": true
   },
   "outputs": [
    {
     "name": "stderr",
     "output_type": "stream",
     "text": [
      "Warning message in wilcox.test.default(x = c(0.00301, 0.003326714, 0.00486, 0.004932729, :\n",
      "\"cannot compute exact p-value with ties\"Warning message in wilcox.test.default(x = c(0.000388805, 0, 0.00026092, 0, 0.000694272, :\n",
      "\"cannot compute exact p-value with ties\"Warning message in wilcox.test.default(x = c(2.77e-05, 0, 0.000210027, 0, 0, 0, :\n",
      "\"cannot compute exact p-value with ties\""
     ]
    },
    {
     "data": {
      "text/html": [
       "<ol class=list-inline>\n",
       "\t<li>0.040839912860907</li>\n",
       "\t<li>0.0744634291742475</li>\n",
       "\t<li>4.40440254588908e-05</li>\n",
       "\t<li>0.277828265041416</li>\n",
       "\t<li>0.361662740984182</li>\n",
       "</ol>\n"
      ],
      "text/latex": [
       "\\begin{enumerate*}\n",
       "\\item 0.040839912860907\n",
       "\\item 0.0744634291742475\n",
       "\\item 4.40440254588908e-05\n",
       "\\item 0.277828265041416\n",
       "\\item 0.361662740984182\n",
       "\\end{enumerate*}\n"
      ],
      "text/markdown": [
       "1. 0.040839912860907\n",
       "2. 0.0744634291742475\n",
       "3. 4.40440254588908e-05\n",
       "4. 0.277828265041416\n",
       "5. 0.361662740984182\n",
       "\n",
       "\n"
      ],
      "text/plain": [
       "[1] 4.083991e-02 7.446343e-02 4.404403e-05 2.778283e-01 3.616627e-01"
      ]
     },
     "metadata": {},
     "output_type": "display_data"
    },
    {
     "data": {
      "text/html": [
       "<ol class=list-inline>\n",
       "\t<li>0.102099782152268</li>\n",
       "\t<li>0.124105715290412</li>\n",
       "\t<li>0.000220220127294454</li>\n",
       "\t<li>0.34728533130177</li>\n",
       "\t<li>0.361662740984182</li>\n",
       "</ol>\n"
      ],
      "text/latex": [
       "\\begin{enumerate*}\n",
       "\\item 0.102099782152268\n",
       "\\item 0.124105715290412\n",
       "\\item 0.000220220127294454\n",
       "\\item 0.34728533130177\n",
       "\\item 0.361662740984182\n",
       "\\end{enumerate*}\n"
      ],
      "text/markdown": [
       "1. 0.102099782152268\n",
       "2. 0.124105715290412\n",
       "3. 0.000220220127294454\n",
       "4. 0.34728533130177\n",
       "5. 0.361662740984182\n",
       "\n",
       "\n"
      ],
      "text/plain": [
       "[1] 0.1020997822 0.1241057153 0.0002202201 0.3472853313 0.3616627410"
      ]
     },
     "metadata": {},
     "output_type": "display_data"
    }
   ],
   "source": [
    "pval<-c()\n",
    "\n",
    "for (i in 8:ncol(nonzero_wMeta)) \n",
    "pval<-c(pval,wilcox.test(nonzero_wMeta[,i]~nonzero_wMeta$Treatmentgroup)$p.value)\n",
    "head(pval)\n",
    "pAdj <- p.adjust(pval, method = c(\"fdr\"), n=length(pval)) \n",
    "head(pAdj) \n",
    "\n"
   ]
  },
  {
   "cell_type": "code",
   "execution_count": 6,
   "metadata": {
    "scrolled": true
   },
   "outputs": [
    {
     "data": {
      "text/html": [
       "5"
      ],
      "text/latex": [
       "5"
      ],
      "text/markdown": [
       "5"
      ],
      "text/plain": [
       "[1] 5"
      ]
     },
     "metadata": {},
     "output_type": "display_data"
    }
   ],
   "source": [
    "length(pval)"
   ]
  },
  {
   "cell_type": "code",
   "execution_count": 7,
   "metadata": {
    "scrolled": true
   },
   "outputs": [
    {
     "data": {
      "text/html": [
       "5"
      ],
      "text/latex": [
       "5"
      ],
      "text/markdown": [
       "5"
      ],
      "text/plain": [
       "[1] 5"
      ]
     },
     "metadata": {},
     "output_type": "display_data"
    }
   ],
   "source": [
    "length(pAdj)"
   ]
  },
  {
   "cell_type": "code",
   "execution_count": 8,
   "metadata": {},
   "outputs": [
    {
     "data": {
      "text/html": [
       "<ol class=list-inline>\n",
       "\t<li>2</li>\n",
       "\t<li>5</li>\n",
       "</ol>\n"
      ],
      "text/latex": [
       "\\begin{enumerate*}\n",
       "\\item 2\n",
       "\\item 5\n",
       "\\end{enumerate*}\n"
      ],
      "text/markdown": [
       "1. 2\n",
       "2. 5\n",
       "\n",
       "\n"
      ],
      "text/plain": [
       "[1] 2 5"
      ]
     },
     "metadata": {},
     "output_type": "display_data"
    },
    {
     "data": {
      "text/html": [
       "<table>\n",
       "<thead><tr><th></th><th scope=col>mass_400</th><th scope=col>mass_500</th><th scope=col>mass_600</th></tr></thead>\n",
       "<tbody>\n",
       "\t<tr><th scope=row>combo</th><td>0.001402591 </td><td>0.004324130 </td><td>0.0001855617</td></tr>\n",
       "\t<tr><th scope=row>naive</th><td>0.001739677 </td><td>0.005042748 </td><td>0.0005010733</td></tr>\n",
       "</tbody>\n",
       "</table>\n"
      ],
      "text/latex": [
       "\\begin{tabular}{r|lll}\n",
       "  & mass\\_400 & mass\\_500 & mass\\_600\\\\\n",
       "\\hline\n",
       "\tcombo & 0.001402591  & 0.004324130  & 0.0001855617\\\\\n",
       "\tnaive & 0.001739677  & 0.005042748  & 0.0005010733\\\\\n",
       "\\end{tabular}\n"
      ],
      "text/markdown": [
       "\n",
       "| <!--/--> | mass_400 | mass_500 | mass_600 |\n",
       "|---|---|---|---|\n",
       "| combo | 0.001402591  | 0.004324130  | 0.0001855617 |\n",
       "| naive | 0.001739677  | 0.005042748  | 0.0005010733 |\n",
       "\n"
      ],
      "text/plain": [
       "      mass_400    mass_500    mass_600    \n",
       "combo 0.001402591 0.004324130 0.0001855617\n",
       "naive 0.001739677 0.005042748 0.0005010733"
      ]
     },
     "metadata": {},
     "output_type": "display_data"
    },
    {
     "data": {
      "text/html": [
       "<dl class=dl-horizontal>\n",
       "\t<dt>mass_400</dt>\n",
       "\t\t<dd>0.806236443846292</dd>\n",
       "\t<dt>mass_500</dt>\n",
       "\t\t<dd>0.857494774112511</dd>\n",
       "\t<dt>mass_600</dt>\n",
       "\t\t<dd>0.370328544102466</dd>\n",
       "\t<dt>mass_700</dt>\n",
       "\t\t<dd>0.762673502225953</dd>\n",
       "\t<dt>mass_800</dt>\n",
       "\t\t<dd>0.74268840178863</dd>\n",
       "</dl>\n"
      ],
      "text/latex": [
       "\\begin{description*}\n",
       "\\item[mass\\textbackslash{}\\_400] 0.806236443846292\n",
       "\\item[mass\\textbackslash{}\\_500] 0.857494774112511\n",
       "\\item[mass\\textbackslash{}\\_600] 0.370328544102466\n",
       "\\item[mass\\textbackslash{}\\_700] 0.762673502225953\n",
       "\\item[mass\\textbackslash{}\\_800] 0.74268840178863\n",
       "\\end{description*}\n"
      ],
      "text/markdown": [
       "mass_400\n",
       ":   0.806236443846292mass_500\n",
       ":   0.857494774112511mass_600\n",
       ":   0.370328544102466mass_700\n",
       ":   0.762673502225953mass_800\n",
       ":   0.74268840178863\n",
       "\n"
      ],
      "text/plain": [
       " mass_400  mass_500  mass_600  mass_700  mass_800 \n",
       "0.8062364 0.8574948 0.3703285 0.7626735 0.7426884 "
      ]
     },
     "metadata": {},
     "output_type": "display_data"
    },
    {
     "data": {
      "text/html": [
       "<ol class=list-inline>\n",
       "\t<li>'numeric'</li>\n",
       "\t<li>'vector'</li>\n",
       "</ol>\n"
      ],
      "text/latex": [
       "\\begin{enumerate*}\n",
       "\\item 'numeric'\n",
       "\\item 'vector'\n",
       "\\end{enumerate*}\n"
      ],
      "text/markdown": [
       "1. 'numeric'\n",
       "2. 'vector'\n",
       "\n",
       "\n"
      ],
      "text/plain": [
       "[1] \"numeric\" \"vector\" "
      ]
     },
     "metadata": {},
     "output_type": "display_data"
    }
   ],
   "source": [
    "avg<- apply(nonzero_wMeta[,8:ncol(nonzero_wMeta)], 2, function(x) tapply(x, nonzero_wMeta$Treatmentgroup, function(x) mean(x))) \n",
    "\n",
    "dim(avg)\n",
    "\n",
    "avg[,1:3]\n",
    "\n",
    "fch <- apply(avg, 2, function(x) x[1]/x[2])\n",
    "\n",
    "head(fch)\n",
    "is(fch)"
   ]
  },
  {
   "cell_type": "code",
   "execution_count": 9,
   "metadata": {
    "scrolled": true
   },
   "outputs": [
    {
     "data": {
      "text/html": [
       "<dl class=dl-horizontal>\n",
       "\t<dt>mass_400</dt>\n",
       "\t\t<dd>0.806236443846292</dd>\n",
       "\t<dt>mass_500</dt>\n",
       "\t\t<dd>0.857494774112511</dd>\n",
       "\t<dt>mass_600</dt>\n",
       "\t\t<dd>0.370328544102466</dd>\n",
       "\t<dt>mass_700</dt>\n",
       "\t\t<dd>0.762673502225953</dd>\n",
       "\t<dt>mass_800</dt>\n",
       "\t\t<dd>0.74268840178863</dd>\n",
       "</dl>\n"
      ],
      "text/latex": [
       "\\begin{description*}\n",
       "\\item[mass\\textbackslash{}\\_400] 0.806236443846292\n",
       "\\item[mass\\textbackslash{}\\_500] 0.857494774112511\n",
       "\\item[mass\\textbackslash{}\\_600] 0.370328544102466\n",
       "\\item[mass\\textbackslash{}\\_700] 0.762673502225953\n",
       "\\item[mass\\textbackslash{}\\_800] 0.74268840178863\n",
       "\\end{description*}\n"
      ],
      "text/markdown": [
       "mass_400\n",
       ":   0.806236443846292mass_500\n",
       ":   0.857494774112511mass_600\n",
       ":   0.370328544102466mass_700\n",
       ":   0.762673502225953mass_800\n",
       ":   0.74268840178863\n",
       "\n"
      ],
      "text/plain": [
       " mass_400  mass_500  mass_600  mass_700  mass_800 \n",
       "0.8062364 0.8574948 0.3703285 0.7626735 0.7426884 "
      ]
     },
     "metadata": {},
     "output_type": "display_data"
    }
   ],
   "source": [
    "fch"
   ]
  },
  {
   "cell_type": "code",
   "execution_count": 10,
   "metadata": {
    "scrolled": false
   },
   "outputs": [],
   "source": [
    "df <- data.frame(fch,pval, pAdj)\n",
    "write.csv(df, \"PE-treat-LVB-wilcox-naive-combo.csv\")"
   ]
  },
  {
   "cell_type": "code",
   "execution_count": null,
   "metadata": {},
   "outputs": [],
   "source": []
  },
  {
   "cell_type": "code",
   "execution_count": null,
   "metadata": {},
   "outputs": [],
   "source": []
  },
  {
   "cell_type": "code",
   "execution_count": null,
   "metadata": {},
   "outputs": [],
   "source": []
  },
  {
   "cell_type": "code",
   "execution_count": null,
   "metadata": {},
   "outputs": [],
   "source": []
  },
  {
   "cell_type": "code",
   "execution_count": null,
   "metadata": {},
   "outputs": [],
   "source": []
  },
  {
   "cell_type": "code",
   "execution_count": null,
   "metadata": {},
   "outputs": [],
   "source": []
  }
 ],
 "metadata": {
  "kernelspec": {
   "display_name": "R",
   "language": "R",
   "name": "ir"
  },
  "language_info": {
   "codemirror_mode": "r",
   "file_extension": ".r",
   "mimetype": "text/x-r-source",
   "name": "R",
   "pygments_lexer": "r",
   "version": "3.6.1"
  }
 },
 "nbformat": 4,
 "nbformat_minor": 2
}
