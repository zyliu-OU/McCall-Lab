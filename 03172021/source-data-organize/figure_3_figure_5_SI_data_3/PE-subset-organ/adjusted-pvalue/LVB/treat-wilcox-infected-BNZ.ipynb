{
 "cells": [
  {
   "cell_type": "code",
   "execution_count": 1,
   "metadata": {},
   "outputs": [],
   "source": [
    "a <- read.csv(\"03172021-PE-treatment-LVB-M-F.csv\")"
   ]
  },
  {
   "cell_type": "code",
   "execution_count": 2,
   "metadata": {},
   "outputs": [
    {
     "data": {
      "text/html": [
       "<table>\n",
       "<thead><tr><th scope=col>filename</th><th scope=col>MouseID</th><th scope=col>Treatmentgroup</th><th scope=col>DPI</th><th scope=col>organ</th><th scope=col>well_position</th><th scope=col>plate</th><th scope=col>mass_400</th><th scope=col>mass_500</th><th scope=col>mass_600</th><th scope=col>mass_700</th><th scope=col>mass_800</th></tr></thead>\n",
       "<tbody>\n",
       "\t<tr><td>X511_Group1C_142dpi_LV_bottom_161_G_A1_P132.mzXML</td><td>511                                              </td><td>naive                                            </td><td>142dpi                                           </td><td>LV_bottom                                        </td><td>A1                                               </td><td>P132                                             </td><td>0.002386624                                      </td><td>0.006808896                                      </td><td>0.000837413                                      </td><td>0.000237425                                      </td><td>0.00000000                                       </td></tr>\n",
       "\t<tr><td>X512_Group1C_142dpi_LV_bottom_162_G_A2_P132.mzXML</td><td>512                                              </td><td>naive                                            </td><td>142dpi                                           </td><td>LV_bottom                                        </td><td>A2                                               </td><td>P132                                             </td><td>0.001949328                                      </td><td>0.005010000                                      </td><td>0.000781512                                      </td><td>0.000308839                                      </td><td>0.00011588                                       </td></tr>\n",
       "\t<tr><td>X513_Group1C_142dpi_LV_bottom_163_G_A3_P132.mzXML</td><td>513                                              </td><td>naive                                            </td><td>142dpi                                           </td><td>LV_bottom                                        </td><td>A3                                               </td><td>P132                                             </td><td>0.001434203                                      </td><td>0.004690000                                      </td><td>0.000345234                                      </td><td>0.000658709                                      </td><td>0.00000000                                       </td></tr>\n",
       "\t<tr><td>X514_Group1C_142dpi_LV_bottom_164_G_A4_P132.mzXML</td><td>514                                              </td><td>naive                                            </td><td>142dpi                                           </td><td>LV_bottom                                        </td><td>A4                                               </td><td>P132                                             </td><td>0.001641283                                      </td><td>0.003340000                                      </td><td>0.000589426                                      </td><td>0.000083400                                      </td><td>0.00000000                                       </td></tr>\n",
       "\t<tr><td>X515_Group1C_142dpi_LV_bottom_165_G_A5_P132.mzXML</td><td>515                                              </td><td>naive                                            </td><td>142dpi                                           </td><td>LV_bottom                                        </td><td>A5                                               </td><td>P132                                             </td><td>0.001665581                                      </td><td>0.005882812                                      </td><td>0.000535521                                      </td><td>0.000000000                                      </td><td>0.00000000                                       </td></tr>\n",
       "\t<tr><td>X531_Group1C_142dpi_LV_bottom_166_G_A6_P132.mzXML</td><td>531                                              </td><td>naive                                            </td><td>142dpi                                           </td><td>LV_bottom                                        </td><td>A6                                               </td><td>P132                                             </td><td>0.001219054                                      </td><td>0.003260000                                      </td><td>0.000628733                                      </td><td>0.000790339                                      </td><td>0.00006560                                       </td></tr>\n",
       "</tbody>\n",
       "</table>\n"
      ],
      "text/latex": [
       "\\begin{tabular}{r|llllllllllll}\n",
       " filename & MouseID & Treatmentgroup & DPI & organ & well\\_position & plate & mass\\_400 & mass\\_500 & mass\\_600 & mass\\_700 & mass\\_800\\\\\n",
       "\\hline\n",
       "\t X511\\_Group1C\\_142dpi\\_LV\\_bottom\\_161\\_G\\_A1\\_P132.mzXML & 511                                                               & naive                                                             & 142dpi                                                            & LV\\_bottom                                                       & A1                                                                & P132                                                              & 0.002386624                                                       & 0.006808896                                                       & 0.000837413                                                       & 0.000237425                                                       & 0.00000000                                                       \\\\\n",
       "\t X512\\_Group1C\\_142dpi\\_LV\\_bottom\\_162\\_G\\_A2\\_P132.mzXML & 512                                                               & naive                                                             & 142dpi                                                            & LV\\_bottom                                                       & A2                                                                & P132                                                              & 0.001949328                                                       & 0.005010000                                                       & 0.000781512                                                       & 0.000308839                                                       & 0.00011588                                                       \\\\\n",
       "\t X513\\_Group1C\\_142dpi\\_LV\\_bottom\\_163\\_G\\_A3\\_P132.mzXML & 513                                                               & naive                                                             & 142dpi                                                            & LV\\_bottom                                                       & A3                                                                & P132                                                              & 0.001434203                                                       & 0.004690000                                                       & 0.000345234                                                       & 0.000658709                                                       & 0.00000000                                                       \\\\\n",
       "\t X514\\_Group1C\\_142dpi\\_LV\\_bottom\\_164\\_G\\_A4\\_P132.mzXML & 514                                                               & naive                                                             & 142dpi                                                            & LV\\_bottom                                                       & A4                                                                & P132                                                              & 0.001641283                                                       & 0.003340000                                                       & 0.000589426                                                       & 0.000083400                                                       & 0.00000000                                                       \\\\\n",
       "\t X515\\_Group1C\\_142dpi\\_LV\\_bottom\\_165\\_G\\_A5\\_P132.mzXML & 515                                                               & naive                                                             & 142dpi                                                            & LV\\_bottom                                                       & A5                                                                & P132                                                              & 0.001665581                                                       & 0.005882812                                                       & 0.000535521                                                       & 0.000000000                                                       & 0.00000000                                                       \\\\\n",
       "\t X531\\_Group1C\\_142dpi\\_LV\\_bottom\\_166\\_G\\_A6\\_P132.mzXML & 531                                                               & naive                                                             & 142dpi                                                            & LV\\_bottom                                                       & A6                                                                & P132                                                              & 0.001219054                                                       & 0.003260000                                                       & 0.000628733                                                       & 0.000790339                                                       & 0.00006560                                                       \\\\\n",
       "\\end{tabular}\n"
      ],
      "text/markdown": [
       "\n",
       "| filename | MouseID | Treatmentgroup | DPI | organ | well_position | plate | mass_400 | mass_500 | mass_600 | mass_700 | mass_800 |\n",
       "|---|---|---|---|---|---|---|---|---|---|---|---|\n",
       "| X511_Group1C_142dpi_LV_bottom_161_G_A1_P132.mzXML | 511                                               | naive                                             | 142dpi                                            | LV_bottom                                         | A1                                                | P132                                              | 0.002386624                                       | 0.006808896                                       | 0.000837413                                       | 0.000237425                                       | 0.00000000                                        |\n",
       "| X512_Group1C_142dpi_LV_bottom_162_G_A2_P132.mzXML | 512                                               | naive                                             | 142dpi                                            | LV_bottom                                         | A2                                                | P132                                              | 0.001949328                                       | 0.005010000                                       | 0.000781512                                       | 0.000308839                                       | 0.00011588                                        |\n",
       "| X513_Group1C_142dpi_LV_bottom_163_G_A3_P132.mzXML | 513                                               | naive                                             | 142dpi                                            | LV_bottom                                         | A3                                                | P132                                              | 0.001434203                                       | 0.004690000                                       | 0.000345234                                       | 0.000658709                                       | 0.00000000                                        |\n",
       "| X514_Group1C_142dpi_LV_bottom_164_G_A4_P132.mzXML | 514                                               | naive                                             | 142dpi                                            | LV_bottom                                         | A4                                                | P132                                              | 0.001641283                                       | 0.003340000                                       | 0.000589426                                       | 0.000083400                                       | 0.00000000                                        |\n",
       "| X515_Group1C_142dpi_LV_bottom_165_G_A5_P132.mzXML | 515                                               | naive                                             | 142dpi                                            | LV_bottom                                         | A5                                                | P132                                              | 0.001665581                                       | 0.005882812                                       | 0.000535521                                       | 0.000000000                                       | 0.00000000                                        |\n",
       "| X531_Group1C_142dpi_LV_bottom_166_G_A6_P132.mzXML | 531                                               | naive                                             | 142dpi                                            | LV_bottom                                         | A6                                                | P132                                              | 0.001219054                                       | 0.003260000                                       | 0.000628733                                       | 0.000790339                                       | 0.00006560                                        |\n",
       "\n"
      ],
      "text/plain": [
       "  filename                                          MouseID Treatmentgroup\n",
       "1 X511_Group1C_142dpi_LV_bottom_161_G_A1_P132.mzXML 511     naive         \n",
       "2 X512_Group1C_142dpi_LV_bottom_162_G_A2_P132.mzXML 512     naive         \n",
       "3 X513_Group1C_142dpi_LV_bottom_163_G_A3_P132.mzXML 513     naive         \n",
       "4 X514_Group1C_142dpi_LV_bottom_164_G_A4_P132.mzXML 514     naive         \n",
       "5 X515_Group1C_142dpi_LV_bottom_165_G_A5_P132.mzXML 515     naive         \n",
       "6 X531_Group1C_142dpi_LV_bottom_166_G_A6_P132.mzXML 531     naive         \n",
       "  DPI    organ     well_position plate mass_400    mass_500    mass_600   \n",
       "1 142dpi LV_bottom A1            P132  0.002386624 0.006808896 0.000837413\n",
       "2 142dpi LV_bottom A2            P132  0.001949328 0.005010000 0.000781512\n",
       "3 142dpi LV_bottom A3            P132  0.001434203 0.004690000 0.000345234\n",
       "4 142dpi LV_bottom A4            P132  0.001641283 0.003340000 0.000589426\n",
       "5 142dpi LV_bottom A5            P132  0.001665581 0.005882812 0.000535521\n",
       "6 142dpi LV_bottom A6            P132  0.001219054 0.003260000 0.000628733\n",
       "  mass_700    mass_800  \n",
       "1 0.000237425 0.00000000\n",
       "2 0.000308839 0.00011588\n",
       "3 0.000658709 0.00000000\n",
       "4 0.000083400 0.00000000\n",
       "5 0.000000000 0.00000000\n",
       "6 0.000790339 0.00006560"
      ]
     },
     "metadata": {},
     "output_type": "display_data"
    },
    {
     "data": {
      "text/html": [
       "<ol class=list-inline>\n",
       "\t<li>60</li>\n",
       "\t<li>12</li>\n",
       "</ol>\n"
      ],
      "text/latex": [
       "\\begin{enumerate*}\n",
       "\\item 60\n",
       "\\item 12\n",
       "\\end{enumerate*}\n"
      ],
      "text/markdown": [
       "1. 60\n",
       "2. 12\n",
       "\n",
       "\n"
      ],
      "text/plain": [
       "[1] 60 12"
      ]
     },
     "metadata": {},
     "output_type": "display_data"
    }
   ],
   "source": [
    "head(a)\n",
    "dim(a)"
   ]
  },
  {
   "cell_type": "code",
   "execution_count": 3,
   "metadata": {},
   "outputs": [
    {
     "data": {
      "text/html": [
       "<table>\n",
       "<thead><tr><th></th><th scope=col>filename</th><th scope=col>MouseID</th><th scope=col>Treatmentgroup</th><th scope=col>DPI</th><th scope=col>organ</th><th scope=col>well_position</th><th scope=col>plate</th><th scope=col>mass_400</th><th scope=col>mass_500</th><th scope=col>mass_600</th><th scope=col>mass_700</th><th scope=col>mass_800</th></tr></thead>\n",
       "<tbody>\n",
       "\t<tr><th scope=row>16</th><td>X581_Group3E_142dpi_LV_bottom_176_G_B4_P132.mzXML</td><td>581                                              </td><td>infected                                         </td><td>142dpi                                           </td><td>LV_bottom                                        </td><td>B4                                               </td><td>P132                                             </td><td>0.002222101                                      </td><td>0.004490000                                      </td><td>0.000513737                                      </td><td>0.000079500                                      </td><td>0.000163421                                      </td></tr>\n",
       "\t<tr><th scope=row>17</th><td>X582_Group3E_142dpi_LV_bottom_177_G_B5_P132.mzXML</td><td>582                                              </td><td>infected                                         </td><td>142dpi                                           </td><td>LV_bottom                                        </td><td>B5                                               </td><td>P132                                             </td><td>0.001739643                                      </td><td>0.007251383                                      </td><td>0.000362827                                      </td><td>0.002699924                                      </td><td>0.000707577                                      </td></tr>\n",
       "\t<tr><th scope=row>18</th><td>X583_Group3E_142dpi_LV_bottom_178_G_B6_P132.mzXML</td><td>583                                              </td><td>infected                                         </td><td>142dpi                                           </td><td>LV_bottom                                        </td><td>B6                                               </td><td>P132                                             </td><td>0.001386222                                      </td><td>0.004660000                                      </td><td>0.000276625                                      </td><td>0.002056273                                      </td><td>0.000102736                                      </td></tr>\n",
       "\t<tr><th scope=row>19</th><td>X584_Group3E_142dpi_LV_bottom_179_G_B7_P132.mzXML</td><td>584                                              </td><td>infected                                         </td><td>142dpi                                           </td><td>LV_bottom                                        </td><td>B7                                               </td><td>P132                                             </td><td>0.001221590                                      </td><td>0.003891675                                      </td><td>0.000361526                                      </td><td>0.000202556                                      </td><td>0.000116045                                      </td></tr>\n",
       "\t<tr><th scope=row>20</th><td>X585_Group3E_142dpi_LV_bottom_180_G_B8_P132.mzXML</td><td>585                                              </td><td>infected                                         </td><td>142dpi                                           </td><td>LV_bottom                                        </td><td>B8                                               </td><td>P132                                             </td><td>0.001385315                                      </td><td>0.005610814                                      </td><td>0.000221267                                      </td><td>0.001172862                                      </td><td>0.000026800                                      </td></tr>\n",
       "\t<tr><th scope=row>26</th><td>X631_Group15_142dpi_LV_bottom_191_G_C7_P132.mzXML</td><td>631                                              </td><td>BNZ                                              </td><td>142dpi                                           </td><td>LV_bottom                                        </td><td>C7                                               </td><td>P132                                             </td><td>0.001476766                                      </td><td>0.003660000                                      </td><td>0.000189690                                      </td><td>0.002070000                                      </td><td>0.000152984                                      </td></tr>\n",
       "</tbody>\n",
       "</table>\n"
      ],
      "text/latex": [
       "\\begin{tabular}{r|llllllllllll}\n",
       "  & filename & MouseID & Treatmentgroup & DPI & organ & well\\_position & plate & mass\\_400 & mass\\_500 & mass\\_600 & mass\\_700 & mass\\_800\\\\\n",
       "\\hline\n",
       "\t16 & X581\\_Group3E\\_142dpi\\_LV\\_bottom\\_176\\_G\\_B4\\_P132.mzXML & 581                                                               & infected                                                          & 142dpi                                                            & LV\\_bottom                                                       & B4                                                                & P132                                                              & 0.002222101                                                       & 0.004490000                                                       & 0.000513737                                                       & 0.000079500                                                       & 0.000163421                                                      \\\\\n",
       "\t17 & X582\\_Group3E\\_142dpi\\_LV\\_bottom\\_177\\_G\\_B5\\_P132.mzXML & 582                                                               & infected                                                          & 142dpi                                                            & LV\\_bottom                                                       & B5                                                                & P132                                                              & 0.001739643                                                       & 0.007251383                                                       & 0.000362827                                                       & 0.002699924                                                       & 0.000707577                                                      \\\\\n",
       "\t18 & X583\\_Group3E\\_142dpi\\_LV\\_bottom\\_178\\_G\\_B6\\_P132.mzXML & 583                                                               & infected                                                          & 142dpi                                                            & LV\\_bottom                                                       & B6                                                                & P132                                                              & 0.001386222                                                       & 0.004660000                                                       & 0.000276625                                                       & 0.002056273                                                       & 0.000102736                                                      \\\\\n",
       "\t19 & X584\\_Group3E\\_142dpi\\_LV\\_bottom\\_179\\_G\\_B7\\_P132.mzXML & 584                                                               & infected                                                          & 142dpi                                                            & LV\\_bottom                                                       & B7                                                                & P132                                                              & 0.001221590                                                       & 0.003891675                                                       & 0.000361526                                                       & 0.000202556                                                       & 0.000116045                                                      \\\\\n",
       "\t20 & X585\\_Group3E\\_142dpi\\_LV\\_bottom\\_180\\_G\\_B8\\_P132.mzXML & 585                                                               & infected                                                          & 142dpi                                                            & LV\\_bottom                                                       & B8                                                                & P132                                                              & 0.001385315                                                       & 0.005610814                                                       & 0.000221267                                                       & 0.001172862                                                       & 0.000026800                                                      \\\\\n",
       "\t26 & X631\\_Group15\\_142dpi\\_LV\\_bottom\\_191\\_G\\_C7\\_P132.mzXML & 631                                                               & BNZ                                                               & 142dpi                                                            & LV\\_bottom                                                       & C7                                                                & P132                                                              & 0.001476766                                                       & 0.003660000                                                       & 0.000189690                                                       & 0.002070000                                                       & 0.000152984                                                      \\\\\n",
       "\\end{tabular}\n"
      ],
      "text/markdown": [
       "\n",
       "| <!--/--> | filename | MouseID | Treatmentgroup | DPI | organ | well_position | plate | mass_400 | mass_500 | mass_600 | mass_700 | mass_800 |\n",
       "|---|---|---|---|---|---|---|---|---|---|---|---|---|\n",
       "| 16 | X581_Group3E_142dpi_LV_bottom_176_G_B4_P132.mzXML | 581                                               | infected                                          | 142dpi                                            | LV_bottom                                         | B4                                                | P132                                              | 0.002222101                                       | 0.004490000                                       | 0.000513737                                       | 0.000079500                                       | 0.000163421                                       |\n",
       "| 17 | X582_Group3E_142dpi_LV_bottom_177_G_B5_P132.mzXML | 582                                               | infected                                          | 142dpi                                            | LV_bottom                                         | B5                                                | P132                                              | 0.001739643                                       | 0.007251383                                       | 0.000362827                                       | 0.002699924                                       | 0.000707577                                       |\n",
       "| 18 | X583_Group3E_142dpi_LV_bottom_178_G_B6_P132.mzXML | 583                                               | infected                                          | 142dpi                                            | LV_bottom                                         | B6                                                | P132                                              | 0.001386222                                       | 0.004660000                                       | 0.000276625                                       | 0.002056273                                       | 0.000102736                                       |\n",
       "| 19 | X584_Group3E_142dpi_LV_bottom_179_G_B7_P132.mzXML | 584                                               | infected                                          | 142dpi                                            | LV_bottom                                         | B7                                                | P132                                              | 0.001221590                                       | 0.003891675                                       | 0.000361526                                       | 0.000202556                                       | 0.000116045                                       |\n",
       "| 20 | X585_Group3E_142dpi_LV_bottom_180_G_B8_P132.mzXML | 585                                               | infected                                          | 142dpi                                            | LV_bottom                                         | B8                                                | P132                                              | 0.001385315                                       | 0.005610814                                       | 0.000221267                                       | 0.001172862                                       | 0.000026800                                       |\n",
       "| 26 | X631_Group15_142dpi_LV_bottom_191_G_C7_P132.mzXML | 631                                               | BNZ                                               | 142dpi                                            | LV_bottom                                         | C7                                                | P132                                              | 0.001476766                                       | 0.003660000                                       | 0.000189690                                       | 0.002070000                                       | 0.000152984                                       |\n",
       "\n"
      ],
      "text/plain": [
       "   filename                                          MouseID Treatmentgroup\n",
       "16 X581_Group3E_142dpi_LV_bottom_176_G_B4_P132.mzXML 581     infected      \n",
       "17 X582_Group3E_142dpi_LV_bottom_177_G_B5_P132.mzXML 582     infected      \n",
       "18 X583_Group3E_142dpi_LV_bottom_178_G_B6_P132.mzXML 583     infected      \n",
       "19 X584_Group3E_142dpi_LV_bottom_179_G_B7_P132.mzXML 584     infected      \n",
       "20 X585_Group3E_142dpi_LV_bottom_180_G_B8_P132.mzXML 585     infected      \n",
       "26 X631_Group15_142dpi_LV_bottom_191_G_C7_P132.mzXML 631     BNZ           \n",
       "   DPI    organ     well_position plate mass_400    mass_500    mass_600   \n",
       "16 142dpi LV_bottom B4            P132  0.002222101 0.004490000 0.000513737\n",
       "17 142dpi LV_bottom B5            P132  0.001739643 0.007251383 0.000362827\n",
       "18 142dpi LV_bottom B6            P132  0.001386222 0.004660000 0.000276625\n",
       "19 142dpi LV_bottom B7            P132  0.001221590 0.003891675 0.000361526\n",
       "20 142dpi LV_bottom B8            P132  0.001385315 0.005610814 0.000221267\n",
       "26 142dpi LV_bottom C7            P132  0.001476766 0.003660000 0.000189690\n",
       "   mass_700    mass_800   \n",
       "16 0.000079500 0.000163421\n",
       "17 0.002699924 0.000707577\n",
       "18 0.002056273 0.000102736\n",
       "19 0.000202556 0.000116045\n",
       "20 0.001172862 0.000026800\n",
       "26 0.002070000 0.000152984"
      ]
     },
     "metadata": {},
     "output_type": "display_data"
    },
    {
     "data": {
      "text/html": [
       "<ol class=list-inline>\n",
       "\t<li>30</li>\n",
       "\t<li>12</li>\n",
       "</ol>\n"
      ],
      "text/latex": [
       "\\begin{enumerate*}\n",
       "\\item 30\n",
       "\\item 12\n",
       "\\end{enumerate*}\n"
      ],
      "text/markdown": [
       "1. 30\n",
       "2. 12\n",
       "\n",
       "\n"
      ],
      "text/plain": [
       "[1] 30 12"
      ]
     },
     "metadata": {},
     "output_type": "display_data"
    }
   ],
   "source": [
    "features_pos<-droplevels(subset(a, a$Treatmentgroup==c(\"infected\")|a$Treatmentgroup==c(\"BNZ\")))\n",
    "head(features_pos)\n",
    "dim(features_pos)"
   ]
  },
  {
   "cell_type": "code",
   "execution_count": 4,
   "metadata": {
    "scrolled": false
   },
   "outputs": [
    {
     "data": {
      "text/html": [
       "<table>\n",
       "<thead><tr><th></th><th scope=col>mass_400</th><th scope=col>mass_500</th><th scope=col>mass_600</th><th scope=col>mass_700</th><th scope=col>mass_800</th></tr></thead>\n",
       "<tbody>\n",
       "\t<tr><th scope=row>16</th><td>0.002222101</td><td>0.004490000</td><td>0.000513737</td><td>0.000079500</td><td>0.000163421</td></tr>\n",
       "\t<tr><th scope=row>17</th><td>0.001739643</td><td>0.007251383</td><td>0.000362827</td><td>0.002699924</td><td>0.000707577</td></tr>\n",
       "\t<tr><th scope=row>18</th><td>0.001386222</td><td>0.004660000</td><td>0.000276625</td><td>0.002056273</td><td>0.000102736</td></tr>\n",
       "\t<tr><th scope=row>19</th><td>0.001221590</td><td>0.003891675</td><td>0.000361526</td><td>0.000202556</td><td>0.000116045</td></tr>\n",
       "\t<tr><th scope=row>20</th><td>0.001385315</td><td>0.005610814</td><td>0.000221267</td><td>0.001172862</td><td>0.000026800</td></tr>\n",
       "\t<tr><th scope=row>26</th><td>0.001476766</td><td>0.003660000</td><td>0.000189690</td><td>0.002070000</td><td>0.000152984</td></tr>\n",
       "</tbody>\n",
       "</table>\n"
      ],
      "text/latex": [
       "\\begin{tabular}{r|lllll}\n",
       "  & mass\\_400 & mass\\_500 & mass\\_600 & mass\\_700 & mass\\_800\\\\\n",
       "\\hline\n",
       "\t16 & 0.002222101 & 0.004490000 & 0.000513737 & 0.000079500 & 0.000163421\\\\\n",
       "\t17 & 0.001739643 & 0.007251383 & 0.000362827 & 0.002699924 & 0.000707577\\\\\n",
       "\t18 & 0.001386222 & 0.004660000 & 0.000276625 & 0.002056273 & 0.000102736\\\\\n",
       "\t19 & 0.001221590 & 0.003891675 & 0.000361526 & 0.000202556 & 0.000116045\\\\\n",
       "\t20 & 0.001385315 & 0.005610814 & 0.000221267 & 0.001172862 & 0.000026800\\\\\n",
       "\t26 & 0.001476766 & 0.003660000 & 0.000189690 & 0.002070000 & 0.000152984\\\\\n",
       "\\end{tabular}\n"
      ],
      "text/markdown": [
       "\n",
       "| <!--/--> | mass_400 | mass_500 | mass_600 | mass_700 | mass_800 |\n",
       "|---|---|---|---|---|---|\n",
       "| 16 | 0.002222101 | 0.004490000 | 0.000513737 | 0.000079500 | 0.000163421 |\n",
       "| 17 | 0.001739643 | 0.007251383 | 0.000362827 | 0.002699924 | 0.000707577 |\n",
       "| 18 | 0.001386222 | 0.004660000 | 0.000276625 | 0.002056273 | 0.000102736 |\n",
       "| 19 | 0.001221590 | 0.003891675 | 0.000361526 | 0.000202556 | 0.000116045 |\n",
       "| 20 | 0.001385315 | 0.005610814 | 0.000221267 | 0.001172862 | 0.000026800 |\n",
       "| 26 | 0.001476766 | 0.003660000 | 0.000189690 | 0.002070000 | 0.000152984 |\n",
       "\n"
      ],
      "text/plain": [
       "   mass_400    mass_500    mass_600    mass_700    mass_800   \n",
       "16 0.002222101 0.004490000 0.000513737 0.000079500 0.000163421\n",
       "17 0.001739643 0.007251383 0.000362827 0.002699924 0.000707577\n",
       "18 0.001386222 0.004660000 0.000276625 0.002056273 0.000102736\n",
       "19 0.001221590 0.003891675 0.000361526 0.000202556 0.000116045\n",
       "20 0.001385315 0.005610814 0.000221267 0.001172862 0.000026800\n",
       "26 0.001476766 0.003660000 0.000189690 0.002070000 0.000152984"
      ]
     },
     "metadata": {},
     "output_type": "display_data"
    },
    {
     "data": {
      "text/html": [
       "<dl class=dl-horizontal>\n",
       "\t<dt>mass_400</dt>\n",
       "\t\t<dd>1</dd>\n",
       "\t<dt>mass_500</dt>\n",
       "\t\t<dd>2</dd>\n",
       "\t<dt>mass_600</dt>\n",
       "\t\t<dd>3</dd>\n",
       "\t<dt>mass_700</dt>\n",
       "\t\t<dd>4</dd>\n",
       "\t<dt>mass_800</dt>\n",
       "\t\t<dd>5</dd>\n",
       "</dl>\n"
      ],
      "text/latex": [
       "\\begin{description*}\n",
       "\\item[mass\\textbackslash{}\\_400] 1\n",
       "\\item[mass\\textbackslash{}\\_500] 2\n",
       "\\item[mass\\textbackslash{}\\_600] 3\n",
       "\\item[mass\\textbackslash{}\\_700] 4\n",
       "\\item[mass\\textbackslash{}\\_800] 5\n",
       "\\end{description*}\n"
      ],
      "text/markdown": [
       "mass_400\n",
       ":   1mass_500\n",
       ":   2mass_600\n",
       ":   3mass_700\n",
       ":   4mass_800\n",
       ":   5\n",
       "\n"
      ],
      "text/plain": [
       "mass_400 mass_500 mass_600 mass_700 mass_800 \n",
       "       1        2        3        4        5 "
      ]
     },
     "metadata": {},
     "output_type": "display_data"
    },
    {
     "data": {
      "text/html": [
       "<table>\n",
       "<thead><tr><th></th><th scope=col>mass_400</th><th scope=col>mass_500</th><th scope=col>mass_600</th><th scope=col>mass_700</th><th scope=col>mass_800</th></tr></thead>\n",
       "<tbody>\n",
       "\t<tr><th scope=row>16</th><td>0.002222101</td><td>0.004490000</td><td>0.000513737</td><td>0.000079500</td><td>0.000163421</td></tr>\n",
       "\t<tr><th scope=row>17</th><td>0.001739643</td><td>0.007251383</td><td>0.000362827</td><td>0.002699924</td><td>0.000707577</td></tr>\n",
       "\t<tr><th scope=row>18</th><td>0.001386222</td><td>0.004660000</td><td>0.000276625</td><td>0.002056273</td><td>0.000102736</td></tr>\n",
       "\t<tr><th scope=row>19</th><td>0.001221590</td><td>0.003891675</td><td>0.000361526</td><td>0.000202556</td><td>0.000116045</td></tr>\n",
       "\t<tr><th scope=row>20</th><td>0.001385315</td><td>0.005610814</td><td>0.000221267</td><td>0.001172862</td><td>0.000026800</td></tr>\n",
       "\t<tr><th scope=row>26</th><td>0.001476766</td><td>0.003660000</td><td>0.000189690</td><td>0.002070000</td><td>0.000152984</td></tr>\n",
       "\t<tr><th scope=row>27</th><td>0.001389394</td><td>0.004000000</td><td>0.000135987</td><td>0.001007187</td><td>0.000250384</td></tr>\n",
       "\t<tr><th scope=row>28</th><td>0.001608412</td><td>0.005220000</td><td>0.000298048</td><td>0.002244830</td><td>0.000000000</td></tr>\n",
       "\t<tr><th scope=row>29</th><td>0.001279760</td><td>0.003361392</td><td>0.000188343</td><td>0.000359554</td><td>0.000036000</td></tr>\n",
       "\t<tr><th scope=row>30</th><td>0.000921027</td><td>0.003243058</td><td>0.000498397</td><td>0.000555126</td><td>0.000000000</td></tr>\n",
       "\t<tr><th scope=row>31</th><td>0.001502078</td><td>0.005147911</td><td>0.000250013</td><td>0.001024529</td><td>0.000072800</td></tr>\n",
       "\t<tr><th scope=row>32</th><td>0.000898835</td><td>0.004464547</td><td>0.000076600</td><td>0.000660477</td><td>0.000000000</td></tr>\n",
       "\t<tr><th scope=row>33</th><td>0.001210896</td><td>0.004538624</td><td>0.000159301</td><td>0.000701975</td><td>0.000000000</td></tr>\n",
       "\t<tr><th scope=row>34</th><td>0.001234798</td><td>0.004125246</td><td>0.000257433</td><td>0.000409967</td><td>0.000071600</td></tr>\n",
       "\t<tr><th scope=row>35</th><td>0.001471597</td><td>0.003995852</td><td>0.000196376</td><td>0.000000000</td><td>0.000103846</td></tr>\n",
       "\t<tr><th scope=row>41</th><td>0.000950108</td><td>0.003730148</td><td>0.000000000</td><td>0.001132753</td><td>0.000042100</td></tr>\n",
       "\t<tr><th scope=row>42</th><td>0.000885233</td><td>0.003251898</td><td>0.000086500</td><td>0.000000000</td><td>0.000000000</td></tr>\n",
       "\t<tr><th scope=row>43</th><td>0.001363281</td><td>0.005500268</td><td>0.000098600</td><td>0.001885564</td><td>0.000087500</td></tr>\n",
       "\t<tr><th scope=row>44</th><td>0.000916835</td><td>0.004062065</td><td>0.000000000</td><td>0.000061000</td><td>0.000000000</td></tr>\n",
       "\t<tr><th scope=row>45</th><td>0.000994050</td><td>0.004680000</td><td>0.000136572</td><td>0.001165957</td><td>0.000000000</td></tr>\n",
       "\t<tr><th scope=row>46</th><td>0.001465284</td><td>0.004141659</td><td>0.000202241</td><td>0.000348033</td><td>0.000000000</td></tr>\n",
       "\t<tr><th scope=row>47</th><td>0.000633482</td><td>0.004077569</td><td>0.000000000</td><td>0.000744383</td><td>0.000000000</td></tr>\n",
       "\t<tr><th scope=row>48</th><td>0.001289179</td><td>0.004264533</td><td>0.000033900</td><td>0.000196109</td><td>0.000000000</td></tr>\n",
       "\t<tr><th scope=row>49</th><td>0.000731768</td><td>0.003198521</td><td>0.000000000</td><td>0.000224952</td><td>0.000000000</td></tr>\n",
       "\t<tr><th scope=row>50</th><td>0.000953232</td><td>0.003155758</td><td>0.000199600</td><td>0.000000000</td><td>0.000000000</td></tr>\n",
       "\t<tr><th scope=row>56</th><td>0.000984632</td><td>0.003201915</td><td>0.000128700</td><td>0.000279521</td><td>0.000061500</td></tr>\n",
       "\t<tr><th scope=row>57</th><td>0.000670332</td><td>0.002110000</td><td>0.000220020</td><td>0.001060000</td><td>0.000102628</td></tr>\n",
       "\t<tr><th scope=row>58</th><td>0.000357270</td><td>0.000510080</td><td>0.000018060</td><td>0.000157210</td><td>0.000020100</td></tr>\n",
       "\t<tr><th scope=row>59</th><td>0.000899940</td><td>0.003663062</td><td>0.000050700</td><td>0.000000000</td><td>0.000000000</td></tr>\n",
       "\t<tr><th scope=row>60</th><td>0.001327666</td><td>0.004325574</td><td>0.000363913</td><td>0.000000000</td><td>0.000000000</td></tr>\n",
       "</tbody>\n",
       "</table>\n"
      ],
      "text/latex": [
       "\\begin{tabular}{r|lllll}\n",
       "  & mass\\_400 & mass\\_500 & mass\\_600 & mass\\_700 & mass\\_800\\\\\n",
       "\\hline\n",
       "\t16 & 0.002222101 & 0.004490000 & 0.000513737 & 0.000079500 & 0.000163421\\\\\n",
       "\t17 & 0.001739643 & 0.007251383 & 0.000362827 & 0.002699924 & 0.000707577\\\\\n",
       "\t18 & 0.001386222 & 0.004660000 & 0.000276625 & 0.002056273 & 0.000102736\\\\\n",
       "\t19 & 0.001221590 & 0.003891675 & 0.000361526 & 0.000202556 & 0.000116045\\\\\n",
       "\t20 & 0.001385315 & 0.005610814 & 0.000221267 & 0.001172862 & 0.000026800\\\\\n",
       "\t26 & 0.001476766 & 0.003660000 & 0.000189690 & 0.002070000 & 0.000152984\\\\\n",
       "\t27 & 0.001389394 & 0.004000000 & 0.000135987 & 0.001007187 & 0.000250384\\\\\n",
       "\t28 & 0.001608412 & 0.005220000 & 0.000298048 & 0.002244830 & 0.000000000\\\\\n",
       "\t29 & 0.001279760 & 0.003361392 & 0.000188343 & 0.000359554 & 0.000036000\\\\\n",
       "\t30 & 0.000921027 & 0.003243058 & 0.000498397 & 0.000555126 & 0.000000000\\\\\n",
       "\t31 & 0.001502078 & 0.005147911 & 0.000250013 & 0.001024529 & 0.000072800\\\\\n",
       "\t32 & 0.000898835 & 0.004464547 & 0.000076600 & 0.000660477 & 0.000000000\\\\\n",
       "\t33 & 0.001210896 & 0.004538624 & 0.000159301 & 0.000701975 & 0.000000000\\\\\n",
       "\t34 & 0.001234798 & 0.004125246 & 0.000257433 & 0.000409967 & 0.000071600\\\\\n",
       "\t35 & 0.001471597 & 0.003995852 & 0.000196376 & 0.000000000 & 0.000103846\\\\\n",
       "\t41 & 0.000950108 & 0.003730148 & 0.000000000 & 0.001132753 & 0.000042100\\\\\n",
       "\t42 & 0.000885233 & 0.003251898 & 0.000086500 & 0.000000000 & 0.000000000\\\\\n",
       "\t43 & 0.001363281 & 0.005500268 & 0.000098600 & 0.001885564 & 0.000087500\\\\\n",
       "\t44 & 0.000916835 & 0.004062065 & 0.000000000 & 0.000061000 & 0.000000000\\\\\n",
       "\t45 & 0.000994050 & 0.004680000 & 0.000136572 & 0.001165957 & 0.000000000\\\\\n",
       "\t46 & 0.001465284 & 0.004141659 & 0.000202241 & 0.000348033 & 0.000000000\\\\\n",
       "\t47 & 0.000633482 & 0.004077569 & 0.000000000 & 0.000744383 & 0.000000000\\\\\n",
       "\t48 & 0.001289179 & 0.004264533 & 0.000033900 & 0.000196109 & 0.000000000\\\\\n",
       "\t49 & 0.000731768 & 0.003198521 & 0.000000000 & 0.000224952 & 0.000000000\\\\\n",
       "\t50 & 0.000953232 & 0.003155758 & 0.000199600 & 0.000000000 & 0.000000000\\\\\n",
       "\t56 & 0.000984632 & 0.003201915 & 0.000128700 & 0.000279521 & 0.000061500\\\\\n",
       "\t57 & 0.000670332 & 0.002110000 & 0.000220020 & 0.001060000 & 0.000102628\\\\\n",
       "\t58 & 0.000357270 & 0.000510080 & 0.000018060 & 0.000157210 & 0.000020100\\\\\n",
       "\t59 & 0.000899940 & 0.003663062 & 0.000050700 & 0.000000000 & 0.000000000\\\\\n",
       "\t60 & 0.001327666 & 0.004325574 & 0.000363913 & 0.000000000 & 0.000000000\\\\\n",
       "\\end{tabular}\n"
      ],
      "text/markdown": [
       "\n",
       "| <!--/--> | mass_400 | mass_500 | mass_600 | mass_700 | mass_800 |\n",
       "|---|---|---|---|---|---|\n",
       "| 16 | 0.002222101 | 0.004490000 | 0.000513737 | 0.000079500 | 0.000163421 |\n",
       "| 17 | 0.001739643 | 0.007251383 | 0.000362827 | 0.002699924 | 0.000707577 |\n",
       "| 18 | 0.001386222 | 0.004660000 | 0.000276625 | 0.002056273 | 0.000102736 |\n",
       "| 19 | 0.001221590 | 0.003891675 | 0.000361526 | 0.000202556 | 0.000116045 |\n",
       "| 20 | 0.001385315 | 0.005610814 | 0.000221267 | 0.001172862 | 0.000026800 |\n",
       "| 26 | 0.001476766 | 0.003660000 | 0.000189690 | 0.002070000 | 0.000152984 |\n",
       "| 27 | 0.001389394 | 0.004000000 | 0.000135987 | 0.001007187 | 0.000250384 |\n",
       "| 28 | 0.001608412 | 0.005220000 | 0.000298048 | 0.002244830 | 0.000000000 |\n",
       "| 29 | 0.001279760 | 0.003361392 | 0.000188343 | 0.000359554 | 0.000036000 |\n",
       "| 30 | 0.000921027 | 0.003243058 | 0.000498397 | 0.000555126 | 0.000000000 |\n",
       "| 31 | 0.001502078 | 0.005147911 | 0.000250013 | 0.001024529 | 0.000072800 |\n",
       "| 32 | 0.000898835 | 0.004464547 | 0.000076600 | 0.000660477 | 0.000000000 |\n",
       "| 33 | 0.001210896 | 0.004538624 | 0.000159301 | 0.000701975 | 0.000000000 |\n",
       "| 34 | 0.001234798 | 0.004125246 | 0.000257433 | 0.000409967 | 0.000071600 |\n",
       "| 35 | 0.001471597 | 0.003995852 | 0.000196376 | 0.000000000 | 0.000103846 |\n",
       "| 41 | 0.000950108 | 0.003730148 | 0.000000000 | 0.001132753 | 0.000042100 |\n",
       "| 42 | 0.000885233 | 0.003251898 | 0.000086500 | 0.000000000 | 0.000000000 |\n",
       "| 43 | 0.001363281 | 0.005500268 | 0.000098600 | 0.001885564 | 0.000087500 |\n",
       "| 44 | 0.000916835 | 0.004062065 | 0.000000000 | 0.000061000 | 0.000000000 |\n",
       "| 45 | 0.000994050 | 0.004680000 | 0.000136572 | 0.001165957 | 0.000000000 |\n",
       "| 46 | 0.001465284 | 0.004141659 | 0.000202241 | 0.000348033 | 0.000000000 |\n",
       "| 47 | 0.000633482 | 0.004077569 | 0.000000000 | 0.000744383 | 0.000000000 |\n",
       "| 48 | 0.001289179 | 0.004264533 | 0.000033900 | 0.000196109 | 0.000000000 |\n",
       "| 49 | 0.000731768 | 0.003198521 | 0.000000000 | 0.000224952 | 0.000000000 |\n",
       "| 50 | 0.000953232 | 0.003155758 | 0.000199600 | 0.000000000 | 0.000000000 |\n",
       "| 56 | 0.000984632 | 0.003201915 | 0.000128700 | 0.000279521 | 0.000061500 |\n",
       "| 57 | 0.000670332 | 0.002110000 | 0.000220020 | 0.001060000 | 0.000102628 |\n",
       "| 58 | 0.000357270 | 0.000510080 | 0.000018060 | 0.000157210 | 0.000020100 |\n",
       "| 59 | 0.000899940 | 0.003663062 | 0.000050700 | 0.000000000 | 0.000000000 |\n",
       "| 60 | 0.001327666 | 0.004325574 | 0.000363913 | 0.000000000 | 0.000000000 |\n",
       "\n"
      ],
      "text/plain": [
       "   mass_400    mass_500    mass_600    mass_700    mass_800   \n",
       "16 0.002222101 0.004490000 0.000513737 0.000079500 0.000163421\n",
       "17 0.001739643 0.007251383 0.000362827 0.002699924 0.000707577\n",
       "18 0.001386222 0.004660000 0.000276625 0.002056273 0.000102736\n",
       "19 0.001221590 0.003891675 0.000361526 0.000202556 0.000116045\n",
       "20 0.001385315 0.005610814 0.000221267 0.001172862 0.000026800\n",
       "26 0.001476766 0.003660000 0.000189690 0.002070000 0.000152984\n",
       "27 0.001389394 0.004000000 0.000135987 0.001007187 0.000250384\n",
       "28 0.001608412 0.005220000 0.000298048 0.002244830 0.000000000\n",
       "29 0.001279760 0.003361392 0.000188343 0.000359554 0.000036000\n",
       "30 0.000921027 0.003243058 0.000498397 0.000555126 0.000000000\n",
       "31 0.001502078 0.005147911 0.000250013 0.001024529 0.000072800\n",
       "32 0.000898835 0.004464547 0.000076600 0.000660477 0.000000000\n",
       "33 0.001210896 0.004538624 0.000159301 0.000701975 0.000000000\n",
       "34 0.001234798 0.004125246 0.000257433 0.000409967 0.000071600\n",
       "35 0.001471597 0.003995852 0.000196376 0.000000000 0.000103846\n",
       "41 0.000950108 0.003730148 0.000000000 0.001132753 0.000042100\n",
       "42 0.000885233 0.003251898 0.000086500 0.000000000 0.000000000\n",
       "43 0.001363281 0.005500268 0.000098600 0.001885564 0.000087500\n",
       "44 0.000916835 0.004062065 0.000000000 0.000061000 0.000000000\n",
       "45 0.000994050 0.004680000 0.000136572 0.001165957 0.000000000\n",
       "46 0.001465284 0.004141659 0.000202241 0.000348033 0.000000000\n",
       "47 0.000633482 0.004077569 0.000000000 0.000744383 0.000000000\n",
       "48 0.001289179 0.004264533 0.000033900 0.000196109 0.000000000\n",
       "49 0.000731768 0.003198521 0.000000000 0.000224952 0.000000000\n",
       "50 0.000953232 0.003155758 0.000199600 0.000000000 0.000000000\n",
       "56 0.000984632 0.003201915 0.000128700 0.000279521 0.000061500\n",
       "57 0.000670332 0.002110000 0.000220020 0.001060000 0.000102628\n",
       "58 0.000357270 0.000510080 0.000018060 0.000157210 0.000020100\n",
       "59 0.000899940 0.003663062 0.000050700 0.000000000 0.000000000\n",
       "60 0.001327666 0.004325574 0.000363913 0.000000000 0.000000000"
      ]
     },
     "metadata": {},
     "output_type": "display_data"
    },
    {
     "data": {
      "text/html": [
       "<table>\n",
       "<thead><tr><th></th><th scope=col>filename</th><th scope=col>MouseID</th><th scope=col>Treatmentgroup</th><th scope=col>DPI</th><th scope=col>organ</th><th scope=col>well_position</th><th scope=col>plate</th><th scope=col>mass_400</th><th scope=col>mass_500</th><th scope=col>mass_600</th><th scope=col>mass_700</th><th scope=col>mass_800</th></tr></thead>\n",
       "<tbody>\n",
       "\t<tr><th scope=row>16</th><td>X581_Group3E_142dpi_LV_bottom_176_G_B4_P132.mzXML</td><td>581                                              </td><td>infected                                         </td><td>142dpi                                           </td><td>LV_bottom                                        </td><td>B4                                               </td><td>P132                                             </td><td>0.002222101                                      </td><td>0.004490000                                      </td><td>0.000513737                                      </td><td>0.000079500                                      </td><td>0.000163421                                      </td></tr>\n",
       "\t<tr><th scope=row>17</th><td>X582_Group3E_142dpi_LV_bottom_177_G_B5_P132.mzXML</td><td>582                                              </td><td>infected                                         </td><td>142dpi                                           </td><td>LV_bottom                                        </td><td>B5                                               </td><td>P132                                             </td><td>0.001739643                                      </td><td>0.007251383                                      </td><td>0.000362827                                      </td><td>0.002699924                                      </td><td>0.000707577                                      </td></tr>\n",
       "\t<tr><th scope=row>18</th><td>X583_Group3E_142dpi_LV_bottom_178_G_B6_P132.mzXML</td><td>583                                              </td><td>infected                                         </td><td>142dpi                                           </td><td>LV_bottom                                        </td><td>B6                                               </td><td>P132                                             </td><td>0.001386222                                      </td><td>0.004660000                                      </td><td>0.000276625                                      </td><td>0.002056273                                      </td><td>0.000102736                                      </td></tr>\n",
       "\t<tr><th scope=row>19</th><td>X584_Group3E_142dpi_LV_bottom_179_G_B7_P132.mzXML</td><td>584                                              </td><td>infected                                         </td><td>142dpi                                           </td><td>LV_bottom                                        </td><td>B7                                               </td><td>P132                                             </td><td>0.001221590                                      </td><td>0.003891675                                      </td><td>0.000361526                                      </td><td>0.000202556                                      </td><td>0.000116045                                      </td></tr>\n",
       "\t<tr><th scope=row>20</th><td>X585_Group3E_142dpi_LV_bottom_180_G_B8_P132.mzXML</td><td>585                                              </td><td>infected                                         </td><td>142dpi                                           </td><td>LV_bottom                                        </td><td>B8                                               </td><td>P132                                             </td><td>0.001385315                                      </td><td>0.005610814                                      </td><td>0.000221267                                      </td><td>0.001172862                                      </td><td>0.000026800                                      </td></tr>\n",
       "\t<tr><th scope=row>26</th><td>X631_Group15_142dpi_LV_bottom_191_G_C7_P132.mzXML</td><td>631                                              </td><td>BNZ                                              </td><td>142dpi                                           </td><td>LV_bottom                                        </td><td>C7                                               </td><td>P132                                             </td><td>0.001476766                                      </td><td>0.003660000                                      </td><td>0.000189690                                      </td><td>0.002070000                                      </td><td>0.000152984                                      </td></tr>\n",
       "</tbody>\n",
       "</table>\n"
      ],
      "text/latex": [
       "\\begin{tabular}{r|llllllllllll}\n",
       "  & filename & MouseID & Treatmentgroup & DPI & organ & well\\_position & plate & mass\\_400 & mass\\_500 & mass\\_600 & mass\\_700 & mass\\_800\\\\\n",
       "\\hline\n",
       "\t16 & X581\\_Group3E\\_142dpi\\_LV\\_bottom\\_176\\_G\\_B4\\_P132.mzXML & 581                                                               & infected                                                          & 142dpi                                                            & LV\\_bottom                                                       & B4                                                                & P132                                                              & 0.002222101                                                       & 0.004490000                                                       & 0.000513737                                                       & 0.000079500                                                       & 0.000163421                                                      \\\\\n",
       "\t17 & X582\\_Group3E\\_142dpi\\_LV\\_bottom\\_177\\_G\\_B5\\_P132.mzXML & 582                                                               & infected                                                          & 142dpi                                                            & LV\\_bottom                                                       & B5                                                                & P132                                                              & 0.001739643                                                       & 0.007251383                                                       & 0.000362827                                                       & 0.002699924                                                       & 0.000707577                                                      \\\\\n",
       "\t18 & X583\\_Group3E\\_142dpi\\_LV\\_bottom\\_178\\_G\\_B6\\_P132.mzXML & 583                                                               & infected                                                          & 142dpi                                                            & LV\\_bottom                                                       & B6                                                                & P132                                                              & 0.001386222                                                       & 0.004660000                                                       & 0.000276625                                                       & 0.002056273                                                       & 0.000102736                                                      \\\\\n",
       "\t19 & X584\\_Group3E\\_142dpi\\_LV\\_bottom\\_179\\_G\\_B7\\_P132.mzXML & 584                                                               & infected                                                          & 142dpi                                                            & LV\\_bottom                                                       & B7                                                                & P132                                                              & 0.001221590                                                       & 0.003891675                                                       & 0.000361526                                                       & 0.000202556                                                       & 0.000116045                                                      \\\\\n",
       "\t20 & X585\\_Group3E\\_142dpi\\_LV\\_bottom\\_180\\_G\\_B8\\_P132.mzXML & 585                                                               & infected                                                          & 142dpi                                                            & LV\\_bottom                                                       & B8                                                                & P132                                                              & 0.001385315                                                       & 0.005610814                                                       & 0.000221267                                                       & 0.001172862                                                       & 0.000026800                                                      \\\\\n",
       "\t26 & X631\\_Group15\\_142dpi\\_LV\\_bottom\\_191\\_G\\_C7\\_P132.mzXML & 631                                                               & BNZ                                                               & 142dpi                                                            & LV\\_bottom                                                       & C7                                                                & P132                                                              & 0.001476766                                                       & 0.003660000                                                       & 0.000189690                                                       & 0.002070000                                                       & 0.000152984                                                      \\\\\n",
       "\\end{tabular}\n"
      ],
      "text/markdown": [
       "\n",
       "| <!--/--> | filename | MouseID | Treatmentgroup | DPI | organ | well_position | plate | mass_400 | mass_500 | mass_600 | mass_700 | mass_800 |\n",
       "|---|---|---|---|---|---|---|---|---|---|---|---|---|\n",
       "| 16 | X581_Group3E_142dpi_LV_bottom_176_G_B4_P132.mzXML | 581                                               | infected                                          | 142dpi                                            | LV_bottom                                         | B4                                                | P132                                              | 0.002222101                                       | 0.004490000                                       | 0.000513737                                       | 0.000079500                                       | 0.000163421                                       |\n",
       "| 17 | X582_Group3E_142dpi_LV_bottom_177_G_B5_P132.mzXML | 582                                               | infected                                          | 142dpi                                            | LV_bottom                                         | B5                                                | P132                                              | 0.001739643                                       | 0.007251383                                       | 0.000362827                                       | 0.002699924                                       | 0.000707577                                       |\n",
       "| 18 | X583_Group3E_142dpi_LV_bottom_178_G_B6_P132.mzXML | 583                                               | infected                                          | 142dpi                                            | LV_bottom                                         | B6                                                | P132                                              | 0.001386222                                       | 0.004660000                                       | 0.000276625                                       | 0.002056273                                       | 0.000102736                                       |\n",
       "| 19 | X584_Group3E_142dpi_LV_bottom_179_G_B7_P132.mzXML | 584                                               | infected                                          | 142dpi                                            | LV_bottom                                         | B7                                                | P132                                              | 0.001221590                                       | 0.003891675                                       | 0.000361526                                       | 0.000202556                                       | 0.000116045                                       |\n",
       "| 20 | X585_Group3E_142dpi_LV_bottom_180_G_B8_P132.mzXML | 585                                               | infected                                          | 142dpi                                            | LV_bottom                                         | B8                                                | P132                                              | 0.001385315                                       | 0.005610814                                       | 0.000221267                                       | 0.001172862                                       | 0.000026800                                       |\n",
       "| 26 | X631_Group15_142dpi_LV_bottom_191_G_C7_P132.mzXML | 631                                               | BNZ                                               | 142dpi                                            | LV_bottom                                         | C7                                                | P132                                              | 0.001476766                                       | 0.003660000                                       | 0.000189690                                       | 0.002070000                                       | 0.000152984                                       |\n",
       "\n"
      ],
      "text/plain": [
       "   filename                                          MouseID Treatmentgroup\n",
       "16 X581_Group3E_142dpi_LV_bottom_176_G_B4_P132.mzXML 581     infected      \n",
       "17 X582_Group3E_142dpi_LV_bottom_177_G_B5_P132.mzXML 582     infected      \n",
       "18 X583_Group3E_142dpi_LV_bottom_178_G_B6_P132.mzXML 583     infected      \n",
       "19 X584_Group3E_142dpi_LV_bottom_179_G_B7_P132.mzXML 584     infected      \n",
       "20 X585_Group3E_142dpi_LV_bottom_180_G_B8_P132.mzXML 585     infected      \n",
       "26 X631_Group15_142dpi_LV_bottom_191_G_C7_P132.mzXML 631     BNZ           \n",
       "   DPI    organ     well_position plate mass_400    mass_500    mass_600   \n",
       "16 142dpi LV_bottom B4            P132  0.002222101 0.004490000 0.000513737\n",
       "17 142dpi LV_bottom B5            P132  0.001739643 0.007251383 0.000362827\n",
       "18 142dpi LV_bottom B6            P132  0.001386222 0.004660000 0.000276625\n",
       "19 142dpi LV_bottom B7            P132  0.001221590 0.003891675 0.000361526\n",
       "20 142dpi LV_bottom B8            P132  0.001385315 0.005610814 0.000221267\n",
       "26 142dpi LV_bottom C7            P132  0.001476766 0.003660000 0.000189690\n",
       "   mass_700    mass_800   \n",
       "16 0.000079500 0.000163421\n",
       "17 0.002699924 0.000707577\n",
       "18 0.002056273 0.000102736\n",
       "19 0.000202556 0.000116045\n",
       "20 0.001172862 0.000026800\n",
       "26 0.002070000 0.000152984"
      ]
     },
     "metadata": {},
     "output_type": "display_data"
    },
    {
     "data": {
      "text/html": [
       "<ol class=list-inline>\n",
       "\t<li>30</li>\n",
       "\t<li>12</li>\n",
       "</ol>\n"
      ],
      "text/latex": [
       "\\begin{enumerate*}\n",
       "\\item 30\n",
       "\\item 12\n",
       "\\end{enumerate*}\n"
      ],
      "text/markdown": [
       "1. 30\n",
       "2. 12\n",
       "\n",
       "\n"
      ],
      "text/plain": [
       "[1] 30 12"
      ]
     },
     "metadata": {},
     "output_type": "display_data"
    },
    {
     "data": {
      "text/html": [
       "<ol class=list-inline>\n",
       "\t<li>30</li>\n",
       "\t<li>5</li>\n",
       "</ol>\n"
      ],
      "text/latex": [
       "\\begin{enumerate*}\n",
       "\\item 30\n",
       "\\item 5\n",
       "\\end{enumerate*}\n"
      ],
      "text/markdown": [
       "1. 30\n",
       "2. 5\n",
       "\n",
       "\n"
      ],
      "text/plain": [
       "[1] 30  5"
      ]
     },
     "metadata": {},
     "output_type": "display_data"
    },
    {
     "data": {
      "text/html": [
       "<ol class=list-inline>\n",
       "\t<li>30</li>\n",
       "\t<li>5</li>\n",
       "</ol>\n"
      ],
      "text/latex": [
       "\\begin{enumerate*}\n",
       "\\item 30\n",
       "\\item 5\n",
       "\\end{enumerate*}\n"
      ],
      "text/markdown": [
       "1. 30\n",
       "2. 5\n",
       "\n",
       "\n"
      ],
      "text/plain": [
       "[1] 30  5"
      ]
     },
     "metadata": {},
     "output_type": "display_data"
    },
    {
     "data": {
      "text/html": [
       "<ol class=list-inline>\n",
       "\t<li>30</li>\n",
       "\t<li>12</li>\n",
       "</ol>\n"
      ],
      "text/latex": [
       "\\begin{enumerate*}\n",
       "\\item 30\n",
       "\\item 12\n",
       "\\end{enumerate*}\n"
      ],
      "text/markdown": [
       "1. 30\n",
       "2. 12\n",
       "\n",
       "\n"
      ],
      "text/plain": [
       "[1] 30 12"
      ]
     },
     "metadata": {},
     "output_type": "display_data"
    }
   ],
   "source": [
    "noMeta<-features_pos[,8:12]\n",
    "head(noMeta)\n",
    "not_zero<-which(colSums(noMeta) != 0)\n",
    "head(not_zero)\n",
    "nonzero <- noMeta[, not_zero]\n",
    "nonzero\n",
    "nonzero_wMeta<-cbind(features_pos[,1:7], nonzero)\n",
    "head(nonzero_wMeta)\n",
    "dim(features_pos)\n",
    "dim(noMeta)\n",
    "dim(nonzero)\n",
    "dim(nonzero_wMeta)"
   ]
  },
  {
   "cell_type": "code",
   "execution_count": 5,
   "metadata": {
    "scrolled": true
   },
   "outputs": [
    {
     "name": "stderr",
     "output_type": "stream",
     "text": [
      "Warning message in wilcox.test.default(x = c(0.00018969, 0.000135987, 0.000298048, :\n",
      "\"cannot compute exact p-value with ties\"Warning message in wilcox.test.default(x = c(0.00207, 0.001007187, 0.00224483, 0.000359554, :\n",
      "\"cannot compute exact p-value with ties\"Warning message in wilcox.test.default(x = c(0.000152984, 0.000250384, 0, 3.6e-05, :\n",
      "\"cannot compute exact p-value with ties\""
     ]
    },
    {
     "data": {
      "text/html": [
       "<ol class=list-inline>\n",
       "\t<li>0.201679436339622</li>\n",
       "\t<li>0.0674961538838424</li>\n",
       "\t<li>0.262221618784895</li>\n",
       "\t<li>0.867934549547612</li>\n",
       "\t<li>0.677674186419313</li>\n",
       "</ol>\n"
      ],
      "text/latex": [
       "\\begin{enumerate*}\n",
       "\\item 0.201679436339622\n",
       "\\item 0.0674961538838424\n",
       "\\item 0.262221618784895\n",
       "\\item 0.867934549547612\n",
       "\\item 0.677674186419313\n",
       "\\end{enumerate*}\n"
      ],
      "text/markdown": [
       "1. 0.201679436339622\n",
       "2. 0.0674961538838424\n",
       "3. 0.262221618784895\n",
       "4. 0.867934549547612\n",
       "5. 0.677674186419313\n",
       "\n",
       "\n"
      ],
      "text/plain": [
       "[1] 0.20167944 0.06749615 0.26222162 0.86793455 0.67767419"
      ]
     },
     "metadata": {},
     "output_type": "display_data"
    },
    {
     "data": {
      "text/html": [
       "<ol class=list-inline>\n",
       "\t<li>0.437036031308158</li>\n",
       "\t<li>0.337480769419212</li>\n",
       "\t<li>0.437036031308158</li>\n",
       "\t<li>0.867934549547612</li>\n",
       "\t<li>0.847092733024141</li>\n",
       "</ol>\n"
      ],
      "text/latex": [
       "\\begin{enumerate*}\n",
       "\\item 0.437036031308158\n",
       "\\item 0.337480769419212\n",
       "\\item 0.437036031308158\n",
       "\\item 0.867934549547612\n",
       "\\item 0.847092733024141\n",
       "\\end{enumerate*}\n"
      ],
      "text/markdown": [
       "1. 0.437036031308158\n",
       "2. 0.337480769419212\n",
       "3. 0.437036031308158\n",
       "4. 0.867934549547612\n",
       "5. 0.847092733024141\n",
       "\n",
       "\n"
      ],
      "text/plain": [
       "[1] 0.4370360 0.3374808 0.4370360 0.8679345 0.8470927"
      ]
     },
     "metadata": {},
     "output_type": "display_data"
    }
   ],
   "source": [
    "pval<-c()\n",
    "\n",
    "for (i in 8:ncol(nonzero_wMeta)) \n",
    "pval<-c(pval,wilcox.test(nonzero_wMeta[,i]~nonzero_wMeta$Treatmentgroup)$p.value)\n",
    "head(pval)\n",
    "pAdj <- p.adjust(pval, method = c(\"fdr\"), n=length(pval)) \n",
    "head(pAdj) \n",
    "\n"
   ]
  },
  {
   "cell_type": "code",
   "execution_count": 6,
   "metadata": {
    "scrolled": true
   },
   "outputs": [
    {
     "data": {
      "text/html": [
       "5"
      ],
      "text/latex": [
       "5"
      ],
      "text/markdown": [
       "5"
      ],
      "text/plain": [
       "[1] 5"
      ]
     },
     "metadata": {},
     "output_type": "display_data"
    }
   ],
   "source": [
    "length(pval)"
   ]
  },
  {
   "cell_type": "code",
   "execution_count": 7,
   "metadata": {
    "scrolled": true
   },
   "outputs": [
    {
     "data": {
      "text/html": [
       "5"
      ],
      "text/latex": [
       "5"
      ],
      "text/markdown": [
       "5"
      ],
      "text/plain": [
       "[1] 5"
      ]
     },
     "metadata": {},
     "output_type": "display_data"
    }
   ],
   "source": [
    "length(pAdj)"
   ]
  },
  {
   "cell_type": "code",
   "execution_count": 8,
   "metadata": {},
   "outputs": [
    {
     "data": {
      "text/html": [
       "<ol class=list-inline>\n",
       "\t<li>2</li>\n",
       "\t<li>5</li>\n",
       "</ol>\n"
      ],
      "text/latex": [
       "\\begin{enumerate*}\n",
       "\\item 2\n",
       "\\item 5\n",
       "\\end{enumerate*}\n"
      ],
      "text/markdown": [
       "1. 2\n",
       "2. 5\n",
       "\n",
       "\n"
      ],
      "text/plain": [
       "[1] 2 5"
      ]
     },
     "metadata": {},
     "output_type": "display_data"
    },
    {
     "data": {
      "text/html": [
       "<table>\n",
       "<thead><tr><th></th><th scope=col>mass_400</th><th scope=col>mass_500</th><th scope=col>mass_600</th></tr></thead>\n",
       "<tbody>\n",
       "\t<tr><th scope=row>BNZ</th><td>0.001068314 </td><td>0.003634631 </td><td>0.0001609020</td></tr>\n",
       "\t<tr><th scope=row>infected</th><td>0.001289735 </td><td>0.004467606 </td><td>0.0002074297</td></tr>\n",
       "</tbody>\n",
       "</table>\n"
      ],
      "text/latex": [
       "\\begin{tabular}{r|lll}\n",
       "  & mass\\_400 & mass\\_500 & mass\\_600\\\\\n",
       "\\hline\n",
       "\tBNZ & 0.001068314  & 0.003634631  & 0.0001609020\\\\\n",
       "\tinfected & 0.001289735  & 0.004467606  & 0.0002074297\\\\\n",
       "\\end{tabular}\n"
      ],
      "text/markdown": [
       "\n",
       "| <!--/--> | mass_400 | mass_500 | mass_600 |\n",
       "|---|---|---|---|\n",
       "| BNZ | 0.001068314  | 0.003634631  | 0.0001609020 |\n",
       "| infected | 0.001289735  | 0.004467606  | 0.0002074297 |\n",
       "\n"
      ],
      "text/plain": [
       "         mass_400    mass_500    mass_600    \n",
       "BNZ      0.001068314 0.003634631 0.0001609020\n",
       "infected 0.001289735 0.004467606 0.0002074297"
      ]
     },
     "metadata": {},
     "output_type": "display_data"
    },
    {
     "data": {
      "text/html": [
       "<dl class=dl-horizontal>\n",
       "\t<dt>mass_400</dt>\n",
       "\t\t<dd>0.828320553788324</dd>\n",
       "\t<dt>mass_500</dt>\n",
       "\t\t<dd>0.813552170489753</dd>\n",
       "\t<dt>mass_600</dt>\n",
       "\t\t<dd>0.775694002081347</dd>\n",
       "\t<dt>mass_700</dt>\n",
       "\t\t<dd>1.1384932243759</dd>\n",
       "\t<dt>mass_800</dt>\n",
       "\t\t<dd>0.551862693019252</dd>\n",
       "</dl>\n"
      ],
      "text/latex": [
       "\\begin{description*}\n",
       "\\item[mass\\textbackslash{}\\_400] 0.828320553788324\n",
       "\\item[mass\\textbackslash{}\\_500] 0.813552170489753\n",
       "\\item[mass\\textbackslash{}\\_600] 0.775694002081347\n",
       "\\item[mass\\textbackslash{}\\_700] 1.1384932243759\n",
       "\\item[mass\\textbackslash{}\\_800] 0.551862693019252\n",
       "\\end{description*}\n"
      ],
      "text/markdown": [
       "mass_400\n",
       ":   0.828320553788324mass_500\n",
       ":   0.813552170489753mass_600\n",
       ":   0.775694002081347mass_700\n",
       ":   1.1384932243759mass_800\n",
       ":   0.551862693019252\n",
       "\n"
      ],
      "text/plain": [
       " mass_400  mass_500  mass_600  mass_700  mass_800 \n",
       "0.8283206 0.8135522 0.7756940 1.1384932 0.5518627 "
      ]
     },
     "metadata": {},
     "output_type": "display_data"
    },
    {
     "data": {
      "text/html": [
       "<ol class=list-inline>\n",
       "\t<li>'numeric'</li>\n",
       "\t<li>'vector'</li>\n",
       "</ol>\n"
      ],
      "text/latex": [
       "\\begin{enumerate*}\n",
       "\\item 'numeric'\n",
       "\\item 'vector'\n",
       "\\end{enumerate*}\n"
      ],
      "text/markdown": [
       "1. 'numeric'\n",
       "2. 'vector'\n",
       "\n",
       "\n"
      ],
      "text/plain": [
       "[1] \"numeric\" \"vector\" "
      ]
     },
     "metadata": {},
     "output_type": "display_data"
    }
   ],
   "source": [
    "avg<- apply(nonzero_wMeta[,8:ncol(nonzero_wMeta)], 2, function(x) tapply(x, nonzero_wMeta$Treatmentgroup, function(x) mean(x))) \n",
    "\n",
    "dim(avg)\n",
    "\n",
    "avg[,1:3]\n",
    "\n",
    "fch <- apply(avg, 2, function(x) x[1]/x[2])\n",
    "\n",
    "head(fch)\n",
    "is(fch)"
   ]
  },
  {
   "cell_type": "code",
   "execution_count": 9,
   "metadata": {
    "scrolled": true
   },
   "outputs": [
    {
     "data": {
      "text/html": [
       "<dl class=dl-horizontal>\n",
       "\t<dt>mass_400</dt>\n",
       "\t\t<dd>0.828320553788324</dd>\n",
       "\t<dt>mass_500</dt>\n",
       "\t\t<dd>0.813552170489753</dd>\n",
       "\t<dt>mass_600</dt>\n",
       "\t\t<dd>0.775694002081347</dd>\n",
       "\t<dt>mass_700</dt>\n",
       "\t\t<dd>1.1384932243759</dd>\n",
       "\t<dt>mass_800</dt>\n",
       "\t\t<dd>0.551862693019252</dd>\n",
       "</dl>\n"
      ],
      "text/latex": [
       "\\begin{description*}\n",
       "\\item[mass\\textbackslash{}\\_400] 0.828320553788324\n",
       "\\item[mass\\textbackslash{}\\_500] 0.813552170489753\n",
       "\\item[mass\\textbackslash{}\\_600] 0.775694002081347\n",
       "\\item[mass\\textbackslash{}\\_700] 1.1384932243759\n",
       "\\item[mass\\textbackslash{}\\_800] 0.551862693019252\n",
       "\\end{description*}\n"
      ],
      "text/markdown": [
       "mass_400\n",
       ":   0.828320553788324mass_500\n",
       ":   0.813552170489753mass_600\n",
       ":   0.775694002081347mass_700\n",
       ":   1.1384932243759mass_800\n",
       ":   0.551862693019252\n",
       "\n"
      ],
      "text/plain": [
       " mass_400  mass_500  mass_600  mass_700  mass_800 \n",
       "0.8283206 0.8135522 0.7756940 1.1384932 0.5518627 "
      ]
     },
     "metadata": {},
     "output_type": "display_data"
    }
   ],
   "source": [
    "fch"
   ]
  },
  {
   "cell_type": "code",
   "execution_count": 10,
   "metadata": {
    "scrolled": false
   },
   "outputs": [],
   "source": [
    "df <- data.frame(fch,pval, pAdj)\n",
    "write.csv(df, \"PE-treat-LVB-wilcox-infected-BNZ.csv\")"
   ]
  },
  {
   "cell_type": "code",
   "execution_count": null,
   "metadata": {},
   "outputs": [],
   "source": []
  },
  {
   "cell_type": "code",
   "execution_count": null,
   "metadata": {},
   "outputs": [],
   "source": []
  },
  {
   "cell_type": "code",
   "execution_count": null,
   "metadata": {},
   "outputs": [],
   "source": []
  },
  {
   "cell_type": "code",
   "execution_count": null,
   "metadata": {},
   "outputs": [],
   "source": []
  },
  {
   "cell_type": "code",
   "execution_count": null,
   "metadata": {},
   "outputs": [],
   "source": []
  },
  {
   "cell_type": "code",
   "execution_count": null,
   "metadata": {},
   "outputs": [],
   "source": []
  }
 ],
 "metadata": {
  "kernelspec": {
   "display_name": "R",
   "language": "R",
   "name": "ir"
  },
  "language_info": {
   "codemirror_mode": "r",
   "file_extension": ".r",
   "mimetype": "text/x-r-source",
   "name": "R",
   "pygments_lexer": "r",
   "version": "3.6.1"
  }
 },
 "nbformat": 4,
 "nbformat_minor": 2
}
