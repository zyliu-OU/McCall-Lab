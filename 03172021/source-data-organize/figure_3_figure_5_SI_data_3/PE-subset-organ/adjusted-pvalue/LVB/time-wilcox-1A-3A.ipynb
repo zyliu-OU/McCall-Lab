{
 "cells": [
  {
   "cell_type": "code",
   "execution_count": 1,
   "metadata": {},
   "outputs": [],
   "source": [
    "a <- read.csv(\"03172021-PE-time-LVB-M-F.csv\")"
   ]
  },
  {
   "cell_type": "code",
   "execution_count": 2,
   "metadata": {},
   "outputs": [
    {
     "data": {
      "text/html": [
       "<table>\n",
       "<thead><tr><th scope=col>filename</th><th scope=col>MouseID</th><th scope=col>Treatmentgroup</th><th scope=col>status</th><th scope=col>DPI</th><th scope=col>organ</th><th scope=col>well_position</th><th scope=col>plate</th><th scope=col>mass_400</th><th scope=col>mass_500</th><th scope=col>mass_600</th><th scope=col>mass_700</th><th scope=col>mass_800</th></tr></thead>\n",
       "<tbody>\n",
       "\t<tr><td>X501_Group1A_50dpi_LV_bottom_251_B_A1_P133.mzXML</td><td>501                                             </td><td>Group1A                                         </td><td>naive                                           </td><td>50dpi                                           </td><td>LV_bottom                                       </td><td>A1                                              </td><td>P133                                            </td><td>0.002972957                                     </td><td>0.003479303                                     </td><td>0.000269898                                     </td><td>0.000034000                                     </td><td>0.000000000                                     </td></tr>\n",
       "\t<tr><td>X502_Group1A_50dpi_LV_bottom_252_B_A2_P133.mzXML</td><td>502                                             </td><td>Group1A                                         </td><td>naive                                           </td><td>50dpi                                           </td><td>LV_bottom                                       </td><td>A2                                              </td><td>P133                                            </td><td>0.003200256                                     </td><td>0.005721087                                     </td><td>0.000964777                                     </td><td>0.001450000                                     </td><td>0.000223708                                     </td></tr>\n",
       "\t<tr><td>X503_Group1A_50dpi_LV_bottom_253_B_A3_P133.mzXML</td><td>503                                             </td><td>Group1A                                         </td><td>naive                                           </td><td>50dpi                                           </td><td>LV_bottom                                       </td><td>A3                                              </td><td>P133                                            </td><td>0.004692557                                     </td><td>0.007977204                                     </td><td>0.001291204                                     </td><td>0.000824520                                     </td><td>0.000237466                                     </td></tr>\n",
       "\t<tr><td>X504_Group1A_50dpi_LV_bottom_254_B_A4_P133.mzXML</td><td>504                                             </td><td>Group1A                                         </td><td>naive                                           </td><td>50dpi                                           </td><td>LV_bottom                                       </td><td>A4                                              </td><td>P133                                            </td><td>0.004836650                                     </td><td>0.008975679                                     </td><td>0.001705570                                     </td><td>0.000280497                                     </td><td>0.000000000                                     </td></tr>\n",
       "\t<tr><td>X505_Group1A_50dpi_LV_bottom_255_B_A5_P133.mzXML</td><td>505                                             </td><td>Group1A                                         </td><td>naive                                           </td><td>50dpi                                           </td><td>LV_bottom                                       </td><td>A5                                              </td><td>P133                                            </td><td>0.004188893                                     </td><td>0.008150000                                     </td><td>0.001685713                                     </td><td>0.000852005                                     </td><td>0.000105163                                     </td></tr>\n",
       "\t<tr><td>X521_Group1A_50dpi_LV_bottom_256_B_A6_P133.mzXML</td><td>521                                             </td><td>Group1A                                         </td><td>naive                                           </td><td>50dpi                                           </td><td>LV_bottom                                       </td><td>A6                                              </td><td>P133                                            </td><td>0.003719791                                     </td><td>0.007589209                                     </td><td>0.000961049                                     </td><td>0.001908150                                     </td><td>0.000073400                                     </td></tr>\n",
       "</tbody>\n",
       "</table>\n"
      ],
      "text/latex": [
       "\\begin{tabular}{r|lllllllllllll}\n",
       " filename & MouseID & Treatmentgroup & status & DPI & organ & well\\_position & plate & mass\\_400 & mass\\_500 & mass\\_600 & mass\\_700 & mass\\_800\\\\\n",
       "\\hline\n",
       "\t X501\\_Group1A\\_50dpi\\_LV\\_bottom\\_251\\_B\\_A1\\_P133.mzXML & 501                                                              & Group1A                                                          & naive                                                            & 50dpi                                                            & LV\\_bottom                                                      & A1                                                               & P133                                                             & 0.002972957                                                      & 0.003479303                                                      & 0.000269898                                                      & 0.000034000                                                      & 0.000000000                                                     \\\\\n",
       "\t X502\\_Group1A\\_50dpi\\_LV\\_bottom\\_252\\_B\\_A2\\_P133.mzXML & 502                                                              & Group1A                                                          & naive                                                            & 50dpi                                                            & LV\\_bottom                                                      & A2                                                               & P133                                                             & 0.003200256                                                      & 0.005721087                                                      & 0.000964777                                                      & 0.001450000                                                      & 0.000223708                                                     \\\\\n",
       "\t X503\\_Group1A\\_50dpi\\_LV\\_bottom\\_253\\_B\\_A3\\_P133.mzXML & 503                                                              & Group1A                                                          & naive                                                            & 50dpi                                                            & LV\\_bottom                                                      & A3                                                               & P133                                                             & 0.004692557                                                      & 0.007977204                                                      & 0.001291204                                                      & 0.000824520                                                      & 0.000237466                                                     \\\\\n",
       "\t X504\\_Group1A\\_50dpi\\_LV\\_bottom\\_254\\_B\\_A4\\_P133.mzXML & 504                                                              & Group1A                                                          & naive                                                            & 50dpi                                                            & LV\\_bottom                                                      & A4                                                               & P133                                                             & 0.004836650                                                      & 0.008975679                                                      & 0.001705570                                                      & 0.000280497                                                      & 0.000000000                                                     \\\\\n",
       "\t X505\\_Group1A\\_50dpi\\_LV\\_bottom\\_255\\_B\\_A5\\_P133.mzXML & 505                                                              & Group1A                                                          & naive                                                            & 50dpi                                                            & LV\\_bottom                                                      & A5                                                               & P133                                                             & 0.004188893                                                      & 0.008150000                                                      & 0.001685713                                                      & 0.000852005                                                      & 0.000105163                                                     \\\\\n",
       "\t X521\\_Group1A\\_50dpi\\_LV\\_bottom\\_256\\_B\\_A6\\_P133.mzXML & 521                                                              & Group1A                                                          & naive                                                            & 50dpi                                                            & LV\\_bottom                                                      & A6                                                               & P133                                                             & 0.003719791                                                      & 0.007589209                                                      & 0.000961049                                                      & 0.001908150                                                      & 0.000073400                                                     \\\\\n",
       "\\end{tabular}\n"
      ],
      "text/markdown": [
       "\n",
       "| filename | MouseID | Treatmentgroup | status | DPI | organ | well_position | plate | mass_400 | mass_500 | mass_600 | mass_700 | mass_800 |\n",
       "|---|---|---|---|---|---|---|---|---|---|---|---|---|\n",
       "| X501_Group1A_50dpi_LV_bottom_251_B_A1_P133.mzXML | 501                                              | Group1A                                          | naive                                            | 50dpi                                            | LV_bottom                                        | A1                                               | P133                                             | 0.002972957                                      | 0.003479303                                      | 0.000269898                                      | 0.000034000                                      | 0.000000000                                      |\n",
       "| X502_Group1A_50dpi_LV_bottom_252_B_A2_P133.mzXML | 502                                              | Group1A                                          | naive                                            | 50dpi                                            | LV_bottom                                        | A2                                               | P133                                             | 0.003200256                                      | 0.005721087                                      | 0.000964777                                      | 0.001450000                                      | 0.000223708                                      |\n",
       "| X503_Group1A_50dpi_LV_bottom_253_B_A3_P133.mzXML | 503                                              | Group1A                                          | naive                                            | 50dpi                                            | LV_bottom                                        | A3                                               | P133                                             | 0.004692557                                      | 0.007977204                                      | 0.001291204                                      | 0.000824520                                      | 0.000237466                                      |\n",
       "| X504_Group1A_50dpi_LV_bottom_254_B_A4_P133.mzXML | 504                                              | Group1A                                          | naive                                            | 50dpi                                            | LV_bottom                                        | A4                                               | P133                                             | 0.004836650                                      | 0.008975679                                      | 0.001705570                                      | 0.000280497                                      | 0.000000000                                      |\n",
       "| X505_Group1A_50dpi_LV_bottom_255_B_A5_P133.mzXML | 505                                              | Group1A                                          | naive                                            | 50dpi                                            | LV_bottom                                        | A5                                               | P133                                             | 0.004188893                                      | 0.008150000                                      | 0.001685713                                      | 0.000852005                                      | 0.000105163                                      |\n",
       "| X521_Group1A_50dpi_LV_bottom_256_B_A6_P133.mzXML | 521                                              | Group1A                                          | naive                                            | 50dpi                                            | LV_bottom                                        | A6                                               | P133                                             | 0.003719791                                      | 0.007589209                                      | 0.000961049                                      | 0.001908150                                      | 0.000073400                                      |\n",
       "\n"
      ],
      "text/plain": [
       "  filename                                         MouseID Treatmentgroup\n",
       "1 X501_Group1A_50dpi_LV_bottom_251_B_A1_P133.mzXML 501     Group1A       \n",
       "2 X502_Group1A_50dpi_LV_bottom_252_B_A2_P133.mzXML 502     Group1A       \n",
       "3 X503_Group1A_50dpi_LV_bottom_253_B_A3_P133.mzXML 503     Group1A       \n",
       "4 X504_Group1A_50dpi_LV_bottom_254_B_A4_P133.mzXML 504     Group1A       \n",
       "5 X505_Group1A_50dpi_LV_bottom_255_B_A5_P133.mzXML 505     Group1A       \n",
       "6 X521_Group1A_50dpi_LV_bottom_256_B_A6_P133.mzXML 521     Group1A       \n",
       "  status DPI   organ     well_position plate mass_400    mass_500   \n",
       "1 naive  50dpi LV_bottom A1            P133  0.002972957 0.003479303\n",
       "2 naive  50dpi LV_bottom A2            P133  0.003200256 0.005721087\n",
       "3 naive  50dpi LV_bottom A3            P133  0.004692557 0.007977204\n",
       "4 naive  50dpi LV_bottom A4            P133  0.004836650 0.008975679\n",
       "5 naive  50dpi LV_bottom A5            P133  0.004188893 0.008150000\n",
       "6 naive  50dpi LV_bottom A6            P133  0.003719791 0.007589209\n",
       "  mass_600    mass_700    mass_800   \n",
       "1 0.000269898 0.000034000 0.000000000\n",
       "2 0.000964777 0.001450000 0.000223708\n",
       "3 0.001291204 0.000824520 0.000237466\n",
       "4 0.001705570 0.000280497 0.000000000\n",
       "5 0.001685713 0.000852005 0.000105163\n",
       "6 0.000961049 0.001908150 0.000073400"
      ]
     },
     "metadata": {},
     "output_type": "display_data"
    },
    {
     "data": {
      "text/html": [
       "<ol class=list-inline>\n",
       "\t<li>90</li>\n",
       "\t<li>13</li>\n",
       "</ol>\n"
      ],
      "text/latex": [
       "\\begin{enumerate*}\n",
       "\\item 90\n",
       "\\item 13\n",
       "\\end{enumerate*}\n"
      ],
      "text/markdown": [
       "1. 90\n",
       "2. 13\n",
       "\n",
       "\n"
      ],
      "text/plain": [
       "[1] 90 13"
      ]
     },
     "metadata": {},
     "output_type": "display_data"
    }
   ],
   "source": [
    "head(a)\n",
    "dim(a)"
   ]
  },
  {
   "cell_type": "code",
   "execution_count": 3,
   "metadata": {},
   "outputs": [
    {
     "data": {
      "text/html": [
       "<table>\n",
       "<thead><tr><th scope=col>filename</th><th scope=col>MouseID</th><th scope=col>Treatmentgroup</th><th scope=col>status</th><th scope=col>DPI</th><th scope=col>organ</th><th scope=col>well_position</th><th scope=col>plate</th><th scope=col>mass_400</th><th scope=col>mass_500</th><th scope=col>mass_600</th><th scope=col>mass_700</th><th scope=col>mass_800</th></tr></thead>\n",
       "<tbody>\n",
       "\t<tr><td>X501_Group1A_50dpi_LV_bottom_251_B_A1_P133.mzXML</td><td>501                                             </td><td>Group1A                                         </td><td>naive                                           </td><td>50dpi                                           </td><td>LV_bottom                                       </td><td>A1                                              </td><td>P133                                            </td><td>0.002972957                                     </td><td>0.003479303                                     </td><td>0.000269898                                     </td><td>0.000034000                                     </td><td>0.000000000                                     </td></tr>\n",
       "\t<tr><td>X502_Group1A_50dpi_LV_bottom_252_B_A2_P133.mzXML</td><td>502                                             </td><td>Group1A                                         </td><td>naive                                           </td><td>50dpi                                           </td><td>LV_bottom                                       </td><td>A2                                              </td><td>P133                                            </td><td>0.003200256                                     </td><td>0.005721087                                     </td><td>0.000964777                                     </td><td>0.001450000                                     </td><td>0.000223708                                     </td></tr>\n",
       "\t<tr><td>X503_Group1A_50dpi_LV_bottom_253_B_A3_P133.mzXML</td><td>503                                             </td><td>Group1A                                         </td><td>naive                                           </td><td>50dpi                                           </td><td>LV_bottom                                       </td><td>A3                                              </td><td>P133                                            </td><td>0.004692557                                     </td><td>0.007977204                                     </td><td>0.001291204                                     </td><td>0.000824520                                     </td><td>0.000237466                                     </td></tr>\n",
       "\t<tr><td>X504_Group1A_50dpi_LV_bottom_254_B_A4_P133.mzXML</td><td>504                                             </td><td>Group1A                                         </td><td>naive                                           </td><td>50dpi                                           </td><td>LV_bottom                                       </td><td>A4                                              </td><td>P133                                            </td><td>0.004836650                                     </td><td>0.008975679                                     </td><td>0.001705570                                     </td><td>0.000280497                                     </td><td>0.000000000                                     </td></tr>\n",
       "\t<tr><td>X505_Group1A_50dpi_LV_bottom_255_B_A5_P133.mzXML</td><td>505                                             </td><td>Group1A                                         </td><td>naive                                           </td><td>50dpi                                           </td><td>LV_bottom                                       </td><td>A5                                              </td><td>P133                                            </td><td>0.004188893                                     </td><td>0.008150000                                     </td><td>0.001685713                                     </td><td>0.000852005                                     </td><td>0.000105163                                     </td></tr>\n",
       "\t<tr><td>X521_Group1A_50dpi_LV_bottom_256_B_A6_P133.mzXML</td><td>521                                             </td><td>Group1A                                         </td><td>naive                                           </td><td>50dpi                                           </td><td>LV_bottom                                       </td><td>A6                                              </td><td>P133                                            </td><td>0.003719791                                     </td><td>0.007589209                                     </td><td>0.000961049                                     </td><td>0.001908150                                     </td><td>0.000073400                                     </td></tr>\n",
       "</tbody>\n",
       "</table>\n"
      ],
      "text/latex": [
       "\\begin{tabular}{r|lllllllllllll}\n",
       " filename & MouseID & Treatmentgroup & status & DPI & organ & well\\_position & plate & mass\\_400 & mass\\_500 & mass\\_600 & mass\\_700 & mass\\_800\\\\\n",
       "\\hline\n",
       "\t X501\\_Group1A\\_50dpi\\_LV\\_bottom\\_251\\_B\\_A1\\_P133.mzXML & 501                                                              & Group1A                                                          & naive                                                            & 50dpi                                                            & LV\\_bottom                                                      & A1                                                               & P133                                                             & 0.002972957                                                      & 0.003479303                                                      & 0.000269898                                                      & 0.000034000                                                      & 0.000000000                                                     \\\\\n",
       "\t X502\\_Group1A\\_50dpi\\_LV\\_bottom\\_252\\_B\\_A2\\_P133.mzXML & 502                                                              & Group1A                                                          & naive                                                            & 50dpi                                                            & LV\\_bottom                                                      & A2                                                               & P133                                                             & 0.003200256                                                      & 0.005721087                                                      & 0.000964777                                                      & 0.001450000                                                      & 0.000223708                                                     \\\\\n",
       "\t X503\\_Group1A\\_50dpi\\_LV\\_bottom\\_253\\_B\\_A3\\_P133.mzXML & 503                                                              & Group1A                                                          & naive                                                            & 50dpi                                                            & LV\\_bottom                                                      & A3                                                               & P133                                                             & 0.004692557                                                      & 0.007977204                                                      & 0.001291204                                                      & 0.000824520                                                      & 0.000237466                                                     \\\\\n",
       "\t X504\\_Group1A\\_50dpi\\_LV\\_bottom\\_254\\_B\\_A4\\_P133.mzXML & 504                                                              & Group1A                                                          & naive                                                            & 50dpi                                                            & LV\\_bottom                                                      & A4                                                               & P133                                                             & 0.004836650                                                      & 0.008975679                                                      & 0.001705570                                                      & 0.000280497                                                      & 0.000000000                                                     \\\\\n",
       "\t X505\\_Group1A\\_50dpi\\_LV\\_bottom\\_255\\_B\\_A5\\_P133.mzXML & 505                                                              & Group1A                                                          & naive                                                            & 50dpi                                                            & LV\\_bottom                                                      & A5                                                               & P133                                                             & 0.004188893                                                      & 0.008150000                                                      & 0.001685713                                                      & 0.000852005                                                      & 0.000105163                                                     \\\\\n",
       "\t X521\\_Group1A\\_50dpi\\_LV\\_bottom\\_256\\_B\\_A6\\_P133.mzXML & 521                                                              & Group1A                                                          & naive                                                            & 50dpi                                                            & LV\\_bottom                                                      & A6                                                               & P133                                                             & 0.003719791                                                      & 0.007589209                                                      & 0.000961049                                                      & 0.001908150                                                      & 0.000073400                                                     \\\\\n",
       "\\end{tabular}\n"
      ],
      "text/markdown": [
       "\n",
       "| filename | MouseID | Treatmentgroup | status | DPI | organ | well_position | plate | mass_400 | mass_500 | mass_600 | mass_700 | mass_800 |\n",
       "|---|---|---|---|---|---|---|---|---|---|---|---|---|\n",
       "| X501_Group1A_50dpi_LV_bottom_251_B_A1_P133.mzXML | 501                                              | Group1A                                          | naive                                            | 50dpi                                            | LV_bottom                                        | A1                                               | P133                                             | 0.002972957                                      | 0.003479303                                      | 0.000269898                                      | 0.000034000                                      | 0.000000000                                      |\n",
       "| X502_Group1A_50dpi_LV_bottom_252_B_A2_P133.mzXML | 502                                              | Group1A                                          | naive                                            | 50dpi                                            | LV_bottom                                        | A2                                               | P133                                             | 0.003200256                                      | 0.005721087                                      | 0.000964777                                      | 0.001450000                                      | 0.000223708                                      |\n",
       "| X503_Group1A_50dpi_LV_bottom_253_B_A3_P133.mzXML | 503                                              | Group1A                                          | naive                                            | 50dpi                                            | LV_bottom                                        | A3                                               | P133                                             | 0.004692557                                      | 0.007977204                                      | 0.001291204                                      | 0.000824520                                      | 0.000237466                                      |\n",
       "| X504_Group1A_50dpi_LV_bottom_254_B_A4_P133.mzXML | 504                                              | Group1A                                          | naive                                            | 50dpi                                            | LV_bottom                                        | A4                                               | P133                                             | 0.004836650                                      | 0.008975679                                      | 0.001705570                                      | 0.000280497                                      | 0.000000000                                      |\n",
       "| X505_Group1A_50dpi_LV_bottom_255_B_A5_P133.mzXML | 505                                              | Group1A                                          | naive                                            | 50dpi                                            | LV_bottom                                        | A5                                               | P133                                             | 0.004188893                                      | 0.008150000                                      | 0.001685713                                      | 0.000852005                                      | 0.000105163                                      |\n",
       "| X521_Group1A_50dpi_LV_bottom_256_B_A6_P133.mzXML | 521                                              | Group1A                                          | naive                                            | 50dpi                                            | LV_bottom                                        | A6                                               | P133                                             | 0.003719791                                      | 0.007589209                                      | 0.000961049                                      | 0.001908150                                      | 0.000073400                                      |\n",
       "\n"
      ],
      "text/plain": [
       "  filename                                         MouseID Treatmentgroup\n",
       "1 X501_Group1A_50dpi_LV_bottom_251_B_A1_P133.mzXML 501     Group1A       \n",
       "2 X502_Group1A_50dpi_LV_bottom_252_B_A2_P133.mzXML 502     Group1A       \n",
       "3 X503_Group1A_50dpi_LV_bottom_253_B_A3_P133.mzXML 503     Group1A       \n",
       "4 X504_Group1A_50dpi_LV_bottom_254_B_A4_P133.mzXML 504     Group1A       \n",
       "5 X505_Group1A_50dpi_LV_bottom_255_B_A5_P133.mzXML 505     Group1A       \n",
       "6 X521_Group1A_50dpi_LV_bottom_256_B_A6_P133.mzXML 521     Group1A       \n",
       "  status DPI   organ     well_position plate mass_400    mass_500   \n",
       "1 naive  50dpi LV_bottom A1            P133  0.002972957 0.003479303\n",
       "2 naive  50dpi LV_bottom A2            P133  0.003200256 0.005721087\n",
       "3 naive  50dpi LV_bottom A3            P133  0.004692557 0.007977204\n",
       "4 naive  50dpi LV_bottom A4            P133  0.004836650 0.008975679\n",
       "5 naive  50dpi LV_bottom A5            P133  0.004188893 0.008150000\n",
       "6 naive  50dpi LV_bottom A6            P133  0.003719791 0.007589209\n",
       "  mass_600    mass_700    mass_800   \n",
       "1 0.000269898 0.000034000 0.000000000\n",
       "2 0.000964777 0.001450000 0.000223708\n",
       "3 0.001291204 0.000824520 0.000237466\n",
       "4 0.001705570 0.000280497 0.000000000\n",
       "5 0.001685713 0.000852005 0.000105163\n",
       "6 0.000961049 0.001908150 0.000073400"
      ]
     },
     "metadata": {},
     "output_type": "display_data"
    },
    {
     "data": {
      "text/html": [
       "<ol class=list-inline>\n",
       "\t<li>30</li>\n",
       "\t<li>13</li>\n",
       "</ol>\n"
      ],
      "text/latex": [
       "\\begin{enumerate*}\n",
       "\\item 30\n",
       "\\item 13\n",
       "\\end{enumerate*}\n"
      ],
      "text/markdown": [
       "1. 30\n",
       "2. 13\n",
       "\n",
       "\n"
      ],
      "text/plain": [
       "[1] 30 13"
      ]
     },
     "metadata": {},
     "output_type": "display_data"
    }
   ],
   "source": [
    "features_pos<-droplevels(subset(a, a$Treatmentgroup==c(\"Group1A\")|a$Treatmentgroup==c(\"Group3A\")))\n",
    "head(features_pos)\n",
    "dim(features_pos)"
   ]
  },
  {
   "cell_type": "code",
   "execution_count": 4,
   "metadata": {
    "scrolled": false
   },
   "outputs": [
    {
     "data": {
      "text/html": [
       "<table>\n",
       "<thead><tr><th scope=col>mass_400</th><th scope=col>mass_500</th><th scope=col>mass_600</th><th scope=col>mass_700</th><th scope=col>mass_800</th></tr></thead>\n",
       "<tbody>\n",
       "\t<tr><td>0.002972957</td><td>0.003479303</td><td>0.000269898</td><td>0.000034000</td><td>0.000000000</td></tr>\n",
       "\t<tr><td>0.003200256</td><td>0.005721087</td><td>0.000964777</td><td>0.001450000</td><td>0.000223708</td></tr>\n",
       "\t<tr><td>0.004692557</td><td>0.007977204</td><td>0.001291204</td><td>0.000824520</td><td>0.000237466</td></tr>\n",
       "\t<tr><td>0.004836650</td><td>0.008975679</td><td>0.001705570</td><td>0.000280497</td><td>0.000000000</td></tr>\n",
       "\t<tr><td>0.004188893</td><td>0.008150000</td><td>0.001685713</td><td>0.000852005</td><td>0.000105163</td></tr>\n",
       "\t<tr><td>0.003719791</td><td>0.007589209</td><td>0.000961049</td><td>0.001908150</td><td>0.000073400</td></tr>\n",
       "</tbody>\n",
       "</table>\n"
      ],
      "text/latex": [
       "\\begin{tabular}{r|lllll}\n",
       " mass\\_400 & mass\\_500 & mass\\_600 & mass\\_700 & mass\\_800\\\\\n",
       "\\hline\n",
       "\t 0.002972957 & 0.003479303 & 0.000269898 & 0.000034000 & 0.000000000\\\\\n",
       "\t 0.003200256 & 0.005721087 & 0.000964777 & 0.001450000 & 0.000223708\\\\\n",
       "\t 0.004692557 & 0.007977204 & 0.001291204 & 0.000824520 & 0.000237466\\\\\n",
       "\t 0.004836650 & 0.008975679 & 0.001705570 & 0.000280497 & 0.000000000\\\\\n",
       "\t 0.004188893 & 0.008150000 & 0.001685713 & 0.000852005 & 0.000105163\\\\\n",
       "\t 0.003719791 & 0.007589209 & 0.000961049 & 0.001908150 & 0.000073400\\\\\n",
       "\\end{tabular}\n"
      ],
      "text/markdown": [
       "\n",
       "| mass_400 | mass_500 | mass_600 | mass_700 | mass_800 |\n",
       "|---|---|---|---|---|\n",
       "| 0.002972957 | 0.003479303 | 0.000269898 | 0.000034000 | 0.000000000 |\n",
       "| 0.003200256 | 0.005721087 | 0.000964777 | 0.001450000 | 0.000223708 |\n",
       "| 0.004692557 | 0.007977204 | 0.001291204 | 0.000824520 | 0.000237466 |\n",
       "| 0.004836650 | 0.008975679 | 0.001705570 | 0.000280497 | 0.000000000 |\n",
       "| 0.004188893 | 0.008150000 | 0.001685713 | 0.000852005 | 0.000105163 |\n",
       "| 0.003719791 | 0.007589209 | 0.000961049 | 0.001908150 | 0.000073400 |\n",
       "\n"
      ],
      "text/plain": [
       "  mass_400    mass_500    mass_600    mass_700    mass_800   \n",
       "1 0.002972957 0.003479303 0.000269898 0.000034000 0.000000000\n",
       "2 0.003200256 0.005721087 0.000964777 0.001450000 0.000223708\n",
       "3 0.004692557 0.007977204 0.001291204 0.000824520 0.000237466\n",
       "4 0.004836650 0.008975679 0.001705570 0.000280497 0.000000000\n",
       "5 0.004188893 0.008150000 0.001685713 0.000852005 0.000105163\n",
       "6 0.003719791 0.007589209 0.000961049 0.001908150 0.000073400"
      ]
     },
     "metadata": {},
     "output_type": "display_data"
    },
    {
     "data": {
      "text/html": [
       "<dl class=dl-horizontal>\n",
       "\t<dt>mass_400</dt>\n",
       "\t\t<dd>1</dd>\n",
       "\t<dt>mass_500</dt>\n",
       "\t\t<dd>2</dd>\n",
       "\t<dt>mass_600</dt>\n",
       "\t\t<dd>3</dd>\n",
       "\t<dt>mass_700</dt>\n",
       "\t\t<dd>4</dd>\n",
       "\t<dt>mass_800</dt>\n",
       "\t\t<dd>5</dd>\n",
       "</dl>\n"
      ],
      "text/latex": [
       "\\begin{description*}\n",
       "\\item[mass\\textbackslash{}\\_400] 1\n",
       "\\item[mass\\textbackslash{}\\_500] 2\n",
       "\\item[mass\\textbackslash{}\\_600] 3\n",
       "\\item[mass\\textbackslash{}\\_700] 4\n",
       "\\item[mass\\textbackslash{}\\_800] 5\n",
       "\\end{description*}\n"
      ],
      "text/markdown": [
       "mass_400\n",
       ":   1mass_500\n",
       ":   2mass_600\n",
       ":   3mass_700\n",
       ":   4mass_800\n",
       ":   5\n",
       "\n"
      ],
      "text/plain": [
       "mass_400 mass_500 mass_600 mass_700 mass_800 \n",
       "       1        2        3        4        5 "
      ]
     },
     "metadata": {},
     "output_type": "display_data"
    },
    {
     "data": {
      "text/html": [
       "<table>\n",
       "<thead><tr><th></th><th scope=col>mass_400</th><th scope=col>mass_500</th><th scope=col>mass_600</th><th scope=col>mass_700</th><th scope=col>mass_800</th></tr></thead>\n",
       "<tbody>\n",
       "\t<tr><th scope=row>1</th><td>0.002972957</td><td>0.003479303</td><td>0.000269898</td><td>0.000034000</td><td>0.000000000</td></tr>\n",
       "\t<tr><th scope=row>2</th><td>0.003200256</td><td>0.005721087</td><td>0.000964777</td><td>0.001450000</td><td>0.000223708</td></tr>\n",
       "\t<tr><th scope=row>3</th><td>0.004692557</td><td>0.007977204</td><td>0.001291204</td><td>0.000824520</td><td>0.000237466</td></tr>\n",
       "\t<tr><th scope=row>4</th><td>0.004836650</td><td>0.008975679</td><td>0.001705570</td><td>0.000280497</td><td>0.000000000</td></tr>\n",
       "\t<tr><th scope=row>5</th><td>0.004188893</td><td>0.008150000</td><td>0.001685713</td><td>0.000852005</td><td>0.000105163</td></tr>\n",
       "\t<tr><th scope=row>6</th><td>0.003719791</td><td>0.007589209</td><td>0.000961049</td><td>0.001908150</td><td>0.000073400</td></tr>\n",
       "\t<tr><th scope=row>7</th><td>0.001663586</td><td>0.001777322</td><td>0.000278356</td><td>0.000000000</td><td>0.000000000</td></tr>\n",
       "\t<tr><th scope=row>8</th><td>0.004876752</td><td>0.010800000</td><td>0.001381099</td><td>0.000000000</td><td>0.000000000</td></tr>\n",
       "\t<tr><th scope=row>9</th><td>0.004889792</td><td>0.008860000</td><td>0.001767200</td><td>0.000202690</td><td>0.000000000</td></tr>\n",
       "\t<tr><th scope=row>10</th><td>0.003818614</td><td>0.010436500</td><td>0.001503024</td><td>0.000019800</td><td>0.000000000</td></tr>\n",
       "\t<tr><th scope=row>11</th><td>0.003578753</td><td>0.008740000</td><td>0.001402083</td><td>0.001569999</td><td>0.000114416</td></tr>\n",
       "\t<tr><th scope=row>12</th><td>0.003118180</td><td>0.006910000</td><td>0.001248193</td><td>0.000985000</td><td>0.000033000</td></tr>\n",
       "\t<tr><th scope=row>13</th><td>0.000693577</td><td>0.001587230</td><td>0.000000000</td><td>0.000000000</td><td>0.000000000</td></tr>\n",
       "\t<tr><th scope=row>14</th><td>0.003819171</td><td>0.008114243</td><td>0.000848604</td><td>0.002695171</td><td>0.000613868</td></tr>\n",
       "\t<tr><th scope=row>15</th><td>0.003885949</td><td>0.009290000</td><td>0.001001077</td><td>0.001520436</td><td>0.000062700</td></tr>\n",
       "\t<tr><th scope=row>46</th><td>0.003692589</td><td>0.005817600</td><td>0.000789881</td><td>0.000138680</td><td>0.000000000</td></tr>\n",
       "\t<tr><th scope=row>47</th><td>0.001625219</td><td>0.002573250</td><td>0.000112823</td><td>0.000000000</td><td>0.000000000</td></tr>\n",
       "\t<tr><th scope=row>48</th><td>0.004781890</td><td>0.007910000</td><td>0.001421991</td><td>0.002096682</td><td>0.000183315</td></tr>\n",
       "\t<tr><th scope=row>49</th><td>0.002745662</td><td>0.006810000</td><td>0.000845278</td><td>0.000752513</td><td>0.000000000</td></tr>\n",
       "\t<tr><th scope=row>50</th><td>0.004419778</td><td>0.006270000</td><td>0.001183307</td><td>0.001028466</td><td>0.000152974</td></tr>\n",
       "\t<tr><th scope=row>51</th><td>0.001032075</td><td>0.001813476</td><td>0.000079200</td><td>0.000000000</td><td>0.000000000</td></tr>\n",
       "\t<tr><th scope=row>52</th><td>0.012684237</td><td>0.011191752</td><td>0.001290024</td><td>0.000025200</td><td>0.000000000</td></tr>\n",
       "\t<tr><th scope=row>53</th><td>0.000837065</td><td>0.002769649</td><td>0.000000000</td><td>0.000000000</td><td>0.000000000</td></tr>\n",
       "\t<tr><th scope=row>54</th><td>0.002358740</td><td>0.003907281</td><td>0.000102616</td><td>0.000000000</td><td>0.000000000</td></tr>\n",
       "\t<tr><th scope=row>55</th><td>0.000636806</td><td>0.001876845</td><td>0.000389828</td><td>0.000000000</td><td>0.000000000</td></tr>\n",
       "\t<tr><th scope=row>56</th><td>0.002129869</td><td>0.003519405</td><td>0.000393388</td><td>0.000000000</td><td>0.000000000</td></tr>\n",
       "\t<tr><th scope=row>57</th><td>0.002051927</td><td>0.003213925</td><td>0.000301533</td><td>0.002163041</td><td>0.000000000</td></tr>\n",
       "\t<tr><th scope=row>58</th><td>0.000122351</td><td>0.000327852</td><td>0.000000000</td><td>0.000000000</td><td>0.000000000</td></tr>\n",
       "\t<tr><th scope=row>59</th><td>0.004651183</td><td>0.007552750</td><td>0.000640929</td><td>0.000778161</td><td>0.000346625</td></tr>\n",
       "\t<tr><th scope=row>60</th><td>0.000000000</td><td>0.000000000</td><td>0.000000000</td><td>0.000000000</td><td>0.000000000</td></tr>\n",
       "</tbody>\n",
       "</table>\n"
      ],
      "text/latex": [
       "\\begin{tabular}{r|lllll}\n",
       "  & mass\\_400 & mass\\_500 & mass\\_600 & mass\\_700 & mass\\_800\\\\\n",
       "\\hline\n",
       "\t1 & 0.002972957 & 0.003479303 & 0.000269898 & 0.000034000 & 0.000000000\\\\\n",
       "\t2 & 0.003200256 & 0.005721087 & 0.000964777 & 0.001450000 & 0.000223708\\\\\n",
       "\t3 & 0.004692557 & 0.007977204 & 0.001291204 & 0.000824520 & 0.000237466\\\\\n",
       "\t4 & 0.004836650 & 0.008975679 & 0.001705570 & 0.000280497 & 0.000000000\\\\\n",
       "\t5 & 0.004188893 & 0.008150000 & 0.001685713 & 0.000852005 & 0.000105163\\\\\n",
       "\t6 & 0.003719791 & 0.007589209 & 0.000961049 & 0.001908150 & 0.000073400\\\\\n",
       "\t7 & 0.001663586 & 0.001777322 & 0.000278356 & 0.000000000 & 0.000000000\\\\\n",
       "\t8 & 0.004876752 & 0.010800000 & 0.001381099 & 0.000000000 & 0.000000000\\\\\n",
       "\t9 & 0.004889792 & 0.008860000 & 0.001767200 & 0.000202690 & 0.000000000\\\\\n",
       "\t10 & 0.003818614 & 0.010436500 & 0.001503024 & 0.000019800 & 0.000000000\\\\\n",
       "\t11 & 0.003578753 & 0.008740000 & 0.001402083 & 0.001569999 & 0.000114416\\\\\n",
       "\t12 & 0.003118180 & 0.006910000 & 0.001248193 & 0.000985000 & 0.000033000\\\\\n",
       "\t13 & 0.000693577 & 0.001587230 & 0.000000000 & 0.000000000 & 0.000000000\\\\\n",
       "\t14 & 0.003819171 & 0.008114243 & 0.000848604 & 0.002695171 & 0.000613868\\\\\n",
       "\t15 & 0.003885949 & 0.009290000 & 0.001001077 & 0.001520436 & 0.000062700\\\\\n",
       "\t46 & 0.003692589 & 0.005817600 & 0.000789881 & 0.000138680 & 0.000000000\\\\\n",
       "\t47 & 0.001625219 & 0.002573250 & 0.000112823 & 0.000000000 & 0.000000000\\\\\n",
       "\t48 & 0.004781890 & 0.007910000 & 0.001421991 & 0.002096682 & 0.000183315\\\\\n",
       "\t49 & 0.002745662 & 0.006810000 & 0.000845278 & 0.000752513 & 0.000000000\\\\\n",
       "\t50 & 0.004419778 & 0.006270000 & 0.001183307 & 0.001028466 & 0.000152974\\\\\n",
       "\t51 & 0.001032075 & 0.001813476 & 0.000079200 & 0.000000000 & 0.000000000\\\\\n",
       "\t52 & 0.012684237 & 0.011191752 & 0.001290024 & 0.000025200 & 0.000000000\\\\\n",
       "\t53 & 0.000837065 & 0.002769649 & 0.000000000 & 0.000000000 & 0.000000000\\\\\n",
       "\t54 & 0.002358740 & 0.003907281 & 0.000102616 & 0.000000000 & 0.000000000\\\\\n",
       "\t55 & 0.000636806 & 0.001876845 & 0.000389828 & 0.000000000 & 0.000000000\\\\\n",
       "\t56 & 0.002129869 & 0.003519405 & 0.000393388 & 0.000000000 & 0.000000000\\\\\n",
       "\t57 & 0.002051927 & 0.003213925 & 0.000301533 & 0.002163041 & 0.000000000\\\\\n",
       "\t58 & 0.000122351 & 0.000327852 & 0.000000000 & 0.000000000 & 0.000000000\\\\\n",
       "\t59 & 0.004651183 & 0.007552750 & 0.000640929 & 0.000778161 & 0.000346625\\\\\n",
       "\t60 & 0.000000000 & 0.000000000 & 0.000000000 & 0.000000000 & 0.000000000\\\\\n",
       "\\end{tabular}\n"
      ],
      "text/markdown": [
       "\n",
       "| <!--/--> | mass_400 | mass_500 | mass_600 | mass_700 | mass_800 |\n",
       "|---|---|---|---|---|---|\n",
       "| 1 | 0.002972957 | 0.003479303 | 0.000269898 | 0.000034000 | 0.000000000 |\n",
       "| 2 | 0.003200256 | 0.005721087 | 0.000964777 | 0.001450000 | 0.000223708 |\n",
       "| 3 | 0.004692557 | 0.007977204 | 0.001291204 | 0.000824520 | 0.000237466 |\n",
       "| 4 | 0.004836650 | 0.008975679 | 0.001705570 | 0.000280497 | 0.000000000 |\n",
       "| 5 | 0.004188893 | 0.008150000 | 0.001685713 | 0.000852005 | 0.000105163 |\n",
       "| 6 | 0.003719791 | 0.007589209 | 0.000961049 | 0.001908150 | 0.000073400 |\n",
       "| 7 | 0.001663586 | 0.001777322 | 0.000278356 | 0.000000000 | 0.000000000 |\n",
       "| 8 | 0.004876752 | 0.010800000 | 0.001381099 | 0.000000000 | 0.000000000 |\n",
       "| 9 | 0.004889792 | 0.008860000 | 0.001767200 | 0.000202690 | 0.000000000 |\n",
       "| 10 | 0.003818614 | 0.010436500 | 0.001503024 | 0.000019800 | 0.000000000 |\n",
       "| 11 | 0.003578753 | 0.008740000 | 0.001402083 | 0.001569999 | 0.000114416 |\n",
       "| 12 | 0.003118180 | 0.006910000 | 0.001248193 | 0.000985000 | 0.000033000 |\n",
       "| 13 | 0.000693577 | 0.001587230 | 0.000000000 | 0.000000000 | 0.000000000 |\n",
       "| 14 | 0.003819171 | 0.008114243 | 0.000848604 | 0.002695171 | 0.000613868 |\n",
       "| 15 | 0.003885949 | 0.009290000 | 0.001001077 | 0.001520436 | 0.000062700 |\n",
       "| 46 | 0.003692589 | 0.005817600 | 0.000789881 | 0.000138680 | 0.000000000 |\n",
       "| 47 | 0.001625219 | 0.002573250 | 0.000112823 | 0.000000000 | 0.000000000 |\n",
       "| 48 | 0.004781890 | 0.007910000 | 0.001421991 | 0.002096682 | 0.000183315 |\n",
       "| 49 | 0.002745662 | 0.006810000 | 0.000845278 | 0.000752513 | 0.000000000 |\n",
       "| 50 | 0.004419778 | 0.006270000 | 0.001183307 | 0.001028466 | 0.000152974 |\n",
       "| 51 | 0.001032075 | 0.001813476 | 0.000079200 | 0.000000000 | 0.000000000 |\n",
       "| 52 | 0.012684237 | 0.011191752 | 0.001290024 | 0.000025200 | 0.000000000 |\n",
       "| 53 | 0.000837065 | 0.002769649 | 0.000000000 | 0.000000000 | 0.000000000 |\n",
       "| 54 | 0.002358740 | 0.003907281 | 0.000102616 | 0.000000000 | 0.000000000 |\n",
       "| 55 | 0.000636806 | 0.001876845 | 0.000389828 | 0.000000000 | 0.000000000 |\n",
       "| 56 | 0.002129869 | 0.003519405 | 0.000393388 | 0.000000000 | 0.000000000 |\n",
       "| 57 | 0.002051927 | 0.003213925 | 0.000301533 | 0.002163041 | 0.000000000 |\n",
       "| 58 | 0.000122351 | 0.000327852 | 0.000000000 | 0.000000000 | 0.000000000 |\n",
       "| 59 | 0.004651183 | 0.007552750 | 0.000640929 | 0.000778161 | 0.000346625 |\n",
       "| 60 | 0.000000000 | 0.000000000 | 0.000000000 | 0.000000000 | 0.000000000 |\n",
       "\n"
      ],
      "text/plain": [
       "   mass_400    mass_500    mass_600    mass_700    mass_800   \n",
       "1  0.002972957 0.003479303 0.000269898 0.000034000 0.000000000\n",
       "2  0.003200256 0.005721087 0.000964777 0.001450000 0.000223708\n",
       "3  0.004692557 0.007977204 0.001291204 0.000824520 0.000237466\n",
       "4  0.004836650 0.008975679 0.001705570 0.000280497 0.000000000\n",
       "5  0.004188893 0.008150000 0.001685713 0.000852005 0.000105163\n",
       "6  0.003719791 0.007589209 0.000961049 0.001908150 0.000073400\n",
       "7  0.001663586 0.001777322 0.000278356 0.000000000 0.000000000\n",
       "8  0.004876752 0.010800000 0.001381099 0.000000000 0.000000000\n",
       "9  0.004889792 0.008860000 0.001767200 0.000202690 0.000000000\n",
       "10 0.003818614 0.010436500 0.001503024 0.000019800 0.000000000\n",
       "11 0.003578753 0.008740000 0.001402083 0.001569999 0.000114416\n",
       "12 0.003118180 0.006910000 0.001248193 0.000985000 0.000033000\n",
       "13 0.000693577 0.001587230 0.000000000 0.000000000 0.000000000\n",
       "14 0.003819171 0.008114243 0.000848604 0.002695171 0.000613868\n",
       "15 0.003885949 0.009290000 0.001001077 0.001520436 0.000062700\n",
       "46 0.003692589 0.005817600 0.000789881 0.000138680 0.000000000\n",
       "47 0.001625219 0.002573250 0.000112823 0.000000000 0.000000000\n",
       "48 0.004781890 0.007910000 0.001421991 0.002096682 0.000183315\n",
       "49 0.002745662 0.006810000 0.000845278 0.000752513 0.000000000\n",
       "50 0.004419778 0.006270000 0.001183307 0.001028466 0.000152974\n",
       "51 0.001032075 0.001813476 0.000079200 0.000000000 0.000000000\n",
       "52 0.012684237 0.011191752 0.001290024 0.000025200 0.000000000\n",
       "53 0.000837065 0.002769649 0.000000000 0.000000000 0.000000000\n",
       "54 0.002358740 0.003907281 0.000102616 0.000000000 0.000000000\n",
       "55 0.000636806 0.001876845 0.000389828 0.000000000 0.000000000\n",
       "56 0.002129869 0.003519405 0.000393388 0.000000000 0.000000000\n",
       "57 0.002051927 0.003213925 0.000301533 0.002163041 0.000000000\n",
       "58 0.000122351 0.000327852 0.000000000 0.000000000 0.000000000\n",
       "59 0.004651183 0.007552750 0.000640929 0.000778161 0.000346625\n",
       "60 0.000000000 0.000000000 0.000000000 0.000000000 0.000000000"
      ]
     },
     "metadata": {},
     "output_type": "display_data"
    },
    {
     "data": {
      "text/html": [
       "<table>\n",
       "<thead><tr><th scope=col>filename</th><th scope=col>MouseID</th><th scope=col>Treatmentgroup</th><th scope=col>status</th><th scope=col>DPI</th><th scope=col>organ</th><th scope=col>well_position</th><th scope=col>plate</th><th scope=col>mass_400</th><th scope=col>mass_500</th><th scope=col>mass_600</th><th scope=col>mass_700</th><th scope=col>mass_800</th></tr></thead>\n",
       "<tbody>\n",
       "\t<tr><td>X501_Group1A_50dpi_LV_bottom_251_B_A1_P133.mzXML</td><td>501                                             </td><td>Group1A                                         </td><td>naive                                           </td><td>50dpi                                           </td><td>LV_bottom                                       </td><td>A1                                              </td><td>P133                                            </td><td>0.002972957                                     </td><td>0.003479303                                     </td><td>0.000269898                                     </td><td>0.000034000                                     </td><td>0.000000000                                     </td></tr>\n",
       "\t<tr><td>X502_Group1A_50dpi_LV_bottom_252_B_A2_P133.mzXML</td><td>502                                             </td><td>Group1A                                         </td><td>naive                                           </td><td>50dpi                                           </td><td>LV_bottom                                       </td><td>A2                                              </td><td>P133                                            </td><td>0.003200256                                     </td><td>0.005721087                                     </td><td>0.000964777                                     </td><td>0.001450000                                     </td><td>0.000223708                                     </td></tr>\n",
       "\t<tr><td>X503_Group1A_50dpi_LV_bottom_253_B_A3_P133.mzXML</td><td>503                                             </td><td>Group1A                                         </td><td>naive                                           </td><td>50dpi                                           </td><td>LV_bottom                                       </td><td>A3                                              </td><td>P133                                            </td><td>0.004692557                                     </td><td>0.007977204                                     </td><td>0.001291204                                     </td><td>0.000824520                                     </td><td>0.000237466                                     </td></tr>\n",
       "\t<tr><td>X504_Group1A_50dpi_LV_bottom_254_B_A4_P133.mzXML</td><td>504                                             </td><td>Group1A                                         </td><td>naive                                           </td><td>50dpi                                           </td><td>LV_bottom                                       </td><td>A4                                              </td><td>P133                                            </td><td>0.004836650                                     </td><td>0.008975679                                     </td><td>0.001705570                                     </td><td>0.000280497                                     </td><td>0.000000000                                     </td></tr>\n",
       "\t<tr><td>X505_Group1A_50dpi_LV_bottom_255_B_A5_P133.mzXML</td><td>505                                             </td><td>Group1A                                         </td><td>naive                                           </td><td>50dpi                                           </td><td>LV_bottom                                       </td><td>A5                                              </td><td>P133                                            </td><td>0.004188893                                     </td><td>0.008150000                                     </td><td>0.001685713                                     </td><td>0.000852005                                     </td><td>0.000105163                                     </td></tr>\n",
       "\t<tr><td>X521_Group1A_50dpi_LV_bottom_256_B_A6_P133.mzXML</td><td>521                                             </td><td>Group1A                                         </td><td>naive                                           </td><td>50dpi                                           </td><td>LV_bottom                                       </td><td>A6                                              </td><td>P133                                            </td><td>0.003719791                                     </td><td>0.007589209                                     </td><td>0.000961049                                     </td><td>0.001908150                                     </td><td>0.000073400                                     </td></tr>\n",
       "</tbody>\n",
       "</table>\n"
      ],
      "text/latex": [
       "\\begin{tabular}{r|lllllllllllll}\n",
       " filename & MouseID & Treatmentgroup & status & DPI & organ & well\\_position & plate & mass\\_400 & mass\\_500 & mass\\_600 & mass\\_700 & mass\\_800\\\\\n",
       "\\hline\n",
       "\t X501\\_Group1A\\_50dpi\\_LV\\_bottom\\_251\\_B\\_A1\\_P133.mzXML & 501                                                              & Group1A                                                          & naive                                                            & 50dpi                                                            & LV\\_bottom                                                      & A1                                                               & P133                                                             & 0.002972957                                                      & 0.003479303                                                      & 0.000269898                                                      & 0.000034000                                                      & 0.000000000                                                     \\\\\n",
       "\t X502\\_Group1A\\_50dpi\\_LV\\_bottom\\_252\\_B\\_A2\\_P133.mzXML & 502                                                              & Group1A                                                          & naive                                                            & 50dpi                                                            & LV\\_bottom                                                      & A2                                                               & P133                                                             & 0.003200256                                                      & 0.005721087                                                      & 0.000964777                                                      & 0.001450000                                                      & 0.000223708                                                     \\\\\n",
       "\t X503\\_Group1A\\_50dpi\\_LV\\_bottom\\_253\\_B\\_A3\\_P133.mzXML & 503                                                              & Group1A                                                          & naive                                                            & 50dpi                                                            & LV\\_bottom                                                      & A3                                                               & P133                                                             & 0.004692557                                                      & 0.007977204                                                      & 0.001291204                                                      & 0.000824520                                                      & 0.000237466                                                     \\\\\n",
       "\t X504\\_Group1A\\_50dpi\\_LV\\_bottom\\_254\\_B\\_A4\\_P133.mzXML & 504                                                              & Group1A                                                          & naive                                                            & 50dpi                                                            & LV\\_bottom                                                      & A4                                                               & P133                                                             & 0.004836650                                                      & 0.008975679                                                      & 0.001705570                                                      & 0.000280497                                                      & 0.000000000                                                     \\\\\n",
       "\t X505\\_Group1A\\_50dpi\\_LV\\_bottom\\_255\\_B\\_A5\\_P133.mzXML & 505                                                              & Group1A                                                          & naive                                                            & 50dpi                                                            & LV\\_bottom                                                      & A5                                                               & P133                                                             & 0.004188893                                                      & 0.008150000                                                      & 0.001685713                                                      & 0.000852005                                                      & 0.000105163                                                     \\\\\n",
       "\t X521\\_Group1A\\_50dpi\\_LV\\_bottom\\_256\\_B\\_A6\\_P133.mzXML & 521                                                              & Group1A                                                          & naive                                                            & 50dpi                                                            & LV\\_bottom                                                      & A6                                                               & P133                                                             & 0.003719791                                                      & 0.007589209                                                      & 0.000961049                                                      & 0.001908150                                                      & 0.000073400                                                     \\\\\n",
       "\\end{tabular}\n"
      ],
      "text/markdown": [
       "\n",
       "| filename | MouseID | Treatmentgroup | status | DPI | organ | well_position | plate | mass_400 | mass_500 | mass_600 | mass_700 | mass_800 |\n",
       "|---|---|---|---|---|---|---|---|---|---|---|---|---|\n",
       "| X501_Group1A_50dpi_LV_bottom_251_B_A1_P133.mzXML | 501                                              | Group1A                                          | naive                                            | 50dpi                                            | LV_bottom                                        | A1                                               | P133                                             | 0.002972957                                      | 0.003479303                                      | 0.000269898                                      | 0.000034000                                      | 0.000000000                                      |\n",
       "| X502_Group1A_50dpi_LV_bottom_252_B_A2_P133.mzXML | 502                                              | Group1A                                          | naive                                            | 50dpi                                            | LV_bottom                                        | A2                                               | P133                                             | 0.003200256                                      | 0.005721087                                      | 0.000964777                                      | 0.001450000                                      | 0.000223708                                      |\n",
       "| X503_Group1A_50dpi_LV_bottom_253_B_A3_P133.mzXML | 503                                              | Group1A                                          | naive                                            | 50dpi                                            | LV_bottom                                        | A3                                               | P133                                             | 0.004692557                                      | 0.007977204                                      | 0.001291204                                      | 0.000824520                                      | 0.000237466                                      |\n",
       "| X504_Group1A_50dpi_LV_bottom_254_B_A4_P133.mzXML | 504                                              | Group1A                                          | naive                                            | 50dpi                                            | LV_bottom                                        | A4                                               | P133                                             | 0.004836650                                      | 0.008975679                                      | 0.001705570                                      | 0.000280497                                      | 0.000000000                                      |\n",
       "| X505_Group1A_50dpi_LV_bottom_255_B_A5_P133.mzXML | 505                                              | Group1A                                          | naive                                            | 50dpi                                            | LV_bottom                                        | A5                                               | P133                                             | 0.004188893                                      | 0.008150000                                      | 0.001685713                                      | 0.000852005                                      | 0.000105163                                      |\n",
       "| X521_Group1A_50dpi_LV_bottom_256_B_A6_P133.mzXML | 521                                              | Group1A                                          | naive                                            | 50dpi                                            | LV_bottom                                        | A6                                               | P133                                             | 0.003719791                                      | 0.007589209                                      | 0.000961049                                      | 0.001908150                                      | 0.000073400                                      |\n",
       "\n"
      ],
      "text/plain": [
       "  filename                                         MouseID Treatmentgroup\n",
       "1 X501_Group1A_50dpi_LV_bottom_251_B_A1_P133.mzXML 501     Group1A       \n",
       "2 X502_Group1A_50dpi_LV_bottom_252_B_A2_P133.mzXML 502     Group1A       \n",
       "3 X503_Group1A_50dpi_LV_bottom_253_B_A3_P133.mzXML 503     Group1A       \n",
       "4 X504_Group1A_50dpi_LV_bottom_254_B_A4_P133.mzXML 504     Group1A       \n",
       "5 X505_Group1A_50dpi_LV_bottom_255_B_A5_P133.mzXML 505     Group1A       \n",
       "6 X521_Group1A_50dpi_LV_bottom_256_B_A6_P133.mzXML 521     Group1A       \n",
       "  status DPI   organ     well_position plate mass_400    mass_500   \n",
       "1 naive  50dpi LV_bottom A1            P133  0.002972957 0.003479303\n",
       "2 naive  50dpi LV_bottom A2            P133  0.003200256 0.005721087\n",
       "3 naive  50dpi LV_bottom A3            P133  0.004692557 0.007977204\n",
       "4 naive  50dpi LV_bottom A4            P133  0.004836650 0.008975679\n",
       "5 naive  50dpi LV_bottom A5            P133  0.004188893 0.008150000\n",
       "6 naive  50dpi LV_bottom A6            P133  0.003719791 0.007589209\n",
       "  mass_600    mass_700    mass_800   \n",
       "1 0.000269898 0.000034000 0.000000000\n",
       "2 0.000964777 0.001450000 0.000223708\n",
       "3 0.001291204 0.000824520 0.000237466\n",
       "4 0.001705570 0.000280497 0.000000000\n",
       "5 0.001685713 0.000852005 0.000105163\n",
       "6 0.000961049 0.001908150 0.000073400"
      ]
     },
     "metadata": {},
     "output_type": "display_data"
    },
    {
     "data": {
      "text/html": [
       "<ol class=list-inline>\n",
       "\t<li>30</li>\n",
       "\t<li>13</li>\n",
       "</ol>\n"
      ],
      "text/latex": [
       "\\begin{enumerate*}\n",
       "\\item 30\n",
       "\\item 13\n",
       "\\end{enumerate*}\n"
      ],
      "text/markdown": [
       "1. 30\n",
       "2. 13\n",
       "\n",
       "\n"
      ],
      "text/plain": [
       "[1] 30 13"
      ]
     },
     "metadata": {},
     "output_type": "display_data"
    },
    {
     "data": {
      "text/html": [
       "<ol class=list-inline>\n",
       "\t<li>30</li>\n",
       "\t<li>5</li>\n",
       "</ol>\n"
      ],
      "text/latex": [
       "\\begin{enumerate*}\n",
       "\\item 30\n",
       "\\item 5\n",
       "\\end{enumerate*}\n"
      ],
      "text/markdown": [
       "1. 30\n",
       "2. 5\n",
       "\n",
       "\n"
      ],
      "text/plain": [
       "[1] 30  5"
      ]
     },
     "metadata": {},
     "output_type": "display_data"
    },
    {
     "data": {
      "text/html": [
       "<ol class=list-inline>\n",
       "\t<li>30</li>\n",
       "\t<li>5</li>\n",
       "</ol>\n"
      ],
      "text/latex": [
       "\\begin{enumerate*}\n",
       "\\item 30\n",
       "\\item 5\n",
       "\\end{enumerate*}\n"
      ],
      "text/markdown": [
       "1. 30\n",
       "2. 5\n",
       "\n",
       "\n"
      ],
      "text/plain": [
       "[1] 30  5"
      ]
     },
     "metadata": {},
     "output_type": "display_data"
    },
    {
     "data": {
      "text/html": [
       "<ol class=list-inline>\n",
       "\t<li>30</li>\n",
       "\t<li>13</li>\n",
       "</ol>\n"
      ],
      "text/latex": [
       "\\begin{enumerate*}\n",
       "\\item 30\n",
       "\\item 13\n",
       "\\end{enumerate*}\n"
      ],
      "text/markdown": [
       "1. 30\n",
       "2. 13\n",
       "\n",
       "\n"
      ],
      "text/plain": [
       "[1] 30 13"
      ]
     },
     "metadata": {},
     "output_type": "display_data"
    }
   ],
   "source": [
    "noMeta<-features_pos[,9:13]\n",
    "head(noMeta)\n",
    "not_zero<-which(colSums(noMeta) != 0)\n",
    "head(not_zero)\n",
    "nonzero <- noMeta[, not_zero]\n",
    "nonzero\n",
    "nonzero_wMeta<-cbind(features_pos[,1:8], nonzero)\n",
    "head(nonzero_wMeta)\n",
    "dim(features_pos)\n",
    "dim(noMeta)\n",
    "dim(nonzero)\n",
    "dim(nonzero_wMeta)"
   ]
  },
  {
   "cell_type": "code",
   "execution_count": 5,
   "metadata": {
    "scrolled": true
   },
   "outputs": [
    {
     "name": "stderr",
     "output_type": "stream",
     "text": [
      "Warning message in wilcox.test.default(x = c(0.000269898, 0.000964777, 0.001291204, :\n",
      "\"cannot compute exact p-value with ties\"Warning message in wilcox.test.default(x = c(3.4e-05, 0.00145, 0.00082452, 0.000280497, :\n",
      "\"cannot compute exact p-value with ties\"Warning message in wilcox.test.default(x = c(0, 0.000223708, 0.000237466, 0, 0.000105163, :\n",
      "\"cannot compute exact p-value with ties\""
     ]
    },
    {
     "data": {
      "text/html": [
       "<ol class=list-inline>\n",
       "\t<li>0.0555296397209032</li>\n",
       "\t<li>0.0145191723023937</li>\n",
       "\t<li>0.00836941416914803</li>\n",
       "\t<li>0.0971669673583722</li>\n",
       "\t<li>0.124455236649706</li>\n",
       "</ol>\n"
      ],
      "text/latex": [
       "\\begin{enumerate*}\n",
       "\\item 0.0555296397209032\n",
       "\\item 0.0145191723023937\n",
       "\\item 0.00836941416914803\n",
       "\\item 0.0971669673583722\n",
       "\\item 0.124455236649706\n",
       "\\end{enumerate*}\n"
      ],
      "text/markdown": [
       "1. 0.0555296397209032\n",
       "2. 0.0145191723023937\n",
       "3. 0.00836941416914803\n",
       "4. 0.0971669673583722\n",
       "5. 0.124455236649706\n",
       "\n",
       "\n"
      ],
      "text/plain": [
       "[1] 0.055529640 0.014519172 0.008369414 0.097166967 0.124455237"
      ]
     },
     "metadata": {},
     "output_type": "display_data"
    },
    {
     "data": {
      "text/html": [
       "<ol class=list-inline>\n",
       "\t<li>0.0925493995348387</li>\n",
       "\t<li>0.0362979307559842</li>\n",
       "\t<li>0.0362979307559842</li>\n",
       "\t<li>0.121458709197965</li>\n",
       "\t<li>0.124455236649706</li>\n",
       "</ol>\n"
      ],
      "text/latex": [
       "\\begin{enumerate*}\n",
       "\\item 0.0925493995348387\n",
       "\\item 0.0362979307559842\n",
       "\\item 0.0362979307559842\n",
       "\\item 0.121458709197965\n",
       "\\item 0.124455236649706\n",
       "\\end{enumerate*}\n"
      ],
      "text/markdown": [
       "1. 0.0925493995348387\n",
       "2. 0.0362979307559842\n",
       "3. 0.0362979307559842\n",
       "4. 0.121458709197965\n",
       "5. 0.124455236649706\n",
       "\n",
       "\n"
      ],
      "text/plain": [
       "[1] 0.09254940 0.03629793 0.03629793 0.12145871 0.12445524"
      ]
     },
     "metadata": {},
     "output_type": "display_data"
    }
   ],
   "source": [
    "pval<-c()\n",
    "\n",
    "for (i in 9:ncol(nonzero_wMeta)) \n",
    "pval<-c(pval,wilcox.test(nonzero_wMeta[,i]~nonzero_wMeta$Treatmentgroup)$p.value)\n",
    "head(pval)\n",
    "pAdj <- p.adjust(pval, method = c(\"fdr\"), n=length(pval)) \n",
    "head(pAdj) \n",
    "\n"
   ]
  },
  {
   "cell_type": "code",
   "execution_count": 6,
   "metadata": {
    "scrolled": true
   },
   "outputs": [
    {
     "data": {
      "text/html": [
       "5"
      ],
      "text/latex": [
       "5"
      ],
      "text/markdown": [
       "5"
      ],
      "text/plain": [
       "[1] 5"
      ]
     },
     "metadata": {},
     "output_type": "display_data"
    }
   ],
   "source": [
    "length(pval)"
   ]
  },
  {
   "cell_type": "code",
   "execution_count": 7,
   "metadata": {
    "scrolled": true
   },
   "outputs": [
    {
     "data": {
      "text/html": [
       "5"
      ],
      "text/latex": [
       "5"
      ],
      "text/markdown": [
       "5"
      ],
      "text/plain": [
       "[1] 5"
      ]
     },
     "metadata": {},
     "output_type": "display_data"
    }
   ],
   "source": [
    "length(pAdj)"
   ]
  },
  {
   "cell_type": "code",
   "execution_count": 8,
   "metadata": {},
   "outputs": [
    {
     "data": {
      "text/html": [
       "<ol class=list-inline>\n",
       "\t<li>2</li>\n",
       "\t<li>5</li>\n",
       "</ol>\n"
      ],
      "text/latex": [
       "\\begin{enumerate*}\n",
       "\\item 2\n",
       "\\item 5\n",
       "\\end{enumerate*}\n"
      ],
      "text/markdown": [
       "1. 2\n",
       "2. 5\n",
       "\n",
       "\n"
      ],
      "text/plain": [
       "[1] 2 5"
      ]
     },
     "metadata": {},
     "output_type": "display_data"
    },
    {
     "data": {
      "text/html": [
       "<table>\n",
       "<thead><tr><th></th><th scope=col>mass_400</th><th scope=col>mass_500</th><th scope=col>mass_600</th></tr></thead>\n",
       "<tbody>\n",
       "\t<tr><th scope=row>Group1A</th><td>0.003597032 </td><td>0.007227185 </td><td>0.0010871898</td></tr>\n",
       "\t<tr><th scope=row>Group3A</th><td>0.002917959 </td><td>0.004370252 </td><td>0.0005033865</td></tr>\n",
       "</tbody>\n",
       "</table>\n"
      ],
      "text/latex": [
       "\\begin{tabular}{r|lll}\n",
       "  & mass\\_400 & mass\\_500 & mass\\_600\\\\\n",
       "\\hline\n",
       "\tGroup1A & 0.003597032  & 0.007227185  & 0.0010871898\\\\\n",
       "\tGroup3A & 0.002917959  & 0.004370252  & 0.0005033865\\\\\n",
       "\\end{tabular}\n"
      ],
      "text/markdown": [
       "\n",
       "| <!--/--> | mass_400 | mass_500 | mass_600 |\n",
       "|---|---|---|---|\n",
       "| Group1A | 0.003597032  | 0.007227185  | 0.0010871898 |\n",
       "| Group3A | 0.002917959  | 0.004370252  | 0.0005033865 |\n",
       "\n"
      ],
      "text/plain": [
       "        mass_400    mass_500    mass_600    \n",
       "Group1A 0.003597032 0.007227185 0.0010871898\n",
       "Group3A 0.002917959 0.004370252 0.0005033865"
      ]
     },
     "metadata": {},
     "output_type": "display_data"
    },
    {
     "data": {
      "text/html": [
       "<dl class=dl-horizontal>\n",
       "\t<dt>mass_400</dt>\n",
       "\t\t<dd>1.23272169813832</dd>\n",
       "\t<dt>mass_500</dt>\n",
       "\t\t<dd>1.65372261876259</dd>\n",
       "\t<dt>mass_600</dt>\n",
       "\t\t<dd>2.15975145938217</dd>\n",
       "\t<dt>mass_700</dt>\n",
       "\t\t<dd>1.76753863059259</dd>\n",
       "\t<dt>mass_800</dt>\n",
       "\t\t<dd>2.14334601428584</dd>\n",
       "</dl>\n"
      ],
      "text/latex": [
       "\\begin{description*}\n",
       "\\item[mass\\textbackslash{}\\_400] 1.23272169813832\n",
       "\\item[mass\\textbackslash{}\\_500] 1.65372261876259\n",
       "\\item[mass\\textbackslash{}\\_600] 2.15975145938217\n",
       "\\item[mass\\textbackslash{}\\_700] 1.76753863059259\n",
       "\\item[mass\\textbackslash{}\\_800] 2.14334601428584\n",
       "\\end{description*}\n"
      ],
      "text/markdown": [
       "mass_400\n",
       ":   1.23272169813832mass_500\n",
       ":   1.65372261876259mass_600\n",
       ":   2.15975145938217mass_700\n",
       ":   1.76753863059259mass_800\n",
       ":   2.14334601428584\n",
       "\n"
      ],
      "text/plain": [
       "mass_400 mass_500 mass_600 mass_700 mass_800 \n",
       "1.232722 1.653723 2.159751 1.767539 2.143346 "
      ]
     },
     "metadata": {},
     "output_type": "display_data"
    },
    {
     "data": {
      "text/html": [
       "<ol class=list-inline>\n",
       "\t<li>'numeric'</li>\n",
       "\t<li>'vector'</li>\n",
       "</ol>\n"
      ],
      "text/latex": [
       "\\begin{enumerate*}\n",
       "\\item 'numeric'\n",
       "\\item 'vector'\n",
       "\\end{enumerate*}\n"
      ],
      "text/markdown": [
       "1. 'numeric'\n",
       "2. 'vector'\n",
       "\n",
       "\n"
      ],
      "text/plain": [
       "[1] \"numeric\" \"vector\" "
      ]
     },
     "metadata": {},
     "output_type": "display_data"
    }
   ],
   "source": [
    "avg<- apply(nonzero_wMeta[,9:ncol(nonzero_wMeta)], 2, function(x) tapply(x, nonzero_wMeta$Treatmentgroup, function(x) mean(x))) \n",
    "\n",
    "dim(avg) \n",
    "\n",
    "avg[,1:3]\n",
    "\n",
    "fch <- apply(avg, 2, function(x) x[1]/x[2])\n",
    "\n",
    "head(fch)\n",
    "is(fch)"
   ]
  },
  {
   "cell_type": "code",
   "execution_count": 9,
   "metadata": {
    "scrolled": true
   },
   "outputs": [
    {
     "data": {
      "text/html": [
       "<dl class=dl-horizontal>\n",
       "\t<dt>mass_400</dt>\n",
       "\t\t<dd>1.23272169813832</dd>\n",
       "\t<dt>mass_500</dt>\n",
       "\t\t<dd>1.65372261876259</dd>\n",
       "\t<dt>mass_600</dt>\n",
       "\t\t<dd>2.15975145938217</dd>\n",
       "\t<dt>mass_700</dt>\n",
       "\t\t<dd>1.76753863059259</dd>\n",
       "\t<dt>mass_800</dt>\n",
       "\t\t<dd>2.14334601428584</dd>\n",
       "</dl>\n"
      ],
      "text/latex": [
       "\\begin{description*}\n",
       "\\item[mass\\textbackslash{}\\_400] 1.23272169813832\n",
       "\\item[mass\\textbackslash{}\\_500] 1.65372261876259\n",
       "\\item[mass\\textbackslash{}\\_600] 2.15975145938217\n",
       "\\item[mass\\textbackslash{}\\_700] 1.76753863059259\n",
       "\\item[mass\\textbackslash{}\\_800] 2.14334601428584\n",
       "\\end{description*}\n"
      ],
      "text/markdown": [
       "mass_400\n",
       ":   1.23272169813832mass_500\n",
       ":   1.65372261876259mass_600\n",
       ":   2.15975145938217mass_700\n",
       ":   1.76753863059259mass_800\n",
       ":   2.14334601428584\n",
       "\n"
      ],
      "text/plain": [
       "mass_400 mass_500 mass_600 mass_700 mass_800 \n",
       "1.232722 1.653723 2.159751 1.767539 2.143346 "
      ]
     },
     "metadata": {},
     "output_type": "display_data"
    }
   ],
   "source": [
    "fch"
   ]
  },
  {
   "cell_type": "code",
   "execution_count": 10,
   "metadata": {
    "scrolled": false
   },
   "outputs": [],
   "source": [
    "df <- data.frame(fch,pval, pAdj)\n",
    "write.csv(df, \"PE-time-LVB-wilcox-1A-3A.csv\")"
   ]
  },
  {
   "cell_type": "code",
   "execution_count": null,
   "metadata": {},
   "outputs": [],
   "source": []
  },
  {
   "cell_type": "code",
   "execution_count": null,
   "metadata": {},
   "outputs": [],
   "source": []
  },
  {
   "cell_type": "code",
   "execution_count": null,
   "metadata": {},
   "outputs": [],
   "source": []
  },
  {
   "cell_type": "code",
   "execution_count": null,
   "metadata": {},
   "outputs": [],
   "source": []
  },
  {
   "cell_type": "code",
   "execution_count": null,
   "metadata": {},
   "outputs": [],
   "source": []
  },
  {
   "cell_type": "code",
   "execution_count": null,
   "metadata": {},
   "outputs": [],
   "source": []
  }
 ],
 "metadata": {
  "kernelspec": {
   "display_name": "R",
   "language": "R",
   "name": "ir"
  },
  "language_info": {
   "codemirror_mode": "r",
   "file_extension": ".r",
   "mimetype": "text/x-r-source",
   "name": "R",
   "pygments_lexer": "r",
   "version": "3.6.1"
  }
 },
 "nbformat": 4,
 "nbformat_minor": 2
}
