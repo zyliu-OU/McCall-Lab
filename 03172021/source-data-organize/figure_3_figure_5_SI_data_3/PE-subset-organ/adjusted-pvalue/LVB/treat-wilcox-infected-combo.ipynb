{
 "cells": [
  {
   "cell_type": "code",
   "execution_count": 1,
   "metadata": {},
   "outputs": [],
   "source": [
    "a <- read.csv(\"03172021-PE-treatment-LVB-M-F.csv\")"
   ]
  },
  {
   "cell_type": "code",
   "execution_count": 2,
   "metadata": {},
   "outputs": [
    {
     "data": {
      "text/html": [
       "<table>\n",
       "<thead><tr><th scope=col>filename</th><th scope=col>MouseID</th><th scope=col>Treatmentgroup</th><th scope=col>DPI</th><th scope=col>organ</th><th scope=col>well_position</th><th scope=col>plate</th><th scope=col>mass_400</th><th scope=col>mass_500</th><th scope=col>mass_600</th><th scope=col>mass_700</th><th scope=col>mass_800</th></tr></thead>\n",
       "<tbody>\n",
       "\t<tr><td>X511_Group1C_142dpi_LV_bottom_161_G_A1_P132.mzXML</td><td>511                                              </td><td>naive                                            </td><td>142dpi                                           </td><td>LV_bottom                                        </td><td>A1                                               </td><td>P132                                             </td><td>0.002386624                                      </td><td>0.006808896                                      </td><td>0.000837413                                      </td><td>0.000237425                                      </td><td>0.00000000                                       </td></tr>\n",
       "\t<tr><td>X512_Group1C_142dpi_LV_bottom_162_G_A2_P132.mzXML</td><td>512                                              </td><td>naive                                            </td><td>142dpi                                           </td><td>LV_bottom                                        </td><td>A2                                               </td><td>P132                                             </td><td>0.001949328                                      </td><td>0.005010000                                      </td><td>0.000781512                                      </td><td>0.000308839                                      </td><td>0.00011588                                       </td></tr>\n",
       "\t<tr><td>X513_Group1C_142dpi_LV_bottom_163_G_A3_P132.mzXML</td><td>513                                              </td><td>naive                                            </td><td>142dpi                                           </td><td>LV_bottom                                        </td><td>A3                                               </td><td>P132                                             </td><td>0.001434203                                      </td><td>0.004690000                                      </td><td>0.000345234                                      </td><td>0.000658709                                      </td><td>0.00000000                                       </td></tr>\n",
       "\t<tr><td>X514_Group1C_142dpi_LV_bottom_164_G_A4_P132.mzXML</td><td>514                                              </td><td>naive                                            </td><td>142dpi                                           </td><td>LV_bottom                                        </td><td>A4                                               </td><td>P132                                             </td><td>0.001641283                                      </td><td>0.003340000                                      </td><td>0.000589426                                      </td><td>0.000083400                                      </td><td>0.00000000                                       </td></tr>\n",
       "\t<tr><td>X515_Group1C_142dpi_LV_bottom_165_G_A5_P132.mzXML</td><td>515                                              </td><td>naive                                            </td><td>142dpi                                           </td><td>LV_bottom                                        </td><td>A5                                               </td><td>P132                                             </td><td>0.001665581                                      </td><td>0.005882812                                      </td><td>0.000535521                                      </td><td>0.000000000                                      </td><td>0.00000000                                       </td></tr>\n",
       "\t<tr><td>X531_Group1C_142dpi_LV_bottom_166_G_A6_P132.mzXML</td><td>531                                              </td><td>naive                                            </td><td>142dpi                                           </td><td>LV_bottom                                        </td><td>A6                                               </td><td>P132                                             </td><td>0.001219054                                      </td><td>0.003260000                                      </td><td>0.000628733                                      </td><td>0.000790339                                      </td><td>0.00006560                                       </td></tr>\n",
       "</tbody>\n",
       "</table>\n"
      ],
      "text/latex": [
       "\\begin{tabular}{r|llllllllllll}\n",
       " filename & MouseID & Treatmentgroup & DPI & organ & well\\_position & plate & mass\\_400 & mass\\_500 & mass\\_600 & mass\\_700 & mass\\_800\\\\\n",
       "\\hline\n",
       "\t X511\\_Group1C\\_142dpi\\_LV\\_bottom\\_161\\_G\\_A1\\_P132.mzXML & 511                                                               & naive                                                             & 142dpi                                                            & LV\\_bottom                                                       & A1                                                                & P132                                                              & 0.002386624                                                       & 0.006808896                                                       & 0.000837413                                                       & 0.000237425                                                       & 0.00000000                                                       \\\\\n",
       "\t X512\\_Group1C\\_142dpi\\_LV\\_bottom\\_162\\_G\\_A2\\_P132.mzXML & 512                                                               & naive                                                             & 142dpi                                                            & LV\\_bottom                                                       & A2                                                                & P132                                                              & 0.001949328                                                       & 0.005010000                                                       & 0.000781512                                                       & 0.000308839                                                       & 0.00011588                                                       \\\\\n",
       "\t X513\\_Group1C\\_142dpi\\_LV\\_bottom\\_163\\_G\\_A3\\_P132.mzXML & 513                                                               & naive                                                             & 142dpi                                                            & LV\\_bottom                                                       & A3                                                                & P132                                                              & 0.001434203                                                       & 0.004690000                                                       & 0.000345234                                                       & 0.000658709                                                       & 0.00000000                                                       \\\\\n",
       "\t X514\\_Group1C\\_142dpi\\_LV\\_bottom\\_164\\_G\\_A4\\_P132.mzXML & 514                                                               & naive                                                             & 142dpi                                                            & LV\\_bottom                                                       & A4                                                                & P132                                                              & 0.001641283                                                       & 0.003340000                                                       & 0.000589426                                                       & 0.000083400                                                       & 0.00000000                                                       \\\\\n",
       "\t X515\\_Group1C\\_142dpi\\_LV\\_bottom\\_165\\_G\\_A5\\_P132.mzXML & 515                                                               & naive                                                             & 142dpi                                                            & LV\\_bottom                                                       & A5                                                                & P132                                                              & 0.001665581                                                       & 0.005882812                                                       & 0.000535521                                                       & 0.000000000                                                       & 0.00000000                                                       \\\\\n",
       "\t X531\\_Group1C\\_142dpi\\_LV\\_bottom\\_166\\_G\\_A6\\_P132.mzXML & 531                                                               & naive                                                             & 142dpi                                                            & LV\\_bottom                                                       & A6                                                                & P132                                                              & 0.001219054                                                       & 0.003260000                                                       & 0.000628733                                                       & 0.000790339                                                       & 0.00006560                                                       \\\\\n",
       "\\end{tabular}\n"
      ],
      "text/markdown": [
       "\n",
       "| filename | MouseID | Treatmentgroup | DPI | organ | well_position | plate | mass_400 | mass_500 | mass_600 | mass_700 | mass_800 |\n",
       "|---|---|---|---|---|---|---|---|---|---|---|---|\n",
       "| X511_Group1C_142dpi_LV_bottom_161_G_A1_P132.mzXML | 511                                               | naive                                             | 142dpi                                            | LV_bottom                                         | A1                                                | P132                                              | 0.002386624                                       | 0.006808896                                       | 0.000837413                                       | 0.000237425                                       | 0.00000000                                        |\n",
       "| X512_Group1C_142dpi_LV_bottom_162_G_A2_P132.mzXML | 512                                               | naive                                             | 142dpi                                            | LV_bottom                                         | A2                                                | P132                                              | 0.001949328                                       | 0.005010000                                       | 0.000781512                                       | 0.000308839                                       | 0.00011588                                        |\n",
       "| X513_Group1C_142dpi_LV_bottom_163_G_A3_P132.mzXML | 513                                               | naive                                             | 142dpi                                            | LV_bottom                                         | A3                                                | P132                                              | 0.001434203                                       | 0.004690000                                       | 0.000345234                                       | 0.000658709                                       | 0.00000000                                        |\n",
       "| X514_Group1C_142dpi_LV_bottom_164_G_A4_P132.mzXML | 514                                               | naive                                             | 142dpi                                            | LV_bottom                                         | A4                                                | P132                                              | 0.001641283                                       | 0.003340000                                       | 0.000589426                                       | 0.000083400                                       | 0.00000000                                        |\n",
       "| X515_Group1C_142dpi_LV_bottom_165_G_A5_P132.mzXML | 515                                               | naive                                             | 142dpi                                            | LV_bottom                                         | A5                                                | P132                                              | 0.001665581                                       | 0.005882812                                       | 0.000535521                                       | 0.000000000                                       | 0.00000000                                        |\n",
       "| X531_Group1C_142dpi_LV_bottom_166_G_A6_P132.mzXML | 531                                               | naive                                             | 142dpi                                            | LV_bottom                                         | A6                                                | P132                                              | 0.001219054                                       | 0.003260000                                       | 0.000628733                                       | 0.000790339                                       | 0.00006560                                        |\n",
       "\n"
      ],
      "text/plain": [
       "  filename                                          MouseID Treatmentgroup\n",
       "1 X511_Group1C_142dpi_LV_bottom_161_G_A1_P132.mzXML 511     naive         \n",
       "2 X512_Group1C_142dpi_LV_bottom_162_G_A2_P132.mzXML 512     naive         \n",
       "3 X513_Group1C_142dpi_LV_bottom_163_G_A3_P132.mzXML 513     naive         \n",
       "4 X514_Group1C_142dpi_LV_bottom_164_G_A4_P132.mzXML 514     naive         \n",
       "5 X515_Group1C_142dpi_LV_bottom_165_G_A5_P132.mzXML 515     naive         \n",
       "6 X531_Group1C_142dpi_LV_bottom_166_G_A6_P132.mzXML 531     naive         \n",
       "  DPI    organ     well_position plate mass_400    mass_500    mass_600   \n",
       "1 142dpi LV_bottom A1            P132  0.002386624 0.006808896 0.000837413\n",
       "2 142dpi LV_bottom A2            P132  0.001949328 0.005010000 0.000781512\n",
       "3 142dpi LV_bottom A3            P132  0.001434203 0.004690000 0.000345234\n",
       "4 142dpi LV_bottom A4            P132  0.001641283 0.003340000 0.000589426\n",
       "5 142dpi LV_bottom A5            P132  0.001665581 0.005882812 0.000535521\n",
       "6 142dpi LV_bottom A6            P132  0.001219054 0.003260000 0.000628733\n",
       "  mass_700    mass_800  \n",
       "1 0.000237425 0.00000000\n",
       "2 0.000308839 0.00011588\n",
       "3 0.000658709 0.00000000\n",
       "4 0.000083400 0.00000000\n",
       "5 0.000000000 0.00000000\n",
       "6 0.000790339 0.00006560"
      ]
     },
     "metadata": {},
     "output_type": "display_data"
    },
    {
     "data": {
      "text/html": [
       "<ol class=list-inline>\n",
       "\t<li>60</li>\n",
       "\t<li>12</li>\n",
       "</ol>\n"
      ],
      "text/latex": [
       "\\begin{enumerate*}\n",
       "\\item 60\n",
       "\\item 12\n",
       "\\end{enumerate*}\n"
      ],
      "text/markdown": [
       "1. 60\n",
       "2. 12\n",
       "\n",
       "\n"
      ],
      "text/plain": [
       "[1] 60 12"
      ]
     },
     "metadata": {},
     "output_type": "display_data"
    }
   ],
   "source": [
    "head(a)\n",
    "dim(a)"
   ]
  },
  {
   "cell_type": "code",
   "execution_count": 3,
   "metadata": {},
   "outputs": [
    {
     "data": {
      "text/html": [
       "<table>\n",
       "<thead><tr><th></th><th scope=col>filename</th><th scope=col>MouseID</th><th scope=col>Treatmentgroup</th><th scope=col>DPI</th><th scope=col>organ</th><th scope=col>well_position</th><th scope=col>plate</th><th scope=col>mass_400</th><th scope=col>mass_500</th><th scope=col>mass_600</th><th scope=col>mass_700</th><th scope=col>mass_800</th></tr></thead>\n",
       "<tbody>\n",
       "\t<tr><th scope=row>16</th><td>X581_Group3E_142dpi_LV_bottom_176_G_B4_P132.mzXML</td><td>581                                              </td><td>infected                                         </td><td>142dpi                                           </td><td>LV_bottom                                        </td><td>B4                                               </td><td>P132                                             </td><td>0.002222101                                      </td><td>0.004490000                                      </td><td>0.000513737                                      </td><td>0.000079500                                      </td><td>0.000163421                                      </td></tr>\n",
       "\t<tr><th scope=row>17</th><td>X582_Group3E_142dpi_LV_bottom_177_G_B5_P132.mzXML</td><td>582                                              </td><td>infected                                         </td><td>142dpi                                           </td><td>LV_bottom                                        </td><td>B5                                               </td><td>P132                                             </td><td>0.001739643                                      </td><td>0.007251383                                      </td><td>0.000362827                                      </td><td>0.002699924                                      </td><td>0.000707577                                      </td></tr>\n",
       "\t<tr><th scope=row>18</th><td>X583_Group3E_142dpi_LV_bottom_178_G_B6_P132.mzXML</td><td>583                                              </td><td>infected                                         </td><td>142dpi                                           </td><td>LV_bottom                                        </td><td>B6                                               </td><td>P132                                             </td><td>0.001386222                                      </td><td>0.004660000                                      </td><td>0.000276625                                      </td><td>0.002056273                                      </td><td>0.000102736                                      </td></tr>\n",
       "\t<tr><th scope=row>19</th><td>X584_Group3E_142dpi_LV_bottom_179_G_B7_P132.mzXML</td><td>584                                              </td><td>infected                                         </td><td>142dpi                                           </td><td>LV_bottom                                        </td><td>B7                                               </td><td>P132                                             </td><td>0.001221590                                      </td><td>0.003891675                                      </td><td>0.000361526                                      </td><td>0.000202556                                      </td><td>0.000116045                                      </td></tr>\n",
       "\t<tr><th scope=row>20</th><td>X585_Group3E_142dpi_LV_bottom_180_G_B8_P132.mzXML</td><td>585                                              </td><td>infected                                         </td><td>142dpi                                           </td><td>LV_bottom                                        </td><td>B8                                               </td><td>P132                                             </td><td>0.001385315                                      </td><td>0.005610814                                      </td><td>0.000221267                                      </td><td>0.001172862                                      </td><td>0.000026800                                      </td></tr>\n",
       "\t<tr><th scope=row>21</th><td>X611_Group9_142dpi_LV_bottom_181_G_B9_P132.mzXML </td><td>611                                              </td><td>combo                                            </td><td>142dpi                                           </td><td>LV_bottom                                        </td><td>B9                                               </td><td>P132                                             </td><td>0.001062645                                      </td><td>0.003010000                                      </td><td>0.000335309                                      </td><td>0.000388805                                      </td><td>0.000027700                                      </td></tr>\n",
       "</tbody>\n",
       "</table>\n"
      ],
      "text/latex": [
       "\\begin{tabular}{r|llllllllllll}\n",
       "  & filename & MouseID & Treatmentgroup & DPI & organ & well\\_position & plate & mass\\_400 & mass\\_500 & mass\\_600 & mass\\_700 & mass\\_800\\\\\n",
       "\\hline\n",
       "\t16 & X581\\_Group3E\\_142dpi\\_LV\\_bottom\\_176\\_G\\_B4\\_P132.mzXML & 581                                                               & infected                                                          & 142dpi                                                            & LV\\_bottom                                                       & B4                                                                & P132                                                              & 0.002222101                                                       & 0.004490000                                                       & 0.000513737                                                       & 0.000079500                                                       & 0.000163421                                                      \\\\\n",
       "\t17 & X582\\_Group3E\\_142dpi\\_LV\\_bottom\\_177\\_G\\_B5\\_P132.mzXML & 582                                                               & infected                                                          & 142dpi                                                            & LV\\_bottom                                                       & B5                                                                & P132                                                              & 0.001739643                                                       & 0.007251383                                                       & 0.000362827                                                       & 0.002699924                                                       & 0.000707577                                                      \\\\\n",
       "\t18 & X583\\_Group3E\\_142dpi\\_LV\\_bottom\\_178\\_G\\_B6\\_P132.mzXML & 583                                                               & infected                                                          & 142dpi                                                            & LV\\_bottom                                                       & B6                                                                & P132                                                              & 0.001386222                                                       & 0.004660000                                                       & 0.000276625                                                       & 0.002056273                                                       & 0.000102736                                                      \\\\\n",
       "\t19 & X584\\_Group3E\\_142dpi\\_LV\\_bottom\\_179\\_G\\_B7\\_P132.mzXML & 584                                                               & infected                                                          & 142dpi                                                            & LV\\_bottom                                                       & B7                                                                & P132                                                              & 0.001221590                                                       & 0.003891675                                                       & 0.000361526                                                       & 0.000202556                                                       & 0.000116045                                                      \\\\\n",
       "\t20 & X585\\_Group3E\\_142dpi\\_LV\\_bottom\\_180\\_G\\_B8\\_P132.mzXML & 585                                                               & infected                                                          & 142dpi                                                            & LV\\_bottom                                                       & B8                                                                & P132                                                              & 0.001385315                                                       & 0.005610814                                                       & 0.000221267                                                       & 0.001172862                                                       & 0.000026800                                                      \\\\\n",
       "\t21 & X611\\_Group9\\_142dpi\\_LV\\_bottom\\_181\\_G\\_B9\\_P132.mzXML  & 611                                                               & combo                                                             & 142dpi                                                            & LV\\_bottom                                                       & B9                                                                & P132                                                              & 0.001062645                                                       & 0.003010000                                                       & 0.000335309                                                       & 0.000388805                                                       & 0.000027700                                                      \\\\\n",
       "\\end{tabular}\n"
      ],
      "text/markdown": [
       "\n",
       "| <!--/--> | filename | MouseID | Treatmentgroup | DPI | organ | well_position | plate | mass_400 | mass_500 | mass_600 | mass_700 | mass_800 |\n",
       "|---|---|---|---|---|---|---|---|---|---|---|---|---|\n",
       "| 16 | X581_Group3E_142dpi_LV_bottom_176_G_B4_P132.mzXML | 581                                               | infected                                          | 142dpi                                            | LV_bottom                                         | B4                                                | P132                                              | 0.002222101                                       | 0.004490000                                       | 0.000513737                                       | 0.000079500                                       | 0.000163421                                       |\n",
       "| 17 | X582_Group3E_142dpi_LV_bottom_177_G_B5_P132.mzXML | 582                                               | infected                                          | 142dpi                                            | LV_bottom                                         | B5                                                | P132                                              | 0.001739643                                       | 0.007251383                                       | 0.000362827                                       | 0.002699924                                       | 0.000707577                                       |\n",
       "| 18 | X583_Group3E_142dpi_LV_bottom_178_G_B6_P132.mzXML | 583                                               | infected                                          | 142dpi                                            | LV_bottom                                         | B6                                                | P132                                              | 0.001386222                                       | 0.004660000                                       | 0.000276625                                       | 0.002056273                                       | 0.000102736                                       |\n",
       "| 19 | X584_Group3E_142dpi_LV_bottom_179_G_B7_P132.mzXML | 584                                               | infected                                          | 142dpi                                            | LV_bottom                                         | B7                                                | P132                                              | 0.001221590                                       | 0.003891675                                       | 0.000361526                                       | 0.000202556                                       | 0.000116045                                       |\n",
       "| 20 | X585_Group3E_142dpi_LV_bottom_180_G_B8_P132.mzXML | 585                                               | infected                                          | 142dpi                                            | LV_bottom                                         | B8                                                | P132                                              | 0.001385315                                       | 0.005610814                                       | 0.000221267                                       | 0.001172862                                       | 0.000026800                                       |\n",
       "| 21 | X611_Group9_142dpi_LV_bottom_181_G_B9_P132.mzXML  | 611                                               | combo                                             | 142dpi                                            | LV_bottom                                         | B9                                                | P132                                              | 0.001062645                                       | 0.003010000                                       | 0.000335309                                       | 0.000388805                                       | 0.000027700                                       |\n",
       "\n"
      ],
      "text/plain": [
       "   filename                                          MouseID Treatmentgroup\n",
       "16 X581_Group3E_142dpi_LV_bottom_176_G_B4_P132.mzXML 581     infected      \n",
       "17 X582_Group3E_142dpi_LV_bottom_177_G_B5_P132.mzXML 582     infected      \n",
       "18 X583_Group3E_142dpi_LV_bottom_178_G_B6_P132.mzXML 583     infected      \n",
       "19 X584_Group3E_142dpi_LV_bottom_179_G_B7_P132.mzXML 584     infected      \n",
       "20 X585_Group3E_142dpi_LV_bottom_180_G_B8_P132.mzXML 585     infected      \n",
       "21 X611_Group9_142dpi_LV_bottom_181_G_B9_P132.mzXML  611     combo         \n",
       "   DPI    organ     well_position plate mass_400    mass_500    mass_600   \n",
       "16 142dpi LV_bottom B4            P132  0.002222101 0.004490000 0.000513737\n",
       "17 142dpi LV_bottom B5            P132  0.001739643 0.007251383 0.000362827\n",
       "18 142dpi LV_bottom B6            P132  0.001386222 0.004660000 0.000276625\n",
       "19 142dpi LV_bottom B7            P132  0.001221590 0.003891675 0.000361526\n",
       "20 142dpi LV_bottom B8            P132  0.001385315 0.005610814 0.000221267\n",
       "21 142dpi LV_bottom B9            P132  0.001062645 0.003010000 0.000335309\n",
       "   mass_700    mass_800   \n",
       "16 0.000079500 0.000163421\n",
       "17 0.002699924 0.000707577\n",
       "18 0.002056273 0.000102736\n",
       "19 0.000202556 0.000116045\n",
       "20 0.001172862 0.000026800\n",
       "21 0.000388805 0.000027700"
      ]
     },
     "metadata": {},
     "output_type": "display_data"
    },
    {
     "data": {
      "text/html": [
       "<ol class=list-inline>\n",
       "\t<li>30</li>\n",
       "\t<li>12</li>\n",
       "</ol>\n"
      ],
      "text/latex": [
       "\\begin{enumerate*}\n",
       "\\item 30\n",
       "\\item 12\n",
       "\\end{enumerate*}\n"
      ],
      "text/markdown": [
       "1. 30\n",
       "2. 12\n",
       "\n",
       "\n"
      ],
      "text/plain": [
       "[1] 30 12"
      ]
     },
     "metadata": {},
     "output_type": "display_data"
    }
   ],
   "source": [
    "features_pos<-droplevels(subset(a, a$Treatmentgroup==c(\"infected\")|a$Treatmentgroup==c(\"combo\")))\n",
    "head(features_pos)\n",
    "dim(features_pos)"
   ]
  },
  {
   "cell_type": "code",
   "execution_count": 4,
   "metadata": {
    "scrolled": false
   },
   "outputs": [
    {
     "data": {
      "text/html": [
       "<table>\n",
       "<thead><tr><th></th><th scope=col>mass_400</th><th scope=col>mass_500</th><th scope=col>mass_600</th><th scope=col>mass_700</th><th scope=col>mass_800</th></tr></thead>\n",
       "<tbody>\n",
       "\t<tr><th scope=row>16</th><td>0.002222101</td><td>0.004490000</td><td>0.000513737</td><td>0.000079500</td><td>0.000163421</td></tr>\n",
       "\t<tr><th scope=row>17</th><td>0.001739643</td><td>0.007251383</td><td>0.000362827</td><td>0.002699924</td><td>0.000707577</td></tr>\n",
       "\t<tr><th scope=row>18</th><td>0.001386222</td><td>0.004660000</td><td>0.000276625</td><td>0.002056273</td><td>0.000102736</td></tr>\n",
       "\t<tr><th scope=row>19</th><td>0.001221590</td><td>0.003891675</td><td>0.000361526</td><td>0.000202556</td><td>0.000116045</td></tr>\n",
       "\t<tr><th scope=row>20</th><td>0.001385315</td><td>0.005610814</td><td>0.000221267</td><td>0.001172862</td><td>0.000026800</td></tr>\n",
       "\t<tr><th scope=row>21</th><td>0.001062645</td><td>0.003010000</td><td>0.000335309</td><td>0.000388805</td><td>0.000027700</td></tr>\n",
       "</tbody>\n",
       "</table>\n"
      ],
      "text/latex": [
       "\\begin{tabular}{r|lllll}\n",
       "  & mass\\_400 & mass\\_500 & mass\\_600 & mass\\_700 & mass\\_800\\\\\n",
       "\\hline\n",
       "\t16 & 0.002222101 & 0.004490000 & 0.000513737 & 0.000079500 & 0.000163421\\\\\n",
       "\t17 & 0.001739643 & 0.007251383 & 0.000362827 & 0.002699924 & 0.000707577\\\\\n",
       "\t18 & 0.001386222 & 0.004660000 & 0.000276625 & 0.002056273 & 0.000102736\\\\\n",
       "\t19 & 0.001221590 & 0.003891675 & 0.000361526 & 0.000202556 & 0.000116045\\\\\n",
       "\t20 & 0.001385315 & 0.005610814 & 0.000221267 & 0.001172862 & 0.000026800\\\\\n",
       "\t21 & 0.001062645 & 0.003010000 & 0.000335309 & 0.000388805 & 0.000027700\\\\\n",
       "\\end{tabular}\n"
      ],
      "text/markdown": [
       "\n",
       "| <!--/--> | mass_400 | mass_500 | mass_600 | mass_700 | mass_800 |\n",
       "|---|---|---|---|---|---|\n",
       "| 16 | 0.002222101 | 0.004490000 | 0.000513737 | 0.000079500 | 0.000163421 |\n",
       "| 17 | 0.001739643 | 0.007251383 | 0.000362827 | 0.002699924 | 0.000707577 |\n",
       "| 18 | 0.001386222 | 0.004660000 | 0.000276625 | 0.002056273 | 0.000102736 |\n",
       "| 19 | 0.001221590 | 0.003891675 | 0.000361526 | 0.000202556 | 0.000116045 |\n",
       "| 20 | 0.001385315 | 0.005610814 | 0.000221267 | 0.001172862 | 0.000026800 |\n",
       "| 21 | 0.001062645 | 0.003010000 | 0.000335309 | 0.000388805 | 0.000027700 |\n",
       "\n"
      ],
      "text/plain": [
       "   mass_400    mass_500    mass_600    mass_700    mass_800   \n",
       "16 0.002222101 0.004490000 0.000513737 0.000079500 0.000163421\n",
       "17 0.001739643 0.007251383 0.000362827 0.002699924 0.000707577\n",
       "18 0.001386222 0.004660000 0.000276625 0.002056273 0.000102736\n",
       "19 0.001221590 0.003891675 0.000361526 0.000202556 0.000116045\n",
       "20 0.001385315 0.005610814 0.000221267 0.001172862 0.000026800\n",
       "21 0.001062645 0.003010000 0.000335309 0.000388805 0.000027700"
      ]
     },
     "metadata": {},
     "output_type": "display_data"
    },
    {
     "data": {
      "text/html": [
       "<dl class=dl-horizontal>\n",
       "\t<dt>mass_400</dt>\n",
       "\t\t<dd>1</dd>\n",
       "\t<dt>mass_500</dt>\n",
       "\t\t<dd>2</dd>\n",
       "\t<dt>mass_600</dt>\n",
       "\t\t<dd>3</dd>\n",
       "\t<dt>mass_700</dt>\n",
       "\t\t<dd>4</dd>\n",
       "\t<dt>mass_800</dt>\n",
       "\t\t<dd>5</dd>\n",
       "</dl>\n"
      ],
      "text/latex": [
       "\\begin{description*}\n",
       "\\item[mass\\textbackslash{}\\_400] 1\n",
       "\\item[mass\\textbackslash{}\\_500] 2\n",
       "\\item[mass\\textbackslash{}\\_600] 3\n",
       "\\item[mass\\textbackslash{}\\_700] 4\n",
       "\\item[mass\\textbackslash{}\\_800] 5\n",
       "\\end{description*}\n"
      ],
      "text/markdown": [
       "mass_400\n",
       ":   1mass_500\n",
       ":   2mass_600\n",
       ":   3mass_700\n",
       ":   4mass_800\n",
       ":   5\n",
       "\n"
      ],
      "text/plain": [
       "mass_400 mass_500 mass_600 mass_700 mass_800 \n",
       "       1        2        3        4        5 "
      ]
     },
     "metadata": {},
     "output_type": "display_data"
    },
    {
     "data": {
      "text/html": [
       "<table>\n",
       "<thead><tr><th></th><th scope=col>mass_400</th><th scope=col>mass_500</th><th scope=col>mass_600</th><th scope=col>mass_700</th><th scope=col>mass_800</th></tr></thead>\n",
       "<tbody>\n",
       "\t<tr><th scope=row>16</th><td>0.002222101</td><td>0.004490000</td><td>0.000513737</td><td>0.000079500</td><td>0.000163421</td></tr>\n",
       "\t<tr><th scope=row>17</th><td>0.001739643</td><td>0.007251383</td><td>0.000362827</td><td>0.002699924</td><td>0.000707577</td></tr>\n",
       "\t<tr><th scope=row>18</th><td>0.001386222</td><td>0.004660000</td><td>0.000276625</td><td>0.002056273</td><td>0.000102736</td></tr>\n",
       "\t<tr><th scope=row>19</th><td>0.001221590</td><td>0.003891675</td><td>0.000361526</td><td>0.000202556</td><td>0.000116045</td></tr>\n",
       "\t<tr><th scope=row>20</th><td>0.001385315</td><td>0.005610814</td><td>0.000221267</td><td>0.001172862</td><td>0.000026800</td></tr>\n",
       "\t<tr><th scope=row>21</th><td>0.001062645</td><td>0.003010000</td><td>0.000335309</td><td>0.000388805</td><td>0.000027700</td></tr>\n",
       "\t<tr><th scope=row>22</th><td>0.000811914</td><td>0.003326714</td><td>0.000184004</td><td>0.000000000</td><td>0.000000000</td></tr>\n",
       "\t<tr><th scope=row>23</th><td>0.001695508</td><td>0.004860000</td><td>0.000274761</td><td>0.000260920</td><td>0.000210027</td></tr>\n",
       "\t<tr><th scope=row>24</th><td>0.002129603</td><td>0.004932729</td><td>0.000528162</td><td>0.000000000</td><td>0.000000000</td></tr>\n",
       "\t<tr><th scope=row>25</th><td>0.001465557</td><td>0.004510000</td><td>0.000235537</td><td>0.000694272</td><td>0.000000000</td></tr>\n",
       "\t<tr><th scope=row>31</th><td>0.001502078</td><td>0.005147911</td><td>0.000250013</td><td>0.001024529</td><td>0.000072800</td></tr>\n",
       "\t<tr><th scope=row>32</th><td>0.000898835</td><td>0.004464547</td><td>0.000076600</td><td>0.000660477</td><td>0.000000000</td></tr>\n",
       "\t<tr><th scope=row>33</th><td>0.001210896</td><td>0.004538624</td><td>0.000159301</td><td>0.000701975</td><td>0.000000000</td></tr>\n",
       "\t<tr><th scope=row>34</th><td>0.001234798</td><td>0.004125246</td><td>0.000257433</td><td>0.000409967</td><td>0.000071600</td></tr>\n",
       "\t<tr><th scope=row>35</th><td>0.001471597</td><td>0.003995852</td><td>0.000196376</td><td>0.000000000</td><td>0.000103846</td></tr>\n",
       "\t<tr><th scope=row>36</th><td>0.001083977</td><td>0.003967501</td><td>0.000000000</td><td>0.000036500</td><td>0.000000000</td></tr>\n",
       "\t<tr><th scope=row>37</th><td>0.001402901</td><td>0.006183046</td><td>0.000166631</td><td>0.000260642</td><td>0.000000000</td></tr>\n",
       "\t<tr><th scope=row>38</th><td>0.001415367</td><td>0.003316345</td><td>0.000108669</td><td>0.000000000</td><td>0.000000000</td></tr>\n",
       "\t<tr><th scope=row>39</th><td>0.001924595</td><td>0.005143229</td><td>0.000159140</td><td>0.000601471</td><td>0.000000000</td></tr>\n",
       "\t<tr><th scope=row>40</th><td>0.001460686</td><td>0.004244063</td><td>0.000285706</td><td>0.000066100</td><td>0.000090100</td></tr>\n",
       "\t<tr><th scope=row>46</th><td>0.001465284</td><td>0.004141659</td><td>0.000202241</td><td>0.000348033</td><td>0.000000000</td></tr>\n",
       "\t<tr><th scope=row>47</th><td>0.000633482</td><td>0.004077569</td><td>0.000000000</td><td>0.000744383</td><td>0.000000000</td></tr>\n",
       "\t<tr><th scope=row>48</th><td>0.001289179</td><td>0.004264533</td><td>0.000033900</td><td>0.000196109</td><td>0.000000000</td></tr>\n",
       "\t<tr><th scope=row>49</th><td>0.000731768</td><td>0.003198521</td><td>0.000000000</td><td>0.000224952</td><td>0.000000000</td></tr>\n",
       "\t<tr><th scope=row>50</th><td>0.000953232</td><td>0.003155758</td><td>0.000199600</td><td>0.000000000</td><td>0.000000000</td></tr>\n",
       "\t<tr><th scope=row>51</th><td>0.000842396</td><td>0.002737058</td><td>0.000145792</td><td>0.000000000</td><td>0.000000000</td></tr>\n",
       "\t<tr><th scope=row>52</th><td>0.001313667</td><td>0.004140448</td><td>0.000045400</td><td>0.000000000</td><td>0.000000000</td></tr>\n",
       "\t<tr><th scope=row>53</th><td>0.001682174</td><td>0.005174427</td><td>0.000162056</td><td>0.001105236</td><td>0.000170280</td></tr>\n",
       "\t<tr><th scope=row>54</th><td>0.001333159</td><td>0.004920000</td><td>0.000117959</td><td>0.000542336</td><td>0.000000000</td></tr>\n",
       "\t<tr><th scope=row>55</th><td>0.001414720</td><td>0.004396390</td><td>0.000034300</td><td>0.002005957</td><td>0.000000000</td></tr>\n",
       "</tbody>\n",
       "</table>\n"
      ],
      "text/latex": [
       "\\begin{tabular}{r|lllll}\n",
       "  & mass\\_400 & mass\\_500 & mass\\_600 & mass\\_700 & mass\\_800\\\\\n",
       "\\hline\n",
       "\t16 & 0.002222101 & 0.004490000 & 0.000513737 & 0.000079500 & 0.000163421\\\\\n",
       "\t17 & 0.001739643 & 0.007251383 & 0.000362827 & 0.002699924 & 0.000707577\\\\\n",
       "\t18 & 0.001386222 & 0.004660000 & 0.000276625 & 0.002056273 & 0.000102736\\\\\n",
       "\t19 & 0.001221590 & 0.003891675 & 0.000361526 & 0.000202556 & 0.000116045\\\\\n",
       "\t20 & 0.001385315 & 0.005610814 & 0.000221267 & 0.001172862 & 0.000026800\\\\\n",
       "\t21 & 0.001062645 & 0.003010000 & 0.000335309 & 0.000388805 & 0.000027700\\\\\n",
       "\t22 & 0.000811914 & 0.003326714 & 0.000184004 & 0.000000000 & 0.000000000\\\\\n",
       "\t23 & 0.001695508 & 0.004860000 & 0.000274761 & 0.000260920 & 0.000210027\\\\\n",
       "\t24 & 0.002129603 & 0.004932729 & 0.000528162 & 0.000000000 & 0.000000000\\\\\n",
       "\t25 & 0.001465557 & 0.004510000 & 0.000235537 & 0.000694272 & 0.000000000\\\\\n",
       "\t31 & 0.001502078 & 0.005147911 & 0.000250013 & 0.001024529 & 0.000072800\\\\\n",
       "\t32 & 0.000898835 & 0.004464547 & 0.000076600 & 0.000660477 & 0.000000000\\\\\n",
       "\t33 & 0.001210896 & 0.004538624 & 0.000159301 & 0.000701975 & 0.000000000\\\\\n",
       "\t34 & 0.001234798 & 0.004125246 & 0.000257433 & 0.000409967 & 0.000071600\\\\\n",
       "\t35 & 0.001471597 & 0.003995852 & 0.000196376 & 0.000000000 & 0.000103846\\\\\n",
       "\t36 & 0.001083977 & 0.003967501 & 0.000000000 & 0.000036500 & 0.000000000\\\\\n",
       "\t37 & 0.001402901 & 0.006183046 & 0.000166631 & 0.000260642 & 0.000000000\\\\\n",
       "\t38 & 0.001415367 & 0.003316345 & 0.000108669 & 0.000000000 & 0.000000000\\\\\n",
       "\t39 & 0.001924595 & 0.005143229 & 0.000159140 & 0.000601471 & 0.000000000\\\\\n",
       "\t40 & 0.001460686 & 0.004244063 & 0.000285706 & 0.000066100 & 0.000090100\\\\\n",
       "\t46 & 0.001465284 & 0.004141659 & 0.000202241 & 0.000348033 & 0.000000000\\\\\n",
       "\t47 & 0.000633482 & 0.004077569 & 0.000000000 & 0.000744383 & 0.000000000\\\\\n",
       "\t48 & 0.001289179 & 0.004264533 & 0.000033900 & 0.000196109 & 0.000000000\\\\\n",
       "\t49 & 0.000731768 & 0.003198521 & 0.000000000 & 0.000224952 & 0.000000000\\\\\n",
       "\t50 & 0.000953232 & 0.003155758 & 0.000199600 & 0.000000000 & 0.000000000\\\\\n",
       "\t51 & 0.000842396 & 0.002737058 & 0.000145792 & 0.000000000 & 0.000000000\\\\\n",
       "\t52 & 0.001313667 & 0.004140448 & 0.000045400 & 0.000000000 & 0.000000000\\\\\n",
       "\t53 & 0.001682174 & 0.005174427 & 0.000162056 & 0.001105236 & 0.000170280\\\\\n",
       "\t54 & 0.001333159 & 0.004920000 & 0.000117959 & 0.000542336 & 0.000000000\\\\\n",
       "\t55 & 0.001414720 & 0.004396390 & 0.000034300 & 0.002005957 & 0.000000000\\\\\n",
       "\\end{tabular}\n"
      ],
      "text/markdown": [
       "\n",
       "| <!--/--> | mass_400 | mass_500 | mass_600 | mass_700 | mass_800 |\n",
       "|---|---|---|---|---|---|\n",
       "| 16 | 0.002222101 | 0.004490000 | 0.000513737 | 0.000079500 | 0.000163421 |\n",
       "| 17 | 0.001739643 | 0.007251383 | 0.000362827 | 0.002699924 | 0.000707577 |\n",
       "| 18 | 0.001386222 | 0.004660000 | 0.000276625 | 0.002056273 | 0.000102736 |\n",
       "| 19 | 0.001221590 | 0.003891675 | 0.000361526 | 0.000202556 | 0.000116045 |\n",
       "| 20 | 0.001385315 | 0.005610814 | 0.000221267 | 0.001172862 | 0.000026800 |\n",
       "| 21 | 0.001062645 | 0.003010000 | 0.000335309 | 0.000388805 | 0.000027700 |\n",
       "| 22 | 0.000811914 | 0.003326714 | 0.000184004 | 0.000000000 | 0.000000000 |\n",
       "| 23 | 0.001695508 | 0.004860000 | 0.000274761 | 0.000260920 | 0.000210027 |\n",
       "| 24 | 0.002129603 | 0.004932729 | 0.000528162 | 0.000000000 | 0.000000000 |\n",
       "| 25 | 0.001465557 | 0.004510000 | 0.000235537 | 0.000694272 | 0.000000000 |\n",
       "| 31 | 0.001502078 | 0.005147911 | 0.000250013 | 0.001024529 | 0.000072800 |\n",
       "| 32 | 0.000898835 | 0.004464547 | 0.000076600 | 0.000660477 | 0.000000000 |\n",
       "| 33 | 0.001210896 | 0.004538624 | 0.000159301 | 0.000701975 | 0.000000000 |\n",
       "| 34 | 0.001234798 | 0.004125246 | 0.000257433 | 0.000409967 | 0.000071600 |\n",
       "| 35 | 0.001471597 | 0.003995852 | 0.000196376 | 0.000000000 | 0.000103846 |\n",
       "| 36 | 0.001083977 | 0.003967501 | 0.000000000 | 0.000036500 | 0.000000000 |\n",
       "| 37 | 0.001402901 | 0.006183046 | 0.000166631 | 0.000260642 | 0.000000000 |\n",
       "| 38 | 0.001415367 | 0.003316345 | 0.000108669 | 0.000000000 | 0.000000000 |\n",
       "| 39 | 0.001924595 | 0.005143229 | 0.000159140 | 0.000601471 | 0.000000000 |\n",
       "| 40 | 0.001460686 | 0.004244063 | 0.000285706 | 0.000066100 | 0.000090100 |\n",
       "| 46 | 0.001465284 | 0.004141659 | 0.000202241 | 0.000348033 | 0.000000000 |\n",
       "| 47 | 0.000633482 | 0.004077569 | 0.000000000 | 0.000744383 | 0.000000000 |\n",
       "| 48 | 0.001289179 | 0.004264533 | 0.000033900 | 0.000196109 | 0.000000000 |\n",
       "| 49 | 0.000731768 | 0.003198521 | 0.000000000 | 0.000224952 | 0.000000000 |\n",
       "| 50 | 0.000953232 | 0.003155758 | 0.000199600 | 0.000000000 | 0.000000000 |\n",
       "| 51 | 0.000842396 | 0.002737058 | 0.000145792 | 0.000000000 | 0.000000000 |\n",
       "| 52 | 0.001313667 | 0.004140448 | 0.000045400 | 0.000000000 | 0.000000000 |\n",
       "| 53 | 0.001682174 | 0.005174427 | 0.000162056 | 0.001105236 | 0.000170280 |\n",
       "| 54 | 0.001333159 | 0.004920000 | 0.000117959 | 0.000542336 | 0.000000000 |\n",
       "| 55 | 0.001414720 | 0.004396390 | 0.000034300 | 0.002005957 | 0.000000000 |\n",
       "\n"
      ],
      "text/plain": [
       "   mass_400    mass_500    mass_600    mass_700    mass_800   \n",
       "16 0.002222101 0.004490000 0.000513737 0.000079500 0.000163421\n",
       "17 0.001739643 0.007251383 0.000362827 0.002699924 0.000707577\n",
       "18 0.001386222 0.004660000 0.000276625 0.002056273 0.000102736\n",
       "19 0.001221590 0.003891675 0.000361526 0.000202556 0.000116045\n",
       "20 0.001385315 0.005610814 0.000221267 0.001172862 0.000026800\n",
       "21 0.001062645 0.003010000 0.000335309 0.000388805 0.000027700\n",
       "22 0.000811914 0.003326714 0.000184004 0.000000000 0.000000000\n",
       "23 0.001695508 0.004860000 0.000274761 0.000260920 0.000210027\n",
       "24 0.002129603 0.004932729 0.000528162 0.000000000 0.000000000\n",
       "25 0.001465557 0.004510000 0.000235537 0.000694272 0.000000000\n",
       "31 0.001502078 0.005147911 0.000250013 0.001024529 0.000072800\n",
       "32 0.000898835 0.004464547 0.000076600 0.000660477 0.000000000\n",
       "33 0.001210896 0.004538624 0.000159301 0.000701975 0.000000000\n",
       "34 0.001234798 0.004125246 0.000257433 0.000409967 0.000071600\n",
       "35 0.001471597 0.003995852 0.000196376 0.000000000 0.000103846\n",
       "36 0.001083977 0.003967501 0.000000000 0.000036500 0.000000000\n",
       "37 0.001402901 0.006183046 0.000166631 0.000260642 0.000000000\n",
       "38 0.001415367 0.003316345 0.000108669 0.000000000 0.000000000\n",
       "39 0.001924595 0.005143229 0.000159140 0.000601471 0.000000000\n",
       "40 0.001460686 0.004244063 0.000285706 0.000066100 0.000090100\n",
       "46 0.001465284 0.004141659 0.000202241 0.000348033 0.000000000\n",
       "47 0.000633482 0.004077569 0.000000000 0.000744383 0.000000000\n",
       "48 0.001289179 0.004264533 0.000033900 0.000196109 0.000000000\n",
       "49 0.000731768 0.003198521 0.000000000 0.000224952 0.000000000\n",
       "50 0.000953232 0.003155758 0.000199600 0.000000000 0.000000000\n",
       "51 0.000842396 0.002737058 0.000145792 0.000000000 0.000000000\n",
       "52 0.001313667 0.004140448 0.000045400 0.000000000 0.000000000\n",
       "53 0.001682174 0.005174427 0.000162056 0.001105236 0.000170280\n",
       "54 0.001333159 0.004920000 0.000117959 0.000542336 0.000000000\n",
       "55 0.001414720 0.004396390 0.000034300 0.002005957 0.000000000"
      ]
     },
     "metadata": {},
     "output_type": "display_data"
    },
    {
     "data": {
      "text/html": [
       "<table>\n",
       "<thead><tr><th></th><th scope=col>filename</th><th scope=col>MouseID</th><th scope=col>Treatmentgroup</th><th scope=col>DPI</th><th scope=col>organ</th><th scope=col>well_position</th><th scope=col>plate</th><th scope=col>mass_400</th><th scope=col>mass_500</th><th scope=col>mass_600</th><th scope=col>mass_700</th><th scope=col>mass_800</th></tr></thead>\n",
       "<tbody>\n",
       "\t<tr><th scope=row>16</th><td>X581_Group3E_142dpi_LV_bottom_176_G_B4_P132.mzXML</td><td>581                                              </td><td>infected                                         </td><td>142dpi                                           </td><td>LV_bottom                                        </td><td>B4                                               </td><td>P132                                             </td><td>0.002222101                                      </td><td>0.004490000                                      </td><td>0.000513737                                      </td><td>0.000079500                                      </td><td>0.000163421                                      </td></tr>\n",
       "\t<tr><th scope=row>17</th><td>X582_Group3E_142dpi_LV_bottom_177_G_B5_P132.mzXML</td><td>582                                              </td><td>infected                                         </td><td>142dpi                                           </td><td>LV_bottom                                        </td><td>B5                                               </td><td>P132                                             </td><td>0.001739643                                      </td><td>0.007251383                                      </td><td>0.000362827                                      </td><td>0.002699924                                      </td><td>0.000707577                                      </td></tr>\n",
       "\t<tr><th scope=row>18</th><td>X583_Group3E_142dpi_LV_bottom_178_G_B6_P132.mzXML</td><td>583                                              </td><td>infected                                         </td><td>142dpi                                           </td><td>LV_bottom                                        </td><td>B6                                               </td><td>P132                                             </td><td>0.001386222                                      </td><td>0.004660000                                      </td><td>0.000276625                                      </td><td>0.002056273                                      </td><td>0.000102736                                      </td></tr>\n",
       "\t<tr><th scope=row>19</th><td>X584_Group3E_142dpi_LV_bottom_179_G_B7_P132.mzXML</td><td>584                                              </td><td>infected                                         </td><td>142dpi                                           </td><td>LV_bottom                                        </td><td>B7                                               </td><td>P132                                             </td><td>0.001221590                                      </td><td>0.003891675                                      </td><td>0.000361526                                      </td><td>0.000202556                                      </td><td>0.000116045                                      </td></tr>\n",
       "\t<tr><th scope=row>20</th><td>X585_Group3E_142dpi_LV_bottom_180_G_B8_P132.mzXML</td><td>585                                              </td><td>infected                                         </td><td>142dpi                                           </td><td>LV_bottom                                        </td><td>B8                                               </td><td>P132                                             </td><td>0.001385315                                      </td><td>0.005610814                                      </td><td>0.000221267                                      </td><td>0.001172862                                      </td><td>0.000026800                                      </td></tr>\n",
       "\t<tr><th scope=row>21</th><td>X611_Group9_142dpi_LV_bottom_181_G_B9_P132.mzXML </td><td>611                                              </td><td>combo                                            </td><td>142dpi                                           </td><td>LV_bottom                                        </td><td>B9                                               </td><td>P132                                             </td><td>0.001062645                                      </td><td>0.003010000                                      </td><td>0.000335309                                      </td><td>0.000388805                                      </td><td>0.000027700                                      </td></tr>\n",
       "</tbody>\n",
       "</table>\n"
      ],
      "text/latex": [
       "\\begin{tabular}{r|llllllllllll}\n",
       "  & filename & MouseID & Treatmentgroup & DPI & organ & well\\_position & plate & mass\\_400 & mass\\_500 & mass\\_600 & mass\\_700 & mass\\_800\\\\\n",
       "\\hline\n",
       "\t16 & X581\\_Group3E\\_142dpi\\_LV\\_bottom\\_176\\_G\\_B4\\_P132.mzXML & 581                                                               & infected                                                          & 142dpi                                                            & LV\\_bottom                                                       & B4                                                                & P132                                                              & 0.002222101                                                       & 0.004490000                                                       & 0.000513737                                                       & 0.000079500                                                       & 0.000163421                                                      \\\\\n",
       "\t17 & X582\\_Group3E\\_142dpi\\_LV\\_bottom\\_177\\_G\\_B5\\_P132.mzXML & 582                                                               & infected                                                          & 142dpi                                                            & LV\\_bottom                                                       & B5                                                                & P132                                                              & 0.001739643                                                       & 0.007251383                                                       & 0.000362827                                                       & 0.002699924                                                       & 0.000707577                                                      \\\\\n",
       "\t18 & X583\\_Group3E\\_142dpi\\_LV\\_bottom\\_178\\_G\\_B6\\_P132.mzXML & 583                                                               & infected                                                          & 142dpi                                                            & LV\\_bottom                                                       & B6                                                                & P132                                                              & 0.001386222                                                       & 0.004660000                                                       & 0.000276625                                                       & 0.002056273                                                       & 0.000102736                                                      \\\\\n",
       "\t19 & X584\\_Group3E\\_142dpi\\_LV\\_bottom\\_179\\_G\\_B7\\_P132.mzXML & 584                                                               & infected                                                          & 142dpi                                                            & LV\\_bottom                                                       & B7                                                                & P132                                                              & 0.001221590                                                       & 0.003891675                                                       & 0.000361526                                                       & 0.000202556                                                       & 0.000116045                                                      \\\\\n",
       "\t20 & X585\\_Group3E\\_142dpi\\_LV\\_bottom\\_180\\_G\\_B8\\_P132.mzXML & 585                                                               & infected                                                          & 142dpi                                                            & LV\\_bottom                                                       & B8                                                                & P132                                                              & 0.001385315                                                       & 0.005610814                                                       & 0.000221267                                                       & 0.001172862                                                       & 0.000026800                                                      \\\\\n",
       "\t21 & X611\\_Group9\\_142dpi\\_LV\\_bottom\\_181\\_G\\_B9\\_P132.mzXML  & 611                                                               & combo                                                             & 142dpi                                                            & LV\\_bottom                                                       & B9                                                                & P132                                                              & 0.001062645                                                       & 0.003010000                                                       & 0.000335309                                                       & 0.000388805                                                       & 0.000027700                                                      \\\\\n",
       "\\end{tabular}\n"
      ],
      "text/markdown": [
       "\n",
       "| <!--/--> | filename | MouseID | Treatmentgroup | DPI | organ | well_position | plate | mass_400 | mass_500 | mass_600 | mass_700 | mass_800 |\n",
       "|---|---|---|---|---|---|---|---|---|---|---|---|---|\n",
       "| 16 | X581_Group3E_142dpi_LV_bottom_176_G_B4_P132.mzXML | 581                                               | infected                                          | 142dpi                                            | LV_bottom                                         | B4                                                | P132                                              | 0.002222101                                       | 0.004490000                                       | 0.000513737                                       | 0.000079500                                       | 0.000163421                                       |\n",
       "| 17 | X582_Group3E_142dpi_LV_bottom_177_G_B5_P132.mzXML | 582                                               | infected                                          | 142dpi                                            | LV_bottom                                         | B5                                                | P132                                              | 0.001739643                                       | 0.007251383                                       | 0.000362827                                       | 0.002699924                                       | 0.000707577                                       |\n",
       "| 18 | X583_Group3E_142dpi_LV_bottom_178_G_B6_P132.mzXML | 583                                               | infected                                          | 142dpi                                            | LV_bottom                                         | B6                                                | P132                                              | 0.001386222                                       | 0.004660000                                       | 0.000276625                                       | 0.002056273                                       | 0.000102736                                       |\n",
       "| 19 | X584_Group3E_142dpi_LV_bottom_179_G_B7_P132.mzXML | 584                                               | infected                                          | 142dpi                                            | LV_bottom                                         | B7                                                | P132                                              | 0.001221590                                       | 0.003891675                                       | 0.000361526                                       | 0.000202556                                       | 0.000116045                                       |\n",
       "| 20 | X585_Group3E_142dpi_LV_bottom_180_G_B8_P132.mzXML | 585                                               | infected                                          | 142dpi                                            | LV_bottom                                         | B8                                                | P132                                              | 0.001385315                                       | 0.005610814                                       | 0.000221267                                       | 0.001172862                                       | 0.000026800                                       |\n",
       "| 21 | X611_Group9_142dpi_LV_bottom_181_G_B9_P132.mzXML  | 611                                               | combo                                             | 142dpi                                            | LV_bottom                                         | B9                                                | P132                                              | 0.001062645                                       | 0.003010000                                       | 0.000335309                                       | 0.000388805                                       | 0.000027700                                       |\n",
       "\n"
      ],
      "text/plain": [
       "   filename                                          MouseID Treatmentgroup\n",
       "16 X581_Group3E_142dpi_LV_bottom_176_G_B4_P132.mzXML 581     infected      \n",
       "17 X582_Group3E_142dpi_LV_bottom_177_G_B5_P132.mzXML 582     infected      \n",
       "18 X583_Group3E_142dpi_LV_bottom_178_G_B6_P132.mzXML 583     infected      \n",
       "19 X584_Group3E_142dpi_LV_bottom_179_G_B7_P132.mzXML 584     infected      \n",
       "20 X585_Group3E_142dpi_LV_bottom_180_G_B8_P132.mzXML 585     infected      \n",
       "21 X611_Group9_142dpi_LV_bottom_181_G_B9_P132.mzXML  611     combo         \n",
       "   DPI    organ     well_position plate mass_400    mass_500    mass_600   \n",
       "16 142dpi LV_bottom B4            P132  0.002222101 0.004490000 0.000513737\n",
       "17 142dpi LV_bottom B5            P132  0.001739643 0.007251383 0.000362827\n",
       "18 142dpi LV_bottom B6            P132  0.001386222 0.004660000 0.000276625\n",
       "19 142dpi LV_bottom B7            P132  0.001221590 0.003891675 0.000361526\n",
       "20 142dpi LV_bottom B8            P132  0.001385315 0.005610814 0.000221267\n",
       "21 142dpi LV_bottom B9            P132  0.001062645 0.003010000 0.000335309\n",
       "   mass_700    mass_800   \n",
       "16 0.000079500 0.000163421\n",
       "17 0.002699924 0.000707577\n",
       "18 0.002056273 0.000102736\n",
       "19 0.000202556 0.000116045\n",
       "20 0.001172862 0.000026800\n",
       "21 0.000388805 0.000027700"
      ]
     },
     "metadata": {},
     "output_type": "display_data"
    },
    {
     "data": {
      "text/html": [
       "<ol class=list-inline>\n",
       "\t<li>30</li>\n",
       "\t<li>12</li>\n",
       "</ol>\n"
      ],
      "text/latex": [
       "\\begin{enumerate*}\n",
       "\\item 30\n",
       "\\item 12\n",
       "\\end{enumerate*}\n"
      ],
      "text/markdown": [
       "1. 30\n",
       "2. 12\n",
       "\n",
       "\n"
      ],
      "text/plain": [
       "[1] 30 12"
      ]
     },
     "metadata": {},
     "output_type": "display_data"
    },
    {
     "data": {
      "text/html": [
       "<ol class=list-inline>\n",
       "\t<li>30</li>\n",
       "\t<li>5</li>\n",
       "</ol>\n"
      ],
      "text/latex": [
       "\\begin{enumerate*}\n",
       "\\item 30\n",
       "\\item 5\n",
       "\\end{enumerate*}\n"
      ],
      "text/markdown": [
       "1. 30\n",
       "2. 5\n",
       "\n",
       "\n"
      ],
      "text/plain": [
       "[1] 30  5"
      ]
     },
     "metadata": {},
     "output_type": "display_data"
    },
    {
     "data": {
      "text/html": [
       "<ol class=list-inline>\n",
       "\t<li>30</li>\n",
       "\t<li>5</li>\n",
       "</ol>\n"
      ],
      "text/latex": [
       "\\begin{enumerate*}\n",
       "\\item 30\n",
       "\\item 5\n",
       "\\end{enumerate*}\n"
      ],
      "text/markdown": [
       "1. 30\n",
       "2. 5\n",
       "\n",
       "\n"
      ],
      "text/plain": [
       "[1] 30  5"
      ]
     },
     "metadata": {},
     "output_type": "display_data"
    },
    {
     "data": {
      "text/html": [
       "<ol class=list-inline>\n",
       "\t<li>30</li>\n",
       "\t<li>12</li>\n",
       "</ol>\n"
      ],
      "text/latex": [
       "\\begin{enumerate*}\n",
       "\\item 30\n",
       "\\item 12\n",
       "\\end{enumerate*}\n"
      ],
      "text/markdown": [
       "1. 30\n",
       "2. 12\n",
       "\n",
       "\n"
      ],
      "text/plain": [
       "[1] 30 12"
      ]
     },
     "metadata": {},
     "output_type": "display_data"
    }
   ],
   "source": [
    "noMeta<-features_pos[,8:12]\n",
    "head(noMeta)\n",
    "not_zero<-which(colSums(noMeta) != 0)\n",
    "head(not_zero)\n",
    "nonzero <- noMeta[, not_zero]\n",
    "nonzero\n",
    "nonzero_wMeta<-cbind(features_pos[,1:7], nonzero)\n",
    "head(nonzero_wMeta)\n",
    "dim(features_pos)\n",
    "dim(noMeta)\n",
    "dim(nonzero)\n",
    "dim(nonzero_wMeta)"
   ]
  },
  {
   "cell_type": "code",
   "execution_count": 5,
   "metadata": {
    "scrolled": true
   },
   "outputs": [
    {
     "name": "stderr",
     "output_type": "stream",
     "text": [
      "Warning message in wilcox.test.default(x = c(0.000335309, 0.000184004, 0.000274761, :\n",
      "\"cannot compute exact p-value with ties\"Warning message in wilcox.test.default(x = c(0.000388805, 0, 0.00026092, 0, 0.000694272, :\n",
      "\"cannot compute exact p-value with ties\"Warning message in wilcox.test.default(x = c(2.77e-05, 0, 0.000210027, 0, 0, 0, :\n",
      "\"cannot compute exact p-value with ties\""
     ]
    },
    {
     "data": {
      "text/html": [
       "<ol class=list-inline>\n",
       "\t<li>0.412375778055245</li>\n",
       "\t<li>1</li>\n",
       "\t<li>0.533647306759947</li>\n",
       "\t<li>0.155863473097972</li>\n",
       "\t<li>0.197788248508324</li>\n",
       "</ol>\n"
      ],
      "text/latex": [
       "\\begin{enumerate*}\n",
       "\\item 0.412375778055245\n",
       "\\item 1\n",
       "\\item 0.533647306759947\n",
       "\\item 0.155863473097972\n",
       "\\item 0.197788248508324\n",
       "\\end{enumerate*}\n"
      ],
      "text/markdown": [
       "1. 0.412375778055245\n",
       "2. 1\n",
       "3. 0.533647306759947\n",
       "4. 0.155863473097972\n",
       "5. 0.197788248508324\n",
       "\n",
       "\n"
      ],
      "text/plain": [
       "[1] 0.4123758 1.0000000 0.5336473 0.1558635 0.1977882"
      ]
     },
     "metadata": {},
     "output_type": "display_data"
    },
    {
     "data": {
      "text/html": [
       "<ol class=list-inline>\n",
       "\t<li>0.667059133449934</li>\n",
       "\t<li>1</li>\n",
       "\t<li>0.667059133449934</li>\n",
       "\t<li>0.494470621270811</li>\n",
       "\t<li>0.494470621270811</li>\n",
       "</ol>\n"
      ],
      "text/latex": [
       "\\begin{enumerate*}\n",
       "\\item 0.667059133449934\n",
       "\\item 1\n",
       "\\item 0.667059133449934\n",
       "\\item 0.494470621270811\n",
       "\\item 0.494470621270811\n",
       "\\end{enumerate*}\n"
      ],
      "text/markdown": [
       "1. 0.667059133449934\n",
       "2. 1\n",
       "3. 0.667059133449934\n",
       "4. 0.494470621270811\n",
       "5. 0.494470621270811\n",
       "\n",
       "\n"
      ],
      "text/plain": [
       "[1] 0.6670591 1.0000000 0.6670591 0.4944706 0.4944706"
      ]
     },
     "metadata": {},
     "output_type": "display_data"
    }
   ],
   "source": [
    "pval<-c()\n",
    "\n",
    "for (i in 8:ncol(nonzero_wMeta)) \n",
    "pval<-c(pval,wilcox.test(nonzero_wMeta[,i]~nonzero_wMeta$Treatmentgroup)$p.value)\n",
    "head(pval)\n",
    "pAdj <- p.adjust(pval, method = c(\"fdr\"), n=length(pval)) \n",
    "head(pAdj) \n",
    "\n"
   ]
  },
  {
   "cell_type": "code",
   "execution_count": 6,
   "metadata": {
    "scrolled": true
   },
   "outputs": [
    {
     "data": {
      "text/html": [
       "5"
      ],
      "text/latex": [
       "5"
      ],
      "text/markdown": [
       "5"
      ],
      "text/plain": [
       "[1] 5"
      ]
     },
     "metadata": {},
     "output_type": "display_data"
    }
   ],
   "source": [
    "length(pval)"
   ]
  },
  {
   "cell_type": "code",
   "execution_count": 7,
   "metadata": {
    "scrolled": true
   },
   "outputs": [
    {
     "data": {
      "text/html": [
       "5"
      ],
      "text/latex": [
       "5"
      ],
      "text/markdown": [
       "5"
      ],
      "text/plain": [
       "[1] 5"
      ]
     },
     "metadata": {},
     "output_type": "display_data"
    }
   ],
   "source": [
    "length(pAdj)"
   ]
  },
  {
   "cell_type": "code",
   "execution_count": 8,
   "metadata": {},
   "outputs": [
    {
     "data": {
      "text/html": [
       "<ol class=list-inline>\n",
       "\t<li>2</li>\n",
       "\t<li>5</li>\n",
       "</ol>\n"
      ],
      "text/latex": [
       "\\begin{enumerate*}\n",
       "\\item 2\n",
       "\\item 5\n",
       "\\end{enumerate*}\n"
      ],
      "text/markdown": [
       "1. 2\n",
       "2. 5\n",
       "\n",
       "\n"
      ],
      "text/plain": [
       "[1] 2 5"
      ]
     },
     "metadata": {},
     "output_type": "display_data"
    },
    {
     "data": {
      "text/html": [
       "<table>\n",
       "<thead><tr><th></th><th scope=col>mass_400</th><th scope=col>mass_500</th><th scope=col>mass_600</th></tr></thead>\n",
       "<tbody>\n",
       "\t<tr><th scope=row>combo</th><td>0.001402591 </td><td>0.004324130 </td><td>0.0001855617</td></tr>\n",
       "\t<tr><th scope=row>infected</th><td>0.001289735 </td><td>0.004467606 </td><td>0.0002074297</td></tr>\n",
       "</tbody>\n",
       "</table>\n"
      ],
      "text/latex": [
       "\\begin{tabular}{r|lll}\n",
       "  & mass\\_400 & mass\\_500 & mass\\_600\\\\\n",
       "\\hline\n",
       "\tcombo & 0.001402591  & 0.004324130  & 0.0001855617\\\\\n",
       "\tinfected & 0.001289735  & 0.004467606  & 0.0002074297\\\\\n",
       "\\end{tabular}\n"
      ],
      "text/markdown": [
       "\n",
       "| <!--/--> | mass_400 | mass_500 | mass_600 |\n",
       "|---|---|---|---|\n",
       "| combo | 0.001402591  | 0.004324130  | 0.0001855617 |\n",
       "| infected | 0.001289735  | 0.004467606  | 0.0002074297 |\n",
       "\n"
      ],
      "text/plain": [
       "         mass_400    mass_500    mass_600    \n",
       "combo    0.001402591 0.004324130 0.0001855617\n",
       "infected 0.001289735 0.004467606 0.0002074297"
      ]
     },
     "metadata": {},
     "output_type": "display_data"
    },
    {
     "data": {
      "text/html": [
       "<dl class=dl-horizontal>\n",
       "\t<dt>mass_400</dt>\n",
       "\t\t<dd>1.08750373461828</dd>\n",
       "\t<dt>mass_500</dt>\n",
       "\t\t<dd>0.967885232258314</dd>\n",
       "\t<dt>mass_600</dt>\n",
       "\t\t<dd>0.894576348103101</dd>\n",
       "\t<dt>mass_700</dt>\n",
       "\t\t<dd>0.566669803089662</dd>\n",
       "\t<dt>mass_800</dt>\n",
       "\t\t<dd>0.364960342901105</dd>\n",
       "</dl>\n"
      ],
      "text/latex": [
       "\\begin{description*}\n",
       "\\item[mass\\textbackslash{}\\_400] 1.08750373461828\n",
       "\\item[mass\\textbackslash{}\\_500] 0.967885232258314\n",
       "\\item[mass\\textbackslash{}\\_600] 0.894576348103101\n",
       "\\item[mass\\textbackslash{}\\_700] 0.566669803089662\n",
       "\\item[mass\\textbackslash{}\\_800] 0.364960342901105\n",
       "\\end{description*}\n"
      ],
      "text/markdown": [
       "mass_400\n",
       ":   1.08750373461828mass_500\n",
       ":   0.967885232258314mass_600\n",
       ":   0.894576348103101mass_700\n",
       ":   0.566669803089662mass_800\n",
       ":   0.364960342901105\n",
       "\n"
      ],
      "text/plain": [
       " mass_400  mass_500  mass_600  mass_700  mass_800 \n",
       "1.0875037 0.9678852 0.8945763 0.5666698 0.3649603 "
      ]
     },
     "metadata": {},
     "output_type": "display_data"
    },
    {
     "data": {
      "text/html": [
       "<ol class=list-inline>\n",
       "\t<li>'numeric'</li>\n",
       "\t<li>'vector'</li>\n",
       "</ol>\n"
      ],
      "text/latex": [
       "\\begin{enumerate*}\n",
       "\\item 'numeric'\n",
       "\\item 'vector'\n",
       "\\end{enumerate*}\n"
      ],
      "text/markdown": [
       "1. 'numeric'\n",
       "2. 'vector'\n",
       "\n",
       "\n"
      ],
      "text/plain": [
       "[1] \"numeric\" \"vector\" "
      ]
     },
     "metadata": {},
     "output_type": "display_data"
    }
   ],
   "source": [
    "avg<- apply(nonzero_wMeta[,8:ncol(nonzero_wMeta)], 2, function(x) tapply(x, nonzero_wMeta$Treatmentgroup, function(x) mean(x))) \n",
    "\n",
    "dim(avg)\n",
    "\n",
    "avg[,1:3]\n",
    "\n",
    "fch <- apply(avg, 2, function(x) x[1]/x[2])\n",
    "\n",
    "head(fch)\n",
    "is(fch)"
   ]
  },
  {
   "cell_type": "code",
   "execution_count": 9,
   "metadata": {
    "scrolled": true
   },
   "outputs": [
    {
     "data": {
      "text/html": [
       "<dl class=dl-horizontal>\n",
       "\t<dt>mass_400</dt>\n",
       "\t\t<dd>1.08750373461828</dd>\n",
       "\t<dt>mass_500</dt>\n",
       "\t\t<dd>0.967885232258314</dd>\n",
       "\t<dt>mass_600</dt>\n",
       "\t\t<dd>0.894576348103101</dd>\n",
       "\t<dt>mass_700</dt>\n",
       "\t\t<dd>0.566669803089662</dd>\n",
       "\t<dt>mass_800</dt>\n",
       "\t\t<dd>0.364960342901105</dd>\n",
       "</dl>\n"
      ],
      "text/latex": [
       "\\begin{description*}\n",
       "\\item[mass\\textbackslash{}\\_400] 1.08750373461828\n",
       "\\item[mass\\textbackslash{}\\_500] 0.967885232258314\n",
       "\\item[mass\\textbackslash{}\\_600] 0.894576348103101\n",
       "\\item[mass\\textbackslash{}\\_700] 0.566669803089662\n",
       "\\item[mass\\textbackslash{}\\_800] 0.364960342901105\n",
       "\\end{description*}\n"
      ],
      "text/markdown": [
       "mass_400\n",
       ":   1.08750373461828mass_500\n",
       ":   0.967885232258314mass_600\n",
       ":   0.894576348103101mass_700\n",
       ":   0.566669803089662mass_800\n",
       ":   0.364960342901105\n",
       "\n"
      ],
      "text/plain": [
       " mass_400  mass_500  mass_600  mass_700  mass_800 \n",
       "1.0875037 0.9678852 0.8945763 0.5666698 0.3649603 "
      ]
     },
     "metadata": {},
     "output_type": "display_data"
    }
   ],
   "source": [
    "fch"
   ]
  },
  {
   "cell_type": "code",
   "execution_count": 10,
   "metadata": {
    "scrolled": false
   },
   "outputs": [],
   "source": [
    "df <- data.frame(fch,pval, pAdj)\n",
    "write.csv(df, \"PE-treat-LVB-wilcox-infected-combo.csv\")"
   ]
  },
  {
   "cell_type": "code",
   "execution_count": null,
   "metadata": {},
   "outputs": [],
   "source": []
  },
  {
   "cell_type": "code",
   "execution_count": null,
   "metadata": {},
   "outputs": [],
   "source": []
  },
  {
   "cell_type": "code",
   "execution_count": null,
   "metadata": {},
   "outputs": [],
   "source": []
  },
  {
   "cell_type": "code",
   "execution_count": null,
   "metadata": {},
   "outputs": [],
   "source": []
  },
  {
   "cell_type": "code",
   "execution_count": null,
   "metadata": {},
   "outputs": [],
   "source": []
  },
  {
   "cell_type": "code",
   "execution_count": null,
   "metadata": {},
   "outputs": [],
   "source": []
  }
 ],
 "metadata": {
  "kernelspec": {
   "display_name": "R",
   "language": "R",
   "name": "ir"
  },
  "language_info": {
   "codemirror_mode": "r",
   "file_extension": ".r",
   "mimetype": "text/x-r-source",
   "name": "R",
   "pygments_lexer": "r",
   "version": "3.6.1"
  }
 },
 "nbformat": 4,
 "nbformat_minor": 2
}
