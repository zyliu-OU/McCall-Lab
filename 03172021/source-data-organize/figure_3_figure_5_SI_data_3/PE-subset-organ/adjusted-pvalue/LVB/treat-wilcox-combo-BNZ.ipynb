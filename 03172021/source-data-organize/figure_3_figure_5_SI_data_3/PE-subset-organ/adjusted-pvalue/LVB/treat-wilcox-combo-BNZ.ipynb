{
 "cells": [
  {
   "cell_type": "code",
   "execution_count": 1,
   "metadata": {},
   "outputs": [],
   "source": [
    "a <- read.csv(\"03172021-PE-treatment-LVB-M-F.csv\")"
   ]
  },
  {
   "cell_type": "code",
   "execution_count": 2,
   "metadata": {},
   "outputs": [
    {
     "data": {
      "text/html": [
       "<table>\n",
       "<thead><tr><th scope=col>filename</th><th scope=col>MouseID</th><th scope=col>Treatmentgroup</th><th scope=col>DPI</th><th scope=col>organ</th><th scope=col>well_position</th><th scope=col>plate</th><th scope=col>mass_400</th><th scope=col>mass_500</th><th scope=col>mass_600</th><th scope=col>mass_700</th><th scope=col>mass_800</th></tr></thead>\n",
       "<tbody>\n",
       "\t<tr><td>X511_Group1C_142dpi_LV_bottom_161_G_A1_P132.mzXML</td><td>511                                              </td><td>naive                                            </td><td>142dpi                                           </td><td>LV_bottom                                        </td><td>A1                                               </td><td>P132                                             </td><td>0.002386624                                      </td><td>0.006808896                                      </td><td>0.000837413                                      </td><td>0.000237425                                      </td><td>0.00000000                                       </td></tr>\n",
       "\t<tr><td>X512_Group1C_142dpi_LV_bottom_162_G_A2_P132.mzXML</td><td>512                                              </td><td>naive                                            </td><td>142dpi                                           </td><td>LV_bottom                                        </td><td>A2                                               </td><td>P132                                             </td><td>0.001949328                                      </td><td>0.005010000                                      </td><td>0.000781512                                      </td><td>0.000308839                                      </td><td>0.00011588                                       </td></tr>\n",
       "\t<tr><td>X513_Group1C_142dpi_LV_bottom_163_G_A3_P132.mzXML</td><td>513                                              </td><td>naive                                            </td><td>142dpi                                           </td><td>LV_bottom                                        </td><td>A3                                               </td><td>P132                                             </td><td>0.001434203                                      </td><td>0.004690000                                      </td><td>0.000345234                                      </td><td>0.000658709                                      </td><td>0.00000000                                       </td></tr>\n",
       "\t<tr><td>X514_Group1C_142dpi_LV_bottom_164_G_A4_P132.mzXML</td><td>514                                              </td><td>naive                                            </td><td>142dpi                                           </td><td>LV_bottom                                        </td><td>A4                                               </td><td>P132                                             </td><td>0.001641283                                      </td><td>0.003340000                                      </td><td>0.000589426                                      </td><td>0.000083400                                      </td><td>0.00000000                                       </td></tr>\n",
       "\t<tr><td>X515_Group1C_142dpi_LV_bottom_165_G_A5_P132.mzXML</td><td>515                                              </td><td>naive                                            </td><td>142dpi                                           </td><td>LV_bottom                                        </td><td>A5                                               </td><td>P132                                             </td><td>0.001665581                                      </td><td>0.005882812                                      </td><td>0.000535521                                      </td><td>0.000000000                                      </td><td>0.00000000                                       </td></tr>\n",
       "\t<tr><td>X531_Group1C_142dpi_LV_bottom_166_G_A6_P132.mzXML</td><td>531                                              </td><td>naive                                            </td><td>142dpi                                           </td><td>LV_bottom                                        </td><td>A6                                               </td><td>P132                                             </td><td>0.001219054                                      </td><td>0.003260000                                      </td><td>0.000628733                                      </td><td>0.000790339                                      </td><td>0.00006560                                       </td></tr>\n",
       "</tbody>\n",
       "</table>\n"
      ],
      "text/latex": [
       "\\begin{tabular}{r|llllllllllll}\n",
       " filename & MouseID & Treatmentgroup & DPI & organ & well\\_position & plate & mass\\_400 & mass\\_500 & mass\\_600 & mass\\_700 & mass\\_800\\\\\n",
       "\\hline\n",
       "\t X511\\_Group1C\\_142dpi\\_LV\\_bottom\\_161\\_G\\_A1\\_P132.mzXML & 511                                                               & naive                                                             & 142dpi                                                            & LV\\_bottom                                                       & A1                                                                & P132                                                              & 0.002386624                                                       & 0.006808896                                                       & 0.000837413                                                       & 0.000237425                                                       & 0.00000000                                                       \\\\\n",
       "\t X512\\_Group1C\\_142dpi\\_LV\\_bottom\\_162\\_G\\_A2\\_P132.mzXML & 512                                                               & naive                                                             & 142dpi                                                            & LV\\_bottom                                                       & A2                                                                & P132                                                              & 0.001949328                                                       & 0.005010000                                                       & 0.000781512                                                       & 0.000308839                                                       & 0.00011588                                                       \\\\\n",
       "\t X513\\_Group1C\\_142dpi\\_LV\\_bottom\\_163\\_G\\_A3\\_P132.mzXML & 513                                                               & naive                                                             & 142dpi                                                            & LV\\_bottom                                                       & A3                                                                & P132                                                              & 0.001434203                                                       & 0.004690000                                                       & 0.000345234                                                       & 0.000658709                                                       & 0.00000000                                                       \\\\\n",
       "\t X514\\_Group1C\\_142dpi\\_LV\\_bottom\\_164\\_G\\_A4\\_P132.mzXML & 514                                                               & naive                                                             & 142dpi                                                            & LV\\_bottom                                                       & A4                                                                & P132                                                              & 0.001641283                                                       & 0.003340000                                                       & 0.000589426                                                       & 0.000083400                                                       & 0.00000000                                                       \\\\\n",
       "\t X515\\_Group1C\\_142dpi\\_LV\\_bottom\\_165\\_G\\_A5\\_P132.mzXML & 515                                                               & naive                                                             & 142dpi                                                            & LV\\_bottom                                                       & A5                                                                & P132                                                              & 0.001665581                                                       & 0.005882812                                                       & 0.000535521                                                       & 0.000000000                                                       & 0.00000000                                                       \\\\\n",
       "\t X531\\_Group1C\\_142dpi\\_LV\\_bottom\\_166\\_G\\_A6\\_P132.mzXML & 531                                                               & naive                                                             & 142dpi                                                            & LV\\_bottom                                                       & A6                                                                & P132                                                              & 0.001219054                                                       & 0.003260000                                                       & 0.000628733                                                       & 0.000790339                                                       & 0.00006560                                                       \\\\\n",
       "\\end{tabular}\n"
      ],
      "text/markdown": [
       "\n",
       "| filename | MouseID | Treatmentgroup | DPI | organ | well_position | plate | mass_400 | mass_500 | mass_600 | mass_700 | mass_800 |\n",
       "|---|---|---|---|---|---|---|---|---|---|---|---|\n",
       "| X511_Group1C_142dpi_LV_bottom_161_G_A1_P132.mzXML | 511                                               | naive                                             | 142dpi                                            | LV_bottom                                         | A1                                                | P132                                              | 0.002386624                                       | 0.006808896                                       | 0.000837413                                       | 0.000237425                                       | 0.00000000                                        |\n",
       "| X512_Group1C_142dpi_LV_bottom_162_G_A2_P132.mzXML | 512                                               | naive                                             | 142dpi                                            | LV_bottom                                         | A2                                                | P132                                              | 0.001949328                                       | 0.005010000                                       | 0.000781512                                       | 0.000308839                                       | 0.00011588                                        |\n",
       "| X513_Group1C_142dpi_LV_bottom_163_G_A3_P132.mzXML | 513                                               | naive                                             | 142dpi                                            | LV_bottom                                         | A3                                                | P132                                              | 0.001434203                                       | 0.004690000                                       | 0.000345234                                       | 0.000658709                                       | 0.00000000                                        |\n",
       "| X514_Group1C_142dpi_LV_bottom_164_G_A4_P132.mzXML | 514                                               | naive                                             | 142dpi                                            | LV_bottom                                         | A4                                                | P132                                              | 0.001641283                                       | 0.003340000                                       | 0.000589426                                       | 0.000083400                                       | 0.00000000                                        |\n",
       "| X515_Group1C_142dpi_LV_bottom_165_G_A5_P132.mzXML | 515                                               | naive                                             | 142dpi                                            | LV_bottom                                         | A5                                                | P132                                              | 0.001665581                                       | 0.005882812                                       | 0.000535521                                       | 0.000000000                                       | 0.00000000                                        |\n",
       "| X531_Group1C_142dpi_LV_bottom_166_G_A6_P132.mzXML | 531                                               | naive                                             | 142dpi                                            | LV_bottom                                         | A6                                                | P132                                              | 0.001219054                                       | 0.003260000                                       | 0.000628733                                       | 0.000790339                                       | 0.00006560                                        |\n",
       "\n"
      ],
      "text/plain": [
       "  filename                                          MouseID Treatmentgroup\n",
       "1 X511_Group1C_142dpi_LV_bottom_161_G_A1_P132.mzXML 511     naive         \n",
       "2 X512_Group1C_142dpi_LV_bottom_162_G_A2_P132.mzXML 512     naive         \n",
       "3 X513_Group1C_142dpi_LV_bottom_163_G_A3_P132.mzXML 513     naive         \n",
       "4 X514_Group1C_142dpi_LV_bottom_164_G_A4_P132.mzXML 514     naive         \n",
       "5 X515_Group1C_142dpi_LV_bottom_165_G_A5_P132.mzXML 515     naive         \n",
       "6 X531_Group1C_142dpi_LV_bottom_166_G_A6_P132.mzXML 531     naive         \n",
       "  DPI    organ     well_position plate mass_400    mass_500    mass_600   \n",
       "1 142dpi LV_bottom A1            P132  0.002386624 0.006808896 0.000837413\n",
       "2 142dpi LV_bottom A2            P132  0.001949328 0.005010000 0.000781512\n",
       "3 142dpi LV_bottom A3            P132  0.001434203 0.004690000 0.000345234\n",
       "4 142dpi LV_bottom A4            P132  0.001641283 0.003340000 0.000589426\n",
       "5 142dpi LV_bottom A5            P132  0.001665581 0.005882812 0.000535521\n",
       "6 142dpi LV_bottom A6            P132  0.001219054 0.003260000 0.000628733\n",
       "  mass_700    mass_800  \n",
       "1 0.000237425 0.00000000\n",
       "2 0.000308839 0.00011588\n",
       "3 0.000658709 0.00000000\n",
       "4 0.000083400 0.00000000\n",
       "5 0.000000000 0.00000000\n",
       "6 0.000790339 0.00006560"
      ]
     },
     "metadata": {},
     "output_type": "display_data"
    },
    {
     "data": {
      "text/html": [
       "<ol class=list-inline>\n",
       "\t<li>60</li>\n",
       "\t<li>12</li>\n",
       "</ol>\n"
      ],
      "text/latex": [
       "\\begin{enumerate*}\n",
       "\\item 60\n",
       "\\item 12\n",
       "\\end{enumerate*}\n"
      ],
      "text/markdown": [
       "1. 60\n",
       "2. 12\n",
       "\n",
       "\n"
      ],
      "text/plain": [
       "[1] 60 12"
      ]
     },
     "metadata": {},
     "output_type": "display_data"
    }
   ],
   "source": [
    "head(a)\n",
    "dim(a)"
   ]
  },
  {
   "cell_type": "code",
   "execution_count": 3,
   "metadata": {},
   "outputs": [
    {
     "data": {
      "text/html": [
       "<table>\n",
       "<thead><tr><th></th><th scope=col>filename</th><th scope=col>MouseID</th><th scope=col>Treatmentgroup</th><th scope=col>DPI</th><th scope=col>organ</th><th scope=col>well_position</th><th scope=col>plate</th><th scope=col>mass_400</th><th scope=col>mass_500</th><th scope=col>mass_600</th><th scope=col>mass_700</th><th scope=col>mass_800</th></tr></thead>\n",
       "<tbody>\n",
       "\t<tr><th scope=row>21</th><td>X611_Group9_142dpi_LV_bottom_181_G_B9_P132.mzXML </td><td>611                                              </td><td>combo                                            </td><td>142dpi                                           </td><td>LV_bottom                                        </td><td>B9                                               </td><td>P132                                             </td><td>0.001062645                                      </td><td>0.003010000                                      </td><td>0.000335309                                      </td><td>0.000388805                                      </td><td>0.000027700                                      </td></tr>\n",
       "\t<tr><th scope=row>22</th><td>X612_Group9_142dpi_LV_bottom_182_G_B10_P132.mzXML</td><td>612                                              </td><td>combo                                            </td><td>142dpi                                           </td><td>LV_bottom                                        </td><td>B10                                              </td><td>P132                                             </td><td>0.000811914                                      </td><td>0.003326714                                      </td><td>0.000184004                                      </td><td>0.000000000                                      </td><td>0.000000000                                      </td></tr>\n",
       "\t<tr><th scope=row>23</th><td>X613_Group9_142dpi_LV_bottom_183_G_B11_P132.mzXML</td><td>613                                              </td><td>combo                                            </td><td>142dpi                                           </td><td>LV_bottom                                        </td><td>B11                                              </td><td>P132                                             </td><td>0.001695508                                      </td><td>0.004860000                                      </td><td>0.000274761                                      </td><td>0.000260920                                      </td><td>0.000210027                                      </td></tr>\n",
       "\t<tr><th scope=row>24</th><td>X614_Group9_142dpi_LV_bottom_184_G_B12_P132.mzXML</td><td>614                                              </td><td>combo                                            </td><td>142dpi                                           </td><td>LV_bottom                                        </td><td>B12                                              </td><td>P132                                             </td><td>0.002129603                                      </td><td>0.004932729                                      </td><td>0.000528162                                      </td><td>0.000000000                                      </td><td>0.000000000                                      </td></tr>\n",
       "\t<tr><th scope=row>25</th><td>X615_Group9_142dpi_LV_bottom_185_G_C1_P132.mzXML </td><td>615                                              </td><td>combo                                            </td><td>142dpi                                           </td><td>LV_bottom                                        </td><td>C1                                               </td><td>P132                                             </td><td>0.001465557                                      </td><td>0.004510000                                      </td><td>0.000235537                                      </td><td>0.000694272                                      </td><td>0.000000000                                      </td></tr>\n",
       "\t<tr><th scope=row>26</th><td>X631_Group15_142dpi_LV_bottom_191_G_C7_P132.mzXML</td><td>631                                              </td><td>BNZ                                              </td><td>142dpi                                           </td><td>LV_bottom                                        </td><td>C7                                               </td><td>P132                                             </td><td>0.001476766                                      </td><td>0.003660000                                      </td><td>0.000189690                                      </td><td>0.002070000                                      </td><td>0.000152984                                      </td></tr>\n",
       "</tbody>\n",
       "</table>\n"
      ],
      "text/latex": [
       "\\begin{tabular}{r|llllllllllll}\n",
       "  & filename & MouseID & Treatmentgroup & DPI & organ & well\\_position & plate & mass\\_400 & mass\\_500 & mass\\_600 & mass\\_700 & mass\\_800\\\\\n",
       "\\hline\n",
       "\t21 & X611\\_Group9\\_142dpi\\_LV\\_bottom\\_181\\_G\\_B9\\_P132.mzXML  & 611                                                               & combo                                                             & 142dpi                                                            & LV\\_bottom                                                       & B9                                                                & P132                                                              & 0.001062645                                                       & 0.003010000                                                       & 0.000335309                                                       & 0.000388805                                                       & 0.000027700                                                      \\\\\n",
       "\t22 & X612\\_Group9\\_142dpi\\_LV\\_bottom\\_182\\_G\\_B10\\_P132.mzXML & 612                                                               & combo                                                             & 142dpi                                                            & LV\\_bottom                                                       & B10                                                               & P132                                                              & 0.000811914                                                       & 0.003326714                                                       & 0.000184004                                                       & 0.000000000                                                       & 0.000000000                                                      \\\\\n",
       "\t23 & X613\\_Group9\\_142dpi\\_LV\\_bottom\\_183\\_G\\_B11\\_P132.mzXML & 613                                                               & combo                                                             & 142dpi                                                            & LV\\_bottom                                                       & B11                                                               & P132                                                              & 0.001695508                                                       & 0.004860000                                                       & 0.000274761                                                       & 0.000260920                                                       & 0.000210027                                                      \\\\\n",
       "\t24 & X614\\_Group9\\_142dpi\\_LV\\_bottom\\_184\\_G\\_B12\\_P132.mzXML & 614                                                               & combo                                                             & 142dpi                                                            & LV\\_bottom                                                       & B12                                                               & P132                                                              & 0.002129603                                                       & 0.004932729                                                       & 0.000528162                                                       & 0.000000000                                                       & 0.000000000                                                      \\\\\n",
       "\t25 & X615\\_Group9\\_142dpi\\_LV\\_bottom\\_185\\_G\\_C1\\_P132.mzXML  & 615                                                               & combo                                                             & 142dpi                                                            & LV\\_bottom                                                       & C1                                                                & P132                                                              & 0.001465557                                                       & 0.004510000                                                       & 0.000235537                                                       & 0.000694272                                                       & 0.000000000                                                      \\\\\n",
       "\t26 & X631\\_Group15\\_142dpi\\_LV\\_bottom\\_191\\_G\\_C7\\_P132.mzXML & 631                                                               & BNZ                                                               & 142dpi                                                            & LV\\_bottom                                                       & C7                                                                & P132                                                              & 0.001476766                                                       & 0.003660000                                                       & 0.000189690                                                       & 0.002070000                                                       & 0.000152984                                                      \\\\\n",
       "\\end{tabular}\n"
      ],
      "text/markdown": [
       "\n",
       "| <!--/--> | filename | MouseID | Treatmentgroup | DPI | organ | well_position | plate | mass_400 | mass_500 | mass_600 | mass_700 | mass_800 |\n",
       "|---|---|---|---|---|---|---|---|---|---|---|---|---|\n",
       "| 21 | X611_Group9_142dpi_LV_bottom_181_G_B9_P132.mzXML  | 611                                               | combo                                             | 142dpi                                            | LV_bottom                                         | B9                                                | P132                                              | 0.001062645                                       | 0.003010000                                       | 0.000335309                                       | 0.000388805                                       | 0.000027700                                       |\n",
       "| 22 | X612_Group9_142dpi_LV_bottom_182_G_B10_P132.mzXML | 612                                               | combo                                             | 142dpi                                            | LV_bottom                                         | B10                                               | P132                                              | 0.000811914                                       | 0.003326714                                       | 0.000184004                                       | 0.000000000                                       | 0.000000000                                       |\n",
       "| 23 | X613_Group9_142dpi_LV_bottom_183_G_B11_P132.mzXML | 613                                               | combo                                             | 142dpi                                            | LV_bottom                                         | B11                                               | P132                                              | 0.001695508                                       | 0.004860000                                       | 0.000274761                                       | 0.000260920                                       | 0.000210027                                       |\n",
       "| 24 | X614_Group9_142dpi_LV_bottom_184_G_B12_P132.mzXML | 614                                               | combo                                             | 142dpi                                            | LV_bottom                                         | B12                                               | P132                                              | 0.002129603                                       | 0.004932729                                       | 0.000528162                                       | 0.000000000                                       | 0.000000000                                       |\n",
       "| 25 | X615_Group9_142dpi_LV_bottom_185_G_C1_P132.mzXML  | 615                                               | combo                                             | 142dpi                                            | LV_bottom                                         | C1                                                | P132                                              | 0.001465557                                       | 0.004510000                                       | 0.000235537                                       | 0.000694272                                       | 0.000000000                                       |\n",
       "| 26 | X631_Group15_142dpi_LV_bottom_191_G_C7_P132.mzXML | 631                                               | BNZ                                               | 142dpi                                            | LV_bottom                                         | C7                                                | P132                                              | 0.001476766                                       | 0.003660000                                       | 0.000189690                                       | 0.002070000                                       | 0.000152984                                       |\n",
       "\n"
      ],
      "text/plain": [
       "   filename                                          MouseID Treatmentgroup\n",
       "21 X611_Group9_142dpi_LV_bottom_181_G_B9_P132.mzXML  611     combo         \n",
       "22 X612_Group9_142dpi_LV_bottom_182_G_B10_P132.mzXML 612     combo         \n",
       "23 X613_Group9_142dpi_LV_bottom_183_G_B11_P132.mzXML 613     combo         \n",
       "24 X614_Group9_142dpi_LV_bottom_184_G_B12_P132.mzXML 614     combo         \n",
       "25 X615_Group9_142dpi_LV_bottom_185_G_C1_P132.mzXML  615     combo         \n",
       "26 X631_Group15_142dpi_LV_bottom_191_G_C7_P132.mzXML 631     BNZ           \n",
       "   DPI    organ     well_position plate mass_400    mass_500    mass_600   \n",
       "21 142dpi LV_bottom B9            P132  0.001062645 0.003010000 0.000335309\n",
       "22 142dpi LV_bottom B10           P132  0.000811914 0.003326714 0.000184004\n",
       "23 142dpi LV_bottom B11           P132  0.001695508 0.004860000 0.000274761\n",
       "24 142dpi LV_bottom B12           P132  0.002129603 0.004932729 0.000528162\n",
       "25 142dpi LV_bottom C1            P132  0.001465557 0.004510000 0.000235537\n",
       "26 142dpi LV_bottom C7            P132  0.001476766 0.003660000 0.000189690\n",
       "   mass_700    mass_800   \n",
       "21 0.000388805 0.000027700\n",
       "22 0.000000000 0.000000000\n",
       "23 0.000260920 0.000210027\n",
       "24 0.000000000 0.000000000\n",
       "25 0.000694272 0.000000000\n",
       "26 0.002070000 0.000152984"
      ]
     },
     "metadata": {},
     "output_type": "display_data"
    },
    {
     "data": {
      "text/html": [
       "<ol class=list-inline>\n",
       "\t<li>30</li>\n",
       "\t<li>12</li>\n",
       "</ol>\n"
      ],
      "text/latex": [
       "\\begin{enumerate*}\n",
       "\\item 30\n",
       "\\item 12\n",
       "\\end{enumerate*}\n"
      ],
      "text/markdown": [
       "1. 30\n",
       "2. 12\n",
       "\n",
       "\n"
      ],
      "text/plain": [
       "[1] 30 12"
      ]
     },
     "metadata": {},
     "output_type": "display_data"
    }
   ],
   "source": [
    "features_pos<-droplevels(subset(a, a$Treatmentgroup==c(\"combo\")|a$Treatmentgroup==c(\"BNZ\")))\n",
    "head(features_pos)\n",
    "dim(features_pos)"
   ]
  },
  {
   "cell_type": "code",
   "execution_count": 4,
   "metadata": {
    "scrolled": false
   },
   "outputs": [
    {
     "data": {
      "text/html": [
       "<table>\n",
       "<thead><tr><th></th><th scope=col>mass_400</th><th scope=col>mass_500</th><th scope=col>mass_600</th><th scope=col>mass_700</th><th scope=col>mass_800</th></tr></thead>\n",
       "<tbody>\n",
       "\t<tr><th scope=row>21</th><td>0.001062645</td><td>0.003010000</td><td>0.000335309</td><td>0.000388805</td><td>0.000027700</td></tr>\n",
       "\t<tr><th scope=row>22</th><td>0.000811914</td><td>0.003326714</td><td>0.000184004</td><td>0.000000000</td><td>0.000000000</td></tr>\n",
       "\t<tr><th scope=row>23</th><td>0.001695508</td><td>0.004860000</td><td>0.000274761</td><td>0.000260920</td><td>0.000210027</td></tr>\n",
       "\t<tr><th scope=row>24</th><td>0.002129603</td><td>0.004932729</td><td>0.000528162</td><td>0.000000000</td><td>0.000000000</td></tr>\n",
       "\t<tr><th scope=row>25</th><td>0.001465557</td><td>0.004510000</td><td>0.000235537</td><td>0.000694272</td><td>0.000000000</td></tr>\n",
       "\t<tr><th scope=row>26</th><td>0.001476766</td><td>0.003660000</td><td>0.000189690</td><td>0.002070000</td><td>0.000152984</td></tr>\n",
       "</tbody>\n",
       "</table>\n"
      ],
      "text/latex": [
       "\\begin{tabular}{r|lllll}\n",
       "  & mass\\_400 & mass\\_500 & mass\\_600 & mass\\_700 & mass\\_800\\\\\n",
       "\\hline\n",
       "\t21 & 0.001062645 & 0.003010000 & 0.000335309 & 0.000388805 & 0.000027700\\\\\n",
       "\t22 & 0.000811914 & 0.003326714 & 0.000184004 & 0.000000000 & 0.000000000\\\\\n",
       "\t23 & 0.001695508 & 0.004860000 & 0.000274761 & 0.000260920 & 0.000210027\\\\\n",
       "\t24 & 0.002129603 & 0.004932729 & 0.000528162 & 0.000000000 & 0.000000000\\\\\n",
       "\t25 & 0.001465557 & 0.004510000 & 0.000235537 & 0.000694272 & 0.000000000\\\\\n",
       "\t26 & 0.001476766 & 0.003660000 & 0.000189690 & 0.002070000 & 0.000152984\\\\\n",
       "\\end{tabular}\n"
      ],
      "text/markdown": [
       "\n",
       "| <!--/--> | mass_400 | mass_500 | mass_600 | mass_700 | mass_800 |\n",
       "|---|---|---|---|---|---|\n",
       "| 21 | 0.001062645 | 0.003010000 | 0.000335309 | 0.000388805 | 0.000027700 |\n",
       "| 22 | 0.000811914 | 0.003326714 | 0.000184004 | 0.000000000 | 0.000000000 |\n",
       "| 23 | 0.001695508 | 0.004860000 | 0.000274761 | 0.000260920 | 0.000210027 |\n",
       "| 24 | 0.002129603 | 0.004932729 | 0.000528162 | 0.000000000 | 0.000000000 |\n",
       "| 25 | 0.001465557 | 0.004510000 | 0.000235537 | 0.000694272 | 0.000000000 |\n",
       "| 26 | 0.001476766 | 0.003660000 | 0.000189690 | 0.002070000 | 0.000152984 |\n",
       "\n"
      ],
      "text/plain": [
       "   mass_400    mass_500    mass_600    mass_700    mass_800   \n",
       "21 0.001062645 0.003010000 0.000335309 0.000388805 0.000027700\n",
       "22 0.000811914 0.003326714 0.000184004 0.000000000 0.000000000\n",
       "23 0.001695508 0.004860000 0.000274761 0.000260920 0.000210027\n",
       "24 0.002129603 0.004932729 0.000528162 0.000000000 0.000000000\n",
       "25 0.001465557 0.004510000 0.000235537 0.000694272 0.000000000\n",
       "26 0.001476766 0.003660000 0.000189690 0.002070000 0.000152984"
      ]
     },
     "metadata": {},
     "output_type": "display_data"
    },
    {
     "data": {
      "text/html": [
       "<dl class=dl-horizontal>\n",
       "\t<dt>mass_400</dt>\n",
       "\t\t<dd>1</dd>\n",
       "\t<dt>mass_500</dt>\n",
       "\t\t<dd>2</dd>\n",
       "\t<dt>mass_600</dt>\n",
       "\t\t<dd>3</dd>\n",
       "\t<dt>mass_700</dt>\n",
       "\t\t<dd>4</dd>\n",
       "\t<dt>mass_800</dt>\n",
       "\t\t<dd>5</dd>\n",
       "</dl>\n"
      ],
      "text/latex": [
       "\\begin{description*}\n",
       "\\item[mass\\textbackslash{}\\_400] 1\n",
       "\\item[mass\\textbackslash{}\\_500] 2\n",
       "\\item[mass\\textbackslash{}\\_600] 3\n",
       "\\item[mass\\textbackslash{}\\_700] 4\n",
       "\\item[mass\\textbackslash{}\\_800] 5\n",
       "\\end{description*}\n"
      ],
      "text/markdown": [
       "mass_400\n",
       ":   1mass_500\n",
       ":   2mass_600\n",
       ":   3mass_700\n",
       ":   4mass_800\n",
       ":   5\n",
       "\n"
      ],
      "text/plain": [
       "mass_400 mass_500 mass_600 mass_700 mass_800 \n",
       "       1        2        3        4        5 "
      ]
     },
     "metadata": {},
     "output_type": "display_data"
    },
    {
     "data": {
      "text/html": [
       "<table>\n",
       "<thead><tr><th></th><th scope=col>mass_400</th><th scope=col>mass_500</th><th scope=col>mass_600</th><th scope=col>mass_700</th><th scope=col>mass_800</th></tr></thead>\n",
       "<tbody>\n",
       "\t<tr><th scope=row>21</th><td>0.001062645</td><td>0.003010000</td><td>0.000335309</td><td>0.000388805</td><td>0.000027700</td></tr>\n",
       "\t<tr><th scope=row>22</th><td>0.000811914</td><td>0.003326714</td><td>0.000184004</td><td>0.000000000</td><td>0.000000000</td></tr>\n",
       "\t<tr><th scope=row>23</th><td>0.001695508</td><td>0.004860000</td><td>0.000274761</td><td>0.000260920</td><td>0.000210027</td></tr>\n",
       "\t<tr><th scope=row>24</th><td>0.002129603</td><td>0.004932729</td><td>0.000528162</td><td>0.000000000</td><td>0.000000000</td></tr>\n",
       "\t<tr><th scope=row>25</th><td>0.001465557</td><td>0.004510000</td><td>0.000235537</td><td>0.000694272</td><td>0.000000000</td></tr>\n",
       "\t<tr><th scope=row>26</th><td>0.001476766</td><td>0.003660000</td><td>0.000189690</td><td>0.002070000</td><td>0.000152984</td></tr>\n",
       "\t<tr><th scope=row>27</th><td>0.001389394</td><td>0.004000000</td><td>0.000135987</td><td>0.001007187</td><td>0.000250384</td></tr>\n",
       "\t<tr><th scope=row>28</th><td>0.001608412</td><td>0.005220000</td><td>0.000298048</td><td>0.002244830</td><td>0.000000000</td></tr>\n",
       "\t<tr><th scope=row>29</th><td>0.001279760</td><td>0.003361392</td><td>0.000188343</td><td>0.000359554</td><td>0.000036000</td></tr>\n",
       "\t<tr><th scope=row>30</th><td>0.000921027</td><td>0.003243058</td><td>0.000498397</td><td>0.000555126</td><td>0.000000000</td></tr>\n",
       "\t<tr><th scope=row>36</th><td>0.001083977</td><td>0.003967501</td><td>0.000000000</td><td>0.000036500</td><td>0.000000000</td></tr>\n",
       "\t<tr><th scope=row>37</th><td>0.001402901</td><td>0.006183046</td><td>0.000166631</td><td>0.000260642</td><td>0.000000000</td></tr>\n",
       "\t<tr><th scope=row>38</th><td>0.001415367</td><td>0.003316345</td><td>0.000108669</td><td>0.000000000</td><td>0.000000000</td></tr>\n",
       "\t<tr><th scope=row>39</th><td>0.001924595</td><td>0.005143229</td><td>0.000159140</td><td>0.000601471</td><td>0.000000000</td></tr>\n",
       "\t<tr><th scope=row>40</th><td>0.001460686</td><td>0.004244063</td><td>0.000285706</td><td>0.000066100</td><td>0.000090100</td></tr>\n",
       "\t<tr><th scope=row>41</th><td>0.000950108</td><td>0.003730148</td><td>0.000000000</td><td>0.001132753</td><td>0.000042100</td></tr>\n",
       "\t<tr><th scope=row>42</th><td>0.000885233</td><td>0.003251898</td><td>0.000086500</td><td>0.000000000</td><td>0.000000000</td></tr>\n",
       "\t<tr><th scope=row>43</th><td>0.001363281</td><td>0.005500268</td><td>0.000098600</td><td>0.001885564</td><td>0.000087500</td></tr>\n",
       "\t<tr><th scope=row>44</th><td>0.000916835</td><td>0.004062065</td><td>0.000000000</td><td>0.000061000</td><td>0.000000000</td></tr>\n",
       "\t<tr><th scope=row>45</th><td>0.000994050</td><td>0.004680000</td><td>0.000136572</td><td>0.001165957</td><td>0.000000000</td></tr>\n",
       "\t<tr><th scope=row>51</th><td>0.000842396</td><td>0.002737058</td><td>0.000145792</td><td>0.000000000</td><td>0.000000000</td></tr>\n",
       "\t<tr><th scope=row>52</th><td>0.001313667</td><td>0.004140448</td><td>0.000045400</td><td>0.000000000</td><td>0.000000000</td></tr>\n",
       "\t<tr><th scope=row>53</th><td>0.001682174</td><td>0.005174427</td><td>0.000162056</td><td>0.001105236</td><td>0.000170280</td></tr>\n",
       "\t<tr><th scope=row>54</th><td>0.001333159</td><td>0.004920000</td><td>0.000117959</td><td>0.000542336</td><td>0.000000000</td></tr>\n",
       "\t<tr><th scope=row>55</th><td>0.001414720</td><td>0.004396390</td><td>0.000034300</td><td>0.002005957</td><td>0.000000000</td></tr>\n",
       "\t<tr><th scope=row>56</th><td>0.000984632</td><td>0.003201915</td><td>0.000128700</td><td>0.000279521</td><td>0.000061500</td></tr>\n",
       "\t<tr><th scope=row>57</th><td>0.000670332</td><td>0.002110000</td><td>0.000220020</td><td>0.001060000</td><td>0.000102628</td></tr>\n",
       "\t<tr><th scope=row>58</th><td>0.000357270</td><td>0.000510080</td><td>0.000018060</td><td>0.000157210</td><td>0.000020100</td></tr>\n",
       "\t<tr><th scope=row>59</th><td>0.000899940</td><td>0.003663062</td><td>0.000050700</td><td>0.000000000</td><td>0.000000000</td></tr>\n",
       "\t<tr><th scope=row>60</th><td>0.001327666</td><td>0.004325574</td><td>0.000363913</td><td>0.000000000</td><td>0.000000000</td></tr>\n",
       "</tbody>\n",
       "</table>\n"
      ],
      "text/latex": [
       "\\begin{tabular}{r|lllll}\n",
       "  & mass\\_400 & mass\\_500 & mass\\_600 & mass\\_700 & mass\\_800\\\\\n",
       "\\hline\n",
       "\t21 & 0.001062645 & 0.003010000 & 0.000335309 & 0.000388805 & 0.000027700\\\\\n",
       "\t22 & 0.000811914 & 0.003326714 & 0.000184004 & 0.000000000 & 0.000000000\\\\\n",
       "\t23 & 0.001695508 & 0.004860000 & 0.000274761 & 0.000260920 & 0.000210027\\\\\n",
       "\t24 & 0.002129603 & 0.004932729 & 0.000528162 & 0.000000000 & 0.000000000\\\\\n",
       "\t25 & 0.001465557 & 0.004510000 & 0.000235537 & 0.000694272 & 0.000000000\\\\\n",
       "\t26 & 0.001476766 & 0.003660000 & 0.000189690 & 0.002070000 & 0.000152984\\\\\n",
       "\t27 & 0.001389394 & 0.004000000 & 0.000135987 & 0.001007187 & 0.000250384\\\\\n",
       "\t28 & 0.001608412 & 0.005220000 & 0.000298048 & 0.002244830 & 0.000000000\\\\\n",
       "\t29 & 0.001279760 & 0.003361392 & 0.000188343 & 0.000359554 & 0.000036000\\\\\n",
       "\t30 & 0.000921027 & 0.003243058 & 0.000498397 & 0.000555126 & 0.000000000\\\\\n",
       "\t36 & 0.001083977 & 0.003967501 & 0.000000000 & 0.000036500 & 0.000000000\\\\\n",
       "\t37 & 0.001402901 & 0.006183046 & 0.000166631 & 0.000260642 & 0.000000000\\\\\n",
       "\t38 & 0.001415367 & 0.003316345 & 0.000108669 & 0.000000000 & 0.000000000\\\\\n",
       "\t39 & 0.001924595 & 0.005143229 & 0.000159140 & 0.000601471 & 0.000000000\\\\\n",
       "\t40 & 0.001460686 & 0.004244063 & 0.000285706 & 0.000066100 & 0.000090100\\\\\n",
       "\t41 & 0.000950108 & 0.003730148 & 0.000000000 & 0.001132753 & 0.000042100\\\\\n",
       "\t42 & 0.000885233 & 0.003251898 & 0.000086500 & 0.000000000 & 0.000000000\\\\\n",
       "\t43 & 0.001363281 & 0.005500268 & 0.000098600 & 0.001885564 & 0.000087500\\\\\n",
       "\t44 & 0.000916835 & 0.004062065 & 0.000000000 & 0.000061000 & 0.000000000\\\\\n",
       "\t45 & 0.000994050 & 0.004680000 & 0.000136572 & 0.001165957 & 0.000000000\\\\\n",
       "\t51 & 0.000842396 & 0.002737058 & 0.000145792 & 0.000000000 & 0.000000000\\\\\n",
       "\t52 & 0.001313667 & 0.004140448 & 0.000045400 & 0.000000000 & 0.000000000\\\\\n",
       "\t53 & 0.001682174 & 0.005174427 & 0.000162056 & 0.001105236 & 0.000170280\\\\\n",
       "\t54 & 0.001333159 & 0.004920000 & 0.000117959 & 0.000542336 & 0.000000000\\\\\n",
       "\t55 & 0.001414720 & 0.004396390 & 0.000034300 & 0.002005957 & 0.000000000\\\\\n",
       "\t56 & 0.000984632 & 0.003201915 & 0.000128700 & 0.000279521 & 0.000061500\\\\\n",
       "\t57 & 0.000670332 & 0.002110000 & 0.000220020 & 0.001060000 & 0.000102628\\\\\n",
       "\t58 & 0.000357270 & 0.000510080 & 0.000018060 & 0.000157210 & 0.000020100\\\\\n",
       "\t59 & 0.000899940 & 0.003663062 & 0.000050700 & 0.000000000 & 0.000000000\\\\\n",
       "\t60 & 0.001327666 & 0.004325574 & 0.000363913 & 0.000000000 & 0.000000000\\\\\n",
       "\\end{tabular}\n"
      ],
      "text/markdown": [
       "\n",
       "| <!--/--> | mass_400 | mass_500 | mass_600 | mass_700 | mass_800 |\n",
       "|---|---|---|---|---|---|\n",
       "| 21 | 0.001062645 | 0.003010000 | 0.000335309 | 0.000388805 | 0.000027700 |\n",
       "| 22 | 0.000811914 | 0.003326714 | 0.000184004 | 0.000000000 | 0.000000000 |\n",
       "| 23 | 0.001695508 | 0.004860000 | 0.000274761 | 0.000260920 | 0.000210027 |\n",
       "| 24 | 0.002129603 | 0.004932729 | 0.000528162 | 0.000000000 | 0.000000000 |\n",
       "| 25 | 0.001465557 | 0.004510000 | 0.000235537 | 0.000694272 | 0.000000000 |\n",
       "| 26 | 0.001476766 | 0.003660000 | 0.000189690 | 0.002070000 | 0.000152984 |\n",
       "| 27 | 0.001389394 | 0.004000000 | 0.000135987 | 0.001007187 | 0.000250384 |\n",
       "| 28 | 0.001608412 | 0.005220000 | 0.000298048 | 0.002244830 | 0.000000000 |\n",
       "| 29 | 0.001279760 | 0.003361392 | 0.000188343 | 0.000359554 | 0.000036000 |\n",
       "| 30 | 0.000921027 | 0.003243058 | 0.000498397 | 0.000555126 | 0.000000000 |\n",
       "| 36 | 0.001083977 | 0.003967501 | 0.000000000 | 0.000036500 | 0.000000000 |\n",
       "| 37 | 0.001402901 | 0.006183046 | 0.000166631 | 0.000260642 | 0.000000000 |\n",
       "| 38 | 0.001415367 | 0.003316345 | 0.000108669 | 0.000000000 | 0.000000000 |\n",
       "| 39 | 0.001924595 | 0.005143229 | 0.000159140 | 0.000601471 | 0.000000000 |\n",
       "| 40 | 0.001460686 | 0.004244063 | 0.000285706 | 0.000066100 | 0.000090100 |\n",
       "| 41 | 0.000950108 | 0.003730148 | 0.000000000 | 0.001132753 | 0.000042100 |\n",
       "| 42 | 0.000885233 | 0.003251898 | 0.000086500 | 0.000000000 | 0.000000000 |\n",
       "| 43 | 0.001363281 | 0.005500268 | 0.000098600 | 0.001885564 | 0.000087500 |\n",
       "| 44 | 0.000916835 | 0.004062065 | 0.000000000 | 0.000061000 | 0.000000000 |\n",
       "| 45 | 0.000994050 | 0.004680000 | 0.000136572 | 0.001165957 | 0.000000000 |\n",
       "| 51 | 0.000842396 | 0.002737058 | 0.000145792 | 0.000000000 | 0.000000000 |\n",
       "| 52 | 0.001313667 | 0.004140448 | 0.000045400 | 0.000000000 | 0.000000000 |\n",
       "| 53 | 0.001682174 | 0.005174427 | 0.000162056 | 0.001105236 | 0.000170280 |\n",
       "| 54 | 0.001333159 | 0.004920000 | 0.000117959 | 0.000542336 | 0.000000000 |\n",
       "| 55 | 0.001414720 | 0.004396390 | 0.000034300 | 0.002005957 | 0.000000000 |\n",
       "| 56 | 0.000984632 | 0.003201915 | 0.000128700 | 0.000279521 | 0.000061500 |\n",
       "| 57 | 0.000670332 | 0.002110000 | 0.000220020 | 0.001060000 | 0.000102628 |\n",
       "| 58 | 0.000357270 | 0.000510080 | 0.000018060 | 0.000157210 | 0.000020100 |\n",
       "| 59 | 0.000899940 | 0.003663062 | 0.000050700 | 0.000000000 | 0.000000000 |\n",
       "| 60 | 0.001327666 | 0.004325574 | 0.000363913 | 0.000000000 | 0.000000000 |\n",
       "\n"
      ],
      "text/plain": [
       "   mass_400    mass_500    mass_600    mass_700    mass_800   \n",
       "21 0.001062645 0.003010000 0.000335309 0.000388805 0.000027700\n",
       "22 0.000811914 0.003326714 0.000184004 0.000000000 0.000000000\n",
       "23 0.001695508 0.004860000 0.000274761 0.000260920 0.000210027\n",
       "24 0.002129603 0.004932729 0.000528162 0.000000000 0.000000000\n",
       "25 0.001465557 0.004510000 0.000235537 0.000694272 0.000000000\n",
       "26 0.001476766 0.003660000 0.000189690 0.002070000 0.000152984\n",
       "27 0.001389394 0.004000000 0.000135987 0.001007187 0.000250384\n",
       "28 0.001608412 0.005220000 0.000298048 0.002244830 0.000000000\n",
       "29 0.001279760 0.003361392 0.000188343 0.000359554 0.000036000\n",
       "30 0.000921027 0.003243058 0.000498397 0.000555126 0.000000000\n",
       "36 0.001083977 0.003967501 0.000000000 0.000036500 0.000000000\n",
       "37 0.001402901 0.006183046 0.000166631 0.000260642 0.000000000\n",
       "38 0.001415367 0.003316345 0.000108669 0.000000000 0.000000000\n",
       "39 0.001924595 0.005143229 0.000159140 0.000601471 0.000000000\n",
       "40 0.001460686 0.004244063 0.000285706 0.000066100 0.000090100\n",
       "41 0.000950108 0.003730148 0.000000000 0.001132753 0.000042100\n",
       "42 0.000885233 0.003251898 0.000086500 0.000000000 0.000000000\n",
       "43 0.001363281 0.005500268 0.000098600 0.001885564 0.000087500\n",
       "44 0.000916835 0.004062065 0.000000000 0.000061000 0.000000000\n",
       "45 0.000994050 0.004680000 0.000136572 0.001165957 0.000000000\n",
       "51 0.000842396 0.002737058 0.000145792 0.000000000 0.000000000\n",
       "52 0.001313667 0.004140448 0.000045400 0.000000000 0.000000000\n",
       "53 0.001682174 0.005174427 0.000162056 0.001105236 0.000170280\n",
       "54 0.001333159 0.004920000 0.000117959 0.000542336 0.000000000\n",
       "55 0.001414720 0.004396390 0.000034300 0.002005957 0.000000000\n",
       "56 0.000984632 0.003201915 0.000128700 0.000279521 0.000061500\n",
       "57 0.000670332 0.002110000 0.000220020 0.001060000 0.000102628\n",
       "58 0.000357270 0.000510080 0.000018060 0.000157210 0.000020100\n",
       "59 0.000899940 0.003663062 0.000050700 0.000000000 0.000000000\n",
       "60 0.001327666 0.004325574 0.000363913 0.000000000 0.000000000"
      ]
     },
     "metadata": {},
     "output_type": "display_data"
    },
    {
     "data": {
      "text/html": [
       "<table>\n",
       "<thead><tr><th></th><th scope=col>filename</th><th scope=col>MouseID</th><th scope=col>Treatmentgroup</th><th scope=col>DPI</th><th scope=col>organ</th><th scope=col>well_position</th><th scope=col>plate</th><th scope=col>mass_400</th><th scope=col>mass_500</th><th scope=col>mass_600</th><th scope=col>mass_700</th><th scope=col>mass_800</th></tr></thead>\n",
       "<tbody>\n",
       "\t<tr><th scope=row>21</th><td>X611_Group9_142dpi_LV_bottom_181_G_B9_P132.mzXML </td><td>611                                              </td><td>combo                                            </td><td>142dpi                                           </td><td>LV_bottom                                        </td><td>B9                                               </td><td>P132                                             </td><td>0.001062645                                      </td><td>0.003010000                                      </td><td>0.000335309                                      </td><td>0.000388805                                      </td><td>0.000027700                                      </td></tr>\n",
       "\t<tr><th scope=row>22</th><td>X612_Group9_142dpi_LV_bottom_182_G_B10_P132.mzXML</td><td>612                                              </td><td>combo                                            </td><td>142dpi                                           </td><td>LV_bottom                                        </td><td>B10                                              </td><td>P132                                             </td><td>0.000811914                                      </td><td>0.003326714                                      </td><td>0.000184004                                      </td><td>0.000000000                                      </td><td>0.000000000                                      </td></tr>\n",
       "\t<tr><th scope=row>23</th><td>X613_Group9_142dpi_LV_bottom_183_G_B11_P132.mzXML</td><td>613                                              </td><td>combo                                            </td><td>142dpi                                           </td><td>LV_bottom                                        </td><td>B11                                              </td><td>P132                                             </td><td>0.001695508                                      </td><td>0.004860000                                      </td><td>0.000274761                                      </td><td>0.000260920                                      </td><td>0.000210027                                      </td></tr>\n",
       "\t<tr><th scope=row>24</th><td>X614_Group9_142dpi_LV_bottom_184_G_B12_P132.mzXML</td><td>614                                              </td><td>combo                                            </td><td>142dpi                                           </td><td>LV_bottom                                        </td><td>B12                                              </td><td>P132                                             </td><td>0.002129603                                      </td><td>0.004932729                                      </td><td>0.000528162                                      </td><td>0.000000000                                      </td><td>0.000000000                                      </td></tr>\n",
       "\t<tr><th scope=row>25</th><td>X615_Group9_142dpi_LV_bottom_185_G_C1_P132.mzXML </td><td>615                                              </td><td>combo                                            </td><td>142dpi                                           </td><td>LV_bottom                                        </td><td>C1                                               </td><td>P132                                             </td><td>0.001465557                                      </td><td>0.004510000                                      </td><td>0.000235537                                      </td><td>0.000694272                                      </td><td>0.000000000                                      </td></tr>\n",
       "\t<tr><th scope=row>26</th><td>X631_Group15_142dpi_LV_bottom_191_G_C7_P132.mzXML</td><td>631                                              </td><td>BNZ                                              </td><td>142dpi                                           </td><td>LV_bottom                                        </td><td>C7                                               </td><td>P132                                             </td><td>0.001476766                                      </td><td>0.003660000                                      </td><td>0.000189690                                      </td><td>0.002070000                                      </td><td>0.000152984                                      </td></tr>\n",
       "</tbody>\n",
       "</table>\n"
      ],
      "text/latex": [
       "\\begin{tabular}{r|llllllllllll}\n",
       "  & filename & MouseID & Treatmentgroup & DPI & organ & well\\_position & plate & mass\\_400 & mass\\_500 & mass\\_600 & mass\\_700 & mass\\_800\\\\\n",
       "\\hline\n",
       "\t21 & X611\\_Group9\\_142dpi\\_LV\\_bottom\\_181\\_G\\_B9\\_P132.mzXML  & 611                                                               & combo                                                             & 142dpi                                                            & LV\\_bottom                                                       & B9                                                                & P132                                                              & 0.001062645                                                       & 0.003010000                                                       & 0.000335309                                                       & 0.000388805                                                       & 0.000027700                                                      \\\\\n",
       "\t22 & X612\\_Group9\\_142dpi\\_LV\\_bottom\\_182\\_G\\_B10\\_P132.mzXML & 612                                                               & combo                                                             & 142dpi                                                            & LV\\_bottom                                                       & B10                                                               & P132                                                              & 0.000811914                                                       & 0.003326714                                                       & 0.000184004                                                       & 0.000000000                                                       & 0.000000000                                                      \\\\\n",
       "\t23 & X613\\_Group9\\_142dpi\\_LV\\_bottom\\_183\\_G\\_B11\\_P132.mzXML & 613                                                               & combo                                                             & 142dpi                                                            & LV\\_bottom                                                       & B11                                                               & P132                                                              & 0.001695508                                                       & 0.004860000                                                       & 0.000274761                                                       & 0.000260920                                                       & 0.000210027                                                      \\\\\n",
       "\t24 & X614\\_Group9\\_142dpi\\_LV\\_bottom\\_184\\_G\\_B12\\_P132.mzXML & 614                                                               & combo                                                             & 142dpi                                                            & LV\\_bottom                                                       & B12                                                               & P132                                                              & 0.002129603                                                       & 0.004932729                                                       & 0.000528162                                                       & 0.000000000                                                       & 0.000000000                                                      \\\\\n",
       "\t25 & X615\\_Group9\\_142dpi\\_LV\\_bottom\\_185\\_G\\_C1\\_P132.mzXML  & 615                                                               & combo                                                             & 142dpi                                                            & LV\\_bottom                                                       & C1                                                                & P132                                                              & 0.001465557                                                       & 0.004510000                                                       & 0.000235537                                                       & 0.000694272                                                       & 0.000000000                                                      \\\\\n",
       "\t26 & X631\\_Group15\\_142dpi\\_LV\\_bottom\\_191\\_G\\_C7\\_P132.mzXML & 631                                                               & BNZ                                                               & 142dpi                                                            & LV\\_bottom                                                       & C7                                                                & P132                                                              & 0.001476766                                                       & 0.003660000                                                       & 0.000189690                                                       & 0.002070000                                                       & 0.000152984                                                      \\\\\n",
       "\\end{tabular}\n"
      ],
      "text/markdown": [
       "\n",
       "| <!--/--> | filename | MouseID | Treatmentgroup | DPI | organ | well_position | plate | mass_400 | mass_500 | mass_600 | mass_700 | mass_800 |\n",
       "|---|---|---|---|---|---|---|---|---|---|---|---|---|\n",
       "| 21 | X611_Group9_142dpi_LV_bottom_181_G_B9_P132.mzXML  | 611                                               | combo                                             | 142dpi                                            | LV_bottom                                         | B9                                                | P132                                              | 0.001062645                                       | 0.003010000                                       | 0.000335309                                       | 0.000388805                                       | 0.000027700                                       |\n",
       "| 22 | X612_Group9_142dpi_LV_bottom_182_G_B10_P132.mzXML | 612                                               | combo                                             | 142dpi                                            | LV_bottom                                         | B10                                               | P132                                              | 0.000811914                                       | 0.003326714                                       | 0.000184004                                       | 0.000000000                                       | 0.000000000                                       |\n",
       "| 23 | X613_Group9_142dpi_LV_bottom_183_G_B11_P132.mzXML | 613                                               | combo                                             | 142dpi                                            | LV_bottom                                         | B11                                               | P132                                              | 0.001695508                                       | 0.004860000                                       | 0.000274761                                       | 0.000260920                                       | 0.000210027                                       |\n",
       "| 24 | X614_Group9_142dpi_LV_bottom_184_G_B12_P132.mzXML | 614                                               | combo                                             | 142dpi                                            | LV_bottom                                         | B12                                               | P132                                              | 0.002129603                                       | 0.004932729                                       | 0.000528162                                       | 0.000000000                                       | 0.000000000                                       |\n",
       "| 25 | X615_Group9_142dpi_LV_bottom_185_G_C1_P132.mzXML  | 615                                               | combo                                             | 142dpi                                            | LV_bottom                                         | C1                                                | P132                                              | 0.001465557                                       | 0.004510000                                       | 0.000235537                                       | 0.000694272                                       | 0.000000000                                       |\n",
       "| 26 | X631_Group15_142dpi_LV_bottom_191_G_C7_P132.mzXML | 631                                               | BNZ                                               | 142dpi                                            | LV_bottom                                         | C7                                                | P132                                              | 0.001476766                                       | 0.003660000                                       | 0.000189690                                       | 0.002070000                                       | 0.000152984                                       |\n",
       "\n"
      ],
      "text/plain": [
       "   filename                                          MouseID Treatmentgroup\n",
       "21 X611_Group9_142dpi_LV_bottom_181_G_B9_P132.mzXML  611     combo         \n",
       "22 X612_Group9_142dpi_LV_bottom_182_G_B10_P132.mzXML 612     combo         \n",
       "23 X613_Group9_142dpi_LV_bottom_183_G_B11_P132.mzXML 613     combo         \n",
       "24 X614_Group9_142dpi_LV_bottom_184_G_B12_P132.mzXML 614     combo         \n",
       "25 X615_Group9_142dpi_LV_bottom_185_G_C1_P132.mzXML  615     combo         \n",
       "26 X631_Group15_142dpi_LV_bottom_191_G_C7_P132.mzXML 631     BNZ           \n",
       "   DPI    organ     well_position plate mass_400    mass_500    mass_600   \n",
       "21 142dpi LV_bottom B9            P132  0.001062645 0.003010000 0.000335309\n",
       "22 142dpi LV_bottom B10           P132  0.000811914 0.003326714 0.000184004\n",
       "23 142dpi LV_bottom B11           P132  0.001695508 0.004860000 0.000274761\n",
       "24 142dpi LV_bottom B12           P132  0.002129603 0.004932729 0.000528162\n",
       "25 142dpi LV_bottom C1            P132  0.001465557 0.004510000 0.000235537\n",
       "26 142dpi LV_bottom C7            P132  0.001476766 0.003660000 0.000189690\n",
       "   mass_700    mass_800   \n",
       "21 0.000388805 0.000027700\n",
       "22 0.000000000 0.000000000\n",
       "23 0.000260920 0.000210027\n",
       "24 0.000000000 0.000000000\n",
       "25 0.000694272 0.000000000\n",
       "26 0.002070000 0.000152984"
      ]
     },
     "metadata": {},
     "output_type": "display_data"
    },
    {
     "data": {
      "text/html": [
       "<ol class=list-inline>\n",
       "\t<li>30</li>\n",
       "\t<li>12</li>\n",
       "</ol>\n"
      ],
      "text/latex": [
       "\\begin{enumerate*}\n",
       "\\item 30\n",
       "\\item 12\n",
       "\\end{enumerate*}\n"
      ],
      "text/markdown": [
       "1. 30\n",
       "2. 12\n",
       "\n",
       "\n"
      ],
      "text/plain": [
       "[1] 30 12"
      ]
     },
     "metadata": {},
     "output_type": "display_data"
    },
    {
     "data": {
      "text/html": [
       "<ol class=list-inline>\n",
       "\t<li>30</li>\n",
       "\t<li>5</li>\n",
       "</ol>\n"
      ],
      "text/latex": [
       "\\begin{enumerate*}\n",
       "\\item 30\n",
       "\\item 5\n",
       "\\end{enumerate*}\n"
      ],
      "text/markdown": [
       "1. 30\n",
       "2. 5\n",
       "\n",
       "\n"
      ],
      "text/plain": [
       "[1] 30  5"
      ]
     },
     "metadata": {},
     "output_type": "display_data"
    },
    {
     "data": {
      "text/html": [
       "<ol class=list-inline>\n",
       "\t<li>30</li>\n",
       "\t<li>5</li>\n",
       "</ol>\n"
      ],
      "text/latex": [
       "\\begin{enumerate*}\n",
       "\\item 30\n",
       "\\item 5\n",
       "\\end{enumerate*}\n"
      ],
      "text/markdown": [
       "1. 30\n",
       "2. 5\n",
       "\n",
       "\n"
      ],
      "text/plain": [
       "[1] 30  5"
      ]
     },
     "metadata": {},
     "output_type": "display_data"
    },
    {
     "data": {
      "text/html": [
       "<ol class=list-inline>\n",
       "\t<li>30</li>\n",
       "\t<li>12</li>\n",
       "</ol>\n"
      ],
      "text/latex": [
       "\\begin{enumerate*}\n",
       "\\item 30\n",
       "\\item 12\n",
       "\\end{enumerate*}\n"
      ],
      "text/markdown": [
       "1. 30\n",
       "2. 12\n",
       "\n",
       "\n"
      ],
      "text/plain": [
       "[1] 30 12"
      ]
     },
     "metadata": {},
     "output_type": "display_data"
    }
   ],
   "source": [
    "noMeta<-features_pos[,8:12]\n",
    "head(noMeta)\n",
    "not_zero<-which(colSums(noMeta) != 0)\n",
    "head(not_zero)\n",
    "nonzero <- noMeta[, not_zero]\n",
    "nonzero\n",
    "nonzero_wMeta<-cbind(features_pos[,1:7], nonzero)\n",
    "head(nonzero_wMeta)\n",
    "dim(features_pos)\n",
    "dim(noMeta)\n",
    "dim(nonzero)\n",
    "dim(nonzero_wMeta)"
   ]
  },
  {
   "cell_type": "code",
   "execution_count": 5,
   "metadata": {
    "scrolled": true
   },
   "outputs": [
    {
     "name": "stderr",
     "output_type": "stream",
     "text": [
      "Warning message in wilcox.test.default(x = c(0.00018969, 0.000135987, 0.000298048, :\n",
      "\"cannot compute exact p-value with ties\"Warning message in wilcox.test.default(x = c(0.00207, 0.001007187, 0.00224483, 0.000359554, :\n",
      "\"cannot compute exact p-value with ties\"Warning message in wilcox.test.default(x = c(0.000152984, 0.000250384, 0, 3.6e-05, :\n",
      "\"cannot compute exact p-value with ties\""
     ]
    },
    {
     "data": {
      "text/html": [
       "<ol class=list-inline>\n",
       "\t<li>0.0209023068445138</li>\n",
       "\t<li>0.136974224446085</li>\n",
       "\t<li>0.533647306759947</li>\n",
       "\t<li>0.148583061170284</li>\n",
       "\t<li>0.232394017130157</li>\n",
       "</ol>\n"
      ],
      "text/latex": [
       "\\begin{enumerate*}\n",
       "\\item 0.0209023068445138\n",
       "\\item 0.136974224446085\n",
       "\\item 0.533647306759947\n",
       "\\item 0.148583061170284\n",
       "\\item 0.232394017130157\n",
       "\\end{enumerate*}\n"
      ],
      "text/markdown": [
       "1. 0.0209023068445138\n",
       "2. 0.136974224446085\n",
       "3. 0.533647306759947\n",
       "4. 0.148583061170284\n",
       "5. 0.232394017130157\n",
       "\n",
       "\n"
      ],
      "text/plain": [
       "[1] 0.02090231 0.13697422 0.53364731 0.14858306 0.23239402"
      ]
     },
     "metadata": {},
     "output_type": "display_data"
    },
    {
     "data": {
      "text/html": [
       "<ol class=list-inline>\n",
       "\t<li>0.104511534222569</li>\n",
       "\t<li>0.247638435283806</li>\n",
       "\t<li>0.533647306759947</li>\n",
       "\t<li>0.247638435283806</li>\n",
       "\t<li>0.290492521412697</li>\n",
       "</ol>\n"
      ],
      "text/latex": [
       "\\begin{enumerate*}\n",
       "\\item 0.104511534222569\n",
       "\\item 0.247638435283806\n",
       "\\item 0.533647306759947\n",
       "\\item 0.247638435283806\n",
       "\\item 0.290492521412697\n",
       "\\end{enumerate*}\n"
      ],
      "text/markdown": [
       "1. 0.104511534222569\n",
       "2. 0.247638435283806\n",
       "3. 0.533647306759947\n",
       "4. 0.247638435283806\n",
       "5. 0.290492521412697\n",
       "\n",
       "\n"
      ],
      "text/plain": [
       "[1] 0.1045115 0.2476384 0.5336473 0.2476384 0.2904925"
      ]
     },
     "metadata": {},
     "output_type": "display_data"
    }
   ],
   "source": [
    "pval<-c()\n",
    "\n",
    "for (i in 8:ncol(nonzero_wMeta)) \n",
    "pval<-c(pval,wilcox.test(nonzero_wMeta[,i]~nonzero_wMeta$Treatmentgroup)$p.value)\n",
    "head(pval)\n",
    "pAdj <- p.adjust(pval, method = c(\"fdr\"), n=length(pval)) \n",
    "head(pAdj) \n",
    "\n"
   ]
  },
  {
   "cell_type": "code",
   "execution_count": 6,
   "metadata": {
    "scrolled": true
   },
   "outputs": [
    {
     "data": {
      "text/html": [
       "5"
      ],
      "text/latex": [
       "5"
      ],
      "text/markdown": [
       "5"
      ],
      "text/plain": [
       "[1] 5"
      ]
     },
     "metadata": {},
     "output_type": "display_data"
    }
   ],
   "source": [
    "length(pval)"
   ]
  },
  {
   "cell_type": "code",
   "execution_count": 7,
   "metadata": {
    "scrolled": true
   },
   "outputs": [
    {
     "data": {
      "text/html": [
       "5"
      ],
      "text/latex": [
       "5"
      ],
      "text/markdown": [
       "5"
      ],
      "text/plain": [
       "[1] 5"
      ]
     },
     "metadata": {},
     "output_type": "display_data"
    }
   ],
   "source": [
    "length(pAdj)"
   ]
  },
  {
   "cell_type": "code",
   "execution_count": 8,
   "metadata": {},
   "outputs": [
    {
     "data": {
      "text/html": [
       "<ol class=list-inline>\n",
       "\t<li>2</li>\n",
       "\t<li>5</li>\n",
       "</ol>\n"
      ],
      "text/latex": [
       "\\begin{enumerate*}\n",
       "\\item 2\n",
       "\\item 5\n",
       "\\end{enumerate*}\n"
      ],
      "text/markdown": [
       "1. 2\n",
       "2. 5\n",
       "\n",
       "\n"
      ],
      "text/plain": [
       "[1] 2 5"
      ]
     },
     "metadata": {},
     "output_type": "display_data"
    },
    {
     "data": {
      "text/html": [
       "<table>\n",
       "<thead><tr><th></th><th scope=col>mass_400</th><th scope=col>mass_500</th><th scope=col>mass_600</th></tr></thead>\n",
       "<tbody>\n",
       "\t<tr><th scope=row>BNZ</th><td>0.001068314 </td><td>0.003634631 </td><td>0.0001609020</td></tr>\n",
       "\t<tr><th scope=row>combo</th><td>0.001402591 </td><td>0.004324130 </td><td>0.0001855617</td></tr>\n",
       "</tbody>\n",
       "</table>\n"
      ],
      "text/latex": [
       "\\begin{tabular}{r|lll}\n",
       "  & mass\\_400 & mass\\_500 & mass\\_600\\\\\n",
       "\\hline\n",
       "\tBNZ & 0.001068314  & 0.003634631  & 0.0001609020\\\\\n",
       "\tcombo & 0.001402591  & 0.004324130  & 0.0001855617\\\\\n",
       "\\end{tabular}\n"
      ],
      "text/markdown": [
       "\n",
       "| <!--/--> | mass_400 | mass_500 | mass_600 |\n",
       "|---|---|---|---|\n",
       "| BNZ | 0.001068314  | 0.003634631  | 0.0001609020 |\n",
       "| combo | 0.001402591  | 0.004324130  | 0.0001855617 |\n",
       "\n"
      ],
      "text/plain": [
       "      mass_400    mass_500    mass_600    \n",
       "BNZ   0.001068314 0.003634631 0.0001609020\n",
       "combo 0.001402591 0.004324130 0.0001855617"
      ]
     },
     "metadata": {},
     "output_type": "display_data"
    },
    {
     "data": {
      "text/html": [
       "<dl class=dl-horizontal>\n",
       "\t<dt>mass_400</dt>\n",
       "\t\t<dd>0.761671456768898</dd>\n",
       "\t<dt>mass_500</dt>\n",
       "\t\t<dd>0.840546113707651</dd>\n",
       "\t<dt>mass_600</dt>\n",
       "\t\t<dd>0.867107657972585</dd>\n",
       "\t<dt>mass_700</dt>\n",
       "\t\t<dd>2.00909457000969</dd>\n",
       "\t<dt>mass_800</dt>\n",
       "\t\t<dd>1.51211687448681</dd>\n",
       "</dl>\n"
      ],
      "text/latex": [
       "\\begin{description*}\n",
       "\\item[mass\\textbackslash{}\\_400] 0.761671456768898\n",
       "\\item[mass\\textbackslash{}\\_500] 0.840546113707651\n",
       "\\item[mass\\textbackslash{}\\_600] 0.867107657972585\n",
       "\\item[mass\\textbackslash{}\\_700] 2.00909457000969\n",
       "\\item[mass\\textbackslash{}\\_800] 1.51211687448681\n",
       "\\end{description*}\n"
      ],
      "text/markdown": [
       "mass_400\n",
       ":   0.761671456768898mass_500\n",
       ":   0.840546113707651mass_600\n",
       ":   0.867107657972585mass_700\n",
       ":   2.00909457000969mass_800\n",
       ":   1.51211687448681\n",
       "\n"
      ],
      "text/plain": [
       " mass_400  mass_500  mass_600  mass_700  mass_800 \n",
       "0.7616715 0.8405461 0.8671077 2.0090946 1.5121169 "
      ]
     },
     "metadata": {},
     "output_type": "display_data"
    },
    {
     "data": {
      "text/html": [
       "<ol class=list-inline>\n",
       "\t<li>'numeric'</li>\n",
       "\t<li>'vector'</li>\n",
       "</ol>\n"
      ],
      "text/latex": [
       "\\begin{enumerate*}\n",
       "\\item 'numeric'\n",
       "\\item 'vector'\n",
       "\\end{enumerate*}\n"
      ],
      "text/markdown": [
       "1. 'numeric'\n",
       "2. 'vector'\n",
       "\n",
       "\n"
      ],
      "text/plain": [
       "[1] \"numeric\" \"vector\" "
      ]
     },
     "metadata": {},
     "output_type": "display_data"
    }
   ],
   "source": [
    "avg<- apply(nonzero_wMeta[,8:ncol(nonzero_wMeta)], 2, function(x) tapply(x, nonzero_wMeta$Treatmentgroup, function(x) mean(x))) \n",
    "\n",
    "dim(avg)\n",
    "\n",
    "avg[,1:3]\n",
    "\n",
    "fch <- apply(avg, 2, function(x) x[1]/x[2])\n",
    "\n",
    "head(fch)\n",
    "is(fch)"
   ]
  },
  {
   "cell_type": "code",
   "execution_count": 9,
   "metadata": {
    "scrolled": true
   },
   "outputs": [
    {
     "data": {
      "text/html": [
       "<dl class=dl-horizontal>\n",
       "\t<dt>mass_400</dt>\n",
       "\t\t<dd>0.761671456768898</dd>\n",
       "\t<dt>mass_500</dt>\n",
       "\t\t<dd>0.840546113707651</dd>\n",
       "\t<dt>mass_600</dt>\n",
       "\t\t<dd>0.867107657972585</dd>\n",
       "\t<dt>mass_700</dt>\n",
       "\t\t<dd>2.00909457000969</dd>\n",
       "\t<dt>mass_800</dt>\n",
       "\t\t<dd>1.51211687448681</dd>\n",
       "</dl>\n"
      ],
      "text/latex": [
       "\\begin{description*}\n",
       "\\item[mass\\textbackslash{}\\_400] 0.761671456768898\n",
       "\\item[mass\\textbackslash{}\\_500] 0.840546113707651\n",
       "\\item[mass\\textbackslash{}\\_600] 0.867107657972585\n",
       "\\item[mass\\textbackslash{}\\_700] 2.00909457000969\n",
       "\\item[mass\\textbackslash{}\\_800] 1.51211687448681\n",
       "\\end{description*}\n"
      ],
      "text/markdown": [
       "mass_400\n",
       ":   0.761671456768898mass_500\n",
       ":   0.840546113707651mass_600\n",
       ":   0.867107657972585mass_700\n",
       ":   2.00909457000969mass_800\n",
       ":   1.51211687448681\n",
       "\n"
      ],
      "text/plain": [
       " mass_400  mass_500  mass_600  mass_700  mass_800 \n",
       "0.7616715 0.8405461 0.8671077 2.0090946 1.5121169 "
      ]
     },
     "metadata": {},
     "output_type": "display_data"
    }
   ],
   "source": [
    "fch"
   ]
  },
  {
   "cell_type": "code",
   "execution_count": 10,
   "metadata": {
    "scrolled": false
   },
   "outputs": [],
   "source": [
    "df <- data.frame(fch,pval, pAdj)\n",
    "write.csv(df, \"PE-treat-LVB-wilcox-combo-BNZ.csv\")"
   ]
  },
  {
   "cell_type": "code",
   "execution_count": null,
   "metadata": {},
   "outputs": [],
   "source": []
  },
  {
   "cell_type": "code",
   "execution_count": null,
   "metadata": {},
   "outputs": [],
   "source": []
  },
  {
   "cell_type": "code",
   "execution_count": null,
   "metadata": {},
   "outputs": [],
   "source": []
  },
  {
   "cell_type": "code",
   "execution_count": null,
   "metadata": {},
   "outputs": [],
   "source": []
  },
  {
   "cell_type": "code",
   "execution_count": null,
   "metadata": {},
   "outputs": [],
   "source": []
  },
  {
   "cell_type": "code",
   "execution_count": null,
   "metadata": {},
   "outputs": [],
   "source": []
  }
 ],
 "metadata": {
  "kernelspec": {
   "display_name": "R",
   "language": "R",
   "name": "ir"
  },
  "language_info": {
   "codemirror_mode": "r",
   "file_extension": ".r",
   "mimetype": "text/x-r-source",
   "name": "R",
   "pygments_lexer": "r",
   "version": "3.6.1"
  }
 },
 "nbformat": 4,
 "nbformat_minor": 2
}
