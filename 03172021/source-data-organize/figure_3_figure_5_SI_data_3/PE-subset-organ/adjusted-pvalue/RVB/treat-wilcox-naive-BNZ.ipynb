{
 "cells": [
  {
   "cell_type": "code",
   "execution_count": 1,
   "metadata": {},
   "outputs": [],
   "source": [
    "a <- read.csv(\"03172021-PE-treatment-RVB-M-F.csv\")"
   ]
  },
  {
   "cell_type": "code",
   "execution_count": 2,
   "metadata": {},
   "outputs": [
    {
     "data": {
      "text/html": [
       "<table>\n",
       "<thead><tr><th scope=col>filename</th><th scope=col>MouseID</th><th scope=col>Treatmentgroup</th><th scope=col>DPI</th><th scope=col>organ</th><th scope=col>well_position</th><th scope=col>plate</th><th scope=col>mass_400</th><th scope=col>mass_500</th><th scope=col>mass_600</th><th scope=col>mass_700</th><th scope=col>mass_800</th></tr></thead>\n",
       "<tbody>\n",
       "\t<tr><td>X511_Group1C_142dpi_RV_bottom_161_G_A1_P140.mzXML</td><td>511                                              </td><td>naive                                            </td><td>142dpi                                           </td><td>RV_bottom                                        </td><td>A1                                               </td><td>P140                                             </td><td>0.011070737                                      </td><td>0.001992138                                      </td><td>0                                                </td><td>0.00e+00                                         </td><td>0                                                </td></tr>\n",
       "\t<tr><td>X512_Group1C_142dpi_RV_bottom_162_G_A2_P140.mzXML</td><td>512                                              </td><td>naive                                            </td><td>142dpi                                           </td><td>RV_bottom                                        </td><td>A2                                               </td><td>P140                                             </td><td>0.018662542                                      </td><td>0.003579901                                      </td><td>0                                                </td><td>0.00e+00                                         </td><td>0                                                </td></tr>\n",
       "\t<tr><td>X513_Group1C_142dpi_RV_bottom_163_G_A3_P140.mzXML</td><td>513                                              </td><td>naive                                            </td><td>142dpi                                           </td><td>RV_bottom                                        </td><td>A3                                               </td><td>P140                                             </td><td>0.012768515                                      </td><td>0.002431946                                      </td><td>0                                                </td><td>0.00e+00                                         </td><td>0                                                </td></tr>\n",
       "\t<tr><td>X514_Group1C_142dpi_RV_bottom_164_G_A4_P140.mzXML</td><td>514                                              </td><td>naive                                            </td><td>142dpi                                           </td><td>RV_bottom                                        </td><td>A4                                               </td><td>P140                                             </td><td>0.000315233                                      </td><td>0.003336661                                      </td><td>0                                                </td><td>6.06e-05                                         </td><td>0                                                </td></tr>\n",
       "\t<tr><td>X515_Group1C_142dpi_RV_bottom_165_G_A5_P140.mzXML</td><td>515                                              </td><td>naive                                            </td><td>142dpi                                           </td><td>RV_bottom                                        </td><td>A5                                               </td><td>P140                                             </td><td>0.000593772                                      </td><td>0.004155339                                      </td><td>0                                                </td><td>0.00e+00                                         </td><td>0                                                </td></tr>\n",
       "\t<tr><td>X531_Group1C_142dpi_RV_bottom_166_G_A6_P140.mzXML</td><td>531                                              </td><td>naive                                            </td><td>142dpi                                           </td><td>RV_bottom                                        </td><td>A6                                               </td><td>P140                                             </td><td>0.000452000                                      </td><td>0.004626188                                      </td><td>0                                                </td><td>0.00e+00                                         </td><td>0                                                </td></tr>\n",
       "</tbody>\n",
       "</table>\n"
      ],
      "text/latex": [
       "\\begin{tabular}{r|llllllllllll}\n",
       " filename & MouseID & Treatmentgroup & DPI & organ & well\\_position & plate & mass\\_400 & mass\\_500 & mass\\_600 & mass\\_700 & mass\\_800\\\\\n",
       "\\hline\n",
       "\t X511\\_Group1C\\_142dpi\\_RV\\_bottom\\_161\\_G\\_A1\\_P140.mzXML & 511                                                               & naive                                                             & 142dpi                                                            & RV\\_bottom                                                       & A1                                                                & P140                                                              & 0.011070737                                                       & 0.001992138                                                       & 0                                                                 & 0.00e+00                                                          & 0                                                                \\\\\n",
       "\t X512\\_Group1C\\_142dpi\\_RV\\_bottom\\_162\\_G\\_A2\\_P140.mzXML & 512                                                               & naive                                                             & 142dpi                                                            & RV\\_bottom                                                       & A2                                                                & P140                                                              & 0.018662542                                                       & 0.003579901                                                       & 0                                                                 & 0.00e+00                                                          & 0                                                                \\\\\n",
       "\t X513\\_Group1C\\_142dpi\\_RV\\_bottom\\_163\\_G\\_A3\\_P140.mzXML & 513                                                               & naive                                                             & 142dpi                                                            & RV\\_bottom                                                       & A3                                                                & P140                                                              & 0.012768515                                                       & 0.002431946                                                       & 0                                                                 & 0.00e+00                                                          & 0                                                                \\\\\n",
       "\t X514\\_Group1C\\_142dpi\\_RV\\_bottom\\_164\\_G\\_A4\\_P140.mzXML & 514                                                               & naive                                                             & 142dpi                                                            & RV\\_bottom                                                       & A4                                                                & P140                                                              & 0.000315233                                                       & 0.003336661                                                       & 0                                                                 & 6.06e-05                                                          & 0                                                                \\\\\n",
       "\t X515\\_Group1C\\_142dpi\\_RV\\_bottom\\_165\\_G\\_A5\\_P140.mzXML & 515                                                               & naive                                                             & 142dpi                                                            & RV\\_bottom                                                       & A5                                                                & P140                                                              & 0.000593772                                                       & 0.004155339                                                       & 0                                                                 & 0.00e+00                                                          & 0                                                                \\\\\n",
       "\t X531\\_Group1C\\_142dpi\\_RV\\_bottom\\_166\\_G\\_A6\\_P140.mzXML & 531                                                               & naive                                                             & 142dpi                                                            & RV\\_bottom                                                       & A6                                                                & P140                                                              & 0.000452000                                                       & 0.004626188                                                       & 0                                                                 & 0.00e+00                                                          & 0                                                                \\\\\n",
       "\\end{tabular}\n"
      ],
      "text/markdown": [
       "\n",
       "| filename | MouseID | Treatmentgroup | DPI | organ | well_position | plate | mass_400 | mass_500 | mass_600 | mass_700 | mass_800 |\n",
       "|---|---|---|---|---|---|---|---|---|---|---|---|\n",
       "| X511_Group1C_142dpi_RV_bottom_161_G_A1_P140.mzXML | 511                                               | naive                                             | 142dpi                                            | RV_bottom                                         | A1                                                | P140                                              | 0.011070737                                       | 0.001992138                                       | 0                                                 | 0.00e+00                                          | 0                                                 |\n",
       "| X512_Group1C_142dpi_RV_bottom_162_G_A2_P140.mzXML | 512                                               | naive                                             | 142dpi                                            | RV_bottom                                         | A2                                                | P140                                              | 0.018662542                                       | 0.003579901                                       | 0                                                 | 0.00e+00                                          | 0                                                 |\n",
       "| X513_Group1C_142dpi_RV_bottom_163_G_A3_P140.mzXML | 513                                               | naive                                             | 142dpi                                            | RV_bottom                                         | A3                                                | P140                                              | 0.012768515                                       | 0.002431946                                       | 0                                                 | 0.00e+00                                          | 0                                                 |\n",
       "| X514_Group1C_142dpi_RV_bottom_164_G_A4_P140.mzXML | 514                                               | naive                                             | 142dpi                                            | RV_bottom                                         | A4                                                | P140                                              | 0.000315233                                       | 0.003336661                                       | 0                                                 | 6.06e-05                                          | 0                                                 |\n",
       "| X515_Group1C_142dpi_RV_bottom_165_G_A5_P140.mzXML | 515                                               | naive                                             | 142dpi                                            | RV_bottom                                         | A5                                                | P140                                              | 0.000593772                                       | 0.004155339                                       | 0                                                 | 0.00e+00                                          | 0                                                 |\n",
       "| X531_Group1C_142dpi_RV_bottom_166_G_A6_P140.mzXML | 531                                               | naive                                             | 142dpi                                            | RV_bottom                                         | A6                                                | P140                                              | 0.000452000                                       | 0.004626188                                       | 0                                                 | 0.00e+00                                          | 0                                                 |\n",
       "\n"
      ],
      "text/plain": [
       "  filename                                          MouseID Treatmentgroup\n",
       "1 X511_Group1C_142dpi_RV_bottom_161_G_A1_P140.mzXML 511     naive         \n",
       "2 X512_Group1C_142dpi_RV_bottom_162_G_A2_P140.mzXML 512     naive         \n",
       "3 X513_Group1C_142dpi_RV_bottom_163_G_A3_P140.mzXML 513     naive         \n",
       "4 X514_Group1C_142dpi_RV_bottom_164_G_A4_P140.mzXML 514     naive         \n",
       "5 X515_Group1C_142dpi_RV_bottom_165_G_A5_P140.mzXML 515     naive         \n",
       "6 X531_Group1C_142dpi_RV_bottom_166_G_A6_P140.mzXML 531     naive         \n",
       "  DPI    organ     well_position plate mass_400    mass_500    mass_600\n",
       "1 142dpi RV_bottom A1            P140  0.011070737 0.001992138 0       \n",
       "2 142dpi RV_bottom A2            P140  0.018662542 0.003579901 0       \n",
       "3 142dpi RV_bottom A3            P140  0.012768515 0.002431946 0       \n",
       "4 142dpi RV_bottom A4            P140  0.000315233 0.003336661 0       \n",
       "5 142dpi RV_bottom A5            P140  0.000593772 0.004155339 0       \n",
       "6 142dpi RV_bottom A6            P140  0.000452000 0.004626188 0       \n",
       "  mass_700 mass_800\n",
       "1 0.00e+00 0       \n",
       "2 0.00e+00 0       \n",
       "3 0.00e+00 0       \n",
       "4 6.06e-05 0       \n",
       "5 0.00e+00 0       \n",
       "6 0.00e+00 0       "
      ]
     },
     "metadata": {},
     "output_type": "display_data"
    },
    {
     "data": {
      "text/html": [
       "<ol class=list-inline>\n",
       "\t<li>60</li>\n",
       "\t<li>12</li>\n",
       "</ol>\n"
      ],
      "text/latex": [
       "\\begin{enumerate*}\n",
       "\\item 60\n",
       "\\item 12\n",
       "\\end{enumerate*}\n"
      ],
      "text/markdown": [
       "1. 60\n",
       "2. 12\n",
       "\n",
       "\n"
      ],
      "text/plain": [
       "[1] 60 12"
      ]
     },
     "metadata": {},
     "output_type": "display_data"
    }
   ],
   "source": [
    "head(a)\n",
    "dim(a)"
   ]
  },
  {
   "cell_type": "code",
   "execution_count": 3,
   "metadata": {},
   "outputs": [
    {
     "data": {
      "text/html": [
       "<table>\n",
       "<thead><tr><th scope=col>filename</th><th scope=col>MouseID</th><th scope=col>Treatmentgroup</th><th scope=col>DPI</th><th scope=col>organ</th><th scope=col>well_position</th><th scope=col>plate</th><th scope=col>mass_400</th><th scope=col>mass_500</th><th scope=col>mass_600</th><th scope=col>mass_700</th><th scope=col>mass_800</th></tr></thead>\n",
       "<tbody>\n",
       "\t<tr><td>X511_Group1C_142dpi_RV_bottom_161_G_A1_P140.mzXML</td><td>511                                              </td><td>naive                                            </td><td>142dpi                                           </td><td>RV_bottom                                        </td><td>A1                                               </td><td>P140                                             </td><td>0.011070737                                      </td><td>0.001992138                                      </td><td>0                                                </td><td>0.00e+00                                         </td><td>0                                                </td></tr>\n",
       "\t<tr><td>X512_Group1C_142dpi_RV_bottom_162_G_A2_P140.mzXML</td><td>512                                              </td><td>naive                                            </td><td>142dpi                                           </td><td>RV_bottom                                        </td><td>A2                                               </td><td>P140                                             </td><td>0.018662542                                      </td><td>0.003579901                                      </td><td>0                                                </td><td>0.00e+00                                         </td><td>0                                                </td></tr>\n",
       "\t<tr><td>X513_Group1C_142dpi_RV_bottom_163_G_A3_P140.mzXML</td><td>513                                              </td><td>naive                                            </td><td>142dpi                                           </td><td>RV_bottom                                        </td><td>A3                                               </td><td>P140                                             </td><td>0.012768515                                      </td><td>0.002431946                                      </td><td>0                                                </td><td>0.00e+00                                         </td><td>0                                                </td></tr>\n",
       "\t<tr><td>X514_Group1C_142dpi_RV_bottom_164_G_A4_P140.mzXML</td><td>514                                              </td><td>naive                                            </td><td>142dpi                                           </td><td>RV_bottom                                        </td><td>A4                                               </td><td>P140                                             </td><td>0.000315233                                      </td><td>0.003336661                                      </td><td>0                                                </td><td>6.06e-05                                         </td><td>0                                                </td></tr>\n",
       "\t<tr><td>X515_Group1C_142dpi_RV_bottom_165_G_A5_P140.mzXML</td><td>515                                              </td><td>naive                                            </td><td>142dpi                                           </td><td>RV_bottom                                        </td><td>A5                                               </td><td>P140                                             </td><td>0.000593772                                      </td><td>0.004155339                                      </td><td>0                                                </td><td>0.00e+00                                         </td><td>0                                                </td></tr>\n",
       "\t<tr><td>X531_Group1C_142dpi_RV_bottom_166_G_A6_P140.mzXML</td><td>531                                              </td><td>naive                                            </td><td>142dpi                                           </td><td>RV_bottom                                        </td><td>A6                                               </td><td>P140                                             </td><td>0.000452000                                      </td><td>0.004626188                                      </td><td>0                                                </td><td>0.00e+00                                         </td><td>0                                                </td></tr>\n",
       "</tbody>\n",
       "</table>\n"
      ],
      "text/latex": [
       "\\begin{tabular}{r|llllllllllll}\n",
       " filename & MouseID & Treatmentgroup & DPI & organ & well\\_position & plate & mass\\_400 & mass\\_500 & mass\\_600 & mass\\_700 & mass\\_800\\\\\n",
       "\\hline\n",
       "\t X511\\_Group1C\\_142dpi\\_RV\\_bottom\\_161\\_G\\_A1\\_P140.mzXML & 511                                                               & naive                                                             & 142dpi                                                            & RV\\_bottom                                                       & A1                                                                & P140                                                              & 0.011070737                                                       & 0.001992138                                                       & 0                                                                 & 0.00e+00                                                          & 0                                                                \\\\\n",
       "\t X512\\_Group1C\\_142dpi\\_RV\\_bottom\\_162\\_G\\_A2\\_P140.mzXML & 512                                                               & naive                                                             & 142dpi                                                            & RV\\_bottom                                                       & A2                                                                & P140                                                              & 0.018662542                                                       & 0.003579901                                                       & 0                                                                 & 0.00e+00                                                          & 0                                                                \\\\\n",
       "\t X513\\_Group1C\\_142dpi\\_RV\\_bottom\\_163\\_G\\_A3\\_P140.mzXML & 513                                                               & naive                                                             & 142dpi                                                            & RV\\_bottom                                                       & A3                                                                & P140                                                              & 0.012768515                                                       & 0.002431946                                                       & 0                                                                 & 0.00e+00                                                          & 0                                                                \\\\\n",
       "\t X514\\_Group1C\\_142dpi\\_RV\\_bottom\\_164\\_G\\_A4\\_P140.mzXML & 514                                                               & naive                                                             & 142dpi                                                            & RV\\_bottom                                                       & A4                                                                & P140                                                              & 0.000315233                                                       & 0.003336661                                                       & 0                                                                 & 6.06e-05                                                          & 0                                                                \\\\\n",
       "\t X515\\_Group1C\\_142dpi\\_RV\\_bottom\\_165\\_G\\_A5\\_P140.mzXML & 515                                                               & naive                                                             & 142dpi                                                            & RV\\_bottom                                                       & A5                                                                & P140                                                              & 0.000593772                                                       & 0.004155339                                                       & 0                                                                 & 0.00e+00                                                          & 0                                                                \\\\\n",
       "\t X531\\_Group1C\\_142dpi\\_RV\\_bottom\\_166\\_G\\_A6\\_P140.mzXML & 531                                                               & naive                                                             & 142dpi                                                            & RV\\_bottom                                                       & A6                                                                & P140                                                              & 0.000452000                                                       & 0.004626188                                                       & 0                                                                 & 0.00e+00                                                          & 0                                                                \\\\\n",
       "\\end{tabular}\n"
      ],
      "text/markdown": [
       "\n",
       "| filename | MouseID | Treatmentgroup | DPI | organ | well_position | plate | mass_400 | mass_500 | mass_600 | mass_700 | mass_800 |\n",
       "|---|---|---|---|---|---|---|---|---|---|---|---|\n",
       "| X511_Group1C_142dpi_RV_bottom_161_G_A1_P140.mzXML | 511                                               | naive                                             | 142dpi                                            | RV_bottom                                         | A1                                                | P140                                              | 0.011070737                                       | 0.001992138                                       | 0                                                 | 0.00e+00                                          | 0                                                 |\n",
       "| X512_Group1C_142dpi_RV_bottom_162_G_A2_P140.mzXML | 512                                               | naive                                             | 142dpi                                            | RV_bottom                                         | A2                                                | P140                                              | 0.018662542                                       | 0.003579901                                       | 0                                                 | 0.00e+00                                          | 0                                                 |\n",
       "| X513_Group1C_142dpi_RV_bottom_163_G_A3_P140.mzXML | 513                                               | naive                                             | 142dpi                                            | RV_bottom                                         | A3                                                | P140                                              | 0.012768515                                       | 0.002431946                                       | 0                                                 | 0.00e+00                                          | 0                                                 |\n",
       "| X514_Group1C_142dpi_RV_bottom_164_G_A4_P140.mzXML | 514                                               | naive                                             | 142dpi                                            | RV_bottom                                         | A4                                                | P140                                              | 0.000315233                                       | 0.003336661                                       | 0                                                 | 6.06e-05                                          | 0                                                 |\n",
       "| X515_Group1C_142dpi_RV_bottom_165_G_A5_P140.mzXML | 515                                               | naive                                             | 142dpi                                            | RV_bottom                                         | A5                                                | P140                                              | 0.000593772                                       | 0.004155339                                       | 0                                                 | 0.00e+00                                          | 0                                                 |\n",
       "| X531_Group1C_142dpi_RV_bottom_166_G_A6_P140.mzXML | 531                                               | naive                                             | 142dpi                                            | RV_bottom                                         | A6                                                | P140                                              | 0.000452000                                       | 0.004626188                                       | 0                                                 | 0.00e+00                                          | 0                                                 |\n",
       "\n"
      ],
      "text/plain": [
       "  filename                                          MouseID Treatmentgroup\n",
       "1 X511_Group1C_142dpi_RV_bottom_161_G_A1_P140.mzXML 511     naive         \n",
       "2 X512_Group1C_142dpi_RV_bottom_162_G_A2_P140.mzXML 512     naive         \n",
       "3 X513_Group1C_142dpi_RV_bottom_163_G_A3_P140.mzXML 513     naive         \n",
       "4 X514_Group1C_142dpi_RV_bottom_164_G_A4_P140.mzXML 514     naive         \n",
       "5 X515_Group1C_142dpi_RV_bottom_165_G_A5_P140.mzXML 515     naive         \n",
       "6 X531_Group1C_142dpi_RV_bottom_166_G_A6_P140.mzXML 531     naive         \n",
       "  DPI    organ     well_position plate mass_400    mass_500    mass_600\n",
       "1 142dpi RV_bottom A1            P140  0.011070737 0.001992138 0       \n",
       "2 142dpi RV_bottom A2            P140  0.018662542 0.003579901 0       \n",
       "3 142dpi RV_bottom A3            P140  0.012768515 0.002431946 0       \n",
       "4 142dpi RV_bottom A4            P140  0.000315233 0.003336661 0       \n",
       "5 142dpi RV_bottom A5            P140  0.000593772 0.004155339 0       \n",
       "6 142dpi RV_bottom A6            P140  0.000452000 0.004626188 0       \n",
       "  mass_700 mass_800\n",
       "1 0.00e+00 0       \n",
       "2 0.00e+00 0       \n",
       "3 0.00e+00 0       \n",
       "4 6.06e-05 0       \n",
       "5 0.00e+00 0       \n",
       "6 0.00e+00 0       "
      ]
     },
     "metadata": {},
     "output_type": "display_data"
    },
    {
     "data": {
      "text/html": [
       "<ol class=list-inline>\n",
       "\t<li>30</li>\n",
       "\t<li>12</li>\n",
       "</ol>\n"
      ],
      "text/latex": [
       "\\begin{enumerate*}\n",
       "\\item 30\n",
       "\\item 12\n",
       "\\end{enumerate*}\n"
      ],
      "text/markdown": [
       "1. 30\n",
       "2. 12\n",
       "\n",
       "\n"
      ],
      "text/plain": [
       "[1] 30 12"
      ]
     },
     "metadata": {},
     "output_type": "display_data"
    }
   ],
   "source": [
    "features_pos<-droplevels(subset(a, a$Treatmentgroup==c(\"naive\")|a$Treatmentgroup==c(\"BNZ\")))\n",
    "head(features_pos)\n",
    "dim(features_pos)"
   ]
  },
  {
   "cell_type": "code",
   "execution_count": 4,
   "metadata": {
    "scrolled": false
   },
   "outputs": [
    {
     "data": {
      "text/html": [
       "<table>\n",
       "<thead><tr><th scope=col>mass_400</th><th scope=col>mass_500</th><th scope=col>mass_600</th><th scope=col>mass_700</th><th scope=col>mass_800</th></tr></thead>\n",
       "<tbody>\n",
       "\t<tr><td>0.011070737</td><td>0.001992138</td><td>0          </td><td>0.00e+00   </td><td>0          </td></tr>\n",
       "\t<tr><td>0.018662542</td><td>0.003579901</td><td>0          </td><td>0.00e+00   </td><td>0          </td></tr>\n",
       "\t<tr><td>0.012768515</td><td>0.002431946</td><td>0          </td><td>0.00e+00   </td><td>0          </td></tr>\n",
       "\t<tr><td>0.000315233</td><td>0.003336661</td><td>0          </td><td>6.06e-05   </td><td>0          </td></tr>\n",
       "\t<tr><td>0.000593772</td><td>0.004155339</td><td>0          </td><td>0.00e+00   </td><td>0          </td></tr>\n",
       "\t<tr><td>0.000452000</td><td>0.004626188</td><td>0          </td><td>0.00e+00   </td><td>0          </td></tr>\n",
       "</tbody>\n",
       "</table>\n"
      ],
      "text/latex": [
       "\\begin{tabular}{r|lllll}\n",
       " mass\\_400 & mass\\_500 & mass\\_600 & mass\\_700 & mass\\_800\\\\\n",
       "\\hline\n",
       "\t 0.011070737 & 0.001992138 & 0           & 0.00e+00    & 0          \\\\\n",
       "\t 0.018662542 & 0.003579901 & 0           & 0.00e+00    & 0          \\\\\n",
       "\t 0.012768515 & 0.002431946 & 0           & 0.00e+00    & 0          \\\\\n",
       "\t 0.000315233 & 0.003336661 & 0           & 6.06e-05    & 0          \\\\\n",
       "\t 0.000593772 & 0.004155339 & 0           & 0.00e+00    & 0          \\\\\n",
       "\t 0.000452000 & 0.004626188 & 0           & 0.00e+00    & 0          \\\\\n",
       "\\end{tabular}\n"
      ],
      "text/markdown": [
       "\n",
       "| mass_400 | mass_500 | mass_600 | mass_700 | mass_800 |\n",
       "|---|---|---|---|---|\n",
       "| 0.011070737 | 0.001992138 | 0           | 0.00e+00    | 0           |\n",
       "| 0.018662542 | 0.003579901 | 0           | 0.00e+00    | 0           |\n",
       "| 0.012768515 | 0.002431946 | 0           | 0.00e+00    | 0           |\n",
       "| 0.000315233 | 0.003336661 | 0           | 6.06e-05    | 0           |\n",
       "| 0.000593772 | 0.004155339 | 0           | 0.00e+00    | 0           |\n",
       "| 0.000452000 | 0.004626188 | 0           | 0.00e+00    | 0           |\n",
       "\n"
      ],
      "text/plain": [
       "  mass_400    mass_500    mass_600 mass_700 mass_800\n",
       "1 0.011070737 0.001992138 0        0.00e+00 0       \n",
       "2 0.018662542 0.003579901 0        0.00e+00 0       \n",
       "3 0.012768515 0.002431946 0        0.00e+00 0       \n",
       "4 0.000315233 0.003336661 0        6.06e-05 0       \n",
       "5 0.000593772 0.004155339 0        0.00e+00 0       \n",
       "6 0.000452000 0.004626188 0        0.00e+00 0       "
      ]
     },
     "metadata": {},
     "output_type": "display_data"
    },
    {
     "data": {
      "text/html": [
       "<dl class=dl-horizontal>\n",
       "\t<dt>mass_400</dt>\n",
       "\t\t<dd>1</dd>\n",
       "\t<dt>mass_500</dt>\n",
       "\t\t<dd>2</dd>\n",
       "\t<dt>mass_700</dt>\n",
       "\t\t<dd>4</dd>\n",
       "</dl>\n"
      ],
      "text/latex": [
       "\\begin{description*}\n",
       "\\item[mass\\textbackslash{}\\_400] 1\n",
       "\\item[mass\\textbackslash{}\\_500] 2\n",
       "\\item[mass\\textbackslash{}\\_700] 4\n",
       "\\end{description*}\n"
      ],
      "text/markdown": [
       "mass_400\n",
       ":   1mass_500\n",
       ":   2mass_700\n",
       ":   4\n",
       "\n"
      ],
      "text/plain": [
       "mass_400 mass_500 mass_700 \n",
       "       1        2        4 "
      ]
     },
     "metadata": {},
     "output_type": "display_data"
    },
    {
     "data": {
      "text/html": [
       "<table>\n",
       "<thead><tr><th></th><th scope=col>mass_400</th><th scope=col>mass_500</th><th scope=col>mass_700</th></tr></thead>\n",
       "<tbody>\n",
       "\t<tr><th scope=row>1</th><td>0.011070737</td><td>0.001992138</td><td>0.00e+00   </td></tr>\n",
       "\t<tr><th scope=row>2</th><td>0.018662542</td><td>0.003579901</td><td>0.00e+00   </td></tr>\n",
       "\t<tr><th scope=row>3</th><td>0.012768515</td><td>0.002431946</td><td>0.00e+00   </td></tr>\n",
       "\t<tr><th scope=row>4</th><td>0.000315233</td><td>0.003336661</td><td>6.06e-05   </td></tr>\n",
       "\t<tr><th scope=row>5</th><td>0.000593772</td><td>0.004155339</td><td>0.00e+00   </td></tr>\n",
       "\t<tr><th scope=row>6</th><td>0.000452000</td><td>0.004626188</td><td>0.00e+00   </td></tr>\n",
       "\t<tr><th scope=row>7</th><td>0.000172605</td><td>0.002749717</td><td>0.00e+00   </td></tr>\n",
       "\t<tr><th scope=row>8</th><td>0.000379485</td><td>0.002792147</td><td>0.00e+00   </td></tr>\n",
       "\t<tr><th scope=row>9</th><td>0.018867684</td><td>0.004707539</td><td>0.00e+00   </td></tr>\n",
       "\t<tr><th scope=row>10</th><td>0.000431413</td><td>0.003617499</td><td>0.00e+00   </td></tr>\n",
       "\t<tr><th scope=row>11</th><td>0.000255216</td><td>0.002688105</td><td>0.00e+00   </td></tr>\n",
       "\t<tr><th scope=row>12</th><td>0.000625182</td><td>0.003676020</td><td>0.00e+00   </td></tr>\n",
       "\t<tr><th scope=row>13</th><td>0.000336561</td><td>0.002081335</td><td>0.00e+00   </td></tr>\n",
       "\t<tr><th scope=row>14</th><td>0.000445159</td><td>0.002118063</td><td>0.00e+00   </td></tr>\n",
       "\t<tr><th scope=row>15</th><td>0.000419589</td><td>0.002446562</td><td>0.00e+00   </td></tr>\n",
       "\t<tr><th scope=row>26</th><td>0.000065000</td><td>0.001412829</td><td>0.00e+00   </td></tr>\n",
       "\t<tr><th scope=row>27</th><td>0.000189248</td><td>0.002394802</td><td>0.00e+00   </td></tr>\n",
       "\t<tr><th scope=row>28</th><td>0.000267683</td><td>0.003025456</td><td>0.00e+00   </td></tr>\n",
       "\t<tr><th scope=row>29</th><td>0.000138145</td><td>0.002116952</td><td>0.00e+00   </td></tr>\n",
       "\t<tr><th scope=row>30</th><td>0.000000000</td><td>0.002608427</td><td>0.00e+00   </td></tr>\n",
       "\t<tr><th scope=row>41</th><td>0.017479238</td><td>0.002621634</td><td>0.00e+00   </td></tr>\n",
       "\t<tr><th scope=row>42</th><td>0.000344366</td><td>0.002474858</td><td>0.00e+00   </td></tr>\n",
       "\t<tr><th scope=row>43</th><td>0.000609470</td><td>0.004579832</td><td>0.00e+00   </td></tr>\n",
       "\t<tr><th scope=row>44</th><td>0.000178069</td><td>0.001947830</td><td>0.00e+00   </td></tr>\n",
       "\t<tr><th scope=row>45</th><td>0.000275836</td><td>0.002912757</td><td>0.00e+00   </td></tr>\n",
       "\t<tr><th scope=row>56</th><td>0.000442380</td><td>0.002273473</td><td>0.00e+00   </td></tr>\n",
       "\t<tr><th scope=row>57</th><td>0.000432847</td><td>0.003496355</td><td>0.00e+00   </td></tr>\n",
       "\t<tr><th scope=row>58</th><td>0.000394852</td><td>0.002737354</td><td>0.00e+00   </td></tr>\n",
       "\t<tr><th scope=row>59</th><td>0.000443452</td><td>0.002942443</td><td>0.00e+00   </td></tr>\n",
       "\t<tr><th scope=row>60</th><td>0.000476418</td><td>0.003287744</td><td>0.00e+00   </td></tr>\n",
       "</tbody>\n",
       "</table>\n"
      ],
      "text/latex": [
       "\\begin{tabular}{r|lll}\n",
       "  & mass\\_400 & mass\\_500 & mass\\_700\\\\\n",
       "\\hline\n",
       "\t1 & 0.011070737 & 0.001992138 & 0.00e+00   \\\\\n",
       "\t2 & 0.018662542 & 0.003579901 & 0.00e+00   \\\\\n",
       "\t3 & 0.012768515 & 0.002431946 & 0.00e+00   \\\\\n",
       "\t4 & 0.000315233 & 0.003336661 & 6.06e-05   \\\\\n",
       "\t5 & 0.000593772 & 0.004155339 & 0.00e+00   \\\\\n",
       "\t6 & 0.000452000 & 0.004626188 & 0.00e+00   \\\\\n",
       "\t7 & 0.000172605 & 0.002749717 & 0.00e+00   \\\\\n",
       "\t8 & 0.000379485 & 0.002792147 & 0.00e+00   \\\\\n",
       "\t9 & 0.018867684 & 0.004707539 & 0.00e+00   \\\\\n",
       "\t10 & 0.000431413 & 0.003617499 & 0.00e+00   \\\\\n",
       "\t11 & 0.000255216 & 0.002688105 & 0.00e+00   \\\\\n",
       "\t12 & 0.000625182 & 0.003676020 & 0.00e+00   \\\\\n",
       "\t13 & 0.000336561 & 0.002081335 & 0.00e+00   \\\\\n",
       "\t14 & 0.000445159 & 0.002118063 & 0.00e+00   \\\\\n",
       "\t15 & 0.000419589 & 0.002446562 & 0.00e+00   \\\\\n",
       "\t26 & 0.000065000 & 0.001412829 & 0.00e+00   \\\\\n",
       "\t27 & 0.000189248 & 0.002394802 & 0.00e+00   \\\\\n",
       "\t28 & 0.000267683 & 0.003025456 & 0.00e+00   \\\\\n",
       "\t29 & 0.000138145 & 0.002116952 & 0.00e+00   \\\\\n",
       "\t30 & 0.000000000 & 0.002608427 & 0.00e+00   \\\\\n",
       "\t41 & 0.017479238 & 0.002621634 & 0.00e+00   \\\\\n",
       "\t42 & 0.000344366 & 0.002474858 & 0.00e+00   \\\\\n",
       "\t43 & 0.000609470 & 0.004579832 & 0.00e+00   \\\\\n",
       "\t44 & 0.000178069 & 0.001947830 & 0.00e+00   \\\\\n",
       "\t45 & 0.000275836 & 0.002912757 & 0.00e+00   \\\\\n",
       "\t56 & 0.000442380 & 0.002273473 & 0.00e+00   \\\\\n",
       "\t57 & 0.000432847 & 0.003496355 & 0.00e+00   \\\\\n",
       "\t58 & 0.000394852 & 0.002737354 & 0.00e+00   \\\\\n",
       "\t59 & 0.000443452 & 0.002942443 & 0.00e+00   \\\\\n",
       "\t60 & 0.000476418 & 0.003287744 & 0.00e+00   \\\\\n",
       "\\end{tabular}\n"
      ],
      "text/markdown": [
       "\n",
       "| <!--/--> | mass_400 | mass_500 | mass_700 |\n",
       "|---|---|---|---|\n",
       "| 1 | 0.011070737 | 0.001992138 | 0.00e+00    |\n",
       "| 2 | 0.018662542 | 0.003579901 | 0.00e+00    |\n",
       "| 3 | 0.012768515 | 0.002431946 | 0.00e+00    |\n",
       "| 4 | 0.000315233 | 0.003336661 | 6.06e-05    |\n",
       "| 5 | 0.000593772 | 0.004155339 | 0.00e+00    |\n",
       "| 6 | 0.000452000 | 0.004626188 | 0.00e+00    |\n",
       "| 7 | 0.000172605 | 0.002749717 | 0.00e+00    |\n",
       "| 8 | 0.000379485 | 0.002792147 | 0.00e+00    |\n",
       "| 9 | 0.018867684 | 0.004707539 | 0.00e+00    |\n",
       "| 10 | 0.000431413 | 0.003617499 | 0.00e+00    |\n",
       "| 11 | 0.000255216 | 0.002688105 | 0.00e+00    |\n",
       "| 12 | 0.000625182 | 0.003676020 | 0.00e+00    |\n",
       "| 13 | 0.000336561 | 0.002081335 | 0.00e+00    |\n",
       "| 14 | 0.000445159 | 0.002118063 | 0.00e+00    |\n",
       "| 15 | 0.000419589 | 0.002446562 | 0.00e+00    |\n",
       "| 26 | 0.000065000 | 0.001412829 | 0.00e+00    |\n",
       "| 27 | 0.000189248 | 0.002394802 | 0.00e+00    |\n",
       "| 28 | 0.000267683 | 0.003025456 | 0.00e+00    |\n",
       "| 29 | 0.000138145 | 0.002116952 | 0.00e+00    |\n",
       "| 30 | 0.000000000 | 0.002608427 | 0.00e+00    |\n",
       "| 41 | 0.017479238 | 0.002621634 | 0.00e+00    |\n",
       "| 42 | 0.000344366 | 0.002474858 | 0.00e+00    |\n",
       "| 43 | 0.000609470 | 0.004579832 | 0.00e+00    |\n",
       "| 44 | 0.000178069 | 0.001947830 | 0.00e+00    |\n",
       "| 45 | 0.000275836 | 0.002912757 | 0.00e+00    |\n",
       "| 56 | 0.000442380 | 0.002273473 | 0.00e+00    |\n",
       "| 57 | 0.000432847 | 0.003496355 | 0.00e+00    |\n",
       "| 58 | 0.000394852 | 0.002737354 | 0.00e+00    |\n",
       "| 59 | 0.000443452 | 0.002942443 | 0.00e+00    |\n",
       "| 60 | 0.000476418 | 0.003287744 | 0.00e+00    |\n",
       "\n"
      ],
      "text/plain": [
       "   mass_400    mass_500    mass_700\n",
       "1  0.011070737 0.001992138 0.00e+00\n",
       "2  0.018662542 0.003579901 0.00e+00\n",
       "3  0.012768515 0.002431946 0.00e+00\n",
       "4  0.000315233 0.003336661 6.06e-05\n",
       "5  0.000593772 0.004155339 0.00e+00\n",
       "6  0.000452000 0.004626188 0.00e+00\n",
       "7  0.000172605 0.002749717 0.00e+00\n",
       "8  0.000379485 0.002792147 0.00e+00\n",
       "9  0.018867684 0.004707539 0.00e+00\n",
       "10 0.000431413 0.003617499 0.00e+00\n",
       "11 0.000255216 0.002688105 0.00e+00\n",
       "12 0.000625182 0.003676020 0.00e+00\n",
       "13 0.000336561 0.002081335 0.00e+00\n",
       "14 0.000445159 0.002118063 0.00e+00\n",
       "15 0.000419589 0.002446562 0.00e+00\n",
       "26 0.000065000 0.001412829 0.00e+00\n",
       "27 0.000189248 0.002394802 0.00e+00\n",
       "28 0.000267683 0.003025456 0.00e+00\n",
       "29 0.000138145 0.002116952 0.00e+00\n",
       "30 0.000000000 0.002608427 0.00e+00\n",
       "41 0.017479238 0.002621634 0.00e+00\n",
       "42 0.000344366 0.002474858 0.00e+00\n",
       "43 0.000609470 0.004579832 0.00e+00\n",
       "44 0.000178069 0.001947830 0.00e+00\n",
       "45 0.000275836 0.002912757 0.00e+00\n",
       "56 0.000442380 0.002273473 0.00e+00\n",
       "57 0.000432847 0.003496355 0.00e+00\n",
       "58 0.000394852 0.002737354 0.00e+00\n",
       "59 0.000443452 0.002942443 0.00e+00\n",
       "60 0.000476418 0.003287744 0.00e+00"
      ]
     },
     "metadata": {},
     "output_type": "display_data"
    },
    {
     "data": {
      "text/html": [
       "<table>\n",
       "<thead><tr><th scope=col>filename</th><th scope=col>MouseID</th><th scope=col>Treatmentgroup</th><th scope=col>DPI</th><th scope=col>organ</th><th scope=col>well_position</th><th scope=col>plate</th><th scope=col>mass_400</th><th scope=col>mass_500</th><th scope=col>mass_700</th></tr></thead>\n",
       "<tbody>\n",
       "\t<tr><td>X511_Group1C_142dpi_RV_bottom_161_G_A1_P140.mzXML</td><td>511                                              </td><td>naive                                            </td><td>142dpi                                           </td><td>RV_bottom                                        </td><td>A1                                               </td><td>P140                                             </td><td>0.011070737                                      </td><td>0.001992138                                      </td><td>0.00e+00                                         </td></tr>\n",
       "\t<tr><td>X512_Group1C_142dpi_RV_bottom_162_G_A2_P140.mzXML</td><td>512                                              </td><td>naive                                            </td><td>142dpi                                           </td><td>RV_bottom                                        </td><td>A2                                               </td><td>P140                                             </td><td>0.018662542                                      </td><td>0.003579901                                      </td><td>0.00e+00                                         </td></tr>\n",
       "\t<tr><td>X513_Group1C_142dpi_RV_bottom_163_G_A3_P140.mzXML</td><td>513                                              </td><td>naive                                            </td><td>142dpi                                           </td><td>RV_bottom                                        </td><td>A3                                               </td><td>P140                                             </td><td>0.012768515                                      </td><td>0.002431946                                      </td><td>0.00e+00                                         </td></tr>\n",
       "\t<tr><td>X514_Group1C_142dpi_RV_bottom_164_G_A4_P140.mzXML</td><td>514                                              </td><td>naive                                            </td><td>142dpi                                           </td><td>RV_bottom                                        </td><td>A4                                               </td><td>P140                                             </td><td>0.000315233                                      </td><td>0.003336661                                      </td><td>6.06e-05                                         </td></tr>\n",
       "\t<tr><td>X515_Group1C_142dpi_RV_bottom_165_G_A5_P140.mzXML</td><td>515                                              </td><td>naive                                            </td><td>142dpi                                           </td><td>RV_bottom                                        </td><td>A5                                               </td><td>P140                                             </td><td>0.000593772                                      </td><td>0.004155339                                      </td><td>0.00e+00                                         </td></tr>\n",
       "\t<tr><td>X531_Group1C_142dpi_RV_bottom_166_G_A6_P140.mzXML</td><td>531                                              </td><td>naive                                            </td><td>142dpi                                           </td><td>RV_bottom                                        </td><td>A6                                               </td><td>P140                                             </td><td>0.000452000                                      </td><td>0.004626188                                      </td><td>0.00e+00                                         </td></tr>\n",
       "</tbody>\n",
       "</table>\n"
      ],
      "text/latex": [
       "\\begin{tabular}{r|llllllllll}\n",
       " filename & MouseID & Treatmentgroup & DPI & organ & well\\_position & plate & mass\\_400 & mass\\_500 & mass\\_700\\\\\n",
       "\\hline\n",
       "\t X511\\_Group1C\\_142dpi\\_RV\\_bottom\\_161\\_G\\_A1\\_P140.mzXML & 511                                                               & naive                                                             & 142dpi                                                            & RV\\_bottom                                                       & A1                                                                & P140                                                              & 0.011070737                                                       & 0.001992138                                                       & 0.00e+00                                                         \\\\\n",
       "\t X512\\_Group1C\\_142dpi\\_RV\\_bottom\\_162\\_G\\_A2\\_P140.mzXML & 512                                                               & naive                                                             & 142dpi                                                            & RV\\_bottom                                                       & A2                                                                & P140                                                              & 0.018662542                                                       & 0.003579901                                                       & 0.00e+00                                                         \\\\\n",
       "\t X513\\_Group1C\\_142dpi\\_RV\\_bottom\\_163\\_G\\_A3\\_P140.mzXML & 513                                                               & naive                                                             & 142dpi                                                            & RV\\_bottom                                                       & A3                                                                & P140                                                              & 0.012768515                                                       & 0.002431946                                                       & 0.00e+00                                                         \\\\\n",
       "\t X514\\_Group1C\\_142dpi\\_RV\\_bottom\\_164\\_G\\_A4\\_P140.mzXML & 514                                                               & naive                                                             & 142dpi                                                            & RV\\_bottom                                                       & A4                                                                & P140                                                              & 0.000315233                                                       & 0.003336661                                                       & 6.06e-05                                                         \\\\\n",
       "\t X515\\_Group1C\\_142dpi\\_RV\\_bottom\\_165\\_G\\_A5\\_P140.mzXML & 515                                                               & naive                                                             & 142dpi                                                            & RV\\_bottom                                                       & A5                                                                & P140                                                              & 0.000593772                                                       & 0.004155339                                                       & 0.00e+00                                                         \\\\\n",
       "\t X531\\_Group1C\\_142dpi\\_RV\\_bottom\\_166\\_G\\_A6\\_P140.mzXML & 531                                                               & naive                                                             & 142dpi                                                            & RV\\_bottom                                                       & A6                                                                & P140                                                              & 0.000452000                                                       & 0.004626188                                                       & 0.00e+00                                                         \\\\\n",
       "\\end{tabular}\n"
      ],
      "text/markdown": [
       "\n",
       "| filename | MouseID | Treatmentgroup | DPI | organ | well_position | plate | mass_400 | mass_500 | mass_700 |\n",
       "|---|---|---|---|---|---|---|---|---|---|\n",
       "| X511_Group1C_142dpi_RV_bottom_161_G_A1_P140.mzXML | 511                                               | naive                                             | 142dpi                                            | RV_bottom                                         | A1                                                | P140                                              | 0.011070737                                       | 0.001992138                                       | 0.00e+00                                          |\n",
       "| X512_Group1C_142dpi_RV_bottom_162_G_A2_P140.mzXML | 512                                               | naive                                             | 142dpi                                            | RV_bottom                                         | A2                                                | P140                                              | 0.018662542                                       | 0.003579901                                       | 0.00e+00                                          |\n",
       "| X513_Group1C_142dpi_RV_bottom_163_G_A3_P140.mzXML | 513                                               | naive                                             | 142dpi                                            | RV_bottom                                         | A3                                                | P140                                              | 0.012768515                                       | 0.002431946                                       | 0.00e+00                                          |\n",
       "| X514_Group1C_142dpi_RV_bottom_164_G_A4_P140.mzXML | 514                                               | naive                                             | 142dpi                                            | RV_bottom                                         | A4                                                | P140                                              | 0.000315233                                       | 0.003336661                                       | 6.06e-05                                          |\n",
       "| X515_Group1C_142dpi_RV_bottom_165_G_A5_P140.mzXML | 515                                               | naive                                             | 142dpi                                            | RV_bottom                                         | A5                                                | P140                                              | 0.000593772                                       | 0.004155339                                       | 0.00e+00                                          |\n",
       "| X531_Group1C_142dpi_RV_bottom_166_G_A6_P140.mzXML | 531                                               | naive                                             | 142dpi                                            | RV_bottom                                         | A6                                                | P140                                              | 0.000452000                                       | 0.004626188                                       | 0.00e+00                                          |\n",
       "\n"
      ],
      "text/plain": [
       "  filename                                          MouseID Treatmentgroup\n",
       "1 X511_Group1C_142dpi_RV_bottom_161_G_A1_P140.mzXML 511     naive         \n",
       "2 X512_Group1C_142dpi_RV_bottom_162_G_A2_P140.mzXML 512     naive         \n",
       "3 X513_Group1C_142dpi_RV_bottom_163_G_A3_P140.mzXML 513     naive         \n",
       "4 X514_Group1C_142dpi_RV_bottom_164_G_A4_P140.mzXML 514     naive         \n",
       "5 X515_Group1C_142dpi_RV_bottom_165_G_A5_P140.mzXML 515     naive         \n",
       "6 X531_Group1C_142dpi_RV_bottom_166_G_A6_P140.mzXML 531     naive         \n",
       "  DPI    organ     well_position plate mass_400    mass_500    mass_700\n",
       "1 142dpi RV_bottom A1            P140  0.011070737 0.001992138 0.00e+00\n",
       "2 142dpi RV_bottom A2            P140  0.018662542 0.003579901 0.00e+00\n",
       "3 142dpi RV_bottom A3            P140  0.012768515 0.002431946 0.00e+00\n",
       "4 142dpi RV_bottom A4            P140  0.000315233 0.003336661 6.06e-05\n",
       "5 142dpi RV_bottom A5            P140  0.000593772 0.004155339 0.00e+00\n",
       "6 142dpi RV_bottom A6            P140  0.000452000 0.004626188 0.00e+00"
      ]
     },
     "metadata": {},
     "output_type": "display_data"
    },
    {
     "data": {
      "text/html": [
       "<ol class=list-inline>\n",
       "\t<li>30</li>\n",
       "\t<li>12</li>\n",
       "</ol>\n"
      ],
      "text/latex": [
       "\\begin{enumerate*}\n",
       "\\item 30\n",
       "\\item 12\n",
       "\\end{enumerate*}\n"
      ],
      "text/markdown": [
       "1. 30\n",
       "2. 12\n",
       "\n",
       "\n"
      ],
      "text/plain": [
       "[1] 30 12"
      ]
     },
     "metadata": {},
     "output_type": "display_data"
    },
    {
     "data": {
      "text/html": [
       "<ol class=list-inline>\n",
       "\t<li>30</li>\n",
       "\t<li>5</li>\n",
       "</ol>\n"
      ],
      "text/latex": [
       "\\begin{enumerate*}\n",
       "\\item 30\n",
       "\\item 5\n",
       "\\end{enumerate*}\n"
      ],
      "text/markdown": [
       "1. 30\n",
       "2. 5\n",
       "\n",
       "\n"
      ],
      "text/plain": [
       "[1] 30  5"
      ]
     },
     "metadata": {},
     "output_type": "display_data"
    },
    {
     "data": {
      "text/html": [
       "<ol class=list-inline>\n",
       "\t<li>30</li>\n",
       "\t<li>3</li>\n",
       "</ol>\n"
      ],
      "text/latex": [
       "\\begin{enumerate*}\n",
       "\\item 30\n",
       "\\item 3\n",
       "\\end{enumerate*}\n"
      ],
      "text/markdown": [
       "1. 30\n",
       "2. 3\n",
       "\n",
       "\n"
      ],
      "text/plain": [
       "[1] 30  3"
      ]
     },
     "metadata": {},
     "output_type": "display_data"
    },
    {
     "data": {
      "text/html": [
       "<ol class=list-inline>\n",
       "\t<li>30</li>\n",
       "\t<li>10</li>\n",
       "</ol>\n"
      ],
      "text/latex": [
       "\\begin{enumerate*}\n",
       "\\item 30\n",
       "\\item 10\n",
       "\\end{enumerate*}\n"
      ],
      "text/markdown": [
       "1. 30\n",
       "2. 10\n",
       "\n",
       "\n"
      ],
      "text/plain": [
       "[1] 30 10"
      ]
     },
     "metadata": {},
     "output_type": "display_data"
    }
   ],
   "source": [
    "noMeta<-features_pos[,8:12]\n",
    "head(noMeta)\n",
    "not_zero<-which(colSums(noMeta) != 0)\n",
    "head(not_zero)\n",
    "nonzero <- noMeta[, not_zero]\n",
    "nonzero\n",
    "nonzero_wMeta<-cbind(features_pos[,1:7], nonzero)\n",
    "head(nonzero_wMeta)\n",
    "dim(features_pos)\n",
    "dim(noMeta)\n",
    "dim(nonzero)\n",
    "dim(nonzero_wMeta)"
   ]
  },
  {
   "cell_type": "code",
   "execution_count": 5,
   "metadata": {
    "scrolled": true
   },
   "outputs": [
    {
     "name": "stderr",
     "output_type": "stream",
     "text": [
      "Warning message in wilcox.test.default(x = c(0, 0, 0, 0, 0, 0, 0, 0, 0, 0, 0, 0, :\n",
      "\"cannot compute exact p-value with ties\""
     ]
    },
    {
     "data": {
      "text/html": [
       "<ol class=list-inline>\n",
       "\t<li>0.0674961538838424</li>\n",
       "\t<li>0.232811909318818</li>\n",
       "\t<li>0.350647889704459</li>\n",
       "</ol>\n"
      ],
      "text/latex": [
       "\\begin{enumerate*}\n",
       "\\item 0.0674961538838424\n",
       "\\item 0.232811909318818\n",
       "\\item 0.350647889704459\n",
       "\\end{enumerate*}\n"
      ],
      "text/markdown": [
       "1. 0.0674961538838424\n",
       "2. 0.232811909318818\n",
       "3. 0.350647889704459\n",
       "\n",
       "\n"
      ],
      "text/plain": [
       "[1] 0.06749615 0.23281191 0.35064789"
      ]
     },
     "metadata": {},
     "output_type": "display_data"
    },
    {
     "data": {
      "text/html": [
       "<ol class=list-inline>\n",
       "\t<li>0.202488461651527</li>\n",
       "\t<li>0.349217863978228</li>\n",
       "\t<li>0.350647889704459</li>\n",
       "</ol>\n"
      ],
      "text/latex": [
       "\\begin{enumerate*}\n",
       "\\item 0.202488461651527\n",
       "\\item 0.349217863978228\n",
       "\\item 0.350647889704459\n",
       "\\end{enumerate*}\n"
      ],
      "text/markdown": [
       "1. 0.202488461651527\n",
       "2. 0.349217863978228\n",
       "3. 0.350647889704459\n",
       "\n",
       "\n"
      ],
      "text/plain": [
       "[1] 0.2024885 0.3492179 0.3506479"
      ]
     },
     "metadata": {},
     "output_type": "display_data"
    }
   ],
   "source": [
    "pval<-c()\n",
    "\n",
    "for (i in 8:ncol(nonzero_wMeta)) \n",
    "pval<-c(pval,wilcox.test(nonzero_wMeta[,i]~nonzero_wMeta$Treatmentgroup)$p.value)\n",
    "head(pval)\n",
    "pAdj <- p.adjust(pval, method = c(\"fdr\"), n=length(pval)) \n",
    "head(pAdj) \n",
    "\n"
   ]
  },
  {
   "cell_type": "code",
   "execution_count": 6,
   "metadata": {
    "scrolled": true
   },
   "outputs": [
    {
     "data": {
      "text/html": [
       "3"
      ],
      "text/latex": [
       "3"
      ],
      "text/markdown": [
       "3"
      ],
      "text/plain": [
       "[1] 3"
      ]
     },
     "metadata": {},
     "output_type": "display_data"
    }
   ],
   "source": [
    "length(pval)"
   ]
  },
  {
   "cell_type": "code",
   "execution_count": 7,
   "metadata": {
    "scrolled": true
   },
   "outputs": [
    {
     "data": {
      "text/html": [
       "3"
      ],
      "text/latex": [
       "3"
      ],
      "text/markdown": [
       "3"
      ],
      "text/plain": [
       "[1] 3"
      ]
     },
     "metadata": {},
     "output_type": "display_data"
    }
   ],
   "source": [
    "length(pAdj)"
   ]
  },
  {
   "cell_type": "code",
   "execution_count": 8,
   "metadata": {},
   "outputs": [
    {
     "data": {
      "text/html": [
       "<ol class=list-inline>\n",
       "\t<li>2</li>\n",
       "\t<li>3</li>\n",
       "</ol>\n"
      ],
      "text/latex": [
       "\\begin{enumerate*}\n",
       "\\item 2\n",
       "\\item 3\n",
       "\\end{enumerate*}\n"
      ],
      "text/markdown": [
       "1. 2\n",
       "2. 3\n",
       "\n",
       "\n"
      ],
      "text/plain": [
       "[1] 2 3"
      ]
     },
     "metadata": {},
     "output_type": "display_data"
    },
    {
     "data": {
      "text/html": [
       "<table>\n",
       "<thead><tr><th></th><th scope=col>mass_400</th><th scope=col>mass_500</th><th scope=col>mass_700</th></tr></thead>\n",
       "<tbody>\n",
       "\t<tr><th scope=row>BNZ</th><td>0.001449134</td><td>0.002722183</td><td>0.00e+00   </td></tr>\n",
       "\t<tr><th scope=row>naive</th><td>0.004386380</td><td>0.003133277</td><td>4.04e-06   </td></tr>\n",
       "</tbody>\n",
       "</table>\n"
      ],
      "text/latex": [
       "\\begin{tabular}{r|lll}\n",
       "  & mass\\_400 & mass\\_500 & mass\\_700\\\\\n",
       "\\hline\n",
       "\tBNZ & 0.001449134 & 0.002722183 & 0.00e+00   \\\\\n",
       "\tnaive & 0.004386380 & 0.003133277 & 4.04e-06   \\\\\n",
       "\\end{tabular}\n"
      ],
      "text/markdown": [
       "\n",
       "| <!--/--> | mass_400 | mass_500 | mass_700 |\n",
       "|---|---|---|---|\n",
       "| BNZ | 0.001449134 | 0.002722183 | 0.00e+00    |\n",
       "| naive | 0.004386380 | 0.003133277 | 4.04e-06    |\n",
       "\n"
      ],
      "text/plain": [
       "      mass_400    mass_500    mass_700\n",
       "BNZ   0.001449134 0.002722183 0.00e+00\n",
       "naive 0.004386380 0.003133277 4.04e-06"
      ]
     },
     "metadata": {},
     "output_type": "display_data"
    },
    {
     "data": {
      "text/html": [
       "<dl class=dl-horizontal>\n",
       "\t<dt>mass_400</dt>\n",
       "\t\t<dd>0.330371229618328</dd>\n",
       "\t<dt>mass_500</dt>\n",
       "\t\t<dd>0.868797357229363</dd>\n",
       "\t<dt>mass_700</dt>\n",
       "\t\t<dd>0</dd>\n",
       "</dl>\n"
      ],
      "text/latex": [
       "\\begin{description*}\n",
       "\\item[mass\\textbackslash{}\\_400] 0.330371229618328\n",
       "\\item[mass\\textbackslash{}\\_500] 0.868797357229363\n",
       "\\item[mass\\textbackslash{}\\_700] 0\n",
       "\\end{description*}\n"
      ],
      "text/markdown": [
       "mass_400\n",
       ":   0.330371229618328mass_500\n",
       ":   0.868797357229363mass_700\n",
       ":   0\n",
       "\n"
      ],
      "text/plain": [
       " mass_400  mass_500  mass_700 \n",
       "0.3303712 0.8687974 0.0000000 "
      ]
     },
     "metadata": {},
     "output_type": "display_data"
    },
    {
     "data": {
      "text/html": [
       "<ol class=list-inline>\n",
       "\t<li>'numeric'</li>\n",
       "\t<li>'vector'</li>\n",
       "</ol>\n"
      ],
      "text/latex": [
       "\\begin{enumerate*}\n",
       "\\item 'numeric'\n",
       "\\item 'vector'\n",
       "\\end{enumerate*}\n"
      ],
      "text/markdown": [
       "1. 'numeric'\n",
       "2. 'vector'\n",
       "\n",
       "\n"
      ],
      "text/plain": [
       "[1] \"numeric\" \"vector\" "
      ]
     },
     "metadata": {},
     "output_type": "display_data"
    }
   ],
   "source": [
    "avg<- apply(nonzero_wMeta[,8:ncol(nonzero_wMeta)], 2, function(x) tapply(x, nonzero_wMeta$Treatmentgroup, function(x) mean(x))) \n",
    "\n",
    "dim(avg)\n",
    "\n",
    "avg[,1:3]\n",
    "\n",
    "fch <- apply(avg, 2, function(x) x[1]/x[2])\n",
    "\n",
    "head(fch)\n",
    "is(fch)"
   ]
  },
  {
   "cell_type": "code",
   "execution_count": 9,
   "metadata": {
    "scrolled": true
   },
   "outputs": [
    {
     "data": {
      "text/html": [
       "<dl class=dl-horizontal>\n",
       "\t<dt>mass_400</dt>\n",
       "\t\t<dd>0.330371229618328</dd>\n",
       "\t<dt>mass_500</dt>\n",
       "\t\t<dd>0.868797357229363</dd>\n",
       "\t<dt>mass_700</dt>\n",
       "\t\t<dd>0</dd>\n",
       "</dl>\n"
      ],
      "text/latex": [
       "\\begin{description*}\n",
       "\\item[mass\\textbackslash{}\\_400] 0.330371229618328\n",
       "\\item[mass\\textbackslash{}\\_500] 0.868797357229363\n",
       "\\item[mass\\textbackslash{}\\_700] 0\n",
       "\\end{description*}\n"
      ],
      "text/markdown": [
       "mass_400\n",
       ":   0.330371229618328mass_500\n",
       ":   0.868797357229363mass_700\n",
       ":   0\n",
       "\n"
      ],
      "text/plain": [
       " mass_400  mass_500  mass_700 \n",
       "0.3303712 0.8687974 0.0000000 "
      ]
     },
     "metadata": {},
     "output_type": "display_data"
    }
   ],
   "source": [
    "fch"
   ]
  },
  {
   "cell_type": "code",
   "execution_count": 10,
   "metadata": {
    "scrolled": false
   },
   "outputs": [],
   "source": [
    "df <- data.frame(fch,pval, pAdj)\n",
    "write.csv(df, \"PE-treat-RVB-wilcox-naive-BNZ.csv\")"
   ]
  },
  {
   "cell_type": "code",
   "execution_count": null,
   "metadata": {},
   "outputs": [],
   "source": []
  },
  {
   "cell_type": "code",
   "execution_count": null,
   "metadata": {},
   "outputs": [],
   "source": []
  },
  {
   "cell_type": "code",
   "execution_count": null,
   "metadata": {},
   "outputs": [],
   "source": []
  },
  {
   "cell_type": "code",
   "execution_count": null,
   "metadata": {},
   "outputs": [],
   "source": []
  },
  {
   "cell_type": "code",
   "execution_count": null,
   "metadata": {},
   "outputs": [],
   "source": []
  },
  {
   "cell_type": "code",
   "execution_count": null,
   "metadata": {},
   "outputs": [],
   "source": []
  }
 ],
 "metadata": {
  "kernelspec": {
   "display_name": "R",
   "language": "R",
   "name": "ir"
  },
  "language_info": {
   "codemirror_mode": "r",
   "file_extension": ".r",
   "mimetype": "text/x-r-source",
   "name": "R",
   "pygments_lexer": "r",
   "version": "3.6.1"
  }
 },
 "nbformat": 4,
 "nbformat_minor": 2
}
