{
 "cells": [
  {
   "cell_type": "code",
   "execution_count": 1,
   "metadata": {},
   "outputs": [],
   "source": [
    "a <- read.csv(\"03172021-PE-time-RVB-M-F.csv\")"
   ]
  },
  {
   "cell_type": "code",
   "execution_count": 2,
   "metadata": {},
   "outputs": [
    {
     "data": {
      "text/html": [
       "<table>\n",
       "<thead><tr><th scope=col>filename</th><th scope=col>MouseID</th><th scope=col>Treatmentgroup</th><th scope=col>status</th><th scope=col>DPI</th><th scope=col>organ</th><th scope=col>well_position</th><th scope=col>plate</th><th scope=col>mass_400</th><th scope=col>mass_500</th><th scope=col>mass_600</th><th scope=col>mass_700</th><th scope=col>mass_800</th></tr></thead>\n",
       "<tbody>\n",
       "\t<tr><td>X501_Group1A_50dpi_RV_bottom_251_B_A1_P141.mzXML</td><td>501                                             </td><td>Group1A                                         </td><td>naive                                           </td><td>50dpi                                           </td><td>RV_bottom                                       </td><td>A1                                              </td><td>P141                                            </td><td>0.002313098                                     </td><td>0.005796944                                     </td><td>0.000054700                                     </td><td>0.000000000                                     </td><td>0.000000000                                     </td></tr>\n",
       "\t<tr><td>X502_Group1A_50dpi_RV_bottom_252_B_A2_P141.mzXML</td><td>502                                             </td><td>Group1A                                         </td><td>naive                                           </td><td>50dpi                                           </td><td>RV_bottom                                       </td><td>A2                                              </td><td>P141                                            </td><td>0.003466935                                     </td><td>0.010414469                                     </td><td>0.000750452                                     </td><td>0.009553372                                     </td><td>0.000984617                                     </td></tr>\n",
       "\t<tr><td>X503_Group1A_50dpi_RV_bottom_253_B_A3_P141.mzXML</td><td>503                                             </td><td>Group1A                                         </td><td>naive                                           </td><td>50dpi                                           </td><td>RV_bottom                                       </td><td>A3                                              </td><td>P141                                            </td><td>0.002111373                                     </td><td>0.004602643                                     </td><td>0.000100047                                     </td><td>0.004421777                                     </td><td>0.000441179                                     </td></tr>\n",
       "\t<tr><td>X504_Group1A_50dpi_RV_bottom_254_B_A4_P141.mzXML</td><td>504                                             </td><td>Group1A                                         </td><td>naive                                           </td><td>50dpi                                           </td><td>RV_bottom                                       </td><td>A4                                              </td><td>P141                                            </td><td>0.001233346                                     </td><td>0.003703104                                     </td><td>0.000000000                                     </td><td>0.000801042                                     </td><td>0.000000000                                     </td></tr>\n",
       "\t<tr><td>X505_Group1A_50dpi_RV_bottom_255_B_A5_P141.mzXML</td><td>505                                             </td><td>Group1A                                         </td><td>naive                                           </td><td>50dpi                                           </td><td>RV_bottom                                       </td><td>A5                                              </td><td>P141                                            </td><td>0.001098560                                     </td><td>0.003283440                                     </td><td>0.000000000                                     </td><td>0.000452443                                     </td><td>0.000000000                                     </td></tr>\n",
       "\t<tr><td>X521_Group1A_50dpi_RV_bottom_256_B_A6_P141.mzXML</td><td>521                                             </td><td>Group1A                                         </td><td>naive                                           </td><td>50dpi                                           </td><td>RV_bottom                                       </td><td>A6                                              </td><td>P141                                            </td><td>0.001121125                                     </td><td>0.003342968                                     </td><td>0.000000000                                     </td><td>0.000000000                                     </td><td>0.000000000                                     </td></tr>\n",
       "</tbody>\n",
       "</table>\n"
      ],
      "text/latex": [
       "\\begin{tabular}{r|lllllllllllll}\n",
       " filename & MouseID & Treatmentgroup & status & DPI & organ & well\\_position & plate & mass\\_400 & mass\\_500 & mass\\_600 & mass\\_700 & mass\\_800\\\\\n",
       "\\hline\n",
       "\t X501\\_Group1A\\_50dpi\\_RV\\_bottom\\_251\\_B\\_A1\\_P141.mzXML & 501                                                              & Group1A                                                          & naive                                                            & 50dpi                                                            & RV\\_bottom                                                      & A1                                                               & P141                                                             & 0.002313098                                                      & 0.005796944                                                      & 0.000054700                                                      & 0.000000000                                                      & 0.000000000                                                     \\\\\n",
       "\t X502\\_Group1A\\_50dpi\\_RV\\_bottom\\_252\\_B\\_A2\\_P141.mzXML & 502                                                              & Group1A                                                          & naive                                                            & 50dpi                                                            & RV\\_bottom                                                      & A2                                                               & P141                                                             & 0.003466935                                                      & 0.010414469                                                      & 0.000750452                                                      & 0.009553372                                                      & 0.000984617                                                     \\\\\n",
       "\t X503\\_Group1A\\_50dpi\\_RV\\_bottom\\_253\\_B\\_A3\\_P141.mzXML & 503                                                              & Group1A                                                          & naive                                                            & 50dpi                                                            & RV\\_bottom                                                      & A3                                                               & P141                                                             & 0.002111373                                                      & 0.004602643                                                      & 0.000100047                                                      & 0.004421777                                                      & 0.000441179                                                     \\\\\n",
       "\t X504\\_Group1A\\_50dpi\\_RV\\_bottom\\_254\\_B\\_A4\\_P141.mzXML & 504                                                              & Group1A                                                          & naive                                                            & 50dpi                                                            & RV\\_bottom                                                      & A4                                                               & P141                                                             & 0.001233346                                                      & 0.003703104                                                      & 0.000000000                                                      & 0.000801042                                                      & 0.000000000                                                     \\\\\n",
       "\t X505\\_Group1A\\_50dpi\\_RV\\_bottom\\_255\\_B\\_A5\\_P141.mzXML & 505                                                              & Group1A                                                          & naive                                                            & 50dpi                                                            & RV\\_bottom                                                      & A5                                                               & P141                                                             & 0.001098560                                                      & 0.003283440                                                      & 0.000000000                                                      & 0.000452443                                                      & 0.000000000                                                     \\\\\n",
       "\t X521\\_Group1A\\_50dpi\\_RV\\_bottom\\_256\\_B\\_A6\\_P141.mzXML & 521                                                              & Group1A                                                          & naive                                                            & 50dpi                                                            & RV\\_bottom                                                      & A6                                                               & P141                                                             & 0.001121125                                                      & 0.003342968                                                      & 0.000000000                                                      & 0.000000000                                                      & 0.000000000                                                     \\\\\n",
       "\\end{tabular}\n"
      ],
      "text/markdown": [
       "\n",
       "| filename | MouseID | Treatmentgroup | status | DPI | organ | well_position | plate | mass_400 | mass_500 | mass_600 | mass_700 | mass_800 |\n",
       "|---|---|---|---|---|---|---|---|---|---|---|---|---|\n",
       "| X501_Group1A_50dpi_RV_bottom_251_B_A1_P141.mzXML | 501                                              | Group1A                                          | naive                                            | 50dpi                                            | RV_bottom                                        | A1                                               | P141                                             | 0.002313098                                      | 0.005796944                                      | 0.000054700                                      | 0.000000000                                      | 0.000000000                                      |\n",
       "| X502_Group1A_50dpi_RV_bottom_252_B_A2_P141.mzXML | 502                                              | Group1A                                          | naive                                            | 50dpi                                            | RV_bottom                                        | A2                                               | P141                                             | 0.003466935                                      | 0.010414469                                      | 0.000750452                                      | 0.009553372                                      | 0.000984617                                      |\n",
       "| X503_Group1A_50dpi_RV_bottom_253_B_A3_P141.mzXML | 503                                              | Group1A                                          | naive                                            | 50dpi                                            | RV_bottom                                        | A3                                               | P141                                             | 0.002111373                                      | 0.004602643                                      | 0.000100047                                      | 0.004421777                                      | 0.000441179                                      |\n",
       "| X504_Group1A_50dpi_RV_bottom_254_B_A4_P141.mzXML | 504                                              | Group1A                                          | naive                                            | 50dpi                                            | RV_bottom                                        | A4                                               | P141                                             | 0.001233346                                      | 0.003703104                                      | 0.000000000                                      | 0.000801042                                      | 0.000000000                                      |\n",
       "| X505_Group1A_50dpi_RV_bottom_255_B_A5_P141.mzXML | 505                                              | Group1A                                          | naive                                            | 50dpi                                            | RV_bottom                                        | A5                                               | P141                                             | 0.001098560                                      | 0.003283440                                      | 0.000000000                                      | 0.000452443                                      | 0.000000000                                      |\n",
       "| X521_Group1A_50dpi_RV_bottom_256_B_A6_P141.mzXML | 521                                              | Group1A                                          | naive                                            | 50dpi                                            | RV_bottom                                        | A6                                               | P141                                             | 0.001121125                                      | 0.003342968                                      | 0.000000000                                      | 0.000000000                                      | 0.000000000                                      |\n",
       "\n"
      ],
      "text/plain": [
       "  filename                                         MouseID Treatmentgroup\n",
       "1 X501_Group1A_50dpi_RV_bottom_251_B_A1_P141.mzXML 501     Group1A       \n",
       "2 X502_Group1A_50dpi_RV_bottom_252_B_A2_P141.mzXML 502     Group1A       \n",
       "3 X503_Group1A_50dpi_RV_bottom_253_B_A3_P141.mzXML 503     Group1A       \n",
       "4 X504_Group1A_50dpi_RV_bottom_254_B_A4_P141.mzXML 504     Group1A       \n",
       "5 X505_Group1A_50dpi_RV_bottom_255_B_A5_P141.mzXML 505     Group1A       \n",
       "6 X521_Group1A_50dpi_RV_bottom_256_B_A6_P141.mzXML 521     Group1A       \n",
       "  status DPI   organ     well_position plate mass_400    mass_500   \n",
       "1 naive  50dpi RV_bottom A1            P141  0.002313098 0.005796944\n",
       "2 naive  50dpi RV_bottom A2            P141  0.003466935 0.010414469\n",
       "3 naive  50dpi RV_bottom A3            P141  0.002111373 0.004602643\n",
       "4 naive  50dpi RV_bottom A4            P141  0.001233346 0.003703104\n",
       "5 naive  50dpi RV_bottom A5            P141  0.001098560 0.003283440\n",
       "6 naive  50dpi RV_bottom A6            P141  0.001121125 0.003342968\n",
       "  mass_600    mass_700    mass_800   \n",
       "1 0.000054700 0.000000000 0.000000000\n",
       "2 0.000750452 0.009553372 0.000984617\n",
       "3 0.000100047 0.004421777 0.000441179\n",
       "4 0.000000000 0.000801042 0.000000000\n",
       "5 0.000000000 0.000452443 0.000000000\n",
       "6 0.000000000 0.000000000 0.000000000"
      ]
     },
     "metadata": {},
     "output_type": "display_data"
    },
    {
     "data": {
      "text/html": [
       "<ol class=list-inline>\n",
       "\t<li>90</li>\n",
       "\t<li>13</li>\n",
       "</ol>\n"
      ],
      "text/latex": [
       "\\begin{enumerate*}\n",
       "\\item 90\n",
       "\\item 13\n",
       "\\end{enumerate*}\n"
      ],
      "text/markdown": [
       "1. 90\n",
       "2. 13\n",
       "\n",
       "\n"
      ],
      "text/plain": [
       "[1] 90 13"
      ]
     },
     "metadata": {},
     "output_type": "display_data"
    }
   ],
   "source": [
    "head(a)\n",
    "dim(a)"
   ]
  },
  {
   "cell_type": "code",
   "execution_count": 3,
   "metadata": {},
   "outputs": [
    {
     "data": {
      "text/html": [
       "<table>\n",
       "<thead><tr><th></th><th scope=col>filename</th><th scope=col>MouseID</th><th scope=col>Treatmentgroup</th><th scope=col>status</th><th scope=col>DPI</th><th scope=col>organ</th><th scope=col>well_position</th><th scope=col>plate</th><th scope=col>mass_400</th><th scope=col>mass_500</th><th scope=col>mass_600</th><th scope=col>mass_700</th><th scope=col>mass_800</th></tr></thead>\n",
       "<tbody>\n",
       "\t<tr><th scope=row>16</th><td>X506_Group1B_70dpi_RV_bottom_281_B_C7_P141.mzXML </td><td>506                                              </td><td>Group1B                                          </td><td>naive                                            </td><td>70dpi                                            </td><td>RV_bottom                                        </td><td>C7                                               </td><td>P141                                             </td><td>0.000999913                                      </td><td>0.002290000                                      </td><td>0                                                </td><td>0                                                </td><td>0                                                </td></tr>\n",
       "\t<tr><th scope=row>17</th><td>X507_Group1B_70dpi_RV_bottom_282_B_C8_P141.mzXML </td><td>507                                              </td><td>Group1B                                          </td><td>naive                                            </td><td>70dpi                                            </td><td>RV_bottom                                        </td><td>C8                                               </td><td>P141                                             </td><td>0.000520550                                      </td><td>0.002120632                                      </td><td>0                                                </td><td>0                                                </td><td>0                                                </td></tr>\n",
       "\t<tr><th scope=row>18</th><td>X508_Group1B_70dpi_RV_bottom_283_B_C9_P141.mzXML </td><td>508                                              </td><td>Group1B                                          </td><td>naive                                            </td><td>70dpi                                            </td><td>RV_bottom                                        </td><td>C9                                               </td><td>P141                                             </td><td>0.000590023                                      </td><td>0.002573423                                      </td><td>0                                                </td><td>0                                                </td><td>0                                                </td></tr>\n",
       "\t<tr><th scope=row>19</th><td>X509_Group1B_70dpi_RV_bottom_284_B_C10_P141.mzXML</td><td>509                                              </td><td>Group1B                                          </td><td>naive                                            </td><td>70dpi                                            </td><td>RV_bottom                                        </td><td>C10                                              </td><td>P141                                             </td><td>0.000812673                                      </td><td>0.003110937                                      </td><td>0                                                </td><td>0                                                </td><td>0                                                </td></tr>\n",
       "\t<tr><th scope=row>20</th><td>X510_Group1B_70dpi_RV_bottom_285_B_C11_P141.mzXML</td><td>510                                              </td><td>Group1B                                          </td><td>naive                                            </td><td>70dpi                                            </td><td>RV_bottom                                        </td><td>C11                                              </td><td>P141                                             </td><td>0.000996314                                      </td><td>0.003317637                                      </td><td>0                                                </td><td>0                                                </td><td>0                                                </td></tr>\n",
       "\t<tr><th scope=row>21</th><td>X526_Group1B_70dpi_RV_bottom_286_B_C12_P141.mzXML</td><td>526                                              </td><td>Group1B                                          </td><td>naive                                            </td><td>70dpi                                            </td><td>RV_bottom                                        </td><td>C12                                              </td><td>P141                                             </td><td>0.001537212                                      </td><td>0.006711703                                      </td><td>0                                                </td><td>0                                                </td><td>0                                                </td></tr>\n",
       "</tbody>\n",
       "</table>\n"
      ],
      "text/latex": [
       "\\begin{tabular}{r|lllllllllllll}\n",
       "  & filename & MouseID & Treatmentgroup & status & DPI & organ & well\\_position & plate & mass\\_400 & mass\\_500 & mass\\_600 & mass\\_700 & mass\\_800\\\\\n",
       "\\hline\n",
       "\t16 & X506\\_Group1B\\_70dpi\\_RV\\_bottom\\_281\\_B\\_C7\\_P141.mzXML  & 506                                                               & Group1B                                                           & naive                                                             & 70dpi                                                             & RV\\_bottom                                                       & C7                                                                & P141                                                              & 0.000999913                                                       & 0.002290000                                                       & 0                                                                 & 0                                                                 & 0                                                                \\\\\n",
       "\t17 & X507\\_Group1B\\_70dpi\\_RV\\_bottom\\_282\\_B\\_C8\\_P141.mzXML  & 507                                                               & Group1B                                                           & naive                                                             & 70dpi                                                             & RV\\_bottom                                                       & C8                                                                & P141                                                              & 0.000520550                                                       & 0.002120632                                                       & 0                                                                 & 0                                                                 & 0                                                                \\\\\n",
       "\t18 & X508\\_Group1B\\_70dpi\\_RV\\_bottom\\_283\\_B\\_C9\\_P141.mzXML  & 508                                                               & Group1B                                                           & naive                                                             & 70dpi                                                             & RV\\_bottom                                                       & C9                                                                & P141                                                              & 0.000590023                                                       & 0.002573423                                                       & 0                                                                 & 0                                                                 & 0                                                                \\\\\n",
       "\t19 & X509\\_Group1B\\_70dpi\\_RV\\_bottom\\_284\\_B\\_C10\\_P141.mzXML & 509                                                               & Group1B                                                           & naive                                                             & 70dpi                                                             & RV\\_bottom                                                       & C10                                                               & P141                                                              & 0.000812673                                                       & 0.003110937                                                       & 0                                                                 & 0                                                                 & 0                                                                \\\\\n",
       "\t20 & X510\\_Group1B\\_70dpi\\_RV\\_bottom\\_285\\_B\\_C11\\_P141.mzXML & 510                                                               & Group1B                                                           & naive                                                             & 70dpi                                                             & RV\\_bottom                                                       & C11                                                               & P141                                                              & 0.000996314                                                       & 0.003317637                                                       & 0                                                                 & 0                                                                 & 0                                                                \\\\\n",
       "\t21 & X526\\_Group1B\\_70dpi\\_RV\\_bottom\\_286\\_B\\_C12\\_P141.mzXML & 526                                                               & Group1B                                                           & naive                                                             & 70dpi                                                             & RV\\_bottom                                                       & C12                                                               & P141                                                              & 0.001537212                                                       & 0.006711703                                                       & 0                                                                 & 0                                                                 & 0                                                                \\\\\n",
       "\\end{tabular}\n"
      ],
      "text/markdown": [
       "\n",
       "| <!--/--> | filename | MouseID | Treatmentgroup | status | DPI | organ | well_position | plate | mass_400 | mass_500 | mass_600 | mass_700 | mass_800 |\n",
       "|---|---|---|---|---|---|---|---|---|---|---|---|---|---|\n",
       "| 16 | X506_Group1B_70dpi_RV_bottom_281_B_C7_P141.mzXML  | 506                                               | Group1B                                           | naive                                             | 70dpi                                             | RV_bottom                                         | C7                                                | P141                                              | 0.000999913                                       | 0.002290000                                       | 0                                                 | 0                                                 | 0                                                 |\n",
       "| 17 | X507_Group1B_70dpi_RV_bottom_282_B_C8_P141.mzXML  | 507                                               | Group1B                                           | naive                                             | 70dpi                                             | RV_bottom                                         | C8                                                | P141                                              | 0.000520550                                       | 0.002120632                                       | 0                                                 | 0                                                 | 0                                                 |\n",
       "| 18 | X508_Group1B_70dpi_RV_bottom_283_B_C9_P141.mzXML  | 508                                               | Group1B                                           | naive                                             | 70dpi                                             | RV_bottom                                         | C9                                                | P141                                              | 0.000590023                                       | 0.002573423                                       | 0                                                 | 0                                                 | 0                                                 |\n",
       "| 19 | X509_Group1B_70dpi_RV_bottom_284_B_C10_P141.mzXML | 509                                               | Group1B                                           | naive                                             | 70dpi                                             | RV_bottom                                         | C10                                               | P141                                              | 0.000812673                                       | 0.003110937                                       | 0                                                 | 0                                                 | 0                                                 |\n",
       "| 20 | X510_Group1B_70dpi_RV_bottom_285_B_C11_P141.mzXML | 510                                               | Group1B                                           | naive                                             | 70dpi                                             | RV_bottom                                         | C11                                               | P141                                              | 0.000996314                                       | 0.003317637                                       | 0                                                 | 0                                                 | 0                                                 |\n",
       "| 21 | X526_Group1B_70dpi_RV_bottom_286_B_C12_P141.mzXML | 526                                               | Group1B                                           | naive                                             | 70dpi                                             | RV_bottom                                         | C12                                               | P141                                              | 0.001537212                                       | 0.006711703                                       | 0                                                 | 0                                                 | 0                                                 |\n",
       "\n"
      ],
      "text/plain": [
       "   filename                                          MouseID Treatmentgroup\n",
       "16 X506_Group1B_70dpi_RV_bottom_281_B_C7_P141.mzXML  506     Group1B       \n",
       "17 X507_Group1B_70dpi_RV_bottom_282_B_C8_P141.mzXML  507     Group1B       \n",
       "18 X508_Group1B_70dpi_RV_bottom_283_B_C9_P141.mzXML  508     Group1B       \n",
       "19 X509_Group1B_70dpi_RV_bottom_284_B_C10_P141.mzXML 509     Group1B       \n",
       "20 X510_Group1B_70dpi_RV_bottom_285_B_C11_P141.mzXML 510     Group1B       \n",
       "21 X526_Group1B_70dpi_RV_bottom_286_B_C12_P141.mzXML 526     Group1B       \n",
       "   status DPI   organ     well_position plate mass_400    mass_500    mass_600\n",
       "16 naive  70dpi RV_bottom C7            P141  0.000999913 0.002290000 0       \n",
       "17 naive  70dpi RV_bottom C8            P141  0.000520550 0.002120632 0       \n",
       "18 naive  70dpi RV_bottom C9            P141  0.000590023 0.002573423 0       \n",
       "19 naive  70dpi RV_bottom C10           P141  0.000812673 0.003110937 0       \n",
       "20 naive  70dpi RV_bottom C11           P141  0.000996314 0.003317637 0       \n",
       "21 naive  70dpi RV_bottom C12           P141  0.001537212 0.006711703 0       \n",
       "   mass_700 mass_800\n",
       "16 0        0       \n",
       "17 0        0       \n",
       "18 0        0       \n",
       "19 0        0       \n",
       "20 0        0       \n",
       "21 0        0       "
      ]
     },
     "metadata": {},
     "output_type": "display_data"
    },
    {
     "data": {
      "text/html": [
       "<ol class=list-inline>\n",
       "\t<li>30</li>\n",
       "\t<li>13</li>\n",
       "</ol>\n"
      ],
      "text/latex": [
       "\\begin{enumerate*}\n",
       "\\item 30\n",
       "\\item 13\n",
       "\\end{enumerate*}\n"
      ],
      "text/markdown": [
       "1. 30\n",
       "2. 13\n",
       "\n",
       "\n"
      ],
      "text/plain": [
       "[1] 30 13"
      ]
     },
     "metadata": {},
     "output_type": "display_data"
    }
   ],
   "source": [
    "features_pos<-droplevels(subset(a, a$Treatmentgroup==c(\"Group1B\")|a$Treatmentgroup==c(\"Group3B\")))\n",
    "head(features_pos)\n",
    "dim(features_pos)"
   ]
  },
  {
   "cell_type": "code",
   "execution_count": 4,
   "metadata": {
    "scrolled": false
   },
   "outputs": [
    {
     "data": {
      "text/html": [
       "<table>\n",
       "<thead><tr><th></th><th scope=col>mass_400</th><th scope=col>mass_500</th><th scope=col>mass_600</th><th scope=col>mass_700</th><th scope=col>mass_800</th></tr></thead>\n",
       "<tbody>\n",
       "\t<tr><th scope=row>16</th><td>0.000999913</td><td>0.002290000</td><td>0          </td><td>0          </td><td>0          </td></tr>\n",
       "\t<tr><th scope=row>17</th><td>0.000520550</td><td>0.002120632</td><td>0          </td><td>0          </td><td>0          </td></tr>\n",
       "\t<tr><th scope=row>18</th><td>0.000590023</td><td>0.002573423</td><td>0          </td><td>0          </td><td>0          </td></tr>\n",
       "\t<tr><th scope=row>19</th><td>0.000812673</td><td>0.003110937</td><td>0          </td><td>0          </td><td>0          </td></tr>\n",
       "\t<tr><th scope=row>20</th><td>0.000996314</td><td>0.003317637</td><td>0          </td><td>0          </td><td>0          </td></tr>\n",
       "\t<tr><th scope=row>21</th><td>0.001537212</td><td>0.006711703</td><td>0          </td><td>0          </td><td>0          </td></tr>\n",
       "</tbody>\n",
       "</table>\n"
      ],
      "text/latex": [
       "\\begin{tabular}{r|lllll}\n",
       "  & mass\\_400 & mass\\_500 & mass\\_600 & mass\\_700 & mass\\_800\\\\\n",
       "\\hline\n",
       "\t16 & 0.000999913 & 0.002290000 & 0           & 0           & 0          \\\\\n",
       "\t17 & 0.000520550 & 0.002120632 & 0           & 0           & 0          \\\\\n",
       "\t18 & 0.000590023 & 0.002573423 & 0           & 0           & 0          \\\\\n",
       "\t19 & 0.000812673 & 0.003110937 & 0           & 0           & 0          \\\\\n",
       "\t20 & 0.000996314 & 0.003317637 & 0           & 0           & 0          \\\\\n",
       "\t21 & 0.001537212 & 0.006711703 & 0           & 0           & 0          \\\\\n",
       "\\end{tabular}\n"
      ],
      "text/markdown": [
       "\n",
       "| <!--/--> | mass_400 | mass_500 | mass_600 | mass_700 | mass_800 |\n",
       "|---|---|---|---|---|---|\n",
       "| 16 | 0.000999913 | 0.002290000 | 0           | 0           | 0           |\n",
       "| 17 | 0.000520550 | 0.002120632 | 0           | 0           | 0           |\n",
       "| 18 | 0.000590023 | 0.002573423 | 0           | 0           | 0           |\n",
       "| 19 | 0.000812673 | 0.003110937 | 0           | 0           | 0           |\n",
       "| 20 | 0.000996314 | 0.003317637 | 0           | 0           | 0           |\n",
       "| 21 | 0.001537212 | 0.006711703 | 0           | 0           | 0           |\n",
       "\n"
      ],
      "text/plain": [
       "   mass_400    mass_500    mass_600 mass_700 mass_800\n",
       "16 0.000999913 0.002290000 0        0        0       \n",
       "17 0.000520550 0.002120632 0        0        0       \n",
       "18 0.000590023 0.002573423 0        0        0       \n",
       "19 0.000812673 0.003110937 0        0        0       \n",
       "20 0.000996314 0.003317637 0        0        0       \n",
       "21 0.001537212 0.006711703 0        0        0       "
      ]
     },
     "metadata": {},
     "output_type": "display_data"
    },
    {
     "data": {
      "text/html": [
       "<dl class=dl-horizontal>\n",
       "\t<dt>mass_400</dt>\n",
       "\t\t<dd>1</dd>\n",
       "\t<dt>mass_500</dt>\n",
       "\t\t<dd>2</dd>\n",
       "\t<dt>mass_600</dt>\n",
       "\t\t<dd>3</dd>\n",
       "\t<dt>mass_700</dt>\n",
       "\t\t<dd>4</dd>\n",
       "\t<dt>mass_800</dt>\n",
       "\t\t<dd>5</dd>\n",
       "</dl>\n"
      ],
      "text/latex": [
       "\\begin{description*}\n",
       "\\item[mass\\textbackslash{}\\_400] 1\n",
       "\\item[mass\\textbackslash{}\\_500] 2\n",
       "\\item[mass\\textbackslash{}\\_600] 3\n",
       "\\item[mass\\textbackslash{}\\_700] 4\n",
       "\\item[mass\\textbackslash{}\\_800] 5\n",
       "\\end{description*}\n"
      ],
      "text/markdown": [
       "mass_400\n",
       ":   1mass_500\n",
       ":   2mass_600\n",
       ":   3mass_700\n",
       ":   4mass_800\n",
       ":   5\n",
       "\n"
      ],
      "text/plain": [
       "mass_400 mass_500 mass_600 mass_700 mass_800 \n",
       "       1        2        3        4        5 "
      ]
     },
     "metadata": {},
     "output_type": "display_data"
    },
    {
     "data": {
      "text/html": [
       "<table>\n",
       "<thead><tr><th></th><th scope=col>mass_400</th><th scope=col>mass_500</th><th scope=col>mass_600</th><th scope=col>mass_700</th><th scope=col>mass_800</th></tr></thead>\n",
       "<tbody>\n",
       "\t<tr><th scope=row>16</th><td>0.000999913</td><td>0.002290000</td><td>0.000000000</td><td>0.000000000</td><td>0.000000000</td></tr>\n",
       "\t<tr><th scope=row>17</th><td>0.000520550</td><td>0.002120632</td><td>0.000000000</td><td>0.000000000</td><td>0.000000000</td></tr>\n",
       "\t<tr><th scope=row>18</th><td>0.000590023</td><td>0.002573423</td><td>0.000000000</td><td>0.000000000</td><td>0.000000000</td></tr>\n",
       "\t<tr><th scope=row>19</th><td>0.000812673</td><td>0.003110937</td><td>0.000000000</td><td>0.000000000</td><td>0.000000000</td></tr>\n",
       "\t<tr><th scope=row>20</th><td>0.000996314</td><td>0.003317637</td><td>0.000000000</td><td>0.000000000</td><td>0.000000000</td></tr>\n",
       "\t<tr><th scope=row>21</th><td>0.001537212</td><td>0.006711703</td><td>0.000000000</td><td>0.000000000</td><td>0.000000000</td></tr>\n",
       "\t<tr><th scope=row>22</th><td>0.000563071</td><td>0.002724622</td><td>0.000000000</td><td>0.000000000</td><td>0.000000000</td></tr>\n",
       "\t<tr><th scope=row>23</th><td>0.001205190</td><td>0.004149720</td><td>0.000000000</td><td>0.000000000</td><td>0.000000000</td></tr>\n",
       "\t<tr><th scope=row>24</th><td>0.001076951</td><td>0.003278056</td><td>0.000000000</td><td>0.001090208</td><td>0.000000000</td></tr>\n",
       "\t<tr><th scope=row>25</th><td>0.000901222</td><td>0.002651653</td><td>0.000000000</td><td>0.000000000</td><td>0.000000000</td></tr>\n",
       "\t<tr><th scope=row>26</th><td>0.000322774</td><td>0.001705823</td><td>0.000000000</td><td>0.000000000</td><td>0.000000000</td></tr>\n",
       "\t<tr><th scope=row>27</th><td>0.010734592</td><td>0.001964237</td><td>0.000000000</td><td>0.000000000</td><td>0.000000000</td></tr>\n",
       "\t<tr><th scope=row>28</th><td>0.000887301</td><td>0.002453470</td><td>0.000000000</td><td>0.001091462</td><td>0.000000000</td></tr>\n",
       "\t<tr><th scope=row>29</th><td>0.000753247</td><td>0.001836327</td><td>0.000000000</td><td>0.000000000</td><td>0.000000000</td></tr>\n",
       "\t<tr><th scope=row>30</th><td>0.007378817</td><td>0.000815853</td><td>0.000000000</td><td>0.000000000</td><td>0.000000000</td></tr>\n",
       "\t<tr><th scope=row>61</th><td>0.000906251</td><td>0.003053412</td><td>0.000000000</td><td>0.000000000</td><td>0.000000000</td></tr>\n",
       "\t<tr><th scope=row>62</th><td>0.000933022</td><td>0.004629621</td><td>0.000000000</td><td>0.000000000</td><td>0.000000000</td></tr>\n",
       "\t<tr><th scope=row>63</th><td>0.001417392</td><td>0.006824685</td><td>0.000000000</td><td>0.000110766</td><td>0.000000000</td></tr>\n",
       "\t<tr><th scope=row>64</th><td>0.000885169</td><td>0.004546992</td><td>0.000000000</td><td>0.000000000</td><td>0.000000000</td></tr>\n",
       "\t<tr><th scope=row>65</th><td>0.000873184</td><td>0.003477569</td><td>0.000000000</td><td>0.000000000</td><td>0.000000000</td></tr>\n",
       "\t<tr><th scope=row>66</th><td>0.001335540</td><td>0.005033436</td><td>0.000277884</td><td>0.000031800</td><td>0.000000000</td></tr>\n",
       "\t<tr><th scope=row>67</th><td>0.000593104</td><td>0.005094886</td><td>0.000000000</td><td>0.000000000</td><td>0.000000000</td></tr>\n",
       "\t<tr><th scope=row>68</th><td>0.001332919</td><td>0.006259534</td><td>0.000321522</td><td>0.000383704</td><td>0.000039400</td></tr>\n",
       "\t<tr><th scope=row>69</th><td>0.001264943</td><td>0.005302796</td><td>0.000213527</td><td>0.000711022</td><td>0.000000000</td></tr>\n",
       "\t<tr><th scope=row>70</th><td>0.003456687</td><td>0.013600000</td><td>0.000509466</td><td>0.000429696</td><td>0.000576651</td></tr>\n",
       "\t<tr><th scope=row>71</th><td>0.001238434</td><td>0.006849392</td><td>0.000523825</td><td>0.000719792</td><td>0.000149752</td></tr>\n",
       "\t<tr><th scope=row>72</th><td>0.001675253</td><td>0.004921579</td><td>0.000180064</td><td>0.001112502</td><td>0.000414788</td></tr>\n",
       "\t<tr><th scope=row>73</th><td>0.001797937</td><td>0.006819320</td><td>0.000235861</td><td>0.000721387</td><td>0.000000000</td></tr>\n",
       "\t<tr><th scope=row>74</th><td>0.001914585</td><td>0.006744046</td><td>0.000268970</td><td>0.002680676</td><td>0.000427803</td></tr>\n",
       "\t<tr><th scope=row>75</th><td>0.002468691</td><td>0.008307409</td><td>0.000355021</td><td>0.000781319</td><td>0.000000000</td></tr>\n",
       "</tbody>\n",
       "</table>\n"
      ],
      "text/latex": [
       "\\begin{tabular}{r|lllll}\n",
       "  & mass\\_400 & mass\\_500 & mass\\_600 & mass\\_700 & mass\\_800\\\\\n",
       "\\hline\n",
       "\t16 & 0.000999913 & 0.002290000 & 0.000000000 & 0.000000000 & 0.000000000\\\\\n",
       "\t17 & 0.000520550 & 0.002120632 & 0.000000000 & 0.000000000 & 0.000000000\\\\\n",
       "\t18 & 0.000590023 & 0.002573423 & 0.000000000 & 0.000000000 & 0.000000000\\\\\n",
       "\t19 & 0.000812673 & 0.003110937 & 0.000000000 & 0.000000000 & 0.000000000\\\\\n",
       "\t20 & 0.000996314 & 0.003317637 & 0.000000000 & 0.000000000 & 0.000000000\\\\\n",
       "\t21 & 0.001537212 & 0.006711703 & 0.000000000 & 0.000000000 & 0.000000000\\\\\n",
       "\t22 & 0.000563071 & 0.002724622 & 0.000000000 & 0.000000000 & 0.000000000\\\\\n",
       "\t23 & 0.001205190 & 0.004149720 & 0.000000000 & 0.000000000 & 0.000000000\\\\\n",
       "\t24 & 0.001076951 & 0.003278056 & 0.000000000 & 0.001090208 & 0.000000000\\\\\n",
       "\t25 & 0.000901222 & 0.002651653 & 0.000000000 & 0.000000000 & 0.000000000\\\\\n",
       "\t26 & 0.000322774 & 0.001705823 & 0.000000000 & 0.000000000 & 0.000000000\\\\\n",
       "\t27 & 0.010734592 & 0.001964237 & 0.000000000 & 0.000000000 & 0.000000000\\\\\n",
       "\t28 & 0.000887301 & 0.002453470 & 0.000000000 & 0.001091462 & 0.000000000\\\\\n",
       "\t29 & 0.000753247 & 0.001836327 & 0.000000000 & 0.000000000 & 0.000000000\\\\\n",
       "\t30 & 0.007378817 & 0.000815853 & 0.000000000 & 0.000000000 & 0.000000000\\\\\n",
       "\t61 & 0.000906251 & 0.003053412 & 0.000000000 & 0.000000000 & 0.000000000\\\\\n",
       "\t62 & 0.000933022 & 0.004629621 & 0.000000000 & 0.000000000 & 0.000000000\\\\\n",
       "\t63 & 0.001417392 & 0.006824685 & 0.000000000 & 0.000110766 & 0.000000000\\\\\n",
       "\t64 & 0.000885169 & 0.004546992 & 0.000000000 & 0.000000000 & 0.000000000\\\\\n",
       "\t65 & 0.000873184 & 0.003477569 & 0.000000000 & 0.000000000 & 0.000000000\\\\\n",
       "\t66 & 0.001335540 & 0.005033436 & 0.000277884 & 0.000031800 & 0.000000000\\\\\n",
       "\t67 & 0.000593104 & 0.005094886 & 0.000000000 & 0.000000000 & 0.000000000\\\\\n",
       "\t68 & 0.001332919 & 0.006259534 & 0.000321522 & 0.000383704 & 0.000039400\\\\\n",
       "\t69 & 0.001264943 & 0.005302796 & 0.000213527 & 0.000711022 & 0.000000000\\\\\n",
       "\t70 & 0.003456687 & 0.013600000 & 0.000509466 & 0.000429696 & 0.000576651\\\\\n",
       "\t71 & 0.001238434 & 0.006849392 & 0.000523825 & 0.000719792 & 0.000149752\\\\\n",
       "\t72 & 0.001675253 & 0.004921579 & 0.000180064 & 0.001112502 & 0.000414788\\\\\n",
       "\t73 & 0.001797937 & 0.006819320 & 0.000235861 & 0.000721387 & 0.000000000\\\\\n",
       "\t74 & 0.001914585 & 0.006744046 & 0.000268970 & 0.002680676 & 0.000427803\\\\\n",
       "\t75 & 0.002468691 & 0.008307409 & 0.000355021 & 0.000781319 & 0.000000000\\\\\n",
       "\\end{tabular}\n"
      ],
      "text/markdown": [
       "\n",
       "| <!--/--> | mass_400 | mass_500 | mass_600 | mass_700 | mass_800 |\n",
       "|---|---|---|---|---|---|\n",
       "| 16 | 0.000999913 | 0.002290000 | 0.000000000 | 0.000000000 | 0.000000000 |\n",
       "| 17 | 0.000520550 | 0.002120632 | 0.000000000 | 0.000000000 | 0.000000000 |\n",
       "| 18 | 0.000590023 | 0.002573423 | 0.000000000 | 0.000000000 | 0.000000000 |\n",
       "| 19 | 0.000812673 | 0.003110937 | 0.000000000 | 0.000000000 | 0.000000000 |\n",
       "| 20 | 0.000996314 | 0.003317637 | 0.000000000 | 0.000000000 | 0.000000000 |\n",
       "| 21 | 0.001537212 | 0.006711703 | 0.000000000 | 0.000000000 | 0.000000000 |\n",
       "| 22 | 0.000563071 | 0.002724622 | 0.000000000 | 0.000000000 | 0.000000000 |\n",
       "| 23 | 0.001205190 | 0.004149720 | 0.000000000 | 0.000000000 | 0.000000000 |\n",
       "| 24 | 0.001076951 | 0.003278056 | 0.000000000 | 0.001090208 | 0.000000000 |\n",
       "| 25 | 0.000901222 | 0.002651653 | 0.000000000 | 0.000000000 | 0.000000000 |\n",
       "| 26 | 0.000322774 | 0.001705823 | 0.000000000 | 0.000000000 | 0.000000000 |\n",
       "| 27 | 0.010734592 | 0.001964237 | 0.000000000 | 0.000000000 | 0.000000000 |\n",
       "| 28 | 0.000887301 | 0.002453470 | 0.000000000 | 0.001091462 | 0.000000000 |\n",
       "| 29 | 0.000753247 | 0.001836327 | 0.000000000 | 0.000000000 | 0.000000000 |\n",
       "| 30 | 0.007378817 | 0.000815853 | 0.000000000 | 0.000000000 | 0.000000000 |\n",
       "| 61 | 0.000906251 | 0.003053412 | 0.000000000 | 0.000000000 | 0.000000000 |\n",
       "| 62 | 0.000933022 | 0.004629621 | 0.000000000 | 0.000000000 | 0.000000000 |\n",
       "| 63 | 0.001417392 | 0.006824685 | 0.000000000 | 0.000110766 | 0.000000000 |\n",
       "| 64 | 0.000885169 | 0.004546992 | 0.000000000 | 0.000000000 | 0.000000000 |\n",
       "| 65 | 0.000873184 | 0.003477569 | 0.000000000 | 0.000000000 | 0.000000000 |\n",
       "| 66 | 0.001335540 | 0.005033436 | 0.000277884 | 0.000031800 | 0.000000000 |\n",
       "| 67 | 0.000593104 | 0.005094886 | 0.000000000 | 0.000000000 | 0.000000000 |\n",
       "| 68 | 0.001332919 | 0.006259534 | 0.000321522 | 0.000383704 | 0.000039400 |\n",
       "| 69 | 0.001264943 | 0.005302796 | 0.000213527 | 0.000711022 | 0.000000000 |\n",
       "| 70 | 0.003456687 | 0.013600000 | 0.000509466 | 0.000429696 | 0.000576651 |\n",
       "| 71 | 0.001238434 | 0.006849392 | 0.000523825 | 0.000719792 | 0.000149752 |\n",
       "| 72 | 0.001675253 | 0.004921579 | 0.000180064 | 0.001112502 | 0.000414788 |\n",
       "| 73 | 0.001797937 | 0.006819320 | 0.000235861 | 0.000721387 | 0.000000000 |\n",
       "| 74 | 0.001914585 | 0.006744046 | 0.000268970 | 0.002680676 | 0.000427803 |\n",
       "| 75 | 0.002468691 | 0.008307409 | 0.000355021 | 0.000781319 | 0.000000000 |\n",
       "\n"
      ],
      "text/plain": [
       "   mass_400    mass_500    mass_600    mass_700    mass_800   \n",
       "16 0.000999913 0.002290000 0.000000000 0.000000000 0.000000000\n",
       "17 0.000520550 0.002120632 0.000000000 0.000000000 0.000000000\n",
       "18 0.000590023 0.002573423 0.000000000 0.000000000 0.000000000\n",
       "19 0.000812673 0.003110937 0.000000000 0.000000000 0.000000000\n",
       "20 0.000996314 0.003317637 0.000000000 0.000000000 0.000000000\n",
       "21 0.001537212 0.006711703 0.000000000 0.000000000 0.000000000\n",
       "22 0.000563071 0.002724622 0.000000000 0.000000000 0.000000000\n",
       "23 0.001205190 0.004149720 0.000000000 0.000000000 0.000000000\n",
       "24 0.001076951 0.003278056 0.000000000 0.001090208 0.000000000\n",
       "25 0.000901222 0.002651653 0.000000000 0.000000000 0.000000000\n",
       "26 0.000322774 0.001705823 0.000000000 0.000000000 0.000000000\n",
       "27 0.010734592 0.001964237 0.000000000 0.000000000 0.000000000\n",
       "28 0.000887301 0.002453470 0.000000000 0.001091462 0.000000000\n",
       "29 0.000753247 0.001836327 0.000000000 0.000000000 0.000000000\n",
       "30 0.007378817 0.000815853 0.000000000 0.000000000 0.000000000\n",
       "61 0.000906251 0.003053412 0.000000000 0.000000000 0.000000000\n",
       "62 0.000933022 0.004629621 0.000000000 0.000000000 0.000000000\n",
       "63 0.001417392 0.006824685 0.000000000 0.000110766 0.000000000\n",
       "64 0.000885169 0.004546992 0.000000000 0.000000000 0.000000000\n",
       "65 0.000873184 0.003477569 0.000000000 0.000000000 0.000000000\n",
       "66 0.001335540 0.005033436 0.000277884 0.000031800 0.000000000\n",
       "67 0.000593104 0.005094886 0.000000000 0.000000000 0.000000000\n",
       "68 0.001332919 0.006259534 0.000321522 0.000383704 0.000039400\n",
       "69 0.001264943 0.005302796 0.000213527 0.000711022 0.000000000\n",
       "70 0.003456687 0.013600000 0.000509466 0.000429696 0.000576651\n",
       "71 0.001238434 0.006849392 0.000523825 0.000719792 0.000149752\n",
       "72 0.001675253 0.004921579 0.000180064 0.001112502 0.000414788\n",
       "73 0.001797937 0.006819320 0.000235861 0.000721387 0.000000000\n",
       "74 0.001914585 0.006744046 0.000268970 0.002680676 0.000427803\n",
       "75 0.002468691 0.008307409 0.000355021 0.000781319 0.000000000"
      ]
     },
     "metadata": {},
     "output_type": "display_data"
    },
    {
     "data": {
      "text/html": [
       "<table>\n",
       "<thead><tr><th></th><th scope=col>filename</th><th scope=col>MouseID</th><th scope=col>Treatmentgroup</th><th scope=col>status</th><th scope=col>DPI</th><th scope=col>organ</th><th scope=col>well_position</th><th scope=col>plate</th><th scope=col>mass_400</th><th scope=col>mass_500</th><th scope=col>mass_600</th><th scope=col>mass_700</th><th scope=col>mass_800</th></tr></thead>\n",
       "<tbody>\n",
       "\t<tr><th scope=row>16</th><td>X506_Group1B_70dpi_RV_bottom_281_B_C7_P141.mzXML </td><td>506                                              </td><td>Group1B                                          </td><td>naive                                            </td><td>70dpi                                            </td><td>RV_bottom                                        </td><td>C7                                               </td><td>P141                                             </td><td>0.000999913                                      </td><td>0.002290000                                      </td><td>0                                                </td><td>0                                                </td><td>0                                                </td></tr>\n",
       "\t<tr><th scope=row>17</th><td>X507_Group1B_70dpi_RV_bottom_282_B_C8_P141.mzXML </td><td>507                                              </td><td>Group1B                                          </td><td>naive                                            </td><td>70dpi                                            </td><td>RV_bottom                                        </td><td>C8                                               </td><td>P141                                             </td><td>0.000520550                                      </td><td>0.002120632                                      </td><td>0                                                </td><td>0                                                </td><td>0                                                </td></tr>\n",
       "\t<tr><th scope=row>18</th><td>X508_Group1B_70dpi_RV_bottom_283_B_C9_P141.mzXML </td><td>508                                              </td><td>Group1B                                          </td><td>naive                                            </td><td>70dpi                                            </td><td>RV_bottom                                        </td><td>C9                                               </td><td>P141                                             </td><td>0.000590023                                      </td><td>0.002573423                                      </td><td>0                                                </td><td>0                                                </td><td>0                                                </td></tr>\n",
       "\t<tr><th scope=row>19</th><td>X509_Group1B_70dpi_RV_bottom_284_B_C10_P141.mzXML</td><td>509                                              </td><td>Group1B                                          </td><td>naive                                            </td><td>70dpi                                            </td><td>RV_bottom                                        </td><td>C10                                              </td><td>P141                                             </td><td>0.000812673                                      </td><td>0.003110937                                      </td><td>0                                                </td><td>0                                                </td><td>0                                                </td></tr>\n",
       "\t<tr><th scope=row>20</th><td>X510_Group1B_70dpi_RV_bottom_285_B_C11_P141.mzXML</td><td>510                                              </td><td>Group1B                                          </td><td>naive                                            </td><td>70dpi                                            </td><td>RV_bottom                                        </td><td>C11                                              </td><td>P141                                             </td><td>0.000996314                                      </td><td>0.003317637                                      </td><td>0                                                </td><td>0                                                </td><td>0                                                </td></tr>\n",
       "\t<tr><th scope=row>21</th><td>X526_Group1B_70dpi_RV_bottom_286_B_C12_P141.mzXML</td><td>526                                              </td><td>Group1B                                          </td><td>naive                                            </td><td>70dpi                                            </td><td>RV_bottom                                        </td><td>C12                                              </td><td>P141                                             </td><td>0.001537212                                      </td><td>0.006711703                                      </td><td>0                                                </td><td>0                                                </td><td>0                                                </td></tr>\n",
       "</tbody>\n",
       "</table>\n"
      ],
      "text/latex": [
       "\\begin{tabular}{r|lllllllllllll}\n",
       "  & filename & MouseID & Treatmentgroup & status & DPI & organ & well\\_position & plate & mass\\_400 & mass\\_500 & mass\\_600 & mass\\_700 & mass\\_800\\\\\n",
       "\\hline\n",
       "\t16 & X506\\_Group1B\\_70dpi\\_RV\\_bottom\\_281\\_B\\_C7\\_P141.mzXML  & 506                                                               & Group1B                                                           & naive                                                             & 70dpi                                                             & RV\\_bottom                                                       & C7                                                                & P141                                                              & 0.000999913                                                       & 0.002290000                                                       & 0                                                                 & 0                                                                 & 0                                                                \\\\\n",
       "\t17 & X507\\_Group1B\\_70dpi\\_RV\\_bottom\\_282\\_B\\_C8\\_P141.mzXML  & 507                                                               & Group1B                                                           & naive                                                             & 70dpi                                                             & RV\\_bottom                                                       & C8                                                                & P141                                                              & 0.000520550                                                       & 0.002120632                                                       & 0                                                                 & 0                                                                 & 0                                                                \\\\\n",
       "\t18 & X508\\_Group1B\\_70dpi\\_RV\\_bottom\\_283\\_B\\_C9\\_P141.mzXML  & 508                                                               & Group1B                                                           & naive                                                             & 70dpi                                                             & RV\\_bottom                                                       & C9                                                                & P141                                                              & 0.000590023                                                       & 0.002573423                                                       & 0                                                                 & 0                                                                 & 0                                                                \\\\\n",
       "\t19 & X509\\_Group1B\\_70dpi\\_RV\\_bottom\\_284\\_B\\_C10\\_P141.mzXML & 509                                                               & Group1B                                                           & naive                                                             & 70dpi                                                             & RV\\_bottom                                                       & C10                                                               & P141                                                              & 0.000812673                                                       & 0.003110937                                                       & 0                                                                 & 0                                                                 & 0                                                                \\\\\n",
       "\t20 & X510\\_Group1B\\_70dpi\\_RV\\_bottom\\_285\\_B\\_C11\\_P141.mzXML & 510                                                               & Group1B                                                           & naive                                                             & 70dpi                                                             & RV\\_bottom                                                       & C11                                                               & P141                                                              & 0.000996314                                                       & 0.003317637                                                       & 0                                                                 & 0                                                                 & 0                                                                \\\\\n",
       "\t21 & X526\\_Group1B\\_70dpi\\_RV\\_bottom\\_286\\_B\\_C12\\_P141.mzXML & 526                                                               & Group1B                                                           & naive                                                             & 70dpi                                                             & RV\\_bottom                                                       & C12                                                               & P141                                                              & 0.001537212                                                       & 0.006711703                                                       & 0                                                                 & 0                                                                 & 0                                                                \\\\\n",
       "\\end{tabular}\n"
      ],
      "text/markdown": [
       "\n",
       "| <!--/--> | filename | MouseID | Treatmentgroup | status | DPI | organ | well_position | plate | mass_400 | mass_500 | mass_600 | mass_700 | mass_800 |\n",
       "|---|---|---|---|---|---|---|---|---|---|---|---|---|---|\n",
       "| 16 | X506_Group1B_70dpi_RV_bottom_281_B_C7_P141.mzXML  | 506                                               | Group1B                                           | naive                                             | 70dpi                                             | RV_bottom                                         | C7                                                | P141                                              | 0.000999913                                       | 0.002290000                                       | 0                                                 | 0                                                 | 0                                                 |\n",
       "| 17 | X507_Group1B_70dpi_RV_bottom_282_B_C8_P141.mzXML  | 507                                               | Group1B                                           | naive                                             | 70dpi                                             | RV_bottom                                         | C8                                                | P141                                              | 0.000520550                                       | 0.002120632                                       | 0                                                 | 0                                                 | 0                                                 |\n",
       "| 18 | X508_Group1B_70dpi_RV_bottom_283_B_C9_P141.mzXML  | 508                                               | Group1B                                           | naive                                             | 70dpi                                             | RV_bottom                                         | C9                                                | P141                                              | 0.000590023                                       | 0.002573423                                       | 0                                                 | 0                                                 | 0                                                 |\n",
       "| 19 | X509_Group1B_70dpi_RV_bottom_284_B_C10_P141.mzXML | 509                                               | Group1B                                           | naive                                             | 70dpi                                             | RV_bottom                                         | C10                                               | P141                                              | 0.000812673                                       | 0.003110937                                       | 0                                                 | 0                                                 | 0                                                 |\n",
       "| 20 | X510_Group1B_70dpi_RV_bottom_285_B_C11_P141.mzXML | 510                                               | Group1B                                           | naive                                             | 70dpi                                             | RV_bottom                                         | C11                                               | P141                                              | 0.000996314                                       | 0.003317637                                       | 0                                                 | 0                                                 | 0                                                 |\n",
       "| 21 | X526_Group1B_70dpi_RV_bottom_286_B_C12_P141.mzXML | 526                                               | Group1B                                           | naive                                             | 70dpi                                             | RV_bottom                                         | C12                                               | P141                                              | 0.001537212                                       | 0.006711703                                       | 0                                                 | 0                                                 | 0                                                 |\n",
       "\n"
      ],
      "text/plain": [
       "   filename                                          MouseID Treatmentgroup\n",
       "16 X506_Group1B_70dpi_RV_bottom_281_B_C7_P141.mzXML  506     Group1B       \n",
       "17 X507_Group1B_70dpi_RV_bottom_282_B_C8_P141.mzXML  507     Group1B       \n",
       "18 X508_Group1B_70dpi_RV_bottom_283_B_C9_P141.mzXML  508     Group1B       \n",
       "19 X509_Group1B_70dpi_RV_bottom_284_B_C10_P141.mzXML 509     Group1B       \n",
       "20 X510_Group1B_70dpi_RV_bottom_285_B_C11_P141.mzXML 510     Group1B       \n",
       "21 X526_Group1B_70dpi_RV_bottom_286_B_C12_P141.mzXML 526     Group1B       \n",
       "   status DPI   organ     well_position plate mass_400    mass_500    mass_600\n",
       "16 naive  70dpi RV_bottom C7            P141  0.000999913 0.002290000 0       \n",
       "17 naive  70dpi RV_bottom C8            P141  0.000520550 0.002120632 0       \n",
       "18 naive  70dpi RV_bottom C9            P141  0.000590023 0.002573423 0       \n",
       "19 naive  70dpi RV_bottom C10           P141  0.000812673 0.003110937 0       \n",
       "20 naive  70dpi RV_bottom C11           P141  0.000996314 0.003317637 0       \n",
       "21 naive  70dpi RV_bottom C12           P141  0.001537212 0.006711703 0       \n",
       "   mass_700 mass_800\n",
       "16 0        0       \n",
       "17 0        0       \n",
       "18 0        0       \n",
       "19 0        0       \n",
       "20 0        0       \n",
       "21 0        0       "
      ]
     },
     "metadata": {},
     "output_type": "display_data"
    },
    {
     "data": {
      "text/html": [
       "<ol class=list-inline>\n",
       "\t<li>30</li>\n",
       "\t<li>13</li>\n",
       "</ol>\n"
      ],
      "text/latex": [
       "\\begin{enumerate*}\n",
       "\\item 30\n",
       "\\item 13\n",
       "\\end{enumerate*}\n"
      ],
      "text/markdown": [
       "1. 30\n",
       "2. 13\n",
       "\n",
       "\n"
      ],
      "text/plain": [
       "[1] 30 13"
      ]
     },
     "metadata": {},
     "output_type": "display_data"
    },
    {
     "data": {
      "text/html": [
       "<ol class=list-inline>\n",
       "\t<li>30</li>\n",
       "\t<li>5</li>\n",
       "</ol>\n"
      ],
      "text/latex": [
       "\\begin{enumerate*}\n",
       "\\item 30\n",
       "\\item 5\n",
       "\\end{enumerate*}\n"
      ],
      "text/markdown": [
       "1. 30\n",
       "2. 5\n",
       "\n",
       "\n"
      ],
      "text/plain": [
       "[1] 30  5"
      ]
     },
     "metadata": {},
     "output_type": "display_data"
    },
    {
     "data": {
      "text/html": [
       "<ol class=list-inline>\n",
       "\t<li>30</li>\n",
       "\t<li>5</li>\n",
       "</ol>\n"
      ],
      "text/latex": [
       "\\begin{enumerate*}\n",
       "\\item 30\n",
       "\\item 5\n",
       "\\end{enumerate*}\n"
      ],
      "text/markdown": [
       "1. 30\n",
       "2. 5\n",
       "\n",
       "\n"
      ],
      "text/plain": [
       "[1] 30  5"
      ]
     },
     "metadata": {},
     "output_type": "display_data"
    },
    {
     "data": {
      "text/html": [
       "<ol class=list-inline>\n",
       "\t<li>30</li>\n",
       "\t<li>13</li>\n",
       "</ol>\n"
      ],
      "text/latex": [
       "\\begin{enumerate*}\n",
       "\\item 30\n",
       "\\item 13\n",
       "\\end{enumerate*}\n"
      ],
      "text/markdown": [
       "1. 30\n",
       "2. 13\n",
       "\n",
       "\n"
      ],
      "text/plain": [
       "[1] 30 13"
      ]
     },
     "metadata": {},
     "output_type": "display_data"
    }
   ],
   "source": [
    "noMeta<-features_pos[,9:13]\n",
    "head(noMeta)\n",
    "not_zero<-which(colSums(noMeta) != 0)\n",
    "head(not_zero)\n",
    "nonzero <- noMeta[, not_zero]\n",
    "nonzero\n",
    "nonzero_wMeta<-cbind(features_pos[,1:8], nonzero)\n",
    "head(nonzero_wMeta)\n",
    "dim(features_pos)\n",
    "dim(noMeta)\n",
    "dim(nonzero)\n",
    "dim(nonzero_wMeta)"
   ]
  },
  {
   "cell_type": "code",
   "execution_count": 5,
   "metadata": {
    "scrolled": true
   },
   "outputs": [
    {
     "name": "stderr",
     "output_type": "stream",
     "text": [
      "Warning message in wilcox.test.default(x = c(0, 0, 0, 0, 0, 0, 0, 0, 0, 0, 0, 0, :\n",
      "\"cannot compute exact p-value with ties\"Warning message in wilcox.test.default(x = c(0, 0, 0, 0, 0, 0, 0, 0, 0.001090208, :\n",
      "\"cannot compute exact p-value with ties\"Warning message in wilcox.test.default(x = c(0, 0, 0, 0, 0, 0, 0, 0, 0, 0, 0, 0, :\n",
      "\"cannot compute exact p-value with ties\""
     ]
    },
    {
     "data": {
      "text/html": [
       "<ol class=list-inline>\n",
       "\t<li>0.0674961538838424</li>\n",
       "\t<li>6.54987263850015e-06</li>\n",
       "\t<li>0.00060913156875028</li>\n",
       "\t<li>0.0122275234479143</li>\n",
       "\t<li>0.0180966134767002</li>\n",
       "</ol>\n"
      ],
      "text/latex": [
       "\\begin{enumerate*}\n",
       "\\item 0.0674961538838424\n",
       "\\item 6.54987263850015e-06\n",
       "\\item 0.00060913156875028\n",
       "\\item 0.0122275234479143\n",
       "\\item 0.0180966134767002\n",
       "\\end{enumerate*}\n"
      ],
      "text/markdown": [
       "1. 0.0674961538838424\n",
       "2. 6.54987263850015e-06\n",
       "3. 0.00060913156875028\n",
       "4. 0.0122275234479143\n",
       "5. 0.0180966134767002\n",
       "\n",
       "\n"
      ],
      "text/plain": [
       "[1] 6.749615e-02 6.549873e-06 6.091316e-04 1.222752e-02 1.809661e-02"
      ]
     },
     "metadata": {},
     "output_type": "display_data"
    },
    {
     "data": {
      "text/html": [
       "<ol class=list-inline>\n",
       "\t<li>0.0674961538838424</li>\n",
       "\t<li>3.27493631925008e-05</li>\n",
       "\t<li>0.0015228289218757</li>\n",
       "\t<li>0.0203792057465239</li>\n",
       "\t<li>0.0226207668458752</li>\n",
       "</ol>\n"
      ],
      "text/latex": [
       "\\begin{enumerate*}\n",
       "\\item 0.0674961538838424\n",
       "\\item 3.27493631925008e-05\n",
       "\\item 0.0015228289218757\n",
       "\\item 0.0203792057465239\n",
       "\\item 0.0226207668458752\n",
       "\\end{enumerate*}\n"
      ],
      "text/markdown": [
       "1. 0.0674961538838424\n",
       "2. 3.27493631925008e-05\n",
       "3. 0.0015228289218757\n",
       "4. 0.0203792057465239\n",
       "5. 0.0226207668458752\n",
       "\n",
       "\n"
      ],
      "text/plain": [
       "[1] 6.749615e-02 3.274936e-05 1.522829e-03 2.037921e-02 2.262077e-02"
      ]
     },
     "metadata": {},
     "output_type": "display_data"
    }
   ],
   "source": [
    "pval<-c()\n",
    "\n",
    "for (i in 9:ncol(nonzero_wMeta)) \n",
    "pval<-c(pval,wilcox.test(nonzero_wMeta[,i]~nonzero_wMeta$Treatmentgroup)$p.value)\n",
    "head(pval)\n",
    "pAdj <- p.adjust(pval, method = c(\"fdr\"), n=length(pval)) \n",
    "head(pAdj) \n",
    "\n"
   ]
  },
  {
   "cell_type": "code",
   "execution_count": 6,
   "metadata": {
    "scrolled": true
   },
   "outputs": [
    {
     "data": {
      "text/html": [
       "5"
      ],
      "text/latex": [
       "5"
      ],
      "text/markdown": [
       "5"
      ],
      "text/plain": [
       "[1] 5"
      ]
     },
     "metadata": {},
     "output_type": "display_data"
    }
   ],
   "source": [
    "length(pval)"
   ]
  },
  {
   "cell_type": "code",
   "execution_count": 7,
   "metadata": {
    "scrolled": true
   },
   "outputs": [
    {
     "data": {
      "text/html": [
       "5"
      ],
      "text/latex": [
       "5"
      ],
      "text/markdown": [
       "5"
      ],
      "text/plain": [
       "[1] 5"
      ]
     },
     "metadata": {},
     "output_type": "display_data"
    }
   ],
   "source": [
    "length(pAdj)"
   ]
  },
  {
   "cell_type": "code",
   "execution_count": 8,
   "metadata": {},
   "outputs": [
    {
     "data": {
      "text/html": [
       "<ol class=list-inline>\n",
       "\t<li>2</li>\n",
       "\t<li>5</li>\n",
       "</ol>\n"
      ],
      "text/latex": [
       "\\begin{enumerate*}\n",
       "\\item 2\n",
       "\\item 5\n",
       "\\end{enumerate*}\n"
      ],
      "text/markdown": [
       "1. 2\n",
       "2. 5\n",
       "\n",
       "\n"
      ],
      "text/plain": [
       "[1] 2 5"
      ]
     },
     "metadata": {},
     "output_type": "display_data"
    },
    {
     "data": {
      "text/html": [
       "<table>\n",
       "<thead><tr><th></th><th scope=col>mass_400</th><th scope=col>mass_500</th><th scope=col>mass_600</th></tr></thead>\n",
       "<tbody>\n",
       "\t<tr><th scope=row>Group1B</th><td>0.001951990 </td><td>0.002780273 </td><td>0.0000000000</td></tr>\n",
       "\t<tr><th scope=row>Group3B</th><td>0.001472874 </td><td>0.006097645 </td><td>0.0001924093</td></tr>\n",
       "</tbody>\n",
       "</table>\n"
      ],
      "text/latex": [
       "\\begin{tabular}{r|lll}\n",
       "  & mass\\_400 & mass\\_500 & mass\\_600\\\\\n",
       "\\hline\n",
       "\tGroup1B & 0.001951990  & 0.002780273  & 0.0000000000\\\\\n",
       "\tGroup3B & 0.001472874  & 0.006097645  & 0.0001924093\\\\\n",
       "\\end{tabular}\n"
      ],
      "text/markdown": [
       "\n",
       "| <!--/--> | mass_400 | mass_500 | mass_600 |\n",
       "|---|---|---|---|\n",
       "| Group1B | 0.001951990  | 0.002780273  | 0.0000000000 |\n",
       "| Group3B | 0.001472874  | 0.006097645  | 0.0001924093 |\n",
       "\n"
      ],
      "text/plain": [
       "        mass_400    mass_500    mass_600    \n",
       "Group1B 0.001951990 0.002780273 0.0000000000\n",
       "Group3B 0.001472874 0.006097645 0.0001924093"
      ]
     },
     "metadata": {},
     "output_type": "display_data"
    },
    {
     "data": {
      "text/html": [
       "<dl class=dl-horizontal>\n",
       "\t<dt>mass_400</dt>\n",
       "\t\t<dd>1.3252932101776</dd>\n",
       "\t<dt>mass_500</dt>\n",
       "\t\t<dd>0.455958457055503</dd>\n",
       "\t<dt>mass_600</dt>\n",
       "\t\t<dd>0</dd>\n",
       "\t<dt>mass_700</dt>\n",
       "\t\t<dd>0.283973111410313</dd>\n",
       "\t<dt>mass_800</dt>\n",
       "\t\t<dd>0</dd>\n",
       "</dl>\n"
      ],
      "text/latex": [
       "\\begin{description*}\n",
       "\\item[mass\\textbackslash{}\\_400] 1.3252932101776\n",
       "\\item[mass\\textbackslash{}\\_500] 0.455958457055503\n",
       "\\item[mass\\textbackslash{}\\_600] 0\n",
       "\\item[mass\\textbackslash{}\\_700] 0.283973111410313\n",
       "\\item[mass\\textbackslash{}\\_800] 0\n",
       "\\end{description*}\n"
      ],
      "text/markdown": [
       "mass_400\n",
       ":   1.3252932101776mass_500\n",
       ":   0.455958457055503mass_600\n",
       ":   0mass_700\n",
       ":   0.283973111410313mass_800\n",
       ":   0\n",
       "\n"
      ],
      "text/plain": [
       " mass_400  mass_500  mass_600  mass_700  mass_800 \n",
       "1.3252932 0.4559585 0.0000000 0.2839731 0.0000000 "
      ]
     },
     "metadata": {},
     "output_type": "display_data"
    },
    {
     "data": {
      "text/html": [
       "<ol class=list-inline>\n",
       "\t<li>'numeric'</li>\n",
       "\t<li>'vector'</li>\n",
       "</ol>\n"
      ],
      "text/latex": [
       "\\begin{enumerate*}\n",
       "\\item 'numeric'\n",
       "\\item 'vector'\n",
       "\\end{enumerate*}\n"
      ],
      "text/markdown": [
       "1. 'numeric'\n",
       "2. 'vector'\n",
       "\n",
       "\n"
      ],
      "text/plain": [
       "[1] \"numeric\" \"vector\" "
      ]
     },
     "metadata": {},
     "output_type": "display_data"
    }
   ],
   "source": [
    "avg<- apply(nonzero_wMeta[,9:ncol(nonzero_wMeta)], 2, function(x) tapply(x, nonzero_wMeta$Treatmentgroup, function(x) mean(x))) \n",
    "\n",
    "dim(avg) \n",
    "\n",
    "avg[,1:3]\n",
    "\n",
    "fch <- apply(avg, 2, function(x) x[1]/x[2])\n",
    "\n",
    "head(fch)\n",
    "is(fch)"
   ]
  },
  {
   "cell_type": "code",
   "execution_count": 9,
   "metadata": {
    "scrolled": true
   },
   "outputs": [
    {
     "data": {
      "text/html": [
       "<dl class=dl-horizontal>\n",
       "\t<dt>mass_400</dt>\n",
       "\t\t<dd>1.3252932101776</dd>\n",
       "\t<dt>mass_500</dt>\n",
       "\t\t<dd>0.455958457055503</dd>\n",
       "\t<dt>mass_600</dt>\n",
       "\t\t<dd>0</dd>\n",
       "\t<dt>mass_700</dt>\n",
       "\t\t<dd>0.283973111410313</dd>\n",
       "\t<dt>mass_800</dt>\n",
       "\t\t<dd>0</dd>\n",
       "</dl>\n"
      ],
      "text/latex": [
       "\\begin{description*}\n",
       "\\item[mass\\textbackslash{}\\_400] 1.3252932101776\n",
       "\\item[mass\\textbackslash{}\\_500] 0.455958457055503\n",
       "\\item[mass\\textbackslash{}\\_600] 0\n",
       "\\item[mass\\textbackslash{}\\_700] 0.283973111410313\n",
       "\\item[mass\\textbackslash{}\\_800] 0\n",
       "\\end{description*}\n"
      ],
      "text/markdown": [
       "mass_400\n",
       ":   1.3252932101776mass_500\n",
       ":   0.455958457055503mass_600\n",
       ":   0mass_700\n",
       ":   0.283973111410313mass_800\n",
       ":   0\n",
       "\n"
      ],
      "text/plain": [
       " mass_400  mass_500  mass_600  mass_700  mass_800 \n",
       "1.3252932 0.4559585 0.0000000 0.2839731 0.0000000 "
      ]
     },
     "metadata": {},
     "output_type": "display_data"
    }
   ],
   "source": [
    "fch"
   ]
  },
  {
   "cell_type": "code",
   "execution_count": 10,
   "metadata": {
    "scrolled": false
   },
   "outputs": [],
   "source": [
    "df <- data.frame(fch,pval, pAdj)\n",
    "write.csv(df, \"PE-time-RVB-wilcox-1B-3B.csv\")"
   ]
  },
  {
   "cell_type": "code",
   "execution_count": null,
   "metadata": {},
   "outputs": [],
   "source": []
  },
  {
   "cell_type": "code",
   "execution_count": null,
   "metadata": {},
   "outputs": [],
   "source": []
  },
  {
   "cell_type": "code",
   "execution_count": null,
   "metadata": {},
   "outputs": [],
   "source": []
  },
  {
   "cell_type": "code",
   "execution_count": null,
   "metadata": {},
   "outputs": [],
   "source": []
  },
  {
   "cell_type": "code",
   "execution_count": null,
   "metadata": {},
   "outputs": [],
   "source": []
  },
  {
   "cell_type": "code",
   "execution_count": null,
   "metadata": {},
   "outputs": [],
   "source": []
  }
 ],
 "metadata": {
  "kernelspec": {
   "display_name": "R",
   "language": "R",
   "name": "ir"
  },
  "language_info": {
   "codemirror_mode": "r",
   "file_extension": ".r",
   "mimetype": "text/x-r-source",
   "name": "R",
   "pygments_lexer": "r",
   "version": "3.6.1"
  }
 },
 "nbformat": 4,
 "nbformat_minor": 2
}
