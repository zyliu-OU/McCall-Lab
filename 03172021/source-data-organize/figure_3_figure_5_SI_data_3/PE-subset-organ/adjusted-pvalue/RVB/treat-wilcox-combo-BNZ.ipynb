{
 "cells": [
  {
   "cell_type": "code",
   "execution_count": 1,
   "metadata": {},
   "outputs": [],
   "source": [
    "a <- read.csv(\"03172021-PE-treatment-RVB-M-F.csv\")"
   ]
  },
  {
   "cell_type": "code",
   "execution_count": 2,
   "metadata": {},
   "outputs": [
    {
     "data": {
      "text/html": [
       "<table>\n",
       "<thead><tr><th scope=col>filename</th><th scope=col>MouseID</th><th scope=col>Treatmentgroup</th><th scope=col>DPI</th><th scope=col>organ</th><th scope=col>well_position</th><th scope=col>plate</th><th scope=col>mass_400</th><th scope=col>mass_500</th><th scope=col>mass_600</th><th scope=col>mass_700</th><th scope=col>mass_800</th></tr></thead>\n",
       "<tbody>\n",
       "\t<tr><td>X511_Group1C_142dpi_RV_bottom_161_G_A1_P140.mzXML</td><td>511                                              </td><td>naive                                            </td><td>142dpi                                           </td><td>RV_bottom                                        </td><td>A1                                               </td><td>P140                                             </td><td>0.011070737                                      </td><td>0.001992138                                      </td><td>0                                                </td><td>0.00e+00                                         </td><td>0                                                </td></tr>\n",
       "\t<tr><td>X512_Group1C_142dpi_RV_bottom_162_G_A2_P140.mzXML</td><td>512                                              </td><td>naive                                            </td><td>142dpi                                           </td><td>RV_bottom                                        </td><td>A2                                               </td><td>P140                                             </td><td>0.018662542                                      </td><td>0.003579901                                      </td><td>0                                                </td><td>0.00e+00                                         </td><td>0                                                </td></tr>\n",
       "\t<tr><td>X513_Group1C_142dpi_RV_bottom_163_G_A3_P140.mzXML</td><td>513                                              </td><td>naive                                            </td><td>142dpi                                           </td><td>RV_bottom                                        </td><td>A3                                               </td><td>P140                                             </td><td>0.012768515                                      </td><td>0.002431946                                      </td><td>0                                                </td><td>0.00e+00                                         </td><td>0                                                </td></tr>\n",
       "\t<tr><td>X514_Group1C_142dpi_RV_bottom_164_G_A4_P140.mzXML</td><td>514                                              </td><td>naive                                            </td><td>142dpi                                           </td><td>RV_bottom                                        </td><td>A4                                               </td><td>P140                                             </td><td>0.000315233                                      </td><td>0.003336661                                      </td><td>0                                                </td><td>6.06e-05                                         </td><td>0                                                </td></tr>\n",
       "\t<tr><td>X515_Group1C_142dpi_RV_bottom_165_G_A5_P140.mzXML</td><td>515                                              </td><td>naive                                            </td><td>142dpi                                           </td><td>RV_bottom                                        </td><td>A5                                               </td><td>P140                                             </td><td>0.000593772                                      </td><td>0.004155339                                      </td><td>0                                                </td><td>0.00e+00                                         </td><td>0                                                </td></tr>\n",
       "\t<tr><td>X531_Group1C_142dpi_RV_bottom_166_G_A6_P140.mzXML</td><td>531                                              </td><td>naive                                            </td><td>142dpi                                           </td><td>RV_bottom                                        </td><td>A6                                               </td><td>P140                                             </td><td>0.000452000                                      </td><td>0.004626188                                      </td><td>0                                                </td><td>0.00e+00                                         </td><td>0                                                </td></tr>\n",
       "</tbody>\n",
       "</table>\n"
      ],
      "text/latex": [
       "\\begin{tabular}{r|llllllllllll}\n",
       " filename & MouseID & Treatmentgroup & DPI & organ & well\\_position & plate & mass\\_400 & mass\\_500 & mass\\_600 & mass\\_700 & mass\\_800\\\\\n",
       "\\hline\n",
       "\t X511\\_Group1C\\_142dpi\\_RV\\_bottom\\_161\\_G\\_A1\\_P140.mzXML & 511                                                               & naive                                                             & 142dpi                                                            & RV\\_bottom                                                       & A1                                                                & P140                                                              & 0.011070737                                                       & 0.001992138                                                       & 0                                                                 & 0.00e+00                                                          & 0                                                                \\\\\n",
       "\t X512\\_Group1C\\_142dpi\\_RV\\_bottom\\_162\\_G\\_A2\\_P140.mzXML & 512                                                               & naive                                                             & 142dpi                                                            & RV\\_bottom                                                       & A2                                                                & P140                                                              & 0.018662542                                                       & 0.003579901                                                       & 0                                                                 & 0.00e+00                                                          & 0                                                                \\\\\n",
       "\t X513\\_Group1C\\_142dpi\\_RV\\_bottom\\_163\\_G\\_A3\\_P140.mzXML & 513                                                               & naive                                                             & 142dpi                                                            & RV\\_bottom                                                       & A3                                                                & P140                                                              & 0.012768515                                                       & 0.002431946                                                       & 0                                                                 & 0.00e+00                                                          & 0                                                                \\\\\n",
       "\t X514\\_Group1C\\_142dpi\\_RV\\_bottom\\_164\\_G\\_A4\\_P140.mzXML & 514                                                               & naive                                                             & 142dpi                                                            & RV\\_bottom                                                       & A4                                                                & P140                                                              & 0.000315233                                                       & 0.003336661                                                       & 0                                                                 & 6.06e-05                                                          & 0                                                                \\\\\n",
       "\t X515\\_Group1C\\_142dpi\\_RV\\_bottom\\_165\\_G\\_A5\\_P140.mzXML & 515                                                               & naive                                                             & 142dpi                                                            & RV\\_bottom                                                       & A5                                                                & P140                                                              & 0.000593772                                                       & 0.004155339                                                       & 0                                                                 & 0.00e+00                                                          & 0                                                                \\\\\n",
       "\t X531\\_Group1C\\_142dpi\\_RV\\_bottom\\_166\\_G\\_A6\\_P140.mzXML & 531                                                               & naive                                                             & 142dpi                                                            & RV\\_bottom                                                       & A6                                                                & P140                                                              & 0.000452000                                                       & 0.004626188                                                       & 0                                                                 & 0.00e+00                                                          & 0                                                                \\\\\n",
       "\\end{tabular}\n"
      ],
      "text/markdown": [
       "\n",
       "| filename | MouseID | Treatmentgroup | DPI | organ | well_position | plate | mass_400 | mass_500 | mass_600 | mass_700 | mass_800 |\n",
       "|---|---|---|---|---|---|---|---|---|---|---|---|\n",
       "| X511_Group1C_142dpi_RV_bottom_161_G_A1_P140.mzXML | 511                                               | naive                                             | 142dpi                                            | RV_bottom                                         | A1                                                | P140                                              | 0.011070737                                       | 0.001992138                                       | 0                                                 | 0.00e+00                                          | 0                                                 |\n",
       "| X512_Group1C_142dpi_RV_bottom_162_G_A2_P140.mzXML | 512                                               | naive                                             | 142dpi                                            | RV_bottom                                         | A2                                                | P140                                              | 0.018662542                                       | 0.003579901                                       | 0                                                 | 0.00e+00                                          | 0                                                 |\n",
       "| X513_Group1C_142dpi_RV_bottom_163_G_A3_P140.mzXML | 513                                               | naive                                             | 142dpi                                            | RV_bottom                                         | A3                                                | P140                                              | 0.012768515                                       | 0.002431946                                       | 0                                                 | 0.00e+00                                          | 0                                                 |\n",
       "| X514_Group1C_142dpi_RV_bottom_164_G_A4_P140.mzXML | 514                                               | naive                                             | 142dpi                                            | RV_bottom                                         | A4                                                | P140                                              | 0.000315233                                       | 0.003336661                                       | 0                                                 | 6.06e-05                                          | 0                                                 |\n",
       "| X515_Group1C_142dpi_RV_bottom_165_G_A5_P140.mzXML | 515                                               | naive                                             | 142dpi                                            | RV_bottom                                         | A5                                                | P140                                              | 0.000593772                                       | 0.004155339                                       | 0                                                 | 0.00e+00                                          | 0                                                 |\n",
       "| X531_Group1C_142dpi_RV_bottom_166_G_A6_P140.mzXML | 531                                               | naive                                             | 142dpi                                            | RV_bottom                                         | A6                                                | P140                                              | 0.000452000                                       | 0.004626188                                       | 0                                                 | 0.00e+00                                          | 0                                                 |\n",
       "\n"
      ],
      "text/plain": [
       "  filename                                          MouseID Treatmentgroup\n",
       "1 X511_Group1C_142dpi_RV_bottom_161_G_A1_P140.mzXML 511     naive         \n",
       "2 X512_Group1C_142dpi_RV_bottom_162_G_A2_P140.mzXML 512     naive         \n",
       "3 X513_Group1C_142dpi_RV_bottom_163_G_A3_P140.mzXML 513     naive         \n",
       "4 X514_Group1C_142dpi_RV_bottom_164_G_A4_P140.mzXML 514     naive         \n",
       "5 X515_Group1C_142dpi_RV_bottom_165_G_A5_P140.mzXML 515     naive         \n",
       "6 X531_Group1C_142dpi_RV_bottom_166_G_A6_P140.mzXML 531     naive         \n",
       "  DPI    organ     well_position plate mass_400    mass_500    mass_600\n",
       "1 142dpi RV_bottom A1            P140  0.011070737 0.001992138 0       \n",
       "2 142dpi RV_bottom A2            P140  0.018662542 0.003579901 0       \n",
       "3 142dpi RV_bottom A3            P140  0.012768515 0.002431946 0       \n",
       "4 142dpi RV_bottom A4            P140  0.000315233 0.003336661 0       \n",
       "5 142dpi RV_bottom A5            P140  0.000593772 0.004155339 0       \n",
       "6 142dpi RV_bottom A6            P140  0.000452000 0.004626188 0       \n",
       "  mass_700 mass_800\n",
       "1 0.00e+00 0       \n",
       "2 0.00e+00 0       \n",
       "3 0.00e+00 0       \n",
       "4 6.06e-05 0       \n",
       "5 0.00e+00 0       \n",
       "6 0.00e+00 0       "
      ]
     },
     "metadata": {},
     "output_type": "display_data"
    },
    {
     "data": {
      "text/html": [
       "<ol class=list-inline>\n",
       "\t<li>60</li>\n",
       "\t<li>12</li>\n",
       "</ol>\n"
      ],
      "text/latex": [
       "\\begin{enumerate*}\n",
       "\\item 60\n",
       "\\item 12\n",
       "\\end{enumerate*}\n"
      ],
      "text/markdown": [
       "1. 60\n",
       "2. 12\n",
       "\n",
       "\n"
      ],
      "text/plain": [
       "[1] 60 12"
      ]
     },
     "metadata": {},
     "output_type": "display_data"
    }
   ],
   "source": [
    "head(a)\n",
    "dim(a)"
   ]
  },
  {
   "cell_type": "code",
   "execution_count": 3,
   "metadata": {},
   "outputs": [
    {
     "data": {
      "text/html": [
       "<table>\n",
       "<thead><tr><th></th><th scope=col>filename</th><th scope=col>MouseID</th><th scope=col>Treatmentgroup</th><th scope=col>DPI</th><th scope=col>organ</th><th scope=col>well_position</th><th scope=col>plate</th><th scope=col>mass_400</th><th scope=col>mass_500</th><th scope=col>mass_600</th><th scope=col>mass_700</th><th scope=col>mass_800</th></tr></thead>\n",
       "<tbody>\n",
       "\t<tr><th scope=row>21</th><td>X611_Group9_142dpi_RV_bottom_181_G_B9_P140.mzXML </td><td>611                                              </td><td>combo                                            </td><td>142dpi                                           </td><td>RV_bottom                                        </td><td>B9                                               </td><td>P140                                             </td><td>0.000278261                                      </td><td>0.002583873                                      </td><td>0                                                </td><td>0                                                </td><td>0                                                </td></tr>\n",
       "\t<tr><th scope=row>22</th><td>X612_Group9_142dpi_RV_bottom_182_G_B10_P140.mzXML</td><td>612                                              </td><td>combo                                            </td><td>142dpi                                           </td><td>RV_bottom                                        </td><td>B10                                              </td><td>P140                                             </td><td>0.007279973                                      </td><td>0.002345146                                      </td><td>0                                                </td><td>0                                                </td><td>0                                                </td></tr>\n",
       "\t<tr><th scope=row>23</th><td>X613_Group9_142dpi_RV_bottom_183_G_B11_P140.mzXML</td><td>613                                              </td><td>combo                                            </td><td>142dpi                                           </td><td>RV_bottom                                        </td><td>B11                                              </td><td>P140                                             </td><td>0.000214267                                      </td><td>0.003085388                                      </td><td>0                                                </td><td>0                                                </td><td>0                                                </td></tr>\n",
       "\t<tr><th scope=row>24</th><td>X614_Group9_142dpi_RV_bottom_184_G_B12_P140.mzXML</td><td>614                                              </td><td>combo                                            </td><td>142dpi                                           </td><td>RV_bottom                                        </td><td>B12                                              </td><td>P140                                             </td><td>0.000269569                                      </td><td>0.002893949                                      </td><td>0                                                </td><td>0                                                </td><td>0                                                </td></tr>\n",
       "\t<tr><th scope=row>25</th><td>X615_Group9_142dpi_RV_bottom_185_G_C1_P140.mzXML </td><td>615                                              </td><td>combo                                            </td><td>142dpi                                           </td><td>RV_bottom                                        </td><td>C1                                               </td><td>P140                                             </td><td>0.000466307                                      </td><td>0.002467080                                      </td><td>0                                                </td><td>0                                                </td><td>0                                                </td></tr>\n",
       "\t<tr><th scope=row>26</th><td>X631_Group15_142dpi_RV_bottom_191_G_C7_P140.mzXML</td><td>631                                              </td><td>BNZ                                              </td><td>142dpi                                           </td><td>RV_bottom                                        </td><td>C7                                               </td><td>P140                                             </td><td>0.000065000                                      </td><td>0.001412829                                      </td><td>0                                                </td><td>0                                                </td><td>0                                                </td></tr>\n",
       "</tbody>\n",
       "</table>\n"
      ],
      "text/latex": [
       "\\begin{tabular}{r|llllllllllll}\n",
       "  & filename & MouseID & Treatmentgroup & DPI & organ & well\\_position & plate & mass\\_400 & mass\\_500 & mass\\_600 & mass\\_700 & mass\\_800\\\\\n",
       "\\hline\n",
       "\t21 & X611\\_Group9\\_142dpi\\_RV\\_bottom\\_181\\_G\\_B9\\_P140.mzXML  & 611                                                               & combo                                                             & 142dpi                                                            & RV\\_bottom                                                       & B9                                                                & P140                                                              & 0.000278261                                                       & 0.002583873                                                       & 0                                                                 & 0                                                                 & 0                                                                \\\\\n",
       "\t22 & X612\\_Group9\\_142dpi\\_RV\\_bottom\\_182\\_G\\_B10\\_P140.mzXML & 612                                                               & combo                                                             & 142dpi                                                            & RV\\_bottom                                                       & B10                                                               & P140                                                              & 0.007279973                                                       & 0.002345146                                                       & 0                                                                 & 0                                                                 & 0                                                                \\\\\n",
       "\t23 & X613\\_Group9\\_142dpi\\_RV\\_bottom\\_183\\_G\\_B11\\_P140.mzXML & 613                                                               & combo                                                             & 142dpi                                                            & RV\\_bottom                                                       & B11                                                               & P140                                                              & 0.000214267                                                       & 0.003085388                                                       & 0                                                                 & 0                                                                 & 0                                                                \\\\\n",
       "\t24 & X614\\_Group9\\_142dpi\\_RV\\_bottom\\_184\\_G\\_B12\\_P140.mzXML & 614                                                               & combo                                                             & 142dpi                                                            & RV\\_bottom                                                       & B12                                                               & P140                                                              & 0.000269569                                                       & 0.002893949                                                       & 0                                                                 & 0                                                                 & 0                                                                \\\\\n",
       "\t25 & X615\\_Group9\\_142dpi\\_RV\\_bottom\\_185\\_G\\_C1\\_P140.mzXML  & 615                                                               & combo                                                             & 142dpi                                                            & RV\\_bottom                                                       & C1                                                                & P140                                                              & 0.000466307                                                       & 0.002467080                                                       & 0                                                                 & 0                                                                 & 0                                                                \\\\\n",
       "\t26 & X631\\_Group15\\_142dpi\\_RV\\_bottom\\_191\\_G\\_C7\\_P140.mzXML & 631                                                               & BNZ                                                               & 142dpi                                                            & RV\\_bottom                                                       & C7                                                                & P140                                                              & 0.000065000                                                       & 0.001412829                                                       & 0                                                                 & 0                                                                 & 0                                                                \\\\\n",
       "\\end{tabular}\n"
      ],
      "text/markdown": [
       "\n",
       "| <!--/--> | filename | MouseID | Treatmentgroup | DPI | organ | well_position | plate | mass_400 | mass_500 | mass_600 | mass_700 | mass_800 |\n",
       "|---|---|---|---|---|---|---|---|---|---|---|---|---|\n",
       "| 21 | X611_Group9_142dpi_RV_bottom_181_G_B9_P140.mzXML  | 611                                               | combo                                             | 142dpi                                            | RV_bottom                                         | B9                                                | P140                                              | 0.000278261                                       | 0.002583873                                       | 0                                                 | 0                                                 | 0                                                 |\n",
       "| 22 | X612_Group9_142dpi_RV_bottom_182_G_B10_P140.mzXML | 612                                               | combo                                             | 142dpi                                            | RV_bottom                                         | B10                                               | P140                                              | 0.007279973                                       | 0.002345146                                       | 0                                                 | 0                                                 | 0                                                 |\n",
       "| 23 | X613_Group9_142dpi_RV_bottom_183_G_B11_P140.mzXML | 613                                               | combo                                             | 142dpi                                            | RV_bottom                                         | B11                                               | P140                                              | 0.000214267                                       | 0.003085388                                       | 0                                                 | 0                                                 | 0                                                 |\n",
       "| 24 | X614_Group9_142dpi_RV_bottom_184_G_B12_P140.mzXML | 614                                               | combo                                             | 142dpi                                            | RV_bottom                                         | B12                                               | P140                                              | 0.000269569                                       | 0.002893949                                       | 0                                                 | 0                                                 | 0                                                 |\n",
       "| 25 | X615_Group9_142dpi_RV_bottom_185_G_C1_P140.mzXML  | 615                                               | combo                                             | 142dpi                                            | RV_bottom                                         | C1                                                | P140                                              | 0.000466307                                       | 0.002467080                                       | 0                                                 | 0                                                 | 0                                                 |\n",
       "| 26 | X631_Group15_142dpi_RV_bottom_191_G_C7_P140.mzXML | 631                                               | BNZ                                               | 142dpi                                            | RV_bottom                                         | C7                                                | P140                                              | 0.000065000                                       | 0.001412829                                       | 0                                                 | 0                                                 | 0                                                 |\n",
       "\n"
      ],
      "text/plain": [
       "   filename                                          MouseID Treatmentgroup\n",
       "21 X611_Group9_142dpi_RV_bottom_181_G_B9_P140.mzXML  611     combo         \n",
       "22 X612_Group9_142dpi_RV_bottom_182_G_B10_P140.mzXML 612     combo         \n",
       "23 X613_Group9_142dpi_RV_bottom_183_G_B11_P140.mzXML 613     combo         \n",
       "24 X614_Group9_142dpi_RV_bottom_184_G_B12_P140.mzXML 614     combo         \n",
       "25 X615_Group9_142dpi_RV_bottom_185_G_C1_P140.mzXML  615     combo         \n",
       "26 X631_Group15_142dpi_RV_bottom_191_G_C7_P140.mzXML 631     BNZ           \n",
       "   DPI    organ     well_position plate mass_400    mass_500    mass_600\n",
       "21 142dpi RV_bottom B9            P140  0.000278261 0.002583873 0       \n",
       "22 142dpi RV_bottom B10           P140  0.007279973 0.002345146 0       \n",
       "23 142dpi RV_bottom B11           P140  0.000214267 0.003085388 0       \n",
       "24 142dpi RV_bottom B12           P140  0.000269569 0.002893949 0       \n",
       "25 142dpi RV_bottom C1            P140  0.000466307 0.002467080 0       \n",
       "26 142dpi RV_bottom C7            P140  0.000065000 0.001412829 0       \n",
       "   mass_700 mass_800\n",
       "21 0        0       \n",
       "22 0        0       \n",
       "23 0        0       \n",
       "24 0        0       \n",
       "25 0        0       \n",
       "26 0        0       "
      ]
     },
     "metadata": {},
     "output_type": "display_data"
    },
    {
     "data": {
      "text/html": [
       "<ol class=list-inline>\n",
       "\t<li>30</li>\n",
       "\t<li>12</li>\n",
       "</ol>\n"
      ],
      "text/latex": [
       "\\begin{enumerate*}\n",
       "\\item 30\n",
       "\\item 12\n",
       "\\end{enumerate*}\n"
      ],
      "text/markdown": [
       "1. 30\n",
       "2. 12\n",
       "\n",
       "\n"
      ],
      "text/plain": [
       "[1] 30 12"
      ]
     },
     "metadata": {},
     "output_type": "display_data"
    }
   ],
   "source": [
    "features_pos<-droplevels(subset(a, a$Treatmentgroup==c(\"combo\")|a$Treatmentgroup==c(\"BNZ\")))\n",
    "head(features_pos)\n",
    "dim(features_pos)"
   ]
  },
  {
   "cell_type": "code",
   "execution_count": 4,
   "metadata": {
    "scrolled": false
   },
   "outputs": [
    {
     "data": {
      "text/html": [
       "<table>\n",
       "<thead><tr><th></th><th scope=col>mass_400</th><th scope=col>mass_500</th><th scope=col>mass_600</th><th scope=col>mass_700</th><th scope=col>mass_800</th></tr></thead>\n",
       "<tbody>\n",
       "\t<tr><th scope=row>21</th><td>0.000278261</td><td>0.002583873</td><td>0          </td><td>0          </td><td>0          </td></tr>\n",
       "\t<tr><th scope=row>22</th><td>0.007279973</td><td>0.002345146</td><td>0          </td><td>0          </td><td>0          </td></tr>\n",
       "\t<tr><th scope=row>23</th><td>0.000214267</td><td>0.003085388</td><td>0          </td><td>0          </td><td>0          </td></tr>\n",
       "\t<tr><th scope=row>24</th><td>0.000269569</td><td>0.002893949</td><td>0          </td><td>0          </td><td>0          </td></tr>\n",
       "\t<tr><th scope=row>25</th><td>0.000466307</td><td>0.002467080</td><td>0          </td><td>0          </td><td>0          </td></tr>\n",
       "\t<tr><th scope=row>26</th><td>0.000065000</td><td>0.001412829</td><td>0          </td><td>0          </td><td>0          </td></tr>\n",
       "</tbody>\n",
       "</table>\n"
      ],
      "text/latex": [
       "\\begin{tabular}{r|lllll}\n",
       "  & mass\\_400 & mass\\_500 & mass\\_600 & mass\\_700 & mass\\_800\\\\\n",
       "\\hline\n",
       "\t21 & 0.000278261 & 0.002583873 & 0           & 0           & 0          \\\\\n",
       "\t22 & 0.007279973 & 0.002345146 & 0           & 0           & 0          \\\\\n",
       "\t23 & 0.000214267 & 0.003085388 & 0           & 0           & 0          \\\\\n",
       "\t24 & 0.000269569 & 0.002893949 & 0           & 0           & 0          \\\\\n",
       "\t25 & 0.000466307 & 0.002467080 & 0           & 0           & 0          \\\\\n",
       "\t26 & 0.000065000 & 0.001412829 & 0           & 0           & 0          \\\\\n",
       "\\end{tabular}\n"
      ],
      "text/markdown": [
       "\n",
       "| <!--/--> | mass_400 | mass_500 | mass_600 | mass_700 | mass_800 |\n",
       "|---|---|---|---|---|---|\n",
       "| 21 | 0.000278261 | 0.002583873 | 0           | 0           | 0           |\n",
       "| 22 | 0.007279973 | 0.002345146 | 0           | 0           | 0           |\n",
       "| 23 | 0.000214267 | 0.003085388 | 0           | 0           | 0           |\n",
       "| 24 | 0.000269569 | 0.002893949 | 0           | 0           | 0           |\n",
       "| 25 | 0.000466307 | 0.002467080 | 0           | 0           | 0           |\n",
       "| 26 | 0.000065000 | 0.001412829 | 0           | 0           | 0           |\n",
       "\n"
      ],
      "text/plain": [
       "   mass_400    mass_500    mass_600 mass_700 mass_800\n",
       "21 0.000278261 0.002583873 0        0        0       \n",
       "22 0.007279973 0.002345146 0        0        0       \n",
       "23 0.000214267 0.003085388 0        0        0       \n",
       "24 0.000269569 0.002893949 0        0        0       \n",
       "25 0.000466307 0.002467080 0        0        0       \n",
       "26 0.000065000 0.001412829 0        0        0       "
      ]
     },
     "metadata": {},
     "output_type": "display_data"
    },
    {
     "data": {
      "text/html": [
       "<dl class=dl-horizontal>\n",
       "\t<dt>mass_400</dt>\n",
       "\t\t<dd>1</dd>\n",
       "\t<dt>mass_500</dt>\n",
       "\t\t<dd>2</dd>\n",
       "</dl>\n"
      ],
      "text/latex": [
       "\\begin{description*}\n",
       "\\item[mass\\textbackslash{}\\_400] 1\n",
       "\\item[mass\\textbackslash{}\\_500] 2\n",
       "\\end{description*}\n"
      ],
      "text/markdown": [
       "mass_400\n",
       ":   1mass_500\n",
       ":   2\n",
       "\n"
      ],
      "text/plain": [
       "mass_400 mass_500 \n",
       "       1        2 "
      ]
     },
     "metadata": {},
     "output_type": "display_data"
    },
    {
     "data": {
      "text/html": [
       "<table>\n",
       "<thead><tr><th></th><th scope=col>mass_400</th><th scope=col>mass_500</th></tr></thead>\n",
       "<tbody>\n",
       "\t<tr><th scope=row>21</th><td>0.000278261</td><td>0.002583873</td></tr>\n",
       "\t<tr><th scope=row>22</th><td>0.007279973</td><td>0.002345146</td></tr>\n",
       "\t<tr><th scope=row>23</th><td>0.000214267</td><td>0.003085388</td></tr>\n",
       "\t<tr><th scope=row>24</th><td>0.000269569</td><td>0.002893949</td></tr>\n",
       "\t<tr><th scope=row>25</th><td>0.000466307</td><td>0.002467080</td></tr>\n",
       "\t<tr><th scope=row>26</th><td>0.000065000</td><td>0.001412829</td></tr>\n",
       "\t<tr><th scope=row>27</th><td>0.000189248</td><td>0.002394802</td></tr>\n",
       "\t<tr><th scope=row>28</th><td>0.000267683</td><td>0.003025456</td></tr>\n",
       "\t<tr><th scope=row>29</th><td>0.000138145</td><td>0.002116952</td></tr>\n",
       "\t<tr><th scope=row>30</th><td>0.000000000</td><td>0.002608427</td></tr>\n",
       "\t<tr><th scope=row>36</th><td>0.000132232</td><td>0.002445518</td></tr>\n",
       "\t<tr><th scope=row>37</th><td>0.000170649</td><td>0.002374383</td></tr>\n",
       "\t<tr><th scope=row>38</th><td>0.000098100</td><td>0.002207898</td></tr>\n",
       "\t<tr><th scope=row>39</th><td>0.000329800</td><td>0.002166461</td></tr>\n",
       "\t<tr><th scope=row>40</th><td>0.000312214</td><td>0.002898432</td></tr>\n",
       "\t<tr><th scope=row>41</th><td>0.017479238</td><td>0.002621634</td></tr>\n",
       "\t<tr><th scope=row>42</th><td>0.000344366</td><td>0.002474858</td></tr>\n",
       "\t<tr><th scope=row>43</th><td>0.000609470</td><td>0.004579832</td></tr>\n",
       "\t<tr><th scope=row>44</th><td>0.000178069</td><td>0.001947830</td></tr>\n",
       "\t<tr><th scope=row>45</th><td>0.000275836</td><td>0.002912757</td></tr>\n",
       "\t<tr><th scope=row>51</th><td>0.000518473</td><td>0.002450936</td></tr>\n",
       "\t<tr><th scope=row>52</th><td>0.000516055</td><td>0.004125776</td></tr>\n",
       "\t<tr><th scope=row>53</th><td>0.000288816</td><td>0.002990197</td></tr>\n",
       "\t<tr><th scope=row>54</th><td>0.000252958</td><td>0.002045549</td></tr>\n",
       "\t<tr><th scope=row>55</th><td>0.000312976</td><td>0.003218808</td></tr>\n",
       "\t<tr><th scope=row>56</th><td>0.000442380</td><td>0.002273473</td></tr>\n",
       "\t<tr><th scope=row>57</th><td>0.000432847</td><td>0.003496355</td></tr>\n",
       "\t<tr><th scope=row>58</th><td>0.000394852</td><td>0.002737354</td></tr>\n",
       "\t<tr><th scope=row>59</th><td>0.000443452</td><td>0.002942443</td></tr>\n",
       "\t<tr><th scope=row>60</th><td>0.000476418</td><td>0.003287744</td></tr>\n",
       "</tbody>\n",
       "</table>\n"
      ],
      "text/latex": [
       "\\begin{tabular}{r|ll}\n",
       "  & mass\\_400 & mass\\_500\\\\\n",
       "\\hline\n",
       "\t21 & 0.000278261 & 0.002583873\\\\\n",
       "\t22 & 0.007279973 & 0.002345146\\\\\n",
       "\t23 & 0.000214267 & 0.003085388\\\\\n",
       "\t24 & 0.000269569 & 0.002893949\\\\\n",
       "\t25 & 0.000466307 & 0.002467080\\\\\n",
       "\t26 & 0.000065000 & 0.001412829\\\\\n",
       "\t27 & 0.000189248 & 0.002394802\\\\\n",
       "\t28 & 0.000267683 & 0.003025456\\\\\n",
       "\t29 & 0.000138145 & 0.002116952\\\\\n",
       "\t30 & 0.000000000 & 0.002608427\\\\\n",
       "\t36 & 0.000132232 & 0.002445518\\\\\n",
       "\t37 & 0.000170649 & 0.002374383\\\\\n",
       "\t38 & 0.000098100 & 0.002207898\\\\\n",
       "\t39 & 0.000329800 & 0.002166461\\\\\n",
       "\t40 & 0.000312214 & 0.002898432\\\\\n",
       "\t41 & 0.017479238 & 0.002621634\\\\\n",
       "\t42 & 0.000344366 & 0.002474858\\\\\n",
       "\t43 & 0.000609470 & 0.004579832\\\\\n",
       "\t44 & 0.000178069 & 0.001947830\\\\\n",
       "\t45 & 0.000275836 & 0.002912757\\\\\n",
       "\t51 & 0.000518473 & 0.002450936\\\\\n",
       "\t52 & 0.000516055 & 0.004125776\\\\\n",
       "\t53 & 0.000288816 & 0.002990197\\\\\n",
       "\t54 & 0.000252958 & 0.002045549\\\\\n",
       "\t55 & 0.000312976 & 0.003218808\\\\\n",
       "\t56 & 0.000442380 & 0.002273473\\\\\n",
       "\t57 & 0.000432847 & 0.003496355\\\\\n",
       "\t58 & 0.000394852 & 0.002737354\\\\\n",
       "\t59 & 0.000443452 & 0.002942443\\\\\n",
       "\t60 & 0.000476418 & 0.003287744\\\\\n",
       "\\end{tabular}\n"
      ],
      "text/markdown": [
       "\n",
       "| <!--/--> | mass_400 | mass_500 |\n",
       "|---|---|---|\n",
       "| 21 | 0.000278261 | 0.002583873 |\n",
       "| 22 | 0.007279973 | 0.002345146 |\n",
       "| 23 | 0.000214267 | 0.003085388 |\n",
       "| 24 | 0.000269569 | 0.002893949 |\n",
       "| 25 | 0.000466307 | 0.002467080 |\n",
       "| 26 | 0.000065000 | 0.001412829 |\n",
       "| 27 | 0.000189248 | 0.002394802 |\n",
       "| 28 | 0.000267683 | 0.003025456 |\n",
       "| 29 | 0.000138145 | 0.002116952 |\n",
       "| 30 | 0.000000000 | 0.002608427 |\n",
       "| 36 | 0.000132232 | 0.002445518 |\n",
       "| 37 | 0.000170649 | 0.002374383 |\n",
       "| 38 | 0.000098100 | 0.002207898 |\n",
       "| 39 | 0.000329800 | 0.002166461 |\n",
       "| 40 | 0.000312214 | 0.002898432 |\n",
       "| 41 | 0.017479238 | 0.002621634 |\n",
       "| 42 | 0.000344366 | 0.002474858 |\n",
       "| 43 | 0.000609470 | 0.004579832 |\n",
       "| 44 | 0.000178069 | 0.001947830 |\n",
       "| 45 | 0.000275836 | 0.002912757 |\n",
       "| 51 | 0.000518473 | 0.002450936 |\n",
       "| 52 | 0.000516055 | 0.004125776 |\n",
       "| 53 | 0.000288816 | 0.002990197 |\n",
       "| 54 | 0.000252958 | 0.002045549 |\n",
       "| 55 | 0.000312976 | 0.003218808 |\n",
       "| 56 | 0.000442380 | 0.002273473 |\n",
       "| 57 | 0.000432847 | 0.003496355 |\n",
       "| 58 | 0.000394852 | 0.002737354 |\n",
       "| 59 | 0.000443452 | 0.002942443 |\n",
       "| 60 | 0.000476418 | 0.003287744 |\n",
       "\n"
      ],
      "text/plain": [
       "   mass_400    mass_500   \n",
       "21 0.000278261 0.002583873\n",
       "22 0.007279973 0.002345146\n",
       "23 0.000214267 0.003085388\n",
       "24 0.000269569 0.002893949\n",
       "25 0.000466307 0.002467080\n",
       "26 0.000065000 0.001412829\n",
       "27 0.000189248 0.002394802\n",
       "28 0.000267683 0.003025456\n",
       "29 0.000138145 0.002116952\n",
       "30 0.000000000 0.002608427\n",
       "36 0.000132232 0.002445518\n",
       "37 0.000170649 0.002374383\n",
       "38 0.000098100 0.002207898\n",
       "39 0.000329800 0.002166461\n",
       "40 0.000312214 0.002898432\n",
       "41 0.017479238 0.002621634\n",
       "42 0.000344366 0.002474858\n",
       "43 0.000609470 0.004579832\n",
       "44 0.000178069 0.001947830\n",
       "45 0.000275836 0.002912757\n",
       "51 0.000518473 0.002450936\n",
       "52 0.000516055 0.004125776\n",
       "53 0.000288816 0.002990197\n",
       "54 0.000252958 0.002045549\n",
       "55 0.000312976 0.003218808\n",
       "56 0.000442380 0.002273473\n",
       "57 0.000432847 0.003496355\n",
       "58 0.000394852 0.002737354\n",
       "59 0.000443452 0.002942443\n",
       "60 0.000476418 0.003287744"
      ]
     },
     "metadata": {},
     "output_type": "display_data"
    },
    {
     "data": {
      "text/html": [
       "<table>\n",
       "<thead><tr><th></th><th scope=col>filename</th><th scope=col>MouseID</th><th scope=col>Treatmentgroup</th><th scope=col>DPI</th><th scope=col>organ</th><th scope=col>well_position</th><th scope=col>plate</th><th scope=col>mass_400</th><th scope=col>mass_500</th></tr></thead>\n",
       "<tbody>\n",
       "\t<tr><th scope=row>21</th><td>X611_Group9_142dpi_RV_bottom_181_G_B9_P140.mzXML </td><td>611                                              </td><td>combo                                            </td><td>142dpi                                           </td><td>RV_bottom                                        </td><td>B9                                               </td><td>P140                                             </td><td>0.000278261                                      </td><td>0.002583873                                      </td></tr>\n",
       "\t<tr><th scope=row>22</th><td>X612_Group9_142dpi_RV_bottom_182_G_B10_P140.mzXML</td><td>612                                              </td><td>combo                                            </td><td>142dpi                                           </td><td>RV_bottom                                        </td><td>B10                                              </td><td>P140                                             </td><td>0.007279973                                      </td><td>0.002345146                                      </td></tr>\n",
       "\t<tr><th scope=row>23</th><td>X613_Group9_142dpi_RV_bottom_183_G_B11_P140.mzXML</td><td>613                                              </td><td>combo                                            </td><td>142dpi                                           </td><td>RV_bottom                                        </td><td>B11                                              </td><td>P140                                             </td><td>0.000214267                                      </td><td>0.003085388                                      </td></tr>\n",
       "\t<tr><th scope=row>24</th><td>X614_Group9_142dpi_RV_bottom_184_G_B12_P140.mzXML</td><td>614                                              </td><td>combo                                            </td><td>142dpi                                           </td><td>RV_bottom                                        </td><td>B12                                              </td><td>P140                                             </td><td>0.000269569                                      </td><td>0.002893949                                      </td></tr>\n",
       "\t<tr><th scope=row>25</th><td>X615_Group9_142dpi_RV_bottom_185_G_C1_P140.mzXML </td><td>615                                              </td><td>combo                                            </td><td>142dpi                                           </td><td>RV_bottom                                        </td><td>C1                                               </td><td>P140                                             </td><td>0.000466307                                      </td><td>0.002467080                                      </td></tr>\n",
       "\t<tr><th scope=row>26</th><td>X631_Group15_142dpi_RV_bottom_191_G_C7_P140.mzXML</td><td>631                                              </td><td>BNZ                                              </td><td>142dpi                                           </td><td>RV_bottom                                        </td><td>C7                                               </td><td>P140                                             </td><td>0.000065000                                      </td><td>0.001412829                                      </td></tr>\n",
       "</tbody>\n",
       "</table>\n"
      ],
      "text/latex": [
       "\\begin{tabular}{r|lllllllll}\n",
       "  & filename & MouseID & Treatmentgroup & DPI & organ & well\\_position & plate & mass\\_400 & mass\\_500\\\\\n",
       "\\hline\n",
       "\t21 & X611\\_Group9\\_142dpi\\_RV\\_bottom\\_181\\_G\\_B9\\_P140.mzXML  & 611                                                               & combo                                                             & 142dpi                                                            & RV\\_bottom                                                       & B9                                                                & P140                                                              & 0.000278261                                                       & 0.002583873                                                      \\\\\n",
       "\t22 & X612\\_Group9\\_142dpi\\_RV\\_bottom\\_182\\_G\\_B10\\_P140.mzXML & 612                                                               & combo                                                             & 142dpi                                                            & RV\\_bottom                                                       & B10                                                               & P140                                                              & 0.007279973                                                       & 0.002345146                                                      \\\\\n",
       "\t23 & X613\\_Group9\\_142dpi\\_RV\\_bottom\\_183\\_G\\_B11\\_P140.mzXML & 613                                                               & combo                                                             & 142dpi                                                            & RV\\_bottom                                                       & B11                                                               & P140                                                              & 0.000214267                                                       & 0.003085388                                                      \\\\\n",
       "\t24 & X614\\_Group9\\_142dpi\\_RV\\_bottom\\_184\\_G\\_B12\\_P140.mzXML & 614                                                               & combo                                                             & 142dpi                                                            & RV\\_bottom                                                       & B12                                                               & P140                                                              & 0.000269569                                                       & 0.002893949                                                      \\\\\n",
       "\t25 & X615\\_Group9\\_142dpi\\_RV\\_bottom\\_185\\_G\\_C1\\_P140.mzXML  & 615                                                               & combo                                                             & 142dpi                                                            & RV\\_bottom                                                       & C1                                                                & P140                                                              & 0.000466307                                                       & 0.002467080                                                      \\\\\n",
       "\t26 & X631\\_Group15\\_142dpi\\_RV\\_bottom\\_191\\_G\\_C7\\_P140.mzXML & 631                                                               & BNZ                                                               & 142dpi                                                            & RV\\_bottom                                                       & C7                                                                & P140                                                              & 0.000065000                                                       & 0.001412829                                                      \\\\\n",
       "\\end{tabular}\n"
      ],
      "text/markdown": [
       "\n",
       "| <!--/--> | filename | MouseID | Treatmentgroup | DPI | organ | well_position | plate | mass_400 | mass_500 |\n",
       "|---|---|---|---|---|---|---|---|---|---|\n",
       "| 21 | X611_Group9_142dpi_RV_bottom_181_G_B9_P140.mzXML  | 611                                               | combo                                             | 142dpi                                            | RV_bottom                                         | B9                                                | P140                                              | 0.000278261                                       | 0.002583873                                       |\n",
       "| 22 | X612_Group9_142dpi_RV_bottom_182_G_B10_P140.mzXML | 612                                               | combo                                             | 142dpi                                            | RV_bottom                                         | B10                                               | P140                                              | 0.007279973                                       | 0.002345146                                       |\n",
       "| 23 | X613_Group9_142dpi_RV_bottom_183_G_B11_P140.mzXML | 613                                               | combo                                             | 142dpi                                            | RV_bottom                                         | B11                                               | P140                                              | 0.000214267                                       | 0.003085388                                       |\n",
       "| 24 | X614_Group9_142dpi_RV_bottom_184_G_B12_P140.mzXML | 614                                               | combo                                             | 142dpi                                            | RV_bottom                                         | B12                                               | P140                                              | 0.000269569                                       | 0.002893949                                       |\n",
       "| 25 | X615_Group9_142dpi_RV_bottom_185_G_C1_P140.mzXML  | 615                                               | combo                                             | 142dpi                                            | RV_bottom                                         | C1                                                | P140                                              | 0.000466307                                       | 0.002467080                                       |\n",
       "| 26 | X631_Group15_142dpi_RV_bottom_191_G_C7_P140.mzXML | 631                                               | BNZ                                               | 142dpi                                            | RV_bottom                                         | C7                                                | P140                                              | 0.000065000                                       | 0.001412829                                       |\n",
       "\n"
      ],
      "text/plain": [
       "   filename                                          MouseID Treatmentgroup\n",
       "21 X611_Group9_142dpi_RV_bottom_181_G_B9_P140.mzXML  611     combo         \n",
       "22 X612_Group9_142dpi_RV_bottom_182_G_B10_P140.mzXML 612     combo         \n",
       "23 X613_Group9_142dpi_RV_bottom_183_G_B11_P140.mzXML 613     combo         \n",
       "24 X614_Group9_142dpi_RV_bottom_184_G_B12_P140.mzXML 614     combo         \n",
       "25 X615_Group9_142dpi_RV_bottom_185_G_C1_P140.mzXML  615     combo         \n",
       "26 X631_Group15_142dpi_RV_bottom_191_G_C7_P140.mzXML 631     BNZ           \n",
       "   DPI    organ     well_position plate mass_400    mass_500   \n",
       "21 142dpi RV_bottom B9            P140  0.000278261 0.002583873\n",
       "22 142dpi RV_bottom B10           P140  0.007279973 0.002345146\n",
       "23 142dpi RV_bottom B11           P140  0.000214267 0.003085388\n",
       "24 142dpi RV_bottom B12           P140  0.000269569 0.002893949\n",
       "25 142dpi RV_bottom C1            P140  0.000466307 0.002467080\n",
       "26 142dpi RV_bottom C7            P140  0.000065000 0.001412829"
      ]
     },
     "metadata": {},
     "output_type": "display_data"
    },
    {
     "data": {
      "text/html": [
       "<ol class=list-inline>\n",
       "\t<li>30</li>\n",
       "\t<li>12</li>\n",
       "</ol>\n"
      ],
      "text/latex": [
       "\\begin{enumerate*}\n",
       "\\item 30\n",
       "\\item 12\n",
       "\\end{enumerate*}\n"
      ],
      "text/markdown": [
       "1. 30\n",
       "2. 12\n",
       "\n",
       "\n"
      ],
      "text/plain": [
       "[1] 30 12"
      ]
     },
     "metadata": {},
     "output_type": "display_data"
    },
    {
     "data": {
      "text/html": [
       "<ol class=list-inline>\n",
       "\t<li>30</li>\n",
       "\t<li>5</li>\n",
       "</ol>\n"
      ],
      "text/latex": [
       "\\begin{enumerate*}\n",
       "\\item 30\n",
       "\\item 5\n",
       "\\end{enumerate*}\n"
      ],
      "text/markdown": [
       "1. 30\n",
       "2. 5\n",
       "\n",
       "\n"
      ],
      "text/plain": [
       "[1] 30  5"
      ]
     },
     "metadata": {},
     "output_type": "display_data"
    },
    {
     "data": {
      "text/html": [
       "<ol class=list-inline>\n",
       "\t<li>30</li>\n",
       "\t<li>2</li>\n",
       "</ol>\n"
      ],
      "text/latex": [
       "\\begin{enumerate*}\n",
       "\\item 30\n",
       "\\item 2\n",
       "\\end{enumerate*}\n"
      ],
      "text/markdown": [
       "1. 30\n",
       "2. 2\n",
       "\n",
       "\n"
      ],
      "text/plain": [
       "[1] 30  2"
      ]
     },
     "metadata": {},
     "output_type": "display_data"
    },
    {
     "data": {
      "text/html": [
       "<ol class=list-inline>\n",
       "\t<li>30</li>\n",
       "\t<li>9</li>\n",
       "</ol>\n"
      ],
      "text/latex": [
       "\\begin{enumerate*}\n",
       "\\item 30\n",
       "\\item 9\n",
       "\\end{enumerate*}\n"
      ],
      "text/markdown": [
       "1. 30\n",
       "2. 9\n",
       "\n",
       "\n"
      ],
      "text/plain": [
       "[1] 30  9"
      ]
     },
     "metadata": {},
     "output_type": "display_data"
    }
   ],
   "source": [
    "noMeta<-features_pos[,8:12]\n",
    "head(noMeta)\n",
    "not_zero<-which(colSums(noMeta) != 0)\n",
    "head(not_zero)\n",
    "nonzero <- noMeta[, not_zero]\n",
    "nonzero\n",
    "nonzero_wMeta<-cbind(features_pos[,1:7], nonzero)\n",
    "head(nonzero_wMeta)\n",
    "dim(features_pos)\n",
    "dim(noMeta)\n",
    "dim(nonzero)\n",
    "dim(nonzero_wMeta)"
   ]
  },
  {
   "cell_type": "code",
   "execution_count": 5,
   "metadata": {
    "scrolled": true
   },
   "outputs": [
    {
     "data": {
      "text/html": [
       "<ol class=list-inline>\n",
       "\t<li>0.934887200362667</li>\n",
       "\t<li>0.743702065375981</li>\n",
       "</ol>\n"
      ],
      "text/latex": [
       "\\begin{enumerate*}\n",
       "\\item 0.934887200362667\n",
       "\\item 0.743702065375981\n",
       "\\end{enumerate*}\n"
      ],
      "text/markdown": [
       "1. 0.934887200362667\n",
       "2. 0.743702065375981\n",
       "\n",
       "\n"
      ],
      "text/plain": [
       "[1] 0.9348872 0.7437021"
      ]
     },
     "metadata": {},
     "output_type": "display_data"
    },
    {
     "data": {
      "text/html": [
       "<ol class=list-inline>\n",
       "\t<li>0.934887200362667</li>\n",
       "\t<li>0.934887200362667</li>\n",
       "</ol>\n"
      ],
      "text/latex": [
       "\\begin{enumerate*}\n",
       "\\item 0.934887200362667\n",
       "\\item 0.934887200362667\n",
       "\\end{enumerate*}\n"
      ],
      "text/markdown": [
       "1. 0.934887200362667\n",
       "2. 0.934887200362667\n",
       "\n",
       "\n"
      ],
      "text/plain": [
       "[1] 0.9348872 0.9348872"
      ]
     },
     "metadata": {},
     "output_type": "display_data"
    }
   ],
   "source": [
    "pval<-c()\n",
    "\n",
    "for (i in 8:ncol(nonzero_wMeta)) \n",
    "pval<-c(pval,wilcox.test(nonzero_wMeta[,i]~nonzero_wMeta$Treatmentgroup)$p.value)\n",
    "head(pval)\n",
    "pAdj <- p.adjust(pval, method = c(\"fdr\"), n=length(pval)) \n",
    "head(pAdj) \n",
    "\n"
   ]
  },
  {
   "cell_type": "code",
   "execution_count": 6,
   "metadata": {
    "scrolled": true
   },
   "outputs": [
    {
     "data": {
      "text/html": [
       "2"
      ],
      "text/latex": [
       "2"
      ],
      "text/markdown": [
       "2"
      ],
      "text/plain": [
       "[1] 2"
      ]
     },
     "metadata": {},
     "output_type": "display_data"
    }
   ],
   "source": [
    "length(pval)"
   ]
  },
  {
   "cell_type": "code",
   "execution_count": 7,
   "metadata": {
    "scrolled": true
   },
   "outputs": [
    {
     "data": {
      "text/html": [
       "2"
      ],
      "text/latex": [
       "2"
      ],
      "text/markdown": [
       "2"
      ],
      "text/plain": [
       "[1] 2"
      ]
     },
     "metadata": {},
     "output_type": "display_data"
    }
   ],
   "source": [
    "length(pAdj)"
   ]
  },
  {
   "cell_type": "code",
   "execution_count": 11,
   "metadata": {},
   "outputs": [
    {
     "data": {
      "text/html": [
       "<ol class=list-inline>\n",
       "\t<li>2</li>\n",
       "\t<li>2</li>\n",
       "</ol>\n"
      ],
      "text/latex": [
       "\\begin{enumerate*}\n",
       "\\item 2\n",
       "\\item 2\n",
       "\\end{enumerate*}\n"
      ],
      "text/markdown": [
       "1. 2\n",
       "2. 2\n",
       "\n",
       "\n"
      ],
      "text/plain": [
       "[1] 2 2"
      ]
     },
     "metadata": {},
     "output_type": "display_data"
    },
    {
     "data": {
      "text/html": [
       "<table>\n",
       "<thead><tr><th></th><th scope=col>mass_400</th><th scope=col>mass_500</th></tr></thead>\n",
       "<tbody>\n",
       "\t<tr><th scope=row>BNZ</th><td>0.001449134</td><td>0.002722183</td></tr>\n",
       "\t<tr><th scope=row>combo</th><td>0.000762710</td><td>0.002686626</td></tr>\n",
       "</tbody>\n",
       "</table>\n"
      ],
      "text/latex": [
       "\\begin{tabular}{r|ll}\n",
       "  & mass\\_400 & mass\\_500\\\\\n",
       "\\hline\n",
       "\tBNZ & 0.001449134 & 0.002722183\\\\\n",
       "\tcombo & 0.000762710 & 0.002686626\\\\\n",
       "\\end{tabular}\n"
      ],
      "text/markdown": [
       "\n",
       "| <!--/--> | mass_400 | mass_500 |\n",
       "|---|---|---|\n",
       "| BNZ | 0.001449134 | 0.002722183 |\n",
       "| combo | 0.000762710 | 0.002686626 |\n",
       "\n"
      ],
      "text/plain": [
       "      mass_400    mass_500   \n",
       "BNZ   0.001449134 0.002722183\n",
       "combo 0.000762710 0.002686626"
      ]
     },
     "metadata": {},
     "output_type": "display_data"
    },
    {
     "data": {
      "text/html": [
       "<dl class=dl-horizontal>\n",
       "\t<dt>mass_400</dt>\n",
       "\t\t<dd>1.89997980883953</dd>\n",
       "\t<dt>mass_500</dt>\n",
       "\t\t<dd>1.01323473995664</dd>\n",
       "</dl>\n"
      ],
      "text/latex": [
       "\\begin{description*}\n",
       "\\item[mass\\textbackslash{}\\_400] 1.89997980883953\n",
       "\\item[mass\\textbackslash{}\\_500] 1.01323473995664\n",
       "\\end{description*}\n"
      ],
      "text/markdown": [
       "mass_400\n",
       ":   1.89997980883953mass_500\n",
       ":   1.01323473995664\n",
       "\n"
      ],
      "text/plain": [
       "mass_400 mass_500 \n",
       "1.899980 1.013235 "
      ]
     },
     "metadata": {},
     "output_type": "display_data"
    },
    {
     "data": {
      "text/html": [
       "<ol class=list-inline>\n",
       "\t<li>'numeric'</li>\n",
       "\t<li>'vector'</li>\n",
       "</ol>\n"
      ],
      "text/latex": [
       "\\begin{enumerate*}\n",
       "\\item 'numeric'\n",
       "\\item 'vector'\n",
       "\\end{enumerate*}\n"
      ],
      "text/markdown": [
       "1. 'numeric'\n",
       "2. 'vector'\n",
       "\n",
       "\n"
      ],
      "text/plain": [
       "[1] \"numeric\" \"vector\" "
      ]
     },
     "metadata": {},
     "output_type": "display_data"
    }
   ],
   "source": [
    "avg<- apply(nonzero_wMeta[,8:ncol(nonzero_wMeta)], 2, function(x) tapply(x, nonzero_wMeta$Treatmentgroup, function(x) mean(x))) \n",
    "\n",
    "dim(avg)\n",
    "\n",
    "avg[,1:2]\n",
    "\n",
    "fch <- apply(avg, 2, function(x) x[1]/x[2]) \n",
    "\n",
    "head(fch)\n",
    "is(fch)"
   ]
  },
  {
   "cell_type": "code",
   "execution_count": 12,
   "metadata": {
    "scrolled": true
   },
   "outputs": [
    {
     "data": {
      "text/html": [
       "<dl class=dl-horizontal>\n",
       "\t<dt>mass_400</dt>\n",
       "\t\t<dd>1.89997980883953</dd>\n",
       "\t<dt>mass_500</dt>\n",
       "\t\t<dd>1.01323473995664</dd>\n",
       "</dl>\n"
      ],
      "text/latex": [
       "\\begin{description*}\n",
       "\\item[mass\\textbackslash{}\\_400] 1.89997980883953\n",
       "\\item[mass\\textbackslash{}\\_500] 1.01323473995664\n",
       "\\end{description*}\n"
      ],
      "text/markdown": [
       "mass_400\n",
       ":   1.89997980883953mass_500\n",
       ":   1.01323473995664\n",
       "\n"
      ],
      "text/plain": [
       "mass_400 mass_500 \n",
       "1.899980 1.013235 "
      ]
     },
     "metadata": {},
     "output_type": "display_data"
    }
   ],
   "source": [
    "fch"
   ]
  },
  {
   "cell_type": "code",
   "execution_count": 13,
   "metadata": {
    "scrolled": false
   },
   "outputs": [],
   "source": [
    "df <- data.frame(fch,pval, pAdj)\n",
    "write.csv(df, \"PE-treat-RVB-wilcox-combo-BNZ.csv\")"
   ]
  },
  {
   "cell_type": "code",
   "execution_count": null,
   "metadata": {},
   "outputs": [],
   "source": []
  },
  {
   "cell_type": "code",
   "execution_count": null,
   "metadata": {},
   "outputs": [],
   "source": []
  },
  {
   "cell_type": "code",
   "execution_count": null,
   "metadata": {},
   "outputs": [],
   "source": []
  },
  {
   "cell_type": "code",
   "execution_count": null,
   "metadata": {},
   "outputs": [],
   "source": []
  },
  {
   "cell_type": "code",
   "execution_count": null,
   "metadata": {},
   "outputs": [],
   "source": []
  },
  {
   "cell_type": "code",
   "execution_count": null,
   "metadata": {},
   "outputs": [],
   "source": []
  }
 ],
 "metadata": {
  "kernelspec": {
   "display_name": "R",
   "language": "R",
   "name": "ir"
  },
  "language_info": {
   "codemirror_mode": "r",
   "file_extension": ".r",
   "mimetype": "text/x-r-source",
   "name": "R",
   "pygments_lexer": "r",
   "version": "3.6.1"
  }
 },
 "nbformat": 4,
 "nbformat_minor": 2
}
