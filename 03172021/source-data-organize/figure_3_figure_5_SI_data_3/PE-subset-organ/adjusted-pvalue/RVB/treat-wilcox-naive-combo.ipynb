{
 "cells": [
  {
   "cell_type": "code",
   "execution_count": 1,
   "metadata": {},
   "outputs": [],
   "source": [
    "a <- read.csv(\"03172021-PE-treatment-RVB-M-F.csv\")"
   ]
  },
  {
   "cell_type": "code",
   "execution_count": 2,
   "metadata": {},
   "outputs": [
    {
     "data": {
      "text/html": [
       "<table>\n",
       "<thead><tr><th scope=col>filename</th><th scope=col>MouseID</th><th scope=col>Treatmentgroup</th><th scope=col>DPI</th><th scope=col>organ</th><th scope=col>well_position</th><th scope=col>plate</th><th scope=col>mass_400</th><th scope=col>mass_500</th><th scope=col>mass_600</th><th scope=col>mass_700</th><th scope=col>mass_800</th></tr></thead>\n",
       "<tbody>\n",
       "\t<tr><td>X511_Group1C_142dpi_RV_bottom_161_G_A1_P140.mzXML</td><td>511                                              </td><td>naive                                            </td><td>142dpi                                           </td><td>RV_bottom                                        </td><td>A1                                               </td><td>P140                                             </td><td>0.011070737                                      </td><td>0.001992138                                      </td><td>0                                                </td><td>0.00e+00                                         </td><td>0                                                </td></tr>\n",
       "\t<tr><td>X512_Group1C_142dpi_RV_bottom_162_G_A2_P140.mzXML</td><td>512                                              </td><td>naive                                            </td><td>142dpi                                           </td><td>RV_bottom                                        </td><td>A2                                               </td><td>P140                                             </td><td>0.018662542                                      </td><td>0.003579901                                      </td><td>0                                                </td><td>0.00e+00                                         </td><td>0                                                </td></tr>\n",
       "\t<tr><td>X513_Group1C_142dpi_RV_bottom_163_G_A3_P140.mzXML</td><td>513                                              </td><td>naive                                            </td><td>142dpi                                           </td><td>RV_bottom                                        </td><td>A3                                               </td><td>P140                                             </td><td>0.012768515                                      </td><td>0.002431946                                      </td><td>0                                                </td><td>0.00e+00                                         </td><td>0                                                </td></tr>\n",
       "\t<tr><td>X514_Group1C_142dpi_RV_bottom_164_G_A4_P140.mzXML</td><td>514                                              </td><td>naive                                            </td><td>142dpi                                           </td><td>RV_bottom                                        </td><td>A4                                               </td><td>P140                                             </td><td>0.000315233                                      </td><td>0.003336661                                      </td><td>0                                                </td><td>6.06e-05                                         </td><td>0                                                </td></tr>\n",
       "\t<tr><td>X515_Group1C_142dpi_RV_bottom_165_G_A5_P140.mzXML</td><td>515                                              </td><td>naive                                            </td><td>142dpi                                           </td><td>RV_bottom                                        </td><td>A5                                               </td><td>P140                                             </td><td>0.000593772                                      </td><td>0.004155339                                      </td><td>0                                                </td><td>0.00e+00                                         </td><td>0                                                </td></tr>\n",
       "\t<tr><td>X531_Group1C_142dpi_RV_bottom_166_G_A6_P140.mzXML</td><td>531                                              </td><td>naive                                            </td><td>142dpi                                           </td><td>RV_bottom                                        </td><td>A6                                               </td><td>P140                                             </td><td>0.000452000                                      </td><td>0.004626188                                      </td><td>0                                                </td><td>0.00e+00                                         </td><td>0                                                </td></tr>\n",
       "</tbody>\n",
       "</table>\n"
      ],
      "text/latex": [
       "\\begin{tabular}{r|llllllllllll}\n",
       " filename & MouseID & Treatmentgroup & DPI & organ & well\\_position & plate & mass\\_400 & mass\\_500 & mass\\_600 & mass\\_700 & mass\\_800\\\\\n",
       "\\hline\n",
       "\t X511\\_Group1C\\_142dpi\\_RV\\_bottom\\_161\\_G\\_A1\\_P140.mzXML & 511                                                               & naive                                                             & 142dpi                                                            & RV\\_bottom                                                       & A1                                                                & P140                                                              & 0.011070737                                                       & 0.001992138                                                       & 0                                                                 & 0.00e+00                                                          & 0                                                                \\\\\n",
       "\t X512\\_Group1C\\_142dpi\\_RV\\_bottom\\_162\\_G\\_A2\\_P140.mzXML & 512                                                               & naive                                                             & 142dpi                                                            & RV\\_bottom                                                       & A2                                                                & P140                                                              & 0.018662542                                                       & 0.003579901                                                       & 0                                                                 & 0.00e+00                                                          & 0                                                                \\\\\n",
       "\t X513\\_Group1C\\_142dpi\\_RV\\_bottom\\_163\\_G\\_A3\\_P140.mzXML & 513                                                               & naive                                                             & 142dpi                                                            & RV\\_bottom                                                       & A3                                                                & P140                                                              & 0.012768515                                                       & 0.002431946                                                       & 0                                                                 & 0.00e+00                                                          & 0                                                                \\\\\n",
       "\t X514\\_Group1C\\_142dpi\\_RV\\_bottom\\_164\\_G\\_A4\\_P140.mzXML & 514                                                               & naive                                                             & 142dpi                                                            & RV\\_bottom                                                       & A4                                                                & P140                                                              & 0.000315233                                                       & 0.003336661                                                       & 0                                                                 & 6.06e-05                                                          & 0                                                                \\\\\n",
       "\t X515\\_Group1C\\_142dpi\\_RV\\_bottom\\_165\\_G\\_A5\\_P140.mzXML & 515                                                               & naive                                                             & 142dpi                                                            & RV\\_bottom                                                       & A5                                                                & P140                                                              & 0.000593772                                                       & 0.004155339                                                       & 0                                                                 & 0.00e+00                                                          & 0                                                                \\\\\n",
       "\t X531\\_Group1C\\_142dpi\\_RV\\_bottom\\_166\\_G\\_A6\\_P140.mzXML & 531                                                               & naive                                                             & 142dpi                                                            & RV\\_bottom                                                       & A6                                                                & P140                                                              & 0.000452000                                                       & 0.004626188                                                       & 0                                                                 & 0.00e+00                                                          & 0                                                                \\\\\n",
       "\\end{tabular}\n"
      ],
      "text/markdown": [
       "\n",
       "| filename | MouseID | Treatmentgroup | DPI | organ | well_position | plate | mass_400 | mass_500 | mass_600 | mass_700 | mass_800 |\n",
       "|---|---|---|---|---|---|---|---|---|---|---|---|\n",
       "| X511_Group1C_142dpi_RV_bottom_161_G_A1_P140.mzXML | 511                                               | naive                                             | 142dpi                                            | RV_bottom                                         | A1                                                | P140                                              | 0.011070737                                       | 0.001992138                                       | 0                                                 | 0.00e+00                                          | 0                                                 |\n",
       "| X512_Group1C_142dpi_RV_bottom_162_G_A2_P140.mzXML | 512                                               | naive                                             | 142dpi                                            | RV_bottom                                         | A2                                                | P140                                              | 0.018662542                                       | 0.003579901                                       | 0                                                 | 0.00e+00                                          | 0                                                 |\n",
       "| X513_Group1C_142dpi_RV_bottom_163_G_A3_P140.mzXML | 513                                               | naive                                             | 142dpi                                            | RV_bottom                                         | A3                                                | P140                                              | 0.012768515                                       | 0.002431946                                       | 0                                                 | 0.00e+00                                          | 0                                                 |\n",
       "| X514_Group1C_142dpi_RV_bottom_164_G_A4_P140.mzXML | 514                                               | naive                                             | 142dpi                                            | RV_bottom                                         | A4                                                | P140                                              | 0.000315233                                       | 0.003336661                                       | 0                                                 | 6.06e-05                                          | 0                                                 |\n",
       "| X515_Group1C_142dpi_RV_bottom_165_G_A5_P140.mzXML | 515                                               | naive                                             | 142dpi                                            | RV_bottom                                         | A5                                                | P140                                              | 0.000593772                                       | 0.004155339                                       | 0                                                 | 0.00e+00                                          | 0                                                 |\n",
       "| X531_Group1C_142dpi_RV_bottom_166_G_A6_P140.mzXML | 531                                               | naive                                             | 142dpi                                            | RV_bottom                                         | A6                                                | P140                                              | 0.000452000                                       | 0.004626188                                       | 0                                                 | 0.00e+00                                          | 0                                                 |\n",
       "\n"
      ],
      "text/plain": [
       "  filename                                          MouseID Treatmentgroup\n",
       "1 X511_Group1C_142dpi_RV_bottom_161_G_A1_P140.mzXML 511     naive         \n",
       "2 X512_Group1C_142dpi_RV_bottom_162_G_A2_P140.mzXML 512     naive         \n",
       "3 X513_Group1C_142dpi_RV_bottom_163_G_A3_P140.mzXML 513     naive         \n",
       "4 X514_Group1C_142dpi_RV_bottom_164_G_A4_P140.mzXML 514     naive         \n",
       "5 X515_Group1C_142dpi_RV_bottom_165_G_A5_P140.mzXML 515     naive         \n",
       "6 X531_Group1C_142dpi_RV_bottom_166_G_A6_P140.mzXML 531     naive         \n",
       "  DPI    organ     well_position plate mass_400    mass_500    mass_600\n",
       "1 142dpi RV_bottom A1            P140  0.011070737 0.001992138 0       \n",
       "2 142dpi RV_bottom A2            P140  0.018662542 0.003579901 0       \n",
       "3 142dpi RV_bottom A3            P140  0.012768515 0.002431946 0       \n",
       "4 142dpi RV_bottom A4            P140  0.000315233 0.003336661 0       \n",
       "5 142dpi RV_bottom A5            P140  0.000593772 0.004155339 0       \n",
       "6 142dpi RV_bottom A6            P140  0.000452000 0.004626188 0       \n",
       "  mass_700 mass_800\n",
       "1 0.00e+00 0       \n",
       "2 0.00e+00 0       \n",
       "3 0.00e+00 0       \n",
       "4 6.06e-05 0       \n",
       "5 0.00e+00 0       \n",
       "6 0.00e+00 0       "
      ]
     },
     "metadata": {},
     "output_type": "display_data"
    },
    {
     "data": {
      "text/html": [
       "<ol class=list-inline>\n",
       "\t<li>60</li>\n",
       "\t<li>12</li>\n",
       "</ol>\n"
      ],
      "text/latex": [
       "\\begin{enumerate*}\n",
       "\\item 60\n",
       "\\item 12\n",
       "\\end{enumerate*}\n"
      ],
      "text/markdown": [
       "1. 60\n",
       "2. 12\n",
       "\n",
       "\n"
      ],
      "text/plain": [
       "[1] 60 12"
      ]
     },
     "metadata": {},
     "output_type": "display_data"
    }
   ],
   "source": [
    "head(a)\n",
    "dim(a)"
   ]
  },
  {
   "cell_type": "code",
   "execution_count": 3,
   "metadata": {},
   "outputs": [
    {
     "data": {
      "text/html": [
       "<table>\n",
       "<thead><tr><th scope=col>filename</th><th scope=col>MouseID</th><th scope=col>Treatmentgroup</th><th scope=col>DPI</th><th scope=col>organ</th><th scope=col>well_position</th><th scope=col>plate</th><th scope=col>mass_400</th><th scope=col>mass_500</th><th scope=col>mass_600</th><th scope=col>mass_700</th><th scope=col>mass_800</th></tr></thead>\n",
       "<tbody>\n",
       "\t<tr><td>X511_Group1C_142dpi_RV_bottom_161_G_A1_P140.mzXML</td><td>511                                              </td><td>naive                                            </td><td>142dpi                                           </td><td>RV_bottom                                        </td><td>A1                                               </td><td>P140                                             </td><td>0.011070737                                      </td><td>0.001992138                                      </td><td>0                                                </td><td>0.00e+00                                         </td><td>0                                                </td></tr>\n",
       "\t<tr><td>X512_Group1C_142dpi_RV_bottom_162_G_A2_P140.mzXML</td><td>512                                              </td><td>naive                                            </td><td>142dpi                                           </td><td>RV_bottom                                        </td><td>A2                                               </td><td>P140                                             </td><td>0.018662542                                      </td><td>0.003579901                                      </td><td>0                                                </td><td>0.00e+00                                         </td><td>0                                                </td></tr>\n",
       "\t<tr><td>X513_Group1C_142dpi_RV_bottom_163_G_A3_P140.mzXML</td><td>513                                              </td><td>naive                                            </td><td>142dpi                                           </td><td>RV_bottom                                        </td><td>A3                                               </td><td>P140                                             </td><td>0.012768515                                      </td><td>0.002431946                                      </td><td>0                                                </td><td>0.00e+00                                         </td><td>0                                                </td></tr>\n",
       "\t<tr><td>X514_Group1C_142dpi_RV_bottom_164_G_A4_P140.mzXML</td><td>514                                              </td><td>naive                                            </td><td>142dpi                                           </td><td>RV_bottom                                        </td><td>A4                                               </td><td>P140                                             </td><td>0.000315233                                      </td><td>0.003336661                                      </td><td>0                                                </td><td>6.06e-05                                         </td><td>0                                                </td></tr>\n",
       "\t<tr><td>X515_Group1C_142dpi_RV_bottom_165_G_A5_P140.mzXML</td><td>515                                              </td><td>naive                                            </td><td>142dpi                                           </td><td>RV_bottom                                        </td><td>A5                                               </td><td>P140                                             </td><td>0.000593772                                      </td><td>0.004155339                                      </td><td>0                                                </td><td>0.00e+00                                         </td><td>0                                                </td></tr>\n",
       "\t<tr><td>X531_Group1C_142dpi_RV_bottom_166_G_A6_P140.mzXML</td><td>531                                              </td><td>naive                                            </td><td>142dpi                                           </td><td>RV_bottom                                        </td><td>A6                                               </td><td>P140                                             </td><td>0.000452000                                      </td><td>0.004626188                                      </td><td>0                                                </td><td>0.00e+00                                         </td><td>0                                                </td></tr>\n",
       "</tbody>\n",
       "</table>\n"
      ],
      "text/latex": [
       "\\begin{tabular}{r|llllllllllll}\n",
       " filename & MouseID & Treatmentgroup & DPI & organ & well\\_position & plate & mass\\_400 & mass\\_500 & mass\\_600 & mass\\_700 & mass\\_800\\\\\n",
       "\\hline\n",
       "\t X511\\_Group1C\\_142dpi\\_RV\\_bottom\\_161\\_G\\_A1\\_P140.mzXML & 511                                                               & naive                                                             & 142dpi                                                            & RV\\_bottom                                                       & A1                                                                & P140                                                              & 0.011070737                                                       & 0.001992138                                                       & 0                                                                 & 0.00e+00                                                          & 0                                                                \\\\\n",
       "\t X512\\_Group1C\\_142dpi\\_RV\\_bottom\\_162\\_G\\_A2\\_P140.mzXML & 512                                                               & naive                                                             & 142dpi                                                            & RV\\_bottom                                                       & A2                                                                & P140                                                              & 0.018662542                                                       & 0.003579901                                                       & 0                                                                 & 0.00e+00                                                          & 0                                                                \\\\\n",
       "\t X513\\_Group1C\\_142dpi\\_RV\\_bottom\\_163\\_G\\_A3\\_P140.mzXML & 513                                                               & naive                                                             & 142dpi                                                            & RV\\_bottom                                                       & A3                                                                & P140                                                              & 0.012768515                                                       & 0.002431946                                                       & 0                                                                 & 0.00e+00                                                          & 0                                                                \\\\\n",
       "\t X514\\_Group1C\\_142dpi\\_RV\\_bottom\\_164\\_G\\_A4\\_P140.mzXML & 514                                                               & naive                                                             & 142dpi                                                            & RV\\_bottom                                                       & A4                                                                & P140                                                              & 0.000315233                                                       & 0.003336661                                                       & 0                                                                 & 6.06e-05                                                          & 0                                                                \\\\\n",
       "\t X515\\_Group1C\\_142dpi\\_RV\\_bottom\\_165\\_G\\_A5\\_P140.mzXML & 515                                                               & naive                                                             & 142dpi                                                            & RV\\_bottom                                                       & A5                                                                & P140                                                              & 0.000593772                                                       & 0.004155339                                                       & 0                                                                 & 0.00e+00                                                          & 0                                                                \\\\\n",
       "\t X531\\_Group1C\\_142dpi\\_RV\\_bottom\\_166\\_G\\_A6\\_P140.mzXML & 531                                                               & naive                                                             & 142dpi                                                            & RV\\_bottom                                                       & A6                                                                & P140                                                              & 0.000452000                                                       & 0.004626188                                                       & 0                                                                 & 0.00e+00                                                          & 0                                                                \\\\\n",
       "\\end{tabular}\n"
      ],
      "text/markdown": [
       "\n",
       "| filename | MouseID | Treatmentgroup | DPI | organ | well_position | plate | mass_400 | mass_500 | mass_600 | mass_700 | mass_800 |\n",
       "|---|---|---|---|---|---|---|---|---|---|---|---|\n",
       "| X511_Group1C_142dpi_RV_bottom_161_G_A1_P140.mzXML | 511                                               | naive                                             | 142dpi                                            | RV_bottom                                         | A1                                                | P140                                              | 0.011070737                                       | 0.001992138                                       | 0                                                 | 0.00e+00                                          | 0                                                 |\n",
       "| X512_Group1C_142dpi_RV_bottom_162_G_A2_P140.mzXML | 512                                               | naive                                             | 142dpi                                            | RV_bottom                                         | A2                                                | P140                                              | 0.018662542                                       | 0.003579901                                       | 0                                                 | 0.00e+00                                          | 0                                                 |\n",
       "| X513_Group1C_142dpi_RV_bottom_163_G_A3_P140.mzXML | 513                                               | naive                                             | 142dpi                                            | RV_bottom                                         | A3                                                | P140                                              | 0.012768515                                       | 0.002431946                                       | 0                                                 | 0.00e+00                                          | 0                                                 |\n",
       "| X514_Group1C_142dpi_RV_bottom_164_G_A4_P140.mzXML | 514                                               | naive                                             | 142dpi                                            | RV_bottom                                         | A4                                                | P140                                              | 0.000315233                                       | 0.003336661                                       | 0                                                 | 6.06e-05                                          | 0                                                 |\n",
       "| X515_Group1C_142dpi_RV_bottom_165_G_A5_P140.mzXML | 515                                               | naive                                             | 142dpi                                            | RV_bottom                                         | A5                                                | P140                                              | 0.000593772                                       | 0.004155339                                       | 0                                                 | 0.00e+00                                          | 0                                                 |\n",
       "| X531_Group1C_142dpi_RV_bottom_166_G_A6_P140.mzXML | 531                                               | naive                                             | 142dpi                                            | RV_bottom                                         | A6                                                | P140                                              | 0.000452000                                       | 0.004626188                                       | 0                                                 | 0.00e+00                                          | 0                                                 |\n",
       "\n"
      ],
      "text/plain": [
       "  filename                                          MouseID Treatmentgroup\n",
       "1 X511_Group1C_142dpi_RV_bottom_161_G_A1_P140.mzXML 511     naive         \n",
       "2 X512_Group1C_142dpi_RV_bottom_162_G_A2_P140.mzXML 512     naive         \n",
       "3 X513_Group1C_142dpi_RV_bottom_163_G_A3_P140.mzXML 513     naive         \n",
       "4 X514_Group1C_142dpi_RV_bottom_164_G_A4_P140.mzXML 514     naive         \n",
       "5 X515_Group1C_142dpi_RV_bottom_165_G_A5_P140.mzXML 515     naive         \n",
       "6 X531_Group1C_142dpi_RV_bottom_166_G_A6_P140.mzXML 531     naive         \n",
       "  DPI    organ     well_position plate mass_400    mass_500    mass_600\n",
       "1 142dpi RV_bottom A1            P140  0.011070737 0.001992138 0       \n",
       "2 142dpi RV_bottom A2            P140  0.018662542 0.003579901 0       \n",
       "3 142dpi RV_bottom A3            P140  0.012768515 0.002431946 0       \n",
       "4 142dpi RV_bottom A4            P140  0.000315233 0.003336661 0       \n",
       "5 142dpi RV_bottom A5            P140  0.000593772 0.004155339 0       \n",
       "6 142dpi RV_bottom A6            P140  0.000452000 0.004626188 0       \n",
       "  mass_700 mass_800\n",
       "1 0.00e+00 0       \n",
       "2 0.00e+00 0       \n",
       "3 0.00e+00 0       \n",
       "4 6.06e-05 0       \n",
       "5 0.00e+00 0       \n",
       "6 0.00e+00 0       "
      ]
     },
     "metadata": {},
     "output_type": "display_data"
    },
    {
     "data": {
      "text/html": [
       "<ol class=list-inline>\n",
       "\t<li>30</li>\n",
       "\t<li>12</li>\n",
       "</ol>\n"
      ],
      "text/latex": [
       "\\begin{enumerate*}\n",
       "\\item 30\n",
       "\\item 12\n",
       "\\end{enumerate*}\n"
      ],
      "text/markdown": [
       "1. 30\n",
       "2. 12\n",
       "\n",
       "\n"
      ],
      "text/plain": [
       "[1] 30 12"
      ]
     },
     "metadata": {},
     "output_type": "display_data"
    }
   ],
   "source": [
    "features_pos<-droplevels(subset(a, a$Treatmentgroup==c(\"naive\")|a$Treatmentgroup==c(\"combo\")))\n",
    "head(features_pos)\n",
    "dim(features_pos)"
   ]
  },
  {
   "cell_type": "code",
   "execution_count": 4,
   "metadata": {
    "scrolled": false
   },
   "outputs": [
    {
     "data": {
      "text/html": [
       "<table>\n",
       "<thead><tr><th scope=col>mass_400</th><th scope=col>mass_500</th><th scope=col>mass_600</th><th scope=col>mass_700</th><th scope=col>mass_800</th></tr></thead>\n",
       "<tbody>\n",
       "\t<tr><td>0.011070737</td><td>0.001992138</td><td>0          </td><td>0.00e+00   </td><td>0          </td></tr>\n",
       "\t<tr><td>0.018662542</td><td>0.003579901</td><td>0          </td><td>0.00e+00   </td><td>0          </td></tr>\n",
       "\t<tr><td>0.012768515</td><td>0.002431946</td><td>0          </td><td>0.00e+00   </td><td>0          </td></tr>\n",
       "\t<tr><td>0.000315233</td><td>0.003336661</td><td>0          </td><td>6.06e-05   </td><td>0          </td></tr>\n",
       "\t<tr><td>0.000593772</td><td>0.004155339</td><td>0          </td><td>0.00e+00   </td><td>0          </td></tr>\n",
       "\t<tr><td>0.000452000</td><td>0.004626188</td><td>0          </td><td>0.00e+00   </td><td>0          </td></tr>\n",
       "</tbody>\n",
       "</table>\n"
      ],
      "text/latex": [
       "\\begin{tabular}{r|lllll}\n",
       " mass\\_400 & mass\\_500 & mass\\_600 & mass\\_700 & mass\\_800\\\\\n",
       "\\hline\n",
       "\t 0.011070737 & 0.001992138 & 0           & 0.00e+00    & 0          \\\\\n",
       "\t 0.018662542 & 0.003579901 & 0           & 0.00e+00    & 0          \\\\\n",
       "\t 0.012768515 & 0.002431946 & 0           & 0.00e+00    & 0          \\\\\n",
       "\t 0.000315233 & 0.003336661 & 0           & 6.06e-05    & 0          \\\\\n",
       "\t 0.000593772 & 0.004155339 & 0           & 0.00e+00    & 0          \\\\\n",
       "\t 0.000452000 & 0.004626188 & 0           & 0.00e+00    & 0          \\\\\n",
       "\\end{tabular}\n"
      ],
      "text/markdown": [
       "\n",
       "| mass_400 | mass_500 | mass_600 | mass_700 | mass_800 |\n",
       "|---|---|---|---|---|\n",
       "| 0.011070737 | 0.001992138 | 0           | 0.00e+00    | 0           |\n",
       "| 0.018662542 | 0.003579901 | 0           | 0.00e+00    | 0           |\n",
       "| 0.012768515 | 0.002431946 | 0           | 0.00e+00    | 0           |\n",
       "| 0.000315233 | 0.003336661 | 0           | 6.06e-05    | 0           |\n",
       "| 0.000593772 | 0.004155339 | 0           | 0.00e+00    | 0           |\n",
       "| 0.000452000 | 0.004626188 | 0           | 0.00e+00    | 0           |\n",
       "\n"
      ],
      "text/plain": [
       "  mass_400    mass_500    mass_600 mass_700 mass_800\n",
       "1 0.011070737 0.001992138 0        0.00e+00 0       \n",
       "2 0.018662542 0.003579901 0        0.00e+00 0       \n",
       "3 0.012768515 0.002431946 0        0.00e+00 0       \n",
       "4 0.000315233 0.003336661 0        6.06e-05 0       \n",
       "5 0.000593772 0.004155339 0        0.00e+00 0       \n",
       "6 0.000452000 0.004626188 0        0.00e+00 0       "
      ]
     },
     "metadata": {},
     "output_type": "display_data"
    },
    {
     "data": {
      "text/html": [
       "<dl class=dl-horizontal>\n",
       "\t<dt>mass_400</dt>\n",
       "\t\t<dd>1</dd>\n",
       "\t<dt>mass_500</dt>\n",
       "\t\t<dd>2</dd>\n",
       "\t<dt>mass_700</dt>\n",
       "\t\t<dd>4</dd>\n",
       "</dl>\n"
      ],
      "text/latex": [
       "\\begin{description*}\n",
       "\\item[mass\\textbackslash{}\\_400] 1\n",
       "\\item[mass\\textbackslash{}\\_500] 2\n",
       "\\item[mass\\textbackslash{}\\_700] 4\n",
       "\\end{description*}\n"
      ],
      "text/markdown": [
       "mass_400\n",
       ":   1mass_500\n",
       ":   2mass_700\n",
       ":   4\n",
       "\n"
      ],
      "text/plain": [
       "mass_400 mass_500 mass_700 \n",
       "       1        2        4 "
      ]
     },
     "metadata": {},
     "output_type": "display_data"
    },
    {
     "data": {
      "text/html": [
       "<table>\n",
       "<thead><tr><th></th><th scope=col>mass_400</th><th scope=col>mass_500</th><th scope=col>mass_700</th></tr></thead>\n",
       "<tbody>\n",
       "\t<tr><th scope=row>1</th><td>0.011070737</td><td>0.001992138</td><td>0.00e+00   </td></tr>\n",
       "\t<tr><th scope=row>2</th><td>0.018662542</td><td>0.003579901</td><td>0.00e+00   </td></tr>\n",
       "\t<tr><th scope=row>3</th><td>0.012768515</td><td>0.002431946</td><td>0.00e+00   </td></tr>\n",
       "\t<tr><th scope=row>4</th><td>0.000315233</td><td>0.003336661</td><td>6.06e-05   </td></tr>\n",
       "\t<tr><th scope=row>5</th><td>0.000593772</td><td>0.004155339</td><td>0.00e+00   </td></tr>\n",
       "\t<tr><th scope=row>6</th><td>0.000452000</td><td>0.004626188</td><td>0.00e+00   </td></tr>\n",
       "\t<tr><th scope=row>7</th><td>0.000172605</td><td>0.002749717</td><td>0.00e+00   </td></tr>\n",
       "\t<tr><th scope=row>8</th><td>0.000379485</td><td>0.002792147</td><td>0.00e+00   </td></tr>\n",
       "\t<tr><th scope=row>9</th><td>0.018867684</td><td>0.004707539</td><td>0.00e+00   </td></tr>\n",
       "\t<tr><th scope=row>10</th><td>0.000431413</td><td>0.003617499</td><td>0.00e+00   </td></tr>\n",
       "\t<tr><th scope=row>11</th><td>0.000255216</td><td>0.002688105</td><td>0.00e+00   </td></tr>\n",
       "\t<tr><th scope=row>12</th><td>0.000625182</td><td>0.003676020</td><td>0.00e+00   </td></tr>\n",
       "\t<tr><th scope=row>13</th><td>0.000336561</td><td>0.002081335</td><td>0.00e+00   </td></tr>\n",
       "\t<tr><th scope=row>14</th><td>0.000445159</td><td>0.002118063</td><td>0.00e+00   </td></tr>\n",
       "\t<tr><th scope=row>15</th><td>0.000419589</td><td>0.002446562</td><td>0.00e+00   </td></tr>\n",
       "\t<tr><th scope=row>21</th><td>0.000278261</td><td>0.002583873</td><td>0.00e+00   </td></tr>\n",
       "\t<tr><th scope=row>22</th><td>0.007279973</td><td>0.002345146</td><td>0.00e+00   </td></tr>\n",
       "\t<tr><th scope=row>23</th><td>0.000214267</td><td>0.003085388</td><td>0.00e+00   </td></tr>\n",
       "\t<tr><th scope=row>24</th><td>0.000269569</td><td>0.002893949</td><td>0.00e+00   </td></tr>\n",
       "\t<tr><th scope=row>25</th><td>0.000466307</td><td>0.002467080</td><td>0.00e+00   </td></tr>\n",
       "\t<tr><th scope=row>36</th><td>0.000132232</td><td>0.002445518</td><td>0.00e+00   </td></tr>\n",
       "\t<tr><th scope=row>37</th><td>0.000170649</td><td>0.002374383</td><td>0.00e+00   </td></tr>\n",
       "\t<tr><th scope=row>38</th><td>0.000098100</td><td>0.002207898</td><td>0.00e+00   </td></tr>\n",
       "\t<tr><th scope=row>39</th><td>0.000329800</td><td>0.002166461</td><td>0.00e+00   </td></tr>\n",
       "\t<tr><th scope=row>40</th><td>0.000312214</td><td>0.002898432</td><td>0.00e+00   </td></tr>\n",
       "\t<tr><th scope=row>51</th><td>0.000518473</td><td>0.002450936</td><td>0.00e+00   </td></tr>\n",
       "\t<tr><th scope=row>52</th><td>0.000516055</td><td>0.004125776</td><td>0.00e+00   </td></tr>\n",
       "\t<tr><th scope=row>53</th><td>0.000288816</td><td>0.002990197</td><td>0.00e+00   </td></tr>\n",
       "\t<tr><th scope=row>54</th><td>0.000252958</td><td>0.002045549</td><td>0.00e+00   </td></tr>\n",
       "\t<tr><th scope=row>55</th><td>0.000312976</td><td>0.003218808</td><td>0.00e+00   </td></tr>\n",
       "</tbody>\n",
       "</table>\n"
      ],
      "text/latex": [
       "\\begin{tabular}{r|lll}\n",
       "  & mass\\_400 & mass\\_500 & mass\\_700\\\\\n",
       "\\hline\n",
       "\t1 & 0.011070737 & 0.001992138 & 0.00e+00   \\\\\n",
       "\t2 & 0.018662542 & 0.003579901 & 0.00e+00   \\\\\n",
       "\t3 & 0.012768515 & 0.002431946 & 0.00e+00   \\\\\n",
       "\t4 & 0.000315233 & 0.003336661 & 6.06e-05   \\\\\n",
       "\t5 & 0.000593772 & 0.004155339 & 0.00e+00   \\\\\n",
       "\t6 & 0.000452000 & 0.004626188 & 0.00e+00   \\\\\n",
       "\t7 & 0.000172605 & 0.002749717 & 0.00e+00   \\\\\n",
       "\t8 & 0.000379485 & 0.002792147 & 0.00e+00   \\\\\n",
       "\t9 & 0.018867684 & 0.004707539 & 0.00e+00   \\\\\n",
       "\t10 & 0.000431413 & 0.003617499 & 0.00e+00   \\\\\n",
       "\t11 & 0.000255216 & 0.002688105 & 0.00e+00   \\\\\n",
       "\t12 & 0.000625182 & 0.003676020 & 0.00e+00   \\\\\n",
       "\t13 & 0.000336561 & 0.002081335 & 0.00e+00   \\\\\n",
       "\t14 & 0.000445159 & 0.002118063 & 0.00e+00   \\\\\n",
       "\t15 & 0.000419589 & 0.002446562 & 0.00e+00   \\\\\n",
       "\t21 & 0.000278261 & 0.002583873 & 0.00e+00   \\\\\n",
       "\t22 & 0.007279973 & 0.002345146 & 0.00e+00   \\\\\n",
       "\t23 & 0.000214267 & 0.003085388 & 0.00e+00   \\\\\n",
       "\t24 & 0.000269569 & 0.002893949 & 0.00e+00   \\\\\n",
       "\t25 & 0.000466307 & 0.002467080 & 0.00e+00   \\\\\n",
       "\t36 & 0.000132232 & 0.002445518 & 0.00e+00   \\\\\n",
       "\t37 & 0.000170649 & 0.002374383 & 0.00e+00   \\\\\n",
       "\t38 & 0.000098100 & 0.002207898 & 0.00e+00   \\\\\n",
       "\t39 & 0.000329800 & 0.002166461 & 0.00e+00   \\\\\n",
       "\t40 & 0.000312214 & 0.002898432 & 0.00e+00   \\\\\n",
       "\t51 & 0.000518473 & 0.002450936 & 0.00e+00   \\\\\n",
       "\t52 & 0.000516055 & 0.004125776 & 0.00e+00   \\\\\n",
       "\t53 & 0.000288816 & 0.002990197 & 0.00e+00   \\\\\n",
       "\t54 & 0.000252958 & 0.002045549 & 0.00e+00   \\\\\n",
       "\t55 & 0.000312976 & 0.003218808 & 0.00e+00   \\\\\n",
       "\\end{tabular}\n"
      ],
      "text/markdown": [
       "\n",
       "| <!--/--> | mass_400 | mass_500 | mass_700 |\n",
       "|---|---|---|---|\n",
       "| 1 | 0.011070737 | 0.001992138 | 0.00e+00    |\n",
       "| 2 | 0.018662542 | 0.003579901 | 0.00e+00    |\n",
       "| 3 | 0.012768515 | 0.002431946 | 0.00e+00    |\n",
       "| 4 | 0.000315233 | 0.003336661 | 6.06e-05    |\n",
       "| 5 | 0.000593772 | 0.004155339 | 0.00e+00    |\n",
       "| 6 | 0.000452000 | 0.004626188 | 0.00e+00    |\n",
       "| 7 | 0.000172605 | 0.002749717 | 0.00e+00    |\n",
       "| 8 | 0.000379485 | 0.002792147 | 0.00e+00    |\n",
       "| 9 | 0.018867684 | 0.004707539 | 0.00e+00    |\n",
       "| 10 | 0.000431413 | 0.003617499 | 0.00e+00    |\n",
       "| 11 | 0.000255216 | 0.002688105 | 0.00e+00    |\n",
       "| 12 | 0.000625182 | 0.003676020 | 0.00e+00    |\n",
       "| 13 | 0.000336561 | 0.002081335 | 0.00e+00    |\n",
       "| 14 | 0.000445159 | 0.002118063 | 0.00e+00    |\n",
       "| 15 | 0.000419589 | 0.002446562 | 0.00e+00    |\n",
       "| 21 | 0.000278261 | 0.002583873 | 0.00e+00    |\n",
       "| 22 | 0.007279973 | 0.002345146 | 0.00e+00    |\n",
       "| 23 | 0.000214267 | 0.003085388 | 0.00e+00    |\n",
       "| 24 | 0.000269569 | 0.002893949 | 0.00e+00    |\n",
       "| 25 | 0.000466307 | 0.002467080 | 0.00e+00    |\n",
       "| 36 | 0.000132232 | 0.002445518 | 0.00e+00    |\n",
       "| 37 | 0.000170649 | 0.002374383 | 0.00e+00    |\n",
       "| 38 | 0.000098100 | 0.002207898 | 0.00e+00    |\n",
       "| 39 | 0.000329800 | 0.002166461 | 0.00e+00    |\n",
       "| 40 | 0.000312214 | 0.002898432 | 0.00e+00    |\n",
       "| 51 | 0.000518473 | 0.002450936 | 0.00e+00    |\n",
       "| 52 | 0.000516055 | 0.004125776 | 0.00e+00    |\n",
       "| 53 | 0.000288816 | 0.002990197 | 0.00e+00    |\n",
       "| 54 | 0.000252958 | 0.002045549 | 0.00e+00    |\n",
       "| 55 | 0.000312976 | 0.003218808 | 0.00e+00    |\n",
       "\n"
      ],
      "text/plain": [
       "   mass_400    mass_500    mass_700\n",
       "1  0.011070737 0.001992138 0.00e+00\n",
       "2  0.018662542 0.003579901 0.00e+00\n",
       "3  0.012768515 0.002431946 0.00e+00\n",
       "4  0.000315233 0.003336661 6.06e-05\n",
       "5  0.000593772 0.004155339 0.00e+00\n",
       "6  0.000452000 0.004626188 0.00e+00\n",
       "7  0.000172605 0.002749717 0.00e+00\n",
       "8  0.000379485 0.002792147 0.00e+00\n",
       "9  0.018867684 0.004707539 0.00e+00\n",
       "10 0.000431413 0.003617499 0.00e+00\n",
       "11 0.000255216 0.002688105 0.00e+00\n",
       "12 0.000625182 0.003676020 0.00e+00\n",
       "13 0.000336561 0.002081335 0.00e+00\n",
       "14 0.000445159 0.002118063 0.00e+00\n",
       "15 0.000419589 0.002446562 0.00e+00\n",
       "21 0.000278261 0.002583873 0.00e+00\n",
       "22 0.007279973 0.002345146 0.00e+00\n",
       "23 0.000214267 0.003085388 0.00e+00\n",
       "24 0.000269569 0.002893949 0.00e+00\n",
       "25 0.000466307 0.002467080 0.00e+00\n",
       "36 0.000132232 0.002445518 0.00e+00\n",
       "37 0.000170649 0.002374383 0.00e+00\n",
       "38 0.000098100 0.002207898 0.00e+00\n",
       "39 0.000329800 0.002166461 0.00e+00\n",
       "40 0.000312214 0.002898432 0.00e+00\n",
       "51 0.000518473 0.002450936 0.00e+00\n",
       "52 0.000516055 0.004125776 0.00e+00\n",
       "53 0.000288816 0.002990197 0.00e+00\n",
       "54 0.000252958 0.002045549 0.00e+00\n",
       "55 0.000312976 0.003218808 0.00e+00"
      ]
     },
     "metadata": {},
     "output_type": "display_data"
    },
    {
     "data": {
      "text/html": [
       "<table>\n",
       "<thead><tr><th scope=col>filename</th><th scope=col>MouseID</th><th scope=col>Treatmentgroup</th><th scope=col>DPI</th><th scope=col>organ</th><th scope=col>well_position</th><th scope=col>plate</th><th scope=col>mass_400</th><th scope=col>mass_500</th><th scope=col>mass_700</th></tr></thead>\n",
       "<tbody>\n",
       "\t<tr><td>X511_Group1C_142dpi_RV_bottom_161_G_A1_P140.mzXML</td><td>511                                              </td><td>naive                                            </td><td>142dpi                                           </td><td>RV_bottom                                        </td><td>A1                                               </td><td>P140                                             </td><td>0.011070737                                      </td><td>0.001992138                                      </td><td>0.00e+00                                         </td></tr>\n",
       "\t<tr><td>X512_Group1C_142dpi_RV_bottom_162_G_A2_P140.mzXML</td><td>512                                              </td><td>naive                                            </td><td>142dpi                                           </td><td>RV_bottom                                        </td><td>A2                                               </td><td>P140                                             </td><td>0.018662542                                      </td><td>0.003579901                                      </td><td>0.00e+00                                         </td></tr>\n",
       "\t<tr><td>X513_Group1C_142dpi_RV_bottom_163_G_A3_P140.mzXML</td><td>513                                              </td><td>naive                                            </td><td>142dpi                                           </td><td>RV_bottom                                        </td><td>A3                                               </td><td>P140                                             </td><td>0.012768515                                      </td><td>0.002431946                                      </td><td>0.00e+00                                         </td></tr>\n",
       "\t<tr><td>X514_Group1C_142dpi_RV_bottom_164_G_A4_P140.mzXML</td><td>514                                              </td><td>naive                                            </td><td>142dpi                                           </td><td>RV_bottom                                        </td><td>A4                                               </td><td>P140                                             </td><td>0.000315233                                      </td><td>0.003336661                                      </td><td>6.06e-05                                         </td></tr>\n",
       "\t<tr><td>X515_Group1C_142dpi_RV_bottom_165_G_A5_P140.mzXML</td><td>515                                              </td><td>naive                                            </td><td>142dpi                                           </td><td>RV_bottom                                        </td><td>A5                                               </td><td>P140                                             </td><td>0.000593772                                      </td><td>0.004155339                                      </td><td>0.00e+00                                         </td></tr>\n",
       "\t<tr><td>X531_Group1C_142dpi_RV_bottom_166_G_A6_P140.mzXML</td><td>531                                              </td><td>naive                                            </td><td>142dpi                                           </td><td>RV_bottom                                        </td><td>A6                                               </td><td>P140                                             </td><td>0.000452000                                      </td><td>0.004626188                                      </td><td>0.00e+00                                         </td></tr>\n",
       "</tbody>\n",
       "</table>\n"
      ],
      "text/latex": [
       "\\begin{tabular}{r|llllllllll}\n",
       " filename & MouseID & Treatmentgroup & DPI & organ & well\\_position & plate & mass\\_400 & mass\\_500 & mass\\_700\\\\\n",
       "\\hline\n",
       "\t X511\\_Group1C\\_142dpi\\_RV\\_bottom\\_161\\_G\\_A1\\_P140.mzXML & 511                                                               & naive                                                             & 142dpi                                                            & RV\\_bottom                                                       & A1                                                                & P140                                                              & 0.011070737                                                       & 0.001992138                                                       & 0.00e+00                                                         \\\\\n",
       "\t X512\\_Group1C\\_142dpi\\_RV\\_bottom\\_162\\_G\\_A2\\_P140.mzXML & 512                                                               & naive                                                             & 142dpi                                                            & RV\\_bottom                                                       & A2                                                                & P140                                                              & 0.018662542                                                       & 0.003579901                                                       & 0.00e+00                                                         \\\\\n",
       "\t X513\\_Group1C\\_142dpi\\_RV\\_bottom\\_163\\_G\\_A3\\_P140.mzXML & 513                                                               & naive                                                             & 142dpi                                                            & RV\\_bottom                                                       & A3                                                                & P140                                                              & 0.012768515                                                       & 0.002431946                                                       & 0.00e+00                                                         \\\\\n",
       "\t X514\\_Group1C\\_142dpi\\_RV\\_bottom\\_164\\_G\\_A4\\_P140.mzXML & 514                                                               & naive                                                             & 142dpi                                                            & RV\\_bottom                                                       & A4                                                                & P140                                                              & 0.000315233                                                       & 0.003336661                                                       & 6.06e-05                                                         \\\\\n",
       "\t X515\\_Group1C\\_142dpi\\_RV\\_bottom\\_165\\_G\\_A5\\_P140.mzXML & 515                                                               & naive                                                             & 142dpi                                                            & RV\\_bottom                                                       & A5                                                                & P140                                                              & 0.000593772                                                       & 0.004155339                                                       & 0.00e+00                                                         \\\\\n",
       "\t X531\\_Group1C\\_142dpi\\_RV\\_bottom\\_166\\_G\\_A6\\_P140.mzXML & 531                                                               & naive                                                             & 142dpi                                                            & RV\\_bottom                                                       & A6                                                                & P140                                                              & 0.000452000                                                       & 0.004626188                                                       & 0.00e+00                                                         \\\\\n",
       "\\end{tabular}\n"
      ],
      "text/markdown": [
       "\n",
       "| filename | MouseID | Treatmentgroup | DPI | organ | well_position | plate | mass_400 | mass_500 | mass_700 |\n",
       "|---|---|---|---|---|---|---|---|---|---|\n",
       "| X511_Group1C_142dpi_RV_bottom_161_G_A1_P140.mzXML | 511                                               | naive                                             | 142dpi                                            | RV_bottom                                         | A1                                                | P140                                              | 0.011070737                                       | 0.001992138                                       | 0.00e+00                                          |\n",
       "| X512_Group1C_142dpi_RV_bottom_162_G_A2_P140.mzXML | 512                                               | naive                                             | 142dpi                                            | RV_bottom                                         | A2                                                | P140                                              | 0.018662542                                       | 0.003579901                                       | 0.00e+00                                          |\n",
       "| X513_Group1C_142dpi_RV_bottom_163_G_A3_P140.mzXML | 513                                               | naive                                             | 142dpi                                            | RV_bottom                                         | A3                                                | P140                                              | 0.012768515                                       | 0.002431946                                       | 0.00e+00                                          |\n",
       "| X514_Group1C_142dpi_RV_bottom_164_G_A4_P140.mzXML | 514                                               | naive                                             | 142dpi                                            | RV_bottom                                         | A4                                                | P140                                              | 0.000315233                                       | 0.003336661                                       | 6.06e-05                                          |\n",
       "| X515_Group1C_142dpi_RV_bottom_165_G_A5_P140.mzXML | 515                                               | naive                                             | 142dpi                                            | RV_bottom                                         | A5                                                | P140                                              | 0.000593772                                       | 0.004155339                                       | 0.00e+00                                          |\n",
       "| X531_Group1C_142dpi_RV_bottom_166_G_A6_P140.mzXML | 531                                               | naive                                             | 142dpi                                            | RV_bottom                                         | A6                                                | P140                                              | 0.000452000                                       | 0.004626188                                       | 0.00e+00                                          |\n",
       "\n"
      ],
      "text/plain": [
       "  filename                                          MouseID Treatmentgroup\n",
       "1 X511_Group1C_142dpi_RV_bottom_161_G_A1_P140.mzXML 511     naive         \n",
       "2 X512_Group1C_142dpi_RV_bottom_162_G_A2_P140.mzXML 512     naive         \n",
       "3 X513_Group1C_142dpi_RV_bottom_163_G_A3_P140.mzXML 513     naive         \n",
       "4 X514_Group1C_142dpi_RV_bottom_164_G_A4_P140.mzXML 514     naive         \n",
       "5 X515_Group1C_142dpi_RV_bottom_165_G_A5_P140.mzXML 515     naive         \n",
       "6 X531_Group1C_142dpi_RV_bottom_166_G_A6_P140.mzXML 531     naive         \n",
       "  DPI    organ     well_position plate mass_400    mass_500    mass_700\n",
       "1 142dpi RV_bottom A1            P140  0.011070737 0.001992138 0.00e+00\n",
       "2 142dpi RV_bottom A2            P140  0.018662542 0.003579901 0.00e+00\n",
       "3 142dpi RV_bottom A3            P140  0.012768515 0.002431946 0.00e+00\n",
       "4 142dpi RV_bottom A4            P140  0.000315233 0.003336661 6.06e-05\n",
       "5 142dpi RV_bottom A5            P140  0.000593772 0.004155339 0.00e+00\n",
       "6 142dpi RV_bottom A6            P140  0.000452000 0.004626188 0.00e+00"
      ]
     },
     "metadata": {},
     "output_type": "display_data"
    },
    {
     "data": {
      "text/html": [
       "<ol class=list-inline>\n",
       "\t<li>30</li>\n",
       "\t<li>12</li>\n",
       "</ol>\n"
      ],
      "text/latex": [
       "\\begin{enumerate*}\n",
       "\\item 30\n",
       "\\item 12\n",
       "\\end{enumerate*}\n"
      ],
      "text/markdown": [
       "1. 30\n",
       "2. 12\n",
       "\n",
       "\n"
      ],
      "text/plain": [
       "[1] 30 12"
      ]
     },
     "metadata": {},
     "output_type": "display_data"
    },
    {
     "data": {
      "text/html": [
       "<ol class=list-inline>\n",
       "\t<li>30</li>\n",
       "\t<li>5</li>\n",
       "</ol>\n"
      ],
      "text/latex": [
       "\\begin{enumerate*}\n",
       "\\item 30\n",
       "\\item 5\n",
       "\\end{enumerate*}\n"
      ],
      "text/markdown": [
       "1. 30\n",
       "2. 5\n",
       "\n",
       "\n"
      ],
      "text/plain": [
       "[1] 30  5"
      ]
     },
     "metadata": {},
     "output_type": "display_data"
    },
    {
     "data": {
      "text/html": [
       "<ol class=list-inline>\n",
       "\t<li>30</li>\n",
       "\t<li>3</li>\n",
       "</ol>\n"
      ],
      "text/latex": [
       "\\begin{enumerate*}\n",
       "\\item 30\n",
       "\\item 3\n",
       "\\end{enumerate*}\n"
      ],
      "text/markdown": [
       "1. 30\n",
       "2. 3\n",
       "\n",
       "\n"
      ],
      "text/plain": [
       "[1] 30  3"
      ]
     },
     "metadata": {},
     "output_type": "display_data"
    },
    {
     "data": {
      "text/html": [
       "<ol class=list-inline>\n",
       "\t<li>30</li>\n",
       "\t<li>10</li>\n",
       "</ol>\n"
      ],
      "text/latex": [
       "\\begin{enumerate*}\n",
       "\\item 30\n",
       "\\item 10\n",
       "\\end{enumerate*}\n"
      ],
      "text/markdown": [
       "1. 30\n",
       "2. 10\n",
       "\n",
       "\n"
      ],
      "text/plain": [
       "[1] 30 10"
      ]
     },
     "metadata": {},
     "output_type": "display_data"
    }
   ],
   "source": [
    "noMeta<-features_pos[,8:12]\n",
    "head(noMeta)\n",
    "not_zero<-which(colSums(noMeta) != 0)\n",
    "head(not_zero)\n",
    "nonzero <- noMeta[, not_zero]\n",
    "nonzero\n",
    "nonzero_wMeta<-cbind(features_pos[,1:7], nonzero)\n",
    "head(nonzero_wMeta)\n",
    "dim(features_pos)\n",
    "dim(noMeta)\n",
    "dim(nonzero)\n",
    "dim(nonzero_wMeta)"
   ]
  },
  {
   "cell_type": "code",
   "execution_count": 5,
   "metadata": {
    "scrolled": true
   },
   "outputs": [
    {
     "name": "stderr",
     "output_type": "stream",
     "text": [
      "Warning message in wilcox.test.default(x = c(0, 0, 0, 0, 0, 0, 0, 0, 0, 0, 0, 0, :\n",
      "\"cannot compute exact p-value with ties\""
     ]
    },
    {
     "data": {
      "text/html": [
       "<ol class=list-inline>\n",
       "\t<li>0.0127990313408827</li>\n",
       "\t<li>0.249556194554941</li>\n",
       "\t<li>0.350647889704459</li>\n",
       "</ol>\n"
      ],
      "text/latex": [
       "\\begin{enumerate*}\n",
       "\\item 0.0127990313408827\n",
       "\\item 0.249556194554941\n",
       "\\item 0.350647889704459\n",
       "\\end{enumerate*}\n"
      ],
      "text/markdown": [
       "1. 0.0127990313408827\n",
       "2. 0.249556194554941\n",
       "3. 0.350647889704459\n",
       "\n",
       "\n"
      ],
      "text/plain": [
       "[1] 0.01279903 0.24955619 0.35064789"
      ]
     },
     "metadata": {},
     "output_type": "display_data"
    },
    {
     "data": {
      "text/html": [
       "<ol class=list-inline>\n",
       "\t<li>0.0383970940226481</li>\n",
       "\t<li>0.350647889704459</li>\n",
       "\t<li>0.350647889704459</li>\n",
       "</ol>\n"
      ],
      "text/latex": [
       "\\begin{enumerate*}\n",
       "\\item 0.0383970940226481\n",
       "\\item 0.350647889704459\n",
       "\\item 0.350647889704459\n",
       "\\end{enumerate*}\n"
      ],
      "text/markdown": [
       "1. 0.0383970940226481\n",
       "2. 0.350647889704459\n",
       "3. 0.350647889704459\n",
       "\n",
       "\n"
      ],
      "text/plain": [
       "[1] 0.03839709 0.35064789 0.35064789"
      ]
     },
     "metadata": {},
     "output_type": "display_data"
    }
   ],
   "source": [
    "pval<-c()\n",
    "\n",
    "for (i in 8:ncol(nonzero_wMeta)) \n",
    "pval<-c(pval,wilcox.test(nonzero_wMeta[,i]~nonzero_wMeta$Treatmentgroup)$p.value)\n",
    "head(pval)\n",
    "pAdj <- p.adjust(pval, method = c(\"fdr\"), n=length(pval)) \n",
    "head(pAdj) \n",
    "\n"
   ]
  },
  {
   "cell_type": "code",
   "execution_count": 6,
   "metadata": {
    "scrolled": true
   },
   "outputs": [
    {
     "data": {
      "text/html": [
       "3"
      ],
      "text/latex": [
       "3"
      ],
      "text/markdown": [
       "3"
      ],
      "text/plain": [
       "[1] 3"
      ]
     },
     "metadata": {},
     "output_type": "display_data"
    }
   ],
   "source": [
    "length(pval)"
   ]
  },
  {
   "cell_type": "code",
   "execution_count": 7,
   "metadata": {
    "scrolled": true
   },
   "outputs": [
    {
     "data": {
      "text/html": [
       "3"
      ],
      "text/latex": [
       "3"
      ],
      "text/markdown": [
       "3"
      ],
      "text/plain": [
       "[1] 3"
      ]
     },
     "metadata": {},
     "output_type": "display_data"
    }
   ],
   "source": [
    "length(pAdj)"
   ]
  },
  {
   "cell_type": "code",
   "execution_count": 8,
   "metadata": {},
   "outputs": [
    {
     "data": {
      "text/html": [
       "<ol class=list-inline>\n",
       "\t<li>2</li>\n",
       "\t<li>3</li>\n",
       "</ol>\n"
      ],
      "text/latex": [
       "\\begin{enumerate*}\n",
       "\\item 2\n",
       "\\item 3\n",
       "\\end{enumerate*}\n"
      ],
      "text/markdown": [
       "1. 2\n",
       "2. 3\n",
       "\n",
       "\n"
      ],
      "text/plain": [
       "[1] 2 3"
      ]
     },
     "metadata": {},
     "output_type": "display_data"
    },
    {
     "data": {
      "text/html": [
       "<table>\n",
       "<thead><tr><th></th><th scope=col>mass_400</th><th scope=col>mass_500</th><th scope=col>mass_700</th></tr></thead>\n",
       "<tbody>\n",
       "\t<tr><th scope=row>combo</th><td>0.00076271 </td><td>0.002686626</td><td>0.00e+00   </td></tr>\n",
       "\t<tr><th scope=row>naive</th><td>0.00438638 </td><td>0.003133277</td><td>4.04e-06   </td></tr>\n",
       "</tbody>\n",
       "</table>\n"
      ],
      "text/latex": [
       "\\begin{tabular}{r|lll}\n",
       "  & mass\\_400 & mass\\_500 & mass\\_700\\\\\n",
       "\\hline\n",
       "\tcombo & 0.00076271  & 0.002686626 & 0.00e+00   \\\\\n",
       "\tnaive & 0.00438638  & 0.003133277 & 4.04e-06   \\\\\n",
       "\\end{tabular}\n"
      ],
      "text/markdown": [
       "\n",
       "| <!--/--> | mass_400 | mass_500 | mass_700 |\n",
       "|---|---|---|---|\n",
       "| combo | 0.00076271  | 0.002686626 | 0.00e+00    |\n",
       "| naive | 0.00438638  | 0.003133277 | 4.04e-06    |\n",
       "\n"
      ],
      "text/plain": [
       "      mass_400   mass_500    mass_700\n",
       "combo 0.00076271 0.002686626 0.00e+00\n",
       "naive 0.00438638 0.003133277 4.04e-06"
      ]
     },
     "metadata": {},
     "output_type": "display_data"
    },
    {
     "data": {
      "text/html": [
       "<dl class=dl-horizontal>\n",
       "\t<dt>mass_400</dt>\n",
       "\t\t<dd>0.17388144236128</dd>\n",
       "\t<dt>mass_500</dt>\n",
       "\t\t<dd>0.857449239518323</dd>\n",
       "\t<dt>mass_700</dt>\n",
       "\t\t<dd>0</dd>\n",
       "</dl>\n"
      ],
      "text/latex": [
       "\\begin{description*}\n",
       "\\item[mass\\textbackslash{}\\_400] 0.17388144236128\n",
       "\\item[mass\\textbackslash{}\\_500] 0.857449239518323\n",
       "\\item[mass\\textbackslash{}\\_700] 0\n",
       "\\end{description*}\n"
      ],
      "text/markdown": [
       "mass_400\n",
       ":   0.17388144236128mass_500\n",
       ":   0.857449239518323mass_700\n",
       ":   0\n",
       "\n"
      ],
      "text/plain": [
       " mass_400  mass_500  mass_700 \n",
       "0.1738814 0.8574492 0.0000000 "
      ]
     },
     "metadata": {},
     "output_type": "display_data"
    },
    {
     "data": {
      "text/html": [
       "<ol class=list-inline>\n",
       "\t<li>'numeric'</li>\n",
       "\t<li>'vector'</li>\n",
       "</ol>\n"
      ],
      "text/latex": [
       "\\begin{enumerate*}\n",
       "\\item 'numeric'\n",
       "\\item 'vector'\n",
       "\\end{enumerate*}\n"
      ],
      "text/markdown": [
       "1. 'numeric'\n",
       "2. 'vector'\n",
       "\n",
       "\n"
      ],
      "text/plain": [
       "[1] \"numeric\" \"vector\" "
      ]
     },
     "metadata": {},
     "output_type": "display_data"
    }
   ],
   "source": [
    "avg<- apply(nonzero_wMeta[,8:ncol(nonzero_wMeta)], 2, function(x) tapply(x, nonzero_wMeta$Treatmentgroup, function(x) mean(x))) \n",
    "\n",
    "dim(avg) \n",
    "\n",
    "avg[,1:3]\n",
    "\n",
    "fch <- apply(avg, 2, function(x) x[1]/x[2])\n",
    "\n",
    "head(fch)\n",
    "is(fch)"
   ]
  },
  {
   "cell_type": "code",
   "execution_count": 9,
   "metadata": {
    "scrolled": true
   },
   "outputs": [
    {
     "data": {
      "text/html": [
       "<dl class=dl-horizontal>\n",
       "\t<dt>mass_400</dt>\n",
       "\t\t<dd>0.17388144236128</dd>\n",
       "\t<dt>mass_500</dt>\n",
       "\t\t<dd>0.857449239518323</dd>\n",
       "\t<dt>mass_700</dt>\n",
       "\t\t<dd>0</dd>\n",
       "</dl>\n"
      ],
      "text/latex": [
       "\\begin{description*}\n",
       "\\item[mass\\textbackslash{}\\_400] 0.17388144236128\n",
       "\\item[mass\\textbackslash{}\\_500] 0.857449239518323\n",
       "\\item[mass\\textbackslash{}\\_700] 0\n",
       "\\end{description*}\n"
      ],
      "text/markdown": [
       "mass_400\n",
       ":   0.17388144236128mass_500\n",
       ":   0.857449239518323mass_700\n",
       ":   0\n",
       "\n"
      ],
      "text/plain": [
       " mass_400  mass_500  mass_700 \n",
       "0.1738814 0.8574492 0.0000000 "
      ]
     },
     "metadata": {},
     "output_type": "display_data"
    }
   ],
   "source": [
    "fch"
   ]
  },
  {
   "cell_type": "code",
   "execution_count": 10,
   "metadata": {
    "scrolled": false
   },
   "outputs": [],
   "source": [
    "df <- data.frame(fch,pval, pAdj)\n",
    "write.csv(df, \"PE-treat-RVB-wilcox-naive-combo.csv\")"
   ]
  },
  {
   "cell_type": "code",
   "execution_count": null,
   "metadata": {},
   "outputs": [],
   "source": []
  },
  {
   "cell_type": "code",
   "execution_count": null,
   "metadata": {},
   "outputs": [],
   "source": []
  },
  {
   "cell_type": "code",
   "execution_count": null,
   "metadata": {},
   "outputs": [],
   "source": []
  },
  {
   "cell_type": "code",
   "execution_count": null,
   "metadata": {},
   "outputs": [],
   "source": []
  },
  {
   "cell_type": "code",
   "execution_count": null,
   "metadata": {},
   "outputs": [],
   "source": []
  },
  {
   "cell_type": "code",
   "execution_count": null,
   "metadata": {},
   "outputs": [],
   "source": []
  }
 ],
 "metadata": {
  "kernelspec": {
   "display_name": "R",
   "language": "R",
   "name": "ir"
  },
  "language_info": {
   "codemirror_mode": "r",
   "file_extension": ".r",
   "mimetype": "text/x-r-source",
   "name": "R",
   "pygments_lexer": "r",
   "version": "3.6.1"
  }
 },
 "nbformat": 4,
 "nbformat_minor": 2
}
