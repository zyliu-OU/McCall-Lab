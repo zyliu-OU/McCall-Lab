{
 "cells": [
  {
   "cell_type": "code",
   "execution_count": 1,
   "metadata": {},
   "outputs": [],
   "source": [
    "a <- read.csv(\"03172021-PE-time-RVB-M-F.csv\")"
   ]
  },
  {
   "cell_type": "code",
   "execution_count": 2,
   "metadata": {},
   "outputs": [
    {
     "data": {
      "text/html": [
       "<table>\n",
       "<thead><tr><th scope=col>filename</th><th scope=col>MouseID</th><th scope=col>Treatmentgroup</th><th scope=col>status</th><th scope=col>DPI</th><th scope=col>organ</th><th scope=col>well_position</th><th scope=col>plate</th><th scope=col>mass_400</th><th scope=col>mass_500</th><th scope=col>mass_600</th><th scope=col>mass_700</th><th scope=col>mass_800</th></tr></thead>\n",
       "<tbody>\n",
       "\t<tr><td>X501_Group1A_50dpi_RV_bottom_251_B_A1_P141.mzXML</td><td>501                                             </td><td>Group1A                                         </td><td>naive                                           </td><td>50dpi                                           </td><td>RV_bottom                                       </td><td>A1                                              </td><td>P141                                            </td><td>0.002313098                                     </td><td>0.005796944                                     </td><td>0.000054700                                     </td><td>0.000000000                                     </td><td>0.000000000                                     </td></tr>\n",
       "\t<tr><td>X502_Group1A_50dpi_RV_bottom_252_B_A2_P141.mzXML</td><td>502                                             </td><td>Group1A                                         </td><td>naive                                           </td><td>50dpi                                           </td><td>RV_bottom                                       </td><td>A2                                              </td><td>P141                                            </td><td>0.003466935                                     </td><td>0.010414469                                     </td><td>0.000750452                                     </td><td>0.009553372                                     </td><td>0.000984617                                     </td></tr>\n",
       "\t<tr><td>X503_Group1A_50dpi_RV_bottom_253_B_A3_P141.mzXML</td><td>503                                             </td><td>Group1A                                         </td><td>naive                                           </td><td>50dpi                                           </td><td>RV_bottom                                       </td><td>A3                                              </td><td>P141                                            </td><td>0.002111373                                     </td><td>0.004602643                                     </td><td>0.000100047                                     </td><td>0.004421777                                     </td><td>0.000441179                                     </td></tr>\n",
       "\t<tr><td>X504_Group1A_50dpi_RV_bottom_254_B_A4_P141.mzXML</td><td>504                                             </td><td>Group1A                                         </td><td>naive                                           </td><td>50dpi                                           </td><td>RV_bottom                                       </td><td>A4                                              </td><td>P141                                            </td><td>0.001233346                                     </td><td>0.003703104                                     </td><td>0.000000000                                     </td><td>0.000801042                                     </td><td>0.000000000                                     </td></tr>\n",
       "\t<tr><td>X505_Group1A_50dpi_RV_bottom_255_B_A5_P141.mzXML</td><td>505                                             </td><td>Group1A                                         </td><td>naive                                           </td><td>50dpi                                           </td><td>RV_bottom                                       </td><td>A5                                              </td><td>P141                                            </td><td>0.001098560                                     </td><td>0.003283440                                     </td><td>0.000000000                                     </td><td>0.000452443                                     </td><td>0.000000000                                     </td></tr>\n",
       "\t<tr><td>X521_Group1A_50dpi_RV_bottom_256_B_A6_P141.mzXML</td><td>521                                             </td><td>Group1A                                         </td><td>naive                                           </td><td>50dpi                                           </td><td>RV_bottom                                       </td><td>A6                                              </td><td>P141                                            </td><td>0.001121125                                     </td><td>0.003342968                                     </td><td>0.000000000                                     </td><td>0.000000000                                     </td><td>0.000000000                                     </td></tr>\n",
       "</tbody>\n",
       "</table>\n"
      ],
      "text/latex": [
       "\\begin{tabular}{r|lllllllllllll}\n",
       " filename & MouseID & Treatmentgroup & status & DPI & organ & well\\_position & plate & mass\\_400 & mass\\_500 & mass\\_600 & mass\\_700 & mass\\_800\\\\\n",
       "\\hline\n",
       "\t X501\\_Group1A\\_50dpi\\_RV\\_bottom\\_251\\_B\\_A1\\_P141.mzXML & 501                                                              & Group1A                                                          & naive                                                            & 50dpi                                                            & RV\\_bottom                                                      & A1                                                               & P141                                                             & 0.002313098                                                      & 0.005796944                                                      & 0.000054700                                                      & 0.000000000                                                      & 0.000000000                                                     \\\\\n",
       "\t X502\\_Group1A\\_50dpi\\_RV\\_bottom\\_252\\_B\\_A2\\_P141.mzXML & 502                                                              & Group1A                                                          & naive                                                            & 50dpi                                                            & RV\\_bottom                                                      & A2                                                               & P141                                                             & 0.003466935                                                      & 0.010414469                                                      & 0.000750452                                                      & 0.009553372                                                      & 0.000984617                                                     \\\\\n",
       "\t X503\\_Group1A\\_50dpi\\_RV\\_bottom\\_253\\_B\\_A3\\_P141.mzXML & 503                                                              & Group1A                                                          & naive                                                            & 50dpi                                                            & RV\\_bottom                                                      & A3                                                               & P141                                                             & 0.002111373                                                      & 0.004602643                                                      & 0.000100047                                                      & 0.004421777                                                      & 0.000441179                                                     \\\\\n",
       "\t X504\\_Group1A\\_50dpi\\_RV\\_bottom\\_254\\_B\\_A4\\_P141.mzXML & 504                                                              & Group1A                                                          & naive                                                            & 50dpi                                                            & RV\\_bottom                                                      & A4                                                               & P141                                                             & 0.001233346                                                      & 0.003703104                                                      & 0.000000000                                                      & 0.000801042                                                      & 0.000000000                                                     \\\\\n",
       "\t X505\\_Group1A\\_50dpi\\_RV\\_bottom\\_255\\_B\\_A5\\_P141.mzXML & 505                                                              & Group1A                                                          & naive                                                            & 50dpi                                                            & RV\\_bottom                                                      & A5                                                               & P141                                                             & 0.001098560                                                      & 0.003283440                                                      & 0.000000000                                                      & 0.000452443                                                      & 0.000000000                                                     \\\\\n",
       "\t X521\\_Group1A\\_50dpi\\_RV\\_bottom\\_256\\_B\\_A6\\_P141.mzXML & 521                                                              & Group1A                                                          & naive                                                            & 50dpi                                                            & RV\\_bottom                                                      & A6                                                               & P141                                                             & 0.001121125                                                      & 0.003342968                                                      & 0.000000000                                                      & 0.000000000                                                      & 0.000000000                                                     \\\\\n",
       "\\end{tabular}\n"
      ],
      "text/markdown": [
       "\n",
       "| filename | MouseID | Treatmentgroup | status | DPI | organ | well_position | plate | mass_400 | mass_500 | mass_600 | mass_700 | mass_800 |\n",
       "|---|---|---|---|---|---|---|---|---|---|---|---|---|\n",
       "| X501_Group1A_50dpi_RV_bottom_251_B_A1_P141.mzXML | 501                                              | Group1A                                          | naive                                            | 50dpi                                            | RV_bottom                                        | A1                                               | P141                                             | 0.002313098                                      | 0.005796944                                      | 0.000054700                                      | 0.000000000                                      | 0.000000000                                      |\n",
       "| X502_Group1A_50dpi_RV_bottom_252_B_A2_P141.mzXML | 502                                              | Group1A                                          | naive                                            | 50dpi                                            | RV_bottom                                        | A2                                               | P141                                             | 0.003466935                                      | 0.010414469                                      | 0.000750452                                      | 0.009553372                                      | 0.000984617                                      |\n",
       "| X503_Group1A_50dpi_RV_bottom_253_B_A3_P141.mzXML | 503                                              | Group1A                                          | naive                                            | 50dpi                                            | RV_bottom                                        | A3                                               | P141                                             | 0.002111373                                      | 0.004602643                                      | 0.000100047                                      | 0.004421777                                      | 0.000441179                                      |\n",
       "| X504_Group1A_50dpi_RV_bottom_254_B_A4_P141.mzXML | 504                                              | Group1A                                          | naive                                            | 50dpi                                            | RV_bottom                                        | A4                                               | P141                                             | 0.001233346                                      | 0.003703104                                      | 0.000000000                                      | 0.000801042                                      | 0.000000000                                      |\n",
       "| X505_Group1A_50dpi_RV_bottom_255_B_A5_P141.mzXML | 505                                              | Group1A                                          | naive                                            | 50dpi                                            | RV_bottom                                        | A5                                               | P141                                             | 0.001098560                                      | 0.003283440                                      | 0.000000000                                      | 0.000452443                                      | 0.000000000                                      |\n",
       "| X521_Group1A_50dpi_RV_bottom_256_B_A6_P141.mzXML | 521                                              | Group1A                                          | naive                                            | 50dpi                                            | RV_bottom                                        | A6                                               | P141                                             | 0.001121125                                      | 0.003342968                                      | 0.000000000                                      | 0.000000000                                      | 0.000000000                                      |\n",
       "\n"
      ],
      "text/plain": [
       "  filename                                         MouseID Treatmentgroup\n",
       "1 X501_Group1A_50dpi_RV_bottom_251_B_A1_P141.mzXML 501     Group1A       \n",
       "2 X502_Group1A_50dpi_RV_bottom_252_B_A2_P141.mzXML 502     Group1A       \n",
       "3 X503_Group1A_50dpi_RV_bottom_253_B_A3_P141.mzXML 503     Group1A       \n",
       "4 X504_Group1A_50dpi_RV_bottom_254_B_A4_P141.mzXML 504     Group1A       \n",
       "5 X505_Group1A_50dpi_RV_bottom_255_B_A5_P141.mzXML 505     Group1A       \n",
       "6 X521_Group1A_50dpi_RV_bottom_256_B_A6_P141.mzXML 521     Group1A       \n",
       "  status DPI   organ     well_position plate mass_400    mass_500   \n",
       "1 naive  50dpi RV_bottom A1            P141  0.002313098 0.005796944\n",
       "2 naive  50dpi RV_bottom A2            P141  0.003466935 0.010414469\n",
       "3 naive  50dpi RV_bottom A3            P141  0.002111373 0.004602643\n",
       "4 naive  50dpi RV_bottom A4            P141  0.001233346 0.003703104\n",
       "5 naive  50dpi RV_bottom A5            P141  0.001098560 0.003283440\n",
       "6 naive  50dpi RV_bottom A6            P141  0.001121125 0.003342968\n",
       "  mass_600    mass_700    mass_800   \n",
       "1 0.000054700 0.000000000 0.000000000\n",
       "2 0.000750452 0.009553372 0.000984617\n",
       "3 0.000100047 0.004421777 0.000441179\n",
       "4 0.000000000 0.000801042 0.000000000\n",
       "5 0.000000000 0.000452443 0.000000000\n",
       "6 0.000000000 0.000000000 0.000000000"
      ]
     },
     "metadata": {},
     "output_type": "display_data"
    },
    {
     "data": {
      "text/html": [
       "<ol class=list-inline>\n",
       "\t<li>90</li>\n",
       "\t<li>13</li>\n",
       "</ol>\n"
      ],
      "text/latex": [
       "\\begin{enumerate*}\n",
       "\\item 90\n",
       "\\item 13\n",
       "\\end{enumerate*}\n"
      ],
      "text/markdown": [
       "1. 90\n",
       "2. 13\n",
       "\n",
       "\n"
      ],
      "text/plain": [
       "[1] 90 13"
      ]
     },
     "metadata": {},
     "output_type": "display_data"
    }
   ],
   "source": [
    "head(a)\n",
    "dim(a)"
   ]
  },
  {
   "cell_type": "code",
   "execution_count": 3,
   "metadata": {},
   "outputs": [
    {
     "data": {
      "text/html": [
       "<table>\n",
       "<thead><tr><th></th><th scope=col>filename</th><th scope=col>MouseID</th><th scope=col>Treatmentgroup</th><th scope=col>status</th><th scope=col>DPI</th><th scope=col>organ</th><th scope=col>well_position</th><th scope=col>plate</th><th scope=col>mass_400</th><th scope=col>mass_500</th><th scope=col>mass_600</th><th scope=col>mass_700</th><th scope=col>mass_800</th></tr></thead>\n",
       "<tbody>\n",
       "\t<tr><th scope=row>31</th><td>X511_Group1C_142dpi_RV_bottom_161_G_A1_P140.mzXML</td><td>511                                              </td><td>Group1C                                          </td><td>naive                                            </td><td>142dpi                                           </td><td>RV_bottom                                        </td><td>A1                                               </td><td>P140                                             </td><td>0.011070737                                      </td><td>0.001992138                                      </td><td>0                                                </td><td>0.00e+00                                         </td><td>0                                                </td></tr>\n",
       "\t<tr><th scope=row>32</th><td>X512_Group1C_142dpi_RV_bottom_162_G_A2_P140.mzXML</td><td>512                                              </td><td>Group1C                                          </td><td>naive                                            </td><td>142dpi                                           </td><td>RV_bottom                                        </td><td>A2                                               </td><td>P140                                             </td><td>0.018662542                                      </td><td>0.003579901                                      </td><td>0                                                </td><td>0.00e+00                                         </td><td>0                                                </td></tr>\n",
       "\t<tr><th scope=row>33</th><td>X513_Group1C_142dpi_RV_bottom_163_G_A3_P140.mzXML</td><td>513                                              </td><td>Group1C                                          </td><td>naive                                            </td><td>142dpi                                           </td><td>RV_bottom                                        </td><td>A3                                               </td><td>P140                                             </td><td>0.012768515                                      </td><td>0.002431946                                      </td><td>0                                                </td><td>0.00e+00                                         </td><td>0                                                </td></tr>\n",
       "\t<tr><th scope=row>34</th><td>X514_Group1C_142dpi_RV_bottom_164_G_A4_P140.mzXML</td><td>514                                              </td><td>Group1C                                          </td><td>naive                                            </td><td>142dpi                                           </td><td>RV_bottom                                        </td><td>A4                                               </td><td>P140                                             </td><td>0.000315233                                      </td><td>0.003336661                                      </td><td>0                                                </td><td>6.06e-05                                         </td><td>0                                                </td></tr>\n",
       "\t<tr><th scope=row>35</th><td>X515_Group1C_142dpi_RV_bottom_165_G_A5_P140.mzXML</td><td>515                                              </td><td>Group1C                                          </td><td>naive                                            </td><td>142dpi                                           </td><td>RV_bottom                                        </td><td>A5                                               </td><td>P140                                             </td><td>0.000593772                                      </td><td>0.004155339                                      </td><td>0                                                </td><td>0.00e+00                                         </td><td>0                                                </td></tr>\n",
       "\t<tr><th scope=row>36</th><td>X531_Group1C_142dpi_RV_bottom_166_G_A6_P140.mzXML</td><td>531                                              </td><td>Group1C                                          </td><td>naive                                            </td><td>142dpi                                           </td><td>RV_bottom                                        </td><td>A6                                               </td><td>P140                                             </td><td>0.000452000                                      </td><td>0.004626188                                      </td><td>0                                                </td><td>0.00e+00                                         </td><td>0                                                </td></tr>\n",
       "</tbody>\n",
       "</table>\n"
      ],
      "text/latex": [
       "\\begin{tabular}{r|lllllllllllll}\n",
       "  & filename & MouseID & Treatmentgroup & status & DPI & organ & well\\_position & plate & mass\\_400 & mass\\_500 & mass\\_600 & mass\\_700 & mass\\_800\\\\\n",
       "\\hline\n",
       "\t31 & X511\\_Group1C\\_142dpi\\_RV\\_bottom\\_161\\_G\\_A1\\_P140.mzXML & 511                                                               & Group1C                                                           & naive                                                             & 142dpi                                                            & RV\\_bottom                                                       & A1                                                                & P140                                                              & 0.011070737                                                       & 0.001992138                                                       & 0                                                                 & 0.00e+00                                                          & 0                                                                \\\\\n",
       "\t32 & X512\\_Group1C\\_142dpi\\_RV\\_bottom\\_162\\_G\\_A2\\_P140.mzXML & 512                                                               & Group1C                                                           & naive                                                             & 142dpi                                                            & RV\\_bottom                                                       & A2                                                                & P140                                                              & 0.018662542                                                       & 0.003579901                                                       & 0                                                                 & 0.00e+00                                                          & 0                                                                \\\\\n",
       "\t33 & X513\\_Group1C\\_142dpi\\_RV\\_bottom\\_163\\_G\\_A3\\_P140.mzXML & 513                                                               & Group1C                                                           & naive                                                             & 142dpi                                                            & RV\\_bottom                                                       & A3                                                                & P140                                                              & 0.012768515                                                       & 0.002431946                                                       & 0                                                                 & 0.00e+00                                                          & 0                                                                \\\\\n",
       "\t34 & X514\\_Group1C\\_142dpi\\_RV\\_bottom\\_164\\_G\\_A4\\_P140.mzXML & 514                                                               & Group1C                                                           & naive                                                             & 142dpi                                                            & RV\\_bottom                                                       & A4                                                                & P140                                                              & 0.000315233                                                       & 0.003336661                                                       & 0                                                                 & 6.06e-05                                                          & 0                                                                \\\\\n",
       "\t35 & X515\\_Group1C\\_142dpi\\_RV\\_bottom\\_165\\_G\\_A5\\_P140.mzXML & 515                                                               & Group1C                                                           & naive                                                             & 142dpi                                                            & RV\\_bottom                                                       & A5                                                                & P140                                                              & 0.000593772                                                       & 0.004155339                                                       & 0                                                                 & 0.00e+00                                                          & 0                                                                \\\\\n",
       "\t36 & X531\\_Group1C\\_142dpi\\_RV\\_bottom\\_166\\_G\\_A6\\_P140.mzXML & 531                                                               & Group1C                                                           & naive                                                             & 142dpi                                                            & RV\\_bottom                                                       & A6                                                                & P140                                                              & 0.000452000                                                       & 0.004626188                                                       & 0                                                                 & 0.00e+00                                                          & 0                                                                \\\\\n",
       "\\end{tabular}\n"
      ],
      "text/markdown": [
       "\n",
       "| <!--/--> | filename | MouseID | Treatmentgroup | status | DPI | organ | well_position | plate | mass_400 | mass_500 | mass_600 | mass_700 | mass_800 |\n",
       "|---|---|---|---|---|---|---|---|---|---|---|---|---|---|\n",
       "| 31 | X511_Group1C_142dpi_RV_bottom_161_G_A1_P140.mzXML | 511                                               | Group1C                                           | naive                                             | 142dpi                                            | RV_bottom                                         | A1                                                | P140                                              | 0.011070737                                       | 0.001992138                                       | 0                                                 | 0.00e+00                                          | 0                                                 |\n",
       "| 32 | X512_Group1C_142dpi_RV_bottom_162_G_A2_P140.mzXML | 512                                               | Group1C                                           | naive                                             | 142dpi                                            | RV_bottom                                         | A2                                                | P140                                              | 0.018662542                                       | 0.003579901                                       | 0                                                 | 0.00e+00                                          | 0                                                 |\n",
       "| 33 | X513_Group1C_142dpi_RV_bottom_163_G_A3_P140.mzXML | 513                                               | Group1C                                           | naive                                             | 142dpi                                            | RV_bottom                                         | A3                                                | P140                                              | 0.012768515                                       | 0.002431946                                       | 0                                                 | 0.00e+00                                          | 0                                                 |\n",
       "| 34 | X514_Group1C_142dpi_RV_bottom_164_G_A4_P140.mzXML | 514                                               | Group1C                                           | naive                                             | 142dpi                                            | RV_bottom                                         | A4                                                | P140                                              | 0.000315233                                       | 0.003336661                                       | 0                                                 | 6.06e-05                                          | 0                                                 |\n",
       "| 35 | X515_Group1C_142dpi_RV_bottom_165_G_A5_P140.mzXML | 515                                               | Group1C                                           | naive                                             | 142dpi                                            | RV_bottom                                         | A5                                                | P140                                              | 0.000593772                                       | 0.004155339                                       | 0                                                 | 0.00e+00                                          | 0                                                 |\n",
       "| 36 | X531_Group1C_142dpi_RV_bottom_166_G_A6_P140.mzXML | 531                                               | Group1C                                           | naive                                             | 142dpi                                            | RV_bottom                                         | A6                                                | P140                                              | 0.000452000                                       | 0.004626188                                       | 0                                                 | 0.00e+00                                          | 0                                                 |\n",
       "\n"
      ],
      "text/plain": [
       "   filename                                          MouseID Treatmentgroup\n",
       "31 X511_Group1C_142dpi_RV_bottom_161_G_A1_P140.mzXML 511     Group1C       \n",
       "32 X512_Group1C_142dpi_RV_bottom_162_G_A2_P140.mzXML 512     Group1C       \n",
       "33 X513_Group1C_142dpi_RV_bottom_163_G_A3_P140.mzXML 513     Group1C       \n",
       "34 X514_Group1C_142dpi_RV_bottom_164_G_A4_P140.mzXML 514     Group1C       \n",
       "35 X515_Group1C_142dpi_RV_bottom_165_G_A5_P140.mzXML 515     Group1C       \n",
       "36 X531_Group1C_142dpi_RV_bottom_166_G_A6_P140.mzXML 531     Group1C       \n",
       "   status DPI    organ     well_position plate mass_400    mass_500    mass_600\n",
       "31 naive  142dpi RV_bottom A1            P140  0.011070737 0.001992138 0       \n",
       "32 naive  142dpi RV_bottom A2            P140  0.018662542 0.003579901 0       \n",
       "33 naive  142dpi RV_bottom A3            P140  0.012768515 0.002431946 0       \n",
       "34 naive  142dpi RV_bottom A4            P140  0.000315233 0.003336661 0       \n",
       "35 naive  142dpi RV_bottom A5            P140  0.000593772 0.004155339 0       \n",
       "36 naive  142dpi RV_bottom A6            P140  0.000452000 0.004626188 0       \n",
       "   mass_700 mass_800\n",
       "31 0.00e+00 0       \n",
       "32 0.00e+00 0       \n",
       "33 0.00e+00 0       \n",
       "34 6.06e-05 0       \n",
       "35 0.00e+00 0       \n",
       "36 0.00e+00 0       "
      ]
     },
     "metadata": {},
     "output_type": "display_data"
    },
    {
     "data": {
      "text/html": [
       "<ol class=list-inline>\n",
       "\t<li>30</li>\n",
       "\t<li>13</li>\n",
       "</ol>\n"
      ],
      "text/latex": [
       "\\begin{enumerate*}\n",
       "\\item 30\n",
       "\\item 13\n",
       "\\end{enumerate*}\n"
      ],
      "text/markdown": [
       "1. 30\n",
       "2. 13\n",
       "\n",
       "\n"
      ],
      "text/plain": [
       "[1] 30 13"
      ]
     },
     "metadata": {},
     "output_type": "display_data"
    }
   ],
   "source": [
    "features_pos<-droplevels(subset(a, a$Treatmentgroup==c(\"Group1C\")|a$Treatmentgroup==c(\"Group3E\")))\n",
    "head(features_pos)\n",
    "dim(features_pos)"
   ]
  },
  {
   "cell_type": "code",
   "execution_count": 4,
   "metadata": {
    "scrolled": false
   },
   "outputs": [
    {
     "data": {
      "text/html": [
       "<table>\n",
       "<thead><tr><th></th><th scope=col>mass_400</th><th scope=col>mass_500</th><th scope=col>mass_600</th><th scope=col>mass_700</th><th scope=col>mass_800</th></tr></thead>\n",
       "<tbody>\n",
       "\t<tr><th scope=row>31</th><td>0.011070737</td><td>0.001992138</td><td>0          </td><td>0.00e+00   </td><td>0          </td></tr>\n",
       "\t<tr><th scope=row>32</th><td>0.018662542</td><td>0.003579901</td><td>0          </td><td>0.00e+00   </td><td>0          </td></tr>\n",
       "\t<tr><th scope=row>33</th><td>0.012768515</td><td>0.002431946</td><td>0          </td><td>0.00e+00   </td><td>0          </td></tr>\n",
       "\t<tr><th scope=row>34</th><td>0.000315233</td><td>0.003336661</td><td>0          </td><td>6.06e-05   </td><td>0          </td></tr>\n",
       "\t<tr><th scope=row>35</th><td>0.000593772</td><td>0.004155339</td><td>0          </td><td>0.00e+00   </td><td>0          </td></tr>\n",
       "\t<tr><th scope=row>36</th><td>0.000452000</td><td>0.004626188</td><td>0          </td><td>0.00e+00   </td><td>0          </td></tr>\n",
       "</tbody>\n",
       "</table>\n"
      ],
      "text/latex": [
       "\\begin{tabular}{r|lllll}\n",
       "  & mass\\_400 & mass\\_500 & mass\\_600 & mass\\_700 & mass\\_800\\\\\n",
       "\\hline\n",
       "\t31 & 0.011070737 & 0.001992138 & 0           & 0.00e+00    & 0          \\\\\n",
       "\t32 & 0.018662542 & 0.003579901 & 0           & 0.00e+00    & 0          \\\\\n",
       "\t33 & 0.012768515 & 0.002431946 & 0           & 0.00e+00    & 0          \\\\\n",
       "\t34 & 0.000315233 & 0.003336661 & 0           & 6.06e-05    & 0          \\\\\n",
       "\t35 & 0.000593772 & 0.004155339 & 0           & 0.00e+00    & 0          \\\\\n",
       "\t36 & 0.000452000 & 0.004626188 & 0           & 0.00e+00    & 0          \\\\\n",
       "\\end{tabular}\n"
      ],
      "text/markdown": [
       "\n",
       "| <!--/--> | mass_400 | mass_500 | mass_600 | mass_700 | mass_800 |\n",
       "|---|---|---|---|---|---|\n",
       "| 31 | 0.011070737 | 0.001992138 | 0           | 0.00e+00    | 0           |\n",
       "| 32 | 0.018662542 | 0.003579901 | 0           | 0.00e+00    | 0           |\n",
       "| 33 | 0.012768515 | 0.002431946 | 0           | 0.00e+00    | 0           |\n",
       "| 34 | 0.000315233 | 0.003336661 | 0           | 6.06e-05    | 0           |\n",
       "| 35 | 0.000593772 | 0.004155339 | 0           | 0.00e+00    | 0           |\n",
       "| 36 | 0.000452000 | 0.004626188 | 0           | 0.00e+00    | 0           |\n",
       "\n"
      ],
      "text/plain": [
       "   mass_400    mass_500    mass_600 mass_700 mass_800\n",
       "31 0.011070737 0.001992138 0        0.00e+00 0       \n",
       "32 0.018662542 0.003579901 0        0.00e+00 0       \n",
       "33 0.012768515 0.002431946 0        0.00e+00 0       \n",
       "34 0.000315233 0.003336661 0        6.06e-05 0       \n",
       "35 0.000593772 0.004155339 0        0.00e+00 0       \n",
       "36 0.000452000 0.004626188 0        0.00e+00 0       "
      ]
     },
     "metadata": {},
     "output_type": "display_data"
    },
    {
     "data": {
      "text/html": [
       "<dl class=dl-horizontal>\n",
       "\t<dt>mass_400</dt>\n",
       "\t\t<dd>1</dd>\n",
       "\t<dt>mass_500</dt>\n",
       "\t\t<dd>2</dd>\n",
       "\t<dt>mass_700</dt>\n",
       "\t\t<dd>4</dd>\n",
       "</dl>\n"
      ],
      "text/latex": [
       "\\begin{description*}\n",
       "\\item[mass\\textbackslash{}\\_400] 1\n",
       "\\item[mass\\textbackslash{}\\_500] 2\n",
       "\\item[mass\\textbackslash{}\\_700] 4\n",
       "\\end{description*}\n"
      ],
      "text/markdown": [
       "mass_400\n",
       ":   1mass_500\n",
       ":   2mass_700\n",
       ":   4\n",
       "\n"
      ],
      "text/plain": [
       "mass_400 mass_500 mass_700 \n",
       "       1        2        4 "
      ]
     },
     "metadata": {},
     "output_type": "display_data"
    },
    {
     "data": {
      "text/html": [
       "<table>\n",
       "<thead><tr><th></th><th scope=col>mass_400</th><th scope=col>mass_500</th><th scope=col>mass_700</th></tr></thead>\n",
       "<tbody>\n",
       "\t<tr><th scope=row>31</th><td>0.011070737</td><td>0.001992138</td><td>0.000000000</td></tr>\n",
       "\t<tr><th scope=row>32</th><td>0.018662542</td><td>0.003579901</td><td>0.000000000</td></tr>\n",
       "\t<tr><th scope=row>33</th><td>0.012768515</td><td>0.002431946</td><td>0.000000000</td></tr>\n",
       "\t<tr><th scope=row>34</th><td>0.000315233</td><td>0.003336661</td><td>0.000060600</td></tr>\n",
       "\t<tr><th scope=row>35</th><td>0.000593772</td><td>0.004155339</td><td>0.000000000</td></tr>\n",
       "\t<tr><th scope=row>36</th><td>0.000452000</td><td>0.004626188</td><td>0.000000000</td></tr>\n",
       "\t<tr><th scope=row>37</th><td>0.000172605</td><td>0.002749717</td><td>0.000000000</td></tr>\n",
       "\t<tr><th scope=row>38</th><td>0.000379485</td><td>0.002792147</td><td>0.000000000</td></tr>\n",
       "\t<tr><th scope=row>39</th><td>0.018867684</td><td>0.004707539</td><td>0.000000000</td></tr>\n",
       "\t<tr><th scope=row>40</th><td>0.000431413</td><td>0.003617499</td><td>0.000000000</td></tr>\n",
       "\t<tr><th scope=row>41</th><td>0.000255216</td><td>0.002688105</td><td>0.000000000</td></tr>\n",
       "\t<tr><th scope=row>42</th><td>0.000625182</td><td>0.003676020</td><td>0.000000000</td></tr>\n",
       "\t<tr><th scope=row>43</th><td>0.000336561</td><td>0.002081335</td><td>0.000000000</td></tr>\n",
       "\t<tr><th scope=row>44</th><td>0.000445159</td><td>0.002118063</td><td>0.000000000</td></tr>\n",
       "\t<tr><th scope=row>45</th><td>0.000419589</td><td>0.002446562</td><td>0.000000000</td></tr>\n",
       "\t<tr><th scope=row>76</th><td>0.014356123</td><td>0.001996371</td><td>0.000000000</td></tr>\n",
       "\t<tr><th scope=row>77</th><td>0.011779334</td><td>0.002585270</td><td>0.000000000</td></tr>\n",
       "\t<tr><th scope=row>78</th><td>0.000201895</td><td>0.002150646</td><td>0.000000000</td></tr>\n",
       "\t<tr><th scope=row>79</th><td>0.000328386</td><td>0.002331377</td><td>0.000000000</td></tr>\n",
       "\t<tr><th scope=row>80</th><td>0.000298403</td><td>0.001709410</td><td>0.000161409</td></tr>\n",
       "\t<tr><th scope=row>81</th><td>0.000150967</td><td>0.002384452</td><td>0.000000000</td></tr>\n",
       "\t<tr><th scope=row>82</th><td>0.000157554</td><td>0.002622815</td><td>0.000000000</td></tr>\n",
       "\t<tr><th scope=row>83</th><td>0.000127170</td><td>0.002314130</td><td>0.000000000</td></tr>\n",
       "\t<tr><th scope=row>84</th><td>0.000126948</td><td>0.002443509</td><td>0.000000000</td></tr>\n",
       "\t<tr><th scope=row>85</th><td>0.010210036</td><td>0.002974515</td><td>0.000000000</td></tr>\n",
       "\t<tr><th scope=row>86</th><td>0.000346352</td><td>0.002261944</td><td>0.000000000</td></tr>\n",
       "\t<tr><th scope=row>87</th><td>0.000161167</td><td>0.002267574</td><td>0.000000000</td></tr>\n",
       "\t<tr><th scope=row>88</th><td>0.000440472</td><td>0.003030276</td><td>0.000885563</td></tr>\n",
       "\t<tr><th scope=row>89</th><td>0.000240445</td><td>0.003057510</td><td>0.000000000</td></tr>\n",
       "\t<tr><th scope=row>90</th><td>0.009911927</td><td>0.001470668</td><td>0.000000000</td></tr>\n",
       "</tbody>\n",
       "</table>\n"
      ],
      "text/latex": [
       "\\begin{tabular}{r|lll}\n",
       "  & mass\\_400 & mass\\_500 & mass\\_700\\\\\n",
       "\\hline\n",
       "\t31 & 0.011070737 & 0.001992138 & 0.000000000\\\\\n",
       "\t32 & 0.018662542 & 0.003579901 & 0.000000000\\\\\n",
       "\t33 & 0.012768515 & 0.002431946 & 0.000000000\\\\\n",
       "\t34 & 0.000315233 & 0.003336661 & 0.000060600\\\\\n",
       "\t35 & 0.000593772 & 0.004155339 & 0.000000000\\\\\n",
       "\t36 & 0.000452000 & 0.004626188 & 0.000000000\\\\\n",
       "\t37 & 0.000172605 & 0.002749717 & 0.000000000\\\\\n",
       "\t38 & 0.000379485 & 0.002792147 & 0.000000000\\\\\n",
       "\t39 & 0.018867684 & 0.004707539 & 0.000000000\\\\\n",
       "\t40 & 0.000431413 & 0.003617499 & 0.000000000\\\\\n",
       "\t41 & 0.000255216 & 0.002688105 & 0.000000000\\\\\n",
       "\t42 & 0.000625182 & 0.003676020 & 0.000000000\\\\\n",
       "\t43 & 0.000336561 & 0.002081335 & 0.000000000\\\\\n",
       "\t44 & 0.000445159 & 0.002118063 & 0.000000000\\\\\n",
       "\t45 & 0.000419589 & 0.002446562 & 0.000000000\\\\\n",
       "\t76 & 0.014356123 & 0.001996371 & 0.000000000\\\\\n",
       "\t77 & 0.011779334 & 0.002585270 & 0.000000000\\\\\n",
       "\t78 & 0.000201895 & 0.002150646 & 0.000000000\\\\\n",
       "\t79 & 0.000328386 & 0.002331377 & 0.000000000\\\\\n",
       "\t80 & 0.000298403 & 0.001709410 & 0.000161409\\\\\n",
       "\t81 & 0.000150967 & 0.002384452 & 0.000000000\\\\\n",
       "\t82 & 0.000157554 & 0.002622815 & 0.000000000\\\\\n",
       "\t83 & 0.000127170 & 0.002314130 & 0.000000000\\\\\n",
       "\t84 & 0.000126948 & 0.002443509 & 0.000000000\\\\\n",
       "\t85 & 0.010210036 & 0.002974515 & 0.000000000\\\\\n",
       "\t86 & 0.000346352 & 0.002261944 & 0.000000000\\\\\n",
       "\t87 & 0.000161167 & 0.002267574 & 0.000000000\\\\\n",
       "\t88 & 0.000440472 & 0.003030276 & 0.000885563\\\\\n",
       "\t89 & 0.000240445 & 0.003057510 & 0.000000000\\\\\n",
       "\t90 & 0.009911927 & 0.001470668 & 0.000000000\\\\\n",
       "\\end{tabular}\n"
      ],
      "text/markdown": [
       "\n",
       "| <!--/--> | mass_400 | mass_500 | mass_700 |\n",
       "|---|---|---|---|\n",
       "| 31 | 0.011070737 | 0.001992138 | 0.000000000 |\n",
       "| 32 | 0.018662542 | 0.003579901 | 0.000000000 |\n",
       "| 33 | 0.012768515 | 0.002431946 | 0.000000000 |\n",
       "| 34 | 0.000315233 | 0.003336661 | 0.000060600 |\n",
       "| 35 | 0.000593772 | 0.004155339 | 0.000000000 |\n",
       "| 36 | 0.000452000 | 0.004626188 | 0.000000000 |\n",
       "| 37 | 0.000172605 | 0.002749717 | 0.000000000 |\n",
       "| 38 | 0.000379485 | 0.002792147 | 0.000000000 |\n",
       "| 39 | 0.018867684 | 0.004707539 | 0.000000000 |\n",
       "| 40 | 0.000431413 | 0.003617499 | 0.000000000 |\n",
       "| 41 | 0.000255216 | 0.002688105 | 0.000000000 |\n",
       "| 42 | 0.000625182 | 0.003676020 | 0.000000000 |\n",
       "| 43 | 0.000336561 | 0.002081335 | 0.000000000 |\n",
       "| 44 | 0.000445159 | 0.002118063 | 0.000000000 |\n",
       "| 45 | 0.000419589 | 0.002446562 | 0.000000000 |\n",
       "| 76 | 0.014356123 | 0.001996371 | 0.000000000 |\n",
       "| 77 | 0.011779334 | 0.002585270 | 0.000000000 |\n",
       "| 78 | 0.000201895 | 0.002150646 | 0.000000000 |\n",
       "| 79 | 0.000328386 | 0.002331377 | 0.000000000 |\n",
       "| 80 | 0.000298403 | 0.001709410 | 0.000161409 |\n",
       "| 81 | 0.000150967 | 0.002384452 | 0.000000000 |\n",
       "| 82 | 0.000157554 | 0.002622815 | 0.000000000 |\n",
       "| 83 | 0.000127170 | 0.002314130 | 0.000000000 |\n",
       "| 84 | 0.000126948 | 0.002443509 | 0.000000000 |\n",
       "| 85 | 0.010210036 | 0.002974515 | 0.000000000 |\n",
       "| 86 | 0.000346352 | 0.002261944 | 0.000000000 |\n",
       "| 87 | 0.000161167 | 0.002267574 | 0.000000000 |\n",
       "| 88 | 0.000440472 | 0.003030276 | 0.000885563 |\n",
       "| 89 | 0.000240445 | 0.003057510 | 0.000000000 |\n",
       "| 90 | 0.009911927 | 0.001470668 | 0.000000000 |\n",
       "\n"
      ],
      "text/plain": [
       "   mass_400    mass_500    mass_700   \n",
       "31 0.011070737 0.001992138 0.000000000\n",
       "32 0.018662542 0.003579901 0.000000000\n",
       "33 0.012768515 0.002431946 0.000000000\n",
       "34 0.000315233 0.003336661 0.000060600\n",
       "35 0.000593772 0.004155339 0.000000000\n",
       "36 0.000452000 0.004626188 0.000000000\n",
       "37 0.000172605 0.002749717 0.000000000\n",
       "38 0.000379485 0.002792147 0.000000000\n",
       "39 0.018867684 0.004707539 0.000000000\n",
       "40 0.000431413 0.003617499 0.000000000\n",
       "41 0.000255216 0.002688105 0.000000000\n",
       "42 0.000625182 0.003676020 0.000000000\n",
       "43 0.000336561 0.002081335 0.000000000\n",
       "44 0.000445159 0.002118063 0.000000000\n",
       "45 0.000419589 0.002446562 0.000000000\n",
       "76 0.014356123 0.001996371 0.000000000\n",
       "77 0.011779334 0.002585270 0.000000000\n",
       "78 0.000201895 0.002150646 0.000000000\n",
       "79 0.000328386 0.002331377 0.000000000\n",
       "80 0.000298403 0.001709410 0.000161409\n",
       "81 0.000150967 0.002384452 0.000000000\n",
       "82 0.000157554 0.002622815 0.000000000\n",
       "83 0.000127170 0.002314130 0.000000000\n",
       "84 0.000126948 0.002443509 0.000000000\n",
       "85 0.010210036 0.002974515 0.000000000\n",
       "86 0.000346352 0.002261944 0.000000000\n",
       "87 0.000161167 0.002267574 0.000000000\n",
       "88 0.000440472 0.003030276 0.000885563\n",
       "89 0.000240445 0.003057510 0.000000000\n",
       "90 0.009911927 0.001470668 0.000000000"
      ]
     },
     "metadata": {},
     "output_type": "display_data"
    },
    {
     "data": {
      "text/html": [
       "<table>\n",
       "<thead><tr><th></th><th scope=col>filename</th><th scope=col>MouseID</th><th scope=col>Treatmentgroup</th><th scope=col>status</th><th scope=col>DPI</th><th scope=col>organ</th><th scope=col>well_position</th><th scope=col>plate</th><th scope=col>mass_400</th><th scope=col>mass_500</th><th scope=col>mass_700</th></tr></thead>\n",
       "<tbody>\n",
       "\t<tr><th scope=row>31</th><td>X511_Group1C_142dpi_RV_bottom_161_G_A1_P140.mzXML</td><td>511                                              </td><td>Group1C                                          </td><td>naive                                            </td><td>142dpi                                           </td><td>RV_bottom                                        </td><td>A1                                               </td><td>P140                                             </td><td>0.011070737                                      </td><td>0.001992138                                      </td><td>0.00e+00                                         </td></tr>\n",
       "\t<tr><th scope=row>32</th><td>X512_Group1C_142dpi_RV_bottom_162_G_A2_P140.mzXML</td><td>512                                              </td><td>Group1C                                          </td><td>naive                                            </td><td>142dpi                                           </td><td>RV_bottom                                        </td><td>A2                                               </td><td>P140                                             </td><td>0.018662542                                      </td><td>0.003579901                                      </td><td>0.00e+00                                         </td></tr>\n",
       "\t<tr><th scope=row>33</th><td>X513_Group1C_142dpi_RV_bottom_163_G_A3_P140.mzXML</td><td>513                                              </td><td>Group1C                                          </td><td>naive                                            </td><td>142dpi                                           </td><td>RV_bottom                                        </td><td>A3                                               </td><td>P140                                             </td><td>0.012768515                                      </td><td>0.002431946                                      </td><td>0.00e+00                                         </td></tr>\n",
       "\t<tr><th scope=row>34</th><td>X514_Group1C_142dpi_RV_bottom_164_G_A4_P140.mzXML</td><td>514                                              </td><td>Group1C                                          </td><td>naive                                            </td><td>142dpi                                           </td><td>RV_bottom                                        </td><td>A4                                               </td><td>P140                                             </td><td>0.000315233                                      </td><td>0.003336661                                      </td><td>6.06e-05                                         </td></tr>\n",
       "\t<tr><th scope=row>35</th><td>X515_Group1C_142dpi_RV_bottom_165_G_A5_P140.mzXML</td><td>515                                              </td><td>Group1C                                          </td><td>naive                                            </td><td>142dpi                                           </td><td>RV_bottom                                        </td><td>A5                                               </td><td>P140                                             </td><td>0.000593772                                      </td><td>0.004155339                                      </td><td>0.00e+00                                         </td></tr>\n",
       "\t<tr><th scope=row>36</th><td>X531_Group1C_142dpi_RV_bottom_166_G_A6_P140.mzXML</td><td>531                                              </td><td>Group1C                                          </td><td>naive                                            </td><td>142dpi                                           </td><td>RV_bottom                                        </td><td>A6                                               </td><td>P140                                             </td><td>0.000452000                                      </td><td>0.004626188                                      </td><td>0.00e+00                                         </td></tr>\n",
       "</tbody>\n",
       "</table>\n"
      ],
      "text/latex": [
       "\\begin{tabular}{r|lllllllllll}\n",
       "  & filename & MouseID & Treatmentgroup & status & DPI & organ & well\\_position & plate & mass\\_400 & mass\\_500 & mass\\_700\\\\\n",
       "\\hline\n",
       "\t31 & X511\\_Group1C\\_142dpi\\_RV\\_bottom\\_161\\_G\\_A1\\_P140.mzXML & 511                                                               & Group1C                                                           & naive                                                             & 142dpi                                                            & RV\\_bottom                                                       & A1                                                                & P140                                                              & 0.011070737                                                       & 0.001992138                                                       & 0.00e+00                                                         \\\\\n",
       "\t32 & X512\\_Group1C\\_142dpi\\_RV\\_bottom\\_162\\_G\\_A2\\_P140.mzXML & 512                                                               & Group1C                                                           & naive                                                             & 142dpi                                                            & RV\\_bottom                                                       & A2                                                                & P140                                                              & 0.018662542                                                       & 0.003579901                                                       & 0.00e+00                                                         \\\\\n",
       "\t33 & X513\\_Group1C\\_142dpi\\_RV\\_bottom\\_163\\_G\\_A3\\_P140.mzXML & 513                                                               & Group1C                                                           & naive                                                             & 142dpi                                                            & RV\\_bottom                                                       & A3                                                                & P140                                                              & 0.012768515                                                       & 0.002431946                                                       & 0.00e+00                                                         \\\\\n",
       "\t34 & X514\\_Group1C\\_142dpi\\_RV\\_bottom\\_164\\_G\\_A4\\_P140.mzXML & 514                                                               & Group1C                                                           & naive                                                             & 142dpi                                                            & RV\\_bottom                                                       & A4                                                                & P140                                                              & 0.000315233                                                       & 0.003336661                                                       & 6.06e-05                                                         \\\\\n",
       "\t35 & X515\\_Group1C\\_142dpi\\_RV\\_bottom\\_165\\_G\\_A5\\_P140.mzXML & 515                                                               & Group1C                                                           & naive                                                             & 142dpi                                                            & RV\\_bottom                                                       & A5                                                                & P140                                                              & 0.000593772                                                       & 0.004155339                                                       & 0.00e+00                                                         \\\\\n",
       "\t36 & X531\\_Group1C\\_142dpi\\_RV\\_bottom\\_166\\_G\\_A6\\_P140.mzXML & 531                                                               & Group1C                                                           & naive                                                             & 142dpi                                                            & RV\\_bottom                                                       & A6                                                                & P140                                                              & 0.000452000                                                       & 0.004626188                                                       & 0.00e+00                                                         \\\\\n",
       "\\end{tabular}\n"
      ],
      "text/markdown": [
       "\n",
       "| <!--/--> | filename | MouseID | Treatmentgroup | status | DPI | organ | well_position | plate | mass_400 | mass_500 | mass_700 |\n",
       "|---|---|---|---|---|---|---|---|---|---|---|---|\n",
       "| 31 | X511_Group1C_142dpi_RV_bottom_161_G_A1_P140.mzXML | 511                                               | Group1C                                           | naive                                             | 142dpi                                            | RV_bottom                                         | A1                                                | P140                                              | 0.011070737                                       | 0.001992138                                       | 0.00e+00                                          |\n",
       "| 32 | X512_Group1C_142dpi_RV_bottom_162_G_A2_P140.mzXML | 512                                               | Group1C                                           | naive                                             | 142dpi                                            | RV_bottom                                         | A2                                                | P140                                              | 0.018662542                                       | 0.003579901                                       | 0.00e+00                                          |\n",
       "| 33 | X513_Group1C_142dpi_RV_bottom_163_G_A3_P140.mzXML | 513                                               | Group1C                                           | naive                                             | 142dpi                                            | RV_bottom                                         | A3                                                | P140                                              | 0.012768515                                       | 0.002431946                                       | 0.00e+00                                          |\n",
       "| 34 | X514_Group1C_142dpi_RV_bottom_164_G_A4_P140.mzXML | 514                                               | Group1C                                           | naive                                             | 142dpi                                            | RV_bottom                                         | A4                                                | P140                                              | 0.000315233                                       | 0.003336661                                       | 6.06e-05                                          |\n",
       "| 35 | X515_Group1C_142dpi_RV_bottom_165_G_A5_P140.mzXML | 515                                               | Group1C                                           | naive                                             | 142dpi                                            | RV_bottom                                         | A5                                                | P140                                              | 0.000593772                                       | 0.004155339                                       | 0.00e+00                                          |\n",
       "| 36 | X531_Group1C_142dpi_RV_bottom_166_G_A6_P140.mzXML | 531                                               | Group1C                                           | naive                                             | 142dpi                                            | RV_bottom                                         | A6                                                | P140                                              | 0.000452000                                       | 0.004626188                                       | 0.00e+00                                          |\n",
       "\n"
      ],
      "text/plain": [
       "   filename                                          MouseID Treatmentgroup\n",
       "31 X511_Group1C_142dpi_RV_bottom_161_G_A1_P140.mzXML 511     Group1C       \n",
       "32 X512_Group1C_142dpi_RV_bottom_162_G_A2_P140.mzXML 512     Group1C       \n",
       "33 X513_Group1C_142dpi_RV_bottom_163_G_A3_P140.mzXML 513     Group1C       \n",
       "34 X514_Group1C_142dpi_RV_bottom_164_G_A4_P140.mzXML 514     Group1C       \n",
       "35 X515_Group1C_142dpi_RV_bottom_165_G_A5_P140.mzXML 515     Group1C       \n",
       "36 X531_Group1C_142dpi_RV_bottom_166_G_A6_P140.mzXML 531     Group1C       \n",
       "   status DPI    organ     well_position plate mass_400    mass_500    mass_700\n",
       "31 naive  142dpi RV_bottom A1            P140  0.011070737 0.001992138 0.00e+00\n",
       "32 naive  142dpi RV_bottom A2            P140  0.018662542 0.003579901 0.00e+00\n",
       "33 naive  142dpi RV_bottom A3            P140  0.012768515 0.002431946 0.00e+00\n",
       "34 naive  142dpi RV_bottom A4            P140  0.000315233 0.003336661 6.06e-05\n",
       "35 naive  142dpi RV_bottom A5            P140  0.000593772 0.004155339 0.00e+00\n",
       "36 naive  142dpi RV_bottom A6            P140  0.000452000 0.004626188 0.00e+00"
      ]
     },
     "metadata": {},
     "output_type": "display_data"
    },
    {
     "data": {
      "text/html": [
       "<ol class=list-inline>\n",
       "\t<li>30</li>\n",
       "\t<li>13</li>\n",
       "</ol>\n"
      ],
      "text/latex": [
       "\\begin{enumerate*}\n",
       "\\item 30\n",
       "\\item 13\n",
       "\\end{enumerate*}\n"
      ],
      "text/markdown": [
       "1. 30\n",
       "2. 13\n",
       "\n",
       "\n"
      ],
      "text/plain": [
       "[1] 30 13"
      ]
     },
     "metadata": {},
     "output_type": "display_data"
    },
    {
     "data": {
      "text/html": [
       "<ol class=list-inline>\n",
       "\t<li>30</li>\n",
       "\t<li>5</li>\n",
       "</ol>\n"
      ],
      "text/latex": [
       "\\begin{enumerate*}\n",
       "\\item 30\n",
       "\\item 5\n",
       "\\end{enumerate*}\n"
      ],
      "text/markdown": [
       "1. 30\n",
       "2. 5\n",
       "\n",
       "\n"
      ],
      "text/plain": [
       "[1] 30  5"
      ]
     },
     "metadata": {},
     "output_type": "display_data"
    },
    {
     "data": {
      "text/html": [
       "<ol class=list-inline>\n",
       "\t<li>30</li>\n",
       "\t<li>3</li>\n",
       "</ol>\n"
      ],
      "text/latex": [
       "\\begin{enumerate*}\n",
       "\\item 30\n",
       "\\item 3\n",
       "\\end{enumerate*}\n"
      ],
      "text/markdown": [
       "1. 30\n",
       "2. 3\n",
       "\n",
       "\n"
      ],
      "text/plain": [
       "[1] 30  3"
      ]
     },
     "metadata": {},
     "output_type": "display_data"
    },
    {
     "data": {
      "text/html": [
       "<ol class=list-inline>\n",
       "\t<li>30</li>\n",
       "\t<li>11</li>\n",
       "</ol>\n"
      ],
      "text/latex": [
       "\\begin{enumerate*}\n",
       "\\item 30\n",
       "\\item 11\n",
       "\\end{enumerate*}\n"
      ],
      "text/markdown": [
       "1. 30\n",
       "2. 11\n",
       "\n",
       "\n"
      ],
      "text/plain": [
       "[1] 30 11"
      ]
     },
     "metadata": {},
     "output_type": "display_data"
    }
   ],
   "source": [
    "noMeta<-features_pos[,9:13]\n",
    "head(noMeta)\n",
    "not_zero<-which(colSums(noMeta) != 0)\n",
    "head(not_zero)\n",
    "nonzero <- noMeta[, not_zero]\n",
    "nonzero\n",
    "nonzero_wMeta<-cbind(features_pos[,1:8], nonzero)\n",
    "head(nonzero_wMeta)\n",
    "dim(features_pos)\n",
    "dim(noMeta)\n",
    "dim(nonzero)\n",
    "dim(nonzero_wMeta)"
   ]
  },
  {
   "cell_type": "code",
   "execution_count": 5,
   "metadata": {
    "scrolled": true
   },
   "outputs": [
    {
     "name": "stderr",
     "output_type": "stream",
     "text": [
      "Warning message in wilcox.test.default(x = c(0, 0, 0, 6.06e-05, 0, 0, 0, 0, 0, 0, :\n",
      "\"cannot compute exact p-value with ties\""
     ]
    },
    {
     "data": {
      "text/html": [
       "<ol class=list-inline>\n",
       "\t<li>0.0502223733334571</li>\n",
       "\t<li>0.0209023068445138</li>\n",
       "\t<li>0.523998655936988</li>\n",
       "</ol>\n"
      ],
      "text/latex": [
       "\\begin{enumerate*}\n",
       "\\item 0.0502223733334571\n",
       "\\item 0.0209023068445138\n",
       "\\item 0.523998655936988\n",
       "\\end{enumerate*}\n"
      ],
      "text/markdown": [
       "1. 0.0502223733334571\n",
       "2. 0.0209023068445138\n",
       "3. 0.523998655936988\n",
       "\n",
       "\n"
      ],
      "text/plain": [
       "[1] 0.05022237 0.02090231 0.52399866"
      ]
     },
     "metadata": {},
     "output_type": "display_data"
    },
    {
     "data": {
      "text/html": [
       "<ol class=list-inline>\n",
       "\t<li>0.0753335600001857</li>\n",
       "\t<li>0.0627069205335413</li>\n",
       "\t<li>0.523998655936988</li>\n",
       "</ol>\n"
      ],
      "text/latex": [
       "\\begin{enumerate*}\n",
       "\\item 0.0753335600001857\n",
       "\\item 0.0627069205335413\n",
       "\\item 0.523998655936988\n",
       "\\end{enumerate*}\n"
      ],
      "text/markdown": [
       "1. 0.0753335600001857\n",
       "2. 0.0627069205335413\n",
       "3. 0.523998655936988\n",
       "\n",
       "\n"
      ],
      "text/plain": [
       "[1] 0.07533356 0.06270692 0.52399866"
      ]
     },
     "metadata": {},
     "output_type": "display_data"
    }
   ],
   "source": [
    "pval<-c()\n",
    "\n",
    "for (i in 9:ncol(nonzero_wMeta)) \n",
    "pval<-c(pval,wilcox.test(nonzero_wMeta[,i]~nonzero_wMeta$Treatmentgroup)$p.value)\n",
    "head(pval)\n",
    "pAdj <- p.adjust(pval, method = c(\"fdr\"), n=length(pval)) \n",
    "head(pAdj) \n",
    "\n"
   ]
  },
  {
   "cell_type": "code",
   "execution_count": 6,
   "metadata": {
    "scrolled": true
   },
   "outputs": [
    {
     "data": {
      "text/html": [
       "3"
      ],
      "text/latex": [
       "3"
      ],
      "text/markdown": [
       "3"
      ],
      "text/plain": [
       "[1] 3"
      ]
     },
     "metadata": {},
     "output_type": "display_data"
    }
   ],
   "source": [
    "length(pval)"
   ]
  },
  {
   "cell_type": "code",
   "execution_count": 7,
   "metadata": {
    "scrolled": true
   },
   "outputs": [
    {
     "data": {
      "text/html": [
       "3"
      ],
      "text/latex": [
       "3"
      ],
      "text/markdown": [
       "3"
      ],
      "text/plain": [
       "[1] 3"
      ]
     },
     "metadata": {},
     "output_type": "display_data"
    }
   ],
   "source": [
    "length(pAdj)"
   ]
  },
  {
   "cell_type": "code",
   "execution_count": 8,
   "metadata": {},
   "outputs": [
    {
     "data": {
      "text/html": [
       "<ol class=list-inline>\n",
       "\t<li>2</li>\n",
       "\t<li>3</li>\n",
       "</ol>\n"
      ],
      "text/latex": [
       "\\begin{enumerate*}\n",
       "\\item 2\n",
       "\\item 3\n",
       "\\end{enumerate*}\n"
      ],
      "text/markdown": [
       "1. 2\n",
       "2. 3\n",
       "\n",
       "\n"
      ],
      "text/plain": [
       "[1] 2 3"
      ]
     },
     "metadata": {},
     "output_type": "display_data"
    },
    {
     "data": {
      "text/html": [
       "<table>\n",
       "<thead><tr><th></th><th scope=col>mass_400</th><th scope=col>mass_500</th><th scope=col>mass_700</th></tr></thead>\n",
       "<tbody>\n",
       "\t<tr><th scope=row>Group1C</th><td>0.004386380 </td><td>0.003133277 </td><td>4.040000e-06</td></tr>\n",
       "\t<tr><th scope=row>Group3E</th><td>0.003255812 </td><td>0.002373364 </td><td>6.979813e-05</td></tr>\n",
       "</tbody>\n",
       "</table>\n"
      ],
      "text/latex": [
       "\\begin{tabular}{r|lll}\n",
       "  & mass\\_400 & mass\\_500 & mass\\_700\\\\\n",
       "\\hline\n",
       "\tGroup1C & 0.004386380  & 0.003133277  & 4.040000e-06\\\\\n",
       "\tGroup3E & 0.003255812  & 0.002373364  & 6.979813e-05\\\\\n",
       "\\end{tabular}\n"
      ],
      "text/markdown": [
       "\n",
       "| <!--/--> | mass_400 | mass_500 | mass_700 |\n",
       "|---|---|---|---|\n",
       "| Group1C | 0.004386380  | 0.003133277  | 4.040000e-06 |\n",
       "| Group3E | 0.003255812  | 0.002373364  | 6.979813e-05 |\n",
       "\n"
      ],
      "text/plain": [
       "        mass_400    mass_500    mass_700    \n",
       "Group1C 0.004386380 0.003133277 4.040000e-06\n",
       "Group3E 0.003255812 0.002373364 6.979813e-05"
      ]
     },
     "metadata": {},
     "output_type": "display_data"
    },
    {
     "data": {
      "text/html": [
       "<dl class=dl-horizontal>\n",
       "\t<dt>mass_400</dt>\n",
       "\t\t<dd>1.347245978315</dd>\n",
       "\t<dt>mass_500</dt>\n",
       "\t\t<dd>1.32018380545401</dd>\n",
       "\t<dt>mass_700</dt>\n",
       "\t\t<dd>0.0578812040818666</dd>\n",
       "</dl>\n"
      ],
      "text/latex": [
       "\\begin{description*}\n",
       "\\item[mass\\textbackslash{}\\_400] 1.347245978315\n",
       "\\item[mass\\textbackslash{}\\_500] 1.32018380545401\n",
       "\\item[mass\\textbackslash{}\\_700] 0.0578812040818666\n",
       "\\end{description*}\n"
      ],
      "text/markdown": [
       "mass_400\n",
       ":   1.347245978315mass_500\n",
       ":   1.32018380545401mass_700\n",
       ":   0.0578812040818666\n",
       "\n"
      ],
      "text/plain": [
       " mass_400  mass_500  mass_700 \n",
       "1.3472460 1.3201838 0.0578812 "
      ]
     },
     "metadata": {},
     "output_type": "display_data"
    },
    {
     "data": {
      "text/html": [
       "<ol class=list-inline>\n",
       "\t<li>'numeric'</li>\n",
       "\t<li>'vector'</li>\n",
       "</ol>\n"
      ],
      "text/latex": [
       "\\begin{enumerate*}\n",
       "\\item 'numeric'\n",
       "\\item 'vector'\n",
       "\\end{enumerate*}\n"
      ],
      "text/markdown": [
       "1. 'numeric'\n",
       "2. 'vector'\n",
       "\n",
       "\n"
      ],
      "text/plain": [
       "[1] \"numeric\" \"vector\" "
      ]
     },
     "metadata": {},
     "output_type": "display_data"
    }
   ],
   "source": [
    "avg<- apply(nonzero_wMeta[,9:ncol(nonzero_wMeta)], 2, function(x) tapply(x, nonzero_wMeta$Treatmentgroup, function(x) mean(x))) \n",
    "\n",
    "dim(avg)\n",
    "\n",
    "avg[,1:3]\n",
    "\n",
    "fch <- apply(avg, 2, function(x) x[1]/x[2])\n",
    "\n",
    "head(fch)\n",
    "is(fch)"
   ]
  },
  {
   "cell_type": "code",
   "execution_count": 9,
   "metadata": {
    "scrolled": true
   },
   "outputs": [
    {
     "data": {
      "text/html": [
       "<dl class=dl-horizontal>\n",
       "\t<dt>mass_400</dt>\n",
       "\t\t<dd>1.347245978315</dd>\n",
       "\t<dt>mass_500</dt>\n",
       "\t\t<dd>1.32018380545401</dd>\n",
       "\t<dt>mass_700</dt>\n",
       "\t\t<dd>0.0578812040818666</dd>\n",
       "</dl>\n"
      ],
      "text/latex": [
       "\\begin{description*}\n",
       "\\item[mass\\textbackslash{}\\_400] 1.347245978315\n",
       "\\item[mass\\textbackslash{}\\_500] 1.32018380545401\n",
       "\\item[mass\\textbackslash{}\\_700] 0.0578812040818666\n",
       "\\end{description*}\n"
      ],
      "text/markdown": [
       "mass_400\n",
       ":   1.347245978315mass_500\n",
       ":   1.32018380545401mass_700\n",
       ":   0.0578812040818666\n",
       "\n"
      ],
      "text/plain": [
       " mass_400  mass_500  mass_700 \n",
       "1.3472460 1.3201838 0.0578812 "
      ]
     },
     "metadata": {},
     "output_type": "display_data"
    }
   ],
   "source": [
    "fch"
   ]
  },
  {
   "cell_type": "code",
   "execution_count": 10,
   "metadata": {
    "scrolled": false
   },
   "outputs": [],
   "source": [
    "df <- data.frame(fch,pval, pAdj)\n",
    "write.csv(df, \"PE-time-RVB-wilcox-1C-3E.csv\")"
   ]
  },
  {
   "cell_type": "code",
   "execution_count": null,
   "metadata": {},
   "outputs": [],
   "source": []
  },
  {
   "cell_type": "code",
   "execution_count": null,
   "metadata": {},
   "outputs": [],
   "source": []
  },
  {
   "cell_type": "code",
   "execution_count": null,
   "metadata": {},
   "outputs": [],
   "source": []
  },
  {
   "cell_type": "code",
   "execution_count": null,
   "metadata": {},
   "outputs": [],
   "source": []
  },
  {
   "cell_type": "code",
   "execution_count": null,
   "metadata": {},
   "outputs": [],
   "source": []
  },
  {
   "cell_type": "code",
   "execution_count": null,
   "metadata": {},
   "outputs": [],
   "source": []
  }
 ],
 "metadata": {
  "kernelspec": {
   "display_name": "R",
   "language": "R",
   "name": "ir"
  },
  "language_info": {
   "codemirror_mode": "r",
   "file_extension": ".r",
   "mimetype": "text/x-r-source",
   "name": "R",
   "pygments_lexer": "r",
   "version": "3.6.1"
  }
 },
 "nbformat": 4,
 "nbformat_minor": 2
}
