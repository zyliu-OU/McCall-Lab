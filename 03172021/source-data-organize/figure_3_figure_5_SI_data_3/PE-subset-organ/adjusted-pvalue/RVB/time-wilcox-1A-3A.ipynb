{
 "cells": [
  {
   "cell_type": "code",
   "execution_count": 1,
   "metadata": {},
   "outputs": [],
   "source": [
    "a <- read.csv(\"03172021-PE-time-RVB-M-F.csv\")"
   ]
  },
  {
   "cell_type": "code",
   "execution_count": 2,
   "metadata": {},
   "outputs": [
    {
     "data": {
      "text/html": [
       "<table>\n",
       "<thead><tr><th scope=col>filename</th><th scope=col>MouseID</th><th scope=col>Treatmentgroup</th><th scope=col>status</th><th scope=col>DPI</th><th scope=col>organ</th><th scope=col>well_position</th><th scope=col>plate</th><th scope=col>mass_400</th><th scope=col>mass_500</th><th scope=col>mass_600</th><th scope=col>mass_700</th><th scope=col>mass_800</th></tr></thead>\n",
       "<tbody>\n",
       "\t<tr><td>X501_Group1A_50dpi_RV_bottom_251_B_A1_P141.mzXML</td><td>501                                             </td><td>Group1A                                         </td><td>naive                                           </td><td>50dpi                                           </td><td>RV_bottom                                       </td><td>A1                                              </td><td>P141                                            </td><td>0.002313098                                     </td><td>0.005796944                                     </td><td>0.000054700                                     </td><td>0.000000000                                     </td><td>0.000000000                                     </td></tr>\n",
       "\t<tr><td>X502_Group1A_50dpi_RV_bottom_252_B_A2_P141.mzXML</td><td>502                                             </td><td>Group1A                                         </td><td>naive                                           </td><td>50dpi                                           </td><td>RV_bottom                                       </td><td>A2                                              </td><td>P141                                            </td><td>0.003466935                                     </td><td>0.010414469                                     </td><td>0.000750452                                     </td><td>0.009553372                                     </td><td>0.000984617                                     </td></tr>\n",
       "\t<tr><td>X503_Group1A_50dpi_RV_bottom_253_B_A3_P141.mzXML</td><td>503                                             </td><td>Group1A                                         </td><td>naive                                           </td><td>50dpi                                           </td><td>RV_bottom                                       </td><td>A3                                              </td><td>P141                                            </td><td>0.002111373                                     </td><td>0.004602643                                     </td><td>0.000100047                                     </td><td>0.004421777                                     </td><td>0.000441179                                     </td></tr>\n",
       "\t<tr><td>X504_Group1A_50dpi_RV_bottom_254_B_A4_P141.mzXML</td><td>504                                             </td><td>Group1A                                         </td><td>naive                                           </td><td>50dpi                                           </td><td>RV_bottom                                       </td><td>A4                                              </td><td>P141                                            </td><td>0.001233346                                     </td><td>0.003703104                                     </td><td>0.000000000                                     </td><td>0.000801042                                     </td><td>0.000000000                                     </td></tr>\n",
       "\t<tr><td>X505_Group1A_50dpi_RV_bottom_255_B_A5_P141.mzXML</td><td>505                                             </td><td>Group1A                                         </td><td>naive                                           </td><td>50dpi                                           </td><td>RV_bottom                                       </td><td>A5                                              </td><td>P141                                            </td><td>0.001098560                                     </td><td>0.003283440                                     </td><td>0.000000000                                     </td><td>0.000452443                                     </td><td>0.000000000                                     </td></tr>\n",
       "\t<tr><td>X521_Group1A_50dpi_RV_bottom_256_B_A6_P141.mzXML</td><td>521                                             </td><td>Group1A                                         </td><td>naive                                           </td><td>50dpi                                           </td><td>RV_bottom                                       </td><td>A6                                              </td><td>P141                                            </td><td>0.001121125                                     </td><td>0.003342968                                     </td><td>0.000000000                                     </td><td>0.000000000                                     </td><td>0.000000000                                     </td></tr>\n",
       "</tbody>\n",
       "</table>\n"
      ],
      "text/latex": [
       "\\begin{tabular}{r|lllllllllllll}\n",
       " filename & MouseID & Treatmentgroup & status & DPI & organ & well\\_position & plate & mass\\_400 & mass\\_500 & mass\\_600 & mass\\_700 & mass\\_800\\\\\n",
       "\\hline\n",
       "\t X501\\_Group1A\\_50dpi\\_RV\\_bottom\\_251\\_B\\_A1\\_P141.mzXML & 501                                                              & Group1A                                                          & naive                                                            & 50dpi                                                            & RV\\_bottom                                                      & A1                                                               & P141                                                             & 0.002313098                                                      & 0.005796944                                                      & 0.000054700                                                      & 0.000000000                                                      & 0.000000000                                                     \\\\\n",
       "\t X502\\_Group1A\\_50dpi\\_RV\\_bottom\\_252\\_B\\_A2\\_P141.mzXML & 502                                                              & Group1A                                                          & naive                                                            & 50dpi                                                            & RV\\_bottom                                                      & A2                                                               & P141                                                             & 0.003466935                                                      & 0.010414469                                                      & 0.000750452                                                      & 0.009553372                                                      & 0.000984617                                                     \\\\\n",
       "\t X503\\_Group1A\\_50dpi\\_RV\\_bottom\\_253\\_B\\_A3\\_P141.mzXML & 503                                                              & Group1A                                                          & naive                                                            & 50dpi                                                            & RV\\_bottom                                                      & A3                                                               & P141                                                             & 0.002111373                                                      & 0.004602643                                                      & 0.000100047                                                      & 0.004421777                                                      & 0.000441179                                                     \\\\\n",
       "\t X504\\_Group1A\\_50dpi\\_RV\\_bottom\\_254\\_B\\_A4\\_P141.mzXML & 504                                                              & Group1A                                                          & naive                                                            & 50dpi                                                            & RV\\_bottom                                                      & A4                                                               & P141                                                             & 0.001233346                                                      & 0.003703104                                                      & 0.000000000                                                      & 0.000801042                                                      & 0.000000000                                                     \\\\\n",
       "\t X505\\_Group1A\\_50dpi\\_RV\\_bottom\\_255\\_B\\_A5\\_P141.mzXML & 505                                                              & Group1A                                                          & naive                                                            & 50dpi                                                            & RV\\_bottom                                                      & A5                                                               & P141                                                             & 0.001098560                                                      & 0.003283440                                                      & 0.000000000                                                      & 0.000452443                                                      & 0.000000000                                                     \\\\\n",
       "\t X521\\_Group1A\\_50dpi\\_RV\\_bottom\\_256\\_B\\_A6\\_P141.mzXML & 521                                                              & Group1A                                                          & naive                                                            & 50dpi                                                            & RV\\_bottom                                                      & A6                                                               & P141                                                             & 0.001121125                                                      & 0.003342968                                                      & 0.000000000                                                      & 0.000000000                                                      & 0.000000000                                                     \\\\\n",
       "\\end{tabular}\n"
      ],
      "text/markdown": [
       "\n",
       "| filename | MouseID | Treatmentgroup | status | DPI | organ | well_position | plate | mass_400 | mass_500 | mass_600 | mass_700 | mass_800 |\n",
       "|---|---|---|---|---|---|---|---|---|---|---|---|---|\n",
       "| X501_Group1A_50dpi_RV_bottom_251_B_A1_P141.mzXML | 501                                              | Group1A                                          | naive                                            | 50dpi                                            | RV_bottom                                        | A1                                               | P141                                             | 0.002313098                                      | 0.005796944                                      | 0.000054700                                      | 0.000000000                                      | 0.000000000                                      |\n",
       "| X502_Group1A_50dpi_RV_bottom_252_B_A2_P141.mzXML | 502                                              | Group1A                                          | naive                                            | 50dpi                                            | RV_bottom                                        | A2                                               | P141                                             | 0.003466935                                      | 0.010414469                                      | 0.000750452                                      | 0.009553372                                      | 0.000984617                                      |\n",
       "| X503_Group1A_50dpi_RV_bottom_253_B_A3_P141.mzXML | 503                                              | Group1A                                          | naive                                            | 50dpi                                            | RV_bottom                                        | A3                                               | P141                                             | 0.002111373                                      | 0.004602643                                      | 0.000100047                                      | 0.004421777                                      | 0.000441179                                      |\n",
       "| X504_Group1A_50dpi_RV_bottom_254_B_A4_P141.mzXML | 504                                              | Group1A                                          | naive                                            | 50dpi                                            | RV_bottom                                        | A4                                               | P141                                             | 0.001233346                                      | 0.003703104                                      | 0.000000000                                      | 0.000801042                                      | 0.000000000                                      |\n",
       "| X505_Group1A_50dpi_RV_bottom_255_B_A5_P141.mzXML | 505                                              | Group1A                                          | naive                                            | 50dpi                                            | RV_bottom                                        | A5                                               | P141                                             | 0.001098560                                      | 0.003283440                                      | 0.000000000                                      | 0.000452443                                      | 0.000000000                                      |\n",
       "| X521_Group1A_50dpi_RV_bottom_256_B_A6_P141.mzXML | 521                                              | Group1A                                          | naive                                            | 50dpi                                            | RV_bottom                                        | A6                                               | P141                                             | 0.001121125                                      | 0.003342968                                      | 0.000000000                                      | 0.000000000                                      | 0.000000000                                      |\n",
       "\n"
      ],
      "text/plain": [
       "  filename                                         MouseID Treatmentgroup\n",
       "1 X501_Group1A_50dpi_RV_bottom_251_B_A1_P141.mzXML 501     Group1A       \n",
       "2 X502_Group1A_50dpi_RV_bottom_252_B_A2_P141.mzXML 502     Group1A       \n",
       "3 X503_Group1A_50dpi_RV_bottom_253_B_A3_P141.mzXML 503     Group1A       \n",
       "4 X504_Group1A_50dpi_RV_bottom_254_B_A4_P141.mzXML 504     Group1A       \n",
       "5 X505_Group1A_50dpi_RV_bottom_255_B_A5_P141.mzXML 505     Group1A       \n",
       "6 X521_Group1A_50dpi_RV_bottom_256_B_A6_P141.mzXML 521     Group1A       \n",
       "  status DPI   organ     well_position plate mass_400    mass_500   \n",
       "1 naive  50dpi RV_bottom A1            P141  0.002313098 0.005796944\n",
       "2 naive  50dpi RV_bottom A2            P141  0.003466935 0.010414469\n",
       "3 naive  50dpi RV_bottom A3            P141  0.002111373 0.004602643\n",
       "4 naive  50dpi RV_bottom A4            P141  0.001233346 0.003703104\n",
       "5 naive  50dpi RV_bottom A5            P141  0.001098560 0.003283440\n",
       "6 naive  50dpi RV_bottom A6            P141  0.001121125 0.003342968\n",
       "  mass_600    mass_700    mass_800   \n",
       "1 0.000054700 0.000000000 0.000000000\n",
       "2 0.000750452 0.009553372 0.000984617\n",
       "3 0.000100047 0.004421777 0.000441179\n",
       "4 0.000000000 0.000801042 0.000000000\n",
       "5 0.000000000 0.000452443 0.000000000\n",
       "6 0.000000000 0.000000000 0.000000000"
      ]
     },
     "metadata": {},
     "output_type": "display_data"
    },
    {
     "data": {
      "text/html": [
       "<ol class=list-inline>\n",
       "\t<li>90</li>\n",
       "\t<li>13</li>\n",
       "</ol>\n"
      ],
      "text/latex": [
       "\\begin{enumerate*}\n",
       "\\item 90\n",
       "\\item 13\n",
       "\\end{enumerate*}\n"
      ],
      "text/markdown": [
       "1. 90\n",
       "2. 13\n",
       "\n",
       "\n"
      ],
      "text/plain": [
       "[1] 90 13"
      ]
     },
     "metadata": {},
     "output_type": "display_data"
    }
   ],
   "source": [
    "head(a)\n",
    "dim(a)"
   ]
  },
  {
   "cell_type": "code",
   "execution_count": 3,
   "metadata": {},
   "outputs": [
    {
     "data": {
      "text/html": [
       "<table>\n",
       "<thead><tr><th scope=col>filename</th><th scope=col>MouseID</th><th scope=col>Treatmentgroup</th><th scope=col>status</th><th scope=col>DPI</th><th scope=col>organ</th><th scope=col>well_position</th><th scope=col>plate</th><th scope=col>mass_400</th><th scope=col>mass_500</th><th scope=col>mass_600</th><th scope=col>mass_700</th><th scope=col>mass_800</th></tr></thead>\n",
       "<tbody>\n",
       "\t<tr><td>X501_Group1A_50dpi_RV_bottom_251_B_A1_P141.mzXML</td><td>501                                             </td><td>Group1A                                         </td><td>naive                                           </td><td>50dpi                                           </td><td>RV_bottom                                       </td><td>A1                                              </td><td>P141                                            </td><td>0.002313098                                     </td><td>0.005796944                                     </td><td>0.000054700                                     </td><td>0.000000000                                     </td><td>0.000000000                                     </td></tr>\n",
       "\t<tr><td>X502_Group1A_50dpi_RV_bottom_252_B_A2_P141.mzXML</td><td>502                                             </td><td>Group1A                                         </td><td>naive                                           </td><td>50dpi                                           </td><td>RV_bottom                                       </td><td>A2                                              </td><td>P141                                            </td><td>0.003466935                                     </td><td>0.010414469                                     </td><td>0.000750452                                     </td><td>0.009553372                                     </td><td>0.000984617                                     </td></tr>\n",
       "\t<tr><td>X503_Group1A_50dpi_RV_bottom_253_B_A3_P141.mzXML</td><td>503                                             </td><td>Group1A                                         </td><td>naive                                           </td><td>50dpi                                           </td><td>RV_bottom                                       </td><td>A3                                              </td><td>P141                                            </td><td>0.002111373                                     </td><td>0.004602643                                     </td><td>0.000100047                                     </td><td>0.004421777                                     </td><td>0.000441179                                     </td></tr>\n",
       "\t<tr><td>X504_Group1A_50dpi_RV_bottom_254_B_A4_P141.mzXML</td><td>504                                             </td><td>Group1A                                         </td><td>naive                                           </td><td>50dpi                                           </td><td>RV_bottom                                       </td><td>A4                                              </td><td>P141                                            </td><td>0.001233346                                     </td><td>0.003703104                                     </td><td>0.000000000                                     </td><td>0.000801042                                     </td><td>0.000000000                                     </td></tr>\n",
       "\t<tr><td>X505_Group1A_50dpi_RV_bottom_255_B_A5_P141.mzXML</td><td>505                                             </td><td>Group1A                                         </td><td>naive                                           </td><td>50dpi                                           </td><td>RV_bottom                                       </td><td>A5                                              </td><td>P141                                            </td><td>0.001098560                                     </td><td>0.003283440                                     </td><td>0.000000000                                     </td><td>0.000452443                                     </td><td>0.000000000                                     </td></tr>\n",
       "\t<tr><td>X521_Group1A_50dpi_RV_bottom_256_B_A6_P141.mzXML</td><td>521                                             </td><td>Group1A                                         </td><td>naive                                           </td><td>50dpi                                           </td><td>RV_bottom                                       </td><td>A6                                              </td><td>P141                                            </td><td>0.001121125                                     </td><td>0.003342968                                     </td><td>0.000000000                                     </td><td>0.000000000                                     </td><td>0.000000000                                     </td></tr>\n",
       "</tbody>\n",
       "</table>\n"
      ],
      "text/latex": [
       "\\begin{tabular}{r|lllllllllllll}\n",
       " filename & MouseID & Treatmentgroup & status & DPI & organ & well\\_position & plate & mass\\_400 & mass\\_500 & mass\\_600 & mass\\_700 & mass\\_800\\\\\n",
       "\\hline\n",
       "\t X501\\_Group1A\\_50dpi\\_RV\\_bottom\\_251\\_B\\_A1\\_P141.mzXML & 501                                                              & Group1A                                                          & naive                                                            & 50dpi                                                            & RV\\_bottom                                                      & A1                                                               & P141                                                             & 0.002313098                                                      & 0.005796944                                                      & 0.000054700                                                      & 0.000000000                                                      & 0.000000000                                                     \\\\\n",
       "\t X502\\_Group1A\\_50dpi\\_RV\\_bottom\\_252\\_B\\_A2\\_P141.mzXML & 502                                                              & Group1A                                                          & naive                                                            & 50dpi                                                            & RV\\_bottom                                                      & A2                                                               & P141                                                             & 0.003466935                                                      & 0.010414469                                                      & 0.000750452                                                      & 0.009553372                                                      & 0.000984617                                                     \\\\\n",
       "\t X503\\_Group1A\\_50dpi\\_RV\\_bottom\\_253\\_B\\_A3\\_P141.mzXML & 503                                                              & Group1A                                                          & naive                                                            & 50dpi                                                            & RV\\_bottom                                                      & A3                                                               & P141                                                             & 0.002111373                                                      & 0.004602643                                                      & 0.000100047                                                      & 0.004421777                                                      & 0.000441179                                                     \\\\\n",
       "\t X504\\_Group1A\\_50dpi\\_RV\\_bottom\\_254\\_B\\_A4\\_P141.mzXML & 504                                                              & Group1A                                                          & naive                                                            & 50dpi                                                            & RV\\_bottom                                                      & A4                                                               & P141                                                             & 0.001233346                                                      & 0.003703104                                                      & 0.000000000                                                      & 0.000801042                                                      & 0.000000000                                                     \\\\\n",
       "\t X505\\_Group1A\\_50dpi\\_RV\\_bottom\\_255\\_B\\_A5\\_P141.mzXML & 505                                                              & Group1A                                                          & naive                                                            & 50dpi                                                            & RV\\_bottom                                                      & A5                                                               & P141                                                             & 0.001098560                                                      & 0.003283440                                                      & 0.000000000                                                      & 0.000452443                                                      & 0.000000000                                                     \\\\\n",
       "\t X521\\_Group1A\\_50dpi\\_RV\\_bottom\\_256\\_B\\_A6\\_P141.mzXML & 521                                                              & Group1A                                                          & naive                                                            & 50dpi                                                            & RV\\_bottom                                                      & A6                                                               & P141                                                             & 0.001121125                                                      & 0.003342968                                                      & 0.000000000                                                      & 0.000000000                                                      & 0.000000000                                                     \\\\\n",
       "\\end{tabular}\n"
      ],
      "text/markdown": [
       "\n",
       "| filename | MouseID | Treatmentgroup | status | DPI | organ | well_position | plate | mass_400 | mass_500 | mass_600 | mass_700 | mass_800 |\n",
       "|---|---|---|---|---|---|---|---|---|---|---|---|---|\n",
       "| X501_Group1A_50dpi_RV_bottom_251_B_A1_P141.mzXML | 501                                              | Group1A                                          | naive                                            | 50dpi                                            | RV_bottom                                        | A1                                               | P141                                             | 0.002313098                                      | 0.005796944                                      | 0.000054700                                      | 0.000000000                                      | 0.000000000                                      |\n",
       "| X502_Group1A_50dpi_RV_bottom_252_B_A2_P141.mzXML | 502                                              | Group1A                                          | naive                                            | 50dpi                                            | RV_bottom                                        | A2                                               | P141                                             | 0.003466935                                      | 0.010414469                                      | 0.000750452                                      | 0.009553372                                      | 0.000984617                                      |\n",
       "| X503_Group1A_50dpi_RV_bottom_253_B_A3_P141.mzXML | 503                                              | Group1A                                          | naive                                            | 50dpi                                            | RV_bottom                                        | A3                                               | P141                                             | 0.002111373                                      | 0.004602643                                      | 0.000100047                                      | 0.004421777                                      | 0.000441179                                      |\n",
       "| X504_Group1A_50dpi_RV_bottom_254_B_A4_P141.mzXML | 504                                              | Group1A                                          | naive                                            | 50dpi                                            | RV_bottom                                        | A4                                               | P141                                             | 0.001233346                                      | 0.003703104                                      | 0.000000000                                      | 0.000801042                                      | 0.000000000                                      |\n",
       "| X505_Group1A_50dpi_RV_bottom_255_B_A5_P141.mzXML | 505                                              | Group1A                                          | naive                                            | 50dpi                                            | RV_bottom                                        | A5                                               | P141                                             | 0.001098560                                      | 0.003283440                                      | 0.000000000                                      | 0.000452443                                      | 0.000000000                                      |\n",
       "| X521_Group1A_50dpi_RV_bottom_256_B_A6_P141.mzXML | 521                                              | Group1A                                          | naive                                            | 50dpi                                            | RV_bottom                                        | A6                                               | P141                                             | 0.001121125                                      | 0.003342968                                      | 0.000000000                                      | 0.000000000                                      | 0.000000000                                      |\n",
       "\n"
      ],
      "text/plain": [
       "  filename                                         MouseID Treatmentgroup\n",
       "1 X501_Group1A_50dpi_RV_bottom_251_B_A1_P141.mzXML 501     Group1A       \n",
       "2 X502_Group1A_50dpi_RV_bottom_252_B_A2_P141.mzXML 502     Group1A       \n",
       "3 X503_Group1A_50dpi_RV_bottom_253_B_A3_P141.mzXML 503     Group1A       \n",
       "4 X504_Group1A_50dpi_RV_bottom_254_B_A4_P141.mzXML 504     Group1A       \n",
       "5 X505_Group1A_50dpi_RV_bottom_255_B_A5_P141.mzXML 505     Group1A       \n",
       "6 X521_Group1A_50dpi_RV_bottom_256_B_A6_P141.mzXML 521     Group1A       \n",
       "  status DPI   organ     well_position plate mass_400    mass_500   \n",
       "1 naive  50dpi RV_bottom A1            P141  0.002313098 0.005796944\n",
       "2 naive  50dpi RV_bottom A2            P141  0.003466935 0.010414469\n",
       "3 naive  50dpi RV_bottom A3            P141  0.002111373 0.004602643\n",
       "4 naive  50dpi RV_bottom A4            P141  0.001233346 0.003703104\n",
       "5 naive  50dpi RV_bottom A5            P141  0.001098560 0.003283440\n",
       "6 naive  50dpi RV_bottom A6            P141  0.001121125 0.003342968\n",
       "  mass_600    mass_700    mass_800   \n",
       "1 0.000054700 0.000000000 0.000000000\n",
       "2 0.000750452 0.009553372 0.000984617\n",
       "3 0.000100047 0.004421777 0.000441179\n",
       "4 0.000000000 0.000801042 0.000000000\n",
       "5 0.000000000 0.000452443 0.000000000\n",
       "6 0.000000000 0.000000000 0.000000000"
      ]
     },
     "metadata": {},
     "output_type": "display_data"
    },
    {
     "data": {
      "text/html": [
       "<ol class=list-inline>\n",
       "\t<li>30</li>\n",
       "\t<li>13</li>\n",
       "</ol>\n"
      ],
      "text/latex": [
       "\\begin{enumerate*}\n",
       "\\item 30\n",
       "\\item 13\n",
       "\\end{enumerate*}\n"
      ],
      "text/markdown": [
       "1. 30\n",
       "2. 13\n",
       "\n",
       "\n"
      ],
      "text/plain": [
       "[1] 30 13"
      ]
     },
     "metadata": {},
     "output_type": "display_data"
    }
   ],
   "source": [
    "features_pos<-droplevels(subset(a, a$Treatmentgroup==c(\"Group1A\")|a$Treatmentgroup==c(\"Group3A\")))\n",
    "head(features_pos)\n",
    "dim(features_pos)"
   ]
  },
  {
   "cell_type": "code",
   "execution_count": 4,
   "metadata": {
    "scrolled": false
   },
   "outputs": [
    {
     "data": {
      "text/html": [
       "<table>\n",
       "<thead><tr><th scope=col>mass_400</th><th scope=col>mass_500</th><th scope=col>mass_600</th><th scope=col>mass_700</th><th scope=col>mass_800</th></tr></thead>\n",
       "<tbody>\n",
       "\t<tr><td>0.002313098</td><td>0.005796944</td><td>0.000054700</td><td>0.000000000</td><td>0.000000000</td></tr>\n",
       "\t<tr><td>0.003466935</td><td>0.010414469</td><td>0.000750452</td><td>0.009553372</td><td>0.000984617</td></tr>\n",
       "\t<tr><td>0.002111373</td><td>0.004602643</td><td>0.000100047</td><td>0.004421777</td><td>0.000441179</td></tr>\n",
       "\t<tr><td>0.001233346</td><td>0.003703104</td><td>0.000000000</td><td>0.000801042</td><td>0.000000000</td></tr>\n",
       "\t<tr><td>0.001098560</td><td>0.003283440</td><td>0.000000000</td><td>0.000452443</td><td>0.000000000</td></tr>\n",
       "\t<tr><td>0.001121125</td><td>0.003342968</td><td>0.000000000</td><td>0.000000000</td><td>0.000000000</td></tr>\n",
       "</tbody>\n",
       "</table>\n"
      ],
      "text/latex": [
       "\\begin{tabular}{r|lllll}\n",
       " mass\\_400 & mass\\_500 & mass\\_600 & mass\\_700 & mass\\_800\\\\\n",
       "\\hline\n",
       "\t 0.002313098 & 0.005796944 & 0.000054700 & 0.000000000 & 0.000000000\\\\\n",
       "\t 0.003466935 & 0.010414469 & 0.000750452 & 0.009553372 & 0.000984617\\\\\n",
       "\t 0.002111373 & 0.004602643 & 0.000100047 & 0.004421777 & 0.000441179\\\\\n",
       "\t 0.001233346 & 0.003703104 & 0.000000000 & 0.000801042 & 0.000000000\\\\\n",
       "\t 0.001098560 & 0.003283440 & 0.000000000 & 0.000452443 & 0.000000000\\\\\n",
       "\t 0.001121125 & 0.003342968 & 0.000000000 & 0.000000000 & 0.000000000\\\\\n",
       "\\end{tabular}\n"
      ],
      "text/markdown": [
       "\n",
       "| mass_400 | mass_500 | mass_600 | mass_700 | mass_800 |\n",
       "|---|---|---|---|---|\n",
       "| 0.002313098 | 0.005796944 | 0.000054700 | 0.000000000 | 0.000000000 |\n",
       "| 0.003466935 | 0.010414469 | 0.000750452 | 0.009553372 | 0.000984617 |\n",
       "| 0.002111373 | 0.004602643 | 0.000100047 | 0.004421777 | 0.000441179 |\n",
       "| 0.001233346 | 0.003703104 | 0.000000000 | 0.000801042 | 0.000000000 |\n",
       "| 0.001098560 | 0.003283440 | 0.000000000 | 0.000452443 | 0.000000000 |\n",
       "| 0.001121125 | 0.003342968 | 0.000000000 | 0.000000000 | 0.000000000 |\n",
       "\n"
      ],
      "text/plain": [
       "  mass_400    mass_500    mass_600    mass_700    mass_800   \n",
       "1 0.002313098 0.005796944 0.000054700 0.000000000 0.000000000\n",
       "2 0.003466935 0.010414469 0.000750452 0.009553372 0.000984617\n",
       "3 0.002111373 0.004602643 0.000100047 0.004421777 0.000441179\n",
       "4 0.001233346 0.003703104 0.000000000 0.000801042 0.000000000\n",
       "5 0.001098560 0.003283440 0.000000000 0.000452443 0.000000000\n",
       "6 0.001121125 0.003342968 0.000000000 0.000000000 0.000000000"
      ]
     },
     "metadata": {},
     "output_type": "display_data"
    },
    {
     "data": {
      "text/html": [
       "<dl class=dl-horizontal>\n",
       "\t<dt>mass_400</dt>\n",
       "\t\t<dd>1</dd>\n",
       "\t<dt>mass_500</dt>\n",
       "\t\t<dd>2</dd>\n",
       "\t<dt>mass_600</dt>\n",
       "\t\t<dd>3</dd>\n",
       "\t<dt>mass_700</dt>\n",
       "\t\t<dd>4</dd>\n",
       "\t<dt>mass_800</dt>\n",
       "\t\t<dd>5</dd>\n",
       "</dl>\n"
      ],
      "text/latex": [
       "\\begin{description*}\n",
       "\\item[mass\\textbackslash{}\\_400] 1\n",
       "\\item[mass\\textbackslash{}\\_500] 2\n",
       "\\item[mass\\textbackslash{}\\_600] 3\n",
       "\\item[mass\\textbackslash{}\\_700] 4\n",
       "\\item[mass\\textbackslash{}\\_800] 5\n",
       "\\end{description*}\n"
      ],
      "text/markdown": [
       "mass_400\n",
       ":   1mass_500\n",
       ":   2mass_600\n",
       ":   3mass_700\n",
       ":   4mass_800\n",
       ":   5\n",
       "\n"
      ],
      "text/plain": [
       "mass_400 mass_500 mass_600 mass_700 mass_800 \n",
       "       1        2        3        4        5 "
      ]
     },
     "metadata": {},
     "output_type": "display_data"
    },
    {
     "data": {
      "text/html": [
       "<table>\n",
       "<thead><tr><th></th><th scope=col>mass_400</th><th scope=col>mass_500</th><th scope=col>mass_600</th><th scope=col>mass_700</th><th scope=col>mass_800</th></tr></thead>\n",
       "<tbody>\n",
       "\t<tr><th scope=row>1</th><td>0.002313098</td><td>0.005796944</td><td>0.000054700</td><td>0.000000000</td><td>0.000000000</td></tr>\n",
       "\t<tr><th scope=row>2</th><td>0.003466935</td><td>0.010414469</td><td>0.000750452</td><td>0.009553372</td><td>0.000984617</td></tr>\n",
       "\t<tr><th scope=row>3</th><td>0.002111373</td><td>0.004602643</td><td>0.000100047</td><td>0.004421777</td><td>0.000441179</td></tr>\n",
       "\t<tr><th scope=row>4</th><td>0.001233346</td><td>0.003703104</td><td>0.000000000</td><td>0.000801042</td><td>0.000000000</td></tr>\n",
       "\t<tr><th scope=row>5</th><td>0.001098560</td><td>0.003283440</td><td>0.000000000</td><td>0.000452443</td><td>0.000000000</td></tr>\n",
       "\t<tr><th scope=row>6</th><td>0.001121125</td><td>0.003342968</td><td>0.000000000</td><td>0.000000000</td><td>0.000000000</td></tr>\n",
       "\t<tr><th scope=row>7</th><td>0.000671581</td><td>0.002616693</td><td>0.000000000</td><td>0.000000000</td><td>0.000000000</td></tr>\n",
       "\t<tr><th scope=row>8</th><td>0.002048884</td><td>0.005757983</td><td>0.000000000</td><td>0.000000000</td><td>0.000000000</td></tr>\n",
       "\t<tr><th scope=row>9</th><td>0.001117828</td><td>0.007541047</td><td>0.000000000</td><td>0.000285754</td><td>0.000000000</td></tr>\n",
       "\t<tr><th scope=row>10</th><td>0.001033743</td><td>0.003375368</td><td>0.000000000</td><td>0.000000000</td><td>0.000000000</td></tr>\n",
       "\t<tr><th scope=row>11</th><td>0.001183638</td><td>0.005218858</td><td>0.000000000</td><td>0.000000000</td><td>0.000000000</td></tr>\n",
       "\t<tr><th scope=row>12</th><td>0.001561074</td><td>0.004966668</td><td>0.000071800</td><td>0.000000000</td><td>0.000000000</td></tr>\n",
       "\t<tr><th scope=row>13</th><td>0.001671901</td><td>0.005998015</td><td>0.000000000</td><td>0.000090800</td><td>0.000000000</td></tr>\n",
       "\t<tr><th scope=row>14</th><td>0.002440329</td><td>0.007325820</td><td>0.000000000</td><td>0.001169197</td><td>0.000056700</td></tr>\n",
       "\t<tr><th scope=row>15</th><td>0.002733348</td><td>0.006814741</td><td>0.000162085</td><td>0.000441732</td><td>0.000047800</td></tr>\n",
       "\t<tr><th scope=row>46</th><td>0.002203902</td><td>0.005612797</td><td>0.000145898</td><td>0.000800484</td><td>0.000102983</td></tr>\n",
       "\t<tr><th scope=row>47</th><td>0.001332564</td><td>0.005206335</td><td>0.000000000</td><td>0.000000000</td><td>0.000000000</td></tr>\n",
       "\t<tr><th scope=row>48</th><td>0.000934394</td><td>0.004479081</td><td>0.000000000</td><td>0.000000000</td><td>0.000000000</td></tr>\n",
       "\t<tr><th scope=row>49</th><td>0.000890460</td><td>0.003945420</td><td>0.000000000</td><td>0.000000000</td><td>0.000000000</td></tr>\n",
       "\t<tr><th scope=row>50</th><td>0.001532473</td><td>0.006947137</td><td>0.000000000</td><td>0.000273593</td><td>0.000000000</td></tr>\n",
       "\t<tr><th scope=row>51</th><td>0.002889984</td><td>0.009978023</td><td>0.000284686</td><td>0.000295427</td><td>0.000054900</td></tr>\n",
       "\t<tr><th scope=row>52</th><td>0.005003355</td><td>0.008943264</td><td>0.000731581</td><td>0.002947907</td><td>0.000481836</td></tr>\n",
       "\t<tr><th scope=row>53</th><td>0.001307610</td><td>0.009297196</td><td>0.000000000</td><td>0.000540720</td><td>0.000000000</td></tr>\n",
       "\t<tr><th scope=row>54</th><td>0.002138051</td><td>0.008222526</td><td>0.000000000</td><td>0.000296774</td><td>0.000059600</td></tr>\n",
       "\t<tr><th scope=row>55</th><td>0.003055227</td><td>0.005690000</td><td>0.000825077</td><td>0.001049578</td><td>0.000939299</td></tr>\n",
       "\t<tr><th scope=row>56</th><td>0.002890404</td><td>0.005470152</td><td>0.000743141</td><td>0.000042500</td><td>0.000000000</td></tr>\n",
       "\t<tr><th scope=row>57</th><td>0.023408727</td><td>0.003230610</td><td>0.000000000</td><td>0.000000000</td><td>0.000000000</td></tr>\n",
       "\t<tr><th scope=row>58</th><td>0.021558772</td><td>0.003599079</td><td>0.000000000</td><td>0.000000000</td><td>0.000000000</td></tr>\n",
       "\t<tr><th scope=row>59</th><td>0.000836286</td><td>0.002423008</td><td>0.000000000</td><td>0.000000000</td><td>0.000000000</td></tr>\n",
       "\t<tr><th scope=row>60</th><td>0.001816661</td><td>0.007281528</td><td>0.000269896</td><td>0.000000000</td><td>0.000000000</td></tr>\n",
       "</tbody>\n",
       "</table>\n"
      ],
      "text/latex": [
       "\\begin{tabular}{r|lllll}\n",
       "  & mass\\_400 & mass\\_500 & mass\\_600 & mass\\_700 & mass\\_800\\\\\n",
       "\\hline\n",
       "\t1 & 0.002313098 & 0.005796944 & 0.000054700 & 0.000000000 & 0.000000000\\\\\n",
       "\t2 & 0.003466935 & 0.010414469 & 0.000750452 & 0.009553372 & 0.000984617\\\\\n",
       "\t3 & 0.002111373 & 0.004602643 & 0.000100047 & 0.004421777 & 0.000441179\\\\\n",
       "\t4 & 0.001233346 & 0.003703104 & 0.000000000 & 0.000801042 & 0.000000000\\\\\n",
       "\t5 & 0.001098560 & 0.003283440 & 0.000000000 & 0.000452443 & 0.000000000\\\\\n",
       "\t6 & 0.001121125 & 0.003342968 & 0.000000000 & 0.000000000 & 0.000000000\\\\\n",
       "\t7 & 0.000671581 & 0.002616693 & 0.000000000 & 0.000000000 & 0.000000000\\\\\n",
       "\t8 & 0.002048884 & 0.005757983 & 0.000000000 & 0.000000000 & 0.000000000\\\\\n",
       "\t9 & 0.001117828 & 0.007541047 & 0.000000000 & 0.000285754 & 0.000000000\\\\\n",
       "\t10 & 0.001033743 & 0.003375368 & 0.000000000 & 0.000000000 & 0.000000000\\\\\n",
       "\t11 & 0.001183638 & 0.005218858 & 0.000000000 & 0.000000000 & 0.000000000\\\\\n",
       "\t12 & 0.001561074 & 0.004966668 & 0.000071800 & 0.000000000 & 0.000000000\\\\\n",
       "\t13 & 0.001671901 & 0.005998015 & 0.000000000 & 0.000090800 & 0.000000000\\\\\n",
       "\t14 & 0.002440329 & 0.007325820 & 0.000000000 & 0.001169197 & 0.000056700\\\\\n",
       "\t15 & 0.002733348 & 0.006814741 & 0.000162085 & 0.000441732 & 0.000047800\\\\\n",
       "\t46 & 0.002203902 & 0.005612797 & 0.000145898 & 0.000800484 & 0.000102983\\\\\n",
       "\t47 & 0.001332564 & 0.005206335 & 0.000000000 & 0.000000000 & 0.000000000\\\\\n",
       "\t48 & 0.000934394 & 0.004479081 & 0.000000000 & 0.000000000 & 0.000000000\\\\\n",
       "\t49 & 0.000890460 & 0.003945420 & 0.000000000 & 0.000000000 & 0.000000000\\\\\n",
       "\t50 & 0.001532473 & 0.006947137 & 0.000000000 & 0.000273593 & 0.000000000\\\\\n",
       "\t51 & 0.002889984 & 0.009978023 & 0.000284686 & 0.000295427 & 0.000054900\\\\\n",
       "\t52 & 0.005003355 & 0.008943264 & 0.000731581 & 0.002947907 & 0.000481836\\\\\n",
       "\t53 & 0.001307610 & 0.009297196 & 0.000000000 & 0.000540720 & 0.000000000\\\\\n",
       "\t54 & 0.002138051 & 0.008222526 & 0.000000000 & 0.000296774 & 0.000059600\\\\\n",
       "\t55 & 0.003055227 & 0.005690000 & 0.000825077 & 0.001049578 & 0.000939299\\\\\n",
       "\t56 & 0.002890404 & 0.005470152 & 0.000743141 & 0.000042500 & 0.000000000\\\\\n",
       "\t57 & 0.023408727 & 0.003230610 & 0.000000000 & 0.000000000 & 0.000000000\\\\\n",
       "\t58 & 0.021558772 & 0.003599079 & 0.000000000 & 0.000000000 & 0.000000000\\\\\n",
       "\t59 & 0.000836286 & 0.002423008 & 0.000000000 & 0.000000000 & 0.000000000\\\\\n",
       "\t60 & 0.001816661 & 0.007281528 & 0.000269896 & 0.000000000 & 0.000000000\\\\\n",
       "\\end{tabular}\n"
      ],
      "text/markdown": [
       "\n",
       "| <!--/--> | mass_400 | mass_500 | mass_600 | mass_700 | mass_800 |\n",
       "|---|---|---|---|---|---|\n",
       "| 1 | 0.002313098 | 0.005796944 | 0.000054700 | 0.000000000 | 0.000000000 |\n",
       "| 2 | 0.003466935 | 0.010414469 | 0.000750452 | 0.009553372 | 0.000984617 |\n",
       "| 3 | 0.002111373 | 0.004602643 | 0.000100047 | 0.004421777 | 0.000441179 |\n",
       "| 4 | 0.001233346 | 0.003703104 | 0.000000000 | 0.000801042 | 0.000000000 |\n",
       "| 5 | 0.001098560 | 0.003283440 | 0.000000000 | 0.000452443 | 0.000000000 |\n",
       "| 6 | 0.001121125 | 0.003342968 | 0.000000000 | 0.000000000 | 0.000000000 |\n",
       "| 7 | 0.000671581 | 0.002616693 | 0.000000000 | 0.000000000 | 0.000000000 |\n",
       "| 8 | 0.002048884 | 0.005757983 | 0.000000000 | 0.000000000 | 0.000000000 |\n",
       "| 9 | 0.001117828 | 0.007541047 | 0.000000000 | 0.000285754 | 0.000000000 |\n",
       "| 10 | 0.001033743 | 0.003375368 | 0.000000000 | 0.000000000 | 0.000000000 |\n",
       "| 11 | 0.001183638 | 0.005218858 | 0.000000000 | 0.000000000 | 0.000000000 |\n",
       "| 12 | 0.001561074 | 0.004966668 | 0.000071800 | 0.000000000 | 0.000000000 |\n",
       "| 13 | 0.001671901 | 0.005998015 | 0.000000000 | 0.000090800 | 0.000000000 |\n",
       "| 14 | 0.002440329 | 0.007325820 | 0.000000000 | 0.001169197 | 0.000056700 |\n",
       "| 15 | 0.002733348 | 0.006814741 | 0.000162085 | 0.000441732 | 0.000047800 |\n",
       "| 46 | 0.002203902 | 0.005612797 | 0.000145898 | 0.000800484 | 0.000102983 |\n",
       "| 47 | 0.001332564 | 0.005206335 | 0.000000000 | 0.000000000 | 0.000000000 |\n",
       "| 48 | 0.000934394 | 0.004479081 | 0.000000000 | 0.000000000 | 0.000000000 |\n",
       "| 49 | 0.000890460 | 0.003945420 | 0.000000000 | 0.000000000 | 0.000000000 |\n",
       "| 50 | 0.001532473 | 0.006947137 | 0.000000000 | 0.000273593 | 0.000000000 |\n",
       "| 51 | 0.002889984 | 0.009978023 | 0.000284686 | 0.000295427 | 0.000054900 |\n",
       "| 52 | 0.005003355 | 0.008943264 | 0.000731581 | 0.002947907 | 0.000481836 |\n",
       "| 53 | 0.001307610 | 0.009297196 | 0.000000000 | 0.000540720 | 0.000000000 |\n",
       "| 54 | 0.002138051 | 0.008222526 | 0.000000000 | 0.000296774 | 0.000059600 |\n",
       "| 55 | 0.003055227 | 0.005690000 | 0.000825077 | 0.001049578 | 0.000939299 |\n",
       "| 56 | 0.002890404 | 0.005470152 | 0.000743141 | 0.000042500 | 0.000000000 |\n",
       "| 57 | 0.023408727 | 0.003230610 | 0.000000000 | 0.000000000 | 0.000000000 |\n",
       "| 58 | 0.021558772 | 0.003599079 | 0.000000000 | 0.000000000 | 0.000000000 |\n",
       "| 59 | 0.000836286 | 0.002423008 | 0.000000000 | 0.000000000 | 0.000000000 |\n",
       "| 60 | 0.001816661 | 0.007281528 | 0.000269896 | 0.000000000 | 0.000000000 |\n",
       "\n"
      ],
      "text/plain": [
       "   mass_400    mass_500    mass_600    mass_700    mass_800   \n",
       "1  0.002313098 0.005796944 0.000054700 0.000000000 0.000000000\n",
       "2  0.003466935 0.010414469 0.000750452 0.009553372 0.000984617\n",
       "3  0.002111373 0.004602643 0.000100047 0.004421777 0.000441179\n",
       "4  0.001233346 0.003703104 0.000000000 0.000801042 0.000000000\n",
       "5  0.001098560 0.003283440 0.000000000 0.000452443 0.000000000\n",
       "6  0.001121125 0.003342968 0.000000000 0.000000000 0.000000000\n",
       "7  0.000671581 0.002616693 0.000000000 0.000000000 0.000000000\n",
       "8  0.002048884 0.005757983 0.000000000 0.000000000 0.000000000\n",
       "9  0.001117828 0.007541047 0.000000000 0.000285754 0.000000000\n",
       "10 0.001033743 0.003375368 0.000000000 0.000000000 0.000000000\n",
       "11 0.001183638 0.005218858 0.000000000 0.000000000 0.000000000\n",
       "12 0.001561074 0.004966668 0.000071800 0.000000000 0.000000000\n",
       "13 0.001671901 0.005998015 0.000000000 0.000090800 0.000000000\n",
       "14 0.002440329 0.007325820 0.000000000 0.001169197 0.000056700\n",
       "15 0.002733348 0.006814741 0.000162085 0.000441732 0.000047800\n",
       "46 0.002203902 0.005612797 0.000145898 0.000800484 0.000102983\n",
       "47 0.001332564 0.005206335 0.000000000 0.000000000 0.000000000\n",
       "48 0.000934394 0.004479081 0.000000000 0.000000000 0.000000000\n",
       "49 0.000890460 0.003945420 0.000000000 0.000000000 0.000000000\n",
       "50 0.001532473 0.006947137 0.000000000 0.000273593 0.000000000\n",
       "51 0.002889984 0.009978023 0.000284686 0.000295427 0.000054900\n",
       "52 0.005003355 0.008943264 0.000731581 0.002947907 0.000481836\n",
       "53 0.001307610 0.009297196 0.000000000 0.000540720 0.000000000\n",
       "54 0.002138051 0.008222526 0.000000000 0.000296774 0.000059600\n",
       "55 0.003055227 0.005690000 0.000825077 0.001049578 0.000939299\n",
       "56 0.002890404 0.005470152 0.000743141 0.000042500 0.000000000\n",
       "57 0.023408727 0.003230610 0.000000000 0.000000000 0.000000000\n",
       "58 0.021558772 0.003599079 0.000000000 0.000000000 0.000000000\n",
       "59 0.000836286 0.002423008 0.000000000 0.000000000 0.000000000\n",
       "60 0.001816661 0.007281528 0.000269896 0.000000000 0.000000000"
      ]
     },
     "metadata": {},
     "output_type": "display_data"
    },
    {
     "data": {
      "text/html": [
       "<table>\n",
       "<thead><tr><th scope=col>filename</th><th scope=col>MouseID</th><th scope=col>Treatmentgroup</th><th scope=col>status</th><th scope=col>DPI</th><th scope=col>organ</th><th scope=col>well_position</th><th scope=col>plate</th><th scope=col>mass_400</th><th scope=col>mass_500</th><th scope=col>mass_600</th><th scope=col>mass_700</th><th scope=col>mass_800</th></tr></thead>\n",
       "<tbody>\n",
       "\t<tr><td>X501_Group1A_50dpi_RV_bottom_251_B_A1_P141.mzXML</td><td>501                                             </td><td>Group1A                                         </td><td>naive                                           </td><td>50dpi                                           </td><td>RV_bottom                                       </td><td>A1                                              </td><td>P141                                            </td><td>0.002313098                                     </td><td>0.005796944                                     </td><td>0.000054700                                     </td><td>0.000000000                                     </td><td>0.000000000                                     </td></tr>\n",
       "\t<tr><td>X502_Group1A_50dpi_RV_bottom_252_B_A2_P141.mzXML</td><td>502                                             </td><td>Group1A                                         </td><td>naive                                           </td><td>50dpi                                           </td><td>RV_bottom                                       </td><td>A2                                              </td><td>P141                                            </td><td>0.003466935                                     </td><td>0.010414469                                     </td><td>0.000750452                                     </td><td>0.009553372                                     </td><td>0.000984617                                     </td></tr>\n",
       "\t<tr><td>X503_Group1A_50dpi_RV_bottom_253_B_A3_P141.mzXML</td><td>503                                             </td><td>Group1A                                         </td><td>naive                                           </td><td>50dpi                                           </td><td>RV_bottom                                       </td><td>A3                                              </td><td>P141                                            </td><td>0.002111373                                     </td><td>0.004602643                                     </td><td>0.000100047                                     </td><td>0.004421777                                     </td><td>0.000441179                                     </td></tr>\n",
       "\t<tr><td>X504_Group1A_50dpi_RV_bottom_254_B_A4_P141.mzXML</td><td>504                                             </td><td>Group1A                                         </td><td>naive                                           </td><td>50dpi                                           </td><td>RV_bottom                                       </td><td>A4                                              </td><td>P141                                            </td><td>0.001233346                                     </td><td>0.003703104                                     </td><td>0.000000000                                     </td><td>0.000801042                                     </td><td>0.000000000                                     </td></tr>\n",
       "\t<tr><td>X505_Group1A_50dpi_RV_bottom_255_B_A5_P141.mzXML</td><td>505                                             </td><td>Group1A                                         </td><td>naive                                           </td><td>50dpi                                           </td><td>RV_bottom                                       </td><td>A5                                              </td><td>P141                                            </td><td>0.001098560                                     </td><td>0.003283440                                     </td><td>0.000000000                                     </td><td>0.000452443                                     </td><td>0.000000000                                     </td></tr>\n",
       "\t<tr><td>X521_Group1A_50dpi_RV_bottom_256_B_A6_P141.mzXML</td><td>521                                             </td><td>Group1A                                         </td><td>naive                                           </td><td>50dpi                                           </td><td>RV_bottom                                       </td><td>A6                                              </td><td>P141                                            </td><td>0.001121125                                     </td><td>0.003342968                                     </td><td>0.000000000                                     </td><td>0.000000000                                     </td><td>0.000000000                                     </td></tr>\n",
       "</tbody>\n",
       "</table>\n"
      ],
      "text/latex": [
       "\\begin{tabular}{r|lllllllllllll}\n",
       " filename & MouseID & Treatmentgroup & status & DPI & organ & well\\_position & plate & mass\\_400 & mass\\_500 & mass\\_600 & mass\\_700 & mass\\_800\\\\\n",
       "\\hline\n",
       "\t X501\\_Group1A\\_50dpi\\_RV\\_bottom\\_251\\_B\\_A1\\_P141.mzXML & 501                                                              & Group1A                                                          & naive                                                            & 50dpi                                                            & RV\\_bottom                                                      & A1                                                               & P141                                                             & 0.002313098                                                      & 0.005796944                                                      & 0.000054700                                                      & 0.000000000                                                      & 0.000000000                                                     \\\\\n",
       "\t X502\\_Group1A\\_50dpi\\_RV\\_bottom\\_252\\_B\\_A2\\_P141.mzXML & 502                                                              & Group1A                                                          & naive                                                            & 50dpi                                                            & RV\\_bottom                                                      & A2                                                               & P141                                                             & 0.003466935                                                      & 0.010414469                                                      & 0.000750452                                                      & 0.009553372                                                      & 0.000984617                                                     \\\\\n",
       "\t X503\\_Group1A\\_50dpi\\_RV\\_bottom\\_253\\_B\\_A3\\_P141.mzXML & 503                                                              & Group1A                                                          & naive                                                            & 50dpi                                                            & RV\\_bottom                                                      & A3                                                               & P141                                                             & 0.002111373                                                      & 0.004602643                                                      & 0.000100047                                                      & 0.004421777                                                      & 0.000441179                                                     \\\\\n",
       "\t X504\\_Group1A\\_50dpi\\_RV\\_bottom\\_254\\_B\\_A4\\_P141.mzXML & 504                                                              & Group1A                                                          & naive                                                            & 50dpi                                                            & RV\\_bottom                                                      & A4                                                               & P141                                                             & 0.001233346                                                      & 0.003703104                                                      & 0.000000000                                                      & 0.000801042                                                      & 0.000000000                                                     \\\\\n",
       "\t X505\\_Group1A\\_50dpi\\_RV\\_bottom\\_255\\_B\\_A5\\_P141.mzXML & 505                                                              & Group1A                                                          & naive                                                            & 50dpi                                                            & RV\\_bottom                                                      & A5                                                               & P141                                                             & 0.001098560                                                      & 0.003283440                                                      & 0.000000000                                                      & 0.000452443                                                      & 0.000000000                                                     \\\\\n",
       "\t X521\\_Group1A\\_50dpi\\_RV\\_bottom\\_256\\_B\\_A6\\_P141.mzXML & 521                                                              & Group1A                                                          & naive                                                            & 50dpi                                                            & RV\\_bottom                                                      & A6                                                               & P141                                                             & 0.001121125                                                      & 0.003342968                                                      & 0.000000000                                                      & 0.000000000                                                      & 0.000000000                                                     \\\\\n",
       "\\end{tabular}\n"
      ],
      "text/markdown": [
       "\n",
       "| filename | MouseID | Treatmentgroup | status | DPI | organ | well_position | plate | mass_400 | mass_500 | mass_600 | mass_700 | mass_800 |\n",
       "|---|---|---|---|---|---|---|---|---|---|---|---|---|\n",
       "| X501_Group1A_50dpi_RV_bottom_251_B_A1_P141.mzXML | 501                                              | Group1A                                          | naive                                            | 50dpi                                            | RV_bottom                                        | A1                                               | P141                                             | 0.002313098                                      | 0.005796944                                      | 0.000054700                                      | 0.000000000                                      | 0.000000000                                      |\n",
       "| X502_Group1A_50dpi_RV_bottom_252_B_A2_P141.mzXML | 502                                              | Group1A                                          | naive                                            | 50dpi                                            | RV_bottom                                        | A2                                               | P141                                             | 0.003466935                                      | 0.010414469                                      | 0.000750452                                      | 0.009553372                                      | 0.000984617                                      |\n",
       "| X503_Group1A_50dpi_RV_bottom_253_B_A3_P141.mzXML | 503                                              | Group1A                                          | naive                                            | 50dpi                                            | RV_bottom                                        | A3                                               | P141                                             | 0.002111373                                      | 0.004602643                                      | 0.000100047                                      | 0.004421777                                      | 0.000441179                                      |\n",
       "| X504_Group1A_50dpi_RV_bottom_254_B_A4_P141.mzXML | 504                                              | Group1A                                          | naive                                            | 50dpi                                            | RV_bottom                                        | A4                                               | P141                                             | 0.001233346                                      | 0.003703104                                      | 0.000000000                                      | 0.000801042                                      | 0.000000000                                      |\n",
       "| X505_Group1A_50dpi_RV_bottom_255_B_A5_P141.mzXML | 505                                              | Group1A                                          | naive                                            | 50dpi                                            | RV_bottom                                        | A5                                               | P141                                             | 0.001098560                                      | 0.003283440                                      | 0.000000000                                      | 0.000452443                                      | 0.000000000                                      |\n",
       "| X521_Group1A_50dpi_RV_bottom_256_B_A6_P141.mzXML | 521                                              | Group1A                                          | naive                                            | 50dpi                                            | RV_bottom                                        | A6                                               | P141                                             | 0.001121125                                      | 0.003342968                                      | 0.000000000                                      | 0.000000000                                      | 0.000000000                                      |\n",
       "\n"
      ],
      "text/plain": [
       "  filename                                         MouseID Treatmentgroup\n",
       "1 X501_Group1A_50dpi_RV_bottom_251_B_A1_P141.mzXML 501     Group1A       \n",
       "2 X502_Group1A_50dpi_RV_bottom_252_B_A2_P141.mzXML 502     Group1A       \n",
       "3 X503_Group1A_50dpi_RV_bottom_253_B_A3_P141.mzXML 503     Group1A       \n",
       "4 X504_Group1A_50dpi_RV_bottom_254_B_A4_P141.mzXML 504     Group1A       \n",
       "5 X505_Group1A_50dpi_RV_bottom_255_B_A5_P141.mzXML 505     Group1A       \n",
       "6 X521_Group1A_50dpi_RV_bottom_256_B_A6_P141.mzXML 521     Group1A       \n",
       "  status DPI   organ     well_position plate mass_400    mass_500   \n",
       "1 naive  50dpi RV_bottom A1            P141  0.002313098 0.005796944\n",
       "2 naive  50dpi RV_bottom A2            P141  0.003466935 0.010414469\n",
       "3 naive  50dpi RV_bottom A3            P141  0.002111373 0.004602643\n",
       "4 naive  50dpi RV_bottom A4            P141  0.001233346 0.003703104\n",
       "5 naive  50dpi RV_bottom A5            P141  0.001098560 0.003283440\n",
       "6 naive  50dpi RV_bottom A6            P141  0.001121125 0.003342968\n",
       "  mass_600    mass_700    mass_800   \n",
       "1 0.000054700 0.000000000 0.000000000\n",
       "2 0.000750452 0.009553372 0.000984617\n",
       "3 0.000100047 0.004421777 0.000441179\n",
       "4 0.000000000 0.000801042 0.000000000\n",
       "5 0.000000000 0.000452443 0.000000000\n",
       "6 0.000000000 0.000000000 0.000000000"
      ]
     },
     "metadata": {},
     "output_type": "display_data"
    },
    {
     "data": {
      "text/html": [
       "<ol class=list-inline>\n",
       "\t<li>30</li>\n",
       "\t<li>13</li>\n",
       "</ol>\n"
      ],
      "text/latex": [
       "\\begin{enumerate*}\n",
       "\\item 30\n",
       "\\item 13\n",
       "\\end{enumerate*}\n"
      ],
      "text/markdown": [
       "1. 30\n",
       "2. 13\n",
       "\n",
       "\n"
      ],
      "text/plain": [
       "[1] 30 13"
      ]
     },
     "metadata": {},
     "output_type": "display_data"
    },
    {
     "data": {
      "text/html": [
       "<ol class=list-inline>\n",
       "\t<li>30</li>\n",
       "\t<li>5</li>\n",
       "</ol>\n"
      ],
      "text/latex": [
       "\\begin{enumerate*}\n",
       "\\item 30\n",
       "\\item 5\n",
       "\\end{enumerate*}\n"
      ],
      "text/markdown": [
       "1. 30\n",
       "2. 5\n",
       "\n",
       "\n"
      ],
      "text/plain": [
       "[1] 30  5"
      ]
     },
     "metadata": {},
     "output_type": "display_data"
    },
    {
     "data": {
      "text/html": [
       "<ol class=list-inline>\n",
       "\t<li>30</li>\n",
       "\t<li>5</li>\n",
       "</ol>\n"
      ],
      "text/latex": [
       "\\begin{enumerate*}\n",
       "\\item 30\n",
       "\\item 5\n",
       "\\end{enumerate*}\n"
      ],
      "text/markdown": [
       "1. 30\n",
       "2. 5\n",
       "\n",
       "\n"
      ],
      "text/plain": [
       "[1] 30  5"
      ]
     },
     "metadata": {},
     "output_type": "display_data"
    },
    {
     "data": {
      "text/html": [
       "<ol class=list-inline>\n",
       "\t<li>30</li>\n",
       "\t<li>13</li>\n",
       "</ol>\n"
      ],
      "text/latex": [
       "\\begin{enumerate*}\n",
       "\\item 30\n",
       "\\item 13\n",
       "\\end{enumerate*}\n"
      ],
      "text/markdown": [
       "1. 30\n",
       "2. 13\n",
       "\n",
       "\n"
      ],
      "text/plain": [
       "[1] 30 13"
      ]
     },
     "metadata": {},
     "output_type": "display_data"
    }
   ],
   "source": [
    "noMeta<-features_pos[,9:13]\n",
    "head(noMeta)\n",
    "not_zero<-which(colSums(noMeta) != 0)\n",
    "head(not_zero)\n",
    "nonzero <- noMeta[, not_zero]\n",
    "nonzero\n",
    "nonzero_wMeta<-cbind(features_pos[,1:8], nonzero)\n",
    "head(nonzero_wMeta)\n",
    "dim(features_pos)\n",
    "dim(noMeta)\n",
    "dim(nonzero)\n",
    "dim(nonzero_wMeta)"
   ]
  },
  {
   "cell_type": "code",
   "execution_count": 5,
   "metadata": {
    "scrolled": true
   },
   "outputs": [
    {
     "name": "stderr",
     "output_type": "stream",
     "text": [
      "Warning message in wilcox.test.default(x = c(5.47e-05, 0.000750452, 0.000100047, :\n",
      "\"cannot compute exact p-value with ties\"Warning message in wilcox.test.default(x = c(0, 0.009553372, 0.004421777, 0.000801042, :\n",
      "\"cannot compute exact p-value with ties\"Warning message in wilcox.test.default(x = c(0, 0.000984617, 0.000441179, 0, 0, :\n",
      "\"cannot compute exact p-value with ties\""
     ]
    },
    {
     "data": {
      "text/html": [
       "<ol class=list-inline>\n",
       "\t<li>0.232811909318818</li>\n",
       "\t<li>0.594883930583728</li>\n",
       "\t<li>0.4423864638728</li>\n",
       "\t<li>0.74280879767076</li>\n",
       "\t<li>0.682352110081621</li>\n",
       "</ol>\n"
      ],
      "text/latex": [
       "\\begin{enumerate*}\n",
       "\\item 0.232811909318818\n",
       "\\item 0.594883930583728\n",
       "\\item 0.4423864638728\n",
       "\\item 0.74280879767076\n",
       "\\item 0.682352110081621\n",
       "\\end{enumerate*}\n"
      ],
      "text/markdown": [
       "1. 0.232811909318818\n",
       "2. 0.594883930583728\n",
       "3. 0.4423864638728\n",
       "4. 0.74280879767076\n",
       "5. 0.682352110081621\n",
       "\n",
       "\n"
      ],
      "text/plain": [
       "[1] 0.2328119 0.5948839 0.4423865 0.7428088 0.6823521"
      ]
     },
     "metadata": {},
     "output_type": "display_data"
    },
    {
     "data": {
      "text/html": [
       "<ol class=list-inline>\n",
       "\t<li>0.74280879767076</li>\n",
       "\t<li>0.74280879767076</li>\n",
       "\t<li>0.74280879767076</li>\n",
       "\t<li>0.74280879767076</li>\n",
       "\t<li>0.74280879767076</li>\n",
       "</ol>\n"
      ],
      "text/latex": [
       "\\begin{enumerate*}\n",
       "\\item 0.74280879767076\n",
       "\\item 0.74280879767076\n",
       "\\item 0.74280879767076\n",
       "\\item 0.74280879767076\n",
       "\\item 0.74280879767076\n",
       "\\end{enumerate*}\n"
      ],
      "text/markdown": [
       "1. 0.74280879767076\n",
       "2. 0.74280879767076\n",
       "3. 0.74280879767076\n",
       "4. 0.74280879767076\n",
       "5. 0.74280879767076\n",
       "\n",
       "\n"
      ],
      "text/plain": [
       "[1] 0.7428088 0.7428088 0.7428088 0.7428088 0.7428088"
      ]
     },
     "metadata": {},
     "output_type": "display_data"
    }
   ],
   "source": [
    "pval<-c()\n",
    "\n",
    "for (i in 9:ncol(nonzero_wMeta)) \n",
    "pval<-c(pval,wilcox.test(nonzero_wMeta[,i]~nonzero_wMeta$Treatmentgroup)$p.value)\n",
    "head(pval)\n",
    "pAdj <- p.adjust(pval, method = c(\"fdr\"), n=length(pval)) \n",
    "head(pAdj) \n",
    "\n"
   ]
  },
  {
   "cell_type": "code",
   "execution_count": 6,
   "metadata": {
    "scrolled": true
   },
   "outputs": [
    {
     "data": {
      "text/html": [
       "5"
      ],
      "text/latex": [
       "5"
      ],
      "text/markdown": [
       "5"
      ],
      "text/plain": [
       "[1] 5"
      ]
     },
     "metadata": {},
     "output_type": "display_data"
    }
   ],
   "source": [
    "length(pval)"
   ]
  },
  {
   "cell_type": "code",
   "execution_count": 7,
   "metadata": {
    "scrolled": true
   },
   "outputs": [
    {
     "data": {
      "text/html": [
       "5"
      ],
      "text/latex": [
       "5"
      ],
      "text/markdown": [
       "5"
      ],
      "text/plain": [
       "[1] 5"
      ]
     },
     "metadata": {},
     "output_type": "display_data"
    }
   ],
   "source": [
    "length(pAdj)"
   ]
  },
  {
   "cell_type": "code",
   "execution_count": 8,
   "metadata": {},
   "outputs": [
    {
     "data": {
      "text/html": [
       "<ol class=list-inline>\n",
       "\t<li>2</li>\n",
       "\t<li>5</li>\n",
       "</ol>\n"
      ],
      "text/latex": [
       "\\begin{enumerate*}\n",
       "\\item 2\n",
       "\\item 5\n",
       "\\end{enumerate*}\n"
      ],
      "text/markdown": [
       "1. 2\n",
       "2. 5\n",
       "\n",
       "\n"
      ],
      "text/plain": [
       "[1] 2 5"
      ]
     },
     "metadata": {},
     "output_type": "display_data"
    },
    {
     "data": {
      "text/html": [
       "<table>\n",
       "<thead><tr><th></th><th scope=col>mass_400</th><th scope=col>mass_500</th><th scope=col>mass_600</th></tr></thead>\n",
       "<tbody>\n",
       "\t<tr><th scope=row>Group1A</th><td>0.001720451 </td><td>0.005383917 </td><td>7.593893e-05</td></tr>\n",
       "\t<tr><th scope=row>Group3A</th><td>0.004786591 </td><td>0.006021744 </td><td>2.000186e-04</td></tr>\n",
       "</tbody>\n",
       "</table>\n"
      ],
      "text/latex": [
       "\\begin{tabular}{r|lll}\n",
       "  & mass\\_400 & mass\\_500 & mass\\_600\\\\\n",
       "\\hline\n",
       "\tGroup1A & 0.001720451  & 0.005383917  & 7.593893e-05\\\\\n",
       "\tGroup3A & 0.004786591  & 0.006021744  & 2.000186e-04\\\\\n",
       "\\end{tabular}\n"
      ],
      "text/markdown": [
       "\n",
       "| <!--/--> | mass_400 | mass_500 | mass_600 |\n",
       "|---|---|---|---|\n",
       "| Group1A | 0.001720451  | 0.005383917  | 7.593893e-05 |\n",
       "| Group3A | 0.004786591  | 0.006021744  | 2.000186e-04 |\n",
       "\n"
      ],
      "text/plain": [
       "        mass_400    mass_500    mass_600    \n",
       "Group1A 0.001720451 0.005383917 7.593893e-05\n",
       "Group3A 0.004786591 0.006021744 2.000186e-04"
      ]
     },
     "metadata": {},
     "output_type": "display_data"
    },
    {
     "data": {
      "text/html": [
       "<dl class=dl-horizontal>\n",
       "\t<dt>mass_400</dt>\n",
       "\t\t<dd>0.359431325311944</dd>\n",
       "\t<dt>mass_500</dt>\n",
       "\t\t<dd>0.894079462431679</dd>\n",
       "\t<dt>mass_600</dt>\n",
       "\t\t<dd>0.37965935834634</dd>\n",
       "\t<dt>mass_700</dt>\n",
       "\t\t<dd>2.75590905241778</dd>\n",
       "\t<dt>mass_800</dt>\n",
       "\t\t<dd>0.933894293850061</dd>\n",
       "</dl>\n"
      ],
      "text/latex": [
       "\\begin{description*}\n",
       "\\item[mass\\textbackslash{}\\_400] 0.359431325311944\n",
       "\\item[mass\\textbackslash{}\\_500] 0.894079462431679\n",
       "\\item[mass\\textbackslash{}\\_600] 0.37965935834634\n",
       "\\item[mass\\textbackslash{}\\_700] 2.75590905241778\n",
       "\\item[mass\\textbackslash{}\\_800] 0.933894293850061\n",
       "\\end{description*}\n"
      ],
      "text/markdown": [
       "mass_400\n",
       ":   0.359431325311944mass_500\n",
       ":   0.894079462431679mass_600\n",
       ":   0.37965935834634mass_700\n",
       ":   2.75590905241778mass_800\n",
       ":   0.933894293850061\n",
       "\n"
      ],
      "text/plain": [
       " mass_400  mass_500  mass_600  mass_700  mass_800 \n",
       "0.3594313 0.8940795 0.3796594 2.7559091 0.9338943 "
      ]
     },
     "metadata": {},
     "output_type": "display_data"
    },
    {
     "data": {
      "text/html": [
       "<ol class=list-inline>\n",
       "\t<li>'numeric'</li>\n",
       "\t<li>'vector'</li>\n",
       "</ol>\n"
      ],
      "text/latex": [
       "\\begin{enumerate*}\n",
       "\\item 'numeric'\n",
       "\\item 'vector'\n",
       "\\end{enumerate*}\n"
      ],
      "text/markdown": [
       "1. 'numeric'\n",
       "2. 'vector'\n",
       "\n",
       "\n"
      ],
      "text/plain": [
       "[1] \"numeric\" \"vector\" "
      ]
     },
     "metadata": {},
     "output_type": "display_data"
    }
   ],
   "source": [
    "avg<- apply(nonzero_wMeta[,9:ncol(nonzero_wMeta)], 2, function(x) tapply(x, nonzero_wMeta$Treatmentgroup, function(x) mean(x))) \n",
    "\n",
    "dim(avg)\n",
    "\n",
    "avg[,1:3]\n",
    "\n",
    "fch <- apply(avg, 2, function(x) x[1]/x[2])\n",
    "\n",
    "head(fch)\n",
    "is(fch)"
   ]
  },
  {
   "cell_type": "code",
   "execution_count": 9,
   "metadata": {
    "scrolled": true
   },
   "outputs": [
    {
     "data": {
      "text/html": [
       "<dl class=dl-horizontal>\n",
       "\t<dt>mass_400</dt>\n",
       "\t\t<dd>0.359431325311944</dd>\n",
       "\t<dt>mass_500</dt>\n",
       "\t\t<dd>0.894079462431679</dd>\n",
       "\t<dt>mass_600</dt>\n",
       "\t\t<dd>0.37965935834634</dd>\n",
       "\t<dt>mass_700</dt>\n",
       "\t\t<dd>2.75590905241778</dd>\n",
       "\t<dt>mass_800</dt>\n",
       "\t\t<dd>0.933894293850061</dd>\n",
       "</dl>\n"
      ],
      "text/latex": [
       "\\begin{description*}\n",
       "\\item[mass\\textbackslash{}\\_400] 0.359431325311944\n",
       "\\item[mass\\textbackslash{}\\_500] 0.894079462431679\n",
       "\\item[mass\\textbackslash{}\\_600] 0.37965935834634\n",
       "\\item[mass\\textbackslash{}\\_700] 2.75590905241778\n",
       "\\item[mass\\textbackslash{}\\_800] 0.933894293850061\n",
       "\\end{description*}\n"
      ],
      "text/markdown": [
       "mass_400\n",
       ":   0.359431325311944mass_500\n",
       ":   0.894079462431679mass_600\n",
       ":   0.37965935834634mass_700\n",
       ":   2.75590905241778mass_800\n",
       ":   0.933894293850061\n",
       "\n"
      ],
      "text/plain": [
       " mass_400  mass_500  mass_600  mass_700  mass_800 \n",
       "0.3594313 0.8940795 0.3796594 2.7559091 0.9338943 "
      ]
     },
     "metadata": {},
     "output_type": "display_data"
    }
   ],
   "source": [
    "fch"
   ]
  },
  {
   "cell_type": "code",
   "execution_count": 10,
   "metadata": {
    "scrolled": false
   },
   "outputs": [],
   "source": [
    "df <- data.frame(fch,pval, pAdj)\n",
    "write.csv(df, \"PE-time-RVB-wilcox-1A-3A.csv\")"
   ]
  },
  {
   "cell_type": "code",
   "execution_count": null,
   "metadata": {},
   "outputs": [],
   "source": []
  },
  {
   "cell_type": "code",
   "execution_count": null,
   "metadata": {},
   "outputs": [],
   "source": []
  },
  {
   "cell_type": "code",
   "execution_count": null,
   "metadata": {},
   "outputs": [],
   "source": []
  },
  {
   "cell_type": "code",
   "execution_count": null,
   "metadata": {},
   "outputs": [],
   "source": []
  },
  {
   "cell_type": "code",
   "execution_count": null,
   "metadata": {},
   "outputs": [],
   "source": []
  },
  {
   "cell_type": "code",
   "execution_count": null,
   "metadata": {},
   "outputs": [],
   "source": []
  }
 ],
 "metadata": {
  "kernelspec": {
   "display_name": "R",
   "language": "R",
   "name": "ir"
  },
  "language_info": {
   "codemirror_mode": "r",
   "file_extension": ".r",
   "mimetype": "text/x-r-source",
   "name": "R",
   "pygments_lexer": "r",
   "version": "3.6.1"
  }
 },
 "nbformat": 4,
 "nbformat_minor": 2
}
