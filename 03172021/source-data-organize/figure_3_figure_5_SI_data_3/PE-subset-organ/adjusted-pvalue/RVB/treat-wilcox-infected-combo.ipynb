{
 "cells": [
  {
   "cell_type": "code",
   "execution_count": 1,
   "metadata": {},
   "outputs": [],
   "source": [
    "a <- read.csv(\"03172021-PE-treatment-RVB-M-F.csv\")"
   ]
  },
  {
   "cell_type": "code",
   "execution_count": 2,
   "metadata": {},
   "outputs": [
    {
     "data": {
      "text/html": [
       "<table>\n",
       "<thead><tr><th scope=col>filename</th><th scope=col>MouseID</th><th scope=col>Treatmentgroup</th><th scope=col>DPI</th><th scope=col>organ</th><th scope=col>well_position</th><th scope=col>plate</th><th scope=col>mass_400</th><th scope=col>mass_500</th><th scope=col>mass_600</th><th scope=col>mass_700</th><th scope=col>mass_800</th></tr></thead>\n",
       "<tbody>\n",
       "\t<tr><td>X511_Group1C_142dpi_RV_bottom_161_G_A1_P140.mzXML</td><td>511                                              </td><td>naive                                            </td><td>142dpi                                           </td><td>RV_bottom                                        </td><td>A1                                               </td><td>P140                                             </td><td>0.011070737                                      </td><td>0.001992138                                      </td><td>0                                                </td><td>0.00e+00                                         </td><td>0                                                </td></tr>\n",
       "\t<tr><td>X512_Group1C_142dpi_RV_bottom_162_G_A2_P140.mzXML</td><td>512                                              </td><td>naive                                            </td><td>142dpi                                           </td><td>RV_bottom                                        </td><td>A2                                               </td><td>P140                                             </td><td>0.018662542                                      </td><td>0.003579901                                      </td><td>0                                                </td><td>0.00e+00                                         </td><td>0                                                </td></tr>\n",
       "\t<tr><td>X513_Group1C_142dpi_RV_bottom_163_G_A3_P140.mzXML</td><td>513                                              </td><td>naive                                            </td><td>142dpi                                           </td><td>RV_bottom                                        </td><td>A3                                               </td><td>P140                                             </td><td>0.012768515                                      </td><td>0.002431946                                      </td><td>0                                                </td><td>0.00e+00                                         </td><td>0                                                </td></tr>\n",
       "\t<tr><td>X514_Group1C_142dpi_RV_bottom_164_G_A4_P140.mzXML</td><td>514                                              </td><td>naive                                            </td><td>142dpi                                           </td><td>RV_bottom                                        </td><td>A4                                               </td><td>P140                                             </td><td>0.000315233                                      </td><td>0.003336661                                      </td><td>0                                                </td><td>6.06e-05                                         </td><td>0                                                </td></tr>\n",
       "\t<tr><td>X515_Group1C_142dpi_RV_bottom_165_G_A5_P140.mzXML</td><td>515                                              </td><td>naive                                            </td><td>142dpi                                           </td><td>RV_bottom                                        </td><td>A5                                               </td><td>P140                                             </td><td>0.000593772                                      </td><td>0.004155339                                      </td><td>0                                                </td><td>0.00e+00                                         </td><td>0                                                </td></tr>\n",
       "\t<tr><td>X531_Group1C_142dpi_RV_bottom_166_G_A6_P140.mzXML</td><td>531                                              </td><td>naive                                            </td><td>142dpi                                           </td><td>RV_bottom                                        </td><td>A6                                               </td><td>P140                                             </td><td>0.000452000                                      </td><td>0.004626188                                      </td><td>0                                                </td><td>0.00e+00                                         </td><td>0                                                </td></tr>\n",
       "</tbody>\n",
       "</table>\n"
      ],
      "text/latex": [
       "\\begin{tabular}{r|llllllllllll}\n",
       " filename & MouseID & Treatmentgroup & DPI & organ & well\\_position & plate & mass\\_400 & mass\\_500 & mass\\_600 & mass\\_700 & mass\\_800\\\\\n",
       "\\hline\n",
       "\t X511\\_Group1C\\_142dpi\\_RV\\_bottom\\_161\\_G\\_A1\\_P140.mzXML & 511                                                               & naive                                                             & 142dpi                                                            & RV\\_bottom                                                       & A1                                                                & P140                                                              & 0.011070737                                                       & 0.001992138                                                       & 0                                                                 & 0.00e+00                                                          & 0                                                                \\\\\n",
       "\t X512\\_Group1C\\_142dpi\\_RV\\_bottom\\_162\\_G\\_A2\\_P140.mzXML & 512                                                               & naive                                                             & 142dpi                                                            & RV\\_bottom                                                       & A2                                                                & P140                                                              & 0.018662542                                                       & 0.003579901                                                       & 0                                                                 & 0.00e+00                                                          & 0                                                                \\\\\n",
       "\t X513\\_Group1C\\_142dpi\\_RV\\_bottom\\_163\\_G\\_A3\\_P140.mzXML & 513                                                               & naive                                                             & 142dpi                                                            & RV\\_bottom                                                       & A3                                                                & P140                                                              & 0.012768515                                                       & 0.002431946                                                       & 0                                                                 & 0.00e+00                                                          & 0                                                                \\\\\n",
       "\t X514\\_Group1C\\_142dpi\\_RV\\_bottom\\_164\\_G\\_A4\\_P140.mzXML & 514                                                               & naive                                                             & 142dpi                                                            & RV\\_bottom                                                       & A4                                                                & P140                                                              & 0.000315233                                                       & 0.003336661                                                       & 0                                                                 & 6.06e-05                                                          & 0                                                                \\\\\n",
       "\t X515\\_Group1C\\_142dpi\\_RV\\_bottom\\_165\\_G\\_A5\\_P140.mzXML & 515                                                               & naive                                                             & 142dpi                                                            & RV\\_bottom                                                       & A5                                                                & P140                                                              & 0.000593772                                                       & 0.004155339                                                       & 0                                                                 & 0.00e+00                                                          & 0                                                                \\\\\n",
       "\t X531\\_Group1C\\_142dpi\\_RV\\_bottom\\_166\\_G\\_A6\\_P140.mzXML & 531                                                               & naive                                                             & 142dpi                                                            & RV\\_bottom                                                       & A6                                                                & P140                                                              & 0.000452000                                                       & 0.004626188                                                       & 0                                                                 & 0.00e+00                                                          & 0                                                                \\\\\n",
       "\\end{tabular}\n"
      ],
      "text/markdown": [
       "\n",
       "| filename | MouseID | Treatmentgroup | DPI | organ | well_position | plate | mass_400 | mass_500 | mass_600 | mass_700 | mass_800 |\n",
       "|---|---|---|---|---|---|---|---|---|---|---|---|\n",
       "| X511_Group1C_142dpi_RV_bottom_161_G_A1_P140.mzXML | 511                                               | naive                                             | 142dpi                                            | RV_bottom                                         | A1                                                | P140                                              | 0.011070737                                       | 0.001992138                                       | 0                                                 | 0.00e+00                                          | 0                                                 |\n",
       "| X512_Group1C_142dpi_RV_bottom_162_G_A2_P140.mzXML | 512                                               | naive                                             | 142dpi                                            | RV_bottom                                         | A2                                                | P140                                              | 0.018662542                                       | 0.003579901                                       | 0                                                 | 0.00e+00                                          | 0                                                 |\n",
       "| X513_Group1C_142dpi_RV_bottom_163_G_A3_P140.mzXML | 513                                               | naive                                             | 142dpi                                            | RV_bottom                                         | A3                                                | P140                                              | 0.012768515                                       | 0.002431946                                       | 0                                                 | 0.00e+00                                          | 0                                                 |\n",
       "| X514_Group1C_142dpi_RV_bottom_164_G_A4_P140.mzXML | 514                                               | naive                                             | 142dpi                                            | RV_bottom                                         | A4                                                | P140                                              | 0.000315233                                       | 0.003336661                                       | 0                                                 | 6.06e-05                                          | 0                                                 |\n",
       "| X515_Group1C_142dpi_RV_bottom_165_G_A5_P140.mzXML | 515                                               | naive                                             | 142dpi                                            | RV_bottom                                         | A5                                                | P140                                              | 0.000593772                                       | 0.004155339                                       | 0                                                 | 0.00e+00                                          | 0                                                 |\n",
       "| X531_Group1C_142dpi_RV_bottom_166_G_A6_P140.mzXML | 531                                               | naive                                             | 142dpi                                            | RV_bottom                                         | A6                                                | P140                                              | 0.000452000                                       | 0.004626188                                       | 0                                                 | 0.00e+00                                          | 0                                                 |\n",
       "\n"
      ],
      "text/plain": [
       "  filename                                          MouseID Treatmentgroup\n",
       "1 X511_Group1C_142dpi_RV_bottom_161_G_A1_P140.mzXML 511     naive         \n",
       "2 X512_Group1C_142dpi_RV_bottom_162_G_A2_P140.mzXML 512     naive         \n",
       "3 X513_Group1C_142dpi_RV_bottom_163_G_A3_P140.mzXML 513     naive         \n",
       "4 X514_Group1C_142dpi_RV_bottom_164_G_A4_P140.mzXML 514     naive         \n",
       "5 X515_Group1C_142dpi_RV_bottom_165_G_A5_P140.mzXML 515     naive         \n",
       "6 X531_Group1C_142dpi_RV_bottom_166_G_A6_P140.mzXML 531     naive         \n",
       "  DPI    organ     well_position plate mass_400    mass_500    mass_600\n",
       "1 142dpi RV_bottom A1            P140  0.011070737 0.001992138 0       \n",
       "2 142dpi RV_bottom A2            P140  0.018662542 0.003579901 0       \n",
       "3 142dpi RV_bottom A3            P140  0.012768515 0.002431946 0       \n",
       "4 142dpi RV_bottom A4            P140  0.000315233 0.003336661 0       \n",
       "5 142dpi RV_bottom A5            P140  0.000593772 0.004155339 0       \n",
       "6 142dpi RV_bottom A6            P140  0.000452000 0.004626188 0       \n",
       "  mass_700 mass_800\n",
       "1 0.00e+00 0       \n",
       "2 0.00e+00 0       \n",
       "3 0.00e+00 0       \n",
       "4 6.06e-05 0       \n",
       "5 0.00e+00 0       \n",
       "6 0.00e+00 0       "
      ]
     },
     "metadata": {},
     "output_type": "display_data"
    },
    {
     "data": {
      "text/html": [
       "<ol class=list-inline>\n",
       "\t<li>60</li>\n",
       "\t<li>12</li>\n",
       "</ol>\n"
      ],
      "text/latex": [
       "\\begin{enumerate*}\n",
       "\\item 60\n",
       "\\item 12\n",
       "\\end{enumerate*}\n"
      ],
      "text/markdown": [
       "1. 60\n",
       "2. 12\n",
       "\n",
       "\n"
      ],
      "text/plain": [
       "[1] 60 12"
      ]
     },
     "metadata": {},
     "output_type": "display_data"
    }
   ],
   "source": [
    "head(a)\n",
    "dim(a)"
   ]
  },
  {
   "cell_type": "code",
   "execution_count": 3,
   "metadata": {},
   "outputs": [
    {
     "data": {
      "text/html": [
       "<table>\n",
       "<thead><tr><th></th><th scope=col>filename</th><th scope=col>MouseID</th><th scope=col>Treatmentgroup</th><th scope=col>DPI</th><th scope=col>organ</th><th scope=col>well_position</th><th scope=col>plate</th><th scope=col>mass_400</th><th scope=col>mass_500</th><th scope=col>mass_600</th><th scope=col>mass_700</th><th scope=col>mass_800</th></tr></thead>\n",
       "<tbody>\n",
       "\t<tr><th scope=row>16</th><td>X581_Group3E_142dpi_RV_bottom_176_G_B4_P140.mzXML</td><td>581                                              </td><td>infected                                         </td><td>142dpi                                           </td><td>RV_bottom                                        </td><td>B4                                               </td><td>P140                                             </td><td>0.014356123                                      </td><td>0.001996371                                      </td><td>0                                                </td><td>0.000000000                                      </td><td>0                                                </td></tr>\n",
       "\t<tr><th scope=row>17</th><td>X582_Group3E_142dpi_RV_bottom_177_G_B5_P140.mzXML</td><td>582                                              </td><td>infected                                         </td><td>142dpi                                           </td><td>RV_bottom                                        </td><td>B5                                               </td><td>P140                                             </td><td>0.011779334                                      </td><td>0.002585270                                      </td><td>0                                                </td><td>0.000000000                                      </td><td>0                                                </td></tr>\n",
       "\t<tr><th scope=row>18</th><td>X583_Group3E_142dpi_RV_bottom_178_G_B6_P140.mzXML</td><td>583                                              </td><td>infected                                         </td><td>142dpi                                           </td><td>RV_bottom                                        </td><td>B6                                               </td><td>P140                                             </td><td>0.000201895                                      </td><td>0.002150646                                      </td><td>0                                                </td><td>0.000000000                                      </td><td>0                                                </td></tr>\n",
       "\t<tr><th scope=row>19</th><td>X584_Group3E_142dpi_RV_bottom_179_G_B7_P140.mzXML</td><td>584                                              </td><td>infected                                         </td><td>142dpi                                           </td><td>RV_bottom                                        </td><td>B7                                               </td><td>P140                                             </td><td>0.000328386                                      </td><td>0.002331377                                      </td><td>0                                                </td><td>0.000000000                                      </td><td>0                                                </td></tr>\n",
       "\t<tr><th scope=row>20</th><td>X585_Group3E_142dpi_RV_bottom_180_G_B8_P140.mzXML</td><td>585                                              </td><td>infected                                         </td><td>142dpi                                           </td><td>RV_bottom                                        </td><td>B8                                               </td><td>P140                                             </td><td>0.000298403                                      </td><td>0.001709410                                      </td><td>0                                                </td><td>0.000161409                                      </td><td>0                                                </td></tr>\n",
       "\t<tr><th scope=row>21</th><td>X611_Group9_142dpi_RV_bottom_181_G_B9_P140.mzXML </td><td>611                                              </td><td>combo                                            </td><td>142dpi                                           </td><td>RV_bottom                                        </td><td>B9                                               </td><td>P140                                             </td><td>0.000278261                                      </td><td>0.002583873                                      </td><td>0                                                </td><td>0.000000000                                      </td><td>0                                                </td></tr>\n",
       "</tbody>\n",
       "</table>\n"
      ],
      "text/latex": [
       "\\begin{tabular}{r|llllllllllll}\n",
       "  & filename & MouseID & Treatmentgroup & DPI & organ & well\\_position & plate & mass\\_400 & mass\\_500 & mass\\_600 & mass\\_700 & mass\\_800\\\\\n",
       "\\hline\n",
       "\t16 & X581\\_Group3E\\_142dpi\\_RV\\_bottom\\_176\\_G\\_B4\\_P140.mzXML & 581                                                               & infected                                                          & 142dpi                                                            & RV\\_bottom                                                       & B4                                                                & P140                                                              & 0.014356123                                                       & 0.001996371                                                       & 0                                                                 & 0.000000000                                                       & 0                                                                \\\\\n",
       "\t17 & X582\\_Group3E\\_142dpi\\_RV\\_bottom\\_177\\_G\\_B5\\_P140.mzXML & 582                                                               & infected                                                          & 142dpi                                                            & RV\\_bottom                                                       & B5                                                                & P140                                                              & 0.011779334                                                       & 0.002585270                                                       & 0                                                                 & 0.000000000                                                       & 0                                                                \\\\\n",
       "\t18 & X583\\_Group3E\\_142dpi\\_RV\\_bottom\\_178\\_G\\_B6\\_P140.mzXML & 583                                                               & infected                                                          & 142dpi                                                            & RV\\_bottom                                                       & B6                                                                & P140                                                              & 0.000201895                                                       & 0.002150646                                                       & 0                                                                 & 0.000000000                                                       & 0                                                                \\\\\n",
       "\t19 & X584\\_Group3E\\_142dpi\\_RV\\_bottom\\_179\\_G\\_B7\\_P140.mzXML & 584                                                               & infected                                                          & 142dpi                                                            & RV\\_bottom                                                       & B7                                                                & P140                                                              & 0.000328386                                                       & 0.002331377                                                       & 0                                                                 & 0.000000000                                                       & 0                                                                \\\\\n",
       "\t20 & X585\\_Group3E\\_142dpi\\_RV\\_bottom\\_180\\_G\\_B8\\_P140.mzXML & 585                                                               & infected                                                          & 142dpi                                                            & RV\\_bottom                                                       & B8                                                                & P140                                                              & 0.000298403                                                       & 0.001709410                                                       & 0                                                                 & 0.000161409                                                       & 0                                                                \\\\\n",
       "\t21 & X611\\_Group9\\_142dpi\\_RV\\_bottom\\_181\\_G\\_B9\\_P140.mzXML  & 611                                                               & combo                                                             & 142dpi                                                            & RV\\_bottom                                                       & B9                                                                & P140                                                              & 0.000278261                                                       & 0.002583873                                                       & 0                                                                 & 0.000000000                                                       & 0                                                                \\\\\n",
       "\\end{tabular}\n"
      ],
      "text/markdown": [
       "\n",
       "| <!--/--> | filename | MouseID | Treatmentgroup | DPI | organ | well_position | plate | mass_400 | mass_500 | mass_600 | mass_700 | mass_800 |\n",
       "|---|---|---|---|---|---|---|---|---|---|---|---|---|\n",
       "| 16 | X581_Group3E_142dpi_RV_bottom_176_G_B4_P140.mzXML | 581                                               | infected                                          | 142dpi                                            | RV_bottom                                         | B4                                                | P140                                              | 0.014356123                                       | 0.001996371                                       | 0                                                 | 0.000000000                                       | 0                                                 |\n",
       "| 17 | X582_Group3E_142dpi_RV_bottom_177_G_B5_P140.mzXML | 582                                               | infected                                          | 142dpi                                            | RV_bottom                                         | B5                                                | P140                                              | 0.011779334                                       | 0.002585270                                       | 0                                                 | 0.000000000                                       | 0                                                 |\n",
       "| 18 | X583_Group3E_142dpi_RV_bottom_178_G_B6_P140.mzXML | 583                                               | infected                                          | 142dpi                                            | RV_bottom                                         | B6                                                | P140                                              | 0.000201895                                       | 0.002150646                                       | 0                                                 | 0.000000000                                       | 0                                                 |\n",
       "| 19 | X584_Group3E_142dpi_RV_bottom_179_G_B7_P140.mzXML | 584                                               | infected                                          | 142dpi                                            | RV_bottom                                         | B7                                                | P140                                              | 0.000328386                                       | 0.002331377                                       | 0                                                 | 0.000000000                                       | 0                                                 |\n",
       "| 20 | X585_Group3E_142dpi_RV_bottom_180_G_B8_P140.mzXML | 585                                               | infected                                          | 142dpi                                            | RV_bottom                                         | B8                                                | P140                                              | 0.000298403                                       | 0.001709410                                       | 0                                                 | 0.000161409                                       | 0                                                 |\n",
       "| 21 | X611_Group9_142dpi_RV_bottom_181_G_B9_P140.mzXML  | 611                                               | combo                                             | 142dpi                                            | RV_bottom                                         | B9                                                | P140                                              | 0.000278261                                       | 0.002583873                                       | 0                                                 | 0.000000000                                       | 0                                                 |\n",
       "\n"
      ],
      "text/plain": [
       "   filename                                          MouseID Treatmentgroup\n",
       "16 X581_Group3E_142dpi_RV_bottom_176_G_B4_P140.mzXML 581     infected      \n",
       "17 X582_Group3E_142dpi_RV_bottom_177_G_B5_P140.mzXML 582     infected      \n",
       "18 X583_Group3E_142dpi_RV_bottom_178_G_B6_P140.mzXML 583     infected      \n",
       "19 X584_Group3E_142dpi_RV_bottom_179_G_B7_P140.mzXML 584     infected      \n",
       "20 X585_Group3E_142dpi_RV_bottom_180_G_B8_P140.mzXML 585     infected      \n",
       "21 X611_Group9_142dpi_RV_bottom_181_G_B9_P140.mzXML  611     combo         \n",
       "   DPI    organ     well_position plate mass_400    mass_500    mass_600\n",
       "16 142dpi RV_bottom B4            P140  0.014356123 0.001996371 0       \n",
       "17 142dpi RV_bottom B5            P140  0.011779334 0.002585270 0       \n",
       "18 142dpi RV_bottom B6            P140  0.000201895 0.002150646 0       \n",
       "19 142dpi RV_bottom B7            P140  0.000328386 0.002331377 0       \n",
       "20 142dpi RV_bottom B8            P140  0.000298403 0.001709410 0       \n",
       "21 142dpi RV_bottom B9            P140  0.000278261 0.002583873 0       \n",
       "   mass_700    mass_800\n",
       "16 0.000000000 0       \n",
       "17 0.000000000 0       \n",
       "18 0.000000000 0       \n",
       "19 0.000000000 0       \n",
       "20 0.000161409 0       \n",
       "21 0.000000000 0       "
      ]
     },
     "metadata": {},
     "output_type": "display_data"
    },
    {
     "data": {
      "text/html": [
       "<ol class=list-inline>\n",
       "\t<li>30</li>\n",
       "\t<li>12</li>\n",
       "</ol>\n"
      ],
      "text/latex": [
       "\\begin{enumerate*}\n",
       "\\item 30\n",
       "\\item 12\n",
       "\\end{enumerate*}\n"
      ],
      "text/markdown": [
       "1. 30\n",
       "2. 12\n",
       "\n",
       "\n"
      ],
      "text/plain": [
       "[1] 30 12"
      ]
     },
     "metadata": {},
     "output_type": "display_data"
    }
   ],
   "source": [
    "features_pos<-droplevels(subset(a, a$Treatmentgroup==c(\"infected\")|a$Treatmentgroup==c(\"combo\")))\n",
    "head(features_pos)\n",
    "dim(features_pos)"
   ]
  },
  {
   "cell_type": "code",
   "execution_count": 4,
   "metadata": {
    "scrolled": false
   },
   "outputs": [
    {
     "data": {
      "text/html": [
       "<table>\n",
       "<thead><tr><th></th><th scope=col>mass_400</th><th scope=col>mass_500</th><th scope=col>mass_600</th><th scope=col>mass_700</th><th scope=col>mass_800</th></tr></thead>\n",
       "<tbody>\n",
       "\t<tr><th scope=row>16</th><td>0.014356123</td><td>0.001996371</td><td>0          </td><td>0.000000000</td><td>0          </td></tr>\n",
       "\t<tr><th scope=row>17</th><td>0.011779334</td><td>0.002585270</td><td>0          </td><td>0.000000000</td><td>0          </td></tr>\n",
       "\t<tr><th scope=row>18</th><td>0.000201895</td><td>0.002150646</td><td>0          </td><td>0.000000000</td><td>0          </td></tr>\n",
       "\t<tr><th scope=row>19</th><td>0.000328386</td><td>0.002331377</td><td>0          </td><td>0.000000000</td><td>0          </td></tr>\n",
       "\t<tr><th scope=row>20</th><td>0.000298403</td><td>0.001709410</td><td>0          </td><td>0.000161409</td><td>0          </td></tr>\n",
       "\t<tr><th scope=row>21</th><td>0.000278261</td><td>0.002583873</td><td>0          </td><td>0.000000000</td><td>0          </td></tr>\n",
       "</tbody>\n",
       "</table>\n"
      ],
      "text/latex": [
       "\\begin{tabular}{r|lllll}\n",
       "  & mass\\_400 & mass\\_500 & mass\\_600 & mass\\_700 & mass\\_800\\\\\n",
       "\\hline\n",
       "\t16 & 0.014356123 & 0.001996371 & 0           & 0.000000000 & 0          \\\\\n",
       "\t17 & 0.011779334 & 0.002585270 & 0           & 0.000000000 & 0          \\\\\n",
       "\t18 & 0.000201895 & 0.002150646 & 0           & 0.000000000 & 0          \\\\\n",
       "\t19 & 0.000328386 & 0.002331377 & 0           & 0.000000000 & 0          \\\\\n",
       "\t20 & 0.000298403 & 0.001709410 & 0           & 0.000161409 & 0          \\\\\n",
       "\t21 & 0.000278261 & 0.002583873 & 0           & 0.000000000 & 0          \\\\\n",
       "\\end{tabular}\n"
      ],
      "text/markdown": [
       "\n",
       "| <!--/--> | mass_400 | mass_500 | mass_600 | mass_700 | mass_800 |\n",
       "|---|---|---|---|---|---|\n",
       "| 16 | 0.014356123 | 0.001996371 | 0           | 0.000000000 | 0           |\n",
       "| 17 | 0.011779334 | 0.002585270 | 0           | 0.000000000 | 0           |\n",
       "| 18 | 0.000201895 | 0.002150646 | 0           | 0.000000000 | 0           |\n",
       "| 19 | 0.000328386 | 0.002331377 | 0           | 0.000000000 | 0           |\n",
       "| 20 | 0.000298403 | 0.001709410 | 0           | 0.000161409 | 0           |\n",
       "| 21 | 0.000278261 | 0.002583873 | 0           | 0.000000000 | 0           |\n",
       "\n"
      ],
      "text/plain": [
       "   mass_400    mass_500    mass_600 mass_700    mass_800\n",
       "16 0.014356123 0.001996371 0        0.000000000 0       \n",
       "17 0.011779334 0.002585270 0        0.000000000 0       \n",
       "18 0.000201895 0.002150646 0        0.000000000 0       \n",
       "19 0.000328386 0.002331377 0        0.000000000 0       \n",
       "20 0.000298403 0.001709410 0        0.000161409 0       \n",
       "21 0.000278261 0.002583873 0        0.000000000 0       "
      ]
     },
     "metadata": {},
     "output_type": "display_data"
    },
    {
     "data": {
      "text/html": [
       "<dl class=dl-horizontal>\n",
       "\t<dt>mass_400</dt>\n",
       "\t\t<dd>1</dd>\n",
       "\t<dt>mass_500</dt>\n",
       "\t\t<dd>2</dd>\n",
       "\t<dt>mass_700</dt>\n",
       "\t\t<dd>4</dd>\n",
       "</dl>\n"
      ],
      "text/latex": [
       "\\begin{description*}\n",
       "\\item[mass\\textbackslash{}\\_400] 1\n",
       "\\item[mass\\textbackslash{}\\_500] 2\n",
       "\\item[mass\\textbackslash{}\\_700] 4\n",
       "\\end{description*}\n"
      ],
      "text/markdown": [
       "mass_400\n",
       ":   1mass_500\n",
       ":   2mass_700\n",
       ":   4\n",
       "\n"
      ],
      "text/plain": [
       "mass_400 mass_500 mass_700 \n",
       "       1        2        4 "
      ]
     },
     "metadata": {},
     "output_type": "display_data"
    },
    {
     "data": {
      "text/html": [
       "<table>\n",
       "<thead><tr><th></th><th scope=col>mass_400</th><th scope=col>mass_500</th><th scope=col>mass_700</th></tr></thead>\n",
       "<tbody>\n",
       "\t<tr><th scope=row>16</th><td>0.014356123</td><td>0.001996371</td><td>0.000000000</td></tr>\n",
       "\t<tr><th scope=row>17</th><td>0.011779334</td><td>0.002585270</td><td>0.000000000</td></tr>\n",
       "\t<tr><th scope=row>18</th><td>0.000201895</td><td>0.002150646</td><td>0.000000000</td></tr>\n",
       "\t<tr><th scope=row>19</th><td>0.000328386</td><td>0.002331377</td><td>0.000000000</td></tr>\n",
       "\t<tr><th scope=row>20</th><td>0.000298403</td><td>0.001709410</td><td>0.000161409</td></tr>\n",
       "\t<tr><th scope=row>21</th><td>0.000278261</td><td>0.002583873</td><td>0.000000000</td></tr>\n",
       "\t<tr><th scope=row>22</th><td>0.007279973</td><td>0.002345146</td><td>0.000000000</td></tr>\n",
       "\t<tr><th scope=row>23</th><td>0.000214267</td><td>0.003085388</td><td>0.000000000</td></tr>\n",
       "\t<tr><th scope=row>24</th><td>0.000269569</td><td>0.002893949</td><td>0.000000000</td></tr>\n",
       "\t<tr><th scope=row>25</th><td>0.000466307</td><td>0.002467080</td><td>0.000000000</td></tr>\n",
       "\t<tr><th scope=row>31</th><td>0.000150967</td><td>0.002384452</td><td>0.000000000</td></tr>\n",
       "\t<tr><th scope=row>32</th><td>0.000157554</td><td>0.002622815</td><td>0.000000000</td></tr>\n",
       "\t<tr><th scope=row>33</th><td>0.000127170</td><td>0.002314130</td><td>0.000000000</td></tr>\n",
       "\t<tr><th scope=row>34</th><td>0.000126948</td><td>0.002443509</td><td>0.000000000</td></tr>\n",
       "\t<tr><th scope=row>35</th><td>0.010210036</td><td>0.002974515</td><td>0.000000000</td></tr>\n",
       "\t<tr><th scope=row>36</th><td>0.000132232</td><td>0.002445518</td><td>0.000000000</td></tr>\n",
       "\t<tr><th scope=row>37</th><td>0.000170649</td><td>0.002374383</td><td>0.000000000</td></tr>\n",
       "\t<tr><th scope=row>38</th><td>0.000098100</td><td>0.002207898</td><td>0.000000000</td></tr>\n",
       "\t<tr><th scope=row>39</th><td>0.000329800</td><td>0.002166461</td><td>0.000000000</td></tr>\n",
       "\t<tr><th scope=row>40</th><td>0.000312214</td><td>0.002898432</td><td>0.000000000</td></tr>\n",
       "\t<tr><th scope=row>46</th><td>0.000346352</td><td>0.002261944</td><td>0.000000000</td></tr>\n",
       "\t<tr><th scope=row>47</th><td>0.000161167</td><td>0.002267574</td><td>0.000000000</td></tr>\n",
       "\t<tr><th scope=row>48</th><td>0.000440472</td><td>0.003030276</td><td>0.000885563</td></tr>\n",
       "\t<tr><th scope=row>49</th><td>0.000240445</td><td>0.003057510</td><td>0.000000000</td></tr>\n",
       "\t<tr><th scope=row>50</th><td>0.009911927</td><td>0.001470668</td><td>0.000000000</td></tr>\n",
       "\t<tr><th scope=row>51</th><td>0.000518473</td><td>0.002450936</td><td>0.000000000</td></tr>\n",
       "\t<tr><th scope=row>52</th><td>0.000516055</td><td>0.004125776</td><td>0.000000000</td></tr>\n",
       "\t<tr><th scope=row>53</th><td>0.000288816</td><td>0.002990197</td><td>0.000000000</td></tr>\n",
       "\t<tr><th scope=row>54</th><td>0.000252958</td><td>0.002045549</td><td>0.000000000</td></tr>\n",
       "\t<tr><th scope=row>55</th><td>0.000312976</td><td>0.003218808</td><td>0.000000000</td></tr>\n",
       "</tbody>\n",
       "</table>\n"
      ],
      "text/latex": [
       "\\begin{tabular}{r|lll}\n",
       "  & mass\\_400 & mass\\_500 & mass\\_700\\\\\n",
       "\\hline\n",
       "\t16 & 0.014356123 & 0.001996371 & 0.000000000\\\\\n",
       "\t17 & 0.011779334 & 0.002585270 & 0.000000000\\\\\n",
       "\t18 & 0.000201895 & 0.002150646 & 0.000000000\\\\\n",
       "\t19 & 0.000328386 & 0.002331377 & 0.000000000\\\\\n",
       "\t20 & 0.000298403 & 0.001709410 & 0.000161409\\\\\n",
       "\t21 & 0.000278261 & 0.002583873 & 0.000000000\\\\\n",
       "\t22 & 0.007279973 & 0.002345146 & 0.000000000\\\\\n",
       "\t23 & 0.000214267 & 0.003085388 & 0.000000000\\\\\n",
       "\t24 & 0.000269569 & 0.002893949 & 0.000000000\\\\\n",
       "\t25 & 0.000466307 & 0.002467080 & 0.000000000\\\\\n",
       "\t31 & 0.000150967 & 0.002384452 & 0.000000000\\\\\n",
       "\t32 & 0.000157554 & 0.002622815 & 0.000000000\\\\\n",
       "\t33 & 0.000127170 & 0.002314130 & 0.000000000\\\\\n",
       "\t34 & 0.000126948 & 0.002443509 & 0.000000000\\\\\n",
       "\t35 & 0.010210036 & 0.002974515 & 0.000000000\\\\\n",
       "\t36 & 0.000132232 & 0.002445518 & 0.000000000\\\\\n",
       "\t37 & 0.000170649 & 0.002374383 & 0.000000000\\\\\n",
       "\t38 & 0.000098100 & 0.002207898 & 0.000000000\\\\\n",
       "\t39 & 0.000329800 & 0.002166461 & 0.000000000\\\\\n",
       "\t40 & 0.000312214 & 0.002898432 & 0.000000000\\\\\n",
       "\t46 & 0.000346352 & 0.002261944 & 0.000000000\\\\\n",
       "\t47 & 0.000161167 & 0.002267574 & 0.000000000\\\\\n",
       "\t48 & 0.000440472 & 0.003030276 & 0.000885563\\\\\n",
       "\t49 & 0.000240445 & 0.003057510 & 0.000000000\\\\\n",
       "\t50 & 0.009911927 & 0.001470668 & 0.000000000\\\\\n",
       "\t51 & 0.000518473 & 0.002450936 & 0.000000000\\\\\n",
       "\t52 & 0.000516055 & 0.004125776 & 0.000000000\\\\\n",
       "\t53 & 0.000288816 & 0.002990197 & 0.000000000\\\\\n",
       "\t54 & 0.000252958 & 0.002045549 & 0.000000000\\\\\n",
       "\t55 & 0.000312976 & 0.003218808 & 0.000000000\\\\\n",
       "\\end{tabular}\n"
      ],
      "text/markdown": [
       "\n",
       "| <!--/--> | mass_400 | mass_500 | mass_700 |\n",
       "|---|---|---|---|\n",
       "| 16 | 0.014356123 | 0.001996371 | 0.000000000 |\n",
       "| 17 | 0.011779334 | 0.002585270 | 0.000000000 |\n",
       "| 18 | 0.000201895 | 0.002150646 | 0.000000000 |\n",
       "| 19 | 0.000328386 | 0.002331377 | 0.000000000 |\n",
       "| 20 | 0.000298403 | 0.001709410 | 0.000161409 |\n",
       "| 21 | 0.000278261 | 0.002583873 | 0.000000000 |\n",
       "| 22 | 0.007279973 | 0.002345146 | 0.000000000 |\n",
       "| 23 | 0.000214267 | 0.003085388 | 0.000000000 |\n",
       "| 24 | 0.000269569 | 0.002893949 | 0.000000000 |\n",
       "| 25 | 0.000466307 | 0.002467080 | 0.000000000 |\n",
       "| 31 | 0.000150967 | 0.002384452 | 0.000000000 |\n",
       "| 32 | 0.000157554 | 0.002622815 | 0.000000000 |\n",
       "| 33 | 0.000127170 | 0.002314130 | 0.000000000 |\n",
       "| 34 | 0.000126948 | 0.002443509 | 0.000000000 |\n",
       "| 35 | 0.010210036 | 0.002974515 | 0.000000000 |\n",
       "| 36 | 0.000132232 | 0.002445518 | 0.000000000 |\n",
       "| 37 | 0.000170649 | 0.002374383 | 0.000000000 |\n",
       "| 38 | 0.000098100 | 0.002207898 | 0.000000000 |\n",
       "| 39 | 0.000329800 | 0.002166461 | 0.000000000 |\n",
       "| 40 | 0.000312214 | 0.002898432 | 0.000000000 |\n",
       "| 46 | 0.000346352 | 0.002261944 | 0.000000000 |\n",
       "| 47 | 0.000161167 | 0.002267574 | 0.000000000 |\n",
       "| 48 | 0.000440472 | 0.003030276 | 0.000885563 |\n",
       "| 49 | 0.000240445 | 0.003057510 | 0.000000000 |\n",
       "| 50 | 0.009911927 | 0.001470668 | 0.000000000 |\n",
       "| 51 | 0.000518473 | 0.002450936 | 0.000000000 |\n",
       "| 52 | 0.000516055 | 0.004125776 | 0.000000000 |\n",
       "| 53 | 0.000288816 | 0.002990197 | 0.000000000 |\n",
       "| 54 | 0.000252958 | 0.002045549 | 0.000000000 |\n",
       "| 55 | 0.000312976 | 0.003218808 | 0.000000000 |\n",
       "\n"
      ],
      "text/plain": [
       "   mass_400    mass_500    mass_700   \n",
       "16 0.014356123 0.001996371 0.000000000\n",
       "17 0.011779334 0.002585270 0.000000000\n",
       "18 0.000201895 0.002150646 0.000000000\n",
       "19 0.000328386 0.002331377 0.000000000\n",
       "20 0.000298403 0.001709410 0.000161409\n",
       "21 0.000278261 0.002583873 0.000000000\n",
       "22 0.007279973 0.002345146 0.000000000\n",
       "23 0.000214267 0.003085388 0.000000000\n",
       "24 0.000269569 0.002893949 0.000000000\n",
       "25 0.000466307 0.002467080 0.000000000\n",
       "31 0.000150967 0.002384452 0.000000000\n",
       "32 0.000157554 0.002622815 0.000000000\n",
       "33 0.000127170 0.002314130 0.000000000\n",
       "34 0.000126948 0.002443509 0.000000000\n",
       "35 0.010210036 0.002974515 0.000000000\n",
       "36 0.000132232 0.002445518 0.000000000\n",
       "37 0.000170649 0.002374383 0.000000000\n",
       "38 0.000098100 0.002207898 0.000000000\n",
       "39 0.000329800 0.002166461 0.000000000\n",
       "40 0.000312214 0.002898432 0.000000000\n",
       "46 0.000346352 0.002261944 0.000000000\n",
       "47 0.000161167 0.002267574 0.000000000\n",
       "48 0.000440472 0.003030276 0.000885563\n",
       "49 0.000240445 0.003057510 0.000000000\n",
       "50 0.009911927 0.001470668 0.000000000\n",
       "51 0.000518473 0.002450936 0.000000000\n",
       "52 0.000516055 0.004125776 0.000000000\n",
       "53 0.000288816 0.002990197 0.000000000\n",
       "54 0.000252958 0.002045549 0.000000000\n",
       "55 0.000312976 0.003218808 0.000000000"
      ]
     },
     "metadata": {},
     "output_type": "display_data"
    },
    {
     "data": {
      "text/html": [
       "<table>\n",
       "<thead><tr><th></th><th scope=col>filename</th><th scope=col>MouseID</th><th scope=col>Treatmentgroup</th><th scope=col>DPI</th><th scope=col>organ</th><th scope=col>well_position</th><th scope=col>plate</th><th scope=col>mass_400</th><th scope=col>mass_500</th><th scope=col>mass_700</th></tr></thead>\n",
       "<tbody>\n",
       "\t<tr><th scope=row>16</th><td>X581_Group3E_142dpi_RV_bottom_176_G_B4_P140.mzXML</td><td>581                                              </td><td>infected                                         </td><td>142dpi                                           </td><td>RV_bottom                                        </td><td>B4                                               </td><td>P140                                             </td><td>0.014356123                                      </td><td>0.001996371                                      </td><td>0.000000000                                      </td></tr>\n",
       "\t<tr><th scope=row>17</th><td>X582_Group3E_142dpi_RV_bottom_177_G_B5_P140.mzXML</td><td>582                                              </td><td>infected                                         </td><td>142dpi                                           </td><td>RV_bottom                                        </td><td>B5                                               </td><td>P140                                             </td><td>0.011779334                                      </td><td>0.002585270                                      </td><td>0.000000000                                      </td></tr>\n",
       "\t<tr><th scope=row>18</th><td>X583_Group3E_142dpi_RV_bottom_178_G_B6_P140.mzXML</td><td>583                                              </td><td>infected                                         </td><td>142dpi                                           </td><td>RV_bottom                                        </td><td>B6                                               </td><td>P140                                             </td><td>0.000201895                                      </td><td>0.002150646                                      </td><td>0.000000000                                      </td></tr>\n",
       "\t<tr><th scope=row>19</th><td>X584_Group3E_142dpi_RV_bottom_179_G_B7_P140.mzXML</td><td>584                                              </td><td>infected                                         </td><td>142dpi                                           </td><td>RV_bottom                                        </td><td>B7                                               </td><td>P140                                             </td><td>0.000328386                                      </td><td>0.002331377                                      </td><td>0.000000000                                      </td></tr>\n",
       "\t<tr><th scope=row>20</th><td>X585_Group3E_142dpi_RV_bottom_180_G_B8_P140.mzXML</td><td>585                                              </td><td>infected                                         </td><td>142dpi                                           </td><td>RV_bottom                                        </td><td>B8                                               </td><td>P140                                             </td><td>0.000298403                                      </td><td>0.001709410                                      </td><td>0.000161409                                      </td></tr>\n",
       "\t<tr><th scope=row>21</th><td>X611_Group9_142dpi_RV_bottom_181_G_B9_P140.mzXML </td><td>611                                              </td><td>combo                                            </td><td>142dpi                                           </td><td>RV_bottom                                        </td><td>B9                                               </td><td>P140                                             </td><td>0.000278261                                      </td><td>0.002583873                                      </td><td>0.000000000                                      </td></tr>\n",
       "</tbody>\n",
       "</table>\n"
      ],
      "text/latex": [
       "\\begin{tabular}{r|llllllllll}\n",
       "  & filename & MouseID & Treatmentgroup & DPI & organ & well\\_position & plate & mass\\_400 & mass\\_500 & mass\\_700\\\\\n",
       "\\hline\n",
       "\t16 & X581\\_Group3E\\_142dpi\\_RV\\_bottom\\_176\\_G\\_B4\\_P140.mzXML & 581                                                               & infected                                                          & 142dpi                                                            & RV\\_bottom                                                       & B4                                                                & P140                                                              & 0.014356123                                                       & 0.001996371                                                       & 0.000000000                                                      \\\\\n",
       "\t17 & X582\\_Group3E\\_142dpi\\_RV\\_bottom\\_177\\_G\\_B5\\_P140.mzXML & 582                                                               & infected                                                          & 142dpi                                                            & RV\\_bottom                                                       & B5                                                                & P140                                                              & 0.011779334                                                       & 0.002585270                                                       & 0.000000000                                                      \\\\\n",
       "\t18 & X583\\_Group3E\\_142dpi\\_RV\\_bottom\\_178\\_G\\_B6\\_P140.mzXML & 583                                                               & infected                                                          & 142dpi                                                            & RV\\_bottom                                                       & B6                                                                & P140                                                              & 0.000201895                                                       & 0.002150646                                                       & 0.000000000                                                      \\\\\n",
       "\t19 & X584\\_Group3E\\_142dpi\\_RV\\_bottom\\_179\\_G\\_B7\\_P140.mzXML & 584                                                               & infected                                                          & 142dpi                                                            & RV\\_bottom                                                       & B7                                                                & P140                                                              & 0.000328386                                                       & 0.002331377                                                       & 0.000000000                                                      \\\\\n",
       "\t20 & X585\\_Group3E\\_142dpi\\_RV\\_bottom\\_180\\_G\\_B8\\_P140.mzXML & 585                                                               & infected                                                          & 142dpi                                                            & RV\\_bottom                                                       & B8                                                                & P140                                                              & 0.000298403                                                       & 0.001709410                                                       & 0.000161409                                                      \\\\\n",
       "\t21 & X611\\_Group9\\_142dpi\\_RV\\_bottom\\_181\\_G\\_B9\\_P140.mzXML  & 611                                                               & combo                                                             & 142dpi                                                            & RV\\_bottom                                                       & B9                                                                & P140                                                              & 0.000278261                                                       & 0.002583873                                                       & 0.000000000                                                      \\\\\n",
       "\\end{tabular}\n"
      ],
      "text/markdown": [
       "\n",
       "| <!--/--> | filename | MouseID | Treatmentgroup | DPI | organ | well_position | plate | mass_400 | mass_500 | mass_700 |\n",
       "|---|---|---|---|---|---|---|---|---|---|---|\n",
       "| 16 | X581_Group3E_142dpi_RV_bottom_176_G_B4_P140.mzXML | 581                                               | infected                                          | 142dpi                                            | RV_bottom                                         | B4                                                | P140                                              | 0.014356123                                       | 0.001996371                                       | 0.000000000                                       |\n",
       "| 17 | X582_Group3E_142dpi_RV_bottom_177_G_B5_P140.mzXML | 582                                               | infected                                          | 142dpi                                            | RV_bottom                                         | B5                                                | P140                                              | 0.011779334                                       | 0.002585270                                       | 0.000000000                                       |\n",
       "| 18 | X583_Group3E_142dpi_RV_bottom_178_G_B6_P140.mzXML | 583                                               | infected                                          | 142dpi                                            | RV_bottom                                         | B6                                                | P140                                              | 0.000201895                                       | 0.002150646                                       | 0.000000000                                       |\n",
       "| 19 | X584_Group3E_142dpi_RV_bottom_179_G_B7_P140.mzXML | 584                                               | infected                                          | 142dpi                                            | RV_bottom                                         | B7                                                | P140                                              | 0.000328386                                       | 0.002331377                                       | 0.000000000                                       |\n",
       "| 20 | X585_Group3E_142dpi_RV_bottom_180_G_B8_P140.mzXML | 585                                               | infected                                          | 142dpi                                            | RV_bottom                                         | B8                                                | P140                                              | 0.000298403                                       | 0.001709410                                       | 0.000161409                                       |\n",
       "| 21 | X611_Group9_142dpi_RV_bottom_181_G_B9_P140.mzXML  | 611                                               | combo                                             | 142dpi                                            | RV_bottom                                         | B9                                                | P140                                              | 0.000278261                                       | 0.002583873                                       | 0.000000000                                       |\n",
       "\n"
      ],
      "text/plain": [
       "   filename                                          MouseID Treatmentgroup\n",
       "16 X581_Group3E_142dpi_RV_bottom_176_G_B4_P140.mzXML 581     infected      \n",
       "17 X582_Group3E_142dpi_RV_bottom_177_G_B5_P140.mzXML 582     infected      \n",
       "18 X583_Group3E_142dpi_RV_bottom_178_G_B6_P140.mzXML 583     infected      \n",
       "19 X584_Group3E_142dpi_RV_bottom_179_G_B7_P140.mzXML 584     infected      \n",
       "20 X585_Group3E_142dpi_RV_bottom_180_G_B8_P140.mzXML 585     infected      \n",
       "21 X611_Group9_142dpi_RV_bottom_181_G_B9_P140.mzXML  611     combo         \n",
       "   DPI    organ     well_position plate mass_400    mass_500    mass_700   \n",
       "16 142dpi RV_bottom B4            P140  0.014356123 0.001996371 0.000000000\n",
       "17 142dpi RV_bottom B5            P140  0.011779334 0.002585270 0.000000000\n",
       "18 142dpi RV_bottom B6            P140  0.000201895 0.002150646 0.000000000\n",
       "19 142dpi RV_bottom B7            P140  0.000328386 0.002331377 0.000000000\n",
       "20 142dpi RV_bottom B8            P140  0.000298403 0.001709410 0.000161409\n",
       "21 142dpi RV_bottom B9            P140  0.000278261 0.002583873 0.000000000"
      ]
     },
     "metadata": {},
     "output_type": "display_data"
    },
    {
     "data": {
      "text/html": [
       "<ol class=list-inline>\n",
       "\t<li>30</li>\n",
       "\t<li>12</li>\n",
       "</ol>\n"
      ],
      "text/latex": [
       "\\begin{enumerate*}\n",
       "\\item 30\n",
       "\\item 12\n",
       "\\end{enumerate*}\n"
      ],
      "text/markdown": [
       "1. 30\n",
       "2. 12\n",
       "\n",
       "\n"
      ],
      "text/plain": [
       "[1] 30 12"
      ]
     },
     "metadata": {},
     "output_type": "display_data"
    },
    {
     "data": {
      "text/html": [
       "<ol class=list-inline>\n",
       "\t<li>30</li>\n",
       "\t<li>5</li>\n",
       "</ol>\n"
      ],
      "text/latex": [
       "\\begin{enumerate*}\n",
       "\\item 30\n",
       "\\item 5\n",
       "\\end{enumerate*}\n"
      ],
      "text/markdown": [
       "1. 30\n",
       "2. 5\n",
       "\n",
       "\n"
      ],
      "text/plain": [
       "[1] 30  5"
      ]
     },
     "metadata": {},
     "output_type": "display_data"
    },
    {
     "data": {
      "text/html": [
       "<ol class=list-inline>\n",
       "\t<li>30</li>\n",
       "\t<li>3</li>\n",
       "</ol>\n"
      ],
      "text/latex": [
       "\\begin{enumerate*}\n",
       "\\item 30\n",
       "\\item 3\n",
       "\\end{enumerate*}\n"
      ],
      "text/markdown": [
       "1. 30\n",
       "2. 3\n",
       "\n",
       "\n"
      ],
      "text/plain": [
       "[1] 30  3"
      ]
     },
     "metadata": {},
     "output_type": "display_data"
    },
    {
     "data": {
      "text/html": [
       "<ol class=list-inline>\n",
       "\t<li>30</li>\n",
       "\t<li>10</li>\n",
       "</ol>\n"
      ],
      "text/latex": [
       "\\begin{enumerate*}\n",
       "\\item 30\n",
       "\\item 10\n",
       "\\end{enumerate*}\n"
      ],
      "text/markdown": [
       "1. 30\n",
       "2. 10\n",
       "\n",
       "\n"
      ],
      "text/plain": [
       "[1] 30 10"
      ]
     },
     "metadata": {},
     "output_type": "display_data"
    }
   ],
   "source": [
    "noMeta<-features_pos[,8:12]\n",
    "head(noMeta)\n",
    "not_zero<-which(colSums(noMeta) != 0)\n",
    "head(not_zero)\n",
    "nonzero <- noMeta[, not_zero]\n",
    "nonzero\n",
    "nonzero_wMeta<-cbind(features_pos[,1:7], nonzero)\n",
    "head(nonzero_wMeta)\n",
    "dim(features_pos)\n",
    "dim(noMeta)\n",
    "dim(nonzero)\n",
    "dim(nonzero_wMeta)"
   ]
  },
  {
   "cell_type": "code",
   "execution_count": 5,
   "metadata": {
    "scrolled": true
   },
   "outputs": [
    {
     "name": "stderr",
     "output_type": "stream",
     "text": [
      "Warning message in wilcox.test.default(x = c(0, 0, 0, 0, 0, 0, 0, 0, 0, 0, 0, 0, :\n",
      "\"cannot compute exact p-value with ties\""
     ]
    },
    {
     "data": {
      "text/html": [
       "<ol class=list-inline>\n",
       "\t<li>0.934887200362667</li>\n",
       "\t<li>0.136974224446085</li>\n",
       "\t<li>0.164394222391658</li>\n",
       "</ol>\n"
      ],
      "text/latex": [
       "\\begin{enumerate*}\n",
       "\\item 0.934887200362667\n",
       "\\item 0.136974224446085\n",
       "\\item 0.164394222391658\n",
       "\\end{enumerate*}\n"
      ],
      "text/markdown": [
       "1. 0.934887200362667\n",
       "2. 0.136974224446085\n",
       "3. 0.164394222391658\n",
       "\n",
       "\n"
      ],
      "text/plain": [
       "[1] 0.9348872 0.1369742 0.1643942"
      ]
     },
     "metadata": {},
     "output_type": "display_data"
    },
    {
     "data": {
      "text/html": [
       "<ol class=list-inline>\n",
       "\t<li>0.934887200362667</li>\n",
       "\t<li>0.246591333587487</li>\n",
       "\t<li>0.246591333587487</li>\n",
       "</ol>\n"
      ],
      "text/latex": [
       "\\begin{enumerate*}\n",
       "\\item 0.934887200362667\n",
       "\\item 0.246591333587487\n",
       "\\item 0.246591333587487\n",
       "\\end{enumerate*}\n"
      ],
      "text/markdown": [
       "1. 0.934887200362667\n",
       "2. 0.246591333587487\n",
       "3. 0.246591333587487\n",
       "\n",
       "\n"
      ],
      "text/plain": [
       "[1] 0.9348872 0.2465913 0.2465913"
      ]
     },
     "metadata": {},
     "output_type": "display_data"
    }
   ],
   "source": [
    "pval<-c()\n",
    "\n",
    "for (i in 8:ncol(nonzero_wMeta)) \n",
    "pval<-c(pval,wilcox.test(nonzero_wMeta[,i]~nonzero_wMeta$Treatmentgroup)$p.value)\n",
    "head(pval)\n",
    "pAdj <- p.adjust(pval, method = c(\"fdr\"), n=length(pval)) \n",
    "head(pAdj) \n",
    "\n"
   ]
  },
  {
   "cell_type": "code",
   "execution_count": 6,
   "metadata": {
    "scrolled": true
   },
   "outputs": [
    {
     "data": {
      "text/html": [
       "3"
      ],
      "text/latex": [
       "3"
      ],
      "text/markdown": [
       "3"
      ],
      "text/plain": [
       "[1] 3"
      ]
     },
     "metadata": {},
     "output_type": "display_data"
    }
   ],
   "source": [
    "length(pval)"
   ]
  },
  {
   "cell_type": "code",
   "execution_count": 7,
   "metadata": {
    "scrolled": true
   },
   "outputs": [
    {
     "data": {
      "text/html": [
       "3"
      ],
      "text/latex": [
       "3"
      ],
      "text/markdown": [
       "3"
      ],
      "text/plain": [
       "[1] 3"
      ]
     },
     "metadata": {},
     "output_type": "display_data"
    }
   ],
   "source": [
    "length(pAdj)"
   ]
  },
  {
   "cell_type": "code",
   "execution_count": 8,
   "metadata": {},
   "outputs": [
    {
     "data": {
      "text/html": [
       "<ol class=list-inline>\n",
       "\t<li>2</li>\n",
       "\t<li>3</li>\n",
       "</ol>\n"
      ],
      "text/latex": [
       "\\begin{enumerate*}\n",
       "\\item 2\n",
       "\\item 3\n",
       "\\end{enumerate*}\n"
      ],
      "text/markdown": [
       "1. 2\n",
       "2. 3\n",
       "\n",
       "\n"
      ],
      "text/plain": [
       "[1] 2 3"
      ]
     },
     "metadata": {},
     "output_type": "display_data"
    },
    {
     "data": {
      "text/html": [
       "<table>\n",
       "<thead><tr><th></th><th scope=col>mass_400</th><th scope=col>mass_500</th><th scope=col>mass_700</th></tr></thead>\n",
       "<tbody>\n",
       "\t<tr><th scope=row>combo</th><td>0.000762710 </td><td>0.002686626 </td><td>0.000000e+00</td></tr>\n",
       "\t<tr><th scope=row>infected</th><td>0.003255812 </td><td>0.002373364 </td><td>6.979813e-05</td></tr>\n",
       "</tbody>\n",
       "</table>\n"
      ],
      "text/latex": [
       "\\begin{tabular}{r|lll}\n",
       "  & mass\\_400 & mass\\_500 & mass\\_700\\\\\n",
       "\\hline\n",
       "\tcombo & 0.000762710  & 0.002686626  & 0.000000e+00\\\\\n",
       "\tinfected & 0.003255812  & 0.002373364  & 6.979813e-05\\\\\n",
       "\\end{tabular}\n"
      ],
      "text/markdown": [
       "\n",
       "| <!--/--> | mass_400 | mass_500 | mass_700 |\n",
       "|---|---|---|---|\n",
       "| combo | 0.000762710  | 0.002686626  | 0.000000e+00 |\n",
       "| infected | 0.003255812  | 0.002373364  | 6.979813e-05 |\n",
       "\n"
      ],
      "text/plain": [
       "         mass_400    mass_500    mass_700    \n",
       "combo    0.000762710 0.002686626 0.000000e+00\n",
       "infected 0.003255812 0.002373364 6.979813e-05"
      ]
     },
     "metadata": {},
     "output_type": "display_data"
    },
    {
     "data": {
      "text/html": [
       "<dl class=dl-horizontal>\n",
       "\t<dt>mass_400</dt>\n",
       "\t\t<dd>0.234261073924847</dd>\n",
       "\t<dt>mass_500</dt>\n",
       "\t\t<dd>1.13199060001095</dd>\n",
       "\t<dt>mass_700</dt>\n",
       "\t\t<dd>0</dd>\n",
       "</dl>\n"
      ],
      "text/latex": [
       "\\begin{description*}\n",
       "\\item[mass\\textbackslash{}\\_400] 0.234261073924847\n",
       "\\item[mass\\textbackslash{}\\_500] 1.13199060001095\n",
       "\\item[mass\\textbackslash{}\\_700] 0\n",
       "\\end{description*}\n"
      ],
      "text/markdown": [
       "mass_400\n",
       ":   0.234261073924847mass_500\n",
       ":   1.13199060001095mass_700\n",
       ":   0\n",
       "\n"
      ],
      "text/plain": [
       " mass_400  mass_500  mass_700 \n",
       "0.2342611 1.1319906 0.0000000 "
      ]
     },
     "metadata": {},
     "output_type": "display_data"
    },
    {
     "data": {
      "text/html": [
       "<ol class=list-inline>\n",
       "\t<li>'numeric'</li>\n",
       "\t<li>'vector'</li>\n",
       "</ol>\n"
      ],
      "text/latex": [
       "\\begin{enumerate*}\n",
       "\\item 'numeric'\n",
       "\\item 'vector'\n",
       "\\end{enumerate*}\n"
      ],
      "text/markdown": [
       "1. 'numeric'\n",
       "2. 'vector'\n",
       "\n",
       "\n"
      ],
      "text/plain": [
       "[1] \"numeric\" \"vector\" "
      ]
     },
     "metadata": {},
     "output_type": "display_data"
    }
   ],
   "source": [
    "avg<- apply(nonzero_wMeta[,8:ncol(nonzero_wMeta)], 2, function(x) tapply(x, nonzero_wMeta$Treatmentgroup, function(x) mean(x))) \n",
    "\n",
    "dim(avg)\n",
    "\n",
    "avg[,1:3]\n",
    "\n",
    "fch <- apply(avg, 2, function(x) x[1]/x[2])\n",
    "\n",
    "head(fch)\n",
    "is(fch)"
   ]
  },
  {
   "cell_type": "code",
   "execution_count": 9,
   "metadata": {
    "scrolled": true
   },
   "outputs": [
    {
     "data": {
      "text/html": [
       "<dl class=dl-horizontal>\n",
       "\t<dt>mass_400</dt>\n",
       "\t\t<dd>0.234261073924847</dd>\n",
       "\t<dt>mass_500</dt>\n",
       "\t\t<dd>1.13199060001095</dd>\n",
       "\t<dt>mass_700</dt>\n",
       "\t\t<dd>0</dd>\n",
       "</dl>\n"
      ],
      "text/latex": [
       "\\begin{description*}\n",
       "\\item[mass\\textbackslash{}\\_400] 0.234261073924847\n",
       "\\item[mass\\textbackslash{}\\_500] 1.13199060001095\n",
       "\\item[mass\\textbackslash{}\\_700] 0\n",
       "\\end{description*}\n"
      ],
      "text/markdown": [
       "mass_400\n",
       ":   0.234261073924847mass_500\n",
       ":   1.13199060001095mass_700\n",
       ":   0\n",
       "\n"
      ],
      "text/plain": [
       " mass_400  mass_500  mass_700 \n",
       "0.2342611 1.1319906 0.0000000 "
      ]
     },
     "metadata": {},
     "output_type": "display_data"
    }
   ],
   "source": [
    "fch"
   ]
  },
  {
   "cell_type": "code",
   "execution_count": 10,
   "metadata": {
    "scrolled": false
   },
   "outputs": [],
   "source": [
    "df <- data.frame(fch,pval, pAdj)\n",
    "write.csv(df, \"PE-treat-RVB-wilcox-infected-combo.csv\")"
   ]
  },
  {
   "cell_type": "code",
   "execution_count": null,
   "metadata": {},
   "outputs": [],
   "source": []
  },
  {
   "cell_type": "code",
   "execution_count": null,
   "metadata": {},
   "outputs": [],
   "source": []
  },
  {
   "cell_type": "code",
   "execution_count": null,
   "metadata": {},
   "outputs": [],
   "source": []
  },
  {
   "cell_type": "code",
   "execution_count": null,
   "metadata": {},
   "outputs": [],
   "source": []
  },
  {
   "cell_type": "code",
   "execution_count": null,
   "metadata": {},
   "outputs": [],
   "source": []
  },
  {
   "cell_type": "code",
   "execution_count": null,
   "metadata": {},
   "outputs": [],
   "source": []
  }
 ],
 "metadata": {
  "kernelspec": {
   "display_name": "R",
   "language": "R",
   "name": "ir"
  },
  "language_info": {
   "codemirror_mode": "r",
   "file_extension": ".r",
   "mimetype": "text/x-r-source",
   "name": "R",
   "pygments_lexer": "r",
   "version": "3.6.1"
  }
 },
 "nbformat": 4,
 "nbformat_minor": 2
}
