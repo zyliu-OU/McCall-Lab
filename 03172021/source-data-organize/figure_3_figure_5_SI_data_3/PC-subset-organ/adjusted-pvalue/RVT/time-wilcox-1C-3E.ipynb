{
 "cells": [
  {
   "cell_type": "code",
   "execution_count": 21,
   "metadata": {},
   "outputs": [],
   "source": [
    "a <- read.csv(\"03172021-PC-time-RVT-M-F.csv\")"
   ]
  },
  {
   "cell_type": "code",
   "execution_count": 22,
   "metadata": {},
   "outputs": [
    {
     "data": {
      "text/html": [
       "<table>\n",
       "<thead><tr><th scope=col>filename</th><th scope=col>MouseID</th><th scope=col>Treatmentgroup</th><th scope=col>status</th><th scope=col>DPI</th><th scope=col>organ</th><th scope=col>well_position</th><th scope=col>plate</th><th scope=col>mass_400</th><th scope=col>mass_500</th><th scope=col>mass_600</th><th scope=col>mass_700</th><th scope=col>mass_800</th></tr></thead>\n",
       "<tbody>\n",
       "\t<tr><td>X501_Group1A_50dpi_RV_top_251_B_A1_P137.mzXML</td><td>501                                          </td><td>Group1A                                      </td><td>naive                                        </td><td>50                                           </td><td>RV_top                                       </td><td>A1                                           </td><td>P137                                         </td><td>0.02971381                                   </td><td>0.02220213                                   </td><td>0.000078600                                  </td><td>0.002125298                                  </td><td>0.000000000                                  </td></tr>\n",
       "\t<tr><td>X502_Group1A_50dpi_RV_top_252_B_A2_P137.mzXML</td><td>502                                          </td><td>Group1A                                      </td><td>naive                                        </td><td>50                                           </td><td>RV_top                                       </td><td>A2                                           </td><td>P137                                         </td><td>0.03667454                                   </td><td>0.03857869                                   </td><td>0.000675094                                  </td><td>0.003480386                                  </td><td>0.003499940                                  </td></tr>\n",
       "\t<tr><td>X503_Group1A_50dpi_RV_top_253_B_A3_P137.mzXML</td><td>503                                          </td><td>Group1A                                      </td><td>naive                                        </td><td>50                                           </td><td>RV_top                                       </td><td>A3                                           </td><td>P137                                         </td><td>0.03540331                                   </td><td>0.03001902                                   </td><td>0.000535181                                  </td><td>0.005257024                                  </td><td>0.007673925                                  </td></tr>\n",
       "\t<tr><td>X504_Group1A_50dpi_RV_top_254_B_A4_P137.mzXML</td><td>504                                          </td><td>Group1A                                      </td><td>naive                                        </td><td>50                                           </td><td>RV_top                                       </td><td>A4                                           </td><td>P137                                         </td><td>0.04135269                                   </td><td>0.03712155                                   </td><td>0.000900666                                  </td><td>0.000650154                                  </td><td>0.001575612                                  </td></tr>\n",
       "\t<tr><td>X505_Group1A_50dpi_RV_top_255_B_A5_P137.mzXML</td><td>505                                          </td><td>Group1A                                      </td><td>naive                                        </td><td>50                                           </td><td>RV_top                                       </td><td>A5                                           </td><td>P137                                         </td><td>0.03711523                                   </td><td>0.03428848                                   </td><td>0.001060644                                  </td><td>0.004597098                                  </td><td>0.001621096                                  </td></tr>\n",
       "\t<tr><td>X521_Group1A_50dpi_RV_top_256_B_A6_P137.mzXML</td><td>521                                          </td><td>Group1A                                      </td><td>naive                                        </td><td>50                                           </td><td>RV_top                                       </td><td>A6                                           </td><td>P137                                         </td><td>0.02327026                                   </td><td>0.02096296                                   </td><td>0.000790152                                  </td><td>0.003665277                                  </td><td>0.001131362                                  </td></tr>\n",
       "</tbody>\n",
       "</table>\n"
      ],
      "text/latex": [
       "\\begin{tabular}{r|lllllllllllll}\n",
       " filename & MouseID & Treatmentgroup & status & DPI & organ & well\\_position & plate & mass\\_400 & mass\\_500 & mass\\_600 & mass\\_700 & mass\\_800\\\\\n",
       "\\hline\n",
       "\t X501\\_Group1A\\_50dpi\\_RV\\_top\\_251\\_B\\_A1\\_P137.mzXML & 501                                                           & Group1A                                                       & naive                                                         & 50                                                            & RV\\_top                                                      & A1                                                            & P137                                                          & 0.02971381                                                    & 0.02220213                                                    & 0.000078600                                                   & 0.002125298                                                   & 0.000000000                                                  \\\\\n",
       "\t X502\\_Group1A\\_50dpi\\_RV\\_top\\_252\\_B\\_A2\\_P137.mzXML & 502                                                           & Group1A                                                       & naive                                                         & 50                                                            & RV\\_top                                                      & A2                                                            & P137                                                          & 0.03667454                                                    & 0.03857869                                                    & 0.000675094                                                   & 0.003480386                                                   & 0.003499940                                                  \\\\\n",
       "\t X503\\_Group1A\\_50dpi\\_RV\\_top\\_253\\_B\\_A3\\_P137.mzXML & 503                                                           & Group1A                                                       & naive                                                         & 50                                                            & RV\\_top                                                      & A3                                                            & P137                                                          & 0.03540331                                                    & 0.03001902                                                    & 0.000535181                                                   & 0.005257024                                                   & 0.007673925                                                  \\\\\n",
       "\t X504\\_Group1A\\_50dpi\\_RV\\_top\\_254\\_B\\_A4\\_P137.mzXML & 504                                                           & Group1A                                                       & naive                                                         & 50                                                            & RV\\_top                                                      & A4                                                            & P137                                                          & 0.04135269                                                    & 0.03712155                                                    & 0.000900666                                                   & 0.000650154                                                   & 0.001575612                                                  \\\\\n",
       "\t X505\\_Group1A\\_50dpi\\_RV\\_top\\_255\\_B\\_A5\\_P137.mzXML & 505                                                           & Group1A                                                       & naive                                                         & 50                                                            & RV\\_top                                                      & A5                                                            & P137                                                          & 0.03711523                                                    & 0.03428848                                                    & 0.001060644                                                   & 0.004597098                                                   & 0.001621096                                                  \\\\\n",
       "\t X521\\_Group1A\\_50dpi\\_RV\\_top\\_256\\_B\\_A6\\_P137.mzXML & 521                                                           & Group1A                                                       & naive                                                         & 50                                                            & RV\\_top                                                      & A6                                                            & P137                                                          & 0.02327026                                                    & 0.02096296                                                    & 0.000790152                                                   & 0.003665277                                                   & 0.001131362                                                  \\\\\n",
       "\\end{tabular}\n"
      ],
      "text/markdown": [
       "\n",
       "| filename | MouseID | Treatmentgroup | status | DPI | organ | well_position | plate | mass_400 | mass_500 | mass_600 | mass_700 | mass_800 |\n",
       "|---|---|---|---|---|---|---|---|---|---|---|---|---|\n",
       "| X501_Group1A_50dpi_RV_top_251_B_A1_P137.mzXML | 501                                           | Group1A                                       | naive                                         | 50                                            | RV_top                                        | A1                                            | P137                                          | 0.02971381                                    | 0.02220213                                    | 0.000078600                                   | 0.002125298                                   | 0.000000000                                   |\n",
       "| X502_Group1A_50dpi_RV_top_252_B_A2_P137.mzXML | 502                                           | Group1A                                       | naive                                         | 50                                            | RV_top                                        | A2                                            | P137                                          | 0.03667454                                    | 0.03857869                                    | 0.000675094                                   | 0.003480386                                   | 0.003499940                                   |\n",
       "| X503_Group1A_50dpi_RV_top_253_B_A3_P137.mzXML | 503                                           | Group1A                                       | naive                                         | 50                                            | RV_top                                        | A3                                            | P137                                          | 0.03540331                                    | 0.03001902                                    | 0.000535181                                   | 0.005257024                                   | 0.007673925                                   |\n",
       "| X504_Group1A_50dpi_RV_top_254_B_A4_P137.mzXML | 504                                           | Group1A                                       | naive                                         | 50                                            | RV_top                                        | A4                                            | P137                                          | 0.04135269                                    | 0.03712155                                    | 0.000900666                                   | 0.000650154                                   | 0.001575612                                   |\n",
       "| X505_Group1A_50dpi_RV_top_255_B_A5_P137.mzXML | 505                                           | Group1A                                       | naive                                         | 50                                            | RV_top                                        | A5                                            | P137                                          | 0.03711523                                    | 0.03428848                                    | 0.001060644                                   | 0.004597098                                   | 0.001621096                                   |\n",
       "| X521_Group1A_50dpi_RV_top_256_B_A6_P137.mzXML | 521                                           | Group1A                                       | naive                                         | 50                                            | RV_top                                        | A6                                            | P137                                          | 0.02327026                                    | 0.02096296                                    | 0.000790152                                   | 0.003665277                                   | 0.001131362                                   |\n",
       "\n"
      ],
      "text/plain": [
       "  filename                                      MouseID Treatmentgroup status\n",
       "1 X501_Group1A_50dpi_RV_top_251_B_A1_P137.mzXML 501     Group1A        naive \n",
       "2 X502_Group1A_50dpi_RV_top_252_B_A2_P137.mzXML 502     Group1A        naive \n",
       "3 X503_Group1A_50dpi_RV_top_253_B_A3_P137.mzXML 503     Group1A        naive \n",
       "4 X504_Group1A_50dpi_RV_top_254_B_A4_P137.mzXML 504     Group1A        naive \n",
       "5 X505_Group1A_50dpi_RV_top_255_B_A5_P137.mzXML 505     Group1A        naive \n",
       "6 X521_Group1A_50dpi_RV_top_256_B_A6_P137.mzXML 521     Group1A        naive \n",
       "  DPI organ  well_position plate mass_400   mass_500   mass_600    mass_700   \n",
       "1 50  RV_top A1            P137  0.02971381 0.02220213 0.000078600 0.002125298\n",
       "2 50  RV_top A2            P137  0.03667454 0.03857869 0.000675094 0.003480386\n",
       "3 50  RV_top A3            P137  0.03540331 0.03001902 0.000535181 0.005257024\n",
       "4 50  RV_top A4            P137  0.04135269 0.03712155 0.000900666 0.000650154\n",
       "5 50  RV_top A5            P137  0.03711523 0.03428848 0.001060644 0.004597098\n",
       "6 50  RV_top A6            P137  0.02327026 0.02096296 0.000790152 0.003665277\n",
       "  mass_800   \n",
       "1 0.000000000\n",
       "2 0.003499940\n",
       "3 0.007673925\n",
       "4 0.001575612\n",
       "5 0.001621096\n",
       "6 0.001131362"
      ]
     },
     "metadata": {},
     "output_type": "display_data"
    },
    {
     "data": {
      "text/html": [
       "<ol class=list-inline>\n",
       "\t<li>90</li>\n",
       "\t<li>13</li>\n",
       "</ol>\n"
      ],
      "text/latex": [
       "\\begin{enumerate*}\n",
       "\\item 90\n",
       "\\item 13\n",
       "\\end{enumerate*}\n"
      ],
      "text/markdown": [
       "1. 90\n",
       "2. 13\n",
       "\n",
       "\n"
      ],
      "text/plain": [
       "[1] 90 13"
      ]
     },
     "metadata": {},
     "output_type": "display_data"
    }
   ],
   "source": [
    "head(a)\n",
    "dim(a)"
   ]
  },
  {
   "cell_type": "code",
   "execution_count": 23,
   "metadata": {},
   "outputs": [
    {
     "data": {
      "text/html": [
       "<table>\n",
       "<thead><tr><th></th><th scope=col>filename</th><th scope=col>MouseID</th><th scope=col>Treatmentgroup</th><th scope=col>status</th><th scope=col>DPI</th><th scope=col>organ</th><th scope=col>well_position</th><th scope=col>plate</th><th scope=col>mass_400</th><th scope=col>mass_500</th><th scope=col>mass_600</th><th scope=col>mass_700</th><th scope=col>mass_800</th></tr></thead>\n",
       "<tbody>\n",
       "\t<tr><th scope=row>31</th><td>X511_Group1C_142dpi_RV_top_161_G_A1_P136.mzXML</td><td>511                                           </td><td>Group1C                                       </td><td>naive                                         </td><td>142                                           </td><td>RV_top                                        </td><td>A1                                            </td><td>P136                                          </td><td>0.03209193                                    </td><td>0.026205891                                   </td><td>0.000100362                                   </td><td>0.000000000                                   </td><td>0.000000000                                   </td></tr>\n",
       "\t<tr><th scope=row>32</th><td>X512_Group1C_142dpi_RV_top_162_G_A2_P136.mzXML</td><td>512                                           </td><td>Group1C                                       </td><td>naive                                         </td><td>142                                           </td><td>RV_top                                        </td><td>A2                                            </td><td>P136                                          </td><td>0.02540288                                    </td><td>0.030534463                                   </td><td>0.000454363                                   </td><td>0.001898197                                   </td><td>0.000330184                                   </td></tr>\n",
       "\t<tr><th scope=row>33</th><td>X513_Group1C_142dpi_RV_top_163_G_A3_P136.mzXML</td><td>513                                           </td><td>Group1C                                       </td><td>naive                                         </td><td>142                                           </td><td>RV_top                                        </td><td>A3                                            </td><td>P136                                          </td><td>0.03366528                                    </td><td>0.032277149                                   </td><td>0.000964191                                   </td><td>0.000102656                                   </td><td>0.000358707                                   </td></tr>\n",
       "\t<tr><th scope=row>34</th><td>X514_Group1C_142dpi_RV_top_164_G_A4_P136.mzXML</td><td>514                                           </td><td>Group1C                                       </td><td>naive                                         </td><td>142                                           </td><td>RV_top                                        </td><td>A4                                            </td><td>P136                                          </td><td>0.01959612                                    </td><td>0.020882444                                   </td><td>0.000388447                                   </td><td>0.002484004                                   </td><td>0.000096300                                   </td></tr>\n",
       "\t<tr><th scope=row>35</th><td>X515_Group1C_142dpi_RV_top_165_G_A5_P136.mzXML</td><td>515                                           </td><td>Group1C                                       </td><td>naive                                         </td><td>142                                           </td><td>RV_top                                        </td><td>A5                                            </td><td>P136                                          </td><td>0.05050674                                    </td><td>0.045026912                                   </td><td>0.000908792                                   </td><td>0.000529243                                   </td><td>0.000356704                                   </td></tr>\n",
       "\t<tr><th scope=row>36</th><td>X531_Group1C_142dpi_RV_top_166_G_A6_P136.mzXML</td><td>531                                           </td><td>Group1C                                       </td><td>naive                                         </td><td>142                                           </td><td>RV_top                                        </td><td>A6                                            </td><td>P136                                          </td><td>0.01417874                                    </td><td>0.009011964                                   </td><td>0.000051900                                   </td><td>0.003505334                                   </td><td>0.001524456                                   </td></tr>\n",
       "</tbody>\n",
       "</table>\n"
      ],
      "text/latex": [
       "\\begin{tabular}{r|lllllllllllll}\n",
       "  & filename & MouseID & Treatmentgroup & status & DPI & organ & well\\_position & plate & mass\\_400 & mass\\_500 & mass\\_600 & mass\\_700 & mass\\_800\\\\\n",
       "\\hline\n",
       "\t31 & X511\\_Group1C\\_142dpi\\_RV\\_top\\_161\\_G\\_A1\\_P136.mzXML & 511                                                            & Group1C                                                        & naive                                                          & 142                                                            & RV\\_top                                                       & A1                                                             & P136                                                           & 0.03209193                                                     & 0.026205891                                                    & 0.000100362                                                    & 0.000000000                                                    & 0.000000000                                                   \\\\\n",
       "\t32 & X512\\_Group1C\\_142dpi\\_RV\\_top\\_162\\_G\\_A2\\_P136.mzXML & 512                                                            & Group1C                                                        & naive                                                          & 142                                                            & RV\\_top                                                       & A2                                                             & P136                                                           & 0.02540288                                                     & 0.030534463                                                    & 0.000454363                                                    & 0.001898197                                                    & 0.000330184                                                   \\\\\n",
       "\t33 & X513\\_Group1C\\_142dpi\\_RV\\_top\\_163\\_G\\_A3\\_P136.mzXML & 513                                                            & Group1C                                                        & naive                                                          & 142                                                            & RV\\_top                                                       & A3                                                             & P136                                                           & 0.03366528                                                     & 0.032277149                                                    & 0.000964191                                                    & 0.000102656                                                    & 0.000358707                                                   \\\\\n",
       "\t34 & X514\\_Group1C\\_142dpi\\_RV\\_top\\_164\\_G\\_A4\\_P136.mzXML & 514                                                            & Group1C                                                        & naive                                                          & 142                                                            & RV\\_top                                                       & A4                                                             & P136                                                           & 0.01959612                                                     & 0.020882444                                                    & 0.000388447                                                    & 0.002484004                                                    & 0.000096300                                                   \\\\\n",
       "\t35 & X515\\_Group1C\\_142dpi\\_RV\\_top\\_165\\_G\\_A5\\_P136.mzXML & 515                                                            & Group1C                                                        & naive                                                          & 142                                                            & RV\\_top                                                       & A5                                                             & P136                                                           & 0.05050674                                                     & 0.045026912                                                    & 0.000908792                                                    & 0.000529243                                                    & 0.000356704                                                   \\\\\n",
       "\t36 & X531\\_Group1C\\_142dpi\\_RV\\_top\\_166\\_G\\_A6\\_P136.mzXML & 531                                                            & Group1C                                                        & naive                                                          & 142                                                            & RV\\_top                                                       & A6                                                             & P136                                                           & 0.01417874                                                     & 0.009011964                                                    & 0.000051900                                                    & 0.003505334                                                    & 0.001524456                                                   \\\\\n",
       "\\end{tabular}\n"
      ],
      "text/markdown": [
       "\n",
       "| <!--/--> | filename | MouseID | Treatmentgroup | status | DPI | organ | well_position | plate | mass_400 | mass_500 | mass_600 | mass_700 | mass_800 |\n",
       "|---|---|---|---|---|---|---|---|---|---|---|---|---|---|\n",
       "| 31 | X511_Group1C_142dpi_RV_top_161_G_A1_P136.mzXML | 511                                            | Group1C                                        | naive                                          | 142                                            | RV_top                                         | A1                                             | P136                                           | 0.03209193                                     | 0.026205891                                    | 0.000100362                                    | 0.000000000                                    | 0.000000000                                    |\n",
       "| 32 | X512_Group1C_142dpi_RV_top_162_G_A2_P136.mzXML | 512                                            | Group1C                                        | naive                                          | 142                                            | RV_top                                         | A2                                             | P136                                           | 0.02540288                                     | 0.030534463                                    | 0.000454363                                    | 0.001898197                                    | 0.000330184                                    |\n",
       "| 33 | X513_Group1C_142dpi_RV_top_163_G_A3_P136.mzXML | 513                                            | Group1C                                        | naive                                          | 142                                            | RV_top                                         | A3                                             | P136                                           | 0.03366528                                     | 0.032277149                                    | 0.000964191                                    | 0.000102656                                    | 0.000358707                                    |\n",
       "| 34 | X514_Group1C_142dpi_RV_top_164_G_A4_P136.mzXML | 514                                            | Group1C                                        | naive                                          | 142                                            | RV_top                                         | A4                                             | P136                                           | 0.01959612                                     | 0.020882444                                    | 0.000388447                                    | 0.002484004                                    | 0.000096300                                    |\n",
       "| 35 | X515_Group1C_142dpi_RV_top_165_G_A5_P136.mzXML | 515                                            | Group1C                                        | naive                                          | 142                                            | RV_top                                         | A5                                             | P136                                           | 0.05050674                                     | 0.045026912                                    | 0.000908792                                    | 0.000529243                                    | 0.000356704                                    |\n",
       "| 36 | X531_Group1C_142dpi_RV_top_166_G_A6_P136.mzXML | 531                                            | Group1C                                        | naive                                          | 142                                            | RV_top                                         | A6                                             | P136                                           | 0.01417874                                     | 0.009011964                                    | 0.000051900                                    | 0.003505334                                    | 0.001524456                                    |\n",
       "\n"
      ],
      "text/plain": [
       "   filename                                       MouseID Treatmentgroup status\n",
       "31 X511_Group1C_142dpi_RV_top_161_G_A1_P136.mzXML 511     Group1C        naive \n",
       "32 X512_Group1C_142dpi_RV_top_162_G_A2_P136.mzXML 512     Group1C        naive \n",
       "33 X513_Group1C_142dpi_RV_top_163_G_A3_P136.mzXML 513     Group1C        naive \n",
       "34 X514_Group1C_142dpi_RV_top_164_G_A4_P136.mzXML 514     Group1C        naive \n",
       "35 X515_Group1C_142dpi_RV_top_165_G_A5_P136.mzXML 515     Group1C        naive \n",
       "36 X531_Group1C_142dpi_RV_top_166_G_A6_P136.mzXML 531     Group1C        naive \n",
       "   DPI organ  well_position plate mass_400   mass_500    mass_600   \n",
       "31 142 RV_top A1            P136  0.03209193 0.026205891 0.000100362\n",
       "32 142 RV_top A2            P136  0.02540288 0.030534463 0.000454363\n",
       "33 142 RV_top A3            P136  0.03366528 0.032277149 0.000964191\n",
       "34 142 RV_top A4            P136  0.01959612 0.020882444 0.000388447\n",
       "35 142 RV_top A5            P136  0.05050674 0.045026912 0.000908792\n",
       "36 142 RV_top A6            P136  0.01417874 0.009011964 0.000051900\n",
       "   mass_700    mass_800   \n",
       "31 0.000000000 0.000000000\n",
       "32 0.001898197 0.000330184\n",
       "33 0.000102656 0.000358707\n",
       "34 0.002484004 0.000096300\n",
       "35 0.000529243 0.000356704\n",
       "36 0.003505334 0.001524456"
      ]
     },
     "metadata": {},
     "output_type": "display_data"
    },
    {
     "data": {
      "text/html": [
       "<ol class=list-inline>\n",
       "\t<li>30</li>\n",
       "\t<li>13</li>\n",
       "</ol>\n"
      ],
      "text/latex": [
       "\\begin{enumerate*}\n",
       "\\item 30\n",
       "\\item 13\n",
       "\\end{enumerate*}\n"
      ],
      "text/markdown": [
       "1. 30\n",
       "2. 13\n",
       "\n",
       "\n"
      ],
      "text/plain": [
       "[1] 30 13"
      ]
     },
     "metadata": {},
     "output_type": "display_data"
    }
   ],
   "source": [
    "features_pos<-droplevels(subset(a, a$Treatmentgroup==c(\"Group1C\")|a$Treatmentgroup==c(\"Group3E\")))\n",
    "head(features_pos)\n",
    "dim(features_pos)"
   ]
  },
  {
   "cell_type": "code",
   "execution_count": 24,
   "metadata": {
    "scrolled": false
   },
   "outputs": [
    {
     "data": {
      "text/html": [
       "<table>\n",
       "<thead><tr><th></th><th scope=col>mass_400</th><th scope=col>mass_500</th><th scope=col>mass_600</th><th scope=col>mass_700</th><th scope=col>mass_800</th></tr></thead>\n",
       "<tbody>\n",
       "\t<tr><th scope=row>31</th><td>0.03209193 </td><td>0.026205891</td><td>0.000100362</td><td>0.000000000</td><td>0.000000000</td></tr>\n",
       "\t<tr><th scope=row>32</th><td>0.02540288 </td><td>0.030534463</td><td>0.000454363</td><td>0.001898197</td><td>0.000330184</td></tr>\n",
       "\t<tr><th scope=row>33</th><td>0.03366528 </td><td>0.032277149</td><td>0.000964191</td><td>0.000102656</td><td>0.000358707</td></tr>\n",
       "\t<tr><th scope=row>34</th><td>0.01959612 </td><td>0.020882444</td><td>0.000388447</td><td>0.002484004</td><td>0.000096300</td></tr>\n",
       "\t<tr><th scope=row>35</th><td>0.05050674 </td><td>0.045026912</td><td>0.000908792</td><td>0.000529243</td><td>0.000356704</td></tr>\n",
       "\t<tr><th scope=row>36</th><td>0.01417874 </td><td>0.009011964</td><td>0.000051900</td><td>0.003505334</td><td>0.001524456</td></tr>\n",
       "</tbody>\n",
       "</table>\n"
      ],
      "text/latex": [
       "\\begin{tabular}{r|lllll}\n",
       "  & mass\\_400 & mass\\_500 & mass\\_600 & mass\\_700 & mass\\_800\\\\\n",
       "\\hline\n",
       "\t31 & 0.03209193  & 0.026205891 & 0.000100362 & 0.000000000 & 0.000000000\\\\\n",
       "\t32 & 0.02540288  & 0.030534463 & 0.000454363 & 0.001898197 & 0.000330184\\\\\n",
       "\t33 & 0.03366528  & 0.032277149 & 0.000964191 & 0.000102656 & 0.000358707\\\\\n",
       "\t34 & 0.01959612  & 0.020882444 & 0.000388447 & 0.002484004 & 0.000096300\\\\\n",
       "\t35 & 0.05050674  & 0.045026912 & 0.000908792 & 0.000529243 & 0.000356704\\\\\n",
       "\t36 & 0.01417874  & 0.009011964 & 0.000051900 & 0.003505334 & 0.001524456\\\\\n",
       "\\end{tabular}\n"
      ],
      "text/markdown": [
       "\n",
       "| <!--/--> | mass_400 | mass_500 | mass_600 | mass_700 | mass_800 |\n",
       "|---|---|---|---|---|---|\n",
       "| 31 | 0.03209193  | 0.026205891 | 0.000100362 | 0.000000000 | 0.000000000 |\n",
       "| 32 | 0.02540288  | 0.030534463 | 0.000454363 | 0.001898197 | 0.000330184 |\n",
       "| 33 | 0.03366528  | 0.032277149 | 0.000964191 | 0.000102656 | 0.000358707 |\n",
       "| 34 | 0.01959612  | 0.020882444 | 0.000388447 | 0.002484004 | 0.000096300 |\n",
       "| 35 | 0.05050674  | 0.045026912 | 0.000908792 | 0.000529243 | 0.000356704 |\n",
       "| 36 | 0.01417874  | 0.009011964 | 0.000051900 | 0.003505334 | 0.001524456 |\n",
       "\n"
      ],
      "text/plain": [
       "   mass_400   mass_500    mass_600    mass_700    mass_800   \n",
       "31 0.03209193 0.026205891 0.000100362 0.000000000 0.000000000\n",
       "32 0.02540288 0.030534463 0.000454363 0.001898197 0.000330184\n",
       "33 0.03366528 0.032277149 0.000964191 0.000102656 0.000358707\n",
       "34 0.01959612 0.020882444 0.000388447 0.002484004 0.000096300\n",
       "35 0.05050674 0.045026912 0.000908792 0.000529243 0.000356704\n",
       "36 0.01417874 0.009011964 0.000051900 0.003505334 0.001524456"
      ]
     },
     "metadata": {},
     "output_type": "display_data"
    },
    {
     "data": {
      "text/html": [
       "<dl class=dl-horizontal>\n",
       "\t<dt>mass_400</dt>\n",
       "\t\t<dd>1</dd>\n",
       "\t<dt>mass_500</dt>\n",
       "\t\t<dd>2</dd>\n",
       "\t<dt>mass_600</dt>\n",
       "\t\t<dd>3</dd>\n",
       "\t<dt>mass_700</dt>\n",
       "\t\t<dd>4</dd>\n",
       "\t<dt>mass_800</dt>\n",
       "\t\t<dd>5</dd>\n",
       "</dl>\n"
      ],
      "text/latex": [
       "\\begin{description*}\n",
       "\\item[mass\\textbackslash{}\\_400] 1\n",
       "\\item[mass\\textbackslash{}\\_500] 2\n",
       "\\item[mass\\textbackslash{}\\_600] 3\n",
       "\\item[mass\\textbackslash{}\\_700] 4\n",
       "\\item[mass\\textbackslash{}\\_800] 5\n",
       "\\end{description*}\n"
      ],
      "text/markdown": [
       "mass_400\n",
       ":   1mass_500\n",
       ":   2mass_600\n",
       ":   3mass_700\n",
       ":   4mass_800\n",
       ":   5\n",
       "\n"
      ],
      "text/plain": [
       "mass_400 mass_500 mass_600 mass_700 mass_800 \n",
       "       1        2        3        4        5 "
      ]
     },
     "metadata": {},
     "output_type": "display_data"
    },
    {
     "data": {
      "text/html": [
       "<table>\n",
       "<thead><tr><th></th><th scope=col>mass_400</th><th scope=col>mass_500</th><th scope=col>mass_600</th><th scope=col>mass_700</th><th scope=col>mass_800</th></tr></thead>\n",
       "<tbody>\n",
       "\t<tr><th scope=row>31</th><td>0.032091931</td><td>0.026205891</td><td>0.000100362</td><td>0.000000000</td><td>0.000000000</td></tr>\n",
       "\t<tr><th scope=row>32</th><td>0.025402882</td><td>0.030534463</td><td>0.000454363</td><td>0.001898197</td><td>0.000330184</td></tr>\n",
       "\t<tr><th scope=row>33</th><td>0.033665283</td><td>0.032277149</td><td>0.000964191</td><td>0.000102656</td><td>0.000358707</td></tr>\n",
       "\t<tr><th scope=row>34</th><td>0.019596124</td><td>0.020882444</td><td>0.000388447</td><td>0.002484004</td><td>0.000096300</td></tr>\n",
       "\t<tr><th scope=row>35</th><td>0.050506740</td><td>0.045026912</td><td>0.000908792</td><td>0.000529243</td><td>0.000356704</td></tr>\n",
       "\t<tr><th scope=row>36</th><td>0.014178742</td><td>0.009011964</td><td>0.000051900</td><td>0.003505334</td><td>0.001524456</td></tr>\n",
       "\t<tr><th scope=row>37</th><td>0.013255028</td><td>0.009220371</td><td>0.000062000</td><td>0.000000000</td><td>0.000000000</td></tr>\n",
       "\t<tr><th scope=row>38</th><td>0.013438296</td><td>0.007907952</td><td>0.000000000</td><td>0.000000000</td><td>0.000000000</td></tr>\n",
       "\t<tr><th scope=row>39</th><td>0.025635682</td><td>0.025257531</td><td>0.000339953</td><td>0.000102069</td><td>0.000371276</td></tr>\n",
       "\t<tr><th scope=row>40</th><td>0.025950926</td><td>0.021070126</td><td>0.000483824</td><td>0.000147987</td><td>0.000340628</td></tr>\n",
       "\t<tr><th scope=row>41</th><td>0.009134552</td><td>0.006988521</td><td>0.000000000</td><td>0.000048500</td><td>0.000000000</td></tr>\n",
       "\t<tr><th scope=row>42</th><td>0.039027894</td><td>0.049926059</td><td>0.000340301</td><td>0.001124596</td><td>0.000814697</td></tr>\n",
       "\t<tr><th scope=row>43</th><td>0.036002003</td><td>0.033831190</td><td>0.000616500</td><td>0.001533659</td><td>0.000823851</td></tr>\n",
       "\t<tr><th scope=row>44</th><td>0.031592678</td><td>0.030282367</td><td>0.000705186</td><td>0.000059900</td><td>0.000000000</td></tr>\n",
       "\t<tr><th scope=row>45</th><td>0.032367747</td><td>0.027459259</td><td>0.000803847</td><td>0.001927539</td><td>0.000276280</td></tr>\n",
       "\t<tr><th scope=row>76</th><td>0.028377749</td><td>0.022834037</td><td>0.000315686</td><td>0.000232400</td><td>0.000000000</td></tr>\n",
       "\t<tr><th scope=row>77</th><td>0.028718545</td><td>0.020977836</td><td>0.000173354</td><td>0.000000000</td><td>0.000000000</td></tr>\n",
       "\t<tr><th scope=row>78</th><td>0.017991306</td><td>0.016555770</td><td>0.000197216</td><td>0.002339933</td><td>0.002753124</td></tr>\n",
       "\t<tr><th scope=row>79</th><td>0.019163335</td><td>0.012070618</td><td>0.000131078</td><td>0.000091700</td><td>0.000000000</td></tr>\n",
       "\t<tr><th scope=row>80</th><td>0.010710951</td><td>0.007062768</td><td>0.000000000</td><td>0.000000000</td><td>0.000000000</td></tr>\n",
       "\t<tr><th scope=row>81</th><td>0.027372159</td><td>0.019342261</td><td>0.000073400</td><td>0.002431999</td><td>0.000326417</td></tr>\n",
       "\t<tr><th scope=row>82</th><td>0.026557625</td><td>0.021274632</td><td>0.000449218</td><td>0.001106250</td><td>0.001861606</td></tr>\n",
       "\t<tr><th scope=row>83</th><td>0.027571910</td><td>0.018468214</td><td>0.000209633</td><td>0.000000000</td><td>0.000000000</td></tr>\n",
       "\t<tr><th scope=row>84</th><td>0.032199356</td><td>0.030326058</td><td>0.000374924</td><td>0.004210324</td><td>0.001331910</td></tr>\n",
       "\t<tr><th scope=row>85</th><td>0.018753085</td><td>0.015342243</td><td>0.000272379</td><td>0.000073700</td><td>0.000000000</td></tr>\n",
       "\t<tr><th scope=row>86</th><td>0.044292743</td><td>0.042069384</td><td>0.001250248</td><td>0.015092129</td><td>0.005248017</td></tr>\n",
       "\t<tr><th scope=row>87</th><td>0.019104633</td><td>0.019862499</td><td>0.000800215</td><td>0.006109785</td><td>0.003366342</td></tr>\n",
       "\t<tr><th scope=row>88</th><td>0.032575379</td><td>0.024944813</td><td>0.000264527</td><td>0.002440796</td><td>0.001635274</td></tr>\n",
       "\t<tr><th scope=row>89</th><td>0.020753085</td><td>0.017892875</td><td>0.000393003</td><td>0.001753509</td><td>0.000831877</td></tr>\n",
       "\t<tr><th scope=row>90</th><td>0.021125575</td><td>0.018483706</td><td>0.000612078</td><td>0.008863277</td><td>0.000593109</td></tr>\n",
       "</tbody>\n",
       "</table>\n"
      ],
      "text/latex": [
       "\\begin{tabular}{r|lllll}\n",
       "  & mass\\_400 & mass\\_500 & mass\\_600 & mass\\_700 & mass\\_800\\\\\n",
       "\\hline\n",
       "\t31 & 0.032091931 & 0.026205891 & 0.000100362 & 0.000000000 & 0.000000000\\\\\n",
       "\t32 & 0.025402882 & 0.030534463 & 0.000454363 & 0.001898197 & 0.000330184\\\\\n",
       "\t33 & 0.033665283 & 0.032277149 & 0.000964191 & 0.000102656 & 0.000358707\\\\\n",
       "\t34 & 0.019596124 & 0.020882444 & 0.000388447 & 0.002484004 & 0.000096300\\\\\n",
       "\t35 & 0.050506740 & 0.045026912 & 0.000908792 & 0.000529243 & 0.000356704\\\\\n",
       "\t36 & 0.014178742 & 0.009011964 & 0.000051900 & 0.003505334 & 0.001524456\\\\\n",
       "\t37 & 0.013255028 & 0.009220371 & 0.000062000 & 0.000000000 & 0.000000000\\\\\n",
       "\t38 & 0.013438296 & 0.007907952 & 0.000000000 & 0.000000000 & 0.000000000\\\\\n",
       "\t39 & 0.025635682 & 0.025257531 & 0.000339953 & 0.000102069 & 0.000371276\\\\\n",
       "\t40 & 0.025950926 & 0.021070126 & 0.000483824 & 0.000147987 & 0.000340628\\\\\n",
       "\t41 & 0.009134552 & 0.006988521 & 0.000000000 & 0.000048500 & 0.000000000\\\\\n",
       "\t42 & 0.039027894 & 0.049926059 & 0.000340301 & 0.001124596 & 0.000814697\\\\\n",
       "\t43 & 0.036002003 & 0.033831190 & 0.000616500 & 0.001533659 & 0.000823851\\\\\n",
       "\t44 & 0.031592678 & 0.030282367 & 0.000705186 & 0.000059900 & 0.000000000\\\\\n",
       "\t45 & 0.032367747 & 0.027459259 & 0.000803847 & 0.001927539 & 0.000276280\\\\\n",
       "\t76 & 0.028377749 & 0.022834037 & 0.000315686 & 0.000232400 & 0.000000000\\\\\n",
       "\t77 & 0.028718545 & 0.020977836 & 0.000173354 & 0.000000000 & 0.000000000\\\\\n",
       "\t78 & 0.017991306 & 0.016555770 & 0.000197216 & 0.002339933 & 0.002753124\\\\\n",
       "\t79 & 0.019163335 & 0.012070618 & 0.000131078 & 0.000091700 & 0.000000000\\\\\n",
       "\t80 & 0.010710951 & 0.007062768 & 0.000000000 & 0.000000000 & 0.000000000\\\\\n",
       "\t81 & 0.027372159 & 0.019342261 & 0.000073400 & 0.002431999 & 0.000326417\\\\\n",
       "\t82 & 0.026557625 & 0.021274632 & 0.000449218 & 0.001106250 & 0.001861606\\\\\n",
       "\t83 & 0.027571910 & 0.018468214 & 0.000209633 & 0.000000000 & 0.000000000\\\\\n",
       "\t84 & 0.032199356 & 0.030326058 & 0.000374924 & 0.004210324 & 0.001331910\\\\\n",
       "\t85 & 0.018753085 & 0.015342243 & 0.000272379 & 0.000073700 & 0.000000000\\\\\n",
       "\t86 & 0.044292743 & 0.042069384 & 0.001250248 & 0.015092129 & 0.005248017\\\\\n",
       "\t87 & 0.019104633 & 0.019862499 & 0.000800215 & 0.006109785 & 0.003366342\\\\\n",
       "\t88 & 0.032575379 & 0.024944813 & 0.000264527 & 0.002440796 & 0.001635274\\\\\n",
       "\t89 & 0.020753085 & 0.017892875 & 0.000393003 & 0.001753509 & 0.000831877\\\\\n",
       "\t90 & 0.021125575 & 0.018483706 & 0.000612078 & 0.008863277 & 0.000593109\\\\\n",
       "\\end{tabular}\n"
      ],
      "text/markdown": [
       "\n",
       "| <!--/--> | mass_400 | mass_500 | mass_600 | mass_700 | mass_800 |\n",
       "|---|---|---|---|---|---|\n",
       "| 31 | 0.032091931 | 0.026205891 | 0.000100362 | 0.000000000 | 0.000000000 |\n",
       "| 32 | 0.025402882 | 0.030534463 | 0.000454363 | 0.001898197 | 0.000330184 |\n",
       "| 33 | 0.033665283 | 0.032277149 | 0.000964191 | 0.000102656 | 0.000358707 |\n",
       "| 34 | 0.019596124 | 0.020882444 | 0.000388447 | 0.002484004 | 0.000096300 |\n",
       "| 35 | 0.050506740 | 0.045026912 | 0.000908792 | 0.000529243 | 0.000356704 |\n",
       "| 36 | 0.014178742 | 0.009011964 | 0.000051900 | 0.003505334 | 0.001524456 |\n",
       "| 37 | 0.013255028 | 0.009220371 | 0.000062000 | 0.000000000 | 0.000000000 |\n",
       "| 38 | 0.013438296 | 0.007907952 | 0.000000000 | 0.000000000 | 0.000000000 |\n",
       "| 39 | 0.025635682 | 0.025257531 | 0.000339953 | 0.000102069 | 0.000371276 |\n",
       "| 40 | 0.025950926 | 0.021070126 | 0.000483824 | 0.000147987 | 0.000340628 |\n",
       "| 41 | 0.009134552 | 0.006988521 | 0.000000000 | 0.000048500 | 0.000000000 |\n",
       "| 42 | 0.039027894 | 0.049926059 | 0.000340301 | 0.001124596 | 0.000814697 |\n",
       "| 43 | 0.036002003 | 0.033831190 | 0.000616500 | 0.001533659 | 0.000823851 |\n",
       "| 44 | 0.031592678 | 0.030282367 | 0.000705186 | 0.000059900 | 0.000000000 |\n",
       "| 45 | 0.032367747 | 0.027459259 | 0.000803847 | 0.001927539 | 0.000276280 |\n",
       "| 76 | 0.028377749 | 0.022834037 | 0.000315686 | 0.000232400 | 0.000000000 |\n",
       "| 77 | 0.028718545 | 0.020977836 | 0.000173354 | 0.000000000 | 0.000000000 |\n",
       "| 78 | 0.017991306 | 0.016555770 | 0.000197216 | 0.002339933 | 0.002753124 |\n",
       "| 79 | 0.019163335 | 0.012070618 | 0.000131078 | 0.000091700 | 0.000000000 |\n",
       "| 80 | 0.010710951 | 0.007062768 | 0.000000000 | 0.000000000 | 0.000000000 |\n",
       "| 81 | 0.027372159 | 0.019342261 | 0.000073400 | 0.002431999 | 0.000326417 |\n",
       "| 82 | 0.026557625 | 0.021274632 | 0.000449218 | 0.001106250 | 0.001861606 |\n",
       "| 83 | 0.027571910 | 0.018468214 | 0.000209633 | 0.000000000 | 0.000000000 |\n",
       "| 84 | 0.032199356 | 0.030326058 | 0.000374924 | 0.004210324 | 0.001331910 |\n",
       "| 85 | 0.018753085 | 0.015342243 | 0.000272379 | 0.000073700 | 0.000000000 |\n",
       "| 86 | 0.044292743 | 0.042069384 | 0.001250248 | 0.015092129 | 0.005248017 |\n",
       "| 87 | 0.019104633 | 0.019862499 | 0.000800215 | 0.006109785 | 0.003366342 |\n",
       "| 88 | 0.032575379 | 0.024944813 | 0.000264527 | 0.002440796 | 0.001635274 |\n",
       "| 89 | 0.020753085 | 0.017892875 | 0.000393003 | 0.001753509 | 0.000831877 |\n",
       "| 90 | 0.021125575 | 0.018483706 | 0.000612078 | 0.008863277 | 0.000593109 |\n",
       "\n"
      ],
      "text/plain": [
       "   mass_400    mass_500    mass_600    mass_700    mass_800   \n",
       "31 0.032091931 0.026205891 0.000100362 0.000000000 0.000000000\n",
       "32 0.025402882 0.030534463 0.000454363 0.001898197 0.000330184\n",
       "33 0.033665283 0.032277149 0.000964191 0.000102656 0.000358707\n",
       "34 0.019596124 0.020882444 0.000388447 0.002484004 0.000096300\n",
       "35 0.050506740 0.045026912 0.000908792 0.000529243 0.000356704\n",
       "36 0.014178742 0.009011964 0.000051900 0.003505334 0.001524456\n",
       "37 0.013255028 0.009220371 0.000062000 0.000000000 0.000000000\n",
       "38 0.013438296 0.007907952 0.000000000 0.000000000 0.000000000\n",
       "39 0.025635682 0.025257531 0.000339953 0.000102069 0.000371276\n",
       "40 0.025950926 0.021070126 0.000483824 0.000147987 0.000340628\n",
       "41 0.009134552 0.006988521 0.000000000 0.000048500 0.000000000\n",
       "42 0.039027894 0.049926059 0.000340301 0.001124596 0.000814697\n",
       "43 0.036002003 0.033831190 0.000616500 0.001533659 0.000823851\n",
       "44 0.031592678 0.030282367 0.000705186 0.000059900 0.000000000\n",
       "45 0.032367747 0.027459259 0.000803847 0.001927539 0.000276280\n",
       "76 0.028377749 0.022834037 0.000315686 0.000232400 0.000000000\n",
       "77 0.028718545 0.020977836 0.000173354 0.000000000 0.000000000\n",
       "78 0.017991306 0.016555770 0.000197216 0.002339933 0.002753124\n",
       "79 0.019163335 0.012070618 0.000131078 0.000091700 0.000000000\n",
       "80 0.010710951 0.007062768 0.000000000 0.000000000 0.000000000\n",
       "81 0.027372159 0.019342261 0.000073400 0.002431999 0.000326417\n",
       "82 0.026557625 0.021274632 0.000449218 0.001106250 0.001861606\n",
       "83 0.027571910 0.018468214 0.000209633 0.000000000 0.000000000\n",
       "84 0.032199356 0.030326058 0.000374924 0.004210324 0.001331910\n",
       "85 0.018753085 0.015342243 0.000272379 0.000073700 0.000000000\n",
       "86 0.044292743 0.042069384 0.001250248 0.015092129 0.005248017\n",
       "87 0.019104633 0.019862499 0.000800215 0.006109785 0.003366342\n",
       "88 0.032575379 0.024944813 0.000264527 0.002440796 0.001635274\n",
       "89 0.020753085 0.017892875 0.000393003 0.001753509 0.000831877\n",
       "90 0.021125575 0.018483706 0.000612078 0.008863277 0.000593109"
      ]
     },
     "metadata": {},
     "output_type": "display_data"
    },
    {
     "data": {
      "text/html": [
       "<table>\n",
       "<thead><tr><th></th><th scope=col>filename</th><th scope=col>MouseID</th><th scope=col>Treatmentgroup</th><th scope=col>status</th><th scope=col>DPI</th><th scope=col>organ</th><th scope=col>well_position</th><th scope=col>plate</th><th scope=col>mass_400</th><th scope=col>mass_500</th><th scope=col>mass_600</th><th scope=col>mass_700</th><th scope=col>mass_800</th></tr></thead>\n",
       "<tbody>\n",
       "\t<tr><th scope=row>31</th><td>X511_Group1C_142dpi_RV_top_161_G_A1_P136.mzXML</td><td>511                                           </td><td>Group1C                                       </td><td>naive                                         </td><td>142                                           </td><td>RV_top                                        </td><td>A1                                            </td><td>P136                                          </td><td>0.03209193                                    </td><td>0.026205891                                   </td><td>0.000100362                                   </td><td>0.000000000                                   </td><td>0.000000000                                   </td></tr>\n",
       "\t<tr><th scope=row>32</th><td>X512_Group1C_142dpi_RV_top_162_G_A2_P136.mzXML</td><td>512                                           </td><td>Group1C                                       </td><td>naive                                         </td><td>142                                           </td><td>RV_top                                        </td><td>A2                                            </td><td>P136                                          </td><td>0.02540288                                    </td><td>0.030534463                                   </td><td>0.000454363                                   </td><td>0.001898197                                   </td><td>0.000330184                                   </td></tr>\n",
       "\t<tr><th scope=row>33</th><td>X513_Group1C_142dpi_RV_top_163_G_A3_P136.mzXML</td><td>513                                           </td><td>Group1C                                       </td><td>naive                                         </td><td>142                                           </td><td>RV_top                                        </td><td>A3                                            </td><td>P136                                          </td><td>0.03366528                                    </td><td>0.032277149                                   </td><td>0.000964191                                   </td><td>0.000102656                                   </td><td>0.000358707                                   </td></tr>\n",
       "\t<tr><th scope=row>34</th><td>X514_Group1C_142dpi_RV_top_164_G_A4_P136.mzXML</td><td>514                                           </td><td>Group1C                                       </td><td>naive                                         </td><td>142                                           </td><td>RV_top                                        </td><td>A4                                            </td><td>P136                                          </td><td>0.01959612                                    </td><td>0.020882444                                   </td><td>0.000388447                                   </td><td>0.002484004                                   </td><td>0.000096300                                   </td></tr>\n",
       "\t<tr><th scope=row>35</th><td>X515_Group1C_142dpi_RV_top_165_G_A5_P136.mzXML</td><td>515                                           </td><td>Group1C                                       </td><td>naive                                         </td><td>142                                           </td><td>RV_top                                        </td><td>A5                                            </td><td>P136                                          </td><td>0.05050674                                    </td><td>0.045026912                                   </td><td>0.000908792                                   </td><td>0.000529243                                   </td><td>0.000356704                                   </td></tr>\n",
       "\t<tr><th scope=row>36</th><td>X531_Group1C_142dpi_RV_top_166_G_A6_P136.mzXML</td><td>531                                           </td><td>Group1C                                       </td><td>naive                                         </td><td>142                                           </td><td>RV_top                                        </td><td>A6                                            </td><td>P136                                          </td><td>0.01417874                                    </td><td>0.009011964                                   </td><td>0.000051900                                   </td><td>0.003505334                                   </td><td>0.001524456                                   </td></tr>\n",
       "</tbody>\n",
       "</table>\n"
      ],
      "text/latex": [
       "\\begin{tabular}{r|lllllllllllll}\n",
       "  & filename & MouseID & Treatmentgroup & status & DPI & organ & well\\_position & plate & mass\\_400 & mass\\_500 & mass\\_600 & mass\\_700 & mass\\_800\\\\\n",
       "\\hline\n",
       "\t31 & X511\\_Group1C\\_142dpi\\_RV\\_top\\_161\\_G\\_A1\\_P136.mzXML & 511                                                            & Group1C                                                        & naive                                                          & 142                                                            & RV\\_top                                                       & A1                                                             & P136                                                           & 0.03209193                                                     & 0.026205891                                                    & 0.000100362                                                    & 0.000000000                                                    & 0.000000000                                                   \\\\\n",
       "\t32 & X512\\_Group1C\\_142dpi\\_RV\\_top\\_162\\_G\\_A2\\_P136.mzXML & 512                                                            & Group1C                                                        & naive                                                          & 142                                                            & RV\\_top                                                       & A2                                                             & P136                                                           & 0.02540288                                                     & 0.030534463                                                    & 0.000454363                                                    & 0.001898197                                                    & 0.000330184                                                   \\\\\n",
       "\t33 & X513\\_Group1C\\_142dpi\\_RV\\_top\\_163\\_G\\_A3\\_P136.mzXML & 513                                                            & Group1C                                                        & naive                                                          & 142                                                            & RV\\_top                                                       & A3                                                             & P136                                                           & 0.03366528                                                     & 0.032277149                                                    & 0.000964191                                                    & 0.000102656                                                    & 0.000358707                                                   \\\\\n",
       "\t34 & X514\\_Group1C\\_142dpi\\_RV\\_top\\_164\\_G\\_A4\\_P136.mzXML & 514                                                            & Group1C                                                        & naive                                                          & 142                                                            & RV\\_top                                                       & A4                                                             & P136                                                           & 0.01959612                                                     & 0.020882444                                                    & 0.000388447                                                    & 0.002484004                                                    & 0.000096300                                                   \\\\\n",
       "\t35 & X515\\_Group1C\\_142dpi\\_RV\\_top\\_165\\_G\\_A5\\_P136.mzXML & 515                                                            & Group1C                                                        & naive                                                          & 142                                                            & RV\\_top                                                       & A5                                                             & P136                                                           & 0.05050674                                                     & 0.045026912                                                    & 0.000908792                                                    & 0.000529243                                                    & 0.000356704                                                   \\\\\n",
       "\t36 & X531\\_Group1C\\_142dpi\\_RV\\_top\\_166\\_G\\_A6\\_P136.mzXML & 531                                                            & Group1C                                                        & naive                                                          & 142                                                            & RV\\_top                                                       & A6                                                             & P136                                                           & 0.01417874                                                     & 0.009011964                                                    & 0.000051900                                                    & 0.003505334                                                    & 0.001524456                                                   \\\\\n",
       "\\end{tabular}\n"
      ],
      "text/markdown": [
       "\n",
       "| <!--/--> | filename | MouseID | Treatmentgroup | status | DPI | organ | well_position | plate | mass_400 | mass_500 | mass_600 | mass_700 | mass_800 |\n",
       "|---|---|---|---|---|---|---|---|---|---|---|---|---|---|\n",
       "| 31 | X511_Group1C_142dpi_RV_top_161_G_A1_P136.mzXML | 511                                            | Group1C                                        | naive                                          | 142                                            | RV_top                                         | A1                                             | P136                                           | 0.03209193                                     | 0.026205891                                    | 0.000100362                                    | 0.000000000                                    | 0.000000000                                    |\n",
       "| 32 | X512_Group1C_142dpi_RV_top_162_G_A2_P136.mzXML | 512                                            | Group1C                                        | naive                                          | 142                                            | RV_top                                         | A2                                             | P136                                           | 0.02540288                                     | 0.030534463                                    | 0.000454363                                    | 0.001898197                                    | 0.000330184                                    |\n",
       "| 33 | X513_Group1C_142dpi_RV_top_163_G_A3_P136.mzXML | 513                                            | Group1C                                        | naive                                          | 142                                            | RV_top                                         | A3                                             | P136                                           | 0.03366528                                     | 0.032277149                                    | 0.000964191                                    | 0.000102656                                    | 0.000358707                                    |\n",
       "| 34 | X514_Group1C_142dpi_RV_top_164_G_A4_P136.mzXML | 514                                            | Group1C                                        | naive                                          | 142                                            | RV_top                                         | A4                                             | P136                                           | 0.01959612                                     | 0.020882444                                    | 0.000388447                                    | 0.002484004                                    | 0.000096300                                    |\n",
       "| 35 | X515_Group1C_142dpi_RV_top_165_G_A5_P136.mzXML | 515                                            | Group1C                                        | naive                                          | 142                                            | RV_top                                         | A5                                             | P136                                           | 0.05050674                                     | 0.045026912                                    | 0.000908792                                    | 0.000529243                                    | 0.000356704                                    |\n",
       "| 36 | X531_Group1C_142dpi_RV_top_166_G_A6_P136.mzXML | 531                                            | Group1C                                        | naive                                          | 142                                            | RV_top                                         | A6                                             | P136                                           | 0.01417874                                     | 0.009011964                                    | 0.000051900                                    | 0.003505334                                    | 0.001524456                                    |\n",
       "\n"
      ],
      "text/plain": [
       "   filename                                       MouseID Treatmentgroup status\n",
       "31 X511_Group1C_142dpi_RV_top_161_G_A1_P136.mzXML 511     Group1C        naive \n",
       "32 X512_Group1C_142dpi_RV_top_162_G_A2_P136.mzXML 512     Group1C        naive \n",
       "33 X513_Group1C_142dpi_RV_top_163_G_A3_P136.mzXML 513     Group1C        naive \n",
       "34 X514_Group1C_142dpi_RV_top_164_G_A4_P136.mzXML 514     Group1C        naive \n",
       "35 X515_Group1C_142dpi_RV_top_165_G_A5_P136.mzXML 515     Group1C        naive \n",
       "36 X531_Group1C_142dpi_RV_top_166_G_A6_P136.mzXML 531     Group1C        naive \n",
       "   DPI organ  well_position plate mass_400   mass_500    mass_600   \n",
       "31 142 RV_top A1            P136  0.03209193 0.026205891 0.000100362\n",
       "32 142 RV_top A2            P136  0.02540288 0.030534463 0.000454363\n",
       "33 142 RV_top A3            P136  0.03366528 0.032277149 0.000964191\n",
       "34 142 RV_top A4            P136  0.01959612 0.020882444 0.000388447\n",
       "35 142 RV_top A5            P136  0.05050674 0.045026912 0.000908792\n",
       "36 142 RV_top A6            P136  0.01417874 0.009011964 0.000051900\n",
       "   mass_700    mass_800   \n",
       "31 0.000000000 0.000000000\n",
       "32 0.001898197 0.000330184\n",
       "33 0.000102656 0.000358707\n",
       "34 0.002484004 0.000096300\n",
       "35 0.000529243 0.000356704\n",
       "36 0.003505334 0.001524456"
      ]
     },
     "metadata": {},
     "output_type": "display_data"
    },
    {
     "data": {
      "text/html": [
       "<ol class=list-inline>\n",
       "\t<li>30</li>\n",
       "\t<li>13</li>\n",
       "</ol>\n"
      ],
      "text/latex": [
       "\\begin{enumerate*}\n",
       "\\item 30\n",
       "\\item 13\n",
       "\\end{enumerate*}\n"
      ],
      "text/markdown": [
       "1. 30\n",
       "2. 13\n",
       "\n",
       "\n"
      ],
      "text/plain": [
       "[1] 30 13"
      ]
     },
     "metadata": {},
     "output_type": "display_data"
    },
    {
     "data": {
      "text/html": [
       "<ol class=list-inline>\n",
       "\t<li>30</li>\n",
       "\t<li>5</li>\n",
       "</ol>\n"
      ],
      "text/latex": [
       "\\begin{enumerate*}\n",
       "\\item 30\n",
       "\\item 5\n",
       "\\end{enumerate*}\n"
      ],
      "text/markdown": [
       "1. 30\n",
       "2. 5\n",
       "\n",
       "\n"
      ],
      "text/plain": [
       "[1] 30  5"
      ]
     },
     "metadata": {},
     "output_type": "display_data"
    },
    {
     "data": {
      "text/html": [
       "<ol class=list-inline>\n",
       "\t<li>30</li>\n",
       "\t<li>5</li>\n",
       "</ol>\n"
      ],
      "text/latex": [
       "\\begin{enumerate*}\n",
       "\\item 30\n",
       "\\item 5\n",
       "\\end{enumerate*}\n"
      ],
      "text/markdown": [
       "1. 30\n",
       "2. 5\n",
       "\n",
       "\n"
      ],
      "text/plain": [
       "[1] 30  5"
      ]
     },
     "metadata": {},
     "output_type": "display_data"
    },
    {
     "data": {
      "text/html": [
       "<ol class=list-inline>\n",
       "\t<li>30</li>\n",
       "\t<li>13</li>\n",
       "</ol>\n"
      ],
      "text/latex": [
       "\\begin{enumerate*}\n",
       "\\item 30\n",
       "\\item 13\n",
       "\\end{enumerate*}\n"
      ],
      "text/markdown": [
       "1. 30\n",
       "2. 13\n",
       "\n",
       "\n"
      ],
      "text/plain": [
       "[1] 30 13"
      ]
     },
     "metadata": {},
     "output_type": "display_data"
    }
   ],
   "source": [
    "noMeta<-features_pos[,9:13]\n",
    "head(noMeta)\n",
    "not_zero<-which(colSums(noMeta) != 0)\n",
    "head(not_zero)\n",
    "nonzero <- noMeta[, not_zero]\n",
    "nonzero\n",
    "nonzero_wMeta<-cbind(features_pos[,1:8], nonzero)\n",
    "head(nonzero_wMeta)\n",
    "dim(features_pos)\n",
    "dim(noMeta)\n",
    "dim(nonzero)\n",
    "dim(nonzero_wMeta)"
   ]
  },
  {
   "cell_type": "code",
   "execution_count": 25,
   "metadata": {
    "scrolled": true
   },
   "outputs": [
    {
     "name": "stderr",
     "output_type": "stream",
     "text": [
      "Warning message in wilcox.test.default(x = c(0.000100362, 0.000454363, 0.000964191, :\n",
      "\"cannot compute exact p-value with ties\"Warning message in wilcox.test.default(x = c(0, 0.001898197, 0.000102656, 0.002484004, :\n",
      "\"cannot compute exact p-value with ties\"Warning message in wilcox.test.default(x = c(0, 0.000330184, 0.000358707, 9.63e-05, :\n",
      "\"cannot compute exact p-value with ties\""
     ]
    },
    {
     "data": {
      "text/html": [
       "<ol class=list-inline>\n",
       "\t<li>0.682673807575057</li>\n",
       "\t<li>0.173608899884423</li>\n",
       "\t<li>0.61851334678424</li>\n",
       "\t<li>0.235324569421835</li>\n",
       "\t<li>0.307364925260532</li>\n",
       "</ol>\n"
      ],
      "text/latex": [
       "\\begin{enumerate*}\n",
       "\\item 0.682673807575057\n",
       "\\item 0.173608899884423\n",
       "\\item 0.61851334678424\n",
       "\\item 0.235324569421835\n",
       "\\item 0.307364925260532\n",
       "\\end{enumerate*}\n"
      ],
      "text/markdown": [
       "1. 0.682673807575057\n",
       "2. 0.173608899884423\n",
       "3. 0.61851334678424\n",
       "4. 0.235324569421835\n",
       "5. 0.307364925260532\n",
       "\n",
       "\n"
      ],
      "text/plain": [
       "[1] 0.6826738 0.1736089 0.6185133 0.2353246 0.3073649"
      ]
     },
     "metadata": {},
     "output_type": "display_data"
    },
    {
     "data": {
      "text/html": [
       "<ol class=list-inline>\n",
       "\t<li>0.682673807575057</li>\n",
       "\t<li>0.51227487543422</li>\n",
       "\t<li>0.682673807575057</li>\n",
       "\t<li>0.51227487543422</li>\n",
       "\t<li>0.51227487543422</li>\n",
       "</ol>\n"
      ],
      "text/latex": [
       "\\begin{enumerate*}\n",
       "\\item 0.682673807575057\n",
       "\\item 0.51227487543422\n",
       "\\item 0.682673807575057\n",
       "\\item 0.51227487543422\n",
       "\\item 0.51227487543422\n",
       "\\end{enumerate*}\n"
      ],
      "text/markdown": [
       "1. 0.682673807575057\n",
       "2. 0.51227487543422\n",
       "3. 0.682673807575057\n",
       "4. 0.51227487543422\n",
       "5. 0.51227487543422\n",
       "\n",
       "\n"
      ],
      "text/plain": [
       "[1] 0.6826738 0.5122749 0.6826738 0.5122749 0.5122749"
      ]
     },
     "metadata": {},
     "output_type": "display_data"
    }
   ],
   "source": [
    "pval<-c()\n",
    "\n",
    "for (i in 9:ncol(nonzero_wMeta)) \n",
    "pval<-c(pval,wilcox.test(nonzero_wMeta[,i]~nonzero_wMeta$Treatmentgroup)$p.value)\n",
    "head(pval)\n",
    "pAdj <- p.adjust(pval, method = c(\"fdr\"), n=length(pval)) \n",
    "head(pAdj) \n",
    "\n"
   ]
  },
  {
   "cell_type": "code",
   "execution_count": 26,
   "metadata": {
    "scrolled": true
   },
   "outputs": [
    {
     "data": {
      "text/html": [
       "5"
      ],
      "text/latex": [
       "5"
      ],
      "text/markdown": [
       "5"
      ],
      "text/plain": [
       "[1] 5"
      ]
     },
     "metadata": {},
     "output_type": "display_data"
    }
   ],
   "source": [
    "length(pval)"
   ]
  },
  {
   "cell_type": "code",
   "execution_count": 27,
   "metadata": {
    "scrolled": true
   },
   "outputs": [
    {
     "data": {
      "text/html": [
       "5"
      ],
      "text/latex": [
       "5"
      ],
      "text/markdown": [
       "5"
      ],
      "text/plain": [
       "[1] 5"
      ]
     },
     "metadata": {},
     "output_type": "display_data"
    }
   ],
   "source": [
    "length(pAdj)"
   ]
  },
  {
   "cell_type": "code",
   "execution_count": 28,
   "metadata": {},
   "outputs": [
    {
     "data": {
      "text/html": [
       "<ol class=list-inline>\n",
       "\t<li>2</li>\n",
       "\t<li>5</li>\n",
       "</ol>\n"
      ],
      "text/latex": [
       "\\begin{enumerate*}\n",
       "\\item 2\n",
       "\\item 5\n",
       "\\end{enumerate*}\n"
      ],
      "text/markdown": [
       "1. 2\n",
       "2. 5\n",
       "\n",
       "\n"
      ],
      "text/plain": [
       "[1] 2 5"
      ]
     },
     "metadata": {},
     "output_type": "display_data"
    },
    {
     "data": {
      "text/html": [
       "<table>\n",
       "<thead><tr><th></th><th scope=col>mass_400</th><th scope=col>mass_500</th><th scope=col>mass_600</th></tr></thead>\n",
       "<tbody>\n",
       "\t<tr><th scope=row>Group1C</th><td>0.02678977  </td><td>0.02505881  </td><td>0.0004146444</td></tr>\n",
       "\t<tr><th scope=row>Group3E</th><td>0.02501783  </td><td>0.02050051  </td><td>0.0003677973</td></tr>\n",
       "</tbody>\n",
       "</table>\n"
      ],
      "text/latex": [
       "\\begin{tabular}{r|lll}\n",
       "  & mass\\_400 & mass\\_500 & mass\\_600\\\\\n",
       "\\hline\n",
       "\tGroup1C & 0.02678977   & 0.02505881   & 0.0004146444\\\\\n",
       "\tGroup3E & 0.02501783   & 0.02050051   & 0.0003677973\\\\\n",
       "\\end{tabular}\n"
      ],
      "text/markdown": [
       "\n",
       "| <!--/--> | mass_400 | mass_500 | mass_600 |\n",
       "|---|---|---|---|\n",
       "| Group1C | 0.02678977   | 0.02505881   | 0.0004146444 |\n",
       "| Group3E | 0.02501783   | 0.02050051   | 0.0003677973 |\n",
       "\n"
      ],
      "text/plain": [
       "        mass_400   mass_500   mass_600    \n",
       "Group1C 0.02678977 0.02505881 0.0004146444\n",
       "Group3E 0.02501783 0.02050051 0.0003677973"
      ]
     },
     "metadata": {},
     "output_type": "display_data"
    },
    {
     "data": {
      "text/html": [
       "<dl class=dl-horizontal>\n",
       "\t<dt>mass_400</dt>\n",
       "\t\t<dd>1.07082701415105</dd>\n",
       "\t<dt>mass_500</dt>\n",
       "\t\t<dd>1.22235047085681</dd>\n",
       "\t<dt>mass_600</dt>\n",
       "\t\t<dd>1.12737216281651</dd>\n",
       "\t<dt>mass_700</dt>\n",
       "\t\t<dd>0.300892673685902</dd>\n",
       "\t<dt>mass_800</dt>\n",
       "\t\t<dd>0.294917458951231</dd>\n",
       "</dl>\n"
      ],
      "text/latex": [
       "\\begin{description*}\n",
       "\\item[mass\\textbackslash{}\\_400] 1.07082701415105\n",
       "\\item[mass\\textbackslash{}\\_500] 1.22235047085681\n",
       "\\item[mass\\textbackslash{}\\_600] 1.12737216281651\n",
       "\\item[mass\\textbackslash{}\\_700] 0.300892673685902\n",
       "\\item[mass\\textbackslash{}\\_800] 0.294917458951231\n",
       "\\end{description*}\n"
      ],
      "text/markdown": [
       "mass_400\n",
       ":   1.07082701415105mass_500\n",
       ":   1.22235047085681mass_600\n",
       ":   1.12737216281651mass_700\n",
       ":   0.300892673685902mass_800\n",
       ":   0.294917458951231\n",
       "\n"
      ],
      "text/plain": [
       " mass_400  mass_500  mass_600  mass_700  mass_800 \n",
       "1.0708270 1.2223505 1.1273722 0.3008927 0.2949175 "
      ]
     },
     "metadata": {},
     "output_type": "display_data"
    },
    {
     "data": {
      "text/html": [
       "<ol class=list-inline>\n",
       "\t<li>'numeric'</li>\n",
       "\t<li>'vector'</li>\n",
       "</ol>\n"
      ],
      "text/latex": [
       "\\begin{enumerate*}\n",
       "\\item 'numeric'\n",
       "\\item 'vector'\n",
       "\\end{enumerate*}\n"
      ],
      "text/markdown": [
       "1. 'numeric'\n",
       "2. 'vector'\n",
       "\n",
       "\n"
      ],
      "text/plain": [
       "[1] \"numeric\" \"vector\" "
      ]
     },
     "metadata": {},
     "output_type": "display_data"
    }
   ],
   "source": [
    "avg<- apply(nonzero_wMeta[,9:ncol(nonzero_wMeta)], 2, function(x) tapply(x, nonzero_wMeta$Treatmentgroup, function(x) mean(x))) \n",
    "\n",
    "dim(avg)\n",
    "\n",
    "avg[,1:3]\n",
    "\n",
    "fch <- apply(avg, 2, function(x) x[1]/x[2])\n",
    "\n",
    "head(fch)\n",
    "is(fch)"
   ]
  },
  {
   "cell_type": "code",
   "execution_count": 29,
   "metadata": {
    "scrolled": true
   },
   "outputs": [
    {
     "data": {
      "text/html": [
       "<dl class=dl-horizontal>\n",
       "\t<dt>mass_400</dt>\n",
       "\t\t<dd>1.07082701415105</dd>\n",
       "\t<dt>mass_500</dt>\n",
       "\t\t<dd>1.22235047085681</dd>\n",
       "\t<dt>mass_600</dt>\n",
       "\t\t<dd>1.12737216281651</dd>\n",
       "\t<dt>mass_700</dt>\n",
       "\t\t<dd>0.300892673685902</dd>\n",
       "\t<dt>mass_800</dt>\n",
       "\t\t<dd>0.294917458951231</dd>\n",
       "</dl>\n"
      ],
      "text/latex": [
       "\\begin{description*}\n",
       "\\item[mass\\textbackslash{}\\_400] 1.07082701415105\n",
       "\\item[mass\\textbackslash{}\\_500] 1.22235047085681\n",
       "\\item[mass\\textbackslash{}\\_600] 1.12737216281651\n",
       "\\item[mass\\textbackslash{}\\_700] 0.300892673685902\n",
       "\\item[mass\\textbackslash{}\\_800] 0.294917458951231\n",
       "\\end{description*}\n"
      ],
      "text/markdown": [
       "mass_400\n",
       ":   1.07082701415105mass_500\n",
       ":   1.22235047085681mass_600\n",
       ":   1.12737216281651mass_700\n",
       ":   0.300892673685902mass_800\n",
       ":   0.294917458951231\n",
       "\n"
      ],
      "text/plain": [
       " mass_400  mass_500  mass_600  mass_700  mass_800 \n",
       "1.0708270 1.2223505 1.1273722 0.3008927 0.2949175 "
      ]
     },
     "metadata": {},
     "output_type": "display_data"
    }
   ],
   "source": [
    "fch"
   ]
  },
  {
   "cell_type": "code",
   "execution_count": 30,
   "metadata": {
    "scrolled": false
   },
   "outputs": [],
   "source": [
    "df <- data.frame(fch,pval, pAdj)\n",
    "write.csv(df, \"PC-time-RVT-wilcox-1C-3E.csv\")"
   ]
  },
  {
   "cell_type": "code",
   "execution_count": null,
   "metadata": {},
   "outputs": [],
   "source": []
  },
  {
   "cell_type": "code",
   "execution_count": null,
   "metadata": {},
   "outputs": [],
   "source": []
  },
  {
   "cell_type": "code",
   "execution_count": null,
   "metadata": {},
   "outputs": [],
   "source": []
  },
  {
   "cell_type": "code",
   "execution_count": null,
   "metadata": {},
   "outputs": [],
   "source": []
  },
  {
   "cell_type": "code",
   "execution_count": null,
   "metadata": {},
   "outputs": [],
   "source": []
  },
  {
   "cell_type": "code",
   "execution_count": null,
   "metadata": {},
   "outputs": [],
   "source": []
  }
 ],
 "metadata": {
  "kernelspec": {
   "display_name": "R",
   "language": "R",
   "name": "ir"
  },
  "language_info": {
   "codemirror_mode": "r",
   "file_extension": ".r",
   "mimetype": "text/x-r-source",
   "name": "R",
   "pygments_lexer": "r",
   "version": "3.6.1"
  }
 },
 "nbformat": 4,
 "nbformat_minor": 2
}
