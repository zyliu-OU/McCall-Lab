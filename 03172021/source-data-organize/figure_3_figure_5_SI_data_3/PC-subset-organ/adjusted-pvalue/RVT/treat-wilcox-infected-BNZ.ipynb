{
 "cells": [
  {
   "cell_type": "code",
   "execution_count": 21,
   "metadata": {},
   "outputs": [],
   "source": [
    "a <- read.csv(\"03172021-PC-treatment-RVT-M-F.csv\")"
   ]
  },
  {
   "cell_type": "code",
   "execution_count": 22,
   "metadata": {},
   "outputs": [
    {
     "data": {
      "text/html": [
       "<table>\n",
       "<thead><tr><th scope=col>filename</th><th scope=col>MouseID</th><th scope=col>Treatmentgroup</th><th scope=col>DPI</th><th scope=col>organ</th><th scope=col>well_position</th><th scope=col>plate</th><th scope=col>mass_400</th><th scope=col>mass_500</th><th scope=col>mass_600</th><th scope=col>mass_700</th><th scope=col>mass_800</th></tr></thead>\n",
       "<tbody>\n",
       "\t<tr><td>X511_Group1C_142dpi_RV_top_161_G_A1_P136.mzXML</td><td>511                                           </td><td>naive                                         </td><td>142dpi                                        </td><td>RV_top                                        </td><td>A1                                            </td><td>P136                                          </td><td>0.03209193                                    </td><td>0.026205891                                   </td><td>0.000100362                                   </td><td>0.000000000                                   </td><td>0.000000000                                   </td></tr>\n",
       "\t<tr><td>X512_Group1C_142dpi_RV_top_162_G_A2_P136.mzXML</td><td>512                                           </td><td>naive                                         </td><td>142dpi                                        </td><td>RV_top                                        </td><td>A2                                            </td><td>P136                                          </td><td>0.02540288                                    </td><td>0.030534463                                   </td><td>0.000454363                                   </td><td>0.001898197                                   </td><td>0.000330184                                   </td></tr>\n",
       "\t<tr><td>X513_Group1C_142dpi_RV_top_163_G_A3_P136.mzXML</td><td>513                                           </td><td>naive                                         </td><td>142dpi                                        </td><td>RV_top                                        </td><td>A3                                            </td><td>P136                                          </td><td>0.03366528                                    </td><td>0.032277149                                   </td><td>0.000964191                                   </td><td>0.000102656                                   </td><td>0.000358707                                   </td></tr>\n",
       "\t<tr><td>X514_Group1C_142dpi_RV_top_164_G_A4_P136.mzXML</td><td>514                                           </td><td>naive                                         </td><td>142dpi                                        </td><td>RV_top                                        </td><td>A4                                            </td><td>P136                                          </td><td>0.01959612                                    </td><td>0.020882444                                   </td><td>0.000388447                                   </td><td>0.002484004                                   </td><td>0.000096300                                   </td></tr>\n",
       "\t<tr><td>X515_Group1C_142dpi_RV_top_165_G_A5_P136.mzXML</td><td>515                                           </td><td>naive                                         </td><td>142dpi                                        </td><td>RV_top                                        </td><td>A5                                            </td><td>P136                                          </td><td>0.05050674                                    </td><td>0.045026912                                   </td><td>0.000908792                                   </td><td>0.000529243                                   </td><td>0.000356704                                   </td></tr>\n",
       "\t<tr><td>X531_Group1C_142dpi_RV_top_166_G_A6_P136.mzXML</td><td>531                                           </td><td>naive                                         </td><td>142dpi                                        </td><td>RV_top                                        </td><td>A6                                            </td><td>P136                                          </td><td>0.01417874                                    </td><td>0.009011964                                   </td><td>0.000051900                                   </td><td>0.003505334                                   </td><td>0.001524456                                   </td></tr>\n",
       "</tbody>\n",
       "</table>\n"
      ],
      "text/latex": [
       "\\begin{tabular}{r|llllllllllll}\n",
       " filename & MouseID & Treatmentgroup & DPI & organ & well\\_position & plate & mass\\_400 & mass\\_500 & mass\\_600 & mass\\_700 & mass\\_800\\\\\n",
       "\\hline\n",
       "\t X511\\_Group1C\\_142dpi\\_RV\\_top\\_161\\_G\\_A1\\_P136.mzXML & 511                                                            & naive                                                          & 142dpi                                                         & RV\\_top                                                       & A1                                                             & P136                                                           & 0.03209193                                                     & 0.026205891                                                    & 0.000100362                                                    & 0.000000000                                                    & 0.000000000                                                   \\\\\n",
       "\t X512\\_Group1C\\_142dpi\\_RV\\_top\\_162\\_G\\_A2\\_P136.mzXML & 512                                                            & naive                                                          & 142dpi                                                         & RV\\_top                                                       & A2                                                             & P136                                                           & 0.02540288                                                     & 0.030534463                                                    & 0.000454363                                                    & 0.001898197                                                    & 0.000330184                                                   \\\\\n",
       "\t X513\\_Group1C\\_142dpi\\_RV\\_top\\_163\\_G\\_A3\\_P136.mzXML & 513                                                            & naive                                                          & 142dpi                                                         & RV\\_top                                                       & A3                                                             & P136                                                           & 0.03366528                                                     & 0.032277149                                                    & 0.000964191                                                    & 0.000102656                                                    & 0.000358707                                                   \\\\\n",
       "\t X514\\_Group1C\\_142dpi\\_RV\\_top\\_164\\_G\\_A4\\_P136.mzXML & 514                                                            & naive                                                          & 142dpi                                                         & RV\\_top                                                       & A4                                                             & P136                                                           & 0.01959612                                                     & 0.020882444                                                    & 0.000388447                                                    & 0.002484004                                                    & 0.000096300                                                   \\\\\n",
       "\t X515\\_Group1C\\_142dpi\\_RV\\_top\\_165\\_G\\_A5\\_P136.mzXML & 515                                                            & naive                                                          & 142dpi                                                         & RV\\_top                                                       & A5                                                             & P136                                                           & 0.05050674                                                     & 0.045026912                                                    & 0.000908792                                                    & 0.000529243                                                    & 0.000356704                                                   \\\\\n",
       "\t X531\\_Group1C\\_142dpi\\_RV\\_top\\_166\\_G\\_A6\\_P136.mzXML & 531                                                            & naive                                                          & 142dpi                                                         & RV\\_top                                                       & A6                                                             & P136                                                           & 0.01417874                                                     & 0.009011964                                                    & 0.000051900                                                    & 0.003505334                                                    & 0.001524456                                                   \\\\\n",
       "\\end{tabular}\n"
      ],
      "text/markdown": [
       "\n",
       "| filename | MouseID | Treatmentgroup | DPI | organ | well_position | plate | mass_400 | mass_500 | mass_600 | mass_700 | mass_800 |\n",
       "|---|---|---|---|---|---|---|---|---|---|---|---|\n",
       "| X511_Group1C_142dpi_RV_top_161_G_A1_P136.mzXML | 511                                            | naive                                          | 142dpi                                         | RV_top                                         | A1                                             | P136                                           | 0.03209193                                     | 0.026205891                                    | 0.000100362                                    | 0.000000000                                    | 0.000000000                                    |\n",
       "| X512_Group1C_142dpi_RV_top_162_G_A2_P136.mzXML | 512                                            | naive                                          | 142dpi                                         | RV_top                                         | A2                                             | P136                                           | 0.02540288                                     | 0.030534463                                    | 0.000454363                                    | 0.001898197                                    | 0.000330184                                    |\n",
       "| X513_Group1C_142dpi_RV_top_163_G_A3_P136.mzXML | 513                                            | naive                                          | 142dpi                                         | RV_top                                         | A3                                             | P136                                           | 0.03366528                                     | 0.032277149                                    | 0.000964191                                    | 0.000102656                                    | 0.000358707                                    |\n",
       "| X514_Group1C_142dpi_RV_top_164_G_A4_P136.mzXML | 514                                            | naive                                          | 142dpi                                         | RV_top                                         | A4                                             | P136                                           | 0.01959612                                     | 0.020882444                                    | 0.000388447                                    | 0.002484004                                    | 0.000096300                                    |\n",
       "| X515_Group1C_142dpi_RV_top_165_G_A5_P136.mzXML | 515                                            | naive                                          | 142dpi                                         | RV_top                                         | A5                                             | P136                                           | 0.05050674                                     | 0.045026912                                    | 0.000908792                                    | 0.000529243                                    | 0.000356704                                    |\n",
       "| X531_Group1C_142dpi_RV_top_166_G_A6_P136.mzXML | 531                                            | naive                                          | 142dpi                                         | RV_top                                         | A6                                             | P136                                           | 0.01417874                                     | 0.009011964                                    | 0.000051900                                    | 0.003505334                                    | 0.001524456                                    |\n",
       "\n"
      ],
      "text/plain": [
       "  filename                                       MouseID Treatmentgroup DPI   \n",
       "1 X511_Group1C_142dpi_RV_top_161_G_A1_P136.mzXML 511     naive          142dpi\n",
       "2 X512_Group1C_142dpi_RV_top_162_G_A2_P136.mzXML 512     naive          142dpi\n",
       "3 X513_Group1C_142dpi_RV_top_163_G_A3_P136.mzXML 513     naive          142dpi\n",
       "4 X514_Group1C_142dpi_RV_top_164_G_A4_P136.mzXML 514     naive          142dpi\n",
       "5 X515_Group1C_142dpi_RV_top_165_G_A5_P136.mzXML 515     naive          142dpi\n",
       "6 X531_Group1C_142dpi_RV_top_166_G_A6_P136.mzXML 531     naive          142dpi\n",
       "  organ  well_position plate mass_400   mass_500    mass_600    mass_700   \n",
       "1 RV_top A1            P136  0.03209193 0.026205891 0.000100362 0.000000000\n",
       "2 RV_top A2            P136  0.02540288 0.030534463 0.000454363 0.001898197\n",
       "3 RV_top A3            P136  0.03366528 0.032277149 0.000964191 0.000102656\n",
       "4 RV_top A4            P136  0.01959612 0.020882444 0.000388447 0.002484004\n",
       "5 RV_top A5            P136  0.05050674 0.045026912 0.000908792 0.000529243\n",
       "6 RV_top A6            P136  0.01417874 0.009011964 0.000051900 0.003505334\n",
       "  mass_800   \n",
       "1 0.000000000\n",
       "2 0.000330184\n",
       "3 0.000358707\n",
       "4 0.000096300\n",
       "5 0.000356704\n",
       "6 0.001524456"
      ]
     },
     "metadata": {},
     "output_type": "display_data"
    },
    {
     "data": {
      "text/html": [
       "<ol class=list-inline>\n",
       "\t<li>60</li>\n",
       "\t<li>12</li>\n",
       "</ol>\n"
      ],
      "text/latex": [
       "\\begin{enumerate*}\n",
       "\\item 60\n",
       "\\item 12\n",
       "\\end{enumerate*}\n"
      ],
      "text/markdown": [
       "1. 60\n",
       "2. 12\n",
       "\n",
       "\n"
      ],
      "text/plain": [
       "[1] 60 12"
      ]
     },
     "metadata": {},
     "output_type": "display_data"
    }
   ],
   "source": [
    "head(a)\n",
    "dim(a)"
   ]
  },
  {
   "cell_type": "code",
   "execution_count": 23,
   "metadata": {},
   "outputs": [
    {
     "data": {
      "text/html": [
       "<table>\n",
       "<thead><tr><th></th><th scope=col>filename</th><th scope=col>MouseID</th><th scope=col>Treatmentgroup</th><th scope=col>DPI</th><th scope=col>organ</th><th scope=col>well_position</th><th scope=col>plate</th><th scope=col>mass_400</th><th scope=col>mass_500</th><th scope=col>mass_600</th><th scope=col>mass_700</th><th scope=col>mass_800</th></tr></thead>\n",
       "<tbody>\n",
       "\t<tr><th scope=row>16</th><td>X581_Group3E_142dpi_RV_top_176_G_B4_P136.mzXML</td><td>581                                           </td><td>infected                                      </td><td>142dpi                                        </td><td>RV_top                                        </td><td>B4                                            </td><td>P136                                          </td><td>0.02837775                                    </td><td>0.022834037                                   </td><td>0.000315686                                   </td><td>0.000232400                                   </td><td>0.000000000                                   </td></tr>\n",
       "\t<tr><th scope=row>17</th><td>X582_Group3E_142dpi_RV_top_177_G_B5_P136.mzXML</td><td>582                                           </td><td>infected                                      </td><td>142dpi                                        </td><td>RV_top                                        </td><td>B5                                            </td><td>P136                                          </td><td>0.02871855                                    </td><td>0.020977836                                   </td><td>0.000173354                                   </td><td>0.000000000                                   </td><td>0.000000000                                   </td></tr>\n",
       "\t<tr><th scope=row>18</th><td>X583_Group3E_142dpi_RV_top_178_G_B6_P136.mzXML</td><td>583                                           </td><td>infected                                      </td><td>142dpi                                        </td><td>RV_top                                        </td><td>B6                                            </td><td>P136                                          </td><td>0.01799131                                    </td><td>0.016555770                                   </td><td>0.000197216                                   </td><td>0.002339933                                   </td><td>0.002753124                                   </td></tr>\n",
       "\t<tr><th scope=row>19</th><td>X584_Group3E_142dpi_RV_top_179_G_B7_P136.mzXML</td><td>584                                           </td><td>infected                                      </td><td>142dpi                                        </td><td>RV_top                                        </td><td>B7                                            </td><td>P136                                          </td><td>0.01916334                                    </td><td>0.012070618                                   </td><td>0.000131078                                   </td><td>0.000091700                                   </td><td>0.000000000                                   </td></tr>\n",
       "\t<tr><th scope=row>20</th><td>X585_Group3E_142dpi_RV_top_180_G_B8_P136.mzXML</td><td>585                                           </td><td>infected                                      </td><td>142dpi                                        </td><td>RV_top                                        </td><td>B8                                            </td><td>P136                                          </td><td>0.01071095                                    </td><td>0.007062768                                   </td><td>0.000000000                                   </td><td>0.000000000                                   </td><td>0.000000000                                   </td></tr>\n",
       "\t<tr><th scope=row>26</th><td>X631_Group15_142dpi_RV_top_191_G_C7_P136.mzXML</td><td>631                                           </td><td>BNZ                                           </td><td>142dpi                                        </td><td>RV_top                                        </td><td>C7                                            </td><td>P136                                          </td><td>0.01813804                                    </td><td>0.014911351                                   </td><td>0.000266479                                   </td><td>0.000892296                                   </td><td>0.000540991                                   </td></tr>\n",
       "</tbody>\n",
       "</table>\n"
      ],
      "text/latex": [
       "\\begin{tabular}{r|llllllllllll}\n",
       "  & filename & MouseID & Treatmentgroup & DPI & organ & well\\_position & plate & mass\\_400 & mass\\_500 & mass\\_600 & mass\\_700 & mass\\_800\\\\\n",
       "\\hline\n",
       "\t16 & X581\\_Group3E\\_142dpi\\_RV\\_top\\_176\\_G\\_B4\\_P136.mzXML & 581                                                            & infected                                                       & 142dpi                                                         & RV\\_top                                                       & B4                                                             & P136                                                           & 0.02837775                                                     & 0.022834037                                                    & 0.000315686                                                    & 0.000232400                                                    & 0.000000000                                                   \\\\\n",
       "\t17 & X582\\_Group3E\\_142dpi\\_RV\\_top\\_177\\_G\\_B5\\_P136.mzXML & 582                                                            & infected                                                       & 142dpi                                                         & RV\\_top                                                       & B5                                                             & P136                                                           & 0.02871855                                                     & 0.020977836                                                    & 0.000173354                                                    & 0.000000000                                                    & 0.000000000                                                   \\\\\n",
       "\t18 & X583\\_Group3E\\_142dpi\\_RV\\_top\\_178\\_G\\_B6\\_P136.mzXML & 583                                                            & infected                                                       & 142dpi                                                         & RV\\_top                                                       & B6                                                             & P136                                                           & 0.01799131                                                     & 0.016555770                                                    & 0.000197216                                                    & 0.002339933                                                    & 0.002753124                                                   \\\\\n",
       "\t19 & X584\\_Group3E\\_142dpi\\_RV\\_top\\_179\\_G\\_B7\\_P136.mzXML & 584                                                            & infected                                                       & 142dpi                                                         & RV\\_top                                                       & B7                                                             & P136                                                           & 0.01916334                                                     & 0.012070618                                                    & 0.000131078                                                    & 0.000091700                                                    & 0.000000000                                                   \\\\\n",
       "\t20 & X585\\_Group3E\\_142dpi\\_RV\\_top\\_180\\_G\\_B8\\_P136.mzXML & 585                                                            & infected                                                       & 142dpi                                                         & RV\\_top                                                       & B8                                                             & P136                                                           & 0.01071095                                                     & 0.007062768                                                    & 0.000000000                                                    & 0.000000000                                                    & 0.000000000                                                   \\\\\n",
       "\t26 & X631\\_Group15\\_142dpi\\_RV\\_top\\_191\\_G\\_C7\\_P136.mzXML & 631                                                            & BNZ                                                            & 142dpi                                                         & RV\\_top                                                       & C7                                                             & P136                                                           & 0.01813804                                                     & 0.014911351                                                    & 0.000266479                                                    & 0.000892296                                                    & 0.000540991                                                   \\\\\n",
       "\\end{tabular}\n"
      ],
      "text/markdown": [
       "\n",
       "| <!--/--> | filename | MouseID | Treatmentgroup | DPI | organ | well_position | plate | mass_400 | mass_500 | mass_600 | mass_700 | mass_800 |\n",
       "|---|---|---|---|---|---|---|---|---|---|---|---|---|\n",
       "| 16 | X581_Group3E_142dpi_RV_top_176_G_B4_P136.mzXML | 581                                            | infected                                       | 142dpi                                         | RV_top                                         | B4                                             | P136                                           | 0.02837775                                     | 0.022834037                                    | 0.000315686                                    | 0.000232400                                    | 0.000000000                                    |\n",
       "| 17 | X582_Group3E_142dpi_RV_top_177_G_B5_P136.mzXML | 582                                            | infected                                       | 142dpi                                         | RV_top                                         | B5                                             | P136                                           | 0.02871855                                     | 0.020977836                                    | 0.000173354                                    | 0.000000000                                    | 0.000000000                                    |\n",
       "| 18 | X583_Group3E_142dpi_RV_top_178_G_B6_P136.mzXML | 583                                            | infected                                       | 142dpi                                         | RV_top                                         | B6                                             | P136                                           | 0.01799131                                     | 0.016555770                                    | 0.000197216                                    | 0.002339933                                    | 0.002753124                                    |\n",
       "| 19 | X584_Group3E_142dpi_RV_top_179_G_B7_P136.mzXML | 584                                            | infected                                       | 142dpi                                         | RV_top                                         | B7                                             | P136                                           | 0.01916334                                     | 0.012070618                                    | 0.000131078                                    | 0.000091700                                    | 0.000000000                                    |\n",
       "| 20 | X585_Group3E_142dpi_RV_top_180_G_B8_P136.mzXML | 585                                            | infected                                       | 142dpi                                         | RV_top                                         | B8                                             | P136                                           | 0.01071095                                     | 0.007062768                                    | 0.000000000                                    | 0.000000000                                    | 0.000000000                                    |\n",
       "| 26 | X631_Group15_142dpi_RV_top_191_G_C7_P136.mzXML | 631                                            | BNZ                                            | 142dpi                                         | RV_top                                         | C7                                             | P136                                           | 0.01813804                                     | 0.014911351                                    | 0.000266479                                    | 0.000892296                                    | 0.000540991                                    |\n",
       "\n"
      ],
      "text/plain": [
       "   filename                                       MouseID Treatmentgroup DPI   \n",
       "16 X581_Group3E_142dpi_RV_top_176_G_B4_P136.mzXML 581     infected       142dpi\n",
       "17 X582_Group3E_142dpi_RV_top_177_G_B5_P136.mzXML 582     infected       142dpi\n",
       "18 X583_Group3E_142dpi_RV_top_178_G_B6_P136.mzXML 583     infected       142dpi\n",
       "19 X584_Group3E_142dpi_RV_top_179_G_B7_P136.mzXML 584     infected       142dpi\n",
       "20 X585_Group3E_142dpi_RV_top_180_G_B8_P136.mzXML 585     infected       142dpi\n",
       "26 X631_Group15_142dpi_RV_top_191_G_C7_P136.mzXML 631     BNZ            142dpi\n",
       "   organ  well_position plate mass_400   mass_500    mass_600    mass_700   \n",
       "16 RV_top B4            P136  0.02837775 0.022834037 0.000315686 0.000232400\n",
       "17 RV_top B5            P136  0.02871855 0.020977836 0.000173354 0.000000000\n",
       "18 RV_top B6            P136  0.01799131 0.016555770 0.000197216 0.002339933\n",
       "19 RV_top B7            P136  0.01916334 0.012070618 0.000131078 0.000091700\n",
       "20 RV_top B8            P136  0.01071095 0.007062768 0.000000000 0.000000000\n",
       "26 RV_top C7            P136  0.01813804 0.014911351 0.000266479 0.000892296\n",
       "   mass_800   \n",
       "16 0.000000000\n",
       "17 0.000000000\n",
       "18 0.002753124\n",
       "19 0.000000000\n",
       "20 0.000000000\n",
       "26 0.000540991"
      ]
     },
     "metadata": {},
     "output_type": "display_data"
    },
    {
     "data": {
      "text/html": [
       "<ol class=list-inline>\n",
       "\t<li>30</li>\n",
       "\t<li>12</li>\n",
       "</ol>\n"
      ],
      "text/latex": [
       "\\begin{enumerate*}\n",
       "\\item 30\n",
       "\\item 12\n",
       "\\end{enumerate*}\n"
      ],
      "text/markdown": [
       "1. 30\n",
       "2. 12\n",
       "\n",
       "\n"
      ],
      "text/plain": [
       "[1] 30 12"
      ]
     },
     "metadata": {},
     "output_type": "display_data"
    }
   ],
   "source": [
    "features_pos<-droplevels(subset(a, a$Treatmentgroup==c(\"infected\")|a$Treatmentgroup==c(\"BNZ\")))\n",
    "head(features_pos)\n",
    "dim(features_pos)"
   ]
  },
  {
   "cell_type": "code",
   "execution_count": 24,
   "metadata": {
    "scrolled": false
   },
   "outputs": [
    {
     "data": {
      "text/html": [
       "<table>\n",
       "<thead><tr><th></th><th scope=col>mass_400</th><th scope=col>mass_500</th><th scope=col>mass_600</th><th scope=col>mass_700</th><th scope=col>mass_800</th></tr></thead>\n",
       "<tbody>\n",
       "\t<tr><th scope=row>16</th><td>0.02837775 </td><td>0.022834037</td><td>0.000315686</td><td>0.000232400</td><td>0.000000000</td></tr>\n",
       "\t<tr><th scope=row>17</th><td>0.02871855 </td><td>0.020977836</td><td>0.000173354</td><td>0.000000000</td><td>0.000000000</td></tr>\n",
       "\t<tr><th scope=row>18</th><td>0.01799131 </td><td>0.016555770</td><td>0.000197216</td><td>0.002339933</td><td>0.002753124</td></tr>\n",
       "\t<tr><th scope=row>19</th><td>0.01916334 </td><td>0.012070618</td><td>0.000131078</td><td>0.000091700</td><td>0.000000000</td></tr>\n",
       "\t<tr><th scope=row>20</th><td>0.01071095 </td><td>0.007062768</td><td>0.000000000</td><td>0.000000000</td><td>0.000000000</td></tr>\n",
       "\t<tr><th scope=row>26</th><td>0.01813804 </td><td>0.014911351</td><td>0.000266479</td><td>0.000892296</td><td>0.000540991</td></tr>\n",
       "</tbody>\n",
       "</table>\n"
      ],
      "text/latex": [
       "\\begin{tabular}{r|lllll}\n",
       "  & mass\\_400 & mass\\_500 & mass\\_600 & mass\\_700 & mass\\_800\\\\\n",
       "\\hline\n",
       "\t16 & 0.02837775  & 0.022834037 & 0.000315686 & 0.000232400 & 0.000000000\\\\\n",
       "\t17 & 0.02871855  & 0.020977836 & 0.000173354 & 0.000000000 & 0.000000000\\\\\n",
       "\t18 & 0.01799131  & 0.016555770 & 0.000197216 & 0.002339933 & 0.002753124\\\\\n",
       "\t19 & 0.01916334  & 0.012070618 & 0.000131078 & 0.000091700 & 0.000000000\\\\\n",
       "\t20 & 0.01071095  & 0.007062768 & 0.000000000 & 0.000000000 & 0.000000000\\\\\n",
       "\t26 & 0.01813804  & 0.014911351 & 0.000266479 & 0.000892296 & 0.000540991\\\\\n",
       "\\end{tabular}\n"
      ],
      "text/markdown": [
       "\n",
       "| <!--/--> | mass_400 | mass_500 | mass_600 | mass_700 | mass_800 |\n",
       "|---|---|---|---|---|---|\n",
       "| 16 | 0.02837775  | 0.022834037 | 0.000315686 | 0.000232400 | 0.000000000 |\n",
       "| 17 | 0.02871855  | 0.020977836 | 0.000173354 | 0.000000000 | 0.000000000 |\n",
       "| 18 | 0.01799131  | 0.016555770 | 0.000197216 | 0.002339933 | 0.002753124 |\n",
       "| 19 | 0.01916334  | 0.012070618 | 0.000131078 | 0.000091700 | 0.000000000 |\n",
       "| 20 | 0.01071095  | 0.007062768 | 0.000000000 | 0.000000000 | 0.000000000 |\n",
       "| 26 | 0.01813804  | 0.014911351 | 0.000266479 | 0.000892296 | 0.000540991 |\n",
       "\n"
      ],
      "text/plain": [
       "   mass_400   mass_500    mass_600    mass_700    mass_800   \n",
       "16 0.02837775 0.022834037 0.000315686 0.000232400 0.000000000\n",
       "17 0.02871855 0.020977836 0.000173354 0.000000000 0.000000000\n",
       "18 0.01799131 0.016555770 0.000197216 0.002339933 0.002753124\n",
       "19 0.01916334 0.012070618 0.000131078 0.000091700 0.000000000\n",
       "20 0.01071095 0.007062768 0.000000000 0.000000000 0.000000000\n",
       "26 0.01813804 0.014911351 0.000266479 0.000892296 0.000540991"
      ]
     },
     "metadata": {},
     "output_type": "display_data"
    },
    {
     "data": {
      "text/html": [
       "<dl class=dl-horizontal>\n",
       "\t<dt>mass_400</dt>\n",
       "\t\t<dd>1</dd>\n",
       "\t<dt>mass_500</dt>\n",
       "\t\t<dd>2</dd>\n",
       "\t<dt>mass_600</dt>\n",
       "\t\t<dd>3</dd>\n",
       "\t<dt>mass_700</dt>\n",
       "\t\t<dd>4</dd>\n",
       "\t<dt>mass_800</dt>\n",
       "\t\t<dd>5</dd>\n",
       "</dl>\n"
      ],
      "text/latex": [
       "\\begin{description*}\n",
       "\\item[mass\\textbackslash{}\\_400] 1\n",
       "\\item[mass\\textbackslash{}\\_500] 2\n",
       "\\item[mass\\textbackslash{}\\_600] 3\n",
       "\\item[mass\\textbackslash{}\\_700] 4\n",
       "\\item[mass\\textbackslash{}\\_800] 5\n",
       "\\end{description*}\n"
      ],
      "text/markdown": [
       "mass_400\n",
       ":   1mass_500\n",
       ":   2mass_600\n",
       ":   3mass_700\n",
       ":   4mass_800\n",
       ":   5\n",
       "\n"
      ],
      "text/plain": [
       "mass_400 mass_500 mass_600 mass_700 mass_800 \n",
       "       1        2        3        4        5 "
      ]
     },
     "metadata": {},
     "output_type": "display_data"
    },
    {
     "data": {
      "text/html": [
       "<table>\n",
       "<thead><tr><th></th><th scope=col>mass_400</th><th scope=col>mass_500</th><th scope=col>mass_600</th><th scope=col>mass_700</th><th scope=col>mass_800</th></tr></thead>\n",
       "<tbody>\n",
       "\t<tr><th scope=row>16</th><td>0.02837775 </td><td>0.022834037</td><td>0.000315686</td><td>0.000232400</td><td>0.000000000</td></tr>\n",
       "\t<tr><th scope=row>17</th><td>0.02871855 </td><td>0.020977836</td><td>0.000173354</td><td>0.000000000</td><td>0.000000000</td></tr>\n",
       "\t<tr><th scope=row>18</th><td>0.01799131 </td><td>0.016555770</td><td>0.000197216</td><td>0.002339933</td><td>0.002753124</td></tr>\n",
       "\t<tr><th scope=row>19</th><td>0.01916334 </td><td>0.012070618</td><td>0.000131078</td><td>0.000091700</td><td>0.000000000</td></tr>\n",
       "\t<tr><th scope=row>20</th><td>0.01071095 </td><td>0.007062768</td><td>0.000000000</td><td>0.000000000</td><td>0.000000000</td></tr>\n",
       "\t<tr><th scope=row>26</th><td>0.01813804 </td><td>0.014911351</td><td>0.000266479</td><td>0.000892296</td><td>0.000540991</td></tr>\n",
       "\t<tr><th scope=row>27</th><td>0.01249283 </td><td>0.008998047</td><td>0.000044900</td><td>0.000000000</td><td>0.000000000</td></tr>\n",
       "\t<tr><th scope=row>28</th><td>0.01240669 </td><td>0.009178553</td><td>0.000069200</td><td>0.002474594</td><td>0.000565533</td></tr>\n",
       "\t<tr><th scope=row>29</th><td>0.01513654 </td><td>0.014528310</td><td>0.000398556</td><td>0.000356715</td><td>0.000101230</td></tr>\n",
       "\t<tr><th scope=row>30</th><td>0.01895958 </td><td>0.013924097</td><td>0.000128443</td><td>0.000000000</td><td>0.000000000</td></tr>\n",
       "\t<tr><th scope=row>31</th><td>0.02737216 </td><td>0.019342261</td><td>0.000073400</td><td>0.002431999</td><td>0.000326417</td></tr>\n",
       "\t<tr><th scope=row>32</th><td>0.02655763 </td><td>0.021274632</td><td>0.000449218</td><td>0.001106250</td><td>0.001861606</td></tr>\n",
       "\t<tr><th scope=row>33</th><td>0.02757191 </td><td>0.018468214</td><td>0.000209633</td><td>0.000000000</td><td>0.000000000</td></tr>\n",
       "\t<tr><th scope=row>34</th><td>0.03219936 </td><td>0.030326058</td><td>0.000374924</td><td>0.004210324</td><td>0.001331910</td></tr>\n",
       "\t<tr><th scope=row>35</th><td>0.01875308 </td><td>0.015342243</td><td>0.000272379</td><td>0.000073700</td><td>0.000000000</td></tr>\n",
       "\t<tr><th scope=row>41</th><td>0.02117526 </td><td>0.023907936</td><td>0.000000000</td><td>0.000000000</td><td>0.000000000</td></tr>\n",
       "\t<tr><th scope=row>42</th><td>0.01675281 </td><td>0.015668638</td><td>0.000239840</td><td>0.000560671</td><td>0.000365202</td></tr>\n",
       "\t<tr><th scope=row>43</th><td>0.01313606 </td><td>0.014275026</td><td>0.000195078</td><td>0.000043200</td><td>0.000000000</td></tr>\n",
       "\t<tr><th scope=row>44</th><td>0.01804132 </td><td>0.020564314</td><td>0.000287903</td><td>0.001035579</td><td>0.000661472</td></tr>\n",
       "\t<tr><th scope=row>45</th><td>0.03363475 </td><td>0.033699527</td><td>0.000619968</td><td>0.002419877</td><td>0.000943952</td></tr>\n",
       "\t<tr><th scope=row>46</th><td>0.04429274 </td><td>0.042069384</td><td>0.001250248</td><td>0.015092129</td><td>0.005248017</td></tr>\n",
       "\t<tr><th scope=row>47</th><td>0.01910463 </td><td>0.019862499</td><td>0.000800215</td><td>0.006109785</td><td>0.003366342</td></tr>\n",
       "\t<tr><th scope=row>48</th><td>0.03257538 </td><td>0.024944813</td><td>0.000264527</td><td>0.002440796</td><td>0.001635274</td></tr>\n",
       "\t<tr><th scope=row>49</th><td>0.02075309 </td><td>0.017892875</td><td>0.000393003</td><td>0.001753509</td><td>0.000831877</td></tr>\n",
       "\t<tr><th scope=row>50</th><td>0.02112558 </td><td>0.018483706</td><td>0.000612078</td><td>0.008863277</td><td>0.000593109</td></tr>\n",
       "\t<tr><th scope=row>56</th><td>0.01494651 </td><td>0.016214088</td><td>0.000455748</td><td>0.001809214</td><td>0.002247102</td></tr>\n",
       "\t<tr><th scope=row>57</th><td>0.01554221 </td><td>0.015814358</td><td>0.000231976</td><td>0.000398477</td><td>0.000569978</td></tr>\n",
       "\t<tr><th scope=row>58</th><td>0.02377129 </td><td>0.024346738</td><td>0.000358736</td><td>0.001392009</td><td>0.000955383</td></tr>\n",
       "\t<tr><th scope=row>59</th><td>0.03419159 </td><td>0.030175431</td><td>0.000337809</td><td>0.000000000</td><td>0.000000000</td></tr>\n",
       "\t<tr><th scope=row>60</th><td>0.03474923 </td><td>0.038967796</td><td>0.000684550</td><td>0.002440380</td><td>0.001087114</td></tr>\n",
       "</tbody>\n",
       "</table>\n"
      ],
      "text/latex": [
       "\\begin{tabular}{r|lllll}\n",
       "  & mass\\_400 & mass\\_500 & mass\\_600 & mass\\_700 & mass\\_800\\\\\n",
       "\\hline\n",
       "\t16 & 0.02837775  & 0.022834037 & 0.000315686 & 0.000232400 & 0.000000000\\\\\n",
       "\t17 & 0.02871855  & 0.020977836 & 0.000173354 & 0.000000000 & 0.000000000\\\\\n",
       "\t18 & 0.01799131  & 0.016555770 & 0.000197216 & 0.002339933 & 0.002753124\\\\\n",
       "\t19 & 0.01916334  & 0.012070618 & 0.000131078 & 0.000091700 & 0.000000000\\\\\n",
       "\t20 & 0.01071095  & 0.007062768 & 0.000000000 & 0.000000000 & 0.000000000\\\\\n",
       "\t26 & 0.01813804  & 0.014911351 & 0.000266479 & 0.000892296 & 0.000540991\\\\\n",
       "\t27 & 0.01249283  & 0.008998047 & 0.000044900 & 0.000000000 & 0.000000000\\\\\n",
       "\t28 & 0.01240669  & 0.009178553 & 0.000069200 & 0.002474594 & 0.000565533\\\\\n",
       "\t29 & 0.01513654  & 0.014528310 & 0.000398556 & 0.000356715 & 0.000101230\\\\\n",
       "\t30 & 0.01895958  & 0.013924097 & 0.000128443 & 0.000000000 & 0.000000000\\\\\n",
       "\t31 & 0.02737216  & 0.019342261 & 0.000073400 & 0.002431999 & 0.000326417\\\\\n",
       "\t32 & 0.02655763  & 0.021274632 & 0.000449218 & 0.001106250 & 0.001861606\\\\\n",
       "\t33 & 0.02757191  & 0.018468214 & 0.000209633 & 0.000000000 & 0.000000000\\\\\n",
       "\t34 & 0.03219936  & 0.030326058 & 0.000374924 & 0.004210324 & 0.001331910\\\\\n",
       "\t35 & 0.01875308  & 0.015342243 & 0.000272379 & 0.000073700 & 0.000000000\\\\\n",
       "\t41 & 0.02117526  & 0.023907936 & 0.000000000 & 0.000000000 & 0.000000000\\\\\n",
       "\t42 & 0.01675281  & 0.015668638 & 0.000239840 & 0.000560671 & 0.000365202\\\\\n",
       "\t43 & 0.01313606  & 0.014275026 & 0.000195078 & 0.000043200 & 0.000000000\\\\\n",
       "\t44 & 0.01804132  & 0.020564314 & 0.000287903 & 0.001035579 & 0.000661472\\\\\n",
       "\t45 & 0.03363475  & 0.033699527 & 0.000619968 & 0.002419877 & 0.000943952\\\\\n",
       "\t46 & 0.04429274  & 0.042069384 & 0.001250248 & 0.015092129 & 0.005248017\\\\\n",
       "\t47 & 0.01910463  & 0.019862499 & 0.000800215 & 0.006109785 & 0.003366342\\\\\n",
       "\t48 & 0.03257538  & 0.024944813 & 0.000264527 & 0.002440796 & 0.001635274\\\\\n",
       "\t49 & 0.02075309  & 0.017892875 & 0.000393003 & 0.001753509 & 0.000831877\\\\\n",
       "\t50 & 0.02112558  & 0.018483706 & 0.000612078 & 0.008863277 & 0.000593109\\\\\n",
       "\t56 & 0.01494651  & 0.016214088 & 0.000455748 & 0.001809214 & 0.002247102\\\\\n",
       "\t57 & 0.01554221  & 0.015814358 & 0.000231976 & 0.000398477 & 0.000569978\\\\\n",
       "\t58 & 0.02377129  & 0.024346738 & 0.000358736 & 0.001392009 & 0.000955383\\\\\n",
       "\t59 & 0.03419159  & 0.030175431 & 0.000337809 & 0.000000000 & 0.000000000\\\\\n",
       "\t60 & 0.03474923  & 0.038967796 & 0.000684550 & 0.002440380 & 0.001087114\\\\\n",
       "\\end{tabular}\n"
      ],
      "text/markdown": [
       "\n",
       "| <!--/--> | mass_400 | mass_500 | mass_600 | mass_700 | mass_800 |\n",
       "|---|---|---|---|---|---|\n",
       "| 16 | 0.02837775  | 0.022834037 | 0.000315686 | 0.000232400 | 0.000000000 |\n",
       "| 17 | 0.02871855  | 0.020977836 | 0.000173354 | 0.000000000 | 0.000000000 |\n",
       "| 18 | 0.01799131  | 0.016555770 | 0.000197216 | 0.002339933 | 0.002753124 |\n",
       "| 19 | 0.01916334  | 0.012070618 | 0.000131078 | 0.000091700 | 0.000000000 |\n",
       "| 20 | 0.01071095  | 0.007062768 | 0.000000000 | 0.000000000 | 0.000000000 |\n",
       "| 26 | 0.01813804  | 0.014911351 | 0.000266479 | 0.000892296 | 0.000540991 |\n",
       "| 27 | 0.01249283  | 0.008998047 | 0.000044900 | 0.000000000 | 0.000000000 |\n",
       "| 28 | 0.01240669  | 0.009178553 | 0.000069200 | 0.002474594 | 0.000565533 |\n",
       "| 29 | 0.01513654  | 0.014528310 | 0.000398556 | 0.000356715 | 0.000101230 |\n",
       "| 30 | 0.01895958  | 0.013924097 | 0.000128443 | 0.000000000 | 0.000000000 |\n",
       "| 31 | 0.02737216  | 0.019342261 | 0.000073400 | 0.002431999 | 0.000326417 |\n",
       "| 32 | 0.02655763  | 0.021274632 | 0.000449218 | 0.001106250 | 0.001861606 |\n",
       "| 33 | 0.02757191  | 0.018468214 | 0.000209633 | 0.000000000 | 0.000000000 |\n",
       "| 34 | 0.03219936  | 0.030326058 | 0.000374924 | 0.004210324 | 0.001331910 |\n",
       "| 35 | 0.01875308  | 0.015342243 | 0.000272379 | 0.000073700 | 0.000000000 |\n",
       "| 41 | 0.02117526  | 0.023907936 | 0.000000000 | 0.000000000 | 0.000000000 |\n",
       "| 42 | 0.01675281  | 0.015668638 | 0.000239840 | 0.000560671 | 0.000365202 |\n",
       "| 43 | 0.01313606  | 0.014275026 | 0.000195078 | 0.000043200 | 0.000000000 |\n",
       "| 44 | 0.01804132  | 0.020564314 | 0.000287903 | 0.001035579 | 0.000661472 |\n",
       "| 45 | 0.03363475  | 0.033699527 | 0.000619968 | 0.002419877 | 0.000943952 |\n",
       "| 46 | 0.04429274  | 0.042069384 | 0.001250248 | 0.015092129 | 0.005248017 |\n",
       "| 47 | 0.01910463  | 0.019862499 | 0.000800215 | 0.006109785 | 0.003366342 |\n",
       "| 48 | 0.03257538  | 0.024944813 | 0.000264527 | 0.002440796 | 0.001635274 |\n",
       "| 49 | 0.02075309  | 0.017892875 | 0.000393003 | 0.001753509 | 0.000831877 |\n",
       "| 50 | 0.02112558  | 0.018483706 | 0.000612078 | 0.008863277 | 0.000593109 |\n",
       "| 56 | 0.01494651  | 0.016214088 | 0.000455748 | 0.001809214 | 0.002247102 |\n",
       "| 57 | 0.01554221  | 0.015814358 | 0.000231976 | 0.000398477 | 0.000569978 |\n",
       "| 58 | 0.02377129  | 0.024346738 | 0.000358736 | 0.001392009 | 0.000955383 |\n",
       "| 59 | 0.03419159  | 0.030175431 | 0.000337809 | 0.000000000 | 0.000000000 |\n",
       "| 60 | 0.03474923  | 0.038967796 | 0.000684550 | 0.002440380 | 0.001087114 |\n",
       "\n"
      ],
      "text/plain": [
       "   mass_400   mass_500    mass_600    mass_700    mass_800   \n",
       "16 0.02837775 0.022834037 0.000315686 0.000232400 0.000000000\n",
       "17 0.02871855 0.020977836 0.000173354 0.000000000 0.000000000\n",
       "18 0.01799131 0.016555770 0.000197216 0.002339933 0.002753124\n",
       "19 0.01916334 0.012070618 0.000131078 0.000091700 0.000000000\n",
       "20 0.01071095 0.007062768 0.000000000 0.000000000 0.000000000\n",
       "26 0.01813804 0.014911351 0.000266479 0.000892296 0.000540991\n",
       "27 0.01249283 0.008998047 0.000044900 0.000000000 0.000000000\n",
       "28 0.01240669 0.009178553 0.000069200 0.002474594 0.000565533\n",
       "29 0.01513654 0.014528310 0.000398556 0.000356715 0.000101230\n",
       "30 0.01895958 0.013924097 0.000128443 0.000000000 0.000000000\n",
       "31 0.02737216 0.019342261 0.000073400 0.002431999 0.000326417\n",
       "32 0.02655763 0.021274632 0.000449218 0.001106250 0.001861606\n",
       "33 0.02757191 0.018468214 0.000209633 0.000000000 0.000000000\n",
       "34 0.03219936 0.030326058 0.000374924 0.004210324 0.001331910\n",
       "35 0.01875308 0.015342243 0.000272379 0.000073700 0.000000000\n",
       "41 0.02117526 0.023907936 0.000000000 0.000000000 0.000000000\n",
       "42 0.01675281 0.015668638 0.000239840 0.000560671 0.000365202\n",
       "43 0.01313606 0.014275026 0.000195078 0.000043200 0.000000000\n",
       "44 0.01804132 0.020564314 0.000287903 0.001035579 0.000661472\n",
       "45 0.03363475 0.033699527 0.000619968 0.002419877 0.000943952\n",
       "46 0.04429274 0.042069384 0.001250248 0.015092129 0.005248017\n",
       "47 0.01910463 0.019862499 0.000800215 0.006109785 0.003366342\n",
       "48 0.03257538 0.024944813 0.000264527 0.002440796 0.001635274\n",
       "49 0.02075309 0.017892875 0.000393003 0.001753509 0.000831877\n",
       "50 0.02112558 0.018483706 0.000612078 0.008863277 0.000593109\n",
       "56 0.01494651 0.016214088 0.000455748 0.001809214 0.002247102\n",
       "57 0.01554221 0.015814358 0.000231976 0.000398477 0.000569978\n",
       "58 0.02377129 0.024346738 0.000358736 0.001392009 0.000955383\n",
       "59 0.03419159 0.030175431 0.000337809 0.000000000 0.000000000\n",
       "60 0.03474923 0.038967796 0.000684550 0.002440380 0.001087114"
      ]
     },
     "metadata": {},
     "output_type": "display_data"
    },
    {
     "data": {
      "text/html": [
       "<table>\n",
       "<thead><tr><th></th><th scope=col>filename</th><th scope=col>MouseID</th><th scope=col>Treatmentgroup</th><th scope=col>DPI</th><th scope=col>organ</th><th scope=col>well_position</th><th scope=col>plate</th><th scope=col>mass_400</th><th scope=col>mass_500</th><th scope=col>mass_600</th><th scope=col>mass_700</th><th scope=col>mass_800</th></tr></thead>\n",
       "<tbody>\n",
       "\t<tr><th scope=row>16</th><td>X581_Group3E_142dpi_RV_top_176_G_B4_P136.mzXML</td><td>581                                           </td><td>infected                                      </td><td>142dpi                                        </td><td>RV_top                                        </td><td>B4                                            </td><td>P136                                          </td><td>0.02837775                                    </td><td>0.022834037                                   </td><td>0.000315686                                   </td><td>0.000232400                                   </td><td>0.000000000                                   </td></tr>\n",
       "\t<tr><th scope=row>17</th><td>X582_Group3E_142dpi_RV_top_177_G_B5_P136.mzXML</td><td>582                                           </td><td>infected                                      </td><td>142dpi                                        </td><td>RV_top                                        </td><td>B5                                            </td><td>P136                                          </td><td>0.02871855                                    </td><td>0.020977836                                   </td><td>0.000173354                                   </td><td>0.000000000                                   </td><td>0.000000000                                   </td></tr>\n",
       "\t<tr><th scope=row>18</th><td>X583_Group3E_142dpi_RV_top_178_G_B6_P136.mzXML</td><td>583                                           </td><td>infected                                      </td><td>142dpi                                        </td><td>RV_top                                        </td><td>B6                                            </td><td>P136                                          </td><td>0.01799131                                    </td><td>0.016555770                                   </td><td>0.000197216                                   </td><td>0.002339933                                   </td><td>0.002753124                                   </td></tr>\n",
       "\t<tr><th scope=row>19</th><td>X584_Group3E_142dpi_RV_top_179_G_B7_P136.mzXML</td><td>584                                           </td><td>infected                                      </td><td>142dpi                                        </td><td>RV_top                                        </td><td>B7                                            </td><td>P136                                          </td><td>0.01916334                                    </td><td>0.012070618                                   </td><td>0.000131078                                   </td><td>0.000091700                                   </td><td>0.000000000                                   </td></tr>\n",
       "\t<tr><th scope=row>20</th><td>X585_Group3E_142dpi_RV_top_180_G_B8_P136.mzXML</td><td>585                                           </td><td>infected                                      </td><td>142dpi                                        </td><td>RV_top                                        </td><td>B8                                            </td><td>P136                                          </td><td>0.01071095                                    </td><td>0.007062768                                   </td><td>0.000000000                                   </td><td>0.000000000                                   </td><td>0.000000000                                   </td></tr>\n",
       "\t<tr><th scope=row>26</th><td>X631_Group15_142dpi_RV_top_191_G_C7_P136.mzXML</td><td>631                                           </td><td>BNZ                                           </td><td>142dpi                                        </td><td>RV_top                                        </td><td>C7                                            </td><td>P136                                          </td><td>0.01813804                                    </td><td>0.014911351                                   </td><td>0.000266479                                   </td><td>0.000892296                                   </td><td>0.000540991                                   </td></tr>\n",
       "</tbody>\n",
       "</table>\n"
      ],
      "text/latex": [
       "\\begin{tabular}{r|llllllllllll}\n",
       "  & filename & MouseID & Treatmentgroup & DPI & organ & well\\_position & plate & mass\\_400 & mass\\_500 & mass\\_600 & mass\\_700 & mass\\_800\\\\\n",
       "\\hline\n",
       "\t16 & X581\\_Group3E\\_142dpi\\_RV\\_top\\_176\\_G\\_B4\\_P136.mzXML & 581                                                            & infected                                                       & 142dpi                                                         & RV\\_top                                                       & B4                                                             & P136                                                           & 0.02837775                                                     & 0.022834037                                                    & 0.000315686                                                    & 0.000232400                                                    & 0.000000000                                                   \\\\\n",
       "\t17 & X582\\_Group3E\\_142dpi\\_RV\\_top\\_177\\_G\\_B5\\_P136.mzXML & 582                                                            & infected                                                       & 142dpi                                                         & RV\\_top                                                       & B5                                                             & P136                                                           & 0.02871855                                                     & 0.020977836                                                    & 0.000173354                                                    & 0.000000000                                                    & 0.000000000                                                   \\\\\n",
       "\t18 & X583\\_Group3E\\_142dpi\\_RV\\_top\\_178\\_G\\_B6\\_P136.mzXML & 583                                                            & infected                                                       & 142dpi                                                         & RV\\_top                                                       & B6                                                             & P136                                                           & 0.01799131                                                     & 0.016555770                                                    & 0.000197216                                                    & 0.002339933                                                    & 0.002753124                                                   \\\\\n",
       "\t19 & X584\\_Group3E\\_142dpi\\_RV\\_top\\_179\\_G\\_B7\\_P136.mzXML & 584                                                            & infected                                                       & 142dpi                                                         & RV\\_top                                                       & B7                                                             & P136                                                           & 0.01916334                                                     & 0.012070618                                                    & 0.000131078                                                    & 0.000091700                                                    & 0.000000000                                                   \\\\\n",
       "\t20 & X585\\_Group3E\\_142dpi\\_RV\\_top\\_180\\_G\\_B8\\_P136.mzXML & 585                                                            & infected                                                       & 142dpi                                                         & RV\\_top                                                       & B8                                                             & P136                                                           & 0.01071095                                                     & 0.007062768                                                    & 0.000000000                                                    & 0.000000000                                                    & 0.000000000                                                   \\\\\n",
       "\t26 & X631\\_Group15\\_142dpi\\_RV\\_top\\_191\\_G\\_C7\\_P136.mzXML & 631                                                            & BNZ                                                            & 142dpi                                                         & RV\\_top                                                       & C7                                                             & P136                                                           & 0.01813804                                                     & 0.014911351                                                    & 0.000266479                                                    & 0.000892296                                                    & 0.000540991                                                   \\\\\n",
       "\\end{tabular}\n"
      ],
      "text/markdown": [
       "\n",
       "| <!--/--> | filename | MouseID | Treatmentgroup | DPI | organ | well_position | plate | mass_400 | mass_500 | mass_600 | mass_700 | mass_800 |\n",
       "|---|---|---|---|---|---|---|---|---|---|---|---|---|\n",
       "| 16 | X581_Group3E_142dpi_RV_top_176_G_B4_P136.mzXML | 581                                            | infected                                       | 142dpi                                         | RV_top                                         | B4                                             | P136                                           | 0.02837775                                     | 0.022834037                                    | 0.000315686                                    | 0.000232400                                    | 0.000000000                                    |\n",
       "| 17 | X582_Group3E_142dpi_RV_top_177_G_B5_P136.mzXML | 582                                            | infected                                       | 142dpi                                         | RV_top                                         | B5                                             | P136                                           | 0.02871855                                     | 0.020977836                                    | 0.000173354                                    | 0.000000000                                    | 0.000000000                                    |\n",
       "| 18 | X583_Group3E_142dpi_RV_top_178_G_B6_P136.mzXML | 583                                            | infected                                       | 142dpi                                         | RV_top                                         | B6                                             | P136                                           | 0.01799131                                     | 0.016555770                                    | 0.000197216                                    | 0.002339933                                    | 0.002753124                                    |\n",
       "| 19 | X584_Group3E_142dpi_RV_top_179_G_B7_P136.mzXML | 584                                            | infected                                       | 142dpi                                         | RV_top                                         | B7                                             | P136                                           | 0.01916334                                     | 0.012070618                                    | 0.000131078                                    | 0.000091700                                    | 0.000000000                                    |\n",
       "| 20 | X585_Group3E_142dpi_RV_top_180_G_B8_P136.mzXML | 585                                            | infected                                       | 142dpi                                         | RV_top                                         | B8                                             | P136                                           | 0.01071095                                     | 0.007062768                                    | 0.000000000                                    | 0.000000000                                    | 0.000000000                                    |\n",
       "| 26 | X631_Group15_142dpi_RV_top_191_G_C7_P136.mzXML | 631                                            | BNZ                                            | 142dpi                                         | RV_top                                         | C7                                             | P136                                           | 0.01813804                                     | 0.014911351                                    | 0.000266479                                    | 0.000892296                                    | 0.000540991                                    |\n",
       "\n"
      ],
      "text/plain": [
       "   filename                                       MouseID Treatmentgroup DPI   \n",
       "16 X581_Group3E_142dpi_RV_top_176_G_B4_P136.mzXML 581     infected       142dpi\n",
       "17 X582_Group3E_142dpi_RV_top_177_G_B5_P136.mzXML 582     infected       142dpi\n",
       "18 X583_Group3E_142dpi_RV_top_178_G_B6_P136.mzXML 583     infected       142dpi\n",
       "19 X584_Group3E_142dpi_RV_top_179_G_B7_P136.mzXML 584     infected       142dpi\n",
       "20 X585_Group3E_142dpi_RV_top_180_G_B8_P136.mzXML 585     infected       142dpi\n",
       "26 X631_Group15_142dpi_RV_top_191_G_C7_P136.mzXML 631     BNZ            142dpi\n",
       "   organ  well_position plate mass_400   mass_500    mass_600    mass_700   \n",
       "16 RV_top B4            P136  0.02837775 0.022834037 0.000315686 0.000232400\n",
       "17 RV_top B5            P136  0.02871855 0.020977836 0.000173354 0.000000000\n",
       "18 RV_top B6            P136  0.01799131 0.016555770 0.000197216 0.002339933\n",
       "19 RV_top B7            P136  0.01916334 0.012070618 0.000131078 0.000091700\n",
       "20 RV_top B8            P136  0.01071095 0.007062768 0.000000000 0.000000000\n",
       "26 RV_top C7            P136  0.01813804 0.014911351 0.000266479 0.000892296\n",
       "   mass_800   \n",
       "16 0.000000000\n",
       "17 0.000000000\n",
       "18 0.002753124\n",
       "19 0.000000000\n",
       "20 0.000000000\n",
       "26 0.000540991"
      ]
     },
     "metadata": {},
     "output_type": "display_data"
    },
    {
     "data": {
      "text/html": [
       "<ol class=list-inline>\n",
       "\t<li>30</li>\n",
       "\t<li>12</li>\n",
       "</ol>\n"
      ],
      "text/latex": [
       "\\begin{enumerate*}\n",
       "\\item 30\n",
       "\\item 12\n",
       "\\end{enumerate*}\n"
      ],
      "text/markdown": [
       "1. 30\n",
       "2. 12\n",
       "\n",
       "\n"
      ],
      "text/plain": [
       "[1] 30 12"
      ]
     },
     "metadata": {},
     "output_type": "display_data"
    },
    {
     "data": {
      "text/html": [
       "<ol class=list-inline>\n",
       "\t<li>30</li>\n",
       "\t<li>5</li>\n",
       "</ol>\n"
      ],
      "text/latex": [
       "\\begin{enumerate*}\n",
       "\\item 30\n",
       "\\item 5\n",
       "\\end{enumerate*}\n"
      ],
      "text/markdown": [
       "1. 30\n",
       "2. 5\n",
       "\n",
       "\n"
      ],
      "text/plain": [
       "[1] 30  5"
      ]
     },
     "metadata": {},
     "output_type": "display_data"
    },
    {
     "data": {
      "text/html": [
       "<ol class=list-inline>\n",
       "\t<li>30</li>\n",
       "\t<li>5</li>\n",
       "</ol>\n"
      ],
      "text/latex": [
       "\\begin{enumerate*}\n",
       "\\item 30\n",
       "\\item 5\n",
       "\\end{enumerate*}\n"
      ],
      "text/markdown": [
       "1. 30\n",
       "2. 5\n",
       "\n",
       "\n"
      ],
      "text/plain": [
       "[1] 30  5"
      ]
     },
     "metadata": {},
     "output_type": "display_data"
    },
    {
     "data": {
      "text/html": [
       "<ol class=list-inline>\n",
       "\t<li>30</li>\n",
       "\t<li>12</li>\n",
       "</ol>\n"
      ],
      "text/latex": [
       "\\begin{enumerate*}\n",
       "\\item 30\n",
       "\\item 12\n",
       "\\end{enumerate*}\n"
      ],
      "text/markdown": [
       "1. 30\n",
       "2. 12\n",
       "\n",
       "\n"
      ],
      "text/plain": [
       "[1] 30 12"
      ]
     },
     "metadata": {},
     "output_type": "display_data"
    }
   ],
   "source": [
    "noMeta<-features_pos[,8:12]\n",
    "head(noMeta)\n",
    "not_zero<-which(colSums(noMeta) != 0)\n",
    "head(not_zero)\n",
    "nonzero <- noMeta[, not_zero]\n",
    "nonzero\n",
    "nonzero_wMeta<-cbind(features_pos[,1:7], nonzero)\n",
    "head(nonzero_wMeta)\n",
    "dim(features_pos)\n",
    "dim(noMeta)\n",
    "dim(nonzero)\n",
    "dim(nonzero_wMeta)"
   ]
  },
  {
   "cell_type": "code",
   "execution_count": 25,
   "metadata": {
    "scrolled": true
   },
   "outputs": [
    {
     "name": "stderr",
     "output_type": "stream",
     "text": [
      "Warning message in wilcox.test.default(x = c(0.000266479, 4.49e-05, 6.92e-05, 0.000398556, :\n",
      "\"cannot compute exact p-value with ties\"Warning message in wilcox.test.default(x = c(0.000892296, 0, 0.002474594, 0.000356715, :\n",
      "\"cannot compute exact p-value with ties\"Warning message in wilcox.test.default(x = c(0.000540991, 0, 0.000565533, 0.00010123, :\n",
      "\"cannot compute exact p-value with ties\""
     ]
    },
    {
     "data": {
      "text/html": [
       "<ol class=list-inline>\n",
       "\t<li>0.0814293446671917</li>\n",
       "\t<li>0.436289427525659</li>\n",
       "\t<li>0.693517928900974</li>\n",
       "\t<li>0.242529099086007</li>\n",
       "\t<li>0.496180821774955</li>\n",
       "</ol>\n"
      ],
      "text/latex": [
       "\\begin{enumerate*}\n",
       "\\item 0.0814293446671917\n",
       "\\item 0.436289427525659\n",
       "\\item 0.693517928900974\n",
       "\\item 0.242529099086007\n",
       "\\item 0.496180821774955\n",
       "\\end{enumerate*}\n"
      ],
      "text/markdown": [
       "1. 0.0814293446671917\n",
       "2. 0.436289427525659\n",
       "3. 0.693517928900974\n",
       "4. 0.242529099086007\n",
       "5. 0.496180821774955\n",
       "\n",
       "\n"
      ],
      "text/plain": [
       "[1] 0.08142934 0.43628943 0.69351793 0.24252910 0.49618082"
      ]
     },
     "metadata": {},
     "output_type": "display_data"
    },
    {
     "data": {
      "text/html": [
       "<ol class=list-inline>\n",
       "\t<li>0.407146723335958</li>\n",
       "\t<li>0.620226027218693</li>\n",
       "\t<li>0.693517928900974</li>\n",
       "\t<li>0.606322747715017</li>\n",
       "\t<li>0.620226027218693</li>\n",
       "</ol>\n"
      ],
      "text/latex": [
       "\\begin{enumerate*}\n",
       "\\item 0.407146723335958\n",
       "\\item 0.620226027218693\n",
       "\\item 0.693517928900974\n",
       "\\item 0.606322747715017\n",
       "\\item 0.620226027218693\n",
       "\\end{enumerate*}\n"
      ],
      "text/markdown": [
       "1. 0.407146723335958\n",
       "2. 0.620226027218693\n",
       "3. 0.693517928900974\n",
       "4. 0.606322747715017\n",
       "5. 0.620226027218693\n",
       "\n",
       "\n"
      ],
      "text/plain": [
       "[1] 0.4071467 0.6202260 0.6935179 0.6063227 0.6202260"
      ]
     },
     "metadata": {},
     "output_type": "display_data"
    }
   ],
   "source": [
    "pval<-c()\n",
    "\n",
    "for (i in 8:ncol(nonzero_wMeta)) \n",
    "pval<-c(pval,wilcox.test(nonzero_wMeta[,i]~nonzero_wMeta$Treatmentgroup)$p.value)\n",
    "head(pval)\n",
    "pAdj <- p.adjust(pval, method = c(\"fdr\"), n=length(pval)) \n",
    "head(pAdj) \n",
    "\n"
   ]
  },
  {
   "cell_type": "code",
   "execution_count": 26,
   "metadata": {
    "scrolled": true
   },
   "outputs": [
    {
     "data": {
      "text/html": [
       "5"
      ],
      "text/latex": [
       "5"
      ],
      "text/markdown": [
       "5"
      ],
      "text/plain": [
       "[1] 5"
      ]
     },
     "metadata": {},
     "output_type": "display_data"
    }
   ],
   "source": [
    "length(pval)"
   ]
  },
  {
   "cell_type": "code",
   "execution_count": 27,
   "metadata": {
    "scrolled": true
   },
   "outputs": [
    {
     "data": {
      "text/html": [
       "5"
      ],
      "text/latex": [
       "5"
      ],
      "text/markdown": [
       "5"
      ],
      "text/plain": [
       "[1] 5"
      ]
     },
     "metadata": {},
     "output_type": "display_data"
    }
   ],
   "source": [
    "length(pAdj)"
   ]
  },
  {
   "cell_type": "code",
   "execution_count": 28,
   "metadata": {},
   "outputs": [
    {
     "data": {
      "text/html": [
       "<ol class=list-inline>\n",
       "\t<li>2</li>\n",
       "\t<li>5</li>\n",
       "</ol>\n"
      ],
      "text/latex": [
       "\\begin{enumerate*}\n",
       "\\item 2\n",
       "\\item 5\n",
       "\\end{enumerate*}\n"
      ],
      "text/markdown": [
       "1. 2\n",
       "2. 5\n",
       "\n",
       "\n"
      ],
      "text/plain": [
       "[1] 2 5"
      ]
     },
     "metadata": {},
     "output_type": "display_data"
    },
    {
     "data": {
      "text/html": [
       "<table>\n",
       "<thead><tr><th></th><th scope=col>mass_400</th><th scope=col>mass_500</th><th scope=col>mass_600</th></tr></thead>\n",
       "<tbody>\n",
       "\t<tr><th scope=row>BNZ</th><td>0.02020498  </td><td>0.01967828  </td><td>0.0002879457</td></tr>\n",
       "\t<tr><th scope=row>infected</th><td>0.02501783  </td><td>0.02050051  </td><td>0.0003677973</td></tr>\n",
       "</tbody>\n",
       "</table>\n"
      ],
      "text/latex": [
       "\\begin{tabular}{r|lll}\n",
       "  & mass\\_400 & mass\\_500 & mass\\_600\\\\\n",
       "\\hline\n",
       "\tBNZ & 0.02020498   & 0.01967828   & 0.0002879457\\\\\n",
       "\tinfected & 0.02501783   & 0.02050051   & 0.0003677973\\\\\n",
       "\\end{tabular}\n"
      ],
      "text/markdown": [
       "\n",
       "| <!--/--> | mass_400 | mass_500 | mass_600 |\n",
       "|---|---|---|---|\n",
       "| BNZ | 0.02020498   | 0.01967828   | 0.0002879457 |\n",
       "| infected | 0.02501783   | 0.02050051   | 0.0003677973 |\n",
       "\n"
      ],
      "text/plain": [
       "         mass_400   mass_500   mass_600    \n",
       "BNZ      0.02020498 0.01967828 0.0002879457\n",
       "infected 0.02501783 0.02050051 0.0003677973"
      ]
     },
     "metadata": {},
     "output_type": "display_data"
    },
    {
     "data": {
      "text/html": [
       "<dl class=dl-horizontal>\n",
       "\t<dt>mass_400</dt>\n",
       "\t\t<dd>0.807623187960279</dd>\n",
       "\t<dt>mass_500</dt>\n",
       "\t\t<dd>0.959892050057645</dd>\n",
       "\t<dt>mass_600</dt>\n",
       "\t\t<dd>0.782892531918399</dd>\n",
       "\t<dt>mass_700</dt>\n",
       "\t\t<dd>0.308923102998579</dd>\n",
       "\t<dt>mass_800</dt>\n",
       "\t\t<dd>0.447855031481513</dd>\n",
       "</dl>\n"
      ],
      "text/latex": [
       "\\begin{description*}\n",
       "\\item[mass\\textbackslash{}\\_400] 0.807623187960279\n",
       "\\item[mass\\textbackslash{}\\_500] 0.959892050057645\n",
       "\\item[mass\\textbackslash{}\\_600] 0.782892531918399\n",
       "\\item[mass\\textbackslash{}\\_700] 0.308923102998579\n",
       "\\item[mass\\textbackslash{}\\_800] 0.447855031481513\n",
       "\\end{description*}\n"
      ],
      "text/markdown": [
       "mass_400\n",
       ":   0.807623187960279mass_500\n",
       ":   0.959892050057645mass_600\n",
       ":   0.782892531918399mass_700\n",
       ":   0.308923102998579mass_800\n",
       ":   0.447855031481513\n",
       "\n"
      ],
      "text/plain": [
       " mass_400  mass_500  mass_600  mass_700  mass_800 \n",
       "0.8076232 0.9598921 0.7828925 0.3089231 0.4478550 "
      ]
     },
     "metadata": {},
     "output_type": "display_data"
    },
    {
     "data": {
      "text/html": [
       "<ol class=list-inline>\n",
       "\t<li>'numeric'</li>\n",
       "\t<li>'vector'</li>\n",
       "</ol>\n"
      ],
      "text/latex": [
       "\\begin{enumerate*}\n",
       "\\item 'numeric'\n",
       "\\item 'vector'\n",
       "\\end{enumerate*}\n"
      ],
      "text/markdown": [
       "1. 'numeric'\n",
       "2. 'vector'\n",
       "\n",
       "\n"
      ],
      "text/plain": [
       "[1] \"numeric\" \"vector\" "
      ]
     },
     "metadata": {},
     "output_type": "display_data"
    }
   ],
   "source": [
    "avg<- apply(nonzero_wMeta[,8:ncol(nonzero_wMeta)], 2, function(x) tapply(x, nonzero_wMeta$Treatmentgroup, function(x) mean(x))) \n",
    "\n",
    "dim(avg)\n",
    "\n",
    "avg[,1:3]\n",
    "\n",
    "fch <- apply(avg, 2, function(x) x[1]/x[2])\n",
    "\n",
    "head(fch)\n",
    "is(fch)"
   ]
  },
  {
   "cell_type": "code",
   "execution_count": 29,
   "metadata": {
    "scrolled": true
   },
   "outputs": [
    {
     "data": {
      "text/html": [
       "<dl class=dl-horizontal>\n",
       "\t<dt>mass_400</dt>\n",
       "\t\t<dd>0.807623187960279</dd>\n",
       "\t<dt>mass_500</dt>\n",
       "\t\t<dd>0.959892050057645</dd>\n",
       "\t<dt>mass_600</dt>\n",
       "\t\t<dd>0.782892531918399</dd>\n",
       "\t<dt>mass_700</dt>\n",
       "\t\t<dd>0.308923102998579</dd>\n",
       "\t<dt>mass_800</dt>\n",
       "\t\t<dd>0.447855031481513</dd>\n",
       "</dl>\n"
      ],
      "text/latex": [
       "\\begin{description*}\n",
       "\\item[mass\\textbackslash{}\\_400] 0.807623187960279\n",
       "\\item[mass\\textbackslash{}\\_500] 0.959892050057645\n",
       "\\item[mass\\textbackslash{}\\_600] 0.782892531918399\n",
       "\\item[mass\\textbackslash{}\\_700] 0.308923102998579\n",
       "\\item[mass\\textbackslash{}\\_800] 0.447855031481513\n",
       "\\end{description*}\n"
      ],
      "text/markdown": [
       "mass_400\n",
       ":   0.807623187960279mass_500\n",
       ":   0.959892050057645mass_600\n",
       ":   0.782892531918399mass_700\n",
       ":   0.308923102998579mass_800\n",
       ":   0.447855031481513\n",
       "\n"
      ],
      "text/plain": [
       " mass_400  mass_500  mass_600  mass_700  mass_800 \n",
       "0.8076232 0.9598921 0.7828925 0.3089231 0.4478550 "
      ]
     },
     "metadata": {},
     "output_type": "display_data"
    }
   ],
   "source": [
    "fch"
   ]
  },
  {
   "cell_type": "code",
   "execution_count": 30,
   "metadata": {
    "scrolled": false
   },
   "outputs": [],
   "source": [
    "df <- data.frame(fch,pval, pAdj)\n",
    "write.csv(df, \"PC-treat-RVT-wilcox-infected-BNZ.csv\")"
   ]
  },
  {
   "cell_type": "code",
   "execution_count": null,
   "metadata": {},
   "outputs": [],
   "source": []
  },
  {
   "cell_type": "code",
   "execution_count": null,
   "metadata": {},
   "outputs": [],
   "source": []
  },
  {
   "cell_type": "code",
   "execution_count": null,
   "metadata": {},
   "outputs": [],
   "source": []
  },
  {
   "cell_type": "code",
   "execution_count": null,
   "metadata": {},
   "outputs": [],
   "source": []
  },
  {
   "cell_type": "code",
   "execution_count": null,
   "metadata": {},
   "outputs": [],
   "source": []
  },
  {
   "cell_type": "code",
   "execution_count": null,
   "metadata": {},
   "outputs": [],
   "source": []
  }
 ],
 "metadata": {
  "kernelspec": {
   "display_name": "R",
   "language": "R",
   "name": "ir"
  },
  "language_info": {
   "codemirror_mode": "r",
   "file_extension": ".r",
   "mimetype": "text/x-r-source",
   "name": "R",
   "pygments_lexer": "r",
   "version": "3.6.1"
  }
 },
 "nbformat": 4,
 "nbformat_minor": 2
}
