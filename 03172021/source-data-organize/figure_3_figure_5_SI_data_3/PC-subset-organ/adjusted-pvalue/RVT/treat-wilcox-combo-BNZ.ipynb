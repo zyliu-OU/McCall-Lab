{
 "cells": [
  {
   "cell_type": "code",
   "execution_count": 11,
   "metadata": {},
   "outputs": [],
   "source": [
    "a <- read.csv(\"03172021-PC-treatment-RVT-M-F.csv\")"
   ]
  },
  {
   "cell_type": "code",
   "execution_count": 12,
   "metadata": {},
   "outputs": [
    {
     "data": {
      "text/html": [
       "<table>\n",
       "<thead><tr><th scope=col>filename</th><th scope=col>MouseID</th><th scope=col>Treatmentgroup</th><th scope=col>DPI</th><th scope=col>organ</th><th scope=col>well_position</th><th scope=col>plate</th><th scope=col>mass_400</th><th scope=col>mass_500</th><th scope=col>mass_600</th><th scope=col>mass_700</th><th scope=col>mass_800</th></tr></thead>\n",
       "<tbody>\n",
       "\t<tr><td>X511_Group1C_142dpi_RV_top_161_G_A1_P136.mzXML</td><td>511                                           </td><td>naive                                         </td><td>142dpi                                        </td><td>RV_top                                        </td><td>A1                                            </td><td>P136                                          </td><td>0.03209193                                    </td><td>0.026205891                                   </td><td>0.000100362                                   </td><td>0.000000000                                   </td><td>0.000000000                                   </td></tr>\n",
       "\t<tr><td>X512_Group1C_142dpi_RV_top_162_G_A2_P136.mzXML</td><td>512                                           </td><td>naive                                         </td><td>142dpi                                        </td><td>RV_top                                        </td><td>A2                                            </td><td>P136                                          </td><td>0.02540288                                    </td><td>0.030534463                                   </td><td>0.000454363                                   </td><td>0.001898197                                   </td><td>0.000330184                                   </td></tr>\n",
       "\t<tr><td>X513_Group1C_142dpi_RV_top_163_G_A3_P136.mzXML</td><td>513                                           </td><td>naive                                         </td><td>142dpi                                        </td><td>RV_top                                        </td><td>A3                                            </td><td>P136                                          </td><td>0.03366528                                    </td><td>0.032277149                                   </td><td>0.000964191                                   </td><td>0.000102656                                   </td><td>0.000358707                                   </td></tr>\n",
       "\t<tr><td>X514_Group1C_142dpi_RV_top_164_G_A4_P136.mzXML</td><td>514                                           </td><td>naive                                         </td><td>142dpi                                        </td><td>RV_top                                        </td><td>A4                                            </td><td>P136                                          </td><td>0.01959612                                    </td><td>0.020882444                                   </td><td>0.000388447                                   </td><td>0.002484004                                   </td><td>0.000096300                                   </td></tr>\n",
       "\t<tr><td>X515_Group1C_142dpi_RV_top_165_G_A5_P136.mzXML</td><td>515                                           </td><td>naive                                         </td><td>142dpi                                        </td><td>RV_top                                        </td><td>A5                                            </td><td>P136                                          </td><td>0.05050674                                    </td><td>0.045026912                                   </td><td>0.000908792                                   </td><td>0.000529243                                   </td><td>0.000356704                                   </td></tr>\n",
       "\t<tr><td>X531_Group1C_142dpi_RV_top_166_G_A6_P136.mzXML</td><td>531                                           </td><td>naive                                         </td><td>142dpi                                        </td><td>RV_top                                        </td><td>A6                                            </td><td>P136                                          </td><td>0.01417874                                    </td><td>0.009011964                                   </td><td>0.000051900                                   </td><td>0.003505334                                   </td><td>0.001524456                                   </td></tr>\n",
       "</tbody>\n",
       "</table>\n"
      ],
      "text/latex": [
       "\\begin{tabular}{r|llllllllllll}\n",
       " filename & MouseID & Treatmentgroup & DPI & organ & well\\_position & plate & mass\\_400 & mass\\_500 & mass\\_600 & mass\\_700 & mass\\_800\\\\\n",
       "\\hline\n",
       "\t X511\\_Group1C\\_142dpi\\_RV\\_top\\_161\\_G\\_A1\\_P136.mzXML & 511                                                            & naive                                                          & 142dpi                                                         & RV\\_top                                                       & A1                                                             & P136                                                           & 0.03209193                                                     & 0.026205891                                                    & 0.000100362                                                    & 0.000000000                                                    & 0.000000000                                                   \\\\\n",
       "\t X512\\_Group1C\\_142dpi\\_RV\\_top\\_162\\_G\\_A2\\_P136.mzXML & 512                                                            & naive                                                          & 142dpi                                                         & RV\\_top                                                       & A2                                                             & P136                                                           & 0.02540288                                                     & 0.030534463                                                    & 0.000454363                                                    & 0.001898197                                                    & 0.000330184                                                   \\\\\n",
       "\t X513\\_Group1C\\_142dpi\\_RV\\_top\\_163\\_G\\_A3\\_P136.mzXML & 513                                                            & naive                                                          & 142dpi                                                         & RV\\_top                                                       & A3                                                             & P136                                                           & 0.03366528                                                     & 0.032277149                                                    & 0.000964191                                                    & 0.000102656                                                    & 0.000358707                                                   \\\\\n",
       "\t X514\\_Group1C\\_142dpi\\_RV\\_top\\_164\\_G\\_A4\\_P136.mzXML & 514                                                            & naive                                                          & 142dpi                                                         & RV\\_top                                                       & A4                                                             & P136                                                           & 0.01959612                                                     & 0.020882444                                                    & 0.000388447                                                    & 0.002484004                                                    & 0.000096300                                                   \\\\\n",
       "\t X515\\_Group1C\\_142dpi\\_RV\\_top\\_165\\_G\\_A5\\_P136.mzXML & 515                                                            & naive                                                          & 142dpi                                                         & RV\\_top                                                       & A5                                                             & P136                                                           & 0.05050674                                                     & 0.045026912                                                    & 0.000908792                                                    & 0.000529243                                                    & 0.000356704                                                   \\\\\n",
       "\t X531\\_Group1C\\_142dpi\\_RV\\_top\\_166\\_G\\_A6\\_P136.mzXML & 531                                                            & naive                                                          & 142dpi                                                         & RV\\_top                                                       & A6                                                             & P136                                                           & 0.01417874                                                     & 0.009011964                                                    & 0.000051900                                                    & 0.003505334                                                    & 0.001524456                                                   \\\\\n",
       "\\end{tabular}\n"
      ],
      "text/markdown": [
       "\n",
       "| filename | MouseID | Treatmentgroup | DPI | organ | well_position | plate | mass_400 | mass_500 | mass_600 | mass_700 | mass_800 |\n",
       "|---|---|---|---|---|---|---|---|---|---|---|---|\n",
       "| X511_Group1C_142dpi_RV_top_161_G_A1_P136.mzXML | 511                                            | naive                                          | 142dpi                                         | RV_top                                         | A1                                             | P136                                           | 0.03209193                                     | 0.026205891                                    | 0.000100362                                    | 0.000000000                                    | 0.000000000                                    |\n",
       "| X512_Group1C_142dpi_RV_top_162_G_A2_P136.mzXML | 512                                            | naive                                          | 142dpi                                         | RV_top                                         | A2                                             | P136                                           | 0.02540288                                     | 0.030534463                                    | 0.000454363                                    | 0.001898197                                    | 0.000330184                                    |\n",
       "| X513_Group1C_142dpi_RV_top_163_G_A3_P136.mzXML | 513                                            | naive                                          | 142dpi                                         | RV_top                                         | A3                                             | P136                                           | 0.03366528                                     | 0.032277149                                    | 0.000964191                                    | 0.000102656                                    | 0.000358707                                    |\n",
       "| X514_Group1C_142dpi_RV_top_164_G_A4_P136.mzXML | 514                                            | naive                                          | 142dpi                                         | RV_top                                         | A4                                             | P136                                           | 0.01959612                                     | 0.020882444                                    | 0.000388447                                    | 0.002484004                                    | 0.000096300                                    |\n",
       "| X515_Group1C_142dpi_RV_top_165_G_A5_P136.mzXML | 515                                            | naive                                          | 142dpi                                         | RV_top                                         | A5                                             | P136                                           | 0.05050674                                     | 0.045026912                                    | 0.000908792                                    | 0.000529243                                    | 0.000356704                                    |\n",
       "| X531_Group1C_142dpi_RV_top_166_G_A6_P136.mzXML | 531                                            | naive                                          | 142dpi                                         | RV_top                                         | A6                                             | P136                                           | 0.01417874                                     | 0.009011964                                    | 0.000051900                                    | 0.003505334                                    | 0.001524456                                    |\n",
       "\n"
      ],
      "text/plain": [
       "  filename                                       MouseID Treatmentgroup DPI   \n",
       "1 X511_Group1C_142dpi_RV_top_161_G_A1_P136.mzXML 511     naive          142dpi\n",
       "2 X512_Group1C_142dpi_RV_top_162_G_A2_P136.mzXML 512     naive          142dpi\n",
       "3 X513_Group1C_142dpi_RV_top_163_G_A3_P136.mzXML 513     naive          142dpi\n",
       "4 X514_Group1C_142dpi_RV_top_164_G_A4_P136.mzXML 514     naive          142dpi\n",
       "5 X515_Group1C_142dpi_RV_top_165_G_A5_P136.mzXML 515     naive          142dpi\n",
       "6 X531_Group1C_142dpi_RV_top_166_G_A6_P136.mzXML 531     naive          142dpi\n",
       "  organ  well_position plate mass_400   mass_500    mass_600    mass_700   \n",
       "1 RV_top A1            P136  0.03209193 0.026205891 0.000100362 0.000000000\n",
       "2 RV_top A2            P136  0.02540288 0.030534463 0.000454363 0.001898197\n",
       "3 RV_top A3            P136  0.03366528 0.032277149 0.000964191 0.000102656\n",
       "4 RV_top A4            P136  0.01959612 0.020882444 0.000388447 0.002484004\n",
       "5 RV_top A5            P136  0.05050674 0.045026912 0.000908792 0.000529243\n",
       "6 RV_top A6            P136  0.01417874 0.009011964 0.000051900 0.003505334\n",
       "  mass_800   \n",
       "1 0.000000000\n",
       "2 0.000330184\n",
       "3 0.000358707\n",
       "4 0.000096300\n",
       "5 0.000356704\n",
       "6 0.001524456"
      ]
     },
     "metadata": {},
     "output_type": "display_data"
    },
    {
     "data": {
      "text/html": [
       "<ol class=list-inline>\n",
       "\t<li>60</li>\n",
       "\t<li>12</li>\n",
       "</ol>\n"
      ],
      "text/latex": [
       "\\begin{enumerate*}\n",
       "\\item 60\n",
       "\\item 12\n",
       "\\end{enumerate*}\n"
      ],
      "text/markdown": [
       "1. 60\n",
       "2. 12\n",
       "\n",
       "\n"
      ],
      "text/plain": [
       "[1] 60 12"
      ]
     },
     "metadata": {},
     "output_type": "display_data"
    }
   ],
   "source": [
    "head(a)\n",
    "dim(a)"
   ]
  },
  {
   "cell_type": "code",
   "execution_count": 13,
   "metadata": {},
   "outputs": [
    {
     "data": {
      "text/html": [
       "<table>\n",
       "<thead><tr><th></th><th scope=col>filename</th><th scope=col>MouseID</th><th scope=col>Treatmentgroup</th><th scope=col>DPI</th><th scope=col>organ</th><th scope=col>well_position</th><th scope=col>plate</th><th scope=col>mass_400</th><th scope=col>mass_500</th><th scope=col>mass_600</th><th scope=col>mass_700</th><th scope=col>mass_800</th></tr></thead>\n",
       "<tbody>\n",
       "\t<tr><th scope=row>21</th><td>X611_Group9_142dpi_RV_top_181_G_B9_P136.mzXML </td><td>611                                           </td><td>combo                                         </td><td>142dpi                                        </td><td>RV_top                                        </td><td>B9                                            </td><td>P136                                          </td><td>0.01911695                                    </td><td>0.01485767                                    </td><td>0.000225908                                   </td><td>0.000000000                                   </td><td>0.000000000                                   </td></tr>\n",
       "\t<tr><th scope=row>22</th><td>X612_Group9_142dpi_RV_top_182_G_B10_P136.mzXML</td><td>612                                           </td><td>combo                                         </td><td>142dpi                                        </td><td>RV_top                                        </td><td>B10                                           </td><td>P136                                          </td><td>0.01980490                                    </td><td>0.01362408                                    </td><td>0.000062100                                   </td><td>0.000000000                                   </td><td>0.000000000                                   </td></tr>\n",
       "\t<tr><th scope=row>23</th><td>X613_Group9_142dpi_RV_top_183_G_B11_P136.mzXML</td><td>613                                           </td><td>combo                                         </td><td>142dpi                                        </td><td>RV_top                                        </td><td>B11                                           </td><td>P136                                          </td><td>0.02082919                                    </td><td>0.02106101                                    </td><td>0.000269402                                   </td><td>0.000224333                                   </td><td>0.000380998                                   </td></tr>\n",
       "\t<tr><th scope=row>24</th><td>X614_Group9_142dpi_RV_top_184_G_B12_P136.mzXML</td><td>614                                           </td><td>combo                                         </td><td>142dpi                                        </td><td>RV_top                                        </td><td>B12                                           </td><td>P136                                          </td><td>0.04126681                                    </td><td>0.03696939                                    </td><td>0.000748420                                   </td><td>0.002354155                                   </td><td>0.000709065                                   </td></tr>\n",
       "\t<tr><th scope=row>25</th><td>X615_Group9_142dpi_RV_top_185_G_C1_P136.mzXML </td><td>615                                           </td><td>combo                                         </td><td>142dpi                                        </td><td>RV_top                                        </td><td>C1                                            </td><td>P136                                          </td><td>0.02815433                                    </td><td>0.02619207                                    </td><td>0.000672882                                   </td><td>0.000066400                                   </td><td>0.000000000                                   </td></tr>\n",
       "\t<tr><th scope=row>26</th><td>X631_Group15_142dpi_RV_top_191_G_C7_P136.mzXML</td><td>631                                           </td><td>BNZ                                           </td><td>142dpi                                        </td><td>RV_top                                        </td><td>C7                                            </td><td>P136                                          </td><td>0.01813804                                    </td><td>0.01491135                                    </td><td>0.000266479                                   </td><td>0.000892296                                   </td><td>0.000540991                                   </td></tr>\n",
       "</tbody>\n",
       "</table>\n"
      ],
      "text/latex": [
       "\\begin{tabular}{r|llllllllllll}\n",
       "  & filename & MouseID & Treatmentgroup & DPI & organ & well\\_position & plate & mass\\_400 & mass\\_500 & mass\\_600 & mass\\_700 & mass\\_800\\\\\n",
       "\\hline\n",
       "\t21 & X611\\_Group9\\_142dpi\\_RV\\_top\\_181\\_G\\_B9\\_P136.mzXML  & 611                                                            & combo                                                          & 142dpi                                                         & RV\\_top                                                       & B9                                                             & P136                                                           & 0.01911695                                                     & 0.01485767                                                     & 0.000225908                                                    & 0.000000000                                                    & 0.000000000                                                   \\\\\n",
       "\t22 & X612\\_Group9\\_142dpi\\_RV\\_top\\_182\\_G\\_B10\\_P136.mzXML & 612                                                            & combo                                                          & 142dpi                                                         & RV\\_top                                                       & B10                                                            & P136                                                           & 0.01980490                                                     & 0.01362408                                                     & 0.000062100                                                    & 0.000000000                                                    & 0.000000000                                                   \\\\\n",
       "\t23 & X613\\_Group9\\_142dpi\\_RV\\_top\\_183\\_G\\_B11\\_P136.mzXML & 613                                                            & combo                                                          & 142dpi                                                         & RV\\_top                                                       & B11                                                            & P136                                                           & 0.02082919                                                     & 0.02106101                                                     & 0.000269402                                                    & 0.000224333                                                    & 0.000380998                                                   \\\\\n",
       "\t24 & X614\\_Group9\\_142dpi\\_RV\\_top\\_184\\_G\\_B12\\_P136.mzXML & 614                                                            & combo                                                          & 142dpi                                                         & RV\\_top                                                       & B12                                                            & P136                                                           & 0.04126681                                                     & 0.03696939                                                     & 0.000748420                                                    & 0.002354155                                                    & 0.000709065                                                   \\\\\n",
       "\t25 & X615\\_Group9\\_142dpi\\_RV\\_top\\_185\\_G\\_C1\\_P136.mzXML  & 615                                                            & combo                                                          & 142dpi                                                         & RV\\_top                                                       & C1                                                             & P136                                                           & 0.02815433                                                     & 0.02619207                                                     & 0.000672882                                                    & 0.000066400                                                    & 0.000000000                                                   \\\\\n",
       "\t26 & X631\\_Group15\\_142dpi\\_RV\\_top\\_191\\_G\\_C7\\_P136.mzXML & 631                                                            & BNZ                                                            & 142dpi                                                         & RV\\_top                                                       & C7                                                             & P136                                                           & 0.01813804                                                     & 0.01491135                                                     & 0.000266479                                                    & 0.000892296                                                    & 0.000540991                                                   \\\\\n",
       "\\end{tabular}\n"
      ],
      "text/markdown": [
       "\n",
       "| <!--/--> | filename | MouseID | Treatmentgroup | DPI | organ | well_position | plate | mass_400 | mass_500 | mass_600 | mass_700 | mass_800 |\n",
       "|---|---|---|---|---|---|---|---|---|---|---|---|---|\n",
       "| 21 | X611_Group9_142dpi_RV_top_181_G_B9_P136.mzXML  | 611                                            | combo                                          | 142dpi                                         | RV_top                                         | B9                                             | P136                                           | 0.01911695                                     | 0.01485767                                     | 0.000225908                                    | 0.000000000                                    | 0.000000000                                    |\n",
       "| 22 | X612_Group9_142dpi_RV_top_182_G_B10_P136.mzXML | 612                                            | combo                                          | 142dpi                                         | RV_top                                         | B10                                            | P136                                           | 0.01980490                                     | 0.01362408                                     | 0.000062100                                    | 0.000000000                                    | 0.000000000                                    |\n",
       "| 23 | X613_Group9_142dpi_RV_top_183_G_B11_P136.mzXML | 613                                            | combo                                          | 142dpi                                         | RV_top                                         | B11                                            | P136                                           | 0.02082919                                     | 0.02106101                                     | 0.000269402                                    | 0.000224333                                    | 0.000380998                                    |\n",
       "| 24 | X614_Group9_142dpi_RV_top_184_G_B12_P136.mzXML | 614                                            | combo                                          | 142dpi                                         | RV_top                                         | B12                                            | P136                                           | 0.04126681                                     | 0.03696939                                     | 0.000748420                                    | 0.002354155                                    | 0.000709065                                    |\n",
       "| 25 | X615_Group9_142dpi_RV_top_185_G_C1_P136.mzXML  | 615                                            | combo                                          | 142dpi                                         | RV_top                                         | C1                                             | P136                                           | 0.02815433                                     | 0.02619207                                     | 0.000672882                                    | 0.000066400                                    | 0.000000000                                    |\n",
       "| 26 | X631_Group15_142dpi_RV_top_191_G_C7_P136.mzXML | 631                                            | BNZ                                            | 142dpi                                         | RV_top                                         | C7                                             | P136                                           | 0.01813804                                     | 0.01491135                                     | 0.000266479                                    | 0.000892296                                    | 0.000540991                                    |\n",
       "\n"
      ],
      "text/plain": [
       "   filename                                       MouseID Treatmentgroup DPI   \n",
       "21 X611_Group9_142dpi_RV_top_181_G_B9_P136.mzXML  611     combo          142dpi\n",
       "22 X612_Group9_142dpi_RV_top_182_G_B10_P136.mzXML 612     combo          142dpi\n",
       "23 X613_Group9_142dpi_RV_top_183_G_B11_P136.mzXML 613     combo          142dpi\n",
       "24 X614_Group9_142dpi_RV_top_184_G_B12_P136.mzXML 614     combo          142dpi\n",
       "25 X615_Group9_142dpi_RV_top_185_G_C1_P136.mzXML  615     combo          142dpi\n",
       "26 X631_Group15_142dpi_RV_top_191_G_C7_P136.mzXML 631     BNZ            142dpi\n",
       "   organ  well_position plate mass_400   mass_500   mass_600    mass_700   \n",
       "21 RV_top B9            P136  0.01911695 0.01485767 0.000225908 0.000000000\n",
       "22 RV_top B10           P136  0.01980490 0.01362408 0.000062100 0.000000000\n",
       "23 RV_top B11           P136  0.02082919 0.02106101 0.000269402 0.000224333\n",
       "24 RV_top B12           P136  0.04126681 0.03696939 0.000748420 0.002354155\n",
       "25 RV_top C1            P136  0.02815433 0.02619207 0.000672882 0.000066400\n",
       "26 RV_top C7            P136  0.01813804 0.01491135 0.000266479 0.000892296\n",
       "   mass_800   \n",
       "21 0.000000000\n",
       "22 0.000000000\n",
       "23 0.000380998\n",
       "24 0.000709065\n",
       "25 0.000000000\n",
       "26 0.000540991"
      ]
     },
     "metadata": {},
     "output_type": "display_data"
    },
    {
     "data": {
      "text/html": [
       "<ol class=list-inline>\n",
       "\t<li>30</li>\n",
       "\t<li>12</li>\n",
       "</ol>\n"
      ],
      "text/latex": [
       "\\begin{enumerate*}\n",
       "\\item 30\n",
       "\\item 12\n",
       "\\end{enumerate*}\n"
      ],
      "text/markdown": [
       "1. 30\n",
       "2. 12\n",
       "\n",
       "\n"
      ],
      "text/plain": [
       "[1] 30 12"
      ]
     },
     "metadata": {},
     "output_type": "display_data"
    }
   ],
   "source": [
    "features_pos<-droplevels(subset(a, a$Treatmentgroup==c(\"combo\")|a$Treatmentgroup==c(\"BNZ\")))\n",
    "head(features_pos)\n",
    "dim(features_pos)"
   ]
  },
  {
   "cell_type": "code",
   "execution_count": 14,
   "metadata": {
    "scrolled": false
   },
   "outputs": [
    {
     "data": {
      "text/html": [
       "<table>\n",
       "<thead><tr><th></th><th scope=col>mass_400</th><th scope=col>mass_500</th><th scope=col>mass_600</th><th scope=col>mass_700</th><th scope=col>mass_800</th></tr></thead>\n",
       "<tbody>\n",
       "\t<tr><th scope=row>21</th><td>0.01911695 </td><td>0.01485767 </td><td>0.000225908</td><td>0.000000000</td><td>0.000000000</td></tr>\n",
       "\t<tr><th scope=row>22</th><td>0.01980490 </td><td>0.01362408 </td><td>0.000062100</td><td>0.000000000</td><td>0.000000000</td></tr>\n",
       "\t<tr><th scope=row>23</th><td>0.02082919 </td><td>0.02106101 </td><td>0.000269402</td><td>0.000224333</td><td>0.000380998</td></tr>\n",
       "\t<tr><th scope=row>24</th><td>0.04126681 </td><td>0.03696939 </td><td>0.000748420</td><td>0.002354155</td><td>0.000709065</td></tr>\n",
       "\t<tr><th scope=row>25</th><td>0.02815433 </td><td>0.02619207 </td><td>0.000672882</td><td>0.000066400</td><td>0.000000000</td></tr>\n",
       "\t<tr><th scope=row>26</th><td>0.01813804 </td><td>0.01491135 </td><td>0.000266479</td><td>0.000892296</td><td>0.000540991</td></tr>\n",
       "</tbody>\n",
       "</table>\n"
      ],
      "text/latex": [
       "\\begin{tabular}{r|lllll}\n",
       "  & mass\\_400 & mass\\_500 & mass\\_600 & mass\\_700 & mass\\_800\\\\\n",
       "\\hline\n",
       "\t21 & 0.01911695  & 0.01485767  & 0.000225908 & 0.000000000 & 0.000000000\\\\\n",
       "\t22 & 0.01980490  & 0.01362408  & 0.000062100 & 0.000000000 & 0.000000000\\\\\n",
       "\t23 & 0.02082919  & 0.02106101  & 0.000269402 & 0.000224333 & 0.000380998\\\\\n",
       "\t24 & 0.04126681  & 0.03696939  & 0.000748420 & 0.002354155 & 0.000709065\\\\\n",
       "\t25 & 0.02815433  & 0.02619207  & 0.000672882 & 0.000066400 & 0.000000000\\\\\n",
       "\t26 & 0.01813804  & 0.01491135  & 0.000266479 & 0.000892296 & 0.000540991\\\\\n",
       "\\end{tabular}\n"
      ],
      "text/markdown": [
       "\n",
       "| <!--/--> | mass_400 | mass_500 | mass_600 | mass_700 | mass_800 |\n",
       "|---|---|---|---|---|---|\n",
       "| 21 | 0.01911695  | 0.01485767  | 0.000225908 | 0.000000000 | 0.000000000 |\n",
       "| 22 | 0.01980490  | 0.01362408  | 0.000062100 | 0.000000000 | 0.000000000 |\n",
       "| 23 | 0.02082919  | 0.02106101  | 0.000269402 | 0.000224333 | 0.000380998 |\n",
       "| 24 | 0.04126681  | 0.03696939  | 0.000748420 | 0.002354155 | 0.000709065 |\n",
       "| 25 | 0.02815433  | 0.02619207  | 0.000672882 | 0.000066400 | 0.000000000 |\n",
       "| 26 | 0.01813804  | 0.01491135  | 0.000266479 | 0.000892296 | 0.000540991 |\n",
       "\n"
      ],
      "text/plain": [
       "   mass_400   mass_500   mass_600    mass_700    mass_800   \n",
       "21 0.01911695 0.01485767 0.000225908 0.000000000 0.000000000\n",
       "22 0.01980490 0.01362408 0.000062100 0.000000000 0.000000000\n",
       "23 0.02082919 0.02106101 0.000269402 0.000224333 0.000380998\n",
       "24 0.04126681 0.03696939 0.000748420 0.002354155 0.000709065\n",
       "25 0.02815433 0.02619207 0.000672882 0.000066400 0.000000000\n",
       "26 0.01813804 0.01491135 0.000266479 0.000892296 0.000540991"
      ]
     },
     "metadata": {},
     "output_type": "display_data"
    },
    {
     "data": {
      "text/html": [
       "<dl class=dl-horizontal>\n",
       "\t<dt>mass_400</dt>\n",
       "\t\t<dd>1</dd>\n",
       "\t<dt>mass_500</dt>\n",
       "\t\t<dd>2</dd>\n",
       "\t<dt>mass_600</dt>\n",
       "\t\t<dd>3</dd>\n",
       "\t<dt>mass_700</dt>\n",
       "\t\t<dd>4</dd>\n",
       "\t<dt>mass_800</dt>\n",
       "\t\t<dd>5</dd>\n",
       "</dl>\n"
      ],
      "text/latex": [
       "\\begin{description*}\n",
       "\\item[mass\\textbackslash{}\\_400] 1\n",
       "\\item[mass\\textbackslash{}\\_500] 2\n",
       "\\item[mass\\textbackslash{}\\_600] 3\n",
       "\\item[mass\\textbackslash{}\\_700] 4\n",
       "\\item[mass\\textbackslash{}\\_800] 5\n",
       "\\end{description*}\n"
      ],
      "text/markdown": [
       "mass_400\n",
       ":   1mass_500\n",
       ":   2mass_600\n",
       ":   3mass_700\n",
       ":   4mass_800\n",
       ":   5\n",
       "\n"
      ],
      "text/plain": [
       "mass_400 mass_500 mass_600 mass_700 mass_800 \n",
       "       1        2        3        4        5 "
      ]
     },
     "metadata": {},
     "output_type": "display_data"
    },
    {
     "data": {
      "text/html": [
       "<table>\n",
       "<thead><tr><th></th><th scope=col>mass_400</th><th scope=col>mass_500</th><th scope=col>mass_600</th><th scope=col>mass_700</th><th scope=col>mass_800</th></tr></thead>\n",
       "<tbody>\n",
       "\t<tr><th scope=row>21</th><td>0.01911695 </td><td>0.014857672</td><td>0.000225908</td><td>0.000000000</td><td>0.000000000</td></tr>\n",
       "\t<tr><th scope=row>22</th><td>0.01980490 </td><td>0.013624078</td><td>0.000062100</td><td>0.000000000</td><td>0.000000000</td></tr>\n",
       "\t<tr><th scope=row>23</th><td>0.02082919 </td><td>0.021061013</td><td>0.000269402</td><td>0.000224333</td><td>0.000380998</td></tr>\n",
       "\t<tr><th scope=row>24</th><td>0.04126681 </td><td>0.036969392</td><td>0.000748420</td><td>0.002354155</td><td>0.000709065</td></tr>\n",
       "\t<tr><th scope=row>25</th><td>0.02815433 </td><td>0.026192065</td><td>0.000672882</td><td>0.000066400</td><td>0.000000000</td></tr>\n",
       "\t<tr><th scope=row>26</th><td>0.01813804 </td><td>0.014911351</td><td>0.000266479</td><td>0.000892296</td><td>0.000540991</td></tr>\n",
       "\t<tr><th scope=row>27</th><td>0.01249283 </td><td>0.008998047</td><td>0.000044900</td><td>0.000000000</td><td>0.000000000</td></tr>\n",
       "\t<tr><th scope=row>28</th><td>0.01240669 </td><td>0.009178553</td><td>0.000069200</td><td>0.002474594</td><td>0.000565533</td></tr>\n",
       "\t<tr><th scope=row>29</th><td>0.01513654 </td><td>0.014528310</td><td>0.000398556</td><td>0.000356715</td><td>0.000101230</td></tr>\n",
       "\t<tr><th scope=row>30</th><td>0.01895958 </td><td>0.013924097</td><td>0.000128443</td><td>0.000000000</td><td>0.000000000</td></tr>\n",
       "\t<tr><th scope=row>36</th><td>0.02054337 </td><td>0.017100891</td><td>0.000216527</td><td>0.000514048</td><td>0.000588570</td></tr>\n",
       "\t<tr><th scope=row>37</th><td>0.01547568 </td><td>0.015357306</td><td>0.000230187</td><td>0.000000000</td><td>0.000000000</td></tr>\n",
       "\t<tr><th scope=row>38</th><td>0.01637600 </td><td>0.011817208</td><td>0.000182800</td><td>0.000000000</td><td>0.000000000</td></tr>\n",
       "\t<tr><th scope=row>39</th><td>0.02661969 </td><td>0.023592709</td><td>0.000492397</td><td>0.001057060</td><td>0.001039397</td></tr>\n",
       "\t<tr><th scope=row>40</th><td>0.01817152 </td><td>0.011984734</td><td>0.000000000</td><td>0.000116150</td><td>0.000000000</td></tr>\n",
       "\t<tr><th scope=row>41</th><td>0.02117526 </td><td>0.023907936</td><td>0.000000000</td><td>0.000000000</td><td>0.000000000</td></tr>\n",
       "\t<tr><th scope=row>42</th><td>0.01675281 </td><td>0.015668638</td><td>0.000239840</td><td>0.000560671</td><td>0.000365202</td></tr>\n",
       "\t<tr><th scope=row>43</th><td>0.01313606 </td><td>0.014275026</td><td>0.000195078</td><td>0.000043200</td><td>0.000000000</td></tr>\n",
       "\t<tr><th scope=row>44</th><td>0.01804132 </td><td>0.020564314</td><td>0.000287903</td><td>0.001035579</td><td>0.000661472</td></tr>\n",
       "\t<tr><th scope=row>45</th><td>0.03363475 </td><td>0.033699527</td><td>0.000619968</td><td>0.002419877</td><td>0.000943952</td></tr>\n",
       "\t<tr><th scope=row>51</th><td>0.01635885 </td><td>0.013551280</td><td>0.000095700</td><td>0.000048300</td><td>0.000000000</td></tr>\n",
       "\t<tr><th scope=row>52</th><td>0.01786926 </td><td>0.018779125</td><td>0.000221362</td><td>0.000548581</td><td>0.000788571</td></tr>\n",
       "\t<tr><th scope=row>53</th><td>0.02858034 </td><td>0.029898277</td><td>0.000849274</td><td>0.007649603</td><td>0.003523994</td></tr>\n",
       "\t<tr><th scope=row>54</th><td>0.02493104 </td><td>0.024486902</td><td>0.000371469</td><td>0.000871385</td><td>0.000491451</td></tr>\n",
       "\t<tr><th scope=row>55</th><td>0.03544811 </td><td>0.028373226</td><td>0.000606084</td><td>0.005327496</td><td>0.004334811</td></tr>\n",
       "\t<tr><th scope=row>56</th><td>0.01494651 </td><td>0.016214088</td><td>0.000455748</td><td>0.001809214</td><td>0.002247102</td></tr>\n",
       "\t<tr><th scope=row>57</th><td>0.01554221 </td><td>0.015814358</td><td>0.000231976</td><td>0.000398477</td><td>0.000569978</td></tr>\n",
       "\t<tr><th scope=row>58</th><td>0.02377129 </td><td>0.024346738</td><td>0.000358736</td><td>0.001392009</td><td>0.000955383</td></tr>\n",
       "\t<tr><th scope=row>59</th><td>0.03419159 </td><td>0.030175431</td><td>0.000337809</td><td>0.000000000</td><td>0.000000000</td></tr>\n",
       "\t<tr><th scope=row>60</th><td>0.03474923 </td><td>0.038967796</td><td>0.000684550</td><td>0.002440380</td><td>0.001087114</td></tr>\n",
       "</tbody>\n",
       "</table>\n"
      ],
      "text/latex": [
       "\\begin{tabular}{r|lllll}\n",
       "  & mass\\_400 & mass\\_500 & mass\\_600 & mass\\_700 & mass\\_800\\\\\n",
       "\\hline\n",
       "\t21 & 0.01911695  & 0.014857672 & 0.000225908 & 0.000000000 & 0.000000000\\\\\n",
       "\t22 & 0.01980490  & 0.013624078 & 0.000062100 & 0.000000000 & 0.000000000\\\\\n",
       "\t23 & 0.02082919  & 0.021061013 & 0.000269402 & 0.000224333 & 0.000380998\\\\\n",
       "\t24 & 0.04126681  & 0.036969392 & 0.000748420 & 0.002354155 & 0.000709065\\\\\n",
       "\t25 & 0.02815433  & 0.026192065 & 0.000672882 & 0.000066400 & 0.000000000\\\\\n",
       "\t26 & 0.01813804  & 0.014911351 & 0.000266479 & 0.000892296 & 0.000540991\\\\\n",
       "\t27 & 0.01249283  & 0.008998047 & 0.000044900 & 0.000000000 & 0.000000000\\\\\n",
       "\t28 & 0.01240669  & 0.009178553 & 0.000069200 & 0.002474594 & 0.000565533\\\\\n",
       "\t29 & 0.01513654  & 0.014528310 & 0.000398556 & 0.000356715 & 0.000101230\\\\\n",
       "\t30 & 0.01895958  & 0.013924097 & 0.000128443 & 0.000000000 & 0.000000000\\\\\n",
       "\t36 & 0.02054337  & 0.017100891 & 0.000216527 & 0.000514048 & 0.000588570\\\\\n",
       "\t37 & 0.01547568  & 0.015357306 & 0.000230187 & 0.000000000 & 0.000000000\\\\\n",
       "\t38 & 0.01637600  & 0.011817208 & 0.000182800 & 0.000000000 & 0.000000000\\\\\n",
       "\t39 & 0.02661969  & 0.023592709 & 0.000492397 & 0.001057060 & 0.001039397\\\\\n",
       "\t40 & 0.01817152  & 0.011984734 & 0.000000000 & 0.000116150 & 0.000000000\\\\\n",
       "\t41 & 0.02117526  & 0.023907936 & 0.000000000 & 0.000000000 & 0.000000000\\\\\n",
       "\t42 & 0.01675281  & 0.015668638 & 0.000239840 & 0.000560671 & 0.000365202\\\\\n",
       "\t43 & 0.01313606  & 0.014275026 & 0.000195078 & 0.000043200 & 0.000000000\\\\\n",
       "\t44 & 0.01804132  & 0.020564314 & 0.000287903 & 0.001035579 & 0.000661472\\\\\n",
       "\t45 & 0.03363475  & 0.033699527 & 0.000619968 & 0.002419877 & 0.000943952\\\\\n",
       "\t51 & 0.01635885  & 0.013551280 & 0.000095700 & 0.000048300 & 0.000000000\\\\\n",
       "\t52 & 0.01786926  & 0.018779125 & 0.000221362 & 0.000548581 & 0.000788571\\\\\n",
       "\t53 & 0.02858034  & 0.029898277 & 0.000849274 & 0.007649603 & 0.003523994\\\\\n",
       "\t54 & 0.02493104  & 0.024486902 & 0.000371469 & 0.000871385 & 0.000491451\\\\\n",
       "\t55 & 0.03544811  & 0.028373226 & 0.000606084 & 0.005327496 & 0.004334811\\\\\n",
       "\t56 & 0.01494651  & 0.016214088 & 0.000455748 & 0.001809214 & 0.002247102\\\\\n",
       "\t57 & 0.01554221  & 0.015814358 & 0.000231976 & 0.000398477 & 0.000569978\\\\\n",
       "\t58 & 0.02377129  & 0.024346738 & 0.000358736 & 0.001392009 & 0.000955383\\\\\n",
       "\t59 & 0.03419159  & 0.030175431 & 0.000337809 & 0.000000000 & 0.000000000\\\\\n",
       "\t60 & 0.03474923  & 0.038967796 & 0.000684550 & 0.002440380 & 0.001087114\\\\\n",
       "\\end{tabular}\n"
      ],
      "text/markdown": [
       "\n",
       "| <!--/--> | mass_400 | mass_500 | mass_600 | mass_700 | mass_800 |\n",
       "|---|---|---|---|---|---|\n",
       "| 21 | 0.01911695  | 0.014857672 | 0.000225908 | 0.000000000 | 0.000000000 |\n",
       "| 22 | 0.01980490  | 0.013624078 | 0.000062100 | 0.000000000 | 0.000000000 |\n",
       "| 23 | 0.02082919  | 0.021061013 | 0.000269402 | 0.000224333 | 0.000380998 |\n",
       "| 24 | 0.04126681  | 0.036969392 | 0.000748420 | 0.002354155 | 0.000709065 |\n",
       "| 25 | 0.02815433  | 0.026192065 | 0.000672882 | 0.000066400 | 0.000000000 |\n",
       "| 26 | 0.01813804  | 0.014911351 | 0.000266479 | 0.000892296 | 0.000540991 |\n",
       "| 27 | 0.01249283  | 0.008998047 | 0.000044900 | 0.000000000 | 0.000000000 |\n",
       "| 28 | 0.01240669  | 0.009178553 | 0.000069200 | 0.002474594 | 0.000565533 |\n",
       "| 29 | 0.01513654  | 0.014528310 | 0.000398556 | 0.000356715 | 0.000101230 |\n",
       "| 30 | 0.01895958  | 0.013924097 | 0.000128443 | 0.000000000 | 0.000000000 |\n",
       "| 36 | 0.02054337  | 0.017100891 | 0.000216527 | 0.000514048 | 0.000588570 |\n",
       "| 37 | 0.01547568  | 0.015357306 | 0.000230187 | 0.000000000 | 0.000000000 |\n",
       "| 38 | 0.01637600  | 0.011817208 | 0.000182800 | 0.000000000 | 0.000000000 |\n",
       "| 39 | 0.02661969  | 0.023592709 | 0.000492397 | 0.001057060 | 0.001039397 |\n",
       "| 40 | 0.01817152  | 0.011984734 | 0.000000000 | 0.000116150 | 0.000000000 |\n",
       "| 41 | 0.02117526  | 0.023907936 | 0.000000000 | 0.000000000 | 0.000000000 |\n",
       "| 42 | 0.01675281  | 0.015668638 | 0.000239840 | 0.000560671 | 0.000365202 |\n",
       "| 43 | 0.01313606  | 0.014275026 | 0.000195078 | 0.000043200 | 0.000000000 |\n",
       "| 44 | 0.01804132  | 0.020564314 | 0.000287903 | 0.001035579 | 0.000661472 |\n",
       "| 45 | 0.03363475  | 0.033699527 | 0.000619968 | 0.002419877 | 0.000943952 |\n",
       "| 51 | 0.01635885  | 0.013551280 | 0.000095700 | 0.000048300 | 0.000000000 |\n",
       "| 52 | 0.01786926  | 0.018779125 | 0.000221362 | 0.000548581 | 0.000788571 |\n",
       "| 53 | 0.02858034  | 0.029898277 | 0.000849274 | 0.007649603 | 0.003523994 |\n",
       "| 54 | 0.02493104  | 0.024486902 | 0.000371469 | 0.000871385 | 0.000491451 |\n",
       "| 55 | 0.03544811  | 0.028373226 | 0.000606084 | 0.005327496 | 0.004334811 |\n",
       "| 56 | 0.01494651  | 0.016214088 | 0.000455748 | 0.001809214 | 0.002247102 |\n",
       "| 57 | 0.01554221  | 0.015814358 | 0.000231976 | 0.000398477 | 0.000569978 |\n",
       "| 58 | 0.02377129  | 0.024346738 | 0.000358736 | 0.001392009 | 0.000955383 |\n",
       "| 59 | 0.03419159  | 0.030175431 | 0.000337809 | 0.000000000 | 0.000000000 |\n",
       "| 60 | 0.03474923  | 0.038967796 | 0.000684550 | 0.002440380 | 0.001087114 |\n",
       "\n"
      ],
      "text/plain": [
       "   mass_400   mass_500    mass_600    mass_700    mass_800   \n",
       "21 0.01911695 0.014857672 0.000225908 0.000000000 0.000000000\n",
       "22 0.01980490 0.013624078 0.000062100 0.000000000 0.000000000\n",
       "23 0.02082919 0.021061013 0.000269402 0.000224333 0.000380998\n",
       "24 0.04126681 0.036969392 0.000748420 0.002354155 0.000709065\n",
       "25 0.02815433 0.026192065 0.000672882 0.000066400 0.000000000\n",
       "26 0.01813804 0.014911351 0.000266479 0.000892296 0.000540991\n",
       "27 0.01249283 0.008998047 0.000044900 0.000000000 0.000000000\n",
       "28 0.01240669 0.009178553 0.000069200 0.002474594 0.000565533\n",
       "29 0.01513654 0.014528310 0.000398556 0.000356715 0.000101230\n",
       "30 0.01895958 0.013924097 0.000128443 0.000000000 0.000000000\n",
       "36 0.02054337 0.017100891 0.000216527 0.000514048 0.000588570\n",
       "37 0.01547568 0.015357306 0.000230187 0.000000000 0.000000000\n",
       "38 0.01637600 0.011817208 0.000182800 0.000000000 0.000000000\n",
       "39 0.02661969 0.023592709 0.000492397 0.001057060 0.001039397\n",
       "40 0.01817152 0.011984734 0.000000000 0.000116150 0.000000000\n",
       "41 0.02117526 0.023907936 0.000000000 0.000000000 0.000000000\n",
       "42 0.01675281 0.015668638 0.000239840 0.000560671 0.000365202\n",
       "43 0.01313606 0.014275026 0.000195078 0.000043200 0.000000000\n",
       "44 0.01804132 0.020564314 0.000287903 0.001035579 0.000661472\n",
       "45 0.03363475 0.033699527 0.000619968 0.002419877 0.000943952\n",
       "51 0.01635885 0.013551280 0.000095700 0.000048300 0.000000000\n",
       "52 0.01786926 0.018779125 0.000221362 0.000548581 0.000788571\n",
       "53 0.02858034 0.029898277 0.000849274 0.007649603 0.003523994\n",
       "54 0.02493104 0.024486902 0.000371469 0.000871385 0.000491451\n",
       "55 0.03544811 0.028373226 0.000606084 0.005327496 0.004334811\n",
       "56 0.01494651 0.016214088 0.000455748 0.001809214 0.002247102\n",
       "57 0.01554221 0.015814358 0.000231976 0.000398477 0.000569978\n",
       "58 0.02377129 0.024346738 0.000358736 0.001392009 0.000955383\n",
       "59 0.03419159 0.030175431 0.000337809 0.000000000 0.000000000\n",
       "60 0.03474923 0.038967796 0.000684550 0.002440380 0.001087114"
      ]
     },
     "metadata": {},
     "output_type": "display_data"
    },
    {
     "data": {
      "text/html": [
       "<table>\n",
       "<thead><tr><th></th><th scope=col>filename</th><th scope=col>MouseID</th><th scope=col>Treatmentgroup</th><th scope=col>DPI</th><th scope=col>organ</th><th scope=col>well_position</th><th scope=col>plate</th><th scope=col>mass_400</th><th scope=col>mass_500</th><th scope=col>mass_600</th><th scope=col>mass_700</th><th scope=col>mass_800</th></tr></thead>\n",
       "<tbody>\n",
       "\t<tr><th scope=row>21</th><td>X611_Group9_142dpi_RV_top_181_G_B9_P136.mzXML </td><td>611                                           </td><td>combo                                         </td><td>142dpi                                        </td><td>RV_top                                        </td><td>B9                                            </td><td>P136                                          </td><td>0.01911695                                    </td><td>0.01485767                                    </td><td>0.000225908                                   </td><td>0.000000000                                   </td><td>0.000000000                                   </td></tr>\n",
       "\t<tr><th scope=row>22</th><td>X612_Group9_142dpi_RV_top_182_G_B10_P136.mzXML</td><td>612                                           </td><td>combo                                         </td><td>142dpi                                        </td><td>RV_top                                        </td><td>B10                                           </td><td>P136                                          </td><td>0.01980490                                    </td><td>0.01362408                                    </td><td>0.000062100                                   </td><td>0.000000000                                   </td><td>0.000000000                                   </td></tr>\n",
       "\t<tr><th scope=row>23</th><td>X613_Group9_142dpi_RV_top_183_G_B11_P136.mzXML</td><td>613                                           </td><td>combo                                         </td><td>142dpi                                        </td><td>RV_top                                        </td><td>B11                                           </td><td>P136                                          </td><td>0.02082919                                    </td><td>0.02106101                                    </td><td>0.000269402                                   </td><td>0.000224333                                   </td><td>0.000380998                                   </td></tr>\n",
       "\t<tr><th scope=row>24</th><td>X614_Group9_142dpi_RV_top_184_G_B12_P136.mzXML</td><td>614                                           </td><td>combo                                         </td><td>142dpi                                        </td><td>RV_top                                        </td><td>B12                                           </td><td>P136                                          </td><td>0.04126681                                    </td><td>0.03696939                                    </td><td>0.000748420                                   </td><td>0.002354155                                   </td><td>0.000709065                                   </td></tr>\n",
       "\t<tr><th scope=row>25</th><td>X615_Group9_142dpi_RV_top_185_G_C1_P136.mzXML </td><td>615                                           </td><td>combo                                         </td><td>142dpi                                        </td><td>RV_top                                        </td><td>C1                                            </td><td>P136                                          </td><td>0.02815433                                    </td><td>0.02619207                                    </td><td>0.000672882                                   </td><td>0.000066400                                   </td><td>0.000000000                                   </td></tr>\n",
       "\t<tr><th scope=row>26</th><td>X631_Group15_142dpi_RV_top_191_G_C7_P136.mzXML</td><td>631                                           </td><td>BNZ                                           </td><td>142dpi                                        </td><td>RV_top                                        </td><td>C7                                            </td><td>P136                                          </td><td>0.01813804                                    </td><td>0.01491135                                    </td><td>0.000266479                                   </td><td>0.000892296                                   </td><td>0.000540991                                   </td></tr>\n",
       "</tbody>\n",
       "</table>\n"
      ],
      "text/latex": [
       "\\begin{tabular}{r|llllllllllll}\n",
       "  & filename & MouseID & Treatmentgroup & DPI & organ & well\\_position & plate & mass\\_400 & mass\\_500 & mass\\_600 & mass\\_700 & mass\\_800\\\\\n",
       "\\hline\n",
       "\t21 & X611\\_Group9\\_142dpi\\_RV\\_top\\_181\\_G\\_B9\\_P136.mzXML  & 611                                                            & combo                                                          & 142dpi                                                         & RV\\_top                                                       & B9                                                             & P136                                                           & 0.01911695                                                     & 0.01485767                                                     & 0.000225908                                                    & 0.000000000                                                    & 0.000000000                                                   \\\\\n",
       "\t22 & X612\\_Group9\\_142dpi\\_RV\\_top\\_182\\_G\\_B10\\_P136.mzXML & 612                                                            & combo                                                          & 142dpi                                                         & RV\\_top                                                       & B10                                                            & P136                                                           & 0.01980490                                                     & 0.01362408                                                     & 0.000062100                                                    & 0.000000000                                                    & 0.000000000                                                   \\\\\n",
       "\t23 & X613\\_Group9\\_142dpi\\_RV\\_top\\_183\\_G\\_B11\\_P136.mzXML & 613                                                            & combo                                                          & 142dpi                                                         & RV\\_top                                                       & B11                                                            & P136                                                           & 0.02082919                                                     & 0.02106101                                                     & 0.000269402                                                    & 0.000224333                                                    & 0.000380998                                                   \\\\\n",
       "\t24 & X614\\_Group9\\_142dpi\\_RV\\_top\\_184\\_G\\_B12\\_P136.mzXML & 614                                                            & combo                                                          & 142dpi                                                         & RV\\_top                                                       & B12                                                            & P136                                                           & 0.04126681                                                     & 0.03696939                                                     & 0.000748420                                                    & 0.002354155                                                    & 0.000709065                                                   \\\\\n",
       "\t25 & X615\\_Group9\\_142dpi\\_RV\\_top\\_185\\_G\\_C1\\_P136.mzXML  & 615                                                            & combo                                                          & 142dpi                                                         & RV\\_top                                                       & C1                                                             & P136                                                           & 0.02815433                                                     & 0.02619207                                                     & 0.000672882                                                    & 0.000066400                                                    & 0.000000000                                                   \\\\\n",
       "\t26 & X631\\_Group15\\_142dpi\\_RV\\_top\\_191\\_G\\_C7\\_P136.mzXML & 631                                                            & BNZ                                                            & 142dpi                                                         & RV\\_top                                                       & C7                                                             & P136                                                           & 0.01813804                                                     & 0.01491135                                                     & 0.000266479                                                    & 0.000892296                                                    & 0.000540991                                                   \\\\\n",
       "\\end{tabular}\n"
      ],
      "text/markdown": [
       "\n",
       "| <!--/--> | filename | MouseID | Treatmentgroup | DPI | organ | well_position | plate | mass_400 | mass_500 | mass_600 | mass_700 | mass_800 |\n",
       "|---|---|---|---|---|---|---|---|---|---|---|---|---|\n",
       "| 21 | X611_Group9_142dpi_RV_top_181_G_B9_P136.mzXML  | 611                                            | combo                                          | 142dpi                                         | RV_top                                         | B9                                             | P136                                           | 0.01911695                                     | 0.01485767                                     | 0.000225908                                    | 0.000000000                                    | 0.000000000                                    |\n",
       "| 22 | X612_Group9_142dpi_RV_top_182_G_B10_P136.mzXML | 612                                            | combo                                          | 142dpi                                         | RV_top                                         | B10                                            | P136                                           | 0.01980490                                     | 0.01362408                                     | 0.000062100                                    | 0.000000000                                    | 0.000000000                                    |\n",
       "| 23 | X613_Group9_142dpi_RV_top_183_G_B11_P136.mzXML | 613                                            | combo                                          | 142dpi                                         | RV_top                                         | B11                                            | P136                                           | 0.02082919                                     | 0.02106101                                     | 0.000269402                                    | 0.000224333                                    | 0.000380998                                    |\n",
       "| 24 | X614_Group9_142dpi_RV_top_184_G_B12_P136.mzXML | 614                                            | combo                                          | 142dpi                                         | RV_top                                         | B12                                            | P136                                           | 0.04126681                                     | 0.03696939                                     | 0.000748420                                    | 0.002354155                                    | 0.000709065                                    |\n",
       "| 25 | X615_Group9_142dpi_RV_top_185_G_C1_P136.mzXML  | 615                                            | combo                                          | 142dpi                                         | RV_top                                         | C1                                             | P136                                           | 0.02815433                                     | 0.02619207                                     | 0.000672882                                    | 0.000066400                                    | 0.000000000                                    |\n",
       "| 26 | X631_Group15_142dpi_RV_top_191_G_C7_P136.mzXML | 631                                            | BNZ                                            | 142dpi                                         | RV_top                                         | C7                                             | P136                                           | 0.01813804                                     | 0.01491135                                     | 0.000266479                                    | 0.000892296                                    | 0.000540991                                    |\n",
       "\n"
      ],
      "text/plain": [
       "   filename                                       MouseID Treatmentgroup DPI   \n",
       "21 X611_Group9_142dpi_RV_top_181_G_B9_P136.mzXML  611     combo          142dpi\n",
       "22 X612_Group9_142dpi_RV_top_182_G_B10_P136.mzXML 612     combo          142dpi\n",
       "23 X613_Group9_142dpi_RV_top_183_G_B11_P136.mzXML 613     combo          142dpi\n",
       "24 X614_Group9_142dpi_RV_top_184_G_B12_P136.mzXML 614     combo          142dpi\n",
       "25 X615_Group9_142dpi_RV_top_185_G_C1_P136.mzXML  615     combo          142dpi\n",
       "26 X631_Group15_142dpi_RV_top_191_G_C7_P136.mzXML 631     BNZ            142dpi\n",
       "   organ  well_position plate mass_400   mass_500   mass_600    mass_700   \n",
       "21 RV_top B9            P136  0.01911695 0.01485767 0.000225908 0.000000000\n",
       "22 RV_top B10           P136  0.01980490 0.01362408 0.000062100 0.000000000\n",
       "23 RV_top B11           P136  0.02082919 0.02106101 0.000269402 0.000224333\n",
       "24 RV_top B12           P136  0.04126681 0.03696939 0.000748420 0.002354155\n",
       "25 RV_top C1            P136  0.02815433 0.02619207 0.000672882 0.000066400\n",
       "26 RV_top C7            P136  0.01813804 0.01491135 0.000266479 0.000892296\n",
       "   mass_800   \n",
       "21 0.000000000\n",
       "22 0.000000000\n",
       "23 0.000380998\n",
       "24 0.000709065\n",
       "25 0.000000000\n",
       "26 0.000540991"
      ]
     },
     "metadata": {},
     "output_type": "display_data"
    },
    {
     "data": {
      "text/html": [
       "<ol class=list-inline>\n",
       "\t<li>30</li>\n",
       "\t<li>12</li>\n",
       "</ol>\n"
      ],
      "text/latex": [
       "\\begin{enumerate*}\n",
       "\\item 30\n",
       "\\item 12\n",
       "\\end{enumerate*}\n"
      ],
      "text/markdown": [
       "1. 30\n",
       "2. 12\n",
       "\n",
       "\n"
      ],
      "text/plain": [
       "[1] 30 12"
      ]
     },
     "metadata": {},
     "output_type": "display_data"
    },
    {
     "data": {
      "text/html": [
       "<ol class=list-inline>\n",
       "\t<li>30</li>\n",
       "\t<li>5</li>\n",
       "</ol>\n"
      ],
      "text/latex": [
       "\\begin{enumerate*}\n",
       "\\item 30\n",
       "\\item 5\n",
       "\\end{enumerate*}\n"
      ],
      "text/markdown": [
       "1. 30\n",
       "2. 5\n",
       "\n",
       "\n"
      ],
      "text/plain": [
       "[1] 30  5"
      ]
     },
     "metadata": {},
     "output_type": "display_data"
    },
    {
     "data": {
      "text/html": [
       "<ol class=list-inline>\n",
       "\t<li>30</li>\n",
       "\t<li>5</li>\n",
       "</ol>\n"
      ],
      "text/latex": [
       "\\begin{enumerate*}\n",
       "\\item 30\n",
       "\\item 5\n",
       "\\end{enumerate*}\n"
      ],
      "text/markdown": [
       "1. 30\n",
       "2. 5\n",
       "\n",
       "\n"
      ],
      "text/plain": [
       "[1] 30  5"
      ]
     },
     "metadata": {},
     "output_type": "display_data"
    },
    {
     "data": {
      "text/html": [
       "<ol class=list-inline>\n",
       "\t<li>30</li>\n",
       "\t<li>12</li>\n",
       "</ol>\n"
      ],
      "text/latex": [
       "\\begin{enumerate*}\n",
       "\\item 30\n",
       "\\item 12\n",
       "\\end{enumerate*}\n"
      ],
      "text/markdown": [
       "1. 30\n",
       "2. 12\n",
       "\n",
       "\n"
      ],
      "text/plain": [
       "[1] 30 12"
      ]
     },
     "metadata": {},
     "output_type": "display_data"
    }
   ],
   "source": [
    "noMeta<-features_pos[,8:12]\n",
    "head(noMeta)\n",
    "not_zero<-which(colSums(noMeta) != 0)\n",
    "head(not_zero)\n",
    "nonzero <- noMeta[, not_zero]\n",
    "nonzero\n",
    "nonzero_wMeta<-cbind(features_pos[,1:7], nonzero)\n",
    "head(nonzero_wMeta)\n",
    "dim(features_pos)\n",
    "dim(noMeta)\n",
    "dim(nonzero)\n",
    "dim(nonzero_wMeta)"
   ]
  },
  {
   "cell_type": "code",
   "execution_count": 15,
   "metadata": {
    "scrolled": true
   },
   "outputs": [
    {
     "name": "stderr",
     "output_type": "stream",
     "text": [
      "Warning message in wilcox.test.default(x = c(0.000266479, 4.49e-05, 6.92e-05, 0.000398556, :\n",
      "\"cannot compute exact p-value with ties\"Warning message in wilcox.test.default(x = c(0.000892296, 0, 0.002474594, 0.000356715, :\n",
      "\"cannot compute exact p-value with ties\"Warning message in wilcox.test.default(x = c(0.000540991, 0, 0.000565533, 0.00010123, :\n",
      "\"cannot compute exact p-value with ties\""
     ]
    },
    {
     "data": {
      "text/html": [
       "<ol class=list-inline>\n",
       "\t<li>0.115978749531323</li>\n",
       "\t<li>0.80633377841523</li>\n",
       "\t<li>0.819525935644792</li>\n",
       "\t<li>0.675427027328027</li>\n",
       "\t<li>0.813624608753143</li>\n",
       "</ol>\n"
      ],
      "text/latex": [
       "\\begin{enumerate*}\n",
       "\\item 0.115978749531323\n",
       "\\item 0.80633377841523\n",
       "\\item 0.819525935644792\n",
       "\\item 0.675427027328027\n",
       "\\item 0.813624608753143\n",
       "\\end{enumerate*}\n"
      ],
      "text/markdown": [
       "1. 0.115978749531323\n",
       "2. 0.80633377841523\n",
       "3. 0.819525935644792\n",
       "4. 0.675427027328027\n",
       "5. 0.813624608753143\n",
       "\n",
       "\n"
      ],
      "text/plain": [
       "[1] 0.1159787 0.8063338 0.8195259 0.6754270 0.8136246"
      ]
     },
     "metadata": {},
     "output_type": "display_data"
    },
    {
     "data": {
      "text/html": [
       "<ol class=list-inline>\n",
       "\t<li>0.579893747656615</li>\n",
       "\t<li>0.819525935644792</li>\n",
       "\t<li>0.819525935644792</li>\n",
       "\t<li>0.819525935644792</li>\n",
       "\t<li>0.819525935644792</li>\n",
       "</ol>\n"
      ],
      "text/latex": [
       "\\begin{enumerate*}\n",
       "\\item 0.579893747656615\n",
       "\\item 0.819525935644792\n",
       "\\item 0.819525935644792\n",
       "\\item 0.819525935644792\n",
       "\\item 0.819525935644792\n",
       "\\end{enumerate*}\n"
      ],
      "text/markdown": [
       "1. 0.579893747656615\n",
       "2. 0.819525935644792\n",
       "3. 0.819525935644792\n",
       "4. 0.819525935644792\n",
       "5. 0.819525935644792\n",
       "\n",
       "\n"
      ],
      "text/plain": [
       "[1] 0.5798937 0.8195259 0.8195259 0.8195259 0.8195259"
      ]
     },
     "metadata": {},
     "output_type": "display_data"
    }
   ],
   "source": [
    "pval<-c()\n",
    "\n",
    "for (i in 8:ncol(nonzero_wMeta)) \n",
    "pval<-c(pval,wilcox.test(nonzero_wMeta[,i]~nonzero_wMeta$Treatmentgroup)$p.value)\n",
    "head(pval)\n",
    "pAdj <- p.adjust(pval, method = c(\"fdr\"), n=length(pval)) \n",
    "head(pAdj) \n",
    "\n"
   ]
  },
  {
   "cell_type": "code",
   "execution_count": 16,
   "metadata": {
    "scrolled": true
   },
   "outputs": [
    {
     "data": {
      "text/html": [
       "5"
      ],
      "text/latex": [
       "5"
      ],
      "text/markdown": [
       "5"
      ],
      "text/plain": [
       "[1] 5"
      ]
     },
     "metadata": {},
     "output_type": "display_data"
    }
   ],
   "source": [
    "length(pval)"
   ]
  },
  {
   "cell_type": "code",
   "execution_count": 17,
   "metadata": {
    "scrolled": true
   },
   "outputs": [
    {
     "data": {
      "text/html": [
       "5"
      ],
      "text/latex": [
       "5"
      ],
      "text/markdown": [
       "5"
      ],
      "text/plain": [
       "[1] 5"
      ]
     },
     "metadata": {},
     "output_type": "display_data"
    }
   ],
   "source": [
    "length(pAdj)"
   ]
  },
  {
   "cell_type": "code",
   "execution_count": 18,
   "metadata": {},
   "outputs": [
    {
     "data": {
      "text/html": [
       "<ol class=list-inline>\n",
       "\t<li>2</li>\n",
       "\t<li>5</li>\n",
       "</ol>\n"
      ],
      "text/latex": [
       "\\begin{enumerate*}\n",
       "\\item 2\n",
       "\\item 5\n",
       "\\end{enumerate*}\n"
      ],
      "text/markdown": [
       "1. 2\n",
       "2. 5\n",
       "\n",
       "\n"
      ],
      "text/plain": [
       "[1] 2 5"
      ]
     },
     "metadata": {},
     "output_type": "display_data"
    },
    {
     "data": {
      "text/html": [
       "<table>\n",
       "<thead><tr><th></th><th scope=col>mass_400</th><th scope=col>mass_500</th><th scope=col>mass_600</th></tr></thead>\n",
       "<tbody>\n",
       "\t<tr><th scope=row>BNZ</th><td>0.02020498  </td><td>0.01967828  </td><td>0.0002879457</td></tr>\n",
       "\t<tr><th scope=row>combo</th><td>0.02330307  </td><td>0.02050973  </td><td>0.0003496341</td></tr>\n",
       "</tbody>\n",
       "</table>\n"
      ],
      "text/latex": [
       "\\begin{tabular}{r|lll}\n",
       "  & mass\\_400 & mass\\_500 & mass\\_600\\\\\n",
       "\\hline\n",
       "\tBNZ & 0.02020498   & 0.01967828   & 0.0002879457\\\\\n",
       "\tcombo & 0.02330307   & 0.02050973   & 0.0003496341\\\\\n",
       "\\end{tabular}\n"
      ],
      "text/markdown": [
       "\n",
       "| <!--/--> | mass_400 | mass_500 | mass_600 |\n",
       "|---|---|---|---|\n",
       "| BNZ | 0.02020498   | 0.01967828   | 0.0002879457 |\n",
       "| combo | 0.02330307   | 0.02050973   | 0.0003496341 |\n",
       "\n"
      ],
      "text/plain": [
       "      mass_400   mass_500   mass_600    \n",
       "BNZ   0.02020498 0.01967828 0.0002879457\n",
       "combo 0.02330307 0.02050973 0.0003496341"
      ]
     },
     "metadata": {},
     "output_type": "display_data"
    },
    {
     "data": {
      "text/html": [
       "<dl class=dl-horizontal>\n",
       "\t<dt>mass_400</dt>\n",
       "\t\t<dd>0.867052249823352</dd>\n",
       "\t<dt>mass_500</dt>\n",
       "\t\t<dd>0.959460961801022</dd>\n",
       "\t<dt>mass_600</dt>\n",
       "\t\t<dd>0.823562993086869</dd>\n",
       "\t<dt>mass_700</dt>\n",
       "\t\t<dd>0.736147192245021</dd>\n",
       "\t<dt>mass_800</dt>\n",
       "\t\t<dd>0.677916331452762</dd>\n",
       "</dl>\n"
      ],
      "text/latex": [
       "\\begin{description*}\n",
       "\\item[mass\\textbackslash{}\\_400] 0.867052249823352\n",
       "\\item[mass\\textbackslash{}\\_500] 0.959460961801022\n",
       "\\item[mass\\textbackslash{}\\_600] 0.823562993086869\n",
       "\\item[mass\\textbackslash{}\\_700] 0.736147192245021\n",
       "\\item[mass\\textbackslash{}\\_800] 0.677916331452762\n",
       "\\end{description*}\n"
      ],
      "text/markdown": [
       "mass_400\n",
       ":   0.867052249823352mass_500\n",
       ":   0.959460961801022mass_600\n",
       ":   0.823562993086869mass_700\n",
       ":   0.736147192245021mass_800\n",
       ":   0.677916331452762\n",
       "\n"
      ],
      "text/plain": [
       " mass_400  mass_500  mass_600  mass_700  mass_800 \n",
       "0.8670522 0.9594610 0.8235630 0.7361472 0.6779163 "
      ]
     },
     "metadata": {},
     "output_type": "display_data"
    },
    {
     "data": {
      "text/html": [
       "<ol class=list-inline>\n",
       "\t<li>'numeric'</li>\n",
       "\t<li>'vector'</li>\n",
       "</ol>\n"
      ],
      "text/latex": [
       "\\begin{enumerate*}\n",
       "\\item 'numeric'\n",
       "\\item 'vector'\n",
       "\\end{enumerate*}\n"
      ],
      "text/markdown": [
       "1. 'numeric'\n",
       "2. 'vector'\n",
       "\n",
       "\n"
      ],
      "text/plain": [
       "[1] \"numeric\" \"vector\" "
      ]
     },
     "metadata": {},
     "output_type": "display_data"
    }
   ],
   "source": [
    "avg<- apply(nonzero_wMeta[,8:ncol(nonzero_wMeta)], 2, function(x) tapply(x, nonzero_wMeta$Treatmentgroup, function(x) mean(x))) \n",
    "\n",
    "dim(avg)\n",
    "\n",
    "avg[,1:3]\n",
    "\n",
    "fch <- apply(avg, 2, function(x) x[1]/x[2])\n",
    "\n",
    "head(fch) \n",
    "is(fch)"
   ]
  },
  {
   "cell_type": "code",
   "execution_count": 19,
   "metadata": {
    "scrolled": true
   },
   "outputs": [
    {
     "data": {
      "text/html": [
       "<dl class=dl-horizontal>\n",
       "\t<dt>mass_400</dt>\n",
       "\t\t<dd>0.867052249823352</dd>\n",
       "\t<dt>mass_500</dt>\n",
       "\t\t<dd>0.959460961801022</dd>\n",
       "\t<dt>mass_600</dt>\n",
       "\t\t<dd>0.823562993086869</dd>\n",
       "\t<dt>mass_700</dt>\n",
       "\t\t<dd>0.736147192245021</dd>\n",
       "\t<dt>mass_800</dt>\n",
       "\t\t<dd>0.677916331452762</dd>\n",
       "</dl>\n"
      ],
      "text/latex": [
       "\\begin{description*}\n",
       "\\item[mass\\textbackslash{}\\_400] 0.867052249823352\n",
       "\\item[mass\\textbackslash{}\\_500] 0.959460961801022\n",
       "\\item[mass\\textbackslash{}\\_600] 0.823562993086869\n",
       "\\item[mass\\textbackslash{}\\_700] 0.736147192245021\n",
       "\\item[mass\\textbackslash{}\\_800] 0.677916331452762\n",
       "\\end{description*}\n"
      ],
      "text/markdown": [
       "mass_400\n",
       ":   0.867052249823352mass_500\n",
       ":   0.959460961801022mass_600\n",
       ":   0.823562993086869mass_700\n",
       ":   0.736147192245021mass_800\n",
       ":   0.677916331452762\n",
       "\n"
      ],
      "text/plain": [
       " mass_400  mass_500  mass_600  mass_700  mass_800 \n",
       "0.8670522 0.9594610 0.8235630 0.7361472 0.6779163 "
      ]
     },
     "metadata": {},
     "output_type": "display_data"
    }
   ],
   "source": [
    "fch"
   ]
  },
  {
   "cell_type": "code",
   "execution_count": 20,
   "metadata": {
    "scrolled": false
   },
   "outputs": [],
   "source": [
    "df <- data.frame(fch,pval, pAdj)\n",
    "write.csv(df, \"PC-treat-RVT-wilcox-combo-BNZ.csv\")"
   ]
  },
  {
   "cell_type": "code",
   "execution_count": null,
   "metadata": {},
   "outputs": [],
   "source": []
  },
  {
   "cell_type": "code",
   "execution_count": null,
   "metadata": {},
   "outputs": [],
   "source": []
  },
  {
   "cell_type": "code",
   "execution_count": null,
   "metadata": {},
   "outputs": [],
   "source": []
  },
  {
   "cell_type": "code",
   "execution_count": null,
   "metadata": {},
   "outputs": [],
   "source": []
  },
  {
   "cell_type": "code",
   "execution_count": null,
   "metadata": {},
   "outputs": [],
   "source": []
  },
  {
   "cell_type": "code",
   "execution_count": null,
   "metadata": {},
   "outputs": [],
   "source": []
  }
 ],
 "metadata": {
  "kernelspec": {
   "display_name": "R",
   "language": "R",
   "name": "ir"
  },
  "language_info": {
   "codemirror_mode": "r",
   "file_extension": ".r",
   "mimetype": "text/x-r-source",
   "name": "R",
   "pygments_lexer": "r",
   "version": "3.6.1"
  }
 },
 "nbformat": 4,
 "nbformat_minor": 2
}
