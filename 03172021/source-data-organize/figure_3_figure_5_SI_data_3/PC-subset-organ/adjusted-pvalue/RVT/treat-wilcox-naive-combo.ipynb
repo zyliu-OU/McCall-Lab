{
 "cells": [
  {
   "cell_type": "code",
   "execution_count": 11,
   "metadata": {},
   "outputs": [],
   "source": [
    "a <- read.csv(\"03172021-PC-treatment-RVT-M-F.csv\")"
   ]
  },
  {
   "cell_type": "code",
   "execution_count": 12,
   "metadata": {},
   "outputs": [
    {
     "data": {
      "text/html": [
       "<table>\n",
       "<thead><tr><th scope=col>filename</th><th scope=col>MouseID</th><th scope=col>Treatmentgroup</th><th scope=col>DPI</th><th scope=col>organ</th><th scope=col>well_position</th><th scope=col>plate</th><th scope=col>mass_400</th><th scope=col>mass_500</th><th scope=col>mass_600</th><th scope=col>mass_700</th><th scope=col>mass_800</th></tr></thead>\n",
       "<tbody>\n",
       "\t<tr><td>X511_Group1C_142dpi_RV_top_161_G_A1_P136.mzXML</td><td>511                                           </td><td>naive                                         </td><td>142dpi                                        </td><td>RV_top                                        </td><td>A1                                            </td><td>P136                                          </td><td>0.03209193                                    </td><td>0.026205891                                   </td><td>0.000100362                                   </td><td>0.000000000                                   </td><td>0.000000000                                   </td></tr>\n",
       "\t<tr><td>X512_Group1C_142dpi_RV_top_162_G_A2_P136.mzXML</td><td>512                                           </td><td>naive                                         </td><td>142dpi                                        </td><td>RV_top                                        </td><td>A2                                            </td><td>P136                                          </td><td>0.02540288                                    </td><td>0.030534463                                   </td><td>0.000454363                                   </td><td>0.001898197                                   </td><td>0.000330184                                   </td></tr>\n",
       "\t<tr><td>X513_Group1C_142dpi_RV_top_163_G_A3_P136.mzXML</td><td>513                                           </td><td>naive                                         </td><td>142dpi                                        </td><td>RV_top                                        </td><td>A3                                            </td><td>P136                                          </td><td>0.03366528                                    </td><td>0.032277149                                   </td><td>0.000964191                                   </td><td>0.000102656                                   </td><td>0.000358707                                   </td></tr>\n",
       "\t<tr><td>X514_Group1C_142dpi_RV_top_164_G_A4_P136.mzXML</td><td>514                                           </td><td>naive                                         </td><td>142dpi                                        </td><td>RV_top                                        </td><td>A4                                            </td><td>P136                                          </td><td>0.01959612                                    </td><td>0.020882444                                   </td><td>0.000388447                                   </td><td>0.002484004                                   </td><td>0.000096300                                   </td></tr>\n",
       "\t<tr><td>X515_Group1C_142dpi_RV_top_165_G_A5_P136.mzXML</td><td>515                                           </td><td>naive                                         </td><td>142dpi                                        </td><td>RV_top                                        </td><td>A5                                            </td><td>P136                                          </td><td>0.05050674                                    </td><td>0.045026912                                   </td><td>0.000908792                                   </td><td>0.000529243                                   </td><td>0.000356704                                   </td></tr>\n",
       "\t<tr><td>X531_Group1C_142dpi_RV_top_166_G_A6_P136.mzXML</td><td>531                                           </td><td>naive                                         </td><td>142dpi                                        </td><td>RV_top                                        </td><td>A6                                            </td><td>P136                                          </td><td>0.01417874                                    </td><td>0.009011964                                   </td><td>0.000051900                                   </td><td>0.003505334                                   </td><td>0.001524456                                   </td></tr>\n",
       "</tbody>\n",
       "</table>\n"
      ],
      "text/latex": [
       "\\begin{tabular}{r|llllllllllll}\n",
       " filename & MouseID & Treatmentgroup & DPI & organ & well\\_position & plate & mass\\_400 & mass\\_500 & mass\\_600 & mass\\_700 & mass\\_800\\\\\n",
       "\\hline\n",
       "\t X511\\_Group1C\\_142dpi\\_RV\\_top\\_161\\_G\\_A1\\_P136.mzXML & 511                                                            & naive                                                          & 142dpi                                                         & RV\\_top                                                       & A1                                                             & P136                                                           & 0.03209193                                                     & 0.026205891                                                    & 0.000100362                                                    & 0.000000000                                                    & 0.000000000                                                   \\\\\n",
       "\t X512\\_Group1C\\_142dpi\\_RV\\_top\\_162\\_G\\_A2\\_P136.mzXML & 512                                                            & naive                                                          & 142dpi                                                         & RV\\_top                                                       & A2                                                             & P136                                                           & 0.02540288                                                     & 0.030534463                                                    & 0.000454363                                                    & 0.001898197                                                    & 0.000330184                                                   \\\\\n",
       "\t X513\\_Group1C\\_142dpi\\_RV\\_top\\_163\\_G\\_A3\\_P136.mzXML & 513                                                            & naive                                                          & 142dpi                                                         & RV\\_top                                                       & A3                                                             & P136                                                           & 0.03366528                                                     & 0.032277149                                                    & 0.000964191                                                    & 0.000102656                                                    & 0.000358707                                                   \\\\\n",
       "\t X514\\_Group1C\\_142dpi\\_RV\\_top\\_164\\_G\\_A4\\_P136.mzXML & 514                                                            & naive                                                          & 142dpi                                                         & RV\\_top                                                       & A4                                                             & P136                                                           & 0.01959612                                                     & 0.020882444                                                    & 0.000388447                                                    & 0.002484004                                                    & 0.000096300                                                   \\\\\n",
       "\t X515\\_Group1C\\_142dpi\\_RV\\_top\\_165\\_G\\_A5\\_P136.mzXML & 515                                                            & naive                                                          & 142dpi                                                         & RV\\_top                                                       & A5                                                             & P136                                                           & 0.05050674                                                     & 0.045026912                                                    & 0.000908792                                                    & 0.000529243                                                    & 0.000356704                                                   \\\\\n",
       "\t X531\\_Group1C\\_142dpi\\_RV\\_top\\_166\\_G\\_A6\\_P136.mzXML & 531                                                            & naive                                                          & 142dpi                                                         & RV\\_top                                                       & A6                                                             & P136                                                           & 0.01417874                                                     & 0.009011964                                                    & 0.000051900                                                    & 0.003505334                                                    & 0.001524456                                                   \\\\\n",
       "\\end{tabular}\n"
      ],
      "text/markdown": [
       "\n",
       "| filename | MouseID | Treatmentgroup | DPI | organ | well_position | plate | mass_400 | mass_500 | mass_600 | mass_700 | mass_800 |\n",
       "|---|---|---|---|---|---|---|---|---|---|---|---|\n",
       "| X511_Group1C_142dpi_RV_top_161_G_A1_P136.mzXML | 511                                            | naive                                          | 142dpi                                         | RV_top                                         | A1                                             | P136                                           | 0.03209193                                     | 0.026205891                                    | 0.000100362                                    | 0.000000000                                    | 0.000000000                                    |\n",
       "| X512_Group1C_142dpi_RV_top_162_G_A2_P136.mzXML | 512                                            | naive                                          | 142dpi                                         | RV_top                                         | A2                                             | P136                                           | 0.02540288                                     | 0.030534463                                    | 0.000454363                                    | 0.001898197                                    | 0.000330184                                    |\n",
       "| X513_Group1C_142dpi_RV_top_163_G_A3_P136.mzXML | 513                                            | naive                                          | 142dpi                                         | RV_top                                         | A3                                             | P136                                           | 0.03366528                                     | 0.032277149                                    | 0.000964191                                    | 0.000102656                                    | 0.000358707                                    |\n",
       "| X514_Group1C_142dpi_RV_top_164_G_A4_P136.mzXML | 514                                            | naive                                          | 142dpi                                         | RV_top                                         | A4                                             | P136                                           | 0.01959612                                     | 0.020882444                                    | 0.000388447                                    | 0.002484004                                    | 0.000096300                                    |\n",
       "| X515_Group1C_142dpi_RV_top_165_G_A5_P136.mzXML | 515                                            | naive                                          | 142dpi                                         | RV_top                                         | A5                                             | P136                                           | 0.05050674                                     | 0.045026912                                    | 0.000908792                                    | 0.000529243                                    | 0.000356704                                    |\n",
       "| X531_Group1C_142dpi_RV_top_166_G_A6_P136.mzXML | 531                                            | naive                                          | 142dpi                                         | RV_top                                         | A6                                             | P136                                           | 0.01417874                                     | 0.009011964                                    | 0.000051900                                    | 0.003505334                                    | 0.001524456                                    |\n",
       "\n"
      ],
      "text/plain": [
       "  filename                                       MouseID Treatmentgroup DPI   \n",
       "1 X511_Group1C_142dpi_RV_top_161_G_A1_P136.mzXML 511     naive          142dpi\n",
       "2 X512_Group1C_142dpi_RV_top_162_G_A2_P136.mzXML 512     naive          142dpi\n",
       "3 X513_Group1C_142dpi_RV_top_163_G_A3_P136.mzXML 513     naive          142dpi\n",
       "4 X514_Group1C_142dpi_RV_top_164_G_A4_P136.mzXML 514     naive          142dpi\n",
       "5 X515_Group1C_142dpi_RV_top_165_G_A5_P136.mzXML 515     naive          142dpi\n",
       "6 X531_Group1C_142dpi_RV_top_166_G_A6_P136.mzXML 531     naive          142dpi\n",
       "  organ  well_position plate mass_400   mass_500    mass_600    mass_700   \n",
       "1 RV_top A1            P136  0.03209193 0.026205891 0.000100362 0.000000000\n",
       "2 RV_top A2            P136  0.02540288 0.030534463 0.000454363 0.001898197\n",
       "3 RV_top A3            P136  0.03366528 0.032277149 0.000964191 0.000102656\n",
       "4 RV_top A4            P136  0.01959612 0.020882444 0.000388447 0.002484004\n",
       "5 RV_top A5            P136  0.05050674 0.045026912 0.000908792 0.000529243\n",
       "6 RV_top A6            P136  0.01417874 0.009011964 0.000051900 0.003505334\n",
       "  mass_800   \n",
       "1 0.000000000\n",
       "2 0.000330184\n",
       "3 0.000358707\n",
       "4 0.000096300\n",
       "5 0.000356704\n",
       "6 0.001524456"
      ]
     },
     "metadata": {},
     "output_type": "display_data"
    },
    {
     "data": {
      "text/html": [
       "<ol class=list-inline>\n",
       "\t<li>60</li>\n",
       "\t<li>12</li>\n",
       "</ol>\n"
      ],
      "text/latex": [
       "\\begin{enumerate*}\n",
       "\\item 60\n",
       "\\item 12\n",
       "\\end{enumerate*}\n"
      ],
      "text/markdown": [
       "1. 60\n",
       "2. 12\n",
       "\n",
       "\n"
      ],
      "text/plain": [
       "[1] 60 12"
      ]
     },
     "metadata": {},
     "output_type": "display_data"
    }
   ],
   "source": [
    "head(a)\n",
    "dim(a)"
   ]
  },
  {
   "cell_type": "code",
   "execution_count": 13,
   "metadata": {},
   "outputs": [
    {
     "data": {
      "text/html": [
       "<table>\n",
       "<thead><tr><th scope=col>filename</th><th scope=col>MouseID</th><th scope=col>Treatmentgroup</th><th scope=col>DPI</th><th scope=col>organ</th><th scope=col>well_position</th><th scope=col>plate</th><th scope=col>mass_400</th><th scope=col>mass_500</th><th scope=col>mass_600</th><th scope=col>mass_700</th><th scope=col>mass_800</th></tr></thead>\n",
       "<tbody>\n",
       "\t<tr><td>X511_Group1C_142dpi_RV_top_161_G_A1_P136.mzXML</td><td>511                                           </td><td>naive                                         </td><td>142dpi                                        </td><td>RV_top                                        </td><td>A1                                            </td><td>P136                                          </td><td>0.03209193                                    </td><td>0.026205891                                   </td><td>0.000100362                                   </td><td>0.000000000                                   </td><td>0.000000000                                   </td></tr>\n",
       "\t<tr><td>X512_Group1C_142dpi_RV_top_162_G_A2_P136.mzXML</td><td>512                                           </td><td>naive                                         </td><td>142dpi                                        </td><td>RV_top                                        </td><td>A2                                            </td><td>P136                                          </td><td>0.02540288                                    </td><td>0.030534463                                   </td><td>0.000454363                                   </td><td>0.001898197                                   </td><td>0.000330184                                   </td></tr>\n",
       "\t<tr><td>X513_Group1C_142dpi_RV_top_163_G_A3_P136.mzXML</td><td>513                                           </td><td>naive                                         </td><td>142dpi                                        </td><td>RV_top                                        </td><td>A3                                            </td><td>P136                                          </td><td>0.03366528                                    </td><td>0.032277149                                   </td><td>0.000964191                                   </td><td>0.000102656                                   </td><td>0.000358707                                   </td></tr>\n",
       "\t<tr><td>X514_Group1C_142dpi_RV_top_164_G_A4_P136.mzXML</td><td>514                                           </td><td>naive                                         </td><td>142dpi                                        </td><td>RV_top                                        </td><td>A4                                            </td><td>P136                                          </td><td>0.01959612                                    </td><td>0.020882444                                   </td><td>0.000388447                                   </td><td>0.002484004                                   </td><td>0.000096300                                   </td></tr>\n",
       "\t<tr><td>X515_Group1C_142dpi_RV_top_165_G_A5_P136.mzXML</td><td>515                                           </td><td>naive                                         </td><td>142dpi                                        </td><td>RV_top                                        </td><td>A5                                            </td><td>P136                                          </td><td>0.05050674                                    </td><td>0.045026912                                   </td><td>0.000908792                                   </td><td>0.000529243                                   </td><td>0.000356704                                   </td></tr>\n",
       "\t<tr><td>X531_Group1C_142dpi_RV_top_166_G_A6_P136.mzXML</td><td>531                                           </td><td>naive                                         </td><td>142dpi                                        </td><td>RV_top                                        </td><td>A6                                            </td><td>P136                                          </td><td>0.01417874                                    </td><td>0.009011964                                   </td><td>0.000051900                                   </td><td>0.003505334                                   </td><td>0.001524456                                   </td></tr>\n",
       "</tbody>\n",
       "</table>\n"
      ],
      "text/latex": [
       "\\begin{tabular}{r|llllllllllll}\n",
       " filename & MouseID & Treatmentgroup & DPI & organ & well\\_position & plate & mass\\_400 & mass\\_500 & mass\\_600 & mass\\_700 & mass\\_800\\\\\n",
       "\\hline\n",
       "\t X511\\_Group1C\\_142dpi\\_RV\\_top\\_161\\_G\\_A1\\_P136.mzXML & 511                                                            & naive                                                          & 142dpi                                                         & RV\\_top                                                       & A1                                                             & P136                                                           & 0.03209193                                                     & 0.026205891                                                    & 0.000100362                                                    & 0.000000000                                                    & 0.000000000                                                   \\\\\n",
       "\t X512\\_Group1C\\_142dpi\\_RV\\_top\\_162\\_G\\_A2\\_P136.mzXML & 512                                                            & naive                                                          & 142dpi                                                         & RV\\_top                                                       & A2                                                             & P136                                                           & 0.02540288                                                     & 0.030534463                                                    & 0.000454363                                                    & 0.001898197                                                    & 0.000330184                                                   \\\\\n",
       "\t X513\\_Group1C\\_142dpi\\_RV\\_top\\_163\\_G\\_A3\\_P136.mzXML & 513                                                            & naive                                                          & 142dpi                                                         & RV\\_top                                                       & A3                                                             & P136                                                           & 0.03366528                                                     & 0.032277149                                                    & 0.000964191                                                    & 0.000102656                                                    & 0.000358707                                                   \\\\\n",
       "\t X514\\_Group1C\\_142dpi\\_RV\\_top\\_164\\_G\\_A4\\_P136.mzXML & 514                                                            & naive                                                          & 142dpi                                                         & RV\\_top                                                       & A4                                                             & P136                                                           & 0.01959612                                                     & 0.020882444                                                    & 0.000388447                                                    & 0.002484004                                                    & 0.000096300                                                   \\\\\n",
       "\t X515\\_Group1C\\_142dpi\\_RV\\_top\\_165\\_G\\_A5\\_P136.mzXML & 515                                                            & naive                                                          & 142dpi                                                         & RV\\_top                                                       & A5                                                             & P136                                                           & 0.05050674                                                     & 0.045026912                                                    & 0.000908792                                                    & 0.000529243                                                    & 0.000356704                                                   \\\\\n",
       "\t X531\\_Group1C\\_142dpi\\_RV\\_top\\_166\\_G\\_A6\\_P136.mzXML & 531                                                            & naive                                                          & 142dpi                                                         & RV\\_top                                                       & A6                                                             & P136                                                           & 0.01417874                                                     & 0.009011964                                                    & 0.000051900                                                    & 0.003505334                                                    & 0.001524456                                                   \\\\\n",
       "\\end{tabular}\n"
      ],
      "text/markdown": [
       "\n",
       "| filename | MouseID | Treatmentgroup | DPI | organ | well_position | plate | mass_400 | mass_500 | mass_600 | mass_700 | mass_800 |\n",
       "|---|---|---|---|---|---|---|---|---|---|---|---|\n",
       "| X511_Group1C_142dpi_RV_top_161_G_A1_P136.mzXML | 511                                            | naive                                          | 142dpi                                         | RV_top                                         | A1                                             | P136                                           | 0.03209193                                     | 0.026205891                                    | 0.000100362                                    | 0.000000000                                    | 0.000000000                                    |\n",
       "| X512_Group1C_142dpi_RV_top_162_G_A2_P136.mzXML | 512                                            | naive                                          | 142dpi                                         | RV_top                                         | A2                                             | P136                                           | 0.02540288                                     | 0.030534463                                    | 0.000454363                                    | 0.001898197                                    | 0.000330184                                    |\n",
       "| X513_Group1C_142dpi_RV_top_163_G_A3_P136.mzXML | 513                                            | naive                                          | 142dpi                                         | RV_top                                         | A3                                             | P136                                           | 0.03366528                                     | 0.032277149                                    | 0.000964191                                    | 0.000102656                                    | 0.000358707                                    |\n",
       "| X514_Group1C_142dpi_RV_top_164_G_A4_P136.mzXML | 514                                            | naive                                          | 142dpi                                         | RV_top                                         | A4                                             | P136                                           | 0.01959612                                     | 0.020882444                                    | 0.000388447                                    | 0.002484004                                    | 0.000096300                                    |\n",
       "| X515_Group1C_142dpi_RV_top_165_G_A5_P136.mzXML | 515                                            | naive                                          | 142dpi                                         | RV_top                                         | A5                                             | P136                                           | 0.05050674                                     | 0.045026912                                    | 0.000908792                                    | 0.000529243                                    | 0.000356704                                    |\n",
       "| X531_Group1C_142dpi_RV_top_166_G_A6_P136.mzXML | 531                                            | naive                                          | 142dpi                                         | RV_top                                         | A6                                             | P136                                           | 0.01417874                                     | 0.009011964                                    | 0.000051900                                    | 0.003505334                                    | 0.001524456                                    |\n",
       "\n"
      ],
      "text/plain": [
       "  filename                                       MouseID Treatmentgroup DPI   \n",
       "1 X511_Group1C_142dpi_RV_top_161_G_A1_P136.mzXML 511     naive          142dpi\n",
       "2 X512_Group1C_142dpi_RV_top_162_G_A2_P136.mzXML 512     naive          142dpi\n",
       "3 X513_Group1C_142dpi_RV_top_163_G_A3_P136.mzXML 513     naive          142dpi\n",
       "4 X514_Group1C_142dpi_RV_top_164_G_A4_P136.mzXML 514     naive          142dpi\n",
       "5 X515_Group1C_142dpi_RV_top_165_G_A5_P136.mzXML 515     naive          142dpi\n",
       "6 X531_Group1C_142dpi_RV_top_166_G_A6_P136.mzXML 531     naive          142dpi\n",
       "  organ  well_position plate mass_400   mass_500    mass_600    mass_700   \n",
       "1 RV_top A1            P136  0.03209193 0.026205891 0.000100362 0.000000000\n",
       "2 RV_top A2            P136  0.02540288 0.030534463 0.000454363 0.001898197\n",
       "3 RV_top A3            P136  0.03366528 0.032277149 0.000964191 0.000102656\n",
       "4 RV_top A4            P136  0.01959612 0.020882444 0.000388447 0.002484004\n",
       "5 RV_top A5            P136  0.05050674 0.045026912 0.000908792 0.000529243\n",
       "6 RV_top A6            P136  0.01417874 0.009011964 0.000051900 0.003505334\n",
       "  mass_800   \n",
       "1 0.000000000\n",
       "2 0.000330184\n",
       "3 0.000358707\n",
       "4 0.000096300\n",
       "5 0.000356704\n",
       "6 0.001524456"
      ]
     },
     "metadata": {},
     "output_type": "display_data"
    },
    {
     "data": {
      "text/html": [
       "<ol class=list-inline>\n",
       "\t<li>30</li>\n",
       "\t<li>12</li>\n",
       "</ol>\n"
      ],
      "text/latex": [
       "\\begin{enumerate*}\n",
       "\\item 30\n",
       "\\item 12\n",
       "\\end{enumerate*}\n"
      ],
      "text/markdown": [
       "1. 30\n",
       "2. 12\n",
       "\n",
       "\n"
      ],
      "text/plain": [
       "[1] 30 12"
      ]
     },
     "metadata": {},
     "output_type": "display_data"
    }
   ],
   "source": [
    "features_pos<-droplevels(subset(a, a$Treatmentgroup==c(\"naive\")|a$Treatmentgroup==c(\"combo\")))\n",
    "head(features_pos)\n",
    "dim(features_pos)"
   ]
  },
  {
   "cell_type": "code",
   "execution_count": 14,
   "metadata": {
    "scrolled": false
   },
   "outputs": [
    {
     "data": {
      "text/html": [
       "<table>\n",
       "<thead><tr><th scope=col>mass_400</th><th scope=col>mass_500</th><th scope=col>mass_600</th><th scope=col>mass_700</th><th scope=col>mass_800</th></tr></thead>\n",
       "<tbody>\n",
       "\t<tr><td>0.03209193 </td><td>0.026205891</td><td>0.000100362</td><td>0.000000000</td><td>0.000000000</td></tr>\n",
       "\t<tr><td>0.02540288 </td><td>0.030534463</td><td>0.000454363</td><td>0.001898197</td><td>0.000330184</td></tr>\n",
       "\t<tr><td>0.03366528 </td><td>0.032277149</td><td>0.000964191</td><td>0.000102656</td><td>0.000358707</td></tr>\n",
       "\t<tr><td>0.01959612 </td><td>0.020882444</td><td>0.000388447</td><td>0.002484004</td><td>0.000096300</td></tr>\n",
       "\t<tr><td>0.05050674 </td><td>0.045026912</td><td>0.000908792</td><td>0.000529243</td><td>0.000356704</td></tr>\n",
       "\t<tr><td>0.01417874 </td><td>0.009011964</td><td>0.000051900</td><td>0.003505334</td><td>0.001524456</td></tr>\n",
       "</tbody>\n",
       "</table>\n"
      ],
      "text/latex": [
       "\\begin{tabular}{r|lllll}\n",
       " mass\\_400 & mass\\_500 & mass\\_600 & mass\\_700 & mass\\_800\\\\\n",
       "\\hline\n",
       "\t 0.03209193  & 0.026205891 & 0.000100362 & 0.000000000 & 0.000000000\\\\\n",
       "\t 0.02540288  & 0.030534463 & 0.000454363 & 0.001898197 & 0.000330184\\\\\n",
       "\t 0.03366528  & 0.032277149 & 0.000964191 & 0.000102656 & 0.000358707\\\\\n",
       "\t 0.01959612  & 0.020882444 & 0.000388447 & 0.002484004 & 0.000096300\\\\\n",
       "\t 0.05050674  & 0.045026912 & 0.000908792 & 0.000529243 & 0.000356704\\\\\n",
       "\t 0.01417874  & 0.009011964 & 0.000051900 & 0.003505334 & 0.001524456\\\\\n",
       "\\end{tabular}\n"
      ],
      "text/markdown": [
       "\n",
       "| mass_400 | mass_500 | mass_600 | mass_700 | mass_800 |\n",
       "|---|---|---|---|---|\n",
       "| 0.03209193  | 0.026205891 | 0.000100362 | 0.000000000 | 0.000000000 |\n",
       "| 0.02540288  | 0.030534463 | 0.000454363 | 0.001898197 | 0.000330184 |\n",
       "| 0.03366528  | 0.032277149 | 0.000964191 | 0.000102656 | 0.000358707 |\n",
       "| 0.01959612  | 0.020882444 | 0.000388447 | 0.002484004 | 0.000096300 |\n",
       "| 0.05050674  | 0.045026912 | 0.000908792 | 0.000529243 | 0.000356704 |\n",
       "| 0.01417874  | 0.009011964 | 0.000051900 | 0.003505334 | 0.001524456 |\n",
       "\n"
      ],
      "text/plain": [
       "  mass_400   mass_500    mass_600    mass_700    mass_800   \n",
       "1 0.03209193 0.026205891 0.000100362 0.000000000 0.000000000\n",
       "2 0.02540288 0.030534463 0.000454363 0.001898197 0.000330184\n",
       "3 0.03366528 0.032277149 0.000964191 0.000102656 0.000358707\n",
       "4 0.01959612 0.020882444 0.000388447 0.002484004 0.000096300\n",
       "5 0.05050674 0.045026912 0.000908792 0.000529243 0.000356704\n",
       "6 0.01417874 0.009011964 0.000051900 0.003505334 0.001524456"
      ]
     },
     "metadata": {},
     "output_type": "display_data"
    },
    {
     "data": {
      "text/html": [
       "<dl class=dl-horizontal>\n",
       "\t<dt>mass_400</dt>\n",
       "\t\t<dd>1</dd>\n",
       "\t<dt>mass_500</dt>\n",
       "\t\t<dd>2</dd>\n",
       "\t<dt>mass_600</dt>\n",
       "\t\t<dd>3</dd>\n",
       "\t<dt>mass_700</dt>\n",
       "\t\t<dd>4</dd>\n",
       "\t<dt>mass_800</dt>\n",
       "\t\t<dd>5</dd>\n",
       "</dl>\n"
      ],
      "text/latex": [
       "\\begin{description*}\n",
       "\\item[mass\\textbackslash{}\\_400] 1\n",
       "\\item[mass\\textbackslash{}\\_500] 2\n",
       "\\item[mass\\textbackslash{}\\_600] 3\n",
       "\\item[mass\\textbackslash{}\\_700] 4\n",
       "\\item[mass\\textbackslash{}\\_800] 5\n",
       "\\end{description*}\n"
      ],
      "text/markdown": [
       "mass_400\n",
       ":   1mass_500\n",
       ":   2mass_600\n",
       ":   3mass_700\n",
       ":   4mass_800\n",
       ":   5\n",
       "\n"
      ],
      "text/plain": [
       "mass_400 mass_500 mass_600 mass_700 mass_800 \n",
       "       1        2        3        4        5 "
      ]
     },
     "metadata": {},
     "output_type": "display_data"
    },
    {
     "data": {
      "text/html": [
       "<table>\n",
       "<thead><tr><th></th><th scope=col>mass_400</th><th scope=col>mass_500</th><th scope=col>mass_600</th><th scope=col>mass_700</th><th scope=col>mass_800</th></tr></thead>\n",
       "<tbody>\n",
       "\t<tr><th scope=row>1</th><td>0.032091931</td><td>0.026205891</td><td>0.000100362</td><td>0.000000000</td><td>0.000000000</td></tr>\n",
       "\t<tr><th scope=row>2</th><td>0.025402882</td><td>0.030534463</td><td>0.000454363</td><td>0.001898197</td><td>0.000330184</td></tr>\n",
       "\t<tr><th scope=row>3</th><td>0.033665283</td><td>0.032277149</td><td>0.000964191</td><td>0.000102656</td><td>0.000358707</td></tr>\n",
       "\t<tr><th scope=row>4</th><td>0.019596124</td><td>0.020882444</td><td>0.000388447</td><td>0.002484004</td><td>0.000096300</td></tr>\n",
       "\t<tr><th scope=row>5</th><td>0.050506740</td><td>0.045026912</td><td>0.000908792</td><td>0.000529243</td><td>0.000356704</td></tr>\n",
       "\t<tr><th scope=row>6</th><td>0.014178742</td><td>0.009011964</td><td>0.000051900</td><td>0.003505334</td><td>0.001524456</td></tr>\n",
       "\t<tr><th scope=row>7</th><td>0.013255028</td><td>0.009220371</td><td>0.000062000</td><td>0.000000000</td><td>0.000000000</td></tr>\n",
       "\t<tr><th scope=row>8</th><td>0.013438296</td><td>0.007907952</td><td>0.000000000</td><td>0.000000000</td><td>0.000000000</td></tr>\n",
       "\t<tr><th scope=row>9</th><td>0.025635682</td><td>0.025257531</td><td>0.000339953</td><td>0.000102069</td><td>0.000371276</td></tr>\n",
       "\t<tr><th scope=row>10</th><td>0.025950926</td><td>0.021070126</td><td>0.000483824</td><td>0.000147987</td><td>0.000340628</td></tr>\n",
       "\t<tr><th scope=row>11</th><td>0.009134552</td><td>0.006988521</td><td>0.000000000</td><td>0.000048500</td><td>0.000000000</td></tr>\n",
       "\t<tr><th scope=row>12</th><td>0.039027894</td><td>0.049926059</td><td>0.000340301</td><td>0.001124596</td><td>0.000814697</td></tr>\n",
       "\t<tr><th scope=row>13</th><td>0.036002003</td><td>0.033831190</td><td>0.000616500</td><td>0.001533659</td><td>0.000823851</td></tr>\n",
       "\t<tr><th scope=row>14</th><td>0.031592678</td><td>0.030282367</td><td>0.000705186</td><td>0.000059900</td><td>0.000000000</td></tr>\n",
       "\t<tr><th scope=row>15</th><td>0.032367747</td><td>0.027459259</td><td>0.000803847</td><td>0.001927539</td><td>0.000276280</td></tr>\n",
       "\t<tr><th scope=row>21</th><td>0.019116954</td><td>0.014857672</td><td>0.000225908</td><td>0.000000000</td><td>0.000000000</td></tr>\n",
       "\t<tr><th scope=row>22</th><td>0.019804899</td><td>0.013624078</td><td>0.000062100</td><td>0.000000000</td><td>0.000000000</td></tr>\n",
       "\t<tr><th scope=row>23</th><td>0.020829193</td><td>0.021061013</td><td>0.000269402</td><td>0.000224333</td><td>0.000380998</td></tr>\n",
       "\t<tr><th scope=row>24</th><td>0.041266806</td><td>0.036969392</td><td>0.000748420</td><td>0.002354155</td><td>0.000709065</td></tr>\n",
       "\t<tr><th scope=row>25</th><td>0.028154327</td><td>0.026192065</td><td>0.000672882</td><td>0.000066400</td><td>0.000000000</td></tr>\n",
       "\t<tr><th scope=row>36</th><td>0.020543366</td><td>0.017100891</td><td>0.000216527</td><td>0.000514048</td><td>0.000588570</td></tr>\n",
       "\t<tr><th scope=row>37</th><td>0.015475676</td><td>0.015357306</td><td>0.000230187</td><td>0.000000000</td><td>0.000000000</td></tr>\n",
       "\t<tr><th scope=row>38</th><td>0.016376000</td><td>0.011817208</td><td>0.000182800</td><td>0.000000000</td><td>0.000000000</td></tr>\n",
       "\t<tr><th scope=row>39</th><td>0.026619687</td><td>0.023592709</td><td>0.000492397</td><td>0.001057060</td><td>0.001039397</td></tr>\n",
       "\t<tr><th scope=row>40</th><td>0.018171523</td><td>0.011984734</td><td>0.000000000</td><td>0.000116150</td><td>0.000000000</td></tr>\n",
       "\t<tr><th scope=row>51</th><td>0.016358855</td><td>0.013551280</td><td>0.000095700</td><td>0.000048300</td><td>0.000000000</td></tr>\n",
       "\t<tr><th scope=row>52</th><td>0.017869258</td><td>0.018779125</td><td>0.000221362</td><td>0.000548581</td><td>0.000788571</td></tr>\n",
       "\t<tr><th scope=row>53</th><td>0.028580343</td><td>0.029898277</td><td>0.000849274</td><td>0.007649603</td><td>0.003523994</td></tr>\n",
       "\t<tr><th scope=row>54</th><td>0.024931044</td><td>0.024486902</td><td>0.000371469</td><td>0.000871385</td><td>0.000491451</td></tr>\n",
       "\t<tr><th scope=row>55</th><td>0.035448112</td><td>0.028373226</td><td>0.000606084</td><td>0.005327496</td><td>0.004334811</td></tr>\n",
       "</tbody>\n",
       "</table>\n"
      ],
      "text/latex": [
       "\\begin{tabular}{r|lllll}\n",
       "  & mass\\_400 & mass\\_500 & mass\\_600 & mass\\_700 & mass\\_800\\\\\n",
       "\\hline\n",
       "\t1 & 0.032091931 & 0.026205891 & 0.000100362 & 0.000000000 & 0.000000000\\\\\n",
       "\t2 & 0.025402882 & 0.030534463 & 0.000454363 & 0.001898197 & 0.000330184\\\\\n",
       "\t3 & 0.033665283 & 0.032277149 & 0.000964191 & 0.000102656 & 0.000358707\\\\\n",
       "\t4 & 0.019596124 & 0.020882444 & 0.000388447 & 0.002484004 & 0.000096300\\\\\n",
       "\t5 & 0.050506740 & 0.045026912 & 0.000908792 & 0.000529243 & 0.000356704\\\\\n",
       "\t6 & 0.014178742 & 0.009011964 & 0.000051900 & 0.003505334 & 0.001524456\\\\\n",
       "\t7 & 0.013255028 & 0.009220371 & 0.000062000 & 0.000000000 & 0.000000000\\\\\n",
       "\t8 & 0.013438296 & 0.007907952 & 0.000000000 & 0.000000000 & 0.000000000\\\\\n",
       "\t9 & 0.025635682 & 0.025257531 & 0.000339953 & 0.000102069 & 0.000371276\\\\\n",
       "\t10 & 0.025950926 & 0.021070126 & 0.000483824 & 0.000147987 & 0.000340628\\\\\n",
       "\t11 & 0.009134552 & 0.006988521 & 0.000000000 & 0.000048500 & 0.000000000\\\\\n",
       "\t12 & 0.039027894 & 0.049926059 & 0.000340301 & 0.001124596 & 0.000814697\\\\\n",
       "\t13 & 0.036002003 & 0.033831190 & 0.000616500 & 0.001533659 & 0.000823851\\\\\n",
       "\t14 & 0.031592678 & 0.030282367 & 0.000705186 & 0.000059900 & 0.000000000\\\\\n",
       "\t15 & 0.032367747 & 0.027459259 & 0.000803847 & 0.001927539 & 0.000276280\\\\\n",
       "\t21 & 0.019116954 & 0.014857672 & 0.000225908 & 0.000000000 & 0.000000000\\\\\n",
       "\t22 & 0.019804899 & 0.013624078 & 0.000062100 & 0.000000000 & 0.000000000\\\\\n",
       "\t23 & 0.020829193 & 0.021061013 & 0.000269402 & 0.000224333 & 0.000380998\\\\\n",
       "\t24 & 0.041266806 & 0.036969392 & 0.000748420 & 0.002354155 & 0.000709065\\\\\n",
       "\t25 & 0.028154327 & 0.026192065 & 0.000672882 & 0.000066400 & 0.000000000\\\\\n",
       "\t36 & 0.020543366 & 0.017100891 & 0.000216527 & 0.000514048 & 0.000588570\\\\\n",
       "\t37 & 0.015475676 & 0.015357306 & 0.000230187 & 0.000000000 & 0.000000000\\\\\n",
       "\t38 & 0.016376000 & 0.011817208 & 0.000182800 & 0.000000000 & 0.000000000\\\\\n",
       "\t39 & 0.026619687 & 0.023592709 & 0.000492397 & 0.001057060 & 0.001039397\\\\\n",
       "\t40 & 0.018171523 & 0.011984734 & 0.000000000 & 0.000116150 & 0.000000000\\\\\n",
       "\t51 & 0.016358855 & 0.013551280 & 0.000095700 & 0.000048300 & 0.000000000\\\\\n",
       "\t52 & 0.017869258 & 0.018779125 & 0.000221362 & 0.000548581 & 0.000788571\\\\\n",
       "\t53 & 0.028580343 & 0.029898277 & 0.000849274 & 0.007649603 & 0.003523994\\\\\n",
       "\t54 & 0.024931044 & 0.024486902 & 0.000371469 & 0.000871385 & 0.000491451\\\\\n",
       "\t55 & 0.035448112 & 0.028373226 & 0.000606084 & 0.005327496 & 0.004334811\\\\\n",
       "\\end{tabular}\n"
      ],
      "text/markdown": [
       "\n",
       "| <!--/--> | mass_400 | mass_500 | mass_600 | mass_700 | mass_800 |\n",
       "|---|---|---|---|---|---|\n",
       "| 1 | 0.032091931 | 0.026205891 | 0.000100362 | 0.000000000 | 0.000000000 |\n",
       "| 2 | 0.025402882 | 0.030534463 | 0.000454363 | 0.001898197 | 0.000330184 |\n",
       "| 3 | 0.033665283 | 0.032277149 | 0.000964191 | 0.000102656 | 0.000358707 |\n",
       "| 4 | 0.019596124 | 0.020882444 | 0.000388447 | 0.002484004 | 0.000096300 |\n",
       "| 5 | 0.050506740 | 0.045026912 | 0.000908792 | 0.000529243 | 0.000356704 |\n",
       "| 6 | 0.014178742 | 0.009011964 | 0.000051900 | 0.003505334 | 0.001524456 |\n",
       "| 7 | 0.013255028 | 0.009220371 | 0.000062000 | 0.000000000 | 0.000000000 |\n",
       "| 8 | 0.013438296 | 0.007907952 | 0.000000000 | 0.000000000 | 0.000000000 |\n",
       "| 9 | 0.025635682 | 0.025257531 | 0.000339953 | 0.000102069 | 0.000371276 |\n",
       "| 10 | 0.025950926 | 0.021070126 | 0.000483824 | 0.000147987 | 0.000340628 |\n",
       "| 11 | 0.009134552 | 0.006988521 | 0.000000000 | 0.000048500 | 0.000000000 |\n",
       "| 12 | 0.039027894 | 0.049926059 | 0.000340301 | 0.001124596 | 0.000814697 |\n",
       "| 13 | 0.036002003 | 0.033831190 | 0.000616500 | 0.001533659 | 0.000823851 |\n",
       "| 14 | 0.031592678 | 0.030282367 | 0.000705186 | 0.000059900 | 0.000000000 |\n",
       "| 15 | 0.032367747 | 0.027459259 | 0.000803847 | 0.001927539 | 0.000276280 |\n",
       "| 21 | 0.019116954 | 0.014857672 | 0.000225908 | 0.000000000 | 0.000000000 |\n",
       "| 22 | 0.019804899 | 0.013624078 | 0.000062100 | 0.000000000 | 0.000000000 |\n",
       "| 23 | 0.020829193 | 0.021061013 | 0.000269402 | 0.000224333 | 0.000380998 |\n",
       "| 24 | 0.041266806 | 0.036969392 | 0.000748420 | 0.002354155 | 0.000709065 |\n",
       "| 25 | 0.028154327 | 0.026192065 | 0.000672882 | 0.000066400 | 0.000000000 |\n",
       "| 36 | 0.020543366 | 0.017100891 | 0.000216527 | 0.000514048 | 0.000588570 |\n",
       "| 37 | 0.015475676 | 0.015357306 | 0.000230187 | 0.000000000 | 0.000000000 |\n",
       "| 38 | 0.016376000 | 0.011817208 | 0.000182800 | 0.000000000 | 0.000000000 |\n",
       "| 39 | 0.026619687 | 0.023592709 | 0.000492397 | 0.001057060 | 0.001039397 |\n",
       "| 40 | 0.018171523 | 0.011984734 | 0.000000000 | 0.000116150 | 0.000000000 |\n",
       "| 51 | 0.016358855 | 0.013551280 | 0.000095700 | 0.000048300 | 0.000000000 |\n",
       "| 52 | 0.017869258 | 0.018779125 | 0.000221362 | 0.000548581 | 0.000788571 |\n",
       "| 53 | 0.028580343 | 0.029898277 | 0.000849274 | 0.007649603 | 0.003523994 |\n",
       "| 54 | 0.024931044 | 0.024486902 | 0.000371469 | 0.000871385 | 0.000491451 |\n",
       "| 55 | 0.035448112 | 0.028373226 | 0.000606084 | 0.005327496 | 0.004334811 |\n",
       "\n"
      ],
      "text/plain": [
       "   mass_400    mass_500    mass_600    mass_700    mass_800   \n",
       "1  0.032091931 0.026205891 0.000100362 0.000000000 0.000000000\n",
       "2  0.025402882 0.030534463 0.000454363 0.001898197 0.000330184\n",
       "3  0.033665283 0.032277149 0.000964191 0.000102656 0.000358707\n",
       "4  0.019596124 0.020882444 0.000388447 0.002484004 0.000096300\n",
       "5  0.050506740 0.045026912 0.000908792 0.000529243 0.000356704\n",
       "6  0.014178742 0.009011964 0.000051900 0.003505334 0.001524456\n",
       "7  0.013255028 0.009220371 0.000062000 0.000000000 0.000000000\n",
       "8  0.013438296 0.007907952 0.000000000 0.000000000 0.000000000\n",
       "9  0.025635682 0.025257531 0.000339953 0.000102069 0.000371276\n",
       "10 0.025950926 0.021070126 0.000483824 0.000147987 0.000340628\n",
       "11 0.009134552 0.006988521 0.000000000 0.000048500 0.000000000\n",
       "12 0.039027894 0.049926059 0.000340301 0.001124596 0.000814697\n",
       "13 0.036002003 0.033831190 0.000616500 0.001533659 0.000823851\n",
       "14 0.031592678 0.030282367 0.000705186 0.000059900 0.000000000\n",
       "15 0.032367747 0.027459259 0.000803847 0.001927539 0.000276280\n",
       "21 0.019116954 0.014857672 0.000225908 0.000000000 0.000000000\n",
       "22 0.019804899 0.013624078 0.000062100 0.000000000 0.000000000\n",
       "23 0.020829193 0.021061013 0.000269402 0.000224333 0.000380998\n",
       "24 0.041266806 0.036969392 0.000748420 0.002354155 0.000709065\n",
       "25 0.028154327 0.026192065 0.000672882 0.000066400 0.000000000\n",
       "36 0.020543366 0.017100891 0.000216527 0.000514048 0.000588570\n",
       "37 0.015475676 0.015357306 0.000230187 0.000000000 0.000000000\n",
       "38 0.016376000 0.011817208 0.000182800 0.000000000 0.000000000\n",
       "39 0.026619687 0.023592709 0.000492397 0.001057060 0.001039397\n",
       "40 0.018171523 0.011984734 0.000000000 0.000116150 0.000000000\n",
       "51 0.016358855 0.013551280 0.000095700 0.000048300 0.000000000\n",
       "52 0.017869258 0.018779125 0.000221362 0.000548581 0.000788571\n",
       "53 0.028580343 0.029898277 0.000849274 0.007649603 0.003523994\n",
       "54 0.024931044 0.024486902 0.000371469 0.000871385 0.000491451\n",
       "55 0.035448112 0.028373226 0.000606084 0.005327496 0.004334811"
      ]
     },
     "metadata": {},
     "output_type": "display_data"
    },
    {
     "data": {
      "text/html": [
       "<table>\n",
       "<thead><tr><th scope=col>filename</th><th scope=col>MouseID</th><th scope=col>Treatmentgroup</th><th scope=col>DPI</th><th scope=col>organ</th><th scope=col>well_position</th><th scope=col>plate</th><th scope=col>mass_400</th><th scope=col>mass_500</th><th scope=col>mass_600</th><th scope=col>mass_700</th><th scope=col>mass_800</th></tr></thead>\n",
       "<tbody>\n",
       "\t<tr><td>X511_Group1C_142dpi_RV_top_161_G_A1_P136.mzXML</td><td>511                                           </td><td>naive                                         </td><td>142dpi                                        </td><td>RV_top                                        </td><td>A1                                            </td><td>P136                                          </td><td>0.03209193                                    </td><td>0.026205891                                   </td><td>0.000100362                                   </td><td>0.000000000                                   </td><td>0.000000000                                   </td></tr>\n",
       "\t<tr><td>X512_Group1C_142dpi_RV_top_162_G_A2_P136.mzXML</td><td>512                                           </td><td>naive                                         </td><td>142dpi                                        </td><td>RV_top                                        </td><td>A2                                            </td><td>P136                                          </td><td>0.02540288                                    </td><td>0.030534463                                   </td><td>0.000454363                                   </td><td>0.001898197                                   </td><td>0.000330184                                   </td></tr>\n",
       "\t<tr><td>X513_Group1C_142dpi_RV_top_163_G_A3_P136.mzXML</td><td>513                                           </td><td>naive                                         </td><td>142dpi                                        </td><td>RV_top                                        </td><td>A3                                            </td><td>P136                                          </td><td>0.03366528                                    </td><td>0.032277149                                   </td><td>0.000964191                                   </td><td>0.000102656                                   </td><td>0.000358707                                   </td></tr>\n",
       "\t<tr><td>X514_Group1C_142dpi_RV_top_164_G_A4_P136.mzXML</td><td>514                                           </td><td>naive                                         </td><td>142dpi                                        </td><td>RV_top                                        </td><td>A4                                            </td><td>P136                                          </td><td>0.01959612                                    </td><td>0.020882444                                   </td><td>0.000388447                                   </td><td>0.002484004                                   </td><td>0.000096300                                   </td></tr>\n",
       "\t<tr><td>X515_Group1C_142dpi_RV_top_165_G_A5_P136.mzXML</td><td>515                                           </td><td>naive                                         </td><td>142dpi                                        </td><td>RV_top                                        </td><td>A5                                            </td><td>P136                                          </td><td>0.05050674                                    </td><td>0.045026912                                   </td><td>0.000908792                                   </td><td>0.000529243                                   </td><td>0.000356704                                   </td></tr>\n",
       "\t<tr><td>X531_Group1C_142dpi_RV_top_166_G_A6_P136.mzXML</td><td>531                                           </td><td>naive                                         </td><td>142dpi                                        </td><td>RV_top                                        </td><td>A6                                            </td><td>P136                                          </td><td>0.01417874                                    </td><td>0.009011964                                   </td><td>0.000051900                                   </td><td>0.003505334                                   </td><td>0.001524456                                   </td></tr>\n",
       "</tbody>\n",
       "</table>\n"
      ],
      "text/latex": [
       "\\begin{tabular}{r|llllllllllll}\n",
       " filename & MouseID & Treatmentgroup & DPI & organ & well\\_position & plate & mass\\_400 & mass\\_500 & mass\\_600 & mass\\_700 & mass\\_800\\\\\n",
       "\\hline\n",
       "\t X511\\_Group1C\\_142dpi\\_RV\\_top\\_161\\_G\\_A1\\_P136.mzXML & 511                                                            & naive                                                          & 142dpi                                                         & RV\\_top                                                       & A1                                                             & P136                                                           & 0.03209193                                                     & 0.026205891                                                    & 0.000100362                                                    & 0.000000000                                                    & 0.000000000                                                   \\\\\n",
       "\t X512\\_Group1C\\_142dpi\\_RV\\_top\\_162\\_G\\_A2\\_P136.mzXML & 512                                                            & naive                                                          & 142dpi                                                         & RV\\_top                                                       & A2                                                             & P136                                                           & 0.02540288                                                     & 0.030534463                                                    & 0.000454363                                                    & 0.001898197                                                    & 0.000330184                                                   \\\\\n",
       "\t X513\\_Group1C\\_142dpi\\_RV\\_top\\_163\\_G\\_A3\\_P136.mzXML & 513                                                            & naive                                                          & 142dpi                                                         & RV\\_top                                                       & A3                                                             & P136                                                           & 0.03366528                                                     & 0.032277149                                                    & 0.000964191                                                    & 0.000102656                                                    & 0.000358707                                                   \\\\\n",
       "\t X514\\_Group1C\\_142dpi\\_RV\\_top\\_164\\_G\\_A4\\_P136.mzXML & 514                                                            & naive                                                          & 142dpi                                                         & RV\\_top                                                       & A4                                                             & P136                                                           & 0.01959612                                                     & 0.020882444                                                    & 0.000388447                                                    & 0.002484004                                                    & 0.000096300                                                   \\\\\n",
       "\t X515\\_Group1C\\_142dpi\\_RV\\_top\\_165\\_G\\_A5\\_P136.mzXML & 515                                                            & naive                                                          & 142dpi                                                         & RV\\_top                                                       & A5                                                             & P136                                                           & 0.05050674                                                     & 0.045026912                                                    & 0.000908792                                                    & 0.000529243                                                    & 0.000356704                                                   \\\\\n",
       "\t X531\\_Group1C\\_142dpi\\_RV\\_top\\_166\\_G\\_A6\\_P136.mzXML & 531                                                            & naive                                                          & 142dpi                                                         & RV\\_top                                                       & A6                                                             & P136                                                           & 0.01417874                                                     & 0.009011964                                                    & 0.000051900                                                    & 0.003505334                                                    & 0.001524456                                                   \\\\\n",
       "\\end{tabular}\n"
      ],
      "text/markdown": [
       "\n",
       "| filename | MouseID | Treatmentgroup | DPI | organ | well_position | plate | mass_400 | mass_500 | mass_600 | mass_700 | mass_800 |\n",
       "|---|---|---|---|---|---|---|---|---|---|---|---|\n",
       "| X511_Group1C_142dpi_RV_top_161_G_A1_P136.mzXML | 511                                            | naive                                          | 142dpi                                         | RV_top                                         | A1                                             | P136                                           | 0.03209193                                     | 0.026205891                                    | 0.000100362                                    | 0.000000000                                    | 0.000000000                                    |\n",
       "| X512_Group1C_142dpi_RV_top_162_G_A2_P136.mzXML | 512                                            | naive                                          | 142dpi                                         | RV_top                                         | A2                                             | P136                                           | 0.02540288                                     | 0.030534463                                    | 0.000454363                                    | 0.001898197                                    | 0.000330184                                    |\n",
       "| X513_Group1C_142dpi_RV_top_163_G_A3_P136.mzXML | 513                                            | naive                                          | 142dpi                                         | RV_top                                         | A3                                             | P136                                           | 0.03366528                                     | 0.032277149                                    | 0.000964191                                    | 0.000102656                                    | 0.000358707                                    |\n",
       "| X514_Group1C_142dpi_RV_top_164_G_A4_P136.mzXML | 514                                            | naive                                          | 142dpi                                         | RV_top                                         | A4                                             | P136                                           | 0.01959612                                     | 0.020882444                                    | 0.000388447                                    | 0.002484004                                    | 0.000096300                                    |\n",
       "| X515_Group1C_142dpi_RV_top_165_G_A5_P136.mzXML | 515                                            | naive                                          | 142dpi                                         | RV_top                                         | A5                                             | P136                                           | 0.05050674                                     | 0.045026912                                    | 0.000908792                                    | 0.000529243                                    | 0.000356704                                    |\n",
       "| X531_Group1C_142dpi_RV_top_166_G_A6_P136.mzXML | 531                                            | naive                                          | 142dpi                                         | RV_top                                         | A6                                             | P136                                           | 0.01417874                                     | 0.009011964                                    | 0.000051900                                    | 0.003505334                                    | 0.001524456                                    |\n",
       "\n"
      ],
      "text/plain": [
       "  filename                                       MouseID Treatmentgroup DPI   \n",
       "1 X511_Group1C_142dpi_RV_top_161_G_A1_P136.mzXML 511     naive          142dpi\n",
       "2 X512_Group1C_142dpi_RV_top_162_G_A2_P136.mzXML 512     naive          142dpi\n",
       "3 X513_Group1C_142dpi_RV_top_163_G_A3_P136.mzXML 513     naive          142dpi\n",
       "4 X514_Group1C_142dpi_RV_top_164_G_A4_P136.mzXML 514     naive          142dpi\n",
       "5 X515_Group1C_142dpi_RV_top_165_G_A5_P136.mzXML 515     naive          142dpi\n",
       "6 X531_Group1C_142dpi_RV_top_166_G_A6_P136.mzXML 531     naive          142dpi\n",
       "  organ  well_position plate mass_400   mass_500    mass_600    mass_700   \n",
       "1 RV_top A1            P136  0.03209193 0.026205891 0.000100362 0.000000000\n",
       "2 RV_top A2            P136  0.02540288 0.030534463 0.000454363 0.001898197\n",
       "3 RV_top A3            P136  0.03366528 0.032277149 0.000964191 0.000102656\n",
       "4 RV_top A4            P136  0.01959612 0.020882444 0.000388447 0.002484004\n",
       "5 RV_top A5            P136  0.05050674 0.045026912 0.000908792 0.000529243\n",
       "6 RV_top A6            P136  0.01417874 0.009011964 0.000051900 0.003505334\n",
       "  mass_800   \n",
       "1 0.000000000\n",
       "2 0.000330184\n",
       "3 0.000358707\n",
       "4 0.000096300\n",
       "5 0.000356704\n",
       "6 0.001524456"
      ]
     },
     "metadata": {},
     "output_type": "display_data"
    },
    {
     "data": {
      "text/html": [
       "<ol class=list-inline>\n",
       "\t<li>30</li>\n",
       "\t<li>12</li>\n",
       "</ol>\n"
      ],
      "text/latex": [
       "\\begin{enumerate*}\n",
       "\\item 30\n",
       "\\item 12\n",
       "\\end{enumerate*}\n"
      ],
      "text/markdown": [
       "1. 30\n",
       "2. 12\n",
       "\n",
       "\n"
      ],
      "text/plain": [
       "[1] 30 12"
      ]
     },
     "metadata": {},
     "output_type": "display_data"
    },
    {
     "data": {
      "text/html": [
       "<ol class=list-inline>\n",
       "\t<li>30</li>\n",
       "\t<li>5</li>\n",
       "</ol>\n"
      ],
      "text/latex": [
       "\\begin{enumerate*}\n",
       "\\item 30\n",
       "\\item 5\n",
       "\\end{enumerate*}\n"
      ],
      "text/markdown": [
       "1. 30\n",
       "2. 5\n",
       "\n",
       "\n"
      ],
      "text/plain": [
       "[1] 30  5"
      ]
     },
     "metadata": {},
     "output_type": "display_data"
    },
    {
     "data": {
      "text/html": [
       "<ol class=list-inline>\n",
       "\t<li>30</li>\n",
       "\t<li>5</li>\n",
       "</ol>\n"
      ],
      "text/latex": [
       "\\begin{enumerate*}\n",
       "\\item 30\n",
       "\\item 5\n",
       "\\end{enumerate*}\n"
      ],
      "text/markdown": [
       "1. 30\n",
       "2. 5\n",
       "\n",
       "\n"
      ],
      "text/plain": [
       "[1] 30  5"
      ]
     },
     "metadata": {},
     "output_type": "display_data"
    },
    {
     "data": {
      "text/html": [
       "<ol class=list-inline>\n",
       "\t<li>30</li>\n",
       "\t<li>12</li>\n",
       "</ol>\n"
      ],
      "text/latex": [
       "\\begin{enumerate*}\n",
       "\\item 30\n",
       "\\item 12\n",
       "\\end{enumerate*}\n"
      ],
      "text/markdown": [
       "1. 30\n",
       "2. 12\n",
       "\n",
       "\n"
      ],
      "text/plain": [
       "[1] 30 12"
      ]
     },
     "metadata": {},
     "output_type": "display_data"
    }
   ],
   "source": [
    "noMeta<-features_pos[,8:12]\n",
    "head(noMeta)\n",
    "not_zero<-which(colSums(noMeta) != 0)\n",
    "head(not_zero)\n",
    "nonzero <- noMeta[, not_zero]\n",
    "nonzero\n",
    "nonzero_wMeta<-cbind(features_pos[,1:7], nonzero)\n",
    "head(nonzero_wMeta)\n",
    "dim(features_pos)\n",
    "dim(noMeta)\n",
    "dim(nonzero)\n",
    "dim(nonzero_wMeta)"
   ]
  },
  {
   "cell_type": "code",
   "execution_count": 15,
   "metadata": {
    "scrolled": true
   },
   "outputs": [
    {
     "name": "stderr",
     "output_type": "stream",
     "text": [
      "Warning message in wilcox.test.default(x = c(0.000225908, 6.21e-05, 0.000269402, :\n",
      "\"cannot compute exact p-value with ties\"Warning message in wilcox.test.default(x = c(0, 0, 0.000224333, 0.002354155, 6.64e-05, :\n",
      "\"cannot compute exact p-value with ties\"Warning message in wilcox.test.default(x = c(0, 0, 0.000380998, 0.000709065, 0, :\n",
      "\"cannot compute exact p-value with ties\""
     ]
    },
    {
     "data": {
      "text/html": [
       "<ol class=list-inline>\n",
       "\t<li>0.460958749211566</li>\n",
       "\t<li>0.304590816047085</li>\n",
       "\t<li>0.678167266576102</li>\n",
       "\t<li>0.834686811544325</li>\n",
       "\t<li>0.715600391811381</li>\n",
       "</ol>\n"
      ],
      "text/latex": [
       "\\begin{enumerate*}\n",
       "\\item 0.460958749211566\n",
       "\\item 0.304590816047085\n",
       "\\item 0.678167266576102\n",
       "\\item 0.834686811544325\n",
       "\\item 0.715600391811381\n",
       "\\end{enumerate*}\n"
      ],
      "text/markdown": [
       "1. 0.460958749211566\n",
       "2. 0.304590816047085\n",
       "3. 0.678167266576102\n",
       "4. 0.834686811544325\n",
       "5. 0.715600391811381\n",
       "\n",
       "\n"
      ],
      "text/plain": [
       "[1] 0.4609587 0.3045908 0.6781673 0.8346868 0.7156004"
      ]
     },
     "metadata": {},
     "output_type": "display_data"
    },
    {
     "data": {
      "text/html": [
       "<ol class=list-inline>\n",
       "\t<li>0.834686811544325</li>\n",
       "\t<li>0.834686811544325</li>\n",
       "\t<li>0.834686811544325</li>\n",
       "\t<li>0.834686811544325</li>\n",
       "\t<li>0.834686811544325</li>\n",
       "</ol>\n"
      ],
      "text/latex": [
       "\\begin{enumerate*}\n",
       "\\item 0.834686811544325\n",
       "\\item 0.834686811544325\n",
       "\\item 0.834686811544325\n",
       "\\item 0.834686811544325\n",
       "\\item 0.834686811544325\n",
       "\\end{enumerate*}\n"
      ],
      "text/markdown": [
       "1. 0.834686811544325\n",
       "2. 0.834686811544325\n",
       "3. 0.834686811544325\n",
       "4. 0.834686811544325\n",
       "5. 0.834686811544325\n",
       "\n",
       "\n"
      ],
      "text/plain": [
       "[1] 0.8346868 0.8346868 0.8346868 0.8346868 0.8346868"
      ]
     },
     "metadata": {},
     "output_type": "display_data"
    }
   ],
   "source": [
    "pval<-c()\n",
    "\n",
    "for (i in 8:ncol(nonzero_wMeta)) \n",
    "pval<-c(pval,wilcox.test(nonzero_wMeta[,i]~nonzero_wMeta$Treatmentgroup)$p.value)\n",
    "head(pval)\n",
    "pAdj <- p.adjust(pval, method = c(\"fdr\"), n=length(pval)) \n",
    "head(pAdj) \n",
    "\n"
   ]
  },
  {
   "cell_type": "code",
   "execution_count": 16,
   "metadata": {
    "scrolled": true
   },
   "outputs": [
    {
     "data": {
      "text/html": [
       "5"
      ],
      "text/latex": [
       "5"
      ],
      "text/markdown": [
       "5"
      ],
      "text/plain": [
       "[1] 5"
      ]
     },
     "metadata": {},
     "output_type": "display_data"
    }
   ],
   "source": [
    "length(pval)"
   ]
  },
  {
   "cell_type": "code",
   "execution_count": 17,
   "metadata": {
    "scrolled": true
   },
   "outputs": [
    {
     "data": {
      "text/html": [
       "5"
      ],
      "text/latex": [
       "5"
      ],
      "text/markdown": [
       "5"
      ],
      "text/plain": [
       "[1] 5"
      ]
     },
     "metadata": {},
     "output_type": "display_data"
    }
   ],
   "source": [
    "length(pAdj)"
   ]
  },
  {
   "cell_type": "code",
   "execution_count": 18,
   "metadata": {},
   "outputs": [
    {
     "data": {
      "text/html": [
       "<ol class=list-inline>\n",
       "\t<li>2</li>\n",
       "\t<li>5</li>\n",
       "</ol>\n"
      ],
      "text/latex": [
       "\\begin{enumerate*}\n",
       "\\item 2\n",
       "\\item 5\n",
       "\\end{enumerate*}\n"
      ],
      "text/markdown": [
       "1. 2\n",
       "2. 5\n",
       "\n",
       "\n"
      ],
      "text/plain": [
       "[1] 2 5"
      ]
     },
     "metadata": {},
     "output_type": "display_data"
    },
    {
     "data": {
      "text/html": [
       "<table>\n",
       "<thead><tr><th></th><th scope=col>mass_400</th><th scope=col>mass_500</th><th scope=col>mass_600</th></tr></thead>\n",
       "<tbody>\n",
       "\t<tr><th scope=row>combo</th><td>0.02330307  </td><td>0.02050973  </td><td>0.0003496341</td></tr>\n",
       "\t<tr><th scope=row>naive</th><td>0.02678977  </td><td>0.02505881  </td><td>0.0004146444</td></tr>\n",
       "</tbody>\n",
       "</table>\n"
      ],
      "text/latex": [
       "\\begin{tabular}{r|lll}\n",
       "  & mass\\_400 & mass\\_500 & mass\\_600\\\\\n",
       "\\hline\n",
       "\tcombo & 0.02330307   & 0.02050973   & 0.0003496341\\\\\n",
       "\tnaive & 0.02678977   & 0.02505881   & 0.0004146444\\\\\n",
       "\\end{tabular}\n"
      ],
      "text/markdown": [
       "\n",
       "| <!--/--> | mass_400 | mass_500 | mass_600 |\n",
       "|---|---|---|---|\n",
       "| combo | 0.02330307   | 0.02050973   | 0.0003496341 |\n",
       "| naive | 0.02678977   | 0.02505881   | 0.0004146444 |\n",
       "\n"
      ],
      "text/plain": [
       "      mass_400   mass_500   mass_600    \n",
       "combo 0.02330307 0.02050973 0.0003496341\n",
       "naive 0.02678977 0.02505881 0.0004146444"
      ]
     },
     "metadata": {},
     "output_type": "display_data"
    },
    {
     "data": {
      "text/html": [
       "<dl class=dl-horizontal>\n",
       "\t<dt>mass_400</dt>\n",
       "\t\t<dd>0.86984964667156</dd>\n",
       "\t<dt>mass_500</dt>\n",
       "\t\t<dd>0.81846354740518</dd>\n",
       "\t<dt>mass_600</dt>\n",
       "\t\t<dd>0.843214410548734</dd>\n",
       "\t<dt>mass_700</dt>\n",
       "\t\t<dd>1.39467852929406</dd>\n",
       "\t<dt>mass_800</dt>\n",
       "\t\t<dd>2.24006632807383</dd>\n",
       "</dl>\n"
      ],
      "text/latex": [
       "\\begin{description*}\n",
       "\\item[mass\\textbackslash{}\\_400] 0.86984964667156\n",
       "\\item[mass\\textbackslash{}\\_500] 0.81846354740518\n",
       "\\item[mass\\textbackslash{}\\_600] 0.843214410548734\n",
       "\\item[mass\\textbackslash{}\\_700] 1.39467852929406\n",
       "\\item[mass\\textbackslash{}\\_800] 2.24006632807383\n",
       "\\end{description*}\n"
      ],
      "text/markdown": [
       "mass_400\n",
       ":   0.86984964667156mass_500\n",
       ":   0.81846354740518mass_600\n",
       ":   0.843214410548734mass_700\n",
       ":   1.39467852929406mass_800\n",
       ":   2.24006632807383\n",
       "\n"
      ],
      "text/plain": [
       " mass_400  mass_500  mass_600  mass_700  mass_800 \n",
       "0.8698496 0.8184635 0.8432144 1.3946785 2.2400663 "
      ]
     },
     "metadata": {},
     "output_type": "display_data"
    },
    {
     "data": {
      "text/html": [
       "<ol class=list-inline>\n",
       "\t<li>'numeric'</li>\n",
       "\t<li>'vector'</li>\n",
       "</ol>\n"
      ],
      "text/latex": [
       "\\begin{enumerate*}\n",
       "\\item 'numeric'\n",
       "\\item 'vector'\n",
       "\\end{enumerate*}\n"
      ],
      "text/markdown": [
       "1. 'numeric'\n",
       "2. 'vector'\n",
       "\n",
       "\n"
      ],
      "text/plain": [
       "[1] \"numeric\" \"vector\" "
      ]
     },
     "metadata": {},
     "output_type": "display_data"
    }
   ],
   "source": [
    "avg<- apply(nonzero_wMeta[,8:ncol(nonzero_wMeta)], 2, function(x) tapply(x, nonzero_wMeta$Treatmentgroup, function(x) mean(x))) \n",
    "\n",
    "dim(avg) \n",
    "\n",
    "avg[,1:3]\n",
    "\n",
    "fch <- apply(avg, 2, function(x) x[1]/x[2])\n",
    "\n",
    "head(fch)\n",
    "is(fch)"
   ]
  },
  {
   "cell_type": "code",
   "execution_count": 19,
   "metadata": {
    "scrolled": true
   },
   "outputs": [
    {
     "data": {
      "text/html": [
       "<dl class=dl-horizontal>\n",
       "\t<dt>mass_400</dt>\n",
       "\t\t<dd>0.86984964667156</dd>\n",
       "\t<dt>mass_500</dt>\n",
       "\t\t<dd>0.81846354740518</dd>\n",
       "\t<dt>mass_600</dt>\n",
       "\t\t<dd>0.843214410548734</dd>\n",
       "\t<dt>mass_700</dt>\n",
       "\t\t<dd>1.39467852929406</dd>\n",
       "\t<dt>mass_800</dt>\n",
       "\t\t<dd>2.24006632807383</dd>\n",
       "</dl>\n"
      ],
      "text/latex": [
       "\\begin{description*}\n",
       "\\item[mass\\textbackslash{}\\_400] 0.86984964667156\n",
       "\\item[mass\\textbackslash{}\\_500] 0.81846354740518\n",
       "\\item[mass\\textbackslash{}\\_600] 0.843214410548734\n",
       "\\item[mass\\textbackslash{}\\_700] 1.39467852929406\n",
       "\\item[mass\\textbackslash{}\\_800] 2.24006632807383\n",
       "\\end{description*}\n"
      ],
      "text/markdown": [
       "mass_400\n",
       ":   0.86984964667156mass_500\n",
       ":   0.81846354740518mass_600\n",
       ":   0.843214410548734mass_700\n",
       ":   1.39467852929406mass_800\n",
       ":   2.24006632807383\n",
       "\n"
      ],
      "text/plain": [
       " mass_400  mass_500  mass_600  mass_700  mass_800 \n",
       "0.8698496 0.8184635 0.8432144 1.3946785 2.2400663 "
      ]
     },
     "metadata": {},
     "output_type": "display_data"
    }
   ],
   "source": [
    "fch"
   ]
  },
  {
   "cell_type": "code",
   "execution_count": 20,
   "metadata": {
    "scrolled": false
   },
   "outputs": [],
   "source": [
    "df <- data.frame(fch,pval, pAdj)\n",
    "write.csv(df, \"PC-treat-RVT-wilcox-naive-combo.csv\")"
   ]
  },
  {
   "cell_type": "code",
   "execution_count": null,
   "metadata": {},
   "outputs": [],
   "source": []
  },
  {
   "cell_type": "code",
   "execution_count": null,
   "metadata": {},
   "outputs": [],
   "source": []
  },
  {
   "cell_type": "code",
   "execution_count": null,
   "metadata": {},
   "outputs": [],
   "source": []
  },
  {
   "cell_type": "code",
   "execution_count": null,
   "metadata": {},
   "outputs": [],
   "source": []
  },
  {
   "cell_type": "code",
   "execution_count": null,
   "metadata": {},
   "outputs": [],
   "source": []
  },
  {
   "cell_type": "code",
   "execution_count": null,
   "metadata": {},
   "outputs": [],
   "source": []
  }
 ],
 "metadata": {
  "kernelspec": {
   "display_name": "R",
   "language": "R",
   "name": "ir"
  },
  "language_info": {
   "codemirror_mode": "r",
   "file_extension": ".r",
   "mimetype": "text/x-r-source",
   "name": "R",
   "pygments_lexer": "r",
   "version": "3.6.1"
  }
 },
 "nbformat": 4,
 "nbformat_minor": 2
}
