{
 "cells": [
  {
   "cell_type": "code",
   "execution_count": 11,
   "metadata": {},
   "outputs": [],
   "source": [
    "a <- read.csv(\"03172021-PC-treatment-RVT-M-F.csv\")"
   ]
  },
  {
   "cell_type": "code",
   "execution_count": 12,
   "metadata": {},
   "outputs": [
    {
     "data": {
      "text/html": [
       "<table>\n",
       "<thead><tr><th scope=col>filename</th><th scope=col>MouseID</th><th scope=col>Treatmentgroup</th><th scope=col>DPI</th><th scope=col>organ</th><th scope=col>well_position</th><th scope=col>plate</th><th scope=col>mass_400</th><th scope=col>mass_500</th><th scope=col>mass_600</th><th scope=col>mass_700</th><th scope=col>mass_800</th></tr></thead>\n",
       "<tbody>\n",
       "\t<tr><td>X511_Group1C_142dpi_RV_top_161_G_A1_P136.mzXML</td><td>511                                           </td><td>naive                                         </td><td>142dpi                                        </td><td>RV_top                                        </td><td>A1                                            </td><td>P136                                          </td><td>0.03209193                                    </td><td>0.026205891                                   </td><td>0.000100362                                   </td><td>0.000000000                                   </td><td>0.000000000                                   </td></tr>\n",
       "\t<tr><td>X512_Group1C_142dpi_RV_top_162_G_A2_P136.mzXML</td><td>512                                           </td><td>naive                                         </td><td>142dpi                                        </td><td>RV_top                                        </td><td>A2                                            </td><td>P136                                          </td><td>0.02540288                                    </td><td>0.030534463                                   </td><td>0.000454363                                   </td><td>0.001898197                                   </td><td>0.000330184                                   </td></tr>\n",
       "\t<tr><td>X513_Group1C_142dpi_RV_top_163_G_A3_P136.mzXML</td><td>513                                           </td><td>naive                                         </td><td>142dpi                                        </td><td>RV_top                                        </td><td>A3                                            </td><td>P136                                          </td><td>0.03366528                                    </td><td>0.032277149                                   </td><td>0.000964191                                   </td><td>0.000102656                                   </td><td>0.000358707                                   </td></tr>\n",
       "\t<tr><td>X514_Group1C_142dpi_RV_top_164_G_A4_P136.mzXML</td><td>514                                           </td><td>naive                                         </td><td>142dpi                                        </td><td>RV_top                                        </td><td>A4                                            </td><td>P136                                          </td><td>0.01959612                                    </td><td>0.020882444                                   </td><td>0.000388447                                   </td><td>0.002484004                                   </td><td>0.000096300                                   </td></tr>\n",
       "\t<tr><td>X515_Group1C_142dpi_RV_top_165_G_A5_P136.mzXML</td><td>515                                           </td><td>naive                                         </td><td>142dpi                                        </td><td>RV_top                                        </td><td>A5                                            </td><td>P136                                          </td><td>0.05050674                                    </td><td>0.045026912                                   </td><td>0.000908792                                   </td><td>0.000529243                                   </td><td>0.000356704                                   </td></tr>\n",
       "\t<tr><td>X531_Group1C_142dpi_RV_top_166_G_A6_P136.mzXML</td><td>531                                           </td><td>naive                                         </td><td>142dpi                                        </td><td>RV_top                                        </td><td>A6                                            </td><td>P136                                          </td><td>0.01417874                                    </td><td>0.009011964                                   </td><td>0.000051900                                   </td><td>0.003505334                                   </td><td>0.001524456                                   </td></tr>\n",
       "</tbody>\n",
       "</table>\n"
      ],
      "text/latex": [
       "\\begin{tabular}{r|llllllllllll}\n",
       " filename & MouseID & Treatmentgroup & DPI & organ & well\\_position & plate & mass\\_400 & mass\\_500 & mass\\_600 & mass\\_700 & mass\\_800\\\\\n",
       "\\hline\n",
       "\t X511\\_Group1C\\_142dpi\\_RV\\_top\\_161\\_G\\_A1\\_P136.mzXML & 511                                                            & naive                                                          & 142dpi                                                         & RV\\_top                                                       & A1                                                             & P136                                                           & 0.03209193                                                     & 0.026205891                                                    & 0.000100362                                                    & 0.000000000                                                    & 0.000000000                                                   \\\\\n",
       "\t X512\\_Group1C\\_142dpi\\_RV\\_top\\_162\\_G\\_A2\\_P136.mzXML & 512                                                            & naive                                                          & 142dpi                                                         & RV\\_top                                                       & A2                                                             & P136                                                           & 0.02540288                                                     & 0.030534463                                                    & 0.000454363                                                    & 0.001898197                                                    & 0.000330184                                                   \\\\\n",
       "\t X513\\_Group1C\\_142dpi\\_RV\\_top\\_163\\_G\\_A3\\_P136.mzXML & 513                                                            & naive                                                          & 142dpi                                                         & RV\\_top                                                       & A3                                                             & P136                                                           & 0.03366528                                                     & 0.032277149                                                    & 0.000964191                                                    & 0.000102656                                                    & 0.000358707                                                   \\\\\n",
       "\t X514\\_Group1C\\_142dpi\\_RV\\_top\\_164\\_G\\_A4\\_P136.mzXML & 514                                                            & naive                                                          & 142dpi                                                         & RV\\_top                                                       & A4                                                             & P136                                                           & 0.01959612                                                     & 0.020882444                                                    & 0.000388447                                                    & 0.002484004                                                    & 0.000096300                                                   \\\\\n",
       "\t X515\\_Group1C\\_142dpi\\_RV\\_top\\_165\\_G\\_A5\\_P136.mzXML & 515                                                            & naive                                                          & 142dpi                                                         & RV\\_top                                                       & A5                                                             & P136                                                           & 0.05050674                                                     & 0.045026912                                                    & 0.000908792                                                    & 0.000529243                                                    & 0.000356704                                                   \\\\\n",
       "\t X531\\_Group1C\\_142dpi\\_RV\\_top\\_166\\_G\\_A6\\_P136.mzXML & 531                                                            & naive                                                          & 142dpi                                                         & RV\\_top                                                       & A6                                                             & P136                                                           & 0.01417874                                                     & 0.009011964                                                    & 0.000051900                                                    & 0.003505334                                                    & 0.001524456                                                   \\\\\n",
       "\\end{tabular}\n"
      ],
      "text/markdown": [
       "\n",
       "| filename | MouseID | Treatmentgroup | DPI | organ | well_position | plate | mass_400 | mass_500 | mass_600 | mass_700 | mass_800 |\n",
       "|---|---|---|---|---|---|---|---|---|---|---|---|\n",
       "| X511_Group1C_142dpi_RV_top_161_G_A1_P136.mzXML | 511                                            | naive                                          | 142dpi                                         | RV_top                                         | A1                                             | P136                                           | 0.03209193                                     | 0.026205891                                    | 0.000100362                                    | 0.000000000                                    | 0.000000000                                    |\n",
       "| X512_Group1C_142dpi_RV_top_162_G_A2_P136.mzXML | 512                                            | naive                                          | 142dpi                                         | RV_top                                         | A2                                             | P136                                           | 0.02540288                                     | 0.030534463                                    | 0.000454363                                    | 0.001898197                                    | 0.000330184                                    |\n",
       "| X513_Group1C_142dpi_RV_top_163_G_A3_P136.mzXML | 513                                            | naive                                          | 142dpi                                         | RV_top                                         | A3                                             | P136                                           | 0.03366528                                     | 0.032277149                                    | 0.000964191                                    | 0.000102656                                    | 0.000358707                                    |\n",
       "| X514_Group1C_142dpi_RV_top_164_G_A4_P136.mzXML | 514                                            | naive                                          | 142dpi                                         | RV_top                                         | A4                                             | P136                                           | 0.01959612                                     | 0.020882444                                    | 0.000388447                                    | 0.002484004                                    | 0.000096300                                    |\n",
       "| X515_Group1C_142dpi_RV_top_165_G_A5_P136.mzXML | 515                                            | naive                                          | 142dpi                                         | RV_top                                         | A5                                             | P136                                           | 0.05050674                                     | 0.045026912                                    | 0.000908792                                    | 0.000529243                                    | 0.000356704                                    |\n",
       "| X531_Group1C_142dpi_RV_top_166_G_A6_P136.mzXML | 531                                            | naive                                          | 142dpi                                         | RV_top                                         | A6                                             | P136                                           | 0.01417874                                     | 0.009011964                                    | 0.000051900                                    | 0.003505334                                    | 0.001524456                                    |\n",
       "\n"
      ],
      "text/plain": [
       "  filename                                       MouseID Treatmentgroup DPI   \n",
       "1 X511_Group1C_142dpi_RV_top_161_G_A1_P136.mzXML 511     naive          142dpi\n",
       "2 X512_Group1C_142dpi_RV_top_162_G_A2_P136.mzXML 512     naive          142dpi\n",
       "3 X513_Group1C_142dpi_RV_top_163_G_A3_P136.mzXML 513     naive          142dpi\n",
       "4 X514_Group1C_142dpi_RV_top_164_G_A4_P136.mzXML 514     naive          142dpi\n",
       "5 X515_Group1C_142dpi_RV_top_165_G_A5_P136.mzXML 515     naive          142dpi\n",
       "6 X531_Group1C_142dpi_RV_top_166_G_A6_P136.mzXML 531     naive          142dpi\n",
       "  organ  well_position plate mass_400   mass_500    mass_600    mass_700   \n",
       "1 RV_top A1            P136  0.03209193 0.026205891 0.000100362 0.000000000\n",
       "2 RV_top A2            P136  0.02540288 0.030534463 0.000454363 0.001898197\n",
       "3 RV_top A3            P136  0.03366528 0.032277149 0.000964191 0.000102656\n",
       "4 RV_top A4            P136  0.01959612 0.020882444 0.000388447 0.002484004\n",
       "5 RV_top A5            P136  0.05050674 0.045026912 0.000908792 0.000529243\n",
       "6 RV_top A6            P136  0.01417874 0.009011964 0.000051900 0.003505334\n",
       "  mass_800   \n",
       "1 0.000000000\n",
       "2 0.000330184\n",
       "3 0.000358707\n",
       "4 0.000096300\n",
       "5 0.000356704\n",
       "6 0.001524456"
      ]
     },
     "metadata": {},
     "output_type": "display_data"
    },
    {
     "data": {
      "text/html": [
       "<ol class=list-inline>\n",
       "\t<li>60</li>\n",
       "\t<li>12</li>\n",
       "</ol>\n"
      ],
      "text/latex": [
       "\\begin{enumerate*}\n",
       "\\item 60\n",
       "\\item 12\n",
       "\\end{enumerate*}\n"
      ],
      "text/markdown": [
       "1. 60\n",
       "2. 12\n",
       "\n",
       "\n"
      ],
      "text/plain": [
       "[1] 60 12"
      ]
     },
     "metadata": {},
     "output_type": "display_data"
    }
   ],
   "source": [
    "head(a)\n",
    "dim(a)"
   ]
  },
  {
   "cell_type": "code",
   "execution_count": 13,
   "metadata": {},
   "outputs": [
    {
     "data": {
      "text/html": [
       "<table>\n",
       "<thead><tr><th></th><th scope=col>filename</th><th scope=col>MouseID</th><th scope=col>Treatmentgroup</th><th scope=col>DPI</th><th scope=col>organ</th><th scope=col>well_position</th><th scope=col>plate</th><th scope=col>mass_400</th><th scope=col>mass_500</th><th scope=col>mass_600</th><th scope=col>mass_700</th><th scope=col>mass_800</th></tr></thead>\n",
       "<tbody>\n",
       "\t<tr><th scope=row>16</th><td>X581_Group3E_142dpi_RV_top_176_G_B4_P136.mzXML</td><td>581                                           </td><td>infected                                      </td><td>142dpi                                        </td><td>RV_top                                        </td><td>B4                                            </td><td>P136                                          </td><td>0.02837775                                    </td><td>0.022834037                                   </td><td>0.000315686                                   </td><td>0.000232400                                   </td><td>0.000000000                                   </td></tr>\n",
       "\t<tr><th scope=row>17</th><td>X582_Group3E_142dpi_RV_top_177_G_B5_P136.mzXML</td><td>582                                           </td><td>infected                                      </td><td>142dpi                                        </td><td>RV_top                                        </td><td>B5                                            </td><td>P136                                          </td><td>0.02871855                                    </td><td>0.020977836                                   </td><td>0.000173354                                   </td><td>0.000000000                                   </td><td>0.000000000                                   </td></tr>\n",
       "\t<tr><th scope=row>18</th><td>X583_Group3E_142dpi_RV_top_178_G_B6_P136.mzXML</td><td>583                                           </td><td>infected                                      </td><td>142dpi                                        </td><td>RV_top                                        </td><td>B6                                            </td><td>P136                                          </td><td>0.01799131                                    </td><td>0.016555770                                   </td><td>0.000197216                                   </td><td>0.002339933                                   </td><td>0.002753124                                   </td></tr>\n",
       "\t<tr><th scope=row>19</th><td>X584_Group3E_142dpi_RV_top_179_G_B7_P136.mzXML</td><td>584                                           </td><td>infected                                      </td><td>142dpi                                        </td><td>RV_top                                        </td><td>B7                                            </td><td>P136                                          </td><td>0.01916334                                    </td><td>0.012070618                                   </td><td>0.000131078                                   </td><td>0.000091700                                   </td><td>0.000000000                                   </td></tr>\n",
       "\t<tr><th scope=row>20</th><td>X585_Group3E_142dpi_RV_top_180_G_B8_P136.mzXML</td><td>585                                           </td><td>infected                                      </td><td>142dpi                                        </td><td>RV_top                                        </td><td>B8                                            </td><td>P136                                          </td><td>0.01071095                                    </td><td>0.007062768                                   </td><td>0.000000000                                   </td><td>0.000000000                                   </td><td>0.000000000                                   </td></tr>\n",
       "\t<tr><th scope=row>21</th><td>X611_Group9_142dpi_RV_top_181_G_B9_P136.mzXML </td><td>611                                           </td><td>combo                                         </td><td>142dpi                                        </td><td>RV_top                                        </td><td>B9                                            </td><td>P136                                          </td><td>0.01911695                                    </td><td>0.014857672                                   </td><td>0.000225908                                   </td><td>0.000000000                                   </td><td>0.000000000                                   </td></tr>\n",
       "</tbody>\n",
       "</table>\n"
      ],
      "text/latex": [
       "\\begin{tabular}{r|llllllllllll}\n",
       "  & filename & MouseID & Treatmentgroup & DPI & organ & well\\_position & plate & mass\\_400 & mass\\_500 & mass\\_600 & mass\\_700 & mass\\_800\\\\\n",
       "\\hline\n",
       "\t16 & X581\\_Group3E\\_142dpi\\_RV\\_top\\_176\\_G\\_B4\\_P136.mzXML & 581                                                            & infected                                                       & 142dpi                                                         & RV\\_top                                                       & B4                                                             & P136                                                           & 0.02837775                                                     & 0.022834037                                                    & 0.000315686                                                    & 0.000232400                                                    & 0.000000000                                                   \\\\\n",
       "\t17 & X582\\_Group3E\\_142dpi\\_RV\\_top\\_177\\_G\\_B5\\_P136.mzXML & 582                                                            & infected                                                       & 142dpi                                                         & RV\\_top                                                       & B5                                                             & P136                                                           & 0.02871855                                                     & 0.020977836                                                    & 0.000173354                                                    & 0.000000000                                                    & 0.000000000                                                   \\\\\n",
       "\t18 & X583\\_Group3E\\_142dpi\\_RV\\_top\\_178\\_G\\_B6\\_P136.mzXML & 583                                                            & infected                                                       & 142dpi                                                         & RV\\_top                                                       & B6                                                             & P136                                                           & 0.01799131                                                     & 0.016555770                                                    & 0.000197216                                                    & 0.002339933                                                    & 0.002753124                                                   \\\\\n",
       "\t19 & X584\\_Group3E\\_142dpi\\_RV\\_top\\_179\\_G\\_B7\\_P136.mzXML & 584                                                            & infected                                                       & 142dpi                                                         & RV\\_top                                                       & B7                                                             & P136                                                           & 0.01916334                                                     & 0.012070618                                                    & 0.000131078                                                    & 0.000091700                                                    & 0.000000000                                                   \\\\\n",
       "\t20 & X585\\_Group3E\\_142dpi\\_RV\\_top\\_180\\_G\\_B8\\_P136.mzXML & 585                                                            & infected                                                       & 142dpi                                                         & RV\\_top                                                       & B8                                                             & P136                                                           & 0.01071095                                                     & 0.007062768                                                    & 0.000000000                                                    & 0.000000000                                                    & 0.000000000                                                   \\\\\n",
       "\t21 & X611\\_Group9\\_142dpi\\_RV\\_top\\_181\\_G\\_B9\\_P136.mzXML  & 611                                                            & combo                                                          & 142dpi                                                         & RV\\_top                                                       & B9                                                             & P136                                                           & 0.01911695                                                     & 0.014857672                                                    & 0.000225908                                                    & 0.000000000                                                    & 0.000000000                                                   \\\\\n",
       "\\end{tabular}\n"
      ],
      "text/markdown": [
       "\n",
       "| <!--/--> | filename | MouseID | Treatmentgroup | DPI | organ | well_position | plate | mass_400 | mass_500 | mass_600 | mass_700 | mass_800 |\n",
       "|---|---|---|---|---|---|---|---|---|---|---|---|---|\n",
       "| 16 | X581_Group3E_142dpi_RV_top_176_G_B4_P136.mzXML | 581                                            | infected                                       | 142dpi                                         | RV_top                                         | B4                                             | P136                                           | 0.02837775                                     | 0.022834037                                    | 0.000315686                                    | 0.000232400                                    | 0.000000000                                    |\n",
       "| 17 | X582_Group3E_142dpi_RV_top_177_G_B5_P136.mzXML | 582                                            | infected                                       | 142dpi                                         | RV_top                                         | B5                                             | P136                                           | 0.02871855                                     | 0.020977836                                    | 0.000173354                                    | 0.000000000                                    | 0.000000000                                    |\n",
       "| 18 | X583_Group3E_142dpi_RV_top_178_G_B6_P136.mzXML | 583                                            | infected                                       | 142dpi                                         | RV_top                                         | B6                                             | P136                                           | 0.01799131                                     | 0.016555770                                    | 0.000197216                                    | 0.002339933                                    | 0.002753124                                    |\n",
       "| 19 | X584_Group3E_142dpi_RV_top_179_G_B7_P136.mzXML | 584                                            | infected                                       | 142dpi                                         | RV_top                                         | B7                                             | P136                                           | 0.01916334                                     | 0.012070618                                    | 0.000131078                                    | 0.000091700                                    | 0.000000000                                    |\n",
       "| 20 | X585_Group3E_142dpi_RV_top_180_G_B8_P136.mzXML | 585                                            | infected                                       | 142dpi                                         | RV_top                                         | B8                                             | P136                                           | 0.01071095                                     | 0.007062768                                    | 0.000000000                                    | 0.000000000                                    | 0.000000000                                    |\n",
       "| 21 | X611_Group9_142dpi_RV_top_181_G_B9_P136.mzXML  | 611                                            | combo                                          | 142dpi                                         | RV_top                                         | B9                                             | P136                                           | 0.01911695                                     | 0.014857672                                    | 0.000225908                                    | 0.000000000                                    | 0.000000000                                    |\n",
       "\n"
      ],
      "text/plain": [
       "   filename                                       MouseID Treatmentgroup DPI   \n",
       "16 X581_Group3E_142dpi_RV_top_176_G_B4_P136.mzXML 581     infected       142dpi\n",
       "17 X582_Group3E_142dpi_RV_top_177_G_B5_P136.mzXML 582     infected       142dpi\n",
       "18 X583_Group3E_142dpi_RV_top_178_G_B6_P136.mzXML 583     infected       142dpi\n",
       "19 X584_Group3E_142dpi_RV_top_179_G_B7_P136.mzXML 584     infected       142dpi\n",
       "20 X585_Group3E_142dpi_RV_top_180_G_B8_P136.mzXML 585     infected       142dpi\n",
       "21 X611_Group9_142dpi_RV_top_181_G_B9_P136.mzXML  611     combo          142dpi\n",
       "   organ  well_position plate mass_400   mass_500    mass_600    mass_700   \n",
       "16 RV_top B4            P136  0.02837775 0.022834037 0.000315686 0.000232400\n",
       "17 RV_top B5            P136  0.02871855 0.020977836 0.000173354 0.000000000\n",
       "18 RV_top B6            P136  0.01799131 0.016555770 0.000197216 0.002339933\n",
       "19 RV_top B7            P136  0.01916334 0.012070618 0.000131078 0.000091700\n",
       "20 RV_top B8            P136  0.01071095 0.007062768 0.000000000 0.000000000\n",
       "21 RV_top B9            P136  0.01911695 0.014857672 0.000225908 0.000000000\n",
       "   mass_800   \n",
       "16 0.000000000\n",
       "17 0.000000000\n",
       "18 0.002753124\n",
       "19 0.000000000\n",
       "20 0.000000000\n",
       "21 0.000000000"
      ]
     },
     "metadata": {},
     "output_type": "display_data"
    },
    {
     "data": {
      "text/html": [
       "<ol class=list-inline>\n",
       "\t<li>30</li>\n",
       "\t<li>12</li>\n",
       "</ol>\n"
      ],
      "text/latex": [
       "\\begin{enumerate*}\n",
       "\\item 30\n",
       "\\item 12\n",
       "\\end{enumerate*}\n"
      ],
      "text/markdown": [
       "1. 30\n",
       "2. 12\n",
       "\n",
       "\n"
      ],
      "text/plain": [
       "[1] 30 12"
      ]
     },
     "metadata": {},
     "output_type": "display_data"
    }
   ],
   "source": [
    "features_pos<-droplevels(subset(a, a$Treatmentgroup==c(\"infected\")|a$Treatmentgroup==c(\"combo\")))\n",
    "head(features_pos)\n",
    "dim(features_pos)"
   ]
  },
  {
   "cell_type": "code",
   "execution_count": 14,
   "metadata": {
    "scrolled": false
   },
   "outputs": [
    {
     "data": {
      "text/html": [
       "<table>\n",
       "<thead><tr><th></th><th scope=col>mass_400</th><th scope=col>mass_500</th><th scope=col>mass_600</th><th scope=col>mass_700</th><th scope=col>mass_800</th></tr></thead>\n",
       "<tbody>\n",
       "\t<tr><th scope=row>16</th><td>0.02837775 </td><td>0.022834037</td><td>0.000315686</td><td>0.000232400</td><td>0.000000000</td></tr>\n",
       "\t<tr><th scope=row>17</th><td>0.02871855 </td><td>0.020977836</td><td>0.000173354</td><td>0.000000000</td><td>0.000000000</td></tr>\n",
       "\t<tr><th scope=row>18</th><td>0.01799131 </td><td>0.016555770</td><td>0.000197216</td><td>0.002339933</td><td>0.002753124</td></tr>\n",
       "\t<tr><th scope=row>19</th><td>0.01916334 </td><td>0.012070618</td><td>0.000131078</td><td>0.000091700</td><td>0.000000000</td></tr>\n",
       "\t<tr><th scope=row>20</th><td>0.01071095 </td><td>0.007062768</td><td>0.000000000</td><td>0.000000000</td><td>0.000000000</td></tr>\n",
       "\t<tr><th scope=row>21</th><td>0.01911695 </td><td>0.014857672</td><td>0.000225908</td><td>0.000000000</td><td>0.000000000</td></tr>\n",
       "</tbody>\n",
       "</table>\n"
      ],
      "text/latex": [
       "\\begin{tabular}{r|lllll}\n",
       "  & mass\\_400 & mass\\_500 & mass\\_600 & mass\\_700 & mass\\_800\\\\\n",
       "\\hline\n",
       "\t16 & 0.02837775  & 0.022834037 & 0.000315686 & 0.000232400 & 0.000000000\\\\\n",
       "\t17 & 0.02871855  & 0.020977836 & 0.000173354 & 0.000000000 & 0.000000000\\\\\n",
       "\t18 & 0.01799131  & 0.016555770 & 0.000197216 & 0.002339933 & 0.002753124\\\\\n",
       "\t19 & 0.01916334  & 0.012070618 & 0.000131078 & 0.000091700 & 0.000000000\\\\\n",
       "\t20 & 0.01071095  & 0.007062768 & 0.000000000 & 0.000000000 & 0.000000000\\\\\n",
       "\t21 & 0.01911695  & 0.014857672 & 0.000225908 & 0.000000000 & 0.000000000\\\\\n",
       "\\end{tabular}\n"
      ],
      "text/markdown": [
       "\n",
       "| <!--/--> | mass_400 | mass_500 | mass_600 | mass_700 | mass_800 |\n",
       "|---|---|---|---|---|---|\n",
       "| 16 | 0.02837775  | 0.022834037 | 0.000315686 | 0.000232400 | 0.000000000 |\n",
       "| 17 | 0.02871855  | 0.020977836 | 0.000173354 | 0.000000000 | 0.000000000 |\n",
       "| 18 | 0.01799131  | 0.016555770 | 0.000197216 | 0.002339933 | 0.002753124 |\n",
       "| 19 | 0.01916334  | 0.012070618 | 0.000131078 | 0.000091700 | 0.000000000 |\n",
       "| 20 | 0.01071095  | 0.007062768 | 0.000000000 | 0.000000000 | 0.000000000 |\n",
       "| 21 | 0.01911695  | 0.014857672 | 0.000225908 | 0.000000000 | 0.000000000 |\n",
       "\n"
      ],
      "text/plain": [
       "   mass_400   mass_500    mass_600    mass_700    mass_800   \n",
       "16 0.02837775 0.022834037 0.000315686 0.000232400 0.000000000\n",
       "17 0.02871855 0.020977836 0.000173354 0.000000000 0.000000000\n",
       "18 0.01799131 0.016555770 0.000197216 0.002339933 0.002753124\n",
       "19 0.01916334 0.012070618 0.000131078 0.000091700 0.000000000\n",
       "20 0.01071095 0.007062768 0.000000000 0.000000000 0.000000000\n",
       "21 0.01911695 0.014857672 0.000225908 0.000000000 0.000000000"
      ]
     },
     "metadata": {},
     "output_type": "display_data"
    },
    {
     "data": {
      "text/html": [
       "<dl class=dl-horizontal>\n",
       "\t<dt>mass_400</dt>\n",
       "\t\t<dd>1</dd>\n",
       "\t<dt>mass_500</dt>\n",
       "\t\t<dd>2</dd>\n",
       "\t<dt>mass_600</dt>\n",
       "\t\t<dd>3</dd>\n",
       "\t<dt>mass_700</dt>\n",
       "\t\t<dd>4</dd>\n",
       "\t<dt>mass_800</dt>\n",
       "\t\t<dd>5</dd>\n",
       "</dl>\n"
      ],
      "text/latex": [
       "\\begin{description*}\n",
       "\\item[mass\\textbackslash{}\\_400] 1\n",
       "\\item[mass\\textbackslash{}\\_500] 2\n",
       "\\item[mass\\textbackslash{}\\_600] 3\n",
       "\\item[mass\\textbackslash{}\\_700] 4\n",
       "\\item[mass\\textbackslash{}\\_800] 5\n",
       "\\end{description*}\n"
      ],
      "text/markdown": [
       "mass_400\n",
       ":   1mass_500\n",
       ":   2mass_600\n",
       ":   3mass_700\n",
       ":   4mass_800\n",
       ":   5\n",
       "\n"
      ],
      "text/plain": [
       "mass_400 mass_500 mass_600 mass_700 mass_800 \n",
       "       1        2        3        4        5 "
      ]
     },
     "metadata": {},
     "output_type": "display_data"
    },
    {
     "data": {
      "text/html": [
       "<table>\n",
       "<thead><tr><th></th><th scope=col>mass_400</th><th scope=col>mass_500</th><th scope=col>mass_600</th><th scope=col>mass_700</th><th scope=col>mass_800</th></tr></thead>\n",
       "<tbody>\n",
       "\t<tr><th scope=row>16</th><td>0.02837775 </td><td>0.022834037</td><td>0.000315686</td><td>0.000232400</td><td>0.000000000</td></tr>\n",
       "\t<tr><th scope=row>17</th><td>0.02871855 </td><td>0.020977836</td><td>0.000173354</td><td>0.000000000</td><td>0.000000000</td></tr>\n",
       "\t<tr><th scope=row>18</th><td>0.01799131 </td><td>0.016555770</td><td>0.000197216</td><td>0.002339933</td><td>0.002753124</td></tr>\n",
       "\t<tr><th scope=row>19</th><td>0.01916334 </td><td>0.012070618</td><td>0.000131078</td><td>0.000091700</td><td>0.000000000</td></tr>\n",
       "\t<tr><th scope=row>20</th><td>0.01071095 </td><td>0.007062768</td><td>0.000000000</td><td>0.000000000</td><td>0.000000000</td></tr>\n",
       "\t<tr><th scope=row>21</th><td>0.01911695 </td><td>0.014857672</td><td>0.000225908</td><td>0.000000000</td><td>0.000000000</td></tr>\n",
       "\t<tr><th scope=row>22</th><td>0.01980490 </td><td>0.013624078</td><td>0.000062100</td><td>0.000000000</td><td>0.000000000</td></tr>\n",
       "\t<tr><th scope=row>23</th><td>0.02082919 </td><td>0.021061013</td><td>0.000269402</td><td>0.000224333</td><td>0.000380998</td></tr>\n",
       "\t<tr><th scope=row>24</th><td>0.04126681 </td><td>0.036969392</td><td>0.000748420</td><td>0.002354155</td><td>0.000709065</td></tr>\n",
       "\t<tr><th scope=row>25</th><td>0.02815433 </td><td>0.026192065</td><td>0.000672882</td><td>0.000066400</td><td>0.000000000</td></tr>\n",
       "\t<tr><th scope=row>31</th><td>0.02737216 </td><td>0.019342261</td><td>0.000073400</td><td>0.002431999</td><td>0.000326417</td></tr>\n",
       "\t<tr><th scope=row>32</th><td>0.02655763 </td><td>0.021274632</td><td>0.000449218</td><td>0.001106250</td><td>0.001861606</td></tr>\n",
       "\t<tr><th scope=row>33</th><td>0.02757191 </td><td>0.018468214</td><td>0.000209633</td><td>0.000000000</td><td>0.000000000</td></tr>\n",
       "\t<tr><th scope=row>34</th><td>0.03219936 </td><td>0.030326058</td><td>0.000374924</td><td>0.004210324</td><td>0.001331910</td></tr>\n",
       "\t<tr><th scope=row>35</th><td>0.01875308 </td><td>0.015342243</td><td>0.000272379</td><td>0.000073700</td><td>0.000000000</td></tr>\n",
       "\t<tr><th scope=row>36</th><td>0.02054337 </td><td>0.017100891</td><td>0.000216527</td><td>0.000514048</td><td>0.000588570</td></tr>\n",
       "\t<tr><th scope=row>37</th><td>0.01547568 </td><td>0.015357306</td><td>0.000230187</td><td>0.000000000</td><td>0.000000000</td></tr>\n",
       "\t<tr><th scope=row>38</th><td>0.01637600 </td><td>0.011817208</td><td>0.000182800</td><td>0.000000000</td><td>0.000000000</td></tr>\n",
       "\t<tr><th scope=row>39</th><td>0.02661969 </td><td>0.023592709</td><td>0.000492397</td><td>0.001057060</td><td>0.001039397</td></tr>\n",
       "\t<tr><th scope=row>40</th><td>0.01817152 </td><td>0.011984734</td><td>0.000000000</td><td>0.000116150</td><td>0.000000000</td></tr>\n",
       "\t<tr><th scope=row>46</th><td>0.04429274 </td><td>0.042069384</td><td>0.001250248</td><td>0.015092129</td><td>0.005248017</td></tr>\n",
       "\t<tr><th scope=row>47</th><td>0.01910463 </td><td>0.019862499</td><td>0.000800215</td><td>0.006109785</td><td>0.003366342</td></tr>\n",
       "\t<tr><th scope=row>48</th><td>0.03257538 </td><td>0.024944813</td><td>0.000264527</td><td>0.002440796</td><td>0.001635274</td></tr>\n",
       "\t<tr><th scope=row>49</th><td>0.02075309 </td><td>0.017892875</td><td>0.000393003</td><td>0.001753509</td><td>0.000831877</td></tr>\n",
       "\t<tr><th scope=row>50</th><td>0.02112558 </td><td>0.018483706</td><td>0.000612078</td><td>0.008863277</td><td>0.000593109</td></tr>\n",
       "\t<tr><th scope=row>51</th><td>0.01635885 </td><td>0.013551280</td><td>0.000095700</td><td>0.000048300</td><td>0.000000000</td></tr>\n",
       "\t<tr><th scope=row>52</th><td>0.01786926 </td><td>0.018779125</td><td>0.000221362</td><td>0.000548581</td><td>0.000788571</td></tr>\n",
       "\t<tr><th scope=row>53</th><td>0.02858034 </td><td>0.029898277</td><td>0.000849274</td><td>0.007649603</td><td>0.003523994</td></tr>\n",
       "\t<tr><th scope=row>54</th><td>0.02493104 </td><td>0.024486902</td><td>0.000371469</td><td>0.000871385</td><td>0.000491451</td></tr>\n",
       "\t<tr><th scope=row>55</th><td>0.03544811 </td><td>0.028373226</td><td>0.000606084</td><td>0.005327496</td><td>0.004334811</td></tr>\n",
       "</tbody>\n",
       "</table>\n"
      ],
      "text/latex": [
       "\\begin{tabular}{r|lllll}\n",
       "  & mass\\_400 & mass\\_500 & mass\\_600 & mass\\_700 & mass\\_800\\\\\n",
       "\\hline\n",
       "\t16 & 0.02837775  & 0.022834037 & 0.000315686 & 0.000232400 & 0.000000000\\\\\n",
       "\t17 & 0.02871855  & 0.020977836 & 0.000173354 & 0.000000000 & 0.000000000\\\\\n",
       "\t18 & 0.01799131  & 0.016555770 & 0.000197216 & 0.002339933 & 0.002753124\\\\\n",
       "\t19 & 0.01916334  & 0.012070618 & 0.000131078 & 0.000091700 & 0.000000000\\\\\n",
       "\t20 & 0.01071095  & 0.007062768 & 0.000000000 & 0.000000000 & 0.000000000\\\\\n",
       "\t21 & 0.01911695  & 0.014857672 & 0.000225908 & 0.000000000 & 0.000000000\\\\\n",
       "\t22 & 0.01980490  & 0.013624078 & 0.000062100 & 0.000000000 & 0.000000000\\\\\n",
       "\t23 & 0.02082919  & 0.021061013 & 0.000269402 & 0.000224333 & 0.000380998\\\\\n",
       "\t24 & 0.04126681  & 0.036969392 & 0.000748420 & 0.002354155 & 0.000709065\\\\\n",
       "\t25 & 0.02815433  & 0.026192065 & 0.000672882 & 0.000066400 & 0.000000000\\\\\n",
       "\t31 & 0.02737216  & 0.019342261 & 0.000073400 & 0.002431999 & 0.000326417\\\\\n",
       "\t32 & 0.02655763  & 0.021274632 & 0.000449218 & 0.001106250 & 0.001861606\\\\\n",
       "\t33 & 0.02757191  & 0.018468214 & 0.000209633 & 0.000000000 & 0.000000000\\\\\n",
       "\t34 & 0.03219936  & 0.030326058 & 0.000374924 & 0.004210324 & 0.001331910\\\\\n",
       "\t35 & 0.01875308  & 0.015342243 & 0.000272379 & 0.000073700 & 0.000000000\\\\\n",
       "\t36 & 0.02054337  & 0.017100891 & 0.000216527 & 0.000514048 & 0.000588570\\\\\n",
       "\t37 & 0.01547568  & 0.015357306 & 0.000230187 & 0.000000000 & 0.000000000\\\\\n",
       "\t38 & 0.01637600  & 0.011817208 & 0.000182800 & 0.000000000 & 0.000000000\\\\\n",
       "\t39 & 0.02661969  & 0.023592709 & 0.000492397 & 0.001057060 & 0.001039397\\\\\n",
       "\t40 & 0.01817152  & 0.011984734 & 0.000000000 & 0.000116150 & 0.000000000\\\\\n",
       "\t46 & 0.04429274  & 0.042069384 & 0.001250248 & 0.015092129 & 0.005248017\\\\\n",
       "\t47 & 0.01910463  & 0.019862499 & 0.000800215 & 0.006109785 & 0.003366342\\\\\n",
       "\t48 & 0.03257538  & 0.024944813 & 0.000264527 & 0.002440796 & 0.001635274\\\\\n",
       "\t49 & 0.02075309  & 0.017892875 & 0.000393003 & 0.001753509 & 0.000831877\\\\\n",
       "\t50 & 0.02112558  & 0.018483706 & 0.000612078 & 0.008863277 & 0.000593109\\\\\n",
       "\t51 & 0.01635885  & 0.013551280 & 0.000095700 & 0.000048300 & 0.000000000\\\\\n",
       "\t52 & 0.01786926  & 0.018779125 & 0.000221362 & 0.000548581 & 0.000788571\\\\\n",
       "\t53 & 0.02858034  & 0.029898277 & 0.000849274 & 0.007649603 & 0.003523994\\\\\n",
       "\t54 & 0.02493104  & 0.024486902 & 0.000371469 & 0.000871385 & 0.000491451\\\\\n",
       "\t55 & 0.03544811  & 0.028373226 & 0.000606084 & 0.005327496 & 0.004334811\\\\\n",
       "\\end{tabular}\n"
      ],
      "text/markdown": [
       "\n",
       "| <!--/--> | mass_400 | mass_500 | mass_600 | mass_700 | mass_800 |\n",
       "|---|---|---|---|---|---|\n",
       "| 16 | 0.02837775  | 0.022834037 | 0.000315686 | 0.000232400 | 0.000000000 |\n",
       "| 17 | 0.02871855  | 0.020977836 | 0.000173354 | 0.000000000 | 0.000000000 |\n",
       "| 18 | 0.01799131  | 0.016555770 | 0.000197216 | 0.002339933 | 0.002753124 |\n",
       "| 19 | 0.01916334  | 0.012070618 | 0.000131078 | 0.000091700 | 0.000000000 |\n",
       "| 20 | 0.01071095  | 0.007062768 | 0.000000000 | 0.000000000 | 0.000000000 |\n",
       "| 21 | 0.01911695  | 0.014857672 | 0.000225908 | 0.000000000 | 0.000000000 |\n",
       "| 22 | 0.01980490  | 0.013624078 | 0.000062100 | 0.000000000 | 0.000000000 |\n",
       "| 23 | 0.02082919  | 0.021061013 | 0.000269402 | 0.000224333 | 0.000380998 |\n",
       "| 24 | 0.04126681  | 0.036969392 | 0.000748420 | 0.002354155 | 0.000709065 |\n",
       "| 25 | 0.02815433  | 0.026192065 | 0.000672882 | 0.000066400 | 0.000000000 |\n",
       "| 31 | 0.02737216  | 0.019342261 | 0.000073400 | 0.002431999 | 0.000326417 |\n",
       "| 32 | 0.02655763  | 0.021274632 | 0.000449218 | 0.001106250 | 0.001861606 |\n",
       "| 33 | 0.02757191  | 0.018468214 | 0.000209633 | 0.000000000 | 0.000000000 |\n",
       "| 34 | 0.03219936  | 0.030326058 | 0.000374924 | 0.004210324 | 0.001331910 |\n",
       "| 35 | 0.01875308  | 0.015342243 | 0.000272379 | 0.000073700 | 0.000000000 |\n",
       "| 36 | 0.02054337  | 0.017100891 | 0.000216527 | 0.000514048 | 0.000588570 |\n",
       "| 37 | 0.01547568  | 0.015357306 | 0.000230187 | 0.000000000 | 0.000000000 |\n",
       "| 38 | 0.01637600  | 0.011817208 | 0.000182800 | 0.000000000 | 0.000000000 |\n",
       "| 39 | 0.02661969  | 0.023592709 | 0.000492397 | 0.001057060 | 0.001039397 |\n",
       "| 40 | 0.01817152  | 0.011984734 | 0.000000000 | 0.000116150 | 0.000000000 |\n",
       "| 46 | 0.04429274  | 0.042069384 | 0.001250248 | 0.015092129 | 0.005248017 |\n",
       "| 47 | 0.01910463  | 0.019862499 | 0.000800215 | 0.006109785 | 0.003366342 |\n",
       "| 48 | 0.03257538  | 0.024944813 | 0.000264527 | 0.002440796 | 0.001635274 |\n",
       "| 49 | 0.02075309  | 0.017892875 | 0.000393003 | 0.001753509 | 0.000831877 |\n",
       "| 50 | 0.02112558  | 0.018483706 | 0.000612078 | 0.008863277 | 0.000593109 |\n",
       "| 51 | 0.01635885  | 0.013551280 | 0.000095700 | 0.000048300 | 0.000000000 |\n",
       "| 52 | 0.01786926  | 0.018779125 | 0.000221362 | 0.000548581 | 0.000788571 |\n",
       "| 53 | 0.02858034  | 0.029898277 | 0.000849274 | 0.007649603 | 0.003523994 |\n",
       "| 54 | 0.02493104  | 0.024486902 | 0.000371469 | 0.000871385 | 0.000491451 |\n",
       "| 55 | 0.03544811  | 0.028373226 | 0.000606084 | 0.005327496 | 0.004334811 |\n",
       "\n"
      ],
      "text/plain": [
       "   mass_400   mass_500    mass_600    mass_700    mass_800   \n",
       "16 0.02837775 0.022834037 0.000315686 0.000232400 0.000000000\n",
       "17 0.02871855 0.020977836 0.000173354 0.000000000 0.000000000\n",
       "18 0.01799131 0.016555770 0.000197216 0.002339933 0.002753124\n",
       "19 0.01916334 0.012070618 0.000131078 0.000091700 0.000000000\n",
       "20 0.01071095 0.007062768 0.000000000 0.000000000 0.000000000\n",
       "21 0.01911695 0.014857672 0.000225908 0.000000000 0.000000000\n",
       "22 0.01980490 0.013624078 0.000062100 0.000000000 0.000000000\n",
       "23 0.02082919 0.021061013 0.000269402 0.000224333 0.000380998\n",
       "24 0.04126681 0.036969392 0.000748420 0.002354155 0.000709065\n",
       "25 0.02815433 0.026192065 0.000672882 0.000066400 0.000000000\n",
       "31 0.02737216 0.019342261 0.000073400 0.002431999 0.000326417\n",
       "32 0.02655763 0.021274632 0.000449218 0.001106250 0.001861606\n",
       "33 0.02757191 0.018468214 0.000209633 0.000000000 0.000000000\n",
       "34 0.03219936 0.030326058 0.000374924 0.004210324 0.001331910\n",
       "35 0.01875308 0.015342243 0.000272379 0.000073700 0.000000000\n",
       "36 0.02054337 0.017100891 0.000216527 0.000514048 0.000588570\n",
       "37 0.01547568 0.015357306 0.000230187 0.000000000 0.000000000\n",
       "38 0.01637600 0.011817208 0.000182800 0.000000000 0.000000000\n",
       "39 0.02661969 0.023592709 0.000492397 0.001057060 0.001039397\n",
       "40 0.01817152 0.011984734 0.000000000 0.000116150 0.000000000\n",
       "46 0.04429274 0.042069384 0.001250248 0.015092129 0.005248017\n",
       "47 0.01910463 0.019862499 0.000800215 0.006109785 0.003366342\n",
       "48 0.03257538 0.024944813 0.000264527 0.002440796 0.001635274\n",
       "49 0.02075309 0.017892875 0.000393003 0.001753509 0.000831877\n",
       "50 0.02112558 0.018483706 0.000612078 0.008863277 0.000593109\n",
       "51 0.01635885 0.013551280 0.000095700 0.000048300 0.000000000\n",
       "52 0.01786926 0.018779125 0.000221362 0.000548581 0.000788571\n",
       "53 0.02858034 0.029898277 0.000849274 0.007649603 0.003523994\n",
       "54 0.02493104 0.024486902 0.000371469 0.000871385 0.000491451\n",
       "55 0.03544811 0.028373226 0.000606084 0.005327496 0.004334811"
      ]
     },
     "metadata": {},
     "output_type": "display_data"
    },
    {
     "data": {
      "text/html": [
       "<table>\n",
       "<thead><tr><th></th><th scope=col>filename</th><th scope=col>MouseID</th><th scope=col>Treatmentgroup</th><th scope=col>DPI</th><th scope=col>organ</th><th scope=col>well_position</th><th scope=col>plate</th><th scope=col>mass_400</th><th scope=col>mass_500</th><th scope=col>mass_600</th><th scope=col>mass_700</th><th scope=col>mass_800</th></tr></thead>\n",
       "<tbody>\n",
       "\t<tr><th scope=row>16</th><td>X581_Group3E_142dpi_RV_top_176_G_B4_P136.mzXML</td><td>581                                           </td><td>infected                                      </td><td>142dpi                                        </td><td>RV_top                                        </td><td>B4                                            </td><td>P136                                          </td><td>0.02837775                                    </td><td>0.022834037                                   </td><td>0.000315686                                   </td><td>0.000232400                                   </td><td>0.000000000                                   </td></tr>\n",
       "\t<tr><th scope=row>17</th><td>X582_Group3E_142dpi_RV_top_177_G_B5_P136.mzXML</td><td>582                                           </td><td>infected                                      </td><td>142dpi                                        </td><td>RV_top                                        </td><td>B5                                            </td><td>P136                                          </td><td>0.02871855                                    </td><td>0.020977836                                   </td><td>0.000173354                                   </td><td>0.000000000                                   </td><td>0.000000000                                   </td></tr>\n",
       "\t<tr><th scope=row>18</th><td>X583_Group3E_142dpi_RV_top_178_G_B6_P136.mzXML</td><td>583                                           </td><td>infected                                      </td><td>142dpi                                        </td><td>RV_top                                        </td><td>B6                                            </td><td>P136                                          </td><td>0.01799131                                    </td><td>0.016555770                                   </td><td>0.000197216                                   </td><td>0.002339933                                   </td><td>0.002753124                                   </td></tr>\n",
       "\t<tr><th scope=row>19</th><td>X584_Group3E_142dpi_RV_top_179_G_B7_P136.mzXML</td><td>584                                           </td><td>infected                                      </td><td>142dpi                                        </td><td>RV_top                                        </td><td>B7                                            </td><td>P136                                          </td><td>0.01916334                                    </td><td>0.012070618                                   </td><td>0.000131078                                   </td><td>0.000091700                                   </td><td>0.000000000                                   </td></tr>\n",
       "\t<tr><th scope=row>20</th><td>X585_Group3E_142dpi_RV_top_180_G_B8_P136.mzXML</td><td>585                                           </td><td>infected                                      </td><td>142dpi                                        </td><td>RV_top                                        </td><td>B8                                            </td><td>P136                                          </td><td>0.01071095                                    </td><td>0.007062768                                   </td><td>0.000000000                                   </td><td>0.000000000                                   </td><td>0.000000000                                   </td></tr>\n",
       "\t<tr><th scope=row>21</th><td>X611_Group9_142dpi_RV_top_181_G_B9_P136.mzXML </td><td>611                                           </td><td>combo                                         </td><td>142dpi                                        </td><td>RV_top                                        </td><td>B9                                            </td><td>P136                                          </td><td>0.01911695                                    </td><td>0.014857672                                   </td><td>0.000225908                                   </td><td>0.000000000                                   </td><td>0.000000000                                   </td></tr>\n",
       "</tbody>\n",
       "</table>\n"
      ],
      "text/latex": [
       "\\begin{tabular}{r|llllllllllll}\n",
       "  & filename & MouseID & Treatmentgroup & DPI & organ & well\\_position & plate & mass\\_400 & mass\\_500 & mass\\_600 & mass\\_700 & mass\\_800\\\\\n",
       "\\hline\n",
       "\t16 & X581\\_Group3E\\_142dpi\\_RV\\_top\\_176\\_G\\_B4\\_P136.mzXML & 581                                                            & infected                                                       & 142dpi                                                         & RV\\_top                                                       & B4                                                             & P136                                                           & 0.02837775                                                     & 0.022834037                                                    & 0.000315686                                                    & 0.000232400                                                    & 0.000000000                                                   \\\\\n",
       "\t17 & X582\\_Group3E\\_142dpi\\_RV\\_top\\_177\\_G\\_B5\\_P136.mzXML & 582                                                            & infected                                                       & 142dpi                                                         & RV\\_top                                                       & B5                                                             & P136                                                           & 0.02871855                                                     & 0.020977836                                                    & 0.000173354                                                    & 0.000000000                                                    & 0.000000000                                                   \\\\\n",
       "\t18 & X583\\_Group3E\\_142dpi\\_RV\\_top\\_178\\_G\\_B6\\_P136.mzXML & 583                                                            & infected                                                       & 142dpi                                                         & RV\\_top                                                       & B6                                                             & P136                                                           & 0.01799131                                                     & 0.016555770                                                    & 0.000197216                                                    & 0.002339933                                                    & 0.002753124                                                   \\\\\n",
       "\t19 & X584\\_Group3E\\_142dpi\\_RV\\_top\\_179\\_G\\_B7\\_P136.mzXML & 584                                                            & infected                                                       & 142dpi                                                         & RV\\_top                                                       & B7                                                             & P136                                                           & 0.01916334                                                     & 0.012070618                                                    & 0.000131078                                                    & 0.000091700                                                    & 0.000000000                                                   \\\\\n",
       "\t20 & X585\\_Group3E\\_142dpi\\_RV\\_top\\_180\\_G\\_B8\\_P136.mzXML & 585                                                            & infected                                                       & 142dpi                                                         & RV\\_top                                                       & B8                                                             & P136                                                           & 0.01071095                                                     & 0.007062768                                                    & 0.000000000                                                    & 0.000000000                                                    & 0.000000000                                                   \\\\\n",
       "\t21 & X611\\_Group9\\_142dpi\\_RV\\_top\\_181\\_G\\_B9\\_P136.mzXML  & 611                                                            & combo                                                          & 142dpi                                                         & RV\\_top                                                       & B9                                                             & P136                                                           & 0.01911695                                                     & 0.014857672                                                    & 0.000225908                                                    & 0.000000000                                                    & 0.000000000                                                   \\\\\n",
       "\\end{tabular}\n"
      ],
      "text/markdown": [
       "\n",
       "| <!--/--> | filename | MouseID | Treatmentgroup | DPI | organ | well_position | plate | mass_400 | mass_500 | mass_600 | mass_700 | mass_800 |\n",
       "|---|---|---|---|---|---|---|---|---|---|---|---|---|\n",
       "| 16 | X581_Group3E_142dpi_RV_top_176_G_B4_P136.mzXML | 581                                            | infected                                       | 142dpi                                         | RV_top                                         | B4                                             | P136                                           | 0.02837775                                     | 0.022834037                                    | 0.000315686                                    | 0.000232400                                    | 0.000000000                                    |\n",
       "| 17 | X582_Group3E_142dpi_RV_top_177_G_B5_P136.mzXML | 582                                            | infected                                       | 142dpi                                         | RV_top                                         | B5                                             | P136                                           | 0.02871855                                     | 0.020977836                                    | 0.000173354                                    | 0.000000000                                    | 0.000000000                                    |\n",
       "| 18 | X583_Group3E_142dpi_RV_top_178_G_B6_P136.mzXML | 583                                            | infected                                       | 142dpi                                         | RV_top                                         | B6                                             | P136                                           | 0.01799131                                     | 0.016555770                                    | 0.000197216                                    | 0.002339933                                    | 0.002753124                                    |\n",
       "| 19 | X584_Group3E_142dpi_RV_top_179_G_B7_P136.mzXML | 584                                            | infected                                       | 142dpi                                         | RV_top                                         | B7                                             | P136                                           | 0.01916334                                     | 0.012070618                                    | 0.000131078                                    | 0.000091700                                    | 0.000000000                                    |\n",
       "| 20 | X585_Group3E_142dpi_RV_top_180_G_B8_P136.mzXML | 585                                            | infected                                       | 142dpi                                         | RV_top                                         | B8                                             | P136                                           | 0.01071095                                     | 0.007062768                                    | 0.000000000                                    | 0.000000000                                    | 0.000000000                                    |\n",
       "| 21 | X611_Group9_142dpi_RV_top_181_G_B9_P136.mzXML  | 611                                            | combo                                          | 142dpi                                         | RV_top                                         | B9                                             | P136                                           | 0.01911695                                     | 0.014857672                                    | 0.000225908                                    | 0.000000000                                    | 0.000000000                                    |\n",
       "\n"
      ],
      "text/plain": [
       "   filename                                       MouseID Treatmentgroup DPI   \n",
       "16 X581_Group3E_142dpi_RV_top_176_G_B4_P136.mzXML 581     infected       142dpi\n",
       "17 X582_Group3E_142dpi_RV_top_177_G_B5_P136.mzXML 582     infected       142dpi\n",
       "18 X583_Group3E_142dpi_RV_top_178_G_B6_P136.mzXML 583     infected       142dpi\n",
       "19 X584_Group3E_142dpi_RV_top_179_G_B7_P136.mzXML 584     infected       142dpi\n",
       "20 X585_Group3E_142dpi_RV_top_180_G_B8_P136.mzXML 585     infected       142dpi\n",
       "21 X611_Group9_142dpi_RV_top_181_G_B9_P136.mzXML  611     combo          142dpi\n",
       "   organ  well_position plate mass_400   mass_500    mass_600    mass_700   \n",
       "16 RV_top B4            P136  0.02837775 0.022834037 0.000315686 0.000232400\n",
       "17 RV_top B5            P136  0.02871855 0.020977836 0.000173354 0.000000000\n",
       "18 RV_top B6            P136  0.01799131 0.016555770 0.000197216 0.002339933\n",
       "19 RV_top B7            P136  0.01916334 0.012070618 0.000131078 0.000091700\n",
       "20 RV_top B8            P136  0.01071095 0.007062768 0.000000000 0.000000000\n",
       "21 RV_top B9            P136  0.01911695 0.014857672 0.000225908 0.000000000\n",
       "   mass_800   \n",
       "16 0.000000000\n",
       "17 0.000000000\n",
       "18 0.002753124\n",
       "19 0.000000000\n",
       "20 0.000000000\n",
       "21 0.000000000"
      ]
     },
     "metadata": {},
     "output_type": "display_data"
    },
    {
     "data": {
      "text/html": [
       "<ol class=list-inline>\n",
       "\t<li>30</li>\n",
       "\t<li>12</li>\n",
       "</ol>\n"
      ],
      "text/latex": [
       "\\begin{enumerate*}\n",
       "\\item 30\n",
       "\\item 12\n",
       "\\end{enumerate*}\n"
      ],
      "text/markdown": [
       "1. 30\n",
       "2. 12\n",
       "\n",
       "\n"
      ],
      "text/plain": [
       "[1] 30 12"
      ]
     },
     "metadata": {},
     "output_type": "display_data"
    },
    {
     "data": {
      "text/html": [
       "<ol class=list-inline>\n",
       "\t<li>30</li>\n",
       "\t<li>5</li>\n",
       "</ol>\n"
      ],
      "text/latex": [
       "\\begin{enumerate*}\n",
       "\\item 30\n",
       "\\item 5\n",
       "\\end{enumerate*}\n"
      ],
      "text/markdown": [
       "1. 30\n",
       "2. 5\n",
       "\n",
       "\n"
      ],
      "text/plain": [
       "[1] 30  5"
      ]
     },
     "metadata": {},
     "output_type": "display_data"
    },
    {
     "data": {
      "text/html": [
       "<ol class=list-inline>\n",
       "\t<li>30</li>\n",
       "\t<li>5</li>\n",
       "</ol>\n"
      ],
      "text/latex": [
       "\\begin{enumerate*}\n",
       "\\item 30\n",
       "\\item 5\n",
       "\\end{enumerate*}\n"
      ],
      "text/markdown": [
       "1. 30\n",
       "2. 5\n",
       "\n",
       "\n"
      ],
      "text/plain": [
       "[1] 30  5"
      ]
     },
     "metadata": {},
     "output_type": "display_data"
    },
    {
     "data": {
      "text/html": [
       "<ol class=list-inline>\n",
       "\t<li>30</li>\n",
       "\t<li>12</li>\n",
       "</ol>\n"
      ],
      "text/latex": [
       "\\begin{enumerate*}\n",
       "\\item 30\n",
       "\\item 12\n",
       "\\end{enumerate*}\n"
      ],
      "text/markdown": [
       "1. 30\n",
       "2. 12\n",
       "\n",
       "\n"
      ],
      "text/plain": [
       "[1] 30 12"
      ]
     },
     "metadata": {},
     "output_type": "display_data"
    }
   ],
   "source": [
    "noMeta<-features_pos[,8:12]\n",
    "head(noMeta)\n",
    "not_zero<-which(colSums(noMeta) != 0)\n",
    "head(not_zero)\n",
    "nonzero <- noMeta[, not_zero]\n",
    "nonzero\n",
    "nonzero_wMeta<-cbind(features_pos[,1:7], nonzero)\n",
    "head(nonzero_wMeta)\n",
    "dim(features_pos)\n",
    "dim(noMeta)\n",
    "dim(nonzero)\n",
    "dim(nonzero_wMeta)"
   ]
  },
  {
   "cell_type": "code",
   "execution_count": 15,
   "metadata": {
    "scrolled": true
   },
   "outputs": [
    {
     "name": "stderr",
     "output_type": "stream",
     "text": [
      "Warning message in wilcox.test.default(x = c(0.000225908, 6.21e-05, 0.000269402, :\n",
      "\"cannot compute exact p-value with ties\"Warning message in wilcox.test.default(x = c(0, 0, 0.000224333, 0.002354155, 6.64e-05, :\n",
      "\"cannot compute exact p-value with ties\"Warning message in wilcox.test.default(x = c(0, 0, 0.000380998, 0.000709065, 0, :\n",
      "\"cannot compute exact p-value with ties\""
     ]
    },
    {
     "data": {
      "text/html": [
       "<ol class=list-inline>\n",
       "\t<li>0.366875192434742</li>\n",
       "\t<li>0.902462275054423</li>\n",
       "\t<li>0.983451990611901</li>\n",
       "\t<li>0.181665607619069</li>\n",
       "\t<li>0.462012344825305</li>\n",
       "</ol>\n"
      ],
      "text/latex": [
       "\\begin{enumerate*}\n",
       "\\item 0.366875192434742\n",
       "\\item 0.902462275054423\n",
       "\\item 0.983451990611901\n",
       "\\item 0.181665607619069\n",
       "\\item 0.462012344825305\n",
       "\\end{enumerate*}\n"
      ],
      "text/markdown": [
       "1. 0.366875192434742\n",
       "2. 0.902462275054423\n",
       "3. 0.983451990611901\n",
       "4. 0.181665607619069\n",
       "5. 0.462012344825305\n",
       "\n",
       "\n"
      ],
      "text/plain": [
       "[1] 0.3668752 0.9024623 0.9834520 0.1816656 0.4620123"
      ]
     },
     "metadata": {},
     "output_type": "display_data"
    },
    {
     "data": {
      "text/html": [
       "<ol class=list-inline>\n",
       "\t<li>0.770020574708841</li>\n",
       "\t<li>0.983451990611901</li>\n",
       "\t<li>0.983451990611901</li>\n",
       "\t<li>0.770020574708841</li>\n",
       "\t<li>0.770020574708841</li>\n",
       "</ol>\n"
      ],
      "text/latex": [
       "\\begin{enumerate*}\n",
       "\\item 0.770020574708841\n",
       "\\item 0.983451990611901\n",
       "\\item 0.983451990611901\n",
       "\\item 0.770020574708841\n",
       "\\item 0.770020574708841\n",
       "\\end{enumerate*}\n"
      ],
      "text/markdown": [
       "1. 0.770020574708841\n",
       "2. 0.983451990611901\n",
       "3. 0.983451990611901\n",
       "4. 0.770020574708841\n",
       "5. 0.770020574708841\n",
       "\n",
       "\n"
      ],
      "text/plain": [
       "[1] 0.7700206 0.9834520 0.9834520 0.7700206 0.7700206"
      ]
     },
     "metadata": {},
     "output_type": "display_data"
    }
   ],
   "source": [
    "pval<-c()\n",
    "\n",
    "for (i in 8:ncol(nonzero_wMeta)) \n",
    "pval<-c(pval,wilcox.test(nonzero_wMeta[,i]~nonzero_wMeta$Treatmentgroup)$p.value)\n",
    "head(pval)\n",
    "pAdj <- p.adjust(pval, method = c(\"fdr\"), n=length(pval)) \n",
    "head(pAdj) \n",
    "\n"
   ]
  },
  {
   "cell_type": "code",
   "execution_count": 16,
   "metadata": {
    "scrolled": true
   },
   "outputs": [
    {
     "data": {
      "text/html": [
       "5"
      ],
      "text/latex": [
       "5"
      ],
      "text/markdown": [
       "5"
      ],
      "text/plain": [
       "[1] 5"
      ]
     },
     "metadata": {},
     "output_type": "display_data"
    }
   ],
   "source": [
    "length(pval)"
   ]
  },
  {
   "cell_type": "code",
   "execution_count": 17,
   "metadata": {
    "scrolled": true
   },
   "outputs": [
    {
     "data": {
      "text/html": [
       "5"
      ],
      "text/latex": [
       "5"
      ],
      "text/markdown": [
       "5"
      ],
      "text/plain": [
       "[1] 5"
      ]
     },
     "metadata": {},
     "output_type": "display_data"
    }
   ],
   "source": [
    "length(pAdj)"
   ]
  },
  {
   "cell_type": "code",
   "execution_count": 18,
   "metadata": {},
   "outputs": [
    {
     "data": {
      "text/html": [
       "<ol class=list-inline>\n",
       "\t<li>2</li>\n",
       "\t<li>5</li>\n",
       "</ol>\n"
      ],
      "text/latex": [
       "\\begin{enumerate*}\n",
       "\\item 2\n",
       "\\item 5\n",
       "\\end{enumerate*}\n"
      ],
      "text/markdown": [
       "1. 2\n",
       "2. 5\n",
       "\n",
       "\n"
      ],
      "text/plain": [
       "[1] 2 5"
      ]
     },
     "metadata": {},
     "output_type": "display_data"
    },
    {
     "data": {
      "text/html": [
       "<table>\n",
       "<thead><tr><th></th><th scope=col>mass_400</th><th scope=col>mass_500</th><th scope=col>mass_600</th></tr></thead>\n",
       "<tbody>\n",
       "\t<tr><th scope=row>combo</th><td>0.02330307  </td><td>0.02050973  </td><td>0.0003496341</td></tr>\n",
       "\t<tr><th scope=row>infected</th><td>0.02501783  </td><td>0.02050051  </td><td>0.0003677973</td></tr>\n",
       "</tbody>\n",
       "</table>\n"
      ],
      "text/latex": [
       "\\begin{tabular}{r|lll}\n",
       "  & mass\\_400 & mass\\_500 & mass\\_600\\\\\n",
       "\\hline\n",
       "\tcombo & 0.02330307   & 0.02050973   & 0.0003496341\\\\\n",
       "\tinfected & 0.02501783   & 0.02050051   & 0.0003677973\\\\\n",
       "\\end{tabular}\n"
      ],
      "text/markdown": [
       "\n",
       "| <!--/--> | mass_400 | mass_500 | mass_600 |\n",
       "|---|---|---|---|\n",
       "| combo | 0.02330307   | 0.02050973   | 0.0003496341 |\n",
       "| infected | 0.02501783   | 0.02050051   | 0.0003677973 |\n",
       "\n"
      ],
      "text/plain": [
       "         mass_400   mass_500   mass_600    \n",
       "combo    0.02330307 0.02050973 0.0003496341\n",
       "infected 0.02501783 0.02050051 0.0003677973"
      ]
     },
     "metadata": {},
     "output_type": "display_data"
    },
    {
     "data": {
      "text/html": [
       "<dl class=dl-horizontal>\n",
       "\t<dt>mass_400</dt>\n",
       "\t\t<dd>0.931458499905651</dd>\n",
       "\t<dt>mass_500</dt>\n",
       "\t\t<dd>1.00044930254985</dd>\n",
       "\t<dt>mass_600</dt>\n",
       "\t\t<dd>0.950616453738373</dd>\n",
       "\t<dt>mass_700</dt>\n",
       "\t\t<dd>0.419648551611613</dd>\n",
       "\t<dt>mass_800</dt>\n",
       "\t\t<dd>0.660634669357749</dd>\n",
       "</dl>\n"
      ],
      "text/latex": [
       "\\begin{description*}\n",
       "\\item[mass\\textbackslash{}\\_400] 0.931458499905651\n",
       "\\item[mass\\textbackslash{}\\_500] 1.00044930254985\n",
       "\\item[mass\\textbackslash{}\\_600] 0.950616453738373\n",
       "\\item[mass\\textbackslash{}\\_700] 0.419648551611613\n",
       "\\item[mass\\textbackslash{}\\_800] 0.660634669357749\n",
       "\\end{description*}\n"
      ],
      "text/markdown": [
       "mass_400\n",
       ":   0.931458499905651mass_500\n",
       ":   1.00044930254985mass_600\n",
       ":   0.950616453738373mass_700\n",
       ":   0.419648551611613mass_800\n",
       ":   0.660634669357749\n",
       "\n"
      ],
      "text/plain": [
       " mass_400  mass_500  mass_600  mass_700  mass_800 \n",
       "0.9314585 1.0004493 0.9506165 0.4196486 0.6606347 "
      ]
     },
     "metadata": {},
     "output_type": "display_data"
    },
    {
     "data": {
      "text/html": [
       "<ol class=list-inline>\n",
       "\t<li>'numeric'</li>\n",
       "\t<li>'vector'</li>\n",
       "</ol>\n"
      ],
      "text/latex": [
       "\\begin{enumerate*}\n",
       "\\item 'numeric'\n",
       "\\item 'vector'\n",
       "\\end{enumerate*}\n"
      ],
      "text/markdown": [
       "1. 'numeric'\n",
       "2. 'vector'\n",
       "\n",
       "\n"
      ],
      "text/plain": [
       "[1] \"numeric\" \"vector\" "
      ]
     },
     "metadata": {},
     "output_type": "display_data"
    }
   ],
   "source": [
    "avg<- apply(nonzero_wMeta[,8:ncol(nonzero_wMeta)], 2, function(x) tapply(x, nonzero_wMeta$Treatmentgroup, function(x) mean(x))) \n",
    "\n",
    "dim(avg)\n",
    "\n",
    "avg[,1:3]\n",
    "\n",
    "fch <- apply(avg, 2, function(x) x[1]/x[2])\n",
    "\n",
    "head(fch)\n",
    "is(fch)"
   ]
  },
  {
   "cell_type": "code",
   "execution_count": 19,
   "metadata": {
    "scrolled": true
   },
   "outputs": [
    {
     "data": {
      "text/html": [
       "<dl class=dl-horizontal>\n",
       "\t<dt>mass_400</dt>\n",
       "\t\t<dd>0.931458499905651</dd>\n",
       "\t<dt>mass_500</dt>\n",
       "\t\t<dd>1.00044930254985</dd>\n",
       "\t<dt>mass_600</dt>\n",
       "\t\t<dd>0.950616453738373</dd>\n",
       "\t<dt>mass_700</dt>\n",
       "\t\t<dd>0.419648551611613</dd>\n",
       "\t<dt>mass_800</dt>\n",
       "\t\t<dd>0.660634669357749</dd>\n",
       "</dl>\n"
      ],
      "text/latex": [
       "\\begin{description*}\n",
       "\\item[mass\\textbackslash{}\\_400] 0.931458499905651\n",
       "\\item[mass\\textbackslash{}\\_500] 1.00044930254985\n",
       "\\item[mass\\textbackslash{}\\_600] 0.950616453738373\n",
       "\\item[mass\\textbackslash{}\\_700] 0.419648551611613\n",
       "\\item[mass\\textbackslash{}\\_800] 0.660634669357749\n",
       "\\end{description*}\n"
      ],
      "text/markdown": [
       "mass_400\n",
       ":   0.931458499905651mass_500\n",
       ":   1.00044930254985mass_600\n",
       ":   0.950616453738373mass_700\n",
       ":   0.419648551611613mass_800\n",
       ":   0.660634669357749\n",
       "\n"
      ],
      "text/plain": [
       " mass_400  mass_500  mass_600  mass_700  mass_800 \n",
       "0.9314585 1.0004493 0.9506165 0.4196486 0.6606347 "
      ]
     },
     "metadata": {},
     "output_type": "display_data"
    }
   ],
   "source": [
    "fch"
   ]
  },
  {
   "cell_type": "code",
   "execution_count": 20,
   "metadata": {
    "scrolled": false
   },
   "outputs": [],
   "source": [
    "df <- data.frame(fch,pval, pAdj)\n",
    "write.csv(df, \"PC-treat-RVT-wilcox-infected-combo.csv\")"
   ]
  },
  {
   "cell_type": "code",
   "execution_count": null,
   "metadata": {},
   "outputs": [],
   "source": []
  },
  {
   "cell_type": "code",
   "execution_count": null,
   "metadata": {},
   "outputs": [],
   "source": []
  },
  {
   "cell_type": "code",
   "execution_count": null,
   "metadata": {},
   "outputs": [],
   "source": []
  },
  {
   "cell_type": "code",
   "execution_count": null,
   "metadata": {},
   "outputs": [],
   "source": []
  },
  {
   "cell_type": "code",
   "execution_count": null,
   "metadata": {},
   "outputs": [],
   "source": []
  },
  {
   "cell_type": "code",
   "execution_count": null,
   "metadata": {},
   "outputs": [],
   "source": []
  }
 ],
 "metadata": {
  "kernelspec": {
   "display_name": "R",
   "language": "R",
   "name": "ir"
  },
  "language_info": {
   "codemirror_mode": "r",
   "file_extension": ".r",
   "mimetype": "text/x-r-source",
   "name": "R",
   "pygments_lexer": "r",
   "version": "3.6.1"
  }
 },
 "nbformat": 4,
 "nbformat_minor": 2
}
