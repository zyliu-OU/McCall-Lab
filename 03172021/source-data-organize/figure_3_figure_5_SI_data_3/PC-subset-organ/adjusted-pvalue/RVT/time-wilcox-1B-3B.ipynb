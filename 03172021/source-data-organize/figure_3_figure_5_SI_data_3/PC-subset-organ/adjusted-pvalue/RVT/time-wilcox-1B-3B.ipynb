{
 "cells": [
  {
   "cell_type": "code",
   "execution_count": 11,
   "metadata": {},
   "outputs": [],
   "source": [
    "a <- read.csv(\"03172021-PC-time-RVT-M-F.csv\")"
   ]
  },
  {
   "cell_type": "code",
   "execution_count": 12,
   "metadata": {},
   "outputs": [
    {
     "data": {
      "text/html": [
       "<table>\n",
       "<thead><tr><th scope=col>filename</th><th scope=col>MouseID</th><th scope=col>Treatmentgroup</th><th scope=col>status</th><th scope=col>DPI</th><th scope=col>organ</th><th scope=col>well_position</th><th scope=col>plate</th><th scope=col>mass_400</th><th scope=col>mass_500</th><th scope=col>mass_600</th><th scope=col>mass_700</th><th scope=col>mass_800</th></tr></thead>\n",
       "<tbody>\n",
       "\t<tr><td>X501_Group1A_50dpi_RV_top_251_B_A1_P137.mzXML</td><td>501                                          </td><td>Group1A                                      </td><td>naive                                        </td><td>50                                           </td><td>RV_top                                       </td><td>A1                                           </td><td>P137                                         </td><td>0.02971381                                   </td><td>0.02220213                                   </td><td>0.000078600                                  </td><td>0.002125298                                  </td><td>0.000000000                                  </td></tr>\n",
       "\t<tr><td>X502_Group1A_50dpi_RV_top_252_B_A2_P137.mzXML</td><td>502                                          </td><td>Group1A                                      </td><td>naive                                        </td><td>50                                           </td><td>RV_top                                       </td><td>A2                                           </td><td>P137                                         </td><td>0.03667454                                   </td><td>0.03857869                                   </td><td>0.000675094                                  </td><td>0.003480386                                  </td><td>0.003499940                                  </td></tr>\n",
       "\t<tr><td>X503_Group1A_50dpi_RV_top_253_B_A3_P137.mzXML</td><td>503                                          </td><td>Group1A                                      </td><td>naive                                        </td><td>50                                           </td><td>RV_top                                       </td><td>A3                                           </td><td>P137                                         </td><td>0.03540331                                   </td><td>0.03001902                                   </td><td>0.000535181                                  </td><td>0.005257024                                  </td><td>0.007673925                                  </td></tr>\n",
       "\t<tr><td>X504_Group1A_50dpi_RV_top_254_B_A4_P137.mzXML</td><td>504                                          </td><td>Group1A                                      </td><td>naive                                        </td><td>50                                           </td><td>RV_top                                       </td><td>A4                                           </td><td>P137                                         </td><td>0.04135269                                   </td><td>0.03712155                                   </td><td>0.000900666                                  </td><td>0.000650154                                  </td><td>0.001575612                                  </td></tr>\n",
       "\t<tr><td>X505_Group1A_50dpi_RV_top_255_B_A5_P137.mzXML</td><td>505                                          </td><td>Group1A                                      </td><td>naive                                        </td><td>50                                           </td><td>RV_top                                       </td><td>A5                                           </td><td>P137                                         </td><td>0.03711523                                   </td><td>0.03428848                                   </td><td>0.001060644                                  </td><td>0.004597098                                  </td><td>0.001621096                                  </td></tr>\n",
       "\t<tr><td>X521_Group1A_50dpi_RV_top_256_B_A6_P137.mzXML</td><td>521                                          </td><td>Group1A                                      </td><td>naive                                        </td><td>50                                           </td><td>RV_top                                       </td><td>A6                                           </td><td>P137                                         </td><td>0.02327026                                   </td><td>0.02096296                                   </td><td>0.000790152                                  </td><td>0.003665277                                  </td><td>0.001131362                                  </td></tr>\n",
       "</tbody>\n",
       "</table>\n"
      ],
      "text/latex": [
       "\\begin{tabular}{r|lllllllllllll}\n",
       " filename & MouseID & Treatmentgroup & status & DPI & organ & well\\_position & plate & mass\\_400 & mass\\_500 & mass\\_600 & mass\\_700 & mass\\_800\\\\\n",
       "\\hline\n",
       "\t X501\\_Group1A\\_50dpi\\_RV\\_top\\_251\\_B\\_A1\\_P137.mzXML & 501                                                           & Group1A                                                       & naive                                                         & 50                                                            & RV\\_top                                                      & A1                                                            & P137                                                          & 0.02971381                                                    & 0.02220213                                                    & 0.000078600                                                   & 0.002125298                                                   & 0.000000000                                                  \\\\\n",
       "\t X502\\_Group1A\\_50dpi\\_RV\\_top\\_252\\_B\\_A2\\_P137.mzXML & 502                                                           & Group1A                                                       & naive                                                         & 50                                                            & RV\\_top                                                      & A2                                                            & P137                                                          & 0.03667454                                                    & 0.03857869                                                    & 0.000675094                                                   & 0.003480386                                                   & 0.003499940                                                  \\\\\n",
       "\t X503\\_Group1A\\_50dpi\\_RV\\_top\\_253\\_B\\_A3\\_P137.mzXML & 503                                                           & Group1A                                                       & naive                                                         & 50                                                            & RV\\_top                                                      & A3                                                            & P137                                                          & 0.03540331                                                    & 0.03001902                                                    & 0.000535181                                                   & 0.005257024                                                   & 0.007673925                                                  \\\\\n",
       "\t X504\\_Group1A\\_50dpi\\_RV\\_top\\_254\\_B\\_A4\\_P137.mzXML & 504                                                           & Group1A                                                       & naive                                                         & 50                                                            & RV\\_top                                                      & A4                                                            & P137                                                          & 0.04135269                                                    & 0.03712155                                                    & 0.000900666                                                   & 0.000650154                                                   & 0.001575612                                                  \\\\\n",
       "\t X505\\_Group1A\\_50dpi\\_RV\\_top\\_255\\_B\\_A5\\_P137.mzXML & 505                                                           & Group1A                                                       & naive                                                         & 50                                                            & RV\\_top                                                      & A5                                                            & P137                                                          & 0.03711523                                                    & 0.03428848                                                    & 0.001060644                                                   & 0.004597098                                                   & 0.001621096                                                  \\\\\n",
       "\t X521\\_Group1A\\_50dpi\\_RV\\_top\\_256\\_B\\_A6\\_P137.mzXML & 521                                                           & Group1A                                                       & naive                                                         & 50                                                            & RV\\_top                                                      & A6                                                            & P137                                                          & 0.02327026                                                    & 0.02096296                                                    & 0.000790152                                                   & 0.003665277                                                   & 0.001131362                                                  \\\\\n",
       "\\end{tabular}\n"
      ],
      "text/markdown": [
       "\n",
       "| filename | MouseID | Treatmentgroup | status | DPI | organ | well_position | plate | mass_400 | mass_500 | mass_600 | mass_700 | mass_800 |\n",
       "|---|---|---|---|---|---|---|---|---|---|---|---|---|\n",
       "| X501_Group1A_50dpi_RV_top_251_B_A1_P137.mzXML | 501                                           | Group1A                                       | naive                                         | 50                                            | RV_top                                        | A1                                            | P137                                          | 0.02971381                                    | 0.02220213                                    | 0.000078600                                   | 0.002125298                                   | 0.000000000                                   |\n",
       "| X502_Group1A_50dpi_RV_top_252_B_A2_P137.mzXML | 502                                           | Group1A                                       | naive                                         | 50                                            | RV_top                                        | A2                                            | P137                                          | 0.03667454                                    | 0.03857869                                    | 0.000675094                                   | 0.003480386                                   | 0.003499940                                   |\n",
       "| X503_Group1A_50dpi_RV_top_253_B_A3_P137.mzXML | 503                                           | Group1A                                       | naive                                         | 50                                            | RV_top                                        | A3                                            | P137                                          | 0.03540331                                    | 0.03001902                                    | 0.000535181                                   | 0.005257024                                   | 0.007673925                                   |\n",
       "| X504_Group1A_50dpi_RV_top_254_B_A4_P137.mzXML | 504                                           | Group1A                                       | naive                                         | 50                                            | RV_top                                        | A4                                            | P137                                          | 0.04135269                                    | 0.03712155                                    | 0.000900666                                   | 0.000650154                                   | 0.001575612                                   |\n",
       "| X505_Group1A_50dpi_RV_top_255_B_A5_P137.mzXML | 505                                           | Group1A                                       | naive                                         | 50                                            | RV_top                                        | A5                                            | P137                                          | 0.03711523                                    | 0.03428848                                    | 0.001060644                                   | 0.004597098                                   | 0.001621096                                   |\n",
       "| X521_Group1A_50dpi_RV_top_256_B_A6_P137.mzXML | 521                                           | Group1A                                       | naive                                         | 50                                            | RV_top                                        | A6                                            | P137                                          | 0.02327026                                    | 0.02096296                                    | 0.000790152                                   | 0.003665277                                   | 0.001131362                                   |\n",
       "\n"
      ],
      "text/plain": [
       "  filename                                      MouseID Treatmentgroup status\n",
       "1 X501_Group1A_50dpi_RV_top_251_B_A1_P137.mzXML 501     Group1A        naive \n",
       "2 X502_Group1A_50dpi_RV_top_252_B_A2_P137.mzXML 502     Group1A        naive \n",
       "3 X503_Group1A_50dpi_RV_top_253_B_A3_P137.mzXML 503     Group1A        naive \n",
       "4 X504_Group1A_50dpi_RV_top_254_B_A4_P137.mzXML 504     Group1A        naive \n",
       "5 X505_Group1A_50dpi_RV_top_255_B_A5_P137.mzXML 505     Group1A        naive \n",
       "6 X521_Group1A_50dpi_RV_top_256_B_A6_P137.mzXML 521     Group1A        naive \n",
       "  DPI organ  well_position plate mass_400   mass_500   mass_600    mass_700   \n",
       "1 50  RV_top A1            P137  0.02971381 0.02220213 0.000078600 0.002125298\n",
       "2 50  RV_top A2            P137  0.03667454 0.03857869 0.000675094 0.003480386\n",
       "3 50  RV_top A3            P137  0.03540331 0.03001902 0.000535181 0.005257024\n",
       "4 50  RV_top A4            P137  0.04135269 0.03712155 0.000900666 0.000650154\n",
       "5 50  RV_top A5            P137  0.03711523 0.03428848 0.001060644 0.004597098\n",
       "6 50  RV_top A6            P137  0.02327026 0.02096296 0.000790152 0.003665277\n",
       "  mass_800   \n",
       "1 0.000000000\n",
       "2 0.003499940\n",
       "3 0.007673925\n",
       "4 0.001575612\n",
       "5 0.001621096\n",
       "6 0.001131362"
      ]
     },
     "metadata": {},
     "output_type": "display_data"
    },
    {
     "data": {
      "text/html": [
       "<ol class=list-inline>\n",
       "\t<li>90</li>\n",
       "\t<li>13</li>\n",
       "</ol>\n"
      ],
      "text/latex": [
       "\\begin{enumerate*}\n",
       "\\item 90\n",
       "\\item 13\n",
       "\\end{enumerate*}\n"
      ],
      "text/markdown": [
       "1. 90\n",
       "2. 13\n",
       "\n",
       "\n"
      ],
      "text/plain": [
       "[1] 90 13"
      ]
     },
     "metadata": {},
     "output_type": "display_data"
    }
   ],
   "source": [
    "head(a)\n",
    "dim(a)"
   ]
  },
  {
   "cell_type": "code",
   "execution_count": 13,
   "metadata": {},
   "outputs": [
    {
     "data": {
      "text/html": [
       "<table>\n",
       "<thead><tr><th></th><th scope=col>filename</th><th scope=col>MouseID</th><th scope=col>Treatmentgroup</th><th scope=col>status</th><th scope=col>DPI</th><th scope=col>organ</th><th scope=col>well_position</th><th scope=col>plate</th><th scope=col>mass_400</th><th scope=col>mass_500</th><th scope=col>mass_600</th><th scope=col>mass_700</th><th scope=col>mass_800</th></tr></thead>\n",
       "<tbody>\n",
       "\t<tr><th scope=row>16</th><td>X506_Group1B_70dpi_RV_top_281_B_C7_P137.mzXML </td><td>506                                           </td><td>Group1B                                       </td><td>naive                                         </td><td>75                                            </td><td>RV_top                                        </td><td>C7                                            </td><td>P137                                          </td><td>0.02829035                                    </td><td>0.02631465                                    </td><td>0.000521709                                   </td><td>0.001231503                                   </td><td>0.001111573                                   </td></tr>\n",
       "\t<tr><th scope=row>17</th><td>X507_Group1B_70dpi_RV_top_282_B_C8_P137.mzXML </td><td>507                                           </td><td>Group1B                                       </td><td>naive                                         </td><td>75                                            </td><td>RV_top                                        </td><td>C8                                            </td><td>P137                                          </td><td>0.01650909                                    </td><td>0.01371294                                    </td><td>0.000176998                                   </td><td>0.000702323                                   </td><td>0.000291528                                   </td></tr>\n",
       "\t<tr><th scope=row>18</th><td>X508_Group1B_70dpi_RV_top_283_B_C9_P137.mzXML </td><td>508                                           </td><td>Group1B                                       </td><td>naive                                         </td><td>75                                            </td><td>RV_top                                        </td><td>C9                                            </td><td>P137                                          </td><td>0.02786944                                    </td><td>0.02524112                                    </td><td>0.000669473                                   </td><td>0.002659125                                   </td><td>0.002395484                                   </td></tr>\n",
       "\t<tr><th scope=row>19</th><td>X509_Group1B_70dpi_RV_top_284_B_C10_P137.mzXML</td><td>509                                           </td><td>Group1B                                       </td><td>naive                                         </td><td>75                                            </td><td>RV_top                                        </td><td>C10                                           </td><td>P137                                          </td><td>0.02597842                                    </td><td>0.01965684                                    </td><td>0.000259646                                   </td><td>0.000277268                                   </td><td>0.000307272                                   </td></tr>\n",
       "\t<tr><th scope=row>20</th><td>X510_Group1B_70dpi_RV_top_285_B_C11_P137.mzXML</td><td>510                                           </td><td>Group1B                                       </td><td>naive                                         </td><td>75                                            </td><td>RV_top                                        </td><td>C11                                           </td><td>P137                                          </td><td>0.02183469                                    </td><td>0.02107616                                    </td><td>0.000487923                                   </td><td>0.002627399                                   </td><td>0.000999993                                   </td></tr>\n",
       "\t<tr><th scope=row>21</th><td>X526_Group1B_70dpi_RV_top_286_B_C12_P137.mzXML</td><td>526                                           </td><td>Group1B                                       </td><td>naive                                         </td><td>75                                            </td><td>RV_top                                        </td><td>C12                                           </td><td>P137                                          </td><td>0.02308679                                    </td><td>0.01768534                                    </td><td>0.000000000                                   </td><td>0.000000000                                   </td><td>0.000000000                                   </td></tr>\n",
       "</tbody>\n",
       "</table>\n"
      ],
      "text/latex": [
       "\\begin{tabular}{r|lllllllllllll}\n",
       "  & filename & MouseID & Treatmentgroup & status & DPI & organ & well\\_position & plate & mass\\_400 & mass\\_500 & mass\\_600 & mass\\_700 & mass\\_800\\\\\n",
       "\\hline\n",
       "\t16 & X506\\_Group1B\\_70dpi\\_RV\\_top\\_281\\_B\\_C7\\_P137.mzXML  & 506                                                            & Group1B                                                        & naive                                                          & 75                                                             & RV\\_top                                                       & C7                                                             & P137                                                           & 0.02829035                                                     & 0.02631465                                                     & 0.000521709                                                    & 0.001231503                                                    & 0.001111573                                                   \\\\\n",
       "\t17 & X507\\_Group1B\\_70dpi\\_RV\\_top\\_282\\_B\\_C8\\_P137.mzXML  & 507                                                            & Group1B                                                        & naive                                                          & 75                                                             & RV\\_top                                                       & C8                                                             & P137                                                           & 0.01650909                                                     & 0.01371294                                                     & 0.000176998                                                    & 0.000702323                                                    & 0.000291528                                                   \\\\\n",
       "\t18 & X508\\_Group1B\\_70dpi\\_RV\\_top\\_283\\_B\\_C9\\_P137.mzXML  & 508                                                            & Group1B                                                        & naive                                                          & 75                                                             & RV\\_top                                                       & C9                                                             & P137                                                           & 0.02786944                                                     & 0.02524112                                                     & 0.000669473                                                    & 0.002659125                                                    & 0.002395484                                                   \\\\\n",
       "\t19 & X509\\_Group1B\\_70dpi\\_RV\\_top\\_284\\_B\\_C10\\_P137.mzXML & 509                                                            & Group1B                                                        & naive                                                          & 75                                                             & RV\\_top                                                       & C10                                                            & P137                                                           & 0.02597842                                                     & 0.01965684                                                     & 0.000259646                                                    & 0.000277268                                                    & 0.000307272                                                   \\\\\n",
       "\t20 & X510\\_Group1B\\_70dpi\\_RV\\_top\\_285\\_B\\_C11\\_P137.mzXML & 510                                                            & Group1B                                                        & naive                                                          & 75                                                             & RV\\_top                                                       & C11                                                            & P137                                                           & 0.02183469                                                     & 0.02107616                                                     & 0.000487923                                                    & 0.002627399                                                    & 0.000999993                                                   \\\\\n",
       "\t21 & X526\\_Group1B\\_70dpi\\_RV\\_top\\_286\\_B\\_C12\\_P137.mzXML & 526                                                            & Group1B                                                        & naive                                                          & 75                                                             & RV\\_top                                                       & C12                                                            & P137                                                           & 0.02308679                                                     & 0.01768534                                                     & 0.000000000                                                    & 0.000000000                                                    & 0.000000000                                                   \\\\\n",
       "\\end{tabular}\n"
      ],
      "text/markdown": [
       "\n",
       "| <!--/--> | filename | MouseID | Treatmentgroup | status | DPI | organ | well_position | plate | mass_400 | mass_500 | mass_600 | mass_700 | mass_800 |\n",
       "|---|---|---|---|---|---|---|---|---|---|---|---|---|---|\n",
       "| 16 | X506_Group1B_70dpi_RV_top_281_B_C7_P137.mzXML  | 506                                            | Group1B                                        | naive                                          | 75                                             | RV_top                                         | C7                                             | P137                                           | 0.02829035                                     | 0.02631465                                     | 0.000521709                                    | 0.001231503                                    | 0.001111573                                    |\n",
       "| 17 | X507_Group1B_70dpi_RV_top_282_B_C8_P137.mzXML  | 507                                            | Group1B                                        | naive                                          | 75                                             | RV_top                                         | C8                                             | P137                                           | 0.01650909                                     | 0.01371294                                     | 0.000176998                                    | 0.000702323                                    | 0.000291528                                    |\n",
       "| 18 | X508_Group1B_70dpi_RV_top_283_B_C9_P137.mzXML  | 508                                            | Group1B                                        | naive                                          | 75                                             | RV_top                                         | C9                                             | P137                                           | 0.02786944                                     | 0.02524112                                     | 0.000669473                                    | 0.002659125                                    | 0.002395484                                    |\n",
       "| 19 | X509_Group1B_70dpi_RV_top_284_B_C10_P137.mzXML | 509                                            | Group1B                                        | naive                                          | 75                                             | RV_top                                         | C10                                            | P137                                           | 0.02597842                                     | 0.01965684                                     | 0.000259646                                    | 0.000277268                                    | 0.000307272                                    |\n",
       "| 20 | X510_Group1B_70dpi_RV_top_285_B_C11_P137.mzXML | 510                                            | Group1B                                        | naive                                          | 75                                             | RV_top                                         | C11                                            | P137                                           | 0.02183469                                     | 0.02107616                                     | 0.000487923                                    | 0.002627399                                    | 0.000999993                                    |\n",
       "| 21 | X526_Group1B_70dpi_RV_top_286_B_C12_P137.mzXML | 526                                            | Group1B                                        | naive                                          | 75                                             | RV_top                                         | C12                                            | P137                                           | 0.02308679                                     | 0.01768534                                     | 0.000000000                                    | 0.000000000                                    | 0.000000000                                    |\n",
       "\n"
      ],
      "text/plain": [
       "   filename                                       MouseID Treatmentgroup status\n",
       "16 X506_Group1B_70dpi_RV_top_281_B_C7_P137.mzXML  506     Group1B        naive \n",
       "17 X507_Group1B_70dpi_RV_top_282_B_C8_P137.mzXML  507     Group1B        naive \n",
       "18 X508_Group1B_70dpi_RV_top_283_B_C9_P137.mzXML  508     Group1B        naive \n",
       "19 X509_Group1B_70dpi_RV_top_284_B_C10_P137.mzXML 509     Group1B        naive \n",
       "20 X510_Group1B_70dpi_RV_top_285_B_C11_P137.mzXML 510     Group1B        naive \n",
       "21 X526_Group1B_70dpi_RV_top_286_B_C12_P137.mzXML 526     Group1B        naive \n",
       "   DPI organ  well_position plate mass_400   mass_500   mass_600    mass_700   \n",
       "16 75  RV_top C7            P137  0.02829035 0.02631465 0.000521709 0.001231503\n",
       "17 75  RV_top C8            P137  0.01650909 0.01371294 0.000176998 0.000702323\n",
       "18 75  RV_top C9            P137  0.02786944 0.02524112 0.000669473 0.002659125\n",
       "19 75  RV_top C10           P137  0.02597842 0.01965684 0.000259646 0.000277268\n",
       "20 75  RV_top C11           P137  0.02183469 0.02107616 0.000487923 0.002627399\n",
       "21 75  RV_top C12           P137  0.02308679 0.01768534 0.000000000 0.000000000\n",
       "   mass_800   \n",
       "16 0.001111573\n",
       "17 0.000291528\n",
       "18 0.002395484\n",
       "19 0.000307272\n",
       "20 0.000999993\n",
       "21 0.000000000"
      ]
     },
     "metadata": {},
     "output_type": "display_data"
    },
    {
     "data": {
      "text/html": [
       "<ol class=list-inline>\n",
       "\t<li>30</li>\n",
       "\t<li>13</li>\n",
       "</ol>\n"
      ],
      "text/latex": [
       "\\begin{enumerate*}\n",
       "\\item 30\n",
       "\\item 13\n",
       "\\end{enumerate*}\n"
      ],
      "text/markdown": [
       "1. 30\n",
       "2. 13\n",
       "\n",
       "\n"
      ],
      "text/plain": [
       "[1] 30 13"
      ]
     },
     "metadata": {},
     "output_type": "display_data"
    }
   ],
   "source": [
    "features_pos<-droplevels(subset(a, a$Treatmentgroup==c(\"Group1B\")|a$Treatmentgroup==c(\"Group3B\")))\n",
    "head(features_pos)\n",
    "dim(features_pos)"
   ]
  },
  {
   "cell_type": "code",
   "execution_count": 14,
   "metadata": {
    "scrolled": false
   },
   "outputs": [
    {
     "data": {
      "text/html": [
       "<table>\n",
       "<thead><tr><th></th><th scope=col>mass_400</th><th scope=col>mass_500</th><th scope=col>mass_600</th><th scope=col>mass_700</th><th scope=col>mass_800</th></tr></thead>\n",
       "<tbody>\n",
       "\t<tr><th scope=row>16</th><td>0.02829035 </td><td>0.02631465 </td><td>0.000521709</td><td>0.001231503</td><td>0.001111573</td></tr>\n",
       "\t<tr><th scope=row>17</th><td>0.01650909 </td><td>0.01371294 </td><td>0.000176998</td><td>0.000702323</td><td>0.000291528</td></tr>\n",
       "\t<tr><th scope=row>18</th><td>0.02786944 </td><td>0.02524112 </td><td>0.000669473</td><td>0.002659125</td><td>0.002395484</td></tr>\n",
       "\t<tr><th scope=row>19</th><td>0.02597842 </td><td>0.01965684 </td><td>0.000259646</td><td>0.000277268</td><td>0.000307272</td></tr>\n",
       "\t<tr><th scope=row>20</th><td>0.02183469 </td><td>0.02107616 </td><td>0.000487923</td><td>0.002627399</td><td>0.000999993</td></tr>\n",
       "\t<tr><th scope=row>21</th><td>0.02308679 </td><td>0.01768534 </td><td>0.000000000</td><td>0.000000000</td><td>0.000000000</td></tr>\n",
       "</tbody>\n",
       "</table>\n"
      ],
      "text/latex": [
       "\\begin{tabular}{r|lllll}\n",
       "  & mass\\_400 & mass\\_500 & mass\\_600 & mass\\_700 & mass\\_800\\\\\n",
       "\\hline\n",
       "\t16 & 0.02829035  & 0.02631465  & 0.000521709 & 0.001231503 & 0.001111573\\\\\n",
       "\t17 & 0.01650909  & 0.01371294  & 0.000176998 & 0.000702323 & 0.000291528\\\\\n",
       "\t18 & 0.02786944  & 0.02524112  & 0.000669473 & 0.002659125 & 0.002395484\\\\\n",
       "\t19 & 0.02597842  & 0.01965684  & 0.000259646 & 0.000277268 & 0.000307272\\\\\n",
       "\t20 & 0.02183469  & 0.02107616  & 0.000487923 & 0.002627399 & 0.000999993\\\\\n",
       "\t21 & 0.02308679  & 0.01768534  & 0.000000000 & 0.000000000 & 0.000000000\\\\\n",
       "\\end{tabular}\n"
      ],
      "text/markdown": [
       "\n",
       "| <!--/--> | mass_400 | mass_500 | mass_600 | mass_700 | mass_800 |\n",
       "|---|---|---|---|---|---|\n",
       "| 16 | 0.02829035  | 0.02631465  | 0.000521709 | 0.001231503 | 0.001111573 |\n",
       "| 17 | 0.01650909  | 0.01371294  | 0.000176998 | 0.000702323 | 0.000291528 |\n",
       "| 18 | 0.02786944  | 0.02524112  | 0.000669473 | 0.002659125 | 0.002395484 |\n",
       "| 19 | 0.02597842  | 0.01965684  | 0.000259646 | 0.000277268 | 0.000307272 |\n",
       "| 20 | 0.02183469  | 0.02107616  | 0.000487923 | 0.002627399 | 0.000999993 |\n",
       "| 21 | 0.02308679  | 0.01768534  | 0.000000000 | 0.000000000 | 0.000000000 |\n",
       "\n"
      ],
      "text/plain": [
       "   mass_400   mass_500   mass_600    mass_700    mass_800   \n",
       "16 0.02829035 0.02631465 0.000521709 0.001231503 0.001111573\n",
       "17 0.01650909 0.01371294 0.000176998 0.000702323 0.000291528\n",
       "18 0.02786944 0.02524112 0.000669473 0.002659125 0.002395484\n",
       "19 0.02597842 0.01965684 0.000259646 0.000277268 0.000307272\n",
       "20 0.02183469 0.02107616 0.000487923 0.002627399 0.000999993\n",
       "21 0.02308679 0.01768534 0.000000000 0.000000000 0.000000000"
      ]
     },
     "metadata": {},
     "output_type": "display_data"
    },
    {
     "data": {
      "text/html": [
       "<dl class=dl-horizontal>\n",
       "\t<dt>mass_400</dt>\n",
       "\t\t<dd>1</dd>\n",
       "\t<dt>mass_500</dt>\n",
       "\t\t<dd>2</dd>\n",
       "\t<dt>mass_600</dt>\n",
       "\t\t<dd>3</dd>\n",
       "\t<dt>mass_700</dt>\n",
       "\t\t<dd>4</dd>\n",
       "\t<dt>mass_800</dt>\n",
       "\t\t<dd>5</dd>\n",
       "</dl>\n"
      ],
      "text/latex": [
       "\\begin{description*}\n",
       "\\item[mass\\textbackslash{}\\_400] 1\n",
       "\\item[mass\\textbackslash{}\\_500] 2\n",
       "\\item[mass\\textbackslash{}\\_600] 3\n",
       "\\item[mass\\textbackslash{}\\_700] 4\n",
       "\\item[mass\\textbackslash{}\\_800] 5\n",
       "\\end{description*}\n"
      ],
      "text/markdown": [
       "mass_400\n",
       ":   1mass_500\n",
       ":   2mass_600\n",
       ":   3mass_700\n",
       ":   4mass_800\n",
       ":   5\n",
       "\n"
      ],
      "text/plain": [
       "mass_400 mass_500 mass_600 mass_700 mass_800 \n",
       "       1        2        3        4        5 "
      ]
     },
     "metadata": {},
     "output_type": "display_data"
    },
    {
     "data": {
      "text/html": [
       "<table>\n",
       "<thead><tr><th></th><th scope=col>mass_400</th><th scope=col>mass_500</th><th scope=col>mass_600</th><th scope=col>mass_700</th><th scope=col>mass_800</th></tr></thead>\n",
       "<tbody>\n",
       "\t<tr><th scope=row>16</th><td>0.02829035 </td><td>0.026314654</td><td>0.000521709</td><td>0.001231503</td><td>0.001111573</td></tr>\n",
       "\t<tr><th scope=row>17</th><td>0.01650909 </td><td>0.013712936</td><td>0.000176998</td><td>0.000702323</td><td>0.000291528</td></tr>\n",
       "\t<tr><th scope=row>18</th><td>0.02786944 </td><td>0.025241117</td><td>0.000669473</td><td>0.002659125</td><td>0.002395484</td></tr>\n",
       "\t<tr><th scope=row>19</th><td>0.02597842 </td><td>0.019656841</td><td>0.000259646</td><td>0.000277268</td><td>0.000307272</td></tr>\n",
       "\t<tr><th scope=row>20</th><td>0.02183469 </td><td>0.021076159</td><td>0.000487923</td><td>0.002627399</td><td>0.000999993</td></tr>\n",
       "\t<tr><th scope=row>21</th><td>0.02308679 </td><td>0.017685343</td><td>0.000000000</td><td>0.000000000</td><td>0.000000000</td></tr>\n",
       "\t<tr><th scope=row>22</th><td>0.02532326 </td><td>0.019407102</td><td>0.000170324</td><td>0.000908431</td><td>0.001415452</td></tr>\n",
       "\t<tr><th scope=row>23</th><td>0.02701675 </td><td>0.025229646</td><td>0.000670253</td><td>0.004663670</td><td>0.001108364</td></tr>\n",
       "\t<tr><th scope=row>24</th><td>0.02845910 </td><td>0.024932229</td><td>0.000713878</td><td>0.002469131</td><td>0.002234198</td></tr>\n",
       "\t<tr><th scope=row>25</th><td>0.02343865 </td><td>0.020411546</td><td>0.000472105</td><td>0.001969746</td><td>0.001541190</td></tr>\n",
       "\t<tr><th scope=row>26</th><td>0.02607431 </td><td>0.015906301</td><td>0.000056600</td><td>0.000000000</td><td>0.000000000</td></tr>\n",
       "\t<tr><th scope=row>27</th><td>0.02677134 </td><td>0.021909598</td><td>0.000142043</td><td>0.000727161</td><td>0.000624602</td></tr>\n",
       "\t<tr><th scope=row>28</th><td>0.02192479 </td><td>0.020091425</td><td>0.000203263</td><td>0.000137050</td><td>0.000354992</td></tr>\n",
       "\t<tr><th scope=row>29</th><td>0.01803150 </td><td>0.010160374</td><td>0.000000000</td><td>0.004428732</td><td>0.003446633</td></tr>\n",
       "\t<tr><th scope=row>30</th><td>0.02004994 </td><td>0.021787965</td><td>0.000394119</td><td>0.000265588</td><td>0.000108865</td></tr>\n",
       "\t<tr><th scope=row>61</th><td>0.02762708 </td><td>0.021071430</td><td>0.000498200</td><td>0.004099359</td><td>0.002700295</td></tr>\n",
       "\t<tr><th scope=row>62</th><td>0.04314576 </td><td>0.020205036</td><td>0.000239261</td><td>0.000750799</td><td>0.001235833</td></tr>\n",
       "\t<tr><th scope=row>63</th><td>0.02946021 </td><td>0.017856799</td><td>0.000070600</td><td>0.000447399</td><td>0.000438667</td></tr>\n",
       "\t<tr><th scope=row>64</th><td>0.06231127 </td><td>0.041419913</td><td>0.000323008</td><td>0.002775628</td><td>0.002390480</td></tr>\n",
       "\t<tr><th scope=row>65</th><td>0.01631311 </td><td>0.009600036</td><td>0.000000000</td><td>0.001844596</td><td>0.001903228</td></tr>\n",
       "\t<tr><th scope=row>66</th><td>0.04802440 </td><td>0.044644487</td><td>0.000896564</td><td>0.008269324</td><td>0.010145917</td></tr>\n",
       "\t<tr><th scope=row>67</th><td>0.04389333 </td><td>0.036248344</td><td>0.002061836</td><td>0.014700000</td><td>0.016089932</td></tr>\n",
       "\t<tr><th scope=row>68</th><td>0.03976691 </td><td>0.037026131</td><td>0.000508362</td><td>0.002474151</td><td>0.003717155</td></tr>\n",
       "\t<tr><th scope=row>69</th><td>0.03603614 </td><td>0.026982566</td><td>0.000664659</td><td>0.000530660</td><td>0.000000000</td></tr>\n",
       "\t<tr><th scope=row>70</th><td>0.04095716 </td><td>0.038188670</td><td>0.001848312</td><td>0.017300000</td><td>0.010942724</td></tr>\n",
       "\t<tr><th scope=row>71</th><td>0.03353604 </td><td>0.031533887</td><td>0.000405268</td><td>0.001024217</td><td>0.002044378</td></tr>\n",
       "\t<tr><th scope=row>72</th><td>0.06270397 </td><td>0.044500000</td><td>0.001386760</td><td>0.003797722</td><td>0.004373541</td></tr>\n",
       "\t<tr><th scope=row>73</th><td>0.02772244 </td><td>0.025377334</td><td>0.000301620</td><td>0.002163251</td><td>0.002609286</td></tr>\n",
       "\t<tr><th scope=row>74</th><td>0.02673381 </td><td>0.028752269</td><td>0.000239000</td><td>0.003784602</td><td>0.006666790</td></tr>\n",
       "\t<tr><th scope=row>75</th><td>0.04541079 </td><td>0.040653036</td><td>0.000347810</td><td>0.005873776</td><td>0.005628684</td></tr>\n",
       "</tbody>\n",
       "</table>\n"
      ],
      "text/latex": [
       "\\begin{tabular}{r|lllll}\n",
       "  & mass\\_400 & mass\\_500 & mass\\_600 & mass\\_700 & mass\\_800\\\\\n",
       "\\hline\n",
       "\t16 & 0.02829035  & 0.026314654 & 0.000521709 & 0.001231503 & 0.001111573\\\\\n",
       "\t17 & 0.01650909  & 0.013712936 & 0.000176998 & 0.000702323 & 0.000291528\\\\\n",
       "\t18 & 0.02786944  & 0.025241117 & 0.000669473 & 0.002659125 & 0.002395484\\\\\n",
       "\t19 & 0.02597842  & 0.019656841 & 0.000259646 & 0.000277268 & 0.000307272\\\\\n",
       "\t20 & 0.02183469  & 0.021076159 & 0.000487923 & 0.002627399 & 0.000999993\\\\\n",
       "\t21 & 0.02308679  & 0.017685343 & 0.000000000 & 0.000000000 & 0.000000000\\\\\n",
       "\t22 & 0.02532326  & 0.019407102 & 0.000170324 & 0.000908431 & 0.001415452\\\\\n",
       "\t23 & 0.02701675  & 0.025229646 & 0.000670253 & 0.004663670 & 0.001108364\\\\\n",
       "\t24 & 0.02845910  & 0.024932229 & 0.000713878 & 0.002469131 & 0.002234198\\\\\n",
       "\t25 & 0.02343865  & 0.020411546 & 0.000472105 & 0.001969746 & 0.001541190\\\\\n",
       "\t26 & 0.02607431  & 0.015906301 & 0.000056600 & 0.000000000 & 0.000000000\\\\\n",
       "\t27 & 0.02677134  & 0.021909598 & 0.000142043 & 0.000727161 & 0.000624602\\\\\n",
       "\t28 & 0.02192479  & 0.020091425 & 0.000203263 & 0.000137050 & 0.000354992\\\\\n",
       "\t29 & 0.01803150  & 0.010160374 & 0.000000000 & 0.004428732 & 0.003446633\\\\\n",
       "\t30 & 0.02004994  & 0.021787965 & 0.000394119 & 0.000265588 & 0.000108865\\\\\n",
       "\t61 & 0.02762708  & 0.021071430 & 0.000498200 & 0.004099359 & 0.002700295\\\\\n",
       "\t62 & 0.04314576  & 0.020205036 & 0.000239261 & 0.000750799 & 0.001235833\\\\\n",
       "\t63 & 0.02946021  & 0.017856799 & 0.000070600 & 0.000447399 & 0.000438667\\\\\n",
       "\t64 & 0.06231127  & 0.041419913 & 0.000323008 & 0.002775628 & 0.002390480\\\\\n",
       "\t65 & 0.01631311  & 0.009600036 & 0.000000000 & 0.001844596 & 0.001903228\\\\\n",
       "\t66 & 0.04802440  & 0.044644487 & 0.000896564 & 0.008269324 & 0.010145917\\\\\n",
       "\t67 & 0.04389333  & 0.036248344 & 0.002061836 & 0.014700000 & 0.016089932\\\\\n",
       "\t68 & 0.03976691  & 0.037026131 & 0.000508362 & 0.002474151 & 0.003717155\\\\\n",
       "\t69 & 0.03603614  & 0.026982566 & 0.000664659 & 0.000530660 & 0.000000000\\\\\n",
       "\t70 & 0.04095716  & 0.038188670 & 0.001848312 & 0.017300000 & 0.010942724\\\\\n",
       "\t71 & 0.03353604  & 0.031533887 & 0.000405268 & 0.001024217 & 0.002044378\\\\\n",
       "\t72 & 0.06270397  & 0.044500000 & 0.001386760 & 0.003797722 & 0.004373541\\\\\n",
       "\t73 & 0.02772244  & 0.025377334 & 0.000301620 & 0.002163251 & 0.002609286\\\\\n",
       "\t74 & 0.02673381  & 0.028752269 & 0.000239000 & 0.003784602 & 0.006666790\\\\\n",
       "\t75 & 0.04541079  & 0.040653036 & 0.000347810 & 0.005873776 & 0.005628684\\\\\n",
       "\\end{tabular}\n"
      ],
      "text/markdown": [
       "\n",
       "| <!--/--> | mass_400 | mass_500 | mass_600 | mass_700 | mass_800 |\n",
       "|---|---|---|---|---|---|\n",
       "| 16 | 0.02829035  | 0.026314654 | 0.000521709 | 0.001231503 | 0.001111573 |\n",
       "| 17 | 0.01650909  | 0.013712936 | 0.000176998 | 0.000702323 | 0.000291528 |\n",
       "| 18 | 0.02786944  | 0.025241117 | 0.000669473 | 0.002659125 | 0.002395484 |\n",
       "| 19 | 0.02597842  | 0.019656841 | 0.000259646 | 0.000277268 | 0.000307272 |\n",
       "| 20 | 0.02183469  | 0.021076159 | 0.000487923 | 0.002627399 | 0.000999993 |\n",
       "| 21 | 0.02308679  | 0.017685343 | 0.000000000 | 0.000000000 | 0.000000000 |\n",
       "| 22 | 0.02532326  | 0.019407102 | 0.000170324 | 0.000908431 | 0.001415452 |\n",
       "| 23 | 0.02701675  | 0.025229646 | 0.000670253 | 0.004663670 | 0.001108364 |\n",
       "| 24 | 0.02845910  | 0.024932229 | 0.000713878 | 0.002469131 | 0.002234198 |\n",
       "| 25 | 0.02343865  | 0.020411546 | 0.000472105 | 0.001969746 | 0.001541190 |\n",
       "| 26 | 0.02607431  | 0.015906301 | 0.000056600 | 0.000000000 | 0.000000000 |\n",
       "| 27 | 0.02677134  | 0.021909598 | 0.000142043 | 0.000727161 | 0.000624602 |\n",
       "| 28 | 0.02192479  | 0.020091425 | 0.000203263 | 0.000137050 | 0.000354992 |\n",
       "| 29 | 0.01803150  | 0.010160374 | 0.000000000 | 0.004428732 | 0.003446633 |\n",
       "| 30 | 0.02004994  | 0.021787965 | 0.000394119 | 0.000265588 | 0.000108865 |\n",
       "| 61 | 0.02762708  | 0.021071430 | 0.000498200 | 0.004099359 | 0.002700295 |\n",
       "| 62 | 0.04314576  | 0.020205036 | 0.000239261 | 0.000750799 | 0.001235833 |\n",
       "| 63 | 0.02946021  | 0.017856799 | 0.000070600 | 0.000447399 | 0.000438667 |\n",
       "| 64 | 0.06231127  | 0.041419913 | 0.000323008 | 0.002775628 | 0.002390480 |\n",
       "| 65 | 0.01631311  | 0.009600036 | 0.000000000 | 0.001844596 | 0.001903228 |\n",
       "| 66 | 0.04802440  | 0.044644487 | 0.000896564 | 0.008269324 | 0.010145917 |\n",
       "| 67 | 0.04389333  | 0.036248344 | 0.002061836 | 0.014700000 | 0.016089932 |\n",
       "| 68 | 0.03976691  | 0.037026131 | 0.000508362 | 0.002474151 | 0.003717155 |\n",
       "| 69 | 0.03603614  | 0.026982566 | 0.000664659 | 0.000530660 | 0.000000000 |\n",
       "| 70 | 0.04095716  | 0.038188670 | 0.001848312 | 0.017300000 | 0.010942724 |\n",
       "| 71 | 0.03353604  | 0.031533887 | 0.000405268 | 0.001024217 | 0.002044378 |\n",
       "| 72 | 0.06270397  | 0.044500000 | 0.001386760 | 0.003797722 | 0.004373541 |\n",
       "| 73 | 0.02772244  | 0.025377334 | 0.000301620 | 0.002163251 | 0.002609286 |\n",
       "| 74 | 0.02673381  | 0.028752269 | 0.000239000 | 0.003784602 | 0.006666790 |\n",
       "| 75 | 0.04541079  | 0.040653036 | 0.000347810 | 0.005873776 | 0.005628684 |\n",
       "\n"
      ],
      "text/plain": [
       "   mass_400   mass_500    mass_600    mass_700    mass_800   \n",
       "16 0.02829035 0.026314654 0.000521709 0.001231503 0.001111573\n",
       "17 0.01650909 0.013712936 0.000176998 0.000702323 0.000291528\n",
       "18 0.02786944 0.025241117 0.000669473 0.002659125 0.002395484\n",
       "19 0.02597842 0.019656841 0.000259646 0.000277268 0.000307272\n",
       "20 0.02183469 0.021076159 0.000487923 0.002627399 0.000999993\n",
       "21 0.02308679 0.017685343 0.000000000 0.000000000 0.000000000\n",
       "22 0.02532326 0.019407102 0.000170324 0.000908431 0.001415452\n",
       "23 0.02701675 0.025229646 0.000670253 0.004663670 0.001108364\n",
       "24 0.02845910 0.024932229 0.000713878 0.002469131 0.002234198\n",
       "25 0.02343865 0.020411546 0.000472105 0.001969746 0.001541190\n",
       "26 0.02607431 0.015906301 0.000056600 0.000000000 0.000000000\n",
       "27 0.02677134 0.021909598 0.000142043 0.000727161 0.000624602\n",
       "28 0.02192479 0.020091425 0.000203263 0.000137050 0.000354992\n",
       "29 0.01803150 0.010160374 0.000000000 0.004428732 0.003446633\n",
       "30 0.02004994 0.021787965 0.000394119 0.000265588 0.000108865\n",
       "61 0.02762708 0.021071430 0.000498200 0.004099359 0.002700295\n",
       "62 0.04314576 0.020205036 0.000239261 0.000750799 0.001235833\n",
       "63 0.02946021 0.017856799 0.000070600 0.000447399 0.000438667\n",
       "64 0.06231127 0.041419913 0.000323008 0.002775628 0.002390480\n",
       "65 0.01631311 0.009600036 0.000000000 0.001844596 0.001903228\n",
       "66 0.04802440 0.044644487 0.000896564 0.008269324 0.010145917\n",
       "67 0.04389333 0.036248344 0.002061836 0.014700000 0.016089932\n",
       "68 0.03976691 0.037026131 0.000508362 0.002474151 0.003717155\n",
       "69 0.03603614 0.026982566 0.000664659 0.000530660 0.000000000\n",
       "70 0.04095716 0.038188670 0.001848312 0.017300000 0.010942724\n",
       "71 0.03353604 0.031533887 0.000405268 0.001024217 0.002044378\n",
       "72 0.06270397 0.044500000 0.001386760 0.003797722 0.004373541\n",
       "73 0.02772244 0.025377334 0.000301620 0.002163251 0.002609286\n",
       "74 0.02673381 0.028752269 0.000239000 0.003784602 0.006666790\n",
       "75 0.04541079 0.040653036 0.000347810 0.005873776 0.005628684"
      ]
     },
     "metadata": {},
     "output_type": "display_data"
    },
    {
     "data": {
      "text/html": [
       "<table>\n",
       "<thead><tr><th></th><th scope=col>filename</th><th scope=col>MouseID</th><th scope=col>Treatmentgroup</th><th scope=col>status</th><th scope=col>DPI</th><th scope=col>organ</th><th scope=col>well_position</th><th scope=col>plate</th><th scope=col>mass_400</th><th scope=col>mass_500</th><th scope=col>mass_600</th><th scope=col>mass_700</th><th scope=col>mass_800</th></tr></thead>\n",
       "<tbody>\n",
       "\t<tr><th scope=row>16</th><td>X506_Group1B_70dpi_RV_top_281_B_C7_P137.mzXML </td><td>506                                           </td><td>Group1B                                       </td><td>naive                                         </td><td>75                                            </td><td>RV_top                                        </td><td>C7                                            </td><td>P137                                          </td><td>0.02829035                                    </td><td>0.02631465                                    </td><td>0.000521709                                   </td><td>0.001231503                                   </td><td>0.001111573                                   </td></tr>\n",
       "\t<tr><th scope=row>17</th><td>X507_Group1B_70dpi_RV_top_282_B_C8_P137.mzXML </td><td>507                                           </td><td>Group1B                                       </td><td>naive                                         </td><td>75                                            </td><td>RV_top                                        </td><td>C8                                            </td><td>P137                                          </td><td>0.01650909                                    </td><td>0.01371294                                    </td><td>0.000176998                                   </td><td>0.000702323                                   </td><td>0.000291528                                   </td></tr>\n",
       "\t<tr><th scope=row>18</th><td>X508_Group1B_70dpi_RV_top_283_B_C9_P137.mzXML </td><td>508                                           </td><td>Group1B                                       </td><td>naive                                         </td><td>75                                            </td><td>RV_top                                        </td><td>C9                                            </td><td>P137                                          </td><td>0.02786944                                    </td><td>0.02524112                                    </td><td>0.000669473                                   </td><td>0.002659125                                   </td><td>0.002395484                                   </td></tr>\n",
       "\t<tr><th scope=row>19</th><td>X509_Group1B_70dpi_RV_top_284_B_C10_P137.mzXML</td><td>509                                           </td><td>Group1B                                       </td><td>naive                                         </td><td>75                                            </td><td>RV_top                                        </td><td>C10                                           </td><td>P137                                          </td><td>0.02597842                                    </td><td>0.01965684                                    </td><td>0.000259646                                   </td><td>0.000277268                                   </td><td>0.000307272                                   </td></tr>\n",
       "\t<tr><th scope=row>20</th><td>X510_Group1B_70dpi_RV_top_285_B_C11_P137.mzXML</td><td>510                                           </td><td>Group1B                                       </td><td>naive                                         </td><td>75                                            </td><td>RV_top                                        </td><td>C11                                           </td><td>P137                                          </td><td>0.02183469                                    </td><td>0.02107616                                    </td><td>0.000487923                                   </td><td>0.002627399                                   </td><td>0.000999993                                   </td></tr>\n",
       "\t<tr><th scope=row>21</th><td>X526_Group1B_70dpi_RV_top_286_B_C12_P137.mzXML</td><td>526                                           </td><td>Group1B                                       </td><td>naive                                         </td><td>75                                            </td><td>RV_top                                        </td><td>C12                                           </td><td>P137                                          </td><td>0.02308679                                    </td><td>0.01768534                                    </td><td>0.000000000                                   </td><td>0.000000000                                   </td><td>0.000000000                                   </td></tr>\n",
       "</tbody>\n",
       "</table>\n"
      ],
      "text/latex": [
       "\\begin{tabular}{r|lllllllllllll}\n",
       "  & filename & MouseID & Treatmentgroup & status & DPI & organ & well\\_position & plate & mass\\_400 & mass\\_500 & mass\\_600 & mass\\_700 & mass\\_800\\\\\n",
       "\\hline\n",
       "\t16 & X506\\_Group1B\\_70dpi\\_RV\\_top\\_281\\_B\\_C7\\_P137.mzXML  & 506                                                            & Group1B                                                        & naive                                                          & 75                                                             & RV\\_top                                                       & C7                                                             & P137                                                           & 0.02829035                                                     & 0.02631465                                                     & 0.000521709                                                    & 0.001231503                                                    & 0.001111573                                                   \\\\\n",
       "\t17 & X507\\_Group1B\\_70dpi\\_RV\\_top\\_282\\_B\\_C8\\_P137.mzXML  & 507                                                            & Group1B                                                        & naive                                                          & 75                                                             & RV\\_top                                                       & C8                                                             & P137                                                           & 0.01650909                                                     & 0.01371294                                                     & 0.000176998                                                    & 0.000702323                                                    & 0.000291528                                                   \\\\\n",
       "\t18 & X508\\_Group1B\\_70dpi\\_RV\\_top\\_283\\_B\\_C9\\_P137.mzXML  & 508                                                            & Group1B                                                        & naive                                                          & 75                                                             & RV\\_top                                                       & C9                                                             & P137                                                           & 0.02786944                                                     & 0.02524112                                                     & 0.000669473                                                    & 0.002659125                                                    & 0.002395484                                                   \\\\\n",
       "\t19 & X509\\_Group1B\\_70dpi\\_RV\\_top\\_284\\_B\\_C10\\_P137.mzXML & 509                                                            & Group1B                                                        & naive                                                          & 75                                                             & RV\\_top                                                       & C10                                                            & P137                                                           & 0.02597842                                                     & 0.01965684                                                     & 0.000259646                                                    & 0.000277268                                                    & 0.000307272                                                   \\\\\n",
       "\t20 & X510\\_Group1B\\_70dpi\\_RV\\_top\\_285\\_B\\_C11\\_P137.mzXML & 510                                                            & Group1B                                                        & naive                                                          & 75                                                             & RV\\_top                                                       & C11                                                            & P137                                                           & 0.02183469                                                     & 0.02107616                                                     & 0.000487923                                                    & 0.002627399                                                    & 0.000999993                                                   \\\\\n",
       "\t21 & X526\\_Group1B\\_70dpi\\_RV\\_top\\_286\\_B\\_C12\\_P137.mzXML & 526                                                            & Group1B                                                        & naive                                                          & 75                                                             & RV\\_top                                                       & C12                                                            & P137                                                           & 0.02308679                                                     & 0.01768534                                                     & 0.000000000                                                    & 0.000000000                                                    & 0.000000000                                                   \\\\\n",
       "\\end{tabular}\n"
      ],
      "text/markdown": [
       "\n",
       "| <!--/--> | filename | MouseID | Treatmentgroup | status | DPI | organ | well_position | plate | mass_400 | mass_500 | mass_600 | mass_700 | mass_800 |\n",
       "|---|---|---|---|---|---|---|---|---|---|---|---|---|---|\n",
       "| 16 | X506_Group1B_70dpi_RV_top_281_B_C7_P137.mzXML  | 506                                            | Group1B                                        | naive                                          | 75                                             | RV_top                                         | C7                                             | P137                                           | 0.02829035                                     | 0.02631465                                     | 0.000521709                                    | 0.001231503                                    | 0.001111573                                    |\n",
       "| 17 | X507_Group1B_70dpi_RV_top_282_B_C8_P137.mzXML  | 507                                            | Group1B                                        | naive                                          | 75                                             | RV_top                                         | C8                                             | P137                                           | 0.01650909                                     | 0.01371294                                     | 0.000176998                                    | 0.000702323                                    | 0.000291528                                    |\n",
       "| 18 | X508_Group1B_70dpi_RV_top_283_B_C9_P137.mzXML  | 508                                            | Group1B                                        | naive                                          | 75                                             | RV_top                                         | C9                                             | P137                                           | 0.02786944                                     | 0.02524112                                     | 0.000669473                                    | 0.002659125                                    | 0.002395484                                    |\n",
       "| 19 | X509_Group1B_70dpi_RV_top_284_B_C10_P137.mzXML | 509                                            | Group1B                                        | naive                                          | 75                                             | RV_top                                         | C10                                            | P137                                           | 0.02597842                                     | 0.01965684                                     | 0.000259646                                    | 0.000277268                                    | 0.000307272                                    |\n",
       "| 20 | X510_Group1B_70dpi_RV_top_285_B_C11_P137.mzXML | 510                                            | Group1B                                        | naive                                          | 75                                             | RV_top                                         | C11                                            | P137                                           | 0.02183469                                     | 0.02107616                                     | 0.000487923                                    | 0.002627399                                    | 0.000999993                                    |\n",
       "| 21 | X526_Group1B_70dpi_RV_top_286_B_C12_P137.mzXML | 526                                            | Group1B                                        | naive                                          | 75                                             | RV_top                                         | C12                                            | P137                                           | 0.02308679                                     | 0.01768534                                     | 0.000000000                                    | 0.000000000                                    | 0.000000000                                    |\n",
       "\n"
      ],
      "text/plain": [
       "   filename                                       MouseID Treatmentgroup status\n",
       "16 X506_Group1B_70dpi_RV_top_281_B_C7_P137.mzXML  506     Group1B        naive \n",
       "17 X507_Group1B_70dpi_RV_top_282_B_C8_P137.mzXML  507     Group1B        naive \n",
       "18 X508_Group1B_70dpi_RV_top_283_B_C9_P137.mzXML  508     Group1B        naive \n",
       "19 X509_Group1B_70dpi_RV_top_284_B_C10_P137.mzXML 509     Group1B        naive \n",
       "20 X510_Group1B_70dpi_RV_top_285_B_C11_P137.mzXML 510     Group1B        naive \n",
       "21 X526_Group1B_70dpi_RV_top_286_B_C12_P137.mzXML 526     Group1B        naive \n",
       "   DPI organ  well_position plate mass_400   mass_500   mass_600    mass_700   \n",
       "16 75  RV_top C7            P137  0.02829035 0.02631465 0.000521709 0.001231503\n",
       "17 75  RV_top C8            P137  0.01650909 0.01371294 0.000176998 0.000702323\n",
       "18 75  RV_top C9            P137  0.02786944 0.02524112 0.000669473 0.002659125\n",
       "19 75  RV_top C10           P137  0.02597842 0.01965684 0.000259646 0.000277268\n",
       "20 75  RV_top C11           P137  0.02183469 0.02107616 0.000487923 0.002627399\n",
       "21 75  RV_top C12           P137  0.02308679 0.01768534 0.000000000 0.000000000\n",
       "   mass_800   \n",
       "16 0.001111573\n",
       "17 0.000291528\n",
       "18 0.002395484\n",
       "19 0.000307272\n",
       "20 0.000999993\n",
       "21 0.000000000"
      ]
     },
     "metadata": {},
     "output_type": "display_data"
    },
    {
     "data": {
      "text/html": [
       "<ol class=list-inline>\n",
       "\t<li>30</li>\n",
       "\t<li>13</li>\n",
       "</ol>\n"
      ],
      "text/latex": [
       "\\begin{enumerate*}\n",
       "\\item 30\n",
       "\\item 13\n",
       "\\end{enumerate*}\n"
      ],
      "text/markdown": [
       "1. 30\n",
       "2. 13\n",
       "\n",
       "\n"
      ],
      "text/plain": [
       "[1] 30 13"
      ]
     },
     "metadata": {},
     "output_type": "display_data"
    },
    {
     "data": {
      "text/html": [
       "<ol class=list-inline>\n",
       "\t<li>30</li>\n",
       "\t<li>5</li>\n",
       "</ol>\n"
      ],
      "text/latex": [
       "\\begin{enumerate*}\n",
       "\\item 30\n",
       "\\item 5\n",
       "\\end{enumerate*}\n"
      ],
      "text/markdown": [
       "1. 30\n",
       "2. 5\n",
       "\n",
       "\n"
      ],
      "text/plain": [
       "[1] 30  5"
      ]
     },
     "metadata": {},
     "output_type": "display_data"
    },
    {
     "data": {
      "text/html": [
       "<ol class=list-inline>\n",
       "\t<li>30</li>\n",
       "\t<li>5</li>\n",
       "</ol>\n"
      ],
      "text/latex": [
       "\\begin{enumerate*}\n",
       "\\item 30\n",
       "\\item 5\n",
       "\\end{enumerate*}\n"
      ],
      "text/markdown": [
       "1. 30\n",
       "2. 5\n",
       "\n",
       "\n"
      ],
      "text/plain": [
       "[1] 30  5"
      ]
     },
     "metadata": {},
     "output_type": "display_data"
    },
    {
     "data": {
      "text/html": [
       "<ol class=list-inline>\n",
       "\t<li>30</li>\n",
       "\t<li>13</li>\n",
       "</ol>\n"
      ],
      "text/latex": [
       "\\begin{enumerate*}\n",
       "\\item 30\n",
       "\\item 13\n",
       "\\end{enumerate*}\n"
      ],
      "text/markdown": [
       "1. 30\n",
       "2. 13\n",
       "\n",
       "\n"
      ],
      "text/plain": [
       "[1] 30 13"
      ]
     },
     "metadata": {},
     "output_type": "display_data"
    }
   ],
   "source": [
    "noMeta<-features_pos[,9:13]\n",
    "head(noMeta)\n",
    "not_zero<-which(colSums(noMeta) != 0)\n",
    "head(not_zero)\n",
    "nonzero <- noMeta[, not_zero]\n",
    "nonzero\n",
    "nonzero_wMeta<-cbind(features_pos[,1:8], nonzero)\n",
    "head(nonzero_wMeta)\n",
    "dim(features_pos)\n",
    "dim(noMeta)\n",
    "dim(nonzero)\n",
    "dim(nonzero_wMeta)"
   ]
  },
  {
   "cell_type": "code",
   "execution_count": 15,
   "metadata": {
    "scrolled": true
   },
   "outputs": [
    {
     "name": "stderr",
     "output_type": "stream",
     "text": [
      "Warning message in wilcox.test.default(x = c(0.000521709, 0.000176998, 0.000669473, :\n",
      "\"cannot compute exact p-value with ties\"Warning message in wilcox.test.default(x = c(0.001231503, 0.000702323, 0.002659125, :\n",
      "\"cannot compute exact p-value with ties\"Warning message in wilcox.test.default(x = c(0.001111573, 0.000291528, 0.002395484, :\n",
      "\"cannot compute exact p-value with ties\""
     ]
    },
    {
     "data": {
      "text/html": [
       "<ol class=list-inline>\n",
       "\t<li>0.000140358097525025</li>\n",
       "\t<li>0.00270187403718162</li>\n",
       "\t<li>0.184214736160848</li>\n",
       "\t<li>0.0250867132479978</li>\n",
       "\t<li>0.00213526416780115</li>\n",
       "</ol>\n"
      ],
      "text/latex": [
       "\\begin{enumerate*}\n",
       "\\item 0.000140358097525025\n",
       "\\item 0.00270187403718162\n",
       "\\item 0.184214736160848\n",
       "\\item 0.0250867132479978\n",
       "\\item 0.00213526416780115\n",
       "\\end{enumerate*}\n"
      ],
      "text/markdown": [
       "1. 0.000140358097525025\n",
       "2. 0.00270187403718162\n",
       "3. 0.184214736160848\n",
       "4. 0.0250867132479978\n",
       "5. 0.00213526416780115\n",
       "\n",
       "\n"
      ],
      "text/plain": [
       "[1] 0.0001403581 0.0027018740 0.1842147362 0.0250867132 0.0021352642"
      ]
     },
     "metadata": {},
     "output_type": "display_data"
    },
    {
     "data": {
      "text/html": [
       "<ol class=list-inline>\n",
       "\t<li>0.000701790487625124</li>\n",
       "\t<li>0.00450312339530269</li>\n",
       "\t<li>0.184214736160848</li>\n",
       "\t<li>0.0313583915599973</li>\n",
       "\t<li>0.00450312339530269</li>\n",
       "</ol>\n"
      ],
      "text/latex": [
       "\\begin{enumerate*}\n",
       "\\item 0.000701790487625124\n",
       "\\item 0.00450312339530269\n",
       "\\item 0.184214736160848\n",
       "\\item 0.0313583915599973\n",
       "\\item 0.00450312339530269\n",
       "\\end{enumerate*}\n"
      ],
      "text/markdown": [
       "1. 0.000701790487625124\n",
       "2. 0.00450312339530269\n",
       "3. 0.184214736160848\n",
       "4. 0.0313583915599973\n",
       "5. 0.00450312339530269\n",
       "\n",
       "\n"
      ],
      "text/plain": [
       "[1] 0.0007017905 0.0045031234 0.1842147362 0.0313583916 0.0045031234"
      ]
     },
     "metadata": {},
     "output_type": "display_data"
    }
   ],
   "source": [
    "pval<-c()\n",
    "\n",
    "for (i in 9:ncol(nonzero_wMeta)) \n",
    "pval<-c(pval,wilcox.test(nonzero_wMeta[,i]~nonzero_wMeta$Treatmentgroup)$p.value)\n",
    "head(pval)\n",
    "pAdj <- p.adjust(pval, method = c(\"fdr\"), n=length(pval)) \n",
    "head(pAdj) \n",
    "\n"
   ]
  },
  {
   "cell_type": "code",
   "execution_count": 16,
   "metadata": {
    "scrolled": true
   },
   "outputs": [
    {
     "data": {
      "text/html": [
       "5"
      ],
      "text/latex": [
       "5"
      ],
      "text/markdown": [
       "5"
      ],
      "text/plain": [
       "[1] 5"
      ]
     },
     "metadata": {},
     "output_type": "display_data"
    }
   ],
   "source": [
    "length(pval)"
   ]
  },
  {
   "cell_type": "code",
   "execution_count": 17,
   "metadata": {
    "scrolled": true
   },
   "outputs": [
    {
     "data": {
      "text/html": [
       "5"
      ],
      "text/latex": [
       "5"
      ],
      "text/markdown": [
       "5"
      ],
      "text/plain": [
       "[1] 5"
      ]
     },
     "metadata": {},
     "output_type": "display_data"
    }
   ],
   "source": [
    "length(pAdj)"
   ]
  },
  {
   "cell_type": "code",
   "execution_count": 18,
   "metadata": {},
   "outputs": [
    {
     "data": {
      "text/html": [
       "<ol class=list-inline>\n",
       "\t<li>2</li>\n",
       "\t<li>5</li>\n",
       "</ol>\n"
      ],
      "text/latex": [
       "\\begin{enumerate*}\n",
       "\\item 2\n",
       "\\item 5\n",
       "\\end{enumerate*}\n"
      ],
      "text/markdown": [
       "1. 2\n",
       "2. 5\n",
       "\n",
       "\n"
      ],
      "text/plain": [
       "[1] 2 5"
      ]
     },
     "metadata": {},
     "output_type": "display_data"
    },
    {
     "data": {
      "text/html": [
       "<table>\n",
       "<thead><tr><th></th><th scope=col>mass_400</th><th scope=col>mass_500</th><th scope=col>mass_600</th></tr></thead>\n",
       "<tbody>\n",
       "\t<tr><th scope=row>Group1B</th><td>0.02404389  </td><td>0.02023488  </td><td>0.0003292223</td></tr>\n",
       "\t<tr><th scope=row>Group3B</th><td>0.03890949  </td><td>0.03093733  </td><td>0.0006527507</td></tr>\n",
       "</tbody>\n",
       "</table>\n"
      ],
      "text/latex": [
       "\\begin{tabular}{r|lll}\n",
       "  & mass\\_400 & mass\\_500 & mass\\_600\\\\\n",
       "\\hline\n",
       "\tGroup1B & 0.02404389   & 0.02023488   & 0.0003292223\\\\\n",
       "\tGroup3B & 0.03890949   & 0.03093733   & 0.0006527507\\\\\n",
       "\\end{tabular}\n"
      ],
      "text/markdown": [
       "\n",
       "| <!--/--> | mass_400 | mass_500 | mass_600 |\n",
       "|---|---|---|---|\n",
       "| Group1B | 0.02404389   | 0.02023488   | 0.0003292223 |\n",
       "| Group3B | 0.03890949   | 0.03093733   | 0.0006527507 |\n",
       "\n"
      ],
      "text/plain": [
       "        mass_400   mass_500   mass_600    \n",
       "Group1B 0.02404389 0.02023488 0.0003292223\n",
       "Group3B 0.03890949 0.03093733 0.0006527507"
      ]
     },
     "metadata": {},
     "output_type": "display_data"
    },
    {
     "data": {
      "text/html": [
       "<dl class=dl-horizontal>\n",
       "\t<dt>mass_400</dt>\n",
       "\t\t<dd>0.617944147311118</dd>\n",
       "\t<dt>mass_500</dt>\n",
       "\t\t<dd>0.654060415790514</dd>\n",
       "\t<dt>mass_600</dt>\n",
       "\t\t<dd>0.504361440713453</dd>\n",
       "\t<dt>mass_700</dt>\n",
       "\t\t<dd>0.330306681915457</dd>\n",
       "\t<dt>mass_800</dt>\n",
       "\t\t<dd>0.224867270981342</dd>\n",
       "</dl>\n"
      ],
      "text/latex": [
       "\\begin{description*}\n",
       "\\item[mass\\textbackslash{}\\_400] 0.617944147311118\n",
       "\\item[mass\\textbackslash{}\\_500] 0.654060415790514\n",
       "\\item[mass\\textbackslash{}\\_600] 0.504361440713453\n",
       "\\item[mass\\textbackslash{}\\_700] 0.330306681915457\n",
       "\\item[mass\\textbackslash{}\\_800] 0.224867270981342\n",
       "\\end{description*}\n"
      ],
      "text/markdown": [
       "mass_400\n",
       ":   0.617944147311118mass_500\n",
       ":   0.654060415790514mass_600\n",
       ":   0.504361440713453mass_700\n",
       ":   0.330306681915457mass_800\n",
       ":   0.224867270981342\n",
       "\n"
      ],
      "text/plain": [
       " mass_400  mass_500  mass_600  mass_700  mass_800 \n",
       "0.6179441 0.6540604 0.5043614 0.3303067 0.2248673 "
      ]
     },
     "metadata": {},
     "output_type": "display_data"
    },
    {
     "data": {
      "text/html": [
       "<ol class=list-inline>\n",
       "\t<li>'numeric'</li>\n",
       "\t<li>'vector'</li>\n",
       "</ol>\n"
      ],
      "text/latex": [
       "\\begin{enumerate*}\n",
       "\\item 'numeric'\n",
       "\\item 'vector'\n",
       "\\end{enumerate*}\n"
      ],
      "text/markdown": [
       "1. 'numeric'\n",
       "2. 'vector'\n",
       "\n",
       "\n"
      ],
      "text/plain": [
       "[1] \"numeric\" \"vector\" "
      ]
     },
     "metadata": {},
     "output_type": "display_data"
    }
   ],
   "source": [
    "avg<- apply(nonzero_wMeta[,9:ncol(nonzero_wMeta)], 2, function(x) tapply(x, nonzero_wMeta$Treatmentgroup, function(x) mean(x))) \n",
    "\n",
    "dim(avg)\n",
    "\n",
    "avg[,1:3]\n",
    "\n",
    "fch <- apply(avg, 2, function(x) x[1]/x[2])\n",
    "\n",
    "head(fch)\n",
    "is(fch)"
   ]
  },
  {
   "cell_type": "code",
   "execution_count": 19,
   "metadata": {
    "scrolled": true
   },
   "outputs": [
    {
     "data": {
      "text/html": [
       "<dl class=dl-horizontal>\n",
       "\t<dt>mass_400</dt>\n",
       "\t\t<dd>0.617944147311118</dd>\n",
       "\t<dt>mass_500</dt>\n",
       "\t\t<dd>0.654060415790514</dd>\n",
       "\t<dt>mass_600</dt>\n",
       "\t\t<dd>0.504361440713453</dd>\n",
       "\t<dt>mass_700</dt>\n",
       "\t\t<dd>0.330306681915457</dd>\n",
       "\t<dt>mass_800</dt>\n",
       "\t\t<dd>0.224867270981342</dd>\n",
       "</dl>\n"
      ],
      "text/latex": [
       "\\begin{description*}\n",
       "\\item[mass\\textbackslash{}\\_400] 0.617944147311118\n",
       "\\item[mass\\textbackslash{}\\_500] 0.654060415790514\n",
       "\\item[mass\\textbackslash{}\\_600] 0.504361440713453\n",
       "\\item[mass\\textbackslash{}\\_700] 0.330306681915457\n",
       "\\item[mass\\textbackslash{}\\_800] 0.224867270981342\n",
       "\\end{description*}\n"
      ],
      "text/markdown": [
       "mass_400\n",
       ":   0.617944147311118mass_500\n",
       ":   0.654060415790514mass_600\n",
       ":   0.504361440713453mass_700\n",
       ":   0.330306681915457mass_800\n",
       ":   0.224867270981342\n",
       "\n"
      ],
      "text/plain": [
       " mass_400  mass_500  mass_600  mass_700  mass_800 \n",
       "0.6179441 0.6540604 0.5043614 0.3303067 0.2248673 "
      ]
     },
     "metadata": {},
     "output_type": "display_data"
    }
   ],
   "source": [
    "fch"
   ]
  },
  {
   "cell_type": "code",
   "execution_count": 20,
   "metadata": {
    "scrolled": false
   },
   "outputs": [],
   "source": [
    "df <- data.frame(fch,pval, pAdj)\n",
    "write.csv(df, \"PC-time-RVT-wilcox-1B-3B.csv\")"
   ]
  },
  {
   "cell_type": "code",
   "execution_count": null,
   "metadata": {},
   "outputs": [],
   "source": []
  },
  {
   "cell_type": "code",
   "execution_count": null,
   "metadata": {},
   "outputs": [],
   "source": []
  },
  {
   "cell_type": "code",
   "execution_count": null,
   "metadata": {},
   "outputs": [],
   "source": []
  },
  {
   "cell_type": "code",
   "execution_count": null,
   "metadata": {},
   "outputs": [],
   "source": []
  },
  {
   "cell_type": "code",
   "execution_count": null,
   "metadata": {},
   "outputs": [],
   "source": []
  },
  {
   "cell_type": "code",
   "execution_count": null,
   "metadata": {},
   "outputs": [],
   "source": []
  }
 ],
 "metadata": {
  "kernelspec": {
   "display_name": "R",
   "language": "R",
   "name": "ir"
  },
  "language_info": {
   "codemirror_mode": "r",
   "file_extension": ".r",
   "mimetype": "text/x-r-source",
   "name": "R",
   "pygments_lexer": "r",
   "version": "3.6.1"
  }
 },
 "nbformat": 4,
 "nbformat_minor": 2
}
