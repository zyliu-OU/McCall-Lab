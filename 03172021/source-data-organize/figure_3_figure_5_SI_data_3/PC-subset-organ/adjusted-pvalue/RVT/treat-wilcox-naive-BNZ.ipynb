{
 "cells": [
  {
   "cell_type": "code",
   "execution_count": 11,
   "metadata": {},
   "outputs": [],
   "source": [
    "a <- read.csv(\"03172021-PC-treatment-RVT-M-F.csv\")"
   ]
  },
  {
   "cell_type": "code",
   "execution_count": 12,
   "metadata": {},
   "outputs": [
    {
     "data": {
      "text/html": [
       "<table>\n",
       "<thead><tr><th scope=col>filename</th><th scope=col>MouseID</th><th scope=col>Treatmentgroup</th><th scope=col>DPI</th><th scope=col>organ</th><th scope=col>well_position</th><th scope=col>plate</th><th scope=col>mass_400</th><th scope=col>mass_500</th><th scope=col>mass_600</th><th scope=col>mass_700</th><th scope=col>mass_800</th></tr></thead>\n",
       "<tbody>\n",
       "\t<tr><td>X511_Group1C_142dpi_RV_top_161_G_A1_P136.mzXML</td><td>511                                           </td><td>naive                                         </td><td>142dpi                                        </td><td>RV_top                                        </td><td>A1                                            </td><td>P136                                          </td><td>0.03209193                                    </td><td>0.026205891                                   </td><td>0.000100362                                   </td><td>0.000000000                                   </td><td>0.000000000                                   </td></tr>\n",
       "\t<tr><td>X512_Group1C_142dpi_RV_top_162_G_A2_P136.mzXML</td><td>512                                           </td><td>naive                                         </td><td>142dpi                                        </td><td>RV_top                                        </td><td>A2                                            </td><td>P136                                          </td><td>0.02540288                                    </td><td>0.030534463                                   </td><td>0.000454363                                   </td><td>0.001898197                                   </td><td>0.000330184                                   </td></tr>\n",
       "\t<tr><td>X513_Group1C_142dpi_RV_top_163_G_A3_P136.mzXML</td><td>513                                           </td><td>naive                                         </td><td>142dpi                                        </td><td>RV_top                                        </td><td>A3                                            </td><td>P136                                          </td><td>0.03366528                                    </td><td>0.032277149                                   </td><td>0.000964191                                   </td><td>0.000102656                                   </td><td>0.000358707                                   </td></tr>\n",
       "\t<tr><td>X514_Group1C_142dpi_RV_top_164_G_A4_P136.mzXML</td><td>514                                           </td><td>naive                                         </td><td>142dpi                                        </td><td>RV_top                                        </td><td>A4                                            </td><td>P136                                          </td><td>0.01959612                                    </td><td>0.020882444                                   </td><td>0.000388447                                   </td><td>0.002484004                                   </td><td>0.000096300                                   </td></tr>\n",
       "\t<tr><td>X515_Group1C_142dpi_RV_top_165_G_A5_P136.mzXML</td><td>515                                           </td><td>naive                                         </td><td>142dpi                                        </td><td>RV_top                                        </td><td>A5                                            </td><td>P136                                          </td><td>0.05050674                                    </td><td>0.045026912                                   </td><td>0.000908792                                   </td><td>0.000529243                                   </td><td>0.000356704                                   </td></tr>\n",
       "\t<tr><td>X531_Group1C_142dpi_RV_top_166_G_A6_P136.mzXML</td><td>531                                           </td><td>naive                                         </td><td>142dpi                                        </td><td>RV_top                                        </td><td>A6                                            </td><td>P136                                          </td><td>0.01417874                                    </td><td>0.009011964                                   </td><td>0.000051900                                   </td><td>0.003505334                                   </td><td>0.001524456                                   </td></tr>\n",
       "</tbody>\n",
       "</table>\n"
      ],
      "text/latex": [
       "\\begin{tabular}{r|llllllllllll}\n",
       " filename & MouseID & Treatmentgroup & DPI & organ & well\\_position & plate & mass\\_400 & mass\\_500 & mass\\_600 & mass\\_700 & mass\\_800\\\\\n",
       "\\hline\n",
       "\t X511\\_Group1C\\_142dpi\\_RV\\_top\\_161\\_G\\_A1\\_P136.mzXML & 511                                                            & naive                                                          & 142dpi                                                         & RV\\_top                                                       & A1                                                             & P136                                                           & 0.03209193                                                     & 0.026205891                                                    & 0.000100362                                                    & 0.000000000                                                    & 0.000000000                                                   \\\\\n",
       "\t X512\\_Group1C\\_142dpi\\_RV\\_top\\_162\\_G\\_A2\\_P136.mzXML & 512                                                            & naive                                                          & 142dpi                                                         & RV\\_top                                                       & A2                                                             & P136                                                           & 0.02540288                                                     & 0.030534463                                                    & 0.000454363                                                    & 0.001898197                                                    & 0.000330184                                                   \\\\\n",
       "\t X513\\_Group1C\\_142dpi\\_RV\\_top\\_163\\_G\\_A3\\_P136.mzXML & 513                                                            & naive                                                          & 142dpi                                                         & RV\\_top                                                       & A3                                                             & P136                                                           & 0.03366528                                                     & 0.032277149                                                    & 0.000964191                                                    & 0.000102656                                                    & 0.000358707                                                   \\\\\n",
       "\t X514\\_Group1C\\_142dpi\\_RV\\_top\\_164\\_G\\_A4\\_P136.mzXML & 514                                                            & naive                                                          & 142dpi                                                         & RV\\_top                                                       & A4                                                             & P136                                                           & 0.01959612                                                     & 0.020882444                                                    & 0.000388447                                                    & 0.002484004                                                    & 0.000096300                                                   \\\\\n",
       "\t X515\\_Group1C\\_142dpi\\_RV\\_top\\_165\\_G\\_A5\\_P136.mzXML & 515                                                            & naive                                                          & 142dpi                                                         & RV\\_top                                                       & A5                                                             & P136                                                           & 0.05050674                                                     & 0.045026912                                                    & 0.000908792                                                    & 0.000529243                                                    & 0.000356704                                                   \\\\\n",
       "\t X531\\_Group1C\\_142dpi\\_RV\\_top\\_166\\_G\\_A6\\_P136.mzXML & 531                                                            & naive                                                          & 142dpi                                                         & RV\\_top                                                       & A6                                                             & P136                                                           & 0.01417874                                                     & 0.009011964                                                    & 0.000051900                                                    & 0.003505334                                                    & 0.001524456                                                   \\\\\n",
       "\\end{tabular}\n"
      ],
      "text/markdown": [
       "\n",
       "| filename | MouseID | Treatmentgroup | DPI | organ | well_position | plate | mass_400 | mass_500 | mass_600 | mass_700 | mass_800 |\n",
       "|---|---|---|---|---|---|---|---|---|---|---|---|\n",
       "| X511_Group1C_142dpi_RV_top_161_G_A1_P136.mzXML | 511                                            | naive                                          | 142dpi                                         | RV_top                                         | A1                                             | P136                                           | 0.03209193                                     | 0.026205891                                    | 0.000100362                                    | 0.000000000                                    | 0.000000000                                    |\n",
       "| X512_Group1C_142dpi_RV_top_162_G_A2_P136.mzXML | 512                                            | naive                                          | 142dpi                                         | RV_top                                         | A2                                             | P136                                           | 0.02540288                                     | 0.030534463                                    | 0.000454363                                    | 0.001898197                                    | 0.000330184                                    |\n",
       "| X513_Group1C_142dpi_RV_top_163_G_A3_P136.mzXML | 513                                            | naive                                          | 142dpi                                         | RV_top                                         | A3                                             | P136                                           | 0.03366528                                     | 0.032277149                                    | 0.000964191                                    | 0.000102656                                    | 0.000358707                                    |\n",
       "| X514_Group1C_142dpi_RV_top_164_G_A4_P136.mzXML | 514                                            | naive                                          | 142dpi                                         | RV_top                                         | A4                                             | P136                                           | 0.01959612                                     | 0.020882444                                    | 0.000388447                                    | 0.002484004                                    | 0.000096300                                    |\n",
       "| X515_Group1C_142dpi_RV_top_165_G_A5_P136.mzXML | 515                                            | naive                                          | 142dpi                                         | RV_top                                         | A5                                             | P136                                           | 0.05050674                                     | 0.045026912                                    | 0.000908792                                    | 0.000529243                                    | 0.000356704                                    |\n",
       "| X531_Group1C_142dpi_RV_top_166_G_A6_P136.mzXML | 531                                            | naive                                          | 142dpi                                         | RV_top                                         | A6                                             | P136                                           | 0.01417874                                     | 0.009011964                                    | 0.000051900                                    | 0.003505334                                    | 0.001524456                                    |\n",
       "\n"
      ],
      "text/plain": [
       "  filename                                       MouseID Treatmentgroup DPI   \n",
       "1 X511_Group1C_142dpi_RV_top_161_G_A1_P136.mzXML 511     naive          142dpi\n",
       "2 X512_Group1C_142dpi_RV_top_162_G_A2_P136.mzXML 512     naive          142dpi\n",
       "3 X513_Group1C_142dpi_RV_top_163_G_A3_P136.mzXML 513     naive          142dpi\n",
       "4 X514_Group1C_142dpi_RV_top_164_G_A4_P136.mzXML 514     naive          142dpi\n",
       "5 X515_Group1C_142dpi_RV_top_165_G_A5_P136.mzXML 515     naive          142dpi\n",
       "6 X531_Group1C_142dpi_RV_top_166_G_A6_P136.mzXML 531     naive          142dpi\n",
       "  organ  well_position plate mass_400   mass_500    mass_600    mass_700   \n",
       "1 RV_top A1            P136  0.03209193 0.026205891 0.000100362 0.000000000\n",
       "2 RV_top A2            P136  0.02540288 0.030534463 0.000454363 0.001898197\n",
       "3 RV_top A3            P136  0.03366528 0.032277149 0.000964191 0.000102656\n",
       "4 RV_top A4            P136  0.01959612 0.020882444 0.000388447 0.002484004\n",
       "5 RV_top A5            P136  0.05050674 0.045026912 0.000908792 0.000529243\n",
       "6 RV_top A6            P136  0.01417874 0.009011964 0.000051900 0.003505334\n",
       "  mass_800   \n",
       "1 0.000000000\n",
       "2 0.000330184\n",
       "3 0.000358707\n",
       "4 0.000096300\n",
       "5 0.000356704\n",
       "6 0.001524456"
      ]
     },
     "metadata": {},
     "output_type": "display_data"
    },
    {
     "data": {
      "text/html": [
       "<ol class=list-inline>\n",
       "\t<li>60</li>\n",
       "\t<li>12</li>\n",
       "</ol>\n"
      ],
      "text/latex": [
       "\\begin{enumerate*}\n",
       "\\item 60\n",
       "\\item 12\n",
       "\\end{enumerate*}\n"
      ],
      "text/markdown": [
       "1. 60\n",
       "2. 12\n",
       "\n",
       "\n"
      ],
      "text/plain": [
       "[1] 60 12"
      ]
     },
     "metadata": {},
     "output_type": "display_data"
    }
   ],
   "source": [
    "head(a)\n",
    "dim(a)"
   ]
  },
  {
   "cell_type": "code",
   "execution_count": 13,
   "metadata": {},
   "outputs": [
    {
     "data": {
      "text/html": [
       "<table>\n",
       "<thead><tr><th scope=col>filename</th><th scope=col>MouseID</th><th scope=col>Treatmentgroup</th><th scope=col>DPI</th><th scope=col>organ</th><th scope=col>well_position</th><th scope=col>plate</th><th scope=col>mass_400</th><th scope=col>mass_500</th><th scope=col>mass_600</th><th scope=col>mass_700</th><th scope=col>mass_800</th></tr></thead>\n",
       "<tbody>\n",
       "\t<tr><td>X511_Group1C_142dpi_RV_top_161_G_A1_P136.mzXML</td><td>511                                           </td><td>naive                                         </td><td>142dpi                                        </td><td>RV_top                                        </td><td>A1                                            </td><td>P136                                          </td><td>0.03209193                                    </td><td>0.026205891                                   </td><td>0.000100362                                   </td><td>0.000000000                                   </td><td>0.000000000                                   </td></tr>\n",
       "\t<tr><td>X512_Group1C_142dpi_RV_top_162_G_A2_P136.mzXML</td><td>512                                           </td><td>naive                                         </td><td>142dpi                                        </td><td>RV_top                                        </td><td>A2                                            </td><td>P136                                          </td><td>0.02540288                                    </td><td>0.030534463                                   </td><td>0.000454363                                   </td><td>0.001898197                                   </td><td>0.000330184                                   </td></tr>\n",
       "\t<tr><td>X513_Group1C_142dpi_RV_top_163_G_A3_P136.mzXML</td><td>513                                           </td><td>naive                                         </td><td>142dpi                                        </td><td>RV_top                                        </td><td>A3                                            </td><td>P136                                          </td><td>0.03366528                                    </td><td>0.032277149                                   </td><td>0.000964191                                   </td><td>0.000102656                                   </td><td>0.000358707                                   </td></tr>\n",
       "\t<tr><td>X514_Group1C_142dpi_RV_top_164_G_A4_P136.mzXML</td><td>514                                           </td><td>naive                                         </td><td>142dpi                                        </td><td>RV_top                                        </td><td>A4                                            </td><td>P136                                          </td><td>0.01959612                                    </td><td>0.020882444                                   </td><td>0.000388447                                   </td><td>0.002484004                                   </td><td>0.000096300                                   </td></tr>\n",
       "\t<tr><td>X515_Group1C_142dpi_RV_top_165_G_A5_P136.mzXML</td><td>515                                           </td><td>naive                                         </td><td>142dpi                                        </td><td>RV_top                                        </td><td>A5                                            </td><td>P136                                          </td><td>0.05050674                                    </td><td>0.045026912                                   </td><td>0.000908792                                   </td><td>0.000529243                                   </td><td>0.000356704                                   </td></tr>\n",
       "\t<tr><td>X531_Group1C_142dpi_RV_top_166_G_A6_P136.mzXML</td><td>531                                           </td><td>naive                                         </td><td>142dpi                                        </td><td>RV_top                                        </td><td>A6                                            </td><td>P136                                          </td><td>0.01417874                                    </td><td>0.009011964                                   </td><td>0.000051900                                   </td><td>0.003505334                                   </td><td>0.001524456                                   </td></tr>\n",
       "</tbody>\n",
       "</table>\n"
      ],
      "text/latex": [
       "\\begin{tabular}{r|llllllllllll}\n",
       " filename & MouseID & Treatmentgroup & DPI & organ & well\\_position & plate & mass\\_400 & mass\\_500 & mass\\_600 & mass\\_700 & mass\\_800\\\\\n",
       "\\hline\n",
       "\t X511\\_Group1C\\_142dpi\\_RV\\_top\\_161\\_G\\_A1\\_P136.mzXML & 511                                                            & naive                                                          & 142dpi                                                         & RV\\_top                                                       & A1                                                             & P136                                                           & 0.03209193                                                     & 0.026205891                                                    & 0.000100362                                                    & 0.000000000                                                    & 0.000000000                                                   \\\\\n",
       "\t X512\\_Group1C\\_142dpi\\_RV\\_top\\_162\\_G\\_A2\\_P136.mzXML & 512                                                            & naive                                                          & 142dpi                                                         & RV\\_top                                                       & A2                                                             & P136                                                           & 0.02540288                                                     & 0.030534463                                                    & 0.000454363                                                    & 0.001898197                                                    & 0.000330184                                                   \\\\\n",
       "\t X513\\_Group1C\\_142dpi\\_RV\\_top\\_163\\_G\\_A3\\_P136.mzXML & 513                                                            & naive                                                          & 142dpi                                                         & RV\\_top                                                       & A3                                                             & P136                                                           & 0.03366528                                                     & 0.032277149                                                    & 0.000964191                                                    & 0.000102656                                                    & 0.000358707                                                   \\\\\n",
       "\t X514\\_Group1C\\_142dpi\\_RV\\_top\\_164\\_G\\_A4\\_P136.mzXML & 514                                                            & naive                                                          & 142dpi                                                         & RV\\_top                                                       & A4                                                             & P136                                                           & 0.01959612                                                     & 0.020882444                                                    & 0.000388447                                                    & 0.002484004                                                    & 0.000096300                                                   \\\\\n",
       "\t X515\\_Group1C\\_142dpi\\_RV\\_top\\_165\\_G\\_A5\\_P136.mzXML & 515                                                            & naive                                                          & 142dpi                                                         & RV\\_top                                                       & A5                                                             & P136                                                           & 0.05050674                                                     & 0.045026912                                                    & 0.000908792                                                    & 0.000529243                                                    & 0.000356704                                                   \\\\\n",
       "\t X531\\_Group1C\\_142dpi\\_RV\\_top\\_166\\_G\\_A6\\_P136.mzXML & 531                                                            & naive                                                          & 142dpi                                                         & RV\\_top                                                       & A6                                                             & P136                                                           & 0.01417874                                                     & 0.009011964                                                    & 0.000051900                                                    & 0.003505334                                                    & 0.001524456                                                   \\\\\n",
       "\\end{tabular}\n"
      ],
      "text/markdown": [
       "\n",
       "| filename | MouseID | Treatmentgroup | DPI | organ | well_position | plate | mass_400 | mass_500 | mass_600 | mass_700 | mass_800 |\n",
       "|---|---|---|---|---|---|---|---|---|---|---|---|\n",
       "| X511_Group1C_142dpi_RV_top_161_G_A1_P136.mzXML | 511                                            | naive                                          | 142dpi                                         | RV_top                                         | A1                                             | P136                                           | 0.03209193                                     | 0.026205891                                    | 0.000100362                                    | 0.000000000                                    | 0.000000000                                    |\n",
       "| X512_Group1C_142dpi_RV_top_162_G_A2_P136.mzXML | 512                                            | naive                                          | 142dpi                                         | RV_top                                         | A2                                             | P136                                           | 0.02540288                                     | 0.030534463                                    | 0.000454363                                    | 0.001898197                                    | 0.000330184                                    |\n",
       "| X513_Group1C_142dpi_RV_top_163_G_A3_P136.mzXML | 513                                            | naive                                          | 142dpi                                         | RV_top                                         | A3                                             | P136                                           | 0.03366528                                     | 0.032277149                                    | 0.000964191                                    | 0.000102656                                    | 0.000358707                                    |\n",
       "| X514_Group1C_142dpi_RV_top_164_G_A4_P136.mzXML | 514                                            | naive                                          | 142dpi                                         | RV_top                                         | A4                                             | P136                                           | 0.01959612                                     | 0.020882444                                    | 0.000388447                                    | 0.002484004                                    | 0.000096300                                    |\n",
       "| X515_Group1C_142dpi_RV_top_165_G_A5_P136.mzXML | 515                                            | naive                                          | 142dpi                                         | RV_top                                         | A5                                             | P136                                           | 0.05050674                                     | 0.045026912                                    | 0.000908792                                    | 0.000529243                                    | 0.000356704                                    |\n",
       "| X531_Group1C_142dpi_RV_top_166_G_A6_P136.mzXML | 531                                            | naive                                          | 142dpi                                         | RV_top                                         | A6                                             | P136                                           | 0.01417874                                     | 0.009011964                                    | 0.000051900                                    | 0.003505334                                    | 0.001524456                                    |\n",
       "\n"
      ],
      "text/plain": [
       "  filename                                       MouseID Treatmentgroup DPI   \n",
       "1 X511_Group1C_142dpi_RV_top_161_G_A1_P136.mzXML 511     naive          142dpi\n",
       "2 X512_Group1C_142dpi_RV_top_162_G_A2_P136.mzXML 512     naive          142dpi\n",
       "3 X513_Group1C_142dpi_RV_top_163_G_A3_P136.mzXML 513     naive          142dpi\n",
       "4 X514_Group1C_142dpi_RV_top_164_G_A4_P136.mzXML 514     naive          142dpi\n",
       "5 X515_Group1C_142dpi_RV_top_165_G_A5_P136.mzXML 515     naive          142dpi\n",
       "6 X531_Group1C_142dpi_RV_top_166_G_A6_P136.mzXML 531     naive          142dpi\n",
       "  organ  well_position plate mass_400   mass_500    mass_600    mass_700   \n",
       "1 RV_top A1            P136  0.03209193 0.026205891 0.000100362 0.000000000\n",
       "2 RV_top A2            P136  0.02540288 0.030534463 0.000454363 0.001898197\n",
       "3 RV_top A3            P136  0.03366528 0.032277149 0.000964191 0.000102656\n",
       "4 RV_top A4            P136  0.01959612 0.020882444 0.000388447 0.002484004\n",
       "5 RV_top A5            P136  0.05050674 0.045026912 0.000908792 0.000529243\n",
       "6 RV_top A6            P136  0.01417874 0.009011964 0.000051900 0.003505334\n",
       "  mass_800   \n",
       "1 0.000000000\n",
       "2 0.000330184\n",
       "3 0.000358707\n",
       "4 0.000096300\n",
       "5 0.000356704\n",
       "6 0.001524456"
      ]
     },
     "metadata": {},
     "output_type": "display_data"
    },
    {
     "data": {
      "text/html": [
       "<ol class=list-inline>\n",
       "\t<li>30</li>\n",
       "\t<li>12</li>\n",
       "</ol>\n"
      ],
      "text/latex": [
       "\\begin{enumerate*}\n",
       "\\item 30\n",
       "\\item 12\n",
       "\\end{enumerate*}\n"
      ],
      "text/markdown": [
       "1. 30\n",
       "2. 12\n",
       "\n",
       "\n"
      ],
      "text/plain": [
       "[1] 30 12"
      ]
     },
     "metadata": {},
     "output_type": "display_data"
    }
   ],
   "source": [
    "features_pos<-droplevels(subset(a, a$Treatmentgroup==c(\"naive\")|a$Treatmentgroup==c(\"BNZ\")))\n",
    "head(features_pos)\n",
    "dim(features_pos)"
   ]
  },
  {
   "cell_type": "code",
   "execution_count": 14,
   "metadata": {
    "scrolled": false
   },
   "outputs": [
    {
     "data": {
      "text/html": [
       "<table>\n",
       "<thead><tr><th scope=col>mass_400</th><th scope=col>mass_500</th><th scope=col>mass_600</th><th scope=col>mass_700</th><th scope=col>mass_800</th></tr></thead>\n",
       "<tbody>\n",
       "\t<tr><td>0.03209193 </td><td>0.026205891</td><td>0.000100362</td><td>0.000000000</td><td>0.000000000</td></tr>\n",
       "\t<tr><td>0.02540288 </td><td>0.030534463</td><td>0.000454363</td><td>0.001898197</td><td>0.000330184</td></tr>\n",
       "\t<tr><td>0.03366528 </td><td>0.032277149</td><td>0.000964191</td><td>0.000102656</td><td>0.000358707</td></tr>\n",
       "\t<tr><td>0.01959612 </td><td>0.020882444</td><td>0.000388447</td><td>0.002484004</td><td>0.000096300</td></tr>\n",
       "\t<tr><td>0.05050674 </td><td>0.045026912</td><td>0.000908792</td><td>0.000529243</td><td>0.000356704</td></tr>\n",
       "\t<tr><td>0.01417874 </td><td>0.009011964</td><td>0.000051900</td><td>0.003505334</td><td>0.001524456</td></tr>\n",
       "</tbody>\n",
       "</table>\n"
      ],
      "text/latex": [
       "\\begin{tabular}{r|lllll}\n",
       " mass\\_400 & mass\\_500 & mass\\_600 & mass\\_700 & mass\\_800\\\\\n",
       "\\hline\n",
       "\t 0.03209193  & 0.026205891 & 0.000100362 & 0.000000000 & 0.000000000\\\\\n",
       "\t 0.02540288  & 0.030534463 & 0.000454363 & 0.001898197 & 0.000330184\\\\\n",
       "\t 0.03366528  & 0.032277149 & 0.000964191 & 0.000102656 & 0.000358707\\\\\n",
       "\t 0.01959612  & 0.020882444 & 0.000388447 & 0.002484004 & 0.000096300\\\\\n",
       "\t 0.05050674  & 0.045026912 & 0.000908792 & 0.000529243 & 0.000356704\\\\\n",
       "\t 0.01417874  & 0.009011964 & 0.000051900 & 0.003505334 & 0.001524456\\\\\n",
       "\\end{tabular}\n"
      ],
      "text/markdown": [
       "\n",
       "| mass_400 | mass_500 | mass_600 | mass_700 | mass_800 |\n",
       "|---|---|---|---|---|\n",
       "| 0.03209193  | 0.026205891 | 0.000100362 | 0.000000000 | 0.000000000 |\n",
       "| 0.02540288  | 0.030534463 | 0.000454363 | 0.001898197 | 0.000330184 |\n",
       "| 0.03366528  | 0.032277149 | 0.000964191 | 0.000102656 | 0.000358707 |\n",
       "| 0.01959612  | 0.020882444 | 0.000388447 | 0.002484004 | 0.000096300 |\n",
       "| 0.05050674  | 0.045026912 | 0.000908792 | 0.000529243 | 0.000356704 |\n",
       "| 0.01417874  | 0.009011964 | 0.000051900 | 0.003505334 | 0.001524456 |\n",
       "\n"
      ],
      "text/plain": [
       "  mass_400   mass_500    mass_600    mass_700    mass_800   \n",
       "1 0.03209193 0.026205891 0.000100362 0.000000000 0.000000000\n",
       "2 0.02540288 0.030534463 0.000454363 0.001898197 0.000330184\n",
       "3 0.03366528 0.032277149 0.000964191 0.000102656 0.000358707\n",
       "4 0.01959612 0.020882444 0.000388447 0.002484004 0.000096300\n",
       "5 0.05050674 0.045026912 0.000908792 0.000529243 0.000356704\n",
       "6 0.01417874 0.009011964 0.000051900 0.003505334 0.001524456"
      ]
     },
     "metadata": {},
     "output_type": "display_data"
    },
    {
     "data": {
      "text/html": [
       "<dl class=dl-horizontal>\n",
       "\t<dt>mass_400</dt>\n",
       "\t\t<dd>1</dd>\n",
       "\t<dt>mass_500</dt>\n",
       "\t\t<dd>2</dd>\n",
       "\t<dt>mass_600</dt>\n",
       "\t\t<dd>3</dd>\n",
       "\t<dt>mass_700</dt>\n",
       "\t\t<dd>4</dd>\n",
       "\t<dt>mass_800</dt>\n",
       "\t\t<dd>5</dd>\n",
       "</dl>\n"
      ],
      "text/latex": [
       "\\begin{description*}\n",
       "\\item[mass\\textbackslash{}\\_400] 1\n",
       "\\item[mass\\textbackslash{}\\_500] 2\n",
       "\\item[mass\\textbackslash{}\\_600] 3\n",
       "\\item[mass\\textbackslash{}\\_700] 4\n",
       "\\item[mass\\textbackslash{}\\_800] 5\n",
       "\\end{description*}\n"
      ],
      "text/markdown": [
       "mass_400\n",
       ":   1mass_500\n",
       ":   2mass_600\n",
       ":   3mass_700\n",
       ":   4mass_800\n",
       ":   5\n",
       "\n"
      ],
      "text/plain": [
       "mass_400 mass_500 mass_600 mass_700 mass_800 \n",
       "       1        2        3        4        5 "
      ]
     },
     "metadata": {},
     "output_type": "display_data"
    },
    {
     "data": {
      "text/html": [
       "<table>\n",
       "<thead><tr><th></th><th scope=col>mass_400</th><th scope=col>mass_500</th><th scope=col>mass_600</th><th scope=col>mass_700</th><th scope=col>mass_800</th></tr></thead>\n",
       "<tbody>\n",
       "\t<tr><th scope=row>1</th><td>0.032091931</td><td>0.026205891</td><td>0.000100362</td><td>0.000000000</td><td>0.000000000</td></tr>\n",
       "\t<tr><th scope=row>2</th><td>0.025402882</td><td>0.030534463</td><td>0.000454363</td><td>0.001898197</td><td>0.000330184</td></tr>\n",
       "\t<tr><th scope=row>3</th><td>0.033665283</td><td>0.032277149</td><td>0.000964191</td><td>0.000102656</td><td>0.000358707</td></tr>\n",
       "\t<tr><th scope=row>4</th><td>0.019596124</td><td>0.020882444</td><td>0.000388447</td><td>0.002484004</td><td>0.000096300</td></tr>\n",
       "\t<tr><th scope=row>5</th><td>0.050506740</td><td>0.045026912</td><td>0.000908792</td><td>0.000529243</td><td>0.000356704</td></tr>\n",
       "\t<tr><th scope=row>6</th><td>0.014178742</td><td>0.009011964</td><td>0.000051900</td><td>0.003505334</td><td>0.001524456</td></tr>\n",
       "\t<tr><th scope=row>7</th><td>0.013255028</td><td>0.009220371</td><td>0.000062000</td><td>0.000000000</td><td>0.000000000</td></tr>\n",
       "\t<tr><th scope=row>8</th><td>0.013438296</td><td>0.007907952</td><td>0.000000000</td><td>0.000000000</td><td>0.000000000</td></tr>\n",
       "\t<tr><th scope=row>9</th><td>0.025635682</td><td>0.025257531</td><td>0.000339953</td><td>0.000102069</td><td>0.000371276</td></tr>\n",
       "\t<tr><th scope=row>10</th><td>0.025950926</td><td>0.021070126</td><td>0.000483824</td><td>0.000147987</td><td>0.000340628</td></tr>\n",
       "\t<tr><th scope=row>11</th><td>0.009134552</td><td>0.006988521</td><td>0.000000000</td><td>0.000048500</td><td>0.000000000</td></tr>\n",
       "\t<tr><th scope=row>12</th><td>0.039027894</td><td>0.049926059</td><td>0.000340301</td><td>0.001124596</td><td>0.000814697</td></tr>\n",
       "\t<tr><th scope=row>13</th><td>0.036002003</td><td>0.033831190</td><td>0.000616500</td><td>0.001533659</td><td>0.000823851</td></tr>\n",
       "\t<tr><th scope=row>14</th><td>0.031592678</td><td>0.030282367</td><td>0.000705186</td><td>0.000059900</td><td>0.000000000</td></tr>\n",
       "\t<tr><th scope=row>15</th><td>0.032367747</td><td>0.027459259</td><td>0.000803847</td><td>0.001927539</td><td>0.000276280</td></tr>\n",
       "\t<tr><th scope=row>26</th><td>0.018138041</td><td>0.014911351</td><td>0.000266479</td><td>0.000892296</td><td>0.000540991</td></tr>\n",
       "\t<tr><th scope=row>27</th><td>0.012492830</td><td>0.008998047</td><td>0.000044900</td><td>0.000000000</td><td>0.000000000</td></tr>\n",
       "\t<tr><th scope=row>28</th><td>0.012406685</td><td>0.009178553</td><td>0.000069200</td><td>0.002474594</td><td>0.000565533</td></tr>\n",
       "\t<tr><th scope=row>29</th><td>0.015136540</td><td>0.014528310</td><td>0.000398556</td><td>0.000356715</td><td>0.000101230</td></tr>\n",
       "\t<tr><th scope=row>30</th><td>0.018959581</td><td>0.013924097</td><td>0.000128443</td><td>0.000000000</td><td>0.000000000</td></tr>\n",
       "\t<tr><th scope=row>41</th><td>0.021175258</td><td>0.023907936</td><td>0.000000000</td><td>0.000000000</td><td>0.000000000</td></tr>\n",
       "\t<tr><th scope=row>42</th><td>0.016752807</td><td>0.015668638</td><td>0.000239840</td><td>0.000560671</td><td>0.000365202</td></tr>\n",
       "\t<tr><th scope=row>43</th><td>0.013136061</td><td>0.014275026</td><td>0.000195078</td><td>0.000043200</td><td>0.000000000</td></tr>\n",
       "\t<tr><th scope=row>44</th><td>0.018041321</td><td>0.020564314</td><td>0.000287903</td><td>0.001035579</td><td>0.000661472</td></tr>\n",
       "\t<tr><th scope=row>45</th><td>0.033634745</td><td>0.033699527</td><td>0.000619968</td><td>0.002419877</td><td>0.000943952</td></tr>\n",
       "\t<tr><th scope=row>56</th><td>0.014946505</td><td>0.016214088</td><td>0.000455748</td><td>0.001809214</td><td>0.002247102</td></tr>\n",
       "\t<tr><th scope=row>57</th><td>0.015542208</td><td>0.015814358</td><td>0.000231976</td><td>0.000398477</td><td>0.000569978</td></tr>\n",
       "\t<tr><th scope=row>58</th><td>0.023771289</td><td>0.024346738</td><td>0.000358736</td><td>0.001392009</td><td>0.000955383</td></tr>\n",
       "\t<tr><th scope=row>59</th><td>0.034191586</td><td>0.030175431</td><td>0.000337809</td><td>0.000000000</td><td>0.000000000</td></tr>\n",
       "\t<tr><th scope=row>60</th><td>0.034749226</td><td>0.038967796</td><td>0.000684550</td><td>0.002440380</td><td>0.001087114</td></tr>\n",
       "</tbody>\n",
       "</table>\n"
      ],
      "text/latex": [
       "\\begin{tabular}{r|lllll}\n",
       "  & mass\\_400 & mass\\_500 & mass\\_600 & mass\\_700 & mass\\_800\\\\\n",
       "\\hline\n",
       "\t1 & 0.032091931 & 0.026205891 & 0.000100362 & 0.000000000 & 0.000000000\\\\\n",
       "\t2 & 0.025402882 & 0.030534463 & 0.000454363 & 0.001898197 & 0.000330184\\\\\n",
       "\t3 & 0.033665283 & 0.032277149 & 0.000964191 & 0.000102656 & 0.000358707\\\\\n",
       "\t4 & 0.019596124 & 0.020882444 & 0.000388447 & 0.002484004 & 0.000096300\\\\\n",
       "\t5 & 0.050506740 & 0.045026912 & 0.000908792 & 0.000529243 & 0.000356704\\\\\n",
       "\t6 & 0.014178742 & 0.009011964 & 0.000051900 & 0.003505334 & 0.001524456\\\\\n",
       "\t7 & 0.013255028 & 0.009220371 & 0.000062000 & 0.000000000 & 0.000000000\\\\\n",
       "\t8 & 0.013438296 & 0.007907952 & 0.000000000 & 0.000000000 & 0.000000000\\\\\n",
       "\t9 & 0.025635682 & 0.025257531 & 0.000339953 & 0.000102069 & 0.000371276\\\\\n",
       "\t10 & 0.025950926 & 0.021070126 & 0.000483824 & 0.000147987 & 0.000340628\\\\\n",
       "\t11 & 0.009134552 & 0.006988521 & 0.000000000 & 0.000048500 & 0.000000000\\\\\n",
       "\t12 & 0.039027894 & 0.049926059 & 0.000340301 & 0.001124596 & 0.000814697\\\\\n",
       "\t13 & 0.036002003 & 0.033831190 & 0.000616500 & 0.001533659 & 0.000823851\\\\\n",
       "\t14 & 0.031592678 & 0.030282367 & 0.000705186 & 0.000059900 & 0.000000000\\\\\n",
       "\t15 & 0.032367747 & 0.027459259 & 0.000803847 & 0.001927539 & 0.000276280\\\\\n",
       "\t26 & 0.018138041 & 0.014911351 & 0.000266479 & 0.000892296 & 0.000540991\\\\\n",
       "\t27 & 0.012492830 & 0.008998047 & 0.000044900 & 0.000000000 & 0.000000000\\\\\n",
       "\t28 & 0.012406685 & 0.009178553 & 0.000069200 & 0.002474594 & 0.000565533\\\\\n",
       "\t29 & 0.015136540 & 0.014528310 & 0.000398556 & 0.000356715 & 0.000101230\\\\\n",
       "\t30 & 0.018959581 & 0.013924097 & 0.000128443 & 0.000000000 & 0.000000000\\\\\n",
       "\t41 & 0.021175258 & 0.023907936 & 0.000000000 & 0.000000000 & 0.000000000\\\\\n",
       "\t42 & 0.016752807 & 0.015668638 & 0.000239840 & 0.000560671 & 0.000365202\\\\\n",
       "\t43 & 0.013136061 & 0.014275026 & 0.000195078 & 0.000043200 & 0.000000000\\\\\n",
       "\t44 & 0.018041321 & 0.020564314 & 0.000287903 & 0.001035579 & 0.000661472\\\\\n",
       "\t45 & 0.033634745 & 0.033699527 & 0.000619968 & 0.002419877 & 0.000943952\\\\\n",
       "\t56 & 0.014946505 & 0.016214088 & 0.000455748 & 0.001809214 & 0.002247102\\\\\n",
       "\t57 & 0.015542208 & 0.015814358 & 0.000231976 & 0.000398477 & 0.000569978\\\\\n",
       "\t58 & 0.023771289 & 0.024346738 & 0.000358736 & 0.001392009 & 0.000955383\\\\\n",
       "\t59 & 0.034191586 & 0.030175431 & 0.000337809 & 0.000000000 & 0.000000000\\\\\n",
       "\t60 & 0.034749226 & 0.038967796 & 0.000684550 & 0.002440380 & 0.001087114\\\\\n",
       "\\end{tabular}\n"
      ],
      "text/markdown": [
       "\n",
       "| <!--/--> | mass_400 | mass_500 | mass_600 | mass_700 | mass_800 |\n",
       "|---|---|---|---|---|---|\n",
       "| 1 | 0.032091931 | 0.026205891 | 0.000100362 | 0.000000000 | 0.000000000 |\n",
       "| 2 | 0.025402882 | 0.030534463 | 0.000454363 | 0.001898197 | 0.000330184 |\n",
       "| 3 | 0.033665283 | 0.032277149 | 0.000964191 | 0.000102656 | 0.000358707 |\n",
       "| 4 | 0.019596124 | 0.020882444 | 0.000388447 | 0.002484004 | 0.000096300 |\n",
       "| 5 | 0.050506740 | 0.045026912 | 0.000908792 | 0.000529243 | 0.000356704 |\n",
       "| 6 | 0.014178742 | 0.009011964 | 0.000051900 | 0.003505334 | 0.001524456 |\n",
       "| 7 | 0.013255028 | 0.009220371 | 0.000062000 | 0.000000000 | 0.000000000 |\n",
       "| 8 | 0.013438296 | 0.007907952 | 0.000000000 | 0.000000000 | 0.000000000 |\n",
       "| 9 | 0.025635682 | 0.025257531 | 0.000339953 | 0.000102069 | 0.000371276 |\n",
       "| 10 | 0.025950926 | 0.021070126 | 0.000483824 | 0.000147987 | 0.000340628 |\n",
       "| 11 | 0.009134552 | 0.006988521 | 0.000000000 | 0.000048500 | 0.000000000 |\n",
       "| 12 | 0.039027894 | 0.049926059 | 0.000340301 | 0.001124596 | 0.000814697 |\n",
       "| 13 | 0.036002003 | 0.033831190 | 0.000616500 | 0.001533659 | 0.000823851 |\n",
       "| 14 | 0.031592678 | 0.030282367 | 0.000705186 | 0.000059900 | 0.000000000 |\n",
       "| 15 | 0.032367747 | 0.027459259 | 0.000803847 | 0.001927539 | 0.000276280 |\n",
       "| 26 | 0.018138041 | 0.014911351 | 0.000266479 | 0.000892296 | 0.000540991 |\n",
       "| 27 | 0.012492830 | 0.008998047 | 0.000044900 | 0.000000000 | 0.000000000 |\n",
       "| 28 | 0.012406685 | 0.009178553 | 0.000069200 | 0.002474594 | 0.000565533 |\n",
       "| 29 | 0.015136540 | 0.014528310 | 0.000398556 | 0.000356715 | 0.000101230 |\n",
       "| 30 | 0.018959581 | 0.013924097 | 0.000128443 | 0.000000000 | 0.000000000 |\n",
       "| 41 | 0.021175258 | 0.023907936 | 0.000000000 | 0.000000000 | 0.000000000 |\n",
       "| 42 | 0.016752807 | 0.015668638 | 0.000239840 | 0.000560671 | 0.000365202 |\n",
       "| 43 | 0.013136061 | 0.014275026 | 0.000195078 | 0.000043200 | 0.000000000 |\n",
       "| 44 | 0.018041321 | 0.020564314 | 0.000287903 | 0.001035579 | 0.000661472 |\n",
       "| 45 | 0.033634745 | 0.033699527 | 0.000619968 | 0.002419877 | 0.000943952 |\n",
       "| 56 | 0.014946505 | 0.016214088 | 0.000455748 | 0.001809214 | 0.002247102 |\n",
       "| 57 | 0.015542208 | 0.015814358 | 0.000231976 | 0.000398477 | 0.000569978 |\n",
       "| 58 | 0.023771289 | 0.024346738 | 0.000358736 | 0.001392009 | 0.000955383 |\n",
       "| 59 | 0.034191586 | 0.030175431 | 0.000337809 | 0.000000000 | 0.000000000 |\n",
       "| 60 | 0.034749226 | 0.038967796 | 0.000684550 | 0.002440380 | 0.001087114 |\n",
       "\n"
      ],
      "text/plain": [
       "   mass_400    mass_500    mass_600    mass_700    mass_800   \n",
       "1  0.032091931 0.026205891 0.000100362 0.000000000 0.000000000\n",
       "2  0.025402882 0.030534463 0.000454363 0.001898197 0.000330184\n",
       "3  0.033665283 0.032277149 0.000964191 0.000102656 0.000358707\n",
       "4  0.019596124 0.020882444 0.000388447 0.002484004 0.000096300\n",
       "5  0.050506740 0.045026912 0.000908792 0.000529243 0.000356704\n",
       "6  0.014178742 0.009011964 0.000051900 0.003505334 0.001524456\n",
       "7  0.013255028 0.009220371 0.000062000 0.000000000 0.000000000\n",
       "8  0.013438296 0.007907952 0.000000000 0.000000000 0.000000000\n",
       "9  0.025635682 0.025257531 0.000339953 0.000102069 0.000371276\n",
       "10 0.025950926 0.021070126 0.000483824 0.000147987 0.000340628\n",
       "11 0.009134552 0.006988521 0.000000000 0.000048500 0.000000000\n",
       "12 0.039027894 0.049926059 0.000340301 0.001124596 0.000814697\n",
       "13 0.036002003 0.033831190 0.000616500 0.001533659 0.000823851\n",
       "14 0.031592678 0.030282367 0.000705186 0.000059900 0.000000000\n",
       "15 0.032367747 0.027459259 0.000803847 0.001927539 0.000276280\n",
       "26 0.018138041 0.014911351 0.000266479 0.000892296 0.000540991\n",
       "27 0.012492830 0.008998047 0.000044900 0.000000000 0.000000000\n",
       "28 0.012406685 0.009178553 0.000069200 0.002474594 0.000565533\n",
       "29 0.015136540 0.014528310 0.000398556 0.000356715 0.000101230\n",
       "30 0.018959581 0.013924097 0.000128443 0.000000000 0.000000000\n",
       "41 0.021175258 0.023907936 0.000000000 0.000000000 0.000000000\n",
       "42 0.016752807 0.015668638 0.000239840 0.000560671 0.000365202\n",
       "43 0.013136061 0.014275026 0.000195078 0.000043200 0.000000000\n",
       "44 0.018041321 0.020564314 0.000287903 0.001035579 0.000661472\n",
       "45 0.033634745 0.033699527 0.000619968 0.002419877 0.000943952\n",
       "56 0.014946505 0.016214088 0.000455748 0.001809214 0.002247102\n",
       "57 0.015542208 0.015814358 0.000231976 0.000398477 0.000569978\n",
       "58 0.023771289 0.024346738 0.000358736 0.001392009 0.000955383\n",
       "59 0.034191586 0.030175431 0.000337809 0.000000000 0.000000000\n",
       "60 0.034749226 0.038967796 0.000684550 0.002440380 0.001087114"
      ]
     },
     "metadata": {},
     "output_type": "display_data"
    },
    {
     "data": {
      "text/html": [
       "<table>\n",
       "<thead><tr><th scope=col>filename</th><th scope=col>MouseID</th><th scope=col>Treatmentgroup</th><th scope=col>DPI</th><th scope=col>organ</th><th scope=col>well_position</th><th scope=col>plate</th><th scope=col>mass_400</th><th scope=col>mass_500</th><th scope=col>mass_600</th><th scope=col>mass_700</th><th scope=col>mass_800</th></tr></thead>\n",
       "<tbody>\n",
       "\t<tr><td>X511_Group1C_142dpi_RV_top_161_G_A1_P136.mzXML</td><td>511                                           </td><td>naive                                         </td><td>142dpi                                        </td><td>RV_top                                        </td><td>A1                                            </td><td>P136                                          </td><td>0.03209193                                    </td><td>0.026205891                                   </td><td>0.000100362                                   </td><td>0.000000000                                   </td><td>0.000000000                                   </td></tr>\n",
       "\t<tr><td>X512_Group1C_142dpi_RV_top_162_G_A2_P136.mzXML</td><td>512                                           </td><td>naive                                         </td><td>142dpi                                        </td><td>RV_top                                        </td><td>A2                                            </td><td>P136                                          </td><td>0.02540288                                    </td><td>0.030534463                                   </td><td>0.000454363                                   </td><td>0.001898197                                   </td><td>0.000330184                                   </td></tr>\n",
       "\t<tr><td>X513_Group1C_142dpi_RV_top_163_G_A3_P136.mzXML</td><td>513                                           </td><td>naive                                         </td><td>142dpi                                        </td><td>RV_top                                        </td><td>A3                                            </td><td>P136                                          </td><td>0.03366528                                    </td><td>0.032277149                                   </td><td>0.000964191                                   </td><td>0.000102656                                   </td><td>0.000358707                                   </td></tr>\n",
       "\t<tr><td>X514_Group1C_142dpi_RV_top_164_G_A4_P136.mzXML</td><td>514                                           </td><td>naive                                         </td><td>142dpi                                        </td><td>RV_top                                        </td><td>A4                                            </td><td>P136                                          </td><td>0.01959612                                    </td><td>0.020882444                                   </td><td>0.000388447                                   </td><td>0.002484004                                   </td><td>0.000096300                                   </td></tr>\n",
       "\t<tr><td>X515_Group1C_142dpi_RV_top_165_G_A5_P136.mzXML</td><td>515                                           </td><td>naive                                         </td><td>142dpi                                        </td><td>RV_top                                        </td><td>A5                                            </td><td>P136                                          </td><td>0.05050674                                    </td><td>0.045026912                                   </td><td>0.000908792                                   </td><td>0.000529243                                   </td><td>0.000356704                                   </td></tr>\n",
       "\t<tr><td>X531_Group1C_142dpi_RV_top_166_G_A6_P136.mzXML</td><td>531                                           </td><td>naive                                         </td><td>142dpi                                        </td><td>RV_top                                        </td><td>A6                                            </td><td>P136                                          </td><td>0.01417874                                    </td><td>0.009011964                                   </td><td>0.000051900                                   </td><td>0.003505334                                   </td><td>0.001524456                                   </td></tr>\n",
       "</tbody>\n",
       "</table>\n"
      ],
      "text/latex": [
       "\\begin{tabular}{r|llllllllllll}\n",
       " filename & MouseID & Treatmentgroup & DPI & organ & well\\_position & plate & mass\\_400 & mass\\_500 & mass\\_600 & mass\\_700 & mass\\_800\\\\\n",
       "\\hline\n",
       "\t X511\\_Group1C\\_142dpi\\_RV\\_top\\_161\\_G\\_A1\\_P136.mzXML & 511                                                            & naive                                                          & 142dpi                                                         & RV\\_top                                                       & A1                                                             & P136                                                           & 0.03209193                                                     & 0.026205891                                                    & 0.000100362                                                    & 0.000000000                                                    & 0.000000000                                                   \\\\\n",
       "\t X512\\_Group1C\\_142dpi\\_RV\\_top\\_162\\_G\\_A2\\_P136.mzXML & 512                                                            & naive                                                          & 142dpi                                                         & RV\\_top                                                       & A2                                                             & P136                                                           & 0.02540288                                                     & 0.030534463                                                    & 0.000454363                                                    & 0.001898197                                                    & 0.000330184                                                   \\\\\n",
       "\t X513\\_Group1C\\_142dpi\\_RV\\_top\\_163\\_G\\_A3\\_P136.mzXML & 513                                                            & naive                                                          & 142dpi                                                         & RV\\_top                                                       & A3                                                             & P136                                                           & 0.03366528                                                     & 0.032277149                                                    & 0.000964191                                                    & 0.000102656                                                    & 0.000358707                                                   \\\\\n",
       "\t X514\\_Group1C\\_142dpi\\_RV\\_top\\_164\\_G\\_A4\\_P136.mzXML & 514                                                            & naive                                                          & 142dpi                                                         & RV\\_top                                                       & A4                                                             & P136                                                           & 0.01959612                                                     & 0.020882444                                                    & 0.000388447                                                    & 0.002484004                                                    & 0.000096300                                                   \\\\\n",
       "\t X515\\_Group1C\\_142dpi\\_RV\\_top\\_165\\_G\\_A5\\_P136.mzXML & 515                                                            & naive                                                          & 142dpi                                                         & RV\\_top                                                       & A5                                                             & P136                                                           & 0.05050674                                                     & 0.045026912                                                    & 0.000908792                                                    & 0.000529243                                                    & 0.000356704                                                   \\\\\n",
       "\t X531\\_Group1C\\_142dpi\\_RV\\_top\\_166\\_G\\_A6\\_P136.mzXML & 531                                                            & naive                                                          & 142dpi                                                         & RV\\_top                                                       & A6                                                             & P136                                                           & 0.01417874                                                     & 0.009011964                                                    & 0.000051900                                                    & 0.003505334                                                    & 0.001524456                                                   \\\\\n",
       "\\end{tabular}\n"
      ],
      "text/markdown": [
       "\n",
       "| filename | MouseID | Treatmentgroup | DPI | organ | well_position | plate | mass_400 | mass_500 | mass_600 | mass_700 | mass_800 |\n",
       "|---|---|---|---|---|---|---|---|---|---|---|---|\n",
       "| X511_Group1C_142dpi_RV_top_161_G_A1_P136.mzXML | 511                                            | naive                                          | 142dpi                                         | RV_top                                         | A1                                             | P136                                           | 0.03209193                                     | 0.026205891                                    | 0.000100362                                    | 0.000000000                                    | 0.000000000                                    |\n",
       "| X512_Group1C_142dpi_RV_top_162_G_A2_P136.mzXML | 512                                            | naive                                          | 142dpi                                         | RV_top                                         | A2                                             | P136                                           | 0.02540288                                     | 0.030534463                                    | 0.000454363                                    | 0.001898197                                    | 0.000330184                                    |\n",
       "| X513_Group1C_142dpi_RV_top_163_G_A3_P136.mzXML | 513                                            | naive                                          | 142dpi                                         | RV_top                                         | A3                                             | P136                                           | 0.03366528                                     | 0.032277149                                    | 0.000964191                                    | 0.000102656                                    | 0.000358707                                    |\n",
       "| X514_Group1C_142dpi_RV_top_164_G_A4_P136.mzXML | 514                                            | naive                                          | 142dpi                                         | RV_top                                         | A4                                             | P136                                           | 0.01959612                                     | 0.020882444                                    | 0.000388447                                    | 0.002484004                                    | 0.000096300                                    |\n",
       "| X515_Group1C_142dpi_RV_top_165_G_A5_P136.mzXML | 515                                            | naive                                          | 142dpi                                         | RV_top                                         | A5                                             | P136                                           | 0.05050674                                     | 0.045026912                                    | 0.000908792                                    | 0.000529243                                    | 0.000356704                                    |\n",
       "| X531_Group1C_142dpi_RV_top_166_G_A6_P136.mzXML | 531                                            | naive                                          | 142dpi                                         | RV_top                                         | A6                                             | P136                                           | 0.01417874                                     | 0.009011964                                    | 0.000051900                                    | 0.003505334                                    | 0.001524456                                    |\n",
       "\n"
      ],
      "text/plain": [
       "  filename                                       MouseID Treatmentgroup DPI   \n",
       "1 X511_Group1C_142dpi_RV_top_161_G_A1_P136.mzXML 511     naive          142dpi\n",
       "2 X512_Group1C_142dpi_RV_top_162_G_A2_P136.mzXML 512     naive          142dpi\n",
       "3 X513_Group1C_142dpi_RV_top_163_G_A3_P136.mzXML 513     naive          142dpi\n",
       "4 X514_Group1C_142dpi_RV_top_164_G_A4_P136.mzXML 514     naive          142dpi\n",
       "5 X515_Group1C_142dpi_RV_top_165_G_A5_P136.mzXML 515     naive          142dpi\n",
       "6 X531_Group1C_142dpi_RV_top_166_G_A6_P136.mzXML 531     naive          142dpi\n",
       "  organ  well_position plate mass_400   mass_500    mass_600    mass_700   \n",
       "1 RV_top A1            P136  0.03209193 0.026205891 0.000100362 0.000000000\n",
       "2 RV_top A2            P136  0.02540288 0.030534463 0.000454363 0.001898197\n",
       "3 RV_top A3            P136  0.03366528 0.032277149 0.000964191 0.000102656\n",
       "4 RV_top A4            P136  0.01959612 0.020882444 0.000388447 0.002484004\n",
       "5 RV_top A5            P136  0.05050674 0.045026912 0.000908792 0.000529243\n",
       "6 RV_top A6            P136  0.01417874 0.009011964 0.000051900 0.003505334\n",
       "  mass_800   \n",
       "1 0.000000000\n",
       "2 0.000330184\n",
       "3 0.000358707\n",
       "4 0.000096300\n",
       "5 0.000356704\n",
       "6 0.001524456"
      ]
     },
     "metadata": {},
     "output_type": "display_data"
    },
    {
     "data": {
      "text/html": [
       "<ol class=list-inline>\n",
       "\t<li>30</li>\n",
       "\t<li>12</li>\n",
       "</ol>\n"
      ],
      "text/latex": [
       "\\begin{enumerate*}\n",
       "\\item 30\n",
       "\\item 12\n",
       "\\end{enumerate*}\n"
      ],
      "text/markdown": [
       "1. 30\n",
       "2. 12\n",
       "\n",
       "\n"
      ],
      "text/plain": [
       "[1] 30 12"
      ]
     },
     "metadata": {},
     "output_type": "display_data"
    },
    {
     "data": {
      "text/html": [
       "<ol class=list-inline>\n",
       "\t<li>30</li>\n",
       "\t<li>5</li>\n",
       "</ol>\n"
      ],
      "text/latex": [
       "\\begin{enumerate*}\n",
       "\\item 30\n",
       "\\item 5\n",
       "\\end{enumerate*}\n"
      ],
      "text/markdown": [
       "1. 30\n",
       "2. 5\n",
       "\n",
       "\n"
      ],
      "text/plain": [
       "[1] 30  5"
      ]
     },
     "metadata": {},
     "output_type": "display_data"
    },
    {
     "data": {
      "text/html": [
       "<ol class=list-inline>\n",
       "\t<li>30</li>\n",
       "\t<li>5</li>\n",
       "</ol>\n"
      ],
      "text/latex": [
       "\\begin{enumerate*}\n",
       "\\item 30\n",
       "\\item 5\n",
       "\\end{enumerate*}\n"
      ],
      "text/markdown": [
       "1. 30\n",
       "2. 5\n",
       "\n",
       "\n"
      ],
      "text/plain": [
       "[1] 30  5"
      ]
     },
     "metadata": {},
     "output_type": "display_data"
    },
    {
     "data": {
      "text/html": [
       "<ol class=list-inline>\n",
       "\t<li>30</li>\n",
       "\t<li>12</li>\n",
       "</ol>\n"
      ],
      "text/latex": [
       "\\begin{enumerate*}\n",
       "\\item 30\n",
       "\\item 12\n",
       "\\end{enumerate*}\n"
      ],
      "text/markdown": [
       "1. 30\n",
       "2. 12\n",
       "\n",
       "\n"
      ],
      "text/plain": [
       "[1] 30 12"
      ]
     },
     "metadata": {},
     "output_type": "display_data"
    }
   ],
   "source": [
    "noMeta<-features_pos[,8:12]\n",
    "head(noMeta)\n",
    "not_zero<-which(colSums(noMeta) != 0)\n",
    "head(not_zero)\n",
    "nonzero <- noMeta[, not_zero]\n",
    "nonzero\n",
    "nonzero_wMeta<-cbind(features_pos[,1:7], nonzero)\n",
    "head(nonzero_wMeta)\n",
    "dim(features_pos)\n",
    "dim(noMeta)\n",
    "dim(nonzero)\n",
    "dim(nonzero_wMeta)"
   ]
  },
  {
   "cell_type": "code",
   "execution_count": 15,
   "metadata": {
    "scrolled": true
   },
   "outputs": [
    {
     "name": "stderr",
     "output_type": "stream",
     "text": [
      "Warning message in wilcox.test.default(x = c(0.000266479, 4.49e-05, 6.92e-05, 0.000398556, :\n",
      "\"cannot compute exact p-value with ties\"Warning message in wilcox.test.default(x = c(0.000892296, 0, 0.002474594, 0.000356715, :\n",
      "\"cannot compute exact p-value with ties\"Warning message in wilcox.test.default(x = c(0.000540991, 0, 0.000565533, 0.00010123, :\n",
      "\"cannot compute exact p-value with ties\""
     ]
    },
    {
     "data": {
      "text/html": [
       "<ol class=list-inline>\n",
       "\t<li>0.136974224446085</li>\n",
       "\t<li>0.232811909318818</li>\n",
       "\t<li>0.319290548692447</li>\n",
       "\t<li>1</li>\n",
       "\t<li>0.363555623381832</li>\n",
       "</ol>\n"
      ],
      "text/latex": [
       "\\begin{enumerate*}\n",
       "\\item 0.136974224446085\n",
       "\\item 0.232811909318818\n",
       "\\item 0.319290548692447\n",
       "\\item 1\n",
       "\\item 0.363555623381832\n",
       "\\end{enumerate*}\n"
      ],
      "text/markdown": [
       "1. 0.136974224446085\n",
       "2. 0.232811909318818\n",
       "3. 0.319290548692447\n",
       "4. 1\n",
       "5. 0.363555623381832\n",
       "\n",
       "\n"
      ],
      "text/plain": [
       "[1] 0.1369742 0.2328119 0.3192905 1.0000000 0.3635556"
      ]
     },
     "metadata": {},
     "output_type": "display_data"
    },
    {
     "data": {
      "text/html": [
       "<ol class=list-inline>\n",
       "\t<li>0.454444529227291</li>\n",
       "\t<li>0.454444529227291</li>\n",
       "\t<li>0.454444529227291</li>\n",
       "\t<li>1</li>\n",
       "\t<li>0.454444529227291</li>\n",
       "</ol>\n"
      ],
      "text/latex": [
       "\\begin{enumerate*}\n",
       "\\item 0.454444529227291\n",
       "\\item 0.454444529227291\n",
       "\\item 0.454444529227291\n",
       "\\item 1\n",
       "\\item 0.454444529227291\n",
       "\\end{enumerate*}\n"
      ],
      "text/markdown": [
       "1. 0.454444529227291\n",
       "2. 0.454444529227291\n",
       "3. 0.454444529227291\n",
       "4. 1\n",
       "5. 0.454444529227291\n",
       "\n",
       "\n"
      ],
      "text/plain": [
       "[1] 0.4544445 0.4544445 0.4544445 1.0000000 0.4544445"
      ]
     },
     "metadata": {},
     "output_type": "display_data"
    }
   ],
   "source": [
    "pval<-c()\n",
    "\n",
    "for (i in 8:ncol(nonzero_wMeta)) \n",
    "pval<-c(pval,wilcox.test(nonzero_wMeta[,i]~nonzero_wMeta$Treatmentgroup)$p.value)\n",
    "head(pval)\n",
    "pAdj <- p.adjust(pval, method = c(\"fdr\"), n=length(pval)) \n",
    "head(pAdj) \n",
    "\n"
   ]
  },
  {
   "cell_type": "code",
   "execution_count": 16,
   "metadata": {
    "scrolled": true
   },
   "outputs": [
    {
     "data": {
      "text/html": [
       "5"
      ],
      "text/latex": [
       "5"
      ],
      "text/markdown": [
       "5"
      ],
      "text/plain": [
       "[1] 5"
      ]
     },
     "metadata": {},
     "output_type": "display_data"
    }
   ],
   "source": [
    "length(pval)"
   ]
  },
  {
   "cell_type": "code",
   "execution_count": 17,
   "metadata": {
    "scrolled": true
   },
   "outputs": [
    {
     "data": {
      "text/html": [
       "5"
      ],
      "text/latex": [
       "5"
      ],
      "text/markdown": [
       "5"
      ],
      "text/plain": [
       "[1] 5"
      ]
     },
     "metadata": {},
     "output_type": "display_data"
    }
   ],
   "source": [
    "length(pAdj)"
   ]
  },
  {
   "cell_type": "code",
   "execution_count": 18,
   "metadata": {},
   "outputs": [
    {
     "data": {
      "text/html": [
       "<ol class=list-inline>\n",
       "\t<li>2</li>\n",
       "\t<li>5</li>\n",
       "</ol>\n"
      ],
      "text/latex": [
       "\\begin{enumerate*}\n",
       "\\item 2\n",
       "\\item 5\n",
       "\\end{enumerate*}\n"
      ],
      "text/markdown": [
       "1. 2\n",
       "2. 5\n",
       "\n",
       "\n"
      ],
      "text/plain": [
       "[1] 2 5"
      ]
     },
     "metadata": {},
     "output_type": "display_data"
    },
    {
     "data": {
      "text/html": [
       "<table>\n",
       "<thead><tr><th></th><th scope=col>mass_400</th><th scope=col>mass_500</th><th scope=col>mass_600</th></tr></thead>\n",
       "<tbody>\n",
       "\t<tr><th scope=row>BNZ</th><td>0.02020498  </td><td>0.01967828  </td><td>0.0002879457</td></tr>\n",
       "\t<tr><th scope=row>naive</th><td>0.02678977  </td><td>0.02505881  </td><td>0.0004146444</td></tr>\n",
       "</tbody>\n",
       "</table>\n"
      ],
      "text/latex": [
       "\\begin{tabular}{r|lll}\n",
       "  & mass\\_400 & mass\\_500 & mass\\_600\\\\\n",
       "\\hline\n",
       "\tBNZ & 0.02020498   & 0.01967828   & 0.0002879457\\\\\n",
       "\tnaive & 0.02678977   & 0.02505881   & 0.0004146444\\\\\n",
       "\\end{tabular}\n"
      ],
      "text/markdown": [
       "\n",
       "| <!--/--> | mass_400 | mass_500 | mass_600 |\n",
       "|---|---|---|---|\n",
       "| BNZ | 0.02020498   | 0.01967828   | 0.0002879457 |\n",
       "| naive | 0.02678977   | 0.02505881   | 0.0004146444 |\n",
       "\n"
      ],
      "text/plain": [
       "      mass_400   mass_500   mass_600    \n",
       "BNZ   0.02020498 0.01967828 0.0002879457\n",
       "naive 0.02678977 0.02505881 0.0004146444"
      ]
     },
     "metadata": {},
     "output_type": "display_data"
    },
    {
     "data": {
      "text/html": [
       "<dl class=dl-horizontal>\n",
       "\t<dt>mass_400</dt>\n",
       "\t\t<dd>0.754205093154623</dd>\n",
       "\t<dt>mass_500</dt>\n",
       "\t\t<dd>0.785283822392451</dd>\n",
       "\t<dt>mass_600</dt>\n",
       "\t\t<dd>0.694440183765495</dd>\n",
       "\t<dt>mass_700</dt>\n",
       "\t\t<dd>1.02668868342424</dd>\n",
       "\t<dt>mass_800</dt>\n",
       "\t\t<dd>1.51857754733867</dd>\n",
       "</dl>\n"
      ],
      "text/latex": [
       "\\begin{description*}\n",
       "\\item[mass\\textbackslash{}\\_400] 0.754205093154623\n",
       "\\item[mass\\textbackslash{}\\_500] 0.785283822392451\n",
       "\\item[mass\\textbackslash{}\\_600] 0.694440183765495\n",
       "\\item[mass\\textbackslash{}\\_700] 1.02668868342424\n",
       "\\item[mass\\textbackslash{}\\_800] 1.51857754733867\n",
       "\\end{description*}\n"
      ],
      "text/markdown": [
       "mass_400\n",
       ":   0.754205093154623mass_500\n",
       ":   0.785283822392451mass_600\n",
       ":   0.694440183765495mass_700\n",
       ":   1.02668868342424mass_800\n",
       ":   1.51857754733867\n",
       "\n"
      ],
      "text/plain": [
       " mass_400  mass_500  mass_600  mass_700  mass_800 \n",
       "0.7542051 0.7852838 0.6944402 1.0266887 1.5185775 "
      ]
     },
     "metadata": {},
     "output_type": "display_data"
    },
    {
     "data": {
      "text/html": [
       "<ol class=list-inline>\n",
       "\t<li>'numeric'</li>\n",
       "\t<li>'vector'</li>\n",
       "</ol>\n"
      ],
      "text/latex": [
       "\\begin{enumerate*}\n",
       "\\item 'numeric'\n",
       "\\item 'vector'\n",
       "\\end{enumerate*}\n"
      ],
      "text/markdown": [
       "1. 'numeric'\n",
       "2. 'vector'\n",
       "\n",
       "\n"
      ],
      "text/plain": [
       "[1] \"numeric\" \"vector\" "
      ]
     },
     "metadata": {},
     "output_type": "display_data"
    }
   ],
   "source": [
    "avg<- apply(nonzero_wMeta[,8:ncol(nonzero_wMeta)], 2, function(x) tapply(x, nonzero_wMeta$Treatmentgroup, function(x) mean(x))) \n",
    "\n",
    "dim(avg)\n",
    "\n",
    "avg[,1:3]\n",
    "\n",
    "fch <- apply(avg, 2, function(x) x[1]/x[2])\n",
    "\n",
    "head(fch)\n",
    "is(fch)"
   ]
  },
  {
   "cell_type": "code",
   "execution_count": 19,
   "metadata": {
    "scrolled": true
   },
   "outputs": [
    {
     "data": {
      "text/html": [
       "<dl class=dl-horizontal>\n",
       "\t<dt>mass_400</dt>\n",
       "\t\t<dd>0.754205093154623</dd>\n",
       "\t<dt>mass_500</dt>\n",
       "\t\t<dd>0.785283822392451</dd>\n",
       "\t<dt>mass_600</dt>\n",
       "\t\t<dd>0.694440183765495</dd>\n",
       "\t<dt>mass_700</dt>\n",
       "\t\t<dd>1.02668868342424</dd>\n",
       "\t<dt>mass_800</dt>\n",
       "\t\t<dd>1.51857754733867</dd>\n",
       "</dl>\n"
      ],
      "text/latex": [
       "\\begin{description*}\n",
       "\\item[mass\\textbackslash{}\\_400] 0.754205093154623\n",
       "\\item[mass\\textbackslash{}\\_500] 0.785283822392451\n",
       "\\item[mass\\textbackslash{}\\_600] 0.694440183765495\n",
       "\\item[mass\\textbackslash{}\\_700] 1.02668868342424\n",
       "\\item[mass\\textbackslash{}\\_800] 1.51857754733867\n",
       "\\end{description*}\n"
      ],
      "text/markdown": [
       "mass_400\n",
       ":   0.754205093154623mass_500\n",
       ":   0.785283822392451mass_600\n",
       ":   0.694440183765495mass_700\n",
       ":   1.02668868342424mass_800\n",
       ":   1.51857754733867\n",
       "\n"
      ],
      "text/plain": [
       " mass_400  mass_500  mass_600  mass_700  mass_800 \n",
       "0.7542051 0.7852838 0.6944402 1.0266887 1.5185775 "
      ]
     },
     "metadata": {},
     "output_type": "display_data"
    }
   ],
   "source": [
    "fch"
   ]
  },
  {
   "cell_type": "code",
   "execution_count": 20,
   "metadata": {
    "scrolled": false
   },
   "outputs": [],
   "source": [
    "df <- data.frame(fch,pval, pAdj)\n",
    "write.csv(df, \"PC-treat-RVT-wilcox-naive-BNZ.csv\")"
   ]
  },
  {
   "cell_type": "code",
   "execution_count": null,
   "metadata": {},
   "outputs": [],
   "source": []
  },
  {
   "cell_type": "code",
   "execution_count": null,
   "metadata": {},
   "outputs": [],
   "source": []
  },
  {
   "cell_type": "code",
   "execution_count": null,
   "metadata": {},
   "outputs": [],
   "source": []
  },
  {
   "cell_type": "code",
   "execution_count": null,
   "metadata": {},
   "outputs": [],
   "source": []
  },
  {
   "cell_type": "code",
   "execution_count": null,
   "metadata": {},
   "outputs": [],
   "source": []
  },
  {
   "cell_type": "code",
   "execution_count": null,
   "metadata": {},
   "outputs": [],
   "source": []
  }
 ],
 "metadata": {
  "kernelspec": {
   "display_name": "R",
   "language": "R",
   "name": "ir"
  },
  "language_info": {
   "codemirror_mode": "r",
   "file_extension": ".r",
   "mimetype": "text/x-r-source",
   "name": "R",
   "pygments_lexer": "r",
   "version": "3.6.1"
  }
 },
 "nbformat": 4,
 "nbformat_minor": 2
}
