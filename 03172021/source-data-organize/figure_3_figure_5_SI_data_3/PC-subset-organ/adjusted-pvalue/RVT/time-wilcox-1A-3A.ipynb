{
 "cells": [
  {
   "cell_type": "code",
   "execution_count": 24,
   "metadata": {},
   "outputs": [],
   "source": [
    "a <- read.csv(\"03172021-PC-time-RVT-M-F.csv\")"
   ]
  },
  {
   "cell_type": "code",
   "execution_count": 25,
   "metadata": {},
   "outputs": [
    {
     "data": {
      "text/html": [
       "<table>\n",
       "<thead><tr><th scope=col>filename</th><th scope=col>MouseID</th><th scope=col>Treatmentgroup</th><th scope=col>status</th><th scope=col>DPI</th><th scope=col>organ</th><th scope=col>well_position</th><th scope=col>plate</th><th scope=col>mass_400</th><th scope=col>mass_500</th><th scope=col>mass_600</th><th scope=col>mass_700</th><th scope=col>mass_800</th></tr></thead>\n",
       "<tbody>\n",
       "\t<tr><td>X501_Group1A_50dpi_RV_top_251_B_A1_P137.mzXML</td><td>501                                          </td><td>Group1A                                      </td><td>naive                                        </td><td>50                                           </td><td>RV_top                                       </td><td>A1                                           </td><td>P137                                         </td><td>0.02971381                                   </td><td>0.02220213                                   </td><td>0.000078600                                  </td><td>0.002125298                                  </td><td>0.000000000                                  </td></tr>\n",
       "\t<tr><td>X502_Group1A_50dpi_RV_top_252_B_A2_P137.mzXML</td><td>502                                          </td><td>Group1A                                      </td><td>naive                                        </td><td>50                                           </td><td>RV_top                                       </td><td>A2                                           </td><td>P137                                         </td><td>0.03667454                                   </td><td>0.03857869                                   </td><td>0.000675094                                  </td><td>0.003480386                                  </td><td>0.003499940                                  </td></tr>\n",
       "\t<tr><td>X503_Group1A_50dpi_RV_top_253_B_A3_P137.mzXML</td><td>503                                          </td><td>Group1A                                      </td><td>naive                                        </td><td>50                                           </td><td>RV_top                                       </td><td>A3                                           </td><td>P137                                         </td><td>0.03540331                                   </td><td>0.03001902                                   </td><td>0.000535181                                  </td><td>0.005257024                                  </td><td>0.007673925                                  </td></tr>\n",
       "\t<tr><td>X504_Group1A_50dpi_RV_top_254_B_A4_P137.mzXML</td><td>504                                          </td><td>Group1A                                      </td><td>naive                                        </td><td>50                                           </td><td>RV_top                                       </td><td>A4                                           </td><td>P137                                         </td><td>0.04135269                                   </td><td>0.03712155                                   </td><td>0.000900666                                  </td><td>0.000650154                                  </td><td>0.001575612                                  </td></tr>\n",
       "\t<tr><td>X505_Group1A_50dpi_RV_top_255_B_A5_P137.mzXML</td><td>505                                          </td><td>Group1A                                      </td><td>naive                                        </td><td>50                                           </td><td>RV_top                                       </td><td>A5                                           </td><td>P137                                         </td><td>0.03711523                                   </td><td>0.03428848                                   </td><td>0.001060644                                  </td><td>0.004597098                                  </td><td>0.001621096                                  </td></tr>\n",
       "\t<tr><td>X521_Group1A_50dpi_RV_top_256_B_A6_P137.mzXML</td><td>521                                          </td><td>Group1A                                      </td><td>naive                                        </td><td>50                                           </td><td>RV_top                                       </td><td>A6                                           </td><td>P137                                         </td><td>0.02327026                                   </td><td>0.02096296                                   </td><td>0.000790152                                  </td><td>0.003665277                                  </td><td>0.001131362                                  </td></tr>\n",
       "</tbody>\n",
       "</table>\n"
      ],
      "text/latex": [
       "\\begin{tabular}{r|lllllllllllll}\n",
       " filename & MouseID & Treatmentgroup & status & DPI & organ & well\\_position & plate & mass\\_400 & mass\\_500 & mass\\_600 & mass\\_700 & mass\\_800\\\\\n",
       "\\hline\n",
       "\t X501\\_Group1A\\_50dpi\\_RV\\_top\\_251\\_B\\_A1\\_P137.mzXML & 501                                                           & Group1A                                                       & naive                                                         & 50                                                            & RV\\_top                                                      & A1                                                            & P137                                                          & 0.02971381                                                    & 0.02220213                                                    & 0.000078600                                                   & 0.002125298                                                   & 0.000000000                                                  \\\\\n",
       "\t X502\\_Group1A\\_50dpi\\_RV\\_top\\_252\\_B\\_A2\\_P137.mzXML & 502                                                           & Group1A                                                       & naive                                                         & 50                                                            & RV\\_top                                                      & A2                                                            & P137                                                          & 0.03667454                                                    & 0.03857869                                                    & 0.000675094                                                   & 0.003480386                                                   & 0.003499940                                                  \\\\\n",
       "\t X503\\_Group1A\\_50dpi\\_RV\\_top\\_253\\_B\\_A3\\_P137.mzXML & 503                                                           & Group1A                                                       & naive                                                         & 50                                                            & RV\\_top                                                      & A3                                                            & P137                                                          & 0.03540331                                                    & 0.03001902                                                    & 0.000535181                                                   & 0.005257024                                                   & 0.007673925                                                  \\\\\n",
       "\t X504\\_Group1A\\_50dpi\\_RV\\_top\\_254\\_B\\_A4\\_P137.mzXML & 504                                                           & Group1A                                                       & naive                                                         & 50                                                            & RV\\_top                                                      & A4                                                            & P137                                                          & 0.04135269                                                    & 0.03712155                                                    & 0.000900666                                                   & 0.000650154                                                   & 0.001575612                                                  \\\\\n",
       "\t X505\\_Group1A\\_50dpi\\_RV\\_top\\_255\\_B\\_A5\\_P137.mzXML & 505                                                           & Group1A                                                       & naive                                                         & 50                                                            & RV\\_top                                                      & A5                                                            & P137                                                          & 0.03711523                                                    & 0.03428848                                                    & 0.001060644                                                   & 0.004597098                                                   & 0.001621096                                                  \\\\\n",
       "\t X521\\_Group1A\\_50dpi\\_RV\\_top\\_256\\_B\\_A6\\_P137.mzXML & 521                                                           & Group1A                                                       & naive                                                         & 50                                                            & RV\\_top                                                      & A6                                                            & P137                                                          & 0.02327026                                                    & 0.02096296                                                    & 0.000790152                                                   & 0.003665277                                                   & 0.001131362                                                  \\\\\n",
       "\\end{tabular}\n"
      ],
      "text/markdown": [
       "\n",
       "| filename | MouseID | Treatmentgroup | status | DPI | organ | well_position | plate | mass_400 | mass_500 | mass_600 | mass_700 | mass_800 |\n",
       "|---|---|---|---|---|---|---|---|---|---|---|---|---|\n",
       "| X501_Group1A_50dpi_RV_top_251_B_A1_P137.mzXML | 501                                           | Group1A                                       | naive                                         | 50                                            | RV_top                                        | A1                                            | P137                                          | 0.02971381                                    | 0.02220213                                    | 0.000078600                                   | 0.002125298                                   | 0.000000000                                   |\n",
       "| X502_Group1A_50dpi_RV_top_252_B_A2_P137.mzXML | 502                                           | Group1A                                       | naive                                         | 50                                            | RV_top                                        | A2                                            | P137                                          | 0.03667454                                    | 0.03857869                                    | 0.000675094                                   | 0.003480386                                   | 0.003499940                                   |\n",
       "| X503_Group1A_50dpi_RV_top_253_B_A3_P137.mzXML | 503                                           | Group1A                                       | naive                                         | 50                                            | RV_top                                        | A3                                            | P137                                          | 0.03540331                                    | 0.03001902                                    | 0.000535181                                   | 0.005257024                                   | 0.007673925                                   |\n",
       "| X504_Group1A_50dpi_RV_top_254_B_A4_P137.mzXML | 504                                           | Group1A                                       | naive                                         | 50                                            | RV_top                                        | A4                                            | P137                                          | 0.04135269                                    | 0.03712155                                    | 0.000900666                                   | 0.000650154                                   | 0.001575612                                   |\n",
       "| X505_Group1A_50dpi_RV_top_255_B_A5_P137.mzXML | 505                                           | Group1A                                       | naive                                         | 50                                            | RV_top                                        | A5                                            | P137                                          | 0.03711523                                    | 0.03428848                                    | 0.001060644                                   | 0.004597098                                   | 0.001621096                                   |\n",
       "| X521_Group1A_50dpi_RV_top_256_B_A6_P137.mzXML | 521                                           | Group1A                                       | naive                                         | 50                                            | RV_top                                        | A6                                            | P137                                          | 0.02327026                                    | 0.02096296                                    | 0.000790152                                   | 0.003665277                                   | 0.001131362                                   |\n",
       "\n"
      ],
      "text/plain": [
       "  filename                                      MouseID Treatmentgroup status\n",
       "1 X501_Group1A_50dpi_RV_top_251_B_A1_P137.mzXML 501     Group1A        naive \n",
       "2 X502_Group1A_50dpi_RV_top_252_B_A2_P137.mzXML 502     Group1A        naive \n",
       "3 X503_Group1A_50dpi_RV_top_253_B_A3_P137.mzXML 503     Group1A        naive \n",
       "4 X504_Group1A_50dpi_RV_top_254_B_A4_P137.mzXML 504     Group1A        naive \n",
       "5 X505_Group1A_50dpi_RV_top_255_B_A5_P137.mzXML 505     Group1A        naive \n",
       "6 X521_Group1A_50dpi_RV_top_256_B_A6_P137.mzXML 521     Group1A        naive \n",
       "  DPI organ  well_position plate mass_400   mass_500   mass_600    mass_700   \n",
       "1 50  RV_top A1            P137  0.02971381 0.02220213 0.000078600 0.002125298\n",
       "2 50  RV_top A2            P137  0.03667454 0.03857869 0.000675094 0.003480386\n",
       "3 50  RV_top A3            P137  0.03540331 0.03001902 0.000535181 0.005257024\n",
       "4 50  RV_top A4            P137  0.04135269 0.03712155 0.000900666 0.000650154\n",
       "5 50  RV_top A5            P137  0.03711523 0.03428848 0.001060644 0.004597098\n",
       "6 50  RV_top A6            P137  0.02327026 0.02096296 0.000790152 0.003665277\n",
       "  mass_800   \n",
       "1 0.000000000\n",
       "2 0.003499940\n",
       "3 0.007673925\n",
       "4 0.001575612\n",
       "5 0.001621096\n",
       "6 0.001131362"
      ]
     },
     "metadata": {},
     "output_type": "display_data"
    },
    {
     "data": {
      "text/html": [
       "<ol class=list-inline>\n",
       "\t<li>90</li>\n",
       "\t<li>13</li>\n",
       "</ol>\n"
      ],
      "text/latex": [
       "\\begin{enumerate*}\n",
       "\\item 90\n",
       "\\item 13\n",
       "\\end{enumerate*}\n"
      ],
      "text/markdown": [
       "1. 90\n",
       "2. 13\n",
       "\n",
       "\n"
      ],
      "text/plain": [
       "[1] 90 13"
      ]
     },
     "metadata": {},
     "output_type": "display_data"
    }
   ],
   "source": [
    "head(a)\n",
    "dim(a)"
   ]
  },
  {
   "cell_type": "code",
   "execution_count": 26,
   "metadata": {},
   "outputs": [
    {
     "data": {
      "text/html": [
       "<table>\n",
       "<thead><tr><th scope=col>filename</th><th scope=col>MouseID</th><th scope=col>Treatmentgroup</th><th scope=col>status</th><th scope=col>DPI</th><th scope=col>organ</th><th scope=col>well_position</th><th scope=col>plate</th><th scope=col>mass_400</th><th scope=col>mass_500</th><th scope=col>mass_600</th><th scope=col>mass_700</th><th scope=col>mass_800</th></tr></thead>\n",
       "<tbody>\n",
       "\t<tr><td>X501_Group1A_50dpi_RV_top_251_B_A1_P137.mzXML</td><td>501                                          </td><td>Group1A                                      </td><td>naive                                        </td><td>50                                           </td><td>RV_top                                       </td><td>A1                                           </td><td>P137                                         </td><td>0.02971381                                   </td><td>0.02220213                                   </td><td>0.000078600                                  </td><td>0.002125298                                  </td><td>0.000000000                                  </td></tr>\n",
       "\t<tr><td>X502_Group1A_50dpi_RV_top_252_B_A2_P137.mzXML</td><td>502                                          </td><td>Group1A                                      </td><td>naive                                        </td><td>50                                           </td><td>RV_top                                       </td><td>A2                                           </td><td>P137                                         </td><td>0.03667454                                   </td><td>0.03857869                                   </td><td>0.000675094                                  </td><td>0.003480386                                  </td><td>0.003499940                                  </td></tr>\n",
       "\t<tr><td>X503_Group1A_50dpi_RV_top_253_B_A3_P137.mzXML</td><td>503                                          </td><td>Group1A                                      </td><td>naive                                        </td><td>50                                           </td><td>RV_top                                       </td><td>A3                                           </td><td>P137                                         </td><td>0.03540331                                   </td><td>0.03001902                                   </td><td>0.000535181                                  </td><td>0.005257024                                  </td><td>0.007673925                                  </td></tr>\n",
       "\t<tr><td>X504_Group1A_50dpi_RV_top_254_B_A4_P137.mzXML</td><td>504                                          </td><td>Group1A                                      </td><td>naive                                        </td><td>50                                           </td><td>RV_top                                       </td><td>A4                                           </td><td>P137                                         </td><td>0.04135269                                   </td><td>0.03712155                                   </td><td>0.000900666                                  </td><td>0.000650154                                  </td><td>0.001575612                                  </td></tr>\n",
       "\t<tr><td>X505_Group1A_50dpi_RV_top_255_B_A5_P137.mzXML</td><td>505                                          </td><td>Group1A                                      </td><td>naive                                        </td><td>50                                           </td><td>RV_top                                       </td><td>A5                                           </td><td>P137                                         </td><td>0.03711523                                   </td><td>0.03428848                                   </td><td>0.001060644                                  </td><td>0.004597098                                  </td><td>0.001621096                                  </td></tr>\n",
       "\t<tr><td>X521_Group1A_50dpi_RV_top_256_B_A6_P137.mzXML</td><td>521                                          </td><td>Group1A                                      </td><td>naive                                        </td><td>50                                           </td><td>RV_top                                       </td><td>A6                                           </td><td>P137                                         </td><td>0.02327026                                   </td><td>0.02096296                                   </td><td>0.000790152                                  </td><td>0.003665277                                  </td><td>0.001131362                                  </td></tr>\n",
       "</tbody>\n",
       "</table>\n"
      ],
      "text/latex": [
       "\\begin{tabular}{r|lllllllllllll}\n",
       " filename & MouseID & Treatmentgroup & status & DPI & organ & well\\_position & plate & mass\\_400 & mass\\_500 & mass\\_600 & mass\\_700 & mass\\_800\\\\\n",
       "\\hline\n",
       "\t X501\\_Group1A\\_50dpi\\_RV\\_top\\_251\\_B\\_A1\\_P137.mzXML & 501                                                           & Group1A                                                       & naive                                                         & 50                                                            & RV\\_top                                                      & A1                                                            & P137                                                          & 0.02971381                                                    & 0.02220213                                                    & 0.000078600                                                   & 0.002125298                                                   & 0.000000000                                                  \\\\\n",
       "\t X502\\_Group1A\\_50dpi\\_RV\\_top\\_252\\_B\\_A2\\_P137.mzXML & 502                                                           & Group1A                                                       & naive                                                         & 50                                                            & RV\\_top                                                      & A2                                                            & P137                                                          & 0.03667454                                                    & 0.03857869                                                    & 0.000675094                                                   & 0.003480386                                                   & 0.003499940                                                  \\\\\n",
       "\t X503\\_Group1A\\_50dpi\\_RV\\_top\\_253\\_B\\_A3\\_P137.mzXML & 503                                                           & Group1A                                                       & naive                                                         & 50                                                            & RV\\_top                                                      & A3                                                            & P137                                                          & 0.03540331                                                    & 0.03001902                                                    & 0.000535181                                                   & 0.005257024                                                   & 0.007673925                                                  \\\\\n",
       "\t X504\\_Group1A\\_50dpi\\_RV\\_top\\_254\\_B\\_A4\\_P137.mzXML & 504                                                           & Group1A                                                       & naive                                                         & 50                                                            & RV\\_top                                                      & A4                                                            & P137                                                          & 0.04135269                                                    & 0.03712155                                                    & 0.000900666                                                   & 0.000650154                                                   & 0.001575612                                                  \\\\\n",
       "\t X505\\_Group1A\\_50dpi\\_RV\\_top\\_255\\_B\\_A5\\_P137.mzXML & 505                                                           & Group1A                                                       & naive                                                         & 50                                                            & RV\\_top                                                      & A5                                                            & P137                                                          & 0.03711523                                                    & 0.03428848                                                    & 0.001060644                                                   & 0.004597098                                                   & 0.001621096                                                  \\\\\n",
       "\t X521\\_Group1A\\_50dpi\\_RV\\_top\\_256\\_B\\_A6\\_P137.mzXML & 521                                                           & Group1A                                                       & naive                                                         & 50                                                            & RV\\_top                                                      & A6                                                            & P137                                                          & 0.02327026                                                    & 0.02096296                                                    & 0.000790152                                                   & 0.003665277                                                   & 0.001131362                                                  \\\\\n",
       "\\end{tabular}\n"
      ],
      "text/markdown": [
       "\n",
       "| filename | MouseID | Treatmentgroup | status | DPI | organ | well_position | plate | mass_400 | mass_500 | mass_600 | mass_700 | mass_800 |\n",
       "|---|---|---|---|---|---|---|---|---|---|---|---|---|\n",
       "| X501_Group1A_50dpi_RV_top_251_B_A1_P137.mzXML | 501                                           | Group1A                                       | naive                                         | 50                                            | RV_top                                        | A1                                            | P137                                          | 0.02971381                                    | 0.02220213                                    | 0.000078600                                   | 0.002125298                                   | 0.000000000                                   |\n",
       "| X502_Group1A_50dpi_RV_top_252_B_A2_P137.mzXML | 502                                           | Group1A                                       | naive                                         | 50                                            | RV_top                                        | A2                                            | P137                                          | 0.03667454                                    | 0.03857869                                    | 0.000675094                                   | 0.003480386                                   | 0.003499940                                   |\n",
       "| X503_Group1A_50dpi_RV_top_253_B_A3_P137.mzXML | 503                                           | Group1A                                       | naive                                         | 50                                            | RV_top                                        | A3                                            | P137                                          | 0.03540331                                    | 0.03001902                                    | 0.000535181                                   | 0.005257024                                   | 0.007673925                                   |\n",
       "| X504_Group1A_50dpi_RV_top_254_B_A4_P137.mzXML | 504                                           | Group1A                                       | naive                                         | 50                                            | RV_top                                        | A4                                            | P137                                          | 0.04135269                                    | 0.03712155                                    | 0.000900666                                   | 0.000650154                                   | 0.001575612                                   |\n",
       "| X505_Group1A_50dpi_RV_top_255_B_A5_P137.mzXML | 505                                           | Group1A                                       | naive                                         | 50                                            | RV_top                                        | A5                                            | P137                                          | 0.03711523                                    | 0.03428848                                    | 0.001060644                                   | 0.004597098                                   | 0.001621096                                   |\n",
       "| X521_Group1A_50dpi_RV_top_256_B_A6_P137.mzXML | 521                                           | Group1A                                       | naive                                         | 50                                            | RV_top                                        | A6                                            | P137                                          | 0.02327026                                    | 0.02096296                                    | 0.000790152                                   | 0.003665277                                   | 0.001131362                                   |\n",
       "\n"
      ],
      "text/plain": [
       "  filename                                      MouseID Treatmentgroup status\n",
       "1 X501_Group1A_50dpi_RV_top_251_B_A1_P137.mzXML 501     Group1A        naive \n",
       "2 X502_Group1A_50dpi_RV_top_252_B_A2_P137.mzXML 502     Group1A        naive \n",
       "3 X503_Group1A_50dpi_RV_top_253_B_A3_P137.mzXML 503     Group1A        naive \n",
       "4 X504_Group1A_50dpi_RV_top_254_B_A4_P137.mzXML 504     Group1A        naive \n",
       "5 X505_Group1A_50dpi_RV_top_255_B_A5_P137.mzXML 505     Group1A        naive \n",
       "6 X521_Group1A_50dpi_RV_top_256_B_A6_P137.mzXML 521     Group1A        naive \n",
       "  DPI organ  well_position plate mass_400   mass_500   mass_600    mass_700   \n",
       "1 50  RV_top A1            P137  0.02971381 0.02220213 0.000078600 0.002125298\n",
       "2 50  RV_top A2            P137  0.03667454 0.03857869 0.000675094 0.003480386\n",
       "3 50  RV_top A3            P137  0.03540331 0.03001902 0.000535181 0.005257024\n",
       "4 50  RV_top A4            P137  0.04135269 0.03712155 0.000900666 0.000650154\n",
       "5 50  RV_top A5            P137  0.03711523 0.03428848 0.001060644 0.004597098\n",
       "6 50  RV_top A6            P137  0.02327026 0.02096296 0.000790152 0.003665277\n",
       "  mass_800   \n",
       "1 0.000000000\n",
       "2 0.003499940\n",
       "3 0.007673925\n",
       "4 0.001575612\n",
       "5 0.001621096\n",
       "6 0.001131362"
      ]
     },
     "metadata": {},
     "output_type": "display_data"
    },
    {
     "data": {
      "text/html": [
       "<ol class=list-inline>\n",
       "\t<li>30</li>\n",
       "\t<li>13</li>\n",
       "</ol>\n"
      ],
      "text/latex": [
       "\\begin{enumerate*}\n",
       "\\item 30\n",
       "\\item 13\n",
       "\\end{enumerate*}\n"
      ],
      "text/markdown": [
       "1. 30\n",
       "2. 13\n",
       "\n",
       "\n"
      ],
      "text/plain": [
       "[1] 30 13"
      ]
     },
     "metadata": {},
     "output_type": "display_data"
    }
   ],
   "source": [
    "features_pos<-droplevels(subset(a, a$Treatmentgroup==c(\"Group1A\")|a$Treatmentgroup==c(\"Group3A\")))\n",
    "head(features_pos)\n",
    "dim(features_pos)"
   ]
  },
  {
   "cell_type": "code",
   "execution_count": 27,
   "metadata": {
    "scrolled": false
   },
   "outputs": [
    {
     "data": {
      "text/html": [
       "<table>\n",
       "<thead><tr><th scope=col>mass_400</th><th scope=col>mass_500</th><th scope=col>mass_600</th><th scope=col>mass_700</th><th scope=col>mass_800</th></tr></thead>\n",
       "<tbody>\n",
       "\t<tr><td>0.02971381 </td><td>0.02220213 </td><td>0.000078600</td><td>0.002125298</td><td>0.000000000</td></tr>\n",
       "\t<tr><td>0.03667454 </td><td>0.03857869 </td><td>0.000675094</td><td>0.003480386</td><td>0.003499940</td></tr>\n",
       "\t<tr><td>0.03540331 </td><td>0.03001902 </td><td>0.000535181</td><td>0.005257024</td><td>0.007673925</td></tr>\n",
       "\t<tr><td>0.04135269 </td><td>0.03712155 </td><td>0.000900666</td><td>0.000650154</td><td>0.001575612</td></tr>\n",
       "\t<tr><td>0.03711523 </td><td>0.03428848 </td><td>0.001060644</td><td>0.004597098</td><td>0.001621096</td></tr>\n",
       "\t<tr><td>0.02327026 </td><td>0.02096296 </td><td>0.000790152</td><td>0.003665277</td><td>0.001131362</td></tr>\n",
       "</tbody>\n",
       "</table>\n"
      ],
      "text/latex": [
       "\\begin{tabular}{r|lllll}\n",
       " mass\\_400 & mass\\_500 & mass\\_600 & mass\\_700 & mass\\_800\\\\\n",
       "\\hline\n",
       "\t 0.02971381  & 0.02220213  & 0.000078600 & 0.002125298 & 0.000000000\\\\\n",
       "\t 0.03667454  & 0.03857869  & 0.000675094 & 0.003480386 & 0.003499940\\\\\n",
       "\t 0.03540331  & 0.03001902  & 0.000535181 & 0.005257024 & 0.007673925\\\\\n",
       "\t 0.04135269  & 0.03712155  & 0.000900666 & 0.000650154 & 0.001575612\\\\\n",
       "\t 0.03711523  & 0.03428848  & 0.001060644 & 0.004597098 & 0.001621096\\\\\n",
       "\t 0.02327026  & 0.02096296  & 0.000790152 & 0.003665277 & 0.001131362\\\\\n",
       "\\end{tabular}\n"
      ],
      "text/markdown": [
       "\n",
       "| mass_400 | mass_500 | mass_600 | mass_700 | mass_800 |\n",
       "|---|---|---|---|---|\n",
       "| 0.02971381  | 0.02220213  | 0.000078600 | 0.002125298 | 0.000000000 |\n",
       "| 0.03667454  | 0.03857869  | 0.000675094 | 0.003480386 | 0.003499940 |\n",
       "| 0.03540331  | 0.03001902  | 0.000535181 | 0.005257024 | 0.007673925 |\n",
       "| 0.04135269  | 0.03712155  | 0.000900666 | 0.000650154 | 0.001575612 |\n",
       "| 0.03711523  | 0.03428848  | 0.001060644 | 0.004597098 | 0.001621096 |\n",
       "| 0.02327026  | 0.02096296  | 0.000790152 | 0.003665277 | 0.001131362 |\n",
       "\n"
      ],
      "text/plain": [
       "  mass_400   mass_500   mass_600    mass_700    mass_800   \n",
       "1 0.02971381 0.02220213 0.000078600 0.002125298 0.000000000\n",
       "2 0.03667454 0.03857869 0.000675094 0.003480386 0.003499940\n",
       "3 0.03540331 0.03001902 0.000535181 0.005257024 0.007673925\n",
       "4 0.04135269 0.03712155 0.000900666 0.000650154 0.001575612\n",
       "5 0.03711523 0.03428848 0.001060644 0.004597098 0.001621096\n",
       "6 0.02327026 0.02096296 0.000790152 0.003665277 0.001131362"
      ]
     },
     "metadata": {},
     "output_type": "display_data"
    },
    {
     "data": {
      "text/html": [
       "<dl class=dl-horizontal>\n",
       "\t<dt>mass_400</dt>\n",
       "\t\t<dd>1</dd>\n",
       "\t<dt>mass_500</dt>\n",
       "\t\t<dd>2</dd>\n",
       "\t<dt>mass_600</dt>\n",
       "\t\t<dd>3</dd>\n",
       "\t<dt>mass_700</dt>\n",
       "\t\t<dd>4</dd>\n",
       "\t<dt>mass_800</dt>\n",
       "\t\t<dd>5</dd>\n",
       "</dl>\n"
      ],
      "text/latex": [
       "\\begin{description*}\n",
       "\\item[mass\\textbackslash{}\\_400] 1\n",
       "\\item[mass\\textbackslash{}\\_500] 2\n",
       "\\item[mass\\textbackslash{}\\_600] 3\n",
       "\\item[mass\\textbackslash{}\\_700] 4\n",
       "\\item[mass\\textbackslash{}\\_800] 5\n",
       "\\end{description*}\n"
      ],
      "text/markdown": [
       "mass_400\n",
       ":   1mass_500\n",
       ":   2mass_600\n",
       ":   3mass_700\n",
       ":   4mass_800\n",
       ":   5\n",
       "\n"
      ],
      "text/plain": [
       "mass_400 mass_500 mass_600 mass_700 mass_800 \n",
       "       1        2        3        4        5 "
      ]
     },
     "metadata": {},
     "output_type": "display_data"
    },
    {
     "data": {
      "text/html": [
       "<table>\n",
       "<thead><tr><th></th><th scope=col>mass_400</th><th scope=col>mass_500</th><th scope=col>mass_600</th><th scope=col>mass_700</th><th scope=col>mass_800</th></tr></thead>\n",
       "<tbody>\n",
       "\t<tr><th scope=row>1</th><td>0.02971381 </td><td>0.02220213 </td><td>0.000078600</td><td>0.002125298</td><td>0.000000000</td></tr>\n",
       "\t<tr><th scope=row>2</th><td>0.03667454 </td><td>0.03857869 </td><td>0.000675094</td><td>0.003480386</td><td>0.003499940</td></tr>\n",
       "\t<tr><th scope=row>3</th><td>0.03540331 </td><td>0.03001902 </td><td>0.000535181</td><td>0.005257024</td><td>0.007673925</td></tr>\n",
       "\t<tr><th scope=row>4</th><td>0.04135269 </td><td>0.03712155 </td><td>0.000900666</td><td>0.000650154</td><td>0.001575612</td></tr>\n",
       "\t<tr><th scope=row>5</th><td>0.03711523 </td><td>0.03428848 </td><td>0.001060644</td><td>0.004597098</td><td>0.001621096</td></tr>\n",
       "\t<tr><th scope=row>6</th><td>0.02327026 </td><td>0.02096296 </td><td>0.000790152</td><td>0.003665277</td><td>0.001131362</td></tr>\n",
       "\t<tr><th scope=row>7</th><td>0.03088255 </td><td>0.03483808 </td><td>0.001101745</td><td>0.003613164</td><td>0.003503760</td></tr>\n",
       "\t<tr><th scope=row>8</th><td>0.03216350 </td><td>0.02340931 </td><td>0.000278138</td><td>0.000112300</td><td>0.000000000</td></tr>\n",
       "\t<tr><th scope=row>9</th><td>0.02029533 </td><td>0.02163083 </td><td>0.000882643</td><td>0.004366756</td><td>0.002240561</td></tr>\n",
       "\t<tr><th scope=row>10</th><td>0.03182790 </td><td>0.03720409 </td><td>0.001159012</td><td>0.001496333</td><td>0.001099155</td></tr>\n",
       "\t<tr><th scope=row>11</th><td>0.02065443 </td><td>0.02677067 </td><td>0.000488472</td><td>0.003961695</td><td>0.002845926</td></tr>\n",
       "\t<tr><th scope=row>12</th><td>0.03114388 </td><td>0.04129315 </td><td>0.001120804</td><td>0.002179837</td><td>0.003899886</td></tr>\n",
       "\t<tr><th scope=row>13</th><td>0.03360667 </td><td>0.03345831 </td><td>0.001021527</td><td>0.006094709</td><td>0.003508638</td></tr>\n",
       "\t<tr><th scope=row>14</th><td>0.03767877 </td><td>0.04880264 </td><td>0.001031437</td><td>0.006376895</td><td>0.006451313</td></tr>\n",
       "\t<tr><th scope=row>15</th><td>0.03423491 </td><td>0.04429428 </td><td>0.000813447</td><td>0.002066234</td><td>0.001486454</td></tr>\n",
       "\t<tr><th scope=row>46</th><td>0.04080081 </td><td>0.03618840 </td><td>0.000465655</td><td>0.002177727</td><td>0.002445499</td></tr>\n",
       "\t<tr><th scope=row>47</th><td>0.03749150 </td><td>0.03949185 </td><td>0.000608416</td><td>0.005105763</td><td>0.006666786</td></tr>\n",
       "\t<tr><th scope=row>48</th><td>0.03015098 </td><td>0.02824953 </td><td>0.000794002</td><td>0.003416453</td><td>0.002452715</td></tr>\n",
       "\t<tr><th scope=row>49</th><td>0.02638448 </td><td>0.03383519 </td><td>0.001147283</td><td>0.003050011</td><td>0.000291722</td></tr>\n",
       "\t<tr><th scope=row>50</th><td>0.02924333 </td><td>0.03350487 </td><td>0.000613272</td><td>0.003325246</td><td>0.003835332</td></tr>\n",
       "\t<tr><th scope=row>51</th><td>0.04124954 </td><td>0.07008705 </td><td>0.000232407</td><td>0.009447168</td><td>0.003136391</td></tr>\n",
       "\t<tr><th scope=row>52</th><td>0.03747646 </td><td>0.03658653 </td><td>0.000671804</td><td>0.000602174</td><td>0.001127548</td></tr>\n",
       "\t<tr><th scope=row>53</th><td>0.01911575 </td><td>0.01542030 </td><td>0.000235572</td><td>0.001902182</td><td>0.000264945</td></tr>\n",
       "\t<tr><th scope=row>54</th><td>0.02438927 </td><td>0.02028886 </td><td>0.000378102</td><td>0.001250240</td><td>0.001123389</td></tr>\n",
       "\t<tr><th scope=row>55</th><td>0.02954724 </td><td>0.02489499 </td><td>0.001095554</td><td>0.003854052</td><td>0.002472881</td></tr>\n",
       "\t<tr><th scope=row>56</th><td>0.03636188 </td><td>0.03870165 </td><td>0.001287389</td><td>0.005196392</td><td>0.001638314</td></tr>\n",
       "\t<tr><th scope=row>57</th><td>0.02121398 </td><td>0.01404129 </td><td>0.000043200</td><td>0.000684006</td><td>0.000523561</td></tr>\n",
       "\t<tr><th scope=row>58</th><td>0.02528296 </td><td>0.02043064 </td><td>0.000296882</td><td>0.001200713</td><td>0.000399961</td></tr>\n",
       "\t<tr><th scope=row>59</th><td>0.04388717 </td><td>0.02646354 </td><td>0.000371144</td><td>0.002616739</td><td>0.000698437</td></tr>\n",
       "\t<tr><th scope=row>60</th><td>0.02008086 </td><td>0.01601921 </td><td>0.000054100</td><td>0.000401016</td><td>0.000663830</td></tr>\n",
       "</tbody>\n",
       "</table>\n"
      ],
      "text/latex": [
       "\\begin{tabular}{r|lllll}\n",
       "  & mass\\_400 & mass\\_500 & mass\\_600 & mass\\_700 & mass\\_800\\\\\n",
       "\\hline\n",
       "\t1 & 0.02971381  & 0.02220213  & 0.000078600 & 0.002125298 & 0.000000000\\\\\n",
       "\t2 & 0.03667454  & 0.03857869  & 0.000675094 & 0.003480386 & 0.003499940\\\\\n",
       "\t3 & 0.03540331  & 0.03001902  & 0.000535181 & 0.005257024 & 0.007673925\\\\\n",
       "\t4 & 0.04135269  & 0.03712155  & 0.000900666 & 0.000650154 & 0.001575612\\\\\n",
       "\t5 & 0.03711523  & 0.03428848  & 0.001060644 & 0.004597098 & 0.001621096\\\\\n",
       "\t6 & 0.02327026  & 0.02096296  & 0.000790152 & 0.003665277 & 0.001131362\\\\\n",
       "\t7 & 0.03088255  & 0.03483808  & 0.001101745 & 0.003613164 & 0.003503760\\\\\n",
       "\t8 & 0.03216350  & 0.02340931  & 0.000278138 & 0.000112300 & 0.000000000\\\\\n",
       "\t9 & 0.02029533  & 0.02163083  & 0.000882643 & 0.004366756 & 0.002240561\\\\\n",
       "\t10 & 0.03182790  & 0.03720409  & 0.001159012 & 0.001496333 & 0.001099155\\\\\n",
       "\t11 & 0.02065443  & 0.02677067  & 0.000488472 & 0.003961695 & 0.002845926\\\\\n",
       "\t12 & 0.03114388  & 0.04129315  & 0.001120804 & 0.002179837 & 0.003899886\\\\\n",
       "\t13 & 0.03360667  & 0.03345831  & 0.001021527 & 0.006094709 & 0.003508638\\\\\n",
       "\t14 & 0.03767877  & 0.04880264  & 0.001031437 & 0.006376895 & 0.006451313\\\\\n",
       "\t15 & 0.03423491  & 0.04429428  & 0.000813447 & 0.002066234 & 0.001486454\\\\\n",
       "\t46 & 0.04080081  & 0.03618840  & 0.000465655 & 0.002177727 & 0.002445499\\\\\n",
       "\t47 & 0.03749150  & 0.03949185  & 0.000608416 & 0.005105763 & 0.006666786\\\\\n",
       "\t48 & 0.03015098  & 0.02824953  & 0.000794002 & 0.003416453 & 0.002452715\\\\\n",
       "\t49 & 0.02638448  & 0.03383519  & 0.001147283 & 0.003050011 & 0.000291722\\\\\n",
       "\t50 & 0.02924333  & 0.03350487  & 0.000613272 & 0.003325246 & 0.003835332\\\\\n",
       "\t51 & 0.04124954  & 0.07008705  & 0.000232407 & 0.009447168 & 0.003136391\\\\\n",
       "\t52 & 0.03747646  & 0.03658653  & 0.000671804 & 0.000602174 & 0.001127548\\\\\n",
       "\t53 & 0.01911575  & 0.01542030  & 0.000235572 & 0.001902182 & 0.000264945\\\\\n",
       "\t54 & 0.02438927  & 0.02028886  & 0.000378102 & 0.001250240 & 0.001123389\\\\\n",
       "\t55 & 0.02954724  & 0.02489499  & 0.001095554 & 0.003854052 & 0.002472881\\\\\n",
       "\t56 & 0.03636188  & 0.03870165  & 0.001287389 & 0.005196392 & 0.001638314\\\\\n",
       "\t57 & 0.02121398  & 0.01404129  & 0.000043200 & 0.000684006 & 0.000523561\\\\\n",
       "\t58 & 0.02528296  & 0.02043064  & 0.000296882 & 0.001200713 & 0.000399961\\\\\n",
       "\t59 & 0.04388717  & 0.02646354  & 0.000371144 & 0.002616739 & 0.000698437\\\\\n",
       "\t60 & 0.02008086  & 0.01601921  & 0.000054100 & 0.000401016 & 0.000663830\\\\\n",
       "\\end{tabular}\n"
      ],
      "text/markdown": [
       "\n",
       "| <!--/--> | mass_400 | mass_500 | mass_600 | mass_700 | mass_800 |\n",
       "|---|---|---|---|---|---|\n",
       "| 1 | 0.02971381  | 0.02220213  | 0.000078600 | 0.002125298 | 0.000000000 |\n",
       "| 2 | 0.03667454  | 0.03857869  | 0.000675094 | 0.003480386 | 0.003499940 |\n",
       "| 3 | 0.03540331  | 0.03001902  | 0.000535181 | 0.005257024 | 0.007673925 |\n",
       "| 4 | 0.04135269  | 0.03712155  | 0.000900666 | 0.000650154 | 0.001575612 |\n",
       "| 5 | 0.03711523  | 0.03428848  | 0.001060644 | 0.004597098 | 0.001621096 |\n",
       "| 6 | 0.02327026  | 0.02096296  | 0.000790152 | 0.003665277 | 0.001131362 |\n",
       "| 7 | 0.03088255  | 0.03483808  | 0.001101745 | 0.003613164 | 0.003503760 |\n",
       "| 8 | 0.03216350  | 0.02340931  | 0.000278138 | 0.000112300 | 0.000000000 |\n",
       "| 9 | 0.02029533  | 0.02163083  | 0.000882643 | 0.004366756 | 0.002240561 |\n",
       "| 10 | 0.03182790  | 0.03720409  | 0.001159012 | 0.001496333 | 0.001099155 |\n",
       "| 11 | 0.02065443  | 0.02677067  | 0.000488472 | 0.003961695 | 0.002845926 |\n",
       "| 12 | 0.03114388  | 0.04129315  | 0.001120804 | 0.002179837 | 0.003899886 |\n",
       "| 13 | 0.03360667  | 0.03345831  | 0.001021527 | 0.006094709 | 0.003508638 |\n",
       "| 14 | 0.03767877  | 0.04880264  | 0.001031437 | 0.006376895 | 0.006451313 |\n",
       "| 15 | 0.03423491  | 0.04429428  | 0.000813447 | 0.002066234 | 0.001486454 |\n",
       "| 46 | 0.04080081  | 0.03618840  | 0.000465655 | 0.002177727 | 0.002445499 |\n",
       "| 47 | 0.03749150  | 0.03949185  | 0.000608416 | 0.005105763 | 0.006666786 |\n",
       "| 48 | 0.03015098  | 0.02824953  | 0.000794002 | 0.003416453 | 0.002452715 |\n",
       "| 49 | 0.02638448  | 0.03383519  | 0.001147283 | 0.003050011 | 0.000291722 |\n",
       "| 50 | 0.02924333  | 0.03350487  | 0.000613272 | 0.003325246 | 0.003835332 |\n",
       "| 51 | 0.04124954  | 0.07008705  | 0.000232407 | 0.009447168 | 0.003136391 |\n",
       "| 52 | 0.03747646  | 0.03658653  | 0.000671804 | 0.000602174 | 0.001127548 |\n",
       "| 53 | 0.01911575  | 0.01542030  | 0.000235572 | 0.001902182 | 0.000264945 |\n",
       "| 54 | 0.02438927  | 0.02028886  | 0.000378102 | 0.001250240 | 0.001123389 |\n",
       "| 55 | 0.02954724  | 0.02489499  | 0.001095554 | 0.003854052 | 0.002472881 |\n",
       "| 56 | 0.03636188  | 0.03870165  | 0.001287389 | 0.005196392 | 0.001638314 |\n",
       "| 57 | 0.02121398  | 0.01404129  | 0.000043200 | 0.000684006 | 0.000523561 |\n",
       "| 58 | 0.02528296  | 0.02043064  | 0.000296882 | 0.001200713 | 0.000399961 |\n",
       "| 59 | 0.04388717  | 0.02646354  | 0.000371144 | 0.002616739 | 0.000698437 |\n",
       "| 60 | 0.02008086  | 0.01601921  | 0.000054100 | 0.000401016 | 0.000663830 |\n",
       "\n"
      ],
      "text/plain": [
       "   mass_400   mass_500   mass_600    mass_700    mass_800   \n",
       "1  0.02971381 0.02220213 0.000078600 0.002125298 0.000000000\n",
       "2  0.03667454 0.03857869 0.000675094 0.003480386 0.003499940\n",
       "3  0.03540331 0.03001902 0.000535181 0.005257024 0.007673925\n",
       "4  0.04135269 0.03712155 0.000900666 0.000650154 0.001575612\n",
       "5  0.03711523 0.03428848 0.001060644 0.004597098 0.001621096\n",
       "6  0.02327026 0.02096296 0.000790152 0.003665277 0.001131362\n",
       "7  0.03088255 0.03483808 0.001101745 0.003613164 0.003503760\n",
       "8  0.03216350 0.02340931 0.000278138 0.000112300 0.000000000\n",
       "9  0.02029533 0.02163083 0.000882643 0.004366756 0.002240561\n",
       "10 0.03182790 0.03720409 0.001159012 0.001496333 0.001099155\n",
       "11 0.02065443 0.02677067 0.000488472 0.003961695 0.002845926\n",
       "12 0.03114388 0.04129315 0.001120804 0.002179837 0.003899886\n",
       "13 0.03360667 0.03345831 0.001021527 0.006094709 0.003508638\n",
       "14 0.03767877 0.04880264 0.001031437 0.006376895 0.006451313\n",
       "15 0.03423491 0.04429428 0.000813447 0.002066234 0.001486454\n",
       "46 0.04080081 0.03618840 0.000465655 0.002177727 0.002445499\n",
       "47 0.03749150 0.03949185 0.000608416 0.005105763 0.006666786\n",
       "48 0.03015098 0.02824953 0.000794002 0.003416453 0.002452715\n",
       "49 0.02638448 0.03383519 0.001147283 0.003050011 0.000291722\n",
       "50 0.02924333 0.03350487 0.000613272 0.003325246 0.003835332\n",
       "51 0.04124954 0.07008705 0.000232407 0.009447168 0.003136391\n",
       "52 0.03747646 0.03658653 0.000671804 0.000602174 0.001127548\n",
       "53 0.01911575 0.01542030 0.000235572 0.001902182 0.000264945\n",
       "54 0.02438927 0.02028886 0.000378102 0.001250240 0.001123389\n",
       "55 0.02954724 0.02489499 0.001095554 0.003854052 0.002472881\n",
       "56 0.03636188 0.03870165 0.001287389 0.005196392 0.001638314\n",
       "57 0.02121398 0.01404129 0.000043200 0.000684006 0.000523561\n",
       "58 0.02528296 0.02043064 0.000296882 0.001200713 0.000399961\n",
       "59 0.04388717 0.02646354 0.000371144 0.002616739 0.000698437\n",
       "60 0.02008086 0.01601921 0.000054100 0.000401016 0.000663830"
      ]
     },
     "metadata": {},
     "output_type": "display_data"
    },
    {
     "data": {
      "text/html": [
       "<table>\n",
       "<thead><tr><th scope=col>filename</th><th scope=col>MouseID</th><th scope=col>Treatmentgroup</th><th scope=col>status</th><th scope=col>DPI</th><th scope=col>organ</th><th scope=col>well_position</th><th scope=col>plate</th><th scope=col>mass_400</th><th scope=col>mass_500</th><th scope=col>mass_600</th><th scope=col>mass_700</th><th scope=col>mass_800</th></tr></thead>\n",
       "<tbody>\n",
       "\t<tr><td>X501_Group1A_50dpi_RV_top_251_B_A1_P137.mzXML</td><td>501                                          </td><td>Group1A                                      </td><td>naive                                        </td><td>50                                           </td><td>RV_top                                       </td><td>A1                                           </td><td>P137                                         </td><td>0.02971381                                   </td><td>0.02220213                                   </td><td>0.000078600                                  </td><td>0.002125298                                  </td><td>0.000000000                                  </td></tr>\n",
       "\t<tr><td>X502_Group1A_50dpi_RV_top_252_B_A2_P137.mzXML</td><td>502                                          </td><td>Group1A                                      </td><td>naive                                        </td><td>50                                           </td><td>RV_top                                       </td><td>A2                                           </td><td>P137                                         </td><td>0.03667454                                   </td><td>0.03857869                                   </td><td>0.000675094                                  </td><td>0.003480386                                  </td><td>0.003499940                                  </td></tr>\n",
       "\t<tr><td>X503_Group1A_50dpi_RV_top_253_B_A3_P137.mzXML</td><td>503                                          </td><td>Group1A                                      </td><td>naive                                        </td><td>50                                           </td><td>RV_top                                       </td><td>A3                                           </td><td>P137                                         </td><td>0.03540331                                   </td><td>0.03001902                                   </td><td>0.000535181                                  </td><td>0.005257024                                  </td><td>0.007673925                                  </td></tr>\n",
       "\t<tr><td>X504_Group1A_50dpi_RV_top_254_B_A4_P137.mzXML</td><td>504                                          </td><td>Group1A                                      </td><td>naive                                        </td><td>50                                           </td><td>RV_top                                       </td><td>A4                                           </td><td>P137                                         </td><td>0.04135269                                   </td><td>0.03712155                                   </td><td>0.000900666                                  </td><td>0.000650154                                  </td><td>0.001575612                                  </td></tr>\n",
       "\t<tr><td>X505_Group1A_50dpi_RV_top_255_B_A5_P137.mzXML</td><td>505                                          </td><td>Group1A                                      </td><td>naive                                        </td><td>50                                           </td><td>RV_top                                       </td><td>A5                                           </td><td>P137                                         </td><td>0.03711523                                   </td><td>0.03428848                                   </td><td>0.001060644                                  </td><td>0.004597098                                  </td><td>0.001621096                                  </td></tr>\n",
       "\t<tr><td>X521_Group1A_50dpi_RV_top_256_B_A6_P137.mzXML</td><td>521                                          </td><td>Group1A                                      </td><td>naive                                        </td><td>50                                           </td><td>RV_top                                       </td><td>A6                                           </td><td>P137                                         </td><td>0.02327026                                   </td><td>0.02096296                                   </td><td>0.000790152                                  </td><td>0.003665277                                  </td><td>0.001131362                                  </td></tr>\n",
       "</tbody>\n",
       "</table>\n"
      ],
      "text/latex": [
       "\\begin{tabular}{r|lllllllllllll}\n",
       " filename & MouseID & Treatmentgroup & status & DPI & organ & well\\_position & plate & mass\\_400 & mass\\_500 & mass\\_600 & mass\\_700 & mass\\_800\\\\\n",
       "\\hline\n",
       "\t X501\\_Group1A\\_50dpi\\_RV\\_top\\_251\\_B\\_A1\\_P137.mzXML & 501                                                           & Group1A                                                       & naive                                                         & 50                                                            & RV\\_top                                                      & A1                                                            & P137                                                          & 0.02971381                                                    & 0.02220213                                                    & 0.000078600                                                   & 0.002125298                                                   & 0.000000000                                                  \\\\\n",
       "\t X502\\_Group1A\\_50dpi\\_RV\\_top\\_252\\_B\\_A2\\_P137.mzXML & 502                                                           & Group1A                                                       & naive                                                         & 50                                                            & RV\\_top                                                      & A2                                                            & P137                                                          & 0.03667454                                                    & 0.03857869                                                    & 0.000675094                                                   & 0.003480386                                                   & 0.003499940                                                  \\\\\n",
       "\t X503\\_Group1A\\_50dpi\\_RV\\_top\\_253\\_B\\_A3\\_P137.mzXML & 503                                                           & Group1A                                                       & naive                                                         & 50                                                            & RV\\_top                                                      & A3                                                            & P137                                                          & 0.03540331                                                    & 0.03001902                                                    & 0.000535181                                                   & 0.005257024                                                   & 0.007673925                                                  \\\\\n",
       "\t X504\\_Group1A\\_50dpi\\_RV\\_top\\_254\\_B\\_A4\\_P137.mzXML & 504                                                           & Group1A                                                       & naive                                                         & 50                                                            & RV\\_top                                                      & A4                                                            & P137                                                          & 0.04135269                                                    & 0.03712155                                                    & 0.000900666                                                   & 0.000650154                                                   & 0.001575612                                                  \\\\\n",
       "\t X505\\_Group1A\\_50dpi\\_RV\\_top\\_255\\_B\\_A5\\_P137.mzXML & 505                                                           & Group1A                                                       & naive                                                         & 50                                                            & RV\\_top                                                      & A5                                                            & P137                                                          & 0.03711523                                                    & 0.03428848                                                    & 0.001060644                                                   & 0.004597098                                                   & 0.001621096                                                  \\\\\n",
       "\t X521\\_Group1A\\_50dpi\\_RV\\_top\\_256\\_B\\_A6\\_P137.mzXML & 521                                                           & Group1A                                                       & naive                                                         & 50                                                            & RV\\_top                                                      & A6                                                            & P137                                                          & 0.02327026                                                    & 0.02096296                                                    & 0.000790152                                                   & 0.003665277                                                   & 0.001131362                                                  \\\\\n",
       "\\end{tabular}\n"
      ],
      "text/markdown": [
       "\n",
       "| filename | MouseID | Treatmentgroup | status | DPI | organ | well_position | plate | mass_400 | mass_500 | mass_600 | mass_700 | mass_800 |\n",
       "|---|---|---|---|---|---|---|---|---|---|---|---|---|\n",
       "| X501_Group1A_50dpi_RV_top_251_B_A1_P137.mzXML | 501                                           | Group1A                                       | naive                                         | 50                                            | RV_top                                        | A1                                            | P137                                          | 0.02971381                                    | 0.02220213                                    | 0.000078600                                   | 0.002125298                                   | 0.000000000                                   |\n",
       "| X502_Group1A_50dpi_RV_top_252_B_A2_P137.mzXML | 502                                           | Group1A                                       | naive                                         | 50                                            | RV_top                                        | A2                                            | P137                                          | 0.03667454                                    | 0.03857869                                    | 0.000675094                                   | 0.003480386                                   | 0.003499940                                   |\n",
       "| X503_Group1A_50dpi_RV_top_253_B_A3_P137.mzXML | 503                                           | Group1A                                       | naive                                         | 50                                            | RV_top                                        | A3                                            | P137                                          | 0.03540331                                    | 0.03001902                                    | 0.000535181                                   | 0.005257024                                   | 0.007673925                                   |\n",
       "| X504_Group1A_50dpi_RV_top_254_B_A4_P137.mzXML | 504                                           | Group1A                                       | naive                                         | 50                                            | RV_top                                        | A4                                            | P137                                          | 0.04135269                                    | 0.03712155                                    | 0.000900666                                   | 0.000650154                                   | 0.001575612                                   |\n",
       "| X505_Group1A_50dpi_RV_top_255_B_A5_P137.mzXML | 505                                           | Group1A                                       | naive                                         | 50                                            | RV_top                                        | A5                                            | P137                                          | 0.03711523                                    | 0.03428848                                    | 0.001060644                                   | 0.004597098                                   | 0.001621096                                   |\n",
       "| X521_Group1A_50dpi_RV_top_256_B_A6_P137.mzXML | 521                                           | Group1A                                       | naive                                         | 50                                            | RV_top                                        | A6                                            | P137                                          | 0.02327026                                    | 0.02096296                                    | 0.000790152                                   | 0.003665277                                   | 0.001131362                                   |\n",
       "\n"
      ],
      "text/plain": [
       "  filename                                      MouseID Treatmentgroup status\n",
       "1 X501_Group1A_50dpi_RV_top_251_B_A1_P137.mzXML 501     Group1A        naive \n",
       "2 X502_Group1A_50dpi_RV_top_252_B_A2_P137.mzXML 502     Group1A        naive \n",
       "3 X503_Group1A_50dpi_RV_top_253_B_A3_P137.mzXML 503     Group1A        naive \n",
       "4 X504_Group1A_50dpi_RV_top_254_B_A4_P137.mzXML 504     Group1A        naive \n",
       "5 X505_Group1A_50dpi_RV_top_255_B_A5_P137.mzXML 505     Group1A        naive \n",
       "6 X521_Group1A_50dpi_RV_top_256_B_A6_P137.mzXML 521     Group1A        naive \n",
       "  DPI organ  well_position plate mass_400   mass_500   mass_600    mass_700   \n",
       "1 50  RV_top A1            P137  0.02971381 0.02220213 0.000078600 0.002125298\n",
       "2 50  RV_top A2            P137  0.03667454 0.03857869 0.000675094 0.003480386\n",
       "3 50  RV_top A3            P137  0.03540331 0.03001902 0.000535181 0.005257024\n",
       "4 50  RV_top A4            P137  0.04135269 0.03712155 0.000900666 0.000650154\n",
       "5 50  RV_top A5            P137  0.03711523 0.03428848 0.001060644 0.004597098\n",
       "6 50  RV_top A6            P137  0.02327026 0.02096296 0.000790152 0.003665277\n",
       "  mass_800   \n",
       "1 0.000000000\n",
       "2 0.003499940\n",
       "3 0.007673925\n",
       "4 0.001575612\n",
       "5 0.001621096\n",
       "6 0.001131362"
      ]
     },
     "metadata": {},
     "output_type": "display_data"
    },
    {
     "data": {
      "text/html": [
       "<ol class=list-inline>\n",
       "\t<li>30</li>\n",
       "\t<li>13</li>\n",
       "</ol>\n"
      ],
      "text/latex": [
       "\\begin{enumerate*}\n",
       "\\item 30\n",
       "\\item 13\n",
       "\\end{enumerate*}\n"
      ],
      "text/markdown": [
       "1. 30\n",
       "2. 13\n",
       "\n",
       "\n"
      ],
      "text/plain": [
       "[1] 30 13"
      ]
     },
     "metadata": {},
     "output_type": "display_data"
    },
    {
     "data": {
      "text/html": [
       "<ol class=list-inline>\n",
       "\t<li>30</li>\n",
       "\t<li>5</li>\n",
       "</ol>\n"
      ],
      "text/latex": [
       "\\begin{enumerate*}\n",
       "\\item 30\n",
       "\\item 5\n",
       "\\end{enumerate*}\n"
      ],
      "text/markdown": [
       "1. 30\n",
       "2. 5\n",
       "\n",
       "\n"
      ],
      "text/plain": [
       "[1] 30  5"
      ]
     },
     "metadata": {},
     "output_type": "display_data"
    },
    {
     "data": {
      "text/html": [
       "<ol class=list-inline>\n",
       "\t<li>30</li>\n",
       "\t<li>5</li>\n",
       "</ol>\n"
      ],
      "text/latex": [
       "\\begin{enumerate*}\n",
       "\\item 30\n",
       "\\item 5\n",
       "\\end{enumerate*}\n"
      ],
      "text/markdown": [
       "1. 30\n",
       "2. 5\n",
       "\n",
       "\n"
      ],
      "text/plain": [
       "[1] 30  5"
      ]
     },
     "metadata": {},
     "output_type": "display_data"
    },
    {
     "data": {
      "text/html": [
       "<ol class=list-inline>\n",
       "\t<li>30</li>\n",
       "\t<li>13</li>\n",
       "</ol>\n"
      ],
      "text/latex": [
       "\\begin{enumerate*}\n",
       "\\item 30\n",
       "\\item 13\n",
       "\\end{enumerate*}\n"
      ],
      "text/markdown": [
       "1. 30\n",
       "2. 13\n",
       "\n",
       "\n"
      ],
      "text/plain": [
       "[1] 30 13"
      ]
     },
     "metadata": {},
     "output_type": "display_data"
    }
   ],
   "source": [
    "noMeta<-features_pos[,9:13]\n",
    "head(noMeta)\n",
    "not_zero<-which(colSums(noMeta) != 0)\n",
    "head(not_zero)\n",
    "nonzero <- noMeta[, not_zero]\n",
    "nonzero\n",
    "nonzero_wMeta<-cbind(features_pos[,1:8], nonzero)\n",
    "head(nonzero_wMeta)\n",
    "dim(features_pos)\n",
    "dim(noMeta)\n",
    "dim(nonzero)\n",
    "dim(nonzero_wMeta)"
   ]
  },
  {
   "cell_type": "code",
   "execution_count": 28,
   "metadata": {
    "scrolled": true
   },
   "outputs": [
    {
     "name": "stderr",
     "output_type": "stream",
     "text": [
      "Warning message in wilcox.test.default(x = c(0, 0.00349994, 0.007673925, 0.001575612, :\n",
      "\"cannot compute exact p-value with ties\""
     ]
    },
    {
     "data": {
      "text/html": [
       "<ol class=list-inline>\n",
       "\t<li>0.65287003041307</li>\n",
       "\t<li>0.249556194554941</li>\n",
       "\t<li>0.0742044999172241</li>\n",
       "\t<li>0.324548174828994</li>\n",
       "\t<li>0.245432483603493</li>\n",
       "</ol>\n"
      ],
      "text/latex": [
       "\\begin{enumerate*}\n",
       "\\item 0.65287003041307\n",
       "\\item 0.249556194554941\n",
       "\\item 0.0742044999172241\n",
       "\\item 0.324548174828994\n",
       "\\item 0.245432483603493\n",
       "\\end{enumerate*}\n"
      ],
      "text/markdown": [
       "1. 0.65287003041307\n",
       "2. 0.249556194554941\n",
       "3. 0.0742044999172241\n",
       "4. 0.324548174828994\n",
       "5. 0.245432483603493\n",
       "\n",
       "\n"
      ],
      "text/plain": [
       "[1] 0.6528700 0.2495562 0.0742045 0.3245482 0.2454325"
      ]
     },
     "metadata": {},
     "output_type": "display_data"
    },
    {
     "data": {
      "text/html": [
       "<ol class=list-inline>\n",
       "\t<li>0.65287003041307</li>\n",
       "\t<li>0.405685218536243</li>\n",
       "\t<li>0.37102249958612</li>\n",
       "\t<li>0.405685218536243</li>\n",
       "\t<li>0.405685218536243</li>\n",
       "</ol>\n"
      ],
      "text/latex": [
       "\\begin{enumerate*}\n",
       "\\item 0.65287003041307\n",
       "\\item 0.405685218536243\n",
       "\\item 0.37102249958612\n",
       "\\item 0.405685218536243\n",
       "\\item 0.405685218536243\n",
       "\\end{enumerate*}\n"
      ],
      "text/markdown": [
       "1. 0.65287003041307\n",
       "2. 0.405685218536243\n",
       "3. 0.37102249958612\n",
       "4. 0.405685218536243\n",
       "5. 0.405685218536243\n",
       "\n",
       "\n"
      ],
      "text/plain": [
       "[1] 0.6528700 0.4056852 0.3710225 0.4056852 0.4056852"
      ]
     },
     "metadata": {},
     "output_type": "display_data"
    }
   ],
   "source": [
    "pval<-c()\n",
    "\n",
    "for (i in 9:ncol(nonzero_wMeta)) \n",
    "pval<-c(pval,wilcox.test(nonzero_wMeta[,i]~nonzero_wMeta$Treatmentgroup)$p.value)\n",
    "head(pval)\n",
    "pAdj <- p.adjust(pval, method = c(\"fdr\"), n=length(pval)) \n",
    "head(pAdj) \n",
    "\n"
   ]
  },
  {
   "cell_type": "code",
   "execution_count": 29,
   "metadata": {
    "scrolled": true
   },
   "outputs": [
    {
     "data": {
      "text/html": [
       "5"
      ],
      "text/latex": [
       "5"
      ],
      "text/markdown": [
       "5"
      ],
      "text/plain": [
       "[1] 5"
      ]
     },
     "metadata": {},
     "output_type": "display_data"
    }
   ],
   "source": [
    "length(pval)"
   ]
  },
  {
   "cell_type": "code",
   "execution_count": 30,
   "metadata": {
    "scrolled": true
   },
   "outputs": [
    {
     "data": {
      "text/html": [
       "5"
      ],
      "text/latex": [
       "5"
      ],
      "text/markdown": [
       "5"
      ],
      "text/plain": [
       "[1] 5"
      ]
     },
     "metadata": {},
     "output_type": "display_data"
    }
   ],
   "source": [
    "length(pAdj)"
   ]
  },
  {
   "cell_type": "code",
   "execution_count": 31,
   "metadata": {},
   "outputs": [
    {
     "data": {
      "text/html": [
       "<ol class=list-inline>\n",
       "\t<li>2</li>\n",
       "\t<li>5</li>\n",
       "</ol>\n"
      ],
      "text/latex": [
       "\\begin{enumerate*}\n",
       "\\item 2\n",
       "\\item 5\n",
       "\\end{enumerate*}\n"
      ],
      "text/markdown": [
       "1. 2\n",
       "2. 5\n",
       "\n",
       "\n"
      ],
      "text/plain": [
       "[1] 2 5"
      ]
     },
     "metadata": {},
     "output_type": "display_data"
    },
    {
     "data": {
      "text/html": [
       "<table>\n",
       "<thead><tr><th></th><th scope=col>mass_400</th><th scope=col>mass_500</th><th scope=col>mass_600</th></tr></thead>\n",
       "<tbody>\n",
       "\t<tr><th scope=row>Group1A</th><td>0.03173452  </td><td>0.03299161  </td><td>0.0007958375</td></tr>\n",
       "\t<tr><th scope=row>Group3A</th><td>0.03084508  </td><td>0.03028026  </td><td>0.0005529855</td></tr>\n",
       "</tbody>\n",
       "</table>\n"
      ],
      "text/latex": [
       "\\begin{tabular}{r|lll}\n",
       "  & mass\\_400 & mass\\_500 & mass\\_600\\\\\n",
       "\\hline\n",
       "\tGroup1A & 0.03173452   & 0.03299161   & 0.0007958375\\\\\n",
       "\tGroup3A & 0.03084508   & 0.03028026   & 0.0005529855\\\\\n",
       "\\end{tabular}\n"
      ],
      "text/markdown": [
       "\n",
       "| <!--/--> | mass_400 | mass_500 | mass_600 |\n",
       "|---|---|---|---|\n",
       "| Group1A | 0.03173452   | 0.03299161   | 0.0007958375 |\n",
       "| Group3A | 0.03084508   | 0.03028026   | 0.0005529855 |\n",
       "\n"
      ],
      "text/plain": [
       "        mass_400   mass_500   mass_600    \n",
       "Group1A 0.03173452 0.03299161 0.0007958375\n",
       "Group3A 0.03084508 0.03028026 0.0005529855"
      ]
     },
     "metadata": {},
     "output_type": "display_data"
    },
    {
     "data": {
      "text/html": [
       "<dl class=dl-horizontal>\n",
       "\t<dt>mass_400</dt>\n",
       "\t\t<dd>1.02883561511698</dd>\n",
       "\t<dt>mass_500</dt>\n",
       "\t\t<dd>1.08954195077054</dd>\n",
       "\t<dt>mass_600</dt>\n",
       "\t\t<dd>1.43916524870696</dd>\n",
       "\t<dt>mass_700</dt>\n",
       "\t\t<dd>1.13143326948057</dd>\n",
       "\t<dt>mass_800</dt>\n",
       "\t\t<dd>1.46127297300405</dd>\n",
       "</dl>\n"
      ],
      "text/latex": [
       "\\begin{description*}\n",
       "\\item[mass\\textbackslash{}\\_400] 1.02883561511698\n",
       "\\item[mass\\textbackslash{}\\_500] 1.08954195077054\n",
       "\\item[mass\\textbackslash{}\\_600] 1.43916524870696\n",
       "\\item[mass\\textbackslash{}\\_700] 1.13143326948057\n",
       "\\item[mass\\textbackslash{}\\_800] 1.46127297300405\n",
       "\\end{description*}\n"
      ],
      "text/markdown": [
       "mass_400\n",
       ":   1.02883561511698mass_500\n",
       ":   1.08954195077054mass_600\n",
       ":   1.43916524870696mass_700\n",
       ":   1.13143326948057mass_800\n",
       ":   1.46127297300405\n",
       "\n"
      ],
      "text/plain": [
       "mass_400 mass_500 mass_600 mass_700 mass_800 \n",
       "1.028836 1.089542 1.439165 1.131433 1.461273 "
      ]
     },
     "metadata": {},
     "output_type": "display_data"
    },
    {
     "data": {
      "text/html": [
       "<ol class=list-inline>\n",
       "\t<li>'numeric'</li>\n",
       "\t<li>'vector'</li>\n",
       "</ol>\n"
      ],
      "text/latex": [
       "\\begin{enumerate*}\n",
       "\\item 'numeric'\n",
       "\\item 'vector'\n",
       "\\end{enumerate*}\n"
      ],
      "text/markdown": [
       "1. 'numeric'\n",
       "2. 'vector'\n",
       "\n",
       "\n"
      ],
      "text/plain": [
       "[1] \"numeric\" \"vector\" "
      ]
     },
     "metadata": {},
     "output_type": "display_data"
    }
   ],
   "source": [
    "avg<- apply(nonzero_wMeta[,9:ncol(nonzero_wMeta)], 2, function(x) tapply(x, nonzero_wMeta$Treatmentgroup, function(x) mean(x))) \n",
    "\n",
    "dim(avg)\n",
    "\n",
    "avg[,1:3]\n",
    "\n",
    "fch <- apply(avg, 2, function(x) x[1]/x[2])\n",
    "\n",
    "head(fch)\n",
    "is(fch)"
   ]
  },
  {
   "cell_type": "code",
   "execution_count": 32,
   "metadata": {
    "scrolled": true
   },
   "outputs": [
    {
     "data": {
      "text/html": [
       "<dl class=dl-horizontal>\n",
       "\t<dt>mass_400</dt>\n",
       "\t\t<dd>1.02883561511698</dd>\n",
       "\t<dt>mass_500</dt>\n",
       "\t\t<dd>1.08954195077054</dd>\n",
       "\t<dt>mass_600</dt>\n",
       "\t\t<dd>1.43916524870696</dd>\n",
       "\t<dt>mass_700</dt>\n",
       "\t\t<dd>1.13143326948057</dd>\n",
       "\t<dt>mass_800</dt>\n",
       "\t\t<dd>1.46127297300405</dd>\n",
       "</dl>\n"
      ],
      "text/latex": [
       "\\begin{description*}\n",
       "\\item[mass\\textbackslash{}\\_400] 1.02883561511698\n",
       "\\item[mass\\textbackslash{}\\_500] 1.08954195077054\n",
       "\\item[mass\\textbackslash{}\\_600] 1.43916524870696\n",
       "\\item[mass\\textbackslash{}\\_700] 1.13143326948057\n",
       "\\item[mass\\textbackslash{}\\_800] 1.46127297300405\n",
       "\\end{description*}\n"
      ],
      "text/markdown": [
       "mass_400\n",
       ":   1.02883561511698mass_500\n",
       ":   1.08954195077054mass_600\n",
       ":   1.43916524870696mass_700\n",
       ":   1.13143326948057mass_800\n",
       ":   1.46127297300405\n",
       "\n"
      ],
      "text/plain": [
       "mass_400 mass_500 mass_600 mass_700 mass_800 \n",
       "1.028836 1.089542 1.439165 1.131433 1.461273 "
      ]
     },
     "metadata": {},
     "output_type": "display_data"
    }
   ],
   "source": [
    "fch"
   ]
  },
  {
   "cell_type": "code",
   "execution_count": 33,
   "metadata": {
    "scrolled": false
   },
   "outputs": [],
   "source": [
    "df <- data.frame(fch,pval, pAdj)\n",
    "write.csv(df, \"PC-time-RVT-wilcox-1A-3A.csv\")"
   ]
  },
  {
   "cell_type": "code",
   "execution_count": null,
   "metadata": {},
   "outputs": [],
   "source": []
  },
  {
   "cell_type": "code",
   "execution_count": null,
   "metadata": {},
   "outputs": [],
   "source": []
  },
  {
   "cell_type": "code",
   "execution_count": null,
   "metadata": {},
   "outputs": [],
   "source": []
  },
  {
   "cell_type": "code",
   "execution_count": null,
   "metadata": {},
   "outputs": [],
   "source": []
  },
  {
   "cell_type": "code",
   "execution_count": null,
   "metadata": {},
   "outputs": [],
   "source": []
  },
  {
   "cell_type": "code",
   "execution_count": null,
   "metadata": {},
   "outputs": [],
   "source": []
  }
 ],
 "metadata": {
  "kernelspec": {
   "display_name": "R",
   "language": "R",
   "name": "ir"
  },
  "language_info": {
   "codemirror_mode": "r",
   "file_extension": ".r",
   "mimetype": "text/x-r-source",
   "name": "R",
   "pygments_lexer": "r",
   "version": "3.6.1"
  }
 },
 "nbformat": 4,
 "nbformat_minor": 2
}
