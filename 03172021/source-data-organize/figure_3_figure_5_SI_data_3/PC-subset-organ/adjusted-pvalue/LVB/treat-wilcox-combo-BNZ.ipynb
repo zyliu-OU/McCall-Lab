{
 "cells": [
  {
   "cell_type": "code",
   "execution_count": 1,
   "metadata": {},
   "outputs": [],
   "source": [
    "a <- read.csv(\"03172021-PC-treatment-LVB-M-F.csv\")"
   ]
  },
  {
   "cell_type": "code",
   "execution_count": 2,
   "metadata": {},
   "outputs": [
    {
     "data": {
      "text/html": [
       "<table>\n",
       "<thead><tr><th scope=col>filename</th><th scope=col>MouseID</th><th scope=col>Treatmentgroup</th><th scope=col>DPI</th><th scope=col>organ</th><th scope=col>well_position</th><th scope=col>plate</th><th scope=col>mass_400</th><th scope=col>mass_500</th><th scope=col>mass_600</th><th scope=col>mass_700</th><th scope=col>mass_800</th></tr></thead>\n",
       "<tbody>\n",
       "\t<tr><td>X511_Group1C_142dpi_LV_bottom_161_G_A1_P132.mzXML</td><td>511                                              </td><td>naive                                            </td><td>142dpi                                           </td><td>LV_bottom                                        </td><td>A1                                               </td><td>P132                                             </td><td>0.04382789                                       </td><td>0.07997773                                       </td><td>0.002684053                                      </td><td>0.003825973                                      </td><td>0.000280747                                      </td></tr>\n",
       "\t<tr><td>X512_Group1C_142dpi_LV_bottom_162_G_A2_P132.mzXML</td><td>512                                              </td><td>naive                                            </td><td>142dpi                                           </td><td>LV_bottom                                        </td><td>A2                                               </td><td>P132                                             </td><td>0.03908150                                       </td><td>0.06240000                                       </td><td>0.002998300                                      </td><td>0.003632408                                      </td><td>0.001471252                                      </td></tr>\n",
       "\t<tr><td>X513_Group1C_142dpi_LV_bottom_163_G_A3_P132.mzXML</td><td>513                                              </td><td>naive                                            </td><td>142dpi                                           </td><td>LV_bottom                                        </td><td>A3                                               </td><td>P132                                             </td><td>0.03267072                                       </td><td>0.04620000                                       </td><td>0.001726274                                      </td><td>0.004220656                                      </td><td>0.002569278                                      </td></tr>\n",
       "\t<tr><td>X514_Group1C_142dpi_LV_bottom_164_G_A4_P132.mzXML</td><td>514                                              </td><td>naive                                            </td><td>142dpi                                           </td><td>LV_bottom                                        </td><td>A4                                               </td><td>P132                                             </td><td>0.04172188                                       </td><td>0.05520000                                       </td><td>0.001976908                                      </td><td>0.003830678                                      </td><td>0.000883582                                      </td></tr>\n",
       "\t<tr><td>X515_Group1C_142dpi_LV_bottom_165_G_A5_P132.mzXML</td><td>515                                              </td><td>naive                                            </td><td>142dpi                                           </td><td>LV_bottom                                        </td><td>A5                                               </td><td>P132                                             </td><td>0.03505978                                       </td><td>0.05858027                                       </td><td>0.002110626                                      </td><td>0.002231458                                      </td><td>0.001315984                                      </td></tr>\n",
       "\t<tr><td>X531_Group1C_142dpi_LV_bottom_166_G_A6_P132.mzXML</td><td>531                                              </td><td>naive                                            </td><td>142dpi                                           </td><td>LV_bottom                                        </td><td>A6                                               </td><td>P132                                             </td><td>0.03271828                                       </td><td>0.03970000                                       </td><td>0.001690467                                      </td><td>0.006136600                                      </td><td>0.002555819                                      </td></tr>\n",
       "</tbody>\n",
       "</table>\n"
      ],
      "text/latex": [
       "\\begin{tabular}{r|llllllllllll}\n",
       " filename & MouseID & Treatmentgroup & DPI & organ & well\\_position & plate & mass\\_400 & mass\\_500 & mass\\_600 & mass\\_700 & mass\\_800\\\\\n",
       "\\hline\n",
       "\t X511\\_Group1C\\_142dpi\\_LV\\_bottom\\_161\\_G\\_A1\\_P132.mzXML & 511                                                               & naive                                                             & 142dpi                                                            & LV\\_bottom                                                       & A1                                                                & P132                                                              & 0.04382789                                                        & 0.07997773                                                        & 0.002684053                                                       & 0.003825973                                                       & 0.000280747                                                      \\\\\n",
       "\t X512\\_Group1C\\_142dpi\\_LV\\_bottom\\_162\\_G\\_A2\\_P132.mzXML & 512                                                               & naive                                                             & 142dpi                                                            & LV\\_bottom                                                       & A2                                                                & P132                                                              & 0.03908150                                                        & 0.06240000                                                        & 0.002998300                                                       & 0.003632408                                                       & 0.001471252                                                      \\\\\n",
       "\t X513\\_Group1C\\_142dpi\\_LV\\_bottom\\_163\\_G\\_A3\\_P132.mzXML & 513                                                               & naive                                                             & 142dpi                                                            & LV\\_bottom                                                       & A3                                                                & P132                                                              & 0.03267072                                                        & 0.04620000                                                        & 0.001726274                                                       & 0.004220656                                                       & 0.002569278                                                      \\\\\n",
       "\t X514\\_Group1C\\_142dpi\\_LV\\_bottom\\_164\\_G\\_A4\\_P132.mzXML & 514                                                               & naive                                                             & 142dpi                                                            & LV\\_bottom                                                       & A4                                                                & P132                                                              & 0.04172188                                                        & 0.05520000                                                        & 0.001976908                                                       & 0.003830678                                                       & 0.000883582                                                      \\\\\n",
       "\t X515\\_Group1C\\_142dpi\\_LV\\_bottom\\_165\\_G\\_A5\\_P132.mzXML & 515                                                               & naive                                                             & 142dpi                                                            & LV\\_bottom                                                       & A5                                                                & P132                                                              & 0.03505978                                                        & 0.05858027                                                        & 0.002110626                                                       & 0.002231458                                                       & 0.001315984                                                      \\\\\n",
       "\t X531\\_Group1C\\_142dpi\\_LV\\_bottom\\_166\\_G\\_A6\\_P132.mzXML & 531                                                               & naive                                                             & 142dpi                                                            & LV\\_bottom                                                       & A6                                                                & P132                                                              & 0.03271828                                                        & 0.03970000                                                        & 0.001690467                                                       & 0.006136600                                                       & 0.002555819                                                      \\\\\n",
       "\\end{tabular}\n"
      ],
      "text/markdown": [
       "\n",
       "| filename | MouseID | Treatmentgroup | DPI | organ | well_position | plate | mass_400 | mass_500 | mass_600 | mass_700 | mass_800 |\n",
       "|---|---|---|---|---|---|---|---|---|---|---|---|\n",
       "| X511_Group1C_142dpi_LV_bottom_161_G_A1_P132.mzXML | 511                                               | naive                                             | 142dpi                                            | LV_bottom                                         | A1                                                | P132                                              | 0.04382789                                        | 0.07997773                                        | 0.002684053                                       | 0.003825973                                       | 0.000280747                                       |\n",
       "| X512_Group1C_142dpi_LV_bottom_162_G_A2_P132.mzXML | 512                                               | naive                                             | 142dpi                                            | LV_bottom                                         | A2                                                | P132                                              | 0.03908150                                        | 0.06240000                                        | 0.002998300                                       | 0.003632408                                       | 0.001471252                                       |\n",
       "| X513_Group1C_142dpi_LV_bottom_163_G_A3_P132.mzXML | 513                                               | naive                                             | 142dpi                                            | LV_bottom                                         | A3                                                | P132                                              | 0.03267072                                        | 0.04620000                                        | 0.001726274                                       | 0.004220656                                       | 0.002569278                                       |\n",
       "| X514_Group1C_142dpi_LV_bottom_164_G_A4_P132.mzXML | 514                                               | naive                                             | 142dpi                                            | LV_bottom                                         | A4                                                | P132                                              | 0.04172188                                        | 0.05520000                                        | 0.001976908                                       | 0.003830678                                       | 0.000883582                                       |\n",
       "| X515_Group1C_142dpi_LV_bottom_165_G_A5_P132.mzXML | 515                                               | naive                                             | 142dpi                                            | LV_bottom                                         | A5                                                | P132                                              | 0.03505978                                        | 0.05858027                                        | 0.002110626                                       | 0.002231458                                       | 0.001315984                                       |\n",
       "| X531_Group1C_142dpi_LV_bottom_166_G_A6_P132.mzXML | 531                                               | naive                                             | 142dpi                                            | LV_bottom                                         | A6                                                | P132                                              | 0.03271828                                        | 0.03970000                                        | 0.001690467                                       | 0.006136600                                       | 0.002555819                                       |\n",
       "\n"
      ],
      "text/plain": [
       "  filename                                          MouseID Treatmentgroup\n",
       "1 X511_Group1C_142dpi_LV_bottom_161_G_A1_P132.mzXML 511     naive         \n",
       "2 X512_Group1C_142dpi_LV_bottom_162_G_A2_P132.mzXML 512     naive         \n",
       "3 X513_Group1C_142dpi_LV_bottom_163_G_A3_P132.mzXML 513     naive         \n",
       "4 X514_Group1C_142dpi_LV_bottom_164_G_A4_P132.mzXML 514     naive         \n",
       "5 X515_Group1C_142dpi_LV_bottom_165_G_A5_P132.mzXML 515     naive         \n",
       "6 X531_Group1C_142dpi_LV_bottom_166_G_A6_P132.mzXML 531     naive         \n",
       "  DPI    organ     well_position plate mass_400   mass_500   mass_600   \n",
       "1 142dpi LV_bottom A1            P132  0.04382789 0.07997773 0.002684053\n",
       "2 142dpi LV_bottom A2            P132  0.03908150 0.06240000 0.002998300\n",
       "3 142dpi LV_bottom A3            P132  0.03267072 0.04620000 0.001726274\n",
       "4 142dpi LV_bottom A4            P132  0.04172188 0.05520000 0.001976908\n",
       "5 142dpi LV_bottom A5            P132  0.03505978 0.05858027 0.002110626\n",
       "6 142dpi LV_bottom A6            P132  0.03271828 0.03970000 0.001690467\n",
       "  mass_700    mass_800   \n",
       "1 0.003825973 0.000280747\n",
       "2 0.003632408 0.001471252\n",
       "3 0.004220656 0.002569278\n",
       "4 0.003830678 0.000883582\n",
       "5 0.002231458 0.001315984\n",
       "6 0.006136600 0.002555819"
      ]
     },
     "metadata": {},
     "output_type": "display_data"
    },
    {
     "data": {
      "text/html": [
       "<ol class=list-inline>\n",
       "\t<li>60</li>\n",
       "\t<li>12</li>\n",
       "</ol>\n"
      ],
      "text/latex": [
       "\\begin{enumerate*}\n",
       "\\item 60\n",
       "\\item 12\n",
       "\\end{enumerate*}\n"
      ],
      "text/markdown": [
       "1. 60\n",
       "2. 12\n",
       "\n",
       "\n"
      ],
      "text/plain": [
       "[1] 60 12"
      ]
     },
     "metadata": {},
     "output_type": "display_data"
    }
   ],
   "source": [
    "head(a)\n",
    "dim(a)"
   ]
  },
  {
   "cell_type": "code",
   "execution_count": 3,
   "metadata": {},
   "outputs": [
    {
     "data": {
      "text/html": [
       "<table>\n",
       "<thead><tr><th></th><th scope=col>filename</th><th scope=col>MouseID</th><th scope=col>Treatmentgroup</th><th scope=col>DPI</th><th scope=col>organ</th><th scope=col>well_position</th><th scope=col>plate</th><th scope=col>mass_400</th><th scope=col>mass_500</th><th scope=col>mass_600</th><th scope=col>mass_700</th><th scope=col>mass_800</th></tr></thead>\n",
       "<tbody>\n",
       "\t<tr><th scope=row>21</th><td>X611_Group9_142dpi_LV_bottom_181_G_B9_P132.mzXML </td><td>611                                              </td><td>combo                                            </td><td>142dpi                                           </td><td>LV_bottom                                        </td><td>B9                                               </td><td>P132                                             </td><td>0.03013410                                       </td><td>0.03580000                                       </td><td>0.001738334                                      </td><td>0.005715424                                      </td><td>0.003090477                                      </td></tr>\n",
       "\t<tr><th scope=row>22</th><td>X612_Group9_142dpi_LV_bottom_182_G_B10_P132.mzXML</td><td>612                                              </td><td>combo                                            </td><td>142dpi                                           </td><td>LV_bottom                                        </td><td>B10                                              </td><td>P132                                             </td><td>0.02250190                                       </td><td>0.02930073                                       </td><td>0.000884736                                      </td><td>0.000342308                                      </td><td>0.000251999                                      </td></tr>\n",
       "\t<tr><th scope=row>23</th><td>X613_Group9_142dpi_LV_bottom_183_G_B11_P132.mzXML</td><td>613                                              </td><td>combo                                            </td><td>142dpi                                           </td><td>LV_bottom                                        </td><td>B11                                              </td><td>P132                                             </td><td>0.03934998                                       </td><td>0.06410000                                       </td><td>0.001978019                                      </td><td>0.004733783                                      </td><td>0.004661582                                      </td></tr>\n",
       "\t<tr><th scope=row>24</th><td>X614_Group9_142dpi_LV_bottom_184_G_B12_P132.mzXML</td><td>614                                              </td><td>combo                                            </td><td>142dpi                                           </td><td>LV_bottom                                        </td><td>B12                                              </td><td>P132                                             </td><td>0.06329180                                       </td><td>0.07286291                                       </td><td>0.002511262                                      </td><td>0.004672052                                      </td><td>0.002819729                                      </td></tr>\n",
       "\t<tr><th scope=row>25</th><td>X615_Group9_142dpi_LV_bottom_185_G_C1_P132.mzXML </td><td>615                                              </td><td>combo                                            </td><td>142dpi                                           </td><td>LV_bottom                                        </td><td>C1                                               </td><td>P132                                             </td><td>0.03578245                                       </td><td>0.04340000                                       </td><td>0.001723822                                      </td><td>0.009723075                                      </td><td>0.003391698                                      </td></tr>\n",
       "\t<tr><th scope=row>26</th><td>X631_Group15_142dpi_LV_bottom_191_G_C7_P132.mzXML</td><td>631                                              </td><td>BNZ                                              </td><td>142dpi                                           </td><td>LV_bottom                                        </td><td>C7                                               </td><td>P132                                             </td><td>0.03743848                                       </td><td>0.04630000                                       </td><td>0.002479058                                      </td><td>0.009870000                                      </td><td>0.007242087                                      </td></tr>\n",
       "</tbody>\n",
       "</table>\n"
      ],
      "text/latex": [
       "\\begin{tabular}{r|llllllllllll}\n",
       "  & filename & MouseID & Treatmentgroup & DPI & organ & well\\_position & plate & mass\\_400 & mass\\_500 & mass\\_600 & mass\\_700 & mass\\_800\\\\\n",
       "\\hline\n",
       "\t21 & X611\\_Group9\\_142dpi\\_LV\\_bottom\\_181\\_G\\_B9\\_P132.mzXML  & 611                                                               & combo                                                             & 142dpi                                                            & LV\\_bottom                                                       & B9                                                                & P132                                                              & 0.03013410                                                        & 0.03580000                                                        & 0.001738334                                                       & 0.005715424                                                       & 0.003090477                                                      \\\\\n",
       "\t22 & X612\\_Group9\\_142dpi\\_LV\\_bottom\\_182\\_G\\_B10\\_P132.mzXML & 612                                                               & combo                                                             & 142dpi                                                            & LV\\_bottom                                                       & B10                                                               & P132                                                              & 0.02250190                                                        & 0.02930073                                                        & 0.000884736                                                       & 0.000342308                                                       & 0.000251999                                                      \\\\\n",
       "\t23 & X613\\_Group9\\_142dpi\\_LV\\_bottom\\_183\\_G\\_B11\\_P132.mzXML & 613                                                               & combo                                                             & 142dpi                                                            & LV\\_bottom                                                       & B11                                                               & P132                                                              & 0.03934998                                                        & 0.06410000                                                        & 0.001978019                                                       & 0.004733783                                                       & 0.004661582                                                      \\\\\n",
       "\t24 & X614\\_Group9\\_142dpi\\_LV\\_bottom\\_184\\_G\\_B12\\_P132.mzXML & 614                                                               & combo                                                             & 142dpi                                                            & LV\\_bottom                                                       & B12                                                               & P132                                                              & 0.06329180                                                        & 0.07286291                                                        & 0.002511262                                                       & 0.004672052                                                       & 0.002819729                                                      \\\\\n",
       "\t25 & X615\\_Group9\\_142dpi\\_LV\\_bottom\\_185\\_G\\_C1\\_P132.mzXML  & 615                                                               & combo                                                             & 142dpi                                                            & LV\\_bottom                                                       & C1                                                                & P132                                                              & 0.03578245                                                        & 0.04340000                                                        & 0.001723822                                                       & 0.009723075                                                       & 0.003391698                                                      \\\\\n",
       "\t26 & X631\\_Group15\\_142dpi\\_LV\\_bottom\\_191\\_G\\_C7\\_P132.mzXML & 631                                                               & BNZ                                                               & 142dpi                                                            & LV\\_bottom                                                       & C7                                                                & P132                                                              & 0.03743848                                                        & 0.04630000                                                        & 0.002479058                                                       & 0.009870000                                                       & 0.007242087                                                      \\\\\n",
       "\\end{tabular}\n"
      ],
      "text/markdown": [
       "\n",
       "| <!--/--> | filename | MouseID | Treatmentgroup | DPI | organ | well_position | plate | mass_400 | mass_500 | mass_600 | mass_700 | mass_800 |\n",
       "|---|---|---|---|---|---|---|---|---|---|---|---|---|\n",
       "| 21 | X611_Group9_142dpi_LV_bottom_181_G_B9_P132.mzXML  | 611                                               | combo                                             | 142dpi                                            | LV_bottom                                         | B9                                                | P132                                              | 0.03013410                                        | 0.03580000                                        | 0.001738334                                       | 0.005715424                                       | 0.003090477                                       |\n",
       "| 22 | X612_Group9_142dpi_LV_bottom_182_G_B10_P132.mzXML | 612                                               | combo                                             | 142dpi                                            | LV_bottom                                         | B10                                               | P132                                              | 0.02250190                                        | 0.02930073                                        | 0.000884736                                       | 0.000342308                                       | 0.000251999                                       |\n",
       "| 23 | X613_Group9_142dpi_LV_bottom_183_G_B11_P132.mzXML | 613                                               | combo                                             | 142dpi                                            | LV_bottom                                         | B11                                               | P132                                              | 0.03934998                                        | 0.06410000                                        | 0.001978019                                       | 0.004733783                                       | 0.004661582                                       |\n",
       "| 24 | X614_Group9_142dpi_LV_bottom_184_G_B12_P132.mzXML | 614                                               | combo                                             | 142dpi                                            | LV_bottom                                         | B12                                               | P132                                              | 0.06329180                                        | 0.07286291                                        | 0.002511262                                       | 0.004672052                                       | 0.002819729                                       |\n",
       "| 25 | X615_Group9_142dpi_LV_bottom_185_G_C1_P132.mzXML  | 615                                               | combo                                             | 142dpi                                            | LV_bottom                                         | C1                                                | P132                                              | 0.03578245                                        | 0.04340000                                        | 0.001723822                                       | 0.009723075                                       | 0.003391698                                       |\n",
       "| 26 | X631_Group15_142dpi_LV_bottom_191_G_C7_P132.mzXML | 631                                               | BNZ                                               | 142dpi                                            | LV_bottom                                         | C7                                                | P132                                              | 0.03743848                                        | 0.04630000                                        | 0.002479058                                       | 0.009870000                                       | 0.007242087                                       |\n",
       "\n"
      ],
      "text/plain": [
       "   filename                                          MouseID Treatmentgroup\n",
       "21 X611_Group9_142dpi_LV_bottom_181_G_B9_P132.mzXML  611     combo         \n",
       "22 X612_Group9_142dpi_LV_bottom_182_G_B10_P132.mzXML 612     combo         \n",
       "23 X613_Group9_142dpi_LV_bottom_183_G_B11_P132.mzXML 613     combo         \n",
       "24 X614_Group9_142dpi_LV_bottom_184_G_B12_P132.mzXML 614     combo         \n",
       "25 X615_Group9_142dpi_LV_bottom_185_G_C1_P132.mzXML  615     combo         \n",
       "26 X631_Group15_142dpi_LV_bottom_191_G_C7_P132.mzXML 631     BNZ           \n",
       "   DPI    organ     well_position plate mass_400   mass_500   mass_600   \n",
       "21 142dpi LV_bottom B9            P132  0.03013410 0.03580000 0.001738334\n",
       "22 142dpi LV_bottom B10           P132  0.02250190 0.02930073 0.000884736\n",
       "23 142dpi LV_bottom B11           P132  0.03934998 0.06410000 0.001978019\n",
       "24 142dpi LV_bottom B12           P132  0.06329180 0.07286291 0.002511262\n",
       "25 142dpi LV_bottom C1            P132  0.03578245 0.04340000 0.001723822\n",
       "26 142dpi LV_bottom C7            P132  0.03743848 0.04630000 0.002479058\n",
       "   mass_700    mass_800   \n",
       "21 0.005715424 0.003090477\n",
       "22 0.000342308 0.000251999\n",
       "23 0.004733783 0.004661582\n",
       "24 0.004672052 0.002819729\n",
       "25 0.009723075 0.003391698\n",
       "26 0.009870000 0.007242087"
      ]
     },
     "metadata": {},
     "output_type": "display_data"
    },
    {
     "data": {
      "text/html": [
       "<ol class=list-inline>\n",
       "\t<li>30</li>\n",
       "\t<li>12</li>\n",
       "</ol>\n"
      ],
      "text/latex": [
       "\\begin{enumerate*}\n",
       "\\item 30\n",
       "\\item 12\n",
       "\\end{enumerate*}\n"
      ],
      "text/markdown": [
       "1. 30\n",
       "2. 12\n",
       "\n",
       "\n"
      ],
      "text/plain": [
       "[1] 30 12"
      ]
     },
     "metadata": {},
     "output_type": "display_data"
    }
   ],
   "source": [
    "features_pos<-droplevels(subset(a, a$Treatmentgroup==c(\"combo\")|a$Treatmentgroup==c(\"BNZ\")))\n",
    "head(features_pos)\n",
    "dim(features_pos)"
   ]
  },
  {
   "cell_type": "code",
   "execution_count": 4,
   "metadata": {
    "scrolled": false
   },
   "outputs": [
    {
     "data": {
      "text/html": [
       "<table>\n",
       "<thead><tr><th></th><th scope=col>mass_400</th><th scope=col>mass_500</th><th scope=col>mass_600</th><th scope=col>mass_700</th><th scope=col>mass_800</th></tr></thead>\n",
       "<tbody>\n",
       "\t<tr><th scope=row>21</th><td>0.03013410 </td><td>0.03580000 </td><td>0.001738334</td><td>0.005715424</td><td>0.003090477</td></tr>\n",
       "\t<tr><th scope=row>22</th><td>0.02250190 </td><td>0.02930073 </td><td>0.000884736</td><td>0.000342308</td><td>0.000251999</td></tr>\n",
       "\t<tr><th scope=row>23</th><td>0.03934998 </td><td>0.06410000 </td><td>0.001978019</td><td>0.004733783</td><td>0.004661582</td></tr>\n",
       "\t<tr><th scope=row>24</th><td>0.06329180 </td><td>0.07286291 </td><td>0.002511262</td><td>0.004672052</td><td>0.002819729</td></tr>\n",
       "\t<tr><th scope=row>25</th><td>0.03578245 </td><td>0.04340000 </td><td>0.001723822</td><td>0.009723075</td><td>0.003391698</td></tr>\n",
       "\t<tr><th scope=row>26</th><td>0.03743848 </td><td>0.04630000 </td><td>0.002479058</td><td>0.009870000</td><td>0.007242087</td></tr>\n",
       "</tbody>\n",
       "</table>\n"
      ],
      "text/latex": [
       "\\begin{tabular}{r|lllll}\n",
       "  & mass\\_400 & mass\\_500 & mass\\_600 & mass\\_700 & mass\\_800\\\\\n",
       "\\hline\n",
       "\t21 & 0.03013410  & 0.03580000  & 0.001738334 & 0.005715424 & 0.003090477\\\\\n",
       "\t22 & 0.02250190  & 0.02930073  & 0.000884736 & 0.000342308 & 0.000251999\\\\\n",
       "\t23 & 0.03934998  & 0.06410000  & 0.001978019 & 0.004733783 & 0.004661582\\\\\n",
       "\t24 & 0.06329180  & 0.07286291  & 0.002511262 & 0.004672052 & 0.002819729\\\\\n",
       "\t25 & 0.03578245  & 0.04340000  & 0.001723822 & 0.009723075 & 0.003391698\\\\\n",
       "\t26 & 0.03743848  & 0.04630000  & 0.002479058 & 0.009870000 & 0.007242087\\\\\n",
       "\\end{tabular}\n"
      ],
      "text/markdown": [
       "\n",
       "| <!--/--> | mass_400 | mass_500 | mass_600 | mass_700 | mass_800 |\n",
       "|---|---|---|---|---|---|\n",
       "| 21 | 0.03013410  | 0.03580000  | 0.001738334 | 0.005715424 | 0.003090477 |\n",
       "| 22 | 0.02250190  | 0.02930073  | 0.000884736 | 0.000342308 | 0.000251999 |\n",
       "| 23 | 0.03934998  | 0.06410000  | 0.001978019 | 0.004733783 | 0.004661582 |\n",
       "| 24 | 0.06329180  | 0.07286291  | 0.002511262 | 0.004672052 | 0.002819729 |\n",
       "| 25 | 0.03578245  | 0.04340000  | 0.001723822 | 0.009723075 | 0.003391698 |\n",
       "| 26 | 0.03743848  | 0.04630000  | 0.002479058 | 0.009870000 | 0.007242087 |\n",
       "\n"
      ],
      "text/plain": [
       "   mass_400   mass_500   mass_600    mass_700    mass_800   \n",
       "21 0.03013410 0.03580000 0.001738334 0.005715424 0.003090477\n",
       "22 0.02250190 0.02930073 0.000884736 0.000342308 0.000251999\n",
       "23 0.03934998 0.06410000 0.001978019 0.004733783 0.004661582\n",
       "24 0.06329180 0.07286291 0.002511262 0.004672052 0.002819729\n",
       "25 0.03578245 0.04340000 0.001723822 0.009723075 0.003391698\n",
       "26 0.03743848 0.04630000 0.002479058 0.009870000 0.007242087"
      ]
     },
     "metadata": {},
     "output_type": "display_data"
    },
    {
     "data": {
      "text/html": [
       "<dl class=dl-horizontal>\n",
       "\t<dt>mass_400</dt>\n",
       "\t\t<dd>1</dd>\n",
       "\t<dt>mass_500</dt>\n",
       "\t\t<dd>2</dd>\n",
       "\t<dt>mass_600</dt>\n",
       "\t\t<dd>3</dd>\n",
       "\t<dt>mass_700</dt>\n",
       "\t\t<dd>4</dd>\n",
       "\t<dt>mass_800</dt>\n",
       "\t\t<dd>5</dd>\n",
       "</dl>\n"
      ],
      "text/latex": [
       "\\begin{description*}\n",
       "\\item[mass\\textbackslash{}\\_400] 1\n",
       "\\item[mass\\textbackslash{}\\_500] 2\n",
       "\\item[mass\\textbackslash{}\\_600] 3\n",
       "\\item[mass\\textbackslash{}\\_700] 4\n",
       "\\item[mass\\textbackslash{}\\_800] 5\n",
       "\\end{description*}\n"
      ],
      "text/markdown": [
       "mass_400\n",
       ":   1mass_500\n",
       ":   2mass_600\n",
       ":   3mass_700\n",
       ":   4mass_800\n",
       ":   5\n",
       "\n"
      ],
      "text/plain": [
       "mass_400 mass_500 mass_600 mass_700 mass_800 \n",
       "       1        2        3        4        5 "
      ]
     },
     "metadata": {},
     "output_type": "display_data"
    },
    {
     "data": {
      "text/html": [
       "<table>\n",
       "<thead><tr><th></th><th scope=col>mass_400</th><th scope=col>mass_500</th><th scope=col>mass_600</th><th scope=col>mass_700</th><th scope=col>mass_800</th></tr></thead>\n",
       "<tbody>\n",
       "\t<tr><th scope=row>21</th><td>0.03013410 </td><td>0.03580000 </td><td>0.001738334</td><td>0.005715424</td><td>0.003090477</td></tr>\n",
       "\t<tr><th scope=row>22</th><td>0.02250190 </td><td>0.02930073 </td><td>0.000884736</td><td>0.000342308</td><td>0.000251999</td></tr>\n",
       "\t<tr><th scope=row>23</th><td>0.03934998 </td><td>0.06410000 </td><td>0.001978019</td><td>0.004733783</td><td>0.004661582</td></tr>\n",
       "\t<tr><th scope=row>24</th><td>0.06329180 </td><td>0.07286291 </td><td>0.002511262</td><td>0.004672052</td><td>0.002819729</td></tr>\n",
       "\t<tr><th scope=row>25</th><td>0.03578245 </td><td>0.04340000 </td><td>0.001723822</td><td>0.009723075</td><td>0.003391698</td></tr>\n",
       "\t<tr><th scope=row>26</th><td>0.03743848 </td><td>0.04630000 </td><td>0.002479058</td><td>0.009870000</td><td>0.007242087</td></tr>\n",
       "\t<tr><th scope=row>27</th><td>0.03554108 </td><td>0.04160000 </td><td>0.001855804</td><td>0.006992905</td><td>0.006795033</td></tr>\n",
       "\t<tr><th scope=row>28</th><td>0.03678601 </td><td>0.04950000 </td><td>0.002006455</td><td>0.007616372</td><td>0.006781974</td></tr>\n",
       "\t<tr><th scope=row>29</th><td>0.03241586 </td><td>0.04047839 </td><td>0.001739090</td><td>0.002414804</td><td>0.002131650</td></tr>\n",
       "\t<tr><th scope=row>30</th><td>0.02515162 </td><td>0.03588118 </td><td>0.001160063</td><td>0.008837370</td><td>0.004204941</td></tr>\n",
       "\t<tr><th scope=row>36</th><td>0.02888932 </td><td>0.03256243 </td><td>0.001216990</td><td>0.003754989</td><td>0.001930663</td></tr>\n",
       "\t<tr><th scope=row>37</th><td>0.02934560 </td><td>0.05805981 </td><td>0.001557489</td><td>0.000971621</td><td>0.003129020</td></tr>\n",
       "\t<tr><th scope=row>38</th><td>0.03532611 </td><td>0.03198457 </td><td>0.000828481</td><td>0.002088909</td><td>0.000077000</td></tr>\n",
       "\t<tr><th scope=row>39</th><td>0.05787392 </td><td>0.07091515 </td><td>0.002465199</td><td>0.009619538</td><td>0.005728825</td></tr>\n",
       "\t<tr><th scope=row>40</th><td>0.04181284 </td><td>0.05405884 </td><td>0.001554849</td><td>0.004622432</td><td>0.004314007</td></tr>\n",
       "\t<tr><th scope=row>41</th><td>0.02459146 </td><td>0.03463643 </td><td>0.001125036</td><td>0.010797864</td><td>0.003160323</td></tr>\n",
       "\t<tr><th scope=row>42</th><td>0.01992362 </td><td>0.02577344 </td><td>0.000556201</td><td>0.001510420</td><td>0.000241638</td></tr>\n",
       "\t<tr><th scope=row>43</th><td>0.03292106 </td><td>0.04814536 </td><td>0.001458016</td><td>0.006976528</td><td>0.004215191</td></tr>\n",
       "\t<tr><th scope=row>44</th><td>0.02434441 </td><td>0.03045226 </td><td>0.000526713</td><td>0.001188260</td><td>0.001733673</td></tr>\n",
       "\t<tr><th scope=row>45</th><td>0.02906406 </td><td>0.04660000 </td><td>0.001628535</td><td>0.018885282</td><td>0.008245443</td></tr>\n",
       "\t<tr><th scope=row>51</th><td>0.02391911 </td><td>0.02871472 </td><td>0.000648767</td><td>0.002954901</td><td>0.001363521</td></tr>\n",
       "\t<tr><th scope=row>52</th><td>0.03679544 </td><td>0.03988076 </td><td>0.001108911</td><td>0.000279956</td><td>0.000000000</td></tr>\n",
       "\t<tr><th scope=row>53</th><td>0.05080697 </td><td>0.06074374 </td><td>0.001309832</td><td>0.007286327</td><td>0.008781906</td></tr>\n",
       "\t<tr><th scope=row>54</th><td>0.03468035 </td><td>0.04790000 </td><td>0.001104335</td><td>0.010547371</td><td>0.003041247</td></tr>\n",
       "\t<tr><th scope=row>55</th><td>0.04069596 </td><td>0.04779212 </td><td>0.001387168</td><td>0.011644830</td><td>0.008797624</td></tr>\n",
       "\t<tr><th scope=row>56</th><td>0.02636129 </td><td>0.03512471 </td><td>0.000960567</td><td>0.002644947</td><td>0.002083576</td></tr>\n",
       "\t<tr><th scope=row>57</th><td>0.01321147 </td><td>0.01750000 </td><td>0.001022528</td><td>0.005300000</td><td>0.003009208</td></tr>\n",
       "\t<tr><th scope=row>58</th><td>0.01067874 </td><td>0.01070324 </td><td>0.000320946</td><td>0.002155763</td><td>0.001481021</td></tr>\n",
       "\t<tr><th scope=row>59</th><td>0.01926295 </td><td>0.02965366 </td><td>0.000427911</td><td>0.000850665</td><td>0.000000000</td></tr>\n",
       "\t<tr><th scope=row>60</th><td>0.03304909 </td><td>0.05899792 </td><td>0.001630118</td><td>0.004850861</td><td>0.000641746</td></tr>\n",
       "</tbody>\n",
       "</table>\n"
      ],
      "text/latex": [
       "\\begin{tabular}{r|lllll}\n",
       "  & mass\\_400 & mass\\_500 & mass\\_600 & mass\\_700 & mass\\_800\\\\\n",
       "\\hline\n",
       "\t21 & 0.03013410  & 0.03580000  & 0.001738334 & 0.005715424 & 0.003090477\\\\\n",
       "\t22 & 0.02250190  & 0.02930073  & 0.000884736 & 0.000342308 & 0.000251999\\\\\n",
       "\t23 & 0.03934998  & 0.06410000  & 0.001978019 & 0.004733783 & 0.004661582\\\\\n",
       "\t24 & 0.06329180  & 0.07286291  & 0.002511262 & 0.004672052 & 0.002819729\\\\\n",
       "\t25 & 0.03578245  & 0.04340000  & 0.001723822 & 0.009723075 & 0.003391698\\\\\n",
       "\t26 & 0.03743848  & 0.04630000  & 0.002479058 & 0.009870000 & 0.007242087\\\\\n",
       "\t27 & 0.03554108  & 0.04160000  & 0.001855804 & 0.006992905 & 0.006795033\\\\\n",
       "\t28 & 0.03678601  & 0.04950000  & 0.002006455 & 0.007616372 & 0.006781974\\\\\n",
       "\t29 & 0.03241586  & 0.04047839  & 0.001739090 & 0.002414804 & 0.002131650\\\\\n",
       "\t30 & 0.02515162  & 0.03588118  & 0.001160063 & 0.008837370 & 0.004204941\\\\\n",
       "\t36 & 0.02888932  & 0.03256243  & 0.001216990 & 0.003754989 & 0.001930663\\\\\n",
       "\t37 & 0.02934560  & 0.05805981  & 0.001557489 & 0.000971621 & 0.003129020\\\\\n",
       "\t38 & 0.03532611  & 0.03198457  & 0.000828481 & 0.002088909 & 0.000077000\\\\\n",
       "\t39 & 0.05787392  & 0.07091515  & 0.002465199 & 0.009619538 & 0.005728825\\\\\n",
       "\t40 & 0.04181284  & 0.05405884  & 0.001554849 & 0.004622432 & 0.004314007\\\\\n",
       "\t41 & 0.02459146  & 0.03463643  & 0.001125036 & 0.010797864 & 0.003160323\\\\\n",
       "\t42 & 0.01992362  & 0.02577344  & 0.000556201 & 0.001510420 & 0.000241638\\\\\n",
       "\t43 & 0.03292106  & 0.04814536  & 0.001458016 & 0.006976528 & 0.004215191\\\\\n",
       "\t44 & 0.02434441  & 0.03045226  & 0.000526713 & 0.001188260 & 0.001733673\\\\\n",
       "\t45 & 0.02906406  & 0.04660000  & 0.001628535 & 0.018885282 & 0.008245443\\\\\n",
       "\t51 & 0.02391911  & 0.02871472  & 0.000648767 & 0.002954901 & 0.001363521\\\\\n",
       "\t52 & 0.03679544  & 0.03988076  & 0.001108911 & 0.000279956 & 0.000000000\\\\\n",
       "\t53 & 0.05080697  & 0.06074374  & 0.001309832 & 0.007286327 & 0.008781906\\\\\n",
       "\t54 & 0.03468035  & 0.04790000  & 0.001104335 & 0.010547371 & 0.003041247\\\\\n",
       "\t55 & 0.04069596  & 0.04779212  & 0.001387168 & 0.011644830 & 0.008797624\\\\\n",
       "\t56 & 0.02636129  & 0.03512471  & 0.000960567 & 0.002644947 & 0.002083576\\\\\n",
       "\t57 & 0.01321147  & 0.01750000  & 0.001022528 & 0.005300000 & 0.003009208\\\\\n",
       "\t58 & 0.01067874  & 0.01070324  & 0.000320946 & 0.002155763 & 0.001481021\\\\\n",
       "\t59 & 0.01926295  & 0.02965366  & 0.000427911 & 0.000850665 & 0.000000000\\\\\n",
       "\t60 & 0.03304909  & 0.05899792  & 0.001630118 & 0.004850861 & 0.000641746\\\\\n",
       "\\end{tabular}\n"
      ],
      "text/markdown": [
       "\n",
       "| <!--/--> | mass_400 | mass_500 | mass_600 | mass_700 | mass_800 |\n",
       "|---|---|---|---|---|---|\n",
       "| 21 | 0.03013410  | 0.03580000  | 0.001738334 | 0.005715424 | 0.003090477 |\n",
       "| 22 | 0.02250190  | 0.02930073  | 0.000884736 | 0.000342308 | 0.000251999 |\n",
       "| 23 | 0.03934998  | 0.06410000  | 0.001978019 | 0.004733783 | 0.004661582 |\n",
       "| 24 | 0.06329180  | 0.07286291  | 0.002511262 | 0.004672052 | 0.002819729 |\n",
       "| 25 | 0.03578245  | 0.04340000  | 0.001723822 | 0.009723075 | 0.003391698 |\n",
       "| 26 | 0.03743848  | 0.04630000  | 0.002479058 | 0.009870000 | 0.007242087 |\n",
       "| 27 | 0.03554108  | 0.04160000  | 0.001855804 | 0.006992905 | 0.006795033 |\n",
       "| 28 | 0.03678601  | 0.04950000  | 0.002006455 | 0.007616372 | 0.006781974 |\n",
       "| 29 | 0.03241586  | 0.04047839  | 0.001739090 | 0.002414804 | 0.002131650 |\n",
       "| 30 | 0.02515162  | 0.03588118  | 0.001160063 | 0.008837370 | 0.004204941 |\n",
       "| 36 | 0.02888932  | 0.03256243  | 0.001216990 | 0.003754989 | 0.001930663 |\n",
       "| 37 | 0.02934560  | 0.05805981  | 0.001557489 | 0.000971621 | 0.003129020 |\n",
       "| 38 | 0.03532611  | 0.03198457  | 0.000828481 | 0.002088909 | 0.000077000 |\n",
       "| 39 | 0.05787392  | 0.07091515  | 0.002465199 | 0.009619538 | 0.005728825 |\n",
       "| 40 | 0.04181284  | 0.05405884  | 0.001554849 | 0.004622432 | 0.004314007 |\n",
       "| 41 | 0.02459146  | 0.03463643  | 0.001125036 | 0.010797864 | 0.003160323 |\n",
       "| 42 | 0.01992362  | 0.02577344  | 0.000556201 | 0.001510420 | 0.000241638 |\n",
       "| 43 | 0.03292106  | 0.04814536  | 0.001458016 | 0.006976528 | 0.004215191 |\n",
       "| 44 | 0.02434441  | 0.03045226  | 0.000526713 | 0.001188260 | 0.001733673 |\n",
       "| 45 | 0.02906406  | 0.04660000  | 0.001628535 | 0.018885282 | 0.008245443 |\n",
       "| 51 | 0.02391911  | 0.02871472  | 0.000648767 | 0.002954901 | 0.001363521 |\n",
       "| 52 | 0.03679544  | 0.03988076  | 0.001108911 | 0.000279956 | 0.000000000 |\n",
       "| 53 | 0.05080697  | 0.06074374  | 0.001309832 | 0.007286327 | 0.008781906 |\n",
       "| 54 | 0.03468035  | 0.04790000  | 0.001104335 | 0.010547371 | 0.003041247 |\n",
       "| 55 | 0.04069596  | 0.04779212  | 0.001387168 | 0.011644830 | 0.008797624 |\n",
       "| 56 | 0.02636129  | 0.03512471  | 0.000960567 | 0.002644947 | 0.002083576 |\n",
       "| 57 | 0.01321147  | 0.01750000  | 0.001022528 | 0.005300000 | 0.003009208 |\n",
       "| 58 | 0.01067874  | 0.01070324  | 0.000320946 | 0.002155763 | 0.001481021 |\n",
       "| 59 | 0.01926295  | 0.02965366  | 0.000427911 | 0.000850665 | 0.000000000 |\n",
       "| 60 | 0.03304909  | 0.05899792  | 0.001630118 | 0.004850861 | 0.000641746 |\n",
       "\n"
      ],
      "text/plain": [
       "   mass_400   mass_500   mass_600    mass_700    mass_800   \n",
       "21 0.03013410 0.03580000 0.001738334 0.005715424 0.003090477\n",
       "22 0.02250190 0.02930073 0.000884736 0.000342308 0.000251999\n",
       "23 0.03934998 0.06410000 0.001978019 0.004733783 0.004661582\n",
       "24 0.06329180 0.07286291 0.002511262 0.004672052 0.002819729\n",
       "25 0.03578245 0.04340000 0.001723822 0.009723075 0.003391698\n",
       "26 0.03743848 0.04630000 0.002479058 0.009870000 0.007242087\n",
       "27 0.03554108 0.04160000 0.001855804 0.006992905 0.006795033\n",
       "28 0.03678601 0.04950000 0.002006455 0.007616372 0.006781974\n",
       "29 0.03241586 0.04047839 0.001739090 0.002414804 0.002131650\n",
       "30 0.02515162 0.03588118 0.001160063 0.008837370 0.004204941\n",
       "36 0.02888932 0.03256243 0.001216990 0.003754989 0.001930663\n",
       "37 0.02934560 0.05805981 0.001557489 0.000971621 0.003129020\n",
       "38 0.03532611 0.03198457 0.000828481 0.002088909 0.000077000\n",
       "39 0.05787392 0.07091515 0.002465199 0.009619538 0.005728825\n",
       "40 0.04181284 0.05405884 0.001554849 0.004622432 0.004314007\n",
       "41 0.02459146 0.03463643 0.001125036 0.010797864 0.003160323\n",
       "42 0.01992362 0.02577344 0.000556201 0.001510420 0.000241638\n",
       "43 0.03292106 0.04814536 0.001458016 0.006976528 0.004215191\n",
       "44 0.02434441 0.03045226 0.000526713 0.001188260 0.001733673\n",
       "45 0.02906406 0.04660000 0.001628535 0.018885282 0.008245443\n",
       "51 0.02391911 0.02871472 0.000648767 0.002954901 0.001363521\n",
       "52 0.03679544 0.03988076 0.001108911 0.000279956 0.000000000\n",
       "53 0.05080697 0.06074374 0.001309832 0.007286327 0.008781906\n",
       "54 0.03468035 0.04790000 0.001104335 0.010547371 0.003041247\n",
       "55 0.04069596 0.04779212 0.001387168 0.011644830 0.008797624\n",
       "56 0.02636129 0.03512471 0.000960567 0.002644947 0.002083576\n",
       "57 0.01321147 0.01750000 0.001022528 0.005300000 0.003009208\n",
       "58 0.01067874 0.01070324 0.000320946 0.002155763 0.001481021\n",
       "59 0.01926295 0.02965366 0.000427911 0.000850665 0.000000000\n",
       "60 0.03304909 0.05899792 0.001630118 0.004850861 0.000641746"
      ]
     },
     "metadata": {},
     "output_type": "display_data"
    },
    {
     "data": {
      "text/html": [
       "<table>\n",
       "<thead><tr><th></th><th scope=col>filename</th><th scope=col>MouseID</th><th scope=col>Treatmentgroup</th><th scope=col>DPI</th><th scope=col>organ</th><th scope=col>well_position</th><th scope=col>plate</th><th scope=col>mass_400</th><th scope=col>mass_500</th><th scope=col>mass_600</th><th scope=col>mass_700</th><th scope=col>mass_800</th></tr></thead>\n",
       "<tbody>\n",
       "\t<tr><th scope=row>21</th><td>X611_Group9_142dpi_LV_bottom_181_G_B9_P132.mzXML </td><td>611                                              </td><td>combo                                            </td><td>142dpi                                           </td><td>LV_bottom                                        </td><td>B9                                               </td><td>P132                                             </td><td>0.03013410                                       </td><td>0.03580000                                       </td><td>0.001738334                                      </td><td>0.005715424                                      </td><td>0.003090477                                      </td></tr>\n",
       "\t<tr><th scope=row>22</th><td>X612_Group9_142dpi_LV_bottom_182_G_B10_P132.mzXML</td><td>612                                              </td><td>combo                                            </td><td>142dpi                                           </td><td>LV_bottom                                        </td><td>B10                                              </td><td>P132                                             </td><td>0.02250190                                       </td><td>0.02930073                                       </td><td>0.000884736                                      </td><td>0.000342308                                      </td><td>0.000251999                                      </td></tr>\n",
       "\t<tr><th scope=row>23</th><td>X613_Group9_142dpi_LV_bottom_183_G_B11_P132.mzXML</td><td>613                                              </td><td>combo                                            </td><td>142dpi                                           </td><td>LV_bottom                                        </td><td>B11                                              </td><td>P132                                             </td><td>0.03934998                                       </td><td>0.06410000                                       </td><td>0.001978019                                      </td><td>0.004733783                                      </td><td>0.004661582                                      </td></tr>\n",
       "\t<tr><th scope=row>24</th><td>X614_Group9_142dpi_LV_bottom_184_G_B12_P132.mzXML</td><td>614                                              </td><td>combo                                            </td><td>142dpi                                           </td><td>LV_bottom                                        </td><td>B12                                              </td><td>P132                                             </td><td>0.06329180                                       </td><td>0.07286291                                       </td><td>0.002511262                                      </td><td>0.004672052                                      </td><td>0.002819729                                      </td></tr>\n",
       "\t<tr><th scope=row>25</th><td>X615_Group9_142dpi_LV_bottom_185_G_C1_P132.mzXML </td><td>615                                              </td><td>combo                                            </td><td>142dpi                                           </td><td>LV_bottom                                        </td><td>C1                                               </td><td>P132                                             </td><td>0.03578245                                       </td><td>0.04340000                                       </td><td>0.001723822                                      </td><td>0.009723075                                      </td><td>0.003391698                                      </td></tr>\n",
       "\t<tr><th scope=row>26</th><td>X631_Group15_142dpi_LV_bottom_191_G_C7_P132.mzXML</td><td>631                                              </td><td>BNZ                                              </td><td>142dpi                                           </td><td>LV_bottom                                        </td><td>C7                                               </td><td>P132                                             </td><td>0.03743848                                       </td><td>0.04630000                                       </td><td>0.002479058                                      </td><td>0.009870000                                      </td><td>0.007242087                                      </td></tr>\n",
       "</tbody>\n",
       "</table>\n"
      ],
      "text/latex": [
       "\\begin{tabular}{r|llllllllllll}\n",
       "  & filename & MouseID & Treatmentgroup & DPI & organ & well\\_position & plate & mass\\_400 & mass\\_500 & mass\\_600 & mass\\_700 & mass\\_800\\\\\n",
       "\\hline\n",
       "\t21 & X611\\_Group9\\_142dpi\\_LV\\_bottom\\_181\\_G\\_B9\\_P132.mzXML  & 611                                                               & combo                                                             & 142dpi                                                            & LV\\_bottom                                                       & B9                                                                & P132                                                              & 0.03013410                                                        & 0.03580000                                                        & 0.001738334                                                       & 0.005715424                                                       & 0.003090477                                                      \\\\\n",
       "\t22 & X612\\_Group9\\_142dpi\\_LV\\_bottom\\_182\\_G\\_B10\\_P132.mzXML & 612                                                               & combo                                                             & 142dpi                                                            & LV\\_bottom                                                       & B10                                                               & P132                                                              & 0.02250190                                                        & 0.02930073                                                        & 0.000884736                                                       & 0.000342308                                                       & 0.000251999                                                      \\\\\n",
       "\t23 & X613\\_Group9\\_142dpi\\_LV\\_bottom\\_183\\_G\\_B11\\_P132.mzXML & 613                                                               & combo                                                             & 142dpi                                                            & LV\\_bottom                                                       & B11                                                               & P132                                                              & 0.03934998                                                        & 0.06410000                                                        & 0.001978019                                                       & 0.004733783                                                       & 0.004661582                                                      \\\\\n",
       "\t24 & X614\\_Group9\\_142dpi\\_LV\\_bottom\\_184\\_G\\_B12\\_P132.mzXML & 614                                                               & combo                                                             & 142dpi                                                            & LV\\_bottom                                                       & B12                                                               & P132                                                              & 0.06329180                                                        & 0.07286291                                                        & 0.002511262                                                       & 0.004672052                                                       & 0.002819729                                                      \\\\\n",
       "\t25 & X615\\_Group9\\_142dpi\\_LV\\_bottom\\_185\\_G\\_C1\\_P132.mzXML  & 615                                                               & combo                                                             & 142dpi                                                            & LV\\_bottom                                                       & C1                                                                & P132                                                              & 0.03578245                                                        & 0.04340000                                                        & 0.001723822                                                       & 0.009723075                                                       & 0.003391698                                                      \\\\\n",
       "\t26 & X631\\_Group15\\_142dpi\\_LV\\_bottom\\_191\\_G\\_C7\\_P132.mzXML & 631                                                               & BNZ                                                               & 142dpi                                                            & LV\\_bottom                                                       & C7                                                                & P132                                                              & 0.03743848                                                        & 0.04630000                                                        & 0.002479058                                                       & 0.009870000                                                       & 0.007242087                                                      \\\\\n",
       "\\end{tabular}\n"
      ],
      "text/markdown": [
       "\n",
       "| <!--/--> | filename | MouseID | Treatmentgroup | DPI | organ | well_position | plate | mass_400 | mass_500 | mass_600 | mass_700 | mass_800 |\n",
       "|---|---|---|---|---|---|---|---|---|---|---|---|---|\n",
       "| 21 | X611_Group9_142dpi_LV_bottom_181_G_B9_P132.mzXML  | 611                                               | combo                                             | 142dpi                                            | LV_bottom                                         | B9                                                | P132                                              | 0.03013410                                        | 0.03580000                                        | 0.001738334                                       | 0.005715424                                       | 0.003090477                                       |\n",
       "| 22 | X612_Group9_142dpi_LV_bottom_182_G_B10_P132.mzXML | 612                                               | combo                                             | 142dpi                                            | LV_bottom                                         | B10                                               | P132                                              | 0.02250190                                        | 0.02930073                                        | 0.000884736                                       | 0.000342308                                       | 0.000251999                                       |\n",
       "| 23 | X613_Group9_142dpi_LV_bottom_183_G_B11_P132.mzXML | 613                                               | combo                                             | 142dpi                                            | LV_bottom                                         | B11                                               | P132                                              | 0.03934998                                        | 0.06410000                                        | 0.001978019                                       | 0.004733783                                       | 0.004661582                                       |\n",
       "| 24 | X614_Group9_142dpi_LV_bottom_184_G_B12_P132.mzXML | 614                                               | combo                                             | 142dpi                                            | LV_bottom                                         | B12                                               | P132                                              | 0.06329180                                        | 0.07286291                                        | 0.002511262                                       | 0.004672052                                       | 0.002819729                                       |\n",
       "| 25 | X615_Group9_142dpi_LV_bottom_185_G_C1_P132.mzXML  | 615                                               | combo                                             | 142dpi                                            | LV_bottom                                         | C1                                                | P132                                              | 0.03578245                                        | 0.04340000                                        | 0.001723822                                       | 0.009723075                                       | 0.003391698                                       |\n",
       "| 26 | X631_Group15_142dpi_LV_bottom_191_G_C7_P132.mzXML | 631                                               | BNZ                                               | 142dpi                                            | LV_bottom                                         | C7                                                | P132                                              | 0.03743848                                        | 0.04630000                                        | 0.002479058                                       | 0.009870000                                       | 0.007242087                                       |\n",
       "\n"
      ],
      "text/plain": [
       "   filename                                          MouseID Treatmentgroup\n",
       "21 X611_Group9_142dpi_LV_bottom_181_G_B9_P132.mzXML  611     combo         \n",
       "22 X612_Group9_142dpi_LV_bottom_182_G_B10_P132.mzXML 612     combo         \n",
       "23 X613_Group9_142dpi_LV_bottom_183_G_B11_P132.mzXML 613     combo         \n",
       "24 X614_Group9_142dpi_LV_bottom_184_G_B12_P132.mzXML 614     combo         \n",
       "25 X615_Group9_142dpi_LV_bottom_185_G_C1_P132.mzXML  615     combo         \n",
       "26 X631_Group15_142dpi_LV_bottom_191_G_C7_P132.mzXML 631     BNZ           \n",
       "   DPI    organ     well_position plate mass_400   mass_500   mass_600   \n",
       "21 142dpi LV_bottom B9            P132  0.03013410 0.03580000 0.001738334\n",
       "22 142dpi LV_bottom B10           P132  0.02250190 0.02930073 0.000884736\n",
       "23 142dpi LV_bottom B11           P132  0.03934998 0.06410000 0.001978019\n",
       "24 142dpi LV_bottom B12           P132  0.06329180 0.07286291 0.002511262\n",
       "25 142dpi LV_bottom C1            P132  0.03578245 0.04340000 0.001723822\n",
       "26 142dpi LV_bottom C7            P132  0.03743848 0.04630000 0.002479058\n",
       "   mass_700    mass_800   \n",
       "21 0.005715424 0.003090477\n",
       "22 0.000342308 0.000251999\n",
       "23 0.004733783 0.004661582\n",
       "24 0.004672052 0.002819729\n",
       "25 0.009723075 0.003391698\n",
       "26 0.009870000 0.007242087"
      ]
     },
     "metadata": {},
     "output_type": "display_data"
    },
    {
     "data": {
      "text/html": [
       "<ol class=list-inline>\n",
       "\t<li>30</li>\n",
       "\t<li>12</li>\n",
       "</ol>\n"
      ],
      "text/latex": [
       "\\begin{enumerate*}\n",
       "\\item 30\n",
       "\\item 12\n",
       "\\end{enumerate*}\n"
      ],
      "text/markdown": [
       "1. 30\n",
       "2. 12\n",
       "\n",
       "\n"
      ],
      "text/plain": [
       "[1] 30 12"
      ]
     },
     "metadata": {},
     "output_type": "display_data"
    },
    {
     "data": {
      "text/html": [
       "<ol class=list-inline>\n",
       "\t<li>30</li>\n",
       "\t<li>5</li>\n",
       "</ol>\n"
      ],
      "text/latex": [
       "\\begin{enumerate*}\n",
       "\\item 30\n",
       "\\item 5\n",
       "\\end{enumerate*}\n"
      ],
      "text/markdown": [
       "1. 30\n",
       "2. 5\n",
       "\n",
       "\n"
      ],
      "text/plain": [
       "[1] 30  5"
      ]
     },
     "metadata": {},
     "output_type": "display_data"
    },
    {
     "data": {
      "text/html": [
       "<ol class=list-inline>\n",
       "\t<li>30</li>\n",
       "\t<li>5</li>\n",
       "</ol>\n"
      ],
      "text/latex": [
       "\\begin{enumerate*}\n",
       "\\item 30\n",
       "\\item 5\n",
       "\\end{enumerate*}\n"
      ],
      "text/markdown": [
       "1. 30\n",
       "2. 5\n",
       "\n",
       "\n"
      ],
      "text/plain": [
       "[1] 30  5"
      ]
     },
     "metadata": {},
     "output_type": "display_data"
    },
    {
     "data": {
      "text/html": [
       "<ol class=list-inline>\n",
       "\t<li>30</li>\n",
       "\t<li>12</li>\n",
       "</ol>\n"
      ],
      "text/latex": [
       "\\begin{enumerate*}\n",
       "\\item 30\n",
       "\\item 12\n",
       "\\end{enumerate*}\n"
      ],
      "text/markdown": [
       "1. 30\n",
       "2. 12\n",
       "\n",
       "\n"
      ],
      "text/plain": [
       "[1] 30 12"
      ]
     },
     "metadata": {},
     "output_type": "display_data"
    }
   ],
   "source": [
    "noMeta<-features_pos[,8:12]\n",
    "head(noMeta)\n",
    "not_zero<-which(colSums(noMeta) != 0)\n",
    "head(not_zero)\n",
    "nonzero <- noMeta[, not_zero]\n",
    "nonzero\n",
    "nonzero_wMeta<-cbind(features_pos[,1:7], nonzero)\n",
    "head(nonzero_wMeta)\n",
    "dim(features_pos)\n",
    "dim(noMeta)\n",
    "dim(nonzero)\n",
    "dim(nonzero_wMeta)"
   ]
  },
  {
   "cell_type": "code",
   "execution_count": 5,
   "metadata": {
    "scrolled": true
   },
   "outputs": [
    {
     "name": "stderr",
     "output_type": "stream",
     "text": [
      "Warning message in wilcox.test.default(x = c(0.007242087, 0.006795033, 0.006781974, :\n",
      "\"cannot compute exact p-value with ties\""
     ]
    },
    {
     "data": {
      "text/html": [
       "<ol class=list-inline>\n",
       "\t<li>0.00864180912639655</li>\n",
       "\t<li>0.0975257598239064</li>\n",
       "\t<li>0.486364763954452</li>\n",
       "\t<li>0.712965124764759</li>\n",
       "\t<li>0.950384431537606</li>\n",
       "</ol>\n"
      ],
      "text/latex": [
       "\\begin{enumerate*}\n",
       "\\item 0.00864180912639655\n",
       "\\item 0.0975257598239064\n",
       "\\item 0.486364763954452\n",
       "\\item 0.712965124764759\n",
       "\\item 0.950384431537606\n",
       "\\end{enumerate*}\n"
      ],
      "text/markdown": [
       "1. 0.00864180912639655\n",
       "2. 0.0975257598239064\n",
       "3. 0.486364763954452\n",
       "4. 0.712965124764759\n",
       "5. 0.950384431537606\n",
       "\n",
       "\n"
      ],
      "text/plain": [
       "[1] 0.008641809 0.097525760 0.486364764 0.712965125 0.950384432"
      ]
     },
     "metadata": {},
     "output_type": "display_data"
    },
    {
     "data": {
      "text/html": [
       "<ol class=list-inline>\n",
       "\t<li>0.0432090456319828</li>\n",
       "\t<li>0.243814399559766</li>\n",
       "\t<li>0.810607939924087</li>\n",
       "\t<li>0.891206405955949</li>\n",
       "\t<li>0.950384431537606</li>\n",
       "</ol>\n"
      ],
      "text/latex": [
       "\\begin{enumerate*}\n",
       "\\item 0.0432090456319828\n",
       "\\item 0.243814399559766\n",
       "\\item 0.810607939924087\n",
       "\\item 0.891206405955949\n",
       "\\item 0.950384431537606\n",
       "\\end{enumerate*}\n"
      ],
      "text/markdown": [
       "1. 0.0432090456319828\n",
       "2. 0.243814399559766\n",
       "3. 0.810607939924087\n",
       "4. 0.891206405955949\n",
       "5. 0.950384431537606\n",
       "\n",
       "\n"
      ],
      "text/plain": [
       "[1] 0.04320905 0.24381440 0.81060794 0.89120641 0.95038443"
      ]
     },
     "metadata": {},
     "output_type": "display_data"
    }
   ],
   "source": [
    "pval<-c()\n",
    "\n",
    "for (i in 8:ncol(nonzero_wMeta)) \n",
    "pval<-c(pval,wilcox.test(nonzero_wMeta[,i]~nonzero_wMeta$Treatmentgroup)$p.value)\n",
    "head(pval)\n",
    "pAdj <- p.adjust(pval, method = c(\"fdr\"), n=length(pval)) \n",
    "head(pAdj) \n",
    "\n"
   ]
  },
  {
   "cell_type": "code",
   "execution_count": 6,
   "metadata": {
    "scrolled": true
   },
   "outputs": [
    {
     "data": {
      "text/html": [
       "5"
      ],
      "text/latex": [
       "5"
      ],
      "text/markdown": [
       "5"
      ],
      "text/plain": [
       "[1] 5"
      ]
     },
     "metadata": {},
     "output_type": "display_data"
    }
   ],
   "source": [
    "length(pval)"
   ]
  },
  {
   "cell_type": "code",
   "execution_count": 7,
   "metadata": {
    "scrolled": true
   },
   "outputs": [
    {
     "data": {
      "text/html": [
       "5"
      ],
      "text/latex": [
       "5"
      ],
      "text/markdown": [
       "5"
      ],
      "text/plain": [
       "[1] 5"
      ]
     },
     "metadata": {},
     "output_type": "display_data"
    }
   ],
   "source": [
    "length(pAdj)"
   ]
  },
  {
   "cell_type": "code",
   "execution_count": 8,
   "metadata": {},
   "outputs": [
    {
     "data": {
      "text/html": [
       "<ol class=list-inline>\n",
       "\t<li>2</li>\n",
       "\t<li>5</li>\n",
       "</ol>\n"
      ],
      "text/latex": [
       "\\begin{enumerate*}\n",
       "\\item 2\n",
       "\\item 5\n",
       "\\end{enumerate*}\n"
      ],
      "text/markdown": [
       "1. 2\n",
       "2. 5\n",
       "\n",
       "\n"
      ],
      "text/plain": [
       "[1] 2 5"
      ]
     },
     "metadata": {},
     "output_type": "display_data"
    },
    {
     "data": {
      "text/html": [
       "<table>\n",
       "<thead><tr><th></th><th scope=col>mass_400</th><th scope=col>mass_500</th><th scope=col>mass_600</th></tr></thead>\n",
       "<tbody>\n",
       "\t<tr><th scope=row>BNZ</th><td>0.02671608 </td><td>0.03675644 </td><td>0.001259803</td></tr>\n",
       "\t<tr><th scope=row>combo</th><td>0.03808039 </td><td>0.04787172 </td><td>0.001467880</td></tr>\n",
       "</tbody>\n",
       "</table>\n"
      ],
      "text/latex": [
       "\\begin{tabular}{r|lll}\n",
       "  & mass\\_400 & mass\\_500 & mass\\_600\\\\\n",
       "\\hline\n",
       "\tBNZ & 0.02671608  & 0.03675644  & 0.001259803\\\\\n",
       "\tcombo & 0.03808039  & 0.04787172  & 0.001467880\\\\\n",
       "\\end{tabular}\n"
      ],
      "text/markdown": [
       "\n",
       "| <!--/--> | mass_400 | mass_500 | mass_600 |\n",
       "|---|---|---|---|\n",
       "| BNZ | 0.02671608  | 0.03675644  | 0.001259803 |\n",
       "| combo | 0.03808039  | 0.04787172  | 0.001467880 |\n",
       "\n"
      ],
      "text/plain": [
       "      mass_400   mass_500   mass_600   \n",
       "BNZ   0.02671608 0.03675644 0.001259803\n",
       "combo 0.03808039 0.04787172 0.001467880"
      ]
     },
     "metadata": {},
     "output_type": "display_data"
    },
    {
     "data": {
      "text/html": [
       "<dl class=dl-horizontal>\n",
       "\t<dt>mass_400</dt>\n",
       "\t\t<dd>0.701570579336174</dd>\n",
       "\t<dt>mass_500</dt>\n",
       "\t\t<dd>0.76781113846019</dd>\n",
       "\t<dt>mass_600</dt>\n",
       "\t\t<dd>0.858246639120356</dd>\n",
       "\t<dt>mass_700</dt>\n",
       "\t\t<dd>1.15115122162658</dd>\n",
       "\t<dt>mass_800</dt>\n",
       "\t\t<dd>1.01144830744865</dd>\n",
       "</dl>\n"
      ],
      "text/latex": [
       "\\begin{description*}\n",
       "\\item[mass\\textbackslash{}\\_400] 0.701570579336174\n",
       "\\item[mass\\textbackslash{}\\_500] 0.76781113846019\n",
       "\\item[mass\\textbackslash{}\\_600] 0.858246639120356\n",
       "\\item[mass\\textbackslash{}\\_700] 1.15115122162658\n",
       "\\item[mass\\textbackslash{}\\_800] 1.01144830744865\n",
       "\\end{description*}\n"
      ],
      "text/markdown": [
       "mass_400\n",
       ":   0.701570579336174mass_500\n",
       ":   0.76781113846019mass_600\n",
       ":   0.858246639120356mass_700\n",
       ":   1.15115122162658mass_800\n",
       ":   1.01144830744865\n",
       "\n"
      ],
      "text/plain": [
       " mass_400  mass_500  mass_600  mass_700  mass_800 \n",
       "0.7015706 0.7678111 0.8582466 1.1511512 1.0114483 "
      ]
     },
     "metadata": {},
     "output_type": "display_data"
    },
    {
     "data": {
      "text/html": [
       "<ol class=list-inline>\n",
       "\t<li>'numeric'</li>\n",
       "\t<li>'vector'</li>\n",
       "</ol>\n"
      ],
      "text/latex": [
       "\\begin{enumerate*}\n",
       "\\item 'numeric'\n",
       "\\item 'vector'\n",
       "\\end{enumerate*}\n"
      ],
      "text/markdown": [
       "1. 'numeric'\n",
       "2. 'vector'\n",
       "\n",
       "\n"
      ],
      "text/plain": [
       "[1] \"numeric\" \"vector\" "
      ]
     },
     "metadata": {},
     "output_type": "display_data"
    }
   ],
   "source": [
    "avg<- apply(nonzero_wMeta[,8:ncol(nonzero_wMeta)], 2, function(x) tapply(x, nonzero_wMeta$Treatmentgroup, function(x) mean(x))) \n",
    "\n",
    "dim(avg) \n",
    "\n",
    "avg[,1:3]\n",
    "\n",
    "fch <- apply(avg, 2, function(x) x[1]/x[2])\n",
    "\n",
    "head(fch) \n",
    "is(fch)"
   ]
  },
  {
   "cell_type": "code",
   "execution_count": 9,
   "metadata": {
    "scrolled": true
   },
   "outputs": [
    {
     "data": {
      "text/html": [
       "<dl class=dl-horizontal>\n",
       "\t<dt>mass_400</dt>\n",
       "\t\t<dd>0.701570579336174</dd>\n",
       "\t<dt>mass_500</dt>\n",
       "\t\t<dd>0.76781113846019</dd>\n",
       "\t<dt>mass_600</dt>\n",
       "\t\t<dd>0.858246639120356</dd>\n",
       "\t<dt>mass_700</dt>\n",
       "\t\t<dd>1.15115122162658</dd>\n",
       "\t<dt>mass_800</dt>\n",
       "\t\t<dd>1.01144830744865</dd>\n",
       "</dl>\n"
      ],
      "text/latex": [
       "\\begin{description*}\n",
       "\\item[mass\\textbackslash{}\\_400] 0.701570579336174\n",
       "\\item[mass\\textbackslash{}\\_500] 0.76781113846019\n",
       "\\item[mass\\textbackslash{}\\_600] 0.858246639120356\n",
       "\\item[mass\\textbackslash{}\\_700] 1.15115122162658\n",
       "\\item[mass\\textbackslash{}\\_800] 1.01144830744865\n",
       "\\end{description*}\n"
      ],
      "text/markdown": [
       "mass_400\n",
       ":   0.701570579336174mass_500\n",
       ":   0.76781113846019mass_600\n",
       ":   0.858246639120356mass_700\n",
       ":   1.15115122162658mass_800\n",
       ":   1.01144830744865\n",
       "\n"
      ],
      "text/plain": [
       " mass_400  mass_500  mass_600  mass_700  mass_800 \n",
       "0.7015706 0.7678111 0.8582466 1.1511512 1.0114483 "
      ]
     },
     "metadata": {},
     "output_type": "display_data"
    }
   ],
   "source": [
    "fch"
   ]
  },
  {
   "cell_type": "code",
   "execution_count": 10,
   "metadata": {
    "scrolled": false
   },
   "outputs": [],
   "source": [
    "df <- data.frame(fch,pval, pAdj)\n",
    "write.csv(df, \"PC-treat-LVB-wilcox-combo-BNZ.csv\")"
   ]
  },
  {
   "cell_type": "code",
   "execution_count": null,
   "metadata": {},
   "outputs": [],
   "source": []
  },
  {
   "cell_type": "code",
   "execution_count": null,
   "metadata": {},
   "outputs": [],
   "source": []
  },
  {
   "cell_type": "code",
   "execution_count": null,
   "metadata": {},
   "outputs": [],
   "source": []
  },
  {
   "cell_type": "code",
   "execution_count": null,
   "metadata": {},
   "outputs": [],
   "source": []
  },
  {
   "cell_type": "code",
   "execution_count": null,
   "metadata": {},
   "outputs": [],
   "source": []
  },
  {
   "cell_type": "code",
   "execution_count": null,
   "metadata": {},
   "outputs": [],
   "source": []
  }
 ],
 "metadata": {
  "kernelspec": {
   "display_name": "R",
   "language": "R",
   "name": "ir"
  },
  "language_info": {
   "codemirror_mode": "r",
   "file_extension": ".r",
   "mimetype": "text/x-r-source",
   "name": "R",
   "pygments_lexer": "r",
   "version": "3.6.1"
  }
 },
 "nbformat": 4,
 "nbformat_minor": 2
}
