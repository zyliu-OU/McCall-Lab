{
 "cells": [
  {
   "cell_type": "code",
   "execution_count": 1,
   "metadata": {},
   "outputs": [],
   "source": [
    "a <- read.csv(\"03172021-PC-treatment-LVB-M-F.csv\")"
   ]
  },
  {
   "cell_type": "code",
   "execution_count": 2,
   "metadata": {},
   "outputs": [
    {
     "data": {
      "text/html": [
       "<table>\n",
       "<thead><tr><th scope=col>filename</th><th scope=col>MouseID</th><th scope=col>Treatmentgroup</th><th scope=col>DPI</th><th scope=col>organ</th><th scope=col>well_position</th><th scope=col>plate</th><th scope=col>mass_400</th><th scope=col>mass_500</th><th scope=col>mass_600</th><th scope=col>mass_700</th><th scope=col>mass_800</th></tr></thead>\n",
       "<tbody>\n",
       "\t<tr><td>X511_Group1C_142dpi_LV_bottom_161_G_A1_P132.mzXML</td><td>511                                              </td><td>naive                                            </td><td>142dpi                                           </td><td>LV_bottom                                        </td><td>A1                                               </td><td>P132                                             </td><td>0.04382789                                       </td><td>0.07997773                                       </td><td>0.002684053                                      </td><td>0.003825973                                      </td><td>0.000280747                                      </td></tr>\n",
       "\t<tr><td>X512_Group1C_142dpi_LV_bottom_162_G_A2_P132.mzXML</td><td>512                                              </td><td>naive                                            </td><td>142dpi                                           </td><td>LV_bottom                                        </td><td>A2                                               </td><td>P132                                             </td><td>0.03908150                                       </td><td>0.06240000                                       </td><td>0.002998300                                      </td><td>0.003632408                                      </td><td>0.001471252                                      </td></tr>\n",
       "\t<tr><td>X513_Group1C_142dpi_LV_bottom_163_G_A3_P132.mzXML</td><td>513                                              </td><td>naive                                            </td><td>142dpi                                           </td><td>LV_bottom                                        </td><td>A3                                               </td><td>P132                                             </td><td>0.03267072                                       </td><td>0.04620000                                       </td><td>0.001726274                                      </td><td>0.004220656                                      </td><td>0.002569278                                      </td></tr>\n",
       "\t<tr><td>X514_Group1C_142dpi_LV_bottom_164_G_A4_P132.mzXML</td><td>514                                              </td><td>naive                                            </td><td>142dpi                                           </td><td>LV_bottom                                        </td><td>A4                                               </td><td>P132                                             </td><td>0.04172188                                       </td><td>0.05520000                                       </td><td>0.001976908                                      </td><td>0.003830678                                      </td><td>0.000883582                                      </td></tr>\n",
       "\t<tr><td>X515_Group1C_142dpi_LV_bottom_165_G_A5_P132.mzXML</td><td>515                                              </td><td>naive                                            </td><td>142dpi                                           </td><td>LV_bottom                                        </td><td>A5                                               </td><td>P132                                             </td><td>0.03505978                                       </td><td>0.05858027                                       </td><td>0.002110626                                      </td><td>0.002231458                                      </td><td>0.001315984                                      </td></tr>\n",
       "\t<tr><td>X531_Group1C_142dpi_LV_bottom_166_G_A6_P132.mzXML</td><td>531                                              </td><td>naive                                            </td><td>142dpi                                           </td><td>LV_bottom                                        </td><td>A6                                               </td><td>P132                                             </td><td>0.03271828                                       </td><td>0.03970000                                       </td><td>0.001690467                                      </td><td>0.006136600                                      </td><td>0.002555819                                      </td></tr>\n",
       "</tbody>\n",
       "</table>\n"
      ],
      "text/latex": [
       "\\begin{tabular}{r|llllllllllll}\n",
       " filename & MouseID & Treatmentgroup & DPI & organ & well\\_position & plate & mass\\_400 & mass\\_500 & mass\\_600 & mass\\_700 & mass\\_800\\\\\n",
       "\\hline\n",
       "\t X511\\_Group1C\\_142dpi\\_LV\\_bottom\\_161\\_G\\_A1\\_P132.mzXML & 511                                                               & naive                                                             & 142dpi                                                            & LV\\_bottom                                                       & A1                                                                & P132                                                              & 0.04382789                                                        & 0.07997773                                                        & 0.002684053                                                       & 0.003825973                                                       & 0.000280747                                                      \\\\\n",
       "\t X512\\_Group1C\\_142dpi\\_LV\\_bottom\\_162\\_G\\_A2\\_P132.mzXML & 512                                                               & naive                                                             & 142dpi                                                            & LV\\_bottom                                                       & A2                                                                & P132                                                              & 0.03908150                                                        & 0.06240000                                                        & 0.002998300                                                       & 0.003632408                                                       & 0.001471252                                                      \\\\\n",
       "\t X513\\_Group1C\\_142dpi\\_LV\\_bottom\\_163\\_G\\_A3\\_P132.mzXML & 513                                                               & naive                                                             & 142dpi                                                            & LV\\_bottom                                                       & A3                                                                & P132                                                              & 0.03267072                                                        & 0.04620000                                                        & 0.001726274                                                       & 0.004220656                                                       & 0.002569278                                                      \\\\\n",
       "\t X514\\_Group1C\\_142dpi\\_LV\\_bottom\\_164\\_G\\_A4\\_P132.mzXML & 514                                                               & naive                                                             & 142dpi                                                            & LV\\_bottom                                                       & A4                                                                & P132                                                              & 0.04172188                                                        & 0.05520000                                                        & 0.001976908                                                       & 0.003830678                                                       & 0.000883582                                                      \\\\\n",
       "\t X515\\_Group1C\\_142dpi\\_LV\\_bottom\\_165\\_G\\_A5\\_P132.mzXML & 515                                                               & naive                                                             & 142dpi                                                            & LV\\_bottom                                                       & A5                                                                & P132                                                              & 0.03505978                                                        & 0.05858027                                                        & 0.002110626                                                       & 0.002231458                                                       & 0.001315984                                                      \\\\\n",
       "\t X531\\_Group1C\\_142dpi\\_LV\\_bottom\\_166\\_G\\_A6\\_P132.mzXML & 531                                                               & naive                                                             & 142dpi                                                            & LV\\_bottom                                                       & A6                                                                & P132                                                              & 0.03271828                                                        & 0.03970000                                                        & 0.001690467                                                       & 0.006136600                                                       & 0.002555819                                                      \\\\\n",
       "\\end{tabular}\n"
      ],
      "text/markdown": [
       "\n",
       "| filename | MouseID | Treatmentgroup | DPI | organ | well_position | plate | mass_400 | mass_500 | mass_600 | mass_700 | mass_800 |\n",
       "|---|---|---|---|---|---|---|---|---|---|---|---|\n",
       "| X511_Group1C_142dpi_LV_bottom_161_G_A1_P132.mzXML | 511                                               | naive                                             | 142dpi                                            | LV_bottom                                         | A1                                                | P132                                              | 0.04382789                                        | 0.07997773                                        | 0.002684053                                       | 0.003825973                                       | 0.000280747                                       |\n",
       "| X512_Group1C_142dpi_LV_bottom_162_G_A2_P132.mzXML | 512                                               | naive                                             | 142dpi                                            | LV_bottom                                         | A2                                                | P132                                              | 0.03908150                                        | 0.06240000                                        | 0.002998300                                       | 0.003632408                                       | 0.001471252                                       |\n",
       "| X513_Group1C_142dpi_LV_bottom_163_G_A3_P132.mzXML | 513                                               | naive                                             | 142dpi                                            | LV_bottom                                         | A3                                                | P132                                              | 0.03267072                                        | 0.04620000                                        | 0.001726274                                       | 0.004220656                                       | 0.002569278                                       |\n",
       "| X514_Group1C_142dpi_LV_bottom_164_G_A4_P132.mzXML | 514                                               | naive                                             | 142dpi                                            | LV_bottom                                         | A4                                                | P132                                              | 0.04172188                                        | 0.05520000                                        | 0.001976908                                       | 0.003830678                                       | 0.000883582                                       |\n",
       "| X515_Group1C_142dpi_LV_bottom_165_G_A5_P132.mzXML | 515                                               | naive                                             | 142dpi                                            | LV_bottom                                         | A5                                                | P132                                              | 0.03505978                                        | 0.05858027                                        | 0.002110626                                       | 0.002231458                                       | 0.001315984                                       |\n",
       "| X531_Group1C_142dpi_LV_bottom_166_G_A6_P132.mzXML | 531                                               | naive                                             | 142dpi                                            | LV_bottom                                         | A6                                                | P132                                              | 0.03271828                                        | 0.03970000                                        | 0.001690467                                       | 0.006136600                                       | 0.002555819                                       |\n",
       "\n"
      ],
      "text/plain": [
       "  filename                                          MouseID Treatmentgroup\n",
       "1 X511_Group1C_142dpi_LV_bottom_161_G_A1_P132.mzXML 511     naive         \n",
       "2 X512_Group1C_142dpi_LV_bottom_162_G_A2_P132.mzXML 512     naive         \n",
       "3 X513_Group1C_142dpi_LV_bottom_163_G_A3_P132.mzXML 513     naive         \n",
       "4 X514_Group1C_142dpi_LV_bottom_164_G_A4_P132.mzXML 514     naive         \n",
       "5 X515_Group1C_142dpi_LV_bottom_165_G_A5_P132.mzXML 515     naive         \n",
       "6 X531_Group1C_142dpi_LV_bottom_166_G_A6_P132.mzXML 531     naive         \n",
       "  DPI    organ     well_position plate mass_400   mass_500   mass_600   \n",
       "1 142dpi LV_bottom A1            P132  0.04382789 0.07997773 0.002684053\n",
       "2 142dpi LV_bottom A2            P132  0.03908150 0.06240000 0.002998300\n",
       "3 142dpi LV_bottom A3            P132  0.03267072 0.04620000 0.001726274\n",
       "4 142dpi LV_bottom A4            P132  0.04172188 0.05520000 0.001976908\n",
       "5 142dpi LV_bottom A5            P132  0.03505978 0.05858027 0.002110626\n",
       "6 142dpi LV_bottom A6            P132  0.03271828 0.03970000 0.001690467\n",
       "  mass_700    mass_800   \n",
       "1 0.003825973 0.000280747\n",
       "2 0.003632408 0.001471252\n",
       "3 0.004220656 0.002569278\n",
       "4 0.003830678 0.000883582\n",
       "5 0.002231458 0.001315984\n",
       "6 0.006136600 0.002555819"
      ]
     },
     "metadata": {},
     "output_type": "display_data"
    },
    {
     "data": {
      "text/html": [
       "<ol class=list-inline>\n",
       "\t<li>60</li>\n",
       "\t<li>12</li>\n",
       "</ol>\n"
      ],
      "text/latex": [
       "\\begin{enumerate*}\n",
       "\\item 60\n",
       "\\item 12\n",
       "\\end{enumerate*}\n"
      ],
      "text/markdown": [
       "1. 60\n",
       "2. 12\n",
       "\n",
       "\n"
      ],
      "text/plain": [
       "[1] 60 12"
      ]
     },
     "metadata": {},
     "output_type": "display_data"
    }
   ],
   "source": [
    "head(a)\n",
    "dim(a)"
   ]
  },
  {
   "cell_type": "code",
   "execution_count": 3,
   "metadata": {},
   "outputs": [
    {
     "data": {
      "text/html": [
       "<table>\n",
       "<thead><tr><th></th><th scope=col>filename</th><th scope=col>MouseID</th><th scope=col>Treatmentgroup</th><th scope=col>DPI</th><th scope=col>organ</th><th scope=col>well_position</th><th scope=col>plate</th><th scope=col>mass_400</th><th scope=col>mass_500</th><th scope=col>mass_600</th><th scope=col>mass_700</th><th scope=col>mass_800</th></tr></thead>\n",
       "<tbody>\n",
       "\t<tr><th scope=row>16</th><td>X581_Group3E_142dpi_LV_bottom_176_G_B4_P132.mzXML</td><td>581                                              </td><td>infected                                         </td><td>142dpi                                           </td><td>LV_bottom                                        </td><td>B4                                               </td><td>P132                                             </td><td>0.06492387                                       </td><td>0.04990000                                       </td><td>0.002081265                                      </td><td>0.006480000                                      </td><td>0.003550676                                      </td></tr>\n",
       "\t<tr><th scope=row>17</th><td>X582_Group3E_142dpi_LV_bottom_177_G_B5_P132.mzXML</td><td>582                                              </td><td>infected                                         </td><td>142dpi                                           </td><td>LV_bottom                                        </td><td>B5                                               </td><td>P132                                             </td><td>0.03695652                                       </td><td>0.06233980                                       </td><td>0.001795235                                      </td><td>0.011181530                                      </td><td>0.011186446                                      </td></tr>\n",
       "\t<tr><th scope=row>18</th><td>X583_Group3E_142dpi_LV_bottom_178_G_B6_P132.mzXML</td><td>583                                              </td><td>infected                                         </td><td>142dpi                                           </td><td>LV_bottom                                        </td><td>B6                                               </td><td>P132                                             </td><td>0.03606943                                       </td><td>0.05150000                                       </td><td>0.001668329                                      </td><td>0.011848941                                      </td><td>0.005145605                                      </td></tr>\n",
       "\t<tr><th scope=row>19</th><td>X584_Group3E_142dpi_LV_bottom_179_G_B7_P132.mzXML</td><td>584                                              </td><td>infected                                         </td><td>142dpi                                           </td><td>LV_bottom                                        </td><td>B7                                               </td><td>P132                                             </td><td>0.03079909                                       </td><td>0.04567134                                       </td><td>0.001573917                                      </td><td>0.003792443                                      </td><td>0.003028223                                      </td></tr>\n",
       "\t<tr><th scope=row>20</th><td>X585_Group3E_142dpi_LV_bottom_180_G_B8_P132.mzXML</td><td>585                                              </td><td>infected                                         </td><td>142dpi                                           </td><td>LV_bottom                                        </td><td>B8                                               </td><td>P132                                             </td><td>0.03190038                                       </td><td>0.05207845                                       </td><td>0.001750879                                      </td><td>0.005605542                                      </td><td>0.004331390                                      </td></tr>\n",
       "\t<tr><th scope=row>26</th><td>X631_Group15_142dpi_LV_bottom_191_G_C7_P132.mzXML</td><td>631                                              </td><td>BNZ                                              </td><td>142dpi                                           </td><td>LV_bottom                                        </td><td>C7                                               </td><td>P132                                             </td><td>0.03743848                                       </td><td>0.04630000                                       </td><td>0.002479058                                      </td><td>0.009870000                                      </td><td>0.007242087                                      </td></tr>\n",
       "</tbody>\n",
       "</table>\n"
      ],
      "text/latex": [
       "\\begin{tabular}{r|llllllllllll}\n",
       "  & filename & MouseID & Treatmentgroup & DPI & organ & well\\_position & plate & mass\\_400 & mass\\_500 & mass\\_600 & mass\\_700 & mass\\_800\\\\\n",
       "\\hline\n",
       "\t16 & X581\\_Group3E\\_142dpi\\_LV\\_bottom\\_176\\_G\\_B4\\_P132.mzXML & 581                                                               & infected                                                          & 142dpi                                                            & LV\\_bottom                                                       & B4                                                                & P132                                                              & 0.06492387                                                        & 0.04990000                                                        & 0.002081265                                                       & 0.006480000                                                       & 0.003550676                                                      \\\\\n",
       "\t17 & X582\\_Group3E\\_142dpi\\_LV\\_bottom\\_177\\_G\\_B5\\_P132.mzXML & 582                                                               & infected                                                          & 142dpi                                                            & LV\\_bottom                                                       & B5                                                                & P132                                                              & 0.03695652                                                        & 0.06233980                                                        & 0.001795235                                                       & 0.011181530                                                       & 0.011186446                                                      \\\\\n",
       "\t18 & X583\\_Group3E\\_142dpi\\_LV\\_bottom\\_178\\_G\\_B6\\_P132.mzXML & 583                                                               & infected                                                          & 142dpi                                                            & LV\\_bottom                                                       & B6                                                                & P132                                                              & 0.03606943                                                        & 0.05150000                                                        & 0.001668329                                                       & 0.011848941                                                       & 0.005145605                                                      \\\\\n",
       "\t19 & X584\\_Group3E\\_142dpi\\_LV\\_bottom\\_179\\_G\\_B7\\_P132.mzXML & 584                                                               & infected                                                          & 142dpi                                                            & LV\\_bottom                                                       & B7                                                                & P132                                                              & 0.03079909                                                        & 0.04567134                                                        & 0.001573917                                                       & 0.003792443                                                       & 0.003028223                                                      \\\\\n",
       "\t20 & X585\\_Group3E\\_142dpi\\_LV\\_bottom\\_180\\_G\\_B8\\_P132.mzXML & 585                                                               & infected                                                          & 142dpi                                                            & LV\\_bottom                                                       & B8                                                                & P132                                                              & 0.03190038                                                        & 0.05207845                                                        & 0.001750879                                                       & 0.005605542                                                       & 0.004331390                                                      \\\\\n",
       "\t26 & X631\\_Group15\\_142dpi\\_LV\\_bottom\\_191\\_G\\_C7\\_P132.mzXML & 631                                                               & BNZ                                                               & 142dpi                                                            & LV\\_bottom                                                       & C7                                                                & P132                                                              & 0.03743848                                                        & 0.04630000                                                        & 0.002479058                                                       & 0.009870000                                                       & 0.007242087                                                      \\\\\n",
       "\\end{tabular}\n"
      ],
      "text/markdown": [
       "\n",
       "| <!--/--> | filename | MouseID | Treatmentgroup | DPI | organ | well_position | plate | mass_400 | mass_500 | mass_600 | mass_700 | mass_800 |\n",
       "|---|---|---|---|---|---|---|---|---|---|---|---|---|\n",
       "| 16 | X581_Group3E_142dpi_LV_bottom_176_G_B4_P132.mzXML | 581                                               | infected                                          | 142dpi                                            | LV_bottom                                         | B4                                                | P132                                              | 0.06492387                                        | 0.04990000                                        | 0.002081265                                       | 0.006480000                                       | 0.003550676                                       |\n",
       "| 17 | X582_Group3E_142dpi_LV_bottom_177_G_B5_P132.mzXML | 582                                               | infected                                          | 142dpi                                            | LV_bottom                                         | B5                                                | P132                                              | 0.03695652                                        | 0.06233980                                        | 0.001795235                                       | 0.011181530                                       | 0.011186446                                       |\n",
       "| 18 | X583_Group3E_142dpi_LV_bottom_178_G_B6_P132.mzXML | 583                                               | infected                                          | 142dpi                                            | LV_bottom                                         | B6                                                | P132                                              | 0.03606943                                        | 0.05150000                                        | 0.001668329                                       | 0.011848941                                       | 0.005145605                                       |\n",
       "| 19 | X584_Group3E_142dpi_LV_bottom_179_G_B7_P132.mzXML | 584                                               | infected                                          | 142dpi                                            | LV_bottom                                         | B7                                                | P132                                              | 0.03079909                                        | 0.04567134                                        | 0.001573917                                       | 0.003792443                                       | 0.003028223                                       |\n",
       "| 20 | X585_Group3E_142dpi_LV_bottom_180_G_B8_P132.mzXML | 585                                               | infected                                          | 142dpi                                            | LV_bottom                                         | B8                                                | P132                                              | 0.03190038                                        | 0.05207845                                        | 0.001750879                                       | 0.005605542                                       | 0.004331390                                       |\n",
       "| 26 | X631_Group15_142dpi_LV_bottom_191_G_C7_P132.mzXML | 631                                               | BNZ                                               | 142dpi                                            | LV_bottom                                         | C7                                                | P132                                              | 0.03743848                                        | 0.04630000                                        | 0.002479058                                       | 0.009870000                                       | 0.007242087                                       |\n",
       "\n"
      ],
      "text/plain": [
       "   filename                                          MouseID Treatmentgroup\n",
       "16 X581_Group3E_142dpi_LV_bottom_176_G_B4_P132.mzXML 581     infected      \n",
       "17 X582_Group3E_142dpi_LV_bottom_177_G_B5_P132.mzXML 582     infected      \n",
       "18 X583_Group3E_142dpi_LV_bottom_178_G_B6_P132.mzXML 583     infected      \n",
       "19 X584_Group3E_142dpi_LV_bottom_179_G_B7_P132.mzXML 584     infected      \n",
       "20 X585_Group3E_142dpi_LV_bottom_180_G_B8_P132.mzXML 585     infected      \n",
       "26 X631_Group15_142dpi_LV_bottom_191_G_C7_P132.mzXML 631     BNZ           \n",
       "   DPI    organ     well_position plate mass_400   mass_500   mass_600   \n",
       "16 142dpi LV_bottom B4            P132  0.06492387 0.04990000 0.002081265\n",
       "17 142dpi LV_bottom B5            P132  0.03695652 0.06233980 0.001795235\n",
       "18 142dpi LV_bottom B6            P132  0.03606943 0.05150000 0.001668329\n",
       "19 142dpi LV_bottom B7            P132  0.03079909 0.04567134 0.001573917\n",
       "20 142dpi LV_bottom B8            P132  0.03190038 0.05207845 0.001750879\n",
       "26 142dpi LV_bottom C7            P132  0.03743848 0.04630000 0.002479058\n",
       "   mass_700    mass_800   \n",
       "16 0.006480000 0.003550676\n",
       "17 0.011181530 0.011186446\n",
       "18 0.011848941 0.005145605\n",
       "19 0.003792443 0.003028223\n",
       "20 0.005605542 0.004331390\n",
       "26 0.009870000 0.007242087"
      ]
     },
     "metadata": {},
     "output_type": "display_data"
    },
    {
     "data": {
      "text/html": [
       "<ol class=list-inline>\n",
       "\t<li>30</li>\n",
       "\t<li>12</li>\n",
       "</ol>\n"
      ],
      "text/latex": [
       "\\begin{enumerate*}\n",
       "\\item 30\n",
       "\\item 12\n",
       "\\end{enumerate*}\n"
      ],
      "text/markdown": [
       "1. 30\n",
       "2. 12\n",
       "\n",
       "\n"
      ],
      "text/plain": [
       "[1] 30 12"
      ]
     },
     "metadata": {},
     "output_type": "display_data"
    }
   ],
   "source": [
    "features_pos<-droplevels(subset(a, a$Treatmentgroup==c(\"infected\")|a$Treatmentgroup==c(\"BNZ\")))\n",
    "head(features_pos)\n",
    "dim(features_pos)"
   ]
  },
  {
   "cell_type": "code",
   "execution_count": 4,
   "metadata": {
    "scrolled": false
   },
   "outputs": [
    {
     "data": {
      "text/html": [
       "<table>\n",
       "<thead><tr><th></th><th scope=col>mass_400</th><th scope=col>mass_500</th><th scope=col>mass_600</th><th scope=col>mass_700</th><th scope=col>mass_800</th></tr></thead>\n",
       "<tbody>\n",
       "\t<tr><th scope=row>16</th><td>0.06492387 </td><td>0.04990000 </td><td>0.002081265</td><td>0.006480000</td><td>0.003550676</td></tr>\n",
       "\t<tr><th scope=row>17</th><td>0.03695652 </td><td>0.06233980 </td><td>0.001795235</td><td>0.011181530</td><td>0.011186446</td></tr>\n",
       "\t<tr><th scope=row>18</th><td>0.03606943 </td><td>0.05150000 </td><td>0.001668329</td><td>0.011848941</td><td>0.005145605</td></tr>\n",
       "\t<tr><th scope=row>19</th><td>0.03079909 </td><td>0.04567134 </td><td>0.001573917</td><td>0.003792443</td><td>0.003028223</td></tr>\n",
       "\t<tr><th scope=row>20</th><td>0.03190038 </td><td>0.05207845 </td><td>0.001750879</td><td>0.005605542</td><td>0.004331390</td></tr>\n",
       "\t<tr><th scope=row>26</th><td>0.03743848 </td><td>0.04630000 </td><td>0.002479058</td><td>0.009870000</td><td>0.007242087</td></tr>\n",
       "</tbody>\n",
       "</table>\n"
      ],
      "text/latex": [
       "\\begin{tabular}{r|lllll}\n",
       "  & mass\\_400 & mass\\_500 & mass\\_600 & mass\\_700 & mass\\_800\\\\\n",
       "\\hline\n",
       "\t16 & 0.06492387  & 0.04990000  & 0.002081265 & 0.006480000 & 0.003550676\\\\\n",
       "\t17 & 0.03695652  & 0.06233980  & 0.001795235 & 0.011181530 & 0.011186446\\\\\n",
       "\t18 & 0.03606943  & 0.05150000  & 0.001668329 & 0.011848941 & 0.005145605\\\\\n",
       "\t19 & 0.03079909  & 0.04567134  & 0.001573917 & 0.003792443 & 0.003028223\\\\\n",
       "\t20 & 0.03190038  & 0.05207845  & 0.001750879 & 0.005605542 & 0.004331390\\\\\n",
       "\t26 & 0.03743848  & 0.04630000  & 0.002479058 & 0.009870000 & 0.007242087\\\\\n",
       "\\end{tabular}\n"
      ],
      "text/markdown": [
       "\n",
       "| <!--/--> | mass_400 | mass_500 | mass_600 | mass_700 | mass_800 |\n",
       "|---|---|---|---|---|---|\n",
       "| 16 | 0.06492387  | 0.04990000  | 0.002081265 | 0.006480000 | 0.003550676 |\n",
       "| 17 | 0.03695652  | 0.06233980  | 0.001795235 | 0.011181530 | 0.011186446 |\n",
       "| 18 | 0.03606943  | 0.05150000  | 0.001668329 | 0.011848941 | 0.005145605 |\n",
       "| 19 | 0.03079909  | 0.04567134  | 0.001573917 | 0.003792443 | 0.003028223 |\n",
       "| 20 | 0.03190038  | 0.05207845  | 0.001750879 | 0.005605542 | 0.004331390 |\n",
       "| 26 | 0.03743848  | 0.04630000  | 0.002479058 | 0.009870000 | 0.007242087 |\n",
       "\n"
      ],
      "text/plain": [
       "   mass_400   mass_500   mass_600    mass_700    mass_800   \n",
       "16 0.06492387 0.04990000 0.002081265 0.006480000 0.003550676\n",
       "17 0.03695652 0.06233980 0.001795235 0.011181530 0.011186446\n",
       "18 0.03606943 0.05150000 0.001668329 0.011848941 0.005145605\n",
       "19 0.03079909 0.04567134 0.001573917 0.003792443 0.003028223\n",
       "20 0.03190038 0.05207845 0.001750879 0.005605542 0.004331390\n",
       "26 0.03743848 0.04630000 0.002479058 0.009870000 0.007242087"
      ]
     },
     "metadata": {},
     "output_type": "display_data"
    },
    {
     "data": {
      "text/html": [
       "<dl class=dl-horizontal>\n",
       "\t<dt>mass_400</dt>\n",
       "\t\t<dd>1</dd>\n",
       "\t<dt>mass_500</dt>\n",
       "\t\t<dd>2</dd>\n",
       "\t<dt>mass_600</dt>\n",
       "\t\t<dd>3</dd>\n",
       "\t<dt>mass_700</dt>\n",
       "\t\t<dd>4</dd>\n",
       "\t<dt>mass_800</dt>\n",
       "\t\t<dd>5</dd>\n",
       "</dl>\n"
      ],
      "text/latex": [
       "\\begin{description*}\n",
       "\\item[mass\\textbackslash{}\\_400] 1\n",
       "\\item[mass\\textbackslash{}\\_500] 2\n",
       "\\item[mass\\textbackslash{}\\_600] 3\n",
       "\\item[mass\\textbackslash{}\\_700] 4\n",
       "\\item[mass\\textbackslash{}\\_800] 5\n",
       "\\end{description*}\n"
      ],
      "text/markdown": [
       "mass_400\n",
       ":   1mass_500\n",
       ":   2mass_600\n",
       ":   3mass_700\n",
       ":   4mass_800\n",
       ":   5\n",
       "\n"
      ],
      "text/plain": [
       "mass_400 mass_500 mass_600 mass_700 mass_800 \n",
       "       1        2        3        4        5 "
      ]
     },
     "metadata": {},
     "output_type": "display_data"
    },
    {
     "data": {
      "text/html": [
       "<table>\n",
       "<thead><tr><th></th><th scope=col>mass_400</th><th scope=col>mass_500</th><th scope=col>mass_600</th><th scope=col>mass_700</th><th scope=col>mass_800</th></tr></thead>\n",
       "<tbody>\n",
       "\t<tr><th scope=row>16</th><td>0.06492387 </td><td>0.04990000 </td><td>0.002081265</td><td>0.006480000</td><td>0.003550676</td></tr>\n",
       "\t<tr><th scope=row>17</th><td>0.03695652 </td><td>0.06233980 </td><td>0.001795235</td><td>0.011181530</td><td>0.011186446</td></tr>\n",
       "\t<tr><th scope=row>18</th><td>0.03606943 </td><td>0.05150000 </td><td>0.001668329</td><td>0.011848941</td><td>0.005145605</td></tr>\n",
       "\t<tr><th scope=row>19</th><td>0.03079909 </td><td>0.04567134 </td><td>0.001573917</td><td>0.003792443</td><td>0.003028223</td></tr>\n",
       "\t<tr><th scope=row>20</th><td>0.03190038 </td><td>0.05207845 </td><td>0.001750879</td><td>0.005605542</td><td>0.004331390</td></tr>\n",
       "\t<tr><th scope=row>26</th><td>0.03743848 </td><td>0.04630000 </td><td>0.002479058</td><td>0.009870000</td><td>0.007242087</td></tr>\n",
       "\t<tr><th scope=row>27</th><td>0.03554108 </td><td>0.04160000 </td><td>0.001855804</td><td>0.006992905</td><td>0.006795033</td></tr>\n",
       "\t<tr><th scope=row>28</th><td>0.03678601 </td><td>0.04950000 </td><td>0.002006455</td><td>0.007616372</td><td>0.006781974</td></tr>\n",
       "\t<tr><th scope=row>29</th><td>0.03241586 </td><td>0.04047839 </td><td>0.001739090</td><td>0.002414804</td><td>0.002131650</td></tr>\n",
       "\t<tr><th scope=row>30</th><td>0.02515162 </td><td>0.03588118 </td><td>0.001160063</td><td>0.008837370</td><td>0.004204941</td></tr>\n",
       "\t<tr><th scope=row>31</th><td>0.03855542 </td><td>0.05790084 </td><td>0.001962230</td><td>0.005031554</td><td>0.009107090</td></tr>\n",
       "\t<tr><th scope=row>32</th><td>0.02662595 </td><td>0.04719623 </td><td>0.001176466</td><td>0.005823454</td><td>0.003236471</td></tr>\n",
       "\t<tr><th scope=row>33</th><td>0.03630949 </td><td>0.03839176 </td><td>0.001361896</td><td>0.004820534</td><td>0.002002947</td></tr>\n",
       "\t<tr><th scope=row>34</th><td>0.03215234 </td><td>0.04214292 </td><td>0.001482590</td><td>0.006072011</td><td>0.003178160</td></tr>\n",
       "\t<tr><th scope=row>35</th><td>0.04624580 </td><td>0.04421636 </td><td>0.001810607</td><td>0.004516918</td><td>0.003264402</td></tr>\n",
       "\t<tr><th scope=row>41</th><td>0.02459146 </td><td>0.03463643 </td><td>0.001125036</td><td>0.010797864</td><td>0.003160323</td></tr>\n",
       "\t<tr><th scope=row>42</th><td>0.01992362 </td><td>0.02577344 </td><td>0.000556201</td><td>0.001510420</td><td>0.000241638</td></tr>\n",
       "\t<tr><th scope=row>43</th><td>0.03292106 </td><td>0.04814536 </td><td>0.001458016</td><td>0.006976528</td><td>0.004215191</td></tr>\n",
       "\t<tr><th scope=row>44</th><td>0.02434441 </td><td>0.03045226 </td><td>0.000526713</td><td>0.001188260</td><td>0.001733673</td></tr>\n",
       "\t<tr><th scope=row>45</th><td>0.02906406 </td><td>0.04660000 </td><td>0.001628535</td><td>0.018885282</td><td>0.008245443</td></tr>\n",
       "\t<tr><th scope=row>46</th><td>0.04261410 </td><td>0.04887115 </td><td>0.001868185</td><td>0.002973236</td><td>0.001972893</td></tr>\n",
       "\t<tr><th scope=row>47</th><td>0.02056699 </td><td>0.02700585 </td><td>0.000453372</td><td>0.003795169</td><td>0.004026340</td></tr>\n",
       "\t<tr><th scope=row>48</th><td>0.03318064 </td><td>0.03756626 </td><td>0.001379367</td><td>0.002327283</td><td>0.002510670</td></tr>\n",
       "\t<tr><th scope=row>49</th><td>0.02314307 </td><td>0.02976162 </td><td>0.000706995</td><td>0.003708450</td><td>0.003977562</td></tr>\n",
       "\t<tr><th scope=row>50</th><td>0.02717071 </td><td>0.02864066 </td><td>0.001022373</td><td>0.001074855</td><td>0.000866407</td></tr>\n",
       "\t<tr><th scope=row>56</th><td>0.02636129 </td><td>0.03512471 </td><td>0.000960567</td><td>0.002644947</td><td>0.002083576</td></tr>\n",
       "\t<tr><th scope=row>57</th><td>0.01321147 </td><td>0.01750000 </td><td>0.001022528</td><td>0.005300000</td><td>0.003009208</td></tr>\n",
       "\t<tr><th scope=row>58</th><td>0.01067874 </td><td>0.01070324 </td><td>0.000320946</td><td>0.002155763</td><td>0.001481021</td></tr>\n",
       "\t<tr><th scope=row>59</th><td>0.01926295 </td><td>0.02965366 </td><td>0.000427911</td><td>0.000850665</td><td>0.000000000</td></tr>\n",
       "\t<tr><th scope=row>60</th><td>0.03304909 </td><td>0.05899792 </td><td>0.001630118</td><td>0.004850861</td><td>0.000641746</td></tr>\n",
       "</tbody>\n",
       "</table>\n"
      ],
      "text/latex": [
       "\\begin{tabular}{r|lllll}\n",
       "  & mass\\_400 & mass\\_500 & mass\\_600 & mass\\_700 & mass\\_800\\\\\n",
       "\\hline\n",
       "\t16 & 0.06492387  & 0.04990000  & 0.002081265 & 0.006480000 & 0.003550676\\\\\n",
       "\t17 & 0.03695652  & 0.06233980  & 0.001795235 & 0.011181530 & 0.011186446\\\\\n",
       "\t18 & 0.03606943  & 0.05150000  & 0.001668329 & 0.011848941 & 0.005145605\\\\\n",
       "\t19 & 0.03079909  & 0.04567134  & 0.001573917 & 0.003792443 & 0.003028223\\\\\n",
       "\t20 & 0.03190038  & 0.05207845  & 0.001750879 & 0.005605542 & 0.004331390\\\\\n",
       "\t26 & 0.03743848  & 0.04630000  & 0.002479058 & 0.009870000 & 0.007242087\\\\\n",
       "\t27 & 0.03554108  & 0.04160000  & 0.001855804 & 0.006992905 & 0.006795033\\\\\n",
       "\t28 & 0.03678601  & 0.04950000  & 0.002006455 & 0.007616372 & 0.006781974\\\\\n",
       "\t29 & 0.03241586  & 0.04047839  & 0.001739090 & 0.002414804 & 0.002131650\\\\\n",
       "\t30 & 0.02515162  & 0.03588118  & 0.001160063 & 0.008837370 & 0.004204941\\\\\n",
       "\t31 & 0.03855542  & 0.05790084  & 0.001962230 & 0.005031554 & 0.009107090\\\\\n",
       "\t32 & 0.02662595  & 0.04719623  & 0.001176466 & 0.005823454 & 0.003236471\\\\\n",
       "\t33 & 0.03630949  & 0.03839176  & 0.001361896 & 0.004820534 & 0.002002947\\\\\n",
       "\t34 & 0.03215234  & 0.04214292  & 0.001482590 & 0.006072011 & 0.003178160\\\\\n",
       "\t35 & 0.04624580  & 0.04421636  & 0.001810607 & 0.004516918 & 0.003264402\\\\\n",
       "\t41 & 0.02459146  & 0.03463643  & 0.001125036 & 0.010797864 & 0.003160323\\\\\n",
       "\t42 & 0.01992362  & 0.02577344  & 0.000556201 & 0.001510420 & 0.000241638\\\\\n",
       "\t43 & 0.03292106  & 0.04814536  & 0.001458016 & 0.006976528 & 0.004215191\\\\\n",
       "\t44 & 0.02434441  & 0.03045226  & 0.000526713 & 0.001188260 & 0.001733673\\\\\n",
       "\t45 & 0.02906406  & 0.04660000  & 0.001628535 & 0.018885282 & 0.008245443\\\\\n",
       "\t46 & 0.04261410  & 0.04887115  & 0.001868185 & 0.002973236 & 0.001972893\\\\\n",
       "\t47 & 0.02056699  & 0.02700585  & 0.000453372 & 0.003795169 & 0.004026340\\\\\n",
       "\t48 & 0.03318064  & 0.03756626  & 0.001379367 & 0.002327283 & 0.002510670\\\\\n",
       "\t49 & 0.02314307  & 0.02976162  & 0.000706995 & 0.003708450 & 0.003977562\\\\\n",
       "\t50 & 0.02717071  & 0.02864066  & 0.001022373 & 0.001074855 & 0.000866407\\\\\n",
       "\t56 & 0.02636129  & 0.03512471  & 0.000960567 & 0.002644947 & 0.002083576\\\\\n",
       "\t57 & 0.01321147  & 0.01750000  & 0.001022528 & 0.005300000 & 0.003009208\\\\\n",
       "\t58 & 0.01067874  & 0.01070324  & 0.000320946 & 0.002155763 & 0.001481021\\\\\n",
       "\t59 & 0.01926295  & 0.02965366  & 0.000427911 & 0.000850665 & 0.000000000\\\\\n",
       "\t60 & 0.03304909  & 0.05899792  & 0.001630118 & 0.004850861 & 0.000641746\\\\\n",
       "\\end{tabular}\n"
      ],
      "text/markdown": [
       "\n",
       "| <!--/--> | mass_400 | mass_500 | mass_600 | mass_700 | mass_800 |\n",
       "|---|---|---|---|---|---|\n",
       "| 16 | 0.06492387  | 0.04990000  | 0.002081265 | 0.006480000 | 0.003550676 |\n",
       "| 17 | 0.03695652  | 0.06233980  | 0.001795235 | 0.011181530 | 0.011186446 |\n",
       "| 18 | 0.03606943  | 0.05150000  | 0.001668329 | 0.011848941 | 0.005145605 |\n",
       "| 19 | 0.03079909  | 0.04567134  | 0.001573917 | 0.003792443 | 0.003028223 |\n",
       "| 20 | 0.03190038  | 0.05207845  | 0.001750879 | 0.005605542 | 0.004331390 |\n",
       "| 26 | 0.03743848  | 0.04630000  | 0.002479058 | 0.009870000 | 0.007242087 |\n",
       "| 27 | 0.03554108  | 0.04160000  | 0.001855804 | 0.006992905 | 0.006795033 |\n",
       "| 28 | 0.03678601  | 0.04950000  | 0.002006455 | 0.007616372 | 0.006781974 |\n",
       "| 29 | 0.03241586  | 0.04047839  | 0.001739090 | 0.002414804 | 0.002131650 |\n",
       "| 30 | 0.02515162  | 0.03588118  | 0.001160063 | 0.008837370 | 0.004204941 |\n",
       "| 31 | 0.03855542  | 0.05790084  | 0.001962230 | 0.005031554 | 0.009107090 |\n",
       "| 32 | 0.02662595  | 0.04719623  | 0.001176466 | 0.005823454 | 0.003236471 |\n",
       "| 33 | 0.03630949  | 0.03839176  | 0.001361896 | 0.004820534 | 0.002002947 |\n",
       "| 34 | 0.03215234  | 0.04214292  | 0.001482590 | 0.006072011 | 0.003178160 |\n",
       "| 35 | 0.04624580  | 0.04421636  | 0.001810607 | 0.004516918 | 0.003264402 |\n",
       "| 41 | 0.02459146  | 0.03463643  | 0.001125036 | 0.010797864 | 0.003160323 |\n",
       "| 42 | 0.01992362  | 0.02577344  | 0.000556201 | 0.001510420 | 0.000241638 |\n",
       "| 43 | 0.03292106  | 0.04814536  | 0.001458016 | 0.006976528 | 0.004215191 |\n",
       "| 44 | 0.02434441  | 0.03045226  | 0.000526713 | 0.001188260 | 0.001733673 |\n",
       "| 45 | 0.02906406  | 0.04660000  | 0.001628535 | 0.018885282 | 0.008245443 |\n",
       "| 46 | 0.04261410  | 0.04887115  | 0.001868185 | 0.002973236 | 0.001972893 |\n",
       "| 47 | 0.02056699  | 0.02700585  | 0.000453372 | 0.003795169 | 0.004026340 |\n",
       "| 48 | 0.03318064  | 0.03756626  | 0.001379367 | 0.002327283 | 0.002510670 |\n",
       "| 49 | 0.02314307  | 0.02976162  | 0.000706995 | 0.003708450 | 0.003977562 |\n",
       "| 50 | 0.02717071  | 0.02864066  | 0.001022373 | 0.001074855 | 0.000866407 |\n",
       "| 56 | 0.02636129  | 0.03512471  | 0.000960567 | 0.002644947 | 0.002083576 |\n",
       "| 57 | 0.01321147  | 0.01750000  | 0.001022528 | 0.005300000 | 0.003009208 |\n",
       "| 58 | 0.01067874  | 0.01070324  | 0.000320946 | 0.002155763 | 0.001481021 |\n",
       "| 59 | 0.01926295  | 0.02965366  | 0.000427911 | 0.000850665 | 0.000000000 |\n",
       "| 60 | 0.03304909  | 0.05899792  | 0.001630118 | 0.004850861 | 0.000641746 |\n",
       "\n"
      ],
      "text/plain": [
       "   mass_400   mass_500   mass_600    mass_700    mass_800   \n",
       "16 0.06492387 0.04990000 0.002081265 0.006480000 0.003550676\n",
       "17 0.03695652 0.06233980 0.001795235 0.011181530 0.011186446\n",
       "18 0.03606943 0.05150000 0.001668329 0.011848941 0.005145605\n",
       "19 0.03079909 0.04567134 0.001573917 0.003792443 0.003028223\n",
       "20 0.03190038 0.05207845 0.001750879 0.005605542 0.004331390\n",
       "26 0.03743848 0.04630000 0.002479058 0.009870000 0.007242087\n",
       "27 0.03554108 0.04160000 0.001855804 0.006992905 0.006795033\n",
       "28 0.03678601 0.04950000 0.002006455 0.007616372 0.006781974\n",
       "29 0.03241586 0.04047839 0.001739090 0.002414804 0.002131650\n",
       "30 0.02515162 0.03588118 0.001160063 0.008837370 0.004204941\n",
       "31 0.03855542 0.05790084 0.001962230 0.005031554 0.009107090\n",
       "32 0.02662595 0.04719623 0.001176466 0.005823454 0.003236471\n",
       "33 0.03630949 0.03839176 0.001361896 0.004820534 0.002002947\n",
       "34 0.03215234 0.04214292 0.001482590 0.006072011 0.003178160\n",
       "35 0.04624580 0.04421636 0.001810607 0.004516918 0.003264402\n",
       "41 0.02459146 0.03463643 0.001125036 0.010797864 0.003160323\n",
       "42 0.01992362 0.02577344 0.000556201 0.001510420 0.000241638\n",
       "43 0.03292106 0.04814536 0.001458016 0.006976528 0.004215191\n",
       "44 0.02434441 0.03045226 0.000526713 0.001188260 0.001733673\n",
       "45 0.02906406 0.04660000 0.001628535 0.018885282 0.008245443\n",
       "46 0.04261410 0.04887115 0.001868185 0.002973236 0.001972893\n",
       "47 0.02056699 0.02700585 0.000453372 0.003795169 0.004026340\n",
       "48 0.03318064 0.03756626 0.001379367 0.002327283 0.002510670\n",
       "49 0.02314307 0.02976162 0.000706995 0.003708450 0.003977562\n",
       "50 0.02717071 0.02864066 0.001022373 0.001074855 0.000866407\n",
       "56 0.02636129 0.03512471 0.000960567 0.002644947 0.002083576\n",
       "57 0.01321147 0.01750000 0.001022528 0.005300000 0.003009208\n",
       "58 0.01067874 0.01070324 0.000320946 0.002155763 0.001481021\n",
       "59 0.01926295 0.02965366 0.000427911 0.000850665 0.000000000\n",
       "60 0.03304909 0.05899792 0.001630118 0.004850861 0.000641746"
      ]
     },
     "metadata": {},
     "output_type": "display_data"
    },
    {
     "data": {
      "text/html": [
       "<table>\n",
       "<thead><tr><th></th><th scope=col>filename</th><th scope=col>MouseID</th><th scope=col>Treatmentgroup</th><th scope=col>DPI</th><th scope=col>organ</th><th scope=col>well_position</th><th scope=col>plate</th><th scope=col>mass_400</th><th scope=col>mass_500</th><th scope=col>mass_600</th><th scope=col>mass_700</th><th scope=col>mass_800</th></tr></thead>\n",
       "<tbody>\n",
       "\t<tr><th scope=row>16</th><td>X581_Group3E_142dpi_LV_bottom_176_G_B4_P132.mzXML</td><td>581                                              </td><td>infected                                         </td><td>142dpi                                           </td><td>LV_bottom                                        </td><td>B4                                               </td><td>P132                                             </td><td>0.06492387                                       </td><td>0.04990000                                       </td><td>0.002081265                                      </td><td>0.006480000                                      </td><td>0.003550676                                      </td></tr>\n",
       "\t<tr><th scope=row>17</th><td>X582_Group3E_142dpi_LV_bottom_177_G_B5_P132.mzXML</td><td>582                                              </td><td>infected                                         </td><td>142dpi                                           </td><td>LV_bottom                                        </td><td>B5                                               </td><td>P132                                             </td><td>0.03695652                                       </td><td>0.06233980                                       </td><td>0.001795235                                      </td><td>0.011181530                                      </td><td>0.011186446                                      </td></tr>\n",
       "\t<tr><th scope=row>18</th><td>X583_Group3E_142dpi_LV_bottom_178_G_B6_P132.mzXML</td><td>583                                              </td><td>infected                                         </td><td>142dpi                                           </td><td>LV_bottom                                        </td><td>B6                                               </td><td>P132                                             </td><td>0.03606943                                       </td><td>0.05150000                                       </td><td>0.001668329                                      </td><td>0.011848941                                      </td><td>0.005145605                                      </td></tr>\n",
       "\t<tr><th scope=row>19</th><td>X584_Group3E_142dpi_LV_bottom_179_G_B7_P132.mzXML</td><td>584                                              </td><td>infected                                         </td><td>142dpi                                           </td><td>LV_bottom                                        </td><td>B7                                               </td><td>P132                                             </td><td>0.03079909                                       </td><td>0.04567134                                       </td><td>0.001573917                                      </td><td>0.003792443                                      </td><td>0.003028223                                      </td></tr>\n",
       "\t<tr><th scope=row>20</th><td>X585_Group3E_142dpi_LV_bottom_180_G_B8_P132.mzXML</td><td>585                                              </td><td>infected                                         </td><td>142dpi                                           </td><td>LV_bottom                                        </td><td>B8                                               </td><td>P132                                             </td><td>0.03190038                                       </td><td>0.05207845                                       </td><td>0.001750879                                      </td><td>0.005605542                                      </td><td>0.004331390                                      </td></tr>\n",
       "\t<tr><th scope=row>26</th><td>X631_Group15_142dpi_LV_bottom_191_G_C7_P132.mzXML</td><td>631                                              </td><td>BNZ                                              </td><td>142dpi                                           </td><td>LV_bottom                                        </td><td>C7                                               </td><td>P132                                             </td><td>0.03743848                                       </td><td>0.04630000                                       </td><td>0.002479058                                      </td><td>0.009870000                                      </td><td>0.007242087                                      </td></tr>\n",
       "</tbody>\n",
       "</table>\n"
      ],
      "text/latex": [
       "\\begin{tabular}{r|llllllllllll}\n",
       "  & filename & MouseID & Treatmentgroup & DPI & organ & well\\_position & plate & mass\\_400 & mass\\_500 & mass\\_600 & mass\\_700 & mass\\_800\\\\\n",
       "\\hline\n",
       "\t16 & X581\\_Group3E\\_142dpi\\_LV\\_bottom\\_176\\_G\\_B4\\_P132.mzXML & 581                                                               & infected                                                          & 142dpi                                                            & LV\\_bottom                                                       & B4                                                                & P132                                                              & 0.06492387                                                        & 0.04990000                                                        & 0.002081265                                                       & 0.006480000                                                       & 0.003550676                                                      \\\\\n",
       "\t17 & X582\\_Group3E\\_142dpi\\_LV\\_bottom\\_177\\_G\\_B5\\_P132.mzXML & 582                                                               & infected                                                          & 142dpi                                                            & LV\\_bottom                                                       & B5                                                                & P132                                                              & 0.03695652                                                        & 0.06233980                                                        & 0.001795235                                                       & 0.011181530                                                       & 0.011186446                                                      \\\\\n",
       "\t18 & X583\\_Group3E\\_142dpi\\_LV\\_bottom\\_178\\_G\\_B6\\_P132.mzXML & 583                                                               & infected                                                          & 142dpi                                                            & LV\\_bottom                                                       & B6                                                                & P132                                                              & 0.03606943                                                        & 0.05150000                                                        & 0.001668329                                                       & 0.011848941                                                       & 0.005145605                                                      \\\\\n",
       "\t19 & X584\\_Group3E\\_142dpi\\_LV\\_bottom\\_179\\_G\\_B7\\_P132.mzXML & 584                                                               & infected                                                          & 142dpi                                                            & LV\\_bottom                                                       & B7                                                                & P132                                                              & 0.03079909                                                        & 0.04567134                                                        & 0.001573917                                                       & 0.003792443                                                       & 0.003028223                                                      \\\\\n",
       "\t20 & X585\\_Group3E\\_142dpi\\_LV\\_bottom\\_180\\_G\\_B8\\_P132.mzXML & 585                                                               & infected                                                          & 142dpi                                                            & LV\\_bottom                                                       & B8                                                                & P132                                                              & 0.03190038                                                        & 0.05207845                                                        & 0.001750879                                                       & 0.005605542                                                       & 0.004331390                                                      \\\\\n",
       "\t26 & X631\\_Group15\\_142dpi\\_LV\\_bottom\\_191\\_G\\_C7\\_P132.mzXML & 631                                                               & BNZ                                                               & 142dpi                                                            & LV\\_bottom                                                       & C7                                                                & P132                                                              & 0.03743848                                                        & 0.04630000                                                        & 0.002479058                                                       & 0.009870000                                                       & 0.007242087                                                      \\\\\n",
       "\\end{tabular}\n"
      ],
      "text/markdown": [
       "\n",
       "| <!--/--> | filename | MouseID | Treatmentgroup | DPI | organ | well_position | plate | mass_400 | mass_500 | mass_600 | mass_700 | mass_800 |\n",
       "|---|---|---|---|---|---|---|---|---|---|---|---|---|\n",
       "| 16 | X581_Group3E_142dpi_LV_bottom_176_G_B4_P132.mzXML | 581                                               | infected                                          | 142dpi                                            | LV_bottom                                         | B4                                                | P132                                              | 0.06492387                                        | 0.04990000                                        | 0.002081265                                       | 0.006480000                                       | 0.003550676                                       |\n",
       "| 17 | X582_Group3E_142dpi_LV_bottom_177_G_B5_P132.mzXML | 582                                               | infected                                          | 142dpi                                            | LV_bottom                                         | B5                                                | P132                                              | 0.03695652                                        | 0.06233980                                        | 0.001795235                                       | 0.011181530                                       | 0.011186446                                       |\n",
       "| 18 | X583_Group3E_142dpi_LV_bottom_178_G_B6_P132.mzXML | 583                                               | infected                                          | 142dpi                                            | LV_bottom                                         | B6                                                | P132                                              | 0.03606943                                        | 0.05150000                                        | 0.001668329                                       | 0.011848941                                       | 0.005145605                                       |\n",
       "| 19 | X584_Group3E_142dpi_LV_bottom_179_G_B7_P132.mzXML | 584                                               | infected                                          | 142dpi                                            | LV_bottom                                         | B7                                                | P132                                              | 0.03079909                                        | 0.04567134                                        | 0.001573917                                       | 0.003792443                                       | 0.003028223                                       |\n",
       "| 20 | X585_Group3E_142dpi_LV_bottom_180_G_B8_P132.mzXML | 585                                               | infected                                          | 142dpi                                            | LV_bottom                                         | B8                                                | P132                                              | 0.03190038                                        | 0.05207845                                        | 0.001750879                                       | 0.005605542                                       | 0.004331390                                       |\n",
       "| 26 | X631_Group15_142dpi_LV_bottom_191_G_C7_P132.mzXML | 631                                               | BNZ                                               | 142dpi                                            | LV_bottom                                         | C7                                                | P132                                              | 0.03743848                                        | 0.04630000                                        | 0.002479058                                       | 0.009870000                                       | 0.007242087                                       |\n",
       "\n"
      ],
      "text/plain": [
       "   filename                                          MouseID Treatmentgroup\n",
       "16 X581_Group3E_142dpi_LV_bottom_176_G_B4_P132.mzXML 581     infected      \n",
       "17 X582_Group3E_142dpi_LV_bottom_177_G_B5_P132.mzXML 582     infected      \n",
       "18 X583_Group3E_142dpi_LV_bottom_178_G_B6_P132.mzXML 583     infected      \n",
       "19 X584_Group3E_142dpi_LV_bottom_179_G_B7_P132.mzXML 584     infected      \n",
       "20 X585_Group3E_142dpi_LV_bottom_180_G_B8_P132.mzXML 585     infected      \n",
       "26 X631_Group15_142dpi_LV_bottom_191_G_C7_P132.mzXML 631     BNZ           \n",
       "   DPI    organ     well_position plate mass_400   mass_500   mass_600   \n",
       "16 142dpi LV_bottom B4            P132  0.06492387 0.04990000 0.002081265\n",
       "17 142dpi LV_bottom B5            P132  0.03695652 0.06233980 0.001795235\n",
       "18 142dpi LV_bottom B6            P132  0.03606943 0.05150000 0.001668329\n",
       "19 142dpi LV_bottom B7            P132  0.03079909 0.04567134 0.001573917\n",
       "20 142dpi LV_bottom B8            P132  0.03190038 0.05207845 0.001750879\n",
       "26 142dpi LV_bottom C7            P132  0.03743848 0.04630000 0.002479058\n",
       "   mass_700    mass_800   \n",
       "16 0.006480000 0.003550676\n",
       "17 0.011181530 0.011186446\n",
       "18 0.011848941 0.005145605\n",
       "19 0.003792443 0.003028223\n",
       "20 0.005605542 0.004331390\n",
       "26 0.009870000 0.007242087"
      ]
     },
     "metadata": {},
     "output_type": "display_data"
    },
    {
     "data": {
      "text/html": [
       "<ol class=list-inline>\n",
       "\t<li>30</li>\n",
       "\t<li>12</li>\n",
       "</ol>\n"
      ],
      "text/latex": [
       "\\begin{enumerate*}\n",
       "\\item 30\n",
       "\\item 12\n",
       "\\end{enumerate*}\n"
      ],
      "text/markdown": [
       "1. 30\n",
       "2. 12\n",
       "\n",
       "\n"
      ],
      "text/plain": [
       "[1] 30 12"
      ]
     },
     "metadata": {},
     "output_type": "display_data"
    },
    {
     "data": {
      "text/html": [
       "<ol class=list-inline>\n",
       "\t<li>30</li>\n",
       "\t<li>5</li>\n",
       "</ol>\n"
      ],
      "text/latex": [
       "\\begin{enumerate*}\n",
       "\\item 30\n",
       "\\item 5\n",
       "\\end{enumerate*}\n"
      ],
      "text/markdown": [
       "1. 30\n",
       "2. 5\n",
       "\n",
       "\n"
      ],
      "text/plain": [
       "[1] 30  5"
      ]
     },
     "metadata": {},
     "output_type": "display_data"
    },
    {
     "data": {
      "text/html": [
       "<ol class=list-inline>\n",
       "\t<li>30</li>\n",
       "\t<li>5</li>\n",
       "</ol>\n"
      ],
      "text/latex": [
       "\\begin{enumerate*}\n",
       "\\item 30\n",
       "\\item 5\n",
       "\\end{enumerate*}\n"
      ],
      "text/markdown": [
       "1. 30\n",
       "2. 5\n",
       "\n",
       "\n"
      ],
      "text/plain": [
       "[1] 30  5"
      ]
     },
     "metadata": {},
     "output_type": "display_data"
    },
    {
     "data": {
      "text/html": [
       "<ol class=list-inline>\n",
       "\t<li>30</li>\n",
       "\t<li>12</li>\n",
       "</ol>\n"
      ],
      "text/latex": [
       "\\begin{enumerate*}\n",
       "\\item 30\n",
       "\\item 12\n",
       "\\end{enumerate*}\n"
      ],
      "text/markdown": [
       "1. 30\n",
       "2. 12\n",
       "\n",
       "\n"
      ],
      "text/plain": [
       "[1] 30 12"
      ]
     },
     "metadata": {},
     "output_type": "display_data"
    }
   ],
   "source": [
    "noMeta<-features_pos[,8:12]\n",
    "head(noMeta)\n",
    "not_zero<-which(colSums(noMeta) != 0)\n",
    "head(not_zero)\n",
    "nonzero <- noMeta[, not_zero]\n",
    "nonzero\n",
    "nonzero_wMeta<-cbind(features_pos[,1:7], nonzero)\n",
    "head(nonzero_wMeta)\n",
    "dim(features_pos)\n",
    "dim(noMeta)\n",
    "dim(nonzero)\n",
    "dim(nonzero_wMeta)"
   ]
  },
  {
   "cell_type": "code",
   "execution_count": 5,
   "metadata": {
    "scrolled": true
   },
   "outputs": [
    {
     "data": {
      "text/html": [
       "<ol class=list-inline>\n",
       "\t<li>0.0367175416419757</li>\n",
       "\t<li>0.106445693561888</li>\n",
       "\t<li>0.267097024243296</li>\n",
       "\t<li>0.870194456435353</li>\n",
       "\t<li>0.389233298727313</li>\n",
       "</ol>\n"
      ],
      "text/latex": [
       "\\begin{enumerate*}\n",
       "\\item 0.0367175416419757\n",
       "\\item 0.106445693561888\n",
       "\\item 0.267097024243296\n",
       "\\item 0.870194456435353\n",
       "\\item 0.389233298727313\n",
       "\\end{enumerate*}\n"
      ],
      "text/markdown": [
       "1. 0.0367175416419757\n",
       "2. 0.106445693561888\n",
       "3. 0.267097024243296\n",
       "4. 0.870194456435353\n",
       "5. 0.389233298727313\n",
       "\n",
       "\n"
      ],
      "text/plain": [
       "[1] 0.03671754 0.10644569 0.26709702 0.87019446 0.38923330"
      ]
     },
     "metadata": {},
     "output_type": "display_data"
    },
    {
     "data": {
      "text/html": [
       "<ol class=list-inline>\n",
       "\t<li>0.183587708209879</li>\n",
       "\t<li>0.266114233904719</li>\n",
       "\t<li>0.445161707072161</li>\n",
       "\t<li>0.870194456435353</li>\n",
       "\t<li>0.486541623409142</li>\n",
       "</ol>\n"
      ],
      "text/latex": [
       "\\begin{enumerate*}\n",
       "\\item 0.183587708209879\n",
       "\\item 0.266114233904719\n",
       "\\item 0.445161707072161\n",
       "\\item 0.870194456435353\n",
       "\\item 0.486541623409142\n",
       "\\end{enumerate*}\n"
      ],
      "text/markdown": [
       "1. 0.183587708209879\n",
       "2. 0.266114233904719\n",
       "3. 0.445161707072161\n",
       "4. 0.870194456435353\n",
       "5. 0.486541623409142\n",
       "\n",
       "\n"
      ],
      "text/plain": [
       "[1] 0.1835877 0.2661142 0.4451617 0.8701945 0.4865416"
      ]
     },
     "metadata": {},
     "output_type": "display_data"
    }
   ],
   "source": [
    "pval<-c()\n",
    "\n",
    "for (i in 8:ncol(nonzero_wMeta)) \n",
    "pval<-c(pval,wilcox.test(nonzero_wMeta[,i]~nonzero_wMeta$Treatmentgroup)$p.value)\n",
    "head(pval)\n",
    "pAdj <- p.adjust(pval, method = c(\"fdr\"), n=length(pval)) \n",
    "head(pAdj) \n",
    "\n"
   ]
  },
  {
   "cell_type": "code",
   "execution_count": 6,
   "metadata": {
    "scrolled": true
   },
   "outputs": [
    {
     "data": {
      "text/html": [
       "5"
      ],
      "text/latex": [
       "5"
      ],
      "text/markdown": [
       "5"
      ],
      "text/plain": [
       "[1] 5"
      ]
     },
     "metadata": {},
     "output_type": "display_data"
    }
   ],
   "source": [
    "length(pval)"
   ]
  },
  {
   "cell_type": "code",
   "execution_count": 7,
   "metadata": {
    "scrolled": true
   },
   "outputs": [
    {
     "data": {
      "text/html": [
       "5"
      ],
      "text/latex": [
       "5"
      ],
      "text/markdown": [
       "5"
      ],
      "text/plain": [
       "[1] 5"
      ]
     },
     "metadata": {},
     "output_type": "display_data"
    }
   ],
   "source": [
    "length(pAdj)"
   ]
  },
  {
   "cell_type": "code",
   "execution_count": 8,
   "metadata": {},
   "outputs": [
    {
     "data": {
      "text/html": [
       "<ol class=list-inline>\n",
       "\t<li>2</li>\n",
       "\t<li>5</li>\n",
       "</ol>\n"
      ],
      "text/latex": [
       "\\begin{enumerate*}\n",
       "\\item 2\n",
       "\\item 5\n",
       "\\end{enumerate*}\n"
      ],
      "text/markdown": [
       "1. 2\n",
       "2. 5\n",
       "\n",
       "\n"
      ],
      "text/plain": [
       "[1] 2 5"
      ]
     },
     "metadata": {},
     "output_type": "display_data"
    },
    {
     "data": {
      "text/html": [
       "<table>\n",
       "<thead><tr><th></th><th scope=col>mass_400</th><th scope=col>mass_500</th><th scope=col>mass_600</th></tr></thead>\n",
       "<tbody>\n",
       "\t<tr><th scope=row>BNZ</th><td>0.02671608 </td><td>0.03675644 </td><td>0.001259803</td></tr>\n",
       "\t<tr><th scope=row>infected</th><td>0.03514759 </td><td>0.04421222 </td><td>0.001472914</td></tr>\n",
       "</tbody>\n",
       "</table>\n"
      ],
      "text/latex": [
       "\\begin{tabular}{r|lll}\n",
       "  & mass\\_400 & mass\\_500 & mass\\_600\\\\\n",
       "\\hline\n",
       "\tBNZ & 0.02671608  & 0.03675644  & 0.001259803\\\\\n",
       "\tinfected & 0.03514759  & 0.04421222  & 0.001472914\\\\\n",
       "\\end{tabular}\n"
      ],
      "text/markdown": [
       "\n",
       "| <!--/--> | mass_400 | mass_500 | mass_600 |\n",
       "|---|---|---|---|\n",
       "| BNZ | 0.02671608  | 0.03675644  | 0.001259803 |\n",
       "| infected | 0.03514759  | 0.04421222  | 0.001472914 |\n",
       "\n"
      ],
      "text/plain": [
       "         mass_400   mass_500   mass_600   \n",
       "BNZ      0.02671608 0.03675644 0.001259803\n",
       "infected 0.03514759 0.04421222 0.001472914"
      ]
     },
     "metadata": {},
     "output_type": "display_data"
    },
    {
     "data": {
      "text/html": [
       "<dl class=dl-horizontal>\n",
       "\t<dt>mass_400</dt>\n",
       "\t\t<dd>0.760111403686073</dd>\n",
       "\t<dt>mass_500</dt>\n",
       "\t\t<dd>0.831363852780581</dd>\n",
       "\t<dt>mass_600</dt>\n",
       "\t\t<dd>0.85531331864378</dd>\n",
       "\t<dt>mass_700</dt>\n",
       "\t\t<dd>1.14977651396702</dd>\n",
       "\t<dt>mass_800</dt>\n",
       "\t\t<dd>0.846579217474312</dd>\n",
       "</dl>\n"
      ],
      "text/latex": [
       "\\begin{description*}\n",
       "\\item[mass\\textbackslash{}\\_400] 0.760111403686073\n",
       "\\item[mass\\textbackslash{}\\_500] 0.831363852780581\n",
       "\\item[mass\\textbackslash{}\\_600] 0.85531331864378\n",
       "\\item[mass\\textbackslash{}\\_700] 1.14977651396702\n",
       "\\item[mass\\textbackslash{}\\_800] 0.846579217474312\n",
       "\\end{description*}\n"
      ],
      "text/markdown": [
       "mass_400\n",
       ":   0.760111403686073mass_500\n",
       ":   0.831363852780581mass_600\n",
       ":   0.85531331864378mass_700\n",
       ":   1.14977651396702mass_800\n",
       ":   0.846579217474312\n",
       "\n"
      ],
      "text/plain": [
       " mass_400  mass_500  mass_600  mass_700  mass_800 \n",
       "0.7601114 0.8313639 0.8553133 1.1497765 0.8465792 "
      ]
     },
     "metadata": {},
     "output_type": "display_data"
    },
    {
     "data": {
      "text/html": [
       "<ol class=list-inline>\n",
       "\t<li>'numeric'</li>\n",
       "\t<li>'vector'</li>\n",
       "</ol>\n"
      ],
      "text/latex": [
       "\\begin{enumerate*}\n",
       "\\item 'numeric'\n",
       "\\item 'vector'\n",
       "\\end{enumerate*}\n"
      ],
      "text/markdown": [
       "1. 'numeric'\n",
       "2. 'vector'\n",
       "\n",
       "\n"
      ],
      "text/plain": [
       "[1] \"numeric\" \"vector\" "
      ]
     },
     "metadata": {},
     "output_type": "display_data"
    }
   ],
   "source": [
    "avg<- apply(nonzero_wMeta[,8:ncol(nonzero_wMeta)], 2, function(x) tapply(x, nonzero_wMeta$Treatmentgroup, function(x) mean(x))) \n",
    "\n",
    "dim(avg)\n",
    "\n",
    "avg[,1:3]\n",
    "\n",
    "fch <- apply(avg, 2, function(x) x[1]/x[2]) \n",
    "\n",
    "head(fch)\n",
    "is(fch)"
   ]
  },
  {
   "cell_type": "code",
   "execution_count": 9,
   "metadata": {
    "scrolled": true
   },
   "outputs": [
    {
     "data": {
      "text/html": [
       "<dl class=dl-horizontal>\n",
       "\t<dt>mass_400</dt>\n",
       "\t\t<dd>0.760111403686073</dd>\n",
       "\t<dt>mass_500</dt>\n",
       "\t\t<dd>0.831363852780581</dd>\n",
       "\t<dt>mass_600</dt>\n",
       "\t\t<dd>0.85531331864378</dd>\n",
       "\t<dt>mass_700</dt>\n",
       "\t\t<dd>1.14977651396702</dd>\n",
       "\t<dt>mass_800</dt>\n",
       "\t\t<dd>0.846579217474312</dd>\n",
       "</dl>\n"
      ],
      "text/latex": [
       "\\begin{description*}\n",
       "\\item[mass\\textbackslash{}\\_400] 0.760111403686073\n",
       "\\item[mass\\textbackslash{}\\_500] 0.831363852780581\n",
       "\\item[mass\\textbackslash{}\\_600] 0.85531331864378\n",
       "\\item[mass\\textbackslash{}\\_700] 1.14977651396702\n",
       "\\item[mass\\textbackslash{}\\_800] 0.846579217474312\n",
       "\\end{description*}\n"
      ],
      "text/markdown": [
       "mass_400\n",
       ":   0.760111403686073mass_500\n",
       ":   0.831363852780581mass_600\n",
       ":   0.85531331864378mass_700\n",
       ":   1.14977651396702mass_800\n",
       ":   0.846579217474312\n",
       "\n"
      ],
      "text/plain": [
       " mass_400  mass_500  mass_600  mass_700  mass_800 \n",
       "0.7601114 0.8313639 0.8553133 1.1497765 0.8465792 "
      ]
     },
     "metadata": {},
     "output_type": "display_data"
    }
   ],
   "source": [
    "fch"
   ]
  },
  {
   "cell_type": "code",
   "execution_count": 10,
   "metadata": {
    "scrolled": false
   },
   "outputs": [],
   "source": [
    "df <- data.frame(fch,pval, pAdj)\n",
    "write.csv(df, \"PC-treat-LVB-wilcox-infected-BNZ.csv\")"
   ]
  },
  {
   "cell_type": "code",
   "execution_count": null,
   "metadata": {},
   "outputs": [],
   "source": []
  },
  {
   "cell_type": "code",
   "execution_count": null,
   "metadata": {},
   "outputs": [],
   "source": []
  },
  {
   "cell_type": "code",
   "execution_count": null,
   "metadata": {},
   "outputs": [],
   "source": []
  },
  {
   "cell_type": "code",
   "execution_count": null,
   "metadata": {},
   "outputs": [],
   "source": []
  },
  {
   "cell_type": "code",
   "execution_count": null,
   "metadata": {},
   "outputs": [],
   "source": []
  },
  {
   "cell_type": "code",
   "execution_count": null,
   "metadata": {},
   "outputs": [],
   "source": []
  }
 ],
 "metadata": {
  "kernelspec": {
   "display_name": "R",
   "language": "R",
   "name": "ir"
  },
  "language_info": {
   "codemirror_mode": "r",
   "file_extension": ".r",
   "mimetype": "text/x-r-source",
   "name": "R",
   "pygments_lexer": "r",
   "version": "3.6.1"
  }
 },
 "nbformat": 4,
 "nbformat_minor": 2
}
