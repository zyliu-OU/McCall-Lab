{
 "cells": [
  {
   "cell_type": "code",
   "execution_count": 1,
   "metadata": {},
   "outputs": [],
   "source": [
    "a <- read.csv(\"03172021-PC-treatment-LVB-M-F.csv\")"
   ]
  },
  {
   "cell_type": "code",
   "execution_count": 2,
   "metadata": {},
   "outputs": [
    {
     "data": {
      "text/html": [
       "<table>\n",
       "<thead><tr><th scope=col>filename</th><th scope=col>MouseID</th><th scope=col>Treatmentgroup</th><th scope=col>DPI</th><th scope=col>organ</th><th scope=col>well_position</th><th scope=col>plate</th><th scope=col>mass_400</th><th scope=col>mass_500</th><th scope=col>mass_600</th><th scope=col>mass_700</th><th scope=col>mass_800</th></tr></thead>\n",
       "<tbody>\n",
       "\t<tr><td>X511_Group1C_142dpi_LV_bottom_161_G_A1_P132.mzXML</td><td>511                                              </td><td>naive                                            </td><td>142dpi                                           </td><td>LV_bottom                                        </td><td>A1                                               </td><td>P132                                             </td><td>0.04382789                                       </td><td>0.07997773                                       </td><td>0.002684053                                      </td><td>0.003825973                                      </td><td>0.000280747                                      </td></tr>\n",
       "\t<tr><td>X512_Group1C_142dpi_LV_bottom_162_G_A2_P132.mzXML</td><td>512                                              </td><td>naive                                            </td><td>142dpi                                           </td><td>LV_bottom                                        </td><td>A2                                               </td><td>P132                                             </td><td>0.03908150                                       </td><td>0.06240000                                       </td><td>0.002998300                                      </td><td>0.003632408                                      </td><td>0.001471252                                      </td></tr>\n",
       "\t<tr><td>X513_Group1C_142dpi_LV_bottom_163_G_A3_P132.mzXML</td><td>513                                              </td><td>naive                                            </td><td>142dpi                                           </td><td>LV_bottom                                        </td><td>A3                                               </td><td>P132                                             </td><td>0.03267072                                       </td><td>0.04620000                                       </td><td>0.001726274                                      </td><td>0.004220656                                      </td><td>0.002569278                                      </td></tr>\n",
       "\t<tr><td>X514_Group1C_142dpi_LV_bottom_164_G_A4_P132.mzXML</td><td>514                                              </td><td>naive                                            </td><td>142dpi                                           </td><td>LV_bottom                                        </td><td>A4                                               </td><td>P132                                             </td><td>0.04172188                                       </td><td>0.05520000                                       </td><td>0.001976908                                      </td><td>0.003830678                                      </td><td>0.000883582                                      </td></tr>\n",
       "\t<tr><td>X515_Group1C_142dpi_LV_bottom_165_G_A5_P132.mzXML</td><td>515                                              </td><td>naive                                            </td><td>142dpi                                           </td><td>LV_bottom                                        </td><td>A5                                               </td><td>P132                                             </td><td>0.03505978                                       </td><td>0.05858027                                       </td><td>0.002110626                                      </td><td>0.002231458                                      </td><td>0.001315984                                      </td></tr>\n",
       "\t<tr><td>X531_Group1C_142dpi_LV_bottom_166_G_A6_P132.mzXML</td><td>531                                              </td><td>naive                                            </td><td>142dpi                                           </td><td>LV_bottom                                        </td><td>A6                                               </td><td>P132                                             </td><td>0.03271828                                       </td><td>0.03970000                                       </td><td>0.001690467                                      </td><td>0.006136600                                      </td><td>0.002555819                                      </td></tr>\n",
       "</tbody>\n",
       "</table>\n"
      ],
      "text/latex": [
       "\\begin{tabular}{r|llllllllllll}\n",
       " filename & MouseID & Treatmentgroup & DPI & organ & well\\_position & plate & mass\\_400 & mass\\_500 & mass\\_600 & mass\\_700 & mass\\_800\\\\\n",
       "\\hline\n",
       "\t X511\\_Group1C\\_142dpi\\_LV\\_bottom\\_161\\_G\\_A1\\_P132.mzXML & 511                                                               & naive                                                             & 142dpi                                                            & LV\\_bottom                                                       & A1                                                                & P132                                                              & 0.04382789                                                        & 0.07997773                                                        & 0.002684053                                                       & 0.003825973                                                       & 0.000280747                                                      \\\\\n",
       "\t X512\\_Group1C\\_142dpi\\_LV\\_bottom\\_162\\_G\\_A2\\_P132.mzXML & 512                                                               & naive                                                             & 142dpi                                                            & LV\\_bottom                                                       & A2                                                                & P132                                                              & 0.03908150                                                        & 0.06240000                                                        & 0.002998300                                                       & 0.003632408                                                       & 0.001471252                                                      \\\\\n",
       "\t X513\\_Group1C\\_142dpi\\_LV\\_bottom\\_163\\_G\\_A3\\_P132.mzXML & 513                                                               & naive                                                             & 142dpi                                                            & LV\\_bottom                                                       & A3                                                                & P132                                                              & 0.03267072                                                        & 0.04620000                                                        & 0.001726274                                                       & 0.004220656                                                       & 0.002569278                                                      \\\\\n",
       "\t X514\\_Group1C\\_142dpi\\_LV\\_bottom\\_164\\_G\\_A4\\_P132.mzXML & 514                                                               & naive                                                             & 142dpi                                                            & LV\\_bottom                                                       & A4                                                                & P132                                                              & 0.04172188                                                        & 0.05520000                                                        & 0.001976908                                                       & 0.003830678                                                       & 0.000883582                                                      \\\\\n",
       "\t X515\\_Group1C\\_142dpi\\_LV\\_bottom\\_165\\_G\\_A5\\_P132.mzXML & 515                                                               & naive                                                             & 142dpi                                                            & LV\\_bottom                                                       & A5                                                                & P132                                                              & 0.03505978                                                        & 0.05858027                                                        & 0.002110626                                                       & 0.002231458                                                       & 0.001315984                                                      \\\\\n",
       "\t X531\\_Group1C\\_142dpi\\_LV\\_bottom\\_166\\_G\\_A6\\_P132.mzXML & 531                                                               & naive                                                             & 142dpi                                                            & LV\\_bottom                                                       & A6                                                                & P132                                                              & 0.03271828                                                        & 0.03970000                                                        & 0.001690467                                                       & 0.006136600                                                       & 0.002555819                                                      \\\\\n",
       "\\end{tabular}\n"
      ],
      "text/markdown": [
       "\n",
       "| filename | MouseID | Treatmentgroup | DPI | organ | well_position | plate | mass_400 | mass_500 | mass_600 | mass_700 | mass_800 |\n",
       "|---|---|---|---|---|---|---|---|---|---|---|---|\n",
       "| X511_Group1C_142dpi_LV_bottom_161_G_A1_P132.mzXML | 511                                               | naive                                             | 142dpi                                            | LV_bottom                                         | A1                                                | P132                                              | 0.04382789                                        | 0.07997773                                        | 0.002684053                                       | 0.003825973                                       | 0.000280747                                       |\n",
       "| X512_Group1C_142dpi_LV_bottom_162_G_A2_P132.mzXML | 512                                               | naive                                             | 142dpi                                            | LV_bottom                                         | A2                                                | P132                                              | 0.03908150                                        | 0.06240000                                        | 0.002998300                                       | 0.003632408                                       | 0.001471252                                       |\n",
       "| X513_Group1C_142dpi_LV_bottom_163_G_A3_P132.mzXML | 513                                               | naive                                             | 142dpi                                            | LV_bottom                                         | A3                                                | P132                                              | 0.03267072                                        | 0.04620000                                        | 0.001726274                                       | 0.004220656                                       | 0.002569278                                       |\n",
       "| X514_Group1C_142dpi_LV_bottom_164_G_A4_P132.mzXML | 514                                               | naive                                             | 142dpi                                            | LV_bottom                                         | A4                                                | P132                                              | 0.04172188                                        | 0.05520000                                        | 0.001976908                                       | 0.003830678                                       | 0.000883582                                       |\n",
       "| X515_Group1C_142dpi_LV_bottom_165_G_A5_P132.mzXML | 515                                               | naive                                             | 142dpi                                            | LV_bottom                                         | A5                                                | P132                                              | 0.03505978                                        | 0.05858027                                        | 0.002110626                                       | 0.002231458                                       | 0.001315984                                       |\n",
       "| X531_Group1C_142dpi_LV_bottom_166_G_A6_P132.mzXML | 531                                               | naive                                             | 142dpi                                            | LV_bottom                                         | A6                                                | P132                                              | 0.03271828                                        | 0.03970000                                        | 0.001690467                                       | 0.006136600                                       | 0.002555819                                       |\n",
       "\n"
      ],
      "text/plain": [
       "  filename                                          MouseID Treatmentgroup\n",
       "1 X511_Group1C_142dpi_LV_bottom_161_G_A1_P132.mzXML 511     naive         \n",
       "2 X512_Group1C_142dpi_LV_bottom_162_G_A2_P132.mzXML 512     naive         \n",
       "3 X513_Group1C_142dpi_LV_bottom_163_G_A3_P132.mzXML 513     naive         \n",
       "4 X514_Group1C_142dpi_LV_bottom_164_G_A4_P132.mzXML 514     naive         \n",
       "5 X515_Group1C_142dpi_LV_bottom_165_G_A5_P132.mzXML 515     naive         \n",
       "6 X531_Group1C_142dpi_LV_bottom_166_G_A6_P132.mzXML 531     naive         \n",
       "  DPI    organ     well_position plate mass_400   mass_500   mass_600   \n",
       "1 142dpi LV_bottom A1            P132  0.04382789 0.07997773 0.002684053\n",
       "2 142dpi LV_bottom A2            P132  0.03908150 0.06240000 0.002998300\n",
       "3 142dpi LV_bottom A3            P132  0.03267072 0.04620000 0.001726274\n",
       "4 142dpi LV_bottom A4            P132  0.04172188 0.05520000 0.001976908\n",
       "5 142dpi LV_bottom A5            P132  0.03505978 0.05858027 0.002110626\n",
       "6 142dpi LV_bottom A6            P132  0.03271828 0.03970000 0.001690467\n",
       "  mass_700    mass_800   \n",
       "1 0.003825973 0.000280747\n",
       "2 0.003632408 0.001471252\n",
       "3 0.004220656 0.002569278\n",
       "4 0.003830678 0.000883582\n",
       "5 0.002231458 0.001315984\n",
       "6 0.006136600 0.002555819"
      ]
     },
     "metadata": {},
     "output_type": "display_data"
    },
    {
     "data": {
      "text/html": [
       "<ol class=list-inline>\n",
       "\t<li>60</li>\n",
       "\t<li>12</li>\n",
       "</ol>\n"
      ],
      "text/latex": [
       "\\begin{enumerate*}\n",
       "\\item 60\n",
       "\\item 12\n",
       "\\end{enumerate*}\n"
      ],
      "text/markdown": [
       "1. 60\n",
       "2. 12\n",
       "\n",
       "\n"
      ],
      "text/plain": [
       "[1] 60 12"
      ]
     },
     "metadata": {},
     "output_type": "display_data"
    }
   ],
   "source": [
    "head(a)\n",
    "dim(a)"
   ]
  },
  {
   "cell_type": "code",
   "execution_count": 3,
   "metadata": {},
   "outputs": [
    {
     "data": {
      "text/html": [
       "<table>\n",
       "<thead><tr><th></th><th scope=col>filename</th><th scope=col>MouseID</th><th scope=col>Treatmentgroup</th><th scope=col>DPI</th><th scope=col>organ</th><th scope=col>well_position</th><th scope=col>plate</th><th scope=col>mass_400</th><th scope=col>mass_500</th><th scope=col>mass_600</th><th scope=col>mass_700</th><th scope=col>mass_800</th></tr></thead>\n",
       "<tbody>\n",
       "\t<tr><th scope=row>16</th><td>X581_Group3E_142dpi_LV_bottom_176_G_B4_P132.mzXML</td><td>581                                              </td><td>infected                                         </td><td>142dpi                                           </td><td>LV_bottom                                        </td><td>B4                                               </td><td>P132                                             </td><td>0.06492387                                       </td><td>0.04990000                                       </td><td>0.002081265                                      </td><td>0.006480000                                      </td><td>0.003550676                                      </td></tr>\n",
       "\t<tr><th scope=row>17</th><td>X582_Group3E_142dpi_LV_bottom_177_G_B5_P132.mzXML</td><td>582                                              </td><td>infected                                         </td><td>142dpi                                           </td><td>LV_bottom                                        </td><td>B5                                               </td><td>P132                                             </td><td>0.03695652                                       </td><td>0.06233980                                       </td><td>0.001795235                                      </td><td>0.011181530                                      </td><td>0.011186446                                      </td></tr>\n",
       "\t<tr><th scope=row>18</th><td>X583_Group3E_142dpi_LV_bottom_178_G_B6_P132.mzXML</td><td>583                                              </td><td>infected                                         </td><td>142dpi                                           </td><td>LV_bottom                                        </td><td>B6                                               </td><td>P132                                             </td><td>0.03606943                                       </td><td>0.05150000                                       </td><td>0.001668329                                      </td><td>0.011848941                                      </td><td>0.005145605                                      </td></tr>\n",
       "\t<tr><th scope=row>19</th><td>X584_Group3E_142dpi_LV_bottom_179_G_B7_P132.mzXML</td><td>584                                              </td><td>infected                                         </td><td>142dpi                                           </td><td>LV_bottom                                        </td><td>B7                                               </td><td>P132                                             </td><td>0.03079909                                       </td><td>0.04567134                                       </td><td>0.001573917                                      </td><td>0.003792443                                      </td><td>0.003028223                                      </td></tr>\n",
       "\t<tr><th scope=row>20</th><td>X585_Group3E_142dpi_LV_bottom_180_G_B8_P132.mzXML</td><td>585                                              </td><td>infected                                         </td><td>142dpi                                           </td><td>LV_bottom                                        </td><td>B8                                               </td><td>P132                                             </td><td>0.03190038                                       </td><td>0.05207845                                       </td><td>0.001750879                                      </td><td>0.005605542                                      </td><td>0.004331390                                      </td></tr>\n",
       "\t<tr><th scope=row>21</th><td>X611_Group9_142dpi_LV_bottom_181_G_B9_P132.mzXML </td><td>611                                              </td><td>combo                                            </td><td>142dpi                                           </td><td>LV_bottom                                        </td><td>B9                                               </td><td>P132                                             </td><td>0.03013410                                       </td><td>0.03580000                                       </td><td>0.001738334                                      </td><td>0.005715424                                      </td><td>0.003090477                                      </td></tr>\n",
       "</tbody>\n",
       "</table>\n"
      ],
      "text/latex": [
       "\\begin{tabular}{r|llllllllllll}\n",
       "  & filename & MouseID & Treatmentgroup & DPI & organ & well\\_position & plate & mass\\_400 & mass\\_500 & mass\\_600 & mass\\_700 & mass\\_800\\\\\n",
       "\\hline\n",
       "\t16 & X581\\_Group3E\\_142dpi\\_LV\\_bottom\\_176\\_G\\_B4\\_P132.mzXML & 581                                                               & infected                                                          & 142dpi                                                            & LV\\_bottom                                                       & B4                                                                & P132                                                              & 0.06492387                                                        & 0.04990000                                                        & 0.002081265                                                       & 0.006480000                                                       & 0.003550676                                                      \\\\\n",
       "\t17 & X582\\_Group3E\\_142dpi\\_LV\\_bottom\\_177\\_G\\_B5\\_P132.mzXML & 582                                                               & infected                                                          & 142dpi                                                            & LV\\_bottom                                                       & B5                                                                & P132                                                              & 0.03695652                                                        & 0.06233980                                                        & 0.001795235                                                       & 0.011181530                                                       & 0.011186446                                                      \\\\\n",
       "\t18 & X583\\_Group3E\\_142dpi\\_LV\\_bottom\\_178\\_G\\_B6\\_P132.mzXML & 583                                                               & infected                                                          & 142dpi                                                            & LV\\_bottom                                                       & B6                                                                & P132                                                              & 0.03606943                                                        & 0.05150000                                                        & 0.001668329                                                       & 0.011848941                                                       & 0.005145605                                                      \\\\\n",
       "\t19 & X584\\_Group3E\\_142dpi\\_LV\\_bottom\\_179\\_G\\_B7\\_P132.mzXML & 584                                                               & infected                                                          & 142dpi                                                            & LV\\_bottom                                                       & B7                                                                & P132                                                              & 0.03079909                                                        & 0.04567134                                                        & 0.001573917                                                       & 0.003792443                                                       & 0.003028223                                                      \\\\\n",
       "\t20 & X585\\_Group3E\\_142dpi\\_LV\\_bottom\\_180\\_G\\_B8\\_P132.mzXML & 585                                                               & infected                                                          & 142dpi                                                            & LV\\_bottom                                                       & B8                                                                & P132                                                              & 0.03190038                                                        & 0.05207845                                                        & 0.001750879                                                       & 0.005605542                                                       & 0.004331390                                                      \\\\\n",
       "\t21 & X611\\_Group9\\_142dpi\\_LV\\_bottom\\_181\\_G\\_B9\\_P132.mzXML  & 611                                                               & combo                                                             & 142dpi                                                            & LV\\_bottom                                                       & B9                                                                & P132                                                              & 0.03013410                                                        & 0.03580000                                                        & 0.001738334                                                       & 0.005715424                                                       & 0.003090477                                                      \\\\\n",
       "\\end{tabular}\n"
      ],
      "text/markdown": [
       "\n",
       "| <!--/--> | filename | MouseID | Treatmentgroup | DPI | organ | well_position | plate | mass_400 | mass_500 | mass_600 | mass_700 | mass_800 |\n",
       "|---|---|---|---|---|---|---|---|---|---|---|---|---|\n",
       "| 16 | X581_Group3E_142dpi_LV_bottom_176_G_B4_P132.mzXML | 581                                               | infected                                          | 142dpi                                            | LV_bottom                                         | B4                                                | P132                                              | 0.06492387                                        | 0.04990000                                        | 0.002081265                                       | 0.006480000                                       | 0.003550676                                       |\n",
       "| 17 | X582_Group3E_142dpi_LV_bottom_177_G_B5_P132.mzXML | 582                                               | infected                                          | 142dpi                                            | LV_bottom                                         | B5                                                | P132                                              | 0.03695652                                        | 0.06233980                                        | 0.001795235                                       | 0.011181530                                       | 0.011186446                                       |\n",
       "| 18 | X583_Group3E_142dpi_LV_bottom_178_G_B6_P132.mzXML | 583                                               | infected                                          | 142dpi                                            | LV_bottom                                         | B6                                                | P132                                              | 0.03606943                                        | 0.05150000                                        | 0.001668329                                       | 0.011848941                                       | 0.005145605                                       |\n",
       "| 19 | X584_Group3E_142dpi_LV_bottom_179_G_B7_P132.mzXML | 584                                               | infected                                          | 142dpi                                            | LV_bottom                                         | B7                                                | P132                                              | 0.03079909                                        | 0.04567134                                        | 0.001573917                                       | 0.003792443                                       | 0.003028223                                       |\n",
       "| 20 | X585_Group3E_142dpi_LV_bottom_180_G_B8_P132.mzXML | 585                                               | infected                                          | 142dpi                                            | LV_bottom                                         | B8                                                | P132                                              | 0.03190038                                        | 0.05207845                                        | 0.001750879                                       | 0.005605542                                       | 0.004331390                                       |\n",
       "| 21 | X611_Group9_142dpi_LV_bottom_181_G_B9_P132.mzXML  | 611                                               | combo                                             | 142dpi                                            | LV_bottom                                         | B9                                                | P132                                              | 0.03013410                                        | 0.03580000                                        | 0.001738334                                       | 0.005715424                                       | 0.003090477                                       |\n",
       "\n"
      ],
      "text/plain": [
       "   filename                                          MouseID Treatmentgroup\n",
       "16 X581_Group3E_142dpi_LV_bottom_176_G_B4_P132.mzXML 581     infected      \n",
       "17 X582_Group3E_142dpi_LV_bottom_177_G_B5_P132.mzXML 582     infected      \n",
       "18 X583_Group3E_142dpi_LV_bottom_178_G_B6_P132.mzXML 583     infected      \n",
       "19 X584_Group3E_142dpi_LV_bottom_179_G_B7_P132.mzXML 584     infected      \n",
       "20 X585_Group3E_142dpi_LV_bottom_180_G_B8_P132.mzXML 585     infected      \n",
       "21 X611_Group9_142dpi_LV_bottom_181_G_B9_P132.mzXML  611     combo         \n",
       "   DPI    organ     well_position plate mass_400   mass_500   mass_600   \n",
       "16 142dpi LV_bottom B4            P132  0.06492387 0.04990000 0.002081265\n",
       "17 142dpi LV_bottom B5            P132  0.03695652 0.06233980 0.001795235\n",
       "18 142dpi LV_bottom B6            P132  0.03606943 0.05150000 0.001668329\n",
       "19 142dpi LV_bottom B7            P132  0.03079909 0.04567134 0.001573917\n",
       "20 142dpi LV_bottom B8            P132  0.03190038 0.05207845 0.001750879\n",
       "21 142dpi LV_bottom B9            P132  0.03013410 0.03580000 0.001738334\n",
       "   mass_700    mass_800   \n",
       "16 0.006480000 0.003550676\n",
       "17 0.011181530 0.011186446\n",
       "18 0.011848941 0.005145605\n",
       "19 0.003792443 0.003028223\n",
       "20 0.005605542 0.004331390\n",
       "21 0.005715424 0.003090477"
      ]
     },
     "metadata": {},
     "output_type": "display_data"
    },
    {
     "data": {
      "text/html": [
       "<ol class=list-inline>\n",
       "\t<li>30</li>\n",
       "\t<li>12</li>\n",
       "</ol>\n"
      ],
      "text/latex": [
       "\\begin{enumerate*}\n",
       "\\item 30\n",
       "\\item 12\n",
       "\\end{enumerate*}\n"
      ],
      "text/markdown": [
       "1. 30\n",
       "2. 12\n",
       "\n",
       "\n"
      ],
      "text/plain": [
       "[1] 30 12"
      ]
     },
     "metadata": {},
     "output_type": "display_data"
    }
   ],
   "source": [
    "features_pos<-droplevels(subset(a, a$Treatmentgroup==c(\"infected\")|a$Treatmentgroup==c(\"combo\")))\n",
    "head(features_pos)\n",
    "dim(features_pos)"
   ]
  },
  {
   "cell_type": "code",
   "execution_count": 4,
   "metadata": {
    "scrolled": false
   },
   "outputs": [
    {
     "data": {
      "text/html": [
       "<table>\n",
       "<thead><tr><th></th><th scope=col>mass_400</th><th scope=col>mass_500</th><th scope=col>mass_600</th><th scope=col>mass_700</th><th scope=col>mass_800</th></tr></thead>\n",
       "<tbody>\n",
       "\t<tr><th scope=row>16</th><td>0.06492387 </td><td>0.04990000 </td><td>0.002081265</td><td>0.006480000</td><td>0.003550676</td></tr>\n",
       "\t<tr><th scope=row>17</th><td>0.03695652 </td><td>0.06233980 </td><td>0.001795235</td><td>0.011181530</td><td>0.011186446</td></tr>\n",
       "\t<tr><th scope=row>18</th><td>0.03606943 </td><td>0.05150000 </td><td>0.001668329</td><td>0.011848941</td><td>0.005145605</td></tr>\n",
       "\t<tr><th scope=row>19</th><td>0.03079909 </td><td>0.04567134 </td><td>0.001573917</td><td>0.003792443</td><td>0.003028223</td></tr>\n",
       "\t<tr><th scope=row>20</th><td>0.03190038 </td><td>0.05207845 </td><td>0.001750879</td><td>0.005605542</td><td>0.004331390</td></tr>\n",
       "\t<tr><th scope=row>21</th><td>0.03013410 </td><td>0.03580000 </td><td>0.001738334</td><td>0.005715424</td><td>0.003090477</td></tr>\n",
       "</tbody>\n",
       "</table>\n"
      ],
      "text/latex": [
       "\\begin{tabular}{r|lllll}\n",
       "  & mass\\_400 & mass\\_500 & mass\\_600 & mass\\_700 & mass\\_800\\\\\n",
       "\\hline\n",
       "\t16 & 0.06492387  & 0.04990000  & 0.002081265 & 0.006480000 & 0.003550676\\\\\n",
       "\t17 & 0.03695652  & 0.06233980  & 0.001795235 & 0.011181530 & 0.011186446\\\\\n",
       "\t18 & 0.03606943  & 0.05150000  & 0.001668329 & 0.011848941 & 0.005145605\\\\\n",
       "\t19 & 0.03079909  & 0.04567134  & 0.001573917 & 0.003792443 & 0.003028223\\\\\n",
       "\t20 & 0.03190038  & 0.05207845  & 0.001750879 & 0.005605542 & 0.004331390\\\\\n",
       "\t21 & 0.03013410  & 0.03580000  & 0.001738334 & 0.005715424 & 0.003090477\\\\\n",
       "\\end{tabular}\n"
      ],
      "text/markdown": [
       "\n",
       "| <!--/--> | mass_400 | mass_500 | mass_600 | mass_700 | mass_800 |\n",
       "|---|---|---|---|---|---|\n",
       "| 16 | 0.06492387  | 0.04990000  | 0.002081265 | 0.006480000 | 0.003550676 |\n",
       "| 17 | 0.03695652  | 0.06233980  | 0.001795235 | 0.011181530 | 0.011186446 |\n",
       "| 18 | 0.03606943  | 0.05150000  | 0.001668329 | 0.011848941 | 0.005145605 |\n",
       "| 19 | 0.03079909  | 0.04567134  | 0.001573917 | 0.003792443 | 0.003028223 |\n",
       "| 20 | 0.03190038  | 0.05207845  | 0.001750879 | 0.005605542 | 0.004331390 |\n",
       "| 21 | 0.03013410  | 0.03580000  | 0.001738334 | 0.005715424 | 0.003090477 |\n",
       "\n"
      ],
      "text/plain": [
       "   mass_400   mass_500   mass_600    mass_700    mass_800   \n",
       "16 0.06492387 0.04990000 0.002081265 0.006480000 0.003550676\n",
       "17 0.03695652 0.06233980 0.001795235 0.011181530 0.011186446\n",
       "18 0.03606943 0.05150000 0.001668329 0.011848941 0.005145605\n",
       "19 0.03079909 0.04567134 0.001573917 0.003792443 0.003028223\n",
       "20 0.03190038 0.05207845 0.001750879 0.005605542 0.004331390\n",
       "21 0.03013410 0.03580000 0.001738334 0.005715424 0.003090477"
      ]
     },
     "metadata": {},
     "output_type": "display_data"
    },
    {
     "data": {
      "text/html": [
       "<dl class=dl-horizontal>\n",
       "\t<dt>mass_400</dt>\n",
       "\t\t<dd>1</dd>\n",
       "\t<dt>mass_500</dt>\n",
       "\t\t<dd>2</dd>\n",
       "\t<dt>mass_600</dt>\n",
       "\t\t<dd>3</dd>\n",
       "\t<dt>mass_700</dt>\n",
       "\t\t<dd>4</dd>\n",
       "\t<dt>mass_800</dt>\n",
       "\t\t<dd>5</dd>\n",
       "</dl>\n"
      ],
      "text/latex": [
       "\\begin{description*}\n",
       "\\item[mass\\textbackslash{}\\_400] 1\n",
       "\\item[mass\\textbackslash{}\\_500] 2\n",
       "\\item[mass\\textbackslash{}\\_600] 3\n",
       "\\item[mass\\textbackslash{}\\_700] 4\n",
       "\\item[mass\\textbackslash{}\\_800] 5\n",
       "\\end{description*}\n"
      ],
      "text/markdown": [
       "mass_400\n",
       ":   1mass_500\n",
       ":   2mass_600\n",
       ":   3mass_700\n",
       ":   4mass_800\n",
       ":   5\n",
       "\n"
      ],
      "text/plain": [
       "mass_400 mass_500 mass_600 mass_700 mass_800 \n",
       "       1        2        3        4        5 "
      ]
     },
     "metadata": {},
     "output_type": "display_data"
    },
    {
     "data": {
      "text/html": [
       "<table>\n",
       "<thead><tr><th></th><th scope=col>mass_400</th><th scope=col>mass_500</th><th scope=col>mass_600</th><th scope=col>mass_700</th><th scope=col>mass_800</th></tr></thead>\n",
       "<tbody>\n",
       "\t<tr><th scope=row>16</th><td>0.06492387 </td><td>0.04990000 </td><td>0.002081265</td><td>0.006480000</td><td>0.003550676</td></tr>\n",
       "\t<tr><th scope=row>17</th><td>0.03695652 </td><td>0.06233980 </td><td>0.001795235</td><td>0.011181530</td><td>0.011186446</td></tr>\n",
       "\t<tr><th scope=row>18</th><td>0.03606943 </td><td>0.05150000 </td><td>0.001668329</td><td>0.011848941</td><td>0.005145605</td></tr>\n",
       "\t<tr><th scope=row>19</th><td>0.03079909 </td><td>0.04567134 </td><td>0.001573917</td><td>0.003792443</td><td>0.003028223</td></tr>\n",
       "\t<tr><th scope=row>20</th><td>0.03190038 </td><td>0.05207845 </td><td>0.001750879</td><td>0.005605542</td><td>0.004331390</td></tr>\n",
       "\t<tr><th scope=row>21</th><td>0.03013410 </td><td>0.03580000 </td><td>0.001738334</td><td>0.005715424</td><td>0.003090477</td></tr>\n",
       "\t<tr><th scope=row>22</th><td>0.02250190 </td><td>0.02930073 </td><td>0.000884736</td><td>0.000342308</td><td>0.000251999</td></tr>\n",
       "\t<tr><th scope=row>23</th><td>0.03934998 </td><td>0.06410000 </td><td>0.001978019</td><td>0.004733783</td><td>0.004661582</td></tr>\n",
       "\t<tr><th scope=row>24</th><td>0.06329180 </td><td>0.07286291 </td><td>0.002511262</td><td>0.004672052</td><td>0.002819729</td></tr>\n",
       "\t<tr><th scope=row>25</th><td>0.03578245 </td><td>0.04340000 </td><td>0.001723822</td><td>0.009723075</td><td>0.003391698</td></tr>\n",
       "\t<tr><th scope=row>31</th><td>0.03855542 </td><td>0.05790084 </td><td>0.001962230</td><td>0.005031554</td><td>0.009107090</td></tr>\n",
       "\t<tr><th scope=row>32</th><td>0.02662595 </td><td>0.04719623 </td><td>0.001176466</td><td>0.005823454</td><td>0.003236471</td></tr>\n",
       "\t<tr><th scope=row>33</th><td>0.03630949 </td><td>0.03839176 </td><td>0.001361896</td><td>0.004820534</td><td>0.002002947</td></tr>\n",
       "\t<tr><th scope=row>34</th><td>0.03215234 </td><td>0.04214292 </td><td>0.001482590</td><td>0.006072011</td><td>0.003178160</td></tr>\n",
       "\t<tr><th scope=row>35</th><td>0.04624580 </td><td>0.04421636 </td><td>0.001810607</td><td>0.004516918</td><td>0.003264402</td></tr>\n",
       "\t<tr><th scope=row>36</th><td>0.02888932 </td><td>0.03256243 </td><td>0.001216990</td><td>0.003754989</td><td>0.001930663</td></tr>\n",
       "\t<tr><th scope=row>37</th><td>0.02934560 </td><td>0.05805981 </td><td>0.001557489</td><td>0.000971621</td><td>0.003129020</td></tr>\n",
       "\t<tr><th scope=row>38</th><td>0.03532611 </td><td>0.03198457 </td><td>0.000828481</td><td>0.002088909</td><td>0.000077000</td></tr>\n",
       "\t<tr><th scope=row>39</th><td>0.05787392 </td><td>0.07091515 </td><td>0.002465199</td><td>0.009619538</td><td>0.005728825</td></tr>\n",
       "\t<tr><th scope=row>40</th><td>0.04181284 </td><td>0.05405884 </td><td>0.001554849</td><td>0.004622432</td><td>0.004314007</td></tr>\n",
       "\t<tr><th scope=row>46</th><td>0.04261410 </td><td>0.04887115 </td><td>0.001868185</td><td>0.002973236</td><td>0.001972893</td></tr>\n",
       "\t<tr><th scope=row>47</th><td>0.02056699 </td><td>0.02700585 </td><td>0.000453372</td><td>0.003795169</td><td>0.004026340</td></tr>\n",
       "\t<tr><th scope=row>48</th><td>0.03318064 </td><td>0.03756626 </td><td>0.001379367</td><td>0.002327283</td><td>0.002510670</td></tr>\n",
       "\t<tr><th scope=row>49</th><td>0.02314307 </td><td>0.02976162 </td><td>0.000706995</td><td>0.003708450</td><td>0.003977562</td></tr>\n",
       "\t<tr><th scope=row>50</th><td>0.02717071 </td><td>0.02864066 </td><td>0.001022373</td><td>0.001074855</td><td>0.000866407</td></tr>\n",
       "\t<tr><th scope=row>51</th><td>0.02391911 </td><td>0.02871472 </td><td>0.000648767</td><td>0.002954901</td><td>0.001363521</td></tr>\n",
       "\t<tr><th scope=row>52</th><td>0.03679544 </td><td>0.03988076 </td><td>0.001108911</td><td>0.000279956</td><td>0.000000000</td></tr>\n",
       "\t<tr><th scope=row>53</th><td>0.05080697 </td><td>0.06074374 </td><td>0.001309832</td><td>0.007286327</td><td>0.008781906</td></tr>\n",
       "\t<tr><th scope=row>54</th><td>0.03468035 </td><td>0.04790000 </td><td>0.001104335</td><td>0.010547371</td><td>0.003041247</td></tr>\n",
       "\t<tr><th scope=row>55</th><td>0.04069596 </td><td>0.04779212 </td><td>0.001387168</td><td>0.011644830</td><td>0.008797624</td></tr>\n",
       "</tbody>\n",
       "</table>\n"
      ],
      "text/latex": [
       "\\begin{tabular}{r|lllll}\n",
       "  & mass\\_400 & mass\\_500 & mass\\_600 & mass\\_700 & mass\\_800\\\\\n",
       "\\hline\n",
       "\t16 & 0.06492387  & 0.04990000  & 0.002081265 & 0.006480000 & 0.003550676\\\\\n",
       "\t17 & 0.03695652  & 0.06233980  & 0.001795235 & 0.011181530 & 0.011186446\\\\\n",
       "\t18 & 0.03606943  & 0.05150000  & 0.001668329 & 0.011848941 & 0.005145605\\\\\n",
       "\t19 & 0.03079909  & 0.04567134  & 0.001573917 & 0.003792443 & 0.003028223\\\\\n",
       "\t20 & 0.03190038  & 0.05207845  & 0.001750879 & 0.005605542 & 0.004331390\\\\\n",
       "\t21 & 0.03013410  & 0.03580000  & 0.001738334 & 0.005715424 & 0.003090477\\\\\n",
       "\t22 & 0.02250190  & 0.02930073  & 0.000884736 & 0.000342308 & 0.000251999\\\\\n",
       "\t23 & 0.03934998  & 0.06410000  & 0.001978019 & 0.004733783 & 0.004661582\\\\\n",
       "\t24 & 0.06329180  & 0.07286291  & 0.002511262 & 0.004672052 & 0.002819729\\\\\n",
       "\t25 & 0.03578245  & 0.04340000  & 0.001723822 & 0.009723075 & 0.003391698\\\\\n",
       "\t31 & 0.03855542  & 0.05790084  & 0.001962230 & 0.005031554 & 0.009107090\\\\\n",
       "\t32 & 0.02662595  & 0.04719623  & 0.001176466 & 0.005823454 & 0.003236471\\\\\n",
       "\t33 & 0.03630949  & 0.03839176  & 0.001361896 & 0.004820534 & 0.002002947\\\\\n",
       "\t34 & 0.03215234  & 0.04214292  & 0.001482590 & 0.006072011 & 0.003178160\\\\\n",
       "\t35 & 0.04624580  & 0.04421636  & 0.001810607 & 0.004516918 & 0.003264402\\\\\n",
       "\t36 & 0.02888932  & 0.03256243  & 0.001216990 & 0.003754989 & 0.001930663\\\\\n",
       "\t37 & 0.02934560  & 0.05805981  & 0.001557489 & 0.000971621 & 0.003129020\\\\\n",
       "\t38 & 0.03532611  & 0.03198457  & 0.000828481 & 0.002088909 & 0.000077000\\\\\n",
       "\t39 & 0.05787392  & 0.07091515  & 0.002465199 & 0.009619538 & 0.005728825\\\\\n",
       "\t40 & 0.04181284  & 0.05405884  & 0.001554849 & 0.004622432 & 0.004314007\\\\\n",
       "\t46 & 0.04261410  & 0.04887115  & 0.001868185 & 0.002973236 & 0.001972893\\\\\n",
       "\t47 & 0.02056699  & 0.02700585  & 0.000453372 & 0.003795169 & 0.004026340\\\\\n",
       "\t48 & 0.03318064  & 0.03756626  & 0.001379367 & 0.002327283 & 0.002510670\\\\\n",
       "\t49 & 0.02314307  & 0.02976162  & 0.000706995 & 0.003708450 & 0.003977562\\\\\n",
       "\t50 & 0.02717071  & 0.02864066  & 0.001022373 & 0.001074855 & 0.000866407\\\\\n",
       "\t51 & 0.02391911  & 0.02871472  & 0.000648767 & 0.002954901 & 0.001363521\\\\\n",
       "\t52 & 0.03679544  & 0.03988076  & 0.001108911 & 0.000279956 & 0.000000000\\\\\n",
       "\t53 & 0.05080697  & 0.06074374  & 0.001309832 & 0.007286327 & 0.008781906\\\\\n",
       "\t54 & 0.03468035  & 0.04790000  & 0.001104335 & 0.010547371 & 0.003041247\\\\\n",
       "\t55 & 0.04069596  & 0.04779212  & 0.001387168 & 0.011644830 & 0.008797624\\\\\n",
       "\\end{tabular}\n"
      ],
      "text/markdown": [
       "\n",
       "| <!--/--> | mass_400 | mass_500 | mass_600 | mass_700 | mass_800 |\n",
       "|---|---|---|---|---|---|\n",
       "| 16 | 0.06492387  | 0.04990000  | 0.002081265 | 0.006480000 | 0.003550676 |\n",
       "| 17 | 0.03695652  | 0.06233980  | 0.001795235 | 0.011181530 | 0.011186446 |\n",
       "| 18 | 0.03606943  | 0.05150000  | 0.001668329 | 0.011848941 | 0.005145605 |\n",
       "| 19 | 0.03079909  | 0.04567134  | 0.001573917 | 0.003792443 | 0.003028223 |\n",
       "| 20 | 0.03190038  | 0.05207845  | 0.001750879 | 0.005605542 | 0.004331390 |\n",
       "| 21 | 0.03013410  | 0.03580000  | 0.001738334 | 0.005715424 | 0.003090477 |\n",
       "| 22 | 0.02250190  | 0.02930073  | 0.000884736 | 0.000342308 | 0.000251999 |\n",
       "| 23 | 0.03934998  | 0.06410000  | 0.001978019 | 0.004733783 | 0.004661582 |\n",
       "| 24 | 0.06329180  | 0.07286291  | 0.002511262 | 0.004672052 | 0.002819729 |\n",
       "| 25 | 0.03578245  | 0.04340000  | 0.001723822 | 0.009723075 | 0.003391698 |\n",
       "| 31 | 0.03855542  | 0.05790084  | 0.001962230 | 0.005031554 | 0.009107090 |\n",
       "| 32 | 0.02662595  | 0.04719623  | 0.001176466 | 0.005823454 | 0.003236471 |\n",
       "| 33 | 0.03630949  | 0.03839176  | 0.001361896 | 0.004820534 | 0.002002947 |\n",
       "| 34 | 0.03215234  | 0.04214292  | 0.001482590 | 0.006072011 | 0.003178160 |\n",
       "| 35 | 0.04624580  | 0.04421636  | 0.001810607 | 0.004516918 | 0.003264402 |\n",
       "| 36 | 0.02888932  | 0.03256243  | 0.001216990 | 0.003754989 | 0.001930663 |\n",
       "| 37 | 0.02934560  | 0.05805981  | 0.001557489 | 0.000971621 | 0.003129020 |\n",
       "| 38 | 0.03532611  | 0.03198457  | 0.000828481 | 0.002088909 | 0.000077000 |\n",
       "| 39 | 0.05787392  | 0.07091515  | 0.002465199 | 0.009619538 | 0.005728825 |\n",
       "| 40 | 0.04181284  | 0.05405884  | 0.001554849 | 0.004622432 | 0.004314007 |\n",
       "| 46 | 0.04261410  | 0.04887115  | 0.001868185 | 0.002973236 | 0.001972893 |\n",
       "| 47 | 0.02056699  | 0.02700585  | 0.000453372 | 0.003795169 | 0.004026340 |\n",
       "| 48 | 0.03318064  | 0.03756626  | 0.001379367 | 0.002327283 | 0.002510670 |\n",
       "| 49 | 0.02314307  | 0.02976162  | 0.000706995 | 0.003708450 | 0.003977562 |\n",
       "| 50 | 0.02717071  | 0.02864066  | 0.001022373 | 0.001074855 | 0.000866407 |\n",
       "| 51 | 0.02391911  | 0.02871472  | 0.000648767 | 0.002954901 | 0.001363521 |\n",
       "| 52 | 0.03679544  | 0.03988076  | 0.001108911 | 0.000279956 | 0.000000000 |\n",
       "| 53 | 0.05080697  | 0.06074374  | 0.001309832 | 0.007286327 | 0.008781906 |\n",
       "| 54 | 0.03468035  | 0.04790000  | 0.001104335 | 0.010547371 | 0.003041247 |\n",
       "| 55 | 0.04069596  | 0.04779212  | 0.001387168 | 0.011644830 | 0.008797624 |\n",
       "\n"
      ],
      "text/plain": [
       "   mass_400   mass_500   mass_600    mass_700    mass_800   \n",
       "16 0.06492387 0.04990000 0.002081265 0.006480000 0.003550676\n",
       "17 0.03695652 0.06233980 0.001795235 0.011181530 0.011186446\n",
       "18 0.03606943 0.05150000 0.001668329 0.011848941 0.005145605\n",
       "19 0.03079909 0.04567134 0.001573917 0.003792443 0.003028223\n",
       "20 0.03190038 0.05207845 0.001750879 0.005605542 0.004331390\n",
       "21 0.03013410 0.03580000 0.001738334 0.005715424 0.003090477\n",
       "22 0.02250190 0.02930073 0.000884736 0.000342308 0.000251999\n",
       "23 0.03934998 0.06410000 0.001978019 0.004733783 0.004661582\n",
       "24 0.06329180 0.07286291 0.002511262 0.004672052 0.002819729\n",
       "25 0.03578245 0.04340000 0.001723822 0.009723075 0.003391698\n",
       "31 0.03855542 0.05790084 0.001962230 0.005031554 0.009107090\n",
       "32 0.02662595 0.04719623 0.001176466 0.005823454 0.003236471\n",
       "33 0.03630949 0.03839176 0.001361896 0.004820534 0.002002947\n",
       "34 0.03215234 0.04214292 0.001482590 0.006072011 0.003178160\n",
       "35 0.04624580 0.04421636 0.001810607 0.004516918 0.003264402\n",
       "36 0.02888932 0.03256243 0.001216990 0.003754989 0.001930663\n",
       "37 0.02934560 0.05805981 0.001557489 0.000971621 0.003129020\n",
       "38 0.03532611 0.03198457 0.000828481 0.002088909 0.000077000\n",
       "39 0.05787392 0.07091515 0.002465199 0.009619538 0.005728825\n",
       "40 0.04181284 0.05405884 0.001554849 0.004622432 0.004314007\n",
       "46 0.04261410 0.04887115 0.001868185 0.002973236 0.001972893\n",
       "47 0.02056699 0.02700585 0.000453372 0.003795169 0.004026340\n",
       "48 0.03318064 0.03756626 0.001379367 0.002327283 0.002510670\n",
       "49 0.02314307 0.02976162 0.000706995 0.003708450 0.003977562\n",
       "50 0.02717071 0.02864066 0.001022373 0.001074855 0.000866407\n",
       "51 0.02391911 0.02871472 0.000648767 0.002954901 0.001363521\n",
       "52 0.03679544 0.03988076 0.001108911 0.000279956 0.000000000\n",
       "53 0.05080697 0.06074374 0.001309832 0.007286327 0.008781906\n",
       "54 0.03468035 0.04790000 0.001104335 0.010547371 0.003041247\n",
       "55 0.04069596 0.04779212 0.001387168 0.011644830 0.008797624"
      ]
     },
     "metadata": {},
     "output_type": "display_data"
    },
    {
     "data": {
      "text/html": [
       "<table>\n",
       "<thead><tr><th></th><th scope=col>filename</th><th scope=col>MouseID</th><th scope=col>Treatmentgroup</th><th scope=col>DPI</th><th scope=col>organ</th><th scope=col>well_position</th><th scope=col>plate</th><th scope=col>mass_400</th><th scope=col>mass_500</th><th scope=col>mass_600</th><th scope=col>mass_700</th><th scope=col>mass_800</th></tr></thead>\n",
       "<tbody>\n",
       "\t<tr><th scope=row>16</th><td>X581_Group3E_142dpi_LV_bottom_176_G_B4_P132.mzXML</td><td>581                                              </td><td>infected                                         </td><td>142dpi                                           </td><td>LV_bottom                                        </td><td>B4                                               </td><td>P132                                             </td><td>0.06492387                                       </td><td>0.04990000                                       </td><td>0.002081265                                      </td><td>0.006480000                                      </td><td>0.003550676                                      </td></tr>\n",
       "\t<tr><th scope=row>17</th><td>X582_Group3E_142dpi_LV_bottom_177_G_B5_P132.mzXML</td><td>582                                              </td><td>infected                                         </td><td>142dpi                                           </td><td>LV_bottom                                        </td><td>B5                                               </td><td>P132                                             </td><td>0.03695652                                       </td><td>0.06233980                                       </td><td>0.001795235                                      </td><td>0.011181530                                      </td><td>0.011186446                                      </td></tr>\n",
       "\t<tr><th scope=row>18</th><td>X583_Group3E_142dpi_LV_bottom_178_G_B6_P132.mzXML</td><td>583                                              </td><td>infected                                         </td><td>142dpi                                           </td><td>LV_bottom                                        </td><td>B6                                               </td><td>P132                                             </td><td>0.03606943                                       </td><td>0.05150000                                       </td><td>0.001668329                                      </td><td>0.011848941                                      </td><td>0.005145605                                      </td></tr>\n",
       "\t<tr><th scope=row>19</th><td>X584_Group3E_142dpi_LV_bottom_179_G_B7_P132.mzXML</td><td>584                                              </td><td>infected                                         </td><td>142dpi                                           </td><td>LV_bottom                                        </td><td>B7                                               </td><td>P132                                             </td><td>0.03079909                                       </td><td>0.04567134                                       </td><td>0.001573917                                      </td><td>0.003792443                                      </td><td>0.003028223                                      </td></tr>\n",
       "\t<tr><th scope=row>20</th><td>X585_Group3E_142dpi_LV_bottom_180_G_B8_P132.mzXML</td><td>585                                              </td><td>infected                                         </td><td>142dpi                                           </td><td>LV_bottom                                        </td><td>B8                                               </td><td>P132                                             </td><td>0.03190038                                       </td><td>0.05207845                                       </td><td>0.001750879                                      </td><td>0.005605542                                      </td><td>0.004331390                                      </td></tr>\n",
       "\t<tr><th scope=row>21</th><td>X611_Group9_142dpi_LV_bottom_181_G_B9_P132.mzXML </td><td>611                                              </td><td>combo                                            </td><td>142dpi                                           </td><td>LV_bottom                                        </td><td>B9                                               </td><td>P132                                             </td><td>0.03013410                                       </td><td>0.03580000                                       </td><td>0.001738334                                      </td><td>0.005715424                                      </td><td>0.003090477                                      </td></tr>\n",
       "</tbody>\n",
       "</table>\n"
      ],
      "text/latex": [
       "\\begin{tabular}{r|llllllllllll}\n",
       "  & filename & MouseID & Treatmentgroup & DPI & organ & well\\_position & plate & mass\\_400 & mass\\_500 & mass\\_600 & mass\\_700 & mass\\_800\\\\\n",
       "\\hline\n",
       "\t16 & X581\\_Group3E\\_142dpi\\_LV\\_bottom\\_176\\_G\\_B4\\_P132.mzXML & 581                                                               & infected                                                          & 142dpi                                                            & LV\\_bottom                                                       & B4                                                                & P132                                                              & 0.06492387                                                        & 0.04990000                                                        & 0.002081265                                                       & 0.006480000                                                       & 0.003550676                                                      \\\\\n",
       "\t17 & X582\\_Group3E\\_142dpi\\_LV\\_bottom\\_177\\_G\\_B5\\_P132.mzXML & 582                                                               & infected                                                          & 142dpi                                                            & LV\\_bottom                                                       & B5                                                                & P132                                                              & 0.03695652                                                        & 0.06233980                                                        & 0.001795235                                                       & 0.011181530                                                       & 0.011186446                                                      \\\\\n",
       "\t18 & X583\\_Group3E\\_142dpi\\_LV\\_bottom\\_178\\_G\\_B6\\_P132.mzXML & 583                                                               & infected                                                          & 142dpi                                                            & LV\\_bottom                                                       & B6                                                                & P132                                                              & 0.03606943                                                        & 0.05150000                                                        & 0.001668329                                                       & 0.011848941                                                       & 0.005145605                                                      \\\\\n",
       "\t19 & X584\\_Group3E\\_142dpi\\_LV\\_bottom\\_179\\_G\\_B7\\_P132.mzXML & 584                                                               & infected                                                          & 142dpi                                                            & LV\\_bottom                                                       & B7                                                                & P132                                                              & 0.03079909                                                        & 0.04567134                                                        & 0.001573917                                                       & 0.003792443                                                       & 0.003028223                                                      \\\\\n",
       "\t20 & X585\\_Group3E\\_142dpi\\_LV\\_bottom\\_180\\_G\\_B8\\_P132.mzXML & 585                                                               & infected                                                          & 142dpi                                                            & LV\\_bottom                                                       & B8                                                                & P132                                                              & 0.03190038                                                        & 0.05207845                                                        & 0.001750879                                                       & 0.005605542                                                       & 0.004331390                                                      \\\\\n",
       "\t21 & X611\\_Group9\\_142dpi\\_LV\\_bottom\\_181\\_G\\_B9\\_P132.mzXML  & 611                                                               & combo                                                             & 142dpi                                                            & LV\\_bottom                                                       & B9                                                                & P132                                                              & 0.03013410                                                        & 0.03580000                                                        & 0.001738334                                                       & 0.005715424                                                       & 0.003090477                                                      \\\\\n",
       "\\end{tabular}\n"
      ],
      "text/markdown": [
       "\n",
       "| <!--/--> | filename | MouseID | Treatmentgroup | DPI | organ | well_position | plate | mass_400 | mass_500 | mass_600 | mass_700 | mass_800 |\n",
       "|---|---|---|---|---|---|---|---|---|---|---|---|---|\n",
       "| 16 | X581_Group3E_142dpi_LV_bottom_176_G_B4_P132.mzXML | 581                                               | infected                                          | 142dpi                                            | LV_bottom                                         | B4                                                | P132                                              | 0.06492387                                        | 0.04990000                                        | 0.002081265                                       | 0.006480000                                       | 0.003550676                                       |\n",
       "| 17 | X582_Group3E_142dpi_LV_bottom_177_G_B5_P132.mzXML | 582                                               | infected                                          | 142dpi                                            | LV_bottom                                         | B5                                                | P132                                              | 0.03695652                                        | 0.06233980                                        | 0.001795235                                       | 0.011181530                                       | 0.011186446                                       |\n",
       "| 18 | X583_Group3E_142dpi_LV_bottom_178_G_B6_P132.mzXML | 583                                               | infected                                          | 142dpi                                            | LV_bottom                                         | B6                                                | P132                                              | 0.03606943                                        | 0.05150000                                        | 0.001668329                                       | 0.011848941                                       | 0.005145605                                       |\n",
       "| 19 | X584_Group3E_142dpi_LV_bottom_179_G_B7_P132.mzXML | 584                                               | infected                                          | 142dpi                                            | LV_bottom                                         | B7                                                | P132                                              | 0.03079909                                        | 0.04567134                                        | 0.001573917                                       | 0.003792443                                       | 0.003028223                                       |\n",
       "| 20 | X585_Group3E_142dpi_LV_bottom_180_G_B8_P132.mzXML | 585                                               | infected                                          | 142dpi                                            | LV_bottom                                         | B8                                                | P132                                              | 0.03190038                                        | 0.05207845                                        | 0.001750879                                       | 0.005605542                                       | 0.004331390                                       |\n",
       "| 21 | X611_Group9_142dpi_LV_bottom_181_G_B9_P132.mzXML  | 611                                               | combo                                             | 142dpi                                            | LV_bottom                                         | B9                                                | P132                                              | 0.03013410                                        | 0.03580000                                        | 0.001738334                                       | 0.005715424                                       | 0.003090477                                       |\n",
       "\n"
      ],
      "text/plain": [
       "   filename                                          MouseID Treatmentgroup\n",
       "16 X581_Group3E_142dpi_LV_bottom_176_G_B4_P132.mzXML 581     infected      \n",
       "17 X582_Group3E_142dpi_LV_bottom_177_G_B5_P132.mzXML 582     infected      \n",
       "18 X583_Group3E_142dpi_LV_bottom_178_G_B6_P132.mzXML 583     infected      \n",
       "19 X584_Group3E_142dpi_LV_bottom_179_G_B7_P132.mzXML 584     infected      \n",
       "20 X585_Group3E_142dpi_LV_bottom_180_G_B8_P132.mzXML 585     infected      \n",
       "21 X611_Group9_142dpi_LV_bottom_181_G_B9_P132.mzXML  611     combo         \n",
       "   DPI    organ     well_position plate mass_400   mass_500   mass_600   \n",
       "16 142dpi LV_bottom B4            P132  0.06492387 0.04990000 0.002081265\n",
       "17 142dpi LV_bottom B5            P132  0.03695652 0.06233980 0.001795235\n",
       "18 142dpi LV_bottom B6            P132  0.03606943 0.05150000 0.001668329\n",
       "19 142dpi LV_bottom B7            P132  0.03079909 0.04567134 0.001573917\n",
       "20 142dpi LV_bottom B8            P132  0.03190038 0.05207845 0.001750879\n",
       "21 142dpi LV_bottom B9            P132  0.03013410 0.03580000 0.001738334\n",
       "   mass_700    mass_800   \n",
       "16 0.006480000 0.003550676\n",
       "17 0.011181530 0.011186446\n",
       "18 0.011848941 0.005145605\n",
       "19 0.003792443 0.003028223\n",
       "20 0.005605542 0.004331390\n",
       "21 0.005715424 0.003090477"
      ]
     },
     "metadata": {},
     "output_type": "display_data"
    },
    {
     "data": {
      "text/html": [
       "<ol class=list-inline>\n",
       "\t<li>30</li>\n",
       "\t<li>12</li>\n",
       "</ol>\n"
      ],
      "text/latex": [
       "\\begin{enumerate*}\n",
       "\\item 30\n",
       "\\item 12\n",
       "\\end{enumerate*}\n"
      ],
      "text/markdown": [
       "1. 30\n",
       "2. 12\n",
       "\n",
       "\n"
      ],
      "text/plain": [
       "[1] 30 12"
      ]
     },
     "metadata": {},
     "output_type": "display_data"
    },
    {
     "data": {
      "text/html": [
       "<ol class=list-inline>\n",
       "\t<li>30</li>\n",
       "\t<li>5</li>\n",
       "</ol>\n"
      ],
      "text/latex": [
       "\\begin{enumerate*}\n",
       "\\item 30\n",
       "\\item 5\n",
       "\\end{enumerate*}\n"
      ],
      "text/markdown": [
       "1. 30\n",
       "2. 5\n",
       "\n",
       "\n"
      ],
      "text/plain": [
       "[1] 30  5"
      ]
     },
     "metadata": {},
     "output_type": "display_data"
    },
    {
     "data": {
      "text/html": [
       "<ol class=list-inline>\n",
       "\t<li>30</li>\n",
       "\t<li>5</li>\n",
       "</ol>\n"
      ],
      "text/latex": [
       "\\begin{enumerate*}\n",
       "\\item 30\n",
       "\\item 5\n",
       "\\end{enumerate*}\n"
      ],
      "text/markdown": [
       "1. 30\n",
       "2. 5\n",
       "\n",
       "\n"
      ],
      "text/plain": [
       "[1] 30  5"
      ]
     },
     "metadata": {},
     "output_type": "display_data"
    },
    {
     "data": {
      "text/html": [
       "<ol class=list-inline>\n",
       "\t<li>30</li>\n",
       "\t<li>12</li>\n",
       "</ol>\n"
      ],
      "text/latex": [
       "\\begin{enumerate*}\n",
       "\\item 30\n",
       "\\item 12\n",
       "\\end{enumerate*}\n"
      ],
      "text/markdown": [
       "1. 30\n",
       "2. 12\n",
       "\n",
       "\n"
      ],
      "text/plain": [
       "[1] 30 12"
      ]
     },
     "metadata": {},
     "output_type": "display_data"
    }
   ],
   "source": [
    "noMeta<-features_pos[,8:12]\n",
    "head(noMeta)\n",
    "not_zero<-which(colSums(noMeta) != 0)\n",
    "head(not_zero)\n",
    "nonzero <- noMeta[, not_zero]\n",
    "nonzero\n",
    "nonzero_wMeta<-cbind(features_pos[,1:7], nonzero)\n",
    "head(nonzero_wMeta)\n",
    "dim(features_pos)\n",
    "dim(noMeta)\n",
    "dim(nonzero)\n",
    "dim(nonzero_wMeta)"
   ]
  },
  {
   "cell_type": "code",
   "execution_count": 5,
   "metadata": {
    "scrolled": true
   },
   "outputs": [
    {
     "data": {
      "text/html": [
       "<ol class=list-inline>\n",
       "\t<li>0.566774494589651</li>\n",
       "\t<li>0.539298539584697</li>\n",
       "\t<li>0.65287003041307</li>\n",
       "\t<li>0.743702065375981</li>\n",
       "\t<li>0.389233298727313</li>\n",
       "</ol>\n"
      ],
      "text/latex": [
       "\\begin{enumerate*}\n",
       "\\item 0.566774494589651\n",
       "\\item 0.539298539584697\n",
       "\\item 0.65287003041307\n",
       "\\item 0.743702065375981\n",
       "\\item 0.389233298727313\n",
       "\\end{enumerate*}\n"
      ],
      "text/markdown": [
       "1. 0.566774494589651\n",
       "2. 0.539298539584697\n",
       "3. 0.65287003041307\n",
       "4. 0.743702065375981\n",
       "5. 0.389233298727313\n",
       "\n",
       "\n"
      ],
      "text/plain": [
       "[1] 0.5667745 0.5392985 0.6528700 0.7437021 0.3892333"
      ]
     },
     "metadata": {},
     "output_type": "display_data"
    },
    {
     "data": {
      "text/html": [
       "<ol class=list-inline>\n",
       "\t<li>0.743702065375981</li>\n",
       "\t<li>0.743702065375981</li>\n",
       "\t<li>0.743702065375981</li>\n",
       "\t<li>0.743702065375981</li>\n",
       "\t<li>0.743702065375981</li>\n",
       "</ol>\n"
      ],
      "text/latex": [
       "\\begin{enumerate*}\n",
       "\\item 0.743702065375981\n",
       "\\item 0.743702065375981\n",
       "\\item 0.743702065375981\n",
       "\\item 0.743702065375981\n",
       "\\item 0.743702065375981\n",
       "\\end{enumerate*}\n"
      ],
      "text/markdown": [
       "1. 0.743702065375981\n",
       "2. 0.743702065375981\n",
       "3. 0.743702065375981\n",
       "4. 0.743702065375981\n",
       "5. 0.743702065375981\n",
       "\n",
       "\n"
      ],
      "text/plain": [
       "[1] 0.7437021 0.7437021 0.7437021 0.7437021 0.7437021"
      ]
     },
     "metadata": {},
     "output_type": "display_data"
    }
   ],
   "source": [
    "pval<-c()\n",
    "\n",
    "for (i in 8:ncol(nonzero_wMeta)) \n",
    "pval<-c(pval,wilcox.test(nonzero_wMeta[,i]~nonzero_wMeta$Treatmentgroup)$p.value)\n",
    "head(pval)\n",
    "pAdj <- p.adjust(pval, method = c(\"fdr\"), n=length(pval)) \n",
    "head(pAdj) \n",
    "\n"
   ]
  },
  {
   "cell_type": "code",
   "execution_count": 6,
   "metadata": {
    "scrolled": true
   },
   "outputs": [
    {
     "data": {
      "text/html": [
       "5"
      ],
      "text/latex": [
       "5"
      ],
      "text/markdown": [
       "5"
      ],
      "text/plain": [
       "[1] 5"
      ]
     },
     "metadata": {},
     "output_type": "display_data"
    }
   ],
   "source": [
    "length(pval)"
   ]
  },
  {
   "cell_type": "code",
   "execution_count": 7,
   "metadata": {
    "scrolled": true
   },
   "outputs": [
    {
     "data": {
      "text/html": [
       "5"
      ],
      "text/latex": [
       "5"
      ],
      "text/markdown": [
       "5"
      ],
      "text/plain": [
       "[1] 5"
      ]
     },
     "metadata": {},
     "output_type": "display_data"
    }
   ],
   "source": [
    "length(pAdj)"
   ]
  },
  {
   "cell_type": "code",
   "execution_count": 8,
   "metadata": {},
   "outputs": [
    {
     "data": {
      "text/html": [
       "<ol class=list-inline>\n",
       "\t<li>2</li>\n",
       "\t<li>5</li>\n",
       "</ol>\n"
      ],
      "text/latex": [
       "\\begin{enumerate*}\n",
       "\\item 2\n",
       "\\item 5\n",
       "\\end{enumerate*}\n"
      ],
      "text/markdown": [
       "1. 2\n",
       "2. 5\n",
       "\n",
       "\n"
      ],
      "text/plain": [
       "[1] 2 5"
      ]
     },
     "metadata": {},
     "output_type": "display_data"
    },
    {
     "data": {
      "text/html": [
       "<table>\n",
       "<thead><tr><th></th><th scope=col>mass_400</th><th scope=col>mass_500</th><th scope=col>mass_600</th></tr></thead>\n",
       "<tbody>\n",
       "\t<tr><th scope=row>combo</th><td>0.03808039 </td><td>0.04787172 </td><td>0.001467880</td></tr>\n",
       "\t<tr><th scope=row>infected</th><td>0.03514759 </td><td>0.04421222 </td><td>0.001472914</td></tr>\n",
       "</tbody>\n",
       "</table>\n"
      ],
      "text/latex": [
       "\\begin{tabular}{r|lll}\n",
       "  & mass\\_400 & mass\\_500 & mass\\_600\\\\\n",
       "\\hline\n",
       "\tcombo & 0.03808039  & 0.04787172  & 0.001467880\\\\\n",
       "\tinfected & 0.03514759  & 0.04421222  & 0.001472914\\\\\n",
       "\\end{tabular}\n"
      ],
      "text/markdown": [
       "\n",
       "| <!--/--> | mass_400 | mass_500 | mass_600 |\n",
       "|---|---|---|---|\n",
       "| combo | 0.03808039  | 0.04787172  | 0.001467880 |\n",
       "| infected | 0.03514759  | 0.04421222  | 0.001472914 |\n",
       "\n"
      ],
      "text/plain": [
       "         mass_400   mass_500   mass_600   \n",
       "combo    0.03808039 0.04787172 0.001467880\n",
       "infected 0.03514759 0.04421222 0.001472914"
      ]
     },
     "metadata": {},
     "output_type": "display_data"
    },
    {
     "data": {
      "text/html": [
       "<dl class=dl-horizontal>\n",
       "\t<dt>mass_400</dt>\n",
       "\t\t<dd>1.08344253033713</dd>\n",
       "\t<dt>mass_500</dt>\n",
       "\t\t<dd>1.08277128467795</dd>\n",
       "\t<dt>mass_600</dt>\n",
       "\t\t<dd>0.99658219404205</dd>\n",
       "\t<dt>mass_700</dt>\n",
       "\t\t<dd>0.998805797506247</dd>\n",
       "\t<dt>mass_800</dt>\n",
       "\t\t<dd>0.836997018275488</dd>\n",
       "</dl>\n"
      ],
      "text/latex": [
       "\\begin{description*}\n",
       "\\item[mass\\textbackslash{}\\_400] 1.08344253033713\n",
       "\\item[mass\\textbackslash{}\\_500] 1.08277128467795\n",
       "\\item[mass\\textbackslash{}\\_600] 0.99658219404205\n",
       "\\item[mass\\textbackslash{}\\_700] 0.998805797506247\n",
       "\\item[mass\\textbackslash{}\\_800] 0.836997018275488\n",
       "\\end{description*}\n"
      ],
      "text/markdown": [
       "mass_400\n",
       ":   1.08344253033713mass_500\n",
       ":   1.08277128467795mass_600\n",
       ":   0.99658219404205mass_700\n",
       ":   0.998805797506247mass_800\n",
       ":   0.836997018275488\n",
       "\n"
      ],
      "text/plain": [
       " mass_400  mass_500  mass_600  mass_700  mass_800 \n",
       "1.0834425 1.0827713 0.9965822 0.9988058 0.8369970 "
      ]
     },
     "metadata": {},
     "output_type": "display_data"
    },
    {
     "data": {
      "text/html": [
       "<ol class=list-inline>\n",
       "\t<li>'numeric'</li>\n",
       "\t<li>'vector'</li>\n",
       "</ol>\n"
      ],
      "text/latex": [
       "\\begin{enumerate*}\n",
       "\\item 'numeric'\n",
       "\\item 'vector'\n",
       "\\end{enumerate*}\n"
      ],
      "text/markdown": [
       "1. 'numeric'\n",
       "2. 'vector'\n",
       "\n",
       "\n"
      ],
      "text/plain": [
       "[1] \"numeric\" \"vector\" "
      ]
     },
     "metadata": {},
     "output_type": "display_data"
    }
   ],
   "source": [
    "avg<- apply(nonzero_wMeta[,8:ncol(nonzero_wMeta)], 2, function(x) tapply(x, nonzero_wMeta$Treatmentgroup, function(x) mean(x))) \n",
    "\n",
    "dim(avg)\n",
    "\n",
    "avg[,1:3]\n",
    "\n",
    "fch <- apply(avg, 2, function(x) x[1]/x[2])\n",
    "\n",
    "head(fch)\n",
    "is(fch)"
   ]
  },
  {
   "cell_type": "code",
   "execution_count": 9,
   "metadata": {
    "scrolled": true
   },
   "outputs": [
    {
     "data": {
      "text/html": [
       "<dl class=dl-horizontal>\n",
       "\t<dt>mass_400</dt>\n",
       "\t\t<dd>1.08344253033713</dd>\n",
       "\t<dt>mass_500</dt>\n",
       "\t\t<dd>1.08277128467795</dd>\n",
       "\t<dt>mass_600</dt>\n",
       "\t\t<dd>0.99658219404205</dd>\n",
       "\t<dt>mass_700</dt>\n",
       "\t\t<dd>0.998805797506247</dd>\n",
       "\t<dt>mass_800</dt>\n",
       "\t\t<dd>0.836997018275488</dd>\n",
       "</dl>\n"
      ],
      "text/latex": [
       "\\begin{description*}\n",
       "\\item[mass\\textbackslash{}\\_400] 1.08344253033713\n",
       "\\item[mass\\textbackslash{}\\_500] 1.08277128467795\n",
       "\\item[mass\\textbackslash{}\\_600] 0.99658219404205\n",
       "\\item[mass\\textbackslash{}\\_700] 0.998805797506247\n",
       "\\item[mass\\textbackslash{}\\_800] 0.836997018275488\n",
       "\\end{description*}\n"
      ],
      "text/markdown": [
       "mass_400\n",
       ":   1.08344253033713mass_500\n",
       ":   1.08277128467795mass_600\n",
       ":   0.99658219404205mass_700\n",
       ":   0.998805797506247mass_800\n",
       ":   0.836997018275488\n",
       "\n"
      ],
      "text/plain": [
       " mass_400  mass_500  mass_600  mass_700  mass_800 \n",
       "1.0834425 1.0827713 0.9965822 0.9988058 0.8369970 "
      ]
     },
     "metadata": {},
     "output_type": "display_data"
    }
   ],
   "source": [
    "fch"
   ]
  },
  {
   "cell_type": "code",
   "execution_count": 10,
   "metadata": {
    "scrolled": false
   },
   "outputs": [],
   "source": [
    "df <- data.frame(fch,pval, pAdj)\n",
    "write.csv(df, \"PC-treat-LVB-wilcox-infected-combo.csv\")"
   ]
  },
  {
   "cell_type": "code",
   "execution_count": null,
   "metadata": {},
   "outputs": [],
   "source": []
  },
  {
   "cell_type": "code",
   "execution_count": null,
   "metadata": {},
   "outputs": [],
   "source": []
  },
  {
   "cell_type": "code",
   "execution_count": null,
   "metadata": {},
   "outputs": [],
   "source": []
  },
  {
   "cell_type": "code",
   "execution_count": null,
   "metadata": {},
   "outputs": [],
   "source": []
  },
  {
   "cell_type": "code",
   "execution_count": null,
   "metadata": {},
   "outputs": [],
   "source": []
  },
  {
   "cell_type": "code",
   "execution_count": null,
   "metadata": {},
   "outputs": [],
   "source": []
  }
 ],
 "metadata": {
  "kernelspec": {
   "display_name": "R",
   "language": "R",
   "name": "ir"
  },
  "language_info": {
   "codemirror_mode": "r",
   "file_extension": ".r",
   "mimetype": "text/x-r-source",
   "name": "R",
   "pygments_lexer": "r",
   "version": "3.6.1"
  }
 },
 "nbformat": 4,
 "nbformat_minor": 2
}
