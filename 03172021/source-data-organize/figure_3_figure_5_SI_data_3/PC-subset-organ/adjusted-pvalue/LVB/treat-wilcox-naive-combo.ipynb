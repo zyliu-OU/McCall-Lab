{
 "cells": [
  {
   "cell_type": "code",
   "execution_count": 1,
   "metadata": {},
   "outputs": [],
   "source": [
    "a <- read.csv(\"03172021-PC-treatment-LVB-M-F.csv\")"
   ]
  },
  {
   "cell_type": "code",
   "execution_count": 2,
   "metadata": {},
   "outputs": [
    {
     "data": {
      "text/html": [
       "<table>\n",
       "<thead><tr><th scope=col>filename</th><th scope=col>MouseID</th><th scope=col>Treatmentgroup</th><th scope=col>DPI</th><th scope=col>organ</th><th scope=col>well_position</th><th scope=col>plate</th><th scope=col>mass_400</th><th scope=col>mass_500</th><th scope=col>mass_600</th><th scope=col>mass_700</th><th scope=col>mass_800</th></tr></thead>\n",
       "<tbody>\n",
       "\t<tr><td>X511_Group1C_142dpi_LV_bottom_161_G_A1_P132.mzXML</td><td>511                                              </td><td>naive                                            </td><td>142dpi                                           </td><td>LV_bottom                                        </td><td>A1                                               </td><td>P132                                             </td><td>0.04382789                                       </td><td>0.07997773                                       </td><td>0.002684053                                      </td><td>0.003825973                                      </td><td>0.000280747                                      </td></tr>\n",
       "\t<tr><td>X512_Group1C_142dpi_LV_bottom_162_G_A2_P132.mzXML</td><td>512                                              </td><td>naive                                            </td><td>142dpi                                           </td><td>LV_bottom                                        </td><td>A2                                               </td><td>P132                                             </td><td>0.03908150                                       </td><td>0.06240000                                       </td><td>0.002998300                                      </td><td>0.003632408                                      </td><td>0.001471252                                      </td></tr>\n",
       "\t<tr><td>X513_Group1C_142dpi_LV_bottom_163_G_A3_P132.mzXML</td><td>513                                              </td><td>naive                                            </td><td>142dpi                                           </td><td>LV_bottom                                        </td><td>A3                                               </td><td>P132                                             </td><td>0.03267072                                       </td><td>0.04620000                                       </td><td>0.001726274                                      </td><td>0.004220656                                      </td><td>0.002569278                                      </td></tr>\n",
       "\t<tr><td>X514_Group1C_142dpi_LV_bottom_164_G_A4_P132.mzXML</td><td>514                                              </td><td>naive                                            </td><td>142dpi                                           </td><td>LV_bottom                                        </td><td>A4                                               </td><td>P132                                             </td><td>0.04172188                                       </td><td>0.05520000                                       </td><td>0.001976908                                      </td><td>0.003830678                                      </td><td>0.000883582                                      </td></tr>\n",
       "\t<tr><td>X515_Group1C_142dpi_LV_bottom_165_G_A5_P132.mzXML</td><td>515                                              </td><td>naive                                            </td><td>142dpi                                           </td><td>LV_bottom                                        </td><td>A5                                               </td><td>P132                                             </td><td>0.03505978                                       </td><td>0.05858027                                       </td><td>0.002110626                                      </td><td>0.002231458                                      </td><td>0.001315984                                      </td></tr>\n",
       "\t<tr><td>X531_Group1C_142dpi_LV_bottom_166_G_A6_P132.mzXML</td><td>531                                              </td><td>naive                                            </td><td>142dpi                                           </td><td>LV_bottom                                        </td><td>A6                                               </td><td>P132                                             </td><td>0.03271828                                       </td><td>0.03970000                                       </td><td>0.001690467                                      </td><td>0.006136600                                      </td><td>0.002555819                                      </td></tr>\n",
       "</tbody>\n",
       "</table>\n"
      ],
      "text/latex": [
       "\\begin{tabular}{r|llllllllllll}\n",
       " filename & MouseID & Treatmentgroup & DPI & organ & well\\_position & plate & mass\\_400 & mass\\_500 & mass\\_600 & mass\\_700 & mass\\_800\\\\\n",
       "\\hline\n",
       "\t X511\\_Group1C\\_142dpi\\_LV\\_bottom\\_161\\_G\\_A1\\_P132.mzXML & 511                                                               & naive                                                             & 142dpi                                                            & LV\\_bottom                                                       & A1                                                                & P132                                                              & 0.04382789                                                        & 0.07997773                                                        & 0.002684053                                                       & 0.003825973                                                       & 0.000280747                                                      \\\\\n",
       "\t X512\\_Group1C\\_142dpi\\_LV\\_bottom\\_162\\_G\\_A2\\_P132.mzXML & 512                                                               & naive                                                             & 142dpi                                                            & LV\\_bottom                                                       & A2                                                                & P132                                                              & 0.03908150                                                        & 0.06240000                                                        & 0.002998300                                                       & 0.003632408                                                       & 0.001471252                                                      \\\\\n",
       "\t X513\\_Group1C\\_142dpi\\_LV\\_bottom\\_163\\_G\\_A3\\_P132.mzXML & 513                                                               & naive                                                             & 142dpi                                                            & LV\\_bottom                                                       & A3                                                                & P132                                                              & 0.03267072                                                        & 0.04620000                                                        & 0.001726274                                                       & 0.004220656                                                       & 0.002569278                                                      \\\\\n",
       "\t X514\\_Group1C\\_142dpi\\_LV\\_bottom\\_164\\_G\\_A4\\_P132.mzXML & 514                                                               & naive                                                             & 142dpi                                                            & LV\\_bottom                                                       & A4                                                                & P132                                                              & 0.04172188                                                        & 0.05520000                                                        & 0.001976908                                                       & 0.003830678                                                       & 0.000883582                                                      \\\\\n",
       "\t X515\\_Group1C\\_142dpi\\_LV\\_bottom\\_165\\_G\\_A5\\_P132.mzXML & 515                                                               & naive                                                             & 142dpi                                                            & LV\\_bottom                                                       & A5                                                                & P132                                                              & 0.03505978                                                        & 0.05858027                                                        & 0.002110626                                                       & 0.002231458                                                       & 0.001315984                                                      \\\\\n",
       "\t X531\\_Group1C\\_142dpi\\_LV\\_bottom\\_166\\_G\\_A6\\_P132.mzXML & 531                                                               & naive                                                             & 142dpi                                                            & LV\\_bottom                                                       & A6                                                                & P132                                                              & 0.03271828                                                        & 0.03970000                                                        & 0.001690467                                                       & 0.006136600                                                       & 0.002555819                                                      \\\\\n",
       "\\end{tabular}\n"
      ],
      "text/markdown": [
       "\n",
       "| filename | MouseID | Treatmentgroup | DPI | organ | well_position | plate | mass_400 | mass_500 | mass_600 | mass_700 | mass_800 |\n",
       "|---|---|---|---|---|---|---|---|---|---|---|---|\n",
       "| X511_Group1C_142dpi_LV_bottom_161_G_A1_P132.mzXML | 511                                               | naive                                             | 142dpi                                            | LV_bottom                                         | A1                                                | P132                                              | 0.04382789                                        | 0.07997773                                        | 0.002684053                                       | 0.003825973                                       | 0.000280747                                       |\n",
       "| X512_Group1C_142dpi_LV_bottom_162_G_A2_P132.mzXML | 512                                               | naive                                             | 142dpi                                            | LV_bottom                                         | A2                                                | P132                                              | 0.03908150                                        | 0.06240000                                        | 0.002998300                                       | 0.003632408                                       | 0.001471252                                       |\n",
       "| X513_Group1C_142dpi_LV_bottom_163_G_A3_P132.mzXML | 513                                               | naive                                             | 142dpi                                            | LV_bottom                                         | A3                                                | P132                                              | 0.03267072                                        | 0.04620000                                        | 0.001726274                                       | 0.004220656                                       | 0.002569278                                       |\n",
       "| X514_Group1C_142dpi_LV_bottom_164_G_A4_P132.mzXML | 514                                               | naive                                             | 142dpi                                            | LV_bottom                                         | A4                                                | P132                                              | 0.04172188                                        | 0.05520000                                        | 0.001976908                                       | 0.003830678                                       | 0.000883582                                       |\n",
       "| X515_Group1C_142dpi_LV_bottom_165_G_A5_P132.mzXML | 515                                               | naive                                             | 142dpi                                            | LV_bottom                                         | A5                                                | P132                                              | 0.03505978                                        | 0.05858027                                        | 0.002110626                                       | 0.002231458                                       | 0.001315984                                       |\n",
       "| X531_Group1C_142dpi_LV_bottom_166_G_A6_P132.mzXML | 531                                               | naive                                             | 142dpi                                            | LV_bottom                                         | A6                                                | P132                                              | 0.03271828                                        | 0.03970000                                        | 0.001690467                                       | 0.006136600                                       | 0.002555819                                       |\n",
       "\n"
      ],
      "text/plain": [
       "  filename                                          MouseID Treatmentgroup\n",
       "1 X511_Group1C_142dpi_LV_bottom_161_G_A1_P132.mzXML 511     naive         \n",
       "2 X512_Group1C_142dpi_LV_bottom_162_G_A2_P132.mzXML 512     naive         \n",
       "3 X513_Group1C_142dpi_LV_bottom_163_G_A3_P132.mzXML 513     naive         \n",
       "4 X514_Group1C_142dpi_LV_bottom_164_G_A4_P132.mzXML 514     naive         \n",
       "5 X515_Group1C_142dpi_LV_bottom_165_G_A5_P132.mzXML 515     naive         \n",
       "6 X531_Group1C_142dpi_LV_bottom_166_G_A6_P132.mzXML 531     naive         \n",
       "  DPI    organ     well_position plate mass_400   mass_500   mass_600   \n",
       "1 142dpi LV_bottom A1            P132  0.04382789 0.07997773 0.002684053\n",
       "2 142dpi LV_bottom A2            P132  0.03908150 0.06240000 0.002998300\n",
       "3 142dpi LV_bottom A3            P132  0.03267072 0.04620000 0.001726274\n",
       "4 142dpi LV_bottom A4            P132  0.04172188 0.05520000 0.001976908\n",
       "5 142dpi LV_bottom A5            P132  0.03505978 0.05858027 0.002110626\n",
       "6 142dpi LV_bottom A6            P132  0.03271828 0.03970000 0.001690467\n",
       "  mass_700    mass_800   \n",
       "1 0.003825973 0.000280747\n",
       "2 0.003632408 0.001471252\n",
       "3 0.004220656 0.002569278\n",
       "4 0.003830678 0.000883582\n",
       "5 0.002231458 0.001315984\n",
       "6 0.006136600 0.002555819"
      ]
     },
     "metadata": {},
     "output_type": "display_data"
    },
    {
     "data": {
      "text/html": [
       "<ol class=list-inline>\n",
       "\t<li>60</li>\n",
       "\t<li>12</li>\n",
       "</ol>\n"
      ],
      "text/latex": [
       "\\begin{enumerate*}\n",
       "\\item 60\n",
       "\\item 12\n",
       "\\end{enumerate*}\n"
      ],
      "text/markdown": [
       "1. 60\n",
       "2. 12\n",
       "\n",
       "\n"
      ],
      "text/plain": [
       "[1] 60 12"
      ]
     },
     "metadata": {},
     "output_type": "display_data"
    }
   ],
   "source": [
    "head(a)\n",
    "dim(a)"
   ]
  },
  {
   "cell_type": "code",
   "execution_count": 3,
   "metadata": {},
   "outputs": [
    {
     "data": {
      "text/html": [
       "<table>\n",
       "<thead><tr><th scope=col>filename</th><th scope=col>MouseID</th><th scope=col>Treatmentgroup</th><th scope=col>DPI</th><th scope=col>organ</th><th scope=col>well_position</th><th scope=col>plate</th><th scope=col>mass_400</th><th scope=col>mass_500</th><th scope=col>mass_600</th><th scope=col>mass_700</th><th scope=col>mass_800</th></tr></thead>\n",
       "<tbody>\n",
       "\t<tr><td>X511_Group1C_142dpi_LV_bottom_161_G_A1_P132.mzXML</td><td>511                                              </td><td>naive                                            </td><td>142dpi                                           </td><td>LV_bottom                                        </td><td>A1                                               </td><td>P132                                             </td><td>0.04382789                                       </td><td>0.07997773                                       </td><td>0.002684053                                      </td><td>0.003825973                                      </td><td>0.000280747                                      </td></tr>\n",
       "\t<tr><td>X512_Group1C_142dpi_LV_bottom_162_G_A2_P132.mzXML</td><td>512                                              </td><td>naive                                            </td><td>142dpi                                           </td><td>LV_bottom                                        </td><td>A2                                               </td><td>P132                                             </td><td>0.03908150                                       </td><td>0.06240000                                       </td><td>0.002998300                                      </td><td>0.003632408                                      </td><td>0.001471252                                      </td></tr>\n",
       "\t<tr><td>X513_Group1C_142dpi_LV_bottom_163_G_A3_P132.mzXML</td><td>513                                              </td><td>naive                                            </td><td>142dpi                                           </td><td>LV_bottom                                        </td><td>A3                                               </td><td>P132                                             </td><td>0.03267072                                       </td><td>0.04620000                                       </td><td>0.001726274                                      </td><td>0.004220656                                      </td><td>0.002569278                                      </td></tr>\n",
       "\t<tr><td>X514_Group1C_142dpi_LV_bottom_164_G_A4_P132.mzXML</td><td>514                                              </td><td>naive                                            </td><td>142dpi                                           </td><td>LV_bottom                                        </td><td>A4                                               </td><td>P132                                             </td><td>0.04172188                                       </td><td>0.05520000                                       </td><td>0.001976908                                      </td><td>0.003830678                                      </td><td>0.000883582                                      </td></tr>\n",
       "\t<tr><td>X515_Group1C_142dpi_LV_bottom_165_G_A5_P132.mzXML</td><td>515                                              </td><td>naive                                            </td><td>142dpi                                           </td><td>LV_bottom                                        </td><td>A5                                               </td><td>P132                                             </td><td>0.03505978                                       </td><td>0.05858027                                       </td><td>0.002110626                                      </td><td>0.002231458                                      </td><td>0.001315984                                      </td></tr>\n",
       "\t<tr><td>X531_Group1C_142dpi_LV_bottom_166_G_A6_P132.mzXML</td><td>531                                              </td><td>naive                                            </td><td>142dpi                                           </td><td>LV_bottom                                        </td><td>A6                                               </td><td>P132                                             </td><td>0.03271828                                       </td><td>0.03970000                                       </td><td>0.001690467                                      </td><td>0.006136600                                      </td><td>0.002555819                                      </td></tr>\n",
       "</tbody>\n",
       "</table>\n"
      ],
      "text/latex": [
       "\\begin{tabular}{r|llllllllllll}\n",
       " filename & MouseID & Treatmentgroup & DPI & organ & well\\_position & plate & mass\\_400 & mass\\_500 & mass\\_600 & mass\\_700 & mass\\_800\\\\\n",
       "\\hline\n",
       "\t X511\\_Group1C\\_142dpi\\_LV\\_bottom\\_161\\_G\\_A1\\_P132.mzXML & 511                                                               & naive                                                             & 142dpi                                                            & LV\\_bottom                                                       & A1                                                                & P132                                                              & 0.04382789                                                        & 0.07997773                                                        & 0.002684053                                                       & 0.003825973                                                       & 0.000280747                                                      \\\\\n",
       "\t X512\\_Group1C\\_142dpi\\_LV\\_bottom\\_162\\_G\\_A2\\_P132.mzXML & 512                                                               & naive                                                             & 142dpi                                                            & LV\\_bottom                                                       & A2                                                                & P132                                                              & 0.03908150                                                        & 0.06240000                                                        & 0.002998300                                                       & 0.003632408                                                       & 0.001471252                                                      \\\\\n",
       "\t X513\\_Group1C\\_142dpi\\_LV\\_bottom\\_163\\_G\\_A3\\_P132.mzXML & 513                                                               & naive                                                             & 142dpi                                                            & LV\\_bottom                                                       & A3                                                                & P132                                                              & 0.03267072                                                        & 0.04620000                                                        & 0.001726274                                                       & 0.004220656                                                       & 0.002569278                                                      \\\\\n",
       "\t X514\\_Group1C\\_142dpi\\_LV\\_bottom\\_164\\_G\\_A4\\_P132.mzXML & 514                                                               & naive                                                             & 142dpi                                                            & LV\\_bottom                                                       & A4                                                                & P132                                                              & 0.04172188                                                        & 0.05520000                                                        & 0.001976908                                                       & 0.003830678                                                       & 0.000883582                                                      \\\\\n",
       "\t X515\\_Group1C\\_142dpi\\_LV\\_bottom\\_165\\_G\\_A5\\_P132.mzXML & 515                                                               & naive                                                             & 142dpi                                                            & LV\\_bottom                                                       & A5                                                                & P132                                                              & 0.03505978                                                        & 0.05858027                                                        & 0.002110626                                                       & 0.002231458                                                       & 0.001315984                                                      \\\\\n",
       "\t X531\\_Group1C\\_142dpi\\_LV\\_bottom\\_166\\_G\\_A6\\_P132.mzXML & 531                                                               & naive                                                             & 142dpi                                                            & LV\\_bottom                                                       & A6                                                                & P132                                                              & 0.03271828                                                        & 0.03970000                                                        & 0.001690467                                                       & 0.006136600                                                       & 0.002555819                                                      \\\\\n",
       "\\end{tabular}\n"
      ],
      "text/markdown": [
       "\n",
       "| filename | MouseID | Treatmentgroup | DPI | organ | well_position | plate | mass_400 | mass_500 | mass_600 | mass_700 | mass_800 |\n",
       "|---|---|---|---|---|---|---|---|---|---|---|---|\n",
       "| X511_Group1C_142dpi_LV_bottom_161_G_A1_P132.mzXML | 511                                               | naive                                             | 142dpi                                            | LV_bottom                                         | A1                                                | P132                                              | 0.04382789                                        | 0.07997773                                        | 0.002684053                                       | 0.003825973                                       | 0.000280747                                       |\n",
       "| X512_Group1C_142dpi_LV_bottom_162_G_A2_P132.mzXML | 512                                               | naive                                             | 142dpi                                            | LV_bottom                                         | A2                                                | P132                                              | 0.03908150                                        | 0.06240000                                        | 0.002998300                                       | 0.003632408                                       | 0.001471252                                       |\n",
       "| X513_Group1C_142dpi_LV_bottom_163_G_A3_P132.mzXML | 513                                               | naive                                             | 142dpi                                            | LV_bottom                                         | A3                                                | P132                                              | 0.03267072                                        | 0.04620000                                        | 0.001726274                                       | 0.004220656                                       | 0.002569278                                       |\n",
       "| X514_Group1C_142dpi_LV_bottom_164_G_A4_P132.mzXML | 514                                               | naive                                             | 142dpi                                            | LV_bottom                                         | A4                                                | P132                                              | 0.04172188                                        | 0.05520000                                        | 0.001976908                                       | 0.003830678                                       | 0.000883582                                       |\n",
       "| X515_Group1C_142dpi_LV_bottom_165_G_A5_P132.mzXML | 515                                               | naive                                             | 142dpi                                            | LV_bottom                                         | A5                                                | P132                                              | 0.03505978                                        | 0.05858027                                        | 0.002110626                                       | 0.002231458                                       | 0.001315984                                       |\n",
       "| X531_Group1C_142dpi_LV_bottom_166_G_A6_P132.mzXML | 531                                               | naive                                             | 142dpi                                            | LV_bottom                                         | A6                                                | P132                                              | 0.03271828                                        | 0.03970000                                        | 0.001690467                                       | 0.006136600                                       | 0.002555819                                       |\n",
       "\n"
      ],
      "text/plain": [
       "  filename                                          MouseID Treatmentgroup\n",
       "1 X511_Group1C_142dpi_LV_bottom_161_G_A1_P132.mzXML 511     naive         \n",
       "2 X512_Group1C_142dpi_LV_bottom_162_G_A2_P132.mzXML 512     naive         \n",
       "3 X513_Group1C_142dpi_LV_bottom_163_G_A3_P132.mzXML 513     naive         \n",
       "4 X514_Group1C_142dpi_LV_bottom_164_G_A4_P132.mzXML 514     naive         \n",
       "5 X515_Group1C_142dpi_LV_bottom_165_G_A5_P132.mzXML 515     naive         \n",
       "6 X531_Group1C_142dpi_LV_bottom_166_G_A6_P132.mzXML 531     naive         \n",
       "  DPI    organ     well_position plate mass_400   mass_500   mass_600   \n",
       "1 142dpi LV_bottom A1            P132  0.04382789 0.07997773 0.002684053\n",
       "2 142dpi LV_bottom A2            P132  0.03908150 0.06240000 0.002998300\n",
       "3 142dpi LV_bottom A3            P132  0.03267072 0.04620000 0.001726274\n",
       "4 142dpi LV_bottom A4            P132  0.04172188 0.05520000 0.001976908\n",
       "5 142dpi LV_bottom A5            P132  0.03505978 0.05858027 0.002110626\n",
       "6 142dpi LV_bottom A6            P132  0.03271828 0.03970000 0.001690467\n",
       "  mass_700    mass_800   \n",
       "1 0.003825973 0.000280747\n",
       "2 0.003632408 0.001471252\n",
       "3 0.004220656 0.002569278\n",
       "4 0.003830678 0.000883582\n",
       "5 0.002231458 0.001315984\n",
       "6 0.006136600 0.002555819"
      ]
     },
     "metadata": {},
     "output_type": "display_data"
    },
    {
     "data": {
      "text/html": [
       "<ol class=list-inline>\n",
       "\t<li>30</li>\n",
       "\t<li>12</li>\n",
       "</ol>\n"
      ],
      "text/latex": [
       "\\begin{enumerate*}\n",
       "\\item 30\n",
       "\\item 12\n",
       "\\end{enumerate*}\n"
      ],
      "text/markdown": [
       "1. 30\n",
       "2. 12\n",
       "\n",
       "\n"
      ],
      "text/plain": [
       "[1] 30 12"
      ]
     },
     "metadata": {},
     "output_type": "display_data"
    }
   ],
   "source": [
    "features_pos<-droplevels(subset(a, a$Treatmentgroup==c(\"naive\")|a$Treatmentgroup==c(\"combo\")))\n",
    "head(features_pos)\n",
    "dim(features_pos)"
   ]
  },
  {
   "cell_type": "code",
   "execution_count": 4,
   "metadata": {
    "scrolled": false
   },
   "outputs": [
    {
     "data": {
      "text/html": [
       "<table>\n",
       "<thead><tr><th scope=col>mass_400</th><th scope=col>mass_500</th><th scope=col>mass_600</th><th scope=col>mass_700</th><th scope=col>mass_800</th></tr></thead>\n",
       "<tbody>\n",
       "\t<tr><td>0.04382789 </td><td>0.07997773 </td><td>0.002684053</td><td>0.003825973</td><td>0.000280747</td></tr>\n",
       "\t<tr><td>0.03908150 </td><td>0.06240000 </td><td>0.002998300</td><td>0.003632408</td><td>0.001471252</td></tr>\n",
       "\t<tr><td>0.03267072 </td><td>0.04620000 </td><td>0.001726274</td><td>0.004220656</td><td>0.002569278</td></tr>\n",
       "\t<tr><td>0.04172188 </td><td>0.05520000 </td><td>0.001976908</td><td>0.003830678</td><td>0.000883582</td></tr>\n",
       "\t<tr><td>0.03505978 </td><td>0.05858027 </td><td>0.002110626</td><td>0.002231458</td><td>0.001315984</td></tr>\n",
       "\t<tr><td>0.03271828 </td><td>0.03970000 </td><td>0.001690467</td><td>0.006136600</td><td>0.002555819</td></tr>\n",
       "</tbody>\n",
       "</table>\n"
      ],
      "text/latex": [
       "\\begin{tabular}{r|lllll}\n",
       " mass\\_400 & mass\\_500 & mass\\_600 & mass\\_700 & mass\\_800\\\\\n",
       "\\hline\n",
       "\t 0.04382789  & 0.07997773  & 0.002684053 & 0.003825973 & 0.000280747\\\\\n",
       "\t 0.03908150  & 0.06240000  & 0.002998300 & 0.003632408 & 0.001471252\\\\\n",
       "\t 0.03267072  & 0.04620000  & 0.001726274 & 0.004220656 & 0.002569278\\\\\n",
       "\t 0.04172188  & 0.05520000  & 0.001976908 & 0.003830678 & 0.000883582\\\\\n",
       "\t 0.03505978  & 0.05858027  & 0.002110626 & 0.002231458 & 0.001315984\\\\\n",
       "\t 0.03271828  & 0.03970000  & 0.001690467 & 0.006136600 & 0.002555819\\\\\n",
       "\\end{tabular}\n"
      ],
      "text/markdown": [
       "\n",
       "| mass_400 | mass_500 | mass_600 | mass_700 | mass_800 |\n",
       "|---|---|---|---|---|\n",
       "| 0.04382789  | 0.07997773  | 0.002684053 | 0.003825973 | 0.000280747 |\n",
       "| 0.03908150  | 0.06240000  | 0.002998300 | 0.003632408 | 0.001471252 |\n",
       "| 0.03267072  | 0.04620000  | 0.001726274 | 0.004220656 | 0.002569278 |\n",
       "| 0.04172188  | 0.05520000  | 0.001976908 | 0.003830678 | 0.000883582 |\n",
       "| 0.03505978  | 0.05858027  | 0.002110626 | 0.002231458 | 0.001315984 |\n",
       "| 0.03271828  | 0.03970000  | 0.001690467 | 0.006136600 | 0.002555819 |\n",
       "\n"
      ],
      "text/plain": [
       "  mass_400   mass_500   mass_600    mass_700    mass_800   \n",
       "1 0.04382789 0.07997773 0.002684053 0.003825973 0.000280747\n",
       "2 0.03908150 0.06240000 0.002998300 0.003632408 0.001471252\n",
       "3 0.03267072 0.04620000 0.001726274 0.004220656 0.002569278\n",
       "4 0.04172188 0.05520000 0.001976908 0.003830678 0.000883582\n",
       "5 0.03505978 0.05858027 0.002110626 0.002231458 0.001315984\n",
       "6 0.03271828 0.03970000 0.001690467 0.006136600 0.002555819"
      ]
     },
     "metadata": {},
     "output_type": "display_data"
    },
    {
     "data": {
      "text/html": [
       "<dl class=dl-horizontal>\n",
       "\t<dt>mass_400</dt>\n",
       "\t\t<dd>1</dd>\n",
       "\t<dt>mass_500</dt>\n",
       "\t\t<dd>2</dd>\n",
       "\t<dt>mass_600</dt>\n",
       "\t\t<dd>3</dd>\n",
       "\t<dt>mass_700</dt>\n",
       "\t\t<dd>4</dd>\n",
       "\t<dt>mass_800</dt>\n",
       "\t\t<dd>5</dd>\n",
       "</dl>\n"
      ],
      "text/latex": [
       "\\begin{description*}\n",
       "\\item[mass\\textbackslash{}\\_400] 1\n",
       "\\item[mass\\textbackslash{}\\_500] 2\n",
       "\\item[mass\\textbackslash{}\\_600] 3\n",
       "\\item[mass\\textbackslash{}\\_700] 4\n",
       "\\item[mass\\textbackslash{}\\_800] 5\n",
       "\\end{description*}\n"
      ],
      "text/markdown": [
       "mass_400\n",
       ":   1mass_500\n",
       ":   2mass_600\n",
       ":   3mass_700\n",
       ":   4mass_800\n",
       ":   5\n",
       "\n"
      ],
      "text/plain": [
       "mass_400 mass_500 mass_600 mass_700 mass_800 \n",
       "       1        2        3        4        5 "
      ]
     },
     "metadata": {},
     "output_type": "display_data"
    },
    {
     "data": {
      "text/html": [
       "<table>\n",
       "<thead><tr><th></th><th scope=col>mass_400</th><th scope=col>mass_500</th><th scope=col>mass_600</th><th scope=col>mass_700</th><th scope=col>mass_800</th></tr></thead>\n",
       "<tbody>\n",
       "\t<tr><th scope=row>1</th><td>0.04382789 </td><td>0.07997773 </td><td>0.002684053</td><td>0.003825973</td><td>0.000280747</td></tr>\n",
       "\t<tr><th scope=row>2</th><td>0.03908150 </td><td>0.06240000 </td><td>0.002998300</td><td>0.003632408</td><td>0.001471252</td></tr>\n",
       "\t<tr><th scope=row>3</th><td>0.03267072 </td><td>0.04620000 </td><td>0.001726274</td><td>0.004220656</td><td>0.002569278</td></tr>\n",
       "\t<tr><th scope=row>4</th><td>0.04172188 </td><td>0.05520000 </td><td>0.001976908</td><td>0.003830678</td><td>0.000883582</td></tr>\n",
       "\t<tr><th scope=row>5</th><td>0.03505978 </td><td>0.05858027 </td><td>0.002110626</td><td>0.002231458</td><td>0.001315984</td></tr>\n",
       "\t<tr><th scope=row>6</th><td>0.03271828 </td><td>0.03970000 </td><td>0.001690467</td><td>0.006136600</td><td>0.002555819</td></tr>\n",
       "\t<tr><th scope=row>7</th><td>0.04056562 </td><td>0.06012464 </td><td>0.002358184</td><td>0.001932979</td><td>0.000835822</td></tr>\n",
       "\t<tr><th scope=row>8</th><td>0.04363115 </td><td>0.06760000 </td><td>0.002264667</td><td>0.005164170</td><td>0.002720221</td></tr>\n",
       "\t<tr><th scope=row>9</th><td>0.03474385 </td><td>0.04840681 </td><td>0.001895897</td><td>0.004145536</td><td>0.001396689</td></tr>\n",
       "\t<tr><th scope=row>10</th><td>0.02601870 </td><td>0.03757457 </td><td>0.001181785</td><td>0.001423776</td><td>0.003364134</td></tr>\n",
       "\t<tr><th scope=row>11</th><td>0.04267282 </td><td>0.06818608 </td><td>0.002223042</td><td>0.005356417</td><td>0.002493371</td></tr>\n",
       "\t<tr><th scope=row>12</th><td>0.04375150 </td><td>0.06252638 </td><td>0.002564734</td><td>0.006578542</td><td>0.003792509</td></tr>\n",
       "\t<tr><th scope=row>13</th><td>0.06661881 </td><td>0.08120000 </td><td>0.002472581</td><td>0.005629735</td><td>0.006087050</td></tr>\n",
       "\t<tr><th scope=row>14</th><td>0.02703880 </td><td>0.04273792 </td><td>0.000995773</td><td>0.008450840</td><td>0.003082775</td></tr>\n",
       "\t<tr><th scope=row>15</th><td>0.03849104 </td><td>0.05330000 </td><td>0.002056790</td><td>0.009062418</td><td>0.011609149</td></tr>\n",
       "\t<tr><th scope=row>21</th><td>0.03013410 </td><td>0.03580000 </td><td>0.001738334</td><td>0.005715424</td><td>0.003090477</td></tr>\n",
       "\t<tr><th scope=row>22</th><td>0.02250190 </td><td>0.02930073 </td><td>0.000884736</td><td>0.000342308</td><td>0.000251999</td></tr>\n",
       "\t<tr><th scope=row>23</th><td>0.03934998 </td><td>0.06410000 </td><td>0.001978019</td><td>0.004733783</td><td>0.004661582</td></tr>\n",
       "\t<tr><th scope=row>24</th><td>0.06329180 </td><td>0.07286291 </td><td>0.002511262</td><td>0.004672052</td><td>0.002819729</td></tr>\n",
       "\t<tr><th scope=row>25</th><td>0.03578245 </td><td>0.04340000 </td><td>0.001723822</td><td>0.009723075</td><td>0.003391698</td></tr>\n",
       "\t<tr><th scope=row>36</th><td>0.02888932 </td><td>0.03256243 </td><td>0.001216990</td><td>0.003754989</td><td>0.001930663</td></tr>\n",
       "\t<tr><th scope=row>37</th><td>0.02934560 </td><td>0.05805981 </td><td>0.001557489</td><td>0.000971621</td><td>0.003129020</td></tr>\n",
       "\t<tr><th scope=row>38</th><td>0.03532611 </td><td>0.03198457 </td><td>0.000828481</td><td>0.002088909</td><td>0.000077000</td></tr>\n",
       "\t<tr><th scope=row>39</th><td>0.05787392 </td><td>0.07091515 </td><td>0.002465199</td><td>0.009619538</td><td>0.005728825</td></tr>\n",
       "\t<tr><th scope=row>40</th><td>0.04181284 </td><td>0.05405884 </td><td>0.001554849</td><td>0.004622432</td><td>0.004314007</td></tr>\n",
       "\t<tr><th scope=row>51</th><td>0.02391911 </td><td>0.02871472 </td><td>0.000648767</td><td>0.002954901</td><td>0.001363521</td></tr>\n",
       "\t<tr><th scope=row>52</th><td>0.03679544 </td><td>0.03988076 </td><td>0.001108911</td><td>0.000279956</td><td>0.000000000</td></tr>\n",
       "\t<tr><th scope=row>53</th><td>0.05080697 </td><td>0.06074374 </td><td>0.001309832</td><td>0.007286327</td><td>0.008781906</td></tr>\n",
       "\t<tr><th scope=row>54</th><td>0.03468035 </td><td>0.04790000 </td><td>0.001104335</td><td>0.010547371</td><td>0.003041247</td></tr>\n",
       "\t<tr><th scope=row>55</th><td>0.04069596 </td><td>0.04779212 </td><td>0.001387168</td><td>0.011644830</td><td>0.008797624</td></tr>\n",
       "</tbody>\n",
       "</table>\n"
      ],
      "text/latex": [
       "\\begin{tabular}{r|lllll}\n",
       "  & mass\\_400 & mass\\_500 & mass\\_600 & mass\\_700 & mass\\_800\\\\\n",
       "\\hline\n",
       "\t1 & 0.04382789  & 0.07997773  & 0.002684053 & 0.003825973 & 0.000280747\\\\\n",
       "\t2 & 0.03908150  & 0.06240000  & 0.002998300 & 0.003632408 & 0.001471252\\\\\n",
       "\t3 & 0.03267072  & 0.04620000  & 0.001726274 & 0.004220656 & 0.002569278\\\\\n",
       "\t4 & 0.04172188  & 0.05520000  & 0.001976908 & 0.003830678 & 0.000883582\\\\\n",
       "\t5 & 0.03505978  & 0.05858027  & 0.002110626 & 0.002231458 & 0.001315984\\\\\n",
       "\t6 & 0.03271828  & 0.03970000  & 0.001690467 & 0.006136600 & 0.002555819\\\\\n",
       "\t7 & 0.04056562  & 0.06012464  & 0.002358184 & 0.001932979 & 0.000835822\\\\\n",
       "\t8 & 0.04363115  & 0.06760000  & 0.002264667 & 0.005164170 & 0.002720221\\\\\n",
       "\t9 & 0.03474385  & 0.04840681  & 0.001895897 & 0.004145536 & 0.001396689\\\\\n",
       "\t10 & 0.02601870  & 0.03757457  & 0.001181785 & 0.001423776 & 0.003364134\\\\\n",
       "\t11 & 0.04267282  & 0.06818608  & 0.002223042 & 0.005356417 & 0.002493371\\\\\n",
       "\t12 & 0.04375150  & 0.06252638  & 0.002564734 & 0.006578542 & 0.003792509\\\\\n",
       "\t13 & 0.06661881  & 0.08120000  & 0.002472581 & 0.005629735 & 0.006087050\\\\\n",
       "\t14 & 0.02703880  & 0.04273792  & 0.000995773 & 0.008450840 & 0.003082775\\\\\n",
       "\t15 & 0.03849104  & 0.05330000  & 0.002056790 & 0.009062418 & 0.011609149\\\\\n",
       "\t21 & 0.03013410  & 0.03580000  & 0.001738334 & 0.005715424 & 0.003090477\\\\\n",
       "\t22 & 0.02250190  & 0.02930073  & 0.000884736 & 0.000342308 & 0.000251999\\\\\n",
       "\t23 & 0.03934998  & 0.06410000  & 0.001978019 & 0.004733783 & 0.004661582\\\\\n",
       "\t24 & 0.06329180  & 0.07286291  & 0.002511262 & 0.004672052 & 0.002819729\\\\\n",
       "\t25 & 0.03578245  & 0.04340000  & 0.001723822 & 0.009723075 & 0.003391698\\\\\n",
       "\t36 & 0.02888932  & 0.03256243  & 0.001216990 & 0.003754989 & 0.001930663\\\\\n",
       "\t37 & 0.02934560  & 0.05805981  & 0.001557489 & 0.000971621 & 0.003129020\\\\\n",
       "\t38 & 0.03532611  & 0.03198457  & 0.000828481 & 0.002088909 & 0.000077000\\\\\n",
       "\t39 & 0.05787392  & 0.07091515  & 0.002465199 & 0.009619538 & 0.005728825\\\\\n",
       "\t40 & 0.04181284  & 0.05405884  & 0.001554849 & 0.004622432 & 0.004314007\\\\\n",
       "\t51 & 0.02391911  & 0.02871472  & 0.000648767 & 0.002954901 & 0.001363521\\\\\n",
       "\t52 & 0.03679544  & 0.03988076  & 0.001108911 & 0.000279956 & 0.000000000\\\\\n",
       "\t53 & 0.05080697  & 0.06074374  & 0.001309832 & 0.007286327 & 0.008781906\\\\\n",
       "\t54 & 0.03468035  & 0.04790000  & 0.001104335 & 0.010547371 & 0.003041247\\\\\n",
       "\t55 & 0.04069596  & 0.04779212  & 0.001387168 & 0.011644830 & 0.008797624\\\\\n",
       "\\end{tabular}\n"
      ],
      "text/markdown": [
       "\n",
       "| <!--/--> | mass_400 | mass_500 | mass_600 | mass_700 | mass_800 |\n",
       "|---|---|---|---|---|---|\n",
       "| 1 | 0.04382789  | 0.07997773  | 0.002684053 | 0.003825973 | 0.000280747 |\n",
       "| 2 | 0.03908150  | 0.06240000  | 0.002998300 | 0.003632408 | 0.001471252 |\n",
       "| 3 | 0.03267072  | 0.04620000  | 0.001726274 | 0.004220656 | 0.002569278 |\n",
       "| 4 | 0.04172188  | 0.05520000  | 0.001976908 | 0.003830678 | 0.000883582 |\n",
       "| 5 | 0.03505978  | 0.05858027  | 0.002110626 | 0.002231458 | 0.001315984 |\n",
       "| 6 | 0.03271828  | 0.03970000  | 0.001690467 | 0.006136600 | 0.002555819 |\n",
       "| 7 | 0.04056562  | 0.06012464  | 0.002358184 | 0.001932979 | 0.000835822 |\n",
       "| 8 | 0.04363115  | 0.06760000  | 0.002264667 | 0.005164170 | 0.002720221 |\n",
       "| 9 | 0.03474385  | 0.04840681  | 0.001895897 | 0.004145536 | 0.001396689 |\n",
       "| 10 | 0.02601870  | 0.03757457  | 0.001181785 | 0.001423776 | 0.003364134 |\n",
       "| 11 | 0.04267282  | 0.06818608  | 0.002223042 | 0.005356417 | 0.002493371 |\n",
       "| 12 | 0.04375150  | 0.06252638  | 0.002564734 | 0.006578542 | 0.003792509 |\n",
       "| 13 | 0.06661881  | 0.08120000  | 0.002472581 | 0.005629735 | 0.006087050 |\n",
       "| 14 | 0.02703880  | 0.04273792  | 0.000995773 | 0.008450840 | 0.003082775 |\n",
       "| 15 | 0.03849104  | 0.05330000  | 0.002056790 | 0.009062418 | 0.011609149 |\n",
       "| 21 | 0.03013410  | 0.03580000  | 0.001738334 | 0.005715424 | 0.003090477 |\n",
       "| 22 | 0.02250190  | 0.02930073  | 0.000884736 | 0.000342308 | 0.000251999 |\n",
       "| 23 | 0.03934998  | 0.06410000  | 0.001978019 | 0.004733783 | 0.004661582 |\n",
       "| 24 | 0.06329180  | 0.07286291  | 0.002511262 | 0.004672052 | 0.002819729 |\n",
       "| 25 | 0.03578245  | 0.04340000  | 0.001723822 | 0.009723075 | 0.003391698 |\n",
       "| 36 | 0.02888932  | 0.03256243  | 0.001216990 | 0.003754989 | 0.001930663 |\n",
       "| 37 | 0.02934560  | 0.05805981  | 0.001557489 | 0.000971621 | 0.003129020 |\n",
       "| 38 | 0.03532611  | 0.03198457  | 0.000828481 | 0.002088909 | 0.000077000 |\n",
       "| 39 | 0.05787392  | 0.07091515  | 0.002465199 | 0.009619538 | 0.005728825 |\n",
       "| 40 | 0.04181284  | 0.05405884  | 0.001554849 | 0.004622432 | 0.004314007 |\n",
       "| 51 | 0.02391911  | 0.02871472  | 0.000648767 | 0.002954901 | 0.001363521 |\n",
       "| 52 | 0.03679544  | 0.03988076  | 0.001108911 | 0.000279956 | 0.000000000 |\n",
       "| 53 | 0.05080697  | 0.06074374  | 0.001309832 | 0.007286327 | 0.008781906 |\n",
       "| 54 | 0.03468035  | 0.04790000  | 0.001104335 | 0.010547371 | 0.003041247 |\n",
       "| 55 | 0.04069596  | 0.04779212  | 0.001387168 | 0.011644830 | 0.008797624 |\n",
       "\n"
      ],
      "text/plain": [
       "   mass_400   mass_500   mass_600    mass_700    mass_800   \n",
       "1  0.04382789 0.07997773 0.002684053 0.003825973 0.000280747\n",
       "2  0.03908150 0.06240000 0.002998300 0.003632408 0.001471252\n",
       "3  0.03267072 0.04620000 0.001726274 0.004220656 0.002569278\n",
       "4  0.04172188 0.05520000 0.001976908 0.003830678 0.000883582\n",
       "5  0.03505978 0.05858027 0.002110626 0.002231458 0.001315984\n",
       "6  0.03271828 0.03970000 0.001690467 0.006136600 0.002555819\n",
       "7  0.04056562 0.06012464 0.002358184 0.001932979 0.000835822\n",
       "8  0.04363115 0.06760000 0.002264667 0.005164170 0.002720221\n",
       "9  0.03474385 0.04840681 0.001895897 0.004145536 0.001396689\n",
       "10 0.02601870 0.03757457 0.001181785 0.001423776 0.003364134\n",
       "11 0.04267282 0.06818608 0.002223042 0.005356417 0.002493371\n",
       "12 0.04375150 0.06252638 0.002564734 0.006578542 0.003792509\n",
       "13 0.06661881 0.08120000 0.002472581 0.005629735 0.006087050\n",
       "14 0.02703880 0.04273792 0.000995773 0.008450840 0.003082775\n",
       "15 0.03849104 0.05330000 0.002056790 0.009062418 0.011609149\n",
       "21 0.03013410 0.03580000 0.001738334 0.005715424 0.003090477\n",
       "22 0.02250190 0.02930073 0.000884736 0.000342308 0.000251999\n",
       "23 0.03934998 0.06410000 0.001978019 0.004733783 0.004661582\n",
       "24 0.06329180 0.07286291 0.002511262 0.004672052 0.002819729\n",
       "25 0.03578245 0.04340000 0.001723822 0.009723075 0.003391698\n",
       "36 0.02888932 0.03256243 0.001216990 0.003754989 0.001930663\n",
       "37 0.02934560 0.05805981 0.001557489 0.000971621 0.003129020\n",
       "38 0.03532611 0.03198457 0.000828481 0.002088909 0.000077000\n",
       "39 0.05787392 0.07091515 0.002465199 0.009619538 0.005728825\n",
       "40 0.04181284 0.05405884 0.001554849 0.004622432 0.004314007\n",
       "51 0.02391911 0.02871472 0.000648767 0.002954901 0.001363521\n",
       "52 0.03679544 0.03988076 0.001108911 0.000279956 0.000000000\n",
       "53 0.05080697 0.06074374 0.001309832 0.007286327 0.008781906\n",
       "54 0.03468035 0.04790000 0.001104335 0.010547371 0.003041247\n",
       "55 0.04069596 0.04779212 0.001387168 0.011644830 0.008797624"
      ]
     },
     "metadata": {},
     "output_type": "display_data"
    },
    {
     "data": {
      "text/html": [
       "<table>\n",
       "<thead><tr><th scope=col>filename</th><th scope=col>MouseID</th><th scope=col>Treatmentgroup</th><th scope=col>DPI</th><th scope=col>organ</th><th scope=col>well_position</th><th scope=col>plate</th><th scope=col>mass_400</th><th scope=col>mass_500</th><th scope=col>mass_600</th><th scope=col>mass_700</th><th scope=col>mass_800</th></tr></thead>\n",
       "<tbody>\n",
       "\t<tr><td>X511_Group1C_142dpi_LV_bottom_161_G_A1_P132.mzXML</td><td>511                                              </td><td>naive                                            </td><td>142dpi                                           </td><td>LV_bottom                                        </td><td>A1                                               </td><td>P132                                             </td><td>0.04382789                                       </td><td>0.07997773                                       </td><td>0.002684053                                      </td><td>0.003825973                                      </td><td>0.000280747                                      </td></tr>\n",
       "\t<tr><td>X512_Group1C_142dpi_LV_bottom_162_G_A2_P132.mzXML</td><td>512                                              </td><td>naive                                            </td><td>142dpi                                           </td><td>LV_bottom                                        </td><td>A2                                               </td><td>P132                                             </td><td>0.03908150                                       </td><td>0.06240000                                       </td><td>0.002998300                                      </td><td>0.003632408                                      </td><td>0.001471252                                      </td></tr>\n",
       "\t<tr><td>X513_Group1C_142dpi_LV_bottom_163_G_A3_P132.mzXML</td><td>513                                              </td><td>naive                                            </td><td>142dpi                                           </td><td>LV_bottom                                        </td><td>A3                                               </td><td>P132                                             </td><td>0.03267072                                       </td><td>0.04620000                                       </td><td>0.001726274                                      </td><td>0.004220656                                      </td><td>0.002569278                                      </td></tr>\n",
       "\t<tr><td>X514_Group1C_142dpi_LV_bottom_164_G_A4_P132.mzXML</td><td>514                                              </td><td>naive                                            </td><td>142dpi                                           </td><td>LV_bottom                                        </td><td>A4                                               </td><td>P132                                             </td><td>0.04172188                                       </td><td>0.05520000                                       </td><td>0.001976908                                      </td><td>0.003830678                                      </td><td>0.000883582                                      </td></tr>\n",
       "\t<tr><td>X515_Group1C_142dpi_LV_bottom_165_G_A5_P132.mzXML</td><td>515                                              </td><td>naive                                            </td><td>142dpi                                           </td><td>LV_bottom                                        </td><td>A5                                               </td><td>P132                                             </td><td>0.03505978                                       </td><td>0.05858027                                       </td><td>0.002110626                                      </td><td>0.002231458                                      </td><td>0.001315984                                      </td></tr>\n",
       "\t<tr><td>X531_Group1C_142dpi_LV_bottom_166_G_A6_P132.mzXML</td><td>531                                              </td><td>naive                                            </td><td>142dpi                                           </td><td>LV_bottom                                        </td><td>A6                                               </td><td>P132                                             </td><td>0.03271828                                       </td><td>0.03970000                                       </td><td>0.001690467                                      </td><td>0.006136600                                      </td><td>0.002555819                                      </td></tr>\n",
       "</tbody>\n",
       "</table>\n"
      ],
      "text/latex": [
       "\\begin{tabular}{r|llllllllllll}\n",
       " filename & MouseID & Treatmentgroup & DPI & organ & well\\_position & plate & mass\\_400 & mass\\_500 & mass\\_600 & mass\\_700 & mass\\_800\\\\\n",
       "\\hline\n",
       "\t X511\\_Group1C\\_142dpi\\_LV\\_bottom\\_161\\_G\\_A1\\_P132.mzXML & 511                                                               & naive                                                             & 142dpi                                                            & LV\\_bottom                                                       & A1                                                                & P132                                                              & 0.04382789                                                        & 0.07997773                                                        & 0.002684053                                                       & 0.003825973                                                       & 0.000280747                                                      \\\\\n",
       "\t X512\\_Group1C\\_142dpi\\_LV\\_bottom\\_162\\_G\\_A2\\_P132.mzXML & 512                                                               & naive                                                             & 142dpi                                                            & LV\\_bottom                                                       & A2                                                                & P132                                                              & 0.03908150                                                        & 0.06240000                                                        & 0.002998300                                                       & 0.003632408                                                       & 0.001471252                                                      \\\\\n",
       "\t X513\\_Group1C\\_142dpi\\_LV\\_bottom\\_163\\_G\\_A3\\_P132.mzXML & 513                                                               & naive                                                             & 142dpi                                                            & LV\\_bottom                                                       & A3                                                                & P132                                                              & 0.03267072                                                        & 0.04620000                                                        & 0.001726274                                                       & 0.004220656                                                       & 0.002569278                                                      \\\\\n",
       "\t X514\\_Group1C\\_142dpi\\_LV\\_bottom\\_164\\_G\\_A4\\_P132.mzXML & 514                                                               & naive                                                             & 142dpi                                                            & LV\\_bottom                                                       & A4                                                                & P132                                                              & 0.04172188                                                        & 0.05520000                                                        & 0.001976908                                                       & 0.003830678                                                       & 0.000883582                                                      \\\\\n",
       "\t X515\\_Group1C\\_142dpi\\_LV\\_bottom\\_165\\_G\\_A5\\_P132.mzXML & 515                                                               & naive                                                             & 142dpi                                                            & LV\\_bottom                                                       & A5                                                                & P132                                                              & 0.03505978                                                        & 0.05858027                                                        & 0.002110626                                                       & 0.002231458                                                       & 0.001315984                                                      \\\\\n",
       "\t X531\\_Group1C\\_142dpi\\_LV\\_bottom\\_166\\_G\\_A6\\_P132.mzXML & 531                                                               & naive                                                             & 142dpi                                                            & LV\\_bottom                                                       & A6                                                                & P132                                                              & 0.03271828                                                        & 0.03970000                                                        & 0.001690467                                                       & 0.006136600                                                       & 0.002555819                                                      \\\\\n",
       "\\end{tabular}\n"
      ],
      "text/markdown": [
       "\n",
       "| filename | MouseID | Treatmentgroup | DPI | organ | well_position | plate | mass_400 | mass_500 | mass_600 | mass_700 | mass_800 |\n",
       "|---|---|---|---|---|---|---|---|---|---|---|---|\n",
       "| X511_Group1C_142dpi_LV_bottom_161_G_A1_P132.mzXML | 511                                               | naive                                             | 142dpi                                            | LV_bottom                                         | A1                                                | P132                                              | 0.04382789                                        | 0.07997773                                        | 0.002684053                                       | 0.003825973                                       | 0.000280747                                       |\n",
       "| X512_Group1C_142dpi_LV_bottom_162_G_A2_P132.mzXML | 512                                               | naive                                             | 142dpi                                            | LV_bottom                                         | A2                                                | P132                                              | 0.03908150                                        | 0.06240000                                        | 0.002998300                                       | 0.003632408                                       | 0.001471252                                       |\n",
       "| X513_Group1C_142dpi_LV_bottom_163_G_A3_P132.mzXML | 513                                               | naive                                             | 142dpi                                            | LV_bottom                                         | A3                                                | P132                                              | 0.03267072                                        | 0.04620000                                        | 0.001726274                                       | 0.004220656                                       | 0.002569278                                       |\n",
       "| X514_Group1C_142dpi_LV_bottom_164_G_A4_P132.mzXML | 514                                               | naive                                             | 142dpi                                            | LV_bottom                                         | A4                                                | P132                                              | 0.04172188                                        | 0.05520000                                        | 0.001976908                                       | 0.003830678                                       | 0.000883582                                       |\n",
       "| X515_Group1C_142dpi_LV_bottom_165_G_A5_P132.mzXML | 515                                               | naive                                             | 142dpi                                            | LV_bottom                                         | A5                                                | P132                                              | 0.03505978                                        | 0.05858027                                        | 0.002110626                                       | 0.002231458                                       | 0.001315984                                       |\n",
       "| X531_Group1C_142dpi_LV_bottom_166_G_A6_P132.mzXML | 531                                               | naive                                             | 142dpi                                            | LV_bottom                                         | A6                                                | P132                                              | 0.03271828                                        | 0.03970000                                        | 0.001690467                                       | 0.006136600                                       | 0.002555819                                       |\n",
       "\n"
      ],
      "text/plain": [
       "  filename                                          MouseID Treatmentgroup\n",
       "1 X511_Group1C_142dpi_LV_bottom_161_G_A1_P132.mzXML 511     naive         \n",
       "2 X512_Group1C_142dpi_LV_bottom_162_G_A2_P132.mzXML 512     naive         \n",
       "3 X513_Group1C_142dpi_LV_bottom_163_G_A3_P132.mzXML 513     naive         \n",
       "4 X514_Group1C_142dpi_LV_bottom_164_G_A4_P132.mzXML 514     naive         \n",
       "5 X515_Group1C_142dpi_LV_bottom_165_G_A5_P132.mzXML 515     naive         \n",
       "6 X531_Group1C_142dpi_LV_bottom_166_G_A6_P132.mzXML 531     naive         \n",
       "  DPI    organ     well_position plate mass_400   mass_500   mass_600   \n",
       "1 142dpi LV_bottom A1            P132  0.04382789 0.07997773 0.002684053\n",
       "2 142dpi LV_bottom A2            P132  0.03908150 0.06240000 0.002998300\n",
       "3 142dpi LV_bottom A3            P132  0.03267072 0.04620000 0.001726274\n",
       "4 142dpi LV_bottom A4            P132  0.04172188 0.05520000 0.001976908\n",
       "5 142dpi LV_bottom A5            P132  0.03505978 0.05858027 0.002110626\n",
       "6 142dpi LV_bottom A6            P132  0.03271828 0.03970000 0.001690467\n",
       "  mass_700    mass_800   \n",
       "1 0.003825973 0.000280747\n",
       "2 0.003632408 0.001471252\n",
       "3 0.004220656 0.002569278\n",
       "4 0.003830678 0.000883582\n",
       "5 0.002231458 0.001315984\n",
       "6 0.006136600 0.002555819"
      ]
     },
     "metadata": {},
     "output_type": "display_data"
    },
    {
     "data": {
      "text/html": [
       "<ol class=list-inline>\n",
       "\t<li>30</li>\n",
       "\t<li>12</li>\n",
       "</ol>\n"
      ],
      "text/latex": [
       "\\begin{enumerate*}\n",
       "\\item 30\n",
       "\\item 12\n",
       "\\end{enumerate*}\n"
      ],
      "text/markdown": [
       "1. 30\n",
       "2. 12\n",
       "\n",
       "\n"
      ],
      "text/plain": [
       "[1] 30 12"
      ]
     },
     "metadata": {},
     "output_type": "display_data"
    },
    {
     "data": {
      "text/html": [
       "<ol class=list-inline>\n",
       "\t<li>30</li>\n",
       "\t<li>5</li>\n",
       "</ol>\n"
      ],
      "text/latex": [
       "\\begin{enumerate*}\n",
       "\\item 30\n",
       "\\item 5\n",
       "\\end{enumerate*}\n"
      ],
      "text/markdown": [
       "1. 30\n",
       "2. 5\n",
       "\n",
       "\n"
      ],
      "text/plain": [
       "[1] 30  5"
      ]
     },
     "metadata": {},
     "output_type": "display_data"
    },
    {
     "data": {
      "text/html": [
       "<ol class=list-inline>\n",
       "\t<li>30</li>\n",
       "\t<li>5</li>\n",
       "</ol>\n"
      ],
      "text/latex": [
       "\\begin{enumerate*}\n",
       "\\item 30\n",
       "\\item 5\n",
       "\\end{enumerate*}\n"
      ],
      "text/markdown": [
       "1. 30\n",
       "2. 5\n",
       "\n",
       "\n"
      ],
      "text/plain": [
       "[1] 30  5"
      ]
     },
     "metadata": {},
     "output_type": "display_data"
    },
    {
     "data": {
      "text/html": [
       "<ol class=list-inline>\n",
       "\t<li>30</li>\n",
       "\t<li>12</li>\n",
       "</ol>\n"
      ],
      "text/latex": [
       "\\begin{enumerate*}\n",
       "\\item 30\n",
       "\\item 12\n",
       "\\end{enumerate*}\n"
      ],
      "text/markdown": [
       "1. 30\n",
       "2. 12\n",
       "\n",
       "\n"
      ],
      "text/plain": [
       "[1] 30 12"
      ]
     },
     "metadata": {},
     "output_type": "display_data"
    }
   ],
   "source": [
    "noMeta<-features_pos[,8:12] \n",
    "head(noMeta)\n",
    "not_zero<-which(colSums(noMeta) != 0)\n",
    "head(not_zero)\n",
    "nonzero <- noMeta[, not_zero]\n",
    "nonzero\n",
    "nonzero_wMeta<-cbind(features_pos[,1:7], nonzero)\n",
    "head(nonzero_wMeta)\n",
    "dim(features_pos)\n",
    "dim(noMeta)\n",
    "dim(nonzero)\n",
    "dim(nonzero_wMeta)"
   ]
  },
  {
   "cell_type": "code",
   "execution_count": 5,
   "metadata": {
    "scrolled": true
   },
   "outputs": [
    {
     "data": {
      "text/html": [
       "<ol class=list-inline>\n",
       "\t<li>0.539298539584697</li>\n",
       "\t<li>0.0975257598239064</li>\n",
       "\t<li>0.00656805240310701</li>\n",
       "\t<li>0.870194456435353</li>\n",
       "\t<li>0.460958749211566</li>\n",
       "</ol>\n"
      ],
      "text/latex": [
       "\\begin{enumerate*}\n",
       "\\item 0.539298539584697\n",
       "\\item 0.0975257598239064\n",
       "\\item 0.00656805240310701\n",
       "\\item 0.870194456435353\n",
       "\\item 0.460958749211566\n",
       "\\end{enumerate*}\n"
      ],
      "text/markdown": [
       "1. 0.539298539584697\n",
       "2. 0.0975257598239064\n",
       "3. 0.00656805240310701\n",
       "4. 0.870194456435353\n",
       "5. 0.460958749211566\n",
       "\n",
       "\n"
      ],
      "text/plain": [
       "[1] 0.539298540 0.097525760 0.006568052 0.870194456 0.460958749"
      ]
     },
     "metadata": {},
     "output_type": "display_data"
    },
    {
     "data": {
      "text/html": [
       "<ol class=list-inline>\n",
       "\t<li>0.674123174480871</li>\n",
       "\t<li>0.243814399559766</li>\n",
       "\t<li>0.0328402620155351</li>\n",
       "\t<li>0.870194456435353</li>\n",
       "\t<li>0.674123174480871</li>\n",
       "</ol>\n"
      ],
      "text/latex": [
       "\\begin{enumerate*}\n",
       "\\item 0.674123174480871\n",
       "\\item 0.243814399559766\n",
       "\\item 0.0328402620155351\n",
       "\\item 0.870194456435353\n",
       "\\item 0.674123174480871\n",
       "\\end{enumerate*}\n"
      ],
      "text/markdown": [
       "1. 0.674123174480871\n",
       "2. 0.243814399559766\n",
       "3. 0.0328402620155351\n",
       "4. 0.870194456435353\n",
       "5. 0.674123174480871\n",
       "\n",
       "\n"
      ],
      "text/plain": [
       "[1] 0.67412317 0.24381440 0.03284026 0.87019446 0.67412317"
      ]
     },
     "metadata": {},
     "output_type": "display_data"
    }
   ],
   "source": [
    "pval<-c()\n",
    "\n",
    "for (i in 8:ncol(nonzero_wMeta)) \n",
    "pval<-c(pval,wilcox.test(nonzero_wMeta[,i]~nonzero_wMeta$Treatmentgroup)$p.value)\n",
    "head(pval)\n",
    "pAdj <- p.adjust(pval, method = c(\"fdr\"), n=length(pval)) \n",
    "head(pAdj) \n",
    "\n"
   ]
  },
  {
   "cell_type": "code",
   "execution_count": 6,
   "metadata": {
    "scrolled": true
   },
   "outputs": [
    {
     "data": {
      "text/html": [
       "5"
      ],
      "text/latex": [
       "5"
      ],
      "text/markdown": [
       "5"
      ],
      "text/plain": [
       "[1] 5"
      ]
     },
     "metadata": {},
     "output_type": "display_data"
    }
   ],
   "source": [
    "length(pval)"
   ]
  },
  {
   "cell_type": "code",
   "execution_count": 7,
   "metadata": {
    "scrolled": true
   },
   "outputs": [
    {
     "data": {
      "text/html": [
       "5"
      ],
      "text/latex": [
       "5"
      ],
      "text/markdown": [
       "5"
      ],
      "text/plain": [
       "[1] 5"
      ]
     },
     "metadata": {},
     "output_type": "display_data"
    }
   ],
   "source": [
    "length(pAdj)"
   ]
  },
  {
   "cell_type": "code",
   "execution_count": 8,
   "metadata": {},
   "outputs": [
    {
     "data": {
      "text/html": [
       "<ol class=list-inline>\n",
       "\t<li>2</li>\n",
       "\t<li>5</li>\n",
       "</ol>\n"
      ],
      "text/latex": [
       "\\begin{enumerate*}\n",
       "\\item 2\n",
       "\\item 5\n",
       "\\end{enumerate*}\n"
      ],
      "text/markdown": [
       "1. 2\n",
       "2. 5\n",
       "\n",
       "\n"
      ],
      "text/plain": [
       "[1] 2 5"
      ]
     },
     "metadata": {},
     "output_type": "display_data"
    },
    {
     "data": {
      "text/html": [
       "<table>\n",
       "<thead><tr><th></th><th scope=col>mass_400</th><th scope=col>mass_500</th><th scope=col>mass_600</th></tr></thead>\n",
       "<tbody>\n",
       "\t<tr><th scope=row>combo</th><td>0.03808039 </td><td>0.04787172 </td><td>0.001467880</td></tr>\n",
       "\t<tr><th scope=row>naive</th><td>0.03924082 </td><td>0.05758096 </td><td>0.002080005</td></tr>\n",
       "</tbody>\n",
       "</table>\n"
      ],
      "text/latex": [
       "\\begin{tabular}{r|lll}\n",
       "  & mass\\_400 & mass\\_500 & mass\\_600\\\\\n",
       "\\hline\n",
       "\tcombo & 0.03808039  & 0.04787172  & 0.001467880\\\\\n",
       "\tnaive & 0.03924082  & 0.05758096  & 0.002080005\\\\\n",
       "\\end{tabular}\n"
      ],
      "text/markdown": [
       "\n",
       "| <!--/--> | mass_400 | mass_500 | mass_600 |\n",
       "|---|---|---|---|\n",
       "| combo | 0.03808039  | 0.04787172  | 0.001467880 |\n",
       "| naive | 0.03924082  | 0.05758096  | 0.002080005 |\n",
       "\n"
      ],
      "text/plain": [
       "      mass_400   mass_500   mass_600   \n",
       "combo 0.03808039 0.04787172 0.001467880\n",
       "naive 0.03924082 0.05758096 0.002080005"
      ]
     },
     "metadata": {},
     "output_type": "display_data"
    },
    {
     "data": {
      "text/html": [
       "<dl class=dl-horizontal>\n",
       "\t<dt>mass_400</dt>\n",
       "\t\t<dd>0.970427882332563</dd>\n",
       "\t<dt>mass_500</dt>\n",
       "\t\t<dd>0.831381033287436</dd>\n",
       "\t<dt>mass_600</dt>\n",
       "\t\t<dd>0.705709514023377</dd>\n",
       "\t<dt>mass_700</dt>\n",
       "\t\t<dd>1.10241700804832</dd>\n",
       "\t<dt>mass_800</dt>\n",
       "\t\t<dd>1.15567179210436</dd>\n",
       "</dl>\n"
      ],
      "text/latex": [
       "\\begin{description*}\n",
       "\\item[mass\\textbackslash{}\\_400] 0.970427882332563\n",
       "\\item[mass\\textbackslash{}\\_500] 0.831381033287436\n",
       "\\item[mass\\textbackslash{}\\_600] 0.705709514023377\n",
       "\\item[mass\\textbackslash{}\\_700] 1.10241700804832\n",
       "\\item[mass\\textbackslash{}\\_800] 1.15567179210436\n",
       "\\end{description*}\n"
      ],
      "text/markdown": [
       "mass_400\n",
       ":   0.970427882332563mass_500\n",
       ":   0.831381033287436mass_600\n",
       ":   0.705709514023377mass_700\n",
       ":   1.10241700804832mass_800\n",
       ":   1.15567179210436\n",
       "\n"
      ],
      "text/plain": [
       " mass_400  mass_500  mass_600  mass_700  mass_800 \n",
       "0.9704279 0.8313810 0.7057095 1.1024170 1.1556718 "
      ]
     },
     "metadata": {},
     "output_type": "display_data"
    },
    {
     "data": {
      "text/html": [
       "<ol class=list-inline>\n",
       "\t<li>'numeric'</li>\n",
       "\t<li>'vector'</li>\n",
       "</ol>\n"
      ],
      "text/latex": [
       "\\begin{enumerate*}\n",
       "\\item 'numeric'\n",
       "\\item 'vector'\n",
       "\\end{enumerate*}\n"
      ],
      "text/markdown": [
       "1. 'numeric'\n",
       "2. 'vector'\n",
       "\n",
       "\n"
      ],
      "text/plain": [
       "[1] \"numeric\" \"vector\" "
      ]
     },
     "metadata": {},
     "output_type": "display_data"
    }
   ],
   "source": [
    "avg<- apply(nonzero_wMeta[,8:ncol(nonzero_wMeta)], 2, function(x) tapply(x, nonzero_wMeta$Treatmentgroup, function(x) mean(x))) \n",
    "\n",
    "dim(avg)\n",
    "\n",
    "avg[,1:3]\n",
    "\n",
    "fch <- apply(avg, 2, function(x) x[1]/x[2])\n",
    "\n",
    "head(fch)\n",
    "is(fch)"
   ]
  },
  {
   "cell_type": "code",
   "execution_count": 9,
   "metadata": {
    "scrolled": true
   },
   "outputs": [
    {
     "data": {
      "text/html": [
       "<dl class=dl-horizontal>\n",
       "\t<dt>mass_400</dt>\n",
       "\t\t<dd>0.970427882332563</dd>\n",
       "\t<dt>mass_500</dt>\n",
       "\t\t<dd>0.831381033287436</dd>\n",
       "\t<dt>mass_600</dt>\n",
       "\t\t<dd>0.705709514023377</dd>\n",
       "\t<dt>mass_700</dt>\n",
       "\t\t<dd>1.10241700804832</dd>\n",
       "\t<dt>mass_800</dt>\n",
       "\t\t<dd>1.15567179210436</dd>\n",
       "</dl>\n"
      ],
      "text/latex": [
       "\\begin{description*}\n",
       "\\item[mass\\textbackslash{}\\_400] 0.970427882332563\n",
       "\\item[mass\\textbackslash{}\\_500] 0.831381033287436\n",
       "\\item[mass\\textbackslash{}\\_600] 0.705709514023377\n",
       "\\item[mass\\textbackslash{}\\_700] 1.10241700804832\n",
       "\\item[mass\\textbackslash{}\\_800] 1.15567179210436\n",
       "\\end{description*}\n"
      ],
      "text/markdown": [
       "mass_400\n",
       ":   0.970427882332563mass_500\n",
       ":   0.831381033287436mass_600\n",
       ":   0.705709514023377mass_700\n",
       ":   1.10241700804832mass_800\n",
       ":   1.15567179210436\n",
       "\n"
      ],
      "text/plain": [
       " mass_400  mass_500  mass_600  mass_700  mass_800 \n",
       "0.9704279 0.8313810 0.7057095 1.1024170 1.1556718 "
      ]
     },
     "metadata": {},
     "output_type": "display_data"
    }
   ],
   "source": [
    "fch"
   ]
  },
  {
   "cell_type": "code",
   "execution_count": 10,
   "metadata": {
    "scrolled": false
   },
   "outputs": [],
   "source": [
    "df <- data.frame(fch,pval, pAdj)\n",
    "write.csv(df, \"PC-treat-LVB-wilcox-naive-combo.csv\")"
   ]
  },
  {
   "cell_type": "code",
   "execution_count": null,
   "metadata": {},
   "outputs": [],
   "source": []
  },
  {
   "cell_type": "code",
   "execution_count": null,
   "metadata": {},
   "outputs": [],
   "source": []
  },
  {
   "cell_type": "code",
   "execution_count": null,
   "metadata": {},
   "outputs": [],
   "source": []
  },
  {
   "cell_type": "code",
   "execution_count": null,
   "metadata": {},
   "outputs": [],
   "source": []
  },
  {
   "cell_type": "code",
   "execution_count": null,
   "metadata": {},
   "outputs": [],
   "source": []
  },
  {
   "cell_type": "code",
   "execution_count": null,
   "metadata": {},
   "outputs": [],
   "source": []
  }
 ],
 "metadata": {
  "kernelspec": {
   "display_name": "R",
   "language": "R",
   "name": "ir"
  },
  "language_info": {
   "codemirror_mode": "r",
   "file_extension": ".r",
   "mimetype": "text/x-r-source",
   "name": "R",
   "pygments_lexer": "r",
   "version": "3.6.1"
  }
 },
 "nbformat": 4,
 "nbformat_minor": 2
}
