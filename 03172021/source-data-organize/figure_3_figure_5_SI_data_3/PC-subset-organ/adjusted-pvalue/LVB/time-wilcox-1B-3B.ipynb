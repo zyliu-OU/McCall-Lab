{
 "cells": [
  {
   "cell_type": "code",
   "execution_count": 1,
   "metadata": {},
   "outputs": [],
   "source": [
    "a <- read.csv(\"03172021-PC-time-LVB-M-F.csv\")"
   ]
  },
  {
   "cell_type": "code",
   "execution_count": 2,
   "metadata": {},
   "outputs": [
    {
     "data": {
      "text/html": [
       "<table>\n",
       "<thead><tr><th scope=col>filename</th><th scope=col>MouseID</th><th scope=col>Treatmentgroup</th><th scope=col>status</th><th scope=col>DPI</th><th scope=col>organ</th><th scope=col>well_position</th><th scope=col>plate</th><th scope=col>mass_400</th><th scope=col>mass_500</th><th scope=col>mass_600</th><th scope=col>mass_700</th><th scope=col>mass_800</th></tr></thead>\n",
       "<tbody>\n",
       "\t<tr><td>X501_Group1A_50dpi_LV_bottom_251_B_A1_P133.mzXML</td><td>501                                             </td><td>Group1A                                         </td><td>naive                                           </td><td>50                                              </td><td>LV_bottom                                       </td><td>A1                                              </td><td>P133                                            </td><td>0.07892350                                      </td><td>0.06530699                                      </td><td>0.000970399                                     </td><td>0.001945097                                     </td><td>0.000366071                                     </td></tr>\n",
       "\t<tr><td>X502_Group1A_50dpi_LV_bottom_252_B_A2_P133.mzXML</td><td>502                                             </td><td>Group1A                                         </td><td>naive                                           </td><td>50                                              </td><td>LV_bottom                                       </td><td>A2                                              </td><td>P133                                            </td><td>0.07924256                                      </td><td>0.07617429                                      </td><td>0.002993028                                     </td><td>0.008440000                                     </td><td>0.004184386                                     </td></tr>\n",
       "\t<tr><td>X503_Group1A_50dpi_LV_bottom_253_B_A3_P133.mzXML</td><td>503                                             </td><td>Group1A                                         </td><td>naive                                           </td><td>50                                              </td><td>LV_bottom                                       </td><td>A3                                              </td><td>P133                                            </td><td>0.09699436                                      </td><td>0.09873023                                      </td><td>0.003911717                                     </td><td>0.009612853                                     </td><td>0.002613826                                     </td></tr>\n",
       "\t<tr><td>X504_Group1A_50dpi_LV_bottom_254_B_A4_P133.mzXML</td><td>504                                             </td><td>Group1A                                         </td><td>naive                                           </td><td>50                                              </td><td>LV_bottom                                       </td><td>A4                                              </td><td>P133                                            </td><td>0.10572540                                      </td><td>0.09846079                                      </td><td>0.004994654                                     </td><td>0.004941648                                     </td><td>0.001521743                                     </td></tr>\n",
       "\t<tr><td>X505_Group1A_50dpi_LV_bottom_255_B_A5_P133.mzXML</td><td>505                                             </td><td>Group1A                                         </td><td>naive                                           </td><td>50                                              </td><td>LV_bottom                                       </td><td>A5                                              </td><td>P133                                            </td><td>0.08135525                                      </td><td>0.07720000                                      </td><td>0.004086950                                     </td><td>0.006328910                                     </td><td>0.003207701                                     </td></tr>\n",
       "\t<tr><td>X521_Group1A_50dpi_LV_bottom_256_B_A6_P133.mzXML</td><td>521                                             </td><td>Group1A                                         </td><td>naive                                           </td><td>50                                              </td><td>LV_bottom                                       </td><td>A6                                              </td><td>P133                                            </td><td>0.07975525                                      </td><td>0.08729091                                      </td><td>0.003954718                                     </td><td>0.009437329                                     </td><td>0.003987342                                     </td></tr>\n",
       "</tbody>\n",
       "</table>\n"
      ],
      "text/latex": [
       "\\begin{tabular}{r|lllllllllllll}\n",
       " filename & MouseID & Treatmentgroup & status & DPI & organ & well\\_position & plate & mass\\_400 & mass\\_500 & mass\\_600 & mass\\_700 & mass\\_800\\\\\n",
       "\\hline\n",
       "\t X501\\_Group1A\\_50dpi\\_LV\\_bottom\\_251\\_B\\_A1\\_P133.mzXML & 501                                                              & Group1A                                                          & naive                                                            & 50                                                               & LV\\_bottom                                                      & A1                                                               & P133                                                             & 0.07892350                                                       & 0.06530699                                                       & 0.000970399                                                      & 0.001945097                                                      & 0.000366071                                                     \\\\\n",
       "\t X502\\_Group1A\\_50dpi\\_LV\\_bottom\\_252\\_B\\_A2\\_P133.mzXML & 502                                                              & Group1A                                                          & naive                                                            & 50                                                               & LV\\_bottom                                                      & A2                                                               & P133                                                             & 0.07924256                                                       & 0.07617429                                                       & 0.002993028                                                      & 0.008440000                                                      & 0.004184386                                                     \\\\\n",
       "\t X503\\_Group1A\\_50dpi\\_LV\\_bottom\\_253\\_B\\_A3\\_P133.mzXML & 503                                                              & Group1A                                                          & naive                                                            & 50                                                               & LV\\_bottom                                                      & A3                                                               & P133                                                             & 0.09699436                                                       & 0.09873023                                                       & 0.003911717                                                      & 0.009612853                                                      & 0.002613826                                                     \\\\\n",
       "\t X504\\_Group1A\\_50dpi\\_LV\\_bottom\\_254\\_B\\_A4\\_P133.mzXML & 504                                                              & Group1A                                                          & naive                                                            & 50                                                               & LV\\_bottom                                                      & A4                                                               & P133                                                             & 0.10572540                                                       & 0.09846079                                                       & 0.004994654                                                      & 0.004941648                                                      & 0.001521743                                                     \\\\\n",
       "\t X505\\_Group1A\\_50dpi\\_LV\\_bottom\\_255\\_B\\_A5\\_P133.mzXML & 505                                                              & Group1A                                                          & naive                                                            & 50                                                               & LV\\_bottom                                                      & A5                                                               & P133                                                             & 0.08135525                                                       & 0.07720000                                                       & 0.004086950                                                      & 0.006328910                                                      & 0.003207701                                                     \\\\\n",
       "\t X521\\_Group1A\\_50dpi\\_LV\\_bottom\\_256\\_B\\_A6\\_P133.mzXML & 521                                                              & Group1A                                                          & naive                                                            & 50                                                               & LV\\_bottom                                                      & A6                                                               & P133                                                             & 0.07975525                                                       & 0.08729091                                                       & 0.003954718                                                      & 0.009437329                                                      & 0.003987342                                                     \\\\\n",
       "\\end{tabular}\n"
      ],
      "text/markdown": [
       "\n",
       "| filename | MouseID | Treatmentgroup | status | DPI | organ | well_position | plate | mass_400 | mass_500 | mass_600 | mass_700 | mass_800 |\n",
       "|---|---|---|---|---|---|---|---|---|---|---|---|---|\n",
       "| X501_Group1A_50dpi_LV_bottom_251_B_A1_P133.mzXML | 501                                              | Group1A                                          | naive                                            | 50                                               | LV_bottom                                        | A1                                               | P133                                             | 0.07892350                                       | 0.06530699                                       | 0.000970399                                      | 0.001945097                                      | 0.000366071                                      |\n",
       "| X502_Group1A_50dpi_LV_bottom_252_B_A2_P133.mzXML | 502                                              | Group1A                                          | naive                                            | 50                                               | LV_bottom                                        | A2                                               | P133                                             | 0.07924256                                       | 0.07617429                                       | 0.002993028                                      | 0.008440000                                      | 0.004184386                                      |\n",
       "| X503_Group1A_50dpi_LV_bottom_253_B_A3_P133.mzXML | 503                                              | Group1A                                          | naive                                            | 50                                               | LV_bottom                                        | A3                                               | P133                                             | 0.09699436                                       | 0.09873023                                       | 0.003911717                                      | 0.009612853                                      | 0.002613826                                      |\n",
       "| X504_Group1A_50dpi_LV_bottom_254_B_A4_P133.mzXML | 504                                              | Group1A                                          | naive                                            | 50                                               | LV_bottom                                        | A4                                               | P133                                             | 0.10572540                                       | 0.09846079                                       | 0.004994654                                      | 0.004941648                                      | 0.001521743                                      |\n",
       "| X505_Group1A_50dpi_LV_bottom_255_B_A5_P133.mzXML | 505                                              | Group1A                                          | naive                                            | 50                                               | LV_bottom                                        | A5                                               | P133                                             | 0.08135525                                       | 0.07720000                                       | 0.004086950                                      | 0.006328910                                      | 0.003207701                                      |\n",
       "| X521_Group1A_50dpi_LV_bottom_256_B_A6_P133.mzXML | 521                                              | Group1A                                          | naive                                            | 50                                               | LV_bottom                                        | A6                                               | P133                                             | 0.07975525                                       | 0.08729091                                       | 0.003954718                                      | 0.009437329                                      | 0.003987342                                      |\n",
       "\n"
      ],
      "text/plain": [
       "  filename                                         MouseID Treatmentgroup\n",
       "1 X501_Group1A_50dpi_LV_bottom_251_B_A1_P133.mzXML 501     Group1A       \n",
       "2 X502_Group1A_50dpi_LV_bottom_252_B_A2_P133.mzXML 502     Group1A       \n",
       "3 X503_Group1A_50dpi_LV_bottom_253_B_A3_P133.mzXML 503     Group1A       \n",
       "4 X504_Group1A_50dpi_LV_bottom_254_B_A4_P133.mzXML 504     Group1A       \n",
       "5 X505_Group1A_50dpi_LV_bottom_255_B_A5_P133.mzXML 505     Group1A       \n",
       "6 X521_Group1A_50dpi_LV_bottom_256_B_A6_P133.mzXML 521     Group1A       \n",
       "  status DPI organ     well_position plate mass_400   mass_500   mass_600   \n",
       "1 naive  50  LV_bottom A1            P133  0.07892350 0.06530699 0.000970399\n",
       "2 naive  50  LV_bottom A2            P133  0.07924256 0.07617429 0.002993028\n",
       "3 naive  50  LV_bottom A3            P133  0.09699436 0.09873023 0.003911717\n",
       "4 naive  50  LV_bottom A4            P133  0.10572540 0.09846079 0.004994654\n",
       "5 naive  50  LV_bottom A5            P133  0.08135525 0.07720000 0.004086950\n",
       "6 naive  50  LV_bottom A6            P133  0.07975525 0.08729091 0.003954718\n",
       "  mass_700    mass_800   \n",
       "1 0.001945097 0.000366071\n",
       "2 0.008440000 0.004184386\n",
       "3 0.009612853 0.002613826\n",
       "4 0.004941648 0.001521743\n",
       "5 0.006328910 0.003207701\n",
       "6 0.009437329 0.003987342"
      ]
     },
     "metadata": {},
     "output_type": "display_data"
    },
    {
     "data": {
      "text/html": [
       "<ol class=list-inline>\n",
       "\t<li>90</li>\n",
       "\t<li>13</li>\n",
       "</ol>\n"
      ],
      "text/latex": [
       "\\begin{enumerate*}\n",
       "\\item 90\n",
       "\\item 13\n",
       "\\end{enumerate*}\n"
      ],
      "text/markdown": [
       "1. 90\n",
       "2. 13\n",
       "\n",
       "\n"
      ],
      "text/plain": [
       "[1] 90 13"
      ]
     },
     "metadata": {},
     "output_type": "display_data"
    }
   ],
   "source": [
    "head(a)\n",
    "dim(a)"
   ]
  },
  {
   "cell_type": "code",
   "execution_count": 3,
   "metadata": {},
   "outputs": [
    {
     "data": {
      "text/html": [
       "<table>\n",
       "<thead><tr><th></th><th scope=col>filename</th><th scope=col>MouseID</th><th scope=col>Treatmentgroup</th><th scope=col>status</th><th scope=col>DPI</th><th scope=col>organ</th><th scope=col>well_position</th><th scope=col>plate</th><th scope=col>mass_400</th><th scope=col>mass_500</th><th scope=col>mass_600</th><th scope=col>mass_700</th><th scope=col>mass_800</th></tr></thead>\n",
       "<tbody>\n",
       "\t<tr><th scope=row>16</th><td>X506_Group1B_70dpi_LV_bottom_281_B_C7_P133.mzXML </td><td>506                                              </td><td>Group1B                                          </td><td>naive                                            </td><td>75                                               </td><td>LV_bottom                                        </td><td>C7                                               </td><td>P133                                             </td><td>0.06828841                                       </td><td>0.06292404                                       </td><td>0.002967751                                      </td><td>0.007300000                                      </td><td>0.003110738                                      </td></tr>\n",
       "\t<tr><th scope=row>17</th><td>X507_Group1B_70dpi_LV_bottom_282_B_C8_P133.mzXML </td><td>507                                              </td><td>Group1B                                          </td><td>naive                                            </td><td>75                                               </td><td>LV_bottom                                        </td><td>C8                                               </td><td>P133                                             </td><td>0.06572983                                       </td><td>0.05743410                                       </td><td>0.002763560                                      </td><td>0.006749543                                      </td><td>0.003015778                                      </td></tr>\n",
       "\t<tr><th scope=row>18</th><td>X508_Group1B_70dpi_LV_bottom_283_B_C9_P133.mzXML </td><td>508                                              </td><td>Group1B                                          </td><td>naive                                            </td><td>75                                               </td><td>LV_bottom                                        </td><td>C9                                               </td><td>P133                                             </td><td>0.06579673                                       </td><td>0.05863833                                       </td><td>0.003233173                                      </td><td>0.010467686                                      </td><td>0.003320559                                      </td></tr>\n",
       "\t<tr><th scope=row>19</th><td>X509_Group1B_70dpi_LV_bottom_284_B_C10_P133.mzXML</td><td>509                                              </td><td>Group1B                                          </td><td>naive                                            </td><td>75                                               </td><td>LV_bottom                                        </td><td>C10                                              </td><td>P133                                             </td><td>0.02299585                                       </td><td>0.01938095                                       </td><td>0.000337286                                      </td><td>0.007340795                                      </td><td>0.001557687                                      </td></tr>\n",
       "\t<tr><th scope=row>20</th><td>X510_Group1B_70dpi_LV_bottom_285_B_C11_P133.mzXML</td><td>510                                              </td><td>Group1B                                          </td><td>naive                                            </td><td>75                                               </td><td>LV_bottom                                        </td><td>C11                                              </td><td>P133                                             </td><td>0.05263086                                       </td><td>0.04600000                                       </td><td>0.000736160                                      </td><td>0.002057198                                      </td><td>0.000266219                                      </td></tr>\n",
       "\t<tr><th scope=row>21</th><td>X526_Group1B_70dpi_LV_bottom_286_B_C12_P133.mzXML</td><td>526                                              </td><td>Group1B                                          </td><td>naive                                            </td><td>75                                               </td><td>LV_bottom                                        </td><td>C12                                              </td><td>P133                                             </td><td>0.07202692                                       </td><td>0.06700000                                       </td><td>0.002716652                                      </td><td>0.001190607                                      </td><td>0.000038300                                      </td></tr>\n",
       "</tbody>\n",
       "</table>\n"
      ],
      "text/latex": [
       "\\begin{tabular}{r|lllllllllllll}\n",
       "  & filename & MouseID & Treatmentgroup & status & DPI & organ & well\\_position & plate & mass\\_400 & mass\\_500 & mass\\_600 & mass\\_700 & mass\\_800\\\\\n",
       "\\hline\n",
       "\t16 & X506\\_Group1B\\_70dpi\\_LV\\_bottom\\_281\\_B\\_C7\\_P133.mzXML  & 506                                                               & Group1B                                                           & naive                                                             & 75                                                                & LV\\_bottom                                                       & C7                                                                & P133                                                              & 0.06828841                                                        & 0.06292404                                                        & 0.002967751                                                       & 0.007300000                                                       & 0.003110738                                                      \\\\\n",
       "\t17 & X507\\_Group1B\\_70dpi\\_LV\\_bottom\\_282\\_B\\_C8\\_P133.mzXML  & 507                                                               & Group1B                                                           & naive                                                             & 75                                                                & LV\\_bottom                                                       & C8                                                                & P133                                                              & 0.06572983                                                        & 0.05743410                                                        & 0.002763560                                                       & 0.006749543                                                       & 0.003015778                                                      \\\\\n",
       "\t18 & X508\\_Group1B\\_70dpi\\_LV\\_bottom\\_283\\_B\\_C9\\_P133.mzXML  & 508                                                               & Group1B                                                           & naive                                                             & 75                                                                & LV\\_bottom                                                       & C9                                                                & P133                                                              & 0.06579673                                                        & 0.05863833                                                        & 0.003233173                                                       & 0.010467686                                                       & 0.003320559                                                      \\\\\n",
       "\t19 & X509\\_Group1B\\_70dpi\\_LV\\_bottom\\_284\\_B\\_C10\\_P133.mzXML & 509                                                               & Group1B                                                           & naive                                                             & 75                                                                & LV\\_bottom                                                       & C10                                                               & P133                                                              & 0.02299585                                                        & 0.01938095                                                        & 0.000337286                                                       & 0.007340795                                                       & 0.001557687                                                      \\\\\n",
       "\t20 & X510\\_Group1B\\_70dpi\\_LV\\_bottom\\_285\\_B\\_C11\\_P133.mzXML & 510                                                               & Group1B                                                           & naive                                                             & 75                                                                & LV\\_bottom                                                       & C11                                                               & P133                                                              & 0.05263086                                                        & 0.04600000                                                        & 0.000736160                                                       & 0.002057198                                                       & 0.000266219                                                      \\\\\n",
       "\t21 & X526\\_Group1B\\_70dpi\\_LV\\_bottom\\_286\\_B\\_C12\\_P133.mzXML & 526                                                               & Group1B                                                           & naive                                                             & 75                                                                & LV\\_bottom                                                       & C12                                                               & P133                                                              & 0.07202692                                                        & 0.06700000                                                        & 0.002716652                                                       & 0.001190607                                                       & 0.000038300                                                      \\\\\n",
       "\\end{tabular}\n"
      ],
      "text/markdown": [
       "\n",
       "| <!--/--> | filename | MouseID | Treatmentgroup | status | DPI | organ | well_position | plate | mass_400 | mass_500 | mass_600 | mass_700 | mass_800 |\n",
       "|---|---|---|---|---|---|---|---|---|---|---|---|---|---|\n",
       "| 16 | X506_Group1B_70dpi_LV_bottom_281_B_C7_P133.mzXML  | 506                                               | Group1B                                           | naive                                             | 75                                                | LV_bottom                                         | C7                                                | P133                                              | 0.06828841                                        | 0.06292404                                        | 0.002967751                                       | 0.007300000                                       | 0.003110738                                       |\n",
       "| 17 | X507_Group1B_70dpi_LV_bottom_282_B_C8_P133.mzXML  | 507                                               | Group1B                                           | naive                                             | 75                                                | LV_bottom                                         | C8                                                | P133                                              | 0.06572983                                        | 0.05743410                                        | 0.002763560                                       | 0.006749543                                       | 0.003015778                                       |\n",
       "| 18 | X508_Group1B_70dpi_LV_bottom_283_B_C9_P133.mzXML  | 508                                               | Group1B                                           | naive                                             | 75                                                | LV_bottom                                         | C9                                                | P133                                              | 0.06579673                                        | 0.05863833                                        | 0.003233173                                       | 0.010467686                                       | 0.003320559                                       |\n",
       "| 19 | X509_Group1B_70dpi_LV_bottom_284_B_C10_P133.mzXML | 509                                               | Group1B                                           | naive                                             | 75                                                | LV_bottom                                         | C10                                               | P133                                              | 0.02299585                                        | 0.01938095                                        | 0.000337286                                       | 0.007340795                                       | 0.001557687                                       |\n",
       "| 20 | X510_Group1B_70dpi_LV_bottom_285_B_C11_P133.mzXML | 510                                               | Group1B                                           | naive                                             | 75                                                | LV_bottom                                         | C11                                               | P133                                              | 0.05263086                                        | 0.04600000                                        | 0.000736160                                       | 0.002057198                                       | 0.000266219                                       |\n",
       "| 21 | X526_Group1B_70dpi_LV_bottom_286_B_C12_P133.mzXML | 526                                               | Group1B                                           | naive                                             | 75                                                | LV_bottom                                         | C12                                               | P133                                              | 0.07202692                                        | 0.06700000                                        | 0.002716652                                       | 0.001190607                                       | 0.000038300                                       |\n",
       "\n"
      ],
      "text/plain": [
       "   filename                                          MouseID Treatmentgroup\n",
       "16 X506_Group1B_70dpi_LV_bottom_281_B_C7_P133.mzXML  506     Group1B       \n",
       "17 X507_Group1B_70dpi_LV_bottom_282_B_C8_P133.mzXML  507     Group1B       \n",
       "18 X508_Group1B_70dpi_LV_bottom_283_B_C9_P133.mzXML  508     Group1B       \n",
       "19 X509_Group1B_70dpi_LV_bottom_284_B_C10_P133.mzXML 509     Group1B       \n",
       "20 X510_Group1B_70dpi_LV_bottom_285_B_C11_P133.mzXML 510     Group1B       \n",
       "21 X526_Group1B_70dpi_LV_bottom_286_B_C12_P133.mzXML 526     Group1B       \n",
       "   status DPI organ     well_position plate mass_400   mass_500   mass_600   \n",
       "16 naive  75  LV_bottom C7            P133  0.06828841 0.06292404 0.002967751\n",
       "17 naive  75  LV_bottom C8            P133  0.06572983 0.05743410 0.002763560\n",
       "18 naive  75  LV_bottom C9            P133  0.06579673 0.05863833 0.003233173\n",
       "19 naive  75  LV_bottom C10           P133  0.02299585 0.01938095 0.000337286\n",
       "20 naive  75  LV_bottom C11           P133  0.05263086 0.04600000 0.000736160\n",
       "21 naive  75  LV_bottom C12           P133  0.07202692 0.06700000 0.002716652\n",
       "   mass_700    mass_800   \n",
       "16 0.007300000 0.003110738\n",
       "17 0.006749543 0.003015778\n",
       "18 0.010467686 0.003320559\n",
       "19 0.007340795 0.001557687\n",
       "20 0.002057198 0.000266219\n",
       "21 0.001190607 0.000038300"
      ]
     },
     "metadata": {},
     "output_type": "display_data"
    },
    {
     "data": {
      "text/html": [
       "<ol class=list-inline>\n",
       "\t<li>30</li>\n",
       "\t<li>13</li>\n",
       "</ol>\n"
      ],
      "text/latex": [
       "\\begin{enumerate*}\n",
       "\\item 30\n",
       "\\item 13\n",
       "\\end{enumerate*}\n"
      ],
      "text/markdown": [
       "1. 30\n",
       "2. 13\n",
       "\n",
       "\n"
      ],
      "text/plain": [
       "[1] 30 13"
      ]
     },
     "metadata": {},
     "output_type": "display_data"
    }
   ],
   "source": [
    "features_pos<-droplevels(subset(a, a$Treatmentgroup==c(\"Group1B\")|a$Treatmentgroup==c(\"Group3B\")))\n",
    "head(features_pos)\n",
    "dim(features_pos)"
   ]
  },
  {
   "cell_type": "code",
   "execution_count": 4,
   "metadata": {
    "scrolled": false
   },
   "outputs": [
    {
     "data": {
      "text/html": [
       "<table>\n",
       "<thead><tr><th></th><th scope=col>mass_400</th><th scope=col>mass_500</th><th scope=col>mass_600</th><th scope=col>mass_700</th><th scope=col>mass_800</th></tr></thead>\n",
       "<tbody>\n",
       "\t<tr><th scope=row>16</th><td>0.06828841 </td><td>0.06292404 </td><td>0.002967751</td><td>0.007300000</td><td>0.003110738</td></tr>\n",
       "\t<tr><th scope=row>17</th><td>0.06572983 </td><td>0.05743410 </td><td>0.002763560</td><td>0.006749543</td><td>0.003015778</td></tr>\n",
       "\t<tr><th scope=row>18</th><td>0.06579673 </td><td>0.05863833 </td><td>0.003233173</td><td>0.010467686</td><td>0.003320559</td></tr>\n",
       "\t<tr><th scope=row>19</th><td>0.02299585 </td><td>0.01938095 </td><td>0.000337286</td><td>0.007340795</td><td>0.001557687</td></tr>\n",
       "\t<tr><th scope=row>20</th><td>0.05263086 </td><td>0.04600000 </td><td>0.000736160</td><td>0.002057198</td><td>0.000266219</td></tr>\n",
       "\t<tr><th scope=row>21</th><td>0.07202692 </td><td>0.06700000 </td><td>0.002716652</td><td>0.001190607</td><td>0.000038300</td></tr>\n",
       "</tbody>\n",
       "</table>\n"
      ],
      "text/latex": [
       "\\begin{tabular}{r|lllll}\n",
       "  & mass\\_400 & mass\\_500 & mass\\_600 & mass\\_700 & mass\\_800\\\\\n",
       "\\hline\n",
       "\t16 & 0.06828841  & 0.06292404  & 0.002967751 & 0.007300000 & 0.003110738\\\\\n",
       "\t17 & 0.06572983  & 0.05743410  & 0.002763560 & 0.006749543 & 0.003015778\\\\\n",
       "\t18 & 0.06579673  & 0.05863833  & 0.003233173 & 0.010467686 & 0.003320559\\\\\n",
       "\t19 & 0.02299585  & 0.01938095  & 0.000337286 & 0.007340795 & 0.001557687\\\\\n",
       "\t20 & 0.05263086  & 0.04600000  & 0.000736160 & 0.002057198 & 0.000266219\\\\\n",
       "\t21 & 0.07202692  & 0.06700000  & 0.002716652 & 0.001190607 & 0.000038300\\\\\n",
       "\\end{tabular}\n"
      ],
      "text/markdown": [
       "\n",
       "| <!--/--> | mass_400 | mass_500 | mass_600 | mass_700 | mass_800 |\n",
       "|---|---|---|---|---|---|\n",
       "| 16 | 0.06828841  | 0.06292404  | 0.002967751 | 0.007300000 | 0.003110738 |\n",
       "| 17 | 0.06572983  | 0.05743410  | 0.002763560 | 0.006749543 | 0.003015778 |\n",
       "| 18 | 0.06579673  | 0.05863833  | 0.003233173 | 0.010467686 | 0.003320559 |\n",
       "| 19 | 0.02299585  | 0.01938095  | 0.000337286 | 0.007340795 | 0.001557687 |\n",
       "| 20 | 0.05263086  | 0.04600000  | 0.000736160 | 0.002057198 | 0.000266219 |\n",
       "| 21 | 0.07202692  | 0.06700000  | 0.002716652 | 0.001190607 | 0.000038300 |\n",
       "\n"
      ],
      "text/plain": [
       "   mass_400   mass_500   mass_600    mass_700    mass_800   \n",
       "16 0.06828841 0.06292404 0.002967751 0.007300000 0.003110738\n",
       "17 0.06572983 0.05743410 0.002763560 0.006749543 0.003015778\n",
       "18 0.06579673 0.05863833 0.003233173 0.010467686 0.003320559\n",
       "19 0.02299585 0.01938095 0.000337286 0.007340795 0.001557687\n",
       "20 0.05263086 0.04600000 0.000736160 0.002057198 0.000266219\n",
       "21 0.07202692 0.06700000 0.002716652 0.001190607 0.000038300"
      ]
     },
     "metadata": {},
     "output_type": "display_data"
    },
    {
     "data": {
      "text/html": [
       "<dl class=dl-horizontal>\n",
       "\t<dt>mass_400</dt>\n",
       "\t\t<dd>1</dd>\n",
       "\t<dt>mass_500</dt>\n",
       "\t\t<dd>2</dd>\n",
       "\t<dt>mass_600</dt>\n",
       "\t\t<dd>3</dd>\n",
       "\t<dt>mass_700</dt>\n",
       "\t\t<dd>4</dd>\n",
       "\t<dt>mass_800</dt>\n",
       "\t\t<dd>5</dd>\n",
       "</dl>\n"
      ],
      "text/latex": [
       "\\begin{description*}\n",
       "\\item[mass\\textbackslash{}\\_400] 1\n",
       "\\item[mass\\textbackslash{}\\_500] 2\n",
       "\\item[mass\\textbackslash{}\\_600] 3\n",
       "\\item[mass\\textbackslash{}\\_700] 4\n",
       "\\item[mass\\textbackslash{}\\_800] 5\n",
       "\\end{description*}\n"
      ],
      "text/markdown": [
       "mass_400\n",
       ":   1mass_500\n",
       ":   2mass_600\n",
       ":   3mass_700\n",
       ":   4mass_800\n",
       ":   5\n",
       "\n"
      ],
      "text/plain": [
       "mass_400 mass_500 mass_600 mass_700 mass_800 \n",
       "       1        2        3        4        5 "
      ]
     },
     "metadata": {},
     "output_type": "display_data"
    },
    {
     "data": {
      "text/html": [
       "<table>\n",
       "<thead><tr><th></th><th scope=col>mass_400</th><th scope=col>mass_500</th><th scope=col>mass_600</th><th scope=col>mass_700</th><th scope=col>mass_800</th></tr></thead>\n",
       "<tbody>\n",
       "\t<tr><th scope=row>16</th><td>0.06828841 </td><td>0.06292404 </td><td>0.002967751</td><td>0.007300000</td><td>0.003110738</td></tr>\n",
       "\t<tr><th scope=row>17</th><td>0.06572983 </td><td>0.05743410 </td><td>0.002763560</td><td>0.006749543</td><td>0.003015778</td></tr>\n",
       "\t<tr><th scope=row>18</th><td>0.06579673 </td><td>0.05863833 </td><td>0.003233173</td><td>0.010467686</td><td>0.003320559</td></tr>\n",
       "\t<tr><th scope=row>19</th><td>0.02299585 </td><td>0.01938095 </td><td>0.000337286</td><td>0.007340795</td><td>0.001557687</td></tr>\n",
       "\t<tr><th scope=row>20</th><td>0.05263086 </td><td>0.04600000 </td><td>0.000736160</td><td>0.002057198</td><td>0.000266219</td></tr>\n",
       "\t<tr><th scope=row>21</th><td>0.07202692 </td><td>0.06700000 </td><td>0.002716652</td><td>0.001190607</td><td>0.000038300</td></tr>\n",
       "\t<tr><th scope=row>22</th><td>0.07680427 </td><td>0.07980000 </td><td>0.003201121</td><td>0.008132565</td><td>0.004835063</td></tr>\n",
       "\t<tr><th scope=row>23</th><td>0.04040266 </td><td>0.04040000 </td><td>0.002047455</td><td>0.005017269</td><td>0.001378230</td></tr>\n",
       "\t<tr><th scope=row>24</th><td>0.08591896 </td><td>0.06725181 </td><td>0.003267867</td><td>0.008762006</td><td>0.004148332</td></tr>\n",
       "\t<tr><th scope=row>25</th><td>0.06110597 </td><td>0.06130000 </td><td>0.002897446</td><td>0.008972116</td><td>0.005108260</td></tr>\n",
       "\t<tr><th scope=row>26</th><td>0.06896929 </td><td>0.06225190 </td><td>0.003067693</td><td>0.005530727</td><td>0.003836358</td></tr>\n",
       "\t<tr><th scope=row>27</th><td>0.03347454 </td><td>0.02811736 </td><td>0.000484379</td><td>0.003667650</td><td>0.000325117</td></tr>\n",
       "\t<tr><th scope=row>28</th><td>0.05880213 </td><td>0.04810000 </td><td>0.002246571</td><td>0.001123624</td><td>0.000194704</td></tr>\n",
       "\t<tr><th scope=row>29</th><td>0.07405685 </td><td>0.06572412 </td><td>0.003248685</td><td>0.006160914</td><td>0.001054163</td></tr>\n",
       "\t<tr><th scope=row>30</th><td>0.06170996 </td><td>0.07392364 </td><td>0.003667637</td><td>0.004269967</td><td>0.002006940</td></tr>\n",
       "\t<tr><th scope=row>61</th><td>0.13709961 </td><td>0.09280000 </td><td>0.004061479</td><td>0.011602750</td><td>0.006998394</td></tr>\n",
       "\t<tr><th scope=row>62</th><td>0.11004651 </td><td>0.07900000 </td><td>0.003487080</td><td>0.003322744</td><td>0.002348657</td></tr>\n",
       "\t<tr><th scope=row>63</th><td>0.05543765 </td><td>0.03874153 </td><td>0.000317413</td><td>0.004589467</td><td>0.000550069</td></tr>\n",
       "\t<tr><th scope=row>64</th><td>0.03947896 </td><td>0.02622265 </td><td>0.000700283</td><td>0.000807786</td><td>0.000000000</td></tr>\n",
       "\t<tr><th scope=row>65</th><td>0.09635203 </td><td>0.10300000 </td><td>0.004069535</td><td>0.010034734</td><td>0.004440781</td></tr>\n",
       "\t<tr><th scope=row>66</th><td>0.05757066 </td><td>0.06155383 </td><td>0.002063552</td><td>0.011775916</td><td>0.008046618</td></tr>\n",
       "\t<tr><th scope=row>67</th><td>0.09990409 </td><td>0.10800000 </td><td>0.004505481</td><td>0.007565787</td><td>0.003029518</td></tr>\n",
       "\t<tr><th scope=row>68</th><td>0.08644868 </td><td>0.09476926 </td><td>0.003582750</td><td>0.006932883</td><td>0.004632322</td></tr>\n",
       "\t<tr><th scope=row>69</th><td>0.08829077 </td><td>0.09590000 </td><td>0.004475430</td><td>0.018200189</td><td>0.006223759</td></tr>\n",
       "\t<tr><th scope=row>70</th><td>0.06144152 </td><td>0.06608443 </td><td>0.003011987</td><td>0.005974263</td><td>0.001404122</td></tr>\n",
       "\t<tr><th scope=row>71</th><td>0.12335049 </td><td>0.08480000 </td><td>0.003605614</td><td>0.006567672</td><td>0.005875199</td></tr>\n",
       "\t<tr><th scope=row>72</th><td>0.12959204 </td><td>0.09220000 </td><td>0.003819319</td><td>0.005822253</td><td>0.003336441</td></tr>\n",
       "\t<tr><th scope=row>73</th><td>0.09340569 </td><td>0.09041765 </td><td>0.003082317</td><td>0.006346816</td><td>0.002395012</td></tr>\n",
       "\t<tr><th scope=row>74</th><td>0.08919353 </td><td>0.08517997 </td><td>0.001736799</td><td>0.003430456</td><td>0.003157625</td></tr>\n",
       "\t<tr><th scope=row>75</th><td>0.10857890 </td><td>0.10900000 </td><td>0.003207122</td><td>0.014213706</td><td>0.011198791</td></tr>\n",
       "</tbody>\n",
       "</table>\n"
      ],
      "text/latex": [
       "\\begin{tabular}{r|lllll}\n",
       "  & mass\\_400 & mass\\_500 & mass\\_600 & mass\\_700 & mass\\_800\\\\\n",
       "\\hline\n",
       "\t16 & 0.06828841  & 0.06292404  & 0.002967751 & 0.007300000 & 0.003110738\\\\\n",
       "\t17 & 0.06572983  & 0.05743410  & 0.002763560 & 0.006749543 & 0.003015778\\\\\n",
       "\t18 & 0.06579673  & 0.05863833  & 0.003233173 & 0.010467686 & 0.003320559\\\\\n",
       "\t19 & 0.02299585  & 0.01938095  & 0.000337286 & 0.007340795 & 0.001557687\\\\\n",
       "\t20 & 0.05263086  & 0.04600000  & 0.000736160 & 0.002057198 & 0.000266219\\\\\n",
       "\t21 & 0.07202692  & 0.06700000  & 0.002716652 & 0.001190607 & 0.000038300\\\\\n",
       "\t22 & 0.07680427  & 0.07980000  & 0.003201121 & 0.008132565 & 0.004835063\\\\\n",
       "\t23 & 0.04040266  & 0.04040000  & 0.002047455 & 0.005017269 & 0.001378230\\\\\n",
       "\t24 & 0.08591896  & 0.06725181  & 0.003267867 & 0.008762006 & 0.004148332\\\\\n",
       "\t25 & 0.06110597  & 0.06130000  & 0.002897446 & 0.008972116 & 0.005108260\\\\\n",
       "\t26 & 0.06896929  & 0.06225190  & 0.003067693 & 0.005530727 & 0.003836358\\\\\n",
       "\t27 & 0.03347454  & 0.02811736  & 0.000484379 & 0.003667650 & 0.000325117\\\\\n",
       "\t28 & 0.05880213  & 0.04810000  & 0.002246571 & 0.001123624 & 0.000194704\\\\\n",
       "\t29 & 0.07405685  & 0.06572412  & 0.003248685 & 0.006160914 & 0.001054163\\\\\n",
       "\t30 & 0.06170996  & 0.07392364  & 0.003667637 & 0.004269967 & 0.002006940\\\\\n",
       "\t61 & 0.13709961  & 0.09280000  & 0.004061479 & 0.011602750 & 0.006998394\\\\\n",
       "\t62 & 0.11004651  & 0.07900000  & 0.003487080 & 0.003322744 & 0.002348657\\\\\n",
       "\t63 & 0.05543765  & 0.03874153  & 0.000317413 & 0.004589467 & 0.000550069\\\\\n",
       "\t64 & 0.03947896  & 0.02622265  & 0.000700283 & 0.000807786 & 0.000000000\\\\\n",
       "\t65 & 0.09635203  & 0.10300000  & 0.004069535 & 0.010034734 & 0.004440781\\\\\n",
       "\t66 & 0.05757066  & 0.06155383  & 0.002063552 & 0.011775916 & 0.008046618\\\\\n",
       "\t67 & 0.09990409  & 0.10800000  & 0.004505481 & 0.007565787 & 0.003029518\\\\\n",
       "\t68 & 0.08644868  & 0.09476926  & 0.003582750 & 0.006932883 & 0.004632322\\\\\n",
       "\t69 & 0.08829077  & 0.09590000  & 0.004475430 & 0.018200189 & 0.006223759\\\\\n",
       "\t70 & 0.06144152  & 0.06608443  & 0.003011987 & 0.005974263 & 0.001404122\\\\\n",
       "\t71 & 0.12335049  & 0.08480000  & 0.003605614 & 0.006567672 & 0.005875199\\\\\n",
       "\t72 & 0.12959204  & 0.09220000  & 0.003819319 & 0.005822253 & 0.003336441\\\\\n",
       "\t73 & 0.09340569  & 0.09041765  & 0.003082317 & 0.006346816 & 0.002395012\\\\\n",
       "\t74 & 0.08919353  & 0.08517997  & 0.001736799 & 0.003430456 & 0.003157625\\\\\n",
       "\t75 & 0.10857890  & 0.10900000  & 0.003207122 & 0.014213706 & 0.011198791\\\\\n",
       "\\end{tabular}\n"
      ],
      "text/markdown": [
       "\n",
       "| <!--/--> | mass_400 | mass_500 | mass_600 | mass_700 | mass_800 |\n",
       "|---|---|---|---|---|---|\n",
       "| 16 | 0.06828841  | 0.06292404  | 0.002967751 | 0.007300000 | 0.003110738 |\n",
       "| 17 | 0.06572983  | 0.05743410  | 0.002763560 | 0.006749543 | 0.003015778 |\n",
       "| 18 | 0.06579673  | 0.05863833  | 0.003233173 | 0.010467686 | 0.003320559 |\n",
       "| 19 | 0.02299585  | 0.01938095  | 0.000337286 | 0.007340795 | 0.001557687 |\n",
       "| 20 | 0.05263086  | 0.04600000  | 0.000736160 | 0.002057198 | 0.000266219 |\n",
       "| 21 | 0.07202692  | 0.06700000  | 0.002716652 | 0.001190607 | 0.000038300 |\n",
       "| 22 | 0.07680427  | 0.07980000  | 0.003201121 | 0.008132565 | 0.004835063 |\n",
       "| 23 | 0.04040266  | 0.04040000  | 0.002047455 | 0.005017269 | 0.001378230 |\n",
       "| 24 | 0.08591896  | 0.06725181  | 0.003267867 | 0.008762006 | 0.004148332 |\n",
       "| 25 | 0.06110597  | 0.06130000  | 0.002897446 | 0.008972116 | 0.005108260 |\n",
       "| 26 | 0.06896929  | 0.06225190  | 0.003067693 | 0.005530727 | 0.003836358 |\n",
       "| 27 | 0.03347454  | 0.02811736  | 0.000484379 | 0.003667650 | 0.000325117 |\n",
       "| 28 | 0.05880213  | 0.04810000  | 0.002246571 | 0.001123624 | 0.000194704 |\n",
       "| 29 | 0.07405685  | 0.06572412  | 0.003248685 | 0.006160914 | 0.001054163 |\n",
       "| 30 | 0.06170996  | 0.07392364  | 0.003667637 | 0.004269967 | 0.002006940 |\n",
       "| 61 | 0.13709961  | 0.09280000  | 0.004061479 | 0.011602750 | 0.006998394 |\n",
       "| 62 | 0.11004651  | 0.07900000  | 0.003487080 | 0.003322744 | 0.002348657 |\n",
       "| 63 | 0.05543765  | 0.03874153  | 0.000317413 | 0.004589467 | 0.000550069 |\n",
       "| 64 | 0.03947896  | 0.02622265  | 0.000700283 | 0.000807786 | 0.000000000 |\n",
       "| 65 | 0.09635203  | 0.10300000  | 0.004069535 | 0.010034734 | 0.004440781 |\n",
       "| 66 | 0.05757066  | 0.06155383  | 0.002063552 | 0.011775916 | 0.008046618 |\n",
       "| 67 | 0.09990409  | 0.10800000  | 0.004505481 | 0.007565787 | 0.003029518 |\n",
       "| 68 | 0.08644868  | 0.09476926  | 0.003582750 | 0.006932883 | 0.004632322 |\n",
       "| 69 | 0.08829077  | 0.09590000  | 0.004475430 | 0.018200189 | 0.006223759 |\n",
       "| 70 | 0.06144152  | 0.06608443  | 0.003011987 | 0.005974263 | 0.001404122 |\n",
       "| 71 | 0.12335049  | 0.08480000  | 0.003605614 | 0.006567672 | 0.005875199 |\n",
       "| 72 | 0.12959204  | 0.09220000  | 0.003819319 | 0.005822253 | 0.003336441 |\n",
       "| 73 | 0.09340569  | 0.09041765  | 0.003082317 | 0.006346816 | 0.002395012 |\n",
       "| 74 | 0.08919353  | 0.08517997  | 0.001736799 | 0.003430456 | 0.003157625 |\n",
       "| 75 | 0.10857890  | 0.10900000  | 0.003207122 | 0.014213706 | 0.011198791 |\n",
       "\n"
      ],
      "text/plain": [
       "   mass_400   mass_500   mass_600    mass_700    mass_800   \n",
       "16 0.06828841 0.06292404 0.002967751 0.007300000 0.003110738\n",
       "17 0.06572983 0.05743410 0.002763560 0.006749543 0.003015778\n",
       "18 0.06579673 0.05863833 0.003233173 0.010467686 0.003320559\n",
       "19 0.02299585 0.01938095 0.000337286 0.007340795 0.001557687\n",
       "20 0.05263086 0.04600000 0.000736160 0.002057198 0.000266219\n",
       "21 0.07202692 0.06700000 0.002716652 0.001190607 0.000038300\n",
       "22 0.07680427 0.07980000 0.003201121 0.008132565 0.004835063\n",
       "23 0.04040266 0.04040000 0.002047455 0.005017269 0.001378230\n",
       "24 0.08591896 0.06725181 0.003267867 0.008762006 0.004148332\n",
       "25 0.06110597 0.06130000 0.002897446 0.008972116 0.005108260\n",
       "26 0.06896929 0.06225190 0.003067693 0.005530727 0.003836358\n",
       "27 0.03347454 0.02811736 0.000484379 0.003667650 0.000325117\n",
       "28 0.05880213 0.04810000 0.002246571 0.001123624 0.000194704\n",
       "29 0.07405685 0.06572412 0.003248685 0.006160914 0.001054163\n",
       "30 0.06170996 0.07392364 0.003667637 0.004269967 0.002006940\n",
       "61 0.13709961 0.09280000 0.004061479 0.011602750 0.006998394\n",
       "62 0.11004651 0.07900000 0.003487080 0.003322744 0.002348657\n",
       "63 0.05543765 0.03874153 0.000317413 0.004589467 0.000550069\n",
       "64 0.03947896 0.02622265 0.000700283 0.000807786 0.000000000\n",
       "65 0.09635203 0.10300000 0.004069535 0.010034734 0.004440781\n",
       "66 0.05757066 0.06155383 0.002063552 0.011775916 0.008046618\n",
       "67 0.09990409 0.10800000 0.004505481 0.007565787 0.003029518\n",
       "68 0.08644868 0.09476926 0.003582750 0.006932883 0.004632322\n",
       "69 0.08829077 0.09590000 0.004475430 0.018200189 0.006223759\n",
       "70 0.06144152 0.06608443 0.003011987 0.005974263 0.001404122\n",
       "71 0.12335049 0.08480000 0.003605614 0.006567672 0.005875199\n",
       "72 0.12959204 0.09220000 0.003819319 0.005822253 0.003336441\n",
       "73 0.09340569 0.09041765 0.003082317 0.006346816 0.002395012\n",
       "74 0.08919353 0.08517997 0.001736799 0.003430456 0.003157625\n",
       "75 0.10857890 0.10900000 0.003207122 0.014213706 0.011198791"
      ]
     },
     "metadata": {},
     "output_type": "display_data"
    },
    {
     "data": {
      "text/html": [
       "<table>\n",
       "<thead><tr><th></th><th scope=col>filename</th><th scope=col>MouseID</th><th scope=col>Treatmentgroup</th><th scope=col>status</th><th scope=col>DPI</th><th scope=col>organ</th><th scope=col>well_position</th><th scope=col>plate</th><th scope=col>mass_400</th><th scope=col>mass_500</th><th scope=col>mass_600</th><th scope=col>mass_700</th><th scope=col>mass_800</th></tr></thead>\n",
       "<tbody>\n",
       "\t<tr><th scope=row>16</th><td>X506_Group1B_70dpi_LV_bottom_281_B_C7_P133.mzXML </td><td>506                                              </td><td>Group1B                                          </td><td>naive                                            </td><td>75                                               </td><td>LV_bottom                                        </td><td>C7                                               </td><td>P133                                             </td><td>0.06828841                                       </td><td>0.06292404                                       </td><td>0.002967751                                      </td><td>0.007300000                                      </td><td>0.003110738                                      </td></tr>\n",
       "\t<tr><th scope=row>17</th><td>X507_Group1B_70dpi_LV_bottom_282_B_C8_P133.mzXML </td><td>507                                              </td><td>Group1B                                          </td><td>naive                                            </td><td>75                                               </td><td>LV_bottom                                        </td><td>C8                                               </td><td>P133                                             </td><td>0.06572983                                       </td><td>0.05743410                                       </td><td>0.002763560                                      </td><td>0.006749543                                      </td><td>0.003015778                                      </td></tr>\n",
       "\t<tr><th scope=row>18</th><td>X508_Group1B_70dpi_LV_bottom_283_B_C9_P133.mzXML </td><td>508                                              </td><td>Group1B                                          </td><td>naive                                            </td><td>75                                               </td><td>LV_bottom                                        </td><td>C9                                               </td><td>P133                                             </td><td>0.06579673                                       </td><td>0.05863833                                       </td><td>0.003233173                                      </td><td>0.010467686                                      </td><td>0.003320559                                      </td></tr>\n",
       "\t<tr><th scope=row>19</th><td>X509_Group1B_70dpi_LV_bottom_284_B_C10_P133.mzXML</td><td>509                                              </td><td>Group1B                                          </td><td>naive                                            </td><td>75                                               </td><td>LV_bottom                                        </td><td>C10                                              </td><td>P133                                             </td><td>0.02299585                                       </td><td>0.01938095                                       </td><td>0.000337286                                      </td><td>0.007340795                                      </td><td>0.001557687                                      </td></tr>\n",
       "\t<tr><th scope=row>20</th><td>X510_Group1B_70dpi_LV_bottom_285_B_C11_P133.mzXML</td><td>510                                              </td><td>Group1B                                          </td><td>naive                                            </td><td>75                                               </td><td>LV_bottom                                        </td><td>C11                                              </td><td>P133                                             </td><td>0.05263086                                       </td><td>0.04600000                                       </td><td>0.000736160                                      </td><td>0.002057198                                      </td><td>0.000266219                                      </td></tr>\n",
       "\t<tr><th scope=row>21</th><td>X526_Group1B_70dpi_LV_bottom_286_B_C12_P133.mzXML</td><td>526                                              </td><td>Group1B                                          </td><td>naive                                            </td><td>75                                               </td><td>LV_bottom                                        </td><td>C12                                              </td><td>P133                                             </td><td>0.07202692                                       </td><td>0.06700000                                       </td><td>0.002716652                                      </td><td>0.001190607                                      </td><td>0.000038300                                      </td></tr>\n",
       "</tbody>\n",
       "</table>\n"
      ],
      "text/latex": [
       "\\begin{tabular}{r|lllllllllllll}\n",
       "  & filename & MouseID & Treatmentgroup & status & DPI & organ & well\\_position & plate & mass\\_400 & mass\\_500 & mass\\_600 & mass\\_700 & mass\\_800\\\\\n",
       "\\hline\n",
       "\t16 & X506\\_Group1B\\_70dpi\\_LV\\_bottom\\_281\\_B\\_C7\\_P133.mzXML  & 506                                                               & Group1B                                                           & naive                                                             & 75                                                                & LV\\_bottom                                                       & C7                                                                & P133                                                              & 0.06828841                                                        & 0.06292404                                                        & 0.002967751                                                       & 0.007300000                                                       & 0.003110738                                                      \\\\\n",
       "\t17 & X507\\_Group1B\\_70dpi\\_LV\\_bottom\\_282\\_B\\_C8\\_P133.mzXML  & 507                                                               & Group1B                                                           & naive                                                             & 75                                                                & LV\\_bottom                                                       & C8                                                                & P133                                                              & 0.06572983                                                        & 0.05743410                                                        & 0.002763560                                                       & 0.006749543                                                       & 0.003015778                                                      \\\\\n",
       "\t18 & X508\\_Group1B\\_70dpi\\_LV\\_bottom\\_283\\_B\\_C9\\_P133.mzXML  & 508                                                               & Group1B                                                           & naive                                                             & 75                                                                & LV\\_bottom                                                       & C9                                                                & P133                                                              & 0.06579673                                                        & 0.05863833                                                        & 0.003233173                                                       & 0.010467686                                                       & 0.003320559                                                      \\\\\n",
       "\t19 & X509\\_Group1B\\_70dpi\\_LV\\_bottom\\_284\\_B\\_C10\\_P133.mzXML & 509                                                               & Group1B                                                           & naive                                                             & 75                                                                & LV\\_bottom                                                       & C10                                                               & P133                                                              & 0.02299585                                                        & 0.01938095                                                        & 0.000337286                                                       & 0.007340795                                                       & 0.001557687                                                      \\\\\n",
       "\t20 & X510\\_Group1B\\_70dpi\\_LV\\_bottom\\_285\\_B\\_C11\\_P133.mzXML & 510                                                               & Group1B                                                           & naive                                                             & 75                                                                & LV\\_bottom                                                       & C11                                                               & P133                                                              & 0.05263086                                                        & 0.04600000                                                        & 0.000736160                                                       & 0.002057198                                                       & 0.000266219                                                      \\\\\n",
       "\t21 & X526\\_Group1B\\_70dpi\\_LV\\_bottom\\_286\\_B\\_C12\\_P133.mzXML & 526                                                               & Group1B                                                           & naive                                                             & 75                                                                & LV\\_bottom                                                       & C12                                                               & P133                                                              & 0.07202692                                                        & 0.06700000                                                        & 0.002716652                                                       & 0.001190607                                                       & 0.000038300                                                      \\\\\n",
       "\\end{tabular}\n"
      ],
      "text/markdown": [
       "\n",
       "| <!--/--> | filename | MouseID | Treatmentgroup | status | DPI | organ | well_position | plate | mass_400 | mass_500 | mass_600 | mass_700 | mass_800 |\n",
       "|---|---|---|---|---|---|---|---|---|---|---|---|---|---|\n",
       "| 16 | X506_Group1B_70dpi_LV_bottom_281_B_C7_P133.mzXML  | 506                                               | Group1B                                           | naive                                             | 75                                                | LV_bottom                                         | C7                                                | P133                                              | 0.06828841                                        | 0.06292404                                        | 0.002967751                                       | 0.007300000                                       | 0.003110738                                       |\n",
       "| 17 | X507_Group1B_70dpi_LV_bottom_282_B_C8_P133.mzXML  | 507                                               | Group1B                                           | naive                                             | 75                                                | LV_bottom                                         | C8                                                | P133                                              | 0.06572983                                        | 0.05743410                                        | 0.002763560                                       | 0.006749543                                       | 0.003015778                                       |\n",
       "| 18 | X508_Group1B_70dpi_LV_bottom_283_B_C9_P133.mzXML  | 508                                               | Group1B                                           | naive                                             | 75                                                | LV_bottom                                         | C9                                                | P133                                              | 0.06579673                                        | 0.05863833                                        | 0.003233173                                       | 0.010467686                                       | 0.003320559                                       |\n",
       "| 19 | X509_Group1B_70dpi_LV_bottom_284_B_C10_P133.mzXML | 509                                               | Group1B                                           | naive                                             | 75                                                | LV_bottom                                         | C10                                               | P133                                              | 0.02299585                                        | 0.01938095                                        | 0.000337286                                       | 0.007340795                                       | 0.001557687                                       |\n",
       "| 20 | X510_Group1B_70dpi_LV_bottom_285_B_C11_P133.mzXML | 510                                               | Group1B                                           | naive                                             | 75                                                | LV_bottom                                         | C11                                               | P133                                              | 0.05263086                                        | 0.04600000                                        | 0.000736160                                       | 0.002057198                                       | 0.000266219                                       |\n",
       "| 21 | X526_Group1B_70dpi_LV_bottom_286_B_C12_P133.mzXML | 526                                               | Group1B                                           | naive                                             | 75                                                | LV_bottom                                         | C12                                               | P133                                              | 0.07202692                                        | 0.06700000                                        | 0.002716652                                       | 0.001190607                                       | 0.000038300                                       |\n",
       "\n"
      ],
      "text/plain": [
       "   filename                                          MouseID Treatmentgroup\n",
       "16 X506_Group1B_70dpi_LV_bottom_281_B_C7_P133.mzXML  506     Group1B       \n",
       "17 X507_Group1B_70dpi_LV_bottom_282_B_C8_P133.mzXML  507     Group1B       \n",
       "18 X508_Group1B_70dpi_LV_bottom_283_B_C9_P133.mzXML  508     Group1B       \n",
       "19 X509_Group1B_70dpi_LV_bottom_284_B_C10_P133.mzXML 509     Group1B       \n",
       "20 X510_Group1B_70dpi_LV_bottom_285_B_C11_P133.mzXML 510     Group1B       \n",
       "21 X526_Group1B_70dpi_LV_bottom_286_B_C12_P133.mzXML 526     Group1B       \n",
       "   status DPI organ     well_position plate mass_400   mass_500   mass_600   \n",
       "16 naive  75  LV_bottom C7            P133  0.06828841 0.06292404 0.002967751\n",
       "17 naive  75  LV_bottom C8            P133  0.06572983 0.05743410 0.002763560\n",
       "18 naive  75  LV_bottom C9            P133  0.06579673 0.05863833 0.003233173\n",
       "19 naive  75  LV_bottom C10           P133  0.02299585 0.01938095 0.000337286\n",
       "20 naive  75  LV_bottom C11           P133  0.05263086 0.04600000 0.000736160\n",
       "21 naive  75  LV_bottom C12           P133  0.07202692 0.06700000 0.002716652\n",
       "   mass_700    mass_800   \n",
       "16 0.007300000 0.003110738\n",
       "17 0.006749543 0.003015778\n",
       "18 0.010467686 0.003320559\n",
       "19 0.007340795 0.001557687\n",
       "20 0.002057198 0.000266219\n",
       "21 0.001190607 0.000038300"
      ]
     },
     "metadata": {},
     "output_type": "display_data"
    },
    {
     "data": {
      "text/html": [
       "<ol class=list-inline>\n",
       "\t<li>30</li>\n",
       "\t<li>13</li>\n",
       "</ol>\n"
      ],
      "text/latex": [
       "\\begin{enumerate*}\n",
       "\\item 30\n",
       "\\item 13\n",
       "\\end{enumerate*}\n"
      ],
      "text/markdown": [
       "1. 30\n",
       "2. 13\n",
       "\n",
       "\n"
      ],
      "text/plain": [
       "[1] 30 13"
      ]
     },
     "metadata": {},
     "output_type": "display_data"
    },
    {
     "data": {
      "text/html": [
       "<ol class=list-inline>\n",
       "\t<li>30</li>\n",
       "\t<li>5</li>\n",
       "</ol>\n"
      ],
      "text/latex": [
       "\\begin{enumerate*}\n",
       "\\item 30\n",
       "\\item 5\n",
       "\\end{enumerate*}\n"
      ],
      "text/markdown": [
       "1. 30\n",
       "2. 5\n",
       "\n",
       "\n"
      ],
      "text/plain": [
       "[1] 30  5"
      ]
     },
     "metadata": {},
     "output_type": "display_data"
    },
    {
     "data": {
      "text/html": [
       "<ol class=list-inline>\n",
       "\t<li>30</li>\n",
       "\t<li>5</li>\n",
       "</ol>\n"
      ],
      "text/latex": [
       "\\begin{enumerate*}\n",
       "\\item 30\n",
       "\\item 5\n",
       "\\end{enumerate*}\n"
      ],
      "text/markdown": [
       "1. 30\n",
       "2. 5\n",
       "\n",
       "\n"
      ],
      "text/plain": [
       "[1] 30  5"
      ]
     },
     "metadata": {},
     "output_type": "display_data"
    },
    {
     "data": {
      "text/html": [
       "<ol class=list-inline>\n",
       "\t<li>30</li>\n",
       "\t<li>13</li>\n",
       "</ol>\n"
      ],
      "text/latex": [
       "\\begin{enumerate*}\n",
       "\\item 30\n",
       "\\item 13\n",
       "\\end{enumerate*}\n"
      ],
      "text/markdown": [
       "1. 30\n",
       "2. 13\n",
       "\n",
       "\n"
      ],
      "text/plain": [
       "[1] 30 13"
      ]
     },
     "metadata": {},
     "output_type": "display_data"
    }
   ],
   "source": [
    "noMeta<-features_pos[,9:13]\n",
    "head(noMeta)\n",
    "not_zero<-which(colSums(noMeta) != 0)\n",
    "head(not_zero)\n",
    "nonzero <- noMeta[, not_zero]\n",
    "nonzero\n",
    "nonzero_wMeta<-cbind(features_pos[,1:8], nonzero)\n",
    "head(nonzero_wMeta)\n",
    "dim(features_pos)\n",
    "dim(noMeta)\n",
    "dim(nonzero)\n",
    "dim(nonzero_wMeta)"
   ]
  },
  {
   "cell_type": "code",
   "execution_count": 5,
   "metadata": {
    "scrolled": true
   },
   "outputs": [
    {
     "data": {
      "text/html": [
       "<ol class=list-inline>\n",
       "\t<li>0.0036743109353476</li>\n",
       "\t<li>0.00166521486418813</li>\n",
       "\t<li>0.0742044999172241</li>\n",
       "\t<li>0.366875192434742</li>\n",
       "\t<li>0.0674961538838424</li>\n",
       "</ol>\n"
      ],
      "text/latex": [
       "\\begin{enumerate*}\n",
       "\\item 0.0036743109353476\n",
       "\\item 0.00166521486418813\n",
       "\\item 0.0742044999172241\n",
       "\\item 0.366875192434742\n",
       "\\item 0.0674961538838424\n",
       "\\end{enumerate*}\n"
      ],
      "text/markdown": [
       "1. 0.0036743109353476\n",
       "2. 0.00166521486418813\n",
       "3. 0.0742044999172241\n",
       "4. 0.366875192434742\n",
       "5. 0.0674961538838424\n",
       "\n",
       "\n"
      ],
      "text/plain": [
       "[1] 0.003674311 0.001665215 0.074204500 0.366875192 0.067496154"
      ]
     },
     "metadata": {},
     "output_type": "display_data"
    },
    {
     "data": {
      "text/html": [
       "<ol class=list-inline>\n",
       "\t<li>0.009185777338369</li>\n",
       "\t<li>0.00832607432094066</li>\n",
       "\t<li>0.0927556248965301</li>\n",
       "\t<li>0.366875192434742</li>\n",
       "\t<li>0.0927556248965301</li>\n",
       "</ol>\n"
      ],
      "text/latex": [
       "\\begin{enumerate*}\n",
       "\\item 0.009185777338369\n",
       "\\item 0.00832607432094066\n",
       "\\item 0.0927556248965301\n",
       "\\item 0.366875192434742\n",
       "\\item 0.0927556248965301\n",
       "\\end{enumerate*}\n"
      ],
      "text/markdown": [
       "1. 0.009185777338369\n",
       "2. 0.00832607432094066\n",
       "3. 0.0927556248965301\n",
       "4. 0.366875192434742\n",
       "5. 0.0927556248965301\n",
       "\n",
       "\n"
      ],
      "text/plain": [
       "[1] 0.009185777 0.008326074 0.092755625 0.366875192 0.092755625"
      ]
     },
     "metadata": {},
     "output_type": "display_data"
    }
   ],
   "source": [
    "pval<-c()\n",
    "\n",
    "for (i in 9:ncol(nonzero_wMeta)) \n",
    "pval<-c(pval,wilcox.test(nonzero_wMeta[,i]~nonzero_wMeta$Treatmentgroup)$p.value)\n",
    "head(pval)\n",
    "pAdj <- p.adjust(pval, method = c(\"fdr\"), n=length(pval)) \n",
    "head(pAdj) \n",
    "\n"
   ]
  },
  {
   "cell_type": "code",
   "execution_count": 6,
   "metadata": {
    "scrolled": true
   },
   "outputs": [
    {
     "data": {
      "text/html": [
       "5"
      ],
      "text/latex": [
       "5"
      ],
      "text/markdown": [
       "5"
      ],
      "text/plain": [
       "[1] 5"
      ]
     },
     "metadata": {},
     "output_type": "display_data"
    }
   ],
   "source": [
    "length(pval)"
   ]
  },
  {
   "cell_type": "code",
   "execution_count": 7,
   "metadata": {
    "scrolled": true
   },
   "outputs": [
    {
     "data": {
      "text/html": [
       "5"
      ],
      "text/latex": [
       "5"
      ],
      "text/markdown": [
       "5"
      ],
      "text/plain": [
       "[1] 5"
      ]
     },
     "metadata": {},
     "output_type": "display_data"
    }
   ],
   "source": [
    "length(pAdj)"
   ]
  },
  {
   "cell_type": "code",
   "execution_count": 8,
   "metadata": {},
   "outputs": [
    {
     "data": {
      "text/html": [
       "<ol class=list-inline>\n",
       "\t<li>2</li>\n",
       "\t<li>5</li>\n",
       "</ol>\n"
      ],
      "text/latex": [
       "\\begin{enumerate*}\n",
       "\\item 2\n",
       "\\item 5\n",
       "\\end{enumerate*}\n"
      ],
      "text/markdown": [
       "1. 2\n",
       "2. 5\n",
       "\n",
       "\n"
      ],
      "text/plain": [
       "[1] 2 5"
      ]
     },
     "metadata": {},
     "output_type": "display_data"
    },
    {
     "data": {
      "text/html": [
       "<table>\n",
       "<thead><tr><th></th><th scope=col>mass_400</th><th scope=col>mass_500</th><th scope=col>mass_600</th></tr></thead>\n",
       "<tbody>\n",
       "\t<tr><th scope=row>Group1B</th><td>0.06058088 </td><td>0.05588308 </td><td>0.002458896</td></tr>\n",
       "\t<tr><th scope=row>Group3B</th><td>0.09174608 </td><td>0.08184462 </td><td>0.003048411</td></tr>\n",
       "</tbody>\n",
       "</table>\n"
      ],
      "text/latex": [
       "\\begin{tabular}{r|lll}\n",
       "  & mass\\_400 & mass\\_500 & mass\\_600\\\\\n",
       "\\hline\n",
       "\tGroup1B & 0.06058088  & 0.05588308  & 0.002458896\\\\\n",
       "\tGroup3B & 0.09174608  & 0.08184462  & 0.003048411\\\\\n",
       "\\end{tabular}\n"
      ],
      "text/markdown": [
       "\n",
       "| <!--/--> | mass_400 | mass_500 | mass_600 |\n",
       "|---|---|---|---|\n",
       "| Group1B | 0.06058088  | 0.05588308  | 0.002458896 |\n",
       "| Group3B | 0.09174608  | 0.08184462  | 0.003048411 |\n",
       "\n"
      ],
      "text/plain": [
       "        mass_400   mass_500   mass_600   \n",
       "Group1B 0.06058088 0.05588308 0.002458896\n",
       "Group3B 0.09174608 0.08184462 0.003048411"
      ]
     },
     "metadata": {},
     "output_type": "display_data"
    },
    {
     "data": {
      "text/html": [
       "<dl class=dl-horizontal>\n",
       "\t<dt>mass_400</dt>\n",
       "\t\t<dd>0.660310338593062</dd>\n",
       "\t<dt>mass_500</dt>\n",
       "\t\t<dd>0.682794806806813</dd>\n",
       "\t<dt>mass_600</dt>\n",
       "\t\t<dd>0.806615626446314</dd>\n",
       "\t<dt>mass_700</dt>\n",
       "\t\t<dd>0.740204584413505</dd>\n",
       "\t<dt>mass_800</dt>\n",
       "\t\t<dd>0.537364779792382</dd>\n",
       "</dl>\n"
      ],
      "text/latex": [
       "\\begin{description*}\n",
       "\\item[mass\\textbackslash{}\\_400] 0.660310338593062\n",
       "\\item[mass\\textbackslash{}\\_500] 0.682794806806813\n",
       "\\item[mass\\textbackslash{}\\_600] 0.806615626446314\n",
       "\\item[mass\\textbackslash{}\\_700] 0.740204584413505\n",
       "\\item[mass\\textbackslash{}\\_800] 0.537364779792382\n",
       "\\end{description*}\n"
      ],
      "text/markdown": [
       "mass_400\n",
       ":   0.660310338593062mass_500\n",
       ":   0.682794806806813mass_600\n",
       ":   0.806615626446314mass_700\n",
       ":   0.740204584413505mass_800\n",
       ":   0.537364779792382\n",
       "\n"
      ],
      "text/plain": [
       " mass_400  mass_500  mass_600  mass_700  mass_800 \n",
       "0.6603103 0.6827948 0.8066156 0.7402046 0.5373648 "
      ]
     },
     "metadata": {},
     "output_type": "display_data"
    },
    {
     "data": {
      "text/html": [
       "<ol class=list-inline>\n",
       "\t<li>'numeric'</li>\n",
       "\t<li>'vector'</li>\n",
       "</ol>\n"
      ],
      "text/latex": [
       "\\begin{enumerate*}\n",
       "\\item 'numeric'\n",
       "\\item 'vector'\n",
       "\\end{enumerate*}\n"
      ],
      "text/markdown": [
       "1. 'numeric'\n",
       "2. 'vector'\n",
       "\n",
       "\n"
      ],
      "text/plain": [
       "[1] \"numeric\" \"vector\" "
      ]
     },
     "metadata": {},
     "output_type": "display_data"
    }
   ],
   "source": [
    "avg<- apply(nonzero_wMeta[,9:ncol(nonzero_wMeta)], 2, function(x) tapply(x, nonzero_wMeta$Treatmentgroup, function(x) mean(x))) \n",
    "\n",
    "dim(avg)\n",
    "\n",
    "avg[,1:3]\n",
    "\n",
    "fch <- apply(avg, 2, function(x) x[1]/x[2])\n",
    "\n",
    "head(fch)\n",
    "is(fch)"
   ]
  },
  {
   "cell_type": "code",
   "execution_count": 9,
   "metadata": {
    "scrolled": true
   },
   "outputs": [
    {
     "data": {
      "text/html": [
       "<dl class=dl-horizontal>\n",
       "\t<dt>mass_400</dt>\n",
       "\t\t<dd>0.660310338593062</dd>\n",
       "\t<dt>mass_500</dt>\n",
       "\t\t<dd>0.682794806806813</dd>\n",
       "\t<dt>mass_600</dt>\n",
       "\t\t<dd>0.806615626446314</dd>\n",
       "\t<dt>mass_700</dt>\n",
       "\t\t<dd>0.740204584413505</dd>\n",
       "\t<dt>mass_800</dt>\n",
       "\t\t<dd>0.537364779792382</dd>\n",
       "</dl>\n"
      ],
      "text/latex": [
       "\\begin{description*}\n",
       "\\item[mass\\textbackslash{}\\_400] 0.660310338593062\n",
       "\\item[mass\\textbackslash{}\\_500] 0.682794806806813\n",
       "\\item[mass\\textbackslash{}\\_600] 0.806615626446314\n",
       "\\item[mass\\textbackslash{}\\_700] 0.740204584413505\n",
       "\\item[mass\\textbackslash{}\\_800] 0.537364779792382\n",
       "\\end{description*}\n"
      ],
      "text/markdown": [
       "mass_400\n",
       ":   0.660310338593062mass_500\n",
       ":   0.682794806806813mass_600\n",
       ":   0.806615626446314mass_700\n",
       ":   0.740204584413505mass_800\n",
       ":   0.537364779792382\n",
       "\n"
      ],
      "text/plain": [
       " mass_400  mass_500  mass_600  mass_700  mass_800 \n",
       "0.6603103 0.6827948 0.8066156 0.7402046 0.5373648 "
      ]
     },
     "metadata": {},
     "output_type": "display_data"
    }
   ],
   "source": [
    "fch"
   ]
  },
  {
   "cell_type": "code",
   "execution_count": 10,
   "metadata": {
    "scrolled": false
   },
   "outputs": [],
   "source": [
    "df <- data.frame(fch,pval, pAdj)\n",
    "write.csv(df, \"PC-time-LVB-wilcox-1B-3B.csv\")"
   ]
  },
  {
   "cell_type": "code",
   "execution_count": null,
   "metadata": {},
   "outputs": [],
   "source": []
  },
  {
   "cell_type": "code",
   "execution_count": null,
   "metadata": {},
   "outputs": [],
   "source": []
  },
  {
   "cell_type": "code",
   "execution_count": null,
   "metadata": {},
   "outputs": [],
   "source": []
  },
  {
   "cell_type": "code",
   "execution_count": null,
   "metadata": {},
   "outputs": [],
   "source": []
  },
  {
   "cell_type": "code",
   "execution_count": null,
   "metadata": {},
   "outputs": [],
   "source": []
  },
  {
   "cell_type": "code",
   "execution_count": null,
   "metadata": {},
   "outputs": [],
   "source": []
  }
 ],
 "metadata": {
  "kernelspec": {
   "display_name": "R",
   "language": "R",
   "name": "ir"
  },
  "language_info": {
   "codemirror_mode": "r",
   "file_extension": ".r",
   "mimetype": "text/x-r-source",
   "name": "R",
   "pygments_lexer": "r",
   "version": "3.6.1"
  }
 },
 "nbformat": 4,
 "nbformat_minor": 2
}
