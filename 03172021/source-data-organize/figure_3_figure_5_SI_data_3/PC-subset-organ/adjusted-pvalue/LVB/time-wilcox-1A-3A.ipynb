{
 "cells": [
  {
   "cell_type": "code",
   "execution_count": 1,
   "metadata": {},
   "outputs": [],
   "source": [
    "a <- read.csv(\"03172021-PC-time-LVB-M-F.csv\")"
   ]
  },
  {
   "cell_type": "code",
   "execution_count": 2,
   "metadata": {},
   "outputs": [
    {
     "data": {
      "text/html": [
       "<table>\n",
       "<thead><tr><th scope=col>filename</th><th scope=col>MouseID</th><th scope=col>Treatmentgroup</th><th scope=col>status</th><th scope=col>DPI</th><th scope=col>organ</th><th scope=col>well_position</th><th scope=col>plate</th><th scope=col>mass_400</th><th scope=col>mass_500</th><th scope=col>mass_600</th><th scope=col>mass_700</th><th scope=col>mass_800</th></tr></thead>\n",
       "<tbody>\n",
       "\t<tr><td>X501_Group1A_50dpi_LV_bottom_251_B_A1_P133.mzXML</td><td>501                                             </td><td>Group1A                                         </td><td>naive                                           </td><td>50                                              </td><td>LV_bottom                                       </td><td>A1                                              </td><td>P133                                            </td><td>0.07892350                                      </td><td>0.06530699                                      </td><td>0.000970399                                     </td><td>0.001945097                                     </td><td>0.000366071                                     </td></tr>\n",
       "\t<tr><td>X502_Group1A_50dpi_LV_bottom_252_B_A2_P133.mzXML</td><td>502                                             </td><td>Group1A                                         </td><td>naive                                           </td><td>50                                              </td><td>LV_bottom                                       </td><td>A2                                              </td><td>P133                                            </td><td>0.07924256                                      </td><td>0.07617429                                      </td><td>0.002993028                                     </td><td>0.008440000                                     </td><td>0.004184386                                     </td></tr>\n",
       "\t<tr><td>X503_Group1A_50dpi_LV_bottom_253_B_A3_P133.mzXML</td><td>503                                             </td><td>Group1A                                         </td><td>naive                                           </td><td>50                                              </td><td>LV_bottom                                       </td><td>A3                                              </td><td>P133                                            </td><td>0.09699436                                      </td><td>0.09873023                                      </td><td>0.003911717                                     </td><td>0.009612853                                     </td><td>0.002613826                                     </td></tr>\n",
       "\t<tr><td>X504_Group1A_50dpi_LV_bottom_254_B_A4_P133.mzXML</td><td>504                                             </td><td>Group1A                                         </td><td>naive                                           </td><td>50                                              </td><td>LV_bottom                                       </td><td>A4                                              </td><td>P133                                            </td><td>0.10572540                                      </td><td>0.09846079                                      </td><td>0.004994654                                     </td><td>0.004941648                                     </td><td>0.001521743                                     </td></tr>\n",
       "\t<tr><td>X505_Group1A_50dpi_LV_bottom_255_B_A5_P133.mzXML</td><td>505                                             </td><td>Group1A                                         </td><td>naive                                           </td><td>50                                              </td><td>LV_bottom                                       </td><td>A5                                              </td><td>P133                                            </td><td>0.08135525                                      </td><td>0.07720000                                      </td><td>0.004086950                                     </td><td>0.006328910                                     </td><td>0.003207701                                     </td></tr>\n",
       "\t<tr><td>X521_Group1A_50dpi_LV_bottom_256_B_A6_P133.mzXML</td><td>521                                             </td><td>Group1A                                         </td><td>naive                                           </td><td>50                                              </td><td>LV_bottom                                       </td><td>A6                                              </td><td>P133                                            </td><td>0.07975525                                      </td><td>0.08729091                                      </td><td>0.003954718                                     </td><td>0.009437329                                     </td><td>0.003987342                                     </td></tr>\n",
       "</tbody>\n",
       "</table>\n"
      ],
      "text/latex": [
       "\\begin{tabular}{r|lllllllllllll}\n",
       " filename & MouseID & Treatmentgroup & status & DPI & organ & well\\_position & plate & mass\\_400 & mass\\_500 & mass\\_600 & mass\\_700 & mass\\_800\\\\\n",
       "\\hline\n",
       "\t X501\\_Group1A\\_50dpi\\_LV\\_bottom\\_251\\_B\\_A1\\_P133.mzXML & 501                                                              & Group1A                                                          & naive                                                            & 50                                                               & LV\\_bottom                                                      & A1                                                               & P133                                                             & 0.07892350                                                       & 0.06530699                                                       & 0.000970399                                                      & 0.001945097                                                      & 0.000366071                                                     \\\\\n",
       "\t X502\\_Group1A\\_50dpi\\_LV\\_bottom\\_252\\_B\\_A2\\_P133.mzXML & 502                                                              & Group1A                                                          & naive                                                            & 50                                                               & LV\\_bottom                                                      & A2                                                               & P133                                                             & 0.07924256                                                       & 0.07617429                                                       & 0.002993028                                                      & 0.008440000                                                      & 0.004184386                                                     \\\\\n",
       "\t X503\\_Group1A\\_50dpi\\_LV\\_bottom\\_253\\_B\\_A3\\_P133.mzXML & 503                                                              & Group1A                                                          & naive                                                            & 50                                                               & LV\\_bottom                                                      & A3                                                               & P133                                                             & 0.09699436                                                       & 0.09873023                                                       & 0.003911717                                                      & 0.009612853                                                      & 0.002613826                                                     \\\\\n",
       "\t X504\\_Group1A\\_50dpi\\_LV\\_bottom\\_254\\_B\\_A4\\_P133.mzXML & 504                                                              & Group1A                                                          & naive                                                            & 50                                                               & LV\\_bottom                                                      & A4                                                               & P133                                                             & 0.10572540                                                       & 0.09846079                                                       & 0.004994654                                                      & 0.004941648                                                      & 0.001521743                                                     \\\\\n",
       "\t X505\\_Group1A\\_50dpi\\_LV\\_bottom\\_255\\_B\\_A5\\_P133.mzXML & 505                                                              & Group1A                                                          & naive                                                            & 50                                                               & LV\\_bottom                                                      & A5                                                               & P133                                                             & 0.08135525                                                       & 0.07720000                                                       & 0.004086950                                                      & 0.006328910                                                      & 0.003207701                                                     \\\\\n",
       "\t X521\\_Group1A\\_50dpi\\_LV\\_bottom\\_256\\_B\\_A6\\_P133.mzXML & 521                                                              & Group1A                                                          & naive                                                            & 50                                                               & LV\\_bottom                                                      & A6                                                               & P133                                                             & 0.07975525                                                       & 0.08729091                                                       & 0.003954718                                                      & 0.009437329                                                      & 0.003987342                                                     \\\\\n",
       "\\end{tabular}\n"
      ],
      "text/markdown": [
       "\n",
       "| filename | MouseID | Treatmentgroup | status | DPI | organ | well_position | plate | mass_400 | mass_500 | mass_600 | mass_700 | mass_800 |\n",
       "|---|---|---|---|---|---|---|---|---|---|---|---|---|\n",
       "| X501_Group1A_50dpi_LV_bottom_251_B_A1_P133.mzXML | 501                                              | Group1A                                          | naive                                            | 50                                               | LV_bottom                                        | A1                                               | P133                                             | 0.07892350                                       | 0.06530699                                       | 0.000970399                                      | 0.001945097                                      | 0.000366071                                      |\n",
       "| X502_Group1A_50dpi_LV_bottom_252_B_A2_P133.mzXML | 502                                              | Group1A                                          | naive                                            | 50                                               | LV_bottom                                        | A2                                               | P133                                             | 0.07924256                                       | 0.07617429                                       | 0.002993028                                      | 0.008440000                                      | 0.004184386                                      |\n",
       "| X503_Group1A_50dpi_LV_bottom_253_B_A3_P133.mzXML | 503                                              | Group1A                                          | naive                                            | 50                                               | LV_bottom                                        | A3                                               | P133                                             | 0.09699436                                       | 0.09873023                                       | 0.003911717                                      | 0.009612853                                      | 0.002613826                                      |\n",
       "| X504_Group1A_50dpi_LV_bottom_254_B_A4_P133.mzXML | 504                                              | Group1A                                          | naive                                            | 50                                               | LV_bottom                                        | A4                                               | P133                                             | 0.10572540                                       | 0.09846079                                       | 0.004994654                                      | 0.004941648                                      | 0.001521743                                      |\n",
       "| X505_Group1A_50dpi_LV_bottom_255_B_A5_P133.mzXML | 505                                              | Group1A                                          | naive                                            | 50                                               | LV_bottom                                        | A5                                               | P133                                             | 0.08135525                                       | 0.07720000                                       | 0.004086950                                      | 0.006328910                                      | 0.003207701                                      |\n",
       "| X521_Group1A_50dpi_LV_bottom_256_B_A6_P133.mzXML | 521                                              | Group1A                                          | naive                                            | 50                                               | LV_bottom                                        | A6                                               | P133                                             | 0.07975525                                       | 0.08729091                                       | 0.003954718                                      | 0.009437329                                      | 0.003987342                                      |\n",
       "\n"
      ],
      "text/plain": [
       "  filename                                         MouseID Treatmentgroup\n",
       "1 X501_Group1A_50dpi_LV_bottom_251_B_A1_P133.mzXML 501     Group1A       \n",
       "2 X502_Group1A_50dpi_LV_bottom_252_B_A2_P133.mzXML 502     Group1A       \n",
       "3 X503_Group1A_50dpi_LV_bottom_253_B_A3_P133.mzXML 503     Group1A       \n",
       "4 X504_Group1A_50dpi_LV_bottom_254_B_A4_P133.mzXML 504     Group1A       \n",
       "5 X505_Group1A_50dpi_LV_bottom_255_B_A5_P133.mzXML 505     Group1A       \n",
       "6 X521_Group1A_50dpi_LV_bottom_256_B_A6_P133.mzXML 521     Group1A       \n",
       "  status DPI organ     well_position plate mass_400   mass_500   mass_600   \n",
       "1 naive  50  LV_bottom A1            P133  0.07892350 0.06530699 0.000970399\n",
       "2 naive  50  LV_bottom A2            P133  0.07924256 0.07617429 0.002993028\n",
       "3 naive  50  LV_bottom A3            P133  0.09699436 0.09873023 0.003911717\n",
       "4 naive  50  LV_bottom A4            P133  0.10572540 0.09846079 0.004994654\n",
       "5 naive  50  LV_bottom A5            P133  0.08135525 0.07720000 0.004086950\n",
       "6 naive  50  LV_bottom A6            P133  0.07975525 0.08729091 0.003954718\n",
       "  mass_700    mass_800   \n",
       "1 0.001945097 0.000366071\n",
       "2 0.008440000 0.004184386\n",
       "3 0.009612853 0.002613826\n",
       "4 0.004941648 0.001521743\n",
       "5 0.006328910 0.003207701\n",
       "6 0.009437329 0.003987342"
      ]
     },
     "metadata": {},
     "output_type": "display_data"
    },
    {
     "data": {
      "text/html": [
       "<ol class=list-inline>\n",
       "\t<li>90</li>\n",
       "\t<li>13</li>\n",
       "</ol>\n"
      ],
      "text/latex": [
       "\\begin{enumerate*}\n",
       "\\item 90\n",
       "\\item 13\n",
       "\\end{enumerate*}\n"
      ],
      "text/markdown": [
       "1. 90\n",
       "2. 13\n",
       "\n",
       "\n"
      ],
      "text/plain": [
       "[1] 90 13"
      ]
     },
     "metadata": {},
     "output_type": "display_data"
    }
   ],
   "source": [
    "head(a)\n",
    "dim(a)"
   ]
  },
  {
   "cell_type": "code",
   "execution_count": 3,
   "metadata": {},
   "outputs": [
    {
     "data": {
      "text/html": [
       "<table>\n",
       "<thead><tr><th scope=col>filename</th><th scope=col>MouseID</th><th scope=col>Treatmentgroup</th><th scope=col>status</th><th scope=col>DPI</th><th scope=col>organ</th><th scope=col>well_position</th><th scope=col>plate</th><th scope=col>mass_400</th><th scope=col>mass_500</th><th scope=col>mass_600</th><th scope=col>mass_700</th><th scope=col>mass_800</th></tr></thead>\n",
       "<tbody>\n",
       "\t<tr><td>X501_Group1A_50dpi_LV_bottom_251_B_A1_P133.mzXML</td><td>501                                             </td><td>Group1A                                         </td><td>naive                                           </td><td>50                                              </td><td>LV_bottom                                       </td><td>A1                                              </td><td>P133                                            </td><td>0.07892350                                      </td><td>0.06530699                                      </td><td>0.000970399                                     </td><td>0.001945097                                     </td><td>0.000366071                                     </td></tr>\n",
       "\t<tr><td>X502_Group1A_50dpi_LV_bottom_252_B_A2_P133.mzXML</td><td>502                                             </td><td>Group1A                                         </td><td>naive                                           </td><td>50                                              </td><td>LV_bottom                                       </td><td>A2                                              </td><td>P133                                            </td><td>0.07924256                                      </td><td>0.07617429                                      </td><td>0.002993028                                     </td><td>0.008440000                                     </td><td>0.004184386                                     </td></tr>\n",
       "\t<tr><td>X503_Group1A_50dpi_LV_bottom_253_B_A3_P133.mzXML</td><td>503                                             </td><td>Group1A                                         </td><td>naive                                           </td><td>50                                              </td><td>LV_bottom                                       </td><td>A3                                              </td><td>P133                                            </td><td>0.09699436                                      </td><td>0.09873023                                      </td><td>0.003911717                                     </td><td>0.009612853                                     </td><td>0.002613826                                     </td></tr>\n",
       "\t<tr><td>X504_Group1A_50dpi_LV_bottom_254_B_A4_P133.mzXML</td><td>504                                             </td><td>Group1A                                         </td><td>naive                                           </td><td>50                                              </td><td>LV_bottom                                       </td><td>A4                                              </td><td>P133                                            </td><td>0.10572540                                      </td><td>0.09846079                                      </td><td>0.004994654                                     </td><td>0.004941648                                     </td><td>0.001521743                                     </td></tr>\n",
       "\t<tr><td>X505_Group1A_50dpi_LV_bottom_255_B_A5_P133.mzXML</td><td>505                                             </td><td>Group1A                                         </td><td>naive                                           </td><td>50                                              </td><td>LV_bottom                                       </td><td>A5                                              </td><td>P133                                            </td><td>0.08135525                                      </td><td>0.07720000                                      </td><td>0.004086950                                     </td><td>0.006328910                                     </td><td>0.003207701                                     </td></tr>\n",
       "\t<tr><td>X521_Group1A_50dpi_LV_bottom_256_B_A6_P133.mzXML</td><td>521                                             </td><td>Group1A                                         </td><td>naive                                           </td><td>50                                              </td><td>LV_bottom                                       </td><td>A6                                              </td><td>P133                                            </td><td>0.07975525                                      </td><td>0.08729091                                      </td><td>0.003954718                                     </td><td>0.009437329                                     </td><td>0.003987342                                     </td></tr>\n",
       "</tbody>\n",
       "</table>\n"
      ],
      "text/latex": [
       "\\begin{tabular}{r|lllllllllllll}\n",
       " filename & MouseID & Treatmentgroup & status & DPI & organ & well\\_position & plate & mass\\_400 & mass\\_500 & mass\\_600 & mass\\_700 & mass\\_800\\\\\n",
       "\\hline\n",
       "\t X501\\_Group1A\\_50dpi\\_LV\\_bottom\\_251\\_B\\_A1\\_P133.mzXML & 501                                                              & Group1A                                                          & naive                                                            & 50                                                               & LV\\_bottom                                                      & A1                                                               & P133                                                             & 0.07892350                                                       & 0.06530699                                                       & 0.000970399                                                      & 0.001945097                                                      & 0.000366071                                                     \\\\\n",
       "\t X502\\_Group1A\\_50dpi\\_LV\\_bottom\\_252\\_B\\_A2\\_P133.mzXML & 502                                                              & Group1A                                                          & naive                                                            & 50                                                               & LV\\_bottom                                                      & A2                                                               & P133                                                             & 0.07924256                                                       & 0.07617429                                                       & 0.002993028                                                      & 0.008440000                                                      & 0.004184386                                                     \\\\\n",
       "\t X503\\_Group1A\\_50dpi\\_LV\\_bottom\\_253\\_B\\_A3\\_P133.mzXML & 503                                                              & Group1A                                                          & naive                                                            & 50                                                               & LV\\_bottom                                                      & A3                                                               & P133                                                             & 0.09699436                                                       & 0.09873023                                                       & 0.003911717                                                      & 0.009612853                                                      & 0.002613826                                                     \\\\\n",
       "\t X504\\_Group1A\\_50dpi\\_LV\\_bottom\\_254\\_B\\_A4\\_P133.mzXML & 504                                                              & Group1A                                                          & naive                                                            & 50                                                               & LV\\_bottom                                                      & A4                                                               & P133                                                             & 0.10572540                                                       & 0.09846079                                                       & 0.004994654                                                      & 0.004941648                                                      & 0.001521743                                                     \\\\\n",
       "\t X505\\_Group1A\\_50dpi\\_LV\\_bottom\\_255\\_B\\_A5\\_P133.mzXML & 505                                                              & Group1A                                                          & naive                                                            & 50                                                               & LV\\_bottom                                                      & A5                                                               & P133                                                             & 0.08135525                                                       & 0.07720000                                                       & 0.004086950                                                      & 0.006328910                                                      & 0.003207701                                                     \\\\\n",
       "\t X521\\_Group1A\\_50dpi\\_LV\\_bottom\\_256\\_B\\_A6\\_P133.mzXML & 521                                                              & Group1A                                                          & naive                                                            & 50                                                               & LV\\_bottom                                                      & A6                                                               & P133                                                             & 0.07975525                                                       & 0.08729091                                                       & 0.003954718                                                      & 0.009437329                                                      & 0.003987342                                                     \\\\\n",
       "\\end{tabular}\n"
      ],
      "text/markdown": [
       "\n",
       "| filename | MouseID | Treatmentgroup | status | DPI | organ | well_position | plate | mass_400 | mass_500 | mass_600 | mass_700 | mass_800 |\n",
       "|---|---|---|---|---|---|---|---|---|---|---|---|---|\n",
       "| X501_Group1A_50dpi_LV_bottom_251_B_A1_P133.mzXML | 501                                              | Group1A                                          | naive                                            | 50                                               | LV_bottom                                        | A1                                               | P133                                             | 0.07892350                                       | 0.06530699                                       | 0.000970399                                      | 0.001945097                                      | 0.000366071                                      |\n",
       "| X502_Group1A_50dpi_LV_bottom_252_B_A2_P133.mzXML | 502                                              | Group1A                                          | naive                                            | 50                                               | LV_bottom                                        | A2                                               | P133                                             | 0.07924256                                       | 0.07617429                                       | 0.002993028                                      | 0.008440000                                      | 0.004184386                                      |\n",
       "| X503_Group1A_50dpi_LV_bottom_253_B_A3_P133.mzXML | 503                                              | Group1A                                          | naive                                            | 50                                               | LV_bottom                                        | A3                                               | P133                                             | 0.09699436                                       | 0.09873023                                       | 0.003911717                                      | 0.009612853                                      | 0.002613826                                      |\n",
       "| X504_Group1A_50dpi_LV_bottom_254_B_A4_P133.mzXML | 504                                              | Group1A                                          | naive                                            | 50                                               | LV_bottom                                        | A4                                               | P133                                             | 0.10572540                                       | 0.09846079                                       | 0.004994654                                      | 0.004941648                                      | 0.001521743                                      |\n",
       "| X505_Group1A_50dpi_LV_bottom_255_B_A5_P133.mzXML | 505                                              | Group1A                                          | naive                                            | 50                                               | LV_bottom                                        | A5                                               | P133                                             | 0.08135525                                       | 0.07720000                                       | 0.004086950                                      | 0.006328910                                      | 0.003207701                                      |\n",
       "| X521_Group1A_50dpi_LV_bottom_256_B_A6_P133.mzXML | 521                                              | Group1A                                          | naive                                            | 50                                               | LV_bottom                                        | A6                                               | P133                                             | 0.07975525                                       | 0.08729091                                       | 0.003954718                                      | 0.009437329                                      | 0.003987342                                      |\n",
       "\n"
      ],
      "text/plain": [
       "  filename                                         MouseID Treatmentgroup\n",
       "1 X501_Group1A_50dpi_LV_bottom_251_B_A1_P133.mzXML 501     Group1A       \n",
       "2 X502_Group1A_50dpi_LV_bottom_252_B_A2_P133.mzXML 502     Group1A       \n",
       "3 X503_Group1A_50dpi_LV_bottom_253_B_A3_P133.mzXML 503     Group1A       \n",
       "4 X504_Group1A_50dpi_LV_bottom_254_B_A4_P133.mzXML 504     Group1A       \n",
       "5 X505_Group1A_50dpi_LV_bottom_255_B_A5_P133.mzXML 505     Group1A       \n",
       "6 X521_Group1A_50dpi_LV_bottom_256_B_A6_P133.mzXML 521     Group1A       \n",
       "  status DPI organ     well_position plate mass_400   mass_500   mass_600   \n",
       "1 naive  50  LV_bottom A1            P133  0.07892350 0.06530699 0.000970399\n",
       "2 naive  50  LV_bottom A2            P133  0.07924256 0.07617429 0.002993028\n",
       "3 naive  50  LV_bottom A3            P133  0.09699436 0.09873023 0.003911717\n",
       "4 naive  50  LV_bottom A4            P133  0.10572540 0.09846079 0.004994654\n",
       "5 naive  50  LV_bottom A5            P133  0.08135525 0.07720000 0.004086950\n",
       "6 naive  50  LV_bottom A6            P133  0.07975525 0.08729091 0.003954718\n",
       "  mass_700    mass_800   \n",
       "1 0.001945097 0.000366071\n",
       "2 0.008440000 0.004184386\n",
       "3 0.009612853 0.002613826\n",
       "4 0.004941648 0.001521743\n",
       "5 0.006328910 0.003207701\n",
       "6 0.009437329 0.003987342"
      ]
     },
     "metadata": {},
     "output_type": "display_data"
    },
    {
     "data": {
      "text/html": [
       "<ol class=list-inline>\n",
       "\t<li>30</li>\n",
       "\t<li>13</li>\n",
       "</ol>\n"
      ],
      "text/latex": [
       "\\begin{enumerate*}\n",
       "\\item 30\n",
       "\\item 13\n",
       "\\end{enumerate*}\n"
      ],
      "text/markdown": [
       "1. 30\n",
       "2. 13\n",
       "\n",
       "\n"
      ],
      "text/plain": [
       "[1] 30 13"
      ]
     },
     "metadata": {},
     "output_type": "display_data"
    }
   ],
   "source": [
    "features_pos<-droplevels(subset(a, a$Treatmentgroup==c(\"Group1A\")|a$Treatmentgroup==c(\"Group3A\")))\n",
    "head(features_pos)\n",
    "dim(features_pos)"
   ]
  },
  {
   "cell_type": "code",
   "execution_count": 4,
   "metadata": {
    "scrolled": false
   },
   "outputs": [
    {
     "data": {
      "text/html": [
       "<table>\n",
       "<thead><tr><th scope=col>mass_400</th><th scope=col>mass_500</th><th scope=col>mass_600</th><th scope=col>mass_700</th><th scope=col>mass_800</th></tr></thead>\n",
       "<tbody>\n",
       "\t<tr><td>0.07892350 </td><td>0.06530699 </td><td>0.000970399</td><td>0.001945097</td><td>0.000366071</td></tr>\n",
       "\t<tr><td>0.07924256 </td><td>0.07617429 </td><td>0.002993028</td><td>0.008440000</td><td>0.004184386</td></tr>\n",
       "\t<tr><td>0.09699436 </td><td>0.09873023 </td><td>0.003911717</td><td>0.009612853</td><td>0.002613826</td></tr>\n",
       "\t<tr><td>0.10572540 </td><td>0.09846079 </td><td>0.004994654</td><td>0.004941648</td><td>0.001521743</td></tr>\n",
       "\t<tr><td>0.08135525 </td><td>0.07720000 </td><td>0.004086950</td><td>0.006328910</td><td>0.003207701</td></tr>\n",
       "\t<tr><td>0.07975525 </td><td>0.08729091 </td><td>0.003954718</td><td>0.009437329</td><td>0.003987342</td></tr>\n",
       "</tbody>\n",
       "</table>\n"
      ],
      "text/latex": [
       "\\begin{tabular}{r|lllll}\n",
       " mass\\_400 & mass\\_500 & mass\\_600 & mass\\_700 & mass\\_800\\\\\n",
       "\\hline\n",
       "\t 0.07892350  & 0.06530699  & 0.000970399 & 0.001945097 & 0.000366071\\\\\n",
       "\t 0.07924256  & 0.07617429  & 0.002993028 & 0.008440000 & 0.004184386\\\\\n",
       "\t 0.09699436  & 0.09873023  & 0.003911717 & 0.009612853 & 0.002613826\\\\\n",
       "\t 0.10572540  & 0.09846079  & 0.004994654 & 0.004941648 & 0.001521743\\\\\n",
       "\t 0.08135525  & 0.07720000  & 0.004086950 & 0.006328910 & 0.003207701\\\\\n",
       "\t 0.07975525  & 0.08729091  & 0.003954718 & 0.009437329 & 0.003987342\\\\\n",
       "\\end{tabular}\n"
      ],
      "text/markdown": [
       "\n",
       "| mass_400 | mass_500 | mass_600 | mass_700 | mass_800 |\n",
       "|---|---|---|---|---|\n",
       "| 0.07892350  | 0.06530699  | 0.000970399 | 0.001945097 | 0.000366071 |\n",
       "| 0.07924256  | 0.07617429  | 0.002993028 | 0.008440000 | 0.004184386 |\n",
       "| 0.09699436  | 0.09873023  | 0.003911717 | 0.009612853 | 0.002613826 |\n",
       "| 0.10572540  | 0.09846079  | 0.004994654 | 0.004941648 | 0.001521743 |\n",
       "| 0.08135525  | 0.07720000  | 0.004086950 | 0.006328910 | 0.003207701 |\n",
       "| 0.07975525  | 0.08729091  | 0.003954718 | 0.009437329 | 0.003987342 |\n",
       "\n"
      ],
      "text/plain": [
       "  mass_400   mass_500   mass_600    mass_700    mass_800   \n",
       "1 0.07892350 0.06530699 0.000970399 0.001945097 0.000366071\n",
       "2 0.07924256 0.07617429 0.002993028 0.008440000 0.004184386\n",
       "3 0.09699436 0.09873023 0.003911717 0.009612853 0.002613826\n",
       "4 0.10572540 0.09846079 0.004994654 0.004941648 0.001521743\n",
       "5 0.08135525 0.07720000 0.004086950 0.006328910 0.003207701\n",
       "6 0.07975525 0.08729091 0.003954718 0.009437329 0.003987342"
      ]
     },
     "metadata": {},
     "output_type": "display_data"
    },
    {
     "data": {
      "text/html": [
       "<dl class=dl-horizontal>\n",
       "\t<dt>mass_400</dt>\n",
       "\t\t<dd>1</dd>\n",
       "\t<dt>mass_500</dt>\n",
       "\t\t<dd>2</dd>\n",
       "\t<dt>mass_600</dt>\n",
       "\t\t<dd>3</dd>\n",
       "\t<dt>mass_700</dt>\n",
       "\t\t<dd>4</dd>\n",
       "\t<dt>mass_800</dt>\n",
       "\t\t<dd>5</dd>\n",
       "</dl>\n"
      ],
      "text/latex": [
       "\\begin{description*}\n",
       "\\item[mass\\textbackslash{}\\_400] 1\n",
       "\\item[mass\\textbackslash{}\\_500] 2\n",
       "\\item[mass\\textbackslash{}\\_600] 3\n",
       "\\item[mass\\textbackslash{}\\_700] 4\n",
       "\\item[mass\\textbackslash{}\\_800] 5\n",
       "\\end{description*}\n"
      ],
      "text/markdown": [
       "mass_400\n",
       ":   1mass_500\n",
       ":   2mass_600\n",
       ":   3mass_700\n",
       ":   4mass_800\n",
       ":   5\n",
       "\n"
      ],
      "text/plain": [
       "mass_400 mass_500 mass_600 mass_700 mass_800 \n",
       "       1        2        3        4        5 "
      ]
     },
     "metadata": {},
     "output_type": "display_data"
    },
    {
     "data": {
      "text/html": [
       "<table>\n",
       "<thead><tr><th></th><th scope=col>mass_400</th><th scope=col>mass_500</th><th scope=col>mass_600</th><th scope=col>mass_700</th><th scope=col>mass_800</th></tr></thead>\n",
       "<tbody>\n",
       "\t<tr><th scope=row>1</th><td>0.078923501</td><td>0.065306991</td><td>0.000970399</td><td>0.001945097</td><td>0.000366071</td></tr>\n",
       "\t<tr><th scope=row>2</th><td>0.079242557</td><td>0.076174289</td><td>0.002993028</td><td>0.008440000</td><td>0.004184386</td></tr>\n",
       "\t<tr><th scope=row>3</th><td>0.096994365</td><td>0.098730227</td><td>0.003911717</td><td>0.009612853</td><td>0.002613826</td></tr>\n",
       "\t<tr><th scope=row>4</th><td>0.105725400</td><td>0.098460789</td><td>0.004994654</td><td>0.004941648</td><td>0.001521743</td></tr>\n",
       "\t<tr><th scope=row>5</th><td>0.081355246</td><td>0.077200000</td><td>0.004086950</td><td>0.006328910</td><td>0.003207701</td></tr>\n",
       "\t<tr><th scope=row>6</th><td>0.079755246</td><td>0.087290914</td><td>0.003954718</td><td>0.009437329</td><td>0.003987342</td></tr>\n",
       "\t<tr><th scope=row>7</th><td>0.047656842</td><td>0.039402563</td><td>0.000696963</td><td>0.000222586</td><td>0.000000000</td></tr>\n",
       "\t<tr><th scope=row>8</th><td>0.094648610</td><td>0.086500000</td><td>0.003768263</td><td>0.001364059</td><td>0.000337605</td></tr>\n",
       "\t<tr><th scope=row>9</th><td>0.095610200</td><td>0.089700000</td><td>0.004363859</td><td>0.004107843</td><td>0.000713995</td></tr>\n",
       "\t<tr><th scope=row>10</th><td>0.074459267</td><td>0.082079368</td><td>0.004207880</td><td>0.006694884</td><td>0.001577344</td></tr>\n",
       "\t<tr><th scope=row>11</th><td>0.077169430</td><td>0.080800000</td><td>0.004759275</td><td>0.013255790</td><td>0.005196084</td></tr>\n",
       "\t<tr><th scope=row>12</th><td>0.074843964</td><td>0.073200000</td><td>0.003808170</td><td>0.007850000</td><td>0.004587652</td></tr>\n",
       "\t<tr><th scope=row>13</th><td>0.020969210</td><td>0.017132963</td><td>0.000048500</td><td>0.000939011</td><td>0.000000000</td></tr>\n",
       "\t<tr><th scope=row>14</th><td>0.064425003</td><td>0.069207550</td><td>0.003487371</td><td>0.016874350</td><td>0.006168160</td></tr>\n",
       "\t<tr><th scope=row>15</th><td>0.062038008</td><td>0.069200000</td><td>0.003590402</td><td>0.008550072</td><td>0.004814288</td></tr>\n",
       "\t<tr><th scope=row>46</th><td>0.094310466</td><td>0.083523571</td><td>0.002697172</td><td>0.005567809</td><td>0.000693632</td></tr>\n",
       "\t<tr><th scope=row>47</th><td>0.050572276</td><td>0.037128324</td><td>0.000604808</td><td>0.003632734</td><td>0.000629132</td></tr>\n",
       "\t<tr><th scope=row>48</th><td>0.112928912</td><td>0.097200000</td><td>0.003904444</td><td>0.007665108</td><td>0.006701103</td></tr>\n",
       "\t<tr><th scope=row>49</th><td>0.068014441</td><td>0.068900000</td><td>0.002667304</td><td>0.007266407</td><td>0.002758130</td></tr>\n",
       "\t<tr><th scope=row>50</th><td>0.113498317</td><td>0.084200000</td><td>0.003050135</td><td>0.008699128</td><td>0.006444201</td></tr>\n",
       "\t<tr><th scope=row>51</th><td>0.036265417</td><td>0.023881768</td><td>0.000168000</td><td>0.003117901</td><td>0.000347303</td></tr>\n",
       "\t<tr><th scope=row>52</th><td>0.144968348</td><td>0.101339695</td><td>0.003334391</td><td>0.004862489</td><td>0.001191908</td></tr>\n",
       "\t<tr><th scope=row>53</th><td>0.036607387</td><td>0.023209951</td><td>0.000103600</td><td>0.005745256</td><td>0.000247252</td></tr>\n",
       "\t<tr><th scope=row>54</th><td>0.076214894</td><td>0.063791343</td><td>0.000751529</td><td>0.002203435</td><td>0.000403778</td></tr>\n",
       "\t<tr><th scope=row>55</th><td>0.034278371</td><td>0.018993178</td><td>0.000673746</td><td>0.002418587</td><td>0.000000000</td></tr>\n",
       "\t<tr><th scope=row>56</th><td>0.065863141</td><td>0.053294670</td><td>0.002010932</td><td>0.001968385</td><td>0.000855117</td></tr>\n",
       "\t<tr><th scope=row>57</th><td>0.059894983</td><td>0.040854385</td><td>0.001586210</td><td>0.013510864</td><td>0.005584308</td></tr>\n",
       "\t<tr><th scope=row>58</th><td>0.014735546</td><td>0.008038848</td><td>0.000000000</td><td>0.001906223</td><td>0.000152183</td></tr>\n",
       "\t<tr><th scope=row>59</th><td>0.095947651</td><td>0.085901574</td><td>0.002612736</td><td>0.009833662</td><td>0.003403786</td></tr>\n",
       "\t<tr><th scope=row>60</th><td>0.003152157</td><td>0.002154601</td><td>0.000000000</td><td>0.000411491</td><td>0.000040800</td></tr>\n",
       "</tbody>\n",
       "</table>\n"
      ],
      "text/latex": [
       "\\begin{tabular}{r|lllll}\n",
       "  & mass\\_400 & mass\\_500 & mass\\_600 & mass\\_700 & mass\\_800\\\\\n",
       "\\hline\n",
       "\t1 & 0.078923501 & 0.065306991 & 0.000970399 & 0.001945097 & 0.000366071\\\\\n",
       "\t2 & 0.079242557 & 0.076174289 & 0.002993028 & 0.008440000 & 0.004184386\\\\\n",
       "\t3 & 0.096994365 & 0.098730227 & 0.003911717 & 0.009612853 & 0.002613826\\\\\n",
       "\t4 & 0.105725400 & 0.098460789 & 0.004994654 & 0.004941648 & 0.001521743\\\\\n",
       "\t5 & 0.081355246 & 0.077200000 & 0.004086950 & 0.006328910 & 0.003207701\\\\\n",
       "\t6 & 0.079755246 & 0.087290914 & 0.003954718 & 0.009437329 & 0.003987342\\\\\n",
       "\t7 & 0.047656842 & 0.039402563 & 0.000696963 & 0.000222586 & 0.000000000\\\\\n",
       "\t8 & 0.094648610 & 0.086500000 & 0.003768263 & 0.001364059 & 0.000337605\\\\\n",
       "\t9 & 0.095610200 & 0.089700000 & 0.004363859 & 0.004107843 & 0.000713995\\\\\n",
       "\t10 & 0.074459267 & 0.082079368 & 0.004207880 & 0.006694884 & 0.001577344\\\\\n",
       "\t11 & 0.077169430 & 0.080800000 & 0.004759275 & 0.013255790 & 0.005196084\\\\\n",
       "\t12 & 0.074843964 & 0.073200000 & 0.003808170 & 0.007850000 & 0.004587652\\\\\n",
       "\t13 & 0.020969210 & 0.017132963 & 0.000048500 & 0.000939011 & 0.000000000\\\\\n",
       "\t14 & 0.064425003 & 0.069207550 & 0.003487371 & 0.016874350 & 0.006168160\\\\\n",
       "\t15 & 0.062038008 & 0.069200000 & 0.003590402 & 0.008550072 & 0.004814288\\\\\n",
       "\t46 & 0.094310466 & 0.083523571 & 0.002697172 & 0.005567809 & 0.000693632\\\\\n",
       "\t47 & 0.050572276 & 0.037128324 & 0.000604808 & 0.003632734 & 0.000629132\\\\\n",
       "\t48 & 0.112928912 & 0.097200000 & 0.003904444 & 0.007665108 & 0.006701103\\\\\n",
       "\t49 & 0.068014441 & 0.068900000 & 0.002667304 & 0.007266407 & 0.002758130\\\\\n",
       "\t50 & 0.113498317 & 0.084200000 & 0.003050135 & 0.008699128 & 0.006444201\\\\\n",
       "\t51 & 0.036265417 & 0.023881768 & 0.000168000 & 0.003117901 & 0.000347303\\\\\n",
       "\t52 & 0.144968348 & 0.101339695 & 0.003334391 & 0.004862489 & 0.001191908\\\\\n",
       "\t53 & 0.036607387 & 0.023209951 & 0.000103600 & 0.005745256 & 0.000247252\\\\\n",
       "\t54 & 0.076214894 & 0.063791343 & 0.000751529 & 0.002203435 & 0.000403778\\\\\n",
       "\t55 & 0.034278371 & 0.018993178 & 0.000673746 & 0.002418587 & 0.000000000\\\\\n",
       "\t56 & 0.065863141 & 0.053294670 & 0.002010932 & 0.001968385 & 0.000855117\\\\\n",
       "\t57 & 0.059894983 & 0.040854385 & 0.001586210 & 0.013510864 & 0.005584308\\\\\n",
       "\t58 & 0.014735546 & 0.008038848 & 0.000000000 & 0.001906223 & 0.000152183\\\\\n",
       "\t59 & 0.095947651 & 0.085901574 & 0.002612736 & 0.009833662 & 0.003403786\\\\\n",
       "\t60 & 0.003152157 & 0.002154601 & 0.000000000 & 0.000411491 & 0.000040800\\\\\n",
       "\\end{tabular}\n"
      ],
      "text/markdown": [
       "\n",
       "| <!--/--> | mass_400 | mass_500 | mass_600 | mass_700 | mass_800 |\n",
       "|---|---|---|---|---|---|\n",
       "| 1 | 0.078923501 | 0.065306991 | 0.000970399 | 0.001945097 | 0.000366071 |\n",
       "| 2 | 0.079242557 | 0.076174289 | 0.002993028 | 0.008440000 | 0.004184386 |\n",
       "| 3 | 0.096994365 | 0.098730227 | 0.003911717 | 0.009612853 | 0.002613826 |\n",
       "| 4 | 0.105725400 | 0.098460789 | 0.004994654 | 0.004941648 | 0.001521743 |\n",
       "| 5 | 0.081355246 | 0.077200000 | 0.004086950 | 0.006328910 | 0.003207701 |\n",
       "| 6 | 0.079755246 | 0.087290914 | 0.003954718 | 0.009437329 | 0.003987342 |\n",
       "| 7 | 0.047656842 | 0.039402563 | 0.000696963 | 0.000222586 | 0.000000000 |\n",
       "| 8 | 0.094648610 | 0.086500000 | 0.003768263 | 0.001364059 | 0.000337605 |\n",
       "| 9 | 0.095610200 | 0.089700000 | 0.004363859 | 0.004107843 | 0.000713995 |\n",
       "| 10 | 0.074459267 | 0.082079368 | 0.004207880 | 0.006694884 | 0.001577344 |\n",
       "| 11 | 0.077169430 | 0.080800000 | 0.004759275 | 0.013255790 | 0.005196084 |\n",
       "| 12 | 0.074843964 | 0.073200000 | 0.003808170 | 0.007850000 | 0.004587652 |\n",
       "| 13 | 0.020969210 | 0.017132963 | 0.000048500 | 0.000939011 | 0.000000000 |\n",
       "| 14 | 0.064425003 | 0.069207550 | 0.003487371 | 0.016874350 | 0.006168160 |\n",
       "| 15 | 0.062038008 | 0.069200000 | 0.003590402 | 0.008550072 | 0.004814288 |\n",
       "| 46 | 0.094310466 | 0.083523571 | 0.002697172 | 0.005567809 | 0.000693632 |\n",
       "| 47 | 0.050572276 | 0.037128324 | 0.000604808 | 0.003632734 | 0.000629132 |\n",
       "| 48 | 0.112928912 | 0.097200000 | 0.003904444 | 0.007665108 | 0.006701103 |\n",
       "| 49 | 0.068014441 | 0.068900000 | 0.002667304 | 0.007266407 | 0.002758130 |\n",
       "| 50 | 0.113498317 | 0.084200000 | 0.003050135 | 0.008699128 | 0.006444201 |\n",
       "| 51 | 0.036265417 | 0.023881768 | 0.000168000 | 0.003117901 | 0.000347303 |\n",
       "| 52 | 0.144968348 | 0.101339695 | 0.003334391 | 0.004862489 | 0.001191908 |\n",
       "| 53 | 0.036607387 | 0.023209951 | 0.000103600 | 0.005745256 | 0.000247252 |\n",
       "| 54 | 0.076214894 | 0.063791343 | 0.000751529 | 0.002203435 | 0.000403778 |\n",
       "| 55 | 0.034278371 | 0.018993178 | 0.000673746 | 0.002418587 | 0.000000000 |\n",
       "| 56 | 0.065863141 | 0.053294670 | 0.002010932 | 0.001968385 | 0.000855117 |\n",
       "| 57 | 0.059894983 | 0.040854385 | 0.001586210 | 0.013510864 | 0.005584308 |\n",
       "| 58 | 0.014735546 | 0.008038848 | 0.000000000 | 0.001906223 | 0.000152183 |\n",
       "| 59 | 0.095947651 | 0.085901574 | 0.002612736 | 0.009833662 | 0.003403786 |\n",
       "| 60 | 0.003152157 | 0.002154601 | 0.000000000 | 0.000411491 | 0.000040800 |\n",
       "\n"
      ],
      "text/plain": [
       "   mass_400    mass_500    mass_600    mass_700    mass_800   \n",
       "1  0.078923501 0.065306991 0.000970399 0.001945097 0.000366071\n",
       "2  0.079242557 0.076174289 0.002993028 0.008440000 0.004184386\n",
       "3  0.096994365 0.098730227 0.003911717 0.009612853 0.002613826\n",
       "4  0.105725400 0.098460789 0.004994654 0.004941648 0.001521743\n",
       "5  0.081355246 0.077200000 0.004086950 0.006328910 0.003207701\n",
       "6  0.079755246 0.087290914 0.003954718 0.009437329 0.003987342\n",
       "7  0.047656842 0.039402563 0.000696963 0.000222586 0.000000000\n",
       "8  0.094648610 0.086500000 0.003768263 0.001364059 0.000337605\n",
       "9  0.095610200 0.089700000 0.004363859 0.004107843 0.000713995\n",
       "10 0.074459267 0.082079368 0.004207880 0.006694884 0.001577344\n",
       "11 0.077169430 0.080800000 0.004759275 0.013255790 0.005196084\n",
       "12 0.074843964 0.073200000 0.003808170 0.007850000 0.004587652\n",
       "13 0.020969210 0.017132963 0.000048500 0.000939011 0.000000000\n",
       "14 0.064425003 0.069207550 0.003487371 0.016874350 0.006168160\n",
       "15 0.062038008 0.069200000 0.003590402 0.008550072 0.004814288\n",
       "46 0.094310466 0.083523571 0.002697172 0.005567809 0.000693632\n",
       "47 0.050572276 0.037128324 0.000604808 0.003632734 0.000629132\n",
       "48 0.112928912 0.097200000 0.003904444 0.007665108 0.006701103\n",
       "49 0.068014441 0.068900000 0.002667304 0.007266407 0.002758130\n",
       "50 0.113498317 0.084200000 0.003050135 0.008699128 0.006444201\n",
       "51 0.036265417 0.023881768 0.000168000 0.003117901 0.000347303\n",
       "52 0.144968348 0.101339695 0.003334391 0.004862489 0.001191908\n",
       "53 0.036607387 0.023209951 0.000103600 0.005745256 0.000247252\n",
       "54 0.076214894 0.063791343 0.000751529 0.002203435 0.000403778\n",
       "55 0.034278371 0.018993178 0.000673746 0.002418587 0.000000000\n",
       "56 0.065863141 0.053294670 0.002010932 0.001968385 0.000855117\n",
       "57 0.059894983 0.040854385 0.001586210 0.013510864 0.005584308\n",
       "58 0.014735546 0.008038848 0.000000000 0.001906223 0.000152183\n",
       "59 0.095947651 0.085901574 0.002612736 0.009833662 0.003403786\n",
       "60 0.003152157 0.002154601 0.000000000 0.000411491 0.000040800"
      ]
     },
     "metadata": {},
     "output_type": "display_data"
    },
    {
     "data": {
      "text/html": [
       "<table>\n",
       "<thead><tr><th scope=col>filename</th><th scope=col>MouseID</th><th scope=col>Treatmentgroup</th><th scope=col>status</th><th scope=col>DPI</th><th scope=col>organ</th><th scope=col>well_position</th><th scope=col>plate</th><th scope=col>mass_400</th><th scope=col>mass_500</th><th scope=col>mass_600</th><th scope=col>mass_700</th><th scope=col>mass_800</th></tr></thead>\n",
       "<tbody>\n",
       "\t<tr><td>X501_Group1A_50dpi_LV_bottom_251_B_A1_P133.mzXML</td><td>501                                             </td><td>Group1A                                         </td><td>naive                                           </td><td>50                                              </td><td>LV_bottom                                       </td><td>A1                                              </td><td>P133                                            </td><td>0.07892350                                      </td><td>0.06530699                                      </td><td>0.000970399                                     </td><td>0.001945097                                     </td><td>0.000366071                                     </td></tr>\n",
       "\t<tr><td>X502_Group1A_50dpi_LV_bottom_252_B_A2_P133.mzXML</td><td>502                                             </td><td>Group1A                                         </td><td>naive                                           </td><td>50                                              </td><td>LV_bottom                                       </td><td>A2                                              </td><td>P133                                            </td><td>0.07924256                                      </td><td>0.07617429                                      </td><td>0.002993028                                     </td><td>0.008440000                                     </td><td>0.004184386                                     </td></tr>\n",
       "\t<tr><td>X503_Group1A_50dpi_LV_bottom_253_B_A3_P133.mzXML</td><td>503                                             </td><td>Group1A                                         </td><td>naive                                           </td><td>50                                              </td><td>LV_bottom                                       </td><td>A3                                              </td><td>P133                                            </td><td>0.09699436                                      </td><td>0.09873023                                      </td><td>0.003911717                                     </td><td>0.009612853                                     </td><td>0.002613826                                     </td></tr>\n",
       "\t<tr><td>X504_Group1A_50dpi_LV_bottom_254_B_A4_P133.mzXML</td><td>504                                             </td><td>Group1A                                         </td><td>naive                                           </td><td>50                                              </td><td>LV_bottom                                       </td><td>A4                                              </td><td>P133                                            </td><td>0.10572540                                      </td><td>0.09846079                                      </td><td>0.004994654                                     </td><td>0.004941648                                     </td><td>0.001521743                                     </td></tr>\n",
       "\t<tr><td>X505_Group1A_50dpi_LV_bottom_255_B_A5_P133.mzXML</td><td>505                                             </td><td>Group1A                                         </td><td>naive                                           </td><td>50                                              </td><td>LV_bottom                                       </td><td>A5                                              </td><td>P133                                            </td><td>0.08135525                                      </td><td>0.07720000                                      </td><td>0.004086950                                     </td><td>0.006328910                                     </td><td>0.003207701                                     </td></tr>\n",
       "\t<tr><td>X521_Group1A_50dpi_LV_bottom_256_B_A6_P133.mzXML</td><td>521                                             </td><td>Group1A                                         </td><td>naive                                           </td><td>50                                              </td><td>LV_bottom                                       </td><td>A6                                              </td><td>P133                                            </td><td>0.07975525                                      </td><td>0.08729091                                      </td><td>0.003954718                                     </td><td>0.009437329                                     </td><td>0.003987342                                     </td></tr>\n",
       "</tbody>\n",
       "</table>\n"
      ],
      "text/latex": [
       "\\begin{tabular}{r|lllllllllllll}\n",
       " filename & MouseID & Treatmentgroup & status & DPI & organ & well\\_position & plate & mass\\_400 & mass\\_500 & mass\\_600 & mass\\_700 & mass\\_800\\\\\n",
       "\\hline\n",
       "\t X501\\_Group1A\\_50dpi\\_LV\\_bottom\\_251\\_B\\_A1\\_P133.mzXML & 501                                                              & Group1A                                                          & naive                                                            & 50                                                               & LV\\_bottom                                                      & A1                                                               & P133                                                             & 0.07892350                                                       & 0.06530699                                                       & 0.000970399                                                      & 0.001945097                                                      & 0.000366071                                                     \\\\\n",
       "\t X502\\_Group1A\\_50dpi\\_LV\\_bottom\\_252\\_B\\_A2\\_P133.mzXML & 502                                                              & Group1A                                                          & naive                                                            & 50                                                               & LV\\_bottom                                                      & A2                                                               & P133                                                             & 0.07924256                                                       & 0.07617429                                                       & 0.002993028                                                      & 0.008440000                                                      & 0.004184386                                                     \\\\\n",
       "\t X503\\_Group1A\\_50dpi\\_LV\\_bottom\\_253\\_B\\_A3\\_P133.mzXML & 503                                                              & Group1A                                                          & naive                                                            & 50                                                               & LV\\_bottom                                                      & A3                                                               & P133                                                             & 0.09699436                                                       & 0.09873023                                                       & 0.003911717                                                      & 0.009612853                                                      & 0.002613826                                                     \\\\\n",
       "\t X504\\_Group1A\\_50dpi\\_LV\\_bottom\\_254\\_B\\_A4\\_P133.mzXML & 504                                                              & Group1A                                                          & naive                                                            & 50                                                               & LV\\_bottom                                                      & A4                                                               & P133                                                             & 0.10572540                                                       & 0.09846079                                                       & 0.004994654                                                      & 0.004941648                                                      & 0.001521743                                                     \\\\\n",
       "\t X505\\_Group1A\\_50dpi\\_LV\\_bottom\\_255\\_B\\_A5\\_P133.mzXML & 505                                                              & Group1A                                                          & naive                                                            & 50                                                               & LV\\_bottom                                                      & A5                                                               & P133                                                             & 0.08135525                                                       & 0.07720000                                                       & 0.004086950                                                      & 0.006328910                                                      & 0.003207701                                                     \\\\\n",
       "\t X521\\_Group1A\\_50dpi\\_LV\\_bottom\\_256\\_B\\_A6\\_P133.mzXML & 521                                                              & Group1A                                                          & naive                                                            & 50                                                               & LV\\_bottom                                                      & A6                                                               & P133                                                             & 0.07975525                                                       & 0.08729091                                                       & 0.003954718                                                      & 0.009437329                                                      & 0.003987342                                                     \\\\\n",
       "\\end{tabular}\n"
      ],
      "text/markdown": [
       "\n",
       "| filename | MouseID | Treatmentgroup | status | DPI | organ | well_position | plate | mass_400 | mass_500 | mass_600 | mass_700 | mass_800 |\n",
       "|---|---|---|---|---|---|---|---|---|---|---|---|---|\n",
       "| X501_Group1A_50dpi_LV_bottom_251_B_A1_P133.mzXML | 501                                              | Group1A                                          | naive                                            | 50                                               | LV_bottom                                        | A1                                               | P133                                             | 0.07892350                                       | 0.06530699                                       | 0.000970399                                      | 0.001945097                                      | 0.000366071                                      |\n",
       "| X502_Group1A_50dpi_LV_bottom_252_B_A2_P133.mzXML | 502                                              | Group1A                                          | naive                                            | 50                                               | LV_bottom                                        | A2                                               | P133                                             | 0.07924256                                       | 0.07617429                                       | 0.002993028                                      | 0.008440000                                      | 0.004184386                                      |\n",
       "| X503_Group1A_50dpi_LV_bottom_253_B_A3_P133.mzXML | 503                                              | Group1A                                          | naive                                            | 50                                               | LV_bottom                                        | A3                                               | P133                                             | 0.09699436                                       | 0.09873023                                       | 0.003911717                                      | 0.009612853                                      | 0.002613826                                      |\n",
       "| X504_Group1A_50dpi_LV_bottom_254_B_A4_P133.mzXML | 504                                              | Group1A                                          | naive                                            | 50                                               | LV_bottom                                        | A4                                               | P133                                             | 0.10572540                                       | 0.09846079                                       | 0.004994654                                      | 0.004941648                                      | 0.001521743                                      |\n",
       "| X505_Group1A_50dpi_LV_bottom_255_B_A5_P133.mzXML | 505                                              | Group1A                                          | naive                                            | 50                                               | LV_bottom                                        | A5                                               | P133                                             | 0.08135525                                       | 0.07720000                                       | 0.004086950                                      | 0.006328910                                      | 0.003207701                                      |\n",
       "| X521_Group1A_50dpi_LV_bottom_256_B_A6_P133.mzXML | 521                                              | Group1A                                          | naive                                            | 50                                               | LV_bottom                                        | A6                                               | P133                                             | 0.07975525                                       | 0.08729091                                       | 0.003954718                                      | 0.009437329                                      | 0.003987342                                      |\n",
       "\n"
      ],
      "text/plain": [
       "  filename                                         MouseID Treatmentgroup\n",
       "1 X501_Group1A_50dpi_LV_bottom_251_B_A1_P133.mzXML 501     Group1A       \n",
       "2 X502_Group1A_50dpi_LV_bottom_252_B_A2_P133.mzXML 502     Group1A       \n",
       "3 X503_Group1A_50dpi_LV_bottom_253_B_A3_P133.mzXML 503     Group1A       \n",
       "4 X504_Group1A_50dpi_LV_bottom_254_B_A4_P133.mzXML 504     Group1A       \n",
       "5 X505_Group1A_50dpi_LV_bottom_255_B_A5_P133.mzXML 505     Group1A       \n",
       "6 X521_Group1A_50dpi_LV_bottom_256_B_A6_P133.mzXML 521     Group1A       \n",
       "  status DPI organ     well_position plate mass_400   mass_500   mass_600   \n",
       "1 naive  50  LV_bottom A1            P133  0.07892350 0.06530699 0.000970399\n",
       "2 naive  50  LV_bottom A2            P133  0.07924256 0.07617429 0.002993028\n",
       "3 naive  50  LV_bottom A3            P133  0.09699436 0.09873023 0.003911717\n",
       "4 naive  50  LV_bottom A4            P133  0.10572540 0.09846079 0.004994654\n",
       "5 naive  50  LV_bottom A5            P133  0.08135525 0.07720000 0.004086950\n",
       "6 naive  50  LV_bottom A6            P133  0.07975525 0.08729091 0.003954718\n",
       "  mass_700    mass_800   \n",
       "1 0.001945097 0.000366071\n",
       "2 0.008440000 0.004184386\n",
       "3 0.009612853 0.002613826\n",
       "4 0.004941648 0.001521743\n",
       "5 0.006328910 0.003207701\n",
       "6 0.009437329 0.003987342"
      ]
     },
     "metadata": {},
     "output_type": "display_data"
    },
    {
     "data": {
      "text/html": [
       "<ol class=list-inline>\n",
       "\t<li>30</li>\n",
       "\t<li>13</li>\n",
       "</ol>\n"
      ],
      "text/latex": [
       "\\begin{enumerate*}\n",
       "\\item 30\n",
       "\\item 13\n",
       "\\end{enumerate*}\n"
      ],
      "text/markdown": [
       "1. 30\n",
       "2. 13\n",
       "\n",
       "\n"
      ],
      "text/plain": [
       "[1] 30 13"
      ]
     },
     "metadata": {},
     "output_type": "display_data"
    },
    {
     "data": {
      "text/html": [
       "<ol class=list-inline>\n",
       "\t<li>30</li>\n",
       "\t<li>5</li>\n",
       "</ol>\n"
      ],
      "text/latex": [
       "\\begin{enumerate*}\n",
       "\\item 30\n",
       "\\item 5\n",
       "\\end{enumerate*}\n"
      ],
      "text/markdown": [
       "1. 30\n",
       "2. 5\n",
       "\n",
       "\n"
      ],
      "text/plain": [
       "[1] 30  5"
      ]
     },
     "metadata": {},
     "output_type": "display_data"
    },
    {
     "data": {
      "text/html": [
       "<ol class=list-inline>\n",
       "\t<li>30</li>\n",
       "\t<li>5</li>\n",
       "</ol>\n"
      ],
      "text/latex": [
       "\\begin{enumerate*}\n",
       "\\item 30\n",
       "\\item 5\n",
       "\\end{enumerate*}\n"
      ],
      "text/markdown": [
       "1. 30\n",
       "2. 5\n",
       "\n",
       "\n"
      ],
      "text/plain": [
       "[1] 30  5"
      ]
     },
     "metadata": {},
     "output_type": "display_data"
    },
    {
     "data": {
      "text/html": [
       "<ol class=list-inline>\n",
       "\t<li>30</li>\n",
       "\t<li>13</li>\n",
       "</ol>\n"
      ],
      "text/latex": [
       "\\begin{enumerate*}\n",
       "\\item 30\n",
       "\\item 13\n",
       "\\end{enumerate*}\n"
      ],
      "text/markdown": [
       "1. 30\n",
       "2. 13\n",
       "\n",
       "\n"
      ],
      "text/plain": [
       "[1] 30 13"
      ]
     },
     "metadata": {},
     "output_type": "display_data"
    }
   ],
   "source": [
    "noMeta<-features_pos[,9:13]\n",
    "head(noMeta)\n",
    "not_zero<-which(colSums(noMeta) != 0)\n",
    "head(not_zero)\n",
    "nonzero <- noMeta[, not_zero]\n",
    "nonzero\n",
    "nonzero_wMeta<-cbind(features_pos[,1:8], nonzero)\n",
    "head(nonzero_wMeta)\n",
    "dim(features_pos)\n",
    "dim(noMeta)\n",
    "dim(nonzero)\n",
    "dim(nonzero_wMeta)"
   ]
  },
  {
   "cell_type": "code",
   "execution_count": 5,
   "metadata": {
    "scrolled": true
   },
   "outputs": [
    {
     "name": "stderr",
     "output_type": "stream",
     "text": [
      "Warning message in wilcox.test.default(x = c(0.000970399, 0.002993028, 0.003911717, :\n",
      "\"cannot compute exact p-value with ties\"Warning message in wilcox.test.default(x = c(0.000366071, 0.004184386, 0.002613826, :\n",
      "\"cannot compute exact p-value with ties\""
     ]
    },
    {
     "data": {
      "text/html": [
       "<ol class=list-inline>\n",
       "\t<li>0.366875192434742</li>\n",
       "\t<li>0.0891947730984869</li>\n",
       "\t<li>0.00186327951592403</li>\n",
       "\t<li>0.486364763954452</li>\n",
       "\t<li>0.430442789726453</li>\n",
       "</ol>\n"
      ],
      "text/latex": [
       "\\begin{enumerate*}\n",
       "\\item 0.366875192434742\n",
       "\\item 0.0891947730984869\n",
       "\\item 0.00186327951592403\n",
       "\\item 0.486364763954452\n",
       "\\item 0.430442789726453\n",
       "\\end{enumerate*}\n"
      ],
      "text/markdown": [
       "1. 0.366875192434742\n",
       "2. 0.0891947730984869\n",
       "3. 0.00186327951592403\n",
       "4. 0.486364763954452\n",
       "5. 0.430442789726453\n",
       "\n",
       "\n"
      ],
      "text/plain": [
       "[1] 0.36687519 0.08919477 0.00186328 0.48636476 0.43044279"
      ]
     },
     "metadata": {},
     "output_type": "display_data"
    },
    {
     "data": {
      "text/html": [
       "<ol class=list-inline>\n",
       "\t<li>0.486364763954452</li>\n",
       "\t<li>0.222986932746217</li>\n",
       "\t<li>0.00931639757962013</li>\n",
       "\t<li>0.486364763954452</li>\n",
       "\t<li>0.486364763954452</li>\n",
       "</ol>\n"
      ],
      "text/latex": [
       "\\begin{enumerate*}\n",
       "\\item 0.486364763954452\n",
       "\\item 0.222986932746217\n",
       "\\item 0.00931639757962013\n",
       "\\item 0.486364763954452\n",
       "\\item 0.486364763954452\n",
       "\\end{enumerate*}\n"
      ],
      "text/markdown": [
       "1. 0.486364763954452\n",
       "2. 0.222986932746217\n",
       "3. 0.00931639757962013\n",
       "4. 0.486364763954452\n",
       "5. 0.486364763954452\n",
       "\n",
       "\n"
      ],
      "text/plain": [
       "[1] 0.486364764 0.222986933 0.009316398 0.486364764 0.486364764"
      ]
     },
     "metadata": {},
     "output_type": "display_data"
    }
   ],
   "source": [
    "pval<-c()\n",
    "\n",
    "for (i in 9:ncol(nonzero_wMeta)) \n",
    "pval<-c(pval,wilcox.test(nonzero_wMeta[,i]~nonzero_wMeta$Treatmentgroup)$p.value) \n",
    "head(pval)\n",
    "pAdj <- p.adjust(pval, method = c(\"fdr\"), n=length(pval)) \n",
    "head(pAdj) \n",
    "\n"
   ]
  },
  {
   "cell_type": "code",
   "execution_count": 6,
   "metadata": {
    "scrolled": true
   },
   "outputs": [
    {
     "data": {
      "text/html": [
       "5"
      ],
      "text/latex": [
       "5"
      ],
      "text/markdown": [
       "5"
      ],
      "text/plain": [
       "[1] 5"
      ]
     },
     "metadata": {},
     "output_type": "display_data"
    }
   ],
   "source": [
    "length(pval)"
   ]
  },
  {
   "cell_type": "code",
   "execution_count": 7,
   "metadata": {
    "scrolled": true
   },
   "outputs": [
    {
     "data": {
      "text/html": [
       "5"
      ],
      "text/latex": [
       "5"
      ],
      "text/markdown": [
       "5"
      ],
      "text/plain": [
       "[1] 5"
      ]
     },
     "metadata": {},
     "output_type": "display_data"
    }
   ],
   "source": [
    "length(pAdj)"
   ]
  },
  {
   "cell_type": "code",
   "execution_count": 8,
   "metadata": {},
   "outputs": [
    {
     "data": {
      "text/html": [
       "<ol class=list-inline>\n",
       "\t<li>2</li>\n",
       "\t<li>5</li>\n",
       "</ol>\n"
      ],
      "text/latex": [
       "\\begin{enumerate*}\n",
       "\\item 2\n",
       "\\item 5\n",
       "\\end{enumerate*}\n"
      ],
      "text/markdown": [
       "1. 2\n",
       "2. 5\n",
       "\n",
       "\n"
      ],
      "text/plain": [
       "[1] 2 5"
      ]
     },
     "metadata": {},
     "output_type": "display_data"
    },
    {
     "data": {
      "text/html": [
       "<table>\n",
       "<thead><tr><th></th><th scope=col>mass_400</th><th scope=col>mass_500</th><th scope=col>mass_600</th></tr></thead>\n",
       "<tbody>\n",
       "\t<tr><th scope=row>Group1A</th><td>0.07558779 </td><td>0.07402571 </td><td>0.003309477</td></tr>\n",
       "\t<tr><th scope=row>Group3A</th><td>0.06715015 </td><td>0.05282746 </td><td>0.001611000</td></tr>\n",
       "</tbody>\n",
       "</table>\n"
      ],
      "text/latex": [
       "\\begin{tabular}{r|lll}\n",
       "  & mass\\_400 & mass\\_500 & mass\\_600\\\\\n",
       "\\hline\n",
       "\tGroup1A & 0.07558779  & 0.07402571  & 0.003309477\\\\\n",
       "\tGroup3A & 0.06715015  & 0.05282746  & 0.001611000\\\\\n",
       "\\end{tabular}\n"
      ],
      "text/markdown": [
       "\n",
       "| <!--/--> | mass_400 | mass_500 | mass_600 |\n",
       "|---|---|---|---|\n",
       "| Group1A | 0.07558779  | 0.07402571  | 0.003309477 |\n",
       "| Group3A | 0.06715015  | 0.05282746  | 0.001611000 |\n",
       "\n"
      ],
      "text/plain": [
       "        mass_400   mass_500   mass_600   \n",
       "Group1A 0.07558779 0.07402571 0.003309477\n",
       "Group3A 0.06715015 0.05282746 0.001611000"
      ]
     },
     "metadata": {},
     "output_type": "display_data"
    },
    {
     "data": {
      "text/html": [
       "<dl class=dl-horizontal>\n",
       "\t<dt>mass_400</dt>\n",
       "\t\t<dd>1.12565326593985</dd>\n",
       "\t<dt>mass_500</dt>\n",
       "\t\t<dd>1.4012733059534</dd>\n",
       "\t<dt>mass_600</dt>\n",
       "\t\t<dd>2.05429897040791</dd>\n",
       "\t<dt>mass_700</dt>\n",
       "\t\t<dd>1.27604487779953</dd>\n",
       "\t<dt>mass_800</dt>\n",
       "\t\t<dd>1.33353771800301</dd>\n",
       "</dl>\n"
      ],
      "text/latex": [
       "\\begin{description*}\n",
       "\\item[mass\\textbackslash{}\\_400] 1.12565326593985\n",
       "\\item[mass\\textbackslash{}\\_500] 1.4012733059534\n",
       "\\item[mass\\textbackslash{}\\_600] 2.05429897040791\n",
       "\\item[mass\\textbackslash{}\\_700] 1.27604487779953\n",
       "\\item[mass\\textbackslash{}\\_800] 1.33353771800301\n",
       "\\end{description*}\n"
      ],
      "text/markdown": [
       "mass_400\n",
       ":   1.12565326593985mass_500\n",
       ":   1.4012733059534mass_600\n",
       ":   2.05429897040791mass_700\n",
       ":   1.27604487779953mass_800\n",
       ":   1.33353771800301\n",
       "\n"
      ],
      "text/plain": [
       "mass_400 mass_500 mass_600 mass_700 mass_800 \n",
       "1.125653 1.401273 2.054299 1.276045 1.333538 "
      ]
     },
     "metadata": {},
     "output_type": "display_data"
    },
    {
     "data": {
      "text/html": [
       "<ol class=list-inline>\n",
       "\t<li>'numeric'</li>\n",
       "\t<li>'vector'</li>\n",
       "</ol>\n"
      ],
      "text/latex": [
       "\\begin{enumerate*}\n",
       "\\item 'numeric'\n",
       "\\item 'vector'\n",
       "\\end{enumerate*}\n"
      ],
      "text/markdown": [
       "1. 'numeric'\n",
       "2. 'vector'\n",
       "\n",
       "\n"
      ],
      "text/plain": [
       "[1] \"numeric\" \"vector\" "
      ]
     },
     "metadata": {},
     "output_type": "display_data"
    }
   ],
   "source": [
    "avg<- apply(nonzero_wMeta[,9:ncol(nonzero_wMeta)], 2, function(x) tapply(x, nonzero_wMeta$Treatmentgroup, function(x) mean(x))) \n",
    "\n",
    "dim(avg)\n",
    "\n",
    "avg[,1:3]\n",
    "\n",
    "fch <- apply(avg, 2, function(x) x[1]/x[2])\n",
    "\n",
    "head(fch)\n",
    "is(fch)"
   ]
  },
  {
   "cell_type": "code",
   "execution_count": 9,
   "metadata": {
    "scrolled": true
   },
   "outputs": [
    {
     "data": {
      "text/html": [
       "<dl class=dl-horizontal>\n",
       "\t<dt>mass_400</dt>\n",
       "\t\t<dd>1.12565326593985</dd>\n",
       "\t<dt>mass_500</dt>\n",
       "\t\t<dd>1.4012733059534</dd>\n",
       "\t<dt>mass_600</dt>\n",
       "\t\t<dd>2.05429897040791</dd>\n",
       "\t<dt>mass_700</dt>\n",
       "\t\t<dd>1.27604487779953</dd>\n",
       "\t<dt>mass_800</dt>\n",
       "\t\t<dd>1.33353771800301</dd>\n",
       "</dl>\n"
      ],
      "text/latex": [
       "\\begin{description*}\n",
       "\\item[mass\\textbackslash{}\\_400] 1.12565326593985\n",
       "\\item[mass\\textbackslash{}\\_500] 1.4012733059534\n",
       "\\item[mass\\textbackslash{}\\_600] 2.05429897040791\n",
       "\\item[mass\\textbackslash{}\\_700] 1.27604487779953\n",
       "\\item[mass\\textbackslash{}\\_800] 1.33353771800301\n",
       "\\end{description*}\n"
      ],
      "text/markdown": [
       "mass_400\n",
       ":   1.12565326593985mass_500\n",
       ":   1.4012733059534mass_600\n",
       ":   2.05429897040791mass_700\n",
       ":   1.27604487779953mass_800\n",
       ":   1.33353771800301\n",
       "\n"
      ],
      "text/plain": [
       "mass_400 mass_500 mass_600 mass_700 mass_800 \n",
       "1.125653 1.401273 2.054299 1.276045 1.333538 "
      ]
     },
     "metadata": {},
     "output_type": "display_data"
    }
   ],
   "source": [
    "fch"
   ]
  },
  {
   "cell_type": "code",
   "execution_count": 10,
   "metadata": {
    "scrolled": false
   },
   "outputs": [],
   "source": [
    "df <- data.frame(fch,pval, pAdj)\n",
    "write.csv(df, \"PC-time-LVB-wilcox-1A-3A.csv\")"
   ]
  },
  {
   "cell_type": "code",
   "execution_count": null,
   "metadata": {},
   "outputs": [],
   "source": []
  },
  {
   "cell_type": "code",
   "execution_count": null,
   "metadata": {},
   "outputs": [],
   "source": []
  },
  {
   "cell_type": "code",
   "execution_count": null,
   "metadata": {},
   "outputs": [],
   "source": []
  },
  {
   "cell_type": "code",
   "execution_count": null,
   "metadata": {},
   "outputs": [],
   "source": []
  },
  {
   "cell_type": "code",
   "execution_count": null,
   "metadata": {},
   "outputs": [],
   "source": []
  },
  {
   "cell_type": "code",
   "execution_count": null,
   "metadata": {},
   "outputs": [],
   "source": []
  }
 ],
 "metadata": {
  "kernelspec": {
   "display_name": "R",
   "language": "R",
   "name": "ir"
  },
  "language_info": {
   "codemirror_mode": "r",
   "file_extension": ".r",
   "mimetype": "text/x-r-source",
   "name": "R",
   "pygments_lexer": "r",
   "version": "3.6.1"
  }
 },
 "nbformat": 4,
 "nbformat_minor": 2
}
