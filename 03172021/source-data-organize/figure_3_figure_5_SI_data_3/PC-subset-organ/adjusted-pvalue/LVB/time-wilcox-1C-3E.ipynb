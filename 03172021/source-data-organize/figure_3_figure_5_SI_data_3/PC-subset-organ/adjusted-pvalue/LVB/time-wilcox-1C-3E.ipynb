{
 "cells": [
  {
   "cell_type": "code",
   "execution_count": 1,
   "metadata": {},
   "outputs": [],
   "source": [
    "a <- read.csv(\"03172021-PC-time-LVB-M-F.csv\")"
   ]
  },
  {
   "cell_type": "code",
   "execution_count": 2,
   "metadata": {},
   "outputs": [
    {
     "data": {
      "text/html": [
       "<table>\n",
       "<thead><tr><th scope=col>filename</th><th scope=col>MouseID</th><th scope=col>Treatmentgroup</th><th scope=col>status</th><th scope=col>DPI</th><th scope=col>organ</th><th scope=col>well_position</th><th scope=col>plate</th><th scope=col>mass_400</th><th scope=col>mass_500</th><th scope=col>mass_600</th><th scope=col>mass_700</th><th scope=col>mass_800</th></tr></thead>\n",
       "<tbody>\n",
       "\t<tr><td>X501_Group1A_50dpi_LV_bottom_251_B_A1_P133.mzXML</td><td>501                                             </td><td>Group1A                                         </td><td>naive                                           </td><td>50                                              </td><td>LV_bottom                                       </td><td>A1                                              </td><td>P133                                            </td><td>0.07892350                                      </td><td>0.06530699                                      </td><td>0.000970399                                     </td><td>0.001945097                                     </td><td>0.000366071                                     </td></tr>\n",
       "\t<tr><td>X502_Group1A_50dpi_LV_bottom_252_B_A2_P133.mzXML</td><td>502                                             </td><td>Group1A                                         </td><td>naive                                           </td><td>50                                              </td><td>LV_bottom                                       </td><td>A2                                              </td><td>P133                                            </td><td>0.07924256                                      </td><td>0.07617429                                      </td><td>0.002993028                                     </td><td>0.008440000                                     </td><td>0.004184386                                     </td></tr>\n",
       "\t<tr><td>X503_Group1A_50dpi_LV_bottom_253_B_A3_P133.mzXML</td><td>503                                             </td><td>Group1A                                         </td><td>naive                                           </td><td>50                                              </td><td>LV_bottom                                       </td><td>A3                                              </td><td>P133                                            </td><td>0.09699436                                      </td><td>0.09873023                                      </td><td>0.003911717                                     </td><td>0.009612853                                     </td><td>0.002613826                                     </td></tr>\n",
       "\t<tr><td>X504_Group1A_50dpi_LV_bottom_254_B_A4_P133.mzXML</td><td>504                                             </td><td>Group1A                                         </td><td>naive                                           </td><td>50                                              </td><td>LV_bottom                                       </td><td>A4                                              </td><td>P133                                            </td><td>0.10572540                                      </td><td>0.09846079                                      </td><td>0.004994654                                     </td><td>0.004941648                                     </td><td>0.001521743                                     </td></tr>\n",
       "\t<tr><td>X505_Group1A_50dpi_LV_bottom_255_B_A5_P133.mzXML</td><td>505                                             </td><td>Group1A                                         </td><td>naive                                           </td><td>50                                              </td><td>LV_bottom                                       </td><td>A5                                              </td><td>P133                                            </td><td>0.08135525                                      </td><td>0.07720000                                      </td><td>0.004086950                                     </td><td>0.006328910                                     </td><td>0.003207701                                     </td></tr>\n",
       "\t<tr><td>X521_Group1A_50dpi_LV_bottom_256_B_A6_P133.mzXML</td><td>521                                             </td><td>Group1A                                         </td><td>naive                                           </td><td>50                                              </td><td>LV_bottom                                       </td><td>A6                                              </td><td>P133                                            </td><td>0.07975525                                      </td><td>0.08729091                                      </td><td>0.003954718                                     </td><td>0.009437329                                     </td><td>0.003987342                                     </td></tr>\n",
       "</tbody>\n",
       "</table>\n"
      ],
      "text/latex": [
       "\\begin{tabular}{r|lllllllllllll}\n",
       " filename & MouseID & Treatmentgroup & status & DPI & organ & well\\_position & plate & mass\\_400 & mass\\_500 & mass\\_600 & mass\\_700 & mass\\_800\\\\\n",
       "\\hline\n",
       "\t X501\\_Group1A\\_50dpi\\_LV\\_bottom\\_251\\_B\\_A1\\_P133.mzXML & 501                                                              & Group1A                                                          & naive                                                            & 50                                                               & LV\\_bottom                                                      & A1                                                               & P133                                                             & 0.07892350                                                       & 0.06530699                                                       & 0.000970399                                                      & 0.001945097                                                      & 0.000366071                                                     \\\\\n",
       "\t X502\\_Group1A\\_50dpi\\_LV\\_bottom\\_252\\_B\\_A2\\_P133.mzXML & 502                                                              & Group1A                                                          & naive                                                            & 50                                                               & LV\\_bottom                                                      & A2                                                               & P133                                                             & 0.07924256                                                       & 0.07617429                                                       & 0.002993028                                                      & 0.008440000                                                      & 0.004184386                                                     \\\\\n",
       "\t X503\\_Group1A\\_50dpi\\_LV\\_bottom\\_253\\_B\\_A3\\_P133.mzXML & 503                                                              & Group1A                                                          & naive                                                            & 50                                                               & LV\\_bottom                                                      & A3                                                               & P133                                                             & 0.09699436                                                       & 0.09873023                                                       & 0.003911717                                                      & 0.009612853                                                      & 0.002613826                                                     \\\\\n",
       "\t X504\\_Group1A\\_50dpi\\_LV\\_bottom\\_254\\_B\\_A4\\_P133.mzXML & 504                                                              & Group1A                                                          & naive                                                            & 50                                                               & LV\\_bottom                                                      & A4                                                               & P133                                                             & 0.10572540                                                       & 0.09846079                                                       & 0.004994654                                                      & 0.004941648                                                      & 0.001521743                                                     \\\\\n",
       "\t X505\\_Group1A\\_50dpi\\_LV\\_bottom\\_255\\_B\\_A5\\_P133.mzXML & 505                                                              & Group1A                                                          & naive                                                            & 50                                                               & LV\\_bottom                                                      & A5                                                               & P133                                                             & 0.08135525                                                       & 0.07720000                                                       & 0.004086950                                                      & 0.006328910                                                      & 0.003207701                                                     \\\\\n",
       "\t X521\\_Group1A\\_50dpi\\_LV\\_bottom\\_256\\_B\\_A6\\_P133.mzXML & 521                                                              & Group1A                                                          & naive                                                            & 50                                                               & LV\\_bottom                                                      & A6                                                               & P133                                                             & 0.07975525                                                       & 0.08729091                                                       & 0.003954718                                                      & 0.009437329                                                      & 0.003987342                                                     \\\\\n",
       "\\end{tabular}\n"
      ],
      "text/markdown": [
       "\n",
       "| filename | MouseID | Treatmentgroup | status | DPI | organ | well_position | plate | mass_400 | mass_500 | mass_600 | mass_700 | mass_800 |\n",
       "|---|---|---|---|---|---|---|---|---|---|---|---|---|\n",
       "| X501_Group1A_50dpi_LV_bottom_251_B_A1_P133.mzXML | 501                                              | Group1A                                          | naive                                            | 50                                               | LV_bottom                                        | A1                                               | P133                                             | 0.07892350                                       | 0.06530699                                       | 0.000970399                                      | 0.001945097                                      | 0.000366071                                      |\n",
       "| X502_Group1A_50dpi_LV_bottom_252_B_A2_P133.mzXML | 502                                              | Group1A                                          | naive                                            | 50                                               | LV_bottom                                        | A2                                               | P133                                             | 0.07924256                                       | 0.07617429                                       | 0.002993028                                      | 0.008440000                                      | 0.004184386                                      |\n",
       "| X503_Group1A_50dpi_LV_bottom_253_B_A3_P133.mzXML | 503                                              | Group1A                                          | naive                                            | 50                                               | LV_bottom                                        | A3                                               | P133                                             | 0.09699436                                       | 0.09873023                                       | 0.003911717                                      | 0.009612853                                      | 0.002613826                                      |\n",
       "| X504_Group1A_50dpi_LV_bottom_254_B_A4_P133.mzXML | 504                                              | Group1A                                          | naive                                            | 50                                               | LV_bottom                                        | A4                                               | P133                                             | 0.10572540                                       | 0.09846079                                       | 0.004994654                                      | 0.004941648                                      | 0.001521743                                      |\n",
       "| X505_Group1A_50dpi_LV_bottom_255_B_A5_P133.mzXML | 505                                              | Group1A                                          | naive                                            | 50                                               | LV_bottom                                        | A5                                               | P133                                             | 0.08135525                                       | 0.07720000                                       | 0.004086950                                      | 0.006328910                                      | 0.003207701                                      |\n",
       "| X521_Group1A_50dpi_LV_bottom_256_B_A6_P133.mzXML | 521                                              | Group1A                                          | naive                                            | 50                                               | LV_bottom                                        | A6                                               | P133                                             | 0.07975525                                       | 0.08729091                                       | 0.003954718                                      | 0.009437329                                      | 0.003987342                                      |\n",
       "\n"
      ],
      "text/plain": [
       "  filename                                         MouseID Treatmentgroup\n",
       "1 X501_Group1A_50dpi_LV_bottom_251_B_A1_P133.mzXML 501     Group1A       \n",
       "2 X502_Group1A_50dpi_LV_bottom_252_B_A2_P133.mzXML 502     Group1A       \n",
       "3 X503_Group1A_50dpi_LV_bottom_253_B_A3_P133.mzXML 503     Group1A       \n",
       "4 X504_Group1A_50dpi_LV_bottom_254_B_A4_P133.mzXML 504     Group1A       \n",
       "5 X505_Group1A_50dpi_LV_bottom_255_B_A5_P133.mzXML 505     Group1A       \n",
       "6 X521_Group1A_50dpi_LV_bottom_256_B_A6_P133.mzXML 521     Group1A       \n",
       "  status DPI organ     well_position plate mass_400   mass_500   mass_600   \n",
       "1 naive  50  LV_bottom A1            P133  0.07892350 0.06530699 0.000970399\n",
       "2 naive  50  LV_bottom A2            P133  0.07924256 0.07617429 0.002993028\n",
       "3 naive  50  LV_bottom A3            P133  0.09699436 0.09873023 0.003911717\n",
       "4 naive  50  LV_bottom A4            P133  0.10572540 0.09846079 0.004994654\n",
       "5 naive  50  LV_bottom A5            P133  0.08135525 0.07720000 0.004086950\n",
       "6 naive  50  LV_bottom A6            P133  0.07975525 0.08729091 0.003954718\n",
       "  mass_700    mass_800   \n",
       "1 0.001945097 0.000366071\n",
       "2 0.008440000 0.004184386\n",
       "3 0.009612853 0.002613826\n",
       "4 0.004941648 0.001521743\n",
       "5 0.006328910 0.003207701\n",
       "6 0.009437329 0.003987342"
      ]
     },
     "metadata": {},
     "output_type": "display_data"
    },
    {
     "data": {
      "text/html": [
       "<ol class=list-inline>\n",
       "\t<li>90</li>\n",
       "\t<li>13</li>\n",
       "</ol>\n"
      ],
      "text/latex": [
       "\\begin{enumerate*}\n",
       "\\item 90\n",
       "\\item 13\n",
       "\\end{enumerate*}\n"
      ],
      "text/markdown": [
       "1. 90\n",
       "2. 13\n",
       "\n",
       "\n"
      ],
      "text/plain": [
       "[1] 90 13"
      ]
     },
     "metadata": {},
     "output_type": "display_data"
    }
   ],
   "source": [
    "head(a)\n",
    "dim(a)"
   ]
  },
  {
   "cell_type": "code",
   "execution_count": 3,
   "metadata": {},
   "outputs": [
    {
     "data": {
      "text/html": [
       "<table>\n",
       "<thead><tr><th></th><th scope=col>filename</th><th scope=col>MouseID</th><th scope=col>Treatmentgroup</th><th scope=col>status</th><th scope=col>DPI</th><th scope=col>organ</th><th scope=col>well_position</th><th scope=col>plate</th><th scope=col>mass_400</th><th scope=col>mass_500</th><th scope=col>mass_600</th><th scope=col>mass_700</th><th scope=col>mass_800</th></tr></thead>\n",
       "<tbody>\n",
       "\t<tr><th scope=row>31</th><td>X511_Group1C_142dpi_LV_bottom_161_G_A1_P132.mzXML</td><td>511                                              </td><td>Group1C                                          </td><td>naive                                            </td><td>142                                              </td><td>LV_bottom                                        </td><td>A1                                               </td><td>P132                                             </td><td>0.04382789                                       </td><td>0.07997773                                       </td><td>0.002684053                                      </td><td>0.003825973                                      </td><td>0.000280747                                      </td></tr>\n",
       "\t<tr><th scope=row>32</th><td>X512_Group1C_142dpi_LV_bottom_162_G_A2_P132.mzXML</td><td>512                                              </td><td>Group1C                                          </td><td>naive                                            </td><td>142                                              </td><td>LV_bottom                                        </td><td>A2                                               </td><td>P132                                             </td><td>0.03908150                                       </td><td>0.06240000                                       </td><td>0.002998300                                      </td><td>0.003632408                                      </td><td>0.001471252                                      </td></tr>\n",
       "\t<tr><th scope=row>33</th><td>X513_Group1C_142dpi_LV_bottom_163_G_A3_P132.mzXML</td><td>513                                              </td><td>Group1C                                          </td><td>naive                                            </td><td>142                                              </td><td>LV_bottom                                        </td><td>A3                                               </td><td>P132                                             </td><td>0.03267072                                       </td><td>0.04620000                                       </td><td>0.001726274                                      </td><td>0.004220656                                      </td><td>0.002569278                                      </td></tr>\n",
       "\t<tr><th scope=row>34</th><td>X514_Group1C_142dpi_LV_bottom_164_G_A4_P132.mzXML</td><td>514                                              </td><td>Group1C                                          </td><td>naive                                            </td><td>142                                              </td><td>LV_bottom                                        </td><td>A4                                               </td><td>P132                                             </td><td>0.04172188                                       </td><td>0.05520000                                       </td><td>0.001976908                                      </td><td>0.003830678                                      </td><td>0.000883582                                      </td></tr>\n",
       "\t<tr><th scope=row>35</th><td>X515_Group1C_142dpi_LV_bottom_165_G_A5_P132.mzXML</td><td>515                                              </td><td>Group1C                                          </td><td>naive                                            </td><td>142                                              </td><td>LV_bottom                                        </td><td>A5                                               </td><td>P132                                             </td><td>0.03505978                                       </td><td>0.05858027                                       </td><td>0.002110626                                      </td><td>0.002231458                                      </td><td>0.001315984                                      </td></tr>\n",
       "\t<tr><th scope=row>36</th><td>X531_Group1C_142dpi_LV_bottom_166_G_A6_P132.mzXML</td><td>531                                              </td><td>Group1C                                          </td><td>naive                                            </td><td>142                                              </td><td>LV_bottom                                        </td><td>A6                                               </td><td>P132                                             </td><td>0.03271828                                       </td><td>0.03970000                                       </td><td>0.001690467                                      </td><td>0.006136600                                      </td><td>0.002555819                                      </td></tr>\n",
       "</tbody>\n",
       "</table>\n"
      ],
      "text/latex": [
       "\\begin{tabular}{r|lllllllllllll}\n",
       "  & filename & MouseID & Treatmentgroup & status & DPI & organ & well\\_position & plate & mass\\_400 & mass\\_500 & mass\\_600 & mass\\_700 & mass\\_800\\\\\n",
       "\\hline\n",
       "\t31 & X511\\_Group1C\\_142dpi\\_LV\\_bottom\\_161\\_G\\_A1\\_P132.mzXML & 511                                                               & Group1C                                                           & naive                                                             & 142                                                               & LV\\_bottom                                                       & A1                                                                & P132                                                              & 0.04382789                                                        & 0.07997773                                                        & 0.002684053                                                       & 0.003825973                                                       & 0.000280747                                                      \\\\\n",
       "\t32 & X512\\_Group1C\\_142dpi\\_LV\\_bottom\\_162\\_G\\_A2\\_P132.mzXML & 512                                                               & Group1C                                                           & naive                                                             & 142                                                               & LV\\_bottom                                                       & A2                                                                & P132                                                              & 0.03908150                                                        & 0.06240000                                                        & 0.002998300                                                       & 0.003632408                                                       & 0.001471252                                                      \\\\\n",
       "\t33 & X513\\_Group1C\\_142dpi\\_LV\\_bottom\\_163\\_G\\_A3\\_P132.mzXML & 513                                                               & Group1C                                                           & naive                                                             & 142                                                               & LV\\_bottom                                                       & A3                                                                & P132                                                              & 0.03267072                                                        & 0.04620000                                                        & 0.001726274                                                       & 0.004220656                                                       & 0.002569278                                                      \\\\\n",
       "\t34 & X514\\_Group1C\\_142dpi\\_LV\\_bottom\\_164\\_G\\_A4\\_P132.mzXML & 514                                                               & Group1C                                                           & naive                                                             & 142                                                               & LV\\_bottom                                                       & A4                                                                & P132                                                              & 0.04172188                                                        & 0.05520000                                                        & 0.001976908                                                       & 0.003830678                                                       & 0.000883582                                                      \\\\\n",
       "\t35 & X515\\_Group1C\\_142dpi\\_LV\\_bottom\\_165\\_G\\_A5\\_P132.mzXML & 515                                                               & Group1C                                                           & naive                                                             & 142                                                               & LV\\_bottom                                                       & A5                                                                & P132                                                              & 0.03505978                                                        & 0.05858027                                                        & 0.002110626                                                       & 0.002231458                                                       & 0.001315984                                                      \\\\\n",
       "\t36 & X531\\_Group1C\\_142dpi\\_LV\\_bottom\\_166\\_G\\_A6\\_P132.mzXML & 531                                                               & Group1C                                                           & naive                                                             & 142                                                               & LV\\_bottom                                                       & A6                                                                & P132                                                              & 0.03271828                                                        & 0.03970000                                                        & 0.001690467                                                       & 0.006136600                                                       & 0.002555819                                                      \\\\\n",
       "\\end{tabular}\n"
      ],
      "text/markdown": [
       "\n",
       "| <!--/--> | filename | MouseID | Treatmentgroup | status | DPI | organ | well_position | plate | mass_400 | mass_500 | mass_600 | mass_700 | mass_800 |\n",
       "|---|---|---|---|---|---|---|---|---|---|---|---|---|---|\n",
       "| 31 | X511_Group1C_142dpi_LV_bottom_161_G_A1_P132.mzXML | 511                                               | Group1C                                           | naive                                             | 142                                               | LV_bottom                                         | A1                                                | P132                                              | 0.04382789                                        | 0.07997773                                        | 0.002684053                                       | 0.003825973                                       | 0.000280747                                       |\n",
       "| 32 | X512_Group1C_142dpi_LV_bottom_162_G_A2_P132.mzXML | 512                                               | Group1C                                           | naive                                             | 142                                               | LV_bottom                                         | A2                                                | P132                                              | 0.03908150                                        | 0.06240000                                        | 0.002998300                                       | 0.003632408                                       | 0.001471252                                       |\n",
       "| 33 | X513_Group1C_142dpi_LV_bottom_163_G_A3_P132.mzXML | 513                                               | Group1C                                           | naive                                             | 142                                               | LV_bottom                                         | A3                                                | P132                                              | 0.03267072                                        | 0.04620000                                        | 0.001726274                                       | 0.004220656                                       | 0.002569278                                       |\n",
       "| 34 | X514_Group1C_142dpi_LV_bottom_164_G_A4_P132.mzXML | 514                                               | Group1C                                           | naive                                             | 142                                               | LV_bottom                                         | A4                                                | P132                                              | 0.04172188                                        | 0.05520000                                        | 0.001976908                                       | 0.003830678                                       | 0.000883582                                       |\n",
       "| 35 | X515_Group1C_142dpi_LV_bottom_165_G_A5_P132.mzXML | 515                                               | Group1C                                           | naive                                             | 142                                               | LV_bottom                                         | A5                                                | P132                                              | 0.03505978                                        | 0.05858027                                        | 0.002110626                                       | 0.002231458                                       | 0.001315984                                       |\n",
       "| 36 | X531_Group1C_142dpi_LV_bottom_166_G_A6_P132.mzXML | 531                                               | Group1C                                           | naive                                             | 142                                               | LV_bottom                                         | A6                                                | P132                                              | 0.03271828                                        | 0.03970000                                        | 0.001690467                                       | 0.006136600                                       | 0.002555819                                       |\n",
       "\n"
      ],
      "text/plain": [
       "   filename                                          MouseID Treatmentgroup\n",
       "31 X511_Group1C_142dpi_LV_bottom_161_G_A1_P132.mzXML 511     Group1C       \n",
       "32 X512_Group1C_142dpi_LV_bottom_162_G_A2_P132.mzXML 512     Group1C       \n",
       "33 X513_Group1C_142dpi_LV_bottom_163_G_A3_P132.mzXML 513     Group1C       \n",
       "34 X514_Group1C_142dpi_LV_bottom_164_G_A4_P132.mzXML 514     Group1C       \n",
       "35 X515_Group1C_142dpi_LV_bottom_165_G_A5_P132.mzXML 515     Group1C       \n",
       "36 X531_Group1C_142dpi_LV_bottom_166_G_A6_P132.mzXML 531     Group1C       \n",
       "   status DPI organ     well_position plate mass_400   mass_500   mass_600   \n",
       "31 naive  142 LV_bottom A1            P132  0.04382789 0.07997773 0.002684053\n",
       "32 naive  142 LV_bottom A2            P132  0.03908150 0.06240000 0.002998300\n",
       "33 naive  142 LV_bottom A3            P132  0.03267072 0.04620000 0.001726274\n",
       "34 naive  142 LV_bottom A4            P132  0.04172188 0.05520000 0.001976908\n",
       "35 naive  142 LV_bottom A5            P132  0.03505978 0.05858027 0.002110626\n",
       "36 naive  142 LV_bottom A6            P132  0.03271828 0.03970000 0.001690467\n",
       "   mass_700    mass_800   \n",
       "31 0.003825973 0.000280747\n",
       "32 0.003632408 0.001471252\n",
       "33 0.004220656 0.002569278\n",
       "34 0.003830678 0.000883582\n",
       "35 0.002231458 0.001315984\n",
       "36 0.006136600 0.002555819"
      ]
     },
     "metadata": {},
     "output_type": "display_data"
    },
    {
     "data": {
      "text/html": [
       "<ol class=list-inline>\n",
       "\t<li>30</li>\n",
       "\t<li>13</li>\n",
       "</ol>\n"
      ],
      "text/latex": [
       "\\begin{enumerate*}\n",
       "\\item 30\n",
       "\\item 13\n",
       "\\end{enumerate*}\n"
      ],
      "text/markdown": [
       "1. 30\n",
       "2. 13\n",
       "\n",
       "\n"
      ],
      "text/plain": [
       "[1] 30 13"
      ]
     },
     "metadata": {},
     "output_type": "display_data"
    }
   ],
   "source": [
    "features_pos<-droplevels(subset(a, a$Treatmentgroup==c(\"Group1C\")|a$Treatmentgroup==c(\"Group3E\")))\n",
    "head(features_pos)\n",
    "dim(features_pos)"
   ]
  },
  {
   "cell_type": "code",
   "execution_count": 4,
   "metadata": {
    "scrolled": false
   },
   "outputs": [
    {
     "data": {
      "text/html": [
       "<table>\n",
       "<thead><tr><th></th><th scope=col>mass_400</th><th scope=col>mass_500</th><th scope=col>mass_600</th><th scope=col>mass_700</th><th scope=col>mass_800</th></tr></thead>\n",
       "<tbody>\n",
       "\t<tr><th scope=row>31</th><td>0.04382789 </td><td>0.07997773 </td><td>0.002684053</td><td>0.003825973</td><td>0.000280747</td></tr>\n",
       "\t<tr><th scope=row>32</th><td>0.03908150 </td><td>0.06240000 </td><td>0.002998300</td><td>0.003632408</td><td>0.001471252</td></tr>\n",
       "\t<tr><th scope=row>33</th><td>0.03267072 </td><td>0.04620000 </td><td>0.001726274</td><td>0.004220656</td><td>0.002569278</td></tr>\n",
       "\t<tr><th scope=row>34</th><td>0.04172188 </td><td>0.05520000 </td><td>0.001976908</td><td>0.003830678</td><td>0.000883582</td></tr>\n",
       "\t<tr><th scope=row>35</th><td>0.03505978 </td><td>0.05858027 </td><td>0.002110626</td><td>0.002231458</td><td>0.001315984</td></tr>\n",
       "\t<tr><th scope=row>36</th><td>0.03271828 </td><td>0.03970000 </td><td>0.001690467</td><td>0.006136600</td><td>0.002555819</td></tr>\n",
       "</tbody>\n",
       "</table>\n"
      ],
      "text/latex": [
       "\\begin{tabular}{r|lllll}\n",
       "  & mass\\_400 & mass\\_500 & mass\\_600 & mass\\_700 & mass\\_800\\\\\n",
       "\\hline\n",
       "\t31 & 0.04382789  & 0.07997773  & 0.002684053 & 0.003825973 & 0.000280747\\\\\n",
       "\t32 & 0.03908150  & 0.06240000  & 0.002998300 & 0.003632408 & 0.001471252\\\\\n",
       "\t33 & 0.03267072  & 0.04620000  & 0.001726274 & 0.004220656 & 0.002569278\\\\\n",
       "\t34 & 0.04172188  & 0.05520000  & 0.001976908 & 0.003830678 & 0.000883582\\\\\n",
       "\t35 & 0.03505978  & 0.05858027  & 0.002110626 & 0.002231458 & 0.001315984\\\\\n",
       "\t36 & 0.03271828  & 0.03970000  & 0.001690467 & 0.006136600 & 0.002555819\\\\\n",
       "\\end{tabular}\n"
      ],
      "text/markdown": [
       "\n",
       "| <!--/--> | mass_400 | mass_500 | mass_600 | mass_700 | mass_800 |\n",
       "|---|---|---|---|---|---|\n",
       "| 31 | 0.04382789  | 0.07997773  | 0.002684053 | 0.003825973 | 0.000280747 |\n",
       "| 32 | 0.03908150  | 0.06240000  | 0.002998300 | 0.003632408 | 0.001471252 |\n",
       "| 33 | 0.03267072  | 0.04620000  | 0.001726274 | 0.004220656 | 0.002569278 |\n",
       "| 34 | 0.04172188  | 0.05520000  | 0.001976908 | 0.003830678 | 0.000883582 |\n",
       "| 35 | 0.03505978  | 0.05858027  | 0.002110626 | 0.002231458 | 0.001315984 |\n",
       "| 36 | 0.03271828  | 0.03970000  | 0.001690467 | 0.006136600 | 0.002555819 |\n",
       "\n"
      ],
      "text/plain": [
       "   mass_400   mass_500   mass_600    mass_700    mass_800   \n",
       "31 0.04382789 0.07997773 0.002684053 0.003825973 0.000280747\n",
       "32 0.03908150 0.06240000 0.002998300 0.003632408 0.001471252\n",
       "33 0.03267072 0.04620000 0.001726274 0.004220656 0.002569278\n",
       "34 0.04172188 0.05520000 0.001976908 0.003830678 0.000883582\n",
       "35 0.03505978 0.05858027 0.002110626 0.002231458 0.001315984\n",
       "36 0.03271828 0.03970000 0.001690467 0.006136600 0.002555819"
      ]
     },
     "metadata": {},
     "output_type": "display_data"
    },
    {
     "data": {
      "text/html": [
       "<dl class=dl-horizontal>\n",
       "\t<dt>mass_400</dt>\n",
       "\t\t<dd>1</dd>\n",
       "\t<dt>mass_500</dt>\n",
       "\t\t<dd>2</dd>\n",
       "\t<dt>mass_600</dt>\n",
       "\t\t<dd>3</dd>\n",
       "\t<dt>mass_700</dt>\n",
       "\t\t<dd>4</dd>\n",
       "\t<dt>mass_800</dt>\n",
       "\t\t<dd>5</dd>\n",
       "</dl>\n"
      ],
      "text/latex": [
       "\\begin{description*}\n",
       "\\item[mass\\textbackslash{}\\_400] 1\n",
       "\\item[mass\\textbackslash{}\\_500] 2\n",
       "\\item[mass\\textbackslash{}\\_600] 3\n",
       "\\item[mass\\textbackslash{}\\_700] 4\n",
       "\\item[mass\\textbackslash{}\\_800] 5\n",
       "\\end{description*}\n"
      ],
      "text/markdown": [
       "mass_400\n",
       ":   1mass_500\n",
       ":   2mass_600\n",
       ":   3mass_700\n",
       ":   4mass_800\n",
       ":   5\n",
       "\n"
      ],
      "text/plain": [
       "mass_400 mass_500 mass_600 mass_700 mass_800 \n",
       "       1        2        3        4        5 "
      ]
     },
     "metadata": {},
     "output_type": "display_data"
    },
    {
     "data": {
      "text/html": [
       "<table>\n",
       "<thead><tr><th></th><th scope=col>mass_400</th><th scope=col>mass_500</th><th scope=col>mass_600</th><th scope=col>mass_700</th><th scope=col>mass_800</th></tr></thead>\n",
       "<tbody>\n",
       "\t<tr><th scope=row>31</th><td>0.04382789 </td><td>0.07997773 </td><td>0.002684053</td><td>0.003825973</td><td>0.000280747</td></tr>\n",
       "\t<tr><th scope=row>32</th><td>0.03908150 </td><td>0.06240000 </td><td>0.002998300</td><td>0.003632408</td><td>0.001471252</td></tr>\n",
       "\t<tr><th scope=row>33</th><td>0.03267072 </td><td>0.04620000 </td><td>0.001726274</td><td>0.004220656</td><td>0.002569278</td></tr>\n",
       "\t<tr><th scope=row>34</th><td>0.04172188 </td><td>0.05520000 </td><td>0.001976908</td><td>0.003830678</td><td>0.000883582</td></tr>\n",
       "\t<tr><th scope=row>35</th><td>0.03505978 </td><td>0.05858027 </td><td>0.002110626</td><td>0.002231458</td><td>0.001315984</td></tr>\n",
       "\t<tr><th scope=row>36</th><td>0.03271828 </td><td>0.03970000 </td><td>0.001690467</td><td>0.006136600</td><td>0.002555819</td></tr>\n",
       "\t<tr><th scope=row>37</th><td>0.04056562 </td><td>0.06012464 </td><td>0.002358184</td><td>0.001932979</td><td>0.000835822</td></tr>\n",
       "\t<tr><th scope=row>38</th><td>0.04363115 </td><td>0.06760000 </td><td>0.002264667</td><td>0.005164170</td><td>0.002720221</td></tr>\n",
       "\t<tr><th scope=row>39</th><td>0.03474385 </td><td>0.04840681 </td><td>0.001895897</td><td>0.004145536</td><td>0.001396689</td></tr>\n",
       "\t<tr><th scope=row>40</th><td>0.02601870 </td><td>0.03757457 </td><td>0.001181785</td><td>0.001423776</td><td>0.003364134</td></tr>\n",
       "\t<tr><th scope=row>41</th><td>0.04267282 </td><td>0.06818608 </td><td>0.002223042</td><td>0.005356417</td><td>0.002493371</td></tr>\n",
       "\t<tr><th scope=row>42</th><td>0.04375150 </td><td>0.06252638 </td><td>0.002564734</td><td>0.006578542</td><td>0.003792509</td></tr>\n",
       "\t<tr><th scope=row>43</th><td>0.06661881 </td><td>0.08120000 </td><td>0.002472581</td><td>0.005629735</td><td>0.006087050</td></tr>\n",
       "\t<tr><th scope=row>44</th><td>0.02703880 </td><td>0.04273792 </td><td>0.000995773</td><td>0.008450840</td><td>0.003082775</td></tr>\n",
       "\t<tr><th scope=row>45</th><td>0.03849104 </td><td>0.05330000 </td><td>0.002056790</td><td>0.009062418</td><td>0.011609149</td></tr>\n",
       "\t<tr><th scope=row>76</th><td>0.06492387 </td><td>0.04990000 </td><td>0.002081265</td><td>0.006480000</td><td>0.003550676</td></tr>\n",
       "\t<tr><th scope=row>77</th><td>0.03695652 </td><td>0.06233980 </td><td>0.001795235</td><td>0.011181530</td><td>0.011186446</td></tr>\n",
       "\t<tr><th scope=row>78</th><td>0.03606943 </td><td>0.05150000 </td><td>0.001668329</td><td>0.011848941</td><td>0.005145605</td></tr>\n",
       "\t<tr><th scope=row>79</th><td>0.03079909 </td><td>0.04567134 </td><td>0.001573917</td><td>0.003792443</td><td>0.003028223</td></tr>\n",
       "\t<tr><th scope=row>80</th><td>0.03190038 </td><td>0.05207845 </td><td>0.001750879</td><td>0.005605542</td><td>0.004331390</td></tr>\n",
       "\t<tr><th scope=row>81</th><td>0.03855542 </td><td>0.05790084 </td><td>0.001962230</td><td>0.005031554</td><td>0.009107090</td></tr>\n",
       "\t<tr><th scope=row>82</th><td>0.02662595 </td><td>0.04719623 </td><td>0.001176466</td><td>0.005823454</td><td>0.003236471</td></tr>\n",
       "\t<tr><th scope=row>83</th><td>0.03630949 </td><td>0.03839176 </td><td>0.001361896</td><td>0.004820534</td><td>0.002002947</td></tr>\n",
       "\t<tr><th scope=row>84</th><td>0.03215234 </td><td>0.04214292 </td><td>0.001482590</td><td>0.006072011</td><td>0.003178160</td></tr>\n",
       "\t<tr><th scope=row>85</th><td>0.04624580 </td><td>0.04421636 </td><td>0.001810607</td><td>0.004516918</td><td>0.003264402</td></tr>\n",
       "\t<tr><th scope=row>86</th><td>0.04261410 </td><td>0.04887115 </td><td>0.001868185</td><td>0.002973236</td><td>0.001972893</td></tr>\n",
       "\t<tr><th scope=row>87</th><td>0.02056699 </td><td>0.02700585 </td><td>0.000453372</td><td>0.003795169</td><td>0.004026340</td></tr>\n",
       "\t<tr><th scope=row>88</th><td>0.03318064 </td><td>0.03756626 </td><td>0.001379367</td><td>0.002327283</td><td>0.002510670</td></tr>\n",
       "\t<tr><th scope=row>89</th><td>0.02314307 </td><td>0.02976162 </td><td>0.000706995</td><td>0.003708450</td><td>0.003977562</td></tr>\n",
       "\t<tr><th scope=row>90</th><td>0.02717071 </td><td>0.02864066 </td><td>0.001022373</td><td>0.001074855</td><td>0.000866407</td></tr>\n",
       "</tbody>\n",
       "</table>\n"
      ],
      "text/latex": [
       "\\begin{tabular}{r|lllll}\n",
       "  & mass\\_400 & mass\\_500 & mass\\_600 & mass\\_700 & mass\\_800\\\\\n",
       "\\hline\n",
       "\t31 & 0.04382789  & 0.07997773  & 0.002684053 & 0.003825973 & 0.000280747\\\\\n",
       "\t32 & 0.03908150  & 0.06240000  & 0.002998300 & 0.003632408 & 0.001471252\\\\\n",
       "\t33 & 0.03267072  & 0.04620000  & 0.001726274 & 0.004220656 & 0.002569278\\\\\n",
       "\t34 & 0.04172188  & 0.05520000  & 0.001976908 & 0.003830678 & 0.000883582\\\\\n",
       "\t35 & 0.03505978  & 0.05858027  & 0.002110626 & 0.002231458 & 0.001315984\\\\\n",
       "\t36 & 0.03271828  & 0.03970000  & 0.001690467 & 0.006136600 & 0.002555819\\\\\n",
       "\t37 & 0.04056562  & 0.06012464  & 0.002358184 & 0.001932979 & 0.000835822\\\\\n",
       "\t38 & 0.04363115  & 0.06760000  & 0.002264667 & 0.005164170 & 0.002720221\\\\\n",
       "\t39 & 0.03474385  & 0.04840681  & 0.001895897 & 0.004145536 & 0.001396689\\\\\n",
       "\t40 & 0.02601870  & 0.03757457  & 0.001181785 & 0.001423776 & 0.003364134\\\\\n",
       "\t41 & 0.04267282  & 0.06818608  & 0.002223042 & 0.005356417 & 0.002493371\\\\\n",
       "\t42 & 0.04375150  & 0.06252638  & 0.002564734 & 0.006578542 & 0.003792509\\\\\n",
       "\t43 & 0.06661881  & 0.08120000  & 0.002472581 & 0.005629735 & 0.006087050\\\\\n",
       "\t44 & 0.02703880  & 0.04273792  & 0.000995773 & 0.008450840 & 0.003082775\\\\\n",
       "\t45 & 0.03849104  & 0.05330000  & 0.002056790 & 0.009062418 & 0.011609149\\\\\n",
       "\t76 & 0.06492387  & 0.04990000  & 0.002081265 & 0.006480000 & 0.003550676\\\\\n",
       "\t77 & 0.03695652  & 0.06233980  & 0.001795235 & 0.011181530 & 0.011186446\\\\\n",
       "\t78 & 0.03606943  & 0.05150000  & 0.001668329 & 0.011848941 & 0.005145605\\\\\n",
       "\t79 & 0.03079909  & 0.04567134  & 0.001573917 & 0.003792443 & 0.003028223\\\\\n",
       "\t80 & 0.03190038  & 0.05207845  & 0.001750879 & 0.005605542 & 0.004331390\\\\\n",
       "\t81 & 0.03855542  & 0.05790084  & 0.001962230 & 0.005031554 & 0.009107090\\\\\n",
       "\t82 & 0.02662595  & 0.04719623  & 0.001176466 & 0.005823454 & 0.003236471\\\\\n",
       "\t83 & 0.03630949  & 0.03839176  & 0.001361896 & 0.004820534 & 0.002002947\\\\\n",
       "\t84 & 0.03215234  & 0.04214292  & 0.001482590 & 0.006072011 & 0.003178160\\\\\n",
       "\t85 & 0.04624580  & 0.04421636  & 0.001810607 & 0.004516918 & 0.003264402\\\\\n",
       "\t86 & 0.04261410  & 0.04887115  & 0.001868185 & 0.002973236 & 0.001972893\\\\\n",
       "\t87 & 0.02056699  & 0.02700585  & 0.000453372 & 0.003795169 & 0.004026340\\\\\n",
       "\t88 & 0.03318064  & 0.03756626  & 0.001379367 & 0.002327283 & 0.002510670\\\\\n",
       "\t89 & 0.02314307  & 0.02976162  & 0.000706995 & 0.003708450 & 0.003977562\\\\\n",
       "\t90 & 0.02717071  & 0.02864066  & 0.001022373 & 0.001074855 & 0.000866407\\\\\n",
       "\\end{tabular}\n"
      ],
      "text/markdown": [
       "\n",
       "| <!--/--> | mass_400 | mass_500 | mass_600 | mass_700 | mass_800 |\n",
       "|---|---|---|---|---|---|\n",
       "| 31 | 0.04382789  | 0.07997773  | 0.002684053 | 0.003825973 | 0.000280747 |\n",
       "| 32 | 0.03908150  | 0.06240000  | 0.002998300 | 0.003632408 | 0.001471252 |\n",
       "| 33 | 0.03267072  | 0.04620000  | 0.001726274 | 0.004220656 | 0.002569278 |\n",
       "| 34 | 0.04172188  | 0.05520000  | 0.001976908 | 0.003830678 | 0.000883582 |\n",
       "| 35 | 0.03505978  | 0.05858027  | 0.002110626 | 0.002231458 | 0.001315984 |\n",
       "| 36 | 0.03271828  | 0.03970000  | 0.001690467 | 0.006136600 | 0.002555819 |\n",
       "| 37 | 0.04056562  | 0.06012464  | 0.002358184 | 0.001932979 | 0.000835822 |\n",
       "| 38 | 0.04363115  | 0.06760000  | 0.002264667 | 0.005164170 | 0.002720221 |\n",
       "| 39 | 0.03474385  | 0.04840681  | 0.001895897 | 0.004145536 | 0.001396689 |\n",
       "| 40 | 0.02601870  | 0.03757457  | 0.001181785 | 0.001423776 | 0.003364134 |\n",
       "| 41 | 0.04267282  | 0.06818608  | 0.002223042 | 0.005356417 | 0.002493371 |\n",
       "| 42 | 0.04375150  | 0.06252638  | 0.002564734 | 0.006578542 | 0.003792509 |\n",
       "| 43 | 0.06661881  | 0.08120000  | 0.002472581 | 0.005629735 | 0.006087050 |\n",
       "| 44 | 0.02703880  | 0.04273792  | 0.000995773 | 0.008450840 | 0.003082775 |\n",
       "| 45 | 0.03849104  | 0.05330000  | 0.002056790 | 0.009062418 | 0.011609149 |\n",
       "| 76 | 0.06492387  | 0.04990000  | 0.002081265 | 0.006480000 | 0.003550676 |\n",
       "| 77 | 0.03695652  | 0.06233980  | 0.001795235 | 0.011181530 | 0.011186446 |\n",
       "| 78 | 0.03606943  | 0.05150000  | 0.001668329 | 0.011848941 | 0.005145605 |\n",
       "| 79 | 0.03079909  | 0.04567134  | 0.001573917 | 0.003792443 | 0.003028223 |\n",
       "| 80 | 0.03190038  | 0.05207845  | 0.001750879 | 0.005605542 | 0.004331390 |\n",
       "| 81 | 0.03855542  | 0.05790084  | 0.001962230 | 0.005031554 | 0.009107090 |\n",
       "| 82 | 0.02662595  | 0.04719623  | 0.001176466 | 0.005823454 | 0.003236471 |\n",
       "| 83 | 0.03630949  | 0.03839176  | 0.001361896 | 0.004820534 | 0.002002947 |\n",
       "| 84 | 0.03215234  | 0.04214292  | 0.001482590 | 0.006072011 | 0.003178160 |\n",
       "| 85 | 0.04624580  | 0.04421636  | 0.001810607 | 0.004516918 | 0.003264402 |\n",
       "| 86 | 0.04261410  | 0.04887115  | 0.001868185 | 0.002973236 | 0.001972893 |\n",
       "| 87 | 0.02056699  | 0.02700585  | 0.000453372 | 0.003795169 | 0.004026340 |\n",
       "| 88 | 0.03318064  | 0.03756626  | 0.001379367 | 0.002327283 | 0.002510670 |\n",
       "| 89 | 0.02314307  | 0.02976162  | 0.000706995 | 0.003708450 | 0.003977562 |\n",
       "| 90 | 0.02717071  | 0.02864066  | 0.001022373 | 0.001074855 | 0.000866407 |\n",
       "\n"
      ],
      "text/plain": [
       "   mass_400   mass_500   mass_600    mass_700    mass_800   \n",
       "31 0.04382789 0.07997773 0.002684053 0.003825973 0.000280747\n",
       "32 0.03908150 0.06240000 0.002998300 0.003632408 0.001471252\n",
       "33 0.03267072 0.04620000 0.001726274 0.004220656 0.002569278\n",
       "34 0.04172188 0.05520000 0.001976908 0.003830678 0.000883582\n",
       "35 0.03505978 0.05858027 0.002110626 0.002231458 0.001315984\n",
       "36 0.03271828 0.03970000 0.001690467 0.006136600 0.002555819\n",
       "37 0.04056562 0.06012464 0.002358184 0.001932979 0.000835822\n",
       "38 0.04363115 0.06760000 0.002264667 0.005164170 0.002720221\n",
       "39 0.03474385 0.04840681 0.001895897 0.004145536 0.001396689\n",
       "40 0.02601870 0.03757457 0.001181785 0.001423776 0.003364134\n",
       "41 0.04267282 0.06818608 0.002223042 0.005356417 0.002493371\n",
       "42 0.04375150 0.06252638 0.002564734 0.006578542 0.003792509\n",
       "43 0.06661881 0.08120000 0.002472581 0.005629735 0.006087050\n",
       "44 0.02703880 0.04273792 0.000995773 0.008450840 0.003082775\n",
       "45 0.03849104 0.05330000 0.002056790 0.009062418 0.011609149\n",
       "76 0.06492387 0.04990000 0.002081265 0.006480000 0.003550676\n",
       "77 0.03695652 0.06233980 0.001795235 0.011181530 0.011186446\n",
       "78 0.03606943 0.05150000 0.001668329 0.011848941 0.005145605\n",
       "79 0.03079909 0.04567134 0.001573917 0.003792443 0.003028223\n",
       "80 0.03190038 0.05207845 0.001750879 0.005605542 0.004331390\n",
       "81 0.03855542 0.05790084 0.001962230 0.005031554 0.009107090\n",
       "82 0.02662595 0.04719623 0.001176466 0.005823454 0.003236471\n",
       "83 0.03630949 0.03839176 0.001361896 0.004820534 0.002002947\n",
       "84 0.03215234 0.04214292 0.001482590 0.006072011 0.003178160\n",
       "85 0.04624580 0.04421636 0.001810607 0.004516918 0.003264402\n",
       "86 0.04261410 0.04887115 0.001868185 0.002973236 0.001972893\n",
       "87 0.02056699 0.02700585 0.000453372 0.003795169 0.004026340\n",
       "88 0.03318064 0.03756626 0.001379367 0.002327283 0.002510670\n",
       "89 0.02314307 0.02976162 0.000706995 0.003708450 0.003977562\n",
       "90 0.02717071 0.02864066 0.001022373 0.001074855 0.000866407"
      ]
     },
     "metadata": {},
     "output_type": "display_data"
    },
    {
     "data": {
      "text/html": [
       "<table>\n",
       "<thead><tr><th></th><th scope=col>filename</th><th scope=col>MouseID</th><th scope=col>Treatmentgroup</th><th scope=col>status</th><th scope=col>DPI</th><th scope=col>organ</th><th scope=col>well_position</th><th scope=col>plate</th><th scope=col>mass_400</th><th scope=col>mass_500</th><th scope=col>mass_600</th><th scope=col>mass_700</th><th scope=col>mass_800</th></tr></thead>\n",
       "<tbody>\n",
       "\t<tr><th scope=row>31</th><td>X511_Group1C_142dpi_LV_bottom_161_G_A1_P132.mzXML</td><td>511                                              </td><td>Group1C                                          </td><td>naive                                            </td><td>142                                              </td><td>LV_bottom                                        </td><td>A1                                               </td><td>P132                                             </td><td>0.04382789                                       </td><td>0.07997773                                       </td><td>0.002684053                                      </td><td>0.003825973                                      </td><td>0.000280747                                      </td></tr>\n",
       "\t<tr><th scope=row>32</th><td>X512_Group1C_142dpi_LV_bottom_162_G_A2_P132.mzXML</td><td>512                                              </td><td>Group1C                                          </td><td>naive                                            </td><td>142                                              </td><td>LV_bottom                                        </td><td>A2                                               </td><td>P132                                             </td><td>0.03908150                                       </td><td>0.06240000                                       </td><td>0.002998300                                      </td><td>0.003632408                                      </td><td>0.001471252                                      </td></tr>\n",
       "\t<tr><th scope=row>33</th><td>X513_Group1C_142dpi_LV_bottom_163_G_A3_P132.mzXML</td><td>513                                              </td><td>Group1C                                          </td><td>naive                                            </td><td>142                                              </td><td>LV_bottom                                        </td><td>A3                                               </td><td>P132                                             </td><td>0.03267072                                       </td><td>0.04620000                                       </td><td>0.001726274                                      </td><td>0.004220656                                      </td><td>0.002569278                                      </td></tr>\n",
       "\t<tr><th scope=row>34</th><td>X514_Group1C_142dpi_LV_bottom_164_G_A4_P132.mzXML</td><td>514                                              </td><td>Group1C                                          </td><td>naive                                            </td><td>142                                              </td><td>LV_bottom                                        </td><td>A4                                               </td><td>P132                                             </td><td>0.04172188                                       </td><td>0.05520000                                       </td><td>0.001976908                                      </td><td>0.003830678                                      </td><td>0.000883582                                      </td></tr>\n",
       "\t<tr><th scope=row>35</th><td>X515_Group1C_142dpi_LV_bottom_165_G_A5_P132.mzXML</td><td>515                                              </td><td>Group1C                                          </td><td>naive                                            </td><td>142                                              </td><td>LV_bottom                                        </td><td>A5                                               </td><td>P132                                             </td><td>0.03505978                                       </td><td>0.05858027                                       </td><td>0.002110626                                      </td><td>0.002231458                                      </td><td>0.001315984                                      </td></tr>\n",
       "\t<tr><th scope=row>36</th><td>X531_Group1C_142dpi_LV_bottom_166_G_A6_P132.mzXML</td><td>531                                              </td><td>Group1C                                          </td><td>naive                                            </td><td>142                                              </td><td>LV_bottom                                        </td><td>A6                                               </td><td>P132                                             </td><td>0.03271828                                       </td><td>0.03970000                                       </td><td>0.001690467                                      </td><td>0.006136600                                      </td><td>0.002555819                                      </td></tr>\n",
       "</tbody>\n",
       "</table>\n"
      ],
      "text/latex": [
       "\\begin{tabular}{r|lllllllllllll}\n",
       "  & filename & MouseID & Treatmentgroup & status & DPI & organ & well\\_position & plate & mass\\_400 & mass\\_500 & mass\\_600 & mass\\_700 & mass\\_800\\\\\n",
       "\\hline\n",
       "\t31 & X511\\_Group1C\\_142dpi\\_LV\\_bottom\\_161\\_G\\_A1\\_P132.mzXML & 511                                                               & Group1C                                                           & naive                                                             & 142                                                               & LV\\_bottom                                                       & A1                                                                & P132                                                              & 0.04382789                                                        & 0.07997773                                                        & 0.002684053                                                       & 0.003825973                                                       & 0.000280747                                                      \\\\\n",
       "\t32 & X512\\_Group1C\\_142dpi\\_LV\\_bottom\\_162\\_G\\_A2\\_P132.mzXML & 512                                                               & Group1C                                                           & naive                                                             & 142                                                               & LV\\_bottom                                                       & A2                                                                & P132                                                              & 0.03908150                                                        & 0.06240000                                                        & 0.002998300                                                       & 0.003632408                                                       & 0.001471252                                                      \\\\\n",
       "\t33 & X513\\_Group1C\\_142dpi\\_LV\\_bottom\\_163\\_G\\_A3\\_P132.mzXML & 513                                                               & Group1C                                                           & naive                                                             & 142                                                               & LV\\_bottom                                                       & A3                                                                & P132                                                              & 0.03267072                                                        & 0.04620000                                                        & 0.001726274                                                       & 0.004220656                                                       & 0.002569278                                                      \\\\\n",
       "\t34 & X514\\_Group1C\\_142dpi\\_LV\\_bottom\\_164\\_G\\_A4\\_P132.mzXML & 514                                                               & Group1C                                                           & naive                                                             & 142                                                               & LV\\_bottom                                                       & A4                                                                & P132                                                              & 0.04172188                                                        & 0.05520000                                                        & 0.001976908                                                       & 0.003830678                                                       & 0.000883582                                                      \\\\\n",
       "\t35 & X515\\_Group1C\\_142dpi\\_LV\\_bottom\\_165\\_G\\_A5\\_P132.mzXML & 515                                                               & Group1C                                                           & naive                                                             & 142                                                               & LV\\_bottom                                                       & A5                                                                & P132                                                              & 0.03505978                                                        & 0.05858027                                                        & 0.002110626                                                       & 0.002231458                                                       & 0.001315984                                                      \\\\\n",
       "\t36 & X531\\_Group1C\\_142dpi\\_LV\\_bottom\\_166\\_G\\_A6\\_P132.mzXML & 531                                                               & Group1C                                                           & naive                                                             & 142                                                               & LV\\_bottom                                                       & A6                                                                & P132                                                              & 0.03271828                                                        & 0.03970000                                                        & 0.001690467                                                       & 0.006136600                                                       & 0.002555819                                                      \\\\\n",
       "\\end{tabular}\n"
      ],
      "text/markdown": [
       "\n",
       "| <!--/--> | filename | MouseID | Treatmentgroup | status | DPI | organ | well_position | plate | mass_400 | mass_500 | mass_600 | mass_700 | mass_800 |\n",
       "|---|---|---|---|---|---|---|---|---|---|---|---|---|---|\n",
       "| 31 | X511_Group1C_142dpi_LV_bottom_161_G_A1_P132.mzXML | 511                                               | Group1C                                           | naive                                             | 142                                               | LV_bottom                                         | A1                                                | P132                                              | 0.04382789                                        | 0.07997773                                        | 0.002684053                                       | 0.003825973                                       | 0.000280747                                       |\n",
       "| 32 | X512_Group1C_142dpi_LV_bottom_162_G_A2_P132.mzXML | 512                                               | Group1C                                           | naive                                             | 142                                               | LV_bottom                                         | A2                                                | P132                                              | 0.03908150                                        | 0.06240000                                        | 0.002998300                                       | 0.003632408                                       | 0.001471252                                       |\n",
       "| 33 | X513_Group1C_142dpi_LV_bottom_163_G_A3_P132.mzXML | 513                                               | Group1C                                           | naive                                             | 142                                               | LV_bottom                                         | A3                                                | P132                                              | 0.03267072                                        | 0.04620000                                        | 0.001726274                                       | 0.004220656                                       | 0.002569278                                       |\n",
       "| 34 | X514_Group1C_142dpi_LV_bottom_164_G_A4_P132.mzXML | 514                                               | Group1C                                           | naive                                             | 142                                               | LV_bottom                                         | A4                                                | P132                                              | 0.04172188                                        | 0.05520000                                        | 0.001976908                                       | 0.003830678                                       | 0.000883582                                       |\n",
       "| 35 | X515_Group1C_142dpi_LV_bottom_165_G_A5_P132.mzXML | 515                                               | Group1C                                           | naive                                             | 142                                               | LV_bottom                                         | A5                                                | P132                                              | 0.03505978                                        | 0.05858027                                        | 0.002110626                                       | 0.002231458                                       | 0.001315984                                       |\n",
       "| 36 | X531_Group1C_142dpi_LV_bottom_166_G_A6_P132.mzXML | 531                                               | Group1C                                           | naive                                             | 142                                               | LV_bottom                                         | A6                                                | P132                                              | 0.03271828                                        | 0.03970000                                        | 0.001690467                                       | 0.006136600                                       | 0.002555819                                       |\n",
       "\n"
      ],
      "text/plain": [
       "   filename                                          MouseID Treatmentgroup\n",
       "31 X511_Group1C_142dpi_LV_bottom_161_G_A1_P132.mzXML 511     Group1C       \n",
       "32 X512_Group1C_142dpi_LV_bottom_162_G_A2_P132.mzXML 512     Group1C       \n",
       "33 X513_Group1C_142dpi_LV_bottom_163_G_A3_P132.mzXML 513     Group1C       \n",
       "34 X514_Group1C_142dpi_LV_bottom_164_G_A4_P132.mzXML 514     Group1C       \n",
       "35 X515_Group1C_142dpi_LV_bottom_165_G_A5_P132.mzXML 515     Group1C       \n",
       "36 X531_Group1C_142dpi_LV_bottom_166_G_A6_P132.mzXML 531     Group1C       \n",
       "   status DPI organ     well_position plate mass_400   mass_500   mass_600   \n",
       "31 naive  142 LV_bottom A1            P132  0.04382789 0.07997773 0.002684053\n",
       "32 naive  142 LV_bottom A2            P132  0.03908150 0.06240000 0.002998300\n",
       "33 naive  142 LV_bottom A3            P132  0.03267072 0.04620000 0.001726274\n",
       "34 naive  142 LV_bottom A4            P132  0.04172188 0.05520000 0.001976908\n",
       "35 naive  142 LV_bottom A5            P132  0.03505978 0.05858027 0.002110626\n",
       "36 naive  142 LV_bottom A6            P132  0.03271828 0.03970000 0.001690467\n",
       "   mass_700    mass_800   \n",
       "31 0.003825973 0.000280747\n",
       "32 0.003632408 0.001471252\n",
       "33 0.004220656 0.002569278\n",
       "34 0.003830678 0.000883582\n",
       "35 0.002231458 0.001315984\n",
       "36 0.006136600 0.002555819"
      ]
     },
     "metadata": {},
     "output_type": "display_data"
    },
    {
     "data": {
      "text/html": [
       "<ol class=list-inline>\n",
       "\t<li>30</li>\n",
       "\t<li>13</li>\n",
       "</ol>\n"
      ],
      "text/latex": [
       "\\begin{enumerate*}\n",
       "\\item 30\n",
       "\\item 13\n",
       "\\end{enumerate*}\n"
      ],
      "text/markdown": [
       "1. 30\n",
       "2. 13\n",
       "\n",
       "\n"
      ],
      "text/plain": [
       "[1] 30 13"
      ]
     },
     "metadata": {},
     "output_type": "display_data"
    },
    {
     "data": {
      "text/html": [
       "<ol class=list-inline>\n",
       "\t<li>30</li>\n",
       "\t<li>5</li>\n",
       "</ol>\n"
      ],
      "text/latex": [
       "\\begin{enumerate*}\n",
       "\\item 30\n",
       "\\item 5\n",
       "\\end{enumerate*}\n"
      ],
      "text/markdown": [
       "1. 30\n",
       "2. 5\n",
       "\n",
       "\n"
      ],
      "text/plain": [
       "[1] 30  5"
      ]
     },
     "metadata": {},
     "output_type": "display_data"
    },
    {
     "data": {
      "text/html": [
       "<ol class=list-inline>\n",
       "\t<li>30</li>\n",
       "\t<li>5</li>\n",
       "</ol>\n"
      ],
      "text/latex": [
       "\\begin{enumerate*}\n",
       "\\item 30\n",
       "\\item 5\n",
       "\\end{enumerate*}\n"
      ],
      "text/markdown": [
       "1. 30\n",
       "2. 5\n",
       "\n",
       "\n"
      ],
      "text/plain": [
       "[1] 30  5"
      ]
     },
     "metadata": {},
     "output_type": "display_data"
    },
    {
     "data": {
      "text/html": [
       "<ol class=list-inline>\n",
       "\t<li>30</li>\n",
       "\t<li>13</li>\n",
       "</ol>\n"
      ],
      "text/latex": [
       "\\begin{enumerate*}\n",
       "\\item 30\n",
       "\\item 13\n",
       "\\end{enumerate*}\n"
      ],
      "text/markdown": [
       "1. 30\n",
       "2. 13\n",
       "\n",
       "\n"
      ],
      "text/plain": [
       "[1] 30 13"
      ]
     },
     "metadata": {},
     "output_type": "display_data"
    }
   ],
   "source": [
    "noMeta<-features_pos[,9:13]\n",
    "head(noMeta)\n",
    "not_zero<-which(colSums(noMeta) != 0)\n",
    "head(not_zero)\n",
    "nonzero <- noMeta[, not_zero]\n",
    "nonzero\n",
    "nonzero_wMeta<-cbind(features_pos[,1:8], nonzero)\n",
    "head(nonzero_wMeta)\n",
    "dim(features_pos)\n",
    "dim(noMeta)\n",
    "dim(nonzero)\n",
    "dim(nonzero_wMeta)"
   ]
  },
  {
   "cell_type": "code",
   "execution_count": 5,
   "metadata": {
    "scrolled": true
   },
   "outputs": [
    {
     "data": {
      "text/html": [
       "<ol class=list-inline>\n",
       "\t<li>0.136974224446085</li>\n",
       "\t<li>0.00754354504894096</li>\n",
       "\t<li>0.00196295041333822</li>\n",
       "\t<li>0.902462275054423</li>\n",
       "\t<li>0.0742044999172241</li>\n",
       "</ol>\n"
      ],
      "text/latex": [
       "\\begin{enumerate*}\n",
       "\\item 0.136974224446085\n",
       "\\item 0.00754354504894096\n",
       "\\item 0.00196295041333822\n",
       "\\item 0.902462275054423\n",
       "\\item 0.0742044999172241\n",
       "\\end{enumerate*}\n"
      ],
      "text/markdown": [
       "1. 0.136974224446085\n",
       "2. 0.00754354504894096\n",
       "3. 0.00196295041333822\n",
       "4. 0.902462275054423\n",
       "5. 0.0742044999172241\n",
       "\n",
       "\n"
      ],
      "text/plain": [
       "[1] 0.136974224 0.007543545 0.001962950 0.902462275 0.074204500"
      ]
     },
     "metadata": {},
     "output_type": "display_data"
    },
    {
     "data": {
      "text/html": [
       "<ol class=list-inline>\n",
       "\t<li>0.171217780557606</li>\n",
       "\t<li>0.0188588626223524</li>\n",
       "\t<li>0.00981475206669111</li>\n",
       "\t<li>0.902462275054423</li>\n",
       "\t<li>0.123674166528707</li>\n",
       "</ol>\n"
      ],
      "text/latex": [
       "\\begin{enumerate*}\n",
       "\\item 0.171217780557606\n",
       "\\item 0.0188588626223524\n",
       "\\item 0.00981475206669111\n",
       "\\item 0.902462275054423\n",
       "\\item 0.123674166528707\n",
       "\\end{enumerate*}\n"
      ],
      "text/markdown": [
       "1. 0.171217780557606\n",
       "2. 0.0188588626223524\n",
       "3. 0.00981475206669111\n",
       "4. 0.902462275054423\n",
       "5. 0.123674166528707\n",
       "\n",
       "\n"
      ],
      "text/plain": [
       "[1] 0.171217781 0.018858863 0.009814752 0.902462275 0.123674167"
      ]
     },
     "metadata": {},
     "output_type": "display_data"
    }
   ],
   "source": [
    "pval<-c()\n",
    "\n",
    "for (i in 9:ncol(nonzero_wMeta)) \n",
    "pval<-c(pval,wilcox.test(nonzero_wMeta[,i]~nonzero_wMeta$Treatmentgroup)$p.value)\n",
    "head(pval)\n",
    "pAdj <- p.adjust(pval, method = c(\"fdr\"), n=length(pval)) \n",
    "head(pAdj) \n",
    "\n"
   ]
  },
  {
   "cell_type": "code",
   "execution_count": 6,
   "metadata": {
    "scrolled": true
   },
   "outputs": [
    {
     "data": {
      "text/html": [
       "5"
      ],
      "text/latex": [
       "5"
      ],
      "text/markdown": [
       "5"
      ],
      "text/plain": [
       "[1] 5"
      ]
     },
     "metadata": {},
     "output_type": "display_data"
    }
   ],
   "source": [
    "length(pval)"
   ]
  },
  {
   "cell_type": "code",
   "execution_count": 7,
   "metadata": {
    "scrolled": true
   },
   "outputs": [
    {
     "data": {
      "text/html": [
       "5"
      ],
      "text/latex": [
       "5"
      ],
      "text/markdown": [
       "5"
      ],
      "text/plain": [
       "[1] 5"
      ]
     },
     "metadata": {},
     "output_type": "display_data"
    }
   ],
   "source": [
    "length(pAdj)"
   ]
  },
  {
   "cell_type": "code",
   "execution_count": 8,
   "metadata": {},
   "outputs": [
    {
     "data": {
      "text/html": [
       "<ol class=list-inline>\n",
       "\t<li>2</li>\n",
       "\t<li>5</li>\n",
       "</ol>\n"
      ],
      "text/latex": [
       "\\begin{enumerate*}\n",
       "\\item 2\n",
       "\\item 5\n",
       "\\end{enumerate*}\n"
      ],
      "text/markdown": [
       "1. 2\n",
       "2. 5\n",
       "\n",
       "\n"
      ],
      "text/plain": [
       "[1] 2 5"
      ]
     },
     "metadata": {},
     "output_type": "display_data"
    },
    {
     "data": {
      "text/html": [
       "<table>\n",
       "<thead><tr><th></th><th scope=col>mass_400</th><th scope=col>mass_500</th><th scope=col>mass_600</th></tr></thead>\n",
       "<tbody>\n",
       "\t<tr><th scope=row>Group1C</th><td>0.03924082 </td><td>0.05758096 </td><td>0.002080005</td></tr>\n",
       "\t<tr><th scope=row>Group3E</th><td>0.03514759 </td><td>0.04421222 </td><td>0.001472914</td></tr>\n",
       "</tbody>\n",
       "</table>\n"
      ],
      "text/latex": [
       "\\begin{tabular}{r|lll}\n",
       "  & mass\\_400 & mass\\_500 & mass\\_600\\\\\n",
       "\\hline\n",
       "\tGroup1C & 0.03924082  & 0.05758096  & 0.002080005\\\\\n",
       "\tGroup3E & 0.03514759  & 0.04421222  & 0.001472914\\\\\n",
       "\\end{tabular}\n"
      ],
      "text/markdown": [
       "\n",
       "| <!--/--> | mass_400 | mass_500 | mass_600 |\n",
       "|---|---|---|---|\n",
       "| Group1C | 0.03924082  | 0.05758096  | 0.002080005 |\n",
       "| Group3E | 0.03514759  | 0.04421222  | 0.001472914 |\n",
       "\n"
      ],
      "text/plain": [
       "        mass_400   mass_500   mass_600   \n",
       "Group1C 0.03924082 0.05758096 0.002080005\n",
       "Group3E 0.03514759 0.04421222 0.001472914"
      ]
     },
     "metadata": {},
     "output_type": "display_data"
    },
    {
     "data": {
      "text/html": [
       "<dl class=dl-horizontal>\n",
       "\t<dt>mass_400</dt>\n",
       "\t\t<dd>1.11645857467834</dd>\n",
       "\t<dt>mass_500</dt>\n",
       "\t\t<dd>1.30237669771762</dd>\n",
       "\t<dt>mass_600</dt>\n",
       "\t\t<dd>1.41217055210203</dd>\n",
       "\t<dt>mass_700</dt>\n",
       "\t\t<dd>0.906014502873555</dd>\n",
       "\t<dt>mass_800</dt>\n",
       "\t\t<dd>0.724251490772658</dd>\n",
       "</dl>\n"
      ],
      "text/latex": [
       "\\begin{description*}\n",
       "\\item[mass\\textbackslash{}\\_400] 1.11645857467834\n",
       "\\item[mass\\textbackslash{}\\_500] 1.30237669771762\n",
       "\\item[mass\\textbackslash{}\\_600] 1.41217055210203\n",
       "\\item[mass\\textbackslash{}\\_700] 0.906014502873555\n",
       "\\item[mass\\textbackslash{}\\_800] 0.724251490772658\n",
       "\\end{description*}\n"
      ],
      "text/markdown": [
       "mass_400\n",
       ":   1.11645857467834mass_500\n",
       ":   1.30237669771762mass_600\n",
       ":   1.41217055210203mass_700\n",
       ":   0.906014502873555mass_800\n",
       ":   0.724251490772658\n",
       "\n"
      ],
      "text/plain": [
       " mass_400  mass_500  mass_600  mass_700  mass_800 \n",
       "1.1164586 1.3023767 1.4121706 0.9060145 0.7242515 "
      ]
     },
     "metadata": {},
     "output_type": "display_data"
    },
    {
     "data": {
      "text/html": [
       "<ol class=list-inline>\n",
       "\t<li>'numeric'</li>\n",
       "\t<li>'vector'</li>\n",
       "</ol>\n"
      ],
      "text/latex": [
       "\\begin{enumerate*}\n",
       "\\item 'numeric'\n",
       "\\item 'vector'\n",
       "\\end{enumerate*}\n"
      ],
      "text/markdown": [
       "1. 'numeric'\n",
       "2. 'vector'\n",
       "\n",
       "\n"
      ],
      "text/plain": [
       "[1] \"numeric\" \"vector\" "
      ]
     },
     "metadata": {},
     "output_type": "display_data"
    }
   ],
   "source": [
    "avg<- apply(nonzero_wMeta[,9:ncol(nonzero_wMeta)], 2, function(x) tapply(x, nonzero_wMeta$Treatmentgroup, function(x) mean(x))) \n",
    "\n",
    "dim(avg)\n",
    "\n",
    "avg[,1:3]\n",
    "\n",
    "fch <- apply(avg, 2, function(x) x[1]/x[2])\n",
    "\n",
    "head(fch)\n",
    "is(fch)"
   ]
  },
  {
   "cell_type": "code",
   "execution_count": 9,
   "metadata": {
    "scrolled": true
   },
   "outputs": [
    {
     "data": {
      "text/html": [
       "<dl class=dl-horizontal>\n",
       "\t<dt>mass_400</dt>\n",
       "\t\t<dd>1.11645857467834</dd>\n",
       "\t<dt>mass_500</dt>\n",
       "\t\t<dd>1.30237669771762</dd>\n",
       "\t<dt>mass_600</dt>\n",
       "\t\t<dd>1.41217055210203</dd>\n",
       "\t<dt>mass_700</dt>\n",
       "\t\t<dd>0.906014502873555</dd>\n",
       "\t<dt>mass_800</dt>\n",
       "\t\t<dd>0.724251490772658</dd>\n",
       "</dl>\n"
      ],
      "text/latex": [
       "\\begin{description*}\n",
       "\\item[mass\\textbackslash{}\\_400] 1.11645857467834\n",
       "\\item[mass\\textbackslash{}\\_500] 1.30237669771762\n",
       "\\item[mass\\textbackslash{}\\_600] 1.41217055210203\n",
       "\\item[mass\\textbackslash{}\\_700] 0.906014502873555\n",
       "\\item[mass\\textbackslash{}\\_800] 0.724251490772658\n",
       "\\end{description*}\n"
      ],
      "text/markdown": [
       "mass_400\n",
       ":   1.11645857467834mass_500\n",
       ":   1.30237669771762mass_600\n",
       ":   1.41217055210203mass_700\n",
       ":   0.906014502873555mass_800\n",
       ":   0.724251490772658\n",
       "\n"
      ],
      "text/plain": [
       " mass_400  mass_500  mass_600  mass_700  mass_800 \n",
       "1.1164586 1.3023767 1.4121706 0.9060145 0.7242515 "
      ]
     },
     "metadata": {},
     "output_type": "display_data"
    }
   ],
   "source": [
    "fch"
   ]
  },
  {
   "cell_type": "code",
   "execution_count": 10,
   "metadata": {
    "scrolled": false
   },
   "outputs": [],
   "source": [
    "df <- data.frame(fch,pval, pAdj)\n",
    "write.csv(df, \"PC-time-LVB-wilcox-1C-3E.csv\")"
   ]
  },
  {
   "cell_type": "code",
   "execution_count": null,
   "metadata": {},
   "outputs": [],
   "source": []
  },
  {
   "cell_type": "code",
   "execution_count": null,
   "metadata": {},
   "outputs": [],
   "source": []
  },
  {
   "cell_type": "code",
   "execution_count": null,
   "metadata": {},
   "outputs": [],
   "source": []
  },
  {
   "cell_type": "code",
   "execution_count": null,
   "metadata": {},
   "outputs": [],
   "source": []
  },
  {
   "cell_type": "code",
   "execution_count": null,
   "metadata": {},
   "outputs": [],
   "source": []
  },
  {
   "cell_type": "code",
   "execution_count": null,
   "metadata": {},
   "outputs": [],
   "source": []
  }
 ],
 "metadata": {
  "kernelspec": {
   "display_name": "R",
   "language": "R",
   "name": "ir"
  },
  "language_info": {
   "codemirror_mode": "r",
   "file_extension": ".r",
   "mimetype": "text/x-r-source",
   "name": "R",
   "pygments_lexer": "r",
   "version": "3.6.1"
  }
 },
 "nbformat": 4,
 "nbformat_minor": 2
}
