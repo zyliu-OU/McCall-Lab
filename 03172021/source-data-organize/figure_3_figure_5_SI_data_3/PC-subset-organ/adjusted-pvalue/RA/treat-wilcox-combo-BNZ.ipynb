{
 "cells": [
  {
   "cell_type": "code",
   "execution_count": 4,
   "metadata": {},
   "outputs": [],
   "source": [
    "a <- read.csv(\"03172021-PC-treatment-RA-M-F.csv\")"
   ]
  },
  {
   "cell_type": "code",
   "execution_count": 5,
   "metadata": {},
   "outputs": [
    {
     "data": {
      "text/html": [
       "<table>\n",
       "<thead><tr><th scope=col>filename</th><th scope=col>MouseID</th><th scope=col>Treatmentgroup</th><th scope=col>DPI</th><th scope=col>organ</th><th scope=col>well_position</th><th scope=col>plate</th><th scope=col>mass_400</th><th scope=col>mass_500</th><th scope=col>mass_600</th><th scope=col>mass_700</th><th scope=col>mass_800</th></tr></thead>\n",
       "<tbody>\n",
       "\t<tr><td>X511_Group1C_142dpi_RA_161_G_A1_P124.mzXML</td><td>511                                       </td><td>naive                                     </td><td>142dpi                                    </td><td>RA                                        </td><td>A1                                        </td><td>P124                                      </td><td>0.01994283                                </td><td>0.02502781                                </td><td>0.000415632                               </td><td>0.005854332                               </td><td>0.003647412                               </td></tr>\n",
       "\t<tr><td>X512_Group1C_142dpi_RA_162_G_A2_P124.mzXML</td><td>512                                       </td><td>naive                                     </td><td>142dpi                                    </td><td>RA                                        </td><td>A2                                        </td><td>P124                                      </td><td>0.03626993                                </td><td>0.04240000                                </td><td>0.000906489                               </td><td>0.011036420                               </td><td>0.003723513                               </td></tr>\n",
       "\t<tr><td>X513_Group1C_142dpi_RA_163_G_A3_P124.mzXML</td><td>513                                       </td><td>naive                                     </td><td>142dpi                                    </td><td>RA                                        </td><td>A3                                        </td><td>P124                                      </td><td>0.03151262                                </td><td>0.05470000                                </td><td>0.001419182                               </td><td>0.025528456                               </td><td>0.020909886                               </td></tr>\n",
       "\t<tr><td>X514_Group1C_142dpi_RA_164_G_A4_P124.mzXML</td><td>514                                       </td><td>naive                                     </td><td>142dpi                                    </td><td>RA                                        </td><td>A4                                        </td><td>P124                                      </td><td>0.03428018                                </td><td>0.03961443                                </td><td>0.000910830                               </td><td>0.003097366                               </td><td>0.005380550                               </td></tr>\n",
       "\t<tr><td>X515_Group1C_142dpi_RA_165_G_A5_P124.mzXML</td><td>515                                       </td><td>naive                                     </td><td>142dpi                                    </td><td>RA                                        </td><td>A5                                        </td><td>P124                                      </td><td>0.02349768                                </td><td>0.02730000                                </td><td>0.001071729                               </td><td>0.004059030                               </td><td>0.002179902                               </td></tr>\n",
       "\t<tr><td>X531_Group1C_142dpi_RA_166_G_A6_P124.mzXML</td><td>531                                       </td><td>naive                                     </td><td>142dpi                                    </td><td>RA                                        </td><td>A6                                        </td><td>P124                                      </td><td>0.02585822                                </td><td>0.03340000                                </td><td>0.000938300                               </td><td>0.012900000                               </td><td>0.007982976                               </td></tr>\n",
       "</tbody>\n",
       "</table>\n"
      ],
      "text/latex": [
       "\\begin{tabular}{r|llllllllllll}\n",
       " filename & MouseID & Treatmentgroup & DPI & organ & well\\_position & plate & mass\\_400 & mass\\_500 & mass\\_600 & mass\\_700 & mass\\_800\\\\\n",
       "\\hline\n",
       "\t X511\\_Group1C\\_142dpi\\_RA\\_161\\_G\\_A1\\_P124.mzXML & 511                                                      & naive                                                    & 142dpi                                                   & RA                                                       & A1                                                       & P124                                                     & 0.01994283                                               & 0.02502781                                               & 0.000415632                                              & 0.005854332                                              & 0.003647412                                             \\\\\n",
       "\t X512\\_Group1C\\_142dpi\\_RA\\_162\\_G\\_A2\\_P124.mzXML & 512                                                      & naive                                                    & 142dpi                                                   & RA                                                       & A2                                                       & P124                                                     & 0.03626993                                               & 0.04240000                                               & 0.000906489                                              & 0.011036420                                              & 0.003723513                                             \\\\\n",
       "\t X513\\_Group1C\\_142dpi\\_RA\\_163\\_G\\_A3\\_P124.mzXML & 513                                                      & naive                                                    & 142dpi                                                   & RA                                                       & A3                                                       & P124                                                     & 0.03151262                                               & 0.05470000                                               & 0.001419182                                              & 0.025528456                                              & 0.020909886                                             \\\\\n",
       "\t X514\\_Group1C\\_142dpi\\_RA\\_164\\_G\\_A4\\_P124.mzXML & 514                                                      & naive                                                    & 142dpi                                                   & RA                                                       & A4                                                       & P124                                                     & 0.03428018                                               & 0.03961443                                               & 0.000910830                                              & 0.003097366                                              & 0.005380550                                             \\\\\n",
       "\t X515\\_Group1C\\_142dpi\\_RA\\_165\\_G\\_A5\\_P124.mzXML & 515                                                      & naive                                                    & 142dpi                                                   & RA                                                       & A5                                                       & P124                                                     & 0.02349768                                               & 0.02730000                                               & 0.001071729                                              & 0.004059030                                              & 0.002179902                                             \\\\\n",
       "\t X531\\_Group1C\\_142dpi\\_RA\\_166\\_G\\_A6\\_P124.mzXML & 531                                                      & naive                                                    & 142dpi                                                   & RA                                                       & A6                                                       & P124                                                     & 0.02585822                                               & 0.03340000                                               & 0.000938300                                              & 0.012900000                                              & 0.007982976                                             \\\\\n",
       "\\end{tabular}\n"
      ],
      "text/markdown": [
       "\n",
       "| filename | MouseID | Treatmentgroup | DPI | organ | well_position | plate | mass_400 | mass_500 | mass_600 | mass_700 | mass_800 |\n",
       "|---|---|---|---|---|---|---|---|---|---|---|---|\n",
       "| X511_Group1C_142dpi_RA_161_G_A1_P124.mzXML | 511                                        | naive                                      | 142dpi                                     | RA                                         | A1                                         | P124                                       | 0.01994283                                 | 0.02502781                                 | 0.000415632                                | 0.005854332                                | 0.003647412                                |\n",
       "| X512_Group1C_142dpi_RA_162_G_A2_P124.mzXML | 512                                        | naive                                      | 142dpi                                     | RA                                         | A2                                         | P124                                       | 0.03626993                                 | 0.04240000                                 | 0.000906489                                | 0.011036420                                | 0.003723513                                |\n",
       "| X513_Group1C_142dpi_RA_163_G_A3_P124.mzXML | 513                                        | naive                                      | 142dpi                                     | RA                                         | A3                                         | P124                                       | 0.03151262                                 | 0.05470000                                 | 0.001419182                                | 0.025528456                                | 0.020909886                                |\n",
       "| X514_Group1C_142dpi_RA_164_G_A4_P124.mzXML | 514                                        | naive                                      | 142dpi                                     | RA                                         | A4                                         | P124                                       | 0.03428018                                 | 0.03961443                                 | 0.000910830                                | 0.003097366                                | 0.005380550                                |\n",
       "| X515_Group1C_142dpi_RA_165_G_A5_P124.mzXML | 515                                        | naive                                      | 142dpi                                     | RA                                         | A5                                         | P124                                       | 0.02349768                                 | 0.02730000                                 | 0.001071729                                | 0.004059030                                | 0.002179902                                |\n",
       "| X531_Group1C_142dpi_RA_166_G_A6_P124.mzXML | 531                                        | naive                                      | 142dpi                                     | RA                                         | A6                                         | P124                                       | 0.02585822                                 | 0.03340000                                 | 0.000938300                                | 0.012900000                                | 0.007982976                                |\n",
       "\n"
      ],
      "text/plain": [
       "  filename                                   MouseID Treatmentgroup DPI   \n",
       "1 X511_Group1C_142dpi_RA_161_G_A1_P124.mzXML 511     naive          142dpi\n",
       "2 X512_Group1C_142dpi_RA_162_G_A2_P124.mzXML 512     naive          142dpi\n",
       "3 X513_Group1C_142dpi_RA_163_G_A3_P124.mzXML 513     naive          142dpi\n",
       "4 X514_Group1C_142dpi_RA_164_G_A4_P124.mzXML 514     naive          142dpi\n",
       "5 X515_Group1C_142dpi_RA_165_G_A5_P124.mzXML 515     naive          142dpi\n",
       "6 X531_Group1C_142dpi_RA_166_G_A6_P124.mzXML 531     naive          142dpi\n",
       "  organ well_position plate mass_400   mass_500   mass_600    mass_700   \n",
       "1 RA    A1            P124  0.01994283 0.02502781 0.000415632 0.005854332\n",
       "2 RA    A2            P124  0.03626993 0.04240000 0.000906489 0.011036420\n",
       "3 RA    A3            P124  0.03151262 0.05470000 0.001419182 0.025528456\n",
       "4 RA    A4            P124  0.03428018 0.03961443 0.000910830 0.003097366\n",
       "5 RA    A5            P124  0.02349768 0.02730000 0.001071729 0.004059030\n",
       "6 RA    A6            P124  0.02585822 0.03340000 0.000938300 0.012900000\n",
       "  mass_800   \n",
       "1 0.003647412\n",
       "2 0.003723513\n",
       "3 0.020909886\n",
       "4 0.005380550\n",
       "5 0.002179902\n",
       "6 0.007982976"
      ]
     },
     "metadata": {},
     "output_type": "display_data"
    },
    {
     "data": {
      "text/html": [
       "<ol class=list-inline>\n",
       "\t<li>60</li>\n",
       "\t<li>12</li>\n",
       "</ol>\n"
      ],
      "text/latex": [
       "\\begin{enumerate*}\n",
       "\\item 60\n",
       "\\item 12\n",
       "\\end{enumerate*}\n"
      ],
      "text/markdown": [
       "1. 60\n",
       "2. 12\n",
       "\n",
       "\n"
      ],
      "text/plain": [
       "[1] 60 12"
      ]
     },
     "metadata": {},
     "output_type": "display_data"
    }
   ],
   "source": [
    "head(a)\n",
    "dim(a)"
   ]
  },
  {
   "cell_type": "code",
   "execution_count": 6,
   "metadata": {},
   "outputs": [
    {
     "data": {
      "text/html": [
       "<table>\n",
       "<thead><tr><th></th><th scope=col>filename</th><th scope=col>MouseID</th><th scope=col>Treatmentgroup</th><th scope=col>DPI</th><th scope=col>organ</th><th scope=col>well_position</th><th scope=col>plate</th><th scope=col>mass_400</th><th scope=col>mass_500</th><th scope=col>mass_600</th><th scope=col>mass_700</th><th scope=col>mass_800</th></tr></thead>\n",
       "<tbody>\n",
       "\t<tr><th scope=row>21</th><td>X611_Group9_142dpi_RA_181_G_B9_P124.mzXML </td><td>611                                       </td><td>combo                                     </td><td>142dpi                                    </td><td>RA                                        </td><td>B9                                        </td><td>P124                                      </td><td>0.02539119                                </td><td>0.02750000                                </td><td>0.000623198                               </td><td>0.000683356                               </td><td>0.000485430                               </td></tr>\n",
       "\t<tr><th scope=row>22</th><td>X612_Group9_142dpi_RA_182_G_B10_P124.mzXML</td><td>612                                       </td><td>combo                                     </td><td>142dpi                                    </td><td>RA                                        </td><td>B10                                       </td><td>P124                                      </td><td>0.03425922                                </td><td>0.03677236                                </td><td>0.000867025                               </td><td>0.009992561                               </td><td>0.003903250                               </td></tr>\n",
       "\t<tr><th scope=row>23</th><td>X613_Group9_142dpi_RA_183_G_B11_P124.mzXML</td><td>613                                       </td><td>combo                                     </td><td>142dpi                                    </td><td>RA                                        </td><td>B11                                       </td><td>P124                                      </td><td>0.05466666                                </td><td>0.05527131                                </td><td>0.000332905                               </td><td>0.009665168                               </td><td>0.007541397                               </td></tr>\n",
       "\t<tr><th scope=row>24</th><td>X614_Group9_142dpi_RA_184_G_B12_P124.mzXML</td><td>614                                       </td><td>combo                                     </td><td>142dpi                                    </td><td>RA                                        </td><td>B12                                       </td><td>P124                                      </td><td>0.05583318                                </td><td>0.04310704                                </td><td>0.000125300                               </td><td>0.001003940                               </td><td>0.000719755                               </td></tr>\n",
       "\t<tr><th scope=row>25</th><td>X615_Group9_142dpi_RA_185_G_C1_P124.mzXML </td><td>615                                       </td><td>combo                                     </td><td>142dpi                                    </td><td>RA                                        </td><td>C1                                        </td><td>P124                                      </td><td>0.02753791                                </td><td>0.02575079                                </td><td>0.000347477                               </td><td>0.000953228                               </td><td>0.000561463                               </td></tr>\n",
       "\t<tr><th scope=row>26</th><td>X631_Group15_142dpi_RA_191_G_C7_P124.mzXML</td><td>631                                       </td><td>BNZ                                       </td><td>142dpi                                    </td><td>RA                                        </td><td>C7                                        </td><td>P124                                      </td><td>0.03356458                                </td><td>0.03920000                                </td><td>0.000785318                               </td><td>0.013500000                               </td><td>0.001570132                               </td></tr>\n",
       "</tbody>\n",
       "</table>\n"
      ],
      "text/latex": [
       "\\begin{tabular}{r|llllllllllll}\n",
       "  & filename & MouseID & Treatmentgroup & DPI & organ & well\\_position & plate & mass\\_400 & mass\\_500 & mass\\_600 & mass\\_700 & mass\\_800\\\\\n",
       "\\hline\n",
       "\t21 & X611\\_Group9\\_142dpi\\_RA\\_181\\_G\\_B9\\_P124.mzXML  & 611                                                      & combo                                                    & 142dpi                                                   & RA                                                       & B9                                                       & P124                                                     & 0.02539119                                               & 0.02750000                                               & 0.000623198                                              & 0.000683356                                              & 0.000485430                                             \\\\\n",
       "\t22 & X612\\_Group9\\_142dpi\\_RA\\_182\\_G\\_B10\\_P124.mzXML & 612                                                      & combo                                                    & 142dpi                                                   & RA                                                       & B10                                                      & P124                                                     & 0.03425922                                               & 0.03677236                                               & 0.000867025                                              & 0.009992561                                              & 0.003903250                                             \\\\\n",
       "\t23 & X613\\_Group9\\_142dpi\\_RA\\_183\\_G\\_B11\\_P124.mzXML & 613                                                      & combo                                                    & 142dpi                                                   & RA                                                       & B11                                                      & P124                                                     & 0.05466666                                               & 0.05527131                                               & 0.000332905                                              & 0.009665168                                              & 0.007541397                                             \\\\\n",
       "\t24 & X614\\_Group9\\_142dpi\\_RA\\_184\\_G\\_B12\\_P124.mzXML & 614                                                      & combo                                                    & 142dpi                                                   & RA                                                       & B12                                                      & P124                                                     & 0.05583318                                               & 0.04310704                                               & 0.000125300                                              & 0.001003940                                              & 0.000719755                                             \\\\\n",
       "\t25 & X615\\_Group9\\_142dpi\\_RA\\_185\\_G\\_C1\\_P124.mzXML  & 615                                                      & combo                                                    & 142dpi                                                   & RA                                                       & C1                                                       & P124                                                     & 0.02753791                                               & 0.02575079                                               & 0.000347477                                              & 0.000953228                                              & 0.000561463                                             \\\\\n",
       "\t26 & X631\\_Group15\\_142dpi\\_RA\\_191\\_G\\_C7\\_P124.mzXML & 631                                                      & BNZ                                                      & 142dpi                                                   & RA                                                       & C7                                                       & P124                                                     & 0.03356458                                               & 0.03920000                                               & 0.000785318                                              & 0.013500000                                              & 0.001570132                                             \\\\\n",
       "\\end{tabular}\n"
      ],
      "text/markdown": [
       "\n",
       "| <!--/--> | filename | MouseID | Treatmentgroup | DPI | organ | well_position | plate | mass_400 | mass_500 | mass_600 | mass_700 | mass_800 |\n",
       "|---|---|---|---|---|---|---|---|---|---|---|---|---|\n",
       "| 21 | X611_Group9_142dpi_RA_181_G_B9_P124.mzXML  | 611                                        | combo                                      | 142dpi                                     | RA                                         | B9                                         | P124                                       | 0.02539119                                 | 0.02750000                                 | 0.000623198                                | 0.000683356                                | 0.000485430                                |\n",
       "| 22 | X612_Group9_142dpi_RA_182_G_B10_P124.mzXML | 612                                        | combo                                      | 142dpi                                     | RA                                         | B10                                        | P124                                       | 0.03425922                                 | 0.03677236                                 | 0.000867025                                | 0.009992561                                | 0.003903250                                |\n",
       "| 23 | X613_Group9_142dpi_RA_183_G_B11_P124.mzXML | 613                                        | combo                                      | 142dpi                                     | RA                                         | B11                                        | P124                                       | 0.05466666                                 | 0.05527131                                 | 0.000332905                                | 0.009665168                                | 0.007541397                                |\n",
       "| 24 | X614_Group9_142dpi_RA_184_G_B12_P124.mzXML | 614                                        | combo                                      | 142dpi                                     | RA                                         | B12                                        | P124                                       | 0.05583318                                 | 0.04310704                                 | 0.000125300                                | 0.001003940                                | 0.000719755                                |\n",
       "| 25 | X615_Group9_142dpi_RA_185_G_C1_P124.mzXML  | 615                                        | combo                                      | 142dpi                                     | RA                                         | C1                                         | P124                                       | 0.02753791                                 | 0.02575079                                 | 0.000347477                                | 0.000953228                                | 0.000561463                                |\n",
       "| 26 | X631_Group15_142dpi_RA_191_G_C7_P124.mzXML | 631                                        | BNZ                                        | 142dpi                                     | RA                                         | C7                                         | P124                                       | 0.03356458                                 | 0.03920000                                 | 0.000785318                                | 0.013500000                                | 0.001570132                                |\n",
       "\n"
      ],
      "text/plain": [
       "   filename                                   MouseID Treatmentgroup DPI   \n",
       "21 X611_Group9_142dpi_RA_181_G_B9_P124.mzXML  611     combo          142dpi\n",
       "22 X612_Group9_142dpi_RA_182_G_B10_P124.mzXML 612     combo          142dpi\n",
       "23 X613_Group9_142dpi_RA_183_G_B11_P124.mzXML 613     combo          142dpi\n",
       "24 X614_Group9_142dpi_RA_184_G_B12_P124.mzXML 614     combo          142dpi\n",
       "25 X615_Group9_142dpi_RA_185_G_C1_P124.mzXML  615     combo          142dpi\n",
       "26 X631_Group15_142dpi_RA_191_G_C7_P124.mzXML 631     BNZ            142dpi\n",
       "   organ well_position plate mass_400   mass_500   mass_600    mass_700   \n",
       "21 RA    B9            P124  0.02539119 0.02750000 0.000623198 0.000683356\n",
       "22 RA    B10           P124  0.03425922 0.03677236 0.000867025 0.009992561\n",
       "23 RA    B11           P124  0.05466666 0.05527131 0.000332905 0.009665168\n",
       "24 RA    B12           P124  0.05583318 0.04310704 0.000125300 0.001003940\n",
       "25 RA    C1            P124  0.02753791 0.02575079 0.000347477 0.000953228\n",
       "26 RA    C7            P124  0.03356458 0.03920000 0.000785318 0.013500000\n",
       "   mass_800   \n",
       "21 0.000485430\n",
       "22 0.003903250\n",
       "23 0.007541397\n",
       "24 0.000719755\n",
       "25 0.000561463\n",
       "26 0.001570132"
      ]
     },
     "metadata": {},
     "output_type": "display_data"
    },
    {
     "data": {
      "text/html": [
       "<ol class=list-inline>\n",
       "\t<li>30</li>\n",
       "\t<li>12</li>\n",
       "</ol>\n"
      ],
      "text/latex": [
       "\\begin{enumerate*}\n",
       "\\item 30\n",
       "\\item 12\n",
       "\\end{enumerate*}\n"
      ],
      "text/markdown": [
       "1. 30\n",
       "2. 12\n",
       "\n",
       "\n"
      ],
      "text/plain": [
       "[1] 30 12"
      ]
     },
     "metadata": {},
     "output_type": "display_data"
    }
   ],
   "source": [
    "features_pos<-droplevels(subset(a, a$Treatmentgroup==c(\"combo\")|a$Treatmentgroup==c(\"BNZ\")))\n",
    "head(features_pos)\n",
    "dim(features_pos)"
   ]
  },
  {
   "cell_type": "code",
   "execution_count": 7,
   "metadata": {
    "scrolled": false
   },
   "outputs": [
    {
     "data": {
      "text/html": [
       "<table>\n",
       "<thead><tr><th></th><th scope=col>mass_400</th><th scope=col>mass_500</th><th scope=col>mass_600</th><th scope=col>mass_700</th><th scope=col>mass_800</th></tr></thead>\n",
       "<tbody>\n",
       "\t<tr><th scope=row>21</th><td>0.02539119 </td><td>0.02750000 </td><td>0.000623198</td><td>0.000683356</td><td>0.000485430</td></tr>\n",
       "\t<tr><th scope=row>22</th><td>0.03425922 </td><td>0.03677236 </td><td>0.000867025</td><td>0.009992561</td><td>0.003903250</td></tr>\n",
       "\t<tr><th scope=row>23</th><td>0.05466666 </td><td>0.05527131 </td><td>0.000332905</td><td>0.009665168</td><td>0.007541397</td></tr>\n",
       "\t<tr><th scope=row>24</th><td>0.05583318 </td><td>0.04310704 </td><td>0.000125300</td><td>0.001003940</td><td>0.000719755</td></tr>\n",
       "\t<tr><th scope=row>25</th><td>0.02753791 </td><td>0.02575079 </td><td>0.000347477</td><td>0.000953228</td><td>0.000561463</td></tr>\n",
       "\t<tr><th scope=row>26</th><td>0.03356458 </td><td>0.03920000 </td><td>0.000785318</td><td>0.013500000</td><td>0.001570132</td></tr>\n",
       "</tbody>\n",
       "</table>\n"
      ],
      "text/latex": [
       "\\begin{tabular}{r|lllll}\n",
       "  & mass\\_400 & mass\\_500 & mass\\_600 & mass\\_700 & mass\\_800\\\\\n",
       "\\hline\n",
       "\t21 & 0.02539119  & 0.02750000  & 0.000623198 & 0.000683356 & 0.000485430\\\\\n",
       "\t22 & 0.03425922  & 0.03677236  & 0.000867025 & 0.009992561 & 0.003903250\\\\\n",
       "\t23 & 0.05466666  & 0.05527131  & 0.000332905 & 0.009665168 & 0.007541397\\\\\n",
       "\t24 & 0.05583318  & 0.04310704  & 0.000125300 & 0.001003940 & 0.000719755\\\\\n",
       "\t25 & 0.02753791  & 0.02575079  & 0.000347477 & 0.000953228 & 0.000561463\\\\\n",
       "\t26 & 0.03356458  & 0.03920000  & 0.000785318 & 0.013500000 & 0.001570132\\\\\n",
       "\\end{tabular}\n"
      ],
      "text/markdown": [
       "\n",
       "| <!--/--> | mass_400 | mass_500 | mass_600 | mass_700 | mass_800 |\n",
       "|---|---|---|---|---|---|\n",
       "| 21 | 0.02539119  | 0.02750000  | 0.000623198 | 0.000683356 | 0.000485430 |\n",
       "| 22 | 0.03425922  | 0.03677236  | 0.000867025 | 0.009992561 | 0.003903250 |\n",
       "| 23 | 0.05466666  | 0.05527131  | 0.000332905 | 0.009665168 | 0.007541397 |\n",
       "| 24 | 0.05583318  | 0.04310704  | 0.000125300 | 0.001003940 | 0.000719755 |\n",
       "| 25 | 0.02753791  | 0.02575079  | 0.000347477 | 0.000953228 | 0.000561463 |\n",
       "| 26 | 0.03356458  | 0.03920000  | 0.000785318 | 0.013500000 | 0.001570132 |\n",
       "\n"
      ],
      "text/plain": [
       "   mass_400   mass_500   mass_600    mass_700    mass_800   \n",
       "21 0.02539119 0.02750000 0.000623198 0.000683356 0.000485430\n",
       "22 0.03425922 0.03677236 0.000867025 0.009992561 0.003903250\n",
       "23 0.05466666 0.05527131 0.000332905 0.009665168 0.007541397\n",
       "24 0.05583318 0.04310704 0.000125300 0.001003940 0.000719755\n",
       "25 0.02753791 0.02575079 0.000347477 0.000953228 0.000561463\n",
       "26 0.03356458 0.03920000 0.000785318 0.013500000 0.001570132"
      ]
     },
     "metadata": {},
     "output_type": "display_data"
    },
    {
     "data": {
      "text/html": [
       "<dl class=dl-horizontal>\n",
       "\t<dt>mass_400</dt>\n",
       "\t\t<dd>1</dd>\n",
       "\t<dt>mass_500</dt>\n",
       "\t\t<dd>2</dd>\n",
       "\t<dt>mass_600</dt>\n",
       "\t\t<dd>3</dd>\n",
       "\t<dt>mass_700</dt>\n",
       "\t\t<dd>4</dd>\n",
       "\t<dt>mass_800</dt>\n",
       "\t\t<dd>5</dd>\n",
       "</dl>\n"
      ],
      "text/latex": [
       "\\begin{description*}\n",
       "\\item[mass\\textbackslash{}\\_400] 1\n",
       "\\item[mass\\textbackslash{}\\_500] 2\n",
       "\\item[mass\\textbackslash{}\\_600] 3\n",
       "\\item[mass\\textbackslash{}\\_700] 4\n",
       "\\item[mass\\textbackslash{}\\_800] 5\n",
       "\\end{description*}\n"
      ],
      "text/markdown": [
       "mass_400\n",
       ":   1mass_500\n",
       ":   2mass_600\n",
       ":   3mass_700\n",
       ":   4mass_800\n",
       ":   5\n",
       "\n"
      ],
      "text/plain": [
       "mass_400 mass_500 mass_600 mass_700 mass_800 \n",
       "       1        2        3        4        5 "
      ]
     },
     "metadata": {},
     "output_type": "display_data"
    },
    {
     "data": {
      "text/html": [
       "<table>\n",
       "<thead><tr><th></th><th scope=col>mass_400</th><th scope=col>mass_500</th><th scope=col>mass_600</th><th scope=col>mass_700</th><th scope=col>mass_800</th></tr></thead>\n",
       "<tbody>\n",
       "\t<tr><th scope=row>21</th><td>0.02539119 </td><td>0.02750000 </td><td>0.000623198</td><td>0.000683356</td><td>0.000485430</td></tr>\n",
       "\t<tr><th scope=row>22</th><td>0.03425922 </td><td>0.03677236 </td><td>0.000867025</td><td>0.009992561</td><td>0.003903250</td></tr>\n",
       "\t<tr><th scope=row>23</th><td>0.05466666 </td><td>0.05527131 </td><td>0.000332905</td><td>0.009665168</td><td>0.007541397</td></tr>\n",
       "\t<tr><th scope=row>24</th><td>0.05583318 </td><td>0.04310704 </td><td>0.000125300</td><td>0.001003940</td><td>0.000719755</td></tr>\n",
       "\t<tr><th scope=row>25</th><td>0.02753791 </td><td>0.02575079 </td><td>0.000347477</td><td>0.000953228</td><td>0.000561463</td></tr>\n",
       "\t<tr><th scope=row>26</th><td>0.03356458 </td><td>0.03920000 </td><td>0.000785318</td><td>0.013500000</td><td>0.001570132</td></tr>\n",
       "\t<tr><th scope=row>27</th><td>0.03413707 </td><td>0.03160000 </td><td>0.000947276</td><td>0.006800000</td><td>0.003040254</td></tr>\n",
       "\t<tr><th scope=row>28</th><td>0.04366574 </td><td>0.06505073 </td><td>0.001529953</td><td>0.021932445</td><td>0.013205718</td></tr>\n",
       "\t<tr><th scope=row>29</th><td>0.04570138 </td><td>0.05828960 </td><td>0.001008407</td><td>0.012382975</td><td>0.014013995</td></tr>\n",
       "\t<tr><th scope=row>30</th><td>0.03140283 </td><td>0.03250000 </td><td>0.000934736</td><td>0.008034025</td><td>0.005570937</td></tr>\n",
       "\t<tr><th scope=row>36</th><td>0.01829905 </td><td>0.02418814 </td><td>0.000427581</td><td>0.017586763</td><td>0.019199172</td></tr>\n",
       "\t<tr><th scope=row>37</th><td>0.03222459 </td><td>0.03062143 </td><td>0.000793577</td><td>0.020384170</td><td>0.012532026</td></tr>\n",
       "\t<tr><th scope=row>38</th><td>0.03658636 </td><td>0.04495604 </td><td>0.000617233</td><td>0.036789057</td><td>0.030950827</td></tr>\n",
       "\t<tr><th scope=row>39</th><td>0.05771467 </td><td>0.05079376 </td><td>0.000608656</td><td>0.009554335</td><td>0.005882736</td></tr>\n",
       "\t<tr><th scope=row>40</th><td>0.06192473 </td><td>0.06110000 </td><td>0.000702161</td><td>0.032454416</td><td>0.010214811</td></tr>\n",
       "\t<tr><th scope=row>41</th><td>0.04125105 </td><td>0.04670923 </td><td>0.001007273</td><td>0.018825742</td><td>0.006132921</td></tr>\n",
       "\t<tr><th scope=row>42</th><td>0.03284682 </td><td>0.04618436 </td><td>0.001012795</td><td>0.004660000</td><td>0.002972458</td></tr>\n",
       "\t<tr><th scope=row>43</th><td>0.02873381 </td><td>0.02989445 </td><td>0.000828000</td><td>0.009280030</td><td>0.007344513</td></tr>\n",
       "\t<tr><th scope=row>44</th><td>0.04214344 </td><td>0.06117212 </td><td>0.000939877</td><td>0.037357285</td><td>0.003534113</td></tr>\n",
       "\t<tr><th scope=row>45</th><td>0.07101754 </td><td>0.06982925 </td><td>0.000758873</td><td>0.013067192</td><td>0.004763751</td></tr>\n",
       "\t<tr><th scope=row>51</th><td>0.03665550 </td><td>0.05019120 </td><td>0.001254484</td><td>0.005169859</td><td>0.009431976</td></tr>\n",
       "\t<tr><th scope=row>52</th><td>0.03880516 </td><td>0.03320878 </td><td>0.000081800</td><td>0.000943904</td><td>0.001498091</td></tr>\n",
       "\t<tr><th scope=row>53</th><td>0.03376056 </td><td>0.03122653 </td><td>0.000345000</td><td>0.001078899</td><td>0.000000000</td></tr>\n",
       "\t<tr><th scope=row>54</th><td>0.07221571 </td><td>0.07494305 </td><td>0.000661313</td><td>0.005794983</td><td>0.001219087</td></tr>\n",
       "\t<tr><th scope=row>55</th><td>0.05182505 </td><td>0.04172030 </td><td>0.000545491</td><td>0.007045118</td><td>0.004007747</td></tr>\n",
       "\t<tr><th scope=row>56</th><td>0.03248441 </td><td>0.03900000 </td><td>0.000894367</td><td>0.003626424</td><td>0.003835575</td></tr>\n",
       "\t<tr><th scope=row>57</th><td>0.01795440 </td><td>0.02340000 </td><td>0.000709538</td><td>0.003209255</td><td>0.001531619</td></tr>\n",
       "\t<tr><th scope=row>58</th><td>0.05113216 </td><td>0.04025805 </td><td>0.000157385</td><td>0.004446196</td><td>0.000087900</td></tr>\n",
       "\t<tr><th scope=row>59</th><td>0.04091378 </td><td>0.03216801 </td><td>0.000617413</td><td>0.002379165</td><td>0.000202050</td></tr>\n",
       "\t<tr><th scope=row>60</th><td>0.02436086 </td><td>0.03014325 </td><td>0.000399431</td><td>0.009090365</td><td>0.003764574</td></tr>\n",
       "</tbody>\n",
       "</table>\n"
      ],
      "text/latex": [
       "\\begin{tabular}{r|lllll}\n",
       "  & mass\\_400 & mass\\_500 & mass\\_600 & mass\\_700 & mass\\_800\\\\\n",
       "\\hline\n",
       "\t21 & 0.02539119  & 0.02750000  & 0.000623198 & 0.000683356 & 0.000485430\\\\\n",
       "\t22 & 0.03425922  & 0.03677236  & 0.000867025 & 0.009992561 & 0.003903250\\\\\n",
       "\t23 & 0.05466666  & 0.05527131  & 0.000332905 & 0.009665168 & 0.007541397\\\\\n",
       "\t24 & 0.05583318  & 0.04310704  & 0.000125300 & 0.001003940 & 0.000719755\\\\\n",
       "\t25 & 0.02753791  & 0.02575079  & 0.000347477 & 0.000953228 & 0.000561463\\\\\n",
       "\t26 & 0.03356458  & 0.03920000  & 0.000785318 & 0.013500000 & 0.001570132\\\\\n",
       "\t27 & 0.03413707  & 0.03160000  & 0.000947276 & 0.006800000 & 0.003040254\\\\\n",
       "\t28 & 0.04366574  & 0.06505073  & 0.001529953 & 0.021932445 & 0.013205718\\\\\n",
       "\t29 & 0.04570138  & 0.05828960  & 0.001008407 & 0.012382975 & 0.014013995\\\\\n",
       "\t30 & 0.03140283  & 0.03250000  & 0.000934736 & 0.008034025 & 0.005570937\\\\\n",
       "\t36 & 0.01829905  & 0.02418814  & 0.000427581 & 0.017586763 & 0.019199172\\\\\n",
       "\t37 & 0.03222459  & 0.03062143  & 0.000793577 & 0.020384170 & 0.012532026\\\\\n",
       "\t38 & 0.03658636  & 0.04495604  & 0.000617233 & 0.036789057 & 0.030950827\\\\\n",
       "\t39 & 0.05771467  & 0.05079376  & 0.000608656 & 0.009554335 & 0.005882736\\\\\n",
       "\t40 & 0.06192473  & 0.06110000  & 0.000702161 & 0.032454416 & 0.010214811\\\\\n",
       "\t41 & 0.04125105  & 0.04670923  & 0.001007273 & 0.018825742 & 0.006132921\\\\\n",
       "\t42 & 0.03284682  & 0.04618436  & 0.001012795 & 0.004660000 & 0.002972458\\\\\n",
       "\t43 & 0.02873381  & 0.02989445  & 0.000828000 & 0.009280030 & 0.007344513\\\\\n",
       "\t44 & 0.04214344  & 0.06117212  & 0.000939877 & 0.037357285 & 0.003534113\\\\\n",
       "\t45 & 0.07101754  & 0.06982925  & 0.000758873 & 0.013067192 & 0.004763751\\\\\n",
       "\t51 & 0.03665550  & 0.05019120  & 0.001254484 & 0.005169859 & 0.009431976\\\\\n",
       "\t52 & 0.03880516  & 0.03320878  & 0.000081800 & 0.000943904 & 0.001498091\\\\\n",
       "\t53 & 0.03376056  & 0.03122653  & 0.000345000 & 0.001078899 & 0.000000000\\\\\n",
       "\t54 & 0.07221571  & 0.07494305  & 0.000661313 & 0.005794983 & 0.001219087\\\\\n",
       "\t55 & 0.05182505  & 0.04172030  & 0.000545491 & 0.007045118 & 0.004007747\\\\\n",
       "\t56 & 0.03248441  & 0.03900000  & 0.000894367 & 0.003626424 & 0.003835575\\\\\n",
       "\t57 & 0.01795440  & 0.02340000  & 0.000709538 & 0.003209255 & 0.001531619\\\\\n",
       "\t58 & 0.05113216  & 0.04025805  & 0.000157385 & 0.004446196 & 0.000087900\\\\\n",
       "\t59 & 0.04091378  & 0.03216801  & 0.000617413 & 0.002379165 & 0.000202050\\\\\n",
       "\t60 & 0.02436086  & 0.03014325  & 0.000399431 & 0.009090365 & 0.003764574\\\\\n",
       "\\end{tabular}\n"
      ],
      "text/markdown": [
       "\n",
       "| <!--/--> | mass_400 | mass_500 | mass_600 | mass_700 | mass_800 |\n",
       "|---|---|---|---|---|---|\n",
       "| 21 | 0.02539119  | 0.02750000  | 0.000623198 | 0.000683356 | 0.000485430 |\n",
       "| 22 | 0.03425922  | 0.03677236  | 0.000867025 | 0.009992561 | 0.003903250 |\n",
       "| 23 | 0.05466666  | 0.05527131  | 0.000332905 | 0.009665168 | 0.007541397 |\n",
       "| 24 | 0.05583318  | 0.04310704  | 0.000125300 | 0.001003940 | 0.000719755 |\n",
       "| 25 | 0.02753791  | 0.02575079  | 0.000347477 | 0.000953228 | 0.000561463 |\n",
       "| 26 | 0.03356458  | 0.03920000  | 0.000785318 | 0.013500000 | 0.001570132 |\n",
       "| 27 | 0.03413707  | 0.03160000  | 0.000947276 | 0.006800000 | 0.003040254 |\n",
       "| 28 | 0.04366574  | 0.06505073  | 0.001529953 | 0.021932445 | 0.013205718 |\n",
       "| 29 | 0.04570138  | 0.05828960  | 0.001008407 | 0.012382975 | 0.014013995 |\n",
       "| 30 | 0.03140283  | 0.03250000  | 0.000934736 | 0.008034025 | 0.005570937 |\n",
       "| 36 | 0.01829905  | 0.02418814  | 0.000427581 | 0.017586763 | 0.019199172 |\n",
       "| 37 | 0.03222459  | 0.03062143  | 0.000793577 | 0.020384170 | 0.012532026 |\n",
       "| 38 | 0.03658636  | 0.04495604  | 0.000617233 | 0.036789057 | 0.030950827 |\n",
       "| 39 | 0.05771467  | 0.05079376  | 0.000608656 | 0.009554335 | 0.005882736 |\n",
       "| 40 | 0.06192473  | 0.06110000  | 0.000702161 | 0.032454416 | 0.010214811 |\n",
       "| 41 | 0.04125105  | 0.04670923  | 0.001007273 | 0.018825742 | 0.006132921 |\n",
       "| 42 | 0.03284682  | 0.04618436  | 0.001012795 | 0.004660000 | 0.002972458 |\n",
       "| 43 | 0.02873381  | 0.02989445  | 0.000828000 | 0.009280030 | 0.007344513 |\n",
       "| 44 | 0.04214344  | 0.06117212  | 0.000939877 | 0.037357285 | 0.003534113 |\n",
       "| 45 | 0.07101754  | 0.06982925  | 0.000758873 | 0.013067192 | 0.004763751 |\n",
       "| 51 | 0.03665550  | 0.05019120  | 0.001254484 | 0.005169859 | 0.009431976 |\n",
       "| 52 | 0.03880516  | 0.03320878  | 0.000081800 | 0.000943904 | 0.001498091 |\n",
       "| 53 | 0.03376056  | 0.03122653  | 0.000345000 | 0.001078899 | 0.000000000 |\n",
       "| 54 | 0.07221571  | 0.07494305  | 0.000661313 | 0.005794983 | 0.001219087 |\n",
       "| 55 | 0.05182505  | 0.04172030  | 0.000545491 | 0.007045118 | 0.004007747 |\n",
       "| 56 | 0.03248441  | 0.03900000  | 0.000894367 | 0.003626424 | 0.003835575 |\n",
       "| 57 | 0.01795440  | 0.02340000  | 0.000709538 | 0.003209255 | 0.001531619 |\n",
       "| 58 | 0.05113216  | 0.04025805  | 0.000157385 | 0.004446196 | 0.000087900 |\n",
       "| 59 | 0.04091378  | 0.03216801  | 0.000617413 | 0.002379165 | 0.000202050 |\n",
       "| 60 | 0.02436086  | 0.03014325  | 0.000399431 | 0.009090365 | 0.003764574 |\n",
       "\n"
      ],
      "text/plain": [
       "   mass_400   mass_500   mass_600    mass_700    mass_800   \n",
       "21 0.02539119 0.02750000 0.000623198 0.000683356 0.000485430\n",
       "22 0.03425922 0.03677236 0.000867025 0.009992561 0.003903250\n",
       "23 0.05466666 0.05527131 0.000332905 0.009665168 0.007541397\n",
       "24 0.05583318 0.04310704 0.000125300 0.001003940 0.000719755\n",
       "25 0.02753791 0.02575079 0.000347477 0.000953228 0.000561463\n",
       "26 0.03356458 0.03920000 0.000785318 0.013500000 0.001570132\n",
       "27 0.03413707 0.03160000 0.000947276 0.006800000 0.003040254\n",
       "28 0.04366574 0.06505073 0.001529953 0.021932445 0.013205718\n",
       "29 0.04570138 0.05828960 0.001008407 0.012382975 0.014013995\n",
       "30 0.03140283 0.03250000 0.000934736 0.008034025 0.005570937\n",
       "36 0.01829905 0.02418814 0.000427581 0.017586763 0.019199172\n",
       "37 0.03222459 0.03062143 0.000793577 0.020384170 0.012532026\n",
       "38 0.03658636 0.04495604 0.000617233 0.036789057 0.030950827\n",
       "39 0.05771467 0.05079376 0.000608656 0.009554335 0.005882736\n",
       "40 0.06192473 0.06110000 0.000702161 0.032454416 0.010214811\n",
       "41 0.04125105 0.04670923 0.001007273 0.018825742 0.006132921\n",
       "42 0.03284682 0.04618436 0.001012795 0.004660000 0.002972458\n",
       "43 0.02873381 0.02989445 0.000828000 0.009280030 0.007344513\n",
       "44 0.04214344 0.06117212 0.000939877 0.037357285 0.003534113\n",
       "45 0.07101754 0.06982925 0.000758873 0.013067192 0.004763751\n",
       "51 0.03665550 0.05019120 0.001254484 0.005169859 0.009431976\n",
       "52 0.03880516 0.03320878 0.000081800 0.000943904 0.001498091\n",
       "53 0.03376056 0.03122653 0.000345000 0.001078899 0.000000000\n",
       "54 0.07221571 0.07494305 0.000661313 0.005794983 0.001219087\n",
       "55 0.05182505 0.04172030 0.000545491 0.007045118 0.004007747\n",
       "56 0.03248441 0.03900000 0.000894367 0.003626424 0.003835575\n",
       "57 0.01795440 0.02340000 0.000709538 0.003209255 0.001531619\n",
       "58 0.05113216 0.04025805 0.000157385 0.004446196 0.000087900\n",
       "59 0.04091378 0.03216801 0.000617413 0.002379165 0.000202050\n",
       "60 0.02436086 0.03014325 0.000399431 0.009090365 0.003764574"
      ]
     },
     "metadata": {},
     "output_type": "display_data"
    },
    {
     "data": {
      "text/html": [
       "<table>\n",
       "<thead><tr><th></th><th scope=col>filename</th><th scope=col>MouseID</th><th scope=col>Treatmentgroup</th><th scope=col>DPI</th><th scope=col>organ</th><th scope=col>well_position</th><th scope=col>plate</th><th scope=col>mass_400</th><th scope=col>mass_500</th><th scope=col>mass_600</th><th scope=col>mass_700</th><th scope=col>mass_800</th></tr></thead>\n",
       "<tbody>\n",
       "\t<tr><th scope=row>21</th><td>X611_Group9_142dpi_RA_181_G_B9_P124.mzXML </td><td>611                                       </td><td>combo                                     </td><td>142dpi                                    </td><td>RA                                        </td><td>B9                                        </td><td>P124                                      </td><td>0.02539119                                </td><td>0.02750000                                </td><td>0.000623198                               </td><td>0.000683356                               </td><td>0.000485430                               </td></tr>\n",
       "\t<tr><th scope=row>22</th><td>X612_Group9_142dpi_RA_182_G_B10_P124.mzXML</td><td>612                                       </td><td>combo                                     </td><td>142dpi                                    </td><td>RA                                        </td><td>B10                                       </td><td>P124                                      </td><td>0.03425922                                </td><td>0.03677236                                </td><td>0.000867025                               </td><td>0.009992561                               </td><td>0.003903250                               </td></tr>\n",
       "\t<tr><th scope=row>23</th><td>X613_Group9_142dpi_RA_183_G_B11_P124.mzXML</td><td>613                                       </td><td>combo                                     </td><td>142dpi                                    </td><td>RA                                        </td><td>B11                                       </td><td>P124                                      </td><td>0.05466666                                </td><td>0.05527131                                </td><td>0.000332905                               </td><td>0.009665168                               </td><td>0.007541397                               </td></tr>\n",
       "\t<tr><th scope=row>24</th><td>X614_Group9_142dpi_RA_184_G_B12_P124.mzXML</td><td>614                                       </td><td>combo                                     </td><td>142dpi                                    </td><td>RA                                        </td><td>B12                                       </td><td>P124                                      </td><td>0.05583318                                </td><td>0.04310704                                </td><td>0.000125300                               </td><td>0.001003940                               </td><td>0.000719755                               </td></tr>\n",
       "\t<tr><th scope=row>25</th><td>X615_Group9_142dpi_RA_185_G_C1_P124.mzXML </td><td>615                                       </td><td>combo                                     </td><td>142dpi                                    </td><td>RA                                        </td><td>C1                                        </td><td>P124                                      </td><td>0.02753791                                </td><td>0.02575079                                </td><td>0.000347477                               </td><td>0.000953228                               </td><td>0.000561463                               </td></tr>\n",
       "\t<tr><th scope=row>26</th><td>X631_Group15_142dpi_RA_191_G_C7_P124.mzXML</td><td>631                                       </td><td>BNZ                                       </td><td>142dpi                                    </td><td>RA                                        </td><td>C7                                        </td><td>P124                                      </td><td>0.03356458                                </td><td>0.03920000                                </td><td>0.000785318                               </td><td>0.013500000                               </td><td>0.001570132                               </td></tr>\n",
       "</tbody>\n",
       "</table>\n"
      ],
      "text/latex": [
       "\\begin{tabular}{r|llllllllllll}\n",
       "  & filename & MouseID & Treatmentgroup & DPI & organ & well\\_position & plate & mass\\_400 & mass\\_500 & mass\\_600 & mass\\_700 & mass\\_800\\\\\n",
       "\\hline\n",
       "\t21 & X611\\_Group9\\_142dpi\\_RA\\_181\\_G\\_B9\\_P124.mzXML  & 611                                                      & combo                                                    & 142dpi                                                   & RA                                                       & B9                                                       & P124                                                     & 0.02539119                                               & 0.02750000                                               & 0.000623198                                              & 0.000683356                                              & 0.000485430                                             \\\\\n",
       "\t22 & X612\\_Group9\\_142dpi\\_RA\\_182\\_G\\_B10\\_P124.mzXML & 612                                                      & combo                                                    & 142dpi                                                   & RA                                                       & B10                                                      & P124                                                     & 0.03425922                                               & 0.03677236                                               & 0.000867025                                              & 0.009992561                                              & 0.003903250                                             \\\\\n",
       "\t23 & X613\\_Group9\\_142dpi\\_RA\\_183\\_G\\_B11\\_P124.mzXML & 613                                                      & combo                                                    & 142dpi                                                   & RA                                                       & B11                                                      & P124                                                     & 0.05466666                                               & 0.05527131                                               & 0.000332905                                              & 0.009665168                                              & 0.007541397                                             \\\\\n",
       "\t24 & X614\\_Group9\\_142dpi\\_RA\\_184\\_G\\_B12\\_P124.mzXML & 614                                                      & combo                                                    & 142dpi                                                   & RA                                                       & B12                                                      & P124                                                     & 0.05583318                                               & 0.04310704                                               & 0.000125300                                              & 0.001003940                                              & 0.000719755                                             \\\\\n",
       "\t25 & X615\\_Group9\\_142dpi\\_RA\\_185\\_G\\_C1\\_P124.mzXML  & 615                                                      & combo                                                    & 142dpi                                                   & RA                                                       & C1                                                       & P124                                                     & 0.02753791                                               & 0.02575079                                               & 0.000347477                                              & 0.000953228                                              & 0.000561463                                             \\\\\n",
       "\t26 & X631\\_Group15\\_142dpi\\_RA\\_191\\_G\\_C7\\_P124.mzXML & 631                                                      & BNZ                                                      & 142dpi                                                   & RA                                                       & C7                                                       & P124                                                     & 0.03356458                                               & 0.03920000                                               & 0.000785318                                              & 0.013500000                                              & 0.001570132                                             \\\\\n",
       "\\end{tabular}\n"
      ],
      "text/markdown": [
       "\n",
       "| <!--/--> | filename | MouseID | Treatmentgroup | DPI | organ | well_position | plate | mass_400 | mass_500 | mass_600 | mass_700 | mass_800 |\n",
       "|---|---|---|---|---|---|---|---|---|---|---|---|---|\n",
       "| 21 | X611_Group9_142dpi_RA_181_G_B9_P124.mzXML  | 611                                        | combo                                      | 142dpi                                     | RA                                         | B9                                         | P124                                       | 0.02539119                                 | 0.02750000                                 | 0.000623198                                | 0.000683356                                | 0.000485430                                |\n",
       "| 22 | X612_Group9_142dpi_RA_182_G_B10_P124.mzXML | 612                                        | combo                                      | 142dpi                                     | RA                                         | B10                                        | P124                                       | 0.03425922                                 | 0.03677236                                 | 0.000867025                                | 0.009992561                                | 0.003903250                                |\n",
       "| 23 | X613_Group9_142dpi_RA_183_G_B11_P124.mzXML | 613                                        | combo                                      | 142dpi                                     | RA                                         | B11                                        | P124                                       | 0.05466666                                 | 0.05527131                                 | 0.000332905                                | 0.009665168                                | 0.007541397                                |\n",
       "| 24 | X614_Group9_142dpi_RA_184_G_B12_P124.mzXML | 614                                        | combo                                      | 142dpi                                     | RA                                         | B12                                        | P124                                       | 0.05583318                                 | 0.04310704                                 | 0.000125300                                | 0.001003940                                | 0.000719755                                |\n",
       "| 25 | X615_Group9_142dpi_RA_185_G_C1_P124.mzXML  | 615                                        | combo                                      | 142dpi                                     | RA                                         | C1                                         | P124                                       | 0.02753791                                 | 0.02575079                                 | 0.000347477                                | 0.000953228                                | 0.000561463                                |\n",
       "| 26 | X631_Group15_142dpi_RA_191_G_C7_P124.mzXML | 631                                        | BNZ                                        | 142dpi                                     | RA                                         | C7                                         | P124                                       | 0.03356458                                 | 0.03920000                                 | 0.000785318                                | 0.013500000                                | 0.001570132                                |\n",
       "\n"
      ],
      "text/plain": [
       "   filename                                   MouseID Treatmentgroup DPI   \n",
       "21 X611_Group9_142dpi_RA_181_G_B9_P124.mzXML  611     combo          142dpi\n",
       "22 X612_Group9_142dpi_RA_182_G_B10_P124.mzXML 612     combo          142dpi\n",
       "23 X613_Group9_142dpi_RA_183_G_B11_P124.mzXML 613     combo          142dpi\n",
       "24 X614_Group9_142dpi_RA_184_G_B12_P124.mzXML 614     combo          142dpi\n",
       "25 X615_Group9_142dpi_RA_185_G_C1_P124.mzXML  615     combo          142dpi\n",
       "26 X631_Group15_142dpi_RA_191_G_C7_P124.mzXML 631     BNZ            142dpi\n",
       "   organ well_position plate mass_400   mass_500   mass_600    mass_700   \n",
       "21 RA    B9            P124  0.02539119 0.02750000 0.000623198 0.000683356\n",
       "22 RA    B10           P124  0.03425922 0.03677236 0.000867025 0.009992561\n",
       "23 RA    B11           P124  0.05466666 0.05527131 0.000332905 0.009665168\n",
       "24 RA    B12           P124  0.05583318 0.04310704 0.000125300 0.001003940\n",
       "25 RA    C1            P124  0.02753791 0.02575079 0.000347477 0.000953228\n",
       "26 RA    C7            P124  0.03356458 0.03920000 0.000785318 0.013500000\n",
       "   mass_800   \n",
       "21 0.000485430\n",
       "22 0.003903250\n",
       "23 0.007541397\n",
       "24 0.000719755\n",
       "25 0.000561463\n",
       "26 0.001570132"
      ]
     },
     "metadata": {},
     "output_type": "display_data"
    },
    {
     "data": {
      "text/html": [
       "<ol class=list-inline>\n",
       "\t<li>30</li>\n",
       "\t<li>12</li>\n",
       "</ol>\n"
      ],
      "text/latex": [
       "\\begin{enumerate*}\n",
       "\\item 30\n",
       "\\item 12\n",
       "\\end{enumerate*}\n"
      ],
      "text/markdown": [
       "1. 30\n",
       "2. 12\n",
       "\n",
       "\n"
      ],
      "text/plain": [
       "[1] 30 12"
      ]
     },
     "metadata": {},
     "output_type": "display_data"
    },
    {
     "data": {
      "text/html": [
       "<ol class=list-inline>\n",
       "\t<li>30</li>\n",
       "\t<li>5</li>\n",
       "</ol>\n"
      ],
      "text/latex": [
       "\\begin{enumerate*}\n",
       "\\item 30\n",
       "\\item 5\n",
       "\\end{enumerate*}\n"
      ],
      "text/markdown": [
       "1. 30\n",
       "2. 5\n",
       "\n",
       "\n"
      ],
      "text/plain": [
       "[1] 30  5"
      ]
     },
     "metadata": {},
     "output_type": "display_data"
    },
    {
     "data": {
      "text/html": [
       "<ol class=list-inline>\n",
       "\t<li>30</li>\n",
       "\t<li>5</li>\n",
       "</ol>\n"
      ],
      "text/latex": [
       "\\begin{enumerate*}\n",
       "\\item 30\n",
       "\\item 5\n",
       "\\end{enumerate*}\n"
      ],
      "text/markdown": [
       "1. 30\n",
       "2. 5\n",
       "\n",
       "\n"
      ],
      "text/plain": [
       "[1] 30  5"
      ]
     },
     "metadata": {},
     "output_type": "display_data"
    },
    {
     "data": {
      "text/html": [
       "<ol class=list-inline>\n",
       "\t<li>30</li>\n",
       "\t<li>12</li>\n",
       "</ol>\n"
      ],
      "text/latex": [
       "\\begin{enumerate*}\n",
       "\\item 30\n",
       "\\item 12\n",
       "\\end{enumerate*}\n"
      ],
      "text/markdown": [
       "1. 30\n",
       "2. 12\n",
       "\n",
       "\n"
      ],
      "text/plain": [
       "[1] 30 12"
      ]
     },
     "metadata": {},
     "output_type": "display_data"
    }
   ],
   "source": [
    "noMeta<-features_pos[,8:12]\n",
    "head(noMeta)\n",
    "not_zero<-which(colSums(noMeta) != 0)\n",
    "head(not_zero)\n",
    "nonzero <- noMeta[, not_zero]\n",
    "nonzero\n",
    "nonzero_wMeta<-cbind(features_pos[,1:7], nonzero)\n",
    "head(nonzero_wMeta)\n",
    "dim(features_pos)\n",
    "dim(noMeta)\n",
    "dim(nonzero)\n",
    "dim(nonzero_wMeta)"
   ]
  },
  {
   "cell_type": "code",
   "execution_count": 8,
   "metadata": {
    "scrolled": true
   },
   "outputs": [
    {
     "data": {
      "text/html": [
       "<ol class=list-inline>\n",
       "\t<li>0.412375778055245</li>\n",
       "\t<li>0.870194456435353</li>\n",
       "\t<li>0.00570350789517522</li>\n",
       "\t<li>0.512486352283095</li>\n",
       "\t<li>0.743702065375981</li>\n",
       "</ol>\n"
      ],
      "text/latex": [
       "\\begin{enumerate*}\n",
       "\\item 0.412375778055245\n",
       "\\item 0.870194456435353\n",
       "\\item 0.00570350789517522\n",
       "\\item 0.512486352283095\n",
       "\\item 0.743702065375981\n",
       "\\end{enumerate*}\n"
      ],
      "text/markdown": [
       "1. 0.412375778055245\n",
       "2. 0.870194456435353\n",
       "3. 0.00570350789517522\n",
       "4. 0.512486352283095\n",
       "5. 0.743702065375981\n",
       "\n",
       "\n"
      ],
      "text/plain": [
       "[1] 0.412375778 0.870194456 0.005703508 0.512486352 0.743702065"
      ]
     },
     "metadata": {},
     "output_type": "display_data"
    },
    {
     "data": {
      "text/html": [
       "<ol class=list-inline>\n",
       "\t<li>0.854143920471825</li>\n",
       "\t<li>0.870194456435353</li>\n",
       "\t<li>0.0285175394758761</li>\n",
       "\t<li>0.854143920471825</li>\n",
       "\t<li>0.870194456435353</li>\n",
       "</ol>\n"
      ],
      "text/latex": [
       "\\begin{enumerate*}\n",
       "\\item 0.854143920471825\n",
       "\\item 0.870194456435353\n",
       "\\item 0.0285175394758761\n",
       "\\item 0.854143920471825\n",
       "\\item 0.870194456435353\n",
       "\\end{enumerate*}\n"
      ],
      "text/markdown": [
       "1. 0.854143920471825\n",
       "2. 0.870194456435353\n",
       "3. 0.0285175394758761\n",
       "4. 0.854143920471825\n",
       "5. 0.870194456435353\n",
       "\n",
       "\n"
      ],
      "text/plain": [
       "[1] 0.85414392 0.87019446 0.02851754 0.85414392 0.87019446"
      ]
     },
     "metadata": {},
     "output_type": "display_data"
    }
   ],
   "source": [
    "pval<-c()\n",
    "\n",
    "for (i in 8:ncol(nonzero_wMeta)) \n",
    "pval<-c(pval,wilcox.test(nonzero_wMeta[,i]~nonzero_wMeta$Treatmentgroup)$p.value)\n",
    "head(pval)\n",
    "pAdj <- p.adjust(pval, method = c(\"fdr\"), n=length(pval)) \n",
    "head(pAdj) \n",
    "\n"
   ]
  },
  {
   "cell_type": "code",
   "execution_count": 9,
   "metadata": {
    "scrolled": true
   },
   "outputs": [
    {
     "data": {
      "text/html": [
       "5"
      ],
      "text/latex": [
       "5"
      ],
      "text/markdown": [
       "5"
      ],
      "text/plain": [
       "[1] 5"
      ]
     },
     "metadata": {},
     "output_type": "display_data"
    }
   ],
   "source": [
    "length(pval)"
   ]
  },
  {
   "cell_type": "code",
   "execution_count": 10,
   "metadata": {
    "scrolled": true
   },
   "outputs": [
    {
     "data": {
      "text/html": [
       "5"
      ],
      "text/latex": [
       "5"
      ],
      "text/markdown": [
       "5"
      ],
      "text/plain": [
       "[1] 5"
      ]
     },
     "metadata": {},
     "output_type": "display_data"
    }
   ],
   "source": [
    "length(pAdj)"
   ]
  },
  {
   "cell_type": "code",
   "execution_count": 11,
   "metadata": {},
   "outputs": [
    {
     "data": {
      "text/html": [
       "<ol class=list-inline>\n",
       "\t<li>2</li>\n",
       "\t<li>5</li>\n",
       "</ol>\n"
      ],
      "text/latex": [
       "\\begin{enumerate*}\n",
       "\\item 2\n",
       "\\item 5\n",
       "\\end{enumerate*}\n"
      ],
      "text/markdown": [
       "1. 2\n",
       "2. 5\n",
       "\n",
       "\n"
      ],
      "text/plain": [
       "[1] 2 5"
      ]
     },
     "metadata": {},
     "output_type": "display_data"
    },
    {
     "data": {
      "text/html": [
       "<table>\n",
       "<thead><tr><th></th><th scope=col>mass_400</th><th scope=col>mass_500</th><th scope=col>mass_600</th></tr></thead>\n",
       "<tbody>\n",
       "\t<tr><th scope=row>BNZ</th><td>0.03808732  </td><td>0.04302660  </td><td>0.0008353761</td></tr>\n",
       "\t<tr><th scope=row>combo</th><td>0.04251330  </td><td>0.04209005  </td><td>0.0005555467</td></tr>\n",
       "</tbody>\n",
       "</table>\n"
      ],
      "text/latex": [
       "\\begin{tabular}{r|lll}\n",
       "  & mass\\_400 & mass\\_500 & mass\\_600\\\\\n",
       "\\hline\n",
       "\tBNZ & 0.03808732   & 0.04302660   & 0.0008353761\\\\\n",
       "\tcombo & 0.04251330   & 0.04209005   & 0.0005555467\\\\\n",
       "\\end{tabular}\n"
      ],
      "text/markdown": [
       "\n",
       "| <!--/--> | mass_400 | mass_500 | mass_600 |\n",
       "|---|---|---|---|\n",
       "| BNZ | 0.03808732   | 0.04302660   | 0.0008353761 |\n",
       "| combo | 0.04251330   | 0.04209005   | 0.0005555467 |\n",
       "\n"
      ],
      "text/plain": [
       "      mass_400   mass_500   mass_600    \n",
       "BNZ   0.03808732 0.04302660 0.0008353761\n",
       "combo 0.04251330 0.04209005 0.0005555467"
      ]
     },
     "metadata": {},
     "output_type": "display_data"
    },
    {
     "data": {
      "text/html": [
       "<dl class=dl-horizontal>\n",
       "\t<dt>mass_400</dt>\n",
       "\t\t<dd>0.895891930710987</dd>\n",
       "\t<dt>mass_500</dt>\n",
       "\t\t<dd>1.02225119893103</dd>\n",
       "\t<dt>mass_600</dt>\n",
       "\t\t<dd>1.50370091877059</dd>\n",
       "\t<dt>mass_700</dt>\n",
       "\t\t<dd>1.05965654617562</dd>\n",
       "\t<dt>mass_800</dt>\n",
       "\t\t<dd>0.66178443923133</dd>\n",
       "</dl>\n"
      ],
      "text/latex": [
       "\\begin{description*}\n",
       "\\item[mass\\textbackslash{}\\_400] 0.895891930710987\n",
       "\\item[mass\\textbackslash{}\\_500] 1.02225119893103\n",
       "\\item[mass\\textbackslash{}\\_600] 1.50370091877059\n",
       "\\item[mass\\textbackslash{}\\_700] 1.05965654617562\n",
       "\\item[mass\\textbackslash{}\\_800] 0.66178443923133\n",
       "\\end{description*}\n"
      ],
      "text/markdown": [
       "mass_400\n",
       ":   0.895891930710987mass_500\n",
       ":   1.02225119893103mass_600\n",
       ":   1.50370091877059mass_700\n",
       ":   1.05965654617562mass_800\n",
       ":   0.66178443923133\n",
       "\n"
      ],
      "text/plain": [
       " mass_400  mass_500  mass_600  mass_700  mass_800 \n",
       "0.8958919 1.0222512 1.5037009 1.0596565 0.6617844 "
      ]
     },
     "metadata": {},
     "output_type": "display_data"
    },
    {
     "data": {
      "text/html": [
       "<ol class=list-inline>\n",
       "\t<li>'numeric'</li>\n",
       "\t<li>'vector'</li>\n",
       "</ol>\n"
      ],
      "text/latex": [
       "\\begin{enumerate*}\n",
       "\\item 'numeric'\n",
       "\\item 'vector'\n",
       "\\end{enumerate*}\n"
      ],
      "text/markdown": [
       "1. 'numeric'\n",
       "2. 'vector'\n",
       "\n",
       "\n"
      ],
      "text/plain": [
       "[1] \"numeric\" \"vector\" "
      ]
     },
     "metadata": {},
     "output_type": "display_data"
    }
   ],
   "source": [
    "avg<- apply(nonzero_wMeta[,8:ncol(nonzero_wMeta)], 2, function(x) tapply(x, nonzero_wMeta$Treatmentgroup, function(x) mean(x))) \n",
    "\n",
    "dim(avg) \n",
    "\n",
    "avg[,1:3]\n",
    "\n",
    "fch <- apply(avg, 2, function(x) x[1]/x[2]) \n",
    "\n",
    "head(fch)\n",
    "is(fch)"
   ]
  },
  {
   "cell_type": "code",
   "execution_count": 12,
   "metadata": {
    "scrolled": true
   },
   "outputs": [
    {
     "data": {
      "text/html": [
       "<dl class=dl-horizontal>\n",
       "\t<dt>mass_400</dt>\n",
       "\t\t<dd>0.895891930710987</dd>\n",
       "\t<dt>mass_500</dt>\n",
       "\t\t<dd>1.02225119893103</dd>\n",
       "\t<dt>mass_600</dt>\n",
       "\t\t<dd>1.50370091877059</dd>\n",
       "\t<dt>mass_700</dt>\n",
       "\t\t<dd>1.05965654617562</dd>\n",
       "\t<dt>mass_800</dt>\n",
       "\t\t<dd>0.66178443923133</dd>\n",
       "</dl>\n"
      ],
      "text/latex": [
       "\\begin{description*}\n",
       "\\item[mass\\textbackslash{}\\_400] 0.895891930710987\n",
       "\\item[mass\\textbackslash{}\\_500] 1.02225119893103\n",
       "\\item[mass\\textbackslash{}\\_600] 1.50370091877059\n",
       "\\item[mass\\textbackslash{}\\_700] 1.05965654617562\n",
       "\\item[mass\\textbackslash{}\\_800] 0.66178443923133\n",
       "\\end{description*}\n"
      ],
      "text/markdown": [
       "mass_400\n",
       ":   0.895891930710987mass_500\n",
       ":   1.02225119893103mass_600\n",
       ":   1.50370091877059mass_700\n",
       ":   1.05965654617562mass_800\n",
       ":   0.66178443923133\n",
       "\n"
      ],
      "text/plain": [
       " mass_400  mass_500  mass_600  mass_700  mass_800 \n",
       "0.8958919 1.0222512 1.5037009 1.0596565 0.6617844 "
      ]
     },
     "metadata": {},
     "output_type": "display_data"
    }
   ],
   "source": [
    "fch"
   ]
  },
  {
   "cell_type": "code",
   "execution_count": 13,
   "metadata": {
    "scrolled": false
   },
   "outputs": [],
   "source": [
    "df <- data.frame(fch,pval, pAdj)\n",
    "write.csv(df, \"PC-treat-RA-wilcox-combo-BNZ.csv\")"
   ]
  },
  {
   "cell_type": "code",
   "execution_count": null,
   "metadata": {},
   "outputs": [],
   "source": []
  },
  {
   "cell_type": "code",
   "execution_count": null,
   "metadata": {},
   "outputs": [],
   "source": []
  },
  {
   "cell_type": "code",
   "execution_count": null,
   "metadata": {},
   "outputs": [],
   "source": []
  },
  {
   "cell_type": "code",
   "execution_count": null,
   "metadata": {},
   "outputs": [],
   "source": []
  },
  {
   "cell_type": "code",
   "execution_count": null,
   "metadata": {},
   "outputs": [],
   "source": []
  },
  {
   "cell_type": "code",
   "execution_count": null,
   "metadata": {},
   "outputs": [],
   "source": []
  }
 ],
 "metadata": {
  "kernelspec": {
   "display_name": "R",
   "language": "R",
   "name": "ir"
  },
  "language_info": {
   "codemirror_mode": "r",
   "file_extension": ".r",
   "mimetype": "text/x-r-source",
   "name": "R",
   "pygments_lexer": "r",
   "version": "3.6.1"
  }
 },
 "nbformat": 4,
 "nbformat_minor": 2
}
