{
 "cells": [
  {
   "cell_type": "code",
   "execution_count": 11,
   "metadata": {},
   "outputs": [],
   "source": [
    "a <- read.csv(\"03172021-PC-time-RA-M-F.csv\")"
   ]
  },
  {
   "cell_type": "code",
   "execution_count": 12,
   "metadata": {},
   "outputs": [
    {
     "data": {
      "text/html": [
       "<table>\n",
       "<thead><tr><th scope=col>filename</th><th scope=col>MouseID</th><th scope=col>Treatmentgroup</th><th scope=col>status</th><th scope=col>DPI</th><th scope=col>organ</th><th scope=col>well_position</th><th scope=col>plate</th><th scope=col>mass_400</th><th scope=col>mass_500</th><th scope=col>mass_600</th><th scope=col>mass_700</th><th scope=col>mass_800</th></tr></thead>\n",
       "<tbody>\n",
       "\t<tr><td>X501_Group1A_50dpi_RA_251_B_A1_P125.mzXML</td><td>501                                      </td><td>Group1A                                  </td><td>naive                                    </td><td>50                                       </td><td>RA                                       </td><td>A1                                       </td><td>P125                                     </td><td>0.02783425                               </td><td>0.04399547                               </td><td>0.001158695                              </td><td>0.023595791                              </td><td>0.008372238                              </td></tr>\n",
       "\t<tr><td>X502_Group1A_50dpi_RA_252_B_A2_P125.mzXML</td><td>502                                      </td><td>Group1A                                  </td><td>naive                                    </td><td>50                                       </td><td>RA                                       </td><td>A2                                       </td><td>P125                                     </td><td>0.03378540                               </td><td>0.04300000                               </td><td>0.000571394                              </td><td>0.015961516                              </td><td>0.002533112                              </td></tr>\n",
       "\t<tr><td>X503_Group1A_50dpi_RA_253_B_A3_P125.mzXML</td><td>503                                      </td><td>Group1A                                  </td><td>naive                                    </td><td>50                                       </td><td>RA                                       </td><td>A3                                       </td><td>P125                                     </td><td>0.01826321                               </td><td>0.02399175                               </td><td>0.000426553                              </td><td>0.006921314                              </td><td>0.005986740                              </td></tr>\n",
       "\t<tr><td>X504_Group1A_50dpi_RA_254_B_A4_P125.mzXML</td><td>504                                      </td><td>Group1A                                  </td><td>naive                                    </td><td>50                                       </td><td>RA                                       </td><td>A4                                       </td><td>P125                                     </td><td>0.02336948                               </td><td>0.02439774                               </td><td>0.000282014                              </td><td>0.001110971                              </td><td>0.000516804                              </td></tr>\n",
       "\t<tr><td>X505_Group1A_50dpi_RA_255_B_A5_P125.mzXML</td><td>505                                      </td><td>Group1A                                  </td><td>naive                                    </td><td>50                                       </td><td>RA                                       </td><td>A5                                       </td><td>P125                                     </td><td>0.02367537                               </td><td>0.03248531                               </td><td>0.000438144                              </td><td>0.008931290                              </td><td>0.002606911                              </td></tr>\n",
       "\t<tr><td>X521_Group1A_50dpi_RA_256_B_A6_P125.mzXML</td><td>521                                      </td><td>Group1A                                  </td><td>naive                                    </td><td>50                                       </td><td>RA                                       </td><td>A6                                       </td><td>P125                                     </td><td>0.02534834                               </td><td>0.01977122                               </td><td>0.000199671                              </td><td>0.002390123                              </td><td>0.003758617                              </td></tr>\n",
       "</tbody>\n",
       "</table>\n"
      ],
      "text/latex": [
       "\\begin{tabular}{r|lllllllllllll}\n",
       " filename & MouseID & Treatmentgroup & status & DPI & organ & well\\_position & plate & mass\\_400 & mass\\_500 & mass\\_600 & mass\\_700 & mass\\_800\\\\\n",
       "\\hline\n",
       "\t X501\\_Group1A\\_50dpi\\_RA\\_251\\_B\\_A1\\_P125.mzXML & 501                                                     & Group1A                                                 & naive                                                   & 50                                                      & RA                                                      & A1                                                      & P125                                                    & 0.02783425                                              & 0.04399547                                              & 0.001158695                                             & 0.023595791                                             & 0.008372238                                            \\\\\n",
       "\t X502\\_Group1A\\_50dpi\\_RA\\_252\\_B\\_A2\\_P125.mzXML & 502                                                     & Group1A                                                 & naive                                                   & 50                                                      & RA                                                      & A2                                                      & P125                                                    & 0.03378540                                              & 0.04300000                                              & 0.000571394                                             & 0.015961516                                             & 0.002533112                                            \\\\\n",
       "\t X503\\_Group1A\\_50dpi\\_RA\\_253\\_B\\_A3\\_P125.mzXML & 503                                                     & Group1A                                                 & naive                                                   & 50                                                      & RA                                                      & A3                                                      & P125                                                    & 0.01826321                                              & 0.02399175                                              & 0.000426553                                             & 0.006921314                                             & 0.005986740                                            \\\\\n",
       "\t X504\\_Group1A\\_50dpi\\_RA\\_254\\_B\\_A4\\_P125.mzXML & 504                                                     & Group1A                                                 & naive                                                   & 50                                                      & RA                                                      & A4                                                      & P125                                                    & 0.02336948                                              & 0.02439774                                              & 0.000282014                                             & 0.001110971                                             & 0.000516804                                            \\\\\n",
       "\t X505\\_Group1A\\_50dpi\\_RA\\_255\\_B\\_A5\\_P125.mzXML & 505                                                     & Group1A                                                 & naive                                                   & 50                                                      & RA                                                      & A5                                                      & P125                                                    & 0.02367537                                              & 0.03248531                                              & 0.000438144                                             & 0.008931290                                             & 0.002606911                                            \\\\\n",
       "\t X521\\_Group1A\\_50dpi\\_RA\\_256\\_B\\_A6\\_P125.mzXML & 521                                                     & Group1A                                                 & naive                                                   & 50                                                      & RA                                                      & A6                                                      & P125                                                    & 0.02534834                                              & 0.01977122                                              & 0.000199671                                             & 0.002390123                                             & 0.003758617                                            \\\\\n",
       "\\end{tabular}\n"
      ],
      "text/markdown": [
       "\n",
       "| filename | MouseID | Treatmentgroup | status | DPI | organ | well_position | plate | mass_400 | mass_500 | mass_600 | mass_700 | mass_800 |\n",
       "|---|---|---|---|---|---|---|---|---|---|---|---|---|\n",
       "| X501_Group1A_50dpi_RA_251_B_A1_P125.mzXML | 501                                       | Group1A                                   | naive                                     | 50                                        | RA                                        | A1                                        | P125                                      | 0.02783425                                | 0.04399547                                | 0.001158695                               | 0.023595791                               | 0.008372238                               |\n",
       "| X502_Group1A_50dpi_RA_252_B_A2_P125.mzXML | 502                                       | Group1A                                   | naive                                     | 50                                        | RA                                        | A2                                        | P125                                      | 0.03378540                                | 0.04300000                                | 0.000571394                               | 0.015961516                               | 0.002533112                               |\n",
       "| X503_Group1A_50dpi_RA_253_B_A3_P125.mzXML | 503                                       | Group1A                                   | naive                                     | 50                                        | RA                                        | A3                                        | P125                                      | 0.01826321                                | 0.02399175                                | 0.000426553                               | 0.006921314                               | 0.005986740                               |\n",
       "| X504_Group1A_50dpi_RA_254_B_A4_P125.mzXML | 504                                       | Group1A                                   | naive                                     | 50                                        | RA                                        | A4                                        | P125                                      | 0.02336948                                | 0.02439774                                | 0.000282014                               | 0.001110971                               | 0.000516804                               |\n",
       "| X505_Group1A_50dpi_RA_255_B_A5_P125.mzXML | 505                                       | Group1A                                   | naive                                     | 50                                        | RA                                        | A5                                        | P125                                      | 0.02367537                                | 0.03248531                                | 0.000438144                               | 0.008931290                               | 0.002606911                               |\n",
       "| X521_Group1A_50dpi_RA_256_B_A6_P125.mzXML | 521                                       | Group1A                                   | naive                                     | 50                                        | RA                                        | A6                                        | P125                                      | 0.02534834                                | 0.01977122                                | 0.000199671                               | 0.002390123                               | 0.003758617                               |\n",
       "\n"
      ],
      "text/plain": [
       "  filename                                  MouseID Treatmentgroup status DPI\n",
       "1 X501_Group1A_50dpi_RA_251_B_A1_P125.mzXML 501     Group1A        naive  50 \n",
       "2 X502_Group1A_50dpi_RA_252_B_A2_P125.mzXML 502     Group1A        naive  50 \n",
       "3 X503_Group1A_50dpi_RA_253_B_A3_P125.mzXML 503     Group1A        naive  50 \n",
       "4 X504_Group1A_50dpi_RA_254_B_A4_P125.mzXML 504     Group1A        naive  50 \n",
       "5 X505_Group1A_50dpi_RA_255_B_A5_P125.mzXML 505     Group1A        naive  50 \n",
       "6 X521_Group1A_50dpi_RA_256_B_A6_P125.mzXML 521     Group1A        naive  50 \n",
       "  organ well_position plate mass_400   mass_500   mass_600    mass_700   \n",
       "1 RA    A1            P125  0.02783425 0.04399547 0.001158695 0.023595791\n",
       "2 RA    A2            P125  0.03378540 0.04300000 0.000571394 0.015961516\n",
       "3 RA    A3            P125  0.01826321 0.02399175 0.000426553 0.006921314\n",
       "4 RA    A4            P125  0.02336948 0.02439774 0.000282014 0.001110971\n",
       "5 RA    A5            P125  0.02367537 0.03248531 0.000438144 0.008931290\n",
       "6 RA    A6            P125  0.02534834 0.01977122 0.000199671 0.002390123\n",
       "  mass_800   \n",
       "1 0.008372238\n",
       "2 0.002533112\n",
       "3 0.005986740\n",
       "4 0.000516804\n",
       "5 0.002606911\n",
       "6 0.003758617"
      ]
     },
     "metadata": {},
     "output_type": "display_data"
    },
    {
     "data": {
      "text/html": [
       "<ol class=list-inline>\n",
       "\t<li>90</li>\n",
       "\t<li>13</li>\n",
       "</ol>\n"
      ],
      "text/latex": [
       "\\begin{enumerate*}\n",
       "\\item 90\n",
       "\\item 13\n",
       "\\end{enumerate*}\n"
      ],
      "text/markdown": [
       "1. 90\n",
       "2. 13\n",
       "\n",
       "\n"
      ],
      "text/plain": [
       "[1] 90 13"
      ]
     },
     "metadata": {},
     "output_type": "display_data"
    }
   ],
   "source": [
    "head(a)\n",
    "dim(a)"
   ]
  },
  {
   "cell_type": "code",
   "execution_count": 13,
   "metadata": {},
   "outputs": [
    {
     "data": {
      "text/html": [
       "<table>\n",
       "<thead><tr><th></th><th scope=col>filename</th><th scope=col>MouseID</th><th scope=col>Treatmentgroup</th><th scope=col>status</th><th scope=col>DPI</th><th scope=col>organ</th><th scope=col>well_position</th><th scope=col>plate</th><th scope=col>mass_400</th><th scope=col>mass_500</th><th scope=col>mass_600</th><th scope=col>mass_700</th><th scope=col>mass_800</th></tr></thead>\n",
       "<tbody>\n",
       "\t<tr><th scope=row>16</th><td>X506_Group1B_70dpi_RA_281_B_C7_P125.mzXML </td><td>506                                       </td><td>Group1B                                   </td><td>naive                                     </td><td>75                                        </td><td>RA                                        </td><td>C7                                        </td><td>P125                                      </td><td>0.01857290                                </td><td>0.01803368                                </td><td>0.000276647                               </td><td>0.001122779                               </td><td>0.000000000                               </td></tr>\n",
       "\t<tr><th scope=row>17</th><td>X507_Group1B_70dpi_RA_282_B_C8_P125.mzXML </td><td>507                                       </td><td>Group1B                                   </td><td>naive                                     </td><td>75                                        </td><td>RA                                        </td><td>C8                                        </td><td>P125                                      </td><td>0.01921623                                </td><td>0.01457777                                </td><td>0.000477393                               </td><td>0.001282485                               </td><td>0.000359235                               </td></tr>\n",
       "\t<tr><th scope=row>18</th><td>X508_Group1B_70dpi_RA_283_B_C9_P125.mzXML </td><td>508                                       </td><td>Group1B                                   </td><td>naive                                     </td><td>75                                        </td><td>RA                                        </td><td>C9                                        </td><td>P125                                      </td><td>0.03839549                                </td><td>0.04198100                                </td><td>0.000413115                               </td><td>0.010923034                               </td><td>0.002420697                               </td></tr>\n",
       "\t<tr><th scope=row>19</th><td>X509_Group1B_70dpi_RA_284_B_C10_P125.mzXML</td><td>509                                       </td><td>Group1B                                   </td><td>naive                                     </td><td>75                                        </td><td>RA                                        </td><td>C10                                       </td><td>P125                                      </td><td>0.01565495                                </td><td>0.02410419                                </td><td>0.000551592                               </td><td>0.008500000                               </td><td>0.000057500                               </td></tr>\n",
       "\t<tr><th scope=row>20</th><td>X510_Group1B_70dpi_RA_285_B_C11_P125.mzXML</td><td>510                                       </td><td>Group1B                                   </td><td>naive                                     </td><td>75                                        </td><td>RA                                        </td><td>C11                                       </td><td>P125                                      </td><td>0.03291191                                </td><td>0.02960000                                </td><td>0.000331893                               </td><td>0.007959684                               </td><td>0.000545069                               </td></tr>\n",
       "\t<tr><th scope=row>21</th><td>X526_Group1B_70dpi_RA_286_B_C12_P125.mzXML</td><td>526                                       </td><td>Group1B                                   </td><td>naive                                     </td><td>75                                        </td><td>RA                                        </td><td>C12                                       </td><td>P125                                      </td><td>0.02404570                                </td><td>0.01885878                                </td><td>0.000239692                               </td><td>0.016895539                               </td><td>0.001071320                               </td></tr>\n",
       "</tbody>\n",
       "</table>\n"
      ],
      "text/latex": [
       "\\begin{tabular}{r|lllllllllllll}\n",
       "  & filename & MouseID & Treatmentgroup & status & DPI & organ & well\\_position & plate & mass\\_400 & mass\\_500 & mass\\_600 & mass\\_700 & mass\\_800\\\\\n",
       "\\hline\n",
       "\t16 & X506\\_Group1B\\_70dpi\\_RA\\_281\\_B\\_C7\\_P125.mzXML  & 506                                                      & Group1B                                                  & naive                                                    & 75                                                       & RA                                                       & C7                                                       & P125                                                     & 0.01857290                                               & 0.01803368                                               & 0.000276647                                              & 0.001122779                                              & 0.000000000                                             \\\\\n",
       "\t17 & X507\\_Group1B\\_70dpi\\_RA\\_282\\_B\\_C8\\_P125.mzXML  & 507                                                      & Group1B                                                  & naive                                                    & 75                                                       & RA                                                       & C8                                                       & P125                                                     & 0.01921623                                               & 0.01457777                                               & 0.000477393                                              & 0.001282485                                              & 0.000359235                                             \\\\\n",
       "\t18 & X508\\_Group1B\\_70dpi\\_RA\\_283\\_B\\_C9\\_P125.mzXML  & 508                                                      & Group1B                                                  & naive                                                    & 75                                                       & RA                                                       & C9                                                       & P125                                                     & 0.03839549                                               & 0.04198100                                               & 0.000413115                                              & 0.010923034                                              & 0.002420697                                             \\\\\n",
       "\t19 & X509\\_Group1B\\_70dpi\\_RA\\_284\\_B\\_C10\\_P125.mzXML & 509                                                      & Group1B                                                  & naive                                                    & 75                                                       & RA                                                       & C10                                                      & P125                                                     & 0.01565495                                               & 0.02410419                                               & 0.000551592                                              & 0.008500000                                              & 0.000057500                                             \\\\\n",
       "\t20 & X510\\_Group1B\\_70dpi\\_RA\\_285\\_B\\_C11\\_P125.mzXML & 510                                                      & Group1B                                                  & naive                                                    & 75                                                       & RA                                                       & C11                                                      & P125                                                     & 0.03291191                                               & 0.02960000                                               & 0.000331893                                              & 0.007959684                                              & 0.000545069                                             \\\\\n",
       "\t21 & X526\\_Group1B\\_70dpi\\_RA\\_286\\_B\\_C12\\_P125.mzXML & 526                                                      & Group1B                                                  & naive                                                    & 75                                                       & RA                                                       & C12                                                      & P125                                                     & 0.02404570                                               & 0.01885878                                               & 0.000239692                                              & 0.016895539                                              & 0.001071320                                             \\\\\n",
       "\\end{tabular}\n"
      ],
      "text/markdown": [
       "\n",
       "| <!--/--> | filename | MouseID | Treatmentgroup | status | DPI | organ | well_position | plate | mass_400 | mass_500 | mass_600 | mass_700 | mass_800 |\n",
       "|---|---|---|---|---|---|---|---|---|---|---|---|---|---|\n",
       "| 16 | X506_Group1B_70dpi_RA_281_B_C7_P125.mzXML  | 506                                        | Group1B                                    | naive                                      | 75                                         | RA                                         | C7                                         | P125                                       | 0.01857290                                 | 0.01803368                                 | 0.000276647                                | 0.001122779                                | 0.000000000                                |\n",
       "| 17 | X507_Group1B_70dpi_RA_282_B_C8_P125.mzXML  | 507                                        | Group1B                                    | naive                                      | 75                                         | RA                                         | C8                                         | P125                                       | 0.01921623                                 | 0.01457777                                 | 0.000477393                                | 0.001282485                                | 0.000359235                                |\n",
       "| 18 | X508_Group1B_70dpi_RA_283_B_C9_P125.mzXML  | 508                                        | Group1B                                    | naive                                      | 75                                         | RA                                         | C9                                         | P125                                       | 0.03839549                                 | 0.04198100                                 | 0.000413115                                | 0.010923034                                | 0.002420697                                |\n",
       "| 19 | X509_Group1B_70dpi_RA_284_B_C10_P125.mzXML | 509                                        | Group1B                                    | naive                                      | 75                                         | RA                                         | C10                                        | P125                                       | 0.01565495                                 | 0.02410419                                 | 0.000551592                                | 0.008500000                                | 0.000057500                                |\n",
       "| 20 | X510_Group1B_70dpi_RA_285_B_C11_P125.mzXML | 510                                        | Group1B                                    | naive                                      | 75                                         | RA                                         | C11                                        | P125                                       | 0.03291191                                 | 0.02960000                                 | 0.000331893                                | 0.007959684                                | 0.000545069                                |\n",
       "| 21 | X526_Group1B_70dpi_RA_286_B_C12_P125.mzXML | 526                                        | Group1B                                    | naive                                      | 75                                         | RA                                         | C12                                        | P125                                       | 0.02404570                                 | 0.01885878                                 | 0.000239692                                | 0.016895539                                | 0.001071320                                |\n",
       "\n"
      ],
      "text/plain": [
       "   filename                                   MouseID Treatmentgroup status DPI\n",
       "16 X506_Group1B_70dpi_RA_281_B_C7_P125.mzXML  506     Group1B        naive  75 \n",
       "17 X507_Group1B_70dpi_RA_282_B_C8_P125.mzXML  507     Group1B        naive  75 \n",
       "18 X508_Group1B_70dpi_RA_283_B_C9_P125.mzXML  508     Group1B        naive  75 \n",
       "19 X509_Group1B_70dpi_RA_284_B_C10_P125.mzXML 509     Group1B        naive  75 \n",
       "20 X510_Group1B_70dpi_RA_285_B_C11_P125.mzXML 510     Group1B        naive  75 \n",
       "21 X526_Group1B_70dpi_RA_286_B_C12_P125.mzXML 526     Group1B        naive  75 \n",
       "   organ well_position plate mass_400   mass_500   mass_600    mass_700   \n",
       "16 RA    C7            P125  0.01857290 0.01803368 0.000276647 0.001122779\n",
       "17 RA    C8            P125  0.01921623 0.01457777 0.000477393 0.001282485\n",
       "18 RA    C9            P125  0.03839549 0.04198100 0.000413115 0.010923034\n",
       "19 RA    C10           P125  0.01565495 0.02410419 0.000551592 0.008500000\n",
       "20 RA    C11           P125  0.03291191 0.02960000 0.000331893 0.007959684\n",
       "21 RA    C12           P125  0.02404570 0.01885878 0.000239692 0.016895539\n",
       "   mass_800   \n",
       "16 0.000000000\n",
       "17 0.000359235\n",
       "18 0.002420697\n",
       "19 0.000057500\n",
       "20 0.000545069\n",
       "21 0.001071320"
      ]
     },
     "metadata": {},
     "output_type": "display_data"
    },
    {
     "data": {
      "text/html": [
       "<ol class=list-inline>\n",
       "\t<li>30</li>\n",
       "\t<li>13</li>\n",
       "</ol>\n"
      ],
      "text/latex": [
       "\\begin{enumerate*}\n",
       "\\item 30\n",
       "\\item 13\n",
       "\\end{enumerate*}\n"
      ],
      "text/markdown": [
       "1. 30\n",
       "2. 13\n",
       "\n",
       "\n"
      ],
      "text/plain": [
       "[1] 30 13"
      ]
     },
     "metadata": {},
     "output_type": "display_data"
    }
   ],
   "source": [
    "features_pos<-droplevels(subset(a, a$Treatmentgroup==c(\"Group1B\")|a$Treatmentgroup==c(\"Group3B\")))\n",
    "head(features_pos)\n",
    "dim(features_pos)"
   ]
  },
  {
   "cell_type": "code",
   "execution_count": 14,
   "metadata": {
    "scrolled": false
   },
   "outputs": [
    {
     "data": {
      "text/html": [
       "<table>\n",
       "<thead><tr><th></th><th scope=col>mass_400</th><th scope=col>mass_500</th><th scope=col>mass_600</th><th scope=col>mass_700</th><th scope=col>mass_800</th></tr></thead>\n",
       "<tbody>\n",
       "\t<tr><th scope=row>16</th><td>0.01857290 </td><td>0.01803368 </td><td>0.000276647</td><td>0.001122779</td><td>0.000000000</td></tr>\n",
       "\t<tr><th scope=row>17</th><td>0.01921623 </td><td>0.01457777 </td><td>0.000477393</td><td>0.001282485</td><td>0.000359235</td></tr>\n",
       "\t<tr><th scope=row>18</th><td>0.03839549 </td><td>0.04198100 </td><td>0.000413115</td><td>0.010923034</td><td>0.002420697</td></tr>\n",
       "\t<tr><th scope=row>19</th><td>0.01565495 </td><td>0.02410419 </td><td>0.000551592</td><td>0.008500000</td><td>0.000057500</td></tr>\n",
       "\t<tr><th scope=row>20</th><td>0.03291191 </td><td>0.02960000 </td><td>0.000331893</td><td>0.007959684</td><td>0.000545069</td></tr>\n",
       "\t<tr><th scope=row>21</th><td>0.02404570 </td><td>0.01885878 </td><td>0.000239692</td><td>0.016895539</td><td>0.001071320</td></tr>\n",
       "</tbody>\n",
       "</table>\n"
      ],
      "text/latex": [
       "\\begin{tabular}{r|lllll}\n",
       "  & mass\\_400 & mass\\_500 & mass\\_600 & mass\\_700 & mass\\_800\\\\\n",
       "\\hline\n",
       "\t16 & 0.01857290  & 0.01803368  & 0.000276647 & 0.001122779 & 0.000000000\\\\\n",
       "\t17 & 0.01921623  & 0.01457777  & 0.000477393 & 0.001282485 & 0.000359235\\\\\n",
       "\t18 & 0.03839549  & 0.04198100  & 0.000413115 & 0.010923034 & 0.002420697\\\\\n",
       "\t19 & 0.01565495  & 0.02410419  & 0.000551592 & 0.008500000 & 0.000057500\\\\\n",
       "\t20 & 0.03291191  & 0.02960000  & 0.000331893 & 0.007959684 & 0.000545069\\\\\n",
       "\t21 & 0.02404570  & 0.01885878  & 0.000239692 & 0.016895539 & 0.001071320\\\\\n",
       "\\end{tabular}\n"
      ],
      "text/markdown": [
       "\n",
       "| <!--/--> | mass_400 | mass_500 | mass_600 | mass_700 | mass_800 |\n",
       "|---|---|---|---|---|---|\n",
       "| 16 | 0.01857290  | 0.01803368  | 0.000276647 | 0.001122779 | 0.000000000 |\n",
       "| 17 | 0.01921623  | 0.01457777  | 0.000477393 | 0.001282485 | 0.000359235 |\n",
       "| 18 | 0.03839549  | 0.04198100  | 0.000413115 | 0.010923034 | 0.002420697 |\n",
       "| 19 | 0.01565495  | 0.02410419  | 0.000551592 | 0.008500000 | 0.000057500 |\n",
       "| 20 | 0.03291191  | 0.02960000  | 0.000331893 | 0.007959684 | 0.000545069 |\n",
       "| 21 | 0.02404570  | 0.01885878  | 0.000239692 | 0.016895539 | 0.001071320 |\n",
       "\n"
      ],
      "text/plain": [
       "   mass_400   mass_500   mass_600    mass_700    mass_800   \n",
       "16 0.01857290 0.01803368 0.000276647 0.001122779 0.000000000\n",
       "17 0.01921623 0.01457777 0.000477393 0.001282485 0.000359235\n",
       "18 0.03839549 0.04198100 0.000413115 0.010923034 0.002420697\n",
       "19 0.01565495 0.02410419 0.000551592 0.008500000 0.000057500\n",
       "20 0.03291191 0.02960000 0.000331893 0.007959684 0.000545069\n",
       "21 0.02404570 0.01885878 0.000239692 0.016895539 0.001071320"
      ]
     },
     "metadata": {},
     "output_type": "display_data"
    },
    {
     "data": {
      "text/html": [
       "<dl class=dl-horizontal>\n",
       "\t<dt>mass_400</dt>\n",
       "\t\t<dd>1</dd>\n",
       "\t<dt>mass_500</dt>\n",
       "\t\t<dd>2</dd>\n",
       "\t<dt>mass_600</dt>\n",
       "\t\t<dd>3</dd>\n",
       "\t<dt>mass_700</dt>\n",
       "\t\t<dd>4</dd>\n",
       "\t<dt>mass_800</dt>\n",
       "\t\t<dd>5</dd>\n",
       "</dl>\n"
      ],
      "text/latex": [
       "\\begin{description*}\n",
       "\\item[mass\\textbackslash{}\\_400] 1\n",
       "\\item[mass\\textbackslash{}\\_500] 2\n",
       "\\item[mass\\textbackslash{}\\_600] 3\n",
       "\\item[mass\\textbackslash{}\\_700] 4\n",
       "\\item[mass\\textbackslash{}\\_800] 5\n",
       "\\end{description*}\n"
      ],
      "text/markdown": [
       "mass_400\n",
       ":   1mass_500\n",
       ":   2mass_600\n",
       ":   3mass_700\n",
       ":   4mass_800\n",
       ":   5\n",
       "\n"
      ],
      "text/plain": [
       "mass_400 mass_500 mass_600 mass_700 mass_800 \n",
       "       1        2        3        4        5 "
      ]
     },
     "metadata": {},
     "output_type": "display_data"
    },
    {
     "data": {
      "text/html": [
       "<table>\n",
       "<thead><tr><th></th><th scope=col>mass_400</th><th scope=col>mass_500</th><th scope=col>mass_600</th><th scope=col>mass_700</th><th scope=col>mass_800</th></tr></thead>\n",
       "<tbody>\n",
       "\t<tr><th scope=row>16</th><td>0.018572901</td><td>0.01803368 </td><td>0.000276647</td><td>0.001122779</td><td>0.000000000</td></tr>\n",
       "\t<tr><th scope=row>17</th><td>0.019216229</td><td>0.01457777 </td><td>0.000477393</td><td>0.001282485</td><td>0.000359235</td></tr>\n",
       "\t<tr><th scope=row>18</th><td>0.038395492</td><td>0.04198100 </td><td>0.000413115</td><td>0.010923034</td><td>0.002420697</td></tr>\n",
       "\t<tr><th scope=row>19</th><td>0.015654948</td><td>0.02410419 </td><td>0.000551592</td><td>0.008500000</td><td>0.000057500</td></tr>\n",
       "\t<tr><th scope=row>20</th><td>0.032911908</td><td>0.02960000 </td><td>0.000331893</td><td>0.007959684</td><td>0.000545069</td></tr>\n",
       "\t<tr><th scope=row>21</th><td>0.024045700</td><td>0.01885878 </td><td>0.000239692</td><td>0.016895539</td><td>0.001071320</td></tr>\n",
       "\t<tr><th scope=row>22</th><td>0.025906051</td><td>0.03115807 </td><td>0.000345780</td><td>0.004233647</td><td>0.001838722</td></tr>\n",
       "\t<tr><th scope=row>23</th><td>0.034014189</td><td>0.04350859 </td><td>0.000674319</td><td>0.002673590</td><td>0.000000000</td></tr>\n",
       "\t<tr><th scope=row>24</th><td>0.033782320</td><td>0.04080000 </td><td>0.000768303</td><td>0.021200000</td><td>0.008303530</td></tr>\n",
       "\t<tr><th scope=row>25</th><td>0.022174346</td><td>0.02633421 </td><td>0.000437211</td><td>0.001490157</td><td>0.000210784</td></tr>\n",
       "\t<tr><th scope=row>26</th><td>0.014752859</td><td>0.01458408 </td><td>0.000252998</td><td>0.008167368</td><td>0.003137105</td></tr>\n",
       "\t<tr><th scope=row>27</th><td>0.019195425</td><td>0.02156623 </td><td>0.000120495</td><td>0.002655056</td><td>0.000155253</td></tr>\n",
       "\t<tr><th scope=row>28</th><td>0.016443946</td><td>0.01901529 </td><td>0.000164265</td><td>0.008476383</td><td>0.000213326</td></tr>\n",
       "\t<tr><th scope=row>29</th><td>0.017294242</td><td>0.02929921 </td><td>0.000416761</td><td>0.001415970</td><td>0.000000000</td></tr>\n",
       "\t<tr><th scope=row>30</th><td>0.022173077</td><td>0.02629624 </td><td>0.000147600</td><td>0.002942697</td><td>0.000000000</td></tr>\n",
       "\t<tr><th scope=row>61</th><td>0.017269170</td><td>0.01387753 </td><td>0.000211346</td><td>0.007229423</td><td>0.001488001</td></tr>\n",
       "\t<tr><th scope=row>62</th><td>0.035717838</td><td>0.03480980 </td><td>0.000157600</td><td>0.006665426</td><td>0.000000000</td></tr>\n",
       "\t<tr><th scope=row>63</th><td>0.019596811</td><td>0.02619151 </td><td>0.000132000</td><td>0.000194843</td><td>0.000067900</td></tr>\n",
       "\t<tr><th scope=row>64</th><td>0.059620934</td><td>0.05063943 </td><td>0.000330775</td><td>0.005727229</td><td>0.000000000</td></tr>\n",
       "\t<tr><th scope=row>65</th><td>0.023726148</td><td>0.02175398 </td><td>0.000338800</td><td>0.007211318</td><td>0.007011252</td></tr>\n",
       "\t<tr><th scope=row>66</th><td>0.042062098</td><td>0.05550000 </td><td>0.001183278</td><td>0.016788165</td><td>0.005686379</td></tr>\n",
       "\t<tr><th scope=row>67</th><td>0.008774741</td><td>0.02204506 </td><td>0.000301600</td><td>0.006094616</td><td>0.003096290</td></tr>\n",
       "\t<tr><th scope=row>68</th><td>0.032510863</td><td>0.05760000 </td><td>0.001900217</td><td>0.012781902</td><td>0.017102267</td></tr>\n",
       "\t<tr><th scope=row>69</th><td>0.030793906</td><td>0.03920000 </td><td>0.000680326</td><td>0.014993799</td><td>0.009502511</td></tr>\n",
       "\t<tr><th scope=row>70</th><td>0.056710577</td><td>0.07650505 </td><td>0.001077197</td><td>0.013399632</td><td>0.010244547</td></tr>\n",
       "\t<tr><th scope=row>71</th><td>0.045562635</td><td>0.07045329 </td><td>0.000601545</td><td>0.016427099</td><td>0.000940715</td></tr>\n",
       "\t<tr><th scope=row>72</th><td>0.056745592</td><td>0.06740000 </td><td>0.001077306</td><td>0.024554124</td><td>0.008207326</td></tr>\n",
       "\t<tr><th scope=row>73</th><td>0.033946660</td><td>0.04912121 </td><td>0.000837726</td><td>0.032385319</td><td>0.025910396</td></tr>\n",
       "\t<tr><th scope=row>74</th><td>0.060265835</td><td>0.08990755 </td><td>0.000958453</td><td>0.022471636</td><td>0.005780422</td></tr>\n",
       "\t<tr><th scope=row>75</th><td>0.045977050</td><td>0.05680000 </td><td>0.001170372</td><td>0.049904129</td><td>0.018849930</td></tr>\n",
       "</tbody>\n",
       "</table>\n"
      ],
      "text/latex": [
       "\\begin{tabular}{r|lllll}\n",
       "  & mass\\_400 & mass\\_500 & mass\\_600 & mass\\_700 & mass\\_800\\\\\n",
       "\\hline\n",
       "\t16 & 0.018572901 & 0.01803368  & 0.000276647 & 0.001122779 & 0.000000000\\\\\n",
       "\t17 & 0.019216229 & 0.01457777  & 0.000477393 & 0.001282485 & 0.000359235\\\\\n",
       "\t18 & 0.038395492 & 0.04198100  & 0.000413115 & 0.010923034 & 0.002420697\\\\\n",
       "\t19 & 0.015654948 & 0.02410419  & 0.000551592 & 0.008500000 & 0.000057500\\\\\n",
       "\t20 & 0.032911908 & 0.02960000  & 0.000331893 & 0.007959684 & 0.000545069\\\\\n",
       "\t21 & 0.024045700 & 0.01885878  & 0.000239692 & 0.016895539 & 0.001071320\\\\\n",
       "\t22 & 0.025906051 & 0.03115807  & 0.000345780 & 0.004233647 & 0.001838722\\\\\n",
       "\t23 & 0.034014189 & 0.04350859  & 0.000674319 & 0.002673590 & 0.000000000\\\\\n",
       "\t24 & 0.033782320 & 0.04080000  & 0.000768303 & 0.021200000 & 0.008303530\\\\\n",
       "\t25 & 0.022174346 & 0.02633421  & 0.000437211 & 0.001490157 & 0.000210784\\\\\n",
       "\t26 & 0.014752859 & 0.01458408  & 0.000252998 & 0.008167368 & 0.003137105\\\\\n",
       "\t27 & 0.019195425 & 0.02156623  & 0.000120495 & 0.002655056 & 0.000155253\\\\\n",
       "\t28 & 0.016443946 & 0.01901529  & 0.000164265 & 0.008476383 & 0.000213326\\\\\n",
       "\t29 & 0.017294242 & 0.02929921  & 0.000416761 & 0.001415970 & 0.000000000\\\\\n",
       "\t30 & 0.022173077 & 0.02629624  & 0.000147600 & 0.002942697 & 0.000000000\\\\\n",
       "\t61 & 0.017269170 & 0.01387753  & 0.000211346 & 0.007229423 & 0.001488001\\\\\n",
       "\t62 & 0.035717838 & 0.03480980  & 0.000157600 & 0.006665426 & 0.000000000\\\\\n",
       "\t63 & 0.019596811 & 0.02619151  & 0.000132000 & 0.000194843 & 0.000067900\\\\\n",
       "\t64 & 0.059620934 & 0.05063943  & 0.000330775 & 0.005727229 & 0.000000000\\\\\n",
       "\t65 & 0.023726148 & 0.02175398  & 0.000338800 & 0.007211318 & 0.007011252\\\\\n",
       "\t66 & 0.042062098 & 0.05550000  & 0.001183278 & 0.016788165 & 0.005686379\\\\\n",
       "\t67 & 0.008774741 & 0.02204506  & 0.000301600 & 0.006094616 & 0.003096290\\\\\n",
       "\t68 & 0.032510863 & 0.05760000  & 0.001900217 & 0.012781902 & 0.017102267\\\\\n",
       "\t69 & 0.030793906 & 0.03920000  & 0.000680326 & 0.014993799 & 0.009502511\\\\\n",
       "\t70 & 0.056710577 & 0.07650505  & 0.001077197 & 0.013399632 & 0.010244547\\\\\n",
       "\t71 & 0.045562635 & 0.07045329  & 0.000601545 & 0.016427099 & 0.000940715\\\\\n",
       "\t72 & 0.056745592 & 0.06740000  & 0.001077306 & 0.024554124 & 0.008207326\\\\\n",
       "\t73 & 0.033946660 & 0.04912121  & 0.000837726 & 0.032385319 & 0.025910396\\\\\n",
       "\t74 & 0.060265835 & 0.08990755  & 0.000958453 & 0.022471636 & 0.005780422\\\\\n",
       "\t75 & 0.045977050 & 0.05680000  & 0.001170372 & 0.049904129 & 0.018849930\\\\\n",
       "\\end{tabular}\n"
      ],
      "text/markdown": [
       "\n",
       "| <!--/--> | mass_400 | mass_500 | mass_600 | mass_700 | mass_800 |\n",
       "|---|---|---|---|---|---|\n",
       "| 16 | 0.018572901 | 0.01803368  | 0.000276647 | 0.001122779 | 0.000000000 |\n",
       "| 17 | 0.019216229 | 0.01457777  | 0.000477393 | 0.001282485 | 0.000359235 |\n",
       "| 18 | 0.038395492 | 0.04198100  | 0.000413115 | 0.010923034 | 0.002420697 |\n",
       "| 19 | 0.015654948 | 0.02410419  | 0.000551592 | 0.008500000 | 0.000057500 |\n",
       "| 20 | 0.032911908 | 0.02960000  | 0.000331893 | 0.007959684 | 0.000545069 |\n",
       "| 21 | 0.024045700 | 0.01885878  | 0.000239692 | 0.016895539 | 0.001071320 |\n",
       "| 22 | 0.025906051 | 0.03115807  | 0.000345780 | 0.004233647 | 0.001838722 |\n",
       "| 23 | 0.034014189 | 0.04350859  | 0.000674319 | 0.002673590 | 0.000000000 |\n",
       "| 24 | 0.033782320 | 0.04080000  | 0.000768303 | 0.021200000 | 0.008303530 |\n",
       "| 25 | 0.022174346 | 0.02633421  | 0.000437211 | 0.001490157 | 0.000210784 |\n",
       "| 26 | 0.014752859 | 0.01458408  | 0.000252998 | 0.008167368 | 0.003137105 |\n",
       "| 27 | 0.019195425 | 0.02156623  | 0.000120495 | 0.002655056 | 0.000155253 |\n",
       "| 28 | 0.016443946 | 0.01901529  | 0.000164265 | 0.008476383 | 0.000213326 |\n",
       "| 29 | 0.017294242 | 0.02929921  | 0.000416761 | 0.001415970 | 0.000000000 |\n",
       "| 30 | 0.022173077 | 0.02629624  | 0.000147600 | 0.002942697 | 0.000000000 |\n",
       "| 61 | 0.017269170 | 0.01387753  | 0.000211346 | 0.007229423 | 0.001488001 |\n",
       "| 62 | 0.035717838 | 0.03480980  | 0.000157600 | 0.006665426 | 0.000000000 |\n",
       "| 63 | 0.019596811 | 0.02619151  | 0.000132000 | 0.000194843 | 0.000067900 |\n",
       "| 64 | 0.059620934 | 0.05063943  | 0.000330775 | 0.005727229 | 0.000000000 |\n",
       "| 65 | 0.023726148 | 0.02175398  | 0.000338800 | 0.007211318 | 0.007011252 |\n",
       "| 66 | 0.042062098 | 0.05550000  | 0.001183278 | 0.016788165 | 0.005686379 |\n",
       "| 67 | 0.008774741 | 0.02204506  | 0.000301600 | 0.006094616 | 0.003096290 |\n",
       "| 68 | 0.032510863 | 0.05760000  | 0.001900217 | 0.012781902 | 0.017102267 |\n",
       "| 69 | 0.030793906 | 0.03920000  | 0.000680326 | 0.014993799 | 0.009502511 |\n",
       "| 70 | 0.056710577 | 0.07650505  | 0.001077197 | 0.013399632 | 0.010244547 |\n",
       "| 71 | 0.045562635 | 0.07045329  | 0.000601545 | 0.016427099 | 0.000940715 |\n",
       "| 72 | 0.056745592 | 0.06740000  | 0.001077306 | 0.024554124 | 0.008207326 |\n",
       "| 73 | 0.033946660 | 0.04912121  | 0.000837726 | 0.032385319 | 0.025910396 |\n",
       "| 74 | 0.060265835 | 0.08990755  | 0.000958453 | 0.022471636 | 0.005780422 |\n",
       "| 75 | 0.045977050 | 0.05680000  | 0.001170372 | 0.049904129 | 0.018849930 |\n",
       "\n"
      ],
      "text/plain": [
       "   mass_400    mass_500   mass_600    mass_700    mass_800   \n",
       "16 0.018572901 0.01803368 0.000276647 0.001122779 0.000000000\n",
       "17 0.019216229 0.01457777 0.000477393 0.001282485 0.000359235\n",
       "18 0.038395492 0.04198100 0.000413115 0.010923034 0.002420697\n",
       "19 0.015654948 0.02410419 0.000551592 0.008500000 0.000057500\n",
       "20 0.032911908 0.02960000 0.000331893 0.007959684 0.000545069\n",
       "21 0.024045700 0.01885878 0.000239692 0.016895539 0.001071320\n",
       "22 0.025906051 0.03115807 0.000345780 0.004233647 0.001838722\n",
       "23 0.034014189 0.04350859 0.000674319 0.002673590 0.000000000\n",
       "24 0.033782320 0.04080000 0.000768303 0.021200000 0.008303530\n",
       "25 0.022174346 0.02633421 0.000437211 0.001490157 0.000210784\n",
       "26 0.014752859 0.01458408 0.000252998 0.008167368 0.003137105\n",
       "27 0.019195425 0.02156623 0.000120495 0.002655056 0.000155253\n",
       "28 0.016443946 0.01901529 0.000164265 0.008476383 0.000213326\n",
       "29 0.017294242 0.02929921 0.000416761 0.001415970 0.000000000\n",
       "30 0.022173077 0.02629624 0.000147600 0.002942697 0.000000000\n",
       "61 0.017269170 0.01387753 0.000211346 0.007229423 0.001488001\n",
       "62 0.035717838 0.03480980 0.000157600 0.006665426 0.000000000\n",
       "63 0.019596811 0.02619151 0.000132000 0.000194843 0.000067900\n",
       "64 0.059620934 0.05063943 0.000330775 0.005727229 0.000000000\n",
       "65 0.023726148 0.02175398 0.000338800 0.007211318 0.007011252\n",
       "66 0.042062098 0.05550000 0.001183278 0.016788165 0.005686379\n",
       "67 0.008774741 0.02204506 0.000301600 0.006094616 0.003096290\n",
       "68 0.032510863 0.05760000 0.001900217 0.012781902 0.017102267\n",
       "69 0.030793906 0.03920000 0.000680326 0.014993799 0.009502511\n",
       "70 0.056710577 0.07650505 0.001077197 0.013399632 0.010244547\n",
       "71 0.045562635 0.07045329 0.000601545 0.016427099 0.000940715\n",
       "72 0.056745592 0.06740000 0.001077306 0.024554124 0.008207326\n",
       "73 0.033946660 0.04912121 0.000837726 0.032385319 0.025910396\n",
       "74 0.060265835 0.08990755 0.000958453 0.022471636 0.005780422\n",
       "75 0.045977050 0.05680000 0.001170372 0.049904129 0.018849930"
      ]
     },
     "metadata": {},
     "output_type": "display_data"
    },
    {
     "data": {
      "text/html": [
       "<table>\n",
       "<thead><tr><th></th><th scope=col>filename</th><th scope=col>MouseID</th><th scope=col>Treatmentgroup</th><th scope=col>status</th><th scope=col>DPI</th><th scope=col>organ</th><th scope=col>well_position</th><th scope=col>plate</th><th scope=col>mass_400</th><th scope=col>mass_500</th><th scope=col>mass_600</th><th scope=col>mass_700</th><th scope=col>mass_800</th></tr></thead>\n",
       "<tbody>\n",
       "\t<tr><th scope=row>16</th><td>X506_Group1B_70dpi_RA_281_B_C7_P125.mzXML </td><td>506                                       </td><td>Group1B                                   </td><td>naive                                     </td><td>75                                        </td><td>RA                                        </td><td>C7                                        </td><td>P125                                      </td><td>0.01857290                                </td><td>0.01803368                                </td><td>0.000276647                               </td><td>0.001122779                               </td><td>0.000000000                               </td></tr>\n",
       "\t<tr><th scope=row>17</th><td>X507_Group1B_70dpi_RA_282_B_C8_P125.mzXML </td><td>507                                       </td><td>Group1B                                   </td><td>naive                                     </td><td>75                                        </td><td>RA                                        </td><td>C8                                        </td><td>P125                                      </td><td>0.01921623                                </td><td>0.01457777                                </td><td>0.000477393                               </td><td>0.001282485                               </td><td>0.000359235                               </td></tr>\n",
       "\t<tr><th scope=row>18</th><td>X508_Group1B_70dpi_RA_283_B_C9_P125.mzXML </td><td>508                                       </td><td>Group1B                                   </td><td>naive                                     </td><td>75                                        </td><td>RA                                        </td><td>C9                                        </td><td>P125                                      </td><td>0.03839549                                </td><td>0.04198100                                </td><td>0.000413115                               </td><td>0.010923034                               </td><td>0.002420697                               </td></tr>\n",
       "\t<tr><th scope=row>19</th><td>X509_Group1B_70dpi_RA_284_B_C10_P125.mzXML</td><td>509                                       </td><td>Group1B                                   </td><td>naive                                     </td><td>75                                        </td><td>RA                                        </td><td>C10                                       </td><td>P125                                      </td><td>0.01565495                                </td><td>0.02410419                                </td><td>0.000551592                               </td><td>0.008500000                               </td><td>0.000057500                               </td></tr>\n",
       "\t<tr><th scope=row>20</th><td>X510_Group1B_70dpi_RA_285_B_C11_P125.mzXML</td><td>510                                       </td><td>Group1B                                   </td><td>naive                                     </td><td>75                                        </td><td>RA                                        </td><td>C11                                       </td><td>P125                                      </td><td>0.03291191                                </td><td>0.02960000                                </td><td>0.000331893                               </td><td>0.007959684                               </td><td>0.000545069                               </td></tr>\n",
       "\t<tr><th scope=row>21</th><td>X526_Group1B_70dpi_RA_286_B_C12_P125.mzXML</td><td>526                                       </td><td>Group1B                                   </td><td>naive                                     </td><td>75                                        </td><td>RA                                        </td><td>C12                                       </td><td>P125                                      </td><td>0.02404570                                </td><td>0.01885878                                </td><td>0.000239692                               </td><td>0.016895539                               </td><td>0.001071320                               </td></tr>\n",
       "</tbody>\n",
       "</table>\n"
      ],
      "text/latex": [
       "\\begin{tabular}{r|lllllllllllll}\n",
       "  & filename & MouseID & Treatmentgroup & status & DPI & organ & well\\_position & plate & mass\\_400 & mass\\_500 & mass\\_600 & mass\\_700 & mass\\_800\\\\\n",
       "\\hline\n",
       "\t16 & X506\\_Group1B\\_70dpi\\_RA\\_281\\_B\\_C7\\_P125.mzXML  & 506                                                      & Group1B                                                  & naive                                                    & 75                                                       & RA                                                       & C7                                                       & P125                                                     & 0.01857290                                               & 0.01803368                                               & 0.000276647                                              & 0.001122779                                              & 0.000000000                                             \\\\\n",
       "\t17 & X507\\_Group1B\\_70dpi\\_RA\\_282\\_B\\_C8\\_P125.mzXML  & 507                                                      & Group1B                                                  & naive                                                    & 75                                                       & RA                                                       & C8                                                       & P125                                                     & 0.01921623                                               & 0.01457777                                               & 0.000477393                                              & 0.001282485                                              & 0.000359235                                             \\\\\n",
       "\t18 & X508\\_Group1B\\_70dpi\\_RA\\_283\\_B\\_C9\\_P125.mzXML  & 508                                                      & Group1B                                                  & naive                                                    & 75                                                       & RA                                                       & C9                                                       & P125                                                     & 0.03839549                                               & 0.04198100                                               & 0.000413115                                              & 0.010923034                                              & 0.002420697                                             \\\\\n",
       "\t19 & X509\\_Group1B\\_70dpi\\_RA\\_284\\_B\\_C10\\_P125.mzXML & 509                                                      & Group1B                                                  & naive                                                    & 75                                                       & RA                                                       & C10                                                      & P125                                                     & 0.01565495                                               & 0.02410419                                               & 0.000551592                                              & 0.008500000                                              & 0.000057500                                             \\\\\n",
       "\t20 & X510\\_Group1B\\_70dpi\\_RA\\_285\\_B\\_C11\\_P125.mzXML & 510                                                      & Group1B                                                  & naive                                                    & 75                                                       & RA                                                       & C11                                                      & P125                                                     & 0.03291191                                               & 0.02960000                                               & 0.000331893                                              & 0.007959684                                              & 0.000545069                                             \\\\\n",
       "\t21 & X526\\_Group1B\\_70dpi\\_RA\\_286\\_B\\_C12\\_P125.mzXML & 526                                                      & Group1B                                                  & naive                                                    & 75                                                       & RA                                                       & C12                                                      & P125                                                     & 0.02404570                                               & 0.01885878                                               & 0.000239692                                              & 0.016895539                                              & 0.001071320                                             \\\\\n",
       "\\end{tabular}\n"
      ],
      "text/markdown": [
       "\n",
       "| <!--/--> | filename | MouseID | Treatmentgroup | status | DPI | organ | well_position | plate | mass_400 | mass_500 | mass_600 | mass_700 | mass_800 |\n",
       "|---|---|---|---|---|---|---|---|---|---|---|---|---|---|\n",
       "| 16 | X506_Group1B_70dpi_RA_281_B_C7_P125.mzXML  | 506                                        | Group1B                                    | naive                                      | 75                                         | RA                                         | C7                                         | P125                                       | 0.01857290                                 | 0.01803368                                 | 0.000276647                                | 0.001122779                                | 0.000000000                                |\n",
       "| 17 | X507_Group1B_70dpi_RA_282_B_C8_P125.mzXML  | 507                                        | Group1B                                    | naive                                      | 75                                         | RA                                         | C8                                         | P125                                       | 0.01921623                                 | 0.01457777                                 | 0.000477393                                | 0.001282485                                | 0.000359235                                |\n",
       "| 18 | X508_Group1B_70dpi_RA_283_B_C9_P125.mzXML  | 508                                        | Group1B                                    | naive                                      | 75                                         | RA                                         | C9                                         | P125                                       | 0.03839549                                 | 0.04198100                                 | 0.000413115                                | 0.010923034                                | 0.002420697                                |\n",
       "| 19 | X509_Group1B_70dpi_RA_284_B_C10_P125.mzXML | 509                                        | Group1B                                    | naive                                      | 75                                         | RA                                         | C10                                        | P125                                       | 0.01565495                                 | 0.02410419                                 | 0.000551592                                | 0.008500000                                | 0.000057500                                |\n",
       "| 20 | X510_Group1B_70dpi_RA_285_B_C11_P125.mzXML | 510                                        | Group1B                                    | naive                                      | 75                                         | RA                                         | C11                                        | P125                                       | 0.03291191                                 | 0.02960000                                 | 0.000331893                                | 0.007959684                                | 0.000545069                                |\n",
       "| 21 | X526_Group1B_70dpi_RA_286_B_C12_P125.mzXML | 526                                        | Group1B                                    | naive                                      | 75                                         | RA                                         | C12                                        | P125                                       | 0.02404570                                 | 0.01885878                                 | 0.000239692                                | 0.016895539                                | 0.001071320                                |\n",
       "\n"
      ],
      "text/plain": [
       "   filename                                   MouseID Treatmentgroup status DPI\n",
       "16 X506_Group1B_70dpi_RA_281_B_C7_P125.mzXML  506     Group1B        naive  75 \n",
       "17 X507_Group1B_70dpi_RA_282_B_C8_P125.mzXML  507     Group1B        naive  75 \n",
       "18 X508_Group1B_70dpi_RA_283_B_C9_P125.mzXML  508     Group1B        naive  75 \n",
       "19 X509_Group1B_70dpi_RA_284_B_C10_P125.mzXML 509     Group1B        naive  75 \n",
       "20 X510_Group1B_70dpi_RA_285_B_C11_P125.mzXML 510     Group1B        naive  75 \n",
       "21 X526_Group1B_70dpi_RA_286_B_C12_P125.mzXML 526     Group1B        naive  75 \n",
       "   organ well_position plate mass_400   mass_500   mass_600    mass_700   \n",
       "16 RA    C7            P125  0.01857290 0.01803368 0.000276647 0.001122779\n",
       "17 RA    C8            P125  0.01921623 0.01457777 0.000477393 0.001282485\n",
       "18 RA    C9            P125  0.03839549 0.04198100 0.000413115 0.010923034\n",
       "19 RA    C10           P125  0.01565495 0.02410419 0.000551592 0.008500000\n",
       "20 RA    C11           P125  0.03291191 0.02960000 0.000331893 0.007959684\n",
       "21 RA    C12           P125  0.02404570 0.01885878 0.000239692 0.016895539\n",
       "   mass_800   \n",
       "16 0.000000000\n",
       "17 0.000359235\n",
       "18 0.002420697\n",
       "19 0.000057500\n",
       "20 0.000545069\n",
       "21 0.001071320"
      ]
     },
     "metadata": {},
     "output_type": "display_data"
    },
    {
     "data": {
      "text/html": [
       "<ol class=list-inline>\n",
       "\t<li>30</li>\n",
       "\t<li>13</li>\n",
       "</ol>\n"
      ],
      "text/latex": [
       "\\begin{enumerate*}\n",
       "\\item 30\n",
       "\\item 13\n",
       "\\end{enumerate*}\n"
      ],
      "text/markdown": [
       "1. 30\n",
       "2. 13\n",
       "\n",
       "\n"
      ],
      "text/plain": [
       "[1] 30 13"
      ]
     },
     "metadata": {},
     "output_type": "display_data"
    },
    {
     "data": {
      "text/html": [
       "<ol class=list-inline>\n",
       "\t<li>30</li>\n",
       "\t<li>5</li>\n",
       "</ol>\n"
      ],
      "text/latex": [
       "\\begin{enumerate*}\n",
       "\\item 30\n",
       "\\item 5\n",
       "\\end{enumerate*}\n"
      ],
      "text/markdown": [
       "1. 30\n",
       "2. 5\n",
       "\n",
       "\n"
      ],
      "text/plain": [
       "[1] 30  5"
      ]
     },
     "metadata": {},
     "output_type": "display_data"
    },
    {
     "data": {
      "text/html": [
       "<ol class=list-inline>\n",
       "\t<li>30</li>\n",
       "\t<li>5</li>\n",
       "</ol>\n"
      ],
      "text/latex": [
       "\\begin{enumerate*}\n",
       "\\item 30\n",
       "\\item 5\n",
       "\\end{enumerate*}\n"
      ],
      "text/markdown": [
       "1. 30\n",
       "2. 5\n",
       "\n",
       "\n"
      ],
      "text/plain": [
       "[1] 30  5"
      ]
     },
     "metadata": {},
     "output_type": "display_data"
    },
    {
     "data": {
      "text/html": [
       "<ol class=list-inline>\n",
       "\t<li>30</li>\n",
       "\t<li>13</li>\n",
       "</ol>\n"
      ],
      "text/latex": [
       "\\begin{enumerate*}\n",
       "\\item 30\n",
       "\\item 13\n",
       "\\end{enumerate*}\n"
      ],
      "text/markdown": [
       "1. 30\n",
       "2. 13\n",
       "\n",
       "\n"
      ],
      "text/plain": [
       "[1] 30 13"
      ]
     },
     "metadata": {},
     "output_type": "display_data"
    }
   ],
   "source": [
    "noMeta<-features_pos[,9:13]\n",
    "head(noMeta)\n",
    "not_zero<-which(colSums(noMeta) != 0)\n",
    "head(not_zero)\n",
    "nonzero <- noMeta[, not_zero]\n",
    "nonzero\n",
    "nonzero_wMeta<-cbind(features_pos[,1:8], nonzero)\n",
    "head(nonzero_wMeta)\n",
    "dim(features_pos)\n",
    "dim(noMeta)\n",
    "dim(nonzero)\n",
    "dim(nonzero_wMeta)"
   ]
  },
  {
   "cell_type": "code",
   "execution_count": 15,
   "metadata": {
    "scrolled": true
   },
   "outputs": [
    {
     "name": "stderr",
     "output_type": "stream",
     "text": [
      "Warning message in wilcox.test.default(x = c(0, 0.000359235, 0.002420697, 5.75e-05, :\n",
      "\"cannot compute exact p-value with ties\""
     ]
    },
    {
     "data": {
      "text/html": [
       "<ol class=list-inline>\n",
       "\t<li>0.0112560077030628</li>\n",
       "\t<li>0.00570350789517522</li>\n",
       "\t<li>0.0674961538838424</li>\n",
       "\t<li>0.0294964746728803</li>\n",
       "\t<li>0.0110830125681161</li>\n",
       "</ol>\n"
      ],
      "text/latex": [
       "\\begin{enumerate*}\n",
       "\\item 0.0112560077030628\n",
       "\\item 0.00570350789517522\n",
       "\\item 0.0674961538838424\n",
       "\\item 0.0294964746728803\n",
       "\\item 0.0110830125681161\n",
       "\\end{enumerate*}\n"
      ],
      "text/markdown": [
       "1. 0.0112560077030628\n",
       "2. 0.00570350789517522\n",
       "3. 0.0674961538838424\n",
       "4. 0.0294964746728803\n",
       "5. 0.0110830125681161\n",
       "\n",
       "\n"
      ],
      "text/plain": [
       "[1] 0.011256008 0.005703508 0.067496154 0.029496475 0.011083013"
      ]
     },
     "metadata": {},
     "output_type": "display_data"
    },
    {
     "data": {
      "text/html": [
       "<ol class=list-inline>\n",
       "\t<li>0.018760012838438</li>\n",
       "\t<li>0.018760012838438</li>\n",
       "\t<li>0.0674961538838424</li>\n",
       "\t<li>0.0368705933411003</li>\n",
       "\t<li>0.018760012838438</li>\n",
       "</ol>\n"
      ],
      "text/latex": [
       "\\begin{enumerate*}\n",
       "\\item 0.018760012838438\n",
       "\\item 0.018760012838438\n",
       "\\item 0.0674961538838424\n",
       "\\item 0.0368705933411003\n",
       "\\item 0.018760012838438\n",
       "\\end{enumerate*}\n"
      ],
      "text/markdown": [
       "1. 0.018760012838438\n",
       "2. 0.018760012838438\n",
       "3. 0.0674961538838424\n",
       "4. 0.0368705933411003\n",
       "5. 0.018760012838438\n",
       "\n",
       "\n"
      ],
      "text/plain": [
       "[1] 0.01876001 0.01876001 0.06749615 0.03687059 0.01876001"
      ]
     },
     "metadata": {},
     "output_type": "display_data"
    }
   ],
   "source": [
    "pval<-c()\n",
    "\n",
    "for (i in 9:ncol(nonzero_wMeta)) \n",
    "pval<-c(pval,wilcox.test(nonzero_wMeta[,i]~nonzero_wMeta$Treatmentgroup)$p.value)\n",
    "head(pval)\n",
    "pAdj <- p.adjust(pval, method = c(\"fdr\"), n=length(pval)) \n",
    "head(pAdj) \n",
    "\n"
   ]
  },
  {
   "cell_type": "code",
   "execution_count": 16,
   "metadata": {
    "scrolled": true
   },
   "outputs": [
    {
     "data": {
      "text/html": [
       "5"
      ],
      "text/latex": [
       "5"
      ],
      "text/markdown": [
       "5"
      ],
      "text/plain": [
       "[1] 5"
      ]
     },
     "metadata": {},
     "output_type": "display_data"
    }
   ],
   "source": [
    "length(pval)"
   ]
  },
  {
   "cell_type": "code",
   "execution_count": 17,
   "metadata": {
    "scrolled": true
   },
   "outputs": [
    {
     "data": {
      "text/html": [
       "5"
      ],
      "text/latex": [
       "5"
      ],
      "text/markdown": [
       "5"
      ],
      "text/plain": [
       "[1] 5"
      ]
     },
     "metadata": {},
     "output_type": "display_data"
    }
   ],
   "source": [
    "length(pAdj)"
   ]
  },
  {
   "cell_type": "code",
   "execution_count": 18,
   "metadata": {},
   "outputs": [
    {
     "data": {
      "text/html": [
       "<ol class=list-inline>\n",
       "\t<li>2</li>\n",
       "\t<li>5</li>\n",
       "</ol>\n"
      ],
      "text/latex": [
       "\\begin{enumerate*}\n",
       "\\item 2\n",
       "\\item 5\n",
       "\\end{enumerate*}\n"
      ],
      "text/markdown": [
       "1. 2\n",
       "2. 5\n",
       "\n",
       "\n"
      ],
      "text/plain": [
       "[1] 2 5"
      ]
     },
     "metadata": {},
     "output_type": "display_data"
    },
    {
     "data": {
      "text/html": [
       "<table>\n",
       "<thead><tr><th></th><th scope=col>mass_400</th><th scope=col>mass_500</th><th scope=col>mass_600</th></tr></thead>\n",
       "<tbody>\n",
       "\t<tr><th scope=row>Group1B</th><td>0.02363558  </td><td>0.02664782  </td><td>0.0003745376</td></tr>\n",
       "\t<tr><th scope=row>Group3B</th><td>0.03795206  </td><td>0.04878696  </td><td>0.0007305694</td></tr>\n",
       "</tbody>\n",
       "</table>\n"
      ],
      "text/latex": [
       "\\begin{tabular}{r|lll}\n",
       "  & mass\\_400 & mass\\_500 & mass\\_600\\\\\n",
       "\\hline\n",
       "\tGroup1B & 0.02363558   & 0.02664782   & 0.0003745376\\\\\n",
       "\tGroup3B & 0.03795206   & 0.04878696   & 0.0007305694\\\\\n",
       "\\end{tabular}\n"
      ],
      "text/markdown": [
       "\n",
       "| <!--/--> | mass_400 | mass_500 | mass_600 |\n",
       "|---|---|---|---|\n",
       "| Group1B | 0.02363558   | 0.02664782   | 0.0003745376 |\n",
       "| Group3B | 0.03795206   | 0.04878696   | 0.0007305694 |\n",
       "\n"
      ],
      "text/plain": [
       "        mass_400   mass_500   mass_600    \n",
       "Group1B 0.02363558 0.02664782 0.0003745376\n",
       "Group3B 0.03795206 0.04878696 0.0007305694"
      ]
     },
     "metadata": {},
     "output_type": "display_data"
    },
    {
     "data": {
      "text/html": [
       "<dl class=dl-horizontal>\n",
       "\t<dt>mass_400</dt>\n",
       "\t\t<dd>0.622774554980733</dd>\n",
       "\t<dt>mass_500</dt>\n",
       "\t\t<dd>0.546207883836418</dd>\n",
       "\t<dt>mass_600</dt>\n",
       "\t\t<dd>0.512665326524763</dd>\n",
       "\t<dt>mass_700</dt>\n",
       "\t\t<dd>0.421986042567652</dd>\n",
       "\t<dt>mass_800</dt>\n",
       "\t\t<dd>0.160794388266023</dd>\n",
       "</dl>\n"
      ],
      "text/latex": [
       "\\begin{description*}\n",
       "\\item[mass\\textbackslash{}\\_400] 0.622774554980733\n",
       "\\item[mass\\textbackslash{}\\_500] 0.546207883836418\n",
       "\\item[mass\\textbackslash{}\\_600] 0.512665326524763\n",
       "\\item[mass\\textbackslash{}\\_700] 0.421986042567652\n",
       "\\item[mass\\textbackslash{}\\_800] 0.160794388266023\n",
       "\\end{description*}\n"
      ],
      "text/markdown": [
       "mass_400\n",
       ":   0.622774554980733mass_500\n",
       ":   0.546207883836418mass_600\n",
       ":   0.512665326524763mass_700\n",
       ":   0.421986042567652mass_800\n",
       ":   0.160794388266023\n",
       "\n"
      ],
      "text/plain": [
       " mass_400  mass_500  mass_600  mass_700  mass_800 \n",
       "0.6227746 0.5462079 0.5126653 0.4219860 0.1607944 "
      ]
     },
     "metadata": {},
     "output_type": "display_data"
    },
    {
     "data": {
      "text/html": [
       "<ol class=list-inline>\n",
       "\t<li>'numeric'</li>\n",
       "\t<li>'vector'</li>\n",
       "</ol>\n"
      ],
      "text/latex": [
       "\\begin{enumerate*}\n",
       "\\item 'numeric'\n",
       "\\item 'vector'\n",
       "\\end{enumerate*}\n"
      ],
      "text/markdown": [
       "1. 'numeric'\n",
       "2. 'vector'\n",
       "\n",
       "\n"
      ],
      "text/plain": [
       "[1] \"numeric\" \"vector\" "
      ]
     },
     "metadata": {},
     "output_type": "display_data"
    }
   ],
   "source": [
    "avg<- apply(nonzero_wMeta[,9:ncol(nonzero_wMeta)], 2, function(x) tapply(x, nonzero_wMeta$Treatmentgroup, function(x) mean(x))) \n",
    "\n",
    "dim(avg)\n",
    "\n",
    "avg[,1:3]\n",
    "\n",
    "fch <- apply(avg, 2, function(x) x[1]/x[2]) \n",
    "\n",
    "head(fch)\n",
    "is(fch)"
   ]
  },
  {
   "cell_type": "code",
   "execution_count": 19,
   "metadata": {
    "scrolled": true
   },
   "outputs": [
    {
     "data": {
      "text/html": [
       "<dl class=dl-horizontal>\n",
       "\t<dt>mass_400</dt>\n",
       "\t\t<dd>0.622774554980733</dd>\n",
       "\t<dt>mass_500</dt>\n",
       "\t\t<dd>0.546207883836418</dd>\n",
       "\t<dt>mass_600</dt>\n",
       "\t\t<dd>0.512665326524763</dd>\n",
       "\t<dt>mass_700</dt>\n",
       "\t\t<dd>0.421986042567652</dd>\n",
       "\t<dt>mass_800</dt>\n",
       "\t\t<dd>0.160794388266023</dd>\n",
       "</dl>\n"
      ],
      "text/latex": [
       "\\begin{description*}\n",
       "\\item[mass\\textbackslash{}\\_400] 0.622774554980733\n",
       "\\item[mass\\textbackslash{}\\_500] 0.546207883836418\n",
       "\\item[mass\\textbackslash{}\\_600] 0.512665326524763\n",
       "\\item[mass\\textbackslash{}\\_700] 0.421986042567652\n",
       "\\item[mass\\textbackslash{}\\_800] 0.160794388266023\n",
       "\\end{description*}\n"
      ],
      "text/markdown": [
       "mass_400\n",
       ":   0.622774554980733mass_500\n",
       ":   0.546207883836418mass_600\n",
       ":   0.512665326524763mass_700\n",
       ":   0.421986042567652mass_800\n",
       ":   0.160794388266023\n",
       "\n"
      ],
      "text/plain": [
       " mass_400  mass_500  mass_600  mass_700  mass_800 \n",
       "0.6227746 0.5462079 0.5126653 0.4219860 0.1607944 "
      ]
     },
     "metadata": {},
     "output_type": "display_data"
    }
   ],
   "source": [
    "fch"
   ]
  },
  {
   "cell_type": "code",
   "execution_count": 20,
   "metadata": {
    "scrolled": false
   },
   "outputs": [],
   "source": [
    "df <- data.frame(fch,pval, pAdj)\n",
    "write.csv(df, \"PC-time-RA-wilcox-1B-3B.csv\")"
   ]
  },
  {
   "cell_type": "code",
   "execution_count": null,
   "metadata": {},
   "outputs": [],
   "source": []
  },
  {
   "cell_type": "code",
   "execution_count": null,
   "metadata": {},
   "outputs": [],
   "source": []
  },
  {
   "cell_type": "code",
   "execution_count": null,
   "metadata": {},
   "outputs": [],
   "source": []
  },
  {
   "cell_type": "code",
   "execution_count": null,
   "metadata": {},
   "outputs": [],
   "source": []
  },
  {
   "cell_type": "code",
   "execution_count": null,
   "metadata": {},
   "outputs": [],
   "source": []
  },
  {
   "cell_type": "code",
   "execution_count": null,
   "metadata": {},
   "outputs": [],
   "source": []
  }
 ],
 "metadata": {
  "kernelspec": {
   "display_name": "R",
   "language": "R",
   "name": "ir"
  },
  "language_info": {
   "codemirror_mode": "r",
   "file_extension": ".r",
   "mimetype": "text/x-r-source",
   "name": "R",
   "pygments_lexer": "r",
   "version": "3.6.1"
  }
 },
 "nbformat": 4,
 "nbformat_minor": 2
}
