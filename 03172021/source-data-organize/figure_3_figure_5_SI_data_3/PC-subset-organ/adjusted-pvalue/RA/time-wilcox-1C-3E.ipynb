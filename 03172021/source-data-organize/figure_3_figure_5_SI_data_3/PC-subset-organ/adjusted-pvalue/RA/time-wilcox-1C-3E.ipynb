{
 "cells": [
  {
   "cell_type": "code",
   "execution_count": 1,
   "metadata": {},
   "outputs": [],
   "source": [
    "a <- read.csv(\"03172021-PC-time-RA-M-F.csv\")"
   ]
  },
  {
   "cell_type": "code",
   "execution_count": 2,
   "metadata": {},
   "outputs": [
    {
     "data": {
      "text/html": [
       "<table>\n",
       "<thead><tr><th scope=col>filename</th><th scope=col>MouseID</th><th scope=col>Treatmentgroup</th><th scope=col>status</th><th scope=col>DPI</th><th scope=col>organ</th><th scope=col>well_position</th><th scope=col>plate</th><th scope=col>mass_400</th><th scope=col>mass_500</th><th scope=col>mass_600</th><th scope=col>mass_700</th><th scope=col>mass_800</th></tr></thead>\n",
       "<tbody>\n",
       "\t<tr><td>X501_Group1A_50dpi_RA_251_B_A1_P125.mzXML</td><td>501                                      </td><td>Group1A                                  </td><td>naive                                    </td><td>50                                       </td><td>RA                                       </td><td>A1                                       </td><td>P125                                     </td><td>0.02783425                               </td><td>0.04399547                               </td><td>0.001158695                              </td><td>0.023595791                              </td><td>0.008372238                              </td></tr>\n",
       "\t<tr><td>X502_Group1A_50dpi_RA_252_B_A2_P125.mzXML</td><td>502                                      </td><td>Group1A                                  </td><td>naive                                    </td><td>50                                       </td><td>RA                                       </td><td>A2                                       </td><td>P125                                     </td><td>0.03378540                               </td><td>0.04300000                               </td><td>0.000571394                              </td><td>0.015961516                              </td><td>0.002533112                              </td></tr>\n",
       "\t<tr><td>X503_Group1A_50dpi_RA_253_B_A3_P125.mzXML</td><td>503                                      </td><td>Group1A                                  </td><td>naive                                    </td><td>50                                       </td><td>RA                                       </td><td>A3                                       </td><td>P125                                     </td><td>0.01826321                               </td><td>0.02399175                               </td><td>0.000426553                              </td><td>0.006921314                              </td><td>0.005986740                              </td></tr>\n",
       "\t<tr><td>X504_Group1A_50dpi_RA_254_B_A4_P125.mzXML</td><td>504                                      </td><td>Group1A                                  </td><td>naive                                    </td><td>50                                       </td><td>RA                                       </td><td>A4                                       </td><td>P125                                     </td><td>0.02336948                               </td><td>0.02439774                               </td><td>0.000282014                              </td><td>0.001110971                              </td><td>0.000516804                              </td></tr>\n",
       "\t<tr><td>X505_Group1A_50dpi_RA_255_B_A5_P125.mzXML</td><td>505                                      </td><td>Group1A                                  </td><td>naive                                    </td><td>50                                       </td><td>RA                                       </td><td>A5                                       </td><td>P125                                     </td><td>0.02367537                               </td><td>0.03248531                               </td><td>0.000438144                              </td><td>0.008931290                              </td><td>0.002606911                              </td></tr>\n",
       "\t<tr><td>X521_Group1A_50dpi_RA_256_B_A6_P125.mzXML</td><td>521                                      </td><td>Group1A                                  </td><td>naive                                    </td><td>50                                       </td><td>RA                                       </td><td>A6                                       </td><td>P125                                     </td><td>0.02534834                               </td><td>0.01977122                               </td><td>0.000199671                              </td><td>0.002390123                              </td><td>0.003758617                              </td></tr>\n",
       "</tbody>\n",
       "</table>\n"
      ],
      "text/latex": [
       "\\begin{tabular}{r|lllllllllllll}\n",
       " filename & MouseID & Treatmentgroup & status & DPI & organ & well\\_position & plate & mass\\_400 & mass\\_500 & mass\\_600 & mass\\_700 & mass\\_800\\\\\n",
       "\\hline\n",
       "\t X501\\_Group1A\\_50dpi\\_RA\\_251\\_B\\_A1\\_P125.mzXML & 501                                                     & Group1A                                                 & naive                                                   & 50                                                      & RA                                                      & A1                                                      & P125                                                    & 0.02783425                                              & 0.04399547                                              & 0.001158695                                             & 0.023595791                                             & 0.008372238                                            \\\\\n",
       "\t X502\\_Group1A\\_50dpi\\_RA\\_252\\_B\\_A2\\_P125.mzXML & 502                                                     & Group1A                                                 & naive                                                   & 50                                                      & RA                                                      & A2                                                      & P125                                                    & 0.03378540                                              & 0.04300000                                              & 0.000571394                                             & 0.015961516                                             & 0.002533112                                            \\\\\n",
       "\t X503\\_Group1A\\_50dpi\\_RA\\_253\\_B\\_A3\\_P125.mzXML & 503                                                     & Group1A                                                 & naive                                                   & 50                                                      & RA                                                      & A3                                                      & P125                                                    & 0.01826321                                              & 0.02399175                                              & 0.000426553                                             & 0.006921314                                             & 0.005986740                                            \\\\\n",
       "\t X504\\_Group1A\\_50dpi\\_RA\\_254\\_B\\_A4\\_P125.mzXML & 504                                                     & Group1A                                                 & naive                                                   & 50                                                      & RA                                                      & A4                                                      & P125                                                    & 0.02336948                                              & 0.02439774                                              & 0.000282014                                             & 0.001110971                                             & 0.000516804                                            \\\\\n",
       "\t X505\\_Group1A\\_50dpi\\_RA\\_255\\_B\\_A5\\_P125.mzXML & 505                                                     & Group1A                                                 & naive                                                   & 50                                                      & RA                                                      & A5                                                      & P125                                                    & 0.02367537                                              & 0.03248531                                              & 0.000438144                                             & 0.008931290                                             & 0.002606911                                            \\\\\n",
       "\t X521\\_Group1A\\_50dpi\\_RA\\_256\\_B\\_A6\\_P125.mzXML & 521                                                     & Group1A                                                 & naive                                                   & 50                                                      & RA                                                      & A6                                                      & P125                                                    & 0.02534834                                              & 0.01977122                                              & 0.000199671                                             & 0.002390123                                             & 0.003758617                                            \\\\\n",
       "\\end{tabular}\n"
      ],
      "text/markdown": [
       "\n",
       "| filename | MouseID | Treatmentgroup | status | DPI | organ | well_position | plate | mass_400 | mass_500 | mass_600 | mass_700 | mass_800 |\n",
       "|---|---|---|---|---|---|---|---|---|---|---|---|---|\n",
       "| X501_Group1A_50dpi_RA_251_B_A1_P125.mzXML | 501                                       | Group1A                                   | naive                                     | 50                                        | RA                                        | A1                                        | P125                                      | 0.02783425                                | 0.04399547                                | 0.001158695                               | 0.023595791                               | 0.008372238                               |\n",
       "| X502_Group1A_50dpi_RA_252_B_A2_P125.mzXML | 502                                       | Group1A                                   | naive                                     | 50                                        | RA                                        | A2                                        | P125                                      | 0.03378540                                | 0.04300000                                | 0.000571394                               | 0.015961516                               | 0.002533112                               |\n",
       "| X503_Group1A_50dpi_RA_253_B_A3_P125.mzXML | 503                                       | Group1A                                   | naive                                     | 50                                        | RA                                        | A3                                        | P125                                      | 0.01826321                                | 0.02399175                                | 0.000426553                               | 0.006921314                               | 0.005986740                               |\n",
       "| X504_Group1A_50dpi_RA_254_B_A4_P125.mzXML | 504                                       | Group1A                                   | naive                                     | 50                                        | RA                                        | A4                                        | P125                                      | 0.02336948                                | 0.02439774                                | 0.000282014                               | 0.001110971                               | 0.000516804                               |\n",
       "| X505_Group1A_50dpi_RA_255_B_A5_P125.mzXML | 505                                       | Group1A                                   | naive                                     | 50                                        | RA                                        | A5                                        | P125                                      | 0.02367537                                | 0.03248531                                | 0.000438144                               | 0.008931290                               | 0.002606911                               |\n",
       "| X521_Group1A_50dpi_RA_256_B_A6_P125.mzXML | 521                                       | Group1A                                   | naive                                     | 50                                        | RA                                        | A6                                        | P125                                      | 0.02534834                                | 0.01977122                                | 0.000199671                               | 0.002390123                               | 0.003758617                               |\n",
       "\n"
      ],
      "text/plain": [
       "  filename                                  MouseID Treatmentgroup status DPI\n",
       "1 X501_Group1A_50dpi_RA_251_B_A1_P125.mzXML 501     Group1A        naive  50 \n",
       "2 X502_Group1A_50dpi_RA_252_B_A2_P125.mzXML 502     Group1A        naive  50 \n",
       "3 X503_Group1A_50dpi_RA_253_B_A3_P125.mzXML 503     Group1A        naive  50 \n",
       "4 X504_Group1A_50dpi_RA_254_B_A4_P125.mzXML 504     Group1A        naive  50 \n",
       "5 X505_Group1A_50dpi_RA_255_B_A5_P125.mzXML 505     Group1A        naive  50 \n",
       "6 X521_Group1A_50dpi_RA_256_B_A6_P125.mzXML 521     Group1A        naive  50 \n",
       "  organ well_position plate mass_400   mass_500   mass_600    mass_700   \n",
       "1 RA    A1            P125  0.02783425 0.04399547 0.001158695 0.023595791\n",
       "2 RA    A2            P125  0.03378540 0.04300000 0.000571394 0.015961516\n",
       "3 RA    A3            P125  0.01826321 0.02399175 0.000426553 0.006921314\n",
       "4 RA    A4            P125  0.02336948 0.02439774 0.000282014 0.001110971\n",
       "5 RA    A5            P125  0.02367537 0.03248531 0.000438144 0.008931290\n",
       "6 RA    A6            P125  0.02534834 0.01977122 0.000199671 0.002390123\n",
       "  mass_800   \n",
       "1 0.008372238\n",
       "2 0.002533112\n",
       "3 0.005986740\n",
       "4 0.000516804\n",
       "5 0.002606911\n",
       "6 0.003758617"
      ]
     },
     "metadata": {},
     "output_type": "display_data"
    },
    {
     "data": {
      "text/html": [
       "<ol class=list-inline>\n",
       "\t<li>90</li>\n",
       "\t<li>13</li>\n",
       "</ol>\n"
      ],
      "text/latex": [
       "\\begin{enumerate*}\n",
       "\\item 90\n",
       "\\item 13\n",
       "\\end{enumerate*}\n"
      ],
      "text/markdown": [
       "1. 90\n",
       "2. 13\n",
       "\n",
       "\n"
      ],
      "text/plain": [
       "[1] 90 13"
      ]
     },
     "metadata": {},
     "output_type": "display_data"
    }
   ],
   "source": [
    "head(a)\n",
    "dim(a)"
   ]
  },
  {
   "cell_type": "code",
   "execution_count": 3,
   "metadata": {},
   "outputs": [
    {
     "data": {
      "text/html": [
       "<table>\n",
       "<thead><tr><th></th><th scope=col>filename</th><th scope=col>MouseID</th><th scope=col>Treatmentgroup</th><th scope=col>status</th><th scope=col>DPI</th><th scope=col>organ</th><th scope=col>well_position</th><th scope=col>plate</th><th scope=col>mass_400</th><th scope=col>mass_500</th><th scope=col>mass_600</th><th scope=col>mass_700</th><th scope=col>mass_800</th></tr></thead>\n",
       "<tbody>\n",
       "\t<tr><th scope=row>31</th><td>X511_Group1C_142dpi_RA_161_G_A1_P124.mzXML</td><td>511                                       </td><td>Group1C                                   </td><td>naive                                     </td><td>142                                       </td><td>RA                                        </td><td>A1                                        </td><td>P124                                      </td><td>0.01994283                                </td><td>0.02502781                                </td><td>0.000415632                               </td><td>0.005854332                               </td><td>0.003647412                               </td></tr>\n",
       "\t<tr><th scope=row>32</th><td>X512_Group1C_142dpi_RA_162_G_A2_P124.mzXML</td><td>512                                       </td><td>Group1C                                   </td><td>naive                                     </td><td>142                                       </td><td>RA                                        </td><td>A2                                        </td><td>P124                                      </td><td>0.03626993                                </td><td>0.04240000                                </td><td>0.000906489                               </td><td>0.011036420                               </td><td>0.003723513                               </td></tr>\n",
       "\t<tr><th scope=row>33</th><td>X513_Group1C_142dpi_RA_163_G_A3_P124.mzXML</td><td>513                                       </td><td>Group1C                                   </td><td>naive                                     </td><td>142                                       </td><td>RA                                        </td><td>A3                                        </td><td>P124                                      </td><td>0.03151262                                </td><td>0.05470000                                </td><td>0.001419182                               </td><td>0.025528456                               </td><td>0.020909886                               </td></tr>\n",
       "\t<tr><th scope=row>34</th><td>X514_Group1C_142dpi_RA_164_G_A4_P124.mzXML</td><td>514                                       </td><td>Group1C                                   </td><td>naive                                     </td><td>142                                       </td><td>RA                                        </td><td>A4                                        </td><td>P124                                      </td><td>0.03428018                                </td><td>0.03961443                                </td><td>0.000910830                               </td><td>0.003097366                               </td><td>0.005380550                               </td></tr>\n",
       "\t<tr><th scope=row>35</th><td>X515_Group1C_142dpi_RA_165_G_A5_P124.mzXML</td><td>515                                       </td><td>Group1C                                   </td><td>naive                                     </td><td>142                                       </td><td>RA                                        </td><td>A5                                        </td><td>P124                                      </td><td>0.02349768                                </td><td>0.02730000                                </td><td>0.001071729                               </td><td>0.004059030                               </td><td>0.002179902                               </td></tr>\n",
       "\t<tr><th scope=row>36</th><td>X531_Group1C_142dpi_RA_166_G_A6_P124.mzXML</td><td>531                                       </td><td>Group1C                                   </td><td>naive                                     </td><td>142                                       </td><td>RA                                        </td><td>A6                                        </td><td>P124                                      </td><td>0.02585822                                </td><td>0.03340000                                </td><td>0.000938300                               </td><td>0.012900000                               </td><td>0.007982976                               </td></tr>\n",
       "</tbody>\n",
       "</table>\n"
      ],
      "text/latex": [
       "\\begin{tabular}{r|lllllllllllll}\n",
       "  & filename & MouseID & Treatmentgroup & status & DPI & organ & well\\_position & plate & mass\\_400 & mass\\_500 & mass\\_600 & mass\\_700 & mass\\_800\\\\\n",
       "\\hline\n",
       "\t31 & X511\\_Group1C\\_142dpi\\_RA\\_161\\_G\\_A1\\_P124.mzXML & 511                                                      & Group1C                                                  & naive                                                    & 142                                                      & RA                                                       & A1                                                       & P124                                                     & 0.01994283                                               & 0.02502781                                               & 0.000415632                                              & 0.005854332                                              & 0.003647412                                             \\\\\n",
       "\t32 & X512\\_Group1C\\_142dpi\\_RA\\_162\\_G\\_A2\\_P124.mzXML & 512                                                      & Group1C                                                  & naive                                                    & 142                                                      & RA                                                       & A2                                                       & P124                                                     & 0.03626993                                               & 0.04240000                                               & 0.000906489                                              & 0.011036420                                              & 0.003723513                                             \\\\\n",
       "\t33 & X513\\_Group1C\\_142dpi\\_RA\\_163\\_G\\_A3\\_P124.mzXML & 513                                                      & Group1C                                                  & naive                                                    & 142                                                      & RA                                                       & A3                                                       & P124                                                     & 0.03151262                                               & 0.05470000                                               & 0.001419182                                              & 0.025528456                                              & 0.020909886                                             \\\\\n",
       "\t34 & X514\\_Group1C\\_142dpi\\_RA\\_164\\_G\\_A4\\_P124.mzXML & 514                                                      & Group1C                                                  & naive                                                    & 142                                                      & RA                                                       & A4                                                       & P124                                                     & 0.03428018                                               & 0.03961443                                               & 0.000910830                                              & 0.003097366                                              & 0.005380550                                             \\\\\n",
       "\t35 & X515\\_Group1C\\_142dpi\\_RA\\_165\\_G\\_A5\\_P124.mzXML & 515                                                      & Group1C                                                  & naive                                                    & 142                                                      & RA                                                       & A5                                                       & P124                                                     & 0.02349768                                               & 0.02730000                                               & 0.001071729                                              & 0.004059030                                              & 0.002179902                                             \\\\\n",
       "\t36 & X531\\_Group1C\\_142dpi\\_RA\\_166\\_G\\_A6\\_P124.mzXML & 531                                                      & Group1C                                                  & naive                                                    & 142                                                      & RA                                                       & A6                                                       & P124                                                     & 0.02585822                                               & 0.03340000                                               & 0.000938300                                              & 0.012900000                                              & 0.007982976                                             \\\\\n",
       "\\end{tabular}\n"
      ],
      "text/markdown": [
       "\n",
       "| <!--/--> | filename | MouseID | Treatmentgroup | status | DPI | organ | well_position | plate | mass_400 | mass_500 | mass_600 | mass_700 | mass_800 |\n",
       "|---|---|---|---|---|---|---|---|---|---|---|---|---|---|\n",
       "| 31 | X511_Group1C_142dpi_RA_161_G_A1_P124.mzXML | 511                                        | Group1C                                    | naive                                      | 142                                        | RA                                         | A1                                         | P124                                       | 0.01994283                                 | 0.02502781                                 | 0.000415632                                | 0.005854332                                | 0.003647412                                |\n",
       "| 32 | X512_Group1C_142dpi_RA_162_G_A2_P124.mzXML | 512                                        | Group1C                                    | naive                                      | 142                                        | RA                                         | A2                                         | P124                                       | 0.03626993                                 | 0.04240000                                 | 0.000906489                                | 0.011036420                                | 0.003723513                                |\n",
       "| 33 | X513_Group1C_142dpi_RA_163_G_A3_P124.mzXML | 513                                        | Group1C                                    | naive                                      | 142                                        | RA                                         | A3                                         | P124                                       | 0.03151262                                 | 0.05470000                                 | 0.001419182                                | 0.025528456                                | 0.020909886                                |\n",
       "| 34 | X514_Group1C_142dpi_RA_164_G_A4_P124.mzXML | 514                                        | Group1C                                    | naive                                      | 142                                        | RA                                         | A4                                         | P124                                       | 0.03428018                                 | 0.03961443                                 | 0.000910830                                | 0.003097366                                | 0.005380550                                |\n",
       "| 35 | X515_Group1C_142dpi_RA_165_G_A5_P124.mzXML | 515                                        | Group1C                                    | naive                                      | 142                                        | RA                                         | A5                                         | P124                                       | 0.02349768                                 | 0.02730000                                 | 0.001071729                                | 0.004059030                                | 0.002179902                                |\n",
       "| 36 | X531_Group1C_142dpi_RA_166_G_A6_P124.mzXML | 531                                        | Group1C                                    | naive                                      | 142                                        | RA                                         | A6                                         | P124                                       | 0.02585822                                 | 0.03340000                                 | 0.000938300                                | 0.012900000                                | 0.007982976                                |\n",
       "\n"
      ],
      "text/plain": [
       "   filename                                   MouseID Treatmentgroup status DPI\n",
       "31 X511_Group1C_142dpi_RA_161_G_A1_P124.mzXML 511     Group1C        naive  142\n",
       "32 X512_Group1C_142dpi_RA_162_G_A2_P124.mzXML 512     Group1C        naive  142\n",
       "33 X513_Group1C_142dpi_RA_163_G_A3_P124.mzXML 513     Group1C        naive  142\n",
       "34 X514_Group1C_142dpi_RA_164_G_A4_P124.mzXML 514     Group1C        naive  142\n",
       "35 X515_Group1C_142dpi_RA_165_G_A5_P124.mzXML 515     Group1C        naive  142\n",
       "36 X531_Group1C_142dpi_RA_166_G_A6_P124.mzXML 531     Group1C        naive  142\n",
       "   organ well_position plate mass_400   mass_500   mass_600    mass_700   \n",
       "31 RA    A1            P124  0.01994283 0.02502781 0.000415632 0.005854332\n",
       "32 RA    A2            P124  0.03626993 0.04240000 0.000906489 0.011036420\n",
       "33 RA    A3            P124  0.03151262 0.05470000 0.001419182 0.025528456\n",
       "34 RA    A4            P124  0.03428018 0.03961443 0.000910830 0.003097366\n",
       "35 RA    A5            P124  0.02349768 0.02730000 0.001071729 0.004059030\n",
       "36 RA    A6            P124  0.02585822 0.03340000 0.000938300 0.012900000\n",
       "   mass_800   \n",
       "31 0.003647412\n",
       "32 0.003723513\n",
       "33 0.020909886\n",
       "34 0.005380550\n",
       "35 0.002179902\n",
       "36 0.007982976"
      ]
     },
     "metadata": {},
     "output_type": "display_data"
    },
    {
     "data": {
      "text/html": [
       "<ol class=list-inline>\n",
       "\t<li>30</li>\n",
       "\t<li>13</li>\n",
       "</ol>\n"
      ],
      "text/latex": [
       "\\begin{enumerate*}\n",
       "\\item 30\n",
       "\\item 13\n",
       "\\end{enumerate*}\n"
      ],
      "text/markdown": [
       "1. 30\n",
       "2. 13\n",
       "\n",
       "\n"
      ],
      "text/plain": [
       "[1] 30 13"
      ]
     },
     "metadata": {},
     "output_type": "display_data"
    }
   ],
   "source": [
    "features_pos<-droplevels(subset(a, a$Treatmentgroup==c(\"Group1C\")|a$Treatmentgroup==c(\"Group3E\")))\n",
    "head(features_pos)\n",
    "dim(features_pos)"
   ]
  },
  {
   "cell_type": "code",
   "execution_count": 4,
   "metadata": {
    "scrolled": false
   },
   "outputs": [
    {
     "data": {
      "text/html": [
       "<table>\n",
       "<thead><tr><th></th><th scope=col>mass_400</th><th scope=col>mass_500</th><th scope=col>mass_600</th><th scope=col>mass_700</th><th scope=col>mass_800</th></tr></thead>\n",
       "<tbody>\n",
       "\t<tr><th scope=row>31</th><td>0.01994283 </td><td>0.02502781 </td><td>0.000415632</td><td>0.005854332</td><td>0.003647412</td></tr>\n",
       "\t<tr><th scope=row>32</th><td>0.03626993 </td><td>0.04240000 </td><td>0.000906489</td><td>0.011036420</td><td>0.003723513</td></tr>\n",
       "\t<tr><th scope=row>33</th><td>0.03151262 </td><td>0.05470000 </td><td>0.001419182</td><td>0.025528456</td><td>0.020909886</td></tr>\n",
       "\t<tr><th scope=row>34</th><td>0.03428018 </td><td>0.03961443 </td><td>0.000910830</td><td>0.003097366</td><td>0.005380550</td></tr>\n",
       "\t<tr><th scope=row>35</th><td>0.02349768 </td><td>0.02730000 </td><td>0.001071729</td><td>0.004059030</td><td>0.002179902</td></tr>\n",
       "\t<tr><th scope=row>36</th><td>0.02585822 </td><td>0.03340000 </td><td>0.000938300</td><td>0.012900000</td><td>0.007982976</td></tr>\n",
       "</tbody>\n",
       "</table>\n"
      ],
      "text/latex": [
       "\\begin{tabular}{r|lllll}\n",
       "  & mass\\_400 & mass\\_500 & mass\\_600 & mass\\_700 & mass\\_800\\\\\n",
       "\\hline\n",
       "\t31 & 0.01994283  & 0.02502781  & 0.000415632 & 0.005854332 & 0.003647412\\\\\n",
       "\t32 & 0.03626993  & 0.04240000  & 0.000906489 & 0.011036420 & 0.003723513\\\\\n",
       "\t33 & 0.03151262  & 0.05470000  & 0.001419182 & 0.025528456 & 0.020909886\\\\\n",
       "\t34 & 0.03428018  & 0.03961443  & 0.000910830 & 0.003097366 & 0.005380550\\\\\n",
       "\t35 & 0.02349768  & 0.02730000  & 0.001071729 & 0.004059030 & 0.002179902\\\\\n",
       "\t36 & 0.02585822  & 0.03340000  & 0.000938300 & 0.012900000 & 0.007982976\\\\\n",
       "\\end{tabular}\n"
      ],
      "text/markdown": [
       "\n",
       "| <!--/--> | mass_400 | mass_500 | mass_600 | mass_700 | mass_800 |\n",
       "|---|---|---|---|---|---|\n",
       "| 31 | 0.01994283  | 0.02502781  | 0.000415632 | 0.005854332 | 0.003647412 |\n",
       "| 32 | 0.03626993  | 0.04240000  | 0.000906489 | 0.011036420 | 0.003723513 |\n",
       "| 33 | 0.03151262  | 0.05470000  | 0.001419182 | 0.025528456 | 0.020909886 |\n",
       "| 34 | 0.03428018  | 0.03961443  | 0.000910830 | 0.003097366 | 0.005380550 |\n",
       "| 35 | 0.02349768  | 0.02730000  | 0.001071729 | 0.004059030 | 0.002179902 |\n",
       "| 36 | 0.02585822  | 0.03340000  | 0.000938300 | 0.012900000 | 0.007982976 |\n",
       "\n"
      ],
      "text/plain": [
       "   mass_400   mass_500   mass_600    mass_700    mass_800   \n",
       "31 0.01994283 0.02502781 0.000415632 0.005854332 0.003647412\n",
       "32 0.03626993 0.04240000 0.000906489 0.011036420 0.003723513\n",
       "33 0.03151262 0.05470000 0.001419182 0.025528456 0.020909886\n",
       "34 0.03428018 0.03961443 0.000910830 0.003097366 0.005380550\n",
       "35 0.02349768 0.02730000 0.001071729 0.004059030 0.002179902\n",
       "36 0.02585822 0.03340000 0.000938300 0.012900000 0.007982976"
      ]
     },
     "metadata": {},
     "output_type": "display_data"
    },
    {
     "data": {
      "text/html": [
       "<dl class=dl-horizontal>\n",
       "\t<dt>mass_400</dt>\n",
       "\t\t<dd>1</dd>\n",
       "\t<dt>mass_500</dt>\n",
       "\t\t<dd>2</dd>\n",
       "\t<dt>mass_600</dt>\n",
       "\t\t<dd>3</dd>\n",
       "\t<dt>mass_700</dt>\n",
       "\t\t<dd>4</dd>\n",
       "\t<dt>mass_800</dt>\n",
       "\t\t<dd>5</dd>\n",
       "</dl>\n"
      ],
      "text/latex": [
       "\\begin{description*}\n",
       "\\item[mass\\textbackslash{}\\_400] 1\n",
       "\\item[mass\\textbackslash{}\\_500] 2\n",
       "\\item[mass\\textbackslash{}\\_600] 3\n",
       "\\item[mass\\textbackslash{}\\_700] 4\n",
       "\\item[mass\\textbackslash{}\\_800] 5\n",
       "\\end{description*}\n"
      ],
      "text/markdown": [
       "mass_400\n",
       ":   1mass_500\n",
       ":   2mass_600\n",
       ":   3mass_700\n",
       ":   4mass_800\n",
       ":   5\n",
       "\n"
      ],
      "text/plain": [
       "mass_400 mass_500 mass_600 mass_700 mass_800 \n",
       "       1        2        3        4        5 "
      ]
     },
     "metadata": {},
     "output_type": "display_data"
    },
    {
     "data": {
      "text/html": [
       "<table>\n",
       "<thead><tr><th></th><th scope=col>mass_400</th><th scope=col>mass_500</th><th scope=col>mass_600</th><th scope=col>mass_700</th><th scope=col>mass_800</th></tr></thead>\n",
       "<tbody>\n",
       "\t<tr><th scope=row>31</th><td>0.01994283 </td><td>0.02502781 </td><td>0.000415632</td><td>0.005854332</td><td>0.003647412</td></tr>\n",
       "\t<tr><th scope=row>32</th><td>0.03626993 </td><td>0.04240000 </td><td>0.000906489</td><td>0.011036420</td><td>0.003723513</td></tr>\n",
       "\t<tr><th scope=row>33</th><td>0.03151262 </td><td>0.05470000 </td><td>0.001419182</td><td>0.025528456</td><td>0.020909886</td></tr>\n",
       "\t<tr><th scope=row>34</th><td>0.03428018 </td><td>0.03961443 </td><td>0.000910830</td><td>0.003097366</td><td>0.005380550</td></tr>\n",
       "\t<tr><th scope=row>35</th><td>0.02349768 </td><td>0.02730000 </td><td>0.001071729</td><td>0.004059030</td><td>0.002179902</td></tr>\n",
       "\t<tr><th scope=row>36</th><td>0.02585822 </td><td>0.03340000 </td><td>0.000938300</td><td>0.012900000</td><td>0.007982976</td></tr>\n",
       "\t<tr><th scope=row>37</th><td>0.02476167 </td><td>0.02610229 </td><td>0.000211087</td><td>0.007370659</td><td>0.004820024</td></tr>\n",
       "\t<tr><th scope=row>38</th><td>0.02894913 </td><td>0.03450000 </td><td>0.001267203</td><td>0.011881974</td><td>0.007826870</td></tr>\n",
       "\t<tr><th scope=row>39</th><td>0.03583814 </td><td>0.03608487 </td><td>0.000152300</td><td>0.000468412</td><td>0.000000000</td></tr>\n",
       "\t<tr><th scope=row>40</th><td>0.02374601 </td><td>0.03178839 </td><td>0.000581695</td><td>0.001106489</td><td>0.001231509</td></tr>\n",
       "\t<tr><th scope=row>41</th><td>0.02731335 </td><td>0.04370000 </td><td>0.001050680</td><td>0.026527290</td><td>0.024057841</td></tr>\n",
       "\t<tr><th scope=row>42</th><td>0.03145276 </td><td>0.03280000 </td><td>0.000927309</td><td>0.005411842</td><td>0.001951292</td></tr>\n",
       "\t<tr><th scope=row>43</th><td>0.02470598 </td><td>0.02852526 </td><td>0.000568868</td><td>0.004297495</td><td>0.003629028</td></tr>\n",
       "\t<tr><th scope=row>44</th><td>0.02331197 </td><td>0.03006067 </td><td>0.000644870</td><td>0.010448144</td><td>0.005401860</td></tr>\n",
       "\t<tr><th scope=row>45</th><td>0.03310381 </td><td>0.03490000 </td><td>0.001029930</td><td>0.008950000</td><td>0.005288455</td></tr>\n",
       "\t<tr><th scope=row>76</th><td>0.04669856 </td><td>0.04908409 </td><td>0.000932883</td><td>0.012035066</td><td>0.013508859</td></tr>\n",
       "\t<tr><th scope=row>77</th><td>0.05407460 </td><td>0.07636061 </td><td>0.000661701</td><td>0.034576449</td><td>0.007365232</td></tr>\n",
       "\t<tr><th scope=row>78</th><td>0.02467317 </td><td>0.02701181 </td><td>0.000416460</td><td>0.003147407</td><td>0.000313457</td></tr>\n",
       "\t<tr><th scope=row>79</th><td>0.02047675 </td><td>0.02690000 </td><td>0.000715276</td><td>0.025465232</td><td>0.022815355</td></tr>\n",
       "\t<tr><th scope=row>80</th><td>0.05055667 </td><td>0.06382728 </td><td>0.000854813</td><td>0.028639445</td><td>0.020467843</td></tr>\n",
       "\t<tr><th scope=row>81</th><td>0.02367722 </td><td>0.03227053 </td><td>0.000845291</td><td>0.024808733</td><td>0.017886095</td></tr>\n",
       "\t<tr><th scope=row>82</th><td>0.03314695 </td><td>0.02477444 </td><td>0.000508416</td><td>0.006772067</td><td>0.004919932</td></tr>\n",
       "\t<tr><th scope=row>83</th><td>0.02021587 </td><td>0.02630953 </td><td>0.000437160</td><td>0.016000000</td><td>0.012272432</td></tr>\n",
       "\t<tr><th scope=row>84</th><td>0.02046798 </td><td>0.02614886 </td><td>0.000716634</td><td>0.008185778</td><td>0.005800175</td></tr>\n",
       "\t<tr><th scope=row>85</th><td>0.02977158 </td><td>0.03046579 </td><td>0.000477303</td><td>0.008640208</td><td>0.002907744</td></tr>\n",
       "\t<tr><th scope=row>86</th><td>0.05801549 </td><td>0.05570844 </td><td>0.000765283</td><td>0.008750499</td><td>0.001449073</td></tr>\n",
       "\t<tr><th scope=row>87</th><td>0.04835515 </td><td>0.05360000 </td><td>0.001097576</td><td>0.004082002</td><td>0.002340524</td></tr>\n",
       "\t<tr><th scope=row>88</th><td>0.03144607 </td><td>0.03210494 </td><td>0.000808940</td><td>0.017815617</td><td>0.011696208</td></tr>\n",
       "\t<tr><th scope=row>89</th><td>0.02899131 </td><td>0.03253160 </td><td>0.000706669</td><td>0.005969374</td><td>0.005093265</td></tr>\n",
       "\t<tr><th scope=row>90</th><td>0.04328778 </td><td>0.04780000 </td><td>0.000622025</td><td>0.004743727</td><td>0.000196872</td></tr>\n",
       "</tbody>\n",
       "</table>\n"
      ],
      "text/latex": [
       "\\begin{tabular}{r|lllll}\n",
       "  & mass\\_400 & mass\\_500 & mass\\_600 & mass\\_700 & mass\\_800\\\\\n",
       "\\hline\n",
       "\t31 & 0.01994283  & 0.02502781  & 0.000415632 & 0.005854332 & 0.003647412\\\\\n",
       "\t32 & 0.03626993  & 0.04240000  & 0.000906489 & 0.011036420 & 0.003723513\\\\\n",
       "\t33 & 0.03151262  & 0.05470000  & 0.001419182 & 0.025528456 & 0.020909886\\\\\n",
       "\t34 & 0.03428018  & 0.03961443  & 0.000910830 & 0.003097366 & 0.005380550\\\\\n",
       "\t35 & 0.02349768  & 0.02730000  & 0.001071729 & 0.004059030 & 0.002179902\\\\\n",
       "\t36 & 0.02585822  & 0.03340000  & 0.000938300 & 0.012900000 & 0.007982976\\\\\n",
       "\t37 & 0.02476167  & 0.02610229  & 0.000211087 & 0.007370659 & 0.004820024\\\\\n",
       "\t38 & 0.02894913  & 0.03450000  & 0.001267203 & 0.011881974 & 0.007826870\\\\\n",
       "\t39 & 0.03583814  & 0.03608487  & 0.000152300 & 0.000468412 & 0.000000000\\\\\n",
       "\t40 & 0.02374601  & 0.03178839  & 0.000581695 & 0.001106489 & 0.001231509\\\\\n",
       "\t41 & 0.02731335  & 0.04370000  & 0.001050680 & 0.026527290 & 0.024057841\\\\\n",
       "\t42 & 0.03145276  & 0.03280000  & 0.000927309 & 0.005411842 & 0.001951292\\\\\n",
       "\t43 & 0.02470598  & 0.02852526  & 0.000568868 & 0.004297495 & 0.003629028\\\\\n",
       "\t44 & 0.02331197  & 0.03006067  & 0.000644870 & 0.010448144 & 0.005401860\\\\\n",
       "\t45 & 0.03310381  & 0.03490000  & 0.001029930 & 0.008950000 & 0.005288455\\\\\n",
       "\t76 & 0.04669856  & 0.04908409  & 0.000932883 & 0.012035066 & 0.013508859\\\\\n",
       "\t77 & 0.05407460  & 0.07636061  & 0.000661701 & 0.034576449 & 0.007365232\\\\\n",
       "\t78 & 0.02467317  & 0.02701181  & 0.000416460 & 0.003147407 & 0.000313457\\\\\n",
       "\t79 & 0.02047675  & 0.02690000  & 0.000715276 & 0.025465232 & 0.022815355\\\\\n",
       "\t80 & 0.05055667  & 0.06382728  & 0.000854813 & 0.028639445 & 0.020467843\\\\\n",
       "\t81 & 0.02367722  & 0.03227053  & 0.000845291 & 0.024808733 & 0.017886095\\\\\n",
       "\t82 & 0.03314695  & 0.02477444  & 0.000508416 & 0.006772067 & 0.004919932\\\\\n",
       "\t83 & 0.02021587  & 0.02630953  & 0.000437160 & 0.016000000 & 0.012272432\\\\\n",
       "\t84 & 0.02046798  & 0.02614886  & 0.000716634 & 0.008185778 & 0.005800175\\\\\n",
       "\t85 & 0.02977158  & 0.03046579  & 0.000477303 & 0.008640208 & 0.002907744\\\\\n",
       "\t86 & 0.05801549  & 0.05570844  & 0.000765283 & 0.008750499 & 0.001449073\\\\\n",
       "\t87 & 0.04835515  & 0.05360000  & 0.001097576 & 0.004082002 & 0.002340524\\\\\n",
       "\t88 & 0.03144607  & 0.03210494  & 0.000808940 & 0.017815617 & 0.011696208\\\\\n",
       "\t89 & 0.02899131  & 0.03253160  & 0.000706669 & 0.005969374 & 0.005093265\\\\\n",
       "\t90 & 0.04328778  & 0.04780000  & 0.000622025 & 0.004743727 & 0.000196872\\\\\n",
       "\\end{tabular}\n"
      ],
      "text/markdown": [
       "\n",
       "| <!--/--> | mass_400 | mass_500 | mass_600 | mass_700 | mass_800 |\n",
       "|---|---|---|---|---|---|\n",
       "| 31 | 0.01994283  | 0.02502781  | 0.000415632 | 0.005854332 | 0.003647412 |\n",
       "| 32 | 0.03626993  | 0.04240000  | 0.000906489 | 0.011036420 | 0.003723513 |\n",
       "| 33 | 0.03151262  | 0.05470000  | 0.001419182 | 0.025528456 | 0.020909886 |\n",
       "| 34 | 0.03428018  | 0.03961443  | 0.000910830 | 0.003097366 | 0.005380550 |\n",
       "| 35 | 0.02349768  | 0.02730000  | 0.001071729 | 0.004059030 | 0.002179902 |\n",
       "| 36 | 0.02585822  | 0.03340000  | 0.000938300 | 0.012900000 | 0.007982976 |\n",
       "| 37 | 0.02476167  | 0.02610229  | 0.000211087 | 0.007370659 | 0.004820024 |\n",
       "| 38 | 0.02894913  | 0.03450000  | 0.001267203 | 0.011881974 | 0.007826870 |\n",
       "| 39 | 0.03583814  | 0.03608487  | 0.000152300 | 0.000468412 | 0.000000000 |\n",
       "| 40 | 0.02374601  | 0.03178839  | 0.000581695 | 0.001106489 | 0.001231509 |\n",
       "| 41 | 0.02731335  | 0.04370000  | 0.001050680 | 0.026527290 | 0.024057841 |\n",
       "| 42 | 0.03145276  | 0.03280000  | 0.000927309 | 0.005411842 | 0.001951292 |\n",
       "| 43 | 0.02470598  | 0.02852526  | 0.000568868 | 0.004297495 | 0.003629028 |\n",
       "| 44 | 0.02331197  | 0.03006067  | 0.000644870 | 0.010448144 | 0.005401860 |\n",
       "| 45 | 0.03310381  | 0.03490000  | 0.001029930 | 0.008950000 | 0.005288455 |\n",
       "| 76 | 0.04669856  | 0.04908409  | 0.000932883 | 0.012035066 | 0.013508859 |\n",
       "| 77 | 0.05407460  | 0.07636061  | 0.000661701 | 0.034576449 | 0.007365232 |\n",
       "| 78 | 0.02467317  | 0.02701181  | 0.000416460 | 0.003147407 | 0.000313457 |\n",
       "| 79 | 0.02047675  | 0.02690000  | 0.000715276 | 0.025465232 | 0.022815355 |\n",
       "| 80 | 0.05055667  | 0.06382728  | 0.000854813 | 0.028639445 | 0.020467843 |\n",
       "| 81 | 0.02367722  | 0.03227053  | 0.000845291 | 0.024808733 | 0.017886095 |\n",
       "| 82 | 0.03314695  | 0.02477444  | 0.000508416 | 0.006772067 | 0.004919932 |\n",
       "| 83 | 0.02021587  | 0.02630953  | 0.000437160 | 0.016000000 | 0.012272432 |\n",
       "| 84 | 0.02046798  | 0.02614886  | 0.000716634 | 0.008185778 | 0.005800175 |\n",
       "| 85 | 0.02977158  | 0.03046579  | 0.000477303 | 0.008640208 | 0.002907744 |\n",
       "| 86 | 0.05801549  | 0.05570844  | 0.000765283 | 0.008750499 | 0.001449073 |\n",
       "| 87 | 0.04835515  | 0.05360000  | 0.001097576 | 0.004082002 | 0.002340524 |\n",
       "| 88 | 0.03144607  | 0.03210494  | 0.000808940 | 0.017815617 | 0.011696208 |\n",
       "| 89 | 0.02899131  | 0.03253160  | 0.000706669 | 0.005969374 | 0.005093265 |\n",
       "| 90 | 0.04328778  | 0.04780000  | 0.000622025 | 0.004743727 | 0.000196872 |\n",
       "\n"
      ],
      "text/plain": [
       "   mass_400   mass_500   mass_600    mass_700    mass_800   \n",
       "31 0.01994283 0.02502781 0.000415632 0.005854332 0.003647412\n",
       "32 0.03626993 0.04240000 0.000906489 0.011036420 0.003723513\n",
       "33 0.03151262 0.05470000 0.001419182 0.025528456 0.020909886\n",
       "34 0.03428018 0.03961443 0.000910830 0.003097366 0.005380550\n",
       "35 0.02349768 0.02730000 0.001071729 0.004059030 0.002179902\n",
       "36 0.02585822 0.03340000 0.000938300 0.012900000 0.007982976\n",
       "37 0.02476167 0.02610229 0.000211087 0.007370659 0.004820024\n",
       "38 0.02894913 0.03450000 0.001267203 0.011881974 0.007826870\n",
       "39 0.03583814 0.03608487 0.000152300 0.000468412 0.000000000\n",
       "40 0.02374601 0.03178839 0.000581695 0.001106489 0.001231509\n",
       "41 0.02731335 0.04370000 0.001050680 0.026527290 0.024057841\n",
       "42 0.03145276 0.03280000 0.000927309 0.005411842 0.001951292\n",
       "43 0.02470598 0.02852526 0.000568868 0.004297495 0.003629028\n",
       "44 0.02331197 0.03006067 0.000644870 0.010448144 0.005401860\n",
       "45 0.03310381 0.03490000 0.001029930 0.008950000 0.005288455\n",
       "76 0.04669856 0.04908409 0.000932883 0.012035066 0.013508859\n",
       "77 0.05407460 0.07636061 0.000661701 0.034576449 0.007365232\n",
       "78 0.02467317 0.02701181 0.000416460 0.003147407 0.000313457\n",
       "79 0.02047675 0.02690000 0.000715276 0.025465232 0.022815355\n",
       "80 0.05055667 0.06382728 0.000854813 0.028639445 0.020467843\n",
       "81 0.02367722 0.03227053 0.000845291 0.024808733 0.017886095\n",
       "82 0.03314695 0.02477444 0.000508416 0.006772067 0.004919932\n",
       "83 0.02021587 0.02630953 0.000437160 0.016000000 0.012272432\n",
       "84 0.02046798 0.02614886 0.000716634 0.008185778 0.005800175\n",
       "85 0.02977158 0.03046579 0.000477303 0.008640208 0.002907744\n",
       "86 0.05801549 0.05570844 0.000765283 0.008750499 0.001449073\n",
       "87 0.04835515 0.05360000 0.001097576 0.004082002 0.002340524\n",
       "88 0.03144607 0.03210494 0.000808940 0.017815617 0.011696208\n",
       "89 0.02899131 0.03253160 0.000706669 0.005969374 0.005093265\n",
       "90 0.04328778 0.04780000 0.000622025 0.004743727 0.000196872"
      ]
     },
     "metadata": {},
     "output_type": "display_data"
    },
    {
     "data": {
      "text/html": [
       "<table>\n",
       "<thead><tr><th></th><th scope=col>filename</th><th scope=col>MouseID</th><th scope=col>Treatmentgroup</th><th scope=col>status</th><th scope=col>DPI</th><th scope=col>organ</th><th scope=col>well_position</th><th scope=col>plate</th><th scope=col>mass_400</th><th scope=col>mass_500</th><th scope=col>mass_600</th><th scope=col>mass_700</th><th scope=col>mass_800</th></tr></thead>\n",
       "<tbody>\n",
       "\t<tr><th scope=row>31</th><td>X511_Group1C_142dpi_RA_161_G_A1_P124.mzXML</td><td>511                                       </td><td>Group1C                                   </td><td>naive                                     </td><td>142                                       </td><td>RA                                        </td><td>A1                                        </td><td>P124                                      </td><td>0.01994283                                </td><td>0.02502781                                </td><td>0.000415632                               </td><td>0.005854332                               </td><td>0.003647412                               </td></tr>\n",
       "\t<tr><th scope=row>32</th><td>X512_Group1C_142dpi_RA_162_G_A2_P124.mzXML</td><td>512                                       </td><td>Group1C                                   </td><td>naive                                     </td><td>142                                       </td><td>RA                                        </td><td>A2                                        </td><td>P124                                      </td><td>0.03626993                                </td><td>0.04240000                                </td><td>0.000906489                               </td><td>0.011036420                               </td><td>0.003723513                               </td></tr>\n",
       "\t<tr><th scope=row>33</th><td>X513_Group1C_142dpi_RA_163_G_A3_P124.mzXML</td><td>513                                       </td><td>Group1C                                   </td><td>naive                                     </td><td>142                                       </td><td>RA                                        </td><td>A3                                        </td><td>P124                                      </td><td>0.03151262                                </td><td>0.05470000                                </td><td>0.001419182                               </td><td>0.025528456                               </td><td>0.020909886                               </td></tr>\n",
       "\t<tr><th scope=row>34</th><td>X514_Group1C_142dpi_RA_164_G_A4_P124.mzXML</td><td>514                                       </td><td>Group1C                                   </td><td>naive                                     </td><td>142                                       </td><td>RA                                        </td><td>A4                                        </td><td>P124                                      </td><td>0.03428018                                </td><td>0.03961443                                </td><td>0.000910830                               </td><td>0.003097366                               </td><td>0.005380550                               </td></tr>\n",
       "\t<tr><th scope=row>35</th><td>X515_Group1C_142dpi_RA_165_G_A5_P124.mzXML</td><td>515                                       </td><td>Group1C                                   </td><td>naive                                     </td><td>142                                       </td><td>RA                                        </td><td>A5                                        </td><td>P124                                      </td><td>0.02349768                                </td><td>0.02730000                                </td><td>0.001071729                               </td><td>0.004059030                               </td><td>0.002179902                               </td></tr>\n",
       "\t<tr><th scope=row>36</th><td>X531_Group1C_142dpi_RA_166_G_A6_P124.mzXML</td><td>531                                       </td><td>Group1C                                   </td><td>naive                                     </td><td>142                                       </td><td>RA                                        </td><td>A6                                        </td><td>P124                                      </td><td>0.02585822                                </td><td>0.03340000                                </td><td>0.000938300                               </td><td>0.012900000                               </td><td>0.007982976                               </td></tr>\n",
       "</tbody>\n",
       "</table>\n"
      ],
      "text/latex": [
       "\\begin{tabular}{r|lllllllllllll}\n",
       "  & filename & MouseID & Treatmentgroup & status & DPI & organ & well\\_position & plate & mass\\_400 & mass\\_500 & mass\\_600 & mass\\_700 & mass\\_800\\\\\n",
       "\\hline\n",
       "\t31 & X511\\_Group1C\\_142dpi\\_RA\\_161\\_G\\_A1\\_P124.mzXML & 511                                                      & Group1C                                                  & naive                                                    & 142                                                      & RA                                                       & A1                                                       & P124                                                     & 0.01994283                                               & 0.02502781                                               & 0.000415632                                              & 0.005854332                                              & 0.003647412                                             \\\\\n",
       "\t32 & X512\\_Group1C\\_142dpi\\_RA\\_162\\_G\\_A2\\_P124.mzXML & 512                                                      & Group1C                                                  & naive                                                    & 142                                                      & RA                                                       & A2                                                       & P124                                                     & 0.03626993                                               & 0.04240000                                               & 0.000906489                                              & 0.011036420                                              & 0.003723513                                             \\\\\n",
       "\t33 & X513\\_Group1C\\_142dpi\\_RA\\_163\\_G\\_A3\\_P124.mzXML & 513                                                      & Group1C                                                  & naive                                                    & 142                                                      & RA                                                       & A3                                                       & P124                                                     & 0.03151262                                               & 0.05470000                                               & 0.001419182                                              & 0.025528456                                              & 0.020909886                                             \\\\\n",
       "\t34 & X514\\_Group1C\\_142dpi\\_RA\\_164\\_G\\_A4\\_P124.mzXML & 514                                                      & Group1C                                                  & naive                                                    & 142                                                      & RA                                                       & A4                                                       & P124                                                     & 0.03428018                                               & 0.03961443                                               & 0.000910830                                              & 0.003097366                                              & 0.005380550                                             \\\\\n",
       "\t35 & X515\\_Group1C\\_142dpi\\_RA\\_165\\_G\\_A5\\_P124.mzXML & 515                                                      & Group1C                                                  & naive                                                    & 142                                                      & RA                                                       & A5                                                       & P124                                                     & 0.02349768                                               & 0.02730000                                               & 0.001071729                                              & 0.004059030                                              & 0.002179902                                             \\\\\n",
       "\t36 & X531\\_Group1C\\_142dpi\\_RA\\_166\\_G\\_A6\\_P124.mzXML & 531                                                      & Group1C                                                  & naive                                                    & 142                                                      & RA                                                       & A6                                                       & P124                                                     & 0.02585822                                               & 0.03340000                                               & 0.000938300                                              & 0.012900000                                              & 0.007982976                                             \\\\\n",
       "\\end{tabular}\n"
      ],
      "text/markdown": [
       "\n",
       "| <!--/--> | filename | MouseID | Treatmentgroup | status | DPI | organ | well_position | plate | mass_400 | mass_500 | mass_600 | mass_700 | mass_800 |\n",
       "|---|---|---|---|---|---|---|---|---|---|---|---|---|---|\n",
       "| 31 | X511_Group1C_142dpi_RA_161_G_A1_P124.mzXML | 511                                        | Group1C                                    | naive                                      | 142                                        | RA                                         | A1                                         | P124                                       | 0.01994283                                 | 0.02502781                                 | 0.000415632                                | 0.005854332                                | 0.003647412                                |\n",
       "| 32 | X512_Group1C_142dpi_RA_162_G_A2_P124.mzXML | 512                                        | Group1C                                    | naive                                      | 142                                        | RA                                         | A2                                         | P124                                       | 0.03626993                                 | 0.04240000                                 | 0.000906489                                | 0.011036420                                | 0.003723513                                |\n",
       "| 33 | X513_Group1C_142dpi_RA_163_G_A3_P124.mzXML | 513                                        | Group1C                                    | naive                                      | 142                                        | RA                                         | A3                                         | P124                                       | 0.03151262                                 | 0.05470000                                 | 0.001419182                                | 0.025528456                                | 0.020909886                                |\n",
       "| 34 | X514_Group1C_142dpi_RA_164_G_A4_P124.mzXML | 514                                        | Group1C                                    | naive                                      | 142                                        | RA                                         | A4                                         | P124                                       | 0.03428018                                 | 0.03961443                                 | 0.000910830                                | 0.003097366                                | 0.005380550                                |\n",
       "| 35 | X515_Group1C_142dpi_RA_165_G_A5_P124.mzXML | 515                                        | Group1C                                    | naive                                      | 142                                        | RA                                         | A5                                         | P124                                       | 0.02349768                                 | 0.02730000                                 | 0.001071729                                | 0.004059030                                | 0.002179902                                |\n",
       "| 36 | X531_Group1C_142dpi_RA_166_G_A6_P124.mzXML | 531                                        | Group1C                                    | naive                                      | 142                                        | RA                                         | A6                                         | P124                                       | 0.02585822                                 | 0.03340000                                 | 0.000938300                                | 0.012900000                                | 0.007982976                                |\n",
       "\n"
      ],
      "text/plain": [
       "   filename                                   MouseID Treatmentgroup status DPI\n",
       "31 X511_Group1C_142dpi_RA_161_G_A1_P124.mzXML 511     Group1C        naive  142\n",
       "32 X512_Group1C_142dpi_RA_162_G_A2_P124.mzXML 512     Group1C        naive  142\n",
       "33 X513_Group1C_142dpi_RA_163_G_A3_P124.mzXML 513     Group1C        naive  142\n",
       "34 X514_Group1C_142dpi_RA_164_G_A4_P124.mzXML 514     Group1C        naive  142\n",
       "35 X515_Group1C_142dpi_RA_165_G_A5_P124.mzXML 515     Group1C        naive  142\n",
       "36 X531_Group1C_142dpi_RA_166_G_A6_P124.mzXML 531     Group1C        naive  142\n",
       "   organ well_position plate mass_400   mass_500   mass_600    mass_700   \n",
       "31 RA    A1            P124  0.01994283 0.02502781 0.000415632 0.005854332\n",
       "32 RA    A2            P124  0.03626993 0.04240000 0.000906489 0.011036420\n",
       "33 RA    A3            P124  0.03151262 0.05470000 0.001419182 0.025528456\n",
       "34 RA    A4            P124  0.03428018 0.03961443 0.000910830 0.003097366\n",
       "35 RA    A5            P124  0.02349768 0.02730000 0.001071729 0.004059030\n",
       "36 RA    A6            P124  0.02585822 0.03340000 0.000938300 0.012900000\n",
       "   mass_800   \n",
       "31 0.003647412\n",
       "32 0.003723513\n",
       "33 0.020909886\n",
       "34 0.005380550\n",
       "35 0.002179902\n",
       "36 0.007982976"
      ]
     },
     "metadata": {},
     "output_type": "display_data"
    },
    {
     "data": {
      "text/html": [
       "<ol class=list-inline>\n",
       "\t<li>30</li>\n",
       "\t<li>13</li>\n",
       "</ol>\n"
      ],
      "text/latex": [
       "\\begin{enumerate*}\n",
       "\\item 30\n",
       "\\item 13\n",
       "\\end{enumerate*}\n"
      ],
      "text/markdown": [
       "1. 30\n",
       "2. 13\n",
       "\n",
       "\n"
      ],
      "text/plain": [
       "[1] 30 13"
      ]
     },
     "metadata": {},
     "output_type": "display_data"
    },
    {
     "data": {
      "text/html": [
       "<ol class=list-inline>\n",
       "\t<li>30</li>\n",
       "\t<li>5</li>\n",
       "</ol>\n"
      ],
      "text/latex": [
       "\\begin{enumerate*}\n",
       "\\item 30\n",
       "\\item 5\n",
       "\\end{enumerate*}\n"
      ],
      "text/markdown": [
       "1. 30\n",
       "2. 5\n",
       "\n",
       "\n"
      ],
      "text/plain": [
       "[1] 30  5"
      ]
     },
     "metadata": {},
     "output_type": "display_data"
    },
    {
     "data": {
      "text/html": [
       "<ol class=list-inline>\n",
       "\t<li>30</li>\n",
       "\t<li>5</li>\n",
       "</ol>\n"
      ],
      "text/latex": [
       "\\begin{enumerate*}\n",
       "\\item 30\n",
       "\\item 5\n",
       "\\end{enumerate*}\n"
      ],
      "text/markdown": [
       "1. 30\n",
       "2. 5\n",
       "\n",
       "\n"
      ],
      "text/plain": [
       "[1] 30  5"
      ]
     },
     "metadata": {},
     "output_type": "display_data"
    },
    {
     "data": {
      "text/html": [
       "<ol class=list-inline>\n",
       "\t<li>30</li>\n",
       "\t<li>13</li>\n",
       "</ol>\n"
      ],
      "text/latex": [
       "\\begin{enumerate*}\n",
       "\\item 30\n",
       "\\item 13\n",
       "\\end{enumerate*}\n"
      ],
      "text/markdown": [
       "1. 30\n",
       "2. 13\n",
       "\n",
       "\n"
      ],
      "text/plain": [
       "[1] 30 13"
      ]
     },
     "metadata": {},
     "output_type": "display_data"
    }
   ],
   "source": [
    "noMeta<-features_pos[,9:13]\n",
    "head(noMeta)\n",
    "not_zero<-which(colSums(noMeta) != 0)\n",
    "head(not_zero)\n",
    "nonzero <- noMeta[, not_zero] \n",
    "nonzero\n",
    "nonzero_wMeta<-cbind(features_pos[,1:8], nonzero)\n",
    "head(nonzero_wMeta)\n",
    "dim(features_pos)\n",
    "dim(noMeta)\n",
    "dim(nonzero)\n",
    "dim(nonzero_wMeta)"
   ]
  },
  {
   "cell_type": "code",
   "execution_count": 5,
   "metadata": {
    "scrolled": true
   },
   "outputs": [
    {
     "data": {
      "text/html": [
       "<ol class=list-inline>\n",
       "\t<li>0.285440870895821</li>\n",
       "\t<li>0.838134776780856</li>\n",
       "\t<li>0.304590816047085</li>\n",
       "\t<li>0.201679436339622</li>\n",
       "\t<li>0.512486352283095</li>\n",
       "</ol>\n"
      ],
      "text/latex": [
       "\\begin{enumerate*}\n",
       "\\item 0.285440870895821\n",
       "\\item 0.838134776780856\n",
       "\\item 0.304590816047085\n",
       "\\item 0.201679436339622\n",
       "\\item 0.512486352283095\n",
       "\\end{enumerate*}\n"
      ],
      "text/markdown": [
       "1. 0.285440870895821\n",
       "2. 0.838134776780856\n",
       "3. 0.304590816047085\n",
       "4. 0.201679436339622\n",
       "5. 0.512486352283095\n",
       "\n",
       "\n"
      ],
      "text/plain": [
       "[1] 0.2854409 0.8381348 0.3045908 0.2016794 0.5124864"
      ]
     },
     "metadata": {},
     "output_type": "display_data"
    },
    {
     "data": {
      "text/html": [
       "<ol class=list-inline>\n",
       "\t<li>0.507651360078475</li>\n",
       "\t<li>0.838134776780856</li>\n",
       "\t<li>0.507651360078475</li>\n",
       "\t<li>0.507651360078475</li>\n",
       "\t<li>0.640607940353868</li>\n",
       "</ol>\n"
      ],
      "text/latex": [
       "\\begin{enumerate*}\n",
       "\\item 0.507651360078475\n",
       "\\item 0.838134776780856\n",
       "\\item 0.507651360078475\n",
       "\\item 0.507651360078475\n",
       "\\item 0.640607940353868\n",
       "\\end{enumerate*}\n"
      ],
      "text/markdown": [
       "1. 0.507651360078475\n",
       "2. 0.838134776780856\n",
       "3. 0.507651360078475\n",
       "4. 0.507651360078475\n",
       "5. 0.640607940353868\n",
       "\n",
       "\n"
      ],
      "text/plain": [
       "[1] 0.5076514 0.8381348 0.5076514 0.5076514 0.6406079"
      ]
     },
     "metadata": {},
     "output_type": "display_data"
    }
   ],
   "source": [
    "pval<-c()\n",
    "\n",
    "for (i in 9:ncol(nonzero_wMeta)) \n",
    "pval<-c(pval,wilcox.test(nonzero_wMeta[,i]~nonzero_wMeta$Treatmentgroup)$p.value)\n",
    "head(pval)\n",
    "pAdj <- p.adjust(pval, method = c(\"fdr\"), n=length(pval)) \n",
    "head(pAdj) \n",
    "\n"
   ]
  },
  {
   "cell_type": "code",
   "execution_count": 6,
   "metadata": {
    "scrolled": true
   },
   "outputs": [
    {
     "data": {
      "text/html": [
       "5"
      ],
      "text/latex": [
       "5"
      ],
      "text/markdown": [
       "5"
      ],
      "text/plain": [
       "[1] 5"
      ]
     },
     "metadata": {},
     "output_type": "display_data"
    }
   ],
   "source": [
    "length(pval)"
   ]
  },
  {
   "cell_type": "code",
   "execution_count": 7,
   "metadata": {
    "scrolled": true
   },
   "outputs": [
    {
     "data": {
      "text/html": [
       "5"
      ],
      "text/latex": [
       "5"
      ],
      "text/markdown": [
       "5"
      ],
      "text/plain": [
       "[1] 5"
      ]
     },
     "metadata": {},
     "output_type": "display_data"
    }
   ],
   "source": [
    "length(pAdj)"
   ]
  },
  {
   "cell_type": "code",
   "execution_count": 8,
   "metadata": {},
   "outputs": [
    {
     "data": {
      "text/html": [
       "<ol class=list-inline>\n",
       "\t<li>2</li>\n",
       "\t<li>5</li>\n",
       "</ol>\n"
      ],
      "text/latex": [
       "\\begin{enumerate*}\n",
       "\\item 2\n",
       "\\item 5\n",
       "\\end{enumerate*}\n"
      ],
      "text/markdown": [
       "1. 2\n",
       "2. 5\n",
       "\n",
       "\n"
      ],
      "text/plain": [
       "[1] 2 5"
      ]
     },
     "metadata": {},
     "output_type": "display_data"
    },
    {
     "data": {
      "text/html": [
       "<table>\n",
       "<thead><tr><th></th><th scope=col>mass_400</th><th scope=col>mass_500</th><th scope=col>mass_600</th></tr></thead>\n",
       "<tbody>\n",
       "\t<tr><th scope=row>Group1C</th><td>0.02830295  </td><td>0.03472691  </td><td>0.0008064069</td></tr>\n",
       "\t<tr><th scope=row>Group3E</th><td>0.03559034  </td><td>0.04032653  </td><td>0.0007044287</td></tr>\n",
       "</tbody>\n",
       "</table>\n"
      ],
      "text/latex": [
       "\\begin{tabular}{r|lll}\n",
       "  & mass\\_400 & mass\\_500 & mass\\_600\\\\\n",
       "\\hline\n",
       "\tGroup1C & 0.02830295   & 0.03472691   & 0.0008064069\\\\\n",
       "\tGroup3E & 0.03559034   & 0.04032653   & 0.0007044287\\\\\n",
       "\\end{tabular}\n"
      ],
      "text/markdown": [
       "\n",
       "| <!--/--> | mass_400 | mass_500 | mass_600 |\n",
       "|---|---|---|---|\n",
       "| Group1C | 0.02830295   | 0.03472691   | 0.0008064069 |\n",
       "| Group3E | 0.03559034   | 0.04032653   | 0.0007044287 |\n",
       "\n"
      ],
      "text/plain": [
       "        mass_400   mass_500   mass_600    \n",
       "Group1C 0.02830295 0.03472691 0.0008064069\n",
       "Group3E 0.03559034 0.04032653 0.0007044287"
      ]
     },
     "metadata": {},
     "output_type": "display_data"
    },
    {
     "data": {
      "text/html": [
       "<dl class=dl-horizontal>\n",
       "\t<dt>mass_400</dt>\n",
       "\t\t<dd>0.79524240836631</dd>\n",
       "\t<dt>mass_500</dt>\n",
       "\t\t<dd>0.861143152099821</dd>\n",
       "\t<dt>mass_600</dt>\n",
       "\t\t<dd>1.14476734336952</dd>\n",
       "\t<dt>mass_700</dt>\n",
       "\t\t<dd>0.662771768897976</dd>\n",
       "\t<dt>mass_800</dt>\n",
       "\t\t<dd>0.759736407410485</dd>\n",
       "</dl>\n"
      ],
      "text/latex": [
       "\\begin{description*}\n",
       "\\item[mass\\textbackslash{}\\_400] 0.79524240836631\n",
       "\\item[mass\\textbackslash{}\\_500] 0.861143152099821\n",
       "\\item[mass\\textbackslash{}\\_600] 1.14476734336952\n",
       "\\item[mass\\textbackslash{}\\_700] 0.662771768897976\n",
       "\\item[mass\\textbackslash{}\\_800] 0.759736407410485\n",
       "\\end{description*}\n"
      ],
      "text/markdown": [
       "mass_400\n",
       ":   0.79524240836631mass_500\n",
       ":   0.861143152099821mass_600\n",
       ":   1.14476734336952mass_700\n",
       ":   0.662771768897976mass_800\n",
       ":   0.759736407410485\n",
       "\n"
      ],
      "text/plain": [
       " mass_400  mass_500  mass_600  mass_700  mass_800 \n",
       "0.7952424 0.8611432 1.1447673 0.6627718 0.7597364 "
      ]
     },
     "metadata": {},
     "output_type": "display_data"
    },
    {
     "data": {
      "text/html": [
       "<ol class=list-inline>\n",
       "\t<li>'numeric'</li>\n",
       "\t<li>'vector'</li>\n",
       "</ol>\n"
      ],
      "text/latex": [
       "\\begin{enumerate*}\n",
       "\\item 'numeric'\n",
       "\\item 'vector'\n",
       "\\end{enumerate*}\n"
      ],
      "text/markdown": [
       "1. 'numeric'\n",
       "2. 'vector'\n",
       "\n",
       "\n"
      ],
      "text/plain": [
       "[1] \"numeric\" \"vector\" "
      ]
     },
     "metadata": {},
     "output_type": "display_data"
    }
   ],
   "source": [
    "avg<- apply(nonzero_wMeta[,9:ncol(nonzero_wMeta)], 2, function(x) tapply(x, nonzero_wMeta$Treatmentgroup, function(x) mean(x))) \n",
    "\n",
    "dim(avg)\n",
    "\n",
    "avg[,1:3]\n",
    "\n",
    "fch <- apply(avg, 2, function(x) x[1]/x[2])\n",
    "\n",
    "head(fch)\n",
    "is(fch)"
   ]
  },
  {
   "cell_type": "code",
   "execution_count": 9,
   "metadata": {
    "scrolled": true
   },
   "outputs": [
    {
     "data": {
      "text/html": [
       "<dl class=dl-horizontal>\n",
       "\t<dt>mass_400</dt>\n",
       "\t\t<dd>0.79524240836631</dd>\n",
       "\t<dt>mass_500</dt>\n",
       "\t\t<dd>0.861143152099821</dd>\n",
       "\t<dt>mass_600</dt>\n",
       "\t\t<dd>1.14476734336952</dd>\n",
       "\t<dt>mass_700</dt>\n",
       "\t\t<dd>0.662771768897976</dd>\n",
       "\t<dt>mass_800</dt>\n",
       "\t\t<dd>0.759736407410485</dd>\n",
       "</dl>\n"
      ],
      "text/latex": [
       "\\begin{description*}\n",
       "\\item[mass\\textbackslash{}\\_400] 0.79524240836631\n",
       "\\item[mass\\textbackslash{}\\_500] 0.861143152099821\n",
       "\\item[mass\\textbackslash{}\\_600] 1.14476734336952\n",
       "\\item[mass\\textbackslash{}\\_700] 0.662771768897976\n",
       "\\item[mass\\textbackslash{}\\_800] 0.759736407410485\n",
       "\\end{description*}\n"
      ],
      "text/markdown": [
       "mass_400\n",
       ":   0.79524240836631mass_500\n",
       ":   0.861143152099821mass_600\n",
       ":   1.14476734336952mass_700\n",
       ":   0.662771768897976mass_800\n",
       ":   0.759736407410485\n",
       "\n"
      ],
      "text/plain": [
       " mass_400  mass_500  mass_600  mass_700  mass_800 \n",
       "0.7952424 0.8611432 1.1447673 0.6627718 0.7597364 "
      ]
     },
     "metadata": {},
     "output_type": "display_data"
    }
   ],
   "source": [
    "fch"
   ]
  },
  {
   "cell_type": "code",
   "execution_count": 10,
   "metadata": {
    "scrolled": false
   },
   "outputs": [],
   "source": [
    "df <- data.frame(fch,pval, pAdj)\n",
    "write.csv(df, \"PC-time-RA-wilcox-1C-3E.csv\")"
   ]
  },
  {
   "cell_type": "code",
   "execution_count": null,
   "metadata": {},
   "outputs": [],
   "source": []
  },
  {
   "cell_type": "code",
   "execution_count": null,
   "metadata": {},
   "outputs": [],
   "source": []
  },
  {
   "cell_type": "code",
   "execution_count": null,
   "metadata": {},
   "outputs": [],
   "source": []
  },
  {
   "cell_type": "code",
   "execution_count": null,
   "metadata": {},
   "outputs": [],
   "source": []
  },
  {
   "cell_type": "code",
   "execution_count": null,
   "metadata": {},
   "outputs": [],
   "source": []
  },
  {
   "cell_type": "code",
   "execution_count": null,
   "metadata": {},
   "outputs": [],
   "source": []
  }
 ],
 "metadata": {
  "kernelspec": {
   "display_name": "R",
   "language": "R",
   "name": "ir"
  },
  "language_info": {
   "codemirror_mode": "r",
   "file_extension": ".r",
   "mimetype": "text/x-r-source",
   "name": "R",
   "pygments_lexer": "r",
   "version": "3.6.1"
  }
 },
 "nbformat": 4,
 "nbformat_minor": 2
}
