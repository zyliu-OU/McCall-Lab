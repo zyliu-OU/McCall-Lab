{
 "cells": [
  {
   "cell_type": "code",
   "execution_count": 4,
   "metadata": {},
   "outputs": [],
   "source": [
    "a <- read.csv(\"03172021-PC-time-RA-M-F.csv\")"
   ]
  },
  {
   "cell_type": "code",
   "execution_count": 5,
   "metadata": {},
   "outputs": [
    {
     "data": {
      "text/html": [
       "<table>\n",
       "<thead><tr><th scope=col>filename</th><th scope=col>MouseID</th><th scope=col>Treatmentgroup</th><th scope=col>status</th><th scope=col>DPI</th><th scope=col>organ</th><th scope=col>well_position</th><th scope=col>plate</th><th scope=col>mass_400</th><th scope=col>mass_500</th><th scope=col>mass_600</th><th scope=col>mass_700</th><th scope=col>mass_800</th></tr></thead>\n",
       "<tbody>\n",
       "\t<tr><td>X501_Group1A_50dpi_RA_251_B_A1_P125.mzXML</td><td>501                                      </td><td>Group1A                                  </td><td>naive                                    </td><td>50                                       </td><td>RA                                       </td><td>A1                                       </td><td>P125                                     </td><td>0.02783425                               </td><td>0.04399547                               </td><td>0.001158695                              </td><td>0.023595791                              </td><td>0.008372238                              </td></tr>\n",
       "\t<tr><td>X502_Group1A_50dpi_RA_252_B_A2_P125.mzXML</td><td>502                                      </td><td>Group1A                                  </td><td>naive                                    </td><td>50                                       </td><td>RA                                       </td><td>A2                                       </td><td>P125                                     </td><td>0.03378540                               </td><td>0.04300000                               </td><td>0.000571394                              </td><td>0.015961516                              </td><td>0.002533112                              </td></tr>\n",
       "\t<tr><td>X503_Group1A_50dpi_RA_253_B_A3_P125.mzXML</td><td>503                                      </td><td>Group1A                                  </td><td>naive                                    </td><td>50                                       </td><td>RA                                       </td><td>A3                                       </td><td>P125                                     </td><td>0.01826321                               </td><td>0.02399175                               </td><td>0.000426553                              </td><td>0.006921314                              </td><td>0.005986740                              </td></tr>\n",
       "\t<tr><td>X504_Group1A_50dpi_RA_254_B_A4_P125.mzXML</td><td>504                                      </td><td>Group1A                                  </td><td>naive                                    </td><td>50                                       </td><td>RA                                       </td><td>A4                                       </td><td>P125                                     </td><td>0.02336948                               </td><td>0.02439774                               </td><td>0.000282014                              </td><td>0.001110971                              </td><td>0.000516804                              </td></tr>\n",
       "\t<tr><td>X505_Group1A_50dpi_RA_255_B_A5_P125.mzXML</td><td>505                                      </td><td>Group1A                                  </td><td>naive                                    </td><td>50                                       </td><td>RA                                       </td><td>A5                                       </td><td>P125                                     </td><td>0.02367537                               </td><td>0.03248531                               </td><td>0.000438144                              </td><td>0.008931290                              </td><td>0.002606911                              </td></tr>\n",
       "\t<tr><td>X521_Group1A_50dpi_RA_256_B_A6_P125.mzXML</td><td>521                                      </td><td>Group1A                                  </td><td>naive                                    </td><td>50                                       </td><td>RA                                       </td><td>A6                                       </td><td>P125                                     </td><td>0.02534834                               </td><td>0.01977122                               </td><td>0.000199671                              </td><td>0.002390123                              </td><td>0.003758617                              </td></tr>\n",
       "</tbody>\n",
       "</table>\n"
      ],
      "text/latex": [
       "\\begin{tabular}{r|lllllllllllll}\n",
       " filename & MouseID & Treatmentgroup & status & DPI & organ & well\\_position & plate & mass\\_400 & mass\\_500 & mass\\_600 & mass\\_700 & mass\\_800\\\\\n",
       "\\hline\n",
       "\t X501\\_Group1A\\_50dpi\\_RA\\_251\\_B\\_A1\\_P125.mzXML & 501                                                     & Group1A                                                 & naive                                                   & 50                                                      & RA                                                      & A1                                                      & P125                                                    & 0.02783425                                              & 0.04399547                                              & 0.001158695                                             & 0.023595791                                             & 0.008372238                                            \\\\\n",
       "\t X502\\_Group1A\\_50dpi\\_RA\\_252\\_B\\_A2\\_P125.mzXML & 502                                                     & Group1A                                                 & naive                                                   & 50                                                      & RA                                                      & A2                                                      & P125                                                    & 0.03378540                                              & 0.04300000                                              & 0.000571394                                             & 0.015961516                                             & 0.002533112                                            \\\\\n",
       "\t X503\\_Group1A\\_50dpi\\_RA\\_253\\_B\\_A3\\_P125.mzXML & 503                                                     & Group1A                                                 & naive                                                   & 50                                                      & RA                                                      & A3                                                      & P125                                                    & 0.01826321                                              & 0.02399175                                              & 0.000426553                                             & 0.006921314                                             & 0.005986740                                            \\\\\n",
       "\t X504\\_Group1A\\_50dpi\\_RA\\_254\\_B\\_A4\\_P125.mzXML & 504                                                     & Group1A                                                 & naive                                                   & 50                                                      & RA                                                      & A4                                                      & P125                                                    & 0.02336948                                              & 0.02439774                                              & 0.000282014                                             & 0.001110971                                             & 0.000516804                                            \\\\\n",
       "\t X505\\_Group1A\\_50dpi\\_RA\\_255\\_B\\_A5\\_P125.mzXML & 505                                                     & Group1A                                                 & naive                                                   & 50                                                      & RA                                                      & A5                                                      & P125                                                    & 0.02367537                                              & 0.03248531                                              & 0.000438144                                             & 0.008931290                                             & 0.002606911                                            \\\\\n",
       "\t X521\\_Group1A\\_50dpi\\_RA\\_256\\_B\\_A6\\_P125.mzXML & 521                                                     & Group1A                                                 & naive                                                   & 50                                                      & RA                                                      & A6                                                      & P125                                                    & 0.02534834                                              & 0.01977122                                              & 0.000199671                                             & 0.002390123                                             & 0.003758617                                            \\\\\n",
       "\\end{tabular}\n"
      ],
      "text/markdown": [
       "\n",
       "| filename | MouseID | Treatmentgroup | status | DPI | organ | well_position | plate | mass_400 | mass_500 | mass_600 | mass_700 | mass_800 |\n",
       "|---|---|---|---|---|---|---|---|---|---|---|---|---|\n",
       "| X501_Group1A_50dpi_RA_251_B_A1_P125.mzXML | 501                                       | Group1A                                   | naive                                     | 50                                        | RA                                        | A1                                        | P125                                      | 0.02783425                                | 0.04399547                                | 0.001158695                               | 0.023595791                               | 0.008372238                               |\n",
       "| X502_Group1A_50dpi_RA_252_B_A2_P125.mzXML | 502                                       | Group1A                                   | naive                                     | 50                                        | RA                                        | A2                                        | P125                                      | 0.03378540                                | 0.04300000                                | 0.000571394                               | 0.015961516                               | 0.002533112                               |\n",
       "| X503_Group1A_50dpi_RA_253_B_A3_P125.mzXML | 503                                       | Group1A                                   | naive                                     | 50                                        | RA                                        | A3                                        | P125                                      | 0.01826321                                | 0.02399175                                | 0.000426553                               | 0.006921314                               | 0.005986740                               |\n",
       "| X504_Group1A_50dpi_RA_254_B_A4_P125.mzXML | 504                                       | Group1A                                   | naive                                     | 50                                        | RA                                        | A4                                        | P125                                      | 0.02336948                                | 0.02439774                                | 0.000282014                               | 0.001110971                               | 0.000516804                               |\n",
       "| X505_Group1A_50dpi_RA_255_B_A5_P125.mzXML | 505                                       | Group1A                                   | naive                                     | 50                                        | RA                                        | A5                                        | P125                                      | 0.02367537                                | 0.03248531                                | 0.000438144                               | 0.008931290                               | 0.002606911                               |\n",
       "| X521_Group1A_50dpi_RA_256_B_A6_P125.mzXML | 521                                       | Group1A                                   | naive                                     | 50                                        | RA                                        | A6                                        | P125                                      | 0.02534834                                | 0.01977122                                | 0.000199671                               | 0.002390123                               | 0.003758617                               |\n",
       "\n"
      ],
      "text/plain": [
       "  filename                                  MouseID Treatmentgroup status DPI\n",
       "1 X501_Group1A_50dpi_RA_251_B_A1_P125.mzXML 501     Group1A        naive  50 \n",
       "2 X502_Group1A_50dpi_RA_252_B_A2_P125.mzXML 502     Group1A        naive  50 \n",
       "3 X503_Group1A_50dpi_RA_253_B_A3_P125.mzXML 503     Group1A        naive  50 \n",
       "4 X504_Group1A_50dpi_RA_254_B_A4_P125.mzXML 504     Group1A        naive  50 \n",
       "5 X505_Group1A_50dpi_RA_255_B_A5_P125.mzXML 505     Group1A        naive  50 \n",
       "6 X521_Group1A_50dpi_RA_256_B_A6_P125.mzXML 521     Group1A        naive  50 \n",
       "  organ well_position plate mass_400   mass_500   mass_600    mass_700   \n",
       "1 RA    A1            P125  0.02783425 0.04399547 0.001158695 0.023595791\n",
       "2 RA    A2            P125  0.03378540 0.04300000 0.000571394 0.015961516\n",
       "3 RA    A3            P125  0.01826321 0.02399175 0.000426553 0.006921314\n",
       "4 RA    A4            P125  0.02336948 0.02439774 0.000282014 0.001110971\n",
       "5 RA    A5            P125  0.02367537 0.03248531 0.000438144 0.008931290\n",
       "6 RA    A6            P125  0.02534834 0.01977122 0.000199671 0.002390123\n",
       "  mass_800   \n",
       "1 0.008372238\n",
       "2 0.002533112\n",
       "3 0.005986740\n",
       "4 0.000516804\n",
       "5 0.002606911\n",
       "6 0.003758617"
      ]
     },
     "metadata": {},
     "output_type": "display_data"
    },
    {
     "data": {
      "text/html": [
       "<ol class=list-inline>\n",
       "\t<li>90</li>\n",
       "\t<li>13</li>\n",
       "</ol>\n"
      ],
      "text/latex": [
       "\\begin{enumerate*}\n",
       "\\item 90\n",
       "\\item 13\n",
       "\\end{enumerate*}\n"
      ],
      "text/markdown": [
       "1. 90\n",
       "2. 13\n",
       "\n",
       "\n"
      ],
      "text/plain": [
       "[1] 90 13"
      ]
     },
     "metadata": {},
     "output_type": "display_data"
    }
   ],
   "source": [
    "head(a)\n",
    "dim(a)"
   ]
  },
  {
   "cell_type": "code",
   "execution_count": 6,
   "metadata": {},
   "outputs": [
    {
     "data": {
      "text/html": [
       "<table>\n",
       "<thead><tr><th scope=col>filename</th><th scope=col>MouseID</th><th scope=col>Treatmentgroup</th><th scope=col>status</th><th scope=col>DPI</th><th scope=col>organ</th><th scope=col>well_position</th><th scope=col>plate</th><th scope=col>mass_400</th><th scope=col>mass_500</th><th scope=col>mass_600</th><th scope=col>mass_700</th><th scope=col>mass_800</th></tr></thead>\n",
       "<tbody>\n",
       "\t<tr><td>X501_Group1A_50dpi_RA_251_B_A1_P125.mzXML</td><td>501                                      </td><td>Group1A                                  </td><td>naive                                    </td><td>50                                       </td><td>RA                                       </td><td>A1                                       </td><td>P125                                     </td><td>0.02783425                               </td><td>0.04399547                               </td><td>0.001158695                              </td><td>0.023595791                              </td><td>0.008372238                              </td></tr>\n",
       "\t<tr><td>X502_Group1A_50dpi_RA_252_B_A2_P125.mzXML</td><td>502                                      </td><td>Group1A                                  </td><td>naive                                    </td><td>50                                       </td><td>RA                                       </td><td>A2                                       </td><td>P125                                     </td><td>0.03378540                               </td><td>0.04300000                               </td><td>0.000571394                              </td><td>0.015961516                              </td><td>0.002533112                              </td></tr>\n",
       "\t<tr><td>X503_Group1A_50dpi_RA_253_B_A3_P125.mzXML</td><td>503                                      </td><td>Group1A                                  </td><td>naive                                    </td><td>50                                       </td><td>RA                                       </td><td>A3                                       </td><td>P125                                     </td><td>0.01826321                               </td><td>0.02399175                               </td><td>0.000426553                              </td><td>0.006921314                              </td><td>0.005986740                              </td></tr>\n",
       "\t<tr><td>X504_Group1A_50dpi_RA_254_B_A4_P125.mzXML</td><td>504                                      </td><td>Group1A                                  </td><td>naive                                    </td><td>50                                       </td><td>RA                                       </td><td>A4                                       </td><td>P125                                     </td><td>0.02336948                               </td><td>0.02439774                               </td><td>0.000282014                              </td><td>0.001110971                              </td><td>0.000516804                              </td></tr>\n",
       "\t<tr><td>X505_Group1A_50dpi_RA_255_B_A5_P125.mzXML</td><td>505                                      </td><td>Group1A                                  </td><td>naive                                    </td><td>50                                       </td><td>RA                                       </td><td>A5                                       </td><td>P125                                     </td><td>0.02367537                               </td><td>0.03248531                               </td><td>0.000438144                              </td><td>0.008931290                              </td><td>0.002606911                              </td></tr>\n",
       "\t<tr><td>X521_Group1A_50dpi_RA_256_B_A6_P125.mzXML</td><td>521                                      </td><td>Group1A                                  </td><td>naive                                    </td><td>50                                       </td><td>RA                                       </td><td>A6                                       </td><td>P125                                     </td><td>0.02534834                               </td><td>0.01977122                               </td><td>0.000199671                              </td><td>0.002390123                              </td><td>0.003758617                              </td></tr>\n",
       "</tbody>\n",
       "</table>\n"
      ],
      "text/latex": [
       "\\begin{tabular}{r|lllllllllllll}\n",
       " filename & MouseID & Treatmentgroup & status & DPI & organ & well\\_position & plate & mass\\_400 & mass\\_500 & mass\\_600 & mass\\_700 & mass\\_800\\\\\n",
       "\\hline\n",
       "\t X501\\_Group1A\\_50dpi\\_RA\\_251\\_B\\_A1\\_P125.mzXML & 501                                                     & Group1A                                                 & naive                                                   & 50                                                      & RA                                                      & A1                                                      & P125                                                    & 0.02783425                                              & 0.04399547                                              & 0.001158695                                             & 0.023595791                                             & 0.008372238                                            \\\\\n",
       "\t X502\\_Group1A\\_50dpi\\_RA\\_252\\_B\\_A2\\_P125.mzXML & 502                                                     & Group1A                                                 & naive                                                   & 50                                                      & RA                                                      & A2                                                      & P125                                                    & 0.03378540                                              & 0.04300000                                              & 0.000571394                                             & 0.015961516                                             & 0.002533112                                            \\\\\n",
       "\t X503\\_Group1A\\_50dpi\\_RA\\_253\\_B\\_A3\\_P125.mzXML & 503                                                     & Group1A                                                 & naive                                                   & 50                                                      & RA                                                      & A3                                                      & P125                                                    & 0.01826321                                              & 0.02399175                                              & 0.000426553                                             & 0.006921314                                             & 0.005986740                                            \\\\\n",
       "\t X504\\_Group1A\\_50dpi\\_RA\\_254\\_B\\_A4\\_P125.mzXML & 504                                                     & Group1A                                                 & naive                                                   & 50                                                      & RA                                                      & A4                                                      & P125                                                    & 0.02336948                                              & 0.02439774                                              & 0.000282014                                             & 0.001110971                                             & 0.000516804                                            \\\\\n",
       "\t X505\\_Group1A\\_50dpi\\_RA\\_255\\_B\\_A5\\_P125.mzXML & 505                                                     & Group1A                                                 & naive                                                   & 50                                                      & RA                                                      & A5                                                      & P125                                                    & 0.02367537                                              & 0.03248531                                              & 0.000438144                                             & 0.008931290                                             & 0.002606911                                            \\\\\n",
       "\t X521\\_Group1A\\_50dpi\\_RA\\_256\\_B\\_A6\\_P125.mzXML & 521                                                     & Group1A                                                 & naive                                                   & 50                                                      & RA                                                      & A6                                                      & P125                                                    & 0.02534834                                              & 0.01977122                                              & 0.000199671                                             & 0.002390123                                             & 0.003758617                                            \\\\\n",
       "\\end{tabular}\n"
      ],
      "text/markdown": [
       "\n",
       "| filename | MouseID | Treatmentgroup | status | DPI | organ | well_position | plate | mass_400 | mass_500 | mass_600 | mass_700 | mass_800 |\n",
       "|---|---|---|---|---|---|---|---|---|---|---|---|---|\n",
       "| X501_Group1A_50dpi_RA_251_B_A1_P125.mzXML | 501                                       | Group1A                                   | naive                                     | 50                                        | RA                                        | A1                                        | P125                                      | 0.02783425                                | 0.04399547                                | 0.001158695                               | 0.023595791                               | 0.008372238                               |\n",
       "| X502_Group1A_50dpi_RA_252_B_A2_P125.mzXML | 502                                       | Group1A                                   | naive                                     | 50                                        | RA                                        | A2                                        | P125                                      | 0.03378540                                | 0.04300000                                | 0.000571394                               | 0.015961516                               | 0.002533112                               |\n",
       "| X503_Group1A_50dpi_RA_253_B_A3_P125.mzXML | 503                                       | Group1A                                   | naive                                     | 50                                        | RA                                        | A3                                        | P125                                      | 0.01826321                                | 0.02399175                                | 0.000426553                               | 0.006921314                               | 0.005986740                               |\n",
       "| X504_Group1A_50dpi_RA_254_B_A4_P125.mzXML | 504                                       | Group1A                                   | naive                                     | 50                                        | RA                                        | A4                                        | P125                                      | 0.02336948                                | 0.02439774                                | 0.000282014                               | 0.001110971                               | 0.000516804                               |\n",
       "| X505_Group1A_50dpi_RA_255_B_A5_P125.mzXML | 505                                       | Group1A                                   | naive                                     | 50                                        | RA                                        | A5                                        | P125                                      | 0.02367537                                | 0.03248531                                | 0.000438144                               | 0.008931290                               | 0.002606911                               |\n",
       "| X521_Group1A_50dpi_RA_256_B_A6_P125.mzXML | 521                                       | Group1A                                   | naive                                     | 50                                        | RA                                        | A6                                        | P125                                      | 0.02534834                                | 0.01977122                                | 0.000199671                               | 0.002390123                               | 0.003758617                               |\n",
       "\n"
      ],
      "text/plain": [
       "  filename                                  MouseID Treatmentgroup status DPI\n",
       "1 X501_Group1A_50dpi_RA_251_B_A1_P125.mzXML 501     Group1A        naive  50 \n",
       "2 X502_Group1A_50dpi_RA_252_B_A2_P125.mzXML 502     Group1A        naive  50 \n",
       "3 X503_Group1A_50dpi_RA_253_B_A3_P125.mzXML 503     Group1A        naive  50 \n",
       "4 X504_Group1A_50dpi_RA_254_B_A4_P125.mzXML 504     Group1A        naive  50 \n",
       "5 X505_Group1A_50dpi_RA_255_B_A5_P125.mzXML 505     Group1A        naive  50 \n",
       "6 X521_Group1A_50dpi_RA_256_B_A6_P125.mzXML 521     Group1A        naive  50 \n",
       "  organ well_position plate mass_400   mass_500   mass_600    mass_700   \n",
       "1 RA    A1            P125  0.02783425 0.04399547 0.001158695 0.023595791\n",
       "2 RA    A2            P125  0.03378540 0.04300000 0.000571394 0.015961516\n",
       "3 RA    A3            P125  0.01826321 0.02399175 0.000426553 0.006921314\n",
       "4 RA    A4            P125  0.02336948 0.02439774 0.000282014 0.001110971\n",
       "5 RA    A5            P125  0.02367537 0.03248531 0.000438144 0.008931290\n",
       "6 RA    A6            P125  0.02534834 0.01977122 0.000199671 0.002390123\n",
       "  mass_800   \n",
       "1 0.008372238\n",
       "2 0.002533112\n",
       "3 0.005986740\n",
       "4 0.000516804\n",
       "5 0.002606911\n",
       "6 0.003758617"
      ]
     },
     "metadata": {},
     "output_type": "display_data"
    },
    {
     "data": {
      "text/html": [
       "<ol class=list-inline>\n",
       "\t<li>30</li>\n",
       "\t<li>13</li>\n",
       "</ol>\n"
      ],
      "text/latex": [
       "\\begin{enumerate*}\n",
       "\\item 30\n",
       "\\item 13\n",
       "\\end{enumerate*}\n"
      ],
      "text/markdown": [
       "1. 30\n",
       "2. 13\n",
       "\n",
       "\n"
      ],
      "text/plain": [
       "[1] 30 13"
      ]
     },
     "metadata": {},
     "output_type": "display_data"
    }
   ],
   "source": [
    "features_pos<-droplevels(subset(a, a$Treatmentgroup==c(\"Group1A\")|a$Treatmentgroup==c(\"Group3A\")))\n",
    "head(features_pos)\n",
    "dim(features_pos)"
   ]
  },
  {
   "cell_type": "code",
   "execution_count": 7,
   "metadata": {
    "scrolled": false
   },
   "outputs": [
    {
     "data": {
      "text/html": [
       "<table>\n",
       "<thead><tr><th scope=col>mass_400</th><th scope=col>mass_500</th><th scope=col>mass_600</th><th scope=col>mass_700</th><th scope=col>mass_800</th></tr></thead>\n",
       "<tbody>\n",
       "\t<tr><td>0.02783425 </td><td>0.04399547 </td><td>0.001158695</td><td>0.023595791</td><td>0.008372238</td></tr>\n",
       "\t<tr><td>0.03378540 </td><td>0.04300000 </td><td>0.000571394</td><td>0.015961516</td><td>0.002533112</td></tr>\n",
       "\t<tr><td>0.01826321 </td><td>0.02399175 </td><td>0.000426553</td><td>0.006921314</td><td>0.005986740</td></tr>\n",
       "\t<tr><td>0.02336948 </td><td>0.02439774 </td><td>0.000282014</td><td>0.001110971</td><td>0.000516804</td></tr>\n",
       "\t<tr><td>0.02367537 </td><td>0.03248531 </td><td>0.000438144</td><td>0.008931290</td><td>0.002606911</td></tr>\n",
       "\t<tr><td>0.02534834 </td><td>0.01977122 </td><td>0.000199671</td><td>0.002390123</td><td>0.003758617</td></tr>\n",
       "</tbody>\n",
       "</table>\n"
      ],
      "text/latex": [
       "\\begin{tabular}{r|lllll}\n",
       " mass\\_400 & mass\\_500 & mass\\_600 & mass\\_700 & mass\\_800\\\\\n",
       "\\hline\n",
       "\t 0.02783425  & 0.04399547  & 0.001158695 & 0.023595791 & 0.008372238\\\\\n",
       "\t 0.03378540  & 0.04300000  & 0.000571394 & 0.015961516 & 0.002533112\\\\\n",
       "\t 0.01826321  & 0.02399175  & 0.000426553 & 0.006921314 & 0.005986740\\\\\n",
       "\t 0.02336948  & 0.02439774  & 0.000282014 & 0.001110971 & 0.000516804\\\\\n",
       "\t 0.02367537  & 0.03248531  & 0.000438144 & 0.008931290 & 0.002606911\\\\\n",
       "\t 0.02534834  & 0.01977122  & 0.000199671 & 0.002390123 & 0.003758617\\\\\n",
       "\\end{tabular}\n"
      ],
      "text/markdown": [
       "\n",
       "| mass_400 | mass_500 | mass_600 | mass_700 | mass_800 |\n",
       "|---|---|---|---|---|\n",
       "| 0.02783425  | 0.04399547  | 0.001158695 | 0.023595791 | 0.008372238 |\n",
       "| 0.03378540  | 0.04300000  | 0.000571394 | 0.015961516 | 0.002533112 |\n",
       "| 0.01826321  | 0.02399175  | 0.000426553 | 0.006921314 | 0.005986740 |\n",
       "| 0.02336948  | 0.02439774  | 0.000282014 | 0.001110971 | 0.000516804 |\n",
       "| 0.02367537  | 0.03248531  | 0.000438144 | 0.008931290 | 0.002606911 |\n",
       "| 0.02534834  | 0.01977122  | 0.000199671 | 0.002390123 | 0.003758617 |\n",
       "\n"
      ],
      "text/plain": [
       "  mass_400   mass_500   mass_600    mass_700    mass_800   \n",
       "1 0.02783425 0.04399547 0.001158695 0.023595791 0.008372238\n",
       "2 0.03378540 0.04300000 0.000571394 0.015961516 0.002533112\n",
       "3 0.01826321 0.02399175 0.000426553 0.006921314 0.005986740\n",
       "4 0.02336948 0.02439774 0.000282014 0.001110971 0.000516804\n",
       "5 0.02367537 0.03248531 0.000438144 0.008931290 0.002606911\n",
       "6 0.02534834 0.01977122 0.000199671 0.002390123 0.003758617"
      ]
     },
     "metadata": {},
     "output_type": "display_data"
    },
    {
     "data": {
      "text/html": [
       "<dl class=dl-horizontal>\n",
       "\t<dt>mass_400</dt>\n",
       "\t\t<dd>1</dd>\n",
       "\t<dt>mass_500</dt>\n",
       "\t\t<dd>2</dd>\n",
       "\t<dt>mass_600</dt>\n",
       "\t\t<dd>3</dd>\n",
       "\t<dt>mass_700</dt>\n",
       "\t\t<dd>4</dd>\n",
       "\t<dt>mass_800</dt>\n",
       "\t\t<dd>5</dd>\n",
       "</dl>\n"
      ],
      "text/latex": [
       "\\begin{description*}\n",
       "\\item[mass\\textbackslash{}\\_400] 1\n",
       "\\item[mass\\textbackslash{}\\_500] 2\n",
       "\\item[mass\\textbackslash{}\\_600] 3\n",
       "\\item[mass\\textbackslash{}\\_700] 4\n",
       "\\item[mass\\textbackslash{}\\_800] 5\n",
       "\\end{description*}\n"
      ],
      "text/markdown": [
       "mass_400\n",
       ":   1mass_500\n",
       ":   2mass_600\n",
       ":   3mass_700\n",
       ":   4mass_800\n",
       ":   5\n",
       "\n"
      ],
      "text/plain": [
       "mass_400 mass_500 mass_600 mass_700 mass_800 \n",
       "       1        2        3        4        5 "
      ]
     },
     "metadata": {},
     "output_type": "display_data"
    },
    {
     "data": {
      "text/html": [
       "<table>\n",
       "<thead><tr><th></th><th scope=col>mass_400</th><th scope=col>mass_500</th><th scope=col>mass_600</th><th scope=col>mass_700</th><th scope=col>mass_800</th></tr></thead>\n",
       "<tbody>\n",
       "\t<tr><th scope=row>1</th><td>0.02783425 </td><td>0.04399547 </td><td>0.001158695</td><td>0.023595791</td><td>0.008372238</td></tr>\n",
       "\t<tr><th scope=row>2</th><td>0.03378540 </td><td>0.04300000 </td><td>0.000571394</td><td>0.015961516</td><td>0.002533112</td></tr>\n",
       "\t<tr><th scope=row>3</th><td>0.01826321 </td><td>0.02399175 </td><td>0.000426553</td><td>0.006921314</td><td>0.005986740</td></tr>\n",
       "\t<tr><th scope=row>4</th><td>0.02336948 </td><td>0.02439774 </td><td>0.000282014</td><td>0.001110971</td><td>0.000516804</td></tr>\n",
       "\t<tr><th scope=row>5</th><td>0.02367537 </td><td>0.03248531 </td><td>0.000438144</td><td>0.008931290</td><td>0.002606911</td></tr>\n",
       "\t<tr><th scope=row>6</th><td>0.02534834 </td><td>0.01977122 </td><td>0.000199671</td><td>0.002390123</td><td>0.003758617</td></tr>\n",
       "\t<tr><th scope=row>7</th><td>0.02048274 </td><td>0.02220000 </td><td>0.000518243</td><td>0.009083782</td><td>0.000240823</td></tr>\n",
       "\t<tr><th scope=row>8</th><td>0.02040252 </td><td>0.01731765 </td><td>0.000216445</td><td>0.011252827</td><td>0.001235085</td></tr>\n",
       "\t<tr><th scope=row>9</th><td>0.01989208 </td><td>0.01820000 </td><td>0.000297419</td><td>0.000536621</td><td>0.000000000</td></tr>\n",
       "\t<tr><th scope=row>10</th><td>0.02448936 </td><td>0.02156438 </td><td>0.000306593</td><td>0.011988440</td><td>0.000863835</td></tr>\n",
       "\t<tr><th scope=row>11</th><td>0.02634747 </td><td>0.02500000 </td><td>0.000452314</td><td>0.002832549</td><td>0.001919806</td></tr>\n",
       "\t<tr><th scope=row>12</th><td>0.01990731 </td><td>0.02628010 </td><td>0.000272002</td><td>0.005382248</td><td>0.005151963</td></tr>\n",
       "\t<tr><th scope=row>13</th><td>0.03468659 </td><td>0.03524825 </td><td>0.000438219</td><td>0.009869285</td><td>0.002885975</td></tr>\n",
       "\t<tr><th scope=row>14</th><td>0.02056099 </td><td>0.02674306 </td><td>0.000461578</td><td>0.003574792</td><td>0.003057196</td></tr>\n",
       "\t<tr><th scope=row>15</th><td>0.01370244 </td><td>0.01590631 </td><td>0.000125800</td><td>0.006443869</td><td>0.002096660</td></tr>\n",
       "\t<tr><th scope=row>46</th><td>0.01554516 </td><td>0.01743988 </td><td>0.000070400</td><td>0.015436478</td><td>0.000782436</td></tr>\n",
       "\t<tr><th scope=row>47</th><td>0.03358672 </td><td>0.04730000 </td><td>0.000893584</td><td>0.015083101</td><td>0.007128834</td></tr>\n",
       "\t<tr><th scope=row>48</th><td>0.02077485 </td><td>0.02837479 </td><td>0.000344417</td><td>0.005666810</td><td>0.000388217</td></tr>\n",
       "\t<tr><th scope=row>49</th><td>0.01721384 </td><td>0.02272525 </td><td>0.000358822</td><td>0.014405125</td><td>0.000660747</td></tr>\n",
       "\t<tr><th scope=row>50</th><td>0.02638435 </td><td>0.02713242 </td><td>0.000220700</td><td>0.001712124</td><td>0.000295834</td></tr>\n",
       "\t<tr><th scope=row>51</th><td>0.04434300 </td><td>0.06034237 </td><td>0.000480898</td><td>0.005304473</td><td>0.001129115</td></tr>\n",
       "\t<tr><th scope=row>52</th><td>0.03763089 </td><td>0.03468454 </td><td>0.000079800</td><td>0.001364824</td><td>0.001547033</td></tr>\n",
       "\t<tr><th scope=row>53</th><td>0.02040535 </td><td>0.01886642 </td><td>0.000211967</td><td>0.003822965</td><td>0.000127560</td></tr>\n",
       "\t<tr><th scope=row>54</th><td>0.02138438 </td><td>0.02360411 </td><td>0.000295547</td><td>0.004793262</td><td>0.000274643</td></tr>\n",
       "\t<tr><th scope=row>55</th><td>0.05964696 </td><td>0.05549449 </td><td>0.001414502</td><td>0.011349027</td><td>0.005935293</td></tr>\n",
       "\t<tr><th scope=row>56</th><td>0.04497175 </td><td>0.05550000 </td><td>0.002088647</td><td>0.036192126</td><td>0.022604573</td></tr>\n",
       "\t<tr><th scope=row>57</th><td>0.02133076 </td><td>0.01646710 </td><td>0.000256788</td><td>0.013698443</td><td>0.010937874</td></tr>\n",
       "\t<tr><th scope=row>58</th><td>0.02490688 </td><td>0.03206221 </td><td>0.000419691</td><td>0.005727881</td><td>0.000307414</td></tr>\n",
       "\t<tr><th scope=row>59</th><td>0.03281729 </td><td>0.04936763 </td><td>0.000642284</td><td>0.010007820</td><td>0.004423422</td></tr>\n",
       "\t<tr><th scope=row>60</th><td>0.03188133 </td><td>0.04960000 </td><td>0.001081596</td><td>0.022043113</td><td>0.034877676</td></tr>\n",
       "</tbody>\n",
       "</table>\n"
      ],
      "text/latex": [
       "\\begin{tabular}{r|lllll}\n",
       "  & mass\\_400 & mass\\_500 & mass\\_600 & mass\\_700 & mass\\_800\\\\\n",
       "\\hline\n",
       "\t1 & 0.02783425  & 0.04399547  & 0.001158695 & 0.023595791 & 0.008372238\\\\\n",
       "\t2 & 0.03378540  & 0.04300000  & 0.000571394 & 0.015961516 & 0.002533112\\\\\n",
       "\t3 & 0.01826321  & 0.02399175  & 0.000426553 & 0.006921314 & 0.005986740\\\\\n",
       "\t4 & 0.02336948  & 0.02439774  & 0.000282014 & 0.001110971 & 0.000516804\\\\\n",
       "\t5 & 0.02367537  & 0.03248531  & 0.000438144 & 0.008931290 & 0.002606911\\\\\n",
       "\t6 & 0.02534834  & 0.01977122  & 0.000199671 & 0.002390123 & 0.003758617\\\\\n",
       "\t7 & 0.02048274  & 0.02220000  & 0.000518243 & 0.009083782 & 0.000240823\\\\\n",
       "\t8 & 0.02040252  & 0.01731765  & 0.000216445 & 0.011252827 & 0.001235085\\\\\n",
       "\t9 & 0.01989208  & 0.01820000  & 0.000297419 & 0.000536621 & 0.000000000\\\\\n",
       "\t10 & 0.02448936  & 0.02156438  & 0.000306593 & 0.011988440 & 0.000863835\\\\\n",
       "\t11 & 0.02634747  & 0.02500000  & 0.000452314 & 0.002832549 & 0.001919806\\\\\n",
       "\t12 & 0.01990731  & 0.02628010  & 0.000272002 & 0.005382248 & 0.005151963\\\\\n",
       "\t13 & 0.03468659  & 0.03524825  & 0.000438219 & 0.009869285 & 0.002885975\\\\\n",
       "\t14 & 0.02056099  & 0.02674306  & 0.000461578 & 0.003574792 & 0.003057196\\\\\n",
       "\t15 & 0.01370244  & 0.01590631  & 0.000125800 & 0.006443869 & 0.002096660\\\\\n",
       "\t46 & 0.01554516  & 0.01743988  & 0.000070400 & 0.015436478 & 0.000782436\\\\\n",
       "\t47 & 0.03358672  & 0.04730000  & 0.000893584 & 0.015083101 & 0.007128834\\\\\n",
       "\t48 & 0.02077485  & 0.02837479  & 0.000344417 & 0.005666810 & 0.000388217\\\\\n",
       "\t49 & 0.01721384  & 0.02272525  & 0.000358822 & 0.014405125 & 0.000660747\\\\\n",
       "\t50 & 0.02638435  & 0.02713242  & 0.000220700 & 0.001712124 & 0.000295834\\\\\n",
       "\t51 & 0.04434300  & 0.06034237  & 0.000480898 & 0.005304473 & 0.001129115\\\\\n",
       "\t52 & 0.03763089  & 0.03468454  & 0.000079800 & 0.001364824 & 0.001547033\\\\\n",
       "\t53 & 0.02040535  & 0.01886642  & 0.000211967 & 0.003822965 & 0.000127560\\\\\n",
       "\t54 & 0.02138438  & 0.02360411  & 0.000295547 & 0.004793262 & 0.000274643\\\\\n",
       "\t55 & 0.05964696  & 0.05549449  & 0.001414502 & 0.011349027 & 0.005935293\\\\\n",
       "\t56 & 0.04497175  & 0.05550000  & 0.002088647 & 0.036192126 & 0.022604573\\\\\n",
       "\t57 & 0.02133076  & 0.01646710  & 0.000256788 & 0.013698443 & 0.010937874\\\\\n",
       "\t58 & 0.02490688  & 0.03206221  & 0.000419691 & 0.005727881 & 0.000307414\\\\\n",
       "\t59 & 0.03281729  & 0.04936763  & 0.000642284 & 0.010007820 & 0.004423422\\\\\n",
       "\t60 & 0.03188133  & 0.04960000  & 0.001081596 & 0.022043113 & 0.034877676\\\\\n",
       "\\end{tabular}\n"
      ],
      "text/markdown": [
       "\n",
       "| <!--/--> | mass_400 | mass_500 | mass_600 | mass_700 | mass_800 |\n",
       "|---|---|---|---|---|---|\n",
       "| 1 | 0.02783425  | 0.04399547  | 0.001158695 | 0.023595791 | 0.008372238 |\n",
       "| 2 | 0.03378540  | 0.04300000  | 0.000571394 | 0.015961516 | 0.002533112 |\n",
       "| 3 | 0.01826321  | 0.02399175  | 0.000426553 | 0.006921314 | 0.005986740 |\n",
       "| 4 | 0.02336948  | 0.02439774  | 0.000282014 | 0.001110971 | 0.000516804 |\n",
       "| 5 | 0.02367537  | 0.03248531  | 0.000438144 | 0.008931290 | 0.002606911 |\n",
       "| 6 | 0.02534834  | 0.01977122  | 0.000199671 | 0.002390123 | 0.003758617 |\n",
       "| 7 | 0.02048274  | 0.02220000  | 0.000518243 | 0.009083782 | 0.000240823 |\n",
       "| 8 | 0.02040252  | 0.01731765  | 0.000216445 | 0.011252827 | 0.001235085 |\n",
       "| 9 | 0.01989208  | 0.01820000  | 0.000297419 | 0.000536621 | 0.000000000 |\n",
       "| 10 | 0.02448936  | 0.02156438  | 0.000306593 | 0.011988440 | 0.000863835 |\n",
       "| 11 | 0.02634747  | 0.02500000  | 0.000452314 | 0.002832549 | 0.001919806 |\n",
       "| 12 | 0.01990731  | 0.02628010  | 0.000272002 | 0.005382248 | 0.005151963 |\n",
       "| 13 | 0.03468659  | 0.03524825  | 0.000438219 | 0.009869285 | 0.002885975 |\n",
       "| 14 | 0.02056099  | 0.02674306  | 0.000461578 | 0.003574792 | 0.003057196 |\n",
       "| 15 | 0.01370244  | 0.01590631  | 0.000125800 | 0.006443869 | 0.002096660 |\n",
       "| 46 | 0.01554516  | 0.01743988  | 0.000070400 | 0.015436478 | 0.000782436 |\n",
       "| 47 | 0.03358672  | 0.04730000  | 0.000893584 | 0.015083101 | 0.007128834 |\n",
       "| 48 | 0.02077485  | 0.02837479  | 0.000344417 | 0.005666810 | 0.000388217 |\n",
       "| 49 | 0.01721384  | 0.02272525  | 0.000358822 | 0.014405125 | 0.000660747 |\n",
       "| 50 | 0.02638435  | 0.02713242  | 0.000220700 | 0.001712124 | 0.000295834 |\n",
       "| 51 | 0.04434300  | 0.06034237  | 0.000480898 | 0.005304473 | 0.001129115 |\n",
       "| 52 | 0.03763089  | 0.03468454  | 0.000079800 | 0.001364824 | 0.001547033 |\n",
       "| 53 | 0.02040535  | 0.01886642  | 0.000211967 | 0.003822965 | 0.000127560 |\n",
       "| 54 | 0.02138438  | 0.02360411  | 0.000295547 | 0.004793262 | 0.000274643 |\n",
       "| 55 | 0.05964696  | 0.05549449  | 0.001414502 | 0.011349027 | 0.005935293 |\n",
       "| 56 | 0.04497175  | 0.05550000  | 0.002088647 | 0.036192126 | 0.022604573 |\n",
       "| 57 | 0.02133076  | 0.01646710  | 0.000256788 | 0.013698443 | 0.010937874 |\n",
       "| 58 | 0.02490688  | 0.03206221  | 0.000419691 | 0.005727881 | 0.000307414 |\n",
       "| 59 | 0.03281729  | 0.04936763  | 0.000642284 | 0.010007820 | 0.004423422 |\n",
       "| 60 | 0.03188133  | 0.04960000  | 0.001081596 | 0.022043113 | 0.034877676 |\n",
       "\n"
      ],
      "text/plain": [
       "   mass_400   mass_500   mass_600    mass_700    mass_800   \n",
       "1  0.02783425 0.04399547 0.001158695 0.023595791 0.008372238\n",
       "2  0.03378540 0.04300000 0.000571394 0.015961516 0.002533112\n",
       "3  0.01826321 0.02399175 0.000426553 0.006921314 0.005986740\n",
       "4  0.02336948 0.02439774 0.000282014 0.001110971 0.000516804\n",
       "5  0.02367537 0.03248531 0.000438144 0.008931290 0.002606911\n",
       "6  0.02534834 0.01977122 0.000199671 0.002390123 0.003758617\n",
       "7  0.02048274 0.02220000 0.000518243 0.009083782 0.000240823\n",
       "8  0.02040252 0.01731765 0.000216445 0.011252827 0.001235085\n",
       "9  0.01989208 0.01820000 0.000297419 0.000536621 0.000000000\n",
       "10 0.02448936 0.02156438 0.000306593 0.011988440 0.000863835\n",
       "11 0.02634747 0.02500000 0.000452314 0.002832549 0.001919806\n",
       "12 0.01990731 0.02628010 0.000272002 0.005382248 0.005151963\n",
       "13 0.03468659 0.03524825 0.000438219 0.009869285 0.002885975\n",
       "14 0.02056099 0.02674306 0.000461578 0.003574792 0.003057196\n",
       "15 0.01370244 0.01590631 0.000125800 0.006443869 0.002096660\n",
       "46 0.01554516 0.01743988 0.000070400 0.015436478 0.000782436\n",
       "47 0.03358672 0.04730000 0.000893584 0.015083101 0.007128834\n",
       "48 0.02077485 0.02837479 0.000344417 0.005666810 0.000388217\n",
       "49 0.01721384 0.02272525 0.000358822 0.014405125 0.000660747\n",
       "50 0.02638435 0.02713242 0.000220700 0.001712124 0.000295834\n",
       "51 0.04434300 0.06034237 0.000480898 0.005304473 0.001129115\n",
       "52 0.03763089 0.03468454 0.000079800 0.001364824 0.001547033\n",
       "53 0.02040535 0.01886642 0.000211967 0.003822965 0.000127560\n",
       "54 0.02138438 0.02360411 0.000295547 0.004793262 0.000274643\n",
       "55 0.05964696 0.05549449 0.001414502 0.011349027 0.005935293\n",
       "56 0.04497175 0.05550000 0.002088647 0.036192126 0.022604573\n",
       "57 0.02133076 0.01646710 0.000256788 0.013698443 0.010937874\n",
       "58 0.02490688 0.03206221 0.000419691 0.005727881 0.000307414\n",
       "59 0.03281729 0.04936763 0.000642284 0.010007820 0.004423422\n",
       "60 0.03188133 0.04960000 0.001081596 0.022043113 0.034877676"
      ]
     },
     "metadata": {},
     "output_type": "display_data"
    },
    {
     "data": {
      "text/html": [
       "<table>\n",
       "<thead><tr><th scope=col>filename</th><th scope=col>MouseID</th><th scope=col>Treatmentgroup</th><th scope=col>status</th><th scope=col>DPI</th><th scope=col>organ</th><th scope=col>well_position</th><th scope=col>plate</th><th scope=col>mass_400</th><th scope=col>mass_500</th><th scope=col>mass_600</th><th scope=col>mass_700</th><th scope=col>mass_800</th></tr></thead>\n",
       "<tbody>\n",
       "\t<tr><td>X501_Group1A_50dpi_RA_251_B_A1_P125.mzXML</td><td>501                                      </td><td>Group1A                                  </td><td>naive                                    </td><td>50                                       </td><td>RA                                       </td><td>A1                                       </td><td>P125                                     </td><td>0.02783425                               </td><td>0.04399547                               </td><td>0.001158695                              </td><td>0.023595791                              </td><td>0.008372238                              </td></tr>\n",
       "\t<tr><td>X502_Group1A_50dpi_RA_252_B_A2_P125.mzXML</td><td>502                                      </td><td>Group1A                                  </td><td>naive                                    </td><td>50                                       </td><td>RA                                       </td><td>A2                                       </td><td>P125                                     </td><td>0.03378540                               </td><td>0.04300000                               </td><td>0.000571394                              </td><td>0.015961516                              </td><td>0.002533112                              </td></tr>\n",
       "\t<tr><td>X503_Group1A_50dpi_RA_253_B_A3_P125.mzXML</td><td>503                                      </td><td>Group1A                                  </td><td>naive                                    </td><td>50                                       </td><td>RA                                       </td><td>A3                                       </td><td>P125                                     </td><td>0.01826321                               </td><td>0.02399175                               </td><td>0.000426553                              </td><td>0.006921314                              </td><td>0.005986740                              </td></tr>\n",
       "\t<tr><td>X504_Group1A_50dpi_RA_254_B_A4_P125.mzXML</td><td>504                                      </td><td>Group1A                                  </td><td>naive                                    </td><td>50                                       </td><td>RA                                       </td><td>A4                                       </td><td>P125                                     </td><td>0.02336948                               </td><td>0.02439774                               </td><td>0.000282014                              </td><td>0.001110971                              </td><td>0.000516804                              </td></tr>\n",
       "\t<tr><td>X505_Group1A_50dpi_RA_255_B_A5_P125.mzXML</td><td>505                                      </td><td>Group1A                                  </td><td>naive                                    </td><td>50                                       </td><td>RA                                       </td><td>A5                                       </td><td>P125                                     </td><td>0.02367537                               </td><td>0.03248531                               </td><td>0.000438144                              </td><td>0.008931290                              </td><td>0.002606911                              </td></tr>\n",
       "\t<tr><td>X521_Group1A_50dpi_RA_256_B_A6_P125.mzXML</td><td>521                                      </td><td>Group1A                                  </td><td>naive                                    </td><td>50                                       </td><td>RA                                       </td><td>A6                                       </td><td>P125                                     </td><td>0.02534834                               </td><td>0.01977122                               </td><td>0.000199671                              </td><td>0.002390123                              </td><td>0.003758617                              </td></tr>\n",
       "</tbody>\n",
       "</table>\n"
      ],
      "text/latex": [
       "\\begin{tabular}{r|lllllllllllll}\n",
       " filename & MouseID & Treatmentgroup & status & DPI & organ & well\\_position & plate & mass\\_400 & mass\\_500 & mass\\_600 & mass\\_700 & mass\\_800\\\\\n",
       "\\hline\n",
       "\t X501\\_Group1A\\_50dpi\\_RA\\_251\\_B\\_A1\\_P125.mzXML & 501                                                     & Group1A                                                 & naive                                                   & 50                                                      & RA                                                      & A1                                                      & P125                                                    & 0.02783425                                              & 0.04399547                                              & 0.001158695                                             & 0.023595791                                             & 0.008372238                                            \\\\\n",
       "\t X502\\_Group1A\\_50dpi\\_RA\\_252\\_B\\_A2\\_P125.mzXML & 502                                                     & Group1A                                                 & naive                                                   & 50                                                      & RA                                                      & A2                                                      & P125                                                    & 0.03378540                                              & 0.04300000                                              & 0.000571394                                             & 0.015961516                                             & 0.002533112                                            \\\\\n",
       "\t X503\\_Group1A\\_50dpi\\_RA\\_253\\_B\\_A3\\_P125.mzXML & 503                                                     & Group1A                                                 & naive                                                   & 50                                                      & RA                                                      & A3                                                      & P125                                                    & 0.01826321                                              & 0.02399175                                              & 0.000426553                                             & 0.006921314                                             & 0.005986740                                            \\\\\n",
       "\t X504\\_Group1A\\_50dpi\\_RA\\_254\\_B\\_A4\\_P125.mzXML & 504                                                     & Group1A                                                 & naive                                                   & 50                                                      & RA                                                      & A4                                                      & P125                                                    & 0.02336948                                              & 0.02439774                                              & 0.000282014                                             & 0.001110971                                             & 0.000516804                                            \\\\\n",
       "\t X505\\_Group1A\\_50dpi\\_RA\\_255\\_B\\_A5\\_P125.mzXML & 505                                                     & Group1A                                                 & naive                                                   & 50                                                      & RA                                                      & A5                                                      & P125                                                    & 0.02367537                                              & 0.03248531                                              & 0.000438144                                             & 0.008931290                                             & 0.002606911                                            \\\\\n",
       "\t X521\\_Group1A\\_50dpi\\_RA\\_256\\_B\\_A6\\_P125.mzXML & 521                                                     & Group1A                                                 & naive                                                   & 50                                                      & RA                                                      & A6                                                      & P125                                                    & 0.02534834                                              & 0.01977122                                              & 0.000199671                                             & 0.002390123                                             & 0.003758617                                            \\\\\n",
       "\\end{tabular}\n"
      ],
      "text/markdown": [
       "\n",
       "| filename | MouseID | Treatmentgroup | status | DPI | organ | well_position | plate | mass_400 | mass_500 | mass_600 | mass_700 | mass_800 |\n",
       "|---|---|---|---|---|---|---|---|---|---|---|---|---|\n",
       "| X501_Group1A_50dpi_RA_251_B_A1_P125.mzXML | 501                                       | Group1A                                   | naive                                     | 50                                        | RA                                        | A1                                        | P125                                      | 0.02783425                                | 0.04399547                                | 0.001158695                               | 0.023595791                               | 0.008372238                               |\n",
       "| X502_Group1A_50dpi_RA_252_B_A2_P125.mzXML | 502                                       | Group1A                                   | naive                                     | 50                                        | RA                                        | A2                                        | P125                                      | 0.03378540                                | 0.04300000                                | 0.000571394                               | 0.015961516                               | 0.002533112                               |\n",
       "| X503_Group1A_50dpi_RA_253_B_A3_P125.mzXML | 503                                       | Group1A                                   | naive                                     | 50                                        | RA                                        | A3                                        | P125                                      | 0.01826321                                | 0.02399175                                | 0.000426553                               | 0.006921314                               | 0.005986740                               |\n",
       "| X504_Group1A_50dpi_RA_254_B_A4_P125.mzXML | 504                                       | Group1A                                   | naive                                     | 50                                        | RA                                        | A4                                        | P125                                      | 0.02336948                                | 0.02439774                                | 0.000282014                               | 0.001110971                               | 0.000516804                               |\n",
       "| X505_Group1A_50dpi_RA_255_B_A5_P125.mzXML | 505                                       | Group1A                                   | naive                                     | 50                                        | RA                                        | A5                                        | P125                                      | 0.02367537                                | 0.03248531                                | 0.000438144                               | 0.008931290                               | 0.002606911                               |\n",
       "| X521_Group1A_50dpi_RA_256_B_A6_P125.mzXML | 521                                       | Group1A                                   | naive                                     | 50                                        | RA                                        | A6                                        | P125                                      | 0.02534834                                | 0.01977122                                | 0.000199671                               | 0.002390123                               | 0.003758617                               |\n",
       "\n"
      ],
      "text/plain": [
       "  filename                                  MouseID Treatmentgroup status DPI\n",
       "1 X501_Group1A_50dpi_RA_251_B_A1_P125.mzXML 501     Group1A        naive  50 \n",
       "2 X502_Group1A_50dpi_RA_252_B_A2_P125.mzXML 502     Group1A        naive  50 \n",
       "3 X503_Group1A_50dpi_RA_253_B_A3_P125.mzXML 503     Group1A        naive  50 \n",
       "4 X504_Group1A_50dpi_RA_254_B_A4_P125.mzXML 504     Group1A        naive  50 \n",
       "5 X505_Group1A_50dpi_RA_255_B_A5_P125.mzXML 505     Group1A        naive  50 \n",
       "6 X521_Group1A_50dpi_RA_256_B_A6_P125.mzXML 521     Group1A        naive  50 \n",
       "  organ well_position plate mass_400   mass_500   mass_600    mass_700   \n",
       "1 RA    A1            P125  0.02783425 0.04399547 0.001158695 0.023595791\n",
       "2 RA    A2            P125  0.03378540 0.04300000 0.000571394 0.015961516\n",
       "3 RA    A3            P125  0.01826321 0.02399175 0.000426553 0.006921314\n",
       "4 RA    A4            P125  0.02336948 0.02439774 0.000282014 0.001110971\n",
       "5 RA    A5            P125  0.02367537 0.03248531 0.000438144 0.008931290\n",
       "6 RA    A6            P125  0.02534834 0.01977122 0.000199671 0.002390123\n",
       "  mass_800   \n",
       "1 0.008372238\n",
       "2 0.002533112\n",
       "3 0.005986740\n",
       "4 0.000516804\n",
       "5 0.002606911\n",
       "6 0.003758617"
      ]
     },
     "metadata": {},
     "output_type": "display_data"
    },
    {
     "data": {
      "text/html": [
       "<ol class=list-inline>\n",
       "\t<li>30</li>\n",
       "\t<li>13</li>\n",
       "</ol>\n"
      ],
      "text/latex": [
       "\\begin{enumerate*}\n",
       "\\item 30\n",
       "\\item 13\n",
       "\\end{enumerate*}\n"
      ],
      "text/markdown": [
       "1. 30\n",
       "2. 13\n",
       "\n",
       "\n"
      ],
      "text/plain": [
       "[1] 30 13"
      ]
     },
     "metadata": {},
     "output_type": "display_data"
    },
    {
     "data": {
      "text/html": [
       "<ol class=list-inline>\n",
       "\t<li>30</li>\n",
       "\t<li>5</li>\n",
       "</ol>\n"
      ],
      "text/latex": [
       "\\begin{enumerate*}\n",
       "\\item 30\n",
       "\\item 5\n",
       "\\end{enumerate*}\n"
      ],
      "text/markdown": [
       "1. 30\n",
       "2. 5\n",
       "\n",
       "\n"
      ],
      "text/plain": [
       "[1] 30  5"
      ]
     },
     "metadata": {},
     "output_type": "display_data"
    },
    {
     "data": {
      "text/html": [
       "<ol class=list-inline>\n",
       "\t<li>30</li>\n",
       "\t<li>5</li>\n",
       "</ol>\n"
      ],
      "text/latex": [
       "\\begin{enumerate*}\n",
       "\\item 30\n",
       "\\item 5\n",
       "\\end{enumerate*}\n"
      ],
      "text/markdown": [
       "1. 30\n",
       "2. 5\n",
       "\n",
       "\n"
      ],
      "text/plain": [
       "[1] 30  5"
      ]
     },
     "metadata": {},
     "output_type": "display_data"
    },
    {
     "data": {
      "text/html": [
       "<ol class=list-inline>\n",
       "\t<li>30</li>\n",
       "\t<li>13</li>\n",
       "</ol>\n"
      ],
      "text/latex": [
       "\\begin{enumerate*}\n",
       "\\item 30\n",
       "\\item 13\n",
       "\\end{enumerate*}\n"
      ],
      "text/markdown": [
       "1. 30\n",
       "2. 13\n",
       "\n",
       "\n"
      ],
      "text/plain": [
       "[1] 30 13"
      ]
     },
     "metadata": {},
     "output_type": "display_data"
    }
   ],
   "source": [
    "noMeta<-features_pos[,9:13]\n",
    "head(noMeta)\n",
    "not_zero<-which(colSums(noMeta) != 0)\n",
    "head(not_zero)\n",
    "nonzero <- noMeta[, not_zero]\n",
    "nonzero\n",
    "nonzero_wMeta<-cbind(features_pos[,1:8], nonzero)\n",
    "head(nonzero_wMeta)\n",
    "dim(features_pos)\n",
    "dim(noMeta)\n",
    "dim(nonzero)\n",
    "dim(nonzero_wMeta)"
   ]
  },
  {
   "cell_type": "code",
   "execution_count": 8,
   "metadata": {
    "scrolled": true
   },
   "outputs": [
    {
     "data": {
      "text/html": [
       "<ol class=list-inline>\n",
       "\t<li>0.136974224446085</li>\n",
       "\t<li>0.0975257598239064</li>\n",
       "\t<li>0.838134776780856</li>\n",
       "\t<li>0.366875192434742</li>\n",
       "\t<li>0.870194456435353</li>\n",
       "</ol>\n"
      ],
      "text/latex": [
       "\\begin{enumerate*}\n",
       "\\item 0.136974224446085\n",
       "\\item 0.0975257598239064\n",
       "\\item 0.838134776780856\n",
       "\\item 0.366875192434742\n",
       "\\item 0.870194456435353\n",
       "\\end{enumerate*}\n"
      ],
      "text/markdown": [
       "1. 0.136974224446085\n",
       "2. 0.0975257598239064\n",
       "3. 0.838134776780856\n",
       "4. 0.366875192434742\n",
       "5. 0.870194456435353\n",
       "\n",
       "\n"
      ],
      "text/plain": [
       "[1] 0.13697422 0.09752576 0.83813478 0.36687519 0.87019446"
      ]
     },
     "metadata": {},
     "output_type": "display_data"
    },
    {
     "data": {
      "text/html": [
       "<ol class=list-inline>\n",
       "\t<li>0.342435561115211</li>\n",
       "\t<li>0.342435561115211</li>\n",
       "\t<li>0.870194456435353</li>\n",
       "\t<li>0.611458654057904</li>\n",
       "\t<li>0.870194456435353</li>\n",
       "</ol>\n"
      ],
      "text/latex": [
       "\\begin{enumerate*}\n",
       "\\item 0.342435561115211\n",
       "\\item 0.342435561115211\n",
       "\\item 0.870194456435353\n",
       "\\item 0.611458654057904\n",
       "\\item 0.870194456435353\n",
       "\\end{enumerate*}\n"
      ],
      "text/markdown": [
       "1. 0.342435561115211\n",
       "2. 0.342435561115211\n",
       "3. 0.870194456435353\n",
       "4. 0.611458654057904\n",
       "5. 0.870194456435353\n",
       "\n",
       "\n"
      ],
      "text/plain": [
       "[1] 0.3424356 0.3424356 0.8701945 0.6114587 0.8701945"
      ]
     },
     "metadata": {},
     "output_type": "display_data"
    }
   ],
   "source": [
    "pval<-c()\n",
    "\n",
    "for (i in 9:ncol(nonzero_wMeta)) \n",
    "pval<-c(pval,wilcox.test(nonzero_wMeta[,i]~nonzero_wMeta$Treatmentgroup)$p.value)\n",
    "head(pval)\n",
    "pAdj <- p.adjust(pval, method = c(\"fdr\"), n=length(pval)) \n",
    "head(pAdj) \n",
    "\n"
   ]
  },
  {
   "cell_type": "code",
   "execution_count": 9,
   "metadata": {
    "scrolled": true
   },
   "outputs": [
    {
     "data": {
      "text/html": [
       "5"
      ],
      "text/latex": [
       "5"
      ],
      "text/markdown": [
       "5"
      ],
      "text/plain": [
       "[1] 5"
      ]
     },
     "metadata": {},
     "output_type": "display_data"
    }
   ],
   "source": [
    "length(pval)"
   ]
  },
  {
   "cell_type": "code",
   "execution_count": 10,
   "metadata": {
    "scrolled": true
   },
   "outputs": [
    {
     "data": {
      "text/html": [
       "5"
      ],
      "text/latex": [
       "5"
      ],
      "text/markdown": [
       "5"
      ],
      "text/plain": [
       "[1] 5"
      ]
     },
     "metadata": {},
     "output_type": "display_data"
    }
   ],
   "source": [
    "length(pAdj)"
   ]
  },
  {
   "cell_type": "code",
   "execution_count": 11,
   "metadata": {},
   "outputs": [
    {
     "data": {
      "text/html": [
       "<ol class=list-inline>\n",
       "\t<li>2</li>\n",
       "\t<li>5</li>\n",
       "</ol>\n"
      ],
      "text/latex": [
       "\\begin{enumerate*}\n",
       "\\item 2\n",
       "\\item 5\n",
       "\\end{enumerate*}\n"
      ],
      "text/markdown": [
       "1. 2\n",
       "2. 5\n",
       "\n",
       "\n"
      ],
      "text/plain": [
       "[1] 2 5"
      ]
     },
     "metadata": {},
     "output_type": "display_data"
    },
    {
     "data": {
      "text/html": [
       "<table>\n",
       "<thead><tr><th></th><th scope=col>mass_400</th><th scope=col>mass_500</th><th scope=col>mass_600</th></tr></thead>\n",
       "<tbody>\n",
       "\t<tr><th scope=row>Group1A</th><td>0.02351650  </td><td>0.02640675  </td><td>0.0004110056</td></tr>\n",
       "\t<tr><th scope=row>Group3A</th><td>0.03018823  </td><td>0.03593075  </td><td>0.0005906429</td></tr>\n",
       "</tbody>\n",
       "</table>\n"
      ],
      "text/latex": [
       "\\begin{tabular}{r|lll}\n",
       "  & mass\\_400 & mass\\_500 & mass\\_600\\\\\n",
       "\\hline\n",
       "\tGroup1A & 0.02351650   & 0.02640675   & 0.0004110056\\\\\n",
       "\tGroup3A & 0.03018823   & 0.03593075   & 0.0005906429\\\\\n",
       "\\end{tabular}\n"
      ],
      "text/markdown": [
       "\n",
       "| <!--/--> | mass_400 | mass_500 | mass_600 |\n",
       "|---|---|---|---|\n",
       "| Group1A | 0.02351650   | 0.02640675   | 0.0004110056 |\n",
       "| Group3A | 0.03018823   | 0.03593075   | 0.0005906429 |\n",
       "\n"
      ],
      "text/plain": [
       "        mass_400   mass_500   mass_600    \n",
       "Group1A 0.02351650 0.02640675 0.0004110056\n",
       "Group3A 0.03018823 0.03593075 0.0005906429"
      ]
     },
     "metadata": {},
     "output_type": "display_data"
    },
    {
     "data": {
      "text/html": [
       "<dl class=dl-horizontal>\n",
       "\t<dt>mass_400</dt>\n",
       "\t\t<dd>0.778995663849246</dd>\n",
       "\t<dt>mass_500</dt>\n",
       "\t\t<dd>0.734934590302448</dd>\n",
       "\t<dt>mass_600</dt>\n",
       "\t\t<dd>0.695861447238901</dd>\n",
       "\t<dt>mass_700</dt>\n",
       "\t\t<dd>0.719507622378652</dd>\n",
       "\t<dt>mass_800</dt>\n",
       "\t\t<dd>0.450945771334363</dd>\n",
       "</dl>\n"
      ],
      "text/latex": [
       "\\begin{description*}\n",
       "\\item[mass\\textbackslash{}\\_400] 0.778995663849246\n",
       "\\item[mass\\textbackslash{}\\_500] 0.734934590302448\n",
       "\\item[mass\\textbackslash{}\\_600] 0.695861447238901\n",
       "\\item[mass\\textbackslash{}\\_700] 0.719507622378652\n",
       "\\item[mass\\textbackslash{}\\_800] 0.450945771334363\n",
       "\\end{description*}\n"
      ],
      "text/markdown": [
       "mass_400\n",
       ":   0.778995663849246mass_500\n",
       ":   0.734934590302448mass_600\n",
       ":   0.695861447238901mass_700\n",
       ":   0.719507622378652mass_800\n",
       ":   0.450945771334363\n",
       "\n"
      ],
      "text/plain": [
       " mass_400  mass_500  mass_600  mass_700  mass_800 \n",
       "0.7789957 0.7349346 0.6958614 0.7195076 0.4509458 "
      ]
     },
     "metadata": {},
     "output_type": "display_data"
    },
    {
     "data": {
      "text/html": [
       "<ol class=list-inline>\n",
       "\t<li>'numeric'</li>\n",
       "\t<li>'vector'</li>\n",
       "</ol>\n"
      ],
      "text/latex": [
       "\\begin{enumerate*}\n",
       "\\item 'numeric'\n",
       "\\item 'vector'\n",
       "\\end{enumerate*}\n"
      ],
      "text/markdown": [
       "1. 'numeric'\n",
       "2. 'vector'\n",
       "\n",
       "\n"
      ],
      "text/plain": [
       "[1] \"numeric\" \"vector\" "
      ]
     },
     "metadata": {},
     "output_type": "display_data"
    }
   ],
   "source": [
    "avg<- apply(nonzero_wMeta[,9:ncol(nonzero_wMeta)], 2, function(x) tapply(x, nonzero_wMeta$Treatmentgroup, function(x) mean(x))) \n",
    "\n",
    "dim(avg) \n",
    "\n",
    "avg[,1:3]\n",
    "\n",
    "fch <- apply(avg, 2, function(x) x[1]/x[2]) \n",
    "\n",
    "head(fch)\n",
    "is(fch)"
   ]
  },
  {
   "cell_type": "code",
   "execution_count": 12,
   "metadata": {
    "scrolled": true
   },
   "outputs": [
    {
     "data": {
      "text/html": [
       "<dl class=dl-horizontal>\n",
       "\t<dt>mass_400</dt>\n",
       "\t\t<dd>0.778995663849246</dd>\n",
       "\t<dt>mass_500</dt>\n",
       "\t\t<dd>0.734934590302448</dd>\n",
       "\t<dt>mass_600</dt>\n",
       "\t\t<dd>0.695861447238901</dd>\n",
       "\t<dt>mass_700</dt>\n",
       "\t\t<dd>0.719507622378652</dd>\n",
       "\t<dt>mass_800</dt>\n",
       "\t\t<dd>0.450945771334363</dd>\n",
       "</dl>\n"
      ],
      "text/latex": [
       "\\begin{description*}\n",
       "\\item[mass\\textbackslash{}\\_400] 0.778995663849246\n",
       "\\item[mass\\textbackslash{}\\_500] 0.734934590302448\n",
       "\\item[mass\\textbackslash{}\\_600] 0.695861447238901\n",
       "\\item[mass\\textbackslash{}\\_700] 0.719507622378652\n",
       "\\item[mass\\textbackslash{}\\_800] 0.450945771334363\n",
       "\\end{description*}\n"
      ],
      "text/markdown": [
       "mass_400\n",
       ":   0.778995663849246mass_500\n",
       ":   0.734934590302448mass_600\n",
       ":   0.695861447238901mass_700\n",
       ":   0.719507622378652mass_800\n",
       ":   0.450945771334363\n",
       "\n"
      ],
      "text/plain": [
       " mass_400  mass_500  mass_600  mass_700  mass_800 \n",
       "0.7789957 0.7349346 0.6958614 0.7195076 0.4509458 "
      ]
     },
     "metadata": {},
     "output_type": "display_data"
    }
   ],
   "source": [
    "fch"
   ]
  },
  {
   "cell_type": "code",
   "execution_count": 13,
   "metadata": {
    "scrolled": false
   },
   "outputs": [],
   "source": [
    "df <- data.frame(fch,pval, pAdj)\n",
    "write.csv(df, \"PC-time-RA-wilcox-1A-3A.csv\")"
   ]
  },
  {
   "cell_type": "code",
   "execution_count": null,
   "metadata": {},
   "outputs": [],
   "source": []
  },
  {
   "cell_type": "code",
   "execution_count": null,
   "metadata": {},
   "outputs": [],
   "source": []
  },
  {
   "cell_type": "code",
   "execution_count": null,
   "metadata": {},
   "outputs": [],
   "source": []
  },
  {
   "cell_type": "code",
   "execution_count": null,
   "metadata": {},
   "outputs": [],
   "source": []
  },
  {
   "cell_type": "code",
   "execution_count": null,
   "metadata": {},
   "outputs": [],
   "source": []
  },
  {
   "cell_type": "code",
   "execution_count": null,
   "metadata": {},
   "outputs": [],
   "source": []
  }
 ],
 "metadata": {
  "kernelspec": {
   "display_name": "R",
   "language": "R",
   "name": "ir"
  },
  "language_info": {
   "codemirror_mode": "r",
   "file_extension": ".r",
   "mimetype": "text/x-r-source",
   "name": "R",
   "pygments_lexer": "r",
   "version": "3.6.1"
  }
 },
 "nbformat": 4,
 "nbformat_minor": 2
}
