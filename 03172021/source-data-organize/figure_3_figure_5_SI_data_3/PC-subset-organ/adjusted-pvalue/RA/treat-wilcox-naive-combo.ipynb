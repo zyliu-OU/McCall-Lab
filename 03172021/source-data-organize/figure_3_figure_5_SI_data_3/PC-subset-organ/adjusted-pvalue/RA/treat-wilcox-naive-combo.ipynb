{
 "cells": [
  {
   "cell_type": "code",
   "execution_count": 1,
   "metadata": {},
   "outputs": [],
   "source": [
    "a <- read.csv(\"03172021-PC-treatment-RA-M-F.csv\")"
   ]
  },
  {
   "cell_type": "code",
   "execution_count": 2,
   "metadata": {},
   "outputs": [
    {
     "data": {
      "text/html": [
       "<table>\n",
       "<thead><tr><th scope=col>filename</th><th scope=col>MouseID</th><th scope=col>Treatmentgroup</th><th scope=col>DPI</th><th scope=col>organ</th><th scope=col>well_position</th><th scope=col>plate</th><th scope=col>mass_400</th><th scope=col>mass_500</th><th scope=col>mass_600</th><th scope=col>mass_700</th><th scope=col>mass_800</th></tr></thead>\n",
       "<tbody>\n",
       "\t<tr><td>X511_Group1C_142dpi_RA_161_G_A1_P124.mzXML</td><td>511                                       </td><td>naive                                     </td><td>142dpi                                    </td><td>RA                                        </td><td>A1                                        </td><td>P124                                      </td><td>0.01994283                                </td><td>0.02502781                                </td><td>0.000415632                               </td><td>0.005854332                               </td><td>0.003647412                               </td></tr>\n",
       "\t<tr><td>X512_Group1C_142dpi_RA_162_G_A2_P124.mzXML</td><td>512                                       </td><td>naive                                     </td><td>142dpi                                    </td><td>RA                                        </td><td>A2                                        </td><td>P124                                      </td><td>0.03626993                                </td><td>0.04240000                                </td><td>0.000906489                               </td><td>0.011036420                               </td><td>0.003723513                               </td></tr>\n",
       "\t<tr><td>X513_Group1C_142dpi_RA_163_G_A3_P124.mzXML</td><td>513                                       </td><td>naive                                     </td><td>142dpi                                    </td><td>RA                                        </td><td>A3                                        </td><td>P124                                      </td><td>0.03151262                                </td><td>0.05470000                                </td><td>0.001419182                               </td><td>0.025528456                               </td><td>0.020909886                               </td></tr>\n",
       "\t<tr><td>X514_Group1C_142dpi_RA_164_G_A4_P124.mzXML</td><td>514                                       </td><td>naive                                     </td><td>142dpi                                    </td><td>RA                                        </td><td>A4                                        </td><td>P124                                      </td><td>0.03428018                                </td><td>0.03961443                                </td><td>0.000910830                               </td><td>0.003097366                               </td><td>0.005380550                               </td></tr>\n",
       "\t<tr><td>X515_Group1C_142dpi_RA_165_G_A5_P124.mzXML</td><td>515                                       </td><td>naive                                     </td><td>142dpi                                    </td><td>RA                                        </td><td>A5                                        </td><td>P124                                      </td><td>0.02349768                                </td><td>0.02730000                                </td><td>0.001071729                               </td><td>0.004059030                               </td><td>0.002179902                               </td></tr>\n",
       "\t<tr><td>X531_Group1C_142dpi_RA_166_G_A6_P124.mzXML</td><td>531                                       </td><td>naive                                     </td><td>142dpi                                    </td><td>RA                                        </td><td>A6                                        </td><td>P124                                      </td><td>0.02585822                                </td><td>0.03340000                                </td><td>0.000938300                               </td><td>0.012900000                               </td><td>0.007982976                               </td></tr>\n",
       "</tbody>\n",
       "</table>\n"
      ],
      "text/latex": [
       "\\begin{tabular}{r|llllllllllll}\n",
       " filename & MouseID & Treatmentgroup & DPI & organ & well\\_position & plate & mass\\_400 & mass\\_500 & mass\\_600 & mass\\_700 & mass\\_800\\\\\n",
       "\\hline\n",
       "\t X511\\_Group1C\\_142dpi\\_RA\\_161\\_G\\_A1\\_P124.mzXML & 511                                                      & naive                                                    & 142dpi                                                   & RA                                                       & A1                                                       & P124                                                     & 0.01994283                                               & 0.02502781                                               & 0.000415632                                              & 0.005854332                                              & 0.003647412                                             \\\\\n",
       "\t X512\\_Group1C\\_142dpi\\_RA\\_162\\_G\\_A2\\_P124.mzXML & 512                                                      & naive                                                    & 142dpi                                                   & RA                                                       & A2                                                       & P124                                                     & 0.03626993                                               & 0.04240000                                               & 0.000906489                                              & 0.011036420                                              & 0.003723513                                             \\\\\n",
       "\t X513\\_Group1C\\_142dpi\\_RA\\_163\\_G\\_A3\\_P124.mzXML & 513                                                      & naive                                                    & 142dpi                                                   & RA                                                       & A3                                                       & P124                                                     & 0.03151262                                               & 0.05470000                                               & 0.001419182                                              & 0.025528456                                              & 0.020909886                                             \\\\\n",
       "\t X514\\_Group1C\\_142dpi\\_RA\\_164\\_G\\_A4\\_P124.mzXML & 514                                                      & naive                                                    & 142dpi                                                   & RA                                                       & A4                                                       & P124                                                     & 0.03428018                                               & 0.03961443                                               & 0.000910830                                              & 0.003097366                                              & 0.005380550                                             \\\\\n",
       "\t X515\\_Group1C\\_142dpi\\_RA\\_165\\_G\\_A5\\_P124.mzXML & 515                                                      & naive                                                    & 142dpi                                                   & RA                                                       & A5                                                       & P124                                                     & 0.02349768                                               & 0.02730000                                               & 0.001071729                                              & 0.004059030                                              & 0.002179902                                             \\\\\n",
       "\t X531\\_Group1C\\_142dpi\\_RA\\_166\\_G\\_A6\\_P124.mzXML & 531                                                      & naive                                                    & 142dpi                                                   & RA                                                       & A6                                                       & P124                                                     & 0.02585822                                               & 0.03340000                                               & 0.000938300                                              & 0.012900000                                              & 0.007982976                                             \\\\\n",
       "\\end{tabular}\n"
      ],
      "text/markdown": [
       "\n",
       "| filename | MouseID | Treatmentgroup | DPI | organ | well_position | plate | mass_400 | mass_500 | mass_600 | mass_700 | mass_800 |\n",
       "|---|---|---|---|---|---|---|---|---|---|---|---|\n",
       "| X511_Group1C_142dpi_RA_161_G_A1_P124.mzXML | 511                                        | naive                                      | 142dpi                                     | RA                                         | A1                                         | P124                                       | 0.01994283                                 | 0.02502781                                 | 0.000415632                                | 0.005854332                                | 0.003647412                                |\n",
       "| X512_Group1C_142dpi_RA_162_G_A2_P124.mzXML | 512                                        | naive                                      | 142dpi                                     | RA                                         | A2                                         | P124                                       | 0.03626993                                 | 0.04240000                                 | 0.000906489                                | 0.011036420                                | 0.003723513                                |\n",
       "| X513_Group1C_142dpi_RA_163_G_A3_P124.mzXML | 513                                        | naive                                      | 142dpi                                     | RA                                         | A3                                         | P124                                       | 0.03151262                                 | 0.05470000                                 | 0.001419182                                | 0.025528456                                | 0.020909886                                |\n",
       "| X514_Group1C_142dpi_RA_164_G_A4_P124.mzXML | 514                                        | naive                                      | 142dpi                                     | RA                                         | A4                                         | P124                                       | 0.03428018                                 | 0.03961443                                 | 0.000910830                                | 0.003097366                                | 0.005380550                                |\n",
       "| X515_Group1C_142dpi_RA_165_G_A5_P124.mzXML | 515                                        | naive                                      | 142dpi                                     | RA                                         | A5                                         | P124                                       | 0.02349768                                 | 0.02730000                                 | 0.001071729                                | 0.004059030                                | 0.002179902                                |\n",
       "| X531_Group1C_142dpi_RA_166_G_A6_P124.mzXML | 531                                        | naive                                      | 142dpi                                     | RA                                         | A6                                         | P124                                       | 0.02585822                                 | 0.03340000                                 | 0.000938300                                | 0.012900000                                | 0.007982976                                |\n",
       "\n"
      ],
      "text/plain": [
       "  filename                                   MouseID Treatmentgroup DPI   \n",
       "1 X511_Group1C_142dpi_RA_161_G_A1_P124.mzXML 511     naive          142dpi\n",
       "2 X512_Group1C_142dpi_RA_162_G_A2_P124.mzXML 512     naive          142dpi\n",
       "3 X513_Group1C_142dpi_RA_163_G_A3_P124.mzXML 513     naive          142dpi\n",
       "4 X514_Group1C_142dpi_RA_164_G_A4_P124.mzXML 514     naive          142dpi\n",
       "5 X515_Group1C_142dpi_RA_165_G_A5_P124.mzXML 515     naive          142dpi\n",
       "6 X531_Group1C_142dpi_RA_166_G_A6_P124.mzXML 531     naive          142dpi\n",
       "  organ well_position plate mass_400   mass_500   mass_600    mass_700   \n",
       "1 RA    A1            P124  0.01994283 0.02502781 0.000415632 0.005854332\n",
       "2 RA    A2            P124  0.03626993 0.04240000 0.000906489 0.011036420\n",
       "3 RA    A3            P124  0.03151262 0.05470000 0.001419182 0.025528456\n",
       "4 RA    A4            P124  0.03428018 0.03961443 0.000910830 0.003097366\n",
       "5 RA    A5            P124  0.02349768 0.02730000 0.001071729 0.004059030\n",
       "6 RA    A6            P124  0.02585822 0.03340000 0.000938300 0.012900000\n",
       "  mass_800   \n",
       "1 0.003647412\n",
       "2 0.003723513\n",
       "3 0.020909886\n",
       "4 0.005380550\n",
       "5 0.002179902\n",
       "6 0.007982976"
      ]
     },
     "metadata": {},
     "output_type": "display_data"
    },
    {
     "data": {
      "text/html": [
       "<ol class=list-inline>\n",
       "\t<li>60</li>\n",
       "\t<li>12</li>\n",
       "</ol>\n"
      ],
      "text/latex": [
       "\\begin{enumerate*}\n",
       "\\item 60\n",
       "\\item 12\n",
       "\\end{enumerate*}\n"
      ],
      "text/markdown": [
       "1. 60\n",
       "2. 12\n",
       "\n",
       "\n"
      ],
      "text/plain": [
       "[1] 60 12"
      ]
     },
     "metadata": {},
     "output_type": "display_data"
    }
   ],
   "source": [
    "head(a)\n",
    "dim(a)"
   ]
  },
  {
   "cell_type": "code",
   "execution_count": 3,
   "metadata": {},
   "outputs": [
    {
     "data": {
      "text/html": [
       "<table>\n",
       "<thead><tr><th scope=col>filename</th><th scope=col>MouseID</th><th scope=col>Treatmentgroup</th><th scope=col>DPI</th><th scope=col>organ</th><th scope=col>well_position</th><th scope=col>plate</th><th scope=col>mass_400</th><th scope=col>mass_500</th><th scope=col>mass_600</th><th scope=col>mass_700</th><th scope=col>mass_800</th></tr></thead>\n",
       "<tbody>\n",
       "\t<tr><td>X511_Group1C_142dpi_RA_161_G_A1_P124.mzXML</td><td>511                                       </td><td>naive                                     </td><td>142dpi                                    </td><td>RA                                        </td><td>A1                                        </td><td>P124                                      </td><td>0.01994283                                </td><td>0.02502781                                </td><td>0.000415632                               </td><td>0.005854332                               </td><td>0.003647412                               </td></tr>\n",
       "\t<tr><td>X512_Group1C_142dpi_RA_162_G_A2_P124.mzXML</td><td>512                                       </td><td>naive                                     </td><td>142dpi                                    </td><td>RA                                        </td><td>A2                                        </td><td>P124                                      </td><td>0.03626993                                </td><td>0.04240000                                </td><td>0.000906489                               </td><td>0.011036420                               </td><td>0.003723513                               </td></tr>\n",
       "\t<tr><td>X513_Group1C_142dpi_RA_163_G_A3_P124.mzXML</td><td>513                                       </td><td>naive                                     </td><td>142dpi                                    </td><td>RA                                        </td><td>A3                                        </td><td>P124                                      </td><td>0.03151262                                </td><td>0.05470000                                </td><td>0.001419182                               </td><td>0.025528456                               </td><td>0.020909886                               </td></tr>\n",
       "\t<tr><td>X514_Group1C_142dpi_RA_164_G_A4_P124.mzXML</td><td>514                                       </td><td>naive                                     </td><td>142dpi                                    </td><td>RA                                        </td><td>A4                                        </td><td>P124                                      </td><td>0.03428018                                </td><td>0.03961443                                </td><td>0.000910830                               </td><td>0.003097366                               </td><td>0.005380550                               </td></tr>\n",
       "\t<tr><td>X515_Group1C_142dpi_RA_165_G_A5_P124.mzXML</td><td>515                                       </td><td>naive                                     </td><td>142dpi                                    </td><td>RA                                        </td><td>A5                                        </td><td>P124                                      </td><td>0.02349768                                </td><td>0.02730000                                </td><td>0.001071729                               </td><td>0.004059030                               </td><td>0.002179902                               </td></tr>\n",
       "\t<tr><td>X531_Group1C_142dpi_RA_166_G_A6_P124.mzXML</td><td>531                                       </td><td>naive                                     </td><td>142dpi                                    </td><td>RA                                        </td><td>A6                                        </td><td>P124                                      </td><td>0.02585822                                </td><td>0.03340000                                </td><td>0.000938300                               </td><td>0.012900000                               </td><td>0.007982976                               </td></tr>\n",
       "</tbody>\n",
       "</table>\n"
      ],
      "text/latex": [
       "\\begin{tabular}{r|llllllllllll}\n",
       " filename & MouseID & Treatmentgroup & DPI & organ & well\\_position & plate & mass\\_400 & mass\\_500 & mass\\_600 & mass\\_700 & mass\\_800\\\\\n",
       "\\hline\n",
       "\t X511\\_Group1C\\_142dpi\\_RA\\_161\\_G\\_A1\\_P124.mzXML & 511                                                      & naive                                                    & 142dpi                                                   & RA                                                       & A1                                                       & P124                                                     & 0.01994283                                               & 0.02502781                                               & 0.000415632                                              & 0.005854332                                              & 0.003647412                                             \\\\\n",
       "\t X512\\_Group1C\\_142dpi\\_RA\\_162\\_G\\_A2\\_P124.mzXML & 512                                                      & naive                                                    & 142dpi                                                   & RA                                                       & A2                                                       & P124                                                     & 0.03626993                                               & 0.04240000                                               & 0.000906489                                              & 0.011036420                                              & 0.003723513                                             \\\\\n",
       "\t X513\\_Group1C\\_142dpi\\_RA\\_163\\_G\\_A3\\_P124.mzXML & 513                                                      & naive                                                    & 142dpi                                                   & RA                                                       & A3                                                       & P124                                                     & 0.03151262                                               & 0.05470000                                               & 0.001419182                                              & 0.025528456                                              & 0.020909886                                             \\\\\n",
       "\t X514\\_Group1C\\_142dpi\\_RA\\_164\\_G\\_A4\\_P124.mzXML & 514                                                      & naive                                                    & 142dpi                                                   & RA                                                       & A4                                                       & P124                                                     & 0.03428018                                               & 0.03961443                                               & 0.000910830                                              & 0.003097366                                              & 0.005380550                                             \\\\\n",
       "\t X515\\_Group1C\\_142dpi\\_RA\\_165\\_G\\_A5\\_P124.mzXML & 515                                                      & naive                                                    & 142dpi                                                   & RA                                                       & A5                                                       & P124                                                     & 0.02349768                                               & 0.02730000                                               & 0.001071729                                              & 0.004059030                                              & 0.002179902                                             \\\\\n",
       "\t X531\\_Group1C\\_142dpi\\_RA\\_166\\_G\\_A6\\_P124.mzXML & 531                                                      & naive                                                    & 142dpi                                                   & RA                                                       & A6                                                       & P124                                                     & 0.02585822                                               & 0.03340000                                               & 0.000938300                                              & 0.012900000                                              & 0.007982976                                             \\\\\n",
       "\\end{tabular}\n"
      ],
      "text/markdown": [
       "\n",
       "| filename | MouseID | Treatmentgroup | DPI | organ | well_position | plate | mass_400 | mass_500 | mass_600 | mass_700 | mass_800 |\n",
       "|---|---|---|---|---|---|---|---|---|---|---|---|\n",
       "| X511_Group1C_142dpi_RA_161_G_A1_P124.mzXML | 511                                        | naive                                      | 142dpi                                     | RA                                         | A1                                         | P124                                       | 0.01994283                                 | 0.02502781                                 | 0.000415632                                | 0.005854332                                | 0.003647412                                |\n",
       "| X512_Group1C_142dpi_RA_162_G_A2_P124.mzXML | 512                                        | naive                                      | 142dpi                                     | RA                                         | A2                                         | P124                                       | 0.03626993                                 | 0.04240000                                 | 0.000906489                                | 0.011036420                                | 0.003723513                                |\n",
       "| X513_Group1C_142dpi_RA_163_G_A3_P124.mzXML | 513                                        | naive                                      | 142dpi                                     | RA                                         | A3                                         | P124                                       | 0.03151262                                 | 0.05470000                                 | 0.001419182                                | 0.025528456                                | 0.020909886                                |\n",
       "| X514_Group1C_142dpi_RA_164_G_A4_P124.mzXML | 514                                        | naive                                      | 142dpi                                     | RA                                         | A4                                         | P124                                       | 0.03428018                                 | 0.03961443                                 | 0.000910830                                | 0.003097366                                | 0.005380550                                |\n",
       "| X515_Group1C_142dpi_RA_165_G_A5_P124.mzXML | 515                                        | naive                                      | 142dpi                                     | RA                                         | A5                                         | P124                                       | 0.02349768                                 | 0.02730000                                 | 0.001071729                                | 0.004059030                                | 0.002179902                                |\n",
       "| X531_Group1C_142dpi_RA_166_G_A6_P124.mzXML | 531                                        | naive                                      | 142dpi                                     | RA                                         | A6                                         | P124                                       | 0.02585822                                 | 0.03340000                                 | 0.000938300                                | 0.012900000                                | 0.007982976                                |\n",
       "\n"
      ],
      "text/plain": [
       "  filename                                   MouseID Treatmentgroup DPI   \n",
       "1 X511_Group1C_142dpi_RA_161_G_A1_P124.mzXML 511     naive          142dpi\n",
       "2 X512_Group1C_142dpi_RA_162_G_A2_P124.mzXML 512     naive          142dpi\n",
       "3 X513_Group1C_142dpi_RA_163_G_A3_P124.mzXML 513     naive          142dpi\n",
       "4 X514_Group1C_142dpi_RA_164_G_A4_P124.mzXML 514     naive          142dpi\n",
       "5 X515_Group1C_142dpi_RA_165_G_A5_P124.mzXML 515     naive          142dpi\n",
       "6 X531_Group1C_142dpi_RA_166_G_A6_P124.mzXML 531     naive          142dpi\n",
       "  organ well_position plate mass_400   mass_500   mass_600    mass_700   \n",
       "1 RA    A1            P124  0.01994283 0.02502781 0.000415632 0.005854332\n",
       "2 RA    A2            P124  0.03626993 0.04240000 0.000906489 0.011036420\n",
       "3 RA    A3            P124  0.03151262 0.05470000 0.001419182 0.025528456\n",
       "4 RA    A4            P124  0.03428018 0.03961443 0.000910830 0.003097366\n",
       "5 RA    A5            P124  0.02349768 0.02730000 0.001071729 0.004059030\n",
       "6 RA    A6            P124  0.02585822 0.03340000 0.000938300 0.012900000\n",
       "  mass_800   \n",
       "1 0.003647412\n",
       "2 0.003723513\n",
       "3 0.020909886\n",
       "4 0.005380550\n",
       "5 0.002179902\n",
       "6 0.007982976"
      ]
     },
     "metadata": {},
     "output_type": "display_data"
    },
    {
     "data": {
      "text/html": [
       "<ol class=list-inline>\n",
       "\t<li>30</li>\n",
       "\t<li>12</li>\n",
       "</ol>\n"
      ],
      "text/latex": [
       "\\begin{enumerate*}\n",
       "\\item 30\n",
       "\\item 12\n",
       "\\end{enumerate*}\n"
      ],
      "text/markdown": [
       "1. 30\n",
       "2. 12\n",
       "\n",
       "\n"
      ],
      "text/plain": [
       "[1] 30 12"
      ]
     },
     "metadata": {},
     "output_type": "display_data"
    }
   ],
   "source": [
    "features_pos<-droplevels(subset(a, a$Treatmentgroup==c(\"naive\")|a$Treatmentgroup==c(\"combo\")))\n",
    "head(features_pos)\n",
    "dim(features_pos)"
   ]
  },
  {
   "cell_type": "code",
   "execution_count": 4,
   "metadata": {
    "scrolled": false
   },
   "outputs": [
    {
     "data": {
      "text/html": [
       "<table>\n",
       "<thead><tr><th scope=col>mass_400</th><th scope=col>mass_500</th><th scope=col>mass_600</th><th scope=col>mass_700</th><th scope=col>mass_800</th></tr></thead>\n",
       "<tbody>\n",
       "\t<tr><td>0.01994283 </td><td>0.02502781 </td><td>0.000415632</td><td>0.005854332</td><td>0.003647412</td></tr>\n",
       "\t<tr><td>0.03626993 </td><td>0.04240000 </td><td>0.000906489</td><td>0.011036420</td><td>0.003723513</td></tr>\n",
       "\t<tr><td>0.03151262 </td><td>0.05470000 </td><td>0.001419182</td><td>0.025528456</td><td>0.020909886</td></tr>\n",
       "\t<tr><td>0.03428018 </td><td>0.03961443 </td><td>0.000910830</td><td>0.003097366</td><td>0.005380550</td></tr>\n",
       "\t<tr><td>0.02349768 </td><td>0.02730000 </td><td>0.001071729</td><td>0.004059030</td><td>0.002179902</td></tr>\n",
       "\t<tr><td>0.02585822 </td><td>0.03340000 </td><td>0.000938300</td><td>0.012900000</td><td>0.007982976</td></tr>\n",
       "</tbody>\n",
       "</table>\n"
      ],
      "text/latex": [
       "\\begin{tabular}{r|lllll}\n",
       " mass\\_400 & mass\\_500 & mass\\_600 & mass\\_700 & mass\\_800\\\\\n",
       "\\hline\n",
       "\t 0.01994283  & 0.02502781  & 0.000415632 & 0.005854332 & 0.003647412\\\\\n",
       "\t 0.03626993  & 0.04240000  & 0.000906489 & 0.011036420 & 0.003723513\\\\\n",
       "\t 0.03151262  & 0.05470000  & 0.001419182 & 0.025528456 & 0.020909886\\\\\n",
       "\t 0.03428018  & 0.03961443  & 0.000910830 & 0.003097366 & 0.005380550\\\\\n",
       "\t 0.02349768  & 0.02730000  & 0.001071729 & 0.004059030 & 0.002179902\\\\\n",
       "\t 0.02585822  & 0.03340000  & 0.000938300 & 0.012900000 & 0.007982976\\\\\n",
       "\\end{tabular}\n"
      ],
      "text/markdown": [
       "\n",
       "| mass_400 | mass_500 | mass_600 | mass_700 | mass_800 |\n",
       "|---|---|---|---|---|\n",
       "| 0.01994283  | 0.02502781  | 0.000415632 | 0.005854332 | 0.003647412 |\n",
       "| 0.03626993  | 0.04240000  | 0.000906489 | 0.011036420 | 0.003723513 |\n",
       "| 0.03151262  | 0.05470000  | 0.001419182 | 0.025528456 | 0.020909886 |\n",
       "| 0.03428018  | 0.03961443  | 0.000910830 | 0.003097366 | 0.005380550 |\n",
       "| 0.02349768  | 0.02730000  | 0.001071729 | 0.004059030 | 0.002179902 |\n",
       "| 0.02585822  | 0.03340000  | 0.000938300 | 0.012900000 | 0.007982976 |\n",
       "\n"
      ],
      "text/plain": [
       "  mass_400   mass_500   mass_600    mass_700    mass_800   \n",
       "1 0.01994283 0.02502781 0.000415632 0.005854332 0.003647412\n",
       "2 0.03626993 0.04240000 0.000906489 0.011036420 0.003723513\n",
       "3 0.03151262 0.05470000 0.001419182 0.025528456 0.020909886\n",
       "4 0.03428018 0.03961443 0.000910830 0.003097366 0.005380550\n",
       "5 0.02349768 0.02730000 0.001071729 0.004059030 0.002179902\n",
       "6 0.02585822 0.03340000 0.000938300 0.012900000 0.007982976"
      ]
     },
     "metadata": {},
     "output_type": "display_data"
    },
    {
     "data": {
      "text/html": [
       "<dl class=dl-horizontal>\n",
       "\t<dt>mass_400</dt>\n",
       "\t\t<dd>1</dd>\n",
       "\t<dt>mass_500</dt>\n",
       "\t\t<dd>2</dd>\n",
       "\t<dt>mass_600</dt>\n",
       "\t\t<dd>3</dd>\n",
       "\t<dt>mass_700</dt>\n",
       "\t\t<dd>4</dd>\n",
       "\t<dt>mass_800</dt>\n",
       "\t\t<dd>5</dd>\n",
       "</dl>\n"
      ],
      "text/latex": [
       "\\begin{description*}\n",
       "\\item[mass\\textbackslash{}\\_400] 1\n",
       "\\item[mass\\textbackslash{}\\_500] 2\n",
       "\\item[mass\\textbackslash{}\\_600] 3\n",
       "\\item[mass\\textbackslash{}\\_700] 4\n",
       "\\item[mass\\textbackslash{}\\_800] 5\n",
       "\\end{description*}\n"
      ],
      "text/markdown": [
       "mass_400\n",
       ":   1mass_500\n",
       ":   2mass_600\n",
       ":   3mass_700\n",
       ":   4mass_800\n",
       ":   5\n",
       "\n"
      ],
      "text/plain": [
       "mass_400 mass_500 mass_600 mass_700 mass_800 \n",
       "       1        2        3        4        5 "
      ]
     },
     "metadata": {},
     "output_type": "display_data"
    },
    {
     "data": {
      "text/html": [
       "<table>\n",
       "<thead><tr><th></th><th scope=col>mass_400</th><th scope=col>mass_500</th><th scope=col>mass_600</th><th scope=col>mass_700</th><th scope=col>mass_800</th></tr></thead>\n",
       "<tbody>\n",
       "\t<tr><th scope=row>1</th><td>0.01994283 </td><td>0.02502781 </td><td>0.000415632</td><td>0.005854332</td><td>0.003647412</td></tr>\n",
       "\t<tr><th scope=row>2</th><td>0.03626993 </td><td>0.04240000 </td><td>0.000906489</td><td>0.011036420</td><td>0.003723513</td></tr>\n",
       "\t<tr><th scope=row>3</th><td>0.03151262 </td><td>0.05470000 </td><td>0.001419182</td><td>0.025528456</td><td>0.020909886</td></tr>\n",
       "\t<tr><th scope=row>4</th><td>0.03428018 </td><td>0.03961443 </td><td>0.000910830</td><td>0.003097366</td><td>0.005380550</td></tr>\n",
       "\t<tr><th scope=row>5</th><td>0.02349768 </td><td>0.02730000 </td><td>0.001071729</td><td>0.004059030</td><td>0.002179902</td></tr>\n",
       "\t<tr><th scope=row>6</th><td>0.02585822 </td><td>0.03340000 </td><td>0.000938300</td><td>0.012900000</td><td>0.007982976</td></tr>\n",
       "\t<tr><th scope=row>7</th><td>0.02476167 </td><td>0.02610229 </td><td>0.000211087</td><td>0.007370659</td><td>0.004820024</td></tr>\n",
       "\t<tr><th scope=row>8</th><td>0.02894913 </td><td>0.03450000 </td><td>0.001267203</td><td>0.011881974</td><td>0.007826870</td></tr>\n",
       "\t<tr><th scope=row>9</th><td>0.03583814 </td><td>0.03608487 </td><td>0.000152300</td><td>0.000468412</td><td>0.000000000</td></tr>\n",
       "\t<tr><th scope=row>10</th><td>0.02374601 </td><td>0.03178839 </td><td>0.000581695</td><td>0.001106489</td><td>0.001231509</td></tr>\n",
       "\t<tr><th scope=row>11</th><td>0.02731335 </td><td>0.04370000 </td><td>0.001050680</td><td>0.026527290</td><td>0.024057841</td></tr>\n",
       "\t<tr><th scope=row>12</th><td>0.03145276 </td><td>0.03280000 </td><td>0.000927309</td><td>0.005411842</td><td>0.001951292</td></tr>\n",
       "\t<tr><th scope=row>13</th><td>0.02470598 </td><td>0.02852526 </td><td>0.000568868</td><td>0.004297495</td><td>0.003629028</td></tr>\n",
       "\t<tr><th scope=row>14</th><td>0.02331197 </td><td>0.03006067 </td><td>0.000644870</td><td>0.010448144</td><td>0.005401860</td></tr>\n",
       "\t<tr><th scope=row>15</th><td>0.03310381 </td><td>0.03490000 </td><td>0.001029930</td><td>0.008950000</td><td>0.005288455</td></tr>\n",
       "\t<tr><th scope=row>21</th><td>0.02539119 </td><td>0.02750000 </td><td>0.000623198</td><td>0.000683356</td><td>0.000485430</td></tr>\n",
       "\t<tr><th scope=row>22</th><td>0.03425922 </td><td>0.03677236 </td><td>0.000867025</td><td>0.009992561</td><td>0.003903250</td></tr>\n",
       "\t<tr><th scope=row>23</th><td>0.05466666 </td><td>0.05527131 </td><td>0.000332905</td><td>0.009665168</td><td>0.007541397</td></tr>\n",
       "\t<tr><th scope=row>24</th><td>0.05583318 </td><td>0.04310704 </td><td>0.000125300</td><td>0.001003940</td><td>0.000719755</td></tr>\n",
       "\t<tr><th scope=row>25</th><td>0.02753791 </td><td>0.02575079 </td><td>0.000347477</td><td>0.000953228</td><td>0.000561463</td></tr>\n",
       "\t<tr><th scope=row>36</th><td>0.01829905 </td><td>0.02418814 </td><td>0.000427581</td><td>0.017586763</td><td>0.019199172</td></tr>\n",
       "\t<tr><th scope=row>37</th><td>0.03222459 </td><td>0.03062143 </td><td>0.000793577</td><td>0.020384170</td><td>0.012532026</td></tr>\n",
       "\t<tr><th scope=row>38</th><td>0.03658636 </td><td>0.04495604 </td><td>0.000617233</td><td>0.036789057</td><td>0.030950827</td></tr>\n",
       "\t<tr><th scope=row>39</th><td>0.05771467 </td><td>0.05079376 </td><td>0.000608656</td><td>0.009554335</td><td>0.005882736</td></tr>\n",
       "\t<tr><th scope=row>40</th><td>0.06192473 </td><td>0.06110000 </td><td>0.000702161</td><td>0.032454416</td><td>0.010214811</td></tr>\n",
       "\t<tr><th scope=row>51</th><td>0.03665550 </td><td>0.05019120 </td><td>0.001254484</td><td>0.005169859</td><td>0.009431976</td></tr>\n",
       "\t<tr><th scope=row>52</th><td>0.03880516 </td><td>0.03320878 </td><td>0.000081800</td><td>0.000943904</td><td>0.001498091</td></tr>\n",
       "\t<tr><th scope=row>53</th><td>0.03376056 </td><td>0.03122653 </td><td>0.000345000</td><td>0.001078899</td><td>0.000000000</td></tr>\n",
       "\t<tr><th scope=row>54</th><td>0.07221571 </td><td>0.07494305 </td><td>0.000661313</td><td>0.005794983</td><td>0.001219087</td></tr>\n",
       "\t<tr><th scope=row>55</th><td>0.05182505 </td><td>0.04172030 </td><td>0.000545491</td><td>0.007045118</td><td>0.004007747</td></tr>\n",
       "</tbody>\n",
       "</table>\n"
      ],
      "text/latex": [
       "\\begin{tabular}{r|lllll}\n",
       "  & mass\\_400 & mass\\_500 & mass\\_600 & mass\\_700 & mass\\_800\\\\\n",
       "\\hline\n",
       "\t1 & 0.01994283  & 0.02502781  & 0.000415632 & 0.005854332 & 0.003647412\\\\\n",
       "\t2 & 0.03626993  & 0.04240000  & 0.000906489 & 0.011036420 & 0.003723513\\\\\n",
       "\t3 & 0.03151262  & 0.05470000  & 0.001419182 & 0.025528456 & 0.020909886\\\\\n",
       "\t4 & 0.03428018  & 0.03961443  & 0.000910830 & 0.003097366 & 0.005380550\\\\\n",
       "\t5 & 0.02349768  & 0.02730000  & 0.001071729 & 0.004059030 & 0.002179902\\\\\n",
       "\t6 & 0.02585822  & 0.03340000  & 0.000938300 & 0.012900000 & 0.007982976\\\\\n",
       "\t7 & 0.02476167  & 0.02610229  & 0.000211087 & 0.007370659 & 0.004820024\\\\\n",
       "\t8 & 0.02894913  & 0.03450000  & 0.001267203 & 0.011881974 & 0.007826870\\\\\n",
       "\t9 & 0.03583814  & 0.03608487  & 0.000152300 & 0.000468412 & 0.000000000\\\\\n",
       "\t10 & 0.02374601  & 0.03178839  & 0.000581695 & 0.001106489 & 0.001231509\\\\\n",
       "\t11 & 0.02731335  & 0.04370000  & 0.001050680 & 0.026527290 & 0.024057841\\\\\n",
       "\t12 & 0.03145276  & 0.03280000  & 0.000927309 & 0.005411842 & 0.001951292\\\\\n",
       "\t13 & 0.02470598  & 0.02852526  & 0.000568868 & 0.004297495 & 0.003629028\\\\\n",
       "\t14 & 0.02331197  & 0.03006067  & 0.000644870 & 0.010448144 & 0.005401860\\\\\n",
       "\t15 & 0.03310381  & 0.03490000  & 0.001029930 & 0.008950000 & 0.005288455\\\\\n",
       "\t21 & 0.02539119  & 0.02750000  & 0.000623198 & 0.000683356 & 0.000485430\\\\\n",
       "\t22 & 0.03425922  & 0.03677236  & 0.000867025 & 0.009992561 & 0.003903250\\\\\n",
       "\t23 & 0.05466666  & 0.05527131  & 0.000332905 & 0.009665168 & 0.007541397\\\\\n",
       "\t24 & 0.05583318  & 0.04310704  & 0.000125300 & 0.001003940 & 0.000719755\\\\\n",
       "\t25 & 0.02753791  & 0.02575079  & 0.000347477 & 0.000953228 & 0.000561463\\\\\n",
       "\t36 & 0.01829905  & 0.02418814  & 0.000427581 & 0.017586763 & 0.019199172\\\\\n",
       "\t37 & 0.03222459  & 0.03062143  & 0.000793577 & 0.020384170 & 0.012532026\\\\\n",
       "\t38 & 0.03658636  & 0.04495604  & 0.000617233 & 0.036789057 & 0.030950827\\\\\n",
       "\t39 & 0.05771467  & 0.05079376  & 0.000608656 & 0.009554335 & 0.005882736\\\\\n",
       "\t40 & 0.06192473  & 0.06110000  & 0.000702161 & 0.032454416 & 0.010214811\\\\\n",
       "\t51 & 0.03665550  & 0.05019120  & 0.001254484 & 0.005169859 & 0.009431976\\\\\n",
       "\t52 & 0.03880516  & 0.03320878  & 0.000081800 & 0.000943904 & 0.001498091\\\\\n",
       "\t53 & 0.03376056  & 0.03122653  & 0.000345000 & 0.001078899 & 0.000000000\\\\\n",
       "\t54 & 0.07221571  & 0.07494305  & 0.000661313 & 0.005794983 & 0.001219087\\\\\n",
       "\t55 & 0.05182505  & 0.04172030  & 0.000545491 & 0.007045118 & 0.004007747\\\\\n",
       "\\end{tabular}\n"
      ],
      "text/markdown": [
       "\n",
       "| <!--/--> | mass_400 | mass_500 | mass_600 | mass_700 | mass_800 |\n",
       "|---|---|---|---|---|---|\n",
       "| 1 | 0.01994283  | 0.02502781  | 0.000415632 | 0.005854332 | 0.003647412 |\n",
       "| 2 | 0.03626993  | 0.04240000  | 0.000906489 | 0.011036420 | 0.003723513 |\n",
       "| 3 | 0.03151262  | 0.05470000  | 0.001419182 | 0.025528456 | 0.020909886 |\n",
       "| 4 | 0.03428018  | 0.03961443  | 0.000910830 | 0.003097366 | 0.005380550 |\n",
       "| 5 | 0.02349768  | 0.02730000  | 0.001071729 | 0.004059030 | 0.002179902 |\n",
       "| 6 | 0.02585822  | 0.03340000  | 0.000938300 | 0.012900000 | 0.007982976 |\n",
       "| 7 | 0.02476167  | 0.02610229  | 0.000211087 | 0.007370659 | 0.004820024 |\n",
       "| 8 | 0.02894913  | 0.03450000  | 0.001267203 | 0.011881974 | 0.007826870 |\n",
       "| 9 | 0.03583814  | 0.03608487  | 0.000152300 | 0.000468412 | 0.000000000 |\n",
       "| 10 | 0.02374601  | 0.03178839  | 0.000581695 | 0.001106489 | 0.001231509 |\n",
       "| 11 | 0.02731335  | 0.04370000  | 0.001050680 | 0.026527290 | 0.024057841 |\n",
       "| 12 | 0.03145276  | 0.03280000  | 0.000927309 | 0.005411842 | 0.001951292 |\n",
       "| 13 | 0.02470598  | 0.02852526  | 0.000568868 | 0.004297495 | 0.003629028 |\n",
       "| 14 | 0.02331197  | 0.03006067  | 0.000644870 | 0.010448144 | 0.005401860 |\n",
       "| 15 | 0.03310381  | 0.03490000  | 0.001029930 | 0.008950000 | 0.005288455 |\n",
       "| 21 | 0.02539119  | 0.02750000  | 0.000623198 | 0.000683356 | 0.000485430 |\n",
       "| 22 | 0.03425922  | 0.03677236  | 0.000867025 | 0.009992561 | 0.003903250 |\n",
       "| 23 | 0.05466666  | 0.05527131  | 0.000332905 | 0.009665168 | 0.007541397 |\n",
       "| 24 | 0.05583318  | 0.04310704  | 0.000125300 | 0.001003940 | 0.000719755 |\n",
       "| 25 | 0.02753791  | 0.02575079  | 0.000347477 | 0.000953228 | 0.000561463 |\n",
       "| 36 | 0.01829905  | 0.02418814  | 0.000427581 | 0.017586763 | 0.019199172 |\n",
       "| 37 | 0.03222459  | 0.03062143  | 0.000793577 | 0.020384170 | 0.012532026 |\n",
       "| 38 | 0.03658636  | 0.04495604  | 0.000617233 | 0.036789057 | 0.030950827 |\n",
       "| 39 | 0.05771467  | 0.05079376  | 0.000608656 | 0.009554335 | 0.005882736 |\n",
       "| 40 | 0.06192473  | 0.06110000  | 0.000702161 | 0.032454416 | 0.010214811 |\n",
       "| 51 | 0.03665550  | 0.05019120  | 0.001254484 | 0.005169859 | 0.009431976 |\n",
       "| 52 | 0.03880516  | 0.03320878  | 0.000081800 | 0.000943904 | 0.001498091 |\n",
       "| 53 | 0.03376056  | 0.03122653  | 0.000345000 | 0.001078899 | 0.000000000 |\n",
       "| 54 | 0.07221571  | 0.07494305  | 0.000661313 | 0.005794983 | 0.001219087 |\n",
       "| 55 | 0.05182505  | 0.04172030  | 0.000545491 | 0.007045118 | 0.004007747 |\n",
       "\n"
      ],
      "text/plain": [
       "   mass_400   mass_500   mass_600    mass_700    mass_800   \n",
       "1  0.01994283 0.02502781 0.000415632 0.005854332 0.003647412\n",
       "2  0.03626993 0.04240000 0.000906489 0.011036420 0.003723513\n",
       "3  0.03151262 0.05470000 0.001419182 0.025528456 0.020909886\n",
       "4  0.03428018 0.03961443 0.000910830 0.003097366 0.005380550\n",
       "5  0.02349768 0.02730000 0.001071729 0.004059030 0.002179902\n",
       "6  0.02585822 0.03340000 0.000938300 0.012900000 0.007982976\n",
       "7  0.02476167 0.02610229 0.000211087 0.007370659 0.004820024\n",
       "8  0.02894913 0.03450000 0.001267203 0.011881974 0.007826870\n",
       "9  0.03583814 0.03608487 0.000152300 0.000468412 0.000000000\n",
       "10 0.02374601 0.03178839 0.000581695 0.001106489 0.001231509\n",
       "11 0.02731335 0.04370000 0.001050680 0.026527290 0.024057841\n",
       "12 0.03145276 0.03280000 0.000927309 0.005411842 0.001951292\n",
       "13 0.02470598 0.02852526 0.000568868 0.004297495 0.003629028\n",
       "14 0.02331197 0.03006067 0.000644870 0.010448144 0.005401860\n",
       "15 0.03310381 0.03490000 0.001029930 0.008950000 0.005288455\n",
       "21 0.02539119 0.02750000 0.000623198 0.000683356 0.000485430\n",
       "22 0.03425922 0.03677236 0.000867025 0.009992561 0.003903250\n",
       "23 0.05466666 0.05527131 0.000332905 0.009665168 0.007541397\n",
       "24 0.05583318 0.04310704 0.000125300 0.001003940 0.000719755\n",
       "25 0.02753791 0.02575079 0.000347477 0.000953228 0.000561463\n",
       "36 0.01829905 0.02418814 0.000427581 0.017586763 0.019199172\n",
       "37 0.03222459 0.03062143 0.000793577 0.020384170 0.012532026\n",
       "38 0.03658636 0.04495604 0.000617233 0.036789057 0.030950827\n",
       "39 0.05771467 0.05079376 0.000608656 0.009554335 0.005882736\n",
       "40 0.06192473 0.06110000 0.000702161 0.032454416 0.010214811\n",
       "51 0.03665550 0.05019120 0.001254484 0.005169859 0.009431976\n",
       "52 0.03880516 0.03320878 0.000081800 0.000943904 0.001498091\n",
       "53 0.03376056 0.03122653 0.000345000 0.001078899 0.000000000\n",
       "54 0.07221571 0.07494305 0.000661313 0.005794983 0.001219087\n",
       "55 0.05182505 0.04172030 0.000545491 0.007045118 0.004007747"
      ]
     },
     "metadata": {},
     "output_type": "display_data"
    },
    {
     "data": {
      "text/html": [
       "<table>\n",
       "<thead><tr><th scope=col>filename</th><th scope=col>MouseID</th><th scope=col>Treatmentgroup</th><th scope=col>DPI</th><th scope=col>organ</th><th scope=col>well_position</th><th scope=col>plate</th><th scope=col>mass_400</th><th scope=col>mass_500</th><th scope=col>mass_600</th><th scope=col>mass_700</th><th scope=col>mass_800</th></tr></thead>\n",
       "<tbody>\n",
       "\t<tr><td>X511_Group1C_142dpi_RA_161_G_A1_P124.mzXML</td><td>511                                       </td><td>naive                                     </td><td>142dpi                                    </td><td>RA                                        </td><td>A1                                        </td><td>P124                                      </td><td>0.01994283                                </td><td>0.02502781                                </td><td>0.000415632                               </td><td>0.005854332                               </td><td>0.003647412                               </td></tr>\n",
       "\t<tr><td>X512_Group1C_142dpi_RA_162_G_A2_P124.mzXML</td><td>512                                       </td><td>naive                                     </td><td>142dpi                                    </td><td>RA                                        </td><td>A2                                        </td><td>P124                                      </td><td>0.03626993                                </td><td>0.04240000                                </td><td>0.000906489                               </td><td>0.011036420                               </td><td>0.003723513                               </td></tr>\n",
       "\t<tr><td>X513_Group1C_142dpi_RA_163_G_A3_P124.mzXML</td><td>513                                       </td><td>naive                                     </td><td>142dpi                                    </td><td>RA                                        </td><td>A3                                        </td><td>P124                                      </td><td>0.03151262                                </td><td>0.05470000                                </td><td>0.001419182                               </td><td>0.025528456                               </td><td>0.020909886                               </td></tr>\n",
       "\t<tr><td>X514_Group1C_142dpi_RA_164_G_A4_P124.mzXML</td><td>514                                       </td><td>naive                                     </td><td>142dpi                                    </td><td>RA                                        </td><td>A4                                        </td><td>P124                                      </td><td>0.03428018                                </td><td>0.03961443                                </td><td>0.000910830                               </td><td>0.003097366                               </td><td>0.005380550                               </td></tr>\n",
       "\t<tr><td>X515_Group1C_142dpi_RA_165_G_A5_P124.mzXML</td><td>515                                       </td><td>naive                                     </td><td>142dpi                                    </td><td>RA                                        </td><td>A5                                        </td><td>P124                                      </td><td>0.02349768                                </td><td>0.02730000                                </td><td>0.001071729                               </td><td>0.004059030                               </td><td>0.002179902                               </td></tr>\n",
       "\t<tr><td>X531_Group1C_142dpi_RA_166_G_A6_P124.mzXML</td><td>531                                       </td><td>naive                                     </td><td>142dpi                                    </td><td>RA                                        </td><td>A6                                        </td><td>P124                                      </td><td>0.02585822                                </td><td>0.03340000                                </td><td>0.000938300                               </td><td>0.012900000                               </td><td>0.007982976                               </td></tr>\n",
       "</tbody>\n",
       "</table>\n"
      ],
      "text/latex": [
       "\\begin{tabular}{r|llllllllllll}\n",
       " filename & MouseID & Treatmentgroup & DPI & organ & well\\_position & plate & mass\\_400 & mass\\_500 & mass\\_600 & mass\\_700 & mass\\_800\\\\\n",
       "\\hline\n",
       "\t X511\\_Group1C\\_142dpi\\_RA\\_161\\_G\\_A1\\_P124.mzXML & 511                                                      & naive                                                    & 142dpi                                                   & RA                                                       & A1                                                       & P124                                                     & 0.01994283                                               & 0.02502781                                               & 0.000415632                                              & 0.005854332                                              & 0.003647412                                             \\\\\n",
       "\t X512\\_Group1C\\_142dpi\\_RA\\_162\\_G\\_A2\\_P124.mzXML & 512                                                      & naive                                                    & 142dpi                                                   & RA                                                       & A2                                                       & P124                                                     & 0.03626993                                               & 0.04240000                                               & 0.000906489                                              & 0.011036420                                              & 0.003723513                                             \\\\\n",
       "\t X513\\_Group1C\\_142dpi\\_RA\\_163\\_G\\_A3\\_P124.mzXML & 513                                                      & naive                                                    & 142dpi                                                   & RA                                                       & A3                                                       & P124                                                     & 0.03151262                                               & 0.05470000                                               & 0.001419182                                              & 0.025528456                                              & 0.020909886                                             \\\\\n",
       "\t X514\\_Group1C\\_142dpi\\_RA\\_164\\_G\\_A4\\_P124.mzXML & 514                                                      & naive                                                    & 142dpi                                                   & RA                                                       & A4                                                       & P124                                                     & 0.03428018                                               & 0.03961443                                               & 0.000910830                                              & 0.003097366                                              & 0.005380550                                             \\\\\n",
       "\t X515\\_Group1C\\_142dpi\\_RA\\_165\\_G\\_A5\\_P124.mzXML & 515                                                      & naive                                                    & 142dpi                                                   & RA                                                       & A5                                                       & P124                                                     & 0.02349768                                               & 0.02730000                                               & 0.001071729                                              & 0.004059030                                              & 0.002179902                                             \\\\\n",
       "\t X531\\_Group1C\\_142dpi\\_RA\\_166\\_G\\_A6\\_P124.mzXML & 531                                                      & naive                                                    & 142dpi                                                   & RA                                                       & A6                                                       & P124                                                     & 0.02585822                                               & 0.03340000                                               & 0.000938300                                              & 0.012900000                                              & 0.007982976                                             \\\\\n",
       "\\end{tabular}\n"
      ],
      "text/markdown": [
       "\n",
       "| filename | MouseID | Treatmentgroup | DPI | organ | well_position | plate | mass_400 | mass_500 | mass_600 | mass_700 | mass_800 |\n",
       "|---|---|---|---|---|---|---|---|---|---|---|---|\n",
       "| X511_Group1C_142dpi_RA_161_G_A1_P124.mzXML | 511                                        | naive                                      | 142dpi                                     | RA                                         | A1                                         | P124                                       | 0.01994283                                 | 0.02502781                                 | 0.000415632                                | 0.005854332                                | 0.003647412                                |\n",
       "| X512_Group1C_142dpi_RA_162_G_A2_P124.mzXML | 512                                        | naive                                      | 142dpi                                     | RA                                         | A2                                         | P124                                       | 0.03626993                                 | 0.04240000                                 | 0.000906489                                | 0.011036420                                | 0.003723513                                |\n",
       "| X513_Group1C_142dpi_RA_163_G_A3_P124.mzXML | 513                                        | naive                                      | 142dpi                                     | RA                                         | A3                                         | P124                                       | 0.03151262                                 | 0.05470000                                 | 0.001419182                                | 0.025528456                                | 0.020909886                                |\n",
       "| X514_Group1C_142dpi_RA_164_G_A4_P124.mzXML | 514                                        | naive                                      | 142dpi                                     | RA                                         | A4                                         | P124                                       | 0.03428018                                 | 0.03961443                                 | 0.000910830                                | 0.003097366                                | 0.005380550                                |\n",
       "| X515_Group1C_142dpi_RA_165_G_A5_P124.mzXML | 515                                        | naive                                      | 142dpi                                     | RA                                         | A5                                         | P124                                       | 0.02349768                                 | 0.02730000                                 | 0.001071729                                | 0.004059030                                | 0.002179902                                |\n",
       "| X531_Group1C_142dpi_RA_166_G_A6_P124.mzXML | 531                                        | naive                                      | 142dpi                                     | RA                                         | A6                                         | P124                                       | 0.02585822                                 | 0.03340000                                 | 0.000938300                                | 0.012900000                                | 0.007982976                                |\n",
       "\n"
      ],
      "text/plain": [
       "  filename                                   MouseID Treatmentgroup DPI   \n",
       "1 X511_Group1C_142dpi_RA_161_G_A1_P124.mzXML 511     naive          142dpi\n",
       "2 X512_Group1C_142dpi_RA_162_G_A2_P124.mzXML 512     naive          142dpi\n",
       "3 X513_Group1C_142dpi_RA_163_G_A3_P124.mzXML 513     naive          142dpi\n",
       "4 X514_Group1C_142dpi_RA_164_G_A4_P124.mzXML 514     naive          142dpi\n",
       "5 X515_Group1C_142dpi_RA_165_G_A5_P124.mzXML 515     naive          142dpi\n",
       "6 X531_Group1C_142dpi_RA_166_G_A6_P124.mzXML 531     naive          142dpi\n",
       "  organ well_position plate mass_400   mass_500   mass_600    mass_700   \n",
       "1 RA    A1            P124  0.01994283 0.02502781 0.000415632 0.005854332\n",
       "2 RA    A2            P124  0.03626993 0.04240000 0.000906489 0.011036420\n",
       "3 RA    A3            P124  0.03151262 0.05470000 0.001419182 0.025528456\n",
       "4 RA    A4            P124  0.03428018 0.03961443 0.000910830 0.003097366\n",
       "5 RA    A5            P124  0.02349768 0.02730000 0.001071729 0.004059030\n",
       "6 RA    A6            P124  0.02585822 0.03340000 0.000938300 0.012900000\n",
       "  mass_800   \n",
       "1 0.003647412\n",
       "2 0.003723513\n",
       "3 0.020909886\n",
       "4 0.005380550\n",
       "5 0.002179902\n",
       "6 0.007982976"
      ]
     },
     "metadata": {},
     "output_type": "display_data"
    },
    {
     "data": {
      "text/html": [
       "<ol class=list-inline>\n",
       "\t<li>30</li>\n",
       "\t<li>12</li>\n",
       "</ol>\n"
      ],
      "text/latex": [
       "\\begin{enumerate*}\n",
       "\\item 30\n",
       "\\item 12\n",
       "\\end{enumerate*}\n"
      ],
      "text/markdown": [
       "1. 30\n",
       "2. 12\n",
       "\n",
       "\n"
      ],
      "text/plain": [
       "[1] 30 12"
      ]
     },
     "metadata": {},
     "output_type": "display_data"
    },
    {
     "data": {
      "text/html": [
       "<ol class=list-inline>\n",
       "\t<li>30</li>\n",
       "\t<li>5</li>\n",
       "</ol>\n"
      ],
      "text/latex": [
       "\\begin{enumerate*}\n",
       "\\item 30\n",
       "\\item 5\n",
       "\\end{enumerate*}\n"
      ],
      "text/markdown": [
       "1. 30\n",
       "2. 5\n",
       "\n",
       "\n"
      ],
      "text/plain": [
       "[1] 30  5"
      ]
     },
     "metadata": {},
     "output_type": "display_data"
    },
    {
     "data": {
      "text/html": [
       "<ol class=list-inline>\n",
       "\t<li>30</li>\n",
       "\t<li>5</li>\n",
       "</ol>\n"
      ],
      "text/latex": [
       "\\begin{enumerate*}\n",
       "\\item 30\n",
       "\\item 5\n",
       "\\end{enumerate*}\n"
      ],
      "text/markdown": [
       "1. 30\n",
       "2. 5\n",
       "\n",
       "\n"
      ],
      "text/plain": [
       "[1] 30  5"
      ]
     },
     "metadata": {},
     "output_type": "display_data"
    },
    {
     "data": {
      "text/html": [
       "<ol class=list-inline>\n",
       "\t<li>30</li>\n",
       "\t<li>12</li>\n",
       "</ol>\n"
      ],
      "text/latex": [
       "\\begin{enumerate*}\n",
       "\\item 30\n",
       "\\item 12\n",
       "\\end{enumerate*}\n"
      ],
      "text/markdown": [
       "1. 30\n",
       "2. 12\n",
       "\n",
       "\n"
      ],
      "text/plain": [
       "[1] 30 12"
      ]
     },
     "metadata": {},
     "output_type": "display_data"
    }
   ],
   "source": [
    "noMeta<-features_pos[,8:12]\n",
    "head(noMeta)\n",
    "not_zero<-which(colSums(noMeta) != 0)\n",
    "head(not_zero)\n",
    "nonzero <- noMeta[, not_zero]\n",
    "nonzero\n",
    "nonzero_wMeta<-cbind(features_pos[,1:7], nonzero)\n",
    "head(nonzero_wMeta)\n",
    "dim(features_pos)\n",
    "dim(noMeta)\n",
    "dim(nonzero)\n",
    "dim(nonzero_wMeta)"
   ]
  },
  {
   "cell_type": "code",
   "execution_count": 5,
   "metadata": {
    "scrolled": true
   },
   "outputs": [
    {
     "name": "stderr",
     "output_type": "stream",
     "text": [
      "Warning message in wilcox.test.default(x = c(0.00048543, 0.00390325, 0.007541397, :\n",
      "\"cannot compute exact p-value with ties\""
     ]
    },
    {
     "data": {
      "text/html": [
       "<ol class=list-inline>\n",
       "\t<li>0.00230645771025736</li>\n",
       "\t<li>0.201679436339622</li>\n",
       "\t<li>0.0453338990979227</li>\n",
       "\t<li>0.80633377841523</li>\n",
       "\t<li>0.917402104815946</li>\n",
       "</ol>\n"
      ],
      "text/latex": [
       "\\begin{enumerate*}\n",
       "\\item 0.00230645771025736\n",
       "\\item 0.201679436339622\n",
       "\\item 0.0453338990979227\n",
       "\\item 0.80633377841523\n",
       "\\item 0.917402104815946\n",
       "\\end{enumerate*}\n"
      ],
      "text/markdown": [
       "1. 0.00230645771025736\n",
       "2. 0.201679436339622\n",
       "3. 0.0453338990979227\n",
       "4. 0.80633377841523\n",
       "5. 0.917402104815946\n",
       "\n",
       "\n"
      ],
      "text/plain": [
       "[1] 0.002306458 0.201679436 0.045333899 0.806333778 0.917402105"
      ]
     },
     "metadata": {},
     "output_type": "display_data"
    },
    {
     "data": {
      "text/html": [
       "<ol class=list-inline>\n",
       "\t<li>0.0115322885512868</li>\n",
       "\t<li>0.33613239389937</li>\n",
       "\t<li>0.113334747744807</li>\n",
       "\t<li>0.917402104815946</li>\n",
       "\t<li>0.917402104815946</li>\n",
       "</ol>\n"
      ],
      "text/latex": [
       "\\begin{enumerate*}\n",
       "\\item 0.0115322885512868\n",
       "\\item 0.33613239389937\n",
       "\\item 0.113334747744807\n",
       "\\item 0.917402104815946\n",
       "\\item 0.917402104815946\n",
       "\\end{enumerate*}\n"
      ],
      "text/markdown": [
       "1. 0.0115322885512868\n",
       "2. 0.33613239389937\n",
       "3. 0.113334747744807\n",
       "4. 0.917402104815946\n",
       "5. 0.917402104815946\n",
       "\n",
       "\n"
      ],
      "text/plain": [
       "[1] 0.01153229 0.33613239 0.11333475 0.91740210 0.91740210"
      ]
     },
     "metadata": {},
     "output_type": "display_data"
    }
   ],
   "source": [
    "pval<-c()\n",
    "\n",
    "for (i in 8:ncol(nonzero_wMeta)) \n",
    "pval<-c(pval,wilcox.test(nonzero_wMeta[,i]~nonzero_wMeta$Treatmentgroup)$p.value)\n",
    "head(pval)\n",
    "pAdj <- p.adjust(pval, method = c(\"fdr\"), n=length(pval)) \n",
    "head(pAdj) \n",
    "\n"
   ]
  },
  {
   "cell_type": "code",
   "execution_count": 6,
   "metadata": {
    "scrolled": true
   },
   "outputs": [
    {
     "data": {
      "text/html": [
       "5"
      ],
      "text/latex": [
       "5"
      ],
      "text/markdown": [
       "5"
      ],
      "text/plain": [
       "[1] 5"
      ]
     },
     "metadata": {},
     "output_type": "display_data"
    }
   ],
   "source": [
    "length(pval)"
   ]
  },
  {
   "cell_type": "code",
   "execution_count": 7,
   "metadata": {
    "scrolled": true
   },
   "outputs": [
    {
     "data": {
      "text/html": [
       "5"
      ],
      "text/latex": [
       "5"
      ],
      "text/markdown": [
       "5"
      ],
      "text/plain": [
       "[1] 5"
      ]
     },
     "metadata": {},
     "output_type": "display_data"
    }
   ],
   "source": [
    "length(pAdj)"
   ]
  },
  {
   "cell_type": "code",
   "execution_count": 8,
   "metadata": {},
   "outputs": [
    {
     "data": {
      "text/html": [
       "<ol class=list-inline>\n",
       "\t<li>2</li>\n",
       "\t<li>5</li>\n",
       "</ol>\n"
      ],
      "text/latex": [
       "\\begin{enumerate*}\n",
       "\\item 2\n",
       "\\item 5\n",
       "\\end{enumerate*}\n"
      ],
      "text/markdown": [
       "1. 2\n",
       "2. 5\n",
       "\n",
       "\n"
      ],
      "text/plain": [
       "[1] 2 5"
      ]
     },
     "metadata": {},
     "output_type": "display_data"
    },
    {
     "data": {
      "text/html": [
       "<table>\n",
       "<thead><tr><th></th><th scope=col>mass_400</th><th scope=col>mass_500</th><th scope=col>mass_600</th></tr></thead>\n",
       "<tbody>\n",
       "\t<tr><th scope=row>combo</th><td>0.04251330  </td><td>0.04209005  </td><td>0.0005555467</td></tr>\n",
       "\t<tr><th scope=row>naive</th><td>0.02830295  </td><td>0.03472691  </td><td>0.0008064069</td></tr>\n",
       "</tbody>\n",
       "</table>\n"
      ],
      "text/latex": [
       "\\begin{tabular}{r|lll}\n",
       "  & mass\\_400 & mass\\_500 & mass\\_600\\\\\n",
       "\\hline\n",
       "\tcombo & 0.04251330   & 0.04209005   & 0.0005555467\\\\\n",
       "\tnaive & 0.02830295   & 0.03472691   & 0.0008064069\\\\\n",
       "\\end{tabular}\n"
      ],
      "text/markdown": [
       "\n",
       "| <!--/--> | mass_400 | mass_500 | mass_600 |\n",
       "|---|---|---|---|\n",
       "| combo | 0.04251330   | 0.04209005   | 0.0005555467 |\n",
       "| naive | 0.02830295   | 0.03472691   | 0.0008064069 |\n",
       "\n"
      ],
      "text/plain": [
       "      mass_400   mass_500   mass_600    \n",
       "combo 0.04251330 0.04209005 0.0005555467\n",
       "naive 0.02830295 0.03472691 0.0008064069"
      ]
     },
     "metadata": {},
     "output_type": "display_data"
    },
    {
     "data": {
      "text/html": [
       "<dl class=dl-horizontal>\n",
       "\t<dt>mass_400</dt>\n",
       "\t\t<dd>1.50208024720042</dd>\n",
       "\t<dt>mass_500</dt>\n",
       "\t\t<dd>1.21202965282772</dd>\n",
       "\t<dt>mass_600</dt>\n",
       "\t\t<dd>0.688916117123332</dd>\n",
       "\t<dt>mass_700</dt>\n",
       "\t\t<dd>1.14511408833711</dd>\n",
       "\t<dt>mass_800</dt>\n",
       "\t\t<dd>1.10319835381251</dd>\n",
       "</dl>\n"
      ],
      "text/latex": [
       "\\begin{description*}\n",
       "\\item[mass\\textbackslash{}\\_400] 1.50208024720042\n",
       "\\item[mass\\textbackslash{}\\_500] 1.21202965282772\n",
       "\\item[mass\\textbackslash{}\\_600] 0.688916117123332\n",
       "\\item[mass\\textbackslash{}\\_700] 1.14511408833711\n",
       "\\item[mass\\textbackslash{}\\_800] 1.10319835381251\n",
       "\\end{description*}\n"
      ],
      "text/markdown": [
       "mass_400\n",
       ":   1.50208024720042mass_500\n",
       ":   1.21202965282772mass_600\n",
       ":   0.688916117123332mass_700\n",
       ":   1.14511408833711mass_800\n",
       ":   1.10319835381251\n",
       "\n"
      ],
      "text/plain": [
       " mass_400  mass_500  mass_600  mass_700  mass_800 \n",
       "1.5020802 1.2120297 0.6889161 1.1451141 1.1031984 "
      ]
     },
     "metadata": {},
     "output_type": "display_data"
    },
    {
     "data": {
      "text/html": [
       "<ol class=list-inline>\n",
       "\t<li>'numeric'</li>\n",
       "\t<li>'vector'</li>\n",
       "</ol>\n"
      ],
      "text/latex": [
       "\\begin{enumerate*}\n",
       "\\item 'numeric'\n",
       "\\item 'vector'\n",
       "\\end{enumerate*}\n"
      ],
      "text/markdown": [
       "1. 'numeric'\n",
       "2. 'vector'\n",
       "\n",
       "\n"
      ],
      "text/plain": [
       "[1] \"numeric\" \"vector\" "
      ]
     },
     "metadata": {},
     "output_type": "display_data"
    }
   ],
   "source": [
    "avg<- apply(nonzero_wMeta[,8:ncol(nonzero_wMeta)], 2, function(x) tapply(x, nonzero_wMeta$Treatmentgroup, function(x) mean(x))) \n",
    "\n",
    "dim(avg)\n",
    "\n",
    "avg[,1:3]\n",
    "\n",
    "fch <- apply(avg, 2, function(x) x[1]/x[2])\n",
    "\n",
    "head(fch)\n",
    "is(fch)"
   ]
  },
  {
   "cell_type": "code",
   "execution_count": 9,
   "metadata": {
    "scrolled": true
   },
   "outputs": [
    {
     "data": {
      "text/html": [
       "<dl class=dl-horizontal>\n",
       "\t<dt>mass_400</dt>\n",
       "\t\t<dd>1.50208024720042</dd>\n",
       "\t<dt>mass_500</dt>\n",
       "\t\t<dd>1.21202965282772</dd>\n",
       "\t<dt>mass_600</dt>\n",
       "\t\t<dd>0.688916117123332</dd>\n",
       "\t<dt>mass_700</dt>\n",
       "\t\t<dd>1.14511408833711</dd>\n",
       "\t<dt>mass_800</dt>\n",
       "\t\t<dd>1.10319835381251</dd>\n",
       "</dl>\n"
      ],
      "text/latex": [
       "\\begin{description*}\n",
       "\\item[mass\\textbackslash{}\\_400] 1.50208024720042\n",
       "\\item[mass\\textbackslash{}\\_500] 1.21202965282772\n",
       "\\item[mass\\textbackslash{}\\_600] 0.688916117123332\n",
       "\\item[mass\\textbackslash{}\\_700] 1.14511408833711\n",
       "\\item[mass\\textbackslash{}\\_800] 1.10319835381251\n",
       "\\end{description*}\n"
      ],
      "text/markdown": [
       "mass_400\n",
       ":   1.50208024720042mass_500\n",
       ":   1.21202965282772mass_600\n",
       ":   0.688916117123332mass_700\n",
       ":   1.14511408833711mass_800\n",
       ":   1.10319835381251\n",
       "\n"
      ],
      "text/plain": [
       " mass_400  mass_500  mass_600  mass_700  mass_800 \n",
       "1.5020802 1.2120297 0.6889161 1.1451141 1.1031984 "
      ]
     },
     "metadata": {},
     "output_type": "display_data"
    }
   ],
   "source": [
    "fch"
   ]
  },
  {
   "cell_type": "code",
   "execution_count": 10,
   "metadata": {
    "scrolled": false
   },
   "outputs": [],
   "source": [
    "df <- data.frame(fch,pval, pAdj)\n",
    "write.csv(df, \"PC-treat-RA-wilcox-naive-combo.csv\")"
   ]
  },
  {
   "cell_type": "code",
   "execution_count": null,
   "metadata": {},
   "outputs": [],
   "source": []
  },
  {
   "cell_type": "code",
   "execution_count": null,
   "metadata": {},
   "outputs": [],
   "source": []
  },
  {
   "cell_type": "code",
   "execution_count": null,
   "metadata": {},
   "outputs": [],
   "source": []
  },
  {
   "cell_type": "code",
   "execution_count": null,
   "metadata": {},
   "outputs": [],
   "source": []
  },
  {
   "cell_type": "code",
   "execution_count": null,
   "metadata": {},
   "outputs": [],
   "source": []
  },
  {
   "cell_type": "code",
   "execution_count": null,
   "metadata": {},
   "outputs": [],
   "source": []
  }
 ],
 "metadata": {
  "kernelspec": {
   "display_name": "R",
   "language": "R",
   "name": "ir"
  },
  "language_info": {
   "codemirror_mode": "r",
   "file_extension": ".r",
   "mimetype": "text/x-r-source",
   "name": "R",
   "pygments_lexer": "r",
   "version": "3.6.1"
  }
 },
 "nbformat": 4,
 "nbformat_minor": 2
}
