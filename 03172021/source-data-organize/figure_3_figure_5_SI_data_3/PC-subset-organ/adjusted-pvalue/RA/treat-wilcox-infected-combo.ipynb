{
 "cells": [
  {
   "cell_type": "code",
   "execution_count": 11,
   "metadata": {},
   "outputs": [],
   "source": [
    "a <- read.csv(\"03172021-PC-treatment-RA-M-F.csv\")"
   ]
  },
  {
   "cell_type": "code",
   "execution_count": 12,
   "metadata": {},
   "outputs": [
    {
     "data": {
      "text/html": [
       "<table>\n",
       "<thead><tr><th scope=col>filename</th><th scope=col>MouseID</th><th scope=col>Treatmentgroup</th><th scope=col>DPI</th><th scope=col>organ</th><th scope=col>well_position</th><th scope=col>plate</th><th scope=col>mass_400</th><th scope=col>mass_500</th><th scope=col>mass_600</th><th scope=col>mass_700</th><th scope=col>mass_800</th></tr></thead>\n",
       "<tbody>\n",
       "\t<tr><td>X511_Group1C_142dpi_RA_161_G_A1_P124.mzXML</td><td>511                                       </td><td>naive                                     </td><td>142dpi                                    </td><td>RA                                        </td><td>A1                                        </td><td>P124                                      </td><td>0.01994283                                </td><td>0.02502781                                </td><td>0.000415632                               </td><td>0.005854332                               </td><td>0.003647412                               </td></tr>\n",
       "\t<tr><td>X512_Group1C_142dpi_RA_162_G_A2_P124.mzXML</td><td>512                                       </td><td>naive                                     </td><td>142dpi                                    </td><td>RA                                        </td><td>A2                                        </td><td>P124                                      </td><td>0.03626993                                </td><td>0.04240000                                </td><td>0.000906489                               </td><td>0.011036420                               </td><td>0.003723513                               </td></tr>\n",
       "\t<tr><td>X513_Group1C_142dpi_RA_163_G_A3_P124.mzXML</td><td>513                                       </td><td>naive                                     </td><td>142dpi                                    </td><td>RA                                        </td><td>A3                                        </td><td>P124                                      </td><td>0.03151262                                </td><td>0.05470000                                </td><td>0.001419182                               </td><td>0.025528456                               </td><td>0.020909886                               </td></tr>\n",
       "\t<tr><td>X514_Group1C_142dpi_RA_164_G_A4_P124.mzXML</td><td>514                                       </td><td>naive                                     </td><td>142dpi                                    </td><td>RA                                        </td><td>A4                                        </td><td>P124                                      </td><td>0.03428018                                </td><td>0.03961443                                </td><td>0.000910830                               </td><td>0.003097366                               </td><td>0.005380550                               </td></tr>\n",
       "\t<tr><td>X515_Group1C_142dpi_RA_165_G_A5_P124.mzXML</td><td>515                                       </td><td>naive                                     </td><td>142dpi                                    </td><td>RA                                        </td><td>A5                                        </td><td>P124                                      </td><td>0.02349768                                </td><td>0.02730000                                </td><td>0.001071729                               </td><td>0.004059030                               </td><td>0.002179902                               </td></tr>\n",
       "\t<tr><td>X531_Group1C_142dpi_RA_166_G_A6_P124.mzXML</td><td>531                                       </td><td>naive                                     </td><td>142dpi                                    </td><td>RA                                        </td><td>A6                                        </td><td>P124                                      </td><td>0.02585822                                </td><td>0.03340000                                </td><td>0.000938300                               </td><td>0.012900000                               </td><td>0.007982976                               </td></tr>\n",
       "</tbody>\n",
       "</table>\n"
      ],
      "text/latex": [
       "\\begin{tabular}{r|llllllllllll}\n",
       " filename & MouseID & Treatmentgroup & DPI & organ & well\\_position & plate & mass\\_400 & mass\\_500 & mass\\_600 & mass\\_700 & mass\\_800\\\\\n",
       "\\hline\n",
       "\t X511\\_Group1C\\_142dpi\\_RA\\_161\\_G\\_A1\\_P124.mzXML & 511                                                      & naive                                                    & 142dpi                                                   & RA                                                       & A1                                                       & P124                                                     & 0.01994283                                               & 0.02502781                                               & 0.000415632                                              & 0.005854332                                              & 0.003647412                                             \\\\\n",
       "\t X512\\_Group1C\\_142dpi\\_RA\\_162\\_G\\_A2\\_P124.mzXML & 512                                                      & naive                                                    & 142dpi                                                   & RA                                                       & A2                                                       & P124                                                     & 0.03626993                                               & 0.04240000                                               & 0.000906489                                              & 0.011036420                                              & 0.003723513                                             \\\\\n",
       "\t X513\\_Group1C\\_142dpi\\_RA\\_163\\_G\\_A3\\_P124.mzXML & 513                                                      & naive                                                    & 142dpi                                                   & RA                                                       & A3                                                       & P124                                                     & 0.03151262                                               & 0.05470000                                               & 0.001419182                                              & 0.025528456                                              & 0.020909886                                             \\\\\n",
       "\t X514\\_Group1C\\_142dpi\\_RA\\_164\\_G\\_A4\\_P124.mzXML & 514                                                      & naive                                                    & 142dpi                                                   & RA                                                       & A4                                                       & P124                                                     & 0.03428018                                               & 0.03961443                                               & 0.000910830                                              & 0.003097366                                              & 0.005380550                                             \\\\\n",
       "\t X515\\_Group1C\\_142dpi\\_RA\\_165\\_G\\_A5\\_P124.mzXML & 515                                                      & naive                                                    & 142dpi                                                   & RA                                                       & A5                                                       & P124                                                     & 0.02349768                                               & 0.02730000                                               & 0.001071729                                              & 0.004059030                                              & 0.002179902                                             \\\\\n",
       "\t X531\\_Group1C\\_142dpi\\_RA\\_166\\_G\\_A6\\_P124.mzXML & 531                                                      & naive                                                    & 142dpi                                                   & RA                                                       & A6                                                       & P124                                                     & 0.02585822                                               & 0.03340000                                               & 0.000938300                                              & 0.012900000                                              & 0.007982976                                             \\\\\n",
       "\\end{tabular}\n"
      ],
      "text/markdown": [
       "\n",
       "| filename | MouseID | Treatmentgroup | DPI | organ | well_position | plate | mass_400 | mass_500 | mass_600 | mass_700 | mass_800 |\n",
       "|---|---|---|---|---|---|---|---|---|---|---|---|\n",
       "| X511_Group1C_142dpi_RA_161_G_A1_P124.mzXML | 511                                        | naive                                      | 142dpi                                     | RA                                         | A1                                         | P124                                       | 0.01994283                                 | 0.02502781                                 | 0.000415632                                | 0.005854332                                | 0.003647412                                |\n",
       "| X512_Group1C_142dpi_RA_162_G_A2_P124.mzXML | 512                                        | naive                                      | 142dpi                                     | RA                                         | A2                                         | P124                                       | 0.03626993                                 | 0.04240000                                 | 0.000906489                                | 0.011036420                                | 0.003723513                                |\n",
       "| X513_Group1C_142dpi_RA_163_G_A3_P124.mzXML | 513                                        | naive                                      | 142dpi                                     | RA                                         | A3                                         | P124                                       | 0.03151262                                 | 0.05470000                                 | 0.001419182                                | 0.025528456                                | 0.020909886                                |\n",
       "| X514_Group1C_142dpi_RA_164_G_A4_P124.mzXML | 514                                        | naive                                      | 142dpi                                     | RA                                         | A4                                         | P124                                       | 0.03428018                                 | 0.03961443                                 | 0.000910830                                | 0.003097366                                | 0.005380550                                |\n",
       "| X515_Group1C_142dpi_RA_165_G_A5_P124.mzXML | 515                                        | naive                                      | 142dpi                                     | RA                                         | A5                                         | P124                                       | 0.02349768                                 | 0.02730000                                 | 0.001071729                                | 0.004059030                                | 0.002179902                                |\n",
       "| X531_Group1C_142dpi_RA_166_G_A6_P124.mzXML | 531                                        | naive                                      | 142dpi                                     | RA                                         | A6                                         | P124                                       | 0.02585822                                 | 0.03340000                                 | 0.000938300                                | 0.012900000                                | 0.007982976                                |\n",
       "\n"
      ],
      "text/plain": [
       "  filename                                   MouseID Treatmentgroup DPI   \n",
       "1 X511_Group1C_142dpi_RA_161_G_A1_P124.mzXML 511     naive          142dpi\n",
       "2 X512_Group1C_142dpi_RA_162_G_A2_P124.mzXML 512     naive          142dpi\n",
       "3 X513_Group1C_142dpi_RA_163_G_A3_P124.mzXML 513     naive          142dpi\n",
       "4 X514_Group1C_142dpi_RA_164_G_A4_P124.mzXML 514     naive          142dpi\n",
       "5 X515_Group1C_142dpi_RA_165_G_A5_P124.mzXML 515     naive          142dpi\n",
       "6 X531_Group1C_142dpi_RA_166_G_A6_P124.mzXML 531     naive          142dpi\n",
       "  organ well_position plate mass_400   mass_500   mass_600    mass_700   \n",
       "1 RA    A1            P124  0.01994283 0.02502781 0.000415632 0.005854332\n",
       "2 RA    A2            P124  0.03626993 0.04240000 0.000906489 0.011036420\n",
       "3 RA    A3            P124  0.03151262 0.05470000 0.001419182 0.025528456\n",
       "4 RA    A4            P124  0.03428018 0.03961443 0.000910830 0.003097366\n",
       "5 RA    A5            P124  0.02349768 0.02730000 0.001071729 0.004059030\n",
       "6 RA    A6            P124  0.02585822 0.03340000 0.000938300 0.012900000\n",
       "  mass_800   \n",
       "1 0.003647412\n",
       "2 0.003723513\n",
       "3 0.020909886\n",
       "4 0.005380550\n",
       "5 0.002179902\n",
       "6 0.007982976"
      ]
     },
     "metadata": {},
     "output_type": "display_data"
    },
    {
     "data": {
      "text/html": [
       "<ol class=list-inline>\n",
       "\t<li>60</li>\n",
       "\t<li>12</li>\n",
       "</ol>\n"
      ],
      "text/latex": [
       "\\begin{enumerate*}\n",
       "\\item 60\n",
       "\\item 12\n",
       "\\end{enumerate*}\n"
      ],
      "text/markdown": [
       "1. 60\n",
       "2. 12\n",
       "\n",
       "\n"
      ],
      "text/plain": [
       "[1] 60 12"
      ]
     },
     "metadata": {},
     "output_type": "display_data"
    }
   ],
   "source": [
    "head(a)\n",
    "dim(a)"
   ]
  },
  {
   "cell_type": "code",
   "execution_count": 13,
   "metadata": {},
   "outputs": [
    {
     "data": {
      "text/html": [
       "<table>\n",
       "<thead><tr><th></th><th scope=col>filename</th><th scope=col>MouseID</th><th scope=col>Treatmentgroup</th><th scope=col>DPI</th><th scope=col>organ</th><th scope=col>well_position</th><th scope=col>plate</th><th scope=col>mass_400</th><th scope=col>mass_500</th><th scope=col>mass_600</th><th scope=col>mass_700</th><th scope=col>mass_800</th></tr></thead>\n",
       "<tbody>\n",
       "\t<tr><th scope=row>16</th><td>X581_Group3E_142dpi_RA_176_G_B4_P124.mzXML</td><td>581                                       </td><td>infected                                  </td><td>142dpi                                    </td><td>RA                                        </td><td>B4                                        </td><td>P124                                      </td><td>0.04669856                                </td><td>0.04908409                                </td><td>0.000933000                               </td><td>0.012035066                               </td><td>0.013508859                               </td></tr>\n",
       "\t<tr><th scope=row>17</th><td>X582_Group3E_142dpi_RA_177_G_B5_P124.mzXML</td><td>582                                       </td><td>infected                                  </td><td>142dpi                                    </td><td>RA                                        </td><td>B5                                        </td><td>P124                                      </td><td>0.05407460                                </td><td>0.07636061                                </td><td>0.000662000                               </td><td>0.034576449                               </td><td>0.007365232                               </td></tr>\n",
       "\t<tr><th scope=row>18</th><td>X583_Group3E_142dpi_RA_178_G_B6_P124.mzXML</td><td>583                                       </td><td>infected                                  </td><td>142dpi                                    </td><td>RA                                        </td><td>B6                                        </td><td>P124                                      </td><td>0.02467317                                </td><td>0.02701181                                </td><td>0.000416000                               </td><td>0.003147407                               </td><td>0.000313457                               </td></tr>\n",
       "\t<tr><th scope=row>19</th><td>X584_Group3E_142dpi_RA_179_G_B7_P124.mzXML</td><td>584                                       </td><td>infected                                  </td><td>142dpi                                    </td><td>RA                                        </td><td>B7                                        </td><td>P124                                      </td><td>0.02047675                                </td><td>0.02690000                                </td><td>0.000715000                               </td><td>0.025465232                               </td><td>0.022815355                               </td></tr>\n",
       "\t<tr><th scope=row>20</th><td>X585_Group3E_142dpi_RA_180_G_B8_P124.mzXML</td><td>585                                       </td><td>infected                                  </td><td>142dpi                                    </td><td>RA                                        </td><td>B8                                        </td><td>P124                                      </td><td>0.05055667                                </td><td>0.06382728                                </td><td>0.000854813                               </td><td>0.028639445                               </td><td>0.020467843                               </td></tr>\n",
       "\t<tr><th scope=row>21</th><td>X611_Group9_142dpi_RA_181_G_B9_P124.mzXML </td><td>611                                       </td><td>combo                                     </td><td>142dpi                                    </td><td>RA                                        </td><td>B9                                        </td><td>P124                                      </td><td>0.02539119                                </td><td>0.02750000                                </td><td>0.000623198                               </td><td>0.000683356                               </td><td>0.000485430                               </td></tr>\n",
       "</tbody>\n",
       "</table>\n"
      ],
      "text/latex": [
       "\\begin{tabular}{r|llllllllllll}\n",
       "  & filename & MouseID & Treatmentgroup & DPI & organ & well\\_position & plate & mass\\_400 & mass\\_500 & mass\\_600 & mass\\_700 & mass\\_800\\\\\n",
       "\\hline\n",
       "\t16 & X581\\_Group3E\\_142dpi\\_RA\\_176\\_G\\_B4\\_P124.mzXML & 581                                                      & infected                                                 & 142dpi                                                   & RA                                                       & B4                                                       & P124                                                     & 0.04669856                                               & 0.04908409                                               & 0.000933000                                              & 0.012035066                                              & 0.013508859                                             \\\\\n",
       "\t17 & X582\\_Group3E\\_142dpi\\_RA\\_177\\_G\\_B5\\_P124.mzXML & 582                                                      & infected                                                 & 142dpi                                                   & RA                                                       & B5                                                       & P124                                                     & 0.05407460                                               & 0.07636061                                               & 0.000662000                                              & 0.034576449                                              & 0.007365232                                             \\\\\n",
       "\t18 & X583\\_Group3E\\_142dpi\\_RA\\_178\\_G\\_B6\\_P124.mzXML & 583                                                      & infected                                                 & 142dpi                                                   & RA                                                       & B6                                                       & P124                                                     & 0.02467317                                               & 0.02701181                                               & 0.000416000                                              & 0.003147407                                              & 0.000313457                                             \\\\\n",
       "\t19 & X584\\_Group3E\\_142dpi\\_RA\\_179\\_G\\_B7\\_P124.mzXML & 584                                                      & infected                                                 & 142dpi                                                   & RA                                                       & B7                                                       & P124                                                     & 0.02047675                                               & 0.02690000                                               & 0.000715000                                              & 0.025465232                                              & 0.022815355                                             \\\\\n",
       "\t20 & X585\\_Group3E\\_142dpi\\_RA\\_180\\_G\\_B8\\_P124.mzXML & 585                                                      & infected                                                 & 142dpi                                                   & RA                                                       & B8                                                       & P124                                                     & 0.05055667                                               & 0.06382728                                               & 0.000854813                                              & 0.028639445                                              & 0.020467843                                             \\\\\n",
       "\t21 & X611\\_Group9\\_142dpi\\_RA\\_181\\_G\\_B9\\_P124.mzXML  & 611                                                      & combo                                                    & 142dpi                                                   & RA                                                       & B9                                                       & P124                                                     & 0.02539119                                               & 0.02750000                                               & 0.000623198                                              & 0.000683356                                              & 0.000485430                                             \\\\\n",
       "\\end{tabular}\n"
      ],
      "text/markdown": [
       "\n",
       "| <!--/--> | filename | MouseID | Treatmentgroup | DPI | organ | well_position | plate | mass_400 | mass_500 | mass_600 | mass_700 | mass_800 |\n",
       "|---|---|---|---|---|---|---|---|---|---|---|---|---|\n",
       "| 16 | X581_Group3E_142dpi_RA_176_G_B4_P124.mzXML | 581                                        | infected                                   | 142dpi                                     | RA                                         | B4                                         | P124                                       | 0.04669856                                 | 0.04908409                                 | 0.000933000                                | 0.012035066                                | 0.013508859                                |\n",
       "| 17 | X582_Group3E_142dpi_RA_177_G_B5_P124.mzXML | 582                                        | infected                                   | 142dpi                                     | RA                                         | B5                                         | P124                                       | 0.05407460                                 | 0.07636061                                 | 0.000662000                                | 0.034576449                                | 0.007365232                                |\n",
       "| 18 | X583_Group3E_142dpi_RA_178_G_B6_P124.mzXML | 583                                        | infected                                   | 142dpi                                     | RA                                         | B6                                         | P124                                       | 0.02467317                                 | 0.02701181                                 | 0.000416000                                | 0.003147407                                | 0.000313457                                |\n",
       "| 19 | X584_Group3E_142dpi_RA_179_G_B7_P124.mzXML | 584                                        | infected                                   | 142dpi                                     | RA                                         | B7                                         | P124                                       | 0.02047675                                 | 0.02690000                                 | 0.000715000                                | 0.025465232                                | 0.022815355                                |\n",
       "| 20 | X585_Group3E_142dpi_RA_180_G_B8_P124.mzXML | 585                                        | infected                                   | 142dpi                                     | RA                                         | B8                                         | P124                                       | 0.05055667                                 | 0.06382728                                 | 0.000854813                                | 0.028639445                                | 0.020467843                                |\n",
       "| 21 | X611_Group9_142dpi_RA_181_G_B9_P124.mzXML  | 611                                        | combo                                      | 142dpi                                     | RA                                         | B9                                         | P124                                       | 0.02539119                                 | 0.02750000                                 | 0.000623198                                | 0.000683356                                | 0.000485430                                |\n",
       "\n"
      ],
      "text/plain": [
       "   filename                                   MouseID Treatmentgroup DPI   \n",
       "16 X581_Group3E_142dpi_RA_176_G_B4_P124.mzXML 581     infected       142dpi\n",
       "17 X582_Group3E_142dpi_RA_177_G_B5_P124.mzXML 582     infected       142dpi\n",
       "18 X583_Group3E_142dpi_RA_178_G_B6_P124.mzXML 583     infected       142dpi\n",
       "19 X584_Group3E_142dpi_RA_179_G_B7_P124.mzXML 584     infected       142dpi\n",
       "20 X585_Group3E_142dpi_RA_180_G_B8_P124.mzXML 585     infected       142dpi\n",
       "21 X611_Group9_142dpi_RA_181_G_B9_P124.mzXML  611     combo          142dpi\n",
       "   organ well_position plate mass_400   mass_500   mass_600    mass_700   \n",
       "16 RA    B4            P124  0.04669856 0.04908409 0.000933000 0.012035066\n",
       "17 RA    B5            P124  0.05407460 0.07636061 0.000662000 0.034576449\n",
       "18 RA    B6            P124  0.02467317 0.02701181 0.000416000 0.003147407\n",
       "19 RA    B7            P124  0.02047675 0.02690000 0.000715000 0.025465232\n",
       "20 RA    B8            P124  0.05055667 0.06382728 0.000854813 0.028639445\n",
       "21 RA    B9            P124  0.02539119 0.02750000 0.000623198 0.000683356\n",
       "   mass_800   \n",
       "16 0.013508859\n",
       "17 0.007365232\n",
       "18 0.000313457\n",
       "19 0.022815355\n",
       "20 0.020467843\n",
       "21 0.000485430"
      ]
     },
     "metadata": {},
     "output_type": "display_data"
    },
    {
     "data": {
      "text/html": [
       "<ol class=list-inline>\n",
       "\t<li>30</li>\n",
       "\t<li>12</li>\n",
       "</ol>\n"
      ],
      "text/latex": [
       "\\begin{enumerate*}\n",
       "\\item 30\n",
       "\\item 12\n",
       "\\end{enumerate*}\n"
      ],
      "text/markdown": [
       "1. 30\n",
       "2. 12\n",
       "\n",
       "\n"
      ],
      "text/plain": [
       "[1] 30 12"
      ]
     },
     "metadata": {},
     "output_type": "display_data"
    }
   ],
   "source": [
    "features_pos<-droplevels(subset(a, a$Treatmentgroup==c(\"infected\")|a$Treatmentgroup==c(\"combo\")))\n",
    "head(features_pos)\n",
    "dim(features_pos)"
   ]
  },
  {
   "cell_type": "code",
   "execution_count": 14,
   "metadata": {
    "scrolled": false
   },
   "outputs": [
    {
     "data": {
      "text/html": [
       "<table>\n",
       "<thead><tr><th></th><th scope=col>mass_400</th><th scope=col>mass_500</th><th scope=col>mass_600</th><th scope=col>mass_700</th><th scope=col>mass_800</th></tr></thead>\n",
       "<tbody>\n",
       "\t<tr><th scope=row>16</th><td>0.04669856 </td><td>0.04908409 </td><td>0.000933000</td><td>0.012035066</td><td>0.013508859</td></tr>\n",
       "\t<tr><th scope=row>17</th><td>0.05407460 </td><td>0.07636061 </td><td>0.000662000</td><td>0.034576449</td><td>0.007365232</td></tr>\n",
       "\t<tr><th scope=row>18</th><td>0.02467317 </td><td>0.02701181 </td><td>0.000416000</td><td>0.003147407</td><td>0.000313457</td></tr>\n",
       "\t<tr><th scope=row>19</th><td>0.02047675 </td><td>0.02690000 </td><td>0.000715000</td><td>0.025465232</td><td>0.022815355</td></tr>\n",
       "\t<tr><th scope=row>20</th><td>0.05055667 </td><td>0.06382728 </td><td>0.000854813</td><td>0.028639445</td><td>0.020467843</td></tr>\n",
       "\t<tr><th scope=row>21</th><td>0.02539119 </td><td>0.02750000 </td><td>0.000623198</td><td>0.000683356</td><td>0.000485430</td></tr>\n",
       "</tbody>\n",
       "</table>\n"
      ],
      "text/latex": [
       "\\begin{tabular}{r|lllll}\n",
       "  & mass\\_400 & mass\\_500 & mass\\_600 & mass\\_700 & mass\\_800\\\\\n",
       "\\hline\n",
       "\t16 & 0.04669856  & 0.04908409  & 0.000933000 & 0.012035066 & 0.013508859\\\\\n",
       "\t17 & 0.05407460  & 0.07636061  & 0.000662000 & 0.034576449 & 0.007365232\\\\\n",
       "\t18 & 0.02467317  & 0.02701181  & 0.000416000 & 0.003147407 & 0.000313457\\\\\n",
       "\t19 & 0.02047675  & 0.02690000  & 0.000715000 & 0.025465232 & 0.022815355\\\\\n",
       "\t20 & 0.05055667  & 0.06382728  & 0.000854813 & 0.028639445 & 0.020467843\\\\\n",
       "\t21 & 0.02539119  & 0.02750000  & 0.000623198 & 0.000683356 & 0.000485430\\\\\n",
       "\\end{tabular}\n"
      ],
      "text/markdown": [
       "\n",
       "| <!--/--> | mass_400 | mass_500 | mass_600 | mass_700 | mass_800 |\n",
       "|---|---|---|---|---|---|\n",
       "| 16 | 0.04669856  | 0.04908409  | 0.000933000 | 0.012035066 | 0.013508859 |\n",
       "| 17 | 0.05407460  | 0.07636061  | 0.000662000 | 0.034576449 | 0.007365232 |\n",
       "| 18 | 0.02467317  | 0.02701181  | 0.000416000 | 0.003147407 | 0.000313457 |\n",
       "| 19 | 0.02047675  | 0.02690000  | 0.000715000 | 0.025465232 | 0.022815355 |\n",
       "| 20 | 0.05055667  | 0.06382728  | 0.000854813 | 0.028639445 | 0.020467843 |\n",
       "| 21 | 0.02539119  | 0.02750000  | 0.000623198 | 0.000683356 | 0.000485430 |\n",
       "\n"
      ],
      "text/plain": [
       "   mass_400   mass_500   mass_600    mass_700    mass_800   \n",
       "16 0.04669856 0.04908409 0.000933000 0.012035066 0.013508859\n",
       "17 0.05407460 0.07636061 0.000662000 0.034576449 0.007365232\n",
       "18 0.02467317 0.02701181 0.000416000 0.003147407 0.000313457\n",
       "19 0.02047675 0.02690000 0.000715000 0.025465232 0.022815355\n",
       "20 0.05055667 0.06382728 0.000854813 0.028639445 0.020467843\n",
       "21 0.02539119 0.02750000 0.000623198 0.000683356 0.000485430"
      ]
     },
     "metadata": {},
     "output_type": "display_data"
    },
    {
     "data": {
      "text/html": [
       "<dl class=dl-horizontal>\n",
       "\t<dt>mass_400</dt>\n",
       "\t\t<dd>1</dd>\n",
       "\t<dt>mass_500</dt>\n",
       "\t\t<dd>2</dd>\n",
       "\t<dt>mass_600</dt>\n",
       "\t\t<dd>3</dd>\n",
       "\t<dt>mass_700</dt>\n",
       "\t\t<dd>4</dd>\n",
       "\t<dt>mass_800</dt>\n",
       "\t\t<dd>5</dd>\n",
       "</dl>\n"
      ],
      "text/latex": [
       "\\begin{description*}\n",
       "\\item[mass\\textbackslash{}\\_400] 1\n",
       "\\item[mass\\textbackslash{}\\_500] 2\n",
       "\\item[mass\\textbackslash{}\\_600] 3\n",
       "\\item[mass\\textbackslash{}\\_700] 4\n",
       "\\item[mass\\textbackslash{}\\_800] 5\n",
       "\\end{description*}\n"
      ],
      "text/markdown": [
       "mass_400\n",
       ":   1mass_500\n",
       ":   2mass_600\n",
       ":   3mass_700\n",
       ":   4mass_800\n",
       ":   5\n",
       "\n"
      ],
      "text/plain": [
       "mass_400 mass_500 mass_600 mass_700 mass_800 \n",
       "       1        2        3        4        5 "
      ]
     },
     "metadata": {},
     "output_type": "display_data"
    },
    {
     "data": {
      "text/html": [
       "<table>\n",
       "<thead><tr><th></th><th scope=col>mass_400</th><th scope=col>mass_500</th><th scope=col>mass_600</th><th scope=col>mass_700</th><th scope=col>mass_800</th></tr></thead>\n",
       "<tbody>\n",
       "\t<tr><th scope=row>16</th><td>0.04669856 </td><td>0.04908409 </td><td>0.000933000</td><td>0.012035066</td><td>0.013508859</td></tr>\n",
       "\t<tr><th scope=row>17</th><td>0.05407460 </td><td>0.07636061 </td><td>0.000662000</td><td>0.034576449</td><td>0.007365232</td></tr>\n",
       "\t<tr><th scope=row>18</th><td>0.02467317 </td><td>0.02701181 </td><td>0.000416000</td><td>0.003147407</td><td>0.000313457</td></tr>\n",
       "\t<tr><th scope=row>19</th><td>0.02047675 </td><td>0.02690000 </td><td>0.000715000</td><td>0.025465232</td><td>0.022815355</td></tr>\n",
       "\t<tr><th scope=row>20</th><td>0.05055667 </td><td>0.06382728 </td><td>0.000854813</td><td>0.028639445</td><td>0.020467843</td></tr>\n",
       "\t<tr><th scope=row>21</th><td>0.02539119 </td><td>0.02750000 </td><td>0.000623198</td><td>0.000683356</td><td>0.000485430</td></tr>\n",
       "\t<tr><th scope=row>22</th><td>0.03425922 </td><td>0.03677236 </td><td>0.000867025</td><td>0.009992561</td><td>0.003903250</td></tr>\n",
       "\t<tr><th scope=row>23</th><td>0.05466666 </td><td>0.05527131 </td><td>0.000332905</td><td>0.009665168</td><td>0.007541397</td></tr>\n",
       "\t<tr><th scope=row>24</th><td>0.05583318 </td><td>0.04310704 </td><td>0.000125300</td><td>0.001003940</td><td>0.000719755</td></tr>\n",
       "\t<tr><th scope=row>25</th><td>0.02753791 </td><td>0.02575079 </td><td>0.000347477</td><td>0.000953228</td><td>0.000561463</td></tr>\n",
       "\t<tr><th scope=row>31</th><td>0.02367722 </td><td>0.03227053 </td><td>0.000845291</td><td>0.024808733</td><td>0.017886095</td></tr>\n",
       "\t<tr><th scope=row>32</th><td>0.03314695 </td><td>0.02477444 </td><td>0.000508416</td><td>0.006772067</td><td>0.004919932</td></tr>\n",
       "\t<tr><th scope=row>33</th><td>0.02021587 </td><td>0.02630953 </td><td>0.000437000</td><td>0.016000000</td><td>0.012272432</td></tr>\n",
       "\t<tr><th scope=row>34</th><td>0.02046798 </td><td>0.02614886 </td><td>0.000716634</td><td>0.008185778</td><td>0.005800175</td></tr>\n",
       "\t<tr><th scope=row>35</th><td>0.02977158 </td><td>0.03046579 </td><td>0.000477000</td><td>0.008640208</td><td>0.002907744</td></tr>\n",
       "\t<tr><th scope=row>36</th><td>0.01829905 </td><td>0.02418814 </td><td>0.000427581</td><td>0.017586763</td><td>0.019199172</td></tr>\n",
       "\t<tr><th scope=row>37</th><td>0.03222459 </td><td>0.03062143 </td><td>0.000793577</td><td>0.020384170</td><td>0.012532026</td></tr>\n",
       "\t<tr><th scope=row>38</th><td>0.03658636 </td><td>0.04495604 </td><td>0.000617233</td><td>0.036789057</td><td>0.030950827</td></tr>\n",
       "\t<tr><th scope=row>39</th><td>0.05771467 </td><td>0.05079376 </td><td>0.000608656</td><td>0.009554335</td><td>0.005882736</td></tr>\n",
       "\t<tr><th scope=row>40</th><td>0.06192473 </td><td>0.06110000 </td><td>0.000702161</td><td>0.032454416</td><td>0.010214811</td></tr>\n",
       "\t<tr><th scope=row>46</th><td>0.05801549 </td><td>0.05570844 </td><td>0.000765283</td><td>0.008750499</td><td>0.001449073</td></tr>\n",
       "\t<tr><th scope=row>47</th><td>0.04835515 </td><td>0.05360000 </td><td>0.001097576</td><td>0.004082002</td><td>0.002340524</td></tr>\n",
       "\t<tr><th scope=row>48</th><td>0.03144607 </td><td>0.03210494 </td><td>0.000808940</td><td>0.017815617</td><td>0.011696208</td></tr>\n",
       "\t<tr><th scope=row>49</th><td>0.02899131 </td><td>0.03253160 </td><td>0.000706669</td><td>0.005969374</td><td>0.005093265</td></tr>\n",
       "\t<tr><th scope=row>50</th><td>0.04328778 </td><td>0.04780000 </td><td>0.000622025</td><td>0.004743727</td><td>0.000196872</td></tr>\n",
       "\t<tr><th scope=row>51</th><td>0.03665550 </td><td>0.05019120 </td><td>0.001254484</td><td>0.005169859</td><td>0.009431976</td></tr>\n",
       "\t<tr><th scope=row>52</th><td>0.03880516 </td><td>0.03320878 </td><td>0.000081800</td><td>0.000943904</td><td>0.001498091</td></tr>\n",
       "\t<tr><th scope=row>53</th><td>0.03376056 </td><td>0.03122653 </td><td>0.000345000</td><td>0.001078899</td><td>0.000000000</td></tr>\n",
       "\t<tr><th scope=row>54</th><td>0.07221571 </td><td>0.07494305 </td><td>0.000661313</td><td>0.005794983</td><td>0.001219087</td></tr>\n",
       "\t<tr><th scope=row>55</th><td>0.05182505 </td><td>0.04172030 </td><td>0.000545491</td><td>0.007045118</td><td>0.004007747</td></tr>\n",
       "</tbody>\n",
       "</table>\n"
      ],
      "text/latex": [
       "\\begin{tabular}{r|lllll}\n",
       "  & mass\\_400 & mass\\_500 & mass\\_600 & mass\\_700 & mass\\_800\\\\\n",
       "\\hline\n",
       "\t16 & 0.04669856  & 0.04908409  & 0.000933000 & 0.012035066 & 0.013508859\\\\\n",
       "\t17 & 0.05407460  & 0.07636061  & 0.000662000 & 0.034576449 & 0.007365232\\\\\n",
       "\t18 & 0.02467317  & 0.02701181  & 0.000416000 & 0.003147407 & 0.000313457\\\\\n",
       "\t19 & 0.02047675  & 0.02690000  & 0.000715000 & 0.025465232 & 0.022815355\\\\\n",
       "\t20 & 0.05055667  & 0.06382728  & 0.000854813 & 0.028639445 & 0.020467843\\\\\n",
       "\t21 & 0.02539119  & 0.02750000  & 0.000623198 & 0.000683356 & 0.000485430\\\\\n",
       "\t22 & 0.03425922  & 0.03677236  & 0.000867025 & 0.009992561 & 0.003903250\\\\\n",
       "\t23 & 0.05466666  & 0.05527131  & 0.000332905 & 0.009665168 & 0.007541397\\\\\n",
       "\t24 & 0.05583318  & 0.04310704  & 0.000125300 & 0.001003940 & 0.000719755\\\\\n",
       "\t25 & 0.02753791  & 0.02575079  & 0.000347477 & 0.000953228 & 0.000561463\\\\\n",
       "\t31 & 0.02367722  & 0.03227053  & 0.000845291 & 0.024808733 & 0.017886095\\\\\n",
       "\t32 & 0.03314695  & 0.02477444  & 0.000508416 & 0.006772067 & 0.004919932\\\\\n",
       "\t33 & 0.02021587  & 0.02630953  & 0.000437000 & 0.016000000 & 0.012272432\\\\\n",
       "\t34 & 0.02046798  & 0.02614886  & 0.000716634 & 0.008185778 & 0.005800175\\\\\n",
       "\t35 & 0.02977158  & 0.03046579  & 0.000477000 & 0.008640208 & 0.002907744\\\\\n",
       "\t36 & 0.01829905  & 0.02418814  & 0.000427581 & 0.017586763 & 0.019199172\\\\\n",
       "\t37 & 0.03222459  & 0.03062143  & 0.000793577 & 0.020384170 & 0.012532026\\\\\n",
       "\t38 & 0.03658636  & 0.04495604  & 0.000617233 & 0.036789057 & 0.030950827\\\\\n",
       "\t39 & 0.05771467  & 0.05079376  & 0.000608656 & 0.009554335 & 0.005882736\\\\\n",
       "\t40 & 0.06192473  & 0.06110000  & 0.000702161 & 0.032454416 & 0.010214811\\\\\n",
       "\t46 & 0.05801549  & 0.05570844  & 0.000765283 & 0.008750499 & 0.001449073\\\\\n",
       "\t47 & 0.04835515  & 0.05360000  & 0.001097576 & 0.004082002 & 0.002340524\\\\\n",
       "\t48 & 0.03144607  & 0.03210494  & 0.000808940 & 0.017815617 & 0.011696208\\\\\n",
       "\t49 & 0.02899131  & 0.03253160  & 0.000706669 & 0.005969374 & 0.005093265\\\\\n",
       "\t50 & 0.04328778  & 0.04780000  & 0.000622025 & 0.004743727 & 0.000196872\\\\\n",
       "\t51 & 0.03665550  & 0.05019120  & 0.001254484 & 0.005169859 & 0.009431976\\\\\n",
       "\t52 & 0.03880516  & 0.03320878  & 0.000081800 & 0.000943904 & 0.001498091\\\\\n",
       "\t53 & 0.03376056  & 0.03122653  & 0.000345000 & 0.001078899 & 0.000000000\\\\\n",
       "\t54 & 0.07221571  & 0.07494305  & 0.000661313 & 0.005794983 & 0.001219087\\\\\n",
       "\t55 & 0.05182505  & 0.04172030  & 0.000545491 & 0.007045118 & 0.004007747\\\\\n",
       "\\end{tabular}\n"
      ],
      "text/markdown": [
       "\n",
       "| <!--/--> | mass_400 | mass_500 | mass_600 | mass_700 | mass_800 |\n",
       "|---|---|---|---|---|---|\n",
       "| 16 | 0.04669856  | 0.04908409  | 0.000933000 | 0.012035066 | 0.013508859 |\n",
       "| 17 | 0.05407460  | 0.07636061  | 0.000662000 | 0.034576449 | 0.007365232 |\n",
       "| 18 | 0.02467317  | 0.02701181  | 0.000416000 | 0.003147407 | 0.000313457 |\n",
       "| 19 | 0.02047675  | 0.02690000  | 0.000715000 | 0.025465232 | 0.022815355 |\n",
       "| 20 | 0.05055667  | 0.06382728  | 0.000854813 | 0.028639445 | 0.020467843 |\n",
       "| 21 | 0.02539119  | 0.02750000  | 0.000623198 | 0.000683356 | 0.000485430 |\n",
       "| 22 | 0.03425922  | 0.03677236  | 0.000867025 | 0.009992561 | 0.003903250 |\n",
       "| 23 | 0.05466666  | 0.05527131  | 0.000332905 | 0.009665168 | 0.007541397 |\n",
       "| 24 | 0.05583318  | 0.04310704  | 0.000125300 | 0.001003940 | 0.000719755 |\n",
       "| 25 | 0.02753791  | 0.02575079  | 0.000347477 | 0.000953228 | 0.000561463 |\n",
       "| 31 | 0.02367722  | 0.03227053  | 0.000845291 | 0.024808733 | 0.017886095 |\n",
       "| 32 | 0.03314695  | 0.02477444  | 0.000508416 | 0.006772067 | 0.004919932 |\n",
       "| 33 | 0.02021587  | 0.02630953  | 0.000437000 | 0.016000000 | 0.012272432 |\n",
       "| 34 | 0.02046798  | 0.02614886  | 0.000716634 | 0.008185778 | 0.005800175 |\n",
       "| 35 | 0.02977158  | 0.03046579  | 0.000477000 | 0.008640208 | 0.002907744 |\n",
       "| 36 | 0.01829905  | 0.02418814  | 0.000427581 | 0.017586763 | 0.019199172 |\n",
       "| 37 | 0.03222459  | 0.03062143  | 0.000793577 | 0.020384170 | 0.012532026 |\n",
       "| 38 | 0.03658636  | 0.04495604  | 0.000617233 | 0.036789057 | 0.030950827 |\n",
       "| 39 | 0.05771467  | 0.05079376  | 0.000608656 | 0.009554335 | 0.005882736 |\n",
       "| 40 | 0.06192473  | 0.06110000  | 0.000702161 | 0.032454416 | 0.010214811 |\n",
       "| 46 | 0.05801549  | 0.05570844  | 0.000765283 | 0.008750499 | 0.001449073 |\n",
       "| 47 | 0.04835515  | 0.05360000  | 0.001097576 | 0.004082002 | 0.002340524 |\n",
       "| 48 | 0.03144607  | 0.03210494  | 0.000808940 | 0.017815617 | 0.011696208 |\n",
       "| 49 | 0.02899131  | 0.03253160  | 0.000706669 | 0.005969374 | 0.005093265 |\n",
       "| 50 | 0.04328778  | 0.04780000  | 0.000622025 | 0.004743727 | 0.000196872 |\n",
       "| 51 | 0.03665550  | 0.05019120  | 0.001254484 | 0.005169859 | 0.009431976 |\n",
       "| 52 | 0.03880516  | 0.03320878  | 0.000081800 | 0.000943904 | 0.001498091 |\n",
       "| 53 | 0.03376056  | 0.03122653  | 0.000345000 | 0.001078899 | 0.000000000 |\n",
       "| 54 | 0.07221571  | 0.07494305  | 0.000661313 | 0.005794983 | 0.001219087 |\n",
       "| 55 | 0.05182505  | 0.04172030  | 0.000545491 | 0.007045118 | 0.004007747 |\n",
       "\n"
      ],
      "text/plain": [
       "   mass_400   mass_500   mass_600    mass_700    mass_800   \n",
       "16 0.04669856 0.04908409 0.000933000 0.012035066 0.013508859\n",
       "17 0.05407460 0.07636061 0.000662000 0.034576449 0.007365232\n",
       "18 0.02467317 0.02701181 0.000416000 0.003147407 0.000313457\n",
       "19 0.02047675 0.02690000 0.000715000 0.025465232 0.022815355\n",
       "20 0.05055667 0.06382728 0.000854813 0.028639445 0.020467843\n",
       "21 0.02539119 0.02750000 0.000623198 0.000683356 0.000485430\n",
       "22 0.03425922 0.03677236 0.000867025 0.009992561 0.003903250\n",
       "23 0.05466666 0.05527131 0.000332905 0.009665168 0.007541397\n",
       "24 0.05583318 0.04310704 0.000125300 0.001003940 0.000719755\n",
       "25 0.02753791 0.02575079 0.000347477 0.000953228 0.000561463\n",
       "31 0.02367722 0.03227053 0.000845291 0.024808733 0.017886095\n",
       "32 0.03314695 0.02477444 0.000508416 0.006772067 0.004919932\n",
       "33 0.02021587 0.02630953 0.000437000 0.016000000 0.012272432\n",
       "34 0.02046798 0.02614886 0.000716634 0.008185778 0.005800175\n",
       "35 0.02977158 0.03046579 0.000477000 0.008640208 0.002907744\n",
       "36 0.01829905 0.02418814 0.000427581 0.017586763 0.019199172\n",
       "37 0.03222459 0.03062143 0.000793577 0.020384170 0.012532026\n",
       "38 0.03658636 0.04495604 0.000617233 0.036789057 0.030950827\n",
       "39 0.05771467 0.05079376 0.000608656 0.009554335 0.005882736\n",
       "40 0.06192473 0.06110000 0.000702161 0.032454416 0.010214811\n",
       "46 0.05801549 0.05570844 0.000765283 0.008750499 0.001449073\n",
       "47 0.04835515 0.05360000 0.001097576 0.004082002 0.002340524\n",
       "48 0.03144607 0.03210494 0.000808940 0.017815617 0.011696208\n",
       "49 0.02899131 0.03253160 0.000706669 0.005969374 0.005093265\n",
       "50 0.04328778 0.04780000 0.000622025 0.004743727 0.000196872\n",
       "51 0.03665550 0.05019120 0.001254484 0.005169859 0.009431976\n",
       "52 0.03880516 0.03320878 0.000081800 0.000943904 0.001498091\n",
       "53 0.03376056 0.03122653 0.000345000 0.001078899 0.000000000\n",
       "54 0.07221571 0.07494305 0.000661313 0.005794983 0.001219087\n",
       "55 0.05182505 0.04172030 0.000545491 0.007045118 0.004007747"
      ]
     },
     "metadata": {},
     "output_type": "display_data"
    },
    {
     "data": {
      "text/html": [
       "<table>\n",
       "<thead><tr><th></th><th scope=col>filename</th><th scope=col>MouseID</th><th scope=col>Treatmentgroup</th><th scope=col>DPI</th><th scope=col>organ</th><th scope=col>well_position</th><th scope=col>plate</th><th scope=col>mass_400</th><th scope=col>mass_500</th><th scope=col>mass_600</th><th scope=col>mass_700</th><th scope=col>mass_800</th></tr></thead>\n",
       "<tbody>\n",
       "\t<tr><th scope=row>16</th><td>X581_Group3E_142dpi_RA_176_G_B4_P124.mzXML</td><td>581                                       </td><td>infected                                  </td><td>142dpi                                    </td><td>RA                                        </td><td>B4                                        </td><td>P124                                      </td><td>0.04669856                                </td><td>0.04908409                                </td><td>0.000933000                               </td><td>0.012035066                               </td><td>0.013508859                               </td></tr>\n",
       "\t<tr><th scope=row>17</th><td>X582_Group3E_142dpi_RA_177_G_B5_P124.mzXML</td><td>582                                       </td><td>infected                                  </td><td>142dpi                                    </td><td>RA                                        </td><td>B5                                        </td><td>P124                                      </td><td>0.05407460                                </td><td>0.07636061                                </td><td>0.000662000                               </td><td>0.034576449                               </td><td>0.007365232                               </td></tr>\n",
       "\t<tr><th scope=row>18</th><td>X583_Group3E_142dpi_RA_178_G_B6_P124.mzXML</td><td>583                                       </td><td>infected                                  </td><td>142dpi                                    </td><td>RA                                        </td><td>B6                                        </td><td>P124                                      </td><td>0.02467317                                </td><td>0.02701181                                </td><td>0.000416000                               </td><td>0.003147407                               </td><td>0.000313457                               </td></tr>\n",
       "\t<tr><th scope=row>19</th><td>X584_Group3E_142dpi_RA_179_G_B7_P124.mzXML</td><td>584                                       </td><td>infected                                  </td><td>142dpi                                    </td><td>RA                                        </td><td>B7                                        </td><td>P124                                      </td><td>0.02047675                                </td><td>0.02690000                                </td><td>0.000715000                               </td><td>0.025465232                               </td><td>0.022815355                               </td></tr>\n",
       "\t<tr><th scope=row>20</th><td>X585_Group3E_142dpi_RA_180_G_B8_P124.mzXML</td><td>585                                       </td><td>infected                                  </td><td>142dpi                                    </td><td>RA                                        </td><td>B8                                        </td><td>P124                                      </td><td>0.05055667                                </td><td>0.06382728                                </td><td>0.000854813                               </td><td>0.028639445                               </td><td>0.020467843                               </td></tr>\n",
       "\t<tr><th scope=row>21</th><td>X611_Group9_142dpi_RA_181_G_B9_P124.mzXML </td><td>611                                       </td><td>combo                                     </td><td>142dpi                                    </td><td>RA                                        </td><td>B9                                        </td><td>P124                                      </td><td>0.02539119                                </td><td>0.02750000                                </td><td>0.000623198                               </td><td>0.000683356                               </td><td>0.000485430                               </td></tr>\n",
       "</tbody>\n",
       "</table>\n"
      ],
      "text/latex": [
       "\\begin{tabular}{r|llllllllllll}\n",
       "  & filename & MouseID & Treatmentgroup & DPI & organ & well\\_position & plate & mass\\_400 & mass\\_500 & mass\\_600 & mass\\_700 & mass\\_800\\\\\n",
       "\\hline\n",
       "\t16 & X581\\_Group3E\\_142dpi\\_RA\\_176\\_G\\_B4\\_P124.mzXML & 581                                                      & infected                                                 & 142dpi                                                   & RA                                                       & B4                                                       & P124                                                     & 0.04669856                                               & 0.04908409                                               & 0.000933000                                              & 0.012035066                                              & 0.013508859                                             \\\\\n",
       "\t17 & X582\\_Group3E\\_142dpi\\_RA\\_177\\_G\\_B5\\_P124.mzXML & 582                                                      & infected                                                 & 142dpi                                                   & RA                                                       & B5                                                       & P124                                                     & 0.05407460                                               & 0.07636061                                               & 0.000662000                                              & 0.034576449                                              & 0.007365232                                             \\\\\n",
       "\t18 & X583\\_Group3E\\_142dpi\\_RA\\_178\\_G\\_B6\\_P124.mzXML & 583                                                      & infected                                                 & 142dpi                                                   & RA                                                       & B6                                                       & P124                                                     & 0.02467317                                               & 0.02701181                                               & 0.000416000                                              & 0.003147407                                              & 0.000313457                                             \\\\\n",
       "\t19 & X584\\_Group3E\\_142dpi\\_RA\\_179\\_G\\_B7\\_P124.mzXML & 584                                                      & infected                                                 & 142dpi                                                   & RA                                                       & B7                                                       & P124                                                     & 0.02047675                                               & 0.02690000                                               & 0.000715000                                              & 0.025465232                                              & 0.022815355                                             \\\\\n",
       "\t20 & X585\\_Group3E\\_142dpi\\_RA\\_180\\_G\\_B8\\_P124.mzXML & 585                                                      & infected                                                 & 142dpi                                                   & RA                                                       & B8                                                       & P124                                                     & 0.05055667                                               & 0.06382728                                               & 0.000854813                                              & 0.028639445                                              & 0.020467843                                             \\\\\n",
       "\t21 & X611\\_Group9\\_142dpi\\_RA\\_181\\_G\\_B9\\_P124.mzXML  & 611                                                      & combo                                                    & 142dpi                                                   & RA                                                       & B9                                                       & P124                                                     & 0.02539119                                               & 0.02750000                                               & 0.000623198                                              & 0.000683356                                              & 0.000485430                                             \\\\\n",
       "\\end{tabular}\n"
      ],
      "text/markdown": [
       "\n",
       "| <!--/--> | filename | MouseID | Treatmentgroup | DPI | organ | well_position | plate | mass_400 | mass_500 | mass_600 | mass_700 | mass_800 |\n",
       "|---|---|---|---|---|---|---|---|---|---|---|---|---|\n",
       "| 16 | X581_Group3E_142dpi_RA_176_G_B4_P124.mzXML | 581                                        | infected                                   | 142dpi                                     | RA                                         | B4                                         | P124                                       | 0.04669856                                 | 0.04908409                                 | 0.000933000                                | 0.012035066                                | 0.013508859                                |\n",
       "| 17 | X582_Group3E_142dpi_RA_177_G_B5_P124.mzXML | 582                                        | infected                                   | 142dpi                                     | RA                                         | B5                                         | P124                                       | 0.05407460                                 | 0.07636061                                 | 0.000662000                                | 0.034576449                                | 0.007365232                                |\n",
       "| 18 | X583_Group3E_142dpi_RA_178_G_B6_P124.mzXML | 583                                        | infected                                   | 142dpi                                     | RA                                         | B6                                         | P124                                       | 0.02467317                                 | 0.02701181                                 | 0.000416000                                | 0.003147407                                | 0.000313457                                |\n",
       "| 19 | X584_Group3E_142dpi_RA_179_G_B7_P124.mzXML | 584                                        | infected                                   | 142dpi                                     | RA                                         | B7                                         | P124                                       | 0.02047675                                 | 0.02690000                                 | 0.000715000                                | 0.025465232                                | 0.022815355                                |\n",
       "| 20 | X585_Group3E_142dpi_RA_180_G_B8_P124.mzXML | 585                                        | infected                                   | 142dpi                                     | RA                                         | B8                                         | P124                                       | 0.05055667                                 | 0.06382728                                 | 0.000854813                                | 0.028639445                                | 0.020467843                                |\n",
       "| 21 | X611_Group9_142dpi_RA_181_G_B9_P124.mzXML  | 611                                        | combo                                      | 142dpi                                     | RA                                         | B9                                         | P124                                       | 0.02539119                                 | 0.02750000                                 | 0.000623198                                | 0.000683356                                | 0.000485430                                |\n",
       "\n"
      ],
      "text/plain": [
       "   filename                                   MouseID Treatmentgroup DPI   \n",
       "16 X581_Group3E_142dpi_RA_176_G_B4_P124.mzXML 581     infected       142dpi\n",
       "17 X582_Group3E_142dpi_RA_177_G_B5_P124.mzXML 582     infected       142dpi\n",
       "18 X583_Group3E_142dpi_RA_178_G_B6_P124.mzXML 583     infected       142dpi\n",
       "19 X584_Group3E_142dpi_RA_179_G_B7_P124.mzXML 584     infected       142dpi\n",
       "20 X585_Group3E_142dpi_RA_180_G_B8_P124.mzXML 585     infected       142dpi\n",
       "21 X611_Group9_142dpi_RA_181_G_B9_P124.mzXML  611     combo          142dpi\n",
       "   organ well_position plate mass_400   mass_500   mass_600    mass_700   \n",
       "16 RA    B4            P124  0.04669856 0.04908409 0.000933000 0.012035066\n",
       "17 RA    B5            P124  0.05407460 0.07636061 0.000662000 0.034576449\n",
       "18 RA    B6            P124  0.02467317 0.02701181 0.000416000 0.003147407\n",
       "19 RA    B7            P124  0.02047675 0.02690000 0.000715000 0.025465232\n",
       "20 RA    B8            P124  0.05055667 0.06382728 0.000854813 0.028639445\n",
       "21 RA    B9            P124  0.02539119 0.02750000 0.000623198 0.000683356\n",
       "   mass_800   \n",
       "16 0.013508859\n",
       "17 0.007365232\n",
       "18 0.000313457\n",
       "19 0.022815355\n",
       "20 0.020467843\n",
       "21 0.000485430"
      ]
     },
     "metadata": {},
     "output_type": "display_data"
    },
    {
     "data": {
      "text/html": [
       "<ol class=list-inline>\n",
       "\t<li>30</li>\n",
       "\t<li>12</li>\n",
       "</ol>\n"
      ],
      "text/latex": [
       "\\begin{enumerate*}\n",
       "\\item 30\n",
       "\\item 12\n",
       "\\end{enumerate*}\n"
      ],
      "text/markdown": [
       "1. 30\n",
       "2. 12\n",
       "\n",
       "\n"
      ],
      "text/plain": [
       "[1] 30 12"
      ]
     },
     "metadata": {},
     "output_type": "display_data"
    },
    {
     "data": {
      "text/html": [
       "<ol class=list-inline>\n",
       "\t<li>30</li>\n",
       "\t<li>5</li>\n",
       "</ol>\n"
      ],
      "text/latex": [
       "\\begin{enumerate*}\n",
       "\\item 30\n",
       "\\item 5\n",
       "\\end{enumerate*}\n"
      ],
      "text/markdown": [
       "1. 30\n",
       "2. 5\n",
       "\n",
       "\n"
      ],
      "text/plain": [
       "[1] 30  5"
      ]
     },
     "metadata": {},
     "output_type": "display_data"
    },
    {
     "data": {
      "text/html": [
       "<ol class=list-inline>\n",
       "\t<li>30</li>\n",
       "\t<li>5</li>\n",
       "</ol>\n"
      ],
      "text/latex": [
       "\\begin{enumerate*}\n",
       "\\item 30\n",
       "\\item 5\n",
       "\\end{enumerate*}\n"
      ],
      "text/markdown": [
       "1. 30\n",
       "2. 5\n",
       "\n",
       "\n"
      ],
      "text/plain": [
       "[1] 30  5"
      ]
     },
     "metadata": {},
     "output_type": "display_data"
    },
    {
     "data": {
      "text/html": [
       "<ol class=list-inline>\n",
       "\t<li>30</li>\n",
       "\t<li>12</li>\n",
       "</ol>\n"
      ],
      "text/latex": [
       "\\begin{enumerate*}\n",
       "\\item 30\n",
       "\\item 12\n",
       "\\end{enumerate*}\n"
      ],
      "text/markdown": [
       "1. 30\n",
       "2. 12\n",
       "\n",
       "\n"
      ],
      "text/plain": [
       "[1] 30 12"
      ]
     },
     "metadata": {},
     "output_type": "display_data"
    }
   ],
   "source": [
    "noMeta<-features_pos[,8:12]\n",
    "head(noMeta)\n",
    "not_zero<-which(colSums(noMeta) != 0)\n",
    "head(not_zero)\n",
    "nonzero <- noMeta[, not_zero]\n",
    "nonzero\n",
    "nonzero_wMeta<-cbind(features_pos[,1:7], nonzero)\n",
    "head(nonzero_wMeta)\n",
    "dim(features_pos)\n",
    "dim(noMeta)\n",
    "dim(nonzero)\n",
    "dim(nonzero_wMeta)"
   ]
  },
  {
   "cell_type": "code",
   "execution_count": 15,
   "metadata": {
    "scrolled": true
   },
   "outputs": [
    {
     "data": {
      "text/html": [
       "<ol class=list-inline>\n",
       "\t<li>0.148479991170565</li>\n",
       "\t<li>0.65287003041307</li>\n",
       "\t<li>0.0612792417000994</li>\n",
       "\t<li>0.267097024243296</li>\n",
       "\t<li>0.486364763954452</li>\n",
       "</ol>\n"
      ],
      "text/latex": [
       "\\begin{enumerate*}\n",
       "\\item 0.148479991170565\n",
       "\\item 0.65287003041307\n",
       "\\item 0.0612792417000994\n",
       "\\item 0.267097024243296\n",
       "\\item 0.486364763954452\n",
       "\\end{enumerate*}\n"
      ],
      "text/markdown": [
       "1. 0.148479991170565\n",
       "2. 0.65287003041307\n",
       "3. 0.0612792417000994\n",
       "4. 0.267097024243296\n",
       "5. 0.486364763954452\n",
       "\n",
       "\n"
      ],
      "text/plain": [
       "[1] 0.14847999 0.65287003 0.06127924 0.26709702 0.48636476"
      ]
     },
     "metadata": {},
     "output_type": "display_data"
    },
    {
     "data": {
      "text/html": [
       "<ol class=list-inline>\n",
       "\t<li>0.371199977926414</li>\n",
       "\t<li>0.65287003041307</li>\n",
       "\t<li>0.306396208500497</li>\n",
       "\t<li>0.445161707072161</li>\n",
       "\t<li>0.607955954943065</li>\n",
       "</ol>\n"
      ],
      "text/latex": [
       "\\begin{enumerate*}\n",
       "\\item 0.371199977926414\n",
       "\\item 0.65287003041307\n",
       "\\item 0.306396208500497\n",
       "\\item 0.445161707072161\n",
       "\\item 0.607955954943065\n",
       "\\end{enumerate*}\n"
      ],
      "text/markdown": [
       "1. 0.371199977926414\n",
       "2. 0.65287003041307\n",
       "3. 0.306396208500497\n",
       "4. 0.445161707072161\n",
       "5. 0.607955954943065\n",
       "\n",
       "\n"
      ],
      "text/plain": [
       "[1] 0.3712000 0.6528700 0.3063962 0.4451617 0.6079560"
      ]
     },
     "metadata": {},
     "output_type": "display_data"
    }
   ],
   "source": [
    "pval<-c()\n",
    "\n",
    "for (i in 8:ncol(nonzero_wMeta)) \n",
    "pval<-c(pval,wilcox.test(nonzero_wMeta[,i]~nonzero_wMeta$Treatmentgroup)$p.value)\n",
    "head(pval)\n",
    "pAdj <- p.adjust(pval, method = c(\"fdr\"), n=length(pval)) \n",
    "head(pAdj) \n",
    "\n"
   ]
  },
  {
   "cell_type": "code",
   "execution_count": 16,
   "metadata": {
    "scrolled": true
   },
   "outputs": [
    {
     "data": {
      "text/html": [
       "5"
      ],
      "text/latex": [
       "5"
      ],
      "text/markdown": [
       "5"
      ],
      "text/plain": [
       "[1] 5"
      ]
     },
     "metadata": {},
     "output_type": "display_data"
    }
   ],
   "source": [
    "length(pval)"
   ]
  },
  {
   "cell_type": "code",
   "execution_count": 17,
   "metadata": {
    "scrolled": true
   },
   "outputs": [
    {
     "data": {
      "text/html": [
       "5"
      ],
      "text/latex": [
       "5"
      ],
      "text/markdown": [
       "5"
      ],
      "text/plain": [
       "[1] 5"
      ]
     },
     "metadata": {},
     "output_type": "display_data"
    }
   ],
   "source": [
    "length(pAdj)"
   ]
  },
  {
   "cell_type": "code",
   "execution_count": 18,
   "metadata": {},
   "outputs": [
    {
     "data": {
      "text/html": [
       "<ol class=list-inline>\n",
       "\t<li>2</li>\n",
       "\t<li>5</li>\n",
       "</ol>\n"
      ],
      "text/latex": [
       "\\begin{enumerate*}\n",
       "\\item 2\n",
       "\\item 5\n",
       "\\end{enumerate*}\n"
      ],
      "text/markdown": [
       "1. 2\n",
       "2. 5\n",
       "\n",
       "\n"
      ],
      "text/plain": [
       "[1] 2 5"
      ]
     },
     "metadata": {},
     "output_type": "display_data"
    },
    {
     "data": {
      "text/html": [
       "<table>\n",
       "<thead><tr><th></th><th scope=col>mass_400</th><th scope=col>mass_500</th><th scope=col>mass_600</th></tr></thead>\n",
       "<tbody>\n",
       "\t<tr><th scope=row>combo</th><td>0.04251330  </td><td>0.04209005  </td><td>0.0005555467</td></tr>\n",
       "\t<tr><th scope=row>infected</th><td>0.03559034  </td><td>0.04032653  </td><td>0.0007043765</td></tr>\n",
       "</tbody>\n",
       "</table>\n"
      ],
      "text/latex": [
       "\\begin{tabular}{r|lll}\n",
       "  & mass\\_400 & mass\\_500 & mass\\_600\\\\\n",
       "\\hline\n",
       "\tcombo & 0.04251330   & 0.04209005   & 0.0005555467\\\\\n",
       "\tinfected & 0.03559034   & 0.04032653   & 0.0007043765\\\\\n",
       "\\end{tabular}\n"
      ],
      "text/markdown": [
       "\n",
       "| <!--/--> | mass_400 | mass_500 | mass_600 |\n",
       "|---|---|---|---|\n",
       "| combo | 0.04251330   | 0.04209005   | 0.0005555467 |\n",
       "| infected | 0.03559034   | 0.04032653   | 0.0007043765 |\n",
       "\n"
      ],
      "text/plain": [
       "         mass_400   mass_500   mass_600    \n",
       "combo    0.04251330 0.04209005 0.0005555467\n",
       "infected 0.03559034 0.04032653 0.0007043765"
      ]
     },
     "metadata": {},
     "output_type": "display_data"
    },
    {
     "data": {
      "text/html": [
       "<dl class=dl-horizontal>\n",
       "\t<dt>mass_400</dt>\n",
       "\t\t<dd>1.19451791334313</dd>\n",
       "\t<dt>mass_500</dt>\n",
       "\t\t<dd>1.04373103567451</dd>\n",
       "\t<dt>mass_600</dt>\n",
       "\t\t<dd>0.788707118456636</dd>\n",
       "\t<dt>mass_700</dt>\n",
       "\t\t<dd>0.758949289917182</dd>\n",
       "\t<dt>mass_800</dt>\n",
       "\t\t<dd>0.838139953986678</dd>\n",
       "</dl>\n"
      ],
      "text/latex": [
       "\\begin{description*}\n",
       "\\item[mass\\textbackslash{}\\_400] 1.19451791334313\n",
       "\\item[mass\\textbackslash{}\\_500] 1.04373103567451\n",
       "\\item[mass\\textbackslash{}\\_600] 0.788707118456636\n",
       "\\item[mass\\textbackslash{}\\_700] 0.758949289917182\n",
       "\\item[mass\\textbackslash{}\\_800] 0.838139953986678\n",
       "\\end{description*}\n"
      ],
      "text/markdown": [
       "mass_400\n",
       ":   1.19451791334313mass_500\n",
       ":   1.04373103567451mass_600\n",
       ":   0.788707118456636mass_700\n",
       ":   0.758949289917182mass_800\n",
       ":   0.838139953986678\n",
       "\n"
      ],
      "text/plain": [
       " mass_400  mass_500  mass_600  mass_700  mass_800 \n",
       "1.1945179 1.0437310 0.7887071 0.7589493 0.8381400 "
      ]
     },
     "metadata": {},
     "output_type": "display_data"
    },
    {
     "data": {
      "text/html": [
       "<ol class=list-inline>\n",
       "\t<li>'numeric'</li>\n",
       "\t<li>'vector'</li>\n",
       "</ol>\n"
      ],
      "text/latex": [
       "\\begin{enumerate*}\n",
       "\\item 'numeric'\n",
       "\\item 'vector'\n",
       "\\end{enumerate*}\n"
      ],
      "text/markdown": [
       "1. 'numeric'\n",
       "2. 'vector'\n",
       "\n",
       "\n"
      ],
      "text/plain": [
       "[1] \"numeric\" \"vector\" "
      ]
     },
     "metadata": {},
     "output_type": "display_data"
    }
   ],
   "source": [
    "avg<- apply(nonzero_wMeta[,8:ncol(nonzero_wMeta)], 2, function(x) tapply(x, nonzero_wMeta$Treatmentgroup, function(x) mean(x))) \n",
    "\n",
    "dim(avg)\n",
    "\n",
    "avg[,1:3]\n",
    "\n",
    "fch <- apply(avg, 2, function(x) x[1]/x[2]) \n",
    "\n",
    "head(fch) \n",
    "is(fch)"
   ]
  },
  {
   "cell_type": "code",
   "execution_count": 19,
   "metadata": {
    "scrolled": true
   },
   "outputs": [
    {
     "data": {
      "text/html": [
       "<dl class=dl-horizontal>\n",
       "\t<dt>mass_400</dt>\n",
       "\t\t<dd>1.19451791334313</dd>\n",
       "\t<dt>mass_500</dt>\n",
       "\t\t<dd>1.04373103567451</dd>\n",
       "\t<dt>mass_600</dt>\n",
       "\t\t<dd>0.788707118456636</dd>\n",
       "\t<dt>mass_700</dt>\n",
       "\t\t<dd>0.758949289917182</dd>\n",
       "\t<dt>mass_800</dt>\n",
       "\t\t<dd>0.838139953986678</dd>\n",
       "</dl>\n"
      ],
      "text/latex": [
       "\\begin{description*}\n",
       "\\item[mass\\textbackslash{}\\_400] 1.19451791334313\n",
       "\\item[mass\\textbackslash{}\\_500] 1.04373103567451\n",
       "\\item[mass\\textbackslash{}\\_600] 0.788707118456636\n",
       "\\item[mass\\textbackslash{}\\_700] 0.758949289917182\n",
       "\\item[mass\\textbackslash{}\\_800] 0.838139953986678\n",
       "\\end{description*}\n"
      ],
      "text/markdown": [
       "mass_400\n",
       ":   1.19451791334313mass_500\n",
       ":   1.04373103567451mass_600\n",
       ":   0.788707118456636mass_700\n",
       ":   0.758949289917182mass_800\n",
       ":   0.838139953986678\n",
       "\n"
      ],
      "text/plain": [
       " mass_400  mass_500  mass_600  mass_700  mass_800 \n",
       "1.1945179 1.0437310 0.7887071 0.7589493 0.8381400 "
      ]
     },
     "metadata": {},
     "output_type": "display_data"
    }
   ],
   "source": [
    "fch"
   ]
  },
  {
   "cell_type": "code",
   "execution_count": 20,
   "metadata": {
    "scrolled": false
   },
   "outputs": [],
   "source": [
    "df <- data.frame(fch,pval, pAdj)\n",
    "write.csv(df, \"PC-treat-RA-wilcox-infected-combo.csv\")"
   ]
  },
  {
   "cell_type": "code",
   "execution_count": null,
   "metadata": {},
   "outputs": [],
   "source": []
  },
  {
   "cell_type": "code",
   "execution_count": null,
   "metadata": {},
   "outputs": [],
   "source": []
  },
  {
   "cell_type": "code",
   "execution_count": null,
   "metadata": {},
   "outputs": [],
   "source": []
  },
  {
   "cell_type": "code",
   "execution_count": null,
   "metadata": {},
   "outputs": [],
   "source": []
  },
  {
   "cell_type": "code",
   "execution_count": null,
   "metadata": {},
   "outputs": [],
   "source": []
  },
  {
   "cell_type": "code",
   "execution_count": null,
   "metadata": {},
   "outputs": [],
   "source": []
  }
 ],
 "metadata": {
  "kernelspec": {
   "display_name": "R",
   "language": "R",
   "name": "ir"
  },
  "language_info": {
   "codemirror_mode": "r",
   "file_extension": ".r",
   "mimetype": "text/x-r-source",
   "name": "R",
   "pygments_lexer": "r",
   "version": "3.6.1"
  }
 },
 "nbformat": 4,
 "nbformat_minor": 2
}
