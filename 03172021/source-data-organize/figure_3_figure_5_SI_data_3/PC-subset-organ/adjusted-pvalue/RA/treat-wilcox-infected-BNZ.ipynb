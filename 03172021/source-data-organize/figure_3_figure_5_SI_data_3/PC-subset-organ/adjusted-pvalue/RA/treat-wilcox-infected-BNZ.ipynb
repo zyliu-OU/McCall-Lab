{
 "cells": [
  {
   "cell_type": "code",
   "execution_count": 1,
   "metadata": {},
   "outputs": [],
   "source": [
    "a <- read.csv(\"03172021-PC-treatment-RA-M-F.csv\")"
   ]
  },
  {
   "cell_type": "code",
   "execution_count": 2,
   "metadata": {},
   "outputs": [
    {
     "data": {
      "text/html": [
       "<table>\n",
       "<thead><tr><th scope=col>filename</th><th scope=col>MouseID</th><th scope=col>Treatmentgroup</th><th scope=col>DPI</th><th scope=col>organ</th><th scope=col>well_position</th><th scope=col>plate</th><th scope=col>mass_400</th><th scope=col>mass_500</th><th scope=col>mass_600</th><th scope=col>mass_700</th><th scope=col>mass_800</th></tr></thead>\n",
       "<tbody>\n",
       "\t<tr><td>X511_Group1C_142dpi_RA_161_G_A1_P124.mzXML</td><td>511                                       </td><td>naive                                     </td><td>142dpi                                    </td><td>RA                                        </td><td>A1                                        </td><td>P124                                      </td><td>0.01994283                                </td><td>0.02502781                                </td><td>0.000415632                               </td><td>0.005854332                               </td><td>0.003647412                               </td></tr>\n",
       "\t<tr><td>X512_Group1C_142dpi_RA_162_G_A2_P124.mzXML</td><td>512                                       </td><td>naive                                     </td><td>142dpi                                    </td><td>RA                                        </td><td>A2                                        </td><td>P124                                      </td><td>0.03626993                                </td><td>0.04240000                                </td><td>0.000906489                               </td><td>0.011036420                               </td><td>0.003723513                               </td></tr>\n",
       "\t<tr><td>X513_Group1C_142dpi_RA_163_G_A3_P124.mzXML</td><td>513                                       </td><td>naive                                     </td><td>142dpi                                    </td><td>RA                                        </td><td>A3                                        </td><td>P124                                      </td><td>0.03151262                                </td><td>0.05470000                                </td><td>0.001419182                               </td><td>0.025528456                               </td><td>0.020909886                               </td></tr>\n",
       "\t<tr><td>X514_Group1C_142dpi_RA_164_G_A4_P124.mzXML</td><td>514                                       </td><td>naive                                     </td><td>142dpi                                    </td><td>RA                                        </td><td>A4                                        </td><td>P124                                      </td><td>0.03428018                                </td><td>0.03961443                                </td><td>0.000910830                               </td><td>0.003097366                               </td><td>0.005380550                               </td></tr>\n",
       "\t<tr><td>X515_Group1C_142dpi_RA_165_G_A5_P124.mzXML</td><td>515                                       </td><td>naive                                     </td><td>142dpi                                    </td><td>RA                                        </td><td>A5                                        </td><td>P124                                      </td><td>0.02349768                                </td><td>0.02730000                                </td><td>0.001071729                               </td><td>0.004059030                               </td><td>0.002179902                               </td></tr>\n",
       "\t<tr><td>X531_Group1C_142dpi_RA_166_G_A6_P124.mzXML</td><td>531                                       </td><td>naive                                     </td><td>142dpi                                    </td><td>RA                                        </td><td>A6                                        </td><td>P124                                      </td><td>0.02585822                                </td><td>0.03340000                                </td><td>0.000938300                               </td><td>0.012900000                               </td><td>0.007982976                               </td></tr>\n",
       "</tbody>\n",
       "</table>\n"
      ],
      "text/latex": [
       "\\begin{tabular}{r|llllllllllll}\n",
       " filename & MouseID & Treatmentgroup & DPI & organ & well\\_position & plate & mass\\_400 & mass\\_500 & mass\\_600 & mass\\_700 & mass\\_800\\\\\n",
       "\\hline\n",
       "\t X511\\_Group1C\\_142dpi\\_RA\\_161\\_G\\_A1\\_P124.mzXML & 511                                                      & naive                                                    & 142dpi                                                   & RA                                                       & A1                                                       & P124                                                     & 0.01994283                                               & 0.02502781                                               & 0.000415632                                              & 0.005854332                                              & 0.003647412                                             \\\\\n",
       "\t X512\\_Group1C\\_142dpi\\_RA\\_162\\_G\\_A2\\_P124.mzXML & 512                                                      & naive                                                    & 142dpi                                                   & RA                                                       & A2                                                       & P124                                                     & 0.03626993                                               & 0.04240000                                               & 0.000906489                                              & 0.011036420                                              & 0.003723513                                             \\\\\n",
       "\t X513\\_Group1C\\_142dpi\\_RA\\_163\\_G\\_A3\\_P124.mzXML & 513                                                      & naive                                                    & 142dpi                                                   & RA                                                       & A3                                                       & P124                                                     & 0.03151262                                               & 0.05470000                                               & 0.001419182                                              & 0.025528456                                              & 0.020909886                                             \\\\\n",
       "\t X514\\_Group1C\\_142dpi\\_RA\\_164\\_G\\_A4\\_P124.mzXML & 514                                                      & naive                                                    & 142dpi                                                   & RA                                                       & A4                                                       & P124                                                     & 0.03428018                                               & 0.03961443                                               & 0.000910830                                              & 0.003097366                                              & 0.005380550                                             \\\\\n",
       "\t X515\\_Group1C\\_142dpi\\_RA\\_165\\_G\\_A5\\_P124.mzXML & 515                                                      & naive                                                    & 142dpi                                                   & RA                                                       & A5                                                       & P124                                                     & 0.02349768                                               & 0.02730000                                               & 0.001071729                                              & 0.004059030                                              & 0.002179902                                             \\\\\n",
       "\t X531\\_Group1C\\_142dpi\\_RA\\_166\\_G\\_A6\\_P124.mzXML & 531                                                      & naive                                                    & 142dpi                                                   & RA                                                       & A6                                                       & P124                                                     & 0.02585822                                               & 0.03340000                                               & 0.000938300                                              & 0.012900000                                              & 0.007982976                                             \\\\\n",
       "\\end{tabular}\n"
      ],
      "text/markdown": [
       "\n",
       "| filename | MouseID | Treatmentgroup | DPI | organ | well_position | plate | mass_400 | mass_500 | mass_600 | mass_700 | mass_800 |\n",
       "|---|---|---|---|---|---|---|---|---|---|---|---|\n",
       "| X511_Group1C_142dpi_RA_161_G_A1_P124.mzXML | 511                                        | naive                                      | 142dpi                                     | RA                                         | A1                                         | P124                                       | 0.01994283                                 | 0.02502781                                 | 0.000415632                                | 0.005854332                                | 0.003647412                                |\n",
       "| X512_Group1C_142dpi_RA_162_G_A2_P124.mzXML | 512                                        | naive                                      | 142dpi                                     | RA                                         | A2                                         | P124                                       | 0.03626993                                 | 0.04240000                                 | 0.000906489                                | 0.011036420                                | 0.003723513                                |\n",
       "| X513_Group1C_142dpi_RA_163_G_A3_P124.mzXML | 513                                        | naive                                      | 142dpi                                     | RA                                         | A3                                         | P124                                       | 0.03151262                                 | 0.05470000                                 | 0.001419182                                | 0.025528456                                | 0.020909886                                |\n",
       "| X514_Group1C_142dpi_RA_164_G_A4_P124.mzXML | 514                                        | naive                                      | 142dpi                                     | RA                                         | A4                                         | P124                                       | 0.03428018                                 | 0.03961443                                 | 0.000910830                                | 0.003097366                                | 0.005380550                                |\n",
       "| X515_Group1C_142dpi_RA_165_G_A5_P124.mzXML | 515                                        | naive                                      | 142dpi                                     | RA                                         | A5                                         | P124                                       | 0.02349768                                 | 0.02730000                                 | 0.001071729                                | 0.004059030                                | 0.002179902                                |\n",
       "| X531_Group1C_142dpi_RA_166_G_A6_P124.mzXML | 531                                        | naive                                      | 142dpi                                     | RA                                         | A6                                         | P124                                       | 0.02585822                                 | 0.03340000                                 | 0.000938300                                | 0.012900000                                | 0.007982976                                |\n",
       "\n"
      ],
      "text/plain": [
       "  filename                                   MouseID Treatmentgroup DPI   \n",
       "1 X511_Group1C_142dpi_RA_161_G_A1_P124.mzXML 511     naive          142dpi\n",
       "2 X512_Group1C_142dpi_RA_162_G_A2_P124.mzXML 512     naive          142dpi\n",
       "3 X513_Group1C_142dpi_RA_163_G_A3_P124.mzXML 513     naive          142dpi\n",
       "4 X514_Group1C_142dpi_RA_164_G_A4_P124.mzXML 514     naive          142dpi\n",
       "5 X515_Group1C_142dpi_RA_165_G_A5_P124.mzXML 515     naive          142dpi\n",
       "6 X531_Group1C_142dpi_RA_166_G_A6_P124.mzXML 531     naive          142dpi\n",
       "  organ well_position plate mass_400   mass_500   mass_600    mass_700   \n",
       "1 RA    A1            P124  0.01994283 0.02502781 0.000415632 0.005854332\n",
       "2 RA    A2            P124  0.03626993 0.04240000 0.000906489 0.011036420\n",
       "3 RA    A3            P124  0.03151262 0.05470000 0.001419182 0.025528456\n",
       "4 RA    A4            P124  0.03428018 0.03961443 0.000910830 0.003097366\n",
       "5 RA    A5            P124  0.02349768 0.02730000 0.001071729 0.004059030\n",
       "6 RA    A6            P124  0.02585822 0.03340000 0.000938300 0.012900000\n",
       "  mass_800   \n",
       "1 0.003647412\n",
       "2 0.003723513\n",
       "3 0.020909886\n",
       "4 0.005380550\n",
       "5 0.002179902\n",
       "6 0.007982976"
      ]
     },
     "metadata": {},
     "output_type": "display_data"
    },
    {
     "data": {
      "text/html": [
       "<ol class=list-inline>\n",
       "\t<li>60</li>\n",
       "\t<li>12</li>\n",
       "</ol>\n"
      ],
      "text/latex": [
       "\\begin{enumerate*}\n",
       "\\item 60\n",
       "\\item 12\n",
       "\\end{enumerate*}\n"
      ],
      "text/markdown": [
       "1. 60\n",
       "2. 12\n",
       "\n",
       "\n"
      ],
      "text/plain": [
       "[1] 60 12"
      ]
     },
     "metadata": {},
     "output_type": "display_data"
    }
   ],
   "source": [
    "head(a)\n",
    "dim(a)"
   ]
  },
  {
   "cell_type": "code",
   "execution_count": 3,
   "metadata": {},
   "outputs": [
    {
     "data": {
      "text/html": [
       "<table>\n",
       "<thead><tr><th></th><th scope=col>filename</th><th scope=col>MouseID</th><th scope=col>Treatmentgroup</th><th scope=col>DPI</th><th scope=col>organ</th><th scope=col>well_position</th><th scope=col>plate</th><th scope=col>mass_400</th><th scope=col>mass_500</th><th scope=col>mass_600</th><th scope=col>mass_700</th><th scope=col>mass_800</th></tr></thead>\n",
       "<tbody>\n",
       "\t<tr><th scope=row>16</th><td>X581_Group3E_142dpi_RA_176_G_B4_P124.mzXML</td><td>581                                       </td><td>infected                                  </td><td>142dpi                                    </td><td>RA                                        </td><td>B4                                        </td><td>P124                                      </td><td>0.04669856                                </td><td>0.04908409                                </td><td>0.000933000                               </td><td>0.012035066                               </td><td>0.013508859                               </td></tr>\n",
       "\t<tr><th scope=row>17</th><td>X582_Group3E_142dpi_RA_177_G_B5_P124.mzXML</td><td>582                                       </td><td>infected                                  </td><td>142dpi                                    </td><td>RA                                        </td><td>B5                                        </td><td>P124                                      </td><td>0.05407460                                </td><td>0.07636061                                </td><td>0.000662000                               </td><td>0.034576449                               </td><td>0.007365232                               </td></tr>\n",
       "\t<tr><th scope=row>18</th><td>X583_Group3E_142dpi_RA_178_G_B6_P124.mzXML</td><td>583                                       </td><td>infected                                  </td><td>142dpi                                    </td><td>RA                                        </td><td>B6                                        </td><td>P124                                      </td><td>0.02467317                                </td><td>0.02701181                                </td><td>0.000416000                               </td><td>0.003147407                               </td><td>0.000313457                               </td></tr>\n",
       "\t<tr><th scope=row>19</th><td>X584_Group3E_142dpi_RA_179_G_B7_P124.mzXML</td><td>584                                       </td><td>infected                                  </td><td>142dpi                                    </td><td>RA                                        </td><td>B7                                        </td><td>P124                                      </td><td>0.02047675                                </td><td>0.02690000                                </td><td>0.000715000                               </td><td>0.025465232                               </td><td>0.022815355                               </td></tr>\n",
       "\t<tr><th scope=row>20</th><td>X585_Group3E_142dpi_RA_180_G_B8_P124.mzXML</td><td>585                                       </td><td>infected                                  </td><td>142dpi                                    </td><td>RA                                        </td><td>B8                                        </td><td>P124                                      </td><td>0.05055667                                </td><td>0.06382728                                </td><td>0.000854813                               </td><td>0.028639445                               </td><td>0.020467843                               </td></tr>\n",
       "\t<tr><th scope=row>26</th><td>X631_Group15_142dpi_RA_191_G_C7_P124.mzXML</td><td>631                                       </td><td>BNZ                                       </td><td>142dpi                                    </td><td>RA                                        </td><td>C7                                        </td><td>P124                                      </td><td>0.03356458                                </td><td>0.03920000                                </td><td>0.000785318                               </td><td>0.013500000                               </td><td>0.001570132                               </td></tr>\n",
       "</tbody>\n",
       "</table>\n"
      ],
      "text/latex": [
       "\\begin{tabular}{r|llllllllllll}\n",
       "  & filename & MouseID & Treatmentgroup & DPI & organ & well\\_position & plate & mass\\_400 & mass\\_500 & mass\\_600 & mass\\_700 & mass\\_800\\\\\n",
       "\\hline\n",
       "\t16 & X581\\_Group3E\\_142dpi\\_RA\\_176\\_G\\_B4\\_P124.mzXML & 581                                                      & infected                                                 & 142dpi                                                   & RA                                                       & B4                                                       & P124                                                     & 0.04669856                                               & 0.04908409                                               & 0.000933000                                              & 0.012035066                                              & 0.013508859                                             \\\\\n",
       "\t17 & X582\\_Group3E\\_142dpi\\_RA\\_177\\_G\\_B5\\_P124.mzXML & 582                                                      & infected                                                 & 142dpi                                                   & RA                                                       & B5                                                       & P124                                                     & 0.05407460                                               & 0.07636061                                               & 0.000662000                                              & 0.034576449                                              & 0.007365232                                             \\\\\n",
       "\t18 & X583\\_Group3E\\_142dpi\\_RA\\_178\\_G\\_B6\\_P124.mzXML & 583                                                      & infected                                                 & 142dpi                                                   & RA                                                       & B6                                                       & P124                                                     & 0.02467317                                               & 0.02701181                                               & 0.000416000                                              & 0.003147407                                              & 0.000313457                                             \\\\\n",
       "\t19 & X584\\_Group3E\\_142dpi\\_RA\\_179\\_G\\_B7\\_P124.mzXML & 584                                                      & infected                                                 & 142dpi                                                   & RA                                                       & B7                                                       & P124                                                     & 0.02047675                                               & 0.02690000                                               & 0.000715000                                              & 0.025465232                                              & 0.022815355                                             \\\\\n",
       "\t20 & X585\\_Group3E\\_142dpi\\_RA\\_180\\_G\\_B8\\_P124.mzXML & 585                                                      & infected                                                 & 142dpi                                                   & RA                                                       & B8                                                       & P124                                                     & 0.05055667                                               & 0.06382728                                               & 0.000854813                                              & 0.028639445                                              & 0.020467843                                             \\\\\n",
       "\t26 & X631\\_Group15\\_142dpi\\_RA\\_191\\_G\\_C7\\_P124.mzXML & 631                                                      & BNZ                                                      & 142dpi                                                   & RA                                                       & C7                                                       & P124                                                     & 0.03356458                                               & 0.03920000                                               & 0.000785318                                              & 0.013500000                                              & 0.001570132                                             \\\\\n",
       "\\end{tabular}\n"
      ],
      "text/markdown": [
       "\n",
       "| <!--/--> | filename | MouseID | Treatmentgroup | DPI | organ | well_position | plate | mass_400 | mass_500 | mass_600 | mass_700 | mass_800 |\n",
       "|---|---|---|---|---|---|---|---|---|---|---|---|---|\n",
       "| 16 | X581_Group3E_142dpi_RA_176_G_B4_P124.mzXML | 581                                        | infected                                   | 142dpi                                     | RA                                         | B4                                         | P124                                       | 0.04669856                                 | 0.04908409                                 | 0.000933000                                | 0.012035066                                | 0.013508859                                |\n",
       "| 17 | X582_Group3E_142dpi_RA_177_G_B5_P124.mzXML | 582                                        | infected                                   | 142dpi                                     | RA                                         | B5                                         | P124                                       | 0.05407460                                 | 0.07636061                                 | 0.000662000                                | 0.034576449                                | 0.007365232                                |\n",
       "| 18 | X583_Group3E_142dpi_RA_178_G_B6_P124.mzXML | 583                                        | infected                                   | 142dpi                                     | RA                                         | B6                                         | P124                                       | 0.02467317                                 | 0.02701181                                 | 0.000416000                                | 0.003147407                                | 0.000313457                                |\n",
       "| 19 | X584_Group3E_142dpi_RA_179_G_B7_P124.mzXML | 584                                        | infected                                   | 142dpi                                     | RA                                         | B7                                         | P124                                       | 0.02047675                                 | 0.02690000                                 | 0.000715000                                | 0.025465232                                | 0.022815355                                |\n",
       "| 20 | X585_Group3E_142dpi_RA_180_G_B8_P124.mzXML | 585                                        | infected                                   | 142dpi                                     | RA                                         | B8                                         | P124                                       | 0.05055667                                 | 0.06382728                                 | 0.000854813                                | 0.028639445                                | 0.020467843                                |\n",
       "| 26 | X631_Group15_142dpi_RA_191_G_C7_P124.mzXML | 631                                        | BNZ                                        | 142dpi                                     | RA                                         | C7                                         | P124                                       | 0.03356458                                 | 0.03920000                                 | 0.000785318                                | 0.013500000                                | 0.001570132                                |\n",
       "\n"
      ],
      "text/plain": [
       "   filename                                   MouseID Treatmentgroup DPI   \n",
       "16 X581_Group3E_142dpi_RA_176_G_B4_P124.mzXML 581     infected       142dpi\n",
       "17 X582_Group3E_142dpi_RA_177_G_B5_P124.mzXML 582     infected       142dpi\n",
       "18 X583_Group3E_142dpi_RA_178_G_B6_P124.mzXML 583     infected       142dpi\n",
       "19 X584_Group3E_142dpi_RA_179_G_B7_P124.mzXML 584     infected       142dpi\n",
       "20 X585_Group3E_142dpi_RA_180_G_B8_P124.mzXML 585     infected       142dpi\n",
       "26 X631_Group15_142dpi_RA_191_G_C7_P124.mzXML 631     BNZ            142dpi\n",
       "   organ well_position plate mass_400   mass_500   mass_600    mass_700   \n",
       "16 RA    B4            P124  0.04669856 0.04908409 0.000933000 0.012035066\n",
       "17 RA    B5            P124  0.05407460 0.07636061 0.000662000 0.034576449\n",
       "18 RA    B6            P124  0.02467317 0.02701181 0.000416000 0.003147407\n",
       "19 RA    B7            P124  0.02047675 0.02690000 0.000715000 0.025465232\n",
       "20 RA    B8            P124  0.05055667 0.06382728 0.000854813 0.028639445\n",
       "26 RA    C7            P124  0.03356458 0.03920000 0.000785318 0.013500000\n",
       "   mass_800   \n",
       "16 0.013508859\n",
       "17 0.007365232\n",
       "18 0.000313457\n",
       "19 0.022815355\n",
       "20 0.020467843\n",
       "26 0.001570132"
      ]
     },
     "metadata": {},
     "output_type": "display_data"
    },
    {
     "data": {
      "text/html": [
       "<ol class=list-inline>\n",
       "\t<li>30</li>\n",
       "\t<li>12</li>\n",
       "</ol>\n"
      ],
      "text/latex": [
       "\\begin{enumerate*}\n",
       "\\item 30\n",
       "\\item 12\n",
       "\\end{enumerate*}\n"
      ],
      "text/markdown": [
       "1. 30\n",
       "2. 12\n",
       "\n",
       "\n"
      ],
      "text/plain": [
       "[1] 30 12"
      ]
     },
     "metadata": {},
     "output_type": "display_data"
    }
   ],
   "source": [
    "features_pos<-droplevels(subset(a, a$Treatmentgroup==c(\"infected\")|a$Treatmentgroup==c(\"BNZ\")))\n",
    "head(features_pos)\n",
    "dim(features_pos)"
   ]
  },
  {
   "cell_type": "code",
   "execution_count": 4,
   "metadata": {
    "scrolled": false
   },
   "outputs": [
    {
     "data": {
      "text/html": [
       "<table>\n",
       "<thead><tr><th></th><th scope=col>mass_400</th><th scope=col>mass_500</th><th scope=col>mass_600</th><th scope=col>mass_700</th><th scope=col>mass_800</th></tr></thead>\n",
       "<tbody>\n",
       "\t<tr><th scope=row>16</th><td>0.04669856 </td><td>0.04908409 </td><td>0.000933000</td><td>0.012035066</td><td>0.013508859</td></tr>\n",
       "\t<tr><th scope=row>17</th><td>0.05407460 </td><td>0.07636061 </td><td>0.000662000</td><td>0.034576449</td><td>0.007365232</td></tr>\n",
       "\t<tr><th scope=row>18</th><td>0.02467317 </td><td>0.02701181 </td><td>0.000416000</td><td>0.003147407</td><td>0.000313457</td></tr>\n",
       "\t<tr><th scope=row>19</th><td>0.02047675 </td><td>0.02690000 </td><td>0.000715000</td><td>0.025465232</td><td>0.022815355</td></tr>\n",
       "\t<tr><th scope=row>20</th><td>0.05055667 </td><td>0.06382728 </td><td>0.000854813</td><td>0.028639445</td><td>0.020467843</td></tr>\n",
       "\t<tr><th scope=row>26</th><td>0.03356458 </td><td>0.03920000 </td><td>0.000785318</td><td>0.013500000</td><td>0.001570132</td></tr>\n",
       "</tbody>\n",
       "</table>\n"
      ],
      "text/latex": [
       "\\begin{tabular}{r|lllll}\n",
       "  & mass\\_400 & mass\\_500 & mass\\_600 & mass\\_700 & mass\\_800\\\\\n",
       "\\hline\n",
       "\t16 & 0.04669856  & 0.04908409  & 0.000933000 & 0.012035066 & 0.013508859\\\\\n",
       "\t17 & 0.05407460  & 0.07636061  & 0.000662000 & 0.034576449 & 0.007365232\\\\\n",
       "\t18 & 0.02467317  & 0.02701181  & 0.000416000 & 0.003147407 & 0.000313457\\\\\n",
       "\t19 & 0.02047675  & 0.02690000  & 0.000715000 & 0.025465232 & 0.022815355\\\\\n",
       "\t20 & 0.05055667  & 0.06382728  & 0.000854813 & 0.028639445 & 0.020467843\\\\\n",
       "\t26 & 0.03356458  & 0.03920000  & 0.000785318 & 0.013500000 & 0.001570132\\\\\n",
       "\\end{tabular}\n"
      ],
      "text/markdown": [
       "\n",
       "| <!--/--> | mass_400 | mass_500 | mass_600 | mass_700 | mass_800 |\n",
       "|---|---|---|---|---|---|\n",
       "| 16 | 0.04669856  | 0.04908409  | 0.000933000 | 0.012035066 | 0.013508859 |\n",
       "| 17 | 0.05407460  | 0.07636061  | 0.000662000 | 0.034576449 | 0.007365232 |\n",
       "| 18 | 0.02467317  | 0.02701181  | 0.000416000 | 0.003147407 | 0.000313457 |\n",
       "| 19 | 0.02047675  | 0.02690000  | 0.000715000 | 0.025465232 | 0.022815355 |\n",
       "| 20 | 0.05055667  | 0.06382728  | 0.000854813 | 0.028639445 | 0.020467843 |\n",
       "| 26 | 0.03356458  | 0.03920000  | 0.000785318 | 0.013500000 | 0.001570132 |\n",
       "\n"
      ],
      "text/plain": [
       "   mass_400   mass_500   mass_600    mass_700    mass_800   \n",
       "16 0.04669856 0.04908409 0.000933000 0.012035066 0.013508859\n",
       "17 0.05407460 0.07636061 0.000662000 0.034576449 0.007365232\n",
       "18 0.02467317 0.02701181 0.000416000 0.003147407 0.000313457\n",
       "19 0.02047675 0.02690000 0.000715000 0.025465232 0.022815355\n",
       "20 0.05055667 0.06382728 0.000854813 0.028639445 0.020467843\n",
       "26 0.03356458 0.03920000 0.000785318 0.013500000 0.001570132"
      ]
     },
     "metadata": {},
     "output_type": "display_data"
    },
    {
     "data": {
      "text/html": [
       "<dl class=dl-horizontal>\n",
       "\t<dt>mass_400</dt>\n",
       "\t\t<dd>1</dd>\n",
       "\t<dt>mass_500</dt>\n",
       "\t\t<dd>2</dd>\n",
       "\t<dt>mass_600</dt>\n",
       "\t\t<dd>3</dd>\n",
       "\t<dt>mass_700</dt>\n",
       "\t\t<dd>4</dd>\n",
       "\t<dt>mass_800</dt>\n",
       "\t\t<dd>5</dd>\n",
       "</dl>\n"
      ],
      "text/latex": [
       "\\begin{description*}\n",
       "\\item[mass\\textbackslash{}\\_400] 1\n",
       "\\item[mass\\textbackslash{}\\_500] 2\n",
       "\\item[mass\\textbackslash{}\\_600] 3\n",
       "\\item[mass\\textbackslash{}\\_700] 4\n",
       "\\item[mass\\textbackslash{}\\_800] 5\n",
       "\\end{description*}\n"
      ],
      "text/markdown": [
       "mass_400\n",
       ":   1mass_500\n",
       ":   2mass_600\n",
       ":   3mass_700\n",
       ":   4mass_800\n",
       ":   5\n",
       "\n"
      ],
      "text/plain": [
       "mass_400 mass_500 mass_600 mass_700 mass_800 \n",
       "       1        2        3        4        5 "
      ]
     },
     "metadata": {},
     "output_type": "display_data"
    },
    {
     "data": {
      "text/html": [
       "<table>\n",
       "<thead><tr><th></th><th scope=col>mass_400</th><th scope=col>mass_500</th><th scope=col>mass_600</th><th scope=col>mass_700</th><th scope=col>mass_800</th></tr></thead>\n",
       "<tbody>\n",
       "\t<tr><th scope=row>16</th><td>0.04669856 </td><td>0.04908409 </td><td>0.000933000</td><td>0.012035066</td><td>0.013508859</td></tr>\n",
       "\t<tr><th scope=row>17</th><td>0.05407460 </td><td>0.07636061 </td><td>0.000662000</td><td>0.034576449</td><td>0.007365232</td></tr>\n",
       "\t<tr><th scope=row>18</th><td>0.02467317 </td><td>0.02701181 </td><td>0.000416000</td><td>0.003147407</td><td>0.000313457</td></tr>\n",
       "\t<tr><th scope=row>19</th><td>0.02047675 </td><td>0.02690000 </td><td>0.000715000</td><td>0.025465232</td><td>0.022815355</td></tr>\n",
       "\t<tr><th scope=row>20</th><td>0.05055667 </td><td>0.06382728 </td><td>0.000854813</td><td>0.028639445</td><td>0.020467843</td></tr>\n",
       "\t<tr><th scope=row>26</th><td>0.03356458 </td><td>0.03920000 </td><td>0.000785318</td><td>0.013500000</td><td>0.001570132</td></tr>\n",
       "\t<tr><th scope=row>27</th><td>0.03413707 </td><td>0.03160000 </td><td>0.000947276</td><td>0.006800000</td><td>0.003040254</td></tr>\n",
       "\t<tr><th scope=row>28</th><td>0.04366574 </td><td>0.06505073 </td><td>0.001529953</td><td>0.021932445</td><td>0.013205718</td></tr>\n",
       "\t<tr><th scope=row>29</th><td>0.04570138 </td><td>0.05828960 </td><td>0.001008407</td><td>0.012382975</td><td>0.014013995</td></tr>\n",
       "\t<tr><th scope=row>30</th><td>0.03140283 </td><td>0.03250000 </td><td>0.000934736</td><td>0.008034025</td><td>0.005570937</td></tr>\n",
       "\t<tr><th scope=row>31</th><td>0.02367722 </td><td>0.03227053 </td><td>0.000845291</td><td>0.024808733</td><td>0.017886095</td></tr>\n",
       "\t<tr><th scope=row>32</th><td>0.03314695 </td><td>0.02477444 </td><td>0.000508416</td><td>0.006772067</td><td>0.004919932</td></tr>\n",
       "\t<tr><th scope=row>33</th><td>0.02021587 </td><td>0.02630953 </td><td>0.000437000</td><td>0.016000000</td><td>0.012272432</td></tr>\n",
       "\t<tr><th scope=row>34</th><td>0.02046798 </td><td>0.02614886 </td><td>0.000716634</td><td>0.008185778</td><td>0.005800175</td></tr>\n",
       "\t<tr><th scope=row>35</th><td>0.02977158 </td><td>0.03046579 </td><td>0.000477000</td><td>0.008640208</td><td>0.002907744</td></tr>\n",
       "\t<tr><th scope=row>41</th><td>0.04125105 </td><td>0.04670923 </td><td>0.001007273</td><td>0.018825742</td><td>0.006132921</td></tr>\n",
       "\t<tr><th scope=row>42</th><td>0.03284682 </td><td>0.04618436 </td><td>0.001012795</td><td>0.004660000</td><td>0.002972458</td></tr>\n",
       "\t<tr><th scope=row>43</th><td>0.02873381 </td><td>0.02989445 </td><td>0.000828000</td><td>0.009280030</td><td>0.007344513</td></tr>\n",
       "\t<tr><th scope=row>44</th><td>0.04214344 </td><td>0.06117212 </td><td>0.000939877</td><td>0.037357285</td><td>0.003534113</td></tr>\n",
       "\t<tr><th scope=row>45</th><td>0.07101754 </td><td>0.06982925 </td><td>0.000758873</td><td>0.013067192</td><td>0.004763751</td></tr>\n",
       "\t<tr><th scope=row>46</th><td>0.05801549 </td><td>0.05570844 </td><td>0.000765283</td><td>0.008750499</td><td>0.001449073</td></tr>\n",
       "\t<tr><th scope=row>47</th><td>0.04835515 </td><td>0.05360000 </td><td>0.001097576</td><td>0.004082002</td><td>0.002340524</td></tr>\n",
       "\t<tr><th scope=row>48</th><td>0.03144607 </td><td>0.03210494 </td><td>0.000808940</td><td>0.017815617</td><td>0.011696208</td></tr>\n",
       "\t<tr><th scope=row>49</th><td>0.02899131 </td><td>0.03253160 </td><td>0.000706669</td><td>0.005969374</td><td>0.005093265</td></tr>\n",
       "\t<tr><th scope=row>50</th><td>0.04328778 </td><td>0.04780000 </td><td>0.000622025</td><td>0.004743727</td><td>0.000196872</td></tr>\n",
       "\t<tr><th scope=row>56</th><td>0.03248441 </td><td>0.03900000 </td><td>0.000894367</td><td>0.003626424</td><td>0.003835575</td></tr>\n",
       "\t<tr><th scope=row>57</th><td>0.01795440 </td><td>0.02340000 </td><td>0.000709538</td><td>0.003209255</td><td>0.001531619</td></tr>\n",
       "\t<tr><th scope=row>58</th><td>0.05113216 </td><td>0.04025805 </td><td>0.000157385</td><td>0.004446196</td><td>0.000087900</td></tr>\n",
       "\t<tr><th scope=row>59</th><td>0.04091378 </td><td>0.03216801 </td><td>0.000617413</td><td>0.002379165</td><td>0.000202050</td></tr>\n",
       "\t<tr><th scope=row>60</th><td>0.02436086 </td><td>0.03014325 </td><td>0.000399431</td><td>0.009090365</td><td>0.003764574</td></tr>\n",
       "</tbody>\n",
       "</table>\n"
      ],
      "text/latex": [
       "\\begin{tabular}{r|lllll}\n",
       "  & mass\\_400 & mass\\_500 & mass\\_600 & mass\\_700 & mass\\_800\\\\\n",
       "\\hline\n",
       "\t16 & 0.04669856  & 0.04908409  & 0.000933000 & 0.012035066 & 0.013508859\\\\\n",
       "\t17 & 0.05407460  & 0.07636061  & 0.000662000 & 0.034576449 & 0.007365232\\\\\n",
       "\t18 & 0.02467317  & 0.02701181  & 0.000416000 & 0.003147407 & 0.000313457\\\\\n",
       "\t19 & 0.02047675  & 0.02690000  & 0.000715000 & 0.025465232 & 0.022815355\\\\\n",
       "\t20 & 0.05055667  & 0.06382728  & 0.000854813 & 0.028639445 & 0.020467843\\\\\n",
       "\t26 & 0.03356458  & 0.03920000  & 0.000785318 & 0.013500000 & 0.001570132\\\\\n",
       "\t27 & 0.03413707  & 0.03160000  & 0.000947276 & 0.006800000 & 0.003040254\\\\\n",
       "\t28 & 0.04366574  & 0.06505073  & 0.001529953 & 0.021932445 & 0.013205718\\\\\n",
       "\t29 & 0.04570138  & 0.05828960  & 0.001008407 & 0.012382975 & 0.014013995\\\\\n",
       "\t30 & 0.03140283  & 0.03250000  & 0.000934736 & 0.008034025 & 0.005570937\\\\\n",
       "\t31 & 0.02367722  & 0.03227053  & 0.000845291 & 0.024808733 & 0.017886095\\\\\n",
       "\t32 & 0.03314695  & 0.02477444  & 0.000508416 & 0.006772067 & 0.004919932\\\\\n",
       "\t33 & 0.02021587  & 0.02630953  & 0.000437000 & 0.016000000 & 0.012272432\\\\\n",
       "\t34 & 0.02046798  & 0.02614886  & 0.000716634 & 0.008185778 & 0.005800175\\\\\n",
       "\t35 & 0.02977158  & 0.03046579  & 0.000477000 & 0.008640208 & 0.002907744\\\\\n",
       "\t41 & 0.04125105  & 0.04670923  & 0.001007273 & 0.018825742 & 0.006132921\\\\\n",
       "\t42 & 0.03284682  & 0.04618436  & 0.001012795 & 0.004660000 & 0.002972458\\\\\n",
       "\t43 & 0.02873381  & 0.02989445  & 0.000828000 & 0.009280030 & 0.007344513\\\\\n",
       "\t44 & 0.04214344  & 0.06117212  & 0.000939877 & 0.037357285 & 0.003534113\\\\\n",
       "\t45 & 0.07101754  & 0.06982925  & 0.000758873 & 0.013067192 & 0.004763751\\\\\n",
       "\t46 & 0.05801549  & 0.05570844  & 0.000765283 & 0.008750499 & 0.001449073\\\\\n",
       "\t47 & 0.04835515  & 0.05360000  & 0.001097576 & 0.004082002 & 0.002340524\\\\\n",
       "\t48 & 0.03144607  & 0.03210494  & 0.000808940 & 0.017815617 & 0.011696208\\\\\n",
       "\t49 & 0.02899131  & 0.03253160  & 0.000706669 & 0.005969374 & 0.005093265\\\\\n",
       "\t50 & 0.04328778  & 0.04780000  & 0.000622025 & 0.004743727 & 0.000196872\\\\\n",
       "\t56 & 0.03248441  & 0.03900000  & 0.000894367 & 0.003626424 & 0.003835575\\\\\n",
       "\t57 & 0.01795440  & 0.02340000  & 0.000709538 & 0.003209255 & 0.001531619\\\\\n",
       "\t58 & 0.05113216  & 0.04025805  & 0.000157385 & 0.004446196 & 0.000087900\\\\\n",
       "\t59 & 0.04091378  & 0.03216801  & 0.000617413 & 0.002379165 & 0.000202050\\\\\n",
       "\t60 & 0.02436086  & 0.03014325  & 0.000399431 & 0.009090365 & 0.003764574\\\\\n",
       "\\end{tabular}\n"
      ],
      "text/markdown": [
       "\n",
       "| <!--/--> | mass_400 | mass_500 | mass_600 | mass_700 | mass_800 |\n",
       "|---|---|---|---|---|---|\n",
       "| 16 | 0.04669856  | 0.04908409  | 0.000933000 | 0.012035066 | 0.013508859 |\n",
       "| 17 | 0.05407460  | 0.07636061  | 0.000662000 | 0.034576449 | 0.007365232 |\n",
       "| 18 | 0.02467317  | 0.02701181  | 0.000416000 | 0.003147407 | 0.000313457 |\n",
       "| 19 | 0.02047675  | 0.02690000  | 0.000715000 | 0.025465232 | 0.022815355 |\n",
       "| 20 | 0.05055667  | 0.06382728  | 0.000854813 | 0.028639445 | 0.020467843 |\n",
       "| 26 | 0.03356458  | 0.03920000  | 0.000785318 | 0.013500000 | 0.001570132 |\n",
       "| 27 | 0.03413707  | 0.03160000  | 0.000947276 | 0.006800000 | 0.003040254 |\n",
       "| 28 | 0.04366574  | 0.06505073  | 0.001529953 | 0.021932445 | 0.013205718 |\n",
       "| 29 | 0.04570138  | 0.05828960  | 0.001008407 | 0.012382975 | 0.014013995 |\n",
       "| 30 | 0.03140283  | 0.03250000  | 0.000934736 | 0.008034025 | 0.005570937 |\n",
       "| 31 | 0.02367722  | 0.03227053  | 0.000845291 | 0.024808733 | 0.017886095 |\n",
       "| 32 | 0.03314695  | 0.02477444  | 0.000508416 | 0.006772067 | 0.004919932 |\n",
       "| 33 | 0.02021587  | 0.02630953  | 0.000437000 | 0.016000000 | 0.012272432 |\n",
       "| 34 | 0.02046798  | 0.02614886  | 0.000716634 | 0.008185778 | 0.005800175 |\n",
       "| 35 | 0.02977158  | 0.03046579  | 0.000477000 | 0.008640208 | 0.002907744 |\n",
       "| 41 | 0.04125105  | 0.04670923  | 0.001007273 | 0.018825742 | 0.006132921 |\n",
       "| 42 | 0.03284682  | 0.04618436  | 0.001012795 | 0.004660000 | 0.002972458 |\n",
       "| 43 | 0.02873381  | 0.02989445  | 0.000828000 | 0.009280030 | 0.007344513 |\n",
       "| 44 | 0.04214344  | 0.06117212  | 0.000939877 | 0.037357285 | 0.003534113 |\n",
       "| 45 | 0.07101754  | 0.06982925  | 0.000758873 | 0.013067192 | 0.004763751 |\n",
       "| 46 | 0.05801549  | 0.05570844  | 0.000765283 | 0.008750499 | 0.001449073 |\n",
       "| 47 | 0.04835515  | 0.05360000  | 0.001097576 | 0.004082002 | 0.002340524 |\n",
       "| 48 | 0.03144607  | 0.03210494  | 0.000808940 | 0.017815617 | 0.011696208 |\n",
       "| 49 | 0.02899131  | 0.03253160  | 0.000706669 | 0.005969374 | 0.005093265 |\n",
       "| 50 | 0.04328778  | 0.04780000  | 0.000622025 | 0.004743727 | 0.000196872 |\n",
       "| 56 | 0.03248441  | 0.03900000  | 0.000894367 | 0.003626424 | 0.003835575 |\n",
       "| 57 | 0.01795440  | 0.02340000  | 0.000709538 | 0.003209255 | 0.001531619 |\n",
       "| 58 | 0.05113216  | 0.04025805  | 0.000157385 | 0.004446196 | 0.000087900 |\n",
       "| 59 | 0.04091378  | 0.03216801  | 0.000617413 | 0.002379165 | 0.000202050 |\n",
       "| 60 | 0.02436086  | 0.03014325  | 0.000399431 | 0.009090365 | 0.003764574 |\n",
       "\n"
      ],
      "text/plain": [
       "   mass_400   mass_500   mass_600    mass_700    mass_800   \n",
       "16 0.04669856 0.04908409 0.000933000 0.012035066 0.013508859\n",
       "17 0.05407460 0.07636061 0.000662000 0.034576449 0.007365232\n",
       "18 0.02467317 0.02701181 0.000416000 0.003147407 0.000313457\n",
       "19 0.02047675 0.02690000 0.000715000 0.025465232 0.022815355\n",
       "20 0.05055667 0.06382728 0.000854813 0.028639445 0.020467843\n",
       "26 0.03356458 0.03920000 0.000785318 0.013500000 0.001570132\n",
       "27 0.03413707 0.03160000 0.000947276 0.006800000 0.003040254\n",
       "28 0.04366574 0.06505073 0.001529953 0.021932445 0.013205718\n",
       "29 0.04570138 0.05828960 0.001008407 0.012382975 0.014013995\n",
       "30 0.03140283 0.03250000 0.000934736 0.008034025 0.005570937\n",
       "31 0.02367722 0.03227053 0.000845291 0.024808733 0.017886095\n",
       "32 0.03314695 0.02477444 0.000508416 0.006772067 0.004919932\n",
       "33 0.02021587 0.02630953 0.000437000 0.016000000 0.012272432\n",
       "34 0.02046798 0.02614886 0.000716634 0.008185778 0.005800175\n",
       "35 0.02977158 0.03046579 0.000477000 0.008640208 0.002907744\n",
       "41 0.04125105 0.04670923 0.001007273 0.018825742 0.006132921\n",
       "42 0.03284682 0.04618436 0.001012795 0.004660000 0.002972458\n",
       "43 0.02873381 0.02989445 0.000828000 0.009280030 0.007344513\n",
       "44 0.04214344 0.06117212 0.000939877 0.037357285 0.003534113\n",
       "45 0.07101754 0.06982925 0.000758873 0.013067192 0.004763751\n",
       "46 0.05801549 0.05570844 0.000765283 0.008750499 0.001449073\n",
       "47 0.04835515 0.05360000 0.001097576 0.004082002 0.002340524\n",
       "48 0.03144607 0.03210494 0.000808940 0.017815617 0.011696208\n",
       "49 0.02899131 0.03253160 0.000706669 0.005969374 0.005093265\n",
       "50 0.04328778 0.04780000 0.000622025 0.004743727 0.000196872\n",
       "56 0.03248441 0.03900000 0.000894367 0.003626424 0.003835575\n",
       "57 0.01795440 0.02340000 0.000709538 0.003209255 0.001531619\n",
       "58 0.05113216 0.04025805 0.000157385 0.004446196 0.000087900\n",
       "59 0.04091378 0.03216801 0.000617413 0.002379165 0.000202050\n",
       "60 0.02436086 0.03014325 0.000399431 0.009090365 0.003764574"
      ]
     },
     "metadata": {},
     "output_type": "display_data"
    },
    {
     "data": {
      "text/html": [
       "<table>\n",
       "<thead><tr><th></th><th scope=col>filename</th><th scope=col>MouseID</th><th scope=col>Treatmentgroup</th><th scope=col>DPI</th><th scope=col>organ</th><th scope=col>well_position</th><th scope=col>plate</th><th scope=col>mass_400</th><th scope=col>mass_500</th><th scope=col>mass_600</th><th scope=col>mass_700</th><th scope=col>mass_800</th></tr></thead>\n",
       "<tbody>\n",
       "\t<tr><th scope=row>16</th><td>X581_Group3E_142dpi_RA_176_G_B4_P124.mzXML</td><td>581                                       </td><td>infected                                  </td><td>142dpi                                    </td><td>RA                                        </td><td>B4                                        </td><td>P124                                      </td><td>0.04669856                                </td><td>0.04908409                                </td><td>0.000933000                               </td><td>0.012035066                               </td><td>0.013508859                               </td></tr>\n",
       "\t<tr><th scope=row>17</th><td>X582_Group3E_142dpi_RA_177_G_B5_P124.mzXML</td><td>582                                       </td><td>infected                                  </td><td>142dpi                                    </td><td>RA                                        </td><td>B5                                        </td><td>P124                                      </td><td>0.05407460                                </td><td>0.07636061                                </td><td>0.000662000                               </td><td>0.034576449                               </td><td>0.007365232                               </td></tr>\n",
       "\t<tr><th scope=row>18</th><td>X583_Group3E_142dpi_RA_178_G_B6_P124.mzXML</td><td>583                                       </td><td>infected                                  </td><td>142dpi                                    </td><td>RA                                        </td><td>B6                                        </td><td>P124                                      </td><td>0.02467317                                </td><td>0.02701181                                </td><td>0.000416000                               </td><td>0.003147407                               </td><td>0.000313457                               </td></tr>\n",
       "\t<tr><th scope=row>19</th><td>X584_Group3E_142dpi_RA_179_G_B7_P124.mzXML</td><td>584                                       </td><td>infected                                  </td><td>142dpi                                    </td><td>RA                                        </td><td>B7                                        </td><td>P124                                      </td><td>0.02047675                                </td><td>0.02690000                                </td><td>0.000715000                               </td><td>0.025465232                               </td><td>0.022815355                               </td></tr>\n",
       "\t<tr><th scope=row>20</th><td>X585_Group3E_142dpi_RA_180_G_B8_P124.mzXML</td><td>585                                       </td><td>infected                                  </td><td>142dpi                                    </td><td>RA                                        </td><td>B8                                        </td><td>P124                                      </td><td>0.05055667                                </td><td>0.06382728                                </td><td>0.000854813                               </td><td>0.028639445                               </td><td>0.020467843                               </td></tr>\n",
       "\t<tr><th scope=row>26</th><td>X631_Group15_142dpi_RA_191_G_C7_P124.mzXML</td><td>631                                       </td><td>BNZ                                       </td><td>142dpi                                    </td><td>RA                                        </td><td>C7                                        </td><td>P124                                      </td><td>0.03356458                                </td><td>0.03920000                                </td><td>0.000785318                               </td><td>0.013500000                               </td><td>0.001570132                               </td></tr>\n",
       "</tbody>\n",
       "</table>\n"
      ],
      "text/latex": [
       "\\begin{tabular}{r|llllllllllll}\n",
       "  & filename & MouseID & Treatmentgroup & DPI & organ & well\\_position & plate & mass\\_400 & mass\\_500 & mass\\_600 & mass\\_700 & mass\\_800\\\\\n",
       "\\hline\n",
       "\t16 & X581\\_Group3E\\_142dpi\\_RA\\_176\\_G\\_B4\\_P124.mzXML & 581                                                      & infected                                                 & 142dpi                                                   & RA                                                       & B4                                                       & P124                                                     & 0.04669856                                               & 0.04908409                                               & 0.000933000                                              & 0.012035066                                              & 0.013508859                                             \\\\\n",
       "\t17 & X582\\_Group3E\\_142dpi\\_RA\\_177\\_G\\_B5\\_P124.mzXML & 582                                                      & infected                                                 & 142dpi                                                   & RA                                                       & B5                                                       & P124                                                     & 0.05407460                                               & 0.07636061                                               & 0.000662000                                              & 0.034576449                                              & 0.007365232                                             \\\\\n",
       "\t18 & X583\\_Group3E\\_142dpi\\_RA\\_178\\_G\\_B6\\_P124.mzXML & 583                                                      & infected                                                 & 142dpi                                                   & RA                                                       & B6                                                       & P124                                                     & 0.02467317                                               & 0.02701181                                               & 0.000416000                                              & 0.003147407                                              & 0.000313457                                             \\\\\n",
       "\t19 & X584\\_Group3E\\_142dpi\\_RA\\_179\\_G\\_B7\\_P124.mzXML & 584                                                      & infected                                                 & 142dpi                                                   & RA                                                       & B7                                                       & P124                                                     & 0.02047675                                               & 0.02690000                                               & 0.000715000                                              & 0.025465232                                              & 0.022815355                                             \\\\\n",
       "\t20 & X585\\_Group3E\\_142dpi\\_RA\\_180\\_G\\_B8\\_P124.mzXML & 585                                                      & infected                                                 & 142dpi                                                   & RA                                                       & B8                                                       & P124                                                     & 0.05055667                                               & 0.06382728                                               & 0.000854813                                              & 0.028639445                                              & 0.020467843                                             \\\\\n",
       "\t26 & X631\\_Group15\\_142dpi\\_RA\\_191\\_G\\_C7\\_P124.mzXML & 631                                                      & BNZ                                                      & 142dpi                                                   & RA                                                       & C7                                                       & P124                                                     & 0.03356458                                               & 0.03920000                                               & 0.000785318                                              & 0.013500000                                              & 0.001570132                                             \\\\\n",
       "\\end{tabular}\n"
      ],
      "text/markdown": [
       "\n",
       "| <!--/--> | filename | MouseID | Treatmentgroup | DPI | organ | well_position | plate | mass_400 | mass_500 | mass_600 | mass_700 | mass_800 |\n",
       "|---|---|---|---|---|---|---|---|---|---|---|---|---|\n",
       "| 16 | X581_Group3E_142dpi_RA_176_G_B4_P124.mzXML | 581                                        | infected                                   | 142dpi                                     | RA                                         | B4                                         | P124                                       | 0.04669856                                 | 0.04908409                                 | 0.000933000                                | 0.012035066                                | 0.013508859                                |\n",
       "| 17 | X582_Group3E_142dpi_RA_177_G_B5_P124.mzXML | 582                                        | infected                                   | 142dpi                                     | RA                                         | B5                                         | P124                                       | 0.05407460                                 | 0.07636061                                 | 0.000662000                                | 0.034576449                                | 0.007365232                                |\n",
       "| 18 | X583_Group3E_142dpi_RA_178_G_B6_P124.mzXML | 583                                        | infected                                   | 142dpi                                     | RA                                         | B6                                         | P124                                       | 0.02467317                                 | 0.02701181                                 | 0.000416000                                | 0.003147407                                | 0.000313457                                |\n",
       "| 19 | X584_Group3E_142dpi_RA_179_G_B7_P124.mzXML | 584                                        | infected                                   | 142dpi                                     | RA                                         | B7                                         | P124                                       | 0.02047675                                 | 0.02690000                                 | 0.000715000                                | 0.025465232                                | 0.022815355                                |\n",
       "| 20 | X585_Group3E_142dpi_RA_180_G_B8_P124.mzXML | 585                                        | infected                                   | 142dpi                                     | RA                                         | B8                                         | P124                                       | 0.05055667                                 | 0.06382728                                 | 0.000854813                                | 0.028639445                                | 0.020467843                                |\n",
       "| 26 | X631_Group15_142dpi_RA_191_G_C7_P124.mzXML | 631                                        | BNZ                                        | 142dpi                                     | RA                                         | C7                                         | P124                                       | 0.03356458                                 | 0.03920000                                 | 0.000785318                                | 0.013500000                                | 0.001570132                                |\n",
       "\n"
      ],
      "text/plain": [
       "   filename                                   MouseID Treatmentgroup DPI   \n",
       "16 X581_Group3E_142dpi_RA_176_G_B4_P124.mzXML 581     infected       142dpi\n",
       "17 X582_Group3E_142dpi_RA_177_G_B5_P124.mzXML 582     infected       142dpi\n",
       "18 X583_Group3E_142dpi_RA_178_G_B6_P124.mzXML 583     infected       142dpi\n",
       "19 X584_Group3E_142dpi_RA_179_G_B7_P124.mzXML 584     infected       142dpi\n",
       "20 X585_Group3E_142dpi_RA_180_G_B8_P124.mzXML 585     infected       142dpi\n",
       "26 X631_Group15_142dpi_RA_191_G_C7_P124.mzXML 631     BNZ            142dpi\n",
       "   organ well_position plate mass_400   mass_500   mass_600    mass_700   \n",
       "16 RA    B4            P124  0.04669856 0.04908409 0.000933000 0.012035066\n",
       "17 RA    B5            P124  0.05407460 0.07636061 0.000662000 0.034576449\n",
       "18 RA    B6            P124  0.02467317 0.02701181 0.000416000 0.003147407\n",
       "19 RA    B7            P124  0.02047675 0.02690000 0.000715000 0.025465232\n",
       "20 RA    B8            P124  0.05055667 0.06382728 0.000854813 0.028639445\n",
       "26 RA    C7            P124  0.03356458 0.03920000 0.000785318 0.013500000\n",
       "   mass_800   \n",
       "16 0.013508859\n",
       "17 0.007365232\n",
       "18 0.000313457\n",
       "19 0.022815355\n",
       "20 0.020467843\n",
       "26 0.001570132"
      ]
     },
     "metadata": {},
     "output_type": "display_data"
    },
    {
     "data": {
      "text/html": [
       "<ol class=list-inline>\n",
       "\t<li>30</li>\n",
       "\t<li>12</li>\n",
       "</ol>\n"
      ],
      "text/latex": [
       "\\begin{enumerate*}\n",
       "\\item 30\n",
       "\\item 12\n",
       "\\end{enumerate*}\n"
      ],
      "text/markdown": [
       "1. 30\n",
       "2. 12\n",
       "\n",
       "\n"
      ],
      "text/plain": [
       "[1] 30 12"
      ]
     },
     "metadata": {},
     "output_type": "display_data"
    },
    {
     "data": {
      "text/html": [
       "<ol class=list-inline>\n",
       "\t<li>30</li>\n",
       "\t<li>5</li>\n",
       "</ol>\n"
      ],
      "text/latex": [
       "\\begin{enumerate*}\n",
       "\\item 30\n",
       "\\item 5\n",
       "\\end{enumerate*}\n"
      ],
      "text/markdown": [
       "1. 30\n",
       "2. 5\n",
       "\n",
       "\n"
      ],
      "text/plain": [
       "[1] 30  5"
      ]
     },
     "metadata": {},
     "output_type": "display_data"
    },
    {
     "data": {
      "text/html": [
       "<ol class=list-inline>\n",
       "\t<li>30</li>\n",
       "\t<li>5</li>\n",
       "</ol>\n"
      ],
      "text/latex": [
       "\\begin{enumerate*}\n",
       "\\item 30\n",
       "\\item 5\n",
       "\\end{enumerate*}\n"
      ],
      "text/markdown": [
       "1. 30\n",
       "2. 5\n",
       "\n",
       "\n"
      ],
      "text/plain": [
       "[1] 30  5"
      ]
     },
     "metadata": {},
     "output_type": "display_data"
    },
    {
     "data": {
      "text/html": [
       "<ol class=list-inline>\n",
       "\t<li>30</li>\n",
       "\t<li>12</li>\n",
       "</ol>\n"
      ],
      "text/latex": [
       "\\begin{enumerate*}\n",
       "\\item 30\n",
       "\\item 12\n",
       "\\end{enumerate*}\n"
      ],
      "text/markdown": [
       "1. 30\n",
       "2. 12\n",
       "\n",
       "\n"
      ],
      "text/plain": [
       "[1] 30 12"
      ]
     },
     "metadata": {},
     "output_type": "display_data"
    }
   ],
   "source": [
    "noMeta<-features_pos[,8:12]\n",
    "head(noMeta)\n",
    "not_zero<-which(colSums(noMeta) != 0)\n",
    "head(not_zero)\n",
    "nonzero <- noMeta[, not_zero]\n",
    "nonzero\n",
    "nonzero_wMeta<-cbind(features_pos[,1:7], nonzero)\n",
    "head(nonzero_wMeta)\n",
    "dim(features_pos)\n",
    "dim(noMeta)\n",
    "dim(nonzero)\n",
    "dim(nonzero_wMeta)"
   ]
  },
  {
   "cell_type": "code",
   "execution_count": 5,
   "metadata": {
    "scrolled": true
   },
   "outputs": [
    {
     "data": {
      "text/html": [
       "<ol class=list-inline>\n",
       "\t<li>0.623594278712037</li>\n",
       "\t<li>0.486364763954452</li>\n",
       "\t<li>0.0975257598239064</li>\n",
       "\t<li>0.512486352283095</li>\n",
       "\t<li>0.232811909318818</li>\n",
       "</ol>\n"
      ],
      "text/latex": [
       "\\begin{enumerate*}\n",
       "\\item 0.623594278712037\n",
       "\\item 0.486364763954452\n",
       "\\item 0.0975257598239064\n",
       "\\item 0.512486352283095\n",
       "\\item 0.232811909318818\n",
       "\\end{enumerate*}\n"
      ],
      "text/markdown": [
       "1. 0.623594278712037\n",
       "2. 0.486364763954452\n",
       "3. 0.0975257598239064\n",
       "4. 0.512486352283095\n",
       "5. 0.232811909318818\n",
       "\n",
       "\n"
      ],
      "text/plain": [
       "[1] 0.62359428 0.48636476 0.09752576 0.51248635 0.23281191"
      ]
     },
     "metadata": {},
     "output_type": "display_data"
    },
    {
     "data": {
      "text/html": [
       "<ol class=list-inline>\n",
       "\t<li>0.623594278712037</li>\n",
       "\t<li>0.623594278712037</li>\n",
       "\t<li>0.487628799119532</li>\n",
       "\t<li>0.623594278712037</li>\n",
       "\t<li>0.582029773297046</li>\n",
       "</ol>\n"
      ],
      "text/latex": [
       "\\begin{enumerate*}\n",
       "\\item 0.623594278712037\n",
       "\\item 0.623594278712037\n",
       "\\item 0.487628799119532\n",
       "\\item 0.623594278712037\n",
       "\\item 0.582029773297046\n",
       "\\end{enumerate*}\n"
      ],
      "text/markdown": [
       "1. 0.623594278712037\n",
       "2. 0.623594278712037\n",
       "3. 0.487628799119532\n",
       "4. 0.623594278712037\n",
       "5. 0.582029773297046\n",
       "\n",
       "\n"
      ],
      "text/plain": [
       "[1] 0.6235943 0.6235943 0.4876288 0.6235943 0.5820298"
      ]
     },
     "metadata": {},
     "output_type": "display_data"
    }
   ],
   "source": [
    "pval<-c()\n",
    "\n",
    "for (i in 8:ncol(nonzero_wMeta)) \n",
    "pval<-c(pval,wilcox.test(nonzero_wMeta[,i]~nonzero_wMeta$Treatmentgroup)$p.value)\n",
    "head(pval) \n",
    "pAdj <- p.adjust(pval, method = c(\"fdr\"), n=length(pval)) \n",
    "head(pAdj) \n",
    "\n"
   ]
  },
  {
   "cell_type": "code",
   "execution_count": 6,
   "metadata": {
    "scrolled": true
   },
   "outputs": [
    {
     "data": {
      "text/html": [
       "5"
      ],
      "text/latex": [
       "5"
      ],
      "text/markdown": [
       "5"
      ],
      "text/plain": [
       "[1] 5"
      ]
     },
     "metadata": {},
     "output_type": "display_data"
    }
   ],
   "source": [
    "length(pval)"
   ]
  },
  {
   "cell_type": "code",
   "execution_count": 7,
   "metadata": {
    "scrolled": true
   },
   "outputs": [
    {
     "data": {
      "text/html": [
       "5"
      ],
      "text/latex": [
       "5"
      ],
      "text/markdown": [
       "5"
      ],
      "text/plain": [
       "[1] 5"
      ]
     },
     "metadata": {},
     "output_type": "display_data"
    }
   ],
   "source": [
    "length(pAdj)"
   ]
  },
  {
   "cell_type": "code",
   "execution_count": 8,
   "metadata": {},
   "outputs": [
    {
     "data": {
      "text/html": [
       "<ol class=list-inline>\n",
       "\t<li>2</li>\n",
       "\t<li>5</li>\n",
       "</ol>\n"
      ],
      "text/latex": [
       "\\begin{enumerate*}\n",
       "\\item 2\n",
       "\\item 5\n",
       "\\end{enumerate*}\n"
      ],
      "text/markdown": [
       "1. 2\n",
       "2. 5\n",
       "\n",
       "\n"
      ],
      "text/plain": [
       "[1] 2 5"
      ]
     },
     "metadata": {},
     "output_type": "display_data"
    },
    {
     "data": {
      "text/html": [
       "<table>\n",
       "<thead><tr><th></th><th scope=col>mass_400</th><th scope=col>mass_500</th><th scope=col>mass_600</th></tr></thead>\n",
       "<tbody>\n",
       "\t<tr><th scope=row>BNZ</th><td>0.03808732  </td><td>0.04302660  </td><td>0.0008353761</td></tr>\n",
       "\t<tr><th scope=row>infected</th><td>0.03559034  </td><td>0.04032653  </td><td>0.0007043765</td></tr>\n",
       "</tbody>\n",
       "</table>\n"
      ],
      "text/latex": [
       "\\begin{tabular}{r|lll}\n",
       "  & mass\\_400 & mass\\_500 & mass\\_600\\\\\n",
       "\\hline\n",
       "\tBNZ & 0.03808732   & 0.04302660   & 0.0008353761\\\\\n",
       "\tinfected & 0.03559034   & 0.04032653   & 0.0007043765\\\\\n",
       "\\end{tabular}\n"
      ],
      "text/markdown": [
       "\n",
       "| <!--/--> | mass_400 | mass_500 | mass_600 |\n",
       "|---|---|---|---|\n",
       "| BNZ | 0.03808732   | 0.04302660   | 0.0008353761 |\n",
       "| infected | 0.03559034   | 0.04032653   | 0.0007043765 |\n",
       "\n"
      ],
      "text/plain": [
       "         mass_400   mass_500   mass_600    \n",
       "BNZ      0.03808732 0.04302660 0.0008353761\n",
       "infected 0.03559034 0.04032653 0.0007043765"
      ]
     },
     "metadata": {},
     "output_type": "display_data"
    },
    {
     "data": {
      "text/html": [
       "<dl class=dl-horizontal>\n",
       "\t<dt>mass_400</dt>\n",
       "\t\t<dd>1.07015895965383</dd>\n",
       "\t<dt>mass_500</dt>\n",
       "\t\t<dd>1.0669553025798</dd>\n",
       "\t<dt>mass_600</dt>\n",
       "\t\t<dd>1.18597961866415</dd>\n",
       "\t<dt>mass_700</dt>\n",
       "\t\t<dd>0.804225583276079</dd>\n",
       "\t<dt>mass_800</dt>\n",
       "\t\t<dd>0.554667979446447</dd>\n",
       "</dl>\n"
      ],
      "text/latex": [
       "\\begin{description*}\n",
       "\\item[mass\\textbackslash{}\\_400] 1.07015895965383\n",
       "\\item[mass\\textbackslash{}\\_500] 1.0669553025798\n",
       "\\item[mass\\textbackslash{}\\_600] 1.18597961866415\n",
       "\\item[mass\\textbackslash{}\\_700] 0.804225583276079\n",
       "\\item[mass\\textbackslash{}\\_800] 0.554667979446447\n",
       "\\end{description*}\n"
      ],
      "text/markdown": [
       "mass_400\n",
       ":   1.07015895965383mass_500\n",
       ":   1.0669553025798mass_600\n",
       ":   1.18597961866415mass_700\n",
       ":   0.804225583276079mass_800\n",
       ":   0.554667979446447\n",
       "\n"
      ],
      "text/plain": [
       " mass_400  mass_500  mass_600  mass_700  mass_800 \n",
       "1.0701590 1.0669553 1.1859796 0.8042256 0.5546680 "
      ]
     },
     "metadata": {},
     "output_type": "display_data"
    },
    {
     "data": {
      "text/html": [
       "<ol class=list-inline>\n",
       "\t<li>'numeric'</li>\n",
       "\t<li>'vector'</li>\n",
       "</ol>\n"
      ],
      "text/latex": [
       "\\begin{enumerate*}\n",
       "\\item 'numeric'\n",
       "\\item 'vector'\n",
       "\\end{enumerate*}\n"
      ],
      "text/markdown": [
       "1. 'numeric'\n",
       "2. 'vector'\n",
       "\n",
       "\n"
      ],
      "text/plain": [
       "[1] \"numeric\" \"vector\" "
      ]
     },
     "metadata": {},
     "output_type": "display_data"
    }
   ],
   "source": [
    "avg<- apply(nonzero_wMeta[,8:ncol(nonzero_wMeta)], 2, function(x) tapply(x, nonzero_wMeta$Treatmentgroup, function(x) mean(x))) \n",
    "\n",
    "dim(avg) \n",
    "\n",
    "avg[,1:3]\n",
    "\n",
    "fch <- apply(avg, 2, function(x) x[1]/x[2])\n",
    "\n",
    "head(fch) \n",
    "is(fch)"
   ]
  },
  {
   "cell_type": "code",
   "execution_count": 9,
   "metadata": {
    "scrolled": true
   },
   "outputs": [
    {
     "data": {
      "text/html": [
       "<dl class=dl-horizontal>\n",
       "\t<dt>mass_400</dt>\n",
       "\t\t<dd>1.07015895965383</dd>\n",
       "\t<dt>mass_500</dt>\n",
       "\t\t<dd>1.0669553025798</dd>\n",
       "\t<dt>mass_600</dt>\n",
       "\t\t<dd>1.18597961866415</dd>\n",
       "\t<dt>mass_700</dt>\n",
       "\t\t<dd>0.804225583276079</dd>\n",
       "\t<dt>mass_800</dt>\n",
       "\t\t<dd>0.554667979446447</dd>\n",
       "</dl>\n"
      ],
      "text/latex": [
       "\\begin{description*}\n",
       "\\item[mass\\textbackslash{}\\_400] 1.07015895965383\n",
       "\\item[mass\\textbackslash{}\\_500] 1.0669553025798\n",
       "\\item[mass\\textbackslash{}\\_600] 1.18597961866415\n",
       "\\item[mass\\textbackslash{}\\_700] 0.804225583276079\n",
       "\\item[mass\\textbackslash{}\\_800] 0.554667979446447\n",
       "\\end{description*}\n"
      ],
      "text/markdown": [
       "mass_400\n",
       ":   1.07015895965383mass_500\n",
       ":   1.0669553025798mass_600\n",
       ":   1.18597961866415mass_700\n",
       ":   0.804225583276079mass_800\n",
       ":   0.554667979446447\n",
       "\n"
      ],
      "text/plain": [
       " mass_400  mass_500  mass_600  mass_700  mass_800 \n",
       "1.0701590 1.0669553 1.1859796 0.8042256 0.5546680 "
      ]
     },
     "metadata": {},
     "output_type": "display_data"
    }
   ],
   "source": [
    "fch"
   ]
  },
  {
   "cell_type": "code",
   "execution_count": 10,
   "metadata": {
    "scrolled": false
   },
   "outputs": [],
   "source": [
    "df <- data.frame(fch,pval, pAdj)\n",
    "write.csv(df, \"PC-treat-RA-wilcox-infected-BNZ.csv\")"
   ]
  },
  {
   "cell_type": "code",
   "execution_count": null,
   "metadata": {},
   "outputs": [],
   "source": []
  },
  {
   "cell_type": "code",
   "execution_count": null,
   "metadata": {},
   "outputs": [],
   "source": []
  },
  {
   "cell_type": "code",
   "execution_count": null,
   "metadata": {},
   "outputs": [],
   "source": []
  },
  {
   "cell_type": "code",
   "execution_count": null,
   "metadata": {},
   "outputs": [],
   "source": []
  },
  {
   "cell_type": "code",
   "execution_count": null,
   "metadata": {},
   "outputs": [],
   "source": []
  },
  {
   "cell_type": "code",
   "execution_count": null,
   "metadata": {},
   "outputs": [],
   "source": []
  }
 ],
 "metadata": {
  "kernelspec": {
   "display_name": "R",
   "language": "R",
   "name": "ir"
  },
  "language_info": {
   "codemirror_mode": "r",
   "file_extension": ".r",
   "mimetype": "text/x-r-source",
   "name": "R",
   "pygments_lexer": "r",
   "version": "3.6.1"
  }
 },
 "nbformat": 4,
 "nbformat_minor": 2
}
