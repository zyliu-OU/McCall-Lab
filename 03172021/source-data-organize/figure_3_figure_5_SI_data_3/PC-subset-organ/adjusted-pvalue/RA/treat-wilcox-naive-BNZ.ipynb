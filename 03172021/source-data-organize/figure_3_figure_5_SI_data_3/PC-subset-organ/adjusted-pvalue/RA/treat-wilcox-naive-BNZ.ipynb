{
 "cells": [
  {
   "cell_type": "code",
   "execution_count": 1,
   "metadata": {},
   "outputs": [],
   "source": [
    "a <- read.csv(\"03172021-PC-treatment-RA-M-F.csv\")"
   ]
  },
  {
   "cell_type": "code",
   "execution_count": 2,
   "metadata": {},
   "outputs": [
    {
     "data": {
      "text/html": [
       "<table>\n",
       "<thead><tr><th scope=col>filename</th><th scope=col>MouseID</th><th scope=col>Treatmentgroup</th><th scope=col>DPI</th><th scope=col>organ</th><th scope=col>well_position</th><th scope=col>plate</th><th scope=col>mass_400</th><th scope=col>mass_500</th><th scope=col>mass_600</th><th scope=col>mass_700</th><th scope=col>mass_800</th></tr></thead>\n",
       "<tbody>\n",
       "\t<tr><td>X511_Group1C_142dpi_RA_161_G_A1_P124.mzXML</td><td>511                                       </td><td>naive                                     </td><td>142dpi                                    </td><td>RA                                        </td><td>A1                                        </td><td>P124                                      </td><td>0.01994283                                </td><td>0.02502781                                </td><td>0.000415632                               </td><td>0.005854332                               </td><td>0.003647412                               </td></tr>\n",
       "\t<tr><td>X512_Group1C_142dpi_RA_162_G_A2_P124.mzXML</td><td>512                                       </td><td>naive                                     </td><td>142dpi                                    </td><td>RA                                        </td><td>A2                                        </td><td>P124                                      </td><td>0.03626993                                </td><td>0.04240000                                </td><td>0.000906489                               </td><td>0.011036420                               </td><td>0.003723513                               </td></tr>\n",
       "\t<tr><td>X513_Group1C_142dpi_RA_163_G_A3_P124.mzXML</td><td>513                                       </td><td>naive                                     </td><td>142dpi                                    </td><td>RA                                        </td><td>A3                                        </td><td>P124                                      </td><td>0.03151262                                </td><td>0.05470000                                </td><td>0.001419182                               </td><td>0.025528456                               </td><td>0.020909886                               </td></tr>\n",
       "\t<tr><td>X514_Group1C_142dpi_RA_164_G_A4_P124.mzXML</td><td>514                                       </td><td>naive                                     </td><td>142dpi                                    </td><td>RA                                        </td><td>A4                                        </td><td>P124                                      </td><td>0.03428018                                </td><td>0.03961443                                </td><td>0.000910830                               </td><td>0.003097366                               </td><td>0.005380550                               </td></tr>\n",
       "\t<tr><td>X515_Group1C_142dpi_RA_165_G_A5_P124.mzXML</td><td>515                                       </td><td>naive                                     </td><td>142dpi                                    </td><td>RA                                        </td><td>A5                                        </td><td>P124                                      </td><td>0.02349768                                </td><td>0.02730000                                </td><td>0.001071729                               </td><td>0.004059030                               </td><td>0.002179902                               </td></tr>\n",
       "\t<tr><td>X531_Group1C_142dpi_RA_166_G_A6_P124.mzXML</td><td>531                                       </td><td>naive                                     </td><td>142dpi                                    </td><td>RA                                        </td><td>A6                                        </td><td>P124                                      </td><td>0.02585822                                </td><td>0.03340000                                </td><td>0.000938300                               </td><td>0.012900000                               </td><td>0.007982976                               </td></tr>\n",
       "</tbody>\n",
       "</table>\n"
      ],
      "text/latex": [
       "\\begin{tabular}{r|llllllllllll}\n",
       " filename & MouseID & Treatmentgroup & DPI & organ & well\\_position & plate & mass\\_400 & mass\\_500 & mass\\_600 & mass\\_700 & mass\\_800\\\\\n",
       "\\hline\n",
       "\t X511\\_Group1C\\_142dpi\\_RA\\_161\\_G\\_A1\\_P124.mzXML & 511                                                      & naive                                                    & 142dpi                                                   & RA                                                       & A1                                                       & P124                                                     & 0.01994283                                               & 0.02502781                                               & 0.000415632                                              & 0.005854332                                              & 0.003647412                                             \\\\\n",
       "\t X512\\_Group1C\\_142dpi\\_RA\\_162\\_G\\_A2\\_P124.mzXML & 512                                                      & naive                                                    & 142dpi                                                   & RA                                                       & A2                                                       & P124                                                     & 0.03626993                                               & 0.04240000                                               & 0.000906489                                              & 0.011036420                                              & 0.003723513                                             \\\\\n",
       "\t X513\\_Group1C\\_142dpi\\_RA\\_163\\_G\\_A3\\_P124.mzXML & 513                                                      & naive                                                    & 142dpi                                                   & RA                                                       & A3                                                       & P124                                                     & 0.03151262                                               & 0.05470000                                               & 0.001419182                                              & 0.025528456                                              & 0.020909886                                             \\\\\n",
       "\t X514\\_Group1C\\_142dpi\\_RA\\_164\\_G\\_A4\\_P124.mzXML & 514                                                      & naive                                                    & 142dpi                                                   & RA                                                       & A4                                                       & P124                                                     & 0.03428018                                               & 0.03961443                                               & 0.000910830                                              & 0.003097366                                              & 0.005380550                                             \\\\\n",
       "\t X515\\_Group1C\\_142dpi\\_RA\\_165\\_G\\_A5\\_P124.mzXML & 515                                                      & naive                                                    & 142dpi                                                   & RA                                                       & A5                                                       & P124                                                     & 0.02349768                                               & 0.02730000                                               & 0.001071729                                              & 0.004059030                                              & 0.002179902                                             \\\\\n",
       "\t X531\\_Group1C\\_142dpi\\_RA\\_166\\_G\\_A6\\_P124.mzXML & 531                                                      & naive                                                    & 142dpi                                                   & RA                                                       & A6                                                       & P124                                                     & 0.02585822                                               & 0.03340000                                               & 0.000938300                                              & 0.012900000                                              & 0.007982976                                             \\\\\n",
       "\\end{tabular}\n"
      ],
      "text/markdown": [
       "\n",
       "| filename | MouseID | Treatmentgroup | DPI | organ | well_position | plate | mass_400 | mass_500 | mass_600 | mass_700 | mass_800 |\n",
       "|---|---|---|---|---|---|---|---|---|---|---|---|\n",
       "| X511_Group1C_142dpi_RA_161_G_A1_P124.mzXML | 511                                        | naive                                      | 142dpi                                     | RA                                         | A1                                         | P124                                       | 0.01994283                                 | 0.02502781                                 | 0.000415632                                | 0.005854332                                | 0.003647412                                |\n",
       "| X512_Group1C_142dpi_RA_162_G_A2_P124.mzXML | 512                                        | naive                                      | 142dpi                                     | RA                                         | A2                                         | P124                                       | 0.03626993                                 | 0.04240000                                 | 0.000906489                                | 0.011036420                                | 0.003723513                                |\n",
       "| X513_Group1C_142dpi_RA_163_G_A3_P124.mzXML | 513                                        | naive                                      | 142dpi                                     | RA                                         | A3                                         | P124                                       | 0.03151262                                 | 0.05470000                                 | 0.001419182                                | 0.025528456                                | 0.020909886                                |\n",
       "| X514_Group1C_142dpi_RA_164_G_A4_P124.mzXML | 514                                        | naive                                      | 142dpi                                     | RA                                         | A4                                         | P124                                       | 0.03428018                                 | 0.03961443                                 | 0.000910830                                | 0.003097366                                | 0.005380550                                |\n",
       "| X515_Group1C_142dpi_RA_165_G_A5_P124.mzXML | 515                                        | naive                                      | 142dpi                                     | RA                                         | A5                                         | P124                                       | 0.02349768                                 | 0.02730000                                 | 0.001071729                                | 0.004059030                                | 0.002179902                                |\n",
       "| X531_Group1C_142dpi_RA_166_G_A6_P124.mzXML | 531                                        | naive                                      | 142dpi                                     | RA                                         | A6                                         | P124                                       | 0.02585822                                 | 0.03340000                                 | 0.000938300                                | 0.012900000                                | 0.007982976                                |\n",
       "\n"
      ],
      "text/plain": [
       "  filename                                   MouseID Treatmentgroup DPI   \n",
       "1 X511_Group1C_142dpi_RA_161_G_A1_P124.mzXML 511     naive          142dpi\n",
       "2 X512_Group1C_142dpi_RA_162_G_A2_P124.mzXML 512     naive          142dpi\n",
       "3 X513_Group1C_142dpi_RA_163_G_A3_P124.mzXML 513     naive          142dpi\n",
       "4 X514_Group1C_142dpi_RA_164_G_A4_P124.mzXML 514     naive          142dpi\n",
       "5 X515_Group1C_142dpi_RA_165_G_A5_P124.mzXML 515     naive          142dpi\n",
       "6 X531_Group1C_142dpi_RA_166_G_A6_P124.mzXML 531     naive          142dpi\n",
       "  organ well_position plate mass_400   mass_500   mass_600    mass_700   \n",
       "1 RA    A1            P124  0.01994283 0.02502781 0.000415632 0.005854332\n",
       "2 RA    A2            P124  0.03626993 0.04240000 0.000906489 0.011036420\n",
       "3 RA    A3            P124  0.03151262 0.05470000 0.001419182 0.025528456\n",
       "4 RA    A4            P124  0.03428018 0.03961443 0.000910830 0.003097366\n",
       "5 RA    A5            P124  0.02349768 0.02730000 0.001071729 0.004059030\n",
       "6 RA    A6            P124  0.02585822 0.03340000 0.000938300 0.012900000\n",
       "  mass_800   \n",
       "1 0.003647412\n",
       "2 0.003723513\n",
       "3 0.020909886\n",
       "4 0.005380550\n",
       "5 0.002179902\n",
       "6 0.007982976"
      ]
     },
     "metadata": {},
     "output_type": "display_data"
    },
    {
     "data": {
      "text/html": [
       "<ol class=list-inline>\n",
       "\t<li>60</li>\n",
       "\t<li>12</li>\n",
       "</ol>\n"
      ],
      "text/latex": [
       "\\begin{enumerate*}\n",
       "\\item 60\n",
       "\\item 12\n",
       "\\end{enumerate*}\n"
      ],
      "text/markdown": [
       "1. 60\n",
       "2. 12\n",
       "\n",
       "\n"
      ],
      "text/plain": [
       "[1] 60 12"
      ]
     },
     "metadata": {},
     "output_type": "display_data"
    }
   ],
   "source": [
    "head(a)\n",
    "dim(a)"
   ]
  },
  {
   "cell_type": "code",
   "execution_count": 3,
   "metadata": {},
   "outputs": [
    {
     "data": {
      "text/html": [
       "<table>\n",
       "<thead><tr><th scope=col>filename</th><th scope=col>MouseID</th><th scope=col>Treatmentgroup</th><th scope=col>DPI</th><th scope=col>organ</th><th scope=col>well_position</th><th scope=col>plate</th><th scope=col>mass_400</th><th scope=col>mass_500</th><th scope=col>mass_600</th><th scope=col>mass_700</th><th scope=col>mass_800</th></tr></thead>\n",
       "<tbody>\n",
       "\t<tr><td>X511_Group1C_142dpi_RA_161_G_A1_P124.mzXML</td><td>511                                       </td><td>naive                                     </td><td>142dpi                                    </td><td>RA                                        </td><td>A1                                        </td><td>P124                                      </td><td>0.01994283                                </td><td>0.02502781                                </td><td>0.000415632                               </td><td>0.005854332                               </td><td>0.003647412                               </td></tr>\n",
       "\t<tr><td>X512_Group1C_142dpi_RA_162_G_A2_P124.mzXML</td><td>512                                       </td><td>naive                                     </td><td>142dpi                                    </td><td>RA                                        </td><td>A2                                        </td><td>P124                                      </td><td>0.03626993                                </td><td>0.04240000                                </td><td>0.000906489                               </td><td>0.011036420                               </td><td>0.003723513                               </td></tr>\n",
       "\t<tr><td>X513_Group1C_142dpi_RA_163_G_A3_P124.mzXML</td><td>513                                       </td><td>naive                                     </td><td>142dpi                                    </td><td>RA                                        </td><td>A3                                        </td><td>P124                                      </td><td>0.03151262                                </td><td>0.05470000                                </td><td>0.001419182                               </td><td>0.025528456                               </td><td>0.020909886                               </td></tr>\n",
       "\t<tr><td>X514_Group1C_142dpi_RA_164_G_A4_P124.mzXML</td><td>514                                       </td><td>naive                                     </td><td>142dpi                                    </td><td>RA                                        </td><td>A4                                        </td><td>P124                                      </td><td>0.03428018                                </td><td>0.03961443                                </td><td>0.000910830                               </td><td>0.003097366                               </td><td>0.005380550                               </td></tr>\n",
       "\t<tr><td>X515_Group1C_142dpi_RA_165_G_A5_P124.mzXML</td><td>515                                       </td><td>naive                                     </td><td>142dpi                                    </td><td>RA                                        </td><td>A5                                        </td><td>P124                                      </td><td>0.02349768                                </td><td>0.02730000                                </td><td>0.001071729                               </td><td>0.004059030                               </td><td>0.002179902                               </td></tr>\n",
       "\t<tr><td>X531_Group1C_142dpi_RA_166_G_A6_P124.mzXML</td><td>531                                       </td><td>naive                                     </td><td>142dpi                                    </td><td>RA                                        </td><td>A6                                        </td><td>P124                                      </td><td>0.02585822                                </td><td>0.03340000                                </td><td>0.000938300                               </td><td>0.012900000                               </td><td>0.007982976                               </td></tr>\n",
       "</tbody>\n",
       "</table>\n"
      ],
      "text/latex": [
       "\\begin{tabular}{r|llllllllllll}\n",
       " filename & MouseID & Treatmentgroup & DPI & organ & well\\_position & plate & mass\\_400 & mass\\_500 & mass\\_600 & mass\\_700 & mass\\_800\\\\\n",
       "\\hline\n",
       "\t X511\\_Group1C\\_142dpi\\_RA\\_161\\_G\\_A1\\_P124.mzXML & 511                                                      & naive                                                    & 142dpi                                                   & RA                                                       & A1                                                       & P124                                                     & 0.01994283                                               & 0.02502781                                               & 0.000415632                                              & 0.005854332                                              & 0.003647412                                             \\\\\n",
       "\t X512\\_Group1C\\_142dpi\\_RA\\_162\\_G\\_A2\\_P124.mzXML & 512                                                      & naive                                                    & 142dpi                                                   & RA                                                       & A2                                                       & P124                                                     & 0.03626993                                               & 0.04240000                                               & 0.000906489                                              & 0.011036420                                              & 0.003723513                                             \\\\\n",
       "\t X513\\_Group1C\\_142dpi\\_RA\\_163\\_G\\_A3\\_P124.mzXML & 513                                                      & naive                                                    & 142dpi                                                   & RA                                                       & A3                                                       & P124                                                     & 0.03151262                                               & 0.05470000                                               & 0.001419182                                              & 0.025528456                                              & 0.020909886                                             \\\\\n",
       "\t X514\\_Group1C\\_142dpi\\_RA\\_164\\_G\\_A4\\_P124.mzXML & 514                                                      & naive                                                    & 142dpi                                                   & RA                                                       & A4                                                       & P124                                                     & 0.03428018                                               & 0.03961443                                               & 0.000910830                                              & 0.003097366                                              & 0.005380550                                             \\\\\n",
       "\t X515\\_Group1C\\_142dpi\\_RA\\_165\\_G\\_A5\\_P124.mzXML & 515                                                      & naive                                                    & 142dpi                                                   & RA                                                       & A5                                                       & P124                                                     & 0.02349768                                               & 0.02730000                                               & 0.001071729                                              & 0.004059030                                              & 0.002179902                                             \\\\\n",
       "\t X531\\_Group1C\\_142dpi\\_RA\\_166\\_G\\_A6\\_P124.mzXML & 531                                                      & naive                                                    & 142dpi                                                   & RA                                                       & A6                                                       & P124                                                     & 0.02585822                                               & 0.03340000                                               & 0.000938300                                              & 0.012900000                                              & 0.007982976                                             \\\\\n",
       "\\end{tabular}\n"
      ],
      "text/markdown": [
       "\n",
       "| filename | MouseID | Treatmentgroup | DPI | organ | well_position | plate | mass_400 | mass_500 | mass_600 | mass_700 | mass_800 |\n",
       "|---|---|---|---|---|---|---|---|---|---|---|---|\n",
       "| X511_Group1C_142dpi_RA_161_G_A1_P124.mzXML | 511                                        | naive                                      | 142dpi                                     | RA                                         | A1                                         | P124                                       | 0.01994283                                 | 0.02502781                                 | 0.000415632                                | 0.005854332                                | 0.003647412                                |\n",
       "| X512_Group1C_142dpi_RA_162_G_A2_P124.mzXML | 512                                        | naive                                      | 142dpi                                     | RA                                         | A2                                         | P124                                       | 0.03626993                                 | 0.04240000                                 | 0.000906489                                | 0.011036420                                | 0.003723513                                |\n",
       "| X513_Group1C_142dpi_RA_163_G_A3_P124.mzXML | 513                                        | naive                                      | 142dpi                                     | RA                                         | A3                                         | P124                                       | 0.03151262                                 | 0.05470000                                 | 0.001419182                                | 0.025528456                                | 0.020909886                                |\n",
       "| X514_Group1C_142dpi_RA_164_G_A4_P124.mzXML | 514                                        | naive                                      | 142dpi                                     | RA                                         | A4                                         | P124                                       | 0.03428018                                 | 0.03961443                                 | 0.000910830                                | 0.003097366                                | 0.005380550                                |\n",
       "| X515_Group1C_142dpi_RA_165_G_A5_P124.mzXML | 515                                        | naive                                      | 142dpi                                     | RA                                         | A5                                         | P124                                       | 0.02349768                                 | 0.02730000                                 | 0.001071729                                | 0.004059030                                | 0.002179902                                |\n",
       "| X531_Group1C_142dpi_RA_166_G_A6_P124.mzXML | 531                                        | naive                                      | 142dpi                                     | RA                                         | A6                                         | P124                                       | 0.02585822                                 | 0.03340000                                 | 0.000938300                                | 0.012900000                                | 0.007982976                                |\n",
       "\n"
      ],
      "text/plain": [
       "  filename                                   MouseID Treatmentgroup DPI   \n",
       "1 X511_Group1C_142dpi_RA_161_G_A1_P124.mzXML 511     naive          142dpi\n",
       "2 X512_Group1C_142dpi_RA_162_G_A2_P124.mzXML 512     naive          142dpi\n",
       "3 X513_Group1C_142dpi_RA_163_G_A3_P124.mzXML 513     naive          142dpi\n",
       "4 X514_Group1C_142dpi_RA_164_G_A4_P124.mzXML 514     naive          142dpi\n",
       "5 X515_Group1C_142dpi_RA_165_G_A5_P124.mzXML 515     naive          142dpi\n",
       "6 X531_Group1C_142dpi_RA_166_G_A6_P124.mzXML 531     naive          142dpi\n",
       "  organ well_position plate mass_400   mass_500   mass_600    mass_700   \n",
       "1 RA    A1            P124  0.01994283 0.02502781 0.000415632 0.005854332\n",
       "2 RA    A2            P124  0.03626993 0.04240000 0.000906489 0.011036420\n",
       "3 RA    A3            P124  0.03151262 0.05470000 0.001419182 0.025528456\n",
       "4 RA    A4            P124  0.03428018 0.03961443 0.000910830 0.003097366\n",
       "5 RA    A5            P124  0.02349768 0.02730000 0.001071729 0.004059030\n",
       "6 RA    A6            P124  0.02585822 0.03340000 0.000938300 0.012900000\n",
       "  mass_800   \n",
       "1 0.003647412\n",
       "2 0.003723513\n",
       "3 0.020909886\n",
       "4 0.005380550\n",
       "5 0.002179902\n",
       "6 0.007982976"
      ]
     },
     "metadata": {},
     "output_type": "display_data"
    },
    {
     "data": {
      "text/html": [
       "<ol class=list-inline>\n",
       "\t<li>30</li>\n",
       "\t<li>12</li>\n",
       "</ol>\n"
      ],
      "text/latex": [
       "\\begin{enumerate*}\n",
       "\\item 30\n",
       "\\item 12\n",
       "\\end{enumerate*}\n"
      ],
      "text/markdown": [
       "1. 30\n",
       "2. 12\n",
       "\n",
       "\n"
      ],
      "text/plain": [
       "[1] 30 12"
      ]
     },
     "metadata": {},
     "output_type": "display_data"
    }
   ],
   "source": [
    "features_pos<-droplevels(subset(a, a$Treatmentgroup==c(\"naive\")|a$Treatmentgroup==c(\"BNZ\")))\n",
    "head(features_pos)\n",
    "dim(features_pos)"
   ]
  },
  {
   "cell_type": "code",
   "execution_count": 4,
   "metadata": {
    "scrolled": false
   },
   "outputs": [
    {
     "data": {
      "text/html": [
       "<table>\n",
       "<thead><tr><th scope=col>mass_400</th><th scope=col>mass_500</th><th scope=col>mass_600</th><th scope=col>mass_700</th><th scope=col>mass_800</th></tr></thead>\n",
       "<tbody>\n",
       "\t<tr><td>0.01994283 </td><td>0.02502781 </td><td>0.000415632</td><td>0.005854332</td><td>0.003647412</td></tr>\n",
       "\t<tr><td>0.03626993 </td><td>0.04240000 </td><td>0.000906489</td><td>0.011036420</td><td>0.003723513</td></tr>\n",
       "\t<tr><td>0.03151262 </td><td>0.05470000 </td><td>0.001419182</td><td>0.025528456</td><td>0.020909886</td></tr>\n",
       "\t<tr><td>0.03428018 </td><td>0.03961443 </td><td>0.000910830</td><td>0.003097366</td><td>0.005380550</td></tr>\n",
       "\t<tr><td>0.02349768 </td><td>0.02730000 </td><td>0.001071729</td><td>0.004059030</td><td>0.002179902</td></tr>\n",
       "\t<tr><td>0.02585822 </td><td>0.03340000 </td><td>0.000938300</td><td>0.012900000</td><td>0.007982976</td></tr>\n",
       "</tbody>\n",
       "</table>\n"
      ],
      "text/latex": [
       "\\begin{tabular}{r|lllll}\n",
       " mass\\_400 & mass\\_500 & mass\\_600 & mass\\_700 & mass\\_800\\\\\n",
       "\\hline\n",
       "\t 0.01994283  & 0.02502781  & 0.000415632 & 0.005854332 & 0.003647412\\\\\n",
       "\t 0.03626993  & 0.04240000  & 0.000906489 & 0.011036420 & 0.003723513\\\\\n",
       "\t 0.03151262  & 0.05470000  & 0.001419182 & 0.025528456 & 0.020909886\\\\\n",
       "\t 0.03428018  & 0.03961443  & 0.000910830 & 0.003097366 & 0.005380550\\\\\n",
       "\t 0.02349768  & 0.02730000  & 0.001071729 & 0.004059030 & 0.002179902\\\\\n",
       "\t 0.02585822  & 0.03340000  & 0.000938300 & 0.012900000 & 0.007982976\\\\\n",
       "\\end{tabular}\n"
      ],
      "text/markdown": [
       "\n",
       "| mass_400 | mass_500 | mass_600 | mass_700 | mass_800 |\n",
       "|---|---|---|---|---|\n",
       "| 0.01994283  | 0.02502781  | 0.000415632 | 0.005854332 | 0.003647412 |\n",
       "| 0.03626993  | 0.04240000  | 0.000906489 | 0.011036420 | 0.003723513 |\n",
       "| 0.03151262  | 0.05470000  | 0.001419182 | 0.025528456 | 0.020909886 |\n",
       "| 0.03428018  | 0.03961443  | 0.000910830 | 0.003097366 | 0.005380550 |\n",
       "| 0.02349768  | 0.02730000  | 0.001071729 | 0.004059030 | 0.002179902 |\n",
       "| 0.02585822  | 0.03340000  | 0.000938300 | 0.012900000 | 0.007982976 |\n",
       "\n"
      ],
      "text/plain": [
       "  mass_400   mass_500   mass_600    mass_700    mass_800   \n",
       "1 0.01994283 0.02502781 0.000415632 0.005854332 0.003647412\n",
       "2 0.03626993 0.04240000 0.000906489 0.011036420 0.003723513\n",
       "3 0.03151262 0.05470000 0.001419182 0.025528456 0.020909886\n",
       "4 0.03428018 0.03961443 0.000910830 0.003097366 0.005380550\n",
       "5 0.02349768 0.02730000 0.001071729 0.004059030 0.002179902\n",
       "6 0.02585822 0.03340000 0.000938300 0.012900000 0.007982976"
      ]
     },
     "metadata": {},
     "output_type": "display_data"
    },
    {
     "data": {
      "text/html": [
       "<dl class=dl-horizontal>\n",
       "\t<dt>mass_400</dt>\n",
       "\t\t<dd>1</dd>\n",
       "\t<dt>mass_500</dt>\n",
       "\t\t<dd>2</dd>\n",
       "\t<dt>mass_600</dt>\n",
       "\t\t<dd>3</dd>\n",
       "\t<dt>mass_700</dt>\n",
       "\t\t<dd>4</dd>\n",
       "\t<dt>mass_800</dt>\n",
       "\t\t<dd>5</dd>\n",
       "</dl>\n"
      ],
      "text/latex": [
       "\\begin{description*}\n",
       "\\item[mass\\textbackslash{}\\_400] 1\n",
       "\\item[mass\\textbackslash{}\\_500] 2\n",
       "\\item[mass\\textbackslash{}\\_600] 3\n",
       "\\item[mass\\textbackslash{}\\_700] 4\n",
       "\\item[mass\\textbackslash{}\\_800] 5\n",
       "\\end{description*}\n"
      ],
      "text/markdown": [
       "mass_400\n",
       ":   1mass_500\n",
       ":   2mass_600\n",
       ":   3mass_700\n",
       ":   4mass_800\n",
       ":   5\n",
       "\n"
      ],
      "text/plain": [
       "mass_400 mass_500 mass_600 mass_700 mass_800 \n",
       "       1        2        3        4        5 "
      ]
     },
     "metadata": {},
     "output_type": "display_data"
    },
    {
     "data": {
      "text/html": [
       "<table>\n",
       "<thead><tr><th></th><th scope=col>mass_400</th><th scope=col>mass_500</th><th scope=col>mass_600</th><th scope=col>mass_700</th><th scope=col>mass_800</th></tr></thead>\n",
       "<tbody>\n",
       "\t<tr><th scope=row>1</th><td>0.01994283 </td><td>0.02502781 </td><td>0.000415632</td><td>0.005854332</td><td>0.003647412</td></tr>\n",
       "\t<tr><th scope=row>2</th><td>0.03626993 </td><td>0.04240000 </td><td>0.000906489</td><td>0.011036420</td><td>0.003723513</td></tr>\n",
       "\t<tr><th scope=row>3</th><td>0.03151262 </td><td>0.05470000 </td><td>0.001419182</td><td>0.025528456</td><td>0.020909886</td></tr>\n",
       "\t<tr><th scope=row>4</th><td>0.03428018 </td><td>0.03961443 </td><td>0.000910830</td><td>0.003097366</td><td>0.005380550</td></tr>\n",
       "\t<tr><th scope=row>5</th><td>0.02349768 </td><td>0.02730000 </td><td>0.001071729</td><td>0.004059030</td><td>0.002179902</td></tr>\n",
       "\t<tr><th scope=row>6</th><td>0.02585822 </td><td>0.03340000 </td><td>0.000938300</td><td>0.012900000</td><td>0.007982976</td></tr>\n",
       "\t<tr><th scope=row>7</th><td>0.02476167 </td><td>0.02610229 </td><td>0.000211087</td><td>0.007370659</td><td>0.004820024</td></tr>\n",
       "\t<tr><th scope=row>8</th><td>0.02894913 </td><td>0.03450000 </td><td>0.001267203</td><td>0.011881974</td><td>0.007826870</td></tr>\n",
       "\t<tr><th scope=row>9</th><td>0.03583814 </td><td>0.03608487 </td><td>0.000152300</td><td>0.000468412</td><td>0.000000000</td></tr>\n",
       "\t<tr><th scope=row>10</th><td>0.02374601 </td><td>0.03178839 </td><td>0.000581695</td><td>0.001106489</td><td>0.001231509</td></tr>\n",
       "\t<tr><th scope=row>11</th><td>0.02731335 </td><td>0.04370000 </td><td>0.001050680</td><td>0.026527290</td><td>0.024057841</td></tr>\n",
       "\t<tr><th scope=row>12</th><td>0.03145276 </td><td>0.03280000 </td><td>0.000927309</td><td>0.005411842</td><td>0.001951292</td></tr>\n",
       "\t<tr><th scope=row>13</th><td>0.02470598 </td><td>0.02852526 </td><td>0.000568868</td><td>0.004297495</td><td>0.003629028</td></tr>\n",
       "\t<tr><th scope=row>14</th><td>0.02331197 </td><td>0.03006067 </td><td>0.000644870</td><td>0.010448144</td><td>0.005401860</td></tr>\n",
       "\t<tr><th scope=row>15</th><td>0.03310381 </td><td>0.03490000 </td><td>0.001029930</td><td>0.008950000</td><td>0.005288455</td></tr>\n",
       "\t<tr><th scope=row>26</th><td>0.03356458 </td><td>0.03920000 </td><td>0.000785318</td><td>0.013500000</td><td>0.001570132</td></tr>\n",
       "\t<tr><th scope=row>27</th><td>0.03413707 </td><td>0.03160000 </td><td>0.000947276</td><td>0.006800000</td><td>0.003040254</td></tr>\n",
       "\t<tr><th scope=row>28</th><td>0.04366574 </td><td>0.06505073 </td><td>0.001529953</td><td>0.021932445</td><td>0.013205718</td></tr>\n",
       "\t<tr><th scope=row>29</th><td>0.04570138 </td><td>0.05828960 </td><td>0.001008407</td><td>0.012382975</td><td>0.014013995</td></tr>\n",
       "\t<tr><th scope=row>30</th><td>0.03140283 </td><td>0.03250000 </td><td>0.000934736</td><td>0.008034025</td><td>0.005570937</td></tr>\n",
       "\t<tr><th scope=row>41</th><td>0.04125105 </td><td>0.04670923 </td><td>0.001007273</td><td>0.018825742</td><td>0.006132921</td></tr>\n",
       "\t<tr><th scope=row>42</th><td>0.03284682 </td><td>0.04618436 </td><td>0.001012795</td><td>0.004660000</td><td>0.002972458</td></tr>\n",
       "\t<tr><th scope=row>43</th><td>0.02873381 </td><td>0.02989445 </td><td>0.000828000</td><td>0.009280030</td><td>0.007344513</td></tr>\n",
       "\t<tr><th scope=row>44</th><td>0.04214344 </td><td>0.06117212 </td><td>0.000939877</td><td>0.037357285</td><td>0.003534113</td></tr>\n",
       "\t<tr><th scope=row>45</th><td>0.07101754 </td><td>0.06982925 </td><td>0.000758873</td><td>0.013067192</td><td>0.004763751</td></tr>\n",
       "\t<tr><th scope=row>56</th><td>0.03248441 </td><td>0.03900000 </td><td>0.000894367</td><td>0.003626424</td><td>0.003835575</td></tr>\n",
       "\t<tr><th scope=row>57</th><td>0.01795440 </td><td>0.02340000 </td><td>0.000709538</td><td>0.003209255</td><td>0.001531619</td></tr>\n",
       "\t<tr><th scope=row>58</th><td>0.05113216 </td><td>0.04025805 </td><td>0.000157385</td><td>0.004446196</td><td>0.000087900</td></tr>\n",
       "\t<tr><th scope=row>59</th><td>0.04091378 </td><td>0.03216801 </td><td>0.000617413</td><td>0.002379165</td><td>0.000202050</td></tr>\n",
       "\t<tr><th scope=row>60</th><td>0.02436086 </td><td>0.03014325 </td><td>0.000399431</td><td>0.009090365</td><td>0.003764574</td></tr>\n",
       "</tbody>\n",
       "</table>\n"
      ],
      "text/latex": [
       "\\begin{tabular}{r|lllll}\n",
       "  & mass\\_400 & mass\\_500 & mass\\_600 & mass\\_700 & mass\\_800\\\\\n",
       "\\hline\n",
       "\t1 & 0.01994283  & 0.02502781  & 0.000415632 & 0.005854332 & 0.003647412\\\\\n",
       "\t2 & 0.03626993  & 0.04240000  & 0.000906489 & 0.011036420 & 0.003723513\\\\\n",
       "\t3 & 0.03151262  & 0.05470000  & 0.001419182 & 0.025528456 & 0.020909886\\\\\n",
       "\t4 & 0.03428018  & 0.03961443  & 0.000910830 & 0.003097366 & 0.005380550\\\\\n",
       "\t5 & 0.02349768  & 0.02730000  & 0.001071729 & 0.004059030 & 0.002179902\\\\\n",
       "\t6 & 0.02585822  & 0.03340000  & 0.000938300 & 0.012900000 & 0.007982976\\\\\n",
       "\t7 & 0.02476167  & 0.02610229  & 0.000211087 & 0.007370659 & 0.004820024\\\\\n",
       "\t8 & 0.02894913  & 0.03450000  & 0.001267203 & 0.011881974 & 0.007826870\\\\\n",
       "\t9 & 0.03583814  & 0.03608487  & 0.000152300 & 0.000468412 & 0.000000000\\\\\n",
       "\t10 & 0.02374601  & 0.03178839  & 0.000581695 & 0.001106489 & 0.001231509\\\\\n",
       "\t11 & 0.02731335  & 0.04370000  & 0.001050680 & 0.026527290 & 0.024057841\\\\\n",
       "\t12 & 0.03145276  & 0.03280000  & 0.000927309 & 0.005411842 & 0.001951292\\\\\n",
       "\t13 & 0.02470598  & 0.02852526  & 0.000568868 & 0.004297495 & 0.003629028\\\\\n",
       "\t14 & 0.02331197  & 0.03006067  & 0.000644870 & 0.010448144 & 0.005401860\\\\\n",
       "\t15 & 0.03310381  & 0.03490000  & 0.001029930 & 0.008950000 & 0.005288455\\\\\n",
       "\t26 & 0.03356458  & 0.03920000  & 0.000785318 & 0.013500000 & 0.001570132\\\\\n",
       "\t27 & 0.03413707  & 0.03160000  & 0.000947276 & 0.006800000 & 0.003040254\\\\\n",
       "\t28 & 0.04366574  & 0.06505073  & 0.001529953 & 0.021932445 & 0.013205718\\\\\n",
       "\t29 & 0.04570138  & 0.05828960  & 0.001008407 & 0.012382975 & 0.014013995\\\\\n",
       "\t30 & 0.03140283  & 0.03250000  & 0.000934736 & 0.008034025 & 0.005570937\\\\\n",
       "\t41 & 0.04125105  & 0.04670923  & 0.001007273 & 0.018825742 & 0.006132921\\\\\n",
       "\t42 & 0.03284682  & 0.04618436  & 0.001012795 & 0.004660000 & 0.002972458\\\\\n",
       "\t43 & 0.02873381  & 0.02989445  & 0.000828000 & 0.009280030 & 0.007344513\\\\\n",
       "\t44 & 0.04214344  & 0.06117212  & 0.000939877 & 0.037357285 & 0.003534113\\\\\n",
       "\t45 & 0.07101754  & 0.06982925  & 0.000758873 & 0.013067192 & 0.004763751\\\\\n",
       "\t56 & 0.03248441  & 0.03900000  & 0.000894367 & 0.003626424 & 0.003835575\\\\\n",
       "\t57 & 0.01795440  & 0.02340000  & 0.000709538 & 0.003209255 & 0.001531619\\\\\n",
       "\t58 & 0.05113216  & 0.04025805  & 0.000157385 & 0.004446196 & 0.000087900\\\\\n",
       "\t59 & 0.04091378  & 0.03216801  & 0.000617413 & 0.002379165 & 0.000202050\\\\\n",
       "\t60 & 0.02436086  & 0.03014325  & 0.000399431 & 0.009090365 & 0.003764574\\\\\n",
       "\\end{tabular}\n"
      ],
      "text/markdown": [
       "\n",
       "| <!--/--> | mass_400 | mass_500 | mass_600 | mass_700 | mass_800 |\n",
       "|---|---|---|---|---|---|\n",
       "| 1 | 0.01994283  | 0.02502781  | 0.000415632 | 0.005854332 | 0.003647412 |\n",
       "| 2 | 0.03626993  | 0.04240000  | 0.000906489 | 0.011036420 | 0.003723513 |\n",
       "| 3 | 0.03151262  | 0.05470000  | 0.001419182 | 0.025528456 | 0.020909886 |\n",
       "| 4 | 0.03428018  | 0.03961443  | 0.000910830 | 0.003097366 | 0.005380550 |\n",
       "| 5 | 0.02349768  | 0.02730000  | 0.001071729 | 0.004059030 | 0.002179902 |\n",
       "| 6 | 0.02585822  | 0.03340000  | 0.000938300 | 0.012900000 | 0.007982976 |\n",
       "| 7 | 0.02476167  | 0.02610229  | 0.000211087 | 0.007370659 | 0.004820024 |\n",
       "| 8 | 0.02894913  | 0.03450000  | 0.001267203 | 0.011881974 | 0.007826870 |\n",
       "| 9 | 0.03583814  | 0.03608487  | 0.000152300 | 0.000468412 | 0.000000000 |\n",
       "| 10 | 0.02374601  | 0.03178839  | 0.000581695 | 0.001106489 | 0.001231509 |\n",
       "| 11 | 0.02731335  | 0.04370000  | 0.001050680 | 0.026527290 | 0.024057841 |\n",
       "| 12 | 0.03145276  | 0.03280000  | 0.000927309 | 0.005411842 | 0.001951292 |\n",
       "| 13 | 0.02470598  | 0.02852526  | 0.000568868 | 0.004297495 | 0.003629028 |\n",
       "| 14 | 0.02331197  | 0.03006067  | 0.000644870 | 0.010448144 | 0.005401860 |\n",
       "| 15 | 0.03310381  | 0.03490000  | 0.001029930 | 0.008950000 | 0.005288455 |\n",
       "| 26 | 0.03356458  | 0.03920000  | 0.000785318 | 0.013500000 | 0.001570132 |\n",
       "| 27 | 0.03413707  | 0.03160000  | 0.000947276 | 0.006800000 | 0.003040254 |\n",
       "| 28 | 0.04366574  | 0.06505073  | 0.001529953 | 0.021932445 | 0.013205718 |\n",
       "| 29 | 0.04570138  | 0.05828960  | 0.001008407 | 0.012382975 | 0.014013995 |\n",
       "| 30 | 0.03140283  | 0.03250000  | 0.000934736 | 0.008034025 | 0.005570937 |\n",
       "| 41 | 0.04125105  | 0.04670923  | 0.001007273 | 0.018825742 | 0.006132921 |\n",
       "| 42 | 0.03284682  | 0.04618436  | 0.001012795 | 0.004660000 | 0.002972458 |\n",
       "| 43 | 0.02873381  | 0.02989445  | 0.000828000 | 0.009280030 | 0.007344513 |\n",
       "| 44 | 0.04214344  | 0.06117212  | 0.000939877 | 0.037357285 | 0.003534113 |\n",
       "| 45 | 0.07101754  | 0.06982925  | 0.000758873 | 0.013067192 | 0.004763751 |\n",
       "| 56 | 0.03248441  | 0.03900000  | 0.000894367 | 0.003626424 | 0.003835575 |\n",
       "| 57 | 0.01795440  | 0.02340000  | 0.000709538 | 0.003209255 | 0.001531619 |\n",
       "| 58 | 0.05113216  | 0.04025805  | 0.000157385 | 0.004446196 | 0.000087900 |\n",
       "| 59 | 0.04091378  | 0.03216801  | 0.000617413 | 0.002379165 | 0.000202050 |\n",
       "| 60 | 0.02436086  | 0.03014325  | 0.000399431 | 0.009090365 | 0.003764574 |\n",
       "\n"
      ],
      "text/plain": [
       "   mass_400   mass_500   mass_600    mass_700    mass_800   \n",
       "1  0.01994283 0.02502781 0.000415632 0.005854332 0.003647412\n",
       "2  0.03626993 0.04240000 0.000906489 0.011036420 0.003723513\n",
       "3  0.03151262 0.05470000 0.001419182 0.025528456 0.020909886\n",
       "4  0.03428018 0.03961443 0.000910830 0.003097366 0.005380550\n",
       "5  0.02349768 0.02730000 0.001071729 0.004059030 0.002179902\n",
       "6  0.02585822 0.03340000 0.000938300 0.012900000 0.007982976\n",
       "7  0.02476167 0.02610229 0.000211087 0.007370659 0.004820024\n",
       "8  0.02894913 0.03450000 0.001267203 0.011881974 0.007826870\n",
       "9  0.03583814 0.03608487 0.000152300 0.000468412 0.000000000\n",
       "10 0.02374601 0.03178839 0.000581695 0.001106489 0.001231509\n",
       "11 0.02731335 0.04370000 0.001050680 0.026527290 0.024057841\n",
       "12 0.03145276 0.03280000 0.000927309 0.005411842 0.001951292\n",
       "13 0.02470598 0.02852526 0.000568868 0.004297495 0.003629028\n",
       "14 0.02331197 0.03006067 0.000644870 0.010448144 0.005401860\n",
       "15 0.03310381 0.03490000 0.001029930 0.008950000 0.005288455\n",
       "26 0.03356458 0.03920000 0.000785318 0.013500000 0.001570132\n",
       "27 0.03413707 0.03160000 0.000947276 0.006800000 0.003040254\n",
       "28 0.04366574 0.06505073 0.001529953 0.021932445 0.013205718\n",
       "29 0.04570138 0.05828960 0.001008407 0.012382975 0.014013995\n",
       "30 0.03140283 0.03250000 0.000934736 0.008034025 0.005570937\n",
       "41 0.04125105 0.04670923 0.001007273 0.018825742 0.006132921\n",
       "42 0.03284682 0.04618436 0.001012795 0.004660000 0.002972458\n",
       "43 0.02873381 0.02989445 0.000828000 0.009280030 0.007344513\n",
       "44 0.04214344 0.06117212 0.000939877 0.037357285 0.003534113\n",
       "45 0.07101754 0.06982925 0.000758873 0.013067192 0.004763751\n",
       "56 0.03248441 0.03900000 0.000894367 0.003626424 0.003835575\n",
       "57 0.01795440 0.02340000 0.000709538 0.003209255 0.001531619\n",
       "58 0.05113216 0.04025805 0.000157385 0.004446196 0.000087900\n",
       "59 0.04091378 0.03216801 0.000617413 0.002379165 0.000202050\n",
       "60 0.02436086 0.03014325 0.000399431 0.009090365 0.003764574"
      ]
     },
     "metadata": {},
     "output_type": "display_data"
    },
    {
     "data": {
      "text/html": [
       "<table>\n",
       "<thead><tr><th scope=col>filename</th><th scope=col>MouseID</th><th scope=col>Treatmentgroup</th><th scope=col>DPI</th><th scope=col>organ</th><th scope=col>well_position</th><th scope=col>plate</th><th scope=col>mass_400</th><th scope=col>mass_500</th><th scope=col>mass_600</th><th scope=col>mass_700</th><th scope=col>mass_800</th></tr></thead>\n",
       "<tbody>\n",
       "\t<tr><td>X511_Group1C_142dpi_RA_161_G_A1_P124.mzXML</td><td>511                                       </td><td>naive                                     </td><td>142dpi                                    </td><td>RA                                        </td><td>A1                                        </td><td>P124                                      </td><td>0.01994283                                </td><td>0.02502781                                </td><td>0.000415632                               </td><td>0.005854332                               </td><td>0.003647412                               </td></tr>\n",
       "\t<tr><td>X512_Group1C_142dpi_RA_162_G_A2_P124.mzXML</td><td>512                                       </td><td>naive                                     </td><td>142dpi                                    </td><td>RA                                        </td><td>A2                                        </td><td>P124                                      </td><td>0.03626993                                </td><td>0.04240000                                </td><td>0.000906489                               </td><td>0.011036420                               </td><td>0.003723513                               </td></tr>\n",
       "\t<tr><td>X513_Group1C_142dpi_RA_163_G_A3_P124.mzXML</td><td>513                                       </td><td>naive                                     </td><td>142dpi                                    </td><td>RA                                        </td><td>A3                                        </td><td>P124                                      </td><td>0.03151262                                </td><td>0.05470000                                </td><td>0.001419182                               </td><td>0.025528456                               </td><td>0.020909886                               </td></tr>\n",
       "\t<tr><td>X514_Group1C_142dpi_RA_164_G_A4_P124.mzXML</td><td>514                                       </td><td>naive                                     </td><td>142dpi                                    </td><td>RA                                        </td><td>A4                                        </td><td>P124                                      </td><td>0.03428018                                </td><td>0.03961443                                </td><td>0.000910830                               </td><td>0.003097366                               </td><td>0.005380550                               </td></tr>\n",
       "\t<tr><td>X515_Group1C_142dpi_RA_165_G_A5_P124.mzXML</td><td>515                                       </td><td>naive                                     </td><td>142dpi                                    </td><td>RA                                        </td><td>A5                                        </td><td>P124                                      </td><td>0.02349768                                </td><td>0.02730000                                </td><td>0.001071729                               </td><td>0.004059030                               </td><td>0.002179902                               </td></tr>\n",
       "\t<tr><td>X531_Group1C_142dpi_RA_166_G_A6_P124.mzXML</td><td>531                                       </td><td>naive                                     </td><td>142dpi                                    </td><td>RA                                        </td><td>A6                                        </td><td>P124                                      </td><td>0.02585822                                </td><td>0.03340000                                </td><td>0.000938300                               </td><td>0.012900000                               </td><td>0.007982976                               </td></tr>\n",
       "</tbody>\n",
       "</table>\n"
      ],
      "text/latex": [
       "\\begin{tabular}{r|llllllllllll}\n",
       " filename & MouseID & Treatmentgroup & DPI & organ & well\\_position & plate & mass\\_400 & mass\\_500 & mass\\_600 & mass\\_700 & mass\\_800\\\\\n",
       "\\hline\n",
       "\t X511\\_Group1C\\_142dpi\\_RA\\_161\\_G\\_A1\\_P124.mzXML & 511                                                      & naive                                                    & 142dpi                                                   & RA                                                       & A1                                                       & P124                                                     & 0.01994283                                               & 0.02502781                                               & 0.000415632                                              & 0.005854332                                              & 0.003647412                                             \\\\\n",
       "\t X512\\_Group1C\\_142dpi\\_RA\\_162\\_G\\_A2\\_P124.mzXML & 512                                                      & naive                                                    & 142dpi                                                   & RA                                                       & A2                                                       & P124                                                     & 0.03626993                                               & 0.04240000                                               & 0.000906489                                              & 0.011036420                                              & 0.003723513                                             \\\\\n",
       "\t X513\\_Group1C\\_142dpi\\_RA\\_163\\_G\\_A3\\_P124.mzXML & 513                                                      & naive                                                    & 142dpi                                                   & RA                                                       & A3                                                       & P124                                                     & 0.03151262                                               & 0.05470000                                               & 0.001419182                                              & 0.025528456                                              & 0.020909886                                             \\\\\n",
       "\t X514\\_Group1C\\_142dpi\\_RA\\_164\\_G\\_A4\\_P124.mzXML & 514                                                      & naive                                                    & 142dpi                                                   & RA                                                       & A4                                                       & P124                                                     & 0.03428018                                               & 0.03961443                                               & 0.000910830                                              & 0.003097366                                              & 0.005380550                                             \\\\\n",
       "\t X515\\_Group1C\\_142dpi\\_RA\\_165\\_G\\_A5\\_P124.mzXML & 515                                                      & naive                                                    & 142dpi                                                   & RA                                                       & A5                                                       & P124                                                     & 0.02349768                                               & 0.02730000                                               & 0.001071729                                              & 0.004059030                                              & 0.002179902                                             \\\\\n",
       "\t X531\\_Group1C\\_142dpi\\_RA\\_166\\_G\\_A6\\_P124.mzXML & 531                                                      & naive                                                    & 142dpi                                                   & RA                                                       & A6                                                       & P124                                                     & 0.02585822                                               & 0.03340000                                               & 0.000938300                                              & 0.012900000                                              & 0.007982976                                             \\\\\n",
       "\\end{tabular}\n"
      ],
      "text/markdown": [
       "\n",
       "| filename | MouseID | Treatmentgroup | DPI | organ | well_position | plate | mass_400 | mass_500 | mass_600 | mass_700 | mass_800 |\n",
       "|---|---|---|---|---|---|---|---|---|---|---|---|\n",
       "| X511_Group1C_142dpi_RA_161_G_A1_P124.mzXML | 511                                        | naive                                      | 142dpi                                     | RA                                         | A1                                         | P124                                       | 0.01994283                                 | 0.02502781                                 | 0.000415632                                | 0.005854332                                | 0.003647412                                |\n",
       "| X512_Group1C_142dpi_RA_162_G_A2_P124.mzXML | 512                                        | naive                                      | 142dpi                                     | RA                                         | A2                                         | P124                                       | 0.03626993                                 | 0.04240000                                 | 0.000906489                                | 0.011036420                                | 0.003723513                                |\n",
       "| X513_Group1C_142dpi_RA_163_G_A3_P124.mzXML | 513                                        | naive                                      | 142dpi                                     | RA                                         | A3                                         | P124                                       | 0.03151262                                 | 0.05470000                                 | 0.001419182                                | 0.025528456                                | 0.020909886                                |\n",
       "| X514_Group1C_142dpi_RA_164_G_A4_P124.mzXML | 514                                        | naive                                      | 142dpi                                     | RA                                         | A4                                         | P124                                       | 0.03428018                                 | 0.03961443                                 | 0.000910830                                | 0.003097366                                | 0.005380550                                |\n",
       "| X515_Group1C_142dpi_RA_165_G_A5_P124.mzXML | 515                                        | naive                                      | 142dpi                                     | RA                                         | A5                                         | P124                                       | 0.02349768                                 | 0.02730000                                 | 0.001071729                                | 0.004059030                                | 0.002179902                                |\n",
       "| X531_Group1C_142dpi_RA_166_G_A6_P124.mzXML | 531                                        | naive                                      | 142dpi                                     | RA                                         | A6                                         | P124                                       | 0.02585822                                 | 0.03340000                                 | 0.000938300                                | 0.012900000                                | 0.007982976                                |\n",
       "\n"
      ],
      "text/plain": [
       "  filename                                   MouseID Treatmentgroup DPI   \n",
       "1 X511_Group1C_142dpi_RA_161_G_A1_P124.mzXML 511     naive          142dpi\n",
       "2 X512_Group1C_142dpi_RA_162_G_A2_P124.mzXML 512     naive          142dpi\n",
       "3 X513_Group1C_142dpi_RA_163_G_A3_P124.mzXML 513     naive          142dpi\n",
       "4 X514_Group1C_142dpi_RA_164_G_A4_P124.mzXML 514     naive          142dpi\n",
       "5 X515_Group1C_142dpi_RA_165_G_A5_P124.mzXML 515     naive          142dpi\n",
       "6 X531_Group1C_142dpi_RA_166_G_A6_P124.mzXML 531     naive          142dpi\n",
       "  organ well_position plate mass_400   mass_500   mass_600    mass_700   \n",
       "1 RA    A1            P124  0.01994283 0.02502781 0.000415632 0.005854332\n",
       "2 RA    A2            P124  0.03626993 0.04240000 0.000906489 0.011036420\n",
       "3 RA    A3            P124  0.03151262 0.05470000 0.001419182 0.025528456\n",
       "4 RA    A4            P124  0.03428018 0.03961443 0.000910830 0.003097366\n",
       "5 RA    A5            P124  0.02349768 0.02730000 0.001071729 0.004059030\n",
       "6 RA    A6            P124  0.02585822 0.03340000 0.000938300 0.012900000\n",
       "  mass_800   \n",
       "1 0.003647412\n",
       "2 0.003723513\n",
       "3 0.020909886\n",
       "4 0.005380550\n",
       "5 0.002179902\n",
       "6 0.007982976"
      ]
     },
     "metadata": {},
     "output_type": "display_data"
    },
    {
     "data": {
      "text/html": [
       "<ol class=list-inline>\n",
       "\t<li>30</li>\n",
       "\t<li>12</li>\n",
       "</ol>\n"
      ],
      "text/latex": [
       "\\begin{enumerate*}\n",
       "\\item 30\n",
       "\\item 12\n",
       "\\end{enumerate*}\n"
      ],
      "text/markdown": [
       "1. 30\n",
       "2. 12\n",
       "\n",
       "\n"
      ],
      "text/plain": [
       "[1] 30 12"
      ]
     },
     "metadata": {},
     "output_type": "display_data"
    },
    {
     "data": {
      "text/html": [
       "<ol class=list-inline>\n",
       "\t<li>30</li>\n",
       "\t<li>5</li>\n",
       "</ol>\n"
      ],
      "text/latex": [
       "\\begin{enumerate*}\n",
       "\\item 30\n",
       "\\item 5\n",
       "\\end{enumerate*}\n"
      ],
      "text/markdown": [
       "1. 30\n",
       "2. 5\n",
       "\n",
       "\n"
      ],
      "text/plain": [
       "[1] 30  5"
      ]
     },
     "metadata": {},
     "output_type": "display_data"
    },
    {
     "data": {
      "text/html": [
       "<ol class=list-inline>\n",
       "\t<li>30</li>\n",
       "\t<li>5</li>\n",
       "</ol>\n"
      ],
      "text/latex": [
       "\\begin{enumerate*}\n",
       "\\item 30\n",
       "\\item 5\n",
       "\\end{enumerate*}\n"
      ],
      "text/markdown": [
       "1. 30\n",
       "2. 5\n",
       "\n",
       "\n"
      ],
      "text/plain": [
       "[1] 30  5"
      ]
     },
     "metadata": {},
     "output_type": "display_data"
    },
    {
     "data": {
      "text/html": [
       "<ol class=list-inline>\n",
       "\t<li>30</li>\n",
       "\t<li>12</li>\n",
       "</ol>\n"
      ],
      "text/latex": [
       "\\begin{enumerate*}\n",
       "\\item 30\n",
       "\\item 12\n",
       "\\end{enumerate*}\n"
      ],
      "text/markdown": [
       "1. 30\n",
       "2. 12\n",
       "\n",
       "\n"
      ],
      "text/plain": [
       "[1] 30 12"
      ]
     },
     "metadata": {},
     "output_type": "display_data"
    }
   ],
   "source": [
    "noMeta<-features_pos[,8:12]\n",
    "head(noMeta)\n",
    "not_zero<-which(colSums(noMeta) != 0)\n",
    "head(not_zero)\n",
    "nonzero <- noMeta[, not_zero]\n",
    "nonzero\n",
    "nonzero_wMeta<-cbind(features_pos[,1:7], nonzero)\n",
    "head(nonzero_wMeta)\n",
    "dim(features_pos)\n",
    "dim(noMeta)\n",
    "dim(nonzero)\n",
    "dim(nonzero_wMeta)"
   ]
  },
  {
   "cell_type": "code",
   "execution_count": 5,
   "metadata": {
    "scrolled": true
   },
   "outputs": [
    {
     "data": {
      "text/html": [
       "<ol class=list-inline>\n",
       "\t<li>0.0127990313408827</li>\n",
       "\t<li>0.148479991170565</li>\n",
       "\t<li>1</li>\n",
       "\t<li>0.486364763954452</li>\n",
       "\t<li>0.566774494589651</li>\n",
       "</ol>\n"
      ],
      "text/latex": [
       "\\begin{enumerate*}\n",
       "\\item 0.0127990313408827\n",
       "\\item 0.148479991170565\n",
       "\\item 1\n",
       "\\item 0.486364763954452\n",
       "\\item 0.566774494589651\n",
       "\\end{enumerate*}\n"
      ],
      "text/markdown": [
       "1. 0.0127990313408827\n",
       "2. 0.148479991170565\n",
       "3. 1\n",
       "4. 0.486364763954452\n",
       "5. 0.566774494589651\n",
       "\n",
       "\n"
      ],
      "text/plain": [
       "[1] 0.01279903 0.14847999 1.00000000 0.48636476 0.56677449"
      ]
     },
     "metadata": {},
     "output_type": "display_data"
    },
    {
     "data": {
      "text/html": [
       "<ol class=list-inline>\n",
       "\t<li>0.0639951567044135</li>\n",
       "\t<li>0.371199977926414</li>\n",
       "\t<li>1</li>\n",
       "\t<li>0.708468118237063</li>\n",
       "\t<li>0.708468118237063</li>\n",
       "</ol>\n"
      ],
      "text/latex": [
       "\\begin{enumerate*}\n",
       "\\item 0.0639951567044135\n",
       "\\item 0.371199977926414\n",
       "\\item 1\n",
       "\\item 0.708468118237063\n",
       "\\item 0.708468118237063\n",
       "\\end{enumerate*}\n"
      ],
      "text/markdown": [
       "1. 0.0639951567044135\n",
       "2. 0.371199977926414\n",
       "3. 1\n",
       "4. 0.708468118237063\n",
       "5. 0.708468118237063\n",
       "\n",
       "\n"
      ],
      "text/plain": [
       "[1] 0.06399516 0.37119998 1.00000000 0.70846812 0.70846812"
      ]
     },
     "metadata": {},
     "output_type": "display_data"
    }
   ],
   "source": [
    "pval<-c()\n",
    "\n",
    "for (i in 8:ncol(nonzero_wMeta)) \n",
    "pval<-c(pval,wilcox.test(nonzero_wMeta[,i]~nonzero_wMeta$Treatmentgroup)$p.value)\n",
    "head(pval)\n",
    "pAdj <- p.adjust(pval, method = c(\"fdr\"), n=length(pval)) \n",
    "head(pAdj) \n",
    "\n"
   ]
  },
  {
   "cell_type": "code",
   "execution_count": 6,
   "metadata": {
    "scrolled": true
   },
   "outputs": [
    {
     "data": {
      "text/html": [
       "5"
      ],
      "text/latex": [
       "5"
      ],
      "text/markdown": [
       "5"
      ],
      "text/plain": [
       "[1] 5"
      ]
     },
     "metadata": {},
     "output_type": "display_data"
    }
   ],
   "source": [
    "length(pval)"
   ]
  },
  {
   "cell_type": "code",
   "execution_count": 7,
   "metadata": {
    "scrolled": true
   },
   "outputs": [
    {
     "data": {
      "text/html": [
       "5"
      ],
      "text/latex": [
       "5"
      ],
      "text/markdown": [
       "5"
      ],
      "text/plain": [
       "[1] 5"
      ]
     },
     "metadata": {},
     "output_type": "display_data"
    }
   ],
   "source": [
    "length(pAdj)"
   ]
  },
  {
   "cell_type": "code",
   "execution_count": 8,
   "metadata": {},
   "outputs": [
    {
     "data": {
      "text/html": [
       "<ol class=list-inline>\n",
       "\t<li>2</li>\n",
       "\t<li>5</li>\n",
       "</ol>\n"
      ],
      "text/latex": [
       "\\begin{enumerate*}\n",
       "\\item 2\n",
       "\\item 5\n",
       "\\end{enumerate*}\n"
      ],
      "text/markdown": [
       "1. 2\n",
       "2. 5\n",
       "\n",
       "\n"
      ],
      "text/plain": [
       "[1] 2 5"
      ]
     },
     "metadata": {},
     "output_type": "display_data"
    },
    {
     "data": {
      "text/html": [
       "<table>\n",
       "<thead><tr><th></th><th scope=col>mass_400</th><th scope=col>mass_500</th><th scope=col>mass_600</th></tr></thead>\n",
       "<tbody>\n",
       "\t<tr><th scope=row>BNZ</th><td>0.03808732  </td><td>0.04302660  </td><td>0.0008353761</td></tr>\n",
       "\t<tr><th scope=row>naive</th><td>0.02830295  </td><td>0.03472691  </td><td>0.0008064069</td></tr>\n",
       "</tbody>\n",
       "</table>\n"
      ],
      "text/latex": [
       "\\begin{tabular}{r|lll}\n",
       "  & mass\\_400 & mass\\_500 & mass\\_600\\\\\n",
       "\\hline\n",
       "\tBNZ & 0.03808732   & 0.04302660   & 0.0008353761\\\\\n",
       "\tnaive & 0.02830295   & 0.03472691   & 0.0008064069\\\\\n",
       "\\end{tabular}\n"
      ],
      "text/markdown": [
       "\n",
       "| <!--/--> | mass_400 | mass_500 | mass_600 |\n",
       "|---|---|---|---|\n",
       "| BNZ | 0.03808732   | 0.04302660   | 0.0008353761 |\n",
       "| naive | 0.02830295   | 0.03472691   | 0.0008064069 |\n",
       "\n"
      ],
      "text/plain": [
       "      mass_400   mass_500   mass_600    \n",
       "BNZ   0.03808732 0.04302660 0.0008353761\n",
       "naive 0.02830295 0.03472691 0.0008064069"
      ]
     },
     "metadata": {},
     "output_type": "display_data"
    },
    {
     "data": {
      "text/html": [
       "<dl class=dl-horizontal>\n",
       "\t<dt>mass_400</dt>\n",
       "\t\t<dd>1.34570157274722</dd>\n",
       "\t<dt>mass_500</dt>\n",
       "\t\t<dd>1.2389987657431</dd>\n",
       "\t<dt>mass_600</dt>\n",
       "\t\t<dd>1.03592379827422</dd>\n",
       "\t<dt>mass_700</dt>\n",
       "\t\t<dd>1.21342763982435</dd>\n",
       "\t<dt>mass_800</dt>\n",
       "\t\t<dd>0.730079503938739</dd>\n",
       "</dl>\n"
      ],
      "text/latex": [
       "\\begin{description*}\n",
       "\\item[mass\\textbackslash{}\\_400] 1.34570157274722\n",
       "\\item[mass\\textbackslash{}\\_500] 1.2389987657431\n",
       "\\item[mass\\textbackslash{}\\_600] 1.03592379827422\n",
       "\\item[mass\\textbackslash{}\\_700] 1.21342763982435\n",
       "\\item[mass\\textbackslash{}\\_800] 0.730079503938739\n",
       "\\end{description*}\n"
      ],
      "text/markdown": [
       "mass_400\n",
       ":   1.34570157274722mass_500\n",
       ":   1.2389987657431mass_600\n",
       ":   1.03592379827422mass_700\n",
       ":   1.21342763982435mass_800\n",
       ":   0.730079503938739\n",
       "\n"
      ],
      "text/plain": [
       " mass_400  mass_500  mass_600  mass_700  mass_800 \n",
       "1.3457016 1.2389988 1.0359238 1.2134276 0.7300795 "
      ]
     },
     "metadata": {},
     "output_type": "display_data"
    },
    {
     "data": {
      "text/html": [
       "<ol class=list-inline>\n",
       "\t<li>'numeric'</li>\n",
       "\t<li>'vector'</li>\n",
       "</ol>\n"
      ],
      "text/latex": [
       "\\begin{enumerate*}\n",
       "\\item 'numeric'\n",
       "\\item 'vector'\n",
       "\\end{enumerate*}\n"
      ],
      "text/markdown": [
       "1. 'numeric'\n",
       "2. 'vector'\n",
       "\n",
       "\n"
      ],
      "text/plain": [
       "[1] \"numeric\" \"vector\" "
      ]
     },
     "metadata": {},
     "output_type": "display_data"
    }
   ],
   "source": [
    "avg<- apply(nonzero_wMeta[,8:ncol(nonzero_wMeta)], 2, function(x) tapply(x, nonzero_wMeta$Treatmentgroup, function(x) mean(x))) \n",
    "\n",
    "dim(avg)\n",
    "\n",
    "avg[,1:3]\n",
    "\n",
    "fch <- apply(avg, 2, function(x) x[1]/x[2]) \n",
    "\n",
    "head(fch)\n",
    "is(fch)"
   ]
  },
  {
   "cell_type": "code",
   "execution_count": 9,
   "metadata": {
    "scrolled": true
   },
   "outputs": [
    {
     "data": {
      "text/html": [
       "<dl class=dl-horizontal>\n",
       "\t<dt>mass_400</dt>\n",
       "\t\t<dd>1.34570157274722</dd>\n",
       "\t<dt>mass_500</dt>\n",
       "\t\t<dd>1.2389987657431</dd>\n",
       "\t<dt>mass_600</dt>\n",
       "\t\t<dd>1.03592379827422</dd>\n",
       "\t<dt>mass_700</dt>\n",
       "\t\t<dd>1.21342763982435</dd>\n",
       "\t<dt>mass_800</dt>\n",
       "\t\t<dd>0.730079503938739</dd>\n",
       "</dl>\n"
      ],
      "text/latex": [
       "\\begin{description*}\n",
       "\\item[mass\\textbackslash{}\\_400] 1.34570157274722\n",
       "\\item[mass\\textbackslash{}\\_500] 1.2389987657431\n",
       "\\item[mass\\textbackslash{}\\_600] 1.03592379827422\n",
       "\\item[mass\\textbackslash{}\\_700] 1.21342763982435\n",
       "\\item[mass\\textbackslash{}\\_800] 0.730079503938739\n",
       "\\end{description*}\n"
      ],
      "text/markdown": [
       "mass_400\n",
       ":   1.34570157274722mass_500\n",
       ":   1.2389987657431mass_600\n",
       ":   1.03592379827422mass_700\n",
       ":   1.21342763982435mass_800\n",
       ":   0.730079503938739\n",
       "\n"
      ],
      "text/plain": [
       " mass_400  mass_500  mass_600  mass_700  mass_800 \n",
       "1.3457016 1.2389988 1.0359238 1.2134276 0.7300795 "
      ]
     },
     "metadata": {},
     "output_type": "display_data"
    }
   ],
   "source": [
    "fch"
   ]
  },
  {
   "cell_type": "code",
   "execution_count": 10,
   "metadata": {
    "scrolled": false
   },
   "outputs": [],
   "source": [
    "df <- data.frame(fch,pval, pAdj)\n",
    "write.csv(df, \"PC-treat-RA-wilcox-naive-BNZ.csv\")"
   ]
  },
  {
   "cell_type": "code",
   "execution_count": null,
   "metadata": {},
   "outputs": [],
   "source": []
  },
  {
   "cell_type": "code",
   "execution_count": null,
   "metadata": {},
   "outputs": [],
   "source": []
  },
  {
   "cell_type": "code",
   "execution_count": null,
   "metadata": {},
   "outputs": [],
   "source": []
  },
  {
   "cell_type": "code",
   "execution_count": null,
   "metadata": {},
   "outputs": [],
   "source": []
  },
  {
   "cell_type": "code",
   "execution_count": null,
   "metadata": {},
   "outputs": [],
   "source": []
  },
  {
   "cell_type": "code",
   "execution_count": null,
   "metadata": {},
   "outputs": [],
   "source": []
  }
 ],
 "metadata": {
  "kernelspec": {
   "display_name": "R",
   "language": "R",
   "name": "ir"
  },
  "language_info": {
   "codemirror_mode": "r",
   "file_extension": ".r",
   "mimetype": "text/x-r-source",
   "name": "R",
   "pygments_lexer": "r",
   "version": "3.6.1"
  }
 },
 "nbformat": 4,
 "nbformat_minor": 2
}
