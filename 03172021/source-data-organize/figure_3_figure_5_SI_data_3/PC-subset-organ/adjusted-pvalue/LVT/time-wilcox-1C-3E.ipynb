{
 "cells": [
  {
   "cell_type": "code",
   "execution_count": 1,
   "metadata": {},
   "outputs": [],
   "source": [
    "a <- read.csv(\"03172021-PC-time-LVT-M-F.csv\")"
   ]
  },
  {
   "cell_type": "code",
   "execution_count": 2,
   "metadata": {},
   "outputs": [
    {
     "data": {
      "text/html": [
       "<table>\n",
       "<thead><tr><th scope=col>filename</th><th scope=col>MouseID</th><th scope=col>Treatmentgroup</th><th scope=col>status</th><th scope=col>DPI</th><th scope=col>organ</th><th scope=col>well_position</th><th scope=col>plate</th><th scope=col>mass_400</th><th scope=col>mass_500</th><th scope=col>mass_600</th><th scope=col>mass_700</th><th scope=col>mass_800</th></tr></thead>\n",
       "<tbody>\n",
       "\t<tr><td>X501_Group1A_50dpi_LV_top_251_B_A1_P129.mzXML</td><td>501                                          </td><td>Group1A                                      </td><td>naive                                        </td><td>50                                           </td><td>LV_top                                       </td><td>A1                                           </td><td>P129                                         </td><td>0.08520376                                   </td><td>0.1142493                                    </td><td>0.003061546                                  </td><td>0.012707655                                  </td><td>0.003909090                                  </td></tr>\n",
       "\t<tr><td>X502_Group1A_50dpi_LV_top_252_B_A2_P129.mzXML</td><td>502                                          </td><td>Group1A                                      </td><td>naive                                        </td><td>50                                           </td><td>LV_top                                       </td><td>A2                                           </td><td>P129                                         </td><td>0.09628729                                   </td><td>0.1074087                                    </td><td>0.001904863                                  </td><td>0.009860000                                  </td><td>0.009529682                                  </td></tr>\n",
       "\t<tr><td>X503_Group1A_50dpi_LV_top_253_B_A3_P129.mzXML</td><td>503                                          </td><td>Group1A                                      </td><td>naive                                        </td><td>50                                           </td><td>LV_top                                       </td><td>A3                                           </td><td>P129                                         </td><td>0.09002464                                   </td><td>0.1240029                                    </td><td>0.002197743                                  </td><td>0.008374795                                  </td><td>0.009014913                                  </td></tr>\n",
       "\t<tr><td>X504_Group1A_50dpi_LV_top_254_B_A4_P129.mzXML</td><td>504                                          </td><td>Group1A                                      </td><td>naive                                        </td><td>50                                           </td><td>LV_top                                       </td><td>A4                                           </td><td>P129                                         </td><td>0.07956239                                   </td><td>0.1116952                                    </td><td>0.002840599                                  </td><td>0.009764016                                  </td><td>0.003003261                                  </td></tr>\n",
       "\t<tr><td>X505_Group1A_50dpi_LV_top_255_B_A5_P129.mzXML</td><td>505                                          </td><td>Group1A                                      </td><td>naive                                        </td><td>50                                           </td><td>LV_top                                       </td><td>A5                                           </td><td>P129                                         </td><td>0.07822488                                   </td><td>0.1064598                                    </td><td>0.002835057                                  </td><td>0.014087989                                  </td><td>0.006528662                                  </td></tr>\n",
       "\t<tr><td>X521_Group1A_50dpi_LV_top_256_B_A6_P129.mzXML</td><td>521                                          </td><td>Group1A                                      </td><td>naive                                        </td><td>50                                           </td><td>LV_top                                       </td><td>A6                                           </td><td>P129                                         </td><td>0.08037954                                   </td><td>0.1070000                                    </td><td>0.002012212                                  </td><td>0.011846743                                  </td><td>0.010792394                                  </td></tr>\n",
       "</tbody>\n",
       "</table>\n"
      ],
      "text/latex": [
       "\\begin{tabular}{r|lllllllllllll}\n",
       " filename & MouseID & Treatmentgroup & status & DPI & organ & well\\_position & plate & mass\\_400 & mass\\_500 & mass\\_600 & mass\\_700 & mass\\_800\\\\\n",
       "\\hline\n",
       "\t X501\\_Group1A\\_50dpi\\_LV\\_top\\_251\\_B\\_A1\\_P129.mzXML & 501                                                           & Group1A                                                       & naive                                                         & 50                                                            & LV\\_top                                                      & A1                                                            & P129                                                          & 0.08520376                                                    & 0.1142493                                                     & 0.003061546                                                   & 0.012707655                                                   & 0.003909090                                                  \\\\\n",
       "\t X502\\_Group1A\\_50dpi\\_LV\\_top\\_252\\_B\\_A2\\_P129.mzXML & 502                                                           & Group1A                                                       & naive                                                         & 50                                                            & LV\\_top                                                      & A2                                                            & P129                                                          & 0.09628729                                                    & 0.1074087                                                     & 0.001904863                                                   & 0.009860000                                                   & 0.009529682                                                  \\\\\n",
       "\t X503\\_Group1A\\_50dpi\\_LV\\_top\\_253\\_B\\_A3\\_P129.mzXML & 503                                                           & Group1A                                                       & naive                                                         & 50                                                            & LV\\_top                                                      & A3                                                            & P129                                                          & 0.09002464                                                    & 0.1240029                                                     & 0.002197743                                                   & 0.008374795                                                   & 0.009014913                                                  \\\\\n",
       "\t X504\\_Group1A\\_50dpi\\_LV\\_top\\_254\\_B\\_A4\\_P129.mzXML & 504                                                           & Group1A                                                       & naive                                                         & 50                                                            & LV\\_top                                                      & A4                                                            & P129                                                          & 0.07956239                                                    & 0.1116952                                                     & 0.002840599                                                   & 0.009764016                                                   & 0.003003261                                                  \\\\\n",
       "\t X505\\_Group1A\\_50dpi\\_LV\\_top\\_255\\_B\\_A5\\_P129.mzXML & 505                                                           & Group1A                                                       & naive                                                         & 50                                                            & LV\\_top                                                      & A5                                                            & P129                                                          & 0.07822488                                                    & 0.1064598                                                     & 0.002835057                                                   & 0.014087989                                                   & 0.006528662                                                  \\\\\n",
       "\t X521\\_Group1A\\_50dpi\\_LV\\_top\\_256\\_B\\_A6\\_P129.mzXML & 521                                                           & Group1A                                                       & naive                                                         & 50                                                            & LV\\_top                                                      & A6                                                            & P129                                                          & 0.08037954                                                    & 0.1070000                                                     & 0.002012212                                                   & 0.011846743                                                   & 0.010792394                                                  \\\\\n",
       "\\end{tabular}\n"
      ],
      "text/markdown": [
       "\n",
       "| filename | MouseID | Treatmentgroup | status | DPI | organ | well_position | plate | mass_400 | mass_500 | mass_600 | mass_700 | mass_800 |\n",
       "|---|---|---|---|---|---|---|---|---|---|---|---|---|\n",
       "| X501_Group1A_50dpi_LV_top_251_B_A1_P129.mzXML | 501                                           | Group1A                                       | naive                                         | 50                                            | LV_top                                        | A1                                            | P129                                          | 0.08520376                                    | 0.1142493                                     | 0.003061546                                   | 0.012707655                                   | 0.003909090                                   |\n",
       "| X502_Group1A_50dpi_LV_top_252_B_A2_P129.mzXML | 502                                           | Group1A                                       | naive                                         | 50                                            | LV_top                                        | A2                                            | P129                                          | 0.09628729                                    | 0.1074087                                     | 0.001904863                                   | 0.009860000                                   | 0.009529682                                   |\n",
       "| X503_Group1A_50dpi_LV_top_253_B_A3_P129.mzXML | 503                                           | Group1A                                       | naive                                         | 50                                            | LV_top                                        | A3                                            | P129                                          | 0.09002464                                    | 0.1240029                                     | 0.002197743                                   | 0.008374795                                   | 0.009014913                                   |\n",
       "| X504_Group1A_50dpi_LV_top_254_B_A4_P129.mzXML | 504                                           | Group1A                                       | naive                                         | 50                                            | LV_top                                        | A4                                            | P129                                          | 0.07956239                                    | 0.1116952                                     | 0.002840599                                   | 0.009764016                                   | 0.003003261                                   |\n",
       "| X505_Group1A_50dpi_LV_top_255_B_A5_P129.mzXML | 505                                           | Group1A                                       | naive                                         | 50                                            | LV_top                                        | A5                                            | P129                                          | 0.07822488                                    | 0.1064598                                     | 0.002835057                                   | 0.014087989                                   | 0.006528662                                   |\n",
       "| X521_Group1A_50dpi_LV_top_256_B_A6_P129.mzXML | 521                                           | Group1A                                       | naive                                         | 50                                            | LV_top                                        | A6                                            | P129                                          | 0.08037954                                    | 0.1070000                                     | 0.002012212                                   | 0.011846743                                   | 0.010792394                                   |\n",
       "\n"
      ],
      "text/plain": [
       "  filename                                      MouseID Treatmentgroup status\n",
       "1 X501_Group1A_50dpi_LV_top_251_B_A1_P129.mzXML 501     Group1A        naive \n",
       "2 X502_Group1A_50dpi_LV_top_252_B_A2_P129.mzXML 502     Group1A        naive \n",
       "3 X503_Group1A_50dpi_LV_top_253_B_A3_P129.mzXML 503     Group1A        naive \n",
       "4 X504_Group1A_50dpi_LV_top_254_B_A4_P129.mzXML 504     Group1A        naive \n",
       "5 X505_Group1A_50dpi_LV_top_255_B_A5_P129.mzXML 505     Group1A        naive \n",
       "6 X521_Group1A_50dpi_LV_top_256_B_A6_P129.mzXML 521     Group1A        naive \n",
       "  DPI organ  well_position plate mass_400   mass_500  mass_600    mass_700   \n",
       "1 50  LV_top A1            P129  0.08520376 0.1142493 0.003061546 0.012707655\n",
       "2 50  LV_top A2            P129  0.09628729 0.1074087 0.001904863 0.009860000\n",
       "3 50  LV_top A3            P129  0.09002464 0.1240029 0.002197743 0.008374795\n",
       "4 50  LV_top A4            P129  0.07956239 0.1116952 0.002840599 0.009764016\n",
       "5 50  LV_top A5            P129  0.07822488 0.1064598 0.002835057 0.014087989\n",
       "6 50  LV_top A6            P129  0.08037954 0.1070000 0.002012212 0.011846743\n",
       "  mass_800   \n",
       "1 0.003909090\n",
       "2 0.009529682\n",
       "3 0.009014913\n",
       "4 0.003003261\n",
       "5 0.006528662\n",
       "6 0.010792394"
      ]
     },
     "metadata": {},
     "output_type": "display_data"
    },
    {
     "data": {
      "text/html": [
       "<ol class=list-inline>\n",
       "\t<li>90</li>\n",
       "\t<li>13</li>\n",
       "</ol>\n"
      ],
      "text/latex": [
       "\\begin{enumerate*}\n",
       "\\item 90\n",
       "\\item 13\n",
       "\\end{enumerate*}\n"
      ],
      "text/markdown": [
       "1. 90\n",
       "2. 13\n",
       "\n",
       "\n"
      ],
      "text/plain": [
       "[1] 90 13"
      ]
     },
     "metadata": {},
     "output_type": "display_data"
    }
   ],
   "source": [
    "head(a)\n",
    "dim(a)"
   ]
  },
  {
   "cell_type": "code",
   "execution_count": 3,
   "metadata": {},
   "outputs": [
    {
     "data": {
      "text/html": [
       "<table>\n",
       "<thead><tr><th></th><th scope=col>filename</th><th scope=col>MouseID</th><th scope=col>Treatmentgroup</th><th scope=col>status</th><th scope=col>DPI</th><th scope=col>organ</th><th scope=col>well_position</th><th scope=col>plate</th><th scope=col>mass_400</th><th scope=col>mass_500</th><th scope=col>mass_600</th><th scope=col>mass_700</th><th scope=col>mass_800</th></tr></thead>\n",
       "<tbody>\n",
       "\t<tr><th scope=row>31</th><td>X511_Group1C_142dpi_LV_top_161_G_A1_P128.mzXML</td><td>511                                           </td><td>Group1C                                       </td><td>naive                                         </td><td>142                                           </td><td>LV_top                                        </td><td>A1                                            </td><td>P128                                          </td><td>0.06556544                                    </td><td>0.09573166                                    </td><td>0.002550993                                   </td><td>0.005125326                                   </td><td>0.004634527                                   </td></tr>\n",
       "\t<tr><th scope=row>32</th><td>X512_Group1C_142dpi_LV_top_162_G_A2_P128.mzXML</td><td>512                                           </td><td>Group1C                                       </td><td>naive                                         </td><td>142                                           </td><td>LV_top                                        </td><td>A2                                            </td><td>P128                                          </td><td>0.06089544                                    </td><td>0.08531598                                    </td><td>0.001798692                                   </td><td>0.002720909                                   </td><td>0.002227292                                   </td></tr>\n",
       "\t<tr><th scope=row>33</th><td>X513_Group1C_142dpi_LV_top_163_G_A3_P128.mzXML</td><td>513                                           </td><td>Group1C                                       </td><td>naive                                         </td><td>142                                           </td><td>LV_top                                        </td><td>A3                                            </td><td>P128                                          </td><td>0.06358250                                    </td><td>0.15053308                                    </td><td>0.004499186                                   </td><td>0.015100000                                   </td><td>0.023117551                                   </td></tr>\n",
       "\t<tr><th scope=row>34</th><td>X514_Group1C_142dpi_LV_top_164_G_A4_P128.mzXML</td><td>514                                           </td><td>Group1C                                       </td><td>naive                                         </td><td>142                                           </td><td>LV_top                                        </td><td>A4                                            </td><td>P128                                          </td><td>0.06126091                                    </td><td>0.06998223                                    </td><td>0.001322410                                   </td><td>0.001122947                                   </td><td>0.001015702                                   </td></tr>\n",
       "\t<tr><th scope=row>35</th><td>X515_Group1C_142dpi_LV_top_165_G_A5_P128.mzXML</td><td>515                                           </td><td>Group1C                                       </td><td>naive                                         </td><td>142                                           </td><td>LV_top                                        </td><td>A5                                            </td><td>P128                                          </td><td>0.09292099                                    </td><td>0.14679559                                    </td><td>0.003463710                                   </td><td>0.015600000                                   </td><td>0.019521396                                   </td></tr>\n",
       "\t<tr><th scope=row>36</th><td>X531_Group1C_142dpi_LV_top_166_G_A6_P128.mzXML</td><td>531                                           </td><td>Group1C                                       </td><td>naive                                         </td><td>142                                           </td><td>LV_top                                        </td><td>A6                                            </td><td>P128                                          </td><td>0.08085245                                    </td><td>0.14170698                                    </td><td>0.003290438                                   </td><td>0.013793976                                   </td><td>0.011966565                                   </td></tr>\n",
       "</tbody>\n",
       "</table>\n"
      ],
      "text/latex": [
       "\\begin{tabular}{r|lllllllllllll}\n",
       "  & filename & MouseID & Treatmentgroup & status & DPI & organ & well\\_position & plate & mass\\_400 & mass\\_500 & mass\\_600 & mass\\_700 & mass\\_800\\\\\n",
       "\\hline\n",
       "\t31 & X511\\_Group1C\\_142dpi\\_LV\\_top\\_161\\_G\\_A1\\_P128.mzXML & 511                                                            & Group1C                                                        & naive                                                          & 142                                                            & LV\\_top                                                       & A1                                                             & P128                                                           & 0.06556544                                                     & 0.09573166                                                     & 0.002550993                                                    & 0.005125326                                                    & 0.004634527                                                   \\\\\n",
       "\t32 & X512\\_Group1C\\_142dpi\\_LV\\_top\\_162\\_G\\_A2\\_P128.mzXML & 512                                                            & Group1C                                                        & naive                                                          & 142                                                            & LV\\_top                                                       & A2                                                             & P128                                                           & 0.06089544                                                     & 0.08531598                                                     & 0.001798692                                                    & 0.002720909                                                    & 0.002227292                                                   \\\\\n",
       "\t33 & X513\\_Group1C\\_142dpi\\_LV\\_top\\_163\\_G\\_A3\\_P128.mzXML & 513                                                            & Group1C                                                        & naive                                                          & 142                                                            & LV\\_top                                                       & A3                                                             & P128                                                           & 0.06358250                                                     & 0.15053308                                                     & 0.004499186                                                    & 0.015100000                                                    & 0.023117551                                                   \\\\\n",
       "\t34 & X514\\_Group1C\\_142dpi\\_LV\\_top\\_164\\_G\\_A4\\_P128.mzXML & 514                                                            & Group1C                                                        & naive                                                          & 142                                                            & LV\\_top                                                       & A4                                                             & P128                                                           & 0.06126091                                                     & 0.06998223                                                     & 0.001322410                                                    & 0.001122947                                                    & 0.001015702                                                   \\\\\n",
       "\t35 & X515\\_Group1C\\_142dpi\\_LV\\_top\\_165\\_G\\_A5\\_P128.mzXML & 515                                                            & Group1C                                                        & naive                                                          & 142                                                            & LV\\_top                                                       & A5                                                             & P128                                                           & 0.09292099                                                     & 0.14679559                                                     & 0.003463710                                                    & 0.015600000                                                    & 0.019521396                                                   \\\\\n",
       "\t36 & X531\\_Group1C\\_142dpi\\_LV\\_top\\_166\\_G\\_A6\\_P128.mzXML & 531                                                            & Group1C                                                        & naive                                                          & 142                                                            & LV\\_top                                                       & A6                                                             & P128                                                           & 0.08085245                                                     & 0.14170698                                                     & 0.003290438                                                    & 0.013793976                                                    & 0.011966565                                                   \\\\\n",
       "\\end{tabular}\n"
      ],
      "text/markdown": [
       "\n",
       "| <!--/--> | filename | MouseID | Treatmentgroup | status | DPI | organ | well_position | plate | mass_400 | mass_500 | mass_600 | mass_700 | mass_800 |\n",
       "|---|---|---|---|---|---|---|---|---|---|---|---|---|---|\n",
       "| 31 | X511_Group1C_142dpi_LV_top_161_G_A1_P128.mzXML | 511                                            | Group1C                                        | naive                                          | 142                                            | LV_top                                         | A1                                             | P128                                           | 0.06556544                                     | 0.09573166                                     | 0.002550993                                    | 0.005125326                                    | 0.004634527                                    |\n",
       "| 32 | X512_Group1C_142dpi_LV_top_162_G_A2_P128.mzXML | 512                                            | Group1C                                        | naive                                          | 142                                            | LV_top                                         | A2                                             | P128                                           | 0.06089544                                     | 0.08531598                                     | 0.001798692                                    | 0.002720909                                    | 0.002227292                                    |\n",
       "| 33 | X513_Group1C_142dpi_LV_top_163_G_A3_P128.mzXML | 513                                            | Group1C                                        | naive                                          | 142                                            | LV_top                                         | A3                                             | P128                                           | 0.06358250                                     | 0.15053308                                     | 0.004499186                                    | 0.015100000                                    | 0.023117551                                    |\n",
       "| 34 | X514_Group1C_142dpi_LV_top_164_G_A4_P128.mzXML | 514                                            | Group1C                                        | naive                                          | 142                                            | LV_top                                         | A4                                             | P128                                           | 0.06126091                                     | 0.06998223                                     | 0.001322410                                    | 0.001122947                                    | 0.001015702                                    |\n",
       "| 35 | X515_Group1C_142dpi_LV_top_165_G_A5_P128.mzXML | 515                                            | Group1C                                        | naive                                          | 142                                            | LV_top                                         | A5                                             | P128                                           | 0.09292099                                     | 0.14679559                                     | 0.003463710                                    | 0.015600000                                    | 0.019521396                                    |\n",
       "| 36 | X531_Group1C_142dpi_LV_top_166_G_A6_P128.mzXML | 531                                            | Group1C                                        | naive                                          | 142                                            | LV_top                                         | A6                                             | P128                                           | 0.08085245                                     | 0.14170698                                     | 0.003290438                                    | 0.013793976                                    | 0.011966565                                    |\n",
       "\n"
      ],
      "text/plain": [
       "   filename                                       MouseID Treatmentgroup status\n",
       "31 X511_Group1C_142dpi_LV_top_161_G_A1_P128.mzXML 511     Group1C        naive \n",
       "32 X512_Group1C_142dpi_LV_top_162_G_A2_P128.mzXML 512     Group1C        naive \n",
       "33 X513_Group1C_142dpi_LV_top_163_G_A3_P128.mzXML 513     Group1C        naive \n",
       "34 X514_Group1C_142dpi_LV_top_164_G_A4_P128.mzXML 514     Group1C        naive \n",
       "35 X515_Group1C_142dpi_LV_top_165_G_A5_P128.mzXML 515     Group1C        naive \n",
       "36 X531_Group1C_142dpi_LV_top_166_G_A6_P128.mzXML 531     Group1C        naive \n",
       "   DPI organ  well_position plate mass_400   mass_500   mass_600    mass_700   \n",
       "31 142 LV_top A1            P128  0.06556544 0.09573166 0.002550993 0.005125326\n",
       "32 142 LV_top A2            P128  0.06089544 0.08531598 0.001798692 0.002720909\n",
       "33 142 LV_top A3            P128  0.06358250 0.15053308 0.004499186 0.015100000\n",
       "34 142 LV_top A4            P128  0.06126091 0.06998223 0.001322410 0.001122947\n",
       "35 142 LV_top A5            P128  0.09292099 0.14679559 0.003463710 0.015600000\n",
       "36 142 LV_top A6            P128  0.08085245 0.14170698 0.003290438 0.013793976\n",
       "   mass_800   \n",
       "31 0.004634527\n",
       "32 0.002227292\n",
       "33 0.023117551\n",
       "34 0.001015702\n",
       "35 0.019521396\n",
       "36 0.011966565"
      ]
     },
     "metadata": {},
     "output_type": "display_data"
    },
    {
     "data": {
      "text/html": [
       "<ol class=list-inline>\n",
       "\t<li>30</li>\n",
       "\t<li>13</li>\n",
       "</ol>\n"
      ],
      "text/latex": [
       "\\begin{enumerate*}\n",
       "\\item 30\n",
       "\\item 13\n",
       "\\end{enumerate*}\n"
      ],
      "text/markdown": [
       "1. 30\n",
       "2. 13\n",
       "\n",
       "\n"
      ],
      "text/plain": [
       "[1] 30 13"
      ]
     },
     "metadata": {},
     "output_type": "display_data"
    }
   ],
   "source": [
    "features_pos<-droplevels(subset(a, a$Treatmentgroup==c(\"Group1C\")|a$Treatmentgroup==c(\"Group3E\")))\n",
    "head(features_pos)\n",
    "dim(features_pos)"
   ]
  },
  {
   "cell_type": "code",
   "execution_count": 4,
   "metadata": {
    "scrolled": false
   },
   "outputs": [
    {
     "data": {
      "text/html": [
       "<table>\n",
       "<thead><tr><th></th><th scope=col>mass_400</th><th scope=col>mass_500</th><th scope=col>mass_600</th><th scope=col>mass_700</th><th scope=col>mass_800</th></tr></thead>\n",
       "<tbody>\n",
       "\t<tr><th scope=row>31</th><td>0.06556544 </td><td>0.09573166 </td><td>0.002550993</td><td>0.005125326</td><td>0.004634527</td></tr>\n",
       "\t<tr><th scope=row>32</th><td>0.06089544 </td><td>0.08531598 </td><td>0.001798692</td><td>0.002720909</td><td>0.002227292</td></tr>\n",
       "\t<tr><th scope=row>33</th><td>0.06358250 </td><td>0.15053308 </td><td>0.004499186</td><td>0.015100000</td><td>0.023117551</td></tr>\n",
       "\t<tr><th scope=row>34</th><td>0.06126091 </td><td>0.06998223 </td><td>0.001322410</td><td>0.001122947</td><td>0.001015702</td></tr>\n",
       "\t<tr><th scope=row>35</th><td>0.09292099 </td><td>0.14679559 </td><td>0.003463710</td><td>0.015600000</td><td>0.019521396</td></tr>\n",
       "\t<tr><th scope=row>36</th><td>0.08085245 </td><td>0.14170698 </td><td>0.003290438</td><td>0.013793976</td><td>0.011966565</td></tr>\n",
       "</tbody>\n",
       "</table>\n"
      ],
      "text/latex": [
       "\\begin{tabular}{r|lllll}\n",
       "  & mass\\_400 & mass\\_500 & mass\\_600 & mass\\_700 & mass\\_800\\\\\n",
       "\\hline\n",
       "\t31 & 0.06556544  & 0.09573166  & 0.002550993 & 0.005125326 & 0.004634527\\\\\n",
       "\t32 & 0.06089544  & 0.08531598  & 0.001798692 & 0.002720909 & 0.002227292\\\\\n",
       "\t33 & 0.06358250  & 0.15053308  & 0.004499186 & 0.015100000 & 0.023117551\\\\\n",
       "\t34 & 0.06126091  & 0.06998223  & 0.001322410 & 0.001122947 & 0.001015702\\\\\n",
       "\t35 & 0.09292099  & 0.14679559  & 0.003463710 & 0.015600000 & 0.019521396\\\\\n",
       "\t36 & 0.08085245  & 0.14170698  & 0.003290438 & 0.013793976 & 0.011966565\\\\\n",
       "\\end{tabular}\n"
      ],
      "text/markdown": [
       "\n",
       "| <!--/--> | mass_400 | mass_500 | mass_600 | mass_700 | mass_800 |\n",
       "|---|---|---|---|---|---|\n",
       "| 31 | 0.06556544  | 0.09573166  | 0.002550993 | 0.005125326 | 0.004634527 |\n",
       "| 32 | 0.06089544  | 0.08531598  | 0.001798692 | 0.002720909 | 0.002227292 |\n",
       "| 33 | 0.06358250  | 0.15053308  | 0.004499186 | 0.015100000 | 0.023117551 |\n",
       "| 34 | 0.06126091  | 0.06998223  | 0.001322410 | 0.001122947 | 0.001015702 |\n",
       "| 35 | 0.09292099  | 0.14679559  | 0.003463710 | 0.015600000 | 0.019521396 |\n",
       "| 36 | 0.08085245  | 0.14170698  | 0.003290438 | 0.013793976 | 0.011966565 |\n",
       "\n"
      ],
      "text/plain": [
       "   mass_400   mass_500   mass_600    mass_700    mass_800   \n",
       "31 0.06556544 0.09573166 0.002550993 0.005125326 0.004634527\n",
       "32 0.06089544 0.08531598 0.001798692 0.002720909 0.002227292\n",
       "33 0.06358250 0.15053308 0.004499186 0.015100000 0.023117551\n",
       "34 0.06126091 0.06998223 0.001322410 0.001122947 0.001015702\n",
       "35 0.09292099 0.14679559 0.003463710 0.015600000 0.019521396\n",
       "36 0.08085245 0.14170698 0.003290438 0.013793976 0.011966565"
      ]
     },
     "metadata": {},
     "output_type": "display_data"
    },
    {
     "data": {
      "text/html": [
       "<dl class=dl-horizontal>\n",
       "\t<dt>mass_400</dt>\n",
       "\t\t<dd>1</dd>\n",
       "\t<dt>mass_500</dt>\n",
       "\t\t<dd>2</dd>\n",
       "\t<dt>mass_600</dt>\n",
       "\t\t<dd>3</dd>\n",
       "\t<dt>mass_700</dt>\n",
       "\t\t<dd>4</dd>\n",
       "\t<dt>mass_800</dt>\n",
       "\t\t<dd>5</dd>\n",
       "</dl>\n"
      ],
      "text/latex": [
       "\\begin{description*}\n",
       "\\item[mass\\textbackslash{}\\_400] 1\n",
       "\\item[mass\\textbackslash{}\\_500] 2\n",
       "\\item[mass\\textbackslash{}\\_600] 3\n",
       "\\item[mass\\textbackslash{}\\_700] 4\n",
       "\\item[mass\\textbackslash{}\\_800] 5\n",
       "\\end{description*}\n"
      ],
      "text/markdown": [
       "mass_400\n",
       ":   1mass_500\n",
       ":   2mass_600\n",
       ":   3mass_700\n",
       ":   4mass_800\n",
       ":   5\n",
       "\n"
      ],
      "text/plain": [
       "mass_400 mass_500 mass_600 mass_700 mass_800 \n",
       "       1        2        3        4        5 "
      ]
     },
     "metadata": {},
     "output_type": "display_data"
    },
    {
     "data": {
      "text/html": [
       "<table>\n",
       "<thead><tr><th></th><th scope=col>mass_400</th><th scope=col>mass_500</th><th scope=col>mass_600</th><th scope=col>mass_700</th><th scope=col>mass_800</th></tr></thead>\n",
       "<tbody>\n",
       "\t<tr><th scope=row>31</th><td>0.06556544 </td><td>0.09573166 </td><td>0.002550993</td><td>0.005125326</td><td>0.004634527</td></tr>\n",
       "\t<tr><th scope=row>32</th><td>0.06089544 </td><td>0.08531598 </td><td>0.001798692</td><td>0.002720909</td><td>0.002227292</td></tr>\n",
       "\t<tr><th scope=row>33</th><td>0.06358250 </td><td>0.15053308 </td><td>0.004499186</td><td>0.015100000</td><td>0.023117551</td></tr>\n",
       "\t<tr><th scope=row>34</th><td>0.06126091 </td><td>0.06998223 </td><td>0.001322410</td><td>0.001122947</td><td>0.001015702</td></tr>\n",
       "\t<tr><th scope=row>35</th><td>0.09292099 </td><td>0.14679559 </td><td>0.003463710</td><td>0.015600000</td><td>0.019521396</td></tr>\n",
       "\t<tr><th scope=row>36</th><td>0.08085245 </td><td>0.14170698 </td><td>0.003290438</td><td>0.013793976</td><td>0.011966565</td></tr>\n",
       "\t<tr><th scope=row>37</th><td>0.06617964 </td><td>0.09732486 </td><td>0.002248258</td><td>0.005990147</td><td>0.008215334</td></tr>\n",
       "\t<tr><th scope=row>38</th><td>0.07325732 </td><td>0.11891559 </td><td>0.001863646</td><td>0.013500000</td><td>0.012884615</td></tr>\n",
       "\t<tr><th scope=row>39</th><td>0.04335837 </td><td>0.06906421 </td><td>0.001902407</td><td>0.016636705</td><td>0.006215393</td></tr>\n",
       "\t<tr><th scope=row>40</th><td>0.04001047 </td><td>0.06406205 </td><td>0.000720707</td><td>0.003210069</td><td>0.001953230</td></tr>\n",
       "\t<tr><th scope=row>41</th><td>0.06379014 </td><td>0.09480000 </td><td>0.002165375</td><td>0.015541595</td><td>0.005689063</td></tr>\n",
       "\t<tr><th scope=row>42</th><td>0.05818840 </td><td>0.07474114 </td><td>0.001378898</td><td>0.001601977</td><td>0.001682853</td></tr>\n",
       "\t<tr><th scope=row>43</th><td>0.08639631 </td><td>0.12010679 </td><td>0.002203362</td><td>0.023472311</td><td>0.036662718</td></tr>\n",
       "\t<tr><th scope=row>44</th><td>0.07652982 </td><td>0.11181941 </td><td>0.001244093</td><td>0.007312124</td><td>0.005641256</td></tr>\n",
       "\t<tr><th scope=row>45</th><td>0.07281499 </td><td>0.14099352 </td><td>0.002302861</td><td>0.019800000</td><td>0.027806219</td></tr>\n",
       "\t<tr><th scope=row>76</th><td>0.05917028 </td><td>0.14464680 </td><td>0.002258752</td><td>0.019965924</td><td>0.024196529</td></tr>\n",
       "\t<tr><th scope=row>77</th><td>0.06989135 </td><td>0.08715721 </td><td>0.002073981</td><td>0.015894947</td><td>0.011310604</td></tr>\n",
       "\t<tr><th scope=row>78</th><td>0.08183052 </td><td>0.15272232 </td><td>0.001671131</td><td>0.016177212</td><td>0.017405851</td></tr>\n",
       "\t<tr><th scope=row>79</th><td>0.04360125 </td><td>0.04250310 </td><td>0.001427776</td><td>0.006811321</td><td>0.005660542</td></tr>\n",
       "\t<tr><th scope=row>80</th><td>0.05866167 </td><td>0.09040000 </td><td>0.002172306</td><td>0.017464916</td><td>0.016216802</td></tr>\n",
       "\t<tr><th scope=row>81</th><td>0.04712801 </td><td>0.11665969 </td><td>0.002499683</td><td>0.042364017</td><td>0.010734698</td></tr>\n",
       "\t<tr><th scope=row>82</th><td>0.07043444 </td><td>0.11973206 </td><td>0.001644857</td><td>0.021453963</td><td>0.017635850</td></tr>\n",
       "\t<tr><th scope=row>83</th><td>0.05413353 </td><td>0.07344814 </td><td>0.000833493</td><td>0.011407927</td><td>0.011522142</td></tr>\n",
       "\t<tr><th scope=row>84</th><td>0.04586048 </td><td>0.05156945 </td><td>0.002455266</td><td>0.009980000</td><td>0.016324491</td></tr>\n",
       "\t<tr><th scope=row>85</th><td>0.01371803 </td><td>0.02741810 </td><td>0.000596732</td><td>0.003261780</td><td>0.000062300</td></tr>\n",
       "\t<tr><th scope=row>86</th><td>0.05800626 </td><td>0.08357368 </td><td>0.001697932</td><td>0.014000963</td><td>0.006949185</td></tr>\n",
       "\t<tr><th scope=row>87</th><td>0.06347510 </td><td>0.09227679 </td><td>0.001440442</td><td>0.014486080</td><td>0.009926635</td></tr>\n",
       "\t<tr><th scope=row>88</th><td>0.04217005 </td><td>0.05615664 </td><td>0.001133357</td><td>0.024891425</td><td>0.016726286</td></tr>\n",
       "\t<tr><th scope=row>89</th><td>0.04636588 </td><td>0.06909962 </td><td>0.002317175</td><td>0.017519673</td><td>0.005500732</td></tr>\n",
       "\t<tr><th scope=row>90</th><td>0.04544662 </td><td>0.05410000 </td><td>0.002026782</td><td>0.022041234</td><td>0.032221886</td></tr>\n",
       "</tbody>\n",
       "</table>\n"
      ],
      "text/latex": [
       "\\begin{tabular}{r|lllll}\n",
       "  & mass\\_400 & mass\\_500 & mass\\_600 & mass\\_700 & mass\\_800\\\\\n",
       "\\hline\n",
       "\t31 & 0.06556544  & 0.09573166  & 0.002550993 & 0.005125326 & 0.004634527\\\\\n",
       "\t32 & 0.06089544  & 0.08531598  & 0.001798692 & 0.002720909 & 0.002227292\\\\\n",
       "\t33 & 0.06358250  & 0.15053308  & 0.004499186 & 0.015100000 & 0.023117551\\\\\n",
       "\t34 & 0.06126091  & 0.06998223  & 0.001322410 & 0.001122947 & 0.001015702\\\\\n",
       "\t35 & 0.09292099  & 0.14679559  & 0.003463710 & 0.015600000 & 0.019521396\\\\\n",
       "\t36 & 0.08085245  & 0.14170698  & 0.003290438 & 0.013793976 & 0.011966565\\\\\n",
       "\t37 & 0.06617964  & 0.09732486  & 0.002248258 & 0.005990147 & 0.008215334\\\\\n",
       "\t38 & 0.07325732  & 0.11891559  & 0.001863646 & 0.013500000 & 0.012884615\\\\\n",
       "\t39 & 0.04335837  & 0.06906421  & 0.001902407 & 0.016636705 & 0.006215393\\\\\n",
       "\t40 & 0.04001047  & 0.06406205  & 0.000720707 & 0.003210069 & 0.001953230\\\\\n",
       "\t41 & 0.06379014  & 0.09480000  & 0.002165375 & 0.015541595 & 0.005689063\\\\\n",
       "\t42 & 0.05818840  & 0.07474114  & 0.001378898 & 0.001601977 & 0.001682853\\\\\n",
       "\t43 & 0.08639631  & 0.12010679  & 0.002203362 & 0.023472311 & 0.036662718\\\\\n",
       "\t44 & 0.07652982  & 0.11181941  & 0.001244093 & 0.007312124 & 0.005641256\\\\\n",
       "\t45 & 0.07281499  & 0.14099352  & 0.002302861 & 0.019800000 & 0.027806219\\\\\n",
       "\t76 & 0.05917028  & 0.14464680  & 0.002258752 & 0.019965924 & 0.024196529\\\\\n",
       "\t77 & 0.06989135  & 0.08715721  & 0.002073981 & 0.015894947 & 0.011310604\\\\\n",
       "\t78 & 0.08183052  & 0.15272232  & 0.001671131 & 0.016177212 & 0.017405851\\\\\n",
       "\t79 & 0.04360125  & 0.04250310  & 0.001427776 & 0.006811321 & 0.005660542\\\\\n",
       "\t80 & 0.05866167  & 0.09040000  & 0.002172306 & 0.017464916 & 0.016216802\\\\\n",
       "\t81 & 0.04712801  & 0.11665969  & 0.002499683 & 0.042364017 & 0.010734698\\\\\n",
       "\t82 & 0.07043444  & 0.11973206  & 0.001644857 & 0.021453963 & 0.017635850\\\\\n",
       "\t83 & 0.05413353  & 0.07344814  & 0.000833493 & 0.011407927 & 0.011522142\\\\\n",
       "\t84 & 0.04586048  & 0.05156945  & 0.002455266 & 0.009980000 & 0.016324491\\\\\n",
       "\t85 & 0.01371803  & 0.02741810  & 0.000596732 & 0.003261780 & 0.000062300\\\\\n",
       "\t86 & 0.05800626  & 0.08357368  & 0.001697932 & 0.014000963 & 0.006949185\\\\\n",
       "\t87 & 0.06347510  & 0.09227679  & 0.001440442 & 0.014486080 & 0.009926635\\\\\n",
       "\t88 & 0.04217005  & 0.05615664  & 0.001133357 & 0.024891425 & 0.016726286\\\\\n",
       "\t89 & 0.04636588  & 0.06909962  & 0.002317175 & 0.017519673 & 0.005500732\\\\\n",
       "\t90 & 0.04544662  & 0.05410000  & 0.002026782 & 0.022041234 & 0.032221886\\\\\n",
       "\\end{tabular}\n"
      ],
      "text/markdown": [
       "\n",
       "| <!--/--> | mass_400 | mass_500 | mass_600 | mass_700 | mass_800 |\n",
       "|---|---|---|---|---|---|\n",
       "| 31 | 0.06556544  | 0.09573166  | 0.002550993 | 0.005125326 | 0.004634527 |\n",
       "| 32 | 0.06089544  | 0.08531598  | 0.001798692 | 0.002720909 | 0.002227292 |\n",
       "| 33 | 0.06358250  | 0.15053308  | 0.004499186 | 0.015100000 | 0.023117551 |\n",
       "| 34 | 0.06126091  | 0.06998223  | 0.001322410 | 0.001122947 | 0.001015702 |\n",
       "| 35 | 0.09292099  | 0.14679559  | 0.003463710 | 0.015600000 | 0.019521396 |\n",
       "| 36 | 0.08085245  | 0.14170698  | 0.003290438 | 0.013793976 | 0.011966565 |\n",
       "| 37 | 0.06617964  | 0.09732486  | 0.002248258 | 0.005990147 | 0.008215334 |\n",
       "| 38 | 0.07325732  | 0.11891559  | 0.001863646 | 0.013500000 | 0.012884615 |\n",
       "| 39 | 0.04335837  | 0.06906421  | 0.001902407 | 0.016636705 | 0.006215393 |\n",
       "| 40 | 0.04001047  | 0.06406205  | 0.000720707 | 0.003210069 | 0.001953230 |\n",
       "| 41 | 0.06379014  | 0.09480000  | 0.002165375 | 0.015541595 | 0.005689063 |\n",
       "| 42 | 0.05818840  | 0.07474114  | 0.001378898 | 0.001601977 | 0.001682853 |\n",
       "| 43 | 0.08639631  | 0.12010679  | 0.002203362 | 0.023472311 | 0.036662718 |\n",
       "| 44 | 0.07652982  | 0.11181941  | 0.001244093 | 0.007312124 | 0.005641256 |\n",
       "| 45 | 0.07281499  | 0.14099352  | 0.002302861 | 0.019800000 | 0.027806219 |\n",
       "| 76 | 0.05917028  | 0.14464680  | 0.002258752 | 0.019965924 | 0.024196529 |\n",
       "| 77 | 0.06989135  | 0.08715721  | 0.002073981 | 0.015894947 | 0.011310604 |\n",
       "| 78 | 0.08183052  | 0.15272232  | 0.001671131 | 0.016177212 | 0.017405851 |\n",
       "| 79 | 0.04360125  | 0.04250310  | 0.001427776 | 0.006811321 | 0.005660542 |\n",
       "| 80 | 0.05866167  | 0.09040000  | 0.002172306 | 0.017464916 | 0.016216802 |\n",
       "| 81 | 0.04712801  | 0.11665969  | 0.002499683 | 0.042364017 | 0.010734698 |\n",
       "| 82 | 0.07043444  | 0.11973206  | 0.001644857 | 0.021453963 | 0.017635850 |\n",
       "| 83 | 0.05413353  | 0.07344814  | 0.000833493 | 0.011407927 | 0.011522142 |\n",
       "| 84 | 0.04586048  | 0.05156945  | 0.002455266 | 0.009980000 | 0.016324491 |\n",
       "| 85 | 0.01371803  | 0.02741810  | 0.000596732 | 0.003261780 | 0.000062300 |\n",
       "| 86 | 0.05800626  | 0.08357368  | 0.001697932 | 0.014000963 | 0.006949185 |\n",
       "| 87 | 0.06347510  | 0.09227679  | 0.001440442 | 0.014486080 | 0.009926635 |\n",
       "| 88 | 0.04217005  | 0.05615664  | 0.001133357 | 0.024891425 | 0.016726286 |\n",
       "| 89 | 0.04636588  | 0.06909962  | 0.002317175 | 0.017519673 | 0.005500732 |\n",
       "| 90 | 0.04544662  | 0.05410000  | 0.002026782 | 0.022041234 | 0.032221886 |\n",
       "\n"
      ],
      "text/plain": [
       "   mass_400   mass_500   mass_600    mass_700    mass_800   \n",
       "31 0.06556544 0.09573166 0.002550993 0.005125326 0.004634527\n",
       "32 0.06089544 0.08531598 0.001798692 0.002720909 0.002227292\n",
       "33 0.06358250 0.15053308 0.004499186 0.015100000 0.023117551\n",
       "34 0.06126091 0.06998223 0.001322410 0.001122947 0.001015702\n",
       "35 0.09292099 0.14679559 0.003463710 0.015600000 0.019521396\n",
       "36 0.08085245 0.14170698 0.003290438 0.013793976 0.011966565\n",
       "37 0.06617964 0.09732486 0.002248258 0.005990147 0.008215334\n",
       "38 0.07325732 0.11891559 0.001863646 0.013500000 0.012884615\n",
       "39 0.04335837 0.06906421 0.001902407 0.016636705 0.006215393\n",
       "40 0.04001047 0.06406205 0.000720707 0.003210069 0.001953230\n",
       "41 0.06379014 0.09480000 0.002165375 0.015541595 0.005689063\n",
       "42 0.05818840 0.07474114 0.001378898 0.001601977 0.001682853\n",
       "43 0.08639631 0.12010679 0.002203362 0.023472311 0.036662718\n",
       "44 0.07652982 0.11181941 0.001244093 0.007312124 0.005641256\n",
       "45 0.07281499 0.14099352 0.002302861 0.019800000 0.027806219\n",
       "76 0.05917028 0.14464680 0.002258752 0.019965924 0.024196529\n",
       "77 0.06989135 0.08715721 0.002073981 0.015894947 0.011310604\n",
       "78 0.08183052 0.15272232 0.001671131 0.016177212 0.017405851\n",
       "79 0.04360125 0.04250310 0.001427776 0.006811321 0.005660542\n",
       "80 0.05866167 0.09040000 0.002172306 0.017464916 0.016216802\n",
       "81 0.04712801 0.11665969 0.002499683 0.042364017 0.010734698\n",
       "82 0.07043444 0.11973206 0.001644857 0.021453963 0.017635850\n",
       "83 0.05413353 0.07344814 0.000833493 0.011407927 0.011522142\n",
       "84 0.04586048 0.05156945 0.002455266 0.009980000 0.016324491\n",
       "85 0.01371803 0.02741810 0.000596732 0.003261780 0.000062300\n",
       "86 0.05800626 0.08357368 0.001697932 0.014000963 0.006949185\n",
       "87 0.06347510 0.09227679 0.001440442 0.014486080 0.009926635\n",
       "88 0.04217005 0.05615664 0.001133357 0.024891425 0.016726286\n",
       "89 0.04636588 0.06909962 0.002317175 0.017519673 0.005500732\n",
       "90 0.04544662 0.05410000 0.002026782 0.022041234 0.032221886"
      ]
     },
     "metadata": {},
     "output_type": "display_data"
    },
    {
     "data": {
      "text/html": [
       "<table>\n",
       "<thead><tr><th></th><th scope=col>filename</th><th scope=col>MouseID</th><th scope=col>Treatmentgroup</th><th scope=col>status</th><th scope=col>DPI</th><th scope=col>organ</th><th scope=col>well_position</th><th scope=col>plate</th><th scope=col>mass_400</th><th scope=col>mass_500</th><th scope=col>mass_600</th><th scope=col>mass_700</th><th scope=col>mass_800</th></tr></thead>\n",
       "<tbody>\n",
       "\t<tr><th scope=row>31</th><td>X511_Group1C_142dpi_LV_top_161_G_A1_P128.mzXML</td><td>511                                           </td><td>Group1C                                       </td><td>naive                                         </td><td>142                                           </td><td>LV_top                                        </td><td>A1                                            </td><td>P128                                          </td><td>0.06556544                                    </td><td>0.09573166                                    </td><td>0.002550993                                   </td><td>0.005125326                                   </td><td>0.004634527                                   </td></tr>\n",
       "\t<tr><th scope=row>32</th><td>X512_Group1C_142dpi_LV_top_162_G_A2_P128.mzXML</td><td>512                                           </td><td>Group1C                                       </td><td>naive                                         </td><td>142                                           </td><td>LV_top                                        </td><td>A2                                            </td><td>P128                                          </td><td>0.06089544                                    </td><td>0.08531598                                    </td><td>0.001798692                                   </td><td>0.002720909                                   </td><td>0.002227292                                   </td></tr>\n",
       "\t<tr><th scope=row>33</th><td>X513_Group1C_142dpi_LV_top_163_G_A3_P128.mzXML</td><td>513                                           </td><td>Group1C                                       </td><td>naive                                         </td><td>142                                           </td><td>LV_top                                        </td><td>A3                                            </td><td>P128                                          </td><td>0.06358250                                    </td><td>0.15053308                                    </td><td>0.004499186                                   </td><td>0.015100000                                   </td><td>0.023117551                                   </td></tr>\n",
       "\t<tr><th scope=row>34</th><td>X514_Group1C_142dpi_LV_top_164_G_A4_P128.mzXML</td><td>514                                           </td><td>Group1C                                       </td><td>naive                                         </td><td>142                                           </td><td>LV_top                                        </td><td>A4                                            </td><td>P128                                          </td><td>0.06126091                                    </td><td>0.06998223                                    </td><td>0.001322410                                   </td><td>0.001122947                                   </td><td>0.001015702                                   </td></tr>\n",
       "\t<tr><th scope=row>35</th><td>X515_Group1C_142dpi_LV_top_165_G_A5_P128.mzXML</td><td>515                                           </td><td>Group1C                                       </td><td>naive                                         </td><td>142                                           </td><td>LV_top                                        </td><td>A5                                            </td><td>P128                                          </td><td>0.09292099                                    </td><td>0.14679559                                    </td><td>0.003463710                                   </td><td>0.015600000                                   </td><td>0.019521396                                   </td></tr>\n",
       "\t<tr><th scope=row>36</th><td>X531_Group1C_142dpi_LV_top_166_G_A6_P128.mzXML</td><td>531                                           </td><td>Group1C                                       </td><td>naive                                         </td><td>142                                           </td><td>LV_top                                        </td><td>A6                                            </td><td>P128                                          </td><td>0.08085245                                    </td><td>0.14170698                                    </td><td>0.003290438                                   </td><td>0.013793976                                   </td><td>0.011966565                                   </td></tr>\n",
       "</tbody>\n",
       "</table>\n"
      ],
      "text/latex": [
       "\\begin{tabular}{r|lllllllllllll}\n",
       "  & filename & MouseID & Treatmentgroup & status & DPI & organ & well\\_position & plate & mass\\_400 & mass\\_500 & mass\\_600 & mass\\_700 & mass\\_800\\\\\n",
       "\\hline\n",
       "\t31 & X511\\_Group1C\\_142dpi\\_LV\\_top\\_161\\_G\\_A1\\_P128.mzXML & 511                                                            & Group1C                                                        & naive                                                          & 142                                                            & LV\\_top                                                       & A1                                                             & P128                                                           & 0.06556544                                                     & 0.09573166                                                     & 0.002550993                                                    & 0.005125326                                                    & 0.004634527                                                   \\\\\n",
       "\t32 & X512\\_Group1C\\_142dpi\\_LV\\_top\\_162\\_G\\_A2\\_P128.mzXML & 512                                                            & Group1C                                                        & naive                                                          & 142                                                            & LV\\_top                                                       & A2                                                             & P128                                                           & 0.06089544                                                     & 0.08531598                                                     & 0.001798692                                                    & 0.002720909                                                    & 0.002227292                                                   \\\\\n",
       "\t33 & X513\\_Group1C\\_142dpi\\_LV\\_top\\_163\\_G\\_A3\\_P128.mzXML & 513                                                            & Group1C                                                        & naive                                                          & 142                                                            & LV\\_top                                                       & A3                                                             & P128                                                           & 0.06358250                                                     & 0.15053308                                                     & 0.004499186                                                    & 0.015100000                                                    & 0.023117551                                                   \\\\\n",
       "\t34 & X514\\_Group1C\\_142dpi\\_LV\\_top\\_164\\_G\\_A4\\_P128.mzXML & 514                                                            & Group1C                                                        & naive                                                          & 142                                                            & LV\\_top                                                       & A4                                                             & P128                                                           & 0.06126091                                                     & 0.06998223                                                     & 0.001322410                                                    & 0.001122947                                                    & 0.001015702                                                   \\\\\n",
       "\t35 & X515\\_Group1C\\_142dpi\\_LV\\_top\\_165\\_G\\_A5\\_P128.mzXML & 515                                                            & Group1C                                                        & naive                                                          & 142                                                            & LV\\_top                                                       & A5                                                             & P128                                                           & 0.09292099                                                     & 0.14679559                                                     & 0.003463710                                                    & 0.015600000                                                    & 0.019521396                                                   \\\\\n",
       "\t36 & X531\\_Group1C\\_142dpi\\_LV\\_top\\_166\\_G\\_A6\\_P128.mzXML & 531                                                            & Group1C                                                        & naive                                                          & 142                                                            & LV\\_top                                                       & A6                                                             & P128                                                           & 0.08085245                                                     & 0.14170698                                                     & 0.003290438                                                    & 0.013793976                                                    & 0.011966565                                                   \\\\\n",
       "\\end{tabular}\n"
      ],
      "text/markdown": [
       "\n",
       "| <!--/--> | filename | MouseID | Treatmentgroup | status | DPI | organ | well_position | plate | mass_400 | mass_500 | mass_600 | mass_700 | mass_800 |\n",
       "|---|---|---|---|---|---|---|---|---|---|---|---|---|---|\n",
       "| 31 | X511_Group1C_142dpi_LV_top_161_G_A1_P128.mzXML | 511                                            | Group1C                                        | naive                                          | 142                                            | LV_top                                         | A1                                             | P128                                           | 0.06556544                                     | 0.09573166                                     | 0.002550993                                    | 0.005125326                                    | 0.004634527                                    |\n",
       "| 32 | X512_Group1C_142dpi_LV_top_162_G_A2_P128.mzXML | 512                                            | Group1C                                        | naive                                          | 142                                            | LV_top                                         | A2                                             | P128                                           | 0.06089544                                     | 0.08531598                                     | 0.001798692                                    | 0.002720909                                    | 0.002227292                                    |\n",
       "| 33 | X513_Group1C_142dpi_LV_top_163_G_A3_P128.mzXML | 513                                            | Group1C                                        | naive                                          | 142                                            | LV_top                                         | A3                                             | P128                                           | 0.06358250                                     | 0.15053308                                     | 0.004499186                                    | 0.015100000                                    | 0.023117551                                    |\n",
       "| 34 | X514_Group1C_142dpi_LV_top_164_G_A4_P128.mzXML | 514                                            | Group1C                                        | naive                                          | 142                                            | LV_top                                         | A4                                             | P128                                           | 0.06126091                                     | 0.06998223                                     | 0.001322410                                    | 0.001122947                                    | 0.001015702                                    |\n",
       "| 35 | X515_Group1C_142dpi_LV_top_165_G_A5_P128.mzXML | 515                                            | Group1C                                        | naive                                          | 142                                            | LV_top                                         | A5                                             | P128                                           | 0.09292099                                     | 0.14679559                                     | 0.003463710                                    | 0.015600000                                    | 0.019521396                                    |\n",
       "| 36 | X531_Group1C_142dpi_LV_top_166_G_A6_P128.mzXML | 531                                            | Group1C                                        | naive                                          | 142                                            | LV_top                                         | A6                                             | P128                                           | 0.08085245                                     | 0.14170698                                     | 0.003290438                                    | 0.013793976                                    | 0.011966565                                    |\n",
       "\n"
      ],
      "text/plain": [
       "   filename                                       MouseID Treatmentgroup status\n",
       "31 X511_Group1C_142dpi_LV_top_161_G_A1_P128.mzXML 511     Group1C        naive \n",
       "32 X512_Group1C_142dpi_LV_top_162_G_A2_P128.mzXML 512     Group1C        naive \n",
       "33 X513_Group1C_142dpi_LV_top_163_G_A3_P128.mzXML 513     Group1C        naive \n",
       "34 X514_Group1C_142dpi_LV_top_164_G_A4_P128.mzXML 514     Group1C        naive \n",
       "35 X515_Group1C_142dpi_LV_top_165_G_A5_P128.mzXML 515     Group1C        naive \n",
       "36 X531_Group1C_142dpi_LV_top_166_G_A6_P128.mzXML 531     Group1C        naive \n",
       "   DPI organ  well_position plate mass_400   mass_500   mass_600    mass_700   \n",
       "31 142 LV_top A1            P128  0.06556544 0.09573166 0.002550993 0.005125326\n",
       "32 142 LV_top A2            P128  0.06089544 0.08531598 0.001798692 0.002720909\n",
       "33 142 LV_top A3            P128  0.06358250 0.15053308 0.004499186 0.015100000\n",
       "34 142 LV_top A4            P128  0.06126091 0.06998223 0.001322410 0.001122947\n",
       "35 142 LV_top A5            P128  0.09292099 0.14679559 0.003463710 0.015600000\n",
       "36 142 LV_top A6            P128  0.08085245 0.14170698 0.003290438 0.013793976\n",
       "   mass_800   \n",
       "31 0.004634527\n",
       "32 0.002227292\n",
       "33 0.023117551\n",
       "34 0.001015702\n",
       "35 0.019521396\n",
       "36 0.011966565"
      ]
     },
     "metadata": {},
     "output_type": "display_data"
    },
    {
     "data": {
      "text/html": [
       "<ol class=list-inline>\n",
       "\t<li>30</li>\n",
       "\t<li>13</li>\n",
       "</ol>\n"
      ],
      "text/latex": [
       "\\begin{enumerate*}\n",
       "\\item 30\n",
       "\\item 13\n",
       "\\end{enumerate*}\n"
      ],
      "text/markdown": [
       "1. 30\n",
       "2. 13\n",
       "\n",
       "\n"
      ],
      "text/plain": [
       "[1] 30 13"
      ]
     },
     "metadata": {},
     "output_type": "display_data"
    },
    {
     "data": {
      "text/html": [
       "<ol class=list-inline>\n",
       "\t<li>30</li>\n",
       "\t<li>5</li>\n",
       "</ol>\n"
      ],
      "text/latex": [
       "\\begin{enumerate*}\n",
       "\\item 30\n",
       "\\item 5\n",
       "\\end{enumerate*}\n"
      ],
      "text/markdown": [
       "1. 30\n",
       "2. 5\n",
       "\n",
       "\n"
      ],
      "text/plain": [
       "[1] 30  5"
      ]
     },
     "metadata": {},
     "output_type": "display_data"
    },
    {
     "data": {
      "text/html": [
       "<ol class=list-inline>\n",
       "\t<li>30</li>\n",
       "\t<li>5</li>\n",
       "</ol>\n"
      ],
      "text/latex": [
       "\\begin{enumerate*}\n",
       "\\item 30\n",
       "\\item 5\n",
       "\\end{enumerate*}\n"
      ],
      "text/markdown": [
       "1. 30\n",
       "2. 5\n",
       "\n",
       "\n"
      ],
      "text/plain": [
       "[1] 30  5"
      ]
     },
     "metadata": {},
     "output_type": "display_data"
    },
    {
     "data": {
      "text/html": [
       "<ol class=list-inline>\n",
       "\t<li>30</li>\n",
       "\t<li>13</li>\n",
       "</ol>\n"
      ],
      "text/latex": [
       "\\begin{enumerate*}\n",
       "\\item 30\n",
       "\\item 13\n",
       "\\end{enumerate*}\n"
      ],
      "text/markdown": [
       "1. 30\n",
       "2. 13\n",
       "\n",
       "\n"
      ],
      "text/plain": [
       "[1] 30 13"
      ]
     },
     "metadata": {},
     "output_type": "display_data"
    }
   ],
   "source": [
    "noMeta<-features_pos[,9:13]\n",
    "head(noMeta)\n",
    "not_zero<-which(colSums(noMeta) != 0)\n",
    "head(not_zero)\n",
    "nonzero <- noMeta[, not_zero]\n",
    "nonzero\n",
    "nonzero_wMeta<-cbind(features_pos[,1:8], nonzero)\n",
    "head(nonzero_wMeta)\n",
    "dim(features_pos)\n",
    "dim(noMeta)\n",
    "dim(nonzero)\n",
    "dim(nonzero_wMeta)"
   ]
  },
  {
   "cell_type": "code",
   "execution_count": 5,
   "metadata": {
    "scrolled": true
   },
   "outputs": [
    {
     "data": {
      "text/html": [
       "<ol class=list-inline>\n",
       "\t<li>0.0209023068445138</li>\n",
       "\t<li>0.0891947730984869</li>\n",
       "\t<li>0.304590816047085</li>\n",
       "\t<li>0.0329436416982427</li>\n",
       "\t<li>0.324548174828994</li>\n",
       "</ol>\n"
      ],
      "text/latex": [
       "\\begin{enumerate*}\n",
       "\\item 0.0209023068445138\n",
       "\\item 0.0891947730984869\n",
       "\\item 0.304590816047085\n",
       "\\item 0.0329436416982427\n",
       "\\item 0.324548174828994\n",
       "\\end{enumerate*}\n"
      ],
      "text/markdown": [
       "1. 0.0209023068445138\n",
       "2. 0.0891947730984869\n",
       "3. 0.304590816047085\n",
       "4. 0.0329436416982427\n",
       "5. 0.324548174828994\n",
       "\n",
       "\n"
      ],
      "text/plain": [
       "[1] 0.02090231 0.08919477 0.30459082 0.03294364 0.32454817"
      ]
     },
     "metadata": {},
     "output_type": "display_data"
    },
    {
     "data": {
      "text/html": [
       "<ol class=list-inline>\n",
       "\t<li>0.0823591042456068</li>\n",
       "\t<li>0.148657955164145</li>\n",
       "\t<li>0.324548174828994</li>\n",
       "\t<li>0.0823591042456068</li>\n",
       "\t<li>0.324548174828994</li>\n",
       "</ol>\n"
      ],
      "text/latex": [
       "\\begin{enumerate*}\n",
       "\\item 0.0823591042456068\n",
       "\\item 0.148657955164145\n",
       "\\item 0.324548174828994\n",
       "\\item 0.0823591042456068\n",
       "\\item 0.324548174828994\n",
       "\\end{enumerate*}\n"
      ],
      "text/markdown": [
       "1. 0.0823591042456068\n",
       "2. 0.148657955164145\n",
       "3. 0.324548174828994\n",
       "4. 0.0823591042456068\n",
       "5. 0.324548174828994\n",
       "\n",
       "\n"
      ],
      "text/plain": [
       "[1] 0.0823591 0.1486580 0.3245482 0.0823591 0.3245482"
      ]
     },
     "metadata": {},
     "output_type": "display_data"
    }
   ],
   "source": [
    "pval<-c()\n",
    "\n",
    "for (i in 9:ncol(nonzero_wMeta)) \n",
    "pval<-c(pval,wilcox.test(nonzero_wMeta[,i]~nonzero_wMeta$Treatmentgroup)$p.value)\n",
    "head(pval)\n",
    "pAdj <- p.adjust(pval, method = c(\"fdr\"), n=length(pval)) \n",
    "head(pAdj) \n",
    "\n"
   ]
  },
  {
   "cell_type": "code",
   "execution_count": 6,
   "metadata": {
    "scrolled": true
   },
   "outputs": [
    {
     "data": {
      "text/html": [
       "5"
      ],
      "text/latex": [
       "5"
      ],
      "text/markdown": [
       "5"
      ],
      "text/plain": [
       "[1] 5"
      ]
     },
     "metadata": {},
     "output_type": "display_data"
    }
   ],
   "source": [
    "length(pval)"
   ]
  },
  {
   "cell_type": "code",
   "execution_count": 7,
   "metadata": {
    "scrolled": true
   },
   "outputs": [
    {
     "data": {
      "text/html": [
       "5"
      ],
      "text/latex": [
       "5"
      ],
      "text/markdown": [
       "5"
      ],
      "text/plain": [
       "[1] 5"
      ]
     },
     "metadata": {},
     "output_type": "display_data"
    }
   ],
   "source": [
    "length(pAdj)"
   ]
  },
  {
   "cell_type": "code",
   "execution_count": 8,
   "metadata": {},
   "outputs": [
    {
     "data": {
      "text/html": [
       "<ol class=list-inline>\n",
       "\t<li>2</li>\n",
       "\t<li>5</li>\n",
       "</ol>\n"
      ],
      "text/latex": [
       "\\begin{enumerate*}\n",
       "\\item 2\n",
       "\\item 5\n",
       "\\end{enumerate*}\n"
      ],
      "text/markdown": [
       "1. 2\n",
       "2. 5\n",
       "\n",
       "\n"
      ],
      "text/plain": [
       "[1] 2 5"
      ]
     },
     "metadata": {},
     "output_type": "display_data"
    },
    {
     "data": {
      "text/html": [
       "<table>\n",
       "<thead><tr><th></th><th scope=col>mass_400</th><th scope=col>mass_500</th><th scope=col>mass_600</th></tr></thead>\n",
       "<tbody>\n",
       "\t<tr><th scope=row>Group1C</th><td>0.06704021 </td><td>0.10545954 </td><td>0.002197002</td></tr>\n",
       "\t<tr><th scope=row>Group3E</th><td>0.05332623 </td><td>0.08409757 </td><td>0.001749978</td></tr>\n",
       "</tbody>\n",
       "</table>\n"
      ],
      "text/latex": [
       "\\begin{tabular}{r|lll}\n",
       "  & mass\\_400 & mass\\_500 & mass\\_600\\\\\n",
       "\\hline\n",
       "\tGroup1C & 0.06704021  & 0.10545954  & 0.002197002\\\\\n",
       "\tGroup3E & 0.05332623  & 0.08409757  & 0.001749978\\\\\n",
       "\\end{tabular}\n"
      ],
      "text/markdown": [
       "\n",
       "| <!--/--> | mass_400 | mass_500 | mass_600 |\n",
       "|---|---|---|---|\n",
       "| Group1C | 0.06704021  | 0.10545954  | 0.002197002 |\n",
       "| Group3E | 0.05332623  | 0.08409757  | 0.001749978 |\n",
       "\n"
      ],
      "text/plain": [
       "        mass_400   mass_500   mass_600   \n",
       "Group1C 0.06704021 0.10545954 0.002197002\n",
       "Group3E 0.05332623 0.08409757 0.001749978"
      ]
     },
     "metadata": {},
     "output_type": "display_data"
    },
    {
     "data": {
      "text/html": [
       "<dl class=dl-horizontal>\n",
       "\t<dt>mass_400</dt>\n",
       "\t\t<dd>1.25717140219417</dd>\n",
       "\t<dt>mass_500</dt>\n",
       "\t\t<dd>1.25401406271255</dd>\n",
       "\t<dt>mass_600</dt>\n",
       "\t\t<dd>1.25544596473898</dd>\n",
       "\t<dt>mass_700</dt>\n",
       "\t\t<dd>0.622874535105512</dd>\n",
       "\t<dt>mass_800</dt>\n",
       "\t\t<dd>0.836157535935025</dd>\n",
       "</dl>\n"
      ],
      "text/latex": [
       "\\begin{description*}\n",
       "\\item[mass\\textbackslash{}\\_400] 1.25717140219417\n",
       "\\item[mass\\textbackslash{}\\_500] 1.25401406271255\n",
       "\\item[mass\\textbackslash{}\\_600] 1.25544596473898\n",
       "\\item[mass\\textbackslash{}\\_700] 0.622874535105512\n",
       "\\item[mass\\textbackslash{}\\_800] 0.836157535935025\n",
       "\\end{description*}\n"
      ],
      "text/markdown": [
       "mass_400\n",
       ":   1.25717140219417mass_500\n",
       ":   1.25401406271255mass_600\n",
       ":   1.25544596473898mass_700\n",
       ":   0.622874535105512mass_800\n",
       ":   0.836157535935025\n",
       "\n"
      ],
      "text/plain": [
       " mass_400  mass_500  mass_600  mass_700  mass_800 \n",
       "1.2571714 1.2540141 1.2554460 0.6228745 0.8361575 "
      ]
     },
     "metadata": {},
     "output_type": "display_data"
    },
    {
     "data": {
      "text/html": [
       "<ol class=list-inline>\n",
       "\t<li>'numeric'</li>\n",
       "\t<li>'vector'</li>\n",
       "</ol>\n"
      ],
      "text/latex": [
       "\\begin{enumerate*}\n",
       "\\item 'numeric'\n",
       "\\item 'vector'\n",
       "\\end{enumerate*}\n"
      ],
      "text/markdown": [
       "1. 'numeric'\n",
       "2. 'vector'\n",
       "\n",
       "\n"
      ],
      "text/plain": [
       "[1] \"numeric\" \"vector\" "
      ]
     },
     "metadata": {},
     "output_type": "display_data"
    }
   ],
   "source": [
    "avg<- apply(nonzero_wMeta[,9:ncol(nonzero_wMeta)], 2, function(x) tapply(x, nonzero_wMeta$Treatmentgroup, function(x) mean(x))) \n",
    "\n",
    "dim(avg)\n",
    "\n",
    "avg[,1:3]\n",
    "\n",
    "fch <- apply(avg, 2, function(x) x[1]/x[2])\n",
    "\n",
    "head(fch)\n",
    "is(fch)"
   ]
  },
  {
   "cell_type": "code",
   "execution_count": 9,
   "metadata": {
    "scrolled": true
   },
   "outputs": [
    {
     "data": {
      "text/html": [
       "<dl class=dl-horizontal>\n",
       "\t<dt>mass_400</dt>\n",
       "\t\t<dd>1.25717140219417</dd>\n",
       "\t<dt>mass_500</dt>\n",
       "\t\t<dd>1.25401406271255</dd>\n",
       "\t<dt>mass_600</dt>\n",
       "\t\t<dd>1.25544596473898</dd>\n",
       "\t<dt>mass_700</dt>\n",
       "\t\t<dd>0.622874535105512</dd>\n",
       "\t<dt>mass_800</dt>\n",
       "\t\t<dd>0.836157535935025</dd>\n",
       "</dl>\n"
      ],
      "text/latex": [
       "\\begin{description*}\n",
       "\\item[mass\\textbackslash{}\\_400] 1.25717140219417\n",
       "\\item[mass\\textbackslash{}\\_500] 1.25401406271255\n",
       "\\item[mass\\textbackslash{}\\_600] 1.25544596473898\n",
       "\\item[mass\\textbackslash{}\\_700] 0.622874535105512\n",
       "\\item[mass\\textbackslash{}\\_800] 0.836157535935025\n",
       "\\end{description*}\n"
      ],
      "text/markdown": [
       "mass_400\n",
       ":   1.25717140219417mass_500\n",
       ":   1.25401406271255mass_600\n",
       ":   1.25544596473898mass_700\n",
       ":   0.622874535105512mass_800\n",
       ":   0.836157535935025\n",
       "\n"
      ],
      "text/plain": [
       " mass_400  mass_500  mass_600  mass_700  mass_800 \n",
       "1.2571714 1.2540141 1.2554460 0.6228745 0.8361575 "
      ]
     },
     "metadata": {},
     "output_type": "display_data"
    }
   ],
   "source": [
    "fch"
   ]
  },
  {
   "cell_type": "code",
   "execution_count": 10,
   "metadata": {
    "scrolled": false
   },
   "outputs": [],
   "source": [
    "df <- data.frame(fch,pval, pAdj)\n",
    "write.csv(df, \"PC-time-LVT-wilcox-1C-3E.csv\")"
   ]
  },
  {
   "cell_type": "code",
   "execution_count": null,
   "metadata": {},
   "outputs": [],
   "source": []
  },
  {
   "cell_type": "code",
   "execution_count": null,
   "metadata": {},
   "outputs": [],
   "source": []
  },
  {
   "cell_type": "code",
   "execution_count": null,
   "metadata": {},
   "outputs": [],
   "source": []
  },
  {
   "cell_type": "code",
   "execution_count": null,
   "metadata": {},
   "outputs": [],
   "source": []
  },
  {
   "cell_type": "code",
   "execution_count": null,
   "metadata": {},
   "outputs": [],
   "source": []
  },
  {
   "cell_type": "code",
   "execution_count": null,
   "metadata": {},
   "outputs": [],
   "source": []
  }
 ],
 "metadata": {
  "kernelspec": {
   "display_name": "R",
   "language": "R",
   "name": "ir"
  },
  "language_info": {
   "codemirror_mode": "r",
   "file_extension": ".r",
   "mimetype": "text/x-r-source",
   "name": "R",
   "pygments_lexer": "r",
   "version": "3.6.1"
  }
 },
 "nbformat": 4,
 "nbformat_minor": 2
}
