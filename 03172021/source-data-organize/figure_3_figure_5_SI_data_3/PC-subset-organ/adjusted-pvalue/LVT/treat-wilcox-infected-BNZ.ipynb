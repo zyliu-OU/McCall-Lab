{
 "cells": [
  {
   "cell_type": "code",
   "execution_count": 11,
   "metadata": {},
   "outputs": [],
   "source": [
    "a <- read.csv(\"03172021-PC-treatment-LVT-M-F.csv\")"
   ]
  },
  {
   "cell_type": "code",
   "execution_count": 12,
   "metadata": {},
   "outputs": [
    {
     "data": {
      "text/html": [
       "<table>\n",
       "<thead><tr><th scope=col>filename</th><th scope=col>MouseID</th><th scope=col>Treatmentgroup</th><th scope=col>DPI</th><th scope=col>organ</th><th scope=col>well_position</th><th scope=col>plate</th><th scope=col>mass_400</th><th scope=col>mass_500</th><th scope=col>mass_600</th><th scope=col>mass_700</th><th scope=col>mass_800</th></tr></thead>\n",
       "<tbody>\n",
       "\t<tr><td>X511_Group1C_142dpi_LV_top_161_G_A1_P128.mzXML</td><td>511                                           </td><td>naive                                         </td><td>142dpi                                        </td><td>LV_top                                        </td><td>A1                                            </td><td>P128                                          </td><td>0.06556544                                    </td><td>0.09573166                                    </td><td>0.002550993                                   </td><td>0.005125326                                   </td><td>0.004634527                                   </td></tr>\n",
       "\t<tr><td>X512_Group1C_142dpi_LV_top_162_G_A2_P128.mzXML</td><td>512                                           </td><td>naive                                         </td><td>142dpi                                        </td><td>LV_top                                        </td><td>A2                                            </td><td>P128                                          </td><td>0.06089544                                    </td><td>0.08531598                                    </td><td>0.001798692                                   </td><td>0.002720909                                   </td><td>0.002227292                                   </td></tr>\n",
       "\t<tr><td>X513_Group1C_142dpi_LV_top_163_G_A3_P128.mzXML</td><td>513                                           </td><td>naive                                         </td><td>142dpi                                        </td><td>LV_top                                        </td><td>A3                                            </td><td>P128                                          </td><td>0.06358250                                    </td><td>0.15053308                                    </td><td>0.004499186                                   </td><td>0.015100000                                   </td><td>0.023117551                                   </td></tr>\n",
       "\t<tr><td>X514_Group1C_142dpi_LV_top_164_G_A4_P128.mzXML</td><td>514                                           </td><td>naive                                         </td><td>142dpi                                        </td><td>LV_top                                        </td><td>A4                                            </td><td>P128                                          </td><td>0.06126091                                    </td><td>0.06998223                                    </td><td>0.001322410                                   </td><td>0.001122947                                   </td><td>0.001015702                                   </td></tr>\n",
       "\t<tr><td>X515_Group1C_142dpi_LV_top_165_G_A5_P128.mzXML</td><td>515                                           </td><td>naive                                         </td><td>142dpi                                        </td><td>LV_top                                        </td><td>A5                                            </td><td>P128                                          </td><td>0.09292099                                    </td><td>0.14679559                                    </td><td>0.003463710                                   </td><td>0.015600000                                   </td><td>0.019521396                                   </td></tr>\n",
       "\t<tr><td>X531_Group1C_142dpi_LV_top_166_G_A6_P128.mzXML</td><td>531                                           </td><td>naive                                         </td><td>142dpi                                        </td><td>LV_top                                        </td><td>A6                                            </td><td>P128                                          </td><td>0.08085245                                    </td><td>0.14170698                                    </td><td>0.003290438                                   </td><td>0.013793976                                   </td><td>0.011966565                                   </td></tr>\n",
       "</tbody>\n",
       "</table>\n"
      ],
      "text/latex": [
       "\\begin{tabular}{r|llllllllllll}\n",
       " filename & MouseID & Treatmentgroup & DPI & organ & well\\_position & plate & mass\\_400 & mass\\_500 & mass\\_600 & mass\\_700 & mass\\_800\\\\\n",
       "\\hline\n",
       "\t X511\\_Group1C\\_142dpi\\_LV\\_top\\_161\\_G\\_A1\\_P128.mzXML & 511                                                            & naive                                                          & 142dpi                                                         & LV\\_top                                                       & A1                                                             & P128                                                           & 0.06556544                                                     & 0.09573166                                                     & 0.002550993                                                    & 0.005125326                                                    & 0.004634527                                                   \\\\\n",
       "\t X512\\_Group1C\\_142dpi\\_LV\\_top\\_162\\_G\\_A2\\_P128.mzXML & 512                                                            & naive                                                          & 142dpi                                                         & LV\\_top                                                       & A2                                                             & P128                                                           & 0.06089544                                                     & 0.08531598                                                     & 0.001798692                                                    & 0.002720909                                                    & 0.002227292                                                   \\\\\n",
       "\t X513\\_Group1C\\_142dpi\\_LV\\_top\\_163\\_G\\_A3\\_P128.mzXML & 513                                                            & naive                                                          & 142dpi                                                         & LV\\_top                                                       & A3                                                             & P128                                                           & 0.06358250                                                     & 0.15053308                                                     & 0.004499186                                                    & 0.015100000                                                    & 0.023117551                                                   \\\\\n",
       "\t X514\\_Group1C\\_142dpi\\_LV\\_top\\_164\\_G\\_A4\\_P128.mzXML & 514                                                            & naive                                                          & 142dpi                                                         & LV\\_top                                                       & A4                                                             & P128                                                           & 0.06126091                                                     & 0.06998223                                                     & 0.001322410                                                    & 0.001122947                                                    & 0.001015702                                                   \\\\\n",
       "\t X515\\_Group1C\\_142dpi\\_LV\\_top\\_165\\_G\\_A5\\_P128.mzXML & 515                                                            & naive                                                          & 142dpi                                                         & LV\\_top                                                       & A5                                                             & P128                                                           & 0.09292099                                                     & 0.14679559                                                     & 0.003463710                                                    & 0.015600000                                                    & 0.019521396                                                   \\\\\n",
       "\t X531\\_Group1C\\_142dpi\\_LV\\_top\\_166\\_G\\_A6\\_P128.mzXML & 531                                                            & naive                                                          & 142dpi                                                         & LV\\_top                                                       & A6                                                             & P128                                                           & 0.08085245                                                     & 0.14170698                                                     & 0.003290438                                                    & 0.013793976                                                    & 0.011966565                                                   \\\\\n",
       "\\end{tabular}\n"
      ],
      "text/markdown": [
       "\n",
       "| filename | MouseID | Treatmentgroup | DPI | organ | well_position | plate | mass_400 | mass_500 | mass_600 | mass_700 | mass_800 |\n",
       "|---|---|---|---|---|---|---|---|---|---|---|---|\n",
       "| X511_Group1C_142dpi_LV_top_161_G_A1_P128.mzXML | 511                                            | naive                                          | 142dpi                                         | LV_top                                         | A1                                             | P128                                           | 0.06556544                                     | 0.09573166                                     | 0.002550993                                    | 0.005125326                                    | 0.004634527                                    |\n",
       "| X512_Group1C_142dpi_LV_top_162_G_A2_P128.mzXML | 512                                            | naive                                          | 142dpi                                         | LV_top                                         | A2                                             | P128                                           | 0.06089544                                     | 0.08531598                                     | 0.001798692                                    | 0.002720909                                    | 0.002227292                                    |\n",
       "| X513_Group1C_142dpi_LV_top_163_G_A3_P128.mzXML | 513                                            | naive                                          | 142dpi                                         | LV_top                                         | A3                                             | P128                                           | 0.06358250                                     | 0.15053308                                     | 0.004499186                                    | 0.015100000                                    | 0.023117551                                    |\n",
       "| X514_Group1C_142dpi_LV_top_164_G_A4_P128.mzXML | 514                                            | naive                                          | 142dpi                                         | LV_top                                         | A4                                             | P128                                           | 0.06126091                                     | 0.06998223                                     | 0.001322410                                    | 0.001122947                                    | 0.001015702                                    |\n",
       "| X515_Group1C_142dpi_LV_top_165_G_A5_P128.mzXML | 515                                            | naive                                          | 142dpi                                         | LV_top                                         | A5                                             | P128                                           | 0.09292099                                     | 0.14679559                                     | 0.003463710                                    | 0.015600000                                    | 0.019521396                                    |\n",
       "| X531_Group1C_142dpi_LV_top_166_G_A6_P128.mzXML | 531                                            | naive                                          | 142dpi                                         | LV_top                                         | A6                                             | P128                                           | 0.08085245                                     | 0.14170698                                     | 0.003290438                                    | 0.013793976                                    | 0.011966565                                    |\n",
       "\n"
      ],
      "text/plain": [
       "  filename                                       MouseID Treatmentgroup DPI   \n",
       "1 X511_Group1C_142dpi_LV_top_161_G_A1_P128.mzXML 511     naive          142dpi\n",
       "2 X512_Group1C_142dpi_LV_top_162_G_A2_P128.mzXML 512     naive          142dpi\n",
       "3 X513_Group1C_142dpi_LV_top_163_G_A3_P128.mzXML 513     naive          142dpi\n",
       "4 X514_Group1C_142dpi_LV_top_164_G_A4_P128.mzXML 514     naive          142dpi\n",
       "5 X515_Group1C_142dpi_LV_top_165_G_A5_P128.mzXML 515     naive          142dpi\n",
       "6 X531_Group1C_142dpi_LV_top_166_G_A6_P128.mzXML 531     naive          142dpi\n",
       "  organ  well_position plate mass_400   mass_500   mass_600    mass_700   \n",
       "1 LV_top A1            P128  0.06556544 0.09573166 0.002550993 0.005125326\n",
       "2 LV_top A2            P128  0.06089544 0.08531598 0.001798692 0.002720909\n",
       "3 LV_top A3            P128  0.06358250 0.15053308 0.004499186 0.015100000\n",
       "4 LV_top A4            P128  0.06126091 0.06998223 0.001322410 0.001122947\n",
       "5 LV_top A5            P128  0.09292099 0.14679559 0.003463710 0.015600000\n",
       "6 LV_top A6            P128  0.08085245 0.14170698 0.003290438 0.013793976\n",
       "  mass_800   \n",
       "1 0.004634527\n",
       "2 0.002227292\n",
       "3 0.023117551\n",
       "4 0.001015702\n",
       "5 0.019521396\n",
       "6 0.011966565"
      ]
     },
     "metadata": {},
     "output_type": "display_data"
    },
    {
     "data": {
      "text/html": [
       "<ol class=list-inline>\n",
       "\t<li>60</li>\n",
       "\t<li>12</li>\n",
       "</ol>\n"
      ],
      "text/latex": [
       "\\begin{enumerate*}\n",
       "\\item 60\n",
       "\\item 12\n",
       "\\end{enumerate*}\n"
      ],
      "text/markdown": [
       "1. 60\n",
       "2. 12\n",
       "\n",
       "\n"
      ],
      "text/plain": [
       "[1] 60 12"
      ]
     },
     "metadata": {},
     "output_type": "display_data"
    }
   ],
   "source": [
    "head(a)\n",
    "dim(a)"
   ]
  },
  {
   "cell_type": "code",
   "execution_count": 13,
   "metadata": {},
   "outputs": [
    {
     "data": {
      "text/html": [
       "<table>\n",
       "<thead><tr><th></th><th scope=col>filename</th><th scope=col>MouseID</th><th scope=col>Treatmentgroup</th><th scope=col>DPI</th><th scope=col>organ</th><th scope=col>well_position</th><th scope=col>plate</th><th scope=col>mass_400</th><th scope=col>mass_500</th><th scope=col>mass_600</th><th scope=col>mass_700</th><th scope=col>mass_800</th></tr></thead>\n",
       "<tbody>\n",
       "\t<tr><th scope=row>16</th><td>X581_Group3E_142dpi_LV_top_176_G_B4_P128.mzXML</td><td>581                                           </td><td>infected                                      </td><td>142dpi                                        </td><td>LV_top                                        </td><td>B4                                            </td><td>P128                                          </td><td>0.05917028                                    </td><td>0.14464680                                    </td><td>0.002258752                                   </td><td>0.019965924                                   </td><td>0.024196529                                   </td></tr>\n",
       "\t<tr><th scope=row>17</th><td>X582_Group3E_142dpi_LV_top_177_G_B5_P128.mzXML</td><td>582                                           </td><td>infected                                      </td><td>142dpi                                        </td><td>LV_top                                        </td><td>B5                                            </td><td>P128                                          </td><td>0.06989135                                    </td><td>0.08715721                                    </td><td>0.002073981                                   </td><td>0.015894947                                   </td><td>0.011310604                                   </td></tr>\n",
       "\t<tr><th scope=row>18</th><td>X583_Group3E_142dpi_LV_top_178_G_B6_P128.mzXML</td><td>583                                           </td><td>infected                                      </td><td>142dpi                                        </td><td>LV_top                                        </td><td>B6                                            </td><td>P128                                          </td><td>0.08183052                                    </td><td>0.15272232                                    </td><td>0.001671131                                   </td><td>0.016177212                                   </td><td>0.017405851                                   </td></tr>\n",
       "\t<tr><th scope=row>19</th><td>X584_Group3E_142dpi_LV_top_179_G_B7_P128.mzXML</td><td>584                                           </td><td>infected                                      </td><td>142dpi                                        </td><td>LV_top                                        </td><td>B7                                            </td><td>P128                                          </td><td>0.04360125                                    </td><td>0.04250310                                    </td><td>0.001427776                                   </td><td>0.006811321                                   </td><td>0.005660542                                   </td></tr>\n",
       "\t<tr><th scope=row>20</th><td>X585_Group3E_142dpi_LV_top_180_G_B8_P128.mzXML</td><td>585                                           </td><td>infected                                      </td><td>142dpi                                        </td><td>LV_top                                        </td><td>B8                                            </td><td>P128                                          </td><td>0.05866167                                    </td><td>0.09040000                                    </td><td>0.002172306                                   </td><td>0.017464916                                   </td><td>0.016216802                                   </td></tr>\n",
       "\t<tr><th scope=row>26</th><td>X631_Group15_142dpi_LV_top_191_G_C7_P128.mzXML</td><td>631                                           </td><td>BNZ                                           </td><td>142dpi                                        </td><td>LV_top                                        </td><td>C7                                            </td><td>P128                                          </td><td>0.04250555                                    </td><td>0.06810000                                    </td><td>0.001996656                                   </td><td>0.005245484                                   </td><td>0.002712673                                   </td></tr>\n",
       "</tbody>\n",
       "</table>\n"
      ],
      "text/latex": [
       "\\begin{tabular}{r|llllllllllll}\n",
       "  & filename & MouseID & Treatmentgroup & DPI & organ & well\\_position & plate & mass\\_400 & mass\\_500 & mass\\_600 & mass\\_700 & mass\\_800\\\\\n",
       "\\hline\n",
       "\t16 & X581\\_Group3E\\_142dpi\\_LV\\_top\\_176\\_G\\_B4\\_P128.mzXML & 581                                                            & infected                                                       & 142dpi                                                         & LV\\_top                                                       & B4                                                             & P128                                                           & 0.05917028                                                     & 0.14464680                                                     & 0.002258752                                                    & 0.019965924                                                    & 0.024196529                                                   \\\\\n",
       "\t17 & X582\\_Group3E\\_142dpi\\_LV\\_top\\_177\\_G\\_B5\\_P128.mzXML & 582                                                            & infected                                                       & 142dpi                                                         & LV\\_top                                                       & B5                                                             & P128                                                           & 0.06989135                                                     & 0.08715721                                                     & 0.002073981                                                    & 0.015894947                                                    & 0.011310604                                                   \\\\\n",
       "\t18 & X583\\_Group3E\\_142dpi\\_LV\\_top\\_178\\_G\\_B6\\_P128.mzXML & 583                                                            & infected                                                       & 142dpi                                                         & LV\\_top                                                       & B6                                                             & P128                                                           & 0.08183052                                                     & 0.15272232                                                     & 0.001671131                                                    & 0.016177212                                                    & 0.017405851                                                   \\\\\n",
       "\t19 & X584\\_Group3E\\_142dpi\\_LV\\_top\\_179\\_G\\_B7\\_P128.mzXML & 584                                                            & infected                                                       & 142dpi                                                         & LV\\_top                                                       & B7                                                             & P128                                                           & 0.04360125                                                     & 0.04250310                                                     & 0.001427776                                                    & 0.006811321                                                    & 0.005660542                                                   \\\\\n",
       "\t20 & X585\\_Group3E\\_142dpi\\_LV\\_top\\_180\\_G\\_B8\\_P128.mzXML & 585                                                            & infected                                                       & 142dpi                                                         & LV\\_top                                                       & B8                                                             & P128                                                           & 0.05866167                                                     & 0.09040000                                                     & 0.002172306                                                    & 0.017464916                                                    & 0.016216802                                                   \\\\\n",
       "\t26 & X631\\_Group15\\_142dpi\\_LV\\_top\\_191\\_G\\_C7\\_P128.mzXML & 631                                                            & BNZ                                                            & 142dpi                                                         & LV\\_top                                                       & C7                                                             & P128                                                           & 0.04250555                                                     & 0.06810000                                                     & 0.001996656                                                    & 0.005245484                                                    & 0.002712673                                                   \\\\\n",
       "\\end{tabular}\n"
      ],
      "text/markdown": [
       "\n",
       "| <!--/--> | filename | MouseID | Treatmentgroup | DPI | organ | well_position | plate | mass_400 | mass_500 | mass_600 | mass_700 | mass_800 |\n",
       "|---|---|---|---|---|---|---|---|---|---|---|---|---|\n",
       "| 16 | X581_Group3E_142dpi_LV_top_176_G_B4_P128.mzXML | 581                                            | infected                                       | 142dpi                                         | LV_top                                         | B4                                             | P128                                           | 0.05917028                                     | 0.14464680                                     | 0.002258752                                    | 0.019965924                                    | 0.024196529                                    |\n",
       "| 17 | X582_Group3E_142dpi_LV_top_177_G_B5_P128.mzXML | 582                                            | infected                                       | 142dpi                                         | LV_top                                         | B5                                             | P128                                           | 0.06989135                                     | 0.08715721                                     | 0.002073981                                    | 0.015894947                                    | 0.011310604                                    |\n",
       "| 18 | X583_Group3E_142dpi_LV_top_178_G_B6_P128.mzXML | 583                                            | infected                                       | 142dpi                                         | LV_top                                         | B6                                             | P128                                           | 0.08183052                                     | 0.15272232                                     | 0.001671131                                    | 0.016177212                                    | 0.017405851                                    |\n",
       "| 19 | X584_Group3E_142dpi_LV_top_179_G_B7_P128.mzXML | 584                                            | infected                                       | 142dpi                                         | LV_top                                         | B7                                             | P128                                           | 0.04360125                                     | 0.04250310                                     | 0.001427776                                    | 0.006811321                                    | 0.005660542                                    |\n",
       "| 20 | X585_Group3E_142dpi_LV_top_180_G_B8_P128.mzXML | 585                                            | infected                                       | 142dpi                                         | LV_top                                         | B8                                             | P128                                           | 0.05866167                                     | 0.09040000                                     | 0.002172306                                    | 0.017464916                                    | 0.016216802                                    |\n",
       "| 26 | X631_Group15_142dpi_LV_top_191_G_C7_P128.mzXML | 631                                            | BNZ                                            | 142dpi                                         | LV_top                                         | C7                                             | P128                                           | 0.04250555                                     | 0.06810000                                     | 0.001996656                                    | 0.005245484                                    | 0.002712673                                    |\n",
       "\n"
      ],
      "text/plain": [
       "   filename                                       MouseID Treatmentgroup DPI   \n",
       "16 X581_Group3E_142dpi_LV_top_176_G_B4_P128.mzXML 581     infected       142dpi\n",
       "17 X582_Group3E_142dpi_LV_top_177_G_B5_P128.mzXML 582     infected       142dpi\n",
       "18 X583_Group3E_142dpi_LV_top_178_G_B6_P128.mzXML 583     infected       142dpi\n",
       "19 X584_Group3E_142dpi_LV_top_179_G_B7_P128.mzXML 584     infected       142dpi\n",
       "20 X585_Group3E_142dpi_LV_top_180_G_B8_P128.mzXML 585     infected       142dpi\n",
       "26 X631_Group15_142dpi_LV_top_191_G_C7_P128.mzXML 631     BNZ            142dpi\n",
       "   organ  well_position plate mass_400   mass_500   mass_600    mass_700   \n",
       "16 LV_top B4            P128  0.05917028 0.14464680 0.002258752 0.019965924\n",
       "17 LV_top B5            P128  0.06989135 0.08715721 0.002073981 0.015894947\n",
       "18 LV_top B6            P128  0.08183052 0.15272232 0.001671131 0.016177212\n",
       "19 LV_top B7            P128  0.04360125 0.04250310 0.001427776 0.006811321\n",
       "20 LV_top B8            P128  0.05866167 0.09040000 0.002172306 0.017464916\n",
       "26 LV_top C7            P128  0.04250555 0.06810000 0.001996656 0.005245484\n",
       "   mass_800   \n",
       "16 0.024196529\n",
       "17 0.011310604\n",
       "18 0.017405851\n",
       "19 0.005660542\n",
       "20 0.016216802\n",
       "26 0.002712673"
      ]
     },
     "metadata": {},
     "output_type": "display_data"
    },
    {
     "data": {
      "text/html": [
       "<ol class=list-inline>\n",
       "\t<li>30</li>\n",
       "\t<li>12</li>\n",
       "</ol>\n"
      ],
      "text/latex": [
       "\\begin{enumerate*}\n",
       "\\item 30\n",
       "\\item 12\n",
       "\\end{enumerate*}\n"
      ],
      "text/markdown": [
       "1. 30\n",
       "2. 12\n",
       "\n",
       "\n"
      ],
      "text/plain": [
       "[1] 30 12"
      ]
     },
     "metadata": {},
     "output_type": "display_data"
    }
   ],
   "source": [
    "features_pos<-droplevels(subset(a, a$Treatmentgroup==c(\"infected\")|a$Treatmentgroup==c(\"BNZ\")))\n",
    "head(features_pos)\n",
    "dim(features_pos)"
   ]
  },
  {
   "cell_type": "code",
   "execution_count": 14,
   "metadata": {
    "scrolled": false
   },
   "outputs": [
    {
     "data": {
      "text/html": [
       "<table>\n",
       "<thead><tr><th></th><th scope=col>mass_400</th><th scope=col>mass_500</th><th scope=col>mass_600</th><th scope=col>mass_700</th><th scope=col>mass_800</th></tr></thead>\n",
       "<tbody>\n",
       "\t<tr><th scope=row>16</th><td>0.05917028 </td><td>0.14464680 </td><td>0.002258752</td><td>0.019965924</td><td>0.024196529</td></tr>\n",
       "\t<tr><th scope=row>17</th><td>0.06989135 </td><td>0.08715721 </td><td>0.002073981</td><td>0.015894947</td><td>0.011310604</td></tr>\n",
       "\t<tr><th scope=row>18</th><td>0.08183052 </td><td>0.15272232 </td><td>0.001671131</td><td>0.016177212</td><td>0.017405851</td></tr>\n",
       "\t<tr><th scope=row>19</th><td>0.04360125 </td><td>0.04250310 </td><td>0.001427776</td><td>0.006811321</td><td>0.005660542</td></tr>\n",
       "\t<tr><th scope=row>20</th><td>0.05866167 </td><td>0.09040000 </td><td>0.002172306</td><td>0.017464916</td><td>0.016216802</td></tr>\n",
       "\t<tr><th scope=row>26</th><td>0.04250555 </td><td>0.06810000 </td><td>0.001996656</td><td>0.005245484</td><td>0.002712673</td></tr>\n",
       "</tbody>\n",
       "</table>\n"
      ],
      "text/latex": [
       "\\begin{tabular}{r|lllll}\n",
       "  & mass\\_400 & mass\\_500 & mass\\_600 & mass\\_700 & mass\\_800\\\\\n",
       "\\hline\n",
       "\t16 & 0.05917028  & 0.14464680  & 0.002258752 & 0.019965924 & 0.024196529\\\\\n",
       "\t17 & 0.06989135  & 0.08715721  & 0.002073981 & 0.015894947 & 0.011310604\\\\\n",
       "\t18 & 0.08183052  & 0.15272232  & 0.001671131 & 0.016177212 & 0.017405851\\\\\n",
       "\t19 & 0.04360125  & 0.04250310  & 0.001427776 & 0.006811321 & 0.005660542\\\\\n",
       "\t20 & 0.05866167  & 0.09040000  & 0.002172306 & 0.017464916 & 0.016216802\\\\\n",
       "\t26 & 0.04250555  & 0.06810000  & 0.001996656 & 0.005245484 & 0.002712673\\\\\n",
       "\\end{tabular}\n"
      ],
      "text/markdown": [
       "\n",
       "| <!--/--> | mass_400 | mass_500 | mass_600 | mass_700 | mass_800 |\n",
       "|---|---|---|---|---|---|\n",
       "| 16 | 0.05917028  | 0.14464680  | 0.002258752 | 0.019965924 | 0.024196529 |\n",
       "| 17 | 0.06989135  | 0.08715721  | 0.002073981 | 0.015894947 | 0.011310604 |\n",
       "| 18 | 0.08183052  | 0.15272232  | 0.001671131 | 0.016177212 | 0.017405851 |\n",
       "| 19 | 0.04360125  | 0.04250310  | 0.001427776 | 0.006811321 | 0.005660542 |\n",
       "| 20 | 0.05866167  | 0.09040000  | 0.002172306 | 0.017464916 | 0.016216802 |\n",
       "| 26 | 0.04250555  | 0.06810000  | 0.001996656 | 0.005245484 | 0.002712673 |\n",
       "\n"
      ],
      "text/plain": [
       "   mass_400   mass_500   mass_600    mass_700    mass_800   \n",
       "16 0.05917028 0.14464680 0.002258752 0.019965924 0.024196529\n",
       "17 0.06989135 0.08715721 0.002073981 0.015894947 0.011310604\n",
       "18 0.08183052 0.15272232 0.001671131 0.016177212 0.017405851\n",
       "19 0.04360125 0.04250310 0.001427776 0.006811321 0.005660542\n",
       "20 0.05866167 0.09040000 0.002172306 0.017464916 0.016216802\n",
       "26 0.04250555 0.06810000 0.001996656 0.005245484 0.002712673"
      ]
     },
     "metadata": {},
     "output_type": "display_data"
    },
    {
     "data": {
      "text/html": [
       "<dl class=dl-horizontal>\n",
       "\t<dt>mass_400</dt>\n",
       "\t\t<dd>1</dd>\n",
       "\t<dt>mass_500</dt>\n",
       "\t\t<dd>2</dd>\n",
       "\t<dt>mass_600</dt>\n",
       "\t\t<dd>3</dd>\n",
       "\t<dt>mass_700</dt>\n",
       "\t\t<dd>4</dd>\n",
       "\t<dt>mass_800</dt>\n",
       "\t\t<dd>5</dd>\n",
       "</dl>\n"
      ],
      "text/latex": [
       "\\begin{description*}\n",
       "\\item[mass\\textbackslash{}\\_400] 1\n",
       "\\item[mass\\textbackslash{}\\_500] 2\n",
       "\\item[mass\\textbackslash{}\\_600] 3\n",
       "\\item[mass\\textbackslash{}\\_700] 4\n",
       "\\item[mass\\textbackslash{}\\_800] 5\n",
       "\\end{description*}\n"
      ],
      "text/markdown": [
       "mass_400\n",
       ":   1mass_500\n",
       ":   2mass_600\n",
       ":   3mass_700\n",
       ":   4mass_800\n",
       ":   5\n",
       "\n"
      ],
      "text/plain": [
       "mass_400 mass_500 mass_600 mass_700 mass_800 \n",
       "       1        2        3        4        5 "
      ]
     },
     "metadata": {},
     "output_type": "display_data"
    },
    {
     "data": {
      "text/html": [
       "<table>\n",
       "<thead><tr><th></th><th scope=col>mass_400</th><th scope=col>mass_500</th><th scope=col>mass_600</th><th scope=col>mass_700</th><th scope=col>mass_800</th></tr></thead>\n",
       "<tbody>\n",
       "\t<tr><th scope=row>16</th><td>0.05917028 </td><td>0.14464680 </td><td>0.002258752</td><td>0.019965924</td><td>0.024196529</td></tr>\n",
       "\t<tr><th scope=row>17</th><td>0.06989135 </td><td>0.08715721 </td><td>0.002073981</td><td>0.015894947</td><td>0.011310604</td></tr>\n",
       "\t<tr><th scope=row>18</th><td>0.08183052 </td><td>0.15272232 </td><td>0.001671131</td><td>0.016177212</td><td>0.017405851</td></tr>\n",
       "\t<tr><th scope=row>19</th><td>0.04360125 </td><td>0.04250310 </td><td>0.001427776</td><td>0.006811321</td><td>0.005660542</td></tr>\n",
       "\t<tr><th scope=row>20</th><td>0.05866167 </td><td>0.09040000 </td><td>0.002172306</td><td>0.017464916</td><td>0.016216802</td></tr>\n",
       "\t<tr><th scope=row>26</th><td>0.04250555 </td><td>0.06810000 </td><td>0.001996656</td><td>0.005245484</td><td>0.002712673</td></tr>\n",
       "\t<tr><th scope=row>27</th><td>0.06395580 </td><td>0.07920000 </td><td>0.002032787</td><td>0.011451280</td><td>0.002012197</td></tr>\n",
       "\t<tr><th scope=row>28</th><td>0.05782735 </td><td>0.08800000 </td><td>0.002118670</td><td>0.013101616</td><td>0.009078375</td></tr>\n",
       "\t<tr><th scope=row>29</th><td>0.06491834 </td><td>0.08179934 </td><td>0.001220877</td><td>0.002648015</td><td>0.000264120</td></tr>\n",
       "\t<tr><th scope=row>30</th><td>0.04528353 </td><td>0.06423167 </td><td>0.000753063</td><td>0.021040028</td><td>0.009134355</td></tr>\n",
       "\t<tr><th scope=row>31</th><td>0.04712801 </td><td>0.11665969 </td><td>0.002500000</td><td>0.042364017</td><td>0.010734698</td></tr>\n",
       "\t<tr><th scope=row>32</th><td>0.07043444 </td><td>0.11973206 </td><td>0.001644857</td><td>0.021453963</td><td>0.017635850</td></tr>\n",
       "\t<tr><th scope=row>33</th><td>0.05413353 </td><td>0.07344814 </td><td>0.000833493</td><td>0.011407927</td><td>0.011522142</td></tr>\n",
       "\t<tr><th scope=row>34</th><td>0.04586048 </td><td>0.05156945 </td><td>0.002455266</td><td>0.009980000</td><td>0.016324491</td></tr>\n",
       "\t<tr><th scope=row>35</th><td>0.01371803 </td><td>0.02741810 </td><td>0.000596732</td><td>0.003261780</td><td>0.000062300</td></tr>\n",
       "\t<tr><th scope=row>41</th><td>0.06649975 </td><td>0.08884990 </td><td>0.001253512</td><td>0.016848668</td><td>0.015878038</td></tr>\n",
       "\t<tr><th scope=row>42</th><td>0.04075486 </td><td>0.07382861 </td><td>0.001128450</td><td>0.003265113</td><td>0.001132860</td></tr>\n",
       "\t<tr><th scope=row>43</th><td>0.02987019 </td><td>0.05631656 </td><td>0.000541396</td><td>0.005520714</td><td>0.005436186</td></tr>\n",
       "\t<tr><th scope=row>44</th><td>0.07360120 </td><td>0.07130000 </td><td>0.001373945</td><td>0.015500150</td><td>0.020047669</td></tr>\n",
       "\t<tr><th scope=row>45</th><td>0.05077613 </td><td>0.12209721 </td><td>0.003628034</td><td>0.012353845</td><td>0.013721571</td></tr>\n",
       "\t<tr><th scope=row>46</th><td>0.05800626 </td><td>0.08357368 </td><td>0.001697932</td><td>0.014000963</td><td>0.006949185</td></tr>\n",
       "\t<tr><th scope=row>47</th><td>0.06347510 </td><td>0.09227679 </td><td>0.001440442</td><td>0.014486080</td><td>0.009926635</td></tr>\n",
       "\t<tr><th scope=row>48</th><td>0.04217005 </td><td>0.05615664 </td><td>0.001133357</td><td>0.024891425</td><td>0.016726286</td></tr>\n",
       "\t<tr><th scope=row>49</th><td>0.04636588 </td><td>0.06909962 </td><td>0.002317175</td><td>0.017519673</td><td>0.005500732</td></tr>\n",
       "\t<tr><th scope=row>50</th><td>0.04544662 </td><td>0.05410000 </td><td>0.002026782</td><td>0.022041234</td><td>0.032221886</td></tr>\n",
       "\t<tr><th scope=row>56</th><td>0.02641411 </td><td>0.04447990 </td><td>0.001025237</td><td>0.003727513</td><td>0.000805571</td></tr>\n",
       "\t<tr><th scope=row>57</th><td>0.04028362 </td><td>0.07320000 </td><td>0.002537227</td><td>0.018180363</td><td>0.009931820</td></tr>\n",
       "\t<tr><th scope=row>58</th><td>0.03861199 </td><td>0.07720030 </td><td>0.002477906</td><td>0.009926859</td><td>0.007206955</td></tr>\n",
       "\t<tr><th scope=row>59</th><td>0.04610522 </td><td>0.07732263 </td><td>0.001975911</td><td>0.014244255</td><td>0.006854760</td></tr>\n",
       "\t<tr><th scope=row>60</th><td>0.05594702 </td><td>0.16097957 </td><td>0.003559227</td><td>0.028463118</td><td>0.027514436</td></tr>\n",
       "</tbody>\n",
       "</table>\n"
      ],
      "text/latex": [
       "\\begin{tabular}{r|lllll}\n",
       "  & mass\\_400 & mass\\_500 & mass\\_600 & mass\\_700 & mass\\_800\\\\\n",
       "\\hline\n",
       "\t16 & 0.05917028  & 0.14464680  & 0.002258752 & 0.019965924 & 0.024196529\\\\\n",
       "\t17 & 0.06989135  & 0.08715721  & 0.002073981 & 0.015894947 & 0.011310604\\\\\n",
       "\t18 & 0.08183052  & 0.15272232  & 0.001671131 & 0.016177212 & 0.017405851\\\\\n",
       "\t19 & 0.04360125  & 0.04250310  & 0.001427776 & 0.006811321 & 0.005660542\\\\\n",
       "\t20 & 0.05866167  & 0.09040000  & 0.002172306 & 0.017464916 & 0.016216802\\\\\n",
       "\t26 & 0.04250555  & 0.06810000  & 0.001996656 & 0.005245484 & 0.002712673\\\\\n",
       "\t27 & 0.06395580  & 0.07920000  & 0.002032787 & 0.011451280 & 0.002012197\\\\\n",
       "\t28 & 0.05782735  & 0.08800000  & 0.002118670 & 0.013101616 & 0.009078375\\\\\n",
       "\t29 & 0.06491834  & 0.08179934  & 0.001220877 & 0.002648015 & 0.000264120\\\\\n",
       "\t30 & 0.04528353  & 0.06423167  & 0.000753063 & 0.021040028 & 0.009134355\\\\\n",
       "\t31 & 0.04712801  & 0.11665969  & 0.002500000 & 0.042364017 & 0.010734698\\\\\n",
       "\t32 & 0.07043444  & 0.11973206  & 0.001644857 & 0.021453963 & 0.017635850\\\\\n",
       "\t33 & 0.05413353  & 0.07344814  & 0.000833493 & 0.011407927 & 0.011522142\\\\\n",
       "\t34 & 0.04586048  & 0.05156945  & 0.002455266 & 0.009980000 & 0.016324491\\\\\n",
       "\t35 & 0.01371803  & 0.02741810  & 0.000596732 & 0.003261780 & 0.000062300\\\\\n",
       "\t41 & 0.06649975  & 0.08884990  & 0.001253512 & 0.016848668 & 0.015878038\\\\\n",
       "\t42 & 0.04075486  & 0.07382861  & 0.001128450 & 0.003265113 & 0.001132860\\\\\n",
       "\t43 & 0.02987019  & 0.05631656  & 0.000541396 & 0.005520714 & 0.005436186\\\\\n",
       "\t44 & 0.07360120  & 0.07130000  & 0.001373945 & 0.015500150 & 0.020047669\\\\\n",
       "\t45 & 0.05077613  & 0.12209721  & 0.003628034 & 0.012353845 & 0.013721571\\\\\n",
       "\t46 & 0.05800626  & 0.08357368  & 0.001697932 & 0.014000963 & 0.006949185\\\\\n",
       "\t47 & 0.06347510  & 0.09227679  & 0.001440442 & 0.014486080 & 0.009926635\\\\\n",
       "\t48 & 0.04217005  & 0.05615664  & 0.001133357 & 0.024891425 & 0.016726286\\\\\n",
       "\t49 & 0.04636588  & 0.06909962  & 0.002317175 & 0.017519673 & 0.005500732\\\\\n",
       "\t50 & 0.04544662  & 0.05410000  & 0.002026782 & 0.022041234 & 0.032221886\\\\\n",
       "\t56 & 0.02641411  & 0.04447990  & 0.001025237 & 0.003727513 & 0.000805571\\\\\n",
       "\t57 & 0.04028362  & 0.07320000  & 0.002537227 & 0.018180363 & 0.009931820\\\\\n",
       "\t58 & 0.03861199  & 0.07720030  & 0.002477906 & 0.009926859 & 0.007206955\\\\\n",
       "\t59 & 0.04610522  & 0.07732263  & 0.001975911 & 0.014244255 & 0.006854760\\\\\n",
       "\t60 & 0.05594702  & 0.16097957  & 0.003559227 & 0.028463118 & 0.027514436\\\\\n",
       "\\end{tabular}\n"
      ],
      "text/markdown": [
       "\n",
       "| <!--/--> | mass_400 | mass_500 | mass_600 | mass_700 | mass_800 |\n",
       "|---|---|---|---|---|---|\n",
       "| 16 | 0.05917028  | 0.14464680  | 0.002258752 | 0.019965924 | 0.024196529 |\n",
       "| 17 | 0.06989135  | 0.08715721  | 0.002073981 | 0.015894947 | 0.011310604 |\n",
       "| 18 | 0.08183052  | 0.15272232  | 0.001671131 | 0.016177212 | 0.017405851 |\n",
       "| 19 | 0.04360125  | 0.04250310  | 0.001427776 | 0.006811321 | 0.005660542 |\n",
       "| 20 | 0.05866167  | 0.09040000  | 0.002172306 | 0.017464916 | 0.016216802 |\n",
       "| 26 | 0.04250555  | 0.06810000  | 0.001996656 | 0.005245484 | 0.002712673 |\n",
       "| 27 | 0.06395580  | 0.07920000  | 0.002032787 | 0.011451280 | 0.002012197 |\n",
       "| 28 | 0.05782735  | 0.08800000  | 0.002118670 | 0.013101616 | 0.009078375 |\n",
       "| 29 | 0.06491834  | 0.08179934  | 0.001220877 | 0.002648015 | 0.000264120 |\n",
       "| 30 | 0.04528353  | 0.06423167  | 0.000753063 | 0.021040028 | 0.009134355 |\n",
       "| 31 | 0.04712801  | 0.11665969  | 0.002500000 | 0.042364017 | 0.010734698 |\n",
       "| 32 | 0.07043444  | 0.11973206  | 0.001644857 | 0.021453963 | 0.017635850 |\n",
       "| 33 | 0.05413353  | 0.07344814  | 0.000833493 | 0.011407927 | 0.011522142 |\n",
       "| 34 | 0.04586048  | 0.05156945  | 0.002455266 | 0.009980000 | 0.016324491 |\n",
       "| 35 | 0.01371803  | 0.02741810  | 0.000596732 | 0.003261780 | 0.000062300 |\n",
       "| 41 | 0.06649975  | 0.08884990  | 0.001253512 | 0.016848668 | 0.015878038 |\n",
       "| 42 | 0.04075486  | 0.07382861  | 0.001128450 | 0.003265113 | 0.001132860 |\n",
       "| 43 | 0.02987019  | 0.05631656  | 0.000541396 | 0.005520714 | 0.005436186 |\n",
       "| 44 | 0.07360120  | 0.07130000  | 0.001373945 | 0.015500150 | 0.020047669 |\n",
       "| 45 | 0.05077613  | 0.12209721  | 0.003628034 | 0.012353845 | 0.013721571 |\n",
       "| 46 | 0.05800626  | 0.08357368  | 0.001697932 | 0.014000963 | 0.006949185 |\n",
       "| 47 | 0.06347510  | 0.09227679  | 0.001440442 | 0.014486080 | 0.009926635 |\n",
       "| 48 | 0.04217005  | 0.05615664  | 0.001133357 | 0.024891425 | 0.016726286 |\n",
       "| 49 | 0.04636588  | 0.06909962  | 0.002317175 | 0.017519673 | 0.005500732 |\n",
       "| 50 | 0.04544662  | 0.05410000  | 0.002026782 | 0.022041234 | 0.032221886 |\n",
       "| 56 | 0.02641411  | 0.04447990  | 0.001025237 | 0.003727513 | 0.000805571 |\n",
       "| 57 | 0.04028362  | 0.07320000  | 0.002537227 | 0.018180363 | 0.009931820 |\n",
       "| 58 | 0.03861199  | 0.07720030  | 0.002477906 | 0.009926859 | 0.007206955 |\n",
       "| 59 | 0.04610522  | 0.07732263  | 0.001975911 | 0.014244255 | 0.006854760 |\n",
       "| 60 | 0.05594702  | 0.16097957  | 0.003559227 | 0.028463118 | 0.027514436 |\n",
       "\n"
      ],
      "text/plain": [
       "   mass_400   mass_500   mass_600    mass_700    mass_800   \n",
       "16 0.05917028 0.14464680 0.002258752 0.019965924 0.024196529\n",
       "17 0.06989135 0.08715721 0.002073981 0.015894947 0.011310604\n",
       "18 0.08183052 0.15272232 0.001671131 0.016177212 0.017405851\n",
       "19 0.04360125 0.04250310 0.001427776 0.006811321 0.005660542\n",
       "20 0.05866167 0.09040000 0.002172306 0.017464916 0.016216802\n",
       "26 0.04250555 0.06810000 0.001996656 0.005245484 0.002712673\n",
       "27 0.06395580 0.07920000 0.002032787 0.011451280 0.002012197\n",
       "28 0.05782735 0.08800000 0.002118670 0.013101616 0.009078375\n",
       "29 0.06491834 0.08179934 0.001220877 0.002648015 0.000264120\n",
       "30 0.04528353 0.06423167 0.000753063 0.021040028 0.009134355\n",
       "31 0.04712801 0.11665969 0.002500000 0.042364017 0.010734698\n",
       "32 0.07043444 0.11973206 0.001644857 0.021453963 0.017635850\n",
       "33 0.05413353 0.07344814 0.000833493 0.011407927 0.011522142\n",
       "34 0.04586048 0.05156945 0.002455266 0.009980000 0.016324491\n",
       "35 0.01371803 0.02741810 0.000596732 0.003261780 0.000062300\n",
       "41 0.06649975 0.08884990 0.001253512 0.016848668 0.015878038\n",
       "42 0.04075486 0.07382861 0.001128450 0.003265113 0.001132860\n",
       "43 0.02987019 0.05631656 0.000541396 0.005520714 0.005436186\n",
       "44 0.07360120 0.07130000 0.001373945 0.015500150 0.020047669\n",
       "45 0.05077613 0.12209721 0.003628034 0.012353845 0.013721571\n",
       "46 0.05800626 0.08357368 0.001697932 0.014000963 0.006949185\n",
       "47 0.06347510 0.09227679 0.001440442 0.014486080 0.009926635\n",
       "48 0.04217005 0.05615664 0.001133357 0.024891425 0.016726286\n",
       "49 0.04636588 0.06909962 0.002317175 0.017519673 0.005500732\n",
       "50 0.04544662 0.05410000 0.002026782 0.022041234 0.032221886\n",
       "56 0.02641411 0.04447990 0.001025237 0.003727513 0.000805571\n",
       "57 0.04028362 0.07320000 0.002537227 0.018180363 0.009931820\n",
       "58 0.03861199 0.07720030 0.002477906 0.009926859 0.007206955\n",
       "59 0.04610522 0.07732263 0.001975911 0.014244255 0.006854760\n",
       "60 0.05594702 0.16097957 0.003559227 0.028463118 0.027514436"
      ]
     },
     "metadata": {},
     "output_type": "display_data"
    },
    {
     "data": {
      "text/html": [
       "<table>\n",
       "<thead><tr><th></th><th scope=col>filename</th><th scope=col>MouseID</th><th scope=col>Treatmentgroup</th><th scope=col>DPI</th><th scope=col>organ</th><th scope=col>well_position</th><th scope=col>plate</th><th scope=col>mass_400</th><th scope=col>mass_500</th><th scope=col>mass_600</th><th scope=col>mass_700</th><th scope=col>mass_800</th></tr></thead>\n",
       "<tbody>\n",
       "\t<tr><th scope=row>16</th><td>X581_Group3E_142dpi_LV_top_176_G_B4_P128.mzXML</td><td>581                                           </td><td>infected                                      </td><td>142dpi                                        </td><td>LV_top                                        </td><td>B4                                            </td><td>P128                                          </td><td>0.05917028                                    </td><td>0.14464680                                    </td><td>0.002258752                                   </td><td>0.019965924                                   </td><td>0.024196529                                   </td></tr>\n",
       "\t<tr><th scope=row>17</th><td>X582_Group3E_142dpi_LV_top_177_G_B5_P128.mzXML</td><td>582                                           </td><td>infected                                      </td><td>142dpi                                        </td><td>LV_top                                        </td><td>B5                                            </td><td>P128                                          </td><td>0.06989135                                    </td><td>0.08715721                                    </td><td>0.002073981                                   </td><td>0.015894947                                   </td><td>0.011310604                                   </td></tr>\n",
       "\t<tr><th scope=row>18</th><td>X583_Group3E_142dpi_LV_top_178_G_B6_P128.mzXML</td><td>583                                           </td><td>infected                                      </td><td>142dpi                                        </td><td>LV_top                                        </td><td>B6                                            </td><td>P128                                          </td><td>0.08183052                                    </td><td>0.15272232                                    </td><td>0.001671131                                   </td><td>0.016177212                                   </td><td>0.017405851                                   </td></tr>\n",
       "\t<tr><th scope=row>19</th><td>X584_Group3E_142dpi_LV_top_179_G_B7_P128.mzXML</td><td>584                                           </td><td>infected                                      </td><td>142dpi                                        </td><td>LV_top                                        </td><td>B7                                            </td><td>P128                                          </td><td>0.04360125                                    </td><td>0.04250310                                    </td><td>0.001427776                                   </td><td>0.006811321                                   </td><td>0.005660542                                   </td></tr>\n",
       "\t<tr><th scope=row>20</th><td>X585_Group3E_142dpi_LV_top_180_G_B8_P128.mzXML</td><td>585                                           </td><td>infected                                      </td><td>142dpi                                        </td><td>LV_top                                        </td><td>B8                                            </td><td>P128                                          </td><td>0.05866167                                    </td><td>0.09040000                                    </td><td>0.002172306                                   </td><td>0.017464916                                   </td><td>0.016216802                                   </td></tr>\n",
       "\t<tr><th scope=row>26</th><td>X631_Group15_142dpi_LV_top_191_G_C7_P128.mzXML</td><td>631                                           </td><td>BNZ                                           </td><td>142dpi                                        </td><td>LV_top                                        </td><td>C7                                            </td><td>P128                                          </td><td>0.04250555                                    </td><td>0.06810000                                    </td><td>0.001996656                                   </td><td>0.005245484                                   </td><td>0.002712673                                   </td></tr>\n",
       "</tbody>\n",
       "</table>\n"
      ],
      "text/latex": [
       "\\begin{tabular}{r|llllllllllll}\n",
       "  & filename & MouseID & Treatmentgroup & DPI & organ & well\\_position & plate & mass\\_400 & mass\\_500 & mass\\_600 & mass\\_700 & mass\\_800\\\\\n",
       "\\hline\n",
       "\t16 & X581\\_Group3E\\_142dpi\\_LV\\_top\\_176\\_G\\_B4\\_P128.mzXML & 581                                                            & infected                                                       & 142dpi                                                         & LV\\_top                                                       & B4                                                             & P128                                                           & 0.05917028                                                     & 0.14464680                                                     & 0.002258752                                                    & 0.019965924                                                    & 0.024196529                                                   \\\\\n",
       "\t17 & X582\\_Group3E\\_142dpi\\_LV\\_top\\_177\\_G\\_B5\\_P128.mzXML & 582                                                            & infected                                                       & 142dpi                                                         & LV\\_top                                                       & B5                                                             & P128                                                           & 0.06989135                                                     & 0.08715721                                                     & 0.002073981                                                    & 0.015894947                                                    & 0.011310604                                                   \\\\\n",
       "\t18 & X583\\_Group3E\\_142dpi\\_LV\\_top\\_178\\_G\\_B6\\_P128.mzXML & 583                                                            & infected                                                       & 142dpi                                                         & LV\\_top                                                       & B6                                                             & P128                                                           & 0.08183052                                                     & 0.15272232                                                     & 0.001671131                                                    & 0.016177212                                                    & 0.017405851                                                   \\\\\n",
       "\t19 & X584\\_Group3E\\_142dpi\\_LV\\_top\\_179\\_G\\_B7\\_P128.mzXML & 584                                                            & infected                                                       & 142dpi                                                         & LV\\_top                                                       & B7                                                             & P128                                                           & 0.04360125                                                     & 0.04250310                                                     & 0.001427776                                                    & 0.006811321                                                    & 0.005660542                                                   \\\\\n",
       "\t20 & X585\\_Group3E\\_142dpi\\_LV\\_top\\_180\\_G\\_B8\\_P128.mzXML & 585                                                            & infected                                                       & 142dpi                                                         & LV\\_top                                                       & B8                                                             & P128                                                           & 0.05866167                                                     & 0.09040000                                                     & 0.002172306                                                    & 0.017464916                                                    & 0.016216802                                                   \\\\\n",
       "\t26 & X631\\_Group15\\_142dpi\\_LV\\_top\\_191\\_G\\_C7\\_P128.mzXML & 631                                                            & BNZ                                                            & 142dpi                                                         & LV\\_top                                                       & C7                                                             & P128                                                           & 0.04250555                                                     & 0.06810000                                                     & 0.001996656                                                    & 0.005245484                                                    & 0.002712673                                                   \\\\\n",
       "\\end{tabular}\n"
      ],
      "text/markdown": [
       "\n",
       "| <!--/--> | filename | MouseID | Treatmentgroup | DPI | organ | well_position | plate | mass_400 | mass_500 | mass_600 | mass_700 | mass_800 |\n",
       "|---|---|---|---|---|---|---|---|---|---|---|---|---|\n",
       "| 16 | X581_Group3E_142dpi_LV_top_176_G_B4_P128.mzXML | 581                                            | infected                                       | 142dpi                                         | LV_top                                         | B4                                             | P128                                           | 0.05917028                                     | 0.14464680                                     | 0.002258752                                    | 0.019965924                                    | 0.024196529                                    |\n",
       "| 17 | X582_Group3E_142dpi_LV_top_177_G_B5_P128.mzXML | 582                                            | infected                                       | 142dpi                                         | LV_top                                         | B5                                             | P128                                           | 0.06989135                                     | 0.08715721                                     | 0.002073981                                    | 0.015894947                                    | 0.011310604                                    |\n",
       "| 18 | X583_Group3E_142dpi_LV_top_178_G_B6_P128.mzXML | 583                                            | infected                                       | 142dpi                                         | LV_top                                         | B6                                             | P128                                           | 0.08183052                                     | 0.15272232                                     | 0.001671131                                    | 0.016177212                                    | 0.017405851                                    |\n",
       "| 19 | X584_Group3E_142dpi_LV_top_179_G_B7_P128.mzXML | 584                                            | infected                                       | 142dpi                                         | LV_top                                         | B7                                             | P128                                           | 0.04360125                                     | 0.04250310                                     | 0.001427776                                    | 0.006811321                                    | 0.005660542                                    |\n",
       "| 20 | X585_Group3E_142dpi_LV_top_180_G_B8_P128.mzXML | 585                                            | infected                                       | 142dpi                                         | LV_top                                         | B8                                             | P128                                           | 0.05866167                                     | 0.09040000                                     | 0.002172306                                    | 0.017464916                                    | 0.016216802                                    |\n",
       "| 26 | X631_Group15_142dpi_LV_top_191_G_C7_P128.mzXML | 631                                            | BNZ                                            | 142dpi                                         | LV_top                                         | C7                                             | P128                                           | 0.04250555                                     | 0.06810000                                     | 0.001996656                                    | 0.005245484                                    | 0.002712673                                    |\n",
       "\n"
      ],
      "text/plain": [
       "   filename                                       MouseID Treatmentgroup DPI   \n",
       "16 X581_Group3E_142dpi_LV_top_176_G_B4_P128.mzXML 581     infected       142dpi\n",
       "17 X582_Group3E_142dpi_LV_top_177_G_B5_P128.mzXML 582     infected       142dpi\n",
       "18 X583_Group3E_142dpi_LV_top_178_G_B6_P128.mzXML 583     infected       142dpi\n",
       "19 X584_Group3E_142dpi_LV_top_179_G_B7_P128.mzXML 584     infected       142dpi\n",
       "20 X585_Group3E_142dpi_LV_top_180_G_B8_P128.mzXML 585     infected       142dpi\n",
       "26 X631_Group15_142dpi_LV_top_191_G_C7_P128.mzXML 631     BNZ            142dpi\n",
       "   organ  well_position plate mass_400   mass_500   mass_600    mass_700   \n",
       "16 LV_top B4            P128  0.05917028 0.14464680 0.002258752 0.019965924\n",
       "17 LV_top B5            P128  0.06989135 0.08715721 0.002073981 0.015894947\n",
       "18 LV_top B6            P128  0.08183052 0.15272232 0.001671131 0.016177212\n",
       "19 LV_top B7            P128  0.04360125 0.04250310 0.001427776 0.006811321\n",
       "20 LV_top B8            P128  0.05866167 0.09040000 0.002172306 0.017464916\n",
       "26 LV_top C7            P128  0.04250555 0.06810000 0.001996656 0.005245484\n",
       "   mass_800   \n",
       "16 0.024196529\n",
       "17 0.011310604\n",
       "18 0.017405851\n",
       "19 0.005660542\n",
       "20 0.016216802\n",
       "26 0.002712673"
      ]
     },
     "metadata": {},
     "output_type": "display_data"
    },
    {
     "data": {
      "text/html": [
       "<ol class=list-inline>\n",
       "\t<li>30</li>\n",
       "\t<li>12</li>\n",
       "</ol>\n"
      ],
      "text/latex": [
       "\\begin{enumerate*}\n",
       "\\item 30\n",
       "\\item 12\n",
       "\\end{enumerate*}\n"
      ],
      "text/markdown": [
       "1. 30\n",
       "2. 12\n",
       "\n",
       "\n"
      ],
      "text/plain": [
       "[1] 30 12"
      ]
     },
     "metadata": {},
     "output_type": "display_data"
    },
    {
     "data": {
      "text/html": [
       "<ol class=list-inline>\n",
       "\t<li>30</li>\n",
       "\t<li>5</li>\n",
       "</ol>\n"
      ],
      "text/latex": [
       "\\begin{enumerate*}\n",
       "\\item 30\n",
       "\\item 5\n",
       "\\end{enumerate*}\n"
      ],
      "text/markdown": [
       "1. 30\n",
       "2. 5\n",
       "\n",
       "\n"
      ],
      "text/plain": [
       "[1] 30  5"
      ]
     },
     "metadata": {},
     "output_type": "display_data"
    },
    {
     "data": {
      "text/html": [
       "<ol class=list-inline>\n",
       "\t<li>30</li>\n",
       "\t<li>5</li>\n",
       "</ol>\n"
      ],
      "text/latex": [
       "\\begin{enumerate*}\n",
       "\\item 30\n",
       "\\item 5\n",
       "\\end{enumerate*}\n"
      ],
      "text/markdown": [
       "1. 30\n",
       "2. 5\n",
       "\n",
       "\n"
      ],
      "text/plain": [
       "[1] 30  5"
      ]
     },
     "metadata": {},
     "output_type": "display_data"
    },
    {
     "data": {
      "text/html": [
       "<ol class=list-inline>\n",
       "\t<li>30</li>\n",
       "\t<li>12</li>\n",
       "</ol>\n"
      ],
      "text/latex": [
       "\\begin{enumerate*}\n",
       "\\item 30\n",
       "\\item 12\n",
       "\\end{enumerate*}\n"
      ],
      "text/markdown": [
       "1. 30\n",
       "2. 12\n",
       "\n",
       "\n"
      ],
      "text/plain": [
       "[1] 30 12"
      ]
     },
     "metadata": {},
     "output_type": "display_data"
    }
   ],
   "source": [
    "noMeta<-features_pos[,8:12]\n",
    "head(noMeta)\n",
    "not_zero<-which(colSums(noMeta) != 0)\n",
    "head(not_zero)\n",
    "nonzero <- noMeta[, not_zero]\n",
    "nonzero\n",
    "nonzero_wMeta<-cbind(features_pos[,1:7], nonzero)\n",
    "head(nonzero_wMeta)\n",
    "dim(features_pos)\n",
    "dim(noMeta)\n",
    "dim(nonzero)\n",
    "dim(nonzero_wMeta)"
   ]
  },
  {
   "cell_type": "code",
   "execution_count": 15,
   "metadata": {
    "scrolled": true
   },
   "outputs": [
    {
     "data": {
      "text/html": [
       "<ol class=list-inline>\n",
       "\t<li>0.324548174828994</li>\n",
       "\t<li>0.934887200362667</li>\n",
       "\t<li>0.870194456435353</li>\n",
       "\t<li>0.0975257598239064</li>\n",
       "\t<li>0.0742044999172241</li>\n",
       "</ol>\n"
      ],
      "text/latex": [
       "\\begin{enumerate*}\n",
       "\\item 0.324548174828994\n",
       "\\item 0.934887200362667\n",
       "\\item 0.870194456435353\n",
       "\\item 0.0975257598239064\n",
       "\\item 0.0742044999172241\n",
       "\\end{enumerate*}\n"
      ],
      "text/markdown": [
       "1. 0.324548174828994\n",
       "2. 0.934887200362667\n",
       "3. 0.870194456435353\n",
       "4. 0.0975257598239064\n",
       "5. 0.0742044999172241\n",
       "\n",
       "\n"
      ],
      "text/plain": [
       "[1] 0.32454817 0.93488720 0.87019446 0.09752576 0.07420450"
      ]
     },
     "metadata": {},
     "output_type": "display_data"
    },
    {
     "data": {
      "text/html": [
       "<ol class=list-inline>\n",
       "\t<li>0.54091362471499</li>\n",
       "\t<li>0.934887200362667</li>\n",
       "\t<li>0.934887200362667</li>\n",
       "\t<li>0.243814399559766</li>\n",
       "\t<li>0.243814399559766</li>\n",
       "</ol>\n"
      ],
      "text/latex": [
       "\\begin{enumerate*}\n",
       "\\item 0.54091362471499\n",
       "\\item 0.934887200362667\n",
       "\\item 0.934887200362667\n",
       "\\item 0.243814399559766\n",
       "\\item 0.243814399559766\n",
       "\\end{enumerate*}\n"
      ],
      "text/markdown": [
       "1. 0.54091362471499\n",
       "2. 0.934887200362667\n",
       "3. 0.934887200362667\n",
       "4. 0.243814399559766\n",
       "5. 0.243814399559766\n",
       "\n",
       "\n"
      ],
      "text/plain": [
       "[1] 0.5409136 0.9348872 0.9348872 0.2438144 0.2438144"
      ]
     },
     "metadata": {},
     "output_type": "display_data"
    }
   ],
   "source": [
    "pval<-c()\n",
    "\n",
    "for (i in 8:ncol(nonzero_wMeta)) \n",
    "pval<-c(pval,wilcox.test(nonzero_wMeta[,i]~nonzero_wMeta$Treatmentgroup)$p.value)\n",
    "head(pval)\n",
    "pAdj <- p.adjust(pval, method = c(\"fdr\"), n=length(pval)) \n",
    "head(pAdj) \n",
    "\n"
   ]
  },
  {
   "cell_type": "code",
   "execution_count": 16,
   "metadata": {
    "scrolled": true
   },
   "outputs": [
    {
     "data": {
      "text/html": [
       "5"
      ],
      "text/latex": [
       "5"
      ],
      "text/markdown": [
       "5"
      ],
      "text/plain": [
       "[1] 5"
      ]
     },
     "metadata": {},
     "output_type": "display_data"
    }
   ],
   "source": [
    "length(pval)"
   ]
  },
  {
   "cell_type": "code",
   "execution_count": 17,
   "metadata": {
    "scrolled": true
   },
   "outputs": [
    {
     "data": {
      "text/html": [
       "5"
      ],
      "text/latex": [
       "5"
      ],
      "text/markdown": [
       "5"
      ],
      "text/plain": [
       "[1] 5"
      ]
     },
     "metadata": {},
     "output_type": "display_data"
    }
   ],
   "source": [
    "length(pAdj)"
   ]
  },
  {
   "cell_type": "code",
   "execution_count": 18,
   "metadata": {},
   "outputs": [
    {
     "data": {
      "text/html": [
       "<ol class=list-inline>\n",
       "\t<li>2</li>\n",
       "\t<li>5</li>\n",
       "</ol>\n"
      ],
      "text/latex": [
       "\\begin{enumerate*}\n",
       "\\item 2\n",
       "\\item 5\n",
       "\\end{enumerate*}\n"
      ],
      "text/markdown": [
       "1. 2\n",
       "2. 5\n",
       "\n",
       "\n"
      ],
      "text/plain": [
       "[1] 2 5"
      ]
     },
     "metadata": {},
     "output_type": "display_data"
    },
    {
     "data": {
      "text/html": [
       "<table>\n",
       "<thead><tr><th></th><th scope=col>mass_400</th><th scope=col>mass_500</th><th scope=col>mass_600</th></tr></thead>\n",
       "<tbody>\n",
       "\t<tr><th scope=row>BNZ</th><td>0.04955698 </td><td>0.08179371 </td><td>0.001841527</td></tr>\n",
       "\t<tr><th scope=row>infected</th><td>0.05332623 </td><td>0.08409757 </td><td>0.001749999</td></tr>\n",
       "</tbody>\n",
       "</table>\n"
      ],
      "text/latex": [
       "\\begin{tabular}{r|lll}\n",
       "  & mass\\_400 & mass\\_500 & mass\\_600\\\\\n",
       "\\hline\n",
       "\tBNZ & 0.04955698  & 0.08179371  & 0.001841527\\\\\n",
       "\tinfected & 0.05332623  & 0.08409757  & 0.001749999\\\\\n",
       "\\end{tabular}\n"
      ],
      "text/markdown": [
       "\n",
       "| <!--/--> | mass_400 | mass_500 | mass_600 |\n",
       "|---|---|---|---|\n",
       "| BNZ | 0.04955698  | 0.08179371  | 0.001841527 |\n",
       "| infected | 0.05332623  | 0.08409757  | 0.001749999 |\n",
       "\n"
      ],
      "text/plain": [
       "         mass_400   mass_500   mass_600   \n",
       "BNZ      0.04955698 0.08179371 0.001841527\n",
       "infected 0.05332623 0.08409757 0.001749999"
      ]
     },
     "metadata": {},
     "output_type": "display_data"
    },
    {
     "data": {
      "text/html": [
       "<dl class=dl-horizontal>\n",
       "\t<dt>mass_400</dt>\n",
       "\t\t<dd>0.929317068492365</dd>\n",
       "\t<dt>mass_500</dt>\n",
       "\t\t<dd>0.972604909884043</dd>\n",
       "\t<dt>mass_600</dt>\n",
       "\t\t<dd>1.05230159776871</dd>\n",
       "\t<dt>mass_700</dt>\n",
       "\t\t<dd>0.704314945044024</dd>\n",
       "\t<dt>mass_800</dt>\n",
       "\t\t<dd>0.650865337355728</dd>\n",
       "</dl>\n"
      ],
      "text/latex": [
       "\\begin{description*}\n",
       "\\item[mass\\textbackslash{}\\_400] 0.929317068492365\n",
       "\\item[mass\\textbackslash{}\\_500] 0.972604909884043\n",
       "\\item[mass\\textbackslash{}\\_600] 1.05230159776871\n",
       "\\item[mass\\textbackslash{}\\_700] 0.704314945044024\n",
       "\\item[mass\\textbackslash{}\\_800] 0.650865337355728\n",
       "\\end{description*}\n"
      ],
      "text/markdown": [
       "mass_400\n",
       ":   0.929317068492365mass_500\n",
       ":   0.972604909884043mass_600\n",
       ":   1.05230159776871mass_700\n",
       ":   0.704314945044024mass_800\n",
       ":   0.650865337355728\n",
       "\n"
      ],
      "text/plain": [
       " mass_400  mass_500  mass_600  mass_700  mass_800 \n",
       "0.9293171 0.9726049 1.0523016 0.7043149 0.6508653 "
      ]
     },
     "metadata": {},
     "output_type": "display_data"
    },
    {
     "data": {
      "text/html": [
       "<ol class=list-inline>\n",
       "\t<li>'numeric'</li>\n",
       "\t<li>'vector'</li>\n",
       "</ol>\n"
      ],
      "text/latex": [
       "\\begin{enumerate*}\n",
       "\\item 'numeric'\n",
       "\\item 'vector'\n",
       "\\end{enumerate*}\n"
      ],
      "text/markdown": [
       "1. 'numeric'\n",
       "2. 'vector'\n",
       "\n",
       "\n"
      ],
      "text/plain": [
       "[1] \"numeric\" \"vector\" "
      ]
     },
     "metadata": {},
     "output_type": "display_data"
    }
   ],
   "source": [
    "avg<- apply(nonzero_wMeta[,8:ncol(nonzero_wMeta)], 2, function(x) tapply(x, nonzero_wMeta$Treatmentgroup, function(x) mean(x))) \n",
    "\n",
    "dim(avg)\n",
    "\n",
    "avg[,1:3]\n",
    "\n",
    "fch <- apply(avg, 2, function(x) x[1]/x[2])\n",
    "\n",
    "head(fch)\n",
    "is(fch)"
   ]
  },
  {
   "cell_type": "code",
   "execution_count": 19,
   "metadata": {
    "scrolled": true
   },
   "outputs": [
    {
     "data": {
      "text/html": [
       "<dl class=dl-horizontal>\n",
       "\t<dt>mass_400</dt>\n",
       "\t\t<dd>0.929317068492365</dd>\n",
       "\t<dt>mass_500</dt>\n",
       "\t\t<dd>0.972604909884043</dd>\n",
       "\t<dt>mass_600</dt>\n",
       "\t\t<dd>1.05230159776871</dd>\n",
       "\t<dt>mass_700</dt>\n",
       "\t\t<dd>0.704314945044024</dd>\n",
       "\t<dt>mass_800</dt>\n",
       "\t\t<dd>0.650865337355728</dd>\n",
       "</dl>\n"
      ],
      "text/latex": [
       "\\begin{description*}\n",
       "\\item[mass\\textbackslash{}\\_400] 0.929317068492365\n",
       "\\item[mass\\textbackslash{}\\_500] 0.972604909884043\n",
       "\\item[mass\\textbackslash{}\\_600] 1.05230159776871\n",
       "\\item[mass\\textbackslash{}\\_700] 0.704314945044024\n",
       "\\item[mass\\textbackslash{}\\_800] 0.650865337355728\n",
       "\\end{description*}\n"
      ],
      "text/markdown": [
       "mass_400\n",
       ":   0.929317068492365mass_500\n",
       ":   0.972604909884043mass_600\n",
       ":   1.05230159776871mass_700\n",
       ":   0.704314945044024mass_800\n",
       ":   0.650865337355728\n",
       "\n"
      ],
      "text/plain": [
       " mass_400  mass_500  mass_600  mass_700  mass_800 \n",
       "0.9293171 0.9726049 1.0523016 0.7043149 0.6508653 "
      ]
     },
     "metadata": {},
     "output_type": "display_data"
    }
   ],
   "source": [
    "fch"
   ]
  },
  {
   "cell_type": "code",
   "execution_count": 20,
   "metadata": {
    "scrolled": false
   },
   "outputs": [],
   "source": [
    "df <- data.frame(fch,pval, pAdj)\n",
    "write.csv(df, \"PC-treat-LVT-wilcox-infected-BNZ.csv\")"
   ]
  },
  {
   "cell_type": "code",
   "execution_count": null,
   "metadata": {},
   "outputs": [],
   "source": []
  },
  {
   "cell_type": "code",
   "execution_count": null,
   "metadata": {},
   "outputs": [],
   "source": []
  },
  {
   "cell_type": "code",
   "execution_count": null,
   "metadata": {},
   "outputs": [],
   "source": []
  },
  {
   "cell_type": "code",
   "execution_count": null,
   "metadata": {},
   "outputs": [],
   "source": []
  },
  {
   "cell_type": "code",
   "execution_count": null,
   "metadata": {},
   "outputs": [],
   "source": []
  },
  {
   "cell_type": "code",
   "execution_count": null,
   "metadata": {},
   "outputs": [],
   "source": []
  }
 ],
 "metadata": {
  "kernelspec": {
   "display_name": "R",
   "language": "R",
   "name": "ir"
  },
  "language_info": {
   "codemirror_mode": "r",
   "file_extension": ".r",
   "mimetype": "text/x-r-source",
   "name": "R",
   "pygments_lexer": "r",
   "version": "3.6.1"
  }
 },
 "nbformat": 4,
 "nbformat_minor": 2
}
