{
 "cells": [
  {
   "cell_type": "code",
   "execution_count": 1,
   "metadata": {},
   "outputs": [],
   "source": [
    "a <- read.csv(\"03172021-PC-treatment-LVT-M-F.csv\")"
   ]
  },
  {
   "cell_type": "code",
   "execution_count": 2,
   "metadata": {},
   "outputs": [
    {
     "data": {
      "text/html": [
       "<table>\n",
       "<thead><tr><th scope=col>filename</th><th scope=col>MouseID</th><th scope=col>Treatmentgroup</th><th scope=col>DPI</th><th scope=col>organ</th><th scope=col>well_position</th><th scope=col>plate</th><th scope=col>mass_400</th><th scope=col>mass_500</th><th scope=col>mass_600</th><th scope=col>mass_700</th><th scope=col>mass_800</th></tr></thead>\n",
       "<tbody>\n",
       "\t<tr><td>X511_Group1C_142dpi_LV_top_161_G_A1_P128.mzXML</td><td>511                                           </td><td>naive                                         </td><td>142dpi                                        </td><td>LV_top                                        </td><td>A1                                            </td><td>P128                                          </td><td>0.06556544                                    </td><td>0.09573166                                    </td><td>0.002550993                                   </td><td>0.005125326                                   </td><td>0.004634527                                   </td></tr>\n",
       "\t<tr><td>X512_Group1C_142dpi_LV_top_162_G_A2_P128.mzXML</td><td>512                                           </td><td>naive                                         </td><td>142dpi                                        </td><td>LV_top                                        </td><td>A2                                            </td><td>P128                                          </td><td>0.06089544                                    </td><td>0.08531598                                    </td><td>0.001798692                                   </td><td>0.002720909                                   </td><td>0.002227292                                   </td></tr>\n",
       "\t<tr><td>X513_Group1C_142dpi_LV_top_163_G_A3_P128.mzXML</td><td>513                                           </td><td>naive                                         </td><td>142dpi                                        </td><td>LV_top                                        </td><td>A3                                            </td><td>P128                                          </td><td>0.06358250                                    </td><td>0.15053308                                    </td><td>0.004499186                                   </td><td>0.015100000                                   </td><td>0.023117551                                   </td></tr>\n",
       "\t<tr><td>X514_Group1C_142dpi_LV_top_164_G_A4_P128.mzXML</td><td>514                                           </td><td>naive                                         </td><td>142dpi                                        </td><td>LV_top                                        </td><td>A4                                            </td><td>P128                                          </td><td>0.06126091                                    </td><td>0.06998223                                    </td><td>0.001322410                                   </td><td>0.001122947                                   </td><td>0.001015702                                   </td></tr>\n",
       "\t<tr><td>X515_Group1C_142dpi_LV_top_165_G_A5_P128.mzXML</td><td>515                                           </td><td>naive                                         </td><td>142dpi                                        </td><td>LV_top                                        </td><td>A5                                            </td><td>P128                                          </td><td>0.09292099                                    </td><td>0.14679559                                    </td><td>0.003463710                                   </td><td>0.015600000                                   </td><td>0.019521396                                   </td></tr>\n",
       "\t<tr><td>X531_Group1C_142dpi_LV_top_166_G_A6_P128.mzXML</td><td>531                                           </td><td>naive                                         </td><td>142dpi                                        </td><td>LV_top                                        </td><td>A6                                            </td><td>P128                                          </td><td>0.08085245                                    </td><td>0.14170698                                    </td><td>0.003290438                                   </td><td>0.013793976                                   </td><td>0.011966565                                   </td></tr>\n",
       "</tbody>\n",
       "</table>\n"
      ],
      "text/latex": [
       "\\begin{tabular}{r|llllllllllll}\n",
       " filename & MouseID & Treatmentgroup & DPI & organ & well\\_position & plate & mass\\_400 & mass\\_500 & mass\\_600 & mass\\_700 & mass\\_800\\\\\n",
       "\\hline\n",
       "\t X511\\_Group1C\\_142dpi\\_LV\\_top\\_161\\_G\\_A1\\_P128.mzXML & 511                                                            & naive                                                          & 142dpi                                                         & LV\\_top                                                       & A1                                                             & P128                                                           & 0.06556544                                                     & 0.09573166                                                     & 0.002550993                                                    & 0.005125326                                                    & 0.004634527                                                   \\\\\n",
       "\t X512\\_Group1C\\_142dpi\\_LV\\_top\\_162\\_G\\_A2\\_P128.mzXML & 512                                                            & naive                                                          & 142dpi                                                         & LV\\_top                                                       & A2                                                             & P128                                                           & 0.06089544                                                     & 0.08531598                                                     & 0.001798692                                                    & 0.002720909                                                    & 0.002227292                                                   \\\\\n",
       "\t X513\\_Group1C\\_142dpi\\_LV\\_top\\_163\\_G\\_A3\\_P128.mzXML & 513                                                            & naive                                                          & 142dpi                                                         & LV\\_top                                                       & A3                                                             & P128                                                           & 0.06358250                                                     & 0.15053308                                                     & 0.004499186                                                    & 0.015100000                                                    & 0.023117551                                                   \\\\\n",
       "\t X514\\_Group1C\\_142dpi\\_LV\\_top\\_164\\_G\\_A4\\_P128.mzXML & 514                                                            & naive                                                          & 142dpi                                                         & LV\\_top                                                       & A4                                                             & P128                                                           & 0.06126091                                                     & 0.06998223                                                     & 0.001322410                                                    & 0.001122947                                                    & 0.001015702                                                   \\\\\n",
       "\t X515\\_Group1C\\_142dpi\\_LV\\_top\\_165\\_G\\_A5\\_P128.mzXML & 515                                                            & naive                                                          & 142dpi                                                         & LV\\_top                                                       & A5                                                             & P128                                                           & 0.09292099                                                     & 0.14679559                                                     & 0.003463710                                                    & 0.015600000                                                    & 0.019521396                                                   \\\\\n",
       "\t X531\\_Group1C\\_142dpi\\_LV\\_top\\_166\\_G\\_A6\\_P128.mzXML & 531                                                            & naive                                                          & 142dpi                                                         & LV\\_top                                                       & A6                                                             & P128                                                           & 0.08085245                                                     & 0.14170698                                                     & 0.003290438                                                    & 0.013793976                                                    & 0.011966565                                                   \\\\\n",
       "\\end{tabular}\n"
      ],
      "text/markdown": [
       "\n",
       "| filename | MouseID | Treatmentgroup | DPI | organ | well_position | plate | mass_400 | mass_500 | mass_600 | mass_700 | mass_800 |\n",
       "|---|---|---|---|---|---|---|---|---|---|---|---|\n",
       "| X511_Group1C_142dpi_LV_top_161_G_A1_P128.mzXML | 511                                            | naive                                          | 142dpi                                         | LV_top                                         | A1                                             | P128                                           | 0.06556544                                     | 0.09573166                                     | 0.002550993                                    | 0.005125326                                    | 0.004634527                                    |\n",
       "| X512_Group1C_142dpi_LV_top_162_G_A2_P128.mzXML | 512                                            | naive                                          | 142dpi                                         | LV_top                                         | A2                                             | P128                                           | 0.06089544                                     | 0.08531598                                     | 0.001798692                                    | 0.002720909                                    | 0.002227292                                    |\n",
       "| X513_Group1C_142dpi_LV_top_163_G_A3_P128.mzXML | 513                                            | naive                                          | 142dpi                                         | LV_top                                         | A3                                             | P128                                           | 0.06358250                                     | 0.15053308                                     | 0.004499186                                    | 0.015100000                                    | 0.023117551                                    |\n",
       "| X514_Group1C_142dpi_LV_top_164_G_A4_P128.mzXML | 514                                            | naive                                          | 142dpi                                         | LV_top                                         | A4                                             | P128                                           | 0.06126091                                     | 0.06998223                                     | 0.001322410                                    | 0.001122947                                    | 0.001015702                                    |\n",
       "| X515_Group1C_142dpi_LV_top_165_G_A5_P128.mzXML | 515                                            | naive                                          | 142dpi                                         | LV_top                                         | A5                                             | P128                                           | 0.09292099                                     | 0.14679559                                     | 0.003463710                                    | 0.015600000                                    | 0.019521396                                    |\n",
       "| X531_Group1C_142dpi_LV_top_166_G_A6_P128.mzXML | 531                                            | naive                                          | 142dpi                                         | LV_top                                         | A6                                             | P128                                           | 0.08085245                                     | 0.14170698                                     | 0.003290438                                    | 0.013793976                                    | 0.011966565                                    |\n",
       "\n"
      ],
      "text/plain": [
       "  filename                                       MouseID Treatmentgroup DPI   \n",
       "1 X511_Group1C_142dpi_LV_top_161_G_A1_P128.mzXML 511     naive          142dpi\n",
       "2 X512_Group1C_142dpi_LV_top_162_G_A2_P128.mzXML 512     naive          142dpi\n",
       "3 X513_Group1C_142dpi_LV_top_163_G_A3_P128.mzXML 513     naive          142dpi\n",
       "4 X514_Group1C_142dpi_LV_top_164_G_A4_P128.mzXML 514     naive          142dpi\n",
       "5 X515_Group1C_142dpi_LV_top_165_G_A5_P128.mzXML 515     naive          142dpi\n",
       "6 X531_Group1C_142dpi_LV_top_166_G_A6_P128.mzXML 531     naive          142dpi\n",
       "  organ  well_position plate mass_400   mass_500   mass_600    mass_700   \n",
       "1 LV_top A1            P128  0.06556544 0.09573166 0.002550993 0.005125326\n",
       "2 LV_top A2            P128  0.06089544 0.08531598 0.001798692 0.002720909\n",
       "3 LV_top A3            P128  0.06358250 0.15053308 0.004499186 0.015100000\n",
       "4 LV_top A4            P128  0.06126091 0.06998223 0.001322410 0.001122947\n",
       "5 LV_top A5            P128  0.09292099 0.14679559 0.003463710 0.015600000\n",
       "6 LV_top A6            P128  0.08085245 0.14170698 0.003290438 0.013793976\n",
       "  mass_800   \n",
       "1 0.004634527\n",
       "2 0.002227292\n",
       "3 0.023117551\n",
       "4 0.001015702\n",
       "5 0.019521396\n",
       "6 0.011966565"
      ]
     },
     "metadata": {},
     "output_type": "display_data"
    },
    {
     "data": {
      "text/html": [
       "<ol class=list-inline>\n",
       "\t<li>60</li>\n",
       "\t<li>12</li>\n",
       "</ol>\n"
      ],
      "text/latex": [
       "\\begin{enumerate*}\n",
       "\\item 60\n",
       "\\item 12\n",
       "\\end{enumerate*}\n"
      ],
      "text/markdown": [
       "1. 60\n",
       "2. 12\n",
       "\n",
       "\n"
      ],
      "text/plain": [
       "[1] 60 12"
      ]
     },
     "metadata": {},
     "output_type": "display_data"
    }
   ],
   "source": [
    "head(a)\n",
    "dim(a)"
   ]
  },
  {
   "cell_type": "code",
   "execution_count": 3,
   "metadata": {},
   "outputs": [
    {
     "data": {
      "text/html": [
       "<table>\n",
       "<thead><tr><th scope=col>filename</th><th scope=col>MouseID</th><th scope=col>Treatmentgroup</th><th scope=col>DPI</th><th scope=col>organ</th><th scope=col>well_position</th><th scope=col>plate</th><th scope=col>mass_400</th><th scope=col>mass_500</th><th scope=col>mass_600</th><th scope=col>mass_700</th><th scope=col>mass_800</th></tr></thead>\n",
       "<tbody>\n",
       "\t<tr><td>X511_Group1C_142dpi_LV_top_161_G_A1_P128.mzXML</td><td>511                                           </td><td>naive                                         </td><td>142dpi                                        </td><td>LV_top                                        </td><td>A1                                            </td><td>P128                                          </td><td>0.06556544                                    </td><td>0.09573166                                    </td><td>0.002550993                                   </td><td>0.005125326                                   </td><td>0.004634527                                   </td></tr>\n",
       "\t<tr><td>X512_Group1C_142dpi_LV_top_162_G_A2_P128.mzXML</td><td>512                                           </td><td>naive                                         </td><td>142dpi                                        </td><td>LV_top                                        </td><td>A2                                            </td><td>P128                                          </td><td>0.06089544                                    </td><td>0.08531598                                    </td><td>0.001798692                                   </td><td>0.002720909                                   </td><td>0.002227292                                   </td></tr>\n",
       "\t<tr><td>X513_Group1C_142dpi_LV_top_163_G_A3_P128.mzXML</td><td>513                                           </td><td>naive                                         </td><td>142dpi                                        </td><td>LV_top                                        </td><td>A3                                            </td><td>P128                                          </td><td>0.06358250                                    </td><td>0.15053308                                    </td><td>0.004499186                                   </td><td>0.015100000                                   </td><td>0.023117551                                   </td></tr>\n",
       "\t<tr><td>X514_Group1C_142dpi_LV_top_164_G_A4_P128.mzXML</td><td>514                                           </td><td>naive                                         </td><td>142dpi                                        </td><td>LV_top                                        </td><td>A4                                            </td><td>P128                                          </td><td>0.06126091                                    </td><td>0.06998223                                    </td><td>0.001322410                                   </td><td>0.001122947                                   </td><td>0.001015702                                   </td></tr>\n",
       "\t<tr><td>X515_Group1C_142dpi_LV_top_165_G_A5_P128.mzXML</td><td>515                                           </td><td>naive                                         </td><td>142dpi                                        </td><td>LV_top                                        </td><td>A5                                            </td><td>P128                                          </td><td>0.09292099                                    </td><td>0.14679559                                    </td><td>0.003463710                                   </td><td>0.015600000                                   </td><td>0.019521396                                   </td></tr>\n",
       "\t<tr><td>X531_Group1C_142dpi_LV_top_166_G_A6_P128.mzXML</td><td>531                                           </td><td>naive                                         </td><td>142dpi                                        </td><td>LV_top                                        </td><td>A6                                            </td><td>P128                                          </td><td>0.08085245                                    </td><td>0.14170698                                    </td><td>0.003290438                                   </td><td>0.013793976                                   </td><td>0.011966565                                   </td></tr>\n",
       "</tbody>\n",
       "</table>\n"
      ],
      "text/latex": [
       "\\begin{tabular}{r|llllllllllll}\n",
       " filename & MouseID & Treatmentgroup & DPI & organ & well\\_position & plate & mass\\_400 & mass\\_500 & mass\\_600 & mass\\_700 & mass\\_800\\\\\n",
       "\\hline\n",
       "\t X511\\_Group1C\\_142dpi\\_LV\\_top\\_161\\_G\\_A1\\_P128.mzXML & 511                                                            & naive                                                          & 142dpi                                                         & LV\\_top                                                       & A1                                                             & P128                                                           & 0.06556544                                                     & 0.09573166                                                     & 0.002550993                                                    & 0.005125326                                                    & 0.004634527                                                   \\\\\n",
       "\t X512\\_Group1C\\_142dpi\\_LV\\_top\\_162\\_G\\_A2\\_P128.mzXML & 512                                                            & naive                                                          & 142dpi                                                         & LV\\_top                                                       & A2                                                             & P128                                                           & 0.06089544                                                     & 0.08531598                                                     & 0.001798692                                                    & 0.002720909                                                    & 0.002227292                                                   \\\\\n",
       "\t X513\\_Group1C\\_142dpi\\_LV\\_top\\_163\\_G\\_A3\\_P128.mzXML & 513                                                            & naive                                                          & 142dpi                                                         & LV\\_top                                                       & A3                                                             & P128                                                           & 0.06358250                                                     & 0.15053308                                                     & 0.004499186                                                    & 0.015100000                                                    & 0.023117551                                                   \\\\\n",
       "\t X514\\_Group1C\\_142dpi\\_LV\\_top\\_164\\_G\\_A4\\_P128.mzXML & 514                                                            & naive                                                          & 142dpi                                                         & LV\\_top                                                       & A4                                                             & P128                                                           & 0.06126091                                                     & 0.06998223                                                     & 0.001322410                                                    & 0.001122947                                                    & 0.001015702                                                   \\\\\n",
       "\t X515\\_Group1C\\_142dpi\\_LV\\_top\\_165\\_G\\_A5\\_P128.mzXML & 515                                                            & naive                                                          & 142dpi                                                         & LV\\_top                                                       & A5                                                             & P128                                                           & 0.09292099                                                     & 0.14679559                                                     & 0.003463710                                                    & 0.015600000                                                    & 0.019521396                                                   \\\\\n",
       "\t X531\\_Group1C\\_142dpi\\_LV\\_top\\_166\\_G\\_A6\\_P128.mzXML & 531                                                            & naive                                                          & 142dpi                                                         & LV\\_top                                                       & A6                                                             & P128                                                           & 0.08085245                                                     & 0.14170698                                                     & 0.003290438                                                    & 0.013793976                                                    & 0.011966565                                                   \\\\\n",
       "\\end{tabular}\n"
      ],
      "text/markdown": [
       "\n",
       "| filename | MouseID | Treatmentgroup | DPI | organ | well_position | plate | mass_400 | mass_500 | mass_600 | mass_700 | mass_800 |\n",
       "|---|---|---|---|---|---|---|---|---|---|---|---|\n",
       "| X511_Group1C_142dpi_LV_top_161_G_A1_P128.mzXML | 511                                            | naive                                          | 142dpi                                         | LV_top                                         | A1                                             | P128                                           | 0.06556544                                     | 0.09573166                                     | 0.002550993                                    | 0.005125326                                    | 0.004634527                                    |\n",
       "| X512_Group1C_142dpi_LV_top_162_G_A2_P128.mzXML | 512                                            | naive                                          | 142dpi                                         | LV_top                                         | A2                                             | P128                                           | 0.06089544                                     | 0.08531598                                     | 0.001798692                                    | 0.002720909                                    | 0.002227292                                    |\n",
       "| X513_Group1C_142dpi_LV_top_163_G_A3_P128.mzXML | 513                                            | naive                                          | 142dpi                                         | LV_top                                         | A3                                             | P128                                           | 0.06358250                                     | 0.15053308                                     | 0.004499186                                    | 0.015100000                                    | 0.023117551                                    |\n",
       "| X514_Group1C_142dpi_LV_top_164_G_A4_P128.mzXML | 514                                            | naive                                          | 142dpi                                         | LV_top                                         | A4                                             | P128                                           | 0.06126091                                     | 0.06998223                                     | 0.001322410                                    | 0.001122947                                    | 0.001015702                                    |\n",
       "| X515_Group1C_142dpi_LV_top_165_G_A5_P128.mzXML | 515                                            | naive                                          | 142dpi                                         | LV_top                                         | A5                                             | P128                                           | 0.09292099                                     | 0.14679559                                     | 0.003463710                                    | 0.015600000                                    | 0.019521396                                    |\n",
       "| X531_Group1C_142dpi_LV_top_166_G_A6_P128.mzXML | 531                                            | naive                                          | 142dpi                                         | LV_top                                         | A6                                             | P128                                           | 0.08085245                                     | 0.14170698                                     | 0.003290438                                    | 0.013793976                                    | 0.011966565                                    |\n",
       "\n"
      ],
      "text/plain": [
       "  filename                                       MouseID Treatmentgroup DPI   \n",
       "1 X511_Group1C_142dpi_LV_top_161_G_A1_P128.mzXML 511     naive          142dpi\n",
       "2 X512_Group1C_142dpi_LV_top_162_G_A2_P128.mzXML 512     naive          142dpi\n",
       "3 X513_Group1C_142dpi_LV_top_163_G_A3_P128.mzXML 513     naive          142dpi\n",
       "4 X514_Group1C_142dpi_LV_top_164_G_A4_P128.mzXML 514     naive          142dpi\n",
       "5 X515_Group1C_142dpi_LV_top_165_G_A5_P128.mzXML 515     naive          142dpi\n",
       "6 X531_Group1C_142dpi_LV_top_166_G_A6_P128.mzXML 531     naive          142dpi\n",
       "  organ  well_position plate mass_400   mass_500   mass_600    mass_700   \n",
       "1 LV_top A1            P128  0.06556544 0.09573166 0.002550993 0.005125326\n",
       "2 LV_top A2            P128  0.06089544 0.08531598 0.001798692 0.002720909\n",
       "3 LV_top A3            P128  0.06358250 0.15053308 0.004499186 0.015100000\n",
       "4 LV_top A4            P128  0.06126091 0.06998223 0.001322410 0.001122947\n",
       "5 LV_top A5            P128  0.09292099 0.14679559 0.003463710 0.015600000\n",
       "6 LV_top A6            P128  0.08085245 0.14170698 0.003290438 0.013793976\n",
       "  mass_800   \n",
       "1 0.004634527\n",
       "2 0.002227292\n",
       "3 0.023117551\n",
       "4 0.001015702\n",
       "5 0.019521396\n",
       "6 0.011966565"
      ]
     },
     "metadata": {},
     "output_type": "display_data"
    },
    {
     "data": {
      "text/html": [
       "<ol class=list-inline>\n",
       "\t<li>30</li>\n",
       "\t<li>12</li>\n",
       "</ol>\n"
      ],
      "text/latex": [
       "\\begin{enumerate*}\n",
       "\\item 30\n",
       "\\item 12\n",
       "\\end{enumerate*}\n"
      ],
      "text/markdown": [
       "1. 30\n",
       "2. 12\n",
       "\n",
       "\n"
      ],
      "text/plain": [
       "[1] 30 12"
      ]
     },
     "metadata": {},
     "output_type": "display_data"
    }
   ],
   "source": [
    "features_pos<-droplevels(subset(a, a$Treatmentgroup==c(\"naive\")|a$Treatmentgroup==c(\"BNZ\")))\n",
    "head(features_pos)\n",
    "dim(features_pos)"
   ]
  },
  {
   "cell_type": "code",
   "execution_count": 4,
   "metadata": {
    "scrolled": false
   },
   "outputs": [
    {
     "data": {
      "text/html": [
       "<table>\n",
       "<thead><tr><th scope=col>mass_400</th><th scope=col>mass_500</th><th scope=col>mass_600</th><th scope=col>mass_700</th><th scope=col>mass_800</th></tr></thead>\n",
       "<tbody>\n",
       "\t<tr><td>0.06556544 </td><td>0.09573166 </td><td>0.002550993</td><td>0.005125326</td><td>0.004634527</td></tr>\n",
       "\t<tr><td>0.06089544 </td><td>0.08531598 </td><td>0.001798692</td><td>0.002720909</td><td>0.002227292</td></tr>\n",
       "\t<tr><td>0.06358250 </td><td>0.15053308 </td><td>0.004499186</td><td>0.015100000</td><td>0.023117551</td></tr>\n",
       "\t<tr><td>0.06126091 </td><td>0.06998223 </td><td>0.001322410</td><td>0.001122947</td><td>0.001015702</td></tr>\n",
       "\t<tr><td>0.09292099 </td><td>0.14679559 </td><td>0.003463710</td><td>0.015600000</td><td>0.019521396</td></tr>\n",
       "\t<tr><td>0.08085245 </td><td>0.14170698 </td><td>0.003290438</td><td>0.013793976</td><td>0.011966565</td></tr>\n",
       "</tbody>\n",
       "</table>\n"
      ],
      "text/latex": [
       "\\begin{tabular}{r|lllll}\n",
       " mass\\_400 & mass\\_500 & mass\\_600 & mass\\_700 & mass\\_800\\\\\n",
       "\\hline\n",
       "\t 0.06556544  & 0.09573166  & 0.002550993 & 0.005125326 & 0.004634527\\\\\n",
       "\t 0.06089544  & 0.08531598  & 0.001798692 & 0.002720909 & 0.002227292\\\\\n",
       "\t 0.06358250  & 0.15053308  & 0.004499186 & 0.015100000 & 0.023117551\\\\\n",
       "\t 0.06126091  & 0.06998223  & 0.001322410 & 0.001122947 & 0.001015702\\\\\n",
       "\t 0.09292099  & 0.14679559  & 0.003463710 & 0.015600000 & 0.019521396\\\\\n",
       "\t 0.08085245  & 0.14170698  & 0.003290438 & 0.013793976 & 0.011966565\\\\\n",
       "\\end{tabular}\n"
      ],
      "text/markdown": [
       "\n",
       "| mass_400 | mass_500 | mass_600 | mass_700 | mass_800 |\n",
       "|---|---|---|---|---|\n",
       "| 0.06556544  | 0.09573166  | 0.002550993 | 0.005125326 | 0.004634527 |\n",
       "| 0.06089544  | 0.08531598  | 0.001798692 | 0.002720909 | 0.002227292 |\n",
       "| 0.06358250  | 0.15053308  | 0.004499186 | 0.015100000 | 0.023117551 |\n",
       "| 0.06126091  | 0.06998223  | 0.001322410 | 0.001122947 | 0.001015702 |\n",
       "| 0.09292099  | 0.14679559  | 0.003463710 | 0.015600000 | 0.019521396 |\n",
       "| 0.08085245  | 0.14170698  | 0.003290438 | 0.013793976 | 0.011966565 |\n",
       "\n"
      ],
      "text/plain": [
       "  mass_400   mass_500   mass_600    mass_700    mass_800   \n",
       "1 0.06556544 0.09573166 0.002550993 0.005125326 0.004634527\n",
       "2 0.06089544 0.08531598 0.001798692 0.002720909 0.002227292\n",
       "3 0.06358250 0.15053308 0.004499186 0.015100000 0.023117551\n",
       "4 0.06126091 0.06998223 0.001322410 0.001122947 0.001015702\n",
       "5 0.09292099 0.14679559 0.003463710 0.015600000 0.019521396\n",
       "6 0.08085245 0.14170698 0.003290438 0.013793976 0.011966565"
      ]
     },
     "metadata": {},
     "output_type": "display_data"
    },
    {
     "data": {
      "text/html": [
       "<dl class=dl-horizontal>\n",
       "\t<dt>mass_400</dt>\n",
       "\t\t<dd>1</dd>\n",
       "\t<dt>mass_500</dt>\n",
       "\t\t<dd>2</dd>\n",
       "\t<dt>mass_600</dt>\n",
       "\t\t<dd>3</dd>\n",
       "\t<dt>mass_700</dt>\n",
       "\t\t<dd>4</dd>\n",
       "\t<dt>mass_800</dt>\n",
       "\t\t<dd>5</dd>\n",
       "</dl>\n"
      ],
      "text/latex": [
       "\\begin{description*}\n",
       "\\item[mass\\textbackslash{}\\_400] 1\n",
       "\\item[mass\\textbackslash{}\\_500] 2\n",
       "\\item[mass\\textbackslash{}\\_600] 3\n",
       "\\item[mass\\textbackslash{}\\_700] 4\n",
       "\\item[mass\\textbackslash{}\\_800] 5\n",
       "\\end{description*}\n"
      ],
      "text/markdown": [
       "mass_400\n",
       ":   1mass_500\n",
       ":   2mass_600\n",
       ":   3mass_700\n",
       ":   4mass_800\n",
       ":   5\n",
       "\n"
      ],
      "text/plain": [
       "mass_400 mass_500 mass_600 mass_700 mass_800 \n",
       "       1        2        3        4        5 "
      ]
     },
     "metadata": {},
     "output_type": "display_data"
    },
    {
     "data": {
      "text/html": [
       "<table>\n",
       "<thead><tr><th></th><th scope=col>mass_400</th><th scope=col>mass_500</th><th scope=col>mass_600</th><th scope=col>mass_700</th><th scope=col>mass_800</th></tr></thead>\n",
       "<tbody>\n",
       "\t<tr><th scope=row>1</th><td>0.06556544 </td><td>0.09573166 </td><td>0.002550993</td><td>0.005125326</td><td>0.004634527</td></tr>\n",
       "\t<tr><th scope=row>2</th><td>0.06089544 </td><td>0.08531598 </td><td>0.001798692</td><td>0.002720909</td><td>0.002227292</td></tr>\n",
       "\t<tr><th scope=row>3</th><td>0.06358250 </td><td>0.15053308 </td><td>0.004499186</td><td>0.015100000</td><td>0.023117551</td></tr>\n",
       "\t<tr><th scope=row>4</th><td>0.06126091 </td><td>0.06998223 </td><td>0.001322410</td><td>0.001122947</td><td>0.001015702</td></tr>\n",
       "\t<tr><th scope=row>5</th><td>0.09292099 </td><td>0.14679559 </td><td>0.003463710</td><td>0.015600000</td><td>0.019521396</td></tr>\n",
       "\t<tr><th scope=row>6</th><td>0.08085245 </td><td>0.14170698 </td><td>0.003290438</td><td>0.013793976</td><td>0.011966565</td></tr>\n",
       "\t<tr><th scope=row>7</th><td>0.06617964 </td><td>0.09732486 </td><td>0.002248258</td><td>0.005990147</td><td>0.008215334</td></tr>\n",
       "\t<tr><th scope=row>8</th><td>0.07325732 </td><td>0.11891559 </td><td>0.001863646</td><td>0.013500000</td><td>0.012884615</td></tr>\n",
       "\t<tr><th scope=row>9</th><td>0.04335837 </td><td>0.06906421 </td><td>0.001902407</td><td>0.016636705</td><td>0.006215393</td></tr>\n",
       "\t<tr><th scope=row>10</th><td>0.04001047 </td><td>0.06406205 </td><td>0.000720707</td><td>0.003210069</td><td>0.001953230</td></tr>\n",
       "\t<tr><th scope=row>11</th><td>0.06379014 </td><td>0.09480000 </td><td>0.002165375</td><td>0.015541595</td><td>0.005689063</td></tr>\n",
       "\t<tr><th scope=row>12</th><td>0.05818840 </td><td>0.07474114 </td><td>0.001378898</td><td>0.001601977</td><td>0.001682853</td></tr>\n",
       "\t<tr><th scope=row>13</th><td>0.08639631 </td><td>0.12010679 </td><td>0.002203362</td><td>0.023472311</td><td>0.036662718</td></tr>\n",
       "\t<tr><th scope=row>14</th><td>0.07652982 </td><td>0.11181941 </td><td>0.001244093</td><td>0.007312124</td><td>0.005641256</td></tr>\n",
       "\t<tr><th scope=row>15</th><td>0.07281499 </td><td>0.14099352 </td><td>0.002302861</td><td>0.019800000</td><td>0.027806219</td></tr>\n",
       "\t<tr><th scope=row>26</th><td>0.04250555 </td><td>0.06810000 </td><td>0.001996656</td><td>0.005245484</td><td>0.002712673</td></tr>\n",
       "\t<tr><th scope=row>27</th><td>0.06395580 </td><td>0.07920000 </td><td>0.002032787</td><td>0.011451280</td><td>0.002012197</td></tr>\n",
       "\t<tr><th scope=row>28</th><td>0.05782735 </td><td>0.08800000 </td><td>0.002118670</td><td>0.013101616</td><td>0.009078375</td></tr>\n",
       "\t<tr><th scope=row>29</th><td>0.06491834 </td><td>0.08179934 </td><td>0.001220877</td><td>0.002648015</td><td>0.000264120</td></tr>\n",
       "\t<tr><th scope=row>30</th><td>0.04528353 </td><td>0.06423167 </td><td>0.000753063</td><td>0.021040028</td><td>0.009134355</td></tr>\n",
       "\t<tr><th scope=row>41</th><td>0.06649975 </td><td>0.08884990 </td><td>0.001253512</td><td>0.016848668</td><td>0.015878038</td></tr>\n",
       "\t<tr><th scope=row>42</th><td>0.04075486 </td><td>0.07382861 </td><td>0.001128450</td><td>0.003265113</td><td>0.001132860</td></tr>\n",
       "\t<tr><th scope=row>43</th><td>0.02987019 </td><td>0.05631656 </td><td>0.000541396</td><td>0.005520714</td><td>0.005436186</td></tr>\n",
       "\t<tr><th scope=row>44</th><td>0.07360120 </td><td>0.07130000 </td><td>0.001373945</td><td>0.015500150</td><td>0.020047669</td></tr>\n",
       "\t<tr><th scope=row>45</th><td>0.05077613 </td><td>0.12209721 </td><td>0.003628034</td><td>0.012353845</td><td>0.013721571</td></tr>\n",
       "\t<tr><th scope=row>56</th><td>0.02641411 </td><td>0.04447990 </td><td>0.001025237</td><td>0.003727513</td><td>0.000805571</td></tr>\n",
       "\t<tr><th scope=row>57</th><td>0.04028362 </td><td>0.07320000 </td><td>0.002537227</td><td>0.018180363</td><td>0.009931820</td></tr>\n",
       "\t<tr><th scope=row>58</th><td>0.03861199 </td><td>0.07720030 </td><td>0.002477906</td><td>0.009926859</td><td>0.007206955</td></tr>\n",
       "\t<tr><th scope=row>59</th><td>0.04610522 </td><td>0.07732263 </td><td>0.001975911</td><td>0.014244255</td><td>0.006854760</td></tr>\n",
       "\t<tr><th scope=row>60</th><td>0.05594702 </td><td>0.16097957 </td><td>0.003559227</td><td>0.028463118</td><td>0.027514436</td></tr>\n",
       "</tbody>\n",
       "</table>\n"
      ],
      "text/latex": [
       "\\begin{tabular}{r|lllll}\n",
       "  & mass\\_400 & mass\\_500 & mass\\_600 & mass\\_700 & mass\\_800\\\\\n",
       "\\hline\n",
       "\t1 & 0.06556544  & 0.09573166  & 0.002550993 & 0.005125326 & 0.004634527\\\\\n",
       "\t2 & 0.06089544  & 0.08531598  & 0.001798692 & 0.002720909 & 0.002227292\\\\\n",
       "\t3 & 0.06358250  & 0.15053308  & 0.004499186 & 0.015100000 & 0.023117551\\\\\n",
       "\t4 & 0.06126091  & 0.06998223  & 0.001322410 & 0.001122947 & 0.001015702\\\\\n",
       "\t5 & 0.09292099  & 0.14679559  & 0.003463710 & 0.015600000 & 0.019521396\\\\\n",
       "\t6 & 0.08085245  & 0.14170698  & 0.003290438 & 0.013793976 & 0.011966565\\\\\n",
       "\t7 & 0.06617964  & 0.09732486  & 0.002248258 & 0.005990147 & 0.008215334\\\\\n",
       "\t8 & 0.07325732  & 0.11891559  & 0.001863646 & 0.013500000 & 0.012884615\\\\\n",
       "\t9 & 0.04335837  & 0.06906421  & 0.001902407 & 0.016636705 & 0.006215393\\\\\n",
       "\t10 & 0.04001047  & 0.06406205  & 0.000720707 & 0.003210069 & 0.001953230\\\\\n",
       "\t11 & 0.06379014  & 0.09480000  & 0.002165375 & 0.015541595 & 0.005689063\\\\\n",
       "\t12 & 0.05818840  & 0.07474114  & 0.001378898 & 0.001601977 & 0.001682853\\\\\n",
       "\t13 & 0.08639631  & 0.12010679  & 0.002203362 & 0.023472311 & 0.036662718\\\\\n",
       "\t14 & 0.07652982  & 0.11181941  & 0.001244093 & 0.007312124 & 0.005641256\\\\\n",
       "\t15 & 0.07281499  & 0.14099352  & 0.002302861 & 0.019800000 & 0.027806219\\\\\n",
       "\t26 & 0.04250555  & 0.06810000  & 0.001996656 & 0.005245484 & 0.002712673\\\\\n",
       "\t27 & 0.06395580  & 0.07920000  & 0.002032787 & 0.011451280 & 0.002012197\\\\\n",
       "\t28 & 0.05782735  & 0.08800000  & 0.002118670 & 0.013101616 & 0.009078375\\\\\n",
       "\t29 & 0.06491834  & 0.08179934  & 0.001220877 & 0.002648015 & 0.000264120\\\\\n",
       "\t30 & 0.04528353  & 0.06423167  & 0.000753063 & 0.021040028 & 0.009134355\\\\\n",
       "\t41 & 0.06649975  & 0.08884990  & 0.001253512 & 0.016848668 & 0.015878038\\\\\n",
       "\t42 & 0.04075486  & 0.07382861  & 0.001128450 & 0.003265113 & 0.001132860\\\\\n",
       "\t43 & 0.02987019  & 0.05631656  & 0.000541396 & 0.005520714 & 0.005436186\\\\\n",
       "\t44 & 0.07360120  & 0.07130000  & 0.001373945 & 0.015500150 & 0.020047669\\\\\n",
       "\t45 & 0.05077613  & 0.12209721  & 0.003628034 & 0.012353845 & 0.013721571\\\\\n",
       "\t56 & 0.02641411  & 0.04447990  & 0.001025237 & 0.003727513 & 0.000805571\\\\\n",
       "\t57 & 0.04028362  & 0.07320000  & 0.002537227 & 0.018180363 & 0.009931820\\\\\n",
       "\t58 & 0.03861199  & 0.07720030  & 0.002477906 & 0.009926859 & 0.007206955\\\\\n",
       "\t59 & 0.04610522  & 0.07732263  & 0.001975911 & 0.014244255 & 0.006854760\\\\\n",
       "\t60 & 0.05594702  & 0.16097957  & 0.003559227 & 0.028463118 & 0.027514436\\\\\n",
       "\\end{tabular}\n"
      ],
      "text/markdown": [
       "\n",
       "| <!--/--> | mass_400 | mass_500 | mass_600 | mass_700 | mass_800 |\n",
       "|---|---|---|---|---|---|\n",
       "| 1 | 0.06556544  | 0.09573166  | 0.002550993 | 0.005125326 | 0.004634527 |\n",
       "| 2 | 0.06089544  | 0.08531598  | 0.001798692 | 0.002720909 | 0.002227292 |\n",
       "| 3 | 0.06358250  | 0.15053308  | 0.004499186 | 0.015100000 | 0.023117551 |\n",
       "| 4 | 0.06126091  | 0.06998223  | 0.001322410 | 0.001122947 | 0.001015702 |\n",
       "| 5 | 0.09292099  | 0.14679559  | 0.003463710 | 0.015600000 | 0.019521396 |\n",
       "| 6 | 0.08085245  | 0.14170698  | 0.003290438 | 0.013793976 | 0.011966565 |\n",
       "| 7 | 0.06617964  | 0.09732486  | 0.002248258 | 0.005990147 | 0.008215334 |\n",
       "| 8 | 0.07325732  | 0.11891559  | 0.001863646 | 0.013500000 | 0.012884615 |\n",
       "| 9 | 0.04335837  | 0.06906421  | 0.001902407 | 0.016636705 | 0.006215393 |\n",
       "| 10 | 0.04001047  | 0.06406205  | 0.000720707 | 0.003210069 | 0.001953230 |\n",
       "| 11 | 0.06379014  | 0.09480000  | 0.002165375 | 0.015541595 | 0.005689063 |\n",
       "| 12 | 0.05818840  | 0.07474114  | 0.001378898 | 0.001601977 | 0.001682853 |\n",
       "| 13 | 0.08639631  | 0.12010679  | 0.002203362 | 0.023472311 | 0.036662718 |\n",
       "| 14 | 0.07652982  | 0.11181941  | 0.001244093 | 0.007312124 | 0.005641256 |\n",
       "| 15 | 0.07281499  | 0.14099352  | 0.002302861 | 0.019800000 | 0.027806219 |\n",
       "| 26 | 0.04250555  | 0.06810000  | 0.001996656 | 0.005245484 | 0.002712673 |\n",
       "| 27 | 0.06395580  | 0.07920000  | 0.002032787 | 0.011451280 | 0.002012197 |\n",
       "| 28 | 0.05782735  | 0.08800000  | 0.002118670 | 0.013101616 | 0.009078375 |\n",
       "| 29 | 0.06491834  | 0.08179934  | 0.001220877 | 0.002648015 | 0.000264120 |\n",
       "| 30 | 0.04528353  | 0.06423167  | 0.000753063 | 0.021040028 | 0.009134355 |\n",
       "| 41 | 0.06649975  | 0.08884990  | 0.001253512 | 0.016848668 | 0.015878038 |\n",
       "| 42 | 0.04075486  | 0.07382861  | 0.001128450 | 0.003265113 | 0.001132860 |\n",
       "| 43 | 0.02987019  | 0.05631656  | 0.000541396 | 0.005520714 | 0.005436186 |\n",
       "| 44 | 0.07360120  | 0.07130000  | 0.001373945 | 0.015500150 | 0.020047669 |\n",
       "| 45 | 0.05077613  | 0.12209721  | 0.003628034 | 0.012353845 | 0.013721571 |\n",
       "| 56 | 0.02641411  | 0.04447990  | 0.001025237 | 0.003727513 | 0.000805571 |\n",
       "| 57 | 0.04028362  | 0.07320000  | 0.002537227 | 0.018180363 | 0.009931820 |\n",
       "| 58 | 0.03861199  | 0.07720030  | 0.002477906 | 0.009926859 | 0.007206955 |\n",
       "| 59 | 0.04610522  | 0.07732263  | 0.001975911 | 0.014244255 | 0.006854760 |\n",
       "| 60 | 0.05594702  | 0.16097957  | 0.003559227 | 0.028463118 | 0.027514436 |\n",
       "\n"
      ],
      "text/plain": [
       "   mass_400   mass_500   mass_600    mass_700    mass_800   \n",
       "1  0.06556544 0.09573166 0.002550993 0.005125326 0.004634527\n",
       "2  0.06089544 0.08531598 0.001798692 0.002720909 0.002227292\n",
       "3  0.06358250 0.15053308 0.004499186 0.015100000 0.023117551\n",
       "4  0.06126091 0.06998223 0.001322410 0.001122947 0.001015702\n",
       "5  0.09292099 0.14679559 0.003463710 0.015600000 0.019521396\n",
       "6  0.08085245 0.14170698 0.003290438 0.013793976 0.011966565\n",
       "7  0.06617964 0.09732486 0.002248258 0.005990147 0.008215334\n",
       "8  0.07325732 0.11891559 0.001863646 0.013500000 0.012884615\n",
       "9  0.04335837 0.06906421 0.001902407 0.016636705 0.006215393\n",
       "10 0.04001047 0.06406205 0.000720707 0.003210069 0.001953230\n",
       "11 0.06379014 0.09480000 0.002165375 0.015541595 0.005689063\n",
       "12 0.05818840 0.07474114 0.001378898 0.001601977 0.001682853\n",
       "13 0.08639631 0.12010679 0.002203362 0.023472311 0.036662718\n",
       "14 0.07652982 0.11181941 0.001244093 0.007312124 0.005641256\n",
       "15 0.07281499 0.14099352 0.002302861 0.019800000 0.027806219\n",
       "26 0.04250555 0.06810000 0.001996656 0.005245484 0.002712673\n",
       "27 0.06395580 0.07920000 0.002032787 0.011451280 0.002012197\n",
       "28 0.05782735 0.08800000 0.002118670 0.013101616 0.009078375\n",
       "29 0.06491834 0.08179934 0.001220877 0.002648015 0.000264120\n",
       "30 0.04528353 0.06423167 0.000753063 0.021040028 0.009134355\n",
       "41 0.06649975 0.08884990 0.001253512 0.016848668 0.015878038\n",
       "42 0.04075486 0.07382861 0.001128450 0.003265113 0.001132860\n",
       "43 0.02987019 0.05631656 0.000541396 0.005520714 0.005436186\n",
       "44 0.07360120 0.07130000 0.001373945 0.015500150 0.020047669\n",
       "45 0.05077613 0.12209721 0.003628034 0.012353845 0.013721571\n",
       "56 0.02641411 0.04447990 0.001025237 0.003727513 0.000805571\n",
       "57 0.04028362 0.07320000 0.002537227 0.018180363 0.009931820\n",
       "58 0.03861199 0.07720030 0.002477906 0.009926859 0.007206955\n",
       "59 0.04610522 0.07732263 0.001975911 0.014244255 0.006854760\n",
       "60 0.05594702 0.16097957 0.003559227 0.028463118 0.027514436"
      ]
     },
     "metadata": {},
     "output_type": "display_data"
    },
    {
     "data": {
      "text/html": [
       "<table>\n",
       "<thead><tr><th scope=col>filename</th><th scope=col>MouseID</th><th scope=col>Treatmentgroup</th><th scope=col>DPI</th><th scope=col>organ</th><th scope=col>well_position</th><th scope=col>plate</th><th scope=col>mass_400</th><th scope=col>mass_500</th><th scope=col>mass_600</th><th scope=col>mass_700</th><th scope=col>mass_800</th></tr></thead>\n",
       "<tbody>\n",
       "\t<tr><td>X511_Group1C_142dpi_LV_top_161_G_A1_P128.mzXML</td><td>511                                           </td><td>naive                                         </td><td>142dpi                                        </td><td>LV_top                                        </td><td>A1                                            </td><td>P128                                          </td><td>0.06556544                                    </td><td>0.09573166                                    </td><td>0.002550993                                   </td><td>0.005125326                                   </td><td>0.004634527                                   </td></tr>\n",
       "\t<tr><td>X512_Group1C_142dpi_LV_top_162_G_A2_P128.mzXML</td><td>512                                           </td><td>naive                                         </td><td>142dpi                                        </td><td>LV_top                                        </td><td>A2                                            </td><td>P128                                          </td><td>0.06089544                                    </td><td>0.08531598                                    </td><td>0.001798692                                   </td><td>0.002720909                                   </td><td>0.002227292                                   </td></tr>\n",
       "\t<tr><td>X513_Group1C_142dpi_LV_top_163_G_A3_P128.mzXML</td><td>513                                           </td><td>naive                                         </td><td>142dpi                                        </td><td>LV_top                                        </td><td>A3                                            </td><td>P128                                          </td><td>0.06358250                                    </td><td>0.15053308                                    </td><td>0.004499186                                   </td><td>0.015100000                                   </td><td>0.023117551                                   </td></tr>\n",
       "\t<tr><td>X514_Group1C_142dpi_LV_top_164_G_A4_P128.mzXML</td><td>514                                           </td><td>naive                                         </td><td>142dpi                                        </td><td>LV_top                                        </td><td>A4                                            </td><td>P128                                          </td><td>0.06126091                                    </td><td>0.06998223                                    </td><td>0.001322410                                   </td><td>0.001122947                                   </td><td>0.001015702                                   </td></tr>\n",
       "\t<tr><td>X515_Group1C_142dpi_LV_top_165_G_A5_P128.mzXML</td><td>515                                           </td><td>naive                                         </td><td>142dpi                                        </td><td>LV_top                                        </td><td>A5                                            </td><td>P128                                          </td><td>0.09292099                                    </td><td>0.14679559                                    </td><td>0.003463710                                   </td><td>0.015600000                                   </td><td>0.019521396                                   </td></tr>\n",
       "\t<tr><td>X531_Group1C_142dpi_LV_top_166_G_A6_P128.mzXML</td><td>531                                           </td><td>naive                                         </td><td>142dpi                                        </td><td>LV_top                                        </td><td>A6                                            </td><td>P128                                          </td><td>0.08085245                                    </td><td>0.14170698                                    </td><td>0.003290438                                   </td><td>0.013793976                                   </td><td>0.011966565                                   </td></tr>\n",
       "</tbody>\n",
       "</table>\n"
      ],
      "text/latex": [
       "\\begin{tabular}{r|llllllllllll}\n",
       " filename & MouseID & Treatmentgroup & DPI & organ & well\\_position & plate & mass\\_400 & mass\\_500 & mass\\_600 & mass\\_700 & mass\\_800\\\\\n",
       "\\hline\n",
       "\t X511\\_Group1C\\_142dpi\\_LV\\_top\\_161\\_G\\_A1\\_P128.mzXML & 511                                                            & naive                                                          & 142dpi                                                         & LV\\_top                                                       & A1                                                             & P128                                                           & 0.06556544                                                     & 0.09573166                                                     & 0.002550993                                                    & 0.005125326                                                    & 0.004634527                                                   \\\\\n",
       "\t X512\\_Group1C\\_142dpi\\_LV\\_top\\_162\\_G\\_A2\\_P128.mzXML & 512                                                            & naive                                                          & 142dpi                                                         & LV\\_top                                                       & A2                                                             & P128                                                           & 0.06089544                                                     & 0.08531598                                                     & 0.001798692                                                    & 0.002720909                                                    & 0.002227292                                                   \\\\\n",
       "\t X513\\_Group1C\\_142dpi\\_LV\\_top\\_163\\_G\\_A3\\_P128.mzXML & 513                                                            & naive                                                          & 142dpi                                                         & LV\\_top                                                       & A3                                                             & P128                                                           & 0.06358250                                                     & 0.15053308                                                     & 0.004499186                                                    & 0.015100000                                                    & 0.023117551                                                   \\\\\n",
       "\t X514\\_Group1C\\_142dpi\\_LV\\_top\\_164\\_G\\_A4\\_P128.mzXML & 514                                                            & naive                                                          & 142dpi                                                         & LV\\_top                                                       & A4                                                             & P128                                                           & 0.06126091                                                     & 0.06998223                                                     & 0.001322410                                                    & 0.001122947                                                    & 0.001015702                                                   \\\\\n",
       "\t X515\\_Group1C\\_142dpi\\_LV\\_top\\_165\\_G\\_A5\\_P128.mzXML & 515                                                            & naive                                                          & 142dpi                                                         & LV\\_top                                                       & A5                                                             & P128                                                           & 0.09292099                                                     & 0.14679559                                                     & 0.003463710                                                    & 0.015600000                                                    & 0.019521396                                                   \\\\\n",
       "\t X531\\_Group1C\\_142dpi\\_LV\\_top\\_166\\_G\\_A6\\_P128.mzXML & 531                                                            & naive                                                          & 142dpi                                                         & LV\\_top                                                       & A6                                                             & P128                                                           & 0.08085245                                                     & 0.14170698                                                     & 0.003290438                                                    & 0.013793976                                                    & 0.011966565                                                   \\\\\n",
       "\\end{tabular}\n"
      ],
      "text/markdown": [
       "\n",
       "| filename | MouseID | Treatmentgroup | DPI | organ | well_position | plate | mass_400 | mass_500 | mass_600 | mass_700 | mass_800 |\n",
       "|---|---|---|---|---|---|---|---|---|---|---|---|\n",
       "| X511_Group1C_142dpi_LV_top_161_G_A1_P128.mzXML | 511                                            | naive                                          | 142dpi                                         | LV_top                                         | A1                                             | P128                                           | 0.06556544                                     | 0.09573166                                     | 0.002550993                                    | 0.005125326                                    | 0.004634527                                    |\n",
       "| X512_Group1C_142dpi_LV_top_162_G_A2_P128.mzXML | 512                                            | naive                                          | 142dpi                                         | LV_top                                         | A2                                             | P128                                           | 0.06089544                                     | 0.08531598                                     | 0.001798692                                    | 0.002720909                                    | 0.002227292                                    |\n",
       "| X513_Group1C_142dpi_LV_top_163_G_A3_P128.mzXML | 513                                            | naive                                          | 142dpi                                         | LV_top                                         | A3                                             | P128                                           | 0.06358250                                     | 0.15053308                                     | 0.004499186                                    | 0.015100000                                    | 0.023117551                                    |\n",
       "| X514_Group1C_142dpi_LV_top_164_G_A4_P128.mzXML | 514                                            | naive                                          | 142dpi                                         | LV_top                                         | A4                                             | P128                                           | 0.06126091                                     | 0.06998223                                     | 0.001322410                                    | 0.001122947                                    | 0.001015702                                    |\n",
       "| X515_Group1C_142dpi_LV_top_165_G_A5_P128.mzXML | 515                                            | naive                                          | 142dpi                                         | LV_top                                         | A5                                             | P128                                           | 0.09292099                                     | 0.14679559                                     | 0.003463710                                    | 0.015600000                                    | 0.019521396                                    |\n",
       "| X531_Group1C_142dpi_LV_top_166_G_A6_P128.mzXML | 531                                            | naive                                          | 142dpi                                         | LV_top                                         | A6                                             | P128                                           | 0.08085245                                     | 0.14170698                                     | 0.003290438                                    | 0.013793976                                    | 0.011966565                                    |\n",
       "\n"
      ],
      "text/plain": [
       "  filename                                       MouseID Treatmentgroup DPI   \n",
       "1 X511_Group1C_142dpi_LV_top_161_G_A1_P128.mzXML 511     naive          142dpi\n",
       "2 X512_Group1C_142dpi_LV_top_162_G_A2_P128.mzXML 512     naive          142dpi\n",
       "3 X513_Group1C_142dpi_LV_top_163_G_A3_P128.mzXML 513     naive          142dpi\n",
       "4 X514_Group1C_142dpi_LV_top_164_G_A4_P128.mzXML 514     naive          142dpi\n",
       "5 X515_Group1C_142dpi_LV_top_165_G_A5_P128.mzXML 515     naive          142dpi\n",
       "6 X531_Group1C_142dpi_LV_top_166_G_A6_P128.mzXML 531     naive          142dpi\n",
       "  organ  well_position plate mass_400   mass_500   mass_600    mass_700   \n",
       "1 LV_top A1            P128  0.06556544 0.09573166 0.002550993 0.005125326\n",
       "2 LV_top A2            P128  0.06089544 0.08531598 0.001798692 0.002720909\n",
       "3 LV_top A3            P128  0.06358250 0.15053308 0.004499186 0.015100000\n",
       "4 LV_top A4            P128  0.06126091 0.06998223 0.001322410 0.001122947\n",
       "5 LV_top A5            P128  0.09292099 0.14679559 0.003463710 0.015600000\n",
       "6 LV_top A6            P128  0.08085245 0.14170698 0.003290438 0.013793976\n",
       "  mass_800   \n",
       "1 0.004634527\n",
       "2 0.002227292\n",
       "3 0.023117551\n",
       "4 0.001015702\n",
       "5 0.019521396\n",
       "6 0.011966565"
      ]
     },
     "metadata": {},
     "output_type": "display_data"
    },
    {
     "data": {
      "text/html": [
       "<ol class=list-inline>\n",
       "\t<li>30</li>\n",
       "\t<li>12</li>\n",
       "</ol>\n"
      ],
      "text/latex": [
       "\\begin{enumerate*}\n",
       "\\item 30\n",
       "\\item 12\n",
       "\\end{enumerate*}\n"
      ],
      "text/markdown": [
       "1. 30\n",
       "2. 12\n",
       "\n",
       "\n"
      ],
      "text/plain": [
       "[1] 30 12"
      ]
     },
     "metadata": {},
     "output_type": "display_data"
    },
    {
     "data": {
      "text/html": [
       "<ol class=list-inline>\n",
       "\t<li>30</li>\n",
       "\t<li>5</li>\n",
       "</ol>\n"
      ],
      "text/latex": [
       "\\begin{enumerate*}\n",
       "\\item 30\n",
       "\\item 5\n",
       "\\end{enumerate*}\n"
      ],
      "text/markdown": [
       "1. 30\n",
       "2. 5\n",
       "\n",
       "\n"
      ],
      "text/plain": [
       "[1] 30  5"
      ]
     },
     "metadata": {},
     "output_type": "display_data"
    },
    {
     "data": {
      "text/html": [
       "<ol class=list-inline>\n",
       "\t<li>30</li>\n",
       "\t<li>5</li>\n",
       "</ol>\n"
      ],
      "text/latex": [
       "\\begin{enumerate*}\n",
       "\\item 30\n",
       "\\item 5\n",
       "\\end{enumerate*}\n"
      ],
      "text/markdown": [
       "1. 30\n",
       "2. 5\n",
       "\n",
       "\n"
      ],
      "text/plain": [
       "[1] 30  5"
      ]
     },
     "metadata": {},
     "output_type": "display_data"
    },
    {
     "data": {
      "text/html": [
       "<ol class=list-inline>\n",
       "\t<li>30</li>\n",
       "\t<li>12</li>\n",
       "</ol>\n"
      ],
      "text/latex": [
       "\\begin{enumerate*}\n",
       "\\item 30\n",
       "\\item 12\n",
       "\\end{enumerate*}\n"
      ],
      "text/markdown": [
       "1. 30\n",
       "2. 12\n",
       "\n",
       "\n"
      ],
      "text/plain": [
       "[1] 30 12"
      ]
     },
     "metadata": {},
     "output_type": "display_data"
    }
   ],
   "source": [
    "noMeta<-features_pos[,8:12]\n",
    "head(noMeta)\n",
    "not_zero<-which(colSums(noMeta) != 0)\n",
    "head(not_zero)\n",
    "nonzero <- noMeta[, not_zero]\n",
    "nonzero\n",
    "nonzero_wMeta<-cbind(features_pos[,1:7], nonzero)\n",
    "head(nonzero_wMeta)\n",
    "dim(features_pos)\n",
    "dim(noMeta)\n",
    "dim(nonzero)\n",
    "dim(nonzero_wMeta)"
   ]
  },
  {
   "cell_type": "code",
   "execution_count": 5,
   "metadata": {
    "scrolled": true
   },
   "outputs": [
    {
     "data": {
      "text/html": [
       "<ol class=list-inline>\n",
       "\t<li>0.00570350789517522</li>\n",
       "\t<li>0.040839912860907</li>\n",
       "\t<li>0.304590816047085</li>\n",
       "\t<li>0.712965124764759</li>\n",
       "\t<li>0.712965124764759</li>\n",
       "</ol>\n"
      ],
      "text/latex": [
       "\\begin{enumerate*}\n",
       "\\item 0.00570350789517522\n",
       "\\item 0.040839912860907\n",
       "\\item 0.304590816047085\n",
       "\\item 0.712965124764759\n",
       "\\item 0.712965124764759\n",
       "\\end{enumerate*}\n"
      ],
      "text/markdown": [
       "1. 0.00570350789517522\n",
       "2. 0.040839912860907\n",
       "3. 0.304590816047085\n",
       "4. 0.712965124764759\n",
       "5. 0.712965124764759\n",
       "\n",
       "\n"
      ],
      "text/plain": [
       "[1] 0.005703508 0.040839913 0.304590816 0.712965125 0.712965125"
      ]
     },
     "metadata": {},
     "output_type": "display_data"
    },
    {
     "data": {
      "text/html": [
       "<ol class=list-inline>\n",
       "\t<li>0.0285175394758761</li>\n",
       "\t<li>0.102099782152268</li>\n",
       "\t<li>0.507651360078475</li>\n",
       "\t<li>0.712965124764759</li>\n",
       "\t<li>0.712965124764759</li>\n",
       "</ol>\n"
      ],
      "text/latex": [
       "\\begin{enumerate*}\n",
       "\\item 0.0285175394758761\n",
       "\\item 0.102099782152268\n",
       "\\item 0.507651360078475\n",
       "\\item 0.712965124764759\n",
       "\\item 0.712965124764759\n",
       "\\end{enumerate*}\n"
      ],
      "text/markdown": [
       "1. 0.0285175394758761\n",
       "2. 0.102099782152268\n",
       "3. 0.507651360078475\n",
       "4. 0.712965124764759\n",
       "5. 0.712965124764759\n",
       "\n",
       "\n"
      ],
      "text/plain": [
       "[1] 0.02851754 0.10209978 0.50765136 0.71296512 0.71296512"
      ]
     },
     "metadata": {},
     "output_type": "display_data"
    }
   ],
   "source": [
    "pval<-c()\n",
    "\n",
    "for (i in 8:ncol(nonzero_wMeta)) \n",
    "pval<-c(pval,wilcox.test(nonzero_wMeta[,i]~nonzero_wMeta$Treatmentgroup)$p.value)\n",
    "head(pval)\n",
    "pAdj <- p.adjust(pval, method = c(\"fdr\"), n=length(pval)) \n",
    "head(pAdj) \n",
    "\n"
   ]
  },
  {
   "cell_type": "code",
   "execution_count": 6,
   "metadata": {
    "scrolled": true
   },
   "outputs": [
    {
     "data": {
      "text/html": [
       "5"
      ],
      "text/latex": [
       "5"
      ],
      "text/markdown": [
       "5"
      ],
      "text/plain": [
       "[1] 5"
      ]
     },
     "metadata": {},
     "output_type": "display_data"
    }
   ],
   "source": [
    "length(pval)"
   ]
  },
  {
   "cell_type": "code",
   "execution_count": 7,
   "metadata": {
    "scrolled": true
   },
   "outputs": [
    {
     "data": {
      "text/html": [
       "5"
      ],
      "text/latex": [
       "5"
      ],
      "text/markdown": [
       "5"
      ],
      "text/plain": [
       "[1] 5"
      ]
     },
     "metadata": {},
     "output_type": "display_data"
    }
   ],
   "source": [
    "length(pAdj)"
   ]
  },
  {
   "cell_type": "code",
   "execution_count": 8,
   "metadata": {},
   "outputs": [
    {
     "data": {
      "text/html": [
       "<ol class=list-inline>\n",
       "\t<li>2</li>\n",
       "\t<li>5</li>\n",
       "</ol>\n"
      ],
      "text/latex": [
       "\\begin{enumerate*}\n",
       "\\item 2\n",
       "\\item 5\n",
       "\\end{enumerate*}\n"
      ],
      "text/markdown": [
       "1. 2\n",
       "2. 5\n",
       "\n",
       "\n"
      ],
      "text/plain": [
       "[1] 2 5"
      ]
     },
     "metadata": {},
     "output_type": "display_data"
    },
    {
     "data": {
      "text/html": [
       "<table>\n",
       "<thead><tr><th></th><th scope=col>mass_400</th><th scope=col>mass_500</th><th scope=col>mass_600</th></tr></thead>\n",
       "<tbody>\n",
       "\t<tr><th scope=row>BNZ</th><td>0.04955698 </td><td>0.08179371 </td><td>0.001841527</td></tr>\n",
       "\t<tr><th scope=row>naive</th><td>0.06704021 </td><td>0.10545954 </td><td>0.002197002</td></tr>\n",
       "</tbody>\n",
       "</table>\n"
      ],
      "text/latex": [
       "\\begin{tabular}{r|lll}\n",
       "  & mass\\_400 & mass\\_500 & mass\\_600\\\\\n",
       "\\hline\n",
       "\tBNZ & 0.04955698  & 0.08179371  & 0.001841527\\\\\n",
       "\tnaive & 0.06704021  & 0.10545954  & 0.002197002\\\\\n",
       "\\end{tabular}\n"
      ],
      "text/markdown": [
       "\n",
       "| <!--/--> | mass_400 | mass_500 | mass_600 |\n",
       "|---|---|---|---|\n",
       "| BNZ | 0.04955698  | 0.08179371  | 0.001841527 |\n",
       "| naive | 0.06704021  | 0.10545954  | 0.002197002 |\n",
       "\n"
      ],
      "text/plain": [
       "      mass_400   mass_500   mass_600   \n",
       "BNZ   0.04955698 0.08179371 0.001841527\n",
       "naive 0.06704021 0.10545954 0.002197002"
      ]
     },
     "metadata": {},
     "output_type": "display_data"
    },
    {
     "data": {
      "text/html": [
       "<dl class=dl-horizontal>\n",
       "\t<dt>mass_400</dt>\n",
       "\t\t<dd>0.739212701522171</dd>\n",
       "\t<dt>mass_500</dt>\n",
       "\t\t<dd>0.775593303778593</dd>\n",
       "\t<dt>mass_600</dt>\n",
       "\t\t<dd>0.838199600206779</dd>\n",
       "\t<dt>mass_700</dt>\n",
       "\t\t<dd>1.13074930077968</dd>\n",
       "\t<dt>mass_800</dt>\n",
       "\t\t<dd>0.778400372398611</dd>\n",
       "</dl>\n"
      ],
      "text/latex": [
       "\\begin{description*}\n",
       "\\item[mass\\textbackslash{}\\_400] 0.739212701522171\n",
       "\\item[mass\\textbackslash{}\\_500] 0.775593303778593\n",
       "\\item[mass\\textbackslash{}\\_600] 0.838199600206779\n",
       "\\item[mass\\textbackslash{}\\_700] 1.13074930077968\n",
       "\\item[mass\\textbackslash{}\\_800] 0.778400372398611\n",
       "\\end{description*}\n"
      ],
      "text/markdown": [
       "mass_400\n",
       ":   0.739212701522171mass_500\n",
       ":   0.775593303778593mass_600\n",
       ":   0.838199600206779mass_700\n",
       ":   1.13074930077968mass_800\n",
       ":   0.778400372398611\n",
       "\n"
      ],
      "text/plain": [
       " mass_400  mass_500  mass_600  mass_700  mass_800 \n",
       "0.7392127 0.7755933 0.8381996 1.1307493 0.7784004 "
      ]
     },
     "metadata": {},
     "output_type": "display_data"
    },
    {
     "data": {
      "text/html": [
       "<ol class=list-inline>\n",
       "\t<li>'numeric'</li>\n",
       "\t<li>'vector'</li>\n",
       "</ol>\n"
      ],
      "text/latex": [
       "\\begin{enumerate*}\n",
       "\\item 'numeric'\n",
       "\\item 'vector'\n",
       "\\end{enumerate*}\n"
      ],
      "text/markdown": [
       "1. 'numeric'\n",
       "2. 'vector'\n",
       "\n",
       "\n"
      ],
      "text/plain": [
       "[1] \"numeric\" \"vector\" "
      ]
     },
     "metadata": {},
     "output_type": "display_data"
    }
   ],
   "source": [
    "avg<- apply(nonzero_wMeta[,8:ncol(nonzero_wMeta)], 2, function(x) tapply(x, nonzero_wMeta$Treatmentgroup, function(x) mean(x))) \n",
    "\n",
    "dim(avg)\n",
    "\n",
    "avg[,1:3]\n",
    "\n",
    "fch <- apply(avg, 2, function(x) x[1]/x[2])\n",
    "\n",
    "head(fch)\n",
    "is(fch)"
   ]
  },
  {
   "cell_type": "code",
   "execution_count": 9,
   "metadata": {
    "scrolled": true
   },
   "outputs": [
    {
     "data": {
      "text/html": [
       "<dl class=dl-horizontal>\n",
       "\t<dt>mass_400</dt>\n",
       "\t\t<dd>0.739212701522171</dd>\n",
       "\t<dt>mass_500</dt>\n",
       "\t\t<dd>0.775593303778593</dd>\n",
       "\t<dt>mass_600</dt>\n",
       "\t\t<dd>0.838199600206779</dd>\n",
       "\t<dt>mass_700</dt>\n",
       "\t\t<dd>1.13074930077968</dd>\n",
       "\t<dt>mass_800</dt>\n",
       "\t\t<dd>0.778400372398611</dd>\n",
       "</dl>\n"
      ],
      "text/latex": [
       "\\begin{description*}\n",
       "\\item[mass\\textbackslash{}\\_400] 0.739212701522171\n",
       "\\item[mass\\textbackslash{}\\_500] 0.775593303778593\n",
       "\\item[mass\\textbackslash{}\\_600] 0.838199600206779\n",
       "\\item[mass\\textbackslash{}\\_700] 1.13074930077968\n",
       "\\item[mass\\textbackslash{}\\_800] 0.778400372398611\n",
       "\\end{description*}\n"
      ],
      "text/markdown": [
       "mass_400\n",
       ":   0.739212701522171mass_500\n",
       ":   0.775593303778593mass_600\n",
       ":   0.838199600206779mass_700\n",
       ":   1.13074930077968mass_800\n",
       ":   0.778400372398611\n",
       "\n"
      ],
      "text/plain": [
       " mass_400  mass_500  mass_600  mass_700  mass_800 \n",
       "0.7392127 0.7755933 0.8381996 1.1307493 0.7784004 "
      ]
     },
     "metadata": {},
     "output_type": "display_data"
    }
   ],
   "source": [
    "fch"
   ]
  },
  {
   "cell_type": "code",
   "execution_count": 10,
   "metadata": {
    "scrolled": false
   },
   "outputs": [],
   "source": [
    "df <- data.frame(fch,pval, pAdj)\n",
    "write.csv(df, \"PC-treat-LVT-wilcox-naive-BNZ.csv\")"
   ]
  },
  {
   "cell_type": "code",
   "execution_count": null,
   "metadata": {},
   "outputs": [],
   "source": []
  },
  {
   "cell_type": "code",
   "execution_count": null,
   "metadata": {},
   "outputs": [],
   "source": []
  },
  {
   "cell_type": "code",
   "execution_count": null,
   "metadata": {},
   "outputs": [],
   "source": []
  },
  {
   "cell_type": "code",
   "execution_count": null,
   "metadata": {},
   "outputs": [],
   "source": []
  },
  {
   "cell_type": "code",
   "execution_count": null,
   "metadata": {},
   "outputs": [],
   "source": []
  },
  {
   "cell_type": "code",
   "execution_count": null,
   "metadata": {},
   "outputs": [],
   "source": []
  }
 ],
 "metadata": {
  "kernelspec": {
   "display_name": "R",
   "language": "R",
   "name": "ir"
  },
  "language_info": {
   "codemirror_mode": "r",
   "file_extension": ".r",
   "mimetype": "text/x-r-source",
   "name": "R",
   "pygments_lexer": "r",
   "version": "3.6.1"
  }
 },
 "nbformat": 4,
 "nbformat_minor": 2
}
