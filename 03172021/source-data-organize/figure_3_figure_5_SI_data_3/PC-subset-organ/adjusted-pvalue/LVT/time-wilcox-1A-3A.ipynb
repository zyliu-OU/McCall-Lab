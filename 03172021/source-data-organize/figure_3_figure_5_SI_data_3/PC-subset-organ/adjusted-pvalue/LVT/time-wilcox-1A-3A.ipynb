{
 "cells": [
  {
   "cell_type": "code",
   "execution_count": 4,
   "metadata": {},
   "outputs": [],
   "source": [
    "a <- read.csv(\"03172021-PC-time-LVT-M-F.csv\")"
   ]
  },
  {
   "cell_type": "code",
   "execution_count": 5,
   "metadata": {},
   "outputs": [
    {
     "data": {
      "text/html": [
       "<table>\n",
       "<thead><tr><th scope=col>filename</th><th scope=col>MouseID</th><th scope=col>Treatmentgroup</th><th scope=col>status</th><th scope=col>DPI</th><th scope=col>organ</th><th scope=col>well_position</th><th scope=col>plate</th><th scope=col>mass_400</th><th scope=col>mass_500</th><th scope=col>mass_600</th><th scope=col>mass_700</th><th scope=col>mass_800</th></tr></thead>\n",
       "<tbody>\n",
       "\t<tr><td>X501_Group1A_50dpi_LV_top_251_B_A1_P129.mzXML</td><td>501                                          </td><td>Group1A                                      </td><td>naive                                        </td><td>50                                           </td><td>LV_top                                       </td><td>A1                                           </td><td>P129                                         </td><td>0.08520376                                   </td><td>0.1142493                                    </td><td>0.003061546                                  </td><td>0.012707655                                  </td><td>0.003909090                                  </td></tr>\n",
       "\t<tr><td>X502_Group1A_50dpi_LV_top_252_B_A2_P129.mzXML</td><td>502                                          </td><td>Group1A                                      </td><td>naive                                        </td><td>50                                           </td><td>LV_top                                       </td><td>A2                                           </td><td>P129                                         </td><td>0.09628729                                   </td><td>0.1074087                                    </td><td>0.001904863                                  </td><td>0.009860000                                  </td><td>0.009529682                                  </td></tr>\n",
       "\t<tr><td>X503_Group1A_50dpi_LV_top_253_B_A3_P129.mzXML</td><td>503                                          </td><td>Group1A                                      </td><td>naive                                        </td><td>50                                           </td><td>LV_top                                       </td><td>A3                                           </td><td>P129                                         </td><td>0.09002464                                   </td><td>0.1240029                                    </td><td>0.002197743                                  </td><td>0.008374795                                  </td><td>0.009014913                                  </td></tr>\n",
       "\t<tr><td>X504_Group1A_50dpi_LV_top_254_B_A4_P129.mzXML</td><td>504                                          </td><td>Group1A                                      </td><td>naive                                        </td><td>50                                           </td><td>LV_top                                       </td><td>A4                                           </td><td>P129                                         </td><td>0.07956239                                   </td><td>0.1116952                                    </td><td>0.002840599                                  </td><td>0.009764016                                  </td><td>0.003003261                                  </td></tr>\n",
       "\t<tr><td>X505_Group1A_50dpi_LV_top_255_B_A5_P129.mzXML</td><td>505                                          </td><td>Group1A                                      </td><td>naive                                        </td><td>50                                           </td><td>LV_top                                       </td><td>A5                                           </td><td>P129                                         </td><td>0.07822488                                   </td><td>0.1064598                                    </td><td>0.002835057                                  </td><td>0.014087989                                  </td><td>0.006528662                                  </td></tr>\n",
       "\t<tr><td>X521_Group1A_50dpi_LV_top_256_B_A6_P129.mzXML</td><td>521                                          </td><td>Group1A                                      </td><td>naive                                        </td><td>50                                           </td><td>LV_top                                       </td><td>A6                                           </td><td>P129                                         </td><td>0.08037954                                   </td><td>0.1070000                                    </td><td>0.002012212                                  </td><td>0.011846743                                  </td><td>0.010792394                                  </td></tr>\n",
       "</tbody>\n",
       "</table>\n"
      ],
      "text/latex": [
       "\\begin{tabular}{r|lllllllllllll}\n",
       " filename & MouseID & Treatmentgroup & status & DPI & organ & well\\_position & plate & mass\\_400 & mass\\_500 & mass\\_600 & mass\\_700 & mass\\_800\\\\\n",
       "\\hline\n",
       "\t X501\\_Group1A\\_50dpi\\_LV\\_top\\_251\\_B\\_A1\\_P129.mzXML & 501                                                           & Group1A                                                       & naive                                                         & 50                                                            & LV\\_top                                                      & A1                                                            & P129                                                          & 0.08520376                                                    & 0.1142493                                                     & 0.003061546                                                   & 0.012707655                                                   & 0.003909090                                                  \\\\\n",
       "\t X502\\_Group1A\\_50dpi\\_LV\\_top\\_252\\_B\\_A2\\_P129.mzXML & 502                                                           & Group1A                                                       & naive                                                         & 50                                                            & LV\\_top                                                      & A2                                                            & P129                                                          & 0.09628729                                                    & 0.1074087                                                     & 0.001904863                                                   & 0.009860000                                                   & 0.009529682                                                  \\\\\n",
       "\t X503\\_Group1A\\_50dpi\\_LV\\_top\\_253\\_B\\_A3\\_P129.mzXML & 503                                                           & Group1A                                                       & naive                                                         & 50                                                            & LV\\_top                                                      & A3                                                            & P129                                                          & 0.09002464                                                    & 0.1240029                                                     & 0.002197743                                                   & 0.008374795                                                   & 0.009014913                                                  \\\\\n",
       "\t X504\\_Group1A\\_50dpi\\_LV\\_top\\_254\\_B\\_A4\\_P129.mzXML & 504                                                           & Group1A                                                       & naive                                                         & 50                                                            & LV\\_top                                                      & A4                                                            & P129                                                          & 0.07956239                                                    & 0.1116952                                                     & 0.002840599                                                   & 0.009764016                                                   & 0.003003261                                                  \\\\\n",
       "\t X505\\_Group1A\\_50dpi\\_LV\\_top\\_255\\_B\\_A5\\_P129.mzXML & 505                                                           & Group1A                                                       & naive                                                         & 50                                                            & LV\\_top                                                      & A5                                                            & P129                                                          & 0.07822488                                                    & 0.1064598                                                     & 0.002835057                                                   & 0.014087989                                                   & 0.006528662                                                  \\\\\n",
       "\t X521\\_Group1A\\_50dpi\\_LV\\_top\\_256\\_B\\_A6\\_P129.mzXML & 521                                                           & Group1A                                                       & naive                                                         & 50                                                            & LV\\_top                                                      & A6                                                            & P129                                                          & 0.08037954                                                    & 0.1070000                                                     & 0.002012212                                                   & 0.011846743                                                   & 0.010792394                                                  \\\\\n",
       "\\end{tabular}\n"
      ],
      "text/markdown": [
       "\n",
       "| filename | MouseID | Treatmentgroup | status | DPI | organ | well_position | plate | mass_400 | mass_500 | mass_600 | mass_700 | mass_800 |\n",
       "|---|---|---|---|---|---|---|---|---|---|---|---|---|\n",
       "| X501_Group1A_50dpi_LV_top_251_B_A1_P129.mzXML | 501                                           | Group1A                                       | naive                                         | 50                                            | LV_top                                        | A1                                            | P129                                          | 0.08520376                                    | 0.1142493                                     | 0.003061546                                   | 0.012707655                                   | 0.003909090                                   |\n",
       "| X502_Group1A_50dpi_LV_top_252_B_A2_P129.mzXML | 502                                           | Group1A                                       | naive                                         | 50                                            | LV_top                                        | A2                                            | P129                                          | 0.09628729                                    | 0.1074087                                     | 0.001904863                                   | 0.009860000                                   | 0.009529682                                   |\n",
       "| X503_Group1A_50dpi_LV_top_253_B_A3_P129.mzXML | 503                                           | Group1A                                       | naive                                         | 50                                            | LV_top                                        | A3                                            | P129                                          | 0.09002464                                    | 0.1240029                                     | 0.002197743                                   | 0.008374795                                   | 0.009014913                                   |\n",
       "| X504_Group1A_50dpi_LV_top_254_B_A4_P129.mzXML | 504                                           | Group1A                                       | naive                                         | 50                                            | LV_top                                        | A4                                            | P129                                          | 0.07956239                                    | 0.1116952                                     | 0.002840599                                   | 0.009764016                                   | 0.003003261                                   |\n",
       "| X505_Group1A_50dpi_LV_top_255_B_A5_P129.mzXML | 505                                           | Group1A                                       | naive                                         | 50                                            | LV_top                                        | A5                                            | P129                                          | 0.07822488                                    | 0.1064598                                     | 0.002835057                                   | 0.014087989                                   | 0.006528662                                   |\n",
       "| X521_Group1A_50dpi_LV_top_256_B_A6_P129.mzXML | 521                                           | Group1A                                       | naive                                         | 50                                            | LV_top                                        | A6                                            | P129                                          | 0.08037954                                    | 0.1070000                                     | 0.002012212                                   | 0.011846743                                   | 0.010792394                                   |\n",
       "\n"
      ],
      "text/plain": [
       "  filename                                      MouseID Treatmentgroup status\n",
       "1 X501_Group1A_50dpi_LV_top_251_B_A1_P129.mzXML 501     Group1A        naive \n",
       "2 X502_Group1A_50dpi_LV_top_252_B_A2_P129.mzXML 502     Group1A        naive \n",
       "3 X503_Group1A_50dpi_LV_top_253_B_A3_P129.mzXML 503     Group1A        naive \n",
       "4 X504_Group1A_50dpi_LV_top_254_B_A4_P129.mzXML 504     Group1A        naive \n",
       "5 X505_Group1A_50dpi_LV_top_255_B_A5_P129.mzXML 505     Group1A        naive \n",
       "6 X521_Group1A_50dpi_LV_top_256_B_A6_P129.mzXML 521     Group1A        naive \n",
       "  DPI organ  well_position plate mass_400   mass_500  mass_600    mass_700   \n",
       "1 50  LV_top A1            P129  0.08520376 0.1142493 0.003061546 0.012707655\n",
       "2 50  LV_top A2            P129  0.09628729 0.1074087 0.001904863 0.009860000\n",
       "3 50  LV_top A3            P129  0.09002464 0.1240029 0.002197743 0.008374795\n",
       "4 50  LV_top A4            P129  0.07956239 0.1116952 0.002840599 0.009764016\n",
       "5 50  LV_top A5            P129  0.07822488 0.1064598 0.002835057 0.014087989\n",
       "6 50  LV_top A6            P129  0.08037954 0.1070000 0.002012212 0.011846743\n",
       "  mass_800   \n",
       "1 0.003909090\n",
       "2 0.009529682\n",
       "3 0.009014913\n",
       "4 0.003003261\n",
       "5 0.006528662\n",
       "6 0.010792394"
      ]
     },
     "metadata": {},
     "output_type": "display_data"
    },
    {
     "data": {
      "text/html": [
       "<ol class=list-inline>\n",
       "\t<li>90</li>\n",
       "\t<li>13</li>\n",
       "</ol>\n"
      ],
      "text/latex": [
       "\\begin{enumerate*}\n",
       "\\item 90\n",
       "\\item 13\n",
       "\\end{enumerate*}\n"
      ],
      "text/markdown": [
       "1. 90\n",
       "2. 13\n",
       "\n",
       "\n"
      ],
      "text/plain": [
       "[1] 90 13"
      ]
     },
     "metadata": {},
     "output_type": "display_data"
    }
   ],
   "source": [
    "head(a)\n",
    "dim(a)"
   ]
  },
  {
   "cell_type": "code",
   "execution_count": 6,
   "metadata": {},
   "outputs": [
    {
     "data": {
      "text/html": [
       "<table>\n",
       "<thead><tr><th scope=col>filename</th><th scope=col>MouseID</th><th scope=col>Treatmentgroup</th><th scope=col>status</th><th scope=col>DPI</th><th scope=col>organ</th><th scope=col>well_position</th><th scope=col>plate</th><th scope=col>mass_400</th><th scope=col>mass_500</th><th scope=col>mass_600</th><th scope=col>mass_700</th><th scope=col>mass_800</th></tr></thead>\n",
       "<tbody>\n",
       "\t<tr><td>X501_Group1A_50dpi_LV_top_251_B_A1_P129.mzXML</td><td>501                                          </td><td>Group1A                                      </td><td>naive                                        </td><td>50                                           </td><td>LV_top                                       </td><td>A1                                           </td><td>P129                                         </td><td>0.08520376                                   </td><td>0.1142493                                    </td><td>0.003061546                                  </td><td>0.012707655                                  </td><td>0.003909090                                  </td></tr>\n",
       "\t<tr><td>X502_Group1A_50dpi_LV_top_252_B_A2_P129.mzXML</td><td>502                                          </td><td>Group1A                                      </td><td>naive                                        </td><td>50                                           </td><td>LV_top                                       </td><td>A2                                           </td><td>P129                                         </td><td>0.09628729                                   </td><td>0.1074087                                    </td><td>0.001904863                                  </td><td>0.009860000                                  </td><td>0.009529682                                  </td></tr>\n",
       "\t<tr><td>X503_Group1A_50dpi_LV_top_253_B_A3_P129.mzXML</td><td>503                                          </td><td>Group1A                                      </td><td>naive                                        </td><td>50                                           </td><td>LV_top                                       </td><td>A3                                           </td><td>P129                                         </td><td>0.09002464                                   </td><td>0.1240029                                    </td><td>0.002197743                                  </td><td>0.008374795                                  </td><td>0.009014913                                  </td></tr>\n",
       "\t<tr><td>X504_Group1A_50dpi_LV_top_254_B_A4_P129.mzXML</td><td>504                                          </td><td>Group1A                                      </td><td>naive                                        </td><td>50                                           </td><td>LV_top                                       </td><td>A4                                           </td><td>P129                                         </td><td>0.07956239                                   </td><td>0.1116952                                    </td><td>0.002840599                                  </td><td>0.009764016                                  </td><td>0.003003261                                  </td></tr>\n",
       "\t<tr><td>X505_Group1A_50dpi_LV_top_255_B_A5_P129.mzXML</td><td>505                                          </td><td>Group1A                                      </td><td>naive                                        </td><td>50                                           </td><td>LV_top                                       </td><td>A5                                           </td><td>P129                                         </td><td>0.07822488                                   </td><td>0.1064598                                    </td><td>0.002835057                                  </td><td>0.014087989                                  </td><td>0.006528662                                  </td></tr>\n",
       "\t<tr><td>X521_Group1A_50dpi_LV_top_256_B_A6_P129.mzXML</td><td>521                                          </td><td>Group1A                                      </td><td>naive                                        </td><td>50                                           </td><td>LV_top                                       </td><td>A6                                           </td><td>P129                                         </td><td>0.08037954                                   </td><td>0.1070000                                    </td><td>0.002012212                                  </td><td>0.011846743                                  </td><td>0.010792394                                  </td></tr>\n",
       "</tbody>\n",
       "</table>\n"
      ],
      "text/latex": [
       "\\begin{tabular}{r|lllllllllllll}\n",
       " filename & MouseID & Treatmentgroup & status & DPI & organ & well\\_position & plate & mass\\_400 & mass\\_500 & mass\\_600 & mass\\_700 & mass\\_800\\\\\n",
       "\\hline\n",
       "\t X501\\_Group1A\\_50dpi\\_LV\\_top\\_251\\_B\\_A1\\_P129.mzXML & 501                                                           & Group1A                                                       & naive                                                         & 50                                                            & LV\\_top                                                      & A1                                                            & P129                                                          & 0.08520376                                                    & 0.1142493                                                     & 0.003061546                                                   & 0.012707655                                                   & 0.003909090                                                  \\\\\n",
       "\t X502\\_Group1A\\_50dpi\\_LV\\_top\\_252\\_B\\_A2\\_P129.mzXML & 502                                                           & Group1A                                                       & naive                                                         & 50                                                            & LV\\_top                                                      & A2                                                            & P129                                                          & 0.09628729                                                    & 0.1074087                                                     & 0.001904863                                                   & 0.009860000                                                   & 0.009529682                                                  \\\\\n",
       "\t X503\\_Group1A\\_50dpi\\_LV\\_top\\_253\\_B\\_A3\\_P129.mzXML & 503                                                           & Group1A                                                       & naive                                                         & 50                                                            & LV\\_top                                                      & A3                                                            & P129                                                          & 0.09002464                                                    & 0.1240029                                                     & 0.002197743                                                   & 0.008374795                                                   & 0.009014913                                                  \\\\\n",
       "\t X504\\_Group1A\\_50dpi\\_LV\\_top\\_254\\_B\\_A4\\_P129.mzXML & 504                                                           & Group1A                                                       & naive                                                         & 50                                                            & LV\\_top                                                      & A4                                                            & P129                                                          & 0.07956239                                                    & 0.1116952                                                     & 0.002840599                                                   & 0.009764016                                                   & 0.003003261                                                  \\\\\n",
       "\t X505\\_Group1A\\_50dpi\\_LV\\_top\\_255\\_B\\_A5\\_P129.mzXML & 505                                                           & Group1A                                                       & naive                                                         & 50                                                            & LV\\_top                                                      & A5                                                            & P129                                                          & 0.07822488                                                    & 0.1064598                                                     & 0.002835057                                                   & 0.014087989                                                   & 0.006528662                                                  \\\\\n",
       "\t X521\\_Group1A\\_50dpi\\_LV\\_top\\_256\\_B\\_A6\\_P129.mzXML & 521                                                           & Group1A                                                       & naive                                                         & 50                                                            & LV\\_top                                                      & A6                                                            & P129                                                          & 0.08037954                                                    & 0.1070000                                                     & 0.002012212                                                   & 0.011846743                                                   & 0.010792394                                                  \\\\\n",
       "\\end{tabular}\n"
      ],
      "text/markdown": [
       "\n",
       "| filename | MouseID | Treatmentgroup | status | DPI | organ | well_position | plate | mass_400 | mass_500 | mass_600 | mass_700 | mass_800 |\n",
       "|---|---|---|---|---|---|---|---|---|---|---|---|---|\n",
       "| X501_Group1A_50dpi_LV_top_251_B_A1_P129.mzXML | 501                                           | Group1A                                       | naive                                         | 50                                            | LV_top                                        | A1                                            | P129                                          | 0.08520376                                    | 0.1142493                                     | 0.003061546                                   | 0.012707655                                   | 0.003909090                                   |\n",
       "| X502_Group1A_50dpi_LV_top_252_B_A2_P129.mzXML | 502                                           | Group1A                                       | naive                                         | 50                                            | LV_top                                        | A2                                            | P129                                          | 0.09628729                                    | 0.1074087                                     | 0.001904863                                   | 0.009860000                                   | 0.009529682                                   |\n",
       "| X503_Group1A_50dpi_LV_top_253_B_A3_P129.mzXML | 503                                           | Group1A                                       | naive                                         | 50                                            | LV_top                                        | A3                                            | P129                                          | 0.09002464                                    | 0.1240029                                     | 0.002197743                                   | 0.008374795                                   | 0.009014913                                   |\n",
       "| X504_Group1A_50dpi_LV_top_254_B_A4_P129.mzXML | 504                                           | Group1A                                       | naive                                         | 50                                            | LV_top                                        | A4                                            | P129                                          | 0.07956239                                    | 0.1116952                                     | 0.002840599                                   | 0.009764016                                   | 0.003003261                                   |\n",
       "| X505_Group1A_50dpi_LV_top_255_B_A5_P129.mzXML | 505                                           | Group1A                                       | naive                                         | 50                                            | LV_top                                        | A5                                            | P129                                          | 0.07822488                                    | 0.1064598                                     | 0.002835057                                   | 0.014087989                                   | 0.006528662                                   |\n",
       "| X521_Group1A_50dpi_LV_top_256_B_A6_P129.mzXML | 521                                           | Group1A                                       | naive                                         | 50                                            | LV_top                                        | A6                                            | P129                                          | 0.08037954                                    | 0.1070000                                     | 0.002012212                                   | 0.011846743                                   | 0.010792394                                   |\n",
       "\n"
      ],
      "text/plain": [
       "  filename                                      MouseID Treatmentgroup status\n",
       "1 X501_Group1A_50dpi_LV_top_251_B_A1_P129.mzXML 501     Group1A        naive \n",
       "2 X502_Group1A_50dpi_LV_top_252_B_A2_P129.mzXML 502     Group1A        naive \n",
       "3 X503_Group1A_50dpi_LV_top_253_B_A3_P129.mzXML 503     Group1A        naive \n",
       "4 X504_Group1A_50dpi_LV_top_254_B_A4_P129.mzXML 504     Group1A        naive \n",
       "5 X505_Group1A_50dpi_LV_top_255_B_A5_P129.mzXML 505     Group1A        naive \n",
       "6 X521_Group1A_50dpi_LV_top_256_B_A6_P129.mzXML 521     Group1A        naive \n",
       "  DPI organ  well_position plate mass_400   mass_500  mass_600    mass_700   \n",
       "1 50  LV_top A1            P129  0.08520376 0.1142493 0.003061546 0.012707655\n",
       "2 50  LV_top A2            P129  0.09628729 0.1074087 0.001904863 0.009860000\n",
       "3 50  LV_top A3            P129  0.09002464 0.1240029 0.002197743 0.008374795\n",
       "4 50  LV_top A4            P129  0.07956239 0.1116952 0.002840599 0.009764016\n",
       "5 50  LV_top A5            P129  0.07822488 0.1064598 0.002835057 0.014087989\n",
       "6 50  LV_top A6            P129  0.08037954 0.1070000 0.002012212 0.011846743\n",
       "  mass_800   \n",
       "1 0.003909090\n",
       "2 0.009529682\n",
       "3 0.009014913\n",
       "4 0.003003261\n",
       "5 0.006528662\n",
       "6 0.010792394"
      ]
     },
     "metadata": {},
     "output_type": "display_data"
    },
    {
     "data": {
      "text/html": [
       "<ol class=list-inline>\n",
       "\t<li>30</li>\n",
       "\t<li>13</li>\n",
       "</ol>\n"
      ],
      "text/latex": [
       "\\begin{enumerate*}\n",
       "\\item 30\n",
       "\\item 13\n",
       "\\end{enumerate*}\n"
      ],
      "text/markdown": [
       "1. 30\n",
       "2. 13\n",
       "\n",
       "\n"
      ],
      "text/plain": [
       "[1] 30 13"
      ]
     },
     "metadata": {},
     "output_type": "display_data"
    }
   ],
   "source": [
    "features_pos<-droplevels(subset(a, a$Treatmentgroup==c(\"Group1A\")|a$Treatmentgroup==c(\"Group3A\")))\n",
    "head(features_pos)\n",
    "dim(features_pos)"
   ]
  },
  {
   "cell_type": "code",
   "execution_count": 7,
   "metadata": {
    "scrolled": false
   },
   "outputs": [
    {
     "data": {
      "text/html": [
       "<table>\n",
       "<thead><tr><th scope=col>mass_400</th><th scope=col>mass_500</th><th scope=col>mass_600</th><th scope=col>mass_700</th><th scope=col>mass_800</th></tr></thead>\n",
       "<tbody>\n",
       "\t<tr><td>0.08520376 </td><td>0.1142493  </td><td>0.003061546</td><td>0.012707655</td><td>0.003909090</td></tr>\n",
       "\t<tr><td>0.09628729 </td><td>0.1074087  </td><td>0.001904863</td><td>0.009860000</td><td>0.009529682</td></tr>\n",
       "\t<tr><td>0.09002464 </td><td>0.1240029  </td><td>0.002197743</td><td>0.008374795</td><td>0.009014913</td></tr>\n",
       "\t<tr><td>0.07956239 </td><td>0.1116952  </td><td>0.002840599</td><td>0.009764016</td><td>0.003003261</td></tr>\n",
       "\t<tr><td>0.07822488 </td><td>0.1064598  </td><td>0.002835057</td><td>0.014087989</td><td>0.006528662</td></tr>\n",
       "\t<tr><td>0.08037954 </td><td>0.1070000  </td><td>0.002012212</td><td>0.011846743</td><td>0.010792394</td></tr>\n",
       "</tbody>\n",
       "</table>\n"
      ],
      "text/latex": [
       "\\begin{tabular}{r|lllll}\n",
       " mass\\_400 & mass\\_500 & mass\\_600 & mass\\_700 & mass\\_800\\\\\n",
       "\\hline\n",
       "\t 0.08520376  & 0.1142493   & 0.003061546 & 0.012707655 & 0.003909090\\\\\n",
       "\t 0.09628729  & 0.1074087   & 0.001904863 & 0.009860000 & 0.009529682\\\\\n",
       "\t 0.09002464  & 0.1240029   & 0.002197743 & 0.008374795 & 0.009014913\\\\\n",
       "\t 0.07956239  & 0.1116952   & 0.002840599 & 0.009764016 & 0.003003261\\\\\n",
       "\t 0.07822488  & 0.1064598   & 0.002835057 & 0.014087989 & 0.006528662\\\\\n",
       "\t 0.08037954  & 0.1070000   & 0.002012212 & 0.011846743 & 0.010792394\\\\\n",
       "\\end{tabular}\n"
      ],
      "text/markdown": [
       "\n",
       "| mass_400 | mass_500 | mass_600 | mass_700 | mass_800 |\n",
       "|---|---|---|---|---|\n",
       "| 0.08520376  | 0.1142493   | 0.003061546 | 0.012707655 | 0.003909090 |\n",
       "| 0.09628729  | 0.1074087   | 0.001904863 | 0.009860000 | 0.009529682 |\n",
       "| 0.09002464  | 0.1240029   | 0.002197743 | 0.008374795 | 0.009014913 |\n",
       "| 0.07956239  | 0.1116952   | 0.002840599 | 0.009764016 | 0.003003261 |\n",
       "| 0.07822488  | 0.1064598   | 0.002835057 | 0.014087989 | 0.006528662 |\n",
       "| 0.08037954  | 0.1070000   | 0.002012212 | 0.011846743 | 0.010792394 |\n",
       "\n"
      ],
      "text/plain": [
       "  mass_400   mass_500  mass_600    mass_700    mass_800   \n",
       "1 0.08520376 0.1142493 0.003061546 0.012707655 0.003909090\n",
       "2 0.09628729 0.1074087 0.001904863 0.009860000 0.009529682\n",
       "3 0.09002464 0.1240029 0.002197743 0.008374795 0.009014913\n",
       "4 0.07956239 0.1116952 0.002840599 0.009764016 0.003003261\n",
       "5 0.07822488 0.1064598 0.002835057 0.014087989 0.006528662\n",
       "6 0.08037954 0.1070000 0.002012212 0.011846743 0.010792394"
      ]
     },
     "metadata": {},
     "output_type": "display_data"
    },
    {
     "data": {
      "text/html": [
       "<dl class=dl-horizontal>\n",
       "\t<dt>mass_400</dt>\n",
       "\t\t<dd>1</dd>\n",
       "\t<dt>mass_500</dt>\n",
       "\t\t<dd>2</dd>\n",
       "\t<dt>mass_600</dt>\n",
       "\t\t<dd>3</dd>\n",
       "\t<dt>mass_700</dt>\n",
       "\t\t<dd>4</dd>\n",
       "\t<dt>mass_800</dt>\n",
       "\t\t<dd>5</dd>\n",
       "</dl>\n"
      ],
      "text/latex": [
       "\\begin{description*}\n",
       "\\item[mass\\textbackslash{}\\_400] 1\n",
       "\\item[mass\\textbackslash{}\\_500] 2\n",
       "\\item[mass\\textbackslash{}\\_600] 3\n",
       "\\item[mass\\textbackslash{}\\_700] 4\n",
       "\\item[mass\\textbackslash{}\\_800] 5\n",
       "\\end{description*}\n"
      ],
      "text/markdown": [
       "mass_400\n",
       ":   1mass_500\n",
       ":   2mass_600\n",
       ":   3mass_700\n",
       ":   4mass_800\n",
       ":   5\n",
       "\n"
      ],
      "text/plain": [
       "mass_400 mass_500 mass_600 mass_700 mass_800 \n",
       "       1        2        3        4        5 "
      ]
     },
     "metadata": {},
     "output_type": "display_data"
    },
    {
     "data": {
      "text/html": [
       "<table>\n",
       "<thead><tr><th></th><th scope=col>mass_400</th><th scope=col>mass_500</th><th scope=col>mass_600</th><th scope=col>mass_700</th><th scope=col>mass_800</th></tr></thead>\n",
       "<tbody>\n",
       "\t<tr><th scope=row>1</th><td>0.085203762</td><td>0.114249346</td><td>0.003061546</td><td>0.012707655</td><td>0.003909090</td></tr>\n",
       "\t<tr><th scope=row>2</th><td>0.096287286</td><td>0.107408683</td><td>0.001904863</td><td>0.009860000</td><td>0.009529682</td></tr>\n",
       "\t<tr><th scope=row>3</th><td>0.090024637</td><td>0.124002904</td><td>0.002197743</td><td>0.008374795</td><td>0.009014913</td></tr>\n",
       "\t<tr><th scope=row>4</th><td>0.079562389</td><td>0.111695154</td><td>0.002840599</td><td>0.009764016</td><td>0.003003261</td></tr>\n",
       "\t<tr><th scope=row>5</th><td>0.078224877</td><td>0.106459796</td><td>0.002835057</td><td>0.014087989</td><td>0.006528662</td></tr>\n",
       "\t<tr><th scope=row>6</th><td>0.080379538</td><td>0.107000000</td><td>0.002012212</td><td>0.011846743</td><td>0.010792394</td></tr>\n",
       "\t<tr><th scope=row>7</th><td>0.070524721</td><td>0.118722299</td><td>0.003536759</td><td>0.020122926</td><td>0.007699623</td></tr>\n",
       "\t<tr><th scope=row>8</th><td>0.079180533</td><td>0.114973135</td><td>0.003266375</td><td>0.004692664</td><td>0.003310726</td></tr>\n",
       "\t<tr><th scope=row>9</th><td>0.067953415</td><td>0.120228289</td><td>0.002828719</td><td>0.002079376</td><td>0.001394597</td></tr>\n",
       "\t<tr><th scope=row>10</th><td>0.049753357</td><td>0.073700000</td><td>0.001755914</td><td>0.009116540</td><td>0.005086839</td></tr>\n",
       "\t<tr><th scope=row>11</th><td>0.032602495</td><td>0.044009085</td><td>0.000530814</td><td>0.000753235</td><td>0.000375867</td></tr>\n",
       "\t<tr><th scope=row>12</th><td>0.044912958</td><td>0.056881495</td><td>0.002629234</td><td>0.019735324</td><td>0.019134510</td></tr>\n",
       "\t<tr><th scope=row>13</th><td>0.094564090</td><td>0.128166435</td><td>0.003153289</td><td>0.016489076</td><td>0.004805959</td></tr>\n",
       "\t<tr><th scope=row>14</th><td>0.085265435</td><td>0.123611237</td><td>0.003068487</td><td>0.020084959</td><td>0.009414068</td></tr>\n",
       "\t<tr><th scope=row>15</th><td>0.085801671</td><td>0.141731030</td><td>0.003739091</td><td>0.010096110</td><td>0.006387373</td></tr>\n",
       "\t<tr><th scope=row>46</th><td>0.086456671</td><td>0.114042973</td><td>0.003487265</td><td>0.028005272</td><td>0.018630848</td></tr>\n",
       "\t<tr><th scope=row>47</th><td>0.114448325</td><td>0.117060097</td><td>0.002509799</td><td>0.011346913</td><td>0.014817848</td></tr>\n",
       "\t<tr><th scope=row>48</th><td>0.113128766</td><td>0.099231728</td><td>0.003046099</td><td>0.026680204</td><td>0.024585093</td></tr>\n",
       "\t<tr><th scope=row>49</th><td>0.071846982</td><td>0.087908920</td><td>0.002615947</td><td>0.014385372</td><td>0.015920565</td></tr>\n",
       "\t<tr><th scope=row>50</th><td>0.065341351</td><td>0.101000000</td><td>0.003299113</td><td>0.019083627</td><td>0.013487420</td></tr>\n",
       "\t<tr><th scope=row>51</th><td>0.077059350</td><td>0.125759014</td><td>0.002812104</td><td>0.014910407</td><td>0.008609353</td></tr>\n",
       "\t<tr><th scope=row>52</th><td>0.074105691</td><td>0.078995959</td><td>0.001831068</td><td>0.013548902</td><td>0.007956613</td></tr>\n",
       "\t<tr><th scope=row>53</th><td>0.040346143</td><td>0.057303545</td><td>0.000536068</td><td>0.004371973</td><td>0.002964417</td></tr>\n",
       "\t<tr><th scope=row>54</th><td>0.011071701</td><td>0.008548449</td><td>0.000000000</td><td>0.003023082</td><td>0.001833972</td></tr>\n",
       "\t<tr><th scope=row>55</th><td>0.031896387</td><td>0.024306484</td><td>0.001147493</td><td>0.001331877</td><td>0.000671177</td></tr>\n",
       "\t<tr><th scope=row>56</th><td>0.081409107</td><td>0.074200000</td><td>0.003031465</td><td>0.012202161</td><td>0.010905845</td></tr>\n",
       "\t<tr><th scope=row>57</th><td>0.105945573</td><td>0.110000000</td><td>0.002144844</td><td>0.026521972</td><td>0.031705850</td></tr>\n",
       "\t<tr><th scope=row>58</th><td>0.026048996</td><td>0.019211588</td><td>0.000000000</td><td>0.000323585</td><td>0.000000000</td></tr>\n",
       "\t<tr><th scope=row>59</th><td>0.004069227</td><td>0.003633238</td><td>0.000000000</td><td>0.007604539</td><td>0.006715162</td></tr>\n",
       "\t<tr><th scope=row>60</th><td>0.017281260</td><td>0.011430099</td><td>0.000000000</td><td>0.005784966</td><td>0.000049800</td></tr>\n",
       "</tbody>\n",
       "</table>\n"
      ],
      "text/latex": [
       "\\begin{tabular}{r|lllll}\n",
       "  & mass\\_400 & mass\\_500 & mass\\_600 & mass\\_700 & mass\\_800\\\\\n",
       "\\hline\n",
       "\t1 & 0.085203762 & 0.114249346 & 0.003061546 & 0.012707655 & 0.003909090\\\\\n",
       "\t2 & 0.096287286 & 0.107408683 & 0.001904863 & 0.009860000 & 0.009529682\\\\\n",
       "\t3 & 0.090024637 & 0.124002904 & 0.002197743 & 0.008374795 & 0.009014913\\\\\n",
       "\t4 & 0.079562389 & 0.111695154 & 0.002840599 & 0.009764016 & 0.003003261\\\\\n",
       "\t5 & 0.078224877 & 0.106459796 & 0.002835057 & 0.014087989 & 0.006528662\\\\\n",
       "\t6 & 0.080379538 & 0.107000000 & 0.002012212 & 0.011846743 & 0.010792394\\\\\n",
       "\t7 & 0.070524721 & 0.118722299 & 0.003536759 & 0.020122926 & 0.007699623\\\\\n",
       "\t8 & 0.079180533 & 0.114973135 & 0.003266375 & 0.004692664 & 0.003310726\\\\\n",
       "\t9 & 0.067953415 & 0.120228289 & 0.002828719 & 0.002079376 & 0.001394597\\\\\n",
       "\t10 & 0.049753357 & 0.073700000 & 0.001755914 & 0.009116540 & 0.005086839\\\\\n",
       "\t11 & 0.032602495 & 0.044009085 & 0.000530814 & 0.000753235 & 0.000375867\\\\\n",
       "\t12 & 0.044912958 & 0.056881495 & 0.002629234 & 0.019735324 & 0.019134510\\\\\n",
       "\t13 & 0.094564090 & 0.128166435 & 0.003153289 & 0.016489076 & 0.004805959\\\\\n",
       "\t14 & 0.085265435 & 0.123611237 & 0.003068487 & 0.020084959 & 0.009414068\\\\\n",
       "\t15 & 0.085801671 & 0.141731030 & 0.003739091 & 0.010096110 & 0.006387373\\\\\n",
       "\t46 & 0.086456671 & 0.114042973 & 0.003487265 & 0.028005272 & 0.018630848\\\\\n",
       "\t47 & 0.114448325 & 0.117060097 & 0.002509799 & 0.011346913 & 0.014817848\\\\\n",
       "\t48 & 0.113128766 & 0.099231728 & 0.003046099 & 0.026680204 & 0.024585093\\\\\n",
       "\t49 & 0.071846982 & 0.087908920 & 0.002615947 & 0.014385372 & 0.015920565\\\\\n",
       "\t50 & 0.065341351 & 0.101000000 & 0.003299113 & 0.019083627 & 0.013487420\\\\\n",
       "\t51 & 0.077059350 & 0.125759014 & 0.002812104 & 0.014910407 & 0.008609353\\\\\n",
       "\t52 & 0.074105691 & 0.078995959 & 0.001831068 & 0.013548902 & 0.007956613\\\\\n",
       "\t53 & 0.040346143 & 0.057303545 & 0.000536068 & 0.004371973 & 0.002964417\\\\\n",
       "\t54 & 0.011071701 & 0.008548449 & 0.000000000 & 0.003023082 & 0.001833972\\\\\n",
       "\t55 & 0.031896387 & 0.024306484 & 0.001147493 & 0.001331877 & 0.000671177\\\\\n",
       "\t56 & 0.081409107 & 0.074200000 & 0.003031465 & 0.012202161 & 0.010905845\\\\\n",
       "\t57 & 0.105945573 & 0.110000000 & 0.002144844 & 0.026521972 & 0.031705850\\\\\n",
       "\t58 & 0.026048996 & 0.019211588 & 0.000000000 & 0.000323585 & 0.000000000\\\\\n",
       "\t59 & 0.004069227 & 0.003633238 & 0.000000000 & 0.007604539 & 0.006715162\\\\\n",
       "\t60 & 0.017281260 & 0.011430099 & 0.000000000 & 0.005784966 & 0.000049800\\\\\n",
       "\\end{tabular}\n"
      ],
      "text/markdown": [
       "\n",
       "| <!--/--> | mass_400 | mass_500 | mass_600 | mass_700 | mass_800 |\n",
       "|---|---|---|---|---|---|\n",
       "| 1 | 0.085203762 | 0.114249346 | 0.003061546 | 0.012707655 | 0.003909090 |\n",
       "| 2 | 0.096287286 | 0.107408683 | 0.001904863 | 0.009860000 | 0.009529682 |\n",
       "| 3 | 0.090024637 | 0.124002904 | 0.002197743 | 0.008374795 | 0.009014913 |\n",
       "| 4 | 0.079562389 | 0.111695154 | 0.002840599 | 0.009764016 | 0.003003261 |\n",
       "| 5 | 0.078224877 | 0.106459796 | 0.002835057 | 0.014087989 | 0.006528662 |\n",
       "| 6 | 0.080379538 | 0.107000000 | 0.002012212 | 0.011846743 | 0.010792394 |\n",
       "| 7 | 0.070524721 | 0.118722299 | 0.003536759 | 0.020122926 | 0.007699623 |\n",
       "| 8 | 0.079180533 | 0.114973135 | 0.003266375 | 0.004692664 | 0.003310726 |\n",
       "| 9 | 0.067953415 | 0.120228289 | 0.002828719 | 0.002079376 | 0.001394597 |\n",
       "| 10 | 0.049753357 | 0.073700000 | 0.001755914 | 0.009116540 | 0.005086839 |\n",
       "| 11 | 0.032602495 | 0.044009085 | 0.000530814 | 0.000753235 | 0.000375867 |\n",
       "| 12 | 0.044912958 | 0.056881495 | 0.002629234 | 0.019735324 | 0.019134510 |\n",
       "| 13 | 0.094564090 | 0.128166435 | 0.003153289 | 0.016489076 | 0.004805959 |\n",
       "| 14 | 0.085265435 | 0.123611237 | 0.003068487 | 0.020084959 | 0.009414068 |\n",
       "| 15 | 0.085801671 | 0.141731030 | 0.003739091 | 0.010096110 | 0.006387373 |\n",
       "| 46 | 0.086456671 | 0.114042973 | 0.003487265 | 0.028005272 | 0.018630848 |\n",
       "| 47 | 0.114448325 | 0.117060097 | 0.002509799 | 0.011346913 | 0.014817848 |\n",
       "| 48 | 0.113128766 | 0.099231728 | 0.003046099 | 0.026680204 | 0.024585093 |\n",
       "| 49 | 0.071846982 | 0.087908920 | 0.002615947 | 0.014385372 | 0.015920565 |\n",
       "| 50 | 0.065341351 | 0.101000000 | 0.003299113 | 0.019083627 | 0.013487420 |\n",
       "| 51 | 0.077059350 | 0.125759014 | 0.002812104 | 0.014910407 | 0.008609353 |\n",
       "| 52 | 0.074105691 | 0.078995959 | 0.001831068 | 0.013548902 | 0.007956613 |\n",
       "| 53 | 0.040346143 | 0.057303545 | 0.000536068 | 0.004371973 | 0.002964417 |\n",
       "| 54 | 0.011071701 | 0.008548449 | 0.000000000 | 0.003023082 | 0.001833972 |\n",
       "| 55 | 0.031896387 | 0.024306484 | 0.001147493 | 0.001331877 | 0.000671177 |\n",
       "| 56 | 0.081409107 | 0.074200000 | 0.003031465 | 0.012202161 | 0.010905845 |\n",
       "| 57 | 0.105945573 | 0.110000000 | 0.002144844 | 0.026521972 | 0.031705850 |\n",
       "| 58 | 0.026048996 | 0.019211588 | 0.000000000 | 0.000323585 | 0.000000000 |\n",
       "| 59 | 0.004069227 | 0.003633238 | 0.000000000 | 0.007604539 | 0.006715162 |\n",
       "| 60 | 0.017281260 | 0.011430099 | 0.000000000 | 0.005784966 | 0.000049800 |\n",
       "\n"
      ],
      "text/plain": [
       "   mass_400    mass_500    mass_600    mass_700    mass_800   \n",
       "1  0.085203762 0.114249346 0.003061546 0.012707655 0.003909090\n",
       "2  0.096287286 0.107408683 0.001904863 0.009860000 0.009529682\n",
       "3  0.090024637 0.124002904 0.002197743 0.008374795 0.009014913\n",
       "4  0.079562389 0.111695154 0.002840599 0.009764016 0.003003261\n",
       "5  0.078224877 0.106459796 0.002835057 0.014087989 0.006528662\n",
       "6  0.080379538 0.107000000 0.002012212 0.011846743 0.010792394\n",
       "7  0.070524721 0.118722299 0.003536759 0.020122926 0.007699623\n",
       "8  0.079180533 0.114973135 0.003266375 0.004692664 0.003310726\n",
       "9  0.067953415 0.120228289 0.002828719 0.002079376 0.001394597\n",
       "10 0.049753357 0.073700000 0.001755914 0.009116540 0.005086839\n",
       "11 0.032602495 0.044009085 0.000530814 0.000753235 0.000375867\n",
       "12 0.044912958 0.056881495 0.002629234 0.019735324 0.019134510\n",
       "13 0.094564090 0.128166435 0.003153289 0.016489076 0.004805959\n",
       "14 0.085265435 0.123611237 0.003068487 0.020084959 0.009414068\n",
       "15 0.085801671 0.141731030 0.003739091 0.010096110 0.006387373\n",
       "46 0.086456671 0.114042973 0.003487265 0.028005272 0.018630848\n",
       "47 0.114448325 0.117060097 0.002509799 0.011346913 0.014817848\n",
       "48 0.113128766 0.099231728 0.003046099 0.026680204 0.024585093\n",
       "49 0.071846982 0.087908920 0.002615947 0.014385372 0.015920565\n",
       "50 0.065341351 0.101000000 0.003299113 0.019083627 0.013487420\n",
       "51 0.077059350 0.125759014 0.002812104 0.014910407 0.008609353\n",
       "52 0.074105691 0.078995959 0.001831068 0.013548902 0.007956613\n",
       "53 0.040346143 0.057303545 0.000536068 0.004371973 0.002964417\n",
       "54 0.011071701 0.008548449 0.000000000 0.003023082 0.001833972\n",
       "55 0.031896387 0.024306484 0.001147493 0.001331877 0.000671177\n",
       "56 0.081409107 0.074200000 0.003031465 0.012202161 0.010905845\n",
       "57 0.105945573 0.110000000 0.002144844 0.026521972 0.031705850\n",
       "58 0.026048996 0.019211588 0.000000000 0.000323585 0.000000000\n",
       "59 0.004069227 0.003633238 0.000000000 0.007604539 0.006715162\n",
       "60 0.017281260 0.011430099 0.000000000 0.005784966 0.000049800"
      ]
     },
     "metadata": {},
     "output_type": "display_data"
    },
    {
     "data": {
      "text/html": [
       "<table>\n",
       "<thead><tr><th scope=col>filename</th><th scope=col>MouseID</th><th scope=col>Treatmentgroup</th><th scope=col>status</th><th scope=col>DPI</th><th scope=col>organ</th><th scope=col>well_position</th><th scope=col>plate</th><th scope=col>mass_400</th><th scope=col>mass_500</th><th scope=col>mass_600</th><th scope=col>mass_700</th><th scope=col>mass_800</th></tr></thead>\n",
       "<tbody>\n",
       "\t<tr><td>X501_Group1A_50dpi_LV_top_251_B_A1_P129.mzXML</td><td>501                                          </td><td>Group1A                                      </td><td>naive                                        </td><td>50                                           </td><td>LV_top                                       </td><td>A1                                           </td><td>P129                                         </td><td>0.08520376                                   </td><td>0.1142493                                    </td><td>0.003061546                                  </td><td>0.012707655                                  </td><td>0.003909090                                  </td></tr>\n",
       "\t<tr><td>X502_Group1A_50dpi_LV_top_252_B_A2_P129.mzXML</td><td>502                                          </td><td>Group1A                                      </td><td>naive                                        </td><td>50                                           </td><td>LV_top                                       </td><td>A2                                           </td><td>P129                                         </td><td>0.09628729                                   </td><td>0.1074087                                    </td><td>0.001904863                                  </td><td>0.009860000                                  </td><td>0.009529682                                  </td></tr>\n",
       "\t<tr><td>X503_Group1A_50dpi_LV_top_253_B_A3_P129.mzXML</td><td>503                                          </td><td>Group1A                                      </td><td>naive                                        </td><td>50                                           </td><td>LV_top                                       </td><td>A3                                           </td><td>P129                                         </td><td>0.09002464                                   </td><td>0.1240029                                    </td><td>0.002197743                                  </td><td>0.008374795                                  </td><td>0.009014913                                  </td></tr>\n",
       "\t<tr><td>X504_Group1A_50dpi_LV_top_254_B_A4_P129.mzXML</td><td>504                                          </td><td>Group1A                                      </td><td>naive                                        </td><td>50                                           </td><td>LV_top                                       </td><td>A4                                           </td><td>P129                                         </td><td>0.07956239                                   </td><td>0.1116952                                    </td><td>0.002840599                                  </td><td>0.009764016                                  </td><td>0.003003261                                  </td></tr>\n",
       "\t<tr><td>X505_Group1A_50dpi_LV_top_255_B_A5_P129.mzXML</td><td>505                                          </td><td>Group1A                                      </td><td>naive                                        </td><td>50                                           </td><td>LV_top                                       </td><td>A5                                           </td><td>P129                                         </td><td>0.07822488                                   </td><td>0.1064598                                    </td><td>0.002835057                                  </td><td>0.014087989                                  </td><td>0.006528662                                  </td></tr>\n",
       "\t<tr><td>X521_Group1A_50dpi_LV_top_256_B_A6_P129.mzXML</td><td>521                                          </td><td>Group1A                                      </td><td>naive                                        </td><td>50                                           </td><td>LV_top                                       </td><td>A6                                           </td><td>P129                                         </td><td>0.08037954                                   </td><td>0.1070000                                    </td><td>0.002012212                                  </td><td>0.011846743                                  </td><td>0.010792394                                  </td></tr>\n",
       "</tbody>\n",
       "</table>\n"
      ],
      "text/latex": [
       "\\begin{tabular}{r|lllllllllllll}\n",
       " filename & MouseID & Treatmentgroup & status & DPI & organ & well\\_position & plate & mass\\_400 & mass\\_500 & mass\\_600 & mass\\_700 & mass\\_800\\\\\n",
       "\\hline\n",
       "\t X501\\_Group1A\\_50dpi\\_LV\\_top\\_251\\_B\\_A1\\_P129.mzXML & 501                                                           & Group1A                                                       & naive                                                         & 50                                                            & LV\\_top                                                      & A1                                                            & P129                                                          & 0.08520376                                                    & 0.1142493                                                     & 0.003061546                                                   & 0.012707655                                                   & 0.003909090                                                  \\\\\n",
       "\t X502\\_Group1A\\_50dpi\\_LV\\_top\\_252\\_B\\_A2\\_P129.mzXML & 502                                                           & Group1A                                                       & naive                                                         & 50                                                            & LV\\_top                                                      & A2                                                            & P129                                                          & 0.09628729                                                    & 0.1074087                                                     & 0.001904863                                                   & 0.009860000                                                   & 0.009529682                                                  \\\\\n",
       "\t X503\\_Group1A\\_50dpi\\_LV\\_top\\_253\\_B\\_A3\\_P129.mzXML & 503                                                           & Group1A                                                       & naive                                                         & 50                                                            & LV\\_top                                                      & A3                                                            & P129                                                          & 0.09002464                                                    & 0.1240029                                                     & 0.002197743                                                   & 0.008374795                                                   & 0.009014913                                                  \\\\\n",
       "\t X504\\_Group1A\\_50dpi\\_LV\\_top\\_254\\_B\\_A4\\_P129.mzXML & 504                                                           & Group1A                                                       & naive                                                         & 50                                                            & LV\\_top                                                      & A4                                                            & P129                                                          & 0.07956239                                                    & 0.1116952                                                     & 0.002840599                                                   & 0.009764016                                                   & 0.003003261                                                  \\\\\n",
       "\t X505\\_Group1A\\_50dpi\\_LV\\_top\\_255\\_B\\_A5\\_P129.mzXML & 505                                                           & Group1A                                                       & naive                                                         & 50                                                            & LV\\_top                                                      & A5                                                            & P129                                                          & 0.07822488                                                    & 0.1064598                                                     & 0.002835057                                                   & 0.014087989                                                   & 0.006528662                                                  \\\\\n",
       "\t X521\\_Group1A\\_50dpi\\_LV\\_top\\_256\\_B\\_A6\\_P129.mzXML & 521                                                           & Group1A                                                       & naive                                                         & 50                                                            & LV\\_top                                                      & A6                                                            & P129                                                          & 0.08037954                                                    & 0.1070000                                                     & 0.002012212                                                   & 0.011846743                                                   & 0.010792394                                                  \\\\\n",
       "\\end{tabular}\n"
      ],
      "text/markdown": [
       "\n",
       "| filename | MouseID | Treatmentgroup | status | DPI | organ | well_position | plate | mass_400 | mass_500 | mass_600 | mass_700 | mass_800 |\n",
       "|---|---|---|---|---|---|---|---|---|---|---|---|---|\n",
       "| X501_Group1A_50dpi_LV_top_251_B_A1_P129.mzXML | 501                                           | Group1A                                       | naive                                         | 50                                            | LV_top                                        | A1                                            | P129                                          | 0.08520376                                    | 0.1142493                                     | 0.003061546                                   | 0.012707655                                   | 0.003909090                                   |\n",
       "| X502_Group1A_50dpi_LV_top_252_B_A2_P129.mzXML | 502                                           | Group1A                                       | naive                                         | 50                                            | LV_top                                        | A2                                            | P129                                          | 0.09628729                                    | 0.1074087                                     | 0.001904863                                   | 0.009860000                                   | 0.009529682                                   |\n",
       "| X503_Group1A_50dpi_LV_top_253_B_A3_P129.mzXML | 503                                           | Group1A                                       | naive                                         | 50                                            | LV_top                                        | A3                                            | P129                                          | 0.09002464                                    | 0.1240029                                     | 0.002197743                                   | 0.008374795                                   | 0.009014913                                   |\n",
       "| X504_Group1A_50dpi_LV_top_254_B_A4_P129.mzXML | 504                                           | Group1A                                       | naive                                         | 50                                            | LV_top                                        | A4                                            | P129                                          | 0.07956239                                    | 0.1116952                                     | 0.002840599                                   | 0.009764016                                   | 0.003003261                                   |\n",
       "| X505_Group1A_50dpi_LV_top_255_B_A5_P129.mzXML | 505                                           | Group1A                                       | naive                                         | 50                                            | LV_top                                        | A5                                            | P129                                          | 0.07822488                                    | 0.1064598                                     | 0.002835057                                   | 0.014087989                                   | 0.006528662                                   |\n",
       "| X521_Group1A_50dpi_LV_top_256_B_A6_P129.mzXML | 521                                           | Group1A                                       | naive                                         | 50                                            | LV_top                                        | A6                                            | P129                                          | 0.08037954                                    | 0.1070000                                     | 0.002012212                                   | 0.011846743                                   | 0.010792394                                   |\n",
       "\n"
      ],
      "text/plain": [
       "  filename                                      MouseID Treatmentgroup status\n",
       "1 X501_Group1A_50dpi_LV_top_251_B_A1_P129.mzXML 501     Group1A        naive \n",
       "2 X502_Group1A_50dpi_LV_top_252_B_A2_P129.mzXML 502     Group1A        naive \n",
       "3 X503_Group1A_50dpi_LV_top_253_B_A3_P129.mzXML 503     Group1A        naive \n",
       "4 X504_Group1A_50dpi_LV_top_254_B_A4_P129.mzXML 504     Group1A        naive \n",
       "5 X505_Group1A_50dpi_LV_top_255_B_A5_P129.mzXML 505     Group1A        naive \n",
       "6 X521_Group1A_50dpi_LV_top_256_B_A6_P129.mzXML 521     Group1A        naive \n",
       "  DPI organ  well_position plate mass_400   mass_500  mass_600    mass_700   \n",
       "1 50  LV_top A1            P129  0.08520376 0.1142493 0.003061546 0.012707655\n",
       "2 50  LV_top A2            P129  0.09628729 0.1074087 0.001904863 0.009860000\n",
       "3 50  LV_top A3            P129  0.09002464 0.1240029 0.002197743 0.008374795\n",
       "4 50  LV_top A4            P129  0.07956239 0.1116952 0.002840599 0.009764016\n",
       "5 50  LV_top A5            P129  0.07822488 0.1064598 0.002835057 0.014087989\n",
       "6 50  LV_top A6            P129  0.08037954 0.1070000 0.002012212 0.011846743\n",
       "  mass_800   \n",
       "1 0.003909090\n",
       "2 0.009529682\n",
       "3 0.009014913\n",
       "4 0.003003261\n",
       "5 0.006528662\n",
       "6 0.010792394"
      ]
     },
     "metadata": {},
     "output_type": "display_data"
    },
    {
     "data": {
      "text/html": [
       "<ol class=list-inline>\n",
       "\t<li>30</li>\n",
       "\t<li>13</li>\n",
       "</ol>\n"
      ],
      "text/latex": [
       "\\begin{enumerate*}\n",
       "\\item 30\n",
       "\\item 13\n",
       "\\end{enumerate*}\n"
      ],
      "text/markdown": [
       "1. 30\n",
       "2. 13\n",
       "\n",
       "\n"
      ],
      "text/plain": [
       "[1] 30 13"
      ]
     },
     "metadata": {},
     "output_type": "display_data"
    },
    {
     "data": {
      "text/html": [
       "<ol class=list-inline>\n",
       "\t<li>30</li>\n",
       "\t<li>5</li>\n",
       "</ol>\n"
      ],
      "text/latex": [
       "\\begin{enumerate*}\n",
       "\\item 30\n",
       "\\item 5\n",
       "\\end{enumerate*}\n"
      ],
      "text/markdown": [
       "1. 30\n",
       "2. 5\n",
       "\n",
       "\n"
      ],
      "text/plain": [
       "[1] 30  5"
      ]
     },
     "metadata": {},
     "output_type": "display_data"
    },
    {
     "data": {
      "text/html": [
       "<ol class=list-inline>\n",
       "\t<li>30</li>\n",
       "\t<li>5</li>\n",
       "</ol>\n"
      ],
      "text/latex": [
       "\\begin{enumerate*}\n",
       "\\item 30\n",
       "\\item 5\n",
       "\\end{enumerate*}\n"
      ],
      "text/markdown": [
       "1. 30\n",
       "2. 5\n",
       "\n",
       "\n"
      ],
      "text/plain": [
       "[1] 30  5"
      ]
     },
     "metadata": {},
     "output_type": "display_data"
    },
    {
     "data": {
      "text/html": [
       "<ol class=list-inline>\n",
       "\t<li>30</li>\n",
       "\t<li>13</li>\n",
       "</ol>\n"
      ],
      "text/latex": [
       "\\begin{enumerate*}\n",
       "\\item 30\n",
       "\\item 13\n",
       "\\end{enumerate*}\n"
      ],
      "text/markdown": [
       "1. 30\n",
       "2. 13\n",
       "\n",
       "\n"
      ],
      "text/plain": [
       "[1] 30 13"
      ]
     },
     "metadata": {},
     "output_type": "display_data"
    }
   ],
   "source": [
    "noMeta<-features_pos[,9:13]\n",
    "head(noMeta)\n",
    "not_zero<-which(colSums(noMeta) != 0)\n",
    "head(not_zero)\n",
    "nonzero <- noMeta[, not_zero]\n",
    "nonzero\n",
    "nonzero_wMeta<-cbind(features_pos[,1:8], nonzero)\n",
    "head(nonzero_wMeta)\n",
    "dim(features_pos)\n",
    "dim(noMeta)\n",
    "dim(nonzero)\n",
    "dim(nonzero_wMeta)"
   ]
  },
  {
   "cell_type": "code",
   "execution_count": 8,
   "metadata": {
    "scrolled": true
   },
   "outputs": [
    {
     "name": "stderr",
     "output_type": "stream",
     "text": [
      "Warning message in wilcox.test.default(x = c(0.003061546, 0.001904863, 0.002197743, :\n",
      "\"cannot compute exact p-value with ties\""
     ]
    },
    {
     "data": {
      "text/html": [
       "<ol class=list-inline>\n",
       "\t<li>0.267097024243296</li>\n",
       "\t<li>0.0112560077030628</li>\n",
       "\t<li>0.0676894784587297</li>\n",
       "\t<li>0.870194456435353</li>\n",
       "\t<li>0.389233298727313</li>\n",
       "</ol>\n"
      ],
      "text/latex": [
       "\\begin{enumerate*}\n",
       "\\item 0.267097024243296\n",
       "\\item 0.0112560077030628\n",
       "\\item 0.0676894784587297\n",
       "\\item 0.870194456435353\n",
       "\\item 0.389233298727313\n",
       "\\end{enumerate*}\n"
      ],
      "text/markdown": [
       "1. 0.267097024243296\n",
       "2. 0.0112560077030628\n",
       "3. 0.0676894784587297\n",
       "4. 0.870194456435353\n",
       "5. 0.389233298727313\n",
       "\n",
       "\n"
      ],
      "text/plain": [
       "[1] 0.26709702 0.01125601 0.06768948 0.87019446 0.38923330"
      ]
     },
     "metadata": {},
     "output_type": "display_data"
    },
    {
     "data": {
      "text/html": [
       "<ol class=list-inline>\n",
       "\t<li>0.445161707072161</li>\n",
       "\t<li>0.0562800385153141</li>\n",
       "\t<li>0.169223696146824</li>\n",
       "\t<li>0.870194456435353</li>\n",
       "\t<li>0.486541623409142</li>\n",
       "</ol>\n"
      ],
      "text/latex": [
       "\\begin{enumerate*}\n",
       "\\item 0.445161707072161\n",
       "\\item 0.0562800385153141\n",
       "\\item 0.169223696146824\n",
       "\\item 0.870194456435353\n",
       "\\item 0.486541623409142\n",
       "\\end{enumerate*}\n"
      ],
      "text/markdown": [
       "1. 0.445161707072161\n",
       "2. 0.0562800385153141\n",
       "3. 0.169223696146824\n",
       "4. 0.870194456435353\n",
       "5. 0.486541623409142\n",
       "\n",
       "\n"
      ],
      "text/plain": [
       "[1] 0.44516171 0.05628004 0.16922370 0.87019446 0.48654162"
      ]
     },
     "metadata": {},
     "output_type": "display_data"
    }
   ],
   "source": [
    "pval<-c()\n",
    "\n",
    "for (i in 9:ncol(nonzero_wMeta)) \n",
    "pval<-c(pval,wilcox.test(nonzero_wMeta[,i]~nonzero_wMeta$Treatmentgroup)$p.value)\n",
    "head(pval)\n",
    "pAdj <- p.adjust(pval, method = c(\"fdr\"), n=length(pval)) \n",
    "head(pAdj) \n",
    "\n"
   ]
  },
  {
   "cell_type": "code",
   "execution_count": 9,
   "metadata": {
    "scrolled": true
   },
   "outputs": [
    {
     "data": {
      "text/html": [
       "5"
      ],
      "text/latex": [
       "5"
      ],
      "text/markdown": [
       "5"
      ],
      "text/plain": [
       "[1] 5"
      ]
     },
     "metadata": {},
     "output_type": "display_data"
    }
   ],
   "source": [
    "length(pval)"
   ]
  },
  {
   "cell_type": "code",
   "execution_count": 10,
   "metadata": {
    "scrolled": true
   },
   "outputs": [
    {
     "data": {
      "text/html": [
       "5"
      ],
      "text/latex": [
       "5"
      ],
      "text/markdown": [
       "5"
      ],
      "text/plain": [
       "[1] 5"
      ]
     },
     "metadata": {},
     "output_type": "display_data"
    }
   ],
   "source": [
    "length(pAdj)"
   ]
  },
  {
   "cell_type": "code",
   "execution_count": 11,
   "metadata": {},
   "outputs": [
    {
     "data": {
      "text/html": [
       "<ol class=list-inline>\n",
       "\t<li>2</li>\n",
       "\t<li>5</li>\n",
       "</ol>\n"
      ],
      "text/latex": [
       "\\begin{enumerate*}\n",
       "\\item 2\n",
       "\\item 5\n",
       "\\end{enumerate*}\n"
      ],
      "text/markdown": [
       "1. 2\n",
       "2. 5\n",
       "\n",
       "\n"
      ],
      "text/plain": [
       "[1] 2 5"
      ]
     },
     "metadata": {},
     "output_type": "display_data"
    },
    {
     "data": {
      "text/html": [
       "<table>\n",
       "<thead><tr><th></th><th scope=col>mass_400</th><th scope=col>mass_500</th><th scope=col>mass_600</th></tr></thead>\n",
       "<tbody>\n",
       "\t<tr><th scope=row>Group1A</th><td>0.07468274 </td><td>0.10618926 </td><td>0.002624047</td></tr>\n",
       "\t<tr><th scope=row>Group3A</th><td>0.06136370 </td><td>0.06884214 </td><td>0.001764084</td></tr>\n",
       "</tbody>\n",
       "</table>\n"
      ],
      "text/latex": [
       "\\begin{tabular}{r|lll}\n",
       "  & mass\\_400 & mass\\_500 & mass\\_600\\\\\n",
       "\\hline\n",
       "\tGroup1A & 0.07468274  & 0.10618926  & 0.002624047\\\\\n",
       "\tGroup3A & 0.06136370  & 0.06884214  & 0.001764084\\\\\n",
       "\\end{tabular}\n"
      ],
      "text/markdown": [
       "\n",
       "| <!--/--> | mass_400 | mass_500 | mass_600 |\n",
       "|---|---|---|---|\n",
       "| Group1A | 0.07468274  | 0.10618926  | 0.002624047 |\n",
       "| Group3A | 0.06136370  | 0.06884214  | 0.001764084 |\n",
       "\n"
      ],
      "text/plain": [
       "        mass_400   mass_500   mass_600   \n",
       "Group1A 0.07468274 0.10618926 0.002624047\n",
       "Group3A 0.06136370 0.06884214 0.001764084"
      ]
     },
     "metadata": {},
     "output_type": "display_data"
    },
    {
     "data": {
      "text/html": [
       "<dl class=dl-horizontal>\n",
       "\t<dt>mass_400</dt>\n",
       "\t\t<dd>1.2170508269965</dd>\n",
       "\t<dt>mass_500</dt>\n",
       "\t\t<dd>1.54250376029858</dd>\n",
       "\t<dt>mass_600</dt>\n",
       "\t\t<dd>1.48748376164178</dd>\n",
       "\t<dt>mass_700</dt>\n",
       "\t\t<dd>0.897879925373319</dd>\n",
       "\t<dt>mass_800</dt>\n",
       "\t\t<dd>0.631948754089314</dd>\n",
       "</dl>\n"
      ],
      "text/latex": [
       "\\begin{description*}\n",
       "\\item[mass\\textbackslash{}\\_400] 1.2170508269965\n",
       "\\item[mass\\textbackslash{}\\_500] 1.54250376029858\n",
       "\\item[mass\\textbackslash{}\\_600] 1.48748376164178\n",
       "\\item[mass\\textbackslash{}\\_700] 0.897879925373319\n",
       "\\item[mass\\textbackslash{}\\_800] 0.631948754089314\n",
       "\\end{description*}\n"
      ],
      "text/markdown": [
       "mass_400\n",
       ":   1.2170508269965mass_500\n",
       ":   1.54250376029858mass_600\n",
       ":   1.48748376164178mass_700\n",
       ":   0.897879925373319mass_800\n",
       ":   0.631948754089314\n",
       "\n"
      ],
      "text/plain": [
       " mass_400  mass_500  mass_600  mass_700  mass_800 \n",
       "1.2170508 1.5425038 1.4874838 0.8978799 0.6319488 "
      ]
     },
     "metadata": {},
     "output_type": "display_data"
    },
    {
     "data": {
      "text/html": [
       "<ol class=list-inline>\n",
       "\t<li>'numeric'</li>\n",
       "\t<li>'vector'</li>\n",
       "</ol>\n"
      ],
      "text/latex": [
       "\\begin{enumerate*}\n",
       "\\item 'numeric'\n",
       "\\item 'vector'\n",
       "\\end{enumerate*}\n"
      ],
      "text/markdown": [
       "1. 'numeric'\n",
       "2. 'vector'\n",
       "\n",
       "\n"
      ],
      "text/plain": [
       "[1] \"numeric\" \"vector\" "
      ]
     },
     "metadata": {},
     "output_type": "display_data"
    }
   ],
   "source": [
    "avg<- apply(nonzero_wMeta[,9:ncol(nonzero_wMeta)], 2, function(x) tapply(x, nonzero_wMeta$Treatmentgroup, function(x) mean(x))) \n",
    "\n",
    "dim(avg)\n",
    "\n",
    "avg[,1:3]\n",
    "\n",
    "fch <- apply(avg, 2, function(x) x[1]/x[2])\n",
    "\n",
    "head(fch)\n",
    "is(fch)"
   ]
  },
  {
   "cell_type": "code",
   "execution_count": 12,
   "metadata": {
    "scrolled": true
   },
   "outputs": [
    {
     "data": {
      "text/html": [
       "<dl class=dl-horizontal>\n",
       "\t<dt>mass_400</dt>\n",
       "\t\t<dd>1.2170508269965</dd>\n",
       "\t<dt>mass_500</dt>\n",
       "\t\t<dd>1.54250376029858</dd>\n",
       "\t<dt>mass_600</dt>\n",
       "\t\t<dd>1.48748376164178</dd>\n",
       "\t<dt>mass_700</dt>\n",
       "\t\t<dd>0.897879925373319</dd>\n",
       "\t<dt>mass_800</dt>\n",
       "\t\t<dd>0.631948754089314</dd>\n",
       "</dl>\n"
      ],
      "text/latex": [
       "\\begin{description*}\n",
       "\\item[mass\\textbackslash{}\\_400] 1.2170508269965\n",
       "\\item[mass\\textbackslash{}\\_500] 1.54250376029858\n",
       "\\item[mass\\textbackslash{}\\_600] 1.48748376164178\n",
       "\\item[mass\\textbackslash{}\\_700] 0.897879925373319\n",
       "\\item[mass\\textbackslash{}\\_800] 0.631948754089314\n",
       "\\end{description*}\n"
      ],
      "text/markdown": [
       "mass_400\n",
       ":   1.2170508269965mass_500\n",
       ":   1.54250376029858mass_600\n",
       ":   1.48748376164178mass_700\n",
       ":   0.897879925373319mass_800\n",
       ":   0.631948754089314\n",
       "\n"
      ],
      "text/plain": [
       " mass_400  mass_500  mass_600  mass_700  mass_800 \n",
       "1.2170508 1.5425038 1.4874838 0.8978799 0.6319488 "
      ]
     },
     "metadata": {},
     "output_type": "display_data"
    }
   ],
   "source": [
    "fch"
   ]
  },
  {
   "cell_type": "code",
   "execution_count": 13,
   "metadata": {
    "scrolled": false
   },
   "outputs": [],
   "source": [
    "df <- data.frame(fch,pval, pAdj)\n",
    "write.csv(df, \"PC-time-LVT-wilcox-1A-3A.csv\")"
   ]
  },
  {
   "cell_type": "code",
   "execution_count": null,
   "metadata": {},
   "outputs": [],
   "source": []
  },
  {
   "cell_type": "code",
   "execution_count": null,
   "metadata": {},
   "outputs": [],
   "source": []
  },
  {
   "cell_type": "code",
   "execution_count": null,
   "metadata": {},
   "outputs": [],
   "source": []
  },
  {
   "cell_type": "code",
   "execution_count": null,
   "metadata": {},
   "outputs": [],
   "source": []
  },
  {
   "cell_type": "code",
   "execution_count": null,
   "metadata": {},
   "outputs": [],
   "source": []
  },
  {
   "cell_type": "code",
   "execution_count": null,
   "metadata": {},
   "outputs": [],
   "source": []
  }
 ],
 "metadata": {
  "kernelspec": {
   "display_name": "R",
   "language": "R",
   "name": "ir"
  },
  "language_info": {
   "codemirror_mode": "r",
   "file_extension": ".r",
   "mimetype": "text/x-r-source",
   "name": "R",
   "pygments_lexer": "r",
   "version": "3.6.1"
  }
 },
 "nbformat": 4,
 "nbformat_minor": 2
}
