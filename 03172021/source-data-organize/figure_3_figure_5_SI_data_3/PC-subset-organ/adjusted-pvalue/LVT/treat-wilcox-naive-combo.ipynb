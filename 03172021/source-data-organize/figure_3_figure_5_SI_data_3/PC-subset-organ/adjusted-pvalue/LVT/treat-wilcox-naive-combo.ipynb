{
 "cells": [
  {
   "cell_type": "code",
   "execution_count": 1,
   "metadata": {},
   "outputs": [],
   "source": [
    "a <- read.csv(\"03172021-PC-treatment-LVT-M-F.csv\")"
   ]
  },
  {
   "cell_type": "code",
   "execution_count": 2,
   "metadata": {},
   "outputs": [
    {
     "data": {
      "text/html": [
       "<table>\n",
       "<thead><tr><th scope=col>filename</th><th scope=col>MouseID</th><th scope=col>Treatmentgroup</th><th scope=col>DPI</th><th scope=col>organ</th><th scope=col>well_position</th><th scope=col>plate</th><th scope=col>mass_400</th><th scope=col>mass_500</th><th scope=col>mass_600</th><th scope=col>mass_700</th><th scope=col>mass_800</th></tr></thead>\n",
       "<tbody>\n",
       "\t<tr><td>X511_Group1C_142dpi_LV_top_161_G_A1_P128.mzXML</td><td>511                                           </td><td>naive                                         </td><td>142dpi                                        </td><td>LV_top                                        </td><td>A1                                            </td><td>P128                                          </td><td>0.06556544                                    </td><td>0.09573166                                    </td><td>0.002550993                                   </td><td>0.005125326                                   </td><td>0.004634527                                   </td></tr>\n",
       "\t<tr><td>X512_Group1C_142dpi_LV_top_162_G_A2_P128.mzXML</td><td>512                                           </td><td>naive                                         </td><td>142dpi                                        </td><td>LV_top                                        </td><td>A2                                            </td><td>P128                                          </td><td>0.06089544                                    </td><td>0.08531598                                    </td><td>0.001798692                                   </td><td>0.002720909                                   </td><td>0.002227292                                   </td></tr>\n",
       "\t<tr><td>X513_Group1C_142dpi_LV_top_163_G_A3_P128.mzXML</td><td>513                                           </td><td>naive                                         </td><td>142dpi                                        </td><td>LV_top                                        </td><td>A3                                            </td><td>P128                                          </td><td>0.06358250                                    </td><td>0.15053308                                    </td><td>0.004499186                                   </td><td>0.015100000                                   </td><td>0.023117551                                   </td></tr>\n",
       "\t<tr><td>X514_Group1C_142dpi_LV_top_164_G_A4_P128.mzXML</td><td>514                                           </td><td>naive                                         </td><td>142dpi                                        </td><td>LV_top                                        </td><td>A4                                            </td><td>P128                                          </td><td>0.06126091                                    </td><td>0.06998223                                    </td><td>0.001322410                                   </td><td>0.001122947                                   </td><td>0.001015702                                   </td></tr>\n",
       "\t<tr><td>X515_Group1C_142dpi_LV_top_165_G_A5_P128.mzXML</td><td>515                                           </td><td>naive                                         </td><td>142dpi                                        </td><td>LV_top                                        </td><td>A5                                            </td><td>P128                                          </td><td>0.09292099                                    </td><td>0.14679559                                    </td><td>0.003463710                                   </td><td>0.015600000                                   </td><td>0.019521396                                   </td></tr>\n",
       "\t<tr><td>X531_Group1C_142dpi_LV_top_166_G_A6_P128.mzXML</td><td>531                                           </td><td>naive                                         </td><td>142dpi                                        </td><td>LV_top                                        </td><td>A6                                            </td><td>P128                                          </td><td>0.08085245                                    </td><td>0.14170698                                    </td><td>0.003290438                                   </td><td>0.013793976                                   </td><td>0.011966565                                   </td></tr>\n",
       "</tbody>\n",
       "</table>\n"
      ],
      "text/latex": [
       "\\begin{tabular}{r|llllllllllll}\n",
       " filename & MouseID & Treatmentgroup & DPI & organ & well\\_position & plate & mass\\_400 & mass\\_500 & mass\\_600 & mass\\_700 & mass\\_800\\\\\n",
       "\\hline\n",
       "\t X511\\_Group1C\\_142dpi\\_LV\\_top\\_161\\_G\\_A1\\_P128.mzXML & 511                                                            & naive                                                          & 142dpi                                                         & LV\\_top                                                       & A1                                                             & P128                                                           & 0.06556544                                                     & 0.09573166                                                     & 0.002550993                                                    & 0.005125326                                                    & 0.004634527                                                   \\\\\n",
       "\t X512\\_Group1C\\_142dpi\\_LV\\_top\\_162\\_G\\_A2\\_P128.mzXML & 512                                                            & naive                                                          & 142dpi                                                         & LV\\_top                                                       & A2                                                             & P128                                                           & 0.06089544                                                     & 0.08531598                                                     & 0.001798692                                                    & 0.002720909                                                    & 0.002227292                                                   \\\\\n",
       "\t X513\\_Group1C\\_142dpi\\_LV\\_top\\_163\\_G\\_A3\\_P128.mzXML & 513                                                            & naive                                                          & 142dpi                                                         & LV\\_top                                                       & A3                                                             & P128                                                           & 0.06358250                                                     & 0.15053308                                                     & 0.004499186                                                    & 0.015100000                                                    & 0.023117551                                                   \\\\\n",
       "\t X514\\_Group1C\\_142dpi\\_LV\\_top\\_164\\_G\\_A4\\_P128.mzXML & 514                                                            & naive                                                          & 142dpi                                                         & LV\\_top                                                       & A4                                                             & P128                                                           & 0.06126091                                                     & 0.06998223                                                     & 0.001322410                                                    & 0.001122947                                                    & 0.001015702                                                   \\\\\n",
       "\t X515\\_Group1C\\_142dpi\\_LV\\_top\\_165\\_G\\_A5\\_P128.mzXML & 515                                                            & naive                                                          & 142dpi                                                         & LV\\_top                                                       & A5                                                             & P128                                                           & 0.09292099                                                     & 0.14679559                                                     & 0.003463710                                                    & 0.015600000                                                    & 0.019521396                                                   \\\\\n",
       "\t X531\\_Group1C\\_142dpi\\_LV\\_top\\_166\\_G\\_A6\\_P128.mzXML & 531                                                            & naive                                                          & 142dpi                                                         & LV\\_top                                                       & A6                                                             & P128                                                           & 0.08085245                                                     & 0.14170698                                                     & 0.003290438                                                    & 0.013793976                                                    & 0.011966565                                                   \\\\\n",
       "\\end{tabular}\n"
      ],
      "text/markdown": [
       "\n",
       "| filename | MouseID | Treatmentgroup | DPI | organ | well_position | plate | mass_400 | mass_500 | mass_600 | mass_700 | mass_800 |\n",
       "|---|---|---|---|---|---|---|---|---|---|---|---|\n",
       "| X511_Group1C_142dpi_LV_top_161_G_A1_P128.mzXML | 511                                            | naive                                          | 142dpi                                         | LV_top                                         | A1                                             | P128                                           | 0.06556544                                     | 0.09573166                                     | 0.002550993                                    | 0.005125326                                    | 0.004634527                                    |\n",
       "| X512_Group1C_142dpi_LV_top_162_G_A2_P128.mzXML | 512                                            | naive                                          | 142dpi                                         | LV_top                                         | A2                                             | P128                                           | 0.06089544                                     | 0.08531598                                     | 0.001798692                                    | 0.002720909                                    | 0.002227292                                    |\n",
       "| X513_Group1C_142dpi_LV_top_163_G_A3_P128.mzXML | 513                                            | naive                                          | 142dpi                                         | LV_top                                         | A3                                             | P128                                           | 0.06358250                                     | 0.15053308                                     | 0.004499186                                    | 0.015100000                                    | 0.023117551                                    |\n",
       "| X514_Group1C_142dpi_LV_top_164_G_A4_P128.mzXML | 514                                            | naive                                          | 142dpi                                         | LV_top                                         | A4                                             | P128                                           | 0.06126091                                     | 0.06998223                                     | 0.001322410                                    | 0.001122947                                    | 0.001015702                                    |\n",
       "| X515_Group1C_142dpi_LV_top_165_G_A5_P128.mzXML | 515                                            | naive                                          | 142dpi                                         | LV_top                                         | A5                                             | P128                                           | 0.09292099                                     | 0.14679559                                     | 0.003463710                                    | 0.015600000                                    | 0.019521396                                    |\n",
       "| X531_Group1C_142dpi_LV_top_166_G_A6_P128.mzXML | 531                                            | naive                                          | 142dpi                                         | LV_top                                         | A6                                             | P128                                           | 0.08085245                                     | 0.14170698                                     | 0.003290438                                    | 0.013793976                                    | 0.011966565                                    |\n",
       "\n"
      ],
      "text/plain": [
       "  filename                                       MouseID Treatmentgroup DPI   \n",
       "1 X511_Group1C_142dpi_LV_top_161_G_A1_P128.mzXML 511     naive          142dpi\n",
       "2 X512_Group1C_142dpi_LV_top_162_G_A2_P128.mzXML 512     naive          142dpi\n",
       "3 X513_Group1C_142dpi_LV_top_163_G_A3_P128.mzXML 513     naive          142dpi\n",
       "4 X514_Group1C_142dpi_LV_top_164_G_A4_P128.mzXML 514     naive          142dpi\n",
       "5 X515_Group1C_142dpi_LV_top_165_G_A5_P128.mzXML 515     naive          142dpi\n",
       "6 X531_Group1C_142dpi_LV_top_166_G_A6_P128.mzXML 531     naive          142dpi\n",
       "  organ  well_position plate mass_400   mass_500   mass_600    mass_700   \n",
       "1 LV_top A1            P128  0.06556544 0.09573166 0.002550993 0.005125326\n",
       "2 LV_top A2            P128  0.06089544 0.08531598 0.001798692 0.002720909\n",
       "3 LV_top A3            P128  0.06358250 0.15053308 0.004499186 0.015100000\n",
       "4 LV_top A4            P128  0.06126091 0.06998223 0.001322410 0.001122947\n",
       "5 LV_top A5            P128  0.09292099 0.14679559 0.003463710 0.015600000\n",
       "6 LV_top A6            P128  0.08085245 0.14170698 0.003290438 0.013793976\n",
       "  mass_800   \n",
       "1 0.004634527\n",
       "2 0.002227292\n",
       "3 0.023117551\n",
       "4 0.001015702\n",
       "5 0.019521396\n",
       "6 0.011966565"
      ]
     },
     "metadata": {},
     "output_type": "display_data"
    },
    {
     "data": {
      "text/html": [
       "<ol class=list-inline>\n",
       "\t<li>60</li>\n",
       "\t<li>12</li>\n",
       "</ol>\n"
      ],
      "text/latex": [
       "\\begin{enumerate*}\n",
       "\\item 60\n",
       "\\item 12\n",
       "\\end{enumerate*}\n"
      ],
      "text/markdown": [
       "1. 60\n",
       "2. 12\n",
       "\n",
       "\n"
      ],
      "text/plain": [
       "[1] 60 12"
      ]
     },
     "metadata": {},
     "output_type": "display_data"
    }
   ],
   "source": [
    "head(a)\n",
    "dim(a)"
   ]
  },
  {
   "cell_type": "code",
   "execution_count": 3,
   "metadata": {},
   "outputs": [
    {
     "data": {
      "text/html": [
       "<table>\n",
       "<thead><tr><th scope=col>filename</th><th scope=col>MouseID</th><th scope=col>Treatmentgroup</th><th scope=col>DPI</th><th scope=col>organ</th><th scope=col>well_position</th><th scope=col>plate</th><th scope=col>mass_400</th><th scope=col>mass_500</th><th scope=col>mass_600</th><th scope=col>mass_700</th><th scope=col>mass_800</th></tr></thead>\n",
       "<tbody>\n",
       "\t<tr><td>X511_Group1C_142dpi_LV_top_161_G_A1_P128.mzXML</td><td>511                                           </td><td>naive                                         </td><td>142dpi                                        </td><td>LV_top                                        </td><td>A1                                            </td><td>P128                                          </td><td>0.06556544                                    </td><td>0.09573166                                    </td><td>0.002550993                                   </td><td>0.005125326                                   </td><td>0.004634527                                   </td></tr>\n",
       "\t<tr><td>X512_Group1C_142dpi_LV_top_162_G_A2_P128.mzXML</td><td>512                                           </td><td>naive                                         </td><td>142dpi                                        </td><td>LV_top                                        </td><td>A2                                            </td><td>P128                                          </td><td>0.06089544                                    </td><td>0.08531598                                    </td><td>0.001798692                                   </td><td>0.002720909                                   </td><td>0.002227292                                   </td></tr>\n",
       "\t<tr><td>X513_Group1C_142dpi_LV_top_163_G_A3_P128.mzXML</td><td>513                                           </td><td>naive                                         </td><td>142dpi                                        </td><td>LV_top                                        </td><td>A3                                            </td><td>P128                                          </td><td>0.06358250                                    </td><td>0.15053308                                    </td><td>0.004499186                                   </td><td>0.015100000                                   </td><td>0.023117551                                   </td></tr>\n",
       "\t<tr><td>X514_Group1C_142dpi_LV_top_164_G_A4_P128.mzXML</td><td>514                                           </td><td>naive                                         </td><td>142dpi                                        </td><td>LV_top                                        </td><td>A4                                            </td><td>P128                                          </td><td>0.06126091                                    </td><td>0.06998223                                    </td><td>0.001322410                                   </td><td>0.001122947                                   </td><td>0.001015702                                   </td></tr>\n",
       "\t<tr><td>X515_Group1C_142dpi_LV_top_165_G_A5_P128.mzXML</td><td>515                                           </td><td>naive                                         </td><td>142dpi                                        </td><td>LV_top                                        </td><td>A5                                            </td><td>P128                                          </td><td>0.09292099                                    </td><td>0.14679559                                    </td><td>0.003463710                                   </td><td>0.015600000                                   </td><td>0.019521396                                   </td></tr>\n",
       "\t<tr><td>X531_Group1C_142dpi_LV_top_166_G_A6_P128.mzXML</td><td>531                                           </td><td>naive                                         </td><td>142dpi                                        </td><td>LV_top                                        </td><td>A6                                            </td><td>P128                                          </td><td>0.08085245                                    </td><td>0.14170698                                    </td><td>0.003290438                                   </td><td>0.013793976                                   </td><td>0.011966565                                   </td></tr>\n",
       "</tbody>\n",
       "</table>\n"
      ],
      "text/latex": [
       "\\begin{tabular}{r|llllllllllll}\n",
       " filename & MouseID & Treatmentgroup & DPI & organ & well\\_position & plate & mass\\_400 & mass\\_500 & mass\\_600 & mass\\_700 & mass\\_800\\\\\n",
       "\\hline\n",
       "\t X511\\_Group1C\\_142dpi\\_LV\\_top\\_161\\_G\\_A1\\_P128.mzXML & 511                                                            & naive                                                          & 142dpi                                                         & LV\\_top                                                       & A1                                                             & P128                                                           & 0.06556544                                                     & 0.09573166                                                     & 0.002550993                                                    & 0.005125326                                                    & 0.004634527                                                   \\\\\n",
       "\t X512\\_Group1C\\_142dpi\\_LV\\_top\\_162\\_G\\_A2\\_P128.mzXML & 512                                                            & naive                                                          & 142dpi                                                         & LV\\_top                                                       & A2                                                             & P128                                                           & 0.06089544                                                     & 0.08531598                                                     & 0.001798692                                                    & 0.002720909                                                    & 0.002227292                                                   \\\\\n",
       "\t X513\\_Group1C\\_142dpi\\_LV\\_top\\_163\\_G\\_A3\\_P128.mzXML & 513                                                            & naive                                                          & 142dpi                                                         & LV\\_top                                                       & A3                                                             & P128                                                           & 0.06358250                                                     & 0.15053308                                                     & 0.004499186                                                    & 0.015100000                                                    & 0.023117551                                                   \\\\\n",
       "\t X514\\_Group1C\\_142dpi\\_LV\\_top\\_164\\_G\\_A4\\_P128.mzXML & 514                                                            & naive                                                          & 142dpi                                                         & LV\\_top                                                       & A4                                                             & P128                                                           & 0.06126091                                                     & 0.06998223                                                     & 0.001322410                                                    & 0.001122947                                                    & 0.001015702                                                   \\\\\n",
       "\t X515\\_Group1C\\_142dpi\\_LV\\_top\\_165\\_G\\_A5\\_P128.mzXML & 515                                                            & naive                                                          & 142dpi                                                         & LV\\_top                                                       & A5                                                             & P128                                                           & 0.09292099                                                     & 0.14679559                                                     & 0.003463710                                                    & 0.015600000                                                    & 0.019521396                                                   \\\\\n",
       "\t X531\\_Group1C\\_142dpi\\_LV\\_top\\_166\\_G\\_A6\\_P128.mzXML & 531                                                            & naive                                                          & 142dpi                                                         & LV\\_top                                                       & A6                                                             & P128                                                           & 0.08085245                                                     & 0.14170698                                                     & 0.003290438                                                    & 0.013793976                                                    & 0.011966565                                                   \\\\\n",
       "\\end{tabular}\n"
      ],
      "text/markdown": [
       "\n",
       "| filename | MouseID | Treatmentgroup | DPI | organ | well_position | plate | mass_400 | mass_500 | mass_600 | mass_700 | mass_800 |\n",
       "|---|---|---|---|---|---|---|---|---|---|---|---|\n",
       "| X511_Group1C_142dpi_LV_top_161_G_A1_P128.mzXML | 511                                            | naive                                          | 142dpi                                         | LV_top                                         | A1                                             | P128                                           | 0.06556544                                     | 0.09573166                                     | 0.002550993                                    | 0.005125326                                    | 0.004634527                                    |\n",
       "| X512_Group1C_142dpi_LV_top_162_G_A2_P128.mzXML | 512                                            | naive                                          | 142dpi                                         | LV_top                                         | A2                                             | P128                                           | 0.06089544                                     | 0.08531598                                     | 0.001798692                                    | 0.002720909                                    | 0.002227292                                    |\n",
       "| X513_Group1C_142dpi_LV_top_163_G_A3_P128.mzXML | 513                                            | naive                                          | 142dpi                                         | LV_top                                         | A3                                             | P128                                           | 0.06358250                                     | 0.15053308                                     | 0.004499186                                    | 0.015100000                                    | 0.023117551                                    |\n",
       "| X514_Group1C_142dpi_LV_top_164_G_A4_P128.mzXML | 514                                            | naive                                          | 142dpi                                         | LV_top                                         | A4                                             | P128                                           | 0.06126091                                     | 0.06998223                                     | 0.001322410                                    | 0.001122947                                    | 0.001015702                                    |\n",
       "| X515_Group1C_142dpi_LV_top_165_G_A5_P128.mzXML | 515                                            | naive                                          | 142dpi                                         | LV_top                                         | A5                                             | P128                                           | 0.09292099                                     | 0.14679559                                     | 0.003463710                                    | 0.015600000                                    | 0.019521396                                    |\n",
       "| X531_Group1C_142dpi_LV_top_166_G_A6_P128.mzXML | 531                                            | naive                                          | 142dpi                                         | LV_top                                         | A6                                             | P128                                           | 0.08085245                                     | 0.14170698                                     | 0.003290438                                    | 0.013793976                                    | 0.011966565                                    |\n",
       "\n"
      ],
      "text/plain": [
       "  filename                                       MouseID Treatmentgroup DPI   \n",
       "1 X511_Group1C_142dpi_LV_top_161_G_A1_P128.mzXML 511     naive          142dpi\n",
       "2 X512_Group1C_142dpi_LV_top_162_G_A2_P128.mzXML 512     naive          142dpi\n",
       "3 X513_Group1C_142dpi_LV_top_163_G_A3_P128.mzXML 513     naive          142dpi\n",
       "4 X514_Group1C_142dpi_LV_top_164_G_A4_P128.mzXML 514     naive          142dpi\n",
       "5 X515_Group1C_142dpi_LV_top_165_G_A5_P128.mzXML 515     naive          142dpi\n",
       "6 X531_Group1C_142dpi_LV_top_166_G_A6_P128.mzXML 531     naive          142dpi\n",
       "  organ  well_position plate mass_400   mass_500   mass_600    mass_700   \n",
       "1 LV_top A1            P128  0.06556544 0.09573166 0.002550993 0.005125326\n",
       "2 LV_top A2            P128  0.06089544 0.08531598 0.001798692 0.002720909\n",
       "3 LV_top A3            P128  0.06358250 0.15053308 0.004499186 0.015100000\n",
       "4 LV_top A4            P128  0.06126091 0.06998223 0.001322410 0.001122947\n",
       "5 LV_top A5            P128  0.09292099 0.14679559 0.003463710 0.015600000\n",
       "6 LV_top A6            P128  0.08085245 0.14170698 0.003290438 0.013793976\n",
       "  mass_800   \n",
       "1 0.004634527\n",
       "2 0.002227292\n",
       "3 0.023117551\n",
       "4 0.001015702\n",
       "5 0.019521396\n",
       "6 0.011966565"
      ]
     },
     "metadata": {},
     "output_type": "display_data"
    },
    {
     "data": {
      "text/html": [
       "<ol class=list-inline>\n",
       "\t<li>30</li>\n",
       "\t<li>12</li>\n",
       "</ol>\n"
      ],
      "text/latex": [
       "\\begin{enumerate*}\n",
       "\\item 30\n",
       "\\item 12\n",
       "\\end{enumerate*}\n"
      ],
      "text/markdown": [
       "1. 30\n",
       "2. 12\n",
       "\n",
       "\n"
      ],
      "text/plain": [
       "[1] 30 12"
      ]
     },
     "metadata": {},
     "output_type": "display_data"
    }
   ],
   "source": [
    "features_pos<-droplevels(subset(a, a$Treatmentgroup==c(\"naive\")|a$Treatmentgroup==c(\"combo\")))\n",
    "head(features_pos)\n",
    "dim(features_pos)"
   ]
  },
  {
   "cell_type": "code",
   "execution_count": 4,
   "metadata": {
    "scrolled": false
   },
   "outputs": [
    {
     "data": {
      "text/html": [
       "<table>\n",
       "<thead><tr><th scope=col>mass_400</th><th scope=col>mass_500</th><th scope=col>mass_600</th><th scope=col>mass_700</th><th scope=col>mass_800</th></tr></thead>\n",
       "<tbody>\n",
       "\t<tr><td>0.06556544 </td><td>0.09573166 </td><td>0.002550993</td><td>0.005125326</td><td>0.004634527</td></tr>\n",
       "\t<tr><td>0.06089544 </td><td>0.08531598 </td><td>0.001798692</td><td>0.002720909</td><td>0.002227292</td></tr>\n",
       "\t<tr><td>0.06358250 </td><td>0.15053308 </td><td>0.004499186</td><td>0.015100000</td><td>0.023117551</td></tr>\n",
       "\t<tr><td>0.06126091 </td><td>0.06998223 </td><td>0.001322410</td><td>0.001122947</td><td>0.001015702</td></tr>\n",
       "\t<tr><td>0.09292099 </td><td>0.14679559 </td><td>0.003463710</td><td>0.015600000</td><td>0.019521396</td></tr>\n",
       "\t<tr><td>0.08085245 </td><td>0.14170698 </td><td>0.003290438</td><td>0.013793976</td><td>0.011966565</td></tr>\n",
       "</tbody>\n",
       "</table>\n"
      ],
      "text/latex": [
       "\\begin{tabular}{r|lllll}\n",
       " mass\\_400 & mass\\_500 & mass\\_600 & mass\\_700 & mass\\_800\\\\\n",
       "\\hline\n",
       "\t 0.06556544  & 0.09573166  & 0.002550993 & 0.005125326 & 0.004634527\\\\\n",
       "\t 0.06089544  & 0.08531598  & 0.001798692 & 0.002720909 & 0.002227292\\\\\n",
       "\t 0.06358250  & 0.15053308  & 0.004499186 & 0.015100000 & 0.023117551\\\\\n",
       "\t 0.06126091  & 0.06998223  & 0.001322410 & 0.001122947 & 0.001015702\\\\\n",
       "\t 0.09292099  & 0.14679559  & 0.003463710 & 0.015600000 & 0.019521396\\\\\n",
       "\t 0.08085245  & 0.14170698  & 0.003290438 & 0.013793976 & 0.011966565\\\\\n",
       "\\end{tabular}\n"
      ],
      "text/markdown": [
       "\n",
       "| mass_400 | mass_500 | mass_600 | mass_700 | mass_800 |\n",
       "|---|---|---|---|---|\n",
       "| 0.06556544  | 0.09573166  | 0.002550993 | 0.005125326 | 0.004634527 |\n",
       "| 0.06089544  | 0.08531598  | 0.001798692 | 0.002720909 | 0.002227292 |\n",
       "| 0.06358250  | 0.15053308  | 0.004499186 | 0.015100000 | 0.023117551 |\n",
       "| 0.06126091  | 0.06998223  | 0.001322410 | 0.001122947 | 0.001015702 |\n",
       "| 0.09292099  | 0.14679559  | 0.003463710 | 0.015600000 | 0.019521396 |\n",
       "| 0.08085245  | 0.14170698  | 0.003290438 | 0.013793976 | 0.011966565 |\n",
       "\n"
      ],
      "text/plain": [
       "  mass_400   mass_500   mass_600    mass_700    mass_800   \n",
       "1 0.06556544 0.09573166 0.002550993 0.005125326 0.004634527\n",
       "2 0.06089544 0.08531598 0.001798692 0.002720909 0.002227292\n",
       "3 0.06358250 0.15053308 0.004499186 0.015100000 0.023117551\n",
       "4 0.06126091 0.06998223 0.001322410 0.001122947 0.001015702\n",
       "5 0.09292099 0.14679559 0.003463710 0.015600000 0.019521396\n",
       "6 0.08085245 0.14170698 0.003290438 0.013793976 0.011966565"
      ]
     },
     "metadata": {},
     "output_type": "display_data"
    },
    {
     "data": {
      "text/html": [
       "<dl class=dl-horizontal>\n",
       "\t<dt>mass_400</dt>\n",
       "\t\t<dd>1</dd>\n",
       "\t<dt>mass_500</dt>\n",
       "\t\t<dd>2</dd>\n",
       "\t<dt>mass_600</dt>\n",
       "\t\t<dd>3</dd>\n",
       "\t<dt>mass_700</dt>\n",
       "\t\t<dd>4</dd>\n",
       "\t<dt>mass_800</dt>\n",
       "\t\t<dd>5</dd>\n",
       "</dl>\n"
      ],
      "text/latex": [
       "\\begin{description*}\n",
       "\\item[mass\\textbackslash{}\\_400] 1\n",
       "\\item[mass\\textbackslash{}\\_500] 2\n",
       "\\item[mass\\textbackslash{}\\_600] 3\n",
       "\\item[mass\\textbackslash{}\\_700] 4\n",
       "\\item[mass\\textbackslash{}\\_800] 5\n",
       "\\end{description*}\n"
      ],
      "text/markdown": [
       "mass_400\n",
       ":   1mass_500\n",
       ":   2mass_600\n",
       ":   3mass_700\n",
       ":   4mass_800\n",
       ":   5\n",
       "\n"
      ],
      "text/plain": [
       "mass_400 mass_500 mass_600 mass_700 mass_800 \n",
       "       1        2        3        4        5 "
      ]
     },
     "metadata": {},
     "output_type": "display_data"
    },
    {
     "data": {
      "text/html": [
       "<table>\n",
       "<thead><tr><th></th><th scope=col>mass_400</th><th scope=col>mass_500</th><th scope=col>mass_600</th><th scope=col>mass_700</th><th scope=col>mass_800</th></tr></thead>\n",
       "<tbody>\n",
       "\t<tr><th scope=row>1</th><td>0.06556544 </td><td>0.09573166 </td><td>0.002550993</td><td>0.005125326</td><td>0.004634527</td></tr>\n",
       "\t<tr><th scope=row>2</th><td>0.06089544 </td><td>0.08531598 </td><td>0.001798692</td><td>0.002720909</td><td>0.002227292</td></tr>\n",
       "\t<tr><th scope=row>3</th><td>0.06358250 </td><td>0.15053308 </td><td>0.004499186</td><td>0.015100000</td><td>0.023117551</td></tr>\n",
       "\t<tr><th scope=row>4</th><td>0.06126091 </td><td>0.06998223 </td><td>0.001322410</td><td>0.001122947</td><td>0.001015702</td></tr>\n",
       "\t<tr><th scope=row>5</th><td>0.09292099 </td><td>0.14679559 </td><td>0.003463710</td><td>0.015600000</td><td>0.019521396</td></tr>\n",
       "\t<tr><th scope=row>6</th><td>0.08085245 </td><td>0.14170698 </td><td>0.003290438</td><td>0.013793976</td><td>0.011966565</td></tr>\n",
       "\t<tr><th scope=row>7</th><td>0.06617964 </td><td>0.09732486 </td><td>0.002248258</td><td>0.005990147</td><td>0.008215334</td></tr>\n",
       "\t<tr><th scope=row>8</th><td>0.07325732 </td><td>0.11891559 </td><td>0.001863646</td><td>0.013500000</td><td>0.012884615</td></tr>\n",
       "\t<tr><th scope=row>9</th><td>0.04335837 </td><td>0.06906421 </td><td>0.001902407</td><td>0.016636705</td><td>0.006215393</td></tr>\n",
       "\t<tr><th scope=row>10</th><td>0.04001047 </td><td>0.06406205 </td><td>0.000720707</td><td>0.003210069</td><td>0.001953230</td></tr>\n",
       "\t<tr><th scope=row>11</th><td>0.06379014 </td><td>0.09480000 </td><td>0.002165375</td><td>0.015541595</td><td>0.005689063</td></tr>\n",
       "\t<tr><th scope=row>12</th><td>0.05818840 </td><td>0.07474114 </td><td>0.001378898</td><td>0.001601977</td><td>0.001682853</td></tr>\n",
       "\t<tr><th scope=row>13</th><td>0.08639631 </td><td>0.12010679 </td><td>0.002203362</td><td>0.023472311</td><td>0.036662718</td></tr>\n",
       "\t<tr><th scope=row>14</th><td>0.07652982 </td><td>0.11181941 </td><td>0.001244093</td><td>0.007312124</td><td>0.005641256</td></tr>\n",
       "\t<tr><th scope=row>15</th><td>0.07281499 </td><td>0.14099352 </td><td>0.002302861</td><td>0.019800000</td><td>0.027806219</td></tr>\n",
       "\t<tr><th scope=row>21</th><td>0.04435074 </td><td>0.10357424 </td><td>0.002740302</td><td>0.014637169</td><td>0.013619342</td></tr>\n",
       "\t<tr><th scope=row>22</th><td>0.05074441 </td><td>0.05399513 </td><td>0.000439880</td><td>0.000000000</td><td>0.000000000</td></tr>\n",
       "\t<tr><th scope=row>23</th><td>0.08402096 </td><td>0.10322091 </td><td>0.001080063</td><td>0.007954710</td><td>0.006277986</td></tr>\n",
       "\t<tr><th scope=row>24</th><td>0.06495959 </td><td>0.08120000 </td><td>0.002153735</td><td>0.005573463</td><td>0.003175823</td></tr>\n",
       "\t<tr><th scope=row>25</th><td>0.10998592 </td><td>0.10900000 </td><td>0.002556324</td><td>0.017670957</td><td>0.020444511</td></tr>\n",
       "\t<tr><th scope=row>36</th><td>0.05022476 </td><td>0.05664108 </td><td>0.001486479</td><td>0.015295160</td><td>0.004006798</td></tr>\n",
       "\t<tr><th scope=row>37</th><td>0.05690180 </td><td>0.04530000 </td><td>0.001737900</td><td>0.011575258</td><td>0.014760988</td></tr>\n",
       "\t<tr><th scope=row>38</th><td>0.04649618 </td><td>0.06371565 </td><td>0.000678053</td><td>0.004187560</td><td>0.001400377</td></tr>\n",
       "\t<tr><th scope=row>39</th><td>0.07672421 </td><td>0.11115446 </td><td>0.000918548</td><td>0.028600000</td><td>0.043169339</td></tr>\n",
       "\t<tr><th scope=row>40</th><td>0.07720944 </td><td>0.14229549 </td><td>0.002831119</td><td>0.032700000</td><td>0.034874906</td></tr>\n",
       "\t<tr><th scope=row>51</th><td>0.02756127 </td><td>0.03710000 </td><td>0.001257702</td><td>0.008295842</td><td>0.005364175</td></tr>\n",
       "\t<tr><th scope=row>52</th><td>0.03897716 </td><td>0.04290000 </td><td>0.001179494</td><td>0.012858620</td><td>0.007386426</td></tr>\n",
       "\t<tr><th scope=row>53</th><td>0.08449990 </td><td>0.08097787 </td><td>0.002082846</td><td>0.018636034</td><td>0.028211908</td></tr>\n",
       "\t<tr><th scope=row>54</th><td>0.08908705 </td><td>0.11919058 </td><td>0.001717225</td><td>0.016200000</td><td>0.019034462</td></tr>\n",
       "\t<tr><th scope=row>55</th><td>0.07858601 </td><td>0.12188083 </td><td>0.001852634</td><td>0.031864861</td><td>0.047267378</td></tr>\n",
       "</tbody>\n",
       "</table>\n"
      ],
      "text/latex": [
       "\\begin{tabular}{r|lllll}\n",
       "  & mass\\_400 & mass\\_500 & mass\\_600 & mass\\_700 & mass\\_800\\\\\n",
       "\\hline\n",
       "\t1 & 0.06556544  & 0.09573166  & 0.002550993 & 0.005125326 & 0.004634527\\\\\n",
       "\t2 & 0.06089544  & 0.08531598  & 0.001798692 & 0.002720909 & 0.002227292\\\\\n",
       "\t3 & 0.06358250  & 0.15053308  & 0.004499186 & 0.015100000 & 0.023117551\\\\\n",
       "\t4 & 0.06126091  & 0.06998223  & 0.001322410 & 0.001122947 & 0.001015702\\\\\n",
       "\t5 & 0.09292099  & 0.14679559  & 0.003463710 & 0.015600000 & 0.019521396\\\\\n",
       "\t6 & 0.08085245  & 0.14170698  & 0.003290438 & 0.013793976 & 0.011966565\\\\\n",
       "\t7 & 0.06617964  & 0.09732486  & 0.002248258 & 0.005990147 & 0.008215334\\\\\n",
       "\t8 & 0.07325732  & 0.11891559  & 0.001863646 & 0.013500000 & 0.012884615\\\\\n",
       "\t9 & 0.04335837  & 0.06906421  & 0.001902407 & 0.016636705 & 0.006215393\\\\\n",
       "\t10 & 0.04001047  & 0.06406205  & 0.000720707 & 0.003210069 & 0.001953230\\\\\n",
       "\t11 & 0.06379014  & 0.09480000  & 0.002165375 & 0.015541595 & 0.005689063\\\\\n",
       "\t12 & 0.05818840  & 0.07474114  & 0.001378898 & 0.001601977 & 0.001682853\\\\\n",
       "\t13 & 0.08639631  & 0.12010679  & 0.002203362 & 0.023472311 & 0.036662718\\\\\n",
       "\t14 & 0.07652982  & 0.11181941  & 0.001244093 & 0.007312124 & 0.005641256\\\\\n",
       "\t15 & 0.07281499  & 0.14099352  & 0.002302861 & 0.019800000 & 0.027806219\\\\\n",
       "\t21 & 0.04435074  & 0.10357424  & 0.002740302 & 0.014637169 & 0.013619342\\\\\n",
       "\t22 & 0.05074441  & 0.05399513  & 0.000439880 & 0.000000000 & 0.000000000\\\\\n",
       "\t23 & 0.08402096  & 0.10322091  & 0.001080063 & 0.007954710 & 0.006277986\\\\\n",
       "\t24 & 0.06495959  & 0.08120000  & 0.002153735 & 0.005573463 & 0.003175823\\\\\n",
       "\t25 & 0.10998592  & 0.10900000  & 0.002556324 & 0.017670957 & 0.020444511\\\\\n",
       "\t36 & 0.05022476  & 0.05664108  & 0.001486479 & 0.015295160 & 0.004006798\\\\\n",
       "\t37 & 0.05690180  & 0.04530000  & 0.001737900 & 0.011575258 & 0.014760988\\\\\n",
       "\t38 & 0.04649618  & 0.06371565  & 0.000678053 & 0.004187560 & 0.001400377\\\\\n",
       "\t39 & 0.07672421  & 0.11115446  & 0.000918548 & 0.028600000 & 0.043169339\\\\\n",
       "\t40 & 0.07720944  & 0.14229549  & 0.002831119 & 0.032700000 & 0.034874906\\\\\n",
       "\t51 & 0.02756127  & 0.03710000  & 0.001257702 & 0.008295842 & 0.005364175\\\\\n",
       "\t52 & 0.03897716  & 0.04290000  & 0.001179494 & 0.012858620 & 0.007386426\\\\\n",
       "\t53 & 0.08449990  & 0.08097787  & 0.002082846 & 0.018636034 & 0.028211908\\\\\n",
       "\t54 & 0.08908705  & 0.11919058  & 0.001717225 & 0.016200000 & 0.019034462\\\\\n",
       "\t55 & 0.07858601  & 0.12188083  & 0.001852634 & 0.031864861 & 0.047267378\\\\\n",
       "\\end{tabular}\n"
      ],
      "text/markdown": [
       "\n",
       "| <!--/--> | mass_400 | mass_500 | mass_600 | mass_700 | mass_800 |\n",
       "|---|---|---|---|---|---|\n",
       "| 1 | 0.06556544  | 0.09573166  | 0.002550993 | 0.005125326 | 0.004634527 |\n",
       "| 2 | 0.06089544  | 0.08531598  | 0.001798692 | 0.002720909 | 0.002227292 |\n",
       "| 3 | 0.06358250  | 0.15053308  | 0.004499186 | 0.015100000 | 0.023117551 |\n",
       "| 4 | 0.06126091  | 0.06998223  | 0.001322410 | 0.001122947 | 0.001015702 |\n",
       "| 5 | 0.09292099  | 0.14679559  | 0.003463710 | 0.015600000 | 0.019521396 |\n",
       "| 6 | 0.08085245  | 0.14170698  | 0.003290438 | 0.013793976 | 0.011966565 |\n",
       "| 7 | 0.06617964  | 0.09732486  | 0.002248258 | 0.005990147 | 0.008215334 |\n",
       "| 8 | 0.07325732  | 0.11891559  | 0.001863646 | 0.013500000 | 0.012884615 |\n",
       "| 9 | 0.04335837  | 0.06906421  | 0.001902407 | 0.016636705 | 0.006215393 |\n",
       "| 10 | 0.04001047  | 0.06406205  | 0.000720707 | 0.003210069 | 0.001953230 |\n",
       "| 11 | 0.06379014  | 0.09480000  | 0.002165375 | 0.015541595 | 0.005689063 |\n",
       "| 12 | 0.05818840  | 0.07474114  | 0.001378898 | 0.001601977 | 0.001682853 |\n",
       "| 13 | 0.08639631  | 0.12010679  | 0.002203362 | 0.023472311 | 0.036662718 |\n",
       "| 14 | 0.07652982  | 0.11181941  | 0.001244093 | 0.007312124 | 0.005641256 |\n",
       "| 15 | 0.07281499  | 0.14099352  | 0.002302861 | 0.019800000 | 0.027806219 |\n",
       "| 21 | 0.04435074  | 0.10357424  | 0.002740302 | 0.014637169 | 0.013619342 |\n",
       "| 22 | 0.05074441  | 0.05399513  | 0.000439880 | 0.000000000 | 0.000000000 |\n",
       "| 23 | 0.08402096  | 0.10322091  | 0.001080063 | 0.007954710 | 0.006277986 |\n",
       "| 24 | 0.06495959  | 0.08120000  | 0.002153735 | 0.005573463 | 0.003175823 |\n",
       "| 25 | 0.10998592  | 0.10900000  | 0.002556324 | 0.017670957 | 0.020444511 |\n",
       "| 36 | 0.05022476  | 0.05664108  | 0.001486479 | 0.015295160 | 0.004006798 |\n",
       "| 37 | 0.05690180  | 0.04530000  | 0.001737900 | 0.011575258 | 0.014760988 |\n",
       "| 38 | 0.04649618  | 0.06371565  | 0.000678053 | 0.004187560 | 0.001400377 |\n",
       "| 39 | 0.07672421  | 0.11115446  | 0.000918548 | 0.028600000 | 0.043169339 |\n",
       "| 40 | 0.07720944  | 0.14229549  | 0.002831119 | 0.032700000 | 0.034874906 |\n",
       "| 51 | 0.02756127  | 0.03710000  | 0.001257702 | 0.008295842 | 0.005364175 |\n",
       "| 52 | 0.03897716  | 0.04290000  | 0.001179494 | 0.012858620 | 0.007386426 |\n",
       "| 53 | 0.08449990  | 0.08097787  | 0.002082846 | 0.018636034 | 0.028211908 |\n",
       "| 54 | 0.08908705  | 0.11919058  | 0.001717225 | 0.016200000 | 0.019034462 |\n",
       "| 55 | 0.07858601  | 0.12188083  | 0.001852634 | 0.031864861 | 0.047267378 |\n",
       "\n"
      ],
      "text/plain": [
       "   mass_400   mass_500   mass_600    mass_700    mass_800   \n",
       "1  0.06556544 0.09573166 0.002550993 0.005125326 0.004634527\n",
       "2  0.06089544 0.08531598 0.001798692 0.002720909 0.002227292\n",
       "3  0.06358250 0.15053308 0.004499186 0.015100000 0.023117551\n",
       "4  0.06126091 0.06998223 0.001322410 0.001122947 0.001015702\n",
       "5  0.09292099 0.14679559 0.003463710 0.015600000 0.019521396\n",
       "6  0.08085245 0.14170698 0.003290438 0.013793976 0.011966565\n",
       "7  0.06617964 0.09732486 0.002248258 0.005990147 0.008215334\n",
       "8  0.07325732 0.11891559 0.001863646 0.013500000 0.012884615\n",
       "9  0.04335837 0.06906421 0.001902407 0.016636705 0.006215393\n",
       "10 0.04001047 0.06406205 0.000720707 0.003210069 0.001953230\n",
       "11 0.06379014 0.09480000 0.002165375 0.015541595 0.005689063\n",
       "12 0.05818840 0.07474114 0.001378898 0.001601977 0.001682853\n",
       "13 0.08639631 0.12010679 0.002203362 0.023472311 0.036662718\n",
       "14 0.07652982 0.11181941 0.001244093 0.007312124 0.005641256\n",
       "15 0.07281499 0.14099352 0.002302861 0.019800000 0.027806219\n",
       "21 0.04435074 0.10357424 0.002740302 0.014637169 0.013619342\n",
       "22 0.05074441 0.05399513 0.000439880 0.000000000 0.000000000\n",
       "23 0.08402096 0.10322091 0.001080063 0.007954710 0.006277986\n",
       "24 0.06495959 0.08120000 0.002153735 0.005573463 0.003175823\n",
       "25 0.10998592 0.10900000 0.002556324 0.017670957 0.020444511\n",
       "36 0.05022476 0.05664108 0.001486479 0.015295160 0.004006798\n",
       "37 0.05690180 0.04530000 0.001737900 0.011575258 0.014760988\n",
       "38 0.04649618 0.06371565 0.000678053 0.004187560 0.001400377\n",
       "39 0.07672421 0.11115446 0.000918548 0.028600000 0.043169339\n",
       "40 0.07720944 0.14229549 0.002831119 0.032700000 0.034874906\n",
       "51 0.02756127 0.03710000 0.001257702 0.008295842 0.005364175\n",
       "52 0.03897716 0.04290000 0.001179494 0.012858620 0.007386426\n",
       "53 0.08449990 0.08097787 0.002082846 0.018636034 0.028211908\n",
       "54 0.08908705 0.11919058 0.001717225 0.016200000 0.019034462\n",
       "55 0.07858601 0.12188083 0.001852634 0.031864861 0.047267378"
      ]
     },
     "metadata": {},
     "output_type": "display_data"
    },
    {
     "data": {
      "text/html": [
       "<table>\n",
       "<thead><tr><th scope=col>filename</th><th scope=col>MouseID</th><th scope=col>Treatmentgroup</th><th scope=col>DPI</th><th scope=col>organ</th><th scope=col>well_position</th><th scope=col>plate</th><th scope=col>mass_400</th><th scope=col>mass_500</th><th scope=col>mass_600</th><th scope=col>mass_700</th><th scope=col>mass_800</th></tr></thead>\n",
       "<tbody>\n",
       "\t<tr><td>X511_Group1C_142dpi_LV_top_161_G_A1_P128.mzXML</td><td>511                                           </td><td>naive                                         </td><td>142dpi                                        </td><td>LV_top                                        </td><td>A1                                            </td><td>P128                                          </td><td>0.06556544                                    </td><td>0.09573166                                    </td><td>0.002550993                                   </td><td>0.005125326                                   </td><td>0.004634527                                   </td></tr>\n",
       "\t<tr><td>X512_Group1C_142dpi_LV_top_162_G_A2_P128.mzXML</td><td>512                                           </td><td>naive                                         </td><td>142dpi                                        </td><td>LV_top                                        </td><td>A2                                            </td><td>P128                                          </td><td>0.06089544                                    </td><td>0.08531598                                    </td><td>0.001798692                                   </td><td>0.002720909                                   </td><td>0.002227292                                   </td></tr>\n",
       "\t<tr><td>X513_Group1C_142dpi_LV_top_163_G_A3_P128.mzXML</td><td>513                                           </td><td>naive                                         </td><td>142dpi                                        </td><td>LV_top                                        </td><td>A3                                            </td><td>P128                                          </td><td>0.06358250                                    </td><td>0.15053308                                    </td><td>0.004499186                                   </td><td>0.015100000                                   </td><td>0.023117551                                   </td></tr>\n",
       "\t<tr><td>X514_Group1C_142dpi_LV_top_164_G_A4_P128.mzXML</td><td>514                                           </td><td>naive                                         </td><td>142dpi                                        </td><td>LV_top                                        </td><td>A4                                            </td><td>P128                                          </td><td>0.06126091                                    </td><td>0.06998223                                    </td><td>0.001322410                                   </td><td>0.001122947                                   </td><td>0.001015702                                   </td></tr>\n",
       "\t<tr><td>X515_Group1C_142dpi_LV_top_165_G_A5_P128.mzXML</td><td>515                                           </td><td>naive                                         </td><td>142dpi                                        </td><td>LV_top                                        </td><td>A5                                            </td><td>P128                                          </td><td>0.09292099                                    </td><td>0.14679559                                    </td><td>0.003463710                                   </td><td>0.015600000                                   </td><td>0.019521396                                   </td></tr>\n",
       "\t<tr><td>X531_Group1C_142dpi_LV_top_166_G_A6_P128.mzXML</td><td>531                                           </td><td>naive                                         </td><td>142dpi                                        </td><td>LV_top                                        </td><td>A6                                            </td><td>P128                                          </td><td>0.08085245                                    </td><td>0.14170698                                    </td><td>0.003290438                                   </td><td>0.013793976                                   </td><td>0.011966565                                   </td></tr>\n",
       "</tbody>\n",
       "</table>\n"
      ],
      "text/latex": [
       "\\begin{tabular}{r|llllllllllll}\n",
       " filename & MouseID & Treatmentgroup & DPI & organ & well\\_position & plate & mass\\_400 & mass\\_500 & mass\\_600 & mass\\_700 & mass\\_800\\\\\n",
       "\\hline\n",
       "\t X511\\_Group1C\\_142dpi\\_LV\\_top\\_161\\_G\\_A1\\_P128.mzXML & 511                                                            & naive                                                          & 142dpi                                                         & LV\\_top                                                       & A1                                                             & P128                                                           & 0.06556544                                                     & 0.09573166                                                     & 0.002550993                                                    & 0.005125326                                                    & 0.004634527                                                   \\\\\n",
       "\t X512\\_Group1C\\_142dpi\\_LV\\_top\\_162\\_G\\_A2\\_P128.mzXML & 512                                                            & naive                                                          & 142dpi                                                         & LV\\_top                                                       & A2                                                             & P128                                                           & 0.06089544                                                     & 0.08531598                                                     & 0.001798692                                                    & 0.002720909                                                    & 0.002227292                                                   \\\\\n",
       "\t X513\\_Group1C\\_142dpi\\_LV\\_top\\_163\\_G\\_A3\\_P128.mzXML & 513                                                            & naive                                                          & 142dpi                                                         & LV\\_top                                                       & A3                                                             & P128                                                           & 0.06358250                                                     & 0.15053308                                                     & 0.004499186                                                    & 0.015100000                                                    & 0.023117551                                                   \\\\\n",
       "\t X514\\_Group1C\\_142dpi\\_LV\\_top\\_164\\_G\\_A4\\_P128.mzXML & 514                                                            & naive                                                          & 142dpi                                                         & LV\\_top                                                       & A4                                                             & P128                                                           & 0.06126091                                                     & 0.06998223                                                     & 0.001322410                                                    & 0.001122947                                                    & 0.001015702                                                   \\\\\n",
       "\t X515\\_Group1C\\_142dpi\\_LV\\_top\\_165\\_G\\_A5\\_P128.mzXML & 515                                                            & naive                                                          & 142dpi                                                         & LV\\_top                                                       & A5                                                             & P128                                                           & 0.09292099                                                     & 0.14679559                                                     & 0.003463710                                                    & 0.015600000                                                    & 0.019521396                                                   \\\\\n",
       "\t X531\\_Group1C\\_142dpi\\_LV\\_top\\_166\\_G\\_A6\\_P128.mzXML & 531                                                            & naive                                                          & 142dpi                                                         & LV\\_top                                                       & A6                                                             & P128                                                           & 0.08085245                                                     & 0.14170698                                                     & 0.003290438                                                    & 0.013793976                                                    & 0.011966565                                                   \\\\\n",
       "\\end{tabular}\n"
      ],
      "text/markdown": [
       "\n",
       "| filename | MouseID | Treatmentgroup | DPI | organ | well_position | plate | mass_400 | mass_500 | mass_600 | mass_700 | mass_800 |\n",
       "|---|---|---|---|---|---|---|---|---|---|---|---|\n",
       "| X511_Group1C_142dpi_LV_top_161_G_A1_P128.mzXML | 511                                            | naive                                          | 142dpi                                         | LV_top                                         | A1                                             | P128                                           | 0.06556544                                     | 0.09573166                                     | 0.002550993                                    | 0.005125326                                    | 0.004634527                                    |\n",
       "| X512_Group1C_142dpi_LV_top_162_G_A2_P128.mzXML | 512                                            | naive                                          | 142dpi                                         | LV_top                                         | A2                                             | P128                                           | 0.06089544                                     | 0.08531598                                     | 0.001798692                                    | 0.002720909                                    | 0.002227292                                    |\n",
       "| X513_Group1C_142dpi_LV_top_163_G_A3_P128.mzXML | 513                                            | naive                                          | 142dpi                                         | LV_top                                         | A3                                             | P128                                           | 0.06358250                                     | 0.15053308                                     | 0.004499186                                    | 0.015100000                                    | 0.023117551                                    |\n",
       "| X514_Group1C_142dpi_LV_top_164_G_A4_P128.mzXML | 514                                            | naive                                          | 142dpi                                         | LV_top                                         | A4                                             | P128                                           | 0.06126091                                     | 0.06998223                                     | 0.001322410                                    | 0.001122947                                    | 0.001015702                                    |\n",
       "| X515_Group1C_142dpi_LV_top_165_G_A5_P128.mzXML | 515                                            | naive                                          | 142dpi                                         | LV_top                                         | A5                                             | P128                                           | 0.09292099                                     | 0.14679559                                     | 0.003463710                                    | 0.015600000                                    | 0.019521396                                    |\n",
       "| X531_Group1C_142dpi_LV_top_166_G_A6_P128.mzXML | 531                                            | naive                                          | 142dpi                                         | LV_top                                         | A6                                             | P128                                           | 0.08085245                                     | 0.14170698                                     | 0.003290438                                    | 0.013793976                                    | 0.011966565                                    |\n",
       "\n"
      ],
      "text/plain": [
       "  filename                                       MouseID Treatmentgroup DPI   \n",
       "1 X511_Group1C_142dpi_LV_top_161_G_A1_P128.mzXML 511     naive          142dpi\n",
       "2 X512_Group1C_142dpi_LV_top_162_G_A2_P128.mzXML 512     naive          142dpi\n",
       "3 X513_Group1C_142dpi_LV_top_163_G_A3_P128.mzXML 513     naive          142dpi\n",
       "4 X514_Group1C_142dpi_LV_top_164_G_A4_P128.mzXML 514     naive          142dpi\n",
       "5 X515_Group1C_142dpi_LV_top_165_G_A5_P128.mzXML 515     naive          142dpi\n",
       "6 X531_Group1C_142dpi_LV_top_166_G_A6_P128.mzXML 531     naive          142dpi\n",
       "  organ  well_position plate mass_400   mass_500   mass_600    mass_700   \n",
       "1 LV_top A1            P128  0.06556544 0.09573166 0.002550993 0.005125326\n",
       "2 LV_top A2            P128  0.06089544 0.08531598 0.001798692 0.002720909\n",
       "3 LV_top A3            P128  0.06358250 0.15053308 0.004499186 0.015100000\n",
       "4 LV_top A4            P128  0.06126091 0.06998223 0.001322410 0.001122947\n",
       "5 LV_top A5            P128  0.09292099 0.14679559 0.003463710 0.015600000\n",
       "6 LV_top A6            P128  0.08085245 0.14170698 0.003290438 0.013793976\n",
       "  mass_800   \n",
       "1 0.004634527\n",
       "2 0.002227292\n",
       "3 0.023117551\n",
       "4 0.001015702\n",
       "5 0.019521396\n",
       "6 0.011966565"
      ]
     },
     "metadata": {},
     "output_type": "display_data"
    },
    {
     "data": {
      "text/html": [
       "<ol class=list-inline>\n",
       "\t<li>30</li>\n",
       "\t<li>12</li>\n",
       "</ol>\n"
      ],
      "text/latex": [
       "\\begin{enumerate*}\n",
       "\\item 30\n",
       "\\item 12\n",
       "\\end{enumerate*}\n"
      ],
      "text/markdown": [
       "1. 30\n",
       "2. 12\n",
       "\n",
       "\n"
      ],
      "text/plain": [
       "[1] 30 12"
      ]
     },
     "metadata": {},
     "output_type": "display_data"
    },
    {
     "data": {
      "text/html": [
       "<ol class=list-inline>\n",
       "\t<li>30</li>\n",
       "\t<li>5</li>\n",
       "</ol>\n"
      ],
      "text/latex": [
       "\\begin{enumerate*}\n",
       "\\item 30\n",
       "\\item 5\n",
       "\\end{enumerate*}\n"
      ],
      "text/markdown": [
       "1. 30\n",
       "2. 5\n",
       "\n",
       "\n"
      ],
      "text/plain": [
       "[1] 30  5"
      ]
     },
     "metadata": {},
     "output_type": "display_data"
    },
    {
     "data": {
      "text/html": [
       "<ol class=list-inline>\n",
       "\t<li>30</li>\n",
       "\t<li>5</li>\n",
       "</ol>\n"
      ],
      "text/latex": [
       "\\begin{enumerate*}\n",
       "\\item 30\n",
       "\\item 5\n",
       "\\end{enumerate*}\n"
      ],
      "text/markdown": [
       "1. 30\n",
       "2. 5\n",
       "\n",
       "\n"
      ],
      "text/plain": [
       "[1] 30  5"
      ]
     },
     "metadata": {},
     "output_type": "display_data"
    },
    {
     "data": {
      "text/html": [
       "<ol class=list-inline>\n",
       "\t<li>30</li>\n",
       "\t<li>12</li>\n",
       "</ol>\n"
      ],
      "text/latex": [
       "\\begin{enumerate*}\n",
       "\\item 30\n",
       "\\item 12\n",
       "\\end{enumerate*}\n"
      ],
      "text/markdown": [
       "1. 30\n",
       "2. 12\n",
       "\n",
       "\n"
      ],
      "text/plain": [
       "[1] 30 12"
      ]
     },
     "metadata": {},
     "output_type": "display_data"
    }
   ],
   "source": [
    "noMeta<-features_pos[,8:12]\n",
    "head(noMeta)\n",
    "not_zero<-which(colSums(noMeta) != 0)\n",
    "head(not_zero)\n",
    "nonzero <- noMeta[, not_zero]\n",
    "nonzero\n",
    "nonzero_wMeta<-cbind(features_pos[,1:7], nonzero)\n",
    "head(nonzero_wMeta)\n",
    "dim(features_pos)\n",
    "dim(noMeta)\n",
    "dim(nonzero)\n",
    "dim(nonzero_wMeta)"
   ]
  },
  {
   "cell_type": "code",
   "execution_count": 5,
   "metadata": {
    "scrolled": true
   },
   "outputs": [
    {
     "data": {
      "text/html": [
       "<ol class=list-inline>\n",
       "\t<li>0.870194456435353</li>\n",
       "\t<li>0.115978749531323</li>\n",
       "\t<li>0.0975257598239064</li>\n",
       "\t<li>0.285440870895821</li>\n",
       "\t<li>0.412375778055245</li>\n",
       "</ol>\n"
      ],
      "text/latex": [
       "\\begin{enumerate*}\n",
       "\\item 0.870194456435353\n",
       "\\item 0.115978749531323\n",
       "\\item 0.0975257598239064\n",
       "\\item 0.285440870895821\n",
       "\\item 0.412375778055245\n",
       "\\end{enumerate*}\n"
      ],
      "text/markdown": [
       "1. 0.870194456435353\n",
       "2. 0.115978749531323\n",
       "3. 0.0975257598239064\n",
       "4. 0.285440870895821\n",
       "5. 0.412375778055245\n",
       "\n",
       "\n"
      ],
      "text/plain": [
       "[1] 0.87019446 0.11597875 0.09752576 0.28544087 0.41237578"
      ]
     },
     "metadata": {},
     "output_type": "display_data"
    },
    {
     "data": {
      "text/html": [
       "<ol class=list-inline>\n",
       "\t<li>0.870194456435353</li>\n",
       "\t<li>0.289946873828308</li>\n",
       "\t<li>0.289946873828308</li>\n",
       "\t<li>0.475734784826369</li>\n",
       "\t<li>0.515469722569056</li>\n",
       "</ol>\n"
      ],
      "text/latex": [
       "\\begin{enumerate*}\n",
       "\\item 0.870194456435353\n",
       "\\item 0.289946873828308\n",
       "\\item 0.289946873828308\n",
       "\\item 0.475734784826369\n",
       "\\item 0.515469722569056\n",
       "\\end{enumerate*}\n"
      ],
      "text/markdown": [
       "1. 0.870194456435353\n",
       "2. 0.289946873828308\n",
       "3. 0.289946873828308\n",
       "4. 0.475734784826369\n",
       "5. 0.515469722569056\n",
       "\n",
       "\n"
      ],
      "text/plain": [
       "[1] 0.8701945 0.2899469 0.2899469 0.4757348 0.5154697"
      ]
     },
     "metadata": {},
     "output_type": "display_data"
    }
   ],
   "source": [
    "pval<-c()\n",
    "\n",
    "for (i in 8:ncol(nonzero_wMeta)) \n",
    "pval<-c(pval,wilcox.test(nonzero_wMeta[,i]~nonzero_wMeta$Treatmentgroup)$p.value)\n",
    "head(pval)\n",
    "pAdj <- p.adjust(pval, method = c(\"fdr\"), n=length(pval)) \n",
    "head(pAdj) \n",
    "\n"
   ]
  },
  {
   "cell_type": "code",
   "execution_count": 6,
   "metadata": {
    "scrolled": true
   },
   "outputs": [
    {
     "data": {
      "text/html": [
       "5"
      ],
      "text/latex": [
       "5"
      ],
      "text/markdown": [
       "5"
      ],
      "text/plain": [
       "[1] 5"
      ]
     },
     "metadata": {},
     "output_type": "display_data"
    }
   ],
   "source": [
    "length(pval)"
   ]
  },
  {
   "cell_type": "code",
   "execution_count": 7,
   "metadata": {
    "scrolled": true
   },
   "outputs": [
    {
     "data": {
      "text/html": [
       "5"
      ],
      "text/latex": [
       "5"
      ],
      "text/markdown": [
       "5"
      ],
      "text/plain": [
       "[1] 5"
      ]
     },
     "metadata": {},
     "output_type": "display_data"
    }
   ],
   "source": [
    "length(pAdj)"
   ]
  },
  {
   "cell_type": "code",
   "execution_count": 8,
   "metadata": {},
   "outputs": [
    {
     "data": {
      "text/html": [
       "<ol class=list-inline>\n",
       "\t<li>2</li>\n",
       "\t<li>5</li>\n",
       "</ol>\n"
      ],
      "text/latex": [
       "\\begin{enumerate*}\n",
       "\\item 2\n",
       "\\item 5\n",
       "\\end{enumerate*}\n"
      ],
      "text/markdown": [
       "1. 2\n",
       "2. 5\n",
       "\n",
       "\n"
      ],
      "text/plain": [
       "[1] 2 5"
      ]
     },
     "metadata": {},
     "output_type": "display_data"
    },
    {
     "data": {
      "text/html": [
       "<table>\n",
       "<thead><tr><th></th><th scope=col>mass_400</th><th scope=col>mass_500</th><th scope=col>mass_600</th></tr></thead>\n",
       "<tbody>\n",
       "\t<tr><th scope=row>combo</th><td>0.06535529 </td><td>0.08480975 </td><td>0.001647487</td></tr>\n",
       "\t<tr><th scope=row>naive</th><td>0.06704021 </td><td>0.10545954 </td><td>0.002197002</td></tr>\n",
       "</tbody>\n",
       "</table>\n"
      ],
      "text/latex": [
       "\\begin{tabular}{r|lll}\n",
       "  & mass\\_400 & mass\\_500 & mass\\_600\\\\\n",
       "\\hline\n",
       "\tcombo & 0.06535529  & 0.08480975  & 0.001647487\\\\\n",
       "\tnaive & 0.06704021  & 0.10545954  & 0.002197002\\\\\n",
       "\\end{tabular}\n"
      ],
      "text/markdown": [
       "\n",
       "| <!--/--> | mass_400 | mass_500 | mass_600 |\n",
       "|---|---|---|---|\n",
       "| combo | 0.06535529  | 0.08480975  | 0.001647487 |\n",
       "| naive | 0.06704021  | 0.10545954  | 0.002197002 |\n",
       "\n"
      ],
      "text/plain": [
       "      mass_400   mass_500   mass_600   \n",
       "combo 0.06535529 0.08480975 0.001647487\n",
       "naive 0.06704021 0.10545954 0.002197002"
      ]
     },
     "metadata": {},
     "output_type": "display_data"
    },
    {
     "data": {
      "text/html": [
       "<dl class=dl-horizontal>\n",
       "\t<dt>mass_400</dt>\n",
       "\t\t<dd>0.974867030776689</dd>\n",
       "\t<dt>mass_500</dt>\n",
       "\t\t<dd>0.80419229897719</dd>\n",
       "\t<dt>mass_600</dt>\n",
       "\t\t<dd>0.749879441794571</dd>\n",
       "\t<dt>mass_700</dt>\n",
       "\t\t<dd>1.40816251929896</dd>\n",
       "\t<dt>mass_800</dt>\n",
       "\t\t<dd>1.47130505568175</dd>\n",
       "</dl>\n"
      ],
      "text/latex": [
       "\\begin{description*}\n",
       "\\item[mass\\textbackslash{}\\_400] 0.974867030776689\n",
       "\\item[mass\\textbackslash{}\\_500] 0.80419229897719\n",
       "\\item[mass\\textbackslash{}\\_600] 0.749879441794571\n",
       "\\item[mass\\textbackslash{}\\_700] 1.40816251929896\n",
       "\\item[mass\\textbackslash{}\\_800] 1.47130505568175\n",
       "\\end{description*}\n"
      ],
      "text/markdown": [
       "mass_400\n",
       ":   0.974867030776689mass_500\n",
       ":   0.80419229897719mass_600\n",
       ":   0.749879441794571mass_700\n",
       ":   1.40816251929896mass_800\n",
       ":   1.47130505568175\n",
       "\n"
      ],
      "text/plain": [
       " mass_400  mass_500  mass_600  mass_700  mass_800 \n",
       "0.9748670 0.8041923 0.7498794 1.4081625 1.4713051 "
      ]
     },
     "metadata": {},
     "output_type": "display_data"
    },
    {
     "data": {
      "text/html": [
       "<ol class=list-inline>\n",
       "\t<li>'numeric'</li>\n",
       "\t<li>'vector'</li>\n",
       "</ol>\n"
      ],
      "text/latex": [
       "\\begin{enumerate*}\n",
       "\\item 'numeric'\n",
       "\\item 'vector'\n",
       "\\end{enumerate*}\n"
      ],
      "text/markdown": [
       "1. 'numeric'\n",
       "2. 'vector'\n",
       "\n",
       "\n"
      ],
      "text/plain": [
       "[1] \"numeric\" \"vector\" "
      ]
     },
     "metadata": {},
     "output_type": "display_data"
    }
   ],
   "source": [
    "avg<- apply(nonzero_wMeta[,8:ncol(nonzero_wMeta)], 2, function(x) tapply(x, nonzero_wMeta$Treatmentgroup, function(x) mean(x))) \n",
    "\n",
    "dim(avg)\n",
    "\n",
    "avg[,1:3]\n",
    "\n",
    "fch <- apply(avg, 2, function(x) x[1]/x[2])\n",
    "\n",
    "head(fch)\n",
    "is(fch)"
   ]
  },
  {
   "cell_type": "code",
   "execution_count": 9,
   "metadata": {
    "scrolled": true
   },
   "outputs": [
    {
     "data": {
      "text/html": [
       "<dl class=dl-horizontal>\n",
       "\t<dt>mass_400</dt>\n",
       "\t\t<dd>0.974867030776689</dd>\n",
       "\t<dt>mass_500</dt>\n",
       "\t\t<dd>0.80419229897719</dd>\n",
       "\t<dt>mass_600</dt>\n",
       "\t\t<dd>0.749879441794571</dd>\n",
       "\t<dt>mass_700</dt>\n",
       "\t\t<dd>1.40816251929896</dd>\n",
       "\t<dt>mass_800</dt>\n",
       "\t\t<dd>1.47130505568175</dd>\n",
       "</dl>\n"
      ],
      "text/latex": [
       "\\begin{description*}\n",
       "\\item[mass\\textbackslash{}\\_400] 0.974867030776689\n",
       "\\item[mass\\textbackslash{}\\_500] 0.80419229897719\n",
       "\\item[mass\\textbackslash{}\\_600] 0.749879441794571\n",
       "\\item[mass\\textbackslash{}\\_700] 1.40816251929896\n",
       "\\item[mass\\textbackslash{}\\_800] 1.47130505568175\n",
       "\\end{description*}\n"
      ],
      "text/markdown": [
       "mass_400\n",
       ":   0.974867030776689mass_500\n",
       ":   0.80419229897719mass_600\n",
       ":   0.749879441794571mass_700\n",
       ":   1.40816251929896mass_800\n",
       ":   1.47130505568175\n",
       "\n"
      ],
      "text/plain": [
       " mass_400  mass_500  mass_600  mass_700  mass_800 \n",
       "0.9748670 0.8041923 0.7498794 1.4081625 1.4713051 "
      ]
     },
     "metadata": {},
     "output_type": "display_data"
    }
   ],
   "source": [
    "fch"
   ]
  },
  {
   "cell_type": "code",
   "execution_count": 10,
   "metadata": {
    "scrolled": false
   },
   "outputs": [],
   "source": [
    "df <- data.frame(fch,pval, pAdj)\n",
    "write.csv(df, \"PC-treat-LVT-wilcox-naive-combo.csv\")"
   ]
  },
  {
   "cell_type": "code",
   "execution_count": null,
   "metadata": {},
   "outputs": [],
   "source": []
  },
  {
   "cell_type": "code",
   "execution_count": null,
   "metadata": {},
   "outputs": [],
   "source": []
  },
  {
   "cell_type": "code",
   "execution_count": null,
   "metadata": {},
   "outputs": [],
   "source": []
  },
  {
   "cell_type": "code",
   "execution_count": null,
   "metadata": {},
   "outputs": [],
   "source": []
  },
  {
   "cell_type": "code",
   "execution_count": null,
   "metadata": {},
   "outputs": [],
   "source": []
  },
  {
   "cell_type": "code",
   "execution_count": null,
   "metadata": {},
   "outputs": [],
   "source": []
  }
 ],
 "metadata": {
  "kernelspec": {
   "display_name": "R",
   "language": "R",
   "name": "ir"
  },
  "language_info": {
   "codemirror_mode": "r",
   "file_extension": ".r",
   "mimetype": "text/x-r-source",
   "name": "R",
   "pygments_lexer": "r",
   "version": "3.6.1"
  }
 },
 "nbformat": 4,
 "nbformat_minor": 2
}
